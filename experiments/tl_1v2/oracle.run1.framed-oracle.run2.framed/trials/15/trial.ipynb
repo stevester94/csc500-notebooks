{
 "cells": [
  {
   "cell_type": "markdown",
   "id": "9fea5f46",
   "metadata": {
    "papermill": {
     "duration": 0.032094,
     "end_time": "2022-03-21T19:55:58.874308",
     "exception": false,
     "start_time": "2022-03-21T19:55:58.842214",
     "status": "completed"
    },
    "tags": []
   },
   "source": [
    "# Transfer Learning Template"
   ]
  },
  {
   "cell_type": "code",
   "execution_count": 1,
   "id": "0902182a",
   "metadata": {
    "execution": {
     "iopub.execute_input": "2022-03-21T19:55:58.942666Z",
     "iopub.status.busy": "2022-03-21T19:55:58.939520Z",
     "iopub.status.idle": "2022-03-21T19:56:00.937756Z",
     "shell.execute_reply": "2022-03-21T19:56:00.936931Z"
    },
    "papermill": {
     "duration": 2.036504,
     "end_time": "2022-03-21T19:56:00.937955",
     "exception": false,
     "start_time": "2022-03-21T19:55:58.901451",
     "status": "completed"
    },
    "tags": []
   },
   "outputs": [],
   "source": [
    "%load_ext autoreload\n",
    "%autoreload 2\n",
    "%matplotlib inline\n",
    "\n",
    "    \n",
    "import os, json, sys, time, random\n",
    "import numpy as np\n",
    "import torch\n",
    "from torch.optim import Adam\n",
    "from  easydict import EasyDict\n",
    "import matplotlib.pyplot as plt\n",
    "\n",
    "from steves_models.steves_ptn import Steves_Prototypical_Network\n",
    "\n",
    "from steves_utils.lazy_iterable_wrapper import Lazy_Iterable_Wrapper\n",
    "from steves_utils.iterable_aggregator import Iterable_Aggregator\n",
    "from steves_utils.ptn_train_eval_test_jig import  PTN_Train_Eval_Test_Jig\n",
    "from steves_utils.torch_sequential_builder import build_sequential\n",
    "from steves_utils.torch_utils import get_dataset_metrics, ptn_confusion_by_domain_over_dataloader\n",
    "from steves_utils.utils_v2 import (per_domain_accuracy_from_confusion, get_datasets_base_path)\n",
    "from steves_utils.PTN.utils import independent_accuracy_assesment\n",
    "\n",
    "from torch.utils.data import DataLoader\n",
    "\n",
    "from steves_utils.stratified_dataset.episodic_accessor import Episodic_Accessor_Factory\n",
    "\n",
    "from steves_utils.ptn_do_report import (\n",
    "    get_loss_curve,\n",
    "    get_results_table,\n",
    "    get_parameters_table,\n",
    "    get_domain_accuracies,\n",
    ")\n",
    "\n",
    "from steves_utils.transforms import get_chained_transform"
   ]
  },
  {
   "cell_type": "markdown",
   "id": "41c840b4",
   "metadata": {
    "papermill": {
     "duration": 0.019126,
     "end_time": "2022-03-21T19:56:00.982610",
     "exception": false,
     "start_time": "2022-03-21T19:56:00.963484",
     "status": "completed"
    },
    "tags": []
   },
   "source": [
    "# Allowed Parameters\n",
    "These are allowed parameters, not defaults\n",
    "Each of these values need to be present in the injected parameters (the notebook will raise an exception if they are not present)\n",
    "\n",
    "Papermill uses the cell tag \"parameters\" to inject the real parameters below this cell.\n",
    "Enable tags to see what I mean"
   ]
  },
  {
   "cell_type": "code",
   "execution_count": 2,
   "id": "fd44eb83",
   "metadata": {
    "execution": {
     "iopub.execute_input": "2022-03-21T19:56:01.026380Z",
     "iopub.status.busy": "2022-03-21T19:56:01.025997Z",
     "iopub.status.idle": "2022-03-21T19:56:01.051402Z",
     "shell.execute_reply": "2022-03-21T19:56:01.050665Z"
    },
    "papermill": {
     "duration": 0.049585,
     "end_time": "2022-03-21T19:56:01.051608",
     "exception": false,
     "start_time": "2022-03-21T19:56:01.002023",
     "status": "completed"
    },
    "tags": []
   },
   "outputs": [],
   "source": [
    "required_parameters = {\n",
    "    \"experiment_name\",\n",
    "    \"lr\",\n",
    "    \"device\",\n",
    "    \"seed\",\n",
    "    \"dataset_seed\",\n",
    "    \"n_shot\",\n",
    "    \"n_query\",\n",
    "    \"n_way\",\n",
    "    \"train_k_factor\",\n",
    "    \"val_k_factor\",\n",
    "    \"test_k_factor\",\n",
    "    \"n_epoch\",\n",
    "    \"patience\",\n",
    "    \"criteria_for_best\",\n",
    "    \"x_net\",\n",
    "    \"datasets\",\n",
    "    \"torch_default_dtype\",\n",
    "    \"NUM_LOGS_PER_EPOCH\",\n",
    "    \"BEST_MODEL_PATH\",\n",
    "    \"x_shape\",\n",
    "}"
   ]
  },
  {
   "cell_type": "code",
   "execution_count": 3,
   "id": "fa3f0049",
   "metadata": {
    "execution": {
     "iopub.execute_input": "2022-03-21T19:56:01.108026Z",
     "iopub.status.busy": "2022-03-21T19:56:01.107271Z",
     "iopub.status.idle": "2022-03-21T19:56:01.132859Z",
     "shell.execute_reply": "2022-03-21T19:56:01.132125Z"
    },
    "papermill": {
     "duration": 0.057763,
     "end_time": "2022-03-21T19:56:01.133038",
     "exception": false,
     "start_time": "2022-03-21T19:56:01.075275",
     "status": "completed"
    },
    "tags": [
     "parameters"
    ]
   },
   "outputs": [],
   "source": [
    "from steves_utils.CORES.utils import (\n",
    "    ALL_NODES,\n",
    "    ALL_NODES_MINIMUM_1000_EXAMPLES,\n",
    "    ALL_DAYS\n",
    ")\n",
    "\n",
    "from steves_utils.ORACLE.utils_v2 import (\n",
    "    ALL_DISTANCES_FEET_NARROWED,\n",
    "    ALL_RUNS,\n",
    "    ALL_SERIAL_NUMBERS,\n",
    ")\n",
    "\n",
    "standalone_parameters = {}\n",
    "standalone_parameters[\"experiment_name\"] = \"STANDALONE PTN\"\n",
    "standalone_parameters[\"lr\"] = 0.001\n",
    "standalone_parameters[\"device\"] = \"cuda\"\n",
    "\n",
    "standalone_parameters[\"seed\"] = 1337\n",
    "standalone_parameters[\"dataset_seed\"] = 1337\n",
    "\n",
    "standalone_parameters[\"n_way\"] = 8\n",
    "standalone_parameters[\"n_shot\"] = 3\n",
    "standalone_parameters[\"n_query\"]  = 2\n",
    "standalone_parameters[\"train_k_factor\"] = 1\n",
    "standalone_parameters[\"val_k_factor\"] = 2\n",
    "standalone_parameters[\"test_k_factor\"] = 2\n",
    "\n",
    "\n",
    "standalone_parameters[\"n_epoch\"] = 50\n",
    "\n",
    "standalone_parameters[\"patience\"] = 10\n",
    "standalone_parameters[\"criteria_for_best\"] = \"source_loss\"\n",
    "\n",
    "standalone_parameters[\"datasets\"] = [\n",
    "    {\n",
    "        \"labels\": ALL_SERIAL_NUMBERS,\n",
    "        \"domains\": ALL_DISTANCES_FEET_NARROWED,\n",
    "        \"num_examples_per_domain_per_label\": 100,\n",
    "        \"pickle_path\": os.path.join(get_datasets_base_path(), \"oracle.Run1_framed_2000Examples_stratified_ds.2022A.pkl\"),\n",
    "        \"source_or_target_dataset\": \"source\",\n",
    "        \"x_transforms\": [\"unit_mag\", \"minus_two\"],\n",
    "        \"episode_transforms\": [],\n",
    "        \"domain_prefix\": \"ORACLE_\"\n",
    "    },\n",
    "    {\n",
    "        \"labels\": ALL_NODES,\n",
    "        \"domains\": ALL_DAYS,\n",
    "        \"num_examples_per_domain_per_label\": 100,\n",
    "        \"pickle_path\": os.path.join(get_datasets_base_path(), \"cores.stratified_ds.2022A.pkl\"),\n",
    "        \"source_or_target_dataset\": \"target\",\n",
    "        \"x_transforms\": [\"unit_power\", \"times_zero\"],\n",
    "        \"episode_transforms\": [],\n",
    "        \"domain_prefix\": \"CORES_\"\n",
    "    }   \n",
    "]\n",
    "\n",
    "standalone_parameters[\"torch_default_dtype\"] = \"torch.float32\" \n",
    "\n",
    "\n",
    "\n",
    "standalone_parameters[\"x_net\"] =     [\n",
    "    {\"class\": \"nnReshape\", \"kargs\": {\"shape\":[-1, 1, 2, 256]}},\n",
    "    {\"class\": \"Conv2d\", \"kargs\": { \"in_channels\":1, \"out_channels\":256, \"kernel_size\":(1,7), \"bias\":False, \"padding\":(0,3), },},\n",
    "    {\"class\": \"ReLU\", \"kargs\": {\"inplace\": True}},\n",
    "    {\"class\": \"BatchNorm2d\", \"kargs\": {\"num_features\":256}},\n",
    "\n",
    "    {\"class\": \"Conv2d\", \"kargs\": { \"in_channels\":256, \"out_channels\":80, \"kernel_size\":(2,7), \"bias\":True, \"padding\":(0,3), },},\n",
    "    {\"class\": \"ReLU\", \"kargs\": {\"inplace\": True}},\n",
    "    {\"class\": \"BatchNorm2d\", \"kargs\": {\"num_features\":80}},\n",
    "    {\"class\": \"Flatten\", \"kargs\": {}},\n",
    "\n",
    "    {\"class\": \"Linear\", \"kargs\": {\"in_features\": 80*256, \"out_features\": 256}}, # 80 units per IQ pair\n",
    "    {\"class\": \"ReLU\", \"kargs\": {\"inplace\": True}},\n",
    "    {\"class\": \"BatchNorm1d\", \"kargs\": {\"num_features\":256}},\n",
    "\n",
    "    {\"class\": \"Linear\", \"kargs\": {\"in_features\": 256, \"out_features\": 256}},\n",
    "]\n",
    "\n",
    "# Parameters relevant to results\n",
    "# These parameters will basically never need to change\n",
    "standalone_parameters[\"NUM_LOGS_PER_EPOCH\"] = 10\n",
    "standalone_parameters[\"BEST_MODEL_PATH\"] = \"./best_model.pth\"\n",
    "\n",
    "\n",
    "\n",
    "\n"
   ]
  },
  {
   "cell_type": "code",
   "execution_count": 4,
   "id": "43242782",
   "metadata": {
    "execution": {
     "iopub.execute_input": "2022-03-21T19:56:01.193517Z",
     "iopub.status.busy": "2022-03-21T19:56:01.192566Z",
     "iopub.status.idle": "2022-03-21T19:56:01.216833Z",
     "shell.execute_reply": "2022-03-21T19:56:01.216123Z"
    },
    "papermill": {
     "duration": 0.05575,
     "end_time": "2022-03-21T19:56:01.217005",
     "exception": false,
     "start_time": "2022-03-21T19:56:01.161255",
     "status": "completed"
    },
    "tags": [
     "injected-parameters"
    ]
   },
   "outputs": [],
   "source": [
    "# Parameters\n",
    "parameters = {\n",
    "    \"experiment_name\": \"tl_1v2:oracle.run1.framed-oracle.run2.framed\",\n",
    "    \"device\": \"cuda\",\n",
    "    \"lr\": 0.0001,\n",
    "    \"n_shot\": 3,\n",
    "    \"n_query\": 2,\n",
    "    \"train_k_factor\": 3,\n",
    "    \"val_k_factor\": 2,\n",
    "    \"test_k_factor\": 2,\n",
    "    \"torch_default_dtype\": \"torch.float32\",\n",
    "    \"n_epoch\": 50,\n",
    "    \"patience\": 3,\n",
    "    \"criteria_for_best\": \"target_accuracy\",\n",
    "    \"x_net\": [\n",
    "        {\"class\": \"nnReshape\", \"kargs\": {\"shape\": [-1, 1, 2, 256]}},\n",
    "        {\n",
    "            \"class\": \"Conv2d\",\n",
    "            \"kargs\": {\n",
    "                \"in_channels\": 1,\n",
    "                \"out_channels\": 256,\n",
    "                \"kernel_size\": [1, 7],\n",
    "                \"bias\": False,\n",
    "                \"padding\": [0, 3],\n",
    "            },\n",
    "        },\n",
    "        {\"class\": \"ReLU\", \"kargs\": {\"inplace\": True}},\n",
    "        {\"class\": \"BatchNorm2d\", \"kargs\": {\"num_features\": 256}},\n",
    "        {\n",
    "            \"class\": \"Conv2d\",\n",
    "            \"kargs\": {\n",
    "                \"in_channels\": 256,\n",
    "                \"out_channels\": 80,\n",
    "                \"kernel_size\": [2, 7],\n",
    "                \"bias\": True,\n",
    "                \"padding\": [0, 3],\n",
    "            },\n",
    "        },\n",
    "        {\"class\": \"ReLU\", \"kargs\": {\"inplace\": True}},\n",
    "        {\"class\": \"BatchNorm2d\", \"kargs\": {\"num_features\": 80}},\n",
    "        {\"class\": \"Flatten\", \"kargs\": {}},\n",
    "        {\"class\": \"Linear\", \"kargs\": {\"in_features\": 20480, \"out_features\": 256}},\n",
    "        {\"class\": \"ReLU\", \"kargs\": {\"inplace\": True}},\n",
    "        {\"class\": \"BatchNorm1d\", \"kargs\": {\"num_features\": 256}},\n",
    "        {\"class\": \"Linear\", \"kargs\": {\"in_features\": 256, \"out_features\": 256}},\n",
    "    ],\n",
    "    \"NUM_LOGS_PER_EPOCH\": 10,\n",
    "    \"BEST_MODEL_PATH\": \"./best_model.pth\",\n",
    "    \"n_way\": 16,\n",
    "    \"datasets\": [\n",
    "        {\n",
    "            \"labels\": [\n",
    "                \"3123D52\",\n",
    "                \"3123D65\",\n",
    "                \"3123D79\",\n",
    "                \"3123D80\",\n",
    "                \"3123D54\",\n",
    "                \"3123D70\",\n",
    "                \"3123D7B\",\n",
    "                \"3123D89\",\n",
    "                \"3123D58\",\n",
    "                \"3123D76\",\n",
    "                \"3123D7D\",\n",
    "                \"3123EFE\",\n",
    "                \"3123D64\",\n",
    "                \"3123D78\",\n",
    "                \"3123D7E\",\n",
    "                \"3124E4A\",\n",
    "            ],\n",
    "            \"domains\": [32, 38, 8, 44, 14, 50, 20, 26],\n",
    "            \"num_examples_per_domain_per_label\": 2000,\n",
    "            \"pickle_path\": \"/root/csc500-main/datasets/oracle.Run1_framed_2000Examples_stratified_ds.2022A.pkl\",\n",
    "            \"source_or_target_dataset\": \"target\",\n",
    "            \"x_transforms\": [\"unit_power\"],\n",
    "            \"episode_transforms\": [],\n",
    "            \"domain_prefix\": \"ORACLE.run1_\",\n",
    "        },\n",
    "        {\n",
    "            \"labels\": [\n",
    "                \"3123D52\",\n",
    "                \"3123D65\",\n",
    "                \"3123D79\",\n",
    "                \"3123D80\",\n",
    "                \"3123D54\",\n",
    "                \"3123D70\",\n",
    "                \"3123D7B\",\n",
    "                \"3123D89\",\n",
    "                \"3123D58\",\n",
    "                \"3123D76\",\n",
    "                \"3123D7D\",\n",
    "                \"3123EFE\",\n",
    "                \"3123D64\",\n",
    "                \"3123D78\",\n",
    "                \"3123D7E\",\n",
    "                \"3124E4A\",\n",
    "            ],\n",
    "            \"domains\": [32, 38, 8, 44, 14, 50, 20, 26],\n",
    "            \"num_examples_per_domain_per_label\": 2000,\n",
    "            \"pickle_path\": \"/root/csc500-main/datasets/oracle.Run2_framed_2000Examples_stratified_ds.2022A.pkl\",\n",
    "            \"source_or_target_dataset\": \"source\",\n",
    "            \"x_transforms\": [\"unit_power\"],\n",
    "            \"episode_transforms\": [],\n",
    "            \"domain_prefix\": \"ORACLE.run2_\",\n",
    "        },\n",
    "    ],\n",
    "    \"dataset_seed\": 154325,\n",
    "    \"seed\": 154325,\n",
    "}\n"
   ]
  },
  {
   "cell_type": "code",
   "execution_count": 5,
   "id": "8fa1cc33",
   "metadata": {
    "execution": {
     "iopub.execute_input": "2022-03-21T19:56:01.269458Z",
     "iopub.status.busy": "2022-03-21T19:56:01.269072Z",
     "iopub.status.idle": "2022-03-21T19:56:01.293409Z",
     "shell.execute_reply": "2022-03-21T19:56:01.292713Z"
    },
    "papermill": {
     "duration": 0.050144,
     "end_time": "2022-03-21T19:56:01.293571",
     "exception": false,
     "start_time": "2022-03-21T19:56:01.243427",
     "status": "completed"
    },
    "tags": []
   },
   "outputs": [],
   "source": [
    "# Set this to True if you want to run this template directly\n",
    "STANDALONE = False\n",
    "if STANDALONE:\n",
    "    print(\"parameters not injected, running with standalone_parameters\")\n",
    "    parameters = standalone_parameters\n",
    "\n",
    "if not 'parameters' in locals() and not 'parameters' in globals():\n",
    "    raise Exception(\"Parameter injection failed\")\n",
    "\n",
    "#Use an easy dict for all the parameters\n",
    "p = EasyDict(parameters)\n",
    "\n",
    "if \"x_shape\" not in p:\n",
    "    p.x_shape = [2,256] # Default to this if we dont supply x_shape\n",
    "\n",
    "\n",
    "supplied_keys = set(p.keys())\n",
    "\n",
    "if  supplied_keys != required_parameters:\n",
    "    print(\"Parameters are incorrect\")\n",
    "    if len(supplied_keys - required_parameters)>0: print(\"Shouldn't have:\", str(supplied_keys - required_parameters))\n",
    "    if len(required_parameters - supplied_keys)>0: print(\"Need to have:\", str(required_parameters - supplied_keys))\n",
    "    raise RuntimeError(\"Parameters are incorrect\")"
   ]
  },
  {
   "cell_type": "code",
   "execution_count": 6,
   "id": "3a028d58",
   "metadata": {
    "execution": {
     "iopub.execute_input": "2022-03-21T19:56:01.342784Z",
     "iopub.status.busy": "2022-03-21T19:56:01.342413Z",
     "iopub.status.idle": "2022-03-21T19:56:01.367721Z",
     "shell.execute_reply": "2022-03-21T19:56:01.366989Z"
    },
    "papermill": {
     "duration": 0.048995,
     "end_time": "2022-03-21T19:56:01.367889",
     "exception": false,
     "start_time": "2022-03-21T19:56:01.318894",
     "status": "completed"
    },
    "tags": []
   },
   "outputs": [],
   "source": [
    "###################################\n",
    "# Set the RNGs and make it all deterministic\n",
    "###################################\n",
    "np.random.seed(p.seed)\n",
    "random.seed(p.seed)\n",
    "torch.manual_seed(p.seed)\n",
    "\n",
    "torch.use_deterministic_algorithms(True) "
   ]
  },
  {
   "cell_type": "code",
   "execution_count": 7,
   "id": "b691acf6",
   "metadata": {
    "execution": {
     "iopub.execute_input": "2022-03-21T19:56:01.420800Z",
     "iopub.status.busy": "2022-03-21T19:56:01.420428Z",
     "iopub.status.idle": "2022-03-21T19:56:01.445635Z",
     "shell.execute_reply": "2022-03-21T19:56:01.444926Z"
    },
    "papermill": {
     "duration": 0.049147,
     "end_time": "2022-03-21T19:56:01.445802",
     "exception": false,
     "start_time": "2022-03-21T19:56:01.396655",
     "status": "completed"
    },
    "tags": []
   },
   "outputs": [],
   "source": [
    "###########################################\n",
    "# The stratified datasets honor this\n",
    "###########################################\n",
    "torch.set_default_dtype(eval(p.torch_default_dtype))"
   ]
  },
  {
   "cell_type": "code",
   "execution_count": 8,
   "id": "b5fba671",
   "metadata": {
    "execution": {
     "iopub.execute_input": "2022-03-21T19:56:01.494540Z",
     "iopub.status.busy": "2022-03-21T19:56:01.494172Z",
     "iopub.status.idle": "2022-03-21T19:56:01.554666Z",
     "shell.execute_reply": "2022-03-21T19:56:01.553935Z"
    },
    "papermill": {
     "duration": 0.0837,
     "end_time": "2022-03-21T19:56:01.554841",
     "exception": false,
     "start_time": "2022-03-21T19:56:01.471141",
     "status": "completed"
    },
    "tags": []
   },
   "outputs": [],
   "source": [
    "###################################\n",
    "# Build the network(s)\n",
    "# Note: It's critical to do this AFTER setting the RNG\n",
    "###################################\n",
    "x_net = build_sequential(p.x_net)"
   ]
  },
  {
   "cell_type": "code",
   "execution_count": 9,
   "id": "5d7e61cc",
   "metadata": {
    "execution": {
     "iopub.execute_input": "2022-03-21T19:56:01.604940Z",
     "iopub.status.busy": "2022-03-21T19:56:01.604315Z",
     "iopub.status.idle": "2022-03-21T19:56:01.627047Z",
     "shell.execute_reply": "2022-03-21T19:56:01.626272Z"
    },
    "papermill": {
     "duration": 0.046838,
     "end_time": "2022-03-21T19:56:01.627225",
     "exception": false,
     "start_time": "2022-03-21T19:56:01.580387",
     "status": "completed"
    },
    "tags": []
   },
   "outputs": [],
   "source": [
    "start_time_secs = time.time()"
   ]
  },
  {
   "cell_type": "code",
   "execution_count": 10,
   "id": "c6b67dfd",
   "metadata": {
    "execution": {
     "iopub.execute_input": "2022-03-21T19:56:01.681268Z",
     "iopub.status.busy": "2022-03-21T19:56:01.680700Z",
     "iopub.status.idle": "2022-03-21T19:56:01.706947Z",
     "shell.execute_reply": "2022-03-21T19:56:01.706230Z"
    },
    "papermill": {
     "duration": 0.050823,
     "end_time": "2022-03-21T19:56:01.707111",
     "exception": false,
     "start_time": "2022-03-21T19:56:01.656288",
     "status": "completed"
    },
    "tags": []
   },
   "outputs": [],
   "source": [
    "p.domains_source = []\n",
    "p.domains_target = []\n",
    "\n",
    "\n",
    "train_original_source = []\n",
    "val_original_source   = []\n",
    "test_original_source  = []\n",
    "\n",
    "train_original_target = []\n",
    "val_original_target   = []\n",
    "test_original_target  = []"
   ]
  },
  {
   "cell_type": "code",
   "execution_count": 11,
   "id": "e3d9c3d3",
   "metadata": {
    "execution": {
     "iopub.execute_input": "2022-03-21T19:56:01.758824Z",
     "iopub.status.busy": "2022-03-21T19:56:01.758451Z",
     "iopub.status.idle": "2022-03-21T19:56:01.784941Z",
     "shell.execute_reply": "2022-03-21T19:56:01.784091Z"
    },
    "papermill": {
     "duration": 0.050679,
     "end_time": "2022-03-21T19:56:01.785133",
     "exception": false,
     "start_time": "2022-03-21T19:56:01.734454",
     "status": "completed"
    },
    "tags": []
   },
   "outputs": [],
   "source": [
    "# global_x_transform_func = lambda x: normalize(x.to(torch.get_default_dtype()), \"unit_power\") # unit_power, unit_mag\n",
    "# global_x_transform_func = lambda x: normalize(x, \"unit_power\") # unit_power, unit_mag"
   ]
  },
  {
   "cell_type": "code",
   "execution_count": 12,
   "id": "acb78fd2",
   "metadata": {
    "execution": {
     "iopub.execute_input": "2022-03-21T19:56:01.847315Z",
     "iopub.status.busy": "2022-03-21T19:56:01.846462Z",
     "iopub.status.idle": "2022-03-21T19:56:01.870853Z",
     "shell.execute_reply": "2022-03-21T19:56:01.870144Z"
    },
    "papermill": {
     "duration": 0.058726,
     "end_time": "2022-03-21T19:56:01.871023",
     "exception": false,
     "start_time": "2022-03-21T19:56:01.812297",
     "status": "completed"
    },
    "tags": []
   },
   "outputs": [],
   "source": [
    "def add_dataset(\n",
    "    labels,\n",
    "    domains,\n",
    "    pickle_path,\n",
    "    x_transforms,\n",
    "    episode_transforms,\n",
    "    domain_prefix,\n",
    "    num_examples_per_domain_per_label,\n",
    "    source_or_target_dataset:str,\n",
    "    iterator_seed=p.seed,\n",
    "    dataset_seed=p.dataset_seed,\n",
    "    n_shot=p.n_shot,\n",
    "    n_way=p.n_way,\n",
    "    n_query=p.n_query,\n",
    "    train_val_test_k_factors=(p.train_k_factor,p.val_k_factor,p.test_k_factor),\n",
    "):\n",
    "   \n",
    "    if x_transforms == []: x_transform = None\n",
    "    else: x_transform = get_chained_transform(x_transforms)\n",
    "    \n",
    "    if episode_transforms == []: episode_transform = None\n",
    "    else: raise Exception(\"episode_transforms not implemented\")\n",
    "    \n",
    "    episode_transform = lambda tup, _prefix=domain_prefix: (_prefix + str(tup[0]), tup[1])\n",
    "\n",
    "\n",
    "    eaf = Episodic_Accessor_Factory(\n",
    "        labels=labels,\n",
    "        domains=domains,\n",
    "        num_examples_per_domain_per_label=num_examples_per_domain_per_label,\n",
    "        iterator_seed=iterator_seed,\n",
    "        dataset_seed=dataset_seed,\n",
    "        n_shot=n_shot,\n",
    "        n_way=n_way,\n",
    "        n_query=n_query,\n",
    "        train_val_test_k_factors=train_val_test_k_factors,\n",
    "        pickle_path=pickle_path,\n",
    "        x_transform_func=x_transform,\n",
    "    )\n",
    "\n",
    "    train, val, test = eaf.get_train(), eaf.get_val(), eaf.get_test()\n",
    "    train = Lazy_Iterable_Wrapper(train, episode_transform)\n",
    "    val = Lazy_Iterable_Wrapper(val, episode_transform)\n",
    "    test = Lazy_Iterable_Wrapper(test, episode_transform)\n",
    "\n",
    "    if source_or_target_dataset==\"source\":\n",
    "        train_original_source.append(train)\n",
    "        val_original_source.append(val)\n",
    "        test_original_source.append(test)\n",
    "\n",
    "        p.domains_source.extend(\n",
    "            [domain_prefix + str(u) for u in domains]\n",
    "        )\n",
    "    elif source_or_target_dataset==\"target\":\n",
    "        train_original_target.append(train)\n",
    "        val_original_target.append(val)\n",
    "        test_original_target.append(test)\n",
    "        p.domains_target.extend(\n",
    "            [domain_prefix + str(u) for u in domains]\n",
    "        )\n",
    "    else:\n",
    "        raise Exception(f\"invalid source_or_target_dataset: {source_or_target_dataset}\")\n",
    "    "
   ]
  },
  {
   "cell_type": "code",
   "execution_count": 13,
   "id": "fe266617",
   "metadata": {
    "execution": {
     "iopub.execute_input": "2022-03-21T19:56:01.934160Z",
     "iopub.status.busy": "2022-03-21T19:56:01.933664Z",
     "iopub.status.idle": "2022-03-21T19:56:46.242763Z",
     "shell.execute_reply": "2022-03-21T19:56:46.242012Z"
    },
    "papermill": {
     "duration": 44.340659,
     "end_time": "2022-03-21T19:56:46.242965",
     "exception": false,
     "start_time": "2022-03-21T19:56:01.902306",
     "status": "completed"
    },
    "tags": []
   },
   "outputs": [],
   "source": [
    "for ds in p.datasets:\n",
    "    add_dataset(**ds)"
   ]
  },
  {
   "cell_type": "code",
   "execution_count": 14,
   "id": "b90d65ac",
   "metadata": {
    "execution": {
     "iopub.execute_input": "2022-03-21T19:56:46.294701Z",
     "iopub.status.busy": "2022-03-21T19:56:46.294054Z",
     "iopub.status.idle": "2022-03-21T19:56:46.319802Z",
     "shell.execute_reply": "2022-03-21T19:56:46.319049Z"
    },
    "papermill": {
     "duration": 0.050667,
     "end_time": "2022-03-21T19:56:46.319976",
     "exception": false,
     "start_time": "2022-03-21T19:56:46.269309",
     "status": "completed"
    },
    "tags": []
   },
   "outputs": [],
   "source": [
    "# from steves_utils.CORES.utils import (\n",
    "#     ALL_NODES,\n",
    "#     ALL_NODES_MINIMUM_1000_EXAMPLES,\n",
    "#     ALL_DAYS\n",
    "# )\n",
    "\n",
    "# add_dataset(\n",
    "#     labels=ALL_NODES,\n",
    "#     domains = ALL_DAYS,\n",
    "#     num_examples_per_domain_per_label=100,\n",
    "#     pickle_path=os.path.join(get_datasets_base_path(), \"cores.stratified_ds.2022A.pkl\"),\n",
    "#     source_or_target_dataset=\"target\",\n",
    "#     x_transform_func=global_x_transform_func,\n",
    "#     domain_modifier=lambda u: f\"cores_{u}\"\n",
    "# )"
   ]
  },
  {
   "cell_type": "code",
   "execution_count": 15,
   "id": "76db484d",
   "metadata": {
    "execution": {
     "iopub.execute_input": "2022-03-21T19:56:46.368303Z",
     "iopub.status.busy": "2022-03-21T19:56:46.367917Z",
     "iopub.status.idle": "2022-03-21T19:56:46.387842Z",
     "shell.execute_reply": "2022-03-21T19:56:46.387125Z"
    },
    "papermill": {
     "duration": 0.04316,
     "end_time": "2022-03-21T19:56:46.388020",
     "exception": false,
     "start_time": "2022-03-21T19:56:46.344860",
     "status": "completed"
    },
    "tags": []
   },
   "outputs": [],
   "source": [
    "# from steves_utils.ORACLE.utils_v2 import (\n",
    "#     ALL_DISTANCES_FEET,\n",
    "#     ALL_RUNS,\n",
    "#     ALL_SERIAL_NUMBERS,\n",
    "# )\n",
    "\n",
    "\n",
    "# add_dataset(\n",
    "#     labels=ALL_SERIAL_NUMBERS,\n",
    "#     domains = list(set(ALL_DISTANCES_FEET) - {2,62}),\n",
    "#     num_examples_per_domain_per_label=100,\n",
    "#     pickle_path=os.path.join(get_datasets_base_path(), \"oracle.Run2_framed_2000Examples_stratified_ds.2022A.pkl\"),\n",
    "#     source_or_target_dataset=\"source\",\n",
    "#     x_transform_func=global_x_transform_func,\n",
    "#     domain_modifier=lambda u: f\"oracle1_{u}\"\n",
    "# )\n"
   ]
  },
  {
   "cell_type": "code",
   "execution_count": 16,
   "id": "97dea9d2",
   "metadata": {
    "execution": {
     "iopub.execute_input": "2022-03-21T19:56:46.441835Z",
     "iopub.status.busy": "2022-03-21T19:56:46.441447Z",
     "iopub.status.idle": "2022-03-21T19:56:46.458052Z",
     "shell.execute_reply": "2022-03-21T19:56:46.457207Z"
    },
    "papermill": {
     "duration": 0.039457,
     "end_time": "2022-03-21T19:56:46.458281",
     "exception": false,
     "start_time": "2022-03-21T19:56:46.418824",
     "status": "completed"
    },
    "tags": []
   },
   "outputs": [],
   "source": [
    "# from steves_utils.ORACLE.utils_v2 import (\n",
    "#     ALL_DISTANCES_FEET,\n",
    "#     ALL_RUNS,\n",
    "#     ALL_SERIAL_NUMBERS,\n",
    "# )\n",
    "\n",
    "\n",
    "# add_dataset(\n",
    "#     labels=ALL_SERIAL_NUMBERS,\n",
    "#     domains = list(set(ALL_DISTANCES_FEET) - {2,62,56}),\n",
    "#     num_examples_per_domain_per_label=100,\n",
    "#     pickle_path=os.path.join(get_datasets_base_path(), \"oracle.Run2_framed_2000Examples_stratified_ds.2022A.pkl\"),\n",
    "#     source_or_target_dataset=\"source\",\n",
    "#     x_transform_func=global_x_transform_func,\n",
    "#     domain_modifier=lambda u: f\"oracle2_{u}\"\n",
    "# )"
   ]
  },
  {
   "cell_type": "code",
   "execution_count": 17,
   "id": "6f289866",
   "metadata": {
    "execution": {
     "iopub.execute_input": "2022-03-21T19:56:46.509020Z",
     "iopub.status.busy": "2022-03-21T19:56:46.508639Z",
     "iopub.status.idle": "2022-03-21T19:56:46.537347Z",
     "shell.execute_reply": "2022-03-21T19:56:46.538001Z"
    },
    "papermill": {
     "duration": 0.053498,
     "end_time": "2022-03-21T19:56:46.538223",
     "exception": false,
     "start_time": "2022-03-21T19:56:46.484725",
     "status": "completed"
    },
    "tags": []
   },
   "outputs": [],
   "source": [
    "# add_dataset(\n",
    "#     labels=list(range(19)),\n",
    "#     domains = [0,1,2],\n",
    "#     num_examples_per_domain_per_label=100,\n",
    "#     pickle_path=os.path.join(get_datasets_base_path(), \"metehan.stratified_ds.2022A.pkl\"),\n",
    "#     source_or_target_dataset=\"target\",\n",
    "#     x_transform_func=global_x_transform_func,\n",
    "#     domain_modifier=lambda u: f\"met_{u}\"\n",
    "# )"
   ]
  },
  {
   "cell_type": "code",
   "execution_count": 18,
   "id": "86a863c3",
   "metadata": {
    "execution": {
     "iopub.execute_input": "2022-03-21T19:56:46.598156Z",
     "iopub.status.busy": "2022-03-21T19:56:46.597774Z",
     "iopub.status.idle": "2022-03-21T19:56:46.629254Z",
     "shell.execute_reply": "2022-03-21T19:56:46.629924Z"
    },
    "papermill": {
     "duration": 0.059814,
     "end_time": "2022-03-21T19:56:46.630118",
     "exception": false,
     "start_time": "2022-03-21T19:56:46.570304",
     "status": "completed"
    },
    "tags": []
   },
   "outputs": [],
   "source": [
    "# # from steves_utils.wisig.utils import (\n",
    "# #     ALL_NODES_MINIMUM_100_EXAMPLES,\n",
    "# #     ALL_NODES_MINIMUM_500_EXAMPLES,\n",
    "# #     ALL_NODES_MINIMUM_1000_EXAMPLES,\n",
    "# #     ALL_DAYS\n",
    "# # )\n",
    "\n",
    "# import steves_utils.wisig.utils as wisig\n",
    "\n",
    "\n",
    "# add_dataset(\n",
    "#     labels=wisig.ALL_NODES_MINIMUM_100_EXAMPLES,\n",
    "#     domains = wisig.ALL_DAYS,\n",
    "#     num_examples_per_domain_per_label=100,\n",
    "#     pickle_path=os.path.join(get_datasets_base_path(), \"wisig.node3-19.stratified_ds.2022A.pkl\"),\n",
    "#     source_or_target_dataset=\"target\",\n",
    "#     x_transform_func=global_x_transform_func,\n",
    "#     domain_modifier=lambda u: f\"wisig_{u}\"\n",
    "# )"
   ]
  },
  {
   "cell_type": "code",
   "execution_count": 19,
   "id": "fd5442bc",
   "metadata": {
    "execution": {
     "iopub.execute_input": "2022-03-21T19:56:46.684302Z",
     "iopub.status.busy": "2022-03-21T19:56:46.683716Z",
     "iopub.status.idle": "2022-03-21T19:56:46.705650Z",
     "shell.execute_reply": "2022-03-21T19:56:46.706322Z"
    },
    "papermill": {
     "duration": 0.052563,
     "end_time": "2022-03-21T19:56:46.706503",
     "exception": false,
     "start_time": "2022-03-21T19:56:46.653940",
     "status": "completed"
    },
    "tags": []
   },
   "outputs": [],
   "source": [
    "###################################\n",
    "# Build the dataset\n",
    "###################################\n",
    "train_original_source = Iterable_Aggregator(train_original_source, p.seed)\n",
    "val_original_source = Iterable_Aggregator(val_original_source, p.seed)\n",
    "test_original_source = Iterable_Aggregator(test_original_source, p.seed)\n",
    "\n",
    "\n",
    "train_original_target = Iterable_Aggregator(train_original_target, p.seed)\n",
    "val_original_target = Iterable_Aggregator(val_original_target, p.seed)\n",
    "test_original_target = Iterable_Aggregator(test_original_target, p.seed)\n",
    "\n",
    "# For CNN We only use X and Y. And we only train on the source.\n",
    "# Properly form the data using a transform lambda and Lazy_Iterable_Wrapper. Finally wrap them in a dataloader\n",
    "\n",
    "transform_lambda = lambda ex: ex[1] # Original is (<domain>, <episode>) so we strip down to episode only\n",
    "\n",
    "train_processed_source = Lazy_Iterable_Wrapper(train_original_source, transform_lambda)\n",
    "val_processed_source   = Lazy_Iterable_Wrapper(val_original_source, transform_lambda)\n",
    "test_processed_source  = Lazy_Iterable_Wrapper(test_original_source, transform_lambda)\n",
    "\n",
    "train_processed_target = Lazy_Iterable_Wrapper(train_original_target, transform_lambda)\n",
    "val_processed_target   = Lazy_Iterable_Wrapper(val_original_target, transform_lambda)\n",
    "test_processed_target  = Lazy_Iterable_Wrapper(test_original_target, transform_lambda)\n",
    "\n",
    "datasets = EasyDict({\n",
    "    \"source\": {\n",
    "        \"original\": {\"train\":train_original_source, \"val\":val_original_source, \"test\":test_original_source},\n",
    "        \"processed\": {\"train\":train_processed_source, \"val\":val_processed_source, \"test\":test_processed_source}\n",
    "    },\n",
    "    \"target\": {\n",
    "        \"original\": {\"train\":train_original_target, \"val\":val_original_target, \"test\":test_original_target},\n",
    "        \"processed\": {\"train\":train_processed_target, \"val\":val_processed_target, \"test\":test_processed_target}\n",
    "    },\n",
    "})"
   ]
  },
  {
   "cell_type": "code",
   "execution_count": 20,
   "id": "5b3c01fc",
   "metadata": {
    "execution": {
     "iopub.execute_input": "2022-03-21T19:56:46.758847Z",
     "iopub.status.busy": "2022-03-21T19:56:46.758477Z",
     "iopub.status.idle": "2022-03-21T19:57:02.755673Z",
     "shell.execute_reply": "2022-03-21T19:57:02.756365Z"
    },
    "papermill": {
     "duration": 16.024332,
     "end_time": "2022-03-21T19:57:02.756614",
     "exception": false,
     "start_time": "2022-03-21T19:56:46.732282",
     "status": "completed"
    },
    "tags": []
   },
   "outputs": [
    {
     "name": "stdout",
     "output_type": "stream",
     "text": [
      "{'ORACLE.run2_50', 'ORACLE.run2_32', 'ORACLE.run2_26', 'ORACLE.run2_44', 'ORACLE.run2_14', 'ORACLE.run2_8', 'ORACLE.run2_20', 'ORACLE.run2_38'}\n"
     ]
    },
    {
     "name": "stdout",
     "output_type": "stream",
     "text": [
      "{'ORACLE.run1_44', 'ORACLE.run1_20', 'ORACLE.run1_32', 'ORACLE.run1_50', 'ORACLE.run1_8', 'ORACLE.run1_14', 'ORACLE.run1_38', 'ORACLE.run1_26'}\n"
     ]
    },
    {
     "name": "stdout",
     "output_type": "stream",
     "text": [
      "tensor([[[-1.0303, -0.2991,  1.2297,  ...,  0.1757, -0.6315,  1.0825],\n",
      "         [ 0.0142, -0.5650, -0.1187,  ...,  0.7929,  1.0873,  0.7264]],\n",
      "\n",
      "        [[-0.8001,  0.1572,  1.0477,  ..., -0.5477, -1.0001,  0.6905],\n",
      "         [-0.7286, -0.5477,  0.6858,  ...,  0.7334,  0.4810,  1.2572]],\n",
      "\n",
      "        [[-0.1614,  1.0631, -0.1329,  ..., -0.9539,  0.3275,  0.1186],\n",
      "         [-0.2753,  0.1803,  0.5363,  ...,  0.1376, -1.0583, -1.1247]],\n",
      "\n",
      "        ...,\n",
      "\n",
      "        [[ 0.9156, -0.4391, -1.0227,  ...,  0.7228,  0.9424, -0.6747],\n",
      "         [ 0.7175,  0.4926, -0.6158,  ..., -0.7443, -0.5140, -1.2422]],\n",
      "\n",
      "        [[-0.2035, -1.1141,  0.5517,  ...,  1.0123, -0.7445, -0.1285],\n",
      "         [ 0.3160, -0.4981, -0.4821,  ...,  0.3321,  1.0284,  0.9909]],\n",
      "\n",
      "        [[-0.1791,  0.8247,  0.2496,  ..., -0.6023, -0.7922, -1.0038],\n",
      "         [-0.4069, -0.9984,  0.7596,  ...,  0.6891, -1.0472, -0.1574]]])\n"
     ]
    }
   ],
   "source": [
    "from steves_utils.transforms import get_average_magnitude, get_average_power\n",
    "\n",
    "print(set([u for u,_ in val_original_source]))\n",
    "print(set([u for u,_ in val_original_target]))\n",
    "\n",
    "s_x, s_y, q_x, q_y, _ = next(iter(train_processed_source))\n",
    "print(s_x)\n",
    "\n",
    "# for ds in [\n",
    "#     train_processed_source,\n",
    "#     val_processed_source,\n",
    "#     test_processed_source,\n",
    "#     train_processed_target,\n",
    "#     val_processed_target,\n",
    "#     test_processed_target\n",
    "# ]:\n",
    "#     for s_x, s_y, q_x, q_y, _ in ds:\n",
    "#         for X in (s_x, q_x):\n",
    "#             for x in X:\n",
    "#                 assert np.isclose(get_average_magnitude(x.numpy()), 1.0)\n",
    "#                 assert np.isclose(get_average_power(x.numpy()), 1.0)\n",
    "                "
   ]
  },
  {
   "cell_type": "code",
   "execution_count": 21,
   "id": "bbdacba1",
   "metadata": {
    "execution": {
     "iopub.execute_input": "2022-03-21T19:57:02.812919Z",
     "iopub.status.busy": "2022-03-21T19:57:02.812417Z",
     "iopub.status.idle": "2022-03-21T19:57:03.045086Z",
     "shell.execute_reply": "2022-03-21T19:57:03.044325Z"
    },
    "papermill": {
     "duration": 0.261191,
     "end_time": "2022-03-21T19:57:03.045268",
     "exception": false,
     "start_time": "2022-03-21T19:57:02.784077",
     "status": "completed"
    },
    "tags": []
   },
   "outputs": [
    {
     "name": "stdout",
     "output_type": "stream",
     "text": [
      "(2, 256)\n"
     ]
    }
   ],
   "source": [
    "###################################\n",
    "# Build the model\n",
    "###################################\n",
    "# easfsl only wants a tuple for the shape\n",
    "model = Steves_Prototypical_Network(x_net, device=p.device, x_shape=tuple(p.x_shape))\n",
    "optimizer = Adam(params=model.parameters(), lr=p.lr)"
   ]
  },
  {
   "cell_type": "code",
   "execution_count": 22,
   "id": "22b39ac5",
   "metadata": {
    "execution": {
     "iopub.execute_input": "2022-03-21T19:57:03.103373Z",
     "iopub.status.busy": "2022-03-21T19:57:03.102730Z",
     "iopub.status.idle": "2022-03-21T21:01:41.997258Z",
     "shell.execute_reply": "2022-03-21T21:01:41.996643Z"
    },
    "papermill": {
     "duration": 3878.923667,
     "end_time": "2022-03-21T21:01:41.998562",
     "exception": false,
     "start_time": "2022-03-21T19:57:03.074895",
     "status": "completed"
    },
    "tags": []
   },
   "outputs": [
    {
     "name": "stdout",
     "output_type": "stream",
     "text": [
      "epoch: 1, [batch: 1 / 6720], examples_per_second: 32.4534, train_label_loss: 2.7923, \n"
     ]
    },
    {
     "name": "stdout",
     "output_type": "stream",
     "text": [
      "epoch: 1, [batch: 672 / 6720], examples_per_second: 2660.1769, train_label_loss: 1.1875, \n"
     ]
    },
    {
     "name": "stdout",
     "output_type": "stream",
     "text": [
      "epoch: 1, [batch: 1344 / 6720], examples_per_second: 2858.3762, train_label_loss: 0.8199, \n"
     ]
    },
    {
     "name": "stdout",
     "output_type": "stream",
     "text": [
      "epoch: 1, [batch: 2016 / 6720], examples_per_second: 2991.7991, train_label_loss: 1.2321, \n"
     ]
    },
    {
     "name": "stdout",
     "output_type": "stream",
     "text": [
      "epoch: 1, [batch: 2688 / 6720], examples_per_second: 2726.9840, train_label_loss: 0.5153, \n"
     ]
    },
    {
     "name": "stdout",
     "output_type": "stream",
     "text": [
      "epoch: 1, [batch: 3360 / 6720], examples_per_second: 3105.8845, train_label_loss: 0.4515, \n"
     ]
    },
    {
     "name": "stdout",
     "output_type": "stream",
     "text": [
      "epoch: 1, [batch: 4032 / 6720], examples_per_second: 3136.6511, train_label_loss: 0.4804, \n"
     ]
    },
    {
     "name": "stdout",
     "output_type": "stream",
     "text": [
      "epoch: 1, [batch: 4704 / 6720], examples_per_second: 2520.6717, train_label_loss: 0.6256, \n"
     ]
    },
    {
     "name": "stdout",
     "output_type": "stream",
     "text": [
      "epoch: 1, [batch: 5376 / 6720], examples_per_second: 2302.2920, train_label_loss: 0.2528, \n"
     ]
    },
    {
     "name": "stdout",
     "output_type": "stream",
     "text": [
      "epoch: 1, [batch: 6048 / 6720], examples_per_second: 2296.1644, train_label_loss: 0.3543, \n"
     ]
    },
    {
     "name": "stdout",
     "output_type": "stream",
     "text": [
      "=============================================================\n",
      "epoch: 1, source_val_acc_label: 0.7354, target_val_acc_label: 0.7426, source_val_label_loss: 0.8435, target_val_label_loss: 0.8670, \n",
      "=============================================================\n"
     ]
    },
    {
     "name": "stdout",
     "output_type": "stream",
     "text": [
      "New best\n"
     ]
    },
    {
     "name": "stdout",
     "output_type": "stream",
     "text": [
      "epoch: 2, [batch: 1 / 6720], examples_per_second: 2.0024, train_label_loss: 1.1118, \n"
     ]
    },
    {
     "name": "stdout",
     "output_type": "stream",
     "text": [
      "epoch: 2, [batch: 672 / 6720], examples_per_second: 2480.2921, train_label_loss: 0.3100, \n"
     ]
    },
    {
     "name": "stdout",
     "output_type": "stream",
     "text": [
      "epoch: 2, [batch: 1344 / 6720], examples_per_second: 2571.7694, train_label_loss: 1.0275, \n"
     ]
    },
    {
     "name": "stdout",
     "output_type": "stream",
     "text": [
      "epoch: 2, [batch: 2016 / 6720], examples_per_second: 2760.8585, train_label_loss: 0.3294, \n"
     ]
    },
    {
     "name": "stdout",
     "output_type": "stream",
     "text": [
      "epoch: 2, [batch: 2688 / 6720], examples_per_second: 2320.2077, train_label_loss: 0.3276, \n"
     ]
    },
    {
     "name": "stdout",
     "output_type": "stream",
     "text": [
      "epoch: 2, [batch: 3360 / 6720], examples_per_second: 2586.3573, train_label_loss: 0.4820, \n"
     ]
    },
    {
     "name": "stdout",
     "output_type": "stream",
     "text": [
      "epoch: 2, [batch: 4032 / 6720], examples_per_second: 2609.4955, train_label_loss: 0.1427, \n"
     ]
    },
    {
     "name": "stdout",
     "output_type": "stream",
     "text": [
      "epoch: 2, [batch: 4704 / 6720], examples_per_second: 2536.9758, train_label_loss: 1.0964, \n"
     ]
    },
    {
     "name": "stdout",
     "output_type": "stream",
     "text": [
      "epoch: 2, [batch: 5376 / 6720], examples_per_second: 2296.1841, train_label_loss: 0.8407, \n"
     ]
    },
    {
     "name": "stdout",
     "output_type": "stream",
     "text": [
      "epoch: 2, [batch: 6048 / 6720], examples_per_second: 2291.4377, train_label_loss: 0.4013, \n"
     ]
    },
    {
     "name": "stdout",
     "output_type": "stream",
     "text": [
      "=============================================================\n",
      "epoch: 2, source_val_acc_label: 0.8229, target_val_acc_label: 0.8233, source_val_label_loss: 0.5030, target_val_label_loss: 0.4958, \n",
      "=============================================================\n"
     ]
    },
    {
     "name": "stdout",
     "output_type": "stream",
     "text": [
      "New best\n"
     ]
    },
    {
     "name": "stdout",
     "output_type": "stream",
     "text": [
      "epoch: 3, [batch: 1 / 6720], examples_per_second: 1.9991, train_label_loss: 0.6826, \n"
     ]
    },
    {
     "name": "stdout",
     "output_type": "stream",
     "text": [
      "epoch: 3, [batch: 672 / 6720], examples_per_second: 2534.4550, train_label_loss: 0.3487, \n"
     ]
    },
    {
     "name": "stdout",
     "output_type": "stream",
     "text": [
      "epoch: 3, [batch: 1344 / 6720], examples_per_second: 2602.4102, train_label_loss: 0.2786, \n"
     ]
    },
    {
     "name": "stdout",
     "output_type": "stream",
     "text": [
      "epoch: 3, [batch: 2016 / 6720], examples_per_second: 2572.0033, train_label_loss: 0.5766, \n"
     ]
    },
    {
     "name": "stdout",
     "output_type": "stream",
     "text": [
      "epoch: 3, [batch: 2688 / 6720], examples_per_second: 2341.2805, train_label_loss: 0.1335, \n"
     ]
    },
    {
     "name": "stdout",
     "output_type": "stream",
     "text": [
      "epoch: 3, [batch: 3360 / 6720], examples_per_second: 2544.7399, train_label_loss: 0.1660, \n"
     ]
    },
    {
     "name": "stdout",
     "output_type": "stream",
     "text": [
      "epoch: 3, [batch: 4032 / 6720], examples_per_second: 2562.8417, train_label_loss: 0.4244, \n"
     ]
    },
    {
     "name": "stdout",
     "output_type": "stream",
     "text": [
      "epoch: 3, [batch: 4704 / 6720], examples_per_second: 2533.1259, train_label_loss: 0.4881, \n"
     ]
    },
    {
     "name": "stdout",
     "output_type": "stream",
     "text": [
      "epoch: 3, [batch: 5376 / 6720], examples_per_second: 2291.4414, train_label_loss: 0.6771, \n"
     ]
    },
    {
     "name": "stdout",
     "output_type": "stream",
     "text": [
      "epoch: 3, [batch: 6048 / 6720], examples_per_second: 2305.4881, train_label_loss: 0.2946, \n"
     ]
    },
    {
     "name": "stdout",
     "output_type": "stream",
     "text": [
      "=============================================================\n",
      "epoch: 3, source_val_acc_label: 0.8521, target_val_acc_label: 0.8470, source_val_label_loss: 0.4058, target_val_label_loss: 0.4215, \n",
      "=============================================================\n"
     ]
    },
    {
     "name": "stdout",
     "output_type": "stream",
     "text": [
      "New best\n"
     ]
    },
    {
     "name": "stdout",
     "output_type": "stream",
     "text": [
      "epoch: 4, [batch: 1 / 6720], examples_per_second: 1.9924, train_label_loss: 0.1425, \n"
     ]
    },
    {
     "name": "stdout",
     "output_type": "stream",
     "text": [
      "epoch: 4, [batch: 672 / 6720], examples_per_second: 2574.3743, train_label_loss: 0.0884, \n"
     ]
    },
    {
     "name": "stdout",
     "output_type": "stream",
     "text": [
      "epoch: 4, [batch: 1344 / 6720], examples_per_second: 2584.8271, train_label_loss: 0.5801, \n"
     ]
    },
    {
     "name": "stdout",
     "output_type": "stream",
     "text": [
      "epoch: 4, [batch: 2016 / 6720], examples_per_second: 2527.6166, train_label_loss: 0.0459, \n"
     ]
    },
    {
     "name": "stdout",
     "output_type": "stream",
     "text": [
      "epoch: 4, [batch: 2688 / 6720], examples_per_second: 2431.4575, train_label_loss: 0.4898, \n"
     ]
    },
    {
     "name": "stdout",
     "output_type": "stream",
     "text": [
      "epoch: 4, [batch: 3360 / 6720], examples_per_second: 2587.2683, train_label_loss: 0.1328, \n"
     ]
    },
    {
     "name": "stdout",
     "output_type": "stream",
     "text": [
      "epoch: 4, [batch: 4032 / 6720], examples_per_second: 2531.4590, train_label_loss: 0.4028, \n"
     ]
    },
    {
     "name": "stdout",
     "output_type": "stream",
     "text": [
      "epoch: 4, [batch: 4704 / 6720], examples_per_second: 2542.4075, train_label_loss: 0.4767, \n"
     ]
    },
    {
     "name": "stdout",
     "output_type": "stream",
     "text": [
      "epoch: 4, [batch: 5376 / 6720], examples_per_second: 2577.2615, train_label_loss: 0.2565, \n"
     ]
    },
    {
     "name": "stdout",
     "output_type": "stream",
     "text": [
      "epoch: 4, [batch: 6048 / 6720], examples_per_second: 2559.1008, train_label_loss: 0.2340, \n"
     ]
    },
    {
     "name": "stdout",
     "output_type": "stream",
     "text": [
      "=============================================================\n",
      "epoch: 4, source_val_acc_label: 0.8794, target_val_acc_label: 0.8730, source_val_label_loss: 0.3317, target_val_label_loss: 0.3540, \n",
      "=============================================================\n"
     ]
    },
    {
     "name": "stdout",
     "output_type": "stream",
     "text": [
      "New best\n"
     ]
    },
    {
     "name": "stdout",
     "output_type": "stream",
     "text": [
      "epoch: 5, [batch: 1 / 6720], examples_per_second: 2.2734, train_label_loss: 0.1990, \n"
     ]
    },
    {
     "name": "stdout",
     "output_type": "stream",
     "text": [
      "epoch: 5, [batch: 672 / 6720], examples_per_second: 2913.5162, train_label_loss: 0.3791, \n"
     ]
    },
    {
     "name": "stdout",
     "output_type": "stream",
     "text": [
      "epoch: 5, [batch: 1344 / 6720], examples_per_second: 3033.9819, train_label_loss: 0.1617, \n"
     ]
    },
    {
     "name": "stdout",
     "output_type": "stream",
     "text": [
      "epoch: 5, [batch: 2016 / 6720], examples_per_second: 2757.2890, train_label_loss: 0.5031, \n"
     ]
    },
    {
     "name": "stdout",
     "output_type": "stream",
     "text": [
      "epoch: 5, [batch: 2688 / 6720], examples_per_second: 2974.6881, train_label_loss: 0.3921, \n"
     ]
    },
    {
     "name": "stdout",
     "output_type": "stream",
     "text": [
      "epoch: 5, [batch: 3360 / 6720], examples_per_second: 3182.2488, train_label_loss: 0.5598, \n"
     ]
    },
    {
     "name": "stdout",
     "output_type": "stream",
     "text": [
      "epoch: 5, [batch: 4032 / 6720], examples_per_second: 3404.9539, train_label_loss: 0.2609, \n"
     ]
    },
    {
     "name": "stdout",
     "output_type": "stream",
     "text": [
      "epoch: 5, [batch: 4704 / 6720], examples_per_second: 3390.7226, train_label_loss: 0.2441, \n"
     ]
    },
    {
     "name": "stdout",
     "output_type": "stream",
     "text": [
      "epoch: 5, [batch: 5376 / 6720], examples_per_second: 3418.8073, train_label_loss: 0.0574, \n"
     ]
    },
    {
     "name": "stdout",
     "output_type": "stream",
     "text": [
      "epoch: 5, [batch: 6048 / 6720], examples_per_second: 3267.4011, train_label_loss: 0.1532, \n"
     ]
    },
    {
     "name": "stdout",
     "output_type": "stream",
     "text": [
      "=============================================================\n",
      "epoch: 5, source_val_acc_label: 0.8870, target_val_acc_label: 0.8773, source_val_label_loss: 0.3106, target_val_label_loss: 0.3452, \n",
      "=============================================================\n"
     ]
    },
    {
     "name": "stdout",
     "output_type": "stream",
     "text": [
      "New best\n"
     ]
    },
    {
     "name": "stdout",
     "output_type": "stream",
     "text": [
      "epoch: 6, [batch: 1 / 6720], examples_per_second: 3.4425, train_label_loss: 0.2631, \n"
     ]
    },
    {
     "name": "stdout",
     "output_type": "stream",
     "text": [
      "epoch: 6, [batch: 672 / 6720], examples_per_second: 3799.3354, train_label_loss: 0.0905, \n"
     ]
    },
    {
     "name": "stdout",
     "output_type": "stream",
     "text": [
      "epoch: 6, [batch: 1344 / 6720], examples_per_second: 3273.1109, train_label_loss: 0.1924, \n"
     ]
    },
    {
     "name": "stdout",
     "output_type": "stream",
     "text": [
      "epoch: 6, [batch: 2016 / 6720], examples_per_second: 2941.4788, train_label_loss: 0.2206, \n"
     ]
    },
    {
     "name": "stdout",
     "output_type": "stream",
     "text": [
      "epoch: 6, [batch: 2688 / 6720], examples_per_second: 2964.4174, train_label_loss: 0.0729, \n"
     ]
    },
    {
     "name": "stdout",
     "output_type": "stream",
     "text": [
      "epoch: 6, [batch: 3360 / 6720], examples_per_second: 2947.6601, train_label_loss: 0.0329, \n"
     ]
    },
    {
     "name": "stdout",
     "output_type": "stream",
     "text": [
      "epoch: 6, [batch: 4032 / 6720], examples_per_second: 2952.0382, train_label_loss: 0.3934, \n"
     ]
    },
    {
     "name": "stdout",
     "output_type": "stream",
     "text": [
      "epoch: 6, [batch: 4704 / 6720], examples_per_second: 2978.0002, train_label_loss: 0.2521, \n"
     ]
    },
    {
     "name": "stdout",
     "output_type": "stream",
     "text": [
      "epoch: 6, [batch: 5376 / 6720], examples_per_second: 2299.2494, train_label_loss: 0.1219, \n"
     ]
    },
    {
     "name": "stdout",
     "output_type": "stream",
     "text": [
      "epoch: 6, [batch: 6048 / 6720], examples_per_second: 2291.9971, train_label_loss: 0.2473, \n"
     ]
    },
    {
     "name": "stdout",
     "output_type": "stream",
     "text": [
      "=============================================================\n",
      "epoch: 6, source_val_acc_label: 0.8903, target_val_acc_label: 0.8813, source_val_label_loss: 0.3019, target_val_label_loss: 0.3361, \n",
      "=============================================================\n"
     ]
    },
    {
     "name": "stdout",
     "output_type": "stream",
     "text": [
      "New best\n"
     ]
    },
    {
     "name": "stdout",
     "output_type": "stream",
     "text": [
      "epoch: 7, [batch: 1 / 6720], examples_per_second: 2.0858, train_label_loss: 0.1524, \n"
     ]
    },
    {
     "name": "stdout",
     "output_type": "stream",
     "text": [
      "epoch: 7, [batch: 672 / 6720], examples_per_second: 2620.0250, train_label_loss: 0.1531, \n"
     ]
    },
    {
     "name": "stdout",
     "output_type": "stream",
     "text": [
      "epoch: 7, [batch: 1344 / 6720], examples_per_second: 2386.5959, train_label_loss: 0.4431, \n"
     ]
    },
    {
     "name": "stdout",
     "output_type": "stream",
     "text": [
      "epoch: 7, [batch: 2016 / 6720], examples_per_second: 2292.3485, train_label_loss: 0.3241, \n"
     ]
    },
    {
     "name": "stdout",
     "output_type": "stream",
     "text": [
      "epoch: 7, [batch: 2688 / 6720], examples_per_second: 2275.0154, train_label_loss: 0.0716, \n"
     ]
    },
    {
     "name": "stdout",
     "output_type": "stream",
     "text": [
      "epoch: 7, [batch: 3360 / 6720], examples_per_second: 2459.2908, train_label_loss: 0.0866, \n"
     ]
    },
    {
     "name": "stdout",
     "output_type": "stream",
     "text": [
      "epoch: 7, [batch: 4032 / 6720], examples_per_second: 2585.4586, train_label_loss: 0.0728, \n"
     ]
    },
    {
     "name": "stdout",
     "output_type": "stream",
     "text": [
      "epoch: 7, [batch: 4704 / 6720], examples_per_second: 2540.5986, train_label_loss: 0.0705, \n"
     ]
    },
    {
     "name": "stdout",
     "output_type": "stream",
     "text": [
      "epoch: 7, [batch: 5376 / 6720], examples_per_second: 2560.0754, train_label_loss: 0.2144, \n"
     ]
    },
    {
     "name": "stdout",
     "output_type": "stream",
     "text": [
      "epoch: 7, [batch: 6048 / 6720], examples_per_second: 2577.3933, train_label_loss: 0.0731, \n"
     ]
    },
    {
     "name": "stdout",
     "output_type": "stream",
     "text": [
      "=============================================================\n",
      "epoch: 7, source_val_acc_label: 0.8876, target_val_acc_label: 0.8776, source_val_label_loss: 0.3083, target_val_label_loss: 0.3499, \n",
      "=============================================================\n"
     ]
    },
    {
     "name": "stdout",
     "output_type": "stream",
     "text": [
      "epoch: 8, [batch: 1 / 6720], examples_per_second: 2.4499, train_label_loss: 0.2254, \n"
     ]
    },
    {
     "name": "stdout",
     "output_type": "stream",
     "text": [
      "epoch: 8, [batch: 672 / 6720], examples_per_second: 2609.2567, train_label_loss: 0.3060, \n"
     ]
    },
    {
     "name": "stdout",
     "output_type": "stream",
     "text": [
      "epoch: 8, [batch: 1344 / 6720], examples_per_second: 2292.4616, train_label_loss: 0.2288, \n"
     ]
    },
    {
     "name": "stdout",
     "output_type": "stream",
     "text": [
      "epoch: 8, [batch: 2016 / 6720], examples_per_second: 2318.9644, train_label_loss: 0.2895, \n"
     ]
    },
    {
     "name": "stdout",
     "output_type": "stream",
     "text": [
      "epoch: 8, [batch: 2688 / 6720], examples_per_second: 2308.4123, train_label_loss: 0.1908, \n"
     ]
    },
    {
     "name": "stdout",
     "output_type": "stream",
     "text": [
      "epoch: 8, [batch: 3360 / 6720], examples_per_second: 2319.2645, train_label_loss: 0.7206, \n"
     ]
    },
    {
     "name": "stdout",
     "output_type": "stream",
     "text": [
      "epoch: 8, [batch: 4032 / 6720], examples_per_second: 2328.0313, train_label_loss: 0.0686, \n"
     ]
    },
    {
     "name": "stdout",
     "output_type": "stream",
     "text": [
      "epoch: 8, [batch: 4704 / 6720], examples_per_second: 2300.3328, train_label_loss: 0.1332, \n"
     ]
    },
    {
     "name": "stdout",
     "output_type": "stream",
     "text": [
      "epoch: 8, [batch: 5376 / 6720], examples_per_second: 2310.8114, train_label_loss: 0.1270, \n"
     ]
    },
    {
     "name": "stdout",
     "output_type": "stream",
     "text": [
      "epoch: 8, [batch: 6048 / 6720], examples_per_second: 2307.3987, train_label_loss: 0.3652, \n"
     ]
    },
    {
     "name": "stdout",
     "output_type": "stream",
     "text": [
      "=============================================================\n",
      "epoch: 8, source_val_acc_label: 0.8950, target_val_acc_label: 0.8819, source_val_label_loss: 0.2867, target_val_label_loss: 0.3342, \n",
      "=============================================================\n"
     ]
    },
    {
     "name": "stdout",
     "output_type": "stream",
     "text": [
      "New best\n"
     ]
    },
    {
     "name": "stdout",
     "output_type": "stream",
     "text": [
      "epoch: 9, [batch: 1 / 6720], examples_per_second: 2.3333, train_label_loss: 0.1208, \n"
     ]
    },
    {
     "name": "stdout",
     "output_type": "stream",
     "text": [
      "epoch: 9, [batch: 672 / 6720], examples_per_second: 2905.0074, train_label_loss: 0.4880, \n"
     ]
    },
    {
     "name": "stdout",
     "output_type": "stream",
     "text": [
      "epoch: 9, [batch: 1344 / 6720], examples_per_second: 2570.6397, train_label_loss: 0.1930, \n"
     ]
    },
    {
     "name": "stdout",
     "output_type": "stream",
     "text": [
      "epoch: 9, [batch: 2016 / 6720], examples_per_second: 2546.3310, train_label_loss: 0.0742, \n"
     ]
    },
    {
     "name": "stdout",
     "output_type": "stream",
     "text": [
      "epoch: 9, [batch: 2688 / 6720], examples_per_second: 2615.1089, train_label_loss: 0.3432, \n"
     ]
    },
    {
     "name": "stdout",
     "output_type": "stream",
     "text": [
      "epoch: 9, [batch: 3360 / 6720], examples_per_second: 2592.2253, train_label_loss: 0.1403, \n"
     ]
    },
    {
     "name": "stdout",
     "output_type": "stream",
     "text": [
      "epoch: 9, [batch: 4032 / 6720], examples_per_second: 2319.5534, train_label_loss: 0.6110, \n"
     ]
    },
    {
     "name": "stdout",
     "output_type": "stream",
     "text": [
      "epoch: 9, [batch: 4704 / 6720], examples_per_second: 2284.4271, train_label_loss: 0.0411, \n"
     ]
    },
    {
     "name": "stdout",
     "output_type": "stream",
     "text": [
      "epoch: 9, [batch: 5376 / 6720], examples_per_second: 2287.4617, train_label_loss: 0.1786, \n"
     ]
    },
    {
     "name": "stdout",
     "output_type": "stream",
     "text": [
      "epoch: 9, [batch: 6048 / 6720], examples_per_second: 2296.5419, train_label_loss: 0.1375, \n"
     ]
    },
    {
     "name": "stdout",
     "output_type": "stream",
     "text": [
      "=============================================================\n",
      "epoch: 9, source_val_acc_label: 0.8937, target_val_acc_label: 0.8782, source_val_label_loss: 0.2891, target_val_label_loss: 0.3491, \n",
      "=============================================================\n"
     ]
    },
    {
     "name": "stdout",
     "output_type": "stream",
     "text": [
      "epoch: 10, [batch: 1 / 6720], examples_per_second: 2.1995, train_label_loss: 0.1628, \n"
     ]
    },
    {
     "name": "stdout",
     "output_type": "stream",
     "text": [
      "epoch: 10, [batch: 672 / 6720], examples_per_second: 2910.6412, train_label_loss: 0.1640, \n"
     ]
    },
    {
     "name": "stdout",
     "output_type": "stream",
     "text": [
      "epoch: 10, [batch: 1344 / 6720], examples_per_second: 2866.3823, train_label_loss: 0.0905, \n"
     ]
    },
    {
     "name": "stdout",
     "output_type": "stream",
     "text": [
      "epoch: 10, [batch: 2016 / 6720], examples_per_second: 3252.6035, train_label_loss: 0.1017, \n"
     ]
    },
    {
     "name": "stdout",
     "output_type": "stream",
     "text": [
      "epoch: 10, [batch: 2688 / 6720], examples_per_second: 3217.8494, train_label_loss: 0.1521, \n"
     ]
    },
    {
     "name": "stdout",
     "output_type": "stream",
     "text": [
      "epoch: 10, [batch: 3360 / 6720], examples_per_second: 3315.6151, train_label_loss: 0.2011, \n"
     ]
    },
    {
     "name": "stdout",
     "output_type": "stream",
     "text": [
      "epoch: 10, [batch: 4032 / 6720], examples_per_second: 3191.7593, train_label_loss: 0.2428, \n"
     ]
    },
    {
     "name": "stdout",
     "output_type": "stream",
     "text": [
      "epoch: 10, [batch: 4704 / 6720], examples_per_second: 3782.0143, train_label_loss: 0.1304, \n"
     ]
    },
    {
     "name": "stdout",
     "output_type": "stream",
     "text": [
      "epoch: 10, [batch: 5376 / 6720], examples_per_second: 3423.0408, train_label_loss: 0.1838, \n"
     ]
    },
    {
     "name": "stdout",
     "output_type": "stream",
     "text": [
      "epoch: 10, [batch: 6048 / 6720], examples_per_second: 3297.1110, train_label_loss: 0.0289, \n"
     ]
    },
    {
     "name": "stdout",
     "output_type": "stream",
     "text": [
      "=============================================================\n",
      "epoch: 10, source_val_acc_label: 0.8946, target_val_acc_label: 0.8807, source_val_label_loss: 0.2854, target_val_label_loss: 0.3406, \n",
      "=============================================================\n"
     ]
    },
    {
     "name": "stdout",
     "output_type": "stream",
     "text": [
      "epoch: 11, [batch: 1 / 6720], examples_per_second: 2.8102, train_label_loss: 0.0300, \n"
     ]
    },
    {
     "name": "stdout",
     "output_type": "stream",
     "text": [
      "epoch: 11, [batch: 672 / 6720], examples_per_second: 2937.3519, train_label_loss: 0.4353, \n"
     ]
    },
    {
     "name": "stdout",
     "output_type": "stream",
     "text": [
      "epoch: 11, [batch: 1344 / 6720], examples_per_second: 2862.9097, train_label_loss: 0.1218, \n"
     ]
    },
    {
     "name": "stdout",
     "output_type": "stream",
     "text": [
      "epoch: 11, [batch: 2016 / 6720], examples_per_second: 2978.9103, train_label_loss: 0.1401, \n"
     ]
    },
    {
     "name": "stdout",
     "output_type": "stream",
     "text": [
      "epoch: 11, [batch: 2688 / 6720], examples_per_second: 2972.5376, train_label_loss: 0.0720, \n"
     ]
    },
    {
     "name": "stdout",
     "output_type": "stream",
     "text": [
      "epoch: 11, [batch: 3360 / 6720], examples_per_second: 2962.8670, train_label_loss: 0.3043, \n"
     ]
    },
    {
     "name": "stdout",
     "output_type": "stream",
     "text": [
      "epoch: 11, [batch: 4032 / 6720], examples_per_second: 2932.6957, train_label_loss: 0.2092, \n"
     ]
    },
    {
     "name": "stdout",
     "output_type": "stream",
     "text": [
      "epoch: 11, [batch: 4704 / 6720], examples_per_second: 3090.0149, train_label_loss: 0.1054, \n"
     ]
    },
    {
     "name": "stdout",
     "output_type": "stream",
     "text": [
      "epoch: 11, [batch: 5376 / 6720], examples_per_second: 3426.8447, train_label_loss: 0.0861, \n"
     ]
    },
    {
     "name": "stdout",
     "output_type": "stream",
     "text": [
      "epoch: 11, [batch: 6048 / 6720], examples_per_second: 3420.4353, train_label_loss: 0.1900, \n"
     ]
    },
    {
     "name": "stdout",
     "output_type": "stream",
     "text": [
      "=============================================================\n",
      "epoch: 11, source_val_acc_label: 0.8875, target_val_acc_label: 0.8705, source_val_label_loss: 0.3165, target_val_label_loss: 0.3759, \n",
      "=============================================================\n"
     ]
    },
    {
     "name": "stdout",
     "output_type": "stream",
     "text": [
      "epoch: 12, [batch: 1 / 6720], examples_per_second: 3.0642, train_label_loss: 0.1170, \n"
     ]
    },
    {
     "name": "stdout",
     "output_type": "stream",
     "text": [
      "epoch: 12, [batch: 672 / 6720], examples_per_second: 3684.5961, train_label_loss: 0.0177, \n"
     ]
    },
    {
     "name": "stdout",
     "output_type": "stream",
     "text": [
      "epoch: 12, [batch: 1344 / 6720], examples_per_second: 3044.5057, train_label_loss: 0.4134, \n"
     ]
    },
    {
     "name": "stdout",
     "output_type": "stream",
     "text": [
      "epoch: 12, [batch: 2016 / 6720], examples_per_second: 2995.2359, train_label_loss: 0.1458, \n"
     ]
    },
    {
     "name": "stdout",
     "output_type": "stream",
     "text": [
      "epoch: 12, [batch: 2688 / 6720], examples_per_second: 2980.5380, train_label_loss: 0.1809, \n"
     ]
    },
    {
     "name": "stdout",
     "output_type": "stream",
     "text": [
      "epoch: 12, [batch: 3360 / 6720], examples_per_second: 3048.8192, train_label_loss: 0.3500, \n"
     ]
    },
    {
     "name": "stdout",
     "output_type": "stream",
     "text": [
      "epoch: 12, [batch: 4032 / 6720], examples_per_second: 3002.2401, train_label_loss: 0.1079, \n"
     ]
    },
    {
     "name": "stdout",
     "output_type": "stream",
     "text": [
      "epoch: 12, [batch: 4704 / 6720], examples_per_second: 3005.0983, train_label_loss: 0.1226, \n"
     ]
    },
    {
     "name": "stdout",
     "output_type": "stream",
     "text": [
      "epoch: 12, [batch: 5376 / 6720], examples_per_second: 2948.0611, train_label_loss: 0.1024, \n"
     ]
    },
    {
     "name": "stdout",
     "output_type": "stream",
     "text": [
      "epoch: 12, [batch: 6048 / 6720], examples_per_second: 2944.2674, train_label_loss: 0.2668, \n"
     ]
    },
    {
     "name": "stdout",
     "output_type": "stream",
     "text": [
      "=============================================================\n",
      "epoch: 12, source_val_acc_label: 0.9044, target_val_acc_label: 0.8848, source_val_label_loss: 0.2652, target_val_label_loss: 0.3347, \n",
      "=============================================================\n"
     ]
    },
    {
     "name": "stdout",
     "output_type": "stream",
     "text": [
      "New best\n"
     ]
    },
    {
     "name": "stdout",
     "output_type": "stream",
     "text": [
      "epoch: 13, [batch: 1 / 6720], examples_per_second: 2.8316, train_label_loss: 0.1420, \n"
     ]
    },
    {
     "name": "stdout",
     "output_type": "stream",
     "text": [
      "epoch: 13, [batch: 672 / 6720], examples_per_second: 3327.3221, train_label_loss: 0.4225, \n"
     ]
    },
    {
     "name": "stdout",
     "output_type": "stream",
     "text": [
      "epoch: 13, [batch: 1344 / 6720], examples_per_second: 3398.1536, train_label_loss: 0.1930, \n"
     ]
    },
    {
     "name": "stdout",
     "output_type": "stream",
     "text": [
      "epoch: 13, [batch: 2016 / 6720], examples_per_second: 3409.1035, train_label_loss: 0.0912, \n"
     ]
    },
    {
     "name": "stdout",
     "output_type": "stream",
     "text": [
      "epoch: 13, [batch: 2688 / 6720], examples_per_second: 3335.3946, train_label_loss: 0.0979, \n"
     ]
    },
    {
     "name": "stdout",
     "output_type": "stream",
     "text": [
      "epoch: 13, [batch: 3360 / 6720], examples_per_second: 3467.0929, train_label_loss: 0.1324, \n"
     ]
    },
    {
     "name": "stdout",
     "output_type": "stream",
     "text": [
      "epoch: 13, [batch: 4032 / 6720], examples_per_second: 3348.1610, train_label_loss: 0.3830, \n"
     ]
    },
    {
     "name": "stdout",
     "output_type": "stream",
     "text": [
      "epoch: 13, [batch: 4704 / 6720], examples_per_second: 2956.2739, train_label_loss: 0.0853, \n"
     ]
    },
    {
     "name": "stdout",
     "output_type": "stream",
     "text": [
      "epoch: 13, [batch: 5376 / 6720], examples_per_second: 2980.1399, train_label_loss: 0.2058, \n"
     ]
    },
    {
     "name": "stdout",
     "output_type": "stream",
     "text": [
      "epoch: 13, [batch: 6048 / 6720], examples_per_second: 2967.4657, train_label_loss: 0.1513, \n"
     ]
    },
    {
     "name": "stdout",
     "output_type": "stream",
     "text": [
      "=============================================================\n",
      "epoch: 13, source_val_acc_label: 0.9030, target_val_acc_label: 0.8866, source_val_label_loss: 0.2708, target_val_label_loss: 0.3364, \n",
      "=============================================================\n"
     ]
    },
    {
     "name": "stdout",
     "output_type": "stream",
     "text": [
      "New best\n"
     ]
    },
    {
     "name": "stdout",
     "output_type": "stream",
     "text": [
      "epoch: 14, [batch: 1 / 6720], examples_per_second: 2.7550, train_label_loss: 0.0666, \n"
     ]
    },
    {
     "name": "stdout",
     "output_type": "stream",
     "text": [
      "epoch: 14, [batch: 672 / 6720], examples_per_second: 2943.9693, train_label_loss: 0.0451, \n"
     ]
    },
    {
     "name": "stdout",
     "output_type": "stream",
     "text": [
      "epoch: 14, [batch: 1344 / 6720], examples_per_second: 2954.5695, train_label_loss: 0.3351, \n"
     ]
    },
    {
     "name": "stdout",
     "output_type": "stream",
     "text": [
      "epoch: 14, [batch: 2016 / 6720], examples_per_second: 3081.7563, train_label_loss: 0.1007, \n"
     ]
    },
    {
     "name": "stdout",
     "output_type": "stream",
     "text": [
      "epoch: 14, [batch: 2688 / 6720], examples_per_second: 3414.5292, train_label_loss: 0.0901, \n"
     ]
    },
    {
     "name": "stdout",
     "output_type": "stream",
     "text": [
      "epoch: 14, [batch: 3360 / 6720], examples_per_second: 3457.9057, train_label_loss: 0.0042, \n"
     ]
    },
    {
     "name": "stdout",
     "output_type": "stream",
     "text": [
      "epoch: 14, [batch: 4032 / 6720], examples_per_second: 3394.2469, train_label_loss: 0.0505, \n"
     ]
    },
    {
     "name": "stdout",
     "output_type": "stream",
     "text": [
      "epoch: 14, [batch: 4704 / 6720], examples_per_second: 3555.2802, train_label_loss: 0.1052, \n"
     ]
    },
    {
     "name": "stdout",
     "output_type": "stream",
     "text": [
      "epoch: 14, [batch: 5376 / 6720], examples_per_second: 3753.2752, train_label_loss: 0.0235, \n"
     ]
    },
    {
     "name": "stdout",
     "output_type": "stream",
     "text": [
      "epoch: 14, [batch: 6048 / 6720], examples_per_second: 3628.4681, train_label_loss: 0.4718, \n"
     ]
    },
    {
     "name": "stdout",
     "output_type": "stream",
     "text": [
      "=============================================================\n",
      "epoch: 14, source_val_acc_label: 0.9040, target_val_acc_label: 0.8824, source_val_label_loss: 0.2721, target_val_label_loss: 0.3605, \n",
      "=============================================================\n"
     ]
    },
    {
     "name": "stdout",
     "output_type": "stream",
     "text": [
      "epoch: 15, [batch: 1 / 6720], examples_per_second: 3.6256, train_label_loss: 0.3938, \n"
     ]
    },
    {
     "name": "stdout",
     "output_type": "stream",
     "text": [
      "epoch: 15, [batch: 672 / 6720], examples_per_second: 4123.4974, train_label_loss: 0.1750, \n"
     ]
    },
    {
     "name": "stdout",
     "output_type": "stream",
     "text": [
      "epoch: 15, [batch: 1344 / 6720], examples_per_second: 4457.8729, train_label_loss: 0.0684, \n"
     ]
    },
    {
     "name": "stdout",
     "output_type": "stream",
     "text": [
      "epoch: 15, [batch: 2016 / 6720], examples_per_second: 3741.2695, train_label_loss: 0.1069, \n"
     ]
    },
    {
     "name": "stdout",
     "output_type": "stream",
     "text": [
      "epoch: 15, [batch: 2688 / 6720], examples_per_second: 3419.8339, train_label_loss: 0.0356, \n"
     ]
    },
    {
     "name": "stdout",
     "output_type": "stream",
     "text": [
      "epoch: 15, [batch: 3360 / 6720], examples_per_second: 3386.0136, train_label_loss: 0.0027, \n"
     ]
    },
    {
     "name": "stdout",
     "output_type": "stream",
     "text": [
      "epoch: 15, [batch: 4032 / 6720], examples_per_second: 3431.8914, train_label_loss: 0.1964, \n"
     ]
    },
    {
     "name": "stdout",
     "output_type": "stream",
     "text": [
      "epoch: 15, [batch: 4704 / 6720], examples_per_second: 3389.9638, train_label_loss: 0.0150, \n"
     ]
    },
    {
     "name": "stdout",
     "output_type": "stream",
     "text": [
      "epoch: 15, [batch: 5376 / 6720], examples_per_second: 3422.4948, train_label_loss: 0.1472, \n"
     ]
    },
    {
     "name": "stdout",
     "output_type": "stream",
     "text": [
      "epoch: 15, [batch: 6048 / 6720], examples_per_second: 3432.3330, train_label_loss: 0.0949, \n"
     ]
    },
    {
     "name": "stdout",
     "output_type": "stream",
     "text": [
      "=============================================================\n",
      "epoch: 15, source_val_acc_label: 0.8971, target_val_acc_label: 0.8801, source_val_label_loss: 0.2882, target_val_label_loss: 0.3608, \n",
      "=============================================================\n"
     ]
    },
    {
     "name": "stdout",
     "output_type": "stream",
     "text": [
      "epoch: 16, [batch: 1 / 6720], examples_per_second: 3.1671, train_label_loss: 0.3060, \n"
     ]
    },
    {
     "name": "stdout",
     "output_type": "stream",
     "text": [
      "epoch: 16, [batch: 672 / 6720], examples_per_second: 3396.8504, train_label_loss: 0.0192, \n"
     ]
    },
    {
     "name": "stdout",
     "output_type": "stream",
     "text": [
      "epoch: 16, [batch: 1344 / 6720], examples_per_second: 3481.0755, train_label_loss: 0.1280, \n"
     ]
    },
    {
     "name": "stdout",
     "output_type": "stream",
     "text": [
      "epoch: 16, [batch: 2016 / 6720], examples_per_second: 3467.1480, train_label_loss: 0.1350, \n"
     ]
    },
    {
     "name": "stdout",
     "output_type": "stream",
     "text": [
      "epoch: 16, [batch: 2688 / 6720], examples_per_second: 3432.2064, train_label_loss: 0.0633, \n"
     ]
    },
    {
     "name": "stdout",
     "output_type": "stream",
     "text": [
      "epoch: 16, [batch: 3360 / 6720], examples_per_second: 3394.9417, train_label_loss: 0.1626, \n"
     ]
    },
    {
     "name": "stdout",
     "output_type": "stream",
     "text": [
      "epoch: 16, [batch: 4032 / 6720], examples_per_second: 3432.8371, train_label_loss: 0.0782, \n"
     ]
    },
    {
     "name": "stdout",
     "output_type": "stream",
     "text": [
      "epoch: 16, [batch: 4704 / 6720], examples_per_second: 3450.4956, train_label_loss: 0.2194, \n"
     ]
    },
    {
     "name": "stdout",
     "output_type": "stream",
     "text": [
      "epoch: 16, [batch: 5376 / 6720], examples_per_second: 3412.7038, train_label_loss: 0.1833, \n"
     ]
    },
    {
     "name": "stdout",
     "output_type": "stream",
     "text": [
      "epoch: 16, [batch: 6048 / 6720], examples_per_second: 3515.4957, train_label_loss: 0.0320, \n"
     ]
    },
    {
     "name": "stdout",
     "output_type": "stream",
     "text": [
      "=============================================================\n",
      "epoch: 16, source_val_acc_label: 0.9039, target_val_acc_label: 0.8853, source_val_label_loss: 0.2769, target_val_label_loss: 0.3495, \n",
      "=============================================================\n"
     ]
    },
    {
     "name": "stdout",
     "output_type": "stream",
     "text": [
      "epoch: 17, [batch: 1 / 6720], examples_per_second: 3.9164, train_label_loss: 0.0590, \n"
     ]
    },
    {
     "name": "stdout",
     "output_type": "stream",
     "text": [
      "epoch: 17, [batch: 672 / 6720], examples_per_second: 3840.0915, train_label_loss: 0.0117, \n"
     ]
    },
    {
     "name": "stdout",
     "output_type": "stream",
     "text": [
      "epoch: 17, [batch: 1344 / 6720], examples_per_second: 3904.0643, train_label_loss: 0.5237, \n"
     ]
    },
    {
     "name": "stdout",
     "output_type": "stream",
     "text": [
      "epoch: 17, [batch: 2016 / 6720], examples_per_second: 3978.2862, train_label_loss: 0.0835, \n"
     ]
    },
    {
     "name": "stdout",
     "output_type": "stream",
     "text": [
      "epoch: 17, [batch: 2688 / 6720], examples_per_second: 3954.9824, train_label_loss: 0.0168, \n"
     ]
    },
    {
     "name": "stdout",
     "output_type": "stream",
     "text": [
      "epoch: 17, [batch: 3360 / 6720], examples_per_second: 4006.2520, train_label_loss: 0.0672, \n"
     ]
    },
    {
     "name": "stdout",
     "output_type": "stream",
     "text": [
      "epoch: 17, [batch: 4032 / 6720], examples_per_second: 4061.1017, train_label_loss: 0.1794, \n"
     ]
    },
    {
     "name": "stdout",
     "output_type": "stream",
     "text": [
      "epoch: 17, [batch: 4704 / 6720], examples_per_second: 4023.7064, train_label_loss: 0.0440, \n"
     ]
    },
    {
     "name": "stdout",
     "output_type": "stream",
     "text": [
      "epoch: 17, [batch: 5376 / 6720], examples_per_second: 3925.8097, train_label_loss: 0.0154, \n"
     ]
    },
    {
     "name": "stdout",
     "output_type": "stream",
     "text": [
      "epoch: 17, [batch: 6048 / 6720], examples_per_second: 3909.5878, train_label_loss: 0.1546, \n"
     ]
    },
    {
     "name": "stdout",
     "output_type": "stream",
     "text": [
      "=============================================================\n",
      "epoch: 17, source_val_acc_label: 0.9013, target_val_acc_label: 0.8801, source_val_label_loss: 0.2924, target_val_label_loss: 0.3835, \n",
      "=============================================================\n"
     ]
    },
    {
     "name": "stdout",
     "output_type": "stream",
     "text": [
      "Patience (3) exhausted\n"
     ]
    }
   ],
   "source": [
    "###################################\n",
    "# train\n",
    "###################################\n",
    "jig = PTN_Train_Eval_Test_Jig(model, p.BEST_MODEL_PATH, p.device)\n",
    "\n",
    "jig.train(\n",
    "    train_iterable=datasets.source.processed.train,\n",
    "    source_val_iterable=datasets.source.processed.val,\n",
    "    target_val_iterable=datasets.target.processed.val,\n",
    "    num_epochs=p.n_epoch,\n",
    "    num_logs_per_epoch=p.NUM_LOGS_PER_EPOCH,\n",
    "    patience=p.patience,\n",
    "    optimizer=optimizer,\n",
    "    criteria_for_best=p.criteria_for_best,\n",
    ")"
   ]
  },
  {
   "cell_type": "code",
   "execution_count": 23,
   "id": "31e8fabf",
   "metadata": {
    "execution": {
     "iopub.execute_input": "2022-03-21T21:01:42.158788Z",
     "iopub.status.busy": "2022-03-21T21:01:42.158414Z",
     "iopub.status.idle": "2022-03-21T21:01:42.192869Z",
     "shell.execute_reply": "2022-03-21T21:01:42.192117Z"
    },
    "papermill": {
     "duration": 0.116139,
     "end_time": "2022-03-21T21:01:42.193058",
     "exception": false,
     "start_time": "2022-03-21T21:01:42.076919",
     "status": "completed"
    },
    "tags": []
   },
   "outputs": [],
   "source": [
    "total_experiment_time_secs = time.time() - start_time_secs"
   ]
  },
  {
   "cell_type": "code",
   "execution_count": 24,
   "id": "87b9595b",
   "metadata": {
    "execution": {
     "iopub.execute_input": "2022-03-21T21:01:42.358258Z",
     "iopub.status.busy": "2022-03-21T21:01:42.357320Z",
     "iopub.status.idle": "2022-03-21T21:04:35.063117Z",
     "shell.execute_reply": "2022-03-21T21:04:35.063814Z"
    },
    "papermill": {
     "duration": 172.789466,
     "end_time": "2022-03-21T21:04:35.064058",
     "exception": false,
     "start_time": "2022-03-21T21:01:42.274592",
     "status": "completed"
    },
    "tags": []
   },
   "outputs": [],
   "source": [
    "###################################\n",
    "# Evaluate the model\n",
    "###################################\n",
    "source_test_label_accuracy, source_test_label_loss = jig.test(datasets.source.processed.test)\n",
    "target_test_label_accuracy, target_test_label_loss = jig.test(datasets.target.processed.test)\n",
    "\n",
    "source_val_label_accuracy, source_val_label_loss = jig.test(datasets.source.processed.val)\n",
    "target_val_label_accuracy, target_val_label_loss = jig.test(datasets.target.processed.val)\n",
    "\n",
    "history = jig.get_history()\n",
    "\n",
    "total_epochs_trained = len(history[\"epoch_indices\"])\n",
    "\n",
    "val_dl = Iterable_Aggregator((datasets.source.original.val,datasets.target.original.val))\n",
    "\n",
    "confusion = ptn_confusion_by_domain_over_dataloader(model, p.device, val_dl)\n",
    "per_domain_accuracy = per_domain_accuracy_from_confusion(confusion)\n",
    "\n",
    "# Add a key to per_domain_accuracy for if it was a source domain\n",
    "for domain, accuracy in per_domain_accuracy.items():\n",
    "    per_domain_accuracy[domain] = {\n",
    "        \"accuracy\": accuracy,\n",
    "        \"source?\": domain in p.domains_source\n",
    "    }\n",
    "\n",
    "# Do an independent accuracy assesment JUST TO BE SURE!\n",
    "# _source_test_label_accuracy = independent_accuracy_assesment(model, datasets.source.processed.test, p.device)\n",
    "# _target_test_label_accuracy = independent_accuracy_assesment(model, datasets.target.processed.test, p.device)\n",
    "# _source_val_label_accuracy = independent_accuracy_assesment(model, datasets.source.processed.val, p.device)\n",
    "# _target_val_label_accuracy = independent_accuracy_assesment(model, datasets.target.processed.val, p.device)\n",
    "\n",
    "# assert(_source_test_label_accuracy == source_test_label_accuracy)\n",
    "# assert(_target_test_label_accuracy == target_test_label_accuracy)\n",
    "# assert(_source_val_label_accuracy == source_val_label_accuracy)\n",
    "# assert(_target_val_label_accuracy == target_val_label_accuracy)\n",
    "\n",
    "experiment = {\n",
    "    \"experiment_name\": p.experiment_name,\n",
    "    \"parameters\": dict(p),\n",
    "    \"results\": {\n",
    "        \"source_test_label_accuracy\": source_test_label_accuracy,\n",
    "        \"source_test_label_loss\": source_test_label_loss,\n",
    "        \"target_test_label_accuracy\": target_test_label_accuracy,\n",
    "        \"target_test_label_loss\": target_test_label_loss,\n",
    "        \"source_val_label_accuracy\": source_val_label_accuracy,\n",
    "        \"source_val_label_loss\": source_val_label_loss,\n",
    "        \"target_val_label_accuracy\": target_val_label_accuracy,\n",
    "        \"target_val_label_loss\": target_val_label_loss,\n",
    "        \"total_epochs_trained\": total_epochs_trained,\n",
    "        \"total_experiment_time_secs\": total_experiment_time_secs,\n",
    "        \"confusion\": confusion,\n",
    "        \"per_domain_accuracy\": per_domain_accuracy,\n",
    "    },\n",
    "    \"history\": history,\n",
    "    \"dataset_metrics\": get_dataset_metrics(datasets, \"ptn\"),\n",
    "}"
   ]
  },
  {
   "cell_type": "code",
   "execution_count": 25,
   "id": "54a21829",
   "metadata": {
    "execution": {
     "iopub.execute_input": "2022-03-21T21:04:35.231463Z",
     "iopub.status.busy": "2022-03-21T21:04:35.231086Z",
     "iopub.status.idle": "2022-03-21T21:04:35.470406Z",
     "shell.execute_reply": "2022-03-21T21:04:35.469623Z"
    },
    "papermill": {
     "duration": 0.317611,
     "end_time": "2022-03-21T21:04:35.470571",
     "exception": false,
     "start_time": "2022-03-21T21:04:35.152960",
     "status": "completed"
    },
    "tags": []
   },
   "outputs": [
    {
     "data": {
      "image/png": "[encoded data removed]",
      "text/plain": [
       "<Figure size 1080x504 with 1 Axes>"
      ]
     },
     "metadata": {
      "needs_background": "light"
     },
     "output_type": "display_data"
    }
   ],
   "source": [
    "ax = get_loss_curve(experiment)\n",
    "plt.show()"
   ]
  },
  {
   "cell_type": "code",
   "execution_count": 26,
   "id": "fd8a0f60",
   "metadata": {
    "execution": {
     "iopub.execute_input": "2022-03-21T21:04:35.630514Z",
     "iopub.status.busy": "2022-03-21T21:04:35.630146Z",
     "iopub.status.idle": "2022-03-21T21:04:35.972423Z",
     "shell.execute_reply": "2022-03-21T21:04:35.971661Z"
    },
    "papermill": {
     "duration": 0.421812,
     "end_time": "2022-03-21T21:04:35.972581",
     "exception": false,
     "start_time": "2022-03-21T21:04:35.550769",
     "status": "completed"
    },
    "tags": []
   },
   "outputs": [
    {
     "data": {
      "text/plain": [
       "<AxesSubplot:title={'center':'Results'}>"
      ]
     },
     "execution_count": 26,
     "metadata": {},
     "output_type": "execute_result"
    },
    {
     "data": {
      "image/png": "[encoded data removed]",
      "text/plain": [
       "<Figure size 1080x504 with 1 Axes>"
      ]
     },
     "metadata": {
      "needs_background": "light"
     },
     "output_type": "display_data"
    }
   ],
   "source": [
    "get_results_table(experiment)"
   ]
  },
  {
   "cell_type": "code",
   "execution_count": 27,
   "id": "cf8dc689",
   "metadata": {
    "execution": {
     "iopub.execute_input": "2022-03-21T21:04:36.136584Z",
     "iopub.status.busy": "2022-03-21T21:04:36.136214Z",
     "iopub.status.idle": "2022-03-21T21:04:36.423953Z",
     "shell.execute_reply": "2022-03-21T21:04:36.424647Z"
    },
    "papermill": {
     "duration": 0.369599,
     "end_time": "2022-03-21T21:04:36.424841",
     "exception": false,
     "start_time": "2022-03-21T21:04:36.055242",
     "status": "completed"
    },
    "tags": []
   },
   "outputs": [
    {
     "data": {
      "text/plain": [
       "<AxesSubplot:title={'center':'Per Domain Validation Accuracy'}, xlabel='domain'>"
      ]
     },
     "execution_count": 27,
     "metadata": {},
     "output_type": "execute_result"
    },
    {
     "data": {
      "image/png": "[encoded data removed]",
      "text/plain": [
       "<Figure size 1080x504 with 1 Axes>"
      ]
     },
     "metadata": {
      "needs_background": "light"
     },
     "output_type": "display_data"
    }
   ],
   "source": [
    "get_domain_accuracies(experiment)"
   ]
  },
  {
   "cell_type": "code",
   "execution_count": 28,
   "id": "a74ae082",
   "metadata": {
    "execution": {
     "iopub.execute_input": "2022-03-21T21:04:36.599761Z",
     "iopub.status.busy": "2022-03-21T21:04:36.599378Z",
     "iopub.status.idle": "2022-03-21T21:04:36.626873Z",
     "shell.execute_reply": "2022-03-21T21:04:36.626065Z"
    },
    "papermill": {
     "duration": 0.113636,
     "end_time": "2022-03-21T21:04:36.627033",
     "exception": false,
     "start_time": "2022-03-21T21:04:36.513397",
     "status": "completed"
    },
    "tags": []
   },
   "outputs": [
    {
     "name": "stdout",
     "output_type": "stream",
     "text": [
      "Source Test Label Accuracy: 0.9025716145833333 Target Test Label Accuracy: 0.884375\n",
      "Source Val Label Accuracy: 0.9029622395833333 Target Val Label Accuracy: 0.8865885416666667\n"
     ]
    }
   ],
   "source": [
    "print(\"Source Test Label Accuracy:\", experiment[\"results\"][\"source_test_label_accuracy\"], \"Target Test Label Accuracy:\", experiment[\"results\"][\"target_test_label_accuracy\"])\n",
    "print(\"Source Val Label Accuracy:\", experiment[\"results\"][\"source_val_label_accuracy\"], \"Target Val Label Accuracy:\", experiment[\"results\"][\"target_val_label_accuracy\"])"
   ]
  },
  {
   "cell_type": "code",
   "execution_count": 29,
   "id": "dacca602",
   "metadata": {
    "execution": {
     "iopub.execute_input": "2022-03-21T21:04:36.793727Z",
     "iopub.status.busy": "2022-03-21T21:04:36.793354Z",
     "iopub.status.idle": "2022-03-21T21:04:36.818244Z",
     "shell.execute_reply": "2022-03-21T21:04:36.818928Z"
    },
    "papermill": {
     "duration": 0.109279,
     "end_time": "2022-03-21T21:04:36.819114",
     "exception": false,
     "start_time": "2022-03-21T21:04:36.709835",
     "status": "completed"
    },
    "tags": [
     "experiment_json"
    ]
   },
   "outputs": [
    {
     "data": {
      "text/plain": [
       "'{\"experiment_name\": \"tl_1v2:oracle.run1.framed-oracle.run2.framed\", \"parameters\": {\"experiment_name\": \"tl_1v2:oracle.run1.framed-oracle.run2.framed\", \"device\": \"cuda\", \"lr\": 0.0001, \"n_shot\": 3, \"n_query\": 2, \"train_k_factor\": 3, \"val_k_factor\": 2, \"test_k_factor\": 2, \"torch_default_dtype\": \"torch.float32\", \"n_epoch\": 50, \"patience\": 3, \"criteria_for_best\": \"target_accuracy\", \"x_net\": [{\"class\": \"nnReshape\", \"kargs\": {\"shape\": [-1, 1, 2, 256]}}, {\"class\": \"Conv2d\", \"kargs\": {\"in_channels\": 1, \"out_channels\": 256, \"kernel_size\": [1, 7], \"bias\": false, \"padding\": [0, 3]}}, {\"class\": \"ReLU\", \"kargs\": {\"inplace\": true}}, {\"class\": \"BatchNorm2d\", \"kargs\": {\"num_features\": 256}}, {\"class\": \"Conv2d\", \"kargs\": {\"in_channels\": 256, \"out_channels\": 80, \"kernel_size\": [2, 7], \"bias\": true, \"padding\": [0, 3]}}, {\"class\": \"ReLU\", \"kargs\": {\"inplace\": true}}, {\"class\": \"BatchNorm2d\", \"kargs\": {\"num_features\": 80}}, {\"class\": \"Flatten\", \"kargs\": {}}, {\"class\": \"Linear\", \"kargs\": {\"in_features\": 20480, \"out_features\": 256}}, {\"class\": \"ReLU\", \"kargs\": {\"inplace\": true}}, {\"class\": \"BatchNorm1d\", \"kargs\": {\"num_features\": 256}}, {\"class\": \"Linear\", \"kargs\": {\"in_features\": 256, \"out_features\": 256}}], \"NUM_LOGS_PER_EPOCH\": 10, \"BEST_MODEL_PATH\": \"./best_model.pth\", \"n_way\": 16, \"datasets\": [{\"labels\": [\"3123D52\", \"3123D65\", \"3123D79\", \"3123D80\", \"3123D54\", \"3123D70\", \"3123D7B\", \"3123D89\", \"3123D58\", \"3123D76\", \"3123D7D\", \"3123EFE\", \"3123D64\", \"3123D78\", \"3123D7E\", \"3124E4A\"], \"domains\": [32, 38, 8, 44, 14, 50, 20, 26], \"num_examples_per_domain_per_label\": 2000, \"pickle_path\": \"/root/csc500-main/datasets/oracle.Run1_framed_2000Examples_stratified_ds.2022A.pkl\", \"source_or_target_dataset\": \"target\", \"x_transforms\": [\"unit_power\"], \"episode_transforms\": [], \"domain_prefix\": \"ORACLE.run1_\"}, {\"labels\": [\"3123D52\", \"3123D65\", \"3123D79\", \"3123D80\", \"3123D54\", \"3123D70\", \"3123D7B\", \"3123D89\", \"3123D58\", \"3123D76\", \"3123D7D\", \"3123EFE\", \"3123D64\", \"3123D78\", \"3123D7E\", \"3124E4A\"], \"domains\": [32, 38, 8, 44, 14, 50, 20, 26], \"num_examples_per_domain_per_label\": 2000, \"pickle_path\": \"/root/csc500-main/datasets/oracle.Run2_framed_2000Examples_stratified_ds.2022A.pkl\", \"source_or_target_dataset\": \"source\", \"x_transforms\": [\"unit_power\"], \"episode_transforms\": [], \"domain_prefix\": \"ORACLE.run2_\"}], \"dataset_seed\": 154325, \"seed\": 154325, \"x_shape\": [2, 256], \"domains_source\": [\"ORACLE.run2_32\", \"ORACLE.run2_38\", \"ORACLE.run2_8\", \"ORACLE.run2_44\", \"ORACLE.run2_14\", \"ORACLE.run2_50\", \"ORACLE.run2_20\", \"ORACLE.run2_26\"], \"domains_target\": [\"ORACLE.run1_32\", \"ORACLE.run1_38\", \"ORACLE.run1_8\", \"ORACLE.run1_44\", \"ORACLE.run1_14\", \"ORACLE.run1_50\", \"ORACLE.run1_20\", \"ORACLE.run1_26\"]}, \"results\": {\"source_test_label_accuracy\": 0.9025716145833333, \"source_test_label_loss\": 0.28026309609413147, \"target_test_label_accuracy\": 0.884375, \"target_test_label_loss\": 0.33597055077552795, \"source_val_label_accuracy\": 0.9029622395833333, \"source_val_label_loss\": 0.2707846164703369, \"target_val_label_accuracy\": 0.8865885416666667, \"target_val_label_loss\": 0.33635738492012024, \"total_epochs_trained\": 17, \"total_experiment_time_secs\": 3940.565367937088, \"confusion\": {\"ORACLE.run2_8\": {\"13\": {\"13\": 234, \"1\": 2, \"10\": 1, \"14\": 2, \"6\": 1}, \"9\": {\"9\": 240}, \"15\": {\"15\": 231, \"12\": 8, \"8\": 1}, \"2\": {\"2\": 239, \"7\": 1}, \"3\": {\"3\": 240}, \"8\": {\"8\": 240}, \"5\": {\"5\": 235, \"10\": 5}, \"14\": {\"14\": 224, \"0\": 15, \"13\": 1}, \"1\": {\"1\": 238, \"5\": 1, \"13\": 1}, \"0\": {\"0\": 225, \"14\": 11, \"10\": 4}, \"10\": {\"10\": 227, \"5\": 8, \"13\": 2, \"0\": 3}, \"6\": {\"6\": 195, \"4\": 34, \"7\": 11}, \"11\": {\"11\": 235, \"8\": 3, \"15\": 1, \"12\": 1}, \"7\": {\"7\": 189, \"4\": 42, \"6\": 8, \"2\": 1}, \"4\": {\"4\": 151, \"6\": 52, \"7\": 37}, \"12\": {\"12\": 232, \"15\": 8}}, \"ORACLE.run2_38\": {\"13\": {\"13\": 200, \"10\": 4, \"3\": 33, \"8\": 2, \"7\": 1}, \"12\": {\"12\": 238, \"14\": 2}, \"2\": {\"2\": 222, \"14\": 18}, \"9\": {\"9\": 237, \"6\": 2, \"3\": 1}, \"15\": {\"15\": 221, \"1\": 7, \"8\": 3, \"5\": 8, \"0\": 1}, \"5\": {\"5\": 154, \"8\": 56, \"7\": 23, \"15\": 6, \"10\": 1}, \"14\": {\"14\": 215, \"2\": 19, \"7\": 2, \"8\": 2, \"11\": 1, \"12\": 1}, \"0\": {\"0\": 229, \"3\": 9, \"7\": 1, \"10\": 1}, \"3\": {\"3\": 178, \"13\": 45, \"0\": 11, \"10\": 4, \"7\": 1, \"9\": 1}, \"1\": {\"1\": 229, \"15\": 10, \"8\": 1}, \"11\": {\"11\": 236, \"14\": 3, \"10\": 1}, \"7\": {\"7\": 182, \"5\": 17, \"8\": 11, \"10\": 29, \"0\": 1}, \"8\": {\"8\": 151, \"5\": 72, \"13\": 3, \"7\": 11, \"15\": 3}, \"4\": {\"4\": 235, \"14\": 1, \"11\": 1, \"12\": 3}, \"10\": {\"10\": 205, \"13\": 4, \"7\": 29, \"3\": 1, \"0\": 1}, \"6\": {\"6\": 232, \"9\": 8}}, \"ORACLE.run2_26\": {\"10\": {\"2\": 1, \"14\": 30, \"0\": 70, \"10\": 114, \"8\": 11, \"6\": 5, \"4\": 6, \"5\": 1, \"1\": 1, \"7\": 1}, \"12\": {\"12\": 240}, \"1\": {\"1\": 236, \"14\": 3, \"2\": 1}, \"0\": {\"0\": 143, \"14\": 24, \"10\": 48, \"15\": 4, \"4\": 9, \"8\": 9, \"7\": 3}, \"15\": {\"15\": 213, \"3\": 10, \"7\": 7, \"2\": 7, \"4\": 1, \"9\": 1, \"8\": 1}, \"13\": {\"13\": 223, \"9\": 2, \"5\": 15}, \"8\": {\"2\": 9, \"8\": 182, \"10\": 12, \"14\": 12, \"7\": 11, \"4\": 3, \"0\": 10, \"6\": 1}, \"3\": {\"3\": 219, \"2\": 8, \"15\": 1, \"7\": 9, \"4\": 3}, \"11\": {\"11\": 240}, \"4\": {\"4\": 218, \"0\": 11, \"8\": 3, \"14\": 3, \"2\": 1, \"3\": 1, \"7\": 3}, \"6\": {\"6\": 228, \"9\": 7, \"10\": 3, \"13\": 2}, \"7\": {\"7\": 156, \"2\": 61, \"4\": 8, \"3\": 6, \"15\": 6, \"5\": 2, \"8\": 1}, \"14\": {\"14\": 174, \"0\": 42, \"8\": 6, \"1\": 8, \"7\": 1, \"10\": 9}, \"2\": {\"2\": 148, \"7\": 65, \"3\": 11, \"5\": 3, \"15\": 10, \"8\": 2, \"4\": 1}, \"5\": {\"13\": 28, \"5\": 195, \"3\": 3, \"7\": 6, \"2\": 8}, \"9\": {\"9\": 230, \"5\": 2, \"13\": 4, \"6\": 4}}, \"ORACLE.run2_20\": {\"5\": {\"5\": 201, \"0\": 9, \"12\": 7, \"7\": 8, \"3\": 2, \"2\": 6, \"1\": 2, \"15\": 5}, \"15\": {\"15\": 215, \"13\": 12, \"1\": 5, \"0\": 4, \"12\": 1, \"5\": 3}, \"9\": {\"9\": 203, \"12\": 4, \"3\": 13, \"2\": 18, \"1\": 2}, \"7\": {\"7\": 232, \"8\": 2, \"3\": 5, \"5\": 1}, \"3\": {\"3\": 197, \"2\": 28, \"9\": 9, \"7\": 5, \"4\": 1}, \"8\": {\"8\": 230, \"7\": 5, \"14\": 3, \"5\": 1, \"4\": 1}, \"4\": {\"4\": 237, \"12\": 2, \"8\": 1}, \"6\": {\"6\": 239, \"14\": 1}, \"2\": {\"2\": 183, \"3\": 27, \"9\": 20, \"12\": 4, \"5\": 4, \"1\": 2}, \"12\": {\"12\": 202, \"1\": 27, \"2\": 7, \"4\": 1, \"3\": 1, \"9\": 1, \"5\": 1}, \"0\": {\"0\": 238, \"5\": 2}, \"13\": {\"13\": 225, \"5\": 1, \"15\": 14}, \"10\": {\"10\": 240}, \"11\": {\"11\": 240}, \"14\": {\"14\": 229, \"8\": 6, \"6\": 5}, \"1\": {\"1\": 197, \"12\": 37, \"15\": 2, \"9\": 2, \"2\": 2}}, \"ORACLE.run2_50\": {\"1\": {\"1\": 235, \"4\": 2, \"6\": 3}, \"2\": {\"2\": 231, \"0\": 9}, \"8\": {\"8\": 239, \"3\": 1}, \"7\": {\"7\": 229, \"13\": 7, \"4\": 2, \"5\": 2}, \"14\": {\"14\": 240}, \"6\": {\"6\": 231, \"5\": 4, \"4\": 5}, \"3\": {\"3\": 234, \"8\": 6}, \"4\": {\"4\": 192, \"5\": 44, \"15\": 1, \"1\": 1, \"6\": 2}, \"12\": {\"12\": 237, \"11\": 2, \"9\": 1}, \"15\": {\"15\": 234, \"11\": 3, \"6\": 2, \"1\": 1}, \"11\": {\"11\": 235, \"15\": 3, \"12\": 2}, \"0\": {\"0\": 226, \"2\": 11, \"10\": 3}, \"9\": {\"9\": 238, \"11\": 2}, \"10\": {\"10\": 219, \"13\": 20, \"0\": 1}, \"5\": {\"4\": 64, \"5\": 153, \"6\": 5, \"13\": 7, \"7\": 11}, \"13\": {\"13\": 210, \"10\": 25, \"7\": 5}}, \"ORACLE.run2_32\": {\"2\": {\"2\": 229, \"7\": 2, \"5\": 9}, \"6\": {\"6\": 240}, \"5\": {\"5\": 214, \"4\": 6, \"2\": 8, \"8\": 6, \"7\": 3, \"0\": 1, \"14\": 2}, \"12\": {\"12\": 240}, \"13\": {\"13\": 207, \"4\": 27, \"7\": 6}, \"9\": {\"9\": 240}, \"11\": {\"11\": 210, \"0\": 8, \"7\": 11, \"4\": 5, \"13\": 5, \"14\": 1}, \"1\": {\"1\": 240}, \"3\": {\"3\": 236, \"8\": 4}, \"7\": {\"7\": 216, \"13\": 4, \"4\": 10, \"2\": 4, \"5\": 4, \"11\": 2}, \"14\": {\"14\": 234, \"5\": 3, \"2\": 1, \"0\": 2}, \"8\": {\"8\": 221, \"0\": 11, \"5\": 6, \"13\": 1, \"3\": 1}, \"4\": {\"7\": 18, \"4\": 191, \"13\": 21, \"2\": 2, \"5\": 5, \"0\": 2, \"11\": 1}, \"0\": {\"0\": 218, \"14\": 5, \"11\": 6, \"8\": 4, \"5\": 6, \"13\": 1}, \"10\": {\"10\": 240}, \"15\": {\"15\": 239, \"8\": 1}}, \"ORACLE.run2_44\": {\"13\": {\"13\": 238, \"4\": 1, \"6\": 1}, \"4\": {\"4\": 225, \"15\": 3, \"14\": 7, \"13\": 5}, \"6\": {\"6\": 226, \"9\": 7, \"13\": 6, \"7\": 1}, \"0\": {\"0\": 172, \"8\": 68}, \"10\": {\"10\": 238, \"1\": 1, \"7\": 1}, \"7\": {\"7\": 160, \"6\": 1, \"9\": 73, \"2\": 6}, \"14\": {\"14\": 213, \"4\": 7, \"15\": 13, \"5\": 7}, \"15\": {\"15\": 222, \"4\": 5, \"14\": 11, \"8\": 2}, \"5\": {\"5\": 226, \"14\": 12, \"15\": 2}, \"2\": {\"2\": 215, \"9\": 16, \"7\": 9}, \"9\": {\"9\": 146, \"6\": 4, \"7\": 68, \"2\": 22}, \"12\": {\"12\": 205, \"1\": 25, \"3\": 10}, \"8\": {\"8\": 160, \"0\": 75, \"14\": 1, \"5\": 3, \"15\": 1}, \"3\": {\"3\": 233, \"12\": 5, \"1\": 2}, \"1\": {\"1\": 203, \"12\": 23, \"3\": 10, \"2\": 1, \"10\": 1, \"7\": 2}, \"11\": {\"11\": 239, \"6\": 1}}, \"ORACLE.run2_14\": {\"1\": {\"1\": 239, \"5\": 1}, \"15\": {\"15\": 240}, \"10\": {\"10\": 240}, \"2\": {\"2\": 161, \"5\": 29, \"4\": 1, \"14\": 42, \"3\": 6, \"6\": 1}, \"9\": {\"9\": 240}, \"5\": {\"5\": 214, \"2\": 11, \"4\": 8, \"1\": 5, \"3\": 2}, \"7\": {\"7\": 240}, \"13\": {\"13\": 212, \"6\": 28}, \"8\": {\"8\": 240}, \"6\": {\"13\": 15, \"6\": 224, \"14\": 1}, \"3\": {\"3\": 234, \"2\": 4, \"5\": 2}, \"12\": {\"12\": 222, \"11\": 5, \"0\": 4, \"9\": 9}, \"0\": {\"0\": 240}, \"4\": {\"4\": 226, \"6\": 1, \"5\": 13}, \"14\": {\"2\": 38, \"14\": 202}, \"11\": {\"11\": 240}}, \"ORACLE.run1_8\": {\"13\": {\"4\": 29, \"13\": 133, \"0\": 32, \"10\": 37, \"6\": 7, \"7\": 1, \"14\": 1}, \"9\": {\"9\": 240}, \"15\": {\"12\": 11, \"15\": 229}, \"2\": {\"2\": 231, \"3\": 5, \"7\": 4}, \"3\": {\"3\": 239, \"2\": 1}, \"8\": {\"8\": 240}, \"5\": {\"5\": 232, \"1\": 7, \"14\": 1}, \"14\": {\"14\": 209, \"4\": 10, \"10\": 16, \"5\": 2, \"1\": 2, \"13\": 1}, \"1\": {\"1\": 233, \"14\": 1, \"5\": 4, \"11\": 2}, \"0\": {\"0\": 228, \"13\": 11, \"7\": 1}, \"10\": {\"10\": 227, \"14\": 3, \"13\": 5, \"4\": 4, \"5\": 1}, \"6\": {\"6\": 219, \"7\": 14, \"4\": 3, \"13\": 2, \"0\": 2}, \"11\": {\"11\": 224, \"1\": 16}, \"7\": {\"7\": 221, \"6\": 19}, \"4\": {\"4\": 210, \"13\": 22, \"14\": 3, \"6\": 3, \"10\": 2}, \"12\": {\"12\": 192, \"15\": 37, \"8\": 8, \"3\": 3}}, \"ORACLE.run1_38\": {\"13\": {\"13\": 229, \"10\": 3, \"2\": 4, \"5\": 2, \"15\": 1, \"0\": 1}, \"12\": {\"12\": 239, \"14\": 1}, \"2\": {\"2\": 233, \"10\": 1, \"14\": 4, \"13\": 2}, \"9\": {\"9\": 235, \"3\": 1, \"6\": 3, \"5\": 1}, \"15\": {\"15\": 216, \"8\": 12, \"5\": 6, \"1\": 6}, \"5\": {\"5\": 142, \"8\": 64, \"7\": 21, \"0\": 2, \"9\": 3, \"15\": 3, \"6\": 4, \"13\": 1}, \"14\": {\"14\": 237, \"2\": 3}, \"0\": {\"5\": 5, \"0\": 173, \"7\": 10, \"3\": 24, \"8\": 14, \"10\": 11, \"13\": 3}, \"3\": {\"0\": 2, \"3\": 238}, \"1\": {\"1\": 238, \"15\": 2}, \"11\": {\"11\": 240}, \"7\": {\"7\": 216, \"0\": 9, \"8\": 6, \"5\": 9}, \"8\": {\"8\": 171, \"15\": 8, \"5\": 46, \"0\": 9, \"13\": 1, \"7\": 4, \"10\": 1}, \"4\": {\"4\": 239, \"12\": 1}, \"10\": {\"10\": 211, \"13\": 15, \"0\": 5, \"7\": 5, \"8\": 1, \"11\": 1, \"14\": 2}, \"6\": {\"6\": 236, \"5\": 3, \"9\": 1}}, \"ORACLE.run1_26\": {\"10\": {\"0\": 68, \"14\": 19, \"8\": 25, \"10\": 125, \"9\": 1, \"6\": 1, \"4\": 1}, \"12\": {\"12\": 240}, \"1\": {\"1\": 227, \"14\": 9, \"7\": 2, \"4\": 2}, \"0\": {\"0\": 116, \"14\": 40, \"10\": 62, \"8\": 11, \"4\": 10, \"7\": 1}, \"15\": {\"15\": 200, \"9\": 23, \"8\": 7, \"6\": 2, \"2\": 2, \"13\": 4, \"7\": 1, \"10\": 1}, \"13\": {\"13\": 209, \"15\": 2, \"5\": 20, \"2\": 9}, \"8\": {\"8\": 156, \"0\": 26, \"10\": 30, \"4\": 10, \"7\": 8, \"2\": 2, \"14\": 8}, \"3\": {\"3\": 206, \"2\": 25, \"7\": 9}, \"11\": {\"11\": 240}, \"4\": {\"4\": 205, \"14\": 14, \"0\": 4, \"10\": 3, \"7\": 6, \"8\": 8}, \"6\": {\"6\": 227, \"15\": 5, \"10\": 6, \"13\": 1, \"9\": 1}, \"7\": {\"7\": 209, \"8\": 1, \"2\": 14, \"3\": 4, \"4\": 9, \"10\": 1, \"0\": 1, \"1\": 1}, \"14\": {\"14\": 180, \"1\": 12, \"0\": 26, \"4\": 10, \"8\": 3, \"10\": 9}, \"2\": {\"2\": 133, \"7\": 25, \"3\": 50, \"5\": 15, \"15\": 2, \"13\": 4, \"8\": 9, \"9\": 2}, \"5\": {\"5\": 231, \"2\": 3, \"13\": 5, \"15\": 1}, \"9\": {\"9\": 202, \"15\": 26, \"13\": 6, \"6\": 5, \"5\": 1}}, \"ORACLE.run1_20\": {\"5\": {\"5\": 224, \"0\": 8, \"1\": 3, \"15\": 5}, \"15\": {\"15\": 226, \"0\": 7, \"5\": 1, \"1\": 6}, \"9\": {\"9\": 204, \"3\": 14, \"2\": 16, \"12\": 6}, \"7\": {\"4\": 2, \"7\": 229, \"2\": 7, \"9\": 2}, \"3\": {\"3\": 193, \"12\": 23, \"2\": 7, \"9\": 13, \"10\": 2, \"7\": 1, \"4\": 1}, \"8\": {\"8\": 230, \"4\": 9, \"7\": 1}, \"4\": {\"4\": 236, \"14\": 1, \"8\": 3}, \"6\": {\"6\": 238, \"14\": 2}, \"2\": {\"2\": 203, \"9\": 17, \"3\": 10, \"7\": 3, \"12\": 6, \"13\": 1}, \"12\": {\"12\": 174, \"1\": 32, \"3\": 25, \"9\": 3, \"2\": 6}, \"0\": {\"0\": 219, \"5\": 9, \"15\": 12}, \"13\": {\"13\": 239, \"15\": 1}, \"10\": {\"10\": 240}, \"11\": {\"11\": 240}, \"14\": {\"14\": 236, \"6\": 4}, \"1\": {\"1\": 217, \"12\": 20, \"5\": 1, \"15\": 2}}, \"ORACLE.run1_50\": {\"1\": {\"1\": 229, \"4\": 2, \"15\": 7, \"11\": 2}, \"2\": {\"2\": 231, \"0\": 9}, \"8\": {\"8\": 235, \"3\": 2, \"10\": 3}, \"7\": {\"7\": 235, \"5\": 4, \"13\": 1}, \"14\": {\"14\": 240}, \"6\": {\"6\": 231, \"15\": 1, \"13\": 3, \"1\": 1, \"5\": 4}, \"3\": {\"3\": 236, \"8\": 4}, \"4\": {\"4\": 180, \"5\": 36, \"1\": 1, \"9\": 1, \"15\": 16, \"7\": 5, \"6\": 1}, \"12\": {\"12\": 233, \"9\": 4, \"11\": 3}, \"15\": {\"15\": 207, \"1\": 12, \"4\": 18, \"6\": 2, \"11\": 1}, \"11\": {\"11\": 236, \"15\": 3, \"9\": 1}, \"0\": {\"0\": 214, \"10\": 7, \"2\": 19}, \"9\": {\"11\": 9, \"9\": 228, \"12\": 3}, \"10\": {\"10\": 230, \"0\": 4, \"8\": 2, \"13\": 4}, \"5\": {\"1\": 8, \"5\": 163, \"4\": 22, \"13\": 11, \"7\": 35, \"6\": 1}, \"13\": {\"7\": 3, \"13\": 229, \"10\": 1, \"6\": 1, \"5\": 6}}, \"ORACLE.run1_32\": {\"2\": {\"2\": 196, \"4\": 42, \"7\": 1, \"5\": 1}, \"6\": {\"6\": 240}, \"5\": {\"4\": 10, \"7\": 52, \"5\": 165, \"13\": 8, \"3\": 3, \"2\": 1, \"8\": 1}, \"12\": {\"12\": 240}, \"13\": {\"4\": 14, \"13\": 209, \"3\": 13, \"5\": 1, \"8\": 2, \"2\": 1}, \"9\": {\"9\": 240}, \"11\": {\"11\": 235, \"14\": 5}, \"1\": {\"1\": 239, \"10\": 1}, \"3\": {\"3\": 234, \"8\": 2, \"13\": 4}, \"7\": {\"7\": 172, \"5\": 47, \"4\": 12, \"8\": 1, \"14\": 3, \"2\": 2, \"13\": 3}, \"14\": {\"14\": 173, \"0\": 26, \"7\": 12, \"11\": 16, \"13\": 2, \"3\": 4, \"5\": 2, \"8\": 4, \"4\": 1}, \"8\": {\"8\": 222, \"0\": 14, \"13\": 2, \"14\": 2}, \"4\": {\"4\": 191, \"2\": 39, \"7\": 4, \"5\": 4, \"13\": 2}, \"0\": {\"0\": 220, \"8\": 9, \"14\": 10, \"5\": 1}, \"10\": {\"10\": 236, \"1\": 4}, \"15\": {\"15\": 240}}, \"ORACLE.run1_44\": {\"13\": {\"13\": 188, \"6\": 27, \"9\": 23, \"11\": 1, \"7\": 1}, \"4\": {\"4\": 171, \"14\": 67, \"13\": 1, \"15\": 1}, \"6\": {\"6\": 186, \"13\": 31, \"9\": 13, \"11\": 2, \"7\": 8}, \"0\": {\"0\": 142, \"8\": 92, \"15\": 3, \"5\": 3}, \"10\": {\"10\": 207, \"1\": 17, \"2\": 12, \"12\": 2, \"7\": 2}, \"7\": {\"7\": 178, \"2\": 29, \"9\": 32, \"6\": 1}, \"14\": {\"14\": 164, \"4\": 62, \"15\": 12, \"5\": 2}, \"15\": {\"15\": 213, \"14\": 4, \"8\": 9, \"0\": 11, \"5\": 3}, \"5\": {\"5\": 215, \"0\": 9, \"14\": 8, \"15\": 6, \"8\": 2}, \"2\": {\"2\": 205, \"1\": 7, \"10\": 8, \"7\": 20}, \"9\": {\"9\": 166, \"13\": 18, \"7\": 39, \"6\": 16, \"2\": 1}, \"12\": {\"12\": 228, \"1\": 11, \"10\": 1}, \"8\": {\"8\": 129, \"15\": 5, \"0\": 98, \"5\": 8}, \"3\": {\"3\": 237, \"1\": 2, \"12\": 1}, \"1\": {\"1\": 203, \"3\": 5, \"10\": 13, \"2\": 13, \"12\": 6}, \"11\": {\"11\": 236, \"13\": 4}}, \"ORACLE.run1_14\": {\"1\": {\"1\": 233, \"5\": 7}, \"15\": {\"15\": 240}, \"10\": {\"10\": 240}, \"2\": {\"3\": 4, \"2\": 181, \"14\": 40, \"13\": 5, \"6\": 4, \"5\": 6}, \"9\": {\"9\": 239, \"12\": 1}, \"5\": {\"5\": 210, \"1\": 13, \"4\": 12, \"2\": 5}, \"7\": {\"7\": 240}, \"13\": {\"13\": 131, \"6\": 89, \"5\": 3, \"14\": 8, \"2\": 6, \"4\": 3}, \"8\": {\"8\": 240}, \"6\": {\"13\": 52, \"6\": 186, \"2\": 2}, \"3\": {\"3\": 238, \"2\": 2}, \"12\": {\"12\": 240}, \"0\": {\"0\": 238, \"3\": 2}, \"4\": {\"4\": 227, \"5\": 12, \"13\": 1}, \"14\": {\"14\": 228, \"2\": 12}, \"11\": {\"11\": 194, \"9\": 19, \"12\": 27}}}, \"per_domain_accuracy\": {\"ORACLE.run2_8\": {\"accuracy\": 0.9309895833333334, \"source?\": true}, \"ORACLE.run2_38\": {\"accuracy\": 0.8760416666666667, \"source?\": true}, \"ORACLE.run2_26\": {\"accuracy\": 0.82265625, \"source?\": true}, \"ORACLE.run2_20\": {\"accuracy\": 0.9135416666666667, \"source?\": true}, \"ORACLE.run2_50\": {\"accuracy\": 0.9330729166666667, \"source?\": true}, \"ORACLE.run2_32\": {\"accuracy\": 0.94140625, \"source?\": true}, \"ORACLE.run2_44\": {\"accuracy\": 0.86484375, \"source?\": true}, \"ORACLE.run2_14\": {\"accuracy\": 0.9411458333333333, \"source?\": true}, \"ORACLE.run1_8\": {\"accuracy\": 0.91328125, \"source?\": false}, \"ORACLE.run1_38\": {\"accuracy\": 0.9096354166666667, \"source?\": false}, \"ORACLE.run1_26\": {\"accuracy\": 0.8088541666666667, \"source?\": false}, \"ORACLE.run1_20\": {\"accuracy\": 0.9239583333333333, \"source?\": false}, \"ORACLE.run1_50\": {\"accuracy\": 0.9263020833333333, \"source?\": false}, \"ORACLE.run1_32\": {\"accuracy\": 0.8989583333333333, \"source?\": false}, \"ORACLE.run1_44\": {\"accuracy\": 0.7989583333333333, \"source?\": false}, \"ORACLE.run1_14\": {\"accuracy\": 0.9127604166666666, \"source?\": false}}}, \"history\": {\"epoch_indices\": [1, 2, 3, 4, 5, 6, 7, 8, 9, 10, 11, 12, 13, 14, 15, 16, 17], \"train_label_loss\": [0.8317084976760227, 0.5032745137045692, 0.3982907825950644, 0.34131431993972955, 0.30225331735869293, 0.2765688292654453, 0.25301894018366944, 0.23523876876071362, 0.22108570691683174, 0.20603771067800977, 0.1961193469187752, 0.18276004448021663, 0.17379245226970635, 0.1607552487706839, 0.15515889962201376, 0.14431142345470757, 0.13688877172131642], \"source_val_label_loss\": [0.8435457944869995, 0.5030229687690735, 0.4057714343070984, 0.3316861391067505, 0.3106052577495575, 0.30186426639556885, 0.30829134583473206, 0.2866973280906677, 0.28912919759750366, 0.28539159893989563, 0.31654998660087585, 0.2652181088924408, 0.2707846164703369, 0.2721307575702667, 0.28819236159324646, 0.27692079544067383, 0.2923790216445923], \"target_val_label_loss\": [0.8669962882995605, 0.4957633316516876, 0.4214768707752228, 0.3540242910385132, 0.34520870447158813, 0.336135596036911, 0.3499400019645691, 0.3341527283191681, 0.34914499521255493, 0.3406379818916321, 0.375946044921875, 0.3347209095954895, 0.33635738492012024, 0.3604505658149719, 0.36084169149398804, 0.3494516611099243, 0.3835030794143677], \"source_val_acc_label\": [0.7353841145833333, 0.8229166666666666, 0.8521158854166667, 0.8793619791666667, 0.8870442708333334, 0.89033203125, 0.8876302083333333, 0.8949869791666667, 0.89365234375, 0.89462890625, 0.8875, 0.9044270833333333, 0.9029622395833333, 0.9039713541666666, 0.8971028645833333, 0.9039388020833333, 0.9013346354166667], \"target_val_acc_label\": [0.742578125, 0.8232747395833333, 0.8470377604166667, 0.873046875, 0.8773111979166667, 0.88134765625, 0.8775716145833333, 0.8818684895833333, 0.8781901041666667, 0.8806640625, 0.8704752604166667, 0.884765625, 0.8865885416666667, 0.882421875, 0.8801106770833333, 0.8852864583333333, 0.8801106770833333]}, \"dataset_metrics\": {\"source\": {\"train\": {\"n_unique_x\": 179200, \"n_unique_y\": 16, \"n_batch/episode\": 6720}, \"val\": {\"n_unique_x\": 38400, \"n_unique_y\": 16, \"n_batch/episode\": 960}, \"test\": {\"n_unique_x\": 38400, \"n_unique_y\": 16, \"n_batch/episode\": 960}}, \"target\": {\"train\": {\"n_unique_x\": 179200, \"n_unique_y\": 16, \"n_batch/episode\": 6720}, \"val\": {\"n_unique_x\": 38400, \"n_unique_y\": 16, \"n_batch/episode\": 960}, \"test\": {\"n_unique_x\": 38400, \"n_unique_y\": 16, \"n_batch/episode\": 960}}}}'"
      ]
     },
     "execution_count": 29,
     "metadata": {},
     "output_type": "execute_result"
    }
   ],
   "source": [
    "json.dumps(experiment)"
   ]
  }
 ],
 "metadata": {
  "celltoolbar": "Tags",
  "kernelspec": {
   "display_name": "Python 3 (ipykernel)",
   "language": "python",
   "name": "python3"
  },
  "language_info": {
   "codemirror_mode": {
    "name": "ipython",
    "version": 3
   },
   "file_extension": ".py",
   "mimetype": "text/x-python",
   "name": "python",
   "nbconvert_exporter": "python",
   "pygments_lexer": "ipython3",
   "version": "3.8.12"
  },
  "papermill": {
   "default_parameters": {},
   "duration": 4122.659694,
   "end_time": "2022-03-21T21:04:40.693640",
   "environment_variables": {},
   "exception": null,
   "input_path": "/root/csc500-main/csc500-notebooks/templates/tl_ptn_template.ipynb",
   "output_path": "trial.ipynb",
   "parameters": {
    "parameters": {
     "BEST_MODEL_PATH": "./best_model.pth",
     "NUM_LOGS_PER_EPOCH": 10,
     "criteria_for_best": "target_accuracy",
     "dataset_seed": 154325,
     "datasets": [
      {
       "domain_prefix": "ORACLE.run1_",
       "domains": [
        32,
        38,
        8,
        44,
        14,
        50,
        20,
        26
       ],
       "episode_transforms": [],
       "labels": [
        "3123D52",
        "3123D65",
        "3123D79",
        "3123D80",
        "3123D54",
        "3123D70",
        "3123D7B",
        "3123D89",
        "3123D58",
        "3123D76",
        "3123D7D",
        "3123EFE",
        "3123D64",
        "3123D78",
        "3123D7E",
        "3124E4A"
       ],
       "num_examples_per_domain_per_label": 2000,
       "pickle_path": "/root/csc500-main/datasets/oracle.Run1_framed_2000Examples_stratified_ds.2022A.pkl",
       "source_or_target_dataset": "target",
       "x_transforms": [
        "unit_power"
       ]
      },
      {
       "domain_prefix": "ORACLE.run2_",
       "domains": [
        32,
        38,
        8,
        44,
        14,
        50,
        20,
        26
       ],
       "episode_transforms": [],
       "labels": [
        "3123D52",
        "3123D65",
        "3123D79",
        "3123D80",
        "3123D54",
        "3123D70",
        "3123D7B",
        "3123D89",
        "3123D58",
        "3123D76",
        "3123D7D",
        "3123EFE",
        "3123D64",
        "3123D78",
        "3123D7E",
        "3124E4A"
       ],
       "num_examples_per_domain_per_label": 2000,
       "pickle_path": "/root/csc500-main/datasets/oracle.Run2_framed_2000Examples_stratified_ds.2022A.pkl",
       "source_or_target_dataset": "source",
       "x_transforms": [
        "unit_power"
       ]
      }
     ],
     "device": "cuda",
     "experiment_name": "tl_1v2:oracle.run1.framed-oracle.run2.framed",
     "lr": 0.0001,
     "n_epoch": 50,
     "n_query": 2,
     "n_shot": 3,
     "n_way": 16,
     "patience": 3,
     "seed": 154325,
     "test_k_factor": 2,
     "torch_default_dtype": "torch.float32",
     "train_k_factor": 3,
     "val_k_factor": 2,
     "x_net": [
      {
       "class": "nnReshape",
       "kargs": {
        "shape": [
         -1,
         1,
         2,
         256
        ]
       }
      },
      {
       "class": "Conv2d",
       "kargs": {
        "bias": false,
        "in_channels": 1,
        "kernel_size": [
         1,
         7
        ],
        "out_channels": 256,
        "padding": [
         0,
         3
        ]
       }
      },
      {
       "class": "ReLU",
       "kargs": {
        "inplace": true
       }
      },
      {
       "class": "BatchNorm2d",
       "kargs": {
        "num_features": 256
       }
      },
      {
       "class": "Conv2d",
       "kargs": {
        "bias": true,
        "in_channels": 256,
        "kernel_size": [
         2,
         7
        ],
        "out_channels": 80,
        "padding": [
         0,
         3
        ]
       }
      },
      {
       "class": "ReLU",
       "kargs": {
        "inplace": true
       }
      },
      {
       "class": "BatchNorm2d",
       "kargs": {
        "num_features": 80
       }
      },
      {
       "class": "Flatten",
       "kargs": {}
      },
      {
       "class": "Linear",
       "kargs": {
        "in_features": 20480,
        "out_features": 256
       }
      },
      {
       "class": "ReLU",
       "kargs": {
        "inplace": true
       }
      },
      {
       "class": "BatchNorm1d",
       "kargs": {
        "num_features": 256
       }
      },
      {
       "class": "Linear",
       "kargs": {
        "in_features": 256,
        "out_features": 256
       }
      }
     ]
    }
   },
   "start_time": "2022-03-21T19:55:58.033946",
   "version": "2.3.4"
  }
 },
 "nbformat": 4,
 "nbformat_minor": 5
}