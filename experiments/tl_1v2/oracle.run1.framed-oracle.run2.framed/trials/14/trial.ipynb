{
 "cells": [
  {
   "cell_type": "markdown",
   "id": "9fea5f46",
   "metadata": {
    "papermill": {
     "duration": 0.028882,
     "end_time": "2022-03-21T18:19:53.314721",
     "exception": false,
     "start_time": "2022-03-21T18:19:53.285839",
     "status": "completed"
    },
    "tags": []
   },
   "source": [
    "# Transfer Learning Template"
   ]
  },
  {
   "cell_type": "code",
   "execution_count": 1,
   "id": "0902182a",
   "metadata": {
    "execution": {
     "iopub.execute_input": "2022-03-21T18:19:53.375632Z",
     "iopub.status.busy": "2022-03-21T18:19:53.369097Z",
     "iopub.status.idle": "2022-03-21T18:19:55.221812Z",
     "shell.execute_reply": "2022-03-21T18:19:55.221360Z"
    },
    "papermill": {
     "duration": 1.885167,
     "end_time": "2022-03-21T18:19:55.221918",
     "exception": false,
     "start_time": "2022-03-21T18:19:53.336751",
     "status": "completed"
    },
    "tags": []
   },
   "outputs": [],
   "source": [
    "%load_ext autoreload\n",
    "%autoreload 2\n",
    "%matplotlib inline\n",
    "\n",
    "    \n",
    "import os, json, sys, time, random\n",
    "import numpy as np\n",
    "import torch\n",
    "from torch.optim import Adam\n",
    "from  easydict import EasyDict\n",
    "import matplotlib.pyplot as plt\n",
    "\n",
    "from steves_models.steves_ptn import Steves_Prototypical_Network\n",
    "\n",
    "from steves_utils.lazy_iterable_wrapper import Lazy_Iterable_Wrapper\n",
    "from steves_utils.iterable_aggregator import Iterable_Aggregator\n",
    "from steves_utils.ptn_train_eval_test_jig import  PTN_Train_Eval_Test_Jig\n",
    "from steves_utils.torch_sequential_builder import build_sequential\n",
    "from steves_utils.torch_utils import get_dataset_metrics, ptn_confusion_by_domain_over_dataloader\n",
    "from steves_utils.utils_v2 import (per_domain_accuracy_from_confusion, get_datasets_base_path)\n",
    "from steves_utils.PTN.utils import independent_accuracy_assesment\n",
    "\n",
    "from torch.utils.data import DataLoader\n",
    "\n",
    "from steves_utils.stratified_dataset.episodic_accessor import Episodic_Accessor_Factory\n",
    "\n",
    "from steves_utils.ptn_do_report import (\n",
    "    get_loss_curve,\n",
    "    get_results_table,\n",
    "    get_parameters_table,\n",
    "    get_domain_accuracies,\n",
    ")\n",
    "\n",
    "from steves_utils.transforms import get_chained_transform"
   ]
  },
  {
   "cell_type": "markdown",
   "id": "41c840b4",
   "metadata": {
    "papermill": {
     "duration": 0.019607,
     "end_time": "2022-03-21T18:19:55.261478",
     "exception": false,
     "start_time": "2022-03-21T18:19:55.241871",
     "status": "completed"
    },
    "tags": []
   },
   "source": [
    "# Allowed Parameters\n",
    "These are allowed parameters, not defaults\n",
    "Each of these values need to be present in the injected parameters (the notebook will raise an exception if they are not present)\n",
    "\n",
    "Papermill uses the cell tag \"parameters\" to inject the real parameters below this cell.\n",
    "Enable tags to see what I mean"
   ]
  },
  {
   "cell_type": "code",
   "execution_count": 2,
   "id": "fd44eb83",
   "metadata": {
    "execution": {
     "iopub.execute_input": "2022-03-21T18:19:55.305924Z",
     "iopub.status.busy": "2022-03-21T18:19:55.305251Z",
     "iopub.status.idle": "2022-03-21T18:19:55.328367Z",
     "shell.execute_reply": "2022-03-21T18:19:55.329032Z"
    },
    "papermill": {
     "duration": 0.048245,
     "end_time": "2022-03-21T18:19:55.329255",
     "exception": false,
     "start_time": "2022-03-21T18:19:55.281010",
     "status": "completed"
    },
    "tags": []
   },
   "outputs": [],
   "source": [
    "required_parameters = {\n",
    "    \"experiment_name\",\n",
    "    \"lr\",\n",
    "    \"device\",\n",
    "    \"seed\",\n",
    "    \"dataset_seed\",\n",
    "    \"n_shot\",\n",
    "    \"n_query\",\n",
    "    \"n_way\",\n",
    "    \"train_k_factor\",\n",
    "    \"val_k_factor\",\n",
    "    \"test_k_factor\",\n",
    "    \"n_epoch\",\n",
    "    \"patience\",\n",
    "    \"criteria_for_best\",\n",
    "    \"x_net\",\n",
    "    \"datasets\",\n",
    "    \"torch_default_dtype\",\n",
    "    \"NUM_LOGS_PER_EPOCH\",\n",
    "    \"BEST_MODEL_PATH\",\n",
    "    \"x_shape\",\n",
    "}"
   ]
  },
  {
   "cell_type": "code",
   "execution_count": 3,
   "id": "fa3f0049",
   "metadata": {
    "execution": {
     "iopub.execute_input": "2022-03-21T18:19:55.387814Z",
     "iopub.status.busy": "2022-03-21T18:19:55.385717Z",
     "iopub.status.idle": "2022-03-21T18:19:55.410295Z",
     "shell.execute_reply": "2022-03-21T18:19:55.409582Z"
    },
    "papermill": {
     "duration": 0.056603,
     "end_time": "2022-03-21T18:19:55.410464",
     "exception": false,
     "start_time": "2022-03-21T18:19:55.353861",
     "status": "completed"
    },
    "tags": [
     "parameters"
    ]
   },
   "outputs": [],
   "source": [
    "from steves_utils.CORES.utils import (\n",
    "    ALL_NODES,\n",
    "    ALL_NODES_MINIMUM_1000_EXAMPLES,\n",
    "    ALL_DAYS\n",
    ")\n",
    "\n",
    "from steves_utils.ORACLE.utils_v2 import (\n",
    "    ALL_DISTANCES_FEET_NARROWED,\n",
    "    ALL_RUNS,\n",
    "    ALL_SERIAL_NUMBERS,\n",
    ")\n",
    "\n",
    "standalone_parameters = {}\n",
    "standalone_parameters[\"experiment_name\"] = \"STANDALONE PTN\"\n",
    "standalone_parameters[\"lr\"] = 0.001\n",
    "standalone_parameters[\"device\"] = \"cuda\"\n",
    "\n",
    "standalone_parameters[\"seed\"] = 1337\n",
    "standalone_parameters[\"dataset_seed\"] = 1337\n",
    "\n",
    "standalone_parameters[\"n_way\"] = 8\n",
    "standalone_parameters[\"n_shot\"] = 3\n",
    "standalone_parameters[\"n_query\"]  = 2\n",
    "standalone_parameters[\"train_k_factor\"] = 1\n",
    "standalone_parameters[\"val_k_factor\"] = 2\n",
    "standalone_parameters[\"test_k_factor\"] = 2\n",
    "\n",
    "\n",
    "standalone_parameters[\"n_epoch\"] = 50\n",
    "\n",
    "standalone_parameters[\"patience\"] = 10\n",
    "standalone_parameters[\"criteria_for_best\"] = \"source_loss\"\n",
    "\n",
    "standalone_parameters[\"datasets\"] = [\n",
    "    {\n",
    "        \"labels\": ALL_SERIAL_NUMBERS,\n",
    "        \"domains\": ALL_DISTANCES_FEET_NARROWED,\n",
    "        \"num_examples_per_domain_per_label\": 100,\n",
    "        \"pickle_path\": os.path.join(get_datasets_base_path(), \"oracle.Run1_framed_2000Examples_stratified_ds.2022A.pkl\"),\n",
    "        \"source_or_target_dataset\": \"source\",\n",
    "        \"x_transforms\": [\"unit_mag\", \"minus_two\"],\n",
    "        \"episode_transforms\": [],\n",
    "        \"domain_prefix\": \"ORACLE_\"\n",
    "    },\n",
    "    {\n",
    "        \"labels\": ALL_NODES,\n",
    "        \"domains\": ALL_DAYS,\n",
    "        \"num_examples_per_domain_per_label\": 100,\n",
    "        \"pickle_path\": os.path.join(get_datasets_base_path(), \"cores.stratified_ds.2022A.pkl\"),\n",
    "        \"source_or_target_dataset\": \"target\",\n",
    "        \"x_transforms\": [\"unit_power\", \"times_zero\"],\n",
    "        \"episode_transforms\": [],\n",
    "        \"domain_prefix\": \"CORES_\"\n",
    "    }   \n",
    "]\n",
    "\n",
    "standalone_parameters[\"torch_default_dtype\"] = \"torch.float32\" \n",
    "\n",
    "\n",
    "\n",
    "standalone_parameters[\"x_net\"] =     [\n",
    "    {\"class\": \"nnReshape\", \"kargs\": {\"shape\":[-1, 1, 2, 256]}},\n",
    "    {\"class\": \"Conv2d\", \"kargs\": { \"in_channels\":1, \"out_channels\":256, \"kernel_size\":(1,7), \"bias\":False, \"padding\":(0,3), },},\n",
    "    {\"class\": \"ReLU\", \"kargs\": {\"inplace\": True}},\n",
    "    {\"class\": \"BatchNorm2d\", \"kargs\": {\"num_features\":256}},\n",
    "\n",
    "    {\"class\": \"Conv2d\", \"kargs\": { \"in_channels\":256, \"out_channels\":80, \"kernel_size\":(2,7), \"bias\":True, \"padding\":(0,3), },},\n",
    "    {\"class\": \"ReLU\", \"kargs\": {\"inplace\": True}},\n",
    "    {\"class\": \"BatchNorm2d\", \"kargs\": {\"num_features\":80}},\n",
    "    {\"class\": \"Flatten\", \"kargs\": {}},\n",
    "\n",
    "    {\"class\": \"Linear\", \"kargs\": {\"in_features\": 80*256, \"out_features\": 256}}, # 80 units per IQ pair\n",
    "    {\"class\": \"ReLU\", \"kargs\": {\"inplace\": True}},\n",
    "    {\"class\": \"BatchNorm1d\", \"kargs\": {\"num_features\":256}},\n",
    "\n",
    "    {\"class\": \"Linear\", \"kargs\": {\"in_features\": 256, \"out_features\": 256}},\n",
    "]\n",
    "\n",
    "# Parameters relevant to results\n",
    "# These parameters will basically never need to change\n",
    "standalone_parameters[\"NUM_LOGS_PER_EPOCH\"] = 10\n",
    "standalone_parameters[\"BEST_MODEL_PATH\"] = \"./best_model.pth\"\n",
    "\n",
    "\n",
    "\n",
    "\n"
   ]
  },
  {
   "cell_type": "code",
   "execution_count": 4,
   "id": "2b3a0f22",
   "metadata": {
    "execution": {
     "iopub.execute_input": "2022-03-21T18:19:55.468241Z",
     "iopub.status.busy": "2022-03-21T18:19:55.467236Z",
     "iopub.status.idle": "2022-03-21T18:19:55.488574Z",
     "shell.execute_reply": "2022-03-21T18:19:55.487848Z"
    },
    "papermill": {
     "duration": 0.054109,
     "end_time": "2022-03-21T18:19:55.488750",
     "exception": false,
     "start_time": "2022-03-21T18:19:55.434641",
     "status": "completed"
    },
    "tags": [
     "injected-parameters"
    ]
   },
   "outputs": [],
   "source": [
    "# Parameters\n",
    "parameters = {\n",
    "    \"experiment_name\": \"tl_1v2:oracle.run1.framed-oracle.run2.framed\",\n",
    "    \"device\": \"cuda\",\n",
    "    \"lr\": 0.0001,\n",
    "    \"n_shot\": 3,\n",
    "    \"n_query\": 2,\n",
    "    \"train_k_factor\": 3,\n",
    "    \"val_k_factor\": 2,\n",
    "    \"test_k_factor\": 2,\n",
    "    \"torch_default_dtype\": \"torch.float32\",\n",
    "    \"n_epoch\": 50,\n",
    "    \"patience\": 3,\n",
    "    \"criteria_for_best\": \"target_accuracy\",\n",
    "    \"x_net\": [\n",
    "        {\"class\": \"nnReshape\", \"kargs\": {\"shape\": [-1, 1, 2, 256]}},\n",
    "        {\n",
    "            \"class\": \"Conv2d\",\n",
    "            \"kargs\": {\n",
    "                \"in_channels\": 1,\n",
    "                \"out_channels\": 256,\n",
    "                \"kernel_size\": [1, 7],\n",
    "                \"bias\": False,\n",
    "                \"padding\": [0, 3],\n",
    "            },\n",
    "        },\n",
    "        {\"class\": \"ReLU\", \"kargs\": {\"inplace\": True}},\n",
    "        {\"class\": \"BatchNorm2d\", \"kargs\": {\"num_features\": 256}},\n",
    "        {\n",
    "            \"class\": \"Conv2d\",\n",
    "            \"kargs\": {\n",
    "                \"in_channels\": 256,\n",
    "                \"out_channels\": 80,\n",
    "                \"kernel_size\": [2, 7],\n",
    "                \"bias\": True,\n",
    "                \"padding\": [0, 3],\n",
    "            },\n",
    "        },\n",
    "        {\"class\": \"ReLU\", \"kargs\": {\"inplace\": True}},\n",
    "        {\"class\": \"BatchNorm2d\", \"kargs\": {\"num_features\": 80}},\n",
    "        {\"class\": \"Flatten\", \"kargs\": {}},\n",
    "        {\"class\": \"Linear\", \"kargs\": {\"in_features\": 20480, \"out_features\": 256}},\n",
    "        {\"class\": \"ReLU\", \"kargs\": {\"inplace\": True}},\n",
    "        {\"class\": \"BatchNorm1d\", \"kargs\": {\"num_features\": 256}},\n",
    "        {\"class\": \"Linear\", \"kargs\": {\"in_features\": 256, \"out_features\": 256}},\n",
    "    ],\n",
    "    \"NUM_LOGS_PER_EPOCH\": 10,\n",
    "    \"BEST_MODEL_PATH\": \"./best_model.pth\",\n",
    "    \"n_way\": 16,\n",
    "    \"datasets\": [\n",
    "        {\n",
    "            \"labels\": [\n",
    "                \"3123D52\",\n",
    "                \"3123D65\",\n",
    "                \"3123D79\",\n",
    "                \"3123D80\",\n",
    "                \"3123D54\",\n",
    "                \"3123D70\",\n",
    "                \"3123D7B\",\n",
    "                \"3123D89\",\n",
    "                \"3123D58\",\n",
    "                \"3123D76\",\n",
    "                \"3123D7D\",\n",
    "                \"3123EFE\",\n",
    "                \"3123D64\",\n",
    "                \"3123D78\",\n",
    "                \"3123D7E\",\n",
    "                \"3124E4A\",\n",
    "            ],\n",
    "            \"domains\": [32, 38, 8, 44, 14, 50, 20, 26],\n",
    "            \"num_examples_per_domain_per_label\": 2000,\n",
    "            \"pickle_path\": \"/root/csc500-main/datasets/oracle.Run1_framed_2000Examples_stratified_ds.2022A.pkl\",\n",
    "            \"source_or_target_dataset\": \"source\",\n",
    "            \"x_transforms\": [],\n",
    "            \"episode_transforms\": [],\n",
    "            \"domain_prefix\": \"ORACLE.run1_\",\n",
    "        },\n",
    "        {\n",
    "            \"labels\": [\n",
    "                \"3123D52\",\n",
    "                \"3123D65\",\n",
    "                \"3123D79\",\n",
    "                \"3123D80\",\n",
    "                \"3123D54\",\n",
    "                \"3123D70\",\n",
    "                \"3123D7B\",\n",
    "                \"3123D89\",\n",
    "                \"3123D58\",\n",
    "                \"3123D76\",\n",
    "                \"3123D7D\",\n",
    "                \"3123EFE\",\n",
    "                \"3123D64\",\n",
    "                \"3123D78\",\n",
    "                \"3123D7E\",\n",
    "                \"3124E4A\",\n",
    "            ],\n",
    "            \"domains\": [32, 38, 8, 44, 14, 50, 20, 26],\n",
    "            \"num_examples_per_domain_per_label\": 2000,\n",
    "            \"pickle_path\": \"/root/csc500-main/datasets/oracle.Run2_framed_2000Examples_stratified_ds.2022A.pkl\",\n",
    "            \"source_or_target_dataset\": \"target\",\n",
    "            \"x_transforms\": [],\n",
    "            \"episode_transforms\": [],\n",
    "            \"domain_prefix\": \"ORACLE.run2_\",\n",
    "        },\n",
    "    ],\n",
    "    \"dataset_seed\": 154325,\n",
    "    \"seed\": 154325,\n",
    "}\n"
   ]
  },
  {
   "cell_type": "code",
   "execution_count": 5,
   "id": "8fa1cc33",
   "metadata": {
    "execution": {
     "iopub.execute_input": "2022-03-21T18:19:55.540200Z",
     "iopub.status.busy": "2022-03-21T18:19:55.539677Z",
     "iopub.status.idle": "2022-03-21T18:19:55.564496Z",
     "shell.execute_reply": "2022-03-21T18:19:55.563772Z"
    },
    "papermill": {
     "duration": 0.048019,
     "end_time": "2022-03-21T18:19:55.564668",
     "exception": false,
     "start_time": "2022-03-21T18:19:55.516649",
     "status": "completed"
    },
    "tags": []
   },
   "outputs": [],
   "source": [
    "# Set this to True if you want to run this template directly\n",
    "STANDALONE = False\n",
    "if STANDALONE:\n",
    "    print(\"parameters not injected, running with standalone_parameters\")\n",
    "    parameters = standalone_parameters\n",
    "\n",
    "if not 'parameters' in locals() and not 'parameters' in globals():\n",
    "    raise Exception(\"Parameter injection failed\")\n",
    "\n",
    "#Use an easy dict for all the parameters\n",
    "p = EasyDict(parameters)\n",
    "\n",
    "if \"x_shape\" not in p:\n",
    "    p.x_shape = [2,256] # Default to this if we dont supply x_shape\n",
    "\n",
    "\n",
    "supplied_keys = set(p.keys())\n",
    "\n",
    "if  supplied_keys != required_parameters:\n",
    "    print(\"Parameters are incorrect\")\n",
    "    if len(supplied_keys - required_parameters)>0: print(\"Shouldn't have:\", str(supplied_keys - required_parameters))\n",
    "    if len(required_parameters - supplied_keys)>0: print(\"Need to have:\", str(required_parameters - supplied_keys))\n",
    "    raise RuntimeError(\"Parameters are incorrect\")"
   ]
  },
  {
   "cell_type": "code",
   "execution_count": 6,
   "id": "3a028d58",
   "metadata": {
    "execution": {
     "iopub.execute_input": "2022-03-21T18:19:55.611967Z",
     "iopub.status.busy": "2022-03-21T18:19:55.611579Z",
     "iopub.status.idle": "2022-03-21T18:19:55.631435Z",
     "shell.execute_reply": "2022-03-21T18:19:55.630675Z"
    },
    "papermill": {
     "duration": 0.04231,
     "end_time": "2022-03-21T18:19:55.631639",
     "exception": false,
     "start_time": "2022-03-21T18:19:55.589329",
     "status": "completed"
    },
    "tags": []
   },
   "outputs": [],
   "source": [
    "###################################\n",
    "# Set the RNGs and make it all deterministic\n",
    "###################################\n",
    "np.random.seed(p.seed)\n",
    "random.seed(p.seed)\n",
    "torch.manual_seed(p.seed)\n",
    "\n",
    "torch.use_deterministic_algorithms(True) "
   ]
  },
  {
   "cell_type": "code",
   "execution_count": 7,
   "id": "b691acf6",
   "metadata": {
    "execution": {
     "iopub.execute_input": "2022-03-21T18:19:55.682045Z",
     "iopub.status.busy": "2022-03-21T18:19:55.681488Z",
     "iopub.status.idle": "2022-03-21T18:19:55.705861Z",
     "shell.execute_reply": "2022-03-21T18:19:55.705129Z"
    },
    "papermill": {
     "duration": 0.047388,
     "end_time": "2022-03-21T18:19:55.706033",
     "exception": false,
     "start_time": "2022-03-21T18:19:55.658645",
     "status": "completed"
    },
    "tags": []
   },
   "outputs": [],
   "source": [
    "###########################################\n",
    "# The stratified datasets honor this\n",
    "###########################################\n",
    "torch.set_default_dtype(eval(p.torch_default_dtype))"
   ]
  },
  {
   "cell_type": "code",
   "execution_count": 8,
   "id": "b5fba671",
   "metadata": {
    "execution": {
     "iopub.execute_input": "2022-03-21T18:19:55.761595Z",
     "iopub.status.busy": "2022-03-21T18:19:55.761210Z",
     "iopub.status.idle": "2022-03-21T18:19:55.816983Z",
     "shell.execute_reply": "2022-03-21T18:19:55.817652Z"
    },
    "papermill": {
     "duration": 0.086774,
     "end_time": "2022-03-21T18:19:55.817881",
     "exception": false,
     "start_time": "2022-03-21T18:19:55.731107",
     "status": "completed"
    },
    "tags": []
   },
   "outputs": [],
   "source": [
    "###################################\n",
    "# Build the network(s)\n",
    "# Note: It's critical to do this AFTER setting the RNG\n",
    "###################################\n",
    "x_net = build_sequential(p.x_net)"
   ]
  },
  {
   "cell_type": "code",
   "execution_count": 9,
   "id": "5d7e61cc",
   "metadata": {
    "execution": {
     "iopub.execute_input": "2022-03-21T18:19:55.869726Z",
     "iopub.status.busy": "2022-03-21T18:19:55.869137Z",
     "iopub.status.idle": "2022-03-21T18:19:55.890238Z",
     "shell.execute_reply": "2022-03-21T18:19:55.889365Z"
    },
    "papermill": {
     "duration": 0.044364,
     "end_time": "2022-03-21T18:19:55.890416",
     "exception": false,
     "start_time": "2022-03-21T18:19:55.846052",
     "status": "completed"
    },
    "tags": []
   },
   "outputs": [],
   "source": [
    "start_time_secs = time.time()"
   ]
  },
  {
   "cell_type": "code",
   "execution_count": 10,
   "id": "c6b67dfd",
   "metadata": {
    "execution": {
     "iopub.execute_input": "2022-03-21T18:19:55.941606Z",
     "iopub.status.busy": "2022-03-21T18:19:55.941030Z",
     "iopub.status.idle": "2022-03-21T18:19:55.964352Z",
     "shell.execute_reply": "2022-03-21T18:19:55.963609Z"
    },
    "papermill": {
     "duration": 0.048324,
     "end_time": "2022-03-21T18:19:55.964524",
     "exception": false,
     "start_time": "2022-03-21T18:19:55.916200",
     "status": "completed"
    },
    "tags": []
   },
   "outputs": [],
   "source": [
    "p.domains_source = []\n",
    "p.domains_target = []\n",
    "\n",
    "\n",
    "train_original_source = []\n",
    "val_original_source   = []\n",
    "test_original_source  = []\n",
    "\n",
    "train_original_target = []\n",
    "val_original_target   = []\n",
    "test_original_target  = []"
   ]
  },
  {
   "cell_type": "code",
   "execution_count": 11,
   "id": "e3d9c3d3",
   "metadata": {
    "execution": {
     "iopub.execute_input": "2022-03-21T18:19:56.017189Z",
     "iopub.status.busy": "2022-03-21T18:19:56.016804Z",
     "iopub.status.idle": "2022-03-21T18:19:56.036343Z",
     "shell.execute_reply": "2022-03-21T18:19:56.035598Z"
    },
    "papermill": {
     "duration": 0.042412,
     "end_time": "2022-03-21T18:19:56.036515",
     "exception": false,
     "start_time": "2022-03-21T18:19:55.994103",
     "status": "completed"
    },
    "tags": []
   },
   "outputs": [],
   "source": [
    "# global_x_transform_func = lambda x: normalize(x.to(torch.get_default_dtype()), \"unit_power\") # unit_power, unit_mag\n",
    "# global_x_transform_func = lambda x: normalize(x, \"unit_power\") # unit_power, unit_mag"
   ]
  },
  {
   "cell_type": "code",
   "execution_count": 12,
   "id": "acb78fd2",
   "metadata": {
    "execution": {
     "iopub.execute_input": "2022-03-21T18:19:56.097992Z",
     "iopub.status.busy": "2022-03-21T18:19:56.097114Z",
     "iopub.status.idle": "2022-03-21T18:19:56.117617Z",
     "shell.execute_reply": "2022-03-21T18:19:56.116880Z"
    },
    "papermill": {
     "duration": 0.053973,
     "end_time": "2022-03-21T18:19:56.117793",
     "exception": false,
     "start_time": "2022-03-21T18:19:56.063820",
     "status": "completed"
    },
    "tags": []
   },
   "outputs": [],
   "source": [
    "def add_dataset(\n",
    "    labels,\n",
    "    domains,\n",
    "    pickle_path,\n",
    "    x_transforms,\n",
    "    episode_transforms,\n",
    "    domain_prefix,\n",
    "    num_examples_per_domain_per_label,\n",
    "    source_or_target_dataset:str,\n",
    "    iterator_seed=p.seed,\n",
    "    dataset_seed=p.dataset_seed,\n",
    "    n_shot=p.n_shot,\n",
    "    n_way=p.n_way,\n",
    "    n_query=p.n_query,\n",
    "    train_val_test_k_factors=(p.train_k_factor,p.val_k_factor,p.test_k_factor),\n",
    "):\n",
    "   \n",
    "    if x_transforms == []: x_transform = None\n",
    "    else: x_transform = get_chained_transform(x_transforms)\n",
    "    \n",
    "    if episode_transforms == []: episode_transform = None\n",
    "    else: raise Exception(\"episode_transforms not implemented\")\n",
    "    \n",
    "    episode_transform = lambda tup, _prefix=domain_prefix: (_prefix + str(tup[0]), tup[1])\n",
    "\n",
    "\n",
    "    eaf = Episodic_Accessor_Factory(\n",
    "        labels=labels,\n",
    "        domains=domains,\n",
    "        num_examples_per_domain_per_label=num_examples_per_domain_per_label,\n",
    "        iterator_seed=iterator_seed,\n",
    "        dataset_seed=dataset_seed,\n",
    "        n_shot=n_shot,\n",
    "        n_way=n_way,\n",
    "        n_query=n_query,\n",
    "        train_val_test_k_factors=train_val_test_k_factors,\n",
    "        pickle_path=pickle_path,\n",
    "        x_transform_func=x_transform,\n",
    "    )\n",
    "\n",
    "    train, val, test = eaf.get_train(), eaf.get_val(), eaf.get_test()\n",
    "    train = Lazy_Iterable_Wrapper(train, episode_transform)\n",
    "    val = Lazy_Iterable_Wrapper(val, episode_transform)\n",
    "    test = Lazy_Iterable_Wrapper(test, episode_transform)\n",
    "\n",
    "    if source_or_target_dataset==\"source\":\n",
    "        train_original_source.append(train)\n",
    "        val_original_source.append(val)\n",
    "        test_original_source.append(test)\n",
    "\n",
    "        p.domains_source.extend(\n",
    "            [domain_prefix + str(u) for u in domains]\n",
    "        )\n",
    "    elif source_or_target_dataset==\"target\":\n",
    "        train_original_target.append(train)\n",
    "        val_original_target.append(val)\n",
    "        test_original_target.append(test)\n",
    "        p.domains_target.extend(\n",
    "            [domain_prefix + str(u) for u in domains]\n",
    "        )\n",
    "    else:\n",
    "        raise Exception(f\"invalid source_or_target_dataset: {source_or_target_dataset}\")\n",
    "    "
   ]
  },
  {
   "cell_type": "code",
   "execution_count": 13,
   "id": "fe266617",
   "metadata": {
    "execution": {
     "iopub.execute_input": "2022-03-21T18:19:56.169539Z",
     "iopub.status.busy": "2022-03-21T18:19:56.168904Z",
     "iopub.status.idle": "2022-03-21T18:19:59.728027Z",
     "shell.execute_reply": "2022-03-21T18:19:59.727209Z"
    },
    "papermill": {
     "duration": 3.583527,
     "end_time": "2022-03-21T18:19:59.728221",
     "exception": false,
     "start_time": "2022-03-21T18:19:56.144694",
     "status": "completed"
    },
    "tags": []
   },
   "outputs": [],
   "source": [
    "for ds in p.datasets:\n",
    "    add_dataset(**ds)"
   ]
  },
  {
   "cell_type": "code",
   "execution_count": 14,
   "id": "b90d65ac",
   "metadata": {
    "execution": {
     "iopub.execute_input": "2022-03-21T18:19:59.775646Z",
     "iopub.status.busy": "2022-03-21T18:19:59.775243Z",
     "iopub.status.idle": "2022-03-21T18:19:59.798072Z",
     "shell.execute_reply": "2022-03-21T18:19:59.797314Z"
    },
    "papermill": {
     "duration": 0.045282,
     "end_time": "2022-03-21T18:19:59.798243",
     "exception": false,
     "start_time": "2022-03-21T18:19:59.752961",
     "status": "completed"
    },
    "tags": []
   },
   "outputs": [],
   "source": [
    "# from steves_utils.CORES.utils import (\n",
    "#     ALL_NODES,\n",
    "#     ALL_NODES_MINIMUM_1000_EXAMPLES,\n",
    "#     ALL_DAYS\n",
    "# )\n",
    "\n",
    "# add_dataset(\n",
    "#     labels=ALL_NODES,\n",
    "#     domains = ALL_DAYS,\n",
    "#     num_examples_per_domain_per_label=100,\n",
    "#     pickle_path=os.path.join(get_datasets_base_path(), \"cores.stratified_ds.2022A.pkl\"),\n",
    "#     source_or_target_dataset=\"target\",\n",
    "#     x_transform_func=global_x_transform_func,\n",
    "#     domain_modifier=lambda u: f\"cores_{u}\"\n",
    "# )"
   ]
  },
  {
   "cell_type": "code",
   "execution_count": 15,
   "id": "76db484d",
   "metadata": {
    "execution": {
     "iopub.execute_input": "2022-03-21T18:19:59.847853Z",
     "iopub.status.busy": "2022-03-21T18:19:59.847464Z",
     "iopub.status.idle": "2022-03-21T18:19:59.863894Z",
     "shell.execute_reply": "2022-03-21T18:19:59.863190Z"
    },
    "papermill": {
     "duration": 0.039279,
     "end_time": "2022-03-21T18:19:59.864068",
     "exception": false,
     "start_time": "2022-03-21T18:19:59.824789",
     "status": "completed"
    },
    "tags": []
   },
   "outputs": [],
   "source": [
    "# from steves_utils.ORACLE.utils_v2 import (\n",
    "#     ALL_DISTANCES_FEET,\n",
    "#     ALL_RUNS,\n",
    "#     ALL_SERIAL_NUMBERS,\n",
    "# )\n",
    "\n",
    "\n",
    "# add_dataset(\n",
    "#     labels=ALL_SERIAL_NUMBERS,\n",
    "#     domains = list(set(ALL_DISTANCES_FEET) - {2,62}),\n",
    "#     num_examples_per_domain_per_label=100,\n",
    "#     pickle_path=os.path.join(get_datasets_base_path(), \"oracle.Run2_framed_2000Examples_stratified_ds.2022A.pkl\"),\n",
    "#     source_or_target_dataset=\"source\",\n",
    "#     x_transform_func=global_x_transform_func,\n",
    "#     domain_modifier=lambda u: f\"oracle1_{u}\"\n",
    "# )\n"
   ]
  },
  {
   "cell_type": "code",
   "execution_count": 16,
   "id": "97dea9d2",
   "metadata": {
    "execution": {
     "iopub.execute_input": "2022-03-21T18:19:59.922888Z",
     "iopub.status.busy": "2022-03-21T18:19:59.922507Z",
     "iopub.status.idle": "2022-03-21T18:19:59.942545Z",
     "shell.execute_reply": "2022-03-21T18:19:59.941827Z"
    },
    "papermill": {
     "duration": 0.044409,
     "end_time": "2022-03-21T18:19:59.942714",
     "exception": false,
     "start_time": "2022-03-21T18:19:59.898305",
     "status": "completed"
    },
    "tags": []
   },
   "outputs": [],
   "source": [
    "# from steves_utils.ORACLE.utils_v2 import (\n",
    "#     ALL_DISTANCES_FEET,\n",
    "#     ALL_RUNS,\n",
    "#     ALL_SERIAL_NUMBERS,\n",
    "# )\n",
    "\n",
    "\n",
    "# add_dataset(\n",
    "#     labels=ALL_SERIAL_NUMBERS,\n",
    "#     domains = list(set(ALL_DISTANCES_FEET) - {2,62,56}),\n",
    "#     num_examples_per_domain_per_label=100,\n",
    "#     pickle_path=os.path.join(get_datasets_base_path(), \"oracle.Run2_framed_2000Examples_stratified_ds.2022A.pkl\"),\n",
    "#     source_or_target_dataset=\"source\",\n",
    "#     x_transform_func=global_x_transform_func,\n",
    "#     domain_modifier=lambda u: f\"oracle2_{u}\"\n",
    "# )"
   ]
  },
  {
   "cell_type": "code",
   "execution_count": 17,
   "id": "6f289866",
   "metadata": {
    "execution": {
     "iopub.execute_input": "2022-03-21T18:19:59.996759Z",
     "iopub.status.busy": "2022-03-21T18:19:59.996381Z",
     "iopub.status.idle": "2022-03-21T18:20:00.013926Z",
     "shell.execute_reply": "2022-03-21T18:20:00.012841Z"
    },
    "papermill": {
     "duration": 0.041623,
     "end_time": "2022-03-21T18:20:00.014173",
     "exception": false,
     "start_time": "2022-03-21T18:19:59.972550",
     "status": "completed"
    },
    "tags": []
   },
   "outputs": [],
   "source": [
    "# add_dataset(\n",
    "#     labels=list(range(19)),\n",
    "#     domains = [0,1,2],\n",
    "#     num_examples_per_domain_per_label=100,\n",
    "#     pickle_path=os.path.join(get_datasets_base_path(), \"metehan.stratified_ds.2022A.pkl\"),\n",
    "#     source_or_target_dataset=\"target\",\n",
    "#     x_transform_func=global_x_transform_func,\n",
    "#     domain_modifier=lambda u: f\"met_{u}\"\n",
    "# )"
   ]
  },
  {
   "cell_type": "code",
   "execution_count": 18,
   "id": "86a863c3",
   "metadata": {
    "execution": {
     "iopub.execute_input": "2022-03-21T18:20:00.063618Z",
     "iopub.status.busy": "2022-03-21T18:20:00.063208Z",
     "iopub.status.idle": "2022-03-21T18:20:00.084986Z",
     "shell.execute_reply": "2022-03-21T18:20:00.084277Z"
    },
    "papermill": {
     "duration": 0.045088,
     "end_time": "2022-03-21T18:20:00.085152",
     "exception": false,
     "start_time": "2022-03-21T18:20:00.040064",
     "status": "completed"
    },
    "tags": []
   },
   "outputs": [],
   "source": [
    "# # from steves_utils.wisig.utils import (\n",
    "# #     ALL_NODES_MINIMUM_100_EXAMPLES,\n",
    "# #     ALL_NODES_MINIMUM_500_EXAMPLES,\n",
    "# #     ALL_NODES_MINIMUM_1000_EXAMPLES,\n",
    "# #     ALL_DAYS\n",
    "# # )\n",
    "\n",
    "# import steves_utils.wisig.utils as wisig\n",
    "\n",
    "\n",
    "# add_dataset(\n",
    "#     labels=wisig.ALL_NODES_MINIMUM_100_EXAMPLES,\n",
    "#     domains = wisig.ALL_DAYS,\n",
    "#     num_examples_per_domain_per_label=100,\n",
    "#     pickle_path=os.path.join(get_datasets_base_path(), \"wisig.node3-19.stratified_ds.2022A.pkl\"),\n",
    "#     source_or_target_dataset=\"target\",\n",
    "#     x_transform_func=global_x_transform_func,\n",
    "#     domain_modifier=lambda u: f\"wisig_{u}\"\n",
    "# )"
   ]
  },
  {
   "cell_type": "code",
   "execution_count": 19,
   "id": "fd5442bc",
   "metadata": {
    "execution": {
     "iopub.execute_input": "2022-03-21T18:20:00.135332Z",
     "iopub.status.busy": "2022-03-21T18:20:00.134728Z",
     "iopub.status.idle": "2022-03-21T18:20:00.152975Z",
     "shell.execute_reply": "2022-03-21T18:20:00.152193Z"
    },
    "papermill": {
     "duration": 0.043977,
     "end_time": "2022-03-21T18:20:00.153149",
     "exception": false,
     "start_time": "2022-03-21T18:20:00.109172",
     "status": "completed"
    },
    "tags": []
   },
   "outputs": [],
   "source": [
    "###################################\n",
    "# Build the dataset\n",
    "###################################\n",
    "train_original_source = Iterable_Aggregator(train_original_source, p.seed)\n",
    "val_original_source = Iterable_Aggregator(val_original_source, p.seed)\n",
    "test_original_source = Iterable_Aggregator(test_original_source, p.seed)\n",
    "\n",
    "\n",
    "train_original_target = Iterable_Aggregator(train_original_target, p.seed)\n",
    "val_original_target = Iterable_Aggregator(val_original_target, p.seed)\n",
    "test_original_target = Iterable_Aggregator(test_original_target, p.seed)\n",
    "\n",
    "# For CNN We only use X and Y. And we only train on the source.\n",
    "# Properly form the data using a transform lambda and Lazy_Iterable_Wrapper. Finally wrap them in a dataloader\n",
    "\n",
    "transform_lambda = lambda ex: ex[1] # Original is (<domain>, <episode>) so we strip down to episode only\n",
    "\n",
    "train_processed_source = Lazy_Iterable_Wrapper(train_original_source, transform_lambda)\n",
    "val_processed_source   = Lazy_Iterable_Wrapper(val_original_source, transform_lambda)\n",
    "test_processed_source  = Lazy_Iterable_Wrapper(test_original_source, transform_lambda)\n",
    "\n",
    "train_processed_target = Lazy_Iterable_Wrapper(train_original_target, transform_lambda)\n",
    "val_processed_target   = Lazy_Iterable_Wrapper(val_original_target, transform_lambda)\n",
    "test_processed_target  = Lazy_Iterable_Wrapper(test_original_target, transform_lambda)\n",
    "\n",
    "datasets = EasyDict({\n",
    "    \"source\": {\n",
    "        \"original\": {\"train\":train_original_source, \"val\":val_original_source, \"test\":test_original_source},\n",
    "        \"processed\": {\"train\":train_processed_source, \"val\":val_processed_source, \"test\":test_processed_source}\n",
    "    },\n",
    "    \"target\": {\n",
    "        \"original\": {\"train\":train_original_target, \"val\":val_original_target, \"test\":test_original_target},\n",
    "        \"processed\": {\"train\":train_processed_target, \"val\":val_processed_target, \"test\":test_processed_target}\n",
    "    },\n",
    "})"
   ]
  },
  {
   "cell_type": "code",
   "execution_count": 20,
   "id": "5b3c01fc",
   "metadata": {
    "execution": {
     "iopub.execute_input": "2022-03-21T18:20:00.203916Z",
     "iopub.status.busy": "2022-03-21T18:20:00.203511Z",
     "iopub.status.idle": "2022-03-21T18:20:15.369411Z",
     "shell.execute_reply": "2022-03-21T18:20:15.370071Z"
    },
    "papermill": {
     "duration": 15.189855,
     "end_time": "2022-03-21T18:20:15.370294",
     "exception": false,
     "start_time": "2022-03-21T18:20:00.180439",
     "status": "completed"
    },
    "tags": []
   },
   "outputs": [
    {
     "name": "stdout",
     "output_type": "stream",
     "text": [
      "{'ORACLE.run1_44', 'ORACLE.run1_32', 'ORACLE.run1_14', 'ORACLE.run1_8', 'ORACLE.run1_20', 'ORACLE.run1_50', 'ORACLE.run1_38', 'ORACLE.run1_26'}\n"
     ]
    },
    {
     "name": "stdout",
     "output_type": "stream",
     "text": [
      "{'ORACLE.run2_26', 'ORACLE.run2_44', 'ORACLE.run2_14', 'ORACLE.run2_32', 'ORACLE.run2_50', 'ORACLE.run2_20', 'ORACLE.run2_8', 'ORACLE.run2_38'}\n"
     ]
    },
    {
     "name": "stdout",
     "output_type": "stream",
     "text": [
      "tensor([[[-0.0013,  0.0068, -0.0012,  ..., -0.0069,  0.0031,  0.0037],\n",
      "         [-0.0027,  0.0023,  0.0033,  ..., -0.0003, -0.0062, -0.0068]],\n",
      "\n",
      "        [[ 0.0003,  0.0075, -0.0019,  ..., -0.0059, -0.0003, -0.0047],\n",
      "         [-0.0026, -0.0019,  0.0040,  ...,  0.0021, -0.0082, -0.0054]],\n",
      "\n",
      "        [[-0.0045, -0.0010,  0.0059,  ..., -0.0004, -0.0087,  0.0002],\n",
      "         [-0.0027, -0.0060,  0.0040,  ...,  0.0053,  0.0020,  0.0089]],\n",
      "\n",
      "        ...,\n",
      "\n",
      "        [[ 0.0006,  0.0037, -0.0006,  ..., -0.0046, -0.0049, -0.0058],\n",
      "         [-0.0050, -0.0015,  0.0073,  ...,  0.0005, -0.0057,  0.0046]],\n",
      "\n",
      "        [[-0.0014,  0.0061,  0.0001,  ..., -0.0058,  0.0011,  0.0016],\n",
      "         [-0.0027,  0.0002,  0.0035,  ...,  0.0014, -0.0059, -0.0058]],\n",
      "\n",
      "        [[-0.0042, -0.0043,  0.0056,  ...,  0.0034, -0.0011,  0.0072],\n",
      "         [ 0.0029, -0.0009, -0.0042,  ...,  0.0030,  0.0071,  0.0013]]])\n"
     ]
    }
   ],
   "source": [
    "from steves_utils.transforms import get_average_magnitude, get_average_power\n",
    "\n",
    "print(set([u for u,_ in val_original_source]))\n",
    "print(set([u for u,_ in val_original_target]))\n",
    "\n",
    "s_x, s_y, q_x, q_y, _ = next(iter(train_processed_source))\n",
    "print(s_x)\n",
    "\n",
    "# for ds in [\n",
    "#     train_processed_source,\n",
    "#     val_processed_source,\n",
    "#     test_processed_source,\n",
    "#     train_processed_target,\n",
    "#     val_processed_target,\n",
    "#     test_processed_target\n",
    "# ]:\n",
    "#     for s_x, s_y, q_x, q_y, _ in ds:\n",
    "#         for X in (s_x, q_x):\n",
    "#             for x in X:\n",
    "#                 assert np.isclose(get_average_magnitude(x.numpy()), 1.0)\n",
    "#                 assert np.isclose(get_average_power(x.numpy()), 1.0)\n",
    "                "
   ]
  },
  {
   "cell_type": "code",
   "execution_count": 21,
   "id": "bbdacba1",
   "metadata": {
    "execution": {
     "iopub.execute_input": "2022-03-21T18:20:15.427772Z",
     "iopub.status.busy": "2022-03-21T18:20:15.427162Z",
     "iopub.status.idle": "2022-03-21T18:20:15.673212Z",
     "shell.execute_reply": "2022-03-21T18:20:15.672434Z"
    },
    "papermill": {
     "duration": 0.273147,
     "end_time": "2022-03-21T18:20:15.673402",
     "exception": false,
     "start_time": "2022-03-21T18:20:15.400255",
     "status": "completed"
    },
    "tags": []
   },
   "outputs": [
    {
     "name": "stdout",
     "output_type": "stream",
     "text": [
      "(2, 256)\n"
     ]
    }
   ],
   "source": [
    "###################################\n",
    "# Build the model\n",
    "###################################\n",
    "# easfsl only wants a tuple for the shape\n",
    "model = Steves_Prototypical_Network(x_net, device=p.device, x_shape=tuple(p.x_shape))\n",
    "optimizer = Adam(params=model.parameters(), lr=p.lr)"
   ]
  },
  {
   "cell_type": "code",
   "execution_count": 22,
   "id": "22b39ac5",
   "metadata": {
    "execution": {
     "iopub.execute_input": "2022-03-21T18:20:15.726119Z",
     "iopub.status.busy": "2022-03-21T18:20:15.725666Z",
     "iopub.status.idle": "2022-03-21T19:51:15.968435Z",
     "shell.execute_reply": "2022-03-21T19:51:15.968081Z"
    },
    "papermill": {
     "duration": 5460.26835,
     "end_time": "2022-03-21T19:51:15.968532",
     "exception": false,
     "start_time": "2022-03-21T18:20:15.700182",
     "status": "completed"
    },
    "tags": []
   },
   "outputs": [
    {
     "name": "stdout",
     "output_type": "stream",
     "text": [
      "epoch: 1, [batch: 1 / 6720], examples_per_second: 33.0076, train_label_loss: 2.8349, \n"
     ]
    },
    {
     "name": "stdout",
     "output_type": "stream",
     "text": [
      "epoch: 1, [batch: 672 / 6720], examples_per_second: 2969.7885, train_label_loss: 0.4085, \n"
     ]
    },
    {
     "name": "stdout",
     "output_type": "stream",
     "text": [
      "epoch: 1, [batch: 1344 / 6720], examples_per_second: 2963.7494, train_label_loss: 0.5268, \n"
     ]
    },
    {
     "name": "stdout",
     "output_type": "stream",
     "text": [
      "epoch: 1, [batch: 2016 / 6720], examples_per_second: 2925.9515, train_label_loss: 0.8909, \n"
     ]
    },
    {
     "name": "stdout",
     "output_type": "stream",
     "text": [
      "epoch: 1, [batch: 2688 / 6720], examples_per_second: 2656.1717, train_label_loss: 0.5310, \n"
     ]
    },
    {
     "name": "stdout",
     "output_type": "stream",
     "text": [
      "epoch: 1, [batch: 3360 / 6720], examples_per_second: 2331.5030, train_label_loss: 0.3633, \n"
     ]
    },
    {
     "name": "stdout",
     "output_type": "stream",
     "text": [
      "epoch: 1, [batch: 4032 / 6720], examples_per_second: 2297.3980, train_label_loss: 0.3697, \n"
     ]
    },
    {
     "name": "stdout",
     "output_type": "stream",
     "text": [
      "epoch: 1, [batch: 4704 / 6720], examples_per_second: 2303.1823, train_label_loss: 0.2710, \n"
     ]
    },
    {
     "name": "stdout",
     "output_type": "stream",
     "text": [
      "epoch: 1, [batch: 5376 / 6720], examples_per_second: 2534.5054, train_label_loss: 0.2769, \n"
     ]
    },
    {
     "name": "stdout",
     "output_type": "stream",
     "text": [
      "epoch: 1, [batch: 6048 / 6720], examples_per_second: 2549.4742, train_label_loss: 0.1586, \n"
     ]
    },
    {
     "name": "stdout",
     "output_type": "stream",
     "text": [
      "=============================================================\n",
      "epoch: 1, source_val_acc_label: 0.6668, target_val_acc_label: 0.6806, source_val_label_loss: 122.8557, target_val_label_loss: 121.9855, \n",
      "=============================================================\n"
     ]
    },
    {
     "name": "stdout",
     "output_type": "stream",
     "text": [
      "New best\n"
     ]
    },
    {
     "name": "stdout",
     "output_type": "stream",
     "text": [
      "epoch: 2, [batch: 1 / 6720], examples_per_second: 2.0652, train_label_loss: 214.2908, \n"
     ]
    },
    {
     "name": "stdout",
     "output_type": "stream",
     "text": [
      "epoch: 2, [batch: 672 / 6720], examples_per_second: 2323.4849, train_label_loss: 0.3093, \n"
     ]
    },
    {
     "name": "stdout",
     "output_type": "stream",
     "text": [
      "epoch: 2, [batch: 1344 / 6720], examples_per_second: 2575.2504, train_label_loss: 1.8583, \n"
     ]
    },
    {
     "name": "stdout",
     "output_type": "stream",
     "text": [
      "epoch: 2, [batch: 2016 / 6720], examples_per_second: 2608.6847, train_label_loss: 0.1642, \n"
     ]
    },
    {
     "name": "stdout",
     "output_type": "stream",
     "text": [
      "epoch: 2, [batch: 2688 / 6720], examples_per_second: 2704.9026, train_label_loss: 0.4955, \n"
     ]
    },
    {
     "name": "stdout",
     "output_type": "stream",
     "text": [
      "epoch: 2, [batch: 3360 / 6720], examples_per_second: 2575.9102, train_label_loss: 0.3284, \n"
     ]
    },
    {
     "name": "stdout",
     "output_type": "stream",
     "text": [
      "epoch: 2, [batch: 4032 / 6720], examples_per_second: 2565.3380, train_label_loss: 1.0646, \n"
     ]
    },
    {
     "name": "stdout",
     "output_type": "stream",
     "text": [
      "epoch: 2, [batch: 4704 / 6720], examples_per_second: 2776.9619, train_label_loss: 0.3331, \n"
     ]
    },
    {
     "name": "stdout",
     "output_type": "stream",
     "text": [
      "epoch: 2, [batch: 5376 / 6720], examples_per_second: 2963.9250, train_label_loss: 0.2466, \n"
     ]
    },
    {
     "name": "stdout",
     "output_type": "stream",
     "text": [
      "epoch: 2, [batch: 6048 / 6720], examples_per_second: 2932.7971, train_label_loss: 0.1791, \n"
     ]
    },
    {
     "name": "stdout",
     "output_type": "stream",
     "text": [
      "=============================================================\n",
      "epoch: 2, source_val_acc_label: 0.9051, target_val_acc_label: 0.9004, source_val_label_loss: 0.2747, target_val_label_loss: 0.3395, \n",
      "=============================================================\n"
     ]
    },
    {
     "name": "stdout",
     "output_type": "stream",
     "text": [
      "New best\n"
     ]
    },
    {
     "name": "stdout",
     "output_type": "stream",
     "text": [
      "epoch: 3, [batch: 1 / 6720], examples_per_second: 2.6743, train_label_loss: 0.5473, \n"
     ]
    },
    {
     "name": "stdout",
     "output_type": "stream",
     "text": [
      "epoch: 3, [batch: 672 / 6720], examples_per_second: 2898.7286, train_label_loss: 0.0300, \n"
     ]
    },
    {
     "name": "stdout",
     "output_type": "stream",
     "text": [
      "epoch: 3, [batch: 1344 / 6720], examples_per_second: 3131.6342, train_label_loss: 0.1654, \n"
     ]
    },
    {
     "name": "stdout",
     "output_type": "stream",
     "text": [
      "epoch: 3, [batch: 2016 / 6720], examples_per_second: 3165.8775, train_label_loss: 0.5376, \n"
     ]
    },
    {
     "name": "stdout",
     "output_type": "stream",
     "text": [
      "epoch: 3, [batch: 2688 / 6720], examples_per_second: 3349.0691, train_label_loss: 0.2225, \n"
     ]
    },
    {
     "name": "stdout",
     "output_type": "stream",
     "text": [
      "epoch: 3, [batch: 3360 / 6720], examples_per_second: 3042.6866, train_label_loss: 0.0472, \n"
     ]
    },
    {
     "name": "stdout",
     "output_type": "stream",
     "text": [
      "epoch: 3, [batch: 4032 / 6720], examples_per_second: 3463.4233, train_label_loss: 0.1705, \n"
     ]
    },
    {
     "name": "stdout",
     "output_type": "stream",
     "text": [
      "epoch: 3, [batch: 4704 / 6720], examples_per_second: 3469.9849, train_label_loss: 0.2236, \n"
     ]
    },
    {
     "name": "stdout",
     "output_type": "stream",
     "text": [
      "epoch: 3, [batch: 5376 / 6720], examples_per_second: 3457.9048, train_label_loss: 0.1600, \n"
     ]
    },
    {
     "name": "stdout",
     "output_type": "stream",
     "text": [
      "epoch: 3, [batch: 6048 / 6720], examples_per_second: 3420.7163, train_label_loss: 0.2473, \n"
     ]
    },
    {
     "name": "stdout",
     "output_type": "stream",
     "text": [
      "=============================================================\n",
      "epoch: 3, source_val_acc_label: 0.9220, target_val_acc_label: 0.9160, source_val_label_loss: 0.2344, target_val_label_loss: 0.3023, \n",
      "=============================================================\n"
     ]
    },
    {
     "name": "stdout",
     "output_type": "stream",
     "text": [
      "New best\n"
     ]
    },
    {
     "name": "stdout",
     "output_type": "stream",
     "text": [
      "epoch: 4, [batch: 1 / 6720], examples_per_second: 3.3091, train_label_loss: 0.0639, \n"
     ]
    },
    {
     "name": "stdout",
     "output_type": "stream",
     "text": [
      "epoch: 4, [batch: 672 / 6720], examples_per_second: 3320.0611, train_label_loss: 0.0924, \n"
     ]
    },
    {
     "name": "stdout",
     "output_type": "stream",
     "text": [
      "epoch: 4, [batch: 1344 / 6720], examples_per_second: 3546.7304, train_label_loss: 0.5554, \n"
     ]
    },
    {
     "name": "stdout",
     "output_type": "stream",
     "text": [
      "epoch: 4, [batch: 2016 / 6720], examples_per_second: 3560.2809, train_label_loss: 0.0896, \n"
     ]
    },
    {
     "name": "stdout",
     "output_type": "stream",
     "text": [
      "epoch: 4, [batch: 2688 / 6720], examples_per_second: 3030.0876, train_label_loss: 0.2816, \n"
     ]
    },
    {
     "name": "stdout",
     "output_type": "stream",
     "text": [
      "epoch: 4, [batch: 3360 / 6720], examples_per_second: 2652.8446, train_label_loss: 0.0456, \n"
     ]
    },
    {
     "name": "stdout",
     "output_type": "stream",
     "text": [
      "epoch: 4, [batch: 4032 / 6720], examples_per_second: 2571.9610, train_label_loss: 0.1056, \n"
     ]
    },
    {
     "name": "stdout",
     "output_type": "stream",
     "text": [
      "epoch: 4, [batch: 4704 / 6720], examples_per_second: 2589.1683, train_label_loss: 0.1730, \n"
     ]
    },
    {
     "name": "stdout",
     "output_type": "stream",
     "text": [
      "epoch: 4, [batch: 5376 / 6720], examples_per_second: 2590.8592, train_label_loss: 0.1309, \n"
     ]
    },
    {
     "name": "stdout",
     "output_type": "stream",
     "text": [
      "epoch: 4, [batch: 6048 / 6720], examples_per_second: 2667.5019, train_label_loss: 0.2826, \n"
     ]
    },
    {
     "name": "stdout",
     "output_type": "stream",
     "text": [
      "=============================================================\n",
      "epoch: 4, source_val_acc_label: 0.9349, target_val_acc_label: 0.9275, source_val_label_loss: 0.1909, target_val_label_loss: 0.2818, \n",
      "=============================================================\n"
     ]
    },
    {
     "name": "stdout",
     "output_type": "stream",
     "text": [
      "New best\n"
     ]
    },
    {
     "name": "stdout",
     "output_type": "stream",
     "text": [
      "epoch: 5, [batch: 1 / 6720], examples_per_second: 2.3142, train_label_loss: 0.1586, \n"
     ]
    },
    {
     "name": "stdout",
     "output_type": "stream",
     "text": [
      "epoch: 5, [batch: 672 / 6720], examples_per_second: 3380.6871, train_label_loss: 0.4679, \n"
     ]
    },
    {
     "name": "stdout",
     "output_type": "stream",
     "text": [
      "epoch: 5, [batch: 1344 / 6720], examples_per_second: 3675.2098, train_label_loss: 0.3476, \n"
     ]
    },
    {
     "name": "stdout",
     "output_type": "stream",
     "text": [
      "epoch: 5, [batch: 2016 / 6720], examples_per_second: 3910.3837, train_label_loss: 0.2909, \n"
     ]
    },
    {
     "name": "stdout",
     "output_type": "stream",
     "text": [
      "epoch: 5, [batch: 2688 / 6720], examples_per_second: 3609.3071, train_label_loss: 0.0775, \n"
     ]
    },
    {
     "name": "stdout",
     "output_type": "stream",
     "text": [
      "epoch: 5, [batch: 3360 / 6720], examples_per_second: 2996.0067, train_label_loss: 0.2844, \n"
     ]
    },
    {
     "name": "stdout",
     "output_type": "stream",
     "text": [
      "epoch: 5, [batch: 4032 / 6720], examples_per_second: 3052.8042, train_label_loss: 0.0980, \n"
     ]
    },
    {
     "name": "stdout",
     "output_type": "stream",
     "text": [
      "epoch: 5, [batch: 4704 / 6720], examples_per_second: 2989.4232, train_label_loss: 0.1781, \n"
     ]
    },
    {
     "name": "stdout",
     "output_type": "stream",
     "text": [
      "epoch: 5, [batch: 5376 / 6720], examples_per_second: 2965.3830, train_label_loss: 0.0574, \n"
     ]
    },
    {
     "name": "stdout",
     "output_type": "stream",
     "text": [
      "epoch: 5, [batch: 6048 / 6720], examples_per_second: 3009.5677, train_label_loss: 0.2944, \n"
     ]
    },
    {
     "name": "stdout",
     "output_type": "stream",
     "text": [
      "=============================================================\n",
      "epoch: 5, source_val_acc_label: 0.9224, target_val_acc_label: 0.9077, source_val_label_loss: 0.2169, target_val_label_loss: 0.3133, \n",
      "=============================================================\n"
     ]
    },
    {
     "name": "stdout",
     "output_type": "stream",
     "text": [
      "epoch: 6, [batch: 1 / 6720], examples_per_second: 2.7509, train_label_loss: 0.0731, \n"
     ]
    },
    {
     "name": "stdout",
     "output_type": "stream",
     "text": [
      "epoch: 6, [batch: 672 / 6720], examples_per_second: 3428.3041, train_label_loss: 0.2528, \n"
     ]
    },
    {
     "name": "stdout",
     "output_type": "stream",
     "text": [
      "epoch: 6, [batch: 1344 / 6720], examples_per_second: 3740.0966, train_label_loss: 0.1619, \n"
     ]
    },
    {
     "name": "stdout",
     "output_type": "stream",
     "text": [
      "epoch: 6, [batch: 2016 / 6720], examples_per_second: 3876.9518, train_label_loss: 0.2509, \n"
     ]
    },
    {
     "name": "stdout",
     "output_type": "stream",
     "text": [
      "epoch: 6, [batch: 2688 / 6720], examples_per_second: 3450.9195, train_label_loss: 0.1531, \n"
     ]
    },
    {
     "name": "stdout",
     "output_type": "stream",
     "text": [
      "epoch: 6, [batch: 3360 / 6720], examples_per_second: 2978.1453, train_label_loss: 0.2784, \n"
     ]
    },
    {
     "name": "stdout",
     "output_type": "stream",
     "text": [
      "epoch: 6, [batch: 4032 / 6720], examples_per_second: 3010.9814, train_label_loss: 0.1260, \n"
     ]
    },
    {
     "name": "stdout",
     "output_type": "stream",
     "text": [
      "epoch: 6, [batch: 4704 / 6720], examples_per_second: 2990.6584, train_label_loss: 0.1250, \n"
     ]
    },
    {
     "name": "stdout",
     "output_type": "stream",
     "text": [
      "epoch: 6, [batch: 5376 / 6720], examples_per_second: 2733.4504, train_label_loss: 0.1302, \n"
     ]
    },
    {
     "name": "stdout",
     "output_type": "stream",
     "text": [
      "epoch: 6, [batch: 6048 / 6720], examples_per_second: 2316.1150, train_label_loss: 0.1629, \n"
     ]
    },
    {
     "name": "stdout",
     "output_type": "stream",
     "text": [
      "=============================================================\n",
      "epoch: 6, source_val_acc_label: 0.9324, target_val_acc_label: 0.9180, source_val_label_loss: 0.1873, target_val_label_loss: 0.2948, \n",
      "=============================================================\n"
     ]
    },
    {
     "name": "stdout",
     "output_type": "stream",
     "text": [
      "epoch: 7, [batch: 1 / 6720], examples_per_second: 2.0070, train_label_loss: 0.1385, \n"
     ]
    },
    {
     "name": "stdout",
     "output_type": "stream",
     "text": [
      "epoch: 7, [batch: 672 / 6720], examples_per_second: 2564.4195, train_label_loss: 0.1245, \n"
     ]
    },
    {
     "name": "stdout",
     "output_type": "stream",
     "text": [
      "epoch: 7, [batch: 1344 / 6720], examples_per_second: 2884.9695, train_label_loss: 0.1957, \n"
     ]
    },
    {
     "name": "stdout",
     "output_type": "stream",
     "text": [
      "epoch: 7, [batch: 2016 / 6720], examples_per_second: 2823.5171, train_label_loss: 0.0527, \n"
     ]
    },
    {
     "name": "stdout",
     "output_type": "stream",
     "text": [
      "epoch: 7, [batch: 2688 / 6720], examples_per_second: 2607.3721, train_label_loss: 0.0095, \n"
     ]
    },
    {
     "name": "stdout",
     "output_type": "stream",
     "text": [
      "epoch: 7, [batch: 3360 / 6720], examples_per_second: 2600.1969, train_label_loss: 0.0102, \n"
     ]
    },
    {
     "name": "stdout",
     "output_type": "stream",
     "text": [
      "epoch: 7, [batch: 4032 / 6720], examples_per_second: 2582.8220, train_label_loss: 0.1467, \n"
     ]
    },
    {
     "name": "stdout",
     "output_type": "stream",
     "text": [
      "epoch: 7, [batch: 4704 / 6720], examples_per_second: 2579.8093, train_label_loss: 0.1062, \n"
     ]
    },
    {
     "name": "stdout",
     "output_type": "stream",
     "text": [
      "epoch: 7, [batch: 5376 / 6720], examples_per_second: 2588.8386, train_label_loss: 0.0672, \n"
     ]
    },
    {
     "name": "stdout",
     "output_type": "stream",
     "text": [
      "epoch: 7, [batch: 6048 / 6720], examples_per_second: 2615.6042, train_label_loss: 0.0796, \n"
     ]
    },
    {
     "name": "stdout",
     "output_type": "stream",
     "text": [
      "=============================================================\n",
      "epoch: 7, source_val_acc_label: 0.9436, target_val_acc_label: 0.9299, source_val_label_loss: 0.1713, target_val_label_loss: 0.2959, \n",
      "=============================================================\n"
     ]
    },
    {
     "name": "stdout",
     "output_type": "stream",
     "text": [
      "New best\n"
     ]
    },
    {
     "name": "stdout",
     "output_type": "stream",
     "text": [
      "epoch: 8, [batch: 1 / 6720], examples_per_second: 2.2704, train_label_loss: 0.0862, \n"
     ]
    },
    {
     "name": "stdout",
     "output_type": "stream",
     "text": [
      "epoch: 8, [batch: 672 / 6720], examples_per_second: 3396.4104, train_label_loss: 0.0811, \n"
     ]
    },
    {
     "name": "stdout",
     "output_type": "stream",
     "text": [
      "epoch: 8, [batch: 1344 / 6720], examples_per_second: 3579.6206, train_label_loss: 0.0996, \n"
     ]
    },
    {
     "name": "stdout",
     "output_type": "stream",
     "text": [
      "epoch: 8, [batch: 2016 / 6720], examples_per_second: 3048.7407, train_label_loss: 0.2267, \n"
     ]
    },
    {
     "name": "stdout",
     "output_type": "stream",
     "text": [
      "epoch: 8, [batch: 2688 / 6720], examples_per_second: 2938.4659, train_label_loss: 0.3590, \n"
     ]
    },
    {
     "name": "stdout",
     "output_type": "stream",
     "text": [
      "epoch: 8, [batch: 3360 / 6720], examples_per_second: 2940.6799, train_label_loss: 1.2906, \n"
     ]
    },
    {
     "name": "stdout",
     "output_type": "stream",
     "text": [
      "epoch: 8, [batch: 4032 / 6720], examples_per_second: 2916.8996, train_label_loss: 0.0795, \n"
     ]
    },
    {
     "name": "stdout",
     "output_type": "stream",
     "text": [
      "epoch: 8, [batch: 4704 / 6720], examples_per_second: 2991.9240, train_label_loss: 0.1432, \n"
     ]
    },
    {
     "name": "stdout",
     "output_type": "stream",
     "text": [
      "epoch: 8, [batch: 5376 / 6720], examples_per_second: 2977.4420, train_label_loss: 0.0851, \n"
     ]
    },
    {
     "name": "stdout",
     "output_type": "stream",
     "text": [
      "epoch: 8, [batch: 6048 / 6720], examples_per_second: 2942.1722, train_label_loss: 0.1080, \n"
     ]
    },
    {
     "name": "stdout",
     "output_type": "stream",
     "text": [
      "=============================================================\n",
      "epoch: 8, source_val_acc_label: 0.9478, target_val_acc_label: 0.9293, source_val_label_loss: 0.1523, target_val_label_loss: 0.2739, \n",
      "=============================================================\n"
     ]
    },
    {
     "name": "stdout",
     "output_type": "stream",
     "text": [
      "epoch: 9, [batch: 1 / 6720], examples_per_second: 2.0840, train_label_loss: 0.2055, \n"
     ]
    },
    {
     "name": "stdout",
     "output_type": "stream",
     "text": [
      "epoch: 9, [batch: 672 / 6720], examples_per_second: 2551.1671, train_label_loss: 0.1907, \n"
     ]
    },
    {
     "name": "stdout",
     "output_type": "stream",
     "text": [
      "epoch: 9, [batch: 1344 / 6720], examples_per_second: 2612.5446, train_label_loss: 0.3356, \n"
     ]
    },
    {
     "name": "stdout",
     "output_type": "stream",
     "text": [
      "epoch: 9, [batch: 2016 / 6720], examples_per_second: 2315.9173, train_label_loss: 0.2890, \n"
     ]
    },
    {
     "name": "stdout",
     "output_type": "stream",
     "text": [
      "epoch: 9, [batch: 2688 / 6720], examples_per_second: 2306.1239, train_label_loss: 0.2705, \n"
     ]
    },
    {
     "name": "stdout",
     "output_type": "stream",
     "text": [
      "epoch: 9, [batch: 3360 / 6720], examples_per_second: 2302.0272, train_label_loss: 0.3120, \n"
     ]
    },
    {
     "name": "stdout",
     "output_type": "stream",
     "text": [
      "epoch: 9, [batch: 4032 / 6720], examples_per_second: 2307.5648, train_label_loss: 0.0375, \n"
     ]
    },
    {
     "name": "stdout",
     "output_type": "stream",
     "text": [
      "epoch: 9, [batch: 4704 / 6720], examples_per_second: 2406.5514, train_label_loss: 0.1422, \n"
     ]
    },
    {
     "name": "stdout",
     "output_type": "stream",
     "text": [
      "epoch: 9, [batch: 5376 / 6720], examples_per_second: 2570.2137, train_label_loss: 0.0633, \n"
     ]
    },
    {
     "name": "stdout",
     "output_type": "stream",
     "text": [
      "epoch: 9, [batch: 6048 / 6720], examples_per_second: 2568.5377, train_label_loss: 0.1172, \n"
     ]
    },
    {
     "name": "stdout",
     "output_type": "stream",
     "text": [
      "=============================================================\n",
      "epoch: 9, source_val_acc_label: 0.9514, target_val_acc_label: 0.9346, source_val_label_loss: 0.1438, target_val_label_loss: 0.2721, \n",
      "=============================================================\n"
     ]
    },
    {
     "name": "stdout",
     "output_type": "stream",
     "text": [
      "New best\n"
     ]
    },
    {
     "name": "stdout",
     "output_type": "stream",
     "text": [
      "epoch: 10, [batch: 1 / 6720], examples_per_second: 2.0879, train_label_loss: 0.1422, \n"
     ]
    },
    {
     "name": "stdout",
     "output_type": "stream",
     "text": [
      "epoch: 10, [batch: 672 / 6720], examples_per_second: 2583.7554, train_label_loss: 0.0546, \n"
     ]
    },
    {
     "name": "stdout",
     "output_type": "stream",
     "text": [
      "epoch: 10, [batch: 1344 / 6720], examples_per_second: 2596.4320, train_label_loss: 0.0166, \n"
     ]
    },
    {
     "name": "stdout",
     "output_type": "stream",
     "text": [
      "epoch: 10, [batch: 2016 / 6720], examples_per_second: 2608.2318, train_label_loss: 0.1633, \n"
     ]
    },
    {
     "name": "stdout",
     "output_type": "stream",
     "text": [
      "epoch: 10, [batch: 2688 / 6720], examples_per_second: 2579.1333, train_label_loss: 0.0075, \n"
     ]
    },
    {
     "name": "stdout",
     "output_type": "stream",
     "text": [
      "epoch: 10, [batch: 3360 / 6720], examples_per_second: 2610.9871, train_label_loss: 0.1522, \n"
     ]
    },
    {
     "name": "stdout",
     "output_type": "stream",
     "text": [
      "epoch: 10, [batch: 4032 / 6720], examples_per_second: 2598.2229, train_label_loss: 0.0974, \n"
     ]
    },
    {
     "name": "stdout",
     "output_type": "stream",
     "text": [
      "epoch: 10, [batch: 4704 / 6720], examples_per_second: 3056.9240, train_label_loss: 0.0934, \n"
     ]
    },
    {
     "name": "stdout",
     "output_type": "stream",
     "text": [
      "epoch: 10, [batch: 5376 / 6720], examples_per_second: 3234.7745, train_label_loss: 0.1327, \n"
     ]
    },
    {
     "name": "stdout",
     "output_type": "stream",
     "text": [
      "epoch: 10, [batch: 6048 / 6720], examples_per_second: 3451.2321, train_label_loss: 0.1523, \n"
     ]
    },
    {
     "name": "stdout",
     "output_type": "stream",
     "text": [
      "=============================================================\n",
      "epoch: 10, source_val_acc_label: 0.9489, target_val_acc_label: 0.9295, source_val_label_loss: 0.1458, target_val_label_loss: 0.2844, \n",
      "=============================================================\n"
     ]
    },
    {
     "name": "stdout",
     "output_type": "stream",
     "text": [
      "epoch: 11, [batch: 1 / 6720], examples_per_second: 3.0501, train_label_loss: 0.0869, \n"
     ]
    },
    {
     "name": "stdout",
     "output_type": "stream",
     "text": [
      "epoch: 11, [batch: 672 / 6720], examples_per_second: 3777.8072, train_label_loss: 0.1548, \n"
     ]
    },
    {
     "name": "stdout",
     "output_type": "stream",
     "text": [
      "epoch: 11, [batch: 1344 / 6720], examples_per_second: 3838.9652, train_label_loss: 0.1363, \n"
     ]
    },
    {
     "name": "stdout",
     "output_type": "stream",
     "text": [
      "epoch: 11, [batch: 2016 / 6720], examples_per_second: 2974.3765, train_label_loss: 0.1700, \n"
     ]
    },
    {
     "name": "stdout",
     "output_type": "stream",
     "text": [
      "epoch: 11, [batch: 2688 / 6720], examples_per_second: 2916.6234, train_label_loss: 0.0274, \n"
     ]
    },
    {
     "name": "stdout",
     "output_type": "stream",
     "text": [
      "epoch: 11, [batch: 3360 / 6720], examples_per_second: 2986.3789, train_label_loss: 0.2822, \n"
     ]
    },
    {
     "name": "stdout",
     "output_type": "stream",
     "text": [
      "epoch: 11, [batch: 4032 / 6720], examples_per_second: 2976.9756, train_label_loss: 0.2785, \n"
     ]
    },
    {
     "name": "stdout",
     "output_type": "stream",
     "text": [
      "epoch: 11, [batch: 4704 / 6720], examples_per_second: 3075.1763, train_label_loss: 0.0332, \n"
     ]
    },
    {
     "name": "stdout",
     "output_type": "stream",
     "text": [
      "epoch: 11, [batch: 5376 / 6720], examples_per_second: 3056.2675, train_label_loss: 0.0536, \n"
     ]
    },
    {
     "name": "stdout",
     "output_type": "stream",
     "text": [
      "epoch: 11, [batch: 6048 / 6720], examples_per_second: 2631.9591, train_label_loss: 0.2650, \n"
     ]
    },
    {
     "name": "stdout",
     "output_type": "stream",
     "text": [
      "=============================================================\n",
      "epoch: 11, source_val_acc_label: 0.9541, target_val_acc_label: 0.9352, source_val_label_loss: 0.1313, target_val_label_loss: 0.2570, \n",
      "=============================================================\n"
     ]
    },
    {
     "name": "stdout",
     "output_type": "stream",
     "text": [
      "New best\n"
     ]
    },
    {
     "name": "stdout",
     "output_type": "stream",
     "text": [
      "epoch: 12, [batch: 1 / 6720], examples_per_second: 2.0259, train_label_loss: 0.4183, \n"
     ]
    },
    {
     "name": "stdout",
     "output_type": "stream",
     "text": [
      "epoch: 12, [batch: 672 / 6720], examples_per_second: 2310.1968, train_label_loss: 0.0358, \n"
     ]
    },
    {
     "name": "stdout",
     "output_type": "stream",
     "text": [
      "epoch: 12, [batch: 1344 / 6720], examples_per_second: 2297.9933, train_label_loss: 0.1381, \n"
     ]
    },
    {
     "name": "stdout",
     "output_type": "stream",
     "text": [
      "epoch: 12, [batch: 2016 / 6720], examples_per_second: 2304.7346, train_label_loss: 0.5441, \n"
     ]
    },
    {
     "name": "stdout",
     "output_type": "stream",
     "text": [
      "epoch: 12, [batch: 2688 / 6720], examples_per_second: 2293.7333, train_label_loss: 0.1643, \n"
     ]
    },
    {
     "name": "stdout",
     "output_type": "stream",
     "text": [
      "epoch: 12, [batch: 3360 / 6720], examples_per_second: 2312.5415, train_label_loss: 0.0997, \n"
     ]
    },
    {
     "name": "stdout",
     "output_type": "stream",
     "text": [
      "epoch: 12, [batch: 4032 / 6720], examples_per_second: 2592.5659, train_label_loss: 0.0980, \n"
     ]
    },
    {
     "name": "stdout",
     "output_type": "stream",
     "text": [
      "epoch: 12, [batch: 4704 / 6720], examples_per_second: 2795.8428, train_label_loss: 0.1511, \n"
     ]
    },
    {
     "name": "stdout",
     "output_type": "stream",
     "text": [
      "epoch: 12, [batch: 5376 / 6720], examples_per_second: 2892.2177, train_label_loss: 0.1828, \n"
     ]
    },
    {
     "name": "stdout",
     "output_type": "stream",
     "text": [
      "epoch: 12, [batch: 6048 / 6720], examples_per_second: 2660.4154, train_label_loss: 0.0204, \n"
     ]
    },
    {
     "name": "stdout",
     "output_type": "stream",
     "text": [
      "=============================================================\n",
      "epoch: 12, source_val_acc_label: 0.9544, target_val_acc_label: 0.9328, source_val_label_loss: 0.1340, target_val_label_loss: 0.2654, \n",
      "=============================================================\n"
     ]
    },
    {
     "name": "stdout",
     "output_type": "stream",
     "text": [
      "epoch: 13, [batch: 1 / 6720], examples_per_second: 2.0151, train_label_loss: 0.0891, \n"
     ]
    },
    {
     "name": "stdout",
     "output_type": "stream",
     "text": [
      "epoch: 13, [batch: 672 / 6720], examples_per_second: 2319.9001, train_label_loss: 0.3133, \n"
     ]
    },
    {
     "name": "stdout",
     "output_type": "stream",
     "text": [
      "epoch: 13, [batch: 1344 / 6720], examples_per_second: 2316.3255, train_label_loss: 0.0546, \n"
     ]
    },
    {
     "name": "stdout",
     "output_type": "stream",
     "text": [
      "epoch: 13, [batch: 2016 / 6720], examples_per_second: 2325.4646, train_label_loss: 0.1649, \n"
     ]
    },
    {
     "name": "stdout",
     "output_type": "stream",
     "text": [
      "epoch: 13, [batch: 2688 / 6720], examples_per_second: 2297.0755, train_label_loss: 0.0176, \n"
     ]
    },
    {
     "name": "stdout",
     "output_type": "stream",
     "text": [
      "epoch: 13, [batch: 3360 / 6720], examples_per_second: 2370.2192, train_label_loss: 0.0191, \n"
     ]
    },
    {
     "name": "stdout",
     "output_type": "stream",
     "text": [
      "epoch: 13, [batch: 4032 / 6720], examples_per_second: 2590.0186, train_label_loss: 0.0998, \n"
     ]
    },
    {
     "name": "stdout",
     "output_type": "stream",
     "text": [
      "epoch: 13, [batch: 4704 / 6720], examples_per_second: 2827.2311, train_label_loss: 0.2387, \n"
     ]
    },
    {
     "name": "stdout",
     "output_type": "stream",
     "text": [
      "epoch: 13, [batch: 5376 / 6720], examples_per_second: 2904.9507, train_label_loss: 0.2130, \n"
     ]
    },
    {
     "name": "stdout",
     "output_type": "stream",
     "text": [
      "epoch: 13, [batch: 6048 / 6720], examples_per_second: 2710.0341, train_label_loss: 0.0228, \n"
     ]
    },
    {
     "name": "stdout",
     "output_type": "stream",
     "text": [
      "=============================================================\n",
      "epoch: 13, source_val_acc_label: 0.9573, target_val_acc_label: 0.9320, source_val_label_loss: 0.1250, target_val_label_loss: 0.2842, \n",
      "=============================================================\n"
     ]
    },
    {
     "name": "stdout",
     "output_type": "stream",
     "text": [
      "epoch: 14, [batch: 1 / 6720], examples_per_second: 2.0087, train_label_loss: 0.1455, \n"
     ]
    },
    {
     "name": "stdout",
     "output_type": "stream",
     "text": [
      "epoch: 14, [batch: 672 / 6720], examples_per_second: 2327.6054, train_label_loss: 0.0130, \n"
     ]
    },
    {
     "name": "stdout",
     "output_type": "stream",
     "text": [
      "epoch: 14, [batch: 1344 / 6720], examples_per_second: 2320.7500, train_label_loss: 0.2940, \n"
     ]
    },
    {
     "name": "stdout",
     "output_type": "stream",
     "text": [
      "epoch: 14, [batch: 2016 / 6720], examples_per_second: 2323.6329, train_label_loss: 0.1383, \n"
     ]
    },
    {
     "name": "stdout",
     "output_type": "stream",
     "text": [
      "epoch: 14, [batch: 2688 / 6720], examples_per_second: 2291.7044, train_label_loss: 0.0356, \n"
     ]
    },
    {
     "name": "stdout",
     "output_type": "stream",
     "text": [
      "epoch: 14, [batch: 3360 / 6720], examples_per_second: 2400.8071, train_label_loss: 0.0828, \n"
     ]
    },
    {
     "name": "stdout",
     "output_type": "stream",
     "text": [
      "epoch: 14, [batch: 4032 / 6720], examples_per_second: 2626.7000, train_label_loss: 0.1864, \n"
     ]
    },
    {
     "name": "stdout",
     "output_type": "stream",
     "text": [
      "epoch: 14, [batch: 4704 / 6720], examples_per_second: 2876.5017, train_label_loss: 0.0250, \n"
     ]
    },
    {
     "name": "stdout",
     "output_type": "stream",
     "text": [
      "epoch: 14, [batch: 5376 / 6720], examples_per_second: 2877.7496, train_label_loss: 0.1426, \n"
     ]
    },
    {
     "name": "stdout",
     "output_type": "stream",
     "text": [
      "epoch: 14, [batch: 6048 / 6720], examples_per_second: 2607.7322, train_label_loss: 0.0120, \n"
     ]
    },
    {
     "name": "stdout",
     "output_type": "stream",
     "text": [
      "=============================================================\n",
      "epoch: 14, source_val_acc_label: 0.9557, target_val_acc_label: 0.9346, source_val_label_loss: 0.1270, target_val_label_loss: 0.2731, \n",
      "=============================================================\n"
     ]
    },
    {
     "name": "stdout",
     "output_type": "stream",
     "text": [
      "epoch: 15, [batch: 1 / 6720], examples_per_second: 2.2838, train_label_loss: 0.0680, \n"
     ]
    },
    {
     "name": "stdout",
     "output_type": "stream",
     "text": [
      "epoch: 15, [batch: 672 / 6720], examples_per_second: 2651.5794, train_label_loss: 0.0607, \n"
     ]
    },
    {
     "name": "stdout",
     "output_type": "stream",
     "text": [
      "epoch: 15, [batch: 1344 / 6720], examples_per_second: 2898.8879, train_label_loss: 0.0891, \n"
     ]
    },
    {
     "name": "stdout",
     "output_type": "stream",
     "text": [
      "epoch: 15, [batch: 2016 / 6720], examples_per_second: 2925.3091, train_label_loss: 0.1817, \n"
     ]
    },
    {
     "name": "stdout",
     "output_type": "stream",
     "text": [
      "epoch: 15, [batch: 2688 / 6720], examples_per_second: 2912.5417, train_label_loss: 0.0572, \n"
     ]
    },
    {
     "name": "stdout",
     "output_type": "stream",
     "text": [
      "epoch: 15, [batch: 3360 / 6720], examples_per_second: 3053.7832, train_label_loss: 0.0391, \n"
     ]
    },
    {
     "name": "stdout",
     "output_type": "stream",
     "text": [
      "epoch: 15, [batch: 4032 / 6720], examples_per_second: 3686.9854, train_label_loss: 0.0366, \n"
     ]
    },
    {
     "name": "stdout",
     "output_type": "stream",
     "text": [
      "epoch: 15, [batch: 4704 / 6720], examples_per_second: 4197.9574, train_label_loss: 0.0299, \n"
     ]
    },
    {
     "name": "stdout",
     "output_type": "stream",
     "text": [
      "epoch: 15, [batch: 5376 / 6720], examples_per_second: 3716.4712, train_label_loss: 0.0116, \n"
     ]
    },
    {
     "name": "stdout",
     "output_type": "stream",
     "text": [
      "epoch: 15, [batch: 6048 / 6720], examples_per_second: 4014.5872, train_label_loss: 0.1451, \n"
     ]
    },
    {
     "name": "stdout",
     "output_type": "stream",
     "text": [
      "=============================================================\n",
      "epoch: 15, source_val_acc_label: 0.9577, target_val_acc_label: 0.9368, source_val_label_loss: 0.1238, target_val_label_loss: 0.2556, \n",
      "=============================================================\n"
     ]
    },
    {
     "name": "stdout",
     "output_type": "stream",
     "text": [
      "New best\n"
     ]
    },
    {
     "name": "stdout",
     "output_type": "stream",
     "text": [
      "epoch: 16, [batch: 1 / 6720], examples_per_second: 2.8979, train_label_loss: 0.0307, \n"
     ]
    },
    {
     "name": "stdout",
     "output_type": "stream",
     "text": [
      "epoch: 16, [batch: 672 / 6720], examples_per_second: 2951.0724, train_label_loss: 0.0339, \n"
     ]
    },
    {
     "name": "stdout",
     "output_type": "stream",
     "text": [
      "epoch: 16, [batch: 1344 / 6720], examples_per_second: 2360.5569, train_label_loss: 0.1925, \n"
     ]
    },
    {
     "name": "stdout",
     "output_type": "stream",
     "text": [
      "epoch: 16, [batch: 2016 / 6720], examples_per_second: 2292.6735, train_label_loss: 0.0442, \n"
     ]
    },
    {
     "name": "stdout",
     "output_type": "stream",
     "text": [
      "epoch: 16, [batch: 2688 / 6720], examples_per_second: 2305.3803, train_label_loss: 0.1173, \n"
     ]
    },
    {
     "name": "stdout",
     "output_type": "stream",
     "text": [
      "epoch: 16, [batch: 3360 / 6720], examples_per_second: 2422.7999, train_label_loss: 0.0791, \n"
     ]
    },
    {
     "name": "stdout",
     "output_type": "stream",
     "text": [
      "epoch: 16, [batch: 4032 / 6720], examples_per_second: 2641.2829, train_label_loss: 0.0429, \n"
     ]
    },
    {
     "name": "stdout",
     "output_type": "stream",
     "text": [
      "epoch: 16, [batch: 4704 / 6720], examples_per_second: 2602.2423, train_label_loss: 0.1140, \n"
     ]
    },
    {
     "name": "stdout",
     "output_type": "stream",
     "text": [
      "epoch: 16, [batch: 5376 / 6720], examples_per_second: 2456.1434, train_label_loss: 0.0102, \n"
     ]
    },
    {
     "name": "stdout",
     "output_type": "stream",
     "text": [
      "epoch: 16, [batch: 6048 / 6720], examples_per_second: 2316.5680, train_label_loss: 0.0600, \n"
     ]
    },
    {
     "name": "stdout",
     "output_type": "stream",
     "text": [
      "=============================================================\n",
      "epoch: 16, source_val_acc_label: 0.9584, target_val_acc_label: 0.9345, source_val_label_loss: 0.1235, target_val_label_loss: 0.2764, \n",
      "=============================================================\n"
     ]
    },
    {
     "name": "stdout",
     "output_type": "stream",
     "text": [
      "epoch: 17, [batch: 1 / 6720], examples_per_second: 2.0908, train_label_loss: 0.2182, \n"
     ]
    },
    {
     "name": "stdout",
     "output_type": "stream",
     "text": [
      "epoch: 17, [batch: 672 / 6720], examples_per_second: 2702.9688, train_label_loss: 0.0871, \n"
     ]
    },
    {
     "name": "stdout",
     "output_type": "stream",
     "text": [
      "epoch: 17, [batch: 1344 / 6720], examples_per_second: 2351.1815, train_label_loss: 0.0573, \n"
     ]
    },
    {
     "name": "stdout",
     "output_type": "stream",
     "text": [
      "epoch: 17, [batch: 2016 / 6720], examples_per_second: 2322.6926, train_label_loss: 0.0231, \n"
     ]
    },
    {
     "name": "stdout",
     "output_type": "stream",
     "text": [
      "epoch: 17, [batch: 2688 / 6720], examples_per_second: 2329.7168, train_label_loss: 0.1110, \n"
     ]
    },
    {
     "name": "stdout",
     "output_type": "stream",
     "text": [
      "epoch: 17, [batch: 3360 / 6720], examples_per_second: 2458.2302, train_label_loss: 0.2299, \n"
     ]
    },
    {
     "name": "stdout",
     "output_type": "stream",
     "text": [
      "epoch: 17, [batch: 4032 / 6720], examples_per_second: 2607.4386, train_label_loss: 0.0186, \n"
     ]
    },
    {
     "name": "stdout",
     "output_type": "stream",
     "text": [
      "epoch: 17, [batch: 4704 / 6720], examples_per_second: 2611.9060, train_label_loss: 0.0365, \n"
     ]
    },
    {
     "name": "stdout",
     "output_type": "stream",
     "text": [
      "epoch: 17, [batch: 5376 / 6720], examples_per_second: 2356.9843, train_label_loss: 0.1149, \n"
     ]
    },
    {
     "name": "stdout",
     "output_type": "stream",
     "text": [
      "epoch: 17, [batch: 6048 / 6720], examples_per_second: 2339.8157, train_label_loss: 0.0091, \n"
     ]
    },
    {
     "name": "stdout",
     "output_type": "stream",
     "text": [
      "=============================================================\n",
      "epoch: 17, source_val_acc_label: 0.9516, target_val_acc_label: 0.9326, source_val_label_loss: 0.1408, target_val_label_loss: 0.2658, \n",
      "=============================================================\n"
     ]
    },
    {
     "name": "stdout",
     "output_type": "stream",
     "text": [
      "epoch: 18, [batch: 1 / 6720], examples_per_second: 2.1211, train_label_loss: 0.0132, \n"
     ]
    },
    {
     "name": "stdout",
     "output_type": "stream",
     "text": [
      "epoch: 18, [batch: 672 / 6720], examples_per_second: 2699.7246, train_label_loss: 0.1018, \n"
     ]
    },
    {
     "name": "stdout",
     "output_type": "stream",
     "text": [
      "epoch: 18, [batch: 1344 / 6720], examples_per_second: 2293.5107, train_label_loss: 0.0352, \n"
     ]
    },
    {
     "name": "stdout",
     "output_type": "stream",
     "text": [
      "epoch: 18, [batch: 2016 / 6720], examples_per_second: 2308.6650, train_label_loss: 0.1643, \n"
     ]
    },
    {
     "name": "stdout",
     "output_type": "stream",
     "text": [
      "epoch: 18, [batch: 2688 / 6720], examples_per_second: 2302.7528, train_label_loss: 0.2994, \n"
     ]
    },
    {
     "name": "stdout",
     "output_type": "stream",
     "text": [
      "epoch: 18, [batch: 3360 / 6720], examples_per_second: 2496.8303, train_label_loss: 0.4127, \n"
     ]
    },
    {
     "name": "stdout",
     "output_type": "stream",
     "text": [
      "epoch: 18, [batch: 4032 / 6720], examples_per_second: 2599.7574, train_label_loss: 0.0458, \n"
     ]
    },
    {
     "name": "stdout",
     "output_type": "stream",
     "text": [
      "epoch: 18, [batch: 4704 / 6720], examples_per_second: 2696.0512, train_label_loss: 0.2880, \n"
     ]
    },
    {
     "name": "stdout",
     "output_type": "stream",
     "text": [
      "epoch: 18, [batch: 5376 / 6720], examples_per_second: 2351.9030, train_label_loss: 0.1682, \n"
     ]
    },
    {
     "name": "stdout",
     "output_type": "stream",
     "text": [
      "epoch: 18, [batch: 6048 / 6720], examples_per_second: 2310.3039, train_label_loss: 0.2344, \n"
     ]
    },
    {
     "name": "stdout",
     "output_type": "stream",
     "text": [
      "=============================================================\n",
      "epoch: 18, source_val_acc_label: 0.9569, target_val_acc_label: 0.9380, source_val_label_loss: 0.1268, target_val_label_loss: 0.2640, \n",
      "=============================================================\n"
     ]
    },
    {
     "name": "stdout",
     "output_type": "stream",
     "text": [
      "New best\n"
     ]
    },
    {
     "name": "stdout",
     "output_type": "stream",
     "text": [
      "epoch: 19, [batch: 1 / 6720], examples_per_second: 2.1338, train_label_loss: 0.0129, \n"
     ]
    },
    {
     "name": "stdout",
     "output_type": "stream",
     "text": [
      "epoch: 19, [batch: 672 / 6720], examples_per_second: 2768.5657, train_label_loss: 0.1334, \n"
     ]
    },
    {
     "name": "stdout",
     "output_type": "stream",
     "text": [
      "epoch: 19, [batch: 1344 / 6720], examples_per_second: 2323.9712, train_label_loss: 0.0819, \n"
     ]
    },
    {
     "name": "stdout",
     "output_type": "stream",
     "text": [
      "epoch: 19, [batch: 2016 / 6720], examples_per_second: 2326.6911, train_label_loss: 0.2240, \n"
     ]
    },
    {
     "name": "stdout",
     "output_type": "stream",
     "text": [
      "epoch: 19, [batch: 2688 / 6720], examples_per_second: 2330.2255, train_label_loss: 0.0209, \n"
     ]
    },
    {
     "name": "stdout",
     "output_type": "stream",
     "text": [
      "epoch: 19, [batch: 3360 / 6720], examples_per_second: 2546.7873, train_label_loss: 0.1623, \n"
     ]
    },
    {
     "name": "stdout",
     "output_type": "stream",
     "text": [
      "epoch: 19, [batch: 4032 / 6720], examples_per_second: 2661.8897, train_label_loss: 0.0276, \n"
     ]
    },
    {
     "name": "stdout",
     "output_type": "stream",
     "text": [
      "epoch: 19, [batch: 4704 / 6720], examples_per_second: 2676.3703, train_label_loss: 0.2830, \n"
     ]
    },
    {
     "name": "stdout",
     "output_type": "stream",
     "text": [
      "epoch: 19, [batch: 5376 / 6720], examples_per_second: 2375.5520, train_label_loss: 0.0038, \n"
     ]
    },
    {
     "name": "stdout",
     "output_type": "stream",
     "text": [
      "epoch: 19, [batch: 6048 / 6720], examples_per_second: 2365.3156, train_label_loss: 0.0502, \n"
     ]
    },
    {
     "name": "stdout",
     "output_type": "stream",
     "text": [
      "=============================================================\n",
      "epoch: 19, source_val_acc_label: 0.9518, target_val_acc_label: 0.9276, source_val_label_loss: 0.1403, target_val_label_loss: 0.2882, \n",
      "=============================================================\n"
     ]
    },
    {
     "name": "stdout",
     "output_type": "stream",
     "text": [
      "epoch: 20, [batch: 1 / 6720], examples_per_second: 2.4023, train_label_loss: 0.0197, \n"
     ]
    },
    {
     "name": "stdout",
     "output_type": "stream",
     "text": [
      "epoch: 20, [batch: 672 / 6720], examples_per_second: 3008.5001, train_label_loss: 0.1287, \n"
     ]
    },
    {
     "name": "stdout",
     "output_type": "stream",
     "text": [
      "epoch: 20, [batch: 1344 / 6720], examples_per_second: 2616.6644, train_label_loss: 0.0217, \n"
     ]
    },
    {
     "name": "stdout",
     "output_type": "stream",
     "text": [
      "epoch: 20, [batch: 2016 / 6720], examples_per_second: 2625.2675, train_label_loss: 0.0322, \n"
     ]
    },
    {
     "name": "stdout",
     "output_type": "stream",
     "text": [
      "epoch: 20, [batch: 2688 / 6720], examples_per_second: 2917.4011, train_label_loss: 0.0459, \n"
     ]
    },
    {
     "name": "stdout",
     "output_type": "stream",
     "text": [
      "epoch: 20, [batch: 3360 / 6720], examples_per_second: 2807.1252, train_label_loss: 0.0146, \n"
     ]
    },
    {
     "name": "stdout",
     "output_type": "stream",
     "text": [
      "epoch: 20, [batch: 4032 / 6720], examples_per_second: 2616.1708, train_label_loss: 0.0119, \n"
     ]
    },
    {
     "name": "stdout",
     "output_type": "stream",
     "text": [
      "epoch: 20, [batch: 4704 / 6720], examples_per_second: 2609.3187, train_label_loss: 0.1109, \n"
     ]
    },
    {
     "name": "stdout",
     "output_type": "stream",
     "text": [
      "epoch: 20, [batch: 5376 / 6720], examples_per_second: 2567.6881, train_label_loss: 0.0338, \n"
     ]
    },
    {
     "name": "stdout",
     "output_type": "stream",
     "text": [
      "epoch: 20, [batch: 6048 / 6720], examples_per_second: 2684.7006, train_label_loss: 0.0969, \n"
     ]
    },
    {
     "name": "stdout",
     "output_type": "stream",
     "text": [
      "=============================================================\n",
      "epoch: 20, source_val_acc_label: 0.9613, target_val_acc_label: 0.9341, source_val_label_loss: 0.1148, target_val_label_loss: 0.2696, \n",
      "=============================================================\n"
     ]
    },
    {
     "name": "stdout",
     "output_type": "stream",
     "text": [
      "epoch: 21, [batch: 1 / 6720], examples_per_second: 2.4413, train_label_loss: 0.0323, \n"
     ]
    },
    {
     "name": "stdout",
     "output_type": "stream",
     "text": [
      "epoch: 21, [batch: 672 / 6720], examples_per_second: 2999.1086, train_label_loss: 0.0050, \n"
     ]
    },
    {
     "name": "stdout",
     "output_type": "stream",
     "text": [
      "epoch: 21, [batch: 1344 / 6720], examples_per_second: 2613.3229, train_label_loss: 0.3129, \n"
     ]
    },
    {
     "name": "stdout",
     "output_type": "stream",
     "text": [
      "epoch: 21, [batch: 2016 / 6720], examples_per_second: 2573.6974, train_label_loss: 0.0330, \n"
     ]
    },
    {
     "name": "stdout",
     "output_type": "stream",
     "text": [
      "epoch: 21, [batch: 2688 / 6720], examples_per_second: 2880.7738, train_label_loss: 0.1253, \n"
     ]
    },
    {
     "name": "stdout",
     "output_type": "stream",
     "text": [
      "epoch: 21, [batch: 3360 / 6720], examples_per_second: 3037.5674, train_label_loss: 0.0776, \n"
     ]
    },
    {
     "name": "stdout",
     "output_type": "stream",
     "text": [
      "epoch: 21, [batch: 4032 / 6720], examples_per_second: 2982.8557, train_label_loss: 0.2517, \n"
     ]
    },
    {
     "name": "stdout",
     "output_type": "stream",
     "text": [
      "epoch: 21, [batch: 4704 / 6720], examples_per_second: 2995.6347, train_label_loss: 0.0629, \n"
     ]
    },
    {
     "name": "stdout",
     "output_type": "stream",
     "text": [
      "epoch: 21, [batch: 5376 / 6720], examples_per_second: 3057.3557, train_label_loss: 0.0215, \n"
     ]
    },
    {
     "name": "stdout",
     "output_type": "stream",
     "text": [
      "epoch: 21, [batch: 6048 / 6720], examples_per_second: 2961.6402, train_label_loss: 0.0975, \n"
     ]
    },
    {
     "name": "stdout",
     "output_type": "stream",
     "text": [
      "=============================================================\n",
      "epoch: 21, source_val_acc_label: 0.9592, target_val_acc_label: 0.9335, source_val_label_loss: 0.1240, target_val_label_loss: 0.2795, \n",
      "=============================================================\n"
     ]
    },
    {
     "name": "stdout",
     "output_type": "stream",
     "text": [
      "epoch: 22, [batch: 1 / 6720], examples_per_second: 2.2810, train_label_loss: 0.0540, \n"
     ]
    },
    {
     "name": "stdout",
     "output_type": "stream",
     "text": [
      "epoch: 22, [batch: 672 / 6720], examples_per_second: 2646.3130, train_label_loss: 0.0687, \n"
     ]
    },
    {
     "name": "stdout",
     "output_type": "stream",
     "text": [
      "epoch: 22, [batch: 1344 / 6720], examples_per_second: 2315.4404, train_label_loss: 0.0055, \n"
     ]
    },
    {
     "name": "stdout",
     "output_type": "stream",
     "text": [
      "epoch: 22, [batch: 2016 / 6720], examples_per_second: 2305.4535, train_label_loss: 0.1806, \n"
     ]
    },
    {
     "name": "stdout",
     "output_type": "stream",
     "text": [
      "epoch: 22, [batch: 2688 / 6720], examples_per_second: 2316.8249, train_label_loss: 0.1228, \n"
     ]
    },
    {
     "name": "stdout",
     "output_type": "stream",
     "text": [
      "epoch: 22, [batch: 3360 / 6720], examples_per_second: 2320.0966, train_label_loss: 0.1066, \n"
     ]
    },
    {
     "name": "stdout",
     "output_type": "stream",
     "text": [
      "epoch: 22, [batch: 4032 / 6720], examples_per_second: 2293.2067, train_label_loss: 0.0342, \n"
     ]
    },
    {
     "name": "stdout",
     "output_type": "stream",
     "text": [
      "epoch: 22, [batch: 4704 / 6720], examples_per_second: 2308.7554, train_label_loss: 0.0071, \n"
     ]
    },
    {
     "name": "stdout",
     "output_type": "stream",
     "text": [
      "epoch: 22, [batch: 5376 / 6720], examples_per_second: 2537.9610, train_label_loss: 0.0038, \n"
     ]
    },
    {
     "name": "stdout",
     "output_type": "stream",
     "text": [
      "epoch: 22, [batch: 6048 / 6720], examples_per_second: 2562.7186, train_label_loss: 0.0250, \n"
     ]
    },
    {
     "name": "stdout",
     "output_type": "stream",
     "text": [
      "=============================================================\n",
      "epoch: 22, source_val_acc_label: 0.9619, target_val_acc_label: 0.9351, source_val_label_loss: 0.1195, target_val_label_loss: 0.2869, \n",
      "=============================================================\n"
     ]
    },
    {
     "name": "stdout",
     "output_type": "stream",
     "text": [
      "Patience (3) exhausted\n"
     ]
    }
   ],
   "source": [
    "###################################\n",
    "# train\n",
    "###################################\n",
    "jig = PTN_Train_Eval_Test_Jig(model, p.BEST_MODEL_PATH, p.device)\n",
    "\n",
    "jig.train(\n",
    "    train_iterable=datasets.source.processed.train,\n",
    "    source_val_iterable=datasets.source.processed.val,\n",
    "    target_val_iterable=datasets.target.processed.val,\n",
    "    num_epochs=p.n_epoch,\n",
    "    num_logs_per_epoch=p.NUM_LOGS_PER_EPOCH,\n",
    "    patience=p.patience,\n",
    "    optimizer=optimizer,\n",
    "    criteria_for_best=p.criteria_for_best,\n",
    ")"
   ]
  },
  {
   "cell_type": "code",
   "execution_count": 23,
   "id": "31e8fabf",
   "metadata": {
    "execution": {
     "iopub.execute_input": "2022-03-21T19:51:16.155301Z",
     "iopub.status.busy": "2022-03-21T19:51:16.154925Z",
     "iopub.status.idle": "2022-03-21T19:51:16.187151Z",
     "shell.execute_reply": "2022-03-21T19:51:16.186434Z"
    },
    "papermill": {
     "duration": 0.124682,
     "end_time": "2022-03-21T19:51:16.187314",
     "exception": false,
     "start_time": "2022-03-21T19:51:16.062632",
     "status": "completed"
    },
    "tags": []
   },
   "outputs": [],
   "source": [
    "total_experiment_time_secs = time.time() - start_time_secs"
   ]
  },
  {
   "cell_type": "code",
   "execution_count": 24,
   "id": "87b9595b",
   "metadata": {
    "execution": {
     "iopub.execute_input": "2022-03-21T19:51:16.374879Z",
     "iopub.status.busy": "2022-03-21T19:51:16.365936Z",
     "iopub.status.idle": "2022-03-21T19:55:53.143266Z",
     "shell.execute_reply": "2022-03-21T19:55:53.143946Z"
    },
    "papermill": {
     "duration": 276.865714,
     "end_time": "2022-03-21T19:55:53.144189",
     "exception": false,
     "start_time": "2022-03-21T19:51:16.278475",
     "status": "completed"
    },
    "tags": []
   },
   "outputs": [],
   "source": [
    "###################################\n",
    "# Evaluate the model\n",
    "###################################\n",
    "source_test_label_accuracy, source_test_label_loss = jig.test(datasets.source.processed.test)\n",
    "target_test_label_accuracy, target_test_label_loss = jig.test(datasets.target.processed.test)\n",
    "\n",
    "source_val_label_accuracy, source_val_label_loss = jig.test(datasets.source.processed.val)\n",
    "target_val_label_accuracy, target_val_label_loss = jig.test(datasets.target.processed.val)\n",
    "\n",
    "history = jig.get_history()\n",
    "\n",
    "total_epochs_trained = len(history[\"epoch_indices\"])\n",
    "\n",
    "val_dl = Iterable_Aggregator((datasets.source.original.val,datasets.target.original.val))\n",
    "\n",
    "confusion = ptn_confusion_by_domain_over_dataloader(model, p.device, val_dl)\n",
    "per_domain_accuracy = per_domain_accuracy_from_confusion(confusion)\n",
    "\n",
    "# Add a key to per_domain_accuracy for if it was a source domain\n",
    "for domain, accuracy in per_domain_accuracy.items():\n",
    "    per_domain_accuracy[domain] = {\n",
    "        \"accuracy\": accuracy,\n",
    "        \"source?\": domain in p.domains_source\n",
    "    }\n",
    "\n",
    "# Do an independent accuracy assesment JUST TO BE SURE!\n",
    "# _source_test_label_accuracy = independent_accuracy_assesment(model, datasets.source.processed.test, p.device)\n",
    "# _target_test_label_accuracy = independent_accuracy_assesment(model, datasets.target.processed.test, p.device)\n",
    "# _source_val_label_accuracy = independent_accuracy_assesment(model, datasets.source.processed.val, p.device)\n",
    "# _target_val_label_accuracy = independent_accuracy_assesment(model, datasets.target.processed.val, p.device)\n",
    "\n",
    "# assert(_source_test_label_accuracy == source_test_label_accuracy)\n",
    "# assert(_target_test_label_accuracy == target_test_label_accuracy)\n",
    "# assert(_source_val_label_accuracy == source_val_label_accuracy)\n",
    "# assert(_target_val_label_accuracy == target_val_label_accuracy)\n",
    "\n",
    "experiment = {\n",
    "    \"experiment_name\": p.experiment_name,\n",
    "    \"parameters\": dict(p),\n",
    "    \"results\": {\n",
    "        \"source_test_label_accuracy\": source_test_label_accuracy,\n",
    "        \"source_test_label_loss\": source_test_label_loss,\n",
    "        \"target_test_label_accuracy\": target_test_label_accuracy,\n",
    "        \"target_test_label_loss\": target_test_label_loss,\n",
    "        \"source_val_label_accuracy\": source_val_label_accuracy,\n",
    "        \"source_val_label_loss\": source_val_label_loss,\n",
    "        \"target_val_label_accuracy\": target_val_label_accuracy,\n",
    "        \"target_val_label_loss\": target_val_label_loss,\n",
    "        \"total_epochs_trained\": total_epochs_trained,\n",
    "        \"total_experiment_time_secs\": total_experiment_time_secs,\n",
    "        \"confusion\": confusion,\n",
    "        \"per_domain_accuracy\": per_domain_accuracy,\n",
    "    },\n",
    "    \"history\": history,\n",
    "    \"dataset_metrics\": get_dataset_metrics(datasets, \"ptn\"),\n",
    "}"
   ]
  },
  {
   "cell_type": "code",
   "execution_count": 25,
   "id": "54a21829",
   "metadata": {
    "execution": {
     "iopub.execute_input": "2022-03-21T19:55:53.329990Z",
     "iopub.status.busy": "2022-03-21T19:55:53.329617Z",
     "iopub.status.idle": "2022-03-21T19:55:53.541023Z",
     "shell.execute_reply": "2022-03-21T19:55:53.541691Z"
    },
    "papermill": {
     "duration": 0.305231,
     "end_time": "2022-03-21T19:55:53.541915",
     "exception": false,
     "start_time": "2022-03-21T19:55:53.236684",
     "status": "completed"
    },
    "tags": []
   },
   "outputs": [
    {
     "data": {
      "image/png": "[encoded data removed]",
      "text/plain": [
       "<Figure size 1080x504 with 1 Axes>"
      ]
     },
     "metadata": {
      "needs_background": "light"
     },
     "output_type": "display_data"
    }
   ],
   "source": [
    "ax = get_loss_curve(experiment)\n",
    "plt.show()"
   ]
  },
  {
   "cell_type": "code",
   "execution_count": 26,
   "id": "fd8a0f60",
   "metadata": {
    "execution": {
     "iopub.execute_input": "2022-03-21T19:55:53.724934Z",
     "iopub.status.busy": "2022-03-21T19:55:53.724563Z",
     "iopub.status.idle": "2022-03-21T19:55:54.075945Z",
     "shell.execute_reply": "2022-03-21T19:55:54.076263Z"
    },
    "papermill": {
     "duration": 0.442611,
     "end_time": "2022-03-21T19:55:54.076385",
     "exception": false,
     "start_time": "2022-03-21T19:55:53.633774",
     "status": "completed"
    },
    "tags": []
   },
   "outputs": [
    {
     "data": {
      "text/plain": [
       "<AxesSubplot:title={'center':'Results'}>"
      ]
     },
     "execution_count": 26,
     "metadata": {},
     "output_type": "execute_result"
    },
    {
     "data": {
      "image/png": "[encoded data removed]",
      "text/plain": [
       "<Figure size 1080x504 with 1 Axes>"
      ]
     },
     "metadata": {
      "needs_background": "light"
     },
     "output_type": "display_data"
    }
   ],
   "source": [
    "get_results_table(experiment)"
   ]
  },
  {
   "cell_type": "code",
   "execution_count": 27,
   "id": "cf8dc689",
   "metadata": {
    "execution": {
     "iopub.execute_input": "2022-03-21T19:55:54.265361Z",
     "iopub.status.busy": "2022-03-21T19:55:54.264993Z",
     "iopub.status.idle": "2022-03-21T19:55:54.549497Z",
     "shell.execute_reply": "2022-03-21T19:55:54.548828Z"
    },
    "papermill": {
     "duration": 0.3805,
     "end_time": "2022-03-21T19:55:54.549677",
     "exception": false,
     "start_time": "2022-03-21T19:55:54.169177",
     "status": "completed"
    },
    "tags": []
   },
   "outputs": [
    {
     "data": {
      "text/plain": [
       "<AxesSubplot:title={'center':'Per Domain Validation Accuracy'}, xlabel='domain'>"
      ]
     },
     "execution_count": 27,
     "metadata": {},
     "output_type": "execute_result"
    },
    {
     "data": {
      "image/png": "[encoded data removed]",
      "text/plain": [
       "<Figure size 1080x504 with 1 Axes>"
      ]
     },
     "metadata": {
      "needs_background": "light"
     },
     "output_type": "display_data"
    }
   ],
   "source": [
    "get_domain_accuracies(experiment)"
   ]
  },
  {
   "cell_type": "code",
   "execution_count": 28,
   "id": "a74ae082",
   "metadata": {
    "execution": {
     "iopub.execute_input": "2022-03-21T19:55:54.747401Z",
     "iopub.status.busy": "2022-03-21T19:55:54.746816Z",
     "iopub.status.idle": "2022-03-21T19:55:54.773123Z",
     "shell.execute_reply": "2022-03-21T19:55:54.772391Z"
    },
    "papermill": {
     "duration": 0.124727,
     "end_time": "2022-03-21T19:55:54.773278",
     "exception": false,
     "start_time": "2022-03-21T19:55:54.648551",
     "status": "completed"
    },
    "tags": []
   },
   "outputs": [
    {
     "name": "stdout",
     "output_type": "stream",
     "text": [
      "Source Test Label Accuracy: 0.9573893229166667 Target Test Label Accuracy: 0.9361328125\n",
      "Source Val Label Accuracy: 0.9569010416666667 Target Val Label Accuracy: 0.93798828125\n"
     ]
    }
   ],
   "source": [
    "print(\"Source Test Label Accuracy:\", experiment[\"results\"][\"source_test_label_accuracy\"], \"Target Test Label Accuracy:\", experiment[\"results\"][\"target_test_label_accuracy\"])\n",
    "print(\"Source Val Label Accuracy:\", experiment[\"results\"][\"source_val_label_accuracy\"], \"Target Val Label Accuracy:\", experiment[\"results\"][\"target_val_label_accuracy\"])"
   ]
  },
  {
   "cell_type": "code",
   "execution_count": 29,
   "id": "dacca602",
   "metadata": {
    "execution": {
     "iopub.execute_input": "2022-03-21T19:55:54.970459Z",
     "iopub.status.busy": "2022-03-21T19:55:54.970098Z",
     "iopub.status.idle": "2022-03-21T19:55:54.996916Z",
     "shell.execute_reply": "2022-03-21T19:55:54.996173Z"
    },
    "papermill": {
     "duration": 0.124711,
     "end_time": "2022-03-21T19:55:54.997071",
     "exception": false,
     "start_time": "2022-03-21T19:55:54.872360",
     "status": "completed"
    },
    "tags": [
     "experiment_json"
    ]
   },
   "outputs": [
    {
     "data": {
      "text/plain": [
       "'{\"experiment_name\": \"tl_1v2:oracle.run1.framed-oracle.run2.framed\", \"parameters\": {\"experiment_name\": \"tl_1v2:oracle.run1.framed-oracle.run2.framed\", \"device\": \"cuda\", \"lr\": 0.0001, \"n_shot\": 3, \"n_query\": 2, \"train_k_factor\": 3, \"val_k_factor\": 2, \"test_k_factor\": 2, \"torch_default_dtype\": \"torch.float32\", \"n_epoch\": 50, \"patience\": 3, \"criteria_for_best\": \"target_accuracy\", \"x_net\": [{\"class\": \"nnReshape\", \"kargs\": {\"shape\": [-1, 1, 2, 256]}}, {\"class\": \"Conv2d\", \"kargs\": {\"in_channels\": 1, \"out_channels\": 256, \"kernel_size\": [1, 7], \"bias\": false, \"padding\": [0, 3]}}, {\"class\": \"ReLU\", \"kargs\": {\"inplace\": true}}, {\"class\": \"BatchNorm2d\", \"kargs\": {\"num_features\": 256}}, {\"class\": \"Conv2d\", \"kargs\": {\"in_channels\": 256, \"out_channels\": 80, \"kernel_size\": [2, 7], \"bias\": true, \"padding\": [0, 3]}}, {\"class\": \"ReLU\", \"kargs\": {\"inplace\": true}}, {\"class\": \"BatchNorm2d\", \"kargs\": {\"num_features\": 80}}, {\"class\": \"Flatten\", \"kargs\": {}}, {\"class\": \"Linear\", \"kargs\": {\"in_features\": 20480, \"out_features\": 256}}, {\"class\": \"ReLU\", \"kargs\": {\"inplace\": true}}, {\"class\": \"BatchNorm1d\", \"kargs\": {\"num_features\": 256}}, {\"class\": \"Linear\", \"kargs\": {\"in_features\": 256, \"out_features\": 256}}], \"NUM_LOGS_PER_EPOCH\": 10, \"BEST_MODEL_PATH\": \"./best_model.pth\", \"n_way\": 16, \"datasets\": [{\"labels\": [\"3123D52\", \"3123D65\", \"3123D79\", \"3123D80\", \"3123D54\", \"3123D70\", \"3123D7B\", \"3123D89\", \"3123D58\", \"3123D76\", \"3123D7D\", \"3123EFE\", \"3123D64\", \"3123D78\", \"3123D7E\", \"3124E4A\"], \"domains\": [32, 38, 8, 44, 14, 50, 20, 26], \"num_examples_per_domain_per_label\": 2000, \"pickle_path\": \"/root/csc500-main/datasets/oracle.Run1_framed_2000Examples_stratified_ds.2022A.pkl\", \"source_or_target_dataset\": \"source\", \"x_transforms\": [], \"episode_transforms\": [], \"domain_prefix\": \"ORACLE.run1_\"}, {\"labels\": [\"3123D52\", \"3123D65\", \"3123D79\", \"3123D80\", \"3123D54\", \"3123D70\", \"3123D7B\", \"3123D89\", \"3123D58\", \"3123D76\", \"3123D7D\", \"3123EFE\", \"3123D64\", \"3123D78\", \"3123D7E\", \"3124E4A\"], \"domains\": [32, 38, 8, 44, 14, 50, 20, 26], \"num_examples_per_domain_per_label\": 2000, \"pickle_path\": \"/root/csc500-main/datasets/oracle.Run2_framed_2000Examples_stratified_ds.2022A.pkl\", \"source_or_target_dataset\": \"target\", \"x_transforms\": [], \"episode_transforms\": [], \"domain_prefix\": \"ORACLE.run2_\"}], \"dataset_seed\": 154325, \"seed\": 154325, \"x_shape\": [2, 256], \"domains_source\": [\"ORACLE.run1_32\", \"ORACLE.run1_38\", \"ORACLE.run1_8\", \"ORACLE.run1_44\", \"ORACLE.run1_14\", \"ORACLE.run1_50\", \"ORACLE.run1_20\", \"ORACLE.run1_26\"], \"domains_target\": [\"ORACLE.run2_32\", \"ORACLE.run2_38\", \"ORACLE.run2_8\", \"ORACLE.run2_44\", \"ORACLE.run2_14\", \"ORACLE.run2_50\", \"ORACLE.run2_20\", \"ORACLE.run2_26\"]}, \"results\": {\"source_test_label_accuracy\": 0.9573893229166667, \"source_test_label_loss\": 0.12818756699562073, \"target_test_label_accuracy\": 0.9361328125, \"target_test_label_loss\": 0.2887023091316223, \"source_val_label_accuracy\": 0.9569010416666667, \"source_val_label_loss\": 0.1267613172531128, \"target_val_label_accuracy\": 0.93798828125, \"target_val_label_loss\": 0.26403915882110596, \"total_epochs_trained\": 22, \"total_experiment_time_secs\": 5480.297334432602, \"confusion\": {\"ORACLE.run1_8\": {\"13\": {\"10\": 18, \"13\": 218, \"7\": 3, \"6\": 1}, \"9\": {\"9\": 240}, \"15\": {\"15\": 233, \"12\": 7}, \"2\": {\"2\": 221, \"12\": 5, \"15\": 1, \"3\": 13}, \"3\": {\"3\": 240}, \"8\": {\"8\": 240}, \"5\": {\"5\": 220, \"1\": 11, \"10\": 8, \"14\": 1}, \"14\": {\"14\": 236, \"5\": 1, \"4\": 3}, \"1\": {\"1\": 239, \"5\": 1}, \"0\": {\"0\": 240}, \"10\": {\"10\": 231, \"13\": 8, \"5\": 1}, \"6\": {\"6\": 227, \"7\": 13}, \"11\": {\"11\": 237, \"14\": 1, \"1\": 2}, \"7\": {\"7\": 233, \"6\": 7}, \"4\": {\"4\": 240}, \"12\": {\"12\": 204, \"15\": 36}}, \"ORACLE.run1_38\": {\"13\": {\"13\": 237, \"10\": 3}, \"12\": {\"12\": 240}, \"2\": {\"2\": 237, \"14\": 3}, \"9\": {\"9\": 239, \"5\": 1}, \"15\": {\"15\": 238, \"8\": 1, \"5\": 1}, \"5\": {\"5\": 164, \"8\": 49, \"7\": 15, \"9\": 11, \"15\": 1}, \"14\": {\"14\": 236, \"2\": 4}, \"0\": {\"0\": 235, \"8\": 1, \"7\": 1, \"13\": 1, \"10\": 2}, \"3\": {\"3\": 239, \"12\": 1}, \"1\": {\"1\": 240}, \"11\": {\"11\": 240}, \"7\": {\"7\": 234, \"8\": 6}, \"8\": {\"8\": 197, \"5\": 34, \"15\": 3, \"7\": 5, \"0\": 1}, \"4\": {\"4\": 240}, \"10\": {\"10\": 238, \"13\": 1, \"0\": 1}, \"6\": {\"6\": 240}}, \"ORACLE.run1_26\": {\"10\": {\"10\": 204, \"15\": 2, \"14\": 17, \"0\": 17}, \"12\": {\"12\": 240}, \"1\": {\"1\": 227, \"14\": 13}, \"0\": {\"0\": 185, \"10\": 31, \"14\": 23, \"8\": 1}, \"15\": {\"15\": 226, \"6\": 5, \"10\": 7, \"2\": 1, \"5\": 1}, \"13\": {\"13\": 228, \"9\": 2, \"3\": 2, \"2\": 8}, \"8\": {\"8\": 220, \"7\": 18, \"2\": 2}, \"3\": {\"2\": 1, \"3\": 235, \"7\": 4}, \"11\": {\"11\": 240}, \"4\": {\"4\": 240}, \"6\": {\"6\": 237, \"15\": 1, \"10\": 2}, \"7\": {\"7\": 227, \"2\": 5, \"8\": 7, \"3\": 1}, \"14\": {\"14\": 217, \"0\": 7, \"10\": 14, \"1\": 2}, \"2\": {\"2\": 193, \"7\": 19, \"9\": 7, \"8\": 6, \"3\": 14, \"0\": 1}, \"5\": {\"5\": 238, \"15\": 2}, \"9\": {\"9\": 234, \"13\": 6}}, \"ORACLE.run1_20\": {\"5\": {\"5\": 238, \"1\": 2}, \"15\": {\"15\": 237, \"12\": 2, \"1\": 1}, \"9\": {\"9\": 235, \"1\": 1, \"7\": 2, \"3\": 2}, \"7\": {\"7\": 234, \"2\": 6}, \"3\": {\"3\": 226, \"9\": 9, \"7\": 2, \"1\": 3}, \"8\": {\"8\": 240}, \"4\": {\"4\": 240}, \"6\": {\"6\": 240}, \"2\": {\"2\": 227, \"12\": 11, \"7\": 1, \"9\": 1}, \"12\": {\"12\": 227, \"2\": 13}, \"0\": {\"0\": 239, \"5\": 1}, \"13\": {\"13\": 240}, \"10\": {\"10\": 240}, \"11\": {\"11\": 240}, \"14\": {\"14\": 240}, \"1\": {\"1\": 237, \"5\": 1, \"9\": 1, \"3\": 1}}, \"ORACLE.run1_50\": {\"1\": {\"1\": 239, \"11\": 1}, \"2\": {\"2\": 240}, \"8\": {\"8\": 240}, \"7\": {\"7\": 237, \"5\": 1, \"4\": 2}, \"14\": {\"14\": 240}, \"6\": {\"6\": 238, \"15\": 2}, \"3\": {\"3\": 240}, \"4\": {\"4\": 218, \"5\": 10, \"7\": 8, \"15\": 4}, \"12\": {\"12\": 236, \"9\": 3, \"11\": 1}, \"15\": {\"15\": 231, \"11\": 3, \"6\": 5, \"4\": 1}, \"11\": {\"11\": 236, \"12\": 2, \"15\": 1, \"9\": 1}, \"0\": {\"0\": 235, \"2\": 5}, \"9\": {\"9\": 236, \"12\": 3, \"11\": 1}, \"10\": {\"10\": 240}, \"5\": {\"13\": 8, \"5\": 205, \"1\": 2, \"7\": 12, \"6\": 3, \"4\": 6, \"11\": 2, \"15\": 2}, \"13\": {\"13\": 240}}, \"ORACLE.run1_32\": {\"2\": {\"2\": 233, \"4\": 7}, \"6\": {\"6\": 240}, \"5\": {\"5\": 201, \"7\": 32, \"14\": 1, \"8\": 5, \"0\": 1}, \"12\": {\"12\": 240}, \"13\": {\"13\": 239, \"3\": 1}, \"9\": {\"9\": 240}, \"11\": {\"11\": 240}, \"1\": {\"1\": 240}, \"3\": {\"3\": 240}, \"7\": {\"7\": 212, \"5\": 25, \"0\": 1, \"14\": 2}, \"14\": {\"14\": 217, \"0\": 14, \"8\": 5, \"5\": 1, \"7\": 3}, \"8\": {\"8\": 226, \"0\": 10, \"5\": 2, \"14\": 1, \"3\": 1}, \"4\": {\"4\": 233, \"2\": 7}, \"0\": {\"0\": 231, \"14\": 4, \"8\": 4, \"7\": 1}, \"10\": {\"10\": 240}, \"15\": {\"15\": 240}}, \"ORACLE.run1_44\": {\"13\": {\"13\": 213, \"6\": 15, \"9\": 12}, \"4\": {\"4\": 187, \"14\": 51, \"15\": 2}, \"6\": {\"6\": 213, \"13\": 14, \"9\": 9, \"7\": 4}, \"0\": {\"0\": 227, \"8\": 13}, \"10\": {\"10\": 234, \"1\": 3, \"2\": 3}, \"7\": {\"7\": 218, \"9\": 21, \"6\": 1}, \"14\": {\"14\": 200, \"4\": 33, \"5\": 2, \"15\": 5}, \"15\": {\"15\": 228, \"14\": 6, \"0\": 2, \"5\": 2, \"8\": 2}, \"5\": {\"5\": 220, \"15\": 11, \"0\": 1, \"14\": 4, \"8\": 4}, \"2\": {\"2\": 239, \"1\": 1}, \"9\": {\"7\": 34, \"6\": 18, \"9\": 179, \"13\": 9}, \"12\": {\"12\": 236, \"3\": 4}, \"8\": {\"8\": 183, \"0\": 52, \"15\": 2, \"5\": 3}, \"3\": {\"3\": 240}, \"1\": {\"1\": 238, \"2\": 2}, \"11\": {\"11\": 240}}, \"ORACLE.run1_14\": {\"1\": {\"1\": 240}, \"15\": {\"15\": 240}, \"10\": {\"10\": 240}, \"2\": {\"2\": 190, \"14\": 32, \"5\": 13, \"6\": 4, \"4\": 1}, \"9\": {\"9\": 240}, \"5\": {\"5\": 234, \"2\": 5, \"7\": 1}, \"7\": {\"7\": 239, \"5\": 1}, \"13\": {\"6\": 56, \"13\": 178, \"15\": 1, \"2\": 2, \"14\": 3}, \"8\": {\"8\": 240}, \"6\": {\"13\": 30, \"6\": 207, \"2\": 3}, \"3\": {\"3\": 240}, \"12\": {\"12\": 240}, \"0\": {\"0\": 236, \"3\": 4}, \"4\": {\"4\": 239, \"5\": 1}, \"14\": {\"14\": 231, \"2\": 6, \"3\": 1, \"6\": 1, \"13\": 1}, \"11\": {\"11\": 240}}, \"ORACLE.run2_8\": {\"13\": {\"13\": 237, \"10\": 3}, \"9\": {\"9\": 240}, \"15\": {\"15\": 239, \"12\": 1}, \"2\": {\"2\": 240}, \"3\": {\"3\": 240}, \"8\": {\"8\": 239, \"11\": 1}, \"5\": {\"5\": 237, \"10\": 3}, \"14\": {\"14\": 240}, \"1\": {\"1\": 239, \"13\": 1}, \"0\": {\"0\": 240}, \"10\": {\"10\": 239, \"13\": 1}, \"6\": {\"6\": 240}, \"11\": {\"11\": 160, \"8\": 75, \"12\": 5}, \"7\": {\"7\": 229, \"4\": 11}, \"4\": {\"4\": 208, \"7\": 29, \"6\": 3}, \"12\": {\"12\": 240}}, \"ORACLE.run2_38\": {\"13\": {\"3\": 36, \"13\": 185, \"10\": 19}, \"12\": {\"12\": 240}, \"2\": {\"2\": 226, \"14\": 14}, \"9\": {\"9\": 240}, \"15\": {\"15\": 178, \"1\": 50, \"6\": 11, \"5\": 1}, \"5\": {\"5\": 182, \"8\": 54, \"7\": 3, \"0\": 1}, \"14\": {\"14\": 160, \"12\": 4, \"2\": 53, \"7\": 17, \"8\": 1, \"4\": 5}, \"0\": {\"0\": 235, \"3\": 1, \"7\": 4}, \"3\": {\"14\": 12, \"3\": 141, \"13\": 61, \"8\": 3, \"7\": 5, \"0\": 13, \"10\": 4, \"2\": 1}, \"1\": {\"15\": 6, \"1\": 234}, \"11\": {\"11\": 239, \"12\": 1}, \"7\": {\"7\": 239, \"5\": 1}, \"8\": {\"8\": 208, \"5\": 31, \"7\": 1}, \"4\": {\"4\": 238, \"7\": 1, \"0\": 1}, \"10\": {\"10\": 237, \"13\": 3}, \"6\": {\"6\": 240}}, \"ORACLE.run2_26\": {\"10\": {\"15\": 1, \"14\": 49, \"10\": 104, \"8\": 12, \"0\": 67, \"6\": 6, \"1\": 1}, \"12\": {\"12\": 240}, \"1\": {\"1\": 240}, \"0\": {\"0\": 161, \"10\": 48, \"14\": 19, \"15\": 5, \"8\": 7}, \"15\": {\"15\": 231, \"2\": 9}, \"13\": {\"13\": 234, \"2\": 1, \"9\": 4, \"7\": 1}, \"8\": {\"2\": 10, \"8\": 229, \"15\": 1}, \"3\": {\"3\": 220, \"4\": 4, \"7\": 16}, \"11\": {\"11\": 240}, \"4\": {\"4\": 239, \"3\": 1}, \"6\": {\"6\": 239, \"10\": 1}, \"7\": {\"7\": 200, \"2\": 30, \"3\": 9, \"13\": 1}, \"14\": {\"14\": 189, \"0\": 30, \"1\": 3, \"15\": 2, \"10\": 16}, \"2\": {\"2\": 219, \"7\": 13, \"13\": 1, \"15\": 2, \"9\": 1, \"8\": 3, \"3\": 1}, \"5\": {\"5\": 217, \"6\": 15, \"15\": 8}, \"9\": {\"9\": 235, \"13\": 5}}, \"ORACLE.run2_20\": {\"5\": {\"2\": 9, \"5\": 217, \"1\": 5, \"15\": 5, \"0\": 1, \"4\": 1, \"3\": 2}, \"15\": {\"15\": 234, \"2\": 2, \"3\": 1, \"9\": 2, \"5\": 1}, \"9\": {\"9\": 210, \"2\": 27, \"3\": 3}, \"7\": {\"7\": 236, \"3\": 4}, \"3\": {\"3\": 195, \"2\": 23, \"9\": 15, \"7\": 6, \"4\": 1}, \"8\": {\"8\": 236, \"14\": 4}, \"4\": {\"4\": 240}, \"6\": {\"6\": 239, \"7\": 1}, \"2\": {\"2\": 204, \"9\": 20, \"3\": 15, \"5\": 1}, \"12\": {\"12\": 240}, \"0\": {\"0\": 240}, \"13\": {\"13\": 238, \"12\": 2}, \"10\": {\"10\": 240}, \"11\": {\"11\": 240}, \"14\": {\"14\": 227, \"8\": 13}, \"1\": {\"1\": 238, \"2\": 1, \"5\": 1}}, \"ORACLE.run2_50\": {\"1\": {\"1\": 240}, \"2\": {\"2\": 240}, \"8\": {\"8\": 240}, \"7\": {\"7\": 234, \"5\": 3, \"4\": 2, \"6\": 1}, \"14\": {\"14\": 240}, \"6\": {\"6\": 237, \"5\": 2, \"4\": 1}, \"3\": {\"3\": 240}, \"4\": {\"4\": 199, \"5\": 40, \"6\": 1}, \"12\": {\"12\": 238, \"11\": 2}, \"15\": {\"15\": 239, \"4\": 1}, \"11\": {\"11\": 234, \"12\": 6}, \"0\": {\"0\": 240}, \"9\": {\"9\": 240}, \"10\": {\"10\": 240}, \"5\": {\"5\": 186, \"6\": 5, \"4\": 47, \"7\": 2}, \"13\": {\"13\": 240}}, \"ORACLE.run2_32\": {\"2\": {\"2\": 237, \"7\": 2, \"14\": 1}, \"6\": {\"6\": 240}, \"5\": {\"5\": 228, \"2\": 8, \"14\": 3, \"7\": 1}, \"12\": {\"12\": 240}, \"13\": {\"13\": 226, \"11\": 8, \"3\": 3, \"4\": 3}, \"9\": {\"9\": 240}, \"11\": {\"11\": 198, \"13\": 23, \"4\": 14, \"0\": 5}, \"1\": {\"1\": 240}, \"3\": {\"3\": 239, \"11\": 1}, \"7\": {\"7\": 233, \"0\": 2, \"2\": 4, \"14\": 1}, \"14\": {\"14\": 238, \"2\": 2}, \"8\": {\"8\": 225, \"0\": 15}, \"4\": {\"4\": 236, \"13\": 3, \"11\": 1}, \"0\": {\"0\": 222, \"8\": 14, \"14\": 3, \"7\": 1}, \"10\": {\"10\": 240}, \"15\": {\"15\": 240}}, \"ORACLE.run2_44\": {\"13\": {\"13\": 235, \"4\": 5}, \"4\": {\"4\": 227, \"14\": 13}, \"6\": {\"6\": 228, \"9\": 8, \"13\": 4}, \"0\": {\"0\": 196, \"8\": 44}, \"10\": {\"10\": 238, \"7\": 2}, \"7\": {\"7\": 202, \"6\": 1, \"9\": 37}, \"14\": {\"14\": 228, \"4\": 12}, \"15\": {\"15\": 234, \"4\": 1, \"8\": 4, \"5\": 1}, \"5\": {\"8\": 2, \"5\": 230, \"15\": 3, \"14\": 5}, \"2\": {\"2\": 240}, \"9\": {\"9\": 188, \"7\": 49, \"6\": 3}, \"12\": {\"12\": 227, \"3\": 13}, \"8\": {\"8\": 218, \"0\": 21, \"15\": 1}, \"3\": {\"3\": 237, \"12\": 3}, \"1\": {\"1\": 240}, \"11\": {\"11\": 240}}, \"ORACLE.run2_14\": {\"1\": {\"1\": 240}, \"15\": {\"15\": 240}, \"10\": {\"10\": 240}, \"2\": {\"2\": 134, \"5\": 44, \"13\": 1, \"14\": 53, \"3\": 7, \"6\": 1}, \"9\": {\"9\": 240}, \"5\": {\"5\": 231, \"2\": 9}, \"7\": {\"7\": 240}, \"13\": {\"13\": 224, \"6\": 16}, \"8\": {\"8\": 240}, \"6\": {\"6\": 210, \"13\": 30}, \"3\": {\"3\": 240}, \"12\": {\"9\": 71, \"12\": 136, \"0\": 18, \"11\": 10, \"10\": 3, \"3\": 2}, \"0\": {\"0\": 240}, \"4\": {\"4\": 240}, \"14\": {\"2\": 51, \"14\": 183, \"13\": 4, \"6\": 1, \"5\": 1}, \"11\": {\"11\": 240}}}, \"per_domain_accuracy\": {\"ORACLE.run1_8\": {\"accuracy\": 0.96328125, \"source?\": true}, \"ORACLE.run1_38\": {\"accuracy\": 0.9619791666666667, \"source?\": true}, \"ORACLE.run1_26\": {\"accuracy\": 0.93515625, \"source?\": true}, \"ORACLE.run1_20\": {\"accuracy\": 0.984375, \"source?\": true}, \"ORACLE.run1_50\": {\"accuracy\": 0.9768229166666667, \"source?\": true}, \"ORACLE.run1_32\": {\"accuracy\": 0.9666666666666667, \"source?\": true}, \"ORACLE.run1_44\": {\"accuracy\": 0.91015625, \"source?\": true}, \"ORACLE.run1_14\": {\"accuracy\": 0.9567708333333333, \"source?\": true}, \"ORACLE.run2_8\": {\"accuracy\": 0.9653645833333333, \"source?\": false}, \"ORACLE.run2_38\": {\"accuracy\": 0.8911458333333333, \"source?\": false}, \"ORACLE.run2_26\": {\"accuracy\": 0.8950520833333333, \"source?\": false}, \"ORACLE.run2_20\": {\"accuracy\": 0.9567708333333333, \"source?\": false}, \"ORACLE.run2_50\": {\"accuracy\": 0.9705729166666667, \"source?\": false}, \"ORACLE.run2_32\": {\"accuracy\": 0.9692708333333333, \"source?\": false}, \"ORACLE.run2_44\": {\"accuracy\": 0.9395833333333333, \"source?\": false}, \"ORACLE.run2_14\": {\"accuracy\": 0.9161458333333333, \"source?\": false}}}, \"history\": {\"epoch_indices\": [1, 2, 3, 4, 5, 6, 7, 8, 9, 10, 11, 12, 13, 14, 15, 16, 17, 18, 19, 20, 21, 22], \"train_label_loss\": [0.4028333060726124, 2.97557304271807, 0.22799113387702077, 0.23504186563236762, 0.19084073767922485, 0.16816628726858956, 0.15375128232917631, 0.16239525231264582, 0.13663006839224615, 0.1256262419739436, 0.11902064333865253, 0.11548720133292331, 0.10966241905213489, 0.10444965278128664, 0.09911639577718839, 0.09426810212232037, 0.09114534119375353, 0.08691148741703987, 0.0830949658662922, 0.07875537196159713, 0.0779310494981993, 0.07394364770718226], \"source_val_label_loss\": [122.85566711425781, 0.27470993995666504, 0.23439116775989532, 0.19091764092445374, 0.21689051389694214, 0.18733248114585876, 0.17133311927318573, 0.15231110155582428, 0.14378108084201813, 0.1457800269126892, 0.13131137192249298, 0.13404496014118195, 0.12500619888305664, 0.12697915732860565, 0.12380363792181015, 0.12351780384778976, 0.14083346724510193, 0.1267613172531128, 0.14034706354141235, 0.11477299779653549, 0.12396097183227539, 0.11945166438817978], \"target_val_label_loss\": [121.9854736328125, 0.3394760489463806, 0.3023497462272644, 0.28184524178504944, 0.31329071521759033, 0.294772207736969, 0.2958691120147705, 0.2739342451095581, 0.27205735445022583, 0.2843852937221527, 0.2570238709449768, 0.26536938548088074, 0.28423526883125305, 0.2730727195739746, 0.2555961608886719, 0.27637988328933716, 0.2657584249973297, 0.26403915882110596, 0.2881505787372589, 0.26956647634506226, 0.27949684858322144, 0.2868897616863251], \"source_val_acc_label\": [0.666796875, 0.905078125, 0.9220377604166666, 0.93486328125, 0.9223958333333333, 0.9323567708333333, 0.9436197916666667, 0.9477864583333333, 0.9514322916666667, 0.94892578125, 0.9540690104166667, 0.95439453125, 0.9572591145833333, 0.9556640625, 0.95771484375, 0.9584309895833333, 0.9516276041666667, 0.9569010416666667, 0.9518229166666666, 0.9612630208333334, 0.9592447916666667, 0.9618815104166667], \"target_val_acc_label\": [0.6805989583333333, 0.900390625, 0.9159830729166667, 0.9275390625, 0.9077473958333333, 0.9180013020833333, 0.9299153645833333, 0.9292643229166667, 0.9346354166666667, 0.9294596354166667, 0.9351888020833333, 0.9328450520833333, 0.9319661458333334, 0.9346028645833333, 0.93681640625, 0.9345052083333333, 0.9326497395833333, 0.93798828125, 0.9276041666666667, 0.9341145833333333, 0.9334635416666667, 0.93505859375]}, \"dataset_metrics\": {\"source\": {\"train\": {\"n_unique_x\": 179200, \"n_unique_y\": 16, \"n_batch/episode\": 6720}, \"val\": {\"n_unique_x\": 38400, \"n_unique_y\": 16, \"n_batch/episode\": 960}, \"test\": {\"n_unique_x\": 38400, \"n_unique_y\": 16, \"n_batch/episode\": 960}}, \"target\": {\"train\": {\"n_unique_x\": 179200, \"n_unique_y\": 16, \"n_batch/episode\": 6720}, \"val\": {\"n_unique_x\": 38400, \"n_unique_y\": 16, \"n_batch/episode\": 960}, \"test\": {\"n_unique_x\": 38400, \"n_unique_y\": 16, \"n_batch/episode\": 960}}}}'"
      ]
     },
     "execution_count": 29,
     "metadata": {},
     "output_type": "execute_result"
    }
   ],
   "source": [
    "json.dumps(experiment)"
   ]
  }
 ],
 "metadata": {
  "celltoolbar": "Tags",
  "kernelspec": {
   "display_name": "Python 3 (ipykernel)",
   "language": "python",
   "name": "python3"
  },
  "language_info": {
   "codemirror_mode": {
    "name": "ipython",
    "version": 3
   },
   "file_extension": ".py",
   "mimetype": "text/x-python",
   "name": "python",
   "nbconvert_exporter": "python",
   "pygments_lexer": "ipython3",
   "version": "3.8.12"
  },
  "papermill": {
   "default_parameters": {},
   "duration": 5765.3162,
   "end_time": "2022-03-21T19:55:57.743632",
   "environment_variables": {},
   "exception": null,
   "input_path": "/root/csc500-main/csc500-notebooks/templates/tl_ptn_template.ipynb",
   "output_path": "trial.ipynb",
   "parameters": {
    "parameters": {
     "BEST_MODEL_PATH": "./best_model.pth",
     "NUM_LOGS_PER_EPOCH": 10,
     "criteria_for_best": "target_accuracy",
     "dataset_seed": 154325,
     "datasets": [
      {
       "domain_prefix": "ORACLE.run1_",
       "domains": [
        32,
        38,
        8,
        44,
        14,
        50,
        20,
        26
       ],
       "episode_transforms": [],
       "labels": [
        "3123D52",
        "3123D65",
        "3123D79",
        "3123D80",
        "3123D54",
        "3123D70",
        "3123D7B",
        "3123D89",
        "3123D58",
        "3123D76",
        "3123D7D",
        "3123EFE",
        "3123D64",
        "3123D78",
        "3123D7E",
        "3124E4A"
       ],
       "num_examples_per_domain_per_label": 2000,
       "pickle_path": "/root/csc500-main/datasets/oracle.Run1_framed_2000Examples_stratified_ds.2022A.pkl",
       "source_or_target_dataset": "source",
       "x_transforms": []
      },
      {
       "domain_prefix": "ORACLE.run2_",
       "domains": [
        32,
        38,
        8,
        44,
        14,
        50,
        20,
        26
       ],
       "episode_transforms": [],
       "labels": [
        "3123D52",
        "3123D65",
        "3123D79",
        "3123D80",
        "3123D54",
        "3123D70",
        "3123D7B",
        "3123D89",
        "3123D58",
        "3123D76",
        "3123D7D",
        "3123EFE",
        "3123D64",
        "3123D78",
        "3123D7E",
        "3124E4A"
       ],
       "num_examples_per_domain_per_label": 2000,
       "pickle_path": "/root/csc500-main/datasets/oracle.Run2_framed_2000Examples_stratified_ds.2022A.pkl",
       "source_or_target_dataset": "target",
       "x_transforms": []
      }
     ],
     "device": "cuda",
     "experiment_name": "tl_1v2:oracle.run1.framed-oracle.run2.framed",
     "lr": 0.0001,
     "n_epoch": 50,
     "n_query": 2,
     "n_shot": 3,
     "n_way": 16,
     "patience": 3,
     "seed": 154325,
     "test_k_factor": 2,
     "torch_default_dtype": "torch.float32",
     "train_k_factor": 3,
     "val_k_factor": 2,
     "x_net": [
      {
       "class": "nnReshape",
       "kargs": {
        "shape": [
         -1,
         1,
         2,
         256
        ]
       }
      },
      {
       "class": "Conv2d",
       "kargs": {
        "bias": false,
        "in_channels": 1,
        "kernel_size": [
         1,
         7
        ],
        "out_channels": 256,
        "padding": [
         0,
         3
        ]
       }
      },
      {
       "class": "ReLU",
       "kargs": {
        "inplace": true
       }
      },
      {
       "class": "BatchNorm2d",
       "kargs": {
        "num_features": 256
       }
      },
      {
       "class": "Conv2d",
       "kargs": {
        "bias": true,
        "in_channels": 256,
        "kernel_size": [
         2,
         7
        ],
        "out_channels": 80,
        "padding": [
         0,
         3
        ]
       }
      },
      {
       "class": "ReLU",
       "kargs": {
        "inplace": true
       }
      },
      {
       "class": "BatchNorm2d",
       "kargs": {
        "num_features": 80
       }
      },
      {
       "class": "Flatten",
       "kargs": {}
      },
      {
       "class": "Linear",
       "kargs": {
        "in_features": 20480,
        "out_features": 256
       }
      },
      {
       "class": "ReLU",
       "kargs": {
        "inplace": true
       }
      },
      {
       "class": "BatchNorm1d",
       "kargs": {
        "num_features": 256
       }
      },
      {
       "class": "Linear",
       "kargs": {
        "in_features": 256,
        "out_features": 256
       }
      }
     ]
    }
   },
   "start_time": "2022-03-21T18:19:52.427432",
   "version": "2.3.4"
  }
 },
 "nbformat": 4,
 "nbformat_minor": 5
}