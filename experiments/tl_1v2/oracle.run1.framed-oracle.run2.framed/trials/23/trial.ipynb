{
 "cells": [
  {
   "cell_type": "markdown",
   "id": "9fea5f46",
   "metadata": {
    "papermill": {
     "duration": 0.033192,
     "end_time": "2022-03-22T04:11:20.656579",
     "exception": false,
     "start_time": "2022-03-22T04:11:20.623387",
     "status": "completed"
    },
    "tags": []
   },
   "source": [
    "# Transfer Learning Template"
   ]
  },
  {
   "cell_type": "code",
   "execution_count": 1,
   "id": "0902182a",
   "metadata": {
    "execution": {
     "iopub.execute_input": "2022-03-22T04:11:20.718682Z",
     "iopub.status.busy": "2022-03-22T04:11:20.717831Z",
     "iopub.status.idle": "2022-03-22T04:11:23.259073Z",
     "shell.execute_reply": "2022-03-22T04:11:23.259754Z"
    },
    "papermill": {
     "duration": 2.579442,
     "end_time": "2022-03-22T04:11:23.260102",
     "exception": false,
     "start_time": "2022-03-22T04:11:20.680660",
     "status": "completed"
    },
    "tags": []
   },
   "outputs": [],
   "source": [
    "%load_ext autoreload\n",
    "%autoreload 2\n",
    "%matplotlib inline\n",
    "\n",
    "    \n",
    "import os, json, sys, time, random\n",
    "import numpy as np\n",
    "import torch\n",
    "from torch.optim import Adam\n",
    "from  easydict import EasyDict\n",
    "import matplotlib.pyplot as plt\n",
    "\n",
    "from steves_models.steves_ptn import Steves_Prototypical_Network\n",
    "\n",
    "from steves_utils.lazy_iterable_wrapper import Lazy_Iterable_Wrapper\n",
    "from steves_utils.iterable_aggregator import Iterable_Aggregator\n",
    "from steves_utils.ptn_train_eval_test_jig import  PTN_Train_Eval_Test_Jig\n",
    "from steves_utils.torch_sequential_builder import build_sequential\n",
    "from steves_utils.torch_utils import get_dataset_metrics, ptn_confusion_by_domain_over_dataloader\n",
    "from steves_utils.utils_v2 import (per_domain_accuracy_from_confusion, get_datasets_base_path)\n",
    "from steves_utils.PTN.utils import independent_accuracy_assesment\n",
    "\n",
    "from torch.utils.data import DataLoader\n",
    "\n",
    "from steves_utils.stratified_dataset.episodic_accessor import Episodic_Accessor_Factory\n",
    "\n",
    "from steves_utils.ptn_do_report import (\n",
    "    get_loss_curve,\n",
    "    get_results_table,\n",
    "    get_parameters_table,\n",
    "    get_domain_accuracies,\n",
    ")\n",
    "\n",
    "from steves_utils.transforms import get_chained_transform"
   ]
  },
  {
   "cell_type": "markdown",
   "id": "41c840b4",
   "metadata": {
    "papermill": {
     "duration": 0.019399,
     "end_time": "2022-03-22T04:11:23.303726",
     "exception": false,
     "start_time": "2022-03-22T04:11:23.284327",
     "status": "completed"
    },
    "tags": []
   },
   "source": [
    "# Allowed Parameters\n",
    "These are allowed parameters, not defaults\n",
    "Each of these values need to be present in the injected parameters (the notebook will raise an exception if they are not present)\n",
    "\n",
    "Papermill uses the cell tag \"parameters\" to inject the real parameters below this cell.\n",
    "Enable tags to see what I mean"
   ]
  },
  {
   "cell_type": "code",
   "execution_count": 2,
   "id": "fd44eb83",
   "metadata": {
    "execution": {
     "iopub.execute_input": "2022-03-22T04:11:23.348070Z",
     "iopub.status.busy": "2022-03-22T04:11:23.347559Z",
     "iopub.status.idle": "2022-03-22T04:11:23.369274Z",
     "shell.execute_reply": "2022-03-22T04:11:23.368456Z"
    },
    "papermill": {
     "duration": 0.046397,
     "end_time": "2022-03-22T04:11:23.369444",
     "exception": false,
     "start_time": "2022-03-22T04:11:23.323047",
     "status": "completed"
    },
    "tags": []
   },
   "outputs": [],
   "source": [
    "required_parameters = {\n",
    "    \"experiment_name\",\n",
    "    \"lr\",\n",
    "    \"device\",\n",
    "    \"seed\",\n",
    "    \"dataset_seed\",\n",
    "    \"n_shot\",\n",
    "    \"n_query\",\n",
    "    \"n_way\",\n",
    "    \"train_k_factor\",\n",
    "    \"val_k_factor\",\n",
    "    \"test_k_factor\",\n",
    "    \"n_epoch\",\n",
    "    \"patience\",\n",
    "    \"criteria_for_best\",\n",
    "    \"x_net\",\n",
    "    \"datasets\",\n",
    "    \"torch_default_dtype\",\n",
    "    \"NUM_LOGS_PER_EPOCH\",\n",
    "    \"BEST_MODEL_PATH\",\n",
    "    \"x_shape\",\n",
    "}"
   ]
  },
  {
   "cell_type": "code",
   "execution_count": 3,
   "id": "fa3f0049",
   "metadata": {
    "execution": {
     "iopub.execute_input": "2022-03-22T04:11:23.428589Z",
     "iopub.status.busy": "2022-03-22T04:11:23.417560Z",
     "iopub.status.idle": "2022-03-22T04:11:23.447990Z",
     "shell.execute_reply": "2022-03-22T04:11:23.447140Z"
    },
    "papermill": {
     "duration": 0.053123,
     "end_time": "2022-03-22T04:11:23.448164",
     "exception": false,
     "start_time": "2022-03-22T04:11:23.395041",
     "status": "completed"
    },
    "tags": [
     "parameters"
    ]
   },
   "outputs": [],
   "source": [
    "from steves_utils.CORES.utils import (\n",
    "    ALL_NODES,\n",
    "    ALL_NODES_MINIMUM_1000_EXAMPLES,\n",
    "    ALL_DAYS\n",
    ")\n",
    "\n",
    "from steves_utils.ORACLE.utils_v2 import (\n",
    "    ALL_DISTANCES_FEET_NARROWED,\n",
    "    ALL_RUNS,\n",
    "    ALL_SERIAL_NUMBERS,\n",
    ")\n",
    "\n",
    "standalone_parameters = {}\n",
    "standalone_parameters[\"experiment_name\"] = \"STANDALONE PTN\"\n",
    "standalone_parameters[\"lr\"] = 0.001\n",
    "standalone_parameters[\"device\"] = \"cuda\"\n",
    "\n",
    "standalone_parameters[\"seed\"] = 1337\n",
    "standalone_parameters[\"dataset_seed\"] = 1337\n",
    "\n",
    "standalone_parameters[\"n_way\"] = 8\n",
    "standalone_parameters[\"n_shot\"] = 3\n",
    "standalone_parameters[\"n_query\"]  = 2\n",
    "standalone_parameters[\"train_k_factor\"] = 1\n",
    "standalone_parameters[\"val_k_factor\"] = 2\n",
    "standalone_parameters[\"test_k_factor\"] = 2\n",
    "\n",
    "\n",
    "standalone_parameters[\"n_epoch\"] = 50\n",
    "\n",
    "standalone_parameters[\"patience\"] = 10\n",
    "standalone_parameters[\"criteria_for_best\"] = \"source_loss\"\n",
    "\n",
    "standalone_parameters[\"datasets\"] = [\n",
    "    {\n",
    "        \"labels\": ALL_SERIAL_NUMBERS,\n",
    "        \"domains\": ALL_DISTANCES_FEET_NARROWED,\n",
    "        \"num_examples_per_domain_per_label\": 100,\n",
    "        \"pickle_path\": os.path.join(get_datasets_base_path(), \"oracle.Run1_framed_2000Examples_stratified_ds.2022A.pkl\"),\n",
    "        \"source_or_target_dataset\": \"source\",\n",
    "        \"x_transforms\": [\"unit_mag\", \"minus_two\"],\n",
    "        \"episode_transforms\": [],\n",
    "        \"domain_prefix\": \"ORACLE_\"\n",
    "    },\n",
    "    {\n",
    "        \"labels\": ALL_NODES,\n",
    "        \"domains\": ALL_DAYS,\n",
    "        \"num_examples_per_domain_per_label\": 100,\n",
    "        \"pickle_path\": os.path.join(get_datasets_base_path(), \"cores.stratified_ds.2022A.pkl\"),\n",
    "        \"source_or_target_dataset\": \"target\",\n",
    "        \"x_transforms\": [\"unit_power\", \"times_zero\"],\n",
    "        \"episode_transforms\": [],\n",
    "        \"domain_prefix\": \"CORES_\"\n",
    "    }   \n",
    "]\n",
    "\n",
    "standalone_parameters[\"torch_default_dtype\"] = \"torch.float32\" \n",
    "\n",
    "\n",
    "\n",
    "standalone_parameters[\"x_net\"] =     [\n",
    "    {\"class\": \"nnReshape\", \"kargs\": {\"shape\":[-1, 1, 2, 256]}},\n",
    "    {\"class\": \"Conv2d\", \"kargs\": { \"in_channels\":1, \"out_channels\":256, \"kernel_size\":(1,7), \"bias\":False, \"padding\":(0,3), },},\n",
    "    {\"class\": \"ReLU\", \"kargs\": {\"inplace\": True}},\n",
    "    {\"class\": \"BatchNorm2d\", \"kargs\": {\"num_features\":256}},\n",
    "\n",
    "    {\"class\": \"Conv2d\", \"kargs\": { \"in_channels\":256, \"out_channels\":80, \"kernel_size\":(2,7), \"bias\":True, \"padding\":(0,3), },},\n",
    "    {\"class\": \"ReLU\", \"kargs\": {\"inplace\": True}},\n",
    "    {\"class\": \"BatchNorm2d\", \"kargs\": {\"num_features\":80}},\n",
    "    {\"class\": \"Flatten\", \"kargs\": {}},\n",
    "\n",
    "    {\"class\": \"Linear\", \"kargs\": {\"in_features\": 80*256, \"out_features\": 256}}, # 80 units per IQ pair\n",
    "    {\"class\": \"ReLU\", \"kargs\": {\"inplace\": True}},\n",
    "    {\"class\": \"BatchNorm1d\", \"kargs\": {\"num_features\":256}},\n",
    "\n",
    "    {\"class\": \"Linear\", \"kargs\": {\"in_features\": 256, \"out_features\": 256}},\n",
    "]\n",
    "\n",
    "# Parameters relevant to results\n",
    "# These parameters will basically never need to change\n",
    "standalone_parameters[\"NUM_LOGS_PER_EPOCH\"] = 10\n",
    "standalone_parameters[\"BEST_MODEL_PATH\"] = \"./best_model.pth\"\n",
    "\n",
    "\n",
    "\n",
    "\n"
   ]
  },
  {
   "cell_type": "code",
   "execution_count": 4,
   "id": "dbbf7ae9",
   "metadata": {
    "execution": {
     "iopub.execute_input": "2022-03-22T04:11:23.507022Z",
     "iopub.status.busy": "2022-03-22T04:11:23.506298Z",
     "iopub.status.idle": "2022-03-22T04:11:23.525342Z",
     "shell.execute_reply": "2022-03-22T04:11:23.524590Z"
    },
    "papermill": {
     "duration": 0.053144,
     "end_time": "2022-03-22T04:11:23.525525",
     "exception": false,
     "start_time": "2022-03-22T04:11:23.472381",
     "status": "completed"
    },
    "tags": [
     "injected-parameters"
    ]
   },
   "outputs": [],
   "source": [
    "# Parameters\n",
    "parameters = {\n",
    "    \"experiment_name\": \"tl_1v2:oracle.run1.framed-oracle.run2.framed\",\n",
    "    \"device\": \"cuda\",\n",
    "    \"lr\": 0.0001,\n",
    "    \"n_shot\": 3,\n",
    "    \"n_query\": 2,\n",
    "    \"train_k_factor\": 3,\n",
    "    \"val_k_factor\": 2,\n",
    "    \"test_k_factor\": 2,\n",
    "    \"torch_default_dtype\": \"torch.float32\",\n",
    "    \"n_epoch\": 50,\n",
    "    \"patience\": 3,\n",
    "    \"criteria_for_best\": \"target_accuracy\",\n",
    "    \"x_net\": [\n",
    "        {\"class\": \"nnReshape\", \"kargs\": {\"shape\": [-1, 1, 2, 256]}},\n",
    "        {\n",
    "            \"class\": \"Conv2d\",\n",
    "            \"kargs\": {\n",
    "                \"in_channels\": 1,\n",
    "                \"out_channels\": 256,\n",
    "                \"kernel_size\": [1, 7],\n",
    "                \"bias\": False,\n",
    "                \"padding\": [0, 3],\n",
    "            },\n",
    "        },\n",
    "        {\"class\": \"ReLU\", \"kargs\": {\"inplace\": True}},\n",
    "        {\"class\": \"BatchNorm2d\", \"kargs\": {\"num_features\": 256}},\n",
    "        {\n",
    "            \"class\": \"Conv2d\",\n",
    "            \"kargs\": {\n",
    "                \"in_channels\": 256,\n",
    "                \"out_channels\": 80,\n",
    "                \"kernel_size\": [2, 7],\n",
    "                \"bias\": True,\n",
    "                \"padding\": [0, 3],\n",
    "            },\n",
    "        },\n",
    "        {\"class\": \"ReLU\", \"kargs\": {\"inplace\": True}},\n",
    "        {\"class\": \"BatchNorm2d\", \"kargs\": {\"num_features\": 80}},\n",
    "        {\"class\": \"Flatten\", \"kargs\": {}},\n",
    "        {\"class\": \"Linear\", \"kargs\": {\"in_features\": 20480, \"out_features\": 256}},\n",
    "        {\"class\": \"ReLU\", \"kargs\": {\"inplace\": True}},\n",
    "        {\"class\": \"BatchNorm1d\", \"kargs\": {\"num_features\": 256}},\n",
    "        {\"class\": \"Linear\", \"kargs\": {\"in_features\": 256, \"out_features\": 256}},\n",
    "    ],\n",
    "    \"NUM_LOGS_PER_EPOCH\": 10,\n",
    "    \"BEST_MODEL_PATH\": \"./best_model.pth\",\n",
    "    \"n_way\": 16,\n",
    "    \"datasets\": [\n",
    "        {\n",
    "            \"labels\": [\n",
    "                \"3123D52\",\n",
    "                \"3123D65\",\n",
    "                \"3123D79\",\n",
    "                \"3123D80\",\n",
    "                \"3123D54\",\n",
    "                \"3123D70\",\n",
    "                \"3123D7B\",\n",
    "                \"3123D89\",\n",
    "                \"3123D58\",\n",
    "                \"3123D76\",\n",
    "                \"3123D7D\",\n",
    "                \"3123EFE\",\n",
    "                \"3123D64\",\n",
    "                \"3123D78\",\n",
    "                \"3123D7E\",\n",
    "                \"3124E4A\",\n",
    "            ],\n",
    "            \"domains\": [32, 38, 8, 44, 14, 50, 20, 26],\n",
    "            \"num_examples_per_domain_per_label\": 2000,\n",
    "            \"pickle_path\": \"/root/csc500-main/datasets/oracle.Run1_framed_2000Examples_stratified_ds.2022A.pkl\",\n",
    "            \"source_or_target_dataset\": \"target\",\n",
    "            \"x_transforms\": [],\n",
    "            \"episode_transforms\": [],\n",
    "            \"domain_prefix\": \"ORACLE.run1_\",\n",
    "        },\n",
    "        {\n",
    "            \"labels\": [\n",
    "                \"3123D52\",\n",
    "                \"3123D65\",\n",
    "                \"3123D79\",\n",
    "                \"3123D80\",\n",
    "                \"3123D54\",\n",
    "                \"3123D70\",\n",
    "                \"3123D7B\",\n",
    "                \"3123D89\",\n",
    "                \"3123D58\",\n",
    "                \"3123D76\",\n",
    "                \"3123D7D\",\n",
    "                \"3123EFE\",\n",
    "                \"3123D64\",\n",
    "                \"3123D78\",\n",
    "                \"3123D7E\",\n",
    "                \"3124E4A\",\n",
    "            ],\n",
    "            \"domains\": [32, 38, 8, 44, 14, 50, 20, 26],\n",
    "            \"num_examples_per_domain_per_label\": 2000,\n",
    "            \"pickle_path\": \"/root/csc500-main/datasets/oracle.Run2_framed_2000Examples_stratified_ds.2022A.pkl\",\n",
    "            \"source_or_target_dataset\": \"source\",\n",
    "            \"x_transforms\": [],\n",
    "            \"episode_transforms\": [],\n",
    "            \"domain_prefix\": \"ORACLE.run2_\",\n",
    "        },\n",
    "    ],\n",
    "    \"dataset_seed\": 7,\n",
    "    \"seed\": 7,\n",
    "}\n"
   ]
  },
  {
   "cell_type": "code",
   "execution_count": 5,
   "id": "8fa1cc33",
   "metadata": {
    "execution": {
     "iopub.execute_input": "2022-03-22T04:11:23.577856Z",
     "iopub.status.busy": "2022-03-22T04:11:23.577335Z",
     "iopub.status.idle": "2022-03-22T04:11:23.596951Z",
     "shell.execute_reply": "2022-03-22T04:11:23.596175Z"
    },
    "papermill": {
     "duration": 0.046986,
     "end_time": "2022-03-22T04:11:23.597132",
     "exception": false,
     "start_time": "2022-03-22T04:11:23.550146",
     "status": "completed"
    },
    "tags": []
   },
   "outputs": [],
   "source": [
    "# Set this to True if you want to run this template directly\n",
    "STANDALONE = False\n",
    "if STANDALONE:\n",
    "    print(\"parameters not injected, running with standalone_parameters\")\n",
    "    parameters = standalone_parameters\n",
    "\n",
    "if not 'parameters' in locals() and not 'parameters' in globals():\n",
    "    raise Exception(\"Parameter injection failed\")\n",
    "\n",
    "#Use an easy dict for all the parameters\n",
    "p = EasyDict(parameters)\n",
    "\n",
    "if \"x_shape\" not in p:\n",
    "    p.x_shape = [2,256] # Default to this if we dont supply x_shape\n",
    "\n",
    "\n",
    "supplied_keys = set(p.keys())\n",
    "\n",
    "if  supplied_keys != required_parameters:\n",
    "    print(\"Parameters are incorrect\")\n",
    "    if len(supplied_keys - required_parameters)>0: print(\"Shouldn't have:\", str(supplied_keys - required_parameters))\n",
    "    if len(required_parameters - supplied_keys)>0: print(\"Need to have:\", str(required_parameters - supplied_keys))\n",
    "    raise RuntimeError(\"Parameters are incorrect\")"
   ]
  },
  {
   "cell_type": "code",
   "execution_count": 6,
   "id": "3a028d58",
   "metadata": {
    "execution": {
     "iopub.execute_input": "2022-03-22T04:11:23.656576Z",
     "iopub.status.busy": "2022-03-22T04:11:23.656006Z",
     "iopub.status.idle": "2022-03-22T04:11:23.674470Z",
     "shell.execute_reply": "2022-03-22T04:11:23.673763Z"
    },
    "papermill": {
     "duration": 0.05121,
     "end_time": "2022-03-22T04:11:23.674632",
     "exception": false,
     "start_time": "2022-03-22T04:11:23.623422",
     "status": "completed"
    },
    "tags": []
   },
   "outputs": [],
   "source": [
    "###################################\n",
    "# Set the RNGs and make it all deterministic\n",
    "###################################\n",
    "np.random.seed(p.seed)\n",
    "random.seed(p.seed)\n",
    "torch.manual_seed(p.seed)\n",
    "\n",
    "torch.use_deterministic_algorithms(True) "
   ]
  },
  {
   "cell_type": "code",
   "execution_count": 7,
   "id": "b691acf6",
   "metadata": {
    "execution": {
     "iopub.execute_input": "2022-03-22T04:11:23.725093Z",
     "iopub.status.busy": "2022-03-22T04:11:23.724731Z",
     "iopub.status.idle": "2022-03-22T04:11:23.745709Z",
     "shell.execute_reply": "2022-03-22T04:11:23.745005Z"
    },
    "papermill": {
     "duration": 0.044016,
     "end_time": "2022-03-22T04:11:23.745864",
     "exception": false,
     "start_time": "2022-03-22T04:11:23.701848",
     "status": "completed"
    },
    "tags": []
   },
   "outputs": [],
   "source": [
    "###########################################\n",
    "# The stratified datasets honor this\n",
    "###########################################\n",
    "torch.set_default_dtype(eval(p.torch_default_dtype))"
   ]
  },
  {
   "cell_type": "code",
   "execution_count": 8,
   "id": "b5fba671",
   "metadata": {
    "execution": {
     "iopub.execute_input": "2022-03-22T04:11:23.794201Z",
     "iopub.status.busy": "2022-03-22T04:11:23.793839Z",
     "iopub.status.idle": "2022-03-22T04:11:23.850976Z",
     "shell.execute_reply": "2022-03-22T04:11:23.850165Z"
    },
    "papermill": {
     "duration": 0.080378,
     "end_time": "2022-03-22T04:11:23.851132",
     "exception": false,
     "start_time": "2022-03-22T04:11:23.770754",
     "status": "completed"
    },
    "tags": []
   },
   "outputs": [],
   "source": [
    "###################################\n",
    "# Build the network(s)\n",
    "# Note: It's critical to do this AFTER setting the RNG\n",
    "###################################\n",
    "x_net = build_sequential(p.x_net)"
   ]
  },
  {
   "cell_type": "code",
   "execution_count": 9,
   "id": "5d7e61cc",
   "metadata": {
    "execution": {
     "iopub.execute_input": "2022-03-22T04:11:23.899507Z",
     "iopub.status.busy": "2022-03-22T04:11:23.899144Z",
     "iopub.status.idle": "2022-03-22T04:11:23.924109Z",
     "shell.execute_reply": "2022-03-22T04:11:23.923373Z"
    },
    "papermill": {
     "duration": 0.048126,
     "end_time": "2022-03-22T04:11:23.924263",
     "exception": false,
     "start_time": "2022-03-22T04:11:23.876137",
     "status": "completed"
    },
    "tags": []
   },
   "outputs": [],
   "source": [
    "start_time_secs = time.time()"
   ]
  },
  {
   "cell_type": "code",
   "execution_count": 10,
   "id": "c6b67dfd",
   "metadata": {
    "execution": {
     "iopub.execute_input": "2022-03-22T04:11:23.973627Z",
     "iopub.status.busy": "2022-03-22T04:11:23.973232Z",
     "iopub.status.idle": "2022-03-22T04:11:23.990879Z",
     "shell.execute_reply": "2022-03-22T04:11:23.990174Z"
    },
    "papermill": {
     "duration": 0.040344,
     "end_time": "2022-03-22T04:11:23.991035",
     "exception": false,
     "start_time": "2022-03-22T04:11:23.950691",
     "status": "completed"
    },
    "tags": []
   },
   "outputs": [],
   "source": [
    "p.domains_source = []\n",
    "p.domains_target = []\n",
    "\n",
    "\n",
    "train_original_source = []\n",
    "val_original_source   = []\n",
    "test_original_source  = []\n",
    "\n",
    "train_original_target = []\n",
    "val_original_target   = []\n",
    "test_original_target  = []"
   ]
  },
  {
   "cell_type": "code",
   "execution_count": 11,
   "id": "e3d9c3d3",
   "metadata": {
    "execution": {
     "iopub.execute_input": "2022-03-22T04:11:24.039311Z",
     "iopub.status.busy": "2022-03-22T04:11:24.038729Z",
     "iopub.status.idle": "2022-03-22T04:11:24.060966Z",
     "shell.execute_reply": "2022-03-22T04:11:24.060260Z"
    },
    "papermill": {
     "duration": 0.044935,
     "end_time": "2022-03-22T04:11:24.061120",
     "exception": false,
     "start_time": "2022-03-22T04:11:24.016185",
     "status": "completed"
    },
    "tags": []
   },
   "outputs": [],
   "source": [
    "# global_x_transform_func = lambda x: normalize(x.to(torch.get_default_dtype()), \"unit_power\") # unit_power, unit_mag\n",
    "# global_x_transform_func = lambda x: normalize(x, \"unit_power\") # unit_power, unit_mag"
   ]
  },
  {
   "cell_type": "code",
   "execution_count": 12,
   "id": "acb78fd2",
   "metadata": {
    "execution": {
     "iopub.execute_input": "2022-03-22T04:11:24.116883Z",
     "iopub.status.busy": "2022-03-22T04:11:24.116300Z",
     "iopub.status.idle": "2022-03-22T04:11:24.134012Z",
     "shell.execute_reply": "2022-03-22T04:11:24.133315Z"
    },
    "papermill": {
     "duration": 0.044976,
     "end_time": "2022-03-22T04:11:24.134165",
     "exception": false,
     "start_time": "2022-03-22T04:11:24.089189",
     "status": "completed"
    },
    "tags": []
   },
   "outputs": [],
   "source": [
    "def add_dataset(\n",
    "    labels,\n",
    "    domains,\n",
    "    pickle_path,\n",
    "    x_transforms,\n",
    "    episode_transforms,\n",
    "    domain_prefix,\n",
    "    num_examples_per_domain_per_label,\n",
    "    source_or_target_dataset:str,\n",
    "    iterator_seed=p.seed,\n",
    "    dataset_seed=p.dataset_seed,\n",
    "    n_shot=p.n_shot,\n",
    "    n_way=p.n_way,\n",
    "    n_query=p.n_query,\n",
    "    train_val_test_k_factors=(p.train_k_factor,p.val_k_factor,p.test_k_factor),\n",
    "):\n",
    "   \n",
    "    if x_transforms == []: x_transform = None\n",
    "    else: x_transform = get_chained_transform(x_transforms)\n",
    "    \n",
    "    if episode_transforms == []: episode_transform = None\n",
    "    else: raise Exception(\"episode_transforms not implemented\")\n",
    "    \n",
    "    episode_transform = lambda tup, _prefix=domain_prefix: (_prefix + str(tup[0]), tup[1])\n",
    "\n",
    "\n",
    "    eaf = Episodic_Accessor_Factory(\n",
    "        labels=labels,\n",
    "        domains=domains,\n",
    "        num_examples_per_domain_per_label=num_examples_per_domain_per_label,\n",
    "        iterator_seed=iterator_seed,\n",
    "        dataset_seed=dataset_seed,\n",
    "        n_shot=n_shot,\n",
    "        n_way=n_way,\n",
    "        n_query=n_query,\n",
    "        train_val_test_k_factors=train_val_test_k_factors,\n",
    "        pickle_path=pickle_path,\n",
    "        x_transform_func=x_transform,\n",
    "    )\n",
    "\n",
    "    train, val, test = eaf.get_train(), eaf.get_val(), eaf.get_test()\n",
    "    train = Lazy_Iterable_Wrapper(train, episode_transform)\n",
    "    val = Lazy_Iterable_Wrapper(val, episode_transform)\n",
    "    test = Lazy_Iterable_Wrapper(test, episode_transform)\n",
    "\n",
    "    if source_or_target_dataset==\"source\":\n",
    "        train_original_source.append(train)\n",
    "        val_original_source.append(val)\n",
    "        test_original_source.append(test)\n",
    "\n",
    "        p.domains_source.extend(\n",
    "            [domain_prefix + str(u) for u in domains]\n",
    "        )\n",
    "    elif source_or_target_dataset==\"target\":\n",
    "        train_original_target.append(train)\n",
    "        val_original_target.append(val)\n",
    "        test_original_target.append(test)\n",
    "        p.domains_target.extend(\n",
    "            [domain_prefix + str(u) for u in domains]\n",
    "        )\n",
    "    else:\n",
    "        raise Exception(f\"invalid source_or_target_dataset: {source_or_target_dataset}\")\n",
    "    "
   ]
  },
  {
   "cell_type": "code",
   "execution_count": 13,
   "id": "fe266617",
   "metadata": {
    "execution": {
     "iopub.execute_input": "2022-03-22T04:11:24.183343Z",
     "iopub.status.busy": "2022-03-22T04:11:24.182979Z",
     "iopub.status.idle": "2022-03-22T04:11:28.319825Z",
     "shell.execute_reply": "2022-03-22T04:11:28.319034Z"
    },
    "papermill": {
     "duration": 4.159932,
     "end_time": "2022-03-22T04:11:28.320009",
     "exception": false,
     "start_time": "2022-03-22T04:11:24.160077",
     "status": "completed"
    },
    "tags": []
   },
   "outputs": [],
   "source": [
    "for ds in p.datasets:\n",
    "    add_dataset(**ds)"
   ]
  },
  {
   "cell_type": "code",
   "execution_count": 14,
   "id": "b90d65ac",
   "metadata": {
    "execution": {
     "iopub.execute_input": "2022-03-22T04:11:28.369600Z",
     "iopub.status.busy": "2022-03-22T04:11:28.369033Z",
     "iopub.status.idle": "2022-03-22T04:11:28.393683Z",
     "shell.execute_reply": "2022-03-22T04:11:28.392876Z"
    },
    "papermill": {
     "duration": 0.0484,
     "end_time": "2022-03-22T04:11:28.393837",
     "exception": false,
     "start_time": "2022-03-22T04:11:28.345437",
     "status": "completed"
    },
    "tags": []
   },
   "outputs": [],
   "source": [
    "# from steves_utils.CORES.utils import (\n",
    "#     ALL_NODES,\n",
    "#     ALL_NODES_MINIMUM_1000_EXAMPLES,\n",
    "#     ALL_DAYS\n",
    "# )\n",
    "\n",
    "# add_dataset(\n",
    "#     labels=ALL_NODES,\n",
    "#     domains = ALL_DAYS,\n",
    "#     num_examples_per_domain_per_label=100,\n",
    "#     pickle_path=os.path.join(get_datasets_base_path(), \"cores.stratified_ds.2022A.pkl\"),\n",
    "#     source_or_target_dataset=\"target\",\n",
    "#     x_transform_func=global_x_transform_func,\n",
    "#     domain_modifier=lambda u: f\"cores_{u}\"\n",
    "# )"
   ]
  },
  {
   "cell_type": "code",
   "execution_count": 15,
   "id": "76db484d",
   "metadata": {
    "execution": {
     "iopub.execute_input": "2022-03-22T04:11:28.443139Z",
     "iopub.status.busy": "2022-03-22T04:11:28.442769Z",
     "iopub.status.idle": "2022-03-22T04:11:28.459730Z",
     "shell.execute_reply": "2022-03-22T04:11:28.459001Z"
    },
    "papermill": {
     "duration": 0.039829,
     "end_time": "2022-03-22T04:11:28.459885",
     "exception": false,
     "start_time": "2022-03-22T04:11:28.420056",
     "status": "completed"
    },
    "tags": []
   },
   "outputs": [],
   "source": [
    "# from steves_utils.ORACLE.utils_v2 import (\n",
    "#     ALL_DISTANCES_FEET,\n",
    "#     ALL_RUNS,\n",
    "#     ALL_SERIAL_NUMBERS,\n",
    "# )\n",
    "\n",
    "\n",
    "# add_dataset(\n",
    "#     labels=ALL_SERIAL_NUMBERS,\n",
    "#     domains = list(set(ALL_DISTANCES_FEET) - {2,62}),\n",
    "#     num_examples_per_domain_per_label=100,\n",
    "#     pickle_path=os.path.join(get_datasets_base_path(), \"oracle.Run2_framed_2000Examples_stratified_ds.2022A.pkl\"),\n",
    "#     source_or_target_dataset=\"source\",\n",
    "#     x_transform_func=global_x_transform_func,\n",
    "#     domain_modifier=lambda u: f\"oracle1_{u}\"\n",
    "# )\n"
   ]
  },
  {
   "cell_type": "code",
   "execution_count": 16,
   "id": "97dea9d2",
   "metadata": {
    "execution": {
     "iopub.execute_input": "2022-03-22T04:11:28.507855Z",
     "iopub.status.busy": "2022-03-22T04:11:28.507474Z",
     "iopub.status.idle": "2022-03-22T04:11:28.527220Z",
     "shell.execute_reply": "2022-03-22T04:11:28.526478Z"
    },
    "papermill": {
     "duration": 0.04254,
     "end_time": "2022-03-22T04:11:28.527375",
     "exception": false,
     "start_time": "2022-03-22T04:11:28.484835",
     "status": "completed"
    },
    "tags": []
   },
   "outputs": [],
   "source": [
    "# from steves_utils.ORACLE.utils_v2 import (\n",
    "#     ALL_DISTANCES_FEET,\n",
    "#     ALL_RUNS,\n",
    "#     ALL_SERIAL_NUMBERS,\n",
    "# )\n",
    "\n",
    "\n",
    "# add_dataset(\n",
    "#     labels=ALL_SERIAL_NUMBERS,\n",
    "#     domains = list(set(ALL_DISTANCES_FEET) - {2,62,56}),\n",
    "#     num_examples_per_domain_per_label=100,\n",
    "#     pickle_path=os.path.join(get_datasets_base_path(), \"oracle.Run2_framed_2000Examples_stratified_ds.2022A.pkl\"),\n",
    "#     source_or_target_dataset=\"source\",\n",
    "#     x_transform_func=global_x_transform_func,\n",
    "#     domain_modifier=lambda u: f\"oracle2_{u}\"\n",
    "# )"
   ]
  },
  {
   "cell_type": "code",
   "execution_count": 17,
   "id": "6f289866",
   "metadata": {
    "execution": {
     "iopub.execute_input": "2022-03-22T04:11:28.578970Z",
     "iopub.status.busy": "2022-03-22T04:11:28.578607Z",
     "iopub.status.idle": "2022-03-22T04:11:28.596040Z",
     "shell.execute_reply": "2022-03-22T04:11:28.595303Z"
    },
    "papermill": {
     "duration": 0.040507,
     "end_time": "2022-03-22T04:11:28.596195",
     "exception": false,
     "start_time": "2022-03-22T04:11:28.555688",
     "status": "completed"
    },
    "tags": []
   },
   "outputs": [],
   "source": [
    "# add_dataset(\n",
    "#     labels=list(range(19)),\n",
    "#     domains = [0,1,2],\n",
    "#     num_examples_per_domain_per_label=100,\n",
    "#     pickle_path=os.path.join(get_datasets_base_path(), \"metehan.stratified_ds.2022A.pkl\"),\n",
    "#     source_or_target_dataset=\"target\",\n",
    "#     x_transform_func=global_x_transform_func,\n",
    "#     domain_modifier=lambda u: f\"met_{u}\"\n",
    "# )"
   ]
  },
  {
   "cell_type": "code",
   "execution_count": 18,
   "id": "86a863c3",
   "metadata": {
    "execution": {
     "iopub.execute_input": "2022-03-22T04:11:28.647090Z",
     "iopub.status.busy": "2022-03-22T04:11:28.646723Z",
     "iopub.status.idle": "2022-03-22T04:11:28.663526Z",
     "shell.execute_reply": "2022-03-22T04:11:28.662827Z"
    },
    "papermill": {
     "duration": 0.040096,
     "end_time": "2022-03-22T04:11:28.663715",
     "exception": false,
     "start_time": "2022-03-22T04:11:28.623619",
     "status": "completed"
    },
    "tags": []
   },
   "outputs": [],
   "source": [
    "# # from steves_utils.wisig.utils import (\n",
    "# #     ALL_NODES_MINIMUM_100_EXAMPLES,\n",
    "# #     ALL_NODES_MINIMUM_500_EXAMPLES,\n",
    "# #     ALL_NODES_MINIMUM_1000_EXAMPLES,\n",
    "# #     ALL_DAYS\n",
    "# # )\n",
    "\n",
    "# import steves_utils.wisig.utils as wisig\n",
    "\n",
    "\n",
    "# add_dataset(\n",
    "#     labels=wisig.ALL_NODES_MINIMUM_100_EXAMPLES,\n",
    "#     domains = wisig.ALL_DAYS,\n",
    "#     num_examples_per_domain_per_label=100,\n",
    "#     pickle_path=os.path.join(get_datasets_base_path(), \"wisig.node3-19.stratified_ds.2022A.pkl\"),\n",
    "#     source_or_target_dataset=\"target\",\n",
    "#     x_transform_func=global_x_transform_func,\n",
    "#     domain_modifier=lambda u: f\"wisig_{u}\"\n",
    "# )"
   ]
  },
  {
   "cell_type": "code",
   "execution_count": 19,
   "id": "fd5442bc",
   "metadata": {
    "execution": {
     "iopub.execute_input": "2022-03-22T04:11:28.718717Z",
     "iopub.status.busy": "2022-03-22T04:11:28.718337Z",
     "iopub.status.idle": "2022-03-22T04:11:28.738469Z",
     "shell.execute_reply": "2022-03-22T04:11:28.737764Z"
    },
    "papermill": {
     "duration": 0.046861,
     "end_time": "2022-03-22T04:11:28.738624",
     "exception": false,
     "start_time": "2022-03-22T04:11:28.691763",
     "status": "completed"
    },
    "tags": []
   },
   "outputs": [],
   "source": [
    "###################################\n",
    "# Build the dataset\n",
    "###################################\n",
    "train_original_source = Iterable_Aggregator(train_original_source, p.seed)\n",
    "val_original_source = Iterable_Aggregator(val_original_source, p.seed)\n",
    "test_original_source = Iterable_Aggregator(test_original_source, p.seed)\n",
    "\n",
    "\n",
    "train_original_target = Iterable_Aggregator(train_original_target, p.seed)\n",
    "val_original_target = Iterable_Aggregator(val_original_target, p.seed)\n",
    "test_original_target = Iterable_Aggregator(test_original_target, p.seed)\n",
    "\n",
    "# For CNN We only use X and Y. And we only train on the source.\n",
    "# Properly form the data using a transform lambda and Lazy_Iterable_Wrapper. Finally wrap them in a dataloader\n",
    "\n",
    "transform_lambda = lambda ex: ex[1] # Original is (<domain>, <episode>) so we strip down to episode only\n",
    "\n",
    "train_processed_source = Lazy_Iterable_Wrapper(train_original_source, transform_lambda)\n",
    "val_processed_source   = Lazy_Iterable_Wrapper(val_original_source, transform_lambda)\n",
    "test_processed_source  = Lazy_Iterable_Wrapper(test_original_source, transform_lambda)\n",
    "\n",
    "train_processed_target = Lazy_Iterable_Wrapper(train_original_target, transform_lambda)\n",
    "val_processed_target   = Lazy_Iterable_Wrapper(val_original_target, transform_lambda)\n",
    "test_processed_target  = Lazy_Iterable_Wrapper(test_original_target, transform_lambda)\n",
    "\n",
    "datasets = EasyDict({\n",
    "    \"source\": {\n",
    "        \"original\": {\"train\":train_original_source, \"val\":val_original_source, \"test\":test_original_source},\n",
    "        \"processed\": {\"train\":train_processed_source, \"val\":val_processed_source, \"test\":test_processed_source}\n",
    "    },\n",
    "    \"target\": {\n",
    "        \"original\": {\"train\":train_original_target, \"val\":val_original_target, \"test\":test_original_target},\n",
    "        \"processed\": {\"train\":train_processed_target, \"val\":val_processed_target, \"test\":test_processed_target}\n",
    "    },\n",
    "})"
   ]
  },
  {
   "cell_type": "code",
   "execution_count": 20,
   "id": "5b3c01fc",
   "metadata": {
    "execution": {
     "iopub.execute_input": "2022-03-22T04:11:28.789778Z",
     "iopub.status.busy": "2022-03-22T04:11:28.789215Z",
     "iopub.status.idle": "2022-03-22T04:11:44.108619Z",
     "shell.execute_reply": "2022-03-22T04:11:44.109368Z"
    },
    "papermill": {
     "duration": 15.344907,
     "end_time": "2022-03-22T04:11:44.109610",
     "exception": false,
     "start_time": "2022-03-22T04:11:28.764703",
     "status": "completed"
    },
    "tags": []
   },
   "outputs": [
    {
     "name": "stdout",
     "output_type": "stream",
     "text": [
      "{'ORACLE.run2_20', 'ORACLE.run2_44', 'ORACLE.run2_8', 'ORACLE.run2_50', 'ORACLE.run2_38', 'ORACLE.run2_14', 'ORACLE.run2_26', 'ORACLE.run2_32'}\n"
     ]
    },
    {
     "name": "stdout",
     "output_type": "stream",
     "text": [
      "{'ORACLE.run1_38', 'ORACLE.run1_50', 'ORACLE.run1_44', 'ORACLE.run1_26', 'ORACLE.run1_14', 'ORACLE.run1_20', 'ORACLE.run1_32', 'ORACLE.run1_8'}\n"
     ]
    },
    {
     "name": "stdout",
     "output_type": "stream",
     "text": [
      "tensor([[[ 3.2044e-03,  1.5564e-03, -3.9674e-03,  ..., -9.4607e-04,\n",
      "           4.3336e-03, -1.8921e-03],\n",
      "         [-1.8311e-04,  2.6246e-03, -2.4415e-04,  ..., -3.3265e-03,\n",
      "          -3.2655e-03, -3.7233e-03]],\n",
      "\n",
      "        [[-1.4039e-03,  1.9532e-03,  1.9532e-03,  ..., -3.2350e-03,\n",
      "          -4.5473e-03, -1.9532e-03],\n",
      "         [-3.0519e-03, -2.5636e-03,  3.6927e-03,  ...,  1.8311e-03,\n",
      "          -1.6175e-03,  4.4252e-03]],\n",
      "\n",
      "        [[-1.7701e-03, -2.5636e-03,  1.0071e-03,  ...,  3.6927e-03,\n",
      "           3.3876e-03,  3.8759e-03],\n",
      "         [ 3.9674e-03, -2.4415e-04, -4.5473e-03,  ...,  1.2818e-03,\n",
      "           3.0519e-03, -3.1739e-03]],\n",
      "\n",
      "        ...,\n",
      "\n",
      "        [[-4.8524e-03, -3.3570e-04,  4.6999e-03,  ...,  0.0000e+00,\n",
      "          -5.1881e-04,  4.7609e-03],\n",
      "         [ 5.1881e-04, -2.7161e-03, -1.0376e-03,  ...,  3.7843e-03,\n",
      "           3.8453e-03,  3.6622e-04]],\n",
      "\n",
      "        [[ 2.1363e-03, -9.1556e-04, -2.2889e-03,  ...,  9.1556e-05,\n",
      "           4.9440e-03,  3.6012e-03],\n",
      "         [ 5.4933e-04,  4.1810e-03, -1.9227e-03,  ..., -4.1200e-03,\n",
      "           1.5564e-03, -9.1556e-04]],\n",
      "\n",
      "        [[-2.4110e-03, -3.7843e-03,  3.6012e-03,  ...,  3.4486e-03,\n",
      "          -2.4110e-03,  2.7161e-03],\n",
      "         [ 1.1597e-03, -1.6785e-03, -2.2584e-03,  ...,  1.6785e-03,\n",
      "           4.5778e-03,  2.8382e-03]]])\n"
     ]
    }
   ],
   "source": [
    "from steves_utils.transforms import get_average_magnitude, get_average_power\n",
    "\n",
    "print(set([u for u,_ in val_original_source]))\n",
    "print(set([u for u,_ in val_original_target]))\n",
    "\n",
    "s_x, s_y, q_x, q_y, _ = next(iter(train_processed_source))\n",
    "print(s_x)\n",
    "\n",
    "# for ds in [\n",
    "#     train_processed_source,\n",
    "#     val_processed_source,\n",
    "#     test_processed_source,\n",
    "#     train_processed_target,\n",
    "#     val_processed_target,\n",
    "#     test_processed_target\n",
    "# ]:\n",
    "#     for s_x, s_y, q_x, q_y, _ in ds:\n",
    "#         for X in (s_x, q_x):\n",
    "#             for x in X:\n",
    "#                 assert np.isclose(get_average_magnitude(x.numpy()), 1.0)\n",
    "#                 assert np.isclose(get_average_power(x.numpy()), 1.0)\n",
    "                "
   ]
  },
  {
   "cell_type": "code",
   "execution_count": 21,
   "id": "bbdacba1",
   "metadata": {
    "execution": {
     "iopub.execute_input": "2022-03-22T04:11:44.167330Z",
     "iopub.status.busy": "2022-03-22T04:11:44.166663Z",
     "iopub.status.idle": "2022-03-22T04:11:44.387489Z",
     "shell.execute_reply": "2022-03-22T04:11:44.388423Z"
    },
    "papermill": {
     "duration": 0.251737,
     "end_time": "2022-03-22T04:11:44.388676",
     "exception": false,
     "start_time": "2022-03-22T04:11:44.136939",
     "status": "completed"
    },
    "tags": []
   },
   "outputs": [
    {
     "name": "stdout",
     "output_type": "stream",
     "text": [
      "(2, 256)\n"
     ]
    }
   ],
   "source": [
    "###################################\n",
    "# Build the model\n",
    "###################################\n",
    "# easfsl only wants a tuple for the shape\n",
    "model = Steves_Prototypical_Network(x_net, device=p.device, x_shape=tuple(p.x_shape))\n",
    "optimizer = Adam(params=model.parameters(), lr=p.lr)"
   ]
  },
  {
   "cell_type": "code",
   "execution_count": 22,
   "id": "22b39ac5",
   "metadata": {
    "execution": {
     "iopub.execute_input": "2022-03-22T04:11:44.485757Z",
     "iopub.status.busy": "2022-03-22T04:11:44.485355Z",
     "iopub.status.idle": "2022-03-22T05:14:11.524944Z",
     "shell.execute_reply": "2022-03-22T05:14:11.522877Z"
    },
    "papermill": {
     "duration": 3747.071353,
     "end_time": "2022-03-22T05:14:11.526112",
     "exception": false,
     "start_time": "2022-03-22T04:11:44.454759",
     "status": "completed"
    },
    "tags": []
   },
   "outputs": [
    {
     "name": "stdout",
     "output_type": "stream",
     "text": [
      "epoch: 1, [batch: 1 / 6720], examples_per_second: 34.2536, train_label_loss: 2.6963, \n"
     ]
    },
    {
     "name": "stdout",
     "output_type": "stream",
     "text": [
      "epoch: 1, [batch: 672 / 6720], examples_per_second: 2831.5104, train_label_loss: 0.7426, \n"
     ]
    },
    {
     "name": "stdout",
     "output_type": "stream",
     "text": [
      "epoch: 1, [batch: 1344 / 6720], examples_per_second: 2937.3395, train_label_loss: 0.5124, \n"
     ]
    },
    {
     "name": "stdout",
     "output_type": "stream",
     "text": [
      "epoch: 1, [batch: 2016 / 6720], examples_per_second: 3029.7548, train_label_loss: 0.1585, \n"
     ]
    },
    {
     "name": "stdout",
     "output_type": "stream",
     "text": [
      "epoch: 1, [batch: 2688 / 6720], examples_per_second: 2655.4055, train_label_loss: 0.1234, \n"
     ]
    },
    {
     "name": "stdout",
     "output_type": "stream",
     "text": [
      "epoch: 1, [batch: 3360 / 6720], examples_per_second: 2599.4617, train_label_loss: 0.0888, \n"
     ]
    },
    {
     "name": "stdout",
     "output_type": "stream",
     "text": [
      "epoch: 1, [batch: 4032 / 6720], examples_per_second: 2520.2889, train_label_loss: 0.1935, \n"
     ]
    },
    {
     "name": "stdout",
     "output_type": "stream",
     "text": [
      "epoch: 1, [batch: 4704 / 6720], examples_per_second: 2559.4206, train_label_loss: 0.4067, \n"
     ]
    },
    {
     "name": "stdout",
     "output_type": "stream",
     "text": [
      "epoch: 1, [batch: 5376 / 6720], examples_per_second: 2758.0698, train_label_loss: 0.4276, \n"
     ]
    },
    {
     "name": "stdout",
     "output_type": "stream",
     "text": [
      "epoch: 1, [batch: 6048 / 6720], examples_per_second: 2898.1942, train_label_loss: 0.2556, \n"
     ]
    },
    {
     "name": "stdout",
     "output_type": "stream",
     "text": [
      "=============================================================\n",
      "epoch: 1, source_val_acc_label: 0.6396, target_val_acc_label: 0.6146, source_val_label_loss: 385.2448, target_val_label_loss: 395.0565, \n",
      "=============================================================\n"
     ]
    },
    {
     "name": "stdout",
     "output_type": "stream",
     "text": [
      "New best\n"
     ]
    },
    {
     "name": "stdout",
     "output_type": "stream",
     "text": [
      "epoch: 2, [batch: 1 / 6720], examples_per_second: 2.6141, train_label_loss: 500.3816, \n"
     ]
    },
    {
     "name": "stdout",
     "output_type": "stream",
     "text": [
      "epoch: 2, [batch: 672 / 6720], examples_per_second: 3273.1257, train_label_loss: 9.8430, \n"
     ]
    },
    {
     "name": "stdout",
     "output_type": "stream",
     "text": [
      "epoch: 2, [batch: 1344 / 6720], examples_per_second: 3432.0484, train_label_loss: 2.2187, \n"
     ]
    },
    {
     "name": "stdout",
     "output_type": "stream",
     "text": [
      "epoch: 2, [batch: 2016 / 6720], examples_per_second: 3938.7013, train_label_loss: 0.2640, \n"
     ]
    },
    {
     "name": "stdout",
     "output_type": "stream",
     "text": [
      "epoch: 2, [batch: 2688 / 6720], examples_per_second: 2850.7950, train_label_loss: 0.1434, \n"
     ]
    },
    {
     "name": "stdout",
     "output_type": "stream",
     "text": [
      "epoch: 2, [batch: 3360 / 6720], examples_per_second: 2710.2186, train_label_loss: 1.4487, \n"
     ]
    },
    {
     "name": "stdout",
     "output_type": "stream",
     "text": [
      "epoch: 2, [batch: 4032 / 6720], examples_per_second: 3019.0569, train_label_loss: 4.8070, \n"
     ]
    },
    {
     "name": "stdout",
     "output_type": "stream",
     "text": [
      "epoch: 2, [batch: 4704 / 6720], examples_per_second: 3008.2702, train_label_loss: 0.2582, \n"
     ]
    },
    {
     "name": "stdout",
     "output_type": "stream",
     "text": [
      "epoch: 2, [batch: 5376 / 6720], examples_per_second: 2987.6120, train_label_loss: 0.1156, \n"
     ]
    },
    {
     "name": "stdout",
     "output_type": "stream",
     "text": [
      "epoch: 2, [batch: 6048 / 6720], examples_per_second: 2982.5359, train_label_loss: 0.3592, \n"
     ]
    },
    {
     "name": "stdout",
     "output_type": "stream",
     "text": [
      "=============================================================\n",
      "epoch: 2, source_val_acc_label: 0.8876, target_val_acc_label: 0.8712, source_val_label_loss: 0.3582, target_val_label_loss: 0.4076, \n",
      "=============================================================\n"
     ]
    },
    {
     "name": "stdout",
     "output_type": "stream",
     "text": [
      "New best\n"
     ]
    },
    {
     "name": "stdout",
     "output_type": "stream",
     "text": [
      "epoch: 3, [batch: 1 / 6720], examples_per_second: 2.7849, train_label_loss: 0.1730, \n"
     ]
    },
    {
     "name": "stdout",
     "output_type": "stream",
     "text": [
      "epoch: 3, [batch: 672 / 6720], examples_per_second: 3250.9894, train_label_loss: 0.3120, \n"
     ]
    },
    {
     "name": "stdout",
     "output_type": "stream",
     "text": [
      "epoch: 3, [batch: 1344 / 6720], examples_per_second: 3440.7516, train_label_loss: 0.3467, \n"
     ]
    },
    {
     "name": "stdout",
     "output_type": "stream",
     "text": [
      "epoch: 3, [batch: 2016 / 6720], examples_per_second: 3561.9564, train_label_loss: 0.1189, \n"
     ]
    },
    {
     "name": "stdout",
     "output_type": "stream",
     "text": [
      "epoch: 3, [batch: 2688 / 6720], examples_per_second: 3024.3767, train_label_loss: 0.2817, \n"
     ]
    },
    {
     "name": "stdout",
     "output_type": "stream",
     "text": [
      "epoch: 3, [batch: 3360 / 6720], examples_per_second: 2984.4719, train_label_loss: 0.0949, \n"
     ]
    },
    {
     "name": "stdout",
     "output_type": "stream",
     "text": [
      "epoch: 3, [batch: 4032 / 6720], examples_per_second: 3018.6784, train_label_loss: 0.1579, \n"
     ]
    },
    {
     "name": "stdout",
     "output_type": "stream",
     "text": [
      "epoch: 3, [batch: 4704 / 6720], examples_per_second: 3030.7965, train_label_loss: 0.1235, \n"
     ]
    },
    {
     "name": "stdout",
     "output_type": "stream",
     "text": [
      "epoch: 3, [batch: 5376 / 6720], examples_per_second: 2967.6679, train_label_loss: 0.1181, \n"
     ]
    },
    {
     "name": "stdout",
     "output_type": "stream",
     "text": [
      "epoch: 3, [batch: 6048 / 6720], examples_per_second: 2946.8255, train_label_loss: 0.2219, \n"
     ]
    },
    {
     "name": "stdout",
     "output_type": "stream",
     "text": [
      "=============================================================\n",
      "epoch: 3, source_val_acc_label: 0.9106, target_val_acc_label: 0.8893, source_val_label_loss: 0.2748, target_val_label_loss: 0.3517, \n",
      "=============================================================\n"
     ]
    },
    {
     "name": "stdout",
     "output_type": "stream",
     "text": [
      "New best\n"
     ]
    },
    {
     "name": "stdout",
     "output_type": "stream",
     "text": [
      "epoch: 4, [batch: 1 / 6720], examples_per_second: 2.8248, train_label_loss: 0.2813, \n"
     ]
    },
    {
     "name": "stdout",
     "output_type": "stream",
     "text": [
      "epoch: 4, [batch: 672 / 6720], examples_per_second: 3252.9339, train_label_loss: 0.0973, \n"
     ]
    },
    {
     "name": "stdout",
     "output_type": "stream",
     "text": [
      "epoch: 4, [batch: 1344 / 6720], examples_per_second: 3405.9133, train_label_loss: 0.0486, \n"
     ]
    },
    {
     "name": "stdout",
     "output_type": "stream",
     "text": [
      "epoch: 4, [batch: 2016 / 6720], examples_per_second: 3470.2955, train_label_loss: 0.1143, \n"
     ]
    },
    {
     "name": "stdout",
     "output_type": "stream",
     "text": [
      "epoch: 4, [batch: 2688 / 6720], examples_per_second: 3015.6994, train_label_loss: 0.1481, \n"
     ]
    },
    {
     "name": "stdout",
     "output_type": "stream",
     "text": [
      "epoch: 4, [batch: 3360 / 6720], examples_per_second: 2906.3115, train_label_loss: 0.1130, \n"
     ]
    },
    {
     "name": "stdout",
     "output_type": "stream",
     "text": [
      "epoch: 4, [batch: 4032 / 6720], examples_per_second: 3006.8274, train_label_loss: 0.2558, \n"
     ]
    },
    {
     "name": "stdout",
     "output_type": "stream",
     "text": [
      "epoch: 4, [batch: 4704 / 6720], examples_per_second: 2996.2560, train_label_loss: 0.2230, \n"
     ]
    },
    {
     "name": "stdout",
     "output_type": "stream",
     "text": [
      "epoch: 4, [batch: 5376 / 6720], examples_per_second: 2708.6260, train_label_loss: 0.2008, \n"
     ]
    },
    {
     "name": "stdout",
     "output_type": "stream",
     "text": [
      "epoch: 4, [batch: 6048 / 6720], examples_per_second: 2307.2898, train_label_loss: 0.3305, \n"
     ]
    },
    {
     "name": "stdout",
     "output_type": "stream",
     "text": [
      "=============================================================\n",
      "epoch: 4, source_val_acc_label: 0.9383, target_val_acc_label: 0.9139, source_val_label_loss: 0.1858, target_val_label_loss: 0.2927, \n",
      "=============================================================\n"
     ]
    },
    {
     "name": "stdout",
     "output_type": "stream",
     "text": [
      "New best\n"
     ]
    },
    {
     "name": "stdout",
     "output_type": "stream",
     "text": [
      "epoch: 5, [batch: 1 / 6720], examples_per_second: 2.0147, train_label_loss: 0.2302, \n"
     ]
    },
    {
     "name": "stdout",
     "output_type": "stream",
     "text": [
      "epoch: 5, [batch: 672 / 6720], examples_per_second: 2577.2577, train_label_loss: 0.1651, \n"
     ]
    },
    {
     "name": "stdout",
     "output_type": "stream",
     "text": [
      "epoch: 5, [batch: 1344 / 6720], examples_per_second: 2603.8445, train_label_loss: 0.2348, \n"
     ]
    },
    {
     "name": "stdout",
     "output_type": "stream",
     "text": [
      "epoch: 5, [batch: 2016 / 6720], examples_per_second: 2638.1795, train_label_loss: 0.2513, \n"
     ]
    },
    {
     "name": "stdout",
     "output_type": "stream",
     "text": [
      "epoch: 5, [batch: 2688 / 6720], examples_per_second: 2597.2332, train_label_loss: 0.0089, \n"
     ]
    },
    {
     "name": "stdout",
     "output_type": "stream",
     "text": [
      "epoch: 5, [batch: 3360 / 6720], examples_per_second: 2560.8684, train_label_loss: 0.1695, \n"
     ]
    },
    {
     "name": "stdout",
     "output_type": "stream",
     "text": [
      "epoch: 5, [batch: 4032 / 6720], examples_per_second: 2572.4565, train_label_loss: 0.1321, \n"
     ]
    },
    {
     "name": "stdout",
     "output_type": "stream",
     "text": [
      "epoch: 5, [batch: 4704 / 6720], examples_per_second: 2577.2331, train_label_loss: 0.3982, \n"
     ]
    },
    {
     "name": "stdout",
     "output_type": "stream",
     "text": [
      "epoch: 5, [batch: 5376 / 6720], examples_per_second: 2642.6654, train_label_loss: 0.0630, \n"
     ]
    },
    {
     "name": "stdout",
     "output_type": "stream",
     "text": [
      "epoch: 5, [batch: 6048 / 6720], examples_per_second: 2548.8971, train_label_loss: 0.3016, \n"
     ]
    },
    {
     "name": "stdout",
     "output_type": "stream",
     "text": [
      "=============================================================\n",
      "epoch: 5, source_val_acc_label: 0.9407, target_val_acc_label: 0.9167, source_val_label_loss: 0.1797, target_val_label_loss: 0.2825, \n",
      "=============================================================\n"
     ]
    },
    {
     "name": "stdout",
     "output_type": "stream",
     "text": [
      "New best\n"
     ]
    },
    {
     "name": "stdout",
     "output_type": "stream",
     "text": [
      "epoch: 6, [batch: 1 / 6720], examples_per_second: 2.3768, train_label_loss: 0.1792, \n"
     ]
    },
    {
     "name": "stdout",
     "output_type": "stream",
     "text": [
      "epoch: 6, [batch: 672 / 6720], examples_per_second: 2988.3235, train_label_loss: 0.1239, \n"
     ]
    },
    {
     "name": "stdout",
     "output_type": "stream",
     "text": [
      "epoch: 6, [batch: 1344 / 6720], examples_per_second: 2959.8380, train_label_loss: 0.0336, \n"
     ]
    },
    {
     "name": "stdout",
     "output_type": "stream",
     "text": [
      "epoch: 6, [batch: 2016 / 6720], examples_per_second: 3015.7154, train_label_loss: 0.0157, \n"
     ]
    },
    {
     "name": "stdout",
     "output_type": "stream",
     "text": [
      "epoch: 6, [batch: 2688 / 6720], examples_per_second: 3435.0565, train_label_loss: 0.0456, \n"
     ]
    },
    {
     "name": "stdout",
     "output_type": "stream",
     "text": [
      "epoch: 6, [batch: 3360 / 6720], examples_per_second: 3373.9218, train_label_loss: 0.1906, \n"
     ]
    },
    {
     "name": "stdout",
     "output_type": "stream",
     "text": [
      "epoch: 6, [batch: 4032 / 6720], examples_per_second: 3365.0803, train_label_loss: 0.0060, \n"
     ]
    },
    {
     "name": "stdout",
     "output_type": "stream",
     "text": [
      "epoch: 6, [batch: 4704 / 6720], examples_per_second: 3390.2726, train_label_loss: 0.1758, \n"
     ]
    },
    {
     "name": "stdout",
     "output_type": "stream",
     "text": [
      "epoch: 6, [batch: 5376 / 6720], examples_per_second: 3348.2681, train_label_loss: 0.0366, \n"
     ]
    },
    {
     "name": "stdout",
     "output_type": "stream",
     "text": [
      "epoch: 6, [batch: 6048 / 6720], examples_per_second: 3518.3756, train_label_loss: 0.1012, \n"
     ]
    },
    {
     "name": "stdout",
     "output_type": "stream",
     "text": [
      "=============================================================\n",
      "epoch: 6, source_val_acc_label: 0.9382, target_val_acc_label: 0.9232, source_val_label_loss: 0.1918, target_val_label_loss: 0.2594, \n",
      "=============================================================\n"
     ]
    },
    {
     "name": "stdout",
     "output_type": "stream",
     "text": [
      "New best\n"
     ]
    },
    {
     "name": "stdout",
     "output_type": "stream",
     "text": [
      "epoch: 7, [batch: 1 / 6720], examples_per_second: 2.3770, train_label_loss: 0.1497, \n"
     ]
    },
    {
     "name": "stdout",
     "output_type": "stream",
     "text": [
      "epoch: 7, [batch: 672 / 6720], examples_per_second: 2272.9898, train_label_loss: 0.1299, \n"
     ]
    },
    {
     "name": "stdout",
     "output_type": "stream",
     "text": [
      "epoch: 7, [batch: 1344 / 6720], examples_per_second: 2336.1435, train_label_loss: 0.1883, \n"
     ]
    },
    {
     "name": "stdout",
     "output_type": "stream",
     "text": [
      "epoch: 7, [batch: 2016 / 6720], examples_per_second: 2329.8960, train_label_loss: 0.2910, \n"
     ]
    },
    {
     "name": "stdout",
     "output_type": "stream",
     "text": [
      "epoch: 7, [batch: 2688 / 6720], examples_per_second: 2320.9261, train_label_loss: 0.2406, \n"
     ]
    },
    {
     "name": "stdout",
     "output_type": "stream",
     "text": [
      "epoch: 7, [batch: 3360 / 6720], examples_per_second: 2303.4194, train_label_loss: 0.3637, \n"
     ]
    },
    {
     "name": "stdout",
     "output_type": "stream",
     "text": [
      "epoch: 7, [batch: 4032 / 6720], examples_per_second: 2286.5850, train_label_loss: 0.0412, \n"
     ]
    },
    {
     "name": "stdout",
     "output_type": "stream",
     "text": [
      "epoch: 7, [batch: 4704 / 6720], examples_per_second: 2387.9443, train_label_loss: 0.1162, \n"
     ]
    },
    {
     "name": "stdout",
     "output_type": "stream",
     "text": [
      "epoch: 7, [batch: 5376 / 6720], examples_per_second: 2618.5131, train_label_loss: 0.1420, \n"
     ]
    },
    {
     "name": "stdout",
     "output_type": "stream",
     "text": [
      "epoch: 7, [batch: 6048 / 6720], examples_per_second: 2581.0770, train_label_loss: 0.2576, \n"
     ]
    },
    {
     "name": "stdout",
     "output_type": "stream",
     "text": [
      "=============================================================\n",
      "epoch: 7, source_val_acc_label: 0.9486, target_val_acc_label: 0.9233, source_val_label_loss: 0.1554, target_val_label_loss: 0.2679, \n",
      "=============================================================\n"
     ]
    },
    {
     "name": "stdout",
     "output_type": "stream",
     "text": [
      "New best\n"
     ]
    },
    {
     "name": "stdout",
     "output_type": "stream",
     "text": [
      "epoch: 8, [batch: 1 / 6720], examples_per_second: 2.0393, train_label_loss: 0.2566, \n"
     ]
    },
    {
     "name": "stdout",
     "output_type": "stream",
     "text": [
      "epoch: 8, [batch: 672 / 6720], examples_per_second: 2291.7541, train_label_loss: 0.1143, \n"
     ]
    },
    {
     "name": "stdout",
     "output_type": "stream",
     "text": [
      "epoch: 8, [batch: 1344 / 6720], examples_per_second: 2298.2150, train_label_loss: 0.1128, \n"
     ]
    },
    {
     "name": "stdout",
     "output_type": "stream",
     "text": [
      "epoch: 8, [batch: 2016 / 6720], examples_per_second: 2293.5069, train_label_loss: 0.0455, \n"
     ]
    },
    {
     "name": "stdout",
     "output_type": "stream",
     "text": [
      "epoch: 8, [batch: 2688 / 6720], examples_per_second: 2286.6561, train_label_loss: 0.1032, \n"
     ]
    },
    {
     "name": "stdout",
     "output_type": "stream",
     "text": [
      "epoch: 8, [batch: 3360 / 6720], examples_per_second: 2307.2798, train_label_loss: 0.0129, \n"
     ]
    },
    {
     "name": "stdout",
     "output_type": "stream",
     "text": [
      "epoch: 8, [batch: 4032 / 6720], examples_per_second: 2309.5538, train_label_loss: 0.0586, \n"
     ]
    },
    {
     "name": "stdout",
     "output_type": "stream",
     "text": [
      "epoch: 8, [batch: 4704 / 6720], examples_per_second: 2414.7072, train_label_loss: 0.2627, \n"
     ]
    },
    {
     "name": "stdout",
     "output_type": "stream",
     "text": [
      "epoch: 8, [batch: 5376 / 6720], examples_per_second: 2938.3174, train_label_loss: 0.1743, \n"
     ]
    },
    {
     "name": "stdout",
     "output_type": "stream",
     "text": [
      "epoch: 8, [batch: 6048 / 6720], examples_per_second: 2933.8240, train_label_loss: 0.2376, \n"
     ]
    },
    {
     "name": "stdout",
     "output_type": "stream",
     "text": [
      "=============================================================\n",
      "epoch: 8, source_val_acc_label: 0.9474, target_val_acc_label: 0.9198, source_val_label_loss: 0.1502, target_val_label_loss: 0.2696, \n",
      "=============================================================\n"
     ]
    },
    {
     "name": "stdout",
     "output_type": "stream",
     "text": [
      "epoch: 9, [batch: 1 / 6720], examples_per_second: 2.3037, train_label_loss: 0.0741, \n"
     ]
    },
    {
     "name": "stdout",
     "output_type": "stream",
     "text": [
      "epoch: 9, [batch: 672 / 6720], examples_per_second: 2626.8029, train_label_loss: 0.0201, \n"
     ]
    },
    {
     "name": "stdout",
     "output_type": "stream",
     "text": [
      "epoch: 9, [batch: 1344 / 6720], examples_per_second: 2870.7288, train_label_loss: 0.0660, \n"
     ]
    },
    {
     "name": "stdout",
     "output_type": "stream",
     "text": [
      "epoch: 9, [batch: 2016 / 6720], examples_per_second: 2793.8874, train_label_loss: 0.0958, \n"
     ]
    },
    {
     "name": "stdout",
     "output_type": "stream",
     "text": [
      "epoch: 9, [batch: 2688 / 6720], examples_per_second: 2337.5490, train_label_loss: 0.0588, \n"
     ]
    },
    {
     "name": "stdout",
     "output_type": "stream",
     "text": [
      "epoch: 9, [batch: 3360 / 6720], examples_per_second: 2355.4090, train_label_loss: 0.1139, \n"
     ]
    },
    {
     "name": "stdout",
     "output_type": "stream",
     "text": [
      "epoch: 9, [batch: 4032 / 6720], examples_per_second: 2331.4804, train_label_loss: 0.0266, \n"
     ]
    },
    {
     "name": "stdout",
     "output_type": "stream",
     "text": [
      "epoch: 9, [batch: 4704 / 6720], examples_per_second: 2474.4392, train_label_loss: 0.0103, \n"
     ]
    },
    {
     "name": "stdout",
     "output_type": "stream",
     "text": [
      "epoch: 9, [batch: 5376 / 6720], examples_per_second: 2606.7441, train_label_loss: 0.1056, \n"
     ]
    },
    {
     "name": "stdout",
     "output_type": "stream",
     "text": [
      "epoch: 9, [batch: 6048 / 6720], examples_per_second: 2624.8528, train_label_loss: 0.1468, \n"
     ]
    },
    {
     "name": "stdout",
     "output_type": "stream",
     "text": [
      "=============================================================\n",
      "epoch: 9, source_val_acc_label: 0.9537, target_val_acc_label: 0.9205, source_val_label_loss: 0.1348, target_val_label_loss: 0.2725, \n",
      "=============================================================\n"
     ]
    },
    {
     "name": "stdout",
     "output_type": "stream",
     "text": [
      "epoch: 10, [batch: 1 / 6720], examples_per_second: 2.0513, train_label_loss: 0.1679, \n"
     ]
    },
    {
     "name": "stdout",
     "output_type": "stream",
     "text": [
      "epoch: 10, [batch: 672 / 6720], examples_per_second: 2294.0188, train_label_loss: 0.1601, \n"
     ]
    },
    {
     "name": "stdout",
     "output_type": "stream",
     "text": [
      "epoch: 10, [batch: 1344 / 6720], examples_per_second: 2314.8202, train_label_loss: 0.1314, \n"
     ]
    },
    {
     "name": "stdout",
     "output_type": "stream",
     "text": [
      "epoch: 10, [batch: 2016 / 6720], examples_per_second: 2314.1935, train_label_loss: 0.0348, \n"
     ]
    },
    {
     "name": "stdout",
     "output_type": "stream",
     "text": [
      "epoch: 10, [batch: 2688 / 6720], examples_per_second: 2312.4924, train_label_loss: 0.2240, \n"
     ]
    },
    {
     "name": "stdout",
     "output_type": "stream",
     "text": [
      "epoch: 10, [batch: 3360 / 6720], examples_per_second: 2320.6496, train_label_loss: 0.0807, \n"
     ]
    },
    {
     "name": "stdout",
     "output_type": "stream",
     "text": [
      "epoch: 10, [batch: 4032 / 6720], examples_per_second: 2317.2001, train_label_loss: 0.0478, \n"
     ]
    },
    {
     "name": "stdout",
     "output_type": "stream",
     "text": [
      "epoch: 10, [batch: 4704 / 6720], examples_per_second: 2490.5876, train_label_loss: 1.3891, \n"
     ]
    },
    {
     "name": "stdout",
     "output_type": "stream",
     "text": [
      "epoch: 10, [batch: 5376 / 6720], examples_per_second: 2663.5995, train_label_loss: 0.0216, \n"
     ]
    },
    {
     "name": "stdout",
     "output_type": "stream",
     "text": [
      "epoch: 10, [batch: 6048 / 6720], examples_per_second: 2637.1713, train_label_loss: 0.0503, \n"
     ]
    },
    {
     "name": "stdout",
     "output_type": "stream",
     "text": [
      "=============================================================\n",
      "epoch: 10, source_val_acc_label: 0.9549, target_val_acc_label: 0.9230, source_val_label_loss: 0.1295, target_val_label_loss: 0.2636, \n",
      "=============================================================\n"
     ]
    },
    {
     "name": "stdout",
     "output_type": "stream",
     "text": [
      "epoch: 11, [batch: 1 / 6720], examples_per_second: 2.2022, train_label_loss: 0.0103, \n"
     ]
    },
    {
     "name": "stdout",
     "output_type": "stream",
     "text": [
      "epoch: 11, [batch: 672 / 6720], examples_per_second: 2573.7903, train_label_loss: 0.0254, \n"
     ]
    },
    {
     "name": "stdout",
     "output_type": "stream",
     "text": [
      "epoch: 11, [batch: 1344 / 6720], examples_per_second: 2556.1067, train_label_loss: 0.2659, \n"
     ]
    },
    {
     "name": "stdout",
     "output_type": "stream",
     "text": [
      "epoch: 11, [batch: 2016 / 6720], examples_per_second: 2589.5958, train_label_loss: 0.0776, \n"
     ]
    },
    {
     "name": "stdout",
     "output_type": "stream",
     "text": [
      "epoch: 11, [batch: 2688 / 6720], examples_per_second: 2647.7314, train_label_loss: 0.2874, \n"
     ]
    },
    {
     "name": "stdout",
     "output_type": "stream",
     "text": [
      "epoch: 11, [batch: 3360 / 6720], examples_per_second: 2616.2409, train_label_loss: 0.1316, \n"
     ]
    },
    {
     "name": "stdout",
     "output_type": "stream",
     "text": [
      "epoch: 11, [batch: 4032 / 6720], examples_per_second: 2977.1775, train_label_loss: 0.2924, \n"
     ]
    },
    {
     "name": "stdout",
     "output_type": "stream",
     "text": [
      "epoch: 11, [batch: 4704 / 6720], examples_per_second: 2666.9935, train_label_loss: 0.0498, \n"
     ]
    },
    {
     "name": "stdout",
     "output_type": "stream",
     "text": [
      "epoch: 11, [batch: 5376 / 6720], examples_per_second: 2608.1489, train_label_loss: 0.0139, \n"
     ]
    },
    {
     "name": "stdout",
     "output_type": "stream",
     "text": [
      "epoch: 11, [batch: 6048 / 6720], examples_per_second: 2688.8364, train_label_loss: 0.0278, \n"
     ]
    },
    {
     "name": "stdout",
     "output_type": "stream",
     "text": [
      "=============================================================\n",
      "epoch: 11, source_val_acc_label: 0.9591, target_val_acc_label: 0.9246, source_val_label_loss: 0.1171, target_val_label_loss: 0.2787, \n",
      "=============================================================\n"
     ]
    },
    {
     "name": "stdout",
     "output_type": "stream",
     "text": [
      "New best\n"
     ]
    },
    {
     "name": "stdout",
     "output_type": "stream",
     "text": [
      "epoch: 12, [batch: 1 / 6720], examples_per_second: 2.0296, train_label_loss: 0.2185, \n"
     ]
    },
    {
     "name": "stdout",
     "output_type": "stream",
     "text": [
      "epoch: 12, [batch: 672 / 6720], examples_per_second: 2332.6045, train_label_loss: 0.0055, \n"
     ]
    },
    {
     "name": "stdout",
     "output_type": "stream",
     "text": [
      "epoch: 12, [batch: 1344 / 6720], examples_per_second: 2331.9924, train_label_loss: 0.4857, \n"
     ]
    },
    {
     "name": "stdout",
     "output_type": "stream",
     "text": [
      "epoch: 12, [batch: 2016 / 6720], examples_per_second: 2345.7576, train_label_loss: 0.0623, \n"
     ]
    },
    {
     "name": "stdout",
     "output_type": "stream",
     "text": [
      "epoch: 12, [batch: 2688 / 6720], examples_per_second: 2310.9084, train_label_loss: 0.0491, \n"
     ]
    },
    {
     "name": "stdout",
     "output_type": "stream",
     "text": [
      "epoch: 12, [batch: 3360 / 6720], examples_per_second: 2312.9371, train_label_loss: 0.1113, \n"
     ]
    },
    {
     "name": "stdout",
     "output_type": "stream",
     "text": [
      "epoch: 12, [batch: 4032 / 6720], examples_per_second: 2352.4909, train_label_loss: 0.0232, \n"
     ]
    },
    {
     "name": "stdout",
     "output_type": "stream",
     "text": [
      "epoch: 12, [batch: 4704 / 6720], examples_per_second: 2474.7619, train_label_loss: 0.1061, \n"
     ]
    },
    {
     "name": "stdout",
     "output_type": "stream",
     "text": [
      "epoch: 12, [batch: 5376 / 6720], examples_per_second: 2593.5875, train_label_loss: 0.0472, \n"
     ]
    },
    {
     "name": "stdout",
     "output_type": "stream",
     "text": [
      "epoch: 12, [batch: 6048 / 6720], examples_per_second: 2610.1483, train_label_loss: 0.0885, \n"
     ]
    },
    {
     "name": "stdout",
     "output_type": "stream",
     "text": [
      "=============================================================\n",
      "epoch: 12, source_val_acc_label: 0.9544, target_val_acc_label: 0.9219, source_val_label_loss: 0.1285, target_val_label_loss: 0.2698, \n",
      "=============================================================\n"
     ]
    },
    {
     "name": "stdout",
     "output_type": "stream",
     "text": [
      "epoch: 13, [batch: 1 / 6720], examples_per_second: 2.3286, train_label_loss: 0.1429, \n"
     ]
    },
    {
     "name": "stdout",
     "output_type": "stream",
     "text": [
      "epoch: 13, [batch: 672 / 6720], examples_per_second: 2689.2389, train_label_loss: 0.2203, \n"
     ]
    },
    {
     "name": "stdout",
     "output_type": "stream",
     "text": [
      "epoch: 13, [batch: 1344 / 6720], examples_per_second: 2662.1384, train_label_loss: 0.0320, \n"
     ]
    },
    {
     "name": "stdout",
     "output_type": "stream",
     "text": [
      "epoch: 13, [batch: 2016 / 6720], examples_per_second: 2906.8259, train_label_loss: 0.0067, \n"
     ]
    },
    {
     "name": "stdout",
     "output_type": "stream",
     "text": [
      "epoch: 13, [batch: 2688 / 6720], examples_per_second: 2892.2745, train_label_loss: 0.0257, \n"
     ]
    },
    {
     "name": "stdout",
     "output_type": "stream",
     "text": [
      "epoch: 13, [batch: 3360 / 6720], examples_per_second: 2944.7097, train_label_loss: 0.0547, \n"
     ]
    },
    {
     "name": "stdout",
     "output_type": "stream",
     "text": [
      "epoch: 13, [batch: 4032 / 6720], examples_per_second: 3402.9168, train_label_loss: 0.2997, \n"
     ]
    },
    {
     "name": "stdout",
     "output_type": "stream",
     "text": [
      "epoch: 13, [batch: 4704 / 6720], examples_per_second: 3420.8500, train_label_loss: 0.0187, \n"
     ]
    },
    {
     "name": "stdout",
     "output_type": "stream",
     "text": [
      "epoch: 13, [batch: 5376 / 6720], examples_per_second: 3597.0758, train_label_loss: 0.0310, \n"
     ]
    },
    {
     "name": "stdout",
     "output_type": "stream",
     "text": [
      "epoch: 13, [batch: 6048 / 6720], examples_per_second: 3503.1968, train_label_loss: 0.1108, \n"
     ]
    },
    {
     "name": "stdout",
     "output_type": "stream",
     "text": [
      "=============================================================\n",
      "epoch: 13, source_val_acc_label: 0.9561, target_val_acc_label: 0.9198, source_val_label_loss: 0.1275, target_val_label_loss: 0.2867, \n",
      "=============================================================\n"
     ]
    },
    {
     "name": "stdout",
     "output_type": "stream",
     "text": [
      "epoch: 14, [batch: 1 / 6720], examples_per_second: 3.3493, train_label_loss: 0.0811, \n"
     ]
    },
    {
     "name": "stdout",
     "output_type": "stream",
     "text": [
      "epoch: 14, [batch: 672 / 6720], examples_per_second: 2941.1087, train_label_loss: 0.2787, \n"
     ]
    },
    {
     "name": "stdout",
     "output_type": "stream",
     "text": [
      "epoch: 14, [batch: 1344 / 6720], examples_per_second: 2454.8169, train_label_loss: 0.1662, \n"
     ]
    },
    {
     "name": "stdout",
     "output_type": "stream",
     "text": [
      "epoch: 14, [batch: 2016 / 6720], examples_per_second: 2309.0133, train_label_loss: 0.0371, \n"
     ]
    },
    {
     "name": "stdout",
     "output_type": "stream",
     "text": [
      "epoch: 14, [batch: 2688 / 6720], examples_per_second: 2304.4748, train_label_loss: 0.1146, \n"
     ]
    },
    {
     "name": "stdout",
     "output_type": "stream",
     "text": [
      "epoch: 14, [batch: 3360 / 6720], examples_per_second: 2301.2765, train_label_loss: 0.0134, \n"
     ]
    },
    {
     "name": "stdout",
     "output_type": "stream",
     "text": [
      "epoch: 14, [batch: 4032 / 6720], examples_per_second: 2306.2981, train_label_loss: 0.0157, \n"
     ]
    },
    {
     "name": "stdout",
     "output_type": "stream",
     "text": [
      "epoch: 14, [batch: 4704 / 6720], examples_per_second: 2303.4771, train_label_loss: 0.1068, \n"
     ]
    },
    {
     "name": "stdout",
     "output_type": "stream",
     "text": [
      "epoch: 14, [batch: 5376 / 6720], examples_per_second: 2310.2880, train_label_loss: 0.2363, \n"
     ]
    },
    {
     "name": "stdout",
     "output_type": "stream",
     "text": [
      "epoch: 14, [batch: 6048 / 6720], examples_per_second: 2322.4244, train_label_loss: 0.1130, \n"
     ]
    },
    {
     "name": "stdout",
     "output_type": "stream",
     "text": [
      "=============================================================\n",
      "epoch: 14, source_val_acc_label: 0.9582, target_val_acc_label: 0.9215, source_val_label_loss: 0.1245, target_val_label_loss: 0.2975, \n",
      "=============================================================\n"
     ]
    },
    {
     "name": "stdout",
     "output_type": "stream",
     "text": [
      "epoch: 15, [batch: 1 / 6720], examples_per_second: 2.0996, train_label_loss: 0.0953, \n"
     ]
    },
    {
     "name": "stdout",
     "output_type": "stream",
     "text": [
      "epoch: 15, [batch: 672 / 6720], examples_per_second: 2637.2587, train_label_loss: 0.0616, \n"
     ]
    },
    {
     "name": "stdout",
     "output_type": "stream",
     "text": [
      "epoch: 15, [batch: 1344 / 6720], examples_per_second: 2379.8220, train_label_loss: 0.0439, \n"
     ]
    },
    {
     "name": "stdout",
     "output_type": "stream",
     "text": [
      "epoch: 15, [batch: 2016 / 6720], examples_per_second: 2313.3307, train_label_loss: 0.1180, \n"
     ]
    },
    {
     "name": "stdout",
     "output_type": "stream",
     "text": [
      "epoch: 15, [batch: 2688 / 6720], examples_per_second: 2312.0384, train_label_loss: 0.2349, \n"
     ]
    },
    {
     "name": "stdout",
     "output_type": "stream",
     "text": [
      "epoch: 15, [batch: 3360 / 6720], examples_per_second: 2311.7241, train_label_loss: 0.1512, \n"
     ]
    },
    {
     "name": "stdout",
     "output_type": "stream",
     "text": [
      "epoch: 15, [batch: 4032 / 6720], examples_per_second: 2411.2553, train_label_loss: 0.0091, \n"
     ]
    },
    {
     "name": "stdout",
     "output_type": "stream",
     "text": [
      "epoch: 15, [batch: 4704 / 6720], examples_per_second: 2595.6886, train_label_loss: 0.0307, \n"
     ]
    },
    {
     "name": "stdout",
     "output_type": "stream",
     "text": [
      "epoch: 15, [batch: 5376 / 6720], examples_per_second: 2569.7289, train_label_loss: 0.0358, \n"
     ]
    },
    {
     "name": "stdout",
     "output_type": "stream",
     "text": [
      "epoch: 15, [batch: 6048 / 6720], examples_per_second: 2611.3447, train_label_loss: 0.1202, \n"
     ]
    },
    {
     "name": "stdout",
     "output_type": "stream",
     "text": [
      "=============================================================\n",
      "epoch: 15, source_val_acc_label: 0.9583, target_val_acc_label: 0.9236, source_val_label_loss: 0.1164, target_val_label_loss: 0.2754, \n",
      "=============================================================\n"
     ]
    },
    {
     "name": "stdout",
     "output_type": "stream",
     "text": [
      "Patience (3) exhausted\n"
     ]
    }
   ],
   "source": [
    "###################################\n",
    "# train\n",
    "###################################\n",
    "jig = PTN_Train_Eval_Test_Jig(model, p.BEST_MODEL_PATH, p.device)\n",
    "\n",
    "jig.train(\n",
    "    train_iterable=datasets.source.processed.train,\n",
    "    source_val_iterable=datasets.source.processed.val,\n",
    "    target_val_iterable=datasets.target.processed.val,\n",
    "    num_epochs=p.n_epoch,\n",
    "    num_logs_per_epoch=p.NUM_LOGS_PER_EPOCH,\n",
    "    patience=p.patience,\n",
    "    optimizer=optimizer,\n",
    "    criteria_for_best=p.criteria_for_best,\n",
    ")"
   ]
  },
  {
   "cell_type": "code",
   "execution_count": 23,
   "id": "31e8fabf",
   "metadata": {
    "execution": {
     "iopub.execute_input": "2022-03-22T05:14:11.691488Z",
     "iopub.status.busy": "2022-03-22T05:14:11.691104Z",
     "iopub.status.idle": "2022-03-22T05:14:11.723423Z",
     "shell.execute_reply": "2022-03-22T05:14:11.722605Z"
    },
    "papermill": {
     "duration": 0.116326,
     "end_time": "2022-03-22T05:14:11.723644",
     "exception": false,
     "start_time": "2022-03-22T05:14:11.607318",
     "status": "completed"
    },
    "tags": []
   },
   "outputs": [],
   "source": [
    "total_experiment_time_secs = time.time() - start_time_secs"
   ]
  },
  {
   "cell_type": "code",
   "execution_count": 24,
   "id": "87b9595b",
   "metadata": {
    "execution": {
     "iopub.execute_input": "2022-03-22T05:14:11.885616Z",
     "iopub.status.busy": "2022-03-22T05:14:11.884300Z",
     "iopub.status.idle": "2022-03-22T05:18:41.238835Z",
     "shell.execute_reply": "2022-03-22T05:18:41.238086Z"
    },
    "papermill": {
     "duration": 269.43775,
     "end_time": "2022-03-22T05:18:41.239017",
     "exception": false,
     "start_time": "2022-03-22T05:14:11.801267",
     "status": "completed"
    },
    "tags": []
   },
   "outputs": [],
   "source": [
    "###################################\n",
    "# Evaluate the model\n",
    "###################################\n",
    "source_test_label_accuracy, source_test_label_loss = jig.test(datasets.source.processed.test)\n",
    "target_test_label_accuracy, target_test_label_loss = jig.test(datasets.target.processed.test)\n",
    "\n",
    "source_val_label_accuracy, source_val_label_loss = jig.test(datasets.source.processed.val)\n",
    "target_val_label_accuracy, target_val_label_loss = jig.test(datasets.target.processed.val)\n",
    "\n",
    "history = jig.get_history()\n",
    "\n",
    "total_epochs_trained = len(history[\"epoch_indices\"])\n",
    "\n",
    "val_dl = Iterable_Aggregator((datasets.source.original.val,datasets.target.original.val))\n",
    "\n",
    "confusion = ptn_confusion_by_domain_over_dataloader(model, p.device, val_dl)\n",
    "per_domain_accuracy = per_domain_accuracy_from_confusion(confusion)\n",
    "\n",
    "# Add a key to per_domain_accuracy for if it was a source domain\n",
    "for domain, accuracy in per_domain_accuracy.items():\n",
    "    per_domain_accuracy[domain] = {\n",
    "        \"accuracy\": accuracy,\n",
    "        \"source?\": domain in p.domains_source\n",
    "    }\n",
    "\n",
    "# Do an independent accuracy assesment JUST TO BE SURE!\n",
    "# _source_test_label_accuracy = independent_accuracy_assesment(model, datasets.source.processed.test, p.device)\n",
    "# _target_test_label_accuracy = independent_accuracy_assesment(model, datasets.target.processed.test, p.device)\n",
    "# _source_val_label_accuracy = independent_accuracy_assesment(model, datasets.source.processed.val, p.device)\n",
    "# _target_val_label_accuracy = independent_accuracy_assesment(model, datasets.target.processed.val, p.device)\n",
    "\n",
    "# assert(_source_test_label_accuracy == source_test_label_accuracy)\n",
    "# assert(_target_test_label_accuracy == target_test_label_accuracy)\n",
    "# assert(_source_val_label_accuracy == source_val_label_accuracy)\n",
    "# assert(_target_val_label_accuracy == target_val_label_accuracy)\n",
    "\n",
    "experiment = {\n",
    "    \"experiment_name\": p.experiment_name,\n",
    "    \"parameters\": dict(p),\n",
    "    \"results\": {\n",
    "        \"source_test_label_accuracy\": source_test_label_accuracy,\n",
    "        \"source_test_label_loss\": source_test_label_loss,\n",
    "        \"target_test_label_accuracy\": target_test_label_accuracy,\n",
    "        \"target_test_label_loss\": target_test_label_loss,\n",
    "        \"source_val_label_accuracy\": source_val_label_accuracy,\n",
    "        \"source_val_label_loss\": source_val_label_loss,\n",
    "        \"target_val_label_accuracy\": target_val_label_accuracy,\n",
    "        \"target_val_label_loss\": target_val_label_loss,\n",
    "        \"total_epochs_trained\": total_epochs_trained,\n",
    "        \"total_experiment_time_secs\": total_experiment_time_secs,\n",
    "        \"confusion\": confusion,\n",
    "        \"per_domain_accuracy\": per_domain_accuracy,\n",
    "    },\n",
    "    \"history\": history,\n",
    "    \"dataset_metrics\": get_dataset_metrics(datasets, \"ptn\"),\n",
    "}"
   ]
  },
  {
   "cell_type": "code",
   "execution_count": 25,
   "id": "54a21829",
   "metadata": {
    "execution": {
     "iopub.execute_input": "2022-03-22T05:18:41.395327Z",
     "iopub.status.busy": "2022-03-22T05:18:41.394955Z",
     "iopub.status.idle": "2022-03-22T05:18:41.625802Z",
     "shell.execute_reply": "2022-03-22T05:18:41.626479Z"
    },
    "papermill": {
     "duration": 0.307842,
     "end_time": "2022-03-22T05:18:41.626663",
     "exception": false,
     "start_time": "2022-03-22T05:18:41.318821",
     "status": "completed"
    },
    "tags": []
   },
   "outputs": [
    {
     "data": {
      "image/png": "[encoded data removed]",
      "text/plain": [
       "<Figure size 1080x504 with 1 Axes>"
      ]
     },
     "metadata": {
      "needs_background": "light"
     },
     "output_type": "display_data"
    }
   ],
   "source": [
    "ax = get_loss_curve(experiment)\n",
    "plt.show()"
   ]
  },
  {
   "cell_type": "code",
   "execution_count": 26,
   "id": "fd8a0f60",
   "metadata": {
    "execution": {
     "iopub.execute_input": "2022-03-22T05:18:41.773073Z",
     "iopub.status.busy": "2022-03-22T05:18:41.772478Z",
     "iopub.status.idle": "2022-03-22T05:18:42.091963Z",
     "shell.execute_reply": "2022-03-22T05:18:42.092638Z"
    },
    "papermill": {
     "duration": 0.392745,
     "end_time": "2022-03-22T05:18:42.092821",
     "exception": false,
     "start_time": "2022-03-22T05:18:41.700076",
     "status": "completed"
    },
    "tags": []
   },
   "outputs": [
    {
     "data": {
      "text/plain": [
       "<AxesSubplot:title={'center':'Results'}>"
      ]
     },
     "execution_count": 26,
     "metadata": {},
     "output_type": "execute_result"
    },
    {
     "data": {
      "image/png": "[encoded data removed]",
      "text/plain": [
       "<Figure size 1080x504 with 1 Axes>"
      ]
     },
     "metadata": {
      "needs_background": "light"
     },
     "output_type": "display_data"
    }
   ],
   "source": [
    "get_results_table(experiment)"
   ]
  },
  {
   "cell_type": "code",
   "execution_count": 27,
   "id": "cf8dc689",
   "metadata": {
    "execution": {
     "iopub.execute_input": "2022-03-22T05:18:42.247215Z",
     "iopub.status.busy": "2022-03-22T05:18:42.246850Z",
     "iopub.status.idle": "2022-03-22T05:18:42.543075Z",
     "shell.execute_reply": "2022-03-22T05:18:42.542403Z"
    },
    "papermill": {
     "duration": 0.374527,
     "end_time": "2022-03-22T05:18:42.543241",
     "exception": false,
     "start_time": "2022-03-22T05:18:42.168714",
     "status": "completed"
    },
    "tags": []
   },
   "outputs": [
    {
     "data": {
      "text/plain": [
       "<AxesSubplot:title={'center':'Per Domain Validation Accuracy'}, xlabel='domain'>"
      ]
     },
     "execution_count": 27,
     "metadata": {},
     "output_type": "execute_result"
    },
    {
     "data": {
      "image/png": "[encoded data removed]",
      "text/plain": [
       "<Figure size 1080x504 with 1 Axes>"
      ]
     },
     "metadata": {
      "needs_background": "light"
     },
     "output_type": "display_data"
    }
   ],
   "source": [
    "get_domain_accuracies(experiment)"
   ]
  },
  {
   "cell_type": "code",
   "execution_count": 28,
   "id": "a74ae082",
   "metadata": {
    "execution": {
     "iopub.execute_input": "2022-03-22T05:18:42.709647Z",
     "iopub.status.busy": "2022-03-22T05:18:42.709079Z",
     "iopub.status.idle": "2022-03-22T05:18:42.736985Z",
     "shell.execute_reply": "2022-03-22T05:18:42.736261Z"
    },
    "papermill": {
     "duration": 0.109819,
     "end_time": "2022-03-22T05:18:42.737137",
     "exception": false,
     "start_time": "2022-03-22T05:18:42.627318",
     "status": "completed"
    },
    "tags": []
   },
   "outputs": [
    {
     "name": "stdout",
     "output_type": "stream",
     "text": [
      "Source Test Label Accuracy: 0.9599609375 Target Test Label Accuracy: 0.9249348958333333\n",
      "Source Val Label Accuracy: 0.9591145833333333 Target Val Label Accuracy: 0.9245768229166667\n"
     ]
    }
   ],
   "source": [
    "print(\"Source Test Label Accuracy:\", experiment[\"results\"][\"source_test_label_accuracy\"], \"Target Test Label Accuracy:\", experiment[\"results\"][\"target_test_label_accuracy\"])\n",
    "print(\"Source Val Label Accuracy:\", experiment[\"results\"][\"source_val_label_accuracy\"], \"Target Val Label Accuracy:\", experiment[\"results\"][\"target_val_label_accuracy\"])"
   ]
  },
  {
   "cell_type": "code",
   "execution_count": 29,
   "id": "dacca602",
   "metadata": {
    "execution": {
     "iopub.execute_input": "2022-03-22T05:18:42.890918Z",
     "iopub.status.busy": "2022-03-22T05:18:42.890557Z",
     "iopub.status.idle": "2022-03-22T05:18:42.914673Z",
     "shell.execute_reply": "2022-03-22T05:18:42.914014Z"
    },
    "papermill": {
     "duration": 0.099873,
     "end_time": "2022-03-22T05:18:42.914830",
     "exception": false,
     "start_time": "2022-03-22T05:18:42.814957",
     "status": "completed"
    },
    "tags": [
     "experiment_json"
    ]
   },
   "outputs": [
    {
     "data": {
      "text/plain": [
       "'{\"experiment_name\": \"tl_1v2:oracle.run1.framed-oracle.run2.framed\", \"parameters\": {\"experiment_name\": \"tl_1v2:oracle.run1.framed-oracle.run2.framed\", \"device\": \"cuda\", \"lr\": 0.0001, \"n_shot\": 3, \"n_query\": 2, \"train_k_factor\": 3, \"val_k_factor\": 2, \"test_k_factor\": 2, \"torch_default_dtype\": \"torch.float32\", \"n_epoch\": 50, \"patience\": 3, \"criteria_for_best\": \"target_accuracy\", \"x_net\": [{\"class\": \"nnReshape\", \"kargs\": {\"shape\": [-1, 1, 2, 256]}}, {\"class\": \"Conv2d\", \"kargs\": {\"in_channels\": 1, \"out_channels\": 256, \"kernel_size\": [1, 7], \"bias\": false, \"padding\": [0, 3]}}, {\"class\": \"ReLU\", \"kargs\": {\"inplace\": true}}, {\"class\": \"BatchNorm2d\", \"kargs\": {\"num_features\": 256}}, {\"class\": \"Conv2d\", \"kargs\": {\"in_channels\": 256, \"out_channels\": 80, \"kernel_size\": [2, 7], \"bias\": true, \"padding\": [0, 3]}}, {\"class\": \"ReLU\", \"kargs\": {\"inplace\": true}}, {\"class\": \"BatchNorm2d\", \"kargs\": {\"num_features\": 80}}, {\"class\": \"Flatten\", \"kargs\": {}}, {\"class\": \"Linear\", \"kargs\": {\"in_features\": 20480, \"out_features\": 256}}, {\"class\": \"ReLU\", \"kargs\": {\"inplace\": true}}, {\"class\": \"BatchNorm1d\", \"kargs\": {\"num_features\": 256}}, {\"class\": \"Linear\", \"kargs\": {\"in_features\": 256, \"out_features\": 256}}], \"NUM_LOGS_PER_EPOCH\": 10, \"BEST_MODEL_PATH\": \"./best_model.pth\", \"n_way\": 16, \"datasets\": [{\"labels\": [\"3123D52\", \"3123D65\", \"3123D79\", \"3123D80\", \"3123D54\", \"3123D70\", \"3123D7B\", \"3123D89\", \"3123D58\", \"3123D76\", \"3123D7D\", \"3123EFE\", \"3123D64\", \"3123D78\", \"3123D7E\", \"3124E4A\"], \"domains\": [32, 38, 8, 44, 14, 50, 20, 26], \"num_examples_per_domain_per_label\": 2000, \"pickle_path\": \"/root/csc500-main/datasets/oracle.Run1_framed_2000Examples_stratified_ds.2022A.pkl\", \"source_or_target_dataset\": \"target\", \"x_transforms\": [], \"episode_transforms\": [], \"domain_prefix\": \"ORACLE.run1_\"}, {\"labels\": [\"3123D52\", \"3123D65\", \"3123D79\", \"3123D80\", \"3123D54\", \"3123D70\", \"3123D7B\", \"3123D89\", \"3123D58\", \"3123D76\", \"3123D7D\", \"3123EFE\", \"3123D64\", \"3123D78\", \"3123D7E\", \"3124E4A\"], \"domains\": [32, 38, 8, 44, 14, 50, 20, 26], \"num_examples_per_domain_per_label\": 2000, \"pickle_path\": \"/root/csc500-main/datasets/oracle.Run2_framed_2000Examples_stratified_ds.2022A.pkl\", \"source_or_target_dataset\": \"source\", \"x_transforms\": [], \"episode_transforms\": [], \"domain_prefix\": \"ORACLE.run2_\"}], \"dataset_seed\": 7, \"seed\": 7, \"x_shape\": [2, 256], \"domains_source\": [\"ORACLE.run2_32\", \"ORACLE.run2_38\", \"ORACLE.run2_8\", \"ORACLE.run2_44\", \"ORACLE.run2_14\", \"ORACLE.run2_50\", \"ORACLE.run2_20\", \"ORACLE.run2_26\"], \"domains_target\": [\"ORACLE.run1_32\", \"ORACLE.run1_38\", \"ORACLE.run1_8\", \"ORACLE.run1_44\", \"ORACLE.run1_14\", \"ORACLE.run1_50\", \"ORACLE.run1_20\", \"ORACLE.run1_26\"]}, \"results\": {\"source_test_label_accuracy\": 0.9599609375, \"source_test_label_loss\": 0.11795594543218613, \"target_test_label_accuracy\": 0.9249348958333333, \"target_test_label_loss\": 0.27501869201660156, \"source_val_label_accuracy\": 0.9591145833333333, \"source_val_label_loss\": 0.11714935302734375, \"target_val_label_accuracy\": 0.9245768229166667, \"target_val_label_loss\": 0.2786792814731598, \"total_epochs_trained\": 15, \"total_experiment_time_secs\": 3767.798754453659, \"confusion\": {\"ORACLE.run2_26\": {\"0\": {\"0\": 156, \"10\": 43, \"14\": 37, \"15\": 1, \"8\": 3}, \"4\": {\"4\": 239, \"3\": 1}, \"14\": {\"0\": 28, \"14\": 199, \"10\": 13}, \"12\": {\"12\": 240}, \"8\": {\"8\": 237, \"10\": 2, \"2\": 1}, \"7\": {\"7\": 196, \"2\": 23, \"3\": 16, \"13\": 3, \"8\": 2}, \"13\": {\"13\": 238, \"7\": 2}, \"5\": {\"5\": 236, \"6\": 1, \"1\": 2, \"15\": 1}, \"15\": {\"15\": 237, \"2\": 2, \"0\": 1}, \"10\": {\"15\": 1, \"0\": 67, \"10\": 120, \"14\": 30, \"8\": 18, \"6\": 4}, \"3\": {\"3\": 233, \"7\": 7}, \"9\": {\"9\": 233, \"8\": 3, \"13\": 3, \"7\": 1}, \"6\": {\"6\": 238, \"5\": 1, \"10\": 1}, \"1\": {\"1\": 239, \"14\": 1}, \"11\": {\"11\": 240}, \"2\": {\"2\": 230, \"8\": 5, \"7\": 5}}, \"ORACLE.run2_44\": {\"1\": {\"1\": 240}, \"11\": {\"11\": 238, \"13\": 2}, \"3\": {\"3\": 236, \"12\": 4}, \"6\": {\"6\": 237, \"13\": 2, \"7\": 1}, \"7\": {\"7\": 211, \"9\": 29}, \"5\": {\"5\": 239, \"15\": 1}, \"2\": {\"2\": 240}, \"15\": {\"15\": 235, \"8\": 3, \"4\": 1, \"5\": 1}, \"10\": {\"10\": 240}, \"13\": {\"13\": 237, \"4\": 2, \"6\": 1}, \"8\": {\"8\": 223, \"5\": 2, \"0\": 15}, \"4\": {\"4\": 234, \"14\": 6}, \"9\": {\"9\": 200, \"7\": 39, \"6\": 1}, \"14\": {\"14\": 226, \"4\": 13, \"5\": 1}, \"0\": {\"0\": 202, \"8\": 38}, \"12\": {\"12\": 233, \"3\": 7}}, \"ORACLE.run2_50\": {\"15\": {\"15\": 238, \"6\": 2}, \"4\": {\"4\": 219, \"5\": 18, \"7\": 3}, \"6\": {\"6\": 237, \"5\": 3}, \"2\": {\"2\": 239, \"0\": 1}, \"5\": {\"5\": 198, \"4\": 36, \"7\": 3, \"6\": 3}, \"9\": {\"9\": 240}, \"8\": {\"8\": 240}, \"12\": {\"12\": 240}, \"10\": {\"10\": 239, \"0\": 1}, \"1\": {\"1\": 240}, \"0\": {\"0\": 237, \"10\": 1, \"2\": 2}, \"3\": {\"3\": 240}, \"13\": {\"13\": 240}, \"11\": {\"11\": 239, \"15\": 1}, \"7\": {\"7\": 239, \"5\": 1}, \"14\": {\"14\": 240}}, \"ORACLE.run2_38\": {\"15\": {\"15\": 223, \"1\": 15, \"5\": 2}, \"11\": {\"11\": 240}, \"10\": {\"10\": 240}, \"14\": {\"14\": 204, \"2\": 32, \"7\": 1, \"4\": 3}, \"6\": {\"6\": 240}, \"4\": {\"4\": 240}, \"13\": {\"13\": 192, \"3\": 46, \"10\": 2}, \"3\": {\"3\": 185, \"13\": 52, \"10\": 3}, \"7\": {\"7\": 238, \"0\": 2}, \"8\": {\"8\": 226, \"5\": 14}, \"1\": {\"1\": 234, \"15\": 6}, \"5\": {\"8\": 46, \"5\": 194}, \"0\": {\"0\": 234, \"7\": 6}, \"2\": {\"2\": 237, \"14\": 3}, \"12\": {\"12\": 240}, \"9\": {\"9\": 240}}, \"ORACLE.run2_20\": {\"10\": {\"10\": 240}, \"7\": {\"7\": 238, \"3\": 1, \"5\": 1}, \"4\": {\"4\": 238, \"3\": 2}, \"13\": {\"13\": 236, \"15\": 3, \"12\": 1}, \"1\": {\"1\": 240}, \"0\": {\"0\": 240}, \"12\": {\"12\": 239, \"4\": 1}, \"5\": {\"2\": 15, \"5\": 214, \"3\": 3, \"0\": 3, \"1\": 2, \"7\": 1, \"15\": 2}, \"6\": {\"6\": 240}, \"2\": {\"2\": 191, \"3\": 18, \"5\": 9, \"9\": 20, \"15\": 2}, \"8\": {\"8\": 234, \"14\": 6}, \"11\": {\"11\": 240}, \"9\": {\"9\": 212, \"3\": 9, \"2\": 16, \"1\": 1, \"15\": 2}, \"14\": {\"14\": 231, \"8\": 9}, \"15\": {\"15\": 235, \"2\": 1, \"13\": 2, \"9\": 1, \"12\": 1}, \"3\": {\"3\": 213, \"9\": 11, \"2\": 14, \"4\": 1, \"7\": 1}}, \"ORACLE.run2_14\": {\"14\": {\"14\": 212, \"2\": 28}, \"0\": {\"0\": 240}, \"4\": {\"4\": 240}, \"11\": {\"11\": 240}, \"13\": {\"13\": 220, \"6\": 20}, \"9\": {\"9\": 240}, \"3\": {\"3\": 240}, \"6\": {\"6\": 232, \"13\": 8}, \"1\": {\"1\": 240}, \"5\": {\"5\": 233, \"2\": 6, \"3\": 1}, \"12\": {\"12\": 207, \"9\": 16, \"0\": 11, \"11\": 6}, \"10\": {\"10\": 240}, \"8\": {\"8\": 240}, \"7\": {\"7\": 240}, \"15\": {\"15\": 240}, \"2\": {\"2\": 165, \"5\": 32, \"14\": 39, \"3\": 4}}, \"ORACLE.run2_32\": {\"11\": {\"11\": 232, \"4\": 4, \"0\": 1, \"13\": 3}, \"1\": {\"1\": 240}, \"2\": {\"2\": 237, \"7\": 2, \"14\": 1}, \"0\": {\"0\": 224, \"14\": 1, \"8\": 12, \"11\": 1, \"7\": 1, \"4\": 1}, \"3\": {\"3\": 240}, \"8\": {\"8\": 234, \"0\": 6}, \"12\": {\"12\": 240}, \"5\": {\"5\": 238, \"14\": 2}, \"15\": {\"15\": 240}, \"7\": {\"7\": 236, \"2\": 1, \"0\": 3}, \"4\": {\"4\": 237, \"11\": 2, \"13\": 1}, \"14\": {\"14\": 238, \"2\": 2}, \"10\": {\"10\": 240}, \"6\": {\"6\": 240}, \"13\": {\"13\": 235, \"4\": 3, \"11\": 1, \"3\": 1}, \"9\": {\"9\": 240}}, \"ORACLE.run2_8\": {\"9\": {\"9\": 240}, \"11\": {\"11\": 228, \"8\": 12}, \"8\": {\"8\": 239, \"11\": 1}, \"4\": {\"4\": 205, \"7\": 29, \"6\": 6}, \"13\": {\"13\": 240}, \"14\": {\"14\": 239, \"6\": 1}, \"2\": {\"2\": 240}, \"3\": {\"3\": 240}, \"1\": {\"1\": 240}, \"0\": {\"0\": 240}, \"5\": {\"5\": 236, \"10\": 4}, \"15\": {\"15\": 239, \"12\": 1}, \"10\": {\"10\": 237, \"5\": 3}, \"12\": {\"12\": 240}, \"6\": {\"6\": 239, \"14\": 1}, \"7\": {\"7\": 227, \"4\": 13}}, \"ORACLE.run1_26\": {\"0\": {\"0\": 176, \"14\": 24, \"10\": 39, \"6\": 1}, \"4\": {\"4\": 240}, \"14\": {\"14\": 201, \"10\": 30, \"0\": 7, \"1\": 2}, \"12\": {\"12\": 240}, \"8\": {\"7\": 26, \"8\": 211, \"0\": 1, \"2\": 1, \"9\": 1}, \"7\": {\"7\": 230, \"2\": 7, \"8\": 3}, \"13\": {\"13\": 213, \"9\": 16, \"8\": 1, \"2\": 8, \"3\": 2}, \"5\": {\"15\": 2, \"5\": 238}, \"15\": {\"15\": 206, \"6\": 32, \"10\": 1, \"5\": 1}, \"10\": {\"10\": 188, \"14\": 28, \"0\": 21, \"6\": 3}, \"3\": {\"3\": 238, \"7\": 1, \"2\": 1}, \"9\": {\"13\": 22, \"9\": 206, \"8\": 6, \"2\": 6}, \"6\": {\"6\": 218, \"15\": 22}, \"1\": {\"1\": 226, \"14\": 14}, \"11\": {\"11\": 240}, \"2\": {\"2\": 157, \"7\": 32, \"8\": 13, \"3\": 20, \"9\": 7, \"15\": 2, \"0\": 3, \"13\": 3, \"10\": 2, \"14\": 1}}, \"ORACLE.run1_44\": {\"1\": {\"1\": 237, \"2\": 3}, \"11\": {\"11\": 240}, \"3\": {\"3\": 240}, \"6\": {\"6\": 211, \"13\": 20, \"9\": 9}, \"7\": {\"7\": 230, \"9\": 10}, \"5\": {\"5\": 217, \"8\": 1, \"15\": 14, \"14\": 8}, \"2\": {\"2\": 238, \"1\": 2}, \"15\": {\"15\": 223, \"14\": 14, \"5\": 2, \"8\": 1}, \"10\": {\"10\": 231, \"1\": 5, \"7\": 4}, \"13\": {\"13\": 212, \"6\": 22, \"11\": 4, \"9\": 2}, \"8\": {\"8\": 164, \"0\": 67, \"15\": 5, \"5\": 4}, \"4\": {\"4\": 136, \"14\": 96, \"15\": 4, \"13\": 2, \"9\": 1, \"5\": 1}, \"9\": {\"9\": 118, \"7\": 48, \"6\": 41, \"13\": 21, \"2\": 10, \"4\": 2}, \"14\": {\"4\": 36, \"14\": 197, \"5\": 4, \"15\": 3}, \"0\": {\"0\": 217, \"8\": 23}, \"12\": {\"12\": 240}}, \"ORACLE.run1_50\": {\"15\": {\"15\": 240}, \"4\": {\"4\": 204, \"7\": 21, \"15\": 7, \"5\": 8}, \"6\": {\"6\": 236, \"15\": 3, \"5\": 1}, \"2\": {\"2\": 237, \"0\": 3}, \"5\": {\"7\": 36, \"4\": 6, \"6\": 24, \"5\": 160, \"15\": 8, \"13\": 6}, \"9\": {\"9\": 236, \"11\": 2, \"12\": 2}, \"8\": {\"8\": 240}, \"12\": {\"12\": 239, \"9\": 1}, \"10\": {\"10\": 240}, \"1\": {\"1\": 239, \"13\": 1}, \"0\": {\"0\": 233, \"2\": 6, \"10\": 1}, \"3\": {\"3\": 240}, \"13\": {\"13\": 240}, \"11\": {\"11\": 237, \"12\": 2, \"1\": 1}, \"7\": {\"7\": 237, \"4\": 2, \"5\": 1}, \"14\": {\"14\": 240}}, \"ORACLE.run1_38\": {\"15\": {\"15\": 233, \"8\": 4, \"5\": 2, \"1\": 1}, \"11\": {\"11\": 239, \"3\": 1}, \"10\": {\"10\": 223, \"13\": 15, \"0\": 2}, \"14\": {\"14\": 232, \"2\": 8}, \"6\": {\"6\": 240}, \"4\": {\"4\": 240}, \"13\": {\"13\": 219, \"10\": 18, \"0\": 1, \"2\": 2}, \"3\": {\"3\": 240}, \"7\": {\"7\": 240}, \"8\": {\"5\": 67, \"8\": 146, \"7\": 20, \"0\": 3, \"13\": 3, \"15\": 1}, \"1\": {\"1\": 240}, \"5\": {\"5\": 121, \"8\": 89, \"7\": 16, \"9\": 7, \"15\": 6, \"1\": 1}, \"0\": {\"3\": 20, \"0\": 200, \"7\": 7, \"10\": 7, \"13\": 4, \"8\": 2}, \"2\": {\"2\": 236, \"14\": 4}, \"12\": {\"12\": 240}, \"9\": {\"9\": 240}}, \"ORACLE.run1_20\": {\"10\": {\"10\": 240}, \"7\": {\"7\": 223, \"2\": 17}, \"4\": {\"4\": 240}, \"13\": {\"13\": 240}, \"1\": {\"1\": 226, \"3\": 8, \"9\": 4, \"15\": 1, \"5\": 1}, \"0\": {\"0\": 240}, \"12\": {\"12\": 232, \"2\": 8}, \"5\": {\"1\": 3, \"5\": 237}, \"6\": {\"6\": 240}, \"2\": {\"12\": 10, \"2\": 207, \"7\": 19, \"9\": 4}, \"8\": {\"8\": 237, \"14\": 3}, \"11\": {\"11\": 240}, \"9\": {\"9\": 227, \"3\": 10, \"12\": 1, \"1\": 1, \"2\": 1}, \"14\": {\"14\": 238, \"8\": 2}, \"15\": {\"15\": 225, \"1\": 14, \"5\": 1}, \"3\": {\"3\": 216, \"9\": 9, \"1\": 12, \"5\": 3}}, \"ORACLE.run1_14\": {\"14\": {\"14\": 226, \"2\": 8, \"13\": 4, \"6\": 2}, \"0\": {\"0\": 240}, \"4\": {\"4\": 238, \"5\": 2}, \"11\": {\"11\": 240}, \"13\": {\"6\": 82, \"14\": 35, \"13\": 73, \"2\": 31, \"15\": 18, \"3\": 1}, \"9\": {\"9\": 240}, \"3\": {\"3\": 240}, \"6\": {\"13\": 52, \"6\": 169, \"2\": 12, \"14\": 6, \"3\": 1}, \"1\": {\"1\": 240}, \"5\": {\"5\": 235, \"2\": 3, \"3\": 1, \"4\": 1}, \"12\": {\"12\": 240}, \"10\": {\"10\": 240}, \"8\": {\"8\": 240}, \"7\": {\"7\": 240}, \"15\": {\"15\": 240}, \"2\": {\"13\": 15, \"2\": 110, \"6\": 20, \"14\": 56, \"5\": 24, \"4\": 4, \"3\": 11}}, \"ORACLE.run1_32\": {\"11\": {\"11\": 240}, \"1\": {\"1\": 240}, \"2\": {\"2\": 225, \"4\": 15}, \"0\": {\"0\": 224, \"5\": 2, \"7\": 4, \"8\": 3, \"14\": 7}, \"3\": {\"3\": 238, \"13\": 2}, \"8\": {\"8\": 219, \"5\": 4, \"0\": 13, \"14\": 4}, \"12\": {\"12\": 240}, \"5\": {\"5\": 165, \"7\": 70, \"14\": 2, \"8\": 3}, \"15\": {\"15\": 232, \"8\": 8}, \"7\": {\"7\": 201, \"5\": 36, \"14\": 3}, \"4\": {\"4\": 221, \"13\": 3, \"2\": 16}, \"14\": {\"5\": 3, \"0\": 17, \"14\": 205, \"8\": 6, \"7\": 8, \"11\": 1}, \"10\": {\"10\": 240}, \"6\": {\"6\": 240}, \"13\": {\"13\": 225, \"4\": 4, \"3\": 11}, \"9\": {\"9\": 240}}, \"ORACLE.run1_8\": {\"9\": {\"9\": 240}, \"11\": {\"11\": 234, \"1\": 6}, \"8\": {\"8\": 240}, \"4\": {\"4\": 240}, \"13\": {\"13\": 211, \"10\": 15, \"6\": 8, \"7\": 6}, \"14\": {\"14\": 233, \"4\": 7}, \"2\": {\"2\": 204, \"3\": 23, \"7\": 11, \"12\": 2}, \"3\": {\"3\": 240}, \"1\": {\"1\": 239, \"5\": 1}, \"0\": {\"0\": 240}, \"5\": {\"5\": 217, \"1\": 9, \"10\": 10, \"14\": 3, \"11\": 1}, \"15\": {\"15\": 219, \"12\": 21}, \"10\": {\"10\": 235, \"13\": 5}, \"12\": {\"12\": 196, \"15\": 44}, \"6\": {\"6\": 223, \"7\": 17}, \"7\": {\"7\": 232, \"6\": 8}}}, \"per_domain_accuracy\": {\"ORACLE.run2_26\": {\"accuracy\": 0.9143229166666667, \"source?\": true}, \"ORACLE.run2_44\": {\"accuracy\": 0.9559895833333333, \"source?\": true}, \"ORACLE.run2_50\": {\"accuracy\": 0.98046875, \"source?\": true}, \"ORACLE.run2_38\": {\"accuracy\": 0.9393229166666667, \"source?\": true}, \"ORACLE.run2_20\": {\"accuracy\": 0.95859375, \"source?\": true}, \"ORACLE.run2_14\": {\"accuracy\": 0.95546875, \"source?\": true}, \"ORACLE.run2_32\": {\"accuracy\": 0.9872395833333333, \"source?\": true}, \"ORACLE.run2_8\": {\"accuracy\": 0.9815104166666667, \"source?\": true}, \"ORACLE.run1_26\": {\"accuracy\": 0.8927083333333333, \"source?\": false}, \"ORACLE.run1_44\": {\"accuracy\": 0.87265625, \"source?\": false}, \"ORACLE.run1_50\": {\"accuracy\": 0.9630208333333333, \"source?\": false}, \"ORACLE.run1_38\": {\"accuracy\": 0.9190104166666667, \"source?\": false}, \"ORACLE.run1_20\": {\"accuracy\": 0.965625, \"source?\": false}, \"ORACLE.run1_14\": {\"accuracy\": 0.8986979166666667, \"source?\": false}, \"ORACLE.run1_32\": {\"accuracy\": 0.9361979166666666, \"source?\": false}, \"ORACLE.run1_8\": {\"accuracy\": 0.9486979166666667, \"source?\": false}}}, \"history\": {\"epoch_indices\": [1, 2, 3, 4, 5, 6, 7, 8, 9, 10, 11, 12, 13, 14, 15], \"train_label_loss\": [0.4216280333667306, 4.363377599215939, 0.23172280094884282, 0.20437231250800236, 0.17690697620756898, 0.17416003204503103, 0.15941042489584584, 0.1419894449487661, 0.12672613757541903, 0.1217683605531593, 0.11268257111480039, 0.10715066058256915, 0.10235890042038677, 0.0984250172495974, 0.09501117951594573], \"source_val_label_loss\": [385.2447509765625, 0.3582320511341095, 0.27476924657821655, 0.18575534224510193, 0.17971636354923248, 0.19182929396629333, 0.15543971955776215, 0.15022994577884674, 0.13476446270942688, 0.1295209676027298, 0.11714935302734375, 0.12851180136203766, 0.12747535109519958, 0.12450046092271805, 0.11642969399690628], \"target_val_label_loss\": [395.0565185546875, 0.40756145119667053, 0.35168951749801636, 0.29274556040763855, 0.2824791669845581, 0.25936609506607056, 0.2679131031036377, 0.26963865756988525, 0.27248120307922363, 0.26364099979400635, 0.2786792814731598, 0.269845575094223, 0.28669971227645874, 0.29745572805404663, 0.275390625], \"source_val_acc_label\": [0.6395833333333333, 0.8876302083333333, 0.9106119791666667, 0.9383463541666667, 0.94072265625, 0.9382161458333333, 0.9486328125, 0.9474283854166666, 0.9537109375, 0.9548502604166667, 0.9591145833333333, 0.9543619791666667, 0.9560546875, 0.9581705729166666, 0.9583333333333334], \"target_val_acc_label\": [0.6146484375, 0.87119140625, 0.8893229166666666, 0.9138997395833334, 0.9167317708333333, 0.9231770833333334, 0.92333984375, 0.9197916666666667, 0.9204752604166667, 0.9229817708333333, 0.9245768229166667, 0.921875, 0.9197916666666667, 0.9214518229166667, 0.9236002604166667]}, \"dataset_metrics\": {\"source\": {\"train\": {\"n_unique_x\": 179200, \"n_unique_y\": 16, \"n_batch/episode\": 6720}, \"val\": {\"n_unique_x\": 38400, \"n_unique_y\": 16, \"n_batch/episode\": 960}, \"test\": {\"n_unique_x\": 38400, \"n_unique_y\": 16, \"n_batch/episode\": 960}}, \"target\": {\"train\": {\"n_unique_x\": 179200, \"n_unique_y\": 16, \"n_batch/episode\": 6720}, \"val\": {\"n_unique_x\": 38400, \"n_unique_y\": 16, \"n_batch/episode\": 960}, \"test\": {\"n_unique_x\": 38400, \"n_unique_y\": 16, \"n_batch/episode\": 960}}}}'"
      ]
     },
     "execution_count": 29,
     "metadata": {},
     "output_type": "execute_result"
    }
   ],
   "source": [
    "json.dumps(experiment)"
   ]
  }
 ],
 "metadata": {
  "celltoolbar": "Tags",
  "kernelspec": {
   "display_name": "Python 3 (ipykernel)",
   "language": "python",
   "name": "python3"
  },
  "language_info": {
   "codemirror_mode": {
    "name": "ipython",
    "version": 3
   },
   "file_extension": ".py",
   "mimetype": "text/x-python",
   "name": "python",
   "nbconvert_exporter": "python",
   "pygments_lexer": "ipython3",
   "version": "3.8.12"
  },
  "papermill": {
   "default_parameters": {},
   "duration": 4045.479974,
   "end_time": "2022-03-22T05:18:44.965055",
   "environment_variables": {},
   "exception": null,
   "input_path": "/root/csc500-main/csc500-notebooks/templates/tl_ptn_template.ipynb",
   "output_path": "trial.ipynb",
   "parameters": {
    "parameters": {
     "BEST_MODEL_PATH": "./best_model.pth",
     "NUM_LOGS_PER_EPOCH": 10,
     "criteria_for_best": "target_accuracy",
     "dataset_seed": 7,
     "datasets": [
      {
       "domain_prefix": "ORACLE.run1_",
       "domains": [
        32,
        38,
        8,
        44,
        14,
        50,
        20,
        26
       ],
       "episode_transforms": [],
       "labels": [
        "3123D52",
        "3123D65",
        "3123D79",
        "3123D80",
        "3123D54",
        "3123D70",
        "3123D7B",
        "3123D89",
        "3123D58",
        "3123D76",
        "3123D7D",
        "3123EFE",
        "3123D64",
        "3123D78",
        "3123D7E",
        "3124E4A"
       ],
       "num_examples_per_domain_per_label": 2000,
       "pickle_path": "/root/csc500-main/datasets/oracle.Run1_framed_2000Examples_stratified_ds.2022A.pkl",
       "source_or_target_dataset": "target",
       "x_transforms": []
      },
      {
       "domain_prefix": "ORACLE.run2_",
       "domains": [
        32,
        38,
        8,
        44,
        14,
        50,
        20,
        26
       ],
       "episode_transforms": [],
       "labels": [
        "3123D52",
        "3123D65",
        "3123D79",
        "3123D80",
        "3123D54",
        "3123D70",
        "3123D7B",
        "3123D89",
        "3123D58",
        "3123D76",
        "3123D7D",
        "3123EFE",
        "3123D64",
        "3123D78",
        "3123D7E",
        "3124E4A"
       ],
       "num_examples_per_domain_per_label": 2000,
       "pickle_path": "/root/csc500-main/datasets/oracle.Run2_framed_2000Examples_stratified_ds.2022A.pkl",
       "source_or_target_dataset": "source",
       "x_transforms": []
      }
     ],
     "device": "cuda",
     "experiment_name": "tl_1v2:oracle.run1.framed-oracle.run2.framed",
     "lr": 0.0001,
     "n_epoch": 50,
     "n_query": 2,
     "n_shot": 3,
     "n_way": 16,
     "patience": 3,
     "seed": 7,
     "test_k_factor": 2,
     "torch_default_dtype": "torch.float32",
     "train_k_factor": 3,
     "val_k_factor": 2,
     "x_net": [
      {
       "class": "nnReshape",
       "kargs": {
        "shape": [
         -1,
         1,
         2,
         256
        ]
       }
      },
      {
       "class": "Conv2d",
       "kargs": {
        "bias": false,
        "in_channels": 1,
        "kernel_size": [
         1,
         7
        ],
        "out_channels": 256,
        "padding": [
         0,
         3
        ]
       }
      },
      {
       "class": "ReLU",
       "kargs": {
        "inplace": true
       }
      },
      {
       "class": "BatchNorm2d",
       "kargs": {
        "num_features": 256
       }
      },
      {
       "class": "Conv2d",
       "kargs": {
        "bias": true,
        "in_channels": 256,
        "kernel_size": [
         2,
         7
        ],
        "out_channels": 80,
        "padding": [
         0,
         3
        ]
       }
      },
      {
       "class": "ReLU",
       "kargs": {
        "inplace": true
       }
      },
      {
       "class": "BatchNorm2d",
       "kargs": {
        "num_features": 80
       }
      },
      {
       "class": "Flatten",
       "kargs": {}
      },
      {
       "class": "Linear",
       "kargs": {
        "in_features": 20480,
        "out_features": 256
       }
      },
      {
       "class": "ReLU",
       "kargs": {
        "inplace": true
       }
      },
      {
       "class": "BatchNorm1d",
       "kargs": {
        "num_features": 256
       }
      },
      {
       "class": "Linear",
       "kargs": {
        "in_features": 256,
        "out_features": 256
       }
      }
     ]
    }
   },
   "start_time": "2022-03-22T04:11:19.485081",
   "version": "2.3.4"
  }
 },
 "nbformat": 4,
 "nbformat_minor": 5
}