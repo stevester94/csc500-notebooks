{
 "cells": [
  {
   "cell_type": "markdown",
   "id": "9fea5f46",
   "metadata": {
    "papermill": {
     "duration": 0.028128,
     "end_time": "2022-03-21T12:40:57.494609",
     "exception": false,
     "start_time": "2022-03-21T12:40:57.466481",
     "status": "completed"
    },
    "tags": []
   },
   "source": [
    "# Transfer Learning Template"
   ]
  },
  {
   "cell_type": "code",
   "execution_count": 1,
   "id": "0902182a",
   "metadata": {
    "execution": {
     "iopub.execute_input": "2022-03-21T12:40:57.557128Z",
     "iopub.status.busy": "2022-03-21T12:40:57.554784Z",
     "iopub.status.idle": "2022-03-21T12:40:59.422592Z",
     "shell.execute_reply": "2022-03-21T12:40:59.422139Z"
    },
    "papermill": {
     "duration": 1.90623,
     "end_time": "2022-03-21T12:40:59.422700",
     "exception": false,
     "start_time": "2022-03-21T12:40:57.516470",
     "status": "completed"
    },
    "tags": []
   },
   "outputs": [],
   "source": [
    "%load_ext autoreload\n",
    "%autoreload 2\n",
    "%matplotlib inline\n",
    "\n",
    "    \n",
    "import os, json, sys, time, random\n",
    "import numpy as np\n",
    "import torch\n",
    "from torch.optim import Adam\n",
    "from  easydict import EasyDict\n",
    "import matplotlib.pyplot as plt\n",
    "\n",
    "from steves_models.steves_ptn import Steves_Prototypical_Network\n",
    "\n",
    "from steves_utils.lazy_iterable_wrapper import Lazy_Iterable_Wrapper\n",
    "from steves_utils.iterable_aggregator import Iterable_Aggregator\n",
    "from steves_utils.ptn_train_eval_test_jig import  PTN_Train_Eval_Test_Jig\n",
    "from steves_utils.torch_sequential_builder import build_sequential\n",
    "from steves_utils.torch_utils import get_dataset_metrics, ptn_confusion_by_domain_over_dataloader\n",
    "from steves_utils.utils_v2 import (per_domain_accuracy_from_confusion, get_datasets_base_path)\n",
    "from steves_utils.PTN.utils import independent_accuracy_assesment\n",
    "\n",
    "from torch.utils.data import DataLoader\n",
    "\n",
    "from steves_utils.stratified_dataset.episodic_accessor import Episodic_Accessor_Factory\n",
    "\n",
    "from steves_utils.ptn_do_report import (\n",
    "    get_loss_curve,\n",
    "    get_results_table,\n",
    "    get_parameters_table,\n",
    "    get_domain_accuracies,\n",
    ")\n",
    "\n",
    "from steves_utils.transforms import get_chained_transform"
   ]
  },
  {
   "cell_type": "markdown",
   "id": "41c840b4",
   "metadata": {
    "papermill": {
     "duration": 0.01907,
     "end_time": "2022-03-21T12:40:59.461810",
     "exception": false,
     "start_time": "2022-03-21T12:40:59.442740",
     "status": "completed"
    },
    "tags": []
   },
   "source": [
    "# Allowed Parameters\n",
    "These are allowed parameters, not defaults\n",
    "Each of these values need to be present in the injected parameters (the notebook will raise an exception if they are not present)\n",
    "\n",
    "Papermill uses the cell tag \"parameters\" to inject the real parameters below this cell.\n",
    "Enable tags to see what I mean"
   ]
  },
  {
   "cell_type": "code",
   "execution_count": 2,
   "id": "fd44eb83",
   "metadata": {
    "execution": {
     "iopub.execute_input": "2022-03-21T12:40:59.505571Z",
     "iopub.status.busy": "2022-03-21T12:40:59.505194Z",
     "iopub.status.idle": "2022-03-21T12:40:59.528004Z",
     "shell.execute_reply": "2022-03-21T12:40:59.527636Z"
    },
    "papermill": {
     "duration": 0.047191,
     "end_time": "2022-03-21T12:40:59.528075",
     "exception": false,
     "start_time": "2022-03-21T12:40:59.480884",
     "status": "completed"
    },
    "tags": []
   },
   "outputs": [],
   "source": [
    "required_parameters = {\n",
    "    \"experiment_name\",\n",
    "    \"lr\",\n",
    "    \"device\",\n",
    "    \"seed\",\n",
    "    \"dataset_seed\",\n",
    "    \"n_shot\",\n",
    "    \"n_query\",\n",
    "    \"n_way\",\n",
    "    \"train_k_factor\",\n",
    "    \"val_k_factor\",\n",
    "    \"test_k_factor\",\n",
    "    \"n_epoch\",\n",
    "    \"patience\",\n",
    "    \"criteria_for_best\",\n",
    "    \"x_net\",\n",
    "    \"datasets\",\n",
    "    \"torch_default_dtype\",\n",
    "    \"NUM_LOGS_PER_EPOCH\",\n",
    "    \"BEST_MODEL_PATH\",\n",
    "    \"x_shape\",\n",
    "}"
   ]
  },
  {
   "cell_type": "code",
   "execution_count": 3,
   "id": "fa3f0049",
   "metadata": {
    "execution": {
     "iopub.execute_input": "2022-03-21T12:40:59.584365Z",
     "iopub.status.busy": "2022-03-21T12:40:59.583397Z",
     "iopub.status.idle": "2022-03-21T12:40:59.605357Z",
     "shell.execute_reply": "2022-03-21T12:40:59.604574Z"
    },
    "papermill": {
     "duration": 0.058096,
     "end_time": "2022-03-21T12:40:59.605519",
     "exception": false,
     "start_time": "2022-03-21T12:40:59.547423",
     "status": "completed"
    },
    "tags": [
     "parameters"
    ]
   },
   "outputs": [],
   "source": [
    "from steves_utils.CORES.utils import (\n",
    "    ALL_NODES,\n",
    "    ALL_NODES_MINIMUM_1000_EXAMPLES,\n",
    "    ALL_DAYS\n",
    ")\n",
    "\n",
    "from steves_utils.ORACLE.utils_v2 import (\n",
    "    ALL_DISTANCES_FEET_NARROWED,\n",
    "    ALL_RUNS,\n",
    "    ALL_SERIAL_NUMBERS,\n",
    ")\n",
    "\n",
    "standalone_parameters = {}\n",
    "standalone_parameters[\"experiment_name\"] = \"STANDALONE PTN\"\n",
    "standalone_parameters[\"lr\"] = 0.001\n",
    "standalone_parameters[\"device\"] = \"cuda\"\n",
    "\n",
    "standalone_parameters[\"seed\"] = 1337\n",
    "standalone_parameters[\"dataset_seed\"] = 1337\n",
    "\n",
    "standalone_parameters[\"n_way\"] = 8\n",
    "standalone_parameters[\"n_shot\"] = 3\n",
    "standalone_parameters[\"n_query\"]  = 2\n",
    "standalone_parameters[\"train_k_factor\"] = 1\n",
    "standalone_parameters[\"val_k_factor\"] = 2\n",
    "standalone_parameters[\"test_k_factor\"] = 2\n",
    "\n",
    "\n",
    "standalone_parameters[\"n_epoch\"] = 50\n",
    "\n",
    "standalone_parameters[\"patience\"] = 10\n",
    "standalone_parameters[\"criteria_for_best\"] = \"source_loss\"\n",
    "\n",
    "standalone_parameters[\"datasets\"] = [\n",
    "    {\n",
    "        \"labels\": ALL_SERIAL_NUMBERS,\n",
    "        \"domains\": ALL_DISTANCES_FEET_NARROWED,\n",
    "        \"num_examples_per_domain_per_label\": 100,\n",
    "        \"pickle_path\": os.path.join(get_datasets_base_path(), \"oracle.Run1_framed_2000Examples_stratified_ds.2022A.pkl\"),\n",
    "        \"source_or_target_dataset\": \"source\",\n",
    "        \"x_transforms\": [\"unit_mag\", \"minus_two\"],\n",
    "        \"episode_transforms\": [],\n",
    "        \"domain_prefix\": \"ORACLE_\"\n",
    "    },\n",
    "    {\n",
    "        \"labels\": ALL_NODES,\n",
    "        \"domains\": ALL_DAYS,\n",
    "        \"num_examples_per_domain_per_label\": 100,\n",
    "        \"pickle_path\": os.path.join(get_datasets_base_path(), \"cores.stratified_ds.2022A.pkl\"),\n",
    "        \"source_or_target_dataset\": \"target\",\n",
    "        \"x_transforms\": [\"unit_power\", \"times_zero\"],\n",
    "        \"episode_transforms\": [],\n",
    "        \"domain_prefix\": \"CORES_\"\n",
    "    }   \n",
    "]\n",
    "\n",
    "standalone_parameters[\"torch_default_dtype\"] = \"torch.float32\" \n",
    "\n",
    "\n",
    "\n",
    "standalone_parameters[\"x_net\"] =     [\n",
    "    {\"class\": \"nnReshape\", \"kargs\": {\"shape\":[-1, 1, 2, 256]}},\n",
    "    {\"class\": \"Conv2d\", \"kargs\": { \"in_channels\":1, \"out_channels\":256, \"kernel_size\":(1,7), \"bias\":False, \"padding\":(0,3), },},\n",
    "    {\"class\": \"ReLU\", \"kargs\": {\"inplace\": True}},\n",
    "    {\"class\": \"BatchNorm2d\", \"kargs\": {\"num_features\":256}},\n",
    "\n",
    "    {\"class\": \"Conv2d\", \"kargs\": { \"in_channels\":256, \"out_channels\":80, \"kernel_size\":(2,7), \"bias\":True, \"padding\":(0,3), },},\n",
    "    {\"class\": \"ReLU\", \"kargs\": {\"inplace\": True}},\n",
    "    {\"class\": \"BatchNorm2d\", \"kargs\": {\"num_features\":80}},\n",
    "    {\"class\": \"Flatten\", \"kargs\": {}},\n",
    "\n",
    "    {\"class\": \"Linear\", \"kargs\": {\"in_features\": 80*256, \"out_features\": 256}}, # 80 units per IQ pair\n",
    "    {\"class\": \"ReLU\", \"kargs\": {\"inplace\": True}},\n",
    "    {\"class\": \"BatchNorm1d\", \"kargs\": {\"num_features\":256}},\n",
    "\n",
    "    {\"class\": \"Linear\", \"kargs\": {\"in_features\": 256, \"out_features\": 256}},\n",
    "]\n",
    "\n",
    "# Parameters relevant to results\n",
    "# These parameters will basically never need to change\n",
    "standalone_parameters[\"NUM_LOGS_PER_EPOCH\"] = 10\n",
    "standalone_parameters[\"BEST_MODEL_PATH\"] = \"./best_model.pth\"\n",
    "\n",
    "\n",
    "\n",
    "\n"
   ]
  },
  {
   "cell_type": "code",
   "execution_count": 4,
   "id": "a6e59bc5",
   "metadata": {
    "execution": {
     "iopub.execute_input": "2022-03-21T12:40:59.661421Z",
     "iopub.status.busy": "2022-03-21T12:40:59.660484Z",
     "iopub.status.idle": "2022-03-21T12:40:59.682064Z",
     "shell.execute_reply": "2022-03-21T12:40:59.681299Z"
    },
    "papermill": {
     "duration": 0.052485,
     "end_time": "2022-03-21T12:40:59.682223",
     "exception": false,
     "start_time": "2022-03-21T12:40:59.629738",
     "status": "completed"
    },
    "tags": [
     "injected-parameters"
    ]
   },
   "outputs": [],
   "source": [
    "# Parameters\n",
    "parameters = {\n",
    "    \"experiment_name\": \"tl_1v2:oracle.run1.framed-oracle.run2.framed\",\n",
    "    \"device\": \"cuda\",\n",
    "    \"lr\": 0.0001,\n",
    "    \"n_shot\": 3,\n",
    "    \"n_query\": 2,\n",
    "    \"train_k_factor\": 3,\n",
    "    \"val_k_factor\": 2,\n",
    "    \"test_k_factor\": 2,\n",
    "    \"torch_default_dtype\": \"torch.float32\",\n",
    "    \"n_epoch\": 50,\n",
    "    \"patience\": 3,\n",
    "    \"criteria_for_best\": \"target_accuracy\",\n",
    "    \"x_net\": [\n",
    "        {\"class\": \"nnReshape\", \"kargs\": {\"shape\": [-1, 1, 2, 256]}},\n",
    "        {\n",
    "            \"class\": \"Conv2d\",\n",
    "            \"kargs\": {\n",
    "                \"in_channels\": 1,\n",
    "                \"out_channels\": 256,\n",
    "                \"kernel_size\": [1, 7],\n",
    "                \"bias\": False,\n",
    "                \"padding\": [0, 3],\n",
    "            },\n",
    "        },\n",
    "        {\"class\": \"ReLU\", \"kargs\": {\"inplace\": True}},\n",
    "        {\"class\": \"BatchNorm2d\", \"kargs\": {\"num_features\": 256}},\n",
    "        {\n",
    "            \"class\": \"Conv2d\",\n",
    "            \"kargs\": {\n",
    "                \"in_channels\": 256,\n",
    "                \"out_channels\": 80,\n",
    "                \"kernel_size\": [2, 7],\n",
    "                \"bias\": True,\n",
    "                \"padding\": [0, 3],\n",
    "            },\n",
    "        },\n",
    "        {\"class\": \"ReLU\", \"kargs\": {\"inplace\": True}},\n",
    "        {\"class\": \"BatchNorm2d\", \"kargs\": {\"num_features\": 80}},\n",
    "        {\"class\": \"Flatten\", \"kargs\": {}},\n",
    "        {\"class\": \"Linear\", \"kargs\": {\"in_features\": 20480, \"out_features\": 256}},\n",
    "        {\"class\": \"ReLU\", \"kargs\": {\"inplace\": True}},\n",
    "        {\"class\": \"BatchNorm1d\", \"kargs\": {\"num_features\": 256}},\n",
    "        {\"class\": \"Linear\", \"kargs\": {\"in_features\": 256, \"out_features\": 256}},\n",
    "    ],\n",
    "    \"NUM_LOGS_PER_EPOCH\": 10,\n",
    "    \"BEST_MODEL_PATH\": \"./best_model.pth\",\n",
    "    \"n_way\": 16,\n",
    "    \"datasets\": [\n",
    "        {\n",
    "            \"labels\": [\n",
    "                \"3123D52\",\n",
    "                \"3123D65\",\n",
    "                \"3123D79\",\n",
    "                \"3123D80\",\n",
    "                \"3123D54\",\n",
    "                \"3123D70\",\n",
    "                \"3123D7B\",\n",
    "                \"3123D89\",\n",
    "                \"3123D58\",\n",
    "                \"3123D76\",\n",
    "                \"3123D7D\",\n",
    "                \"3123EFE\",\n",
    "                \"3123D64\",\n",
    "                \"3123D78\",\n",
    "                \"3123D7E\",\n",
    "                \"3124E4A\",\n",
    "            ],\n",
    "            \"domains\": [32, 38, 8, 44, 14, 50, 20, 26],\n",
    "            \"num_examples_per_domain_per_label\": 2000,\n",
    "            \"pickle_path\": \"/root/csc500-main/datasets/oracle.Run1_framed_2000Examples_stratified_ds.2022A.pkl\",\n",
    "            \"source_or_target_dataset\": \"target\",\n",
    "            \"x_transforms\": [\"unit_power\"],\n",
    "            \"episode_transforms\": [],\n",
    "            \"domain_prefix\": \"ORACLE.run1_\",\n",
    "        },\n",
    "        {\n",
    "            \"labels\": [\n",
    "                \"3123D52\",\n",
    "                \"3123D65\",\n",
    "                \"3123D79\",\n",
    "                \"3123D80\",\n",
    "                \"3123D54\",\n",
    "                \"3123D70\",\n",
    "                \"3123D7B\",\n",
    "                \"3123D89\",\n",
    "                \"3123D58\",\n",
    "                \"3123D76\",\n",
    "                \"3123D7D\",\n",
    "                \"3123EFE\",\n",
    "                \"3123D64\",\n",
    "                \"3123D78\",\n",
    "                \"3123D7E\",\n",
    "                \"3124E4A\",\n",
    "            ],\n",
    "            \"domains\": [32, 38, 8, 44, 14, 50, 20, 26],\n",
    "            \"num_examples_per_domain_per_label\": 2000,\n",
    "            \"pickle_path\": \"/root/csc500-main/datasets/oracle.Run2_framed_2000Examples_stratified_ds.2022A.pkl\",\n",
    "            \"source_or_target_dataset\": \"source\",\n",
    "            \"x_transforms\": [\"unit_power\"],\n",
    "            \"episode_transforms\": [],\n",
    "            \"domain_prefix\": \"ORACLE.run2_\",\n",
    "        },\n",
    "    ],\n",
    "    \"dataset_seed\": 420,\n",
    "    \"seed\": 420,\n",
    "}\n"
   ]
  },
  {
   "cell_type": "code",
   "execution_count": 5,
   "id": "8fa1cc33",
   "metadata": {
    "execution": {
     "iopub.execute_input": "2022-03-21T12:40:59.732610Z",
     "iopub.status.busy": "2022-03-21T12:40:59.731467Z",
     "iopub.status.idle": "2022-03-21T12:40:59.752979Z",
     "shell.execute_reply": "2022-03-21T12:40:59.752180Z"
    },
    "papermill": {
     "duration": 0.046682,
     "end_time": "2022-03-21T12:40:59.753132",
     "exception": false,
     "start_time": "2022-03-21T12:40:59.706450",
     "status": "completed"
    },
    "tags": []
   },
   "outputs": [],
   "source": [
    "# Set this to True if you want to run this template directly\n",
    "STANDALONE = False\n",
    "if STANDALONE:\n",
    "    print(\"parameters not injected, running with standalone_parameters\")\n",
    "    parameters = standalone_parameters\n",
    "\n",
    "if not 'parameters' in locals() and not 'parameters' in globals():\n",
    "    raise Exception(\"Parameter injection failed\")\n",
    "\n",
    "#Use an easy dict for all the parameters\n",
    "p = EasyDict(parameters)\n",
    "\n",
    "if \"x_shape\" not in p:\n",
    "    p.x_shape = [2,256] # Default to this if we dont supply x_shape\n",
    "\n",
    "\n",
    "supplied_keys = set(p.keys())\n",
    "\n",
    "if  supplied_keys != required_parameters:\n",
    "    print(\"Parameters are incorrect\")\n",
    "    if len(supplied_keys - required_parameters)>0: print(\"Shouldn't have:\", str(supplied_keys - required_parameters))\n",
    "    if len(required_parameters - supplied_keys)>0: print(\"Need to have:\", str(required_parameters - supplied_keys))\n",
    "    raise RuntimeError(\"Parameters are incorrect\")"
   ]
  },
  {
   "cell_type": "code",
   "execution_count": 6,
   "id": "3a028d58",
   "metadata": {
    "execution": {
     "iopub.execute_input": "2022-03-21T12:40:59.799358Z",
     "iopub.status.busy": "2022-03-21T12:40:59.798920Z",
     "iopub.status.idle": "2022-03-21T12:40:59.817318Z",
     "shell.execute_reply": "2022-03-21T12:40:59.816511Z"
    },
    "papermill": {
     "duration": 0.039453,
     "end_time": "2022-03-21T12:40:59.817470",
     "exception": false,
     "start_time": "2022-03-21T12:40:59.778017",
     "status": "completed"
    },
    "tags": []
   },
   "outputs": [],
   "source": [
    "###################################\n",
    "# Set the RNGs and make it all deterministic\n",
    "###################################\n",
    "np.random.seed(p.seed)\n",
    "random.seed(p.seed)\n",
    "torch.manual_seed(p.seed)\n",
    "\n",
    "torch.use_deterministic_algorithms(True) "
   ]
  },
  {
   "cell_type": "code",
   "execution_count": 7,
   "id": "b691acf6",
   "metadata": {
    "execution": {
     "iopub.execute_input": "2022-03-21T12:40:59.864676Z",
     "iopub.status.busy": "2022-03-21T12:40:59.862567Z",
     "iopub.status.idle": "2022-03-21T12:40:59.886014Z",
     "shell.execute_reply": "2022-03-21T12:40:59.885224Z"
    },
    "papermill": {
     "duration": 0.044216,
     "end_time": "2022-03-21T12:40:59.886169",
     "exception": false,
     "start_time": "2022-03-21T12:40:59.841953",
     "status": "completed"
    },
    "tags": []
   },
   "outputs": [],
   "source": [
    "###########################################\n",
    "# The stratified datasets honor this\n",
    "###########################################\n",
    "torch.set_default_dtype(eval(p.torch_default_dtype))"
   ]
  },
  {
   "cell_type": "code",
   "execution_count": 8,
   "id": "b5fba671",
   "metadata": {
    "execution": {
     "iopub.execute_input": "2022-03-21T12:40:59.931118Z",
     "iopub.status.busy": "2022-03-21T12:40:59.930760Z",
     "iopub.status.idle": "2022-03-21T12:40:59.982564Z",
     "shell.execute_reply": "2022-03-21T12:40:59.981869Z"
    },
    "papermill": {
     "duration": 0.072729,
     "end_time": "2022-03-21T12:40:59.982714",
     "exception": false,
     "start_time": "2022-03-21T12:40:59.909985",
     "status": "completed"
    },
    "tags": []
   },
   "outputs": [],
   "source": [
    "###################################\n",
    "# Build the network(s)\n",
    "# Note: It's critical to do this AFTER setting the RNG\n",
    "###################################\n",
    "x_net = build_sequential(p.x_net)"
   ]
  },
  {
   "cell_type": "code",
   "execution_count": 9,
   "id": "5d7e61cc",
   "metadata": {
    "execution": {
     "iopub.execute_input": "2022-03-21T12:41:00.032860Z",
     "iopub.status.busy": "2022-03-21T12:41:00.032504Z",
     "iopub.status.idle": "2022-03-21T12:41:00.058704Z",
     "shell.execute_reply": "2022-03-21T12:41:00.057909Z"
    },
    "papermill": {
     "duration": 0.049348,
     "end_time": "2022-03-21T12:41:00.058853",
     "exception": false,
     "start_time": "2022-03-21T12:41:00.009505",
     "status": "completed"
    },
    "tags": []
   },
   "outputs": [],
   "source": [
    "start_time_secs = time.time()"
   ]
  },
  {
   "cell_type": "code",
   "execution_count": 10,
   "id": "c6b67dfd",
   "metadata": {
    "execution": {
     "iopub.execute_input": "2022-03-21T12:41:00.107020Z",
     "iopub.status.busy": "2022-03-21T12:41:00.105431Z",
     "iopub.status.idle": "2022-03-21T12:41:00.125229Z",
     "shell.execute_reply": "2022-03-21T12:41:00.124437Z"
    },
    "papermill": {
     "duration": 0.042171,
     "end_time": "2022-03-21T12:41:00.125380",
     "exception": false,
     "start_time": "2022-03-21T12:41:00.083209",
     "status": "completed"
    },
    "tags": []
   },
   "outputs": [],
   "source": [
    "p.domains_source = []\n",
    "p.domains_target = []\n",
    "\n",
    "\n",
    "train_original_source = []\n",
    "val_original_source   = []\n",
    "test_original_source  = []\n",
    "\n",
    "train_original_target = []\n",
    "val_original_target   = []\n",
    "test_original_target  = []"
   ]
  },
  {
   "cell_type": "code",
   "execution_count": 11,
   "id": "e3d9c3d3",
   "metadata": {
    "execution": {
     "iopub.execute_input": "2022-03-21T12:41:00.172271Z",
     "iopub.status.busy": "2022-03-21T12:41:00.171864Z",
     "iopub.status.idle": "2022-03-21T12:41:00.193425Z",
     "shell.execute_reply": "2022-03-21T12:41:00.192631Z"
    },
    "papermill": {
     "duration": 0.043617,
     "end_time": "2022-03-21T12:41:00.193576",
     "exception": false,
     "start_time": "2022-03-21T12:41:00.149959",
     "status": "completed"
    },
    "tags": []
   },
   "outputs": [],
   "source": [
    "# global_x_transform_func = lambda x: normalize(x.to(torch.get_default_dtype()), \"unit_power\") # unit_power, unit_mag\n",
    "# global_x_transform_func = lambda x: normalize(x, \"unit_power\") # unit_power, unit_mag"
   ]
  },
  {
   "cell_type": "code",
   "execution_count": 12,
   "id": "acb78fd2",
   "metadata": {
    "execution": {
     "iopub.execute_input": "2022-03-21T12:41:00.244759Z",
     "iopub.status.busy": "2022-03-21T12:41:00.244187Z",
     "iopub.status.idle": "2022-03-21T12:41:00.263028Z",
     "shell.execute_reply": "2022-03-21T12:41:00.262229Z"
    },
    "papermill": {
     "duration": 0.044755,
     "end_time": "2022-03-21T12:41:00.263185",
     "exception": false,
     "start_time": "2022-03-21T12:41:00.218430",
     "status": "completed"
    },
    "tags": []
   },
   "outputs": [],
   "source": [
    "def add_dataset(\n",
    "    labels,\n",
    "    domains,\n",
    "    pickle_path,\n",
    "    x_transforms,\n",
    "    episode_transforms,\n",
    "    domain_prefix,\n",
    "    num_examples_per_domain_per_label,\n",
    "    source_or_target_dataset:str,\n",
    "    iterator_seed=p.seed,\n",
    "    dataset_seed=p.dataset_seed,\n",
    "    n_shot=p.n_shot,\n",
    "    n_way=p.n_way,\n",
    "    n_query=p.n_query,\n",
    "    train_val_test_k_factors=(p.train_k_factor,p.val_k_factor,p.test_k_factor),\n",
    "):\n",
    "   \n",
    "    if x_transforms == []: x_transform = None\n",
    "    else: x_transform = get_chained_transform(x_transforms)\n",
    "    \n",
    "    if episode_transforms == []: episode_transform = None\n",
    "    else: raise Exception(\"episode_transforms not implemented\")\n",
    "    \n",
    "    episode_transform = lambda tup, _prefix=domain_prefix: (_prefix + str(tup[0]), tup[1])\n",
    "\n",
    "\n",
    "    eaf = Episodic_Accessor_Factory(\n",
    "        labels=labels,\n",
    "        domains=domains,\n",
    "        num_examples_per_domain_per_label=num_examples_per_domain_per_label,\n",
    "        iterator_seed=iterator_seed,\n",
    "        dataset_seed=dataset_seed,\n",
    "        n_shot=n_shot,\n",
    "        n_way=n_way,\n",
    "        n_query=n_query,\n",
    "        train_val_test_k_factors=train_val_test_k_factors,\n",
    "        pickle_path=pickle_path,\n",
    "        x_transform_func=x_transform,\n",
    "    )\n",
    "\n",
    "    train, val, test = eaf.get_train(), eaf.get_val(), eaf.get_test()\n",
    "    train = Lazy_Iterable_Wrapper(train, episode_transform)\n",
    "    val = Lazy_Iterable_Wrapper(val, episode_transform)\n",
    "    test = Lazy_Iterable_Wrapper(test, episode_transform)\n",
    "\n",
    "    if source_or_target_dataset==\"source\":\n",
    "        train_original_source.append(train)\n",
    "        val_original_source.append(val)\n",
    "        test_original_source.append(test)\n",
    "\n",
    "        p.domains_source.extend(\n",
    "            [domain_prefix + str(u) for u in domains]\n",
    "        )\n",
    "    elif source_or_target_dataset==\"target\":\n",
    "        train_original_target.append(train)\n",
    "        val_original_target.append(val)\n",
    "        test_original_target.append(test)\n",
    "        p.domains_target.extend(\n",
    "            [domain_prefix + str(u) for u in domains]\n",
    "        )\n",
    "    else:\n",
    "        raise Exception(f\"invalid source_or_target_dataset: {source_or_target_dataset}\")\n",
    "    "
   ]
  },
  {
   "cell_type": "code",
   "execution_count": 13,
   "id": "fe266617",
   "metadata": {
    "execution": {
     "iopub.execute_input": "2022-03-21T12:41:00.314307Z",
     "iopub.status.busy": "2022-03-21T12:41:00.313950Z",
     "iopub.status.idle": "2022-03-21T12:41:42.928214Z",
     "shell.execute_reply": "2022-03-21T12:41:42.927389Z"
    },
    "papermill": {
     "duration": 42.636355,
     "end_time": "2022-03-21T12:41:42.928407",
     "exception": false,
     "start_time": "2022-03-21T12:41:00.292052",
     "status": "completed"
    },
    "tags": []
   },
   "outputs": [],
   "source": [
    "for ds in p.datasets:\n",
    "    add_dataset(**ds)"
   ]
  },
  {
   "cell_type": "code",
   "execution_count": 14,
   "id": "b90d65ac",
   "metadata": {
    "execution": {
     "iopub.execute_input": "2022-03-21T12:41:42.978216Z",
     "iopub.status.busy": "2022-03-21T12:41:42.977769Z",
     "iopub.status.idle": "2022-03-21T12:41:43.002980Z",
     "shell.execute_reply": "2022-03-21T12:41:43.002222Z"
    },
    "papermill": {
     "duration": 0.049186,
     "end_time": "2022-03-21T12:41:43.003162",
     "exception": false,
     "start_time": "2022-03-21T12:41:42.953976",
     "status": "completed"
    },
    "tags": []
   },
   "outputs": [],
   "source": [
    "# from steves_utils.CORES.utils import (\n",
    "#     ALL_NODES,\n",
    "#     ALL_NODES_MINIMUM_1000_EXAMPLES,\n",
    "#     ALL_DAYS\n",
    "# )\n",
    "\n",
    "# add_dataset(\n",
    "#     labels=ALL_NODES,\n",
    "#     domains = ALL_DAYS,\n",
    "#     num_examples_per_domain_per_label=100,\n",
    "#     pickle_path=os.path.join(get_datasets_base_path(), \"cores.stratified_ds.2022A.pkl\"),\n",
    "#     source_or_target_dataset=\"target\",\n",
    "#     x_transform_func=global_x_transform_func,\n",
    "#     domain_modifier=lambda u: f\"cores_{u}\"\n",
    "# )"
   ]
  },
  {
   "cell_type": "code",
   "execution_count": 15,
   "id": "76db484d",
   "metadata": {
    "execution": {
     "iopub.execute_input": "2022-03-21T12:41:43.061837Z",
     "iopub.status.busy": "2022-03-21T12:41:43.055356Z",
     "iopub.status.idle": "2022-03-21T12:41:43.082280Z",
     "shell.execute_reply": "2022-03-21T12:41:43.081447Z"
    },
    "papermill": {
     "duration": 0.050529,
     "end_time": "2022-03-21T12:41:43.082461",
     "exception": false,
     "start_time": "2022-03-21T12:41:43.031932",
     "status": "completed"
    },
    "tags": []
   },
   "outputs": [],
   "source": [
    "# from steves_utils.ORACLE.utils_v2 import (\n",
    "#     ALL_DISTANCES_FEET,\n",
    "#     ALL_RUNS,\n",
    "#     ALL_SERIAL_NUMBERS,\n",
    "# )\n",
    "\n",
    "\n",
    "# add_dataset(\n",
    "#     labels=ALL_SERIAL_NUMBERS,\n",
    "#     domains = list(set(ALL_DISTANCES_FEET) - {2,62}),\n",
    "#     num_examples_per_domain_per_label=100,\n",
    "#     pickle_path=os.path.join(get_datasets_base_path(), \"oracle.Run2_framed_2000Examples_stratified_ds.2022A.pkl\"),\n",
    "#     source_or_target_dataset=\"source\",\n",
    "#     x_transform_func=global_x_transform_func,\n",
    "#     domain_modifier=lambda u: f\"oracle1_{u}\"\n",
    "# )\n"
   ]
  },
  {
   "cell_type": "code",
   "execution_count": 16,
   "id": "97dea9d2",
   "metadata": {
    "execution": {
     "iopub.execute_input": "2022-03-21T12:41:43.133490Z",
     "iopub.status.busy": "2022-03-21T12:41:43.133110Z",
     "iopub.status.idle": "2022-03-21T12:41:43.155225Z",
     "shell.execute_reply": "2022-03-21T12:41:43.154405Z"
    },
    "papermill": {
     "duration": 0.046304,
     "end_time": "2022-03-21T12:41:43.155401",
     "exception": false,
     "start_time": "2022-03-21T12:41:43.109097",
     "status": "completed"
    },
    "tags": []
   },
   "outputs": [],
   "source": [
    "# from steves_utils.ORACLE.utils_v2 import (\n",
    "#     ALL_DISTANCES_FEET,\n",
    "#     ALL_RUNS,\n",
    "#     ALL_SERIAL_NUMBERS,\n",
    "# )\n",
    "\n",
    "\n",
    "# add_dataset(\n",
    "#     labels=ALL_SERIAL_NUMBERS,\n",
    "#     domains = list(set(ALL_DISTANCES_FEET) - {2,62,56}),\n",
    "#     num_examples_per_domain_per_label=100,\n",
    "#     pickle_path=os.path.join(get_datasets_base_path(), \"oracle.Run2_framed_2000Examples_stratified_ds.2022A.pkl\"),\n",
    "#     source_or_target_dataset=\"source\",\n",
    "#     x_transform_func=global_x_transform_func,\n",
    "#     domain_modifier=lambda u: f\"oracle2_{u}\"\n",
    "# )"
   ]
  },
  {
   "cell_type": "code",
   "execution_count": 17,
   "id": "6f289866",
   "metadata": {
    "execution": {
     "iopub.execute_input": "2022-03-21T12:41:43.208179Z",
     "iopub.status.busy": "2022-03-21T12:41:43.207802Z",
     "iopub.status.idle": "2022-03-21T12:41:43.231048Z",
     "shell.execute_reply": "2022-03-21T12:41:43.230309Z"
    },
    "papermill": {
     "duration": 0.047557,
     "end_time": "2022-03-21T12:41:43.231227",
     "exception": false,
     "start_time": "2022-03-21T12:41:43.183670",
     "status": "completed"
    },
    "tags": []
   },
   "outputs": [],
   "source": [
    "# add_dataset(\n",
    "#     labels=list(range(19)),\n",
    "#     domains = [0,1,2],\n",
    "#     num_examples_per_domain_per_label=100,\n",
    "#     pickle_path=os.path.join(get_datasets_base_path(), \"metehan.stratified_ds.2022A.pkl\"),\n",
    "#     source_or_target_dataset=\"target\",\n",
    "#     x_transform_func=global_x_transform_func,\n",
    "#     domain_modifier=lambda u: f\"met_{u}\"\n",
    "# )"
   ]
  },
  {
   "cell_type": "code",
   "execution_count": 18,
   "id": "86a863c3",
   "metadata": {
    "execution": {
     "iopub.execute_input": "2022-03-21T12:41:43.284746Z",
     "iopub.status.busy": "2022-03-21T12:41:43.284366Z",
     "iopub.status.idle": "2022-03-21T12:41:43.306521Z",
     "shell.execute_reply": "2022-03-21T12:41:43.307157Z"
    },
    "papermill": {
     "duration": 0.04746,
     "end_time": "2022-03-21T12:41:43.307383",
     "exception": false,
     "start_time": "2022-03-21T12:41:43.259923",
     "status": "completed"
    },
    "tags": []
   },
   "outputs": [],
   "source": [
    "# # from steves_utils.wisig.utils import (\n",
    "# #     ALL_NODES_MINIMUM_100_EXAMPLES,\n",
    "# #     ALL_NODES_MINIMUM_500_EXAMPLES,\n",
    "# #     ALL_NODES_MINIMUM_1000_EXAMPLES,\n",
    "# #     ALL_DAYS\n",
    "# # )\n",
    "\n",
    "# import steves_utils.wisig.utils as wisig\n",
    "\n",
    "\n",
    "# add_dataset(\n",
    "#     labels=wisig.ALL_NODES_MINIMUM_100_EXAMPLES,\n",
    "#     domains = wisig.ALL_DAYS,\n",
    "#     num_examples_per_domain_per_label=100,\n",
    "#     pickle_path=os.path.join(get_datasets_base_path(), \"wisig.node3-19.stratified_ds.2022A.pkl\"),\n",
    "#     source_or_target_dataset=\"target\",\n",
    "#     x_transform_func=global_x_transform_func,\n",
    "#     domain_modifier=lambda u: f\"wisig_{u}\"\n",
    "# )"
   ]
  },
  {
   "cell_type": "code",
   "execution_count": 19,
   "id": "fd5442bc",
   "metadata": {
    "execution": {
     "iopub.execute_input": "2022-03-21T12:41:43.364642Z",
     "iopub.status.busy": "2022-03-21T12:41:43.363967Z",
     "iopub.status.idle": "2022-03-21T12:41:43.383705Z",
     "shell.execute_reply": "2022-03-21T12:41:43.382960Z"
    },
    "papermill": {
     "duration": 0.050291,
     "end_time": "2022-03-21T12:41:43.383883",
     "exception": false,
     "start_time": "2022-03-21T12:41:43.333592",
     "status": "completed"
    },
    "tags": []
   },
   "outputs": [],
   "source": [
    "###################################\n",
    "# Build the dataset\n",
    "###################################\n",
    "train_original_source = Iterable_Aggregator(train_original_source, p.seed)\n",
    "val_original_source = Iterable_Aggregator(val_original_source, p.seed)\n",
    "test_original_source = Iterable_Aggregator(test_original_source, p.seed)\n",
    "\n",
    "\n",
    "train_original_target = Iterable_Aggregator(train_original_target, p.seed)\n",
    "val_original_target = Iterable_Aggregator(val_original_target, p.seed)\n",
    "test_original_target = Iterable_Aggregator(test_original_target, p.seed)\n",
    "\n",
    "# For CNN We only use X and Y. And we only train on the source.\n",
    "# Properly form the data using a transform lambda and Lazy_Iterable_Wrapper. Finally wrap them in a dataloader\n",
    "\n",
    "transform_lambda = lambda ex: ex[1] # Original is (<domain>, <episode>) so we strip down to episode only\n",
    "\n",
    "train_processed_source = Lazy_Iterable_Wrapper(train_original_source, transform_lambda)\n",
    "val_processed_source   = Lazy_Iterable_Wrapper(val_original_source, transform_lambda)\n",
    "test_processed_source  = Lazy_Iterable_Wrapper(test_original_source, transform_lambda)\n",
    "\n",
    "train_processed_target = Lazy_Iterable_Wrapper(train_original_target, transform_lambda)\n",
    "val_processed_target   = Lazy_Iterable_Wrapper(val_original_target, transform_lambda)\n",
    "test_processed_target  = Lazy_Iterable_Wrapper(test_original_target, transform_lambda)\n",
    "\n",
    "datasets = EasyDict({\n",
    "    \"source\": {\n",
    "        \"original\": {\"train\":train_original_source, \"val\":val_original_source, \"test\":test_original_source},\n",
    "        \"processed\": {\"train\":train_processed_source, \"val\":val_processed_source, \"test\":test_processed_source}\n",
    "    },\n",
    "    \"target\": {\n",
    "        \"original\": {\"train\":train_original_target, \"val\":val_original_target, \"test\":test_original_target},\n",
    "        \"processed\": {\"train\":train_processed_target, \"val\":val_processed_target, \"test\":test_processed_target}\n",
    "    },\n",
    "})"
   ]
  },
  {
   "cell_type": "code",
   "execution_count": 20,
   "id": "5b3c01fc",
   "metadata": {
    "execution": {
     "iopub.execute_input": "2022-03-21T12:41:43.442141Z",
     "iopub.status.busy": "2022-03-21T12:41:43.441755Z",
     "iopub.status.idle": "2022-03-21T12:41:58.638047Z",
     "shell.execute_reply": "2022-03-21T12:41:58.638853Z"
    },
    "papermill": {
     "duration": 15.223886,
     "end_time": "2022-03-21T12:41:58.639071",
     "exception": false,
     "start_time": "2022-03-21T12:41:43.415185",
     "status": "completed"
    },
    "tags": []
   },
   "outputs": [
    {
     "name": "stdout",
     "output_type": "stream",
     "text": [
      "{'ORACLE.run2_20', 'ORACLE.run2_38', 'ORACLE.run2_44', 'ORACLE.run2_32', 'ORACLE.run2_14', 'ORACLE.run2_50', 'ORACLE.run2_8', 'ORACLE.run2_26'}\n"
     ]
    },
    {
     "name": "stdout",
     "output_type": "stream",
     "text": [
      "{'ORACLE.run1_32', 'ORACLE.run1_38', 'ORACLE.run1_8', 'ORACLE.run1_44', 'ORACLE.run1_26', 'ORACLE.run1_20', 'ORACLE.run1_14', 'ORACLE.run1_50'}\n"
     ]
    },
    {
     "name": "stdout",
     "output_type": "stream",
     "text": [
      "tensor([[[ 0.4547, -1.1971,  0.0000,  ...,  1.2157, -0.0835, -0.1670],\n",
      "         [ 0.6589, -0.0557, -0.7424,  ..., -0.1578,  1.1600,  0.8816]],\n",
      "\n",
      "        [[-1.0285,  0.0649,  1.3065,  ..., -0.4355, -0.8432,  0.9173],\n",
      "         [-0.3150, -0.6301,  0.4911,  ...,  1.1212,  0.7598,  0.8340]],\n",
      "\n",
      "        [[-1.0597, -0.4834,  1.0039,  ...,  0.5670,  0.2231,  1.1062],\n",
      "         [ 0.6321, -0.7158, -0.7622,  ...,  1.2456,  0.8087, -0.1394]],\n",
      "\n",
      "        ...,\n",
      "\n",
      "        [[-0.6325,  0.4285,  0.6869,  ..., -0.1156, -1.1289, -0.9249],\n",
      "         [ 0.0612, -1.0813,  0.4353,  ...,  1.1425, -0.5577, -0.2788]],\n",
      "\n",
      "        [[ 0.2676, -1.1046,  0.0617,  ...,  1.0840,  0.3911,  0.7135],\n",
      "         [ 0.6243,  0.4528, -0.9742,  ..., -0.5008,  1.2829,  0.5214]],\n",
      "\n",
      "        [[-0.2927, -0.7964,  0.1702,  ...,  1.1299,  0.8509,  0.7351],\n",
      "         [ 1.1912, -0.0272, -1.3273,  ...,  0.2655,  0.5037, -1.0755]]])\n"
     ]
    }
   ],
   "source": [
    "from steves_utils.transforms import get_average_magnitude, get_average_power\n",
    "\n",
    "print(set([u for u,_ in val_original_source]))\n",
    "print(set([u for u,_ in val_original_target]))\n",
    "\n",
    "s_x, s_y, q_x, q_y, _ = next(iter(train_processed_source))\n",
    "print(s_x)\n",
    "\n",
    "# for ds in [\n",
    "#     train_processed_source,\n",
    "#     val_processed_source,\n",
    "#     test_processed_source,\n",
    "#     train_processed_target,\n",
    "#     val_processed_target,\n",
    "#     test_processed_target\n",
    "# ]:\n",
    "#     for s_x, s_y, q_x, q_y, _ in ds:\n",
    "#         for X in (s_x, q_x):\n",
    "#             for x in X:\n",
    "#                 assert np.isclose(get_average_magnitude(x.numpy()), 1.0)\n",
    "#                 assert np.isclose(get_average_power(x.numpy()), 1.0)\n",
    "                "
   ]
  },
  {
   "cell_type": "code",
   "execution_count": 21,
   "id": "bbdacba1",
   "metadata": {
    "execution": {
     "iopub.execute_input": "2022-03-21T12:41:58.693455Z",
     "iopub.status.busy": "2022-03-21T12:41:58.693073Z",
     "iopub.status.idle": "2022-03-21T12:41:58.976074Z",
     "shell.execute_reply": "2022-03-21T12:41:58.975318Z"
    },
    "papermill": {
     "duration": 0.312047,
     "end_time": "2022-03-21T12:41:58.976264",
     "exception": false,
     "start_time": "2022-03-21T12:41:58.664217",
     "status": "completed"
    },
    "tags": []
   },
   "outputs": [
    {
     "name": "stdout",
     "output_type": "stream",
     "text": [
      "(2, 256)\n"
     ]
    }
   ],
   "source": [
    "###################################\n",
    "# Build the model\n",
    "###################################\n",
    "# easfsl only wants a tuple for the shape\n",
    "model = Steves_Prototypical_Network(x_net, device=p.device, x_shape=tuple(p.x_shape))\n",
    "optimizer = Adam(params=model.parameters(), lr=p.lr)"
   ]
  },
  {
   "cell_type": "code",
   "execution_count": 22,
   "id": "22b39ac5",
   "metadata": {
    "execution": {
     "iopub.execute_input": "2022-03-21T12:41:59.031986Z",
     "iopub.status.busy": "2022-03-21T12:41:59.031604Z",
     "iopub.status.idle": "2022-03-21T13:45:00.244741Z",
     "shell.execute_reply": "2022-03-21T13:45:00.244400Z"
    },
    "papermill": {
     "duration": 3781.241098,
     "end_time": "2022-03-21T13:45:00.244824",
     "exception": false,
     "start_time": "2022-03-21T12:41:59.003726",
     "status": "completed"
    },
    "tags": []
   },
   "outputs": [
    {
     "name": "stdout",
     "output_type": "stream",
     "text": [
      "epoch: 1, [batch: 1 / 6720], examples_per_second: 32.9590, train_label_loss: 2.7966, \n"
     ]
    },
    {
     "name": "stdout",
     "output_type": "stream",
     "text": [
      "epoch: 1, [batch: 672 / 6720], examples_per_second: 3342.8526, train_label_loss: 0.7590, \n"
     ]
    },
    {
     "name": "stdout",
     "output_type": "stream",
     "text": [
      "epoch: 1, [batch: 1344 / 6720], examples_per_second: 3544.9575, train_label_loss: 0.6094, \n"
     ]
    },
    {
     "name": "stdout",
     "output_type": "stream",
     "text": [
      "epoch: 1, [batch: 2016 / 6720], examples_per_second: 3677.6178, train_label_loss: 1.3835, \n"
     ]
    },
    {
     "name": "stdout",
     "output_type": "stream",
     "text": [
      "epoch: 1, [batch: 2688 / 6720], examples_per_second: 3944.9836, train_label_loss: 0.4143, \n"
     ]
    },
    {
     "name": "stdout",
     "output_type": "stream",
     "text": [
      "epoch: 1, [batch: 3360 / 6720], examples_per_second: 3522.0171, train_label_loss: 0.5004, \n"
     ]
    },
    {
     "name": "stdout",
     "output_type": "stream",
     "text": [
      "epoch: 1, [batch: 4032 / 6720], examples_per_second: 3460.0730, train_label_loss: 0.8041, \n"
     ]
    },
    {
     "name": "stdout",
     "output_type": "stream",
     "text": [
      "epoch: 1, [batch: 4704 / 6720], examples_per_second: 3439.0452, train_label_loss: 0.4506, \n"
     ]
    },
    {
     "name": "stdout",
     "output_type": "stream",
     "text": [
      "epoch: 1, [batch: 5376 / 6720], examples_per_second: 3381.1450, train_label_loss: 0.7508, \n"
     ]
    },
    {
     "name": "stdout",
     "output_type": "stream",
     "text": [
      "epoch: 1, [batch: 6048 / 6720], examples_per_second: 3400.9105, train_label_loss: 0.3839, \n"
     ]
    },
    {
     "name": "stdout",
     "output_type": "stream",
     "text": [
      "=============================================================\n",
      "epoch: 1, source_val_acc_label: 0.7922, target_val_acc_label: 0.8024, source_val_label_loss: 8.0260, target_val_label_loss: 4.7139, \n",
      "=============================================================\n"
     ]
    },
    {
     "name": "stdout",
     "output_type": "stream",
     "text": [
      "New best\n"
     ]
    },
    {
     "name": "stdout",
     "output_type": "stream",
     "text": [
      "epoch: 2, [batch: 1 / 6720], examples_per_second: 2.2858, train_label_loss: 0.6297, \n"
     ]
    },
    {
     "name": "stdout",
     "output_type": "stream",
     "text": [
      "epoch: 2, [batch: 672 / 6720], examples_per_second: 2576.2881, train_label_loss: 0.6695, \n"
     ]
    },
    {
     "name": "stdout",
     "output_type": "stream",
     "text": [
      "epoch: 2, [batch: 1344 / 6720], examples_per_second: 2551.2907, train_label_loss: 0.6357, \n"
     ]
    },
    {
     "name": "stdout",
     "output_type": "stream",
     "text": [
      "epoch: 2, [batch: 2016 / 6720], examples_per_second: 2736.9333, train_label_loss: 0.3928, \n"
     ]
    },
    {
     "name": "stdout",
     "output_type": "stream",
     "text": [
      "epoch: 2, [batch: 2688 / 6720], examples_per_second: 2987.8696, train_label_loss: 0.6231, \n"
     ]
    },
    {
     "name": "stdout",
     "output_type": "stream",
     "text": [
      "epoch: 2, [batch: 3360 / 6720], examples_per_second: 3005.9116, train_label_loss: 0.3481, \n"
     ]
    },
    {
     "name": "stdout",
     "output_type": "stream",
     "text": [
      "epoch: 2, [batch: 4032 / 6720], examples_per_second: 3082.6287, train_label_loss: 0.6921, \n"
     ]
    },
    {
     "name": "stdout",
     "output_type": "stream",
     "text": [
      "epoch: 2, [batch: 4704 / 6720], examples_per_second: 3437.2226, train_label_loss: 0.4707, \n"
     ]
    },
    {
     "name": "stdout",
     "output_type": "stream",
     "text": [
      "epoch: 2, [batch: 5376 / 6720], examples_per_second: 3488.2205, train_label_loss: 0.3521, \n"
     ]
    },
    {
     "name": "stdout",
     "output_type": "stream",
     "text": [
      "epoch: 2, [batch: 6048 / 6720], examples_per_second: 3187.1334, train_label_loss: 0.7340, \n"
     ]
    },
    {
     "name": "stdout",
     "output_type": "stream",
     "text": [
      "=============================================================\n",
      "epoch: 2, source_val_acc_label: 0.8116, target_val_acc_label: 0.8168, source_val_label_loss: 0.5351, target_val_label_loss: 0.5065, \n",
      "=============================================================\n"
     ]
    },
    {
     "name": "stdout",
     "output_type": "stream",
     "text": [
      "New best\n"
     ]
    },
    {
     "name": "stdout",
     "output_type": "stream",
     "text": [
      "epoch: 3, [batch: 1 / 6720], examples_per_second: 2.7608, train_label_loss: 0.2940, \n"
     ]
    },
    {
     "name": "stdout",
     "output_type": "stream",
     "text": [
      "epoch: 3, [batch: 672 / 6720], examples_per_second: 2286.3531, train_label_loss: 0.6291, \n"
     ]
    },
    {
     "name": "stdout",
     "output_type": "stream",
     "text": [
      "epoch: 3, [batch: 1344 / 6720], examples_per_second: 2312.5722, train_label_loss: 0.8885, \n"
     ]
    },
    {
     "name": "stdout",
     "output_type": "stream",
     "text": [
      "epoch: 3, [batch: 2016 / 6720], examples_per_second: 2297.9045, train_label_loss: 0.4004, \n"
     ]
    },
    {
     "name": "stdout",
     "output_type": "stream",
     "text": [
      "epoch: 3, [batch: 2688 / 6720], examples_per_second: 2285.0276, train_label_loss: 0.4512, \n"
     ]
    },
    {
     "name": "stdout",
     "output_type": "stream",
     "text": [
      "epoch: 3, [batch: 3360 / 6720], examples_per_second: 2297.9885, train_label_loss: 0.3239, \n"
     ]
    },
    {
     "name": "stdout",
     "output_type": "stream",
     "text": [
      "epoch: 3, [batch: 4032 / 6720], examples_per_second: 2544.7818, train_label_loss: 0.3742, \n"
     ]
    },
    {
     "name": "stdout",
     "output_type": "stream",
     "text": [
      "epoch: 3, [batch: 4704 / 6720], examples_per_second: 2575.9958, train_label_loss: 0.4031, \n"
     ]
    },
    {
     "name": "stdout",
     "output_type": "stream",
     "text": [
      "epoch: 3, [batch: 5376 / 6720], examples_per_second: 2600.7848, train_label_loss: 0.3810, \n"
     ]
    },
    {
     "name": "stdout",
     "output_type": "stream",
     "text": [
      "epoch: 3, [batch: 6048 / 6720], examples_per_second: 2306.7295, train_label_loss: 0.3512, \n"
     ]
    },
    {
     "name": "stdout",
     "output_type": "stream",
     "text": [
      "=============================================================\n",
      "epoch: 3, source_val_acc_label: 0.8359, target_val_acc_label: 0.8414, source_val_label_loss: 0.4597, target_val_label_loss: 0.4427, \n",
      "=============================================================\n"
     ]
    },
    {
     "name": "stdout",
     "output_type": "stream",
     "text": [
      "New best\n"
     ]
    },
    {
     "name": "stdout",
     "output_type": "stream",
     "text": [
      "epoch: 4, [batch: 1 / 6720], examples_per_second: 2.2416, train_label_loss: 0.4805, \n"
     ]
    },
    {
     "name": "stdout",
     "output_type": "stream",
     "text": [
      "epoch: 4, [batch: 672 / 6720], examples_per_second: 2283.5052, train_label_loss: 0.6601, \n"
     ]
    },
    {
     "name": "stdout",
     "output_type": "stream",
     "text": [
      "epoch: 4, [batch: 1344 / 6720], examples_per_second: 2314.8054, train_label_loss: 0.5248, \n"
     ]
    },
    {
     "name": "stdout",
     "output_type": "stream",
     "text": [
      "epoch: 4, [batch: 2016 / 6720], examples_per_second: 2314.1663, train_label_loss: 0.2318, \n"
     ]
    },
    {
     "name": "stdout",
     "output_type": "stream",
     "text": [
      "epoch: 4, [batch: 2688 / 6720], examples_per_second: 2328.8163, train_label_loss: 0.7532, \n"
     ]
    },
    {
     "name": "stdout",
     "output_type": "stream",
     "text": [
      "epoch: 4, [batch: 3360 / 6720], examples_per_second: 2475.8736, train_label_loss: 0.7437, \n"
     ]
    },
    {
     "name": "stdout",
     "output_type": "stream",
     "text": [
      "epoch: 4, [batch: 4032 / 6720], examples_per_second: 2617.4984, train_label_loss: 0.2585, \n"
     ]
    },
    {
     "name": "stdout",
     "output_type": "stream",
     "text": [
      "epoch: 4, [batch: 4704 / 6720], examples_per_second: 2648.0248, train_label_loss: 0.3725, \n"
     ]
    },
    {
     "name": "stdout",
     "output_type": "stream",
     "text": [
      "epoch: 4, [batch: 5376 / 6720], examples_per_second: 2363.3985, train_label_loss: 0.1210, \n"
     ]
    },
    {
     "name": "stdout",
     "output_type": "stream",
     "text": [
      "epoch: 4, [batch: 6048 / 6720], examples_per_second: 2318.7107, train_label_loss: 0.2616, \n"
     ]
    },
    {
     "name": "stdout",
     "output_type": "stream",
     "text": [
      "=============================================================\n",
      "epoch: 4, source_val_acc_label: 0.8648, target_val_acc_label: 0.8570, source_val_label_loss: 0.3793, target_val_label_loss: 0.3947, \n",
      "=============================================================\n"
     ]
    },
    {
     "name": "stdout",
     "output_type": "stream",
     "text": [
      "New best\n"
     ]
    },
    {
     "name": "stdout",
     "output_type": "stream",
     "text": [
      "epoch: 5, [batch: 1 / 6720], examples_per_second: 2.2428, train_label_loss: 0.1421, \n"
     ]
    },
    {
     "name": "stdout",
     "output_type": "stream",
     "text": [
      "epoch: 5, [batch: 672 / 6720], examples_per_second: 2296.3068, train_label_loss: 0.7202, \n"
     ]
    },
    {
     "name": "stdout",
     "output_type": "stream",
     "text": [
      "epoch: 5, [batch: 1344 / 6720], examples_per_second: 2320.0690, train_label_loss: 0.2568, \n"
     ]
    },
    {
     "name": "stdout",
     "output_type": "stream",
     "text": [
      "epoch: 5, [batch: 2016 / 6720], examples_per_second: 2297.0274, train_label_loss: 0.4721, \n"
     ]
    },
    {
     "name": "stdout",
     "output_type": "stream",
     "text": [
      "epoch: 5, [batch: 2688 / 6720], examples_per_second: 2502.3608, train_label_loss: 0.6361, \n"
     ]
    },
    {
     "name": "stdout",
     "output_type": "stream",
     "text": [
      "epoch: 5, [batch: 3360 / 6720], examples_per_second: 2983.2663, train_label_loss: 0.0578, \n"
     ]
    },
    {
     "name": "stdout",
     "output_type": "stream",
     "text": [
      "epoch: 5, [batch: 4032 / 6720], examples_per_second: 2944.3673, train_label_loss: 0.2448, \n"
     ]
    },
    {
     "name": "stdout",
     "output_type": "stream",
     "text": [
      "epoch: 5, [batch: 4704 / 6720], examples_per_second: 2866.7205, train_label_loss: 0.4781, \n"
     ]
    },
    {
     "name": "stdout",
     "output_type": "stream",
     "text": [
      "epoch: 5, [batch: 5376 / 6720], examples_per_second: 2586.4391, train_label_loss: 0.2427, \n"
     ]
    },
    {
     "name": "stdout",
     "output_type": "stream",
     "text": [
      "epoch: 5, [batch: 6048 / 6720], examples_per_second: 2621.7053, train_label_loss: 0.0475, \n"
     ]
    },
    {
     "name": "stdout",
     "output_type": "stream",
     "text": [
      "=============================================================\n",
      "epoch: 5, source_val_acc_label: 0.8753, target_val_acc_label: 0.8731, source_val_label_loss: 0.3427, target_val_label_loss: 0.3575, \n",
      "=============================================================\n"
     ]
    },
    {
     "name": "stdout",
     "output_type": "stream",
     "text": [
      "New best\n"
     ]
    },
    {
     "name": "stdout",
     "output_type": "stream",
     "text": [
      "epoch: 6, [batch: 1 / 6720], examples_per_second: 2.7947, train_label_loss: 1.4285, \n"
     ]
    },
    {
     "name": "stdout",
     "output_type": "stream",
     "text": [
      "epoch: 6, [batch: 672 / 6720], examples_per_second: 2334.4990, train_label_loss: 0.3474, \n"
     ]
    },
    {
     "name": "stdout",
     "output_type": "stream",
     "text": [
      "epoch: 6, [batch: 1344 / 6720], examples_per_second: 2307.4146, train_label_loss: 0.1202, \n"
     ]
    },
    {
     "name": "stdout",
     "output_type": "stream",
     "text": [
      "epoch: 6, [batch: 2016 / 6720], examples_per_second: 2308.6511, train_label_loss: 0.5208, \n"
     ]
    },
    {
     "name": "stdout",
     "output_type": "stream",
     "text": [
      "epoch: 6, [batch: 2688 / 6720], examples_per_second: 2487.4394, train_label_loss: 0.0392, \n"
     ]
    },
    {
     "name": "stdout",
     "output_type": "stream",
     "text": [
      "epoch: 6, [batch: 3360 / 6720], examples_per_second: 2616.6507, train_label_loss: 0.2411, \n"
     ]
    },
    {
     "name": "stdout",
     "output_type": "stream",
     "text": [
      "epoch: 6, [batch: 4032 / 6720], examples_per_second: 2653.8841, train_label_loss: 0.2192, \n"
     ]
    },
    {
     "name": "stdout",
     "output_type": "stream",
     "text": [
      "epoch: 6, [batch: 4704 / 6720], examples_per_second: 2332.3474, train_label_loss: 0.3105, \n"
     ]
    },
    {
     "name": "stdout",
     "output_type": "stream",
     "text": [
      "epoch: 6, [batch: 5376 / 6720], examples_per_second: 2328.5961, train_label_loss: 0.8812, \n"
     ]
    },
    {
     "name": "stdout",
     "output_type": "stream",
     "text": [
      "epoch: 6, [batch: 6048 / 6720], examples_per_second: 2331.4001, train_label_loss: 0.3908, \n"
     ]
    },
    {
     "name": "stdout",
     "output_type": "stream",
     "text": [
      "=============================================================\n",
      "epoch: 6, source_val_acc_label: 0.8821, target_val_acc_label: 0.8743, source_val_label_loss: 0.3307, target_val_label_loss: 0.3625, \n",
      "=============================================================\n"
     ]
    },
    {
     "name": "stdout",
     "output_type": "stream",
     "text": [
      "New best\n"
     ]
    },
    {
     "name": "stdout",
     "output_type": "stream",
     "text": [
      "epoch: 7, [batch: 1 / 6720], examples_per_second: 2.2245, train_label_loss: 0.5491, \n"
     ]
    },
    {
     "name": "stdout",
     "output_type": "stream",
     "text": [
      "epoch: 7, [batch: 672 / 6720], examples_per_second: 2296.5269, train_label_loss: 0.5990, \n"
     ]
    },
    {
     "name": "stdout",
     "output_type": "stream",
     "text": [
      "epoch: 7, [batch: 1344 / 6720], examples_per_second: 2312.7170, train_label_loss: 0.4879, \n"
     ]
    },
    {
     "name": "stdout",
     "output_type": "stream",
     "text": [
      "epoch: 7, [batch: 2016 / 6720], examples_per_second: 2413.9746, train_label_loss: 0.0635, \n"
     ]
    },
    {
     "name": "stdout",
     "output_type": "stream",
     "text": [
      "epoch: 7, [batch: 2688 / 6720], examples_per_second: 2549.8571, train_label_loss: 0.5998, \n"
     ]
    },
    {
     "name": "stdout",
     "output_type": "stream",
     "text": [
      "epoch: 7, [batch: 3360 / 6720], examples_per_second: 2662.4698, train_label_loss: 0.1587, \n"
     ]
    },
    {
     "name": "stdout",
     "output_type": "stream",
     "text": [
      "epoch: 7, [batch: 4032 / 6720], examples_per_second: 2338.3740, train_label_loss: 0.1404, \n"
     ]
    },
    {
     "name": "stdout",
     "output_type": "stream",
     "text": [
      "epoch: 7, [batch: 4704 / 6720], examples_per_second: 2293.1285, train_label_loss: 0.4437, \n"
     ]
    },
    {
     "name": "stdout",
     "output_type": "stream",
     "text": [
      "epoch: 7, [batch: 5376 / 6720], examples_per_second: 2315.1922, train_label_loss: 0.4394, \n"
     ]
    },
    {
     "name": "stdout",
     "output_type": "stream",
     "text": [
      "epoch: 7, [batch: 6048 / 6720], examples_per_second: 2292.8667, train_label_loss: 0.2251, \n"
     ]
    },
    {
     "name": "stdout",
     "output_type": "stream",
     "text": [
      "=============================================================\n",
      "epoch: 7, source_val_acc_label: 0.8892, target_val_acc_label: 0.8798, source_val_label_loss: 0.3047, target_val_label_loss: 0.3434, \n",
      "=============================================================\n"
     ]
    },
    {
     "name": "stdout",
     "output_type": "stream",
     "text": [
      "New best\n"
     ]
    },
    {
     "name": "stdout",
     "output_type": "stream",
     "text": [
      "epoch: 8, [batch: 1 / 6720], examples_per_second: 2.2494, train_label_loss: 0.0453, \n"
     ]
    },
    {
     "name": "stdout",
     "output_type": "stream",
     "text": [
      "epoch: 8, [batch: 672 / 6720], examples_per_second: 2300.8006, train_label_loss: 0.2331, \n"
     ]
    },
    {
     "name": "stdout",
     "output_type": "stream",
     "text": [
      "epoch: 8, [batch: 1344 / 6720], examples_per_second: 2420.5161, train_label_loss: 0.0943, \n"
     ]
    },
    {
     "name": "stdout",
     "output_type": "stream",
     "text": [
      "epoch: 8, [batch: 2016 / 6720], examples_per_second: 2615.1202, train_label_loss: 0.2848, \n"
     ]
    },
    {
     "name": "stdout",
     "output_type": "stream",
     "text": [
      "epoch: 8, [batch: 2688 / 6720], examples_per_second: 2592.7534, train_label_loss: 0.0788, \n"
     ]
    },
    {
     "name": "stdout",
     "output_type": "stream",
     "text": [
      "epoch: 8, [batch: 3360 / 6720], examples_per_second: 2494.1511, train_label_loss: 0.2263, \n"
     ]
    },
    {
     "name": "stdout",
     "output_type": "stream",
     "text": [
      "epoch: 8, [batch: 4032 / 6720], examples_per_second: 2312.7009, train_label_loss: 0.2372, \n"
     ]
    },
    {
     "name": "stdout",
     "output_type": "stream",
     "text": [
      "epoch: 8, [batch: 4704 / 6720], examples_per_second: 2327.1097, train_label_loss: 0.1769, \n"
     ]
    },
    {
     "name": "stdout",
     "output_type": "stream",
     "text": [
      "epoch: 8, [batch: 5376 / 6720], examples_per_second: 2324.5297, train_label_loss: 0.0782, \n"
     ]
    },
    {
     "name": "stdout",
     "output_type": "stream",
     "text": [
      "epoch: 8, [batch: 6048 / 6720], examples_per_second: 2307.8456, train_label_loss: 0.0873, \n"
     ]
    },
    {
     "name": "stdout",
     "output_type": "stream",
     "text": [
      "=============================================================\n",
      "epoch: 8, source_val_acc_label: 0.8889, target_val_acc_label: 0.8747, source_val_label_loss: 0.3064, target_val_label_loss: 0.3582, \n",
      "=============================================================\n"
     ]
    },
    {
     "name": "stdout",
     "output_type": "stream",
     "text": [
      "epoch: 9, [batch: 1 / 6720], examples_per_second: 2.2264, train_label_loss: 0.5891, \n"
     ]
    },
    {
     "name": "stdout",
     "output_type": "stream",
     "text": [
      "epoch: 9, [batch: 672 / 6720], examples_per_second: 2571.3945, train_label_loss: 0.1130, \n"
     ]
    },
    {
     "name": "stdout",
     "output_type": "stream",
     "text": [
      "epoch: 9, [batch: 1344 / 6720], examples_per_second: 2923.4288, train_label_loss: 0.2796, \n"
     ]
    },
    {
     "name": "stdout",
     "output_type": "stream",
     "text": [
      "epoch: 9, [batch: 2016 / 6720], examples_per_second: 2925.0327, train_label_loss: 0.3278, \n"
     ]
    },
    {
     "name": "stdout",
     "output_type": "stream",
     "text": [
      "epoch: 9, [batch: 2688 / 6720], examples_per_second: 2937.1878, train_label_loss: 0.4311, \n"
     ]
    },
    {
     "name": "stdout",
     "output_type": "stream",
     "text": [
      "epoch: 9, [batch: 3360 / 6720], examples_per_second: 2655.5918, train_label_loss: 0.6952, \n"
     ]
    },
    {
     "name": "stdout",
     "output_type": "stream",
     "text": [
      "epoch: 9, [batch: 4032 / 6720], examples_per_second: 2622.5115, train_label_loss: 0.2133, \n"
     ]
    },
    {
     "name": "stdout",
     "output_type": "stream",
     "text": [
      "epoch: 9, [batch: 4704 / 6720], examples_per_second: 2584.0559, train_label_loss: 0.1164, \n"
     ]
    },
    {
     "name": "stdout",
     "output_type": "stream",
     "text": [
      "epoch: 9, [batch: 5376 / 6720], examples_per_second: 2611.1197, train_label_loss: 0.3295, \n"
     ]
    },
    {
     "name": "stdout",
     "output_type": "stream",
     "text": [
      "epoch: 9, [batch: 6048 / 6720], examples_per_second: 2638.0429, train_label_loss: 0.1013, \n"
     ]
    },
    {
     "name": "stdout",
     "output_type": "stream",
     "text": [
      "=============================================================\n",
      "epoch: 9, source_val_acc_label: 0.8920, target_val_acc_label: 0.8774, source_val_label_loss: 0.2986, target_val_label_loss: 0.3531, \n",
      "=============================================================\n"
     ]
    },
    {
     "name": "stdout",
     "output_type": "stream",
     "text": [
      "epoch: 10, [batch: 1 / 6720], examples_per_second: 2.8423, train_label_loss: 0.2070, \n"
     ]
    },
    {
     "name": "stdout",
     "output_type": "stream",
     "text": [
      "epoch: 10, [batch: 672 / 6720], examples_per_second: 3465.2863, train_label_loss: 0.4597, \n"
     ]
    },
    {
     "name": "stdout",
     "output_type": "stream",
     "text": [
      "epoch: 10, [batch: 1344 / 6720], examples_per_second: 3685.5686, train_label_loss: 0.1321, \n"
     ]
    },
    {
     "name": "stdout",
     "output_type": "stream",
     "text": [
      "epoch: 10, [batch: 2016 / 6720], examples_per_second: 3654.8901, train_label_loss: 0.2206, \n"
     ]
    },
    {
     "name": "stdout",
     "output_type": "stream",
     "text": [
      "epoch: 10, [batch: 2688 / 6720], examples_per_second: 3773.4480, train_label_loss: 0.2064, \n"
     ]
    },
    {
     "name": "stdout",
     "output_type": "stream",
     "text": [
      "epoch: 10, [batch: 3360 / 6720], examples_per_second: 3372.2456, train_label_loss: 0.2108, \n"
     ]
    },
    {
     "name": "stdout",
     "output_type": "stream",
     "text": [
      "epoch: 10, [batch: 4032 / 6720], examples_per_second: 3233.5469, train_label_loss: 0.0355, \n"
     ]
    },
    {
     "name": "stdout",
     "output_type": "stream",
     "text": [
      "epoch: 10, [batch: 4704 / 6720], examples_per_second: 3237.2555, train_label_loss: 0.1420, \n"
     ]
    },
    {
     "name": "stdout",
     "output_type": "stream",
     "text": [
      "epoch: 10, [batch: 5376 / 6720], examples_per_second: 2548.3425, train_label_loss: 0.2223, \n"
     ]
    },
    {
     "name": "stdout",
     "output_type": "stream",
     "text": [
      "epoch: 10, [batch: 6048 / 6720], examples_per_second: 2560.5826, train_label_loss: 0.0490, \n"
     ]
    },
    {
     "name": "stdout",
     "output_type": "stream",
     "text": [
      "=============================================================\n",
      "epoch: 10, source_val_acc_label: 0.8926, target_val_acc_label: 0.8757, source_val_label_loss: 0.2923, target_val_label_loss: 0.3520, \n",
      "=============================================================\n"
     ]
    },
    {
     "name": "stdout",
     "output_type": "stream",
     "text": [
      "epoch: 11, [batch: 1 / 6720], examples_per_second: 2.4468, train_label_loss: 0.1010, \n"
     ]
    },
    {
     "name": "stdout",
     "output_type": "stream",
     "text": [
      "epoch: 11, [batch: 672 / 6720], examples_per_second: 2878.0470, train_label_loss: 0.1426, \n"
     ]
    },
    {
     "name": "stdout",
     "output_type": "stream",
     "text": [
      "epoch: 11, [batch: 1344 / 6720], examples_per_second: 3016.6662, train_label_loss: 0.1044, \n"
     ]
    },
    {
     "name": "stdout",
     "output_type": "stream",
     "text": [
      "epoch: 11, [batch: 2016 / 6720], examples_per_second: 3376.3838, train_label_loss: 0.1694, \n"
     ]
    },
    {
     "name": "stdout",
     "output_type": "stream",
     "text": [
      "epoch: 11, [batch: 2688 / 6720], examples_per_second: 3402.2652, train_label_loss: 0.4148, \n"
     ]
    },
    {
     "name": "stdout",
     "output_type": "stream",
     "text": [
      "epoch: 11, [batch: 3360 / 6720], examples_per_second: 3266.3414, train_label_loss: 0.6252, \n"
     ]
    },
    {
     "name": "stdout",
     "output_type": "stream",
     "text": [
      "epoch: 11, [batch: 4032 / 6720], examples_per_second: 3012.3204, train_label_loss: 0.1816, \n"
     ]
    },
    {
     "name": "stdout",
     "output_type": "stream",
     "text": [
      "epoch: 11, [batch: 4704 / 6720], examples_per_second: 2975.6434, train_label_loss: 0.4278, \n"
     ]
    },
    {
     "name": "stdout",
     "output_type": "stream",
     "text": [
      "epoch: 11, [batch: 5376 / 6720], examples_per_second: 2896.3936, train_label_loss: 0.2222, \n"
     ]
    },
    {
     "name": "stdout",
     "output_type": "stream",
     "text": [
      "epoch: 11, [batch: 6048 / 6720], examples_per_second: 2328.9185, train_label_loss: 0.2719, \n"
     ]
    },
    {
     "name": "stdout",
     "output_type": "stream",
     "text": [
      "=============================================================\n",
      "epoch: 11, source_val_acc_label: 0.9023, target_val_acc_label: 0.8875, source_val_label_loss: 0.2758, target_val_label_loss: 0.3276, \n",
      "=============================================================\n"
     ]
    },
    {
     "name": "stdout",
     "output_type": "stream",
     "text": [
      "New best\n"
     ]
    },
    {
     "name": "stdout",
     "output_type": "stream",
     "text": [
      "epoch: 12, [batch: 1 / 6720], examples_per_second: 2.0104, train_label_loss: 0.2984, \n"
     ]
    },
    {
     "name": "stdout",
     "output_type": "stream",
     "text": [
      "epoch: 12, [batch: 672 / 6720], examples_per_second: 2297.3903, train_label_loss: 0.1398, \n"
     ]
    },
    {
     "name": "stdout",
     "output_type": "stream",
     "text": [
      "epoch: 12, [batch: 1344 / 6720], examples_per_second: 2421.8910, train_label_loss: 0.0844, \n"
     ]
    },
    {
     "name": "stdout",
     "output_type": "stream",
     "text": [
      "epoch: 12, [batch: 2016 / 6720], examples_per_second: 2595.1392, train_label_loss: 0.1988, \n"
     ]
    },
    {
     "name": "stdout",
     "output_type": "stream",
     "text": [
      "epoch: 12, [batch: 2688 / 6720], examples_per_second: 2537.6793, train_label_loss: 0.0927, \n"
     ]
    },
    {
     "name": "stdout",
     "output_type": "stream",
     "text": [
      "epoch: 12, [batch: 3360 / 6720], examples_per_second: 2638.9316, train_label_loss: 0.2757, \n"
     ]
    },
    {
     "name": "stdout",
     "output_type": "stream",
     "text": [
      "epoch: 12, [batch: 4032 / 6720], examples_per_second: 2611.3026, train_label_loss: 0.3792, \n"
     ]
    },
    {
     "name": "stdout",
     "output_type": "stream",
     "text": [
      "epoch: 12, [batch: 4704 / 6720], examples_per_second: 2644.4675, train_label_loss: 0.1382, \n"
     ]
    },
    {
     "name": "stdout",
     "output_type": "stream",
     "text": [
      "epoch: 12, [batch: 5376 / 6720], examples_per_second: 2511.2518, train_label_loss: 0.1188, \n"
     ]
    },
    {
     "name": "stdout",
     "output_type": "stream",
     "text": [
      "epoch: 12, [batch: 6048 / 6720], examples_per_second: 2325.3924, train_label_loss: 0.4737, \n"
     ]
    },
    {
     "name": "stdout",
     "output_type": "stream",
     "text": [
      "=============================================================\n",
      "epoch: 12, source_val_acc_label: 0.8942, target_val_acc_label: 0.8772, source_val_label_loss: 0.2916, target_val_label_loss: 0.3549, \n",
      "=============================================================\n"
     ]
    },
    {
     "name": "stdout",
     "output_type": "stream",
     "text": [
      "epoch: 13, [batch: 1 / 6720], examples_per_second: 2.0019, train_label_loss: 0.0726, \n"
     ]
    },
    {
     "name": "stdout",
     "output_type": "stream",
     "text": [
      "epoch: 13, [batch: 672 / 6720], examples_per_second: 2313.1178, train_label_loss: 0.1745, \n"
     ]
    },
    {
     "name": "stdout",
     "output_type": "stream",
     "text": [
      "epoch: 13, [batch: 1344 / 6720], examples_per_second: 2431.4039, train_label_loss: 0.0856, \n"
     ]
    },
    {
     "name": "stdout",
     "output_type": "stream",
     "text": [
      "epoch: 13, [batch: 2016 / 6720], examples_per_second: 2635.8627, train_label_loss: 0.1059, \n"
     ]
    },
    {
     "name": "stdout",
     "output_type": "stream",
     "text": [
      "epoch: 13, [batch: 2688 / 6720], examples_per_second: 2629.9989, train_label_loss: 0.2090, \n"
     ]
    },
    {
     "name": "stdout",
     "output_type": "stream",
     "text": [
      "epoch: 13, [batch: 3360 / 6720], examples_per_second: 2920.7012, train_label_loss: 0.2298, \n"
     ]
    },
    {
     "name": "stdout",
     "output_type": "stream",
     "text": [
      "epoch: 13, [batch: 4032 / 6720], examples_per_second: 2620.4888, train_label_loss: 0.1545, \n"
     ]
    },
    {
     "name": "stdout",
     "output_type": "stream",
     "text": [
      "epoch: 13, [batch: 4704 / 6720], examples_per_second: 2585.7726, train_label_loss: 0.0659, \n"
     ]
    },
    {
     "name": "stdout",
     "output_type": "stream",
     "text": [
      "epoch: 13, [batch: 5376 / 6720], examples_per_second: 2308.9099, train_label_loss: 0.2545, \n"
     ]
    },
    {
     "name": "stdout",
     "output_type": "stream",
     "text": [
      "epoch: 13, [batch: 6048 / 6720], examples_per_second: 2315.5706, train_label_loss: 0.3647, \n"
     ]
    },
    {
     "name": "stdout",
     "output_type": "stream",
     "text": [
      "=============================================================\n",
      "epoch: 13, source_val_acc_label: 0.8996, target_val_acc_label: 0.8810, source_val_label_loss: 0.2877, target_val_label_loss: 0.3533, \n",
      "=============================================================\n"
     ]
    },
    {
     "name": "stdout",
     "output_type": "stream",
     "text": [
      "epoch: 14, [batch: 1 / 6720], examples_per_second: 2.0193, train_label_loss: 0.1734, \n"
     ]
    },
    {
     "name": "stdout",
     "output_type": "stream",
     "text": [
      "epoch: 14, [batch: 672 / 6720], examples_per_second: 2315.3173, train_label_loss: 0.0859, \n"
     ]
    },
    {
     "name": "stdout",
     "output_type": "stream",
     "text": [
      "epoch: 14, [batch: 1344 / 6720], examples_per_second: 2369.1494, train_label_loss: 0.3035, \n"
     ]
    },
    {
     "name": "stdout",
     "output_type": "stream",
     "text": [
      "epoch: 14, [batch: 2016 / 6720], examples_per_second: 2567.5077, train_label_loss: 0.1175, \n"
     ]
    },
    {
     "name": "stdout",
     "output_type": "stream",
     "text": [
      "epoch: 14, [batch: 2688 / 6720], examples_per_second: 2856.0586, train_label_loss: 0.0409, \n"
     ]
    },
    {
     "name": "stdout",
     "output_type": "stream",
     "text": [
      "epoch: 14, [batch: 3360 / 6720], examples_per_second: 2872.1037, train_label_loss: 0.4887, \n"
     ]
    },
    {
     "name": "stdout",
     "output_type": "stream",
     "text": [
      "epoch: 14, [batch: 4032 / 6720], examples_per_second: 2617.3475, train_label_loss: 0.1220, \n"
     ]
    },
    {
     "name": "stdout",
     "output_type": "stream",
     "text": [
      "epoch: 14, [batch: 4704 / 6720], examples_per_second: 2527.8650, train_label_loss: 0.1078, \n"
     ]
    },
    {
     "name": "stdout",
     "output_type": "stream",
     "text": [
      "epoch: 14, [batch: 5376 / 6720], examples_per_second: 2563.1683, train_label_loss: 0.1654, \n"
     ]
    },
    {
     "name": "stdout",
     "output_type": "stream",
     "text": [
      "epoch: 14, [batch: 6048 / 6720], examples_per_second: 2586.7391, train_label_loss: 0.0235, \n"
     ]
    },
    {
     "name": "stdout",
     "output_type": "stream",
     "text": [
      "=============================================================\n",
      "epoch: 14, source_val_acc_label: 0.9006, target_val_acc_label: 0.8839, source_val_label_loss: 0.2810, target_val_label_loss: 0.3525, \n",
      "=============================================================\n"
     ]
    },
    {
     "name": "stdout",
     "output_type": "stream",
     "text": [
      "epoch: 15, [batch: 1 / 6720], examples_per_second: 2.3207, train_label_loss: 0.0296, \n"
     ]
    },
    {
     "name": "stdout",
     "output_type": "stream",
     "text": [
      "epoch: 15, [batch: 672 / 6720], examples_per_second: 2683.9966, train_label_loss: 0.1930, \n"
     ]
    },
    {
     "name": "stdout",
     "output_type": "stream",
     "text": [
      "epoch: 15, [batch: 1344 / 6720], examples_per_second: 3140.0336, train_label_loss: 0.1113, \n"
     ]
    },
    {
     "name": "stdout",
     "output_type": "stream",
     "text": [
      "epoch: 15, [batch: 2016 / 6720], examples_per_second: 2750.0597, train_label_loss: 0.1521, \n"
     ]
    },
    {
     "name": "stdout",
     "output_type": "stream",
     "text": [
      "epoch: 15, [batch: 2688 / 6720], examples_per_second: 2965.5792, train_label_loss: 0.3206, \n"
     ]
    },
    {
     "name": "stdout",
     "output_type": "stream",
     "text": [
      "epoch: 15, [batch: 3360 / 6720], examples_per_second: 2999.8010, train_label_loss: 0.0720, \n"
     ]
    },
    {
     "name": "stdout",
     "output_type": "stream",
     "text": [
      "epoch: 15, [batch: 4032 / 6720], examples_per_second: 2605.9714, train_label_loss: 0.1467, \n"
     ]
    },
    {
     "name": "stdout",
     "output_type": "stream",
     "text": [
      "epoch: 15, [batch: 4704 / 6720], examples_per_second: 2602.9526, train_label_loss: 0.1915, \n"
     ]
    },
    {
     "name": "stdout",
     "output_type": "stream",
     "text": [
      "epoch: 15, [batch: 5376 / 6720], examples_per_second: 2588.9206, train_label_loss: 0.1208, \n"
     ]
    },
    {
     "name": "stdout",
     "output_type": "stream",
     "text": [
      "epoch: 15, [batch: 6048 / 6720], examples_per_second: 2595.2421, train_label_loss: 0.2198, \n"
     ]
    },
    {
     "name": "stdout",
     "output_type": "stream",
     "text": [
      "=============================================================\n",
      "epoch: 15, source_val_acc_label: 0.9019, target_val_acc_label: 0.8816, source_val_label_loss: 0.2829, target_val_label_loss: 0.3532, \n",
      "=============================================================\n"
     ]
    },
    {
     "name": "stdout",
     "output_type": "stream",
     "text": [
      "Patience (3) exhausted\n"
     ]
    }
   ],
   "source": [
    "###################################\n",
    "# train\n",
    "###################################\n",
    "jig = PTN_Train_Eval_Test_Jig(model, p.BEST_MODEL_PATH, p.device)\n",
    "\n",
    "jig.train(\n",
    "    train_iterable=datasets.source.processed.train,\n",
    "    source_val_iterable=datasets.source.processed.val,\n",
    "    target_val_iterable=datasets.target.processed.val,\n",
    "    num_epochs=p.n_epoch,\n",
    "    num_logs_per_epoch=p.NUM_LOGS_PER_EPOCH,\n",
    "    patience=p.patience,\n",
    "    optimizer=optimizer,\n",
    "    criteria_for_best=p.criteria_for_best,\n",
    ")"
   ]
  },
  {
   "cell_type": "code",
   "execution_count": 23,
   "id": "31e8fabf",
   "metadata": {
    "execution": {
     "iopub.execute_input": "2022-03-21T13:45:00.388252Z",
     "iopub.status.busy": "2022-03-21T13:45:00.387887Z",
     "iopub.status.idle": "2022-03-21T13:45:00.421315Z",
     "shell.execute_reply": "2022-03-21T13:45:00.420612Z"
    },
    "papermill": {
     "duration": 0.106581,
     "end_time": "2022-03-21T13:45:00.421470",
     "exception": false,
     "start_time": "2022-03-21T13:45:00.314889",
     "status": "completed"
    },
    "tags": []
   },
   "outputs": [],
   "source": [
    "total_experiment_time_secs = time.time() - start_time_secs"
   ]
  },
  {
   "cell_type": "code",
   "execution_count": 24,
   "id": "87b9595b",
   "metadata": {
    "execution": {
     "iopub.execute_input": "2022-03-21T13:45:00.571775Z",
     "iopub.status.busy": "2022-03-21T13:45:00.571129Z",
     "iopub.status.idle": "2022-03-21T13:48:37.125274Z",
     "shell.execute_reply": "2022-03-21T13:48:37.125955Z"
    },
    "papermill": {
     "duration": 216.632271,
     "end_time": "2022-03-21T13:48:37.126181",
     "exception": false,
     "start_time": "2022-03-21T13:45:00.493910",
     "status": "completed"
    },
    "tags": []
   },
   "outputs": [],
   "source": [
    "###################################\n",
    "# Evaluate the model\n",
    "###################################\n",
    "source_test_label_accuracy, source_test_label_loss = jig.test(datasets.source.processed.test)\n",
    "target_test_label_accuracy, target_test_label_loss = jig.test(datasets.target.processed.test)\n",
    "\n",
    "source_val_label_accuracy, source_val_label_loss = jig.test(datasets.source.processed.val)\n",
    "target_val_label_accuracy, target_val_label_loss = jig.test(datasets.target.processed.val)\n",
    "\n",
    "history = jig.get_history()\n",
    "\n",
    "total_epochs_trained = len(history[\"epoch_indices\"])\n",
    "\n",
    "val_dl = Iterable_Aggregator((datasets.source.original.val,datasets.target.original.val))\n",
    "\n",
    "confusion = ptn_confusion_by_domain_over_dataloader(model, p.device, val_dl)\n",
    "per_domain_accuracy = per_domain_accuracy_from_confusion(confusion)\n",
    "\n",
    "# Add a key to per_domain_accuracy for if it was a source domain\n",
    "for domain, accuracy in per_domain_accuracy.items():\n",
    "    per_domain_accuracy[domain] = {\n",
    "        \"accuracy\": accuracy,\n",
    "        \"source?\": domain in p.domains_source\n",
    "    }\n",
    "\n",
    "# Do an independent accuracy assesment JUST TO BE SURE!\n",
    "# _source_test_label_accuracy = independent_accuracy_assesment(model, datasets.source.processed.test, p.device)\n",
    "# _target_test_label_accuracy = independent_accuracy_assesment(model, datasets.target.processed.test, p.device)\n",
    "# _source_val_label_accuracy = independent_accuracy_assesment(model, datasets.source.processed.val, p.device)\n",
    "# _target_val_label_accuracy = independent_accuracy_assesment(model, datasets.target.processed.val, p.device)\n",
    "\n",
    "# assert(_source_test_label_accuracy == source_test_label_accuracy)\n",
    "# assert(_target_test_label_accuracy == target_test_label_accuracy)\n",
    "# assert(_source_val_label_accuracy == source_val_label_accuracy)\n",
    "# assert(_target_val_label_accuracy == target_val_label_accuracy)\n",
    "\n",
    "experiment = {\n",
    "    \"experiment_name\": p.experiment_name,\n",
    "    \"parameters\": dict(p),\n",
    "    \"results\": {\n",
    "        \"source_test_label_accuracy\": source_test_label_accuracy,\n",
    "        \"source_test_label_loss\": source_test_label_loss,\n",
    "        \"target_test_label_accuracy\": target_test_label_accuracy,\n",
    "        \"target_test_label_loss\": target_test_label_loss,\n",
    "        \"source_val_label_accuracy\": source_val_label_accuracy,\n",
    "        \"source_val_label_loss\": source_val_label_loss,\n",
    "        \"target_val_label_accuracy\": target_val_label_accuracy,\n",
    "        \"target_val_label_loss\": target_val_label_loss,\n",
    "        \"total_epochs_trained\": total_epochs_trained,\n",
    "        \"total_experiment_time_secs\": total_experiment_time_secs,\n",
    "        \"confusion\": confusion,\n",
    "        \"per_domain_accuracy\": per_domain_accuracy,\n",
    "    },\n",
    "    \"history\": history,\n",
    "    \"dataset_metrics\": get_dataset_metrics(datasets, \"ptn\"),\n",
    "}"
   ]
  },
  {
   "cell_type": "code",
   "execution_count": 25,
   "id": "54a21829",
   "metadata": {
    "execution": {
     "iopub.execute_input": "2022-03-21T13:48:37.274124Z",
     "iopub.status.busy": "2022-03-21T13:48:37.273560Z",
     "iopub.status.idle": "2022-03-21T13:48:37.497632Z",
     "shell.execute_reply": "2022-03-21T13:48:37.496870Z"
    },
    "papermill": {
     "duration": 0.295437,
     "end_time": "2022-03-21T13:48:37.497792",
     "exception": false,
     "start_time": "2022-03-21T13:48:37.202355",
     "status": "completed"
    },
    "tags": []
   },
   "outputs": [
    {
     "data": {
      "image/png": "[encoded data removed]",
      "text/plain": [
       "<Figure size 1080x504 with 1 Axes>"
      ]
     },
     "metadata": {
      "needs_background": "light"
     },
     "output_type": "display_data"
    }
   ],
   "source": [
    "ax = get_loss_curve(experiment)\n",
    "plt.show()"
   ]
  },
  {
   "cell_type": "code",
   "execution_count": 26,
   "id": "fd8a0f60",
   "metadata": {
    "execution": {
     "iopub.execute_input": "2022-03-21T13:48:37.644907Z",
     "iopub.status.busy": "2022-03-21T13:48:37.644535Z",
     "iopub.status.idle": "2022-03-21T13:48:37.980254Z",
     "shell.execute_reply": "2022-03-21T13:48:37.979879Z"
    },
    "papermill": {
     "duration": 0.409054,
     "end_time": "2022-03-21T13:48:37.980328",
     "exception": false,
     "start_time": "2022-03-21T13:48:37.571274",
     "status": "completed"
    },
    "tags": []
   },
   "outputs": [
    {
     "data": {
      "text/plain": [
       "<AxesSubplot:title={'center':'Results'}>"
      ]
     },
     "execution_count": 26,
     "metadata": {},
     "output_type": "execute_result"
    },
    {
     "data": {
      "image/png": "[encoded data removed]",
      "text/plain": [
       "<Figure size 1080x504 with 1 Axes>"
      ]
     },
     "metadata": {
      "needs_background": "light"
     },
     "output_type": "display_data"
    }
   ],
   "source": [
    "get_results_table(experiment)"
   ]
  },
  {
   "cell_type": "code",
   "execution_count": 27,
   "id": "cf8dc689",
   "metadata": {
    "execution": {
     "iopub.execute_input": "2022-03-21T13:48:38.127129Z",
     "iopub.status.busy": "2022-03-21T13:48:38.126755Z",
     "iopub.status.idle": "2022-03-21T13:48:38.412838Z",
     "shell.execute_reply": "2022-03-21T13:48:38.413532Z"
    },
    "papermill": {
     "duration": 0.361318,
     "end_time": "2022-03-21T13:48:38.413746",
     "exception": false,
     "start_time": "2022-03-21T13:48:38.052428",
     "status": "completed"
    },
    "tags": []
   },
   "outputs": [
    {
     "data": {
      "text/plain": [
       "<AxesSubplot:title={'center':'Per Domain Validation Accuracy'}, xlabel='domain'>"
      ]
     },
     "execution_count": 27,
     "metadata": {},
     "output_type": "execute_result"
    },
    {
     "data": {
      "image/png": "[encoded data removed]",
      "text/plain": [
       "<Figure size 1080x504 with 1 Axes>"
      ]
     },
     "metadata": {
      "needs_background": "light"
     },
     "output_type": "display_data"
    }
   ],
   "source": [
    "get_domain_accuracies(experiment)"
   ]
  },
  {
   "cell_type": "code",
   "execution_count": 28,
   "id": "a74ae082",
   "metadata": {
    "execution": {
     "iopub.execute_input": "2022-03-21T13:48:38.565095Z",
     "iopub.status.busy": "2022-03-21T13:48:38.564525Z",
     "iopub.status.idle": "2022-03-21T13:48:38.591850Z",
     "shell.execute_reply": "2022-03-21T13:48:38.590996Z"
    },
    "papermill": {
     "duration": 0.105186,
     "end_time": "2022-03-21T13:48:38.592014",
     "exception": false,
     "start_time": "2022-03-21T13:48:38.486828",
     "status": "completed"
    },
    "tags": []
   },
   "outputs": [
    {
     "name": "stdout",
     "output_type": "stream",
     "text": [
      "Source Test Label Accuracy: 0.89853515625 Target Test Label Accuracy: 0.8871419270833333\n",
      "Source Val Label Accuracy: 0.9022786458333333 Target Val Label Accuracy: 0.8874674479166667\n"
     ]
    }
   ],
   "source": [
    "print(\"Source Test Label Accuracy:\", experiment[\"results\"][\"source_test_label_accuracy\"], \"Target Test Label Accuracy:\", experiment[\"results\"][\"target_test_label_accuracy\"])\n",
    "print(\"Source Val Label Accuracy:\", experiment[\"results\"][\"source_val_label_accuracy\"], \"Target Val Label Accuracy:\", experiment[\"results\"][\"target_val_label_accuracy\"])"
   ]
  },
  {
   "cell_type": "code",
   "execution_count": 29,
   "id": "dacca602",
   "metadata": {
    "execution": {
     "iopub.execute_input": "2022-03-21T13:48:38.748406Z",
     "iopub.status.busy": "2022-03-21T13:48:38.747833Z",
     "iopub.status.idle": "2022-03-21T13:48:38.773841Z",
     "shell.execute_reply": "2022-03-21T13:48:38.774516Z"
    },
    "papermill": {
     "duration": 0.103057,
     "end_time": "2022-03-21T13:48:38.774698",
     "exception": false,
     "start_time": "2022-03-21T13:48:38.671641",
     "status": "completed"
    },
    "tags": [
     "experiment_json"
    ]
   },
   "outputs": [
    {
     "data": {
      "text/plain": [
       "'{\"experiment_name\": \"tl_1v2:oracle.run1.framed-oracle.run2.framed\", \"parameters\": {\"experiment_name\": \"tl_1v2:oracle.run1.framed-oracle.run2.framed\", \"device\": \"cuda\", \"lr\": 0.0001, \"n_shot\": 3, \"n_query\": 2, \"train_k_factor\": 3, \"val_k_factor\": 2, \"test_k_factor\": 2, \"torch_default_dtype\": \"torch.float32\", \"n_epoch\": 50, \"patience\": 3, \"criteria_for_best\": \"target_accuracy\", \"x_net\": [{\"class\": \"nnReshape\", \"kargs\": {\"shape\": [-1, 1, 2, 256]}}, {\"class\": \"Conv2d\", \"kargs\": {\"in_channels\": 1, \"out_channels\": 256, \"kernel_size\": [1, 7], \"bias\": false, \"padding\": [0, 3]}}, {\"class\": \"ReLU\", \"kargs\": {\"inplace\": true}}, {\"class\": \"BatchNorm2d\", \"kargs\": {\"num_features\": 256}}, {\"class\": \"Conv2d\", \"kargs\": {\"in_channels\": 256, \"out_channels\": 80, \"kernel_size\": [2, 7], \"bias\": true, \"padding\": [0, 3]}}, {\"class\": \"ReLU\", \"kargs\": {\"inplace\": true}}, {\"class\": \"BatchNorm2d\", \"kargs\": {\"num_features\": 80}}, {\"class\": \"Flatten\", \"kargs\": {}}, {\"class\": \"Linear\", \"kargs\": {\"in_features\": 20480, \"out_features\": 256}}, {\"class\": \"ReLU\", \"kargs\": {\"inplace\": true}}, {\"class\": \"BatchNorm1d\", \"kargs\": {\"num_features\": 256}}, {\"class\": \"Linear\", \"kargs\": {\"in_features\": 256, \"out_features\": 256}}], \"NUM_LOGS_PER_EPOCH\": 10, \"BEST_MODEL_PATH\": \"./best_model.pth\", \"n_way\": 16, \"datasets\": [{\"labels\": [\"3123D52\", \"3123D65\", \"3123D79\", \"3123D80\", \"3123D54\", \"3123D70\", \"3123D7B\", \"3123D89\", \"3123D58\", \"3123D76\", \"3123D7D\", \"3123EFE\", \"3123D64\", \"3123D78\", \"3123D7E\", \"3124E4A\"], \"domains\": [32, 38, 8, 44, 14, 50, 20, 26], \"num_examples_per_domain_per_label\": 2000, \"pickle_path\": \"/root/csc500-main/datasets/oracle.Run1_framed_2000Examples_stratified_ds.2022A.pkl\", \"source_or_target_dataset\": \"target\", \"x_transforms\": [\"unit_power\"], \"episode_transforms\": [], \"domain_prefix\": \"ORACLE.run1_\"}, {\"labels\": [\"3123D52\", \"3123D65\", \"3123D79\", \"3123D80\", \"3123D54\", \"3123D70\", \"3123D7B\", \"3123D89\", \"3123D58\", \"3123D76\", \"3123D7D\", \"3123EFE\", \"3123D64\", \"3123D78\", \"3123D7E\", \"3124E4A\"], \"domains\": [32, 38, 8, 44, 14, 50, 20, 26], \"num_examples_per_domain_per_label\": 2000, \"pickle_path\": \"/root/csc500-main/datasets/oracle.Run2_framed_2000Examples_stratified_ds.2022A.pkl\", \"source_or_target_dataset\": \"source\", \"x_transforms\": [\"unit_power\"], \"episode_transforms\": [], \"domain_prefix\": \"ORACLE.run2_\"}], \"dataset_seed\": 420, \"seed\": 420, \"x_shape\": [2, 256], \"domains_source\": [\"ORACLE.run2_32\", \"ORACLE.run2_38\", \"ORACLE.run2_8\", \"ORACLE.run2_44\", \"ORACLE.run2_14\", \"ORACLE.run2_50\", \"ORACLE.run2_20\", \"ORACLE.run2_26\"], \"domains_target\": [\"ORACLE.run1_32\", \"ORACLE.run1_38\", \"ORACLE.run1_8\", \"ORACLE.run1_44\", \"ORACLE.run1_14\", \"ORACLE.run1_50\", \"ORACLE.run1_20\", \"ORACLE.run1_26\"]}, \"results\": {\"source_test_label_accuracy\": 0.89853515625, \"source_test_label_loss\": 0.28420695662498474, \"target_test_label_accuracy\": 0.8871419270833333, \"target_test_label_loss\": 0.33138740062713623, \"source_val_label_accuracy\": 0.9022786458333333, \"source_val_label_loss\": 0.27578479051589966, \"target_val_label_accuracy\": 0.8874674479166667, \"target_val_label_loss\": 0.3276156783103943, \"total_epochs_trained\": 15, \"total_experiment_time_secs\": 3840.3616995811462, \"confusion\": {\"ORACLE.run2_14\": {\"15\": {\"15\": 240}, \"5\": {\"5\": 214, \"4\": 14, \"1\": 6, \"2\": 4, \"3\": 2}, \"7\": {\"7\": 240}, \"4\": {\"4\": 233, \"5\": 5, \"1\": 2}, \"10\": {\"10\": 240}, \"11\": {\"11\": 240}, \"12\": {\"12\": 206, \"11\": 6, \"9\": 22, \"0\": 6}, \"0\": {\"0\": 240}, \"14\": {\"14\": 204, \"2\": 36}, \"8\": {\"8\": 240}, \"13\": {\"13\": 218, \"6\": 22}, \"6\": {\"6\": 222, \"13\": 18}, \"1\": {\"1\": 240}, \"3\": {\"3\": 222, \"5\": 9, \"2\": 8, \"4\": 1}, \"9\": {\"9\": 240}, \"2\": {\"2\": 164, \"14\": 42, \"3\": 12, \"5\": 20, \"13\": 2}}, \"ORACLE.run2_20\": {\"4\": {\"4\": 236, \"0\": 1, \"12\": 3}, \"10\": {\"10\": 240}, \"15\": {\"15\": 211, \"13\": 18, \"1\": 4, \"5\": 1, \"2\": 3, \"9\": 2, \"12\": 1}, \"0\": {\"0\": 232, \"15\": 5, \"5\": 2, \"13\": 1}, \"6\": {\"6\": 239, \"14\": 1}, \"3\": {\"3\": 192, \"2\": 32, \"9\": 13, \"7\": 3}, \"7\": {\"7\": 230, \"8\": 4, \"3\": 3, \"5\": 3}, \"2\": {\"2\": 174, \"3\": 29, \"9\": 19, \"13\": 1, \"5\": 7, \"12\": 6, \"1\": 3, \"15\": 1}, \"8\": {\"14\": 13, \"8\": 222, \"4\": 2, \"7\": 2, \"5\": 1}, \"11\": {\"11\": 240}, \"14\": {\"14\": 226, \"8\": 10, \"6\": 4}, \"12\": {\"12\": 192, \"2\": 6, \"1\": 37, \"9\": 2, \"5\": 2, \"13\": 1}, \"13\": {\"13\": 223, \"15\": 16, \"5\": 1}, \"9\": {\"9\": 215, \"2\": 14, \"12\": 5, \"3\": 6}, \"5\": {\"2\": 13, \"5\": 185, \"15\": 5, \"12\": 8, \"13\": 5, \"7\": 4, \"0\": 18, \"3\": 1, \"4\": 1}, \"1\": {\"12\": 29, \"1\": 211}}, \"ORACLE.run2_50\": {\"5\": {\"5\": 164, \"4\": 55, \"7\": 12, \"13\": 5, \"6\": 4}, \"12\": {\"12\": 240}, \"14\": {\"14\": 240}, \"4\": {\"4\": 175, \"6\": 5, \"5\": 55, \"1\": 5}, \"13\": {\"13\": 221, \"7\": 7, \"10\": 12}, \"10\": {\"13\": 17, \"10\": 223}, \"9\": {\"9\": 238, \"12\": 2}, \"15\": {\"15\": 234, \"1\": 4, \"11\": 2}, \"6\": {\"6\": 218, \"5\": 12, \"4\": 5, \"7\": 2, \"15\": 1, \"1\": 2}, \"2\": {\"2\": 236, \"0\": 4}, \"0\": {\"0\": 231, \"2\": 9}, \"11\": {\"11\": 234, \"15\": 4, \"12\": 2}, \"3\": {\"3\": 238, \"8\": 2}, \"8\": {\"8\": 238, \"3\": 2}, \"7\": {\"7\": 226, \"5\": 7, \"13\": 7}, \"1\": {\"1\": 232, \"4\": 5, \"15\": 3}}, \"ORACLE.run2_26\": {\"7\": {\"7\": 151, \"2\": 71, \"4\": 2, \"8\": 3, \"3\": 7, \"15\": 3, \"13\": 1, \"5\": 2}, \"6\": {\"6\": 228, \"10\": 2, \"9\": 10}, \"14\": {\"14\": 175, \"0\": 28, \"10\": 11, \"8\": 13, \"1\": 12, \"4\": 1}, \"15\": {\"15\": 215, \"2\": 8, \"7\": 13, \"3\": 3, \"9\": 1}, \"5\": {\"13\": 44, \"5\": 178, \"7\": 6, \"2\": 10, \"9\": 1, \"3\": 1}, \"10\": {\"10\": 131, \"14\": 32, \"0\": 60, \"6\": 3, \"15\": 2, \"4\": 3, \"8\": 9}, \"4\": {\"4\": 223, \"8\": 6, \"0\": 2, \"3\": 2, \"14\": 2, \"7\": 2, \"2\": 3}, \"11\": {\"11\": 240}, \"13\": {\"13\": 225, \"5\": 11, \"9\": 3, \"7\": 1}, \"2\": {\"7\": 64, \"2\": 137, \"15\": 4, \"3\": 14, \"8\": 12, \"4\": 4, \"14\": 1, \"5\": 4}, \"0\": {\"0\": 135, \"10\": 40, \"8\": 13, \"4\": 18, \"14\": 34}, \"12\": {\"12\": 240}, \"3\": {\"3\": 217, \"2\": 14, \"7\": 7, \"15\": 2}, \"9\": {\"9\": 222, \"13\": 11, \"6\": 6, \"5\": 1}, \"8\": {\"8\": 187, \"7\": 6, \"10\": 11, \"6\": 1, \"2\": 6, \"14\": 14, \"0\": 10, \"4\": 4, \"1\": 1}, \"1\": {\"1\": 230, \"14\": 10}}, \"ORACLE.run2_32\": {\"7\": {\"5\": 4, \"7\": 221, \"11\": 5, \"4\": 8, \"2\": 2}, \"2\": {\"2\": 237, \"7\": 1, \"4\": 1, \"5\": 1}, \"5\": {\"5\": 202, \"14\": 6, \"8\": 17, \"2\": 4, \"7\": 3, \"0\": 3, \"4\": 5}, \"6\": {\"6\": 240}, \"13\": {\"13\": 211, \"4\": 26, \"7\": 2, \"8\": 1}, \"4\": {\"4\": 189, \"13\": 30, \"7\": 16, \"2\": 3, \"8\": 1, \"5\": 1}, \"3\": {\"3\": 235, \"8\": 3, \"13\": 2}, \"0\": {\"0\": 218, \"11\": 5, \"8\": 8, \"14\": 4, \"5\": 2, \"4\": 3}, \"9\": {\"9\": 240}, \"12\": {\"12\": 240}, \"8\": {\"8\": 219, \"5\": 2, \"0\": 17, \"3\": 2}, \"14\": {\"14\": 233, \"0\": 4, \"5\": 3}, \"15\": {\"15\": 240}, \"11\": {\"11\": 210, \"0\": 13, \"7\": 13, \"8\": 2, \"13\": 1, \"4\": 1}, \"10\": {\"10\": 240}, \"1\": {\"1\": 240}}, \"ORACLE.run2_44\": {\"11\": {\"11\": 240}, \"7\": {\"7\": 170, \"9\": 62, \"2\": 7, \"6\": 1}, \"6\": {\"6\": 237, \"7\": 1, \"9\": 2}, \"12\": {\"12\": 210, \"1\": 27, \"3\": 3}, \"4\": {\"4\": 232, \"13\": 2, \"14\": 5, \"15\": 1}, \"13\": {\"13\": 237, \"4\": 2, \"6\": 1}, \"8\": {\"8\": 167, \"0\": 71, \"5\": 1, \"14\": 1}, \"5\": {\"5\": 228, \"14\": 10, \"0\": 1, \"8\": 1}, \"14\": {\"14\": 211, \"4\": 9, \"15\": 12, \"5\": 8}, \"3\": {\"3\": 228, \"12\": 8, \"1\": 3, \"2\": 1}, \"10\": {\"10\": 239, \"1\": 1}, \"1\": {\"1\": 216, \"3\": 6, \"12\": 17, \"10\": 1}, \"2\": {\"2\": 222, \"7\": 8, \"9\": 10}, \"15\": {\"15\": 223, \"4\": 4, \"14\": 11, \"0\": 1, \"8\": 1}, \"9\": {\"9\": 148, \"7\": 64, \"2\": 26, \"6\": 2}, \"0\": {\"0\": 173, \"8\": 67}}, \"ORACLE.run2_8\": {\"10\": {\"10\": 216, \"0\": 15, \"5\": 5, \"13\": 1, \"14\": 3}, \"6\": {\"6\": 195, \"4\": 38, \"7\": 7}, \"13\": {\"13\": 234, \"14\": 3, \"1\": 2, \"10\": 1}, \"3\": {\"3\": 239, \"12\": 1}, \"9\": {\"9\": 240}, \"1\": {\"1\": 239, \"13\": 1}, \"5\": {\"5\": 234, \"10\": 6}, \"11\": {\"11\": 233, \"12\": 3, \"8\": 4}, \"4\": {\"4\": 155, \"6\": 43, \"7\": 41, \"2\": 1}, \"14\": {\"14\": 214, \"0\": 22, \"13\": 4}, \"12\": {\"12\": 233, \"15\": 7}, \"7\": {\"4\": 58, \"7\": 176, \"6\": 6}, \"0\": {\"0\": 214, \"10\": 11, \"14\": 15}, \"15\": {\"15\": 229, \"12\": 6, \"8\": 5}, \"2\": {\"2\": 239, \"4\": 1}, \"8\": {\"8\": 239, \"15\": 1}}, \"ORACLE.run2_38\": {\"4\": {\"4\": 240}, \"7\": {\"7\": 176, \"5\": 21, \"8\": 20, \"10\": 21, \"0\": 2}, \"12\": {\"12\": 239, \"14\": 1}, \"10\": {\"10\": 212, \"7\": 20, \"13\": 2, \"5\": 1, \"3\": 4, \"0\": 1}, \"0\": {\"0\": 230, \"8\": 4, \"3\": 5, \"7\": 1}, \"1\": {\"1\": 234, \"15\": 6}, \"5\": {\"5\": 165, \"8\": 60, \"7\": 12, \"15\": 3}, \"15\": {\"1\": 14, \"15\": 207, \"5\": 13, \"8\": 6}, \"9\": {\"9\": 239, \"6\": 1}, \"11\": {\"11\": 239, \"4\": 1}, \"14\": {\"14\": 211, \"2\": 27, \"12\": 1, \"13\": 1}, \"6\": {\"6\": 238, \"9\": 2}, \"8\": {\"8\": 152, \"5\": 62, \"15\": 8, \"7\": 14, \"13\": 4}, \"3\": {\"13\": 31, \"3\": 200, \"10\": 3, \"0\": 5, \"9\": 1}, \"2\": {\"2\": 231, \"14\": 9}, \"13\": {\"13\": 187, \"3\": 48, \"10\": 2, \"8\": 2, \"0\": 1}}, \"ORACLE.run1_14\": {\"15\": {\"15\": 240}, \"5\": {\"5\": 211, \"1\": 7, \"4\": 17, \"3\": 4, \"2\": 1}, \"7\": {\"7\": 240}, \"4\": {\"4\": 235, \"5\": 4, \"13\": 1}, \"10\": {\"10\": 240}, \"11\": {\"11\": 220, \"12\": 15, \"9\": 5}, \"12\": {\"12\": 240}, \"0\": {\"0\": 238, \"10\": 1, \"3\": 1}, \"14\": {\"14\": 227, \"13\": 6, \"2\": 7}, \"8\": {\"8\": 240}, \"13\": {\"6\": 85, \"13\": 134, \"14\": 2, \"2\": 12, \"15\": 2, \"5\": 3, \"4\": 2}, \"6\": {\"6\": 188, \"13\": 47, \"2\": 3, \"14\": 2}, \"1\": {\"1\": 238, \"5\": 2}, \"3\": {\"3\": 236, \"14\": 2, \"2\": 2}, \"9\": {\"9\": 238, \"12\": 2}, \"2\": {\"2\": 160, \"13\": 5, \"14\": 49, \"6\": 7, \"3\": 6, \"5\": 11, \"15\": 2}}, \"ORACLE.run1_20\": {\"4\": {\"4\": 236, \"8\": 2, \"5\": 1, \"7\": 1}, \"10\": {\"10\": 240}, \"15\": {\"15\": 224, \"5\": 4, \"0\": 6, \"1\": 6}, \"0\": {\"0\": 206, \"5\": 22, \"15\": 12}, \"6\": {\"6\": 237, \"14\": 2, \"7\": 1}, \"3\": {\"3\": 194, \"9\": 9, \"12\": 32, \"1\": 1, \"4\": 1, \"7\": 2, \"2\": 1}, \"7\": {\"7\": 235, \"2\": 5}, \"2\": {\"2\": 198, \"3\": 4, \"12\": 8, \"9\": 16, \"7\": 11, \"1\": 1, \"13\": 1, \"15\": 1}, \"8\": {\"8\": 238, \"7\": 1, \"4\": 1}, \"11\": {\"11\": 240}, \"14\": {\"14\": 233, \"6\": 7}, \"12\": {\"12\": 180, \"3\": 27, \"1\": 28, \"15\": 1, \"9\": 2, \"2\": 2}, \"13\": {\"13\": 239, \"2\": 1}, \"9\": {\"9\": 211, \"3\": 14, \"2\": 11, \"12\": 4}, \"5\": {\"5\": 217, \"0\": 15, \"15\": 4, \"1\": 2, \"4\": 1, \"12\": 1}, \"1\": {\"15\": 6, \"1\": 209, \"12\": 23, \"3\": 2}}, \"ORACLE.run1_50\": {\"5\": {\"5\": 143, \"7\": 33, \"6\": 8, \"1\": 13, \"13\": 15, \"4\": 28}, \"12\": {\"12\": 238, \"14\": 1, \"11\": 1}, \"14\": {\"14\": 240}, \"4\": {\"4\": 177, \"7\": 7, \"15\": 26, \"5\": 26, \"1\": 3, \"13\": 1}, \"13\": {\"10\": 7, \"7\": 3, \"13\": 217, \"5\": 12, \"0\": 1}, \"10\": {\"10\": 227, \"8\": 4, \"13\": 2, \"0\": 7}, \"9\": {\"9\": 226, \"11\": 9, \"12\": 5}, \"15\": {\"15\": 214, \"4\": 12, \"11\": 3, \"6\": 1, \"1\": 10}, \"6\": {\"6\": 230, \"7\": 3, \"4\": 1, \"13\": 2, \"5\": 3, \"15\": 1}, \"2\": {\"2\": 231, \"0\": 9}, \"0\": {\"0\": 219, \"10\": 8, \"2\": 13}, \"11\": {\"11\": 230, \"15\": 6, \"12\": 3, \"9\": 1}, \"3\": {\"3\": 238, \"8\": 2}, \"8\": {\"8\": 232, \"10\": 8}, \"7\": {\"7\": 229, \"13\": 6, \"6\": 2, \"5\": 3}, \"1\": {\"1\": 224, \"15\": 12, \"5\": 2, \"6\": 2}}, \"ORACLE.run1_26\": {\"7\": {\"7\": 192, \"2\": 19, \"3\": 8, \"8\": 11, \"4\": 10}, \"6\": {\"6\": 230, \"15\": 8, \"9\": 1, \"10\": 1}, \"14\": {\"14\": 176, \"0\": 32, \"4\": 13, \"1\": 10, \"10\": 8, \"7\": 1}, \"15\": {\"9\": 27, \"15\": 195, \"13\": 5, \"5\": 3, \"8\": 4, \"6\": 4, \"2\": 1, \"10\": 1}, \"5\": {\"5\": 229, \"13\": 7, \"2\": 3, \"15\": 1}, \"10\": {\"10\": 130, \"8\": 30, \"0\": 59, \"4\": 6, \"14\": 14, \"15\": 1}, \"4\": {\"4\": 205, \"1\": 1, \"8\": 4, \"14\": 13, \"0\": 8, \"7\": 7, \"10\": 2}, \"11\": {\"11\": 240}, \"13\": {\"13\": 207, \"9\": 4, \"15\": 5, \"5\": 19, \"2\": 5}, \"2\": {\"7\": 21, \"2\": 129, \"3\": 61, \"8\": 3, \"5\": 21, \"15\": 2, \"13\": 3}, \"0\": {\"0\": 117, \"4\": 11, \"14\": 38, \"10\": 64, \"8\": 7, \"7\": 2, \"6\": 1}, \"12\": {\"12\": 240}, \"3\": {\"3\": 214, \"2\": 20, \"7\": 6}, \"9\": {\"9\": 211, \"15\": 19, \"6\": 2, \"13\": 6, \"10\": 1, \"2\": 1}, \"8\": {\"8\": 168, \"0\": 19, \"10\": 21, \"4\": 14, \"7\": 10, \"15\": 1, \"14\": 7}, \"1\": {\"1\": 232, \"14\": 5, \"4\": 2, \"7\": 1}}, \"ORACLE.run1_32\": {\"7\": {\"7\": 184, \"2\": 4, \"5\": 42, \"13\": 2, \"4\": 8}, \"2\": {\"2\": 211, \"4\": 28, \"7\": 1}, \"5\": {\"3\": 4, \"8\": 9, \"5\": 148, \"7\": 55, \"13\": 12, \"4\": 8, \"14\": 1, \"0\": 1, \"2\": 2}, \"6\": {\"6\": 240}, \"13\": {\"13\": 204, \"3\": 10, \"5\": 10, \"4\": 9, \"7\": 4, \"8\": 3}, \"4\": {\"4\": 207, \"2\": 25, \"7\": 7, \"13\": 1}, \"3\": {\"3\": 240}, \"0\": {\"0\": 217, \"8\": 16, \"14\": 4, \"5\": 2, \"13\": 1}, \"9\": {\"9\": 240}, \"12\": {\"12\": 240}, \"8\": {\"8\": 220, \"5\": 2, \"0\": 15, \"13\": 2, \"3\": 1}, \"14\": {\"14\": 195, \"0\": 18, \"5\": 2, \"11\": 21, \"7\": 2, \"8\": 1, \"3\": 1}, \"15\": {\"15\": 240}, \"11\": {\"11\": 237, \"14\": 3}, \"10\": {\"10\": 240}, \"1\": {\"1\": 240}}, \"ORACLE.run1_44\": {\"11\": {\"11\": 234, \"6\": 3, \"13\": 3}, \"7\": {\"7\": 194, \"9\": 25, \"2\": 15, \"6\": 6}, \"6\": {\"6\": 185, \"9\": 15, \"13\": 39, \"7\": 1}, \"12\": {\"12\": 226, \"1\": 12, \"3\": 2}, \"4\": {\"4\": 176, \"14\": 63, \"15\": 1}, \"13\": {\"13\": 175, \"11\": 3, \"9\": 23, \"6\": 39}, \"8\": {\"0\": 85, \"8\": 149, \"5\": 3, \"15\": 2, \"14\": 1}, \"5\": {\"5\": 218, \"8\": 4, \"0\": 9, \"15\": 4, \"14\": 5}, \"14\": {\"14\": 164, \"4\": 65, \"15\": 10, \"5\": 1}, \"3\": {\"3\": 235, \"1\": 5}, \"10\": {\"10\": 214, \"1\": 13, \"12\": 3, \"2\": 10}, \"1\": {\"1\": 186, \"10\": 11, \"12\": 25, \"2\": 14, \"3\": 4}, \"2\": {\"10\": 6, \"2\": 205, \"7\": 21, \"1\": 8}, \"15\": {\"15\": 208, \"14\": 9, \"0\": 12, \"8\": 8, \"4\": 1, \"5\": 2}, \"9\": {\"7\": 38, \"9\": 156, \"6\": 24, \"13\": 22}, \"0\": {\"0\": 169, \"8\": 65, \"15\": 3, \"5\": 3}}, \"ORACLE.run1_8\": {\"10\": {\"10\": 231, \"14\": 2, \"13\": 6, \"4\": 1}, \"6\": {\"6\": 217, \"7\": 11, \"0\": 1, \"13\": 7, \"4\": 4}, \"13\": {\"13\": 118, \"10\": 37, \"4\": 35, \"6\": 10, \"0\": 37, \"14\": 3}, \"3\": {\"3\": 240}, \"9\": {\"9\": 240}, \"1\": {\"1\": 235, \"5\": 1, \"11\": 4}, \"5\": {\"5\": 236, \"14\": 1, \"10\": 2, \"11\": 1}, \"11\": {\"1\": 21, \"11\": 219}, \"4\": {\"4\": 199, \"13\": 28, \"14\": 8, \"10\": 5}, \"14\": {\"14\": 221, \"10\": 8, \"13\": 2, \"1\": 3, \"4\": 6}, \"12\": {\"12\": 187, \"15\": 36, \"8\": 13, \"3\": 4}, \"7\": {\"7\": 213, \"0\": 4, \"6\": 22, \"2\": 1}, \"0\": {\"0\": 196, \"7\": 16, \"13\": 25, \"4\": 1, \"6\": 2}, \"15\": {\"15\": 232, \"12\": 6, \"8\": 2}, \"2\": {\"3\": 4, \"2\": 232, \"7\": 4}, \"8\": {\"8\": 240}}, \"ORACLE.run1_38\": {\"4\": {\"4\": 240}, \"7\": {\"7\": 215, \"0\": 12, \"10\": 1, \"8\": 4, \"5\": 8}, \"12\": {\"12\": 239, \"14\": 1}, \"10\": {\"7\": 7, \"10\": 215, \"8\": 1, \"0\": 5, \"13\": 12}, \"0\": {\"0\": 186, \"3\": 15, \"5\": 8, \"8\": 18, \"7\": 8, \"13\": 2, \"10\": 3}, \"1\": {\"1\": 240}, \"5\": {\"8\": 62, \"7\": 27, \"5\": 138, \"6\": 4, \"0\": 3, \"15\": 1, \"9\": 2, \"13\": 2, \"3\": 1}, \"15\": {\"15\": 210, \"14\": 2, \"8\": 12, \"1\": 9, \"5\": 6, \"13\": 1}, \"9\": {\"9\": 238, \"3\": 1, \"0\": 1}, \"11\": {\"11\": 238, \"10\": 2}, \"14\": {\"14\": 230, \"2\": 9, \"10\": 1}, \"6\": {\"6\": 239, \"9\": 1}, \"8\": {\"8\": 183, \"0\": 7, \"5\": 38, \"7\": 7, \"15\": 3, \"13\": 2}, \"3\": {\"3\": 240}, \"2\": {\"2\": 236, \"14\": 4}, \"13\": {\"13\": 231, \"10\": 3, \"0\": 2, \"8\": 2, \"2\": 2}}}, \"per_domain_accuracy\": {\"ORACLE.run2_14\": {\"accuracy\": 0.93828125, \"source?\": true}, \"ORACLE.run2_20\": {\"accuracy\": 0.903125, \"source?\": true}, \"ORACLE.run2_50\": {\"accuracy\": 0.934375, \"source?\": true}, \"ORACLE.run2_26\": {\"accuracy\": 0.8161458333333333, \"source?\": true}, \"ORACLE.run2_32\": {\"accuracy\": 0.94140625, \"source?\": true}, \"ORACLE.run2_44\": {\"accuracy\": 0.88046875, \"source?\": true}, \"ORACLE.run2_8\": {\"accuracy\": 0.9190104166666667, \"source?\": true}, \"ORACLE.run2_38\": {\"accuracy\": 0.8854166666666666, \"source?\": true}, \"ORACLE.run1_14\": {\"accuracy\": 0.91796875, \"source?\": false}, \"ORACLE.run1_20\": {\"accuracy\": 0.92109375, \"source?\": false}, \"ORACLE.run1_50\": {\"accuracy\": 0.9153645833333334, \"source?\": false}, \"ORACLE.run1_26\": {\"accuracy\": 0.8111979166666666, \"source?\": false}, \"ORACLE.run1_32\": {\"accuracy\": 0.9122395833333333, \"source?\": false}, \"ORACLE.run1_44\": {\"accuracy\": 0.8057291666666667, \"source?\": false}, \"ORACLE.run1_8\": {\"accuracy\": 0.9, \"source?\": false}, \"ORACLE.run1_38\": {\"accuracy\": 0.9161458333333333, \"source?\": false}}}, \"history\": {\"epoch_indices\": [1, 2, 3, 4, 5, 6, 7, 8, 9, 10, 11, 12, 13, 14, 15], \"train_label_loss\": [0.8066678613158209, 0.6522224242416477, 0.44682145244719107, 0.3826578793481791, 0.3409247727533858, 0.3025589965347622, 0.28563869290408633, 0.26278648134452637, 0.24959311618669225, 0.23479261586166797, 0.2211350441515346, 0.20793208766872773, 0.21614975309684745, 0.2060969312121978, 0.17720220441471957], \"source_val_label_loss\": [8.025967597961426, 0.5351386070251465, 0.4597393870353699, 0.3793298006057739, 0.3426663279533386, 0.33068886399269104, 0.304713636636734, 0.3064464032649994, 0.2986242473125458, 0.29225754737854004, 0.27578479051589966, 0.29157888889312744, 0.2876894474029541, 0.2810409367084503, 0.28291428089141846], \"target_val_label_loss\": [4.713925838470459, 0.506458580493927, 0.4427356421947479, 0.3946990966796875, 0.3575109541416168, 0.3624589145183563, 0.3433874845504761, 0.3582428991794586, 0.353142112493515, 0.3519972860813141, 0.3276156783103943, 0.35488930344581604, 0.3532644510269165, 0.3524632453918457, 0.35320013761520386], \"source_val_acc_label\": [0.7921875, 0.8115885416666667, 0.8358723958333333, 0.8648111979166667, 0.87529296875, 0.88212890625, 0.88916015625, 0.8888671875, 0.8920247395833333, 0.8926432291666667, 0.9022786458333333, 0.89423828125, 0.899609375, 0.9005859375, 0.9018880208333333], \"target_val_acc_label\": [0.8024088541666666, 0.8167643229166667, 0.8414388020833333, 0.8569986979166667, 0.8730794270833333, 0.8742838541666667, 0.8797526041666667, 0.87470703125, 0.87744140625, 0.8757486979166667, 0.8874674479166667, 0.8772135416666667, 0.8809895833333333, 0.88388671875, 0.8816080729166667]}, \"dataset_metrics\": {\"source\": {\"train\": {\"n_unique_x\": 179200, \"n_unique_y\": 16, \"n_batch/episode\": 6720}, \"val\": {\"n_unique_x\": 38400, \"n_unique_y\": 16, \"n_batch/episode\": 960}, \"test\": {\"n_unique_x\": 38400, \"n_unique_y\": 16, \"n_batch/episode\": 960}}, \"target\": {\"train\": {\"n_unique_x\": 179200, \"n_unique_y\": 16, \"n_batch/episode\": 6720}, \"val\": {\"n_unique_x\": 38400, \"n_unique_y\": 16, \"n_batch/episode\": 960}, \"test\": {\"n_unique_x\": 38400, \"n_unique_y\": 16, \"n_batch/episode\": 960}}}}'"
      ]
     },
     "execution_count": 29,
     "metadata": {},
     "output_type": "execute_result"
    }
   ],
   "source": [
    "json.dumps(experiment)"
   ]
  }
 ],
 "metadata": {
  "celltoolbar": "Tags",
  "kernelspec": {
   "display_name": "Python 3 (ipykernel)",
   "language": "python",
   "name": "python3"
  },
  "language_info": {
   "codemirror_mode": {
    "name": "ipython",
    "version": 3
   },
   "file_extension": ".py",
   "mimetype": "text/x-python",
   "name": "python",
   "nbconvert_exporter": "python",
   "pygments_lexer": "ipython3",
   "version": "3.8.12"
  },
  "papermill": {
   "default_parameters": {},
   "duration": 4065.046494,
   "end_time": "2022-03-21T13:48:41.572295",
   "environment_variables": {},
   "exception": null,
   "input_path": "/root/csc500-main/csc500-notebooks/templates/tl_ptn_template.ipynb",
   "output_path": "trial.ipynb",
   "parameters": {
    "parameters": {
     "BEST_MODEL_PATH": "./best_model.pth",
     "NUM_LOGS_PER_EPOCH": 10,
     "criteria_for_best": "target_accuracy",
     "dataset_seed": 420,
     "datasets": [
      {
       "domain_prefix": "ORACLE.run1_",
       "domains": [
        32,
        38,
        8,
        44,
        14,
        50,
        20,
        26
       ],
       "episode_transforms": [],
       "labels": [
        "3123D52",
        "3123D65",
        "3123D79",
        "3123D80",
        "3123D54",
        "3123D70",
        "3123D7B",
        "3123D89",
        "3123D58",
        "3123D76",
        "3123D7D",
        "3123EFE",
        "3123D64",
        "3123D78",
        "3123D7E",
        "3124E4A"
       ],
       "num_examples_per_domain_per_label": 2000,
       "pickle_path": "/root/csc500-main/datasets/oracle.Run1_framed_2000Examples_stratified_ds.2022A.pkl",
       "source_or_target_dataset": "target",
       "x_transforms": [
        "unit_power"
       ]
      },
      {
       "domain_prefix": "ORACLE.run2_",
       "domains": [
        32,
        38,
        8,
        44,
        14,
        50,
        20,
        26
       ],
       "episode_transforms": [],
       "labels": [
        "3123D52",
        "3123D65",
        "3123D79",
        "3123D80",
        "3123D54",
        "3123D70",
        "3123D7B",
        "3123D89",
        "3123D58",
        "3123D76",
        "3123D7D",
        "3123EFE",
        "3123D64",
        "3123D78",
        "3123D7E",
        "3124E4A"
       ],
       "num_examples_per_domain_per_label": 2000,
       "pickle_path": "/root/csc500-main/datasets/oracle.Run2_framed_2000Examples_stratified_ds.2022A.pkl",
       "source_or_target_dataset": "source",
       "x_transforms": [
        "unit_power"
       ]
      }
     ],
     "device": "cuda",
     "experiment_name": "tl_1v2:oracle.run1.framed-oracle.run2.framed",
     "lr": 0.0001,
     "n_epoch": 50,
     "n_query": 2,
     "n_shot": 3,
     "n_way": 16,
     "patience": 3,
     "seed": 420,
     "test_k_factor": 2,
     "torch_default_dtype": "torch.float32",
     "train_k_factor": 3,
     "val_k_factor": 2,
     "x_net": [
      {
       "class": "nnReshape",
       "kargs": {
        "shape": [
         -1,
         1,
         2,
         256
        ]
       }
      },
      {
       "class": "Conv2d",
       "kargs": {
        "bias": false,
        "in_channels": 1,
        "kernel_size": [
         1,
         7
        ],
        "out_channels": 256,
        "padding": [
         0,
         3
        ]
       }
      },
      {
       "class": "ReLU",
       "kargs": {
        "inplace": true
       }
      },
      {
       "class": "BatchNorm2d",
       "kargs": {
        "num_features": 256
       }
      },
      {
       "class": "Conv2d",
       "kargs": {
        "bias": true,
        "in_channels": 256,
        "kernel_size": [
         2,
         7
        ],
        "out_channels": 80,
        "padding": [
         0,
         3
        ]
       }
      },
      {
       "class": "ReLU",
       "kargs": {
        "inplace": true
       }
      },
      {
       "class": "BatchNorm2d",
       "kargs": {
        "num_features": 80
       }
      },
      {
       "class": "Flatten",
       "kargs": {}
      },
      {
       "class": "Linear",
       "kargs": {
        "in_features": 20480,
        "out_features": 256
       }
      },
      {
       "class": "ReLU",
       "kargs": {
        "inplace": true
       }
      },
      {
       "class": "BatchNorm1d",
       "kargs": {
        "num_features": 256
       }
      },
      {
       "class": "Linear",
       "kargs": {
        "in_features": 256,
        "out_features": 256
       }
      }
     ]
    }
   },
   "start_time": "2022-03-21T12:40:56.525801",
   "version": "2.3.4"
  }
 },
 "nbformat": 4,
 "nbformat_minor": 5
}