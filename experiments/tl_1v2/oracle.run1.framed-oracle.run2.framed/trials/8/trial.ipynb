{
 "cells": [
  {
   "cell_type": "markdown",
   "id": "9fea5f46",
   "metadata": {
    "papermill": {
     "duration": 0.030031,
     "end_time": "2022-03-21T11:56:35.080743",
     "exception": false,
     "start_time": "2022-03-21T11:56:35.050712",
     "status": "completed"
    },
    "tags": []
   },
   "source": [
    "# Transfer Learning Template"
   ]
  },
  {
   "cell_type": "code",
   "execution_count": 1,
   "id": "0902182a",
   "metadata": {
    "execution": {
     "iopub.execute_input": "2022-03-21T11:56:35.141170Z",
     "iopub.status.busy": "2022-03-21T11:56:35.134048Z",
     "iopub.status.idle": "2022-03-21T11:56:37.037226Z",
     "shell.execute_reply": "2022-03-21T11:56:37.036794Z"
    },
    "papermill": {
     "duration": 1.935003,
     "end_time": "2022-03-21T11:56:37.037334",
     "exception": false,
     "start_time": "2022-03-21T11:56:35.102331",
     "status": "completed"
    },
    "tags": []
   },
   "outputs": [],
   "source": [
    "%load_ext autoreload\n",
    "%autoreload 2\n",
    "%matplotlib inline\n",
    "\n",
    "    \n",
    "import os, json, sys, time, random\n",
    "import numpy as np\n",
    "import torch\n",
    "from torch.optim import Adam\n",
    "from  easydict import EasyDict\n",
    "import matplotlib.pyplot as plt\n",
    "\n",
    "from steves_models.steves_ptn import Steves_Prototypical_Network\n",
    "\n",
    "from steves_utils.lazy_iterable_wrapper import Lazy_Iterable_Wrapper\n",
    "from steves_utils.iterable_aggregator import Iterable_Aggregator\n",
    "from steves_utils.ptn_train_eval_test_jig import  PTN_Train_Eval_Test_Jig\n",
    "from steves_utils.torch_sequential_builder import build_sequential\n",
    "from steves_utils.torch_utils import get_dataset_metrics, ptn_confusion_by_domain_over_dataloader\n",
    "from steves_utils.utils_v2 import (per_domain_accuracy_from_confusion, get_datasets_base_path)\n",
    "from steves_utils.PTN.utils import independent_accuracy_assesment\n",
    "\n",
    "from torch.utils.data import DataLoader\n",
    "\n",
    "from steves_utils.stratified_dataset.episodic_accessor import Episodic_Accessor_Factory\n",
    "\n",
    "from steves_utils.ptn_do_report import (\n",
    "    get_loss_curve,\n",
    "    get_results_table,\n",
    "    get_parameters_table,\n",
    "    get_domain_accuracies,\n",
    ")\n",
    "\n",
    "from steves_utils.transforms import get_chained_transform"
   ]
  },
  {
   "cell_type": "markdown",
   "id": "41c840b4",
   "metadata": {
    "papermill": {
     "duration": 0.018953,
     "end_time": "2022-03-21T11:56:37.075970",
     "exception": false,
     "start_time": "2022-03-21T11:56:37.057017",
     "status": "completed"
    },
    "tags": []
   },
   "source": [
    "# Allowed Parameters\n",
    "These are allowed parameters, not defaults\n",
    "Each of these values need to be present in the injected parameters (the notebook will raise an exception if they are not present)\n",
    "\n",
    "Papermill uses the cell tag \"parameters\" to inject the real parameters below this cell.\n",
    "Enable tags to see what I mean"
   ]
  },
  {
   "cell_type": "code",
   "execution_count": 2,
   "id": "fd44eb83",
   "metadata": {
    "execution": {
     "iopub.execute_input": "2022-03-21T11:56:37.120130Z",
     "iopub.status.busy": "2022-03-21T11:56:37.119613Z",
     "iopub.status.idle": "2022-03-21T11:56:37.144252Z",
     "shell.execute_reply": "2022-03-21T11:56:37.143545Z"
    },
    "papermill": {
     "duration": 0.049355,
     "end_time": "2022-03-21T11:56:37.144406",
     "exception": false,
     "start_time": "2022-03-21T11:56:37.095051",
     "status": "completed"
    },
    "tags": []
   },
   "outputs": [],
   "source": [
    "required_parameters = {\n",
    "    \"experiment_name\",\n",
    "    \"lr\",\n",
    "    \"device\",\n",
    "    \"seed\",\n",
    "    \"dataset_seed\",\n",
    "    \"n_shot\",\n",
    "    \"n_query\",\n",
    "    \"n_way\",\n",
    "    \"train_k_factor\",\n",
    "    \"val_k_factor\",\n",
    "    \"test_k_factor\",\n",
    "    \"n_epoch\",\n",
    "    \"patience\",\n",
    "    \"criteria_for_best\",\n",
    "    \"x_net\",\n",
    "    \"datasets\",\n",
    "    \"torch_default_dtype\",\n",
    "    \"NUM_LOGS_PER_EPOCH\",\n",
    "    \"BEST_MODEL_PATH\",\n",
    "    \"x_shape\",\n",
    "}"
   ]
  },
  {
   "cell_type": "code",
   "execution_count": 3,
   "id": "fa3f0049",
   "metadata": {
    "execution": {
     "iopub.execute_input": "2022-03-21T11:56:37.205337Z",
     "iopub.status.busy": "2022-03-21T11:56:37.204719Z",
     "iopub.status.idle": "2022-03-21T11:56:37.228653Z",
     "shell.execute_reply": "2022-03-21T11:56:37.227974Z"
    },
    "papermill": {
     "duration": 0.056809,
     "end_time": "2022-03-21T11:56:37.228811",
     "exception": false,
     "start_time": "2022-03-21T11:56:37.172002",
     "status": "completed"
    },
    "tags": [
     "parameters"
    ]
   },
   "outputs": [],
   "source": [
    "from steves_utils.CORES.utils import (\n",
    "    ALL_NODES,\n",
    "    ALL_NODES_MINIMUM_1000_EXAMPLES,\n",
    "    ALL_DAYS\n",
    ")\n",
    "\n",
    "from steves_utils.ORACLE.utils_v2 import (\n",
    "    ALL_DISTANCES_FEET_NARROWED,\n",
    "    ALL_RUNS,\n",
    "    ALL_SERIAL_NUMBERS,\n",
    ")\n",
    "\n",
    "standalone_parameters = {}\n",
    "standalone_parameters[\"experiment_name\"] = \"STANDALONE PTN\"\n",
    "standalone_parameters[\"lr\"] = 0.001\n",
    "standalone_parameters[\"device\"] = \"cuda\"\n",
    "\n",
    "standalone_parameters[\"seed\"] = 1337\n",
    "standalone_parameters[\"dataset_seed\"] = 1337\n",
    "\n",
    "standalone_parameters[\"n_way\"] = 8\n",
    "standalone_parameters[\"n_shot\"] = 3\n",
    "standalone_parameters[\"n_query\"]  = 2\n",
    "standalone_parameters[\"train_k_factor\"] = 1\n",
    "standalone_parameters[\"val_k_factor\"] = 2\n",
    "standalone_parameters[\"test_k_factor\"] = 2\n",
    "\n",
    "\n",
    "standalone_parameters[\"n_epoch\"] = 50\n",
    "\n",
    "standalone_parameters[\"patience\"] = 10\n",
    "standalone_parameters[\"criteria_for_best\"] = \"source_loss\"\n",
    "\n",
    "standalone_parameters[\"datasets\"] = [\n",
    "    {\n",
    "        \"labels\": ALL_SERIAL_NUMBERS,\n",
    "        \"domains\": ALL_DISTANCES_FEET_NARROWED,\n",
    "        \"num_examples_per_domain_per_label\": 100,\n",
    "        \"pickle_path\": os.path.join(get_datasets_base_path(), \"oracle.Run1_framed_2000Examples_stratified_ds.2022A.pkl\"),\n",
    "        \"source_or_target_dataset\": \"source\",\n",
    "        \"x_transforms\": [\"unit_mag\", \"minus_two\"],\n",
    "        \"episode_transforms\": [],\n",
    "        \"domain_prefix\": \"ORACLE_\"\n",
    "    },\n",
    "    {\n",
    "        \"labels\": ALL_NODES,\n",
    "        \"domains\": ALL_DAYS,\n",
    "        \"num_examples_per_domain_per_label\": 100,\n",
    "        \"pickle_path\": os.path.join(get_datasets_base_path(), \"cores.stratified_ds.2022A.pkl\"),\n",
    "        \"source_or_target_dataset\": \"target\",\n",
    "        \"x_transforms\": [\"unit_power\", \"times_zero\"],\n",
    "        \"episode_transforms\": [],\n",
    "        \"domain_prefix\": \"CORES_\"\n",
    "    }   \n",
    "]\n",
    "\n",
    "standalone_parameters[\"torch_default_dtype\"] = \"torch.float32\" \n",
    "\n",
    "\n",
    "\n",
    "standalone_parameters[\"x_net\"] =     [\n",
    "    {\"class\": \"nnReshape\", \"kargs\": {\"shape\":[-1, 1, 2, 256]}},\n",
    "    {\"class\": \"Conv2d\", \"kargs\": { \"in_channels\":1, \"out_channels\":256, \"kernel_size\":(1,7), \"bias\":False, \"padding\":(0,3), },},\n",
    "    {\"class\": \"ReLU\", \"kargs\": {\"inplace\": True}},\n",
    "    {\"class\": \"BatchNorm2d\", \"kargs\": {\"num_features\":256}},\n",
    "\n",
    "    {\"class\": \"Conv2d\", \"kargs\": { \"in_channels\":256, \"out_channels\":80, \"kernel_size\":(2,7), \"bias\":True, \"padding\":(0,3), },},\n",
    "    {\"class\": \"ReLU\", \"kargs\": {\"inplace\": True}},\n",
    "    {\"class\": \"BatchNorm2d\", \"kargs\": {\"num_features\":80}},\n",
    "    {\"class\": \"Flatten\", \"kargs\": {}},\n",
    "\n",
    "    {\"class\": \"Linear\", \"kargs\": {\"in_features\": 80*256, \"out_features\": 256}}, # 80 units per IQ pair\n",
    "    {\"class\": \"ReLU\", \"kargs\": {\"inplace\": True}},\n",
    "    {\"class\": \"BatchNorm1d\", \"kargs\": {\"num_features\":256}},\n",
    "\n",
    "    {\"class\": \"Linear\", \"kargs\": {\"in_features\": 256, \"out_features\": 256}},\n",
    "]\n",
    "\n",
    "# Parameters relevant to results\n",
    "# These parameters will basically never need to change\n",
    "standalone_parameters[\"NUM_LOGS_PER_EPOCH\"] = 10\n",
    "standalone_parameters[\"BEST_MODEL_PATH\"] = \"./best_model.pth\"\n",
    "\n",
    "\n",
    "\n",
    "\n"
   ]
  },
  {
   "cell_type": "code",
   "execution_count": 4,
   "id": "93ef2acd",
   "metadata": {
    "execution": {
     "iopub.execute_input": "2022-03-21T11:56:37.284582Z",
     "iopub.status.busy": "2022-03-21T11:56:37.283678Z",
     "iopub.status.idle": "2022-03-21T11:56:37.306083Z",
     "shell.execute_reply": "2022-03-21T11:56:37.306754Z"
    },
    "papermill": {
     "duration": 0.055122,
     "end_time": "2022-03-21T11:56:37.306933",
     "exception": false,
     "start_time": "2022-03-21T11:56:37.251811",
     "status": "completed"
    },
    "tags": [
     "injected-parameters"
    ]
   },
   "outputs": [],
   "source": [
    "# Parameters\n",
    "parameters = {\n",
    "    \"experiment_name\": \"tl_1v2:oracle.run1.framed-oracle.run2.framed\",\n",
    "    \"device\": \"cuda\",\n",
    "    \"lr\": 0.0001,\n",
    "    \"n_shot\": 3,\n",
    "    \"n_query\": 2,\n",
    "    \"train_k_factor\": 3,\n",
    "    \"val_k_factor\": 2,\n",
    "    \"test_k_factor\": 2,\n",
    "    \"torch_default_dtype\": \"torch.float32\",\n",
    "    \"n_epoch\": 50,\n",
    "    \"patience\": 3,\n",
    "    \"criteria_for_best\": \"target_accuracy\",\n",
    "    \"x_net\": [\n",
    "        {\"class\": \"nnReshape\", \"kargs\": {\"shape\": [-1, 1, 2, 256]}},\n",
    "        {\n",
    "            \"class\": \"Conv2d\",\n",
    "            \"kargs\": {\n",
    "                \"in_channels\": 1,\n",
    "                \"out_channels\": 256,\n",
    "                \"kernel_size\": [1, 7],\n",
    "                \"bias\": False,\n",
    "                \"padding\": [0, 3],\n",
    "            },\n",
    "        },\n",
    "        {\"class\": \"ReLU\", \"kargs\": {\"inplace\": True}},\n",
    "        {\"class\": \"BatchNorm2d\", \"kargs\": {\"num_features\": 256}},\n",
    "        {\n",
    "            \"class\": \"Conv2d\",\n",
    "            \"kargs\": {\n",
    "                \"in_channels\": 256,\n",
    "                \"out_channels\": 80,\n",
    "                \"kernel_size\": [2, 7],\n",
    "                \"bias\": True,\n",
    "                \"padding\": [0, 3],\n",
    "            },\n",
    "        },\n",
    "        {\"class\": \"ReLU\", \"kargs\": {\"inplace\": True}},\n",
    "        {\"class\": \"BatchNorm2d\", \"kargs\": {\"num_features\": 80}},\n",
    "        {\"class\": \"Flatten\", \"kargs\": {}},\n",
    "        {\"class\": \"Linear\", \"kargs\": {\"in_features\": 20480, \"out_features\": 256}},\n",
    "        {\"class\": \"ReLU\", \"kargs\": {\"inplace\": True}},\n",
    "        {\"class\": \"BatchNorm1d\", \"kargs\": {\"num_features\": 256}},\n",
    "        {\"class\": \"Linear\", \"kargs\": {\"in_features\": 256, \"out_features\": 256}},\n",
    "    ],\n",
    "    \"NUM_LOGS_PER_EPOCH\": 10,\n",
    "    \"BEST_MODEL_PATH\": \"./best_model.pth\",\n",
    "    \"n_way\": 16,\n",
    "    \"datasets\": [\n",
    "        {\n",
    "            \"labels\": [\n",
    "                \"3123D52\",\n",
    "                \"3123D65\",\n",
    "                \"3123D79\",\n",
    "                \"3123D80\",\n",
    "                \"3123D54\",\n",
    "                \"3123D70\",\n",
    "                \"3123D7B\",\n",
    "                \"3123D89\",\n",
    "                \"3123D58\",\n",
    "                \"3123D76\",\n",
    "                \"3123D7D\",\n",
    "                \"3123EFE\",\n",
    "                \"3123D64\",\n",
    "                \"3123D78\",\n",
    "                \"3123D7E\",\n",
    "                \"3124E4A\",\n",
    "            ],\n",
    "            \"domains\": [32, 38, 8, 44, 14, 50, 20, 26],\n",
    "            \"num_examples_per_domain_per_label\": 2000,\n",
    "            \"pickle_path\": \"/root/csc500-main/datasets/oracle.Run1_framed_2000Examples_stratified_ds.2022A.pkl\",\n",
    "            \"source_or_target_dataset\": \"source\",\n",
    "            \"x_transforms\": [],\n",
    "            \"episode_transforms\": [],\n",
    "            \"domain_prefix\": \"ORACLE.run1_\",\n",
    "        },\n",
    "        {\n",
    "            \"labels\": [\n",
    "                \"3123D52\",\n",
    "                \"3123D65\",\n",
    "                \"3123D79\",\n",
    "                \"3123D80\",\n",
    "                \"3123D54\",\n",
    "                \"3123D70\",\n",
    "                \"3123D7B\",\n",
    "                \"3123D89\",\n",
    "                \"3123D58\",\n",
    "                \"3123D76\",\n",
    "                \"3123D7D\",\n",
    "                \"3123EFE\",\n",
    "                \"3123D64\",\n",
    "                \"3123D78\",\n",
    "                \"3123D7E\",\n",
    "                \"3124E4A\",\n",
    "            ],\n",
    "            \"domains\": [32, 38, 8, 44, 14, 50, 20, 26],\n",
    "            \"num_examples_per_domain_per_label\": 2000,\n",
    "            \"pickle_path\": \"/root/csc500-main/datasets/oracle.Run2_framed_2000Examples_stratified_ds.2022A.pkl\",\n",
    "            \"source_or_target_dataset\": \"target\",\n",
    "            \"x_transforms\": [],\n",
    "            \"episode_transforms\": [],\n",
    "            \"domain_prefix\": \"ORACLE.run2_\",\n",
    "        },\n",
    "    ],\n",
    "    \"dataset_seed\": 420,\n",
    "    \"seed\": 420,\n",
    "}\n"
   ]
  },
  {
   "cell_type": "code",
   "execution_count": 5,
   "id": "8fa1cc33",
   "metadata": {
    "execution": {
     "iopub.execute_input": "2022-03-21T11:56:37.361268Z",
     "iopub.status.busy": "2022-03-21T11:56:37.360440Z",
     "iopub.status.idle": "2022-03-21T11:56:37.384247Z",
     "shell.execute_reply": "2022-03-21T11:56:37.384912Z"
    },
    "papermill": {
     "duration": 0.051168,
     "end_time": "2022-03-21T11:56:37.385093",
     "exception": false,
     "start_time": "2022-03-21T11:56:37.333925",
     "status": "completed"
    },
    "tags": []
   },
   "outputs": [],
   "source": [
    "# Set this to True if you want to run this template directly\n",
    "STANDALONE = False\n",
    "if STANDALONE:\n",
    "    print(\"parameters not injected, running with standalone_parameters\")\n",
    "    parameters = standalone_parameters\n",
    "\n",
    "if not 'parameters' in locals() and not 'parameters' in globals():\n",
    "    raise Exception(\"Parameter injection failed\")\n",
    "\n",
    "#Use an easy dict for all the parameters\n",
    "p = EasyDict(parameters)\n",
    "\n",
    "if \"x_shape\" not in p:\n",
    "    p.x_shape = [2,256] # Default to this if we dont supply x_shape\n",
    "\n",
    "\n",
    "supplied_keys = set(p.keys())\n",
    "\n",
    "if  supplied_keys != required_parameters:\n",
    "    print(\"Parameters are incorrect\")\n",
    "    if len(supplied_keys - required_parameters)>0: print(\"Shouldn't have:\", str(supplied_keys - required_parameters))\n",
    "    if len(required_parameters - supplied_keys)>0: print(\"Need to have:\", str(required_parameters - supplied_keys))\n",
    "    raise RuntimeError(\"Parameters are incorrect\")"
   ]
  },
  {
   "cell_type": "code",
   "execution_count": 6,
   "id": "3a028d58",
   "metadata": {
    "execution": {
     "iopub.execute_input": "2022-03-21T11:56:37.435661Z",
     "iopub.status.busy": "2022-03-21T11:56:37.435282Z",
     "iopub.status.idle": "2022-03-21T11:56:37.459978Z",
     "shell.execute_reply": "2022-03-21T11:56:37.460647Z"
    },
    "papermill": {
     "duration": 0.048575,
     "end_time": "2022-03-21T11:56:37.460825",
     "exception": false,
     "start_time": "2022-03-21T11:56:37.412250",
     "status": "completed"
    },
    "tags": []
   },
   "outputs": [],
   "source": [
    "###################################\n",
    "# Set the RNGs and make it all deterministic\n",
    "###################################\n",
    "np.random.seed(p.seed)\n",
    "random.seed(p.seed)\n",
    "torch.manual_seed(p.seed)\n",
    "\n",
    "torch.use_deterministic_algorithms(True) "
   ]
  },
  {
   "cell_type": "code",
   "execution_count": 7,
   "id": "b691acf6",
   "metadata": {
    "execution": {
     "iopub.execute_input": "2022-03-21T11:56:37.509855Z",
     "iopub.status.busy": "2022-03-21T11:56:37.509494Z",
     "iopub.status.idle": "2022-03-21T11:56:37.533866Z",
     "shell.execute_reply": "2022-03-21T11:56:37.534501Z"
    },
    "papermill": {
     "duration": 0.048351,
     "end_time": "2022-03-21T11:56:37.534683",
     "exception": false,
     "start_time": "2022-03-21T11:56:37.486332",
     "status": "completed"
    },
    "tags": []
   },
   "outputs": [],
   "source": [
    "###########################################\n",
    "# The stratified datasets honor this\n",
    "###########################################\n",
    "torch.set_default_dtype(eval(p.torch_default_dtype))"
   ]
  },
  {
   "cell_type": "code",
   "execution_count": 8,
   "id": "b5fba671",
   "metadata": {
    "execution": {
     "iopub.execute_input": "2022-03-21T11:56:37.582725Z",
     "iopub.status.busy": "2022-03-21T11:56:37.582364Z",
     "iopub.status.idle": "2022-03-21T11:56:37.637654Z",
     "shell.execute_reply": "2022-03-21T11:56:37.638318Z"
    },
    "papermill": {
     "duration": 0.078955,
     "end_time": "2022-03-21T11:56:37.638495",
     "exception": false,
     "start_time": "2022-03-21T11:56:37.559540",
     "status": "completed"
    },
    "tags": []
   },
   "outputs": [],
   "source": [
    "###################################\n",
    "# Build the network(s)\n",
    "# Note: It's critical to do this AFTER setting the RNG\n",
    "###################################\n",
    "x_net = build_sequential(p.x_net)"
   ]
  },
  {
   "cell_type": "code",
   "execution_count": 9,
   "id": "5d7e61cc",
   "metadata": {
    "execution": {
     "iopub.execute_input": "2022-03-21T11:56:37.687074Z",
     "iopub.status.busy": "2022-03-21T11:56:37.686715Z",
     "iopub.status.idle": "2022-03-21T11:56:37.710392Z",
     "shell.execute_reply": "2022-03-21T11:56:37.711056Z"
    },
    "papermill": {
     "duration": 0.047689,
     "end_time": "2022-03-21T11:56:37.711232",
     "exception": false,
     "start_time": "2022-03-21T11:56:37.663543",
     "status": "completed"
    },
    "tags": []
   },
   "outputs": [],
   "source": [
    "start_time_secs = time.time()"
   ]
  },
  {
   "cell_type": "code",
   "execution_count": 10,
   "id": "c6b67dfd",
   "metadata": {
    "execution": {
     "iopub.execute_input": "2022-03-21T11:56:37.763205Z",
     "iopub.status.busy": "2022-03-21T11:56:37.762715Z",
     "iopub.status.idle": "2022-03-21T11:56:37.785141Z",
     "shell.execute_reply": "2022-03-21T11:56:37.785799Z"
    },
    "papermill": {
     "duration": 0.045999,
     "end_time": "2022-03-21T11:56:37.785973",
     "exception": false,
     "start_time": "2022-03-21T11:56:37.739974",
     "status": "completed"
    },
    "tags": []
   },
   "outputs": [],
   "source": [
    "p.domains_source = []\n",
    "p.domains_target = []\n",
    "\n",
    "\n",
    "train_original_source = []\n",
    "val_original_source   = []\n",
    "test_original_source  = []\n",
    "\n",
    "train_original_target = []\n",
    "val_original_target   = []\n",
    "test_original_target  = []"
   ]
  },
  {
   "cell_type": "code",
   "execution_count": 11,
   "id": "e3d9c3d3",
   "metadata": {
    "execution": {
     "iopub.execute_input": "2022-03-21T11:56:37.833284Z",
     "iopub.status.busy": "2022-03-21T11:56:37.832926Z",
     "iopub.status.idle": "2022-03-21T11:56:37.857185Z",
     "shell.execute_reply": "2022-03-21T11:56:37.857847Z"
    },
    "papermill": {
     "duration": 0.047462,
     "end_time": "2022-03-21T11:56:37.858022",
     "exception": false,
     "start_time": "2022-03-21T11:56:37.810560",
     "status": "completed"
    },
    "tags": []
   },
   "outputs": [],
   "source": [
    "# global_x_transform_func = lambda x: normalize(x.to(torch.get_default_dtype()), \"unit_power\") # unit_power, unit_mag\n",
    "# global_x_transform_func = lambda x: normalize(x, \"unit_power\") # unit_power, unit_mag"
   ]
  },
  {
   "cell_type": "code",
   "execution_count": 12,
   "id": "acb78fd2",
   "metadata": {
    "execution": {
     "iopub.execute_input": "2022-03-21T11:56:37.915393Z",
     "iopub.status.busy": "2022-03-21T11:56:37.914686Z",
     "iopub.status.idle": "2022-03-21T11:56:37.938080Z",
     "shell.execute_reply": "2022-03-21T11:56:37.937286Z"
    },
    "papermill": {
     "duration": 0.053036,
     "end_time": "2022-03-21T11:56:37.938231",
     "exception": false,
     "start_time": "2022-03-21T11:56:37.885195",
     "status": "completed"
    },
    "tags": []
   },
   "outputs": [],
   "source": [
    "def add_dataset(\n",
    "    labels,\n",
    "    domains,\n",
    "    pickle_path,\n",
    "    x_transforms,\n",
    "    episode_transforms,\n",
    "    domain_prefix,\n",
    "    num_examples_per_domain_per_label,\n",
    "    source_or_target_dataset:str,\n",
    "    iterator_seed=p.seed,\n",
    "    dataset_seed=p.dataset_seed,\n",
    "    n_shot=p.n_shot,\n",
    "    n_way=p.n_way,\n",
    "    n_query=p.n_query,\n",
    "    train_val_test_k_factors=(p.train_k_factor,p.val_k_factor,p.test_k_factor),\n",
    "):\n",
    "   \n",
    "    if x_transforms == []: x_transform = None\n",
    "    else: x_transform = get_chained_transform(x_transforms)\n",
    "    \n",
    "    if episode_transforms == []: episode_transform = None\n",
    "    else: raise Exception(\"episode_transforms not implemented\")\n",
    "    \n",
    "    episode_transform = lambda tup, _prefix=domain_prefix: (_prefix + str(tup[0]), tup[1])\n",
    "\n",
    "\n",
    "    eaf = Episodic_Accessor_Factory(\n",
    "        labels=labels,\n",
    "        domains=domains,\n",
    "        num_examples_per_domain_per_label=num_examples_per_domain_per_label,\n",
    "        iterator_seed=iterator_seed,\n",
    "        dataset_seed=dataset_seed,\n",
    "        n_shot=n_shot,\n",
    "        n_way=n_way,\n",
    "        n_query=n_query,\n",
    "        train_val_test_k_factors=train_val_test_k_factors,\n",
    "        pickle_path=pickle_path,\n",
    "        x_transform_func=x_transform,\n",
    "    )\n",
    "\n",
    "    train, val, test = eaf.get_train(), eaf.get_val(), eaf.get_test()\n",
    "    train = Lazy_Iterable_Wrapper(train, episode_transform)\n",
    "    val = Lazy_Iterable_Wrapper(val, episode_transform)\n",
    "    test = Lazy_Iterable_Wrapper(test, episode_transform)\n",
    "\n",
    "    if source_or_target_dataset==\"source\":\n",
    "        train_original_source.append(train)\n",
    "        val_original_source.append(val)\n",
    "        test_original_source.append(test)\n",
    "\n",
    "        p.domains_source.extend(\n",
    "            [domain_prefix + str(u) for u in domains]\n",
    "        )\n",
    "    elif source_or_target_dataset==\"target\":\n",
    "        train_original_target.append(train)\n",
    "        val_original_target.append(val)\n",
    "        test_original_target.append(test)\n",
    "        p.domains_target.extend(\n",
    "            [domain_prefix + str(u) for u in domains]\n",
    "        )\n",
    "    else:\n",
    "        raise Exception(f\"invalid source_or_target_dataset: {source_or_target_dataset}\")\n",
    "    "
   ]
  },
  {
   "cell_type": "code",
   "execution_count": 13,
   "id": "fe266617",
   "metadata": {
    "execution": {
     "iopub.execute_input": "2022-03-21T11:56:37.987853Z",
     "iopub.status.busy": "2022-03-21T11:56:37.987443Z",
     "iopub.status.idle": "2022-03-21T11:56:41.478381Z",
     "shell.execute_reply": "2022-03-21T11:56:41.477646Z"
    },
    "papermill": {
     "duration": 3.514575,
     "end_time": "2022-03-21T11:56:41.478573",
     "exception": false,
     "start_time": "2022-03-21T11:56:37.963998",
     "status": "completed"
    },
    "tags": []
   },
   "outputs": [],
   "source": [
    "for ds in p.datasets:\n",
    "    add_dataset(**ds)"
   ]
  },
  {
   "cell_type": "code",
   "execution_count": 14,
   "id": "b90d65ac",
   "metadata": {
    "execution": {
     "iopub.execute_input": "2022-03-21T11:56:41.529145Z",
     "iopub.status.busy": "2022-03-21T11:56:41.528578Z",
     "iopub.status.idle": "2022-03-21T11:56:41.552269Z",
     "shell.execute_reply": "2022-03-21T11:56:41.552902Z"
    },
    "papermill": {
     "duration": 0.048743,
     "end_time": "2022-03-21T11:56:41.553087",
     "exception": false,
     "start_time": "2022-03-21T11:56:41.504344",
     "status": "completed"
    },
    "tags": []
   },
   "outputs": [],
   "source": [
    "# from steves_utils.CORES.utils import (\n",
    "#     ALL_NODES,\n",
    "#     ALL_NODES_MINIMUM_1000_EXAMPLES,\n",
    "#     ALL_DAYS\n",
    "# )\n",
    "\n",
    "# add_dataset(\n",
    "#     labels=ALL_NODES,\n",
    "#     domains = ALL_DAYS,\n",
    "#     num_examples_per_domain_per_label=100,\n",
    "#     pickle_path=os.path.join(get_datasets_base_path(), \"cores.stratified_ds.2022A.pkl\"),\n",
    "#     source_or_target_dataset=\"target\",\n",
    "#     x_transform_func=global_x_transform_func,\n",
    "#     domain_modifier=lambda u: f\"cores_{u}\"\n",
    "# )"
   ]
  },
  {
   "cell_type": "code",
   "execution_count": 15,
   "id": "76db484d",
   "metadata": {
    "execution": {
     "iopub.execute_input": "2022-03-21T11:56:41.601748Z",
     "iopub.status.busy": "2022-03-21T11:56:41.601193Z",
     "iopub.status.idle": "2022-03-21T11:56:41.627427Z",
     "shell.execute_reply": "2022-03-21T11:56:41.627103Z"
    },
    "papermill": {
     "duration": 0.050073,
     "end_time": "2022-03-21T11:56:41.627513",
     "exception": false,
     "start_time": "2022-03-21T11:56:41.577440",
     "status": "completed"
    },
    "tags": []
   },
   "outputs": [],
   "source": [
    "# from steves_utils.ORACLE.utils_v2 import (\n",
    "#     ALL_DISTANCES_FEET,\n",
    "#     ALL_RUNS,\n",
    "#     ALL_SERIAL_NUMBERS,\n",
    "# )\n",
    "\n",
    "\n",
    "# add_dataset(\n",
    "#     labels=ALL_SERIAL_NUMBERS,\n",
    "#     domains = list(set(ALL_DISTANCES_FEET) - {2,62}),\n",
    "#     num_examples_per_domain_per_label=100,\n",
    "#     pickle_path=os.path.join(get_datasets_base_path(), \"oracle.Run2_framed_2000Examples_stratified_ds.2022A.pkl\"),\n",
    "#     source_or_target_dataset=\"source\",\n",
    "#     x_transform_func=global_x_transform_func,\n",
    "#     domain_modifier=lambda u: f\"oracle1_{u}\"\n",
    "# )\n"
   ]
  },
  {
   "cell_type": "code",
   "execution_count": 16,
   "id": "97dea9d2",
   "metadata": {
    "execution": {
     "iopub.execute_input": "2022-03-21T11:56:41.673611Z",
     "iopub.status.busy": "2022-03-21T11:56:41.673059Z",
     "iopub.status.idle": "2022-03-21T11:56:41.695670Z",
     "shell.execute_reply": "2022-03-21T11:56:41.695312Z"
    },
    "papermill": {
     "duration": 0.044831,
     "end_time": "2022-03-21T11:56:41.695759",
     "exception": false,
     "start_time": "2022-03-21T11:56:41.650928",
     "status": "completed"
    },
    "tags": []
   },
   "outputs": [],
   "source": [
    "# from steves_utils.ORACLE.utils_v2 import (\n",
    "#     ALL_DISTANCES_FEET,\n",
    "#     ALL_RUNS,\n",
    "#     ALL_SERIAL_NUMBERS,\n",
    "# )\n",
    "\n",
    "\n",
    "# add_dataset(\n",
    "#     labels=ALL_SERIAL_NUMBERS,\n",
    "#     domains = list(set(ALL_DISTANCES_FEET) - {2,62,56}),\n",
    "#     num_examples_per_domain_per_label=100,\n",
    "#     pickle_path=os.path.join(get_datasets_base_path(), \"oracle.Run2_framed_2000Examples_stratified_ds.2022A.pkl\"),\n",
    "#     source_or_target_dataset=\"source\",\n",
    "#     x_transform_func=global_x_transform_func,\n",
    "#     domain_modifier=lambda u: f\"oracle2_{u}\"\n",
    "# )"
   ]
  },
  {
   "cell_type": "code",
   "execution_count": 17,
   "id": "6f289866",
   "metadata": {
    "execution": {
     "iopub.execute_input": "2022-03-21T11:56:41.740319Z",
     "iopub.status.busy": "2022-03-21T11:56:41.739755Z",
     "iopub.status.idle": "2022-03-21T11:56:41.760977Z",
     "shell.execute_reply": "2022-03-21T11:56:41.760584Z"
    },
    "papermill": {
     "duration": 0.044223,
     "end_time": "2022-03-21T11:56:41.761064",
     "exception": false,
     "start_time": "2022-03-21T11:56:41.716841",
     "status": "completed"
    },
    "tags": []
   },
   "outputs": [],
   "source": [
    "# add_dataset(\n",
    "#     labels=list(range(19)),\n",
    "#     domains = [0,1,2],\n",
    "#     num_examples_per_domain_per_label=100,\n",
    "#     pickle_path=os.path.join(get_datasets_base_path(), \"metehan.stratified_ds.2022A.pkl\"),\n",
    "#     source_or_target_dataset=\"target\",\n",
    "#     x_transform_func=global_x_transform_func,\n",
    "#     domain_modifier=lambda u: f\"met_{u}\"\n",
    "# )"
   ]
  },
  {
   "cell_type": "code",
   "execution_count": 18,
   "id": "86a863c3",
   "metadata": {
    "execution": {
     "iopub.execute_input": "2022-03-21T11:56:41.807978Z",
     "iopub.status.busy": "2022-03-21T11:56:41.807393Z",
     "iopub.status.idle": "2022-03-21T11:56:41.828186Z",
     "shell.execute_reply": "2022-03-21T11:56:41.827813Z"
    },
    "papermill": {
     "duration": 0.043727,
     "end_time": "2022-03-21T11:56:41.828273",
     "exception": false,
     "start_time": "2022-03-21T11:56:41.784546",
     "status": "completed"
    },
    "tags": []
   },
   "outputs": [],
   "source": [
    "# # from steves_utils.wisig.utils import (\n",
    "# #     ALL_NODES_MINIMUM_100_EXAMPLES,\n",
    "# #     ALL_NODES_MINIMUM_500_EXAMPLES,\n",
    "# #     ALL_NODES_MINIMUM_1000_EXAMPLES,\n",
    "# #     ALL_DAYS\n",
    "# # )\n",
    "\n",
    "# import steves_utils.wisig.utils as wisig\n",
    "\n",
    "\n",
    "# add_dataset(\n",
    "#     labels=wisig.ALL_NODES_MINIMUM_100_EXAMPLES,\n",
    "#     domains = wisig.ALL_DAYS,\n",
    "#     num_examples_per_domain_per_label=100,\n",
    "#     pickle_path=os.path.join(get_datasets_base_path(), \"wisig.node3-19.stratified_ds.2022A.pkl\"),\n",
    "#     source_or_target_dataset=\"target\",\n",
    "#     x_transform_func=global_x_transform_func,\n",
    "#     domain_modifier=lambda u: f\"wisig_{u}\"\n",
    "# )"
   ]
  },
  {
   "cell_type": "code",
   "execution_count": 19,
   "id": "fd5442bc",
   "metadata": {
    "execution": {
     "iopub.execute_input": "2022-03-21T11:56:41.880572Z",
     "iopub.status.busy": "2022-03-21T11:56:41.879756Z",
     "iopub.status.idle": "2022-03-21T11:56:41.903644Z",
     "shell.execute_reply": "2022-03-21T11:56:41.903272Z"
    },
    "papermill": {
     "duration": 0.049847,
     "end_time": "2022-03-21T11:56:41.903740",
     "exception": false,
     "start_time": "2022-03-21T11:56:41.853893",
     "status": "completed"
    },
    "tags": []
   },
   "outputs": [],
   "source": [
    "###################################\n",
    "# Build the dataset\n",
    "###################################\n",
    "train_original_source = Iterable_Aggregator(train_original_source, p.seed)\n",
    "val_original_source = Iterable_Aggregator(val_original_source, p.seed)\n",
    "test_original_source = Iterable_Aggregator(test_original_source, p.seed)\n",
    "\n",
    "\n",
    "train_original_target = Iterable_Aggregator(train_original_target, p.seed)\n",
    "val_original_target = Iterable_Aggregator(val_original_target, p.seed)\n",
    "test_original_target = Iterable_Aggregator(test_original_target, p.seed)\n",
    "\n",
    "# For CNN We only use X and Y. And we only train on the source.\n",
    "# Properly form the data using a transform lambda and Lazy_Iterable_Wrapper. Finally wrap them in a dataloader\n",
    "\n",
    "transform_lambda = lambda ex: ex[1] # Original is (<domain>, <episode>) so we strip down to episode only\n",
    "\n",
    "train_processed_source = Lazy_Iterable_Wrapper(train_original_source, transform_lambda)\n",
    "val_processed_source   = Lazy_Iterable_Wrapper(val_original_source, transform_lambda)\n",
    "test_processed_source  = Lazy_Iterable_Wrapper(test_original_source, transform_lambda)\n",
    "\n",
    "train_processed_target = Lazy_Iterable_Wrapper(train_original_target, transform_lambda)\n",
    "val_processed_target   = Lazy_Iterable_Wrapper(val_original_target, transform_lambda)\n",
    "test_processed_target  = Lazy_Iterable_Wrapper(test_original_target, transform_lambda)\n",
    "\n",
    "datasets = EasyDict({\n",
    "    \"source\": {\n",
    "        \"original\": {\"train\":train_original_source, \"val\":val_original_source, \"test\":test_original_source},\n",
    "        \"processed\": {\"train\":train_processed_source, \"val\":val_processed_source, \"test\":test_processed_source}\n",
    "    },\n",
    "    \"target\": {\n",
    "        \"original\": {\"train\":train_original_target, \"val\":val_original_target, \"test\":test_original_target},\n",
    "        \"processed\": {\"train\":train_processed_target, \"val\":val_processed_target, \"test\":test_processed_target}\n",
    "    },\n",
    "})"
   ]
  },
  {
   "cell_type": "code",
   "execution_count": 20,
   "id": "5b3c01fc",
   "metadata": {
    "execution": {
     "iopub.execute_input": "2022-03-21T11:56:41.954916Z",
     "iopub.status.busy": "2022-03-21T11:56:41.954333Z",
     "iopub.status.idle": "2022-03-21T11:56:57.063420Z",
     "shell.execute_reply": "2022-03-21T11:56:57.064083Z"
    },
    "papermill": {
     "duration": 15.133826,
     "end_time": "2022-03-21T11:56:57.064302",
     "exception": false,
     "start_time": "2022-03-21T11:56:41.930476",
     "status": "completed"
    },
    "tags": []
   },
   "outputs": [
    {
     "name": "stdout",
     "output_type": "stream",
     "text": [
      "{'ORACLE.run1_38', 'ORACLE.run1_32', 'ORACLE.run1_14', 'ORACLE.run1_26', 'ORACLE.run1_50', 'ORACLE.run1_44', 'ORACLE.run1_20', 'ORACLE.run1_8'}\n"
     ]
    },
    {
     "name": "stdout",
     "output_type": "stream",
     "text": [
      "{'ORACLE.run2_20', 'ORACLE.run2_50', 'ORACLE.run2_44', 'ORACLE.run2_38', 'ORACLE.run2_26', 'ORACLE.run2_14', 'ORACLE.run2_32', 'ORACLE.run2_8'}\n"
     ]
    },
    {
     "name": "stdout",
     "output_type": "stream",
     "text": [
      "tensor([[[ 2.1668e-03,  1.0681e-03, -3.2655e-03,  ..., -9.1556e-04,\n",
      "           4.6083e-03,  1.5870e-03],\n",
      "         [ 5.1881e-04,  4.0590e-03, -1.0376e-03,  ..., -3.5401e-03,\n",
      "          -5.7985e-04, -2.3499e-03]],\n",
      "\n",
      "        [[-2.1973e-03,  1.7396e-03,  1.8006e-03,  ..., -1.8006e-03,\n",
      "          -3.9979e-03, -2.5330e-03],\n",
      "         [-1.6480e-03, -3.4181e-03,  3.1434e-03,  ...,  3.4486e-03,\n",
      "          -2.5941e-03,  9.4607e-04]],\n",
      "\n",
      "        [[-1.2207e-04,  3.7538e-03, -7.6296e-04,  ..., -3.6012e-03,\n",
      "          -5.1881e-04, -2.4415e-03],\n",
      "         [-1.9227e-03, -5.4933e-04,  3.3570e-03,  ..., -6.1037e-05,\n",
      "          -4.8219e-03, -1.8311e-03]],\n",
      "\n",
      "        ...,\n",
      "\n",
      "        [[ 2.9908e-03,  6.7141e-04, -4.0284e-03,  ..., -1.1292e-03,\n",
      "           5.7375e-03,  1.6785e-03],\n",
      "         [ 7.0193e-04,  4.5778e-03, -1.7396e-03,  ..., -4.6693e-03,\n",
      "          -6.1037e-04, -3.9979e-03]],\n",
      "\n",
      "        [[ 4.4862e-03,  1.3733e-03, -5.8596e-03,  ..., -4.8830e-04,\n",
      "           4.6999e-03, -3.4181e-03],\n",
      "         [ 4.5778e-04,  3.8148e-03, -5.4933e-04,  ..., -4.3336e-03,\n",
      "          -3.7233e-03, -4.3336e-03]],\n",
      "\n",
      "        [[ 3.9064e-03,  2.4110e-03, -4.4557e-03,  ..., -3.4486e-03,\n",
      "          -9.1556e-04, -5.9816e-03],\n",
      "         [-3.1434e-03,  2.3804e-03,  4.1505e-03,  ..., -3.6317e-03,\n",
      "          -5.3713e-03,  1.0987e-03]]])\n"
     ]
    }
   ],
   "source": [
    "from steves_utils.transforms import get_average_magnitude, get_average_power\n",
    "\n",
    "print(set([u for u,_ in val_original_source]))\n",
    "print(set([u for u,_ in val_original_target]))\n",
    "\n",
    "s_x, s_y, q_x, q_y, _ = next(iter(train_processed_source))\n",
    "print(s_x)\n",
    "\n",
    "# for ds in [\n",
    "#     train_processed_source,\n",
    "#     val_processed_source,\n",
    "#     test_processed_source,\n",
    "#     train_processed_target,\n",
    "#     val_processed_target,\n",
    "#     test_processed_target\n",
    "# ]:\n",
    "#     for s_x, s_y, q_x, q_y, _ in ds:\n",
    "#         for X in (s_x, q_x):\n",
    "#             for x in X:\n",
    "#                 assert np.isclose(get_average_magnitude(x.numpy()), 1.0)\n",
    "#                 assert np.isclose(get_average_power(x.numpy()), 1.0)\n",
    "                "
   ]
  },
  {
   "cell_type": "code",
   "execution_count": 21,
   "id": "bbdacba1",
   "metadata": {
    "execution": {
     "iopub.execute_input": "2022-03-21T11:56:57.121540Z",
     "iopub.status.busy": "2022-03-21T11:56:57.120783Z",
     "iopub.status.idle": "2022-03-21T11:56:57.383817Z",
     "shell.execute_reply": "2022-03-21T11:56:57.383044Z"
    },
    "papermill": {
     "duration": 0.290362,
     "end_time": "2022-03-21T11:56:57.383996",
     "exception": false,
     "start_time": "2022-03-21T11:56:57.093634",
     "status": "completed"
    },
    "tags": []
   },
   "outputs": [
    {
     "name": "stdout",
     "output_type": "stream",
     "text": [
      "(2, 256)\n"
     ]
    }
   ],
   "source": [
    "###################################\n",
    "# Build the model\n",
    "###################################\n",
    "# easfsl only wants a tuple for the shape\n",
    "model = Steves_Prototypical_Network(x_net, device=p.device, x_shape=tuple(p.x_shape))\n",
    "optimizer = Adam(params=model.parameters(), lr=p.lr)"
   ]
  },
  {
   "cell_type": "code",
   "execution_count": 22,
   "id": "22b39ac5",
   "metadata": {
    "execution": {
     "iopub.execute_input": "2022-03-21T11:56:57.438994Z",
     "iopub.status.busy": "2022-03-21T11:56:57.438615Z",
     "iopub.status.idle": "2022-03-21T12:36:13.421002Z",
     "shell.execute_reply": "2022-03-21T12:36:13.420660Z"
    },
    "papermill": {
     "duration": 2356.009319,
     "end_time": "2022-03-21T12:36:13.421089",
     "exception": false,
     "start_time": "2022-03-21T11:56:57.411770",
     "status": "completed"
    },
    "tags": []
   },
   "outputs": [
    {
     "name": "stdout",
     "output_type": "stream",
     "text": [
      "epoch: 1, [batch: 1 / 6720], examples_per_second: 33.3283, train_label_loss: 2.9245, \n"
     ]
    },
    {
     "name": "stdout",
     "output_type": "stream",
     "text": [
      "epoch: 1, [batch: 672 / 6720], examples_per_second: 2907.6032, train_label_loss: 0.5419, \n"
     ]
    },
    {
     "name": "stdout",
     "output_type": "stream",
     "text": [
      "epoch: 1, [batch: 1344 / 6720], examples_per_second: 2677.4935, train_label_loss: 0.4279, \n"
     ]
    },
    {
     "name": "stdout",
     "output_type": "stream",
     "text": [
      "epoch: 1, [batch: 2016 / 6720], examples_per_second: 2276.4310, train_label_loss: 0.5916, \n"
     ]
    },
    {
     "name": "stdout",
     "output_type": "stream",
     "text": [
      "epoch: 1, [batch: 2688 / 6720], examples_per_second: 2298.5142, train_label_loss: 0.6834, \n"
     ]
    },
    {
     "name": "stdout",
     "output_type": "stream",
     "text": [
      "epoch: 1, [batch: 3360 / 6720], examples_per_second: 2276.7968, train_label_loss: 0.0959, \n"
     ]
    },
    {
     "name": "stdout",
     "output_type": "stream",
     "text": [
      "epoch: 1, [batch: 4032 / 6720], examples_per_second: 2284.9336, train_label_loss: 0.0831, \n"
     ]
    },
    {
     "name": "stdout",
     "output_type": "stream",
     "text": [
      "epoch: 1, [batch: 4704 / 6720], examples_per_second: 2505.7389, train_label_loss: 0.1378, \n"
     ]
    },
    {
     "name": "stdout",
     "output_type": "stream",
     "text": [
      "epoch: 1, [batch: 5376 / 6720], examples_per_second: 2571.9603, train_label_loss: 0.2118, \n"
     ]
    },
    {
     "name": "stdout",
     "output_type": "stream",
     "text": [
      "epoch: 1, [batch: 6048 / 6720], examples_per_second: 2606.6834, train_label_loss: 0.3340, \n"
     ]
    },
    {
     "name": "stdout",
     "output_type": "stream",
     "text": [
      "=============================================================\n",
      "epoch: 1, source_val_acc_label: 0.6995, target_val_acc_label: 0.6977, source_val_label_loss: 15.8548, target_val_label_loss: 15.4001, \n",
      "=============================================================\n"
     ]
    },
    {
     "name": "stdout",
     "output_type": "stream",
     "text": [
      "New best\n"
     ]
    },
    {
     "name": "stdout",
     "output_type": "stream",
     "text": [
      "epoch: 2, [batch: 1 / 6720], examples_per_second: 2.0337, train_label_loss: 0.3487, \n"
     ]
    },
    {
     "name": "stdout",
     "output_type": "stream",
     "text": [
      "epoch: 2, [batch: 672 / 6720], examples_per_second: 2582.9939, train_label_loss: 0.1119, \n"
     ]
    },
    {
     "name": "stdout",
     "output_type": "stream",
     "text": [
      "epoch: 2, [batch: 1344 / 6720], examples_per_second: 2809.0107, train_label_loss: 0.3085, \n"
     ]
    },
    {
     "name": "stdout",
     "output_type": "stream",
     "text": [
      "epoch: 2, [batch: 2016 / 6720], examples_per_second: 2627.7586, train_label_loss: 0.1518, \n"
     ]
    },
    {
     "name": "stdout",
     "output_type": "stream",
     "text": [
      "epoch: 2, [batch: 2688 / 6720], examples_per_second: 2568.1128, train_label_loss: 0.3047, \n"
     ]
    },
    {
     "name": "stdout",
     "output_type": "stream",
     "text": [
      "epoch: 2, [batch: 3360 / 6720], examples_per_second: 2553.1294, train_label_loss: 0.2281, \n"
     ]
    },
    {
     "name": "stdout",
     "output_type": "stream",
     "text": [
      "epoch: 2, [batch: 4032 / 6720], examples_per_second: 2580.3706, train_label_loss: 0.2978, \n"
     ]
    },
    {
     "name": "stdout",
     "output_type": "stream",
     "text": [
      "epoch: 2, [batch: 4704 / 6720], examples_per_second: 2885.8714, train_label_loss: 0.2760, \n"
     ]
    },
    {
     "name": "stdout",
     "output_type": "stream",
     "text": [
      "epoch: 2, [batch: 5376 / 6720], examples_per_second: 3018.7325, train_label_loss: 0.3216, \n"
     ]
    },
    {
     "name": "stdout",
     "output_type": "stream",
     "text": [
      "epoch: 2, [batch: 6048 / 6720], examples_per_second: 3143.2524, train_label_loss: 0.1555, \n"
     ]
    },
    {
     "name": "stdout",
     "output_type": "stream",
     "text": [
      "=============================================================\n",
      "epoch: 2, source_val_acc_label: 0.9060, target_val_acc_label: 0.8998, source_val_label_loss: 0.2668, target_val_label_loss: 0.3462, \n",
      "=============================================================\n"
     ]
    },
    {
     "name": "stdout",
     "output_type": "stream",
     "text": [
      "New best\n"
     ]
    },
    {
     "name": "stdout",
     "output_type": "stream",
     "text": [
      "epoch: 3, [batch: 1 / 6720], examples_per_second: 2.2129, train_label_loss: 0.1917, \n"
     ]
    },
    {
     "name": "stdout",
     "output_type": "stream",
     "text": [
      "epoch: 3, [batch: 672 / 6720], examples_per_second: 2646.7036, train_label_loss: 0.2973, \n"
     ]
    },
    {
     "name": "stdout",
     "output_type": "stream",
     "text": [
      "epoch: 3, [batch: 1344 / 6720], examples_per_second: 2580.6997, train_label_loss: 0.2324, \n"
     ]
    },
    {
     "name": "stdout",
     "output_type": "stream",
     "text": [
      "epoch: 3, [batch: 2016 / 6720], examples_per_second: 2304.6733, train_label_loss: 0.1924, \n"
     ]
    },
    {
     "name": "stdout",
     "output_type": "stream",
     "text": [
      "epoch: 3, [batch: 2688 / 6720], examples_per_second: 2346.9083, train_label_loss: 0.1751, \n"
     ]
    },
    {
     "name": "stdout",
     "output_type": "stream",
     "text": [
      "epoch: 3, [batch: 3360 / 6720], examples_per_second: 2305.5950, train_label_loss: 0.3609, \n"
     ]
    },
    {
     "name": "stdout",
     "output_type": "stream",
     "text": [
      "epoch: 3, [batch: 4032 / 6720], examples_per_second: 2349.1876, train_label_loss: 0.5167, \n"
     ]
    },
    {
     "name": "stdout",
     "output_type": "stream",
     "text": [
      "epoch: 3, [batch: 4704 / 6720], examples_per_second: 2565.2830, train_label_loss: 0.1198, \n"
     ]
    },
    {
     "name": "stdout",
     "output_type": "stream",
     "text": [
      "epoch: 3, [batch: 5376 / 6720], examples_per_second: 2639.6071, train_label_loss: 0.2450, \n"
     ]
    },
    {
     "name": "stdout",
     "output_type": "stream",
     "text": [
      "epoch: 3, [batch: 6048 / 6720], examples_per_second: 2544.0033, train_label_loss: 0.1890, \n"
     ]
    },
    {
     "name": "stdout",
     "output_type": "stream",
     "text": [
      "=============================================================\n",
      "epoch: 3, source_val_acc_label: 0.9348, target_val_acc_label: 0.9254, source_val_label_loss: 0.1900, target_val_label_loss: 0.2756, \n",
      "=============================================================\n"
     ]
    },
    {
     "name": "stdout",
     "output_type": "stream",
     "text": [
      "New best\n"
     ]
    },
    {
     "name": "stdout",
     "output_type": "stream",
     "text": [
      "epoch: 4, [batch: 1 / 6720], examples_per_second: 2.0666, train_label_loss: 0.1012, \n"
     ]
    },
    {
     "name": "stdout",
     "output_type": "stream",
     "text": [
      "epoch: 4, [batch: 672 / 6720], examples_per_second: 2686.0911, train_label_loss: 0.0490, \n"
     ]
    },
    {
     "name": "stdout",
     "output_type": "stream",
     "text": [
      "epoch: 4, [batch: 1344 / 6720], examples_per_second: 2629.0946, train_label_loss: 0.1227, \n"
     ]
    },
    {
     "name": "stdout",
     "output_type": "stream",
     "text": [
      "epoch: 4, [batch: 2016 / 6720], examples_per_second: 2362.4260, train_label_loss: 0.0565, \n"
     ]
    },
    {
     "name": "stdout",
     "output_type": "stream",
     "text": [
      "epoch: 4, [batch: 2688 / 6720], examples_per_second: 2331.4882, train_label_loss: 0.2081, \n"
     ]
    },
    {
     "name": "stdout",
     "output_type": "stream",
     "text": [
      "epoch: 4, [batch: 3360 / 6720], examples_per_second: 2301.7088, train_label_loss: 0.2336, \n"
     ]
    },
    {
     "name": "stdout",
     "output_type": "stream",
     "text": [
      "epoch: 4, [batch: 4032 / 6720], examples_per_second: 2363.3089, train_label_loss: 0.2366, \n"
     ]
    },
    {
     "name": "stdout",
     "output_type": "stream",
     "text": [
      "epoch: 4, [batch: 4704 / 6720], examples_per_second: 2577.4287, train_label_loss: 0.4723, \n"
     ]
    },
    {
     "name": "stdout",
     "output_type": "stream",
     "text": [
      "epoch: 4, [batch: 5376 / 6720], examples_per_second: 2626.2532, train_label_loss: 0.0811, \n"
     ]
    },
    {
     "name": "stdout",
     "output_type": "stream",
     "text": [
      "epoch: 4, [batch: 6048 / 6720], examples_per_second: 2624.4021, train_label_loss: 0.0373, \n"
     ]
    },
    {
     "name": "stdout",
     "output_type": "stream",
     "text": [
      "=============================================================\n",
      "epoch: 4, source_val_acc_label: 0.9317, target_val_acc_label: 0.9244, source_val_label_loss: 0.1953, target_val_label_loss: 0.2919, \n",
      "=============================================================\n"
     ]
    },
    {
     "name": "stdout",
     "output_type": "stream",
     "text": [
      "epoch: 5, [batch: 1 / 6720], examples_per_second: 2.3495, train_label_loss: 0.2124, \n"
     ]
    },
    {
     "name": "stdout",
     "output_type": "stream",
     "text": [
      "epoch: 5, [batch: 672 / 6720], examples_per_second: 3014.3389, train_label_loss: 0.1679, \n"
     ]
    },
    {
     "name": "stdout",
     "output_type": "stream",
     "text": [
      "epoch: 5, [batch: 1344 / 6720], examples_per_second: 2897.1527, train_label_loss: 0.2518, \n"
     ]
    },
    {
     "name": "stdout",
     "output_type": "stream",
     "text": [
      "epoch: 5, [batch: 2016 / 6720], examples_per_second: 2581.6595, train_label_loss: 0.3116, \n"
     ]
    },
    {
     "name": "stdout",
     "output_type": "stream",
     "text": [
      "epoch: 5, [batch: 2688 / 6720], examples_per_second: 2565.1519, train_label_loss: 0.1282, \n"
     ]
    },
    {
     "name": "stdout",
     "output_type": "stream",
     "text": [
      "epoch: 5, [batch: 3360 / 6720], examples_per_second: 2814.6588, train_label_loss: 0.1566, \n"
     ]
    },
    {
     "name": "stdout",
     "output_type": "stream",
     "text": [
      "epoch: 5, [batch: 4032 / 6720], examples_per_second: 3013.7516, train_label_loss: 0.3843, \n"
     ]
    },
    {
     "name": "stdout",
     "output_type": "stream",
     "text": [
      "epoch: 5, [batch: 4704 / 6720], examples_per_second: 3017.4321, train_label_loss: 0.1601, \n"
     ]
    },
    {
     "name": "stdout",
     "output_type": "stream",
     "text": [
      "epoch: 5, [batch: 5376 / 6720], examples_per_second: 3039.5427, train_label_loss: 0.1224, \n"
     ]
    },
    {
     "name": "stdout",
     "output_type": "stream",
     "text": [
      "epoch: 5, [batch: 6048 / 6720], examples_per_second: 3044.4060, train_label_loss: 0.0777, \n"
     ]
    },
    {
     "name": "stdout",
     "output_type": "stream",
     "text": [
      "=============================================================\n",
      "epoch: 5, source_val_acc_label: 0.9419, target_val_acc_label: 0.9343, source_val_label_loss: 0.1623, target_val_label_loss: 0.2715, \n",
      "=============================================================\n"
     ]
    },
    {
     "name": "stdout",
     "output_type": "stream",
     "text": [
      "New best\n"
     ]
    },
    {
     "name": "stdout",
     "output_type": "stream",
     "text": [
      "epoch: 6, [batch: 1 / 6720], examples_per_second: 2.5213, train_label_loss: 0.0942, \n"
     ]
    },
    {
     "name": "stdout",
     "output_type": "stream",
     "text": [
      "epoch: 6, [batch: 672 / 6720], examples_per_second: 2559.3212, train_label_loss: 0.0786, \n"
     ]
    },
    {
     "name": "stdout",
     "output_type": "stream",
     "text": [
      "epoch: 6, [batch: 1344 / 6720], examples_per_second: 2581.6989, train_label_loss: 0.3887, \n"
     ]
    },
    {
     "name": "stdout",
     "output_type": "stream",
     "text": [
      "epoch: 6, [batch: 2016 / 6720], examples_per_second: 2320.6358, train_label_loss: 0.2720, \n"
     ]
    },
    {
     "name": "stdout",
     "output_type": "stream",
     "text": [
      "epoch: 6, [batch: 2688 / 6720], examples_per_second: 2313.2926, train_label_loss: 0.2704, \n"
     ]
    },
    {
     "name": "stdout",
     "output_type": "stream",
     "text": [
      "epoch: 6, [batch: 3360 / 6720], examples_per_second: 2282.5316, train_label_loss: 0.0501, \n"
     ]
    },
    {
     "name": "stdout",
     "output_type": "stream",
     "text": [
      "epoch: 6, [batch: 4032 / 6720], examples_per_second: 2311.8955, train_label_loss: 0.2186, \n"
     ]
    },
    {
     "name": "stdout",
     "output_type": "stream",
     "text": [
      "epoch: 6, [batch: 4704 / 6720], examples_per_second: 2306.5442, train_label_loss: 0.2632, \n"
     ]
    },
    {
     "name": "stdout",
     "output_type": "stream",
     "text": [
      "epoch: 6, [batch: 5376 / 6720], examples_per_second: 2316.0797, train_label_loss: 0.1713, \n"
     ]
    },
    {
     "name": "stdout",
     "output_type": "stream",
     "text": [
      "epoch: 6, [batch: 6048 / 6720], examples_per_second: 2408.7098, train_label_loss: 0.5230, \n"
     ]
    },
    {
     "name": "stdout",
     "output_type": "stream",
     "text": [
      "=============================================================\n",
      "epoch: 6, source_val_acc_label: 0.9394, target_val_acc_label: 0.9277, source_val_label_loss: 0.1694, target_val_label_loss: 0.2808, \n",
      "=============================================================\n"
     ]
    },
    {
     "name": "stdout",
     "output_type": "stream",
     "text": [
      "epoch: 7, [batch: 1 / 6720], examples_per_second: 2.5567, train_label_loss: 0.0127, \n"
     ]
    },
    {
     "name": "stdout",
     "output_type": "stream",
     "text": [
      "epoch: 7, [batch: 672 / 6720], examples_per_second: 2937.9891, train_label_loss: 0.0704, \n"
     ]
    },
    {
     "name": "stdout",
     "output_type": "stream",
     "text": [
      "epoch: 7, [batch: 1344 / 6720], examples_per_second: 2966.6051, train_label_loss: 0.0464, \n"
     ]
    },
    {
     "name": "stdout",
     "output_type": "stream",
     "text": [
      "epoch: 7, [batch: 2016 / 6720], examples_per_second: 2651.7699, train_label_loss: 0.2976, \n"
     ]
    },
    {
     "name": "stdout",
     "output_type": "stream",
     "text": [
      "epoch: 7, [batch: 2688 / 6720], examples_per_second: 2862.9191, train_label_loss: 0.0805, \n"
     ]
    },
    {
     "name": "stdout",
     "output_type": "stream",
     "text": [
      "epoch: 7, [batch: 3360 / 6720], examples_per_second: 2755.6575, train_label_loss: 0.2241, \n"
     ]
    },
    {
     "name": "stdout",
     "output_type": "stream",
     "text": [
      "epoch: 7, [batch: 4032 / 6720], examples_per_second: 2351.9976, train_label_loss: 0.1939, \n"
     ]
    },
    {
     "name": "stdout",
     "output_type": "stream",
     "text": [
      "epoch: 7, [batch: 4704 / 6720], examples_per_second: 2327.1593, train_label_loss: 0.2820, \n"
     ]
    },
    {
     "name": "stdout",
     "output_type": "stream",
     "text": [
      "epoch: 7, [batch: 5376 / 6720], examples_per_second: 2318.5399, train_label_loss: 0.2536, \n"
     ]
    },
    {
     "name": "stdout",
     "output_type": "stream",
     "text": [
      "epoch: 7, [batch: 6048 / 6720], examples_per_second: 2443.9865, train_label_loss: 0.0190, \n"
     ]
    },
    {
     "name": "stdout",
     "output_type": "stream",
     "text": [
      "=============================================================\n",
      "epoch: 7, source_val_acc_label: 0.9461, target_val_acc_label: 0.9320, source_val_label_loss: 0.1525, target_val_label_loss: 0.2743, \n",
      "=============================================================\n"
     ]
    },
    {
     "name": "stdout",
     "output_type": "stream",
     "text": [
      "epoch: 8, [batch: 1 / 6720], examples_per_second: 2.2784, train_label_loss: 0.0740, \n"
     ]
    },
    {
     "name": "stdout",
     "output_type": "stream",
     "text": [
      "epoch: 8, [batch: 672 / 6720], examples_per_second: 2632.4466, train_label_loss: 0.1448, \n"
     ]
    },
    {
     "name": "stdout",
     "output_type": "stream",
     "text": [
      "epoch: 8, [batch: 1344 / 6720], examples_per_second: 2622.9278, train_label_loss: 0.0459, \n"
     ]
    },
    {
     "name": "stdout",
     "output_type": "stream",
     "text": [
      "epoch: 8, [batch: 2016 / 6720], examples_per_second: 2338.1917, train_label_loss: 0.3410, \n"
     ]
    },
    {
     "name": "stdout",
     "output_type": "stream",
     "text": [
      "epoch: 8, [batch: 2688 / 6720], examples_per_second: 2327.5690, train_label_loss: 0.0939, \n"
     ]
    },
    {
     "name": "stdout",
     "output_type": "stream",
     "text": [
      "epoch: 8, [batch: 3360 / 6720], examples_per_second: 2320.3089, train_label_loss: 0.1125, \n"
     ]
    },
    {
     "name": "stdout",
     "output_type": "stream",
     "text": [
      "epoch: 8, [batch: 4032 / 6720], examples_per_second: 2299.9945, train_label_loss: 0.2239, \n"
     ]
    },
    {
     "name": "stdout",
     "output_type": "stream",
     "text": [
      "epoch: 8, [batch: 4704 / 6720], examples_per_second: 2320.2259, train_label_loss: 0.2644, \n"
     ]
    },
    {
     "name": "stdout",
     "output_type": "stream",
     "text": [
      "epoch: 8, [batch: 5376 / 6720], examples_per_second: 2325.0180, train_label_loss: 0.0199, \n"
     ]
    },
    {
     "name": "stdout",
     "output_type": "stream",
     "text": [
      "epoch: 8, [batch: 6048 / 6720], examples_per_second: 2490.5440, train_label_loss: 0.2036, \n"
     ]
    },
    {
     "name": "stdout",
     "output_type": "stream",
     "text": [
      "=============================================================\n",
      "epoch: 8, source_val_acc_label: 0.9482, target_val_acc_label: 0.9322, source_val_label_loss: 0.1453, target_val_label_loss: 0.2599, \n",
      "=============================================================\n"
     ]
    },
    {
     "name": "stdout",
     "output_type": "stream",
     "text": [
      "epoch: 9, [batch: 1 / 6720], examples_per_second: 2.2861, train_label_loss: 0.1393, \n"
     ]
    },
    {
     "name": "stdout",
     "output_type": "stream",
     "text": [
      "epoch: 9, [batch: 672 / 6720], examples_per_second: 2650.5174, train_label_loss: 0.1546, \n"
     ]
    },
    {
     "name": "stdout",
     "output_type": "stream",
     "text": [
      "epoch: 9, [batch: 1344 / 6720], examples_per_second: 2677.0192, train_label_loss: 0.2165, \n"
     ]
    },
    {
     "name": "stdout",
     "output_type": "stream",
     "text": [
      "epoch: 9, [batch: 2016 / 6720], examples_per_second: 2342.4866, train_label_loss: 0.5137, \n"
     ]
    },
    {
     "name": "stdout",
     "output_type": "stream",
     "text": [
      "epoch: 9, [batch: 2688 / 6720], examples_per_second: 2316.3092, train_label_loss: 0.1468, \n"
     ]
    },
    {
     "name": "stdout",
     "output_type": "stream",
     "text": [
      "epoch: 9, [batch: 3360 / 6720], examples_per_second: 2316.3639, train_label_loss: 0.1831, \n"
     ]
    },
    {
     "name": "stdout",
     "output_type": "stream",
     "text": [
      "epoch: 9, [batch: 4032 / 6720], examples_per_second: 2355.4771, train_label_loss: 0.2487, \n"
     ]
    },
    {
     "name": "stdout",
     "output_type": "stream",
     "text": [
      "epoch: 9, [batch: 4704 / 6720], examples_per_second: 2310.7711, train_label_loss: 0.0970, \n"
     ]
    },
    {
     "name": "stdout",
     "output_type": "stream",
     "text": [
      "epoch: 9, [batch: 5376 / 6720], examples_per_second: 2327.1402, train_label_loss: 0.1899, \n"
     ]
    },
    {
     "name": "stdout",
     "output_type": "stream",
     "text": [
      "epoch: 9, [batch: 6048 / 6720], examples_per_second: 2459.8897, train_label_loss: 0.3366, \n"
     ]
    },
    {
     "name": "stdout",
     "output_type": "stream",
     "text": [
      "=============================================================\n",
      "epoch: 9, source_val_acc_label: 0.9489, target_val_acc_label: 0.9329, source_val_label_loss: 0.1426, target_val_label_loss: 0.2745, \n",
      "=============================================================\n"
     ]
    },
    {
     "name": "stdout",
     "output_type": "stream",
     "text": [
      "Patience (3) exhausted\n"
     ]
    }
   ],
   "source": [
    "###################################\n",
    "# train\n",
    "###################################\n",
    "jig = PTN_Train_Eval_Test_Jig(model, p.BEST_MODEL_PATH, p.device)\n",
    "\n",
    "jig.train(\n",
    "    train_iterable=datasets.source.processed.train,\n",
    "    source_val_iterable=datasets.source.processed.val,\n",
    "    target_val_iterable=datasets.target.processed.val,\n",
    "    num_epochs=p.n_epoch,\n",
    "    num_logs_per_epoch=p.NUM_LOGS_PER_EPOCH,\n",
    "    patience=p.patience,\n",
    "    optimizer=optimizer,\n",
    "    criteria_for_best=p.criteria_for_best,\n",
    ")"
   ]
  },
  {
   "cell_type": "code",
   "execution_count": 23,
   "id": "31e8fabf",
   "metadata": {
    "execution": {
     "iopub.execute_input": "2022-03-21T12:36:13.526796Z",
     "iopub.status.busy": "2022-03-21T12:36:13.526252Z",
     "iopub.status.idle": "2022-03-21T12:36:13.558091Z",
     "shell.execute_reply": "2022-03-21T12:36:13.558751Z"
    },
    "papermill": {
     "duration": 0.08808,
     "end_time": "2022-03-21T12:36:13.558937",
     "exception": false,
     "start_time": "2022-03-21T12:36:13.470857",
     "status": "completed"
    },
    "tags": []
   },
   "outputs": [],
   "source": [
    "total_experiment_time_secs = time.time() - start_time_secs"
   ]
  },
  {
   "cell_type": "code",
   "execution_count": 24,
   "id": "87b9595b",
   "metadata": {
    "execution": {
     "iopub.execute_input": "2022-03-21T12:36:13.674258Z",
     "iopub.status.busy": "2022-03-21T12:36:13.673407Z",
     "iopub.status.idle": "2022-03-21T12:40:51.862363Z",
     "shell.execute_reply": "2022-03-21T12:40:51.862843Z"
    },
    "papermill": {
     "duration": 278.248074,
     "end_time": "2022-03-21T12:40:51.863022",
     "exception": false,
     "start_time": "2022-03-21T12:36:13.614948",
     "status": "completed"
    },
    "tags": []
   },
   "outputs": [],
   "source": [
    "###################################\n",
    "# Evaluate the model\n",
    "###################################\n",
    "source_test_label_accuracy, source_test_label_loss = jig.test(datasets.source.processed.test)\n",
    "target_test_label_accuracy, target_test_label_loss = jig.test(datasets.target.processed.test)\n",
    "\n",
    "source_val_label_accuracy, source_val_label_loss = jig.test(datasets.source.processed.val)\n",
    "target_val_label_accuracy, target_val_label_loss = jig.test(datasets.target.processed.val)\n",
    "\n",
    "history = jig.get_history()\n",
    "\n",
    "total_epochs_trained = len(history[\"epoch_indices\"])\n",
    "\n",
    "val_dl = Iterable_Aggregator((datasets.source.original.val,datasets.target.original.val))\n",
    "\n",
    "confusion = ptn_confusion_by_domain_over_dataloader(model, p.device, val_dl)\n",
    "per_domain_accuracy = per_domain_accuracy_from_confusion(confusion)\n",
    "\n",
    "# Add a key to per_domain_accuracy for if it was a source domain\n",
    "for domain, accuracy in per_domain_accuracy.items():\n",
    "    per_domain_accuracy[domain] = {\n",
    "        \"accuracy\": accuracy,\n",
    "        \"source?\": domain in p.domains_source\n",
    "    }\n",
    "\n",
    "# Do an independent accuracy assesment JUST TO BE SURE!\n",
    "# _source_test_label_accuracy = independent_accuracy_assesment(model, datasets.source.processed.test, p.device)\n",
    "# _target_test_label_accuracy = independent_accuracy_assesment(model, datasets.target.processed.test, p.device)\n",
    "# _source_val_label_accuracy = independent_accuracy_assesment(model, datasets.source.processed.val, p.device)\n",
    "# _target_val_label_accuracy = independent_accuracy_assesment(model, datasets.target.processed.val, p.device)\n",
    "\n",
    "# assert(_source_test_label_accuracy == source_test_label_accuracy)\n",
    "# assert(_target_test_label_accuracy == target_test_label_accuracy)\n",
    "# assert(_source_val_label_accuracy == source_val_label_accuracy)\n",
    "# assert(_target_val_label_accuracy == target_val_label_accuracy)\n",
    "\n",
    "experiment = {\n",
    "    \"experiment_name\": p.experiment_name,\n",
    "    \"parameters\": dict(p),\n",
    "    \"results\": {\n",
    "        \"source_test_label_accuracy\": source_test_label_accuracy,\n",
    "        \"source_test_label_loss\": source_test_label_loss,\n",
    "        \"target_test_label_accuracy\": target_test_label_accuracy,\n",
    "        \"target_test_label_loss\": target_test_label_loss,\n",
    "        \"source_val_label_accuracy\": source_val_label_accuracy,\n",
    "        \"source_val_label_loss\": source_val_label_loss,\n",
    "        \"target_val_label_accuracy\": target_val_label_accuracy,\n",
    "        \"target_val_label_loss\": target_val_label_loss,\n",
    "        \"total_epochs_trained\": total_epochs_trained,\n",
    "        \"total_experiment_time_secs\": total_experiment_time_secs,\n",
    "        \"confusion\": confusion,\n",
    "        \"per_domain_accuracy\": per_domain_accuracy,\n",
    "    },\n",
    "    \"history\": history,\n",
    "    \"dataset_metrics\": get_dataset_metrics(datasets, \"ptn\"),\n",
    "}"
   ]
  },
  {
   "cell_type": "code",
   "execution_count": 25,
   "id": "54a21829",
   "metadata": {
    "execution": {
     "iopub.execute_input": "2022-03-21T12:40:51.969795Z",
     "iopub.status.busy": "2022-03-21T12:40:51.969228Z",
     "iopub.status.idle": "2022-03-21T12:40:52.195777Z",
     "shell.execute_reply": "2022-03-21T12:40:52.195409Z"
    },
    "papermill": {
     "duration": 0.279069,
     "end_time": "2022-03-21T12:40:52.195870",
     "exception": false,
     "start_time": "2022-03-21T12:40:51.916801",
     "status": "completed"
    },
    "tags": []
   },
   "outputs": [
    {
     "data": {
      "image/png": "[encoded data removed]",
      "text/plain": [
       "<Figure size 1080x504 with 1 Axes>"
      ]
     },
     "metadata": {
      "needs_background": "light"
     },
     "output_type": "display_data"
    }
   ],
   "source": [
    "ax = get_loss_curve(experiment)\n",
    "plt.show()"
   ]
  },
  {
   "cell_type": "code",
   "execution_count": 26,
   "id": "fd8a0f60",
   "metadata": {
    "execution": {
     "iopub.execute_input": "2022-03-21T12:40:52.301682Z",
     "iopub.status.busy": "2022-03-21T12:40:52.301113Z",
     "iopub.status.idle": "2022-03-21T12:40:52.707087Z",
     "shell.execute_reply": "2022-03-21T12:40:52.706687Z"
    },
    "papermill": {
     "duration": 0.460285,
     "end_time": "2022-03-21T12:40:52.707180",
     "exception": false,
     "start_time": "2022-03-21T12:40:52.246895",
     "status": "completed"
    },
    "tags": []
   },
   "outputs": [
    {
     "data": {
      "text/plain": [
       "<AxesSubplot:title={'center':'Results'}>"
      ]
     },
     "execution_count": 26,
     "metadata": {},
     "output_type": "execute_result"
    },
    {
     "data": {
      "image/png": "[encoded data removed]",
      "text/plain": [
       "<Figure size 1080x504 with 1 Axes>"
      ]
     },
     "metadata": {
      "needs_background": "light"
     },
     "output_type": "display_data"
    }
   ],
   "source": [
    "get_results_table(experiment)"
   ]
  },
  {
   "cell_type": "code",
   "execution_count": 27,
   "id": "cf8dc689",
   "metadata": {
    "execution": {
     "iopub.execute_input": "2022-03-21T12:40:52.824155Z",
     "iopub.status.busy": "2022-03-21T12:40:52.823588Z",
     "iopub.status.idle": "2022-03-21T12:40:53.115682Z",
     "shell.execute_reply": "2022-03-21T12:40:53.116372Z"
    },
    "papermill": {
     "duration": 0.353173,
     "end_time": "2022-03-21T12:40:53.116577",
     "exception": false,
     "start_time": "2022-03-21T12:40:52.763404",
     "status": "completed"
    },
    "tags": []
   },
   "outputs": [
    {
     "data": {
      "text/plain": [
       "<AxesSubplot:title={'center':'Per Domain Validation Accuracy'}, xlabel='domain'>"
      ]
     },
     "execution_count": 27,
     "metadata": {},
     "output_type": "execute_result"
    },
    {
     "data": {
      "image/png": "[encoded data removed]",
      "text/plain": [
       "<Figure size 1080x504 with 1 Axes>"
      ]
     },
     "metadata": {
      "needs_background": "light"
     },
     "output_type": "display_data"
    }
   ],
   "source": [
    "get_domain_accuracies(experiment)"
   ]
  },
  {
   "cell_type": "code",
   "execution_count": 28,
   "id": "a74ae082",
   "metadata": {
    "execution": {
     "iopub.execute_input": "2022-03-21T12:40:53.240527Z",
     "iopub.status.busy": "2022-03-21T12:40:53.240153Z",
     "iopub.status.idle": "2022-03-21T12:40:53.264390Z",
     "shell.execute_reply": "2022-03-21T12:40:53.263663Z"
    },
    "papermill": {
     "duration": 0.086507,
     "end_time": "2022-03-21T12:40:53.264554",
     "exception": false,
     "start_time": "2022-03-21T12:40:53.178047",
     "status": "completed"
    },
    "tags": []
   },
   "outputs": [
    {
     "name": "stdout",
     "output_type": "stream",
     "text": [
      "Source Test Label Accuracy: 0.9423502604166667 Target Test Label Accuracy: 0.9313802083333333\n",
      "Source Val Label Accuracy: 0.94189453125 Target Val Label Accuracy: 0.9343098958333333\n"
     ]
    }
   ],
   "source": [
    "print(\"Source Test Label Accuracy:\", experiment[\"results\"][\"source_test_label_accuracy\"], \"Target Test Label Accuracy:\", experiment[\"results\"][\"target_test_label_accuracy\"])\n",
    "print(\"Source Val Label Accuracy:\", experiment[\"results\"][\"source_val_label_accuracy\"], \"Target Val Label Accuracy:\", experiment[\"results\"][\"target_val_label_accuracy\"])"
   ]
  },
  {
   "cell_type": "code",
   "execution_count": 29,
   "id": "dacca602",
   "metadata": {
    "execution": {
     "iopub.execute_input": "2022-03-21T12:40:53.391300Z",
     "iopub.status.busy": "2022-03-21T12:40:53.390929Z",
     "iopub.status.idle": "2022-03-21T12:40:53.418182Z",
     "shell.execute_reply": "2022-03-21T12:40:53.418857Z"
    },
    "papermill": {
     "duration": 0.090233,
     "end_time": "2022-03-21T12:40:53.419056",
     "exception": false,
     "start_time": "2022-03-21T12:40:53.328823",
     "status": "completed"
    },
    "tags": [
     "experiment_json"
    ]
   },
   "outputs": [
    {
     "data": {
      "text/plain": [
       "'{\"experiment_name\": \"tl_1v2:oracle.run1.framed-oracle.run2.framed\", \"parameters\": {\"experiment_name\": \"tl_1v2:oracle.run1.framed-oracle.run2.framed\", \"device\": \"cuda\", \"lr\": 0.0001, \"n_shot\": 3, \"n_query\": 2, \"train_k_factor\": 3, \"val_k_factor\": 2, \"test_k_factor\": 2, \"torch_default_dtype\": \"torch.float32\", \"n_epoch\": 50, \"patience\": 3, \"criteria_for_best\": \"target_accuracy\", \"x_net\": [{\"class\": \"nnReshape\", \"kargs\": {\"shape\": [-1, 1, 2, 256]}}, {\"class\": \"Conv2d\", \"kargs\": {\"in_channels\": 1, \"out_channels\": 256, \"kernel_size\": [1, 7], \"bias\": false, \"padding\": [0, 3]}}, {\"class\": \"ReLU\", \"kargs\": {\"inplace\": true}}, {\"class\": \"BatchNorm2d\", \"kargs\": {\"num_features\": 256}}, {\"class\": \"Conv2d\", \"kargs\": {\"in_channels\": 256, \"out_channels\": 80, \"kernel_size\": [2, 7], \"bias\": true, \"padding\": [0, 3]}}, {\"class\": \"ReLU\", \"kargs\": {\"inplace\": true}}, {\"class\": \"BatchNorm2d\", \"kargs\": {\"num_features\": 80}}, {\"class\": \"Flatten\", \"kargs\": {}}, {\"class\": \"Linear\", \"kargs\": {\"in_features\": 20480, \"out_features\": 256}}, {\"class\": \"ReLU\", \"kargs\": {\"inplace\": true}}, {\"class\": \"BatchNorm1d\", \"kargs\": {\"num_features\": 256}}, {\"class\": \"Linear\", \"kargs\": {\"in_features\": 256, \"out_features\": 256}}], \"NUM_LOGS_PER_EPOCH\": 10, \"BEST_MODEL_PATH\": \"./best_model.pth\", \"n_way\": 16, \"datasets\": [{\"labels\": [\"3123D52\", \"3123D65\", \"3123D79\", \"3123D80\", \"3123D54\", \"3123D70\", \"3123D7B\", \"3123D89\", \"3123D58\", \"3123D76\", \"3123D7D\", \"3123EFE\", \"3123D64\", \"3123D78\", \"3123D7E\", \"3124E4A\"], \"domains\": [32, 38, 8, 44, 14, 50, 20, 26], \"num_examples_per_domain_per_label\": 2000, \"pickle_path\": \"/root/csc500-main/datasets/oracle.Run1_framed_2000Examples_stratified_ds.2022A.pkl\", \"source_or_target_dataset\": \"source\", \"x_transforms\": [], \"episode_transforms\": [], \"domain_prefix\": \"ORACLE.run1_\"}, {\"labels\": [\"3123D52\", \"3123D65\", \"3123D79\", \"3123D80\", \"3123D54\", \"3123D70\", \"3123D7B\", \"3123D89\", \"3123D58\", \"3123D76\", \"3123D7D\", \"3123EFE\", \"3123D64\", \"3123D78\", \"3123D7E\", \"3124E4A\"], \"domains\": [32, 38, 8, 44, 14, 50, 20, 26], \"num_examples_per_domain_per_label\": 2000, \"pickle_path\": \"/root/csc500-main/datasets/oracle.Run2_framed_2000Examples_stratified_ds.2022A.pkl\", \"source_or_target_dataset\": \"target\", \"x_transforms\": [], \"episode_transforms\": [], \"domain_prefix\": \"ORACLE.run2_\"}], \"dataset_seed\": 420, \"seed\": 420, \"x_shape\": [2, 256], \"domains_source\": [\"ORACLE.run1_32\", \"ORACLE.run1_38\", \"ORACLE.run1_8\", \"ORACLE.run1_44\", \"ORACLE.run1_14\", \"ORACLE.run1_50\", \"ORACLE.run1_20\", \"ORACLE.run1_26\"], \"domains_target\": [\"ORACLE.run2_32\", \"ORACLE.run2_38\", \"ORACLE.run2_8\", \"ORACLE.run2_44\", \"ORACLE.run2_14\", \"ORACLE.run2_50\", \"ORACLE.run2_20\", \"ORACLE.run2_26\"]}, \"results\": {\"source_test_label_accuracy\": 0.9423502604166667, \"source_test_label_loss\": 0.16135138273239136, \"target_test_label_accuracy\": 0.9313802083333333, \"target_test_label_loss\": 0.3090987801551819, \"source_val_label_accuracy\": 0.94189453125, \"source_val_label_loss\": 0.16229264438152313, \"target_val_label_accuracy\": 0.9343098958333333, \"target_val_label_loss\": 0.2714664041996002, \"total_epochs_trained\": 9, \"total_experiment_time_secs\": 2375.847869157791, \"confusion\": {\"ORACLE.run1_14\": {\"15\": {\"15\": 240}, \"5\": {\"5\": 234, \"4\": 2, \"2\": 3, \"3\": 1}, \"7\": {\"7\": 240}, \"4\": {\"4\": 239, \"5\": 1}, \"10\": {\"10\": 240}, \"11\": {\"11\": 240}, \"12\": {\"12\": 240}, \"0\": {\"0\": 240}, \"14\": {\"14\": 236, \"2\": 4}, \"8\": {\"8\": 240}, \"13\": {\"13\": 130, \"6\": 92, \"14\": 10, \"2\": 8}, \"6\": {\"13\": 51, \"6\": 185, \"2\": 3, \"14\": 1}, \"1\": {\"1\": 240}, \"3\": {\"3\": 240}, \"9\": {\"9\": 240}, \"2\": {\"2\": 179, \"14\": 28, \"5\": 19, \"3\": 2, \"4\": 2, \"6\": 5, \"13\": 5}}, \"ORACLE.run1_20\": {\"4\": {\"4\": 240}, \"10\": {\"10\": 240}, \"15\": {\"15\": 236, \"1\": 4}, \"0\": {\"0\": 239, \"8\": 1}, \"6\": {\"6\": 239, \"7\": 1}, \"3\": {\"3\": 237, \"9\": 3}, \"7\": {\"7\": 239, \"2\": 1}, \"2\": {\"2\": 228, \"12\": 12}, \"8\": {\"8\": 238, \"14\": 2}, \"11\": {\"11\": 240}, \"14\": {\"14\": 240}, \"12\": {\"12\": 235, \"2\": 4, \"4\": 1}, \"13\": {\"13\": 240}, \"9\": {\"9\": 240}, \"5\": {\"5\": 240}, \"1\": {\"1\": 238, \"3\": 1, \"5\": 1}}, \"ORACLE.run1_50\": {\"5\": {\"5\": 171, \"7\": 35, \"4\": 11, \"6\": 11, \"13\": 4, \"1\": 6, \"15\": 2}, \"12\": {\"12\": 238, \"11\": 2}, \"14\": {\"14\": 240}, \"4\": {\"4\": 200, \"7\": 13, \"15\": 13, \"5\": 14}, \"13\": {\"13\": 240}, \"10\": {\"10\": 240}, \"9\": {\"11\": 9, \"9\": 222, \"12\": 9}, \"15\": {\"15\": 237, \"11\": 1, \"6\": 1, \"5\": 1}, \"6\": {\"6\": 239, \"15\": 1}, \"2\": {\"2\": 236, \"0\": 4}, \"0\": {\"0\": 234, \"2\": 5, \"10\": 1}, \"11\": {\"11\": 238, \"12\": 2}, \"3\": {\"3\": 240}, \"8\": {\"8\": 240}, \"7\": {\"7\": 234, \"5\": 6}, \"1\": {\"1\": 239, \"13\": 1}}, \"ORACLE.run1_26\": {\"7\": {\"7\": 217, \"8\": 15, \"2\": 8}, \"6\": {\"6\": 233, \"15\": 7}, \"14\": {\"14\": 214, \"10\": 20, \"0\": 6}, \"15\": {\"15\": 223, \"10\": 4, \"6\": 6, \"5\": 5, \"14\": 2}, \"5\": {\"5\": 239, \"15\": 1}, \"10\": {\"10\": 211, \"0\": 10, \"14\": 17, \"6\": 1, \"15\": 1}, \"4\": {\"4\": 240}, \"11\": {\"11\": 240}, \"13\": {\"13\": 219, \"9\": 7, \"7\": 1, \"2\": 12, \"3\": 1}, \"2\": {\"7\": 23, \"2\": 194, \"3\": 14, \"8\": 2, \"0\": 2, \"10\": 1, \"9\": 2, \"13\": 1, \"14\": 1}, \"0\": {\"10\": 24, \"0\": 199, \"14\": 14, \"8\": 3}, \"12\": {\"12\": 240}, \"3\": {\"3\": 233, \"7\": 5, \"2\": 2}, \"9\": {\"9\": 226, \"8\": 9, \"2\": 2, \"13\": 3}, \"8\": {\"8\": 213, \"7\": 25, \"9\": 2}, \"1\": {\"1\": 217, \"14\": 23}}, \"ORACLE.run1_32\": {\"7\": {\"7\": 214, \"5\": 24, \"14\": 2}, \"2\": {\"2\": 232, \"4\": 8}, \"5\": {\"5\": 163, \"7\": 67, \"8\": 8, \"14\": 2}, \"6\": {\"6\": 240}, \"13\": {\"13\": 220, \"3\": 11, \"4\": 9}, \"4\": {\"4\": 223, \"2\": 17}, \"3\": {\"3\": 237, \"13\": 3}, \"0\": {\"0\": 223, \"7\": 4, \"8\": 9, \"5\": 1, \"14\": 3}, \"9\": {\"9\": 238, \"12\": 2}, \"12\": {\"12\": 240}, \"8\": {\"8\": 229, \"0\": 7, \"5\": 4}, \"14\": {\"14\": 211, \"0\": 16, \"7\": 7, \"2\": 1, \"8\": 3, \"5\": 2}, \"15\": {\"15\": 240}, \"11\": {\"11\": 240}, \"10\": {\"10\": 240}, \"1\": {\"1\": 240}}, \"ORACLE.run1_44\": {\"11\": {\"11\": 240}, \"7\": {\"7\": 220, \"9\": 19, \"6\": 1}, \"6\": {\"13\": 21, \"6\": 211, \"9\": 7, \"7\": 1}, \"12\": {\"12\": 239, \"3\": 1}, \"4\": {\"4\": 155, \"14\": 85}, \"13\": {\"6\": 29, \"13\": 205, \"9\": 6}, \"8\": {\"0\": 42, \"8\": 188, \"15\": 4, \"5\": 6}, \"5\": {\"5\": 232, \"14\": 3, \"4\": 1, \"8\": 1, \"15\": 3}, \"14\": {\"15\": 4, \"14\": 179, \"4\": 56, \"5\": 1}, \"3\": {\"3\": 238, \"12\": 2}, \"10\": {\"10\": 227, \"2\": 5, \"1\": 6, \"7\": 2}, \"1\": {\"1\": 233, \"2\": 7}, \"2\": {\"2\": 238, \"1\": 2}, \"15\": {\"15\": 219, \"14\": 12, \"8\": 6, \"5\": 3}, \"9\": {\"9\": 134, \"6\": 25, \"7\": 58, \"13\": 23}, \"0\": {\"8\": 21, \"0\": 219}}, \"ORACLE.run1_8\": {\"10\": {\"10\": 226, \"13\": 12, \"5\": 2}, \"6\": {\"6\": 223, \"7\": 17}, \"13\": {\"13\": 216, \"10\": 19, \"7\": 5}, \"3\": {\"3\": 240}, \"9\": {\"9\": 240}, \"1\": {\"1\": 239, \"11\": 1}, \"5\": {\"5\": 224, \"10\": 12, \"1\": 3, \"14\": 1}, \"11\": {\"11\": 219, \"1\": 19, \"14\": 2}, \"4\": {\"4\": 240}, \"14\": {\"14\": 234, \"4\": 6}, \"12\": {\"12\": 213, \"15\": 27}, \"7\": {\"7\": 224, \"6\": 15, \"13\": 1}, \"0\": {\"0\": 240}, \"15\": {\"15\": 228, \"12\": 12}, \"2\": {\"2\": 227, \"15\": 5, \"12\": 7, \"3\": 1}, \"8\": {\"8\": 240}}, \"ORACLE.run1_38\": {\"4\": {\"4\": 240}, \"7\": {\"7\": 236, \"8\": 3, \"0\": 1}, \"12\": {\"12\": 240}, \"10\": {\"0\": 3, \"10\": 231, \"13\": 6}, \"0\": {\"0\": 203, \"7\": 6, \"3\": 12, \"10\": 9, \"5\": 2, \"13\": 5, \"8\": 3}, \"1\": {\"1\": 240}, \"5\": {\"8\": 76, \"7\": 23, \"5\": 133, \"13\": 2, \"9\": 6}, \"15\": {\"15\": 233, \"8\": 5, \"5\": 2}, \"9\": {\"9\": 239, \"5\": 1}, \"11\": {\"11\": 237, \"3\": 3}, \"14\": {\"14\": 233, \"2\": 7}, \"6\": {\"6\": 240}, \"8\": {\"8\": 182, \"5\": 44, \"7\": 11, \"13\": 1, \"15\": 1, \"0\": 1}, \"3\": {\"3\": 238, \"11\": 2}, \"2\": {\"2\": 237, \"14\": 3}, \"13\": {\"13\": 235, \"10\": 4, \"2\": 1}}, \"ORACLE.run2_14\": {\"15\": {\"15\": 240}, \"5\": {\"5\": 232, \"2\": 7, \"14\": 1}, \"7\": {\"7\": 240}, \"4\": {\"4\": 240}, \"10\": {\"10\": 228, \"0\": 6, \"2\": 1, \"13\": 1, \"6\": 4}, \"11\": {\"11\": 240}, \"12\": {\"11\": 10, \"12\": 109, \"15\": 12, \"9\": 78, \"0\": 19, \"10\": 10, \"8\": 2}, \"0\": {\"0\": 240}, \"14\": {\"14\": 198, \"2\": 40, \"5\": 2}, \"8\": {\"8\": 240}, \"13\": {\"13\": 212, \"6\": 28}, \"6\": {\"6\": 219, \"13\": 21}, \"1\": {\"1\": 240}, \"3\": {\"3\": 240}, \"9\": {\"9\": 240}, \"2\": {\"2\": 136, \"14\": 53, \"5\": 38, \"3\": 12, \"13\": 1}}, \"ORACLE.run2_20\": {\"4\": {\"4\": 240}, \"10\": {\"10\": 240}, \"15\": {\"15\": 206, \"5\": 6, \"2\": 20, \"3\": 1, \"9\": 5, \"13\": 2}, \"0\": {\"0\": 240}, \"6\": {\"6\": 240}, \"3\": {\"3\": 168, \"7\": 5, \"15\": 1, \"2\": 34, \"9\": 26, \"5\": 5, \"4\": 1}, \"7\": {\"7\": 236, \"2\": 1, \"3\": 3}, \"2\": {\"2\": 176, \"9\": 36, \"5\": 9, \"3\": 16, \"15\": 3}, \"8\": {\"8\": 232, \"14\": 8}, \"11\": {\"11\": 240}, \"14\": {\"14\": 232, \"8\": 8}, \"12\": {\"12\": 239, \"13\": 1}, \"13\": {\"13\": 240}, \"9\": {\"9\": 185, \"15\": 4, \"2\": 37, \"3\": 14}, \"5\": {\"2\": 21, \"5\": 174, \"15\": 12, \"1\": 23, \"3\": 7, \"0\": 1, \"4\": 1, \"9\": 1}, \"1\": {\"1\": 238, \"15\": 1, \"5\": 1}}, \"ORACLE.run2_50\": {\"5\": {\"5\": 184, \"4\": 46, \"7\": 5, \"6\": 5}, \"12\": {\"12\": 240}, \"14\": {\"14\": 240}, \"4\": {\"4\": 201, \"5\": 39}, \"13\": {\"13\": 240}, \"10\": {\"10\": 239, \"13\": 1}, \"9\": {\"9\": 240}, \"15\": {\"15\": 240}, \"6\": {\"6\": 238, \"4\": 1, \"5\": 1}, \"2\": {\"2\": 238, \"0\": 2}, \"0\": {\"0\": 236, \"10\": 2, \"2\": 2}, \"11\": {\"11\": 240}, \"3\": {\"3\": 240}, \"8\": {\"8\": 240}, \"7\": {\"7\": 234, \"4\": 1, \"5\": 5}, \"1\": {\"1\": 240}}, \"ORACLE.run2_26\": {\"7\": {\"7\": 198, \"3\": 15, \"2\": 23, \"8\": 3, \"13\": 1}, \"6\": {\"6\": 240}, \"14\": {\"14\": 193, \"10\": 20, \"0\": 24, \"1\": 3}, \"15\": {\"15\": 227, \"2\": 10, \"8\": 2, \"0\": 1}, \"5\": {\"6\": 18, \"5\": 218, \"15\": 4}, \"10\": {\"0\": 53, \"14\": 50, \"10\": 105, \"8\": 10, \"1\": 5, \"6\": 10, \"15\": 6, \"9\": 1}, \"4\": {\"4\": 240}, \"11\": {\"11\": 240}, \"13\": {\"13\": 237, \"7\": 1, \"9\": 2}, \"2\": {\"2\": 212, \"8\": 18, \"7\": 10}, \"0\": {\"8\": 6, \"10\": 36, \"0\": 177, \"14\": 16, \"15\": 5}, \"12\": {\"12\": 240}, \"3\": {\"3\": 233, \"7\": 7}, \"9\": {\"9\": 236, \"13\": 3, \"8\": 1}, \"8\": {\"8\": 219, \"2\": 20, \"10\": 1}, \"1\": {\"1\": 240}}, \"ORACLE.run2_32\": {\"7\": {\"7\": 240}, \"2\": {\"2\": 240}, \"5\": {\"5\": 233, \"2\": 4, \"14\": 2, \"7\": 1}, \"6\": {\"6\": 240}, \"13\": {\"13\": 226, \"4\": 9, \"3\": 3, \"11\": 2}, \"4\": {\"4\": 239, \"11\": 1}, \"3\": {\"3\": 239, \"13\": 1}, \"0\": {\"0\": 230, \"7\": 3, \"8\": 5, \"14\": 2}, \"9\": {\"9\": 240}, \"12\": {\"12\": 240}, \"8\": {\"8\": 225, \"0\": 15}, \"14\": {\"14\": 236, \"0\": 2, \"7\": 2}, \"15\": {\"15\": 240}, \"11\": {\"13\": 14, \"11\": 203, \"4\": 13, \"0\": 9, \"7\": 1}, \"10\": {\"10\": 240}, \"1\": {\"1\": 240}}, \"ORACLE.run2_44\": {\"11\": {\"11\": 239, \"13\": 1}, \"7\": {\"7\": 165, \"9\": 75}, \"6\": {\"6\": 238, \"13\": 2}, \"12\": {\"12\": 233, \"3\": 7}, \"4\": {\"4\": 234, \"14\": 6}, \"13\": {\"13\": 237, \"6\": 2, \"4\": 1}, \"8\": {\"8\": 208, \"0\": 31, \"5\": 1}, \"5\": {\"5\": 233, \"15\": 1, \"14\": 5, \"8\": 1}, \"14\": {\"14\": 230, \"4\": 9, \"5\": 1}, \"3\": {\"3\": 228, \"12\": 12}, \"10\": {\"10\": 240}, \"1\": {\"1\": 240}, \"2\": {\"2\": 240}, \"15\": {\"15\": 230, \"5\": 1, \"14\": 5, \"8\": 4}, \"9\": {\"9\": 160, \"7\": 79, \"6\": 1}, \"0\": {\"0\": 191, \"8\": 49}}, \"ORACLE.run2_8\": {\"10\": {\"10\": 238, \"5\": 2}, \"6\": {\"6\": 238, \"14\": 2}, \"13\": {\"13\": 239, \"10\": 1}, \"3\": {\"3\": 239, \"12\": 1}, \"9\": {\"9\": 240}, \"1\": {\"1\": 238, \"13\": 2}, \"5\": {\"5\": 226, \"10\": 14}, \"11\": {\"11\": 162, \"8\": 77, \"7\": 1}, \"4\": {\"4\": 215, \"7\": 25}, \"14\": {\"14\": 240}, \"12\": {\"12\": 237, \"15\": 3}, \"7\": {\"7\": 227, \"4\": 13}, \"0\": {\"0\": 240}, \"15\": {\"15\": 240}, \"2\": {\"2\": 240}, \"8\": {\"8\": 236, \"11\": 4}}, \"ORACLE.run2_38\": {\"4\": {\"4\": 240}, \"7\": {\"7\": 234, \"8\": 5, \"0\": 1}, \"12\": {\"12\": 240}, \"10\": {\"10\": 237, \"13\": 2, \"3\": 1}, \"0\": {\"0\": 238, \"8\": 1, \"7\": 1}, \"1\": {\"1\": 233, \"15\": 7}, \"5\": {\"5\": 176, \"8\": 61, \"7\": 3}, \"15\": {\"1\": 22, \"15\": 209, \"5\": 7, \"6\": 2}, \"9\": {\"9\": 240}, \"11\": {\"11\": 234, \"3\": 5, \"13\": 1}, \"14\": {\"14\": 152, \"2\": 69, \"4\": 5, \"7\": 12, \"8\": 2}, \"6\": {\"6\": 240}, \"8\": {\"8\": 219, \"7\": 2, \"5\": 19}, \"3\": {\"3\": 187, \"13\": 48, \"10\": 5}, \"2\": {\"2\": 230, \"14\": 10}, \"13\": {\"13\": 196, \"3\": 38, \"10\": 6}}}, \"per_domain_accuracy\": {\"ORACLE.run1_14\": {\"accuracy\": 0.93828125, \"source?\": true}, \"ORACLE.run1_20\": {\"accuracy\": 0.9919270833333333, \"source?\": true}, \"ORACLE.run1_50\": {\"accuracy\": 0.9604166666666667, \"source?\": true}, \"ORACLE.run1_26\": {\"accuracy\": 0.9265625, \"source?\": true}, \"ORACLE.run1_32\": {\"accuracy\": 0.9453125, \"source?\": true}, \"ORACLE.run1_44\": {\"accuracy\": 0.8794270833333333, \"source?\": true}, \"ORACLE.run1_8\": {\"accuracy\": 0.9565104166666667, \"source?\": true}, \"ORACLE.run1_38\": {\"accuracy\": 0.93671875, \"source?\": true}, \"ORACLE.run2_14\": {\"accuracy\": 0.9098958333333333, \"source?\": false}, \"ORACLE.run2_20\": {\"accuracy\": 0.9182291666666667, \"source?\": false}, \"ORACLE.run2_50\": {\"accuracy\": 0.9713541666666666, \"source?\": false}, \"ORACLE.run2_26\": {\"accuracy\": 0.8997395833333334, \"source?\": false}, \"ORACLE.run2_32\": {\"accuracy\": 0.9768229166666667, \"source?\": false}, \"ORACLE.run2_44\": {\"accuracy\": 0.9234375, \"source?\": false}, \"ORACLE.run2_8\": {\"accuracy\": 0.9622395833333334, \"source?\": false}, \"ORACLE.run2_38\": {\"accuracy\": 0.9127604166666666, \"source?\": false}}}, \"history\": {\"epoch_indices\": [1, 2, 3, 4, 5, 6, 7, 8, 9], \"train_label_loss\": [0.4007534895627205, 0.5206617149845919, 0.22126071201173111, 0.1895921271919395, 0.16867544784202307, 0.15536688948916327, 0.1611683987500891, 0.14756209100210288, 0.13574412270929662], \"source_val_label_loss\": [15.85476016998291, 0.2667810618877411, 0.18999014794826508, 0.19530919194221497, 0.16229264438152313, 0.16939739882946014, 0.15251004695892334, 0.14534077048301697, 0.14261174201965332], \"target_val_label_loss\": [15.400127410888672, 0.346206933259964, 0.27564865350723267, 0.29187941551208496, 0.2714664041996002, 0.2807558476924896, 0.2743489444255829, 0.2599000334739685, 0.2744807004928589], \"source_val_acc_label\": [0.6995442708333334, 0.90595703125, 0.9348307291666667, 0.9316731770833333, 0.94189453125, 0.9393880208333333, 0.94609375, 0.9482096354166667, 0.9488606770833333], \"target_val_acc_label\": [0.69765625, 0.8997721354166667, 0.9254231770833333, 0.9244140625, 0.9343098958333333, 0.9277018229166667, 0.93203125, 0.9321940104166667, 0.9328776041666667]}, \"dataset_metrics\": {\"source\": {\"train\": {\"n_unique_x\": 179200, \"n_unique_y\": 16, \"n_batch/episode\": 6720}, \"val\": {\"n_unique_x\": 38400, \"n_unique_y\": 16, \"n_batch/episode\": 960}, \"test\": {\"n_unique_x\": 38400, \"n_unique_y\": 16, \"n_batch/episode\": 960}}, \"target\": {\"train\": {\"n_unique_x\": 179200, \"n_unique_y\": 16, \"n_batch/episode\": 6720}, \"val\": {\"n_unique_x\": 38400, \"n_unique_y\": 16, \"n_batch/episode\": 960}, \"test\": {\"n_unique_x\": 38400, \"n_unique_y\": 16, \"n_batch/episode\": 960}}}}'"
      ]
     },
     "execution_count": 29,
     "metadata": {},
     "output_type": "execute_result"
    }
   ],
   "source": [
    "json.dumps(experiment)"
   ]
  }
 ],
 "metadata": {
  "celltoolbar": "Tags",
  "kernelspec": {
   "display_name": "Python 3 (ipykernel)",
   "language": "python",
   "name": "python3"
  },
  "language_info": {
   "codemirror_mode": {
    "name": "ipython",
    "version": 3
   },
   "file_extension": ".py",
   "mimetype": "text/x-python",
   "name": "python",
   "nbconvert_exporter": "python",
   "pygments_lexer": "ipython3",
   "version": "3.8.12"
  },
  "papermill": {
   "default_parameters": {},
   "duration": 2662.102821,
   "end_time": "2022-03-21T12:40:56.359463",
   "environment_variables": {},
   "exception": null,
   "input_path": "/root/csc500-main/csc500-notebooks/templates/tl_ptn_template.ipynb",
   "output_path": "trial.ipynb",
   "parameters": {
    "parameters": {
     "BEST_MODEL_PATH": "./best_model.pth",
     "NUM_LOGS_PER_EPOCH": 10,
     "criteria_for_best": "target_accuracy",
     "dataset_seed": 420,
     "datasets": [
      {
       "domain_prefix": "ORACLE.run1_",
       "domains": [
        32,
        38,
        8,
        44,
        14,
        50,
        20,
        26
       ],
       "episode_transforms": [],
       "labels": [
        "3123D52",
        "3123D65",
        "3123D79",
        "3123D80",
        "3123D54",
        "3123D70",
        "3123D7B",
        "3123D89",
        "3123D58",
        "3123D76",
        "3123D7D",
        "3123EFE",
        "3123D64",
        "3123D78",
        "3123D7E",
        "3124E4A"
       ],
       "num_examples_per_domain_per_label": 2000,
       "pickle_path": "/root/csc500-main/datasets/oracle.Run1_framed_2000Examples_stratified_ds.2022A.pkl",
       "source_or_target_dataset": "source",
       "x_transforms": []
      },
      {
       "domain_prefix": "ORACLE.run2_",
       "domains": [
        32,
        38,
        8,
        44,
        14,
        50,
        20,
        26
       ],
       "episode_transforms": [],
       "labels": [
        "3123D52",
        "3123D65",
        "3123D79",
        "3123D80",
        "3123D54",
        "3123D70",
        "3123D7B",
        "3123D89",
        "3123D58",
        "3123D76",
        "3123D7D",
        "3123EFE",
        "3123D64",
        "3123D78",
        "3123D7E",
        "3124E4A"
       ],
       "num_examples_per_domain_per_label": 2000,
       "pickle_path": "/root/csc500-main/datasets/oracle.Run2_framed_2000Examples_stratified_ds.2022A.pkl",
       "source_or_target_dataset": "target",
       "x_transforms": []
      }
     ],
     "device": "cuda",
     "experiment_name": "tl_1v2:oracle.run1.framed-oracle.run2.framed",
     "lr": 0.0001,
     "n_epoch": 50,
     "n_query": 2,
     "n_shot": 3,
     "n_way": 16,
     "patience": 3,
     "seed": 420,
     "test_k_factor": 2,
     "torch_default_dtype": "torch.float32",
     "train_k_factor": 3,
     "val_k_factor": 2,
     "x_net": [
      {
       "class": "nnReshape",
       "kargs": {
        "shape": [
         -1,
         1,
         2,
         256
        ]
       }
      },
      {
       "class": "Conv2d",
       "kargs": {
        "bias": false,
        "in_channels": 1,
        "kernel_size": [
         1,
         7
        ],
        "out_channels": 256,
        "padding": [
         0,
         3
        ]
       }
      },
      {
       "class": "ReLU",
       "kargs": {
        "inplace": true
       }
      },
      {
       "class": "BatchNorm2d",
       "kargs": {
        "num_features": 256
       }
      },
      {
       "class": "Conv2d",
       "kargs": {
        "bias": true,
        "in_channels": 256,
        "kernel_size": [
         2,
         7
        ],
        "out_channels": 80,
        "padding": [
         0,
         3
        ]
       }
      },
      {
       "class": "ReLU",
       "kargs": {
        "inplace": true
       }
      },
      {
       "class": "BatchNorm2d",
       "kargs": {
        "num_features": 80
       }
      },
      {
       "class": "Flatten",
       "kargs": {}
      },
      {
       "class": "Linear",
       "kargs": {
        "in_features": 20480,
        "out_features": 256
       }
      },
      {
       "class": "ReLU",
       "kargs": {
        "inplace": true
       }
      },
      {
       "class": "BatchNorm1d",
       "kargs": {
        "num_features": 256
       }
      },
      {
       "class": "Linear",
       "kargs": {
        "in_features": 256,
        "out_features": 256
       }
      }
     ]
    }
   },
   "start_time": "2022-03-21T11:56:34.256642",
   "version": "2.3.4"
  }
 },
 "nbformat": 4,
 "nbformat_minor": 5
}