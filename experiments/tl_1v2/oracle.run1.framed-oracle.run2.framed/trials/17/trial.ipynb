{
 "cells": [
  {
   "cell_type": "markdown",
   "id": "9fea5f46",
   "metadata": {
    "papermill": {
     "duration": 0.034039,
     "end_time": "2022-03-21T21:41:14.165800",
     "exception": false,
     "start_time": "2022-03-21T21:41:14.131761",
     "status": "completed"
    },
    "tags": []
   },
   "source": [
    "# Transfer Learning Template"
   ]
  },
  {
   "cell_type": "code",
   "execution_count": 1,
   "id": "0902182a",
   "metadata": {
    "execution": {
     "iopub.execute_input": "2022-03-21T21:41:14.228188Z",
     "iopub.status.busy": "2022-03-21T21:41:14.220340Z",
     "iopub.status.idle": "2022-03-21T21:41:16.121680Z",
     "shell.execute_reply": "2022-03-21T21:41:16.120606Z"
    },
    "papermill": {
     "duration": 1.932896,
     "end_time": "2022-03-21T21:41:16.121947",
     "exception": false,
     "start_time": "2022-03-21T21:41:14.189051",
     "status": "completed"
    },
    "tags": []
   },
   "outputs": [],
   "source": [
    "%load_ext autoreload\n",
    "%autoreload 2\n",
    "%matplotlib inline\n",
    "\n",
    "    \n",
    "import os, json, sys, time, random\n",
    "import numpy as np\n",
    "import torch\n",
    "from torch.optim import Adam\n",
    "from  easydict import EasyDict\n",
    "import matplotlib.pyplot as plt\n",
    "\n",
    "from steves_models.steves_ptn import Steves_Prototypical_Network\n",
    "\n",
    "from steves_utils.lazy_iterable_wrapper import Lazy_Iterable_Wrapper\n",
    "from steves_utils.iterable_aggregator import Iterable_Aggregator\n",
    "from steves_utils.ptn_train_eval_test_jig import  PTN_Train_Eval_Test_Jig\n",
    "from steves_utils.torch_sequential_builder import build_sequential\n",
    "from steves_utils.torch_utils import get_dataset_metrics, ptn_confusion_by_domain_over_dataloader\n",
    "from steves_utils.utils_v2 import (per_domain_accuracy_from_confusion, get_datasets_base_path)\n",
    "from steves_utils.PTN.utils import independent_accuracy_assesment\n",
    "\n",
    "from torch.utils.data import DataLoader\n",
    "\n",
    "from steves_utils.stratified_dataset.episodic_accessor import Episodic_Accessor_Factory\n",
    "\n",
    "from steves_utils.ptn_do_report import (\n",
    "    get_loss_curve,\n",
    "    get_results_table,\n",
    "    get_parameters_table,\n",
    "    get_domain_accuracies,\n",
    ")\n",
    "\n",
    "from steves_utils.transforms import get_chained_transform"
   ]
  },
  {
   "cell_type": "markdown",
   "id": "41c840b4",
   "metadata": {
    "papermill": {
     "duration": 0.019346,
     "end_time": "2022-03-21T21:41:16.165087",
     "exception": false,
     "start_time": "2022-03-21T21:41:16.145741",
     "status": "completed"
    },
    "tags": []
   },
   "source": [
    "# Allowed Parameters\n",
    "These are allowed parameters, not defaults\n",
    "Each of these values need to be present in the injected parameters (the notebook will raise an exception if they are not present)\n",
    "\n",
    "Papermill uses the cell tag \"parameters\" to inject the real parameters below this cell.\n",
    "Enable tags to see what I mean"
   ]
  },
  {
   "cell_type": "code",
   "execution_count": 2,
   "id": "fd44eb83",
   "metadata": {
    "execution": {
     "iopub.execute_input": "2022-03-21T21:41:16.210146Z",
     "iopub.status.busy": "2022-03-21T21:41:16.209481Z",
     "iopub.status.idle": "2022-03-21T21:41:16.235263Z",
     "shell.execute_reply": "2022-03-21T21:41:16.234468Z"
    },
    "papermill": {
     "duration": 0.051207,
     "end_time": "2022-03-21T21:41:16.235419",
     "exception": false,
     "start_time": "2022-03-21T21:41:16.184212",
     "status": "completed"
    },
    "tags": []
   },
   "outputs": [],
   "source": [
    "required_parameters = {\n",
    "    \"experiment_name\",\n",
    "    \"lr\",\n",
    "    \"device\",\n",
    "    \"seed\",\n",
    "    \"dataset_seed\",\n",
    "    \"n_shot\",\n",
    "    \"n_query\",\n",
    "    \"n_way\",\n",
    "    \"train_k_factor\",\n",
    "    \"val_k_factor\",\n",
    "    \"test_k_factor\",\n",
    "    \"n_epoch\",\n",
    "    \"patience\",\n",
    "    \"criteria_for_best\",\n",
    "    \"x_net\",\n",
    "    \"datasets\",\n",
    "    \"torch_default_dtype\",\n",
    "    \"NUM_LOGS_PER_EPOCH\",\n",
    "    \"BEST_MODEL_PATH\",\n",
    "    \"x_shape\",\n",
    "}"
   ]
  },
  {
   "cell_type": "code",
   "execution_count": 3,
   "id": "fa3f0049",
   "metadata": {
    "execution": {
     "iopub.execute_input": "2022-03-21T21:41:16.297593Z",
     "iopub.status.busy": "2022-03-21T21:41:16.296693Z",
     "iopub.status.idle": "2022-03-21T21:41:16.321532Z",
     "shell.execute_reply": "2022-03-21T21:41:16.320837Z"
    },
    "papermill": {
     "duration": 0.059522,
     "end_time": "2022-03-21T21:41:16.321687",
     "exception": false,
     "start_time": "2022-03-21T21:41:16.262165",
     "status": "completed"
    },
    "tags": [
     "parameters"
    ]
   },
   "outputs": [],
   "source": [
    "from steves_utils.CORES.utils import (\n",
    "    ALL_NODES,\n",
    "    ALL_NODES_MINIMUM_1000_EXAMPLES,\n",
    "    ALL_DAYS\n",
    ")\n",
    "\n",
    "from steves_utils.ORACLE.utils_v2 import (\n",
    "    ALL_DISTANCES_FEET_NARROWED,\n",
    "    ALL_RUNS,\n",
    "    ALL_SERIAL_NUMBERS,\n",
    ")\n",
    "\n",
    "standalone_parameters = {}\n",
    "standalone_parameters[\"experiment_name\"] = \"STANDALONE PTN\"\n",
    "standalone_parameters[\"lr\"] = 0.001\n",
    "standalone_parameters[\"device\"] = \"cuda\"\n",
    "\n",
    "standalone_parameters[\"seed\"] = 1337\n",
    "standalone_parameters[\"dataset_seed\"] = 1337\n",
    "\n",
    "standalone_parameters[\"n_way\"] = 8\n",
    "standalone_parameters[\"n_shot\"] = 3\n",
    "standalone_parameters[\"n_query\"]  = 2\n",
    "standalone_parameters[\"train_k_factor\"] = 1\n",
    "standalone_parameters[\"val_k_factor\"] = 2\n",
    "standalone_parameters[\"test_k_factor\"] = 2\n",
    "\n",
    "\n",
    "standalone_parameters[\"n_epoch\"] = 50\n",
    "\n",
    "standalone_parameters[\"patience\"] = 10\n",
    "standalone_parameters[\"criteria_for_best\"] = \"source_loss\"\n",
    "\n",
    "standalone_parameters[\"datasets\"] = [\n",
    "    {\n",
    "        \"labels\": ALL_SERIAL_NUMBERS,\n",
    "        \"domains\": ALL_DISTANCES_FEET_NARROWED,\n",
    "        \"num_examples_per_domain_per_label\": 100,\n",
    "        \"pickle_path\": os.path.join(get_datasets_base_path(), \"oracle.Run1_framed_2000Examples_stratified_ds.2022A.pkl\"),\n",
    "        \"source_or_target_dataset\": \"source\",\n",
    "        \"x_transforms\": [\"unit_mag\", \"minus_two\"],\n",
    "        \"episode_transforms\": [],\n",
    "        \"domain_prefix\": \"ORACLE_\"\n",
    "    },\n",
    "    {\n",
    "        \"labels\": ALL_NODES,\n",
    "        \"domains\": ALL_DAYS,\n",
    "        \"num_examples_per_domain_per_label\": 100,\n",
    "        \"pickle_path\": os.path.join(get_datasets_base_path(), \"cores.stratified_ds.2022A.pkl\"),\n",
    "        \"source_or_target_dataset\": \"target\",\n",
    "        \"x_transforms\": [\"unit_power\", \"times_zero\"],\n",
    "        \"episode_transforms\": [],\n",
    "        \"domain_prefix\": \"CORES_\"\n",
    "    }   \n",
    "]\n",
    "\n",
    "standalone_parameters[\"torch_default_dtype\"] = \"torch.float32\" \n",
    "\n",
    "\n",
    "\n",
    "standalone_parameters[\"x_net\"] =     [\n",
    "    {\"class\": \"nnReshape\", \"kargs\": {\"shape\":[-1, 1, 2, 256]}},\n",
    "    {\"class\": \"Conv2d\", \"kargs\": { \"in_channels\":1, \"out_channels\":256, \"kernel_size\":(1,7), \"bias\":False, \"padding\":(0,3), },},\n",
    "    {\"class\": \"ReLU\", \"kargs\": {\"inplace\": True}},\n",
    "    {\"class\": \"BatchNorm2d\", \"kargs\": {\"num_features\":256}},\n",
    "\n",
    "    {\"class\": \"Conv2d\", \"kargs\": { \"in_channels\":256, \"out_channels\":80, \"kernel_size\":(2,7), \"bias\":True, \"padding\":(0,3), },},\n",
    "    {\"class\": \"ReLU\", \"kargs\": {\"inplace\": True}},\n",
    "    {\"class\": \"BatchNorm2d\", \"kargs\": {\"num_features\":80}},\n",
    "    {\"class\": \"Flatten\", \"kargs\": {}},\n",
    "\n",
    "    {\"class\": \"Linear\", \"kargs\": {\"in_features\": 80*256, \"out_features\": 256}}, # 80 units per IQ pair\n",
    "    {\"class\": \"ReLU\", \"kargs\": {\"inplace\": True}},\n",
    "    {\"class\": \"BatchNorm1d\", \"kargs\": {\"num_features\":256}},\n",
    "\n",
    "    {\"class\": \"Linear\", \"kargs\": {\"in_features\": 256, \"out_features\": 256}},\n",
    "]\n",
    "\n",
    "# Parameters relevant to results\n",
    "# These parameters will basically never need to change\n",
    "standalone_parameters[\"NUM_LOGS_PER_EPOCH\"] = 10\n",
    "standalone_parameters[\"BEST_MODEL_PATH\"] = \"./best_model.pth\"\n",
    "\n",
    "\n",
    "\n",
    "\n"
   ]
  },
  {
   "cell_type": "code",
   "execution_count": 4,
   "id": "51496c16",
   "metadata": {
    "execution": {
     "iopub.execute_input": "2022-03-21T21:41:16.384208Z",
     "iopub.status.busy": "2022-03-21T21:41:16.376647Z",
     "iopub.status.idle": "2022-03-21T21:41:16.407562Z",
     "shell.execute_reply": "2022-03-21T21:41:16.406854Z"
    },
    "papermill": {
     "duration": 0.058347,
     "end_time": "2022-03-21T21:41:16.407722",
     "exception": false,
     "start_time": "2022-03-21T21:41:16.349375",
     "status": "completed"
    },
    "tags": [
     "injected-parameters"
    ]
   },
   "outputs": [],
   "source": [
    "# Parameters\n",
    "parameters = {\n",
    "    \"experiment_name\": \"tl_1v2:oracle.run1.framed-oracle.run2.framed\",\n",
    "    \"device\": \"cuda\",\n",
    "    \"lr\": 0.0001,\n",
    "    \"n_shot\": 3,\n",
    "    \"n_query\": 2,\n",
    "    \"train_k_factor\": 3,\n",
    "    \"val_k_factor\": 2,\n",
    "    \"test_k_factor\": 2,\n",
    "    \"torch_default_dtype\": \"torch.float32\",\n",
    "    \"n_epoch\": 50,\n",
    "    \"patience\": 3,\n",
    "    \"criteria_for_best\": \"target_accuracy\",\n",
    "    \"x_net\": [\n",
    "        {\"class\": \"nnReshape\", \"kargs\": {\"shape\": [-1, 1, 2, 256]}},\n",
    "        {\n",
    "            \"class\": \"Conv2d\",\n",
    "            \"kargs\": {\n",
    "                \"in_channels\": 1,\n",
    "                \"out_channels\": 256,\n",
    "                \"kernel_size\": [1, 7],\n",
    "                \"bias\": False,\n",
    "                \"padding\": [0, 3],\n",
    "            },\n",
    "        },\n",
    "        {\"class\": \"ReLU\", \"kargs\": {\"inplace\": True}},\n",
    "        {\"class\": \"BatchNorm2d\", \"kargs\": {\"num_features\": 256}},\n",
    "        {\n",
    "            \"class\": \"Conv2d\",\n",
    "            \"kargs\": {\n",
    "                \"in_channels\": 256,\n",
    "                \"out_channels\": 80,\n",
    "                \"kernel_size\": [2, 7],\n",
    "                \"bias\": True,\n",
    "                \"padding\": [0, 3],\n",
    "            },\n",
    "        },\n",
    "        {\"class\": \"ReLU\", \"kargs\": {\"inplace\": True}},\n",
    "        {\"class\": \"BatchNorm2d\", \"kargs\": {\"num_features\": 80}},\n",
    "        {\"class\": \"Flatten\", \"kargs\": {}},\n",
    "        {\"class\": \"Linear\", \"kargs\": {\"in_features\": 20480, \"out_features\": 256}},\n",
    "        {\"class\": \"ReLU\", \"kargs\": {\"inplace\": True}},\n",
    "        {\"class\": \"BatchNorm1d\", \"kargs\": {\"num_features\": 256}},\n",
    "        {\"class\": \"Linear\", \"kargs\": {\"in_features\": 256, \"out_features\": 256}},\n",
    "    ],\n",
    "    \"NUM_LOGS_PER_EPOCH\": 10,\n",
    "    \"BEST_MODEL_PATH\": \"./best_model.pth\",\n",
    "    \"n_way\": 16,\n",
    "    \"datasets\": [\n",
    "        {\n",
    "            \"labels\": [\n",
    "                \"3123D52\",\n",
    "                \"3123D65\",\n",
    "                \"3123D79\",\n",
    "                \"3123D80\",\n",
    "                \"3123D54\",\n",
    "                \"3123D70\",\n",
    "                \"3123D7B\",\n",
    "                \"3123D89\",\n",
    "                \"3123D58\",\n",
    "                \"3123D76\",\n",
    "                \"3123D7D\",\n",
    "                \"3123EFE\",\n",
    "                \"3123D64\",\n",
    "                \"3123D78\",\n",
    "                \"3123D7E\",\n",
    "                \"3124E4A\",\n",
    "            ],\n",
    "            \"domains\": [32, 38, 8, 44, 14, 50, 20, 26],\n",
    "            \"num_examples_per_domain_per_label\": 2000,\n",
    "            \"pickle_path\": \"/root/csc500-main/datasets/oracle.Run1_framed_2000Examples_stratified_ds.2022A.pkl\",\n",
    "            \"source_or_target_dataset\": \"target\",\n",
    "            \"x_transforms\": [],\n",
    "            \"episode_transforms\": [],\n",
    "            \"domain_prefix\": \"ORACLE.run1_\",\n",
    "        },\n",
    "        {\n",
    "            \"labels\": [\n",
    "                \"3123D52\",\n",
    "                \"3123D65\",\n",
    "                \"3123D79\",\n",
    "                \"3123D80\",\n",
    "                \"3123D54\",\n",
    "                \"3123D70\",\n",
    "                \"3123D7B\",\n",
    "                \"3123D89\",\n",
    "                \"3123D58\",\n",
    "                \"3123D76\",\n",
    "                \"3123D7D\",\n",
    "                \"3123EFE\",\n",
    "                \"3123D64\",\n",
    "                \"3123D78\",\n",
    "                \"3123D7E\",\n",
    "                \"3124E4A\",\n",
    "            ],\n",
    "            \"domains\": [32, 38, 8, 44, 14, 50, 20, 26],\n",
    "            \"num_examples_per_domain_per_label\": 2000,\n",
    "            \"pickle_path\": \"/root/csc500-main/datasets/oracle.Run2_framed_2000Examples_stratified_ds.2022A.pkl\",\n",
    "            \"source_or_target_dataset\": \"source\",\n",
    "            \"x_transforms\": [],\n",
    "            \"episode_transforms\": [],\n",
    "            \"domain_prefix\": \"ORACLE.run2_\",\n",
    "        },\n",
    "    ],\n",
    "    \"dataset_seed\": 154325,\n",
    "    \"seed\": 154325,\n",
    "}\n"
   ]
  },
  {
   "cell_type": "code",
   "execution_count": 5,
   "id": "8fa1cc33",
   "metadata": {
    "execution": {
     "iopub.execute_input": "2022-03-21T21:41:16.459313Z",
     "iopub.status.busy": "2022-03-21T21:41:16.458687Z",
     "iopub.status.idle": "2022-03-21T21:41:16.482953Z",
     "shell.execute_reply": "2022-03-21T21:41:16.482278Z"
    },
    "papermill": {
     "duration": 0.050753,
     "end_time": "2022-03-21T21:41:16.483104",
     "exception": false,
     "start_time": "2022-03-21T21:41:16.432351",
     "status": "completed"
    },
    "tags": []
   },
   "outputs": [],
   "source": [
    "# Set this to True if you want to run this template directly\n",
    "STANDALONE = False\n",
    "if STANDALONE:\n",
    "    print(\"parameters not injected, running with standalone_parameters\")\n",
    "    parameters = standalone_parameters\n",
    "\n",
    "if not 'parameters' in locals() and not 'parameters' in globals():\n",
    "    raise Exception(\"Parameter injection failed\")\n",
    "\n",
    "#Use an easy dict for all the parameters\n",
    "p = EasyDict(parameters)\n",
    "\n",
    "if \"x_shape\" not in p:\n",
    "    p.x_shape = [2,256] # Default to this if we dont supply x_shape\n",
    "\n",
    "\n",
    "supplied_keys = set(p.keys())\n",
    "\n",
    "if  supplied_keys != required_parameters:\n",
    "    print(\"Parameters are incorrect\")\n",
    "    if len(supplied_keys - required_parameters)>0: print(\"Shouldn't have:\", str(supplied_keys - required_parameters))\n",
    "    if len(required_parameters - supplied_keys)>0: print(\"Need to have:\", str(required_parameters - supplied_keys))\n",
    "    raise RuntimeError(\"Parameters are incorrect\")"
   ]
  },
  {
   "cell_type": "code",
   "execution_count": 6,
   "id": "3a028d58",
   "metadata": {
    "execution": {
     "iopub.execute_input": "2022-03-21T21:41:16.529431Z",
     "iopub.status.busy": "2022-03-21T21:41:16.529070Z",
     "iopub.status.idle": "2022-03-21T21:41:16.552405Z",
     "shell.execute_reply": "2022-03-21T21:41:16.551612Z"
    },
    "papermill": {
     "duration": 0.045402,
     "end_time": "2022-03-21T21:41:16.552555",
     "exception": false,
     "start_time": "2022-03-21T21:41:16.507153",
     "status": "completed"
    },
    "tags": []
   },
   "outputs": [],
   "source": [
    "###################################\n",
    "# Set the RNGs and make it all deterministic\n",
    "###################################\n",
    "np.random.seed(p.seed)\n",
    "random.seed(p.seed)\n",
    "torch.manual_seed(p.seed)\n",
    "\n",
    "torch.use_deterministic_algorithms(True) "
   ]
  },
  {
   "cell_type": "code",
   "execution_count": 7,
   "id": "b691acf6",
   "metadata": {
    "execution": {
     "iopub.execute_input": "2022-03-21T21:41:16.601527Z",
     "iopub.status.busy": "2022-03-21T21:41:16.601169Z",
     "iopub.status.idle": "2022-03-21T21:41:16.629398Z",
     "shell.execute_reply": "2022-03-21T21:41:16.628619Z"
    },
    "papermill": {
     "duration": 0.051149,
     "end_time": "2022-03-21T21:41:16.629547",
     "exception": false,
     "start_time": "2022-03-21T21:41:16.578398",
     "status": "completed"
    },
    "tags": []
   },
   "outputs": [],
   "source": [
    "###########################################\n",
    "# The stratified datasets honor this\n",
    "###########################################\n",
    "torch.set_default_dtype(eval(p.torch_default_dtype))"
   ]
  },
  {
   "cell_type": "code",
   "execution_count": 8,
   "id": "b5fba671",
   "metadata": {
    "execution": {
     "iopub.execute_input": "2022-03-21T21:41:16.678189Z",
     "iopub.status.busy": "2022-03-21T21:41:16.677618Z",
     "iopub.status.idle": "2022-03-21T21:41:16.741920Z",
     "shell.execute_reply": "2022-03-21T21:41:16.740938Z"
    },
    "papermill": {
     "duration": 0.086635,
     "end_time": "2022-03-21T21:41:16.742110",
     "exception": false,
     "start_time": "2022-03-21T21:41:16.655475",
     "status": "completed"
    },
    "tags": []
   },
   "outputs": [],
   "source": [
    "###################################\n",
    "# Build the network(s)\n",
    "# Note: It's critical to do this AFTER setting the RNG\n",
    "###################################\n",
    "x_net = build_sequential(p.x_net)"
   ]
  },
  {
   "cell_type": "code",
   "execution_count": 9,
   "id": "5d7e61cc",
   "metadata": {
    "execution": {
     "iopub.execute_input": "2022-03-21T21:41:16.792698Z",
     "iopub.status.busy": "2022-03-21T21:41:16.792329Z",
     "iopub.status.idle": "2022-03-21T21:41:16.814745Z",
     "shell.execute_reply": "2022-03-21T21:41:16.813576Z"
    },
    "papermill": {
     "duration": 0.045101,
     "end_time": "2022-03-21T21:41:16.814963",
     "exception": false,
     "start_time": "2022-03-21T21:41:16.769862",
     "status": "completed"
    },
    "tags": []
   },
   "outputs": [],
   "source": [
    "start_time_secs = time.time()"
   ]
  },
  {
   "cell_type": "code",
   "execution_count": 10,
   "id": "c6b67dfd",
   "metadata": {
    "execution": {
     "iopub.execute_input": "2022-03-21T21:41:16.863201Z",
     "iopub.status.busy": "2022-03-21T21:41:16.862801Z",
     "iopub.status.idle": "2022-03-21T21:41:16.888301Z",
     "shell.execute_reply": "2022-03-21T21:41:16.887484Z"
    },
    "papermill": {
     "duration": 0.048804,
     "end_time": "2022-03-21T21:41:16.888455",
     "exception": false,
     "start_time": "2022-03-21T21:41:16.839651",
     "status": "completed"
    },
    "tags": []
   },
   "outputs": [],
   "source": [
    "p.domains_source = []\n",
    "p.domains_target = []\n",
    "\n",
    "\n",
    "train_original_source = []\n",
    "val_original_source   = []\n",
    "test_original_source  = []\n",
    "\n",
    "train_original_target = []\n",
    "val_original_target   = []\n",
    "test_original_target  = []"
   ]
  },
  {
   "cell_type": "code",
   "execution_count": 11,
   "id": "e3d9c3d3",
   "metadata": {
    "execution": {
     "iopub.execute_input": "2022-03-21T21:41:16.934186Z",
     "iopub.status.busy": "2022-03-21T21:41:16.933826Z",
     "iopub.status.idle": "2022-03-21T21:41:16.954255Z",
     "shell.execute_reply": "2022-03-21T21:41:16.953455Z"
    },
    "papermill": {
     "duration": 0.041745,
     "end_time": "2022-03-21T21:41:16.954409",
     "exception": false,
     "start_time": "2022-03-21T21:41:16.912664",
     "status": "completed"
    },
    "tags": []
   },
   "outputs": [],
   "source": [
    "# global_x_transform_func = lambda x: normalize(x.to(torch.get_default_dtype()), \"unit_power\") # unit_power, unit_mag\n",
    "# global_x_transform_func = lambda x: normalize(x, \"unit_power\") # unit_power, unit_mag"
   ]
  },
  {
   "cell_type": "code",
   "execution_count": 12,
   "id": "acb78fd2",
   "metadata": {
    "execution": {
     "iopub.execute_input": "2022-03-21T21:41:17.006526Z",
     "iopub.status.busy": "2022-03-21T21:41:17.005953Z",
     "iopub.status.idle": "2022-03-21T21:41:17.027300Z",
     "shell.execute_reply": "2022-03-21T21:41:17.026502Z"
    },
    "papermill": {
     "duration": 0.047873,
     "end_time": "2022-03-21T21:41:17.027454",
     "exception": false,
     "start_time": "2022-03-21T21:41:16.979581",
     "status": "completed"
    },
    "tags": []
   },
   "outputs": [],
   "source": [
    "def add_dataset(\n",
    "    labels,\n",
    "    domains,\n",
    "    pickle_path,\n",
    "    x_transforms,\n",
    "    episode_transforms,\n",
    "    domain_prefix,\n",
    "    num_examples_per_domain_per_label,\n",
    "    source_or_target_dataset:str,\n",
    "    iterator_seed=p.seed,\n",
    "    dataset_seed=p.dataset_seed,\n",
    "    n_shot=p.n_shot,\n",
    "    n_way=p.n_way,\n",
    "    n_query=p.n_query,\n",
    "    train_val_test_k_factors=(p.train_k_factor,p.val_k_factor,p.test_k_factor),\n",
    "):\n",
    "   \n",
    "    if x_transforms == []: x_transform = None\n",
    "    else: x_transform = get_chained_transform(x_transforms)\n",
    "    \n",
    "    if episode_transforms == []: episode_transform = None\n",
    "    else: raise Exception(\"episode_transforms not implemented\")\n",
    "    \n",
    "    episode_transform = lambda tup, _prefix=domain_prefix: (_prefix + str(tup[0]), tup[1])\n",
    "\n",
    "\n",
    "    eaf = Episodic_Accessor_Factory(\n",
    "        labels=labels,\n",
    "        domains=domains,\n",
    "        num_examples_per_domain_per_label=num_examples_per_domain_per_label,\n",
    "        iterator_seed=iterator_seed,\n",
    "        dataset_seed=dataset_seed,\n",
    "        n_shot=n_shot,\n",
    "        n_way=n_way,\n",
    "        n_query=n_query,\n",
    "        train_val_test_k_factors=train_val_test_k_factors,\n",
    "        pickle_path=pickle_path,\n",
    "        x_transform_func=x_transform,\n",
    "    )\n",
    "\n",
    "    train, val, test = eaf.get_train(), eaf.get_val(), eaf.get_test()\n",
    "    train = Lazy_Iterable_Wrapper(train, episode_transform)\n",
    "    val = Lazy_Iterable_Wrapper(val, episode_transform)\n",
    "    test = Lazy_Iterable_Wrapper(test, episode_transform)\n",
    "\n",
    "    if source_or_target_dataset==\"source\":\n",
    "        train_original_source.append(train)\n",
    "        val_original_source.append(val)\n",
    "        test_original_source.append(test)\n",
    "\n",
    "        p.domains_source.extend(\n",
    "            [domain_prefix + str(u) for u in domains]\n",
    "        )\n",
    "    elif source_or_target_dataset==\"target\":\n",
    "        train_original_target.append(train)\n",
    "        val_original_target.append(val)\n",
    "        test_original_target.append(test)\n",
    "        p.domains_target.extend(\n",
    "            [domain_prefix + str(u) for u in domains]\n",
    "        )\n",
    "    else:\n",
    "        raise Exception(f\"invalid source_or_target_dataset: {source_or_target_dataset}\")\n",
    "    "
   ]
  },
  {
   "cell_type": "code",
   "execution_count": 13,
   "id": "fe266617",
   "metadata": {
    "execution": {
     "iopub.execute_input": "2022-03-21T21:41:17.079717Z",
     "iopub.status.busy": "2022-03-21T21:41:17.079336Z",
     "iopub.status.idle": "2022-03-21T21:41:20.624712Z",
     "shell.execute_reply": "2022-03-21T21:41:20.623940Z"
    },
    "papermill": {
     "duration": 3.568456,
     "end_time": "2022-03-21T21:41:20.624901",
     "exception": false,
     "start_time": "2022-03-21T21:41:17.056445",
     "status": "completed"
    },
    "tags": []
   },
   "outputs": [],
   "source": [
    "for ds in p.datasets:\n",
    "    add_dataset(**ds)"
   ]
  },
  {
   "cell_type": "code",
   "execution_count": 14,
   "id": "b90d65ac",
   "metadata": {
    "execution": {
     "iopub.execute_input": "2022-03-21T21:41:20.673960Z",
     "iopub.status.busy": "2022-03-21T21:41:20.672793Z",
     "iopub.status.idle": "2022-03-21T21:41:20.699078Z",
     "shell.execute_reply": "2022-03-21T21:41:20.698262Z"
    },
    "papermill": {
     "duration": 0.049865,
     "end_time": "2022-03-21T21:41:20.699236",
     "exception": false,
     "start_time": "2022-03-21T21:41:20.649371",
     "status": "completed"
    },
    "tags": []
   },
   "outputs": [],
   "source": [
    "# from steves_utils.CORES.utils import (\n",
    "#     ALL_NODES,\n",
    "#     ALL_NODES_MINIMUM_1000_EXAMPLES,\n",
    "#     ALL_DAYS\n",
    "# )\n",
    "\n",
    "# add_dataset(\n",
    "#     labels=ALL_NODES,\n",
    "#     domains = ALL_DAYS,\n",
    "#     num_examples_per_domain_per_label=100,\n",
    "#     pickle_path=os.path.join(get_datasets_base_path(), \"cores.stratified_ds.2022A.pkl\"),\n",
    "#     source_or_target_dataset=\"target\",\n",
    "#     x_transform_func=global_x_transform_func,\n",
    "#     domain_modifier=lambda u: f\"cores_{u}\"\n",
    "# )"
   ]
  },
  {
   "cell_type": "code",
   "execution_count": 15,
   "id": "76db484d",
   "metadata": {
    "execution": {
     "iopub.execute_input": "2022-03-21T21:41:20.749819Z",
     "iopub.status.busy": "2022-03-21T21:41:20.749258Z",
     "iopub.status.idle": "2022-03-21T21:41:20.770355Z",
     "shell.execute_reply": "2022-03-21T21:41:20.769544Z"
    },
    "papermill": {
     "duration": 0.045822,
     "end_time": "2022-03-21T21:41:20.770510",
     "exception": false,
     "start_time": "2022-03-21T21:41:20.724688",
     "status": "completed"
    },
    "tags": []
   },
   "outputs": [],
   "source": [
    "# from steves_utils.ORACLE.utils_v2 import (\n",
    "#     ALL_DISTANCES_FEET,\n",
    "#     ALL_RUNS,\n",
    "#     ALL_SERIAL_NUMBERS,\n",
    "# )\n",
    "\n",
    "\n",
    "# add_dataset(\n",
    "#     labels=ALL_SERIAL_NUMBERS,\n",
    "#     domains = list(set(ALL_DISTANCES_FEET) - {2,62}),\n",
    "#     num_examples_per_domain_per_label=100,\n",
    "#     pickle_path=os.path.join(get_datasets_base_path(), \"oracle.Run2_framed_2000Examples_stratified_ds.2022A.pkl\"),\n",
    "#     source_or_target_dataset=\"source\",\n",
    "#     x_transform_func=global_x_transform_func,\n",
    "#     domain_modifier=lambda u: f\"oracle1_{u}\"\n",
    "# )\n"
   ]
  },
  {
   "cell_type": "code",
   "execution_count": 16,
   "id": "97dea9d2",
   "metadata": {
    "execution": {
     "iopub.execute_input": "2022-03-21T21:41:20.821144Z",
     "iopub.status.busy": "2022-03-21T21:41:20.820349Z",
     "iopub.status.idle": "2022-03-21T21:41:20.842036Z",
     "shell.execute_reply": "2022-03-21T21:41:20.841228Z"
    },
    "papermill": {
     "duration": 0.045807,
     "end_time": "2022-03-21T21:41:20.842193",
     "exception": false,
     "start_time": "2022-03-21T21:41:20.796386",
     "status": "completed"
    },
    "tags": []
   },
   "outputs": [],
   "source": [
    "# from steves_utils.ORACLE.utils_v2 import (\n",
    "#     ALL_DISTANCES_FEET,\n",
    "#     ALL_RUNS,\n",
    "#     ALL_SERIAL_NUMBERS,\n",
    "# )\n",
    "\n",
    "\n",
    "# add_dataset(\n",
    "#     labels=ALL_SERIAL_NUMBERS,\n",
    "#     domains = list(set(ALL_DISTANCES_FEET) - {2,62,56}),\n",
    "#     num_examples_per_domain_per_label=100,\n",
    "#     pickle_path=os.path.join(get_datasets_base_path(), \"oracle.Run2_framed_2000Examples_stratified_ds.2022A.pkl\"),\n",
    "#     source_or_target_dataset=\"source\",\n",
    "#     x_transform_func=global_x_transform_func,\n",
    "#     domain_modifier=lambda u: f\"oracle2_{u}\"\n",
    "# )"
   ]
  },
  {
   "cell_type": "code",
   "execution_count": 17,
   "id": "6f289866",
   "metadata": {
    "execution": {
     "iopub.execute_input": "2022-03-21T21:41:20.891887Z",
     "iopub.status.busy": "2022-03-21T21:41:20.891445Z",
     "iopub.status.idle": "2022-03-21T21:41:20.908712Z",
     "shell.execute_reply": "2022-03-21T21:41:20.907896Z"
    },
    "papermill": {
     "duration": 0.04043,
     "end_time": "2022-03-21T21:41:20.908867",
     "exception": false,
     "start_time": "2022-03-21T21:41:20.868437",
     "status": "completed"
    },
    "tags": []
   },
   "outputs": [],
   "source": [
    "# add_dataset(\n",
    "#     labels=list(range(19)),\n",
    "#     domains = [0,1,2],\n",
    "#     num_examples_per_domain_per_label=100,\n",
    "#     pickle_path=os.path.join(get_datasets_base_path(), \"metehan.stratified_ds.2022A.pkl\"),\n",
    "#     source_or_target_dataset=\"target\",\n",
    "#     x_transform_func=global_x_transform_func,\n",
    "#     domain_modifier=lambda u: f\"met_{u}\"\n",
    "# )"
   ]
  },
  {
   "cell_type": "code",
   "execution_count": 18,
   "id": "86a863c3",
   "metadata": {
    "execution": {
     "iopub.execute_input": "2022-03-21T21:41:20.968837Z",
     "iopub.status.busy": "2022-03-21T21:41:20.964541Z",
     "iopub.status.idle": "2022-03-21T21:41:20.982161Z",
     "shell.execute_reply": "2022-03-21T21:41:20.981355Z"
    },
    "papermill": {
     "duration": 0.044498,
     "end_time": "2022-03-21T21:41:20.982316",
     "exception": false,
     "start_time": "2022-03-21T21:41:20.937818",
     "status": "completed"
    },
    "tags": []
   },
   "outputs": [],
   "source": [
    "# # from steves_utils.wisig.utils import (\n",
    "# #     ALL_NODES_MINIMUM_100_EXAMPLES,\n",
    "# #     ALL_NODES_MINIMUM_500_EXAMPLES,\n",
    "# #     ALL_NODES_MINIMUM_1000_EXAMPLES,\n",
    "# #     ALL_DAYS\n",
    "# # )\n",
    "\n",
    "# import steves_utils.wisig.utils as wisig\n",
    "\n",
    "\n",
    "# add_dataset(\n",
    "#     labels=wisig.ALL_NODES_MINIMUM_100_EXAMPLES,\n",
    "#     domains = wisig.ALL_DAYS,\n",
    "#     num_examples_per_domain_per_label=100,\n",
    "#     pickle_path=os.path.join(get_datasets_base_path(), \"wisig.node3-19.stratified_ds.2022A.pkl\"),\n",
    "#     source_or_target_dataset=\"target\",\n",
    "#     x_transform_func=global_x_transform_func,\n",
    "#     domain_modifier=lambda u: f\"wisig_{u}\"\n",
    "# )"
   ]
  },
  {
   "cell_type": "code",
   "execution_count": 19,
   "id": "fd5442bc",
   "metadata": {
    "execution": {
     "iopub.execute_input": "2022-03-21T21:41:21.034572Z",
     "iopub.status.busy": "2022-03-21T21:41:21.034193Z",
     "iopub.status.idle": "2022-03-21T21:41:21.052776Z",
     "shell.execute_reply": "2022-03-21T21:41:21.051970Z"
    },
    "papermill": {
     "duration": 0.044488,
     "end_time": "2022-03-21T21:41:21.052931",
     "exception": false,
     "start_time": "2022-03-21T21:41:21.008443",
     "status": "completed"
    },
    "tags": []
   },
   "outputs": [],
   "source": [
    "###################################\n",
    "# Build the dataset\n",
    "###################################\n",
    "train_original_source = Iterable_Aggregator(train_original_source, p.seed)\n",
    "val_original_source = Iterable_Aggregator(val_original_source, p.seed)\n",
    "test_original_source = Iterable_Aggregator(test_original_source, p.seed)\n",
    "\n",
    "\n",
    "train_original_target = Iterable_Aggregator(train_original_target, p.seed)\n",
    "val_original_target = Iterable_Aggregator(val_original_target, p.seed)\n",
    "test_original_target = Iterable_Aggregator(test_original_target, p.seed)\n",
    "\n",
    "# For CNN We only use X and Y. And we only train on the source.\n",
    "# Properly form the data using a transform lambda and Lazy_Iterable_Wrapper. Finally wrap them in a dataloader\n",
    "\n",
    "transform_lambda = lambda ex: ex[1] # Original is (<domain>, <episode>) so we strip down to episode only\n",
    "\n",
    "train_processed_source = Lazy_Iterable_Wrapper(train_original_source, transform_lambda)\n",
    "val_processed_source   = Lazy_Iterable_Wrapper(val_original_source, transform_lambda)\n",
    "test_processed_source  = Lazy_Iterable_Wrapper(test_original_source, transform_lambda)\n",
    "\n",
    "train_processed_target = Lazy_Iterable_Wrapper(train_original_target, transform_lambda)\n",
    "val_processed_target   = Lazy_Iterable_Wrapper(val_original_target, transform_lambda)\n",
    "test_processed_target  = Lazy_Iterable_Wrapper(test_original_target, transform_lambda)\n",
    "\n",
    "datasets = EasyDict({\n",
    "    \"source\": {\n",
    "        \"original\": {\"train\":train_original_source, \"val\":val_original_source, \"test\":test_original_source},\n",
    "        \"processed\": {\"train\":train_processed_source, \"val\":val_processed_source, \"test\":test_processed_source}\n",
    "    },\n",
    "    \"target\": {\n",
    "        \"original\": {\"train\":train_original_target, \"val\":val_original_target, \"test\":test_original_target},\n",
    "        \"processed\": {\"train\":train_processed_target, \"val\":val_processed_target, \"test\":test_processed_target}\n",
    "    },\n",
    "})"
   ]
  },
  {
   "cell_type": "code",
   "execution_count": 20,
   "id": "5b3c01fc",
   "metadata": {
    "execution": {
     "iopub.execute_input": "2022-03-21T21:41:21.104983Z",
     "iopub.status.busy": "2022-03-21T21:41:21.103395Z",
     "iopub.status.idle": "2022-03-21T21:41:36.268173Z",
     "shell.execute_reply": "2022-03-21T21:41:36.268831Z"
    },
    "papermill": {
     "duration": 15.189384,
     "end_time": "2022-03-21T21:41:36.269054",
     "exception": false,
     "start_time": "2022-03-21T21:41:21.079670",
     "status": "completed"
    },
    "tags": []
   },
   "outputs": [
    {
     "name": "stdout",
     "output_type": "stream",
     "text": [
      "{'ORACLE.run2_14', 'ORACLE.run2_8', 'ORACLE.run2_44', 'ORACLE.run2_26', 'ORACLE.run2_50', 'ORACLE.run2_38', 'ORACLE.run2_32', 'ORACLE.run2_20'}\n"
     ]
    },
    {
     "name": "stdout",
     "output_type": "stream",
     "text": [
      "{'ORACLE.run1_26', 'ORACLE.run1_8', 'ORACLE.run1_20', 'ORACLE.run1_44', 'ORACLE.run1_38', 'ORACLE.run1_50', 'ORACLE.run1_32', 'ORACLE.run1_14'}\n"
     ]
    },
    {
     "name": "stdout",
     "output_type": "stream",
     "text": [
      "tensor([[[-6.6225e-03, -1.9227e-03,  7.9043e-03,  ...,  1.1292e-03,\n",
      "          -4.0590e-03,  6.9582e-03],\n",
      "         [ 9.1556e-05, -3.6317e-03, -7.6296e-04,  ...,  5.0966e-03,\n",
      "           6.9887e-03,  4.6693e-03]],\n",
      "\n",
      "        [[-5.1271e-03,  1.0071e-03,  6.7141e-03,  ..., -3.5096e-03,\n",
      "          -6.4089e-03,  4.4252e-03],\n",
      "         [-4.6693e-03, -3.5096e-03,  4.3947e-03,  ...,  4.6999e-03,\n",
      "           3.0824e-03,  8.0569e-03]],\n",
      "\n",
      "        [[-1.0376e-03,  6.8361e-03, -8.5452e-04,  ..., -6.1342e-03,\n",
      "           2.1058e-03,  7.6296e-04],\n",
      "         [-1.7701e-03,  1.1597e-03,  3.4486e-03,  ...,  8.8504e-04,\n",
      "          -6.8056e-03, -7.2329e-03]],\n",
      "\n",
      "        ...,\n",
      "\n",
      "        [[ 5.2187e-03, -2.5025e-03, -5.8290e-03,  ...,  4.1200e-03,\n",
      "           5.3713e-03, -3.8453e-03],\n",
      "         [ 4.0895e-03,  2.8077e-03, -3.5096e-03,  ..., -4.2421e-03,\n",
      "          -2.9298e-03, -7.0803e-03]],\n",
      "\n",
      "        [[-1.1597e-03, -6.3478e-03,  3.1434e-03,  ...,  5.7680e-03,\n",
      "          -4.2421e-03, -7.3244e-04],\n",
      "         [ 1.8006e-03, -2.8382e-03, -2.7467e-03,  ...,  1.8921e-03,\n",
      "           5.8596e-03,  5.6459e-03]],\n",
      "\n",
      "        [[-1.0071e-03,  4.6388e-03,  1.4039e-03,  ..., -3.3876e-03,\n",
      "          -4.4557e-03, -5.6459e-03],\n",
      "         [-2.2889e-03, -5.6154e-03,  4.2726e-03,  ...,  3.8759e-03,\n",
      "          -5.8901e-03, -8.8504e-04]]])\n"
     ]
    }
   ],
   "source": [
    "from steves_utils.transforms import get_average_magnitude, get_average_power\n",
    "\n",
    "print(set([u for u,_ in val_original_source]))\n",
    "print(set([u for u,_ in val_original_target]))\n",
    "\n",
    "s_x, s_y, q_x, q_y, _ = next(iter(train_processed_source))\n",
    "print(s_x)\n",
    "\n",
    "# for ds in [\n",
    "#     train_processed_source,\n",
    "#     val_processed_source,\n",
    "#     test_processed_source,\n",
    "#     train_processed_target,\n",
    "#     val_processed_target,\n",
    "#     test_processed_target\n",
    "# ]:\n",
    "#     for s_x, s_y, q_x, q_y, _ in ds:\n",
    "#         for X in (s_x, q_x):\n",
    "#             for x in X:\n",
    "#                 assert np.isclose(get_average_magnitude(x.numpy()), 1.0)\n",
    "#                 assert np.isclose(get_average_power(x.numpy()), 1.0)\n",
    "                "
   ]
  },
  {
   "cell_type": "code",
   "execution_count": 21,
   "id": "bbdacba1",
   "metadata": {
    "execution": {
     "iopub.execute_input": "2022-03-21T21:41:36.322830Z",
     "iopub.status.busy": "2022-03-21T21:41:36.322268Z",
     "iopub.status.idle": "2022-03-21T21:41:36.569668Z",
     "shell.execute_reply": "2022-03-21T21:41:36.569954Z"
    },
    "papermill": {
     "duration": 0.274524,
     "end_time": "2022-03-21T21:41:36.570068",
     "exception": false,
     "start_time": "2022-03-21T21:41:36.295544",
     "status": "completed"
    },
    "tags": []
   },
   "outputs": [
    {
     "name": "stdout",
     "output_type": "stream",
     "text": [
      "(2, 256)\n"
     ]
    }
   ],
   "source": [
    "###################################\n",
    "# Build the model\n",
    "###################################\n",
    "# easfsl only wants a tuple for the shape\n",
    "model = Steves_Prototypical_Network(x_net, device=p.device, x_shape=tuple(p.x_shape))\n",
    "optimizer = Adam(params=model.parameters(), lr=p.lr)"
   ]
  },
  {
   "cell_type": "code",
   "execution_count": 22,
   "id": "22b39ac5",
   "metadata": {
    "execution": {
     "iopub.execute_input": "2022-03-21T21:41:36.619839Z",
     "iopub.status.busy": "2022-03-21T21:41:36.619455Z",
     "iopub.status.idle": "2022-03-21T22:13:29.249550Z",
     "shell.execute_reply": "2022-03-21T22:13:29.248667Z"
    },
    "papermill": {
     "duration": 1912.657462,
     "end_time": "2022-03-21T22:13:29.249731",
     "exception": false,
     "start_time": "2022-03-21T21:41:36.592269",
     "status": "completed"
    },
    "tags": []
   },
   "outputs": [
    {
     "name": "stdout",
     "output_type": "stream",
     "text": [
      "epoch: 1, [batch: 1 / 6720], examples_per_second: 33.7530, train_label_loss: 2.6882, \n"
     ]
    },
    {
     "name": "stdout",
     "output_type": "stream",
     "text": [
      "epoch: 1, [batch: 672 / 6720], examples_per_second: 2946.5644, train_label_loss: 0.4833, \n"
     ]
    },
    {
     "name": "stdout",
     "output_type": "stream",
     "text": [
      "epoch: 1, [batch: 1344 / 6720], examples_per_second: 2897.2073, train_label_loss: 0.3435, \n"
     ]
    },
    {
     "name": "stdout",
     "output_type": "stream",
     "text": [
      "epoch: 1, [batch: 2016 / 6720], examples_per_second: 2912.0044, train_label_loss: 0.6987, \n"
     ]
    },
    {
     "name": "stdout",
     "output_type": "stream",
     "text": [
      "epoch: 1, [batch: 2688 / 6720], examples_per_second: 2889.2100, train_label_loss: 0.3339, \n"
     ]
    },
    {
     "name": "stdout",
     "output_type": "stream",
     "text": [
      "epoch: 1, [batch: 3360 / 6720], examples_per_second: 2932.8790, train_label_loss: 0.5054, \n"
     ]
    },
    {
     "name": "stdout",
     "output_type": "stream",
     "text": [
      "epoch: 1, [batch: 4032 / 6720], examples_per_second: 2920.5478, train_label_loss: 0.4392, \n"
     ]
    },
    {
     "name": "stdout",
     "output_type": "stream",
     "text": [
      "epoch: 1, [batch: 4704 / 6720], examples_per_second: 3263.1019, train_label_loss: 0.4272, \n"
     ]
    },
    {
     "name": "stdout",
     "output_type": "stream",
     "text": [
      "epoch: 1, [batch: 5376 / 6720], examples_per_second: 3456.9816, train_label_loss: 0.1325, \n"
     ]
    },
    {
     "name": "stdout",
     "output_type": "stream",
     "text": [
      "epoch: 1, [batch: 6048 / 6720], examples_per_second: 3388.6733, train_label_loss: 0.0804, \n"
     ]
    },
    {
     "name": "stdout",
     "output_type": "stream",
     "text": [
      "=============================================================\n",
      "epoch: 1, source_val_acc_label: 0.5962, target_val_acc_label: 0.5804, source_val_label_loss: 89.7343, target_val_label_loss: 87.0239, \n",
      "=============================================================\n"
     ]
    },
    {
     "name": "stdout",
     "output_type": "stream",
     "text": [
      "New best\n"
     ]
    },
    {
     "name": "stdout",
     "output_type": "stream",
     "text": [
      "epoch: 2, [batch: 1 / 6720], examples_per_second: 3.1344, train_label_loss: 37.5065, \n"
     ]
    },
    {
     "name": "stdout",
     "output_type": "stream",
     "text": [
      "epoch: 2, [batch: 672 / 6720], examples_per_second: 3479.1923, train_label_loss: 0.1064, \n"
     ]
    },
    {
     "name": "stdout",
     "output_type": "stream",
     "text": [
      "epoch: 2, [batch: 1344 / 6720], examples_per_second: 3044.1816, train_label_loss: 1.9878, \n"
     ]
    },
    {
     "name": "stdout",
     "output_type": "stream",
     "text": [
      "epoch: 2, [batch: 2016 / 6720], examples_per_second: 2982.6521, train_label_loss: 0.1801, \n"
     ]
    },
    {
     "name": "stdout",
     "output_type": "stream",
     "text": [
      "epoch: 2, [batch: 2688 / 6720], examples_per_second: 2956.4424, train_label_loss: 0.2249, \n"
     ]
    },
    {
     "name": "stdout",
     "output_type": "stream",
     "text": [
      "epoch: 2, [batch: 3360 / 6720], examples_per_second: 2938.0977, train_label_loss: 0.4339, \n"
     ]
    },
    {
     "name": "stdout",
     "output_type": "stream",
     "text": [
      "epoch: 2, [batch: 4032 / 6720], examples_per_second: 2945.9114, train_label_loss: 0.4475, \n"
     ]
    },
    {
     "name": "stdout",
     "output_type": "stream",
     "text": [
      "epoch: 2, [batch: 4704 / 6720], examples_per_second: 2961.1261, train_label_loss: 1.2558, \n"
     ]
    },
    {
     "name": "stdout",
     "output_type": "stream",
     "text": [
      "epoch: 2, [batch: 5376 / 6720], examples_per_second: 2982.5410, train_label_loss: 0.4749, \n"
     ]
    },
    {
     "name": "stdout",
     "output_type": "stream",
     "text": [
      "epoch: 2, [batch: 6048 / 6720], examples_per_second: 3055.4176, train_label_loss: 0.1929, \n"
     ]
    },
    {
     "name": "stdout",
     "output_type": "stream",
     "text": [
      "=============================================================\n",
      "epoch: 2, source_val_acc_label: 0.9197, target_val_acc_label: 0.9014, source_val_label_loss: 0.2694, target_val_label_loss: 0.3077, \n",
      "=============================================================\n"
     ]
    },
    {
     "name": "stdout",
     "output_type": "stream",
     "text": [
      "New best\n"
     ]
    },
    {
     "name": "stdout",
     "output_type": "stream",
     "text": [
      "epoch: 3, [batch: 1 / 6720], examples_per_second: 3.0244, train_label_loss: 0.4110, \n"
     ]
    },
    {
     "name": "stdout",
     "output_type": "stream",
     "text": [
      "epoch: 3, [batch: 672 / 6720], examples_per_second: 3822.1522, train_label_loss: 0.1571, \n"
     ]
    },
    {
     "name": "stdout",
     "output_type": "stream",
     "text": [
      "epoch: 3, [batch: 1344 / 6720], examples_per_second: 3804.2522, train_label_loss: 0.1377, \n"
     ]
    },
    {
     "name": "stdout",
     "output_type": "stream",
     "text": [
      "epoch: 3, [batch: 2016 / 6720], examples_per_second: 3826.8530, train_label_loss: 0.1657, \n"
     ]
    },
    {
     "name": "stdout",
     "output_type": "stream",
     "text": [
      "epoch: 3, [batch: 2688 / 6720], examples_per_second: 3781.0319, train_label_loss: 0.0624, \n"
     ]
    },
    {
     "name": "stdout",
     "output_type": "stream",
     "text": [
      "epoch: 3, [batch: 3360 / 6720], examples_per_second: 4362.5403, train_label_loss: 0.1031, \n"
     ]
    },
    {
     "name": "stdout",
     "output_type": "stream",
     "text": [
      "epoch: 3, [batch: 4032 / 6720], examples_per_second: 4002.1586, train_label_loss: 0.1582, \n"
     ]
    },
    {
     "name": "stdout",
     "output_type": "stream",
     "text": [
      "epoch: 3, [batch: 4704 / 6720], examples_per_second: 3807.1673, train_label_loss: 0.3432, \n"
     ]
    },
    {
     "name": "stdout",
     "output_type": "stream",
     "text": [
      "epoch: 3, [batch: 5376 / 6720], examples_per_second: 3042.7625, train_label_loss: 0.9419, \n"
     ]
    },
    {
     "name": "stdout",
     "output_type": "stream",
     "text": [
      "epoch: 3, [batch: 6048 / 6720], examples_per_second: 3039.6002, train_label_loss: 0.0911, \n"
     ]
    },
    {
     "name": "stdout",
     "output_type": "stream",
     "text": [
      "=============================================================\n",
      "epoch: 3, source_val_acc_label: 0.9291, target_val_acc_label: 0.9077, source_val_label_loss: 0.2506, target_val_label_loss: 0.3299, \n",
      "=============================================================\n"
     ]
    },
    {
     "name": "stdout",
     "output_type": "stream",
     "text": [
      "New best\n"
     ]
    },
    {
     "name": "stdout",
     "output_type": "stream",
     "text": [
      "epoch: 4, [batch: 1 / 6720], examples_per_second: 2.7866, train_label_loss: 0.0398, \n"
     ]
    },
    {
     "name": "stdout",
     "output_type": "stream",
     "text": [
      "epoch: 4, [batch: 672 / 6720], examples_per_second: 2943.9164, train_label_loss: 0.0383, \n"
     ]
    },
    {
     "name": "stdout",
     "output_type": "stream",
     "text": [
      "epoch: 4, [batch: 1344 / 6720], examples_per_second: 3008.7571, train_label_loss: 1.0113, \n"
     ]
    },
    {
     "name": "stdout",
     "output_type": "stream",
     "text": [
      "epoch: 4, [batch: 2016 / 6720], examples_per_second: 3144.2441, train_label_loss: 0.0486, \n"
     ]
    },
    {
     "name": "stdout",
     "output_type": "stream",
     "text": [
      "epoch: 4, [batch: 2688 / 6720], examples_per_second: 3463.3587, train_label_loss: 0.1274, \n"
     ]
    },
    {
     "name": "stdout",
     "output_type": "stream",
     "text": [
      "epoch: 4, [batch: 3360 / 6720], examples_per_second: 3445.2184, train_label_loss: 0.0596, \n"
     ]
    },
    {
     "name": "stdout",
     "output_type": "stream",
     "text": [
      "epoch: 4, [batch: 4032 / 6720], examples_per_second: 3444.9299, train_label_loss: 0.2631, \n"
     ]
    },
    {
     "name": "stdout",
     "output_type": "stream",
     "text": [
      "epoch: 4, [batch: 4704 / 6720], examples_per_second: 3341.1773, train_label_loss: 0.1428, \n"
     ]
    },
    {
     "name": "stdout",
     "output_type": "stream",
     "text": [
      "epoch: 4, [batch: 5376 / 6720], examples_per_second: 3372.2646, train_label_loss: 0.0640, \n"
     ]
    },
    {
     "name": "stdout",
     "output_type": "stream",
     "text": [
      "epoch: 4, [batch: 6048 / 6720], examples_per_second: 3399.4227, train_label_loss: 0.6074, \n"
     ]
    },
    {
     "name": "stdout",
     "output_type": "stream",
     "text": [
      "=============================================================\n",
      "epoch: 4, source_val_acc_label: 0.9417, target_val_acc_label: 0.9214, source_val_label_loss: 0.1882, target_val_label_loss: 0.2756, \n",
      "=============================================================\n"
     ]
    },
    {
     "name": "stdout",
     "output_type": "stream",
     "text": [
      "New best\n"
     ]
    },
    {
     "name": "stdout",
     "output_type": "stream",
     "text": [
      "epoch: 5, [batch: 1 / 6720], examples_per_second: 2.9368, train_label_loss: 0.3016, \n"
     ]
    },
    {
     "name": "stdout",
     "output_type": "stream",
     "text": [
      "epoch: 5, [batch: 672 / 6720], examples_per_second: 3158.8872, train_label_loss: 0.0755, \n"
     ]
    },
    {
     "name": "stdout",
     "output_type": "stream",
     "text": [
      "epoch: 5, [batch: 1344 / 6720], examples_per_second: 3025.8696, train_label_loss: 0.1688, \n"
     ]
    },
    {
     "name": "stdout",
     "output_type": "stream",
     "text": [
      "epoch: 5, [batch: 2016 / 6720], examples_per_second: 2977.6452, train_label_loss: 0.3427, \n"
     ]
    },
    {
     "name": "stdout",
     "output_type": "stream",
     "text": [
      "epoch: 5, [batch: 2688 / 6720], examples_per_second: 3006.5321, train_label_loss: 0.1811, \n"
     ]
    },
    {
     "name": "stdout",
     "output_type": "stream",
     "text": [
      "epoch: 5, [batch: 3360 / 6720], examples_per_second: 3029.7542, train_label_loss: 0.3539, \n"
     ]
    },
    {
     "name": "stdout",
     "output_type": "stream",
     "text": [
      "epoch: 5, [batch: 4032 / 6720], examples_per_second: 3061.6353, train_label_loss: 0.2137, \n"
     ]
    },
    {
     "name": "stdout",
     "output_type": "stream",
     "text": [
      "epoch: 5, [batch: 4704 / 6720], examples_per_second: 2997.5449, train_label_loss: 0.0713, \n"
     ]
    },
    {
     "name": "stdout",
     "output_type": "stream",
     "text": [
      "epoch: 5, [batch: 5376 / 6720], examples_per_second: 3221.4207, train_label_loss: 0.0229, \n"
     ]
    },
    {
     "name": "stdout",
     "output_type": "stream",
     "text": [
      "epoch: 5, [batch: 6048 / 6720], examples_per_second: 3417.5436, train_label_loss: 0.1145, \n"
     ]
    },
    {
     "name": "stdout",
     "output_type": "stream",
     "text": [
      "=============================================================\n",
      "epoch: 5, source_val_acc_label: 0.9463, target_val_acc_label: 0.9222, source_val_label_loss: 0.1657, target_val_label_loss: 0.2583, \n",
      "=============================================================\n"
     ]
    },
    {
     "name": "stdout",
     "output_type": "stream",
     "text": [
      "New best\n"
     ]
    },
    {
     "name": "stdout",
     "output_type": "stream",
     "text": [
      "epoch: 6, [batch: 1 / 6720], examples_per_second: 3.1323, train_label_loss: 0.0635, \n"
     ]
    },
    {
     "name": "stdout",
     "output_type": "stream",
     "text": [
      "epoch: 6, [batch: 672 / 6720], examples_per_second: 3382.4302, train_label_loss: 0.0227, \n"
     ]
    },
    {
     "name": "stdout",
     "output_type": "stream",
     "text": [
      "epoch: 6, [batch: 1344 / 6720], examples_per_second: 3537.8979, train_label_loss: 0.0324, \n"
     ]
    },
    {
     "name": "stdout",
     "output_type": "stream",
     "text": [
      "epoch: 6, [batch: 2016 / 6720], examples_per_second: 2965.0823, train_label_loss: 0.0983, \n"
     ]
    },
    {
     "name": "stdout",
     "output_type": "stream",
     "text": [
      "epoch: 6, [batch: 2688 / 6720], examples_per_second: 2972.8562, train_label_loss: 0.0389, \n"
     ]
    },
    {
     "name": "stdout",
     "output_type": "stream",
     "text": [
      "epoch: 6, [batch: 3360 / 6720], examples_per_second: 2976.6339, train_label_loss: 0.0064, \n"
     ]
    },
    {
     "name": "stdout",
     "output_type": "stream",
     "text": [
      "epoch: 6, [batch: 4032 / 6720], examples_per_second: 3010.2963, train_label_loss: 0.0140, \n"
     ]
    },
    {
     "name": "stdout",
     "output_type": "stream",
     "text": [
      "epoch: 6, [batch: 4704 / 6720], examples_per_second: 2988.8184, train_label_loss: 0.0843, \n"
     ]
    },
    {
     "name": "stdout",
     "output_type": "stream",
     "text": [
      "epoch: 6, [batch: 5376 / 6720], examples_per_second: 2977.3513, train_label_loss: 0.1256, \n"
     ]
    },
    {
     "name": "stdout",
     "output_type": "stream",
     "text": [
      "epoch: 6, [batch: 6048 / 6720], examples_per_second: 2979.3389, train_label_loss: 0.0832, \n"
     ]
    },
    {
     "name": "stdout",
     "output_type": "stream",
     "text": [
      "=============================================================\n",
      "epoch: 6, source_val_acc_label: 0.9511, target_val_acc_label: 0.9267, source_val_label_loss: 0.1595, target_val_label_loss: 0.2499, \n",
      "=============================================================\n"
     ]
    },
    {
     "name": "stdout",
     "output_type": "stream",
     "text": [
      "New best\n"
     ]
    },
    {
     "name": "stdout",
     "output_type": "stream",
     "text": [
      "epoch: 7, [batch: 1 / 6720], examples_per_second: 2.8370, train_label_loss: 0.0363, \n"
     ]
    },
    {
     "name": "stdout",
     "output_type": "stream",
     "text": [
      "epoch: 7, [batch: 672 / 6720], examples_per_second: 3394.4518, train_label_loss: 0.1253, \n"
     ]
    },
    {
     "name": "stdout",
     "output_type": "stream",
     "text": [
      "epoch: 7, [batch: 1344 / 6720], examples_per_second: 3403.6526, train_label_loss: 0.3944, \n"
     ]
    },
    {
     "name": "stdout",
     "output_type": "stream",
     "text": [
      "epoch: 7, [batch: 2016 / 6720], examples_per_second: 3408.6137, train_label_loss: 0.0114, \n"
     ]
    },
    {
     "name": "stdout",
     "output_type": "stream",
     "text": [
      "epoch: 7, [batch: 2688 / 6720], examples_per_second: 3406.1849, train_label_loss: 0.0549, \n"
     ]
    },
    {
     "name": "stdout",
     "output_type": "stream",
     "text": [
      "epoch: 7, [batch: 3360 / 6720], examples_per_second: 3427.5102, train_label_loss: 0.0246, \n"
     ]
    },
    {
     "name": "stdout",
     "output_type": "stream",
     "text": [
      "epoch: 7, [batch: 4032 / 6720], examples_per_second: 3758.8766, train_label_loss: 0.0597, \n"
     ]
    },
    {
     "name": "stdout",
     "output_type": "stream",
     "text": [
      "epoch: 7, [batch: 4704 / 6720], examples_per_second: 3270.9433, train_label_loss: 0.0115, \n"
     ]
    },
    {
     "name": "stdout",
     "output_type": "stream",
     "text": [
      "epoch: 7, [batch: 5376 / 6720], examples_per_second: 3459.4162, train_label_loss: 0.1704, \n"
     ]
    },
    {
     "name": "stdout",
     "output_type": "stream",
     "text": [
      "epoch: 7, [batch: 6048 / 6720], examples_per_second: 3392.4863, train_label_loss: 0.0823, \n"
     ]
    },
    {
     "name": "stdout",
     "output_type": "stream",
     "text": [
      "=============================================================\n",
      "epoch: 7, source_val_acc_label: 0.9452, target_val_acc_label: 0.9168, source_val_label_loss: 0.1618, target_val_label_loss: 0.2859, \n",
      "=============================================================\n"
     ]
    },
    {
     "name": "stdout",
     "output_type": "stream",
     "text": [
      "epoch: 8, [batch: 1 / 6720], examples_per_second: 3.2120, train_label_loss: 0.0774, \n"
     ]
    },
    {
     "name": "stdout",
     "output_type": "stream",
     "text": [
      "epoch: 8, [batch: 672 / 6720], examples_per_second: 3552.6601, train_label_loss: 0.3833, \n"
     ]
    },
    {
     "name": "stdout",
     "output_type": "stream",
     "text": [
      "epoch: 8, [batch: 1344 / 6720], examples_per_second: 3397.3129, train_label_loss: 0.0093, \n"
     ]
    },
    {
     "name": "stdout",
     "output_type": "stream",
     "text": [
      "epoch: 8, [batch: 2016 / 6720], examples_per_second: 3443.4405, train_label_loss: 0.1443, \n"
     ]
    },
    {
     "name": "stdout",
     "output_type": "stream",
     "text": [
      "epoch: 8, [batch: 2688 / 6720], examples_per_second: 3419.7511, train_label_loss: 0.0567, \n"
     ]
    },
    {
     "name": "stdout",
     "output_type": "stream",
     "text": [
      "epoch: 8, [batch: 3360 / 6720], examples_per_second: 3776.3668, train_label_loss: 0.1668, \n"
     ]
    },
    {
     "name": "stdout",
     "output_type": "stream",
     "text": [
      "epoch: 8, [batch: 4032 / 6720], examples_per_second: 3988.8555, train_label_loss: 0.0301, \n"
     ]
    },
    {
     "name": "stdout",
     "output_type": "stream",
     "text": [
      "epoch: 8, [batch: 4704 / 6720], examples_per_second: 3851.3194, train_label_loss: 0.2793, \n"
     ]
    },
    {
     "name": "stdout",
     "output_type": "stream",
     "text": [
      "epoch: 8, [batch: 5376 / 6720], examples_per_second: 3807.1232, train_label_loss: 0.0576, \n"
     ]
    },
    {
     "name": "stdout",
     "output_type": "stream",
     "text": [
      "epoch: 8, [batch: 6048 / 6720], examples_per_second: 3842.9368, train_label_loss: 0.2577, \n"
     ]
    },
    {
     "name": "stdout",
     "output_type": "stream",
     "text": [
      "=============================================================\n",
      "epoch: 8, source_val_acc_label: 0.9489, target_val_acc_label: 0.9242, source_val_label_loss: 0.1508, target_val_label_loss: 0.2574, \n",
      "=============================================================\n"
     ]
    },
    {
     "name": "stdout",
     "output_type": "stream",
     "text": [
      "epoch: 9, [batch: 1 / 6720], examples_per_second: 3.6918, train_label_loss: 0.2174, \n"
     ]
    },
    {
     "name": "stdout",
     "output_type": "stream",
     "text": [
      "epoch: 9, [batch: 672 / 6720], examples_per_second: 3783.0968, train_label_loss: 0.2372, \n"
     ]
    },
    {
     "name": "stdout",
     "output_type": "stream",
     "text": [
      "epoch: 9, [batch: 1344 / 6720], examples_per_second: 3642.5121, train_label_loss: 0.5269, \n"
     ]
    },
    {
     "name": "stdout",
     "output_type": "stream",
     "text": [
      "epoch: 9, [batch: 2016 / 6720], examples_per_second: 3623.0543, train_label_loss: 0.0876, \n"
     ]
    },
    {
     "name": "stdout",
     "output_type": "stream",
     "text": [
      "epoch: 9, [batch: 2688 / 6720], examples_per_second: 3713.0716, train_label_loss: 0.0998, \n"
     ]
    },
    {
     "name": "stdout",
     "output_type": "stream",
     "text": [
      "epoch: 9, [batch: 3360 / 6720], examples_per_second: 3685.9111, train_label_loss: 0.1808, \n"
     ]
    },
    {
     "name": "stdout",
     "output_type": "stream",
     "text": [
      "epoch: 9, [batch: 4032 / 6720], examples_per_second: 3789.2819, train_label_loss: 1.0992, \n"
     ]
    },
    {
     "name": "stdout",
     "output_type": "stream",
     "text": [
      "epoch: 9, [batch: 4704 / 6720], examples_per_second: 3742.7467, train_label_loss: 0.0439, \n"
     ]
    },
    {
     "name": "stdout",
     "output_type": "stream",
     "text": [
      "epoch: 9, [batch: 5376 / 6720], examples_per_second: 3664.4545, train_label_loss: 0.0881, \n"
     ]
    },
    {
     "name": "stdout",
     "output_type": "stream",
     "text": [
      "epoch: 9, [batch: 6048 / 6720], examples_per_second: 3721.8672, train_label_loss: 0.0237, \n"
     ]
    },
    {
     "name": "stdout",
     "output_type": "stream",
     "text": [
      "=============================================================\n",
      "epoch: 9, source_val_acc_label: 0.9542, target_val_acc_label: 0.9258, source_val_label_loss: 0.1338, target_val_label_loss: 0.2593, \n",
      "=============================================================\n"
     ]
    },
    {
     "name": "stdout",
     "output_type": "stream",
     "text": [
      "epoch: 10, [batch: 1 / 6720], examples_per_second: 3.8195, train_label_loss: 0.0663, \n"
     ]
    },
    {
     "name": "stdout",
     "output_type": "stream",
     "text": [
      "epoch: 10, [batch: 672 / 6720], examples_per_second: 4283.2479, train_label_loss: 0.0655, \n"
     ]
    },
    {
     "name": "stdout",
     "output_type": "stream",
     "text": [
      "epoch: 10, [batch: 1344 / 6720], examples_per_second: 4213.0655, train_label_loss: 0.0358, \n"
     ]
    },
    {
     "name": "stdout",
     "output_type": "stream",
     "text": [
      "epoch: 10, [batch: 2016 / 6720], examples_per_second: 4195.2643, train_label_loss: 0.0251, \n"
     ]
    },
    {
     "name": "stdout",
     "output_type": "stream",
     "text": [
      "epoch: 10, [batch: 2688 / 6720], examples_per_second: 4257.7359, train_label_loss: 0.0127, \n"
     ]
    },
    {
     "name": "stdout",
     "output_type": "stream",
     "text": [
      "epoch: 10, [batch: 3360 / 6720], examples_per_second: 4220.1640, train_label_loss: 0.0135, \n"
     ]
    },
    {
     "name": "stdout",
     "output_type": "stream",
     "text": [
      "epoch: 10, [batch: 4032 / 6720], examples_per_second: 4207.8434, train_label_loss: 0.0607, \n"
     ]
    },
    {
     "name": "stdout",
     "output_type": "stream",
     "text": [
      "epoch: 10, [batch: 4704 / 6720], examples_per_second: 4584.8650, train_label_loss: 0.0420, \n"
     ]
    },
    {
     "name": "stdout",
     "output_type": "stream",
     "text": [
      "epoch: 10, [batch: 5376 / 6720], examples_per_second: 5029.7730, train_label_loss: 0.0432, \n"
     ]
    },
    {
     "name": "stdout",
     "output_type": "stream",
     "text": [
      "epoch: 10, [batch: 6048 / 6720], examples_per_second: 5212.0133, train_label_loss: 0.0038, \n"
     ]
    },
    {
     "name": "stdout",
     "output_type": "stream",
     "text": [
      "=============================================================\n",
      "epoch: 10, source_val_acc_label: 0.9575, target_val_acc_label: 0.9264, source_val_label_loss: 0.1241, target_val_label_loss: 0.2669, \n",
      "=============================================================\n"
     ]
    },
    {
     "name": "stdout",
     "output_type": "stream",
     "text": [
      "Patience (3) exhausted\n"
     ]
    }
   ],
   "source": [
    "###################################\n",
    "# train\n",
    "###################################\n",
    "jig = PTN_Train_Eval_Test_Jig(model, p.BEST_MODEL_PATH, p.device)\n",
    "\n",
    "jig.train(\n",
    "    train_iterable=datasets.source.processed.train,\n",
    "    source_val_iterable=datasets.source.processed.val,\n",
    "    target_val_iterable=datasets.target.processed.val,\n",
    "    num_epochs=p.n_epoch,\n",
    "    num_logs_per_epoch=p.NUM_LOGS_PER_EPOCH,\n",
    "    patience=p.patience,\n",
    "    optimizer=optimizer,\n",
    "    criteria_for_best=p.criteria_for_best,\n",
    ")"
   ]
  },
  {
   "cell_type": "code",
   "execution_count": 23,
   "id": "31e8fabf",
   "metadata": {
    "execution": {
     "iopub.execute_input": "2022-03-21T22:13:29.371823Z",
     "iopub.status.busy": "2022-03-21T22:13:29.371443Z",
     "iopub.status.idle": "2022-03-21T22:13:29.404296Z",
     "shell.execute_reply": "2022-03-21T22:13:29.403522Z"
    },
    "papermill": {
     "duration": 0.094101,
     "end_time": "2022-03-21T22:13:29.404474",
     "exception": false,
     "start_time": "2022-03-21T22:13:29.310373",
     "status": "completed"
    },
    "tags": []
   },
   "outputs": [],
   "source": [
    "total_experiment_time_secs = time.time() - start_time_secs"
   ]
  },
  {
   "cell_type": "code",
   "execution_count": 24,
   "id": "87b9595b",
   "metadata": {
    "execution": {
     "iopub.execute_input": "2022-03-21T22:13:29.533302Z",
     "iopub.status.busy": "2022-03-21T22:13:29.532393Z",
     "iopub.status.idle": "2022-03-21T22:15:51.171970Z",
     "shell.execute_reply": "2022-03-21T22:15:51.172643Z"
    },
    "papermill": {
     "duration": 141.707535,
     "end_time": "2022-03-21T22:15:51.172869",
     "exception": false,
     "start_time": "2022-03-21T22:13:29.465334",
     "status": "completed"
    },
    "tags": []
   },
   "outputs": [],
   "source": [
    "###################################\n",
    "# Evaluate the model\n",
    "###################################\n",
    "source_test_label_accuracy, source_test_label_loss = jig.test(datasets.source.processed.test)\n",
    "target_test_label_accuracy, target_test_label_loss = jig.test(datasets.target.processed.test)\n",
    "\n",
    "source_val_label_accuracy, source_val_label_loss = jig.test(datasets.source.processed.val)\n",
    "target_val_label_accuracy, target_val_label_loss = jig.test(datasets.target.processed.val)\n",
    "\n",
    "history = jig.get_history()\n",
    "\n",
    "total_epochs_trained = len(history[\"epoch_indices\"])\n",
    "\n",
    "val_dl = Iterable_Aggregator((datasets.source.original.val,datasets.target.original.val))\n",
    "\n",
    "confusion = ptn_confusion_by_domain_over_dataloader(model, p.device, val_dl)\n",
    "per_domain_accuracy = per_domain_accuracy_from_confusion(confusion)\n",
    "\n",
    "# Add a key to per_domain_accuracy for if it was a source domain\n",
    "for domain, accuracy in per_domain_accuracy.items():\n",
    "    per_domain_accuracy[domain] = {\n",
    "        \"accuracy\": accuracy,\n",
    "        \"source?\": domain in p.domains_source\n",
    "    }\n",
    "\n",
    "# Do an independent accuracy assesment JUST TO BE SURE!\n",
    "# _source_test_label_accuracy = independent_accuracy_assesment(model, datasets.source.processed.test, p.device)\n",
    "# _target_test_label_accuracy = independent_accuracy_assesment(model, datasets.target.processed.test, p.device)\n",
    "# _source_val_label_accuracy = independent_accuracy_assesment(model, datasets.source.processed.val, p.device)\n",
    "# _target_val_label_accuracy = independent_accuracy_assesment(model, datasets.target.processed.val, p.device)\n",
    "\n",
    "# assert(_source_test_label_accuracy == source_test_label_accuracy)\n",
    "# assert(_target_test_label_accuracy == target_test_label_accuracy)\n",
    "# assert(_source_val_label_accuracy == source_val_label_accuracy)\n",
    "# assert(_target_val_label_accuracy == target_val_label_accuracy)\n",
    "\n",
    "experiment = {\n",
    "    \"experiment_name\": p.experiment_name,\n",
    "    \"parameters\": dict(p),\n",
    "    \"results\": {\n",
    "        \"source_test_label_accuracy\": source_test_label_accuracy,\n",
    "        \"source_test_label_loss\": source_test_label_loss,\n",
    "        \"target_test_label_accuracy\": target_test_label_accuracy,\n",
    "        \"target_test_label_loss\": target_test_label_loss,\n",
    "        \"source_val_label_accuracy\": source_val_label_accuracy,\n",
    "        \"source_val_label_loss\": source_val_label_loss,\n",
    "        \"target_val_label_accuracy\": target_val_label_accuracy,\n",
    "        \"target_val_label_loss\": target_val_label_loss,\n",
    "        \"total_epochs_trained\": total_epochs_trained,\n",
    "        \"total_experiment_time_secs\": total_experiment_time_secs,\n",
    "        \"confusion\": confusion,\n",
    "        \"per_domain_accuracy\": per_domain_accuracy,\n",
    "    },\n",
    "    \"history\": history,\n",
    "    \"dataset_metrics\": get_dataset_metrics(datasets, \"ptn\"),\n",
    "}"
   ]
  },
  {
   "cell_type": "code",
   "execution_count": 25,
   "id": "54a21829",
   "metadata": {
    "execution": {
     "iopub.execute_input": "2022-03-21T22:15:51.286588Z",
     "iopub.status.busy": "2022-03-21T22:15:51.286221Z",
     "iopub.status.idle": "2022-03-21T22:15:51.493303Z",
     "shell.execute_reply": "2022-03-21T22:15:51.492600Z"
    },
    "papermill": {
     "duration": 0.263254,
     "end_time": "2022-03-21T22:15:51.493460",
     "exception": false,
     "start_time": "2022-03-21T22:15:51.230206",
     "status": "completed"
    },
    "tags": []
   },
   "outputs": [
    {
     "data": {
      "image/png": "[encoded data removed]",
      "text/plain": [
       "<Figure size 1080x504 with 1 Axes>"
      ]
     },
     "metadata": {
      "needs_background": "light"
     },
     "output_type": "display_data"
    }
   ],
   "source": [
    "ax = get_loss_curve(experiment)\n",
    "plt.show()"
   ]
  },
  {
   "cell_type": "code",
   "execution_count": 26,
   "id": "fd8a0f60",
   "metadata": {
    "execution": {
     "iopub.execute_input": "2022-03-21T22:15:51.607167Z",
     "iopub.status.busy": "2022-03-21T22:15:51.606802Z",
     "iopub.status.idle": "2022-03-21T22:15:51.990085Z",
     "shell.execute_reply": "2022-03-21T22:15:51.989370Z"
    },
    "papermill": {
     "duration": 0.439592,
     "end_time": "2022-03-21T22:15:51.990252",
     "exception": false,
     "start_time": "2022-03-21T22:15:51.550660",
     "status": "completed"
    },
    "tags": []
   },
   "outputs": [
    {
     "data": {
      "text/plain": [
       "<AxesSubplot:title={'center':'Results'}>"
      ]
     },
     "execution_count": 26,
     "metadata": {},
     "output_type": "execute_result"
    },
    {
     "data": {
      "image/png": "[encoded data removed]",
      "text/plain": [
       "<Figure size 1080x504 with 1 Axes>"
      ]
     },
     "metadata": {
      "needs_background": "light"
     },
     "output_type": "display_data"
    }
   ],
   "source": [
    "get_results_table(experiment)"
   ]
  },
  {
   "cell_type": "code",
   "execution_count": 27,
   "id": "cf8dc689",
   "metadata": {
    "execution": {
     "iopub.execute_input": "2022-03-21T22:15:52.110218Z",
     "iopub.status.busy": "2022-03-21T22:15:52.109596Z",
     "iopub.status.idle": "2022-03-21T22:15:52.394754Z",
     "shell.execute_reply": "2022-03-21T22:15:52.395429Z"
    },
    "papermill": {
     "duration": 0.345576,
     "end_time": "2022-03-21T22:15:52.395652",
     "exception": false,
     "start_time": "2022-03-21T22:15:52.050076",
     "status": "completed"
    },
    "tags": []
   },
   "outputs": [
    {
     "data": {
      "text/plain": [
       "<AxesSubplot:title={'center':'Per Domain Validation Accuracy'}, xlabel='domain'>"
      ]
     },
     "execution_count": 27,
     "metadata": {},
     "output_type": "execute_result"
    },
    {
     "data": {
      "image/png": "[encoded data removed]",
      "text/plain": [
       "<Figure size 1080x504 with 1 Axes>"
      ]
     },
     "metadata": {
      "needs_background": "light"
     },
     "output_type": "display_data"
    }
   ],
   "source": [
    "get_domain_accuracies(experiment)"
   ]
  },
  {
   "cell_type": "code",
   "execution_count": 28,
   "id": "a74ae082",
   "metadata": {
    "execution": {
     "iopub.execute_input": "2022-03-21T22:15:52.523505Z",
     "iopub.status.busy": "2022-03-21T22:15:52.523134Z",
     "iopub.status.idle": "2022-03-21T22:15:52.549726Z",
     "shell.execute_reply": "2022-03-21T22:15:52.548916Z"
    },
    "papermill": {
     "duration": 0.089032,
     "end_time": "2022-03-21T22:15:52.549880",
     "exception": false,
     "start_time": "2022-03-21T22:15:52.460848",
     "status": "completed"
    },
    "tags": []
   },
   "outputs": [
    {
     "name": "stdout",
     "output_type": "stream",
     "text": [
      "Source Test Label Accuracy: 0.948828125 Target Test Label Accuracy: 0.9262369791666667\n",
      "Source Val Label Accuracy: 0.9511067708333333 Target Val Label Accuracy: 0.9267252604166667\n"
     ]
    }
   ],
   "source": [
    "print(\"Source Test Label Accuracy:\", experiment[\"results\"][\"source_test_label_accuracy\"], \"Target Test Label Accuracy:\", experiment[\"results\"][\"target_test_label_accuracy\"])\n",
    "print(\"Source Val Label Accuracy:\", experiment[\"results\"][\"source_val_label_accuracy\"], \"Target Val Label Accuracy:\", experiment[\"results\"][\"target_val_label_accuracy\"])"
   ]
  },
  {
   "cell_type": "code",
   "execution_count": 29,
   "id": "dacca602",
   "metadata": {
    "execution": {
     "iopub.execute_input": "2022-03-21T22:15:52.676855Z",
     "iopub.status.busy": "2022-03-21T22:15:52.675602Z",
     "iopub.status.idle": "2022-03-21T22:15:52.698330Z",
     "shell.execute_reply": "2022-03-21T22:15:52.697526Z"
    },
    "papermill": {
     "duration": 0.084411,
     "end_time": "2022-03-21T22:15:52.698486",
     "exception": false,
     "start_time": "2022-03-21T22:15:52.614075",
     "status": "completed"
    },
    "tags": [
     "experiment_json"
    ]
   },
   "outputs": [
    {
     "data": {
      "text/plain": [
       "'{\"experiment_name\": \"tl_1v2:oracle.run1.framed-oracle.run2.framed\", \"parameters\": {\"experiment_name\": \"tl_1v2:oracle.run1.framed-oracle.run2.framed\", \"device\": \"cuda\", \"lr\": 0.0001, \"n_shot\": 3, \"n_query\": 2, \"train_k_factor\": 3, \"val_k_factor\": 2, \"test_k_factor\": 2, \"torch_default_dtype\": \"torch.float32\", \"n_epoch\": 50, \"patience\": 3, \"criteria_for_best\": \"target_accuracy\", \"x_net\": [{\"class\": \"nnReshape\", \"kargs\": {\"shape\": [-1, 1, 2, 256]}}, {\"class\": \"Conv2d\", \"kargs\": {\"in_channels\": 1, \"out_channels\": 256, \"kernel_size\": [1, 7], \"bias\": false, \"padding\": [0, 3]}}, {\"class\": \"ReLU\", \"kargs\": {\"inplace\": true}}, {\"class\": \"BatchNorm2d\", \"kargs\": {\"num_features\": 256}}, {\"class\": \"Conv2d\", \"kargs\": {\"in_channels\": 256, \"out_channels\": 80, \"kernel_size\": [2, 7], \"bias\": true, \"padding\": [0, 3]}}, {\"class\": \"ReLU\", \"kargs\": {\"inplace\": true}}, {\"class\": \"BatchNorm2d\", \"kargs\": {\"num_features\": 80}}, {\"class\": \"Flatten\", \"kargs\": {}}, {\"class\": \"Linear\", \"kargs\": {\"in_features\": 20480, \"out_features\": 256}}, {\"class\": \"ReLU\", \"kargs\": {\"inplace\": true}}, {\"class\": \"BatchNorm1d\", \"kargs\": {\"num_features\": 256}}, {\"class\": \"Linear\", \"kargs\": {\"in_features\": 256, \"out_features\": 256}}], \"NUM_LOGS_PER_EPOCH\": 10, \"BEST_MODEL_PATH\": \"./best_model.pth\", \"n_way\": 16, \"datasets\": [{\"labels\": [\"3123D52\", \"3123D65\", \"3123D79\", \"3123D80\", \"3123D54\", \"3123D70\", \"3123D7B\", \"3123D89\", \"3123D58\", \"3123D76\", \"3123D7D\", \"3123EFE\", \"3123D64\", \"3123D78\", \"3123D7E\", \"3124E4A\"], \"domains\": [32, 38, 8, 44, 14, 50, 20, 26], \"num_examples_per_domain_per_label\": 2000, \"pickle_path\": \"/root/csc500-main/datasets/oracle.Run1_framed_2000Examples_stratified_ds.2022A.pkl\", \"source_or_target_dataset\": \"target\", \"x_transforms\": [], \"episode_transforms\": [], \"domain_prefix\": \"ORACLE.run1_\"}, {\"labels\": [\"3123D52\", \"3123D65\", \"3123D79\", \"3123D80\", \"3123D54\", \"3123D70\", \"3123D7B\", \"3123D89\", \"3123D58\", \"3123D76\", \"3123D7D\", \"3123EFE\", \"3123D64\", \"3123D78\", \"3123D7E\", \"3124E4A\"], \"domains\": [32, 38, 8, 44, 14, 50, 20, 26], \"num_examples_per_domain_per_label\": 2000, \"pickle_path\": \"/root/csc500-main/datasets/oracle.Run2_framed_2000Examples_stratified_ds.2022A.pkl\", \"source_or_target_dataset\": \"source\", \"x_transforms\": [], \"episode_transforms\": [], \"domain_prefix\": \"ORACLE.run2_\"}], \"dataset_seed\": 154325, \"seed\": 154325, \"x_shape\": [2, 256], \"domains_source\": [\"ORACLE.run2_32\", \"ORACLE.run2_38\", \"ORACLE.run2_8\", \"ORACLE.run2_44\", \"ORACLE.run2_14\", \"ORACLE.run2_50\", \"ORACLE.run2_20\", \"ORACLE.run2_26\"], \"domains_target\": [\"ORACLE.run1_32\", \"ORACLE.run1_38\", \"ORACLE.run1_8\", \"ORACLE.run1_44\", \"ORACLE.run1_14\", \"ORACLE.run1_50\", \"ORACLE.run1_20\", \"ORACLE.run1_26\"]}, \"results\": {\"source_test_label_accuracy\": 0.948828125, \"source_test_label_loss\": 0.16896873712539673, \"target_test_label_accuracy\": 0.9262369791666667, \"target_test_label_loss\": 0.25857171416282654, \"source_val_label_accuracy\": 0.9511067708333333, \"source_val_label_loss\": 0.1595388948917389, \"target_val_label_accuracy\": 0.9267252604166667, \"target_val_label_loss\": 0.24991130828857422, \"total_epochs_trained\": 10, \"total_experiment_time_secs\": 1932.589947462082, \"confusion\": {\"ORACLE.run2_8\": {\"13\": {\"13\": 238, \"10\": 2}, \"9\": {\"9\": 240}, \"15\": {\"15\": 237, \"12\": 3}, \"2\": {\"2\": 240}, \"3\": {\"3\": 240}, \"8\": {\"8\": 239, \"11\": 1}, \"5\": {\"5\": 233, \"10\": 7}, \"14\": {\"14\": 237, \"6\": 3}, \"1\": {\"1\": 235, \"5\": 4, \"13\": 1}, \"0\": {\"0\": 240}, \"10\": {\"10\": 236, \"13\": 2, \"5\": 2}, \"6\": {\"6\": 240}, \"11\": {\"11\": 184, \"8\": 54, \"12\": 2}, \"7\": {\"7\": 220, \"4\": 20}, \"4\": {\"7\": 33, \"4\": 203, \"6\": 4}, \"12\": {\"12\": 240}}, \"ORACLE.run2_38\": {\"13\": {\"3\": 35, \"13\": 204, \"10\": 1}, \"12\": {\"12\": 240}, \"2\": {\"2\": 231, \"14\": 9}, \"9\": {\"9\": 240}, \"15\": {\"15\": 224, \"1\": 16}, \"5\": {\"5\": 188, \"8\": 52}, \"14\": {\"2\": 43, \"14\": 193, \"12\": 3, \"7\": 1}, \"0\": {\"0\": 240}, \"3\": {\"13\": 56, \"3\": 174, \"10\": 10}, \"1\": {\"1\": 236, \"15\": 4}, \"11\": {\"11\": 216, \"13\": 5, \"10\": 11, \"9\": 4, \"0\": 4}, \"7\": {\"7\": 240}, \"8\": {\"8\": 219, \"5\": 21}, \"4\": {\"4\": 239, \"10\": 1}, \"10\": {\"10\": 238, \"13\": 2}, \"6\": {\"6\": 240}}, \"ORACLE.run2_26\": {\"10\": {\"15\": 1, \"14\": 47, \"10\": 110, \"0\": 63, \"8\": 15, \"6\": 3, \"1\": 1}, \"12\": {\"12\": 240}, \"1\": {\"1\": 240}, \"0\": {\"0\": 171, \"10\": 50, \"15\": 7, \"14\": 10, \"8\": 2}, \"15\": {\"15\": 235, \"0\": 3, \"8\": 1, \"2\": 1}, \"13\": {\"13\": 236, \"9\": 1, \"7\": 3}, \"8\": {\"2\": 15, \"8\": 223, \"9\": 2}, \"3\": {\"3\": 231, \"7\": 9}, \"11\": {\"11\": 240}, \"4\": {\"4\": 240}, \"6\": {\"6\": 238, \"5\": 1, \"10\": 1}, \"7\": {\"7\": 205, \"2\": 19, \"3\": 13, \"13\": 2, \"9\": 1}, \"14\": {\"14\": 194, \"0\": 26, \"1\": 7, \"10\": 12, \"6\": 1}, \"2\": {\"2\": 228, \"8\": 5, \"7\": 7}, \"5\": {\"5\": 230, \"15\": 4, \"6\": 6}, \"9\": {\"9\": 233, \"8\": 3, \"13\": 4}}, \"ORACLE.run2_20\": {\"5\": {\"5\": 203, \"1\": 8, \"2\": 16, \"15\": 6, \"0\": 1, \"9\": 2, \"3\": 3, \"4\": 1}, \"15\": {\"15\": 224, \"9\": 3, \"12\": 2, \"3\": 1, \"5\": 5, \"13\": 3, \"2\": 1, \"7\": 1}, \"9\": {\"9\": 187, \"2\": 41, \"3\": 11, \"15\": 1}, \"7\": {\"7\": 233, \"3\": 7}, \"3\": {\"3\": 203, \"2\": 17, \"7\": 6, \"9\": 14}, \"8\": {\"8\": 237, \"14\": 3}, \"4\": {\"4\": 240}, \"6\": {\"6\": 240}, \"2\": {\"2\": 183, \"3\": 14, \"5\": 6, \"9\": 35, \"15\": 2}, \"12\": {\"12\": 238, \"13\": 2}, \"0\": {\"0\": 240}, \"13\": {\"13\": 234, \"15\": 1, \"12\": 5}, \"10\": {\"10\": 240}, \"11\": {\"11\": 240}, \"14\": {\"14\": 233, \"8\": 7}, \"1\": {\"1\": 238, \"2\": 2}}, \"ORACLE.run2_50\": {\"1\": {\"1\": 240}, \"2\": {\"2\": 240}, \"8\": {\"8\": 240}, \"7\": {\"7\": 240}, \"14\": {\"14\": 240}, \"6\": {\"6\": 239, \"5\": 1}, \"3\": {\"3\": 239, \"7\": 1}, \"4\": {\"4\": 216, \"5\": 23, \"7\": 1}, \"12\": {\"12\": 239, \"9\": 1}, \"15\": {\"15\": 239, \"6\": 1}, \"11\": {\"11\": 239, \"1\": 1}, \"0\": {\"0\": 238, \"2\": 2}, \"9\": {\"9\": 240}, \"10\": {\"10\": 239, \"13\": 1}, \"5\": {\"4\": 20, \"5\": 211, \"6\": 5, \"7\": 4}, \"13\": {\"13\": 240}}, \"ORACLE.run2_32\": {\"2\": {\"2\": 239, \"14\": 1}, \"6\": {\"6\": 240}, \"5\": {\"5\": 234, \"14\": 2, \"2\": 4}, \"12\": {\"12\": 240}, \"13\": {\"13\": 235, \"4\": 4, \"11\": 1}, \"9\": {\"9\": 240}, \"11\": {\"11\": 228, \"4\": 7, \"13\": 4, \"0\": 1}, \"1\": {\"1\": 240}, \"3\": {\"3\": 239, \"13\": 1}, \"7\": {\"7\": 238, \"2\": 2}, \"14\": {\"14\": 238, \"2\": 2}, \"8\": {\"8\": 234, \"0\": 6}, \"4\": {\"4\": 235, \"11\": 3, \"13\": 2}, \"0\": {\"7\": 5, \"0\": 224, \"8\": 11}, \"10\": {\"10\": 240}, \"15\": {\"15\": 240}}, \"ORACLE.run2_44\": {\"13\": {\"13\": 235, \"9\": 1, \"6\": 1, \"4\": 3}, \"4\": {\"4\": 226, \"14\": 14}, \"6\": {\"6\": 238, \"7\": 1, \"13\": 1}, \"0\": {\"0\": 207, \"8\": 33}, \"10\": {\"10\": 237, \"7\": 3}, \"7\": {\"7\": 207, \"9\": 33}, \"14\": {\"14\": 232, \"4\": 6, \"5\": 2}, \"15\": {\"15\": 234, \"8\": 3, \"0\": 2, \"5\": 1}, \"5\": {\"8\": 2, \"5\": 234, \"15\": 3, \"14\": 1}, \"2\": {\"2\": 240}, \"9\": {\"9\": 196, \"7\": 42, \"6\": 2}, \"12\": {\"12\": 229, \"3\": 11}, \"8\": {\"8\": 221, \"0\": 17, \"5\": 2}, \"3\": {\"3\": 237, \"12\": 3}, \"1\": {\"1\": 240}, \"11\": {\"11\": 240}}, \"ORACLE.run2_14\": {\"1\": {\"1\": 240}, \"15\": {\"15\": 240}, \"10\": {\"10\": 240}, \"2\": {\"2\": 159, \"5\": 42, \"14\": 31, \"3\": 8}, \"9\": {\"9\": 240}, \"5\": {\"5\": 231, \"2\": 9}, \"7\": {\"7\": 240}, \"13\": {\"13\": 209, \"6\": 31}, \"8\": {\"8\": 240}, \"6\": {\"6\": 230, \"13\": 10}, \"3\": {\"3\": 239, \"2\": 1}, \"12\": {\"12\": 195, \"0\": 9, \"9\": 29, \"14\": 3, \"11\": 4}, \"0\": {\"0\": 240}, \"4\": {\"4\": 240}, \"14\": {\"2\": 32, \"14\": 208}, \"11\": {\"11\": 240}}, \"ORACLE.run1_8\": {\"13\": {\"10\": 30, \"13\": 208, \"6\": 1, \"7\": 1}, \"9\": {\"9\": 240}, \"15\": {\"15\": 229, \"12\": 11}, \"2\": {\"2\": 217, \"3\": 20, \"12\": 3}, \"3\": {\"3\": 240}, \"8\": {\"8\": 240}, \"5\": {\"1\": 13, \"5\": 222, \"10\": 5}, \"14\": {\"14\": 231, \"4\": 9}, \"1\": {\"1\": 237, \"5\": 1, \"11\": 2}, \"0\": {\"0\": 240}, \"10\": {\"10\": 228, \"13\": 11, \"5\": 1}, \"6\": {\"6\": 222, \"7\": 18}, \"11\": {\"11\": 229, \"1\": 11}, \"7\": {\"6\": 19, \"7\": 221}, \"4\": {\"4\": 238, \"14\": 2}, \"12\": {\"12\": 180, \"15\": 60}}, \"ORACLE.run1_38\": {\"13\": {\"13\": 231, \"2\": 3, \"10\": 6}, \"12\": {\"12\": 240}, \"2\": {\"2\": 237, \"14\": 3}, \"9\": {\"9\": 238, \"5\": 2}, \"15\": {\"15\": 231, \"1\": 2, \"8\": 3, \"5\": 4}, \"5\": {\"5\": 139, \"8\": 68, \"7\": 16, \"9\": 13, \"15\": 3, \"0\": 1}, \"14\": {\"14\": 235, \"2\": 5}, \"0\": {\"7\": 11, \"0\": 189, \"3\": 25, \"10\": 13, \"13\": 2}, \"3\": {\"3\": 240}, \"1\": {\"1\": 240}, \"11\": {\"11\": 240}, \"7\": {\"7\": 236, \"5\": 1, \"8\": 3}, \"8\": {\"8\": 138, \"5\": 73, \"7\": 15, \"15\": 1, \"0\": 13}, \"4\": {\"4\": 240}, \"10\": {\"10\": 235, \"13\": 3, \"0\": 2}, \"6\": {\"6\": 240}}, \"ORACLE.run1_26\": {\"10\": {\"10\": 192, \"14\": 22, \"15\": 2, \"6\": 5, \"0\": 19}, \"12\": {\"12\": 240}, \"1\": {\"1\": 224, \"14\": 16}, \"0\": {\"0\": 188, \"10\": 36, \"14\": 16}, \"15\": {\"6\": 18, \"15\": 215, \"5\": 2, \"10\": 5}, \"13\": {\"13\": 217, \"9\": 6, \"3\": 6, \"2\": 10, \"7\": 1}, \"8\": {\"8\": 221, \"7\": 18, \"9\": 1}, \"3\": {\"3\": 238, \"2\": 1, \"7\": 1}, \"11\": {\"11\": 240}, \"4\": {\"4\": 240}, \"6\": {\"6\": 225, \"15\": 12, \"10\": 3}, \"7\": {\"7\": 227, \"2\": 8, \"8\": 3, \"9\": 2}, \"14\": {\"14\": 204, \"10\": 26, \"1\": 5, \"0\": 5}, \"2\": {\"2\": 160, \"0\": 4, \"9\": 8, \"8\": 14, \"7\": 35, \"3\": 15, \"13\": 3, \"14\": 1}, \"5\": {\"5\": 237, \"15\": 3}, \"9\": {\"9\": 216, \"13\": 9, \"8\": 11, \"2\": 4}}, \"ORACLE.run1_20\": {\"5\": {\"5\": 236, \"1\": 4}, \"15\": {\"15\": 234, \"5\": 1, \"1\": 5}, \"9\": {\"9\": 218, \"3\": 12, \"2\": 9, \"12\": 1}, \"7\": {\"4\": 2, \"7\": 224, \"2\": 14}, \"3\": {\"3\": 214, \"9\": 19, \"7\": 1, \"5\": 1, \"1\": 5}, \"8\": {\"8\": 237, \"14\": 3}, \"4\": {\"4\": 240}, \"6\": {\"6\": 240}, \"2\": {\"2\": 201, \"12\": 15, \"9\": 6, \"7\": 14, \"13\": 4}, \"12\": {\"12\": 221, \"9\": 1, \"2\": 12, \"1\": 3, \"13\": 1, \"4\": 1, \"15\": 1}, \"0\": {\"0\": 239, \"5\": 1}, \"13\": {\"13\": 238, \"2\": 2}, \"10\": {\"10\": 240}, \"11\": {\"11\": 240}, \"14\": {\"14\": 240}, \"1\": {\"9\": 1, \"1\": 229, \"3\": 4, \"5\": 6}}, \"ORACLE.run1_50\": {\"1\": {\"1\": 238, \"13\": 2}, \"2\": {\"2\": 238, \"0\": 2}, \"8\": {\"8\": 240}, \"7\": {\"7\": 238, \"5\": 2}, \"14\": {\"14\": 240}, \"6\": {\"6\": 236, \"15\": 3, \"5\": 1}, \"3\": {\"3\": 240}, \"4\": {\"4\": 208, \"7\": 21, \"15\": 2, \"5\": 9}, \"12\": {\"12\": 236, \"9\": 4}, \"15\": {\"15\": 234, \"6\": 5, \"11\": 1}, \"11\": {\"11\": 236, \"15\": 2, \"12\": 2}, \"0\": {\"0\": 232, \"2\": 8}, \"9\": {\"11\": 6, \"9\": 231, \"12\": 3}, \"10\": {\"10\": 240}, \"5\": {\"6\": 19, \"1\": 2, \"4\": 12, \"5\": 146, \"7\": 44, \"13\": 11, \"15\": 6}, \"13\": {\"13\": 240}}, \"ORACLE.run1_32\": {\"2\": {\"2\": 226, \"4\": 14}, \"6\": {\"6\": 240}, \"5\": {\"5\": 175, \"8\": 9, \"7\": 52, \"0\": 3, \"14\": 1}, \"12\": {\"12\": 240}, \"13\": {\"13\": 222, \"3\": 8, \"4\": 10}, \"9\": {\"9\": 240}, \"11\": {\"11\": 240}, \"1\": {\"1\": 240}, \"3\": {\"3\": 239, \"13\": 1}, \"7\": {\"7\": 201, \"5\": 35, \"0\": 1, \"14\": 3}, \"14\": {\"14\": 199, \"0\": 24, \"8\": 7, \"7\": 10}, \"8\": {\"8\": 223, \"0\": 12, \"5\": 2, \"13\": 2, \"14\": 1}, \"4\": {\"4\": 230, \"2\": 9, \"13\": 1}, \"0\": {\"0\": 226, \"8\": 7, \"14\": 3, \"7\": 3, \"5\": 1}, \"10\": {\"10\": 240}, \"15\": {\"15\": 240}}, \"ORACLE.run1_44\": {\"13\": {\"13\": 210, \"6\": 21, \"11\": 6, \"9\": 3}, \"4\": {\"4\": 145, \"14\": 81, \"9\": 3, \"15\": 6, \"13\": 4, \"5\": 1}, \"6\": {\"6\": 215, \"13\": 17, \"9\": 7, \"7\": 1}, \"0\": {\"0\": 234, \"8\": 6}, \"10\": {\"10\": 222, \"2\": 5, \"1\": 8, \"7\": 5}, \"7\": {\"7\": 232, \"9\": 8}, \"14\": {\"14\": 212, \"5\": 2, \"4\": 20, \"15\": 6}, \"15\": {\"14\": 9, \"15\": 225, \"8\": 3, \"0\": 1, \"5\": 2}, \"5\": {\"5\": 213, \"15\": 21, \"14\": 5, \"8\": 1}, \"2\": {\"2\": 238, \"1\": 2}, \"9\": {\"7\": 61, \"9\": 130, \"6\": 30, \"13\": 13, \"2\": 4, \"4\": 2}, \"12\": {\"12\": 239, \"3\": 1}, \"8\": {\"8\": 172, \"0\": 58, \"5\": 5, \"15\": 5}, \"3\": {\"3\": 240}, \"1\": {\"1\": 236, \"2\": 4}, \"11\": {\"11\": 240}}, \"ORACLE.run1_14\": {\"1\": {\"1\": 240}, \"15\": {\"15\": 240}, \"10\": {\"10\": 240}, \"2\": {\"14\": 63, \"6\": 9, \"4\": 10, \"2\": 115, \"5\": 19, \"13\": 10, \"3\": 14}, \"9\": {\"9\": 240}, \"5\": {\"5\": 234, \"2\": 4, \"4\": 1, \"3\": 1}, \"7\": {\"7\": 240}, \"13\": {\"6\": 91, \"13\": 69, \"15\": 14, \"14\": 53, \"2\": 7, \"4\": 3, \"10\": 2, \"3\": 1}, \"8\": {\"8\": 240}, \"6\": {\"13\": 72, \"6\": 156, \"2\": 5, \"14\": 6, \"3\": 1}, \"3\": {\"3\": 240}, \"12\": {\"12\": 240}, \"0\": {\"0\": 229, \"3\": 11}, \"4\": {\"4\": 238, \"2\": 1, \"5\": 1}, \"14\": {\"14\": 225, \"2\": 10, \"6\": 1, \"13\": 4}, \"11\": {\"11\": 240}}}, \"per_domain_accuracy\": {\"ORACLE.run2_8\": {\"accuracy\": 0.9640625, \"source?\": true}, \"ORACLE.run2_38\": {\"accuracy\": 0.9276041666666667, \"source?\": true}, \"ORACLE.run2_26\": {\"accuracy\": 0.9098958333333333, \"source?\": true}, \"ORACLE.run2_20\": {\"accuracy\": 0.9408854166666667, \"source?\": true}, \"ORACLE.run2_50\": {\"accuracy\": 0.9841145833333333, \"source?\": true}, \"ORACLE.run2_32\": {\"accuracy\": 0.9854166666666667, \"source?\": true}, \"ORACLE.run2_44\": {\"accuracy\": 0.9513020833333333, \"source?\": true}, \"ORACLE.run2_14\": {\"accuracy\": 0.9455729166666667, \"source?\": true}, \"ORACLE.run1_8\": {\"accuracy\": 0.9432291666666667, \"source?\": false}, \"ORACLE.run1_38\": {\"accuracy\": 0.92421875, \"source?\": false}, \"ORACLE.run1_26\": {\"accuracy\": 0.9072916666666667, \"source?\": false}, \"ORACLE.run1_20\": {\"accuracy\": 0.9611979166666667, \"source?\": false}, \"ORACLE.run1_50\": {\"accuracy\": 0.9565104166666667, \"source?\": false}, \"ORACLE.run1_32\": {\"accuracy\": 0.94296875, \"source?\": false}, \"ORACLE.run1_44\": {\"accuracy\": 0.8861979166666667, \"source?\": false}, \"ORACLE.run1_14\": {\"accuracy\": 0.8921875, \"source?\": false}}}, \"history\": {\"epoch_indices\": [1, 2, 3, 4, 5, 6, 7, 8, 9, 10], \"train_label_loss\": [0.44427374971453987, 1.8069455604213767, 0.23155131224817263, 0.20168867378171335, 0.1722164323035291, 0.15643692445216098, 0.14481545858965372, 0.13146655234644034, 0.12149392246579477, 0.11107231958131229], \"source_val_label_loss\": [89.73430633544922, 0.26937469840049744, 0.2506283223628998, 0.18815059959888458, 0.16574889421463013, 0.1595388948917389, 0.16178376972675323, 0.15081816911697388, 0.13378942012786865, 0.12414273619651794], \"target_val_label_loss\": [87.0239486694336, 0.30767932534217834, 0.32991769909858704, 0.2755832374095917, 0.25826042890548706, 0.24991130828857422, 0.2859422266483307, 0.25744083523750305, 0.2592822313308716, 0.2668900489807129], \"source_val_acc_label\": [0.5961588541666667, 0.9196614583333333, 0.9291341145833333, 0.94169921875, 0.9462890625, 0.9511067708333333, 0.9452473958333333, 0.9488606770833333, 0.9542317708333333, 0.9574544270833333], \"target_val_acc_label\": [0.5804036458333334, 0.9013997395833333, 0.9076822916666667, 0.92138671875, 0.92216796875, 0.9267252604166667, 0.916796875, 0.9241536458333334, 0.92578125, 0.9263997395833333]}, \"dataset_metrics\": {\"source\": {\"train\": {\"n_unique_x\": 179200, \"n_unique_y\": 16, \"n_batch/episode\": 6720}, \"val\": {\"n_unique_x\": 38400, \"n_unique_y\": 16, \"n_batch/episode\": 960}, \"test\": {\"n_unique_x\": 38400, \"n_unique_y\": 16, \"n_batch/episode\": 960}}, \"target\": {\"train\": {\"n_unique_x\": 179200, \"n_unique_y\": 16, \"n_batch/episode\": 6720}, \"val\": {\"n_unique_x\": 38400, \"n_unique_y\": 16, \"n_batch/episode\": 960}, \"test\": {\"n_unique_x\": 38400, \"n_unique_y\": 16, \"n_batch/episode\": 960}}}}'"
      ]
     },
     "execution_count": 29,
     "metadata": {},
     "output_type": "execute_result"
    }
   ],
   "source": [
    "json.dumps(experiment)"
   ]
  }
 ],
 "metadata": {
  "celltoolbar": "Tags",
  "kernelspec": {
   "display_name": "Python 3 (ipykernel)",
   "language": "python",
   "name": "python3"
  },
  "language_info": {
   "codemirror_mode": {
    "name": "ipython",
    "version": 3
   },
   "file_extension": ".py",
   "mimetype": "text/x-python",
   "name": "python",
   "nbconvert_exporter": "python",
   "pygments_lexer": "ipython3",
   "version": "3.8.12"
  },
  "papermill": {
   "default_parameters": {},
   "duration": 2081.982016,
   "end_time": "2022-03-21T22:15:55.334833",
   "environment_variables": {},
   "exception": null,
   "input_path": "/root/csc500-main/csc500-notebooks/templates/tl_ptn_template.ipynb",
   "output_path": "trial.ipynb",
   "parameters": {
    "parameters": {
     "BEST_MODEL_PATH": "./best_model.pth",
     "NUM_LOGS_PER_EPOCH": 10,
     "criteria_for_best": "target_accuracy",
     "dataset_seed": 154325,
     "datasets": [
      {
       "domain_prefix": "ORACLE.run1_",
       "domains": [
        32,
        38,
        8,
        44,
        14,
        50,
        20,
        26
       ],
       "episode_transforms": [],
       "labels": [
        "3123D52",
        "3123D65",
        "3123D79",
        "3123D80",
        "3123D54",
        "3123D70",
        "3123D7B",
        "3123D89",
        "3123D58",
        "3123D76",
        "3123D7D",
        "3123EFE",
        "3123D64",
        "3123D78",
        "3123D7E",
        "3124E4A"
       ],
       "num_examples_per_domain_per_label": 2000,
       "pickle_path": "/root/csc500-main/datasets/oracle.Run1_framed_2000Examples_stratified_ds.2022A.pkl",
       "source_or_target_dataset": "target",
       "x_transforms": []
      },
      {
       "domain_prefix": "ORACLE.run2_",
       "domains": [
        32,
        38,
        8,
        44,
        14,
        50,
        20,
        26
       ],
       "episode_transforms": [],
       "labels": [
        "3123D52",
        "3123D65",
        "3123D79",
        "3123D80",
        "3123D54",
        "3123D70",
        "3123D7B",
        "3123D89",
        "3123D58",
        "3123D76",
        "3123D7D",
        "3123EFE",
        "3123D64",
        "3123D78",
        "3123D7E",
        "3124E4A"
       ],
       "num_examples_per_domain_per_label": 2000,
       "pickle_path": "/root/csc500-main/datasets/oracle.Run2_framed_2000Examples_stratified_ds.2022A.pkl",
       "source_or_target_dataset": "source",
       "x_transforms": []
      }
     ],
     "device": "cuda",
     "experiment_name": "tl_1v2:oracle.run1.framed-oracle.run2.framed",
     "lr": 0.0001,
     "n_epoch": 50,
     "n_query": 2,
     "n_shot": 3,
     "n_way": 16,
     "patience": 3,
     "seed": 154325,
     "test_k_factor": 2,
     "torch_default_dtype": "torch.float32",
     "train_k_factor": 3,
     "val_k_factor": 2,
     "x_net": [
      {
       "class": "nnReshape",
       "kargs": {
        "shape": [
         -1,
         1,
         2,
         256
        ]
       }
      },
      {
       "class": "Conv2d",
       "kargs": {
        "bias": false,
        "in_channels": 1,
        "kernel_size": [
         1,
         7
        ],
        "out_channels": 256,
        "padding": [
         0,
         3
        ]
       }
      },
      {
       "class": "ReLU",
       "kargs": {
        "inplace": true
       }
      },
      {
       "class": "BatchNorm2d",
       "kargs": {
        "num_features": 256
       }
      },
      {
       "class": "Conv2d",
       "kargs": {
        "bias": true,
        "in_channels": 256,
        "kernel_size": [
         2,
         7
        ],
        "out_channels": 80,
        "padding": [
         0,
         3
        ]
       }
      },
      {
       "class": "ReLU",
       "kargs": {
        "inplace": true
       }
      },
      {
       "class": "BatchNorm2d",
       "kargs": {
        "num_features": 80
       }
      },
      {
       "class": "Flatten",
       "kargs": {}
      },
      {
       "class": "Linear",
       "kargs": {
        "in_features": 20480,
        "out_features": 256
       }
      },
      {
       "class": "ReLU",
       "kargs": {
        "inplace": true
       }
      },
      {
       "class": "BatchNorm1d",
       "kargs": {
        "num_features": 256
       }
      },
      {
       "class": "Linear",
       "kargs": {
        "in_features": 256,
        "out_features": 256
       }
      }
     ]
    }
   },
   "start_time": "2022-03-21T21:41:13.352817",
   "version": "2.3.4"
  }
 },
 "nbformat": 4,
 "nbformat_minor": 5
}