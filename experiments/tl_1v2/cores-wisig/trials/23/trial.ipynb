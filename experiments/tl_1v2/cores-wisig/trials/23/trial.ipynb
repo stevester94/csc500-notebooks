{
 "cells": [
  {
   "cell_type": "markdown",
   "id": "9fea5f46",
   "metadata": {
    "papermill": {
     "duration": 0.030291,
     "end_time": "2022-03-21T03:53:17.899604",
     "exception": false,
     "start_time": "2022-03-21T03:53:17.869313",
     "status": "completed"
    },
    "tags": []
   },
   "source": [
    "# Transfer Learning Template"
   ]
  },
  {
   "cell_type": "code",
   "execution_count": 1,
   "id": "0902182a",
   "metadata": {
    "execution": {
     "iopub.execute_input": "2022-03-21T03:53:17.964890Z",
     "iopub.status.busy": "2022-03-21T03:53:17.964042Z",
     "iopub.status.idle": "2022-03-21T03:53:19.860855Z",
     "shell.execute_reply": "2022-03-21T03:53:19.859960Z"
    },
    "papermill": {
     "duration": 1.937441,
     "end_time": "2022-03-21T03:53:19.861049",
     "exception": false,
     "start_time": "2022-03-21T03:53:17.923608",
     "status": "completed"
    },
    "tags": []
   },
   "outputs": [],
   "source": [
    "%load_ext autoreload\n",
    "%autoreload 2\n",
    "%matplotlib inline\n",
    "\n",
    "    \n",
    "import os, json, sys, time, random\n",
    "import numpy as np\n",
    "import torch\n",
    "from torch.optim import Adam\n",
    "from  easydict import EasyDict\n",
    "import matplotlib.pyplot as plt\n",
    "\n",
    "from steves_models.steves_ptn import Steves_Prototypical_Network\n",
    "\n",
    "from steves_utils.lazy_iterable_wrapper import Lazy_Iterable_Wrapper\n",
    "from steves_utils.iterable_aggregator import Iterable_Aggregator\n",
    "from steves_utils.ptn_train_eval_test_jig import  PTN_Train_Eval_Test_Jig\n",
    "from steves_utils.torch_sequential_builder import build_sequential\n",
    "from steves_utils.torch_utils import get_dataset_metrics, ptn_confusion_by_domain_over_dataloader\n",
    "from steves_utils.utils_v2 import (per_domain_accuracy_from_confusion, get_datasets_base_path)\n",
    "from steves_utils.PTN.utils import independent_accuracy_assesment\n",
    "\n",
    "from torch.utils.data import DataLoader\n",
    "\n",
    "from steves_utils.stratified_dataset.episodic_accessor import Episodic_Accessor_Factory\n",
    "\n",
    "from steves_utils.ptn_do_report import (\n",
    "    get_loss_curve,\n",
    "    get_results_table,\n",
    "    get_parameters_table,\n",
    "    get_domain_accuracies,\n",
    ")\n",
    "\n",
    "from steves_utils.transforms import get_chained_transform"
   ]
  },
  {
   "cell_type": "markdown",
   "id": "41c840b4",
   "metadata": {
    "papermill": {
     "duration": 0.01964,
     "end_time": "2022-03-21T03:53:19.905107",
     "exception": false,
     "start_time": "2022-03-21T03:53:19.885467",
     "status": "completed"
    },
    "tags": []
   },
   "source": [
    "# Allowed Parameters\n",
    "These are allowed parameters, not defaults\n",
    "Each of these values need to be present in the injected parameters (the notebook will raise an exception if they are not present)\n",
    "\n",
    "Papermill uses the cell tag \"parameters\" to inject the real parameters below this cell.\n",
    "Enable tags to see what I mean"
   ]
  },
  {
   "cell_type": "code",
   "execution_count": 2,
   "id": "fd44eb83",
   "metadata": {
    "execution": {
     "iopub.execute_input": "2022-03-21T03:53:19.950526Z",
     "iopub.status.busy": "2022-03-21T03:53:19.950145Z",
     "iopub.status.idle": "2022-03-21T03:53:19.977523Z",
     "shell.execute_reply": "2022-03-21T03:53:19.976703Z"
    },
    "papermill": {
     "duration": 0.052736,
     "end_time": "2022-03-21T03:53:19.977683",
     "exception": false,
     "start_time": "2022-03-21T03:53:19.924947",
     "status": "completed"
    },
    "tags": []
   },
   "outputs": [],
   "source": [
    "required_parameters = {\n",
    "    \"experiment_name\",\n",
    "    \"lr\",\n",
    "    \"device\",\n",
    "    \"seed\",\n",
    "    \"dataset_seed\",\n",
    "    \"n_shot\",\n",
    "    \"n_query\",\n",
    "    \"n_way\",\n",
    "    \"train_k_factor\",\n",
    "    \"val_k_factor\",\n",
    "    \"test_k_factor\",\n",
    "    \"n_epoch\",\n",
    "    \"patience\",\n",
    "    \"criteria_for_best\",\n",
    "    \"x_net\",\n",
    "    \"datasets\",\n",
    "    \"torch_default_dtype\",\n",
    "    \"NUM_LOGS_PER_EPOCH\",\n",
    "    \"BEST_MODEL_PATH\",\n",
    "    \"x_shape\",\n",
    "}"
   ]
  },
  {
   "cell_type": "code",
   "execution_count": 3,
   "id": "fa3f0049",
   "metadata": {
    "execution": {
     "iopub.execute_input": "2022-03-21T03:53:20.038419Z",
     "iopub.status.busy": "2022-03-21T03:53:20.031002Z",
     "iopub.status.idle": "2022-03-21T03:53:20.063433Z",
     "shell.execute_reply": "2022-03-21T03:53:20.062591Z"
    },
    "papermill": {
     "duration": 0.060397,
     "end_time": "2022-03-21T03:53:20.063632",
     "exception": false,
     "start_time": "2022-03-21T03:53:20.003235",
     "status": "completed"
    },
    "tags": [
     "parameters"
    ]
   },
   "outputs": [],
   "source": [
    "from steves_utils.CORES.utils import (\n",
    "    ALL_NODES,\n",
    "    ALL_NODES_MINIMUM_1000_EXAMPLES,\n",
    "    ALL_DAYS\n",
    ")\n",
    "\n",
    "from steves_utils.ORACLE.utils_v2 import (\n",
    "    ALL_DISTANCES_FEET_NARROWED,\n",
    "    ALL_RUNS,\n",
    "    ALL_SERIAL_NUMBERS,\n",
    ")\n",
    "\n",
    "standalone_parameters = {}\n",
    "standalone_parameters[\"experiment_name\"] = \"STANDALONE PTN\"\n",
    "standalone_parameters[\"lr\"] = 0.001\n",
    "standalone_parameters[\"device\"] = \"cuda\"\n",
    "\n",
    "standalone_parameters[\"seed\"] = 1337\n",
    "standalone_parameters[\"dataset_seed\"] = 1337\n",
    "\n",
    "standalone_parameters[\"n_way\"] = 8\n",
    "standalone_parameters[\"n_shot\"] = 3\n",
    "standalone_parameters[\"n_query\"]  = 2\n",
    "standalone_parameters[\"train_k_factor\"] = 1\n",
    "standalone_parameters[\"val_k_factor\"] = 2\n",
    "standalone_parameters[\"test_k_factor\"] = 2\n",
    "\n",
    "\n",
    "standalone_parameters[\"n_epoch\"] = 50\n",
    "\n",
    "standalone_parameters[\"patience\"] = 10\n",
    "standalone_parameters[\"criteria_for_best\"] = \"source_loss\"\n",
    "\n",
    "standalone_parameters[\"datasets\"] = [\n",
    "    {\n",
    "        \"labels\": ALL_SERIAL_NUMBERS,\n",
    "        \"domains\": ALL_DISTANCES_FEET_NARROWED,\n",
    "        \"num_examples_per_domain_per_label\": 100,\n",
    "        \"pickle_path\": os.path.join(get_datasets_base_path(), \"oracle.Run1_framed_2000Examples_stratified_ds.2022A.pkl\"),\n",
    "        \"source_or_target_dataset\": \"source\",\n",
    "        \"x_transforms\": [\"unit_mag\", \"minus_two\"],\n",
    "        \"episode_transforms\": [],\n",
    "        \"domain_prefix\": \"ORACLE_\"\n",
    "    },\n",
    "    {\n",
    "        \"labels\": ALL_NODES,\n",
    "        \"domains\": ALL_DAYS,\n",
    "        \"num_examples_per_domain_per_label\": 100,\n",
    "        \"pickle_path\": os.path.join(get_datasets_base_path(), \"cores.stratified_ds.2022A.pkl\"),\n",
    "        \"source_or_target_dataset\": \"target\",\n",
    "        \"x_transforms\": [\"unit_power\", \"times_zero\"],\n",
    "        \"episode_transforms\": [],\n",
    "        \"domain_prefix\": \"CORES_\"\n",
    "    }   \n",
    "]\n",
    "\n",
    "standalone_parameters[\"torch_default_dtype\"] = \"torch.float32\" \n",
    "\n",
    "\n",
    "\n",
    "standalone_parameters[\"x_net\"] =     [\n",
    "    {\"class\": \"nnReshape\", \"kargs\": {\"shape\":[-1, 1, 2, 256]}},\n",
    "    {\"class\": \"Conv2d\", \"kargs\": { \"in_channels\":1, \"out_channels\":256, \"kernel_size\":(1,7), \"bias\":False, \"padding\":(0,3), },},\n",
    "    {\"class\": \"ReLU\", \"kargs\": {\"inplace\": True}},\n",
    "    {\"class\": \"BatchNorm2d\", \"kargs\": {\"num_features\":256}},\n",
    "\n",
    "    {\"class\": \"Conv2d\", \"kargs\": { \"in_channels\":256, \"out_channels\":80, \"kernel_size\":(2,7), \"bias\":True, \"padding\":(0,3), },},\n",
    "    {\"class\": \"ReLU\", \"kargs\": {\"inplace\": True}},\n",
    "    {\"class\": \"BatchNorm2d\", \"kargs\": {\"num_features\":80}},\n",
    "    {\"class\": \"Flatten\", \"kargs\": {}},\n",
    "\n",
    "    {\"class\": \"Linear\", \"kargs\": {\"in_features\": 80*256, \"out_features\": 256}}, # 80 units per IQ pair\n",
    "    {\"class\": \"ReLU\", \"kargs\": {\"inplace\": True}},\n",
    "    {\"class\": \"BatchNorm1d\", \"kargs\": {\"num_features\":256}},\n",
    "\n",
    "    {\"class\": \"Linear\", \"kargs\": {\"in_features\": 256, \"out_features\": 256}},\n",
    "]\n",
    "\n",
    "# Parameters relevant to results\n",
    "# These parameters will basically never need to change\n",
    "standalone_parameters[\"NUM_LOGS_PER_EPOCH\"] = 10\n",
    "standalone_parameters[\"BEST_MODEL_PATH\"] = \"./best_model.pth\"\n",
    "\n",
    "\n",
    "\n",
    "\n"
   ]
  },
  {
   "cell_type": "code",
   "execution_count": 4,
   "id": "1a31f75b",
   "metadata": {
    "execution": {
     "iopub.execute_input": "2022-03-21T03:53:20.125870Z",
     "iopub.status.busy": "2022-03-21T03:53:20.123038Z",
     "iopub.status.idle": "2022-03-21T03:53:20.151810Z",
     "shell.execute_reply": "2022-03-21T03:53:20.151043Z"
    },
    "papermill": {
     "duration": 0.062929,
     "end_time": "2022-03-21T03:53:20.151977",
     "exception": false,
     "start_time": "2022-03-21T03:53:20.089048",
     "status": "completed"
    },
    "tags": [
     "injected-parameters"
    ]
   },
   "outputs": [],
   "source": [
    "# Parameters\n",
    "parameters = {\n",
    "    \"experiment_name\": \"tl_1v2:cores-wisig\",\n",
    "    \"device\": \"cuda\",\n",
    "    \"lr\": 0.0001,\n",
    "    \"n_shot\": 3,\n",
    "    \"n_query\": 2,\n",
    "    \"train_k_factor\": 3,\n",
    "    \"val_k_factor\": 2,\n",
    "    \"test_k_factor\": 2,\n",
    "    \"torch_default_dtype\": \"torch.float32\",\n",
    "    \"n_epoch\": 3,\n",
    "    \"patience\": 3,\n",
    "    \"criteria_for_best\": \"target_accuracy\",\n",
    "    \"x_net\": [\n",
    "        {\"class\": \"nnReshape\", \"kargs\": {\"shape\": [-1, 1, 2, 256]}},\n",
    "        {\n",
    "            \"class\": \"Conv2d\",\n",
    "            \"kargs\": {\n",
    "                \"in_channels\": 1,\n",
    "                \"out_channels\": 256,\n",
    "                \"kernel_size\": [1, 7],\n",
    "                \"bias\": False,\n",
    "                \"padding\": [0, 3],\n",
    "            },\n",
    "        },\n",
    "        {\"class\": \"ReLU\", \"kargs\": {\"inplace\": True}},\n",
    "        {\"class\": \"BatchNorm2d\", \"kargs\": {\"num_features\": 256}},\n",
    "        {\n",
    "            \"class\": \"Conv2d\",\n",
    "            \"kargs\": {\n",
    "                \"in_channels\": 256,\n",
    "                \"out_channels\": 80,\n",
    "                \"kernel_size\": [2, 7],\n",
    "                \"bias\": True,\n",
    "                \"padding\": [0, 3],\n",
    "            },\n",
    "        },\n",
    "        {\"class\": \"ReLU\", \"kargs\": {\"inplace\": True}},\n",
    "        {\"class\": \"BatchNorm2d\", \"kargs\": {\"num_features\": 80}},\n",
    "        {\"class\": \"Flatten\", \"kargs\": {}},\n",
    "        {\"class\": \"Linear\", \"kargs\": {\"in_features\": 20480, \"out_features\": 256}},\n",
    "        {\"class\": \"ReLU\", \"kargs\": {\"inplace\": True}},\n",
    "        {\"class\": \"BatchNorm1d\", \"kargs\": {\"num_features\": 256}},\n",
    "        {\"class\": \"Linear\", \"kargs\": {\"in_features\": 256, \"out_features\": 256}},\n",
    "    ],\n",
    "    \"NUM_LOGS_PER_EPOCH\": 10,\n",
    "    \"BEST_MODEL_PATH\": \"./best_model.pth\",\n",
    "    \"n_way\": 58,\n",
    "    \"datasets\": [\n",
    "        {\n",
    "            \"labels\": [\n",
    "                \"1-10.\",\n",
    "                \"1-11.\",\n",
    "                \"1-15.\",\n",
    "                \"1-16.\",\n",
    "                \"1-17.\",\n",
    "                \"1-18.\",\n",
    "                \"1-19.\",\n",
    "                \"10-4.\",\n",
    "                \"10-7.\",\n",
    "                \"11-1.\",\n",
    "                \"11-14.\",\n",
    "                \"11-17.\",\n",
    "                \"11-20.\",\n",
    "                \"11-7.\",\n",
    "                \"13-20.\",\n",
    "                \"13-8.\",\n",
    "                \"14-10.\",\n",
    "                \"14-11.\",\n",
    "                \"14-14.\",\n",
    "                \"14-7.\",\n",
    "                \"15-1.\",\n",
    "                \"15-20.\",\n",
    "                \"16-1.\",\n",
    "                \"16-16.\",\n",
    "                \"17-10.\",\n",
    "                \"17-11.\",\n",
    "                \"17-2.\",\n",
    "                \"19-1.\",\n",
    "                \"19-16.\",\n",
    "                \"19-19.\",\n",
    "                \"19-20.\",\n",
    "                \"19-3.\",\n",
    "                \"2-10.\",\n",
    "                \"2-11.\",\n",
    "                \"2-17.\",\n",
    "                \"2-18.\",\n",
    "                \"2-20.\",\n",
    "                \"2-3.\",\n",
    "                \"2-4.\",\n",
    "                \"2-5.\",\n",
    "                \"2-6.\",\n",
    "                \"2-7.\",\n",
    "                \"2-8.\",\n",
    "                \"3-13.\",\n",
    "                \"3-18.\",\n",
    "                \"3-3.\",\n",
    "                \"4-1.\",\n",
    "                \"4-10.\",\n",
    "                \"4-11.\",\n",
    "                \"4-19.\",\n",
    "                \"5-5.\",\n",
    "                \"6-15.\",\n",
    "                \"7-10.\",\n",
    "                \"7-14.\",\n",
    "                \"8-18.\",\n",
    "                \"8-20.\",\n",
    "                \"8-3.\",\n",
    "                \"8-8.\",\n",
    "            ],\n",
    "            \"domains\": [1, 2, 3, 4, 5],\n",
    "            \"num_examples_per_domain_per_label\": -1,\n",
    "            \"pickle_path\": \"/root/csc500-main/datasets/cores.stratified_ds.2022A.pkl\",\n",
    "            \"source_or_target_dataset\": \"target\",\n",
    "            \"x_transforms\": [],\n",
    "            \"episode_transforms\": [],\n",
    "            \"domain_prefix\": \"CORES_\",\n",
    "        },\n",
    "        {\n",
    "            \"labels\": [\n",
    "                \"1-10\",\n",
    "                \"1-12\",\n",
    "                \"1-14\",\n",
    "                \"1-16\",\n",
    "                \"1-18\",\n",
    "                \"1-19\",\n",
    "                \"1-8\",\n",
    "                \"10-11\",\n",
    "                \"10-17\",\n",
    "                \"10-4\",\n",
    "                \"10-7\",\n",
    "                \"11-1\",\n",
    "                \"11-10\",\n",
    "                \"11-19\",\n",
    "                \"11-20\",\n",
    "                \"11-4\",\n",
    "                \"11-7\",\n",
    "                \"12-19\",\n",
    "                \"12-20\",\n",
    "                \"12-7\",\n",
    "                \"13-14\",\n",
    "                \"13-18\",\n",
    "                \"13-19\",\n",
    "                \"13-20\",\n",
    "                \"13-3\",\n",
    "                \"13-7\",\n",
    "                \"14-10\",\n",
    "                \"14-11\",\n",
    "                \"14-12\",\n",
    "                \"14-13\",\n",
    "                \"14-14\",\n",
    "                \"14-19\",\n",
    "                \"14-20\",\n",
    "                \"14-7\",\n",
    "                \"14-8\",\n",
    "                \"14-9\",\n",
    "                \"15-1\",\n",
    "                \"15-19\",\n",
    "                \"15-6\",\n",
    "                \"16-1\",\n",
    "                \"16-16\",\n",
    "                \"16-19\",\n",
    "                \"16-20\",\n",
    "                \"17-10\",\n",
    "                \"17-11\",\n",
    "                \"18-1\",\n",
    "                \"18-10\",\n",
    "                \"18-11\",\n",
    "                \"18-12\",\n",
    "                \"18-13\",\n",
    "                \"18-14\",\n",
    "                \"18-15\",\n",
    "                \"18-16\",\n",
    "                \"18-17\",\n",
    "                \"18-19\",\n",
    "                \"18-2\",\n",
    "                \"18-20\",\n",
    "                \"18-4\",\n",
    "                \"18-5\",\n",
    "                \"18-7\",\n",
    "                \"18-8\",\n",
    "                \"18-9\",\n",
    "                \"19-1\",\n",
    "                \"19-10\",\n",
    "                \"19-11\",\n",
    "                \"19-12\",\n",
    "                \"19-13\",\n",
    "                \"19-14\",\n",
    "                \"19-15\",\n",
    "                \"19-19\",\n",
    "                \"19-2\",\n",
    "                \"19-20\",\n",
    "                \"19-3\",\n",
    "                \"19-4\",\n",
    "                \"19-6\",\n",
    "                \"19-7\",\n",
    "                \"19-8\",\n",
    "                \"19-9\",\n",
    "                \"2-1\",\n",
    "                \"2-13\",\n",
    "                \"2-15\",\n",
    "                \"2-3\",\n",
    "                \"2-4\",\n",
    "                \"2-5\",\n",
    "                \"2-6\",\n",
    "                \"2-7\",\n",
    "                \"2-8\",\n",
    "                \"20-1\",\n",
    "                \"20-12\",\n",
    "                \"20-14\",\n",
    "                \"20-15\",\n",
    "                \"20-16\",\n",
    "                \"20-18\",\n",
    "                \"20-19\",\n",
    "                \"20-20\",\n",
    "                \"20-3\",\n",
    "                \"20-4\",\n",
    "                \"20-5\",\n",
    "                \"20-7\",\n",
    "                \"20-8\",\n",
    "                \"3-1\",\n",
    "                \"3-13\",\n",
    "                \"3-18\",\n",
    "                \"3-2\",\n",
    "                \"3-8\",\n",
    "                \"4-1\",\n",
    "                \"4-10\",\n",
    "                \"4-11\",\n",
    "                \"5-1\",\n",
    "                \"5-5\",\n",
    "                \"6-1\",\n",
    "                \"6-15\",\n",
    "                \"6-6\",\n",
    "                \"7-10\",\n",
    "                \"7-11\",\n",
    "                \"7-12\",\n",
    "                \"7-13\",\n",
    "                \"7-14\",\n",
    "                \"7-7\",\n",
    "                \"7-8\",\n",
    "                \"7-9\",\n",
    "                \"8-1\",\n",
    "                \"8-13\",\n",
    "                \"8-14\",\n",
    "                \"8-18\",\n",
    "                \"8-20\",\n",
    "                \"8-3\",\n",
    "                \"8-8\",\n",
    "                \"9-1\",\n",
    "                \"9-7\",\n",
    "            ],\n",
    "            \"domains\": [1, 2, 3, 4],\n",
    "            \"num_examples_per_domain_per_label\": -1,\n",
    "            \"pickle_path\": \"/root/csc500-main/datasets/wisig.node3-19.stratified_ds.2022A.pkl\",\n",
    "            \"source_or_target_dataset\": \"source\",\n",
    "            \"x_transforms\": [],\n",
    "            \"episode_transforms\": [],\n",
    "            \"domain_prefix\": \"Wisig_\",\n",
    "        },\n",
    "    ],\n",
    "    \"dataset_seed\": 7,\n",
    "    \"seed\": 7,\n",
    "}\n"
   ]
  },
  {
   "cell_type": "code",
   "execution_count": 5,
   "id": "8fa1cc33",
   "metadata": {
    "execution": {
     "iopub.execute_input": "2022-03-21T03:53:20.205117Z",
     "iopub.status.busy": "2022-03-21T03:53:20.204534Z",
     "iopub.status.idle": "2022-03-21T03:53:20.230215Z",
     "shell.execute_reply": "2022-03-21T03:53:20.229391Z"
    },
    "papermill": {
     "duration": 0.053362,
     "end_time": "2022-03-21T03:53:20.230380",
     "exception": false,
     "start_time": "2022-03-21T03:53:20.177018",
     "status": "completed"
    },
    "tags": []
   },
   "outputs": [],
   "source": [
    "# Set this to True if you want to run this template directly\n",
    "STANDALONE = False\n",
    "if STANDALONE:\n",
    "    print(\"parameters not injected, running with standalone_parameters\")\n",
    "    parameters = standalone_parameters\n",
    "\n",
    "if not 'parameters' in locals() and not 'parameters' in globals():\n",
    "    raise Exception(\"Parameter injection failed\")\n",
    "\n",
    "#Use an easy dict for all the parameters\n",
    "p = EasyDict(parameters)\n",
    "\n",
    "if \"x_shape\" not in p:\n",
    "    p.x_shape = [2,256] # Default to this if we dont supply x_shape\n",
    "\n",
    "\n",
    "supplied_keys = set(p.keys())\n",
    "\n",
    "if  supplied_keys != required_parameters:\n",
    "    print(\"Parameters are incorrect\")\n",
    "    if len(supplied_keys - required_parameters)>0: print(\"Shouldn't have:\", str(supplied_keys - required_parameters))\n",
    "    if len(required_parameters - supplied_keys)>0: print(\"Need to have:\", str(required_parameters - supplied_keys))\n",
    "    raise RuntimeError(\"Parameters are incorrect\")"
   ]
  },
  {
   "cell_type": "code",
   "execution_count": 6,
   "id": "3a028d58",
   "metadata": {
    "execution": {
     "iopub.execute_input": "2022-03-21T03:53:20.281002Z",
     "iopub.status.busy": "2022-03-21T03:53:20.278558Z",
     "iopub.status.idle": "2022-03-21T03:53:20.307678Z",
     "shell.execute_reply": "2022-03-21T03:53:20.308352Z"
    },
    "papermill": {
     "duration": 0.052481,
     "end_time": "2022-03-21T03:53:20.308550",
     "exception": false,
     "start_time": "2022-03-21T03:53:20.256069",
     "status": "completed"
    },
    "tags": []
   },
   "outputs": [],
   "source": [
    "###################################\n",
    "# Set the RNGs and make it all deterministic\n",
    "###################################\n",
    "np.random.seed(p.seed)\n",
    "random.seed(p.seed)\n",
    "torch.manual_seed(p.seed)\n",
    "\n",
    "torch.use_deterministic_algorithms(True) "
   ]
  },
  {
   "cell_type": "code",
   "execution_count": 7,
   "id": "b691acf6",
   "metadata": {
    "execution": {
     "iopub.execute_input": "2022-03-21T03:53:20.363060Z",
     "iopub.status.busy": "2022-03-21T03:53:20.362690Z",
     "iopub.status.idle": "2022-03-21T03:53:20.391162Z",
     "shell.execute_reply": "2022-03-21T03:53:20.390447Z"
    },
    "papermill": {
     "duration": 0.053799,
     "end_time": "2022-03-21T03:53:20.391325",
     "exception": false,
     "start_time": "2022-03-21T03:53:20.337526",
     "status": "completed"
    },
    "tags": []
   },
   "outputs": [],
   "source": [
    "###########################################\n",
    "# The stratified datasets honor this\n",
    "###########################################\n",
    "torch.set_default_dtype(eval(p.torch_default_dtype))"
   ]
  },
  {
   "cell_type": "code",
   "execution_count": 8,
   "id": "b5fba671",
   "metadata": {
    "execution": {
     "iopub.execute_input": "2022-03-21T03:53:20.447620Z",
     "iopub.status.busy": "2022-03-21T03:53:20.447233Z",
     "iopub.status.idle": "2022-03-21T03:53:20.506578Z",
     "shell.execute_reply": "2022-03-21T03:53:20.505754Z"
    },
    "papermill": {
     "duration": 0.085571,
     "end_time": "2022-03-21T03:53:20.506740",
     "exception": false,
     "start_time": "2022-03-21T03:53:20.421169",
     "status": "completed"
    },
    "tags": []
   },
   "outputs": [],
   "source": [
    "###################################\n",
    "# Build the network(s)\n",
    "# Note: It's critical to do this AFTER setting the RNG\n",
    "###################################\n",
    "x_net = build_sequential(p.x_net)"
   ]
  },
  {
   "cell_type": "code",
   "execution_count": 9,
   "id": "5d7e61cc",
   "metadata": {
    "execution": {
     "iopub.execute_input": "2022-03-21T03:53:20.557967Z",
     "iopub.status.busy": "2022-03-21T03:53:20.557290Z",
     "iopub.status.idle": "2022-03-21T03:53:20.584487Z",
     "shell.execute_reply": "2022-03-21T03:53:20.583650Z"
    },
    "papermill": {
     "duration": 0.05174,
     "end_time": "2022-03-21T03:53:20.584650",
     "exception": false,
     "start_time": "2022-03-21T03:53:20.532910",
     "status": "completed"
    },
    "tags": []
   },
   "outputs": [],
   "source": [
    "start_time_secs = time.time()"
   ]
  },
  {
   "cell_type": "code",
   "execution_count": 10,
   "id": "c6b67dfd",
   "metadata": {
    "execution": {
     "iopub.execute_input": "2022-03-21T03:53:20.635746Z",
     "iopub.status.busy": "2022-03-21T03:53:20.635367Z",
     "iopub.status.idle": "2022-03-21T03:53:20.664931Z",
     "shell.execute_reply": "2022-03-21T03:53:20.664129Z"
    },
    "papermill": {
     "duration": 0.054285,
     "end_time": "2022-03-21T03:53:20.665084",
     "exception": false,
     "start_time": "2022-03-21T03:53:20.610799",
     "status": "completed"
    },
    "tags": []
   },
   "outputs": [],
   "source": [
    "p.domains_source = []\n",
    "p.domains_target = []\n",
    "\n",
    "\n",
    "train_original_source = []\n",
    "val_original_source   = []\n",
    "test_original_source  = []\n",
    "\n",
    "train_original_target = []\n",
    "val_original_target   = []\n",
    "test_original_target  = []"
   ]
  },
  {
   "cell_type": "code",
   "execution_count": 11,
   "id": "e3d9c3d3",
   "metadata": {
    "execution": {
     "iopub.execute_input": "2022-03-21T03:53:20.718012Z",
     "iopub.status.busy": "2022-03-21T03:53:20.717459Z",
     "iopub.status.idle": "2022-03-21T03:53:20.743635Z",
     "shell.execute_reply": "2022-03-21T03:53:20.742818Z"
    },
    "papermill": {
     "duration": 0.050212,
     "end_time": "2022-03-21T03:53:20.743789",
     "exception": false,
     "start_time": "2022-03-21T03:53:20.693577",
     "status": "completed"
    },
    "tags": []
   },
   "outputs": [],
   "source": [
    "# global_x_transform_func = lambda x: normalize(x.to(torch.get_default_dtype()), \"unit_power\") # unit_power, unit_mag\n",
    "# global_x_transform_func = lambda x: normalize(x, \"unit_power\") # unit_power, unit_mag"
   ]
  },
  {
   "cell_type": "code",
   "execution_count": 12,
   "id": "acb78fd2",
   "metadata": {
    "execution": {
     "iopub.execute_input": "2022-03-21T03:53:20.803790Z",
     "iopub.status.busy": "2022-03-21T03:53:20.803132Z",
     "iopub.status.idle": "2022-03-21T03:53:20.827228Z",
     "shell.execute_reply": "2022-03-21T03:53:20.826522Z"
    },
    "papermill": {
     "duration": 0.054613,
     "end_time": "2022-03-21T03:53:20.827381",
     "exception": false,
     "start_time": "2022-03-21T03:53:20.772768",
     "status": "completed"
    },
    "tags": []
   },
   "outputs": [],
   "source": [
    "def add_dataset(\n",
    "    labels,\n",
    "    domains,\n",
    "    pickle_path,\n",
    "    x_transforms,\n",
    "    episode_transforms,\n",
    "    domain_prefix,\n",
    "    num_examples_per_domain_per_label,\n",
    "    source_or_target_dataset:str,\n",
    "    iterator_seed=p.seed,\n",
    "    dataset_seed=p.dataset_seed,\n",
    "    n_shot=p.n_shot,\n",
    "    n_way=p.n_way,\n",
    "    n_query=p.n_query,\n",
    "    train_val_test_k_factors=(p.train_k_factor,p.val_k_factor,p.test_k_factor),\n",
    "):\n",
    "   \n",
    "    if x_transforms == []: x_transform = None\n",
    "    else: x_transform = get_chained_transform(x_transforms)\n",
    "    \n",
    "    if episode_transforms == []: episode_transform = None\n",
    "    else: raise Exception(\"episode_transforms not implemented\")\n",
    "    \n",
    "    episode_transform = lambda tup, _prefix=domain_prefix: (_prefix + str(tup[0]), tup[1])\n",
    "\n",
    "\n",
    "    eaf = Episodic_Accessor_Factory(\n",
    "        labels=labels,\n",
    "        domains=domains,\n",
    "        num_examples_per_domain_per_label=num_examples_per_domain_per_label,\n",
    "        iterator_seed=iterator_seed,\n",
    "        dataset_seed=dataset_seed,\n",
    "        n_shot=n_shot,\n",
    "        n_way=n_way,\n",
    "        n_query=n_query,\n",
    "        train_val_test_k_factors=train_val_test_k_factors,\n",
    "        pickle_path=pickle_path,\n",
    "        x_transform_func=x_transform,\n",
    "    )\n",
    "\n",
    "    train, val, test = eaf.get_train(), eaf.get_val(), eaf.get_test()\n",
    "    train = Lazy_Iterable_Wrapper(train, episode_transform)\n",
    "    val = Lazy_Iterable_Wrapper(val, episode_transform)\n",
    "    test = Lazy_Iterable_Wrapper(test, episode_transform)\n",
    "\n",
    "    if source_or_target_dataset==\"source\":\n",
    "        train_original_source.append(train)\n",
    "        val_original_source.append(val)\n",
    "        test_original_source.append(test)\n",
    "\n",
    "        p.domains_source.extend(\n",
    "            [domain_prefix + str(u) for u in domains]\n",
    "        )\n",
    "    elif source_or_target_dataset==\"target\":\n",
    "        train_original_target.append(train)\n",
    "        val_original_target.append(val)\n",
    "        test_original_target.append(test)\n",
    "        p.domains_target.extend(\n",
    "            [domain_prefix + str(u) for u in domains]\n",
    "        )\n",
    "    else:\n",
    "        raise Exception(f\"invalid source_or_target_dataset: {source_or_target_dataset}\")\n",
    "    "
   ]
  },
  {
   "cell_type": "code",
   "execution_count": 13,
   "id": "fe266617",
   "metadata": {
    "execution": {
     "iopub.execute_input": "2022-03-21T03:53:20.880212Z",
     "iopub.status.busy": "2022-03-21T03:53:20.879582Z",
     "iopub.status.idle": "2022-03-21T03:53:24.534146Z",
     "shell.execute_reply": "2022-03-21T03:53:24.533358Z"
    },
    "papermill": {
     "duration": 3.677677,
     "end_time": "2022-03-21T03:53:24.534333",
     "exception": false,
     "start_time": "2022-03-21T03:53:20.856656",
     "status": "completed"
    },
    "tags": []
   },
   "outputs": [],
   "source": [
    "for ds in p.datasets:\n",
    "    add_dataset(**ds)"
   ]
  },
  {
   "cell_type": "code",
   "execution_count": 14,
   "id": "b90d65ac",
   "metadata": {
    "execution": {
     "iopub.execute_input": "2022-03-21T03:53:24.586360Z",
     "iopub.status.busy": "2022-03-21T03:53:24.585783Z",
     "iopub.status.idle": "2022-03-21T03:53:24.613983Z",
     "shell.execute_reply": "2022-03-21T03:53:24.613274Z"
    },
    "papermill": {
     "duration": 0.052746,
     "end_time": "2022-03-21T03:53:24.614141",
     "exception": false,
     "start_time": "2022-03-21T03:53:24.561395",
     "status": "completed"
    },
    "tags": []
   },
   "outputs": [],
   "source": [
    "# from steves_utils.CORES.utils import (\n",
    "#     ALL_NODES,\n",
    "#     ALL_NODES_MINIMUM_1000_EXAMPLES,\n",
    "#     ALL_DAYS\n",
    "# )\n",
    "\n",
    "# add_dataset(\n",
    "#     labels=ALL_NODES,\n",
    "#     domains = ALL_DAYS,\n",
    "#     num_examples_per_domain_per_label=100,\n",
    "#     pickle_path=os.path.join(get_datasets_base_path(), \"cores.stratified_ds.2022A.pkl\"),\n",
    "#     source_or_target_dataset=\"target\",\n",
    "#     x_transform_func=global_x_transform_func,\n",
    "#     domain_modifier=lambda u: f\"cores_{u}\"\n",
    "# )"
   ]
  },
  {
   "cell_type": "code",
   "execution_count": 15,
   "id": "76db484d",
   "metadata": {
    "execution": {
     "iopub.execute_input": "2022-03-21T03:53:24.665822Z",
     "iopub.status.busy": "2022-03-21T03:53:24.665448Z",
     "iopub.status.idle": "2022-03-21T03:53:24.690166Z",
     "shell.execute_reply": "2022-03-21T03:53:24.689354Z"
    },
    "papermill": {
     "duration": 0.049502,
     "end_time": "2022-03-21T03:53:24.690322",
     "exception": false,
     "start_time": "2022-03-21T03:53:24.640820",
     "status": "completed"
    },
    "tags": []
   },
   "outputs": [],
   "source": [
    "# from steves_utils.ORACLE.utils_v2 import (\n",
    "#     ALL_DISTANCES_FEET,\n",
    "#     ALL_RUNS,\n",
    "#     ALL_SERIAL_NUMBERS,\n",
    "# )\n",
    "\n",
    "\n",
    "# add_dataset(\n",
    "#     labels=ALL_SERIAL_NUMBERS,\n",
    "#     domains = list(set(ALL_DISTANCES_FEET) - {2,62}),\n",
    "#     num_examples_per_domain_per_label=100,\n",
    "#     pickle_path=os.path.join(get_datasets_base_path(), \"oracle.Run2_framed_2000Examples_stratified_ds.2022A.pkl\"),\n",
    "#     source_or_target_dataset=\"source\",\n",
    "#     x_transform_func=global_x_transform_func,\n",
    "#     domain_modifier=lambda u: f\"oracle1_{u}\"\n",
    "# )\n"
   ]
  },
  {
   "cell_type": "code",
   "execution_count": 16,
   "id": "97dea9d2",
   "metadata": {
    "execution": {
     "iopub.execute_input": "2022-03-21T03:53:24.742198Z",
     "iopub.status.busy": "2022-03-21T03:53:24.741827Z",
     "iopub.status.idle": "2022-03-21T03:53:24.768551Z",
     "shell.execute_reply": "2022-03-21T03:53:24.767840Z"
    },
    "papermill": {
     "duration": 0.051598,
     "end_time": "2022-03-21T03:53:24.768709",
     "exception": false,
     "start_time": "2022-03-21T03:53:24.717111",
     "status": "completed"
    },
    "tags": []
   },
   "outputs": [],
   "source": [
    "# from steves_utils.ORACLE.utils_v2 import (\n",
    "#     ALL_DISTANCES_FEET,\n",
    "#     ALL_RUNS,\n",
    "#     ALL_SERIAL_NUMBERS,\n",
    "# )\n",
    "\n",
    "\n",
    "# add_dataset(\n",
    "#     labels=ALL_SERIAL_NUMBERS,\n",
    "#     domains = list(set(ALL_DISTANCES_FEET) - {2,62,56}),\n",
    "#     num_examples_per_domain_per_label=100,\n",
    "#     pickle_path=os.path.join(get_datasets_base_path(), \"oracle.Run2_framed_2000Examples_stratified_ds.2022A.pkl\"),\n",
    "#     source_or_target_dataset=\"source\",\n",
    "#     x_transform_func=global_x_transform_func,\n",
    "#     domain_modifier=lambda u: f\"oracle2_{u}\"\n",
    "# )"
   ]
  },
  {
   "cell_type": "code",
   "execution_count": 17,
   "id": "6f289866",
   "metadata": {
    "execution": {
     "iopub.execute_input": "2022-03-21T03:53:24.823774Z",
     "iopub.status.busy": "2022-03-21T03:53:24.823385Z",
     "iopub.status.idle": "2022-03-21T03:53:24.850764Z",
     "shell.execute_reply": "2022-03-21T03:53:24.850047Z"
    },
    "papermill": {
     "duration": 0.052192,
     "end_time": "2022-03-21T03:53:24.850919",
     "exception": false,
     "start_time": "2022-03-21T03:53:24.798727",
     "status": "completed"
    },
    "tags": []
   },
   "outputs": [],
   "source": [
    "# add_dataset(\n",
    "#     labels=list(range(19)),\n",
    "#     domains = [0,1,2],\n",
    "#     num_examples_per_domain_per_label=100,\n",
    "#     pickle_path=os.path.join(get_datasets_base_path(), \"metehan.stratified_ds.2022A.pkl\"),\n",
    "#     source_or_target_dataset=\"target\",\n",
    "#     x_transform_func=global_x_transform_func,\n",
    "#     domain_modifier=lambda u: f\"met_{u}\"\n",
    "# )"
   ]
  },
  {
   "cell_type": "code",
   "execution_count": 18,
   "id": "86a863c3",
   "metadata": {
    "execution": {
     "iopub.execute_input": "2022-03-21T03:53:24.903140Z",
     "iopub.status.busy": "2022-03-21T03:53:24.902534Z",
     "iopub.status.idle": "2022-03-21T03:53:24.926372Z",
     "shell.execute_reply": "2022-03-21T03:53:24.925566Z"
    },
    "papermill": {
     "duration": 0.048684,
     "end_time": "2022-03-21T03:53:24.926527",
     "exception": false,
     "start_time": "2022-03-21T03:53:24.877843",
     "status": "completed"
    },
    "tags": []
   },
   "outputs": [],
   "source": [
    "# # from steves_utils.wisig.utils import (\n",
    "# #     ALL_NODES_MINIMUM_100_EXAMPLES,\n",
    "# #     ALL_NODES_MINIMUM_500_EXAMPLES,\n",
    "# #     ALL_NODES_MINIMUM_1000_EXAMPLES,\n",
    "# #     ALL_DAYS\n",
    "# # )\n",
    "\n",
    "# import steves_utils.wisig.utils as wisig\n",
    "\n",
    "\n",
    "# add_dataset(\n",
    "#     labels=wisig.ALL_NODES_MINIMUM_100_EXAMPLES,\n",
    "#     domains = wisig.ALL_DAYS,\n",
    "#     num_examples_per_domain_per_label=100,\n",
    "#     pickle_path=os.path.join(get_datasets_base_path(), \"wisig.node3-19.stratified_ds.2022A.pkl\"),\n",
    "#     source_or_target_dataset=\"target\",\n",
    "#     x_transform_func=global_x_transform_func,\n",
    "#     domain_modifier=lambda u: f\"wisig_{u}\"\n",
    "# )"
   ]
  },
  {
   "cell_type": "code",
   "execution_count": 19,
   "id": "fd5442bc",
   "metadata": {
    "execution": {
     "iopub.execute_input": "2022-03-21T03:53:24.985770Z",
     "iopub.status.busy": "2022-03-21T03:53:24.985186Z",
     "iopub.status.idle": "2022-03-21T03:53:25.007800Z",
     "shell.execute_reply": "2022-03-21T03:53:25.007070Z"
    },
    "papermill": {
     "duration": 0.054338,
     "end_time": "2022-03-21T03:53:25.007955",
     "exception": false,
     "start_time": "2022-03-21T03:53:24.953617",
     "status": "completed"
    },
    "tags": []
   },
   "outputs": [],
   "source": [
    "###################################\n",
    "# Build the dataset\n",
    "###################################\n",
    "train_original_source = Iterable_Aggregator(train_original_source, p.seed)\n",
    "val_original_source = Iterable_Aggregator(val_original_source, p.seed)\n",
    "test_original_source = Iterable_Aggregator(test_original_source, p.seed)\n",
    "\n",
    "\n",
    "train_original_target = Iterable_Aggregator(train_original_target, p.seed)\n",
    "val_original_target = Iterable_Aggregator(val_original_target, p.seed)\n",
    "test_original_target = Iterable_Aggregator(test_original_target, p.seed)\n",
    "\n",
    "# For CNN We only use X and Y. And we only train on the source.\n",
    "# Properly form the data using a transform lambda and Lazy_Iterable_Wrapper. Finally wrap them in a dataloader\n",
    "\n",
    "transform_lambda = lambda ex: ex[1] # Original is (<domain>, <episode>) so we strip down to episode only\n",
    "\n",
    "train_processed_source = Lazy_Iterable_Wrapper(train_original_source, transform_lambda)\n",
    "val_processed_source   = Lazy_Iterable_Wrapper(val_original_source, transform_lambda)\n",
    "test_processed_source  = Lazy_Iterable_Wrapper(test_original_source, transform_lambda)\n",
    "\n",
    "train_processed_target = Lazy_Iterable_Wrapper(train_original_target, transform_lambda)\n",
    "val_processed_target   = Lazy_Iterable_Wrapper(val_original_target, transform_lambda)\n",
    "test_processed_target  = Lazy_Iterable_Wrapper(test_original_target, transform_lambda)\n",
    "\n",
    "datasets = EasyDict({\n",
    "    \"source\": {\n",
    "        \"original\": {\"train\":train_original_source, \"val\":val_original_source, \"test\":test_original_source},\n",
    "        \"processed\": {\"train\":train_processed_source, \"val\":val_processed_source, \"test\":test_processed_source}\n",
    "    },\n",
    "    \"target\": {\n",
    "        \"original\": {\"train\":train_original_target, \"val\":val_original_target, \"test\":test_original_target},\n",
    "        \"processed\": {\"train\":train_processed_target, \"val\":val_processed_target, \"test\":test_processed_target}\n",
    "    },\n",
    "})"
   ]
  },
  {
   "cell_type": "code",
   "execution_count": 20,
   "id": "5b3c01fc",
   "metadata": {
    "execution": {
     "iopub.execute_input": "2022-03-21T03:53:25.061755Z",
     "iopub.status.busy": "2022-03-21T03:53:25.058391Z",
     "iopub.status.idle": "2022-03-21T03:53:33.862663Z",
     "shell.execute_reply": "2022-03-21T03:53:33.861803Z"
    },
    "papermill": {
     "duration": 8.82849,
     "end_time": "2022-03-21T03:53:33.862847",
     "exception": false,
     "start_time": "2022-03-21T03:53:25.034357",
     "status": "completed"
    },
    "tags": []
   },
   "outputs": [
    {
     "name": "stdout",
     "output_type": "stream",
     "text": [
      "{'Wisig_1', 'Wisig_4', 'Wisig_2', 'Wisig_3'}\n"
     ]
    },
    {
     "name": "stdout",
     "output_type": "stream",
     "text": [
      "{'CORES_5', 'CORES_3', 'CORES_1', 'CORES_2', 'CORES_4'}\n"
     ]
    },
    {
     "name": "stdout",
     "output_type": "stream",
     "text": [
      "tensor([[[-0.0590, -0.0466,  0.0367,  ..., -0.0172, -0.0569, -0.0194],\n",
      "         [ 0.0153, -0.0398, -0.0782,  ..., -0.0047, -0.0296, -0.0857]],\n",
      "\n",
      "        [[-0.0158,  0.0165,  0.0732,  ...,  0.0332,  0.0104,  0.0455],\n",
      "         [-0.0142, -0.0504,  0.0004,  ...,  0.0103,  0.0193,  0.0029]],\n",
      "\n",
      "        [[-0.0244,  0.0467,  0.0582,  ...,  0.0182,  0.0473,  0.0810],\n",
      "         [-0.0494, -0.0430,  0.0383,  ..., -0.0080, -0.0292,  0.0304]],\n",
      "\n",
      "        ...,\n",
      "\n",
      "        [[-0.0030,  0.0183,  0.0378,  ..., -0.0107,  0.0108,  0.0218],\n",
      "         [-0.0174, -0.0196, -0.0038,  ..., -0.0066, -0.0053,  0.0092]],\n",
      "\n",
      "        [[ 0.0042,  0.0109,  0.0079,  ...,  0.0237,  0.0227,  0.0097],\n",
      "         [ 0.0002, -0.0029,  0.0155,  ...,  0.0033,  0.0199,  0.0221]],\n",
      "\n",
      "        [[-0.0018,  0.0269,  0.0269,  ..., -0.0023,  0.0135,  0.0051],\n",
      "         [-0.0127,  0.0026,  0.0201,  ..., -0.0167, -0.0079,  0.0150]]])\n"
     ]
    }
   ],
   "source": [
    "from steves_utils.transforms import get_average_magnitude, get_average_power\n",
    "\n",
    "print(set([u for u,_ in val_original_source]))\n",
    "print(set([u for u,_ in val_original_target]))\n",
    "\n",
    "s_x, s_y, q_x, q_y, _ = next(iter(train_processed_source))\n",
    "print(s_x)\n",
    "\n",
    "# for ds in [\n",
    "#     train_processed_source,\n",
    "#     val_processed_source,\n",
    "#     test_processed_source,\n",
    "#     train_processed_target,\n",
    "#     val_processed_target,\n",
    "#     test_processed_target\n",
    "# ]:\n",
    "#     for s_x, s_y, q_x, q_y, _ in ds:\n",
    "#         for X in (s_x, q_x):\n",
    "#             for x in X:\n",
    "#                 assert np.isclose(get_average_magnitude(x.numpy()), 1.0)\n",
    "#                 assert np.isclose(get_average_power(x.numpy()), 1.0)\n",
    "                "
   ]
  },
  {
   "cell_type": "code",
   "execution_count": 21,
   "id": "bbdacba1",
   "metadata": {
    "execution": {
     "iopub.execute_input": "2022-03-21T03:53:33.920783Z",
     "iopub.status.busy": "2022-03-21T03:53:33.920198Z",
     "iopub.status.idle": "2022-03-21T03:53:34.173076Z",
     "shell.execute_reply": "2022-03-21T03:53:34.172341Z"
    },
    "papermill": {
     "duration": 0.282159,
     "end_time": "2022-03-21T03:53:34.173263",
     "exception": false,
     "start_time": "2022-03-21T03:53:33.891104",
     "status": "completed"
    },
    "tags": []
   },
   "outputs": [
    {
     "name": "stdout",
     "output_type": "stream",
     "text": [
      "(2, 256)\n"
     ]
    }
   ],
   "source": [
    "###################################\n",
    "# Build the model\n",
    "###################################\n",
    "# easfsl only wants a tuple for the shape\n",
    "model = Steves_Prototypical_Network(x_net, device=p.device, x_shape=tuple(p.x_shape))\n",
    "optimizer = Adam(params=model.parameters(), lr=p.lr)"
   ]
  },
  {
   "cell_type": "code",
   "execution_count": 22,
   "id": "22b39ac5",
   "metadata": {
    "execution": {
     "iopub.execute_input": "2022-03-21T03:53:34.230220Z",
     "iopub.status.busy": "2022-03-21T03:53:34.229647Z",
     "iopub.status.idle": "2022-03-21T03:58:12.546343Z",
     "shell.execute_reply": "2022-03-21T03:58:12.546668Z"
    },
    "papermill": {
     "duration": 278.346244,
     "end_time": "2022-03-21T03:58:12.546785",
     "exception": false,
     "start_time": "2022-03-21T03:53:34.200541",
     "status": "completed"
    },
    "tags": []
   },
   "outputs": [
    {
     "name": "stdout",
     "output_type": "stream",
     "text": [
      "epoch: 1, [batch: 1 / 915], examples_per_second: 199.5254, train_label_loss: 3.3583, \n"
     ]
    },
    {
     "name": "stdout",
     "output_type": "stream",
     "text": [
      "epoch: 1, [batch: 92 / 915], examples_per_second: 3212.4205, train_label_loss: 1.1227, \n"
     ]
    },
    {
     "name": "stdout",
     "output_type": "stream",
     "text": [
      "epoch: 1, [batch: 183 / 915], examples_per_second: 3469.8300, train_label_loss: 0.4908, \n"
     ]
    },
    {
     "name": "stdout",
     "output_type": "stream",
     "text": [
      "epoch: 1, [batch: 275 / 915], examples_per_second: 3498.9101, train_label_loss: 0.1692, \n"
     ]
    },
    {
     "name": "stdout",
     "output_type": "stream",
     "text": [
      "epoch: 1, [batch: 366 / 915], examples_per_second: 3424.1449, train_label_loss: 0.4225, \n"
     ]
    },
    {
     "name": "stdout",
     "output_type": "stream",
     "text": [
      "epoch: 1, [batch: 458 / 915], examples_per_second: 3572.2321, train_label_loss: 0.2851, \n"
     ]
    },
    {
     "name": "stdout",
     "output_type": "stream",
     "text": [
      "epoch: 1, [batch: 549 / 915], examples_per_second: 3459.2927, train_label_loss: 0.2002, \n"
     ]
    },
    {
     "name": "stdout",
     "output_type": "stream",
     "text": [
      "epoch: 1, [batch: 640 / 915], examples_per_second: 3365.7650, train_label_loss: 0.4965, \n"
     ]
    },
    {
     "name": "stdout",
     "output_type": "stream",
     "text": [
      "epoch: 1, [batch: 732 / 915], examples_per_second: 3899.9790, train_label_loss: 0.3041, \n"
     ]
    },
    {
     "name": "stdout",
     "output_type": "stream",
     "text": [
      "epoch: 1, [batch: 823 / 915], examples_per_second: 3391.8727, train_label_loss: 0.2601, \n"
     ]
    },
    {
     "name": "stdout",
     "output_type": "stream",
     "text": [
      "=============================================================\n",
      "epoch: 1, source_val_acc_label: 0.9360, target_val_acc_label: 0.9628, source_val_label_loss: 0.3624, target_val_label_loss: 0.2620, \n",
      "=============================================================\n"
     ]
    },
    {
     "name": "stdout",
     "output_type": "stream",
     "text": [
      "New best\n"
     ]
    },
    {
     "name": "stdout",
     "output_type": "stream",
     "text": [
      "epoch: 2, [batch: 1 / 916], examples_per_second: 22.3262, train_label_loss: 0.1998, \n"
     ]
    },
    {
     "name": "stdout",
     "output_type": "stream",
     "text": [
      "epoch: 2, [batch: 92 / 916], examples_per_second: 3050.9830, train_label_loss: 0.4767, \n"
     ]
    },
    {
     "name": "stdout",
     "output_type": "stream",
     "text": [
      "epoch: 2, [batch: 184 / 916], examples_per_second: 2990.4011, train_label_loss: 0.4612, \n"
     ]
    },
    {
     "name": "stdout",
     "output_type": "stream",
     "text": [
      "epoch: 2, [batch: 275 / 916], examples_per_second: 3058.3573, train_label_loss: 0.5461, \n"
     ]
    },
    {
     "name": "stdout",
     "output_type": "stream",
     "text": [
      "epoch: 2, [batch: 367 / 916], examples_per_second: 3348.5271, train_label_loss: 0.3066, \n"
     ]
    },
    {
     "name": "stdout",
     "output_type": "stream",
     "text": [
      "epoch: 2, [batch: 458 / 916], examples_per_second: 3412.5797, train_label_loss: 0.2810, \n"
     ]
    },
    {
     "name": "stdout",
     "output_type": "stream",
     "text": [
      "epoch: 2, [batch: 550 / 916], examples_per_second: 3531.6699, train_label_loss: 0.1748, \n"
     ]
    },
    {
     "name": "stdout",
     "output_type": "stream",
     "text": [
      "epoch: 2, [batch: 641 / 916], examples_per_second: 3527.6246, train_label_loss: 0.4577, \n"
     ]
    },
    {
     "name": "stdout",
     "output_type": "stream",
     "text": [
      "epoch: 2, [batch: 733 / 916], examples_per_second: 3403.8433, train_label_loss: 0.2600, \n"
     ]
    },
    {
     "name": "stdout",
     "output_type": "stream",
     "text": [
      "epoch: 2, [batch: 824 / 916], examples_per_second: 3434.3715, train_label_loss: 0.1713, \n"
     ]
    },
    {
     "name": "stdout",
     "output_type": "stream",
     "text": [
      "=============================================================\n",
      "epoch: 2, source_val_acc_label: 0.9570, target_val_acc_label: 0.9763, source_val_label_loss: 0.2483, target_val_label_loss: 0.1879, \n",
      "=============================================================\n"
     ]
    },
    {
     "name": "stdout",
     "output_type": "stream",
     "text": [
      "New best\n"
     ]
    },
    {
     "name": "stdout",
     "output_type": "stream",
     "text": [
      "epoch: 3, [batch: 1 / 912], examples_per_second: 28.3658, train_label_loss: 0.1839, \n"
     ]
    },
    {
     "name": "stdout",
     "output_type": "stream",
     "text": [
      "epoch: 3, [batch: 92 / 912], examples_per_second: 3575.0021, train_label_loss: 0.1026, \n"
     ]
    },
    {
     "name": "stdout",
     "output_type": "stream",
     "text": [
      "epoch: 3, [batch: 183 / 912], examples_per_second: 3466.1501, train_label_loss: 0.3022, \n"
     ]
    },
    {
     "name": "stdout",
     "output_type": "stream",
     "text": [
      "epoch: 3, [batch: 274 / 912], examples_per_second: 3529.3095, train_label_loss: 0.3133, \n"
     ]
    },
    {
     "name": "stdout",
     "output_type": "stream",
     "text": [
      "epoch: 3, [batch: 365 / 912], examples_per_second: 3480.9603, train_label_loss: 0.3130, \n"
     ]
    },
    {
     "name": "stdout",
     "output_type": "stream",
     "text": [
      "epoch: 3, [batch: 456 / 912], examples_per_second: 3386.3690, train_label_loss: 0.1633, \n"
     ]
    },
    {
     "name": "stdout",
     "output_type": "stream",
     "text": [
      "epoch: 3, [batch: 547 / 912], examples_per_second: 3455.6415, train_label_loss: 0.2062, \n"
     ]
    },
    {
     "name": "stdout",
     "output_type": "stream",
     "text": [
      "epoch: 3, [batch: 638 / 912], examples_per_second: 3383.8762, train_label_loss: 0.3494, \n"
     ]
    },
    {
     "name": "stdout",
     "output_type": "stream",
     "text": [
      "epoch: 3, [batch: 729 / 912], examples_per_second: 3447.5531, train_label_loss: 0.2961, \n"
     ]
    },
    {
     "name": "stdout",
     "output_type": "stream",
     "text": [
      "epoch: 3, [batch: 820 / 912], examples_per_second: 3459.3499, train_label_loss: 0.1554, \n"
     ]
    },
    {
     "name": "stdout",
     "output_type": "stream",
     "text": [
      "=============================================================\n",
      "epoch: 3, source_val_acc_label: 0.9605, target_val_acc_label: 0.9754, source_val_label_loss: 0.2367, target_val_label_loss: 0.2098, \n",
      "=============================================================\n"
     ]
    }
   ],
   "source": [
    "###################################\n",
    "# train\n",
    "###################################\n",
    "jig = PTN_Train_Eval_Test_Jig(model, p.BEST_MODEL_PATH, p.device)\n",
    "\n",
    "jig.train(\n",
    "    train_iterable=datasets.source.processed.train,\n",
    "    source_val_iterable=datasets.source.processed.val,\n",
    "    target_val_iterable=datasets.target.processed.val,\n",
    "    num_epochs=p.n_epoch,\n",
    "    num_logs_per_epoch=p.NUM_LOGS_PER_EPOCH,\n",
    "    patience=p.patience,\n",
    "    optimizer=optimizer,\n",
    "    criteria_for_best=p.criteria_for_best,\n",
    ")"
   ]
  },
  {
   "cell_type": "code",
   "execution_count": 23,
   "id": "31e8fabf",
   "metadata": {
    "execution": {
     "iopub.execute_input": "2022-03-21T03:58:12.621440Z",
     "iopub.status.busy": "2022-03-21T03:58:12.620970Z",
     "iopub.status.idle": "2022-03-21T03:58:12.650033Z",
     "shell.execute_reply": "2022-03-21T03:58:12.649161Z"
    },
    "papermill": {
     "duration": 0.069788,
     "end_time": "2022-03-21T03:58:12.650208",
     "exception": false,
     "start_time": "2022-03-21T03:58:12.580420",
     "status": "completed"
    },
    "tags": []
   },
   "outputs": [],
   "source": [
    "total_experiment_time_secs = time.time() - start_time_secs"
   ]
  },
  {
   "cell_type": "code",
   "execution_count": 24,
   "id": "87b9595b",
   "metadata": {
    "execution": {
     "iopub.execute_input": "2022-03-21T03:58:12.736115Z",
     "iopub.status.busy": "2022-03-21T03:58:12.735452Z",
     "iopub.status.idle": "2022-03-21T03:59:06.999921Z",
     "shell.execute_reply": "2022-03-21T03:59:06.999123Z"
    },
    "papermill": {
     "duration": 54.309173,
     "end_time": "2022-03-21T03:59:07.000105",
     "exception": false,
     "start_time": "2022-03-21T03:58:12.690932",
     "status": "completed"
    },
    "tags": []
   },
   "outputs": [],
   "source": [
    "###################################\n",
    "# Evaluate the model\n",
    "###################################\n",
    "source_test_label_accuracy, source_test_label_loss = jig.test(datasets.source.processed.test)\n",
    "target_test_label_accuracy, target_test_label_loss = jig.test(datasets.target.processed.test)\n",
    "\n",
    "source_val_label_accuracy, source_val_label_loss = jig.test(datasets.source.processed.val)\n",
    "target_val_label_accuracy, target_val_label_loss = jig.test(datasets.target.processed.val)\n",
    "\n",
    "history = jig.get_history()\n",
    "\n",
    "total_epochs_trained = len(history[\"epoch_indices\"])\n",
    "\n",
    "val_dl = Iterable_Aggregator((datasets.source.original.val,datasets.target.original.val))\n",
    "\n",
    "confusion = ptn_confusion_by_domain_over_dataloader(model, p.device, val_dl)\n",
    "per_domain_accuracy = per_domain_accuracy_from_confusion(confusion)\n",
    "\n",
    "# Add a key to per_domain_accuracy for if it was a source domain\n",
    "for domain, accuracy in per_domain_accuracy.items():\n",
    "    per_domain_accuracy[domain] = {\n",
    "        \"accuracy\": accuracy,\n",
    "        \"source?\": domain in p.domains_source\n",
    "    }\n",
    "\n",
    "# Do an independent accuracy assesment JUST TO BE SURE!\n",
    "# _source_test_label_accuracy = independent_accuracy_assesment(model, datasets.source.processed.test, p.device)\n",
    "# _target_test_label_accuracy = independent_accuracy_assesment(model, datasets.target.processed.test, p.device)\n",
    "# _source_val_label_accuracy = independent_accuracy_assesment(model, datasets.source.processed.val, p.device)\n",
    "# _target_val_label_accuracy = independent_accuracy_assesment(model, datasets.target.processed.val, p.device)\n",
    "\n",
    "# assert(_source_test_label_accuracy == source_test_label_accuracy)\n",
    "# assert(_target_test_label_accuracy == target_test_label_accuracy)\n",
    "# assert(_source_val_label_accuracy == source_val_label_accuracy)\n",
    "# assert(_target_val_label_accuracy == target_val_label_accuracy)\n",
    "\n",
    "experiment = {\n",
    "    \"experiment_name\": p.experiment_name,\n",
    "    \"parameters\": dict(p),\n",
    "    \"results\": {\n",
    "        \"source_test_label_accuracy\": source_test_label_accuracy,\n",
    "        \"source_test_label_loss\": source_test_label_loss,\n",
    "        \"target_test_label_accuracy\": target_test_label_accuracy,\n",
    "        \"target_test_label_loss\": target_test_label_loss,\n",
    "        \"source_val_label_accuracy\": source_val_label_accuracy,\n",
    "        \"source_val_label_loss\": source_val_label_loss,\n",
    "        \"target_val_label_accuracy\": target_val_label_accuracy,\n",
    "        \"target_val_label_loss\": target_val_label_loss,\n",
    "        \"total_epochs_trained\": total_epochs_trained,\n",
    "        \"total_experiment_time_secs\": total_experiment_time_secs,\n",
    "        \"confusion\": confusion,\n",
    "        \"per_domain_accuracy\": per_domain_accuracy,\n",
    "    },\n",
    "    \"history\": history,\n",
    "    \"dataset_metrics\": get_dataset_metrics(datasets, \"ptn\"),\n",
    "}"
   ]
  },
  {
   "cell_type": "code",
   "execution_count": 25,
   "id": "54a21829",
   "metadata": {
    "execution": {
     "iopub.execute_input": "2022-03-21T03:59:07.079223Z",
     "iopub.status.busy": "2022-03-21T03:59:07.078848Z",
     "iopub.status.idle": "2022-03-21T03:59:07.296497Z",
     "shell.execute_reply": "2022-03-21T03:59:07.297194Z"
    },
    "papermill": {
     "duration": 0.255491,
     "end_time": "2022-03-21T03:59:07.297414",
     "exception": false,
     "start_time": "2022-03-21T03:59:07.041923",
     "status": "completed"
    },
    "tags": []
   },
   "outputs": [
    {
     "data": {
      "image/png": "[encoded data removed]",
      "text/plain": [
       "<Figure size 1080x504 with 1 Axes>"
      ]
     },
     "metadata": {
      "needs_background": "light"
     },
     "output_type": "display_data"
    }
   ],
   "source": [
    "ax = get_loss_curve(experiment)\n",
    "plt.show()"
   ]
  },
  {
   "cell_type": "code",
   "execution_count": 26,
   "id": "fd8a0f60",
   "metadata": {
    "execution": {
     "iopub.execute_input": "2022-03-21T03:59:07.374506Z",
     "iopub.status.busy": "2022-03-21T03:59:07.374132Z",
     "iopub.status.idle": "2022-03-21T03:59:07.684369Z",
     "shell.execute_reply": "2022-03-21T03:59:07.685079Z"
    },
    "papermill": {
     "duration": 0.349833,
     "end_time": "2022-03-21T03:59:07.685514",
     "exception": false,
     "start_time": "2022-03-21T03:59:07.335681",
     "status": "completed"
    },
    "tags": []
   },
   "outputs": [
    {
     "data": {
      "text/plain": [
       "<AxesSubplot:title={'center':'Results'}>"
      ]
     },
     "execution_count": 26,
     "metadata": {},
     "output_type": "execute_result"
    },
    {
     "data": {
      "image/png": "[encoded data removed]",
      "text/plain": [
       "<Figure size 1080x504 with 1 Axes>"
      ]
     },
     "metadata": {
      "needs_background": "light"
     },
     "output_type": "display_data"
    }
   ],
   "source": [
    "get_results_table(experiment)"
   ]
  },
  {
   "cell_type": "code",
   "execution_count": 27,
   "id": "cf8dc689",
   "metadata": {
    "execution": {
     "iopub.execute_input": "2022-03-21T03:59:07.764608Z",
     "iopub.status.busy": "2022-03-21T03:59:07.764239Z",
     "iopub.status.idle": "2022-03-21T03:59:07.994345Z",
     "shell.execute_reply": "2022-03-21T03:59:07.993538Z"
    },
    "papermill": {
     "duration": 0.269481,
     "end_time": "2022-03-21T03:59:07.994504",
     "exception": false,
     "start_time": "2022-03-21T03:59:07.725023",
     "status": "completed"
    },
    "tags": []
   },
   "outputs": [
    {
     "data": {
      "text/plain": [
       "<AxesSubplot:title={'center':'Per Domain Validation Accuracy'}, xlabel='domain'>"
      ]
     },
     "execution_count": 27,
     "metadata": {},
     "output_type": "execute_result"
    },
    {
     "data": {
      "image/png": "[encoded data removed]",
      "text/plain": [
       "<Figure size 1080x504 with 1 Axes>"
      ]
     },
     "metadata": {
      "needs_background": "light"
     },
     "output_type": "display_data"
    }
   ],
   "source": [
    "get_domain_accuracies(experiment)"
   ]
  },
  {
   "cell_type": "code",
   "execution_count": 28,
   "id": "a74ae082",
   "metadata": {
    "execution": {
     "iopub.execute_input": "2022-03-21T03:59:08.075667Z",
     "iopub.status.busy": "2022-03-21T03:59:08.075269Z",
     "iopub.status.idle": "2022-03-21T03:59:08.101873Z",
     "shell.execute_reply": "2022-03-21T03:59:08.101060Z"
    },
    "papermill": {
     "duration": 0.068092,
     "end_time": "2022-03-21T03:59:08.102030",
     "exception": false,
     "start_time": "2022-03-21T03:59:08.033938",
     "status": "completed"
    },
    "tags": []
   },
   "outputs": [
    {
     "name": "stdout",
     "output_type": "stream",
     "text": [
      "Source Test Label Accuracy: 0.9575447238786622 Target Test Label Accuracy: 0.9774137931034482\n",
      "Source Val Label Accuracy: 0.956963900862069 Target Val Label Accuracy: 0.9762931034482759\n"
     ]
    }
   ],
   "source": [
    "print(\"Source Test Label Accuracy:\", experiment[\"results\"][\"source_test_label_accuracy\"], \"Target Test Label Accuracy:\", experiment[\"results\"][\"target_test_label_accuracy\"])\n",
    "print(\"Source Val Label Accuracy:\", experiment[\"results\"][\"source_val_label_accuracy\"], \"Target Val Label Accuracy:\", experiment[\"results\"][\"target_val_label_accuracy\"])"
   ]
  },
  {
   "cell_type": "code",
   "execution_count": 29,
   "id": "dacca602",
   "metadata": {
    "execution": {
     "iopub.execute_input": "2022-03-21T03:59:08.185929Z",
     "iopub.status.busy": "2022-03-21T03:59:08.185374Z",
     "iopub.status.idle": "2022-03-21T03:59:08.213453Z",
     "shell.execute_reply": "2022-03-21T03:59:08.214129Z"
    },
    "papermill": {
     "duration": 0.069865,
     "end_time": "2022-03-21T03:59:08.214311",
     "exception": false,
     "start_time": "2022-03-21T03:59:08.144446",
     "status": "completed"
    },
    "tags": [
     "experiment_json"
    ]
   },
   "outputs": [
    {
     "data": {
      "text/plain": [
       "'{\"experiment_name\": \"tl_1v2:cores-wisig\", \"parameters\": {\"experiment_name\": \"tl_1v2:cores-wisig\", \"device\": \"cuda\", \"lr\": 0.0001, \"n_shot\": 3, \"n_query\": 2, \"train_k_factor\": 3, \"val_k_factor\": 2, \"test_k_factor\": 2, \"torch_default_dtype\": \"torch.float32\", \"n_epoch\": 3, \"patience\": 3, \"criteria_for_best\": \"target_accuracy\", \"x_net\": [{\"class\": \"nnReshape\", \"kargs\": {\"shape\": [-1, 1, 2, 256]}}, {\"class\": \"Conv2d\", \"kargs\": {\"in_channels\": 1, \"out_channels\": 256, \"kernel_size\": [1, 7], \"bias\": false, \"padding\": [0, 3]}}, {\"class\": \"ReLU\", \"kargs\": {\"inplace\": true}}, {\"class\": \"BatchNorm2d\", \"kargs\": {\"num_features\": 256}}, {\"class\": \"Conv2d\", \"kargs\": {\"in_channels\": 256, \"out_channels\": 80, \"kernel_size\": [2, 7], \"bias\": true, \"padding\": [0, 3]}}, {\"class\": \"ReLU\", \"kargs\": {\"inplace\": true}}, {\"class\": \"BatchNorm2d\", \"kargs\": {\"num_features\": 80}}, {\"class\": \"Flatten\", \"kargs\": {}}, {\"class\": \"Linear\", \"kargs\": {\"in_features\": 20480, \"out_features\": 256}}, {\"class\": \"ReLU\", \"kargs\": {\"inplace\": true}}, {\"class\": \"BatchNorm1d\", \"kargs\": {\"num_features\": 256}}, {\"class\": \"Linear\", \"kargs\": {\"in_features\": 256, \"out_features\": 256}}], \"NUM_LOGS_PER_EPOCH\": 10, \"BEST_MODEL_PATH\": \"./best_model.pth\", \"n_way\": 58, \"datasets\": [{\"labels\": [\"1-10.\", \"1-11.\", \"1-15.\", \"1-16.\", \"1-17.\", \"1-18.\", \"1-19.\", \"10-4.\", \"10-7.\", \"11-1.\", \"11-14.\", \"11-17.\", \"11-20.\", \"11-7.\", \"13-20.\", \"13-8.\", \"14-10.\", \"14-11.\", \"14-14.\", \"14-7.\", \"15-1.\", \"15-20.\", \"16-1.\", \"16-16.\", \"17-10.\", \"17-11.\", \"17-2.\", \"19-1.\", \"19-16.\", \"19-19.\", \"19-20.\", \"19-3.\", \"2-10.\", \"2-11.\", \"2-17.\", \"2-18.\", \"2-20.\", \"2-3.\", \"2-4.\", \"2-5.\", \"2-6.\", \"2-7.\", \"2-8.\", \"3-13.\", \"3-18.\", \"3-3.\", \"4-1.\", \"4-10.\", \"4-11.\", \"4-19.\", \"5-5.\", \"6-15.\", \"7-10.\", \"7-14.\", \"8-18.\", \"8-20.\", \"8-3.\", \"8-8.\"], \"domains\": [1, 2, 3, 4, 5], \"num_examples_per_domain_per_label\": -1, \"pickle_path\": \"/root/csc500-main/datasets/cores.stratified_ds.2022A.pkl\", \"source_or_target_dataset\": \"target\", \"x_transforms\": [], \"episode_transforms\": [], \"domain_prefix\": \"CORES_\"}, {\"labels\": [\"1-10\", \"1-12\", \"1-14\", \"1-16\", \"1-18\", \"1-19\", \"1-8\", \"10-11\", \"10-17\", \"10-4\", \"10-7\", \"11-1\", \"11-10\", \"11-19\", \"11-20\", \"11-4\", \"11-7\", \"12-19\", \"12-20\", \"12-7\", \"13-14\", \"13-18\", \"13-19\", \"13-20\", \"13-3\", \"13-7\", \"14-10\", \"14-11\", \"14-12\", \"14-13\", \"14-14\", \"14-19\", \"14-20\", \"14-7\", \"14-8\", \"14-9\", \"15-1\", \"15-19\", \"15-6\", \"16-1\", \"16-16\", \"16-19\", \"16-20\", \"17-10\", \"17-11\", \"18-1\", \"18-10\", \"18-11\", \"18-12\", \"18-13\", \"18-14\", \"18-15\", \"18-16\", \"18-17\", \"18-19\", \"18-2\", \"18-20\", \"18-4\", \"18-5\", \"18-7\", \"18-8\", \"18-9\", \"19-1\", \"19-10\", \"19-11\", \"19-12\", \"19-13\", \"19-14\", \"19-15\", \"19-19\", \"19-2\", \"19-20\", \"19-3\", \"19-4\", \"19-6\", \"19-7\", \"19-8\", \"19-9\", \"2-1\", \"2-13\", \"2-15\", \"2-3\", \"2-4\", \"2-5\", \"2-6\", \"2-7\", \"2-8\", \"20-1\", \"20-12\", \"20-14\", \"20-15\", \"20-16\", \"20-18\", \"20-19\", \"20-20\", \"20-3\", \"20-4\", \"20-5\", \"20-7\", \"20-8\", \"3-1\", \"3-13\", \"3-18\", \"3-2\", \"3-8\", \"4-1\", \"4-10\", \"4-11\", \"5-1\", \"5-5\", \"6-1\", \"6-15\", \"6-6\", \"7-10\", \"7-11\", \"7-12\", \"7-13\", \"7-14\", \"7-7\", \"7-8\", \"7-9\", \"8-1\", \"8-13\", \"8-14\", \"8-18\", \"8-20\", \"8-3\", \"8-8\", \"9-1\", \"9-7\"], \"domains\": [1, 2, 3, 4], \"num_examples_per_domain_per_label\": -1, \"pickle_path\": \"/root/csc500-main/datasets/wisig.node3-19.stratified_ds.2022A.pkl\", \"source_or_target_dataset\": \"source\", \"x_transforms\": [], \"episode_transforms\": [], \"domain_prefix\": \"Wisig_\"}], \"dataset_seed\": 7, \"seed\": 7, \"x_shape\": [2, 256], \"domains_source\": [\"Wisig_1\", \"Wisig_2\", \"Wisig_3\", \"Wisig_4\"], \"domains_target\": [\"CORES_1\", \"CORES_2\", \"CORES_3\", \"CORES_4\", \"CORES_5\"]}, \"results\": {\"source_test_label_accuracy\": 0.9575447238786622, \"source_test_label_loss\": 0.24787455797195435, \"target_test_label_accuracy\": 0.9774137931034482, \"target_test_label_loss\": 0.18784920871257782, \"source_val_label_accuracy\": 0.956963900862069, \"source_val_label_loss\": 0.2483471930027008, \"target_val_label_accuracy\": 0.9762931034482759, \"target_val_label_loss\": 0.18790319561958313, \"total_epochs_trained\": 3, \"total_experiment_time_secs\": 292.0653612613678, \"confusion\": {\"Wisig_4\": {\"57\": {\"57\": 16}, \"125\": {\"125\": 41, \"78\": 1}, \"63\": {\"63\": 16}, \"71\": {\"71\": 38}, \"116\": {\"116\": 28}, \"52\": {\"52\": 20}, \"0\": {\"0\": 38, \"101\": 1, \"21\": 3}, \"69\": {\"69\": 42}, \"105\": {\"105\": 39, \"78\": 1, \"21\": 2, \"122\": 1, \"88\": 1}, \"43\": {\"43\": 44, \"109\": 1, \"23\": 1}, \"4\": {\"4\": 36}, \"5\": {\"5\": 39, \"23\": 1}, \"44\": {\"44\": 44}, \"24\": {\"24\": 23, \"97\": 4, \"51\": 1, \"70\": 1, \"10\": 1}, \"107\": {\"107\": 34, \"78\": 1, \"40\": 1}, \"26\": {\"26\": 36, \"78\": 1, \"23\": 1, \"40\": 1, \"69\": 1}, \"90\": {\"90\": 38}, \"100\": {\"100\": 20}, \"18\": {\"23\": 1, \"18\": 40, \"84\": 1}, \"72\": {\"72\": 31, \"36\": 1}, \"81\": {\"81\": 30, \"78\": 2, \"83\": 1, \"21\": 1}, \"96\": {\"28\": 3, \"96\": 15, \"82\": 1, \"59\": 1}, \"37\": {\"37\": 15, \"55\": 1}, \"67\": {\"123\": 1, \"67\": 13, \"63\": 1, \"45\": 1}, \"76\": {\"76\": 15, \"59\": 1}, \"108\": {\"108\": 38, \"94\": 1, \"72\": 1, \"88\": 1, \"42\": 1}, \"50\": {\"50\": 16}, \"10\": {\"10\": 28, \"23\": 1, \"70\": 1, \"21\": 1, \"24\": 1}, \"126\": {\"126\": 31, \"39\": 1}, \"109\": {\"109\": 38}, \"84\": {\"84\": 37, \"21\": 1}, \"99\": {\"99\": 39, \"21\": 1}, \"17\": {\"17\": 20}, \"129\": {\"129\": 28}, \"111\": {\"111\": 33, \"122\": 1}, \"13\": {\"13\": 15, \"72\": 1}, \"75\": {\"75\": 16}, \"65\": {\"65\": 12}, \"112\": {\"112\": 16}, \"120\": {\"120\": 20}, \"97\": {\"10\": 1, \"97\": 18, \"51\": 1}, \"123\": {\"123\": 16}, \"32\": {\"32\": 24}, \"70\": {\"70\": 32, \"61\": 1, \"4\": 1, \"88\": 1, \"71\": 1}, \"104\": {\"104\": 16}, \"121\": {\"121\": 31, \"63\": 1}, \"113\": {\"113\": 42}, \"85\": {\"85\": 25, \"21\": 2, \"51\": 1}, \"53\": {\"53\": 16}, \"23\": {\"23\": 4, \"5\": 1, \"110\": 2, \"3\": 1, \"51\": 1, \"121\": 1, \"11\": 2, \"35\": 1, \"12\": 1, \"21\": 2}, \"59\": {\"59\": 8, \"21\": 1, \"51\": 1, \"41\": 1, \"111\": 1}, \"45\": {\"45\": 16}, \"58\": {\"58\": 15, \"75\": 1}, \"42\": {\"42\": 28}, \"28\": {\"28\": 20}, \"47\": {\"47\": 8, \"88\": 1, \"35\": 1, \"68\": 2}, \"11\": {\"11\": 46}, \"101\": {\"101\": 38}, \"95\": {\"95\": 29, \"127\": 1}, \"86\": {\"86\": 28}, \"19\": {\"19\": 23, \"126\": 1}, \"55\": {\"55\": 16}, \"20\": {\"20\": 14, \"46\": 1, \"83\": 1}, \"118\": {\"118\": 30, \"21\": 2}, \"36\": {\"36\": 38, \"21\": 3, \"24\": 1}, \"21\": {\"21\": 36, \"42\": 1, \"78\": 1}, \"39\": {\"39\": 36, \"21\": 2}, \"29\": {\"29\": 30, \"77\": 1, \"21\": 1}, \"122\": {\"122\": 40, \"23\": 1, \"82\": 1}, \"68\": {\"68\": 16}, \"114\": {\"88\": 1, \"114\": 34, \"21\": 2, \"113\": 1}, \"12\": {\"12\": 33, \"122\": 1}, \"64\": {\"64\": 15, \"88\": 1}, \"94\": {\"94\": 30, \"36\": 1, \"88\": 1}, \"27\": {\"21\": 1, \"27\": 28, \"95\": 1}, \"117\": {\"117\": 35, \"18\": 1}, \"8\": {\"8\": 32}, \"33\": {\"33\": 36}, \"80\": {\"80\": 16}, \"35\": {\"35\": 11, \"23\": 1}, \"54\": {\"54\": 16}, \"25\": {\"25\": 12}, \"87\": {\"40\": 1, \"87\": 32, \"43\": 1}, \"74\": {\"74\": 13, \"40\": 1, \"21\": 1, \"88\": 1}, \"93\": {\"93\": 36}, \"40\": {\"40\": 32, \"11\": 1, \"108\": 1}, \"88\": {\"88\": 36, \"70\": 1, \"21\": 1}, \"1\": {\"1\": 36, \"114\": 2, \"10\": 1, \"107\": 1, \"21\": 1, \"78\": 1}, \"66\": {\"66\": 15, \"90\": 1}, \"15\": {\"15\": 40}, \"78\": {\"78\": 28, \"66\": 1, \"21\": 5, \"43\": 1, \"88\": 1}, \"73\": {\"73\": 21, \"28\": 1, \"46\": 1, \"86\": 1}, \"60\": {\"60\": 32}, \"115\": {\"115\": 14, \"22\": 2}, \"3\": {\"3\": 44}, \"38\": {\"38\": 16}, \"102\": {\"102\": 39, \"28\": 1}, \"2\": {\"2\": 28}, \"51\": {\"51\": 11, \"25\": 1, \"12\": 1, \"52\": 1, \"78\": 1, \"21\": 1}, \"89\": {\"89\": 31, \"21\": 1}, \"106\": {\"106\": 33, \"88\": 1}, \"124\": {\"124\": 46}, \"9\": {\"9\": 28}, \"22\": {\"22\": 16}, \"79\": {\"79\": 16}, \"6\": {\"6\": 24}, \"34\": {\"34\": 31, \"29\": 1}, \"91\": {\"91\": 24}, \"61\": {\"61\": 15, \"35\": 1}, \"110\": {\"110\": 33, \"78\": 1, \"40\": 1, \"21\": 1}, \"127\": {\"127\": 37, \"23\": 1}, \"77\": {\"77\": 12}, \"31\": {\"31\": 16}, \"30\": {\"30\": 30}, \"98\": {\"98\": 29, \"111\": 1}, \"49\": {\"49\": 31, \"121\": 1}, \"7\": {\"7\": 32}, \"92\": {\"92\": 28}, \"46\": {\"92\": 1, \"46\": 16, \"50\": 1, \"73\": 1, \"83\": 1}, \"119\": {\"119\": 15, \"23\": 1}, \"103\": {\"103\": 15, \"124\": 1}, \"16\": {\"16\": 32}, \"62\": {\"62\": 36}, \"56\": {\"56\": 12}, \"14\": {\"14\": 36}, \"41\": {\"41\": 15, \"78\": 1}, \"128\": {\"128\": 24}, \"83\": {\"83\": 25, \"51\": 1}, \"48\": {\"48\": 15, \"88\": 1}, \"82\": {\"82\": 24}}, \"Wisig_1\": {\"76\": {\"76\": 16}, \"55\": {\"55\": 12}, \"89\": {\"89\": 27, \"4\": 1}, \"19\": {\"19\": 28}, \"124\": {\"124\": 42}, \"97\": {\"97\": 19, \"45\": 1}, \"21\": {\"21\": 39, \"70\": 1}, \"45\": {\"45\": 7, \"78\": 2, \"86\": 3}, \"6\": {\"6\": 32}, \"105\": {\"105\": 36, \"40\": 2}, \"117\": {\"117\": 37, \"78\": 1}, \"37\": {\"37\": 16}, \"11\": {\"11\": 38}, \"88\": {\"88\": 34}, \"90\": {\"90\": 36}, \"74\": {\"74\": 16}, \"52\": {\"52\": 20}, \"92\": {\"92\": 28}, \"128\": {\"128\": 23, \"54\": 1}, \"59\": {\"59\": 12}, \"98\": {\"98\": 42}, \"82\": {\"82\": 28}, \"32\": {\"32\": 32}, \"94\": {\"94\": 36}, \"125\": {\"125\": 38}, \"78\": {\"78\": 13, \"43\": 1, \"105\": 1, \"69\": 1}, \"118\": {\"118\": 37, \"84\": 1}, \"129\": {\"129\": 26, \"33\": 1, \"94\": 1}, \"91\": {\"91\": 28}, \"22\": {\"22\": 14, \"30\": 1, \"116\": 1}, \"15\": {\"15\": 27, \"94\": 1, \"21\": 1, \"87\": 1}, \"87\": {\"87\": 37, \"43\": 1}, \"66\": {\"66\": 16}, \"30\": {\"30\": 36, \"107\": 2}, \"46\": {\"124\": 2, \"46\": 6, \"86\": 2, \"17\": 2}, \"112\": {\"112\": 16}, \"28\": {\"28\": 20}, \"123\": {\"123\": 16}, \"12\": {\"12\": 37, \"23\": 1, \"109\": 1, \"21\": 1, \"106\": 2}, \"16\": {\"16\": 38}, \"36\": {\"36\": 31, \"21\": 1}, \"108\": {\"108\": 30}, \"29\": {\"29\": 28}, \"116\": {\"116\": 32}, \"72\": {\"72\": 32}, \"26\": {\"26\": 34}, \"17\": {\"17\": 12, \"0\": 1, \"83\": 1, \"103\": 1, \"119\": 1}, \"43\": {\"43\": 35, \"78\": 1, \"122\": 1, \"84\": 1}, \"120\": {\"120\": 20}, \"68\": {\"68\": 16}, \"50\": {\"50\": 14, \"91\": 1, \"75\": 1}, \"56\": {\"56\": 10, \"123\": 1, \"121\": 1}, \"85\": {\"85\": 32}, \"10\": {\"10\": 34}, \"3\": {\"3\": 23, \"70\": 1}, \"54\": {\"54\": 16}, \"9\": {\"9\": 31, \"21\": 1}, \"7\": {\"7\": 34}, \"115\": {\"115\": 12}, \"96\": {\"96\": 19, \"67\": 1}, \"102\": {\"102\": 29, \"21\": 1}, \"104\": {\"104\": 15, \"55\": 1}, \"47\": {\"47\": 12}, \"86\": {\"86\": 35, \"70\": 1}, \"103\": {\"103\": 16}, \"8\": {\"8\": 42}, \"14\": {\"14\": 34}, \"39\": {\"39\": 27, \"21\": 1}, \"57\": {\"57\": 11, \"55\": 1}, \"63\": {\"63\": 16}, \"106\": {\"106\": 33, \"30\": 1, \"12\": 1, \"21\": 1}, \"127\": {\"127\": 42, \"21\": 2}, \"51\": {\"51\": 16}, \"27\": {\"27\": 42}, \"5\": {\"5\": 34}, \"4\": {\"4\": 38}, \"58\": {\"58\": 12}, \"44\": {\"44\": 36}, \"121\": {\"121\": 31, \"50\": 1}, \"111\": {\"111\": 36}, \"60\": {\"34\": 4, \"60\": 12}, \"53\": {\"53\": 20}, \"62\": {\"62\": 44}, \"77\": {\"77\": 15, \"119\": 1}, \"40\": {\"40\": 39, \"105\": 3}, \"84\": {\"84\": 39, \"39\": 1}, \"73\": {\"73\": 18, \"21\": 2}, \"34\": {\"34\": 32}, \"81\": {\"81\": 28}, \"67\": {\"67\": 16}, \"70\": {\"70\": 26}, \"113\": {\"113\": 38}, \"75\": {\"75\": 16}, \"13\": {\"13\": 16}, \"0\": {\"0\": 34}, \"114\": {\"114\": 38}, \"109\": {\"109\": 44}, \"23\": {\"23\": 19, \"110\": 2, \"87\": 1, \"21\": 1, \"60\": 1}, \"71\": {\"71\": 32}, \"110\": {\"110\": 26}, \"25\": {\"25\": 16}, \"35\": {\"35\": 12}, \"126\": {\"126\": 38}, \"101\": {\"101\": 44}, \"42\": {\"42\": 26}, \"64\": {\"64\": 15, \"115\": 1}, \"33\": {\"33\": 36}, \"65\": {\"65\": 10, \"61\": 1, \"63\": 1}, \"69\": {\"69\": 38}, \"100\": {\"100\": 15, \"99\": 1}, \"80\": {\"80\": 16}, \"20\": {\"20\": 16}, \"18\": {\"18\": 36}, \"31\": {\"31\": 16}, \"24\": {\"24\": 37, \"39\": 1, \"88\": 2, \"43\": 1, \"21\": 1}, \"95\": {\"95\": 32}, \"119\": {\"119\": 15, \"72\": 1}, \"49\": {\"49\": 20}, \"61\": {\"61\": 11, \"107\": 1}, \"48\": {\"48\": 12}, \"38\": {\"38\": 16}, \"93\": {\"93\": 32}, \"79\": {\"79\": 12}, \"41\": {\"41\": 16}, \"83\": {\"83\": 22, \"21\": 2, \"89\": 1, \"121\": 1}, \"122\": {\"122\": 38}, \"1\": {\"1\": 33, \"109\": 1}, \"2\": {\"2\": 31, \"21\": 1}, \"107\": {\"107\": 32, \"68\": 2}, \"99\": {\"99\": 24}}, \"Wisig_2\": {\"67\": {\"67\": 15, \"40\": 1}, \"53\": {\"53\": 14, \"24\": 2}, \"7\": {\"7\": 44}, \"90\": {\"90\": 50}, \"30\": {\"30\": 45, \"99\": 1, \"107\": 1, \"36\": 1}, \"12\": {\"12\": 42, \"21\": 2}, \"16\": {\"16\": 40, \"93\": 1, \"21\": 2, \"102\": 1, \"122\": 2}, \"71\": {\"71\": 42, \"27\": 1, \"88\": 1, \"122\": 1, \"21\": 1}, \"96\": {\"96\": 20}, \"95\": {\"95\": 34}, \"27\": {\"27\": 39, \"109\": 1, \"36\": 10, \"24\": 2, \"110\": 1, \"21\": 1}, \"86\": {\"86\": 32}, \"32\": {\"74\": 1, \"32\": 34, \"76\": 1}, \"42\": {\"42\": 27, \"107\": 1}, \"14\": {\"14\": 32, \"21\": 4, \"40\": 1, \"24\": 1}, \"74\": {\"74\": 16}, \"97\": {\"97\": 19, \"15\": 1}, \"69\": {\"69\": 47, \"24\": 1}, \"25\": {\"25\": 15, \"83\": 1}, \"48\": {\"48\": 20}, \"73\": {\"73\": 28}, \"119\": {\"119\": 20}, \"51\": {\"58\": 1, \"51\": 16, \"26\": 2, \"75\": 1}, \"52\": {\"52\": 20}, \"35\": {\"35\": 12}, \"120\": {\"120\": 20}, \"8\": {\"8\": 45, \"14\": 1}, \"61\": {\"61\": 19, \"21\": 1}, \"59\": {\"59\": 14, \"21\": 2}, \"115\": {\"115\": 8, \"95\": 1, \"24\": 1, \"88\": 2}, \"127\": {\"127\": 34}, \"31\": {\"31\": 20}, \"33\": {\"33\": 42}, \"124\": {\"124\": 37, \"27\": 1}, \"58\": {\"58\": 20}, \"89\": {\"89\": 36}, \"62\": {\"62\": 34, \"95\": 1, \"21\": 1, \"118\": 1, \"24\": 1}, \"91\": {\"91\": 25, \"42\": 1, \"61\": 1, \"123\": 1}, \"104\": {\"104\": 17, \"109\": 1, \"21\": 2}, \"64\": {\"64\": 16}, \"63\": {\"63\": 20}, \"5\": {\"5\": 41, \"21\": 2, \"122\": 1}, \"92\": {\"92\": 27, \"89\": 1}, \"2\": {\"2\": 32}, \"109\": {\"109\": 37, \"70\": 5, \"39\": 3, \"78\": 1}, \"118\": {\"118\": 42, \"21\": 2, \"105\": 3, \"24\": 1}, \"34\": {\"34\": 32}, \"55\": {\"55\": 16}, \"11\": {\"11\": 43, \"108\": 2, \"21\": 1}, \"70\": {\"70\": 48, \"109\": 2, \"69\": 1, \"88\": 2, \"78\": 1}, \"98\": {\"98\": 50}, \"20\": {\"20\": 16}, \"49\": {\"73\": 1, \"109\": 1, \"49\": 19, \"98\": 2, \"34\": 1}, \"28\": {\"28\": 20}, \"22\": {\"22\": 20}, \"87\": {\"87\": 42, \"109\": 1, \"69\": 1, \"39\": 1, \"21\": 1, \"26\": 1, \"43\": 1}, \"45\": {\"45\": 15, \"82\": 1}, \"57\": {\"57\": 20}, \"72\": {\"72\": 27, \"69\": 1}, \"77\": {\"77\": 15, \"88\": 1}, \"113\": {\"113\": 37, \"110\": 1}, \"6\": {\"6\": 32}, \"26\": {\"26\": 53, \"21\": 1}, \"44\": {\"44\": 40, \"27\": 1, \"21\": 1}, \"46\": {\"46\": 15, \"21\": 1}, \"65\": {\"65\": 18, \"39\": 1, \"21\": 1}, \"84\": {\"84\": 42, \"23\": 1, \"21\": 1}, \"39\": {\"39\": 26, \"109\": 9, \"24\": 1, \"26\": 1, \"40\": 1, \"114\": 1, \"21\": 1}, \"82\": {\"82\": 35, \"21\": 1}, \"108\": {\"108\": 34}, \"21\": {\"40\": 1, \"21\": 43, \"27\": 1, \"70\": 1}, \"29\": {\"29\": 32}, \"13\": {\"13\": 15, \"88\": 1}, \"17\": {\"17\": 13, \"40\": 1, \"95\": 1, \"21\": 1}, \"88\": {\"88\": 38, \"110\": 1, \"24\": 1}, \"1\": {\"1\": 36, \"109\": 1, \"21\": 1}, \"112\": {\"112\": 16}, \"24\": {\"24\": 40, \"21\": 2}, \"102\": {\"102\": 48}, \"66\": {\"66\": 17, \"22\": 1, \"72\": 1, \"88\": 1}, \"114\": {\"114\": 43, \"61\": 1}, \"40\": {\"40\": 41, \"24\": 1, \"103\": 1, \"95\": 1}, \"4\": {\"4\": 49, \"21\": 1}, \"100\": {\"100\": 14, \"61\": 1, \"83\": 1}, \"129\": {\"129\": 29, \"73\": 3}, \"19\": {\"19\": 28}, \"81\": {\"81\": 21, \"32\": 1, \"107\": 1, \"61\": 1}, \"125\": {\"125\": 37, \"48\": 1}, \"93\": {\"93\": 52}, \"101\": {\"101\": 43, \"83\": 1}, \"3\": {\"3\": 41, \"21\": 1}, \"56\": {\"56\": 12}, \"126\": {\"126\": 44}, \"38\": {\"38\": 16}, \"105\": {\"105\": 43, \"21\": 1, \"88\": 1, \"26\": 1}, \"41\": {\"41\": 20}, \"106\": {\"106\": 41, \"24\": 1, \"116\": 1, \"21\": 1}, \"76\": {\"76\": 16}, \"36\": {\"27\": 6, \"36\": 45, \"21\": 3, \"17\": 1, \"107\": 1}, \"78\": {\"78\": 33, \"21\": 1, \"70\": 2}, \"99\": {\"99\": 30, \"69\": 2}, \"0\": {\"0\": 34}, \"107\": {\"107\": 35, \"21\": 1}, \"111\": {\"111\": 40}, \"68\": {\"68\": 15, \"70\": 1}, \"60\": {\"60\": 28}, \"15\": {\"15\": 39, \"21\": 1, \"107\": 1, \"106\": 1}, \"50\": {\"107\": 1, \"50\": 14, \"21\": 1}, \"79\": {\"79\": 16}, \"94\": {\"94\": 31, \"69\": 1, \"21\": 4, \"82\": 1, \"107\": 1}, \"128\": {\"128\": 21, \"114\": 2, \"9\": 1}, \"103\": {\"103\": 16}, \"47\": {\"47\": 11, \"77\": 1}, \"37\": {\"37\": 16}, \"85\": {\"85\": 28, \"42\": 1, \"21\": 2, \"24\": 1}, \"121\": {\"121\": 36}, \"54\": {\"54\": 19, \"17\": 1}, \"18\": {\"18\": 41, \"122\": 1}, \"116\": {\"116\": 27, \"21\": 1}, \"122\": {\"122\": 38, \"110\": 2, \"21\": 1, \"43\": 1}, \"117\": {\"117\": 43, \"21\": 1}, \"10\": {\"10\": 38, \"21\": 1, \"78\": 1}, \"123\": {\"123\": 16}, \"43\": {\"43\": 38, \"70\": 2, \"21\": 1, \"30\": 1}, \"83\": {\"83\": 38, \"19\": 1, \"121\": 1}, \"23\": {\"23\": 33, \"87\": 1, \"110\": 1, \"43\": 1, \"8\": 1, \"107\": 1}, \"80\": {\"80\": 16}, \"110\": {\"110\": 27, \"121\": 1, \"107\": 2, \"27\": 1, \"122\": 2, \"30\": 1}, \"75\": {\"75\": 16}, \"9\": {\"9\": 31, \"102\": 1}}, \"Wisig_3\": {\"96\": {\"96\": 20}, \"11\": {\"11\": 47, \"108\": 1}, \"87\": {\"87\": 36}, \"128\": {\"128\": 32}, \"56\": {\"56\": 12}, \"39\": {\"39\": 44}, \"58\": {\"58\": 14, \"56\": 1, \"6\": 1}, \"15\": {\"15\": 38}, \"70\": {\"70\": 33, \"21\": 4, \"88\": 1}, \"103\": {\"103\": 15, \"120\": 1}, \"77\": {\"77\": 16}, \"85\": {\"85\": 32}, \"59\": {\"59\": 11, \"15\": 1}, \"28\": {\"28\": 15, \"21\": 1}, \"118\": {\"118\": 40}, \"25\": {\"25\": 16}, \"93\": {\"93\": 42}, \"102\": {\"102\": 36}, \"33\": {\"33\": 40, \"29\": 1, \"21\": 1}, \"84\": {\"84\": 32, \"21\": 1, \"120\": 1}, \"119\": {\"119\": 15, \"86\": 1}, \"64\": {\"64\": 20}, \"100\": {\"100\": 16}, \"27\": {\"27\": 28, \"24\": 5, \"36\": 3}, \"107\": {\"107\": 34}, \"76\": {\"76\": 15, \"67\": 1}, \"12\": {\"12\": 48}, \"31\": {\"31\": 20}, \"44\": {\"44\": 42}, \"48\": {\"48\": 13, \"116\": 2, \"86\": 1}, \"115\": {\"115\": 15, \"78\": 1}, \"0\": {\"0\": 40}, \"116\": {\"116\": 26}, \"24\": {\"24\": 38, \"27\": 2}, \"81\": {\"81\": 32}, \"122\": {\"122\": 36, \"21\": 2}, \"19\": {\"19\": 31, \"85\": 1}, \"90\": {\"90\": 36}, \"22\": {\"22\": 16}, \"16\": {\"16\": 37, \"88\": 1}, \"68\": {\"68\": 16}, \"18\": {\"18\": 50}, \"120\": {\"120\": 19, \"116\": 1}, \"127\": {\"127\": 41, \"21\": 2, \"23\": 1}, \"35\": {\"35\": 12}, \"45\": {\"45\": 15, \"21\": 1}, \"30\": {\"30\": 38, \"48\": 1, \"21\": 1}, \"67\": {\"67\": 14, \"121\": 1, \"70\": 1}, \"129\": {\"129\": 32}, \"105\": {\"105\": 42}, \"74\": {\"74\": 13, \"57\": 1, \"50\": 1, \"61\": 1}, \"125\": {\"125\": 34}, \"37\": {\"37\": 16}, \"91\": {\"91\": 24}, \"123\": {\"123\": 16}, \"7\": {\"7\": 32}, \"75\": {\"75\": 16}, \"83\": {\"83\": 24}, \"94\": {\"94\": 33, \"106\": 2, \"70\": 1}, \"104\": {\"104\": 16}, \"92\": {\"92\": 31, \"17\": 1}, \"29\": {\"29\": 32}, \"82\": {\"82\": 27, \"86\": 1}, \"113\": {\"113\": 41, \"21\": 3}, \"6\": {\"6\": 32}, \"32\": {\"32\": 32}, \"79\": {\"79\": 12}, \"36\": {\"36\": 30, \"24\": 1, \"27\": 2, \"21\": 1}, \"98\": {\"98\": 36}, \"1\": {\"1\": 32, \"61\": 1, \"23\": 1}, \"14\": {\"14\": 42}, \"66\": {\"66\": 16}, \"117\": {\"117\": 36}, \"17\": {\"17\": 10, \"21\": 3, \"13\": 1, \"126\": 1, \"86\": 1}, \"49\": {\"49\": 20, \"83\": 1, \"8\": 1, \"73\": 1, \"56\": 1}, \"46\": {\"19\": 1, \"46\": 15}, \"111\": {\"111\": 34}, \"78\": {\"17\": 1, \"78\": 13, \"21\": 2}, \"26\": {\"26\": 41, \"21\": 1}, \"42\": {\"42\": 28}, \"10\": {\"10\": 46}, \"9\": {\"9\": 28, \"86\": 1, \"116\": 1}, \"55\": {\"55\": 16}, \"38\": {\"38\": 16}, \"63\": {\"63\": 16}, \"106\": {\"106\": 39, \"21\": 1}, \"88\": {\"88\": 35, \"70\": 1}, \"3\": {\"3\": 40}, \"99\": {\"99\": 36}, \"57\": {\"57\": 19, \"76\": 1}, \"8\": {\"8\": 41, \"21\": 1}, \"86\": {\"86\": 28}, \"126\": {\"126\": 43, \"39\": 1}, \"5\": {\"5\": 35, \"122\": 1}, \"62\": {\"62\": 42}, \"89\": {\"89\": 28}, \"112\": {\"112\": 14, \"86\": 1, \"17\": 1}, \"61\": {\"61\": 16}, \"13\": {\"13\": 14, \"43\": 1, \"21\": 1}, \"2\": {\"2\": 28}, \"50\": {\"50\": 16}, \"21\": {\"21\": 35, \"86\": 1, \"17\": 4, \"106\": 1, \"88\": 1, \"75\": 1, \"78\": 1}, \"73\": {\"73\": 38}, \"72\": {\"72\": 28}, \"43\": {\"43\": 37, \"39\": 1, \"21\": 1, \"122\": 1}, \"110\": {\"110\": 38, \"21\": 1, \"122\": 1}, \"95\": {\"95\": 30}, \"34\": {\"34\": 32}, \"41\": {\"41\": 15, \"120\": 1}, \"124\": {\"124\": 41, \"29\": 1}, \"114\": {\"114\": 41, \"21\": 1}, \"65\": {\"65\": 11, \"34\": 1}, \"121\": {\"121\": 30, \"17\": 1, \"41\": 1}, \"71\": {\"71\": 40}, \"53\": {\"53\": 18, \"20\": 1, \"46\": 1}, \"52\": {\"52\": 16}, \"40\": {\"40\": 32}, \"80\": {\"80\": 12, \"81\": 1, \"73\": 1, \"84\": 1, \"121\": 1}, \"109\": {\"109\": 36}, \"97\": {\"97\": 15, \"106\": 1, \"42\": 1, \"94\": 1, \"15\": 2}, \"20\": {\"20\": 16}, \"101\": {\"101\": 37, \"78\": 1, \"21\": 2, \"12\": 2}, \"23\": {\"23\": 26, \"12\": 1, \"49\": 1}, \"4\": {\"4\": 38}, \"54\": {\"54\": 14, \"21\": 1, \"75\": 1}, \"108\": {\"108\": 31, \"24\": 1}, \"69\": {\"69\": 33, \"88\": 1}, \"47\": {\"47\": 12}, \"51\": {\"51\": 15, \"91\": 1}, \"60\": {\"60\": 26}}, \"CORES_5\": {\"8\": {\"8\": 20}, \"12\": {\"12\": 20}, \"52\": {\"52\": 20}, \"16\": {\"16\": 20}, \"30\": {\"30\": 20}, \"26\": {\"6\": 1, \"26\": 19}, \"22\": {\"22\": 20}, \"49\": {\"49\": 20}, \"3\": {\"3\": 20}, \"6\": {\"6\": 19, \"45\": 1}, \"45\": {\"45\": 14, \"6\": 6}, \"37\": {\"37\": 20}, \"7\": {\"7\": 20}, \"33\": {\"33\": 19, \"41\": 1}, \"21\": {\"21\": 20}, \"10\": {\"10\": 20}, \"54\": {\"54\": 20}, \"41\": {\"41\": 20}, \"34\": {\"34\": 20}, \"55\": {\"55\": 20}, \"23\": {\"23\": 20}, \"43\": {\"43\": 20}, \"2\": {\"2\": 20}, \"11\": {\"11\": 20}, \"18\": {\"18\": 20}, \"1\": {\"1\": 20}, \"17\": {\"17\": 20}, \"35\": {\"35\": 20}, \"39\": {\"39\": 20}, \"28\": {\"28\": 20}, \"42\": {\"42\": 20}, \"36\": {\"36\": 19, \"33\": 1}, \"56\": {\"56\": 20}, \"38\": {\"38\": 17, \"7\": 3}, \"44\": {\"44\": 20}, \"19\": {\"19\": 20}, \"5\": {\"5\": 20}, \"57\": {\"57\": 20}, \"47\": {\"47\": 20}, \"24\": {\"24\": 20}, \"50\": {\"50\": 19, \"6\": 1}, \"53\": {\"53\": 20}, \"15\": {\"15\": 17, \"11\": 3}, \"31\": {\"31\": 20}, \"48\": {\"48\": 20}, \"40\": {\"40\": 20}, \"32\": {\"32\": 20}, \"46\": {\"46\": 19, \"3\": 1}, \"9\": {\"9\": 19, \"30\": 1}, \"4\": {\"4\": 20}, \"0\": {\"0\": 20}, \"51\": {\"51\": 20}, \"13\": {\"13\": 20}, \"20\": {\"20\": 20}, \"27\": {\"27\": 20}, \"14\": {\"37\": 1, \"13\": 3, \"14\": 9, \"49\": 6, \"57\": 1}, \"29\": {\"29\": 20}, \"25\": {\"25\": 20}}, \"CORES_1\": {\"10\": {\"10\": 24}, \"30\": {\"30\": 24}, \"38\": {\"55\": 1, \"42\": 1, \"38\": 20, \"36\": 2}, \"0\": {\"0\": 24}, \"9\": {\"9\": 24}, \"44\": {\"44\": 24}, \"35\": {\"35\": 24}, \"19\": {\"19\": 24}, \"4\": {\"4\": 24}, \"57\": {\"57\": 24}, \"12\": {\"12\": 24}, \"47\": {\"47\": 24}, \"16\": {\"16\": 24}, \"2\": {\"2\": 24}, \"36\": {\"36\": 24}, \"25\": {\"25\": 24}, \"54\": {\"54\": 24}, \"14\": {\"14\": 16, \"30\": 6, \"2\": 2}, \"24\": {\"24\": 24}, \"27\": {\"27\": 24}, \"48\": {\"48\": 24}, \"50\": {\"50\": 24}, \"51\": {\"51\": 24}, \"29\": {\"29\": 20, \"57\": 4}, \"17\": {\"17\": 24}, \"55\": {\"55\": 24}, \"32\": {\"32\": 24}, \"41\": {\"41\": 22, \"8\": 2}, \"33\": {\"33\": 24}, \"15\": {\"15\": 24}, \"31\": {\"31\": 24}, \"8\": {\"8\": 24}, \"28\": {\"28\": 24}, \"22\": {\"22\": 24}, \"43\": {\"43\": 24}, \"49\": {\"49\": 24}, \"52\": {\"52\": 24}, \"18\": {\"18\": 24}, \"40\": {\"40\": 24}, \"34\": {\"34\": 23, \"33\": 1}, \"45\": {\"45\": 24}, \"42\": {\"42\": 24}, \"7\": {\"7\": 24}, \"5\": {\"5\": 24}, \"56\": {\"56\": 22, \"45\": 2}, \"23\": {\"23\": 24}, \"46\": {\"46\": 24}, \"1\": {\"1\": 24}, \"20\": {\"20\": 24}, \"6\": {\"6\": 24}, \"26\": {\"26\": 24}, \"11\": {\"11\": 24}, \"39\": {\"43\": 4, \"39\": 18, \"47\": 2}, \"21\": {\"21\": 24}, \"3\": {\"3\": 22, \"45\": 2}, \"13\": {\"13\": 24}, \"37\": {\"37\": 24}, \"53\": {\"53\": 24}}, \"CORES_3\": {\"12\": {\"12\": 16}, \"8\": {\"8\": 16}, \"56\": {\"56\": 16}, \"53\": {\"53\": 16}, \"41\": {\"41\": 16}, \"51\": {\"51\": 16}, \"39\": {\"39\": 16}, \"46\": {\"46\": 16}, \"36\": {\"36\": 16}, \"11\": {\"11\": 15, \"15\": 1}, \"10\": {\"10\": 16}, \"48\": {\"48\": 16}, \"22\": {\"22\": 16}, \"21\": {\"21\": 16}, \"40\": {\"40\": 16}, \"47\": {\"47\": 16}, \"23\": {\"23\": 16}, \"45\": {\"45\": 14, \"6\": 2}, \"44\": {\"44\": 16}, \"7\": {\"7\": 16}, \"1\": {\"1\": 16}, \"16\": {\"16\": 16}, \"17\": {\"17\": 16}, \"55\": {\"55\": 15, \"42\": 1}, \"9\": {\"9\": 16}, \"6\": {\"6\": 16}, \"52\": {\"52\": 16}, \"43\": {\"43\": 16}, \"54\": {\"54\": 16}, \"0\": {\"0\": 16}, \"26\": {\"26\": 16}, \"35\": {\"35\": 16}, \"28\": {\"28\": 16}, \"15\": {\"15\": 12, \"11\": 4}, \"57\": {\"57\": 15, \"29\": 1}, \"30\": {\"30\": 16}, \"2\": {\"2\": 16}, \"13\": {\"13\": 16}, \"31\": {\"31\": 16}, \"32\": {\"32\": 16}, \"19\": {\"19\": 16}, \"34\": {\"34\": 16}, \"38\": {\"38\": 16}, \"37\": {\"37\": 16}, \"5\": {\"5\": 16}, \"18\": {\"18\": 16}, \"3\": {\"3\": 16}, \"25\": {\"25\": 16}, \"24\": {\"24\": 16}, \"27\": {\"27\": 16}, \"29\": {\"29\": 15, \"57\": 1}, \"4\": {\"4\": 16}, \"14\": {\"13\": 7, \"0\": 1, \"14\": 8}, \"33\": {\"33\": 16}, \"50\": {\"50\": 13, \"3\": 1, \"46\": 2}, \"49\": {\"49\": 15, \"31\": 1}, \"42\": {\"42\": 15, \"55\": 1}, \"20\": {\"20\": 16}}, \"CORES_4\": {\"40\": {\"40\": 16}, \"12\": {\"12\": 16}, \"30\": {\"30\": 15, \"21\": 1}, \"35\": {\"35\": 16}, \"18\": {\"18\": 16}, \"27\": {\"27\": 16}, \"33\": {\"33\": 16}, \"21\": {\"21\": 16}, \"54\": {\"54\": 16}, \"41\": {\"41\": 16}, \"44\": {\"44\": 16}, \"32\": {\"32\": 14, \"7\": 2}, \"45\": {\"45\": 16}, \"49\": {\"49\": 16}, \"16\": {\"16\": 16}, \"51\": {\"51\": 16}, \"9\": {\"9\": 16}, \"39\": {\"39\": 16}, \"1\": {\"1\": 15, \"0\": 1}, \"47\": {\"47\": 16}, \"31\": {\"31\": 16}, \"8\": {\"8\": 16}, \"17\": {\"17\": 16}, \"25\": {\"25\": 16}, \"11\": {\"11\": 16}, \"2\": {\"2\": 16}, \"19\": {\"19\": 16}, \"57\": {\"57\": 16}, \"6\": {\"6\": 16}, \"14\": {\"14\": 6, \"19\": 4, \"2\": 3, \"37\": 1, \"29\": 1, \"1\": 1}, \"42\": {\"42\": 16}, \"7\": {\"32\": 1, \"7\": 15}, \"34\": {\"34\": 13, \"23\": 1, \"28\": 2}, \"5\": {\"5\": 16}, \"20\": {\"20\": 16}, \"53\": {\"53\": 16}, \"24\": {\"24\": 16}, \"43\": {\"43\": 16}, \"50\": {\"50\": 16}, \"23\": {\"23\": 14, \"34\": 2}, \"26\": {\"26\": 16}, \"0\": {\"0\": 16}, \"13\": {\"13\": 16}, \"52\": {\"52\": 16}, \"29\": {\"29\": 14, \"57\": 2}, \"55\": {\"55\": 16}, \"48\": {\"48\": 16}, \"4\": {\"4\": 16}, \"38\": {\"38\": 16}, \"46\": {\"46\": 16}, \"3\": {\"3\": 14, \"50\": 2}, \"36\": {\"36\": 16}, \"10\": {\"10\": 16}, \"56\": {\"56\": 16}, \"37\": {\"37\": 16}, \"15\": {\"15\": 14, \"11\": 2}, \"28\": {\"28\": 15, \"34\": 1}, \"22\": {\"22\": 16}}, \"CORES_2\": {\"13\": {\"13\": 20}, \"28\": {\"28\": 20}, \"32\": {\"32\": 20}, \"26\": {\"26\": 18, \"54\": 2}, \"24\": {\"24\": 20}, \"6\": {\"6\": 20}, \"51\": {\"51\": 20}, \"23\": {\"23\": 20}, \"37\": {\"37\": 20}, \"10\": {\"10\": 20}, \"25\": {\"25\": 20}, \"27\": {\"27\": 20}, \"19\": {\"19\": 19, \"45\": 1}, \"21\": {\"21\": 20}, \"50\": {\"50\": 19, \"3\": 1}, \"3\": {\"3\": 19, \"50\": 1}, \"40\": {\"40\": 20}, \"15\": {\"15\": 19, \"11\": 1}, \"5\": {\"5\": 20}, \"41\": {\"41\": 16, \"30\": 3, \"2\": 1}, \"46\": {\"46\": 18, \"6\": 2}, \"7\": {\"7\": 20}, \"16\": {\"16\": 20}, \"30\": {\"30\": 20}, \"22\": {\"22\": 20}, \"33\": {\"33\": 20}, \"45\": {\"45\": 19, \"6\": 1}, \"47\": {\"47\": 20}, \"57\": {\"57\": 20}, \"29\": {\"29\": 20}, \"38\": {\"38\": 20}, \"14\": {\"14\": 13, \"38\": 5, \"13\": 2}, \"20\": {\"20\": 20}, \"42\": {\"42\": 19, \"28\": 1}, \"54\": {\"54\": 20}, \"36\": {\"36\": 20}, \"1\": {\"1\": 20}, \"8\": {\"8\": 20}, \"49\": {\"49\": 20}, \"4\": {\"4\": 20}, \"2\": {\"2\": 20}, \"31\": {\"31\": 20}, \"0\": {\"0\": 20}, \"11\": {\"11\": 19, \"15\": 1}, \"9\": {\"9\": 20}, \"43\": {\"43\": 20}, \"55\": {\"55\": 20}, \"56\": {\"56\": 20}, \"12\": {\"12\": 20}, \"52\": {\"52\": 20}, \"39\": {\"39\": 19, \"32\": 1}, \"35\": {\"35\": 20}, \"17\": {\"17\": 20}, \"34\": {\"34\": 20}, \"53\": {\"53\": 20}, \"44\": {\"44\": 20}, \"48\": {\"48\": 20}, \"18\": {\"18\": 20}}}, \"per_domain_accuracy\": {\"Wisig_4\": {\"accuracy\": 0.9524471635150167, \"source?\": true}, \"Wisig_1\": {\"accuracy\": 0.9718390804597701, \"source?\": true}, \"Wisig_2\": {\"accuracy\": 0.9411330049261084, \"source?\": true}, \"Wisig_3\": {\"accuracy\": 0.9647090517241379, \"source?\": true}, \"CORES_5\": {\"accuracy\": 0.9741379310344828, \"source?\": false}, \"CORES_1\": {\"accuracy\": 0.9791666666666666, \"source?\": false}, \"CORES_3\": {\"accuracy\": 0.9752155172413793, \"source?\": false}, \"CORES_4\": {\"accuracy\": 0.9709051724137931, \"source?\": false}, \"CORES_2\": {\"accuracy\": 0.9801724137931035, \"source?\": false}}}, \"history\": {\"epoch_indices\": [1, 2, 3], \"train_label_loss\": [0.5444564188723682, 0.269857811849304, 0.21440088808058613], \"source_val_label_loss\": [0.36239302158355713, 0.2483471930027008, 0.23665940761566162], \"target_val_label_loss\": [0.2620130479335785, 0.18790319561958313, 0.20983174443244934], \"source_val_acc_label\": [0.9360183189655172, 0.956963900862069, 0.9604660560344828], \"target_val_acc_label\": [0.962823275862069, 0.9762931034482759, 0.9753951149425287]}, \"dataset_metrics\": {\"source\": {\"train\": {\"n_unique_x\": 141820, \"n_unique_y\": 130, \"n_batch/episode\": 920}, \"val\": {\"n_unique_x\": 26024, \"n_unique_y\": 130, \"n_batch/episode\": 128}, \"test\": {\"n_unique_x\": 26933, \"n_unique_y\": 130, \"n_batch/episode\": 133}}, \"target\": {\"train\": {\"n_unique_x\": 75938, \"n_unique_y\": 58, \"n_batch/episode\": 351}, \"val\": {\"n_unique_x\": 11798, \"n_unique_y\": 58, \"n_batch/episode\": 48}, \"test\": {\"n_unique_x\": 12331, \"n_unique_y\": 58, \"n_batch/episode\": 50}}}}'"
      ]
     },
     "execution_count": 29,
     "metadata": {},
     "output_type": "execute_result"
    }
   ],
   "source": [
    "json.dumps(experiment)"
   ]
  }
 ],
 "metadata": {
  "celltoolbar": "Tags",
  "kernelspec": {
   "display_name": "Python 3 (ipykernel)",
   "language": "python",
   "name": "python3"
  },
  "language_info": {
   "codemirror_mode": {
    "name": "ipython",
    "version": 3
   },
   "file_extension": ".py",
   "mimetype": "text/x-python",
   "name": "python",
   "nbconvert_exporter": "python",
   "pygments_lexer": "ipython3",
   "version": "3.8.12"
  },
  "papermill": {
   "default_parameters": {},
   "duration": 354.171889,
   "end_time": "2022-03-21T03:59:11.267280",
   "environment_variables": {},
   "exception": null,
   "input_path": "/root/csc500-main/csc500-notebooks/templates/tl_ptn_template.ipynb",
   "output_path": "trial.ipynb",
   "parameters": {
    "parameters": {
     "BEST_MODEL_PATH": "./best_model.pth",
     "NUM_LOGS_PER_EPOCH": 10,
     "criteria_for_best": "target_accuracy",
     "dataset_seed": 7,
     "datasets": [
      {
       "domain_prefix": "CORES_",
       "domains": [
        1,
        2,
        3,
        4,
        5
       ],
       "episode_transforms": [],
       "labels": [
        "1-10.",
        "1-11.",
        "1-15.",
        "1-16.",
        "1-17.",
        "1-18.",
        "1-19.",
        "10-4.",
        "10-7.",
        "11-1.",
        "11-14.",
        "11-17.",
        "11-20.",
        "11-7.",
        "13-20.",
        "13-8.",
        "14-10.",
        "14-11.",
        "14-14.",
        "14-7.",
        "15-1.",
        "15-20.",
        "16-1.",
        "16-16.",
        "17-10.",
        "17-11.",
        "17-2.",
        "19-1.",
        "19-16.",
        "19-19.",
        "19-20.",
        "19-3.",
        "2-10.",
        "2-11.",
        "2-17.",
        "2-18.",
        "2-20.",
        "2-3.",
        "2-4.",
        "2-5.",
        "2-6.",
        "2-7.",
        "2-8.",
        "3-13.",
        "3-18.",
        "3-3.",
        "4-1.",
        "4-10.",
        "4-11.",
        "4-19.",
        "5-5.",
        "6-15.",
        "7-10.",
        "7-14.",
        "8-18.",
        "8-20.",
        "8-3.",
        "8-8."
       ],
       "num_examples_per_domain_per_label": -1,
       "pickle_path": "/root/csc500-main/datasets/cores.stratified_ds.2022A.pkl",
       "source_or_target_dataset": "target",
       "x_transforms": []
      },
      {
       "domain_prefix": "Wisig_",
       "domains": [
        1,
        2,
        3,
        4
       ],
       "episode_transforms": [],
       "labels": [
        "1-10",
        "1-12",
        "1-14",
        "1-16",
        "1-18",
        "1-19",
        "1-8",
        "10-11",
        "10-17",
        "10-4",
        "10-7",
        "11-1",
        "11-10",
        "11-19",
        "11-20",
        "11-4",
        "11-7",
        "12-19",
        "12-20",
        "12-7",
        "13-14",
        "13-18",
        "13-19",
        "13-20",
        "13-3",
        "13-7",
        "14-10",
        "14-11",
        "14-12",
        "14-13",
        "14-14",
        "14-19",
        "14-20",
        "14-7",
        "14-8",
        "14-9",
        "15-1",
        "15-19",
        "15-6",
        "16-1",
        "16-16",
        "16-19",
        "16-20",
        "17-10",
        "17-11",
        "18-1",
        "18-10",
        "18-11",
        "18-12",
        "18-13",
        "18-14",
        "18-15",
        "18-16",
        "18-17",
        "18-19",
        "18-2",
        "18-20",
        "18-4",
        "18-5",
        "18-7",
        "18-8",
        "18-9",
        "19-1",
        "19-10",
        "19-11",
        "19-12",
        "19-13",
        "19-14",
        "19-15",
        "19-19",
        "19-2",
        "19-20",
        "19-3",
        "19-4",
        "19-6",
        "19-7",
        "19-8",
        "19-9",
        "2-1",
        "2-13",
        "2-15",
        "2-3",
        "2-4",
        "2-5",
        "2-6",
        "2-7",
        "2-8",
        "20-1",
        "20-12",
        "20-14",
        "20-15",
        "20-16",
        "20-18",
        "20-19",
        "20-20",
        "20-3",
        "20-4",
        "20-5",
        "20-7",
        "20-8",
        "3-1",
        "3-13",
        "3-18",
        "3-2",
        "3-8",
        "4-1",
        "4-10",
        "4-11",
        "5-1",
        "5-5",
        "6-1",
        "6-15",
        "6-6",
        "7-10",
        "7-11",
        "7-12",
        "7-13",
        "7-14",
        "7-7",
        "7-8",
        "7-9",
        "8-1",
        "8-13",
        "8-14",
        "8-18",
        "8-20",
        "8-3",
        "8-8",
        "9-1",
        "9-7"
       ],
       "num_examples_per_domain_per_label": -1,
       "pickle_path": "/root/csc500-main/datasets/wisig.node3-19.stratified_ds.2022A.pkl",
       "source_or_target_dataset": "source",
       "x_transforms": []
      }
     ],
     "device": "cuda",
     "experiment_name": "tl_1v2:cores-wisig",
     "lr": 0.0001,
     "n_epoch": 3,
     "n_query": 2,
     "n_shot": 3,
     "n_way": 58,
     "patience": 3,
     "seed": 7,
     "test_k_factor": 2,
     "torch_default_dtype": "torch.float32",
     "train_k_factor": 3,
     "val_k_factor": 2,
     "x_net": [
      {
       "class": "nnReshape",
       "kargs": {
        "shape": [
         -1,
         1,
         2,
         256
        ]
       }
      },
      {
       "class": "Conv2d",
       "kargs": {
        "bias": false,
        "in_channels": 1,
        "kernel_size": [
         1,
         7
        ],
        "out_channels": 256,
        "padding": [
         0,
         3
        ]
       }
      },
      {
       "class": "ReLU",
       "kargs": {
        "inplace": true
       }
      },
      {
       "class": "BatchNorm2d",
       "kargs": {
        "num_features": 256
       }
      },
      {
       "class": "Conv2d",
       "kargs": {
        "bias": true,
        "in_channels": 256,
        "kernel_size": [
         2,
         7
        ],
        "out_channels": 80,
        "padding": [
         0,
         3
        ]
       }
      },
      {
       "class": "ReLU",
       "kargs": {
        "inplace": true
       }
      },
      {
       "class": "BatchNorm2d",
       "kargs": {
        "num_features": 80
       }
      },
      {
       "class": "Flatten",
       "kargs": {}
      },
      {
       "class": "Linear",
       "kargs": {
        "in_features": 20480,
        "out_features": 256
       }
      },
      {
       "class": "ReLU",
       "kargs": {
        "inplace": true
       }
      },
      {
       "class": "BatchNorm1d",
       "kargs": {
        "num_features": 256
       }
      },
      {
       "class": "Linear",
       "kargs": {
        "in_features": 256,
        "out_features": 256
       }
      }
     ]
    }
   },
   "start_time": "2022-03-21T03:53:17.095391",
   "version": "2.3.4"
  }
 },
 "nbformat": 4,
 "nbformat_minor": 5
}