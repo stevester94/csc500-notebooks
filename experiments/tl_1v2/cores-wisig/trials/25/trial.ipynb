{
 "cells": [
  {
   "cell_type": "markdown",
   "id": "9fea5f46",
   "metadata": {
    "papermill": {
     "duration": 0.029584,
     "end_time": "2022-03-21T04:03:32.283441",
     "exception": false,
     "start_time": "2022-03-21T04:03:32.253857",
     "status": "completed"
    },
    "tags": []
   },
   "source": [
    "# Transfer Learning Template"
   ]
  },
  {
   "cell_type": "code",
   "execution_count": 1,
   "id": "0902182a",
   "metadata": {
    "execution": {
     "iopub.execute_input": "2022-03-21T04:03:32.348323Z",
     "iopub.status.busy": "2022-03-21T04:03:32.347425Z",
     "iopub.status.idle": "2022-03-21T04:03:34.228437Z",
     "shell.execute_reply": "2022-03-21T04:03:34.227570Z"
    },
    "papermill": {
     "duration": 1.921247,
     "end_time": "2022-03-21T04:03:34.228627",
     "exception": false,
     "start_time": "2022-03-21T04:03:32.307380",
     "status": "completed"
    },
    "tags": []
   },
   "outputs": [],
   "source": [
    "%load_ext autoreload\n",
    "%autoreload 2\n",
    "%matplotlib inline\n",
    "\n",
    "    \n",
    "import os, json, sys, time, random\n",
    "import numpy as np\n",
    "import torch\n",
    "from torch.optim import Adam\n",
    "from  easydict import EasyDict\n",
    "import matplotlib.pyplot as plt\n",
    "\n",
    "from steves_models.steves_ptn import Steves_Prototypical_Network\n",
    "\n",
    "from steves_utils.lazy_iterable_wrapper import Lazy_Iterable_Wrapper\n",
    "from steves_utils.iterable_aggregator import Iterable_Aggregator\n",
    "from steves_utils.ptn_train_eval_test_jig import  PTN_Train_Eval_Test_Jig\n",
    "from steves_utils.torch_sequential_builder import build_sequential\n",
    "from steves_utils.torch_utils import get_dataset_metrics, ptn_confusion_by_domain_over_dataloader\n",
    "from steves_utils.utils_v2 import (per_domain_accuracy_from_confusion, get_datasets_base_path)\n",
    "from steves_utils.PTN.utils import independent_accuracy_assesment\n",
    "\n",
    "from torch.utils.data import DataLoader\n",
    "\n",
    "from steves_utils.stratified_dataset.episodic_accessor import Episodic_Accessor_Factory\n",
    "\n",
    "from steves_utils.ptn_do_report import (\n",
    "    get_loss_curve,\n",
    "    get_results_table,\n",
    "    get_parameters_table,\n",
    "    get_domain_accuracies,\n",
    ")\n",
    "\n",
    "from steves_utils.transforms import get_chained_transform"
   ]
  },
  {
   "cell_type": "markdown",
   "id": "41c840b4",
   "metadata": {
    "papermill": {
     "duration": 0.019686,
     "end_time": "2022-03-21T04:03:34.276218",
     "exception": false,
     "start_time": "2022-03-21T04:03:34.256532",
     "status": "completed"
    },
    "tags": []
   },
   "source": [
    "# Allowed Parameters\n",
    "These are allowed parameters, not defaults\n",
    "Each of these values need to be present in the injected parameters (the notebook will raise an exception if they are not present)\n",
    "\n",
    "Papermill uses the cell tag \"parameters\" to inject the real parameters below this cell.\n",
    "Enable tags to see what I mean"
   ]
  },
  {
   "cell_type": "code",
   "execution_count": 2,
   "id": "fd44eb83",
   "metadata": {
    "execution": {
     "iopub.execute_input": "2022-03-21T04:03:34.320624Z",
     "iopub.status.busy": "2022-03-21T04:03:34.320248Z",
     "iopub.status.idle": "2022-03-21T04:03:34.344956Z",
     "shell.execute_reply": "2022-03-21T04:03:34.345647Z"
    },
    "papermill": {
     "duration": 0.049987,
     "end_time": "2022-03-21T04:03:34.345860",
     "exception": false,
     "start_time": "2022-03-21T04:03:34.295873",
     "status": "completed"
    },
    "tags": []
   },
   "outputs": [],
   "source": [
    "required_parameters = {\n",
    "    \"experiment_name\",\n",
    "    \"lr\",\n",
    "    \"device\",\n",
    "    \"seed\",\n",
    "    \"dataset_seed\",\n",
    "    \"n_shot\",\n",
    "    \"n_query\",\n",
    "    \"n_way\",\n",
    "    \"train_k_factor\",\n",
    "    \"val_k_factor\",\n",
    "    \"test_k_factor\",\n",
    "    \"n_epoch\",\n",
    "    \"patience\",\n",
    "    \"criteria_for_best\",\n",
    "    \"x_net\",\n",
    "    \"datasets\",\n",
    "    \"torch_default_dtype\",\n",
    "    \"NUM_LOGS_PER_EPOCH\",\n",
    "    \"BEST_MODEL_PATH\",\n",
    "    \"x_shape\",\n",
    "}"
   ]
  },
  {
   "cell_type": "code",
   "execution_count": 3,
   "id": "fa3f0049",
   "metadata": {
    "execution": {
     "iopub.execute_input": "2022-03-21T04:03:34.408465Z",
     "iopub.status.busy": "2022-03-21T04:03:34.407505Z",
     "iopub.status.idle": "2022-03-21T04:03:34.431654Z",
     "shell.execute_reply": "2022-03-21T04:03:34.430839Z"
    },
    "papermill": {
     "duration": 0.060934,
     "end_time": "2022-03-21T04:03:34.431827",
     "exception": false,
     "start_time": "2022-03-21T04:03:34.370893",
     "status": "completed"
    },
    "tags": [
     "parameters"
    ]
   },
   "outputs": [],
   "source": [
    "from steves_utils.CORES.utils import (\n",
    "    ALL_NODES,\n",
    "    ALL_NODES_MINIMUM_1000_EXAMPLES,\n",
    "    ALL_DAYS\n",
    ")\n",
    "\n",
    "from steves_utils.ORACLE.utils_v2 import (\n",
    "    ALL_DISTANCES_FEET_NARROWED,\n",
    "    ALL_RUNS,\n",
    "    ALL_SERIAL_NUMBERS,\n",
    ")\n",
    "\n",
    "standalone_parameters = {}\n",
    "standalone_parameters[\"experiment_name\"] = \"STANDALONE PTN\"\n",
    "standalone_parameters[\"lr\"] = 0.001\n",
    "standalone_parameters[\"device\"] = \"cuda\"\n",
    "\n",
    "standalone_parameters[\"seed\"] = 1337\n",
    "standalone_parameters[\"dataset_seed\"] = 1337\n",
    "\n",
    "standalone_parameters[\"n_way\"] = 8\n",
    "standalone_parameters[\"n_shot\"] = 3\n",
    "standalone_parameters[\"n_query\"]  = 2\n",
    "standalone_parameters[\"train_k_factor\"] = 1\n",
    "standalone_parameters[\"val_k_factor\"] = 2\n",
    "standalone_parameters[\"test_k_factor\"] = 2\n",
    "\n",
    "\n",
    "standalone_parameters[\"n_epoch\"] = 50\n",
    "\n",
    "standalone_parameters[\"patience\"] = 10\n",
    "standalone_parameters[\"criteria_for_best\"] = \"source_loss\"\n",
    "\n",
    "standalone_parameters[\"datasets\"] = [\n",
    "    {\n",
    "        \"labels\": ALL_SERIAL_NUMBERS,\n",
    "        \"domains\": ALL_DISTANCES_FEET_NARROWED,\n",
    "        \"num_examples_per_domain_per_label\": 100,\n",
    "        \"pickle_path\": os.path.join(get_datasets_base_path(), \"oracle.Run1_framed_2000Examples_stratified_ds.2022A.pkl\"),\n",
    "        \"source_or_target_dataset\": \"source\",\n",
    "        \"x_transforms\": [\"unit_mag\", \"minus_two\"],\n",
    "        \"episode_transforms\": [],\n",
    "        \"domain_prefix\": \"ORACLE_\"\n",
    "    },\n",
    "    {\n",
    "        \"labels\": ALL_NODES,\n",
    "        \"domains\": ALL_DAYS,\n",
    "        \"num_examples_per_domain_per_label\": 100,\n",
    "        \"pickle_path\": os.path.join(get_datasets_base_path(), \"cores.stratified_ds.2022A.pkl\"),\n",
    "        \"source_or_target_dataset\": \"target\",\n",
    "        \"x_transforms\": [\"unit_power\", \"times_zero\"],\n",
    "        \"episode_transforms\": [],\n",
    "        \"domain_prefix\": \"CORES_\"\n",
    "    }   \n",
    "]\n",
    "\n",
    "standalone_parameters[\"torch_default_dtype\"] = \"torch.float32\" \n",
    "\n",
    "\n",
    "\n",
    "standalone_parameters[\"x_net\"] =     [\n",
    "    {\"class\": \"nnReshape\", \"kargs\": {\"shape\":[-1, 1, 2, 256]}},\n",
    "    {\"class\": \"Conv2d\", \"kargs\": { \"in_channels\":1, \"out_channels\":256, \"kernel_size\":(1,7), \"bias\":False, \"padding\":(0,3), },},\n",
    "    {\"class\": \"ReLU\", \"kargs\": {\"inplace\": True}},\n",
    "    {\"class\": \"BatchNorm2d\", \"kargs\": {\"num_features\":256}},\n",
    "\n",
    "    {\"class\": \"Conv2d\", \"kargs\": { \"in_channels\":256, \"out_channels\":80, \"kernel_size\":(2,7), \"bias\":True, \"padding\":(0,3), },},\n",
    "    {\"class\": \"ReLU\", \"kargs\": {\"inplace\": True}},\n",
    "    {\"class\": \"BatchNorm2d\", \"kargs\": {\"num_features\":80}},\n",
    "    {\"class\": \"Flatten\", \"kargs\": {}},\n",
    "\n",
    "    {\"class\": \"Linear\", \"kargs\": {\"in_features\": 80*256, \"out_features\": 256}}, # 80 units per IQ pair\n",
    "    {\"class\": \"ReLU\", \"kargs\": {\"inplace\": True}},\n",
    "    {\"class\": \"BatchNorm1d\", \"kargs\": {\"num_features\":256}},\n",
    "\n",
    "    {\"class\": \"Linear\", \"kargs\": {\"in_features\": 256, \"out_features\": 256}},\n",
    "]\n",
    "\n",
    "# Parameters relevant to results\n",
    "# These parameters will basically never need to change\n",
    "standalone_parameters[\"NUM_LOGS_PER_EPOCH\"] = 10\n",
    "standalone_parameters[\"BEST_MODEL_PATH\"] = \"./best_model.pth\"\n",
    "\n",
    "\n",
    "\n",
    "\n"
   ]
  },
  {
   "cell_type": "code",
   "execution_count": 4,
   "id": "d648e2e2",
   "metadata": {
    "execution": {
     "iopub.execute_input": "2022-03-21T04:03:34.496633Z",
     "iopub.status.busy": "2022-03-21T04:03:34.495589Z",
     "iopub.status.idle": "2022-03-21T04:03:34.520652Z",
     "shell.execute_reply": "2022-03-21T04:03:34.519931Z"
    },
    "papermill": {
     "duration": 0.063692,
     "end_time": "2022-03-21T04:03:34.520819",
     "exception": false,
     "start_time": "2022-03-21T04:03:34.457127",
     "status": "completed"
    },
    "tags": [
     "injected-parameters"
    ]
   },
   "outputs": [],
   "source": [
    "# Parameters\n",
    "parameters = {\n",
    "    \"experiment_name\": \"tl_1v2:cores-wisig\",\n",
    "    \"device\": \"cuda\",\n",
    "    \"lr\": 0.0001,\n",
    "    \"n_shot\": 3,\n",
    "    \"n_query\": 2,\n",
    "    \"train_k_factor\": 3,\n",
    "    \"val_k_factor\": 2,\n",
    "    \"test_k_factor\": 2,\n",
    "    \"torch_default_dtype\": \"torch.float32\",\n",
    "    \"n_epoch\": 3,\n",
    "    \"patience\": 3,\n",
    "    \"criteria_for_best\": \"target_accuracy\",\n",
    "    \"x_net\": [\n",
    "        {\"class\": \"nnReshape\", \"kargs\": {\"shape\": [-1, 1, 2, 256]}},\n",
    "        {\n",
    "            \"class\": \"Conv2d\",\n",
    "            \"kargs\": {\n",
    "                \"in_channels\": 1,\n",
    "                \"out_channels\": 256,\n",
    "                \"kernel_size\": [1, 7],\n",
    "                \"bias\": False,\n",
    "                \"padding\": [0, 3],\n",
    "            },\n",
    "        },\n",
    "        {\"class\": \"ReLU\", \"kargs\": {\"inplace\": True}},\n",
    "        {\"class\": \"BatchNorm2d\", \"kargs\": {\"num_features\": 256}},\n",
    "        {\n",
    "            \"class\": \"Conv2d\",\n",
    "            \"kargs\": {\n",
    "                \"in_channels\": 256,\n",
    "                \"out_channels\": 80,\n",
    "                \"kernel_size\": [2, 7],\n",
    "                \"bias\": True,\n",
    "                \"padding\": [0, 3],\n",
    "            },\n",
    "        },\n",
    "        {\"class\": \"ReLU\", \"kargs\": {\"inplace\": True}},\n",
    "        {\"class\": \"BatchNorm2d\", \"kargs\": {\"num_features\": 80}},\n",
    "        {\"class\": \"Flatten\", \"kargs\": {}},\n",
    "        {\"class\": \"Linear\", \"kargs\": {\"in_features\": 20480, \"out_features\": 256}},\n",
    "        {\"class\": \"ReLU\", \"kargs\": {\"inplace\": True}},\n",
    "        {\"class\": \"BatchNorm1d\", \"kargs\": {\"num_features\": 256}},\n",
    "        {\"class\": \"Linear\", \"kargs\": {\"in_features\": 256, \"out_features\": 256}},\n",
    "    ],\n",
    "    \"NUM_LOGS_PER_EPOCH\": 10,\n",
    "    \"BEST_MODEL_PATH\": \"./best_model.pth\",\n",
    "    \"n_way\": 58,\n",
    "    \"datasets\": [\n",
    "        {\n",
    "            \"labels\": [\n",
    "                \"1-10.\",\n",
    "                \"1-11.\",\n",
    "                \"1-15.\",\n",
    "                \"1-16.\",\n",
    "                \"1-17.\",\n",
    "                \"1-18.\",\n",
    "                \"1-19.\",\n",
    "                \"10-4.\",\n",
    "                \"10-7.\",\n",
    "                \"11-1.\",\n",
    "                \"11-14.\",\n",
    "                \"11-17.\",\n",
    "                \"11-20.\",\n",
    "                \"11-7.\",\n",
    "                \"13-20.\",\n",
    "                \"13-8.\",\n",
    "                \"14-10.\",\n",
    "                \"14-11.\",\n",
    "                \"14-14.\",\n",
    "                \"14-7.\",\n",
    "                \"15-1.\",\n",
    "                \"15-20.\",\n",
    "                \"16-1.\",\n",
    "                \"16-16.\",\n",
    "                \"17-10.\",\n",
    "                \"17-11.\",\n",
    "                \"17-2.\",\n",
    "                \"19-1.\",\n",
    "                \"19-16.\",\n",
    "                \"19-19.\",\n",
    "                \"19-20.\",\n",
    "                \"19-3.\",\n",
    "                \"2-10.\",\n",
    "                \"2-11.\",\n",
    "                \"2-17.\",\n",
    "                \"2-18.\",\n",
    "                \"2-20.\",\n",
    "                \"2-3.\",\n",
    "                \"2-4.\",\n",
    "                \"2-5.\",\n",
    "                \"2-6.\",\n",
    "                \"2-7.\",\n",
    "                \"2-8.\",\n",
    "                \"3-13.\",\n",
    "                \"3-18.\",\n",
    "                \"3-3.\",\n",
    "                \"4-1.\",\n",
    "                \"4-10.\",\n",
    "                \"4-11.\",\n",
    "                \"4-19.\",\n",
    "                \"5-5.\",\n",
    "                \"6-15.\",\n",
    "                \"7-10.\",\n",
    "                \"7-14.\",\n",
    "                \"8-18.\",\n",
    "                \"8-20.\",\n",
    "                \"8-3.\",\n",
    "                \"8-8.\",\n",
    "            ],\n",
    "            \"domains\": [1, 2, 3, 4, 5],\n",
    "            \"num_examples_per_domain_per_label\": -1,\n",
    "            \"pickle_path\": \"/root/csc500-main/datasets/cores.stratified_ds.2022A.pkl\",\n",
    "            \"source_or_target_dataset\": \"source\",\n",
    "            \"x_transforms\": [\"unit_mag\"],\n",
    "            \"episode_transforms\": [],\n",
    "            \"domain_prefix\": \"CORES_\",\n",
    "        },\n",
    "        {\n",
    "            \"labels\": [\n",
    "                \"1-10\",\n",
    "                \"1-12\",\n",
    "                \"1-14\",\n",
    "                \"1-16\",\n",
    "                \"1-18\",\n",
    "                \"1-19\",\n",
    "                \"1-8\",\n",
    "                \"10-11\",\n",
    "                \"10-17\",\n",
    "                \"10-4\",\n",
    "                \"10-7\",\n",
    "                \"11-1\",\n",
    "                \"11-10\",\n",
    "                \"11-19\",\n",
    "                \"11-20\",\n",
    "                \"11-4\",\n",
    "                \"11-7\",\n",
    "                \"12-19\",\n",
    "                \"12-20\",\n",
    "                \"12-7\",\n",
    "                \"13-14\",\n",
    "                \"13-18\",\n",
    "                \"13-19\",\n",
    "                \"13-20\",\n",
    "                \"13-3\",\n",
    "                \"13-7\",\n",
    "                \"14-10\",\n",
    "                \"14-11\",\n",
    "                \"14-12\",\n",
    "                \"14-13\",\n",
    "                \"14-14\",\n",
    "                \"14-19\",\n",
    "                \"14-20\",\n",
    "                \"14-7\",\n",
    "                \"14-8\",\n",
    "                \"14-9\",\n",
    "                \"15-1\",\n",
    "                \"15-19\",\n",
    "                \"15-6\",\n",
    "                \"16-1\",\n",
    "                \"16-16\",\n",
    "                \"16-19\",\n",
    "                \"16-20\",\n",
    "                \"17-10\",\n",
    "                \"17-11\",\n",
    "                \"18-1\",\n",
    "                \"18-10\",\n",
    "                \"18-11\",\n",
    "                \"18-12\",\n",
    "                \"18-13\",\n",
    "                \"18-14\",\n",
    "                \"18-15\",\n",
    "                \"18-16\",\n",
    "                \"18-17\",\n",
    "                \"18-19\",\n",
    "                \"18-2\",\n",
    "                \"18-20\",\n",
    "                \"18-4\",\n",
    "                \"18-5\",\n",
    "                \"18-7\",\n",
    "                \"18-8\",\n",
    "                \"18-9\",\n",
    "                \"19-1\",\n",
    "                \"19-10\",\n",
    "                \"19-11\",\n",
    "                \"19-12\",\n",
    "                \"19-13\",\n",
    "                \"19-14\",\n",
    "                \"19-15\",\n",
    "                \"19-19\",\n",
    "                \"19-2\",\n",
    "                \"19-20\",\n",
    "                \"19-3\",\n",
    "                \"19-4\",\n",
    "                \"19-6\",\n",
    "                \"19-7\",\n",
    "                \"19-8\",\n",
    "                \"19-9\",\n",
    "                \"2-1\",\n",
    "                \"2-13\",\n",
    "                \"2-15\",\n",
    "                \"2-3\",\n",
    "                \"2-4\",\n",
    "                \"2-5\",\n",
    "                \"2-6\",\n",
    "                \"2-7\",\n",
    "                \"2-8\",\n",
    "                \"20-1\",\n",
    "                \"20-12\",\n",
    "                \"20-14\",\n",
    "                \"20-15\",\n",
    "                \"20-16\",\n",
    "                \"20-18\",\n",
    "                \"20-19\",\n",
    "                \"20-20\",\n",
    "                \"20-3\",\n",
    "                \"20-4\",\n",
    "                \"20-5\",\n",
    "                \"20-7\",\n",
    "                \"20-8\",\n",
    "                \"3-1\",\n",
    "                \"3-13\",\n",
    "                \"3-18\",\n",
    "                \"3-2\",\n",
    "                \"3-8\",\n",
    "                \"4-1\",\n",
    "                \"4-10\",\n",
    "                \"4-11\",\n",
    "                \"5-1\",\n",
    "                \"5-5\",\n",
    "                \"6-1\",\n",
    "                \"6-15\",\n",
    "                \"6-6\",\n",
    "                \"7-10\",\n",
    "                \"7-11\",\n",
    "                \"7-12\",\n",
    "                \"7-13\",\n",
    "                \"7-14\",\n",
    "                \"7-7\",\n",
    "                \"7-8\",\n",
    "                \"7-9\",\n",
    "                \"8-1\",\n",
    "                \"8-13\",\n",
    "                \"8-14\",\n",
    "                \"8-18\",\n",
    "                \"8-20\",\n",
    "                \"8-3\",\n",
    "                \"8-8\",\n",
    "                \"9-1\",\n",
    "                \"9-7\",\n",
    "            ],\n",
    "            \"domains\": [1, 2, 3, 4],\n",
    "            \"num_examples_per_domain_per_label\": -1,\n",
    "            \"pickle_path\": \"/root/csc500-main/datasets/wisig.node3-19.stratified_ds.2022A.pkl\",\n",
    "            \"source_or_target_dataset\": \"target\",\n",
    "            \"x_transforms\": [\"unit_mag\"],\n",
    "            \"episode_transforms\": [],\n",
    "            \"domain_prefix\": \"Wisig_\",\n",
    "        },\n",
    "    ],\n",
    "    \"dataset_seed\": 500,\n",
    "    \"seed\": 500,\n",
    "}\n"
   ]
  },
  {
   "cell_type": "code",
   "execution_count": 5,
   "id": "8fa1cc33",
   "metadata": {
    "execution": {
     "iopub.execute_input": "2022-03-21T04:03:34.575408Z",
     "iopub.status.busy": "2022-03-21T04:03:34.575028Z",
     "iopub.status.idle": "2022-03-21T04:03:34.600446Z",
     "shell.execute_reply": "2022-03-21T04:03:34.599704Z"
    },
    "papermill": {
     "duration": 0.052647,
     "end_time": "2022-03-21T04:03:34.600612",
     "exception": false,
     "start_time": "2022-03-21T04:03:34.547965",
     "status": "completed"
    },
    "tags": []
   },
   "outputs": [],
   "source": [
    "# Set this to True if you want to run this template directly\n",
    "STANDALONE = False\n",
    "if STANDALONE:\n",
    "    print(\"parameters not injected, running with standalone_parameters\")\n",
    "    parameters = standalone_parameters\n",
    "\n",
    "if not 'parameters' in locals() and not 'parameters' in globals():\n",
    "    raise Exception(\"Parameter injection failed\")\n",
    "\n",
    "#Use an easy dict for all the parameters\n",
    "p = EasyDict(parameters)\n",
    "\n",
    "if \"x_shape\" not in p:\n",
    "    p.x_shape = [2,256] # Default to this if we dont supply x_shape\n",
    "\n",
    "\n",
    "supplied_keys = set(p.keys())\n",
    "\n",
    "if  supplied_keys != required_parameters:\n",
    "    print(\"Parameters are incorrect\")\n",
    "    if len(supplied_keys - required_parameters)>0: print(\"Shouldn't have:\", str(supplied_keys - required_parameters))\n",
    "    if len(required_parameters - supplied_keys)>0: print(\"Need to have:\", str(required_parameters - supplied_keys))\n",
    "    raise RuntimeError(\"Parameters are incorrect\")"
   ]
  },
  {
   "cell_type": "code",
   "execution_count": 6,
   "id": "3a028d58",
   "metadata": {
    "execution": {
     "iopub.execute_input": "2022-03-21T04:03:34.654205Z",
     "iopub.status.busy": "2022-03-21T04:03:34.653835Z",
     "iopub.status.idle": "2022-03-21T04:03:34.679279Z",
     "shell.execute_reply": "2022-03-21T04:03:34.678465Z"
    },
    "papermill": {
     "duration": 0.049959,
     "end_time": "2022-03-21T04:03:34.679442",
     "exception": false,
     "start_time": "2022-03-21T04:03:34.629483",
     "status": "completed"
    },
    "tags": []
   },
   "outputs": [],
   "source": [
    "###################################\n",
    "# Set the RNGs and make it all deterministic\n",
    "###################################\n",
    "np.random.seed(p.seed)\n",
    "random.seed(p.seed)\n",
    "torch.manual_seed(p.seed)\n",
    "\n",
    "torch.use_deterministic_algorithms(True) "
   ]
  },
  {
   "cell_type": "code",
   "execution_count": 7,
   "id": "b691acf6",
   "metadata": {
    "execution": {
     "iopub.execute_input": "2022-03-21T04:03:34.733970Z",
     "iopub.status.busy": "2022-03-21T04:03:34.733400Z",
     "iopub.status.idle": "2022-03-21T04:03:34.758397Z",
     "shell.execute_reply": "2022-03-21T04:03:34.757687Z"
    },
    "papermill": {
     "duration": 0.049158,
     "end_time": "2022-03-21T04:03:34.758557",
     "exception": false,
     "start_time": "2022-03-21T04:03:34.709399",
     "status": "completed"
    },
    "tags": []
   },
   "outputs": [],
   "source": [
    "###########################################\n",
    "# The stratified datasets honor this\n",
    "###########################################\n",
    "torch.set_default_dtype(eval(p.torch_default_dtype))"
   ]
  },
  {
   "cell_type": "code",
   "execution_count": 8,
   "id": "b5fba671",
   "metadata": {
    "execution": {
     "iopub.execute_input": "2022-03-21T04:03:34.810935Z",
     "iopub.status.busy": "2022-03-21T04:03:34.810568Z",
     "iopub.status.idle": "2022-03-21T04:03:34.868396Z",
     "shell.execute_reply": "2022-03-21T04:03:34.867516Z"
    },
    "papermill": {
     "duration": 0.081764,
     "end_time": "2022-03-21T04:03:34.868572",
     "exception": false,
     "start_time": "2022-03-21T04:03:34.786808",
     "status": "completed"
    },
    "tags": []
   },
   "outputs": [],
   "source": [
    "###################################\n",
    "# Build the network(s)\n",
    "# Note: It's critical to do this AFTER setting the RNG\n",
    "###################################\n",
    "x_net = build_sequential(p.x_net)"
   ]
  },
  {
   "cell_type": "code",
   "execution_count": 9,
   "id": "5d7e61cc",
   "metadata": {
    "execution": {
     "iopub.execute_input": "2022-03-21T04:03:34.920663Z",
     "iopub.status.busy": "2022-03-21T04:03:34.920296Z",
     "iopub.status.idle": "2022-03-21T04:03:34.945982Z",
     "shell.execute_reply": "2022-03-21T04:03:34.945166Z"
    },
    "papermill": {
     "duration": 0.049764,
     "end_time": "2022-03-21T04:03:34.946144",
     "exception": false,
     "start_time": "2022-03-21T04:03:34.896380",
     "status": "completed"
    },
    "tags": []
   },
   "outputs": [],
   "source": [
    "start_time_secs = time.time()"
   ]
  },
  {
   "cell_type": "code",
   "execution_count": 10,
   "id": "c6b67dfd",
   "metadata": {
    "execution": {
     "iopub.execute_input": "2022-03-21T04:03:34.998519Z",
     "iopub.status.busy": "2022-03-21T04:03:34.997957Z",
     "iopub.status.idle": "2022-03-21T04:03:35.022943Z",
     "shell.execute_reply": "2022-03-21T04:03:35.022131Z"
    },
    "papermill": {
     "duration": 0.050144,
     "end_time": "2022-03-21T04:03:35.023105",
     "exception": false,
     "start_time": "2022-03-21T04:03:34.972961",
     "status": "completed"
    },
    "tags": []
   },
   "outputs": [],
   "source": [
    "p.domains_source = []\n",
    "p.domains_target = []\n",
    "\n",
    "\n",
    "train_original_source = []\n",
    "val_original_source   = []\n",
    "test_original_source  = []\n",
    "\n",
    "train_original_target = []\n",
    "val_original_target   = []\n",
    "test_original_target  = []"
   ]
  },
  {
   "cell_type": "code",
   "execution_count": 11,
   "id": "e3d9c3d3",
   "metadata": {
    "execution": {
     "iopub.execute_input": "2022-03-21T04:03:35.076996Z",
     "iopub.status.busy": "2022-03-21T04:03:35.076364Z",
     "iopub.status.idle": "2022-03-21T04:03:35.097746Z",
     "shell.execute_reply": "2022-03-21T04:03:35.097034Z"
    },
    "papermill": {
     "duration": 0.045006,
     "end_time": "2022-03-21T04:03:35.097908",
     "exception": false,
     "start_time": "2022-03-21T04:03:35.052902",
     "status": "completed"
    },
    "tags": []
   },
   "outputs": [],
   "source": [
    "# global_x_transform_func = lambda x: normalize(x.to(torch.get_default_dtype()), \"unit_power\") # unit_power, unit_mag\n",
    "# global_x_transform_func = lambda x: normalize(x, \"unit_power\") # unit_power, unit_mag"
   ]
  },
  {
   "cell_type": "code",
   "execution_count": 12,
   "id": "acb78fd2",
   "metadata": {
    "execution": {
     "iopub.execute_input": "2022-03-21T04:03:35.156765Z",
     "iopub.status.busy": "2022-03-21T04:03:35.155921Z",
     "iopub.status.idle": "2022-03-21T04:03:35.179146Z",
     "shell.execute_reply": "2022-03-21T04:03:35.178342Z"
    },
    "papermill": {
     "duration": 0.055143,
     "end_time": "2022-03-21T04:03:35.179306",
     "exception": false,
     "start_time": "2022-03-21T04:03:35.124163",
     "status": "completed"
    },
    "tags": []
   },
   "outputs": [],
   "source": [
    "def add_dataset(\n",
    "    labels,\n",
    "    domains,\n",
    "    pickle_path,\n",
    "    x_transforms,\n",
    "    episode_transforms,\n",
    "    domain_prefix,\n",
    "    num_examples_per_domain_per_label,\n",
    "    source_or_target_dataset:str,\n",
    "    iterator_seed=p.seed,\n",
    "    dataset_seed=p.dataset_seed,\n",
    "    n_shot=p.n_shot,\n",
    "    n_way=p.n_way,\n",
    "    n_query=p.n_query,\n",
    "    train_val_test_k_factors=(p.train_k_factor,p.val_k_factor,p.test_k_factor),\n",
    "):\n",
    "   \n",
    "    if x_transforms == []: x_transform = None\n",
    "    else: x_transform = get_chained_transform(x_transforms)\n",
    "    \n",
    "    if episode_transforms == []: episode_transform = None\n",
    "    else: raise Exception(\"episode_transforms not implemented\")\n",
    "    \n",
    "    episode_transform = lambda tup, _prefix=domain_prefix: (_prefix + str(tup[0]), tup[1])\n",
    "\n",
    "\n",
    "    eaf = Episodic_Accessor_Factory(\n",
    "        labels=labels,\n",
    "        domains=domains,\n",
    "        num_examples_per_domain_per_label=num_examples_per_domain_per_label,\n",
    "        iterator_seed=iterator_seed,\n",
    "        dataset_seed=dataset_seed,\n",
    "        n_shot=n_shot,\n",
    "        n_way=n_way,\n",
    "        n_query=n_query,\n",
    "        train_val_test_k_factors=train_val_test_k_factors,\n",
    "        pickle_path=pickle_path,\n",
    "        x_transform_func=x_transform,\n",
    "    )\n",
    "\n",
    "    train, val, test = eaf.get_train(), eaf.get_val(), eaf.get_test()\n",
    "    train = Lazy_Iterable_Wrapper(train, episode_transform)\n",
    "    val = Lazy_Iterable_Wrapper(val, episode_transform)\n",
    "    test = Lazy_Iterable_Wrapper(test, episode_transform)\n",
    "\n",
    "    if source_or_target_dataset==\"source\":\n",
    "        train_original_source.append(train)\n",
    "        val_original_source.append(val)\n",
    "        test_original_source.append(test)\n",
    "\n",
    "        p.domains_source.extend(\n",
    "            [domain_prefix + str(u) for u in domains]\n",
    "        )\n",
    "    elif source_or_target_dataset==\"target\":\n",
    "        train_original_target.append(train)\n",
    "        val_original_target.append(val)\n",
    "        test_original_target.append(test)\n",
    "        p.domains_target.extend(\n",
    "            [domain_prefix + str(u) for u in domains]\n",
    "        )\n",
    "    else:\n",
    "        raise Exception(f\"invalid source_or_target_dataset: {source_or_target_dataset}\")\n",
    "    "
   ]
  },
  {
   "cell_type": "code",
   "execution_count": 13,
   "id": "fe266617",
   "metadata": {
    "execution": {
     "iopub.execute_input": "2022-03-21T04:03:35.234907Z",
     "iopub.status.busy": "2022-03-21T04:03:35.234164Z",
     "iopub.status.idle": "2022-03-21T04:04:18.909543Z",
     "shell.execute_reply": "2022-03-21T04:04:18.910210Z"
    },
    "papermill": {
     "duration": 43.700802,
     "end_time": "2022-03-21T04:04:18.910430",
     "exception": false,
     "start_time": "2022-03-21T04:03:35.209628",
     "status": "completed"
    },
    "tags": []
   },
   "outputs": [],
   "source": [
    "for ds in p.datasets:\n",
    "    add_dataset(**ds)"
   ]
  },
  {
   "cell_type": "code",
   "execution_count": 14,
   "id": "b90d65ac",
   "metadata": {
    "execution": {
     "iopub.execute_input": "2022-03-21T04:04:18.961920Z",
     "iopub.status.busy": "2022-03-21T04:04:18.961482Z",
     "iopub.status.idle": "2022-03-21T04:04:18.984202Z",
     "shell.execute_reply": "2022-03-21T04:04:18.983481Z"
    },
    "papermill": {
     "duration": 0.046719,
     "end_time": "2022-03-21T04:04:18.984358",
     "exception": false,
     "start_time": "2022-03-21T04:04:18.937639",
     "status": "completed"
    },
    "tags": []
   },
   "outputs": [],
   "source": [
    "# from steves_utils.CORES.utils import (\n",
    "#     ALL_NODES,\n",
    "#     ALL_NODES_MINIMUM_1000_EXAMPLES,\n",
    "#     ALL_DAYS\n",
    "# )\n",
    "\n",
    "# add_dataset(\n",
    "#     labels=ALL_NODES,\n",
    "#     domains = ALL_DAYS,\n",
    "#     num_examples_per_domain_per_label=100,\n",
    "#     pickle_path=os.path.join(get_datasets_base_path(), \"cores.stratified_ds.2022A.pkl\"),\n",
    "#     source_or_target_dataset=\"target\",\n",
    "#     x_transform_func=global_x_transform_func,\n",
    "#     domain_modifier=lambda u: f\"cores_{u}\"\n",
    "# )"
   ]
  },
  {
   "cell_type": "code",
   "execution_count": 15,
   "id": "76db484d",
   "metadata": {
    "execution": {
     "iopub.execute_input": "2022-03-21T04:04:19.036717Z",
     "iopub.status.busy": "2022-03-21T04:04:19.036343Z",
     "iopub.status.idle": "2022-03-21T04:04:19.057702Z",
     "shell.execute_reply": "2022-03-21T04:04:19.056896Z"
    },
    "papermill": {
     "duration": 0.046807,
     "end_time": "2022-03-21T04:04:19.057857",
     "exception": false,
     "start_time": "2022-03-21T04:04:19.011050",
     "status": "completed"
    },
    "tags": []
   },
   "outputs": [],
   "source": [
    "# from steves_utils.ORACLE.utils_v2 import (\n",
    "#     ALL_DISTANCES_FEET,\n",
    "#     ALL_RUNS,\n",
    "#     ALL_SERIAL_NUMBERS,\n",
    "# )\n",
    "\n",
    "\n",
    "# add_dataset(\n",
    "#     labels=ALL_SERIAL_NUMBERS,\n",
    "#     domains = list(set(ALL_DISTANCES_FEET) - {2,62}),\n",
    "#     num_examples_per_domain_per_label=100,\n",
    "#     pickle_path=os.path.join(get_datasets_base_path(), \"oracle.Run2_framed_2000Examples_stratified_ds.2022A.pkl\"),\n",
    "#     source_or_target_dataset=\"source\",\n",
    "#     x_transform_func=global_x_transform_func,\n",
    "#     domain_modifier=lambda u: f\"oracle1_{u}\"\n",
    "# )\n"
   ]
  },
  {
   "cell_type": "code",
   "execution_count": 16,
   "id": "97dea9d2",
   "metadata": {
    "execution": {
     "iopub.execute_input": "2022-03-21T04:04:19.111003Z",
     "iopub.status.busy": "2022-03-21T04:04:19.110629Z",
     "iopub.status.idle": "2022-03-21T04:04:19.130980Z",
     "shell.execute_reply": "2022-03-21T04:04:19.130179Z"
    },
    "papermill": {
     "duration": 0.045377,
     "end_time": "2022-03-21T04:04:19.131134",
     "exception": false,
     "start_time": "2022-03-21T04:04:19.085757",
     "status": "completed"
    },
    "tags": []
   },
   "outputs": [],
   "source": [
    "# from steves_utils.ORACLE.utils_v2 import (\n",
    "#     ALL_DISTANCES_FEET,\n",
    "#     ALL_RUNS,\n",
    "#     ALL_SERIAL_NUMBERS,\n",
    "# )\n",
    "\n",
    "\n",
    "# add_dataset(\n",
    "#     labels=ALL_SERIAL_NUMBERS,\n",
    "#     domains = list(set(ALL_DISTANCES_FEET) - {2,62,56}),\n",
    "#     num_examples_per_domain_per_label=100,\n",
    "#     pickle_path=os.path.join(get_datasets_base_path(), \"oracle.Run2_framed_2000Examples_stratified_ds.2022A.pkl\"),\n",
    "#     source_or_target_dataset=\"source\",\n",
    "#     x_transform_func=global_x_transform_func,\n",
    "#     domain_modifier=lambda u: f\"oracle2_{u}\"\n",
    "# )"
   ]
  },
  {
   "cell_type": "code",
   "execution_count": 17,
   "id": "6f289866",
   "metadata": {
    "execution": {
     "iopub.execute_input": "2022-03-21T04:04:19.185188Z",
     "iopub.status.busy": "2022-03-21T04:04:19.184396Z",
     "iopub.status.idle": "2022-03-21T04:04:19.205575Z",
     "shell.execute_reply": "2022-03-21T04:04:19.204729Z"
    },
    "papermill": {
     "duration": 0.045907,
     "end_time": "2022-03-21T04:04:19.205738",
     "exception": false,
     "start_time": "2022-03-21T04:04:19.159831",
     "status": "completed"
    },
    "tags": []
   },
   "outputs": [],
   "source": [
    "# add_dataset(\n",
    "#     labels=list(range(19)),\n",
    "#     domains = [0,1,2],\n",
    "#     num_examples_per_domain_per_label=100,\n",
    "#     pickle_path=os.path.join(get_datasets_base_path(), \"metehan.stratified_ds.2022A.pkl\"),\n",
    "#     source_or_target_dataset=\"target\",\n",
    "#     x_transform_func=global_x_transform_func,\n",
    "#     domain_modifier=lambda u: f\"met_{u}\"\n",
    "# )"
   ]
  },
  {
   "cell_type": "code",
   "execution_count": 18,
   "id": "86a863c3",
   "metadata": {
    "execution": {
     "iopub.execute_input": "2022-03-21T04:04:19.259701Z",
     "iopub.status.busy": "2022-03-21T04:04:19.258381Z",
     "iopub.status.idle": "2022-03-21T04:04:19.278546Z",
     "shell.execute_reply": "2022-03-21T04:04:19.277825Z"
    },
    "papermill": {
     "duration": 0.045502,
     "end_time": "2022-03-21T04:04:19.278709",
     "exception": false,
     "start_time": "2022-03-21T04:04:19.233207",
     "status": "completed"
    },
    "tags": []
   },
   "outputs": [],
   "source": [
    "# # from steves_utils.wisig.utils import (\n",
    "# #     ALL_NODES_MINIMUM_100_EXAMPLES,\n",
    "# #     ALL_NODES_MINIMUM_500_EXAMPLES,\n",
    "# #     ALL_NODES_MINIMUM_1000_EXAMPLES,\n",
    "# #     ALL_DAYS\n",
    "# # )\n",
    "\n",
    "# import steves_utils.wisig.utils as wisig\n",
    "\n",
    "\n",
    "# add_dataset(\n",
    "#     labels=wisig.ALL_NODES_MINIMUM_100_EXAMPLES,\n",
    "#     domains = wisig.ALL_DAYS,\n",
    "#     num_examples_per_domain_per_label=100,\n",
    "#     pickle_path=os.path.join(get_datasets_base_path(), \"wisig.node3-19.stratified_ds.2022A.pkl\"),\n",
    "#     source_or_target_dataset=\"target\",\n",
    "#     x_transform_func=global_x_transform_func,\n",
    "#     domain_modifier=lambda u: f\"wisig_{u}\"\n",
    "# )"
   ]
  },
  {
   "cell_type": "code",
   "execution_count": 19,
   "id": "fd5442bc",
   "metadata": {
    "execution": {
     "iopub.execute_input": "2022-03-21T04:04:19.332645Z",
     "iopub.status.busy": "2022-03-21T04:04:19.332258Z",
     "iopub.status.idle": "2022-03-21T04:04:19.350608Z",
     "shell.execute_reply": "2022-03-21T04:04:19.349809Z"
    },
    "papermill": {
     "duration": 0.045134,
     "end_time": "2022-03-21T04:04:19.350768",
     "exception": false,
     "start_time": "2022-03-21T04:04:19.305634",
     "status": "completed"
    },
    "tags": []
   },
   "outputs": [],
   "source": [
    "###################################\n",
    "# Build the dataset\n",
    "###################################\n",
    "train_original_source = Iterable_Aggregator(train_original_source, p.seed)\n",
    "val_original_source = Iterable_Aggregator(val_original_source, p.seed)\n",
    "test_original_source = Iterable_Aggregator(test_original_source, p.seed)\n",
    "\n",
    "\n",
    "train_original_target = Iterable_Aggregator(train_original_target, p.seed)\n",
    "val_original_target = Iterable_Aggregator(val_original_target, p.seed)\n",
    "test_original_target = Iterable_Aggregator(test_original_target, p.seed)\n",
    "\n",
    "# For CNN We only use X and Y. And we only train on the source.\n",
    "# Properly form the data using a transform lambda and Lazy_Iterable_Wrapper. Finally wrap them in a dataloader\n",
    "\n",
    "transform_lambda = lambda ex: ex[1] # Original is (<domain>, <episode>) so we strip down to episode only\n",
    "\n",
    "train_processed_source = Lazy_Iterable_Wrapper(train_original_source, transform_lambda)\n",
    "val_processed_source   = Lazy_Iterable_Wrapper(val_original_source, transform_lambda)\n",
    "test_processed_source  = Lazy_Iterable_Wrapper(test_original_source, transform_lambda)\n",
    "\n",
    "train_processed_target = Lazy_Iterable_Wrapper(train_original_target, transform_lambda)\n",
    "val_processed_target   = Lazy_Iterable_Wrapper(val_original_target, transform_lambda)\n",
    "test_processed_target  = Lazy_Iterable_Wrapper(test_original_target, transform_lambda)\n",
    "\n",
    "datasets = EasyDict({\n",
    "    \"source\": {\n",
    "        \"original\": {\"train\":train_original_source, \"val\":val_original_source, \"test\":test_original_source},\n",
    "        \"processed\": {\"train\":train_processed_source, \"val\":val_processed_source, \"test\":test_processed_source}\n",
    "    },\n",
    "    \"target\": {\n",
    "        \"original\": {\"train\":train_original_target, \"val\":val_original_target, \"test\":test_original_target},\n",
    "        \"processed\": {\"train\":train_processed_target, \"val\":val_processed_target, \"test\":test_processed_target}\n",
    "    },\n",
    "})"
   ]
  },
  {
   "cell_type": "code",
   "execution_count": 20,
   "id": "5b3c01fc",
   "metadata": {
    "execution": {
     "iopub.execute_input": "2022-03-21T04:04:19.413795Z",
     "iopub.status.busy": "2022-03-21T04:04:19.413247Z",
     "iopub.status.idle": "2022-03-21T04:04:28.225288Z",
     "shell.execute_reply": "2022-03-21T04:04:28.224313Z"
    },
    "papermill": {
     "duration": 8.845214,
     "end_time": "2022-03-21T04:04:28.225477",
     "exception": false,
     "start_time": "2022-03-21T04:04:19.380263",
     "status": "completed"
    },
    "tags": []
   },
   "outputs": [
    {
     "name": "stdout",
     "output_type": "stream",
     "text": [
      "{'CORES_4', 'CORES_5', 'CORES_3', 'CORES_2', 'CORES_1'}\n"
     ]
    },
    {
     "name": "stdout",
     "output_type": "stream",
     "text": [
      "{'Wisig_3', 'Wisig_2', 'Wisig_1', 'Wisig_4'}\n"
     ]
    },
    {
     "name": "stdout",
     "output_type": "stream",
     "text": [
      "tensor([[[ 0.4365, -0.0553, -1.1034,  ...,  0.7983,  1.1442, -0.0436],\n",
      "         [ 0.1584,  0.6537,  0.8156,  ...,  0.3597,  0.3549,  0.3881]],\n",
      "\n",
      "        [[ 0.5230,  0.9888,  0.3668,  ...,  0.2915,  0.2566,  0.6527],\n",
      "         [-0.2671,  0.7886,  1.0641,  ..., -1.2816, -0.4030,  0.5732]],\n",
      "\n",
      "        [[ 0.4769,  0.1977, -0.7185,  ...,  0.9706,  1.1140,  0.0425],\n",
      "         [ 0.0244,  0.7178,  1.1718,  ..., -0.0717, -0.1789,  0.4261]],\n",
      "\n",
      "        ...,\n",
      "\n",
      "        [[-0.1817, -0.1476,  0.8452,  ...,  0.9209,  0.6682, -0.1088],\n",
      "         [ 0.0625, -0.3445,  0.0161,  ...,  0.3909, -0.8774, -0.5508]],\n",
      "\n",
      "        [[ 0.1541,  0.2861, -0.7467,  ..., -0.8713,  0.3720,  0.2344],\n",
      "         [-0.1477,  0.2280,  0.5686,  ...,  0.5464,  1.0697,  0.0535]],\n",
      "\n",
      "        [[-0.1243, -0.3074,  0.6251,  ...,  0.9260,  0.6597, -0.2252],\n",
      "         [ 0.0925, -0.2747, -0.2700,  ...,  0.2280, -0.8073, -0.8139]]])\n"
     ]
    }
   ],
   "source": [
    "from steves_utils.transforms import get_average_magnitude, get_average_power\n",
    "\n",
    "print(set([u for u,_ in val_original_source]))\n",
    "print(set([u for u,_ in val_original_target]))\n",
    "\n",
    "s_x, s_y, q_x, q_y, _ = next(iter(train_processed_source))\n",
    "print(s_x)\n",
    "\n",
    "# for ds in [\n",
    "#     train_processed_source,\n",
    "#     val_processed_source,\n",
    "#     test_processed_source,\n",
    "#     train_processed_target,\n",
    "#     val_processed_target,\n",
    "#     test_processed_target\n",
    "# ]:\n",
    "#     for s_x, s_y, q_x, q_y, _ in ds:\n",
    "#         for X in (s_x, q_x):\n",
    "#             for x in X:\n",
    "#                 assert np.isclose(get_average_magnitude(x.numpy()), 1.0)\n",
    "#                 assert np.isclose(get_average_power(x.numpy()), 1.0)\n",
    "                "
   ]
  },
  {
   "cell_type": "code",
   "execution_count": 21,
   "id": "bbdacba1",
   "metadata": {
    "execution": {
     "iopub.execute_input": "2022-03-21T04:04:28.278424Z",
     "iopub.status.busy": "2022-03-21T04:04:28.277798Z",
     "iopub.status.idle": "2022-03-21T04:04:28.482121Z",
     "shell.execute_reply": "2022-03-21T04:04:28.482779Z"
    },
    "papermill": {
     "duration": 0.231194,
     "end_time": "2022-03-21T04:04:28.483034",
     "exception": false,
     "start_time": "2022-03-21T04:04:28.251840",
     "status": "completed"
    },
    "tags": []
   },
   "outputs": [
    {
     "name": "stdout",
     "output_type": "stream",
     "text": [
      "(2, 256)\n"
     ]
    }
   ],
   "source": [
    "###################################\n",
    "# Build the model\n",
    "###################################\n",
    "# easfsl only wants a tuple for the shape\n",
    "model = Steves_Prototypical_Network(x_net, device=p.device, x_shape=tuple(p.x_shape))\n",
    "optimizer = Adam(params=model.parameters(), lr=p.lr)"
   ]
  },
  {
   "cell_type": "code",
   "execution_count": 22,
   "id": "22b39ac5",
   "metadata": {
    "execution": {
     "iopub.execute_input": "2022-03-21T04:04:28.542481Z",
     "iopub.status.busy": "2022-03-21T04:04:28.542007Z",
     "iopub.status.idle": "2022-03-21T04:06:46.894507Z",
     "shell.execute_reply": "2022-03-21T04:06:46.893882Z"
    },
    "papermill": {
     "duration": 138.380873,
     "end_time": "2022-03-21T04:06:46.894685",
     "exception": false,
     "start_time": "2022-03-21T04:04:28.513812",
     "status": "completed"
    },
    "tags": []
   },
   "outputs": [
    {
     "name": "stdout",
     "output_type": "stream",
     "text": [
      "epoch: 1, [batch: 1 / 351], examples_per_second: 333.7698, train_label_loss: 3.8284, \n"
     ]
    },
    {
     "name": "stdout",
     "output_type": "stream",
     "text": [
      "epoch: 1, [batch: 36 / 351], examples_per_second: 3102.8396, train_label_loss: 0.8293, \n"
     ]
    },
    {
     "name": "stdout",
     "output_type": "stream",
     "text": [
      "epoch: 1, [batch: 71 / 351], examples_per_second: 3155.0022, train_label_loss: 0.2578, \n"
     ]
    },
    {
     "name": "stdout",
     "output_type": "stream",
     "text": [
      "epoch: 1, [batch: 106 / 351], examples_per_second: 3033.5223, train_label_loss: 0.1563, \n"
     ]
    },
    {
     "name": "stdout",
     "output_type": "stream",
     "text": [
      "epoch: 1, [batch: 141 / 351], examples_per_second: 3010.6440, train_label_loss: 0.0668, \n"
     ]
    },
    {
     "name": "stdout",
     "output_type": "stream",
     "text": [
      "epoch: 1, [batch: 176 / 351], examples_per_second: 3121.2211, train_label_loss: 0.0549, \n"
     ]
    },
    {
     "name": "stdout",
     "output_type": "stream",
     "text": [
      "epoch: 1, [batch: 211 / 351], examples_per_second: 3144.9842, train_label_loss: 0.0274, \n"
     ]
    },
    {
     "name": "stdout",
     "output_type": "stream",
     "text": [
      "epoch: 1, [batch: 246 / 351], examples_per_second: 3026.2323, train_label_loss: 0.0166, \n"
     ]
    },
    {
     "name": "stdout",
     "output_type": "stream",
     "text": [
      "epoch: 1, [batch: 281 / 351], examples_per_second: 2982.4928, train_label_loss: 0.0235, \n"
     ]
    },
    {
     "name": "stdout",
     "output_type": "stream",
     "text": [
      "epoch: 1, [batch: 316 / 351], examples_per_second: 3091.2478, train_label_loss: 0.0533, \n"
     ]
    },
    {
     "name": "stdout",
     "output_type": "stream",
     "text": [
      "=============================================================\n",
      "epoch: 1, source_val_acc_label: 0.9984, target_val_acc_label: 0.7058, source_val_label_loss: 0.0182, target_val_label_loss: 1.7695, \n",
      "=============================================================\n"
     ]
    },
    {
     "name": "stdout",
     "output_type": "stream",
     "text": [
      "New best\n"
     ]
    },
    {
     "name": "stdout",
     "output_type": "stream",
     "text": [
      "epoch: 2, [batch: 1 / 351], examples_per_second: 30.2356, train_label_loss: 0.0199, \n"
     ]
    },
    {
     "name": "stdout",
     "output_type": "stream",
     "text": [
      "epoch: 2, [batch: 36 / 351], examples_per_second: 3060.3275, train_label_loss: 0.0088, \n"
     ]
    },
    {
     "name": "stdout",
     "output_type": "stream",
     "text": [
      "epoch: 2, [batch: 71 / 351], examples_per_second: 3049.0707, train_label_loss: 0.0041, \n"
     ]
    },
    {
     "name": "stdout",
     "output_type": "stream",
     "text": [
      "epoch: 2, [batch: 106 / 351], examples_per_second: 3030.5663, train_label_loss: 0.0027, \n"
     ]
    },
    {
     "name": "stdout",
     "output_type": "stream",
     "text": [
      "epoch: 2, [batch: 141 / 351], examples_per_second: 2942.8581, train_label_loss: 0.0041, \n"
     ]
    },
    {
     "name": "stdout",
     "output_type": "stream",
     "text": [
      "epoch: 2, [batch: 176 / 351], examples_per_second: 3063.3155, train_label_loss: 0.0058, \n"
     ]
    },
    {
     "name": "stdout",
     "output_type": "stream",
     "text": [
      "epoch: 2, [batch: 211 / 351], examples_per_second: 2957.3280, train_label_loss: 0.0014, \n"
     ]
    },
    {
     "name": "stdout",
     "output_type": "stream",
     "text": [
      "epoch: 2, [batch: 246 / 351], examples_per_second: 3040.8120, train_label_loss: 0.1338, \n"
     ]
    },
    {
     "name": "stdout",
     "output_type": "stream",
     "text": [
      "epoch: 2, [batch: 281 / 351], examples_per_second: 3028.5294, train_label_loss: 0.0102, \n"
     ]
    },
    {
     "name": "stdout",
     "output_type": "stream",
     "text": [
      "epoch: 2, [batch: 316 / 351], examples_per_second: 2953.2400, train_label_loss: 0.0029, \n"
     ]
    },
    {
     "name": "stdout",
     "output_type": "stream",
     "text": [
      "=============================================================\n",
      "epoch: 2, source_val_acc_label: 0.9973, target_val_acc_label: 0.6601, source_val_label_loss: 0.0114, target_val_label_loss: 3.5744, \n",
      "=============================================================\n"
     ]
    },
    {
     "name": "stdout",
     "output_type": "stream",
     "text": [
      "epoch: 3, [batch: 1 / 351], examples_per_second: 33.9235, train_label_loss: 0.0062, \n"
     ]
    },
    {
     "name": "stdout",
     "output_type": "stream",
     "text": [
      "epoch: 3, [batch: 36 / 351], examples_per_second: 3530.0978, train_label_loss: 0.0925, \n"
     ]
    },
    {
     "name": "stdout",
     "output_type": "stream",
     "text": [
      "epoch: 3, [batch: 71 / 351], examples_per_second: 3707.0843, train_label_loss: 0.0461, \n"
     ]
    },
    {
     "name": "stdout",
     "output_type": "stream",
     "text": [
      "epoch: 3, [batch: 106 / 351], examples_per_second: 3745.8353, train_label_loss: 0.0016, \n"
     ]
    },
    {
     "name": "stdout",
     "output_type": "stream",
     "text": [
      "epoch: 3, [batch: 141 / 351], examples_per_second: 3340.1618, train_label_loss: 0.0030, \n"
     ]
    },
    {
     "name": "stdout",
     "output_type": "stream",
     "text": [
      "epoch: 3, [batch: 176 / 351], examples_per_second: 3404.1648, train_label_loss: 0.0092, \n"
     ]
    },
    {
     "name": "stdout",
     "output_type": "stream",
     "text": [
      "epoch: 3, [batch: 211 / 351], examples_per_second: 3523.9107, train_label_loss: 0.0005, \n"
     ]
    },
    {
     "name": "stdout",
     "output_type": "stream",
     "text": [
      "epoch: 3, [batch: 246 / 351], examples_per_second: 3365.5884, train_label_loss: 0.0035, \n"
     ]
    },
    {
     "name": "stdout",
     "output_type": "stream",
     "text": [
      "epoch: 3, [batch: 281 / 351], examples_per_second: 3444.9720, train_label_loss: 0.0120, \n"
     ]
    },
    {
     "name": "stdout",
     "output_type": "stream",
     "text": [
      "epoch: 3, [batch: 316 / 351], examples_per_second: 3397.8220, train_label_loss: 0.0008, \n"
     ]
    },
    {
     "name": "stdout",
     "output_type": "stream",
     "text": [
      "=============================================================\n",
      "epoch: 3, source_val_acc_label: 0.9971, target_val_acc_label: 0.6880, source_val_label_loss: 0.0087, target_val_label_loss: 3.3533, \n",
      "=============================================================\n"
     ]
    }
   ],
   "source": [
    "###################################\n",
    "# train\n",
    "###################################\n",
    "jig = PTN_Train_Eval_Test_Jig(model, p.BEST_MODEL_PATH, p.device)\n",
    "\n",
    "jig.train(\n",
    "    train_iterable=datasets.source.processed.train,\n",
    "    source_val_iterable=datasets.source.processed.val,\n",
    "    target_val_iterable=datasets.target.processed.val,\n",
    "    num_epochs=p.n_epoch,\n",
    "    num_logs_per_epoch=p.NUM_LOGS_PER_EPOCH,\n",
    "    patience=p.patience,\n",
    "    optimizer=optimizer,\n",
    "    criteria_for_best=p.criteria_for_best,\n",
    ")"
   ]
  },
  {
   "cell_type": "code",
   "execution_count": 23,
   "id": "31e8fabf",
   "metadata": {
    "execution": {
     "iopub.execute_input": "2022-03-21T04:06:46.970055Z",
     "iopub.status.busy": "2022-03-21T04:06:46.969675Z",
     "iopub.status.idle": "2022-03-21T04:06:47.002298Z",
     "shell.execute_reply": "2022-03-21T04:06:47.001571Z"
    },
    "papermill": {
     "duration": 0.069709,
     "end_time": "2022-03-21T04:06:47.002467",
     "exception": false,
     "start_time": "2022-03-21T04:06:46.932758",
     "status": "completed"
    },
    "tags": []
   },
   "outputs": [],
   "source": [
    "total_experiment_time_secs = time.time() - start_time_secs"
   ]
  },
  {
   "cell_type": "code",
   "execution_count": 24,
   "id": "87b9595b",
   "metadata": {
    "execution": {
     "iopub.execute_input": "2022-03-21T04:06:47.079383Z",
     "iopub.status.busy": "2022-03-21T04:06:47.078968Z",
     "iopub.status.idle": "2022-03-21T04:07:53.685547Z",
     "shell.execute_reply": "2022-03-21T04:07:53.686540Z"
    },
    "papermill": {
     "duration": 66.64599,
     "end_time": "2022-03-21T04:07:53.686890",
     "exception": false,
     "start_time": "2022-03-21T04:06:47.040900",
     "status": "completed"
    },
    "tags": []
   },
   "outputs": [],
   "source": [
    "###################################\n",
    "# Evaluate the model\n",
    "###################################\n",
    "source_test_label_accuracy, source_test_label_loss = jig.test(datasets.source.processed.test)\n",
    "target_test_label_accuracy, target_test_label_loss = jig.test(datasets.target.processed.test)\n",
    "\n",
    "source_val_label_accuracy, source_val_label_loss = jig.test(datasets.source.processed.val)\n",
    "target_val_label_accuracy, target_val_label_loss = jig.test(datasets.target.processed.val)\n",
    "\n",
    "history = jig.get_history()\n",
    "\n",
    "total_epochs_trained = len(history[\"epoch_indices\"])\n",
    "\n",
    "val_dl = Iterable_Aggregator((datasets.source.original.val,datasets.target.original.val))\n",
    "\n",
    "confusion = ptn_confusion_by_domain_over_dataloader(model, p.device, val_dl)\n",
    "per_domain_accuracy = per_domain_accuracy_from_confusion(confusion)\n",
    "\n",
    "# Add a key to per_domain_accuracy for if it was a source domain\n",
    "for domain, accuracy in per_domain_accuracy.items():\n",
    "    per_domain_accuracy[domain] = {\n",
    "        \"accuracy\": accuracy,\n",
    "        \"source?\": domain in p.domains_source\n",
    "    }\n",
    "\n",
    "# Do an independent accuracy assesment JUST TO BE SURE!\n",
    "# _source_test_label_accuracy = independent_accuracy_assesment(model, datasets.source.processed.test, p.device)\n",
    "# _target_test_label_accuracy = independent_accuracy_assesment(model, datasets.target.processed.test, p.device)\n",
    "# _source_val_label_accuracy = independent_accuracy_assesment(model, datasets.source.processed.val, p.device)\n",
    "# _target_val_label_accuracy = independent_accuracy_assesment(model, datasets.target.processed.val, p.device)\n",
    "\n",
    "# assert(_source_test_label_accuracy == source_test_label_accuracy)\n",
    "# assert(_target_test_label_accuracy == target_test_label_accuracy)\n",
    "# assert(_source_val_label_accuracy == source_val_label_accuracy)\n",
    "# assert(_target_val_label_accuracy == target_val_label_accuracy)\n",
    "\n",
    "experiment = {\n",
    "    \"experiment_name\": p.experiment_name,\n",
    "    \"parameters\": dict(p),\n",
    "    \"results\": {\n",
    "        \"source_test_label_accuracy\": source_test_label_accuracy,\n",
    "        \"source_test_label_loss\": source_test_label_loss,\n",
    "        \"target_test_label_accuracy\": target_test_label_accuracy,\n",
    "        \"target_test_label_loss\": target_test_label_loss,\n",
    "        \"source_val_label_accuracy\": source_val_label_accuracy,\n",
    "        \"source_val_label_loss\": source_val_label_loss,\n",
    "        \"target_val_label_accuracy\": target_val_label_accuracy,\n",
    "        \"target_val_label_loss\": target_val_label_loss,\n",
    "        \"total_epochs_trained\": total_epochs_trained,\n",
    "        \"total_experiment_time_secs\": total_experiment_time_secs,\n",
    "        \"confusion\": confusion,\n",
    "        \"per_domain_accuracy\": per_domain_accuracy,\n",
    "    },\n",
    "    \"history\": history,\n",
    "    \"dataset_metrics\": get_dataset_metrics(datasets, \"ptn\"),\n",
    "}"
   ]
  },
  {
   "cell_type": "code",
   "execution_count": 25,
   "id": "54a21829",
   "metadata": {
    "execution": {
     "iopub.execute_input": "2022-03-21T04:07:53.769479Z",
     "iopub.status.busy": "2022-03-21T04:07:53.769092Z",
     "iopub.status.idle": "2022-03-21T04:07:53.982827Z",
     "shell.execute_reply": "2022-03-21T04:07:53.983502Z"
    },
    "papermill": {
     "duration": 0.255498,
     "end_time": "2022-03-21T04:07:53.983776",
     "exception": false,
     "start_time": "2022-03-21T04:07:53.728278",
     "status": "completed"
    },
    "tags": []
   },
   "outputs": [
    {
     "data": {
      "image/png": "[encoded data removed]",
      "text/plain": [
       "<Figure size 1080x504 with 1 Axes>"
      ]
     },
     "metadata": {
      "needs_background": "light"
     },
     "output_type": "display_data"
    }
   ],
   "source": [
    "ax = get_loss_curve(experiment)\n",
    "plt.show()"
   ]
  },
  {
   "cell_type": "code",
   "execution_count": 26,
   "id": "fd8a0f60",
   "metadata": {
    "execution": {
     "iopub.execute_input": "2022-03-21T04:07:54.061906Z",
     "iopub.status.busy": "2022-03-21T04:07:54.061526Z",
     "iopub.status.idle": "2022-03-21T04:07:54.393649Z",
     "shell.execute_reply": "2022-03-21T04:07:54.393325Z"
    },
    "papermill": {
     "duration": 0.368427,
     "end_time": "2022-03-21T04:07:54.393744",
     "exception": false,
     "start_time": "2022-03-21T04:07:54.025317",
     "status": "completed"
    },
    "tags": []
   },
   "outputs": [
    {
     "data": {
      "text/plain": [
       "<AxesSubplot:title={'center':'Results'}>"
      ]
     },
     "execution_count": 26,
     "metadata": {},
     "output_type": "execute_result"
    },
    {
     "data": {
      "image/png": "[encoded data removed]",
      "text/plain": [
       "<Figure size 1080x504 with 1 Axes>"
      ]
     },
     "metadata": {
      "needs_background": "light"
     },
     "output_type": "display_data"
    }
   ],
   "source": [
    "get_results_table(experiment)"
   ]
  },
  {
   "cell_type": "code",
   "execution_count": 27,
   "id": "cf8dc689",
   "metadata": {
    "execution": {
     "iopub.execute_input": "2022-03-21T04:07:54.470608Z",
     "iopub.status.busy": "2022-03-21T04:07:54.469967Z",
     "iopub.status.idle": "2022-03-21T04:07:54.697095Z",
     "shell.execute_reply": "2022-03-21T04:07:54.697787Z"
    },
    "papermill": {
     "duration": 0.268473,
     "end_time": "2022-03-21T04:07:54.698024",
     "exception": false,
     "start_time": "2022-03-21T04:07:54.429551",
     "status": "completed"
    },
    "tags": []
   },
   "outputs": [
    {
     "data": {
      "text/plain": [
       "<AxesSubplot:title={'center':'Per Domain Validation Accuracy'}, xlabel='domain'>"
      ]
     },
     "execution_count": 27,
     "metadata": {},
     "output_type": "execute_result"
    },
    {
     "data": {
      "image/png": "[encoded data removed]",
      "text/plain": [
       "<Figure size 1080x504 with 1 Axes>"
      ]
     },
     "metadata": {
      "needs_background": "light"
     },
     "output_type": "display_data"
    }
   ],
   "source": [
    "get_domain_accuracies(experiment)"
   ]
  },
  {
   "cell_type": "code",
   "execution_count": 28,
   "id": "a74ae082",
   "metadata": {
    "execution": {
     "iopub.execute_input": "2022-03-21T04:07:54.784459Z",
     "iopub.status.busy": "2022-03-21T04:07:54.784074Z",
     "iopub.status.idle": "2022-03-21T04:07:54.808389Z",
     "shell.execute_reply": "2022-03-21T04:07:54.809056Z"
    },
    "papermill": {
     "duration": 0.068202,
     "end_time": "2022-03-21T04:07:54.809282",
     "exception": false,
     "start_time": "2022-03-21T04:07:54.741080",
     "status": "completed"
    },
    "tags": []
   },
   "outputs": [
    {
     "name": "stdout",
     "output_type": "stream",
     "text": [
      "Source Test Label Accuracy: 0.9970689655172413 Target Test Label Accuracy: 0.7067678847143593\n",
      "Source Val Label Accuracy: 0.9983836206896551 Target Val Label Accuracy: 0.7057516163793104\n"
     ]
    }
   ],
   "source": [
    "print(\"Source Test Label Accuracy:\", experiment[\"results\"][\"source_test_label_accuracy\"], \"Target Test Label Accuracy:\", experiment[\"results\"][\"target_test_label_accuracy\"])\n",
    "print(\"Source Val Label Accuracy:\", experiment[\"results\"][\"source_val_label_accuracy\"], \"Target Val Label Accuracy:\", experiment[\"results\"][\"target_val_label_accuracy\"])"
   ]
  },
  {
   "cell_type": "code",
   "execution_count": 29,
   "id": "dacca602",
   "metadata": {
    "execution": {
     "iopub.execute_input": "2022-03-21T04:07:54.891658Z",
     "iopub.status.busy": "2022-03-21T04:07:54.891251Z",
     "iopub.status.idle": "2022-03-21T04:07:54.920317Z",
     "shell.execute_reply": "2022-03-21T04:07:54.920983Z"
    },
    "papermill": {
     "duration": 0.070486,
     "end_time": "2022-03-21T04:07:54.921205",
     "exception": false,
     "start_time": "2022-03-21T04:07:54.850719",
     "status": "completed"
    },
    "tags": [
     "experiment_json"
    ]
   },
   "outputs": [
    {
     "data": {
      "text/plain": [
       "'{\"experiment_name\": \"tl_1v2:cores-wisig\", \"parameters\": {\"experiment_name\": \"tl_1v2:cores-wisig\", \"device\": \"cuda\", \"lr\": 0.0001, \"n_shot\": 3, \"n_query\": 2, \"train_k_factor\": 3, \"val_k_factor\": 2, \"test_k_factor\": 2, \"torch_default_dtype\": \"torch.float32\", \"n_epoch\": 3, \"patience\": 3, \"criteria_for_best\": \"target_accuracy\", \"x_net\": [{\"class\": \"nnReshape\", \"kargs\": {\"shape\": [-1, 1, 2, 256]}}, {\"class\": \"Conv2d\", \"kargs\": {\"in_channels\": 1, \"out_channels\": 256, \"kernel_size\": [1, 7], \"bias\": false, \"padding\": [0, 3]}}, {\"class\": \"ReLU\", \"kargs\": {\"inplace\": true}}, {\"class\": \"BatchNorm2d\", \"kargs\": {\"num_features\": 256}}, {\"class\": \"Conv2d\", \"kargs\": {\"in_channels\": 256, \"out_channels\": 80, \"kernel_size\": [2, 7], \"bias\": true, \"padding\": [0, 3]}}, {\"class\": \"ReLU\", \"kargs\": {\"inplace\": true}}, {\"class\": \"BatchNorm2d\", \"kargs\": {\"num_features\": 80}}, {\"class\": \"Flatten\", \"kargs\": {}}, {\"class\": \"Linear\", \"kargs\": {\"in_features\": 20480, \"out_features\": 256}}, {\"class\": \"ReLU\", \"kargs\": {\"inplace\": true}}, {\"class\": \"BatchNorm1d\", \"kargs\": {\"num_features\": 256}}, {\"class\": \"Linear\", \"kargs\": {\"in_features\": 256, \"out_features\": 256}}], \"NUM_LOGS_PER_EPOCH\": 10, \"BEST_MODEL_PATH\": \"./best_model.pth\", \"n_way\": 58, \"datasets\": [{\"labels\": [\"1-10.\", \"1-11.\", \"1-15.\", \"1-16.\", \"1-17.\", \"1-18.\", \"1-19.\", \"10-4.\", \"10-7.\", \"11-1.\", \"11-14.\", \"11-17.\", \"11-20.\", \"11-7.\", \"13-20.\", \"13-8.\", \"14-10.\", \"14-11.\", \"14-14.\", \"14-7.\", \"15-1.\", \"15-20.\", \"16-1.\", \"16-16.\", \"17-10.\", \"17-11.\", \"17-2.\", \"19-1.\", \"19-16.\", \"19-19.\", \"19-20.\", \"19-3.\", \"2-10.\", \"2-11.\", \"2-17.\", \"2-18.\", \"2-20.\", \"2-3.\", \"2-4.\", \"2-5.\", \"2-6.\", \"2-7.\", \"2-8.\", \"3-13.\", \"3-18.\", \"3-3.\", \"4-1.\", \"4-10.\", \"4-11.\", \"4-19.\", \"5-5.\", \"6-15.\", \"7-10.\", \"7-14.\", \"8-18.\", \"8-20.\", \"8-3.\", \"8-8.\"], \"domains\": [1, 2, 3, 4, 5], \"num_examples_per_domain_per_label\": -1, \"pickle_path\": \"/root/csc500-main/datasets/cores.stratified_ds.2022A.pkl\", \"source_or_target_dataset\": \"source\", \"x_transforms\": [\"unit_mag\"], \"episode_transforms\": [], \"domain_prefix\": \"CORES_\"}, {\"labels\": [\"1-10\", \"1-12\", \"1-14\", \"1-16\", \"1-18\", \"1-19\", \"1-8\", \"10-11\", \"10-17\", \"10-4\", \"10-7\", \"11-1\", \"11-10\", \"11-19\", \"11-20\", \"11-4\", \"11-7\", \"12-19\", \"12-20\", \"12-7\", \"13-14\", \"13-18\", \"13-19\", \"13-20\", \"13-3\", \"13-7\", \"14-10\", \"14-11\", \"14-12\", \"14-13\", \"14-14\", \"14-19\", \"14-20\", \"14-7\", \"14-8\", \"14-9\", \"15-1\", \"15-19\", \"15-6\", \"16-1\", \"16-16\", \"16-19\", \"16-20\", \"17-10\", \"17-11\", \"18-1\", \"18-10\", \"18-11\", \"18-12\", \"18-13\", \"18-14\", \"18-15\", \"18-16\", \"18-17\", \"18-19\", \"18-2\", \"18-20\", \"18-4\", \"18-5\", \"18-7\", \"18-8\", \"18-9\", \"19-1\", \"19-10\", \"19-11\", \"19-12\", \"19-13\", \"19-14\", \"19-15\", \"19-19\", \"19-2\", \"19-20\", \"19-3\", \"19-4\", \"19-6\", \"19-7\", \"19-8\", \"19-9\", \"2-1\", \"2-13\", \"2-15\", \"2-3\", \"2-4\", \"2-5\", \"2-6\", \"2-7\", \"2-8\", \"20-1\", \"20-12\", \"20-14\", \"20-15\", \"20-16\", \"20-18\", \"20-19\", \"20-20\", \"20-3\", \"20-4\", \"20-5\", \"20-7\", \"20-8\", \"3-1\", \"3-13\", \"3-18\", \"3-2\", \"3-8\", \"4-1\", \"4-10\", \"4-11\", \"5-1\", \"5-5\", \"6-1\", \"6-15\", \"6-6\", \"7-10\", \"7-11\", \"7-12\", \"7-13\", \"7-14\", \"7-7\", \"7-8\", \"7-9\", \"8-1\", \"8-13\", \"8-14\", \"8-18\", \"8-20\", \"8-3\", \"8-8\", \"9-1\", \"9-7\"], \"domains\": [1, 2, 3, 4], \"num_examples_per_domain_per_label\": -1, \"pickle_path\": \"/root/csc500-main/datasets/wisig.node3-19.stratified_ds.2022A.pkl\", \"source_or_target_dataset\": \"target\", \"x_transforms\": [\"unit_mag\"], \"episode_transforms\": [], \"domain_prefix\": \"Wisig_\"}], \"dataset_seed\": 500, \"seed\": 500, \"x_shape\": [2, 256], \"domains_source\": [\"CORES_1\", \"CORES_2\", \"CORES_3\", \"CORES_4\", \"CORES_5\"], \"domains_target\": [\"Wisig_1\", \"Wisig_2\", \"Wisig_3\", \"Wisig_4\"]}, \"results\": {\"source_test_label_accuracy\": 0.9970689655172413, \"source_test_label_loss\": 0.02437288872897625, \"target_test_label_accuracy\": 0.7067678847143593, \"target_test_label_loss\": 1.7500659227371216, \"source_val_label_accuracy\": 0.9983836206896551, \"source_val_label_loss\": 0.018217049539089203, \"target_val_label_accuracy\": 0.7057516163793104, \"target_val_label_loss\": 1.7695279121398926, \"total_epochs_trained\": 3, \"total_experiment_time_secs\": 192.05638980865479, \"confusion\": {\"CORES_4\": {\"42\": {\"42\": 16}, \"55\": {\"55\": 16}, \"35\": {\"35\": 16}, \"27\": {\"27\": 16}, \"8\": {\"8\": 16}, \"57\": {\"57\": 16}, \"49\": {\"49\": 16}, \"47\": {\"47\": 16}, \"16\": {\"16\": 16}, \"56\": {\"56\": 16}, \"31\": {\"31\": 16}, \"10\": {\"10\": 16}, \"26\": {\"26\": 16}, \"19\": {\"19\": 16}, \"52\": {\"52\": 16}, \"53\": {\"53\": 16}, \"37\": {\"37\": 16}, \"48\": {\"48\": 16}, \"1\": {\"1\": 16}, \"0\": {\"0\": 16}, \"13\": {\"13\": 16}, \"21\": {\"21\": 16}, \"18\": {\"18\": 15, \"23\": 1}, \"24\": {\"24\": 16}, \"6\": {\"6\": 16}, \"4\": {\"4\": 16}, \"30\": {\"30\": 16}, \"38\": {\"38\": 16}, \"34\": {\"34\": 16}, \"11\": {\"11\": 16}, \"12\": {\"12\": 16}, \"22\": {\"22\": 16}, \"3\": {\"3\": 16}, \"23\": {\"23\": 16}, \"9\": {\"9\": 16}, \"15\": {\"15\": 16}, \"50\": {\"50\": 16}, \"5\": {\"5\": 16}, \"33\": {\"33\": 16}, \"46\": {\"47\": 1, \"46\": 15}, \"20\": {\"20\": 16}, \"45\": {\"45\": 16}, \"2\": {\"2\": 16}, \"7\": {\"7\": 16}, \"39\": {\"39\": 16}, \"40\": {\"40\": 16}, \"44\": {\"44\": 16}, \"41\": {\"41\": 16}, \"29\": {\"29\": 16}, \"54\": {\"54\": 16}, \"32\": {\"32\": 16}, \"25\": {\"25\": 16}, \"43\": {\"43\": 16}, \"28\": {\"28\": 16}, \"51\": {\"51\": 16}, \"14\": {\"14\": 16}, \"36\": {\"36\": 16}, \"17\": {\"17\": 16}}, \"CORES_5\": {\"25\": {\"25\": 20}, \"14\": {\"14\": 20}, \"30\": {\"30\": 20}, \"50\": {\"50\": 20}, \"31\": {\"31\": 20}, \"15\": {\"15\": 20}, \"38\": {\"38\": 20}, \"43\": {\"43\": 20}, \"19\": {\"19\": 20}, \"26\": {\"26\": 20}, \"48\": {\"48\": 20}, \"12\": {\"12\": 20}, \"18\": {\"18\": 20}, \"8\": {\"8\": 20}, \"5\": {\"5\": 20}, \"24\": {\"24\": 20}, \"16\": {\"16\": 20}, \"10\": {\"10\": 20}, \"2\": {\"2\": 20}, \"27\": {\"27\": 20}, \"35\": {\"35\": 20}, \"17\": {\"17\": 20}, \"37\": {\"37\": 20}, \"41\": {\"41\": 20}, \"45\": {\"45\": 20}, \"54\": {\"54\": 20}, \"34\": {\"34\": 20}, \"56\": {\"56\": 20}, \"52\": {\"52\": 20}, \"39\": {\"39\": 20}, \"57\": {\"57\": 20}, \"0\": {\"0\": 20}, \"20\": {\"20\": 20}, \"46\": {\"46\": 20}, \"28\": {\"28\": 20}, \"23\": {\"23\": 20}, \"53\": {\"53\": 20}, \"7\": {\"7\": 20}, \"3\": {\"3\": 20}, \"22\": {\"22\": 20}, \"44\": {\"44\": 20}, \"42\": {\"42\": 20}, \"9\": {\"9\": 20}, \"1\": {\"1\": 19, \"6\": 1}, \"13\": {\"13\": 20}, \"49\": {\"49\": 20}, \"11\": {\"11\": 20}, \"47\": {\"47\": 19, \"3\": 1}, \"21\": {\"21\": 20}, \"29\": {\"29\": 20}, \"51\": {\"51\": 20}, \"36\": {\"36\": 20}, \"6\": {\"6\": 20}, \"33\": {\"33\": 20}, \"4\": {\"4\": 20}, \"32\": {\"32\": 20}, \"55\": {\"55\": 20}, \"40\": {\"40\": 20}}, \"CORES_2\": {\"19\": {\"19\": 20}, \"6\": {\"6\": 20}, \"45\": {\"45\": 20}, \"49\": {\"49\": 20}, \"23\": {\"23\": 20}, \"28\": {\"28\": 20}, \"54\": {\"54\": 20}, \"36\": {\"36\": 20}, \"0\": {\"0\": 20}, \"56\": {\"56\": 20}, \"20\": {\"20\": 20}, \"8\": {\"8\": 20}, \"11\": {\"11\": 20}, \"39\": {\"39\": 20}, \"42\": {\"42\": 20}, \"24\": {\"24\": 20}, \"44\": {\"44\": 20}, \"29\": {\"29\": 20}, \"13\": {\"13\": 20}, \"35\": {\"35\": 20}, \"50\": {\"50\": 20}, \"40\": {\"40\": 20}, \"21\": {\"21\": 20}, \"34\": {\"34\": 20}, \"52\": {\"52\": 20}, \"2\": {\"2\": 20}, \"57\": {\"57\": 20}, \"4\": {\"4\": 20}, \"37\": {\"37\": 20}, \"26\": {\"26\": 20}, \"33\": {\"33\": 20}, \"18\": {\"18\": 20}, \"10\": {\"10\": 20}, \"31\": {\"31\": 20}, \"22\": {\"22\": 20}, \"41\": {\"41\": 20}, \"27\": {\"27\": 20}, \"1\": {\"1\": 20}, \"55\": {\"55\": 20}, \"15\": {\"15\": 20}, \"38\": {\"38\": 20}, \"12\": {\"12\": 20}, \"51\": {\"51\": 20}, \"32\": {\"32\": 20}, \"3\": {\"3\": 20}, \"5\": {\"5\": 20}, \"14\": {\"14\": 20}, \"43\": {\"43\": 20}, \"30\": {\"30\": 20}, \"16\": {\"16\": 20}, \"47\": {\"47\": 19, \"7\": 1}, \"7\": {\"7\": 20}, \"9\": {\"9\": 20}, \"46\": {\"46\": 20}, \"48\": {\"48\": 20}, \"25\": {\"25\": 20}, \"53\": {\"53\": 20}, \"17\": {\"17\": 20}}, \"CORES_1\": {\"24\": {\"24\": 24}, \"9\": {\"9\": 24}, \"0\": {\"0\": 24}, \"41\": {\"41\": 24}, \"17\": {\"17\": 24}, \"38\": {\"38\": 24}, \"3\": {\"3\": 24}, \"37\": {\"37\": 24}, \"46\": {\"46\": 24}, \"51\": {\"51\": 24}, \"40\": {\"40\": 24}, \"45\": {\"45\": 24}, \"53\": {\"53\": 24}, \"56\": {\"56\": 24}, \"36\": {\"36\": 24}, \"50\": {\"50\": 24}, \"42\": {\"42\": 24}, \"1\": {\"1\": 24}, \"34\": {\"34\": 24}, \"55\": {\"55\": 24}, \"7\": {\"7\": 24}, \"23\": {\"23\": 24}, \"2\": {\"2\": 24}, \"18\": {\"18\": 24}, \"15\": {\"15\": 24}, \"29\": {\"29\": 24}, \"30\": {\"30\": 24}, \"33\": {\"33\": 24}, \"32\": {\"32\": 24}, \"19\": {\"19\": 24}, \"16\": {\"16\": 24}, \"43\": {\"43\": 24}, \"5\": {\"5\": 24}, \"12\": {\"12\": 24}, \"44\": {\"44\": 24}, \"14\": {\"14\": 24}, \"8\": {\"8\": 24}, \"20\": {\"20\": 24}, \"31\": {\"31\": 24}, \"28\": {\"28\": 24}, \"11\": {\"11\": 24}, \"27\": {\"27\": 24}, \"48\": {\"48\": 24}, \"21\": {\"21\": 24}, \"26\": {\"26\": 24}, \"6\": {\"6\": 23, \"2\": 1}, \"4\": {\"4\": 24}, \"35\": {\"35\": 24}, \"10\": {\"10\": 24}, \"57\": {\"57\": 24}, \"47\": {\"47\": 24}, \"13\": {\"13\": 24}, \"54\": {\"54\": 24}, \"49\": {\"49\": 24}, \"25\": {\"25\": 24}, \"22\": {\"22\": 23, \"11\": 1}, \"39\": {\"39\": 24}, \"52\": {\"52\": 24}}, \"CORES_3\": {\"13\": {\"13\": 16}, \"45\": {\"45\": 16}, \"17\": {\"17\": 16}, \"11\": {\"11\": 16}, \"41\": {\"41\": 16}, \"24\": {\"24\": 16}, \"30\": {\"30\": 16}, \"43\": {\"43\": 16}, \"51\": {\"51\": 16}, \"2\": {\"2\": 16}, \"42\": {\"42\": 16}, \"40\": {\"40\": 16}, \"16\": {\"16\": 16}, \"54\": {\"54\": 16}, \"50\": {\"50\": 16}, \"48\": {\"48\": 16}, \"8\": {\"8\": 16}, \"21\": {\"21\": 14, \"46\": 1, \"50\": 1}, \"29\": {\"29\": 16}, \"14\": {\"14\": 16}, \"47\": {\"47\": 16}, \"32\": {\"32\": 16}, \"36\": {\"36\": 16}, \"9\": {\"9\": 16}, \"52\": {\"52\": 16}, \"0\": {\"0\": 16}, \"6\": {\"6\": 16}, \"12\": {\"12\": 16}, \"4\": {\"4\": 16}, \"49\": {\"49\": 16}, \"37\": {\"37\": 16}, \"18\": {\"18\": 16}, \"35\": {\"35\": 16}, \"38\": {\"38\": 16}, \"10\": {\"10\": 16}, \"25\": {\"25\": 16}, \"22\": {\"22\": 16}, \"1\": {\"1\": 16}, \"19\": {\"19\": 16}, \"33\": {\"33\": 16}, \"28\": {\"28\": 16}, \"23\": {\"23\": 16}, \"57\": {\"57\": 16}, \"34\": {\"34\": 16}, \"46\": {\"46\": 16}, \"44\": {\"44\": 16}, \"31\": {\"31\": 16}, \"27\": {\"27\": 16}, \"26\": {\"26\": 16}, \"15\": {\"15\": 16}, \"20\": {\"20\": 16}, \"3\": {\"3\": 16}, \"56\": {\"56\": 16}, \"7\": {\"7\": 16}, \"53\": {\"53\": 16}, \"5\": {\"5\": 16}, \"39\": {\"39\": 16}, \"55\": {\"55\": 16}}, \"Wisig_3\": {\"111\": {\"111\": 27, \"84\": 1, \"34\": 1, \"15\": 1}, \"108\": {\"85\": 4, \"108\": 22, \"73\": 2, \"70\": 4, \"112\": 1, \"11\": 1, \"42\": 2}, \"37\": {\"37\": 16}, \"38\": {\"38\": 16}, \"11\": {\"78\": 1, \"43\": 4, \"11\": 21, \"116\": 2, \"32\": 1, \"93\": 1, \"87\": 1, \"23\": 1, \"33\": 1, \"16\": 1, \"13\": 1, \"107\": 1, \"102\": 1, \"2\": 2, \"113\": 1}, \"22\": {\"22\": 15, \"57\": 1}, \"40\": {\"66\": 2, \"40\": 41, \"105\": 2, \"122\": 1}, \"107\": {\"107\": 42, \"87\": 1, \"34\": 1}, \"23\": {\"39\": 2, \"23\": 9, \"77\": 3, \"126\": 1, \"124\": 3, \"128\": 1, \"63\": 2, \"81\": 1, \"91\": 2, \"60\": 2, \"127\": 1, \"110\": 1, \"67\": 1, \"123\": 2, \"90\": 1}, \"34\": {\"98\": 5, \"32\": 5, \"34\": 8, \"125\": 2, \"48\": 2, \"107\": 3, \"14\": 4, \"82\": 1, \"6\": 1, \"75\": 1}, \"122\": {\"128\": 2, \"122\": 20, \"78\": 1, \"14\": 3, \"32\": 1, \"28\": 2, \"107\": 3, \"99\": 6, \"87\": 2, \"127\": 3, \"90\": 1}, \"29\": {\"80\": 1, \"103\": 1, \"29\": 25, \"1\": 4, \"44\": 1}, \"121\": {\"39\": 3, \"26\": 3, \"121\": 15, \"117\": 3, \"63\": 2, \"18\": 5, \"81\": 1}, \"93\": {\"93\": 37, \"23\": 1, \"16\": 1, \"64\": 2, \"11\": 1}, \"30\": {\"47\": 1, \"23\": 1, \"30\": 24, \"124\": 1, \"81\": 1, \"112\": 1, \"97\": 1, \"98\": 1, \"18\": 1, \"6\": 1, \"12\": 2, \"8\": 1}, \"127\": {\"127\": 34, \"4\": 2, \"3\": 3, \"16\": 1}, \"28\": {\"28\": 16}, \"47\": {\"47\": 11, \"124\": 1}, \"74\": {\"74\": 16}, \"79\": {\"79\": 12}, \"41\": {\"56\": 1, \"41\": 12, \"34\": 2, \"86\": 1}, \"86\": {\"86\": 19, \"4\": 5, \"68\": 2, \"10\": 1, \"39\": 1}, \"85\": {\"108\": 3, \"85\": 30, \"8\": 2, \"106\": 1}, \"45\": {\"45\": 16}, \"32\": {\"32\": 9, \"115\": 2, \"65\": 2, \"9\": 2, \"17\": 1, \"107\": 4, \"10\": 4, \"82\": 1, \"45\": 3, \"116\": 2, \"22\": 1, \"50\": 1}, \"16\": {\"92\": 2, \"16\": 29, \"116\": 1, \"100\": 1, \"93\": 1, \"1\": 1, \"90\": 1}, \"49\": {\"53\": 5, \"47\": 1, \"20\": 1, \"49\": 9, \"8\": 1, \"97\": 2, \"85\": 3, \"73\": 1, \"70\": 1}, \"58\": {\"58\": 12, \"34\": 1, \"91\": 1, \"111\": 2}, \"106\": {\"106\": 35, \"73\": 1, \"12\": 1, \"59\": 1}, \"78\": {\"16\": 1, \"98\": 1, \"18\": 1, \"107\": 1, \"91\": 1, \"4\": 1, \"99\": 2, \"118\": 2, \"105\": 1, \"78\": 2, \"122\": 1, \"43\": 1, \"48\": 1}, \"5\": {\"5\": 29, \"114\": 2, \"46\": 1, \"124\": 1, \"1\": 1, \"71\": 1, \"19\": 2, \"8\": 1}, \"26\": {\"26\": 44, \"118\": 1, \"2\": 1}, \"13\": {\"26\": 9, \"14\": 1, \"18\": 3, \"84\": 1, \"13\": 1, \"2\": 1}, \"27\": {\"27\": 16, \"24\": 7, \"17\": 1, \"36\": 11, \"83\": 1, \"100\": 1, \"42\": 1, \"112\": 2}, \"54\": {\"54\": 16}, \"68\": {\"56\": 1, \"68\": 13, \"128\": 1, \"127\": 1}, \"128\": {\"128\": 14, \"30\": 1, \"87\": 3, \"99\": 4, \"28\": 2, \"71\": 3, \"122\": 2, \"4\": 1, \"105\": 1, \"19\": 1}, \"104\": {\"104\": 16}, \"7\": {\"7\": 42, \"9\": 1, \"95\": 2, \"88\": 1}, \"116\": {\"11\": 1, \"116\": 19, \"87\": 1, \"45\": 2, \"82\": 1, \"118\": 1, \"102\": 1, \"17\": 1, \"33\": 1}, \"80\": {\"80\": 13, \"109\": 1, \"44\": 1, \"79\": 1}, \"92\": {\"92\": 27, \"17\": 1, \"6\": 1, \"16\": 1, \"90\": 2}, \"62\": {\"62\": 33, \"94\": 1}, \"64\": {\"64\": 20}, \"12\": {\"12\": 28, \"11\": 1, \"124\": 2, \"98\": 4, \"21\": 1, \"73\": 1, \"3\": 1}, \"56\": {\"59\": 1, \"56\": 6, \"41\": 2, \"86\": 1, \"125\": 1, \"4\": 1}, \"39\": {\"39\": 21, \"21\": 1, \"117\": 5, \"63\": 1, \"113\": 10, \"126\": 1, \"121\": 2, \"18\": 1, \"81\": 2}, \"98\": {\"98\": 28, \"72\": 1, \"30\": 1, \"125\": 3, \"18\": 1}, \"59\": {\"59\": 10, \"94\": 1, \"98\": 1}, \"90\": {\"90\": 31, \"122\": 1}, \"52\": {\"52\": 14, \"12\": 1, \"73\": 1}, \"105\": {\"105\": 41, \"4\": 1}, \"53\": {\"53\": 15, \"20\": 2, \"88\": 2, \"15\": 1}, \"43\": {\"13\": 2, \"43\": 19, \"11\": 1, \"33\": 11, \"23\": 1, \"118\": 2, \"102\": 7, \"113\": 1, \"14\": 1, \"39\": 1}, \"100\": {\"100\": 12, \"39\": 1, \"122\": 1, \"28\": 2}, \"61\": {\"61\": 16}, \"66\": {\"66\": 15, \"105\": 1}, \"103\": {\"12\": 1, \"103\": 13, \"71\": 1, \"87\": 1}, \"55\": {\"55\": 16}, \"75\": {\"75\": 14, \"6\": 1, \"0\": 1}, \"118\": {\"102\": 4, \"118\": 27, \"43\": 2, \"39\": 1, \"109\": 2, \"82\": 1, \"45\": 1}, \"117\": {\"117\": 38, \"43\": 1, \"113\": 1}, \"115\": {\"115\": 16}, \"110\": {\"110\": 20, \"60\": 4, \"129\": 5, \"1\": 1, \"70\": 1, \"31\": 1}, \"95\": {\"95\": 27, \"7\": 2, \"16\": 1}, \"18\": {\"117\": 4, \"81\": 1, \"18\": 35, \"21\": 1, \"61\": 1}, \"50\": {\"50\": 16}, \"112\": {\"108\": 4, \"112\": 4, \"42\": 5, \"126\": 1, \"8\": 2}, \"72\": {\"72\": 23, \"98\": 1, \"34\": 1, \"6\": 1, \"103\": 1, \"91\": 1}, \"109\": {\"109\": 32, \"69\": 2, \"76\": 4, \"89\": 3, \"62\": 1}, \"126\": {\"126\": 26, \"18\": 1, \"63\": 1, \"61\": 1, \"81\": 3}, \"14\": {\"14\": 36, \"84\": 2, \"32\": 2, \"122\": 2, \"90\": 1, \"107\": 1}, \"17\": {\"78\": 1, \"55\": 1, \"17\": 1, \"56\": 1, \"16\": 2, \"21\": 1, \"9\": 2, \"126\": 2, \"23\": 1, \"64\": 2, \"96\": 1, \"66\": 1}, \"51\": {\"51\": 16}, \"96\": {\"96\": 20}, \"77\": {\"77\": 15, \"124\": 1}, \"71\": {\"71\": 35, \"3\": 1}, \"4\": {\"4\": 26, \"86\": 3, \"105\": 2, \"122\": 1}, \"87\": {\"87\": 23, \"17\": 1, \"84\": 2, \"11\": 1, \"107\": 2, \"116\": 2, \"19\": 2, \"127\": 1, \"100\": 2, \"29\": 1, \"40\": 1, \"128\": 1, \"122\": 3}, \"120\": {\"120\": 20}, \"113\": {\"113\": 28, \"117\": 6, \"2\": 1, \"121\": 1, \"39\": 2}, \"123\": {\"123\": 12, \"119\": 2, \"17\": 1, \"63\": 1}, \"35\": {\"35\": 9, \"83\": 1, \"65\": 1, \"37\": 1}, \"83\": {\"83\": 21, \"36\": 1, \"81\": 1, \"39\": 1}, \"24\": {\"25\": 2, \"83\": 3, \"42\": 3, \"24\": 19, \"27\": 4, \"112\": 1, \"36\": 5, \"108\": 1}, \"102\": {\"102\": 37, \"43\": 1}, \"6\": {\"51\": 2, \"6\": 18, \"58\": 3, \"34\": 3, \"91\": 1, \"30\": 1, \"101\": 1, \"75\": 1, \"125\": 1, \"72\": 1}, \"81\": {\"81\": 30}, \"89\": {\"89\": 26, \"69\": 2}, \"114\": {\"114\": 34, \"33\": 1, \"1\": 1}, \"1\": {\"1\": 41, \"29\": 1, \"46\": 1, \"31\": 1, \"114\": 4}, \"25\": {\"25\": 16}, \"88\": {\"108\": 12, \"67\": 2, \"96\": 3, \"88\": 14, \"126\": 3, \"85\": 1, \"49\": 4, \"42\": 1, \"122\": 1, \"70\": 1}, \"46\": {\"114\": 1, \"46\": 15}, \"57\": {\"57\": 20}, \"73\": {\"73\": 32, \"88\": 1, \"97\": 1}, \"60\": {\"114\": 3, \"60\": 8, \"79\": 1, \"77\": 2, \"29\": 3, \"122\": 2, \"31\": 3, \"1\": 1, \"14\": 1, \"110\": 2, \"23\": 1, \"44\": 1}, \"10\": {\"86\": 1, \"66\": 2, \"10\": 27, \"65\": 1, \"37\": 2, \"16\": 1, \"7\": 2, \"95\": 3, \"32\": 3, \"9\": 1, \"90\": 1}, \"36\": {\"83\": 4, \"36\": 16, \"108\": 1, \"27\": 9, \"24\": 4}, \"65\": {\"65\": 7, \"39\": 1, \"121\": 1, \"81\": 1, \"18\": 1, \"9\": 1}, \"67\": {\"63\": 1, \"123\": 3, \"67\": 12}, \"119\": {\"119\": 16}, \"15\": {\"8\": 1, \"15\": 37, \"52\": 2, \"21\": 1, \"94\": 3, \"73\": 1, \"78\": 1, \"39\": 1, \"6\": 1}, \"42\": {\"42\": 22, \"85\": 5, \"112\": 1}, \"91\": {\"111\": 1, \"3\": 2, \"6\": 2, \"68\": 1, \"91\": 9, \"19\": 1, \"34\": 3, \"41\": 2, \"89\": 1, \"128\": 1, \"124\": 1}, \"3\": {\"3\": 28, \"128\": 2, \"127\": 3, \"98\": 1}, \"44\": {\"44\": 34, \"29\": 3, \"1\": 1, \"114\": 2, \"16\": 1, \"92\": 1}, \"63\": {\"75\": 1, \"63\": 11, \"39\": 2, \"112\": 1, \"100\": 1}, \"33\": {\"33\": 34, \"84\": 1, \"82\": 1, \"78\": 1, \"43\": 1}, \"69\": {\"69\": 31, \"89\": 2, \"82\": 1, \"118\": 1, \"78\": 1}, \"101\": {\"101\": 33, \"0\": 9, \"51\": 2, \"39\": 1, \"21\": 1}, \"48\": {\"26\": 3, \"119\": 1, \"63\": 2, \"23\": 4, \"95\": 1, \"10\": 2, \"9\": 1, \"123\": 1, \"2\": 1}, \"8\": {\"124\": 3, \"8\": 21, \"53\": 1, \"39\": 1, \"70\": 4, \"52\": 1, \"108\": 1}, \"124\": {\"8\": 3, \"60\": 1, \"124\": 32, \"111\": 1, \"108\": 1, \"49\": 1, \"77\": 1, \"91\": 1, \"52\": 1, \"12\": 1, \"98\": 1}, \"9\": {\"66\": 4, \"9\": 25, \"55\": 2, \"116\": 1}, \"21\": {\"21\": 19, \"11\": 1, \"88\": 1, \"87\": 1, \"15\": 1, \"39\": 1}, \"20\": {\"20\": 14, \"53\": 1, \"129\": 1}, \"0\": {\"0\": 38, \"21\": 1, \"101\": 3, \"95\": 1, \"34\": 1, \"68\": 1, \"51\": 2, \"10\": 1}, \"125\": {\"125\": 36, \"87\": 1, \"86\": 1, \"73\": 1, \"106\": 1}, \"19\": {\"52\": 1, \"91\": 3, \"128\": 2, \"19\": 11, \"12\": 1, \"122\": 2, \"124\": 2, \"127\": 1, \"129\": 2, \"72\": 2, \"110\": 2, \"5\": 1}, \"99\": {\"99\": 24, \"48\": 3, \"4\": 5, \"105\": 1, \"127\": 2, \"86\": 1}, \"94\": {\"100\": 1, \"59\": 1, \"94\": 20, \"30\": 1, \"97\": 3, \"15\": 2}, \"84\": {\"84\": 42, \"107\": 2, \"87\": 2}, \"70\": {\"70\": 11, \"129\": 2, \"93\": 1, \"5\": 2, \"60\": 1, \"11\": 1, \"12\": 2, \"88\": 4, \"19\": 2, \"8\": 3, \"1\": 2, \"30\": 2, \"49\": 1, \"124\": 1, \"110\": 1}, \"129\": {\"129\": 22, \"110\": 3, \"19\": 2, \"1\": 1, \"31\": 2, \"23\": 1, \"20\": 1}, \"76\": {\"76\": 16}, \"2\": {\"18\": 2, \"100\": 1, \"63\": 2, \"2\": 5, \"96\": 1, \"11\": 1, \"26\": 8, \"23\": 1, \"93\": 6, \"64\": 1}, \"97\": {\"15\": 6, \"97\": 10, \"73\": 2, \"85\": 1, \"108\": 1}, \"82\": {\"82\": 28}, \"31\": {\"31\": 19, \"60\": 1}}, \"Wisig_1\": {\"51\": {\"51\": 16}, \"103\": {\"103\": 16}, \"53\": {\"53\": 16, \"111\": 1, \"6\": 1, \"49\": 1, \"98\": 1}, \"24\": {\"24\": 25, \"27\": 2, \"88\": 7, \"97\": 2, \"36\": 1, \"126\": 1, \"109\": 1, \"39\": 1}, \"39\": {\"39\": 26, \"13\": 2, \"69\": 1, \"83\": 1, \"36\": 2, \"117\": 3, \"16\": 2, \"18\": 2, \"113\": 1}, \"90\": {\"90\": 45, \"14\": 1}, \"106\": {\"106\": 33, \"86\": 10, \"98\": 2, \"68\": 1, \"91\": 2, \"111\": 1, \"71\": 1}, \"54\": {\"54\": 14, \"46\": 1, \"34\": 1}, \"56\": {\"56\": 10, \"32\": 1, \"37\": 1}, \"118\": {\"118\": 34}, \"100\": {\"100\": 11, \"25\": 1, \"99\": 4}, \"95\": {\"95\": 33, \"117\": 1, \"26\": 2}, \"98\": {\"98\": 32, \"51\": 2, \"106\": 2}, \"36\": {\"36\": 33, \"24\": 3, \"88\": 3, \"113\": 1, \"27\": 2}, \"48\": {\"48\": 12}, \"107\": {\"107\": 32, \"121\": 1, \"7\": 2, \"4\": 5}, \"5\": {\"70\": 1, \"29\": 1, \"5\": 35, \"72\": 2, \"106\": 2, \"120\": 1}, \"82\": {\"82\": 32, \"3\": 2}, \"6\": {\"51\": 4, \"49\": 1, \"26\": 1, \"52\": 2, \"68\": 1, \"98\": 2, \"30\": 1, \"6\": 12, \"71\": 2, \"94\": 2, \"123\": 1, \"32\": 2, \"91\": 1}, \"27\": {\"88\": 12, \"27\": 22, \"59\": 2, \"108\": 1, \"97\": 2, \"36\": 1, \"24\": 2}, \"77\": {\"77\": 10, \"60\": 1, \"54\": 2, \"17\": 2, \"21\": 1}, \"75\": {\"75\": 16}, \"2\": {\"82\": 2, \"54\": 1, \"22\": 1, \"3\": 1, \"2\": 12, \"123\": 2, \"114\": 5, \"116\": 1, \"119\": 1, \"11\": 2, \"33\": 2, \"77\": 2}, \"31\": {\"31\": 14, \"73\": 1, \"49\": 1}, \"29\": {\"29\": 24, \"71\": 2, \"124\": 1, \"44\": 1}, \"35\": {\"35\": 11, \"43\": 1}, \"125\": {\"125\": 36, \"6\": 2}, \"123\": {\"123\": 15, \"8\": 1}, \"64\": {\"64\": 15, \"19\": 1}, \"50\": {\"50\": 14, \"69\": 2}, \"16\": {\"95\": 1, \"16\": 35, \"117\": 2, \"109\": 1, \"39\": 1}, \"79\": {\"79\": 12}, \"1\": {\"1\": 38}, \"70\": {\"5\": 3, \"70\": 10, \"6\": 1, \"19\": 1, \"23\": 1, \"44\": 5, \"21\": 2, \"109\": 7, \"108\": 1, \"126\": 1, \"8\": 1, \"106\": 1, \"71\": 1, \"29\": 2, \"100\": 1, \"91\": 1, \"97\": 1, \"89\": 1, \"124\": 1}, \"121\": {\"16\": 3, \"121\": 25, \"95\": 2}, \"14\": {\"14\": 33, \"18\": 1, \"21\": 1, \"90\": 6, \"122\": 1}, \"80\": {\"80\": 14, \"81\": 1, \"43\": 1}, \"99\": {\"99\": 23, \"100\": 1}, \"116\": {\"78\": 1, \"116\": 13, \"94\": 1, \"8\": 4, \"102\": 1, \"33\": 1, \"114\": 1, \"69\": 1, \"11\": 8, \"81\": 1}, \"15\": {\"15\": 30, \"100\": 1, \"103\": 2, \"9\": 3, \"27\": 6, \"94\": 1, \"52\": 2, \"97\": 3, \"88\": 1, \"111\": 2, \"24\": 1}, \"127\": {\"127\": 44, \"125\": 1, \"6\": 1, \"91\": 2}, \"101\": {\"101\": 38}, \"89\": {\"89\": 27, \"59\": 1, \"9\": 1, \"45\": 1, \"106\": 3, \"46\": 2, \"86\": 1}, \"83\": {\"70\": 1, \"83\": 18, \"23\": 2, \"127\": 1, \"124\": 1, \"78\": 1, \"72\": 1, \"91\": 1, \"44\": 2}, \"34\": {\"34\": 7, \"87\": 1, \"53\": 5, \"28\": 2, \"122\": 3, \"14\": 3, \"43\": 6, \"89\": 2, \"58\": 1, \"60\": 1, \"90\": 1}, \"78\": {\"121\": 2, \"78\": 3, \"93\": 1, \"105\": 4, \"18\": 1, \"87\": 2, \"21\": 1, \"122\": 1, \"116\": 1}, \"43\": {\"43\": 22, \"100\": 1, \"34\": 1, \"122\": 13, \"81\": 5, \"105\": 3, \"78\": 1, \"83\": 1, \"40\": 1}, \"74\": {\"74\": 16}, \"120\": {\"99\": 1, \"120\": 14, \"121\": 1, \"50\": 2, \"69\": 2}, \"25\": {\"25\": 16}, \"129\": {\"64\": 3, \"129\": 14, \"20\": 3, \"72\": 3, \"18\": 1, \"2\": 1, \"5\": 1, \"19\": 1, \"44\": 1}, \"88\": {\"24\": 5, \"27\": 3, \"88\": 16, \"15\": 5, \"36\": 6, \"97\": 2, \"108\": 2, \"53\": 1}, \"119\": {\"119\": 16}, \"18\": {\"18\": 31, \"39\": 5}, \"66\": {\"66\": 15, \"14\": 1}, \"102\": {\"102\": 38, \"33\": 5, \"69\": 1}, \"85\": {\"85\": 29, \"92\": 2, \"0\": 1}, \"13\": {\"13\": 12, \"117\": 2, \"102\": 2}, \"3\": {\"3\": 40, \"129\": 2}, \"84\": {\"84\": 36, \"87\": 2}, \"8\": {\"8\": 31, \"22\": 1, \"107\": 1, \"84\": 1, \"5\": 1, \"11\": 1, \"82\": 1, \"87\": 4, \"21\": 1, \"113\": 1, \"116\": 1}, \"19\": {\"19\": 12, \"64\": 1, \"22\": 1, \"104\": 2, \"83\": 2, \"129\": 3, \"70\": 2, \"128\": 1, \"21\": 2, \"29\": 1, \"82\": 1}, \"7\": {\"7\": 36}, \"20\": {\"20\": 15, \"129\": 1}, \"93\": {\"4\": 4, \"93\": 21, \"87\": 4, \"21\": 2, \"110\": 2, \"90\": 1, \"107\": 4, \"7\": 2, \"83\": 1, \"34\": 1}, \"71\": {\"51\": 1, \"49\": 1, \"71\": 33, \"111\": 4, \"6\": 5, \"117\": 1, \"94\": 1}, \"128\": {\"115\": 2, \"128\": 10, \"72\": 1, \"29\": 3, \"114\": 5, \"101\": 1, \"46\": 1, \"54\": 1}, \"59\": {\"51\": 3, \"59\": 7, \"6\": 1, \"63\": 1}, \"126\": {\"126\": 36, \"96\": 3, \"73\": 1, \"109\": 2, \"108\": 1, \"70\": 1, \"47\": 1, \"100\": 1}, \"4\": {\"4\": 29, \"93\": 1, \"107\": 3, \"7\": 1, \"110\": 1, \"95\": 1}, \"91\": {\"83\": 1, \"91\": 14, \"106\": 2, \"71\": 3, \"127\": 3, \"44\": 1, \"93\": 1, \"112\": 1, \"21\": 1, \"12\": 1}, \"76\": {\"76\": 16}, \"49\": {\"49\": 9, \"111\": 2, \"72\": 1, \"106\": 1, \"52\": 2, \"89\": 2, \"31\": 2, \"86\": 1}, \"114\": {\"114\": 46, \"77\": 1, \"113\": 1}, \"115\": {\"115\": 11, \"128\": 1}, \"44\": {\"44\": 31, \"21\": 1}, \"17\": {\"17\": 15, \"11\": 1}, \"46\": {\"46\": 4, \"8\": 1, \"53\": 1, \"17\": 1, \"58\": 2, \"45\": 2, \"77\": 1}, \"96\": {\"126\": 5, \"96\": 14, \"2\": 1}, \"68\": {\"98\": 2, \"68\": 13, \"86\": 1}, \"86\": {\"86\": 24, \"68\": 2, \"106\": 5, \"98\": 3, \"34\": 1, \"5\": 1}, \"65\": {\"65\": 2, \"76\": 1, \"57\": 1, \"117\": 1, \"21\": 1, \"22\": 1, \"102\": 1, \"122\": 1, \"74\": 1, \"63\": 1, \"33\": 1}, \"10\": {\"10\": 26, \"85\": 6, \"92\": 2, \"38\": 1, \"0\": 7, \"62\": 3, \"21\": 1, \"43\": 1, \"50\": 1, \"122\": 2}, \"22\": {\"22\": 11, \"66\": 2, \"90\": 2, \"8\": 1}, \"94\": {\"94\": 37, \"2\": 1, \"52\": 1, \"15\": 2, \"49\": 1, \"109\": 1, \"125\": 1, \"12\": 1, \"108\": 1}, \"9\": {\"9\": 31, \"15\": 1}, \"73\": {\"73\": 18, \"104\": 2}, \"37\": {\"85\": 1, \"75\": 1, \"37\": 13, \"6\": 1}, \"26\": {\"26\": 43, \"118\": 1, \"113\": 1, \"78\": 1}, \"21\": {\"100\": 1, \"68\": 1, \"113\": 1, \"21\": 13, \"23\": 1, \"90\": 1, \"19\": 2, \"84\": 1, \"8\": 2, \"116\": 1, \"16\": 1, \"14\": 1, \"30\": 2, \"34\": 1, \"127\": 1, \"78\": 1, \"39\": 6, \"120\": 1, \"83\": 1, \"87\": 1}, \"47\": {\"47\": 11, \"126\": 1}, \"67\": {\"67\": 16}, \"117\": {\"117\": 31, \"16\": 2, \"39\": 1}, \"72\": {\"72\": 27, \"5\": 1, \"83\": 1, \"34\": 1}, \"12\": {\"12\": 28, \"52\": 1, \"53\": 1, \"111\": 1, \"83\": 1, \"98\": 2, \"15\": 1, \"106\": 1, \"49\": 1, \"89\": 1, \"44\": 1, \"91\": 1}, \"92\": {\"92\": 28}, \"23\": {\"23\": 5, \"127\": 1, \"34\": 2, \"1\": 2, \"128\": 4, \"83\": 1, \"124\": 2, \"14\": 1, \"123\": 1, \"110\": 1, \"28\": 1, \"84\": 1, \"93\": 1, \"21\": 1}, \"57\": {\"57\": 12}, \"38\": {\"38\": 16}, \"11\": {\"11\": 20, \"8\": 4, \"102\": 1, \"54\": 1, \"33\": 1, \"128\": 1, \"116\": 2, \"114\": 1, \"40\": 1}, \"32\": {\"56\": 1, \"32\": 17, \"58\": 2, \"34\": 1, \"127\": 2, \"21\": 1, \"110\": 2, \"41\": 1, \"98\": 1, \"112\": 1, \"4\": 1, \"0\": 1, \"85\": 1}, \"69\": {\"69\": 30, \"120\": 2, \"102\": 3, \"67\": 1, \"113\": 2, \"118\": 2}, \"105\": {\"105\": 26, \"40\": 14, \"93\": 1, \"43\": 1, \"41\": 1, \"107\": 1}, \"52\": {\"52\": 17, \"30\": 1, \"111\": 1, \"6\": 1}, \"109\": {\"104\": 1, \"109\": 23, \"42\": 2, \"96\": 3, \"129\": 2, \"5\": 3, \"124\": 2, \"1\": 2, \"108\": 2, \"21\": 1, \"126\": 2, \"70\": 2, \"39\": 1}, \"60\": {\"34\": 2, \"60\": 6, \"14\": 4, \"90\": 1, \"2\": 2, \"100\": 1}, \"87\": {\"87\": 24, \"65\": 1, \"78\": 2, \"8\": 2, \"93\": 1, \"105\": 6, \"81\": 1, \"107\": 1, \"40\": 1, \"66\": 1}, \"113\": {\"113\": 38}, \"42\": {\"1\": 2, \"42\": 9, \"113\": 1, \"8\": 7, \"129\": 1, \"21\": 2, \"20\": 1, \"84\": 1, \"109\": 2, \"3\": 1, \"39\": 1}, \"61\": {\"61\": 12}, \"63\": {\"63\": 16}, \"111\": {\"111\": 31, \"53\": 1}, \"41\": {\"41\": 15, \"93\": 1}, \"40\": {\"40\": 31, \"19\": 1, \"105\": 5, \"39\": 1, \"107\": 1, \"93\": 1}, \"112\": {\"112\": 16}, \"108\": {\"104\": 3, \"108\": 18, \"9\": 5, \"126\": 2, \"109\": 1, \"15\": 3, \"5\": 1, \"49\": 1, \"47\": 1, \"70\": 1, \"71\": 1, \"94\": 1}, \"104\": {\"104\": 16}, \"28\": {\"28\": 17, \"6\": 1, \"14\": 1, \"90\": 1}, \"122\": {\"122\": 24, \"81\": 2, \"83\": 1, \"43\": 10, \"87\": 1, \"113\": 1, \"80\": 1}, \"81\": {\"81\": 28}, \"124\": {\"124\": 18, \"82\": 4, \"128\": 1, \"89\": 2, \"1\": 3, \"5\": 1, \"44\": 1}, \"45\": {\"39\": 1, \"45\": 4, \"1\": 1, \"42\": 1, \"23\": 1, \"18\": 1, \"82\": 1, \"124\": 1, \"60\": 1}, \"97\": {\"15\": 2, \"126\": 3, \"97\": 8, \"108\": 1, \"24\": 1, \"27\": 3, \"88\": 1, \"125\": 1}, \"58\": {\"58\": 6, \"53\": 1, \"87\": 1, \"127\": 2, \"34\": 1, \"110\": 1}, \"30\": {\"6\": 2, \"70\": 1, \"71\": 4, \"30\": 16, \"112\": 2, \"44\": 2, \"94\": 1, \"12\": 1, \"91\": 1, \"53\": 1, \"32\": 1}, \"33\": {\"78\": 1, \"33\": 39, \"102\": 1, \"21\": 1}, \"55\": {\"55\": 12}, \"62\": {\"62\": 40, \"67\": 2, \"69\": 2}, \"110\": {\"110\": 22, \"93\": 1, \"78\": 1, \"4\": 4}, \"0\": {\"0\": 29, \"21\": 1, \"85\": 2}}, \"Wisig_2\": {\"4\": {\"4\": 36, \"54\": 5, \"26\": 1, \"38\": 1, \"107\": 2, \"122\": 2, \"91\": 1}, \"21\": {\"21\": 33, \"17\": 1, \"87\": 1, \"24\": 1}, \"5\": {\"5\": 42, \"53\": 2, \"3\": 1, \"8\": 1, \"114\": 1, \"88\": 1}, \"71\": {\"71\": 32, \"114\": 2, \"5\": 2, \"12\": 1, \"53\": 1, \"128\": 1, \"39\": 1}, \"46\": {\"46\": 13, \"126\": 2, \"100\": 1}, \"100\": {\"100\": 16}, \"97\": {\"97\": 11, \"49\": 1, \"31\": 1, \"53\": 1, \"52\": 4, \"15\": 1, \"107\": 1}, \"74\": {\"74\": 11, \"21\": 1, \"104\": 2, \"32\": 1, \"88\": 1}, \"116\": {\"116\": 17, \"45\": 2, \"23\": 1, \"90\": 1, \"87\": 3, \"84\": 1, \"70\": 1, \"110\": 2}, \"104\": {\"40\": 2, \"104\": 13, \"105\": 1, \"21\": 1, \"126\": 1, \"6\": 1, \"95\": 1}, \"70\": {\"21\": 3, \"110\": 3, \"82\": 1, \"70\": 7, \"43\": 3, \"88\": 1, \"84\": 2, \"78\": 2, \"1\": 1, \"87\": 1, \"34\": 1, \"90\": 2, \"14\": 2, \"11\": 1, \"39\": 1, \"32\": 1, \"24\": 1, \"33\": 1}, \"84\": {\"84\": 34, \"88\": 1, \"43\": 4, \"102\": 1}, \"73\": {\"73\": 21, \"129\": 2, \"1\": 2, \"5\": 1, \"118\": 1, \"60\": 1}, \"29\": {\"29\": 29, \"127\": 1, \"30\": 1, \"122\": 1}, \"26\": {\"26\": 36, \"2\": 2, \"21\": 1, \"121\": 2, \"113\": 1, \"67\": 1, \"11\": 1}, \"3\": {\"3\": 31, \"112\": 1, \"21\": 1, \"71\": 1, \"8\": 1, \"122\": 1, \"18\": 1, \"67\": 1}, \"40\": {\"40\": 36, \"21\": 2, \"117\": 1, \"49\": 1, \"86\": 1, \"95\": 2, \"88\": 1}, \"126\": {\"46\": 1, \"126\": 24, \"5\": 1, \"21\": 1, \"122\": 1, \"42\": 1, \"16\": 3, \"44\": 3, \"70\": 1, \"88\": 1, \"83\": 1}, \"94\": {\"94\": 17, \"21\": 3, \"24\": 6, \"15\": 10, \"108\": 1, \"11\": 1, \"9\": 1, \"58\": 1, \"97\": 2, \"125\": 1, \"98\": 1}, \"28\": {\"28\": 17, \"97\": 1, \"116\": 1, \"72\": 1}, \"38\": {\"38\": 16}, \"23\": {\"29\": 3, \"26\": 1, \"3\": 1, \"99\": 8, \"19\": 2, \"127\": 2, \"8\": 3, \"77\": 2, \"42\": 1, \"65\": 2, \"32\": 1, \"113\": 5, \"122\": 5, \"103\": 2, \"23\": 2, \"21\": 1, \"48\": 1, \"110\": 1, \"117\": 1}, \"61\": {\"40\": 2, \"55\": 2, \"61\": 13, \"66\": 2, \"49\": 1}, \"122\": {\"29\": 6, \"60\": 1, \"122\": 17, \"110\": 2, \"4\": 1, \"3\": 3, \"52\": 1, \"8\": 5, \"128\": 3, \"21\": 2, \"127\": 1, \"97\": 1, \"37\": 1, \"32\": 1, \"20\": 1, \"5\": 1, \"70\": 1}, \"7\": {\"7\": 27, \"17\": 3, \"4\": 3, \"95\": 3, \"54\": 2}, \"47\": {\"47\": 10, \"107\": 1, \"97\": 1}, \"56\": {\"56\": 10, \"54\": 1, \"115\": 1}, \"58\": {\"58\": 15, \"126\": 1, \"51\": 2, \"6\": 1, \"98\": 1}, \"90\": {\"90\": 47, \"87\": 1}, \"117\": {\"117\": 33, \"113\": 3, \"24\": 1, \"128\": 1}, \"66\": {\"66\": 17, \"37\": 1, \"78\": 2}, \"110\": {\"110\": 23, \"32\": 2, \"3\": 1, \"88\": 1, \"122\": 3, \"18\": 1, \"121\": 2, \"14\": 1, \"23\": 2, \"43\": 1, \"60\": 1, \"21\": 1, \"87\": 1}, \"127\": {\"127\": 37, \"59\": 1, \"29\": 2}, \"120\": {\"120\": 20}, \"85\": {\"85\": 30, \"60\": 1, \"11\": 1}, \"64\": {\"64\": 13, \"17\": 1, \"89\": 2}, \"17\": {\"40\": 6, \"4\": 1, \"17\": 4, \"56\": 1, \"126\": 1, \"95\": 1, \"86\": 1, \"49\": 1}, \"114\": {\"114\": 33, \"71\": 2, \"24\": 1}, \"43\": {\"60\": 1, \"38\": 2, \"43\": 18, \"84\": 4, \"116\": 4, \"107\": 2, \"90\": 5, \"78\": 5, \"70\": 2, \"4\": 1, \"42\": 1, \"21\": 1}, \"60\": {\"1\": 3, \"73\": 3, \"60\": 4, \"87\": 3, \"100\": 1, \"14\": 3, \"123\": 4, \"85\": 1, \"57\": 1, \"70\": 2, \"32\": 2, \"88\": 1}, \"108\": {\"108\": 32, \"24\": 3, \"49\": 3, \"42\": 3, \"94\": 1, \"5\": 1, \"126\": 1}, \"76\": {\"76\": 15, \"92\": 1}, \"123\": {\"123\": 14, \"60\": 2}, \"106\": {\"106\": 28, \"114\": 1, \"126\": 1, \"98\": 1, \"94\": 1}, \"1\": {\"1\": 43, \"21\": 1, \"33\": 2, \"129\": 1, \"60\": 1}, \"34\": {\"34\": 11, \"59\": 1, \"21\": 1, \"32\": 3, \"91\": 3, \"127\": 2, \"110\": 2, \"6\": 2, \"111\": 3, \"52\": 1, \"67\": 1, \"51\": 1, \"86\": 1}, \"49\": {\"49\": 9, \"112\": 1, \"108\": 1, \"52\": 1, \"98\": 3, \"114\": 2, \"39\": 1, \"11\": 4, \"71\": 1, \"128\": 1}, \"89\": {\"89\": 27, \"64\": 1, \"21\": 1, \"92\": 5, \"87\": 1, \"26\": 1}, \"12\": {\"12\": 14, \"21\": 3, \"11\": 2, \"3\": 1, \"71\": 4, \"97\": 1, \"128\": 1, \"29\": 1, \"91\": 1}, \"36\": {\"36\": 25, \"27\": 8, \"25\": 1, \"21\": 1, \"94\": 3, \"112\": 1, \"13\": 1, \"9\": 1, \"24\": 1}, \"31\": {\"31\": 17, \"6\": 1, \"118\": 1, \"111\": 1}, \"98\": {\"98\": 46, \"11\": 1, \"125\": 1, \"12\": 2, \"106\": 2}, \"32\": {\"123\": 2, \"19\": 2, \"122\": 4, \"32\": 11, \"22\": 3, \"110\": 2, \"10\": 3, \"105\": 4, \"14\": 1, \"86\": 1, \"103\": 1, \"8\": 1, \"61\": 1}, \"41\": {\"41\": 11, \"107\": 3, \"12\": 2, \"91\": 2, \"59\": 1, \"127\": 1}, \"75\": {\"75\": 9, \"6\": 1, \"25\": 1, \"30\": 2, \"123\": 1, \"24\": 1, \"49\": 1}, \"0\": {\"0\": 23, \"101\": 10, \"116\": 1, \"30\": 1, \"103\": 1, \"52\": 1, \"87\": 1, \"79\": 1, \"49\": 1}, \"19\": {\"19\": 9, \"60\": 1, \"32\": 1, \"110\": 3, \"122\": 1, \"119\": 1, \"43\": 1, \"73\": 1, \"8\": 2, \"23\": 1, \"129\": 3, \"116\": 1, \"7\": 1, \"49\": 2}, \"86\": {\"86\": 32}, \"24\": {\"94\": 6, \"24\": 11, \"21\": 1, \"27\": 4, \"36\": 6, \"108\": 3, \"15\": 1}, \"59\": {\"21\": 1, \"59\": 9, \"107\": 2, \"77\": 1, \"34\": 2, \"126\": 1}, \"55\": {\"118\": 1, \"55\": 12, \"62\": 2, \"76\": 1}, \"50\": {\"31\": 1, \"50\": 12, \"62\": 2, \"98\": 1}, \"125\": {\"125\": 30, \"6\": 1, \"121\": 1, \"51\": 2, \"15\": 1, \"106\": 1}, \"16\": {\"93\": 6, \"16\": 20, \"110\": 2, \"88\": 1, \"21\": 1, \"96\": 1, \"84\": 1}, \"54\": {\"54\": 18, \"103\": 2}, \"27\": {\"94\": 3, \"27\": 20, \"88\": 1, \"18\": 1, \"36\": 7, \"24\": 4, \"25\": 2, \"21\": 2, \"49\": 1, \"108\": 1}, \"81\": {\"81\": 18, \"18\": 4, \"6\": 1, \"125\": 1}, \"93\": {\"93\": 28, \"87\": 1, \"96\": 2, \"70\": 1, \"119\": 2, \"23\": 1, \"16\": 4, \"18\": 1, \"88\": 4}, \"121\": {\"121\": 17, \"2\": 2, \"30\": 1, \"113\": 4, \"117\": 10}, \"88\": {\"88\": 7, \"37\": 1, \"93\": 2, \"116\": 1, \"96\": 5, \"83\": 3, \"23\": 4, \"109\": 2, \"24\": 1, \"16\": 4, \"60\": 1, \"82\": 1, \"39\": 2, \"110\": 1, \"21\": 1, \"87\": 3, \"70\": 1}, \"68\": {\"68\": 10, \"103\": 2, \"79\": 2, \"0\": 1, \"30\": 1}, \"15\": {\"98\": 2, \"15\": 26, \"36\": 1, \"6\": 2, \"9\": 3, \"49\": 1, \"94\": 5}, \"6\": {\"6\": 18, \"58\": 4, \"97\": 3, \"111\": 1, \"98\": 2, \"15\": 2, \"51\": 1, \"91\": 1}, \"10\": {\"10\": 17, \"22\": 4, \"14\": 1, \"50\": 1, \"39\": 1, \"7\": 3, \"92\": 1, \"105\": 3, \"82\": 1, \"88\": 1, \"62\": 1}, \"129\": {\"19\": 3, \"73\": 5, \"129\": 18, \"5\": 1, \"8\": 1, \"44\": 1, \"53\": 1, \"112\": 1, \"124\": 1}, \"67\": {\"118\": 2, \"67\": 7, \"21\": 1, \"88\": 2, \"126\": 1, \"31\": 2, \"55\": 1}, \"102\": {\"102\": 40}, \"80\": {\"80\": 9, \"78\": 1, \"118\": 4, \"117\": 1, \"55\": 1}, \"78\": {\"4\": 4, \"32\": 1, \"87\": 1, \"78\": 10, \"38\": 2, \"109\": 4, \"39\": 1, \"14\": 2, \"70\": 1, \"43\": 7, \"40\": 3, \"17\": 1, \"67\": 1, \"90\": 1, \"72\": 1, \"107\": 1, \"110\": 1, \"118\": 2}, \"92\": {\"118\": 1, \"76\": 1, \"92\": 15, \"66\": 1, \"18\": 1, \"89\": 8, \"64\": 1}, \"99\": {\"99\": 26, \"94\": 1, \"57\": 2, \"126\": 1, \"20\": 2}, \"2\": {\"88\": 2, \"96\": 2, \"2\": 11, \"125\": 1, \"20\": 5, \"23\": 1, \"26\": 5, \"93\": 2, \"100\": 1, \"121\": 1, \"18\": 1}, \"101\": {\"101\": 34, \"0\": 5, \"6\": 1}, \"82\": {\"82\": 29, \"31\": 2, \"102\": 4, \"67\": 1}, \"37\": {\"78\": 1, \"82\": 1, \"37\": 6, \"86\": 3, \"126\": 1, \"76\": 1, \"28\": 2, \"43\": 1}, \"109\": {\"102\": 6, \"90\": 3, \"21\": 3, \"109\": 13, \"110\": 1, \"45\": 3, \"84\": 1, \"78\": 1, \"80\": 1, \"39\": 1, \"69\": 1}, \"103\": {\"103\": 12, \"79\": 2, \"4\": 1, \"68\": 1}, \"33\": {\"33\": 32, \"87\": 1, \"11\": 1}, \"44\": {\"44\": 34}, \"118\": {\"80\": 3, \"118\": 29, \"21\": 1, \"18\": 1, \"78\": 2, \"109\": 1, \"31\": 3, \"113\": 1, \"62\": 1}, \"48\": {\"48\": 19, \"57\": 1}, \"87\": {\"87\": 14, \"84\": 3, \"96\": 2, \"33\": 11, \"37\": 1, \"122\": 1, \"21\": 4, \"116\": 2, \"1\": 1, \"67\": 1, \"90\": 2, \"39\": 1, \"27\": 1}, \"112\": {\"108\": 3, \"112\": 5, \"3\": 1, \"47\": 2, \"29\": 1, \"53\": 2, \"71\": 2}, \"111\": {\"111\": 24, \"77\": 1, \"12\": 1}, \"63\": {\"92\": 2, \"63\": 17, \"49\": 1}, \"22\": {\"22\": 16, \"61\": 2, \"62\": 2}, \"25\": {\"25\": 10, \"118\": 1, \"15\": 1, \"126\": 1, \"0\": 1, \"9\": 1, \"88\": 1}, \"51\": {\"51\": 5, \"111\": 1, \"98\": 3, \"6\": 4, \"91\": 1, \"58\": 3, \"125\": 1, \"34\": 1, \"78\": 1}, \"72\": {\"72\": 20, \"21\": 1, \"13\": 4, \"39\": 1, \"98\": 1, \"126\": 1}, \"53\": {\"53\": 12, \"124\": 1, \"114\": 1, \"5\": 2}, \"30\": {\"30\": 28, \"91\": 2, \"127\": 2, \"111\": 1, \"107\": 1, \"6\": 2, \"34\": 2, \"29\": 2}, \"107\": {\"21\": 1, \"107\": 15, \"88\": 1, \"38\": 3, \"43\": 4, \"126\": 1, \"18\": 1, \"110\": 5, \"109\": 1, \"24\": 2, \"4\": 3, \"47\": 1, \"86\": 1, \"40\": 1}, \"105\": {\"105\": 36, \"61\": 1, \"95\": 1, \"40\": 1, \"11\": 1}, \"65\": {\"65\": 17, \"120\": 2, \"17\": 1}, \"95\": {\"95\": 31, \"105\": 3, \"7\": 1, \"40\": 1}, \"113\": {\"113\": 22, \"88\": 2, \"65\": 4, \"117\": 7, \"21\": 1, \"27\": 2, \"26\": 2}, \"52\": {\"52\": 16, \"51\": 1, \"77\": 1, \"53\": 2}, \"18\": {\"18\": 37, \"2\": 4, \"69\": 2, \"87\": 1}, \"35\": {\"7\": 1, \"79\": 1, \"35\": 7, \"62\": 1, \"89\": 1, \"68\": 1}, \"96\": {\"96\": 16, \"90\": 1, \"16\": 1, \"70\": 1, \"116\": 1}, \"8\": {\"8\": 24, \"124\": 8, \"123\": 1, \"122\": 2, \"23\": 1, \"28\": 1, \"5\": 1, \"34\": 1, \"44\": 1}, \"14\": {\"14\": 18, \"21\": 1, \"107\": 1, \"88\": 1, \"34\": 2, \"16\": 1, \"70\": 1, \"84\": 2, \"90\": 5, \"80\": 1, \"45\": 1, \"123\": 1, \"11\": 1}, \"62\": {\"62\": 40, \"55\": 1, \"50\": 1}, \"79\": {\"79\": 13, \"35\": 2, \"68\": 1}, \"115\": {\"115\": 8, \"27\": 1, \"4\": 3}, \"45\": {\"80\": 1, \"102\": 1, \"45\": 10, \"109\": 1, \"21\": 1, \"116\": 2}, \"119\": {\"119\": 20}, \"39\": {\"102\": 11, \"39\": 8, \"110\": 1, \"26\": 1, \"72\": 3, \"109\": 1, \"78\": 3, \"82\": 1, \"69\": 1, \"81\": 1, \"118\": 1}, \"11\": {\"88\": 1, \"11\": 11, \"94\": 1, \"49\": 1, \"98\": 7, \"12\": 3, \"112\": 1, \"58\": 1, \"108\": 2, \"0\": 1, \"8\": 2, \"30\": 1}, \"13\": {\"13\": 6, \"81\": 3, \"97\": 1, \"116\": 1, \"42\": 1, \"102\": 1, \"57\": 1, \"21\": 1, \"72\": 1}, \"128\": {\"97\": 1, \"114\": 7, \"101\": 3, \"128\": 8, \"1\": 1, \"0\": 2, \"53\": 1, \"49\": 1}, \"124\": {\"83\": 1, \"124\": 23, \"8\": 7, \"85\": 1, \"71\": 1, \"11\": 1, \"73\": 1, \"98\": 2, \"44\": 1}, \"77\": {\"77\": 14, \"52\": 2}, \"83\": {\"100\": 2, \"83\": 23, \"44\": 1}, \"57\": {\"98\": 1, \"81\": 1, \"57\": 15, \"2\": 2, \"49\": 1}, \"69\": {\"69\": 34, \"82\": 2, \"81\": 1, \"102\": 1}, \"91\": {\"91\": 9, \"75\": 1, \"6\": 1, \"111\": 2, \"12\": 2, \"30\": 2, \"122\": 1, \"56\": 1, \"51\": 1, \"86\": 1, \"127\": 1, \"98\": 1, \"4\": 1}, \"42\": {\"21\": 1, \"24\": 1, \"42\": 11, \"108\": 6, \"85\": 3, \"126\": 1, \"87\": 1, \"112\": 1, \"45\": 1, \"97\": 2}, \"20\": {\"20\": 16}, \"9\": {\"9\": 29, \"51\": 1}}, \"Wisig_4\": {\"0\": {\"101\": 16, \"0\": 17, \"62\": 1, \"14\": 1, \"30\": 1, \"21\": 1, \"29\": 1}, \"48\": {\"48\": 16}, \"91\": {\"91\": 9, \"34\": 1, \"103\": 4, \"68\": 4, \"127\": 1, \"85\": 2, \"77\": 1, \"52\": 1, \"124\": 1}, \"49\": {\"11\": 6, \"49\": 9, \"119\": 2, \"10\": 1, \"5\": 2, \"8\": 4, \"30\": 1, \"15\": 1, \"79\": 1, \"52\": 1}, \"74\": {\"90\": 1, \"28\": 2, \"74\": 11, \"44\": 1, \"60\": 1}, \"57\": {\"57\": 8, \"116\": 1, \"102\": 1, \"13\": 1, \"84\": 2, \"25\": 1, \"97\": 1, \"51\": 1}, \"112\": {\"112\": 13, \"39\": 1, \"42\": 1, \"81\": 1}, \"106\": {\"66\": 1, \"106\": 24, \"98\": 1, \"70\": 2, \"88\": 1, \"42\": 1, \"12\": 3, \"125\": 1}, \"4\": {\"4\": 33, \"29\": 5, \"21\": 1, \"86\": 1, \"95\": 1, \"7\": 1}, \"81\": {\"81\": 24, \"65\": 2, \"18\": 1, \"39\": 4, \"21\": 1, \"117\": 1, \"78\": 1}, \"12\": {\"12\": 25, \"91\": 1, \"100\": 1, \"124\": 1, \"85\": 2, \"118\": 1, \"110\": 1, \"106\": 4, \"71\": 1, \"70\": 1, \"111\": 1, \"98\": 1}, \"82\": {\"82\": 32}, \"17\": {\"17\": 19, \"104\": 1}, \"55\": {\"55\": 16}, \"58\": {\"58\": 16}, \"93\": {\"93\": 29, \"60\": 1, \"108\": 6, \"110\": 2, \"70\": 1, \"43\": 1}, \"50\": {\"50\": 16}, \"6\": {\"58\": 3, \"6\": 11, \"15\": 3, \"51\": 1, \"75\": 1, \"34\": 2, \"94\": 1, \"10\": 1, \"98\": 1}, \"90\": {\"90\": 37, \"66\": 1, \"74\": 1, \"43\": 1}, \"99\": {\"99\": 26, \"96\": 1, \"43\": 4, \"102\": 1, \"45\": 1, \"122\": 2, \"33\": 1, \"84\": 1, \"107\": 1}, \"24\": {\"24\": 17, \"27\": 1, \"36\": 11, \"97\": 2, \"8\": 1, \"125\": 1, \"94\": 4, \"83\": 1, \"112\": 1, \"70\": 1, \"9\": 1, \"15\": 1}, \"77\": {\"77\": 12}, \"41\": {\"12\": 2, \"41\": 12, \"52\": 1, \"18\": 1}, \"120\": {\"120\": 18, \"99\": 1, \"32\": 1}, \"27\": {\"42\": 2, \"27\": 17, \"88\": 1, \"53\": 3, \"108\": 1, \"9\": 5, \"21\": 1, \"70\": 3, \"60\": 1, \"112\": 1, \"24\": 3}, \"53\": {\"53\": 12, \"111\": 2, \"52\": 2}, \"101\": {\"32\": 1, \"55\": 1, \"101\": 30, \"89\": 1, \"21\": 1, \"86\": 1, \"0\": 2, \"7\": 1}, \"28\": {\"28\": 20}, \"38\": {\"38\": 16}, \"42\": {\"42\": 15, \"112\": 1, \"27\": 3, \"70\": 2, \"88\": 1, \"5\": 2, \"49\": 1, \"80\": 1, \"8\": 2}, \"96\": {\"96\": 13, \"84\": 2, \"78\": 1, \"45\": 4}, \"34\": {\"120\": 1, \"78\": 1, \"47\": 1, \"75\": 1, \"72\": 3, \"6\": 2, \"34\": 7, \"128\": 1, \"125\": 2, \"87\": 2, \"14\": 3, \"107\": 1, \"89\": 2, \"68\": 1, \"52\": 1, \"58\": 1, \"4\": 1, \"1\": 1}, \"44\": {\"44\": 31, \"38\": 3, \"33\": 4}, \"113\": {\"113\": 20, \"110\": 1, \"121\": 4, \"39\": 5, \"63\": 2, \"84\": 1, \"21\": 1, \"126\": 3, \"23\": 1, \"67\": 2}, \"54\": {\"54\": 16}, \"84\": {\"84\": 39, \"81\": 1, \"21\": 1, \"102\": 1, \"45\": 2, \"122\": 1, \"67\": 3}, \"66\": {\"90\": 2, \"66\": 13, \"110\": 1}, \"21\": {\"21\": 33, \"66\": 1, \"126\": 1, \"78\": 2, \"23\": 2, \"39\": 1}, \"127\": {\"127\": 31, \"29\": 2, \"95\": 4, \"34\": 1, \"86\": 2}, \"62\": {\"76\": 5, \"62\": 25, \"32\": 1, \"23\": 1, \"21\": 2, \"78\": 1, \"118\": 5, \"69\": 2, \"90\": 1, \"70\": 1}, \"67\": {\"76\": 1, \"48\": 1, \"69\": 3, \"123\": 2, \"63\": 2, \"67\": 3, \"118\": 1, \"113\": 2, \"120\": 1}, \"11\": {\"11\": 19, \"108\": 1, \"88\": 2, \"83\": 2, \"3\": 2, \"79\": 2, \"5\": 2, \"44\": 1, \"20\": 1, \"70\": 2, \"1\": 1, \"114\": 1}, \"19\": {\"111\": 2, \"128\": 2, \"100\": 2, \"19\": 6, \"129\": 2, \"52\": 1, \"72\": 2, \"5\": 2, \"93\": 6, \"60\": 1, \"71\": 1, \"30\": 1}, \"111\": {\"53\": 3, \"111\": 25, \"86\": 1, \"8\": 1, \"98\": 2}, \"32\": {\"32\": 9, \"76\": 1, \"89\": 1, \"0\": 1, \"22\": 3, \"82\": 4, \"69\": 4, \"115\": 1, \"31\": 1, \"120\": 3}, \"16\": {\"16\": 38, \"21\": 1, \"78\": 1}, \"20\": {\"20\": 12, \"76\": 1, \"108\": 3}, \"86\": {\"86\": 18, \"29\": 4, \"4\": 3, \"21\": 1, \"127\": 1, \"23\": 1}, \"76\": {\"76\": 16}, \"8\": {\"8\": 20, \"111\": 4, \"100\": 1, \"70\": 4, \"124\": 7, \"49\": 1, \"103\": 2, \"27\": 1}, \"10\": {\"8\": 2, \"58\": 1, \"10\": 9, \"108\": 2, \"15\": 12, \"6\": 2, \"27\": 1, \"78\": 1, \"30\": 5, \"70\": 1, \"88\": 1, \"52\": 1, \"23\": 1, \"111\": 1, \"94\": 1, \"1\": 1}, \"119\": {\"119\": 15, \"129\": 1}, \"78\": {\"99\": 2, \"39\": 2, \"32\": 2, \"56\": 1, \"128\": 1, \"96\": 2, \"78\": 3, \"72\": 1, \"126\": 3, \"107\": 1, \"21\": 4, \"122\": 2, \"33\": 2, \"110\": 2, \"23\": 1, \"43\": 2, \"87\": 1}, \"97\": {\"97\": 7, \"24\": 2, \"36\": 3, \"94\": 2, \"73\": 1, \"53\": 1, \"42\": 1, \"54\": 2, \"10\": 1}, \"128\": {\"111\": 2, \"3\": 5, \"95\": 3, \"128\": 8, \"72\": 2, \"71\": 1, \"127\": 1, \"86\": 1, \"115\": 1}, \"39\": {\"81\": 5, \"39\": 16, \"2\": 1, \"126\": 2, \"117\": 3, \"78\": 1}, \"1\": {\"21\": 2, \"111\": 1, \"72\": 4, \"1\": 17, \"3\": 4, \"71\": 1, \"36\": 1}, \"95\": {\"127\": 2, \"4\": 4, \"95\": 23, \"86\": 2, \"78\": 1}, \"47\": {\"47\": 12}, \"45\": {\"45\": 16}, \"110\": {\"110\": 24, \"60\": 1, \"90\": 5, \"122\": 2, \"43\": 3, \"94\": 1, \"54\": 1, \"66\": 1}, \"89\": {\"89\": 24, \"82\": 4, \"56\": 3, \"35\": 1}, \"60\": {\"60\": 12, \"74\": 4, \"8\": 1, \"90\": 1, \"11\": 3, \"100\": 1, \"28\": 1, \"46\": 1, \"72\": 2, \"78\": 1, \"44\": 1, \"124\": 1, \"111\": 1, \"38\": 1, \"19\": 1}, \"73\": {\"77\": 1, \"73\": 12, \"5\": 8, \"80\": 1, \"49\": 1, \"108\": 1}, \"102\": {\"102\": 32, \"84\": 4, \"99\": 2}, \"75\": {\"75\": 16}, \"18\": {\"18\": 34, \"110\": 1, \"72\": 1}, \"52\": {\"52\": 11, \"103\": 2, \"98\": 1, \"91\": 2, \"70\": 1, \"41\": 1, \"8\": 2}, \"65\": {\"65\": 12}, \"23\": {\"21\": 3, \"23\": 1, \"57\": 1, \"103\": 1, \"110\": 1, \"2\": 1, \"78\": 1, \"90\": 1, \"63\": 1, \"91\": 1, \"126\": 1, \"88\": 1, \"58\": 1, \"128\": 1}, \"59\": {\"59\": 9, \"6\": 1, \"94\": 1, \"125\": 1}, \"30\": {\"78\": 2, \"23\": 1, \"30\": 13, \"0\": 2, \"60\": 3, \"100\": 2, \"10\": 4, \"111\": 2, \"6\": 2, \"12\": 3, \"110\": 1, \"21\": 2, \"8\": 1, \"70\": 1, \"27\": 1}, \"124\": {\"124\": 28, \"88\": 1, \"8\": 3, \"60\": 2, \"49\": 1, \"12\": 1, \"46\": 1, \"73\": 2, \"5\": 1}, \"121\": {\"121\": 23, \"113\": 5, \"39\": 1, \"67\": 1}, \"116\": {\"44\": 5, \"45\": 1, \"50\": 1, \"99\": 2, \"122\": 1, \"116\": 9, \"102\": 4, \"33\": 2, \"96\": 1}, \"109\": {\"109\": 20, \"45\": 1, \"69\": 3, \"22\": 2, \"16\": 3, \"96\": 1, \"122\": 1, \"118\": 2, \"39\": 1}, \"15\": {\"15\": 27, \"6\": 1, \"10\": 4, \"73\": 1, \"94\": 3, \"98\": 1, \"70\": 1, \"30\": 1, \"8\": 1}, \"7\": {\"86\": 1, \"7\": 24, \"0\": 1, \"4\": 1, \"127\": 1, \"29\": 2}, \"100\": {\"100\": 12, \"108\": 1, \"3\": 2, \"60\": 2, \"19\": 2, \"52\": 1}, \"36\": {\"97\": 3, \"24\": 9, \"27\": 1, \"36\": 20, \"25\": 1}, \"94\": {\"97\": 1, \"59\": 3, \"94\": 26, \"110\": 2, \"15\": 3, \"125\": 2, \"10\": 1, \"54\": 1, \"9\": 1, \"36\": 2}, \"87\": {\"116\": 2, \"87\": 14, \"107\": 5, \"105\": 4, \"99\": 2, \"21\": 1}, \"40\": {\"40\": 30, \"107\": 4, \"23\": 1, \"120\": 1}, \"56\": {\"7\": 2, \"56\": 7, \"4\": 1, \"55\": 1, \"105\": 1}, \"29\": {\"29\": 28, \"127\": 4}, \"51\": {\"110\": 1, \"58\": 3, \"9\": 1, \"0\": 1, \"51\": 4, \"103\": 1, \"30\": 1, \"125\": 2, \"27\": 1, \"98\": 1}, \"3\": {\"3\": 27, \"128\": 3, \"39\": 1, \"71\": 5, \"114\": 2, \"90\": 1, \"72\": 1, \"1\": 2}, \"129\": {\"129\": 10, \"119\": 2, \"3\": 2, \"60\": 1, \"100\": 4, \"46\": 1, \"19\": 3, \"111\": 1, \"93\": 1, \"5\": 2, \"30\": 1}, \"2\": {\"115\": 1, \"117\": 2, \"2\": 11, \"39\": 1, \"108\": 3, \"18\": 2, \"26\": 1, \"93\": 4, \"13\": 1, \"67\": 1, \"116\": 1}, \"5\": {\"5\": 37, \"73\": 1, \"23\": 1, \"70\": 1}, \"9\": {\"9\": 28}, \"115\": {\"50\": 2, \"37\": 1, \"91\": 1, \"120\": 2, \"71\": 1, \"43\": 1, \"128\": 2, \"33\": 2, \"115\": 2, \"69\": 1, \"107\": 1}, \"92\": {\"92\": 24, \"69\": 2}, \"13\": {\"13\": 16}, \"22\": {\"22\": 14, \"17\": 1, \"89\": 1}, \"72\": {\"72\": 19, \"120\": 2, \"19\": 2, \"71\": 2, \"60\": 2, \"110\": 1, \"128\": 1, \"95\": 1, \"76\": 1, \"3\": 1}, \"117\": {\"117\": 32, \"18\": 4}, \"25\": {\"25\": 15, \"15\": 1}, \"123\": {\"123\": 16}, \"85\": {\"34\": 1, \"85\": 19, \"91\": 3, \"127\": 1, \"51\": 1, \"111\": 3}, \"108\": {\"20\": 1, \"73\": 3, \"108\": 9, \"124\": 3, \"5\": 8, \"88\": 6, \"8\": 1, \"39\": 1, \"123\": 1, \"93\": 2, \"23\": 1, \"2\": 2, \"70\": 2}, \"64\": {\"64\": 16}, \"83\": {\"83\": 22, \"32\": 1, \"11\": 1, \"42\": 1, \"49\": 2, \"112\": 1}, \"37\": {\"37\": 10, \"7\": 1, \"56\": 3, \"10\": 1, \"25\": 1}, \"98\": {\"98\": 27, \"12\": 2, \"38\": 1}, \"103\": {\"103\": 14, \"52\": 2}, \"125\": {\"125\": 29, \"94\": 1, \"51\": 1, \"6\": 2, \"98\": 1}, \"88\": {\"23\": 2, \"88\": 9, \"108\": 4, \"78\": 3, \"42\": 3, \"70\": 8, \"49\": 4, \"5\": 2, \"80\": 1}, \"122\": {\"122\": 20, \"23\": 1, \"96\": 1, \"99\": 10, \"102\": 2, \"45\": 1, \"43\": 2, \"110\": 1, \"21\": 1, \"107\": 1}, \"61\": {\"61\": 13, \"35\": 1, \"26\": 2}, \"69\": {\"69\": 39, \"21\": 1, \"78\": 1, \"118\": 5}, \"104\": {\"104\": 16}, \"70\": {\"93\": 2, \"70\": 6, \"23\": 2, \"108\": 2, \"88\": 8, \"42\": 1, \"78\": 1, \"129\": 4, \"8\": 4, \"10\": 1, \"73\": 2, \"114\": 2, \"49\": 2, \"11\": 1, \"53\": 1, \"119\": 1}, \"68\": {\"68\": 14, \"91\": 1, \"85\": 1}, \"46\": {\"46\": 18, \"114\": 1, \"23\": 1}, \"107\": {\"107\": 30, \"105\": 1, \"87\": 1}, \"26\": {\"26\": 39, \"35\": 1}, \"33\": {\"33\": 35, \"90\": 1, \"43\": 2, \"78\": 1, \"88\": 1, \"38\": 2}, \"35\": {\"26\": 2, \"35\": 7, \"61\": 2, \"21\": 1}, \"118\": {\"69\": 6, \"31\": 1, \"76\": 2, \"78\": 1, \"118\": 25, \"21\": 1, \"126\": 1, \"62\": 1}, \"80\": {\"80\": 13, \"6\": 1, \"20\": 1, \"73\": 1}, \"105\": {\"115\": 1, \"4\": 1, \"105\": 28, \"21\": 1, \"107\": 2, \"40\": 1, \"87\": 2}, \"71\": {\"114\": 6, \"71\": 30, \"128\": 1, \"21\": 1, \"46\": 2}, \"43\": {\"115\": 2, \"90\": 1, \"72\": 1, \"33\": 4, \"43\": 7, \"107\": 5, \"122\": 3, \"20\": 1, \"110\": 2, \"87\": 2}, \"63\": {\"63\": 16}, \"31\": {\"31\": 15, \"69\": 1}, \"114\": {\"114\": 28, \"128\": 1, \"1\": 2, \"46\": 1, \"3\": 2, \"71\": 2}, \"14\": {\"14\": 30}, \"79\": {\"79\": 15, \"42\": 1}, \"126\": {\"126\": 19, \"81\": 3, \"113\": 2, \"39\": 1, \"78\": 1}}}, \"per_domain_accuracy\": {\"CORES_4\": {\"accuracy\": 0.9978448275862069, \"source?\": true}, \"CORES_5\": {\"accuracy\": 0.9982758620689656, \"source?\": true}, \"CORES_2\": {\"accuracy\": 0.9991379310344828, \"source?\": true}, \"CORES_1\": {\"accuracy\": 0.9985632183908046, \"source?\": true}, \"CORES_3\": {\"accuracy\": 0.9978448275862069, \"source?\": true}, \"Wisig_3\": {\"accuracy\": 0.740301724137931, \"source?\": false}, \"Wisig_1\": {\"accuracy\": 0.7446120689655172, \"source?\": false}, \"Wisig_2\": {\"accuracy\": 0.6650992685475444, \"source?\": false}, \"Wisig_4\": {\"accuracy\": 0.6732480533926585, \"source?\": false}}}, \"history\": {\"epoch_indices\": [1, 2, 3], \"train_label_loss\": [0.31571806369726135, 0.01716230596426312, 0.014267588101393421], \"source_val_label_loss\": [0.018217049539089203, 0.011369707062840462, 0.008650864474475384], \"target_val_label_loss\": [1.7695279121398926, 3.5743508338928223, 3.3533291816711426], \"source_val_acc_label\": [0.9983836206896551, 0.9973060344827587, 0.9971264367816092], \"target_val_acc_label\": [0.7057516163793104, 0.660088900862069, 0.6880387931034483]}, \"dataset_metrics\": {\"source\": {\"train\": {\"n_unique_x\": 75777, \"n_unique_y\": 58, \"n_batch/episode\": 351}, \"val\": {\"n_unique_x\": 11845, \"n_unique_y\": 58, \"n_batch/episode\": 48}, \"test\": {\"n_unique_x\": 12318, \"n_unique_y\": 58, \"n_batch/episode\": 50}}, \"target\": {\"train\": {\"n_unique_x\": 139984, \"n_unique_y\": 130, \"n_batch/episode\": 905}, \"val\": {\"n_unique_x\": 25956, \"n_unique_y\": 130, \"n_batch/episode\": 128}, \"test\": {\"n_unique_x\": 26910, \"n_unique_y\": 130, \"n_batch/episode\": 134}}}}'"
      ]
     },
     "execution_count": 29,
     "metadata": {},
     "output_type": "execute_result"
    }
   ],
   "source": [
    "json.dumps(experiment)"
   ]
  }
 ],
 "metadata": {
  "celltoolbar": "Tags",
  "kernelspec": {
   "display_name": "Python 3 (ipykernel)",
   "language": "python",
   "name": "python3"
  },
  "language_info": {
   "codemirror_mode": {
    "name": "ipython",
    "version": 3
   },
   "file_extension": ".py",
   "mimetype": "text/x-python",
   "name": "python",
   "nbconvert_exporter": "python",
   "pygments_lexer": "ipython3",
   "version": "3.8.12"
  },
  "papermill": {
   "default_parameters": {},
   "duration": 267.195915,
   "end_time": "2022-03-21T04:07:58.500363",
   "environment_variables": {},
   "exception": null,
   "input_path": "/root/csc500-main/csc500-notebooks/templates/tl_ptn_template.ipynb",
   "output_path": "trial.ipynb",
   "parameters": {
    "parameters": {
     "BEST_MODEL_PATH": "./best_model.pth",
     "NUM_LOGS_PER_EPOCH": 10,
     "criteria_for_best": "target_accuracy",
     "dataset_seed": 500,
     "datasets": [
      {
       "domain_prefix": "CORES_",
       "domains": [
        1,
        2,
        3,
        4,
        5
       ],
       "episode_transforms": [],
       "labels": [
        "1-10.",
        "1-11.",
        "1-15.",
        "1-16.",
        "1-17.",
        "1-18.",
        "1-19.",
        "10-4.",
        "10-7.",
        "11-1.",
        "11-14.",
        "11-17.",
        "11-20.",
        "11-7.",
        "13-20.",
        "13-8.",
        "14-10.",
        "14-11.",
        "14-14.",
        "14-7.",
        "15-1.",
        "15-20.",
        "16-1.",
        "16-16.",
        "17-10.",
        "17-11.",
        "17-2.",
        "19-1.",
        "19-16.",
        "19-19.",
        "19-20.",
        "19-3.",
        "2-10.",
        "2-11.",
        "2-17.",
        "2-18.",
        "2-20.",
        "2-3.",
        "2-4.",
        "2-5.",
        "2-6.",
        "2-7.",
        "2-8.",
        "3-13.",
        "3-18.",
        "3-3.",
        "4-1.",
        "4-10.",
        "4-11.",
        "4-19.",
        "5-5.",
        "6-15.",
        "7-10.",
        "7-14.",
        "8-18.",
        "8-20.",
        "8-3.",
        "8-8."
       ],
       "num_examples_per_domain_per_label": -1,
       "pickle_path": "/root/csc500-main/datasets/cores.stratified_ds.2022A.pkl",
       "source_or_target_dataset": "source",
       "x_transforms": [
        "unit_mag"
       ]
      },
      {
       "domain_prefix": "Wisig_",
       "domains": [
        1,
        2,
        3,
        4
       ],
       "episode_transforms": [],
       "labels": [
        "1-10",
        "1-12",
        "1-14",
        "1-16",
        "1-18",
        "1-19",
        "1-8",
        "10-11",
        "10-17",
        "10-4",
        "10-7",
        "11-1",
        "11-10",
        "11-19",
        "11-20",
        "11-4",
        "11-7",
        "12-19",
        "12-20",
        "12-7",
        "13-14",
        "13-18",
        "13-19",
        "13-20",
        "13-3",
        "13-7",
        "14-10",
        "14-11",
        "14-12",
        "14-13",
        "14-14",
        "14-19",
        "14-20",
        "14-7",
        "14-8",
        "14-9",
        "15-1",
        "15-19",
        "15-6",
        "16-1",
        "16-16",
        "16-19",
        "16-20",
        "17-10",
        "17-11",
        "18-1",
        "18-10",
        "18-11",
        "18-12",
        "18-13",
        "18-14",
        "18-15",
        "18-16",
        "18-17",
        "18-19",
        "18-2",
        "18-20",
        "18-4",
        "18-5",
        "18-7",
        "18-8",
        "18-9",
        "19-1",
        "19-10",
        "19-11",
        "19-12",
        "19-13",
        "19-14",
        "19-15",
        "19-19",
        "19-2",
        "19-20",
        "19-3",
        "19-4",
        "19-6",
        "19-7",
        "19-8",
        "19-9",
        "2-1",
        "2-13",
        "2-15",
        "2-3",
        "2-4",
        "2-5",
        "2-6",
        "2-7",
        "2-8",
        "20-1",
        "20-12",
        "20-14",
        "20-15",
        "20-16",
        "20-18",
        "20-19",
        "20-20",
        "20-3",
        "20-4",
        "20-5",
        "20-7",
        "20-8",
        "3-1",
        "3-13",
        "3-18",
        "3-2",
        "3-8",
        "4-1",
        "4-10",
        "4-11",
        "5-1",
        "5-5",
        "6-1",
        "6-15",
        "6-6",
        "7-10",
        "7-11",
        "7-12",
        "7-13",
        "7-14",
        "7-7",
        "7-8",
        "7-9",
        "8-1",
        "8-13",
        "8-14",
        "8-18",
        "8-20",
        "8-3",
        "8-8",
        "9-1",
        "9-7"
       ],
       "num_examples_per_domain_per_label": -1,
       "pickle_path": "/root/csc500-main/datasets/wisig.node3-19.stratified_ds.2022A.pkl",
       "source_or_target_dataset": "target",
       "x_transforms": [
        "unit_mag"
       ]
      }
     ],
     "device": "cuda",
     "experiment_name": "tl_1v2:cores-wisig",
     "lr": 0.0001,
     "n_epoch": 3,
     "n_query": 2,
     "n_shot": 3,
     "n_way": 58,
     "patience": 3,
     "seed": 500,
     "test_k_factor": 2,
     "torch_default_dtype": "torch.float32",
     "train_k_factor": 3,
     "val_k_factor": 2,
     "x_net": [
      {
       "class": "nnReshape",
       "kargs": {
        "shape": [
         -1,
         1,
         2,
         256
        ]
       }
      },
      {
       "class": "Conv2d",
       "kargs": {
        "bias": false,
        "in_channels": 1,
        "kernel_size": [
         1,
         7
        ],
        "out_channels": 256,
        "padding": [
         0,
         3
        ]
       }
      },
      {
       "class": "ReLU",
       "kargs": {
        "inplace": true
       }
      },
      {
       "class": "BatchNorm2d",
       "kargs": {
        "num_features": 256
       }
      },
      {
       "class": "Conv2d",
       "kargs": {
        "bias": true,
        "in_channels": 256,
        "kernel_size": [
         2,
         7
        ],
        "out_channels": 80,
        "padding": [
         0,
         3
        ]
       }
      },
      {
       "class": "ReLU",
       "kargs": {
        "inplace": true
       }
      },
      {
       "class": "BatchNorm2d",
       "kargs": {
        "num_features": 80
       }
      },
      {
       "class": "Flatten",
       "kargs": {}
      },
      {
       "class": "Linear",
       "kargs": {
        "in_features": 20480,
        "out_features": 256
       }
      },
      {
       "class": "ReLU",
       "kargs": {
        "inplace": true
       }
      },
      {
       "class": "BatchNorm1d",
       "kargs": {
        "num_features": 256
       }
      },
      {
       "class": "Linear",
       "kargs": {
        "in_features": 256,
        "out_features": 256
       }
      }
     ]
    }
   },
   "start_time": "2022-03-21T04:03:31.304448",
   "version": "2.3.4"
  }
 },
 "nbformat": 4,
 "nbformat_minor": 5
}