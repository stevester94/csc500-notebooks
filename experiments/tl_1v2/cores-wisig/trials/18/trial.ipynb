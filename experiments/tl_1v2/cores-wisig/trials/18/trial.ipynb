{
 "cells": [
  {
   "cell_type": "markdown",
   "id": "9fea5f46",
   "metadata": {
    "papermill": {
     "duration": 0.031871,
     "end_time": "2022-03-21T03:29:08.939566",
     "exception": false,
     "start_time": "2022-03-21T03:29:08.907695",
     "status": "completed"
    },
    "tags": []
   },
   "source": [
    "# Transfer Learning Template"
   ]
  },
  {
   "cell_type": "code",
   "execution_count": 1,
   "id": "0902182a",
   "metadata": {
    "execution": {
     "iopub.execute_input": "2022-03-21T03:29:09.005562Z",
     "iopub.status.busy": "2022-03-21T03:29:09.004656Z",
     "iopub.status.idle": "2022-03-21T03:29:10.815996Z",
     "shell.execute_reply": "2022-03-21T03:29:10.816318Z"
    },
    "papermill": {
     "duration": 1.851952,
     "end_time": "2022-03-21T03:29:10.816524",
     "exception": false,
     "start_time": "2022-03-21T03:29:08.964572",
     "status": "completed"
    },
    "tags": []
   },
   "outputs": [],
   "source": [
    "%load_ext autoreload\n",
    "%autoreload 2\n",
    "%matplotlib inline\n",
    "\n",
    "    \n",
    "import os, json, sys, time, random\n",
    "import numpy as np\n",
    "import torch\n",
    "from torch.optim import Adam\n",
    "from  easydict import EasyDict\n",
    "import matplotlib.pyplot as plt\n",
    "\n",
    "from steves_models.steves_ptn import Steves_Prototypical_Network\n",
    "\n",
    "from steves_utils.lazy_iterable_wrapper import Lazy_Iterable_Wrapper\n",
    "from steves_utils.iterable_aggregator import Iterable_Aggregator\n",
    "from steves_utils.ptn_train_eval_test_jig import  PTN_Train_Eval_Test_Jig\n",
    "from steves_utils.torch_sequential_builder import build_sequential\n",
    "from steves_utils.torch_utils import get_dataset_metrics, ptn_confusion_by_domain_over_dataloader\n",
    "from steves_utils.utils_v2 import (per_domain_accuracy_from_confusion, get_datasets_base_path)\n",
    "from steves_utils.PTN.utils import independent_accuracy_assesment\n",
    "\n",
    "from torch.utils.data import DataLoader\n",
    "\n",
    "from steves_utils.stratified_dataset.episodic_accessor import Episodic_Accessor_Factory\n",
    "\n",
    "from steves_utils.ptn_do_report import (\n",
    "    get_loss_curve,\n",
    "    get_results_table,\n",
    "    get_parameters_table,\n",
    "    get_domain_accuracies,\n",
    ")\n",
    "\n",
    "from steves_utils.transforms import get_chained_transform"
   ]
  },
  {
   "cell_type": "markdown",
   "id": "41c840b4",
   "metadata": {
    "papermill": {
     "duration": 0.019034,
     "end_time": "2022-03-21T03:29:10.856748",
     "exception": false,
     "start_time": "2022-03-21T03:29:10.837714",
     "status": "completed"
    },
    "tags": []
   },
   "source": [
    "# Allowed Parameters\n",
    "These are allowed parameters, not defaults\n",
    "Each of these values need to be present in the injected parameters (the notebook will raise an exception if they are not present)\n",
    "\n",
    "Papermill uses the cell tag \"parameters\" to inject the real parameters below this cell.\n",
    "Enable tags to see what I mean"
   ]
  },
  {
   "cell_type": "code",
   "execution_count": 2,
   "id": "fd44eb83",
   "metadata": {
    "execution": {
     "iopub.execute_input": "2022-03-21T03:29:10.897951Z",
     "iopub.status.busy": "2022-03-21T03:29:10.897522Z",
     "iopub.status.idle": "2022-03-21T03:29:10.915988Z",
     "shell.execute_reply": "2022-03-21T03:29:10.915659Z"
    },
    "papermill": {
     "duration": 0.040277,
     "end_time": "2022-03-21T03:29:10.916063",
     "exception": false,
     "start_time": "2022-03-21T03:29:10.875786",
     "status": "completed"
    },
    "tags": []
   },
   "outputs": [],
   "source": [
    "required_parameters = {\n",
    "    \"experiment_name\",\n",
    "    \"lr\",\n",
    "    \"device\",\n",
    "    \"seed\",\n",
    "    \"dataset_seed\",\n",
    "    \"n_shot\",\n",
    "    \"n_query\",\n",
    "    \"n_way\",\n",
    "    \"train_k_factor\",\n",
    "    \"val_k_factor\",\n",
    "    \"test_k_factor\",\n",
    "    \"n_epoch\",\n",
    "    \"patience\",\n",
    "    \"criteria_for_best\",\n",
    "    \"x_net\",\n",
    "    \"datasets\",\n",
    "    \"torch_default_dtype\",\n",
    "    \"NUM_LOGS_PER_EPOCH\",\n",
    "    \"BEST_MODEL_PATH\",\n",
    "    \"x_shape\",\n",
    "}"
   ]
  },
  {
   "cell_type": "code",
   "execution_count": 3,
   "id": "fa3f0049",
   "metadata": {
    "execution": {
     "iopub.execute_input": "2022-03-21T03:29:10.964128Z",
     "iopub.status.busy": "2022-03-21T03:29:10.963704Z",
     "iopub.status.idle": "2022-03-21T03:29:10.984023Z",
     "shell.execute_reply": "2022-03-21T03:29:10.983704Z"
    },
    "papermill": {
     "duration": 0.048773,
     "end_time": "2022-03-21T03:29:10.984092",
     "exception": false,
     "start_time": "2022-03-21T03:29:10.935319",
     "status": "completed"
    },
    "tags": [
     "parameters"
    ]
   },
   "outputs": [],
   "source": [
    "from steves_utils.CORES.utils import (\n",
    "    ALL_NODES,\n",
    "    ALL_NODES_MINIMUM_1000_EXAMPLES,\n",
    "    ALL_DAYS\n",
    ")\n",
    "\n",
    "from steves_utils.ORACLE.utils_v2 import (\n",
    "    ALL_DISTANCES_FEET_NARROWED,\n",
    "    ALL_RUNS,\n",
    "    ALL_SERIAL_NUMBERS,\n",
    ")\n",
    "\n",
    "standalone_parameters = {}\n",
    "standalone_parameters[\"experiment_name\"] = \"STANDALONE PTN\"\n",
    "standalone_parameters[\"lr\"] = 0.001\n",
    "standalone_parameters[\"device\"] = \"cuda\"\n",
    "\n",
    "standalone_parameters[\"seed\"] = 1337\n",
    "standalone_parameters[\"dataset_seed\"] = 1337\n",
    "\n",
    "standalone_parameters[\"n_way\"] = 8\n",
    "standalone_parameters[\"n_shot\"] = 3\n",
    "standalone_parameters[\"n_query\"]  = 2\n",
    "standalone_parameters[\"train_k_factor\"] = 1\n",
    "standalone_parameters[\"val_k_factor\"] = 2\n",
    "standalone_parameters[\"test_k_factor\"] = 2\n",
    "\n",
    "\n",
    "standalone_parameters[\"n_epoch\"] = 50\n",
    "\n",
    "standalone_parameters[\"patience\"] = 10\n",
    "standalone_parameters[\"criteria_for_best\"] = \"source_loss\"\n",
    "\n",
    "standalone_parameters[\"datasets\"] = [\n",
    "    {\n",
    "        \"labels\": ALL_SERIAL_NUMBERS,\n",
    "        \"domains\": ALL_DISTANCES_FEET_NARROWED,\n",
    "        \"num_examples_per_domain_per_label\": 100,\n",
    "        \"pickle_path\": os.path.join(get_datasets_base_path(), \"oracle.Run1_framed_2000Examples_stratified_ds.2022A.pkl\"),\n",
    "        \"source_or_target_dataset\": \"source\",\n",
    "        \"x_transforms\": [\"unit_mag\", \"minus_two\"],\n",
    "        \"episode_transforms\": [],\n",
    "        \"domain_prefix\": \"ORACLE_\"\n",
    "    },\n",
    "    {\n",
    "        \"labels\": ALL_NODES,\n",
    "        \"domains\": ALL_DAYS,\n",
    "        \"num_examples_per_domain_per_label\": 100,\n",
    "        \"pickle_path\": os.path.join(get_datasets_base_path(), \"cores.stratified_ds.2022A.pkl\"),\n",
    "        \"source_or_target_dataset\": \"target\",\n",
    "        \"x_transforms\": [\"unit_power\", \"times_zero\"],\n",
    "        \"episode_transforms\": [],\n",
    "        \"domain_prefix\": \"CORES_\"\n",
    "    }   \n",
    "]\n",
    "\n",
    "standalone_parameters[\"torch_default_dtype\"] = \"torch.float32\" \n",
    "\n",
    "\n",
    "\n",
    "standalone_parameters[\"x_net\"] =     [\n",
    "    {\"class\": \"nnReshape\", \"kargs\": {\"shape\":[-1, 1, 2, 256]}},\n",
    "    {\"class\": \"Conv2d\", \"kargs\": { \"in_channels\":1, \"out_channels\":256, \"kernel_size\":(1,7), \"bias\":False, \"padding\":(0,3), },},\n",
    "    {\"class\": \"ReLU\", \"kargs\": {\"inplace\": True}},\n",
    "    {\"class\": \"BatchNorm2d\", \"kargs\": {\"num_features\":256}},\n",
    "\n",
    "    {\"class\": \"Conv2d\", \"kargs\": { \"in_channels\":256, \"out_channels\":80, \"kernel_size\":(2,7), \"bias\":True, \"padding\":(0,3), },},\n",
    "    {\"class\": \"ReLU\", \"kargs\": {\"inplace\": True}},\n",
    "    {\"class\": \"BatchNorm2d\", \"kargs\": {\"num_features\":80}},\n",
    "    {\"class\": \"Flatten\", \"kargs\": {}},\n",
    "\n",
    "    {\"class\": \"Linear\", \"kargs\": {\"in_features\": 80*256, \"out_features\": 256}}, # 80 units per IQ pair\n",
    "    {\"class\": \"ReLU\", \"kargs\": {\"inplace\": True}},\n",
    "    {\"class\": \"BatchNorm1d\", \"kargs\": {\"num_features\":256}},\n",
    "\n",
    "    {\"class\": \"Linear\", \"kargs\": {\"in_features\": 256, \"out_features\": 256}},\n",
    "]\n",
    "\n",
    "# Parameters relevant to results\n",
    "# These parameters will basically never need to change\n",
    "standalone_parameters[\"NUM_LOGS_PER_EPOCH\"] = 10\n",
    "standalone_parameters[\"BEST_MODEL_PATH\"] = \"./best_model.pth\"\n",
    "\n",
    "\n",
    "\n",
    "\n"
   ]
  },
  {
   "cell_type": "code",
   "execution_count": 4,
   "id": "d7bf2c45",
   "metadata": {
    "execution": {
     "iopub.execute_input": "2022-03-21T03:29:11.036204Z",
     "iopub.status.busy": "2022-03-21T03:29:11.035614Z",
     "iopub.status.idle": "2022-03-21T03:29:11.056663Z",
     "shell.execute_reply": "2022-03-21T03:29:11.056338Z"
    },
    "papermill": {
     "duration": 0.052623,
     "end_time": "2022-03-21T03:29:11.056754",
     "exception": false,
     "start_time": "2022-03-21T03:29:11.004131",
     "status": "completed"
    },
    "tags": [
     "injected-parameters"
    ]
   },
   "outputs": [],
   "source": [
    "# Parameters\n",
    "parameters = {\n",
    "    \"experiment_name\": \"tl_1v2:cores-wisig\",\n",
    "    \"device\": \"cuda\",\n",
    "    \"lr\": 0.0001,\n",
    "    \"n_shot\": 3,\n",
    "    \"n_query\": 2,\n",
    "    \"train_k_factor\": 3,\n",
    "    \"val_k_factor\": 2,\n",
    "    \"test_k_factor\": 2,\n",
    "    \"torch_default_dtype\": \"torch.float32\",\n",
    "    \"n_epoch\": 3,\n",
    "    \"patience\": 3,\n",
    "    \"criteria_for_best\": \"target_accuracy\",\n",
    "    \"x_net\": [\n",
    "        {\"class\": \"nnReshape\", \"kargs\": {\"shape\": [-1, 1, 2, 256]}},\n",
    "        {\n",
    "            \"class\": \"Conv2d\",\n",
    "            \"kargs\": {\n",
    "                \"in_channels\": 1,\n",
    "                \"out_channels\": 256,\n",
    "                \"kernel_size\": [1, 7],\n",
    "                \"bias\": False,\n",
    "                \"padding\": [0, 3],\n",
    "            },\n",
    "        },\n",
    "        {\"class\": \"ReLU\", \"kargs\": {\"inplace\": True}},\n",
    "        {\"class\": \"BatchNorm2d\", \"kargs\": {\"num_features\": 256}},\n",
    "        {\n",
    "            \"class\": \"Conv2d\",\n",
    "            \"kargs\": {\n",
    "                \"in_channels\": 256,\n",
    "                \"out_channels\": 80,\n",
    "                \"kernel_size\": [2, 7],\n",
    "                \"bias\": True,\n",
    "                \"padding\": [0, 3],\n",
    "            },\n",
    "        },\n",
    "        {\"class\": \"ReLU\", \"kargs\": {\"inplace\": True}},\n",
    "        {\"class\": \"BatchNorm2d\", \"kargs\": {\"num_features\": 80}},\n",
    "        {\"class\": \"Flatten\", \"kargs\": {}},\n",
    "        {\"class\": \"Linear\", \"kargs\": {\"in_features\": 20480, \"out_features\": 256}},\n",
    "        {\"class\": \"ReLU\", \"kargs\": {\"inplace\": True}},\n",
    "        {\"class\": \"BatchNorm1d\", \"kargs\": {\"num_features\": 256}},\n",
    "        {\"class\": \"Linear\", \"kargs\": {\"in_features\": 256, \"out_features\": 256}},\n",
    "    ],\n",
    "    \"NUM_LOGS_PER_EPOCH\": 10,\n",
    "    \"BEST_MODEL_PATH\": \"./best_model.pth\",\n",
    "    \"n_way\": 58,\n",
    "    \"datasets\": [\n",
    "        {\n",
    "            \"labels\": [\n",
    "                \"1-10.\",\n",
    "                \"1-11.\",\n",
    "                \"1-15.\",\n",
    "                \"1-16.\",\n",
    "                \"1-17.\",\n",
    "                \"1-18.\",\n",
    "                \"1-19.\",\n",
    "                \"10-4.\",\n",
    "                \"10-7.\",\n",
    "                \"11-1.\",\n",
    "                \"11-14.\",\n",
    "                \"11-17.\",\n",
    "                \"11-20.\",\n",
    "                \"11-7.\",\n",
    "                \"13-20.\",\n",
    "                \"13-8.\",\n",
    "                \"14-10.\",\n",
    "                \"14-11.\",\n",
    "                \"14-14.\",\n",
    "                \"14-7.\",\n",
    "                \"15-1.\",\n",
    "                \"15-20.\",\n",
    "                \"16-1.\",\n",
    "                \"16-16.\",\n",
    "                \"17-10.\",\n",
    "                \"17-11.\",\n",
    "                \"17-2.\",\n",
    "                \"19-1.\",\n",
    "                \"19-16.\",\n",
    "                \"19-19.\",\n",
    "                \"19-20.\",\n",
    "                \"19-3.\",\n",
    "                \"2-10.\",\n",
    "                \"2-11.\",\n",
    "                \"2-17.\",\n",
    "                \"2-18.\",\n",
    "                \"2-20.\",\n",
    "                \"2-3.\",\n",
    "                \"2-4.\",\n",
    "                \"2-5.\",\n",
    "                \"2-6.\",\n",
    "                \"2-7.\",\n",
    "                \"2-8.\",\n",
    "                \"3-13.\",\n",
    "                \"3-18.\",\n",
    "                \"3-3.\",\n",
    "                \"4-1.\",\n",
    "                \"4-10.\",\n",
    "                \"4-11.\",\n",
    "                \"4-19.\",\n",
    "                \"5-5.\",\n",
    "                \"6-15.\",\n",
    "                \"7-10.\",\n",
    "                \"7-14.\",\n",
    "                \"8-18.\",\n",
    "                \"8-20.\",\n",
    "                \"8-3.\",\n",
    "                \"8-8.\",\n",
    "            ],\n",
    "            \"domains\": [1, 2, 3, 4, 5],\n",
    "            \"num_examples_per_domain_per_label\": -1,\n",
    "            \"pickle_path\": \"/root/csc500-main/datasets/cores.stratified_ds.2022A.pkl\",\n",
    "            \"source_or_target_dataset\": \"source\",\n",
    "            \"x_transforms\": [\"unit_power\"],\n",
    "            \"episode_transforms\": [],\n",
    "            \"domain_prefix\": \"CORES_\",\n",
    "        },\n",
    "        {\n",
    "            \"labels\": [\n",
    "                \"1-10\",\n",
    "                \"1-12\",\n",
    "                \"1-14\",\n",
    "                \"1-16\",\n",
    "                \"1-18\",\n",
    "                \"1-19\",\n",
    "                \"1-8\",\n",
    "                \"10-11\",\n",
    "                \"10-17\",\n",
    "                \"10-4\",\n",
    "                \"10-7\",\n",
    "                \"11-1\",\n",
    "                \"11-10\",\n",
    "                \"11-19\",\n",
    "                \"11-20\",\n",
    "                \"11-4\",\n",
    "                \"11-7\",\n",
    "                \"12-19\",\n",
    "                \"12-20\",\n",
    "                \"12-7\",\n",
    "                \"13-14\",\n",
    "                \"13-18\",\n",
    "                \"13-19\",\n",
    "                \"13-20\",\n",
    "                \"13-3\",\n",
    "                \"13-7\",\n",
    "                \"14-10\",\n",
    "                \"14-11\",\n",
    "                \"14-12\",\n",
    "                \"14-13\",\n",
    "                \"14-14\",\n",
    "                \"14-19\",\n",
    "                \"14-20\",\n",
    "                \"14-7\",\n",
    "                \"14-8\",\n",
    "                \"14-9\",\n",
    "                \"15-1\",\n",
    "                \"15-19\",\n",
    "                \"15-6\",\n",
    "                \"16-1\",\n",
    "                \"16-16\",\n",
    "                \"16-19\",\n",
    "                \"16-20\",\n",
    "                \"17-10\",\n",
    "                \"17-11\",\n",
    "                \"18-1\",\n",
    "                \"18-10\",\n",
    "                \"18-11\",\n",
    "                \"18-12\",\n",
    "                \"18-13\",\n",
    "                \"18-14\",\n",
    "                \"18-15\",\n",
    "                \"18-16\",\n",
    "                \"18-17\",\n",
    "                \"18-19\",\n",
    "                \"18-2\",\n",
    "                \"18-20\",\n",
    "                \"18-4\",\n",
    "                \"18-5\",\n",
    "                \"18-7\",\n",
    "                \"18-8\",\n",
    "                \"18-9\",\n",
    "                \"19-1\",\n",
    "                \"19-10\",\n",
    "                \"19-11\",\n",
    "                \"19-12\",\n",
    "                \"19-13\",\n",
    "                \"19-14\",\n",
    "                \"19-15\",\n",
    "                \"19-19\",\n",
    "                \"19-2\",\n",
    "                \"19-20\",\n",
    "                \"19-3\",\n",
    "                \"19-4\",\n",
    "                \"19-6\",\n",
    "                \"19-7\",\n",
    "                \"19-8\",\n",
    "                \"19-9\",\n",
    "                \"2-1\",\n",
    "                \"2-13\",\n",
    "                \"2-15\",\n",
    "                \"2-3\",\n",
    "                \"2-4\",\n",
    "                \"2-5\",\n",
    "                \"2-6\",\n",
    "                \"2-7\",\n",
    "                \"2-8\",\n",
    "                \"20-1\",\n",
    "                \"20-12\",\n",
    "                \"20-14\",\n",
    "                \"20-15\",\n",
    "                \"20-16\",\n",
    "                \"20-18\",\n",
    "                \"20-19\",\n",
    "                \"20-20\",\n",
    "                \"20-3\",\n",
    "                \"20-4\",\n",
    "                \"20-5\",\n",
    "                \"20-7\",\n",
    "                \"20-8\",\n",
    "                \"3-1\",\n",
    "                \"3-13\",\n",
    "                \"3-18\",\n",
    "                \"3-2\",\n",
    "                \"3-8\",\n",
    "                \"4-1\",\n",
    "                \"4-10\",\n",
    "                \"4-11\",\n",
    "                \"5-1\",\n",
    "                \"5-5\",\n",
    "                \"6-1\",\n",
    "                \"6-15\",\n",
    "                \"6-6\",\n",
    "                \"7-10\",\n",
    "                \"7-11\",\n",
    "                \"7-12\",\n",
    "                \"7-13\",\n",
    "                \"7-14\",\n",
    "                \"7-7\",\n",
    "                \"7-8\",\n",
    "                \"7-9\",\n",
    "                \"8-1\",\n",
    "                \"8-13\",\n",
    "                \"8-14\",\n",
    "                \"8-18\",\n",
    "                \"8-20\",\n",
    "                \"8-3\",\n",
    "                \"8-8\",\n",
    "                \"9-1\",\n",
    "                \"9-7\",\n",
    "            ],\n",
    "            \"domains\": [1, 2, 3, 4],\n",
    "            \"num_examples_per_domain_per_label\": -1,\n",
    "            \"pickle_path\": \"/root/csc500-main/datasets/wisig.node3-19.stratified_ds.2022A.pkl\",\n",
    "            \"source_or_target_dataset\": \"target\",\n",
    "            \"x_transforms\": [\"unit_power\"],\n",
    "            \"episode_transforms\": [],\n",
    "            \"domain_prefix\": \"Wisig_\",\n",
    "        },\n",
    "    ],\n",
    "    \"dataset_seed\": 7,\n",
    "    \"seed\": 7,\n",
    "}\n"
   ]
  },
  {
   "cell_type": "code",
   "execution_count": 5,
   "id": "8fa1cc33",
   "metadata": {
    "execution": {
     "iopub.execute_input": "2022-03-21T03:29:11.101193Z",
     "iopub.status.busy": "2022-03-21T03:29:11.100818Z",
     "iopub.status.idle": "2022-03-21T03:29:11.119157Z",
     "shell.execute_reply": "2022-03-21T03:29:11.118836Z"
    },
    "papermill": {
     "duration": 0.042236,
     "end_time": "2022-03-21T03:29:11.119229",
     "exception": false,
     "start_time": "2022-03-21T03:29:11.076993",
     "status": "completed"
    },
    "tags": []
   },
   "outputs": [],
   "source": [
    "# Set this to True if you want to run this template directly\n",
    "STANDALONE = False\n",
    "if STANDALONE:\n",
    "    print(\"parameters not injected, running with standalone_parameters\")\n",
    "    parameters = standalone_parameters\n",
    "\n",
    "if not 'parameters' in locals() and not 'parameters' in globals():\n",
    "    raise Exception(\"Parameter injection failed\")\n",
    "\n",
    "#Use an easy dict for all the parameters\n",
    "p = EasyDict(parameters)\n",
    "\n",
    "if \"x_shape\" not in p:\n",
    "    p.x_shape = [2,256] # Default to this if we dont supply x_shape\n",
    "\n",
    "\n",
    "supplied_keys = set(p.keys())\n",
    "\n",
    "if  supplied_keys != required_parameters:\n",
    "    print(\"Parameters are incorrect\")\n",
    "    if len(supplied_keys - required_parameters)>0: print(\"Shouldn't have:\", str(supplied_keys - required_parameters))\n",
    "    if len(required_parameters - supplied_keys)>0: print(\"Need to have:\", str(required_parameters - supplied_keys))\n",
    "    raise RuntimeError(\"Parameters are incorrect\")"
   ]
  },
  {
   "cell_type": "code",
   "execution_count": 6,
   "id": "3a028d58",
   "metadata": {
    "execution": {
     "iopub.execute_input": "2022-03-21T03:29:11.162450Z",
     "iopub.status.busy": "2022-03-21T03:29:11.162083Z",
     "iopub.status.idle": "2022-03-21T03:29:11.180135Z",
     "shell.execute_reply": "2022-03-21T03:29:11.179800Z"
    },
    "papermill": {
     "duration": 0.040753,
     "end_time": "2022-03-21T03:29:11.180204",
     "exception": false,
     "start_time": "2022-03-21T03:29:11.139451",
     "status": "completed"
    },
    "tags": []
   },
   "outputs": [],
   "source": [
    "###################################\n",
    "# Set the RNGs and make it all deterministic\n",
    "###################################\n",
    "np.random.seed(p.seed)\n",
    "random.seed(p.seed)\n",
    "torch.manual_seed(p.seed)\n",
    "\n",
    "torch.use_deterministic_algorithms(True) "
   ]
  },
  {
   "cell_type": "code",
   "execution_count": 7,
   "id": "b691acf6",
   "metadata": {
    "execution": {
     "iopub.execute_input": "2022-03-21T03:29:11.222934Z",
     "iopub.status.busy": "2022-03-21T03:29:11.222569Z",
     "iopub.status.idle": "2022-03-21T03:29:11.239975Z",
     "shell.execute_reply": "2022-03-21T03:29:11.239659Z"
    },
    "papermill": {
     "duration": 0.03972,
     "end_time": "2022-03-21T03:29:11.240044",
     "exception": false,
     "start_time": "2022-03-21T03:29:11.200324",
     "status": "completed"
    },
    "tags": []
   },
   "outputs": [],
   "source": [
    "###########################################\n",
    "# The stratified datasets honor this\n",
    "###########################################\n",
    "torch.set_default_dtype(eval(p.torch_default_dtype))"
   ]
  },
  {
   "cell_type": "code",
   "execution_count": 8,
   "id": "b5fba671",
   "metadata": {
    "execution": {
     "iopub.execute_input": "2022-03-21T03:29:11.283126Z",
     "iopub.status.busy": "2022-03-21T03:29:11.282761Z",
     "iopub.status.idle": "2022-03-21T03:29:11.334784Z",
     "shell.execute_reply": "2022-03-21T03:29:11.335083Z"
    },
    "papermill": {
     "duration": 0.074806,
     "end_time": "2022-03-21T03:29:11.335163",
     "exception": false,
     "start_time": "2022-03-21T03:29:11.260357",
     "status": "completed"
    },
    "tags": []
   },
   "outputs": [],
   "source": [
    "###################################\n",
    "# Build the network(s)\n",
    "# Note: It's critical to do this AFTER setting the RNG\n",
    "###################################\n",
    "x_net = build_sequential(p.x_net)"
   ]
  },
  {
   "cell_type": "code",
   "execution_count": 9,
   "id": "5d7e61cc",
   "metadata": {
    "execution": {
     "iopub.execute_input": "2022-03-21T03:29:11.379186Z",
     "iopub.status.busy": "2022-03-21T03:29:11.378816Z",
     "iopub.status.idle": "2022-03-21T03:29:11.404530Z",
     "shell.execute_reply": "2022-03-21T03:29:11.404166Z"
    },
    "papermill": {
     "duration": 0.048998,
     "end_time": "2022-03-21T03:29:11.404599",
     "exception": false,
     "start_time": "2022-03-21T03:29:11.355601",
     "status": "completed"
    },
    "tags": []
   },
   "outputs": [],
   "source": [
    "start_time_secs = time.time()"
   ]
  },
  {
   "cell_type": "code",
   "execution_count": 10,
   "id": "c6b67dfd",
   "metadata": {
    "execution": {
     "iopub.execute_input": "2022-03-21T03:29:11.450549Z",
     "iopub.status.busy": "2022-03-21T03:29:11.450181Z",
     "iopub.status.idle": "2022-03-21T03:29:11.478670Z",
     "shell.execute_reply": "2022-03-21T03:29:11.477961Z"
    },
    "papermill": {
     "duration": 0.053542,
     "end_time": "2022-03-21T03:29:11.478828",
     "exception": false,
     "start_time": "2022-03-21T03:29:11.425286",
     "status": "completed"
    },
    "tags": []
   },
   "outputs": [],
   "source": [
    "p.domains_source = []\n",
    "p.domains_target = []\n",
    "\n",
    "\n",
    "train_original_source = []\n",
    "val_original_source   = []\n",
    "test_original_source  = []\n",
    "\n",
    "train_original_target = []\n",
    "val_original_target   = []\n",
    "test_original_target  = []"
   ]
  },
  {
   "cell_type": "code",
   "execution_count": 11,
   "id": "e3d9c3d3",
   "metadata": {
    "execution": {
     "iopub.execute_input": "2022-03-21T03:29:11.527887Z",
     "iopub.status.busy": "2022-03-21T03:29:11.527485Z",
     "iopub.status.idle": "2022-03-21T03:29:11.548464Z",
     "shell.execute_reply": "2022-03-21T03:29:11.547769Z"
    },
    "papermill": {
     "duration": 0.043767,
     "end_time": "2022-03-21T03:29:11.548617",
     "exception": false,
     "start_time": "2022-03-21T03:29:11.504850",
     "status": "completed"
    },
    "tags": []
   },
   "outputs": [],
   "source": [
    "# global_x_transform_func = lambda x: normalize(x.to(torch.get_default_dtype()), \"unit_power\") # unit_power, unit_mag\n",
    "# global_x_transform_func = lambda x: normalize(x, \"unit_power\") # unit_power, unit_mag"
   ]
  },
  {
   "cell_type": "code",
   "execution_count": 12,
   "id": "acb78fd2",
   "metadata": {
    "execution": {
     "iopub.execute_input": "2022-03-21T03:29:11.604593Z",
     "iopub.status.busy": "2022-03-21T03:29:11.604211Z",
     "iopub.status.idle": "2022-03-21T03:29:11.626247Z",
     "shell.execute_reply": "2022-03-21T03:29:11.626911Z"
    },
    "papermill": {
     "duration": 0.049411,
     "end_time": "2022-03-21T03:29:11.627086",
     "exception": false,
     "start_time": "2022-03-21T03:29:11.577675",
     "status": "completed"
    },
    "tags": []
   },
   "outputs": [],
   "source": [
    "def add_dataset(\n",
    "    labels,\n",
    "    domains,\n",
    "    pickle_path,\n",
    "    x_transforms,\n",
    "    episode_transforms,\n",
    "    domain_prefix,\n",
    "    num_examples_per_domain_per_label,\n",
    "    source_or_target_dataset:str,\n",
    "    iterator_seed=p.seed,\n",
    "    dataset_seed=p.dataset_seed,\n",
    "    n_shot=p.n_shot,\n",
    "    n_way=p.n_way,\n",
    "    n_query=p.n_query,\n",
    "    train_val_test_k_factors=(p.train_k_factor,p.val_k_factor,p.test_k_factor),\n",
    "):\n",
    "   \n",
    "    if x_transforms == []: x_transform = None\n",
    "    else: x_transform = get_chained_transform(x_transforms)\n",
    "    \n",
    "    if episode_transforms == []: episode_transform = None\n",
    "    else: raise Exception(\"episode_transforms not implemented\")\n",
    "    \n",
    "    episode_transform = lambda tup, _prefix=domain_prefix: (_prefix + str(tup[0]), tup[1])\n",
    "\n",
    "\n",
    "    eaf = Episodic_Accessor_Factory(\n",
    "        labels=labels,\n",
    "        domains=domains,\n",
    "        num_examples_per_domain_per_label=num_examples_per_domain_per_label,\n",
    "        iterator_seed=iterator_seed,\n",
    "        dataset_seed=dataset_seed,\n",
    "        n_shot=n_shot,\n",
    "        n_way=n_way,\n",
    "        n_query=n_query,\n",
    "        train_val_test_k_factors=train_val_test_k_factors,\n",
    "        pickle_path=pickle_path,\n",
    "        x_transform_func=x_transform,\n",
    "    )\n",
    "\n",
    "    train, val, test = eaf.get_train(), eaf.get_val(), eaf.get_test()\n",
    "    train = Lazy_Iterable_Wrapper(train, episode_transform)\n",
    "    val = Lazy_Iterable_Wrapper(val, episode_transform)\n",
    "    test = Lazy_Iterable_Wrapper(test, episode_transform)\n",
    "\n",
    "    if source_or_target_dataset==\"source\":\n",
    "        train_original_source.append(train)\n",
    "        val_original_source.append(val)\n",
    "        test_original_source.append(test)\n",
    "\n",
    "        p.domains_source.extend(\n",
    "            [domain_prefix + str(u) for u in domains]\n",
    "        )\n",
    "    elif source_or_target_dataset==\"target\":\n",
    "        train_original_target.append(train)\n",
    "        val_original_target.append(val)\n",
    "        test_original_target.append(test)\n",
    "        p.domains_target.extend(\n",
    "            [domain_prefix + str(u) for u in domains]\n",
    "        )\n",
    "    else:\n",
    "        raise Exception(f\"invalid source_or_target_dataset: {source_or_target_dataset}\")\n",
    "    "
   ]
  },
  {
   "cell_type": "code",
   "execution_count": 13,
   "id": "fe266617",
   "metadata": {
    "execution": {
     "iopub.execute_input": "2022-03-21T03:29:11.677091Z",
     "iopub.status.busy": "2022-03-21T03:29:11.676667Z",
     "iopub.status.idle": "2022-03-21T03:29:55.573895Z",
     "shell.execute_reply": "2022-03-21T03:29:55.573064Z"
    },
    "papermill": {
     "duration": 43.919759,
     "end_time": "2022-03-21T03:29:55.574082",
     "exception": false,
     "start_time": "2022-03-21T03:29:11.654323",
     "status": "completed"
    },
    "tags": []
   },
   "outputs": [],
   "source": [
    "for ds in p.datasets:\n",
    "    add_dataset(**ds)"
   ]
  },
  {
   "cell_type": "code",
   "execution_count": 14,
   "id": "b90d65ac",
   "metadata": {
    "execution": {
     "iopub.execute_input": "2022-03-21T03:29:55.625763Z",
     "iopub.status.busy": "2022-03-21T03:29:55.625201Z",
     "iopub.status.idle": "2022-03-21T03:29:55.652684Z",
     "shell.execute_reply": "2022-03-21T03:29:55.651977Z"
    },
    "papermill": {
     "duration": 0.051814,
     "end_time": "2022-03-21T03:29:55.652838",
     "exception": false,
     "start_time": "2022-03-21T03:29:55.601024",
     "status": "completed"
    },
    "tags": []
   },
   "outputs": [],
   "source": [
    "# from steves_utils.CORES.utils import (\n",
    "#     ALL_NODES,\n",
    "#     ALL_NODES_MINIMUM_1000_EXAMPLES,\n",
    "#     ALL_DAYS\n",
    "# )\n",
    "\n",
    "# add_dataset(\n",
    "#     labels=ALL_NODES,\n",
    "#     domains = ALL_DAYS,\n",
    "#     num_examples_per_domain_per_label=100,\n",
    "#     pickle_path=os.path.join(get_datasets_base_path(), \"cores.stratified_ds.2022A.pkl\"),\n",
    "#     source_or_target_dataset=\"target\",\n",
    "#     x_transform_func=global_x_transform_func,\n",
    "#     domain_modifier=lambda u: f\"cores_{u}\"\n",
    "# )"
   ]
  },
  {
   "cell_type": "code",
   "execution_count": 15,
   "id": "76db484d",
   "metadata": {
    "execution": {
     "iopub.execute_input": "2022-03-21T03:29:55.702834Z",
     "iopub.status.busy": "2022-03-21T03:29:55.702463Z",
     "iopub.status.idle": "2022-03-21T03:29:55.724643Z",
     "shell.execute_reply": "2022-03-21T03:29:55.723857Z"
    },
    "papermill": {
     "duration": 0.045617,
     "end_time": "2022-03-21T03:29:55.724796",
     "exception": false,
     "start_time": "2022-03-21T03:29:55.679179",
     "status": "completed"
    },
    "tags": []
   },
   "outputs": [],
   "source": [
    "# from steves_utils.ORACLE.utils_v2 import (\n",
    "#     ALL_DISTANCES_FEET,\n",
    "#     ALL_RUNS,\n",
    "#     ALL_SERIAL_NUMBERS,\n",
    "# )\n",
    "\n",
    "\n",
    "# add_dataset(\n",
    "#     labels=ALL_SERIAL_NUMBERS,\n",
    "#     domains = list(set(ALL_DISTANCES_FEET) - {2,62}),\n",
    "#     num_examples_per_domain_per_label=100,\n",
    "#     pickle_path=os.path.join(get_datasets_base_path(), \"oracle.Run2_framed_2000Examples_stratified_ds.2022A.pkl\"),\n",
    "#     source_or_target_dataset=\"source\",\n",
    "#     x_transform_func=global_x_transform_func,\n",
    "#     domain_modifier=lambda u: f\"oracle1_{u}\"\n",
    "# )\n"
   ]
  },
  {
   "cell_type": "code",
   "execution_count": 16,
   "id": "97dea9d2",
   "metadata": {
    "execution": {
     "iopub.execute_input": "2022-03-21T03:29:55.777055Z",
     "iopub.status.busy": "2022-03-21T03:29:55.776690Z",
     "iopub.status.idle": "2022-03-21T03:29:55.792632Z",
     "shell.execute_reply": "2022-03-21T03:29:55.791890Z"
    },
    "papermill": {
     "duration": 0.039689,
     "end_time": "2022-03-21T03:29:55.792783",
     "exception": false,
     "start_time": "2022-03-21T03:29:55.753094",
     "status": "completed"
    },
    "tags": []
   },
   "outputs": [],
   "source": [
    "# from steves_utils.ORACLE.utils_v2 import (\n",
    "#     ALL_DISTANCES_FEET,\n",
    "#     ALL_RUNS,\n",
    "#     ALL_SERIAL_NUMBERS,\n",
    "# )\n",
    "\n",
    "\n",
    "# add_dataset(\n",
    "#     labels=ALL_SERIAL_NUMBERS,\n",
    "#     domains = list(set(ALL_DISTANCES_FEET) - {2,62,56}),\n",
    "#     num_examples_per_domain_per_label=100,\n",
    "#     pickle_path=os.path.join(get_datasets_base_path(), \"oracle.Run2_framed_2000Examples_stratified_ds.2022A.pkl\"),\n",
    "#     source_or_target_dataset=\"source\",\n",
    "#     x_transform_func=global_x_transform_func,\n",
    "#     domain_modifier=lambda u: f\"oracle2_{u}\"\n",
    "# )"
   ]
  },
  {
   "cell_type": "code",
   "execution_count": 17,
   "id": "6f289866",
   "metadata": {
    "execution": {
     "iopub.execute_input": "2022-03-21T03:29:55.842710Z",
     "iopub.status.busy": "2022-03-21T03:29:55.842348Z",
     "iopub.status.idle": "2022-03-21T03:29:55.859050Z",
     "shell.execute_reply": "2022-03-21T03:29:55.858269Z"
    },
    "papermill": {
     "duration": 0.039352,
     "end_time": "2022-03-21T03:29:55.859209",
     "exception": false,
     "start_time": "2022-03-21T03:29:55.819857",
     "status": "completed"
    },
    "tags": []
   },
   "outputs": [],
   "source": [
    "# add_dataset(\n",
    "#     labels=list(range(19)),\n",
    "#     domains = [0,1,2],\n",
    "#     num_examples_per_domain_per_label=100,\n",
    "#     pickle_path=os.path.join(get_datasets_base_path(), \"metehan.stratified_ds.2022A.pkl\"),\n",
    "#     source_or_target_dataset=\"target\",\n",
    "#     x_transform_func=global_x_transform_func,\n",
    "#     domain_modifier=lambda u: f\"met_{u}\"\n",
    "# )"
   ]
  },
  {
   "cell_type": "code",
   "execution_count": 18,
   "id": "86a863c3",
   "metadata": {
    "execution": {
     "iopub.execute_input": "2022-03-21T03:29:55.910785Z",
     "iopub.status.busy": "2022-03-21T03:29:55.910414Z",
     "iopub.status.idle": "2022-03-21T03:29:55.930290Z",
     "shell.execute_reply": "2022-03-21T03:29:55.929595Z"
    },
    "papermill": {
     "duration": 0.043469,
     "end_time": "2022-03-21T03:29:55.930441",
     "exception": false,
     "start_time": "2022-03-21T03:29:55.886972",
     "status": "completed"
    },
    "tags": []
   },
   "outputs": [],
   "source": [
    "# # from steves_utils.wisig.utils import (\n",
    "# #     ALL_NODES_MINIMUM_100_EXAMPLES,\n",
    "# #     ALL_NODES_MINIMUM_500_EXAMPLES,\n",
    "# #     ALL_NODES_MINIMUM_1000_EXAMPLES,\n",
    "# #     ALL_DAYS\n",
    "# # )\n",
    "\n",
    "# import steves_utils.wisig.utils as wisig\n",
    "\n",
    "\n",
    "# add_dataset(\n",
    "#     labels=wisig.ALL_NODES_MINIMUM_100_EXAMPLES,\n",
    "#     domains = wisig.ALL_DAYS,\n",
    "#     num_examples_per_domain_per_label=100,\n",
    "#     pickle_path=os.path.join(get_datasets_base_path(), \"wisig.node3-19.stratified_ds.2022A.pkl\"),\n",
    "#     source_or_target_dataset=\"target\",\n",
    "#     x_transform_func=global_x_transform_func,\n",
    "#     domain_modifier=lambda u: f\"wisig_{u}\"\n",
    "# )"
   ]
  },
  {
   "cell_type": "code",
   "execution_count": 19,
   "id": "fd5442bc",
   "metadata": {
    "execution": {
     "iopub.execute_input": "2022-03-21T03:29:55.987689Z",
     "iopub.status.busy": "2022-03-21T03:29:55.987298Z",
     "iopub.status.idle": "2022-03-21T03:29:56.005984Z",
     "shell.execute_reply": "2022-03-21T03:29:56.005283Z"
    },
    "papermill": {
     "duration": 0.047784,
     "end_time": "2022-03-21T03:29:56.006138",
     "exception": false,
     "start_time": "2022-03-21T03:29:55.958354",
     "status": "completed"
    },
    "tags": []
   },
   "outputs": [],
   "source": [
    "###################################\n",
    "# Build the dataset\n",
    "###################################\n",
    "train_original_source = Iterable_Aggregator(train_original_source, p.seed)\n",
    "val_original_source = Iterable_Aggregator(val_original_source, p.seed)\n",
    "test_original_source = Iterable_Aggregator(test_original_source, p.seed)\n",
    "\n",
    "\n",
    "train_original_target = Iterable_Aggregator(train_original_target, p.seed)\n",
    "val_original_target = Iterable_Aggregator(val_original_target, p.seed)\n",
    "test_original_target = Iterable_Aggregator(test_original_target, p.seed)\n",
    "\n",
    "# For CNN We only use X and Y. And we only train on the source.\n",
    "# Properly form the data using a transform lambda and Lazy_Iterable_Wrapper. Finally wrap them in a dataloader\n",
    "\n",
    "transform_lambda = lambda ex: ex[1] # Original is (<domain>, <episode>) so we strip down to episode only\n",
    "\n",
    "train_processed_source = Lazy_Iterable_Wrapper(train_original_source, transform_lambda)\n",
    "val_processed_source   = Lazy_Iterable_Wrapper(val_original_source, transform_lambda)\n",
    "test_processed_source  = Lazy_Iterable_Wrapper(test_original_source, transform_lambda)\n",
    "\n",
    "train_processed_target = Lazy_Iterable_Wrapper(train_original_target, transform_lambda)\n",
    "val_processed_target   = Lazy_Iterable_Wrapper(val_original_target, transform_lambda)\n",
    "test_processed_target  = Lazy_Iterable_Wrapper(test_original_target, transform_lambda)\n",
    "\n",
    "datasets = EasyDict({\n",
    "    \"source\": {\n",
    "        \"original\": {\"train\":train_original_source, \"val\":val_original_source, \"test\":test_original_source},\n",
    "        \"processed\": {\"train\":train_processed_source, \"val\":val_processed_source, \"test\":test_processed_source}\n",
    "    },\n",
    "    \"target\": {\n",
    "        \"original\": {\"train\":train_original_target, \"val\":val_original_target, \"test\":test_original_target},\n",
    "        \"processed\": {\"train\":train_processed_target, \"val\":val_processed_target, \"test\":test_processed_target}\n",
    "    },\n",
    "})"
   ]
  },
  {
   "cell_type": "code",
   "execution_count": 20,
   "id": "5b3c01fc",
   "metadata": {
    "execution": {
     "iopub.execute_input": "2022-03-21T03:29:56.057895Z",
     "iopub.status.busy": "2022-03-21T03:29:56.057337Z",
     "iopub.status.idle": "2022-03-21T03:30:03.987056Z",
     "shell.execute_reply": "2022-03-21T03:30:03.986441Z"
    },
    "papermill": {
     "duration": 7.954316,
     "end_time": "2022-03-21T03:30:03.987185",
     "exception": false,
     "start_time": "2022-03-21T03:29:56.032869",
     "status": "completed"
    },
    "tags": []
   },
   "outputs": [
    {
     "name": "stdout",
     "output_type": "stream",
     "text": [
      "{'CORES_1', 'CORES_5', 'CORES_4', 'CORES_3', 'CORES_2'}\n"
     ]
    },
    {
     "name": "stdout",
     "output_type": "stream",
     "text": [
      "{'Wisig_2', 'Wisig_1', 'Wisig_3', 'Wisig_4'}\n"
     ]
    },
    {
     "name": "stdout",
     "output_type": "stream",
     "text": [
      "tensor([[[ 0.5739,  0.5101, -1.1524,  ..., -0.6190,  0.2551, -0.1135],\n",
      "         [-0.3748,  0.4557,  1.0171,  ..., -0.3748,  0.6439,  0.7107]],\n",
      "\n",
      "        [[ 0.1302,  0.2588,  0.2572,  ...,  0.7859,  1.0509,  0.5788],\n",
      "         [-0.0847, -0.1443,  0.5788,  ...,  0.5208,  0.4110, -0.4392]],\n",
      "\n",
      "        [[ 0.6376, -1.0680, -1.3802,  ..., -0.2899, -0.3136, -0.9867],\n",
      "         [ 0.5769,  0.3861, -0.6967,  ...,  0.0651,  0.8535, -0.6405]],\n",
      "\n",
      "        ...,\n",
      "\n",
      "        [[-0.7539,  0.4217,  1.3744,  ...,  0.8072,  0.8064, -0.3237],\n",
      "         [ 0.0370, -0.0447,  0.0296,  ..., -0.2264,  0.0560,  0.8831]],\n",
      "\n",
      "        [[ 0.0579,  0.0379,  0.5663,  ..., -0.2190,  0.9285,  0.4091],\n",
      "         [ 0.0340, -0.2601, -0.3547,  ..., -0.7063, -0.5018, -0.0055]],\n",
      "\n",
      "        [[ 0.2504,  0.8438,  0.3143,  ...,  0.9175, -0.2740, -1.0074],\n",
      "         [-0.3744, -0.0775,  0.1686,  ..., -0.0837,  0.0337, -0.1647]]])\n"
     ]
    }
   ],
   "source": [
    "from steves_utils.transforms import get_average_magnitude, get_average_power\n",
    "\n",
    "print(set([u for u,_ in val_original_source]))\n",
    "print(set([u for u,_ in val_original_target]))\n",
    "\n",
    "s_x, s_y, q_x, q_y, _ = next(iter(train_processed_source))\n",
    "print(s_x)\n",
    "\n",
    "# for ds in [\n",
    "#     train_processed_source,\n",
    "#     val_processed_source,\n",
    "#     test_processed_source,\n",
    "#     train_processed_target,\n",
    "#     val_processed_target,\n",
    "#     test_processed_target\n",
    "# ]:\n",
    "#     for s_x, s_y, q_x, q_y, _ in ds:\n",
    "#         for X in (s_x, q_x):\n",
    "#             for x in X:\n",
    "#                 assert np.isclose(get_average_magnitude(x.numpy()), 1.0)\n",
    "#                 assert np.isclose(get_average_power(x.numpy()), 1.0)\n",
    "                "
   ]
  },
  {
   "cell_type": "code",
   "execution_count": 21,
   "id": "bbdacba1",
   "metadata": {
    "execution": {
     "iopub.execute_input": "2022-03-21T03:30:04.041203Z",
     "iopub.status.busy": "2022-03-21T03:30:04.040564Z",
     "iopub.status.idle": "2022-03-21T03:30:04.268186Z",
     "shell.execute_reply": "2022-03-21T03:30:04.267786Z"
    },
    "papermill": {
     "duration": 0.253868,
     "end_time": "2022-03-21T03:30:04.268298",
     "exception": false,
     "start_time": "2022-03-21T03:30:04.014430",
     "status": "completed"
    },
    "tags": []
   },
   "outputs": [
    {
     "name": "stdout",
     "output_type": "stream",
     "text": [
      "(2, 256)\n"
     ]
    }
   ],
   "source": [
    "###################################\n",
    "# Build the model\n",
    "###################################\n",
    "# easfsl only wants a tuple for the shape\n",
    "model = Steves_Prototypical_Network(x_net, device=p.device, x_shape=tuple(p.x_shape))\n",
    "optimizer = Adam(params=model.parameters(), lr=p.lr)"
   ]
  },
  {
   "cell_type": "code",
   "execution_count": 22,
   "id": "22b39ac5",
   "metadata": {
    "execution": {
     "iopub.execute_input": "2022-03-21T03:30:04.320625Z",
     "iopub.status.busy": "2022-03-21T03:30:04.320032Z",
     "iopub.status.idle": "2022-03-21T03:31:47.306096Z",
     "shell.execute_reply": "2022-03-21T03:31:47.306547Z"
    },
    "papermill": {
     "duration": 103.015009,
     "end_time": "2022-03-21T03:31:47.306684",
     "exception": false,
     "start_time": "2022-03-21T03:30:04.291675",
     "status": "completed"
    },
    "tags": []
   },
   "outputs": [
    {
     "name": "stdout",
     "output_type": "stream",
     "text": [
      "epoch: 1, [batch: 1 / 351], examples_per_second: 338.2256, train_label_loss: 3.8664, \n"
     ]
    },
    {
     "name": "stdout",
     "output_type": "stream",
     "text": [
      "epoch: 1, [batch: 36 / 351], examples_per_second: 4516.4842, train_label_loss: 0.7657, \n"
     ]
    },
    {
     "name": "stdout",
     "output_type": "stream",
     "text": [
      "epoch: 1, [batch: 71 / 351], examples_per_second: 4280.6448, train_label_loss: 0.2752, \n"
     ]
    },
    {
     "name": "stdout",
     "output_type": "stream",
     "text": [
      "epoch: 1, [batch: 106 / 351], examples_per_second: 4269.4381, train_label_loss: 0.1301, \n"
     ]
    },
    {
     "name": "stdout",
     "output_type": "stream",
     "text": [
      "epoch: 1, [batch: 141 / 351], examples_per_second: 4283.7357, train_label_loss: 0.0455, \n"
     ]
    },
    {
     "name": "stdout",
     "output_type": "stream",
     "text": [
      "epoch: 1, [batch: 176 / 351], examples_per_second: 4078.0143, train_label_loss: 0.0438, \n"
     ]
    },
    {
     "name": "stdout",
     "output_type": "stream",
     "text": [
      "epoch: 1, [batch: 211 / 351], examples_per_second: 4384.5543, train_label_loss: 0.1036, \n"
     ]
    },
    {
     "name": "stdout",
     "output_type": "stream",
     "text": [
      "epoch: 1, [batch: 246 / 351], examples_per_second: 4206.4592, train_label_loss: 0.0270, \n"
     ]
    },
    {
     "name": "stdout",
     "output_type": "stream",
     "text": [
      "epoch: 1, [batch: 281 / 351], examples_per_second: 4247.2876, train_label_loss: 0.0141, \n"
     ]
    },
    {
     "name": "stdout",
     "output_type": "stream",
     "text": [
      "epoch: 1, [batch: 316 / 351], examples_per_second: 4813.7006, train_label_loss: 0.0098, \n"
     ]
    },
    {
     "name": "stdout",
     "output_type": "stream",
     "text": [
      "=============================================================\n",
      "epoch: 1, source_val_acc_label: 0.9978, target_val_acc_label: 0.7074, source_val_label_loss: 0.0220, target_val_label_loss: 1.8592, \n",
      "=============================================================\n"
     ]
    },
    {
     "name": "stdout",
     "output_type": "stream",
     "text": [
      "New best\n"
     ]
    },
    {
     "name": "stdout",
     "output_type": "stream",
     "text": [
      "epoch: 2, [batch: 1 / 351], examples_per_second: 44.5673, train_label_loss: 0.0096, \n"
     ]
    },
    {
     "name": "stdout",
     "output_type": "stream",
     "text": [
      "epoch: 2, [batch: 36 / 351], examples_per_second: 4151.2812, train_label_loss: 0.0178, \n"
     ]
    },
    {
     "name": "stdout",
     "output_type": "stream",
     "text": [
      "epoch: 2, [batch: 71 / 351], examples_per_second: 4365.8846, train_label_loss: 0.0192, \n"
     ]
    },
    {
     "name": "stdout",
     "output_type": "stream",
     "text": [
      "epoch: 2, [batch: 106 / 351], examples_per_second: 4187.3353, train_label_loss: 0.0142, \n"
     ]
    },
    {
     "name": "stdout",
     "output_type": "stream",
     "text": [
      "epoch: 2, [batch: 141 / 351], examples_per_second: 4342.0904, train_label_loss: 0.0132, \n"
     ]
    },
    {
     "name": "stdout",
     "output_type": "stream",
     "text": [
      "epoch: 2, [batch: 176 / 351], examples_per_second: 4191.2623, train_label_loss: 0.0079, \n"
     ]
    },
    {
     "name": "stdout",
     "output_type": "stream",
     "text": [
      "epoch: 2, [batch: 211 / 351], examples_per_second: 4392.4575, train_label_loss: 0.0008, \n"
     ]
    },
    {
     "name": "stdout",
     "output_type": "stream",
     "text": [
      "epoch: 2, [batch: 246 / 351], examples_per_second: 4464.7795, train_label_loss: 0.0004, \n"
     ]
    },
    {
     "name": "stdout",
     "output_type": "stream",
     "text": [
      "epoch: 2, [batch: 281 / 351], examples_per_second: 4694.1661, train_label_loss: 0.0441, \n"
     ]
    },
    {
     "name": "stdout",
     "output_type": "stream",
     "text": [
      "epoch: 2, [batch: 316 / 351], examples_per_second: 4266.3977, train_label_loss: 0.0009, \n"
     ]
    },
    {
     "name": "stdout",
     "output_type": "stream",
     "text": [
      "=============================================================\n",
      "epoch: 2, source_val_acc_label: 0.9984, target_val_acc_label: 0.7008, source_val_label_loss: 0.0104, target_val_label_loss: 2.5945, \n",
      "=============================================================\n"
     ]
    },
    {
     "name": "stdout",
     "output_type": "stream",
     "text": [
      "epoch: 3, [batch: 1 / 351], examples_per_second: 42.9470, train_label_loss: 0.0039, \n"
     ]
    },
    {
     "name": "stdout",
     "output_type": "stream",
     "text": [
      "epoch: 3, [batch: 36 / 351], examples_per_second: 4932.2949, train_label_loss: 0.0005, \n"
     ]
    },
    {
     "name": "stdout",
     "output_type": "stream",
     "text": [
      "epoch: 3, [batch: 71 / 351], examples_per_second: 4754.2975, train_label_loss: 0.0023, \n"
     ]
    },
    {
     "name": "stdout",
     "output_type": "stream",
     "text": [
      "epoch: 3, [batch: 106 / 351], examples_per_second: 4777.7630, train_label_loss: 0.0011, \n"
     ]
    },
    {
     "name": "stdout",
     "output_type": "stream",
     "text": [
      "epoch: 3, [batch: 141 / 351], examples_per_second: 4770.7005, train_label_loss: 0.0163, \n"
     ]
    },
    {
     "name": "stdout",
     "output_type": "stream",
     "text": [
      "epoch: 3, [batch: 176 / 351], examples_per_second: 5763.8645, train_label_loss: 0.0382, \n"
     ]
    },
    {
     "name": "stdout",
     "output_type": "stream",
     "text": [
      "epoch: 3, [batch: 211 / 351], examples_per_second: 5836.2306, train_label_loss: 0.0015, \n"
     ]
    },
    {
     "name": "stdout",
     "output_type": "stream",
     "text": [
      "epoch: 3, [batch: 246 / 351], examples_per_second: 4276.5602, train_label_loss: 0.0432, \n"
     ]
    },
    {
     "name": "stdout",
     "output_type": "stream",
     "text": [
      "epoch: 3, [batch: 281 / 351], examples_per_second: 4021.3488, train_label_loss: 0.0038, \n"
     ]
    },
    {
     "name": "stdout",
     "output_type": "stream",
     "text": [
      "epoch: 3, [batch: 316 / 351], examples_per_second: 4190.5944, train_label_loss: 0.0098, \n"
     ]
    },
    {
     "name": "stdout",
     "output_type": "stream",
     "text": [
      "=============================================================\n",
      "epoch: 3, source_val_acc_label: 0.9971, target_val_acc_label: 0.6926, source_val_label_loss: 0.0153, target_val_label_loss: 3.6313, \n",
      "=============================================================\n"
     ]
    }
   ],
   "source": [
    "###################################\n",
    "# train\n",
    "###################################\n",
    "jig = PTN_Train_Eval_Test_Jig(model, p.BEST_MODEL_PATH, p.device)\n",
    "\n",
    "jig.train(\n",
    "    train_iterable=datasets.source.processed.train,\n",
    "    source_val_iterable=datasets.source.processed.val,\n",
    "    target_val_iterable=datasets.target.processed.val,\n",
    "    num_epochs=p.n_epoch,\n",
    "    num_logs_per_epoch=p.NUM_LOGS_PER_EPOCH,\n",
    "    patience=p.patience,\n",
    "    optimizer=optimizer,\n",
    "    criteria_for_best=p.criteria_for_best,\n",
    ")"
   ]
  },
  {
   "cell_type": "code",
   "execution_count": 23,
   "id": "31e8fabf",
   "metadata": {
    "execution": {
     "iopub.execute_input": "2022-03-21T03:31:47.409236Z",
     "iopub.status.busy": "2022-03-21T03:31:47.408852Z",
     "iopub.status.idle": "2022-03-21T03:31:47.440107Z",
     "shell.execute_reply": "2022-03-21T03:31:47.440788Z"
    },
    "papermill": {
     "duration": 0.086692,
     "end_time": "2022-03-21T03:31:47.441007",
     "exception": false,
     "start_time": "2022-03-21T03:31:47.354315",
     "status": "completed"
    },
    "tags": []
   },
   "outputs": [],
   "source": [
    "total_experiment_time_secs = time.time() - start_time_secs"
   ]
  },
  {
   "cell_type": "code",
   "execution_count": 24,
   "id": "87b9595b",
   "metadata": {
    "execution": {
     "iopub.execute_input": "2022-03-21T03:31:47.525419Z",
     "iopub.status.busy": "2022-03-21T03:31:47.524999Z",
     "iopub.status.idle": "2022-03-21T03:32:51.081032Z",
     "shell.execute_reply": "2022-03-21T03:32:51.081937Z"
    },
    "papermill": {
     "duration": 63.599725,
     "end_time": "2022-03-21T03:32:51.082283",
     "exception": false,
     "start_time": "2022-03-21T03:31:47.482558",
     "status": "completed"
    },
    "tags": []
   },
   "outputs": [],
   "source": [
    "###################################\n",
    "# Evaluate the model\n",
    "###################################\n",
    "source_test_label_accuracy, source_test_label_loss = jig.test(datasets.source.processed.test)\n",
    "target_test_label_accuracy, target_test_label_loss = jig.test(datasets.target.processed.test)\n",
    "\n",
    "source_val_label_accuracy, source_val_label_loss = jig.test(datasets.source.processed.val)\n",
    "target_val_label_accuracy, target_val_label_loss = jig.test(datasets.target.processed.val)\n",
    "\n",
    "history = jig.get_history()\n",
    "\n",
    "total_epochs_trained = len(history[\"epoch_indices\"])\n",
    "\n",
    "val_dl = Iterable_Aggregator((datasets.source.original.val,datasets.target.original.val))\n",
    "\n",
    "confusion = ptn_confusion_by_domain_over_dataloader(model, p.device, val_dl)\n",
    "per_domain_accuracy = per_domain_accuracy_from_confusion(confusion)\n",
    "\n",
    "# Add a key to per_domain_accuracy for if it was a source domain\n",
    "for domain, accuracy in per_domain_accuracy.items():\n",
    "    per_domain_accuracy[domain] = {\n",
    "        \"accuracy\": accuracy,\n",
    "        \"source?\": domain in p.domains_source\n",
    "    }\n",
    "\n",
    "# Do an independent accuracy assesment JUST TO BE SURE!\n",
    "# _source_test_label_accuracy = independent_accuracy_assesment(model, datasets.source.processed.test, p.device)\n",
    "# _target_test_label_accuracy = independent_accuracy_assesment(model, datasets.target.processed.test, p.device)\n",
    "# _source_val_label_accuracy = independent_accuracy_assesment(model, datasets.source.processed.val, p.device)\n",
    "# _target_val_label_accuracy = independent_accuracy_assesment(model, datasets.target.processed.val, p.device)\n",
    "\n",
    "# assert(_source_test_label_accuracy == source_test_label_accuracy)\n",
    "# assert(_target_test_label_accuracy == target_test_label_accuracy)\n",
    "# assert(_source_val_label_accuracy == source_val_label_accuracy)\n",
    "# assert(_target_val_label_accuracy == target_val_label_accuracy)\n",
    "\n",
    "experiment = {\n",
    "    \"experiment_name\": p.experiment_name,\n",
    "    \"parameters\": dict(p),\n",
    "    \"results\": {\n",
    "        \"source_test_label_accuracy\": source_test_label_accuracy,\n",
    "        \"source_test_label_loss\": source_test_label_loss,\n",
    "        \"target_test_label_accuracy\": target_test_label_accuracy,\n",
    "        \"target_test_label_loss\": target_test_label_loss,\n",
    "        \"source_val_label_accuracy\": source_val_label_accuracy,\n",
    "        \"source_val_label_loss\": source_val_label_loss,\n",
    "        \"target_val_label_accuracy\": target_val_label_accuracy,\n",
    "        \"target_val_label_loss\": target_val_label_loss,\n",
    "        \"total_epochs_trained\": total_epochs_trained,\n",
    "        \"total_experiment_time_secs\": total_experiment_time_secs,\n",
    "        \"confusion\": confusion,\n",
    "        \"per_domain_accuracy\": per_domain_accuracy,\n",
    "    },\n",
    "    \"history\": history,\n",
    "    \"dataset_metrics\": get_dataset_metrics(datasets, \"ptn\"),\n",
    "}"
   ]
  },
  {
   "cell_type": "code",
   "execution_count": 25,
   "id": "54a21829",
   "metadata": {
    "execution": {
     "iopub.execute_input": "2022-03-21T03:32:51.158402Z",
     "iopub.status.busy": "2022-03-21T03:32:51.158024Z",
     "iopub.status.idle": "2022-03-21T03:32:51.372346Z",
     "shell.execute_reply": "2022-03-21T03:32:51.373026Z"
    },
    "papermill": {
     "duration": 0.251391,
     "end_time": "2022-03-21T03:32:51.373254",
     "exception": false,
     "start_time": "2022-03-21T03:32:51.121863",
     "status": "completed"
    },
    "tags": []
   },
   "outputs": [
    {
     "data": {
      "image/png": "[encoded data removed]",
      "text/plain": [
       "<Figure size 1080x504 with 1 Axes>"
      ]
     },
     "metadata": {
      "needs_background": "light"
     },
     "output_type": "display_data"
    }
   ],
   "source": [
    "ax = get_loss_curve(experiment)\n",
    "plt.show()"
   ]
  },
  {
   "cell_type": "code",
   "execution_count": 26,
   "id": "fd8a0f60",
   "metadata": {
    "execution": {
     "iopub.execute_input": "2022-03-21T03:32:51.449540Z",
     "iopub.status.busy": "2022-03-21T03:32:51.448972Z",
     "iopub.status.idle": "2022-03-21T03:32:51.778147Z",
     "shell.execute_reply": "2022-03-21T03:32:51.778445Z"
    },
    "papermill": {
     "duration": 0.366458,
     "end_time": "2022-03-21T03:32:51.778619",
     "exception": false,
     "start_time": "2022-03-21T03:32:51.412161",
     "status": "completed"
    },
    "tags": []
   },
   "outputs": [
    {
     "data": {
      "text/plain": [
       "<AxesSubplot:title={'center':'Results'}>"
      ]
     },
     "execution_count": 26,
     "metadata": {},
     "output_type": "execute_result"
    },
    {
     "data": {
      "image/png": "[encoded data removed]",
      "text/plain": [
       "<Figure size 1080x504 with 1 Axes>"
      ]
     },
     "metadata": {
      "needs_background": "light"
     },
     "output_type": "display_data"
    }
   ],
   "source": [
    "get_results_table(experiment)"
   ]
  },
  {
   "cell_type": "code",
   "execution_count": 27,
   "id": "cf8dc689",
   "metadata": {
    "execution": {
     "iopub.execute_input": "2022-03-21T03:32:51.859320Z",
     "iopub.status.busy": "2022-03-21T03:32:51.858948Z",
     "iopub.status.idle": "2022-03-21T03:32:52.085439Z",
     "shell.execute_reply": "2022-03-21T03:32:52.084704Z"
    },
    "papermill": {
     "duration": 0.26615,
     "end_time": "2022-03-21T03:32:52.085609",
     "exception": false,
     "start_time": "2022-03-21T03:32:51.819459",
     "status": "completed"
    },
    "tags": []
   },
   "outputs": [
    {
     "data": {
      "text/plain": [
       "<AxesSubplot:title={'center':'Per Domain Validation Accuracy'}, xlabel='domain'>"
      ]
     },
     "execution_count": 27,
     "metadata": {},
     "output_type": "execute_result"
    },
    {
     "data": {
      "image/png": "[encoded data removed]",
      "text/plain": [
       "<Figure size 1080x504 with 1 Axes>"
      ]
     },
     "metadata": {
      "needs_background": "light"
     },
     "output_type": "display_data"
    }
   ],
   "source": [
    "get_domain_accuracies(experiment)"
   ]
  },
  {
   "cell_type": "code",
   "execution_count": 28,
   "id": "a74ae082",
   "metadata": {
    "execution": {
     "iopub.execute_input": "2022-03-21T03:32:52.167974Z",
     "iopub.status.busy": "2022-03-21T03:32:52.167586Z",
     "iopub.status.idle": "2022-03-21T03:32:52.194102Z",
     "shell.execute_reply": "2022-03-21T03:32:52.194743Z"
    },
    "papermill": {
     "duration": 0.068974,
     "end_time": "2022-03-21T03:32:52.194944",
     "exception": false,
     "start_time": "2022-03-21T03:32:52.125970",
     "status": "completed"
    },
    "tags": []
   },
   "outputs": [
    {
     "name": "stdout",
     "output_type": "stream",
     "text": [
      "Source Test Label Accuracy: 0.9975862068965518 Target Test Label Accuracy: 0.7118226600985221\n",
      "Source Val Label Accuracy: 0.9978448275862069 Target Val Label Accuracy: 0.7074353448275862\n"
     ]
    }
   ],
   "source": [
    "print(\"Source Test Label Accuracy:\", experiment[\"results\"][\"source_test_label_accuracy\"], \"Target Test Label Accuracy:\", experiment[\"results\"][\"target_test_label_accuracy\"])\n",
    "print(\"Source Val Label Accuracy:\", experiment[\"results\"][\"source_val_label_accuracy\"], \"Target Val Label Accuracy:\", experiment[\"results\"][\"target_val_label_accuracy\"])"
   ]
  },
  {
   "cell_type": "code",
   "execution_count": 29,
   "id": "dacca602",
   "metadata": {
    "execution": {
     "iopub.execute_input": "2022-03-21T03:32:52.276900Z",
     "iopub.status.busy": "2022-03-21T03:32:52.276373Z",
     "iopub.status.idle": "2022-03-21T03:32:52.301585Z",
     "shell.execute_reply": "2022-03-21T03:32:52.302251Z"
    },
    "papermill": {
     "duration": 0.065384,
     "end_time": "2022-03-21T03:32:52.302440",
     "exception": false,
     "start_time": "2022-03-21T03:32:52.237056",
     "status": "completed"
    },
    "tags": [
     "experiment_json"
    ]
   },
   "outputs": [
    {
     "data": {
      "text/plain": [
       "'{\"experiment_name\": \"tl_1v2:cores-wisig\", \"parameters\": {\"experiment_name\": \"tl_1v2:cores-wisig\", \"device\": \"cuda\", \"lr\": 0.0001, \"n_shot\": 3, \"n_query\": 2, \"train_k_factor\": 3, \"val_k_factor\": 2, \"test_k_factor\": 2, \"torch_default_dtype\": \"torch.float32\", \"n_epoch\": 3, \"patience\": 3, \"criteria_for_best\": \"target_accuracy\", \"x_net\": [{\"class\": \"nnReshape\", \"kargs\": {\"shape\": [-1, 1, 2, 256]}}, {\"class\": \"Conv2d\", \"kargs\": {\"in_channels\": 1, \"out_channels\": 256, \"kernel_size\": [1, 7], \"bias\": false, \"padding\": [0, 3]}}, {\"class\": \"ReLU\", \"kargs\": {\"inplace\": true}}, {\"class\": \"BatchNorm2d\", \"kargs\": {\"num_features\": 256}}, {\"class\": \"Conv2d\", \"kargs\": {\"in_channels\": 256, \"out_channels\": 80, \"kernel_size\": [2, 7], \"bias\": true, \"padding\": [0, 3]}}, {\"class\": \"ReLU\", \"kargs\": {\"inplace\": true}}, {\"class\": \"BatchNorm2d\", \"kargs\": {\"num_features\": 80}}, {\"class\": \"Flatten\", \"kargs\": {}}, {\"class\": \"Linear\", \"kargs\": {\"in_features\": 20480, \"out_features\": 256}}, {\"class\": \"ReLU\", \"kargs\": {\"inplace\": true}}, {\"class\": \"BatchNorm1d\", \"kargs\": {\"num_features\": 256}}, {\"class\": \"Linear\", \"kargs\": {\"in_features\": 256, \"out_features\": 256}}], \"NUM_LOGS_PER_EPOCH\": 10, \"BEST_MODEL_PATH\": \"./best_model.pth\", \"n_way\": 58, \"datasets\": [{\"labels\": [\"1-10.\", \"1-11.\", \"1-15.\", \"1-16.\", \"1-17.\", \"1-18.\", \"1-19.\", \"10-4.\", \"10-7.\", \"11-1.\", \"11-14.\", \"11-17.\", \"11-20.\", \"11-7.\", \"13-20.\", \"13-8.\", \"14-10.\", \"14-11.\", \"14-14.\", \"14-7.\", \"15-1.\", \"15-20.\", \"16-1.\", \"16-16.\", \"17-10.\", \"17-11.\", \"17-2.\", \"19-1.\", \"19-16.\", \"19-19.\", \"19-20.\", \"19-3.\", \"2-10.\", \"2-11.\", \"2-17.\", \"2-18.\", \"2-20.\", \"2-3.\", \"2-4.\", \"2-5.\", \"2-6.\", \"2-7.\", \"2-8.\", \"3-13.\", \"3-18.\", \"3-3.\", \"4-1.\", \"4-10.\", \"4-11.\", \"4-19.\", \"5-5.\", \"6-15.\", \"7-10.\", \"7-14.\", \"8-18.\", \"8-20.\", \"8-3.\", \"8-8.\"], \"domains\": [1, 2, 3, 4, 5], \"num_examples_per_domain_per_label\": -1, \"pickle_path\": \"/root/csc500-main/datasets/cores.stratified_ds.2022A.pkl\", \"source_or_target_dataset\": \"source\", \"x_transforms\": [\"unit_power\"], \"episode_transforms\": [], \"domain_prefix\": \"CORES_\"}, {\"labels\": [\"1-10\", \"1-12\", \"1-14\", \"1-16\", \"1-18\", \"1-19\", \"1-8\", \"10-11\", \"10-17\", \"10-4\", \"10-7\", \"11-1\", \"11-10\", \"11-19\", \"11-20\", \"11-4\", \"11-7\", \"12-19\", \"12-20\", \"12-7\", \"13-14\", \"13-18\", \"13-19\", \"13-20\", \"13-3\", \"13-7\", \"14-10\", \"14-11\", \"14-12\", \"14-13\", \"14-14\", \"14-19\", \"14-20\", \"14-7\", \"14-8\", \"14-9\", \"15-1\", \"15-19\", \"15-6\", \"16-1\", \"16-16\", \"16-19\", \"16-20\", \"17-10\", \"17-11\", \"18-1\", \"18-10\", \"18-11\", \"18-12\", \"18-13\", \"18-14\", \"18-15\", \"18-16\", \"18-17\", \"18-19\", \"18-2\", \"18-20\", \"18-4\", \"18-5\", \"18-7\", \"18-8\", \"18-9\", \"19-1\", \"19-10\", \"19-11\", \"19-12\", \"19-13\", \"19-14\", \"19-15\", \"19-19\", \"19-2\", \"19-20\", \"19-3\", \"19-4\", \"19-6\", \"19-7\", \"19-8\", \"19-9\", \"2-1\", \"2-13\", \"2-15\", \"2-3\", \"2-4\", \"2-5\", \"2-6\", \"2-7\", \"2-8\", \"20-1\", \"20-12\", \"20-14\", \"20-15\", \"20-16\", \"20-18\", \"20-19\", \"20-20\", \"20-3\", \"20-4\", \"20-5\", \"20-7\", \"20-8\", \"3-1\", \"3-13\", \"3-18\", \"3-2\", \"3-8\", \"4-1\", \"4-10\", \"4-11\", \"5-1\", \"5-5\", \"6-1\", \"6-15\", \"6-6\", \"7-10\", \"7-11\", \"7-12\", \"7-13\", \"7-14\", \"7-7\", \"7-8\", \"7-9\", \"8-1\", \"8-13\", \"8-14\", \"8-18\", \"8-20\", \"8-3\", \"8-8\", \"9-1\", \"9-7\"], \"domains\": [1, 2, 3, 4], \"num_examples_per_domain_per_label\": -1, \"pickle_path\": \"/root/csc500-main/datasets/wisig.node3-19.stratified_ds.2022A.pkl\", \"source_or_target_dataset\": \"target\", \"x_transforms\": [\"unit_power\"], \"episode_transforms\": [], \"domain_prefix\": \"Wisig_\"}], \"dataset_seed\": 7, \"seed\": 7, \"x_shape\": [2, 256], \"domains_source\": [\"CORES_1\", \"CORES_2\", \"CORES_3\", \"CORES_4\", \"CORES_5\"], \"domains_target\": [\"Wisig_1\", \"Wisig_2\", \"Wisig_3\", \"Wisig_4\"]}, \"results\": {\"source_test_label_accuracy\": 0.9975862068965518, \"source_test_label_loss\": 0.021152276545763016, \"target_test_label_accuracy\": 0.7118226600985221, \"target_test_label_loss\": 1.7987319231033325, \"source_val_label_accuracy\": 0.9978448275862069, \"source_val_label_loss\": 0.022019747644662857, \"target_val_label_accuracy\": 0.7074353448275862, \"target_val_label_loss\": 1.8592438697814941, \"total_epochs_trained\": 3, \"total_experiment_time_secs\": 156.03511762619019, \"confusion\": {\"CORES_5\": {\"8\": {\"8\": 20}, \"12\": {\"12\": 20}, \"52\": {\"52\": 20}, \"16\": {\"16\": 20}, \"30\": {\"30\": 20}, \"26\": {\"26\": 20}, \"22\": {\"22\": 20}, \"49\": {\"49\": 20}, \"3\": {\"3\": 20}, \"6\": {\"6\": 20}, \"45\": {\"45\": 20}, \"37\": {\"37\": 20}, \"7\": {\"7\": 20}, \"33\": {\"33\": 20}, \"21\": {\"21\": 20}, \"10\": {\"10\": 20}, \"54\": {\"54\": 20}, \"41\": {\"41\": 20}, \"34\": {\"34\": 20}, \"55\": {\"55\": 20}, \"23\": {\"23\": 20}, \"43\": {\"43\": 20}, \"2\": {\"2\": 20}, \"11\": {\"11\": 20}, \"18\": {\"18\": 20}, \"1\": {\"1\": 20}, \"17\": {\"17\": 20}, \"35\": {\"35\": 20}, \"39\": {\"39\": 20}, \"28\": {\"28\": 20}, \"42\": {\"42\": 18, \"41\": 2}, \"36\": {\"36\": 19, \"33\": 1}, \"56\": {\"56\": 20}, \"38\": {\"38\": 20}, \"44\": {\"44\": 20}, \"19\": {\"19\": 20}, \"5\": {\"5\": 20}, \"57\": {\"57\": 20}, \"47\": {\"47\": 20}, \"24\": {\"24\": 20}, \"50\": {\"50\": 20}, \"53\": {\"53\": 20}, \"15\": {\"15\": 19, \"11\": 1}, \"31\": {\"31\": 20}, \"48\": {\"48\": 20}, \"40\": {\"40\": 20}, \"32\": {\"32\": 20}, \"46\": {\"46\": 20}, \"9\": {\"9\": 20}, \"4\": {\"4\": 20}, \"0\": {\"0\": 20}, \"51\": {\"51\": 20}, \"13\": {\"13\": 20}, \"20\": {\"20\": 20}, \"27\": {\"27\": 20}, \"14\": {\"14\": 20}, \"29\": {\"29\": 20}, \"25\": {\"25\": 20}}, \"CORES_1\": {\"10\": {\"10\": 24}, \"30\": {\"30\": 24}, \"38\": {\"38\": 24}, \"0\": {\"0\": 24}, \"9\": {\"9\": 24}, \"44\": {\"44\": 24}, \"35\": {\"35\": 24}, \"19\": {\"19\": 24}, \"4\": {\"4\": 24}, \"57\": {\"57\": 24}, \"12\": {\"12\": 24}, \"47\": {\"47\": 24}, \"16\": {\"16\": 24}, \"2\": {\"2\": 24}, \"36\": {\"36\": 24}, \"25\": {\"25\": 24}, \"54\": {\"54\": 24}, \"14\": {\"14\": 24}, \"24\": {\"24\": 24}, \"27\": {\"27\": 24}, \"48\": {\"48\": 24}, \"50\": {\"50\": 24}, \"51\": {\"51\": 24}, \"29\": {\"29\": 24}, \"17\": {\"17\": 24}, \"55\": {\"55\": 24}, \"32\": {\"32\": 24}, \"41\": {\"41\": 24}, \"33\": {\"33\": 24}, \"15\": {\"15\": 24}, \"31\": {\"31\": 24}, \"8\": {\"8\": 24}, \"28\": {\"28\": 24}, \"22\": {\"22\": 24}, \"43\": {\"43\": 24}, \"49\": {\"49\": 24}, \"52\": {\"52\": 24}, \"18\": {\"18\": 24}, \"40\": {\"40\": 24}, \"34\": {\"34\": 24}, \"45\": {\"45\": 24}, \"42\": {\"42\": 24}, \"7\": {\"7\": 24}, \"5\": {\"5\": 24}, \"56\": {\"56\": 24}, \"23\": {\"23\": 24}, \"46\": {\"46\": 24}, \"1\": {\"1\": 24}, \"20\": {\"20\": 24}, \"6\": {\"6\": 24}, \"26\": {\"26\": 24}, \"11\": {\"11\": 24}, \"39\": {\"39\": 24}, \"21\": {\"21\": 24}, \"3\": {\"3\": 24}, \"13\": {\"13\": 24}, \"37\": {\"37\": 24}, \"53\": {\"53\": 24}}, \"CORES_3\": {\"12\": {\"12\": 15, \"50\": 1}, \"8\": {\"8\": 16}, \"56\": {\"56\": 16}, \"53\": {\"53\": 16}, \"41\": {\"41\": 16}, \"51\": {\"51\": 16}, \"39\": {\"39\": 16}, \"46\": {\"46\": 16}, \"36\": {\"36\": 16}, \"11\": {\"11\": 16}, \"10\": {\"10\": 16}, \"48\": {\"48\": 16}, \"22\": {\"22\": 16}, \"21\": {\"21\": 16}, \"40\": {\"40\": 16}, \"47\": {\"47\": 16}, \"23\": {\"23\": 16}, \"45\": {\"45\": 16}, \"44\": {\"44\": 16}, \"7\": {\"7\": 16}, \"1\": {\"1\": 16}, \"16\": {\"16\": 16}, \"17\": {\"17\": 16}, \"55\": {\"55\": 16}, \"9\": {\"9\": 16}, \"6\": {\"6\": 15, \"48\": 1}, \"52\": {\"52\": 16}, \"43\": {\"43\": 16}, \"54\": {\"54\": 16}, \"0\": {\"0\": 16}, \"26\": {\"26\": 16}, \"35\": {\"35\": 16}, \"28\": {\"28\": 16}, \"15\": {\"15\": 16}, \"57\": {\"57\": 16}, \"30\": {\"30\": 16}, \"2\": {\"2\": 16}, \"13\": {\"13\": 16}, \"31\": {\"31\": 16}, \"32\": {\"32\": 16}, \"19\": {\"19\": 16}, \"34\": {\"34\": 16}, \"38\": {\"38\": 16}, \"37\": {\"37\": 16}, \"5\": {\"5\": 16}, \"18\": {\"18\": 16}, \"3\": {\"3\": 16}, \"25\": {\"25\": 16}, \"24\": {\"24\": 16}, \"27\": {\"27\": 16}, \"29\": {\"29\": 16}, \"4\": {\"4\": 16}, \"14\": {\"14\": 16}, \"33\": {\"33\": 15, \"6\": 1}, \"50\": {\"50\": 16}, \"49\": {\"49\": 16}, \"42\": {\"42\": 16}, \"20\": {\"20\": 16}}, \"CORES_4\": {\"40\": {\"40\": 16}, \"12\": {\"12\": 16}, \"30\": {\"30\": 16}, \"35\": {\"35\": 16}, \"18\": {\"18\": 16}, \"27\": {\"27\": 16}, \"33\": {\"33\": 16}, \"21\": {\"21\": 16}, \"54\": {\"54\": 16}, \"41\": {\"41\": 16}, \"44\": {\"44\": 16}, \"32\": {\"32\": 16}, \"45\": {\"45\": 16}, \"49\": {\"49\": 16}, \"16\": {\"16\": 16}, \"51\": {\"51\": 16}, \"9\": {\"9\": 16}, \"39\": {\"39\": 16}, \"1\": {\"1\": 16}, \"47\": {\"47\": 16}, \"31\": {\"31\": 16}, \"8\": {\"8\": 16}, \"17\": {\"17\": 16}, \"25\": {\"25\": 16}, \"11\": {\"11\": 16}, \"2\": {\"2\": 16}, \"19\": {\"19\": 16}, \"57\": {\"57\": 16}, \"6\": {\"6\": 14, \"3\": 2}, \"14\": {\"14\": 16}, \"42\": {\"42\": 16}, \"7\": {\"7\": 16}, \"34\": {\"34\": 16}, \"5\": {\"5\": 16}, \"20\": {\"20\": 16}, \"53\": {\"53\": 16}, \"24\": {\"24\": 16}, \"43\": {\"43\": 16}, \"50\": {\"50\": 16}, \"23\": {\"23\": 16}, \"26\": {\"26\": 16}, \"0\": {\"0\": 16}, \"13\": {\"13\": 16}, \"52\": {\"52\": 16}, \"29\": {\"29\": 16}, \"55\": {\"55\": 16}, \"48\": {\"48\": 16}, \"4\": {\"4\": 16}, \"38\": {\"38\": 16}, \"46\": {\"46\": 16}, \"3\": {\"3\": 16}, \"36\": {\"36\": 16}, \"10\": {\"10\": 16}, \"56\": {\"56\": 16}, \"37\": {\"37\": 16}, \"15\": {\"15\": 15, \"11\": 1}, \"28\": {\"28\": 16}, \"22\": {\"22\": 16}}, \"CORES_2\": {\"13\": {\"13\": 20}, \"28\": {\"28\": 20}, \"32\": {\"32\": 20}, \"26\": {\"26\": 20}, \"24\": {\"24\": 20}, \"6\": {\"6\": 20}, \"51\": {\"51\": 20}, \"23\": {\"23\": 20}, \"37\": {\"37\": 20}, \"10\": {\"10\": 20}, \"25\": {\"25\": 20}, \"27\": {\"27\": 20}, \"19\": {\"19\": 20}, \"21\": {\"21\": 20}, \"50\": {\"50\": 20}, \"3\": {\"3\": 20}, \"40\": {\"40\": 20}, \"15\": {\"15\": 20}, \"5\": {\"5\": 20}, \"41\": {\"41\": 20}, \"46\": {\"46\": 20}, \"7\": {\"7\": 20}, \"16\": {\"16\": 20}, \"30\": {\"30\": 20}, \"22\": {\"22\": 20}, \"33\": {\"33\": 20}, \"45\": {\"45\": 20}, \"47\": {\"47\": 20}, \"57\": {\"57\": 20}, \"29\": {\"29\": 20}, \"38\": {\"38\": 20}, \"14\": {\"14\": 20}, \"20\": {\"20\": 19, \"50\": 1}, \"42\": {\"42\": 20}, \"54\": {\"54\": 20}, \"36\": {\"36\": 20}, \"1\": {\"1\": 19, \"42\": 1}, \"8\": {\"8\": 20}, \"49\": {\"49\": 20}, \"4\": {\"4\": 20}, \"2\": {\"2\": 20}, \"31\": {\"31\": 20}, \"0\": {\"0\": 20}, \"11\": {\"11\": 20}, \"9\": {\"9\": 20}, \"43\": {\"43\": 20}, \"55\": {\"55\": 20}, \"56\": {\"56\": 20}, \"12\": {\"12\": 20}, \"52\": {\"52\": 20}, \"39\": {\"39\": 20}, \"35\": {\"35\": 20}, \"17\": {\"17\": 20}, \"34\": {\"34\": 20}, \"53\": {\"53\": 20}, \"44\": {\"44\": 20}, \"48\": {\"48\": 20}, \"18\": {\"18\": 20}}, \"Wisig_4\": {\"57\": {\"84\": 1, \"13\": 1, \"57\": 12, \"102\": 2}, \"125\": {\"85\": 3, \"125\": 30, \"34\": 1, \"51\": 3, \"12\": 1, \"111\": 2, \"98\": 1, \"99\": 1}, \"63\": {\"63\": 16}, \"71\": {\"71\": 29, \"114\": 7, \"124\": 1, \"100\": 1}, \"116\": {\"116\": 19, \"102\": 1, \"96\": 4, \"38\": 3, \"45\": 1}, \"52\": {\"52\": 19, \"8\": 1}, \"0\": {\"0\": 23, \"120\": 1, \"127\": 1, \"101\": 7, \"7\": 1, \"89\": 1, \"34\": 2, \"14\": 2, \"93\": 1, \"115\": 1, \"21\": 2}, \"69\": {\"69\": 39, \"31\": 1, \"109\": 2}, \"105\": {\"105\": 31, \"78\": 1, \"21\": 3, \"87\": 3, \"40\": 3, \"122\": 1, \"7\": 1, \"4\": 1}, \"43\": {\"96\": 2, \"107\": 3, \"122\": 6, \"33\": 8, \"78\": 2, \"115\": 1, \"99\": 1, \"43\": 16, \"109\": 1, \"84\": 1, \"23\": 1, \"28\": 1, \"74\": 1, \"116\": 1, \"66\": 1}, \"4\": {\"4\": 31, \"95\": 3, \"7\": 1, \"127\": 1}, \"5\": {\"5\": 32, \"88\": 1, \"73\": 2, \"78\": 1, \"49\": 2, \"83\": 2}, \"44\": {\"44\": 40, \"11\": 2, \"2\": 1, \"39\": 1}, \"24\": {\"97\": 3, \"25\": 1, \"27\": 5, \"24\": 8, \"88\": 2, \"78\": 1, \"36\": 7, \"112\": 1, \"10\": 1, \"54\": 1}, \"107\": {\"107\": 33, \"78\": 1, \"87\": 1, \"105\": 1}, \"26\": {\"26\": 34, \"78\": 1, \"21\": 2, \"117\": 1, \"61\": 1, \"71\": 1}, \"90\": {\"90\": 35, \"66\": 3}, \"100\": {\"100\": 14, \"119\": 1, \"19\": 3, \"1\": 1, \"72\": 1}, \"18\": {\"120\": 1, \"18\": 35, \"126\": 1, \"117\": 3, \"81\": 1, \"26\": 1}, \"72\": {\"72\": 24, \"36\": 1, \"110\": 2, \"1\": 3, \"43\": 1, \"3\": 1}, \"81\": {\"81\": 25, \"78\": 1, \"39\": 2, \"99\": 2, \"21\": 1, \"18\": 1, \"117\": 2}, \"96\": {\"75\": 1, \"90\": 1, \"66\": 2, \"96\": 10, \"32\": 1, \"116\": 1, \"45\": 1, \"76\": 1, \"77\": 1, \"34\": 1}, \"37\": {\"105\": 2, \"37\": 11, \"89\": 1, \"120\": 1, \"55\": 1}, \"67\": {\"123\": 4, \"69\": 2, \"64\": 5, \"63\": 2, \"23\": 1, \"40\": 1, \"109\": 1}, \"76\": {\"76\": 13, \"31\": 1, \"22\": 1, \"81\": 1}, \"108\": {\"108\": 12, \"120\": 1, \"5\": 3, \"93\": 1, \"73\": 3, \"88\": 2, \"129\": 1, \"1\": 2, \"70\": 2, \"46\": 1, \"71\": 1, \"78\": 1, \"99\": 1, \"49\": 2, \"94\": 2, \"85\": 1, \"3\": 1, \"11\": 1, \"60\": 1, \"34\": 1, \"72\": 2}, \"50\": {\"50\": 15, \"114\": 1}, \"10\": {\"58\": 3, \"120\": 1, \"70\": 2, \"10\": 6, \"15\": 4, \"125\": 1, \"30\": 1, \"108\": 1, \"6\": 7, \"88\": 1, \"21\": 1, \"24\": 1, \"94\": 2, \"78\": 1}, \"126\": {\"126\": 22, \"18\": 1, \"113\": 3, \"39\": 5, \"123\": 1}, \"109\": {\"69\": 1, \"109\": 21, \"31\": 4, \"118\": 7, \"45\": 1, \"21\": 1, \"122\": 2, \"16\": 1}, \"84\": {\"84\": 26, \"116\": 2, \"16\": 1, \"33\": 1, \"109\": 1, \"102\": 6, \"21\": 1}, \"99\": {\"99\": 33, \"45\": 3, \"122\": 2, \"33\": 1, \"21\": 1}, \"17\": {\"17\": 19, \"104\": 1}, \"129\": {\"5\": 3, \"129\": 13, \"49\": 2, \"46\": 1, \"100\": 1, \"93\": 1, \"11\": 3, \"20\": 2, \"119\": 2}, \"111\": {\"111\": 27, \"21\": 1, \"12\": 3, \"98\": 3}, \"13\": {\"13\": 12, \"90\": 1, \"125\": 1, \"102\": 1, \"38\": 1}, \"75\": {\"75\": 15, \"25\": 1}, \"65\": {\"65\": 11, \"81\": 1}, \"112\": {\"112\": 16}, \"120\": {\"32\": 2, \"120\": 15, \"115\": 2, \"89\": 1}, \"97\": {\"10\": 2, \"97\": 6, \"94\": 1, \"36\": 5, \"125\": 1, \"24\": 1, \"88\": 1, \"9\": 1, \"27\": 2}, \"123\": {\"123\": 14, \"63\": 2}, \"32\": {\"76\": 1, \"32\": 16, \"96\": 1, \"31\": 1, \"122\": 1, \"14\": 1, \"118\": 2, \"115\": 1}, \"70\": {\"70\": 8, \"129\": 2, \"88\": 4, \"108\": 5, \"60\": 1, \"26\": 1, \"3\": 4, \"42\": 1, \"93\": 1, \"49\": 4, \"23\": 1, \"100\": 1, \"10\": 1, \"90\": 1, \"8\": 1}, \"104\": {\"104\": 14, \"17\": 1, \"82\": 1}, \"121\": {\"121\": 24, \"39\": 1, \"81\": 1, \"2\": 2, \"63\": 1, \"117\": 1, \"18\": 2}, \"113\": {\"63\": 2, \"113\": 29, \"121\": 4, \"39\": 6, \"126\": 1}, \"85\": {\"52\": 2, \"85\": 18, \"98\": 1, \"34\": 1, \"125\": 1, \"21\": 2, \"103\": 2, \"97\": 1}, \"53\": {\"53\": 15, \"52\": 1}, \"23\": {\"37\": 1, \"113\": 2, \"123\": 2, \"3\": 1, \"28\": 1, \"121\": 1, \"126\": 2, \"103\": 1, \"21\": 2, \"63\": 1, \"23\": 1, \"39\": 1}, \"59\": {\"59\": 7, \"125\": 3, \"21\": 1, \"22\": 1}, \"45\": {\"45\": 16}, \"58\": {\"58\": 11, \"68\": 2, \"30\": 1, \"91\": 2}, \"42\": {\"53\": 3, \"129\": 2, \"111\": 2, \"112\": 1, \"108\": 1, \"49\": 3, \"70\": 1, \"42\": 8, \"9\": 1, \"73\": 3, \"5\": 2, \"27\": 1}, \"28\": {\"28\": 16, \"102\": 1, \"50\": 1, \"115\": 1, \"116\": 1}, \"47\": {\"75\": 3, \"27\": 1, \"47\": 3, \"120\": 1, \"77\": 4}, \"11\": {\"108\": 5, \"11\": 30, \"20\": 2, \"79\": 2, \"93\": 3, \"88\": 1, \"83\": 1, \"3\": 1, \"44\": 1}, \"101\": {\"101\": 24, \"0\": 8, \"29\": 2, \"89\": 2, \"105\": 1, \"7\": 1}, \"95\": {\"95\": 28, \"4\": 1, \"127\": 1}, \"86\": {\"86\": 27, \"4\": 1}, \"19\": {\"5\": 4, \"19\": 5, \"124\": 2, \"103\": 1, \"49\": 3, \"108\": 1, \"100\": 2, \"21\": 1, \"128\": 1, \"60\": 1, \"73\": 1, \"72\": 1, \"111\": 1}, \"55\": {\"55\": 16}, \"20\": {\"20\": 10, \"11\": 1, \"108\": 3, \"23\": 2}, \"118\": {\"69\": 3, \"21\": 2, \"118\": 15, \"62\": 4, \"109\": 5, \"16\": 1, \"31\": 2}, \"36\": {\"24\": 7, \"25\": 3, \"36\": 16, \"97\": 5, \"27\": 1, \"21\": 2, \"15\": 1, \"54\": 1, \"9\": 3, \"108\": 1, \"94\": 1, \"10\": 1}, \"21\": {\"21\": 37, \"22\": 1}, \"39\": {\"81\": 3, \"39\": 17, \"121\": 4, \"117\": 4, \"2\": 1, \"113\": 4, \"21\": 2, \"126\": 2, \"78\": 1}, \"29\": {\"29\": 27, \"127\": 4, \"21\": 1}, \"122\": {\"122\": 19, \"109\": 1, \"23\": 1, \"45\": 2, \"43\": 8, \"99\": 5, \"87\": 1, \"33\": 1, \"107\": 1, \"102\": 2, \"39\": 1}, \"68\": {\"68\": 16}, \"114\": {\"21\": 3, \"114\": 23, \"71\": 7, \"3\": 2, \"124\": 1, \"113\": 1, \"1\": 1}, \"12\": {\"59\": 2, \"12\": 24, \"85\": 1, \"125\": 1, \"10\": 1, \"111\": 2, \"68\": 1, \"78\": 1, \"8\": 1}, \"64\": {\"64\": 13, \"21\": 1, \"40\": 2}, \"94\": {\"94\": 15, \"36\": 2, \"54\": 2, \"6\": 1, \"97\": 5, \"125\": 1, \"27\": 1, \"15\": 3, \"21\": 1, \"98\": 1}, \"27\": {\"108\": 2, \"112\": 1, \"49\": 1, \"70\": 4, \"9\": 6, \"27\": 14, \"36\": 1, \"98\": 1}, \"117\": {\"117\": 30, \"18\": 4, \"81\": 1, \"16\": 1}, \"8\": {\"8\": 22, \"100\": 2, \"124\": 2, \"111\": 3, \"34\": 2, \"30\": 1}, \"33\": {\"33\": 36}, \"80\": {\"80\": 12, \"79\": 2, \"23\": 2}, \"35\": {\"35\": 7, \"23\": 1, \"26\": 1, \"61\": 3}, \"54\": {\"54\": 15, \"36\": 1}, \"25\": {\"25\": 11, \"15\": 1}, \"87\": {\"21\": 1, \"105\": 7, \"43\": 2, \"87\": 11, \"115\": 1, \"107\": 3, \"40\": 4, \"122\": 1, \"45\": 1, \"78\": 2, \"60\": 1}, \"74\": {\"74\": 11, \"28\": 1, \"78\": 1, \"66\": 1, \"21\": 1, \"88\": 1}, \"93\": {\"93\": 25, \"3\": 1, \"83\": 1, \"88\": 2, \"108\": 1, \"73\": 3, \"19\": 2, \"70\": 1}, \"40\": {\"40\": 27, \"78\": 1, \"105\": 2, \"107\": 3, \"21\": 1}, \"88\": {\"126\": 2, \"88\": 8, \"108\": 5, \"73\": 1, \"49\": 2, \"46\": 1, \"5\": 1, \"71\": 1, \"60\": 3, \"70\": 1, \"93\": 2, \"27\": 1, \"21\": 2, \"3\": 1, \"23\": 2, \"35\": 1, \"129\": 1, \"78\": 1, \"42\": 1, \"113\": 1}, \"1\": {\"1\": 25, \"72\": 2, \"124\": 2, \"50\": 2, \"114\": 3, \"128\": 1, \"71\": 3, \"10\": 1, \"60\": 1, \"21\": 1, \"25\": 1}, \"66\": {\"66\": 11, \"38\": 1, \"90\": 4}, \"15\": {\"15\": 31, \"8\": 1, \"10\": 3, \"6\": 3, \"30\": 2}, \"78\": {\"78\": 10, \"96\": 1, \"122\": 1, \"128\": 4, \"21\": 5, \"29\": 1, \"43\": 1, \"115\": 1, \"51\": 1, \"93\": 1, \"105\": 2, \"88\": 2, \"87\": 2, \"34\": 1, \"113\": 2, \"14\": 1}, \"73\": {\"73\": 16, \"29\": 2, \"5\": 6}, \"60\": {\"8\": 7, \"29\": 1, \"72\": 1, \"44\": 6, \"100\": 3, \"93\": 1, \"60\": 6, \"116\": 1, \"28\": 1, \"79\": 2, \"50\": 1, \"110\": 1, \"111\": 1}, \"115\": {\"32\": 1, \"96\": 1, \"50\": 1, \"115\": 8, \"120\": 3, \"69\": 1, \"43\": 1}, \"3\": {\"60\": 2, \"129\": 2, \"114\": 7, \"3\": 23, \"46\": 2, \"71\": 1, \"1\": 3, \"19\": 1, \"72\": 1, \"124\": 1, \"83\": 1}, \"38\": {\"13\": 1, \"38\": 14, \"44\": 1}, \"102\": {\"102\": 38, \"84\": 1, \"122\": 1}, \"2\": {\"18\": 3, \"26\": 6, \"73\": 1, \"2\": 5, \"117\": 2, \"3\": 3, \"93\": 2, \"90\": 1, \"108\": 2, \"61\": 2, \"88\": 1}, \"51\": {\"59\": 2, \"6\": 1, \"103\": 1, \"127\": 1, \"125\": 3, \"51\": 2, \"12\": 2, \"70\": 1, \"91\": 1, \"41\": 1, \"21\": 1}, \"89\": {\"89\": 28, \"21\": 1, \"7\": 3}, \"106\": {\"106\": 26, \"129\": 1, \"71\": 1, \"21\": 1, \"12\": 3, \"124\": 1, \"49\": 1}, \"124\": {\"124\": 41, \"60\": 1, \"49\": 2, \"52\": 1, \"1\": 1}, \"9\": {\"9\": 28}, \"22\": {\"22\": 16}, \"79\": {\"79\": 16}, \"6\": {\"15\": 6, \"125\": 6, \"51\": 2, \"6\": 10}, \"34\": {\"34\": 14, \"6\": 2, \"75\": 2, \"120\": 1, \"127\": 2, \"4\": 1, \"7\": 2, \"14\": 2, \"125\": 1, \"29\": 1, \"28\": 1, \"78\": 1, \"105\": 1, \"94\": 1}, \"91\": {\"68\": 1, \"91\": 14, \"103\": 4, \"52\": 2, \"14\": 1, \"124\": 1, \"12\": 1}, \"61\": {\"18\": 1, \"61\": 10, \"35\": 3, \"26\": 2}, \"110\": {\"110\": 17, \"96\": 2, \"21\": 3, \"78\": 1, \"72\": 4, \"43\": 7, \"122\": 2}, \"127\": {\"127\": 30, \"4\": 5, \"29\": 2, \"23\": 1}, \"77\": {\"77\": 12}, \"31\": {\"31\": 12, \"76\": 2, \"109\": 2}, \"30\": {\"30\": 6, \"58\": 1, \"10\": 5, \"8\": 4, \"49\": 2, \"6\": 2, \"15\": 4, \"60\": 1, \"51\": 1, \"34\": 2, \"29\": 1, \"94\": 1}, \"98\": {\"98\": 28, \"36\": 1, \"12\": 1}, \"49\": {\"15\": 4, \"79\": 3, \"103\": 1, \"123\": 1, \"49\": 4, \"8\": 2, \"83\": 1, \"30\": 2, \"81\": 1, \"11\": 7, \"10\": 1, \"80\": 1, \"52\": 1, \"12\": 1, \"111\": 1, \"5\": 1}, \"7\": {\"107\": 1, \"95\": 1, \"7\": 25, \"4\": 3, \"89\": 1, \"34\": 1}, \"92\": {\"69\": 3, \"92\": 22, \"16\": 2, \"109\": 1}, \"46\": {\"69\": 1, \"46\": 13, \"3\": 1, \"124\": 2, \"129\": 2, \"8\": 1}, \"119\": {\"119\": 15, \"97\": 1}, \"103\": {\"68\": 1, \"103\": 15}, \"16\": {\"16\": 29, \"84\": 2, \"109\": 1}, \"62\": {\"62\": 27, \"118\": 5, \"69\": 2, \"76\": 2}, \"56\": {\"56\": 11, \"55\": 1}, \"14\": {\"14\": 32, \"43\": 2, \"32\": 1, \"87\": 1}, \"41\": {\"41\": 8, \"78\": 1, \"111\": 2, \"71\": 2, \"91\": 1, \"34\": 1, \"98\": 1}, \"128\": {\"124\": 6, \"128\": 8, \"43\": 2, \"129\": 1, \"72\": 1, \"46\": 1, \"115\": 1, \"1\": 2, \"33\": 1, \"28\": 1}, \"83\": {\"83\": 17, \"51\": 1, \"5\": 5, \"80\": 2, \"49\": 1}, \"48\": {\"48\": 13, \"44\": 1, \"113\": 1, \"88\": 1}, \"82\": {\"32\": 2, \"82\": 16, \"89\": 2, \"55\": 1, \"76\": 1, \"17\": 2}}, \"Wisig_1\": {\"76\": {\"76\": 12, \"62\": 3, \"120\": 1}, \"55\": {\"55\": 12}, \"89\": {\"89\": 15, \"15\": 1, \"9\": 2, \"86\": 4, \"103\": 3, \"33\": 1, \"46\": 1, \"5\": 1}, \"19\": {\"19\": 18, \"104\": 2, \"84\": 1, \"44\": 4, \"129\": 1, \"64\": 1, \"83\": 1}, \"124\": {\"124\": 35, \"128\": 1, \"70\": 1, \"1\": 2, \"5\": 1, \"83\": 1, \"82\": 1}, \"97\": {\"97\": 8, \"66\": 1, \"27\": 2, \"47\": 2, \"96\": 1, \"15\": 3, \"24\": 2, \"108\": 1}, \"21\": {\"78\": 2, \"21\": 17, \"7\": 1, \"113\": 1, \"124\": 1, \"108\": 1, \"25\": 1, \"60\": 2, \"84\": 4, \"81\": 2, \"18\": 1, \"12\": 1, \"120\": 1, \"90\": 2, \"22\": 1, \"91\": 1, \"70\": 1}, \"45\": {\"82\": 1, \"21\": 1, \"42\": 2, \"11\": 1, \"45\": 1, \"78\": 1, \"1\": 1, \"3\": 2, \"20\": 1, \"129\": 1}, \"6\": {\"98\": 3, \"52\": 4, \"6\": 13, \"51\": 5, \"101\": 1, \"68\": 2, \"91\": 2, \"94\": 1, \"15\": 1}, \"105\": {\"105\": 29, \"40\": 7, \"4\": 2}, \"117\": {\"117\": 35, \"78\": 1, \"39\": 2}, \"37\": {\"37\": 16}, \"11\": {\"11\": 24, \"21\": 2, \"20\": 2, \"33\": 7, \"39\": 1, \"90\": 1, \"23\": 1}, \"88\": {\"36\": 6, \"97\": 2, \"27\": 9, \"88\": 10, \"24\": 6, \"94\": 1}, \"90\": {\"90\": 36}, \"74\": {\"74\": 16}, \"52\": {\"52\": 19, \"112\": 1}, \"92\": {\"92\": 28}, \"128\": {\"72\": 6, \"115\": 2, \"25\": 4, \"29\": 1, \"128\": 5, \"49\": 1, \"119\": 1, \"114\": 1, \"82\": 2, \"83\": 1}, \"59\": {\"59\": 12}, \"98\": {\"98\": 42}, \"82\": {\"82\": 28}, \"32\": {\"56\": 3, \"32\": 26, \"75\": 1, \"41\": 2}, \"94\": {\"6\": 1, \"59\": 1, \"94\": 28, \"71\": 2, \"12\": 2, \"88\": 1, \"15\": 1}, \"125\": {\"125\": 29, \"98\": 1, \"6\": 2, \"46\": 1, \"12\": 3, \"71\": 1, \"53\": 1}, \"78\": {\"50\": 1, \"43\": 2, \"76\": 1, \"122\": 2, \"80\": 1, \"87\": 1, \"78\": 3, \"25\": 1, \"69\": 1, \"90\": 1, \"81\": 1, \"105\": 1}, \"118\": {\"118\": 36, \"113\": 1, \"26\": 1}, \"129\": {\"29\": 3, \"129\": 7, \"128\": 1, \"3\": 3, \"109\": 1, \"124\": 1, \"19\": 2, \"2\": 3, \"42\": 2, \"100\": 2, \"44\": 2, \"94\": 1}, \"91\": {\"68\": 2, \"91\": 21, \"112\": 1, \"6\": 2, \"127\": 2}, \"22\": {\"22\": 12, \"59\": 1, \"81\": 3}, \"15\": {\"15\": 20, \"71\": 1, \"27\": 3, \"49\": 1, \"9\": 1, \"88\": 1, \"21\": 2, \"111\": 1}, \"87\": {\"87\": 17, \"7\": 7, \"34\": 3, \"8\": 5, \"81\": 1, \"93\": 3, \"105\": 2}, \"66\": {\"66\": 16}, \"30\": {\"108\": 1, \"30\": 18, \"127\": 2, \"94\": 1, \"101\": 2, \"71\": 4, \"52\": 4, \"72\": 1, \"107\": 2, \"6\": 1, \"70\": 1, \"83\": 1}, \"46\": {\"45\": 1, \"54\": 1, \"124\": 1, \"12\": 1, \"114\": 2, \"94\": 1, \"115\": 1, \"111\": 1, \"106\": 1, \"53\": 1, \"46\": 1}, \"112\": {\"112\": 16}, \"28\": {\"28\": 16, \"43\": 3, \"34\": 1}, \"123\": {\"123\": 16}, \"12\": {\"12\": 26, \"52\": 1, \"91\": 1, \"59\": 1, \"109\": 1, \"106\": 3, \"53\": 3, \"21\": 2, \"49\": 1, \"98\": 1, \"111\": 1, \"71\": 1}, \"16\": {\"16\": 34, \"95\": 2, \"117\": 1, \"26\": 1}, \"36\": {\"36\": 24, \"88\": 7, \"113\": 1}, \"108\": {\"108\": 12, \"124\": 1, \"109\": 4, \"97\": 2, \"9\": 2, \"44\": 2, \"47\": 2, \"27\": 2, \"70\": 2, \"71\": 1}, \"29\": {\"29\": 26, \"5\": 2}, \"116\": {\"116\": 17, \"65\": 1, \"102\": 8, \"87\": 1, \"33\": 5}, \"72\": {\"72\": 29, \"29\": 1, \"84\": 1, \"42\": 1}, \"26\": {\"118\": 2, \"26\": 32}, \"17\": {\"17\": 10, \"109\": 1, \"77\": 1, \"125\": 1, \"86\": 1, \"107\": 1, \"2\": 1}, \"43\": {\"43\": 14, \"78\": 1, \"81\": 5, \"122\": 6, \"40\": 2, \"8\": 1, \"87\": 3, \"18\": 1, \"4\": 1, \"105\": 4}, \"120\": {\"76\": 2, \"120\": 16, \"67\": 2}, \"68\": {\"68\": 15, \"91\": 1}, \"50\": {\"76\": 2, \"50\": 10, \"85\": 2, \"69\": 2}, \"56\": {\"37\": 1, \"59\": 1, \"121\": 2, \"56\": 8}, \"85\": {\"85\": 29, \"0\": 3}, \"10\": {\"85\": 4, \"10\": 21, \"0\": 2, \"62\": 2, \"92\": 2, \"122\": 3}, \"3\": {\"3\": 23, \"109\": 1}, \"54\": {\"54\": 16}, \"9\": {\"97\": 1, \"89\": 1, \"9\": 27, \"103\": 1, \"27\": 1, \"21\": 1}, \"7\": {\"7\": 31, \"93\": 2, \"84\": 1}, \"115\": {\"115\": 12}, \"96\": {\"96\": 10, \"126\": 5, \"109\": 3, \"69\": 1, \"104\": 1}, \"102\": {\"102\": 29, \"21\": 1}, \"104\": {\"104\": 13, \"109\": 2, \"56\": 1}, \"47\": {\"47\": 12}, \"86\": {\"86\": 28, \"12\": 1, \"83\": 3, \"94\": 1, \"46\": 2, \"98\": 1}, \"103\": {\"103\": 13, \"9\": 3}, \"8\": {\"8\": 34, \"87\": 7, \"21\": 1}, \"14\": {\"14\": 34}, \"39\": {\"39\": 21, \"65\": 1, \"18\": 3, \"95\": 2, \"45\": 1}, \"57\": {\"57\": 9, \"25\": 1, \"48\": 2}, \"63\": {\"63\": 16}, \"106\": {\"106\": 30, \"72\": 1, \"113\": 2, \"83\": 1, \"128\": 1, \"111\": 1}, \"127\": {\"58\": 2, \"127\": 37, \"21\": 1, \"113\": 1, \"91\": 3}, \"51\": {\"91\": 1, \"51\": 13, \"6\": 1, \"68\": 1}, \"27\": {\"27\": 18, \"94\": 4, \"88\": 4, \"97\": 3, \"9\": 3, \"15\": 5, \"108\": 3, \"36\": 1, \"24\": 1}, \"5\": {\"5\": 32, \"128\": 1, \"29\": 1}, \"4\": {\"4\": 31, \"107\": 6, \"93\": 1}, \"58\": {\"58\": 10, \"75\": 2}, \"44\": {\"44\": 36}, \"121\": {\"16\": 2, \"71\": 1, \"121\": 25, \"117\": 2, \"113\": 2}, \"111\": {\"111\": 34, \"71\": 1, \"30\": 1}, \"60\": {\"14\": 5, \"123\": 1, \"63\": 1, \"119\": 1, \"99\": 1, \"60\": 2, \"28\": 2, \"2\": 1, \"34\": 2}, \"53\": {\"53\": 19, \"12\": 1}, \"62\": {\"62\": 42, \"69\": 2}, \"77\": {\"77\": 13, \"4\": 2, \"2\": 1}, \"40\": {\"40\": 32, \"4\": 1, \"105\": 8, \"93\": 1}, \"84\": {\"84\": 32, \"83\": 1, \"8\": 2, \"113\": 1, \"87\": 3, \"14\": 1}, \"73\": {\"73\": 14, \"47\": 1, \"104\": 1, \"127\": 2, \"128\": 2}, \"34\": {\"125\": 2, \"28\": 1, \"14\": 7, \"86\": 6, \"48\": 1, \"35\": 1, \"98\": 3, \"122\": 3, \"34\": 2, \"106\": 1, \"53\": 1, \"43\": 1, \"87\": 2, \"12\": 1}, \"81\": {\"81\": 27, \"78\": 1}, \"67\": {\"67\": 16}, \"70\": {\"44\": 3, \"70\": 12, \"23\": 2, \"5\": 1, \"30\": 1, \"49\": 1, \"83\": 2, \"124\": 1, \"29\": 2, \"109\": 1}, \"113\": {\"113\": 35, \"121\": 3}, \"75\": {\"75\": 14, \"58\": 1, \"32\": 1}, \"13\": {\"13\": 11, \"95\": 2, \"117\": 1, \"26\": 1, \"50\": 1}, \"0\": {\"35\": 3, \"85\": 6, \"0\": 25}, \"114\": {\"114\": 36, \"5\": 2}, \"109\": {\"23\": 2, \"109\": 27, \"96\": 3, \"129\": 1, \"126\": 3, \"70\": 2, \"21\": 3, \"47\": 1, \"108\": 2}, \"23\": {\"110\": 2, \"55\": 1, \"127\": 1, \"100\": 3, \"8\": 1, \"32\": 1, \"75\": 2, \"79\": 1, \"129\": 1, \"34\": 1, \"1\": 1, \"35\": 1, \"58\": 1, \"25\": 1, \"105\": 1, \"21\": 1, \"42\": 1, \"23\": 3}, \"71\": {\"6\": 5, \"71\": 22, \"111\": 3, \"125\": 1, \"91\": 1}, \"110\": {\"110\": 21, \"41\": 1, \"4\": 2, \"127\": 1, \"107\": 1}, \"25\": {\"25\": 14, \"2\": 2}, \"35\": {\"35\": 11, \"41\": 1}, \"126\": {\"109\": 8, \"126\": 26, \"24\": 1, \"97\": 1, \"79\": 1, \"96\": 1}, \"101\": {\"101\": 42, \"30\": 2}, \"42\": {\"25\": 1, \"3\": 2, \"87\": 2, \"42\": 7, \"84\": 3, \"5\": 1, \"8\": 4, \"109\": 3, \"2\": 1, \"100\": 1, \"129\": 1}, \"64\": {\"64\": 16}, \"33\": {\"33\": 36}, \"65\": {\"57\": 2, \"74\": 2, \"65\": 2, \"62\": 1, \"95\": 2, \"13\": 1, \"48\": 1, \"117\": 1}, \"69\": {\"69\": 35, \"102\": 1, \"67\": 1, \"50\": 1}, \"100\": {\"100\": 16}, \"80\": {\"80\": 16}, \"20\": {\"20\": 14, \"76\": 1, \"90\": 1}, \"18\": {\"18\": 34, \"39\": 2}, \"31\": {\"31\": 16}, \"24\": {\"24\": 20, \"88\": 8, \"36\": 7, \"113\": 2, \"108\": 3, \"97\": 1, \"117\": 1}, \"95\": {\"95\": 29, \"117\": 3}, \"119\": {\"119\": 13, \"41\": 1, \"2\": 2}, \"49\": {\"49\": 8, \"91\": 2, \"9\": 3, \"31\": 3, \"52\": 2, \"89\": 1, \"6\": 1}, \"61\": {\"61\": 10, \"37\": 2}, \"48\": {\"48\": 12}, \"38\": {\"38\": 14, \"122\": 2}, \"93\": {\"41\": 1, \"17\": 1, \"34\": 2, \"4\": 8, \"93\": 7, \"107\": 4, \"87\": 5, \"43\": 1, \"8\": 2, \"110\": 1}, \"79\": {\"79\": 12}, \"41\": {\"41\": 14, \"107\": 1, \"4\": 1}, \"83\": {\"23\": 2, \"83\": 17, \"21\": 1, \"34\": 1, \"72\": 1, \"8\": 1, \"129\": 1, \"121\": 1, \"113\": 1}, \"122\": {\"122\": 27, \"80\": 1, \"43\": 7, \"40\": 1, \"105\": 2}, \"1\": {\"1\": 32, \"16\": 1, \"124\": 1}, \"2\": {\"2\": 16, \"18\": 3, \"11\": 4, \"21\": 1, \"100\": 1, \"82\": 2, \"33\": 1, \"99\": 1, \"96\": 1, \"119\": 2}, \"107\": {\"107\": 27, \"4\": 5, \"40\": 1, \"127\": 1}, \"99\": {\"99\": 21, \"2\": 2, \"25\": 1}}, \"Wisig_2\": {\"67\": {\"67\": 15, \"39\": 1}, \"53\": {\"53\": 8, \"73\": 5, \"49\": 1, \"21\": 1, \"24\": 1}, \"7\": {\"95\": 4, \"7\": 38, \"32\": 1, \"86\": 1}, \"90\": {\"90\": 47, \"87\": 1, \"72\": 1, \"116\": 1}, \"30\": {\"32\": 2, \"30\": 26, \"6\": 2, \"4\": 1, \"13\": 1, \"75\": 2, \"127\": 1, \"0\": 2, \"51\": 1, \"68\": 1, \"126\": 1, \"27\": 1, \"34\": 1, \"103\": 2, \"29\": 2, \"12\": 2}, \"12\": {\"34\": 3, \"59\": 1, \"12\": 21, \"128\": 4, \"29\": 1, \"23\": 1, \"111\": 3, \"127\": 2, \"114\": 2, \"21\": 2, \"41\": 1, \"71\": 2, \"8\": 1}, \"16\": {\"16\": 30, \"13\": 1, \"70\": 1, \"96\": 2, \"93\": 3, \"87\": 1, \"118\": 1, \"21\": 2, \"88\": 1, \"2\": 1, \"122\": 1, \"39\": 1, \"69\": 1}, \"71\": {\"71\": 33, \"114\": 4, \"21\": 2, \"12\": 1, \"1\": 1, \"5\": 3, \"88\": 1, \"39\": 1}, \"96\": {\"16\": 2, \"96\": 17, \"93\": 1}, \"95\": {\"95\": 30, \"104\": 1, \"86\": 1, \"105\": 2}, \"27\": {\"27\": 22, \"20\": 2, \"36\": 19, \"21\": 3, \"24\": 4, \"11\": 3, \"126\": 1}, \"86\": {\"86\": 30, \"4\": 1, \"107\": 1}, \"32\": {\"22\": 2, \"70\": 2, \"32\": 9, \"45\": 1, \"10\": 4, \"7\": 2, \"123\": 3, \"74\": 1, \"104\": 1, \"105\": 4, \"8\": 1, \"110\": 2, \"14\": 2, \"30\": 2}, \"42\": {\"42\": 12, \"112\": 2, \"108\": 2, \"53\": 1, \"126\": 8, \"49\": 1, \"46\": 2}, \"14\": {\"14\": 15, \"21\": 4, \"126\": 1, \"60\": 2, \"11\": 1, \"43\": 6, \"38\": 4, \"110\": 4, \"2\": 1}, \"74\": {\"74\": 16}, \"97\": {\"97\": 14, \"58\": 1, \"77\": 2, \"52\": 1, \"6\": 1, \"15\": 1}, \"69\": {\"69\": 34, \"109\": 1, \"102\": 4, \"82\": 1, \"81\": 2, \"26\": 1, \"39\": 2, \"31\": 1, \"89\": 1, \"21\": 1}, \"25\": {\"25\": 14, \"59\": 1, \"15\": 1}, \"48\": {\"48\": 16, \"87\": 1, \"26\": 1, \"57\": 2}, \"73\": {\"53\": 2, \"5\": 1, \"73\": 21, \"129\": 3, \"124\": 1}, \"119\": {\"119\": 20}, \"51\": {\"97\": 1, \"58\": 2, \"34\": 1, \"21\": 1, \"51\": 7, \"111\": 1, \"30\": 2, \"41\": 2, \"75\": 1, \"121\": 1, \"77\": 1}, \"52\": {\"97\": 2, \"52\": 13, \"29\": 1, \"59\": 1, \"8\": 1, \"77\": 2}, \"35\": {\"35\": 12}, \"120\": {\"120\": 20}, \"8\": {\"124\": 5, \"109\": 1, \"122\": 5, \"8\": 29, \"23\": 1, \"110\": 1, \"19\": 1, \"32\": 1, \"94\": 1, \"30\": 1}, \"61\": {\"61\": 16, \"40\": 2, \"105\": 1, \"21\": 1}, \"59\": {\"59\": 6, \"8\": 1, \"21\": 2, \"128\": 3, \"91\": 1, \"12\": 1, \"41\": 2}, \"115\": {\"115\": 8, \"16\": 1, \"24\": 1, \"88\": 2}, \"127\": {\"127\": 32, \"111\": 2}, \"31\": {\"31\": 20}, \"33\": {\"33\": 42}, \"124\": {\"8\": 1, \"124\": 31, \"3\": 1, \"114\": 1, \"71\": 1, \"21\": 1, \"73\": 1, \"11\": 1}, \"58\": {\"58\": 18, \"6\": 1, \"97\": 1}, \"89\": {\"89\": 32, \"92\": 2, \"118\": 2}, \"62\": {\"62\": 32, \"16\": 1, \"22\": 1, \"21\": 1, \"32\": 2, \"88\": 1}, \"91\": {\"91\": 10, \"127\": 2, \"34\": 1, \"29\": 4, \"4\": 4, \"54\": 3, \"17\": 1, \"109\": 1, \"58\": 1, \"125\": 1}, \"104\": {\"104\": 13, \"42\": 1, \"53\": 1, \"7\": 2, \"126\": 1, \"105\": 2}, \"64\": {\"64\": 16}, \"63\": {\"63\": 20}, \"5\": {\"5\": 36, \"49\": 1, \"73\": 2, \"71\": 1, \"21\": 3, \"129\": 1}, \"92\": {\"92\": 22, \"67\": 2, \"76\": 1, \"89\": 1, \"64\": 2}, \"2\": {\"2\": 12, \"96\": 3, \"93\": 4, \"18\": 2, \"23\": 3, \"87\": 1, \"20\": 2, \"100\": 2, \"57\": 1, \"16\": 1, \"121\": 1}, \"109\": {\"87\": 2, \"90\": 6, \"88\": 1, \"78\": 4, \"84\": 1, \"118\": 4, \"109\": 18, \"82\": 2, \"39\": 2, \"69\": 2, \"45\": 1, \"31\": 1, \"21\": 1, \"102\": 1}, \"118\": {\"118\": 28, \"62\": 3, \"55\": 1, \"80\": 1, \"126\": 1, \"92\": 1, \"84\": 1, \"89\": 1, \"109\": 4, \"21\": 2, \"76\": 1, \"31\": 2, \"78\": 1, \"69\": 1}, \"34\": {\"34\": 13, \"91\": 3, \"14\": 1, \"86\": 3, \"111\": 4, \"110\": 1, \"127\": 3, \"29\": 1, \"32\": 1, \"107\": 2}, \"55\": {\"62\": 2, \"55\": 14}, \"11\": {\"73\": 1, \"11\": 27, \"98\": 6, \"108\": 2, \"124\": 1, \"24\": 1, \"126\": 1, \"94\": 1, \"49\": 3, \"129\": 1, \"117\": 1, \"42\": 1}, \"70\": {\"33\": 2, \"87\": 2, \"70\": 19, \"88\": 4, \"53\": 1, \"43\": 8, \"110\": 3, \"122\": 1, \"60\": 1, \"69\": 1, \"78\": 3, \"38\": 1, \"39\": 1, \"14\": 3, \"109\": 1, \"3\": 1, \"1\": 1, \"45\": 1}, \"98\": {\"98\": 46, \"129\": 1, \"12\": 1, \"11\": 1, \"34\": 1}, \"20\": {\"20\": 16}, \"49\": {\"51\": 1, \"87\": 1, \"49\": 3, \"77\": 1, \"129\": 3, \"98\": 1, \"52\": 2, \"128\": 2, \"94\": 1, \"85\": 1, \"11\": 4, \"108\": 1, \"73\": 1, \"124\": 1, \"12\": 1}, \"28\": {\"28\": 18, \"37\": 2}, \"22\": {\"22\": 20}, \"87\": {\"96\": 3, \"33\": 12, \"88\": 4, \"87\": 14, \"21\": 3, \"109\": 1, \"1\": 3, \"69\": 1, \"70\": 3, \"93\": 1, \"92\": 1, \"43\": 1, \"83\": 1}, \"45\": {\"45\": 13, \"82\": 1, \"84\": 1, \"43\": 1}, \"57\": {\"57\": 18, \"39\": 2}, \"72\": {\"72\": 15, \"13\": 3, \"109\": 3, \"102\": 3, \"69\": 2, \"87\": 1, \"39\": 1}, \"77\": {\"77\": 13, \"111\": 2, \"88\": 1}, \"113\": {\"113\": 31, \"117\": 5, \"69\": 2}, \"6\": {\"34\": 3, \"51\": 3, \"6\": 16, \"30\": 2, \"75\": 4, \"101\": 1, \"97\": 1, \"125\": 1, \"15\": 1}, \"26\": {\"26\": 38, \"81\": 1, \"18\": 6, \"2\": 4, \"57\": 1, \"109\": 1, \"21\": 1, \"65\": 2}, \"44\": {\"44\": 36, \"119\": 1, \"83\": 1, \"21\": 2, \"126\": 2}, \"46\": {\"46\": 15, \"21\": 1}, \"65\": {\"65\": 18, \"39\": 1, \"21\": 1}, \"84\": {\"84\": 35, \"82\": 4, \"33\": 1, \"102\": 1, \"23\": 1, \"116\": 1, \"21\": 1}, \"39\": {\"109\": 4, \"69\": 5, \"102\": 4, \"24\": 1, \"39\": 15, \"85\": 1, \"26\": 1, \"118\": 2, \"82\": 1, \"78\": 1, \"88\": 1, \"21\": 1, \"117\": 2, \"72\": 1}, \"82\": {\"82\": 33, \"118\": 2, \"21\": 1}, \"108\": {\"112\": 2, \"108\": 27, \"53\": 1, \"24\": 2, \"11\": 1, \"42\": 1}, \"21\": {\"21\": 41, \"118\": 1, \"117\": 1, \"44\": 1, \"39\": 2}, \"29\": {\"77\": 4, \"29\": 23, \"79\": 1, \"111\": 1, \"30\": 2, \"91\": 1}, \"13\": {\"72\": 5, \"13\": 9, \"96\": 1, \"88\": 1}, \"17\": {\"17\": 7, \"21\": 2, \"16\": 1, \"86\": 2, \"56\": 2, \"4\": 1, \"7\": 1}, \"88\": {\"88\": 10, \"100\": 2, \"84\": 1, \"93\": 4, \"5\": 1, \"21\": 3, \"87\": 4, \"83\": 1, \"16\": 2, \"44\": 2, \"14\": 1, \"70\": 1, \"46\": 1, \"39\": 1, \"90\": 1, \"20\": 1, \"116\": 1, \"45\": 1, \"109\": 1, \"121\": 1}, \"1\": {\"1\": 31, \"128\": 2, \"117\": 1, \"21\": 1, \"85\": 3}, \"112\": {\"49\": 1, \"112\": 6, \"42\": 2, \"3\": 1, \"71\": 1, \"52\": 1, \"129\": 2, \"108\": 2}, \"24\": {\"24\": 15, \"25\": 1, \"106\": 2, \"42\": 2, \"59\": 1, \"36\": 4, \"94\": 6, \"126\": 2, \"21\": 1, \"0\": 1, \"14\": 1, \"52\": 1, \"27\": 2, \"108\": 2, \"98\": 1}, \"102\": {\"102\": 45, \"82\": 1, \"84\": 1, \"13\": 1}, \"66\": {\"66\": 13, \"76\": 2, \"40\": 1, \"85\": 1, \"88\": 1, \"62\": 1, \"105\": 1}, \"114\": {\"114\": 37, \"71\": 5, \"126\": 1, \"124\": 1}, \"40\": {\"95\": 4, \"40\": 34, \"66\": 1, \"85\": 1, \"27\": 1, \"105\": 1, \"56\": 2}, \"4\": {\"4\": 45, \"21\": 1, \"86\": 1, \"107\": 1, \"91\": 1, \"127\": 1}, \"100\": {\"100\": 12, \"35\": 1, \"103\": 1, \"83\": 2}, \"129\": {\"129\": 21, \"49\": 1, \"112\": 1, \"47\": 1, \"11\": 2, \"19\": 2, \"85\": 2, \"83\": 1, \"73\": 1}, \"19\": {\"70\": 2, \"129\": 4, \"19\": 13, \"47\": 1, \"73\": 1, \"124\": 1, \"110\": 3, \"8\": 1, \"122\": 1, \"3\": 1}, \"81\": {\"81\": 17, \"29\": 1, \"18\": 2, \"15\": 1, \"72\": 2, \"107\": 1}, \"125\": {\"98\": 2, \"72\": 1, \"125\": 28, \"106\": 4, \"94\": 2, \"34\": 1}, \"93\": {\"93\": 38, \"13\": 2, \"100\": 1, \"16\": 3, \"87\": 2, \"23\": 1, \"70\": 1, \"88\": 1, \"1\": 1, \"126\": 1, \"44\": 1}, \"101\": {\"101\": 37, \"0\": 5, \"30\": 1, \"39\": 1}, \"3\": {\"3\": 36, \"73\": 1, \"19\": 2, \"8\": 2, \"21\": 1}, \"56\": {\"56\": 12}, \"126\": {\"126\": 28, \"100\": 1, \"93\": 2, \"44\": 7, \"87\": 1, \"71\": 1, \"83\": 1, \"88\": 1, \"49\": 1, \"42\": 1}, \"38\": {\"38\": 16}, \"105\": {\"105\": 40, \"10\": 1, \"21\": 2, \"70\": 1, \"32\": 2}, \"41\": {\"77\": 2, \"41\": 15, \"29\": 1, \"56\": 1, \"59\": 1}, \"106\": {\"106\": 34, \"49\": 1, \"36\": 1, \"114\": 1, \"94\": 3, \"21\": 1, \"125\": 1, \"97\": 1, \"98\": 1}, \"76\": {\"76\": 12, \"62\": 1, \"92\": 2, \"55\": 1}, \"36\": {\"36\": 30, \"25\": 3, \"21\": 4, \"27\": 10, \"24\": 6, \"94\": 2, \"70\": 1}, \"78\": {\"86\": 3, \"115\": 1, \"121\": 1, \"78\": 7, \"109\": 1, \"32\": 2, \"107\": 5, \"70\": 4, \"39\": 1, \"69\": 1, \"14\": 2, \"38\": 1, \"4\": 1, \"88\": 2, \"62\": 1, \"40\": 2, \"110\": 1}, \"99\": {\"99\": 30, \"69\": 1, \"21\": 1}, \"0\": {\"0\": 24, \"29\": 1, \"101\": 9}, \"107\": {\"107\": 30, \"4\": 4, \"21\": 1, \"78\": 1}, \"111\": {\"111\": 38, \"41\": 2}, \"68\": {\"68\": 13, \"88\": 1, \"30\": 2}, \"60\": {\"96\": 1, \"60\": 5, \"23\": 3, \"14\": 2, \"8\": 2, \"32\": 2, \"116\": 2, \"110\": 3, \"87\": 3, \"93\": 1, \"123\": 1, \"48\": 1, \"45\": 1, \"33\": 1}, \"15\": {\"24\": 2, \"6\": 2, \"15\": 28, \"97\": 1, \"9\": 2, \"111\": 1, \"21\": 2, \"98\": 1, \"51\": 2, \"94\": 1}, \"50\": {\"21\": 2, \"50\": 14}, \"79\": {\"79\": 16}, \"94\": {\"24\": 3, \"94\": 17, \"15\": 7, \"69\": 1, \"21\": 4, \"82\": 1, \"108\": 1, \"126\": 1, \"98\": 2, \"36\": 1}, \"128\": {\"128\": 3, \"52\": 1, \"101\": 6, \"85\": 4, \"71\": 1, \"97\": 3, \"114\": 2, \"5\": 1, \"0\": 1, \"30\": 1, \"73\": 1}, \"103\": {\"103\": 13, \"29\": 1, \"68\": 1, \"30\": 1}, \"47\": {\"47\": 7, \"3\": 1, \"128\": 1, \"59\": 1, \"73\": 2}, \"37\": {\"37\": 16}, \"85\": {\"3\": 2, \"85\": 23, \"73\": 2, \"47\": 1, \"118\": 1, \"21\": 1, \"124\": 1, \"117\": 1}, \"121\": {\"120\": 1, \"18\": 2, \"121\": 25, \"65\": 3, \"113\": 1, \"2\": 1, \"26\": 1, \"117\": 2}, \"54\": {\"54\": 18, \"56\": 1, \"4\": 1}, \"18\": {\"18\": 35, \"82\": 1, \"120\": 1, \"117\": 2, \"2\": 2, \"39\": 1}, \"116\": {\"116\": 16, \"82\": 1, \"33\": 1, \"90\": 5, \"21\": 1, \"102\": 3, \"87\": 1}, \"122\": {\"123\": 1, \"122\": 11, \"110\": 5, \"29\": 4, \"12\": 2, \"8\": 9, \"3\": 2, \"70\": 1, \"127\": 1, \"17\": 1, \"19\": 1, \"129\": 1, \"30\": 1, \"21\": 1, \"60\": 1}, \"117\": {\"117\": 38, \"2\": 1, \"121\": 3, \"65\": 1, \"113\": 1}, \"10\": {\"10\": 22, \"21\": 1, \"50\": 2, \"22\": 3, \"78\": 2, \"118\": 2, \"62\": 1, \"55\": 1, \"7\": 1, \"32\": 5}, \"123\": {\"123\": 16}, \"43\": {\"43\": 17, \"122\": 1, \"70\": 3, \"14\": 1, \"60\": 1, \"38\": 2, \"21\": 1, \"91\": 1, \"78\": 3, \"107\": 2, \"25\": 1, \"80\": 1, \"84\": 3, \"31\": 1, \"115\": 1, \"116\": 1, \"90\": 1, \"109\": 1}, \"83\": {\"83\": 31, \"43\": 1, \"44\": 2, \"102\": 1, \"93\": 2, \"1\": 1, \"100\": 2}, \"23\": {\"29\": 5, \"65\": 1, \"99\": 7, \"113\": 7, \"124\": 2, \"122\": 1, \"8\": 5, \"127\": 1, \"57\": 1, \"117\": 1, \"71\": 1, \"32\": 1, \"110\": 1, \"23\": 3, \"109\": 1}, \"80\": {\"80\": 16}, \"110\": {\"110\": 22, \"8\": 4, \"109\": 1, \"30\": 1, \"27\": 1, \"43\": 1, \"122\": 2, \"68\": 1, \"9\": 1}, \"75\": {\"75\": 16}, \"9\": {\"9\": 29, \"15\": 2, \"2\": 1}}, \"Wisig_3\": {\"96\": {\"96\": 20}, \"11\": {\"11\": 27, \"1\": 1, \"44\": 2, \"80\": 1, \"29\": 4, \"43\": 5, \"90\": 3, \"33\": 2, \"60\": 2, \"16\": 1}, \"87\": {\"107\": 5, \"87\": 23, \"82\": 3, \"84\": 2, \"116\": 1, \"14\": 1, \"115\": 1}, \"128\": {\"128\": 16, \"82\": 1, \"19\": 1, \"87\": 2, \"127\": 3, \"3\": 1, \"107\": 3, \"30\": 2, \"77\": 2, \"101\": 1}, \"56\": {\"56\": 11, \"34\": 1}, \"39\": {\"64\": 1, \"39\": 24, \"117\": 8, \"113\": 6, \"126\": 3, \"26\": 1, \"63\": 1}, \"58\": {\"58\": 13, \"51\": 2, \"111\": 1}, \"15\": {\"15\": 26, \"59\": 1, \"94\": 3, \"124\": 1, \"125\": 1, \"111\": 3, \"30\": 1, \"97\": 1, \"12\": 1}, \"70\": {\"85\": 3, \"70\": 8, \"88\": 3, \"19\": 4, \"11\": 2, \"16\": 1, \"124\": 3, \"110\": 2, \"15\": 2, \"21\": 2, \"60\": 1, \"93\": 1, \"8\": 4, \"45\": 1, \"78\": 1}, \"103\": {\"128\": 2, \"103\": 13, \"120\": 1}, \"77\": {\"77\": 16}, \"85\": {\"85\": 29, \"8\": 1, \"70\": 2}, \"59\": {\"59\": 11, \"124\": 1}, \"28\": {\"28\": 13, \"128\": 1, \"1\": 1, \"21\": 1}, \"118\": {\"84\": 2, \"118\": 32, \"13\": 3, \"109\": 1, \"69\": 1, \"89\": 1}, \"25\": {\"25\": 16}, \"93\": {\"70\": 1, \"93\": 38, \"90\": 1, \"11\": 1, \"16\": 1}, \"102\": {\"102\": 36}, \"33\": {\"33\": 41, \"21\": 1}, \"84\": {\"45\": 3, \"84\": 27, \"82\": 2, \"21\": 1, \"81\": 1}, \"119\": {\"119\": 13, \"94\": 1, \"79\": 2}, \"64\": {\"64\": 20}, \"100\": {\"100\": 16}, \"27\": {\"27\": 16, \"83\": 4, \"112\": 2, \"54\": 1, \"24\": 5, \"36\": 7, \"49\": 1}, \"107\": {\"107\": 33, \"90\": 1}, \"76\": {\"76\": 13, \"62\": 2, \"21\": 1}, \"12\": {\"12\": 36, \"3\": 2, \"47\": 1, \"124\": 3, \"98\": 3, \"30\": 2, \"112\": 1}, \"31\": {\"87\": 1, \"31\": 15, \"29\": 3, \"70\": 1}, \"44\": {\"44\": 36, \"29\": 2, \"11\": 1, \"92\": 1, \"60\": 2}, \"48\": {\"7\": 2, \"65\": 2, \"26\": 1, \"10\": 1, \"79\": 2, \"44\": 1, \"33\": 2, \"95\": 1, \"105\": 2, \"116\": 1, \"43\": 1}, \"115\": {\"115\": 13, \"30\": 1, \"86\": 1, \"84\": 1}, \"0\": {\"0\": 31, \"101\": 6, \"58\": 2, \"10\": 1}, \"116\": {\"102\": 1, \"116\": 14, \"82\": 4, \"33\": 1, \"92\": 4, \"90\": 1, \"11\": 1}, \"24\": {\"30\": 1, \"24\": 17, \"36\": 8, \"97\": 1, \"27\": 5, \"108\": 2, \"42\": 1, \"112\": 2, \"88\": 1, \"25\": 2}, \"81\": {\"81\": 29, \"18\": 3}, \"122\": {\"122\": 19, \"28\": 1, \"110\": 2, \"107\": 5, \"14\": 4, \"128\": 1, \"3\": 2, \"100\": 1, \"21\": 2, \"8\": 1}, \"19\": {\"19\": 14, \"77\": 1, \"129\": 6, \"110\": 4, \"124\": 2, \"30\": 1, \"5\": 1, \"103\": 1, \"98\": 1, \"3\": 1}, \"90\": {\"90\": 36}, \"22\": {\"22\": 16}, \"16\": {\"16\": 31, \"93\": 1, \"90\": 2, \"11\": 3, \"88\": 1}, \"68\": {\"68\": 15, \"58\": 1}, \"18\": {\"18\": 42, \"117\": 1, \"81\": 1, \"121\": 5, \"39\": 1}, \"120\": {\"120\": 19, \"13\": 1}, \"127\": {\"127\": 41, \"126\": 1, \"21\": 2}, \"35\": {\"35\": 11, \"9\": 1}, \"45\": {\"45\": 8, \"84\": 4, \"82\": 3, \"21\": 1}, \"30\": {\"77\": 3, \"30\": 17, \"8\": 3, \"12\": 1, \"70\": 2, \"97\": 2, \"24\": 1, \"94\": 2, \"110\": 2, \"15\": 1, \"33\": 1, \"23\": 2, \"19\": 1, \"21\": 1, \"98\": 1}, \"67\": {\"67\": 13, \"121\": 1, \"119\": 1, \"97\": 1}, \"129\": {\"19\": 5, \"31\": 1, \"29\": 4, \"129\": 17, \"44\": 1, \"20\": 3, \"1\": 1}, \"105\": {\"105\": 42}, \"74\": {\"74\": 12, \"57\": 2, \"55\": 1, \"118\": 1}, \"125\": {\"59\": 2, \"125\": 28, \"98\": 1, \"34\": 1, \"12\": 1, \"106\": 1}, \"37\": {\"37\": 12, \"7\": 2, \"35\": 1, \"10\": 1}, \"91\": {\"127\": 6, \"98\": 3, \"91\": 10, \"72\": 1, \"111\": 1, \"99\": 1, \"77\": 1, \"12\": 1}, \"123\": {\"123\": 16}, \"7\": {\"7\": 32}, \"75\": {\"75\": 15, \"6\": 1}, \"83\": {\"83\": 20, \"112\": 1, \"24\": 3}, \"94\": {\"94\": 28, \"8\": 2, \"59\": 2, \"97\": 1, \"98\": 1, \"30\": 1, \"96\": 1}, \"104\": {\"104\": 16}, \"92\": {\"92\": 29, \"33\": 1, \"43\": 1, \"126\": 1}, \"29\": {\"29\": 23, \"44\": 6, \"31\": 3}, \"82\": {\"82\": 26, \"87\": 1, \"84\": 1}, \"113\": {\"113\": 22, \"2\": 3, \"39\": 7, \"18\": 1, \"125\": 1, \"117\": 8, \"21\": 1, \"114\": 1}, \"6\": {\"6\": 15, \"34\": 1, \"51\": 3, \"101\": 6, \"72\": 1, \"0\": 3, \"15\": 2, \"75\": 1}, \"32\": {\"22\": 2, \"84\": 4, \"14\": 6, \"50\": 4, \"32\": 8, \"122\": 1, \"9\": 1, \"10\": 1, \"37\": 1, \"45\": 2, \"55\": 1, \"87\": 1}, \"79\": {\"79\": 12}, \"36\": {\"24\": 8, \"36\": 14, \"83\": 3, \"27\": 8, \"114\": 1}, \"98\": {\"98\": 34, \"111\": 1, \"72\": 1}, \"1\": {\"1\": 27, \"114\": 3, \"26\": 1, \"5\": 1, \"44\": 1, \"21\": 1}, \"14\": {\"14\": 40, \"34\": 1, \"32\": 1}, \"66\": {\"66\": 16}, \"117\": {\"117\": 34, \"39\": 2}, \"17\": {\"17\": 4, \"21\": 2, \"79\": 1, \"89\": 2, \"9\": 2, \"67\": 1, \"104\": 1, \"126\": 1, \"80\": 1, \"117\": 1}, \"49\": {\"88\": 2, \"49\": 6, \"42\": 3, \"53\": 6, \"30\": 1, \"8\": 1, \"124\": 1, \"111\": 1, \"108\": 2, \"73\": 1}, \"46\": {\"46\": 16}, \"111\": {\"111\": 34}, \"78\": {\"17\": 1, \"66\": 1, \"45\": 1, \"39\": 1, \"40\": 4, \"115\": 1, \"128\": 1, \"21\": 3, \"11\": 1, \"43\": 1, \"107\": 1}, \"26\": {\"26\": 39, \"18\": 2, \"21\": 1}, \"42\": {\"42\": 18, \"49\": 3, \"73\": 2, \"108\": 2, \"85\": 1, \"88\": 2}, \"10\": {\"10\": 30, \"35\": 1, \"50\": 1, \"22\": 1, \"32\": 4, \"9\": 2, \"48\": 1, \"37\": 3, \"66\": 2, \"7\": 1}, \"9\": {\"9\": 28, \"33\": 2}, \"55\": {\"55\": 16}, \"38\": {\"38\": 15, \"55\": 1}, \"63\": {\"63\": 12, \"39\": 1, \"123\": 1, \"2\": 2}, \"106\": {\"106\": 34, \"73\": 4, \"95\": 1, \"98\": 1}, \"88\": {\"17\": 2, \"70\": 1, \"16\": 1, \"21\": 7, \"88\": 6, \"42\": 2, \"108\": 7, \"93\": 2, \"8\": 1, \"53\": 4, \"101\": 2, \"85\": 1}, \"3\": {\"3\": 35, \"5\": 3, \"46\": 1, \"12\": 1}, \"99\": {\"86\": 1, \"105\": 4, \"99\": 28, \"32\": 1, \"10\": 1, \"127\": 1}, \"57\": {\"57\": 20}, \"8\": {\"15\": 2, \"8\": 21, \"129\": 1, \"110\": 1, \"85\": 2, \"124\": 9, \"70\": 2, \"97\": 1, \"46\": 1, \"73\": 1, \"11\": 1}, \"86\": {\"86\": 19, \"4\": 5, \"56\": 1, \"41\": 1, \"101\": 1, \"34\": 1}, \"126\": {\"126\": 36, \"81\": 4, \"63\": 2, \"121\": 1, \"18\": 1}, \"5\": {\"5\": 35, \"93\": 1}, \"62\": {\"62\": 41, \"109\": 1}, \"89\": {\"89\": 26, \"76\": 1, \"69\": 1}, \"112\": {\"42\": 2, \"112\": 10, \"75\": 1, \"43\": 1, \"108\": 2}, \"61\": {\"61\": 16}, \"13\": {\"102\": 4, \"26\": 2, \"13\": 7, \"101\": 1, \"118\": 1, \"93\": 1}, \"2\": {\"96\": 3, \"2\": 2, \"20\": 1, \"26\": 4, \"64\": 6, \"121\": 2, \"93\": 6, \"18\": 3, \"61\": 1}, \"50\": {\"50\": 16}, \"21\": {\"21\": 34, \"126\": 2, \"125\": 1, \"39\": 1, \"94\": 2, \"90\": 1, \"25\": 1, \"16\": 1, \"78\": 1}, \"73\": {\"73\": 37, \"97\": 1}, \"72\": {\"72\": 27, \"91\": 1}, \"43\": {\"33\": 11, \"43\": 13, \"11\": 2, \"117\": 2, \"21\": 1, \"113\": 4, \"93\": 1, \"84\": 1, \"116\": 2, \"102\": 2, \"78\": 1}, \"110\": {\"129\": 6, \"110\": 19, \"1\": 3, \"19\": 5, \"70\": 2, \"60\": 1, \"21\": 1, \"90\": 1, \"114\": 2}, \"95\": {\"95\": 30}, \"34\": {\"122\": 4, \"14\": 5, \"75\": 4, \"34\": 3, \"45\": 1, \"32\": 4, \"41\": 2, \"6\": 6, \"115\": 1, \"84\": 1, \"72\": 1}, \"41\": {\"41\": 11, \"120\": 1, \"56\": 1, \"86\": 1, \"4\": 1, \"99\": 1}, \"124\": {\"124\": 36, \"8\": 3, \"5\": 1, \"116\": 1, \"12\": 1}, \"114\": {\"114\": 36, \"71\": 3, \"21\": 1, \"19\": 1, \"70\": 1}, \"65\": {\"65\": 10, \"32\": 1, \"9\": 1}, \"121\": {\"121\": 20, \"26\": 1, \"39\": 3, \"109\": 2, \"18\": 6}, \"71\": {\"71\": 32, \"3\": 4, \"124\": 1, \"46\": 1, \"5\": 2}, \"53\": {\"53\": 19, \"49\": 1}, \"52\": {\"52\": 16}, \"40\": {\"40\": 32}, \"80\": {\"96\": 2, \"80\": 9, \"18\": 2, \"119\": 1, \"69\": 1, \"84\": 1}, \"109\": {\"109\": 28, \"118\": 2, \"62\": 3, \"76\": 2, \"69\": 1}, \"97\": {\"97\": 10, \"108\": 1, \"47\": 2, \"27\": 1, \"42\": 1, \"124\": 1, \"112\": 1, \"15\": 1, \"85\": 1, \"3\": 1}, \"20\": {\"20\": 12, \"80\": 2, \"129\": 1, \"53\": 1}, \"101\": {\"68\": 1, \"78\": 1, \"101\": 19, \"16\": 1, \"0\": 10, \"58\": 5, \"51\": 2, \"111\": 1, \"127\": 1, \"21\": 1}, \"23\": {\"3\": 3, \"110\": 2, \"67\": 2, \"23\": 3, \"81\": 2, \"19\": 1, \"126\": 5, \"39\": 2, \"113\": 3, \"127\": 1, \"123\": 1, \"124\": 3}, \"4\": {\"4\": 32, \"105\": 4, \"86\": 2}, \"54\": {\"54\": 14, \"21\": 1, \"75\": 1}, \"108\": {\"108\": 12, \"112\": 1, \"97\": 1, \"88\": 3, \"42\": 4, \"85\": 3, \"73\": 1, \"53\": 1, \"20\": 1, \"70\": 2, \"49\": 1, \"30\": 1, \"15\": 1}, \"69\": {\"69\": 31, \"118\": 2, \"88\": 1}, \"47\": {\"47\": 12}, \"51\": {\"51\": 11, \"58\": 1, \"101\": 1, \"68\": 2, \"6\": 1}, \"60\": {\"19\": 3, \"70\": 2, \"60\": 6, \"110\": 4, \"44\": 2, \"28\": 2, \"79\": 1, \"29\": 1, \"23\": 1, \"90\": 1, \"128\": 1, \"124\": 2}}}, \"per_domain_accuracy\": {\"CORES_5\": {\"accuracy\": 0.996551724137931, \"source?\": true}, \"CORES_1\": {\"accuracy\": 1.0, \"source?\": true}, \"CORES_3\": {\"accuracy\": 0.9967672413793104, \"source?\": true}, \"CORES_4\": {\"accuracy\": 0.9967672413793104, \"source?\": true}, \"CORES_2\": {\"accuracy\": 0.9982758620689656, \"source?\": true}, \"Wisig_4\": {\"accuracy\": 0.6649054505005562, \"source?\": false}, \"Wisig_1\": {\"accuracy\": 0.7468390804597701, \"source?\": false}, \"Wisig_2\": {\"accuracy\": 0.6891625615763547, \"source?\": false}, \"Wisig_3\": {\"accuracy\": 0.7316810344827587, \"source?\": false}}}, \"history\": {\"epoch_indices\": [1, 2, 3], \"train_label_loss\": [0.30942075488892545, 0.014120920238873133, 0.012051947831076389], \"source_val_label_loss\": [0.022019747644662857, 0.010411153547465801, 0.015255369246006012], \"target_val_label_loss\": [1.8592438697814941, 2.5944643020629883, 3.63132643699646], \"source_val_acc_label\": [0.9978448275862069, 0.9983836206896551, 0.9971264367816092], \"target_val_acc_label\": [0.7074353448275862, 0.7008351293103449, 0.6926185344827587]}, \"dataset_metrics\": {\"source\": {\"train\": {\"n_unique_x\": 75765, \"n_unique_y\": 58, \"n_batch/episode\": 351}, \"val\": {\"n_unique_x\": 11798, \"n_unique_y\": 58, \"n_batch/episode\": 48}, \"test\": {\"n_unique_x\": 12331, \"n_unique_y\": 58, \"n_batch/episode\": 50}}, \"target\": {\"train\": {\"n_unique_x\": 142512, \"n_unique_y\": 130, \"n_batch/episode\": 924}, \"val\": {\"n_unique_x\": 26024, \"n_unique_y\": 130, \"n_batch/episode\": 128}, \"test\": {\"n_unique_x\": 26933, \"n_unique_y\": 130, \"n_batch/episode\": 133}}}}'"
      ]
     },
     "execution_count": 29,
     "metadata": {},
     "output_type": "execute_result"
    }
   ],
   "source": [
    "json.dumps(experiment)"
   ]
  }
 ],
 "metadata": {
  "celltoolbar": "Tags",
  "kernelspec": {
   "display_name": "Python 3 (ipykernel)",
   "language": "python",
   "name": "python3"
  },
  "language_info": {
   "codemirror_mode": {
    "name": "ipython",
    "version": 3
   },
   "file_extension": ".py",
   "mimetype": "text/x-python",
   "name": "python",
   "nbconvert_exporter": "python",
   "pygments_lexer": "ipython3",
   "version": "3.8.12"
  },
  "papermill": {
   "default_parameters": {},
   "duration": 227.058187,
   "end_time": "2022-03-21T03:32:55.050813",
   "environment_variables": {},
   "exception": null,
   "input_path": "/root/csc500-main/csc500-notebooks/templates/tl_ptn_template.ipynb",
   "output_path": "trial.ipynb",
   "parameters": {
    "parameters": {
     "BEST_MODEL_PATH": "./best_model.pth",
     "NUM_LOGS_PER_EPOCH": 10,
     "criteria_for_best": "target_accuracy",
     "dataset_seed": 7,
     "datasets": [
      {
       "domain_prefix": "CORES_",
       "domains": [
        1,
        2,
        3,
        4,
        5
       ],
       "episode_transforms": [],
       "labels": [
        "1-10.",
        "1-11.",
        "1-15.",
        "1-16.",
        "1-17.",
        "1-18.",
        "1-19.",
        "10-4.",
        "10-7.",
        "11-1.",
        "11-14.",
        "11-17.",
        "11-20.",
        "11-7.",
        "13-20.",
        "13-8.",
        "14-10.",
        "14-11.",
        "14-14.",
        "14-7.",
        "15-1.",
        "15-20.",
        "16-1.",
        "16-16.",
        "17-10.",
        "17-11.",
        "17-2.",
        "19-1.",
        "19-16.",
        "19-19.",
        "19-20.",
        "19-3.",
        "2-10.",
        "2-11.",
        "2-17.",
        "2-18.",
        "2-20.",
        "2-3.",
        "2-4.",
        "2-5.",
        "2-6.",
        "2-7.",
        "2-8.",
        "3-13.",
        "3-18.",
        "3-3.",
        "4-1.",
        "4-10.",
        "4-11.",
        "4-19.",
        "5-5.",
        "6-15.",
        "7-10.",
        "7-14.",
        "8-18.",
        "8-20.",
        "8-3.",
        "8-8."
       ],
       "num_examples_per_domain_per_label": -1,
       "pickle_path": "/root/csc500-main/datasets/cores.stratified_ds.2022A.pkl",
       "source_or_target_dataset": "source",
       "x_transforms": [
        "unit_power"
       ]
      },
      {
       "domain_prefix": "Wisig_",
       "domains": [
        1,
        2,
        3,
        4
       ],
       "episode_transforms": [],
       "labels": [
        "1-10",
        "1-12",
        "1-14",
        "1-16",
        "1-18",
        "1-19",
        "1-8",
        "10-11",
        "10-17",
        "10-4",
        "10-7",
        "11-1",
        "11-10",
        "11-19",
        "11-20",
        "11-4",
        "11-7",
        "12-19",
        "12-20",
        "12-7",
        "13-14",
        "13-18",
        "13-19",
        "13-20",
        "13-3",
        "13-7",
        "14-10",
        "14-11",
        "14-12",
        "14-13",
        "14-14",
        "14-19",
        "14-20",
        "14-7",
        "14-8",
        "14-9",
        "15-1",
        "15-19",
        "15-6",
        "16-1",
        "16-16",
        "16-19",
        "16-20",
        "17-10",
        "17-11",
        "18-1",
        "18-10",
        "18-11",
        "18-12",
        "18-13",
        "18-14",
        "18-15",
        "18-16",
        "18-17",
        "18-19",
        "18-2",
        "18-20",
        "18-4",
        "18-5",
        "18-7",
        "18-8",
        "18-9",
        "19-1",
        "19-10",
        "19-11",
        "19-12",
        "19-13",
        "19-14",
        "19-15",
        "19-19",
        "19-2",
        "19-20",
        "19-3",
        "19-4",
        "19-6",
        "19-7",
        "19-8",
        "19-9",
        "2-1",
        "2-13",
        "2-15",
        "2-3",
        "2-4",
        "2-5",
        "2-6",
        "2-7",
        "2-8",
        "20-1",
        "20-12",
        "20-14",
        "20-15",
        "20-16",
        "20-18",
        "20-19",
        "20-20",
        "20-3",
        "20-4",
        "20-5",
        "20-7",
        "20-8",
        "3-1",
        "3-13",
        "3-18",
        "3-2",
        "3-8",
        "4-1",
        "4-10",
        "4-11",
        "5-1",
        "5-5",
        "6-1",
        "6-15",
        "6-6",
        "7-10",
        "7-11",
        "7-12",
        "7-13",
        "7-14",
        "7-7",
        "7-8",
        "7-9",
        "8-1",
        "8-13",
        "8-14",
        "8-18",
        "8-20",
        "8-3",
        "8-8",
        "9-1",
        "9-7"
       ],
       "num_examples_per_domain_per_label": -1,
       "pickle_path": "/root/csc500-main/datasets/wisig.node3-19.stratified_ds.2022A.pkl",
       "source_or_target_dataset": "target",
       "x_transforms": [
        "unit_power"
       ]
      }
     ],
     "device": "cuda",
     "experiment_name": "tl_1v2:cores-wisig",
     "lr": 0.0001,
     "n_epoch": 3,
     "n_query": 2,
     "n_shot": 3,
     "n_way": 58,
     "patience": 3,
     "seed": 7,
     "test_k_factor": 2,
     "torch_default_dtype": "torch.float32",
     "train_k_factor": 3,
     "val_k_factor": 2,
     "x_net": [
      {
       "class": "nnReshape",
       "kargs": {
        "shape": [
         -1,
         1,
         2,
         256
        ]
       }
      },
      {
       "class": "Conv2d",
       "kargs": {
        "bias": false,
        "in_channels": 1,
        "kernel_size": [
         1,
         7
        ],
        "out_channels": 256,
        "padding": [
         0,
         3
        ]
       }
      },
      {
       "class": "ReLU",
       "kargs": {
        "inplace": true
       }
      },
      {
       "class": "BatchNorm2d",
       "kargs": {
        "num_features": 256
       }
      },
      {
       "class": "Conv2d",
       "kargs": {
        "bias": true,
        "in_channels": 256,
        "kernel_size": [
         2,
         7
        ],
        "out_channels": 80,
        "padding": [
         0,
         3
        ]
       }
      },
      {
       "class": "ReLU",
       "kargs": {
        "inplace": true
       }
      },
      {
       "class": "BatchNorm2d",
       "kargs": {
        "num_features": 80
       }
      },
      {
       "class": "Flatten",
       "kargs": {}
      },
      {
       "class": "Linear",
       "kargs": {
        "in_features": 20480,
        "out_features": 256
       }
      },
      {
       "class": "ReLU",
       "kargs": {
        "inplace": true
       }
      },
      {
       "class": "BatchNorm1d",
       "kargs": {
        "num_features": 256
       }
      },
      {
       "class": "Linear",
       "kargs": {
        "in_features": 256,
        "out_features": 256
       }
      }
     ]
    }
   },
   "start_time": "2022-03-21T03:29:07.992626",
   "version": "2.3.4"
  }
 },
 "nbformat": 4,
 "nbformat_minor": 5
}