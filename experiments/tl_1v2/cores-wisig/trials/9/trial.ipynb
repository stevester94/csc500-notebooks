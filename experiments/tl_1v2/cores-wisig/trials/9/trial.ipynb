{
 "cells": [
  {
   "cell_type": "markdown",
   "id": "9fea5f46",
   "metadata": {
    "papermill": {
     "duration": 0.028262,
     "end_time": "2022-03-21T02:41:46.011696",
     "exception": false,
     "start_time": "2022-03-21T02:41:45.983434",
     "status": "completed"
    },
    "tags": []
   },
   "source": [
    "# Transfer Learning Template"
   ]
  },
  {
   "cell_type": "code",
   "execution_count": 1,
   "id": "0902182a",
   "metadata": {
    "execution": {
     "iopub.execute_input": "2022-03-21T02:41:46.074103Z",
     "iopub.status.busy": "2022-03-21T02:41:46.073243Z",
     "iopub.status.idle": "2022-03-21T02:41:47.917038Z",
     "shell.execute_reply": "2022-03-21T02:41:47.917712Z"
    },
    "papermill": {
     "duration": 1.883021,
     "end_time": "2022-03-21T02:41:47.918044",
     "exception": false,
     "start_time": "2022-03-21T02:41:46.035023",
     "status": "completed"
    },
    "tags": []
   },
   "outputs": [],
   "source": [
    "%load_ext autoreload\n",
    "%autoreload 2\n",
    "%matplotlib inline\n",
    "\n",
    "    \n",
    "import os, json, sys, time, random\n",
    "import numpy as np\n",
    "import torch\n",
    "from torch.optim import Adam\n",
    "from  easydict import EasyDict\n",
    "import matplotlib.pyplot as plt\n",
    "\n",
    "from steves_models.steves_ptn import Steves_Prototypical_Network\n",
    "\n",
    "from steves_utils.lazy_iterable_wrapper import Lazy_Iterable_Wrapper\n",
    "from steves_utils.iterable_aggregator import Iterable_Aggregator\n",
    "from steves_utils.ptn_train_eval_test_jig import  PTN_Train_Eval_Test_Jig\n",
    "from steves_utils.torch_sequential_builder import build_sequential\n",
    "from steves_utils.torch_utils import get_dataset_metrics, ptn_confusion_by_domain_over_dataloader\n",
    "from steves_utils.utils_v2 import (per_domain_accuracy_from_confusion, get_datasets_base_path)\n",
    "from steves_utils.PTN.utils import independent_accuracy_assesment\n",
    "\n",
    "from torch.utils.data import DataLoader\n",
    "\n",
    "from steves_utils.stratified_dataset.episodic_accessor import Episodic_Accessor_Factory\n",
    "\n",
    "from steves_utils.ptn_do_report import (\n",
    "    get_loss_curve,\n",
    "    get_results_table,\n",
    "    get_parameters_table,\n",
    "    get_domain_accuracies,\n",
    ")\n",
    "\n",
    "from steves_utils.transforms import get_chained_transform"
   ]
  },
  {
   "cell_type": "markdown",
   "id": "41c840b4",
   "metadata": {
    "papermill": {
     "duration": 0.019481,
     "end_time": "2022-03-21T02:41:47.966041",
     "exception": false,
     "start_time": "2022-03-21T02:41:47.946560",
     "status": "completed"
    },
    "tags": []
   },
   "source": [
    "# Allowed Parameters\n",
    "These are allowed parameters, not defaults\n",
    "Each of these values need to be present in the injected parameters (the notebook will raise an exception if they are not present)\n",
    "\n",
    "Papermill uses the cell tag \"parameters\" to inject the real parameters below this cell.\n",
    "Enable tags to see what I mean"
   ]
  },
  {
   "cell_type": "code",
   "execution_count": 2,
   "id": "fd44eb83",
   "metadata": {
    "execution": {
     "iopub.execute_input": "2022-03-21T02:41:48.009715Z",
     "iopub.status.busy": "2022-03-21T02:41:48.009327Z",
     "iopub.status.idle": "2022-03-21T02:41:48.028547Z",
     "shell.execute_reply": "2022-03-21T02:41:48.027736Z"
    },
    "papermill": {
     "duration": 0.043029,
     "end_time": "2022-03-21T02:41:48.028701",
     "exception": false,
     "start_time": "2022-03-21T02:41:47.985672",
     "status": "completed"
    },
    "tags": []
   },
   "outputs": [],
   "source": [
    "required_parameters = {\n",
    "    \"experiment_name\",\n",
    "    \"lr\",\n",
    "    \"device\",\n",
    "    \"seed\",\n",
    "    \"dataset_seed\",\n",
    "    \"n_shot\",\n",
    "    \"n_query\",\n",
    "    \"n_way\",\n",
    "    \"train_k_factor\",\n",
    "    \"val_k_factor\",\n",
    "    \"test_k_factor\",\n",
    "    \"n_epoch\",\n",
    "    \"patience\",\n",
    "    \"criteria_for_best\",\n",
    "    \"x_net\",\n",
    "    \"datasets\",\n",
    "    \"torch_default_dtype\",\n",
    "    \"NUM_LOGS_PER_EPOCH\",\n",
    "    \"BEST_MODEL_PATH\",\n",
    "    \"x_shape\",\n",
    "}"
   ]
  },
  {
   "cell_type": "code",
   "execution_count": 3,
   "id": "fa3f0049",
   "metadata": {
    "execution": {
     "iopub.execute_input": "2022-03-21T02:41:48.086874Z",
     "iopub.status.busy": "2022-03-21T02:41:48.086162Z",
     "iopub.status.idle": "2022-03-21T02:41:48.105935Z",
     "shell.execute_reply": "2022-03-21T02:41:48.105128Z"
    },
    "papermill": {
     "duration": 0.048987,
     "end_time": "2022-03-21T02:41:48.106089",
     "exception": false,
     "start_time": "2022-03-21T02:41:48.057102",
     "status": "completed"
    },
    "tags": [
     "parameters"
    ]
   },
   "outputs": [],
   "source": [
    "from steves_utils.CORES.utils import (\n",
    "    ALL_NODES,\n",
    "    ALL_NODES_MINIMUM_1000_EXAMPLES,\n",
    "    ALL_DAYS\n",
    ")\n",
    "\n",
    "from steves_utils.ORACLE.utils_v2 import (\n",
    "    ALL_DISTANCES_FEET_NARROWED,\n",
    "    ALL_RUNS,\n",
    "    ALL_SERIAL_NUMBERS,\n",
    ")\n",
    "\n",
    "standalone_parameters = {}\n",
    "standalone_parameters[\"experiment_name\"] = \"STANDALONE PTN\"\n",
    "standalone_parameters[\"lr\"] = 0.001\n",
    "standalone_parameters[\"device\"] = \"cuda\"\n",
    "\n",
    "standalone_parameters[\"seed\"] = 1337\n",
    "standalone_parameters[\"dataset_seed\"] = 1337\n",
    "\n",
    "standalone_parameters[\"n_way\"] = 8\n",
    "standalone_parameters[\"n_shot\"] = 3\n",
    "standalone_parameters[\"n_query\"]  = 2\n",
    "standalone_parameters[\"train_k_factor\"] = 1\n",
    "standalone_parameters[\"val_k_factor\"] = 2\n",
    "standalone_parameters[\"test_k_factor\"] = 2\n",
    "\n",
    "\n",
    "standalone_parameters[\"n_epoch\"] = 50\n",
    "\n",
    "standalone_parameters[\"patience\"] = 10\n",
    "standalone_parameters[\"criteria_for_best\"] = \"source_loss\"\n",
    "\n",
    "standalone_parameters[\"datasets\"] = [\n",
    "    {\n",
    "        \"labels\": ALL_SERIAL_NUMBERS,\n",
    "        \"domains\": ALL_DISTANCES_FEET_NARROWED,\n",
    "        \"num_examples_per_domain_per_label\": 100,\n",
    "        \"pickle_path\": os.path.join(get_datasets_base_path(), \"oracle.Run1_framed_2000Examples_stratified_ds.2022A.pkl\"),\n",
    "        \"source_or_target_dataset\": \"source\",\n",
    "        \"x_transforms\": [\"unit_mag\", \"minus_two\"],\n",
    "        \"episode_transforms\": [],\n",
    "        \"domain_prefix\": \"ORACLE_\"\n",
    "    },\n",
    "    {\n",
    "        \"labels\": ALL_NODES,\n",
    "        \"domains\": ALL_DAYS,\n",
    "        \"num_examples_per_domain_per_label\": 100,\n",
    "        \"pickle_path\": os.path.join(get_datasets_base_path(), \"cores.stratified_ds.2022A.pkl\"),\n",
    "        \"source_or_target_dataset\": \"target\",\n",
    "        \"x_transforms\": [\"unit_power\", \"times_zero\"],\n",
    "        \"episode_transforms\": [],\n",
    "        \"domain_prefix\": \"CORES_\"\n",
    "    }   \n",
    "]\n",
    "\n",
    "standalone_parameters[\"torch_default_dtype\"] = \"torch.float32\" \n",
    "\n",
    "\n",
    "\n",
    "standalone_parameters[\"x_net\"] =     [\n",
    "    {\"class\": \"nnReshape\", \"kargs\": {\"shape\":[-1, 1, 2, 256]}},\n",
    "    {\"class\": \"Conv2d\", \"kargs\": { \"in_channels\":1, \"out_channels\":256, \"kernel_size\":(1,7), \"bias\":False, \"padding\":(0,3), },},\n",
    "    {\"class\": \"ReLU\", \"kargs\": {\"inplace\": True}},\n",
    "    {\"class\": \"BatchNorm2d\", \"kargs\": {\"num_features\":256}},\n",
    "\n",
    "    {\"class\": \"Conv2d\", \"kargs\": { \"in_channels\":256, \"out_channels\":80, \"kernel_size\":(2,7), \"bias\":True, \"padding\":(0,3), },},\n",
    "    {\"class\": \"ReLU\", \"kargs\": {\"inplace\": True}},\n",
    "    {\"class\": \"BatchNorm2d\", \"kargs\": {\"num_features\":80}},\n",
    "    {\"class\": \"Flatten\", \"kargs\": {}},\n",
    "\n",
    "    {\"class\": \"Linear\", \"kargs\": {\"in_features\": 80*256, \"out_features\": 256}}, # 80 units per IQ pair\n",
    "    {\"class\": \"ReLU\", \"kargs\": {\"inplace\": True}},\n",
    "    {\"class\": \"BatchNorm1d\", \"kargs\": {\"num_features\":256}},\n",
    "\n",
    "    {\"class\": \"Linear\", \"kargs\": {\"in_features\": 256, \"out_features\": 256}},\n",
    "]\n",
    "\n",
    "# Parameters relevant to results\n",
    "# These parameters will basically never need to change\n",
    "standalone_parameters[\"NUM_LOGS_PER_EPOCH\"] = 10\n",
    "standalone_parameters[\"BEST_MODEL_PATH\"] = \"./best_model.pth\"\n",
    "\n",
    "\n",
    "\n",
    "\n"
   ]
  },
  {
   "cell_type": "code",
   "execution_count": 4,
   "id": "2a4c84e4",
   "metadata": {
    "execution": {
     "iopub.execute_input": "2022-03-21T02:41:48.168721Z",
     "iopub.status.busy": "2022-03-21T02:41:48.163726Z",
     "iopub.status.idle": "2022-03-21T02:41:48.189698Z",
     "shell.execute_reply": "2022-03-21T02:41:48.188896Z"
    },
    "papermill": {
     "duration": 0.058397,
     "end_time": "2022-03-21T02:41:48.189852",
     "exception": false,
     "start_time": "2022-03-21T02:41:48.131455",
     "status": "completed"
    },
    "tags": [
     "injected-parameters"
    ]
   },
   "outputs": [],
   "source": [
    "# Parameters\n",
    "parameters = {\n",
    "    \"experiment_name\": \"tl_1v2:cores-wisig\",\n",
    "    \"device\": \"cuda\",\n",
    "    \"lr\": 0.0001,\n",
    "    \"n_shot\": 3,\n",
    "    \"n_query\": 2,\n",
    "    \"train_k_factor\": 3,\n",
    "    \"val_k_factor\": 2,\n",
    "    \"test_k_factor\": 2,\n",
    "    \"torch_default_dtype\": \"torch.float32\",\n",
    "    \"n_epoch\": 3,\n",
    "    \"patience\": 3,\n",
    "    \"criteria_for_best\": \"target_accuracy\",\n",
    "    \"x_net\": [\n",
    "        {\"class\": \"nnReshape\", \"kargs\": {\"shape\": [-1, 1, 2, 256]}},\n",
    "        {\n",
    "            \"class\": \"Conv2d\",\n",
    "            \"kargs\": {\n",
    "                \"in_channels\": 1,\n",
    "                \"out_channels\": 256,\n",
    "                \"kernel_size\": [1, 7],\n",
    "                \"bias\": False,\n",
    "                \"padding\": [0, 3],\n",
    "            },\n",
    "        },\n",
    "        {\"class\": \"ReLU\", \"kargs\": {\"inplace\": True}},\n",
    "        {\"class\": \"BatchNorm2d\", \"kargs\": {\"num_features\": 256}},\n",
    "        {\n",
    "            \"class\": \"Conv2d\",\n",
    "            \"kargs\": {\n",
    "                \"in_channels\": 256,\n",
    "                \"out_channels\": 80,\n",
    "                \"kernel_size\": [2, 7],\n",
    "                \"bias\": True,\n",
    "                \"padding\": [0, 3],\n",
    "            },\n",
    "        },\n",
    "        {\"class\": \"ReLU\", \"kargs\": {\"inplace\": True}},\n",
    "        {\"class\": \"BatchNorm2d\", \"kargs\": {\"num_features\": 80}},\n",
    "        {\"class\": \"Flatten\", \"kargs\": {}},\n",
    "        {\"class\": \"Linear\", \"kargs\": {\"in_features\": 20480, \"out_features\": 256}},\n",
    "        {\"class\": \"ReLU\", \"kargs\": {\"inplace\": True}},\n",
    "        {\"class\": \"BatchNorm1d\", \"kargs\": {\"num_features\": 256}},\n",
    "        {\"class\": \"Linear\", \"kargs\": {\"in_features\": 256, \"out_features\": 256}},\n",
    "    ],\n",
    "    \"NUM_LOGS_PER_EPOCH\": 10,\n",
    "    \"BEST_MODEL_PATH\": \"./best_model.pth\",\n",
    "    \"n_way\": 58,\n",
    "    \"datasets\": [\n",
    "        {\n",
    "            \"labels\": [\n",
    "                \"1-10.\",\n",
    "                \"1-11.\",\n",
    "                \"1-15.\",\n",
    "                \"1-16.\",\n",
    "                \"1-17.\",\n",
    "                \"1-18.\",\n",
    "                \"1-19.\",\n",
    "                \"10-4.\",\n",
    "                \"10-7.\",\n",
    "                \"11-1.\",\n",
    "                \"11-14.\",\n",
    "                \"11-17.\",\n",
    "                \"11-20.\",\n",
    "                \"11-7.\",\n",
    "                \"13-20.\",\n",
    "                \"13-8.\",\n",
    "                \"14-10.\",\n",
    "                \"14-11.\",\n",
    "                \"14-14.\",\n",
    "                \"14-7.\",\n",
    "                \"15-1.\",\n",
    "                \"15-20.\",\n",
    "                \"16-1.\",\n",
    "                \"16-16.\",\n",
    "                \"17-10.\",\n",
    "                \"17-11.\",\n",
    "                \"17-2.\",\n",
    "                \"19-1.\",\n",
    "                \"19-16.\",\n",
    "                \"19-19.\",\n",
    "                \"19-20.\",\n",
    "                \"19-3.\",\n",
    "                \"2-10.\",\n",
    "                \"2-11.\",\n",
    "                \"2-17.\",\n",
    "                \"2-18.\",\n",
    "                \"2-20.\",\n",
    "                \"2-3.\",\n",
    "                \"2-4.\",\n",
    "                \"2-5.\",\n",
    "                \"2-6.\",\n",
    "                \"2-7.\",\n",
    "                \"2-8.\",\n",
    "                \"3-13.\",\n",
    "                \"3-18.\",\n",
    "                \"3-3.\",\n",
    "                \"4-1.\",\n",
    "                \"4-10.\",\n",
    "                \"4-11.\",\n",
    "                \"4-19.\",\n",
    "                \"5-5.\",\n",
    "                \"6-15.\",\n",
    "                \"7-10.\",\n",
    "                \"7-14.\",\n",
    "                \"8-18.\",\n",
    "                \"8-20.\",\n",
    "                \"8-3.\",\n",
    "                \"8-8.\",\n",
    "            ],\n",
    "            \"domains\": [1, 2, 3, 4, 5],\n",
    "            \"num_examples_per_domain_per_label\": -1,\n",
    "            \"pickle_path\": \"/root/csc500-main/datasets/cores.stratified_ds.2022A.pkl\",\n",
    "            \"source_or_target_dataset\": \"target\",\n",
    "            \"x_transforms\": [\"unit_power\"],\n",
    "            \"episode_transforms\": [],\n",
    "            \"domain_prefix\": \"CORES_\",\n",
    "        },\n",
    "        {\n",
    "            \"labels\": [\n",
    "                \"1-10\",\n",
    "                \"1-12\",\n",
    "                \"1-14\",\n",
    "                \"1-16\",\n",
    "                \"1-18\",\n",
    "                \"1-19\",\n",
    "                \"1-8\",\n",
    "                \"10-11\",\n",
    "                \"10-17\",\n",
    "                \"10-4\",\n",
    "                \"10-7\",\n",
    "                \"11-1\",\n",
    "                \"11-10\",\n",
    "                \"11-19\",\n",
    "                \"11-20\",\n",
    "                \"11-4\",\n",
    "                \"11-7\",\n",
    "                \"12-19\",\n",
    "                \"12-20\",\n",
    "                \"12-7\",\n",
    "                \"13-14\",\n",
    "                \"13-18\",\n",
    "                \"13-19\",\n",
    "                \"13-20\",\n",
    "                \"13-3\",\n",
    "                \"13-7\",\n",
    "                \"14-10\",\n",
    "                \"14-11\",\n",
    "                \"14-12\",\n",
    "                \"14-13\",\n",
    "                \"14-14\",\n",
    "                \"14-19\",\n",
    "                \"14-20\",\n",
    "                \"14-7\",\n",
    "                \"14-8\",\n",
    "                \"14-9\",\n",
    "                \"15-1\",\n",
    "                \"15-19\",\n",
    "                \"15-6\",\n",
    "                \"16-1\",\n",
    "                \"16-16\",\n",
    "                \"16-19\",\n",
    "                \"16-20\",\n",
    "                \"17-10\",\n",
    "                \"17-11\",\n",
    "                \"18-1\",\n",
    "                \"18-10\",\n",
    "                \"18-11\",\n",
    "                \"18-12\",\n",
    "                \"18-13\",\n",
    "                \"18-14\",\n",
    "                \"18-15\",\n",
    "                \"18-16\",\n",
    "                \"18-17\",\n",
    "                \"18-19\",\n",
    "                \"18-2\",\n",
    "                \"18-20\",\n",
    "                \"18-4\",\n",
    "                \"18-5\",\n",
    "                \"18-7\",\n",
    "                \"18-8\",\n",
    "                \"18-9\",\n",
    "                \"19-1\",\n",
    "                \"19-10\",\n",
    "                \"19-11\",\n",
    "                \"19-12\",\n",
    "                \"19-13\",\n",
    "                \"19-14\",\n",
    "                \"19-15\",\n",
    "                \"19-19\",\n",
    "                \"19-2\",\n",
    "                \"19-20\",\n",
    "                \"19-3\",\n",
    "                \"19-4\",\n",
    "                \"19-6\",\n",
    "                \"19-7\",\n",
    "                \"19-8\",\n",
    "                \"19-9\",\n",
    "                \"2-1\",\n",
    "                \"2-13\",\n",
    "                \"2-15\",\n",
    "                \"2-3\",\n",
    "                \"2-4\",\n",
    "                \"2-5\",\n",
    "                \"2-6\",\n",
    "                \"2-7\",\n",
    "                \"2-8\",\n",
    "                \"20-1\",\n",
    "                \"20-12\",\n",
    "                \"20-14\",\n",
    "                \"20-15\",\n",
    "                \"20-16\",\n",
    "                \"20-18\",\n",
    "                \"20-19\",\n",
    "                \"20-20\",\n",
    "                \"20-3\",\n",
    "                \"20-4\",\n",
    "                \"20-5\",\n",
    "                \"20-7\",\n",
    "                \"20-8\",\n",
    "                \"3-1\",\n",
    "                \"3-13\",\n",
    "                \"3-18\",\n",
    "                \"3-2\",\n",
    "                \"3-8\",\n",
    "                \"4-1\",\n",
    "                \"4-10\",\n",
    "                \"4-11\",\n",
    "                \"5-1\",\n",
    "                \"5-5\",\n",
    "                \"6-1\",\n",
    "                \"6-15\",\n",
    "                \"6-6\",\n",
    "                \"7-10\",\n",
    "                \"7-11\",\n",
    "                \"7-12\",\n",
    "                \"7-13\",\n",
    "                \"7-14\",\n",
    "                \"7-7\",\n",
    "                \"7-8\",\n",
    "                \"7-9\",\n",
    "                \"8-1\",\n",
    "                \"8-13\",\n",
    "                \"8-14\",\n",
    "                \"8-18\",\n",
    "                \"8-20\",\n",
    "                \"8-3\",\n",
    "                \"8-8\",\n",
    "                \"9-1\",\n",
    "                \"9-7\",\n",
    "            ],\n",
    "            \"domains\": [1, 2, 3, 4],\n",
    "            \"num_examples_per_domain_per_label\": -1,\n",
    "            \"pickle_path\": \"/root/csc500-main/datasets/wisig.node3-19.stratified_ds.2022A.pkl\",\n",
    "            \"source_or_target_dataset\": \"source\",\n",
    "            \"x_transforms\": [\"unit_power\"],\n",
    "            \"episode_transforms\": [],\n",
    "            \"domain_prefix\": \"Wisig_\",\n",
    "        },\n",
    "    ],\n",
    "    \"dataset_seed\": 420,\n",
    "    \"seed\": 420,\n",
    "}\n"
   ]
  },
  {
   "cell_type": "code",
   "execution_count": 5,
   "id": "8fa1cc33",
   "metadata": {
    "execution": {
     "iopub.execute_input": "2022-03-21T02:41:48.243466Z",
     "iopub.status.busy": "2022-03-21T02:41:48.242891Z",
     "iopub.status.idle": "2022-03-21T02:41:48.267627Z",
     "shell.execute_reply": "2022-03-21T02:41:48.266902Z"
    },
    "papermill": {
     "duration": 0.052078,
     "end_time": "2022-03-21T02:41:48.267778",
     "exception": false,
     "start_time": "2022-03-21T02:41:48.215700",
     "status": "completed"
    },
    "tags": []
   },
   "outputs": [],
   "source": [
    "# Set this to True if you want to run this template directly\n",
    "STANDALONE = False\n",
    "if STANDALONE:\n",
    "    print(\"parameters not injected, running with standalone_parameters\")\n",
    "    parameters = standalone_parameters\n",
    "\n",
    "if not 'parameters' in locals() and not 'parameters' in globals():\n",
    "    raise Exception(\"Parameter injection failed\")\n",
    "\n",
    "#Use an easy dict for all the parameters\n",
    "p = EasyDict(parameters)\n",
    "\n",
    "if \"x_shape\" not in p:\n",
    "    p.x_shape = [2,256] # Default to this if we dont supply x_shape\n",
    "\n",
    "\n",
    "supplied_keys = set(p.keys())\n",
    "\n",
    "if  supplied_keys != required_parameters:\n",
    "    print(\"Parameters are incorrect\")\n",
    "    if len(supplied_keys - required_parameters)>0: print(\"Shouldn't have:\", str(supplied_keys - required_parameters))\n",
    "    if len(required_parameters - supplied_keys)>0: print(\"Need to have:\", str(required_parameters - supplied_keys))\n",
    "    raise RuntimeError(\"Parameters are incorrect\")"
   ]
  },
  {
   "cell_type": "code",
   "execution_count": 6,
   "id": "3a028d58",
   "metadata": {
    "execution": {
     "iopub.execute_input": "2022-03-21T02:41:48.322804Z",
     "iopub.status.busy": "2022-03-21T02:41:48.321611Z",
     "iopub.status.idle": "2022-03-21T02:41:48.344391Z",
     "shell.execute_reply": "2022-03-21T02:41:48.343588Z"
    },
    "papermill": {
     "duration": 0.048004,
     "end_time": "2022-03-21T02:41:48.344543",
     "exception": false,
     "start_time": "2022-03-21T02:41:48.296539",
     "status": "completed"
    },
    "tags": []
   },
   "outputs": [],
   "source": [
    "###################################\n",
    "# Set the RNGs and make it all deterministic\n",
    "###################################\n",
    "np.random.seed(p.seed)\n",
    "random.seed(p.seed)\n",
    "torch.manual_seed(p.seed)\n",
    "\n",
    "torch.use_deterministic_algorithms(True) "
   ]
  },
  {
   "cell_type": "code",
   "execution_count": 7,
   "id": "b691acf6",
   "metadata": {
    "execution": {
     "iopub.execute_input": "2022-03-21T02:41:48.394289Z",
     "iopub.status.busy": "2022-03-21T02:41:48.393728Z",
     "iopub.status.idle": "2022-03-21T02:41:48.416079Z",
     "shell.execute_reply": "2022-03-21T02:41:48.415239Z"
    },
    "papermill": {
     "duration": 0.047171,
     "end_time": "2022-03-21T02:41:48.416235",
     "exception": false,
     "start_time": "2022-03-21T02:41:48.369064",
     "status": "completed"
    },
    "tags": []
   },
   "outputs": [],
   "source": [
    "###########################################\n",
    "# The stratified datasets honor this\n",
    "###########################################\n",
    "torch.set_default_dtype(eval(p.torch_default_dtype))"
   ]
  },
  {
   "cell_type": "code",
   "execution_count": 8,
   "id": "b5fba671",
   "metadata": {
    "execution": {
     "iopub.execute_input": "2022-03-21T02:41:48.466442Z",
     "iopub.status.busy": "2022-03-21T02:41:48.465875Z",
     "iopub.status.idle": "2022-03-21T02:41:48.521182Z",
     "shell.execute_reply": "2022-03-21T02:41:48.520372Z"
    },
    "papermill": {
     "duration": 0.08021,
     "end_time": "2022-03-21T02:41:48.521336",
     "exception": false,
     "start_time": "2022-03-21T02:41:48.441126",
     "status": "completed"
    },
    "tags": []
   },
   "outputs": [],
   "source": [
    "###################################\n",
    "# Build the network(s)\n",
    "# Note: It's critical to do this AFTER setting the RNG\n",
    "###################################\n",
    "x_net = build_sequential(p.x_net)"
   ]
  },
  {
   "cell_type": "code",
   "execution_count": 9,
   "id": "5d7e61cc",
   "metadata": {
    "execution": {
     "iopub.execute_input": "2022-03-21T02:41:48.574910Z",
     "iopub.status.busy": "2022-03-21T02:41:48.574543Z",
     "iopub.status.idle": "2022-03-21T02:41:48.598498Z",
     "shell.execute_reply": "2022-03-21T02:41:48.597787Z"
    },
    "papermill": {
     "duration": 0.048198,
     "end_time": "2022-03-21T02:41:48.598652",
     "exception": false,
     "start_time": "2022-03-21T02:41:48.550454",
     "status": "completed"
    },
    "tags": []
   },
   "outputs": [],
   "source": [
    "start_time_secs = time.time()"
   ]
  },
  {
   "cell_type": "code",
   "execution_count": 10,
   "id": "c6b67dfd",
   "metadata": {
    "execution": {
     "iopub.execute_input": "2022-03-21T02:41:48.650451Z",
     "iopub.status.busy": "2022-03-21T02:41:48.649823Z",
     "iopub.status.idle": "2022-03-21T02:41:48.672177Z",
     "shell.execute_reply": "2022-03-21T02:41:48.671445Z"
    },
    "papermill": {
     "duration": 0.047658,
     "end_time": "2022-03-21T02:41:48.672333",
     "exception": false,
     "start_time": "2022-03-21T02:41:48.624675",
     "status": "completed"
    },
    "tags": []
   },
   "outputs": [],
   "source": [
    "p.domains_source = []\n",
    "p.domains_target = []\n",
    "\n",
    "\n",
    "train_original_source = []\n",
    "val_original_source   = []\n",
    "test_original_source  = []\n",
    "\n",
    "train_original_target = []\n",
    "val_original_target   = []\n",
    "test_original_target  = []"
   ]
  },
  {
   "cell_type": "code",
   "execution_count": 11,
   "id": "e3d9c3d3",
   "metadata": {
    "execution": {
     "iopub.execute_input": "2022-03-21T02:41:48.724995Z",
     "iopub.status.busy": "2022-03-21T02:41:48.724628Z",
     "iopub.status.idle": "2022-03-21T02:41:48.742806Z",
     "shell.execute_reply": "2022-03-21T02:41:48.742078Z"
    },
    "papermill": {
     "duration": 0.041078,
     "end_time": "2022-03-21T02:41:48.742959",
     "exception": false,
     "start_time": "2022-03-21T02:41:48.701881",
     "status": "completed"
    },
    "tags": []
   },
   "outputs": [],
   "source": [
    "# global_x_transform_func = lambda x: normalize(x.to(torch.get_default_dtype()), \"unit_power\") # unit_power, unit_mag\n",
    "# global_x_transform_func = lambda x: normalize(x, \"unit_power\") # unit_power, unit_mag"
   ]
  },
  {
   "cell_type": "code",
   "execution_count": 12,
   "id": "acb78fd2",
   "metadata": {
    "execution": {
     "iopub.execute_input": "2022-03-21T02:41:48.798377Z",
     "iopub.status.busy": "2022-03-21T02:41:48.797795Z",
     "iopub.status.idle": "2022-03-21T02:41:48.817654Z",
     "shell.execute_reply": "2022-03-21T02:41:48.816850Z"
    },
    "papermill": {
     "duration": 0.046899,
     "end_time": "2022-03-21T02:41:48.817812",
     "exception": false,
     "start_time": "2022-03-21T02:41:48.770913",
     "status": "completed"
    },
    "tags": []
   },
   "outputs": [],
   "source": [
    "def add_dataset(\n",
    "    labels,\n",
    "    domains,\n",
    "    pickle_path,\n",
    "    x_transforms,\n",
    "    episode_transforms,\n",
    "    domain_prefix,\n",
    "    num_examples_per_domain_per_label,\n",
    "    source_or_target_dataset:str,\n",
    "    iterator_seed=p.seed,\n",
    "    dataset_seed=p.dataset_seed,\n",
    "    n_shot=p.n_shot,\n",
    "    n_way=p.n_way,\n",
    "    n_query=p.n_query,\n",
    "    train_val_test_k_factors=(p.train_k_factor,p.val_k_factor,p.test_k_factor),\n",
    "):\n",
    "   \n",
    "    if x_transforms == []: x_transform = None\n",
    "    else: x_transform = get_chained_transform(x_transforms)\n",
    "    \n",
    "    if episode_transforms == []: episode_transform = None\n",
    "    else: raise Exception(\"episode_transforms not implemented\")\n",
    "    \n",
    "    episode_transform = lambda tup, _prefix=domain_prefix: (_prefix + str(tup[0]), tup[1])\n",
    "\n",
    "\n",
    "    eaf = Episodic_Accessor_Factory(\n",
    "        labels=labels,\n",
    "        domains=domains,\n",
    "        num_examples_per_domain_per_label=num_examples_per_domain_per_label,\n",
    "        iterator_seed=iterator_seed,\n",
    "        dataset_seed=dataset_seed,\n",
    "        n_shot=n_shot,\n",
    "        n_way=n_way,\n",
    "        n_query=n_query,\n",
    "        train_val_test_k_factors=train_val_test_k_factors,\n",
    "        pickle_path=pickle_path,\n",
    "        x_transform_func=x_transform,\n",
    "    )\n",
    "\n",
    "    train, val, test = eaf.get_train(), eaf.get_val(), eaf.get_test()\n",
    "    train = Lazy_Iterable_Wrapper(train, episode_transform)\n",
    "    val = Lazy_Iterable_Wrapper(val, episode_transform)\n",
    "    test = Lazy_Iterable_Wrapper(test, episode_transform)\n",
    "\n",
    "    if source_or_target_dataset==\"source\":\n",
    "        train_original_source.append(train)\n",
    "        val_original_source.append(val)\n",
    "        test_original_source.append(test)\n",
    "\n",
    "        p.domains_source.extend(\n",
    "            [domain_prefix + str(u) for u in domains]\n",
    "        )\n",
    "    elif source_or_target_dataset==\"target\":\n",
    "        train_original_target.append(train)\n",
    "        val_original_target.append(val)\n",
    "        test_original_target.append(test)\n",
    "        p.domains_target.extend(\n",
    "            [domain_prefix + str(u) for u in domains]\n",
    "        )\n",
    "    else:\n",
    "        raise Exception(f\"invalid source_or_target_dataset: {source_or_target_dataset}\")\n",
    "    "
   ]
  },
  {
   "cell_type": "code",
   "execution_count": 13,
   "id": "fe266617",
   "metadata": {
    "execution": {
     "iopub.execute_input": "2022-03-21T02:41:48.870571Z",
     "iopub.status.busy": "2022-03-21T02:41:48.870200Z",
     "iopub.status.idle": "2022-03-21T02:42:32.254558Z",
     "shell.execute_reply": "2022-03-21T02:42:32.253741Z"
    },
    "papermill": {
     "duration": 43.407821,
     "end_time": "2022-03-21T02:42:32.254742",
     "exception": false,
     "start_time": "2022-03-21T02:41:48.846921",
     "status": "completed"
    },
    "tags": []
   },
   "outputs": [],
   "source": [
    "for ds in p.datasets:\n",
    "    add_dataset(**ds)"
   ]
  },
  {
   "cell_type": "code",
   "execution_count": 14,
   "id": "b90d65ac",
   "metadata": {
    "execution": {
     "iopub.execute_input": "2022-03-21T02:42:32.311421Z",
     "iopub.status.busy": "2022-03-21T02:42:32.311033Z",
     "iopub.status.idle": "2022-03-21T02:42:32.338515Z",
     "shell.execute_reply": "2022-03-21T02:42:32.337686Z"
    },
    "papermill": {
     "duration": 0.052584,
     "end_time": "2022-03-21T02:42:32.338684",
     "exception": false,
     "start_time": "2022-03-21T02:42:32.286100",
     "status": "completed"
    },
    "tags": []
   },
   "outputs": [],
   "source": [
    "# from steves_utils.CORES.utils import (\n",
    "#     ALL_NODES,\n",
    "#     ALL_NODES_MINIMUM_1000_EXAMPLES,\n",
    "#     ALL_DAYS\n",
    "# )\n",
    "\n",
    "# add_dataset(\n",
    "#     labels=ALL_NODES,\n",
    "#     domains = ALL_DAYS,\n",
    "#     num_examples_per_domain_per_label=100,\n",
    "#     pickle_path=os.path.join(get_datasets_base_path(), \"cores.stratified_ds.2022A.pkl\"),\n",
    "#     source_or_target_dataset=\"target\",\n",
    "#     x_transform_func=global_x_transform_func,\n",
    "#     domain_modifier=lambda u: f\"cores_{u}\"\n",
    "# )"
   ]
  },
  {
   "cell_type": "code",
   "execution_count": 15,
   "id": "76db484d",
   "metadata": {
    "execution": {
     "iopub.execute_input": "2022-03-21T02:42:32.397080Z",
     "iopub.status.busy": "2022-03-21T02:42:32.389281Z",
     "iopub.status.idle": "2022-03-21T02:42:32.409801Z",
     "shell.execute_reply": "2022-03-21T02:42:32.408980Z"
    },
    "papermill": {
     "duration": 0.044614,
     "end_time": "2022-03-21T02:42:32.409959",
     "exception": false,
     "start_time": "2022-03-21T02:42:32.365345",
     "status": "completed"
    },
    "tags": []
   },
   "outputs": [],
   "source": [
    "# from steves_utils.ORACLE.utils_v2 import (\n",
    "#     ALL_DISTANCES_FEET,\n",
    "#     ALL_RUNS,\n",
    "#     ALL_SERIAL_NUMBERS,\n",
    "# )\n",
    "\n",
    "\n",
    "# add_dataset(\n",
    "#     labels=ALL_SERIAL_NUMBERS,\n",
    "#     domains = list(set(ALL_DISTANCES_FEET) - {2,62}),\n",
    "#     num_examples_per_domain_per_label=100,\n",
    "#     pickle_path=os.path.join(get_datasets_base_path(), \"oracle.Run2_framed_2000Examples_stratified_ds.2022A.pkl\"),\n",
    "#     source_or_target_dataset=\"source\",\n",
    "#     x_transform_func=global_x_transform_func,\n",
    "#     domain_modifier=lambda u: f\"oracle1_{u}\"\n",
    "# )\n"
   ]
  },
  {
   "cell_type": "code",
   "execution_count": 16,
   "id": "97dea9d2",
   "metadata": {
    "execution": {
     "iopub.execute_input": "2022-03-21T02:42:32.463795Z",
     "iopub.status.busy": "2022-03-21T02:42:32.461713Z",
     "iopub.status.idle": "2022-03-21T02:42:32.483445Z",
     "shell.execute_reply": "2022-03-21T02:42:32.482622Z"
    },
    "papermill": {
     "duration": 0.046264,
     "end_time": "2022-03-21T02:42:32.483621",
     "exception": false,
     "start_time": "2022-03-21T02:42:32.437357",
     "status": "completed"
    },
    "tags": []
   },
   "outputs": [],
   "source": [
    "# from steves_utils.ORACLE.utils_v2 import (\n",
    "#     ALL_DISTANCES_FEET,\n",
    "#     ALL_RUNS,\n",
    "#     ALL_SERIAL_NUMBERS,\n",
    "# )\n",
    "\n",
    "\n",
    "# add_dataset(\n",
    "#     labels=ALL_SERIAL_NUMBERS,\n",
    "#     domains = list(set(ALL_DISTANCES_FEET) - {2,62,56}),\n",
    "#     num_examples_per_domain_per_label=100,\n",
    "#     pickle_path=os.path.join(get_datasets_base_path(), \"oracle.Run2_framed_2000Examples_stratified_ds.2022A.pkl\"),\n",
    "#     source_or_target_dataset=\"source\",\n",
    "#     x_transform_func=global_x_transform_func,\n",
    "#     domain_modifier=lambda u: f\"oracle2_{u}\"\n",
    "# )"
   ]
  },
  {
   "cell_type": "code",
   "execution_count": 17,
   "id": "6f289866",
   "metadata": {
    "execution": {
     "iopub.execute_input": "2022-03-21T02:42:32.538949Z",
     "iopub.status.busy": "2022-03-21T02:42:32.538413Z",
     "iopub.status.idle": "2022-03-21T02:42:32.555665Z",
     "shell.execute_reply": "2022-03-21T02:42:32.554810Z"
    },
    "papermill": {
     "duration": 0.041648,
     "end_time": "2022-03-21T02:42:32.555825",
     "exception": false,
     "start_time": "2022-03-21T02:42:32.514177",
     "status": "completed"
    },
    "tags": []
   },
   "outputs": [],
   "source": [
    "# add_dataset(\n",
    "#     labels=list(range(19)),\n",
    "#     domains = [0,1,2],\n",
    "#     num_examples_per_domain_per_label=100,\n",
    "#     pickle_path=os.path.join(get_datasets_base_path(), \"metehan.stratified_ds.2022A.pkl\"),\n",
    "#     source_or_target_dataset=\"target\",\n",
    "#     x_transform_func=global_x_transform_func,\n",
    "#     domain_modifier=lambda u: f\"met_{u}\"\n",
    "# )"
   ]
  },
  {
   "cell_type": "code",
   "execution_count": 18,
   "id": "86a863c3",
   "metadata": {
    "execution": {
     "iopub.execute_input": "2022-03-21T02:42:32.610835Z",
     "iopub.status.busy": "2022-03-21T02:42:32.610183Z",
     "iopub.status.idle": "2022-03-21T02:42:32.636596Z",
     "shell.execute_reply": "2022-03-21T02:42:32.635782Z"
    },
    "papermill": {
     "duration": 0.052225,
     "end_time": "2022-03-21T02:42:32.636752",
     "exception": false,
     "start_time": "2022-03-21T02:42:32.584527",
     "status": "completed"
    },
    "tags": []
   },
   "outputs": [],
   "source": [
    "# # from steves_utils.wisig.utils import (\n",
    "# #     ALL_NODES_MINIMUM_100_EXAMPLES,\n",
    "# #     ALL_NODES_MINIMUM_500_EXAMPLES,\n",
    "# #     ALL_NODES_MINIMUM_1000_EXAMPLES,\n",
    "# #     ALL_DAYS\n",
    "# # )\n",
    "\n",
    "# import steves_utils.wisig.utils as wisig\n",
    "\n",
    "\n",
    "# add_dataset(\n",
    "#     labels=wisig.ALL_NODES_MINIMUM_100_EXAMPLES,\n",
    "#     domains = wisig.ALL_DAYS,\n",
    "#     num_examples_per_domain_per_label=100,\n",
    "#     pickle_path=os.path.join(get_datasets_base_path(), \"wisig.node3-19.stratified_ds.2022A.pkl\"),\n",
    "#     source_or_target_dataset=\"target\",\n",
    "#     x_transform_func=global_x_transform_func,\n",
    "#     domain_modifier=lambda u: f\"wisig_{u}\"\n",
    "# )"
   ]
  },
  {
   "cell_type": "code",
   "execution_count": 19,
   "id": "fd5442bc",
   "metadata": {
    "execution": {
     "iopub.execute_input": "2022-03-21T02:42:32.695258Z",
     "iopub.status.busy": "2022-03-21T02:42:32.694675Z",
     "iopub.status.idle": "2022-03-21T02:42:32.716852Z",
     "shell.execute_reply": "2022-03-21T02:42:32.716053Z"
    },
    "papermill": {
     "duration": 0.0543,
     "end_time": "2022-03-21T02:42:32.717006",
     "exception": false,
     "start_time": "2022-03-21T02:42:32.662706",
     "status": "completed"
    },
    "tags": []
   },
   "outputs": [],
   "source": [
    "###################################\n",
    "# Build the dataset\n",
    "###################################\n",
    "train_original_source = Iterable_Aggregator(train_original_source, p.seed)\n",
    "val_original_source = Iterable_Aggregator(val_original_source, p.seed)\n",
    "test_original_source = Iterable_Aggregator(test_original_source, p.seed)\n",
    "\n",
    "\n",
    "train_original_target = Iterable_Aggregator(train_original_target, p.seed)\n",
    "val_original_target = Iterable_Aggregator(val_original_target, p.seed)\n",
    "test_original_target = Iterable_Aggregator(test_original_target, p.seed)\n",
    "\n",
    "# For CNN We only use X and Y. And we only train on the source.\n",
    "# Properly form the data using a transform lambda and Lazy_Iterable_Wrapper. Finally wrap them in a dataloader\n",
    "\n",
    "transform_lambda = lambda ex: ex[1] # Original is (<domain>, <episode>) so we strip down to episode only\n",
    "\n",
    "train_processed_source = Lazy_Iterable_Wrapper(train_original_source, transform_lambda)\n",
    "val_processed_source   = Lazy_Iterable_Wrapper(val_original_source, transform_lambda)\n",
    "test_processed_source  = Lazy_Iterable_Wrapper(test_original_source, transform_lambda)\n",
    "\n",
    "train_processed_target = Lazy_Iterable_Wrapper(train_original_target, transform_lambda)\n",
    "val_processed_target   = Lazy_Iterable_Wrapper(val_original_target, transform_lambda)\n",
    "test_processed_target  = Lazy_Iterable_Wrapper(test_original_target, transform_lambda)\n",
    "\n",
    "datasets = EasyDict({\n",
    "    \"source\": {\n",
    "        \"original\": {\"train\":train_original_source, \"val\":val_original_source, \"test\":test_original_source},\n",
    "        \"processed\": {\"train\":train_processed_source, \"val\":val_processed_source, \"test\":test_processed_source}\n",
    "    },\n",
    "    \"target\": {\n",
    "        \"original\": {\"train\":train_original_target, \"val\":val_original_target, \"test\":test_original_target},\n",
    "        \"processed\": {\"train\":train_processed_target, \"val\":val_processed_target, \"test\":test_processed_target}\n",
    "    },\n",
    "})"
   ]
  },
  {
   "cell_type": "code",
   "execution_count": 20,
   "id": "5b3c01fc",
   "metadata": {
    "execution": {
     "iopub.execute_input": "2022-03-21T02:42:32.770207Z",
     "iopub.status.busy": "2022-03-21T02:42:32.769719Z",
     "iopub.status.idle": "2022-03-21T02:42:41.206202Z",
     "shell.execute_reply": "2022-03-21T02:42:41.205340Z"
    },
    "papermill": {
     "duration": 8.463642,
     "end_time": "2022-03-21T02:42:41.206380",
     "exception": false,
     "start_time": "2022-03-21T02:42:32.742738",
     "status": "completed"
    },
    "tags": []
   },
   "outputs": [
    {
     "name": "stdout",
     "output_type": "stream",
     "text": [
      "{'Wisig_1', 'Wisig_4', 'Wisig_3', 'Wisig_2'}\n"
     ]
    },
    {
     "name": "stdout",
     "output_type": "stream",
     "text": [
      "{'CORES_5', 'CORES_2', 'CORES_3', 'CORES_4', 'CORES_1'}\n"
     ]
    },
    {
     "name": "stdout",
     "output_type": "stream",
     "text": [
      "tensor([[[ 0.2117,  0.1199,  0.5714,  ..., -0.7015,  0.0867,  0.5510],\n",
      "         [-0.0434, -0.3239, -0.7117,  ..., -0.0816, -0.8724, -0.7729]],\n",
      "\n",
      "        [[ 0.2372,  0.6831,  0.4103,  ...,  0.4791,  0.9202,  0.8396],\n",
      "         [ 0.0830, -0.0379,  0.4008,  ..., -0.4411,  0.1044,  0.6759]],\n",
      "\n",
      "        [[-1.8466, -0.4849,  0.8502,  ..., -0.3609, -0.3698, -0.3188],\n",
      "         [-0.8613, -0.9056, -0.6598,  ...,  0.3188, -0.2834, -0.1240]],\n",
      "\n",
      "        ...,\n",
      "\n",
      "        [[-0.3105,  0.4996,  0.2240,  ..., -0.2939, -0.1320, -0.6311],\n",
      "         [-0.2734,  0.0460,  0.5590,  ..., -0.1392,  0.6044,  0.8562]],\n",
      "\n",
      "        [[-0.1296, -0.3200, -0.2023,  ..., -0.8179, -0.2538,  0.1855],\n",
      "         [-0.8770, -1.0349, -0.4784,  ..., -0.3965, -0.6107, -0.4458]],\n",
      "\n",
      "        [[-0.3648, -0.9143, -0.8404,  ...,  0.1937, -0.2579, -0.7120],\n",
      "         [-0.1311,  0.5820,  0.0070,  ...,  0.6725,  0.7661,  0.1562]]])\n"
     ]
    }
   ],
   "source": [
    "from steves_utils.transforms import get_average_magnitude, get_average_power\n",
    "\n",
    "print(set([u for u,_ in val_original_source]))\n",
    "print(set([u for u,_ in val_original_target]))\n",
    "\n",
    "s_x, s_y, q_x, q_y, _ = next(iter(train_processed_source))\n",
    "print(s_x)\n",
    "\n",
    "# for ds in [\n",
    "#     train_processed_source,\n",
    "#     val_processed_source,\n",
    "#     test_processed_source,\n",
    "#     train_processed_target,\n",
    "#     val_processed_target,\n",
    "#     test_processed_target\n",
    "# ]:\n",
    "#     for s_x, s_y, q_x, q_y, _ in ds:\n",
    "#         for X in (s_x, q_x):\n",
    "#             for x in X:\n",
    "#                 assert np.isclose(get_average_magnitude(x.numpy()), 1.0)\n",
    "#                 assert np.isclose(get_average_power(x.numpy()), 1.0)\n",
    "                "
   ]
  },
  {
   "cell_type": "code",
   "execution_count": 21,
   "id": "bbdacba1",
   "metadata": {
    "execution": {
     "iopub.execute_input": "2022-03-21T02:42:41.261512Z",
     "iopub.status.busy": "2022-03-21T02:42:41.261139Z",
     "iopub.status.idle": "2022-03-21T02:42:41.478487Z",
     "shell.execute_reply": "2022-03-21T02:42:41.478783Z"
    },
    "papermill": {
     "duration": 0.2466,
     "end_time": "2022-03-21T02:42:41.478884",
     "exception": false,
     "start_time": "2022-03-21T02:42:41.232284",
     "status": "completed"
    },
    "tags": []
   },
   "outputs": [
    {
     "name": "stdout",
     "output_type": "stream",
     "text": [
      "(2, 256)\n"
     ]
    }
   ],
   "source": [
    "###################################\n",
    "# Build the model\n",
    "###################################\n",
    "# easfsl only wants a tuple for the shape\n",
    "model = Steves_Prototypical_Network(x_net, device=p.device, x_shape=tuple(p.x_shape))\n",
    "optimizer = Adam(params=model.parameters(), lr=p.lr)"
   ]
  },
  {
   "cell_type": "code",
   "execution_count": 22,
   "id": "22b39ac5",
   "metadata": {
    "execution": {
     "iopub.execute_input": "2022-03-21T02:42:41.530043Z",
     "iopub.status.busy": "2022-03-21T02:42:41.529671Z",
     "iopub.status.idle": "2022-03-21T02:47:19.710058Z",
     "shell.execute_reply": "2022-03-21T02:47:19.710751Z"
    },
    "papermill": {
     "duration": 278.209017,
     "end_time": "2022-03-21T02:47:19.710961",
     "exception": false,
     "start_time": "2022-03-21T02:42:41.501944",
     "status": "completed"
    },
    "tags": []
   },
   "outputs": [
    {
     "name": "stdout",
     "output_type": "stream",
     "text": [
      "epoch: 1, [batch: 1 / 909], examples_per_second: 200.8108, train_label_loss: 3.9340, \n"
     ]
    },
    {
     "name": "stdout",
     "output_type": "stream",
     "text": [
      "epoch: 1, [batch: 91 / 909], examples_per_second: 4280.0700, train_label_loss: 1.0759, \n"
     ]
    },
    {
     "name": "stdout",
     "output_type": "stream",
     "text": [
      "epoch: 1, [batch: 182 / 909], examples_per_second: 3385.5303, train_label_loss: 0.8975, \n"
     ]
    },
    {
     "name": "stdout",
     "output_type": "stream",
     "text": [
      "epoch: 1, [batch: 273 / 909], examples_per_second: 3079.0031, train_label_loss: 0.5796, \n"
     ]
    },
    {
     "name": "stdout",
     "output_type": "stream",
     "text": [
      "epoch: 1, [batch: 364 / 909], examples_per_second: 3096.1796, train_label_loss: 0.6381, \n"
     ]
    },
    {
     "name": "stdout",
     "output_type": "stream",
     "text": [
      "epoch: 1, [batch: 455 / 909], examples_per_second: 3048.7484, train_label_loss: 0.2866, \n"
     ]
    },
    {
     "name": "stdout",
     "output_type": "stream",
     "text": [
      "epoch: 1, [batch: 545 / 909], examples_per_second: 3065.5269, train_label_loss: 0.5401, \n"
     ]
    },
    {
     "name": "stdout",
     "output_type": "stream",
     "text": [
      "epoch: 1, [batch: 636 / 909], examples_per_second: 2973.2167, train_label_loss: 0.6984, \n"
     ]
    },
    {
     "name": "stdout",
     "output_type": "stream",
     "text": [
      "epoch: 1, [batch: 727 / 909], examples_per_second: 3012.1657, train_label_loss: 0.4976, \n"
     ]
    },
    {
     "name": "stdout",
     "output_type": "stream",
     "text": [
      "epoch: 1, [batch: 818 / 909], examples_per_second: 3026.5896, train_label_loss: 0.5857, \n"
     ]
    },
    {
     "name": "stdout",
     "output_type": "stream",
     "text": [
      "=============================================================\n",
      "epoch: 1, source_val_acc_label: 0.9337, target_val_acc_label: 0.9738, source_val_label_loss: 0.3371, target_val_label_loss: 0.2034, \n",
      "=============================================================\n"
     ]
    },
    {
     "name": "stdout",
     "output_type": "stream",
     "text": [
      "New best\n"
     ]
    },
    {
     "name": "stdout",
     "output_type": "stream",
     "text": [
      "epoch: 2, [batch: 1 / 910], examples_per_second: 24.9333, train_label_loss: 0.1839, \n"
     ]
    },
    {
     "name": "stdout",
     "output_type": "stream",
     "text": [
      "epoch: 2, [batch: 91 / 910], examples_per_second: 3650.3520, train_label_loss: 0.2836, \n"
     ]
    },
    {
     "name": "stdout",
     "output_type": "stream",
     "text": [
      "epoch: 2, [batch: 182 / 910], examples_per_second: 3488.1922, train_label_loss: 0.3689, \n"
     ]
    },
    {
     "name": "stdout",
     "output_type": "stream",
     "text": [
      "epoch: 2, [batch: 273 / 910], examples_per_second: 3516.6253, train_label_loss: 0.5529, \n"
     ]
    },
    {
     "name": "stdout",
     "output_type": "stream",
     "text": [
      "epoch: 2, [batch: 364 / 910], examples_per_second: 3835.4075, train_label_loss: 0.2969, \n"
     ]
    },
    {
     "name": "stdout",
     "output_type": "stream",
     "text": [
      "epoch: 2, [batch: 455 / 910], examples_per_second: 4571.9500, train_label_loss: 0.1379, \n"
     ]
    },
    {
     "name": "stdout",
     "output_type": "stream",
     "text": [
      "epoch: 2, [batch: 546 / 910], examples_per_second: 3490.3485, train_label_loss: 0.2212, \n"
     ]
    },
    {
     "name": "stdout",
     "output_type": "stream",
     "text": [
      "epoch: 2, [batch: 637 / 910], examples_per_second: 3600.8175, train_label_loss: 0.3309, \n"
     ]
    },
    {
     "name": "stdout",
     "output_type": "stream",
     "text": [
      "epoch: 2, [batch: 728 / 910], examples_per_second: 3525.5206, train_label_loss: 0.2852, \n"
     ]
    },
    {
     "name": "stdout",
     "output_type": "stream",
     "text": [
      "epoch: 2, [batch: 819 / 910], examples_per_second: 3484.8489, train_label_loss: 0.2493, \n"
     ]
    },
    {
     "name": "stdout",
     "output_type": "stream",
     "text": [
      "=============================================================\n",
      "epoch: 2, source_val_acc_label: 0.9512, target_val_acc_label: 0.9759, source_val_label_loss: 0.2616, target_val_label_loss: 0.1620, \n",
      "=============================================================\n"
     ]
    },
    {
     "name": "stdout",
     "output_type": "stream",
     "text": [
      "New best\n"
     ]
    },
    {
     "name": "stdout",
     "output_type": "stream",
     "text": [
      "epoch: 3, [batch: 1 / 916], examples_per_second: 27.4784, train_label_loss: 0.4995, \n"
     ]
    },
    {
     "name": "stdout",
     "output_type": "stream",
     "text": [
      "epoch: 3, [batch: 92 / 916], examples_per_second: 3036.0393, train_label_loss: 0.2512, \n"
     ]
    },
    {
     "name": "stdout",
     "output_type": "stream",
     "text": [
      "epoch: 3, [batch: 184 / 916], examples_per_second: 3038.1111, train_label_loss: 0.0525, \n"
     ]
    },
    {
     "name": "stdout",
     "output_type": "stream",
     "text": [
      "epoch: 3, [batch: 275 / 916], examples_per_second: 3146.2131, train_label_loss: 0.5240, \n"
     ]
    },
    {
     "name": "stdout",
     "output_type": "stream",
     "text": [
      "epoch: 3, [batch: 367 / 916], examples_per_second: 3415.0490, train_label_loss: 0.1141, \n"
     ]
    },
    {
     "name": "stdout",
     "output_type": "stream",
     "text": [
      "epoch: 3, [batch: 458 / 916], examples_per_second: 3487.1703, train_label_loss: 0.4103, \n"
     ]
    },
    {
     "name": "stdout",
     "output_type": "stream",
     "text": [
      "epoch: 3, [batch: 550 / 916], examples_per_second: 3623.2490, train_label_loss: 0.1590, \n"
     ]
    },
    {
     "name": "stdout",
     "output_type": "stream",
     "text": [
      "epoch: 3, [batch: 641 / 916], examples_per_second: 3375.5512, train_label_loss: 0.2863, \n"
     ]
    },
    {
     "name": "stdout",
     "output_type": "stream",
     "text": [
      "epoch: 3, [batch: 733 / 916], examples_per_second: 3443.6825, train_label_loss: 0.1291, \n"
     ]
    },
    {
     "name": "stdout",
     "output_type": "stream",
     "text": [
      "epoch: 3, [batch: 824 / 916], examples_per_second: 3476.9162, train_label_loss: 0.1714, \n"
     ]
    },
    {
     "name": "stdout",
     "output_type": "stream",
     "text": [
      "=============================================================\n",
      "epoch: 3, source_val_acc_label: 0.9590, target_val_acc_label: 0.9777, source_val_label_loss: 0.2276, target_val_label_loss: 0.1414, \n",
      "=============================================================\n"
     ]
    },
    {
     "name": "stdout",
     "output_type": "stream",
     "text": [
      "New best\n"
     ]
    }
   ],
   "source": [
    "###################################\n",
    "# train\n",
    "###################################\n",
    "jig = PTN_Train_Eval_Test_Jig(model, p.BEST_MODEL_PATH, p.device)\n",
    "\n",
    "jig.train(\n",
    "    train_iterable=datasets.source.processed.train,\n",
    "    source_val_iterable=datasets.source.processed.val,\n",
    "    target_val_iterable=datasets.target.processed.val,\n",
    "    num_epochs=p.n_epoch,\n",
    "    num_logs_per_epoch=p.NUM_LOGS_PER_EPOCH,\n",
    "    patience=p.patience,\n",
    "    optimizer=optimizer,\n",
    "    criteria_for_best=p.criteria_for_best,\n",
    ")"
   ]
  },
  {
   "cell_type": "code",
   "execution_count": 23,
   "id": "31e8fabf",
   "metadata": {
    "execution": {
     "iopub.execute_input": "2022-03-21T02:47:19.788002Z",
     "iopub.status.busy": "2022-03-21T02:47:19.787554Z",
     "iopub.status.idle": "2022-03-21T02:47:19.818677Z",
     "shell.execute_reply": "2022-03-21T02:47:19.817894Z"
    },
    "papermill": {
     "duration": 0.069087,
     "end_time": "2022-03-21T02:47:19.818853",
     "exception": false,
     "start_time": "2022-03-21T02:47:19.749766",
     "status": "completed"
    },
    "tags": []
   },
   "outputs": [],
   "source": [
    "total_experiment_time_secs = time.time() - start_time_secs"
   ]
  },
  {
   "cell_type": "code",
   "execution_count": 24,
   "id": "87b9595b",
   "metadata": {
    "execution": {
     "iopub.execute_input": "2022-03-21T02:47:19.901422Z",
     "iopub.status.busy": "2022-03-21T02:47:19.900739Z",
     "iopub.status.idle": "2022-03-21T02:48:26.193955Z",
     "shell.execute_reply": "2022-03-21T02:48:26.194618Z"
    },
    "papermill": {
     "duration": 66.336566,
     "end_time": "2022-03-21T02:48:26.194840",
     "exception": false,
     "start_time": "2022-03-21T02:47:19.858274",
     "status": "completed"
    },
    "tags": []
   },
   "outputs": [],
   "source": [
    "###################################\n",
    "# Evaluate the model\n",
    "###################################\n",
    "source_test_label_accuracy, source_test_label_loss = jig.test(datasets.source.processed.test)\n",
    "target_test_label_accuracy, target_test_label_loss = jig.test(datasets.target.processed.test)\n",
    "\n",
    "source_val_label_accuracy, source_val_label_loss = jig.test(datasets.source.processed.val)\n",
    "target_val_label_accuracy, target_val_label_loss = jig.test(datasets.target.processed.val)\n",
    "\n",
    "history = jig.get_history()\n",
    "\n",
    "total_epochs_trained = len(history[\"epoch_indices\"])\n",
    "\n",
    "val_dl = Iterable_Aggregator((datasets.source.original.val,datasets.target.original.val))\n",
    "\n",
    "confusion = ptn_confusion_by_domain_over_dataloader(model, p.device, val_dl)\n",
    "per_domain_accuracy = per_domain_accuracy_from_confusion(confusion)\n",
    "\n",
    "# Add a key to per_domain_accuracy for if it was a source domain\n",
    "for domain, accuracy in per_domain_accuracy.items():\n",
    "    per_domain_accuracy[domain] = {\n",
    "        \"accuracy\": accuracy,\n",
    "        \"source?\": domain in p.domains_source\n",
    "    }\n",
    "\n",
    "# Do an independent accuracy assesment JUST TO BE SURE!\n",
    "# _source_test_label_accuracy = independent_accuracy_assesment(model, datasets.source.processed.test, p.device)\n",
    "# _target_test_label_accuracy = independent_accuracy_assesment(model, datasets.target.processed.test, p.device)\n",
    "# _source_val_label_accuracy = independent_accuracy_assesment(model, datasets.source.processed.val, p.device)\n",
    "# _target_val_label_accuracy = independent_accuracy_assesment(model, datasets.target.processed.val, p.device)\n",
    "\n",
    "# assert(_source_test_label_accuracy == source_test_label_accuracy)\n",
    "# assert(_target_test_label_accuracy == target_test_label_accuracy)\n",
    "# assert(_source_val_label_accuracy == source_val_label_accuracy)\n",
    "# assert(_target_val_label_accuracy == target_val_label_accuracy)\n",
    "\n",
    "experiment = {\n",
    "    \"experiment_name\": p.experiment_name,\n",
    "    \"parameters\": dict(p),\n",
    "    \"results\": {\n",
    "        \"source_test_label_accuracy\": source_test_label_accuracy,\n",
    "        \"source_test_label_loss\": source_test_label_loss,\n",
    "        \"target_test_label_accuracy\": target_test_label_accuracy,\n",
    "        \"target_test_label_loss\": target_test_label_loss,\n",
    "        \"source_val_label_accuracy\": source_val_label_accuracy,\n",
    "        \"source_val_label_loss\": source_val_label_loss,\n",
    "        \"target_val_label_accuracy\": target_val_label_accuracy,\n",
    "        \"target_val_label_loss\": target_val_label_loss,\n",
    "        \"total_epochs_trained\": total_epochs_trained,\n",
    "        \"total_experiment_time_secs\": total_experiment_time_secs,\n",
    "        \"confusion\": confusion,\n",
    "        \"per_domain_accuracy\": per_domain_accuracy,\n",
    "    },\n",
    "    \"history\": history,\n",
    "    \"dataset_metrics\": get_dataset_metrics(datasets, \"ptn\"),\n",
    "}"
   ]
  },
  {
   "cell_type": "code",
   "execution_count": 25,
   "id": "54a21829",
   "metadata": {
    "execution": {
     "iopub.execute_input": "2022-03-21T02:48:26.276952Z",
     "iopub.status.busy": "2022-03-21T02:48:26.276573Z",
     "iopub.status.idle": "2022-03-21T02:48:26.483585Z",
     "shell.execute_reply": "2022-03-21T02:48:26.484264Z"
    },
    "papermill": {
     "duration": 0.249163,
     "end_time": "2022-03-21T02:48:26.484474",
     "exception": false,
     "start_time": "2022-03-21T02:48:26.235311",
     "status": "completed"
    },
    "tags": []
   },
   "outputs": [
    {
     "data": {
      "image/png": "[encoded data removed]",
      "text/plain": [
       "<Figure size 1080x504 with 1 Axes>"
      ]
     },
     "metadata": {
      "needs_background": "light"
     },
     "output_type": "display_data"
    }
   ],
   "source": [
    "ax = get_loss_curve(experiment)\n",
    "plt.show()"
   ]
  },
  {
   "cell_type": "code",
   "execution_count": 26,
   "id": "fd8a0f60",
   "metadata": {
    "execution": {
     "iopub.execute_input": "2022-03-21T02:48:26.559855Z",
     "iopub.status.busy": "2022-03-21T02:48:26.559465Z",
     "iopub.status.idle": "2022-03-21T02:48:26.878479Z",
     "shell.execute_reply": "2022-03-21T02:48:26.878791Z"
    },
    "papermill": {
     "duration": 0.354989,
     "end_time": "2022-03-21T02:48:26.878910",
     "exception": false,
     "start_time": "2022-03-21T02:48:26.523921",
     "status": "completed"
    },
    "tags": []
   },
   "outputs": [
    {
     "data": {
      "text/plain": [
       "<AxesSubplot:title={'center':'Results'}>"
      ]
     },
     "execution_count": 26,
     "metadata": {},
     "output_type": "execute_result"
    },
    {
     "data": {
      "image/png": "[encoded data removed]",
      "text/plain": [
       "<Figure size 1080x504 with 1 Axes>"
      ]
     },
     "metadata": {
      "needs_background": "light"
     },
     "output_type": "display_data"
    }
   ],
   "source": [
    "get_results_table(experiment)"
   ]
  },
  {
   "cell_type": "code",
   "execution_count": 27,
   "id": "cf8dc689",
   "metadata": {
    "execution": {
     "iopub.execute_input": "2022-03-21T02:48:26.959665Z",
     "iopub.status.busy": "2022-03-21T02:48:26.959271Z",
     "iopub.status.idle": "2022-03-21T02:48:27.195762Z",
     "shell.execute_reply": "2022-03-21T02:48:27.196434Z"
    },
    "papermill": {
     "duration": 0.276059,
     "end_time": "2022-03-21T02:48:27.196660",
     "exception": false,
     "start_time": "2022-03-21T02:48:26.920601",
     "status": "completed"
    },
    "tags": []
   },
   "outputs": [
    {
     "data": {
      "text/plain": [
       "<AxesSubplot:title={'center':'Per Domain Validation Accuracy'}, xlabel='domain'>"
      ]
     },
     "execution_count": 27,
     "metadata": {},
     "output_type": "execute_result"
    },
    {
     "data": {
      "image/png": "[encoded data removed]",
      "text/plain": [
       "<Figure size 1080x504 with 1 Axes>"
      ]
     },
     "metadata": {
      "needs_background": "light"
     },
     "output_type": "display_data"
    }
   ],
   "source": [
    "get_domain_accuracies(experiment)"
   ]
  },
  {
   "cell_type": "code",
   "execution_count": 28,
   "id": "a74ae082",
   "metadata": {
    "execution": {
     "iopub.execute_input": "2022-03-21T02:48:27.279002Z",
     "iopub.status.busy": "2022-03-21T02:48:27.278624Z",
     "iopub.status.idle": "2022-03-21T02:48:27.300624Z",
     "shell.execute_reply": "2022-03-21T02:48:27.301285Z"
    },
    "papermill": {
     "duration": 0.063177,
     "end_time": "2022-03-21T02:48:27.301482",
     "exception": false,
     "start_time": "2022-03-21T02:48:27.238305",
     "status": "completed"
    },
    "tags": []
   },
   "outputs": [
    {
     "name": "stdout",
     "output_type": "stream",
     "text": [
      "Source Test Label Accuracy: 0.9624112576064908 Target Test Label Accuracy: 0.9801724137931035\n",
      "Source Val Label Accuracy: 0.958984375 Target Val Label Accuracy: 0.9777298850574713\n"
     ]
    }
   ],
   "source": [
    "print(\"Source Test Label Accuracy:\", experiment[\"results\"][\"source_test_label_accuracy\"], \"Target Test Label Accuracy:\", experiment[\"results\"][\"target_test_label_accuracy\"])\n",
    "print(\"Source Val Label Accuracy:\", experiment[\"results\"][\"source_val_label_accuracy\"], \"Target Val Label Accuracy:\", experiment[\"results\"][\"target_val_label_accuracy\"])"
   ]
  },
  {
   "cell_type": "code",
   "execution_count": 29,
   "id": "dacca602",
   "metadata": {
    "execution": {
     "iopub.execute_input": "2022-03-21T02:48:27.385217Z",
     "iopub.status.busy": "2022-03-21T02:48:27.384835Z",
     "iopub.status.idle": "2022-03-21T02:48:27.407923Z",
     "shell.execute_reply": "2022-03-21T02:48:27.408427Z"
    },
    "papermill": {
     "duration": 0.063626,
     "end_time": "2022-03-21T02:48:27.408575",
     "exception": false,
     "start_time": "2022-03-21T02:48:27.344949",
     "status": "completed"
    },
    "tags": [
     "experiment_json"
    ]
   },
   "outputs": [
    {
     "data": {
      "text/plain": [
       "'{\"experiment_name\": \"tl_1v2:cores-wisig\", \"parameters\": {\"experiment_name\": \"tl_1v2:cores-wisig\", \"device\": \"cuda\", \"lr\": 0.0001, \"n_shot\": 3, \"n_query\": 2, \"train_k_factor\": 3, \"val_k_factor\": 2, \"test_k_factor\": 2, \"torch_default_dtype\": \"torch.float32\", \"n_epoch\": 3, \"patience\": 3, \"criteria_for_best\": \"target_accuracy\", \"x_net\": [{\"class\": \"nnReshape\", \"kargs\": {\"shape\": [-1, 1, 2, 256]}}, {\"class\": \"Conv2d\", \"kargs\": {\"in_channels\": 1, \"out_channels\": 256, \"kernel_size\": [1, 7], \"bias\": false, \"padding\": [0, 3]}}, {\"class\": \"ReLU\", \"kargs\": {\"inplace\": true}}, {\"class\": \"BatchNorm2d\", \"kargs\": {\"num_features\": 256}}, {\"class\": \"Conv2d\", \"kargs\": {\"in_channels\": 256, \"out_channels\": 80, \"kernel_size\": [2, 7], \"bias\": true, \"padding\": [0, 3]}}, {\"class\": \"ReLU\", \"kargs\": {\"inplace\": true}}, {\"class\": \"BatchNorm2d\", \"kargs\": {\"num_features\": 80}}, {\"class\": \"Flatten\", \"kargs\": {}}, {\"class\": \"Linear\", \"kargs\": {\"in_features\": 20480, \"out_features\": 256}}, {\"class\": \"ReLU\", \"kargs\": {\"inplace\": true}}, {\"class\": \"BatchNorm1d\", \"kargs\": {\"num_features\": 256}}, {\"class\": \"Linear\", \"kargs\": {\"in_features\": 256, \"out_features\": 256}}], \"NUM_LOGS_PER_EPOCH\": 10, \"BEST_MODEL_PATH\": \"./best_model.pth\", \"n_way\": 58, \"datasets\": [{\"labels\": [\"1-10.\", \"1-11.\", \"1-15.\", \"1-16.\", \"1-17.\", \"1-18.\", \"1-19.\", \"10-4.\", \"10-7.\", \"11-1.\", \"11-14.\", \"11-17.\", \"11-20.\", \"11-7.\", \"13-20.\", \"13-8.\", \"14-10.\", \"14-11.\", \"14-14.\", \"14-7.\", \"15-1.\", \"15-20.\", \"16-1.\", \"16-16.\", \"17-10.\", \"17-11.\", \"17-2.\", \"19-1.\", \"19-16.\", \"19-19.\", \"19-20.\", \"19-3.\", \"2-10.\", \"2-11.\", \"2-17.\", \"2-18.\", \"2-20.\", \"2-3.\", \"2-4.\", \"2-5.\", \"2-6.\", \"2-7.\", \"2-8.\", \"3-13.\", \"3-18.\", \"3-3.\", \"4-1.\", \"4-10.\", \"4-11.\", \"4-19.\", \"5-5.\", \"6-15.\", \"7-10.\", \"7-14.\", \"8-18.\", \"8-20.\", \"8-3.\", \"8-8.\"], \"domains\": [1, 2, 3, 4, 5], \"num_examples_per_domain_per_label\": -1, \"pickle_path\": \"/root/csc500-main/datasets/cores.stratified_ds.2022A.pkl\", \"source_or_target_dataset\": \"target\", \"x_transforms\": [\"unit_power\"], \"episode_transforms\": [], \"domain_prefix\": \"CORES_\"}, {\"labels\": [\"1-10\", \"1-12\", \"1-14\", \"1-16\", \"1-18\", \"1-19\", \"1-8\", \"10-11\", \"10-17\", \"10-4\", \"10-7\", \"11-1\", \"11-10\", \"11-19\", \"11-20\", \"11-4\", \"11-7\", \"12-19\", \"12-20\", \"12-7\", \"13-14\", \"13-18\", \"13-19\", \"13-20\", \"13-3\", \"13-7\", \"14-10\", \"14-11\", \"14-12\", \"14-13\", \"14-14\", \"14-19\", \"14-20\", \"14-7\", \"14-8\", \"14-9\", \"15-1\", \"15-19\", \"15-6\", \"16-1\", \"16-16\", \"16-19\", \"16-20\", \"17-10\", \"17-11\", \"18-1\", \"18-10\", \"18-11\", \"18-12\", \"18-13\", \"18-14\", \"18-15\", \"18-16\", \"18-17\", \"18-19\", \"18-2\", \"18-20\", \"18-4\", \"18-5\", \"18-7\", \"18-8\", \"18-9\", \"19-1\", \"19-10\", \"19-11\", \"19-12\", \"19-13\", \"19-14\", \"19-15\", \"19-19\", \"19-2\", \"19-20\", \"19-3\", \"19-4\", \"19-6\", \"19-7\", \"19-8\", \"19-9\", \"2-1\", \"2-13\", \"2-15\", \"2-3\", \"2-4\", \"2-5\", \"2-6\", \"2-7\", \"2-8\", \"20-1\", \"20-12\", \"20-14\", \"20-15\", \"20-16\", \"20-18\", \"20-19\", \"20-20\", \"20-3\", \"20-4\", \"20-5\", \"20-7\", \"20-8\", \"3-1\", \"3-13\", \"3-18\", \"3-2\", \"3-8\", \"4-1\", \"4-10\", \"4-11\", \"5-1\", \"5-5\", \"6-1\", \"6-15\", \"6-6\", \"7-10\", \"7-11\", \"7-12\", \"7-13\", \"7-14\", \"7-7\", \"7-8\", \"7-9\", \"8-1\", \"8-13\", \"8-14\", \"8-18\", \"8-20\", \"8-3\", \"8-8\", \"9-1\", \"9-7\"], \"domains\": [1, 2, 3, 4], \"num_examples_per_domain_per_label\": -1, \"pickle_path\": \"/root/csc500-main/datasets/wisig.node3-19.stratified_ds.2022A.pkl\", \"source_or_target_dataset\": \"source\", \"x_transforms\": [\"unit_power\"], \"episode_transforms\": [], \"domain_prefix\": \"Wisig_\"}], \"dataset_seed\": 420, \"seed\": 420, \"x_shape\": [2, 256], \"domains_source\": [\"Wisig_1\", \"Wisig_2\", \"Wisig_3\", \"Wisig_4\"], \"domains_target\": [\"CORES_1\", \"CORES_2\", \"CORES_3\", \"CORES_4\", \"CORES_5\"]}, \"results\": {\"source_test_label_accuracy\": 0.9624112576064908, \"source_test_label_loss\": 0.20995654165744781, \"target_test_label_accuracy\": 0.9801724137931035, \"target_test_label_loss\": 0.13848572969436646, \"source_val_label_accuracy\": 0.958984375, \"source_val_label_loss\": 0.22755946218967438, \"target_val_label_accuracy\": 0.9777298850574713, \"target_val_label_loss\": 0.1413925588130951, \"total_epochs_trained\": 3, \"total_experiment_time_secs\": 331.2194492816925, \"confusion\": {\"Wisig_3\": {\"10\": {\"10\": 36}, \"120\": {\"120\": 20}, \"111\": {\"111\": 41, \"23\": 1}, \"54\": {\"54\": 16}, \"39\": {\"39\": 43, \"93\": 1}, \"77\": {\"77\": 16}, \"51\": {\"51\": 14, \"15\": 1, \"97\": 1}, \"85\": {\"85\": 36}, \"53\": {\"53\": 19, \"20\": 1}, \"29\": {\"29\": 32}, \"32\": {\"32\": 31, \"24\": 1}, \"37\": {\"37\": 15, \"65\": 1}, \"30\": {\"30\": 44}, \"116\": {\"116\": 28}, \"80\": {\"80\": 14, \"54\": 1, \"29\": 1}, \"13\": {\"13\": 10, \"39\": 1, \"92\": 3, \"109\": 1, \"121\": 1}, \"41\": {\"41\": 16}, \"95\": {\"95\": 31, \"7\": 1}, \"100\": {\"100\": 16}, \"45\": {\"45\": 16}, \"89\": {\"89\": 28}, \"76\": {\"76\": 16}, \"113\": {\"113\": 36, \"17\": 1, \"43\": 1}, \"81\": {\"81\": 30}, \"79\": {\"79\": 12}, \"33\": {\"33\": 36}, \"1\": {\"1\": 34}, \"5\": {\"5\": 36}, \"63\": {\"63\": 16}, \"47\": {\"47\": 10, \"89\": 2}, \"122\": {\"122\": 31, \"113\": 1}, \"21\": {\"21\": 41, \"70\": 1, \"32\": 1, \"93\": 1}, \"15\": {\"15\": 44}, \"50\": {\"50\": 16}, \"62\": {\"62\": 38}, \"56\": {\"56\": 12}, \"66\": {\"66\": 16}, \"52\": {\"52\": 16}, \"93\": {\"93\": 46}, \"128\": {\"128\": 32}, \"99\": {\"99\": 33, \"17\": 1}, \"110\": {\"110\": 45, \"29\": 1}, \"114\": {\"114\": 41, \"21\": 1, \"106\": 1, \"89\": 1}, \"90\": {\"90\": 36}, \"105\": {\"105\": 42}, \"115\": {\"115\": 16}, \"22\": {\"22\": 16}, \"61\": {\"61\": 16}, \"84\": {\"84\": 34}, \"48\": {\"48\": 14, \"115\": 2}, \"98\": {\"98\": 44}, \"106\": {\"106\": 46}, \"83\": {\"83\": 21, \"11\": 1, \"127\": 1, \"96\": 1}, \"8\": {\"8\": 33, \"70\": 1}, \"58\": {\"58\": 16}, \"70\": {\"70\": 38, \"78\": 1, \"12\": 1, \"121\": 1, \"39\": 1, \"109\": 2, \"4\": 1, \"21\": 1}, \"43\": {\"43\": 43, \"78\": 1, \"87\": 3, \"96\": 1, \"113\": 1, \"24\": 1}, \"20\": {\"20\": 16}, \"14\": {\"14\": 40}, \"46\": {\"46\": 16}, \"18\": {\"18\": 44}, \"38\": {\"38\": 14, \"62\": 1, \"29\": 1}, \"59\": {\"59\": 12}, \"35\": {\"35\": 10, \"9\": 1, \"43\": 1}, \"57\": {\"57\": 17, \"17\": 1, \"74\": 1, \"62\": 1}, \"102\": {\"102\": 44}, \"28\": {\"28\": 16}, \"6\": {\"6\": 32}, \"3\": {\"3\": 40, \"62\": 1, \"21\": 1}, \"88\": {\"88\": 40, \"39\": 1, \"121\": 1, \"21\": 2}, \"25\": {\"25\": 16}, \"60\": {\"60\": 28}, \"87\": {\"87\": 43, \"97\": 1, \"21\": 1, \"105\": 1}, \"19\": {\"19\": 30, \"128\": 1, \"17\": 1}, \"124\": {\"19\": 1, \"124\": 38, \"13\": 1}, \"0\": {\"0\": 36}, \"16\": {\"16\": 29, \"101\": 1}, \"40\": {\"40\": 45, \"122\": 1}, \"24\": {\"24\": 39, \"17\": 1, \"21\": 1, \"106\": 1}, \"49\": {\"49\": 22, \"57\": 2}, \"23\": {\"23\": 32}, \"108\": {\"108\": 40, \"88\": 1, \"112\": 1}, \"97\": {\"97\": 20}, \"103\": {\"103\": 16}, \"96\": {\"96\": 20}, \"73\": {\"73\": 34, \"121\": 1, \"29\": 1}, \"11\": {\"11\": 32}, \"55\": {\"55\": 16}, \"82\": {\"82\": 28}, \"86\": {\"86\": 27, \"12\": 1}, \"12\": {\"12\": 42}, \"64\": {\"64\": 20}, \"31\": {\"31\": 19, \"27\": 1}, \"127\": {\"127\": 35, \"88\": 1}, \"123\": {\"123\": 16}, \"4\": {\"4\": 35, \"121\": 1}, \"101\": {\"101\": 31, \"70\": 1, \"113\": 1, \"39\": 1}, \"121\": {\"121\": 28, \"21\": 1, \"71\": 1}, \"67\": {\"67\": 16}, \"92\": {\"92\": 30, \"78\": 1, \"90\": 1}, \"119\": {\"119\": 16}, \"9\": {\"9\": 26}, \"112\": {\"112\": 15, \"94\": 1}, \"2\": {\"2\": 28}, \"117\": {\"117\": 38}, \"125\": {\"125\": 35, \"121\": 1}, \"75\": {\"75\": 16}, \"104\": {\"104\": 16}, \"78\": {\"99\": 1, \"21\": 1, \"78\": 10, \"122\": 1, \"71\": 1, \"24\": 1, \"60\": 1}, \"68\": {\"68\": 16}, \"118\": {\"118\": 34}, \"72\": {\"72\": 28}, \"36\": {\"36\": 33, \"27\": 3}, \"26\": {\"26\": 42}, \"34\": {\"34\": 29, \"116\": 1}, \"69\": {\"69\": 35, \"70\": 1}, \"65\": {\"65\": 12}, \"109\": {\"109\": 35, \"29\": 1}, \"107\": {\"107\": 32}, \"7\": {\"7\": 37, \"95\": 1}, \"94\": {\"94\": 37, \"117\": 1}, \"27\": {\"27\": 38, \"36\": 3, \"24\": 1}, \"42\": {\"42\": 28}, \"91\": {\"53\": 1, \"22\": 1, \"91\": 20, \"29\": 1, \"94\": 1}, \"71\": {\"71\": 44, \"70\": 1, \"39\": 1}, \"126\": {\"126\": 23, \"39\": 1}, \"17\": {\"117\": 1, \"17\": 12, \"39\": 1, \"122\": 2}, \"74\": {\"74\": 16}, \"44\": {\"44\": 30}, \"129\": {\"129\": 30}}, \"Wisig_2\": {\"80\": {\"80\": 16}, \"85\": {\"85\": 32}, \"100\": {\"100\": 16}, \"129\": {\"129\": 32}, \"82\": {\"82\": 34, \"110\": 1, \"107\": 1}, \"112\": {\"49\": 1, \"112\": 12, \"44\": 1, \"53\": 1, \"47\": 1}, \"125\": {\"125\": 48}, \"89\": {\"89\": 33, \"121\": 1}, \"10\": {\"10\": 40, \"14\": 1, \"21\": 3, \"88\": 1, \"78\": 1}, \"63\": {\"63\": 20}, \"83\": {\"83\": 40}, \"28\": {\"28\": 20}, \"117\": {\"117\": 41, \"30\": 1}, \"49\": {\"49\": 21, \"46\": 1, \"11\": 1, \"51\": 1}, \"71\": {\"71\": 42}, \"62\": {\"62\": 42, \"80\": 1, \"30\": 1}, \"99\": {\"99\": 31, \"107\": 1}, \"108\": {\"108\": 48}, \"120\": {\"120\": 19, \"21\": 1}, \"9\": {\"9\": 26}, \"73\": {\"73\": 26, \"110\": 1, \"49\": 1}, \"7\": {\"7\": 36, \"30\": 1, \"107\": 1}, \"1\": {\"1\": 47, \"88\": 1}, \"123\": {\"123\": 16}, \"97\": {\"97\": 18, \"80\": 1, \"15\": 1}, \"114\": {\"114\": 42}, \"48\": {\"48\": 20}, \"115\": {\"115\": 12}, \"13\": {\"13\": 13, \"110\": 1, \"112\": 1, \"88\": 1}, \"66\": {\"66\": 20}, \"53\": {\"53\": 16}, \"40\": {\"40\": 42}, \"33\": {\"33\": 51, \"84\": 1}, \"27\": {\"27\": 36, \"30\": 1, \"21\": 1, \"36\": 3, \"24\": 1}, \"101\": {\"101\": 32}, \"95\": {\"95\": 35, \"51\": 1}, \"34\": {\"34\": 32}, \"105\": {\"105\": 38}, \"122\": {\"122\": 39, \"5\": 1}, \"127\": {\"127\": 43, \"124\": 1}, \"0\": {\"0\": 44, \"8\": 1, \"110\": 1}, \"74\": {\"74\": 16}, \"116\": {\"116\": 27, \"21\": 1}, \"78\": {\"78\": 34, \"95\": 2, \"84\": 2, \"107\": 1, \"10\": 1, \"4\": 1, \"66\": 1, \"87\": 1, \"110\": 1}, \"68\": {\"68\": 13, \"32\": 2, \"21\": 1}, \"18\": {\"18\": 35, \"72\": 1}, \"15\": {\"15\": 44, \"95\": 1, \"21\": 1}, \"26\": {\"26\": 39, \"109\": 1}, \"50\": {\"97\": 1, \"50\": 14, \"41\": 1}, \"92\": {\"92\": 26, \"122\": 1, \"107\": 1}, \"56\": {\"56\": 12}, \"75\": {\"75\": 16}, \"37\": {\"37\": 16}, \"3\": {\"3\": 40}, \"118\": {\"118\": 51, \"107\": 1}, \"11\": {\"11\": 42, \"107\": 1, \"95\": 1}, \"17\": {\"17\": 15, \"13\": 1}, \"94\": {\"94\": 42, \"110\": 2, \"36\": 1, \"58\": 1, \"107\": 1, \"24\": 1}, \"54\": {\"54\": 19, \"88\": 1}, \"109\": {\"109\": 50, \"107\": 1, \"88\": 1}, \"128\": {\"128\": 22, \"49\": 1, \"52\": 1}, \"22\": {\"22\": 19, \"13\": 1}, \"57\": {\"57\": 20}, \"103\": {\"103\": 16}, \"70\": {\"70\": 36, \"21\": 3, \"30\": 1, \"110\": 1, \"17\": 1}, \"72\": {\"72\": 28}, \"77\": {\"77\": 16}, \"2\": {\"2\": 32}, \"20\": {\"51\": 1, \"20\": 14, \"80\": 1}, \"51\": {\"58\": 1, \"75\": 1, \"51\": 14, \"42\": 1, \"97\": 3}, \"58\": {\"58\": 18, \"77\": 2}, \"52\": {\"52\": 19, \"42\": 1}, \"106\": {\"106\": 28}, \"5\": {\"5\": 39, \"109\": 1}, \"8\": {\"8\": 41, \"21\": 1}, \"6\": {\"6\": 32}, \"44\": {\"44\": 36}, \"41\": {\"41\": 20}, \"110\": {\"110\": 32, \"78\": 1, \"122\": 2, \"70\": 2, \"88\": 1, \"89\": 1, \"121\": 1}, \"16\": {\"16\": 42, \"24\": 1, \"110\": 1}, \"45\": {\"45\": 15, \"108\": 1}, \"107\": {\"107\": 39, \"27\": 2, \"110\": 1, \"59\": 1, \"24\": 1, \"78\": 1, \"88\": 1, \"109\": 1, \"4\": 1}, \"126\": {\"126\": 35, \"88\": 1}, \"87\": {\"87\": 32, \"4\": 1, \"21\": 2, \"43\": 1}, \"19\": {\"19\": 28}, \"84\": {\"84\": 38, \"107\": 1, \"21\": 2, \"24\": 1}, \"98\": {\"98\": 49, \"61\": 1}, \"4\": {\"4\": 43, \"107\": 1, \"42\": 1, \"88\": 1}, \"111\": {\"111\": 40}, \"36\": {\"36\": 39, \"107\": 2, \"27\": 1, \"21\": 1, \"5\": 1}, \"91\": {\"91\": 27, \"110\": 1}, \"39\": {\"39\": 45, \"118\": 1, \"18\": 1, \"109\": 1}, \"21\": {\"21\": 31, \"107\": 1, \"58\": 1, \"30\": 1, \"109\": 1, \"110\": 1, \"13\": 1, \"70\": 3}, \"76\": {\"76\": 16}, \"12\": {\"12\": 38, \"30\": 1, \"0\": 1}, \"119\": {\"119\": 19, \"24\": 1}, \"102\": {\"102\": 34}, \"113\": {\"113\": 33, \"109\": 2, \"39\": 1}, \"46\": {\"46\": 16}, \"88\": {\"88\": 47, \"13\": 1}, \"24\": {\"24\": 37, \"13\": 1, \"117\": 1, \"21\": 1}, \"31\": {\"31\": 20}, \"81\": {\"81\": 24}, \"30\": {\"30\": 36}, \"55\": {\"55\": 16}, \"86\": {\"86\": 32}, \"43\": {\"43\": 37, \"88\": 1}, \"64\": {\"64\": 16}, \"59\": {\"59\": 10, \"118\": 1, \"27\": 1, \"85\": 2, \"62\": 1, \"60\": 1}, \"29\": {\"29\": 30, \"87\": 1, \"70\": 1}, \"32\": {\"32\": 35, \"8\": 1}, \"23\": {\"23\": 34, \"22\": 1, \"120\": 1}, \"14\": {\"14\": 38}, \"38\": {\"38\": 16}, \"96\": {\"96\": 20}, \"93\": {\"93\": 42}, \"60\": {\"60\": 27, \"87\": 1}, \"69\": {\"69\": 26, \"39\": 1, \"109\": 1}, \"47\": {\"47\": 11, \"49\": 1}, \"104\": {\"104\": 18, \"58\": 1, \"39\": 1}, \"25\": {\"25\": 16}, \"35\": {\"35\": 11, \"58\": 1}, \"79\": {\"79\": 16}, \"42\": {\"42\": 25, \"110\": 1, \"36\": 1, \"24\": 1}, \"121\": {\"121\": 35, \"42\": 1}, \"90\": {\"90\": 32, \"61\": 1, \"121\": 1}, \"124\": {\"124\": 31, \"73\": 1}, \"65\": {\"65\": 19, \"118\": 1}, \"61\": {\"61\": 16, \"104\": 1, \"36\": 1, \"78\": 1, \"80\": 1}, \"67\": {\"67\": 15, \"69\": 1}}, \"Wisig_1\": {\"30\": {\"30\": 24, \"69\": 1, \"62\": 1}, \"75\": {\"75\": 16}, \"70\": {\"23\": 1, \"70\": 46, \"83\": 1}, \"80\": {\"80\": 15, \"109\": 1}, \"116\": {\"116\": 28, \"27\": 2}, \"50\": {\"50\": 16}, \"0\": {\"0\": 33, \"21\": 1}, \"86\": {\"86\": 33, \"125\": 1, \"88\": 1, \"55\": 1}, \"69\": {\"69\": 28}, \"101\": {\"101\": 42}, \"17\": {\"17\": 16}, \"45\": {\"45\": 9, \"81\": 1, \"55\": 1, \"70\": 1}, \"106\": {\"106\": 30}, \"102\": {\"102\": 38, \"27\": 1, \"69\": 1}, \"128\": {\"128\": 24}, \"14\": {\"14\": 40}, \"28\": {\"28\": 20}, \"34\": {\"34\": 31, \"122\": 1}, \"49\": {\"49\": 15, \"97\": 1, \"70\": 2, \"21\": 1, \"53\": 1}, \"74\": {\"74\": 16}, \"79\": {\"79\": 12}, \"82\": {\"82\": 36}, \"61\": {\"61\": 12}, \"111\": {\"111\": 42}, \"19\": {\"19\": 27, \"42\": 1}, \"110\": {\"110\": 36}, \"108\": {\"108\": 36}, \"97\": {\"97\": 19, \"126\": 1}, \"11\": {\"11\": 30, \"113\": 1, \"87\": 1}, \"27\": {\"27\": 34}, \"67\": {\"67\": 15, \"108\": 1}, \"120\": {\"120\": 20}, \"83\": {\"83\": 23, \"60\": 1}, \"39\": {\"39\": 43, \"96\": 1}, \"109\": {\"109\": 35, \"126\": 1}, \"2\": {\"2\": 32}, \"85\": {\"85\": 26}, \"66\": {\"66\": 16}, \"35\": {\"35\": 12}, \"105\": {\"105\": 37, \"40\": 1}, \"23\": {\"23\": 21, \"115\": 1, \"86\": 1, \"105\": 1}, \"47\": {\"47\": 12}, \"56\": {\"56\": 12}, \"88\": {\"88\": 29, \"36\": 3, \"24\": 1, \"97\": 1}, \"91\": {\"91\": 28}, \"112\": {\"112\": 16}, \"115\": {\"115\": 12}, \"7\": {\"7\": 42}, \"13\": {\"13\": 16}, \"29\": {\"29\": 28}, \"68\": {\"68\": 16}, \"81\": {\"81\": 28}, \"72\": {\"72\": 32}, \"55\": {\"55\": 12}, \"77\": {\"77\": 16}, \"124\": {\"124\": 34}, \"18\": {\"18\": 36}, \"21\": {\"21\": 32, \"12\": 1, \"30\": 2, \"69\": 1, \"87\": 1, \"70\": 1}, \"16\": {\"16\": 28}, \"119\": {\"119\": 16}, \"3\": {\"3\": 31, \"5\": 1, \"18\": 2}, \"36\": {\"36\": 35, \"70\": 1}, \"95\": {\"45\": 2, \"95\": 30}, \"43\": {\"43\": 31, \"78\": 1}, \"92\": {\"92\": 28}, \"107\": {\"107\": 21, \"110\": 1}, \"129\": {\"129\": 28}, \"78\": {\"78\": 15, \"69\": 1}, \"48\": {\"48\": 12}, \"76\": {\"76\": 16}, \"57\": {\"57\": 12}, \"5\": {\"5\": 37, \"70\": 1, \"111\": 1, \"21\": 1}, \"53\": {\"53\": 20}, \"87\": {\"87\": 34}, \"98\": {\"98\": 32}, \"33\": {\"33\": 40}, \"31\": {\"31\": 14, \"108\": 1, \"45\": 1}, \"60\": {\"60\": 15, \"34\": 1}, \"1\": {\"1\": 32}, \"46\": {\"46\": 10, \"11\": 1, \"47\": 1}, \"100\": {\"100\": 16}, \"24\": {\"24\": 36, \"97\": 1, \"39\": 1}, \"51\": {\"51\": 16}, \"54\": {\"54\": 15, \"60\": 1}, \"114\": {\"114\": 34}, \"6\": {\"6\": 32}, \"15\": {\"15\": 28, \"111\": 1, \"12\": 1}, \"89\": {\"89\": 36}, \"93\": {\"93\": 33, \"78\": 1, \"87\": 1, \"21\": 1}, \"127\": {\"127\": 31, \"8\": 1}, \"71\": {\"71\": 31, \"109\": 1, \"4\": 1, \"100\": 1}, \"32\": {\"32\": 32}, \"63\": {\"63\": 16}, \"118\": {\"118\": 40}, \"12\": {\"12\": 31, \"24\": 1}, \"90\": {\"90\": 29, \"20\": 1}, \"104\": {\"104\": 16}, \"122\": {\"122\": 31, \"27\": 1}, \"64\": {\"64\": 16}, \"73\": {\"73\": 18, \"65\": 1, \"38\": 1}, \"58\": {\"58\": 11, \"59\": 1}, \"117\": {\"117\": 36}, \"26\": {\"26\": 33, \"69\": 1}, \"40\": {\"40\": 29, \"105\": 1}, \"84\": {\"84\": 42}, \"44\": {\"44\": 34}, \"94\": {\"108\": 1, \"94\": 27}, \"126\": {\"126\": 20}, \"20\": {\"20\": 15, \"103\": 1}, \"125\": {\"125\": 32}, \"41\": {\"41\": 16}, \"37\": {\"37\": 16}, \"42\": {\"42\": 26}, \"59\": {\"59\": 11, \"20\": 1}, \"25\": {\"25\": 16}, \"103\": {\"103\": 16}, \"4\": {\"4\": 30}, \"22\": {\"22\": 15, \"13\": 1}, \"113\": {\"113\": 24}, \"123\": {\"123\": 16}, \"96\": {\"96\": 17, \"109\": 1, \"126\": 2}, \"8\": {\"8\": 40}, \"10\": {\"10\": 34, \"65\": 1, \"24\": 1}, \"9\": {\"9\": 31, \"69\": 1}, \"99\": {\"99\": 24}, \"121\": {\"121\": 31, \"9\": 1}, \"52\": {\"52\": 17, \"108\": 1}, \"62\": {\"62\": 24}, \"65\": {\"65\": 8, \"28\": 2, \"22\": 2}, \"38\": {\"38\": 16}}, \"Wisig_4\": {\"124\": {\"124\": 44}, \"106\": {\"106\": 41, \"23\": 1, \"8\": 1, \"123\": 1}, \"89\": {\"89\": 31, \"21\": 1}, \"68\": {\"68\": 15, \"123\": 1}, \"123\": {\"123\": 15, \"23\": 1}, \"16\": {\"16\": 42, \"108\": 1, \"21\": 2, \"78\": 1}, \"65\": {\"20\": 1, \"65\": 11}, \"23\": {\"23\": 10, \"123\": 3, \"70\": 1, \"52\": 2}, \"1\": {\"1\": 38, \"82\": 1, \"93\": 1, \"78\": 1, \"108\": 1}, \"87\": {\"87\": 41, \"105\": 1, \"43\": 2}, \"40\": {\"40\": 44}, \"107\": {\"107\": 50}, \"2\": {\"2\": 24}, \"56\": {\"56\": 12}, \"109\": {\"109\": 48}, \"74\": {\"23\": 1, \"74\": 15}, \"83\": {\"83\": 27, \"61\": 1}, \"50\": {\"50\": 15, \"55\": 1}, \"53\": {\"53\": 15, \"78\": 1}, \"4\": {\"4\": 44, \"105\": 1, \"113\": 1}, \"84\": {\"84\": 50, \"21\": 1, \"4\": 1}, \"128\": {\"128\": 24}, \"46\": {\"46\": 17, \"121\": 1, \"21\": 1, \"89\": 1}, \"36\": {\"36\": 42, \"126\": 1, \"113\": 1}, \"8\": {\"8\": 51, \"126\": 1}, \"115\": {\"115\": 16}, \"95\": {\"95\": 30, \"81\": 1, \"108\": 1}, \"127\": {\"23\": 1, \"127\": 38, \"39\": 1, \"27\": 1, \"103\": 1}, \"32\": {\"32\": 27, \"89\": 1}, \"108\": {\"108\": 37, \"125\": 1, \"118\": 1, \"21\": 1, \"88\": 1, \"93\": 1}, \"59\": {\"59\": 12}, \"76\": {\"76\": 16}, \"15\": {\"15\": 38, \"69\": 1, \"27\": 1}, \"103\": {\"103\": 13, \"78\": 2, \"108\": 1}, \"37\": {\"37\": 16}, \"22\": {\"22\": 16}, \"91\": {\"91\": 24}, \"28\": {\"28\": 20}, \"55\": {\"55\": 16}, \"63\": {\"63\": 15, \"69\": 1}, \"60\": {\"60\": 31, \"110\": 1}, \"111\": {\"111\": 44}, \"120\": {\"120\": 19, \"69\": 1}, \"80\": {\"80\": 16}, \"110\": {\"110\": 40, \"96\": 1, \"88\": 1}, \"102\": {\"102\": 41, \"121\": 1}, \"51\": {\"52\": 3, \"54\": 1, \"51\": 9, \"21\": 2, \"82\": 1}, \"85\": {\"85\": 26, \"66\": 2}, \"71\": {\"71\": 33, \"118\": 1, \"114\": 1, \"21\": 1}, \"20\": {\"20\": 16}, \"10\": {\"10\": 42, \"27\": 1, \"23\": 1}, \"52\": {\"52\": 18, \"108\": 1, \"46\": 1}, \"45\": {\"45\": 16}, \"75\": {\"75\": 16}, \"98\": {\"98\": 38}, \"13\": {\"13\": 16}, \"125\": {\"125\": 42}, \"54\": {\"54\": 15, \"36\": 1}, \"49\": {\"49\": 32}, \"18\": {\"18\": 38}, \"30\": {\"30\": 42, \"8\": 2, \"62\": 1, \"10\": 1}, \"72\": {\"72\": 32}, \"117\": {\"117\": 40}, \"38\": {\"38\": 14, \"53\": 1, \"25\": 1}, \"17\": {\"17\": 20}, \"118\": {\"118\": 42, \"22\": 1, \"62\": 1, \"107\": 1, \"13\": 1}, \"9\": {\"9\": 28}, \"101\": {\"101\": 41, \"0\": 1}, \"112\": {\"112\": 15, \"8\": 1}, \"12\": {\"12\": 35, \"19\": 1, \"68\": 1, \"117\": 1, \"62\": 1, \"100\": 1}, \"92\": {\"92\": 28}, \"3\": {\"110\": 1, \"3\": 35}, \"33\": {\"33\": 39, \"51\": 1, \"128\": 2}, \"114\": {\"114\": 40}, \"126\": {\"126\": 39, \"21\": 1, \"39\": 2}, \"47\": {\"47\": 10, \"53\": 1, \"112\": 1}, \"19\": {\"19\": 28}, \"66\": {\"66\": 16}, \"93\": {\"93\": 35, \"110\": 1}, \"113\": {\"113\": 40, \"126\": 1, \"78\": 1}, \"5\": {\"5\": 42}, \"116\": {\"116\": 26, \"48\": 1, \"74\": 1}, \"21\": {\"21\": 34, \"8\": 1, \"108\": 1}, \"70\": {\"70\": 40, \"88\": 1, \"121\": 1}, \"39\": {\"39\": 31, \"21\": 2, \"81\": 1, \"23\": 1, \"126\": 1}, \"42\": {\"42\": 27, \"8\": 1}, \"100\": {\"100\": 20}, \"62\": {\"62\": 38, \"78\": 1, \"23\": 1, \"118\": 1, \"39\": 1, \"108\": 1, \"70\": 1}, \"96\": {\"96\": 16, \"14\": 1, \"39\": 1, \"55\": 1, \"109\": 1}, \"26\": {\"26\": 42}, \"14\": {\"14\": 46}, \"104\": {\"104\": 16}, \"67\": {\"67\": 16}, \"90\": {\"90\": 34, \"57\": 1, \"81\": 1}, \"41\": {\"41\": 14, \"123\": 1, \"16\": 1}, \"97\": {\"108\": 2, \"97\": 13, \"36\": 3, \"10\": 1, \"100\": 1}, \"58\": {\"58\": 15, \"74\": 1}, \"105\": {\"105\": 38, \"69\": 1, \"87\": 1}, \"94\": {\"94\": 37, \"36\": 1}, \"64\": {\"64\": 16}, \"31\": {\"31\": 14, \"85\": 1, \"51\": 1}, \"122\": {\"122\": 37, \"78\": 1, \"21\": 2, \"51\": 1, \"1\": 1}, \"44\": {\"44\": 35, \"78\": 1}, \"81\": {\"81\": 35, \"108\": 1}, \"86\": {\"86\": 28}, \"29\": {\"29\": 32}, \"7\": {\"7\": 38, \"118\": 1, \"81\": 1}, \"35\": {\"35\": 12}, \"57\": {\"57\": 16}, \"0\": {\"0\": 37, \"101\": 1, \"14\": 1, \"27\": 1}, \"24\": {\"24\": 29, \"108\": 1, \"36\": 2, \"88\": 1, \"97\": 1}, \"78\": {\"78\": 22, \"21\": 2, \"30\": 1, \"122\": 1, \"87\": 1, \"8\": 1, \"121\": 1, \"107\": 1, \"3\": 1, \"50\": 1, \"51\": 1, \"28\": 1, \"23\": 1, \"126\": 1}, \"77\": {\"77\": 12}, \"88\": {\"88\": 36, \"39\": 1, \"8\": 1, \"108\": 2, \"70\": 2}, \"121\": {\"121\": 28}, \"82\": {\"82\": 26, \"34\": 1, \"3\": 1}, \"129\": {\"129\": 28}, \"43\": {\"43\": 45, \"87\": 1}, \"73\": {\"73\": 24}, \"25\": {\"25\": 16}, \"61\": {\"61\": 16}, \"79\": {\"79\": 14, \"23\": 1, \"21\": 1}, \"119\": {\"119\": 16}, \"34\": {\"34\": 30}, \"27\": {\"27\": 28, \"23\": 1, \"121\": 1}, \"11\": {\"11\": 42}, \"48\": {\"48\": 15, \"17\": 1}, \"6\": {\"6\": 24}, \"99\": {\"99\": 36}, \"69\": {\"69\": 34, \"62\": 2, \"3\": 1, \"40\": 1}}, \"CORES_4\": {\"56\": {\"56\": 16}, \"35\": {\"35\": 16}, \"51\": {\"51\": 16}, \"21\": {\"21\": 16}, \"47\": {\"47\": 16}, \"40\": {\"40\": 15, \"4\": 1}, \"53\": {\"53\": 16}, \"22\": {\"22\": 16}, \"31\": {\"31\": 16}, \"6\": {\"6\": 16}, \"52\": {\"52\": 16}, \"30\": {\"30\": 15, \"8\": 1}, \"39\": {\"39\": 16}, \"7\": {\"7\": 16}, \"37\": {\"37\": 16}, \"44\": {\"44\": 16}, \"9\": {\"9\": 16}, \"42\": {\"42\": 16}, \"5\": {\"5\": 13, \"16\": 3}, \"13\": {\"13\": 16}, \"46\": {\"46\": 16}, \"16\": {\"16\": 15, \"23\": 1}, \"36\": {\"36\": 16}, \"26\": {\"26\": 16}, \"27\": {\"27\": 16}, \"4\": {\"4\": 16}, \"45\": {\"45\": 16}, \"19\": {\"19\": 16}, \"41\": {\"41\": 16}, \"49\": {\"49\": 16}, \"24\": {\"24\": 16}, \"15\": {\"15\": 10, \"11\": 6}, \"28\": {\"28\": 16}, \"10\": {\"10\": 16}, \"0\": {\"0\": 15, \"32\": 1}, \"3\": {\"3\": 13, \"50\": 2, \"17\": 1}, \"8\": {\"8\": 16}, \"20\": {\"20\": 16}, \"55\": {\"55\": 16}, \"32\": {\"32\": 16}, \"38\": {\"38\": 16}, \"54\": {\"54\": 16}, \"48\": {\"48\": 16}, \"33\": {\"33\": 15, \"42\": 1}, \"43\": {\"43\": 16}, \"23\": {\"23\": 16}, \"29\": {\"29\": 16}, \"12\": {\"12\": 16}, \"18\": {\"18\": 16}, \"25\": {\"25\": 16}, \"34\": {\"34\": 16}, \"11\": {\"11\": 14, \"15\": 2}, \"1\": {\"1\": 16}, \"57\": {\"57\": 16}, \"2\": {\"2\": 16}, \"14\": {\"29\": 5, \"14\": 4, \"38\": 1, \"0\": 6}, \"17\": {\"17\": 16}, \"50\": {\"50\": 14, \"17\": 1, \"3\": 1}}, \"CORES_5\": {\"55\": {\"55\": 20}, \"28\": {\"28\": 20}, \"21\": {\"21\": 20}, \"53\": {\"53\": 20}, \"2\": {\"2\": 20}, \"0\": {\"0\": 20}, \"7\": {\"7\": 20}, \"19\": {\"19\": 20}, \"25\": {\"25\": 20}, \"45\": {\"45\": 18, \"4\": 1, \"18\": 1}, \"57\": {\"57\": 20}, \"42\": {\"42\": 20}, \"5\": {\"5\": 19, \"19\": 1}, \"16\": {\"16\": 20}, \"26\": {\"26\": 20}, \"32\": {\"32\": 18, \"27\": 2}, \"15\": {\"15\": 18, \"11\": 2}, \"30\": {\"30\": 20}, \"3\": {\"3\": 20}, \"35\": {\"35\": 20}, \"14\": {\"5\": 6, \"14\": 10, \"54\": 4}, \"8\": {\"8\": 20}, \"56\": {\"56\": 20}, \"50\": {\"50\": 19, \"18\": 1}, \"31\": {\"31\": 20}, \"52\": {\"52\": 20}, \"1\": {\"1\": 20}, \"44\": {\"44\": 20}, \"39\": {\"39\": 20}, \"27\": {\"27\": 20}, \"17\": {\"17\": 20}, \"41\": {\"41\": 20}, \"40\": {\"40\": 19, \"35\": 1}, \"48\": {\"48\": 19, \"1\": 1}, \"22\": {\"22\": 20}, \"6\": {\"6\": 17, \"17\": 1, \"9\": 1, \"20\": 1}, \"11\": {\"11\": 20}, \"12\": {\"12\": 20}, \"49\": {\"49\": 20}, \"34\": {\"34\": 20}, \"37\": {\"37\": 20}, \"24\": {\"24\": 20}, \"33\": {\"33\": 20}, \"47\": {\"47\": 20}, \"23\": {\"23\": 20}, \"13\": {\"13\": 20}, \"29\": {\"29\": 19, \"5\": 1}, \"46\": {\"46\": 17, \"3\": 2, \"16\": 1}, \"38\": {\"38\": 20}, \"18\": {\"18\": 20}, \"9\": {\"9\": 19, \"18\": 1}, \"36\": {\"36\": 20}, \"51\": {\"51\": 20}, \"54\": {\"54\": 20}, \"43\": {\"43\": 20}, \"10\": {\"10\": 20}, \"4\": {\"4\": 20}, \"20\": {\"20\": 20}}, \"CORES_2\": {\"43\": {\"43\": 20}, \"52\": {\"52\": 20}, \"9\": {\"9\": 20}, \"49\": {\"49\": 20}, \"27\": {\"27\": 20}, \"4\": {\"4\": 20}, \"31\": {\"31\": 20}, \"47\": {\"47\": 20}, \"21\": {\"21\": 20}, \"0\": {\"0\": 20}, \"16\": {\"16\": 20}, \"51\": {\"51\": 20}, \"3\": {\"3\": 19, \"18\": 1}, \"50\": {\"50\": 20}, \"40\": {\"40\": 20}, \"55\": {\"55\": 20}, \"12\": {\"12\": 20}, \"45\": {\"45\": 18, \"17\": 2}, \"7\": {\"7\": 20}, \"28\": {\"28\": 20}, \"33\": {\"33\": 20}, \"38\": {\"38\": 20}, \"44\": {\"44\": 19, \"29\": 1}, \"15\": {\"15\": 20}, \"25\": {\"25\": 20}, \"11\": {\"11\": 20}, \"57\": {\"57\": 19, \"29\": 1}, \"34\": {\"34\": 20}, \"14\": {\"19\": 3, \"14\": 11, \"31\": 2, \"5\": 1, \"28\": 2, \"29\": 1}, \"32\": {\"32\": 20}, \"18\": {\"18\": 20}, \"42\": {\"42\": 19, \"47\": 1}, \"8\": {\"8\": 20}, \"48\": {\"48\": 20}, \"24\": {\"24\": 20}, \"30\": {\"30\": 20}, \"10\": {\"10\": 20}, \"36\": {\"36\": 20}, \"35\": {\"35\": 20}, \"56\": {\"56\": 20}, \"41\": {\"41\": 20}, \"53\": {\"53\": 20}, \"37\": {\"37\": 20}, \"20\": {\"20\": 20}, \"17\": {\"17\": 20}, \"13\": {\"13\": 20}, \"46\": {\"46\": 15, \"48\": 4, \"15\": 1}, \"22\": {\"22\": 20}, \"1\": {\"1\": 20}, \"6\": {\"6\": 20}, \"26\": {\"26\": 20}, \"23\": {\"23\": 20}, \"19\": {\"19\": 20}, \"29\": {\"29\": 19, \"57\": 1}, \"2\": {\"2\": 20}, \"54\": {\"54\": 20}, \"5\": {\"5\": 20}, \"39\": {\"39\": 20}}, \"CORES_1\": {\"42\": {\"42\": 24}, \"6\": {\"6\": 24}, \"25\": {\"25\": 24}, \"17\": {\"17\": 24}, \"23\": {\"23\": 24}, \"13\": {\"13\": 24}, \"34\": {\"34\": 24}, \"53\": {\"53\": 24}, \"27\": {\"27\": 24}, \"48\": {\"48\": 24}, \"51\": {\"51\": 24}, \"49\": {\"49\": 24}, \"3\": {\"3\": 23, \"42\": 1}, \"2\": {\"2\": 24}, \"28\": {\"28\": 24}, \"26\": {\"26\": 24}, \"30\": {\"30\": 24}, \"37\": {\"37\": 24}, \"35\": {\"35\": 24}, \"56\": {\"56\": 24}, \"31\": {\"31\": 24}, \"11\": {\"11\": 24}, \"45\": {\"45\": 24}, \"38\": {\"38\": 24}, \"54\": {\"54\": 24}, \"4\": {\"4\": 24}, \"57\": {\"57\": 24}, \"24\": {\"24\": 22, \"21\": 2}, \"33\": {\"33\": 24}, \"32\": {\"32\": 23, \"44\": 1}, \"55\": {\"55\": 24}, \"12\": {\"12\": 24}, \"8\": {\"8\": 23, \"14\": 1}, \"22\": {\"22\": 24}, \"29\": {\"29\": 24}, \"10\": {\"10\": 24}, \"18\": {\"18\": 24}, \"7\": {\"7\": 24}, \"52\": {\"52\": 24}, \"16\": {\"16\": 24}, \"36\": {\"36\": 24}, \"39\": {\"39\": 24}, \"44\": {\"44\": 23, \"29\": 1}, \"19\": {\"19\": 24}, \"1\": {\"1\": 24}, \"41\": {\"41\": 24}, \"46\": {\"46\": 24}, \"14\": {\"14\": 12, \"30\": 12}, \"0\": {\"0\": 24}, \"15\": {\"15\": 24}, \"47\": {\"47\": 24}, \"43\": {\"43\": 24}, \"50\": {\"50\": 24}, \"21\": {\"21\": 24}, \"20\": {\"20\": 24}, \"9\": {\"9\": 24}, \"5\": {\"5\": 22, \"2\": 2}, \"40\": {\"40\": 24}}, \"CORES_3\": {\"18\": {\"18\": 16}, \"29\": {\"29\": 16}, \"3\": {\"3\": 14, \"27\": 1, \"32\": 1}, \"39\": {\"39\": 16}, \"12\": {\"12\": 16}, \"33\": {\"33\": 16}, \"5\": {\"5\": 16}, \"9\": {\"9\": 16}, \"57\": {\"29\": 2, \"57\": 14}, \"30\": {\"30\": 16}, \"23\": {\"23\": 16}, \"40\": {\"40\": 15, \"29\": 1}, \"15\": {\"15\": 15, \"11\": 1}, \"16\": {\"16\": 16}, \"43\": {\"43\": 16}, \"13\": {\"13\": 16}, \"38\": {\"38\": 16}, \"56\": {\"56\": 16}, \"50\": {\"50\": 16}, \"7\": {\"7\": 16}, \"11\": {\"11\": 16}, \"41\": {\"41\": 16}, \"42\": {\"42\": 16}, \"14\": {\"14\": 7, \"43\": 2, \"42\": 1, \"28\": 4, \"31\": 1, \"29\": 1}, \"28\": {\"28\": 16}, \"1\": {\"1\": 16}, \"17\": {\"17\": 16}, \"35\": {\"35\": 16}, \"10\": {\"10\": 16}, \"52\": {\"52\": 16}, \"46\": {\"46\": 15, \"48\": 1}, \"19\": {\"19\": 16}, \"24\": {\"24\": 16}, \"54\": {\"54\": 16}, \"4\": {\"4\": 14, \"27\": 2}, \"21\": {\"21\": 16}, \"8\": {\"8\": 16}, \"31\": {\"31\": 16}, \"47\": {\"47\": 16}, \"26\": {\"26\": 16}, \"2\": {\"2\": 16}, \"51\": {\"51\": 16}, \"22\": {\"22\": 16}, \"49\": {\"49\": 16}, \"0\": {\"0\": 16}, \"37\": {\"37\": 16}, \"45\": {\"45\": 16}, \"6\": {\"6\": 14, \"38\": 1, \"17\": 1}, \"36\": {\"36\": 16}, \"20\": {\"20\": 16}, \"25\": {\"25\": 16}, \"53\": {\"53\": 16}, \"55\": {\"55\": 15, \"5\": 1}, \"32\": {\"32\": 16}, \"34\": {\"34\": 16}, \"27\": {\"27\": 16}, \"44\": {\"44\": 15, \"40\": 1}, \"48\": {\"48\": 16}}}, \"per_domain_accuracy\": {\"Wisig_3\": {\"accuracy\": 0.966864224137931, \"source?\": true}, \"Wisig_2\": {\"accuracy\": 0.9510649087221096, \"source?\": true}, \"Wisig_1\": {\"accuracy\": 0.9708680142687277, \"source?\": true}, \"Wisig_4\": {\"accuracy\": 0.9490595611285266, \"source?\": true}, \"CORES_4\": {\"accuracy\": 0.9644396551724138, \"source?\": false}, \"CORES_5\": {\"accuracy\": 0.9758620689655172, \"source?\": false}, \"CORES_2\": {\"accuracy\": 0.9818965517241379, \"source?\": false}, \"CORES_1\": {\"accuracy\": 0.985632183908046, \"source?\": false}, \"CORES_3\": {\"accuracy\": 0.9762931034482759, \"source?\": false}}}, \"history\": {\"epoch_indices\": [1, 2, 3], \"train_label_loss\": [0.5705365229262771, 0.25446761967716636, 0.19102318401297952], \"source_val_label_loss\": [0.33710774779319763, 0.2615601420402527, 0.22755946218967438], \"target_val_label_loss\": [0.20344388484954834, 0.16195973753929138, 0.1413925588130951], \"source_val_acc_label\": [0.933661099137931, 0.951239224137931, 0.958984375], \"target_val_acc_label\": [0.9737787356321839, 0.975933908045977, 0.9777298850574713]}, \"dataset_metrics\": {\"source\": {\"train\": {\"n_unique_x\": 142677, \"n_unique_y\": 130, \"n_batch/episode\": 926}, \"val\": {\"n_unique_x\": 25930, \"n_unique_y\": 130, \"n_batch/episode\": 128}, \"test\": {\"n_unique_x\": 27403, \"n_unique_y\": 130, \"n_batch/episode\": 136}}, \"target\": {\"train\": {\"n_unique_x\": 75861, \"n_unique_y\": 58, \"n_batch/episode\": 351}, \"val\": {\"n_unique_x\": 11821, \"n_unique_y\": 58, \"n_batch/episode\": 48}, \"test\": {\"n_unique_x\": 12320, \"n_unique_y\": 58, \"n_batch/episode\": 50}}}}'"
      ]
     },
     "execution_count": 29,
     "metadata": {},
     "output_type": "execute_result"
    }
   ],
   "source": [
    "json.dumps(experiment)"
   ]
  }
 ],
 "metadata": {
  "celltoolbar": "Tags",
  "kernelspec": {
   "display_name": "Python 3 (ipykernel)",
   "language": "python",
   "name": "python3"
  },
  "language_info": {
   "codemirror_mode": {
    "name": "ipython",
    "version": 3
   },
   "file_extension": ".py",
   "mimetype": "text/x-python",
   "name": "python",
   "nbconvert_exporter": "python",
   "pygments_lexer": "ipython3",
   "version": "3.8.12"
  },
  "papermill": {
   "default_parameters": {},
   "duration": 405.226127,
   "end_time": "2022-03-21T02:48:30.261397",
   "environment_variables": {},
   "exception": null,
   "input_path": "/root/csc500-main/csc500-notebooks/templates/tl_ptn_template.ipynb",
   "output_path": "trial.ipynb",
   "parameters": {
    "parameters": {
     "BEST_MODEL_PATH": "./best_model.pth",
     "NUM_LOGS_PER_EPOCH": 10,
     "criteria_for_best": "target_accuracy",
     "dataset_seed": 420,
     "datasets": [
      {
       "domain_prefix": "CORES_",
       "domains": [
        1,
        2,
        3,
        4,
        5
       ],
       "episode_transforms": [],
       "labels": [
        "1-10.",
        "1-11.",
        "1-15.",
        "1-16.",
        "1-17.",
        "1-18.",
        "1-19.",
        "10-4.",
        "10-7.",
        "11-1.",
        "11-14.",
        "11-17.",
        "11-20.",
        "11-7.",
        "13-20.",
        "13-8.",
        "14-10.",
        "14-11.",
        "14-14.",
        "14-7.",
        "15-1.",
        "15-20.",
        "16-1.",
        "16-16.",
        "17-10.",
        "17-11.",
        "17-2.",
        "19-1.",
        "19-16.",
        "19-19.",
        "19-20.",
        "19-3.",
        "2-10.",
        "2-11.",
        "2-17.",
        "2-18.",
        "2-20.",
        "2-3.",
        "2-4.",
        "2-5.",
        "2-6.",
        "2-7.",
        "2-8.",
        "3-13.",
        "3-18.",
        "3-3.",
        "4-1.",
        "4-10.",
        "4-11.",
        "4-19.",
        "5-5.",
        "6-15.",
        "7-10.",
        "7-14.",
        "8-18.",
        "8-20.",
        "8-3.",
        "8-8."
       ],
       "num_examples_per_domain_per_label": -1,
       "pickle_path": "/root/csc500-main/datasets/cores.stratified_ds.2022A.pkl",
       "source_or_target_dataset": "target",
       "x_transforms": [
        "unit_power"
       ]
      },
      {
       "domain_prefix": "Wisig_",
       "domains": [
        1,
        2,
        3,
        4
       ],
       "episode_transforms": [],
       "labels": [
        "1-10",
        "1-12",
        "1-14",
        "1-16",
        "1-18",
        "1-19",
        "1-8",
        "10-11",
        "10-17",
        "10-4",
        "10-7",
        "11-1",
        "11-10",
        "11-19",
        "11-20",
        "11-4",
        "11-7",
        "12-19",
        "12-20",
        "12-7",
        "13-14",
        "13-18",
        "13-19",
        "13-20",
        "13-3",
        "13-7",
        "14-10",
        "14-11",
        "14-12",
        "14-13",
        "14-14",
        "14-19",
        "14-20",
        "14-7",
        "14-8",
        "14-9",
        "15-1",
        "15-19",
        "15-6",
        "16-1",
        "16-16",
        "16-19",
        "16-20",
        "17-10",
        "17-11",
        "18-1",
        "18-10",
        "18-11",
        "18-12",
        "18-13",
        "18-14",
        "18-15",
        "18-16",
        "18-17",
        "18-19",
        "18-2",
        "18-20",
        "18-4",
        "18-5",
        "18-7",
        "18-8",
        "18-9",
        "19-1",
        "19-10",
        "19-11",
        "19-12",
        "19-13",
        "19-14",
        "19-15",
        "19-19",
        "19-2",
        "19-20",
        "19-3",
        "19-4",
        "19-6",
        "19-7",
        "19-8",
        "19-9",
        "2-1",
        "2-13",
        "2-15",
        "2-3",
        "2-4",
        "2-5",
        "2-6",
        "2-7",
        "2-8",
        "20-1",
        "20-12",
        "20-14",
        "20-15",
        "20-16",
        "20-18",
        "20-19",
        "20-20",
        "20-3",
        "20-4",
        "20-5",
        "20-7",
        "20-8",
        "3-1",
        "3-13",
        "3-18",
        "3-2",
        "3-8",
        "4-1",
        "4-10",
        "4-11",
        "5-1",
        "5-5",
        "6-1",
        "6-15",
        "6-6",
        "7-10",
        "7-11",
        "7-12",
        "7-13",
        "7-14",
        "7-7",
        "7-8",
        "7-9",
        "8-1",
        "8-13",
        "8-14",
        "8-18",
        "8-20",
        "8-3",
        "8-8",
        "9-1",
        "9-7"
       ],
       "num_examples_per_domain_per_label": -1,
       "pickle_path": "/root/csc500-main/datasets/wisig.node3-19.stratified_ds.2022A.pkl",
       "source_or_target_dataset": "source",
       "x_transforms": [
        "unit_power"
       ]
      }
     ],
     "device": "cuda",
     "experiment_name": "tl_1v2:cores-wisig",
     "lr": 0.0001,
     "n_epoch": 3,
     "n_query": 2,
     "n_shot": 3,
     "n_way": 58,
     "patience": 3,
     "seed": 420,
     "test_k_factor": 2,
     "torch_default_dtype": "torch.float32",
     "train_k_factor": 3,
     "val_k_factor": 2,
     "x_net": [
      {
       "class": "nnReshape",
       "kargs": {
        "shape": [
         -1,
         1,
         2,
         256
        ]
       }
      },
      {
       "class": "Conv2d",
       "kargs": {
        "bias": false,
        "in_channels": 1,
        "kernel_size": [
         1,
         7
        ],
        "out_channels": 256,
        "padding": [
         0,
         3
        ]
       }
      },
      {
       "class": "ReLU",
       "kargs": {
        "inplace": true
       }
      },
      {
       "class": "BatchNorm2d",
       "kargs": {
        "num_features": 256
       }
      },
      {
       "class": "Conv2d",
       "kargs": {
        "bias": true,
        "in_channels": 256,
        "kernel_size": [
         2,
         7
        ],
        "out_channels": 80,
        "padding": [
         0,
         3
        ]
       }
      },
      {
       "class": "ReLU",
       "kargs": {
        "inplace": true
       }
      },
      {
       "class": "BatchNorm2d",
       "kargs": {
        "num_features": 80
       }
      },
      {
       "class": "Flatten",
       "kargs": {}
      },
      {
       "class": "Linear",
       "kargs": {
        "in_features": 20480,
        "out_features": 256
       }
      },
      {
       "class": "ReLU",
       "kargs": {
        "inplace": true
       }
      },
      {
       "class": "BatchNorm1d",
       "kargs": {
        "num_features": 256
       }
      },
      {
       "class": "Linear",
       "kargs": {
        "in_features": 256,
        "out_features": 256
       }
      }
     ]
    }
   },
   "start_time": "2022-03-21T02:41:45.035270",
   "version": "2.3.4"
  }
 },
 "nbformat": 4,
 "nbformat_minor": 5
}