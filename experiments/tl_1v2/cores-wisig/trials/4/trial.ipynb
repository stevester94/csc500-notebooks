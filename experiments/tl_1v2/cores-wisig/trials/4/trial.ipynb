{
 "cells": [
  {
   "cell_type": "markdown",
   "id": "9fea5f46",
   "metadata": {
    "papermill": {
     "duration": 0.028668,
     "end_time": "2022-03-21T02:17:55.339864",
     "exception": false,
     "start_time": "2022-03-21T02:17:55.311196",
     "status": "completed"
    },
    "tags": []
   },
   "source": [
    "# Transfer Learning Template"
   ]
  },
  {
   "cell_type": "code",
   "execution_count": 1,
   "id": "0902182a",
   "metadata": {
    "execution": {
     "iopub.execute_input": "2022-03-21T02:17:55.405402Z",
     "iopub.status.busy": "2022-03-21T02:17:55.404543Z",
     "iopub.status.idle": "2022-03-21T02:17:57.220240Z",
     "shell.execute_reply": "2022-03-21T02:17:57.219246Z"
    },
    "papermill": {
     "duration": 1.856565,
     "end_time": "2022-03-21T02:17:57.220439",
     "exception": false,
     "start_time": "2022-03-21T02:17:55.363874",
     "status": "completed"
    },
    "tags": []
   },
   "outputs": [],
   "source": [
    "%load_ext autoreload\n",
    "%autoreload 2\n",
    "%matplotlib inline\n",
    "\n",
    "    \n",
    "import os, json, sys, time, random\n",
    "import numpy as np\n",
    "import torch\n",
    "from torch.optim import Adam\n",
    "from  easydict import EasyDict\n",
    "import matplotlib.pyplot as plt\n",
    "\n",
    "from steves_models.steves_ptn import Steves_Prototypical_Network\n",
    "\n",
    "from steves_utils.lazy_iterable_wrapper import Lazy_Iterable_Wrapper\n",
    "from steves_utils.iterable_aggregator import Iterable_Aggregator\n",
    "from steves_utils.ptn_train_eval_test_jig import  PTN_Train_Eval_Test_Jig\n",
    "from steves_utils.torch_sequential_builder import build_sequential\n",
    "from steves_utils.torch_utils import get_dataset_metrics, ptn_confusion_by_domain_over_dataloader\n",
    "from steves_utils.utils_v2 import (per_domain_accuracy_from_confusion, get_datasets_base_path)\n",
    "from steves_utils.PTN.utils import independent_accuracy_assesment\n",
    "\n",
    "from torch.utils.data import DataLoader\n",
    "\n",
    "from steves_utils.stratified_dataset.episodic_accessor import Episodic_Accessor_Factory\n",
    "\n",
    "from steves_utils.ptn_do_report import (\n",
    "    get_loss_curve,\n",
    "    get_results_table,\n",
    "    get_parameters_table,\n",
    "    get_domain_accuracies,\n",
    ")\n",
    "\n",
    "from steves_utils.transforms import get_chained_transform"
   ]
  },
  {
   "cell_type": "markdown",
   "id": "41c840b4",
   "metadata": {
    "papermill": {
     "duration": 0.019511,
     "end_time": "2022-03-21T02:17:57.264742",
     "exception": false,
     "start_time": "2022-03-21T02:17:57.245231",
     "status": "completed"
    },
    "tags": []
   },
   "source": [
    "# Allowed Parameters\n",
    "These are allowed parameters, not defaults\n",
    "Each of these values need to be present in the injected parameters (the notebook will raise an exception if they are not present)\n",
    "\n",
    "Papermill uses the cell tag \"parameters\" to inject the real parameters below this cell.\n",
    "Enable tags to see what I mean"
   ]
  },
  {
   "cell_type": "code",
   "execution_count": 2,
   "id": "fd44eb83",
   "metadata": {
    "execution": {
     "iopub.execute_input": "2022-03-21T02:17:57.307411Z",
     "iopub.status.busy": "2022-03-21T02:17:57.307009Z",
     "iopub.status.idle": "2022-03-21T02:17:57.331646Z",
     "shell.execute_reply": "2022-03-21T02:17:57.330862Z"
    },
    "papermill": {
     "duration": 0.04771,
     "end_time": "2022-03-21T02:17:57.331817",
     "exception": false,
     "start_time": "2022-03-21T02:17:57.284107",
     "status": "completed"
    },
    "tags": []
   },
   "outputs": [],
   "source": [
    "required_parameters = {\n",
    "    \"experiment_name\",\n",
    "    \"lr\",\n",
    "    \"device\",\n",
    "    \"seed\",\n",
    "    \"dataset_seed\",\n",
    "    \"n_shot\",\n",
    "    \"n_query\",\n",
    "    \"n_way\",\n",
    "    \"train_k_factor\",\n",
    "    \"val_k_factor\",\n",
    "    \"test_k_factor\",\n",
    "    \"n_epoch\",\n",
    "    \"patience\",\n",
    "    \"criteria_for_best\",\n",
    "    \"x_net\",\n",
    "    \"datasets\",\n",
    "    \"torch_default_dtype\",\n",
    "    \"NUM_LOGS_PER_EPOCH\",\n",
    "    \"BEST_MODEL_PATH\",\n",
    "    \"x_shape\",\n",
    "}"
   ]
  },
  {
   "cell_type": "code",
   "execution_count": 3,
   "id": "fa3f0049",
   "metadata": {
    "execution": {
     "iopub.execute_input": "2022-03-21T02:17:57.397399Z",
     "iopub.status.busy": "2022-03-21T02:17:57.396481Z",
     "iopub.status.idle": "2022-03-21T02:17:57.416701Z",
     "shell.execute_reply": "2022-03-21T02:17:57.415884Z"
    },
    "papermill": {
     "duration": 0.056523,
     "end_time": "2022-03-21T02:17:57.416869",
     "exception": false,
     "start_time": "2022-03-21T02:17:57.360346",
     "status": "completed"
    },
    "tags": [
     "parameters"
    ]
   },
   "outputs": [],
   "source": [
    "from steves_utils.CORES.utils import (\n",
    "    ALL_NODES,\n",
    "    ALL_NODES_MINIMUM_1000_EXAMPLES,\n",
    "    ALL_DAYS\n",
    ")\n",
    "\n",
    "from steves_utils.ORACLE.utils_v2 import (\n",
    "    ALL_DISTANCES_FEET_NARROWED,\n",
    "    ALL_RUNS,\n",
    "    ALL_SERIAL_NUMBERS,\n",
    ")\n",
    "\n",
    "standalone_parameters = {}\n",
    "standalone_parameters[\"experiment_name\"] = \"STANDALONE PTN\"\n",
    "standalone_parameters[\"lr\"] = 0.001\n",
    "standalone_parameters[\"device\"] = \"cuda\"\n",
    "\n",
    "standalone_parameters[\"seed\"] = 1337\n",
    "standalone_parameters[\"dataset_seed\"] = 1337\n",
    "\n",
    "standalone_parameters[\"n_way\"] = 8\n",
    "standalone_parameters[\"n_shot\"] = 3\n",
    "standalone_parameters[\"n_query\"]  = 2\n",
    "standalone_parameters[\"train_k_factor\"] = 1\n",
    "standalone_parameters[\"val_k_factor\"] = 2\n",
    "standalone_parameters[\"test_k_factor\"] = 2\n",
    "\n",
    "\n",
    "standalone_parameters[\"n_epoch\"] = 50\n",
    "\n",
    "standalone_parameters[\"patience\"] = 10\n",
    "standalone_parameters[\"criteria_for_best\"] = \"source_loss\"\n",
    "\n",
    "standalone_parameters[\"datasets\"] = [\n",
    "    {\n",
    "        \"labels\": ALL_SERIAL_NUMBERS,\n",
    "        \"domains\": ALL_DISTANCES_FEET_NARROWED,\n",
    "        \"num_examples_per_domain_per_label\": 100,\n",
    "        \"pickle_path\": os.path.join(get_datasets_base_path(), \"oracle.Run1_framed_2000Examples_stratified_ds.2022A.pkl\"),\n",
    "        \"source_or_target_dataset\": \"source\",\n",
    "        \"x_transforms\": [\"unit_mag\", \"minus_two\"],\n",
    "        \"episode_transforms\": [],\n",
    "        \"domain_prefix\": \"ORACLE_\"\n",
    "    },\n",
    "    {\n",
    "        \"labels\": ALL_NODES,\n",
    "        \"domains\": ALL_DAYS,\n",
    "        \"num_examples_per_domain_per_label\": 100,\n",
    "        \"pickle_path\": os.path.join(get_datasets_base_path(), \"cores.stratified_ds.2022A.pkl\"),\n",
    "        \"source_or_target_dataset\": \"target\",\n",
    "        \"x_transforms\": [\"unit_power\", \"times_zero\"],\n",
    "        \"episode_transforms\": [],\n",
    "        \"domain_prefix\": \"CORES_\"\n",
    "    }   \n",
    "]\n",
    "\n",
    "standalone_parameters[\"torch_default_dtype\"] = \"torch.float32\" \n",
    "\n",
    "\n",
    "\n",
    "standalone_parameters[\"x_net\"] =     [\n",
    "    {\"class\": \"nnReshape\", \"kargs\": {\"shape\":[-1, 1, 2, 256]}},\n",
    "    {\"class\": \"Conv2d\", \"kargs\": { \"in_channels\":1, \"out_channels\":256, \"kernel_size\":(1,7), \"bias\":False, \"padding\":(0,3), },},\n",
    "    {\"class\": \"ReLU\", \"kargs\": {\"inplace\": True}},\n",
    "    {\"class\": \"BatchNorm2d\", \"kargs\": {\"num_features\":256}},\n",
    "\n",
    "    {\"class\": \"Conv2d\", \"kargs\": { \"in_channels\":256, \"out_channels\":80, \"kernel_size\":(2,7), \"bias\":True, \"padding\":(0,3), },},\n",
    "    {\"class\": \"ReLU\", \"kargs\": {\"inplace\": True}},\n",
    "    {\"class\": \"BatchNorm2d\", \"kargs\": {\"num_features\":80}},\n",
    "    {\"class\": \"Flatten\", \"kargs\": {}},\n",
    "\n",
    "    {\"class\": \"Linear\", \"kargs\": {\"in_features\": 80*256, \"out_features\": 256}}, # 80 units per IQ pair\n",
    "    {\"class\": \"ReLU\", \"kargs\": {\"inplace\": True}},\n",
    "    {\"class\": \"BatchNorm1d\", \"kargs\": {\"num_features\":256}},\n",
    "\n",
    "    {\"class\": \"Linear\", \"kargs\": {\"in_features\": 256, \"out_features\": 256}},\n",
    "]\n",
    "\n",
    "# Parameters relevant to results\n",
    "# These parameters will basically never need to change\n",
    "standalone_parameters[\"NUM_LOGS_PER_EPOCH\"] = 10\n",
    "standalone_parameters[\"BEST_MODEL_PATH\"] = \"./best_model.pth\"\n",
    "\n",
    "\n",
    "\n",
    "\n"
   ]
  },
  {
   "cell_type": "code",
   "execution_count": 4,
   "id": "245f4377",
   "metadata": {
    "execution": {
     "iopub.execute_input": "2022-03-21T02:17:57.476329Z",
     "iopub.status.busy": "2022-03-21T02:17:57.475267Z",
     "iopub.status.idle": "2022-03-21T02:17:57.494689Z",
     "shell.execute_reply": "2022-03-21T02:17:57.495342Z"
    },
    "papermill": {
     "duration": 0.056727,
     "end_time": "2022-03-21T02:17:57.495555",
     "exception": false,
     "start_time": "2022-03-21T02:17:57.438828",
     "status": "completed"
    },
    "tags": [
     "injected-parameters"
    ]
   },
   "outputs": [],
   "source": [
    "# Parameters\n",
    "parameters = {\n",
    "    \"experiment_name\": \"tl_1v2:cores-wisig\",\n",
    "    \"device\": \"cuda\",\n",
    "    \"lr\": 0.0001,\n",
    "    \"n_shot\": 3,\n",
    "    \"n_query\": 2,\n",
    "    \"train_k_factor\": 3,\n",
    "    \"val_k_factor\": 2,\n",
    "    \"test_k_factor\": 2,\n",
    "    \"torch_default_dtype\": \"torch.float32\",\n",
    "    \"n_epoch\": 3,\n",
    "    \"patience\": 3,\n",
    "    \"criteria_for_best\": \"target_accuracy\",\n",
    "    \"x_net\": [\n",
    "        {\"class\": \"nnReshape\", \"kargs\": {\"shape\": [-1, 1, 2, 256]}},\n",
    "        {\n",
    "            \"class\": \"Conv2d\",\n",
    "            \"kargs\": {\n",
    "                \"in_channels\": 1,\n",
    "                \"out_channels\": 256,\n",
    "                \"kernel_size\": [1, 7],\n",
    "                \"bias\": False,\n",
    "                \"padding\": [0, 3],\n",
    "            },\n",
    "        },\n",
    "        {\"class\": \"ReLU\", \"kargs\": {\"inplace\": True}},\n",
    "        {\"class\": \"BatchNorm2d\", \"kargs\": {\"num_features\": 256}},\n",
    "        {\n",
    "            \"class\": \"Conv2d\",\n",
    "            \"kargs\": {\n",
    "                \"in_channels\": 256,\n",
    "                \"out_channels\": 80,\n",
    "                \"kernel_size\": [2, 7],\n",
    "                \"bias\": True,\n",
    "                \"padding\": [0, 3],\n",
    "            },\n",
    "        },\n",
    "        {\"class\": \"ReLU\", \"kargs\": {\"inplace\": True}},\n",
    "        {\"class\": \"BatchNorm2d\", \"kargs\": {\"num_features\": 80}},\n",
    "        {\"class\": \"Flatten\", \"kargs\": {}},\n",
    "        {\"class\": \"Linear\", \"kargs\": {\"in_features\": 20480, \"out_features\": 256}},\n",
    "        {\"class\": \"ReLU\", \"kargs\": {\"inplace\": True}},\n",
    "        {\"class\": \"BatchNorm1d\", \"kargs\": {\"num_features\": 256}},\n",
    "        {\"class\": \"Linear\", \"kargs\": {\"in_features\": 256, \"out_features\": 256}},\n",
    "    ],\n",
    "    \"NUM_LOGS_PER_EPOCH\": 10,\n",
    "    \"BEST_MODEL_PATH\": \"./best_model.pth\",\n",
    "    \"n_way\": 58,\n",
    "    \"datasets\": [\n",
    "        {\n",
    "            \"labels\": [\n",
    "                \"1-10.\",\n",
    "                \"1-11.\",\n",
    "                \"1-15.\",\n",
    "                \"1-16.\",\n",
    "                \"1-17.\",\n",
    "                \"1-18.\",\n",
    "                \"1-19.\",\n",
    "                \"10-4.\",\n",
    "                \"10-7.\",\n",
    "                \"11-1.\",\n",
    "                \"11-14.\",\n",
    "                \"11-17.\",\n",
    "                \"11-20.\",\n",
    "                \"11-7.\",\n",
    "                \"13-20.\",\n",
    "                \"13-8.\",\n",
    "                \"14-10.\",\n",
    "                \"14-11.\",\n",
    "                \"14-14.\",\n",
    "                \"14-7.\",\n",
    "                \"15-1.\",\n",
    "                \"15-20.\",\n",
    "                \"16-1.\",\n",
    "                \"16-16.\",\n",
    "                \"17-10.\",\n",
    "                \"17-11.\",\n",
    "                \"17-2.\",\n",
    "                \"19-1.\",\n",
    "                \"19-16.\",\n",
    "                \"19-19.\",\n",
    "                \"19-20.\",\n",
    "                \"19-3.\",\n",
    "                \"2-10.\",\n",
    "                \"2-11.\",\n",
    "                \"2-17.\",\n",
    "                \"2-18.\",\n",
    "                \"2-20.\",\n",
    "                \"2-3.\",\n",
    "                \"2-4.\",\n",
    "                \"2-5.\",\n",
    "                \"2-6.\",\n",
    "                \"2-7.\",\n",
    "                \"2-8.\",\n",
    "                \"3-13.\",\n",
    "                \"3-18.\",\n",
    "                \"3-3.\",\n",
    "                \"4-1.\",\n",
    "                \"4-10.\",\n",
    "                \"4-11.\",\n",
    "                \"4-19.\",\n",
    "                \"5-5.\",\n",
    "                \"6-15.\",\n",
    "                \"7-10.\",\n",
    "                \"7-14.\",\n",
    "                \"8-18.\",\n",
    "                \"8-20.\",\n",
    "                \"8-3.\",\n",
    "                \"8-8.\",\n",
    "            ],\n",
    "            \"domains\": [1, 2, 3, 4, 5],\n",
    "            \"num_examples_per_domain_per_label\": -1,\n",
    "            \"pickle_path\": \"/root/csc500-main/datasets/cores.stratified_ds.2022A.pkl\",\n",
    "            \"source_or_target_dataset\": \"target\",\n",
    "            \"x_transforms\": [\"unit_mag\"],\n",
    "            \"episode_transforms\": [],\n",
    "            \"domain_prefix\": \"CORES_\",\n",
    "        },\n",
    "        {\n",
    "            \"labels\": [\n",
    "                \"1-10\",\n",
    "                \"1-12\",\n",
    "                \"1-14\",\n",
    "                \"1-16\",\n",
    "                \"1-18\",\n",
    "                \"1-19\",\n",
    "                \"1-8\",\n",
    "                \"10-11\",\n",
    "                \"10-17\",\n",
    "                \"10-4\",\n",
    "                \"10-7\",\n",
    "                \"11-1\",\n",
    "                \"11-10\",\n",
    "                \"11-19\",\n",
    "                \"11-20\",\n",
    "                \"11-4\",\n",
    "                \"11-7\",\n",
    "                \"12-19\",\n",
    "                \"12-20\",\n",
    "                \"12-7\",\n",
    "                \"13-14\",\n",
    "                \"13-18\",\n",
    "                \"13-19\",\n",
    "                \"13-20\",\n",
    "                \"13-3\",\n",
    "                \"13-7\",\n",
    "                \"14-10\",\n",
    "                \"14-11\",\n",
    "                \"14-12\",\n",
    "                \"14-13\",\n",
    "                \"14-14\",\n",
    "                \"14-19\",\n",
    "                \"14-20\",\n",
    "                \"14-7\",\n",
    "                \"14-8\",\n",
    "                \"14-9\",\n",
    "                \"15-1\",\n",
    "                \"15-19\",\n",
    "                \"15-6\",\n",
    "                \"16-1\",\n",
    "                \"16-16\",\n",
    "                \"16-19\",\n",
    "                \"16-20\",\n",
    "                \"17-10\",\n",
    "                \"17-11\",\n",
    "                \"18-1\",\n",
    "                \"18-10\",\n",
    "                \"18-11\",\n",
    "                \"18-12\",\n",
    "                \"18-13\",\n",
    "                \"18-14\",\n",
    "                \"18-15\",\n",
    "                \"18-16\",\n",
    "                \"18-17\",\n",
    "                \"18-19\",\n",
    "                \"18-2\",\n",
    "                \"18-20\",\n",
    "                \"18-4\",\n",
    "                \"18-5\",\n",
    "                \"18-7\",\n",
    "                \"18-8\",\n",
    "                \"18-9\",\n",
    "                \"19-1\",\n",
    "                \"19-10\",\n",
    "                \"19-11\",\n",
    "                \"19-12\",\n",
    "                \"19-13\",\n",
    "                \"19-14\",\n",
    "                \"19-15\",\n",
    "                \"19-19\",\n",
    "                \"19-2\",\n",
    "                \"19-20\",\n",
    "                \"19-3\",\n",
    "                \"19-4\",\n",
    "                \"19-6\",\n",
    "                \"19-7\",\n",
    "                \"19-8\",\n",
    "                \"19-9\",\n",
    "                \"2-1\",\n",
    "                \"2-13\",\n",
    "                \"2-15\",\n",
    "                \"2-3\",\n",
    "                \"2-4\",\n",
    "                \"2-5\",\n",
    "                \"2-6\",\n",
    "                \"2-7\",\n",
    "                \"2-8\",\n",
    "                \"20-1\",\n",
    "                \"20-12\",\n",
    "                \"20-14\",\n",
    "                \"20-15\",\n",
    "                \"20-16\",\n",
    "                \"20-18\",\n",
    "                \"20-19\",\n",
    "                \"20-20\",\n",
    "                \"20-3\",\n",
    "                \"20-4\",\n",
    "                \"20-5\",\n",
    "                \"20-7\",\n",
    "                \"20-8\",\n",
    "                \"3-1\",\n",
    "                \"3-13\",\n",
    "                \"3-18\",\n",
    "                \"3-2\",\n",
    "                \"3-8\",\n",
    "                \"4-1\",\n",
    "                \"4-10\",\n",
    "                \"4-11\",\n",
    "                \"5-1\",\n",
    "                \"5-5\",\n",
    "                \"6-1\",\n",
    "                \"6-15\",\n",
    "                \"6-6\",\n",
    "                \"7-10\",\n",
    "                \"7-11\",\n",
    "                \"7-12\",\n",
    "                \"7-13\",\n",
    "                \"7-14\",\n",
    "                \"7-7\",\n",
    "                \"7-8\",\n",
    "                \"7-9\",\n",
    "                \"8-1\",\n",
    "                \"8-13\",\n",
    "                \"8-14\",\n",
    "                \"8-18\",\n",
    "                \"8-20\",\n",
    "                \"8-3\",\n",
    "                \"8-8\",\n",
    "                \"9-1\",\n",
    "                \"9-7\",\n",
    "            ],\n",
    "            \"domains\": [1, 2, 3, 4],\n",
    "            \"num_examples_per_domain_per_label\": -1,\n",
    "            \"pickle_path\": \"/root/csc500-main/datasets/wisig.node3-19.stratified_ds.2022A.pkl\",\n",
    "            \"source_or_target_dataset\": \"source\",\n",
    "            \"x_transforms\": [\"unit_mag\"],\n",
    "            \"episode_transforms\": [],\n",
    "            \"domain_prefix\": \"Wisig_\",\n",
    "        },\n",
    "    ],\n",
    "    \"dataset_seed\": 1337,\n",
    "    \"seed\": 1337,\n",
    "}\n"
   ]
  },
  {
   "cell_type": "code",
   "execution_count": 5,
   "id": "8fa1cc33",
   "metadata": {
    "execution": {
     "iopub.execute_input": "2022-03-21T02:17:57.546808Z",
     "iopub.status.busy": "2022-03-21T02:17:57.546233Z",
     "iopub.status.idle": "2022-03-21T02:17:57.565707Z",
     "shell.execute_reply": "2022-03-21T02:17:57.566640Z"
    },
    "papermill": {
     "duration": 0.045995,
     "end_time": "2022-03-21T02:17:57.566835",
     "exception": false,
     "start_time": "2022-03-21T02:17:57.520840",
     "status": "completed"
    },
    "tags": []
   },
   "outputs": [],
   "source": [
    "# Set this to True if you want to run this template directly\n",
    "STANDALONE = False\n",
    "if STANDALONE:\n",
    "    print(\"parameters not injected, running with standalone_parameters\")\n",
    "    parameters = standalone_parameters\n",
    "\n",
    "if not 'parameters' in locals() and not 'parameters' in globals():\n",
    "    raise Exception(\"Parameter injection failed\")\n",
    "\n",
    "#Use an easy dict for all the parameters\n",
    "p = EasyDict(parameters)\n",
    "\n",
    "if \"x_shape\" not in p:\n",
    "    p.x_shape = [2,256] # Default to this if we dont supply x_shape\n",
    "\n",
    "\n",
    "supplied_keys = set(p.keys())\n",
    "\n",
    "if  supplied_keys != required_parameters:\n",
    "    print(\"Parameters are incorrect\")\n",
    "    if len(supplied_keys - required_parameters)>0: print(\"Shouldn't have:\", str(supplied_keys - required_parameters))\n",
    "    if len(required_parameters - supplied_keys)>0: print(\"Need to have:\", str(required_parameters - supplied_keys))\n",
    "    raise RuntimeError(\"Parameters are incorrect\")"
   ]
  },
  {
   "cell_type": "code",
   "execution_count": 6,
   "id": "3a028d58",
   "metadata": {
    "execution": {
     "iopub.execute_input": "2022-03-21T02:17:57.616014Z",
     "iopub.status.busy": "2022-03-21T02:17:57.615642Z",
     "iopub.status.idle": "2022-03-21T02:17:57.636877Z",
     "shell.execute_reply": "2022-03-21T02:17:57.637552Z"
    },
    "papermill": {
     "duration": 0.045744,
     "end_time": "2022-03-21T02:17:57.637729",
     "exception": false,
     "start_time": "2022-03-21T02:17:57.591985",
     "status": "completed"
    },
    "tags": []
   },
   "outputs": [],
   "source": [
    "###################################\n",
    "# Set the RNGs and make it all deterministic\n",
    "###################################\n",
    "np.random.seed(p.seed)\n",
    "random.seed(p.seed)\n",
    "torch.manual_seed(p.seed)\n",
    "\n",
    "torch.use_deterministic_algorithms(True) "
   ]
  },
  {
   "cell_type": "code",
   "execution_count": 7,
   "id": "b691acf6",
   "metadata": {
    "execution": {
     "iopub.execute_input": "2022-03-21T02:17:57.686764Z",
     "iopub.status.busy": "2022-03-21T02:17:57.686396Z",
     "iopub.status.idle": "2022-03-21T02:17:57.708327Z",
     "shell.execute_reply": "2022-03-21T02:17:57.708993Z"
    },
    "papermill": {
     "duration": 0.045475,
     "end_time": "2022-03-21T02:17:57.709168",
     "exception": false,
     "start_time": "2022-03-21T02:17:57.663693",
     "status": "completed"
    },
    "tags": []
   },
   "outputs": [],
   "source": [
    "###########################################\n",
    "# The stratified datasets honor this\n",
    "###########################################\n",
    "torch.set_default_dtype(eval(p.torch_default_dtype))"
   ]
  },
  {
   "cell_type": "code",
   "execution_count": 8,
   "id": "b5fba671",
   "metadata": {
    "execution": {
     "iopub.execute_input": "2022-03-21T02:17:57.761437Z",
     "iopub.status.busy": "2022-03-21T02:17:57.761068Z",
     "iopub.status.idle": "2022-03-21T02:17:57.816589Z",
     "shell.execute_reply": "2022-03-21T02:17:57.815886Z"
    },
    "papermill": {
     "duration": 0.079126,
     "end_time": "2022-03-21T02:17:57.816740",
     "exception": false,
     "start_time": "2022-03-21T02:17:57.737614",
     "status": "completed"
    },
    "tags": []
   },
   "outputs": [],
   "source": [
    "###################################\n",
    "# Build the network(s)\n",
    "# Note: It's critical to do this AFTER setting the RNG\n",
    "###################################\n",
    "x_net = build_sequential(p.x_net)"
   ]
  },
  {
   "cell_type": "code",
   "execution_count": 9,
   "id": "5d7e61cc",
   "metadata": {
    "execution": {
     "iopub.execute_input": "2022-03-21T02:17:57.866199Z",
     "iopub.status.busy": "2022-03-21T02:17:57.865642Z",
     "iopub.status.idle": "2022-03-21T02:17:57.889830Z",
     "shell.execute_reply": "2022-03-21T02:17:57.890498Z"
    },
    "papermill": {
     "duration": 0.049265,
     "end_time": "2022-03-21T02:17:57.890674",
     "exception": false,
     "start_time": "2022-03-21T02:17:57.841409",
     "status": "completed"
    },
    "tags": []
   },
   "outputs": [],
   "source": [
    "start_time_secs = time.time()"
   ]
  },
  {
   "cell_type": "code",
   "execution_count": 10,
   "id": "c6b67dfd",
   "metadata": {
    "execution": {
     "iopub.execute_input": "2022-03-21T02:17:57.942220Z",
     "iopub.status.busy": "2022-03-21T02:17:57.941849Z",
     "iopub.status.idle": "2022-03-21T02:17:57.962616Z",
     "shell.execute_reply": "2022-03-21T02:17:57.961879Z"
    },
    "papermill": {
     "duration": 0.044197,
     "end_time": "2022-03-21T02:17:57.962770",
     "exception": false,
     "start_time": "2022-03-21T02:17:57.918573",
     "status": "completed"
    },
    "tags": []
   },
   "outputs": [],
   "source": [
    "p.domains_source = []\n",
    "p.domains_target = []\n",
    "\n",
    "\n",
    "train_original_source = []\n",
    "val_original_source   = []\n",
    "test_original_source  = []\n",
    "\n",
    "train_original_target = []\n",
    "val_original_target   = []\n",
    "test_original_target  = []"
   ]
  },
  {
   "cell_type": "code",
   "execution_count": 11,
   "id": "e3d9c3d3",
   "metadata": {
    "execution": {
     "iopub.execute_input": "2022-03-21T02:17:58.013779Z",
     "iopub.status.busy": "2022-03-21T02:17:58.013411Z",
     "iopub.status.idle": "2022-03-21T02:17:58.035920Z",
     "shell.execute_reply": "2022-03-21T02:17:58.035184Z"
    },
    "papermill": {
     "duration": 0.04506,
     "end_time": "2022-03-21T02:17:58.036074",
     "exception": false,
     "start_time": "2022-03-21T02:17:57.991014",
     "status": "completed"
    },
    "tags": []
   },
   "outputs": [],
   "source": [
    "# global_x_transform_func = lambda x: normalize(x.to(torch.get_default_dtype()), \"unit_power\") # unit_power, unit_mag\n",
    "# global_x_transform_func = lambda x: normalize(x, \"unit_power\") # unit_power, unit_mag"
   ]
  },
  {
   "cell_type": "code",
   "execution_count": 12,
   "id": "acb78fd2",
   "metadata": {
    "execution": {
     "iopub.execute_input": "2022-03-21T02:17:58.091219Z",
     "iopub.status.busy": "2022-03-21T02:17:58.090635Z",
     "iopub.status.idle": "2022-03-21T02:17:58.108312Z",
     "shell.execute_reply": "2022-03-21T02:17:58.107610Z"
    },
    "papermill": {
     "duration": 0.044926,
     "end_time": "2022-03-21T02:17:58.108463",
     "exception": false,
     "start_time": "2022-03-21T02:17:58.063537",
     "status": "completed"
    },
    "tags": []
   },
   "outputs": [],
   "source": [
    "def add_dataset(\n",
    "    labels,\n",
    "    domains,\n",
    "    pickle_path,\n",
    "    x_transforms,\n",
    "    episode_transforms,\n",
    "    domain_prefix,\n",
    "    num_examples_per_domain_per_label,\n",
    "    source_or_target_dataset:str,\n",
    "    iterator_seed=p.seed,\n",
    "    dataset_seed=p.dataset_seed,\n",
    "    n_shot=p.n_shot,\n",
    "    n_way=p.n_way,\n",
    "    n_query=p.n_query,\n",
    "    train_val_test_k_factors=(p.train_k_factor,p.val_k_factor,p.test_k_factor),\n",
    "):\n",
    "   \n",
    "    if x_transforms == []: x_transform = None\n",
    "    else: x_transform = get_chained_transform(x_transforms)\n",
    "    \n",
    "    if episode_transforms == []: episode_transform = None\n",
    "    else: raise Exception(\"episode_transforms not implemented\")\n",
    "    \n",
    "    episode_transform = lambda tup, _prefix=domain_prefix: (_prefix + str(tup[0]), tup[1])\n",
    "\n",
    "\n",
    "    eaf = Episodic_Accessor_Factory(\n",
    "        labels=labels,\n",
    "        domains=domains,\n",
    "        num_examples_per_domain_per_label=num_examples_per_domain_per_label,\n",
    "        iterator_seed=iterator_seed,\n",
    "        dataset_seed=dataset_seed,\n",
    "        n_shot=n_shot,\n",
    "        n_way=n_way,\n",
    "        n_query=n_query,\n",
    "        train_val_test_k_factors=train_val_test_k_factors,\n",
    "        pickle_path=pickle_path,\n",
    "        x_transform_func=x_transform,\n",
    "    )\n",
    "\n",
    "    train, val, test = eaf.get_train(), eaf.get_val(), eaf.get_test()\n",
    "    train = Lazy_Iterable_Wrapper(train, episode_transform)\n",
    "    val = Lazy_Iterable_Wrapper(val, episode_transform)\n",
    "    test = Lazy_Iterable_Wrapper(test, episode_transform)\n",
    "\n",
    "    if source_or_target_dataset==\"source\":\n",
    "        train_original_source.append(train)\n",
    "        val_original_source.append(val)\n",
    "        test_original_source.append(test)\n",
    "\n",
    "        p.domains_source.extend(\n",
    "            [domain_prefix + str(u) for u in domains]\n",
    "        )\n",
    "    elif source_or_target_dataset==\"target\":\n",
    "        train_original_target.append(train)\n",
    "        val_original_target.append(val)\n",
    "        test_original_target.append(test)\n",
    "        p.domains_target.extend(\n",
    "            [domain_prefix + str(u) for u in domains]\n",
    "        )\n",
    "    else:\n",
    "        raise Exception(f\"invalid source_or_target_dataset: {source_or_target_dataset}\")\n",
    "    "
   ]
  },
  {
   "cell_type": "code",
   "execution_count": 13,
   "id": "fe266617",
   "metadata": {
    "execution": {
     "iopub.execute_input": "2022-03-21T02:17:58.161851Z",
     "iopub.status.busy": "2022-03-21T02:17:58.161484Z",
     "iopub.status.idle": "2022-03-21T02:18:41.018587Z",
     "shell.execute_reply": "2022-03-21T02:18:41.017802Z"
    },
    "papermill": {
     "duration": 42.880988,
     "end_time": "2022-03-21T02:18:41.018768",
     "exception": false,
     "start_time": "2022-03-21T02:17:58.137780",
     "status": "completed"
    },
    "tags": []
   },
   "outputs": [],
   "source": [
    "for ds in p.datasets:\n",
    "    add_dataset(**ds)"
   ]
  },
  {
   "cell_type": "code",
   "execution_count": 14,
   "id": "b90d65ac",
   "metadata": {
    "execution": {
     "iopub.execute_input": "2022-03-21T02:18:41.069711Z",
     "iopub.status.busy": "2022-03-21T02:18:41.069330Z",
     "iopub.status.idle": "2022-03-21T02:18:41.095124Z",
     "shell.execute_reply": "2022-03-21T02:18:41.094319Z"
    },
    "papermill": {
     "duration": 0.049794,
     "end_time": "2022-03-21T02:18:41.095281",
     "exception": false,
     "start_time": "2022-03-21T02:18:41.045487",
     "status": "completed"
    },
    "tags": []
   },
   "outputs": [],
   "source": [
    "# from steves_utils.CORES.utils import (\n",
    "#     ALL_NODES,\n",
    "#     ALL_NODES_MINIMUM_1000_EXAMPLES,\n",
    "#     ALL_DAYS\n",
    "# )\n",
    "\n",
    "# add_dataset(\n",
    "#     labels=ALL_NODES,\n",
    "#     domains = ALL_DAYS,\n",
    "#     num_examples_per_domain_per_label=100,\n",
    "#     pickle_path=os.path.join(get_datasets_base_path(), \"cores.stratified_ds.2022A.pkl\"),\n",
    "#     source_or_target_dataset=\"target\",\n",
    "#     x_transform_func=global_x_transform_func,\n",
    "#     domain_modifier=lambda u: f\"cores_{u}\"\n",
    "# )"
   ]
  },
  {
   "cell_type": "code",
   "execution_count": 15,
   "id": "76db484d",
   "metadata": {
    "execution": {
     "iopub.execute_input": "2022-03-21T02:18:41.149590Z",
     "iopub.status.busy": "2022-03-21T02:18:41.149027Z",
     "iopub.status.idle": "2022-03-21T02:18:41.168628Z",
     "shell.execute_reply": "2022-03-21T02:18:41.167845Z"
    },
    "papermill": {
     "duration": 0.04302,
     "end_time": "2022-03-21T02:18:41.168779",
     "exception": false,
     "start_time": "2022-03-21T02:18:41.125759",
     "status": "completed"
    },
    "tags": []
   },
   "outputs": [],
   "source": [
    "# from steves_utils.ORACLE.utils_v2 import (\n",
    "#     ALL_DISTANCES_FEET,\n",
    "#     ALL_RUNS,\n",
    "#     ALL_SERIAL_NUMBERS,\n",
    "# )\n",
    "\n",
    "\n",
    "# add_dataset(\n",
    "#     labels=ALL_SERIAL_NUMBERS,\n",
    "#     domains = list(set(ALL_DISTANCES_FEET) - {2,62}),\n",
    "#     num_examples_per_domain_per_label=100,\n",
    "#     pickle_path=os.path.join(get_datasets_base_path(), \"oracle.Run2_framed_2000Examples_stratified_ds.2022A.pkl\"),\n",
    "#     source_or_target_dataset=\"source\",\n",
    "#     x_transform_func=global_x_transform_func,\n",
    "#     domain_modifier=lambda u: f\"oracle1_{u}\"\n",
    "# )\n"
   ]
  },
  {
   "cell_type": "code",
   "execution_count": 16,
   "id": "97dea9d2",
   "metadata": {
    "execution": {
     "iopub.execute_input": "2022-03-21T02:18:41.218927Z",
     "iopub.status.busy": "2022-03-21T02:18:41.218556Z",
     "iopub.status.idle": "2022-03-21T02:18:41.235358Z",
     "shell.execute_reply": "2022-03-21T02:18:41.234647Z"
    },
    "papermill": {
     "duration": 0.039749,
     "end_time": "2022-03-21T02:18:41.235514",
     "exception": false,
     "start_time": "2022-03-21T02:18:41.195765",
     "status": "completed"
    },
    "tags": []
   },
   "outputs": [],
   "source": [
    "# from steves_utils.ORACLE.utils_v2 import (\n",
    "#     ALL_DISTANCES_FEET,\n",
    "#     ALL_RUNS,\n",
    "#     ALL_SERIAL_NUMBERS,\n",
    "# )\n",
    "\n",
    "\n",
    "# add_dataset(\n",
    "#     labels=ALL_SERIAL_NUMBERS,\n",
    "#     domains = list(set(ALL_DISTANCES_FEET) - {2,62,56}),\n",
    "#     num_examples_per_domain_per_label=100,\n",
    "#     pickle_path=os.path.join(get_datasets_base_path(), \"oracle.Run2_framed_2000Examples_stratified_ds.2022A.pkl\"),\n",
    "#     source_or_target_dataset=\"source\",\n",
    "#     x_transform_func=global_x_transform_func,\n",
    "#     domain_modifier=lambda u: f\"oracle2_{u}\"\n",
    "# )"
   ]
  },
  {
   "cell_type": "code",
   "execution_count": 17,
   "id": "6f289866",
   "metadata": {
    "execution": {
     "iopub.execute_input": "2022-03-21T02:18:41.289594Z",
     "iopub.status.busy": "2022-03-21T02:18:41.289153Z",
     "iopub.status.idle": "2022-03-21T02:18:41.308162Z",
     "shell.execute_reply": "2022-03-21T02:18:41.307433Z"
    },
    "papermill": {
     "duration": 0.042146,
     "end_time": "2022-03-21T02:18:41.308314",
     "exception": false,
     "start_time": "2022-03-21T02:18:41.266168",
     "status": "completed"
    },
    "tags": []
   },
   "outputs": [],
   "source": [
    "# add_dataset(\n",
    "#     labels=list(range(19)),\n",
    "#     domains = [0,1,2],\n",
    "#     num_examples_per_domain_per_label=100,\n",
    "#     pickle_path=os.path.join(get_datasets_base_path(), \"metehan.stratified_ds.2022A.pkl\"),\n",
    "#     source_or_target_dataset=\"target\",\n",
    "#     x_transform_func=global_x_transform_func,\n",
    "#     domain_modifier=lambda u: f\"met_{u}\"\n",
    "# )"
   ]
  },
  {
   "cell_type": "code",
   "execution_count": 18,
   "id": "86a863c3",
   "metadata": {
    "execution": {
     "iopub.execute_input": "2022-03-21T02:18:41.360308Z",
     "iopub.status.busy": "2022-03-21T02:18:41.359939Z",
     "iopub.status.idle": "2022-03-21T02:18:41.383915Z",
     "shell.execute_reply": "2022-03-21T02:18:41.383099Z"
    },
    "papermill": {
     "duration": 0.048119,
     "end_time": "2022-03-21T02:18:41.384066",
     "exception": false,
     "start_time": "2022-03-21T02:18:41.335947",
     "status": "completed"
    },
    "tags": []
   },
   "outputs": [],
   "source": [
    "# # from steves_utils.wisig.utils import (\n",
    "# #     ALL_NODES_MINIMUM_100_EXAMPLES,\n",
    "# #     ALL_NODES_MINIMUM_500_EXAMPLES,\n",
    "# #     ALL_NODES_MINIMUM_1000_EXAMPLES,\n",
    "# #     ALL_DAYS\n",
    "# # )\n",
    "\n",
    "# import steves_utils.wisig.utils as wisig\n",
    "\n",
    "\n",
    "# add_dataset(\n",
    "#     labels=wisig.ALL_NODES_MINIMUM_100_EXAMPLES,\n",
    "#     domains = wisig.ALL_DAYS,\n",
    "#     num_examples_per_domain_per_label=100,\n",
    "#     pickle_path=os.path.join(get_datasets_base_path(), \"wisig.node3-19.stratified_ds.2022A.pkl\"),\n",
    "#     source_or_target_dataset=\"target\",\n",
    "#     x_transform_func=global_x_transform_func,\n",
    "#     domain_modifier=lambda u: f\"wisig_{u}\"\n",
    "# )"
   ]
  },
  {
   "cell_type": "code",
   "execution_count": 19,
   "id": "fd5442bc",
   "metadata": {
    "execution": {
     "iopub.execute_input": "2022-03-21T02:18:41.442962Z",
     "iopub.status.busy": "2022-03-21T02:18:41.442576Z",
     "iopub.status.idle": "2022-03-21T02:18:41.463003Z",
     "shell.execute_reply": "2022-03-21T02:18:41.462311Z"
    },
    "papermill": {
     "duration": 0.048954,
     "end_time": "2022-03-21T02:18:41.463153",
     "exception": false,
     "start_time": "2022-03-21T02:18:41.414199",
     "status": "completed"
    },
    "tags": []
   },
   "outputs": [],
   "source": [
    "###################################\n",
    "# Build the dataset\n",
    "###################################\n",
    "train_original_source = Iterable_Aggregator(train_original_source, p.seed)\n",
    "val_original_source = Iterable_Aggregator(val_original_source, p.seed)\n",
    "test_original_source = Iterable_Aggregator(test_original_source, p.seed)\n",
    "\n",
    "\n",
    "train_original_target = Iterable_Aggregator(train_original_target, p.seed)\n",
    "val_original_target = Iterable_Aggregator(val_original_target, p.seed)\n",
    "test_original_target = Iterable_Aggregator(test_original_target, p.seed)\n",
    "\n",
    "# For CNN We only use X and Y. And we only train on the source.\n",
    "# Properly form the data using a transform lambda and Lazy_Iterable_Wrapper. Finally wrap them in a dataloader\n",
    "\n",
    "transform_lambda = lambda ex: ex[1] # Original is (<domain>, <episode>) so we strip down to episode only\n",
    "\n",
    "train_processed_source = Lazy_Iterable_Wrapper(train_original_source, transform_lambda)\n",
    "val_processed_source   = Lazy_Iterable_Wrapper(val_original_source, transform_lambda)\n",
    "test_processed_source  = Lazy_Iterable_Wrapper(test_original_source, transform_lambda)\n",
    "\n",
    "train_processed_target = Lazy_Iterable_Wrapper(train_original_target, transform_lambda)\n",
    "val_processed_target   = Lazy_Iterable_Wrapper(val_original_target, transform_lambda)\n",
    "test_processed_target  = Lazy_Iterable_Wrapper(test_original_target, transform_lambda)\n",
    "\n",
    "datasets = EasyDict({\n",
    "    \"source\": {\n",
    "        \"original\": {\"train\":train_original_source, \"val\":val_original_source, \"test\":test_original_source},\n",
    "        \"processed\": {\"train\":train_processed_source, \"val\":val_processed_source, \"test\":test_processed_source}\n",
    "    },\n",
    "    \"target\": {\n",
    "        \"original\": {\"train\":train_original_target, \"val\":val_original_target, \"test\":test_original_target},\n",
    "        \"processed\": {\"train\":train_processed_target, \"val\":val_processed_target, \"test\":test_processed_target}\n",
    "    },\n",
    "})"
   ]
  },
  {
   "cell_type": "code",
   "execution_count": 20,
   "id": "5b3c01fc",
   "metadata": {
    "execution": {
     "iopub.execute_input": "2022-03-21T02:18:41.515481Z",
     "iopub.status.busy": "2022-03-21T02:18:41.515102Z",
     "iopub.status.idle": "2022-03-21T02:18:49.910844Z",
     "shell.execute_reply": "2022-03-21T02:18:49.910442Z"
    },
    "papermill": {
     "duration": 8.419473,
     "end_time": "2022-03-21T02:18:49.910940",
     "exception": false,
     "start_time": "2022-03-21T02:18:41.491467",
     "status": "completed"
    },
    "tags": []
   },
   "outputs": [
    {
     "name": "stdout",
     "output_type": "stream",
     "text": [
      "{'Wisig_2', 'Wisig_4', 'Wisig_3', 'Wisig_1'}\n"
     ]
    },
    {
     "name": "stdout",
     "output_type": "stream",
     "text": [
      "{'CORES_1', 'CORES_4', 'CORES_3', 'CORES_5', 'CORES_2'}\n"
     ]
    },
    {
     "name": "stdout",
     "output_type": "stream",
     "text": [
      "tensor([[[-0.6125, -0.3767, -0.6864,  ...,  0.0393, -0.0624, -0.4322],\n",
      "         [-0.2843,  0.0740,  0.5847,  ...,  0.4877,  0.3236,  0.6795]],\n",
      "\n",
      "        [[-0.5832, -1.2554, -1.8513,  ..., -0.9352, -0.8779, -0.4559],\n",
      "         [ 1.3084, -0.1039, -0.8970,  ...,  0.8122,  0.3435, -0.0170]],\n",
      "\n",
      "        [[-0.7472, -0.3748, -0.3841,  ...,  0.4614,  0.2085,  0.0023],\n",
      "         [-0.2904, -0.0937,  0.5645,  ...,  0.5504,  0.2694,  0.7612]],\n",
      "\n",
      "        ...,\n",
      "\n",
      "        [[-0.7296, -1.2901,  0.0844,  ..., -0.8748, -1.0764,  0.1694],\n",
      "         [ 1.1914, -0.4636, -1.4384,  ...,  0.5436, -0.5027, -1.1838]],\n",
      "\n",
      "        [[-0.1236, -0.2502, -0.9719,  ..., -0.1089, -0.2549, -0.2674],\n",
      "         [-0.1438,  0.2002, -0.5582,  ...,  0.0273, -0.3290, -0.7943]],\n",
      "\n",
      "        [[-0.0806, -0.1221,  0.0884,  ...,  0.6156, -0.0618, -0.4325],\n",
      "         [ 0.0310,  0.0642,  0.4253,  ..., -0.2739,  0.1199,  0.1759]]])\n"
     ]
    }
   ],
   "source": [
    "from steves_utils.transforms import get_average_magnitude, get_average_power\n",
    "\n",
    "print(set([u for u,_ in val_original_source]))\n",
    "print(set([u for u,_ in val_original_target]))\n",
    "\n",
    "s_x, s_y, q_x, q_y, _ = next(iter(train_processed_source))\n",
    "print(s_x)\n",
    "\n",
    "# for ds in [\n",
    "#     train_processed_source,\n",
    "#     val_processed_source,\n",
    "#     test_processed_source,\n",
    "#     train_processed_target,\n",
    "#     val_processed_target,\n",
    "#     test_processed_target\n",
    "# ]:\n",
    "#     for s_x, s_y, q_x, q_y, _ in ds:\n",
    "#         for X in (s_x, q_x):\n",
    "#             for x in X:\n",
    "#                 assert np.isclose(get_average_magnitude(x.numpy()), 1.0)\n",
    "#                 assert np.isclose(get_average_power(x.numpy()), 1.0)\n",
    "                "
   ]
  },
  {
   "cell_type": "code",
   "execution_count": 21,
   "id": "bbdacba1",
   "metadata": {
    "execution": {
     "iopub.execute_input": "2022-03-21T02:18:49.965077Z",
     "iopub.status.busy": "2022-03-21T02:18:49.964699Z",
     "iopub.status.idle": "2022-03-21T02:18:50.145808Z",
     "shell.execute_reply": "2022-03-21T02:18:50.146132Z"
    },
    "papermill": {
     "duration": 0.209966,
     "end_time": "2022-03-21T02:18:50.146272",
     "exception": false,
     "start_time": "2022-03-21T02:18:49.936306",
     "status": "completed"
    },
    "tags": []
   },
   "outputs": [
    {
     "name": "stdout",
     "output_type": "stream",
     "text": [
      "(2, 256)\n"
     ]
    }
   ],
   "source": [
    "###################################\n",
    "# Build the model\n",
    "###################################\n",
    "# easfsl only wants a tuple for the shape\n",
    "model = Steves_Prototypical_Network(x_net, device=p.device, x_shape=tuple(p.x_shape))\n",
    "optimizer = Adam(params=model.parameters(), lr=p.lr)"
   ]
  },
  {
   "cell_type": "code",
   "execution_count": 22,
   "id": "22b39ac5",
   "metadata": {
    "execution": {
     "iopub.execute_input": "2022-03-21T02:18:50.201449Z",
     "iopub.status.busy": "2022-03-21T02:18:50.201071Z",
     "iopub.status.idle": "2022-03-21T02:23:16.624173Z",
     "shell.execute_reply": "2022-03-21T02:23:16.623304Z"
    },
    "papermill": {
     "duration": 266.454627,
     "end_time": "2022-03-21T02:23:16.624341",
     "exception": false,
     "start_time": "2022-03-21T02:18:50.169714",
     "status": "completed"
    },
    "tags": []
   },
   "outputs": [
    {
     "name": "stdout",
     "output_type": "stream",
     "text": [
      "epoch: 1, [batch: 1 / 905], examples_per_second: 207.5443, train_label_loss: 3.8300, \n"
     ]
    },
    {
     "name": "stdout",
     "output_type": "stream",
     "text": [
      "epoch: 1, [batch: 91 / 905], examples_per_second: 3071.0107, train_label_loss: 1.0152, \n"
     ]
    },
    {
     "name": "stdout",
     "output_type": "stream",
     "text": [
      "epoch: 1, [batch: 181 / 905], examples_per_second: 3004.6876, train_label_loss: 0.6704, \n"
     ]
    },
    {
     "name": "stdout",
     "output_type": "stream",
     "text": [
      "epoch: 1, [batch: 272 / 905], examples_per_second: 3056.2791, train_label_loss: 0.4387, \n"
     ]
    },
    {
     "name": "stdout",
     "output_type": "stream",
     "text": [
      "epoch: 1, [batch: 362 / 905], examples_per_second: 3069.3720, train_label_loss: 0.5104, \n"
     ]
    },
    {
     "name": "stdout",
     "output_type": "stream",
     "text": [
      "epoch: 1, [batch: 453 / 905], examples_per_second: 2972.5184, train_label_loss: 0.3681, \n"
     ]
    },
    {
     "name": "stdout",
     "output_type": "stream",
     "text": [
      "epoch: 1, [batch: 543 / 905], examples_per_second: 2994.3065, train_label_loss: 0.4658, \n"
     ]
    },
    {
     "name": "stdout",
     "output_type": "stream",
     "text": [
      "epoch: 1, [batch: 633 / 905], examples_per_second: 3075.4494, train_label_loss: 0.4850, \n"
     ]
    },
    {
     "name": "stdout",
     "output_type": "stream",
     "text": [
      "epoch: 1, [batch: 724 / 905], examples_per_second: 3033.1405, train_label_loss: 0.3894, \n"
     ]
    },
    {
     "name": "stdout",
     "output_type": "stream",
     "text": [
      "epoch: 1, [batch: 814 / 905], examples_per_second: 3024.4950, train_label_loss: 0.6015, \n"
     ]
    },
    {
     "name": "stdout",
     "output_type": "stream",
     "text": [
      "=============================================================\n",
      "epoch: 1, source_val_acc_label: 0.9364, target_val_acc_label: 0.9740, source_val_label_loss: 0.3283, target_val_label_loss: 0.2068, \n",
      "=============================================================\n"
     ]
    },
    {
     "name": "stdout",
     "output_type": "stream",
     "text": [
      "New best\n"
     ]
    },
    {
     "name": "stdout",
     "output_type": "stream",
     "text": [
      "epoch: 2, [batch: 1 / 914], examples_per_second: 22.9653, train_label_loss: 0.6046, \n"
     ]
    },
    {
     "name": "stdout",
     "output_type": "stream",
     "text": [
      "epoch: 2, [batch: 92 / 914], examples_per_second: 3096.1098, train_label_loss: 0.0869, \n"
     ]
    },
    {
     "name": "stdout",
     "output_type": "stream",
     "text": [
      "epoch: 2, [batch: 183 / 914], examples_per_second: 3079.1341, train_label_loss: 0.4386, \n"
     ]
    },
    {
     "name": "stdout",
     "output_type": "stream",
     "text": [
      "epoch: 2, [batch: 274 / 914], examples_per_second: 3419.6666, train_label_loss: 0.0858, \n"
     ]
    },
    {
     "name": "stdout",
     "output_type": "stream",
     "text": [
      "epoch: 2, [batch: 366 / 914], examples_per_second: 4164.4461, train_label_loss: 0.5097, \n"
     ]
    },
    {
     "name": "stdout",
     "output_type": "stream",
     "text": [
      "epoch: 2, [batch: 457 / 914], examples_per_second: 4503.3912, train_label_loss: 0.1400, \n"
     ]
    },
    {
     "name": "stdout",
     "output_type": "stream",
     "text": [
      "epoch: 2, [batch: 548 / 914], examples_per_second: 4650.5784, train_label_loss: 0.3263, \n"
     ]
    },
    {
     "name": "stdout",
     "output_type": "stream",
     "text": [
      "epoch: 2, [batch: 640 / 914], examples_per_second: 4723.5915, train_label_loss: 0.3203, \n"
     ]
    },
    {
     "name": "stdout",
     "output_type": "stream",
     "text": [
      "epoch: 2, [batch: 731 / 914], examples_per_second: 4553.2974, train_label_loss: 0.1767, \n"
     ]
    },
    {
     "name": "stdout",
     "output_type": "stream",
     "text": [
      "epoch: 2, [batch: 822 / 914], examples_per_second: 4418.6804, train_label_loss: 0.1214, \n"
     ]
    },
    {
     "name": "stdout",
     "output_type": "stream",
     "text": [
      "=============================================================\n",
      "epoch: 2, source_val_acc_label: 0.9562, target_val_acc_label: 0.9776, source_val_label_loss: 0.2496, target_val_label_loss: 0.1387, \n",
      "=============================================================\n"
     ]
    },
    {
     "name": "stdout",
     "output_type": "stream",
     "text": [
      "New best\n"
     ]
    },
    {
     "name": "stdout",
     "output_type": "stream",
     "text": [
      "epoch: 3, [batch: 1 / 916], examples_per_second: 40.6351, train_label_loss: 0.2402, \n"
     ]
    },
    {
     "name": "stdout",
     "output_type": "stream",
     "text": [
      "epoch: 3, [batch: 92 / 916], examples_per_second: 3496.4674, train_label_loss: 0.1320, \n"
     ]
    },
    {
     "name": "stdout",
     "output_type": "stream",
     "text": [
      "epoch: 3, [batch: 184 / 916], examples_per_second: 3486.8487, train_label_loss: 0.1380, \n"
     ]
    },
    {
     "name": "stdout",
     "output_type": "stream",
     "text": [
      "epoch: 3, [batch: 275 / 916], examples_per_second: 3514.5593, train_label_loss: 0.2204, \n"
     ]
    },
    {
     "name": "stdout",
     "output_type": "stream",
     "text": [
      "epoch: 3, [batch: 367 / 916], examples_per_second: 3441.9651, train_label_loss: 0.1724, \n"
     ]
    },
    {
     "name": "stdout",
     "output_type": "stream",
     "text": [
      "epoch: 3, [batch: 458 / 916], examples_per_second: 3466.3963, train_label_loss: 0.2337, \n"
     ]
    },
    {
     "name": "stdout",
     "output_type": "stream",
     "text": [
      "epoch: 3, [batch: 550 / 916], examples_per_second: 3527.9472, train_label_loss: 0.3164, \n"
     ]
    },
    {
     "name": "stdout",
     "output_type": "stream",
     "text": [
      "epoch: 3, [batch: 641 / 916], examples_per_second: 3437.7979, train_label_loss: 0.2089, \n"
     ]
    },
    {
     "name": "stdout",
     "output_type": "stream",
     "text": [
      "epoch: 3, [batch: 733 / 916], examples_per_second: 3468.5576, train_label_loss: 0.1923, \n"
     ]
    },
    {
     "name": "stdout",
     "output_type": "stream",
     "text": [
      "epoch: 3, [batch: 824 / 916], examples_per_second: 3453.6655, train_label_loss: 0.0260, \n"
     ]
    },
    {
     "name": "stdout",
     "output_type": "stream",
     "text": [
      "=============================================================\n",
      "epoch: 3, source_val_acc_label: 0.9575, target_val_acc_label: 0.9790, source_val_label_loss: 0.2368, target_val_label_loss: 0.1345, \n",
      "=============================================================\n"
     ]
    },
    {
     "name": "stdout",
     "output_type": "stream",
     "text": [
      "New best\n"
     ]
    }
   ],
   "source": [
    "###################################\n",
    "# train\n",
    "###################################\n",
    "jig = PTN_Train_Eval_Test_Jig(model, p.BEST_MODEL_PATH, p.device)\n",
    "\n",
    "jig.train(\n",
    "    train_iterable=datasets.source.processed.train,\n",
    "    source_val_iterable=datasets.source.processed.val,\n",
    "    target_val_iterable=datasets.target.processed.val,\n",
    "    num_epochs=p.n_epoch,\n",
    "    num_logs_per_epoch=p.NUM_LOGS_PER_EPOCH,\n",
    "    patience=p.patience,\n",
    "    optimizer=optimizer,\n",
    "    criteria_for_best=p.criteria_for_best,\n",
    ")"
   ]
  },
  {
   "cell_type": "code",
   "execution_count": 23,
   "id": "31e8fabf",
   "metadata": {
    "execution": {
     "iopub.execute_input": "2022-03-21T02:23:16.700003Z",
     "iopub.status.busy": "2022-03-21T02:23:16.699629Z",
     "iopub.status.idle": "2022-03-21T02:23:16.734760Z",
     "shell.execute_reply": "2022-03-21T02:23:16.735430Z"
    },
    "papermill": {
     "duration": 0.073678,
     "end_time": "2022-03-21T02:23:16.735657",
     "exception": false,
     "start_time": "2022-03-21T02:23:16.661979",
     "status": "completed"
    },
    "tags": []
   },
   "outputs": [],
   "source": [
    "total_experiment_time_secs = time.time() - start_time_secs"
   ]
  },
  {
   "cell_type": "code",
   "execution_count": 24,
   "id": "87b9595b",
   "metadata": {
    "execution": {
     "iopub.execute_input": "2022-03-21T02:23:16.819673Z",
     "iopub.status.busy": "2022-03-21T02:23:16.818777Z",
     "iopub.status.idle": "2022-03-21T02:24:28.331671Z",
     "shell.execute_reply": "2022-03-21T02:24:28.332397Z"
    },
    "papermill": {
     "duration": 71.556965,
     "end_time": "2022-03-21T02:24:28.332626",
     "exception": false,
     "start_time": "2022-03-21T02:23:16.775661",
     "status": "completed"
    },
    "tags": []
   },
   "outputs": [],
   "source": [
    "###################################\n",
    "# Evaluate the model\n",
    "###################################\n",
    "source_test_label_accuracy, source_test_label_loss = jig.test(datasets.source.processed.test)\n",
    "target_test_label_accuracy, target_test_label_loss = jig.test(datasets.target.processed.test)\n",
    "\n",
    "source_val_label_accuracy, source_val_label_loss = jig.test(datasets.source.processed.val)\n",
    "target_val_label_accuracy, target_val_label_loss = jig.test(datasets.target.processed.val)\n",
    "\n",
    "history = jig.get_history()\n",
    "\n",
    "total_epochs_trained = len(history[\"epoch_indices\"])\n",
    "\n",
    "val_dl = Iterable_Aggregator((datasets.source.original.val,datasets.target.original.val))\n",
    "\n",
    "confusion = ptn_confusion_by_domain_over_dataloader(model, p.device, val_dl)\n",
    "per_domain_accuracy = per_domain_accuracy_from_confusion(confusion)\n",
    "\n",
    "# Add a key to per_domain_accuracy for if it was a source domain\n",
    "for domain, accuracy in per_domain_accuracy.items():\n",
    "    per_domain_accuracy[domain] = {\n",
    "        \"accuracy\": accuracy,\n",
    "        \"source?\": domain in p.domains_source\n",
    "    }\n",
    "\n",
    "# Do an independent accuracy assesment JUST TO BE SURE!\n",
    "# _source_test_label_accuracy = independent_accuracy_assesment(model, datasets.source.processed.test, p.device)\n",
    "# _target_test_label_accuracy = independent_accuracy_assesment(model, datasets.target.processed.test, p.device)\n",
    "# _source_val_label_accuracy = independent_accuracy_assesment(model, datasets.source.processed.val, p.device)\n",
    "# _target_val_label_accuracy = independent_accuracy_assesment(model, datasets.target.processed.val, p.device)\n",
    "\n",
    "# assert(_source_test_label_accuracy == source_test_label_accuracy)\n",
    "# assert(_target_test_label_accuracy == target_test_label_accuracy)\n",
    "# assert(_source_val_label_accuracy == source_val_label_accuracy)\n",
    "# assert(_target_val_label_accuracy == target_val_label_accuracy)\n",
    "\n",
    "experiment = {\n",
    "    \"experiment_name\": p.experiment_name,\n",
    "    \"parameters\": dict(p),\n",
    "    \"results\": {\n",
    "        \"source_test_label_accuracy\": source_test_label_accuracy,\n",
    "        \"source_test_label_loss\": source_test_label_loss,\n",
    "        \"target_test_label_accuracy\": target_test_label_accuracy,\n",
    "        \"target_test_label_loss\": target_test_label_loss,\n",
    "        \"source_val_label_accuracy\": source_val_label_accuracy,\n",
    "        \"source_val_label_loss\": source_val_label_loss,\n",
    "        \"target_val_label_accuracy\": target_val_label_accuracy,\n",
    "        \"target_val_label_loss\": target_val_label_loss,\n",
    "        \"total_epochs_trained\": total_epochs_trained,\n",
    "        \"total_experiment_time_secs\": total_experiment_time_secs,\n",
    "        \"confusion\": confusion,\n",
    "        \"per_domain_accuracy\": per_domain_accuracy,\n",
    "    },\n",
    "    \"history\": history,\n",
    "    \"dataset_metrics\": get_dataset_metrics(datasets, \"ptn\"),\n",
    "}"
   ]
  },
  {
   "cell_type": "code",
   "execution_count": 25,
   "id": "54a21829",
   "metadata": {
    "execution": {
     "iopub.execute_input": "2022-03-21T02:24:28.412946Z",
     "iopub.status.busy": "2022-03-21T02:24:28.412570Z",
     "iopub.status.idle": "2022-03-21T02:24:28.620182Z",
     "shell.execute_reply": "2022-03-21T02:24:28.620886Z"
    },
    "papermill": {
     "duration": 0.24611,
     "end_time": "2022-03-21T02:24:28.621098",
     "exception": false,
     "start_time": "2022-03-21T02:24:28.374988",
     "status": "completed"
    },
    "tags": []
   },
   "outputs": [
    {
     "data": {
      "image/png": "[encoded data removed]",
      "text/plain": [
       "<Figure size 1080x504 with 1 Axes>"
      ]
     },
     "metadata": {
      "needs_background": "light"
     },
     "output_type": "display_data"
    }
   ],
   "source": [
    "ax = get_loss_curve(experiment)\n",
    "plt.show()"
   ]
  },
  {
   "cell_type": "code",
   "execution_count": 26,
   "id": "fd8a0f60",
   "metadata": {
    "execution": {
     "iopub.execute_input": "2022-03-21T02:24:28.699577Z",
     "iopub.status.busy": "2022-03-21T02:24:28.699188Z",
     "iopub.status.idle": "2022-03-21T02:24:29.064984Z",
     "shell.execute_reply": "2022-03-21T02:24:29.065676Z"
    },
    "papermill": {
     "duration": 0.403595,
     "end_time": "2022-03-21T02:24:29.065880",
     "exception": false,
     "start_time": "2022-03-21T02:24:28.662285",
     "status": "completed"
    },
    "tags": []
   },
   "outputs": [
    {
     "data": {
      "text/plain": [
       "<AxesSubplot:title={'center':'Results'}>"
      ]
     },
     "execution_count": 26,
     "metadata": {},
     "output_type": "execute_result"
    },
    {
     "data": {
      "image/png": "[encoded data removed]",
      "text/plain": [
       "<Figure size 1080x504 with 1 Axes>"
      ]
     },
     "metadata": {
      "needs_background": "light"
     },
     "output_type": "display_data"
    }
   ],
   "source": [
    "get_results_table(experiment)"
   ]
  },
  {
   "cell_type": "code",
   "execution_count": 27,
   "id": "cf8dc689",
   "metadata": {
    "execution": {
     "iopub.execute_input": "2022-03-21T02:24:29.145555Z",
     "iopub.status.busy": "2022-03-21T02:24:29.144953Z",
     "iopub.status.idle": "2022-03-21T02:24:29.371894Z",
     "shell.execute_reply": "2022-03-21T02:24:29.372596Z"
    },
    "papermill": {
     "duration": 0.266963,
     "end_time": "2022-03-21T02:24:29.372814",
     "exception": false,
     "start_time": "2022-03-21T02:24:29.105851",
     "status": "completed"
    },
    "tags": []
   },
   "outputs": [
    {
     "data": {
      "text/plain": [
       "<AxesSubplot:title={'center':'Per Domain Validation Accuracy'}, xlabel='domain'>"
      ]
     },
     "execution_count": 27,
     "metadata": {},
     "output_type": "execute_result"
    },
    {
     "data": {
      "image/png": "[encoded data removed]",
      "text/plain": [
       "<Figure size 1080x504 with 1 Axes>"
      ]
     },
     "metadata": {
      "needs_background": "light"
     },
     "output_type": "display_data"
    }
   ],
   "source": [
    "get_domain_accuracies(experiment)"
   ]
  },
  {
   "cell_type": "code",
   "execution_count": 28,
   "id": "a74ae082",
   "metadata": {
    "execution": {
     "iopub.execute_input": "2022-03-21T02:24:29.457790Z",
     "iopub.status.busy": "2022-03-21T02:24:29.457407Z",
     "iopub.status.idle": "2022-03-21T02:24:29.482928Z",
     "shell.execute_reply": "2022-03-21T02:24:29.482132Z"
    },
    "papermill": {
     "duration": 0.066438,
     "end_time": "2022-03-21T02:24:29.483094",
     "exception": false,
     "start_time": "2022-03-21T02:24:29.416656",
     "status": "completed"
    },
    "tags": []
   },
   "outputs": [
    {
     "name": "stdout",
     "output_type": "stream",
     "text": [
      "Source Test Label Accuracy: 0.9601293103448276 Target Test Label Accuracy: 0.976551724137931\n",
      "Source Val Label Accuracy: 0.9575026939655172 Target Val Label Accuracy: 0.9789870689655172\n"
     ]
    }
   ],
   "source": [
    "print(\"Source Test Label Accuracy:\", experiment[\"results\"][\"source_test_label_accuracy\"], \"Target Test Label Accuracy:\", experiment[\"results\"][\"target_test_label_accuracy\"])\n",
    "print(\"Source Val Label Accuracy:\", experiment[\"results\"][\"source_val_label_accuracy\"], \"Target Val Label Accuracy:\", experiment[\"results\"][\"target_val_label_accuracy\"])"
   ]
  },
  {
   "cell_type": "code",
   "execution_count": 29,
   "id": "dacca602",
   "metadata": {
    "execution": {
     "iopub.execute_input": "2022-03-21T02:24:29.565691Z",
     "iopub.status.busy": "2022-03-21T02:24:29.565322Z",
     "iopub.status.idle": "2022-03-21T02:24:29.589217Z",
     "shell.execute_reply": "2022-03-21T02:24:29.589898Z"
    },
    "papermill": {
     "duration": 0.064434,
     "end_time": "2022-03-21T02:24:29.590085",
     "exception": false,
     "start_time": "2022-03-21T02:24:29.525651",
     "status": "completed"
    },
    "tags": [
     "experiment_json"
    ]
   },
   "outputs": [
    {
     "data": {
      "text/plain": [
       "'{\"experiment_name\": \"tl_1v2:cores-wisig\", \"parameters\": {\"experiment_name\": \"tl_1v2:cores-wisig\", \"device\": \"cuda\", \"lr\": 0.0001, \"n_shot\": 3, \"n_query\": 2, \"train_k_factor\": 3, \"val_k_factor\": 2, \"test_k_factor\": 2, \"torch_default_dtype\": \"torch.float32\", \"n_epoch\": 3, \"patience\": 3, \"criteria_for_best\": \"target_accuracy\", \"x_net\": [{\"class\": \"nnReshape\", \"kargs\": {\"shape\": [-1, 1, 2, 256]}}, {\"class\": \"Conv2d\", \"kargs\": {\"in_channels\": 1, \"out_channels\": 256, \"kernel_size\": [1, 7], \"bias\": false, \"padding\": [0, 3]}}, {\"class\": \"ReLU\", \"kargs\": {\"inplace\": true}}, {\"class\": \"BatchNorm2d\", \"kargs\": {\"num_features\": 256}}, {\"class\": \"Conv2d\", \"kargs\": {\"in_channels\": 256, \"out_channels\": 80, \"kernel_size\": [2, 7], \"bias\": true, \"padding\": [0, 3]}}, {\"class\": \"ReLU\", \"kargs\": {\"inplace\": true}}, {\"class\": \"BatchNorm2d\", \"kargs\": {\"num_features\": 80}}, {\"class\": \"Flatten\", \"kargs\": {}}, {\"class\": \"Linear\", \"kargs\": {\"in_features\": 20480, \"out_features\": 256}}, {\"class\": \"ReLU\", \"kargs\": {\"inplace\": true}}, {\"class\": \"BatchNorm1d\", \"kargs\": {\"num_features\": 256}}, {\"class\": \"Linear\", \"kargs\": {\"in_features\": 256, \"out_features\": 256}}], \"NUM_LOGS_PER_EPOCH\": 10, \"BEST_MODEL_PATH\": \"./best_model.pth\", \"n_way\": 58, \"datasets\": [{\"labels\": [\"1-10.\", \"1-11.\", \"1-15.\", \"1-16.\", \"1-17.\", \"1-18.\", \"1-19.\", \"10-4.\", \"10-7.\", \"11-1.\", \"11-14.\", \"11-17.\", \"11-20.\", \"11-7.\", \"13-20.\", \"13-8.\", \"14-10.\", \"14-11.\", \"14-14.\", \"14-7.\", \"15-1.\", \"15-20.\", \"16-1.\", \"16-16.\", \"17-10.\", \"17-11.\", \"17-2.\", \"19-1.\", \"19-16.\", \"19-19.\", \"19-20.\", \"19-3.\", \"2-10.\", \"2-11.\", \"2-17.\", \"2-18.\", \"2-20.\", \"2-3.\", \"2-4.\", \"2-5.\", \"2-6.\", \"2-7.\", \"2-8.\", \"3-13.\", \"3-18.\", \"3-3.\", \"4-1.\", \"4-10.\", \"4-11.\", \"4-19.\", \"5-5.\", \"6-15.\", \"7-10.\", \"7-14.\", \"8-18.\", \"8-20.\", \"8-3.\", \"8-8.\"], \"domains\": [1, 2, 3, 4, 5], \"num_examples_per_domain_per_label\": -1, \"pickle_path\": \"/root/csc500-main/datasets/cores.stratified_ds.2022A.pkl\", \"source_or_target_dataset\": \"target\", \"x_transforms\": [\"unit_mag\"], \"episode_transforms\": [], \"domain_prefix\": \"CORES_\"}, {\"labels\": [\"1-10\", \"1-12\", \"1-14\", \"1-16\", \"1-18\", \"1-19\", \"1-8\", \"10-11\", \"10-17\", \"10-4\", \"10-7\", \"11-1\", \"11-10\", \"11-19\", \"11-20\", \"11-4\", \"11-7\", \"12-19\", \"12-20\", \"12-7\", \"13-14\", \"13-18\", \"13-19\", \"13-20\", \"13-3\", \"13-7\", \"14-10\", \"14-11\", \"14-12\", \"14-13\", \"14-14\", \"14-19\", \"14-20\", \"14-7\", \"14-8\", \"14-9\", \"15-1\", \"15-19\", \"15-6\", \"16-1\", \"16-16\", \"16-19\", \"16-20\", \"17-10\", \"17-11\", \"18-1\", \"18-10\", \"18-11\", \"18-12\", \"18-13\", \"18-14\", \"18-15\", \"18-16\", \"18-17\", \"18-19\", \"18-2\", \"18-20\", \"18-4\", \"18-5\", \"18-7\", \"18-8\", \"18-9\", \"19-1\", \"19-10\", \"19-11\", \"19-12\", \"19-13\", \"19-14\", \"19-15\", \"19-19\", \"19-2\", \"19-20\", \"19-3\", \"19-4\", \"19-6\", \"19-7\", \"19-8\", \"19-9\", \"2-1\", \"2-13\", \"2-15\", \"2-3\", \"2-4\", \"2-5\", \"2-6\", \"2-7\", \"2-8\", \"20-1\", \"20-12\", \"20-14\", \"20-15\", \"20-16\", \"20-18\", \"20-19\", \"20-20\", \"20-3\", \"20-4\", \"20-5\", \"20-7\", \"20-8\", \"3-1\", \"3-13\", \"3-18\", \"3-2\", \"3-8\", \"4-1\", \"4-10\", \"4-11\", \"5-1\", \"5-5\", \"6-1\", \"6-15\", \"6-6\", \"7-10\", \"7-11\", \"7-12\", \"7-13\", \"7-14\", \"7-7\", \"7-8\", \"7-9\", \"8-1\", \"8-13\", \"8-14\", \"8-18\", \"8-20\", \"8-3\", \"8-8\", \"9-1\", \"9-7\"], \"domains\": [1, 2, 3, 4], \"num_examples_per_domain_per_label\": -1, \"pickle_path\": \"/root/csc500-main/datasets/wisig.node3-19.stratified_ds.2022A.pkl\", \"source_or_target_dataset\": \"source\", \"x_transforms\": [\"unit_mag\"], \"episode_transforms\": [], \"domain_prefix\": \"Wisig_\"}], \"dataset_seed\": 1337, \"seed\": 1337, \"x_shape\": [2, 256], \"domains_source\": [\"Wisig_1\", \"Wisig_2\", \"Wisig_3\", \"Wisig_4\"], \"domains_target\": [\"CORES_1\", \"CORES_2\", \"CORES_3\", \"CORES_4\", \"CORES_5\"]}, \"results\": {\"source_test_label_accuracy\": 0.9601293103448276, \"source_test_label_loss\": 0.22168485820293427, \"target_test_label_accuracy\": 0.976551724137931, \"target_test_label_loss\": 0.14977015554904938, \"source_val_label_accuracy\": 0.9575026939655172, \"source_val_label_loss\": 0.2367977499961853, \"target_val_label_accuracy\": 0.9789870689655172, \"target_val_label_loss\": 0.13447824120521545, \"total_epochs_trained\": 3, \"total_experiment_time_secs\": 318.8435115814209, \"confusion\": {\"Wisig_3\": {\"36\": {\"36\": 32, \"27\": 4}, \"123\": {\"123\": 15, \"121\": 1}, \"53\": {\"53\": 20}, \"24\": {\"24\": 42, \"70\": 1, \"27\": 1}, \"8\": {\"8\": 38}, \"49\": {\"49\": 20, \"17\": 1, \"24\": 1, \"70\": 1, \"41\": 1}, \"74\": {\"74\": 16}, \"93\": {\"93\": 32}, \"104\": {\"104\": 16}, \"122\": {\"122\": 44, \"4\": 1, \"29\": 1}, \"78\": {\"78\": 12, \"14\": 2, \"87\": 2}, \"21\": {\"78\": 2, \"21\": 35, \"51\": 2, \"101\": 1, \"64\": 1, \"27\": 1}, \"22\": {\"22\": 16}, \"27\": {\"27\": 29, \"36\": 8, \"122\": 1}, \"124\": {\"124\": 40}, \"35\": {\"35\": 10, \"14\": 1, \"17\": 1}, \"37\": {\"37\": 16}, \"45\": {\"45\": 15, \"104\": 1}, \"55\": {\"55\": 16}, \"110\": {\"110\": 40, \"21\": 1, \"94\": 1, \"70\": 2}, \"2\": {\"2\": 28}, \"23\": {\"23\": 32}, \"29\": {\"29\": 32}, \"90\": {\"90\": 44}, \"127\": {\"127\": 39, \"21\": 1}, \"13\": {\"13\": 14, \"21\": 1, \"9\": 1}, \"48\": {\"48\": 16}, \"105\": {\"105\": 46}, \"50\": {\"50\": 16}, \"52\": {\"52\": 16}, \"9\": {\"9\": 32}, \"94\": {\"94\": 46}, \"14\": {\"14\": 38}, \"98\": {\"98\": 47, \"99\": 1}, \"64\": {\"64\": 20}, \"97\": {\"97\": 18, \"24\": 1, \"92\": 1}, \"117\": {\"117\": 40}, \"85\": {\"85\": 30}, \"44\": {\"44\": 34}, \"80\": {\"80\": 16}, \"16\": {\"16\": 38}, \"103\": {\"103\": 15, \"29\": 1}, \"40\": {\"40\": 36}, \"30\": {\"127\": 1, \"30\": 38, \"4\": 1}, \"6\": {\"6\": 32}, \"108\": {\"108\": 33, \"88\": 1, \"53\": 2}, \"33\": {\"33\": 40}, \"96\": {\"96\": 20}, \"79\": {\"79\": 12}, \"109\": {\"109\": 38, \"30\": 2}, \"81\": {\"81\": 31, \"126\": 1}, \"88\": {\"88\": 38, \"108\": 1, \"70\": 1}, \"41\": {\"41\": 16}, \"70\": {\"70\": 32, \"110\": 2, \"71\": 2, \"101\": 1, \"30\": 1}, \"76\": {\"76\": 16}, \"5\": {\"5\": 47, \"43\": 1}, \"0\": {\"0\": 43, \"101\": 1}, \"4\": {\"4\": 36}, \"86\": {\"86\": 26, \"0\": 1, \"94\": 1}, \"69\": {\"69\": 38}, \"26\": {\"26\": 46}, \"120\": {\"120\": 20}, \"84\": {\"84\": 42}, \"12\": {\"12\": 36}, \"32\": {\"32\": 32}, \"89\": {\"89\": 28}, \"129\": {\"129\": 32}, \"125\": {\"125\": 40}, \"116\": {\"116\": 28}, \"19\": {\"19\": 32}, \"71\": {\"71\": 43, \"110\": 2, \"21\": 1}, \"72\": {\"72\": 28}, \"100\": {\"100\": 15, \"78\": 1}, \"20\": {\"20\": 14, \"21\": 1, \"16\": 1}, \"65\": {\"65\": 12}, \"121\": {\"121\": 25, \"21\": 2, \"17\": 1, \"45\": 1, \"110\": 1}, \"34\": {\"34\": 31, \"86\": 1}, \"119\": {\"119\": 16}, \"75\": {\"75\": 16}, \"1\": {\"1\": 38}, \"113\": {\"113\": 34}, \"39\": {\"39\": 45, \"101\": 1}, \"82\": {\"82\": 25, \"78\": 1, \"14\": 1, \"122\": 1}, \"67\": {\"67\": 16}, \"63\": {\"63\": 16}, \"31\": {\"31\": 20}, \"38\": {\"38\": 15, \"121\": 1}, \"17\": {\"110\": 1, \"17\": 8, \"11\": 1, \"122\": 2, \"39\": 1, \"102\": 1, \"55\": 1, \"21\": 1}, \"106\": {\"106\": 35, \"101\": 1}, \"91\": {\"91\": 23, \"122\": 1}, \"56\": {\"56\": 12}, \"46\": {\"46\": 16}, \"128\": {\"17\": 1, \"128\": 26, \"11\": 1}, \"66\": {\"66\": 16}, \"10\": {\"10\": 38, \"101\": 1, \"9\": 1}, \"62\": {\"62\": 28, \"25\": 1, \"109\": 1}, \"112\": {\"112\": 15, \"80\": 1}, \"47\": {\"47\": 12}, \"107\": {\"107\": 40, \"14\": 1, \"25\": 1}, \"28\": {\"28\": 16}, \"95\": {\"95\": 32}, \"18\": {\"18\": 34}, \"114\": {\"114\": 37, \"110\": 1}, \"102\": {\"102\": 36}, \"68\": {\"68\": 15, \"21\": 1}, \"126\": {\"126\": 36, \"110\": 1, \"70\": 1, \"39\": 3, \"9\": 1}, \"111\": {\"111\": 44}, \"3\": {\"3\": 34}, \"73\": {\"73\": 30, \"17\": 1, \"27\": 2, \"121\": 1}, \"60\": {\"60\": 27, \"110\": 1}, \"101\": {\"101\": 31, \"78\": 1, \"10\": 2}, \"7\": {\"26\": 1, \"7\": 24, \"117\": 1}, \"83\": {\"83\": 24}, \"42\": {\"42\": 25, \"8\": 1, \"124\": 1, \"88\": 1}, \"15\": {\"15\": 38}, \"11\": {\"11\": 36}, \"58\": {\"58\": 16}, \"57\": {\"57\": 20}, \"118\": {\"118\": 35, \"127\": 1}, \"99\": {\"99\": 34}, \"25\": {\"25\": 16}, \"61\": {\"61\": 16}, \"87\": {\"87\": 37, \"17\": 1}, \"115\": {\"115\": 16}, \"92\": {\"92\": 31, \"122\": 1}, \"51\": {\"51\": 16}, \"59\": {\"59\": 12}, \"77\": {\"77\": 16}, \"54\": {\"54\": 16}, \"43\": {\"43\": 33, \"113\": 1, \"33\": 2, \"21\": 1, \"30\": 1}}, \"Wisig_2\": {\"37\": {\"37\": 16}, \"101\": {\"101\": 41, \"0\": 1}, \"83\": {\"83\": 36}, \"95\": {\"95\": 35, \"21\": 1}, \"122\": {\"21\": 1, \"122\": 32, \"127\": 1, \"68\": 1, \"111\": 1}, \"18\": {\"18\": 47, \"70\": 1}, \"9\": {\"9\": 31, \"70\": 1}, \"57\": {\"57\": 20}, \"93\": {\"93\": 45, \"51\": 1}, \"64\": {\"64\": 15, \"40\": 1}, \"70\": {\"70\": 36, \"87\": 1, \"21\": 1, \"78\": 1, \"110\": 1}, \"36\": {\"36\": 39, \"14\": 1}, \"109\": {\"109\": 39, \"74\": 1, \"121\": 1, \"78\": 1, \"118\": 2}, \"92\": {\"92\": 26, \"110\": 1, \"71\": 1}, \"28\": {\"28\": 20}, \"39\": {\"39\": 36, \"110\": 1, \"21\": 1, \"23\": 1, \"60\": 1}, \"47\": {\"47\": 9, \"110\": 1, \"9\": 1, \"61\": 1}, \"127\": {\"127\": 46, \"58\": 1, \"111\": 1}, \"6\": {\"6\": 31, \"34\": 1}, \"13\": {\"13\": 12, \"70\": 1, \"109\": 1, \"61\": 1, \"21\": 1}, \"14\": {\"14\": 37, \"52\": 1, \"110\": 1, \"21\": 1}, \"110\": {\"70\": 1, \"110\": 32, \"72\": 1}, \"62\": {\"62\": 45, \"17\": 1}, \"59\": {\"59\": 16}, \"10\": {\"10\": 31, \"95\": 1, \"110\": 2}, \"41\": {\"41\": 20}, \"25\": {\"25\": 15, \"13\": 1}, \"45\": {\"45\": 16}, \"1\": {\"1\": 40, \"21\": 1, \"24\": 1}, \"61\": {\"61\": 20}, \"3\": {\"3\": 42}, \"35\": {\"35\": 12}, \"126\": {\"126\": 41, \"51\": 1}, \"90\": {\"90\": 40}, \"58\": {\"58\": 18, \"87\": 1, \"103\": 1}, \"74\": {\"74\": 16}, \"27\": {\"27\": 40, \"95\": 1, \"21\": 1, \"10\": 1, \"14\": 1, \"36\": 2}, \"60\": {\"60\": 26, \"93\": 1, \"87\": 1}, \"123\": {\"123\": 16}, \"50\": {\"50\": 15, \"14\": 1}, \"84\": {\"84\": 41, \"110\": 1}, \"128\": {\"128\": 23, \"30\": 1}, \"72\": {\"72\": 27, \"110\": 1}, \"96\": {\"96\": 20}, \"119\": {\"119\": 19, \"82\": 1}, \"56\": {\"56\": 12}, \"98\": {\"98\": 45, \"59\": 1}, \"87\": {\"87\": 35, \"21\": 2, \"70\": 2, \"58\": 1, \"60\": 1, \"11\": 1}, \"40\": {\"40\": 46}, \"114\": {\"114\": 40}, \"55\": {\"55\": 16}, \"8\": {\"8\": 60}, \"79\": {\"79\": 15, \"17\": 1}, \"112\": {\"112\": 15, \"49\": 1}, \"21\": {\"70\": 2, \"21\": 37, \"122\": 1, \"107\": 1, \"39\": 1, \"43\": 1, \"14\": 1, \"110\": 1, \"87\": 1}, \"42\": {\"42\": 27, \"5\": 1}, \"5\": {\"5\": 38, \"4\": 1, \"70\": 1}, \"22\": {\"22\": 20}, \"73\": {\"73\": 28}, \"69\": {\"69\": 26, \"0\": 1, \"14\": 1, \"107\": 1, \"24\": 1}, \"108\": {\"108\": 32}, \"118\": {\"118\": 41, \"14\": 1}, \"4\": {\"4\": 36, \"71\": 1, \"87\": 1}, \"49\": {\"49\": 17, \"109\": 1, \"110\": 1, \"11\": 1, \"103\": 1, \"77\": 1, \"81\": 1, \"52\": 1}, \"99\": {\"99\": 32}, \"66\": {\"66\": 18, \"110\": 1, \"94\": 1}, \"116\": {\"116\": 28}, \"67\": {\"110\": 1, \"67\": 13, \"109\": 1, \"78\": 1}, \"15\": {\"15\": 33, \"14\": 1}, \"63\": {\"63\": 18, \"13\": 1, \"70\": 1}, \"26\": {\"26\": 37, \"75\": 1}, \"24\": {\"24\": 34, \"49\": 1, \"95\": 1, \"87\": 1, \"70\": 1, \"27\": 2}, \"103\": {\"103\": 15, \"70\": 1}, \"38\": {\"38\": 16}, \"71\": {\"71\": 43, \"103\": 1, \"110\": 1, \"24\": 1}, \"75\": {\"75\": 16}, \"44\": {\"44\": 37, \"72\": 1}, \"104\": {\"104\": 18, \"82\": 1, \"110\": 1}, \"23\": {\"23\": 41, \"110\": 1}, \"105\": {\"105\": 28}, \"30\": {\"30\": 39, \"94\": 1, \"10\": 1, \"101\": 1}, \"120\": {\"120\": 20}, \"113\": {\"113\": 38, \"36\": 1, \"40\": 1}, \"53\": {\"53\": 16}, \"91\": {\"91\": 26, \"70\": 1, \"122\": 1}, \"89\": {\"89\": 34, \"72\": 1, \"97\": 1}, \"117\": {\"117\": 41, \"118\": 1}, \"82\": {\"82\": 36}, \"20\": {\"20\": 15, \"27\": 1}, \"34\": {\"34\": 29, \"86\": 2, \"81\": 1}, \"7\": {\"7\": 35, \"21\": 1}, \"80\": {\"80\": 16}, \"125\": {\"125\": 46}, \"16\": {\"16\": 40}, \"88\": {\"88\": 41, \"23\": 1}, \"85\": {\"85\": 31, \"110\": 1}, \"17\": {\"17\": 13, \"23\": 1, \"61\": 1, \"70\": 1}, \"107\": {\"107\": 42, \"81\": 1, \"14\": 2, \"10\": 1, \"40\": 1, \"87\": 1}, \"11\": {\"11\": 44}, \"100\": {\"100\": 16}, \"78\": {\"56\": 1, \"78\": 36, \"21\": 2, \"28\": 2, \"95\": 1, \"43\": 2, \"70\": 2, \"97\": 1, \"110\": 1}, \"115\": {\"115\": 11, \"27\": 1}, \"121\": {\"121\": 31, \"110\": 1}, \"0\": {\"0\": 40}, \"124\": {\"124\": 46}, \"81\": {\"81\": 22, \"21\": 1, \"109\": 1}, \"68\": {\"68\": 12, \"9\": 1, \"110\": 2, \"70\": 1}, \"86\": {\"86\": 32}, \"12\": {\"82\": 1, \"12\": 45, \"14\": 1, \"62\": 1, \"19\": 1, \"24\": 1}, \"31\": {\"122\": 1, \"31\": 19}, \"129\": {\"129\": 30, \"73\": 1, \"110\": 1}, \"111\": {\"111\": 41, \"127\": 1}, \"106\": {\"106\": 40}, \"32\": {\"32\": 33, \"58\": 1}, \"94\": {\"94\": 41, \"21\": 2, \"51\": 1, \"58\": 1, \"110\": 1}, \"2\": {\"2\": 32}, \"48\": {\"48\": 20}, \"33\": {\"33\": 40}, \"76\": {\"76\": 16}, \"102\": {\"102\": 34}, \"54\": {\"54\": 20}, \"52\": {\"52\": 19, \"63\": 1}, \"29\": {\"29\": 32}, \"46\": {\"46\": 16}, \"43\": {\"43\": 32, \"110\": 3, \"78\": 1}, \"77\": {\"77\": 15, \"31\": 1}, \"51\": {\"51\": 17, \"110\": 1, \"9\": 1, \"111\": 1}, \"19\": {\"19\": 26, \"110\": 1, \"123\": 1}, \"97\": {\"97\": 19, \"30\": 1}, \"65\": {\"65\": 16, \"81\": 1, \"51\": 1, \"87\": 1, \"16\": 1}}, \"Wisig_1\": {\"110\": {\"110\": 39, \"0\": 1}, \"27\": {\"27\": 34}, \"106\": {\"106\": 38}, \"13\": {\"13\": 16}, \"120\": {\"120\": 20}, \"25\": {\"25\": 16}, \"47\": {\"47\": 12}, \"8\": {\"8\": 45, \"72\": 1}, \"124\": {\"124\": 38}, \"55\": {\"55\": 12}, \"63\": {\"63\": 16}, \"58\": {\"58\": 11, \"125\": 1}, \"105\": {\"105\": 31, \"93\": 1, \"125\": 1, \"40\": 2, \"34\": 1}, \"59\": {\"59\": 11, \"13\": 1}, \"12\": {\"12\": 36}, \"98\": {\"98\": 44}, \"96\": {\"96\": 16, \"129\": 1, \"70\": 1, \"2\": 1, \"12\": 1}, \"30\": {\"30\": 41, \"94\": 1}, \"53\": {\"53\": 20}, \"82\": {\"82\": 36}, \"33\": {\"33\": 30}, \"0\": {\"0\": 35, \"10\": 1}, \"122\": {\"122\": 31, \"21\": 1, \"24\": 1, \"34\": 1}, \"28\": {\"28\": 18, \"23\": 1, \"49\": 1}, \"17\": {\"65\": 1, \"17\": 13, \"61\": 1, \"49\": 1}, \"121\": {\"121\": 32}, \"104\": {\"104\": 15, \"87\": 1}, \"71\": {\"71\": 36}, \"20\": {\"20\": 16}, \"41\": {\"41\": 16}, \"7\": {\"7\": 34}, \"83\": {\"83\": 27, \"39\": 1}, \"9\": {\"9\": 32}, \"118\": {\"118\": 41, \"122\": 1, \"16\": 1, \"34\": 1}, \"111\": {\"111\": 29, \"30\": 1}, \"23\": {\"23\": 17, \"91\": 1, \"78\": 1, \"18\": 1}, \"65\": {\"65\": 12}, \"95\": {\"95\": 28}, \"38\": {\"38\": 16}, \"50\": {\"50\": 15, \"39\": 1}, \"3\": {\"3\": 27, \"27\": 2, \"43\": 1}, \"31\": {\"31\": 16}, \"48\": {\"48\": 12}, \"81\": {\"81\": 28}, \"99\": {\"99\": 23, \"70\": 1}, \"85\": {\"85\": 32}, \"11\": {\"11\": 30}, \"126\": {\"126\": 47, \"109\": 1}, \"80\": {\"80\": 15, \"16\": 1}, \"46\": {\"46\": 12}, \"45\": {\"45\": 9, \"109\": 1, \"97\": 1, \"0\": 1}, \"18\": {\"18\": 44}, \"84\": {\"84\": 34}, \"24\": {\"24\": 41, \"83\": 1, \"108\": 1, \"23\": 1}, \"21\": {\"21\": 17, \"30\": 4, \"78\": 1}, \"117\": {\"117\": 44}, \"6\": {\"6\": 30}, \"97\": {\"126\": 1, \"97\": 17, \"88\": 2}, \"86\": {\"0\": 1, \"86\": 30, \"61\": 1, \"72\": 1, \"40\": 1, \"23\": 1, \"129\": 1}, \"56\": {\"56\": 12}, \"92\": {\"92\": 28}, \"40\": {\"40\": 32}, \"108\": {\"108\": 42}, \"73\": {\"73\": 20}, \"1\": {\"1\": 44}, \"129\": {\"129\": 28}, \"127\": {\"127\": 37, \"34\": 1}, \"14\": {\"14\": 38}, \"42\": {\"42\": 27, \"108\": 1}, \"67\": {\"67\": 16}, \"74\": {\"74\": 16}, \"61\": {\"61\": 12}, \"36\": {\"36\": 36}, \"32\": {\"32\": 32}, \"77\": {\"70\": 1, \"77\": 15}, \"107\": {\"107\": 37, \"57\": 1}, \"44\": {\"44\": 36}, \"51\": {\"51\": 15, \"109\": 1}, \"2\": {\"2\": 32}, \"52\": {\"52\": 20}, \"125\": {\"125\": 46}, \"37\": {\"37\": 16}, \"35\": {\"35\": 11, \"30\": 1}, \"116\": {\"116\": 32}, \"15\": {\"15\": 33, \"27\": 1}, \"70\": {\"70\": 39, \"12\": 2, \"126\": 2, \"21\": 1}, \"109\": {\"109\": 36, \"126\": 2}, \"76\": {\"76\": 16}, \"66\": {\"66\": 16}, \"57\": {\"57\": 11, \"128\": 1}, \"119\": {\"119\": 16}, \"34\": {\"34\": 24}, \"68\": {\"68\": 15, \"19\": 1}, \"90\": {\"90\": 26}, \"62\": {\"62\": 35, \"43\": 1}, \"93\": {\"93\": 37, \"46\": 1, \"43\": 1, \"87\": 1}, \"54\": {\"54\": 16}, \"29\": {\"29\": 28}, \"89\": {\"89\": 36}, \"79\": {\"79\": 12}, \"16\": {\"16\": 36, \"43\": 1, \"30\": 1}, \"26\": {\"26\": 34, \"16\": 1, \"45\": 1}, \"64\": {\"64\": 16}, \"123\": {\"123\": 16}, \"75\": {\"75\": 16}, \"88\": {\"88\": 33, \"36\": 1, \"27\": 1, \"97\": 1}, \"10\": {\"10\": 35, \"85\": 1, \"0\": 3, \"30\": 1}, \"91\": {\"91\": 28}, \"4\": {\"4\": 32}, \"100\": {\"100\": 16}, \"39\": {\"39\": 36, \"96\": 1, \"16\": 1}, \"78\": {\"122\": 1, \"78\": 10, \"43\": 3, \"65\": 1, \"69\": 1}, \"101\": {\"101\": 35, \"26\": 1}, \"112\": {\"112\": 16}, \"103\": {\"103\": 16}, \"19\": {\"19\": 24}, \"60\": {\"60\": 15, \"14\": 1}, \"72\": {\"72\": 32}, \"43\": {\"43\": 34}, \"22\": {\"22\": 15, \"97\": 1}, \"87\": {\"87\": 32, \"21\": 2}, \"128\": {\"128\": 23, \"70\": 1}, \"5\": {\"5\": 37, \"21\": 1}, \"102\": {\"102\": 30}, \"94\": {\"94\": 27, \"78\": 1}, \"114\": {\"114\": 33, \"78\": 1}, \"69\": {\"69\": 26}, \"113\": {\"113\": 28}, \"49\": {\"49\": 20}, \"115\": {\"115\": 12}}, \"Wisig_4\": {\"109\": {\"109\": 32, \"96\": 2}, \"45\": {\"45\": 16}, \"11\": {\"11\": 38}, \"23\": {\"23\": 6, \"21\": 2, \"52\": 1, \"51\": 2, \"62\": 1, \"48\": 1, \"78\": 2, \"113\": 1}, \"2\": {\"2\": 28}, \"25\": {\"25\": 16}, \"7\": {\"7\": 45, \"55\": 1}, \"55\": {\"55\": 16}, \"124\": {\"124\": 36}, \"101\": {\"101\": 38}, \"115\": {\"115\": 16}, \"121\": {\"121\": 32}, \"46\": {\"46\": 20}, \"72\": {\"72\": 31, \"96\": 1}, \"83\": {\"83\": 25, \"100\": 1, \"23\": 1, \"60\": 1}, \"12\": {\"12\": 46, \"4\": 1, \"106\": 3}, \"79\": {\"79\": 16}, \"20\": {\"20\": 15, \"103\": 1}, \"43\": {\"43\": 39, \"87\": 4, \"96\": 1}, \"35\": {\"35\": 12}, \"86\": {\"86\": 28}, \"3\": {\"3\": 39, \"71\": 1}, \"116\": {\"116\": 28}, \"53\": {\"53\": 16}, \"111\": {\"111\": 47, \"23\": 1}, \"40\": {\"40\": 32}, \"19\": {\"19\": 27, \"0\": 1}, \"71\": {\"71\": 50, \"12\": 1, \"78\": 1}, \"21\": {\"21\": 29, \"62\": 1, \"122\": 1, \"14\": 1}, \"82\": {\"55\": 1, \"82\": 29, \"23\": 1, \"106\": 1}, \"65\": {\"65\": 12}, \"110\": {\"23\": 2, \"110\": 44}, \"119\": {\"119\": 15, \"78\": 1}, \"64\": {\"64\": 15, \"78\": 1}, \"126\": {\"126\": 40, \"78\": 2}, \"129\": {\"129\": 27, \"23\": 1}, \"103\": {\"103\": 15, \"126\": 1}, \"34\": {\"34\": 31, \"44\": 1}, \"42\": {\"42\": 28}, \"114\": {\"114\": 44}, \"38\": {\"38\": 15, \"66\": 1}, \"99\": {\"99\": 38}, \"47\": {\"47\": 11, \"53\": 1}, \"61\": {\"61\": 15, \"129\": 1}, \"9\": {\"9\": 26, \"2\": 1, \"23\": 1}, \"73\": {\"73\": 21, \"4\": 1, \"86\": 1, \"7\": 1}, \"48\": {\"48\": 13, \"4\": 2, \"23\": 1}, \"18\": {\"18\": 43, \"105\": 1}, \"16\": {\"16\": 40}, \"87\": {\"97\": 1, \"87\": 43, \"43\": 1, \"122\": 1}, \"60\": {\"60\": 31, \"43\": 1}, \"51\": {\"110\": 1, \"51\": 11, \"78\": 1, \"62\": 1, \"88\": 1, \"94\": 1}, \"4\": {\"4\": 40, \"127\": 2}, \"85\": {\"85\": 27, \"88\": 1}, \"28\": {\"28\": 20}, \"27\": {\"27\": 38}, \"97\": {\"97\": 18, \"24\": 1, \"21\": 1}, \"6\": {\"6\": 24}, \"76\": {\"76\": 16}, \"105\": {\"105\": 35, \"39\": 1}, \"37\": {\"37\": 16}, \"98\": {\"98\": 37, \"49\": 1, \"2\": 1, \"121\": 1}, \"96\": {\"96\": 19, \"110\": 1}, \"32\": {\"32\": 26, \"120\": 1, \"82\": 1}, \"15\": {\"15\": 32}, \"56\": {\"56\": 12}, \"90\": {\"90\": 32}, \"91\": {\"91\": 23, \"78\": 1}, \"52\": {\"52\": 20}, \"78\": {\"78\": 27, \"43\": 1, \"101\": 1, \"60\": 1, \"49\": 1, \"88\": 1, \"117\": 1, \"122\": 1}, \"84\": {\"84\": 35, \"69\": 1, \"1\": 1, \"88\": 1}, \"1\": {\"1\": 36, \"70\": 1, \"33\": 2, \"21\": 1, \"122\": 1, \"127\": 1}, \"122\": {\"122\": 37, \"78\": 2, \"121\": 1, \"21\": 1, \"69\": 2, \"4\": 1}, \"66\": {\"66\": 16}, \"127\": {\"127\": 37, \"59\": 1}, \"80\": {\"80\": 16}, \"113\": {\"113\": 37, \"21\": 1}, \"31\": {\"31\": 16}, \"88\": {\"83\": 1, \"88\": 24, \"49\": 1, \"70\": 6}, \"62\": {\"62\": 42, \"21\": 2}, \"22\": {\"22\": 14, \"2\": 1, \"81\": 1}, \"49\": {\"49\": 32}, \"54\": {\"54\": 16}, \"63\": {\"63\": 15, \"61\": 1}, \"39\": {\"39\": 38, \"78\": 1, \"62\": 1, \"126\": 1, \"21\": 1}, \"95\": {\"95\": 32}, \"13\": {\"13\": 16}, \"107\": {\"107\": 38}, \"106\": {\"106\": 38, \"29\": 1, \"78\": 2, \"21\": 1}, \"26\": {\"26\": 31, \"21\": 1}, \"112\": {\"112\": 16}, \"36\": {\"97\": 1, \"36\": 38, \"69\": 1, \"24\": 1, \"0\": 1}, \"30\": {\"30\": 40, \"21\": 1, \"1\": 1}, \"58\": {\"58\": 15, \"29\": 1}, \"14\": {\"14\": 38}, \"68\": {\"68\": 16}, \"118\": {\"118\": 39, \"122\": 1}, \"44\": {\"44\": 30, \"32\": 1, \"80\": 1, \"25\": 1, \"120\": 1}, \"93\": {\"93\": 34}, \"70\": {\"70\": 37, \"88\": 2, \"27\": 1}, \"10\": {\"10\": 32, \"30\": 2, \"24\": 1, \"97\": 1, \"15\": 1, \"117\": 1}, \"94\": {\"94\": 39, \"21\": 1}, \"41\": {\"41\": 16}, \"75\": {\"75\": 16}, \"29\": {\"29\": 31, \"23\": 1}, \"50\": {\"50\": 16}, \"0\": {\"0\": 42, \"78\": 1, \"122\": 1, \"105\": 1, \"126\": 1, \"101\": 1, \"43\": 1}, \"108\": {\"108\": 27, \"29\": 1, \"88\": 2, \"0\": 1, \"78\": 2, \"110\": 1, \"70\": 1, \"95\": 1, \"30\": 1, \"127\": 1}, \"100\": {\"100\": 20}, \"102\": {\"102\": 36}, \"5\": {\"5\": 38}, \"77\": {\"77\": 12}, \"89\": {\"89\": 26, \"82\": 1, \"17\": 1}, \"57\": {\"57\": 16}, \"33\": {\"33\": 48}, \"17\": {\"17\": 18, \"56\": 1, \"23\": 1}, \"128\": {\"128\": 21, \"77\": 1, \"8\": 1, \"60\": 1}, \"92\": {\"92\": 28}, \"67\": {\"67\": 15, \"70\": 1}, \"120\": {\"120\": 19, \"32\": 1}, \"123\": {\"123\": 16}, \"8\": {\"8\": 39, \"82\": 1}, \"59\": {\"59\": 9, \"54\": 2, \"100\": 1}, \"24\": {\"24\": 30, \"97\": 1, \"78\": 1, \"36\": 1, \"73\": 1}, \"117\": {\"117\": 32, \"81\": 2}, \"69\": {\"69\": 33, \"1\": 1}, \"81\": {\"81\": 32}, \"74\": {\"39\": 1, \"74\": 15}, \"125\": {\"125\": 26, \"21\": 1, \"81\": 1}, \"104\": {\"104\": 16}}, \"CORES_3\": {\"1\": {\"1\": 16}, \"28\": {\"28\": 16}, \"21\": {\"21\": 16}, \"27\": {\"27\": 16}, \"20\": {\"20\": 16}, \"16\": {\"16\": 15, \"18\": 1}, \"48\": {\"48\": 16}, \"42\": {\"42\": 16}, \"45\": {\"45\": 16}, \"41\": {\"41\": 16}, \"13\": {\"13\": 16}, \"50\": {\"50\": 16}, \"32\": {\"32\": 16}, \"51\": {\"51\": 16}, \"30\": {\"30\": 16}, \"38\": {\"38\": 16}, \"7\": {\"7\": 16}, \"22\": {\"22\": 16}, \"37\": {\"37\": 16}, \"33\": {\"33\": 16}, \"6\": {\"6\": 12, \"17\": 2, \"48\": 2}, \"14\": {\"43\": 3, \"14\": 10, \"31\": 1, \"42\": 1, \"34\": 1}, \"40\": {\"40\": 16}, \"55\": {\"55\": 16}, \"2\": {\"2\": 16}, \"39\": {\"39\": 16}, \"56\": {\"56\": 16}, \"17\": {\"17\": 16}, \"10\": {\"10\": 16}, \"9\": {\"9\": 16}, \"31\": {\"31\": 16}, \"12\": {\"12\": 16}, \"25\": {\"25\": 16}, \"0\": {\"0\": 16}, \"47\": {\"47\": 16}, \"44\": {\"44\": 16}, \"23\": {\"23\": 16}, \"15\": {\"15\": 16}, \"8\": {\"8\": 16}, \"54\": {\"54\": 16}, \"52\": {\"52\": 16}, \"29\": {\"29\": 15, \"57\": 1}, \"5\": {\"5\": 16}, \"34\": {\"34\": 16}, \"35\": {\"35\": 16}, \"26\": {\"26\": 16}, \"57\": {\"57\": 16}, \"53\": {\"53\": 16}, \"36\": {\"36\": 16}, \"18\": {\"18\": 16}, \"49\": {\"49\": 16}, \"3\": {\"3\": 13, \"36\": 1, \"9\": 2}, \"4\": {\"4\": 16}, \"24\": {\"24\": 16}, \"11\": {\"11\": 16}, \"19\": {\"19\": 16}, \"43\": {\"43\": 16}, \"46\": {\"46\": 15, \"48\": 1}}, \"CORES_4\": {\"9\": {\"9\": 16}, \"4\": {\"4\": 15, \"40\": 1}, \"20\": {\"20\": 16}, \"26\": {\"26\": 16}, \"19\": {\"19\": 16}, \"35\": {\"35\": 16}, \"14\": {\"14\": 14, \"31\": 2}, \"10\": {\"10\": 16}, \"1\": {\"1\": 16}, \"3\": {\"3\": 15, \"47\": 1}, \"29\": {\"29\": 16}, \"47\": {\"47\": 16}, \"50\": {\"50\": 16}, \"51\": {\"51\": 15, \"21\": 1}, \"55\": {\"55\": 16}, \"27\": {\"27\": 16}, \"31\": {\"31\": 16}, \"30\": {\"30\": 16}, \"37\": {\"37\": 16}, \"36\": {\"36\": 16}, \"48\": {\"48\": 16}, \"46\": {\"48\": 1, \"46\": 9, \"32\": 3, \"15\": 3}, \"25\": {\"25\": 16}, \"53\": {\"53\": 16}, \"0\": {\"0\": 15, \"5\": 1}, \"8\": {\"8\": 16}, \"15\": {\"15\": 15, \"46\": 1}, \"22\": {\"22\": 16}, \"45\": {\"4\": 1, \"45\": 15}, \"43\": {\"43\": 16}, \"12\": {\"12\": 16}, \"24\": {\"24\": 16}, \"11\": {\"11\": 16}, \"44\": {\"44\": 16}, \"5\": {\"5\": 13, \"55\": 1, \"43\": 2}, \"6\": {\"6\": 16}, \"49\": {\"49\": 16}, \"2\": {\"2\": 16}, \"18\": {\"18\": 16}, \"54\": {\"54\": 16}, \"41\": {\"41\": 16}, \"38\": {\"38\": 16}, \"34\": {\"34\": 16}, \"21\": {\"21\": 16}, \"57\": {\"57\": 16}, \"33\": {\"33\": 16}, \"17\": {\"17\": 14, \"50\": 1, \"44\": 1}, \"40\": {\"40\": 16}, \"28\": {\"28\": 16}, \"16\": {\"16\": 16}, \"56\": {\"56\": 16}, \"39\": {\"39\": 16}, \"13\": {\"13\": 16}, \"23\": {\"23\": 16}, \"7\": {\"7\": 16}, \"52\": {\"52\": 16}, \"42\": {\"42\": 16}, \"32\": {\"32\": 16}}, \"CORES_5\": {\"13\": {\"13\": 20}, \"35\": {\"35\": 20}, \"12\": {\"12\": 20}, \"55\": {\"55\": 20}, \"43\": {\"43\": 20}, \"3\": {\"3\": 18, \"19\": 1, \"5\": 1}, \"20\": {\"20\": 19, \"6\": 1}, \"9\": {\"9\": 20}, \"41\": {\"41\": 20}, \"45\": {\"45\": 18, \"55\": 1, \"4\": 1}, \"11\": {\"11\": 19, \"15\": 1}, \"7\": {\"7\": 20}, \"27\": {\"27\": 20}, \"56\": {\"56\": 20}, \"4\": {\"4\": 20}, \"5\": {\"5\": 20}, \"49\": {\"49\": 20}, \"24\": {\"24\": 20}, \"0\": {\"0\": 20}, \"40\": {\"40\": 19, \"5\": 1}, \"15\": {\"15\": 18, \"11\": 2}, \"42\": {\"42\": 20}, \"44\": {\"44\": 20}, \"46\": {\"46\": 17, \"16\": 3}, \"30\": {\"30\": 20}, \"1\": {\"1\": 20}, \"34\": {\"34\": 20}, \"51\": {\"51\": 20}, \"6\": {\"6\": 13, \"17\": 2, \"20\": 2, \"1\": 1, \"9\": 1, \"48\": 1}, \"50\": {\"27\": 3, \"50\": 16, \"18\": 1}, \"26\": {\"26\": 20}, \"52\": {\"52\": 20}, \"57\": {\"57\": 20}, \"36\": {\"36\": 20}, \"33\": {\"33\": 20}, \"19\": {\"19\": 20}, \"53\": {\"53\": 20}, \"28\": {\"28\": 20}, \"10\": {\"10\": 20}, \"32\": {\"32\": 20}, \"8\": {\"8\": 20}, \"48\": {\"48\": 19, \"1\": 1}, \"16\": {\"16\": 20}, \"17\": {\"17\": 20}, \"23\": {\"23\": 20}, \"29\": {\"29\": 20}, \"2\": {\"2\": 20}, \"21\": {\"21\": 20}, \"38\": {\"38\": 20}, \"14\": {\"14\": 7, \"5\": 3, \"54\": 7, \"29\": 1, \"35\": 2}, \"39\": {\"39\": 20}, \"54\": {\"54\": 20}, \"18\": {\"18\": 20}, \"22\": {\"22\": 20}, \"37\": {\"37\": 20}, \"47\": {\"47\": 20}, \"25\": {\"25\": 20}, \"31\": {\"31\": 20}}, \"CORES_1\": {\"47\": {\"47\": 24}, \"9\": {\"9\": 24}, \"35\": {\"35\": 24}, \"10\": {\"10\": 24}, \"21\": {\"21\": 24}, \"19\": {\"19\": 23, \"29\": 1}, \"14\": {\"14\": 11, \"30\": 7, \"6\": 5, \"8\": 1}, \"36\": {\"36\": 24}, \"46\": {\"46\": 24}, \"49\": {\"49\": 24}, \"5\": {\"5\": 24}, \"54\": {\"54\": 24}, \"56\": {\"56\": 24}, \"48\": {\"48\": 24}, \"15\": {\"15\": 24}, \"23\": {\"23\": 24}, \"55\": {\"55\": 21, \"42\": 2, \"38\": 1}, \"1\": {\"1\": 23, \"9\": 1}, \"22\": {\"22\": 23, \"21\": 1}, \"44\": {\"44\": 24}, \"37\": {\"37\": 24}, \"28\": {\"28\": 24}, \"11\": {\"11\": 24}, \"2\": {\"2\": 24}, \"29\": {\"29\": 20, \"19\": 4}, \"4\": {\"4\": 24}, \"3\": {\"3\": 23, \"53\": 1}, \"43\": {\"43\": 24}, \"51\": {\"51\": 24}, \"0\": {\"0\": 24}, \"7\": {\"7\": 24}, \"6\": {\"6\": 24}, \"24\": {\"24\": 18, \"22\": 5, \"21\": 1}, \"50\": {\"50\": 24}, \"26\": {\"26\": 24}, \"34\": {\"34\": 24}, \"41\": {\"41\": 24}, \"25\": {\"25\": 24}, \"39\": {\"39\": 24}, \"53\": {\"53\": 24}, \"38\": {\"38\": 24}, \"8\": {\"8\": 24}, \"27\": {\"27\": 24}, \"40\": {\"40\": 24}, \"45\": {\"45\": 24}, \"33\": {\"33\": 24}, \"32\": {\"32\": 24}, \"17\": {\"17\": 24}, \"57\": {\"57\": 24}, \"42\": {\"42\": 24}, \"13\": {\"13\": 24}, \"16\": {\"16\": 24}, \"12\": {\"12\": 24}, \"52\": {\"52\": 24}, \"30\": {\"30\": 23, \"56\": 1}, \"20\": {\"20\": 24}, \"18\": {\"18\": 24}, \"31\": {\"31\": 24}}, \"CORES_2\": {\"25\": {\"25\": 20}, \"24\": {\"24\": 20}, \"39\": {\"39\": 20}, \"49\": {\"49\": 19, \"25\": 1}, \"44\": {\"44\": 20}, \"57\": {\"57\": 20}, \"2\": {\"2\": 20}, \"16\": {\"16\": 20}, \"41\": {\"41\": 20}, \"27\": {\"27\": 18, \"8\": 2}, \"5\": {\"5\": 20}, \"13\": {\"13\": 20}, \"45\": {\"45\": 20}, \"43\": {\"43\": 20}, \"22\": {\"22\": 20}, \"21\": {\"21\": 20}, \"38\": {\"38\": 20}, \"33\": {\"33\": 20}, \"28\": {\"28\": 20}, \"34\": {\"34\": 20}, \"19\": {\"19\": 20}, \"3\": {\"3\": 19, \"9\": 1}, \"20\": {\"20\": 20}, \"47\": {\"47\": 20}, \"30\": {\"30\": 20}, \"46\": {\"46\": 19, \"42\": 1}, \"9\": {\"9\": 20}, \"11\": {\"11\": 20}, \"15\": {\"15\": 20}, \"0\": {\"0\": 20}, \"37\": {\"37\": 20}, \"40\": {\"40\": 20}, \"18\": {\"18\": 20}, \"54\": {\"54\": 20}, \"51\": {\"51\": 20}, \"48\": {\"48\": 20}, \"55\": {\"55\": 19, \"43\": 1}, \"42\": {\"42\": 20}, \"17\": {\"17\": 20}, \"26\": {\"26\": 20}, \"36\": {\"36\": 20}, \"32\": {\"32\": 19, \"26\": 1}, \"23\": {\"23\": 20}, \"7\": {\"7\": 20}, \"1\": {\"1\": 20}, \"35\": {\"35\": 20}, \"56\": {\"56\": 20}, \"8\": {\"8\": 20}, \"6\": {\"48\": 1, \"6\": 19}, \"29\": {\"29\": 19, \"57\": 1}, \"4\": {\"4\": 20}, \"50\": {\"50\": 20}, \"52\": {\"52\": 20}, \"12\": {\"12\": 20}, \"10\": {\"10\": 20}, \"31\": {\"31\": 20}, \"14\": {\"14\": 16, \"31\": 4}, \"53\": {\"53\": 20}}}, \"per_domain_accuracy\": {\"Wisig_3\": {\"accuracy\": 0.9644396551724138, \"source?\": true}, \"Wisig_2\": {\"accuracy\": 0.949290060851927, \"source?\": true}, \"Wisig_1\": {\"accuracy\": 0.9689655172413794, \"source?\": true}, \"Wisig_4\": {\"accuracy\": 0.9485452586206896, \"source?\": true}, \"CORES_3\": {\"accuracy\": 0.9827586206896551, \"source?\": false}, \"CORES_4\": {\"accuracy\": 0.978448275862069, \"source?\": false}, \"CORES_5\": {\"accuracy\": 0.968103448275862, \"source?\": false}, \"CORES_1\": {\"accuracy\": 0.9777298850574713, \"source?\": false}, \"CORES_2\": {\"accuracy\": 0.9887931034482759, \"source?\": false}}}, \"history\": {\"epoch_indices\": [1, 2, 3], \"train_label_loss\": [0.5816869387557494, 0.25229656297297787, 0.1991887856376516], \"source_val_label_loss\": [0.3283384442329407, 0.24961769580841064, 0.2367977499961853], \"target_val_label_loss\": [0.20675647258758545, 0.13867655396461487, 0.13447824120521545], \"source_val_acc_label\": [0.9363550646551724, 0.9561557112068966, 0.9575026939655172], \"target_val_acc_label\": [0.9739583333333334, 0.9775502873563219, 0.9789870689655172]}, \"dataset_metrics\": {\"source\": {\"train\": {\"n_unique_x\": 139632, \"n_unique_y\": 130, \"n_batch/episode\": 904}, \"val\": {\"n_unique_x\": 26052, \"n_unique_y\": 130, \"n_batch/episode\": 128}, \"test\": {\"n_unique_x\": 27285, \"n_unique_y\": 130, \"n_batch/episode\": 136}}, \"target\": {\"train\": {\"n_unique_x\": 75852, \"n_unique_y\": 58, \"n_batch/episode\": 351}, \"val\": {\"n_unique_x\": 11850, \"n_unique_y\": 58, \"n_batch/episode\": 48}, \"test\": {\"n_unique_x\": 12315, \"n_unique_y\": 58, \"n_batch/episode\": 50}}}}'"
      ]
     },
     "execution_count": 29,
     "metadata": {},
     "output_type": "execute_result"
    }
   ],
   "source": [
    "json.dumps(experiment)"
   ]
  }
 ],
 "metadata": {
  "celltoolbar": "Tags",
  "kernelspec": {
   "display_name": "Python 3 (ipykernel)",
   "language": "python",
   "name": "python3"
  },
  "language_info": {
   "codemirror_mode": {
    "name": "ipython",
    "version": 3
   },
   "file_extension": ".py",
   "mimetype": "text/x-python",
   "name": "python",
   "nbconvert_exporter": "python",
   "pygments_lexer": "ipython3",
   "version": "3.8.12"
  },
  "papermill": {
   "default_parameters": {},
   "duration": 397.717611,
   "end_time": "2022-03-21T02:24:32.241386",
   "environment_variables": {},
   "exception": null,
   "input_path": "/root/csc500-main/csc500-notebooks/templates/tl_ptn_template.ipynb",
   "output_path": "trial.ipynb",
   "parameters": {
    "parameters": {
     "BEST_MODEL_PATH": "./best_model.pth",
     "NUM_LOGS_PER_EPOCH": 10,
     "criteria_for_best": "target_accuracy",
     "dataset_seed": 1337,
     "datasets": [
      {
       "domain_prefix": "CORES_",
       "domains": [
        1,
        2,
        3,
        4,
        5
       ],
       "episode_transforms": [],
       "labels": [
        "1-10.",
        "1-11.",
        "1-15.",
        "1-16.",
        "1-17.",
        "1-18.",
        "1-19.",
        "10-4.",
        "10-7.",
        "11-1.",
        "11-14.",
        "11-17.",
        "11-20.",
        "11-7.",
        "13-20.",
        "13-8.",
        "14-10.",
        "14-11.",
        "14-14.",
        "14-7.",
        "15-1.",
        "15-20.",
        "16-1.",
        "16-16.",
        "17-10.",
        "17-11.",
        "17-2.",
        "19-1.",
        "19-16.",
        "19-19.",
        "19-20.",
        "19-3.",
        "2-10.",
        "2-11.",
        "2-17.",
        "2-18.",
        "2-20.",
        "2-3.",
        "2-4.",
        "2-5.",
        "2-6.",
        "2-7.",
        "2-8.",
        "3-13.",
        "3-18.",
        "3-3.",
        "4-1.",
        "4-10.",
        "4-11.",
        "4-19.",
        "5-5.",
        "6-15.",
        "7-10.",
        "7-14.",
        "8-18.",
        "8-20.",
        "8-3.",
        "8-8."
       ],
       "num_examples_per_domain_per_label": -1,
       "pickle_path": "/root/csc500-main/datasets/cores.stratified_ds.2022A.pkl",
       "source_or_target_dataset": "target",
       "x_transforms": [
        "unit_mag"
       ]
      },
      {
       "domain_prefix": "Wisig_",
       "domains": [
        1,
        2,
        3,
        4
       ],
       "episode_transforms": [],
       "labels": [
        "1-10",
        "1-12",
        "1-14",
        "1-16",
        "1-18",
        "1-19",
        "1-8",
        "10-11",
        "10-17",
        "10-4",
        "10-7",
        "11-1",
        "11-10",
        "11-19",
        "11-20",
        "11-4",
        "11-7",
        "12-19",
        "12-20",
        "12-7",
        "13-14",
        "13-18",
        "13-19",
        "13-20",
        "13-3",
        "13-7",
        "14-10",
        "14-11",
        "14-12",
        "14-13",
        "14-14",
        "14-19",
        "14-20",
        "14-7",
        "14-8",
        "14-9",
        "15-1",
        "15-19",
        "15-6",
        "16-1",
        "16-16",
        "16-19",
        "16-20",
        "17-10",
        "17-11",
        "18-1",
        "18-10",
        "18-11",
        "18-12",
        "18-13",
        "18-14",
        "18-15",
        "18-16",
        "18-17",
        "18-19",
        "18-2",
        "18-20",
        "18-4",
        "18-5",
        "18-7",
        "18-8",
        "18-9",
        "19-1",
        "19-10",
        "19-11",
        "19-12",
        "19-13",
        "19-14",
        "19-15",
        "19-19",
        "19-2",
        "19-20",
        "19-3",
        "19-4",
        "19-6",
        "19-7",
        "19-8",
        "19-9",
        "2-1",
        "2-13",
        "2-15",
        "2-3",
        "2-4",
        "2-5",
        "2-6",
        "2-7",
        "2-8",
        "20-1",
        "20-12",
        "20-14",
        "20-15",
        "20-16",
        "20-18",
        "20-19",
        "20-20",
        "20-3",
        "20-4",
        "20-5",
        "20-7",
        "20-8",
        "3-1",
        "3-13",
        "3-18",
        "3-2",
        "3-8",
        "4-1",
        "4-10",
        "4-11",
        "5-1",
        "5-5",
        "6-1",
        "6-15",
        "6-6",
        "7-10",
        "7-11",
        "7-12",
        "7-13",
        "7-14",
        "7-7",
        "7-8",
        "7-9",
        "8-1",
        "8-13",
        "8-14",
        "8-18",
        "8-20",
        "8-3",
        "8-8",
        "9-1",
        "9-7"
       ],
       "num_examples_per_domain_per_label": -1,
       "pickle_path": "/root/csc500-main/datasets/wisig.node3-19.stratified_ds.2022A.pkl",
       "source_or_target_dataset": "source",
       "x_transforms": [
        "unit_mag"
       ]
      }
     ],
     "device": "cuda",
     "experiment_name": "tl_1v2:cores-wisig",
     "lr": 0.0001,
     "n_epoch": 3,
     "n_query": 2,
     "n_shot": 3,
     "n_way": 58,
     "patience": 3,
     "seed": 1337,
     "test_k_factor": 2,
     "torch_default_dtype": "torch.float32",
     "train_k_factor": 3,
     "val_k_factor": 2,
     "x_net": [
      {
       "class": "nnReshape",
       "kargs": {
        "shape": [
         -1,
         1,
         2,
         256
        ]
       }
      },
      {
       "class": "Conv2d",
       "kargs": {
        "bias": false,
        "in_channels": 1,
        "kernel_size": [
         1,
         7
        ],
        "out_channels": 256,
        "padding": [
         0,
         3
        ]
       }
      },
      {
       "class": "ReLU",
       "kargs": {
        "inplace": true
       }
      },
      {
       "class": "BatchNorm2d",
       "kargs": {
        "num_features": 256
       }
      },
      {
       "class": "Conv2d",
       "kargs": {
        "bias": true,
        "in_channels": 256,
        "kernel_size": [
         2,
         7
        ],
        "out_channels": 80,
        "padding": [
         0,
         3
        ]
       }
      },
      {
       "class": "ReLU",
       "kargs": {
        "inplace": true
       }
      },
      {
       "class": "BatchNorm2d",
       "kargs": {
        "num_features": 80
       }
      },
      {
       "class": "Flatten",
       "kargs": {}
      },
      {
       "class": "Linear",
       "kargs": {
        "in_features": 20480,
        "out_features": 256
       }
      },
      {
       "class": "ReLU",
       "kargs": {
        "inplace": true
       }
      },
      {
       "class": "BatchNorm1d",
       "kargs": {
        "num_features": 256
       }
      },
      {
       "class": "Linear",
       "kargs": {
        "in_features": 256,
        "out_features": 256
       }
      }
     ]
    }
   },
   "start_time": "2022-03-21T02:17:54.523775",
   "version": "2.3.4"
  }
 },
 "nbformat": 4,
 "nbformat_minor": 5
}