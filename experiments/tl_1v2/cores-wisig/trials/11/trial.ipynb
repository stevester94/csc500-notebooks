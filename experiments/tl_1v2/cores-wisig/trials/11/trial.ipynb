{
 "cells": [
  {
   "cell_type": "markdown",
   "id": "9fea5f46",
   "metadata": {
    "papermill": {
     "duration": 0.033568,
     "end_time": "2022-03-21T02:55:15.765546",
     "exception": false,
     "start_time": "2022-03-21T02:55:15.731978",
     "status": "completed"
    },
    "tags": []
   },
   "source": [
    "# Transfer Learning Template"
   ]
  },
  {
   "cell_type": "code",
   "execution_count": 1,
   "id": "0902182a",
   "metadata": {
    "execution": {
     "iopub.execute_input": "2022-03-21T02:55:15.828639Z",
     "iopub.status.busy": "2022-03-21T02:55:15.809929Z",
     "iopub.status.idle": "2022-03-21T02:55:17.733079Z",
     "shell.execute_reply": "2022-03-21T02:55:17.732222Z"
    },
    "papermill": {
     "duration": 1.945219,
     "end_time": "2022-03-21T02:55:17.733267",
     "exception": false,
     "start_time": "2022-03-21T02:55:15.788048",
     "status": "completed"
    },
    "tags": []
   },
   "outputs": [],
   "source": [
    "%load_ext autoreload\n",
    "%autoreload 2\n",
    "%matplotlib inline\n",
    "\n",
    "    \n",
    "import os, json, sys, time, random\n",
    "import numpy as np\n",
    "import torch\n",
    "from torch.optim import Adam\n",
    "from  easydict import EasyDict\n",
    "import matplotlib.pyplot as plt\n",
    "\n",
    "from steves_models.steves_ptn import Steves_Prototypical_Network\n",
    "\n",
    "from steves_utils.lazy_iterable_wrapper import Lazy_Iterable_Wrapper\n",
    "from steves_utils.iterable_aggregator import Iterable_Aggregator\n",
    "from steves_utils.ptn_train_eval_test_jig import  PTN_Train_Eval_Test_Jig\n",
    "from steves_utils.torch_sequential_builder import build_sequential\n",
    "from steves_utils.torch_utils import get_dataset_metrics, ptn_confusion_by_domain_over_dataloader\n",
    "from steves_utils.utils_v2 import (per_domain_accuracy_from_confusion, get_datasets_base_path)\n",
    "from steves_utils.PTN.utils import independent_accuracy_assesment\n",
    "\n",
    "from torch.utils.data import DataLoader\n",
    "\n",
    "from steves_utils.stratified_dataset.episodic_accessor import Episodic_Accessor_Factory\n",
    "\n",
    "from steves_utils.ptn_do_report import (\n",
    "    get_loss_curve,\n",
    "    get_results_table,\n",
    "    get_parameters_table,\n",
    "    get_domain_accuracies,\n",
    ")\n",
    "\n",
    "from steves_utils.transforms import get_chained_transform"
   ]
  },
  {
   "cell_type": "markdown",
   "id": "41c840b4",
   "metadata": {
    "papermill": {
     "duration": 0.019717,
     "end_time": "2022-03-21T02:55:17.779418",
     "exception": false,
     "start_time": "2022-03-21T02:55:17.759701",
     "status": "completed"
    },
    "tags": []
   },
   "source": [
    "# Allowed Parameters\n",
    "These are allowed parameters, not defaults\n",
    "Each of these values need to be present in the injected parameters (the notebook will raise an exception if they are not present)\n",
    "\n",
    "Papermill uses the cell tag \"parameters\" to inject the real parameters below this cell.\n",
    "Enable tags to see what I mean"
   ]
  },
  {
   "cell_type": "code",
   "execution_count": 2,
   "id": "fd44eb83",
   "metadata": {
    "execution": {
     "iopub.execute_input": "2022-03-21T02:55:17.825021Z",
     "iopub.status.busy": "2022-03-21T02:55:17.822036Z",
     "iopub.status.idle": "2022-03-21T02:55:17.854738Z",
     "shell.execute_reply": "2022-03-21T02:55:17.854021Z"
    },
    "papermill": {
     "duration": 0.055863,
     "end_time": "2022-03-21T02:55:17.854898",
     "exception": false,
     "start_time": "2022-03-21T02:55:17.799035",
     "status": "completed"
    },
    "tags": []
   },
   "outputs": [],
   "source": [
    "required_parameters = {\n",
    "    \"experiment_name\",\n",
    "    \"lr\",\n",
    "    \"device\",\n",
    "    \"seed\",\n",
    "    \"dataset_seed\",\n",
    "    \"n_shot\",\n",
    "    \"n_query\",\n",
    "    \"n_way\",\n",
    "    \"train_k_factor\",\n",
    "    \"val_k_factor\",\n",
    "    \"test_k_factor\",\n",
    "    \"n_epoch\",\n",
    "    \"patience\",\n",
    "    \"criteria_for_best\",\n",
    "    \"x_net\",\n",
    "    \"datasets\",\n",
    "    \"torch_default_dtype\",\n",
    "    \"NUM_LOGS_PER_EPOCH\",\n",
    "    \"BEST_MODEL_PATH\",\n",
    "    \"x_shape\",\n",
    "}"
   ]
  },
  {
   "cell_type": "code",
   "execution_count": 3,
   "id": "fa3f0049",
   "metadata": {
    "execution": {
     "iopub.execute_input": "2022-03-21T02:55:17.914453Z",
     "iopub.status.busy": "2022-03-21T02:55:17.913829Z",
     "iopub.status.idle": "2022-03-21T02:55:17.939249Z",
     "shell.execute_reply": "2022-03-21T02:55:17.938547Z"
    },
    "papermill": {
     "duration": 0.058086,
     "end_time": "2022-03-21T02:55:17.939407",
     "exception": false,
     "start_time": "2022-03-21T02:55:17.881321",
     "status": "completed"
    },
    "tags": [
     "parameters"
    ]
   },
   "outputs": [],
   "source": [
    "from steves_utils.CORES.utils import (\n",
    "    ALL_NODES,\n",
    "    ALL_NODES_MINIMUM_1000_EXAMPLES,\n",
    "    ALL_DAYS\n",
    ")\n",
    "\n",
    "from steves_utils.ORACLE.utils_v2 import (\n",
    "    ALL_DISTANCES_FEET_NARROWED,\n",
    "    ALL_RUNS,\n",
    "    ALL_SERIAL_NUMBERS,\n",
    ")\n",
    "\n",
    "standalone_parameters = {}\n",
    "standalone_parameters[\"experiment_name\"] = \"STANDALONE PTN\"\n",
    "standalone_parameters[\"lr\"] = 0.001\n",
    "standalone_parameters[\"device\"] = \"cuda\"\n",
    "\n",
    "standalone_parameters[\"seed\"] = 1337\n",
    "standalone_parameters[\"dataset_seed\"] = 1337\n",
    "\n",
    "standalone_parameters[\"n_way\"] = 8\n",
    "standalone_parameters[\"n_shot\"] = 3\n",
    "standalone_parameters[\"n_query\"]  = 2\n",
    "standalone_parameters[\"train_k_factor\"] = 1\n",
    "standalone_parameters[\"val_k_factor\"] = 2\n",
    "standalone_parameters[\"test_k_factor\"] = 2\n",
    "\n",
    "\n",
    "standalone_parameters[\"n_epoch\"] = 50\n",
    "\n",
    "standalone_parameters[\"patience\"] = 10\n",
    "standalone_parameters[\"criteria_for_best\"] = \"source_loss\"\n",
    "\n",
    "standalone_parameters[\"datasets\"] = [\n",
    "    {\n",
    "        \"labels\": ALL_SERIAL_NUMBERS,\n",
    "        \"domains\": ALL_DISTANCES_FEET_NARROWED,\n",
    "        \"num_examples_per_domain_per_label\": 100,\n",
    "        \"pickle_path\": os.path.join(get_datasets_base_path(), \"oracle.Run1_framed_2000Examples_stratified_ds.2022A.pkl\"),\n",
    "        \"source_or_target_dataset\": \"source\",\n",
    "        \"x_transforms\": [\"unit_mag\", \"minus_two\"],\n",
    "        \"episode_transforms\": [],\n",
    "        \"domain_prefix\": \"ORACLE_\"\n",
    "    },\n",
    "    {\n",
    "        \"labels\": ALL_NODES,\n",
    "        \"domains\": ALL_DAYS,\n",
    "        \"num_examples_per_domain_per_label\": 100,\n",
    "        \"pickle_path\": os.path.join(get_datasets_base_path(), \"cores.stratified_ds.2022A.pkl\"),\n",
    "        \"source_or_target_dataset\": \"target\",\n",
    "        \"x_transforms\": [\"unit_power\", \"times_zero\"],\n",
    "        \"episode_transforms\": [],\n",
    "        \"domain_prefix\": \"CORES_\"\n",
    "    }   \n",
    "]\n",
    "\n",
    "standalone_parameters[\"torch_default_dtype\"] = \"torch.float32\" \n",
    "\n",
    "\n",
    "\n",
    "standalone_parameters[\"x_net\"] =     [\n",
    "    {\"class\": \"nnReshape\", \"kargs\": {\"shape\":[-1, 1, 2, 256]}},\n",
    "    {\"class\": \"Conv2d\", \"kargs\": { \"in_channels\":1, \"out_channels\":256, \"kernel_size\":(1,7), \"bias\":False, \"padding\":(0,3), },},\n",
    "    {\"class\": \"ReLU\", \"kargs\": {\"inplace\": True}},\n",
    "    {\"class\": \"BatchNorm2d\", \"kargs\": {\"num_features\":256}},\n",
    "\n",
    "    {\"class\": \"Conv2d\", \"kargs\": { \"in_channels\":256, \"out_channels\":80, \"kernel_size\":(2,7), \"bias\":True, \"padding\":(0,3), },},\n",
    "    {\"class\": \"ReLU\", \"kargs\": {\"inplace\": True}},\n",
    "    {\"class\": \"BatchNorm2d\", \"kargs\": {\"num_features\":80}},\n",
    "    {\"class\": \"Flatten\", \"kargs\": {}},\n",
    "\n",
    "    {\"class\": \"Linear\", \"kargs\": {\"in_features\": 80*256, \"out_features\": 256}}, # 80 units per IQ pair\n",
    "    {\"class\": \"ReLU\", \"kargs\": {\"inplace\": True}},\n",
    "    {\"class\": \"BatchNorm1d\", \"kargs\": {\"num_features\":256}},\n",
    "\n",
    "    {\"class\": \"Linear\", \"kargs\": {\"in_features\": 256, \"out_features\": 256}},\n",
    "]\n",
    "\n",
    "# Parameters relevant to results\n",
    "# These parameters will basically never need to change\n",
    "standalone_parameters[\"NUM_LOGS_PER_EPOCH\"] = 10\n",
    "standalone_parameters[\"BEST_MODEL_PATH\"] = \"./best_model.pth\"\n",
    "\n",
    "\n",
    "\n",
    "\n"
   ]
  },
  {
   "cell_type": "code",
   "execution_count": 4,
   "id": "1baea6bb",
   "metadata": {
    "execution": {
     "iopub.execute_input": "2022-03-21T02:55:18.006360Z",
     "iopub.status.busy": "2022-03-21T02:55:17.989810Z",
     "iopub.status.idle": "2022-03-21T02:55:18.030521Z",
     "shell.execute_reply": "2022-03-21T02:55:18.029716Z"
    },
    "papermill": {
     "duration": 0.063002,
     "end_time": "2022-03-21T02:55:18.030676",
     "exception": false,
     "start_time": "2022-03-21T02:55:17.967674",
     "status": "completed"
    },
    "tags": [
     "injected-parameters"
    ]
   },
   "outputs": [],
   "source": [
    "# Parameters\n",
    "parameters = {\n",
    "    \"experiment_name\": \"tl_1v2:cores-wisig\",\n",
    "    \"device\": \"cuda\",\n",
    "    \"lr\": 0.0001,\n",
    "    \"n_shot\": 3,\n",
    "    \"n_query\": 2,\n",
    "    \"train_k_factor\": 3,\n",
    "    \"val_k_factor\": 2,\n",
    "    \"test_k_factor\": 2,\n",
    "    \"torch_default_dtype\": \"torch.float32\",\n",
    "    \"n_epoch\": 3,\n",
    "    \"patience\": 3,\n",
    "    \"criteria_for_best\": \"target_accuracy\",\n",
    "    \"x_net\": [\n",
    "        {\"class\": \"nnReshape\", \"kargs\": {\"shape\": [-1, 1, 2, 256]}},\n",
    "        {\n",
    "            \"class\": \"Conv2d\",\n",
    "            \"kargs\": {\n",
    "                \"in_channels\": 1,\n",
    "                \"out_channels\": 256,\n",
    "                \"kernel_size\": [1, 7],\n",
    "                \"bias\": False,\n",
    "                \"padding\": [0, 3],\n",
    "            },\n",
    "        },\n",
    "        {\"class\": \"ReLU\", \"kargs\": {\"inplace\": True}},\n",
    "        {\"class\": \"BatchNorm2d\", \"kargs\": {\"num_features\": 256}},\n",
    "        {\n",
    "            \"class\": \"Conv2d\",\n",
    "            \"kargs\": {\n",
    "                \"in_channels\": 256,\n",
    "                \"out_channels\": 80,\n",
    "                \"kernel_size\": [2, 7],\n",
    "                \"bias\": True,\n",
    "                \"padding\": [0, 3],\n",
    "            },\n",
    "        },\n",
    "        {\"class\": \"ReLU\", \"kargs\": {\"inplace\": True}},\n",
    "        {\"class\": \"BatchNorm2d\", \"kargs\": {\"num_features\": 80}},\n",
    "        {\"class\": \"Flatten\", \"kargs\": {}},\n",
    "        {\"class\": \"Linear\", \"kargs\": {\"in_features\": 20480, \"out_features\": 256}},\n",
    "        {\"class\": \"ReLU\", \"kargs\": {\"inplace\": True}},\n",
    "        {\"class\": \"BatchNorm1d\", \"kargs\": {\"num_features\": 256}},\n",
    "        {\"class\": \"Linear\", \"kargs\": {\"in_features\": 256, \"out_features\": 256}},\n",
    "    ],\n",
    "    \"NUM_LOGS_PER_EPOCH\": 10,\n",
    "    \"BEST_MODEL_PATH\": \"./best_model.pth\",\n",
    "    \"n_way\": 58,\n",
    "    \"datasets\": [\n",
    "        {\n",
    "            \"labels\": [\n",
    "                \"1-10.\",\n",
    "                \"1-11.\",\n",
    "                \"1-15.\",\n",
    "                \"1-16.\",\n",
    "                \"1-17.\",\n",
    "                \"1-18.\",\n",
    "                \"1-19.\",\n",
    "                \"10-4.\",\n",
    "                \"10-7.\",\n",
    "                \"11-1.\",\n",
    "                \"11-14.\",\n",
    "                \"11-17.\",\n",
    "                \"11-20.\",\n",
    "                \"11-7.\",\n",
    "                \"13-20.\",\n",
    "                \"13-8.\",\n",
    "                \"14-10.\",\n",
    "                \"14-11.\",\n",
    "                \"14-14.\",\n",
    "                \"14-7.\",\n",
    "                \"15-1.\",\n",
    "                \"15-20.\",\n",
    "                \"16-1.\",\n",
    "                \"16-16.\",\n",
    "                \"17-10.\",\n",
    "                \"17-11.\",\n",
    "                \"17-2.\",\n",
    "                \"19-1.\",\n",
    "                \"19-16.\",\n",
    "                \"19-19.\",\n",
    "                \"19-20.\",\n",
    "                \"19-3.\",\n",
    "                \"2-10.\",\n",
    "                \"2-11.\",\n",
    "                \"2-17.\",\n",
    "                \"2-18.\",\n",
    "                \"2-20.\",\n",
    "                \"2-3.\",\n",
    "                \"2-4.\",\n",
    "                \"2-5.\",\n",
    "                \"2-6.\",\n",
    "                \"2-7.\",\n",
    "                \"2-8.\",\n",
    "                \"3-13.\",\n",
    "                \"3-18.\",\n",
    "                \"3-3.\",\n",
    "                \"4-1.\",\n",
    "                \"4-10.\",\n",
    "                \"4-11.\",\n",
    "                \"4-19.\",\n",
    "                \"5-5.\",\n",
    "                \"6-15.\",\n",
    "                \"7-10.\",\n",
    "                \"7-14.\",\n",
    "                \"8-18.\",\n",
    "                \"8-20.\",\n",
    "                \"8-3.\",\n",
    "                \"8-8.\",\n",
    "            ],\n",
    "            \"domains\": [1, 2, 3, 4, 5],\n",
    "            \"num_examples_per_domain_per_label\": -1,\n",
    "            \"pickle_path\": \"/root/csc500-main/datasets/cores.stratified_ds.2022A.pkl\",\n",
    "            \"source_or_target_dataset\": \"target\",\n",
    "            \"x_transforms\": [],\n",
    "            \"episode_transforms\": [],\n",
    "            \"domain_prefix\": \"CORES_\",\n",
    "        },\n",
    "        {\n",
    "            \"labels\": [\n",
    "                \"1-10\",\n",
    "                \"1-12\",\n",
    "                \"1-14\",\n",
    "                \"1-16\",\n",
    "                \"1-18\",\n",
    "                \"1-19\",\n",
    "                \"1-8\",\n",
    "                \"10-11\",\n",
    "                \"10-17\",\n",
    "                \"10-4\",\n",
    "                \"10-7\",\n",
    "                \"11-1\",\n",
    "                \"11-10\",\n",
    "                \"11-19\",\n",
    "                \"11-20\",\n",
    "                \"11-4\",\n",
    "                \"11-7\",\n",
    "                \"12-19\",\n",
    "                \"12-20\",\n",
    "                \"12-7\",\n",
    "                \"13-14\",\n",
    "                \"13-18\",\n",
    "                \"13-19\",\n",
    "                \"13-20\",\n",
    "                \"13-3\",\n",
    "                \"13-7\",\n",
    "                \"14-10\",\n",
    "                \"14-11\",\n",
    "                \"14-12\",\n",
    "                \"14-13\",\n",
    "                \"14-14\",\n",
    "                \"14-19\",\n",
    "                \"14-20\",\n",
    "                \"14-7\",\n",
    "                \"14-8\",\n",
    "                \"14-9\",\n",
    "                \"15-1\",\n",
    "                \"15-19\",\n",
    "                \"15-6\",\n",
    "                \"16-1\",\n",
    "                \"16-16\",\n",
    "                \"16-19\",\n",
    "                \"16-20\",\n",
    "                \"17-10\",\n",
    "                \"17-11\",\n",
    "                \"18-1\",\n",
    "                \"18-10\",\n",
    "                \"18-11\",\n",
    "                \"18-12\",\n",
    "                \"18-13\",\n",
    "                \"18-14\",\n",
    "                \"18-15\",\n",
    "                \"18-16\",\n",
    "                \"18-17\",\n",
    "                \"18-19\",\n",
    "                \"18-2\",\n",
    "                \"18-20\",\n",
    "                \"18-4\",\n",
    "                \"18-5\",\n",
    "                \"18-7\",\n",
    "                \"18-8\",\n",
    "                \"18-9\",\n",
    "                \"19-1\",\n",
    "                \"19-10\",\n",
    "                \"19-11\",\n",
    "                \"19-12\",\n",
    "                \"19-13\",\n",
    "                \"19-14\",\n",
    "                \"19-15\",\n",
    "                \"19-19\",\n",
    "                \"19-2\",\n",
    "                \"19-20\",\n",
    "                \"19-3\",\n",
    "                \"19-4\",\n",
    "                \"19-6\",\n",
    "                \"19-7\",\n",
    "                \"19-8\",\n",
    "                \"19-9\",\n",
    "                \"2-1\",\n",
    "                \"2-13\",\n",
    "                \"2-15\",\n",
    "                \"2-3\",\n",
    "                \"2-4\",\n",
    "                \"2-5\",\n",
    "                \"2-6\",\n",
    "                \"2-7\",\n",
    "                \"2-8\",\n",
    "                \"20-1\",\n",
    "                \"20-12\",\n",
    "                \"20-14\",\n",
    "                \"20-15\",\n",
    "                \"20-16\",\n",
    "                \"20-18\",\n",
    "                \"20-19\",\n",
    "                \"20-20\",\n",
    "                \"20-3\",\n",
    "                \"20-4\",\n",
    "                \"20-5\",\n",
    "                \"20-7\",\n",
    "                \"20-8\",\n",
    "                \"3-1\",\n",
    "                \"3-13\",\n",
    "                \"3-18\",\n",
    "                \"3-2\",\n",
    "                \"3-8\",\n",
    "                \"4-1\",\n",
    "                \"4-10\",\n",
    "                \"4-11\",\n",
    "                \"5-1\",\n",
    "                \"5-5\",\n",
    "                \"6-1\",\n",
    "                \"6-15\",\n",
    "                \"6-6\",\n",
    "                \"7-10\",\n",
    "                \"7-11\",\n",
    "                \"7-12\",\n",
    "                \"7-13\",\n",
    "                \"7-14\",\n",
    "                \"7-7\",\n",
    "                \"7-8\",\n",
    "                \"7-9\",\n",
    "                \"8-1\",\n",
    "                \"8-13\",\n",
    "                \"8-14\",\n",
    "                \"8-18\",\n",
    "                \"8-20\",\n",
    "                \"8-3\",\n",
    "                \"8-8\",\n",
    "                \"9-1\",\n",
    "                \"9-7\",\n",
    "            ],\n",
    "            \"domains\": [1, 2, 3, 4],\n",
    "            \"num_examples_per_domain_per_label\": -1,\n",
    "            \"pickle_path\": \"/root/csc500-main/datasets/wisig.node3-19.stratified_ds.2022A.pkl\",\n",
    "            \"source_or_target_dataset\": \"source\",\n",
    "            \"x_transforms\": [],\n",
    "            \"episode_transforms\": [],\n",
    "            \"domain_prefix\": \"Wisig_\",\n",
    "        },\n",
    "    ],\n",
    "    \"dataset_seed\": 420,\n",
    "    \"seed\": 420,\n",
    "}\n"
   ]
  },
  {
   "cell_type": "code",
   "execution_count": 5,
   "id": "8fa1cc33",
   "metadata": {
    "execution": {
     "iopub.execute_input": "2022-03-21T02:55:18.081018Z",
     "iopub.status.busy": "2022-03-21T02:55:18.080450Z",
     "iopub.status.idle": "2022-03-21T02:55:18.103924Z",
     "shell.execute_reply": "2022-03-21T02:55:18.103107Z"
    },
    "papermill": {
     "duration": 0.048433,
     "end_time": "2022-03-21T02:55:18.104112",
     "exception": false,
     "start_time": "2022-03-21T02:55:18.055679",
     "status": "completed"
    },
    "tags": []
   },
   "outputs": [],
   "source": [
    "# Set this to True if you want to run this template directly\n",
    "STANDALONE = False\n",
    "if STANDALONE:\n",
    "    print(\"parameters not injected, running with standalone_parameters\")\n",
    "    parameters = standalone_parameters\n",
    "\n",
    "if not 'parameters' in locals() and not 'parameters' in globals():\n",
    "    raise Exception(\"Parameter injection failed\")\n",
    "\n",
    "#Use an easy dict for all the parameters\n",
    "p = EasyDict(parameters)\n",
    "\n",
    "if \"x_shape\" not in p:\n",
    "    p.x_shape = [2,256] # Default to this if we dont supply x_shape\n",
    "\n",
    "\n",
    "supplied_keys = set(p.keys())\n",
    "\n",
    "if  supplied_keys != required_parameters:\n",
    "    print(\"Parameters are incorrect\")\n",
    "    if len(supplied_keys - required_parameters)>0: print(\"Shouldn't have:\", str(supplied_keys - required_parameters))\n",
    "    if len(required_parameters - supplied_keys)>0: print(\"Need to have:\", str(required_parameters - supplied_keys))\n",
    "    raise RuntimeError(\"Parameters are incorrect\")"
   ]
  },
  {
   "cell_type": "code",
   "execution_count": 6,
   "id": "3a028d58",
   "metadata": {
    "execution": {
     "iopub.execute_input": "2022-03-21T02:55:18.155793Z",
     "iopub.status.busy": "2022-03-21T02:55:18.155398Z",
     "iopub.status.idle": "2022-03-21T02:55:18.182064Z",
     "shell.execute_reply": "2022-03-21T02:55:18.180946Z"
    },
    "papermill": {
     "duration": 0.049648,
     "end_time": "2022-03-21T02:55:18.182320",
     "exception": false,
     "start_time": "2022-03-21T02:55:18.132672",
     "status": "completed"
    },
    "tags": []
   },
   "outputs": [],
   "source": [
    "###################################\n",
    "# Set the RNGs and make it all deterministic\n",
    "###################################\n",
    "np.random.seed(p.seed)\n",
    "random.seed(p.seed)\n",
    "torch.manual_seed(p.seed)\n",
    "\n",
    "torch.use_deterministic_algorithms(True) "
   ]
  },
  {
   "cell_type": "code",
   "execution_count": 7,
   "id": "b691acf6",
   "metadata": {
    "execution": {
     "iopub.execute_input": "2022-03-21T02:55:18.234639Z",
     "iopub.status.busy": "2022-03-21T02:55:18.234270Z",
     "iopub.status.idle": "2022-03-21T02:55:18.258137Z",
     "shell.execute_reply": "2022-03-21T02:55:18.257332Z"
    },
    "papermill": {
     "duration": 0.048509,
     "end_time": "2022-03-21T02:55:18.258297",
     "exception": false,
     "start_time": "2022-03-21T02:55:18.209788",
     "status": "completed"
    },
    "tags": []
   },
   "outputs": [],
   "source": [
    "###########################################\n",
    "# The stratified datasets honor this\n",
    "###########################################\n",
    "torch.set_default_dtype(eval(p.torch_default_dtype))"
   ]
  },
  {
   "cell_type": "code",
   "execution_count": 8,
   "id": "b5fba671",
   "metadata": {
    "execution": {
     "iopub.execute_input": "2022-03-21T02:55:18.309794Z",
     "iopub.status.busy": "2022-03-21T02:55:18.309241Z",
     "iopub.status.idle": "2022-03-21T02:55:18.367440Z",
     "shell.execute_reply": "2022-03-21T02:55:18.366729Z"
    },
    "papermill": {
     "duration": 0.081732,
     "end_time": "2022-03-21T02:55:18.367635",
     "exception": false,
     "start_time": "2022-03-21T02:55:18.285903",
     "status": "completed"
    },
    "tags": []
   },
   "outputs": [],
   "source": [
    "###################################\n",
    "# Build the network(s)\n",
    "# Note: It's critical to do this AFTER setting the RNG\n",
    "###################################\n",
    "x_net = build_sequential(p.x_net)"
   ]
  },
  {
   "cell_type": "code",
   "execution_count": 9,
   "id": "5d7e61cc",
   "metadata": {
    "execution": {
     "iopub.execute_input": "2022-03-21T02:55:18.418914Z",
     "iopub.status.busy": "2022-03-21T02:55:18.418553Z",
     "iopub.status.idle": "2022-03-21T02:55:18.443904Z",
     "shell.execute_reply": "2022-03-21T02:55:18.443066Z"
    },
    "papermill": {
     "duration": 0.04935,
     "end_time": "2022-03-21T02:55:18.444065",
     "exception": false,
     "start_time": "2022-03-21T02:55:18.394715",
     "status": "completed"
    },
    "tags": []
   },
   "outputs": [],
   "source": [
    "start_time_secs = time.time()"
   ]
  },
  {
   "cell_type": "code",
   "execution_count": 10,
   "id": "c6b67dfd",
   "metadata": {
    "execution": {
     "iopub.execute_input": "2022-03-21T02:55:18.495696Z",
     "iopub.status.busy": "2022-03-21T02:55:18.495317Z",
     "iopub.status.idle": "2022-03-21T02:55:18.517941Z",
     "shell.execute_reply": "2022-03-21T02:55:18.517136Z"
    },
    "papermill": {
     "duration": 0.047459,
     "end_time": "2022-03-21T02:55:18.518096",
     "exception": false,
     "start_time": "2022-03-21T02:55:18.470637",
     "status": "completed"
    },
    "tags": []
   },
   "outputs": [],
   "source": [
    "p.domains_source = []\n",
    "p.domains_target = []\n",
    "\n",
    "\n",
    "train_original_source = []\n",
    "val_original_source   = []\n",
    "test_original_source  = []\n",
    "\n",
    "train_original_target = []\n",
    "val_original_target   = []\n",
    "test_original_target  = []"
   ]
  },
  {
   "cell_type": "code",
   "execution_count": 11,
   "id": "e3d9c3d3",
   "metadata": {
    "execution": {
     "iopub.execute_input": "2022-03-21T02:55:18.567247Z",
     "iopub.status.busy": "2022-03-21T02:55:18.566883Z",
     "iopub.status.idle": "2022-03-21T02:55:18.591295Z",
     "shell.execute_reply": "2022-03-21T02:55:18.590496Z"
    },
    "papermill": {
     "duration": 0.047508,
     "end_time": "2022-03-21T02:55:18.591449",
     "exception": false,
     "start_time": "2022-03-21T02:55:18.543941",
     "status": "completed"
    },
    "tags": []
   },
   "outputs": [],
   "source": [
    "# global_x_transform_func = lambda x: normalize(x.to(torch.get_default_dtype()), \"unit_power\") # unit_power, unit_mag\n",
    "# global_x_transform_func = lambda x: normalize(x, \"unit_power\") # unit_power, unit_mag"
   ]
  },
  {
   "cell_type": "code",
   "execution_count": 12,
   "id": "acb78fd2",
   "metadata": {
    "execution": {
     "iopub.execute_input": "2022-03-21T02:55:18.648173Z",
     "iopub.status.busy": "2022-03-21T02:55:18.647574Z",
     "iopub.status.idle": "2022-03-21T02:55:18.668287Z",
     "shell.execute_reply": "2022-03-21T02:55:18.667579Z"
    },
    "papermill": {
     "duration": 0.048058,
     "end_time": "2022-03-21T02:55:18.668439",
     "exception": false,
     "start_time": "2022-03-21T02:55:18.620381",
     "status": "completed"
    },
    "tags": []
   },
   "outputs": [],
   "source": [
    "def add_dataset(\n",
    "    labels,\n",
    "    domains,\n",
    "    pickle_path,\n",
    "    x_transforms,\n",
    "    episode_transforms,\n",
    "    domain_prefix,\n",
    "    num_examples_per_domain_per_label,\n",
    "    source_or_target_dataset:str,\n",
    "    iterator_seed=p.seed,\n",
    "    dataset_seed=p.dataset_seed,\n",
    "    n_shot=p.n_shot,\n",
    "    n_way=p.n_way,\n",
    "    n_query=p.n_query,\n",
    "    train_val_test_k_factors=(p.train_k_factor,p.val_k_factor,p.test_k_factor),\n",
    "):\n",
    "   \n",
    "    if x_transforms == []: x_transform = None\n",
    "    else: x_transform = get_chained_transform(x_transforms)\n",
    "    \n",
    "    if episode_transforms == []: episode_transform = None\n",
    "    else: raise Exception(\"episode_transforms not implemented\")\n",
    "    \n",
    "    episode_transform = lambda tup, _prefix=domain_prefix: (_prefix + str(tup[0]), tup[1])\n",
    "\n",
    "\n",
    "    eaf = Episodic_Accessor_Factory(\n",
    "        labels=labels,\n",
    "        domains=domains,\n",
    "        num_examples_per_domain_per_label=num_examples_per_domain_per_label,\n",
    "        iterator_seed=iterator_seed,\n",
    "        dataset_seed=dataset_seed,\n",
    "        n_shot=n_shot,\n",
    "        n_way=n_way,\n",
    "        n_query=n_query,\n",
    "        train_val_test_k_factors=train_val_test_k_factors,\n",
    "        pickle_path=pickle_path,\n",
    "        x_transform_func=x_transform,\n",
    "    )\n",
    "\n",
    "    train, val, test = eaf.get_train(), eaf.get_val(), eaf.get_test()\n",
    "    train = Lazy_Iterable_Wrapper(train, episode_transform)\n",
    "    val = Lazy_Iterable_Wrapper(val, episode_transform)\n",
    "    test = Lazy_Iterable_Wrapper(test, episode_transform)\n",
    "\n",
    "    if source_or_target_dataset==\"source\":\n",
    "        train_original_source.append(train)\n",
    "        val_original_source.append(val)\n",
    "        test_original_source.append(test)\n",
    "\n",
    "        p.domains_source.extend(\n",
    "            [domain_prefix + str(u) for u in domains]\n",
    "        )\n",
    "    elif source_or_target_dataset==\"target\":\n",
    "        train_original_target.append(train)\n",
    "        val_original_target.append(val)\n",
    "        test_original_target.append(test)\n",
    "        p.domains_target.extend(\n",
    "            [domain_prefix + str(u) for u in domains]\n",
    "        )\n",
    "    else:\n",
    "        raise Exception(f\"invalid source_or_target_dataset: {source_or_target_dataset}\")\n",
    "    "
   ]
  },
  {
   "cell_type": "code",
   "execution_count": 13,
   "id": "fe266617",
   "metadata": {
    "execution": {
     "iopub.execute_input": "2022-03-21T02:55:18.717051Z",
     "iopub.status.busy": "2022-03-21T02:55:18.716020Z",
     "iopub.status.idle": "2022-03-21T02:55:22.326676Z",
     "shell.execute_reply": "2022-03-21T02:55:22.325897Z"
    },
    "papermill": {
     "duration": 3.633725,
     "end_time": "2022-03-21T02:55:22.326859",
     "exception": false,
     "start_time": "2022-03-21T02:55:18.693134",
     "status": "completed"
    },
    "tags": []
   },
   "outputs": [],
   "source": [
    "for ds in p.datasets:\n",
    "    add_dataset(**ds)"
   ]
  },
  {
   "cell_type": "code",
   "execution_count": 14,
   "id": "b90d65ac",
   "metadata": {
    "execution": {
     "iopub.execute_input": "2022-03-21T02:55:22.378169Z",
     "iopub.status.busy": "2022-03-21T02:55:22.377595Z",
     "iopub.status.idle": "2022-03-21T02:55:22.402942Z",
     "shell.execute_reply": "2022-03-21T02:55:22.402124Z"
    },
    "papermill": {
     "duration": 0.049777,
     "end_time": "2022-03-21T02:55:22.403101",
     "exception": false,
     "start_time": "2022-03-21T02:55:22.353324",
     "status": "completed"
    },
    "tags": []
   },
   "outputs": [],
   "source": [
    "# from steves_utils.CORES.utils import (\n",
    "#     ALL_NODES,\n",
    "#     ALL_NODES_MINIMUM_1000_EXAMPLES,\n",
    "#     ALL_DAYS\n",
    "# )\n",
    "\n",
    "# add_dataset(\n",
    "#     labels=ALL_NODES,\n",
    "#     domains = ALL_DAYS,\n",
    "#     num_examples_per_domain_per_label=100,\n",
    "#     pickle_path=os.path.join(get_datasets_base_path(), \"cores.stratified_ds.2022A.pkl\"),\n",
    "#     source_or_target_dataset=\"target\",\n",
    "#     x_transform_func=global_x_transform_func,\n",
    "#     domain_modifier=lambda u: f\"cores_{u}\"\n",
    "# )"
   ]
  },
  {
   "cell_type": "code",
   "execution_count": 15,
   "id": "76db484d",
   "metadata": {
    "execution": {
     "iopub.execute_input": "2022-03-21T02:55:22.457437Z",
     "iopub.status.busy": "2022-03-21T02:55:22.456871Z",
     "iopub.status.idle": "2022-03-21T02:55:22.477932Z",
     "shell.execute_reply": "2022-03-21T02:55:22.477115Z"
    },
    "papermill": {
     "duration": 0.046499,
     "end_time": "2022-03-21T02:55:22.478091",
     "exception": false,
     "start_time": "2022-03-21T02:55:22.431592",
     "status": "completed"
    },
    "tags": []
   },
   "outputs": [],
   "source": [
    "# from steves_utils.ORACLE.utils_v2 import (\n",
    "#     ALL_DISTANCES_FEET,\n",
    "#     ALL_RUNS,\n",
    "#     ALL_SERIAL_NUMBERS,\n",
    "# )\n",
    "\n",
    "\n",
    "# add_dataset(\n",
    "#     labels=ALL_SERIAL_NUMBERS,\n",
    "#     domains = list(set(ALL_DISTANCES_FEET) - {2,62}),\n",
    "#     num_examples_per_domain_per_label=100,\n",
    "#     pickle_path=os.path.join(get_datasets_base_path(), \"oracle.Run2_framed_2000Examples_stratified_ds.2022A.pkl\"),\n",
    "#     source_or_target_dataset=\"source\",\n",
    "#     x_transform_func=global_x_transform_func,\n",
    "#     domain_modifier=lambda u: f\"oracle1_{u}\"\n",
    "# )\n"
   ]
  },
  {
   "cell_type": "code",
   "execution_count": 16,
   "id": "97dea9d2",
   "metadata": {
    "execution": {
     "iopub.execute_input": "2022-03-21T02:55:22.530745Z",
     "iopub.status.busy": "2022-03-21T02:55:22.529859Z",
     "iopub.status.idle": "2022-03-21T02:55:22.550506Z",
     "shell.execute_reply": "2022-03-21T02:55:22.549695Z"
    },
    "papermill": {
     "duration": 0.04577,
     "end_time": "2022-03-21T02:55:22.550661",
     "exception": false,
     "start_time": "2022-03-21T02:55:22.504891",
     "status": "completed"
    },
    "tags": []
   },
   "outputs": [],
   "source": [
    "# from steves_utils.ORACLE.utils_v2 import (\n",
    "#     ALL_DISTANCES_FEET,\n",
    "#     ALL_RUNS,\n",
    "#     ALL_SERIAL_NUMBERS,\n",
    "# )\n",
    "\n",
    "\n",
    "# add_dataset(\n",
    "#     labels=ALL_SERIAL_NUMBERS,\n",
    "#     domains = list(set(ALL_DISTANCES_FEET) - {2,62,56}),\n",
    "#     num_examples_per_domain_per_label=100,\n",
    "#     pickle_path=os.path.join(get_datasets_base_path(), \"oracle.Run2_framed_2000Examples_stratified_ds.2022A.pkl\"),\n",
    "#     source_or_target_dataset=\"source\",\n",
    "#     x_transform_func=global_x_transform_func,\n",
    "#     domain_modifier=lambda u: f\"oracle2_{u}\"\n",
    "# )"
   ]
  },
  {
   "cell_type": "code",
   "execution_count": 17,
   "id": "6f289866",
   "metadata": {
    "execution": {
     "iopub.execute_input": "2022-03-21T02:55:22.601135Z",
     "iopub.status.busy": "2022-03-21T02:55:22.600764Z",
     "iopub.status.idle": "2022-03-21T02:55:22.617780Z",
     "shell.execute_reply": "2022-03-21T02:55:22.616960Z"
    },
    "papermill": {
     "duration": 0.04063,
     "end_time": "2022-03-21T02:55:22.617937",
     "exception": false,
     "start_time": "2022-03-21T02:55:22.577307",
     "status": "completed"
    },
    "tags": []
   },
   "outputs": [],
   "source": [
    "# add_dataset(\n",
    "#     labels=list(range(19)),\n",
    "#     domains = [0,1,2],\n",
    "#     num_examples_per_domain_per_label=100,\n",
    "#     pickle_path=os.path.join(get_datasets_base_path(), \"metehan.stratified_ds.2022A.pkl\"),\n",
    "#     source_or_target_dataset=\"target\",\n",
    "#     x_transform_func=global_x_transform_func,\n",
    "#     domain_modifier=lambda u: f\"met_{u}\"\n",
    "# )"
   ]
  },
  {
   "cell_type": "code",
   "execution_count": 18,
   "id": "86a863c3",
   "metadata": {
    "execution": {
     "iopub.execute_input": "2022-03-21T02:55:22.669263Z",
     "iopub.status.busy": "2022-03-21T02:55:22.668890Z",
     "iopub.status.idle": "2022-03-21T02:55:22.685701Z",
     "shell.execute_reply": "2022-03-21T02:55:22.684896Z"
    },
    "papermill": {
     "duration": 0.040932,
     "end_time": "2022-03-21T02:55:22.685856",
     "exception": false,
     "start_time": "2022-03-21T02:55:22.644924",
     "status": "completed"
    },
    "tags": []
   },
   "outputs": [],
   "source": [
    "# # from steves_utils.wisig.utils import (\n",
    "# #     ALL_NODES_MINIMUM_100_EXAMPLES,\n",
    "# #     ALL_NODES_MINIMUM_500_EXAMPLES,\n",
    "# #     ALL_NODES_MINIMUM_1000_EXAMPLES,\n",
    "# #     ALL_DAYS\n",
    "# # )\n",
    "\n",
    "# import steves_utils.wisig.utils as wisig\n",
    "\n",
    "\n",
    "# add_dataset(\n",
    "#     labels=wisig.ALL_NODES_MINIMUM_100_EXAMPLES,\n",
    "#     domains = wisig.ALL_DAYS,\n",
    "#     num_examples_per_domain_per_label=100,\n",
    "#     pickle_path=os.path.join(get_datasets_base_path(), \"wisig.node3-19.stratified_ds.2022A.pkl\"),\n",
    "#     source_or_target_dataset=\"target\",\n",
    "#     x_transform_func=global_x_transform_func,\n",
    "#     domain_modifier=lambda u: f\"wisig_{u}\"\n",
    "# )"
   ]
  },
  {
   "cell_type": "code",
   "execution_count": 19,
   "id": "fd5442bc",
   "metadata": {
    "execution": {
     "iopub.execute_input": "2022-03-21T02:55:22.743852Z",
     "iopub.status.busy": "2022-03-21T02:55:22.743080Z",
     "iopub.status.idle": "2022-03-21T02:55:22.762671Z",
     "shell.execute_reply": "2022-03-21T02:55:22.761922Z"
    },
    "papermill": {
     "duration": 0.049675,
     "end_time": "2022-03-21T02:55:22.762828",
     "exception": false,
     "start_time": "2022-03-21T02:55:22.713153",
     "status": "completed"
    },
    "tags": []
   },
   "outputs": [],
   "source": [
    "###################################\n",
    "# Build the dataset\n",
    "###################################\n",
    "train_original_source = Iterable_Aggregator(train_original_source, p.seed)\n",
    "val_original_source = Iterable_Aggregator(val_original_source, p.seed)\n",
    "test_original_source = Iterable_Aggregator(test_original_source, p.seed)\n",
    "\n",
    "\n",
    "train_original_target = Iterable_Aggregator(train_original_target, p.seed)\n",
    "val_original_target = Iterable_Aggregator(val_original_target, p.seed)\n",
    "test_original_target = Iterable_Aggregator(test_original_target, p.seed)\n",
    "\n",
    "# For CNN We only use X and Y. And we only train on the source.\n",
    "# Properly form the data using a transform lambda and Lazy_Iterable_Wrapper. Finally wrap them in a dataloader\n",
    "\n",
    "transform_lambda = lambda ex: ex[1] # Original is (<domain>, <episode>) so we strip down to episode only\n",
    "\n",
    "train_processed_source = Lazy_Iterable_Wrapper(train_original_source, transform_lambda)\n",
    "val_processed_source   = Lazy_Iterable_Wrapper(val_original_source, transform_lambda)\n",
    "test_processed_source  = Lazy_Iterable_Wrapper(test_original_source, transform_lambda)\n",
    "\n",
    "train_processed_target = Lazy_Iterable_Wrapper(train_original_target, transform_lambda)\n",
    "val_processed_target   = Lazy_Iterable_Wrapper(val_original_target, transform_lambda)\n",
    "test_processed_target  = Lazy_Iterable_Wrapper(test_original_target, transform_lambda)\n",
    "\n",
    "datasets = EasyDict({\n",
    "    \"source\": {\n",
    "        \"original\": {\"train\":train_original_source, \"val\":val_original_source, \"test\":test_original_source},\n",
    "        \"processed\": {\"train\":train_processed_source, \"val\":val_processed_source, \"test\":test_processed_source}\n",
    "    },\n",
    "    \"target\": {\n",
    "        \"original\": {\"train\":train_original_target, \"val\":val_original_target, \"test\":test_original_target},\n",
    "        \"processed\": {\"train\":train_processed_target, \"val\":val_processed_target, \"test\":test_processed_target}\n",
    "    },\n",
    "})"
   ]
  },
  {
   "cell_type": "code",
   "execution_count": 20,
   "id": "5b3c01fc",
   "metadata": {
    "execution": {
     "iopub.execute_input": "2022-03-21T02:55:22.822622Z",
     "iopub.status.busy": "2022-03-21T02:55:22.822056Z",
     "iopub.status.idle": "2022-03-21T02:55:31.238722Z",
     "shell.execute_reply": "2022-03-21T02:55:31.239422Z"
    },
    "papermill": {
     "duration": 8.44794,
     "end_time": "2022-03-21T02:55:31.239663",
     "exception": false,
     "start_time": "2022-03-21T02:55:22.791723",
     "status": "completed"
    },
    "tags": []
   },
   "outputs": [
    {
     "name": "stdout",
     "output_type": "stream",
     "text": [
      "{'Wisig_2', 'Wisig_1', 'Wisig_3', 'Wisig_4'}\n"
     ]
    },
    {
     "name": "stdout",
     "output_type": "stream",
     "text": [
      "{'CORES_2', 'CORES_4', 'CORES_3', 'CORES_5', 'CORES_1'}\n"
     ]
    },
    {
     "name": "stdout",
     "output_type": "stream",
     "text": [
      "tensor([[[ 0.0025,  0.0014,  0.0068,  ..., -0.0084,  0.0010,  0.0066],\n",
      "         [-0.0005, -0.0039, -0.0085,  ..., -0.0010, -0.0104, -0.0092]],\n",
      "\n",
      "        [[ 0.0031,  0.0088,  0.0053,  ...,  0.0062,  0.0118,  0.0108],\n",
      "         [ 0.0011, -0.0005,  0.0052,  ..., -0.0057,  0.0013,  0.0087]],\n",
      "\n",
      "        [[-0.0255, -0.0067,  0.0117,  ..., -0.0050, -0.0051, -0.0044],\n",
      "         [-0.0119, -0.0125, -0.0091,  ...,  0.0044, -0.0039, -0.0017]],\n",
      "\n",
      "        ...,\n",
      "\n",
      "        [[-0.0171,  0.0275,  0.0123,  ..., -0.0162, -0.0073, -0.0347],\n",
      "         [-0.0150,  0.0025,  0.0308,  ..., -0.0077,  0.0333,  0.0471]],\n",
      "\n",
      "        [[-0.0073, -0.0180, -0.0114,  ..., -0.0460, -0.0143,  0.0104],\n",
      "         [-0.0493, -0.0582, -0.0269,  ..., -0.0223, -0.0344, -0.0251]],\n",
      "\n",
      "        [[-0.0208, -0.0522, -0.0479,  ...,  0.0110, -0.0147, -0.0406],\n",
      "         [-0.0075,  0.0332,  0.0004,  ...,  0.0384,  0.0437,  0.0089]]])\n"
     ]
    }
   ],
   "source": [
    "from steves_utils.transforms import get_average_magnitude, get_average_power\n",
    "\n",
    "print(set([u for u,_ in val_original_source]))\n",
    "print(set([u for u,_ in val_original_target]))\n",
    "\n",
    "s_x, s_y, q_x, q_y, _ = next(iter(train_processed_source))\n",
    "print(s_x)\n",
    "\n",
    "# for ds in [\n",
    "#     train_processed_source,\n",
    "#     val_processed_source,\n",
    "#     test_processed_source,\n",
    "#     train_processed_target,\n",
    "#     val_processed_target,\n",
    "#     test_processed_target\n",
    "# ]:\n",
    "#     for s_x, s_y, q_x, q_y, _ in ds:\n",
    "#         for X in (s_x, q_x):\n",
    "#             for x in X:\n",
    "#                 assert np.isclose(get_average_magnitude(x.numpy()), 1.0)\n",
    "#                 assert np.isclose(get_average_power(x.numpy()), 1.0)\n",
    "                "
   ]
  },
  {
   "cell_type": "code",
   "execution_count": 21,
   "id": "bbdacba1",
   "metadata": {
    "execution": {
     "iopub.execute_input": "2022-03-21T02:55:31.295321Z",
     "iopub.status.busy": "2022-03-21T02:55:31.293394Z",
     "iopub.status.idle": "2022-03-21T02:55:31.570046Z",
     "shell.execute_reply": "2022-03-21T02:55:31.570722Z"
    },
    "papermill": {
     "duration": 0.305554,
     "end_time": "2022-03-21T02:55:31.570942",
     "exception": false,
     "start_time": "2022-03-21T02:55:31.265388",
     "status": "completed"
    },
    "tags": []
   },
   "outputs": [
    {
     "name": "stdout",
     "output_type": "stream",
     "text": [
      "(2, 256)\n"
     ]
    }
   ],
   "source": [
    "###################################\n",
    "# Build the model\n",
    "###################################\n",
    "# easfsl only wants a tuple for the shape\n",
    "model = Steves_Prototypical_Network(x_net, device=p.device, x_shape=tuple(p.x_shape))\n",
    "optimizer = Adam(params=model.parameters(), lr=p.lr)"
   ]
  },
  {
   "cell_type": "code",
   "execution_count": 22,
   "id": "22b39ac5",
   "metadata": {
    "execution": {
     "iopub.execute_input": "2022-03-21T02:55:31.628340Z",
     "iopub.status.busy": "2022-03-21T02:55:31.627752Z",
     "iopub.status.idle": "2022-03-21T03:00:02.527370Z",
     "shell.execute_reply": "2022-03-21T03:00:02.526643Z"
    },
    "papermill": {
     "duration": 270.927303,
     "end_time": "2022-03-21T03:00:02.527594",
     "exception": false,
     "start_time": "2022-03-21T02:55:31.600291",
     "status": "completed"
    },
    "tags": []
   },
   "outputs": [
    {
     "name": "stdout",
     "output_type": "stream",
     "text": [
      "epoch: 1, [batch: 1 / 909], examples_per_second: 208.6924, train_label_loss: 3.2721, \n"
     ]
    },
    {
     "name": "stdout",
     "output_type": "stream",
     "text": [
      "epoch: 1, [batch: 91 / 909], examples_per_second: 3108.0029, train_label_loss: 0.9017, \n"
     ]
    },
    {
     "name": "stdout",
     "output_type": "stream",
     "text": [
      "epoch: 1, [batch: 182 / 909], examples_per_second: 3073.1791, train_label_loss: 0.9826, \n"
     ]
    },
    {
     "name": "stdout",
     "output_type": "stream",
     "text": [
      "epoch: 1, [batch: 273 / 909], examples_per_second: 3089.7622, train_label_loss: 0.5872, \n"
     ]
    },
    {
     "name": "stdout",
     "output_type": "stream",
     "text": [
      "epoch: 1, [batch: 364 / 909], examples_per_second: 3027.0905, train_label_loss: 0.4839, \n"
     ]
    },
    {
     "name": "stdout",
     "output_type": "stream",
     "text": [
      "epoch: 1, [batch: 455 / 909], examples_per_second: 3013.9522, train_label_loss: 0.3052, \n"
     ]
    },
    {
     "name": "stdout",
     "output_type": "stream",
     "text": [
      "epoch: 1, [batch: 545 / 909], examples_per_second: 3702.9369, train_label_loss: 0.5284, \n"
     ]
    },
    {
     "name": "stdout",
     "output_type": "stream",
     "text": [
      "epoch: 1, [batch: 636 / 909], examples_per_second: 3857.5322, train_label_loss: 0.6027, \n"
     ]
    },
    {
     "name": "stdout",
     "output_type": "stream",
     "text": [
      "epoch: 1, [batch: 727 / 909], examples_per_second: 3919.4370, train_label_loss: 0.7107, \n"
     ]
    },
    {
     "name": "stdout",
     "output_type": "stream",
     "text": [
      "epoch: 1, [batch: 818 / 909], examples_per_second: 4224.8083, train_label_loss: 0.6489, \n"
     ]
    },
    {
     "name": "stdout",
     "output_type": "stream",
     "text": [
      "=============================================================\n",
      "epoch: 1, source_val_acc_label: 0.9355, target_val_acc_label: 0.9587, source_val_label_loss: 0.3612, target_val_label_loss: 0.2772, \n",
      "=============================================================\n"
     ]
    },
    {
     "name": "stdout",
     "output_type": "stream",
     "text": [
      "New best\n"
     ]
    },
    {
     "name": "stdout",
     "output_type": "stream",
     "text": [
      "epoch: 2, [batch: 1 / 910], examples_per_second: 30.4286, train_label_loss: 0.1561, \n"
     ]
    },
    {
     "name": "stdout",
     "output_type": "stream",
     "text": [
      "epoch: 2, [batch: 91 / 910], examples_per_second: 5161.8598, train_label_loss: 0.3316, \n"
     ]
    },
    {
     "name": "stdout",
     "output_type": "stream",
     "text": [
      "epoch: 2, [batch: 182 / 910], examples_per_second: 3716.4718, train_label_loss: 0.4260, \n"
     ]
    },
    {
     "name": "stdout",
     "output_type": "stream",
     "text": [
      "epoch: 2, [batch: 273 / 910], examples_per_second: 3470.5780, train_label_loss: 0.7107, \n"
     ]
    },
    {
     "name": "stdout",
     "output_type": "stream",
     "text": [
      "epoch: 2, [batch: 364 / 910], examples_per_second: 3430.5978, train_label_loss: 0.4205, \n"
     ]
    },
    {
     "name": "stdout",
     "output_type": "stream",
     "text": [
      "epoch: 2, [batch: 455 / 910], examples_per_second: 3538.5777, train_label_loss: 0.1941, \n"
     ]
    },
    {
     "name": "stdout",
     "output_type": "stream",
     "text": [
      "epoch: 2, [batch: 546 / 910], examples_per_second: 3461.9057, train_label_loss: 0.1884, \n"
     ]
    },
    {
     "name": "stdout",
     "output_type": "stream",
     "text": [
      "epoch: 2, [batch: 637 / 910], examples_per_second: 3332.8913, train_label_loss: 0.4098, \n"
     ]
    },
    {
     "name": "stdout",
     "output_type": "stream",
     "text": [
      "epoch: 2, [batch: 728 / 910], examples_per_second: 3454.2271, train_label_loss: 0.2266, \n"
     ]
    },
    {
     "name": "stdout",
     "output_type": "stream",
     "text": [
      "epoch: 2, [batch: 819 / 910], examples_per_second: 3488.0829, train_label_loss: 0.3108, \n"
     ]
    },
    {
     "name": "stdout",
     "output_type": "stream",
     "text": [
      "=============================================================\n",
      "epoch: 2, source_val_acc_label: 0.9527, target_val_acc_label: 0.9745, source_val_label_loss: 0.2858, target_val_label_loss: 0.1968, \n",
      "=============================================================\n"
     ]
    },
    {
     "name": "stdout",
     "output_type": "stream",
     "text": [
      "New best\n"
     ]
    },
    {
     "name": "stdout",
     "output_type": "stream",
     "text": [
      "epoch: 3, [batch: 1 / 916], examples_per_second: 25.8923, train_label_loss: 0.4049, \n"
     ]
    },
    {
     "name": "stdout",
     "output_type": "stream",
     "text": [
      "epoch: 3, [batch: 92 / 916], examples_per_second: 3517.6203, train_label_loss: 0.2190, \n"
     ]
    },
    {
     "name": "stdout",
     "output_type": "stream",
     "text": [
      "epoch: 3, [batch: 184 / 916], examples_per_second: 3467.6057, train_label_loss: 0.0789, \n"
     ]
    },
    {
     "name": "stdout",
     "output_type": "stream",
     "text": [
      "epoch: 3, [batch: 275 / 916], examples_per_second: 3468.0059, train_label_loss: 0.5251, \n"
     ]
    },
    {
     "name": "stdout",
     "output_type": "stream",
     "text": [
      "epoch: 3, [batch: 367 / 916], examples_per_second: 3413.6107, train_label_loss: 0.1002, \n"
     ]
    },
    {
     "name": "stdout",
     "output_type": "stream",
     "text": [
      "epoch: 3, [batch: 458 / 916], examples_per_second: 3461.1723, train_label_loss: 0.5187, \n"
     ]
    },
    {
     "name": "stdout",
     "output_type": "stream",
     "text": [
      "epoch: 3, [batch: 550 / 916], examples_per_second: 3877.6735, train_label_loss: 0.2083, \n"
     ]
    },
    {
     "name": "stdout",
     "output_type": "stream",
     "text": [
      "epoch: 3, [batch: 641 / 916], examples_per_second: 4219.0967, train_label_loss: 0.3152, \n"
     ]
    },
    {
     "name": "stdout",
     "output_type": "stream",
     "text": [
      "epoch: 3, [batch: 733 / 916], examples_per_second: 3032.9652, train_label_loss: 0.2187, \n"
     ]
    },
    {
     "name": "stdout",
     "output_type": "stream",
     "text": [
      "epoch: 3, [batch: 824 / 916], examples_per_second: 3158.6018, train_label_loss: 0.1572, \n"
     ]
    },
    {
     "name": "stdout",
     "output_type": "stream",
     "text": [
      "=============================================================\n",
      "epoch: 3, source_val_acc_label: 0.9586, target_val_acc_label: 0.9741, source_val_label_loss: 0.2536, target_val_label_loss: 0.1845, \n",
      "=============================================================\n"
     ]
    }
   ],
   "source": [
    "###################################\n",
    "# train\n",
    "###################################\n",
    "jig = PTN_Train_Eval_Test_Jig(model, p.BEST_MODEL_PATH, p.device)\n",
    "\n",
    "jig.train(\n",
    "    train_iterable=datasets.source.processed.train,\n",
    "    source_val_iterable=datasets.source.processed.val,\n",
    "    target_val_iterable=datasets.target.processed.val,\n",
    "    num_epochs=p.n_epoch,\n",
    "    num_logs_per_epoch=p.NUM_LOGS_PER_EPOCH,\n",
    "    patience=p.patience,\n",
    "    optimizer=optimizer,\n",
    "    criteria_for_best=p.criteria_for_best,\n",
    ")"
   ]
  },
  {
   "cell_type": "code",
   "execution_count": 23,
   "id": "31e8fabf",
   "metadata": {
    "execution": {
     "iopub.execute_input": "2022-03-21T03:00:02.606846Z",
     "iopub.status.busy": "2022-03-21T03:00:02.606282Z",
     "iopub.status.idle": "2022-03-21T03:00:02.639210Z",
     "shell.execute_reply": "2022-03-21T03:00:02.638375Z"
    },
    "papermill": {
     "duration": 0.071572,
     "end_time": "2022-03-21T03:00:02.639382",
     "exception": false,
     "start_time": "2022-03-21T03:00:02.567810",
     "status": "completed"
    },
    "tags": []
   },
   "outputs": [],
   "source": [
    "total_experiment_time_secs = time.time() - start_time_secs"
   ]
  },
  {
   "cell_type": "code",
   "execution_count": 24,
   "id": "87b9595b",
   "metadata": {
    "execution": {
     "iopub.execute_input": "2022-03-21T03:00:02.719490Z",
     "iopub.status.busy": "2022-03-21T03:00:02.718817Z",
     "iopub.status.idle": "2022-03-21T03:01:07.201919Z",
     "shell.execute_reply": "2022-03-21T03:01:07.201164Z"
    },
    "papermill": {
     "duration": 64.522109,
     "end_time": "2022-03-21T03:01:07.202110",
     "exception": false,
     "start_time": "2022-03-21T03:00:02.680001",
     "status": "completed"
    },
    "tags": []
   },
   "outputs": [],
   "source": [
    "###################################\n",
    "# Evaluate the model\n",
    "###################################\n",
    "source_test_label_accuracy, source_test_label_loss = jig.test(datasets.source.processed.test)\n",
    "target_test_label_accuracy, target_test_label_loss = jig.test(datasets.target.processed.test)\n",
    "\n",
    "source_val_label_accuracy, source_val_label_loss = jig.test(datasets.source.processed.val)\n",
    "target_val_label_accuracy, target_val_label_loss = jig.test(datasets.target.processed.val)\n",
    "\n",
    "history = jig.get_history()\n",
    "\n",
    "total_epochs_trained = len(history[\"epoch_indices\"])\n",
    "\n",
    "val_dl = Iterable_Aggregator((datasets.source.original.val,datasets.target.original.val))\n",
    "\n",
    "confusion = ptn_confusion_by_domain_over_dataloader(model, p.device, val_dl)\n",
    "per_domain_accuracy = per_domain_accuracy_from_confusion(confusion)\n",
    "\n",
    "# Add a key to per_domain_accuracy for if it was a source domain\n",
    "for domain, accuracy in per_domain_accuracy.items():\n",
    "    per_domain_accuracy[domain] = {\n",
    "        \"accuracy\": accuracy,\n",
    "        \"source?\": domain in p.domains_source\n",
    "    }\n",
    "\n",
    "# Do an independent accuracy assesment JUST TO BE SURE!\n",
    "# _source_test_label_accuracy = independent_accuracy_assesment(model, datasets.source.processed.test, p.device)\n",
    "# _target_test_label_accuracy = independent_accuracy_assesment(model, datasets.target.processed.test, p.device)\n",
    "# _source_val_label_accuracy = independent_accuracy_assesment(model, datasets.source.processed.val, p.device)\n",
    "# _target_val_label_accuracy = independent_accuracy_assesment(model, datasets.target.processed.val, p.device)\n",
    "\n",
    "# assert(_source_test_label_accuracy == source_test_label_accuracy)\n",
    "# assert(_target_test_label_accuracy == target_test_label_accuracy)\n",
    "# assert(_source_val_label_accuracy == source_val_label_accuracy)\n",
    "# assert(_target_val_label_accuracy == target_val_label_accuracy)\n",
    "\n",
    "experiment = {\n",
    "    \"experiment_name\": p.experiment_name,\n",
    "    \"parameters\": dict(p),\n",
    "    \"results\": {\n",
    "        \"source_test_label_accuracy\": source_test_label_accuracy,\n",
    "        \"source_test_label_loss\": source_test_label_loss,\n",
    "        \"target_test_label_accuracy\": target_test_label_accuracy,\n",
    "        \"target_test_label_loss\": target_test_label_loss,\n",
    "        \"source_val_label_accuracy\": source_val_label_accuracy,\n",
    "        \"source_val_label_loss\": source_val_label_loss,\n",
    "        \"target_val_label_accuracy\": target_val_label_accuracy,\n",
    "        \"target_val_label_loss\": target_val_label_loss,\n",
    "        \"total_epochs_trained\": total_epochs_trained,\n",
    "        \"total_experiment_time_secs\": total_experiment_time_secs,\n",
    "        \"confusion\": confusion,\n",
    "        \"per_domain_accuracy\": per_domain_accuracy,\n",
    "    },\n",
    "    \"history\": history,\n",
    "    \"dataset_metrics\": get_dataset_metrics(datasets, \"ptn\"),\n",
    "}"
   ]
  },
  {
   "cell_type": "code",
   "execution_count": 25,
   "id": "54a21829",
   "metadata": {
    "execution": {
     "iopub.execute_input": "2022-03-21T03:01:07.281901Z",
     "iopub.status.busy": "2022-03-21T03:01:07.281331Z",
     "iopub.status.idle": "2022-03-21T03:01:07.502212Z",
     "shell.execute_reply": "2022-03-21T03:01:07.501389Z"
    },
    "papermill": {
     "duration": 0.258712,
     "end_time": "2022-03-21T03:01:07.502371",
     "exception": false,
     "start_time": "2022-03-21T03:01:07.243659",
     "status": "completed"
    },
    "tags": []
   },
   "outputs": [
    {
     "data": {
      "image/png": "[encoded data removed]",
      "text/plain": [
       "<Figure size 1080x504 with 1 Axes>"
      ]
     },
     "metadata": {
      "needs_background": "light"
     },
     "output_type": "display_data"
    }
   ],
   "source": [
    "ax = get_loss_curve(experiment)\n",
    "plt.show()"
   ]
  },
  {
   "cell_type": "code",
   "execution_count": 26,
   "id": "fd8a0f60",
   "metadata": {
    "execution": {
     "iopub.execute_input": "2022-03-21T03:01:07.579599Z",
     "iopub.status.busy": "2022-03-21T03:01:07.579218Z",
     "iopub.status.idle": "2022-03-21T03:01:07.910094Z",
     "shell.execute_reply": "2022-03-21T03:01:07.910767Z"
    },
    "papermill": {
     "duration": 0.369257,
     "end_time": "2022-03-21T03:01:07.910982",
     "exception": false,
     "start_time": "2022-03-21T03:01:07.541725",
     "status": "completed"
    },
    "tags": []
   },
   "outputs": [
    {
     "data": {
      "text/plain": [
       "<AxesSubplot:title={'center':'Results'}>"
      ]
     },
     "execution_count": 26,
     "metadata": {},
     "output_type": "execute_result"
    },
    {
     "data": {
      "image/png": "[encoded data removed]",
      "text/plain": [
       "<Figure size 1080x504 with 1 Axes>"
      ]
     },
     "metadata": {
      "needs_background": "light"
     },
     "output_type": "display_data"
    }
   ],
   "source": [
    "get_results_table(experiment)"
   ]
  },
  {
   "cell_type": "code",
   "execution_count": 27,
   "id": "cf8dc689",
   "metadata": {
    "execution": {
     "iopub.execute_input": "2022-03-21T03:01:07.994018Z",
     "iopub.status.busy": "2022-03-21T03:01:07.993645Z",
     "iopub.status.idle": "2022-03-21T03:01:08.218110Z",
     "shell.execute_reply": "2022-03-21T03:01:08.218801Z"
    },
    "papermill": {
     "duration": 0.265847,
     "end_time": "2022-03-21T03:01:08.219022",
     "exception": false,
     "start_time": "2022-03-21T03:01:07.953175",
     "status": "completed"
    },
    "tags": []
   },
   "outputs": [
    {
     "data": {
      "text/plain": [
       "<AxesSubplot:title={'center':'Per Domain Validation Accuracy'}, xlabel='domain'>"
      ]
     },
     "execution_count": 27,
     "metadata": {},
     "output_type": "execute_result"
    },
    {
     "data": {
      "image/png": "[encoded data removed]",
      "text/plain": [
       "<Figure size 1080x504 with 1 Axes>"
      ]
     },
     "metadata": {
      "needs_background": "light"
     },
     "output_type": "display_data"
    }
   ],
   "source": [
    "get_domain_accuracies(experiment)"
   ]
  },
  {
   "cell_type": "code",
   "execution_count": 28,
   "id": "a74ae082",
   "metadata": {
    "execution": {
     "iopub.execute_input": "2022-03-21T03:01:08.302450Z",
     "iopub.status.busy": "2022-03-21T03:01:08.302064Z",
     "iopub.status.idle": "2022-03-21T03:01:08.327554Z",
     "shell.execute_reply": "2022-03-21T03:01:08.326803Z"
    },
    "papermill": {
     "duration": 0.066671,
     "end_time": "2022-03-21T03:01:08.327731",
     "exception": false,
     "start_time": "2022-03-21T03:01:08.261060",
     "status": "completed"
    },
    "tags": []
   },
   "outputs": [
    {
     "name": "stdout",
     "output_type": "stream",
     "text": [
      "Source Test Label Accuracy: 0.9572134888438134 Target Test Label Accuracy: 0.9743103448275862\n",
      "Source Val Label Accuracy: 0.9526535560344828 Target Val Label Accuracy: 0.9744971264367817\n"
     ]
    }
   ],
   "source": [
    "print(\"Source Test Label Accuracy:\", experiment[\"results\"][\"source_test_label_accuracy\"], \"Target Test Label Accuracy:\", experiment[\"results\"][\"target_test_label_accuracy\"])\n",
    "print(\"Source Val Label Accuracy:\", experiment[\"results\"][\"source_val_label_accuracy\"], \"Target Val Label Accuracy:\", experiment[\"results\"][\"target_val_label_accuracy\"])"
   ]
  },
  {
   "cell_type": "code",
   "execution_count": 29,
   "id": "dacca602",
   "metadata": {
    "execution": {
     "iopub.execute_input": "2022-03-21T03:01:08.461383Z",
     "iopub.status.busy": "2022-03-21T03:01:08.461011Z",
     "iopub.status.idle": "2022-03-21T03:01:08.488401Z",
     "shell.execute_reply": "2022-03-21T03:01:08.489089Z"
    },
    "papermill": {
     "duration": 0.119297,
     "end_time": "2022-03-21T03:01:08.489313",
     "exception": false,
     "start_time": "2022-03-21T03:01:08.370016",
     "status": "completed"
    },
    "tags": [
     "experiment_json"
    ]
   },
   "outputs": [
    {
     "data": {
      "text/plain": [
       "'{\"experiment_name\": \"tl_1v2:cores-wisig\", \"parameters\": {\"experiment_name\": \"tl_1v2:cores-wisig\", \"device\": \"cuda\", \"lr\": 0.0001, \"n_shot\": 3, \"n_query\": 2, \"train_k_factor\": 3, \"val_k_factor\": 2, \"test_k_factor\": 2, \"torch_default_dtype\": \"torch.float32\", \"n_epoch\": 3, \"patience\": 3, \"criteria_for_best\": \"target_accuracy\", \"x_net\": [{\"class\": \"nnReshape\", \"kargs\": {\"shape\": [-1, 1, 2, 256]}}, {\"class\": \"Conv2d\", \"kargs\": {\"in_channels\": 1, \"out_channels\": 256, \"kernel_size\": [1, 7], \"bias\": false, \"padding\": [0, 3]}}, {\"class\": \"ReLU\", \"kargs\": {\"inplace\": true}}, {\"class\": \"BatchNorm2d\", \"kargs\": {\"num_features\": 256}}, {\"class\": \"Conv2d\", \"kargs\": {\"in_channels\": 256, \"out_channels\": 80, \"kernel_size\": [2, 7], \"bias\": true, \"padding\": [0, 3]}}, {\"class\": \"ReLU\", \"kargs\": {\"inplace\": true}}, {\"class\": \"BatchNorm2d\", \"kargs\": {\"num_features\": 80}}, {\"class\": \"Flatten\", \"kargs\": {}}, {\"class\": \"Linear\", \"kargs\": {\"in_features\": 20480, \"out_features\": 256}}, {\"class\": \"ReLU\", \"kargs\": {\"inplace\": true}}, {\"class\": \"BatchNorm1d\", \"kargs\": {\"num_features\": 256}}, {\"class\": \"Linear\", \"kargs\": {\"in_features\": 256, \"out_features\": 256}}], \"NUM_LOGS_PER_EPOCH\": 10, \"BEST_MODEL_PATH\": \"./best_model.pth\", \"n_way\": 58, \"datasets\": [{\"labels\": [\"1-10.\", \"1-11.\", \"1-15.\", \"1-16.\", \"1-17.\", \"1-18.\", \"1-19.\", \"10-4.\", \"10-7.\", \"11-1.\", \"11-14.\", \"11-17.\", \"11-20.\", \"11-7.\", \"13-20.\", \"13-8.\", \"14-10.\", \"14-11.\", \"14-14.\", \"14-7.\", \"15-1.\", \"15-20.\", \"16-1.\", \"16-16.\", \"17-10.\", \"17-11.\", \"17-2.\", \"19-1.\", \"19-16.\", \"19-19.\", \"19-20.\", \"19-3.\", \"2-10.\", \"2-11.\", \"2-17.\", \"2-18.\", \"2-20.\", \"2-3.\", \"2-4.\", \"2-5.\", \"2-6.\", \"2-7.\", \"2-8.\", \"3-13.\", \"3-18.\", \"3-3.\", \"4-1.\", \"4-10.\", \"4-11.\", \"4-19.\", \"5-5.\", \"6-15.\", \"7-10.\", \"7-14.\", \"8-18.\", \"8-20.\", \"8-3.\", \"8-8.\"], \"domains\": [1, 2, 3, 4, 5], \"num_examples_per_domain_per_label\": -1, \"pickle_path\": \"/root/csc500-main/datasets/cores.stratified_ds.2022A.pkl\", \"source_or_target_dataset\": \"target\", \"x_transforms\": [], \"episode_transforms\": [], \"domain_prefix\": \"CORES_\"}, {\"labels\": [\"1-10\", \"1-12\", \"1-14\", \"1-16\", \"1-18\", \"1-19\", \"1-8\", \"10-11\", \"10-17\", \"10-4\", \"10-7\", \"11-1\", \"11-10\", \"11-19\", \"11-20\", \"11-4\", \"11-7\", \"12-19\", \"12-20\", \"12-7\", \"13-14\", \"13-18\", \"13-19\", \"13-20\", \"13-3\", \"13-7\", \"14-10\", \"14-11\", \"14-12\", \"14-13\", \"14-14\", \"14-19\", \"14-20\", \"14-7\", \"14-8\", \"14-9\", \"15-1\", \"15-19\", \"15-6\", \"16-1\", \"16-16\", \"16-19\", \"16-20\", \"17-10\", \"17-11\", \"18-1\", \"18-10\", \"18-11\", \"18-12\", \"18-13\", \"18-14\", \"18-15\", \"18-16\", \"18-17\", \"18-19\", \"18-2\", \"18-20\", \"18-4\", \"18-5\", \"18-7\", \"18-8\", \"18-9\", \"19-1\", \"19-10\", \"19-11\", \"19-12\", \"19-13\", \"19-14\", \"19-15\", \"19-19\", \"19-2\", \"19-20\", \"19-3\", \"19-4\", \"19-6\", \"19-7\", \"19-8\", \"19-9\", \"2-1\", \"2-13\", \"2-15\", \"2-3\", \"2-4\", \"2-5\", \"2-6\", \"2-7\", \"2-8\", \"20-1\", \"20-12\", \"20-14\", \"20-15\", \"20-16\", \"20-18\", \"20-19\", \"20-20\", \"20-3\", \"20-4\", \"20-5\", \"20-7\", \"20-8\", \"3-1\", \"3-13\", \"3-18\", \"3-2\", \"3-8\", \"4-1\", \"4-10\", \"4-11\", \"5-1\", \"5-5\", \"6-1\", \"6-15\", \"6-6\", \"7-10\", \"7-11\", \"7-12\", \"7-13\", \"7-14\", \"7-7\", \"7-8\", \"7-9\", \"8-1\", \"8-13\", \"8-14\", \"8-18\", \"8-20\", \"8-3\", \"8-8\", \"9-1\", \"9-7\"], \"domains\": [1, 2, 3, 4], \"num_examples_per_domain_per_label\": -1, \"pickle_path\": \"/root/csc500-main/datasets/wisig.node3-19.stratified_ds.2022A.pkl\", \"source_or_target_dataset\": \"source\", \"x_transforms\": [], \"episode_transforms\": [], \"domain_prefix\": \"Wisig_\"}], \"dataset_seed\": 420, \"seed\": 420, \"x_shape\": [2, 256], \"domains_source\": [\"Wisig_1\", \"Wisig_2\", \"Wisig_3\", \"Wisig_4\"], \"domains_target\": [\"CORES_1\", \"CORES_2\", \"CORES_3\", \"CORES_4\", \"CORES_5\"]}, \"results\": {\"source_test_label_accuracy\": 0.9572134888438134, \"source_test_label_loss\": 0.25979524850845337, \"target_test_label_accuracy\": 0.9743103448275862, \"target_test_label_loss\": 0.1970052421092987, \"source_val_label_accuracy\": 0.9526535560344828, \"source_val_label_loss\": 0.28582489490509033, \"target_val_label_accuracy\": 0.9744971264367817, \"target_val_label_loss\": 0.19683149456977844, \"total_epochs_trained\": 3, \"total_experiment_time_secs\": 284.1949141025543, \"confusion\": {\"Wisig_3\": {\"10\": {\"10\": 36}, \"120\": {\"120\": 20}, \"111\": {\"111\": 40, \"21\": 1, \"68\": 1}, \"54\": {\"54\": 16}, \"39\": {\"39\": 44}, \"77\": {\"77\": 16}, \"51\": {\"51\": 15, \"72\": 1}, \"85\": {\"85\": 36}, \"53\": {\"53\": 18, \"20\": 1, \"124\": 1}, \"29\": {\"29\": 32}, \"32\": {\"32\": 29, \"50\": 1, \"34\": 1, \"74\": 1}, \"37\": {\"37\": 15, \"18\": 1}, \"30\": {\"30\": 44}, \"116\": {\"116\": 28}, \"80\": {\"80\": 15, \"19\": 1}, \"13\": {\"13\": 10, \"84\": 1, \"63\": 3, \"109\": 1, \"121\": 1}, \"41\": {\"41\": 16}, \"95\": {\"95\": 30, \"7\": 2}, \"100\": {\"100\": 16}, \"45\": {\"45\": 16}, \"89\": {\"89\": 28}, \"76\": {\"76\": 16}, \"113\": {\"113\": 36, \"126\": 2}, \"81\": {\"81\": 30}, \"79\": {\"79\": 12}, \"33\": {\"33\": 36}, \"1\": {\"1\": 34}, \"5\": {\"5\": 36}, \"63\": {\"63\": 16}, \"47\": {\"47\": 10, \"61\": 1, \"121\": 1}, \"122\": {\"122\": 31, \"113\": 1}, \"21\": {\"21\": 42, \"94\": 1, \"17\": 1}, \"15\": {\"15\": 44}, \"50\": {\"50\": 16}, \"62\": {\"62\": 38}, \"56\": {\"56\": 12}, \"66\": {\"66\": 16}, \"52\": {\"52\": 15, \"77\": 1}, \"93\": {\"93\": 45, \"23\": 1}, \"128\": {\"128\": 31, \"56\": 1}, \"99\": {\"99\": 32, \"56\": 1, \"92\": 1}, \"110\": {\"110\": 44, \"92\": 1, \"16\": 1}, \"114\": {\"114\": 41, \"21\": 1, \"121\": 1, \"61\": 1}, \"90\": {\"90\": 36}, \"105\": {\"105\": 42}, \"115\": {\"115\": 16}, \"22\": {\"22\": 16}, \"61\": {\"61\": 16}, \"84\": {\"84\": 34}, \"48\": {\"48\": 14, \"116\": 2}, \"98\": {\"98\": 44}, \"106\": {\"106\": 44, \"97\": 2}, \"83\": {\"83\": 21, \"88\": 1, \"39\": 1, \"21\": 1}, \"8\": {\"8\": 33, \"17\": 1}, \"58\": {\"58\": 16}, \"70\": {\"70\": 35, \"88\": 3, \"78\": 1, \"86\": 1, \"94\": 4, \"67\": 1, \"21\": 1}, \"43\": {\"43\": 42, \"78\": 1, \"11\": 1, \"21\": 1, \"39\": 2, \"113\": 1, \"17\": 1, \"109\": 1}, \"20\": {\"20\": 16}, \"14\": {\"14\": 40}, \"46\": {\"46\": 16}, \"18\": {\"18\": 44}, \"38\": {\"38\": 14, \"86\": 1, \"29\": 1}, \"59\": {\"59\": 12}, \"35\": {\"35\": 10, \"9\": 1, \"125\": 1}, \"57\": {\"57\": 15, \"55\": 1, \"104\": 1, \"17\": 1, \"19\": 1, \"89\": 1}, \"102\": {\"102\": 44}, \"28\": {\"28\": 16}, \"6\": {\"6\": 32}, \"3\": {\"3\": 40, \"18\": 1, \"70\": 1}, \"88\": {\"88\": 41, \"94\": 2, \"21\": 1}, \"25\": {\"25\": 16}, \"60\": {\"60\": 28}, \"87\": {\"87\": 43, \"30\": 1, \"21\": 1, \"39\": 1}, \"19\": {\"19\": 31, \"121\": 1}, \"124\": {\"103\": 2, \"124\": 38}, \"0\": {\"0\": 36}, \"16\": {\"16\": 29, \"70\": 1}, \"40\": {\"40\": 45, \"21\": 1}, \"24\": {\"24\": 35, \"17\": 1, \"27\": 4, \"21\": 1, \"106\": 1}, \"49\": {\"49\": 22, \"19\": 1, \"57\": 1}, \"23\": {\"23\": 32}, \"108\": {\"108\": 42}, \"97\": {\"97\": 20}, \"103\": {\"103\": 16}, \"96\": {\"96\": 19, \"93\": 1}, \"73\": {\"73\": 34, \"88\": 1, \"29\": 1}, \"11\": {\"11\": 32}, \"55\": {\"55\": 16}, \"82\": {\"82\": 28}, \"86\": {\"86\": 28}, \"12\": {\"12\": 42}, \"64\": {\"64\": 20}, \"31\": {\"31\": 19, \"70\": 1}, \"127\": {\"127\": 35, \"84\": 1}, \"123\": {\"123\": 16}, \"4\": {\"4\": 35, \"43\": 1}, \"101\": {\"101\": 31, \"24\": 1, \"113\": 1, \"94\": 1}, \"121\": {\"121\": 27, \"64\": 1, \"81\": 1, \"70\": 1}, \"67\": {\"67\": 16}, \"92\": {\"92\": 31, \"78\": 1}, \"119\": {\"119\": 16}, \"9\": {\"9\": 26}, \"112\": {\"112\": 15, \"61\": 1}, \"2\": {\"2\": 28}, \"117\": {\"117\": 37, \"13\": 1}, \"125\": {\"125\": 35, \"121\": 1}, \"75\": {\"75\": 16}, \"104\": {\"104\": 16}, \"78\": {\"21\": 4, \"78\": 10, \"109\": 1, \"24\": 1}, \"68\": {\"68\": 16}, \"118\": {\"118\": 32, \"43\": 2}, \"72\": {\"72\": 28}, \"36\": {\"36\": 34, \"27\": 2}, \"26\": {\"26\": 42}, \"34\": {\"34\": 30}, \"69\": {\"69\": 35, \"94\": 1}, \"65\": {\"65\": 12}, \"109\": {\"109\": 35, \"29\": 1}, \"107\": {\"107\": 32}, \"7\": {\"7\": 38}, \"94\": {\"94\": 37, \"12\": 1}, \"27\": {\"36\": 6, \"27\": 32, \"70\": 1, \"24\": 3}, \"42\": {\"42\": 27, \"85\": 1}, \"91\": {\"70\": 1, \"36\": 1, \"91\": 21, \"29\": 1}, \"71\": {\"71\": 43, \"21\": 1, \"127\": 1, \"92\": 1}, \"126\": {\"126\": 23, \"39\": 1}, \"17\": {\"86\": 1, \"17\": 8, \"67\": 3, \"21\": 3, \"39\": 1}, \"74\": {\"74\": 16}, \"44\": {\"44\": 30}, \"129\": {\"129\": 30}}, \"Wisig_2\": {\"80\": {\"80\": 16}, \"85\": {\"85\": 32}, \"100\": {\"100\": 16}, \"129\": {\"129\": 32}, \"82\": {\"82\": 34, \"94\": 1, \"107\": 1}, \"112\": {\"114\": 5, \"112\": 11}, \"125\": {\"125\": 48}, \"89\": {\"89\": 33, \"121\": 1}, \"10\": {\"10\": 41, \"21\": 2, \"78\": 2, \"17\": 1}, \"63\": {\"63\": 20}, \"83\": {\"83\": 40}, \"28\": {\"28\": 19, \"17\": 1}, \"117\": {\"117\": 41, \"94\": 1}, \"49\": {\"49\": 21, \"47\": 1, \"112\": 1, \"39\": 1}, \"71\": {\"71\": 42}, \"62\": {\"62\": 42, \"82\": 1, \"24\": 1}, \"99\": {\"99\": 31, \"39\": 1}, \"108\": {\"108\": 48}, \"120\": {\"120\": 19, \"21\": 1}, \"9\": {\"9\": 26}, \"73\": {\"73\": 26, \"13\": 1, \"108\": 1}, \"7\": {\"7\": 36, \"88\": 2}, \"1\": {\"1\": 47, \"88\": 1}, \"123\": {\"123\": 16}, \"97\": {\"112\": 1, \"97\": 17, \"61\": 1, \"15\": 1}, \"114\": {\"114\": 42}, \"48\": {\"48\": 20}, \"115\": {\"115\": 12}, \"13\": {\"13\": 11, \"70\": 1, \"80\": 2, \"24\": 1, \"94\": 1}, \"66\": {\"66\": 20}, \"53\": {\"53\": 16}, \"40\": {\"40\": 41, \"95\": 1}, \"33\": {\"33\": 52}, \"27\": {\"27\": 39, \"88\": 1, \"21\": 1, \"36\": 1}, \"101\": {\"101\": 32}, \"95\": {\"95\": 35, \"108\": 1}, \"34\": {\"34\": 32}, \"105\": {\"105\": 38}, \"122\": {\"0\": 1, \"122\": 39}, \"127\": {\"127\": 41, \"121\": 1, \"12\": 2}, \"0\": {\"0\": 43, \"30\": 1, \"10\": 1, \"88\": 1}, \"74\": {\"74\": 16}, \"116\": {\"116\": 27, \"21\": 1}, \"78\": {\"78\": 39, \"88\": 1, \"24\": 1, \"109\": 1, \"70\": 1, \"94\": 1}, \"68\": {\"68\": 13, \"21\": 2, \"121\": 1}, \"18\": {\"18\": 35, \"21\": 1}, \"15\": {\"15\": 44, \"109\": 1, \"94\": 1}, \"26\": {\"26\": 39, \"94\": 1}, \"50\": {\"112\": 1, \"50\": 14, \"97\": 1}, \"92\": {\"92\": 26, \"21\": 1, \"39\": 1}, \"56\": {\"56\": 12}, \"75\": {\"75\": 16}, \"37\": {\"37\": 16}, \"3\": {\"3\": 40}, \"118\": {\"118\": 50, \"24\": 1, \"70\": 1}, \"11\": {\"11\": 42, \"87\": 1, \"39\": 1}, \"17\": {\"17\": 15, \"13\": 1}, \"94\": {\"94\": 44, \"109\": 1, \"82\": 1, \"43\": 1, \"88\": 1}, \"54\": {\"54\": 19, \"94\": 1}, \"109\": {\"109\": 44, \"78\": 2, \"39\": 4, \"94\": 1, \"21\": 1}, \"128\": {\"128\": 24}, \"22\": {\"22\": 19, \"24\": 1}, \"57\": {\"57\": 20}, \"103\": {\"103\": 16}, \"70\": {\"70\": 39, \"88\": 1, \"78\": 1, \"2\": 1}, \"72\": {\"72\": 28}, \"77\": {\"77\": 16}, \"2\": {\"2\": 32}, \"20\": {\"108\": 1, \"20\": 13, \"100\": 1, \"116\": 1}, \"51\": {\"58\": 2, \"51\": 12, \"21\": 1, \"97\": 3, \"128\": 1, \"75\": 1}, \"58\": {\"58\": 16, \"77\": 2, \"79\": 1, \"51\": 1}, \"52\": {\"52\": 19, \"18\": 1}, \"106\": {\"106\": 26, \"15\": 1, \"101\": 1}, \"5\": {\"5\": 39, \"17\": 1}, \"8\": {\"8\": 41, \"21\": 1}, \"6\": {\"6\": 32}, \"44\": {\"44\": 36}, \"41\": {\"41\": 20}, \"110\": {\"110\": 30, \"107\": 1, \"0\": 2, \"14\": 2, \"122\": 2, \"94\": 1, \"92\": 1, \"21\": 1}, \"16\": {\"16\": 40, \"109\": 1, \"93\": 2, \"94\": 1}, \"45\": {\"45\": 15, \"121\": 1}, \"107\": {\"107\": 37, \"24\": 2, \"40\": 4, \"21\": 1, \"78\": 1, \"88\": 2, \"36\": 1}, \"126\": {\"126\": 36}, \"87\": {\"87\": 33, \"21\": 3}, \"19\": {\"19\": 28}, \"84\": {\"84\": 38, \"50\": 1, \"21\": 2, \"24\": 1}, \"98\": {\"98\": 49, \"61\": 1}, \"4\": {\"4\": 43, \"70\": 2, \"94\": 1}, \"111\": {\"111\": 40}, \"36\": {\"36\": 40, \"88\": 1, \"107\": 1, \"21\": 1, \"94\": 1}, \"91\": {\"77\": 1, \"110\": 1, \"91\": 26}, \"39\": {\"39\": 45, \"109\": 2, \"94\": 1}, \"21\": {\"21\": 37, \"88\": 2, \"94\": 1}, \"76\": {\"76\": 16}, \"12\": {\"12\": 36, \"88\": 2, \"127\": 1, \"97\": 1}, \"119\": {\"119\": 19, \"104\": 1}, \"102\": {\"102\": 34}, \"113\": {\"113\": 33, \"110\": 1, \"24\": 1, \"84\": 1}, \"46\": {\"46\": 16}, \"88\": {\"88\": 47, \"13\": 1}, \"24\": {\"24\": 37, \"125\": 1, \"94\": 1, \"27\": 1}, \"31\": {\"31\": 20}, \"81\": {\"81\": 23, \"117\": 1}, \"30\": {\"30\": 36}, \"55\": {\"55\": 16}, \"86\": {\"86\": 32}, \"43\": {\"43\": 36, \"107\": 1, \"70\": 1}, \"64\": {\"64\": 16}, \"59\": {\"59\": 10, \"88\": 3, \"24\": 2, \"21\": 1}, \"29\": {\"29\": 30, \"107\": 1, \"82\": 1}, \"32\": {\"32\": 35, \"28\": 1}, \"23\": {\"23\": 33, \"112\": 1, \"60\": 1, \"88\": 1}, \"14\": {\"14\": 38}, \"38\": {\"38\": 16}, \"96\": {\"96\": 19, \"83\": 1}, \"93\": {\"93\": 41, \"16\": 1}, \"60\": {\"60\": 27, \"23\": 1}, \"69\": {\"69\": 26, \"94\": 2}, \"47\": {\"47\": 11, \"21\": 1}, \"104\": {\"104\": 17, \"21\": 1, \"24\": 1, \"86\": 1}, \"25\": {\"25\": 15, \"82\": 1}, \"35\": {\"35\": 11, \"28\": 1}, \"79\": {\"79\": 16}, \"42\": {\"42\": 25, \"104\": 1, \"70\": 1, \"18\": 1}, \"121\": {\"121\": 35, \"88\": 1}, \"90\": {\"90\": 32, \"121\": 1, \"75\": 1}, \"124\": {\"124\": 31, \"2\": 1}, \"65\": {\"65\": 20}, \"61\": {\"61\": 13, \"104\": 1, \"24\": 1, \"78\": 1, \"21\": 1, \"116\": 1, \"56\": 2}, \"67\": {\"67\": 15, \"92\": 1}}, \"Wisig_1\": {\"30\": {\"30\": 24, \"94\": 1, \"114\": 1}, \"75\": {\"75\": 16}, \"70\": {\"30\": 1, \"70\": 45, \"21\": 1, \"108\": 1}, \"80\": {\"80\": 15, \"95\": 1}, \"116\": {\"116\": 28, \"21\": 2}, \"50\": {\"50\": 16}, \"0\": {\"0\": 33, \"65\": 1}, \"86\": {\"86\": 33, \"125\": 1, \"36\": 1, \"55\": 1}, \"69\": {\"69\": 28}, \"101\": {\"101\": 42}, \"17\": {\"17\": 16}, \"45\": {\"21\": 1, \"124\": 1, \"45\": 7, \"78\": 1, \"2\": 1, \"109\": 1}, \"106\": {\"106\": 30}, \"102\": {\"102\": 38, \"94\": 2}, \"128\": {\"128\": 23, \"49\": 1}, \"14\": {\"14\": 40}, \"28\": {\"28\": 20}, \"34\": {\"34\": 31, \"27\": 1}, \"49\": {\"49\": 14, \"53\": 3, \"128\": 2, \"107\": 1}, \"74\": {\"74\": 16}, \"79\": {\"79\": 12}, \"82\": {\"82\": 36}, \"61\": {\"61\": 12}, \"111\": {\"111\": 42}, \"19\": {\"19\": 28}, \"110\": {\"110\": 36}, \"108\": {\"108\": 34, \"94\": 2}, \"97\": {\"97\": 13, \"27\": 2, \"24\": 4, \"108\": 1}, \"11\": {\"11\": 30, \"94\": 1, \"21\": 1}, \"27\": {\"27\": 33, \"97\": 1}, \"67\": {\"67\": 15, \"93\": 1}, \"120\": {\"120\": 20}, \"83\": {\"19\": 1, \"28\": 1, \"83\": 21, \"34\": 1}, \"39\": {\"39\": 43, \"94\": 1}, \"109\": {\"109\": 35, \"70\": 1}, \"2\": {\"2\": 31, \"45\": 1}, \"85\": {\"85\": 26}, \"66\": {\"66\": 15, \"90\": 1}, \"35\": {\"35\": 12}, \"105\": {\"105\": 38}, \"23\": {\"23\": 19, \"3\": 2, \"87\": 1, \"24\": 1, \"110\": 1}, \"47\": {\"47\": 12}, \"56\": {\"56\": 12}, \"88\": {\"88\": 33, \"24\": 1}, \"91\": {\"91\": 26, \"58\": 2}, \"112\": {\"112\": 16}, \"115\": {\"115\": 12}, \"7\": {\"7\": 42}, \"13\": {\"13\": 16}, \"29\": {\"29\": 28}, \"68\": {\"68\": 16}, \"81\": {\"81\": 28}, \"72\": {\"72\": 32}, \"55\": {\"55\": 12}, \"77\": {\"77\": 16}, \"124\": {\"124\": 34}, \"18\": {\"18\": 36}, \"21\": {\"21\": 35, \"94\": 1, \"78\": 2}, \"16\": {\"16\": 27, \"26\": 1}, \"119\": {\"119\": 16}, \"3\": {\"3\": 33, \"92\": 1}, \"36\": {\"36\": 35, \"70\": 1}, \"95\": {\"70\": 2, \"95\": 30}, \"43\": {\"43\": 32}, \"92\": {\"92\": 28}, \"107\": {\"107\": 21, \"39\": 1}, \"129\": {\"129\": 28}, \"78\": {\"78\": 14, \"94\": 1, \"21\": 1}, \"48\": {\"48\": 12}, \"76\": {\"76\": 16}, \"57\": {\"57\": 12}, \"5\": {\"5\": 37, \"111\": 1, \"114\": 1, \"16\": 1}, \"53\": {\"53\": 20}, \"87\": {\"87\": 34}, \"98\": {\"98\": 32}, \"33\": {\"33\": 40}, \"31\": {\"31\": 14, \"94\": 1, \"27\": 1}, \"60\": {\"60\": 14, \"101\": 2}, \"1\": {\"1\": 32}, \"46\": {\"86\": 1, \"46\": 9, \"59\": 1, \"88\": 1}, \"100\": {\"100\": 16}, \"24\": {\"24\": 36, \"97\": 1, \"94\": 1}, \"51\": {\"51\": 16}, \"54\": {\"54\": 15, \"110\": 1}, \"114\": {\"114\": 34}, \"6\": {\"6\": 32}, \"15\": {\"15\": 30}, \"89\": {\"89\": 36}, \"93\": {\"93\": 36}, \"127\": {\"127\": 29, \"21\": 1, \"12\": 2}, \"71\": {\"71\": 31, \"19\": 1, \"27\": 1, \"42\": 1}, \"32\": {\"32\": 32}, \"63\": {\"63\": 16}, \"118\": {\"118\": 40}, \"12\": {\"12\": 31, \"70\": 1}, \"90\": {\"90\": 29, \"125\": 1}, \"104\": {\"104\": 15, \"86\": 1}, \"122\": {\"122\": 31, \"27\": 1}, \"64\": {\"64\": 16}, \"73\": {\"73\": 18, \"65\": 1, \"95\": 1}, \"58\": {\"58\": 11, \"91\": 1}, \"117\": {\"117\": 36}, \"26\": {\"26\": 33, \"94\": 1}, \"40\": {\"40\": 30}, \"84\": {\"84\": 42}, \"44\": {\"44\": 34}, \"94\": {\"70\": 1, \"94\": 27}, \"126\": {\"126\": 20}, \"20\": {\"20\": 14, \"14\": 1, \"100\": 1}, \"125\": {\"125\": 31, \"6\": 1}, \"41\": {\"41\": 16}, \"37\": {\"37\": 16}, \"42\": {\"42\": 23, \"104\": 1, \"95\": 2}, \"59\": {\"59\": 11, \"125\": 1}, \"25\": {\"25\": 16}, \"103\": {\"103\": 15, \"47\": 1}, \"4\": {\"4\": 30}, \"22\": {\"22\": 15, \"13\": 1}, \"113\": {\"113\": 24}, \"123\": {\"123\": 16}, \"96\": {\"96\": 18, \"99\": 1, \"2\": 1}, \"8\": {\"8\": 40}, \"10\": {\"10\": 34, \"94\": 1, \"70\": 1}, \"9\": {\"9\": 31, \"94\": 1}, \"99\": {\"99\": 24}, \"121\": {\"121\": 31, \"110\": 1}, \"52\": {\"52\": 17, \"108\": 1}, \"62\": {\"62\": 24}, \"65\": {\"65\": 5, \"116\": 4, \"63\": 1, \"13\": 1, \"50\": 1}, \"38\": {\"38\": 16}}, \"Wisig_4\": {\"124\": {\"124\": 44}, \"106\": {\"106\": 41, \"108\": 1, \"43\": 1, \"88\": 1}, \"89\": {\"89\": 31, \"21\": 1}, \"68\": {\"68\": 15, \"88\": 1}, \"123\": {\"123\": 15, \"23\": 1}, \"16\": {\"16\": 42, \"36\": 1, \"109\": 1, \"21\": 2}, \"65\": {\"55\": 1, \"65\": 11}, \"23\": {\"23\": 8, \"108\": 1, \"87\": 1, \"11\": 1, \"50\": 1, \"72\": 1, \"94\": 1, \"85\": 1, \"15\": 1}, \"1\": {\"1\": 37, \"6\": 1, \"73\": 1, \"43\": 1, \"108\": 1, \"114\": 1}, \"87\": {\"87\": 38, \"122\": 2, \"43\": 4}, \"40\": {\"40\": 44}, \"107\": {\"107\": 50}, \"2\": {\"2\": 24}, \"56\": {\"56\": 12}, \"109\": {\"109\": 47, \"39\": 1}, \"74\": {\"109\": 1, \"74\": 14, \"79\": 1}, \"83\": {\"83\": 27, \"78\": 1}, \"50\": {\"50\": 15, \"55\": 1}, \"53\": {\"53\": 15, \"78\": 1}, \"4\": {\"4\": 44, \"21\": 2}, \"84\": {\"84\": 50, \"21\": 2}, \"128\": {\"128\": 23, \"50\": 1}, \"46\": {\"46\": 16, \"67\": 1, \"58\": 1, \"100\": 1, \"124\": 1}, \"36\": {\"36\": 40, \"94\": 1, \"30\": 1, \"7\": 1, \"88\": 1}, \"8\": {\"8\": 50, \"106\": 1, \"7\": 1}, \"115\": {\"115\": 16}, \"95\": {\"95\": 29, \"27\": 1, \"127\": 1, \"108\": 1}, \"127\": {\"23\": 2, \"127\": 38, \"21\": 1, \"27\": 1}, \"32\": {\"32\": 26, \"55\": 1, \"89\": 1}, \"108\": {\"108\": 34, \"18\": 1, \"70\": 3, \"88\": 1, \"94\": 1, \"26\": 1, \"27\": 1}, \"59\": {\"59\": 12}, \"76\": {\"76\": 16}, \"15\": {\"15\": 38, \"117\": 1, \"94\": 1}, \"103\": {\"103\": 13, \"124\": 2, \"108\": 1}, \"37\": {\"37\": 16}, \"22\": {\"22\": 16}, \"91\": {\"91\": 24}, \"28\": {\"28\": 19, \"116\": 1}, \"55\": {\"55\": 16}, \"63\": {\"63\": 15, \"85\": 1}, \"60\": {\"60\": 32}, \"111\": {\"111\": 44}, \"120\": {\"120\": 18, \"87\": 1, \"45\": 1}, \"80\": {\"80\": 16}, \"110\": {\"110\": 39, \"96\": 2, \"126\": 1}, \"102\": {\"102\": 41, \"121\": 1}, \"51\": {\"51\": 6, \"12\": 1, \"85\": 2, \"41\": 1, \"78\": 1, \"21\": 1, \"82\": 1, \"53\": 1, \"52\": 2}, \"85\": {\"85\": 27, \"29\": 1}, \"71\": {\"71\": 33, \"36\": 1, \"34\": 1, \"21\": 1}, \"20\": {\"20\": 15, \"49\": 1}, \"10\": {\"10\": 42, \"24\": 1, \"70\": 1}, \"52\": {\"52\": 18, \"88\": 1, \"46\": 1}, \"45\": {\"45\": 16}, \"75\": {\"75\": 16}, \"98\": {\"98\": 38}, \"13\": {\"13\": 16}, \"125\": {\"125\": 42}, \"54\": {\"54\": 15, \"63\": 1}, \"49\": {\"49\": 31, \"114\": 1}, \"18\": {\"18\": 38}, \"30\": {\"30\": 43, \"43\": 1, \"36\": 1, \"10\": 1}, \"72\": {\"72\": 32}, \"117\": {\"117\": 40}, \"38\": {\"38\": 14, \"51\": 1, \"59\": 1}, \"17\": {\"17\": 20}, \"118\": {\"118\": 42, \"13\": 1, \"88\": 1, \"107\": 1, \"82\": 1}, \"9\": {\"9\": 27, \"83\": 1}, \"101\": {\"101\": 42}, \"112\": {\"112\": 15, \"67\": 1}, \"12\": {\"12\": 36, \"30\": 1, \"36\": 1, \"107\": 1, \"55\": 1}, \"92\": {\"92\": 28}, \"3\": {\"110\": 1, \"3\": 35}, \"33\": {\"33\": 38, \"21\": 1, \"63\": 1, \"107\": 1, \"2\": 1}, \"114\": {\"114\": 40}, \"126\": {\"126\": 37, \"39\": 3, \"81\": 1, \"108\": 1}, \"47\": {\"47\": 10, \"9\": 1, \"25\": 1}, \"19\": {\"19\": 28}, \"66\": {\"66\": 14, \"90\": 2}, \"93\": {\"93\": 36}, \"113\": {\"113\": 40, \"21\": 1, \"126\": 1}, \"5\": {\"5\": 42}, \"116\": {\"116\": 28}, \"21\": {\"21\": 32, \"78\": 2, \"26\": 1, \"82\": 1}, \"70\": {\"70\": 38, \"88\": 3, \"121\": 1}, \"39\": {\"39\": 33, \"21\": 2, \"88\": 1}, \"42\": {\"42\": 27, \"9\": 1}, \"100\": {\"100\": 19, \"50\": 1}, \"62\": {\"62\": 37, \"118\": 3, \"26\": 1, \"94\": 1, \"109\": 1, \"34\": 1}, \"96\": {\"96\": 15, \"14\": 1, \"113\": 1, \"55\": 1, \"122\": 1, \"110\": 1}, \"26\": {\"26\": 42}, \"14\": {\"14\": 46}, \"104\": {\"104\": 16}, \"67\": {\"67\": 14, \"104\": 1, \"123\": 1}, \"90\": {\"90\": 34, \"123\": 1, \"121\": 1}, \"41\": {\"41\": 13, \"6\": 1, \"27\": 1, \"75\": 1}, \"97\": {\"91\": 1, \"86\": 1, \"24\": 2, \"10\": 4, \"97\": 8, \"36\": 1, \"50\": 1, \"78\": 1, \"70\": 1}, \"58\": {\"58\": 15, \"67\": 1}, \"105\": {\"105\": 39, \"69\": 1}, \"94\": {\"94\": 37, \"81\": 1}, \"64\": {\"64\": 16}, \"31\": {\"31\": 14, \"21\": 1, \"78\": 1}, \"122\": {\"122\": 32, \"43\": 3, \"110\": 3, \"21\": 2, \"82\": 1, \"15\": 1}, \"44\": {\"44\": 35, \"90\": 1}, \"81\": {\"81\": 35, \"108\": 1}, \"86\": {\"86\": 28}, \"29\": {\"29\": 32}, \"7\": {\"7\": 38, \"94\": 1, \"82\": 1}, \"35\": {\"35\": 12}, \"57\": {\"57\": 16}, \"0\": {\"0\": 38, \"78\": 1, \"84\": 1}, \"24\": {\"24\": 30, \"84\": 1, \"70\": 1, \"94\": 1, \"10\": 1}, \"78\": {\"78\": 24, \"21\": 5, \"10\": 1, \"88\": 1, \"121\": 1, \"94\": 1, \"82\": 1, \"23\": 1, \"26\": 1}, \"77\": {\"77\": 12}, \"88\": {\"88\": 41, \"94\": 1}, \"121\": {\"121\": 28}, \"82\": {\"31\": 1, \"82\": 26, \"98\": 1}, \"129\": {\"129\": 28}, \"43\": {\"43\": 45, \"87\": 1}, \"73\": {\"73\": 24}, \"25\": {\"25\": 16}, \"61\": {\"61\": 16}, \"79\": {\"124\": 1, \"79\": 13, \"88\": 1, \"21\": 1}, \"119\": {\"119\": 16}, \"34\": {\"34\": 30}, \"27\": {\"27\": 27, \"88\": 1, \"23\": 1, \"78\": 1}, \"11\": {\"11\": 41, \"93\": 1}, \"48\": {\"48\": 15, \"50\": 1}, \"6\": {\"6\": 24}, \"99\": {\"99\": 36}, \"69\": {\"69\": 34, \"62\": 3, \"94\": 1}}, \"CORES_4\": {\"56\": {\"56\": 16}, \"35\": {\"35\": 16}, \"51\": {\"51\": 16}, \"21\": {\"21\": 15, \"30\": 1}, \"47\": {\"47\": 16}, \"40\": {\"40\": 16}, \"53\": {\"53\": 16}, \"22\": {\"22\": 16}, \"31\": {\"31\": 15, \"7\": 1}, \"6\": {\"6\": 16}, \"52\": {\"52\": 16}, \"30\": {\"30\": 16}, \"39\": {\"39\": 16}, \"7\": {\"7\": 15, \"32\": 1}, \"37\": {\"37\": 15, \"14\": 1}, \"44\": {\"44\": 16}, \"9\": {\"9\": 16}, \"42\": {\"42\": 15, \"41\": 1}, \"5\": {\"5\": 16}, \"13\": {\"13\": 16}, \"46\": {\"46\": 16}, \"16\": {\"16\": 16}, \"36\": {\"36\": 16}, \"26\": {\"26\": 14, \"34\": 2}, \"27\": {\"27\": 16}, \"4\": {\"4\": 16}, \"45\": {\"45\": 16}, \"19\": {\"19\": 16}, \"41\": {\"41\": 16}, \"49\": {\"49\": 16}, \"24\": {\"24\": 16}, \"15\": {\"15\": 13, \"11\": 3}, \"28\": {\"28\": 16}, \"10\": {\"10\": 16}, \"0\": {\"0\": 16}, \"3\": {\"3\": 16}, \"8\": {\"8\": 16}, \"20\": {\"20\": 16}, \"55\": {\"55\": 15, \"7\": 1}, \"32\": {\"32\": 16}, \"38\": {\"38\": 16}, \"54\": {\"54\": 16}, \"48\": {\"48\": 16}, \"33\": {\"33\": 16}, \"43\": {\"43\": 16}, \"23\": {\"23\": 16}, \"29\": {\"57\": 1, \"29\": 15}, \"12\": {\"12\": 16}, \"18\": {\"18\": 16}, \"25\": {\"25\": 16}, \"34\": {\"34\": 10, \"26\": 1, \"23\": 3, \"28\": 2}, \"11\": {\"11\": 14, \"15\": 2}, \"1\": {\"1\": 16}, \"57\": {\"57\": 15, \"29\": 1}, \"2\": {\"2\": 16}, \"14\": {\"13\": 6, \"37\": 1, \"14\": 2, \"55\": 2, \"1\": 3, \"38\": 1, \"2\": 1}, \"17\": {\"17\": 16}, \"50\": {\"50\": 15, \"3\": 1}}, \"CORES_5\": {\"55\": {\"55\": 20}, \"28\": {\"28\": 20}, \"21\": {\"21\": 20}, \"53\": {\"53\": 20}, \"2\": {\"2\": 20}, \"0\": {\"0\": 20}, \"7\": {\"7\": 20}, \"19\": {\"19\": 20}, \"25\": {\"25\": 20}, \"45\": {\"45\": 17, \"50\": 2, \"6\": 1}, \"57\": {\"57\": 20}, \"42\": {\"42\": 20}, \"5\": {\"5\": 20}, \"16\": {\"16\": 20}, \"26\": {\"26\": 19, \"18\": 1}, \"32\": {\"32\": 20}, \"15\": {\"15\": 20}, \"30\": {\"30\": 20}, \"3\": {\"3\": 20}, \"35\": {\"35\": 20}, \"14\": {\"13\": 5, \"37\": 1, \"14\": 10, \"49\": 4}, \"8\": {\"8\": 20}, \"56\": {\"56\": 20}, \"50\": {\"50\": 20}, \"31\": {\"31\": 20}, \"52\": {\"52\": 20}, \"1\": {\"1\": 20}, \"44\": {\"44\": 20}, \"39\": {\"39\": 20}, \"27\": {\"27\": 20}, \"17\": {\"17\": 20}, \"41\": {\"41\": 20}, \"40\": {\"40\": 20}, \"48\": {\"48\": 20}, \"22\": {\"22\": 20}, \"6\": {\"6\": 20}, \"11\": {\"11\": 19, \"15\": 1}, \"12\": {\"12\": 20}, \"49\": {\"49\": 20}, \"34\": {\"34\": 20}, \"37\": {\"37\": 20}, \"24\": {\"24\": 20}, \"33\": {\"33\": 20}, \"47\": {\"47\": 20}, \"23\": {\"23\": 20}, \"13\": {\"13\": 20}, \"29\": {\"29\": 20}, \"46\": {\"46\": 19, \"3\": 1}, \"38\": {\"38\": 17, \"7\": 2, \"55\": 1}, \"18\": {\"18\": 20}, \"9\": {\"9\": 19, \"30\": 1}, \"36\": {\"36\": 20}, \"51\": {\"51\": 20}, \"54\": {\"54\": 20}, \"43\": {\"43\": 20}, \"10\": {\"10\": 20}, \"4\": {\"4\": 20}, \"20\": {\"20\": 20}}, \"CORES_2\": {\"43\": {\"43\": 20}, \"52\": {\"52\": 20}, \"9\": {\"9\": 20}, \"49\": {\"49\": 19, \"25\": 1}, \"27\": {\"27\": 20}, \"4\": {\"4\": 20}, \"31\": {\"31\": 20}, \"47\": {\"47\": 20}, \"21\": {\"21\": 20}, \"0\": {\"0\": 20}, \"16\": {\"16\": 20}, \"51\": {\"51\": 20}, \"3\": {\"50\": 1, \"3\": 19}, \"50\": {\"50\": 20}, \"40\": {\"29\": 1, \"40\": 19}, \"55\": {\"55\": 20}, \"12\": {\"12\": 20}, \"45\": {\"45\": 20}, \"7\": {\"7\": 20}, \"28\": {\"28\": 20}, \"33\": {\"33\": 19, \"27\": 1}, \"38\": {\"38\": 20}, \"44\": {\"44\": 20}, \"15\": {\"15\": 20}, \"25\": {\"25\": 20}, \"11\": {\"11\": 20}, \"57\": {\"57\": 20}, \"34\": {\"34\": 18, \"23\": 2}, \"14\": {\"13\": 7, \"14\": 11, \"38\": 2}, \"32\": {\"32\": 20}, \"18\": {\"18\": 20}, \"42\": {\"42\": 20}, \"8\": {\"8\": 20}, \"48\": {\"48\": 20}, \"24\": {\"24\": 20}, \"30\": {\"30\": 20}, \"10\": {\"10\": 20}, \"36\": {\"36\": 20}, \"35\": {\"35\": 20}, \"56\": {\"56\": 20}, \"41\": {\"41\": 19, \"1\": 1}, \"53\": {\"53\": 20}, \"37\": {\"37\": 20}, \"20\": {\"20\": 20}, \"17\": {\"17\": 20}, \"13\": {\"13\": 20}, \"46\": {\"46\": 20}, \"22\": {\"22\": 20}, \"1\": {\"1\": 20}, \"6\": {\"6\": 19, \"45\": 1}, \"26\": {\"39\": 1, \"26\": 18, \"36\": 1}, \"23\": {\"23\": 20}, \"19\": {\"19\": 20}, \"29\": {\"29\": 16, \"57\": 4}, \"2\": {\"2\": 20}, \"54\": {\"54\": 20}, \"5\": {\"5\": 20}, \"39\": {\"39\": 20}}, \"CORES_1\": {\"42\": {\"42\": 23, \"23\": 1}, \"6\": {\"6\": 24}, \"25\": {\"25\": 24}, \"17\": {\"17\": 24}, \"23\": {\"23\": 24}, \"13\": {\"13\": 24}, \"34\": {\"34\": 19, \"33\": 5}, \"53\": {\"53\": 24}, \"27\": {\"27\": 24}, \"48\": {\"48\": 24}, \"51\": {\"51\": 24}, \"49\": {\"49\": 24}, \"3\": {\"3\": 23, \"57\": 1}, \"2\": {\"2\": 24}, \"28\": {\"28\": 24}, \"26\": {\"26\": 24}, \"30\": {\"30\": 24}, \"37\": {\"37\": 24}, \"35\": {\"35\": 24}, \"56\": {\"56\": 24}, \"31\": {\"31\": 24}, \"11\": {\"11\": 24}, \"45\": {\"45\": 24}, \"38\": {\"42\": 3, \"38\": 16, \"36\": 4, \"1\": 1}, \"54\": {\"54\": 24}, \"4\": {\"4\": 24}, \"57\": {\"57\": 24}, \"24\": {\"24\": 24}, \"33\": {\"33\": 24}, \"32\": {\"32\": 24}, \"55\": {\"38\": 1, \"55\": 23}, \"12\": {\"12\": 24}, \"8\": {\"8\": 24}, \"22\": {\"22\": 23, \"21\": 1}, \"29\": {\"29\": 24}, \"10\": {\"10\": 24}, \"18\": {\"18\": 24}, \"7\": {\"7\": 24}, \"52\": {\"52\": 24}, \"16\": {\"16\": 24}, \"36\": {\"36\": 24}, \"39\": {\"39\": 23, \"43\": 1}, \"44\": {\"44\": 24}, \"19\": {\"19\": 23, \"16\": 1}, \"1\": {\"1\": 24}, \"41\": {\"41\": 22, \"8\": 2}, \"46\": {\"50\": 1, \"46\": 23}, \"14\": {\"14\": 9, \"30\": 15}, \"0\": {\"0\": 24}, \"15\": {\"15\": 24}, \"47\": {\"47\": 24}, \"43\": {\"43\": 24}, \"50\": {\"50\": 24}, \"21\": {\"21\": 24}, \"20\": {\"20\": 24}, \"9\": {\"9\": 24}, \"5\": {\"5\": 24}, \"40\": {\"40\": 24}}, \"CORES_3\": {\"18\": {\"18\": 16}, \"29\": {\"29\": 14, \"57\": 2}, \"3\": {\"3\": 16}, \"39\": {\"39\": 16}, \"12\": {\"12\": 16}, \"33\": {\"33\": 16}, \"5\": {\"5\": 16}, \"9\": {\"9\": 16}, \"57\": {\"57\": 10, \"29\": 6}, \"30\": {\"30\": 16}, \"23\": {\"23\": 16}, \"40\": {\"40\": 16}, \"15\": {\"15\": 14, \"11\": 2}, \"16\": {\"16\": 16}, \"43\": {\"43\": 16}, \"13\": {\"13\": 16}, \"38\": {\"38\": 16}, \"56\": {\"56\": 16}, \"50\": {\"50\": 16}, \"7\": {\"7\": 14, \"38\": 1, \"2\": 1}, \"11\": {\"15\": 1, \"11\": 15}, \"41\": {\"41\": 16}, \"42\": {\"42\": 16}, \"14\": {\"14\": 6, \"55\": 3, \"1\": 1, \"13\": 6}, \"28\": {\"28\": 16}, \"1\": {\"1\": 16}, \"17\": {\"17\": 16}, \"35\": {\"35\": 16}, \"10\": {\"10\": 16}, \"52\": {\"52\": 16}, \"46\": {\"46\": 15, \"50\": 1}, \"19\": {\"19\": 16}, \"24\": {\"24\": 16}, \"54\": {\"54\": 16}, \"4\": {\"4\": 16}, \"21\": {\"21\": 16}, \"8\": {\"8\": 16}, \"31\": {\"31\": 16}, \"47\": {\"47\": 16}, \"26\": {\"26\": 16}, \"2\": {\"2\": 16}, \"51\": {\"51\": 16}, \"22\": {\"22\": 16}, \"49\": {\"49\": 16}, \"0\": {\"0\": 16}, \"37\": {\"37\": 16}, \"45\": {\"45\": 15, \"6\": 1}, \"6\": {\"6\": 15, \"45\": 1}, \"36\": {\"36\": 16}, \"20\": {\"20\": 16}, \"25\": {\"25\": 16}, \"53\": {\"53\": 16}, \"55\": {\"55\": 16}, \"32\": {\"32\": 16}, \"34\": {\"34\": 16}, \"27\": {\"27\": 16}, \"44\": {\"44\": 16}, \"48\": {\"48\": 16}}}, \"per_domain_accuracy\": {\"Wisig_3\": {\"accuracy\": 0.9601293103448276, \"source?\": true}, \"Wisig_2\": {\"accuracy\": 0.947261663286004, \"source?\": true}, \"Wisig_1\": {\"accuracy\": 0.9652199762187872, \"source?\": true}, \"Wisig_4\": {\"accuracy\": 0.9399164054336469, \"source?\": true}, \"CORES_4\": {\"accuracy\": 0.9612068965517241, \"source?\": false}, \"CORES_5\": {\"accuracy\": 0.9827586206896551, \"source?\": false}, \"CORES_2\": {\"accuracy\": 0.9801724137931035, \"source?\": false}, \"CORES_1\": {\"accuracy\": 0.9734195402298851, \"source?\": false}, \"CORES_3\": {\"accuracy\": 0.9719827586206896, \"source?\": false}}}, \"history\": {\"epoch_indices\": [1, 2, 3], \"train_label_loss\": [0.5451285763591429, 0.2673137794545555, 0.21017936642554194], \"source_val_label_loss\": [0.36121800541877747, 0.28582489490509033, 0.25362756848335266], \"target_val_label_loss\": [0.2772153913974762, 0.19683149456977844, 0.18445807695388794], \"source_val_acc_label\": [0.935479525862069, 0.9526535560344828, 0.9586476293103449], \"target_val_acc_label\": [0.9586925287356322, 0.9744971264367817, 0.9741379310344828]}, \"dataset_metrics\": {\"source\": {\"train\": {\"n_unique_x\": 142677, \"n_unique_y\": 130, \"n_batch/episode\": 926}, \"val\": {\"n_unique_x\": 25930, \"n_unique_y\": 130, \"n_batch/episode\": 128}, \"test\": {\"n_unique_x\": 27403, \"n_unique_y\": 130, \"n_batch/episode\": 136}}, \"target\": {\"train\": {\"n_unique_x\": 75861, \"n_unique_y\": 58, \"n_batch/episode\": 351}, \"val\": {\"n_unique_x\": 11821, \"n_unique_y\": 58, \"n_batch/episode\": 48}, \"test\": {\"n_unique_x\": 12320, \"n_unique_y\": 58, \"n_batch/episode\": 50}}}}'"
      ]
     },
     "execution_count": 29,
     "metadata": {},
     "output_type": "execute_result"
    }
   ],
   "source": [
    "json.dumps(experiment)"
   ]
  }
 ],
 "metadata": {
  "celltoolbar": "Tags",
  "kernelspec": {
   "display_name": "Python 3 (ipykernel)",
   "language": "python",
   "name": "python3"
  },
  "language_info": {
   "codemirror_mode": {
    "name": "ipython",
    "version": 3
   },
   "file_extension": ".py",
   "mimetype": "text/x-python",
   "name": "python",
   "nbconvert_exporter": "python",
   "pygments_lexer": "ipython3",
   "version": "3.8.12"
  },
  "papermill": {
   "default_parameters": {},
   "duration": 355.64677,
   "end_time": "2022-03-21T03:01:10.445855",
   "environment_variables": {},
   "exception": null,
   "input_path": "/root/csc500-main/csc500-notebooks/templates/tl_ptn_template.ipynb",
   "output_path": "trial.ipynb",
   "parameters": {
    "parameters": {
     "BEST_MODEL_PATH": "./best_model.pth",
     "NUM_LOGS_PER_EPOCH": 10,
     "criteria_for_best": "target_accuracy",
     "dataset_seed": 420,
     "datasets": [
      {
       "domain_prefix": "CORES_",
       "domains": [
        1,
        2,
        3,
        4,
        5
       ],
       "episode_transforms": [],
       "labels": [
        "1-10.",
        "1-11.",
        "1-15.",
        "1-16.",
        "1-17.",
        "1-18.",
        "1-19.",
        "10-4.",
        "10-7.",
        "11-1.",
        "11-14.",
        "11-17.",
        "11-20.",
        "11-7.",
        "13-20.",
        "13-8.",
        "14-10.",
        "14-11.",
        "14-14.",
        "14-7.",
        "15-1.",
        "15-20.",
        "16-1.",
        "16-16.",
        "17-10.",
        "17-11.",
        "17-2.",
        "19-1.",
        "19-16.",
        "19-19.",
        "19-20.",
        "19-3.",
        "2-10.",
        "2-11.",
        "2-17.",
        "2-18.",
        "2-20.",
        "2-3.",
        "2-4.",
        "2-5.",
        "2-6.",
        "2-7.",
        "2-8.",
        "3-13.",
        "3-18.",
        "3-3.",
        "4-1.",
        "4-10.",
        "4-11.",
        "4-19.",
        "5-5.",
        "6-15.",
        "7-10.",
        "7-14.",
        "8-18.",
        "8-20.",
        "8-3.",
        "8-8."
       ],
       "num_examples_per_domain_per_label": -1,
       "pickle_path": "/root/csc500-main/datasets/cores.stratified_ds.2022A.pkl",
       "source_or_target_dataset": "target",
       "x_transforms": []
      },
      {
       "domain_prefix": "Wisig_",
       "domains": [
        1,
        2,
        3,
        4
       ],
       "episode_transforms": [],
       "labels": [
        "1-10",
        "1-12",
        "1-14",
        "1-16",
        "1-18",
        "1-19",
        "1-8",
        "10-11",
        "10-17",
        "10-4",
        "10-7",
        "11-1",
        "11-10",
        "11-19",
        "11-20",
        "11-4",
        "11-7",
        "12-19",
        "12-20",
        "12-7",
        "13-14",
        "13-18",
        "13-19",
        "13-20",
        "13-3",
        "13-7",
        "14-10",
        "14-11",
        "14-12",
        "14-13",
        "14-14",
        "14-19",
        "14-20",
        "14-7",
        "14-8",
        "14-9",
        "15-1",
        "15-19",
        "15-6",
        "16-1",
        "16-16",
        "16-19",
        "16-20",
        "17-10",
        "17-11",
        "18-1",
        "18-10",
        "18-11",
        "18-12",
        "18-13",
        "18-14",
        "18-15",
        "18-16",
        "18-17",
        "18-19",
        "18-2",
        "18-20",
        "18-4",
        "18-5",
        "18-7",
        "18-8",
        "18-9",
        "19-1",
        "19-10",
        "19-11",
        "19-12",
        "19-13",
        "19-14",
        "19-15",
        "19-19",
        "19-2",
        "19-20",
        "19-3",
        "19-4",
        "19-6",
        "19-7",
        "19-8",
        "19-9",
        "2-1",
        "2-13",
        "2-15",
        "2-3",
        "2-4",
        "2-5",
        "2-6",
        "2-7",
        "2-8",
        "20-1",
        "20-12",
        "20-14",
        "20-15",
        "20-16",
        "20-18",
        "20-19",
        "20-20",
        "20-3",
        "20-4",
        "20-5",
        "20-7",
        "20-8",
        "3-1",
        "3-13",
        "3-18",
        "3-2",
        "3-8",
        "4-1",
        "4-10",
        "4-11",
        "5-1",
        "5-5",
        "6-1",
        "6-15",
        "6-6",
        "7-10",
        "7-11",
        "7-12",
        "7-13",
        "7-14",
        "7-7",
        "7-8",
        "7-9",
        "8-1",
        "8-13",
        "8-14",
        "8-18",
        "8-20",
        "8-3",
        "8-8",
        "9-1",
        "9-7"
       ],
       "num_examples_per_domain_per_label": -1,
       "pickle_path": "/root/csc500-main/datasets/wisig.node3-19.stratified_ds.2022A.pkl",
       "source_or_target_dataset": "source",
       "x_transforms": []
      }
     ],
     "device": "cuda",
     "experiment_name": "tl_1v2:cores-wisig",
     "lr": 0.0001,
     "n_epoch": 3,
     "n_query": 2,
     "n_shot": 3,
     "n_way": 58,
     "patience": 3,
     "seed": 420,
     "test_k_factor": 2,
     "torch_default_dtype": "torch.float32",
     "train_k_factor": 3,
     "val_k_factor": 2,
     "x_net": [
      {
       "class": "nnReshape",
       "kargs": {
        "shape": [
         -1,
         1,
         2,
         256
        ]
       }
      },
      {
       "class": "Conv2d",
       "kargs": {
        "bias": false,
        "in_channels": 1,
        "kernel_size": [
         1,
         7
        ],
        "out_channels": 256,
        "padding": [
         0,
         3
        ]
       }
      },
      {
       "class": "ReLU",
       "kargs": {
        "inplace": true
       }
      },
      {
       "class": "BatchNorm2d",
       "kargs": {
        "num_features": 256
       }
      },
      {
       "class": "Conv2d",
       "kargs": {
        "bias": true,
        "in_channels": 256,
        "kernel_size": [
         2,
         7
        ],
        "out_channels": 80,
        "padding": [
         0,
         3
        ]
       }
      },
      {
       "class": "ReLU",
       "kargs": {
        "inplace": true
       }
      },
      {
       "class": "BatchNorm2d",
       "kargs": {
        "num_features": 80
       }
      },
      {
       "class": "Flatten",
       "kargs": {}
      },
      {
       "class": "Linear",
       "kargs": {
        "in_features": 20480,
        "out_features": 256
       }
      },
      {
       "class": "ReLU",
       "kargs": {
        "inplace": true
       }
      },
      {
       "class": "BatchNorm1d",
       "kargs": {
        "num_features": 256
       }
      },
      {
       "class": "Linear",
       "kargs": {
        "in_features": 256,
        "out_features": 256
       }
      }
     ]
    }
   },
   "start_time": "2022-03-21T02:55:14.799085",
   "version": "2.3.4"
  }
 },
 "nbformat": 4,
 "nbformat_minor": 5
}