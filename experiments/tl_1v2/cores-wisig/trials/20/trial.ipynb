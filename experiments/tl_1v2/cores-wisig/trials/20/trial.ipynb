{
 "cells": [
  {
   "cell_type": "markdown",
   "id": "9fea5f46",
   "metadata": {
    "papermill": {
     "duration": 0.074689,
     "end_time": "2022-03-21T03:37:13.876030",
     "exception": false,
     "start_time": "2022-03-21T03:37:13.801341",
     "status": "completed"
    },
    "tags": []
   },
   "source": [
    "# Transfer Learning Template"
   ]
  },
  {
   "cell_type": "code",
   "execution_count": 1,
   "id": "0902182a",
   "metadata": {
    "execution": {
     "iopub.execute_input": "2022-03-21T03:37:13.940511Z",
     "iopub.status.busy": "2022-03-21T03:37:13.927803Z",
     "iopub.status.idle": "2022-03-21T03:37:15.832176Z",
     "shell.execute_reply": "2022-03-21T03:37:15.831740Z"
    },
    "papermill": {
     "duration": 1.93224,
     "end_time": "2022-03-21T03:37:15.832280",
     "exception": false,
     "start_time": "2022-03-21T03:37:13.900040",
     "status": "completed"
    },
    "tags": []
   },
   "outputs": [],
   "source": [
    "%load_ext autoreload\n",
    "%autoreload 2\n",
    "%matplotlib inline\n",
    "\n",
    "    \n",
    "import os, json, sys, time, random\n",
    "import numpy as np\n",
    "import torch\n",
    "from torch.optim import Adam\n",
    "from  easydict import EasyDict\n",
    "import matplotlib.pyplot as plt\n",
    "\n",
    "from steves_models.steves_ptn import Steves_Prototypical_Network\n",
    "\n",
    "from steves_utils.lazy_iterable_wrapper import Lazy_Iterable_Wrapper\n",
    "from steves_utils.iterable_aggregator import Iterable_Aggregator\n",
    "from steves_utils.ptn_train_eval_test_jig import  PTN_Train_Eval_Test_Jig\n",
    "from steves_utils.torch_sequential_builder import build_sequential\n",
    "from steves_utils.torch_utils import get_dataset_metrics, ptn_confusion_by_domain_over_dataloader\n",
    "from steves_utils.utils_v2 import (per_domain_accuracy_from_confusion, get_datasets_base_path)\n",
    "from steves_utils.PTN.utils import independent_accuracy_assesment\n",
    "\n",
    "from torch.utils.data import DataLoader\n",
    "\n",
    "from steves_utils.stratified_dataset.episodic_accessor import Episodic_Accessor_Factory\n",
    "\n",
    "from steves_utils.ptn_do_report import (\n",
    "    get_loss_curve,\n",
    "    get_results_table,\n",
    "    get_parameters_table,\n",
    "    get_domain_accuracies,\n",
    ")\n",
    "\n",
    "from steves_utils.transforms import get_chained_transform"
   ]
  },
  {
   "cell_type": "markdown",
   "id": "41c840b4",
   "metadata": {
    "papermill": {
     "duration": 0.019796,
     "end_time": "2022-03-21T03:37:15.872551",
     "exception": false,
     "start_time": "2022-03-21T03:37:15.852755",
     "status": "completed"
    },
    "tags": []
   },
   "source": [
    "# Allowed Parameters\n",
    "These are allowed parameters, not defaults\n",
    "Each of these values need to be present in the injected parameters (the notebook will raise an exception if they are not present)\n",
    "\n",
    "Papermill uses the cell tag \"parameters\" to inject the real parameters below this cell.\n",
    "Enable tags to see what I mean"
   ]
  },
  {
   "cell_type": "code",
   "execution_count": 2,
   "id": "fd44eb83",
   "metadata": {
    "execution": {
     "iopub.execute_input": "2022-03-21T03:37:15.918760Z",
     "iopub.status.busy": "2022-03-21T03:37:15.917908Z",
     "iopub.status.idle": "2022-03-21T03:37:15.939145Z",
     "shell.execute_reply": "2022-03-21T03:37:15.938777Z"
    },
    "papermill": {
     "duration": 0.046965,
     "end_time": "2022-03-21T03:37:15.939216",
     "exception": false,
     "start_time": "2022-03-21T03:37:15.892251",
     "status": "completed"
    },
    "tags": []
   },
   "outputs": [],
   "source": [
    "required_parameters = {\n",
    "    \"experiment_name\",\n",
    "    \"lr\",\n",
    "    \"device\",\n",
    "    \"seed\",\n",
    "    \"dataset_seed\",\n",
    "    \"n_shot\",\n",
    "    \"n_query\",\n",
    "    \"n_way\",\n",
    "    \"train_k_factor\",\n",
    "    \"val_k_factor\",\n",
    "    \"test_k_factor\",\n",
    "    \"n_epoch\",\n",
    "    \"patience\",\n",
    "    \"criteria_for_best\",\n",
    "    \"x_net\",\n",
    "    \"datasets\",\n",
    "    \"torch_default_dtype\",\n",
    "    \"NUM_LOGS_PER_EPOCH\",\n",
    "    \"BEST_MODEL_PATH\",\n",
    "    \"x_shape\",\n",
    "}"
   ]
  },
  {
   "cell_type": "code",
   "execution_count": 3,
   "id": "fa3f0049",
   "metadata": {
    "execution": {
     "iopub.execute_input": "2022-03-21T03:37:15.992593Z",
     "iopub.status.busy": "2022-03-21T03:37:15.992177Z",
     "iopub.status.idle": "2022-03-21T03:37:16.010898Z",
     "shell.execute_reply": "2022-03-21T03:37:16.010531Z"
    },
    "papermill": {
     "duration": 0.051869,
     "end_time": "2022-03-21T03:37:16.010969",
     "exception": false,
     "start_time": "2022-03-21T03:37:15.959100",
     "status": "completed"
    },
    "tags": [
     "parameters"
    ]
   },
   "outputs": [],
   "source": [
    "from steves_utils.CORES.utils import (\n",
    "    ALL_NODES,\n",
    "    ALL_NODES_MINIMUM_1000_EXAMPLES,\n",
    "    ALL_DAYS\n",
    ")\n",
    "\n",
    "from steves_utils.ORACLE.utils_v2 import (\n",
    "    ALL_DISTANCES_FEET_NARROWED,\n",
    "    ALL_RUNS,\n",
    "    ALL_SERIAL_NUMBERS,\n",
    ")\n",
    "\n",
    "standalone_parameters = {}\n",
    "standalone_parameters[\"experiment_name\"] = \"STANDALONE PTN\"\n",
    "standalone_parameters[\"lr\"] = 0.001\n",
    "standalone_parameters[\"device\"] = \"cuda\"\n",
    "\n",
    "standalone_parameters[\"seed\"] = 1337\n",
    "standalone_parameters[\"dataset_seed\"] = 1337\n",
    "\n",
    "standalone_parameters[\"n_way\"] = 8\n",
    "standalone_parameters[\"n_shot\"] = 3\n",
    "standalone_parameters[\"n_query\"]  = 2\n",
    "standalone_parameters[\"train_k_factor\"] = 1\n",
    "standalone_parameters[\"val_k_factor\"] = 2\n",
    "standalone_parameters[\"test_k_factor\"] = 2\n",
    "\n",
    "\n",
    "standalone_parameters[\"n_epoch\"] = 50\n",
    "\n",
    "standalone_parameters[\"patience\"] = 10\n",
    "standalone_parameters[\"criteria_for_best\"] = \"source_loss\"\n",
    "\n",
    "standalone_parameters[\"datasets\"] = [\n",
    "    {\n",
    "        \"labels\": ALL_SERIAL_NUMBERS,\n",
    "        \"domains\": ALL_DISTANCES_FEET_NARROWED,\n",
    "        \"num_examples_per_domain_per_label\": 100,\n",
    "        \"pickle_path\": os.path.join(get_datasets_base_path(), \"oracle.Run1_framed_2000Examples_stratified_ds.2022A.pkl\"),\n",
    "        \"source_or_target_dataset\": \"source\",\n",
    "        \"x_transforms\": [\"unit_mag\", \"minus_two\"],\n",
    "        \"episode_transforms\": [],\n",
    "        \"domain_prefix\": \"ORACLE_\"\n",
    "    },\n",
    "    {\n",
    "        \"labels\": ALL_NODES,\n",
    "        \"domains\": ALL_DAYS,\n",
    "        \"num_examples_per_domain_per_label\": 100,\n",
    "        \"pickle_path\": os.path.join(get_datasets_base_path(), \"cores.stratified_ds.2022A.pkl\"),\n",
    "        \"source_or_target_dataset\": \"target\",\n",
    "        \"x_transforms\": [\"unit_power\", \"times_zero\"],\n",
    "        \"episode_transforms\": [],\n",
    "        \"domain_prefix\": \"CORES_\"\n",
    "    }   \n",
    "]\n",
    "\n",
    "standalone_parameters[\"torch_default_dtype\"] = \"torch.float32\" \n",
    "\n",
    "\n",
    "\n",
    "standalone_parameters[\"x_net\"] =     [\n",
    "    {\"class\": \"nnReshape\", \"kargs\": {\"shape\":[-1, 1, 2, 256]}},\n",
    "    {\"class\": \"Conv2d\", \"kargs\": { \"in_channels\":1, \"out_channels\":256, \"kernel_size\":(1,7), \"bias\":False, \"padding\":(0,3), },},\n",
    "    {\"class\": \"ReLU\", \"kargs\": {\"inplace\": True}},\n",
    "    {\"class\": \"BatchNorm2d\", \"kargs\": {\"num_features\":256}},\n",
    "\n",
    "    {\"class\": \"Conv2d\", \"kargs\": { \"in_channels\":256, \"out_channels\":80, \"kernel_size\":(2,7), \"bias\":True, \"padding\":(0,3), },},\n",
    "    {\"class\": \"ReLU\", \"kargs\": {\"inplace\": True}},\n",
    "    {\"class\": \"BatchNorm2d\", \"kargs\": {\"num_features\":80}},\n",
    "    {\"class\": \"Flatten\", \"kargs\": {}},\n",
    "\n",
    "    {\"class\": \"Linear\", \"kargs\": {\"in_features\": 80*256, \"out_features\": 256}}, # 80 units per IQ pair\n",
    "    {\"class\": \"ReLU\", \"kargs\": {\"inplace\": True}},\n",
    "    {\"class\": \"BatchNorm1d\", \"kargs\": {\"num_features\":256}},\n",
    "\n",
    "    {\"class\": \"Linear\", \"kargs\": {\"in_features\": 256, \"out_features\": 256}},\n",
    "]\n",
    "\n",
    "# Parameters relevant to results\n",
    "# These parameters will basically never need to change\n",
    "standalone_parameters[\"NUM_LOGS_PER_EPOCH\"] = 10\n",
    "standalone_parameters[\"BEST_MODEL_PATH\"] = \"./best_model.pth\"\n",
    "\n",
    "\n",
    "\n",
    "\n"
   ]
  },
  {
   "cell_type": "code",
   "execution_count": 4,
   "id": "b09a3778",
   "metadata": {
    "execution": {
     "iopub.execute_input": "2022-03-21T03:37:16.067871Z",
     "iopub.status.busy": "2022-03-21T03:37:16.064568Z",
     "iopub.status.idle": "2022-03-21T03:37:16.086762Z",
     "shell.execute_reply": "2022-03-21T03:37:16.086397Z"
    },
    "papermill": {
     "duration": 0.055731,
     "end_time": "2022-03-21T03:37:16.086831",
     "exception": false,
     "start_time": "2022-03-21T03:37:16.031100",
     "status": "completed"
    },
    "tags": [
     "injected-parameters"
    ]
   },
   "outputs": [],
   "source": [
    "# Parameters\n",
    "parameters = {\n",
    "    \"experiment_name\": \"tl_1v2:cores-wisig\",\n",
    "    \"device\": \"cuda\",\n",
    "    \"lr\": 0.0001,\n",
    "    \"n_shot\": 3,\n",
    "    \"n_query\": 2,\n",
    "    \"train_k_factor\": 3,\n",
    "    \"val_k_factor\": 2,\n",
    "    \"test_k_factor\": 2,\n",
    "    \"torch_default_dtype\": \"torch.float32\",\n",
    "    \"n_epoch\": 3,\n",
    "    \"patience\": 3,\n",
    "    \"criteria_for_best\": \"target_accuracy\",\n",
    "    \"x_net\": [\n",
    "        {\"class\": \"nnReshape\", \"kargs\": {\"shape\": [-1, 1, 2, 256]}},\n",
    "        {\n",
    "            \"class\": \"Conv2d\",\n",
    "            \"kargs\": {\n",
    "                \"in_channels\": 1,\n",
    "                \"out_channels\": 256,\n",
    "                \"kernel_size\": [1, 7],\n",
    "                \"bias\": False,\n",
    "                \"padding\": [0, 3],\n",
    "            },\n",
    "        },\n",
    "        {\"class\": \"ReLU\", \"kargs\": {\"inplace\": True}},\n",
    "        {\"class\": \"BatchNorm2d\", \"kargs\": {\"num_features\": 256}},\n",
    "        {\n",
    "            \"class\": \"Conv2d\",\n",
    "            \"kargs\": {\n",
    "                \"in_channels\": 256,\n",
    "                \"out_channels\": 80,\n",
    "                \"kernel_size\": [2, 7],\n",
    "                \"bias\": True,\n",
    "                \"padding\": [0, 3],\n",
    "            },\n",
    "        },\n",
    "        {\"class\": \"ReLU\", \"kargs\": {\"inplace\": True}},\n",
    "        {\"class\": \"BatchNorm2d\", \"kargs\": {\"num_features\": 80}},\n",
    "        {\"class\": \"Flatten\", \"kargs\": {}},\n",
    "        {\"class\": \"Linear\", \"kargs\": {\"in_features\": 20480, \"out_features\": 256}},\n",
    "        {\"class\": \"ReLU\", \"kargs\": {\"inplace\": True}},\n",
    "        {\"class\": \"BatchNorm1d\", \"kargs\": {\"num_features\": 256}},\n",
    "        {\"class\": \"Linear\", \"kargs\": {\"in_features\": 256, \"out_features\": 256}},\n",
    "    ],\n",
    "    \"NUM_LOGS_PER_EPOCH\": 10,\n",
    "    \"BEST_MODEL_PATH\": \"./best_model.pth\",\n",
    "    \"n_way\": 58,\n",
    "    \"datasets\": [\n",
    "        {\n",
    "            \"labels\": [\n",
    "                \"1-10.\",\n",
    "                \"1-11.\",\n",
    "                \"1-15.\",\n",
    "                \"1-16.\",\n",
    "                \"1-17.\",\n",
    "                \"1-18.\",\n",
    "                \"1-19.\",\n",
    "                \"10-4.\",\n",
    "                \"10-7.\",\n",
    "                \"11-1.\",\n",
    "                \"11-14.\",\n",
    "                \"11-17.\",\n",
    "                \"11-20.\",\n",
    "                \"11-7.\",\n",
    "                \"13-20.\",\n",
    "                \"13-8.\",\n",
    "                \"14-10.\",\n",
    "                \"14-11.\",\n",
    "                \"14-14.\",\n",
    "                \"14-7.\",\n",
    "                \"15-1.\",\n",
    "                \"15-20.\",\n",
    "                \"16-1.\",\n",
    "                \"16-16.\",\n",
    "                \"17-10.\",\n",
    "                \"17-11.\",\n",
    "                \"17-2.\",\n",
    "                \"19-1.\",\n",
    "                \"19-16.\",\n",
    "                \"19-19.\",\n",
    "                \"19-20.\",\n",
    "                \"19-3.\",\n",
    "                \"2-10.\",\n",
    "                \"2-11.\",\n",
    "                \"2-17.\",\n",
    "                \"2-18.\",\n",
    "                \"2-20.\",\n",
    "                \"2-3.\",\n",
    "                \"2-4.\",\n",
    "                \"2-5.\",\n",
    "                \"2-6.\",\n",
    "                \"2-7.\",\n",
    "                \"2-8.\",\n",
    "                \"3-13.\",\n",
    "                \"3-18.\",\n",
    "                \"3-3.\",\n",
    "                \"4-1.\",\n",
    "                \"4-10.\",\n",
    "                \"4-11.\",\n",
    "                \"4-19.\",\n",
    "                \"5-5.\",\n",
    "                \"6-15.\",\n",
    "                \"7-10.\",\n",
    "                \"7-14.\",\n",
    "                \"8-18.\",\n",
    "                \"8-20.\",\n",
    "                \"8-3.\",\n",
    "                \"8-8.\",\n",
    "            ],\n",
    "            \"domains\": [1, 2, 3, 4, 5],\n",
    "            \"num_examples_per_domain_per_label\": -1,\n",
    "            \"pickle_path\": \"/root/csc500-main/datasets/cores.stratified_ds.2022A.pkl\",\n",
    "            \"source_or_target_dataset\": \"source\",\n",
    "            \"x_transforms\": [],\n",
    "            \"episode_transforms\": [],\n",
    "            \"domain_prefix\": \"CORES_\",\n",
    "        },\n",
    "        {\n",
    "            \"labels\": [\n",
    "                \"1-10\",\n",
    "                \"1-12\",\n",
    "                \"1-14\",\n",
    "                \"1-16\",\n",
    "                \"1-18\",\n",
    "                \"1-19\",\n",
    "                \"1-8\",\n",
    "                \"10-11\",\n",
    "                \"10-17\",\n",
    "                \"10-4\",\n",
    "                \"10-7\",\n",
    "                \"11-1\",\n",
    "                \"11-10\",\n",
    "                \"11-19\",\n",
    "                \"11-20\",\n",
    "                \"11-4\",\n",
    "                \"11-7\",\n",
    "                \"12-19\",\n",
    "                \"12-20\",\n",
    "                \"12-7\",\n",
    "                \"13-14\",\n",
    "                \"13-18\",\n",
    "                \"13-19\",\n",
    "                \"13-20\",\n",
    "                \"13-3\",\n",
    "                \"13-7\",\n",
    "                \"14-10\",\n",
    "                \"14-11\",\n",
    "                \"14-12\",\n",
    "                \"14-13\",\n",
    "                \"14-14\",\n",
    "                \"14-19\",\n",
    "                \"14-20\",\n",
    "                \"14-7\",\n",
    "                \"14-8\",\n",
    "                \"14-9\",\n",
    "                \"15-1\",\n",
    "                \"15-19\",\n",
    "                \"15-6\",\n",
    "                \"16-1\",\n",
    "                \"16-16\",\n",
    "                \"16-19\",\n",
    "                \"16-20\",\n",
    "                \"17-10\",\n",
    "                \"17-11\",\n",
    "                \"18-1\",\n",
    "                \"18-10\",\n",
    "                \"18-11\",\n",
    "                \"18-12\",\n",
    "                \"18-13\",\n",
    "                \"18-14\",\n",
    "                \"18-15\",\n",
    "                \"18-16\",\n",
    "                \"18-17\",\n",
    "                \"18-19\",\n",
    "                \"18-2\",\n",
    "                \"18-20\",\n",
    "                \"18-4\",\n",
    "                \"18-5\",\n",
    "                \"18-7\",\n",
    "                \"18-8\",\n",
    "                \"18-9\",\n",
    "                \"19-1\",\n",
    "                \"19-10\",\n",
    "                \"19-11\",\n",
    "                \"19-12\",\n",
    "                \"19-13\",\n",
    "                \"19-14\",\n",
    "                \"19-15\",\n",
    "                \"19-19\",\n",
    "                \"19-2\",\n",
    "                \"19-20\",\n",
    "                \"19-3\",\n",
    "                \"19-4\",\n",
    "                \"19-6\",\n",
    "                \"19-7\",\n",
    "                \"19-8\",\n",
    "                \"19-9\",\n",
    "                \"2-1\",\n",
    "                \"2-13\",\n",
    "                \"2-15\",\n",
    "                \"2-3\",\n",
    "                \"2-4\",\n",
    "                \"2-5\",\n",
    "                \"2-6\",\n",
    "                \"2-7\",\n",
    "                \"2-8\",\n",
    "                \"20-1\",\n",
    "                \"20-12\",\n",
    "                \"20-14\",\n",
    "                \"20-15\",\n",
    "                \"20-16\",\n",
    "                \"20-18\",\n",
    "                \"20-19\",\n",
    "                \"20-20\",\n",
    "                \"20-3\",\n",
    "                \"20-4\",\n",
    "                \"20-5\",\n",
    "                \"20-7\",\n",
    "                \"20-8\",\n",
    "                \"3-1\",\n",
    "                \"3-13\",\n",
    "                \"3-18\",\n",
    "                \"3-2\",\n",
    "                \"3-8\",\n",
    "                \"4-1\",\n",
    "                \"4-10\",\n",
    "                \"4-11\",\n",
    "                \"5-1\",\n",
    "                \"5-5\",\n",
    "                \"6-1\",\n",
    "                \"6-15\",\n",
    "                \"6-6\",\n",
    "                \"7-10\",\n",
    "                \"7-11\",\n",
    "                \"7-12\",\n",
    "                \"7-13\",\n",
    "                \"7-14\",\n",
    "                \"7-7\",\n",
    "                \"7-8\",\n",
    "                \"7-9\",\n",
    "                \"8-1\",\n",
    "                \"8-13\",\n",
    "                \"8-14\",\n",
    "                \"8-18\",\n",
    "                \"8-20\",\n",
    "                \"8-3\",\n",
    "                \"8-8\",\n",
    "                \"9-1\",\n",
    "                \"9-7\",\n",
    "            ],\n",
    "            \"domains\": [1, 2, 3, 4],\n",
    "            \"num_examples_per_domain_per_label\": -1,\n",
    "            \"pickle_path\": \"/root/csc500-main/datasets/wisig.node3-19.stratified_ds.2022A.pkl\",\n",
    "            \"source_or_target_dataset\": \"target\",\n",
    "            \"x_transforms\": [],\n",
    "            \"episode_transforms\": [],\n",
    "            \"domain_prefix\": \"Wisig_\",\n",
    "        },\n",
    "    ],\n",
    "    \"dataset_seed\": 7,\n",
    "    \"seed\": 7,\n",
    "}\n"
   ]
  },
  {
   "cell_type": "code",
   "execution_count": 5,
   "id": "8fa1cc33",
   "metadata": {
    "execution": {
     "iopub.execute_input": "2022-03-21T03:37:16.136091Z",
     "iopub.status.busy": "2022-03-21T03:37:16.135013Z",
     "iopub.status.idle": "2022-03-21T03:37:16.154969Z",
     "shell.execute_reply": "2022-03-21T03:37:16.154605Z"
    },
    "papermill": {
     "duration": 0.047925,
     "end_time": "2022-03-21T03:37:16.155039",
     "exception": false,
     "start_time": "2022-03-21T03:37:16.107114",
     "status": "completed"
    },
    "tags": []
   },
   "outputs": [],
   "source": [
    "# Set this to True if you want to run this template directly\n",
    "STANDALONE = False\n",
    "if STANDALONE:\n",
    "    print(\"parameters not injected, running with standalone_parameters\")\n",
    "    parameters = standalone_parameters\n",
    "\n",
    "if not 'parameters' in locals() and not 'parameters' in globals():\n",
    "    raise Exception(\"Parameter injection failed\")\n",
    "\n",
    "#Use an easy dict for all the parameters\n",
    "p = EasyDict(parameters)\n",
    "\n",
    "if \"x_shape\" not in p:\n",
    "    p.x_shape = [2,256] # Default to this if we dont supply x_shape\n",
    "\n",
    "\n",
    "supplied_keys = set(p.keys())\n",
    "\n",
    "if  supplied_keys != required_parameters:\n",
    "    print(\"Parameters are incorrect\")\n",
    "    if len(supplied_keys - required_parameters)>0: print(\"Shouldn't have:\", str(supplied_keys - required_parameters))\n",
    "    if len(required_parameters - supplied_keys)>0: print(\"Need to have:\", str(required_parameters - supplied_keys))\n",
    "    raise RuntimeError(\"Parameters are incorrect\")"
   ]
  },
  {
   "cell_type": "code",
   "execution_count": 6,
   "id": "3a028d58",
   "metadata": {
    "execution": {
     "iopub.execute_input": "2022-03-21T03:37:16.201592Z",
     "iopub.status.busy": "2022-03-21T03:37:16.200244Z",
     "iopub.status.idle": "2022-03-21T03:37:16.222334Z",
     "shell.execute_reply": "2022-03-21T03:37:16.221516Z"
    },
    "papermill": {
     "duration": 0.047087,
     "end_time": "2022-03-21T03:37:16.222489",
     "exception": false,
     "start_time": "2022-03-21T03:37:16.175402",
     "status": "completed"
    },
    "tags": []
   },
   "outputs": [],
   "source": [
    "###################################\n",
    "# Set the RNGs and make it all deterministic\n",
    "###################################\n",
    "np.random.seed(p.seed)\n",
    "random.seed(p.seed)\n",
    "torch.manual_seed(p.seed)\n",
    "\n",
    "torch.use_deterministic_algorithms(True) "
   ]
  },
  {
   "cell_type": "code",
   "execution_count": 7,
   "id": "b691acf6",
   "metadata": {
    "execution": {
     "iopub.execute_input": "2022-03-21T03:37:16.273759Z",
     "iopub.status.busy": "2022-03-21T03:37:16.273199Z",
     "iopub.status.idle": "2022-03-21T03:37:16.294045Z",
     "shell.execute_reply": "2022-03-21T03:37:16.293234Z"
    },
    "papermill": {
     "duration": 0.045567,
     "end_time": "2022-03-21T03:37:16.294201",
     "exception": false,
     "start_time": "2022-03-21T03:37:16.248634",
     "status": "completed"
    },
    "tags": []
   },
   "outputs": [],
   "source": [
    "###########################################\n",
    "# The stratified datasets honor this\n",
    "###########################################\n",
    "torch.set_default_dtype(eval(p.torch_default_dtype))"
   ]
  },
  {
   "cell_type": "code",
   "execution_count": 8,
   "id": "b5fba671",
   "metadata": {
    "execution": {
     "iopub.execute_input": "2022-03-21T03:37:16.345047Z",
     "iopub.status.busy": "2022-03-21T03:37:16.344479Z",
     "iopub.status.idle": "2022-03-21T03:37:16.399617Z",
     "shell.execute_reply": "2022-03-21T03:37:16.398888Z"
    },
    "papermill": {
     "duration": 0.079428,
     "end_time": "2022-03-21T03:37:16.399774",
     "exception": false,
     "start_time": "2022-03-21T03:37:16.320346",
     "status": "completed"
    },
    "tags": []
   },
   "outputs": [],
   "source": [
    "###################################\n",
    "# Build the network(s)\n",
    "# Note: It's critical to do this AFTER setting the RNG\n",
    "###################################\n",
    "x_net = build_sequential(p.x_net)"
   ]
  },
  {
   "cell_type": "code",
   "execution_count": 9,
   "id": "5d7e61cc",
   "metadata": {
    "execution": {
     "iopub.execute_input": "2022-03-21T03:37:16.455149Z",
     "iopub.status.busy": "2022-03-21T03:37:16.453487Z",
     "iopub.status.idle": "2022-03-21T03:37:16.476379Z",
     "shell.execute_reply": "2022-03-21T03:37:16.475663Z"
    },
    "papermill": {
     "duration": 0.047104,
     "end_time": "2022-03-21T03:37:16.476535",
     "exception": false,
     "start_time": "2022-03-21T03:37:16.429431",
     "status": "completed"
    },
    "tags": []
   },
   "outputs": [],
   "source": [
    "start_time_secs = time.time()"
   ]
  },
  {
   "cell_type": "code",
   "execution_count": 10,
   "id": "c6b67dfd",
   "metadata": {
    "execution": {
     "iopub.execute_input": "2022-03-21T03:37:16.527194Z",
     "iopub.status.busy": "2022-03-21T03:37:16.526262Z",
     "iopub.status.idle": "2022-03-21T03:37:16.548024Z",
     "shell.execute_reply": "2022-03-21T03:37:16.547195Z"
    },
    "papermill": {
     "duration": 0.04661,
     "end_time": "2022-03-21T03:37:16.548177",
     "exception": false,
     "start_time": "2022-03-21T03:37:16.501567",
     "status": "completed"
    },
    "tags": []
   },
   "outputs": [],
   "source": [
    "p.domains_source = []\n",
    "p.domains_target = []\n",
    "\n",
    "\n",
    "train_original_source = []\n",
    "val_original_source   = []\n",
    "test_original_source  = []\n",
    "\n",
    "train_original_target = []\n",
    "val_original_target   = []\n",
    "test_original_target  = []"
   ]
  },
  {
   "cell_type": "code",
   "execution_count": 11,
   "id": "e3d9c3d3",
   "metadata": {
    "execution": {
     "iopub.execute_input": "2022-03-21T03:37:16.603226Z",
     "iopub.status.busy": "2022-03-21T03:37:16.602089Z",
     "iopub.status.idle": "2022-03-21T03:37:16.622952Z",
     "shell.execute_reply": "2022-03-21T03:37:16.622114Z"
    },
    "papermill": {
     "duration": 0.045181,
     "end_time": "2022-03-21T03:37:16.623108",
     "exception": false,
     "start_time": "2022-03-21T03:37:16.577927",
     "status": "completed"
    },
    "tags": []
   },
   "outputs": [],
   "source": [
    "# global_x_transform_func = lambda x: normalize(x.to(torch.get_default_dtype()), \"unit_power\") # unit_power, unit_mag\n",
    "# global_x_transform_func = lambda x: normalize(x, \"unit_power\") # unit_power, unit_mag"
   ]
  },
  {
   "cell_type": "code",
   "execution_count": 12,
   "id": "acb78fd2",
   "metadata": {
    "execution": {
     "iopub.execute_input": "2022-03-21T03:37:16.686166Z",
     "iopub.status.busy": "2022-03-21T03:37:16.685103Z",
     "iopub.status.idle": "2022-03-21T03:37:16.703351Z",
     "shell.execute_reply": "2022-03-21T03:37:16.702540Z"
    },
    "papermill": {
     "duration": 0.052125,
     "end_time": "2022-03-21T03:37:16.703505",
     "exception": false,
     "start_time": "2022-03-21T03:37:16.651380",
     "status": "completed"
    },
    "tags": []
   },
   "outputs": [],
   "source": [
    "def add_dataset(\n",
    "    labels,\n",
    "    domains,\n",
    "    pickle_path,\n",
    "    x_transforms,\n",
    "    episode_transforms,\n",
    "    domain_prefix,\n",
    "    num_examples_per_domain_per_label,\n",
    "    source_or_target_dataset:str,\n",
    "    iterator_seed=p.seed,\n",
    "    dataset_seed=p.dataset_seed,\n",
    "    n_shot=p.n_shot,\n",
    "    n_way=p.n_way,\n",
    "    n_query=p.n_query,\n",
    "    train_val_test_k_factors=(p.train_k_factor,p.val_k_factor,p.test_k_factor),\n",
    "):\n",
    "   \n",
    "    if x_transforms == []: x_transform = None\n",
    "    else: x_transform = get_chained_transform(x_transforms)\n",
    "    \n",
    "    if episode_transforms == []: episode_transform = None\n",
    "    else: raise Exception(\"episode_transforms not implemented\")\n",
    "    \n",
    "    episode_transform = lambda tup, _prefix=domain_prefix: (_prefix + str(tup[0]), tup[1])\n",
    "\n",
    "\n",
    "    eaf = Episodic_Accessor_Factory(\n",
    "        labels=labels,\n",
    "        domains=domains,\n",
    "        num_examples_per_domain_per_label=num_examples_per_domain_per_label,\n",
    "        iterator_seed=iterator_seed,\n",
    "        dataset_seed=dataset_seed,\n",
    "        n_shot=n_shot,\n",
    "        n_way=n_way,\n",
    "        n_query=n_query,\n",
    "        train_val_test_k_factors=train_val_test_k_factors,\n",
    "        pickle_path=pickle_path,\n",
    "        x_transform_func=x_transform,\n",
    "    )\n",
    "\n",
    "    train, val, test = eaf.get_train(), eaf.get_val(), eaf.get_test()\n",
    "    train = Lazy_Iterable_Wrapper(train, episode_transform)\n",
    "    val = Lazy_Iterable_Wrapper(val, episode_transform)\n",
    "    test = Lazy_Iterable_Wrapper(test, episode_transform)\n",
    "\n",
    "    if source_or_target_dataset==\"source\":\n",
    "        train_original_source.append(train)\n",
    "        val_original_source.append(val)\n",
    "        test_original_source.append(test)\n",
    "\n",
    "        p.domains_source.extend(\n",
    "            [domain_prefix + str(u) for u in domains]\n",
    "        )\n",
    "    elif source_or_target_dataset==\"target\":\n",
    "        train_original_target.append(train)\n",
    "        val_original_target.append(val)\n",
    "        test_original_target.append(test)\n",
    "        p.domains_target.extend(\n",
    "            [domain_prefix + str(u) for u in domains]\n",
    "        )\n",
    "    else:\n",
    "        raise Exception(f\"invalid source_or_target_dataset: {source_or_target_dataset}\")\n",
    "    "
   ]
  },
  {
   "cell_type": "code",
   "execution_count": 13,
   "id": "fe266617",
   "metadata": {
    "execution": {
     "iopub.execute_input": "2022-03-21T03:37:16.760484Z",
     "iopub.status.busy": "2022-03-21T03:37:16.756833Z",
     "iopub.status.idle": "2022-03-21T03:37:20.372972Z",
     "shell.execute_reply": "2022-03-21T03:37:20.372217Z"
    },
    "papermill": {
     "duration": 3.641405,
     "end_time": "2022-03-21T03:37:20.373166",
     "exception": false,
     "start_time": "2022-03-21T03:37:16.731761",
     "status": "completed"
    },
    "tags": []
   },
   "outputs": [],
   "source": [
    "for ds in p.datasets:\n",
    "    add_dataset(**ds)"
   ]
  },
  {
   "cell_type": "code",
   "execution_count": 14,
   "id": "b90d65ac",
   "metadata": {
    "execution": {
     "iopub.execute_input": "2022-03-21T03:37:20.422623Z",
     "iopub.status.busy": "2022-03-21T03:37:20.422242Z",
     "iopub.status.idle": "2022-03-21T03:37:20.445760Z",
     "shell.execute_reply": "2022-03-21T03:37:20.445051Z"
    },
    "papermill": {
     "duration": 0.047069,
     "end_time": "2022-03-21T03:37:20.445915",
     "exception": false,
     "start_time": "2022-03-21T03:37:20.398846",
     "status": "completed"
    },
    "tags": []
   },
   "outputs": [],
   "source": [
    "# from steves_utils.CORES.utils import (\n",
    "#     ALL_NODES,\n",
    "#     ALL_NODES_MINIMUM_1000_EXAMPLES,\n",
    "#     ALL_DAYS\n",
    "# )\n",
    "\n",
    "# add_dataset(\n",
    "#     labels=ALL_NODES,\n",
    "#     domains = ALL_DAYS,\n",
    "#     num_examples_per_domain_per_label=100,\n",
    "#     pickle_path=os.path.join(get_datasets_base_path(), \"cores.stratified_ds.2022A.pkl\"),\n",
    "#     source_or_target_dataset=\"target\",\n",
    "#     x_transform_func=global_x_transform_func,\n",
    "#     domain_modifier=lambda u: f\"cores_{u}\"\n",
    "# )"
   ]
  },
  {
   "cell_type": "code",
   "execution_count": 15,
   "id": "76db484d",
   "metadata": {
    "execution": {
     "iopub.execute_input": "2022-03-21T03:37:20.497684Z",
     "iopub.status.busy": "2022-03-21T03:37:20.497306Z",
     "iopub.status.idle": "2022-03-21T03:37:20.520024Z",
     "shell.execute_reply": "2022-03-21T03:37:20.519277Z"
    },
    "papermill": {
     "duration": 0.047528,
     "end_time": "2022-03-21T03:37:20.520180",
     "exception": false,
     "start_time": "2022-03-21T03:37:20.472652",
     "status": "completed"
    },
    "tags": []
   },
   "outputs": [],
   "source": [
    "# from steves_utils.ORACLE.utils_v2 import (\n",
    "#     ALL_DISTANCES_FEET,\n",
    "#     ALL_RUNS,\n",
    "#     ALL_SERIAL_NUMBERS,\n",
    "# )\n",
    "\n",
    "\n",
    "# add_dataset(\n",
    "#     labels=ALL_SERIAL_NUMBERS,\n",
    "#     domains = list(set(ALL_DISTANCES_FEET) - {2,62}),\n",
    "#     num_examples_per_domain_per_label=100,\n",
    "#     pickle_path=os.path.join(get_datasets_base_path(), \"oracle.Run2_framed_2000Examples_stratified_ds.2022A.pkl\"),\n",
    "#     source_or_target_dataset=\"source\",\n",
    "#     x_transform_func=global_x_transform_func,\n",
    "#     domain_modifier=lambda u: f\"oracle1_{u}\"\n",
    "# )\n"
   ]
  },
  {
   "cell_type": "code",
   "execution_count": 16,
   "id": "97dea9d2",
   "metadata": {
    "execution": {
     "iopub.execute_input": "2022-03-21T03:37:20.571309Z",
     "iopub.status.busy": "2022-03-21T03:37:20.570936Z",
     "iopub.status.idle": "2022-03-21T03:37:20.587900Z",
     "shell.execute_reply": "2022-03-21T03:37:20.587209Z"
    },
    "papermill": {
     "duration": 0.039951,
     "end_time": "2022-03-21T03:37:20.588059",
     "exception": false,
     "start_time": "2022-03-21T03:37:20.548108",
     "status": "completed"
    },
    "tags": []
   },
   "outputs": [],
   "source": [
    "# from steves_utils.ORACLE.utils_v2 import (\n",
    "#     ALL_DISTANCES_FEET,\n",
    "#     ALL_RUNS,\n",
    "#     ALL_SERIAL_NUMBERS,\n",
    "# )\n",
    "\n",
    "\n",
    "# add_dataset(\n",
    "#     labels=ALL_SERIAL_NUMBERS,\n",
    "#     domains = list(set(ALL_DISTANCES_FEET) - {2,62,56}),\n",
    "#     num_examples_per_domain_per_label=100,\n",
    "#     pickle_path=os.path.join(get_datasets_base_path(), \"oracle.Run2_framed_2000Examples_stratified_ds.2022A.pkl\"),\n",
    "#     source_or_target_dataset=\"source\",\n",
    "#     x_transform_func=global_x_transform_func,\n",
    "#     domain_modifier=lambda u: f\"oracle2_{u}\"\n",
    "# )"
   ]
  },
  {
   "cell_type": "code",
   "execution_count": 17,
   "id": "6f289866",
   "metadata": {
    "execution": {
     "iopub.execute_input": "2022-03-21T03:37:20.638312Z",
     "iopub.status.busy": "2022-03-21T03:37:20.637747Z",
     "iopub.status.idle": "2022-03-21T03:37:20.653698Z",
     "shell.execute_reply": "2022-03-21T03:37:20.652990Z"
    },
    "papermill": {
     "duration": 0.039704,
     "end_time": "2022-03-21T03:37:20.653853",
     "exception": false,
     "start_time": "2022-03-21T03:37:20.614149",
     "status": "completed"
    },
    "tags": []
   },
   "outputs": [],
   "source": [
    "# add_dataset(\n",
    "#     labels=list(range(19)),\n",
    "#     domains = [0,1,2],\n",
    "#     num_examples_per_domain_per_label=100,\n",
    "#     pickle_path=os.path.join(get_datasets_base_path(), \"metehan.stratified_ds.2022A.pkl\"),\n",
    "#     source_or_target_dataset=\"target\",\n",
    "#     x_transform_func=global_x_transform_func,\n",
    "#     domain_modifier=lambda u: f\"met_{u}\"\n",
    "# )"
   ]
  },
  {
   "cell_type": "code",
   "execution_count": 18,
   "id": "86a863c3",
   "metadata": {
    "execution": {
     "iopub.execute_input": "2022-03-21T03:37:20.705250Z",
     "iopub.status.busy": "2022-03-21T03:37:20.704878Z",
     "iopub.status.idle": "2022-03-21T03:37:20.720832Z",
     "shell.execute_reply": "2022-03-21T03:37:20.720275Z"
    },
    "papermill": {
     "duration": 0.039967,
     "end_time": "2022-03-21T03:37:20.720939",
     "exception": false,
     "start_time": "2022-03-21T03:37:20.680972",
     "status": "completed"
    },
    "tags": []
   },
   "outputs": [],
   "source": [
    "# # from steves_utils.wisig.utils import (\n",
    "# #     ALL_NODES_MINIMUM_100_EXAMPLES,\n",
    "# #     ALL_NODES_MINIMUM_500_EXAMPLES,\n",
    "# #     ALL_NODES_MINIMUM_1000_EXAMPLES,\n",
    "# #     ALL_DAYS\n",
    "# # )\n",
    "\n",
    "# import steves_utils.wisig.utils as wisig\n",
    "\n",
    "\n",
    "# add_dataset(\n",
    "#     labels=wisig.ALL_NODES_MINIMUM_100_EXAMPLES,\n",
    "#     domains = wisig.ALL_DAYS,\n",
    "#     num_examples_per_domain_per_label=100,\n",
    "#     pickle_path=os.path.join(get_datasets_base_path(), \"wisig.node3-19.stratified_ds.2022A.pkl\"),\n",
    "#     source_or_target_dataset=\"target\",\n",
    "#     x_transform_func=global_x_transform_func,\n",
    "#     domain_modifier=lambda u: f\"wisig_{u}\"\n",
    "# )"
   ]
  },
  {
   "cell_type": "code",
   "execution_count": 19,
   "id": "fd5442bc",
   "metadata": {
    "execution": {
     "iopub.execute_input": "2022-03-21T03:37:20.775321Z",
     "iopub.status.busy": "2022-03-21T03:37:20.774934Z",
     "iopub.status.idle": "2022-03-21T03:37:20.793021Z",
     "shell.execute_reply": "2022-03-21T03:37:20.792315Z"
    },
    "papermill": {
     "duration": 0.044214,
     "end_time": "2022-03-21T03:37:20.793175",
     "exception": false,
     "start_time": "2022-03-21T03:37:20.748961",
     "status": "completed"
    },
    "tags": []
   },
   "outputs": [],
   "source": [
    "###################################\n",
    "# Build the dataset\n",
    "###################################\n",
    "train_original_source = Iterable_Aggregator(train_original_source, p.seed)\n",
    "val_original_source = Iterable_Aggregator(val_original_source, p.seed)\n",
    "test_original_source = Iterable_Aggregator(test_original_source, p.seed)\n",
    "\n",
    "\n",
    "train_original_target = Iterable_Aggregator(train_original_target, p.seed)\n",
    "val_original_target = Iterable_Aggregator(val_original_target, p.seed)\n",
    "test_original_target = Iterable_Aggregator(test_original_target, p.seed)\n",
    "\n",
    "# For CNN We only use X and Y. And we only train on the source.\n",
    "# Properly form the data using a transform lambda and Lazy_Iterable_Wrapper. Finally wrap them in a dataloader\n",
    "\n",
    "transform_lambda = lambda ex: ex[1] # Original is (<domain>, <episode>) so we strip down to episode only\n",
    "\n",
    "train_processed_source = Lazy_Iterable_Wrapper(train_original_source, transform_lambda)\n",
    "val_processed_source   = Lazy_Iterable_Wrapper(val_original_source, transform_lambda)\n",
    "test_processed_source  = Lazy_Iterable_Wrapper(test_original_source, transform_lambda)\n",
    "\n",
    "train_processed_target = Lazy_Iterable_Wrapper(train_original_target, transform_lambda)\n",
    "val_processed_target   = Lazy_Iterable_Wrapper(val_original_target, transform_lambda)\n",
    "test_processed_target  = Lazy_Iterable_Wrapper(test_original_target, transform_lambda)\n",
    "\n",
    "datasets = EasyDict({\n",
    "    \"source\": {\n",
    "        \"original\": {\"train\":train_original_source, \"val\":val_original_source, \"test\":test_original_source},\n",
    "        \"processed\": {\"train\":train_processed_source, \"val\":val_processed_source, \"test\":test_processed_source}\n",
    "    },\n",
    "    \"target\": {\n",
    "        \"original\": {\"train\":train_original_target, \"val\":val_original_target, \"test\":test_original_target},\n",
    "        \"processed\": {\"train\":train_processed_target, \"val\":val_processed_target, \"test\":test_processed_target}\n",
    "    },\n",
    "})"
   ]
  },
  {
   "cell_type": "code",
   "execution_count": 20,
   "id": "5b3c01fc",
   "metadata": {
    "execution": {
     "iopub.execute_input": "2022-03-21T03:37:20.845050Z",
     "iopub.status.busy": "2022-03-21T03:37:20.844673Z",
     "iopub.status.idle": "2022-03-21T03:37:29.188348Z",
     "shell.execute_reply": "2022-03-21T03:37:29.188665Z"
    },
    "papermill": {
     "duration": 8.370071,
     "end_time": "2022-03-21T03:37:29.188803",
     "exception": false,
     "start_time": "2022-03-21T03:37:20.818732",
     "status": "completed"
    },
    "tags": []
   },
   "outputs": [
    {
     "name": "stdout",
     "output_type": "stream",
     "text": [
      "{'CORES_3', 'CORES_5', 'CORES_2', 'CORES_4', 'CORES_1'}\n"
     ]
    },
    {
     "name": "stdout",
     "output_type": "stream",
     "text": [
      "{'Wisig_3', 'Wisig_1', 'Wisig_2', 'Wisig_4'}\n"
     ]
    },
    {
     "name": "stdout",
     "output_type": "stream",
     "text": [
      "tensor([[[ 0.0113,  0.0100, -0.0226,  ..., -0.0121,  0.0050, -0.0022],\n",
      "         [-0.0074,  0.0089,  0.0200,  ..., -0.0074,  0.0126,  0.0139]],\n",
      "\n",
      "        [[ 0.0025,  0.0050,  0.0050,  ...,  0.0153,  0.0204,  0.0113],\n",
      "         [-0.0016, -0.0028,  0.0113,  ...,  0.0101,  0.0080, -0.0085]],\n",
      "\n",
      "        [[ 0.0132, -0.0220, -0.0285,  ..., -0.0060, -0.0065, -0.0204],\n",
      "         [ 0.0119,  0.0080, -0.0144,  ...,  0.0013,  0.0176, -0.0132]],\n",
      "\n",
      "        ...,\n",
      "\n",
      "        [[-0.0591,  0.0331,  0.1078,  ...,  0.0633,  0.0633, -0.0254],\n",
      "         [ 0.0029, -0.0035,  0.0023,  ..., -0.0178,  0.0044,  0.0693]],\n",
      "\n",
      "        [[ 0.0045,  0.0030,  0.0442,  ..., -0.0171,  0.0725,  0.0319],\n",
      "         [ 0.0027, -0.0203, -0.0277,  ..., -0.0551, -0.0392, -0.0004]],\n",
      "\n",
      "        [[ 0.0197,  0.0664,  0.0248,  ...,  0.0722, -0.0216, -0.0793],\n",
      "         [-0.0295, -0.0061,  0.0133,  ..., -0.0066,  0.0027, -0.0130]]])\n"
     ]
    }
   ],
   "source": [
    "from steves_utils.transforms import get_average_magnitude, get_average_power\n",
    "\n",
    "print(set([u for u,_ in val_original_source]))\n",
    "print(set([u for u,_ in val_original_target]))\n",
    "\n",
    "s_x, s_y, q_x, q_y, _ = next(iter(train_processed_source))\n",
    "print(s_x)\n",
    "\n",
    "# for ds in [\n",
    "#     train_processed_source,\n",
    "#     val_processed_source,\n",
    "#     test_processed_source,\n",
    "#     train_processed_target,\n",
    "#     val_processed_target,\n",
    "#     test_processed_target\n",
    "# ]:\n",
    "#     for s_x, s_y, q_x, q_y, _ in ds:\n",
    "#         for X in (s_x, q_x):\n",
    "#             for x in X:\n",
    "#                 assert np.isclose(get_average_magnitude(x.numpy()), 1.0)\n",
    "#                 assert np.isclose(get_average_power(x.numpy()), 1.0)\n",
    "                "
   ]
  },
  {
   "cell_type": "code",
   "execution_count": 21,
   "id": "bbdacba1",
   "metadata": {
    "execution": {
     "iopub.execute_input": "2022-03-21T03:37:29.243417Z",
     "iopub.status.busy": "2022-03-21T03:37:29.242917Z",
     "iopub.status.idle": "2022-03-21T03:37:29.468254Z",
     "shell.execute_reply": "2022-03-21T03:37:29.467464Z"
    },
    "papermill": {
     "duration": 0.253782,
     "end_time": "2022-03-21T03:37:29.468421",
     "exception": false,
     "start_time": "2022-03-21T03:37:29.214639",
     "status": "completed"
    },
    "tags": []
   },
   "outputs": [
    {
     "name": "stdout",
     "output_type": "stream",
     "text": [
      "(2, 256)\n"
     ]
    }
   ],
   "source": [
    "###################################\n",
    "# Build the model\n",
    "###################################\n",
    "# easfsl only wants a tuple for the shape\n",
    "model = Steves_Prototypical_Network(x_net, device=p.device, x_shape=tuple(p.x_shape))\n",
    "optimizer = Adam(params=model.parameters(), lr=p.lr)"
   ]
  },
  {
   "cell_type": "code",
   "execution_count": 22,
   "id": "22b39ac5",
   "metadata": {
    "execution": {
     "iopub.execute_input": "2022-03-21T03:37:29.528052Z",
     "iopub.status.busy": "2022-03-21T03:37:29.527678Z",
     "iopub.status.idle": "2022-03-21T03:39:31.196879Z",
     "shell.execute_reply": "2022-03-21T03:39:31.196110Z"
    },
    "papermill": {
     "duration": 121.699686,
     "end_time": "2022-03-21T03:39:31.197064",
     "exception": false,
     "start_time": "2022-03-21T03:37:29.497378",
     "status": "completed"
    },
    "tags": []
   },
   "outputs": [
    {
     "name": "stdout",
     "output_type": "stream",
     "text": [
      "epoch: 1, [batch: 1 / 351], examples_per_second: 342.7452, train_label_loss: 3.2280, \n"
     ]
    },
    {
     "name": "stdout",
     "output_type": "stream",
     "text": [
      "epoch: 1, [batch: 36 / 351], examples_per_second: 3438.9308, train_label_loss: 0.9727, \n"
     ]
    },
    {
     "name": "stdout",
     "output_type": "stream",
     "text": [
      "epoch: 1, [batch: 71 / 351], examples_per_second: 3394.3018, train_label_loss: 0.4445, \n"
     ]
    },
    {
     "name": "stdout",
     "output_type": "stream",
     "text": [
      "epoch: 1, [batch: 106 / 351], examples_per_second: 3409.6152, train_label_loss: 0.2144, \n"
     ]
    },
    {
     "name": "stdout",
     "output_type": "stream",
     "text": [
      "epoch: 1, [batch: 141 / 351], examples_per_second: 3333.7049, train_label_loss: 0.0922, \n"
     ]
    },
    {
     "name": "stdout",
     "output_type": "stream",
     "text": [
      "epoch: 1, [batch: 176 / 351], examples_per_second: 3421.5622, train_label_loss: 0.1207, \n"
     ]
    },
    {
     "name": "stdout",
     "output_type": "stream",
     "text": [
      "epoch: 1, [batch: 211 / 351], examples_per_second: 3428.6099, train_label_loss: 0.0561, \n"
     ]
    },
    {
     "name": "stdout",
     "output_type": "stream",
     "text": [
      "epoch: 1, [batch: 246 / 351], examples_per_second: 3329.6661, train_label_loss: 0.0262, \n"
     ]
    },
    {
     "name": "stdout",
     "output_type": "stream",
     "text": [
      "epoch: 1, [batch: 281 / 351], examples_per_second: 3446.2308, train_label_loss: 0.0376, \n"
     ]
    },
    {
     "name": "stdout",
     "output_type": "stream",
     "text": [
      "epoch: 1, [batch: 316 / 351], examples_per_second: 3579.5048, train_label_loss: 0.0299, \n"
     ]
    },
    {
     "name": "stdout",
     "output_type": "stream",
     "text": [
      "=============================================================\n",
      "epoch: 1, source_val_acc_label: 0.9937, target_val_acc_label: 0.6726, source_val_label_loss: 0.0475, target_val_label_loss: 2.2948, \n",
      "=============================================================\n"
     ]
    },
    {
     "name": "stdout",
     "output_type": "stream",
     "text": [
      "New best\n"
     ]
    },
    {
     "name": "stdout",
     "output_type": "stream",
     "text": [
      "epoch: 2, [batch: 1 / 351], examples_per_second: 34.2604, train_label_loss: 0.0384, \n"
     ]
    },
    {
     "name": "stdout",
     "output_type": "stream",
     "text": [
      "epoch: 2, [batch: 36 / 351], examples_per_second: 3602.5099, train_label_loss: 0.0305, \n"
     ]
    },
    {
     "name": "stdout",
     "output_type": "stream",
     "text": [
      "epoch: 2, [batch: 71 / 351], examples_per_second: 4567.6517, train_label_loss: 0.0558, \n"
     ]
    },
    {
     "name": "stdout",
     "output_type": "stream",
     "text": [
      "epoch: 2, [batch: 106 / 351], examples_per_second: 4474.1264, train_label_loss: 0.0329, \n"
     ]
    },
    {
     "name": "stdout",
     "output_type": "stream",
     "text": [
      "epoch: 2, [batch: 141 / 351], examples_per_second: 4461.7052, train_label_loss: 0.0608, \n"
     ]
    },
    {
     "name": "stdout",
     "output_type": "stream",
     "text": [
      "epoch: 2, [batch: 176 / 351], examples_per_second: 4100.4802, train_label_loss: 0.0320, \n"
     ]
    },
    {
     "name": "stdout",
     "output_type": "stream",
     "text": [
      "epoch: 2, [batch: 211 / 351], examples_per_second: 3511.4634, train_label_loss: 0.0163, \n"
     ]
    },
    {
     "name": "stdout",
     "output_type": "stream",
     "text": [
      "epoch: 2, [batch: 246 / 351], examples_per_second: 3468.2330, train_label_loss: 0.0028, \n"
     ]
    },
    {
     "name": "stdout",
     "output_type": "stream",
     "text": [
      "epoch: 2, [batch: 281 / 351], examples_per_second: 3368.7197, train_label_loss: 0.0328, \n"
     ]
    },
    {
     "name": "stdout",
     "output_type": "stream",
     "text": [
      "epoch: 2, [batch: 316 / 351], examples_per_second: 3925.4841, train_label_loss: 0.0145, \n"
     ]
    },
    {
     "name": "stdout",
     "output_type": "stream",
     "text": [
      "=============================================================\n",
      "epoch: 2, source_val_acc_label: 0.9960, target_val_acc_label: 0.7206, source_val_label_loss: 0.0263, target_val_label_loss: 3.8613, \n",
      "=============================================================\n"
     ]
    },
    {
     "name": "stdout",
     "output_type": "stream",
     "text": [
      "New best\n"
     ]
    },
    {
     "name": "stdout",
     "output_type": "stream",
     "text": [
      "epoch: 3, [batch: 1 / 351], examples_per_second: 39.1014, train_label_loss: 0.0023, \n"
     ]
    },
    {
     "name": "stdout",
     "output_type": "stream",
     "text": [
      "epoch: 3, [batch: 36 / 351], examples_per_second: 4212.1419, train_label_loss: 0.0084, \n"
     ]
    },
    {
     "name": "stdout",
     "output_type": "stream",
     "text": [
      "epoch: 3, [batch: 71 / 351], examples_per_second: 3980.4488, train_label_loss: 0.0010, \n"
     ]
    },
    {
     "name": "stdout",
     "output_type": "stream",
     "text": [
      "epoch: 3, [batch: 106 / 351], examples_per_second: 3964.0830, train_label_loss: 0.0075, \n"
     ]
    },
    {
     "name": "stdout",
     "output_type": "stream",
     "text": [
      "epoch: 3, [batch: 141 / 351], examples_per_second: 3814.0479, train_label_loss: 0.0128, \n"
     ]
    },
    {
     "name": "stdout",
     "output_type": "stream",
     "text": [
      "epoch: 3, [batch: 176 / 351], examples_per_second: 4671.1169, train_label_loss: 0.0044, \n"
     ]
    },
    {
     "name": "stdout",
     "output_type": "stream",
     "text": [
      "epoch: 3, [batch: 211 / 351], examples_per_second: 4721.2949, train_label_loss: 0.0007, \n"
     ]
    },
    {
     "name": "stdout",
     "output_type": "stream",
     "text": [
      "epoch: 3, [batch: 246 / 351], examples_per_second: 4031.9591, train_label_loss: 0.0120, \n"
     ]
    },
    {
     "name": "stdout",
     "output_type": "stream",
     "text": [
      "epoch: 3, [batch: 281 / 351], examples_per_second: 3499.7360, train_label_loss: 0.0081, \n"
     ]
    },
    {
     "name": "stdout",
     "output_type": "stream",
     "text": [
      "epoch: 3, [batch: 316 / 351], examples_per_second: 3899.2367, train_label_loss: 0.0192, \n"
     ]
    },
    {
     "name": "stdout",
     "output_type": "stream",
     "text": [
      "=============================================================\n",
      "epoch: 3, source_val_acc_label: 0.9969, target_val_acc_label: 0.7479, source_val_label_loss: 0.0171, target_val_label_loss: 3.6973, \n",
      "=============================================================\n"
     ]
    },
    {
     "name": "stdout",
     "output_type": "stream",
     "text": [
      "New best\n"
     ]
    }
   ],
   "source": [
    "###################################\n",
    "# train\n",
    "###################################\n",
    "jig = PTN_Train_Eval_Test_Jig(model, p.BEST_MODEL_PATH, p.device)\n",
    "\n",
    "jig.train(\n",
    "    train_iterable=datasets.source.processed.train,\n",
    "    source_val_iterable=datasets.source.processed.val,\n",
    "    target_val_iterable=datasets.target.processed.val,\n",
    "    num_epochs=p.n_epoch,\n",
    "    num_logs_per_epoch=p.NUM_LOGS_PER_EPOCH,\n",
    "    patience=p.patience,\n",
    "    optimizer=optimizer,\n",
    "    criteria_for_best=p.criteria_for_best,\n",
    ")"
   ]
  },
  {
   "cell_type": "code",
   "execution_count": 23,
   "id": "31e8fabf",
   "metadata": {
    "execution": {
     "iopub.execute_input": "2022-03-21T03:39:31.270129Z",
     "iopub.status.busy": "2022-03-21T03:39:31.269492Z",
     "iopub.status.idle": "2022-03-21T03:39:31.303927Z",
     "shell.execute_reply": "2022-03-21T03:39:31.303184Z"
    },
    "papermill": {
     "duration": 0.070827,
     "end_time": "2022-03-21T03:39:31.304106",
     "exception": false,
     "start_time": "2022-03-21T03:39:31.233279",
     "status": "completed"
    },
    "tags": []
   },
   "outputs": [],
   "source": [
    "total_experiment_time_secs = time.time() - start_time_secs"
   ]
  },
  {
   "cell_type": "code",
   "execution_count": 24,
   "id": "87b9595b",
   "metadata": {
    "execution": {
     "iopub.execute_input": "2022-03-21T03:39:31.396750Z",
     "iopub.status.busy": "2022-03-21T03:39:31.389170Z",
     "iopub.status.idle": "2022-03-21T03:40:36.394242Z",
     "shell.execute_reply": "2022-03-21T03:40:36.394921Z"
    },
    "papermill": {
     "duration": 65.046123,
     "end_time": "2022-03-21T03:40:36.395160",
     "exception": false,
     "start_time": "2022-03-21T03:39:31.349037",
     "status": "completed"
    },
    "tags": []
   },
   "outputs": [],
   "source": [
    "###################################\n",
    "# Evaluate the model\n",
    "###################################\n",
    "source_test_label_accuracy, source_test_label_loss = jig.test(datasets.source.processed.test)\n",
    "target_test_label_accuracy, target_test_label_loss = jig.test(datasets.target.processed.test)\n",
    "\n",
    "source_val_label_accuracy, source_val_label_loss = jig.test(datasets.source.processed.val)\n",
    "target_val_label_accuracy, target_val_label_loss = jig.test(datasets.target.processed.val)\n",
    "\n",
    "history = jig.get_history()\n",
    "\n",
    "total_epochs_trained = len(history[\"epoch_indices\"])\n",
    "\n",
    "val_dl = Iterable_Aggregator((datasets.source.original.val,datasets.target.original.val))\n",
    "\n",
    "confusion = ptn_confusion_by_domain_over_dataloader(model, p.device, val_dl)\n",
    "per_domain_accuracy = per_domain_accuracy_from_confusion(confusion)\n",
    "\n",
    "# Add a key to per_domain_accuracy for if it was a source domain\n",
    "for domain, accuracy in per_domain_accuracy.items():\n",
    "    per_domain_accuracy[domain] = {\n",
    "        \"accuracy\": accuracy,\n",
    "        \"source?\": domain in p.domains_source\n",
    "    }\n",
    "\n",
    "# Do an independent accuracy assesment JUST TO BE SURE!\n",
    "# _source_test_label_accuracy = independent_accuracy_assesment(model, datasets.source.processed.test, p.device)\n",
    "# _target_test_label_accuracy = independent_accuracy_assesment(model, datasets.target.processed.test, p.device)\n",
    "# _source_val_label_accuracy = independent_accuracy_assesment(model, datasets.source.processed.val, p.device)\n",
    "# _target_val_label_accuracy = independent_accuracy_assesment(model, datasets.target.processed.val, p.device)\n",
    "\n",
    "# assert(_source_test_label_accuracy == source_test_label_accuracy)\n",
    "# assert(_target_test_label_accuracy == target_test_label_accuracy)\n",
    "# assert(_source_val_label_accuracy == source_val_label_accuracy)\n",
    "# assert(_target_val_label_accuracy == target_val_label_accuracy)\n",
    "\n",
    "experiment = {\n",
    "    \"experiment_name\": p.experiment_name,\n",
    "    \"parameters\": dict(p),\n",
    "    \"results\": {\n",
    "        \"source_test_label_accuracy\": source_test_label_accuracy,\n",
    "        \"source_test_label_loss\": source_test_label_loss,\n",
    "        \"target_test_label_accuracy\": target_test_label_accuracy,\n",
    "        \"target_test_label_loss\": target_test_label_loss,\n",
    "        \"source_val_label_accuracy\": source_val_label_accuracy,\n",
    "        \"source_val_label_loss\": source_val_label_loss,\n",
    "        \"target_val_label_accuracy\": target_val_label_accuracy,\n",
    "        \"target_val_label_loss\": target_val_label_loss,\n",
    "        \"total_epochs_trained\": total_epochs_trained,\n",
    "        \"total_experiment_time_secs\": total_experiment_time_secs,\n",
    "        \"confusion\": confusion,\n",
    "        \"per_domain_accuracy\": per_domain_accuracy,\n",
    "    },\n",
    "    \"history\": history,\n",
    "    \"dataset_metrics\": get_dataset_metrics(datasets, \"ptn\"),\n",
    "}"
   ]
  },
  {
   "cell_type": "code",
   "execution_count": 25,
   "id": "54a21829",
   "metadata": {
    "execution": {
     "iopub.execute_input": "2022-03-21T03:40:36.473369Z",
     "iopub.status.busy": "2022-03-21T03:40:36.472802Z",
     "iopub.status.idle": "2022-03-21T03:40:36.690572Z",
     "shell.execute_reply": "2022-03-21T03:40:36.691260Z"
    },
    "papermill": {
     "duration": 0.255551,
     "end_time": "2022-03-21T03:40:36.691489",
     "exception": false,
     "start_time": "2022-03-21T03:40:36.435938",
     "status": "completed"
    },
    "tags": []
   },
   "outputs": [
    {
     "data": {
      "image/png": "[encoded data removed]",
      "text/plain": [
       "<Figure size 1080x504 with 1 Axes>"
      ]
     },
     "metadata": {
      "needs_background": "light"
     },
     "output_type": "display_data"
    }
   ],
   "source": [
    "ax = get_loss_curve(experiment)\n",
    "plt.show()"
   ]
  },
  {
   "cell_type": "code",
   "execution_count": 26,
   "id": "fd8a0f60",
   "metadata": {
    "execution": {
     "iopub.execute_input": "2022-03-21T03:40:36.767235Z",
     "iopub.status.busy": "2022-03-21T03:40:36.766865Z",
     "iopub.status.idle": "2022-03-21T03:40:37.076165Z",
     "shell.execute_reply": "2022-03-21T03:40:37.076838Z"
    },
    "papermill": {
     "duration": 0.345173,
     "end_time": "2022-03-21T03:40:37.077023",
     "exception": false,
     "start_time": "2022-03-21T03:40:36.731850",
     "status": "completed"
    },
    "tags": []
   },
   "outputs": [
    {
     "data": {
      "text/plain": [
       "<AxesSubplot:title={'center':'Results'}>"
      ]
     },
     "execution_count": 26,
     "metadata": {},
     "output_type": "execute_result"
    },
    {
     "data": {
      "image/png": "[encoded data removed]",
      "text/plain": [
       "<Figure size 1080x504 with 1 Axes>"
      ]
     },
     "metadata": {
      "needs_background": "light"
     },
     "output_type": "display_data"
    }
   ],
   "source": [
    "get_results_table(experiment)"
   ]
  },
  {
   "cell_type": "code",
   "execution_count": 27,
   "id": "cf8dc689",
   "metadata": {
    "execution": {
     "iopub.execute_input": "2022-03-21T03:40:37.154597Z",
     "iopub.status.busy": "2022-03-21T03:40:37.154154Z",
     "iopub.status.idle": "2022-03-21T03:40:37.376226Z",
     "shell.execute_reply": "2022-03-21T03:40:37.376909Z"
    },
    "papermill": {
     "duration": 0.260615,
     "end_time": "2022-03-21T03:40:37.377094",
     "exception": false,
     "start_time": "2022-03-21T03:40:37.116479",
     "status": "completed"
    },
    "tags": []
   },
   "outputs": [
    {
     "data": {
      "text/plain": [
       "<AxesSubplot:title={'center':'Per Domain Validation Accuracy'}, xlabel='domain'>"
      ]
     },
     "execution_count": 27,
     "metadata": {},
     "output_type": "execute_result"
    },
    {
     "data": {
      "image/png": "[encoded data removed]",
      "text/plain": [
       "<Figure size 1080x504 with 1 Axes>"
      ]
     },
     "metadata": {
      "needs_background": "light"
     },
     "output_type": "display_data"
    }
   ],
   "source": [
    "get_domain_accuracies(experiment)"
   ]
  },
  {
   "cell_type": "code",
   "execution_count": 28,
   "id": "a74ae082",
   "metadata": {
    "execution": {
     "iopub.execute_input": "2022-03-21T03:40:37.459049Z",
     "iopub.status.busy": "2022-03-21T03:40:37.458677Z",
     "iopub.status.idle": "2022-03-21T03:40:37.482316Z",
     "shell.execute_reply": "2022-03-21T03:40:37.481506Z"
    },
    "papermill": {
     "duration": 0.062881,
     "end_time": "2022-03-21T03:40:37.482471",
     "exception": false,
     "start_time": "2022-03-21T03:40:37.419590",
     "status": "completed"
    },
    "tags": []
   },
   "outputs": [
    {
     "name": "stdout",
     "output_type": "stream",
     "text": [
      "Source Test Label Accuracy: 0.9974137931034482 Target Test Label Accuracy: 0.7598522167487685\n",
      "Source Val Label Accuracy: 0.9969468390804598 Target Val Label Accuracy: 0.7479121767241379\n"
     ]
    }
   ],
   "source": [
    "print(\"Source Test Label Accuracy:\", experiment[\"results\"][\"source_test_label_accuracy\"], \"Target Test Label Accuracy:\", experiment[\"results\"][\"target_test_label_accuracy\"])\n",
    "print(\"Source Val Label Accuracy:\", experiment[\"results\"][\"source_val_label_accuracy\"], \"Target Val Label Accuracy:\", experiment[\"results\"][\"target_val_label_accuracy\"])"
   ]
  },
  {
   "cell_type": "code",
   "execution_count": 29,
   "id": "dacca602",
   "metadata": {
    "execution": {
     "iopub.execute_input": "2022-03-21T03:40:37.565219Z",
     "iopub.status.busy": "2022-03-21T03:40:37.564856Z",
     "iopub.status.idle": "2022-03-21T03:40:37.591687Z",
     "shell.execute_reply": "2022-03-21T03:40:37.592364Z"
    },
    "papermill": {
     "duration": 0.067957,
     "end_time": "2022-03-21T03:40:37.592545",
     "exception": false,
     "start_time": "2022-03-21T03:40:37.524588",
     "status": "completed"
    },
    "tags": [
     "experiment_json"
    ]
   },
   "outputs": [
    {
     "data": {
      "text/plain": [
       "'{\"experiment_name\": \"tl_1v2:cores-wisig\", \"parameters\": {\"experiment_name\": \"tl_1v2:cores-wisig\", \"device\": \"cuda\", \"lr\": 0.0001, \"n_shot\": 3, \"n_query\": 2, \"train_k_factor\": 3, \"val_k_factor\": 2, \"test_k_factor\": 2, \"torch_default_dtype\": \"torch.float32\", \"n_epoch\": 3, \"patience\": 3, \"criteria_for_best\": \"target_accuracy\", \"x_net\": [{\"class\": \"nnReshape\", \"kargs\": {\"shape\": [-1, 1, 2, 256]}}, {\"class\": \"Conv2d\", \"kargs\": {\"in_channels\": 1, \"out_channels\": 256, \"kernel_size\": [1, 7], \"bias\": false, \"padding\": [0, 3]}}, {\"class\": \"ReLU\", \"kargs\": {\"inplace\": true}}, {\"class\": \"BatchNorm2d\", \"kargs\": {\"num_features\": 256}}, {\"class\": \"Conv2d\", \"kargs\": {\"in_channels\": 256, \"out_channels\": 80, \"kernel_size\": [2, 7], \"bias\": true, \"padding\": [0, 3]}}, {\"class\": \"ReLU\", \"kargs\": {\"inplace\": true}}, {\"class\": \"BatchNorm2d\", \"kargs\": {\"num_features\": 80}}, {\"class\": \"Flatten\", \"kargs\": {}}, {\"class\": \"Linear\", \"kargs\": {\"in_features\": 20480, \"out_features\": 256}}, {\"class\": \"ReLU\", \"kargs\": {\"inplace\": true}}, {\"class\": \"BatchNorm1d\", \"kargs\": {\"num_features\": 256}}, {\"class\": \"Linear\", \"kargs\": {\"in_features\": 256, \"out_features\": 256}}], \"NUM_LOGS_PER_EPOCH\": 10, \"BEST_MODEL_PATH\": \"./best_model.pth\", \"n_way\": 58, \"datasets\": [{\"labels\": [\"1-10.\", \"1-11.\", \"1-15.\", \"1-16.\", \"1-17.\", \"1-18.\", \"1-19.\", \"10-4.\", \"10-7.\", \"11-1.\", \"11-14.\", \"11-17.\", \"11-20.\", \"11-7.\", \"13-20.\", \"13-8.\", \"14-10.\", \"14-11.\", \"14-14.\", \"14-7.\", \"15-1.\", \"15-20.\", \"16-1.\", \"16-16.\", \"17-10.\", \"17-11.\", \"17-2.\", \"19-1.\", \"19-16.\", \"19-19.\", \"19-20.\", \"19-3.\", \"2-10.\", \"2-11.\", \"2-17.\", \"2-18.\", \"2-20.\", \"2-3.\", \"2-4.\", \"2-5.\", \"2-6.\", \"2-7.\", \"2-8.\", \"3-13.\", \"3-18.\", \"3-3.\", \"4-1.\", \"4-10.\", \"4-11.\", \"4-19.\", \"5-5.\", \"6-15.\", \"7-10.\", \"7-14.\", \"8-18.\", \"8-20.\", \"8-3.\", \"8-8.\"], \"domains\": [1, 2, 3, 4, 5], \"num_examples_per_domain_per_label\": -1, \"pickle_path\": \"/root/csc500-main/datasets/cores.stratified_ds.2022A.pkl\", \"source_or_target_dataset\": \"source\", \"x_transforms\": [], \"episode_transforms\": [], \"domain_prefix\": \"CORES_\"}, {\"labels\": [\"1-10\", \"1-12\", \"1-14\", \"1-16\", \"1-18\", \"1-19\", \"1-8\", \"10-11\", \"10-17\", \"10-4\", \"10-7\", \"11-1\", \"11-10\", \"11-19\", \"11-20\", \"11-4\", \"11-7\", \"12-19\", \"12-20\", \"12-7\", \"13-14\", \"13-18\", \"13-19\", \"13-20\", \"13-3\", \"13-7\", \"14-10\", \"14-11\", \"14-12\", \"14-13\", \"14-14\", \"14-19\", \"14-20\", \"14-7\", \"14-8\", \"14-9\", \"15-1\", \"15-19\", \"15-6\", \"16-1\", \"16-16\", \"16-19\", \"16-20\", \"17-10\", \"17-11\", \"18-1\", \"18-10\", \"18-11\", \"18-12\", \"18-13\", \"18-14\", \"18-15\", \"18-16\", \"18-17\", \"18-19\", \"18-2\", \"18-20\", \"18-4\", \"18-5\", \"18-7\", \"18-8\", \"18-9\", \"19-1\", \"19-10\", \"19-11\", \"19-12\", \"19-13\", \"19-14\", \"19-15\", \"19-19\", \"19-2\", \"19-20\", \"19-3\", \"19-4\", \"19-6\", \"19-7\", \"19-8\", \"19-9\", \"2-1\", \"2-13\", \"2-15\", \"2-3\", \"2-4\", \"2-5\", \"2-6\", \"2-7\", \"2-8\", \"20-1\", \"20-12\", \"20-14\", \"20-15\", \"20-16\", \"20-18\", \"20-19\", \"20-20\", \"20-3\", \"20-4\", \"20-5\", \"20-7\", \"20-8\", \"3-1\", \"3-13\", \"3-18\", \"3-2\", \"3-8\", \"4-1\", \"4-10\", \"4-11\", \"5-1\", \"5-5\", \"6-1\", \"6-15\", \"6-6\", \"7-10\", \"7-11\", \"7-12\", \"7-13\", \"7-14\", \"7-7\", \"7-8\", \"7-9\", \"8-1\", \"8-13\", \"8-14\", \"8-18\", \"8-20\", \"8-3\", \"8-8\", \"9-1\", \"9-7\"], \"domains\": [1, 2, 3, 4], \"num_examples_per_domain_per_label\": -1, \"pickle_path\": \"/root/csc500-main/datasets/wisig.node3-19.stratified_ds.2022A.pkl\", \"source_or_target_dataset\": \"target\", \"x_transforms\": [], \"episode_transforms\": [], \"domain_prefix\": \"Wisig_\"}], \"dataset_seed\": 7, \"seed\": 7, \"x_shape\": [2, 256], \"domains_source\": [\"CORES_1\", \"CORES_2\", \"CORES_3\", \"CORES_4\", \"CORES_5\"], \"domains_target\": [\"Wisig_1\", \"Wisig_2\", \"Wisig_3\", \"Wisig_4\"]}, \"results\": {\"source_test_label_accuracy\": 0.9974137931034482, \"source_test_label_loss\": 0.009259432554244995, \"target_test_label_accuracy\": 0.7598522167487685, \"target_test_label_loss\": 3.4889063835144043, \"source_val_label_accuracy\": 0.9969468390804598, \"source_val_label_loss\": 0.017102476209402084, \"target_val_label_accuracy\": 0.7479121767241379, \"target_val_label_loss\": 3.6972577571868896, \"total_epochs_trained\": 3, \"total_experiment_time_secs\": 134.82736945152283, \"confusion\": {\"CORES_5\": {\"8\": {\"8\": 20}, \"12\": {\"12\": 20}, \"52\": {\"52\": 19, \"46\": 1}, \"16\": {\"16\": 20}, \"30\": {\"30\": 20}, \"26\": {\"26\": 20}, \"22\": {\"22\": 20}, \"49\": {\"49\": 20}, \"3\": {\"3\": 19, \"46\": 1}, \"6\": {\"6\": 20}, \"45\": {\"45\": 20}, \"37\": {\"37\": 20}, \"7\": {\"7\": 20}, \"33\": {\"33\": 20}, \"21\": {\"21\": 20}, \"10\": {\"10\": 20}, \"54\": {\"54\": 20}, \"41\": {\"41\": 20}, \"34\": {\"34\": 20}, \"55\": {\"55\": 20}, \"23\": {\"23\": 20}, \"43\": {\"43\": 20}, \"2\": {\"2\": 20}, \"11\": {\"11\": 20}, \"18\": {\"18\": 20}, \"1\": {\"1\": 20}, \"17\": {\"17\": 20}, \"35\": {\"35\": 20}, \"39\": {\"39\": 20}, \"28\": {\"28\": 20}, \"42\": {\"42\": 18, \"23\": 2}, \"36\": {\"36\": 19, \"33\": 1}, \"56\": {\"56\": 20}, \"38\": {\"38\": 20}, \"44\": {\"44\": 20}, \"19\": {\"19\": 20}, \"5\": {\"5\": 20}, \"57\": {\"57\": 20}, \"47\": {\"47\": 20}, \"24\": {\"24\": 20}, \"50\": {\"50\": 20}, \"53\": {\"53\": 20}, \"15\": {\"15\": 19, \"11\": 1}, \"31\": {\"31\": 20}, \"48\": {\"48\": 20}, \"40\": {\"40\": 20}, \"32\": {\"32\": 20}, \"46\": {\"46\": 19, \"47\": 1}, \"9\": {\"9\": 20}, \"4\": {\"4\": 20}, \"0\": {\"0\": 20}, \"51\": {\"51\": 20}, \"13\": {\"13\": 20}, \"20\": {\"20\": 20}, \"27\": {\"27\": 20}, \"14\": {\"14\": 20}, \"29\": {\"29\": 20}, \"25\": {\"25\": 20}}, \"CORES_1\": {\"10\": {\"10\": 24}, \"30\": {\"30\": 24}, \"38\": {\"38\": 24}, \"0\": {\"0\": 24}, \"9\": {\"9\": 24}, \"44\": {\"44\": 24}, \"35\": {\"35\": 24}, \"19\": {\"19\": 24}, \"4\": {\"4\": 24}, \"57\": {\"57\": 24}, \"12\": {\"12\": 24}, \"47\": {\"47\": 24}, \"16\": {\"16\": 24}, \"2\": {\"2\": 24}, \"36\": {\"36\": 24}, \"25\": {\"25\": 24}, \"54\": {\"54\": 24}, \"14\": {\"14\": 24}, \"24\": {\"24\": 24}, \"27\": {\"27\": 24}, \"48\": {\"48\": 24}, \"50\": {\"50\": 24}, \"51\": {\"51\": 24}, \"29\": {\"29\": 24}, \"17\": {\"17\": 24}, \"55\": {\"55\": 24}, \"32\": {\"32\": 24}, \"41\": {\"41\": 24}, \"33\": {\"33\": 24}, \"15\": {\"15\": 24}, \"31\": {\"31\": 24}, \"8\": {\"8\": 24}, \"28\": {\"28\": 24}, \"22\": {\"22\": 23, \"21\": 1}, \"43\": {\"43\": 24}, \"49\": {\"49\": 24}, \"52\": {\"52\": 24}, \"18\": {\"18\": 24}, \"40\": {\"40\": 24}, \"34\": {\"34\": 24}, \"45\": {\"45\": 24}, \"42\": {\"42\": 24}, \"7\": {\"7\": 24}, \"5\": {\"5\": 24}, \"56\": {\"56\": 24}, \"23\": {\"23\": 24}, \"46\": {\"46\": 24}, \"1\": {\"1\": 24}, \"20\": {\"20\": 24}, \"6\": {\"6\": 23, \"46\": 1}, \"26\": {\"26\": 24}, \"11\": {\"11\": 24}, \"39\": {\"39\": 24}, \"21\": {\"21\": 24}, \"3\": {\"3\": 24}, \"13\": {\"13\": 24}, \"37\": {\"37\": 24}, \"53\": {\"53\": 24}}, \"CORES_3\": {\"12\": {\"12\": 16}, \"8\": {\"8\": 16}, \"56\": {\"56\": 16}, \"53\": {\"53\": 16}, \"41\": {\"41\": 16}, \"51\": {\"51\": 16}, \"39\": {\"39\": 16}, \"46\": {\"46\": 16}, \"36\": {\"36\": 16}, \"11\": {\"11\": 16}, \"10\": {\"10\": 16}, \"48\": {\"48\": 16}, \"22\": {\"22\": 16}, \"21\": {\"21\": 16}, \"40\": {\"40\": 16}, \"47\": {\"47\": 16}, \"23\": {\"23\": 16}, \"45\": {\"45\": 16}, \"44\": {\"44\": 16}, \"7\": {\"7\": 16}, \"1\": {\"1\": 16}, \"16\": {\"16\": 16}, \"17\": {\"17\": 16}, \"55\": {\"55\": 16}, \"9\": {\"9\": 16}, \"6\": {\"6\": 16}, \"52\": {\"52\": 16}, \"43\": {\"43\": 16}, \"54\": {\"54\": 16}, \"0\": {\"0\": 16}, \"26\": {\"26\": 16}, \"35\": {\"35\": 16}, \"28\": {\"28\": 16}, \"15\": {\"15\": 16}, \"57\": {\"57\": 16}, \"30\": {\"30\": 16}, \"2\": {\"2\": 16}, \"13\": {\"13\": 16}, \"31\": {\"31\": 16}, \"32\": {\"32\": 16}, \"19\": {\"19\": 16}, \"34\": {\"34\": 16}, \"38\": {\"38\": 16}, \"37\": {\"37\": 16}, \"5\": {\"5\": 16}, \"18\": {\"18\": 16}, \"3\": {\"3\": 16}, \"25\": {\"25\": 16}, \"24\": {\"24\": 16}, \"27\": {\"27\": 16}, \"29\": {\"29\": 16}, \"4\": {\"4\": 16}, \"14\": {\"14\": 16}, \"33\": {\"33\": 16}, \"50\": {\"50\": 15, \"46\": 1}, \"49\": {\"49\": 16}, \"42\": {\"42\": 16}, \"20\": {\"20\": 16}}, \"CORES_4\": {\"40\": {\"40\": 16}, \"12\": {\"12\": 16}, \"30\": {\"30\": 16}, \"35\": {\"35\": 16}, \"18\": {\"18\": 16}, \"27\": {\"27\": 16}, \"33\": {\"33\": 16}, \"21\": {\"21\": 16}, \"54\": {\"54\": 16}, \"41\": {\"41\": 16}, \"44\": {\"44\": 16}, \"32\": {\"32\": 16}, \"45\": {\"45\": 16}, \"49\": {\"49\": 16}, \"16\": {\"16\": 16}, \"51\": {\"51\": 16}, \"9\": {\"9\": 16}, \"39\": {\"39\": 16}, \"1\": {\"1\": 16}, \"47\": {\"47\": 16}, \"31\": {\"31\": 16}, \"8\": {\"8\": 16}, \"17\": {\"17\": 16}, \"25\": {\"25\": 16}, \"11\": {\"11\": 16}, \"2\": {\"2\": 16}, \"19\": {\"19\": 16}, \"57\": {\"57\": 16}, \"6\": {\"6\": 15, \"3\": 1}, \"14\": {\"14\": 15, \"1\": 1}, \"42\": {\"42\": 16}, \"7\": {\"7\": 16}, \"34\": {\"34\": 16}, \"5\": {\"5\": 16}, \"20\": {\"20\": 16}, \"53\": {\"53\": 16}, \"24\": {\"24\": 16}, \"43\": {\"43\": 16}, \"50\": {\"50\": 16}, \"23\": {\"23\": 16}, \"26\": {\"26\": 16}, \"0\": {\"0\": 16}, \"13\": {\"13\": 16}, \"52\": {\"52\": 16}, \"29\": {\"29\": 16}, \"55\": {\"55\": 16}, \"48\": {\"48\": 16}, \"4\": {\"4\": 16}, \"38\": {\"38\": 16}, \"46\": {\"46\": 16}, \"3\": {\"3\": 15, \"50\": 1}, \"36\": {\"36\": 16}, \"10\": {\"10\": 16}, \"56\": {\"56\": 16}, \"37\": {\"37\": 16}, \"15\": {\"15\": 15, \"11\": 1}, \"28\": {\"28\": 16}, \"22\": {\"22\": 16}}, \"CORES_2\": {\"13\": {\"13\": 20}, \"28\": {\"28\": 20}, \"32\": {\"32\": 20}, \"26\": {\"26\": 20}, \"24\": {\"24\": 20}, \"6\": {\"6\": 20}, \"51\": {\"51\": 20}, \"23\": {\"23\": 20}, \"37\": {\"37\": 20}, \"10\": {\"10\": 20}, \"25\": {\"25\": 20}, \"27\": {\"27\": 20}, \"19\": {\"19\": 20}, \"21\": {\"21\": 20}, \"50\": {\"50\": 20}, \"3\": {\"3\": 20}, \"40\": {\"40\": 19, \"9\": 1}, \"15\": {\"15\": 20}, \"5\": {\"5\": 20}, \"41\": {\"41\": 19, \"30\": 1}, \"46\": {\"46\": 20}, \"7\": {\"7\": 20}, \"16\": {\"16\": 20}, \"30\": {\"30\": 20}, \"22\": {\"22\": 20}, \"33\": {\"33\": 20}, \"45\": {\"45\": 20}, \"47\": {\"47\": 20}, \"57\": {\"57\": 20}, \"29\": {\"29\": 20}, \"38\": {\"38\": 20}, \"14\": {\"14\": 20}, \"20\": {\"20\": 20}, \"42\": {\"42\": 19, \"28\": 1}, \"54\": {\"54\": 20}, \"36\": {\"36\": 20}, \"1\": {\"1\": 20}, \"8\": {\"8\": 20}, \"49\": {\"49\": 20}, \"4\": {\"4\": 20}, \"2\": {\"2\": 20}, \"31\": {\"31\": 20}, \"0\": {\"0\": 20}, \"11\": {\"11\": 20}, \"9\": {\"9\": 20}, \"43\": {\"43\": 20}, \"55\": {\"55\": 20}, \"56\": {\"56\": 20}, \"12\": {\"12\": 20}, \"52\": {\"52\": 20}, \"39\": {\"39\": 20}, \"35\": {\"35\": 20}, \"17\": {\"17\": 20}, \"34\": {\"34\": 20}, \"53\": {\"53\": 20}, \"44\": {\"44\": 20}, \"48\": {\"48\": 20}, \"18\": {\"18\": 20}}, \"Wisig_4\": {\"57\": {\"67\": 2, \"57\": 12, \"92\": 2}, \"125\": {\"125\": 41, \"84\": 1}, \"63\": {\"63\": 13, \"123\": 1, \"67\": 2}, \"71\": {\"71\": 33, \"1\": 2, \"60\": 1, \"114\": 1, \"40\": 1}, \"116\": {\"116\": 16, \"66\": 5, \"102\": 1, \"92\": 1, \"48\": 1, \"67\": 1, \"2\": 3}, \"52\": {\"47\": 1, \"52\": 17, \"95\": 1, \"53\": 1}, \"0\": {\"0\": 26, \"87\": 3, \"101\": 6, \"7\": 1, \"10\": 1, \"14\": 1, \"110\": 1, \"21\": 2, \"72\": 1}, \"69\": {\"69\": 37, \"84\": 4, \"96\": 1}, \"105\": {\"105\": 25, \"40\": 11, \"78\": 1, \"21\": 2, \"27\": 1, \"107\": 1, \"7\": 1, \"3\": 1, \"88\": 1}, \"43\": {\"96\": 4, \"11\": 2, \"72\": 1, \"43\": 18, \"110\": 7, \"16\": 1, \"40\": 1, \"109\": 2, \"122\": 6, \"84\": 1, \"23\": 1, \"113\": 1, \"93\": 1}, \"4\": {\"4\": 33, \"124\": 1, \"86\": 2}, \"5\": {\"5\": 31, \"20\": 2, \"88\": 1, \"46\": 1, \"3\": 1, \"83\": 1, \"44\": 1, \"11\": 1, \"60\": 1}, \"44\": {\"44\": 37, \"14\": 1, \"33\": 3, \"2\": 1, \"81\": 1, \"99\": 1}, \"24\": {\"97\": 3, \"36\": 7, \"24\": 10, \"108\": 1, \"10\": 5, \"88\": 3, \"70\": 1}, \"107\": {\"107\": 30, \"78\": 1, \"72\": 1, \"89\": 1, \"40\": 2, \"32\": 1}, \"26\": {\"26\": 34, \"21\": 2, \"61\": 1, \"43\": 2, \"10\": 1}, \"90\": {\"90\": 35, \"66\": 3}, \"100\": {\"100\": 14, \"46\": 1, \"71\": 1, \"85\": 1, \"3\": 1, \"60\": 1, \"72\": 1}, \"18\": {\"24\": 2, \"18\": 37, \"43\": 1, \"26\": 2}, \"72\": {\"72\": 25, \"14\": 4, \"36\": 1, \"105\": 1, \"110\": 1}, \"81\": {\"81\": 26, \"78\": 1, \"26\": 2, \"18\": 2, \"21\": 1, \"121\": 1, \"84\": 1}, \"96\": {\"59\": 1, \"96\": 9, \"110\": 2, \"16\": 2, \"92\": 1, \"43\": 2, \"66\": 1, \"77\": 1, \"54\": 1}, \"37\": {\"104\": 2, \"37\": 11, \"103\": 2, \"59\": 1}, \"67\": {\"123\": 4, \"67\": 3, \"33\": 4, \"63\": 3, \"64\": 2}, \"76\": {\"32\": 3, \"76\": 12, \"78\": 1}, \"108\": {\"108\": 24, \"70\": 8, \"88\": 1, \"39\": 3, \"36\": 1, \"125\": 1, \"23\": 1, \"10\": 2, \"41\": 1}, \"50\": {\"50\": 12, \"115\": 2, \"28\": 1, \"114\": 1}, \"10\": {\"97\": 6, \"108\": 3, \"10\": 14, \"88\": 1, \"70\": 3, \"24\": 4, \"78\": 1}, \"126\": {\"126\": 25, \"39\": 7}, \"109\": {\"109\": 24, \"122\": 3, \"113\": 4, \"93\": 1, \"126\": 2, \"43\": 4}, \"84\": {\"84\": 24, \"69\": 9, \"118\": 2, \"99\": 1, \"21\": 1, \"16\": 1}, \"99\": {\"105\": 1, \"96\": 2, \"99\": 27, \"69\": 4, \"32\": 1, \"122\": 1, \"107\": 1, \"84\": 2, \"21\": 1}, \"17\": {\"104\": 2, \"17\": 15, \"111\": 1, \"86\": 1, \"4\": 1}, \"129\": {\"129\": 15, \"119\": 5, \"91\": 1, \"73\": 1, \"86\": 1, \"115\": 1, \"42\": 4}, \"111\": {\"111\": 26, \"39\": 1, \"124\": 7}, \"13\": {\"13\": 11, \"54\": 1, \"123\": 1, \"116\": 1, \"102\": 2}, \"75\": {\"58\": 2, \"75\": 13, \"98\": 1}, \"65\": {\"65\": 12}, \"112\": {\"42\": 2, \"112\": 13, \"83\": 1}, \"120\": {\"28\": 1, \"45\": 1, \"120\": 13, \"128\": 3, \"74\": 1, \"104\": 1}, \"97\": {\"10\": 3, \"97\": 11, \"124\": 1, \"36\": 3, \"24\": 1, \"88\": 1}, \"123\": {\"123\": 14, \"63\": 2}, \"32\": {\"107\": 6, \"32\": 15, \"99\": 2, \"14\": 1}, \"70\": {\"70\": 17, \"27\": 1, \"108\": 9, \"23\": 1, \"61\": 1, \"10\": 3, \"24\": 1, \"5\": 1, \"88\": 1, \"102\": 1}, \"104\": {\"104\": 6, \"86\": 3, \"37\": 1, \"55\": 1, \"114\": 2, \"17\": 2, \"82\": 1}, \"121\": {\"121\": 20, \"43\": 1, \"92\": 7, \"81\": 1, \"117\": 1, \"66\": 1, \"18\": 1}, \"113\": {\"113\": 38, \"109\": 1, \"26\": 3}, \"85\": {\"100\": 2, \"85\": 19, \"15\": 2, \"52\": 1, \"21\": 2, \"53\": 1, \"6\": 1}, \"53\": {\"53\": 13, \"106\": 2, \"34\": 1}, \"23\": {\"0\": 2, \"113\": 2, \"26\": 4, \"38\": 1, \"101\": 1, \"2\": 1, \"90\": 1, \"12\": 1, \"23\": 1, \"21\": 2}, \"59\": {\"59\": 8, \"21\": 1, \"22\": 1, \"125\": 2}, \"45\": {\"45\": 15, \"3\": 1}, \"58\": {\"58\": 11, \"68\": 1, \"75\": 2, \"37\": 1, \"111\": 1}, \"42\": {\"58\": 1, \"111\": 5, \"42\": 4, \"119\": 2, \"103\": 2, \"129\": 5, \"73\": 5, \"37\": 2, \"124\": 1, \"83\": 1}, \"28\": {\"28\": 14, \"17\": 1, \"120\": 3, \"74\": 1, \"114\": 1}, \"47\": {\"75\": 3, \"21\": 1, \"47\": 5, \"20\": 1, \"58\": 1, \"25\": 1}, \"11\": {\"11\": 38, \"93\": 6, \"110\": 1, \"60\": 1}, \"101\": {\"101\": 32, \"0\": 6}, \"95\": {\"95\": 24, \"52\": 1, \"127\": 3, \"106\": 1, \"53\": 1}, \"86\": {\"86\": 27, \"129\": 1}, \"19\": {\"74\": 3, \"5\": 3, \"45\": 1, \"98\": 1, \"10\": 1, \"19\": 4, \"119\": 1, \"90\": 1, \"100\": 1, \"36\": 2, \"21\": 1, \"97\": 1, \"85\": 1, \"33\": 1, \"114\": 1, \"24\": 1}, \"55\": {\"55\": 13, \"98\": 2, \"56\": 1}, \"20\": {\"20\": 14, \"93\": 1, \"110\": 1}, \"118\": {\"69\": 2, \"88\": 1, \"118\": 12, \"122\": 2, \"62\": 9, \"87\": 2, \"16\": 2, \"21\": 1, \"96\": 1}, \"36\": {\"36\": 28, \"94\": 4, \"27\": 2, \"10\": 2, \"21\": 2, \"97\": 2, \"24\": 2}, \"21\": {\"21\": 33, \"39\": 1, \"88\": 3, \"22\": 1}, \"39\": {\"39\": 24, \"126\": 12, \"21\": 1, \"24\": 1}, \"29\": {\"29\": 29, \"77\": 2, \"21\": 1}, \"122\": {\"122\": 17, \"110\": 5, \"23\": 1, \"96\": 1, \"11\": 1, \"99\": 1, \"43\": 4, \"87\": 5, \"14\": 1, \"118\": 3, \"72\": 2, \"39\": 1}, \"68\": {\"68\": 15, \"103\": 1}, \"114\": {\"21\": 3, \"1\": 3, \"114\": 28, \"71\": 1, \"3\": 1, \"34\": 1, \"126\": 1}, \"12\": {\"95\": 1, \"8\": 1, \"12\": 27, \"34\": 1, \"106\": 2, \"109\": 1, \"85\": 1}, \"64\": {\"64\": 14, \"21\": 1, \"17\": 1}, \"94\": {\"94\": 24, \"106\": 1, \"85\": 1, \"36\": 1, \"15\": 2, \"88\": 1, \"30\": 2}, \"27\": {\"24\": 1, \"27\": 21, \"70\": 4, \"8\": 1, \"97\": 1, \"78\": 1, \"114\": 1}, \"117\": {\"117\": 35, \"2\": 1}, \"8\": {\"8\": 29, \"49\": 3}, \"33\": {\"33\": 36}, \"80\": {\"80\": 14, \"13\": 1, \"123\": 1}, \"35\": {\"35\": 6, \"23\": 1, \"18\": 1, \"81\": 4}, \"54\": {\"58\": 1, \"54\": 10, \"82\": 1, \"6\": 1, \"51\": 1, \"59\": 2}, \"25\": {\"25\": 11, \"9\": 1}, \"87\": {\"21\": 1, \"87\": 18, \"110\": 1, \"122\": 5, \"14\": 4, \"72\": 1, \"11\": 1, \"60\": 2, \"7\": 1}, \"74\": {\"74\": 8, \"20\": 2, \"78\": 1, \"72\": 1, \"21\": 1, \"88\": 1, \"33\": 1, \"45\": 1}, \"93\": {\"93\": 31, \"84\": 2, \"110\": 1, \"11\": 1, \"43\": 1}, \"40\": {\"40\": 22, \"39\": 2, \"105\": 6, \"107\": 4}, \"88\": {\"39\": 4, \"88\": 18, \"108\": 3, \"70\": 2, \"21\": 4, \"23\": 1, \"78\": 3, \"10\": 3}, \"1\": {\"1\": 21, \"107\": 3, \"114\": 5, \"95\": 2, \"71\": 5, \"24\": 1, \"49\": 2, \"12\": 1, \"21\": 1, \"25\": 1}, \"66\": {\"66\": 10, \"121\": 1, \"90\": 4, \"31\": 1}, \"15\": {\"15\": 36, \"34\": 1, \"30\": 2, \"94\": 1}, \"78\": {\"78\": 13, \"88\": 8, \"20\": 1, \"21\": 6, \"70\": 3, \"94\": 1, \"97\": 1, \"27\": 1, \"10\": 1, \"39\": 1}, \"73\": {\"73\": 18, \"6\": 1, \"5\": 2, \"46\": 1, \"115\": 1, \"58\": 1}, \"60\": {\"60\": 20, \"72\": 4, \"11\": 4, \"93\": 1, \"110\": 1, \"8\": 1, \"14\": 1}, \"115\": {\"115\": 8, \"73\": 1, \"13\": 1, \"84\": 1, \"85\": 1, \"17\": 1, \"69\": 1, \"104\": 1, \"50\": 1}, \"3\": {\"20\": 2, \"7\": 1, \"114\": 4, \"49\": 1, \"3\": 20, \"110\": 1, \"14\": 2, \"71\": 5, \"100\": 1, \"1\": 3, \"72\": 1, \"11\": 1, \"60\": 1, \"107\": 1}, \"38\": {\"38\": 16}, \"102\": {\"102\": 39, \"74\": 1}, \"2\": {\"121\": 1, \"61\": 1, \"2\": 13, \"102\": 2, \"117\": 5, \"108\": 1, \"23\": 2, \"63\": 2, \"88\": 1}, \"51\": {\"9\": 4, \"29\": 2, \"12\": 1, \"51\": 1, \"83\": 2, \"98\": 1, \"77\": 1, \"78\": 1, \"53\": 1, \"41\": 1, \"88\": 1}, \"89\": {\"89\": 26, \"32\": 1, \"21\": 1, \"82\": 2, \"72\": 1, \"107\": 1}, \"106\": {\"106\": 25, \"15\": 2, \"21\": 1, \"12\": 4, \"85\": 1, \"1\": 1}, \"124\": {\"124\": 43, \"42\": 2, \"28\": 1}, \"9\": {\"9\": 27, \"41\": 1}, \"22\": {\"22\": 10, \"76\": 1, \"66\": 1, \"31\": 4}, \"79\": {\"79\": 14, \"4\": 1, \"48\": 1}, \"6\": {\"6\": 18, \"51\": 1, \"111\": 4, \"124\": 1}, \"34\": {\"89\": 6, \"9\": 3, \"75\": 2, \"114\": 1, \"34\": 9, \"43\": 1, \"29\": 4, \"103\": 1, \"1\": 1, \"56\": 1, \"32\": 1, \"71\": 1, \"60\": 1}, \"91\": {\"53\": 2, \"103\": 2, \"91\": 15, \"29\": 1, \"82\": 1, \"52\": 3}, \"61\": {\"61\": 14, \"35\": 1, \"81\": 1}, \"110\": {\"60\": 3, \"21\": 3, \"110\": 16, \"72\": 3, \"43\": 5, \"122\": 6}, \"127\": {\"127\": 31, \"34\": 1, \"71\": 1, \"23\": 1, \"105\": 2, \"12\": 2}, \"77\": {\"77\": 11, \"29\": 1}, \"31\": {\"31\": 12, \"22\": 1, \"96\": 1, \"90\": 1, \"74\": 1}, \"30\": {\"30\": 17, \"49\": 1, \"94\": 3, \"15\": 5, \"12\": 2, \"72\": 1, \"114\": 1}, \"98\": {\"98\": 29, \"124\": 1}, \"49\": {\"53\": 1, \"49\": 7, \"12\": 4, \"1\": 1, \"8\": 3, \"11\": 2, \"5\": 6, \"2\": 1, \"43\": 1, \"15\": 2, \"93\": 1, \"44\": 1, \"34\": 1, \"100\": 1}, \"7\": {\"7\": 31, \"101\": 1}, \"92\": {\"57\": 3, \"44\": 2, \"92\": 17, \"76\": 1, \"121\": 2, \"74\": 1, \"22\": 1, \"84\": 1}, \"46\": {\"84\": 1, \"46\": 11, \"73\": 1, \"49\": 1, \"83\": 1, \"72\": 1, \"114\": 2, \"100\": 1, \"8\": 1}, \"119\": {\"119\": 14, \"125\": 1, \"129\": 1}, \"103\": {\"103\": 13, \"91\": 2, \"124\": 1}, \"16\": {\"16\": 23, \"84\": 8, \"69\": 1}, \"62\": {\"62\": 24, \"122\": 2, \"118\": 7, \"69\": 1, \"99\": 2}, \"56\": {\"56\": 10, \"89\": 1, \"128\": 1}, \"14\": {\"14\": 28, \"110\": 2, \"72\": 3, \"87\": 1, \"105\": 1, \"60\": 1}, \"41\": {\"41\": 10, \"78\": 1, \"9\": 2, \"98\": 2, \"52\": 1}, \"128\": {\"120\": 1, \"55\": 3, \"128\": 10, \"3\": 3, \"1\": 2, \"52\": 1, \"107\": 1, \"114\": 1, \"106\": 1, \"46\": 1}, \"83\": {\"94\": 1, \"83\": 16, \"124\": 1, \"98\": 3, \"5\": 2, \"3\": 2, \"85\": 1}, \"48\": {\"48\": 12, \"121\": 1, \"102\": 1, \"88\": 1, \"116\": 1}, \"82\": {\"32\": 6, \"82\": 14, \"89\": 2, \"72\": 1, \"76\": 1}}, \"Wisig_1\": {\"76\": {\"76\": 11, \"50\": 3, \"62\": 1, \"69\": 1}, \"55\": {\"55\": 11, \"41\": 1}, \"89\": {\"52\": 1, \"89\": 17, \"98\": 4, \"103\": 1, \"34\": 1, \"82\": 1, \"29\": 1, \"36\": 1, \"9\": 1}, \"19\": {\"19\": 20, \"128\": 3, \"27\": 1, \"73\": 1, \"97\": 1, \"82\": 1, \"30\": 1}, \"124\": {\"124\": 38, \"46\": 2, \"86\": 2}, \"97\": {\"97\": 15, \"28\": 1, \"27\": 3, \"15\": 1}, \"21\": {\"78\": 3, \"21\": 28, \"70\": 3, \"109\": 5, \"88\": 1}, \"45\": {\"129\": 2, \"11\": 1, \"104\": 3, \"2\": 3, \"69\": 1, \"45\": 1, \"99\": 1}, \"6\": {\"112\": 2, \"6\": 19, \"59\": 2, \"46\": 1, \"53\": 1, \"68\": 3, \"111\": 2, \"91\": 1, \"17\": 1}, \"105\": {\"105\": 28, \"40\": 7, \"107\": 1, \"87\": 1, \"34\": 1}, \"117\": {\"117\": 37, \"21\": 1}, \"37\": {\"37\": 16}, \"11\": {\"11\": 37, \"39\": 1}, \"88\": {\"88\": 26, \"24\": 8}, \"90\": {\"90\": 36}, \"74\": {\"74\": 16}, \"52\": {\"52\": 20}, \"92\": {\"92\": 28}, \"128\": {\"72\": 3, \"60\": 2, \"114\": 3, \"128\": 5, \"99\": 1, \"49\": 1, \"1\": 5, \"29\": 1, \"9\": 1, \"73\": 1, \"12\": 1}, \"59\": {\"59\": 12}, \"98\": {\"98\": 41, \"89\": 1}, \"82\": {\"82\": 26, \"100\": 1, \"42\": 1}, \"32\": {\"32\": 29, \"51\": 2, \"85\": 1}, \"94\": {\"15\": 5, \"94\": 30, \"30\": 1}, \"125\": {\"125\": 37, \"59\": 1}, \"78\": {\"26\": 1, \"11\": 1, \"78\": 10, \"23\": 2, \"109\": 2}, \"118\": {\"118\": 37, \"109\": 1}, \"129\": {\"45\": 4, \"129\": 7, \"104\": 3, \"119\": 1, \"48\": 2, \"2\": 5, \"102\": 1, \"94\": 1, \"5\": 3, \"13\": 1}, \"91\": {\"52\": 2, \"91\": 21, \"77\": 1, \"98\": 3, \"53\": 1}, \"22\": {\"28\": 2, \"22\": 8, \"30\": 1, \"83\": 1, \"116\": 2, \"66\": 1, \"82\": 1}, \"15\": {\"15\": 24, \"12\": 1, \"94\": 3, \"21\": 2}, \"87\": {\"87\": 22, \"7\": 3, \"43\": 1, \"84\": 10, \"93\": 1, \"122\": 1}, \"66\": {\"66\": 14, \"90\": 1, \"50\": 1}, \"30\": {\"30\": 34, \"94\": 1, \"21\": 2, \"71\": 1}, \"46\": {\"124\": 1, \"17\": 3, \"46\": 3, \"111\": 3, \"86\": 1, \"6\": 1}, \"112\": {\"112\": 14, \"37\": 1, \"52\": 1}, \"28\": {\"28\": 16, \"22\": 1, \"64\": 1, \"50\": 1, \"42\": 1}, \"123\": {\"117\": 2, \"123\": 14}, \"12\": {\"12\": 29, \"34\": 2, \"109\": 1, \"127\": 1, \"21\": 2, \"71\": 2, \"101\": 1, \"106\": 2, \"72\": 2}, \"16\": {\"16\": 26, \"26\": 8, \"18\": 4}, \"36\": {\"36\": 29, \"15\": 2, \"109\": 1}, \"108\": {\"108\": 15, \"109\": 2, \"24\": 6, \"126\": 6, \"96\": 1}, \"29\": {\"29\": 28}, \"116\": {\"66\": 2, \"22\": 5, \"116\": 15, \"2\": 1, \"28\": 2, \"42\": 3, \"102\": 3, \"119\": 1}, \"72\": {\"72\": 30, \"34\": 1, \"101\": 1}, \"26\": {\"16\": 11, \"26\": 21, \"118\": 1, \"18\": 1}, \"17\": {\"46\": 3, \"17\": 6, \"109\": 1, \"112\": 2, \"111\": 2, \"68\": 1, \"66\": 1}, \"43\": {\"43\": 18, \"21\": 1, \"84\": 1, \"122\": 5, \"87\": 6, \"69\": 2, \"76\": 1, \"93\": 4}, \"120\": {\"28\": 3, \"120\": 15, \"38\": 1, \"42\": 1}, \"68\": {\"68\": 16}, \"50\": {\"90\": 1, \"76\": 3, \"62\": 1, \"50\": 9, \"125\": 2}, \"56\": {\"32\": 1, \"37\": 1, \"121\": 2, \"56\": 8}, \"85\": {\"85\": 31, \"71\": 1}, \"10\": {\"10\": 31, \"78\": 1, \"76\": 1, \"43\": 1}, \"3\": {\"3\": 23, \"109\": 1}, \"54\": {\"54\": 12, \"77\": 1, \"83\": 3}, \"9\": {\"89\": 1, \"15\": 2, \"9\": 25, \"27\": 1, \"94\": 1, \"36\": 1, \"21\": 1}, \"7\": {\"7\": 32, \"84\": 1, \"87\": 1}, \"115\": {\"115\": 12}, \"96\": {\"96\": 12, \"126\": 3, \"44\": 1, \"87\": 1, \"63\": 1, \"23\": 2}, \"102\": {\"102\": 29, \"21\": 1}, \"104\": {\"104\": 14, \"25\": 1, \"52\": 1}, \"47\": {\"47\": 12}, \"86\": {\"86\": 26, \"41\": 2, \"4\": 1, \"124\": 2, \"5\": 3, \"88\": 1, \"46\": 1}, \"103\": {\"47\": 2, \"103\": 11, \"6\": 1, \"53\": 2}, \"8\": {\"8\": 35, \"87\": 6, \"84\": 1}, \"14\": {\"14\": 34}, \"39\": {\"39\": 25, \"11\": 1, \"21\": 1, \"113\": 1}, \"57\": {\"57\": 9, \"102\": 1, \"22\": 2}, \"63\": {\"63\": 12, \"123\": 1, \"116\": 2, \"13\": 1}, \"106\": {\"106\": 30, \"75\": 1, \"21\": 2, \"101\": 3}, \"127\": {\"12\": 4, \"127\": 38, \"21\": 2}, \"51\": {\"51\": 16}, \"27\": {\"27\": 31, \"94\": 5, \"97\": 2, \"15\": 2, \"36\": 1, \"30\": 1}, \"5\": {\"5\": 30, \"104\": 1, \"86\": 2, \"83\": 1}, \"4\": {\"4\": 36, \"124\": 1, \"111\": 1}, \"58\": {\"58\": 10, \"112\": 2}, \"44\": {\"44\": 36}, \"121\": {\"121\": 24, \"15\": 1, \"95\": 4, \"66\": 2, \"90\": 1}, \"111\": {\"111\": 34, \"6\": 1, \"89\": 1}, \"60\": {\"14\": 4, \"96\": 1, \"3\": 1, \"35\": 2, \"18\": 2, \"84\": 3, \"43\": 1, \"23\": 1, \"11\": 1}, \"53\": {\"53\": 11, \"6\": 1, \"98\": 4, \"34\": 3, \"52\": 1}, \"62\": {\"74\": 2, \"62\": 39, \"69\": 3}, \"77\": {\"77\": 13, \"98\": 2, \"66\": 1}, \"40\": {\"40\": 31, \"34\": 1, \"105\": 7, \"72\": 1, \"44\": 1, \"12\": 1}, \"84\": {\"84\": 30, \"14\": 1, \"44\": 2, \"39\": 1, \"87\": 5, \"7\": 1}, \"73\": {\"73\": 14, \"19\": 2, \"128\": 1, \"108\": 1, \"109\": 1, \"31\": 1}, \"34\": {\"51\": 1, \"74\": 1, \"60\": 1, \"34\": 3, \"35\": 3, \"98\": 4, \"44\": 1, \"23\": 1, \"14\": 7, \"49\": 1, \"89\": 3, \"87\": 3, \"53\": 3}, \"81\": {\"84\": 3, \"14\": 3, \"81\": 22}, \"67\": {\"67\": 16}, \"70\": {\"70\": 21, \"126\": 1, \"109\": 3, \"108\": 1}, \"113\": {\"113\": 38}, \"75\": {\"75\": 13, \"127\": 2, \"85\": 1}, \"13\": {\"13\": 6, \"63\": 1, \"45\": 1, \"123\": 3, \"117\": 2, \"2\": 2, \"102\": 1}, \"0\": {\"35\": 3, \"0\": 31}, \"114\": {\"114\": 36, \"1\": 2}, \"109\": {\"109\": 38, \"70\": 3, \"126\": 1, \"96\": 1, \"21\": 1}, \"23\": {\"110\": 4, \"23\": 10, \"44\": 2, \"93\": 3, \"101\": 1, \"8\": 1, \"106\": 1, \"21\": 1, \"84\": 1}, \"71\": {\"75\": 2, \"34\": 1, \"71\": 16, \"12\": 11, \"106\": 2}, \"110\": {\"110\": 24, \"127\": 2}, \"25\": {\"128\": 1, \"25\": 8, \"20\": 1, \"99\": 1, \"41\": 1, \"45\": 2, \"22\": 1, \"119\": 1}, \"35\": {\"35\": 12}, \"126\": {\"108\": 3, \"126\": 35}, \"101\": {\"101\": 42, \"23\": 1, \"72\": 1}, \"42\": {\"65\": 1, \"102\": 1, \"29\": 2, \"42\": 10, \"83\": 2, \"64\": 2, \"77\": 1, \"82\": 1, \"2\": 1, \"22\": 1, \"75\": 2, \"116\": 2}, \"64\": {\"64\": 12, \"48\": 1, \"82\": 2, \"129\": 1}, \"33\": {\"33\": 35, \"61\": 1}, \"65\": {\"64\": 3, \"50\": 2, \"65\": 2, \"28\": 2, \"116\": 2, \"117\": 1}, \"69\": {\"69\": 35, \"62\": 1, \"26\": 2}, \"100\": {\"100\": 11, \"99\": 3, \"81\": 1, \"82\": 1}, \"80\": {\"80\": 16}, \"20\": {\"20\": 15, \"60\": 1}, \"18\": {\"18\": 34, \"26\": 2}, \"31\": {\"31\": 16}, \"24\": {\"24\": 29, \"126\": 1, \"88\": 8, \"39\": 1, \"108\": 2, \"109\": 1}, \"95\": {\"95\": 26, \"16\": 2, \"18\": 2, \"90\": 1, \"26\": 1}, \"119\": {\"119\": 12, \"12\": 1, \"2\": 2, \"80\": 1}, \"49\": {\"49\": 11, \"51\": 1, \"9\": 2, \"31\": 1, \"89\": 1, \"97\": 1, \"73\": 1, \"29\": 2}, \"61\": {\"61\": 10, \"6\": 1, \"68\": 1}, \"48\": {\"48\": 12}, \"38\": {\"38\": 14, \"20\": 1, \"74\": 1}, \"93\": {\"23\": 2, \"93\": 25, \"8\": 1, \"87\": 2, \"84\": 1, \"43\": 1}, \"79\": {\"79\": 12}, \"41\": {\"41\": 15, \"98\": 1}, \"83\": {\"41\": 2, \"98\": 1, \"54\": 3, \"83\": 10, \"21\": 1, \"34\": 1, \"101\": 2, \"77\": 1, \"49\": 1, \"72\": 1, \"121\": 1, \"19\": 1, \"113\": 1}, \"122\": {\"122\": 23, \"7\": 1, \"43\": 9, \"87\": 3, \"84\": 1, \"93\": 1}, \"1\": {\"1\": 29, \"34\": 1, \"109\": 1, \"44\": 3}, \"2\": {\"2\": 16, \"63\": 2, \"13\": 1, \"25\": 1, \"21\": 1, \"82\": 3, \"42\": 3, \"119\": 5}, \"107\": {\"107\": 28, \"40\": 2, \"127\": 1, \"85\": 1, \"106\": 1, \"75\": 1}, \"99\": {\"99\": 18, \"82\": 3, \"100\": 1, \"25\": 1, \"1\": 1}}, \"Wisig_2\": {\"67\": {\"67\": 15, \"39\": 1}, \"53\": {\"53\": 8, \"49\": 2, \"3\": 1, \"98\": 1, \"85\": 1, \"1\": 1, \"21\": 1, \"24\": 1}, \"7\": {\"95\": 2, \"7\": 40, \"105\": 2}, \"90\": {\"90\": 49, \"92\": 1}, \"30\": {\"30\": 33, \"90\": 1, \"0\": 10, \"88\": 1, \"36\": 1, \"12\": 2}, \"12\": {\"127\": 14, \"12\": 19, \"122\": 2, \"30\": 1, \"71\": 1, \"23\": 1, \"21\": 2, \"56\": 1, \"8\": 2, \"110\": 1}, \"16\": {\"16\": 27, \"87\": 2, \"96\": 3, \"93\": 7, \"21\": 4, \"69\": 1, \"109\": 1, \"23\": 1}, \"71\": {\"71\": 37, \"21\": 2, \"114\": 2, \"12\": 1, \"1\": 1, \"88\": 2, \"3\": 1}, \"96\": {\"16\": 3, \"96\": 13, \"60\": 1, \"93\": 3}, \"95\": {\"95\": 26, \"12\": 1, \"32\": 1, \"40\": 4, \"127\": 2}, \"27\": {\"27\": 29, \"109\": 2, \"36\": 16, \"21\": 3, \"24\": 3, \"108\": 1}, \"86\": {\"86\": 25, \"129\": 3, \"111\": 2, \"52\": 1, \"124\": 1}, \"32\": {\"14\": 2, \"32\": 29, \"3\": 1, \"110\": 2, \"107\": 1, \"40\": 1}, \"42\": {\"42\": 18, \"111\": 1, \"129\": 1, \"103\": 2, \"17\": 1, \"46\": 1, \"124\": 1, \"88\": 1, \"5\": 2}, \"14\": {\"14\": 15, \"21\": 5, \"109\": 2, \"84\": 2, \"43\": 3, \"107\": 1, \"122\": 1, \"3\": 1, \"32\": 4, \"110\": 2, \"60\": 2}, \"74\": {\"74\": 16}, \"97\": {\"97\": 11, \"30\": 4, \"101\": 3, \"15\": 2}, \"69\": {\"69\": 34, \"72\": 4, \"84\": 5, \"16\": 1, \"26\": 3, \"21\": 1}, \"25\": {\"25\": 15, \"79\": 1}, \"48\": {\"67\": 1, \"48\": 14, \"115\": 1, \"13\": 1, \"80\": 2, \"46\": 1}, \"73\": {\"53\": 1, \"5\": 1, \"19\": 4, \"73\": 18, \"112\": 1, \"98\": 1, \"34\": 2}, \"119\": {\"119\": 16, \"90\": 1, \"82\": 1, \"102\": 1, \"100\": 1}, \"51\": {\"58\": 2, \"51\": 14, \"65\": 1, \"52\": 1, \"117\": 1, \"75\": 1}, \"52\": {\"32\": 1, \"91\": 1, \"52\": 10, \"68\": 4, \"41\": 1, \"51\": 1, \"29\": 2}, \"35\": {\"35\": 12}, \"120\": {\"120\": 19, \"121\": 1}, \"8\": {\"8\": 29, \"122\": 13, \"12\": 1, \"110\": 2, \"26\": 1}, \"61\": {\"61\": 15, \"40\": 1, \"38\": 1, \"84\": 2, \"21\": 1}, \"59\": {\"59\": 9, \"21\": 2, \"103\": 1, \"79\": 2, \"86\": 1, \"111\": 1}, \"115\": {\"115\": 8, \"39\": 1, \"21\": 1, \"88\": 2}, \"127\": {\"127\": 29, \"12\": 4, \"97\": 1}, \"31\": {\"31\": 19, \"89\": 1}, \"33\": {\"33\": 41, \"84\": 1}, \"124\": {\"73\": 1, \"124\": 35, \"27\": 1, \"52\": 1}, \"58\": {\"58\": 18, \"103\": 2}, \"89\": {\"92\": 6, \"89\": 23, \"90\": 2, \"31\": 1, \"82\": 1, \"96\": 1, \"72\": 1, \"69\": 1}, \"62\": {\"62\": 32, \"39\": 1, \"105\": 3, \"21\": 2}, \"91\": {\"91\": 17, \"77\": 2, \"68\": 2, \"52\": 2, \"103\": 3, \"89\": 1, \"124\": 1}, \"104\": {\"104\": 10, \"109\": 1, \"21\": 2, \"28\": 3, \"54\": 2, \"17\": 1, \"68\": 1}, \"64\": {\"64\": 15, \"40\": 1}, \"63\": {\"63\": 20}, \"5\": {\"5\": 34, \"112\": 1, \"129\": 3, \"73\": 2, \"88\": 1, \"85\": 1, \"21\": 1, \"122\": 1}, \"92\": {\"33\": 2, \"89\": 3, \"38\": 3, \"92\": 13, \"84\": 1, \"76\": 3, \"31\": 1, \"82\": 2}, \"2\": {\"2\": 11, \"48\": 1, \"102\": 5, \"81\": 1, \"120\": 2, \"121\": 2, \"117\": 3, \"65\": 2, \"13\": 4, \"57\": 1}, \"109\": {\"87\": 1, \"70\": 4, \"39\": 7, \"109\": 23, \"78\": 9, \"118\": 1, \"88\": 1}, \"118\": {\"62\": 6, \"118\": 31, \"21\": 3, \"84\": 3, \"43\": 1, \"16\": 3, \"60\": 1}, \"34\": {\"34\": 17, \"51\": 1, \"32\": 2, \"72\": 1, \"75\": 1, \"127\": 1, \"106\": 3, \"15\": 1, \"29\": 2, \"54\": 1, \"128\": 1, \"12\": 1}, \"55\": {\"61\": 1, \"55\": 13, \"50\": 1, \"92\": 1}, \"11\": {\"11\": 38, \"108\": 1, \"43\": 1, \"8\": 3, \"53\": 1, \"1\": 1, \"88\": 1}, \"70\": {\"70\": 25, \"87\": 1, \"39\": 9, \"43\": 1, \"109\": 5, \"60\": 1, \"78\": 7, \"88\": 2, \"16\": 1, \"14\": 1, \"93\": 1}, \"98\": {\"98\": 46, \"41\": 2, \"34\": 1, \"85\": 1}, \"20\": {\"20\": 13, \"26\": 2, \"72\": 1}, \"49\": {\"25\": 1, \"109\": 1, \"34\": 4, \"106\": 2, \"98\": 2, \"49\": 5, \"128\": 2, \"29\": 3, \"94\": 1, \"108\": 2, \"71\": 1}, \"28\": {\"28\": 17, \"56\": 1, \"114\": 1, \"66\": 1}, \"22\": {\"22\": 19, \"116\": 1}, \"87\": {\"16\": 3, \"96\": 1, \"93\": 12, \"87\": 24, \"109\": 1, \"21\": 2, \"26\": 2, \"39\": 1, \"70\": 2}, \"45\": {\"45\": 10, \"46\": 1, \"89\": 1, \"47\": 1, \"19\": 1, \"71\": 1, \"100\": 1}, \"57\": {\"57\": 18, \"89\": 1, \"92\": 1}, \"72\": {\"72\": 18, \"96\": 1, \"33\": 2, \"39\": 1, \"82\": 1, \"31\": 1, \"69\": 1, \"16\": 3}, \"77\": {\"77\": 12, \"58\": 2, \"51\": 1, \"88\": 1}, \"113\": {\"113\": 37, \"90\": 1}, \"6\": {\"91\": 1, \"6\": 28, \"25\": 1, \"111\": 2}, \"26\": {\"26\": 42, \"18\": 4, \"69\": 2, \"21\": 1, \"16\": 1, \"72\": 2, \"23\": 2}, \"44\": {\"44\": 35, \"83\": 3, \"21\": 2, \"82\": 2}, \"46\": {\"46\": 14, \"21\": 1, \"80\": 1}, \"65\": {\"65\": 18, \"39\": 1, \"21\": 1}, \"84\": {\"84\": 38, \"62\": 2, \"23\": 1, \"117\": 1, \"43\": 1, \"88\": 1}, \"39\": {\"39\": 26, \"109\": 6, \"21\": 3, \"88\": 1, \"78\": 1, \"117\": 1, \"70\": 1, \"26\": 1}, \"82\": {\"82\": 27, \"100\": 4, \"83\": 3, \"38\": 1, \"21\": 1}, \"108\": {\"108\": 33, \"94\": 1}, \"21\": {\"21\": 43, \"27\": 1, \"88\": 1, \"70\": 1}, \"29\": {\"29\": 28, \"49\": 1, \"106\": 1, \"98\": 2}, \"13\": {\"102\": 3, \"13\": 11, \"48\": 1, \"88\": 1}, \"17\": {\"17\": 3, \"21\": 2, \"104\": 3, \"39\": 1, \"86\": 3, \"4\": 1, \"42\": 1, \"91\": 2}, \"88\": {\"88\": 26, \"70\": 2, \"126\": 5, \"40\": 1, \"87\": 1, \"21\": 3, \"39\": 2}, \"1\": {\"1\": 29, \"33\": 3, \"71\": 1, \"109\": 1, \"21\": 1, \"114\": 2, \"8\": 1}, \"112\": {\"73\": 1, \"112\": 8, \"129\": 3, \"19\": 1, \"85\": 1, \"41\": 1, \"98\": 1}, \"24\": {\"24\": 25, \"27\": 5, \"36\": 2, \"126\": 7, \"21\": 1, \"78\": 1, \"70\": 1}, \"102\": {\"102\": 48}, \"66\": {\"66\": 13, \"37\": 1, \"28\": 1, \"88\": 2, \"64\": 2, \"61\": 1}, \"114\": {\"114\": 38, \"21\": 1, \"71\": 4, \"97\": 1}, \"40\": {\"95\": 5, \"40\": 32, \"14\": 1, \"88\": 1, \"122\": 1, \"103\": 1, \"12\": 1, \"7\": 1, \"56\": 1}, \"4\": {\"4\": 47, \"21\": 1, \"111\": 1, \"124\": 1}, \"100\": {\"72\": 1, \"44\": 1, \"100\": 10, \"6\": 1, \"83\": 2, \"79\": 1}, \"129\": {\"112\": 5, \"129\": 21, \"46\": 2, \"124\": 1, \"25\": 1, \"85\": 1, \"4\": 1}, \"19\": {\"19\": 27, \"11\": 1}, \"81\": {\"81\": 17, \"32\": 1, \"18\": 2, \"111\": 1, \"99\": 1, \"63\": 1, \"34\": 1}, \"125\": {\"125\": 37, \"90\": 1}, \"93\": {\"93\": 37, \"87\": 3, \"72\": 1, \"16\": 9, \"43\": 2}, \"101\": {\"101\": 42, \"30\": 1, \"90\": 1}, \"3\": {\"3\": 36, \"122\": 2, \"60\": 1, \"88\": 1, \"71\": 1, \"30\": 1}, \"56\": {\"56\": 11, \"114\": 1}, \"126\": {\"126\": 38, \"70\": 2, \"87\": 1, \"24\": 1, \"88\": 2}, \"38\": {\"38\": 16}, \"105\": {\"105\": 39, \"7\": 1, \"78\": 2, \"21\": 1, \"62\": 1, \"110\": 2}, \"41\": {\"29\": 3, \"41\": 11, \"98\": 2, \"17\": 1, \"42\": 1, \"59\": 1, \"77\": 1}, \"106\": {\"106\": 37, \"97\": 1, \"109\": 1, \"91\": 1, \"34\": 2, \"21\": 1, \"15\": 1}, \"76\": {\"76\": 10, \"92\": 2, \"33\": 1, \"89\": 2, \"61\": 1}, \"36\": {\"27\": 11, \"21\": 4, \"36\": 34, \"94\": 3, \"78\": 1, \"15\": 1, \"108\": 1, \"8\": 1}, \"78\": {\"70\": 5, \"24\": 1, \"39\": 4, \"109\": 7, \"78\": 15, \"11\": 1, \"14\": 1, \"88\": 2}, \"99\": {\"99\": 28, \"83\": 1, \"39\": 1, \"21\": 1, \"90\": 1}, \"0\": {\"0\": 27, \"97\": 2, \"101\": 1, \"12\": 1, \"30\": 3}, \"107\": {\"107\": 31, \"88\": 1, \"32\": 4}, \"111\": {\"111\": 37, \"25\": 1, \"103\": 1, \"79\": 1}, \"68\": {\"68\": 13, \"88\": 1, \"52\": 2}, \"60\": {\"60\": 17, \"14\": 1, \"32\": 2, \"93\": 2, \"23\": 4, \"43\": 1, \"33\": 1}, \"15\": {\"94\": 4, \"15\": 35, \"21\": 2, \"0\": 1}, \"50\": {\"21\": 2, \"50\": 11, \"55\": 2, \"84\": 1}, \"79\": {\"79\": 14, \"59\": 1, \"25\": 1}, \"94\": {\"94\": 24, \"15\": 4, \"39\": 1, \"21\": 4, \"36\": 1, \"82\": 1, \"11\": 1, \"88\": 1, \"8\": 1}, \"128\": {\"128\": 8, \"29\": 7, \"1\": 2, \"71\": 1, \"101\": 1, \"53\": 1, \"44\": 1, \"114\": 1, \"19\": 1, \"34\": 1}, \"103\": {\"103\": 10, \"91\": 2, \"77\": 1, \"41\": 1, \"68\": 1, \"9\": 1}, \"47\": {\"47\": 4, \"77\": 1, \"27\": 1, \"19\": 2, \"53\": 1, \"52\": 1, \"128\": 1, \"34\": 1}, \"37\": {\"37\": 14, \"114\": 1, \"45\": 1}, \"85\": {\"129\": 1, \"112\": 2, \"85\": 17, \"73\": 4, \"29\": 1, \"5\": 1, \"21\": 3, \"98\": 1, \"34\": 1, \"49\": 1}, \"121\": {\"121\": 33, \"120\": 3}, \"54\": {\"54\": 17, \"127\": 1, \"91\": 1, \"114\": 1}, \"18\": {\"18\": 35, \"23\": 3, \"69\": 2, \"72\": 1, \"21\": 1}, \"116\": {\"116\": 19, \"90\": 1, \"102\": 2, \"80\": 3, \"82\": 1, \"21\": 1, \"119\": 1}, \"122\": {\"122\": 18, \"110\": 8, \"12\": 2, \"8\": 8, \"11\": 3, \"21\": 1, \"60\": 1, \"43\": 1}, \"117\": {\"117\": 42, \"21\": 1, \"65\": 1}, \"10\": {\"10\": 32, \"21\": 1, \"118\": 3, \"62\": 1, \"14\": 1, \"122\": 1, \"7\": 1}, \"123\": {\"123\": 14, \"45\": 1, \"81\": 1}, \"43\": {\"43\": 22, \"122\": 3, \"87\": 4, \"118\": 1, \"21\": 1, \"84\": 1, \"93\": 1, \"110\": 3, \"16\": 5, \"36\": 1}, \"83\": {\"83\": 28, \"93\": 1, \"44\": 5, \"90\": 1, \"96\": 1, \"100\": 3, \"16\": 1}, \"23\": {\"110\": 6, \"18\": 4, \"26\": 2, \"113\": 9, \"105\": 1, \"11\": 1, \"122\": 6, \"20\": 2, \"23\": 4, \"8\": 1, \"12\": 1, \"90\": 1}, \"80\": {\"80\": 15, \"102\": 1}, \"110\": {\"110\": 22, \"122\": 5, \"102\": 1, \"9\": 1, \"101\": 1, \"43\": 2, \"58\": 1, \"36\": 1}, \"75\": {\"75\": 13, \"106\": 1, \"51\": 2}, \"9\": {\"9\": 30, \"106\": 1, \"109\": 1}}, \"Wisig_3\": {\"96\": {\"96\": 19, \"11\": 1}, \"11\": {\"11\": 33, \"43\": 6, \"96\": 3, \"93\": 5, \"113\": 1}, \"87\": {\"87\": 29, \"122\": 3, \"60\": 2, \"14\": 1, \"110\": 1}, \"128\": {\"128\": 16, \"1\": 3, \"34\": 2, \"53\": 1, \"72\": 3, \"98\": 1, \"95\": 1, \"114\": 2, \"56\": 1, \"65\": 1, \"15\": 1}, \"56\": {\"56\": 8, \"51\": 1, \"47\": 1, \"95\": 1, \"128\": 1}, \"39\": {\"39\": 38, \"126\": 6}, \"58\": {\"58\": 9, \"75\": 1, \"6\": 1, \"37\": 1, \"124\": 1, \"54\": 1, \"111\": 1, \"68\": 1}, \"15\": {\"15\": 23, \"12\": 1, \"106\": 3, \"97\": 4, \"94\": 6, \"30\": 1}, \"70\": {\"30\": 1, \"70\": 31, \"21\": 2, \"39\": 1, \"24\": 1, \"78\": 2}, \"103\": {\"19\": 2, \"100\": 1, \"103\": 10, \"86\": 1, \"120\": 1, \"5\": 1}, \"77\": {\"77\": 13, \"91\": 3}, \"85\": {\"85\": 25, \"112\": 1, \"98\": 3, \"83\": 3}, \"59\": {\"59\": 10, \"42\": 1, \"15\": 1}, \"28\": {\"28\": 12, \"32\": 3, \"21\": 1}, \"118\": {\"118\": 34, \"109\": 3, \"113\": 2, \"43\": 1}, \"25\": {\"25\": 16}, \"93\": {\"93\": 39, \"16\": 2, \"11\": 1}, \"102\": {\"102\": 35, \"117\": 1}, \"33\": {\"33\": 39, \"92\": 1, \"21\": 1, \"28\": 1}, \"84\": {\"74\": 1, \"87\": 1, \"84\": 28, \"14\": 2, \"21\": 1, \"121\": 1}, \"119\": {\"119\": 12, \"125\": 1, \"80\": 1, \"79\": 2}, \"64\": {\"64\": 19, \"120\": 1}, \"100\": {\"100\": 14, \"82\": 1, \"44\": 1}, \"27\": {\"27\": 19, \"24\": 13, \"36\": 3, \"108\": 1}, \"107\": {\"107\": 34}, \"76\": {\"76\": 12, \"50\": 1, \"57\": 2, \"81\": 1}, \"12\": {\"12\": 45, \"47\": 1, \"30\": 2}, \"31\": {\"31\": 15, \"29\": 4, \"44\": 1}, \"44\": {\"44\": 39, \"33\": 2, \"92\": 1}, \"48\": {\"77\": 2, \"91\": 1, \"115\": 1, \"19\": 3, \"48\": 1, \"119\": 2, \"80\": 1, \"67\": 1, \"46\": 1, \"56\": 1, \"116\": 1, \"2\": 1}, \"115\": {\"115\": 11, \"30\": 1, \"5\": 2, \"100\": 1, \"89\": 1}, \"0\": {\"0\": 39, \"101\": 1}, \"116\": {\"116\": 16, \"90\": 2, \"17\": 1, \"64\": 3, \"89\": 2, \"2\": 2}, \"24\": {\"24\": 21, \"36\": 5, \"27\": 11, \"108\": 1, \"70\": 2}, \"81\": {\"81\": 32}, \"122\": {\"122\": 22, \"110\": 8, \"87\": 3, \"60\": 1, \"70\": 2, \"14\": 1, \"21\": 1}, \"19\": {\"19\": 13, \"27\": 1, \"32\": 1, \"100\": 4, \"53\": 1, \"98\": 3, \"20\": 1, \"36\": 1, \"103\": 2, \"83\": 1, \"128\": 1, \"114\": 2, \"1\": 1}, \"90\": {\"90\": 34, \"92\": 1, \"82\": 1}, \"22\": {\"22\": 16}, \"16\": {\"16\": 30, \"93\": 2, \"14\": 1, \"69\": 1, \"87\": 1, \"122\": 1, \"88\": 1, \"118\": 1}, \"68\": {\"68\": 14, \"25\": 1, \"124\": 1}, \"18\": {\"18\": 46, \"113\": 4}, \"120\": {\"64\": 3, \"102\": 1, \"120\": 11, \"121\": 2, \"2\": 1, \"89\": 1, \"67\": 1}, \"127\": {\"127\": 38, \"126\": 1, \"21\": 2, \"105\": 3}, \"35\": {\"35\": 12}, \"45\": {\"45\": 9, \"115\": 1, \"129\": 1, \"82\": 1, \"48\": 1, \"70\": 1, \"53\": 1, \"116\": 1}, \"30\": {\"30\": 28, \"8\": 6, \"3\": 2, \"97\": 1, \"33\": 1, \"110\": 1, \"88\": 1}, \"67\": {\"67\": 13, \"102\": 1, \"2\": 1, \"70\": 1}, \"129\": {\"85\": 1, \"129\": 29, \"29\": 1, \"115\": 1}, \"105\": {\"105\": 38, \"127\": 1, \"40\": 1, \"99\": 1, \"107\": 1}, \"74\": {\"74\": 11, \"57\": 3, \"84\": 1, \"120\": 1}, \"125\": {\"125\": 34}, \"37\": {\"37\": 12, \"75\": 1, \"58\": 3}, \"91\": {\"77\": 2, \"41\": 2, \"91\": 15, \"98\": 1, \"52\": 1, \"48\": 2, \"58\": 1}, \"123\": {\"123\": 15, \"67\": 1}, \"7\": {\"7\": 32}, \"75\": {\"75\": 14, \"37\": 1, \"106\": 1}, \"83\": {\"83\": 20, \"36\": 2, \"24\": 2}, \"94\": {\"94\": 25, \"30\": 3, \"97\": 3, \"15\": 4, \"70\": 1}, \"104\": {\"104\": 13, \"41\": 2, \"66\": 1}, \"92\": {\"92\": 29, \"90\": 2, \"126\": 1}, \"29\": {\"29\": 32}, \"82\": {\"82\": 27, \"26\": 1}, \"113\": {\"113\": 35, \"6\": 1, \"26\": 1, \"43\": 4, \"21\": 1, \"126\": 1, \"109\": 1}, \"6\": {\"42\": 1, \"6\": 27, \"54\": 2, \"124\": 1, \"111\": 1}, \"32\": {\"57\": 3, \"14\": 3, \"28\": 3, \"32\": 16, \"107\": 2, \"1\": 3, \"82\": 1, \"33\": 1}, \"79\": {\"79\": 11, \"5\": 1}, \"36\": {\"36\": 22, \"24\": 5, \"27\": 5, \"108\": 1, \"70\": 1}, \"98\": {\"98\": 35, \"106\": 1}, \"1\": {\"1\": 26, \"114\": 6, \"61\": 1, \"117\": 1}, \"14\": {\"14\": 35, \"107\": 1, \"34\": 1, \"84\": 3, \"60\": 1, \"32\": 1}, \"66\": {\"66\": 12, \"38\": 1, \"95\": 1, \"86\": 1, \"65\": 1}, \"117\": {\"117\": 34, \"63\": 1, \"2\": 1}, \"17\": {\"88\": 2, \"17\": 1, \"1\": 1, \"102\": 1, \"21\": 3, \"111\": 2, \"70\": 2, \"104\": 1, \"126\": 2, \"80\": 1}, \"49\": {\"93\": 2, \"8\": 2, \"44\": 1, \"49\": 9, \"31\": 2, \"97\": 1, \"19\": 1, \"47\": 1, \"23\": 1, \"59\": 1, \"60\": 1, \"3\": 1, \"110\": 1}, \"46\": {\"128\": 1, \"46\": 15}, \"111\": {\"111\": 33, \"124\": 1}, \"78\": {\"88\": 3, \"70\": 3, \"78\": 8, \"21\": 1, \"39\": 1}, \"26\": {\"26\": 38, \"18\": 2, \"43\": 1, \"88\": 1}, \"42\": {\"42\": 11, \"124\": 5, \"85\": 3, \"129\": 3, \"6\": 2, \"83\": 1, \"86\": 1, \"111\": 1, \"59\": 1}, \"10\": {\"10\": 43, \"0\": 2, \"110\": 1}, \"9\": {\"9\": 24, \"99\": 3, \"90\": 2, \"3\": 1}, \"55\": {\"55\": 14, \"128\": 1, \"9\": 1}, \"38\": {\"38\": 15, \"9\": 1}, \"63\": {\"63\": 16}, \"106\": {\"106\": 34, \"94\": 2, \"15\": 3, \"95\": 1}, \"88\": {\"39\": 4, \"88\": 14, \"21\": 9, \"70\": 7, \"108\": 2}, \"3\": {\"3\": 29, \"114\": 1, \"40\": 1, \"127\": 4, \"71\": 4, \"34\": 1}, \"99\": {\"9\": 2, \"105\": 3, \"127\": 2, \"99\": 29}, \"57\": {\"105\": 1, \"57\": 18, \"74\": 1}, \"8\": {\"8\": 34, \"49\": 4, \"12\": 1, \"70\": 1, \"94\": 2}, \"86\": {\"86\": 22, \"19\": 1, \"5\": 4, \"46\": 1}, \"126\": {\"126\": 43, \"39\": 1}, \"5\": {\"5\": 35, \"88\": 1}, \"62\": {\"62\": 42}, \"89\": {\"64\": 1, \"89\": 22, \"120\": 1, \"76\": 1, \"92\": 2, \"90\": 1}, \"112\": {\"112\": 9, \"42\": 1, \"6\": 1, \"124\": 1, \"70\": 1, \"85\": 2, \"83\": 1}, \"61\": {\"61\": 16}, \"13\": {\"64\": 1, \"63\": 1, \"13\": 6, \"120\": 1, \"80\": 1, \"102\": 3, \"93\": 1, \"70\": 1, \"2\": 1}, \"2\": {\"13\": 3, \"2\": 15, \"121\": 4, \"117\": 2, \"120\": 1, \"64\": 1, \"102\": 1, \"116\": 1}, \"50\": {\"50\": 15, \"100\": 1}, \"21\": {\"1\": 1, \"126\": 1, \"21\": 29, \"125\": 1, \"39\": 2, \"94\": 1, \"88\": 5, \"59\": 1, \"75\": 1, \"70\": 1, \"78\": 1}, \"73\": {\"73\": 34, \"91\": 1, \"85\": 1, \"124\": 1, \"98\": 1}, \"72\": {\"72\": 25, \"51\": 1, \"101\": 1, \"12\": 1}, \"43\": {\"11\": 4, \"43\": 19, \"113\": 9, \"109\": 1, \"21\": 1, \"118\": 3, \"88\": 1, \"84\": 1, \"93\": 1}, \"110\": {\"110\": 26, \"122\": 7, \"87\": 1, \"60\": 5, \"21\": 1}, \"95\": {\"95\": 30}, \"34\": {\"14\": 4, \"107\": 4, \"75\": 5, \"34\": 4, \"110\": 2, \"72\": 1, \"32\": 4, \"51\": 1, \"106\": 2, \"60\": 1, \"15\": 2, \"84\": 1, \"97\": 1}, \"41\": {\"41\": 11, \"120\": 1, \"91\": 2, \"106\": 1, \"73\": 1}, \"124\": {\"124\": 35, \"73\": 4, \"111\": 1, \"92\": 1, \"42\": 1}, \"114\": {\"3\": 2, \"71\": 2, \"114\": 29, \"1\": 5, \"21\": 1, \"128\": 1, \"60\": 2}, \"65\": {\"65\": 11, \"34\": 1}, \"121\": {\"121\": 28, \"18\": 1, \"92\": 3}, \"71\": {\"71\": 30, \"1\": 2, \"3\": 7, \"15\": 1}, \"53\": {\"53\": 17, \"1\": 1, \"20\": 1, \"46\": 1}, \"52\": {\"52\": 13, \"73\": 1, \"98\": 1, \"124\": 1}, \"40\": {\"40\": 26, \"105\": 4, \"60\": 1, \"99\": 1}, \"80\": {\"13\": 1, \"80\": 10, \"120\": 1, \"119\": 1, \"18\": 1, \"126\": 1, \"121\": 1}, \"109\": {\"109\": 32, \"113\": 2, \"118\": 2}, \"97\": {\"97\": 5, \"94\": 4, \"15\": 5, \"47\": 2, \"101\": 1, \"8\": 1, \"124\": 1, \"106\": 1}, \"20\": {\"20\": 9, \"53\": 3, \"31\": 1, \"122\": 1, \"114\": 1, \"29\": 1}, \"101\": {\"101\": 25, \"39\": 1, \"24\": 1, \"0\": 6, \"51\": 2, \"12\": 2, \"127\": 1, \"65\": 2, \"35\": 1, \"70\": 1}, \"23\": {\"110\": 3, \"81\": 4, \"23\": 3, \"18\": 3, \"8\": 3, \"113\": 8, \"122\": 1, \"12\": 2, \"127\": 1}, \"4\": {\"4\": 37, \"124\": 1}, \"54\": {\"54\": 14, \"21\": 1, \"75\": 1}, \"108\": {\"108\": 26, \"97\": 1, \"24\": 1, \"49\": 2, \"30\": 1, \"8\": 1}, \"69\": {\"69\": 30, \"33\": 3, \"70\": 1}, \"47\": {\"47\": 12}, \"51\": {\"51\": 13, \"56\": 1, \"58\": 1, \"91\": 1}, \"60\": {\"122\": 3, \"60\": 15, \"110\": 6, \"1\": 1, \"8\": 1}}}, \"per_domain_accuracy\": {\"CORES_5\": {\"accuracy\": 0.9939655172413793, \"source?\": true}, \"CORES_1\": {\"accuracy\": 0.9985632183908046, \"source?\": true}, \"CORES_3\": {\"accuracy\": 0.9989224137931034, \"source?\": true}, \"CORES_4\": {\"accuracy\": 0.9956896551724138, \"source?\": true}, \"CORES_2\": {\"accuracy\": 0.9974137931034482, \"source?\": true}, \"Wisig_4\": {\"accuracy\": 0.6946607341490545, \"source?\": false}, \"Wisig_1\": {\"accuracy\": 0.7839080459770115, \"source?\": false}, \"Wisig_2\": {\"accuracy\": 0.7364532019704434, \"source?\": false}, \"Wisig_3\": {\"accuracy\": 0.7782866379310345, \"source?\": false}}}, \"history\": {\"epoch_indices\": [1, 2, 3], \"train_label_loss\": [0.3432526893521051, 0.03217866330654984, 0.015522618938825807], \"source_val_label_loss\": [0.04754994809627533, 0.026330988854169846, 0.017102476209402084], \"target_val_label_loss\": [2.2948248386383057, 3.8612520694732666, 3.6972577571868896], \"source_val_acc_label\": [0.9937140804597702, 0.9960488505747126, 0.9969468390804598], \"target_val_acc_label\": [0.6726158405172413, 0.7205684267241379, 0.7479121767241379]}, \"dataset_metrics\": {\"source\": {\"train\": {\"n_unique_x\": 75765, \"n_unique_y\": 58, \"n_batch/episode\": 351}, \"val\": {\"n_unique_x\": 11798, \"n_unique_y\": 58, \"n_batch/episode\": 48}, \"test\": {\"n_unique_x\": 12331, \"n_unique_y\": 58, \"n_batch/episode\": 50}}, \"target\": {\"train\": {\"n_unique_x\": 142512, \"n_unique_y\": 130, \"n_batch/episode\": 924}, \"val\": {\"n_unique_x\": 26024, \"n_unique_y\": 130, \"n_batch/episode\": 128}, \"test\": {\"n_unique_x\": 26933, \"n_unique_y\": 130, \"n_batch/episode\": 133}}}}'"
      ]
     },
     "execution_count": 29,
     "metadata": {},
     "output_type": "execute_result"
    }
   ],
   "source": [
    "json.dumps(experiment)"
   ]
  }
 ],
 "metadata": {
  "celltoolbar": "Tags",
  "kernelspec": {
   "display_name": "Python 3 (ipykernel)",
   "language": "python",
   "name": "python3"
  },
  "language_info": {
   "codemirror_mode": {
    "name": "ipython",
    "version": 3
   },
   "file_extension": ".py",
   "mimetype": "text/x-python",
   "name": "python",
   "nbconvert_exporter": "python",
   "pygments_lexer": "ipython3",
   "version": "3.8.12"
  },
  "papermill": {
   "default_parameters": {},
   "duration": 207.182741,
   "end_time": "2022-03-21T03:40:40.205016",
   "environment_variables": {},
   "exception": null,
   "input_path": "/root/csc500-main/csc500-notebooks/templates/tl_ptn_template.ipynb",
   "output_path": "trial.ipynb",
   "parameters": {
    "parameters": {
     "BEST_MODEL_PATH": "./best_model.pth",
     "NUM_LOGS_PER_EPOCH": 10,
     "criteria_for_best": "target_accuracy",
     "dataset_seed": 7,
     "datasets": [
      {
       "domain_prefix": "CORES_",
       "domains": [
        1,
        2,
        3,
        4,
        5
       ],
       "episode_transforms": [],
       "labels": [
        "1-10.",
        "1-11.",
        "1-15.",
        "1-16.",
        "1-17.",
        "1-18.",
        "1-19.",
        "10-4.",
        "10-7.",
        "11-1.",
        "11-14.",
        "11-17.",
        "11-20.",
        "11-7.",
        "13-20.",
        "13-8.",
        "14-10.",
        "14-11.",
        "14-14.",
        "14-7.",
        "15-1.",
        "15-20.",
        "16-1.",
        "16-16.",
        "17-10.",
        "17-11.",
        "17-2.",
        "19-1.",
        "19-16.",
        "19-19.",
        "19-20.",
        "19-3.",
        "2-10.",
        "2-11.",
        "2-17.",
        "2-18.",
        "2-20.",
        "2-3.",
        "2-4.",
        "2-5.",
        "2-6.",
        "2-7.",
        "2-8.",
        "3-13.",
        "3-18.",
        "3-3.",
        "4-1.",
        "4-10.",
        "4-11.",
        "4-19.",
        "5-5.",
        "6-15.",
        "7-10.",
        "7-14.",
        "8-18.",
        "8-20.",
        "8-3.",
        "8-8."
       ],
       "num_examples_per_domain_per_label": -1,
       "pickle_path": "/root/csc500-main/datasets/cores.stratified_ds.2022A.pkl",
       "source_or_target_dataset": "source",
       "x_transforms": []
      },
      {
       "domain_prefix": "Wisig_",
       "domains": [
        1,
        2,
        3,
        4
       ],
       "episode_transforms": [],
       "labels": [
        "1-10",
        "1-12",
        "1-14",
        "1-16",
        "1-18",
        "1-19",
        "1-8",
        "10-11",
        "10-17",
        "10-4",
        "10-7",
        "11-1",
        "11-10",
        "11-19",
        "11-20",
        "11-4",
        "11-7",
        "12-19",
        "12-20",
        "12-7",
        "13-14",
        "13-18",
        "13-19",
        "13-20",
        "13-3",
        "13-7",
        "14-10",
        "14-11",
        "14-12",
        "14-13",
        "14-14",
        "14-19",
        "14-20",
        "14-7",
        "14-8",
        "14-9",
        "15-1",
        "15-19",
        "15-6",
        "16-1",
        "16-16",
        "16-19",
        "16-20",
        "17-10",
        "17-11",
        "18-1",
        "18-10",
        "18-11",
        "18-12",
        "18-13",
        "18-14",
        "18-15",
        "18-16",
        "18-17",
        "18-19",
        "18-2",
        "18-20",
        "18-4",
        "18-5",
        "18-7",
        "18-8",
        "18-9",
        "19-1",
        "19-10",
        "19-11",
        "19-12",
        "19-13",
        "19-14",
        "19-15",
        "19-19",
        "19-2",
        "19-20",
        "19-3",
        "19-4",
        "19-6",
        "19-7",
        "19-8",
        "19-9",
        "2-1",
        "2-13",
        "2-15",
        "2-3",
        "2-4",
        "2-5",
        "2-6",
        "2-7",
        "2-8",
        "20-1",
        "20-12",
        "20-14",
        "20-15",
        "20-16",
        "20-18",
        "20-19",
        "20-20",
        "20-3",
        "20-4",
        "20-5",
        "20-7",
        "20-8",
        "3-1",
        "3-13",
        "3-18",
        "3-2",
        "3-8",
        "4-1",
        "4-10",
        "4-11",
        "5-1",
        "5-5",
        "6-1",
        "6-15",
        "6-6",
        "7-10",
        "7-11",
        "7-12",
        "7-13",
        "7-14",
        "7-7",
        "7-8",
        "7-9",
        "8-1",
        "8-13",
        "8-14",
        "8-18",
        "8-20",
        "8-3",
        "8-8",
        "9-1",
        "9-7"
       ],
       "num_examples_per_domain_per_label": -1,
       "pickle_path": "/root/csc500-main/datasets/wisig.node3-19.stratified_ds.2022A.pkl",
       "source_or_target_dataset": "target",
       "x_transforms": []
      }
     ],
     "device": "cuda",
     "experiment_name": "tl_1v2:cores-wisig",
     "lr": 0.0001,
     "n_epoch": 3,
     "n_query": 2,
     "n_shot": 3,
     "n_way": 58,
     "patience": 3,
     "seed": 7,
     "test_k_factor": 2,
     "torch_default_dtype": "torch.float32",
     "train_k_factor": 3,
     "val_k_factor": 2,
     "x_net": [
      {
       "class": "nnReshape",
       "kargs": {
        "shape": [
         -1,
         1,
         2,
         256
        ]
       }
      },
      {
       "class": "Conv2d",
       "kargs": {
        "bias": false,
        "in_channels": 1,
        "kernel_size": [
         1,
         7
        ],
        "out_channels": 256,
        "padding": [
         0,
         3
        ]
       }
      },
      {
       "class": "ReLU",
       "kargs": {
        "inplace": true
       }
      },
      {
       "class": "BatchNorm2d",
       "kargs": {
        "num_features": 256
       }
      },
      {
       "class": "Conv2d",
       "kargs": {
        "bias": true,
        "in_channels": 256,
        "kernel_size": [
         2,
         7
        ],
        "out_channels": 80,
        "padding": [
         0,
         3
        ]
       }
      },
      {
       "class": "ReLU",
       "kargs": {
        "inplace": true
       }
      },
      {
       "class": "BatchNorm2d",
       "kargs": {
        "num_features": 80
       }
      },
      {
       "class": "Flatten",
       "kargs": {}
      },
      {
       "class": "Linear",
       "kargs": {
        "in_features": 20480,
        "out_features": 256
       }
      },
      {
       "class": "ReLU",
       "kargs": {
        "inplace": true
       }
      },
      {
       "class": "BatchNorm1d",
       "kargs": {
        "num_features": 256
       }
      },
      {
       "class": "Linear",
       "kargs": {
        "in_features": 256,
        "out_features": 256
       }
      }
     ]
    }
   },
   "start_time": "2022-03-21T03:37:13.022275",
   "version": "2.3.4"
  }
 },
 "nbformat": 4,
 "nbformat_minor": 5
}