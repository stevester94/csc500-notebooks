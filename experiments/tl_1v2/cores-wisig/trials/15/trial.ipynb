{
 "cells": [
  {
   "cell_type": "markdown",
   "id": "9fea5f46",
   "metadata": {
    "papermill": {
     "duration": 0.029706,
     "end_time": "2022-03-21T03:12:09.927320",
     "exception": false,
     "start_time": "2022-03-21T03:12:09.897614",
     "status": "completed"
    },
    "tags": []
   },
   "source": [
    "# Transfer Learning Template"
   ]
  },
  {
   "cell_type": "code",
   "execution_count": 1,
   "id": "0902182a",
   "metadata": {
    "execution": {
     "iopub.execute_input": "2022-03-21T03:12:09.984742Z",
     "iopub.status.busy": "2022-03-21T03:12:09.979200Z",
     "iopub.status.idle": "2022-03-21T03:12:12.043903Z",
     "shell.execute_reply": "2022-03-21T03:12:12.043041Z"
    },
    "papermill": {
     "duration": 2.09265,
     "end_time": "2022-03-21T03:12:12.044099",
     "exception": false,
     "start_time": "2022-03-21T03:12:09.951449",
     "status": "completed"
    },
    "tags": []
   },
   "outputs": [],
   "source": [
    "%load_ext autoreload\n",
    "%autoreload 2\n",
    "%matplotlib inline\n",
    "\n",
    "    \n",
    "import os, json, sys, time, random\n",
    "import numpy as np\n",
    "import torch\n",
    "from torch.optim import Adam\n",
    "from  easydict import EasyDict\n",
    "import matplotlib.pyplot as plt\n",
    "\n",
    "from steves_models.steves_ptn import Steves_Prototypical_Network\n",
    "\n",
    "from steves_utils.lazy_iterable_wrapper import Lazy_Iterable_Wrapper\n",
    "from steves_utils.iterable_aggregator import Iterable_Aggregator\n",
    "from steves_utils.ptn_train_eval_test_jig import  PTN_Train_Eval_Test_Jig\n",
    "from steves_utils.torch_sequential_builder import build_sequential\n",
    "from steves_utils.torch_utils import get_dataset_metrics, ptn_confusion_by_domain_over_dataloader\n",
    "from steves_utils.utils_v2 import (per_domain_accuracy_from_confusion, get_datasets_base_path)\n",
    "from steves_utils.PTN.utils import independent_accuracy_assesment\n",
    "\n",
    "from torch.utils.data import DataLoader\n",
    "\n",
    "from steves_utils.stratified_dataset.episodic_accessor import Episodic_Accessor_Factory\n",
    "\n",
    "from steves_utils.ptn_do_report import (\n",
    "    get_loss_curve,\n",
    "    get_results_table,\n",
    "    get_parameters_table,\n",
    "    get_domain_accuracies,\n",
    ")\n",
    "\n",
    "from steves_utils.transforms import get_chained_transform"
   ]
  },
  {
   "cell_type": "markdown",
   "id": "41c840b4",
   "metadata": {
    "papermill": {
     "duration": 0.01896,
     "end_time": "2022-03-21T03:12:12.087225",
     "exception": false,
     "start_time": "2022-03-21T03:12:12.068265",
     "status": "completed"
    },
    "tags": []
   },
   "source": [
    "# Allowed Parameters\n",
    "These are allowed parameters, not defaults\n",
    "Each of these values need to be present in the injected parameters (the notebook will raise an exception if they are not present)\n",
    "\n",
    "Papermill uses the cell tag \"parameters\" to inject the real parameters below this cell.\n",
    "Enable tags to see what I mean"
   ]
  },
  {
   "cell_type": "code",
   "execution_count": 2,
   "id": "fd44eb83",
   "metadata": {
    "execution": {
     "iopub.execute_input": "2022-03-21T03:12:12.131617Z",
     "iopub.status.busy": "2022-03-21T03:12:12.130960Z",
     "iopub.status.idle": "2022-03-21T03:12:12.155669Z",
     "shell.execute_reply": "2022-03-21T03:12:12.154844Z"
    },
    "papermill": {
     "duration": 0.049655,
     "end_time": "2022-03-21T03:12:12.155829",
     "exception": false,
     "start_time": "2022-03-21T03:12:12.106174",
     "status": "completed"
    },
    "tags": []
   },
   "outputs": [],
   "source": [
    "required_parameters = {\n",
    "    \"experiment_name\",\n",
    "    \"lr\",\n",
    "    \"device\",\n",
    "    \"seed\",\n",
    "    \"dataset_seed\",\n",
    "    \"n_shot\",\n",
    "    \"n_query\",\n",
    "    \"n_way\",\n",
    "    \"train_k_factor\",\n",
    "    \"val_k_factor\",\n",
    "    \"test_k_factor\",\n",
    "    \"n_epoch\",\n",
    "    \"patience\",\n",
    "    \"criteria_for_best\",\n",
    "    \"x_net\",\n",
    "    \"datasets\",\n",
    "    \"torch_default_dtype\",\n",
    "    \"NUM_LOGS_PER_EPOCH\",\n",
    "    \"BEST_MODEL_PATH\",\n",
    "    \"x_shape\",\n",
    "}"
   ]
  },
  {
   "cell_type": "code",
   "execution_count": 3,
   "id": "fa3f0049",
   "metadata": {
    "execution": {
     "iopub.execute_input": "2022-03-21T03:12:12.216161Z",
     "iopub.status.busy": "2022-03-21T03:12:12.215279Z",
     "iopub.status.idle": "2022-03-21T03:12:12.240262Z",
     "shell.execute_reply": "2022-03-21T03:12:12.239445Z"
    },
    "papermill": {
     "duration": 0.056409,
     "end_time": "2022-03-21T03:12:12.240416",
     "exception": false,
     "start_time": "2022-03-21T03:12:12.184007",
     "status": "completed"
    },
    "tags": [
     "parameters"
    ]
   },
   "outputs": [],
   "source": [
    "from steves_utils.CORES.utils import (\n",
    "    ALL_NODES,\n",
    "    ALL_NODES_MINIMUM_1000_EXAMPLES,\n",
    "    ALL_DAYS\n",
    ")\n",
    "\n",
    "from steves_utils.ORACLE.utils_v2 import (\n",
    "    ALL_DISTANCES_FEET_NARROWED,\n",
    "    ALL_RUNS,\n",
    "    ALL_SERIAL_NUMBERS,\n",
    ")\n",
    "\n",
    "standalone_parameters = {}\n",
    "standalone_parameters[\"experiment_name\"] = \"STANDALONE PTN\"\n",
    "standalone_parameters[\"lr\"] = 0.001\n",
    "standalone_parameters[\"device\"] = \"cuda\"\n",
    "\n",
    "standalone_parameters[\"seed\"] = 1337\n",
    "standalone_parameters[\"dataset_seed\"] = 1337\n",
    "\n",
    "standalone_parameters[\"n_way\"] = 8\n",
    "standalone_parameters[\"n_shot\"] = 3\n",
    "standalone_parameters[\"n_query\"]  = 2\n",
    "standalone_parameters[\"train_k_factor\"] = 1\n",
    "standalone_parameters[\"val_k_factor\"] = 2\n",
    "standalone_parameters[\"test_k_factor\"] = 2\n",
    "\n",
    "\n",
    "standalone_parameters[\"n_epoch\"] = 50\n",
    "\n",
    "standalone_parameters[\"patience\"] = 10\n",
    "standalone_parameters[\"criteria_for_best\"] = \"source_loss\"\n",
    "\n",
    "standalone_parameters[\"datasets\"] = [\n",
    "    {\n",
    "        \"labels\": ALL_SERIAL_NUMBERS,\n",
    "        \"domains\": ALL_DISTANCES_FEET_NARROWED,\n",
    "        \"num_examples_per_domain_per_label\": 100,\n",
    "        \"pickle_path\": os.path.join(get_datasets_base_path(), \"oracle.Run1_framed_2000Examples_stratified_ds.2022A.pkl\"),\n",
    "        \"source_or_target_dataset\": \"source\",\n",
    "        \"x_transforms\": [\"unit_mag\", \"minus_two\"],\n",
    "        \"episode_transforms\": [],\n",
    "        \"domain_prefix\": \"ORACLE_\"\n",
    "    },\n",
    "    {\n",
    "        \"labels\": ALL_NODES,\n",
    "        \"domains\": ALL_DAYS,\n",
    "        \"num_examples_per_domain_per_label\": 100,\n",
    "        \"pickle_path\": os.path.join(get_datasets_base_path(), \"cores.stratified_ds.2022A.pkl\"),\n",
    "        \"source_or_target_dataset\": \"target\",\n",
    "        \"x_transforms\": [\"unit_power\", \"times_zero\"],\n",
    "        \"episode_transforms\": [],\n",
    "        \"domain_prefix\": \"CORES_\"\n",
    "    }   \n",
    "]\n",
    "\n",
    "standalone_parameters[\"torch_default_dtype\"] = \"torch.float32\" \n",
    "\n",
    "\n",
    "\n",
    "standalone_parameters[\"x_net\"] =     [\n",
    "    {\"class\": \"nnReshape\", \"kargs\": {\"shape\":[-1, 1, 2, 256]}},\n",
    "    {\"class\": \"Conv2d\", \"kargs\": { \"in_channels\":1, \"out_channels\":256, \"kernel_size\":(1,7), \"bias\":False, \"padding\":(0,3), },},\n",
    "    {\"class\": \"ReLU\", \"kargs\": {\"inplace\": True}},\n",
    "    {\"class\": \"BatchNorm2d\", \"kargs\": {\"num_features\":256}},\n",
    "\n",
    "    {\"class\": \"Conv2d\", \"kargs\": { \"in_channels\":256, \"out_channels\":80, \"kernel_size\":(2,7), \"bias\":True, \"padding\":(0,3), },},\n",
    "    {\"class\": \"ReLU\", \"kargs\": {\"inplace\": True}},\n",
    "    {\"class\": \"BatchNorm2d\", \"kargs\": {\"num_features\":80}},\n",
    "    {\"class\": \"Flatten\", \"kargs\": {}},\n",
    "\n",
    "    {\"class\": \"Linear\", \"kargs\": {\"in_features\": 80*256, \"out_features\": 256}}, # 80 units per IQ pair\n",
    "    {\"class\": \"ReLU\", \"kargs\": {\"inplace\": True}},\n",
    "    {\"class\": \"BatchNorm1d\", \"kargs\": {\"num_features\":256}},\n",
    "\n",
    "    {\"class\": \"Linear\", \"kargs\": {\"in_features\": 256, \"out_features\": 256}},\n",
    "]\n",
    "\n",
    "# Parameters relevant to results\n",
    "# These parameters will basically never need to change\n",
    "standalone_parameters[\"NUM_LOGS_PER_EPOCH\"] = 10\n",
    "standalone_parameters[\"BEST_MODEL_PATH\"] = \"./best_model.pth\"\n",
    "\n",
    "\n",
    "\n",
    "\n"
   ]
  },
  {
   "cell_type": "code",
   "execution_count": 4,
   "id": "7f52cf2d",
   "metadata": {
    "execution": {
     "iopub.execute_input": "2022-03-21T03:12:12.300201Z",
     "iopub.status.busy": "2022-03-21T03:12:12.299162Z",
     "iopub.status.idle": "2022-03-21T03:12:12.324039Z",
     "shell.execute_reply": "2022-03-21T03:12:12.323219Z"
    },
    "papermill": {
     "duration": 0.061117,
     "end_time": "2022-03-21T03:12:12.324192",
     "exception": false,
     "start_time": "2022-03-21T03:12:12.263075",
     "status": "completed"
    },
    "tags": [
     "injected-parameters"
    ]
   },
   "outputs": [],
   "source": [
    "# Parameters\n",
    "parameters = {\n",
    "    \"experiment_name\": \"tl_1v2:cores-wisig\",\n",
    "    \"device\": \"cuda\",\n",
    "    \"lr\": 0.0001,\n",
    "    \"n_shot\": 3,\n",
    "    \"n_query\": 2,\n",
    "    \"train_k_factor\": 3,\n",
    "    \"val_k_factor\": 2,\n",
    "    \"test_k_factor\": 2,\n",
    "    \"torch_default_dtype\": \"torch.float32\",\n",
    "    \"n_epoch\": 3,\n",
    "    \"patience\": 3,\n",
    "    \"criteria_for_best\": \"target_accuracy\",\n",
    "    \"x_net\": [\n",
    "        {\"class\": \"nnReshape\", \"kargs\": {\"shape\": [-1, 1, 2, 256]}},\n",
    "        {\n",
    "            \"class\": \"Conv2d\",\n",
    "            \"kargs\": {\n",
    "                \"in_channels\": 1,\n",
    "                \"out_channels\": 256,\n",
    "                \"kernel_size\": [1, 7],\n",
    "                \"bias\": False,\n",
    "                \"padding\": [0, 3],\n",
    "            },\n",
    "        },\n",
    "        {\"class\": \"ReLU\", \"kargs\": {\"inplace\": True}},\n",
    "        {\"class\": \"BatchNorm2d\", \"kargs\": {\"num_features\": 256}},\n",
    "        {\n",
    "            \"class\": \"Conv2d\",\n",
    "            \"kargs\": {\n",
    "                \"in_channels\": 256,\n",
    "                \"out_channels\": 80,\n",
    "                \"kernel_size\": [2, 7],\n",
    "                \"bias\": True,\n",
    "                \"padding\": [0, 3],\n",
    "            },\n",
    "        },\n",
    "        {\"class\": \"ReLU\", \"kargs\": {\"inplace\": True}},\n",
    "        {\"class\": \"BatchNorm2d\", \"kargs\": {\"num_features\": 80}},\n",
    "        {\"class\": \"Flatten\", \"kargs\": {}},\n",
    "        {\"class\": \"Linear\", \"kargs\": {\"in_features\": 20480, \"out_features\": 256}},\n",
    "        {\"class\": \"ReLU\", \"kargs\": {\"inplace\": True}},\n",
    "        {\"class\": \"BatchNorm1d\", \"kargs\": {\"num_features\": 256}},\n",
    "        {\"class\": \"Linear\", \"kargs\": {\"in_features\": 256, \"out_features\": 256}},\n",
    "    ],\n",
    "    \"NUM_LOGS_PER_EPOCH\": 10,\n",
    "    \"BEST_MODEL_PATH\": \"./best_model.pth\",\n",
    "    \"n_way\": 58,\n",
    "    \"datasets\": [\n",
    "        {\n",
    "            \"labels\": [\n",
    "                \"1-10.\",\n",
    "                \"1-11.\",\n",
    "                \"1-15.\",\n",
    "                \"1-16.\",\n",
    "                \"1-17.\",\n",
    "                \"1-18.\",\n",
    "                \"1-19.\",\n",
    "                \"10-4.\",\n",
    "                \"10-7.\",\n",
    "                \"11-1.\",\n",
    "                \"11-14.\",\n",
    "                \"11-17.\",\n",
    "                \"11-20.\",\n",
    "                \"11-7.\",\n",
    "                \"13-20.\",\n",
    "                \"13-8.\",\n",
    "                \"14-10.\",\n",
    "                \"14-11.\",\n",
    "                \"14-14.\",\n",
    "                \"14-7.\",\n",
    "                \"15-1.\",\n",
    "                \"15-20.\",\n",
    "                \"16-1.\",\n",
    "                \"16-16.\",\n",
    "                \"17-10.\",\n",
    "                \"17-11.\",\n",
    "                \"17-2.\",\n",
    "                \"19-1.\",\n",
    "                \"19-16.\",\n",
    "                \"19-19.\",\n",
    "                \"19-20.\",\n",
    "                \"19-3.\",\n",
    "                \"2-10.\",\n",
    "                \"2-11.\",\n",
    "                \"2-17.\",\n",
    "                \"2-18.\",\n",
    "                \"2-20.\",\n",
    "                \"2-3.\",\n",
    "                \"2-4.\",\n",
    "                \"2-5.\",\n",
    "                \"2-6.\",\n",
    "                \"2-7.\",\n",
    "                \"2-8.\",\n",
    "                \"3-13.\",\n",
    "                \"3-18.\",\n",
    "                \"3-3.\",\n",
    "                \"4-1.\",\n",
    "                \"4-10.\",\n",
    "                \"4-11.\",\n",
    "                \"4-19.\",\n",
    "                \"5-5.\",\n",
    "                \"6-15.\",\n",
    "                \"7-10.\",\n",
    "                \"7-14.\",\n",
    "                \"8-18.\",\n",
    "                \"8-20.\",\n",
    "                \"8-3.\",\n",
    "                \"8-8.\",\n",
    "            ],\n",
    "            \"domains\": [1, 2, 3, 4, 5],\n",
    "            \"num_examples_per_domain_per_label\": -1,\n",
    "            \"pickle_path\": \"/root/csc500-main/datasets/cores.stratified_ds.2022A.pkl\",\n",
    "            \"source_or_target_dataset\": \"target\",\n",
    "            \"x_transforms\": [\"unit_power\"],\n",
    "            \"episode_transforms\": [],\n",
    "            \"domain_prefix\": \"CORES_\",\n",
    "        },\n",
    "        {\n",
    "            \"labels\": [\n",
    "                \"1-10\",\n",
    "                \"1-12\",\n",
    "                \"1-14\",\n",
    "                \"1-16\",\n",
    "                \"1-18\",\n",
    "                \"1-19\",\n",
    "                \"1-8\",\n",
    "                \"10-11\",\n",
    "                \"10-17\",\n",
    "                \"10-4\",\n",
    "                \"10-7\",\n",
    "                \"11-1\",\n",
    "                \"11-10\",\n",
    "                \"11-19\",\n",
    "                \"11-20\",\n",
    "                \"11-4\",\n",
    "                \"11-7\",\n",
    "                \"12-19\",\n",
    "                \"12-20\",\n",
    "                \"12-7\",\n",
    "                \"13-14\",\n",
    "                \"13-18\",\n",
    "                \"13-19\",\n",
    "                \"13-20\",\n",
    "                \"13-3\",\n",
    "                \"13-7\",\n",
    "                \"14-10\",\n",
    "                \"14-11\",\n",
    "                \"14-12\",\n",
    "                \"14-13\",\n",
    "                \"14-14\",\n",
    "                \"14-19\",\n",
    "                \"14-20\",\n",
    "                \"14-7\",\n",
    "                \"14-8\",\n",
    "                \"14-9\",\n",
    "                \"15-1\",\n",
    "                \"15-19\",\n",
    "                \"15-6\",\n",
    "                \"16-1\",\n",
    "                \"16-16\",\n",
    "                \"16-19\",\n",
    "                \"16-20\",\n",
    "                \"17-10\",\n",
    "                \"17-11\",\n",
    "                \"18-1\",\n",
    "                \"18-10\",\n",
    "                \"18-11\",\n",
    "                \"18-12\",\n",
    "                \"18-13\",\n",
    "                \"18-14\",\n",
    "                \"18-15\",\n",
    "                \"18-16\",\n",
    "                \"18-17\",\n",
    "                \"18-19\",\n",
    "                \"18-2\",\n",
    "                \"18-20\",\n",
    "                \"18-4\",\n",
    "                \"18-5\",\n",
    "                \"18-7\",\n",
    "                \"18-8\",\n",
    "                \"18-9\",\n",
    "                \"19-1\",\n",
    "                \"19-10\",\n",
    "                \"19-11\",\n",
    "                \"19-12\",\n",
    "                \"19-13\",\n",
    "                \"19-14\",\n",
    "                \"19-15\",\n",
    "                \"19-19\",\n",
    "                \"19-2\",\n",
    "                \"19-20\",\n",
    "                \"19-3\",\n",
    "                \"19-4\",\n",
    "                \"19-6\",\n",
    "                \"19-7\",\n",
    "                \"19-8\",\n",
    "                \"19-9\",\n",
    "                \"2-1\",\n",
    "                \"2-13\",\n",
    "                \"2-15\",\n",
    "                \"2-3\",\n",
    "                \"2-4\",\n",
    "                \"2-5\",\n",
    "                \"2-6\",\n",
    "                \"2-7\",\n",
    "                \"2-8\",\n",
    "                \"20-1\",\n",
    "                \"20-12\",\n",
    "                \"20-14\",\n",
    "                \"20-15\",\n",
    "                \"20-16\",\n",
    "                \"20-18\",\n",
    "                \"20-19\",\n",
    "                \"20-20\",\n",
    "                \"20-3\",\n",
    "                \"20-4\",\n",
    "                \"20-5\",\n",
    "                \"20-7\",\n",
    "                \"20-8\",\n",
    "                \"3-1\",\n",
    "                \"3-13\",\n",
    "                \"3-18\",\n",
    "                \"3-2\",\n",
    "                \"3-8\",\n",
    "                \"4-1\",\n",
    "                \"4-10\",\n",
    "                \"4-11\",\n",
    "                \"5-1\",\n",
    "                \"5-5\",\n",
    "                \"6-1\",\n",
    "                \"6-15\",\n",
    "                \"6-6\",\n",
    "                \"7-10\",\n",
    "                \"7-11\",\n",
    "                \"7-12\",\n",
    "                \"7-13\",\n",
    "                \"7-14\",\n",
    "                \"7-7\",\n",
    "                \"7-8\",\n",
    "                \"7-9\",\n",
    "                \"8-1\",\n",
    "                \"8-13\",\n",
    "                \"8-14\",\n",
    "                \"8-18\",\n",
    "                \"8-20\",\n",
    "                \"8-3\",\n",
    "                \"8-8\",\n",
    "                \"9-1\",\n",
    "                \"9-7\",\n",
    "            ],\n",
    "            \"domains\": [1, 2, 3, 4],\n",
    "            \"num_examples_per_domain_per_label\": -1,\n",
    "            \"pickle_path\": \"/root/csc500-main/datasets/wisig.node3-19.stratified_ds.2022A.pkl\",\n",
    "            \"source_or_target_dataset\": \"source\",\n",
    "            \"x_transforms\": [\"unit_power\"],\n",
    "            \"episode_transforms\": [],\n",
    "            \"domain_prefix\": \"Wisig_\",\n",
    "        },\n",
    "    ],\n",
    "    \"dataset_seed\": 154325,\n",
    "    \"seed\": 154325,\n",
    "}\n"
   ]
  },
  {
   "cell_type": "code",
   "execution_count": 5,
   "id": "8fa1cc33",
   "metadata": {
    "execution": {
     "iopub.execute_input": "2022-03-21T03:12:12.370953Z",
     "iopub.status.busy": "2022-03-21T03:12:12.370290Z",
     "iopub.status.idle": "2022-03-21T03:12:12.392759Z",
     "shell.execute_reply": "2022-03-21T03:12:12.391965Z"
    },
    "papermill": {
     "duration": 0.045483,
     "end_time": "2022-03-21T03:12:12.392910",
     "exception": false,
     "start_time": "2022-03-21T03:12:12.347427",
     "status": "completed"
    },
    "tags": []
   },
   "outputs": [],
   "source": [
    "# Set this to True if you want to run this template directly\n",
    "STANDALONE = False\n",
    "if STANDALONE:\n",
    "    print(\"parameters not injected, running with standalone_parameters\")\n",
    "    parameters = standalone_parameters\n",
    "\n",
    "if not 'parameters' in locals() and not 'parameters' in globals():\n",
    "    raise Exception(\"Parameter injection failed\")\n",
    "\n",
    "#Use an easy dict for all the parameters\n",
    "p = EasyDict(parameters)\n",
    "\n",
    "if \"x_shape\" not in p:\n",
    "    p.x_shape = [2,256] # Default to this if we dont supply x_shape\n",
    "\n",
    "\n",
    "supplied_keys = set(p.keys())\n",
    "\n",
    "if  supplied_keys != required_parameters:\n",
    "    print(\"Parameters are incorrect\")\n",
    "    if len(supplied_keys - required_parameters)>0: print(\"Shouldn't have:\", str(supplied_keys - required_parameters))\n",
    "    if len(required_parameters - supplied_keys)>0: print(\"Need to have:\", str(required_parameters - supplied_keys))\n",
    "    raise RuntimeError(\"Parameters are incorrect\")"
   ]
  },
  {
   "cell_type": "code",
   "execution_count": 6,
   "id": "3a028d58",
   "metadata": {
    "execution": {
     "iopub.execute_input": "2022-03-21T03:12:12.441371Z",
     "iopub.status.busy": "2022-03-21T03:12:12.440827Z",
     "iopub.status.idle": "2022-03-21T03:12:12.465834Z",
     "shell.execute_reply": "2022-03-21T03:12:12.465142Z"
    },
    "papermill": {
     "duration": 0.048363,
     "end_time": "2022-03-21T03:12:12.465985",
     "exception": false,
     "start_time": "2022-03-21T03:12:12.417622",
     "status": "completed"
    },
    "tags": []
   },
   "outputs": [],
   "source": [
    "###################################\n",
    "# Set the RNGs and make it all deterministic\n",
    "###################################\n",
    "np.random.seed(p.seed)\n",
    "random.seed(p.seed)\n",
    "torch.manual_seed(p.seed)\n",
    "\n",
    "torch.use_deterministic_algorithms(True) "
   ]
  },
  {
   "cell_type": "code",
   "execution_count": 7,
   "id": "b691acf6",
   "metadata": {
    "execution": {
     "iopub.execute_input": "2022-03-21T03:12:12.513400Z",
     "iopub.status.busy": "2022-03-21T03:12:12.512852Z",
     "iopub.status.idle": "2022-03-21T03:12:12.537405Z",
     "shell.execute_reply": "2022-03-21T03:12:12.536611Z"
    },
    "papermill": {
     "duration": 0.047346,
     "end_time": "2022-03-21T03:12:12.537557",
     "exception": false,
     "start_time": "2022-03-21T03:12:12.490211",
     "status": "completed"
    },
    "tags": []
   },
   "outputs": [],
   "source": [
    "###########################################\n",
    "# The stratified datasets honor this\n",
    "###########################################\n",
    "torch.set_default_dtype(eval(p.torch_default_dtype))"
   ]
  },
  {
   "cell_type": "code",
   "execution_count": 8,
   "id": "b5fba671",
   "metadata": {
    "execution": {
     "iopub.execute_input": "2022-03-21T03:12:12.585466Z",
     "iopub.status.busy": "2022-03-21T03:12:12.584667Z",
     "iopub.status.idle": "2022-03-21T03:12:12.651240Z",
     "shell.execute_reply": "2022-03-21T03:12:12.650544Z"
    },
    "papermill": {
     "duration": 0.089577,
     "end_time": "2022-03-21T03:12:12.651392",
     "exception": false,
     "start_time": "2022-03-21T03:12:12.561815",
     "status": "completed"
    },
    "tags": []
   },
   "outputs": [],
   "source": [
    "###################################\n",
    "# Build the network(s)\n",
    "# Note: It's critical to do this AFTER setting the RNG\n",
    "###################################\n",
    "x_net = build_sequential(p.x_net)"
   ]
  },
  {
   "cell_type": "code",
   "execution_count": 9,
   "id": "5d7e61cc",
   "metadata": {
    "execution": {
     "iopub.execute_input": "2022-03-21T03:12:12.700170Z",
     "iopub.status.busy": "2022-03-21T03:12:12.699584Z",
     "iopub.status.idle": "2022-03-21T03:12:12.726250Z",
     "shell.execute_reply": "2022-03-21T03:12:12.725549Z"
    },
    "papermill": {
     "duration": 0.050499,
     "end_time": "2022-03-21T03:12:12.726400",
     "exception": false,
     "start_time": "2022-03-21T03:12:12.675901",
     "status": "completed"
    },
    "tags": []
   },
   "outputs": [],
   "source": [
    "start_time_secs = time.time()"
   ]
  },
  {
   "cell_type": "code",
   "execution_count": 10,
   "id": "c6b67dfd",
   "metadata": {
    "execution": {
     "iopub.execute_input": "2022-03-21T03:12:12.775158Z",
     "iopub.status.busy": "2022-03-21T03:12:12.774573Z",
     "iopub.status.idle": "2022-03-21T03:12:12.800612Z",
     "shell.execute_reply": "2022-03-21T03:12:12.799913Z"
    },
    "papermill": {
     "duration": 0.049947,
     "end_time": "2022-03-21T03:12:12.800763",
     "exception": false,
     "start_time": "2022-03-21T03:12:12.750816",
     "status": "completed"
    },
    "tags": []
   },
   "outputs": [],
   "source": [
    "p.domains_source = []\n",
    "p.domains_target = []\n",
    "\n",
    "\n",
    "train_original_source = []\n",
    "val_original_source   = []\n",
    "test_original_source  = []\n",
    "\n",
    "train_original_target = []\n",
    "val_original_target   = []\n",
    "test_original_target  = []"
   ]
  },
  {
   "cell_type": "code",
   "execution_count": 11,
   "id": "e3d9c3d3",
   "metadata": {
    "execution": {
     "iopub.execute_input": "2022-03-21T03:12:12.850695Z",
     "iopub.status.busy": "2022-03-21T03:12:12.850336Z",
     "iopub.status.idle": "2022-03-21T03:12:12.877717Z",
     "shell.execute_reply": "2022-03-21T03:12:12.877012Z"
    },
    "papermill": {
     "duration": 0.050819,
     "end_time": "2022-03-21T03:12:12.877871",
     "exception": false,
     "start_time": "2022-03-21T03:12:12.827052",
     "status": "completed"
    },
    "tags": []
   },
   "outputs": [],
   "source": [
    "# global_x_transform_func = lambda x: normalize(x.to(torch.get_default_dtype()), \"unit_power\") # unit_power, unit_mag\n",
    "# global_x_transform_func = lambda x: normalize(x, \"unit_power\") # unit_power, unit_mag"
   ]
  },
  {
   "cell_type": "code",
   "execution_count": 12,
   "id": "acb78fd2",
   "metadata": {
    "execution": {
     "iopub.execute_input": "2022-03-21T03:12:12.934573Z",
     "iopub.status.busy": "2022-03-21T03:12:12.934001Z",
     "iopub.status.idle": "2022-03-21T03:12:12.957883Z",
     "shell.execute_reply": "2022-03-21T03:12:12.957086Z"
    },
    "papermill": {
     "duration": 0.054716,
     "end_time": "2022-03-21T03:12:12.958037",
     "exception": false,
     "start_time": "2022-03-21T03:12:12.903321",
     "status": "completed"
    },
    "tags": []
   },
   "outputs": [],
   "source": [
    "def add_dataset(\n",
    "    labels,\n",
    "    domains,\n",
    "    pickle_path,\n",
    "    x_transforms,\n",
    "    episode_transforms,\n",
    "    domain_prefix,\n",
    "    num_examples_per_domain_per_label,\n",
    "    source_or_target_dataset:str,\n",
    "    iterator_seed=p.seed,\n",
    "    dataset_seed=p.dataset_seed,\n",
    "    n_shot=p.n_shot,\n",
    "    n_way=p.n_way,\n",
    "    n_query=p.n_query,\n",
    "    train_val_test_k_factors=(p.train_k_factor,p.val_k_factor,p.test_k_factor),\n",
    "):\n",
    "   \n",
    "    if x_transforms == []: x_transform = None\n",
    "    else: x_transform = get_chained_transform(x_transforms)\n",
    "    \n",
    "    if episode_transforms == []: episode_transform = None\n",
    "    else: raise Exception(\"episode_transforms not implemented\")\n",
    "    \n",
    "    episode_transform = lambda tup, _prefix=domain_prefix: (_prefix + str(tup[0]), tup[1])\n",
    "\n",
    "\n",
    "    eaf = Episodic_Accessor_Factory(\n",
    "        labels=labels,\n",
    "        domains=domains,\n",
    "        num_examples_per_domain_per_label=num_examples_per_domain_per_label,\n",
    "        iterator_seed=iterator_seed,\n",
    "        dataset_seed=dataset_seed,\n",
    "        n_shot=n_shot,\n",
    "        n_way=n_way,\n",
    "        n_query=n_query,\n",
    "        train_val_test_k_factors=train_val_test_k_factors,\n",
    "        pickle_path=pickle_path,\n",
    "        x_transform_func=x_transform,\n",
    "    )\n",
    "\n",
    "    train, val, test = eaf.get_train(), eaf.get_val(), eaf.get_test()\n",
    "    train = Lazy_Iterable_Wrapper(train, episode_transform)\n",
    "    val = Lazy_Iterable_Wrapper(val, episode_transform)\n",
    "    test = Lazy_Iterable_Wrapper(test, episode_transform)\n",
    "\n",
    "    if source_or_target_dataset==\"source\":\n",
    "        train_original_source.append(train)\n",
    "        val_original_source.append(val)\n",
    "        test_original_source.append(test)\n",
    "\n",
    "        p.domains_source.extend(\n",
    "            [domain_prefix + str(u) for u in domains]\n",
    "        )\n",
    "    elif source_or_target_dataset==\"target\":\n",
    "        train_original_target.append(train)\n",
    "        val_original_target.append(val)\n",
    "        test_original_target.append(test)\n",
    "        p.domains_target.extend(\n",
    "            [domain_prefix + str(u) for u in domains]\n",
    "        )\n",
    "    else:\n",
    "        raise Exception(f\"invalid source_or_target_dataset: {source_or_target_dataset}\")\n",
    "    "
   ]
  },
  {
   "cell_type": "code",
   "execution_count": 13,
   "id": "fe266617",
   "metadata": {
    "execution": {
     "iopub.execute_input": "2022-03-21T03:12:13.007641Z",
     "iopub.status.busy": "2022-03-21T03:12:13.007270Z",
     "iopub.status.idle": "2022-03-21T03:12:55.971306Z",
     "shell.execute_reply": "2022-03-21T03:12:55.972011Z"
    },
    "papermill": {
     "duration": 42.988888,
     "end_time": "2022-03-21T03:12:55.972237",
     "exception": false,
     "start_time": "2022-03-21T03:12:12.983349",
     "status": "completed"
    },
    "tags": []
   },
   "outputs": [],
   "source": [
    "for ds in p.datasets:\n",
    "    add_dataset(**ds)"
   ]
  },
  {
   "cell_type": "code",
   "execution_count": 14,
   "id": "b90d65ac",
   "metadata": {
    "execution": {
     "iopub.execute_input": "2022-03-21T03:12:56.034435Z",
     "iopub.status.busy": "2022-03-21T03:12:56.033612Z",
     "iopub.status.idle": "2022-03-21T03:12:56.058726Z",
     "shell.execute_reply": "2022-03-21T03:12:56.057932Z"
    },
    "papermill": {
     "duration": 0.061087,
     "end_time": "2022-03-21T03:12:56.058882",
     "exception": false,
     "start_time": "2022-03-21T03:12:55.997795",
     "status": "completed"
    },
    "tags": []
   },
   "outputs": [],
   "source": [
    "# from steves_utils.CORES.utils import (\n",
    "#     ALL_NODES,\n",
    "#     ALL_NODES_MINIMUM_1000_EXAMPLES,\n",
    "#     ALL_DAYS\n",
    "# )\n",
    "\n",
    "# add_dataset(\n",
    "#     labels=ALL_NODES,\n",
    "#     domains = ALL_DAYS,\n",
    "#     num_examples_per_domain_per_label=100,\n",
    "#     pickle_path=os.path.join(get_datasets_base_path(), \"cores.stratified_ds.2022A.pkl\"),\n",
    "#     source_or_target_dataset=\"target\",\n",
    "#     x_transform_func=global_x_transform_func,\n",
    "#     domain_modifier=lambda u: f\"cores_{u}\"\n",
    "# )"
   ]
  },
  {
   "cell_type": "code",
   "execution_count": 15,
   "id": "76db484d",
   "metadata": {
    "execution": {
     "iopub.execute_input": "2022-03-21T03:12:56.110791Z",
     "iopub.status.busy": "2022-03-21T03:12:56.110112Z",
     "iopub.status.idle": "2022-03-21T03:12:56.134286Z",
     "shell.execute_reply": "2022-03-21T03:12:56.133491Z"
    },
    "papermill": {
     "duration": 0.04704,
     "end_time": "2022-03-21T03:12:56.134439",
     "exception": false,
     "start_time": "2022-03-21T03:12:56.087399",
     "status": "completed"
    },
    "tags": []
   },
   "outputs": [],
   "source": [
    "# from steves_utils.ORACLE.utils_v2 import (\n",
    "#     ALL_DISTANCES_FEET,\n",
    "#     ALL_RUNS,\n",
    "#     ALL_SERIAL_NUMBERS,\n",
    "# )\n",
    "\n",
    "\n",
    "# add_dataset(\n",
    "#     labels=ALL_SERIAL_NUMBERS,\n",
    "#     domains = list(set(ALL_DISTANCES_FEET) - {2,62}),\n",
    "#     num_examples_per_domain_per_label=100,\n",
    "#     pickle_path=os.path.join(get_datasets_base_path(), \"oracle.Run2_framed_2000Examples_stratified_ds.2022A.pkl\"),\n",
    "#     source_or_target_dataset=\"source\",\n",
    "#     x_transform_func=global_x_transform_func,\n",
    "#     domain_modifier=lambda u: f\"oracle1_{u}\"\n",
    "# )\n"
   ]
  },
  {
   "cell_type": "code",
   "execution_count": 16,
   "id": "97dea9d2",
   "metadata": {
    "execution": {
     "iopub.execute_input": "2022-03-21T03:12:56.184448Z",
     "iopub.status.busy": "2022-03-21T03:12:56.183887Z",
     "iopub.status.idle": "2022-03-21T03:12:56.206920Z",
     "shell.execute_reply": "2022-03-21T03:12:56.206122Z"
    },
    "papermill": {
     "duration": 0.04659,
     "end_time": "2022-03-21T03:12:56.207074",
     "exception": false,
     "start_time": "2022-03-21T03:12:56.160484",
     "status": "completed"
    },
    "tags": []
   },
   "outputs": [],
   "source": [
    "# from steves_utils.ORACLE.utils_v2 import (\n",
    "#     ALL_DISTANCES_FEET,\n",
    "#     ALL_RUNS,\n",
    "#     ALL_SERIAL_NUMBERS,\n",
    "# )\n",
    "\n",
    "\n",
    "# add_dataset(\n",
    "#     labels=ALL_SERIAL_NUMBERS,\n",
    "#     domains = list(set(ALL_DISTANCES_FEET) - {2,62,56}),\n",
    "#     num_examples_per_domain_per_label=100,\n",
    "#     pickle_path=os.path.join(get_datasets_base_path(), \"oracle.Run2_framed_2000Examples_stratified_ds.2022A.pkl\"),\n",
    "#     source_or_target_dataset=\"source\",\n",
    "#     x_transform_func=global_x_transform_func,\n",
    "#     domain_modifier=lambda u: f\"oracle2_{u}\"\n",
    "# )"
   ]
  },
  {
   "cell_type": "code",
   "execution_count": 17,
   "id": "6f289866",
   "metadata": {
    "execution": {
     "iopub.execute_input": "2022-03-21T03:12:56.258076Z",
     "iopub.status.busy": "2022-03-21T03:12:56.257713Z",
     "iopub.status.idle": "2022-03-21T03:12:56.279082Z",
     "shell.execute_reply": "2022-03-21T03:12:56.278299Z"
    },
    "papermill": {
     "duration": 0.045082,
     "end_time": "2022-03-21T03:12:56.279234",
     "exception": false,
     "start_time": "2022-03-21T03:12:56.234152",
     "status": "completed"
    },
    "tags": []
   },
   "outputs": [],
   "source": [
    "# add_dataset(\n",
    "#     labels=list(range(19)),\n",
    "#     domains = [0,1,2],\n",
    "#     num_examples_per_domain_per_label=100,\n",
    "#     pickle_path=os.path.join(get_datasets_base_path(), \"metehan.stratified_ds.2022A.pkl\"),\n",
    "#     source_or_target_dataset=\"target\",\n",
    "#     x_transform_func=global_x_transform_func,\n",
    "#     domain_modifier=lambda u: f\"met_{u}\"\n",
    "# )"
   ]
  },
  {
   "cell_type": "code",
   "execution_count": 18,
   "id": "86a863c3",
   "metadata": {
    "execution": {
     "iopub.execute_input": "2022-03-21T03:12:56.333394Z",
     "iopub.status.busy": "2022-03-21T03:12:56.332539Z",
     "iopub.status.idle": "2022-03-21T03:12:56.355645Z",
     "shell.execute_reply": "2022-03-21T03:12:56.354841Z"
    },
    "papermill": {
     "duration": 0.046473,
     "end_time": "2022-03-21T03:12:56.355802",
     "exception": false,
     "start_time": "2022-03-21T03:12:56.309329",
     "status": "completed"
    },
    "tags": []
   },
   "outputs": [],
   "source": [
    "# # from steves_utils.wisig.utils import (\n",
    "# #     ALL_NODES_MINIMUM_100_EXAMPLES,\n",
    "# #     ALL_NODES_MINIMUM_500_EXAMPLES,\n",
    "# #     ALL_NODES_MINIMUM_1000_EXAMPLES,\n",
    "# #     ALL_DAYS\n",
    "# # )\n",
    "\n",
    "# import steves_utils.wisig.utils as wisig\n",
    "\n",
    "\n",
    "# add_dataset(\n",
    "#     labels=wisig.ALL_NODES_MINIMUM_100_EXAMPLES,\n",
    "#     domains = wisig.ALL_DAYS,\n",
    "#     num_examples_per_domain_per_label=100,\n",
    "#     pickle_path=os.path.join(get_datasets_base_path(), \"wisig.node3-19.stratified_ds.2022A.pkl\"),\n",
    "#     source_or_target_dataset=\"target\",\n",
    "#     x_transform_func=global_x_transform_func,\n",
    "#     domain_modifier=lambda u: f\"wisig_{u}\"\n",
    "# )"
   ]
  },
  {
   "cell_type": "code",
   "execution_count": 19,
   "id": "fd5442bc",
   "metadata": {
    "execution": {
     "iopub.execute_input": "2022-03-21T03:12:56.413308Z",
     "iopub.status.busy": "2022-03-21T03:12:56.412924Z",
     "iopub.status.idle": "2022-03-21T03:12:56.437476Z",
     "shell.execute_reply": "2022-03-21T03:12:56.436410Z"
    },
    "papermill": {
     "duration": 0.051196,
     "end_time": "2022-03-21T03:12:56.437666",
     "exception": false,
     "start_time": "2022-03-21T03:12:56.386470",
     "status": "completed"
    },
    "tags": []
   },
   "outputs": [],
   "source": [
    "###################################\n",
    "# Build the dataset\n",
    "###################################\n",
    "train_original_source = Iterable_Aggregator(train_original_source, p.seed)\n",
    "val_original_source = Iterable_Aggregator(val_original_source, p.seed)\n",
    "test_original_source = Iterable_Aggregator(test_original_source, p.seed)\n",
    "\n",
    "\n",
    "train_original_target = Iterable_Aggregator(train_original_target, p.seed)\n",
    "val_original_target = Iterable_Aggregator(val_original_target, p.seed)\n",
    "test_original_target = Iterable_Aggregator(test_original_target, p.seed)\n",
    "\n",
    "# For CNN We only use X and Y. And we only train on the source.\n",
    "# Properly form the data using a transform lambda and Lazy_Iterable_Wrapper. Finally wrap them in a dataloader\n",
    "\n",
    "transform_lambda = lambda ex: ex[1] # Original is (<domain>, <episode>) so we strip down to episode only\n",
    "\n",
    "train_processed_source = Lazy_Iterable_Wrapper(train_original_source, transform_lambda)\n",
    "val_processed_source   = Lazy_Iterable_Wrapper(val_original_source, transform_lambda)\n",
    "test_processed_source  = Lazy_Iterable_Wrapper(test_original_source, transform_lambda)\n",
    "\n",
    "train_processed_target = Lazy_Iterable_Wrapper(train_original_target, transform_lambda)\n",
    "val_processed_target   = Lazy_Iterable_Wrapper(val_original_target, transform_lambda)\n",
    "test_processed_target  = Lazy_Iterable_Wrapper(test_original_target, transform_lambda)\n",
    "\n",
    "datasets = EasyDict({\n",
    "    \"source\": {\n",
    "        \"original\": {\"train\":train_original_source, \"val\":val_original_source, \"test\":test_original_source},\n",
    "        \"processed\": {\"train\":train_processed_source, \"val\":val_processed_source, \"test\":test_processed_source}\n",
    "    },\n",
    "    \"target\": {\n",
    "        \"original\": {\"train\":train_original_target, \"val\":val_original_target, \"test\":test_original_target},\n",
    "        \"processed\": {\"train\":train_processed_target, \"val\":val_processed_target, \"test\":test_processed_target}\n",
    "    },\n",
    "})"
   ]
  },
  {
   "cell_type": "code",
   "execution_count": 20,
   "id": "5b3c01fc",
   "metadata": {
    "execution": {
     "iopub.execute_input": "2022-03-21T03:12:56.495618Z",
     "iopub.status.busy": "2022-03-21T03:12:56.495029Z",
     "iopub.status.idle": "2022-03-21T03:13:04.633437Z",
     "shell.execute_reply": "2022-03-21T03:13:04.634089Z"
    },
    "papermill": {
     "duration": 8.166385,
     "end_time": "2022-03-21T03:13:04.634308",
     "exception": false,
     "start_time": "2022-03-21T03:12:56.467923",
     "status": "completed"
    },
    "tags": []
   },
   "outputs": [
    {
     "name": "stdout",
     "output_type": "stream",
     "text": [
      "{'Wisig_1', 'Wisig_2', 'Wisig_4', 'Wisig_3'}\n"
     ]
    },
    {
     "name": "stdout",
     "output_type": "stream",
     "text": [
      "{'CORES_1', 'CORES_4', 'CORES_3', 'CORES_2', 'CORES_5'}\n"
     ]
    },
    {
     "name": "stdout",
     "output_type": "stream",
     "text": [
      "tensor([[[-0.0532, -0.0628, -0.1013,  ...,  0.2445,  0.7453, -0.3084],\n",
      "         [-0.0071,  0.0161,  0.0366,  ..., -0.2374,  0.6252,  1.4082]],\n",
      "\n",
      "        [[ 0.5228, -0.3304, -0.7258,  ...,  0.3829,  0.5019,  0.4272],\n",
      "         [ 0.4530,  0.7601, -0.2239,  ...,  0.1030,  0.4155,  0.7386]],\n",
      "\n",
      "        [[ 0.0783, -0.4378, -0.2158,  ...,  0.3762,  0.2391, -0.0241],\n",
      "         [ 0.4223,  0.1594, -0.2137,  ...,  0.3257,  0.7219,  0.8439]],\n",
      "\n",
      "        ...,\n",
      "\n",
      "        [[ 0.3559,  0.0225,  1.0612,  ...,  0.2499,  0.0359, -1.1355],\n",
      "         [ 0.5054, -0.3537, -0.8353,  ..., -0.1756,  0.5262,  0.0781]],\n",
      "\n",
      "        [[ 0.0543,  0.5992,  0.0905,  ..., -0.0167, -0.2734,  0.3497],\n",
      "         [-0.2151, -0.3813,  0.0870,  ...,  0.3504, -0.0838, -0.1889]],\n",
      "\n",
      "        [[-0.2740, -0.0130, -1.1077,  ..., -0.2222, -0.0709,  0.9892],\n",
      "         [-0.6683,  0.2035,  0.3216,  ...,  0.1217, -0.4310,  0.2042]]])\n"
     ]
    }
   ],
   "source": [
    "from steves_utils.transforms import get_average_magnitude, get_average_power\n",
    "\n",
    "print(set([u for u,_ in val_original_source]))\n",
    "print(set([u for u,_ in val_original_target]))\n",
    "\n",
    "s_x, s_y, q_x, q_y, _ = next(iter(train_processed_source))\n",
    "print(s_x)\n",
    "\n",
    "# for ds in [\n",
    "#     train_processed_source,\n",
    "#     val_processed_source,\n",
    "#     test_processed_source,\n",
    "#     train_processed_target,\n",
    "#     val_processed_target,\n",
    "#     test_processed_target\n",
    "# ]:\n",
    "#     for s_x, s_y, q_x, q_y, _ in ds:\n",
    "#         for X in (s_x, q_x):\n",
    "#             for x in X:\n",
    "#                 assert np.isclose(get_average_magnitude(x.numpy()), 1.0)\n",
    "#                 assert np.isclose(get_average_power(x.numpy()), 1.0)\n",
    "                "
   ]
  },
  {
   "cell_type": "code",
   "execution_count": 21,
   "id": "bbdacba1",
   "metadata": {
    "execution": {
     "iopub.execute_input": "2022-03-21T03:13:04.694211Z",
     "iopub.status.busy": "2022-03-21T03:13:04.693628Z",
     "iopub.status.idle": "2022-03-21T03:13:04.937864Z",
     "shell.execute_reply": "2022-03-21T03:13:04.937094Z"
    },
    "papermill": {
     "duration": 0.273427,
     "end_time": "2022-03-21T03:13:04.938044",
     "exception": false,
     "start_time": "2022-03-21T03:13:04.664617",
     "status": "completed"
    },
    "tags": []
   },
   "outputs": [
    {
     "name": "stdout",
     "output_type": "stream",
     "text": [
      "(2, 256)\n"
     ]
    }
   ],
   "source": [
    "###################################\n",
    "# Build the model\n",
    "###################################\n",
    "# easfsl only wants a tuple for the shape\n",
    "model = Steves_Prototypical_Network(x_net, device=p.device, x_shape=tuple(p.x_shape))\n",
    "optimizer = Adam(params=model.parameters(), lr=p.lr)"
   ]
  },
  {
   "cell_type": "code",
   "execution_count": 22,
   "id": "22b39ac5",
   "metadata": {
    "execution": {
     "iopub.execute_input": "2022-03-21T03:13:04.996533Z",
     "iopub.status.busy": "2022-03-21T03:13:04.995961Z",
     "iopub.status.idle": "2022-03-21T03:17:06.992360Z",
     "shell.execute_reply": "2022-03-21T03:17:06.993037Z"
    },
    "papermill": {
     "duration": 242.026455,
     "end_time": "2022-03-21T03:17:06.993243",
     "exception": false,
     "start_time": "2022-03-21T03:13:04.966788",
     "status": "completed"
    },
    "tags": []
   },
   "outputs": [
    {
     "name": "stdout",
     "output_type": "stream",
     "text": [
      "epoch: 1, [batch: 1 / 913], examples_per_second: 205.0128, train_label_loss: 3.9365, \n"
     ]
    },
    {
     "name": "stdout",
     "output_type": "stream",
     "text": [
      "epoch: 1, [batch: 92 / 913], examples_per_second: 3416.5794, train_label_loss: 0.6521, \n"
     ]
    },
    {
     "name": "stdout",
     "output_type": "stream",
     "text": [
      "epoch: 1, [batch: 183 / 913], examples_per_second: 3487.5242, train_label_loss: 0.6309, \n"
     ]
    },
    {
     "name": "stdout",
     "output_type": "stream",
     "text": [
      "epoch: 1, [batch: 274 / 913], examples_per_second: 3440.6129, train_label_loss: 0.3588, \n"
     ]
    },
    {
     "name": "stdout",
     "output_type": "stream",
     "text": [
      "epoch: 1, [batch: 365 / 913], examples_per_second: 3424.8167, train_label_loss: 0.3909, \n"
     ]
    },
    {
     "name": "stdout",
     "output_type": "stream",
     "text": [
      "epoch: 1, [batch: 457 / 913], examples_per_second: 3435.4905, train_label_loss: 0.3336, \n"
     ]
    },
    {
     "name": "stdout",
     "output_type": "stream",
     "text": [
      "epoch: 1, [batch: 548 / 913], examples_per_second: 3417.5838, train_label_loss: 0.2214, \n"
     ]
    },
    {
     "name": "stdout",
     "output_type": "stream",
     "text": [
      "epoch: 1, [batch: 639 / 913], examples_per_second: 3395.9787, train_label_loss: 0.4574, \n"
     ]
    },
    {
     "name": "stdout",
     "output_type": "stream",
     "text": [
      "epoch: 1, [batch: 730 / 913], examples_per_second: 3394.2265, train_label_loss: 0.4746, \n"
     ]
    },
    {
     "name": "stdout",
     "output_type": "stream",
     "text": [
      "epoch: 1, [batch: 821 / 913], examples_per_second: 3415.7105, train_label_loss: 0.2573, \n"
     ]
    },
    {
     "name": "stdout",
     "output_type": "stream",
     "text": [
      "=============================================================\n",
      "epoch: 1, source_val_acc_label: 0.9422, target_val_acc_label: 0.9747, source_val_label_loss: 0.3037, target_val_label_loss: 0.2095, \n",
      "=============================================================\n"
     ]
    },
    {
     "name": "stdout",
     "output_type": "stream",
     "text": [
      "New best\n"
     ]
    },
    {
     "name": "stdout",
     "output_type": "stream",
     "text": [
      "epoch: 2, [batch: 1 / 911], examples_per_second: 25.1693, train_label_loss: 0.1630, \n"
     ]
    },
    {
     "name": "stdout",
     "output_type": "stream",
     "text": [
      "epoch: 2, [batch: 92 / 911], examples_per_second: 3511.9208, train_label_loss: 0.2839, \n"
     ]
    },
    {
     "name": "stdout",
     "output_type": "stream",
     "text": [
      "epoch: 2, [batch: 183 / 911], examples_per_second: 3534.9965, train_label_loss: 0.1732, \n"
     ]
    },
    {
     "name": "stdout",
     "output_type": "stream",
     "text": [
      "epoch: 2, [batch: 274 / 911], examples_per_second: 4002.5345, train_label_loss: 0.4260, \n"
     ]
    },
    {
     "name": "stdout",
     "output_type": "stream",
     "text": [
      "epoch: 2, [batch: 365 / 911], examples_per_second: 4239.1653, train_label_loss: 0.3107, \n"
     ]
    },
    {
     "name": "stdout",
     "output_type": "stream",
     "text": [
      "epoch: 2, [batch: 456 / 911], examples_per_second: 4365.9876, train_label_loss: 0.2617, \n"
     ]
    },
    {
     "name": "stdout",
     "output_type": "stream",
     "text": [
      "epoch: 2, [batch: 547 / 911], examples_per_second: 4647.7928, train_label_loss: 0.2262, \n"
     ]
    },
    {
     "name": "stdout",
     "output_type": "stream",
     "text": [
      "epoch: 2, [batch: 638 / 911], examples_per_second: 4500.1394, train_label_loss: 0.1169, \n"
     ]
    },
    {
     "name": "stdout",
     "output_type": "stream",
     "text": [
      "epoch: 2, [batch: 729 / 911], examples_per_second: 4478.3549, train_label_loss: 0.3162, \n"
     ]
    },
    {
     "name": "stdout",
     "output_type": "stream",
     "text": [
      "epoch: 2, [batch: 820 / 911], examples_per_second: 4873.0348, train_label_loss: 0.3245, \n"
     ]
    },
    {
     "name": "stdout",
     "output_type": "stream",
     "text": [
      "=============================================================\n",
      "epoch: 2, source_val_acc_label: 0.9566, target_val_acc_label: 0.9750, source_val_label_loss: 0.2307, target_val_label_loss: 0.1826, \n",
      "=============================================================\n"
     ]
    },
    {
     "name": "stdout",
     "output_type": "stream",
     "text": [
      "New best\n"
     ]
    },
    {
     "name": "stdout",
     "output_type": "stream",
     "text": [
      "epoch: 3, [batch: 1 / 906], examples_per_second: 30.5357, train_label_loss: 0.5510, \n"
     ]
    },
    {
     "name": "stdout",
     "output_type": "stream",
     "text": [
      "epoch: 3, [batch: 91 / 906], examples_per_second: 3479.2326, train_label_loss: 0.1267, \n"
     ]
    },
    {
     "name": "stdout",
     "output_type": "stream",
     "text": [
      "epoch: 3, [batch: 182 / 906], examples_per_second: 3587.6345, train_label_loss: 0.3232, \n"
     ]
    },
    {
     "name": "stdout",
     "output_type": "stream",
     "text": [
      "epoch: 3, [batch: 272 / 906], examples_per_second: 4491.9716, train_label_loss: 0.2816, \n"
     ]
    },
    {
     "name": "stdout",
     "output_type": "stream",
     "text": [
      "epoch: 3, [batch: 363 / 906], examples_per_second: 4570.4824, train_label_loss: 0.0942, \n"
     ]
    },
    {
     "name": "stdout",
     "output_type": "stream",
     "text": [
      "epoch: 3, [batch: 453 / 906], examples_per_second: 4792.4112, train_label_loss: 0.1942, \n"
     ]
    },
    {
     "name": "stdout",
     "output_type": "stream",
     "text": [
      "epoch: 3, [batch: 544 / 906], examples_per_second: 4511.5080, train_label_loss: 0.0624, \n"
     ]
    },
    {
     "name": "stdout",
     "output_type": "stream",
     "text": [
      "epoch: 3, [batch: 634 / 906], examples_per_second: 4347.6881, train_label_loss: 0.1351, \n"
     ]
    },
    {
     "name": "stdout",
     "output_type": "stream",
     "text": [
      "epoch: 3, [batch: 725 / 906], examples_per_second: 4460.9879, train_label_loss: 0.0722, \n"
     ]
    },
    {
     "name": "stdout",
     "output_type": "stream",
     "text": [
      "epoch: 3, [batch: 815 / 906], examples_per_second: 4451.0784, train_label_loss: 0.1322, \n"
     ]
    },
    {
     "name": "stdout",
     "output_type": "stream",
     "text": [
      "=============================================================\n",
      "epoch: 3, source_val_acc_label: 0.9642, target_val_acc_label: 0.9754, source_val_label_loss: 0.1954, target_val_label_loss: 0.1740, \n",
      "=============================================================\n"
     ]
    },
    {
     "name": "stdout",
     "output_type": "stream",
     "text": [
      "New best\n"
     ]
    }
   ],
   "source": [
    "###################################\n",
    "# train\n",
    "###################################\n",
    "jig = PTN_Train_Eval_Test_Jig(model, p.BEST_MODEL_PATH, p.device)\n",
    "\n",
    "jig.train(\n",
    "    train_iterable=datasets.source.processed.train,\n",
    "    source_val_iterable=datasets.source.processed.val,\n",
    "    target_val_iterable=datasets.target.processed.val,\n",
    "    num_epochs=p.n_epoch,\n",
    "    num_logs_per_epoch=p.NUM_LOGS_PER_EPOCH,\n",
    "    patience=p.patience,\n",
    "    optimizer=optimizer,\n",
    "    criteria_for_best=p.criteria_for_best,\n",
    ")"
   ]
  },
  {
   "cell_type": "code",
   "execution_count": 23,
   "id": "31e8fabf",
   "metadata": {
    "execution": {
     "iopub.execute_input": "2022-03-21T03:17:07.071169Z",
     "iopub.status.busy": "2022-03-21T03:17:07.070793Z",
     "iopub.status.idle": "2022-03-21T03:17:07.104659Z",
     "shell.execute_reply": "2022-03-21T03:17:07.105346Z"
    },
    "papermill": {
     "duration": 0.072977,
     "end_time": "2022-03-21T03:17:07.105586",
     "exception": false,
     "start_time": "2022-03-21T03:17:07.032609",
     "status": "completed"
    },
    "tags": []
   },
   "outputs": [],
   "source": [
    "total_experiment_time_secs = time.time() - start_time_secs"
   ]
  },
  {
   "cell_type": "code",
   "execution_count": 24,
   "id": "87b9595b",
   "metadata": {
    "execution": {
     "iopub.execute_input": "2022-03-21T03:17:07.190233Z",
     "iopub.status.busy": "2022-03-21T03:17:07.189576Z",
     "iopub.status.idle": "2022-03-21T03:18:01.302299Z",
     "shell.execute_reply": "2022-03-21T03:18:01.303004Z"
    },
    "papermill": {
     "duration": 54.155913,
     "end_time": "2022-03-21T03:18:01.303235",
     "exception": false,
     "start_time": "2022-03-21T03:17:07.147322",
     "status": "completed"
    },
    "tags": []
   },
   "outputs": [],
   "source": [
    "###################################\n",
    "# Evaluate the model\n",
    "###################################\n",
    "source_test_label_accuracy, source_test_label_loss = jig.test(datasets.source.processed.test)\n",
    "target_test_label_accuracy, target_test_label_loss = jig.test(datasets.target.processed.test)\n",
    "\n",
    "source_val_label_accuracy, source_val_label_loss = jig.test(datasets.source.processed.val)\n",
    "target_val_label_accuracy, target_val_label_loss = jig.test(datasets.target.processed.val)\n",
    "\n",
    "history = jig.get_history()\n",
    "\n",
    "total_epochs_trained = len(history[\"epoch_indices\"])\n",
    "\n",
    "val_dl = Iterable_Aggregator((datasets.source.original.val,datasets.target.original.val))\n",
    "\n",
    "confusion = ptn_confusion_by_domain_over_dataloader(model, p.device, val_dl)\n",
    "per_domain_accuracy = per_domain_accuracy_from_confusion(confusion)\n",
    "\n",
    "# Add a key to per_domain_accuracy for if it was a source domain\n",
    "for domain, accuracy in per_domain_accuracy.items():\n",
    "    per_domain_accuracy[domain] = {\n",
    "        \"accuracy\": accuracy,\n",
    "        \"source?\": domain in p.domains_source\n",
    "    }\n",
    "\n",
    "# Do an independent accuracy assesment JUST TO BE SURE!\n",
    "# _source_test_label_accuracy = independent_accuracy_assesment(model, datasets.source.processed.test, p.device)\n",
    "# _target_test_label_accuracy = independent_accuracy_assesment(model, datasets.target.processed.test, p.device)\n",
    "# _source_val_label_accuracy = independent_accuracy_assesment(model, datasets.source.processed.val, p.device)\n",
    "# _target_val_label_accuracy = independent_accuracy_assesment(model, datasets.target.processed.val, p.device)\n",
    "\n",
    "# assert(_source_test_label_accuracy == source_test_label_accuracy)\n",
    "# assert(_target_test_label_accuracy == target_test_label_accuracy)\n",
    "# assert(_source_val_label_accuracy == source_val_label_accuracy)\n",
    "# assert(_target_val_label_accuracy == target_val_label_accuracy)\n",
    "\n",
    "experiment = {\n",
    "    \"experiment_name\": p.experiment_name,\n",
    "    \"parameters\": dict(p),\n",
    "    \"results\": {\n",
    "        \"source_test_label_accuracy\": source_test_label_accuracy,\n",
    "        \"source_test_label_loss\": source_test_label_loss,\n",
    "        \"target_test_label_accuracy\": target_test_label_accuracy,\n",
    "        \"target_test_label_loss\": target_test_label_loss,\n",
    "        \"source_val_label_accuracy\": source_val_label_accuracy,\n",
    "        \"source_val_label_loss\": source_val_label_loss,\n",
    "        \"target_val_label_accuracy\": target_val_label_accuracy,\n",
    "        \"target_val_label_loss\": target_val_label_loss,\n",
    "        \"total_epochs_trained\": total_epochs_trained,\n",
    "        \"total_experiment_time_secs\": total_experiment_time_secs,\n",
    "        \"confusion\": confusion,\n",
    "        \"per_domain_accuracy\": per_domain_accuracy,\n",
    "    },\n",
    "    \"history\": history,\n",
    "    \"dataset_metrics\": get_dataset_metrics(datasets, \"ptn\"),\n",
    "}"
   ]
  },
  {
   "cell_type": "code",
   "execution_count": 25,
   "id": "54a21829",
   "metadata": {
    "execution": {
     "iopub.execute_input": "2022-03-21T03:18:01.381185Z",
     "iopub.status.busy": "2022-03-21T03:18:01.379484Z",
     "iopub.status.idle": "2022-03-21T03:18:01.602172Z",
     "shell.execute_reply": "2022-03-21T03:18:01.602842Z"
    },
    "papermill": {
     "duration": 0.259259,
     "end_time": "2022-03-21T03:18:01.603067",
     "exception": false,
     "start_time": "2022-03-21T03:18:01.343808",
     "status": "completed"
    },
    "tags": []
   },
   "outputs": [
    {
     "data": {
      "image/png": "[encoded data removed]",
      "text/plain": [
       "<Figure size 1080x504 with 1 Axes>"
      ]
     },
     "metadata": {
      "needs_background": "light"
     },
     "output_type": "display_data"
    }
   ],
   "source": [
    "ax = get_loss_curve(experiment)\n",
    "plt.show()"
   ]
  },
  {
   "cell_type": "code",
   "execution_count": 26,
   "id": "fd8a0f60",
   "metadata": {
    "execution": {
     "iopub.execute_input": "2022-03-21T03:18:01.680111Z",
     "iopub.status.busy": "2022-03-21T03:18:01.679739Z",
     "iopub.status.idle": "2022-03-21T03:18:02.035785Z",
     "shell.execute_reply": "2022-03-21T03:18:02.036455Z"
    },
    "papermill": {
     "duration": 0.394916,
     "end_time": "2022-03-21T03:18:02.036678",
     "exception": false,
     "start_time": "2022-03-21T03:18:01.641762",
     "status": "completed"
    },
    "tags": []
   },
   "outputs": [
    {
     "data": {
      "text/plain": [
       "<AxesSubplot:title={'center':'Results'}>"
      ]
     },
     "execution_count": 26,
     "metadata": {},
     "output_type": "execute_result"
    },
    {
     "data": {
      "image/png": "[encoded data removed]",
      "text/plain": [
       "<Figure size 1080x504 with 1 Axes>"
      ]
     },
     "metadata": {
      "needs_background": "light"
     },
     "output_type": "display_data"
    }
   ],
   "source": [
    "get_results_table(experiment)"
   ]
  },
  {
   "cell_type": "code",
   "execution_count": 27,
   "id": "cf8dc689",
   "metadata": {
    "execution": {
     "iopub.execute_input": "2022-03-21T03:18:02.127284Z",
     "iopub.status.busy": "2022-03-21T03:18:02.126910Z",
     "iopub.status.idle": "2022-03-21T03:18:02.357624Z",
     "shell.execute_reply": "2022-03-21T03:18:02.356775Z"
    },
    "papermill": {
     "duration": 0.270526,
     "end_time": "2022-03-21T03:18:02.357792",
     "exception": false,
     "start_time": "2022-03-21T03:18:02.087266",
     "status": "completed"
    },
    "tags": []
   },
   "outputs": [
    {
     "data": {
      "text/plain": [
       "<AxesSubplot:title={'center':'Per Domain Validation Accuracy'}, xlabel='domain'>"
      ]
     },
     "execution_count": 27,
     "metadata": {},
     "output_type": "execute_result"
    },
    {
     "data": {
      "image/png": "[encoded data removed]",
      "text/plain": [
       "<Figure size 1080x504 with 1 Axes>"
      ]
     },
     "metadata": {
      "needs_background": "light"
     },
     "output_type": "display_data"
    }
   ],
   "source": [
    "get_domain_accuracies(experiment)"
   ]
  },
  {
   "cell_type": "code",
   "execution_count": 28,
   "id": "a74ae082",
   "metadata": {
    "execution": {
     "iopub.execute_input": "2022-03-21T03:18:02.439196Z",
     "iopub.status.busy": "2022-03-21T03:18:02.438810Z",
     "iopub.status.idle": "2022-03-21T03:18:02.465593Z",
     "shell.execute_reply": "2022-03-21T03:18:02.464770Z"
    },
    "papermill": {
     "duration": 0.067819,
     "end_time": "2022-03-21T03:18:02.465751",
     "exception": false,
     "start_time": "2022-03-21T03:18:02.397932",
     "status": "completed"
    },
    "tags": []
   },
   "outputs": [
    {
     "name": "stdout",
     "output_type": "stream",
     "text": [
      "Source Test Label Accuracy: 0.9576259946949602 Target Test Label Accuracy: 0.9743103448275862\n",
      "Source Val Label Accuracy: 0.9642475273990911 Target Val Label Accuracy: 0.9753951149425287\n"
     ]
    }
   ],
   "source": [
    "print(\"Source Test Label Accuracy:\", experiment[\"results\"][\"source_test_label_accuracy\"], \"Target Test Label Accuracy:\", experiment[\"results\"][\"target_test_label_accuracy\"])\n",
    "print(\"Source Val Label Accuracy:\", experiment[\"results\"][\"source_val_label_accuracy\"], \"Target Val Label Accuracy:\", experiment[\"results\"][\"target_val_label_accuracy\"])"
   ]
  },
  {
   "cell_type": "code",
   "execution_count": 29,
   "id": "dacca602",
   "metadata": {
    "execution": {
     "iopub.execute_input": "2022-03-21T03:18:02.548936Z",
     "iopub.status.busy": "2022-03-21T03:18:02.548486Z",
     "iopub.status.idle": "2022-03-21T03:18:02.574836Z",
     "shell.execute_reply": "2022-03-21T03:18:02.575515Z"
    },
    "papermill": {
     "duration": 0.067367,
     "end_time": "2022-03-21T03:18:02.575720",
     "exception": false,
     "start_time": "2022-03-21T03:18:02.508353",
     "status": "completed"
    },
    "tags": [
     "experiment_json"
    ]
   },
   "outputs": [
    {
     "data": {
      "text/plain": [
       "'{\"experiment_name\": \"tl_1v2:cores-wisig\", \"parameters\": {\"experiment_name\": \"tl_1v2:cores-wisig\", \"device\": \"cuda\", \"lr\": 0.0001, \"n_shot\": 3, \"n_query\": 2, \"train_k_factor\": 3, \"val_k_factor\": 2, \"test_k_factor\": 2, \"torch_default_dtype\": \"torch.float32\", \"n_epoch\": 3, \"patience\": 3, \"criteria_for_best\": \"target_accuracy\", \"x_net\": [{\"class\": \"nnReshape\", \"kargs\": {\"shape\": [-1, 1, 2, 256]}}, {\"class\": \"Conv2d\", \"kargs\": {\"in_channels\": 1, \"out_channels\": 256, \"kernel_size\": [1, 7], \"bias\": false, \"padding\": [0, 3]}}, {\"class\": \"ReLU\", \"kargs\": {\"inplace\": true}}, {\"class\": \"BatchNorm2d\", \"kargs\": {\"num_features\": 256}}, {\"class\": \"Conv2d\", \"kargs\": {\"in_channels\": 256, \"out_channels\": 80, \"kernel_size\": [2, 7], \"bias\": true, \"padding\": [0, 3]}}, {\"class\": \"ReLU\", \"kargs\": {\"inplace\": true}}, {\"class\": \"BatchNorm2d\", \"kargs\": {\"num_features\": 80}}, {\"class\": \"Flatten\", \"kargs\": {}}, {\"class\": \"Linear\", \"kargs\": {\"in_features\": 20480, \"out_features\": 256}}, {\"class\": \"ReLU\", \"kargs\": {\"inplace\": true}}, {\"class\": \"BatchNorm1d\", \"kargs\": {\"num_features\": 256}}, {\"class\": \"Linear\", \"kargs\": {\"in_features\": 256, \"out_features\": 256}}], \"NUM_LOGS_PER_EPOCH\": 10, \"BEST_MODEL_PATH\": \"./best_model.pth\", \"n_way\": 58, \"datasets\": [{\"labels\": [\"1-10.\", \"1-11.\", \"1-15.\", \"1-16.\", \"1-17.\", \"1-18.\", \"1-19.\", \"10-4.\", \"10-7.\", \"11-1.\", \"11-14.\", \"11-17.\", \"11-20.\", \"11-7.\", \"13-20.\", \"13-8.\", \"14-10.\", \"14-11.\", \"14-14.\", \"14-7.\", \"15-1.\", \"15-20.\", \"16-1.\", \"16-16.\", \"17-10.\", \"17-11.\", \"17-2.\", \"19-1.\", \"19-16.\", \"19-19.\", \"19-20.\", \"19-3.\", \"2-10.\", \"2-11.\", \"2-17.\", \"2-18.\", \"2-20.\", \"2-3.\", \"2-4.\", \"2-5.\", \"2-6.\", \"2-7.\", \"2-8.\", \"3-13.\", \"3-18.\", \"3-3.\", \"4-1.\", \"4-10.\", \"4-11.\", \"4-19.\", \"5-5.\", \"6-15.\", \"7-10.\", \"7-14.\", \"8-18.\", \"8-20.\", \"8-3.\", \"8-8.\"], \"domains\": [1, 2, 3, 4, 5], \"num_examples_per_domain_per_label\": -1, \"pickle_path\": \"/root/csc500-main/datasets/cores.stratified_ds.2022A.pkl\", \"source_or_target_dataset\": \"target\", \"x_transforms\": [\"unit_power\"], \"episode_transforms\": [], \"domain_prefix\": \"CORES_\"}, {\"labels\": [\"1-10\", \"1-12\", \"1-14\", \"1-16\", \"1-18\", \"1-19\", \"1-8\", \"10-11\", \"10-17\", \"10-4\", \"10-7\", \"11-1\", \"11-10\", \"11-19\", \"11-20\", \"11-4\", \"11-7\", \"12-19\", \"12-20\", \"12-7\", \"13-14\", \"13-18\", \"13-19\", \"13-20\", \"13-3\", \"13-7\", \"14-10\", \"14-11\", \"14-12\", \"14-13\", \"14-14\", \"14-19\", \"14-20\", \"14-7\", \"14-8\", \"14-9\", \"15-1\", \"15-19\", \"15-6\", \"16-1\", \"16-16\", \"16-19\", \"16-20\", \"17-10\", \"17-11\", \"18-1\", \"18-10\", \"18-11\", \"18-12\", \"18-13\", \"18-14\", \"18-15\", \"18-16\", \"18-17\", \"18-19\", \"18-2\", \"18-20\", \"18-4\", \"18-5\", \"18-7\", \"18-8\", \"18-9\", \"19-1\", \"19-10\", \"19-11\", \"19-12\", \"19-13\", \"19-14\", \"19-15\", \"19-19\", \"19-2\", \"19-20\", \"19-3\", \"19-4\", \"19-6\", \"19-7\", \"19-8\", \"19-9\", \"2-1\", \"2-13\", \"2-15\", \"2-3\", \"2-4\", \"2-5\", \"2-6\", \"2-7\", \"2-8\", \"20-1\", \"20-12\", \"20-14\", \"20-15\", \"20-16\", \"20-18\", \"20-19\", \"20-20\", \"20-3\", \"20-4\", \"20-5\", \"20-7\", \"20-8\", \"3-1\", \"3-13\", \"3-18\", \"3-2\", \"3-8\", \"4-1\", \"4-10\", \"4-11\", \"5-1\", \"5-5\", \"6-1\", \"6-15\", \"6-6\", \"7-10\", \"7-11\", \"7-12\", \"7-13\", \"7-14\", \"7-7\", \"7-8\", \"7-9\", \"8-1\", \"8-13\", \"8-14\", \"8-18\", \"8-20\", \"8-3\", \"8-8\", \"9-1\", \"9-7\"], \"domains\": [1, 2, 3, 4], \"num_examples_per_domain_per_label\": -1, \"pickle_path\": \"/root/csc500-main/datasets/wisig.node3-19.stratified_ds.2022A.pkl\", \"source_or_target_dataset\": \"source\", \"x_transforms\": [\"unit_power\"], \"episode_transforms\": [], \"domain_prefix\": \"Wisig_\"}], \"dataset_seed\": 154325, \"seed\": 154325, \"x_shape\": [2, 256], \"domains_source\": [\"Wisig_1\", \"Wisig_2\", \"Wisig_3\", \"Wisig_4\"], \"domains_target\": [\"CORES_1\", \"CORES_2\", \"CORES_3\", \"CORES_4\", \"CORES_5\"]}, \"results\": {\"source_test_label_accuracy\": 0.9576259946949602, \"source_test_label_loss\": 0.23227743804454803, \"target_test_label_accuracy\": 0.9743103448275862, \"target_test_label_loss\": 0.16170711815357208, \"source_val_label_accuracy\": 0.9642475273990911, \"source_val_label_loss\": 0.19541631639003754, \"target_val_label_accuracy\": 0.9753951149425287, \"target_val_label_loss\": 0.17400312423706055, \"total_epochs_trained\": 3, \"total_experiment_time_secs\": 294.3794524669647, \"confusion\": {\"Wisig_2\": {\"41\": {\"41\": 18, \"59\": 2}, \"31\": {\"31\": 18, \"4\": 1, \"36\": 1}, \"126\": {\"126\": 52}, \"80\": {\"80\": 16}, \"101\": {\"101\": 50}, \"128\": {\"128\": 24}, \"46\": {\"46\": 15, \"31\": 1}, \"96\": {\"96\": 20}, \"117\": {\"117\": 36}, \"109\": {\"109\": 40}, \"17\": {\"4\": 1, \"17\": 12, \"27\": 1, \"18\": 1, \"36\": 1}, \"63\": {\"63\": 20}, \"69\": {\"69\": 39, \"26\": 1, \"107\": 1, \"12\": 1}, \"30\": {\"30\": 47, \"61\": 1, \"21\": 1, \"27\": 1, \"62\": 1, \"39\": 1}, \"120\": {\"120\": 20}, \"4\": {\"4\": 36}, \"102\": {\"102\": 50}, \"81\": {\"81\": 22, \"11\": 1, \"121\": 1}, \"6\": {\"6\": 32}, \"110\": {\"110\": 35, \"24\": 1}, \"55\": {\"55\": 16}, \"67\": {\"67\": 16}, \"50\": {\"50\": 16}, \"19\": {\"19\": 28}, \"104\": {\"104\": 18, \"86\": 2}, \"112\": {\"112\": 15, \"49\": 1}, \"10\": {\"10\": 42, \"12\": 1, \"17\": 1}, \"54\": {\"54\": 20}, \"7\": {\"7\": 36}, \"28\": {\"28\": 20}, \"5\": {\"5\": 38, \"27\": 1, \"62\": 1}, \"15\": {\"15\": 44}, \"73\": {\"73\": 28}, \"76\": {\"76\": 14, \"78\": 1, \"24\": 1}, \"105\": {\"105\": 44}, \"78\": {\"78\": 33, \"43\": 1, \"21\": 2}, \"106\": {\"106\": 41, \"55\": 1, \"45\": 1, \"111\": 1}, \"57\": {\"57\": 18, \"110\": 1, \"21\": 1}, \"90\": {\"90\": 37, \"16\": 1}, \"35\": {\"35\": 12}, \"64\": {\"64\": 14, \"4\": 1, \"78\": 1}, \"3\": {\"3\": 26}, \"42\": {\"42\": 27, \"24\": 1}, \"103\": {\"103\": 16}, \"49\": {\"49\": 24}, \"123\": {\"123\": 16}, \"13\": {\"13\": 12, \"27\": 1, \"2\": 3}, \"9\": {\"9\": 32}, \"118\": {\"118\": 40}, \"91\": {\"91\": 28}, \"27\": {\"27\": 42, \"24\": 2, \"39\": 1, \"28\": 1}, \"53\": {\"53\": 16}, \"32\": {\"32\": 33, \"52\": 1}, \"107\": {\"107\": 45, \"36\": 1, \"61\": 1, \"29\": 1, \"14\": 2}, \"36\": {\"36\": 36, \"121\": 1, \"27\": 1}, \"129\": {\"129\": 32}, \"26\": {\"26\": 40, \"27\": 2}, \"85\": {\"85\": 31, \"61\": 1}, \"68\": {\"59\": 1, \"68\": 14, \"98\": 1}, \"95\": {\"95\": 36}, \"12\": {\"12\": 36, \"81\": 1, \"15\": 1}, \"71\": {\"71\": 54}, \"16\": {\"16\": 44, \"123\": 1, \"107\": 2, \"94\": 1, \"93\": 2}, \"20\": {\"27\": 1, \"20\": 15}, \"74\": {\"74\": 15, \"24\": 1}, \"79\": {\"79\": 16}, \"58\": {\"58\": 19, \"33\": 1}, \"122\": {\"122\": 40}, \"98\": {\"98\": 53, \"70\": 1, \"113\": 1, \"99\": 1}, \"83\": {\"83\": 36}, \"99\": {\"99\": 32}, \"14\": {\"14\": 44, \"106\": 1, \"59\": 1, \"31\": 1, \"18\": 1}, \"2\": {\"2\": 31, \"14\": 1}, \"34\": {\"34\": 31, \"41\": 1}, \"88\": {\"88\": 38, \"21\": 1, \"16\": 1, \"126\": 1, \"109\": 1}, \"51\": {\"51\": 19, \"97\": 1}, \"45\": {\"45\": 16}, \"125\": {\"125\": 32}, \"43\": {\"43\": 35, \"21\": 2, \"37\": 1, \"15\": 1, \"110\": 1}, \"92\": {\"92\": 28}, \"8\": {\"8\": 42, \"117\": 1, \"81\": 1}, \"82\": {\"82\": 36}, \"66\": {\"66\": 20}, \"59\": {\"12\": 1, \"59\": 14, \"24\": 1}, \"75\": {\"75\": 16}, \"29\": {\"29\": 32}, \"40\": {\"40\": 40, \"18\": 1, \"21\": 1, \"78\": 1, \"108\": 1}, \"97\": {\"97\": 19, \"111\": 1}, \"33\": {\"33\": 40}, \"47\": {\"47\": 10, \"107\": 1, \"83\": 1}, \"1\": {\"1\": 48}, \"44\": {\"44\": 37, \"22\": 1}, \"62\": {\"62\": 35, \"55\": 1}, \"127\": {\"127\": 39, \"10\": 1}, \"84\": {\"84\": 36, \"21\": 1, \"78\": 1, \"59\": 1, \"36\": 1}, \"72\": {\"72\": 27, \"28\": 1}, \"87\": {\"87\": 38, \"127\": 1, \"47\": 1, \"36\": 1, \"78\": 1, \"62\": 1, \"70\": 1}, \"121\": {\"121\": 35, \"89\": 1}, \"21\": {\"21\": 30, \"78\": 1, \"85\": 1, \"36\": 1, \"62\": 1, \"16\": 1, \"15\": 1}, \"115\": {\"115\": 11, \"121\": 1}, \"111\": {\"111\": 48, \"14\": 1, \"30\": 1}, \"61\": {\"61\": 20}, \"24\": {\"24\": 33, \"88\": 1, \"108\": 1, \"27\": 1}, \"56\": {\"56\": 12}, \"11\": {\"11\": 29, \"15\": 1}, \"48\": {\"48\": 20}, \"39\": {\"39\": 30, \"18\": 3, \"107\": 1, \"87\": 1, \"21\": 1}, \"77\": {\"77\": 15, \"21\": 1}, \"93\": {\"93\": 47, \"74\": 1}, \"0\": {\"0\": 36, \"101\": 2}, \"114\": {\"114\": 37, \"94\": 1}, \"37\": {\"37\": 14, \"91\": 1, \"21\": 1}, \"124\": {\"124\": 36}, \"38\": {\"38\": 16}, \"70\": {\"70\": 34, \"28\": 1, \"19\": 1, \"110\": 1, \"102\": 1, \"73\": 1, \"0\": 1}, \"116\": {\"116\": 28}, \"119\": {\"119\": 20}, \"60\": {\"60\": 26, \"87\": 2}, \"86\": {\"86\": 32}, \"65\": {\"65\": 19, \"51\": 1}, \"94\": {\"94\": 33, \"26\": 1, \"36\": 2}, \"113\": {\"113\": 35, \"121\": 1}, \"18\": {\"18\": 44}, \"23\": {\"23\": 38}, \"108\": {\"108\": 40}, \"89\": {\"89\": 34, \"12\": 1, \"106\": 1}, \"52\": {\"52\": 20}, \"25\": {\"25\": 16}, \"22\": {\"22\": 19, \"107\": 1}, \"100\": {\"100\": 16}}, \"Wisig_4\": {\"71\": {\"71\": 51, \"21\": 1}, \"112\": {\"112\": 16}, \"75\": {\"75\": 14, \"24\": 2}, \"17\": {\"17\": 19, \"14\": 1}, \"50\": {\"50\": 15, \"51\": 1}, \"60\": {\"60\": 30}, \"12\": {\"51\": 1, \"12\": 37, \"15\": 1, \"118\": 1}, \"29\": {\"29\": 31, \"51\": 1}, \"15\": {\"15\": 34}, \"7\": {\"7\": 40}, \"27\": {\"27\": 41, \"4\": 1, \"127\": 1, \"94\": 1}, \"91\": {\"91\": 24}, \"20\": {\"20\": 16}, \"16\": {\"16\": 33, \"84\": 1, \"51\": 1, \"36\": 1}, \"99\": {\"99\": 34}, \"26\": {\"26\": 45, \"111\": 1}, \"24\": {\"24\": 53, \"36\": 4, \"23\": 1}, \"58\": {\"58\": 15, \"97\": 1}, \"74\": {\"74\": 16}, \"110\": {\"110\": 34, \"76\": 1, \"78\": 1}, \"67\": {\"17\": 1, \"67\": 13, \"14\": 1, \"102\": 1}, \"46\": {\"46\": 20}, \"19\": {\"19\": 28}, \"81\": {\"81\": 35, \"68\": 1}, \"0\": {\"0\": 38, \"69\": 1, \"101\": 3}, \"104\": {\"104\": 16}, \"9\": {\"9\": 28}, \"96\": {\"96\": 18, \"81\": 1, \"32\": 1}, \"14\": {\"14\": 40}, \"114\": {\"114\": 36}, \"59\": {\"59\": 12}, \"21\": {\"21\": 31, \"51\": 1, \"78\": 3, \"23\": 1, \"128\": 1, \"4\": 1, \"110\": 1, \"12\": 1}, \"88\": {\"88\": 34}, \"4\": {\"4\": 41, \"21\": 1}, \"129\": {\"129\": 28}, \"30\": {\"30\": 46, \"4\": 1, \"127\": 1, \"10\": 2}, \"5\": {\"5\": 38, \"78\": 1, \"123\": 1}, \"119\": {\"119\": 16}, \"66\": {\"66\": 16}, \"53\": {\"53\": 15, \"110\": 1}, \"51\": {\"75\": 1, \"51\": 9, \"12\": 1, \"95\": 1, \"125\": 1, \"23\": 1, \"8\": 1, \"93\": 1}, \"37\": {\"37\": 16}, \"127\": {\"127\": 41, \"12\": 1}, \"80\": {\"80\": 16}, \"55\": {\"55\": 16}, \"122\": {\"122\": 39, \"127\": 1, \"21\": 1, \"51\": 1, \"88\": 1, \"105\": 1}, \"8\": {\"8\": 46, \"21\": 2}, \"76\": {\"76\": 16}, \"57\": {\"57\": 14, \"41\": 1, \"21\": 1}, \"52\": {\"52\": 20}, \"100\": {\"100\": 20}, \"93\": {\"93\": 44}, \"82\": {\"82\": 30}, \"86\": {\"86\": 28}, \"107\": {\"107\": 40, \"23\": 1, \"12\": 1}, \"73\": {\"73\": 23, \"110\": 1}, \"116\": {\"116\": 28}, \"94\": {\"21\": 1, \"94\": 44, \"36\": 1}, \"97\": {\"97\": 14, \"24\": 3, \"91\": 1, \"36\": 1, \"15\": 1}, \"68\": {\"68\": 16}, \"10\": {\"10\": 37, \"24\": 1, \"78\": 1, \"30\": 1}, \"31\": {\"31\": 15, \"4\": 1}, \"47\": {\"47\": 9, \"51\": 1, \"53\": 1, \"108\": 1}, \"65\": {\"65\": 11, \"51\": 1}, \"28\": {\"28\": 20}, \"2\": {\"2\": 27, \"1\": 1}, \"42\": {\"42\": 27, \"89\": 1}, \"102\": {\"102\": 48, \"78\": 2}, \"95\": {\"95\": 32}, \"35\": {\"35\": 12}, \"33\": {\"33\": 42}, \"6\": {\"6\": 24}, \"49\": {\"49\": 32}, \"45\": {\"45\": 16}, \"89\": {\"89\": 32}, \"40\": {\"40\": 36, \"0\": 1, \"111\": 1}, \"3\": {\"3\": 36}, \"63\": {\"63\": 16}, \"13\": {\"13\": 16}, \"108\": {\"108\": 36, \"27\": 1, \"78\": 1}, \"125\": {\"125\": 44, \"12\": 1, \"34\": 1}, \"123\": {\"123\": 16}, \"115\": {\"115\": 12, \"57\": 1, \"96\": 1, \"76\": 1, \"124\": 1}, \"117\": {\"117\": 49, \"23\": 1, \"122\": 1, \"78\": 1}, \"43\": {\"43\": 39, \"87\": 2, \"8\": 1}, \"38\": {\"38\": 16}, \"128\": {\"128\": 22, \"85\": 1, \"48\": 1}, \"83\": {\"83\": 28}, \"79\": {\"79\": 16}, \"124\": {\"124\": 40}, \"84\": {\"84\": 49, \"16\": 1}, \"103\": {\"103\": 15, \"16\": 1}, \"121\": {\"14\": 1, \"121\": 29, \"48\": 1, \"122\": 1}, \"34\": {\"34\": 32}, \"126\": {\"126\": 43, \"7\": 1}, \"44\": {\"44\": 46}, \"41\": {\"41\": 15, \"51\": 1}, \"101\": {\"101\": 34, \"21\": 1, \"106\": 1}, \"109\": {\"109\": 41, \"21\": 1}, \"106\": {\"106\": 42, \"0\": 1, \"23\": 1}, \"11\": {\"11\": 41, \"122\": 1}, \"77\": {\"77\": 12}, \"62\": {\"62\": 27, \"21\": 1, \"122\": 1, \"78\": 1, \"4\": 1, \"94\": 1}, \"39\": {\"39\": 35, \"81\": 2, \"111\": 1, \"96\": 1, \"113\": 1}, \"61\": {\"35\": 2, \"61\": 14}, \"98\": {\"98\": 44, \"44\": 1, \"84\": 1}, \"111\": {\"111\": 32}, \"64\": {\"64\": 16}, \"70\": {\"70\": 37, \"88\": 1}, \"25\": {\"25\": 16}, \"56\": {\"56\": 11, \"41\": 1}, \"72\": {\"72\": 32}, \"87\": {\"87\": 51, \"21\": 1}, \"54\": {\"54\": 16}, \"36\": {\"36\": 42, \"10\": 1, \"39\": 1, \"24\": 3, \"97\": 1}, \"90\": {\"90\": 32}, \"120\": {\"32\": 1, \"120\": 19}, \"1\": {\"1\": 41, \"12\": 1}, \"78\": {\"51\": 1, \"78\": 24, \"21\": 2, \"82\": 1, \"60\": 1, \"17\": 1}, \"113\": {\"113\": 33, \"78\": 1, \"12\": 1, \"39\": 1}, \"32\": {\"32\": 25, \"120\": 1, \"22\": 1, \"51\": 1}, \"69\": {\"69\": 43, \"84\": 1}, \"92\": {\"92\": 27, \"82\": 1}, \"22\": {\"22\": 15, \"23\": 1}, \"18\": {\"18\": 32}, \"23\": {\"80\": 1, \"16\": 1, \"105\": 1, \"23\": 9, \"15\": 1, \"48\": 1, \"2\": 1, \"123\": 1}, \"85\": {\"85\": 27, \"4\": 1}, \"105\": {\"41\": 1, \"105\": 34, \"78\": 1, \"87\": 4}, \"118\": {\"118\": 30}, \"48\": {\"48\": 15, \"0\": 1}}, \"Wisig_1\": {\"63\": {\"63\": 16}, \"11\": {\"11\": 35, \"54\": 1}, \"23\": {\"23\": 20, \"49\": 2, \"110\": 1, \"71\": 1}, \"6\": {\"6\": 32}, \"125\": {\"125\": 38}, \"7\": {\"7\": 38}, \"33\": {\"33\": 32}, \"91\": {\"91\": 28}, \"108\": {\"108\": 42}, \"61\": {\"61\": 12}, \"69\": {\"69\": 31, \"116\": 1}, \"48\": {\"48\": 12}, \"58\": {\"58\": 9, \"53\": 1, \"12\": 1, \"125\": 1}, \"21\": {\"30\": 1, \"21\": 32, \"68\": 1, \"70\": 1, \"111\": 1, \"54\": 1, \"19\": 1, \"106\": 1, \"83\": 1}, \"103\": {\"103\": 14, \"52\": 1, \"76\": 1}, \"38\": {\"38\": 16}, \"81\": {\"81\": 28}, \"76\": {\"76\": 16}, \"70\": {\"70\": 38, \"21\": 1, \"39\": 1}, \"95\": {\"95\": 35, \"122\": 1}, \"43\": {\"43\": 34, \"27\": 1, \"21\": 1}, \"127\": {\"127\": 36}, \"87\": {\"87\": 42, \"93\": 1, \"105\": 1}, \"107\": {\"107\": 34}, \"116\": {\"116\": 32}, \"77\": {\"77\": 16}, \"45\": {\"45\": 7, \"21\": 2, \"42\": 1, \"9\": 1, \"124\": 1}, \"96\": {\"96\": 18, \"12\": 1, \"70\": 1}, \"74\": {\"74\": 16}, \"8\": {\"8\": 44}, \"114\": {\"114\": 44}, \"32\": {\"32\": 29, \"70\": 1}, \"102\": {\"102\": 40}, \"75\": {\"75\": 16}, \"123\": {\"123\": 15, \"2\": 1}, \"28\": {\"28\": 20}, \"37\": {\"37\": 16}, \"126\": {\"126\": 35, \"106\": 1}, \"30\": {\"30\": 38}, \"71\": {\"71\": 41, \"49\": 1, \"88\": 1, \"68\": 1}, \"18\": {\"18\": 28}, \"67\": {\"67\": 15, \"107\": 1}, \"83\": {\"83\": 28}, \"22\": {\"22\": 16}, \"53\": {\"53\": 19, \"45\": 1}, \"57\": {\"57\": 12}, \"89\": {\"89\": 32}, \"109\": {\"109\": 46}, \"119\": {\"119\": 16}, \"17\": {\"17\": 15, \"28\": 1}, \"14\": {\"14\": 34}, \"121\": {\"121\": 32}, \"59\": {\"59\": 11, \"34\": 1}, \"129\": {\"129\": 28}, \"105\": {\"105\": 38}, \"2\": {\"2\": 31, \"53\": 1}, \"68\": {\"68\": 16}, \"82\": {\"82\": 36}, \"27\": {\"27\": 42}, \"111\": {\"111\": 40}, \"124\": {\"124\": 40}, \"85\": {\"85\": 31, \"91\": 1}, \"26\": {\"26\": 46}, \"110\": {\"110\": 46}, \"97\": {\"97\": 16, \"49\": 1, \"88\": 2, \"59\": 1}, \"13\": {\"13\": 16}, \"3\": {\"3\": 35, \"27\": 1}, \"42\": {\"42\": 28}, \"25\": {\"25\": 16}, \"47\": {\"47\": 12}, \"115\": {\"115\": 12}, \"118\": {\"118\": 36, \"23\": 1, \"98\": 1}, \"84\": {\"84\": 42}, \"120\": {\"120\": 18, \"27\": 1, \"123\": 1}, \"92\": {\"92\": 28}, \"79\": {\"79\": 12}, \"80\": {\"80\": 16}, \"73\": {\"73\": 20}, \"36\": {\"36\": 32, \"68\": 1, \"21\": 1}, \"10\": {\"10\": 34, \"0\": 1, \"27\": 1}, \"104\": {\"104\": 16}, \"50\": {\"50\": 16}, \"39\": {\"39\": 43, \"14\": 1}, \"64\": {\"64\": 16}, \"112\": {\"112\": 16}, \"66\": {\"66\": 16}, \"31\": {\"31\": 15, \"94\": 1}, \"100\": {\"100\": 15, \"25\": 1}, \"101\": {\"101\": 54}, \"5\": {\"5\": 29, \"88\": 1}, \"117\": {\"117\": 42}, \"86\": {\"86\": 30}, \"51\": {\"51\": 16}, \"34\": {\"34\": 32}, \"4\": {\"4\": 40}, \"99\": {\"99\": 24}, \"12\": {\"12\": 36, \"71\": 1, \"36\": 1}, \"0\": {\"0\": 34, \"52\": 1, \"30\": 1}, \"78\": {\"78\": 13, \"82\": 1, \"21\": 2}, \"88\": {\"88\": 36, \"36\": 1, \"27\": 1}, \"40\": {\"40\": 38}, \"20\": {\"20\": 16}, \"90\": {\"90\": 36}, \"65\": {\"65\": 12}, \"44\": {\"44\": 38}, \"93\": {\"93\": 36, \"21\": 1, \"39\": 1}, \"122\": {\"122\": 35, \"113\": 1}, \"16\": {\"16\": 32}, \"52\": {\"52\": 20}, \"24\": {\"24\": 39, \"21\": 1, \"68\": 1, \"108\": 1}, \"29\": {\"29\": 28}, \"19\": {\"19\": 28}, \"106\": {\"106\": 38}, \"54\": {\"54\": 16}, \"94\": {\"94\": 40, \"27\": 1, \"12\": 1}, \"9\": {\"9\": 30}, \"41\": {\"41\": 16}, \"49\": {\"53\": 1, \"49\": 18, \"96\": 1}, \"60\": {\"60\": 16}, \"113\": {\"113\": 36}, \"72\": {\"72\": 32}, \"1\": {\"1\": 36}, \"55\": {\"55\": 12}, \"128\": {\"128\": 22, \"42\": 1, \"96\": 1}, \"15\": {\"15\": 40, \"111\": 1, \"27\": 1}, \"35\": {\"35\": 12}, \"46\": {\"54\": 1, \"25\": 1, \"94\": 2, \"46\": 6, \"12\": 1, \"125\": 1}, \"98\": {\"98\": 32}, \"62\": {\"62\": 26}, \"56\": {\"56\": 12}}, \"Wisig_3\": {\"9\": {\"9\": 32}, \"0\": {\"0\": 41, \"101\": 2, \"26\": 1}, \"2\": {\"2\": 28}, \"34\": {\"34\": 30}, \"128\": {\"128\": 31, \"19\": 1}, \"79\": {\"79\": 12}, \"3\": {\"3\": 35, \"97\": 1}, \"81\": {\"81\": 32}, \"41\": {\"41\": 16}, \"53\": {\"53\": 18, \"85\": 1, \"51\": 1}, \"93\": {\"93\": 34}, \"52\": {\"52\": 15, \"8\": 1}, \"124\": {\"124\": 39, \"72\": 1}, \"84\": {\"84\": 42}, \"49\": {\"49\": 24}, \"36\": {\"36\": 28, \"27\": 3, \"78\": 1}, \"76\": {\"76\": 16}, \"122\": {\"122\": 39, \"78\": 1, \"17\": 1, \"4\": 1}, \"80\": {\"80\": 16}, \"129\": {\"129\": 32}, \"88\": {\"88\": 34, \"70\": 1, \"21\": 1}, \"23\": {\"23\": 30, \"123\": 2}, \"63\": {\"63\": 16}, \"59\": {\"59\": 12}, \"38\": {\"38\": 16}, \"28\": {\"28\": 16}, \"105\": {\"105\": 34}, \"39\": {\"39\": 27, \"4\": 1}, \"96\": {\"96\": 20}, \"65\": {\"65\": 12}, \"16\": {\"16\": 40, \"25\": 1, \"30\": 1}, \"64\": {\"64\": 20}, \"119\": {\"119\": 16}, \"4\": {\"4\": 42}, \"30\": {\"30\": 38}, \"50\": {\"50\": 16}, \"92\": {\"92\": 28}, \"26\": {\"26\": 48, \"34\": 1, \"13\": 1}, \"94\": {\"94\": 38, \"78\": 2}, \"121\": {\"121\": 31, \"72\": 1}, \"90\": {\"90\": 40}, \"31\": {\"31\": 20}, \"108\": {\"108\": 34}, \"120\": {\"120\": 19, \"121\": 1}, \"6\": {\"6\": 30, \"61\": 1, \"27\": 1}, \"47\": {\"47\": 12}, \"67\": {\"67\": 14, \"63\": 2}, \"62\": {\"62\": 31, \"21\": 1}, \"32\": {\"32\": 31, \"66\": 1}, \"33\": {\"33\": 36}, \"126\": {\"126\": 39, \"78\": 1}, \"78\": {\"78\": 10, \"128\": 1, \"43\": 1, \"21\": 2, \"122\": 1, \"4\": 1}, \"111\": {\"111\": 40}, \"113\": {\"113\": 38}, \"99\": {\"99\": 32}, \"83\": {\"83\": 24}, \"66\": {\"66\": 16}, \"118\": {\"118\": 33, \"17\": 1}, \"127\": {\"127\": 34}, \"43\": {\"43\": 36, \"56\": 1, \"17\": 1, \"97\": 1, \"21\": 1}, \"116\": {\"116\": 28}, \"25\": {\"25\": 16}, \"106\": {\"106\": 24}, \"18\": {\"18\": 36}, \"72\": {\"72\": 28}, \"37\": {\"37\": 16}, \"95\": {\"95\": 31, \"110\": 1}, \"86\": {\"86\": 26, \"8\": 1, \"9\": 1}, \"35\": {\"35\": 12}, \"61\": {\"61\": 15, \"12\": 1}, \"21\": {\"21\": 30, \"67\": 1, \"73\": 1, \"106\": 1, \"86\": 1, \"70\": 1, \"78\": 1}, \"58\": {\"58\": 16}, \"103\": {\"103\": 16}, \"73\": {\"73\": 38}, \"13\": {\"13\": 11, \"106\": 1, \"111\": 1, \"21\": 2, \"78\": 1}, \"12\": {\"12\": 46}, \"109\": {\"109\": 38}, \"70\": {\"70\": 31, \"112\": 1, \"30\": 1, \"127\": 1}, \"54\": {\"54\": 16}, \"123\": {\"123\": 15, \"67\": 1}, \"101\": {\"101\": 41, \"12\": 1}, \"29\": {\"29\": 31, \"128\": 1}, \"56\": {\"56\": 10, \"51\": 1, \"12\": 1}, \"102\": {\"102\": 30}, \"87\": {\"87\": 38}, \"44\": {\"44\": 36}, \"75\": {\"75\": 16}, \"82\": {\"82\": 28}, \"107\": {\"107\": 34, \"82\": 1, \"122\": 1}, \"46\": {\"46\": 16}, \"71\": {\"71\": 36}, \"100\": {\"100\": 16}, \"97\": {\"97\": 18, \"17\": 1, \"27\": 1}, \"40\": {\"40\": 42}, \"7\": {\"7\": 44}, \"110\": {\"110\": 41, \"8\": 1}, \"11\": {\"11\": 40}, \"89\": {\"89\": 27, \"110\": 1}, \"1\": {\"1\": 24}, \"104\": {\"104\": 16}, \"74\": {\"74\": 15, \"116\": 1}, \"125\": {\"125\": 36}, \"14\": {\"14\": 38}, \"114\": {\"114\": 44}, \"48\": {\"48\": 14, \"119\": 1, \"99\": 1}, \"10\": {\"10\": 42}, \"22\": {\"22\": 15, \"42\": 1}, \"68\": {\"68\": 15, \"70\": 1}, \"19\": {\"19\": 32}, \"5\": {\"5\": 31, \"70\": 1}, \"17\": {\"17\": 13, \"67\": 1, \"115\": 2}, \"8\": {\"8\": 35, \"17\": 1}, \"60\": {\"60\": 28}, \"42\": {\"42\": 27, \"25\": 1}, \"117\": {\"117\": 40}, \"20\": {\"20\": 14, \"22\": 1, \"56\": 1}, \"85\": {\"85\": 34}, \"51\": {\"51\": 15, \"86\": 1}, \"69\": {\"69\": 33, \"106\": 1}, \"45\": {\"45\": 15, \"22\": 1}, \"98\": {\"98\": 30}, \"24\": {\"24\": 27, \"43\": 1, \"27\": 2}, \"15\": {\"15\": 28}, \"27\": {\"27\": 29, \"36\": 6, \"24\": 1}, \"91\": {\"91\": 22, \"81\": 1, \"22\": 1}, \"112\": {\"112\": 14, \"94\": 1, \"78\": 1}, \"115\": {\"115\": 16}, \"77\": {\"77\": 16}, \"57\": {\"57\": 19, \"74\": 1}, \"55\": {\"55\": 16}}, \"CORES_2\": {\"25\": {\"25\": 20}, \"39\": {\"39\": 20}, \"51\": {\"51\": 20}, \"4\": {\"4\": 20}, \"57\": {\"57\": 19, \"29\": 1}, \"0\": {\"0\": 20}, \"28\": {\"28\": 20}, \"35\": {\"35\": 20}, \"53\": {\"53\": 20}, \"33\": {\"33\": 20}, \"41\": {\"41\": 20}, \"14\": {\"14\": 10, \"42\": 2, \"29\": 4, \"43\": 3, \"0\": 1}, \"8\": {\"8\": 20}, \"47\": {\"47\": 20}, \"37\": {\"37\": 20}, \"43\": {\"43\": 20}, \"29\": {\"29\": 17, \"57\": 3}, \"56\": {\"56\": 20}, \"19\": {\"19\": 20}, \"48\": {\"48\": 20}, \"52\": {\"52\": 20}, \"22\": {\"22\": 20}, \"21\": {\"21\": 20}, \"27\": {\"27\": 20}, \"45\": {\"45\": 18, \"53\": 1, \"17\": 1}, \"10\": {\"10\": 20}, \"1\": {\"1\": 20}, \"38\": {\"38\": 20}, \"24\": {\"24\": 20}, \"17\": {\"17\": 20}, \"54\": {\"54\": 20}, \"3\": {\"3\": 18, \"16\": 1, \"9\": 1}, \"36\": {\"36\": 20}, \"40\": {\"40\": 19, \"44\": 1}, \"11\": {\"11\": 19, \"15\": 1}, \"55\": {\"55\": 18, \"5\": 1, \"23\": 1}, \"26\": {\"26\": 20}, \"20\": {\"20\": 20}, \"5\": {\"5\": 18, \"16\": 1, \"18\": 1}, \"44\": {\"44\": 20}, \"32\": {\"32\": 20}, \"31\": {\"31\": 20}, \"30\": {\"30\": 20}, \"49\": {\"49\": 19, \"25\": 1}, \"50\": {\"50\": 20}, \"6\": {\"6\": 20}, \"34\": {\"34\": 20}, \"15\": {\"15\": 20}, \"18\": {\"18\": 20}, \"16\": {\"16\": 20}, \"7\": {\"7\": 20}, \"9\": {\"9\": 20}, \"42\": {\"42\": 20}, \"2\": {\"2\": 20}, \"12\": {\"12\": 20}, \"46\": {\"46\": 19, \"48\": 1}, \"13\": {\"13\": 20}, \"23\": {\"23\": 19, \"34\": 1}}, \"CORES_1\": {\"9\": {\"9\": 24}, \"57\": {\"57\": 24}, \"18\": {\"18\": 23, \"50\": 1}, \"35\": {\"35\": 24}, \"24\": {\"24\": 23, \"22\": 1}, \"38\": {\"38\": 22, \"55\": 2}, \"3\": {\"3\": 24}, \"12\": {\"12\": 24}, \"11\": {\"11\": 23, \"50\": 1}, \"1\": {\"1\": 24}, \"5\": {\"5\": 23, \"2\": 1}, \"31\": {\"31\": 24}, \"25\": {\"25\": 24}, \"17\": {\"17\": 24}, \"36\": {\"36\": 24}, \"0\": {\"0\": 24}, \"16\": {\"16\": 24}, \"32\": {\"32\": 24}, \"20\": {\"20\": 24}, \"37\": {\"37\": 24}, \"8\": {\"8\": 24}, \"50\": {\"50\": 24}, \"30\": {\"30\": 24}, \"27\": {\"27\": 24}, \"6\": {\"6\": 22, \"2\": 1, \"8\": 1}, \"23\": {\"23\": 24}, \"28\": {\"28\": 24}, \"40\": {\"40\": 24}, \"49\": {\"49\": 24}, \"56\": {\"56\": 24}, \"15\": {\"15\": 24}, \"19\": {\"19\": 22, \"29\": 2}, \"55\": {\"38\": 1, \"55\": 23}, \"51\": {\"51\": 24}, \"52\": {\"52\": 24}, \"13\": {\"13\": 24}, \"22\": {\"22\": 24}, \"4\": {\"4\": 24}, \"43\": {\"43\": 23, \"39\": 1}, \"29\": {\"29\": 21, \"19\": 3}, \"33\": {\"33\": 24}, \"45\": {\"45\": 24}, \"10\": {\"10\": 24}, \"48\": {\"48\": 24}, \"2\": {\"2\": 24}, \"39\": {\"39\": 24}, \"44\": {\"44\": 23, \"57\": 1}, \"7\": {\"7\": 24}, \"53\": {\"53\": 24}, \"54\": {\"54\": 24}, \"46\": {\"46\": 24}, \"14\": {\"30\": 8, \"14\": 9, \"6\": 5, \"8\": 1, \"57\": 1}, \"47\": {\"47\": 24}, \"34\": {\"34\": 24}, \"42\": {\"42\": 24}, \"21\": {\"21\": 24}, \"26\": {\"26\": 24}, \"41\": {\"41\": 24}}, \"CORES_5\": {\"37\": {\"37\": 20}, \"22\": {\"22\": 20}, \"40\": {\"40\": 17, \"35\": 1, \"5\": 2}, \"19\": {\"19\": 20}, \"2\": {\"2\": 20}, \"0\": {\"0\": 20}, \"5\": {\"5\": 20}, \"25\": {\"25\": 20}, \"18\": {\"18\": 20}, \"4\": {\"4\": 20}, \"6\": {\"6\": 18, \"53\": 1, \"17\": 1}, \"21\": {\"21\": 20}, \"24\": {\"24\": 20}, \"35\": {\"35\": 20}, \"43\": {\"43\": 20}, \"14\": {\"28\": 4, \"14\": 10, \"54\": 4, \"31\": 1, \"9\": 1}, \"53\": {\"53\": 20}, \"11\": {\"11\": 19, \"15\": 1}, \"28\": {\"28\": 20}, \"49\": {\"49\": 20}, \"10\": {\"10\": 20}, \"27\": {\"27\": 20}, \"8\": {\"8\": 20}, \"46\": {\"46\": 19, \"3\": 1}, \"3\": {\"3\": 20}, \"17\": {\"17\": 20}, \"23\": {\"23\": 20}, \"20\": {\"20\": 20}, \"16\": {\"16\": 20}, \"55\": {\"55\": 20}, \"15\": {\"15\": 19, \"11\": 1}, \"45\": {\"45\": 20}, \"12\": {\"12\": 20}, \"30\": {\"30\": 20}, \"13\": {\"13\": 20}, \"54\": {\"54\": 20}, \"57\": {\"57\": 20}, \"1\": {\"1\": 19, \"48\": 1}, \"7\": {\"7\": 20}, \"33\": {\"33\": 20}, \"56\": {\"56\": 20}, \"44\": {\"44\": 20}, \"48\": {\"48\": 19, \"1\": 1}, \"36\": {\"36\": 20}, \"50\": {\"50\": 20}, \"32\": {\"32\": 19, \"27\": 1}, \"51\": {\"51\": 20}, \"52\": {\"52\": 20}, \"31\": {\"31\": 20}, \"39\": {\"39\": 20}, \"42\": {\"42\": 20}, \"9\": {\"9\": 20}, \"26\": {\"26\": 20}, \"38\": {\"38\": 20}, \"47\": {\"47\": 20}, \"34\": {\"34\": 20}, \"41\": {\"41\": 20}, \"29\": {\"29\": 20}}, \"CORES_4\": {\"25\": {\"25\": 16}, \"24\": {\"24\": 16}, \"6\": {\"6\": 15, \"52\": 1}, \"27\": {\"27\": 16}, \"35\": {\"35\": 16}, \"48\": {\"48\": 16}, \"0\": {\"0\": 16}, \"44\": {\"44\": 15, \"40\": 1}, \"50\": {\"50\": 16}, \"36\": {\"36\": 14, \"54\": 1, \"30\": 1}, \"13\": {\"13\": 16}, \"42\": {\"42\": 16}, \"38\": {\"38\": 16}, \"54\": {\"54\": 16}, \"33\": {\"33\": 16}, \"49\": {\"49\": 16}, \"28\": {\"28\": 16}, \"53\": {\"53\": 16}, \"16\": {\"16\": 16}, \"20\": {\"20\": 16}, \"12\": {\"12\": 16}, \"1\": {\"1\": 16}, \"5\": {\"5\": 14, \"16\": 2}, \"52\": {\"52\": 16}, \"39\": {\"39\": 16}, \"11\": {\"11\": 12, \"15\": 4}, \"3\": {\"3\": 14, \"50\": 2}, \"22\": {\"22\": 16}, \"23\": {\"23\": 16}, \"47\": {\"47\": 16}, \"32\": {\"32\": 15, \"0\": 1}, \"31\": {\"31\": 16}, \"4\": {\"4\": 16}, \"43\": {\"43\": 16}, \"46\": {\"46\": 13, \"16\": 2, \"15\": 1}, \"40\": {\"40\": 16}, \"55\": {\"55\": 16}, \"21\": {\"21\": 16}, \"56\": {\"56\": 16}, \"8\": {\"8\": 16}, \"37\": {\"37\": 16}, \"7\": {\"7\": 16}, \"14\": {\"14\": 4, \"0\": 2, \"29\": 5, \"32\": 4, \"31\": 1}, \"18\": {\"18\": 16}, \"26\": {\"26\": 16}, \"34\": {\"34\": 16}, \"45\": {\"45\": 16}, \"10\": {\"10\": 16}, \"15\": {\"15\": 16}, \"51\": {\"51\": 16}, \"30\": {\"30\": 16}, \"41\": {\"41\": 16}, \"2\": {\"2\": 16}, \"29\": {\"29\": 16}, \"19\": {\"19\": 16}, \"17\": {\"17\": 16}, \"9\": {\"9\": 15, \"27\": 1}, \"57\": {\"57\": 16}}, \"CORES_3\": {\"20\": {\"20\": 16}, \"56\": {\"56\": 16}, \"43\": {\"43\": 16}, \"1\": {\"1\": 16}, \"41\": {\"41\": 16}, \"29\": {\"29\": 15, \"57\": 1}, \"27\": {\"27\": 16}, \"4\": {\"4\": 15, \"27\": 1}, \"53\": {\"53\": 16}, \"22\": {\"22\": 16}, \"46\": {\"46\": 15, \"48\": 1}, \"54\": {\"54\": 14, \"36\": 2}, \"9\": {\"9\": 15, \"3\": 1}, \"5\": {\"5\": 15, \"3\": 1}, \"18\": {\"16\": 1, \"18\": 15}, \"45\": {\"45\": 16}, \"48\": {\"48\": 15, \"6\": 1}, \"35\": {\"35\": 16}, \"40\": {\"40\": 12, \"44\": 4}, \"33\": {\"33\": 16}, \"0\": {\"0\": 16}, \"44\": {\"44\": 14, \"40\": 2}, \"50\": {\"50\": 16}, \"38\": {\"38\": 16}, \"57\": {\"57\": 16}, \"15\": {\"15\": 15, \"11\": 1}, \"26\": {\"26\": 16}, \"51\": {\"51\": 16}, \"30\": {\"30\": 16}, \"47\": {\"47\": 16}, \"6\": {\"6\": 13, \"38\": 3}, \"8\": {\"8\": 16}, \"24\": {\"24\": 16}, \"12\": {\"12\": 16}, \"7\": {\"7\": 16}, \"49\": {\"49\": 16}, \"28\": {\"28\": 16}, \"2\": {\"2\": 16}, \"42\": {\"42\": 16}, \"11\": {\"11\": 16}, \"23\": {\"23\": 16}, \"17\": {\"17\": 16}, \"52\": {\"52\": 16}, \"31\": {\"31\": 16}, \"32\": {\"32\": 16}, \"21\": {\"21\": 16}, \"19\": {\"19\": 16}, \"39\": {\"39\": 16}, \"3\": {\"3\": 16}, \"13\": {\"13\": 16}, \"25\": {\"25\": 16}, \"55\": {\"55\": 16}, \"16\": {\"16\": 16}, \"37\": {\"37\": 16}, \"36\": {\"36\": 16}, \"14\": {\"28\": 8, \"14\": 6, \"42\": 2}, \"34\": {\"34\": 16}, \"10\": {\"10\": 16}}}, \"per_domain_accuracy\": {\"Wisig_2\": {\"accuracy\": 0.9594320486815415, \"source?\": true}, \"Wisig_4\": {\"accuracy\": 0.9537617554858934, \"source?\": true}, \"Wisig_1\": {\"accuracy\": 0.9746941045606229, \"source?\": true}, \"Wisig_3\": {\"accuracy\": 0.9702447163515017, \"source?\": true}, \"CORES_2\": {\"accuracy\": 0.9767241379310345, \"source?\": false}, \"CORES_1\": {\"accuracy\": 0.9777298850574713, \"source?\": false}, \"CORES_5\": {\"accuracy\": 0.9818965517241379, \"source?\": false}, \"CORES_4\": {\"accuracy\": 0.96875, \"source?\": false}, \"CORES_3\": {\"accuracy\": 0.96875, \"source?\": false}}}, \"history\": {\"epoch_indices\": [1, 2, 3], \"train_label_loss\": [0.5556477958832226, 0.2510879275263272, 0.1957986327474135], \"source_val_label_loss\": [0.30374348163604736, 0.23074553906917572, 0.19541631639003754], \"target_val_label_loss\": [0.20954784750938416, 0.18260657787322998, 0.17400312423706055], \"source_val_acc_label\": [0.9421946003742315, 0.9565624164661856, 0.9642475273990911], \"target_val_acc_label\": [0.974676724137931, 0.9750359195402298, 0.9753951149425287]}, \"dataset_metrics\": {\"source\": {\"train\": {\"n_unique_x\": 140762, \"n_unique_y\": 130, \"n_batch/episode\": 911}, \"val\": {\"n_unique_x\": 26165, \"n_unique_y\": 130, \"n_batch/episode\": 129}, \"test\": {\"n_unique_x\": 26259, \"n_unique_y\": 130, \"n_batch/episode\": 130}}, \"target\": {\"train\": {\"n_unique_x\": 75914, \"n_unique_y\": 58, \"n_batch/episode\": 351}, \"val\": {\"n_unique_x\": 11872, \"n_unique_y\": 58, \"n_batch/episode\": 48}, \"test\": {\"n_unique_x\": 12298, \"n_unique_y\": 58, \"n_batch/episode\": 50}}}}'"
      ]
     },
     "execution_count": 29,
     "metadata": {},
     "output_type": "execute_result"
    }
   ],
   "source": [
    "json.dumps(experiment)"
   ]
  }
 ],
 "metadata": {
  "celltoolbar": "Tags",
  "kernelspec": {
   "display_name": "Python 3 (ipykernel)",
   "language": "python",
   "name": "python3"
  },
  "language_info": {
   "codemirror_mode": {
    "name": "ipython",
    "version": 3
   },
   "file_extension": ".py",
   "mimetype": "text/x-python",
   "name": "python",
   "nbconvert_exporter": "python",
   "pygments_lexer": "ipython3",
   "version": "3.8.12"
  },
  "papermill": {
   "default_parameters": {},
   "duration": 357.188973,
   "end_time": "2022-03-21T03:18:06.297595",
   "environment_variables": {},
   "exception": null,
   "input_path": "/root/csc500-main/csc500-notebooks/templates/tl_ptn_template.ipynb",
   "output_path": "trial.ipynb",
   "parameters": {
    "parameters": {
     "BEST_MODEL_PATH": "./best_model.pth",
     "NUM_LOGS_PER_EPOCH": 10,
     "criteria_for_best": "target_accuracy",
     "dataset_seed": 154325,
     "datasets": [
      {
       "domain_prefix": "CORES_",
       "domains": [
        1,
        2,
        3,
        4,
        5
       ],
       "episode_transforms": [],
       "labels": [
        "1-10.",
        "1-11.",
        "1-15.",
        "1-16.",
        "1-17.",
        "1-18.",
        "1-19.",
        "10-4.",
        "10-7.",
        "11-1.",
        "11-14.",
        "11-17.",
        "11-20.",
        "11-7.",
        "13-20.",
        "13-8.",
        "14-10.",
        "14-11.",
        "14-14.",
        "14-7.",
        "15-1.",
        "15-20.",
        "16-1.",
        "16-16.",
        "17-10.",
        "17-11.",
        "17-2.",
        "19-1.",
        "19-16.",
        "19-19.",
        "19-20.",
        "19-3.",
        "2-10.",
        "2-11.",
        "2-17.",
        "2-18.",
        "2-20.",
        "2-3.",
        "2-4.",
        "2-5.",
        "2-6.",
        "2-7.",
        "2-8.",
        "3-13.",
        "3-18.",
        "3-3.",
        "4-1.",
        "4-10.",
        "4-11.",
        "4-19.",
        "5-5.",
        "6-15.",
        "7-10.",
        "7-14.",
        "8-18.",
        "8-20.",
        "8-3.",
        "8-8."
       ],
       "num_examples_per_domain_per_label": -1,
       "pickle_path": "/root/csc500-main/datasets/cores.stratified_ds.2022A.pkl",
       "source_or_target_dataset": "target",
       "x_transforms": [
        "unit_power"
       ]
      },
      {
       "domain_prefix": "Wisig_",
       "domains": [
        1,
        2,
        3,
        4
       ],
       "episode_transforms": [],
       "labels": [
        "1-10",
        "1-12",
        "1-14",
        "1-16",
        "1-18",
        "1-19",
        "1-8",
        "10-11",
        "10-17",
        "10-4",
        "10-7",
        "11-1",
        "11-10",
        "11-19",
        "11-20",
        "11-4",
        "11-7",
        "12-19",
        "12-20",
        "12-7",
        "13-14",
        "13-18",
        "13-19",
        "13-20",
        "13-3",
        "13-7",
        "14-10",
        "14-11",
        "14-12",
        "14-13",
        "14-14",
        "14-19",
        "14-20",
        "14-7",
        "14-8",
        "14-9",
        "15-1",
        "15-19",
        "15-6",
        "16-1",
        "16-16",
        "16-19",
        "16-20",
        "17-10",
        "17-11",
        "18-1",
        "18-10",
        "18-11",
        "18-12",
        "18-13",
        "18-14",
        "18-15",
        "18-16",
        "18-17",
        "18-19",
        "18-2",
        "18-20",
        "18-4",
        "18-5",
        "18-7",
        "18-8",
        "18-9",
        "19-1",
        "19-10",
        "19-11",
        "19-12",
        "19-13",
        "19-14",
        "19-15",
        "19-19",
        "19-2",
        "19-20",
        "19-3",
        "19-4",
        "19-6",
        "19-7",
        "19-8",
        "19-9",
        "2-1",
        "2-13",
        "2-15",
        "2-3",
        "2-4",
        "2-5",
        "2-6",
        "2-7",
        "2-8",
        "20-1",
        "20-12",
        "20-14",
        "20-15",
        "20-16",
        "20-18",
        "20-19",
        "20-20",
        "20-3",
        "20-4",
        "20-5",
        "20-7",
        "20-8",
        "3-1",
        "3-13",
        "3-18",
        "3-2",
        "3-8",
        "4-1",
        "4-10",
        "4-11",
        "5-1",
        "5-5",
        "6-1",
        "6-15",
        "6-6",
        "7-10",
        "7-11",
        "7-12",
        "7-13",
        "7-14",
        "7-7",
        "7-8",
        "7-9",
        "8-1",
        "8-13",
        "8-14",
        "8-18",
        "8-20",
        "8-3",
        "8-8",
        "9-1",
        "9-7"
       ],
       "num_examples_per_domain_per_label": -1,
       "pickle_path": "/root/csc500-main/datasets/wisig.node3-19.stratified_ds.2022A.pkl",
       "source_or_target_dataset": "source",
       "x_transforms": [
        "unit_power"
       ]
      }
     ],
     "device": "cuda",
     "experiment_name": "tl_1v2:cores-wisig",
     "lr": 0.0001,
     "n_epoch": 3,
     "n_query": 2,
     "n_shot": 3,
     "n_way": 58,
     "patience": 3,
     "seed": 154325,
     "test_k_factor": 2,
     "torch_default_dtype": "torch.float32",
     "train_k_factor": 3,
     "val_k_factor": 2,
     "x_net": [
      {
       "class": "nnReshape",
       "kargs": {
        "shape": [
         -1,
         1,
         2,
         256
        ]
       }
      },
      {
       "class": "Conv2d",
       "kargs": {
        "bias": false,
        "in_channels": 1,
        "kernel_size": [
         1,
         7
        ],
        "out_channels": 256,
        "padding": [
         0,
         3
        ]
       }
      },
      {
       "class": "ReLU",
       "kargs": {
        "inplace": true
       }
      },
      {
       "class": "BatchNorm2d",
       "kargs": {
        "num_features": 256
       }
      },
      {
       "class": "Conv2d",
       "kargs": {
        "bias": true,
        "in_channels": 256,
        "kernel_size": [
         2,
         7
        ],
        "out_channels": 80,
        "padding": [
         0,
         3
        ]
       }
      },
      {
       "class": "ReLU",
       "kargs": {
        "inplace": true
       }
      },
      {
       "class": "BatchNorm2d",
       "kargs": {
        "num_features": 80
       }
      },
      {
       "class": "Flatten",
       "kargs": {}
      },
      {
       "class": "Linear",
       "kargs": {
        "in_features": 20480,
        "out_features": 256
       }
      },
      {
       "class": "ReLU",
       "kargs": {
        "inplace": true
       }
      },
      {
       "class": "BatchNorm1d",
       "kargs": {
        "num_features": 256
       }
      },
      {
       "class": "Linear",
       "kargs": {
        "in_features": 256,
        "out_features": 256
       }
      }
     ]
    }
   },
   "start_time": "2022-03-21T03:12:09.108622",
   "version": "2.3.4"
  }
 },
 "nbformat": 4,
 "nbformat_minor": 5
}