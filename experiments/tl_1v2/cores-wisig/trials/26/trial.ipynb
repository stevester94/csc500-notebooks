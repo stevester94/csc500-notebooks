{
 "cells": [
  {
   "cell_type": "markdown",
   "id": "9fea5f46",
   "metadata": {
    "papermill": {
     "duration": 0.029924,
     "end_time": "2022-03-21T04:07:59.649534",
     "exception": false,
     "start_time": "2022-03-21T04:07:59.619610",
     "status": "completed"
    },
    "tags": []
   },
   "source": [
    "# Transfer Learning Template"
   ]
  },
  {
   "cell_type": "code",
   "execution_count": 1,
   "id": "0902182a",
   "metadata": {
    "execution": {
     "iopub.execute_input": "2022-03-21T04:07:59.718419Z",
     "iopub.status.busy": "2022-03-21T04:07:59.717511Z",
     "iopub.status.idle": "2022-03-21T04:08:01.629654Z",
     "shell.execute_reply": "2022-03-21T04:08:01.629153Z"
    },
    "papermill": {
     "duration": 1.956391,
     "end_time": "2022-03-21T04:08:01.629757",
     "exception": false,
     "start_time": "2022-03-21T04:07:59.673366",
     "status": "completed"
    },
    "tags": []
   },
   "outputs": [],
   "source": [
    "%load_ext autoreload\n",
    "%autoreload 2\n",
    "%matplotlib inline\n",
    "\n",
    "    \n",
    "import os, json, sys, time, random\n",
    "import numpy as np\n",
    "import torch\n",
    "from torch.optim import Adam\n",
    "from  easydict import EasyDict\n",
    "import matplotlib.pyplot as plt\n",
    "\n",
    "from steves_models.steves_ptn import Steves_Prototypical_Network\n",
    "\n",
    "from steves_utils.lazy_iterable_wrapper import Lazy_Iterable_Wrapper\n",
    "from steves_utils.iterable_aggregator import Iterable_Aggregator\n",
    "from steves_utils.ptn_train_eval_test_jig import  PTN_Train_Eval_Test_Jig\n",
    "from steves_utils.torch_sequential_builder import build_sequential\n",
    "from steves_utils.torch_utils import get_dataset_metrics, ptn_confusion_by_domain_over_dataloader\n",
    "from steves_utils.utils_v2 import (per_domain_accuracy_from_confusion, get_datasets_base_path)\n",
    "from steves_utils.PTN.utils import independent_accuracy_assesment\n",
    "\n",
    "from torch.utils.data import DataLoader\n",
    "\n",
    "from steves_utils.stratified_dataset.episodic_accessor import Episodic_Accessor_Factory\n",
    "\n",
    "from steves_utils.ptn_do_report import (\n",
    "    get_loss_curve,\n",
    "    get_results_table,\n",
    "    get_parameters_table,\n",
    "    get_domain_accuracies,\n",
    ")\n",
    "\n",
    "from steves_utils.transforms import get_chained_transform"
   ]
  },
  {
   "cell_type": "markdown",
   "id": "41c840b4",
   "metadata": {
    "papermill": {
     "duration": 0.019624,
     "end_time": "2022-03-21T04:08:01.674228",
     "exception": false,
     "start_time": "2022-03-21T04:08:01.654604",
     "status": "completed"
    },
    "tags": []
   },
   "source": [
    "# Allowed Parameters\n",
    "These are allowed parameters, not defaults\n",
    "Each of these values need to be present in the injected parameters (the notebook will raise an exception if they are not present)\n",
    "\n",
    "Papermill uses the cell tag \"parameters\" to inject the real parameters below this cell.\n",
    "Enable tags to see what I mean"
   ]
  },
  {
   "cell_type": "code",
   "execution_count": 2,
   "id": "fd44eb83",
   "metadata": {
    "execution": {
     "iopub.execute_input": "2022-03-21T04:08:01.719145Z",
     "iopub.status.busy": "2022-03-21T04:08:01.718756Z",
     "iopub.status.idle": "2022-03-21T04:08:01.742087Z",
     "shell.execute_reply": "2022-03-21T04:08:01.741272Z"
    },
    "papermill": {
     "duration": 0.048329,
     "end_time": "2022-03-21T04:08:01.742245",
     "exception": false,
     "start_time": "2022-03-21T04:08:01.693916",
     "status": "completed"
    },
    "tags": []
   },
   "outputs": [],
   "source": [
    "required_parameters = {\n",
    "    \"experiment_name\",\n",
    "    \"lr\",\n",
    "    \"device\",\n",
    "    \"seed\",\n",
    "    \"dataset_seed\",\n",
    "    \"n_shot\",\n",
    "    \"n_query\",\n",
    "    \"n_way\",\n",
    "    \"train_k_factor\",\n",
    "    \"val_k_factor\",\n",
    "    \"test_k_factor\",\n",
    "    \"n_epoch\",\n",
    "    \"patience\",\n",
    "    \"criteria_for_best\",\n",
    "    \"x_net\",\n",
    "    \"datasets\",\n",
    "    \"torch_default_dtype\",\n",
    "    \"NUM_LOGS_PER_EPOCH\",\n",
    "    \"BEST_MODEL_PATH\",\n",
    "    \"x_shape\",\n",
    "}"
   ]
  },
  {
   "cell_type": "code",
   "execution_count": 3,
   "id": "fa3f0049",
   "metadata": {
    "execution": {
     "iopub.execute_input": "2022-03-21T04:08:01.800936Z",
     "iopub.status.busy": "2022-03-21T04:08:01.799955Z",
     "iopub.status.idle": "2022-03-21T04:08:01.825067Z",
     "shell.execute_reply": "2022-03-21T04:08:01.824259Z"
    },
    "papermill": {
     "duration": 0.057797,
     "end_time": "2022-03-21T04:08:01.825221",
     "exception": false,
     "start_time": "2022-03-21T04:08:01.767424",
     "status": "completed"
    },
    "tags": [
     "parameters"
    ]
   },
   "outputs": [],
   "source": [
    "from steves_utils.CORES.utils import (\n",
    "    ALL_NODES,\n",
    "    ALL_NODES_MINIMUM_1000_EXAMPLES,\n",
    "    ALL_DAYS\n",
    ")\n",
    "\n",
    "from steves_utils.ORACLE.utils_v2 import (\n",
    "    ALL_DISTANCES_FEET_NARROWED,\n",
    "    ALL_RUNS,\n",
    "    ALL_SERIAL_NUMBERS,\n",
    ")\n",
    "\n",
    "standalone_parameters = {}\n",
    "standalone_parameters[\"experiment_name\"] = \"STANDALONE PTN\"\n",
    "standalone_parameters[\"lr\"] = 0.001\n",
    "standalone_parameters[\"device\"] = \"cuda\"\n",
    "\n",
    "standalone_parameters[\"seed\"] = 1337\n",
    "standalone_parameters[\"dataset_seed\"] = 1337\n",
    "\n",
    "standalone_parameters[\"n_way\"] = 8\n",
    "standalone_parameters[\"n_shot\"] = 3\n",
    "standalone_parameters[\"n_query\"]  = 2\n",
    "standalone_parameters[\"train_k_factor\"] = 1\n",
    "standalone_parameters[\"val_k_factor\"] = 2\n",
    "standalone_parameters[\"test_k_factor\"] = 2\n",
    "\n",
    "\n",
    "standalone_parameters[\"n_epoch\"] = 50\n",
    "\n",
    "standalone_parameters[\"patience\"] = 10\n",
    "standalone_parameters[\"criteria_for_best\"] = \"source_loss\"\n",
    "\n",
    "standalone_parameters[\"datasets\"] = [\n",
    "    {\n",
    "        \"labels\": ALL_SERIAL_NUMBERS,\n",
    "        \"domains\": ALL_DISTANCES_FEET_NARROWED,\n",
    "        \"num_examples_per_domain_per_label\": 100,\n",
    "        \"pickle_path\": os.path.join(get_datasets_base_path(), \"oracle.Run1_framed_2000Examples_stratified_ds.2022A.pkl\"),\n",
    "        \"source_or_target_dataset\": \"source\",\n",
    "        \"x_transforms\": [\"unit_mag\", \"minus_two\"],\n",
    "        \"episode_transforms\": [],\n",
    "        \"domain_prefix\": \"ORACLE_\"\n",
    "    },\n",
    "    {\n",
    "        \"labels\": ALL_NODES,\n",
    "        \"domains\": ALL_DAYS,\n",
    "        \"num_examples_per_domain_per_label\": 100,\n",
    "        \"pickle_path\": os.path.join(get_datasets_base_path(), \"cores.stratified_ds.2022A.pkl\"),\n",
    "        \"source_or_target_dataset\": \"target\",\n",
    "        \"x_transforms\": [\"unit_power\", \"times_zero\"],\n",
    "        \"episode_transforms\": [],\n",
    "        \"domain_prefix\": \"CORES_\"\n",
    "    }   \n",
    "]\n",
    "\n",
    "standalone_parameters[\"torch_default_dtype\"] = \"torch.float32\" \n",
    "\n",
    "\n",
    "\n",
    "standalone_parameters[\"x_net\"] =     [\n",
    "    {\"class\": \"nnReshape\", \"kargs\": {\"shape\":[-1, 1, 2, 256]}},\n",
    "    {\"class\": \"Conv2d\", \"kargs\": { \"in_channels\":1, \"out_channels\":256, \"kernel_size\":(1,7), \"bias\":False, \"padding\":(0,3), },},\n",
    "    {\"class\": \"ReLU\", \"kargs\": {\"inplace\": True}},\n",
    "    {\"class\": \"BatchNorm2d\", \"kargs\": {\"num_features\":256}},\n",
    "\n",
    "    {\"class\": \"Conv2d\", \"kargs\": { \"in_channels\":256, \"out_channels\":80, \"kernel_size\":(2,7), \"bias\":True, \"padding\":(0,3), },},\n",
    "    {\"class\": \"ReLU\", \"kargs\": {\"inplace\": True}},\n",
    "    {\"class\": \"BatchNorm2d\", \"kargs\": {\"num_features\":80}},\n",
    "    {\"class\": \"Flatten\", \"kargs\": {}},\n",
    "\n",
    "    {\"class\": \"Linear\", \"kargs\": {\"in_features\": 80*256, \"out_features\": 256}}, # 80 units per IQ pair\n",
    "    {\"class\": \"ReLU\", \"kargs\": {\"inplace\": True}},\n",
    "    {\"class\": \"BatchNorm1d\", \"kargs\": {\"num_features\":256}},\n",
    "\n",
    "    {\"class\": \"Linear\", \"kargs\": {\"in_features\": 256, \"out_features\": 256}},\n",
    "]\n",
    "\n",
    "# Parameters relevant to results\n",
    "# These parameters will basically never need to change\n",
    "standalone_parameters[\"NUM_LOGS_PER_EPOCH\"] = 10\n",
    "standalone_parameters[\"BEST_MODEL_PATH\"] = \"./best_model.pth\"\n",
    "\n",
    "\n",
    "\n",
    "\n"
   ]
  },
  {
   "cell_type": "code",
   "execution_count": 4,
   "id": "7720348d",
   "metadata": {
    "execution": {
     "iopub.execute_input": "2022-03-21T04:08:01.888815Z",
     "iopub.status.busy": "2022-03-21T04:08:01.887772Z",
     "iopub.status.idle": "2022-03-21T04:08:01.913665Z",
     "shell.execute_reply": "2022-03-21T04:08:01.912956Z"
    },
    "papermill": {
     "duration": 0.062495,
     "end_time": "2022-03-21T04:08:01.913820",
     "exception": false,
     "start_time": "2022-03-21T04:08:01.851325",
     "status": "completed"
    },
    "tags": [
     "injected-parameters"
    ]
   },
   "outputs": [],
   "source": [
    "# Parameters\n",
    "parameters = {\n",
    "    \"experiment_name\": \"tl_1v2:cores-wisig\",\n",
    "    \"device\": \"cuda\",\n",
    "    \"lr\": 0.0001,\n",
    "    \"n_shot\": 3,\n",
    "    \"n_query\": 2,\n",
    "    \"train_k_factor\": 3,\n",
    "    \"val_k_factor\": 2,\n",
    "    \"test_k_factor\": 2,\n",
    "    \"torch_default_dtype\": \"torch.float32\",\n",
    "    \"n_epoch\": 3,\n",
    "    \"patience\": 3,\n",
    "    \"criteria_for_best\": \"target_accuracy\",\n",
    "    \"x_net\": [\n",
    "        {\"class\": \"nnReshape\", \"kargs\": {\"shape\": [-1, 1, 2, 256]}},\n",
    "        {\n",
    "            \"class\": \"Conv2d\",\n",
    "            \"kargs\": {\n",
    "                \"in_channels\": 1,\n",
    "                \"out_channels\": 256,\n",
    "                \"kernel_size\": [1, 7],\n",
    "                \"bias\": False,\n",
    "                \"padding\": [0, 3],\n",
    "            },\n",
    "        },\n",
    "        {\"class\": \"ReLU\", \"kargs\": {\"inplace\": True}},\n",
    "        {\"class\": \"BatchNorm2d\", \"kargs\": {\"num_features\": 256}},\n",
    "        {\n",
    "            \"class\": \"Conv2d\",\n",
    "            \"kargs\": {\n",
    "                \"in_channels\": 256,\n",
    "                \"out_channels\": 80,\n",
    "                \"kernel_size\": [2, 7],\n",
    "                \"bias\": True,\n",
    "                \"padding\": [0, 3],\n",
    "            },\n",
    "        },\n",
    "        {\"class\": \"ReLU\", \"kargs\": {\"inplace\": True}},\n",
    "        {\"class\": \"BatchNorm2d\", \"kargs\": {\"num_features\": 80}},\n",
    "        {\"class\": \"Flatten\", \"kargs\": {}},\n",
    "        {\"class\": \"Linear\", \"kargs\": {\"in_features\": 20480, \"out_features\": 256}},\n",
    "        {\"class\": \"ReLU\", \"kargs\": {\"inplace\": True}},\n",
    "        {\"class\": \"BatchNorm1d\", \"kargs\": {\"num_features\": 256}},\n",
    "        {\"class\": \"Linear\", \"kargs\": {\"in_features\": 256, \"out_features\": 256}},\n",
    "    ],\n",
    "    \"NUM_LOGS_PER_EPOCH\": 10,\n",
    "    \"BEST_MODEL_PATH\": \"./best_model.pth\",\n",
    "    \"n_way\": 58,\n",
    "    \"datasets\": [\n",
    "        {\n",
    "            \"labels\": [\n",
    "                \"1-10.\",\n",
    "                \"1-11.\",\n",
    "                \"1-15.\",\n",
    "                \"1-16.\",\n",
    "                \"1-17.\",\n",
    "                \"1-18.\",\n",
    "                \"1-19.\",\n",
    "                \"10-4.\",\n",
    "                \"10-7.\",\n",
    "                \"11-1.\",\n",
    "                \"11-14.\",\n",
    "                \"11-17.\",\n",
    "                \"11-20.\",\n",
    "                \"11-7.\",\n",
    "                \"13-20.\",\n",
    "                \"13-8.\",\n",
    "                \"14-10.\",\n",
    "                \"14-11.\",\n",
    "                \"14-14.\",\n",
    "                \"14-7.\",\n",
    "                \"15-1.\",\n",
    "                \"15-20.\",\n",
    "                \"16-1.\",\n",
    "                \"16-16.\",\n",
    "                \"17-10.\",\n",
    "                \"17-11.\",\n",
    "                \"17-2.\",\n",
    "                \"19-1.\",\n",
    "                \"19-16.\",\n",
    "                \"19-19.\",\n",
    "                \"19-20.\",\n",
    "                \"19-3.\",\n",
    "                \"2-10.\",\n",
    "                \"2-11.\",\n",
    "                \"2-17.\",\n",
    "                \"2-18.\",\n",
    "                \"2-20.\",\n",
    "                \"2-3.\",\n",
    "                \"2-4.\",\n",
    "                \"2-5.\",\n",
    "                \"2-6.\",\n",
    "                \"2-7.\",\n",
    "                \"2-8.\",\n",
    "                \"3-13.\",\n",
    "                \"3-18.\",\n",
    "                \"3-3.\",\n",
    "                \"4-1.\",\n",
    "                \"4-10.\",\n",
    "                \"4-11.\",\n",
    "                \"4-19.\",\n",
    "                \"5-5.\",\n",
    "                \"6-15.\",\n",
    "                \"7-10.\",\n",
    "                \"7-14.\",\n",
    "                \"8-18.\",\n",
    "                \"8-20.\",\n",
    "                \"8-3.\",\n",
    "                \"8-8.\",\n",
    "            ],\n",
    "            \"domains\": [1, 2, 3, 4, 5],\n",
    "            \"num_examples_per_domain_per_label\": -1,\n",
    "            \"pickle_path\": \"/root/csc500-main/datasets/cores.stratified_ds.2022A.pkl\",\n",
    "            \"source_or_target_dataset\": \"source\",\n",
    "            \"x_transforms\": [],\n",
    "            \"episode_transforms\": [],\n",
    "            \"domain_prefix\": \"CORES_\",\n",
    "        },\n",
    "        {\n",
    "            \"labels\": [\n",
    "                \"1-10\",\n",
    "                \"1-12\",\n",
    "                \"1-14\",\n",
    "                \"1-16\",\n",
    "                \"1-18\",\n",
    "                \"1-19\",\n",
    "                \"1-8\",\n",
    "                \"10-11\",\n",
    "                \"10-17\",\n",
    "                \"10-4\",\n",
    "                \"10-7\",\n",
    "                \"11-1\",\n",
    "                \"11-10\",\n",
    "                \"11-19\",\n",
    "                \"11-20\",\n",
    "                \"11-4\",\n",
    "                \"11-7\",\n",
    "                \"12-19\",\n",
    "                \"12-20\",\n",
    "                \"12-7\",\n",
    "                \"13-14\",\n",
    "                \"13-18\",\n",
    "                \"13-19\",\n",
    "                \"13-20\",\n",
    "                \"13-3\",\n",
    "                \"13-7\",\n",
    "                \"14-10\",\n",
    "                \"14-11\",\n",
    "                \"14-12\",\n",
    "                \"14-13\",\n",
    "                \"14-14\",\n",
    "                \"14-19\",\n",
    "                \"14-20\",\n",
    "                \"14-7\",\n",
    "                \"14-8\",\n",
    "                \"14-9\",\n",
    "                \"15-1\",\n",
    "                \"15-19\",\n",
    "                \"15-6\",\n",
    "                \"16-1\",\n",
    "                \"16-16\",\n",
    "                \"16-19\",\n",
    "                \"16-20\",\n",
    "                \"17-10\",\n",
    "                \"17-11\",\n",
    "                \"18-1\",\n",
    "                \"18-10\",\n",
    "                \"18-11\",\n",
    "                \"18-12\",\n",
    "                \"18-13\",\n",
    "                \"18-14\",\n",
    "                \"18-15\",\n",
    "                \"18-16\",\n",
    "                \"18-17\",\n",
    "                \"18-19\",\n",
    "                \"18-2\",\n",
    "                \"18-20\",\n",
    "                \"18-4\",\n",
    "                \"18-5\",\n",
    "                \"18-7\",\n",
    "                \"18-8\",\n",
    "                \"18-9\",\n",
    "                \"19-1\",\n",
    "                \"19-10\",\n",
    "                \"19-11\",\n",
    "                \"19-12\",\n",
    "                \"19-13\",\n",
    "                \"19-14\",\n",
    "                \"19-15\",\n",
    "                \"19-19\",\n",
    "                \"19-2\",\n",
    "                \"19-20\",\n",
    "                \"19-3\",\n",
    "                \"19-4\",\n",
    "                \"19-6\",\n",
    "                \"19-7\",\n",
    "                \"19-8\",\n",
    "                \"19-9\",\n",
    "                \"2-1\",\n",
    "                \"2-13\",\n",
    "                \"2-15\",\n",
    "                \"2-3\",\n",
    "                \"2-4\",\n",
    "                \"2-5\",\n",
    "                \"2-6\",\n",
    "                \"2-7\",\n",
    "                \"2-8\",\n",
    "                \"20-1\",\n",
    "                \"20-12\",\n",
    "                \"20-14\",\n",
    "                \"20-15\",\n",
    "                \"20-16\",\n",
    "                \"20-18\",\n",
    "                \"20-19\",\n",
    "                \"20-20\",\n",
    "                \"20-3\",\n",
    "                \"20-4\",\n",
    "                \"20-5\",\n",
    "                \"20-7\",\n",
    "                \"20-8\",\n",
    "                \"3-1\",\n",
    "                \"3-13\",\n",
    "                \"3-18\",\n",
    "                \"3-2\",\n",
    "                \"3-8\",\n",
    "                \"4-1\",\n",
    "                \"4-10\",\n",
    "                \"4-11\",\n",
    "                \"5-1\",\n",
    "                \"5-5\",\n",
    "                \"6-1\",\n",
    "                \"6-15\",\n",
    "                \"6-6\",\n",
    "                \"7-10\",\n",
    "                \"7-11\",\n",
    "                \"7-12\",\n",
    "                \"7-13\",\n",
    "                \"7-14\",\n",
    "                \"7-7\",\n",
    "                \"7-8\",\n",
    "                \"7-9\",\n",
    "                \"8-1\",\n",
    "                \"8-13\",\n",
    "                \"8-14\",\n",
    "                \"8-18\",\n",
    "                \"8-20\",\n",
    "                \"8-3\",\n",
    "                \"8-8\",\n",
    "                \"9-1\",\n",
    "                \"9-7\",\n",
    "            ],\n",
    "            \"domains\": [1, 2, 3, 4],\n",
    "            \"num_examples_per_domain_per_label\": -1,\n",
    "            \"pickle_path\": \"/root/csc500-main/datasets/wisig.node3-19.stratified_ds.2022A.pkl\",\n",
    "            \"source_or_target_dataset\": \"target\",\n",
    "            \"x_transforms\": [],\n",
    "            \"episode_transforms\": [],\n",
    "            \"domain_prefix\": \"Wisig_\",\n",
    "        },\n",
    "    ],\n",
    "    \"dataset_seed\": 500,\n",
    "    \"seed\": 500,\n",
    "}\n"
   ]
  },
  {
   "cell_type": "code",
   "execution_count": 5,
   "id": "8fa1cc33",
   "metadata": {
    "execution": {
     "iopub.execute_input": "2022-03-21T04:08:01.968486Z",
     "iopub.status.busy": "2022-03-21T04:08:01.968112Z",
     "iopub.status.idle": "2022-03-21T04:08:01.987734Z",
     "shell.execute_reply": "2022-03-21T04:08:01.986884Z"
    },
    "papermill": {
     "duration": 0.04632,
     "end_time": "2022-03-21T04:08:01.987891",
     "exception": false,
     "start_time": "2022-03-21T04:08:01.941571",
     "status": "completed"
    },
    "tags": []
   },
   "outputs": [],
   "source": [
    "# Set this to True if you want to run this template directly\n",
    "STANDALONE = False\n",
    "if STANDALONE:\n",
    "    print(\"parameters not injected, running with standalone_parameters\")\n",
    "    parameters = standalone_parameters\n",
    "\n",
    "if not 'parameters' in locals() and not 'parameters' in globals():\n",
    "    raise Exception(\"Parameter injection failed\")\n",
    "\n",
    "#Use an easy dict for all the parameters\n",
    "p = EasyDict(parameters)\n",
    "\n",
    "if \"x_shape\" not in p:\n",
    "    p.x_shape = [2,256] # Default to this if we dont supply x_shape\n",
    "\n",
    "\n",
    "supplied_keys = set(p.keys())\n",
    "\n",
    "if  supplied_keys != required_parameters:\n",
    "    print(\"Parameters are incorrect\")\n",
    "    if len(supplied_keys - required_parameters)>0: print(\"Shouldn't have:\", str(supplied_keys - required_parameters))\n",
    "    if len(required_parameters - supplied_keys)>0: print(\"Need to have:\", str(required_parameters - supplied_keys))\n",
    "    raise RuntimeError(\"Parameters are incorrect\")"
   ]
  },
  {
   "cell_type": "code",
   "execution_count": 6,
   "id": "3a028d58",
   "metadata": {
    "execution": {
     "iopub.execute_input": "2022-03-21T04:08:02.039667Z",
     "iopub.status.busy": "2022-03-21T04:08:02.039284Z",
     "iopub.status.idle": "2022-03-21T04:08:02.060921Z",
     "shell.execute_reply": "2022-03-21T04:08:02.060212Z"
    },
    "papermill": {
     "duration": 0.046256,
     "end_time": "2022-03-21T04:08:02.061075",
     "exception": false,
     "start_time": "2022-03-21T04:08:02.014819",
     "status": "completed"
    },
    "tags": []
   },
   "outputs": [],
   "source": [
    "###################################\n",
    "# Set the RNGs and make it all deterministic\n",
    "###################################\n",
    "np.random.seed(p.seed)\n",
    "random.seed(p.seed)\n",
    "torch.manual_seed(p.seed)\n",
    "\n",
    "torch.use_deterministic_algorithms(True) "
   ]
  },
  {
   "cell_type": "code",
   "execution_count": 7,
   "id": "b691acf6",
   "metadata": {
    "execution": {
     "iopub.execute_input": "2022-03-21T04:08:02.115502Z",
     "iopub.status.busy": "2022-03-21T04:08:02.114940Z",
     "iopub.status.idle": "2022-03-21T04:08:02.137576Z",
     "shell.execute_reply": "2022-03-21T04:08:02.136771Z"
    },
    "papermill": {
     "duration": 0.048,
     "end_time": "2022-03-21T04:08:02.137732",
     "exception": false,
     "start_time": "2022-03-21T04:08:02.089732",
     "status": "completed"
    },
    "tags": []
   },
   "outputs": [],
   "source": [
    "###########################################\n",
    "# The stratified datasets honor this\n",
    "###########################################\n",
    "torch.set_default_dtype(eval(p.torch_default_dtype))"
   ]
  },
  {
   "cell_type": "code",
   "execution_count": 8,
   "id": "b5fba671",
   "metadata": {
    "execution": {
     "iopub.execute_input": "2022-03-21T04:08:02.189675Z",
     "iopub.status.busy": "2022-03-21T04:08:02.188089Z",
     "iopub.status.idle": "2022-03-21T04:08:02.244507Z",
     "shell.execute_reply": "2022-03-21T04:08:02.243708Z"
    },
    "papermill": {
     "duration": 0.080843,
     "end_time": "2022-03-21T04:08:02.244663",
     "exception": false,
     "start_time": "2022-03-21T04:08:02.163820",
     "status": "completed"
    },
    "tags": []
   },
   "outputs": [],
   "source": [
    "###################################\n",
    "# Build the network(s)\n",
    "# Note: It's critical to do this AFTER setting the RNG\n",
    "###################################\n",
    "x_net = build_sequential(p.x_net)"
   ]
  },
  {
   "cell_type": "code",
   "execution_count": 9,
   "id": "5d7e61cc",
   "metadata": {
    "execution": {
     "iopub.execute_input": "2022-03-21T04:08:02.298337Z",
     "iopub.status.busy": "2022-03-21T04:08:02.297232Z",
     "iopub.status.idle": "2022-03-21T04:08:02.324409Z",
     "shell.execute_reply": "2022-03-21T04:08:02.323592Z"
    },
    "papermill": {
     "duration": 0.0527,
     "end_time": "2022-03-21T04:08:02.324568",
     "exception": false,
     "start_time": "2022-03-21T04:08:02.271868",
     "status": "completed"
    },
    "tags": []
   },
   "outputs": [],
   "source": [
    "start_time_secs = time.time()"
   ]
  },
  {
   "cell_type": "code",
   "execution_count": 10,
   "id": "c6b67dfd",
   "metadata": {
    "execution": {
     "iopub.execute_input": "2022-03-21T04:08:02.378164Z",
     "iopub.status.busy": "2022-03-21T04:08:02.377796Z",
     "iopub.status.idle": "2022-03-21T04:08:02.398644Z",
     "shell.execute_reply": "2022-03-21T04:08:02.397832Z"
    },
    "papermill": {
     "duration": 0.046555,
     "end_time": "2022-03-21T04:08:02.398799",
     "exception": false,
     "start_time": "2022-03-21T04:08:02.352244",
     "status": "completed"
    },
    "tags": []
   },
   "outputs": [],
   "source": [
    "p.domains_source = []\n",
    "p.domains_target = []\n",
    "\n",
    "\n",
    "train_original_source = []\n",
    "val_original_source   = []\n",
    "test_original_source  = []\n",
    "\n",
    "train_original_target = []\n",
    "val_original_target   = []\n",
    "test_original_target  = []"
   ]
  },
  {
   "cell_type": "code",
   "execution_count": 11,
   "id": "e3d9c3d3",
   "metadata": {
    "execution": {
     "iopub.execute_input": "2022-03-21T04:08:02.452022Z",
     "iopub.status.busy": "2022-03-21T04:08:02.451474Z",
     "iopub.status.idle": "2022-03-21T04:08:02.474649Z",
     "shell.execute_reply": "2022-03-21T04:08:02.475323Z"
    },
    "papermill": {
     "duration": 0.048139,
     "end_time": "2022-03-21T04:08:02.475505",
     "exception": false,
     "start_time": "2022-03-21T04:08:02.427366",
     "status": "completed"
    },
    "tags": []
   },
   "outputs": [],
   "source": [
    "# global_x_transform_func = lambda x: normalize(x.to(torch.get_default_dtype()), \"unit_power\") # unit_power, unit_mag\n",
    "# global_x_transform_func = lambda x: normalize(x, \"unit_power\") # unit_power, unit_mag"
   ]
  },
  {
   "cell_type": "code",
   "execution_count": 12,
   "id": "acb78fd2",
   "metadata": {
    "execution": {
     "iopub.execute_input": "2022-03-21T04:08:02.537817Z",
     "iopub.status.busy": "2022-03-21T04:08:02.535789Z",
     "iopub.status.idle": "2022-03-21T04:08:02.557766Z",
     "shell.execute_reply": "2022-03-21T04:08:02.556956Z"
    },
    "papermill": {
     "duration": 0.054537,
     "end_time": "2022-03-21T04:08:02.557920",
     "exception": false,
     "start_time": "2022-03-21T04:08:02.503383",
     "status": "completed"
    },
    "tags": []
   },
   "outputs": [],
   "source": [
    "def add_dataset(\n",
    "    labels,\n",
    "    domains,\n",
    "    pickle_path,\n",
    "    x_transforms,\n",
    "    episode_transforms,\n",
    "    domain_prefix,\n",
    "    num_examples_per_domain_per_label,\n",
    "    source_or_target_dataset:str,\n",
    "    iterator_seed=p.seed,\n",
    "    dataset_seed=p.dataset_seed,\n",
    "    n_shot=p.n_shot,\n",
    "    n_way=p.n_way,\n",
    "    n_query=p.n_query,\n",
    "    train_val_test_k_factors=(p.train_k_factor,p.val_k_factor,p.test_k_factor),\n",
    "):\n",
    "   \n",
    "    if x_transforms == []: x_transform = None\n",
    "    else: x_transform = get_chained_transform(x_transforms)\n",
    "    \n",
    "    if episode_transforms == []: episode_transform = None\n",
    "    else: raise Exception(\"episode_transforms not implemented\")\n",
    "    \n",
    "    episode_transform = lambda tup, _prefix=domain_prefix: (_prefix + str(tup[0]), tup[1])\n",
    "\n",
    "\n",
    "    eaf = Episodic_Accessor_Factory(\n",
    "        labels=labels,\n",
    "        domains=domains,\n",
    "        num_examples_per_domain_per_label=num_examples_per_domain_per_label,\n",
    "        iterator_seed=iterator_seed,\n",
    "        dataset_seed=dataset_seed,\n",
    "        n_shot=n_shot,\n",
    "        n_way=n_way,\n",
    "        n_query=n_query,\n",
    "        train_val_test_k_factors=train_val_test_k_factors,\n",
    "        pickle_path=pickle_path,\n",
    "        x_transform_func=x_transform,\n",
    "    )\n",
    "\n",
    "    train, val, test = eaf.get_train(), eaf.get_val(), eaf.get_test()\n",
    "    train = Lazy_Iterable_Wrapper(train, episode_transform)\n",
    "    val = Lazy_Iterable_Wrapper(val, episode_transform)\n",
    "    test = Lazy_Iterable_Wrapper(test, episode_transform)\n",
    "\n",
    "    if source_or_target_dataset==\"source\":\n",
    "        train_original_source.append(train)\n",
    "        val_original_source.append(val)\n",
    "        test_original_source.append(test)\n",
    "\n",
    "        p.domains_source.extend(\n",
    "            [domain_prefix + str(u) for u in domains]\n",
    "        )\n",
    "    elif source_or_target_dataset==\"target\":\n",
    "        train_original_target.append(train)\n",
    "        val_original_target.append(val)\n",
    "        test_original_target.append(test)\n",
    "        p.domains_target.extend(\n",
    "            [domain_prefix + str(u) for u in domains]\n",
    "        )\n",
    "    else:\n",
    "        raise Exception(f\"invalid source_or_target_dataset: {source_or_target_dataset}\")\n",
    "    "
   ]
  },
  {
   "cell_type": "code",
   "execution_count": 13,
   "id": "fe266617",
   "metadata": {
    "execution": {
     "iopub.execute_input": "2022-03-21T04:08:02.609700Z",
     "iopub.status.busy": "2022-03-21T04:08:02.609274Z",
     "iopub.status.idle": "2022-03-21T04:08:06.164298Z",
     "shell.execute_reply": "2022-03-21T04:08:06.163423Z"
    },
    "papermill": {
     "duration": 3.57989,
     "end_time": "2022-03-21T04:08:06.164483",
     "exception": false,
     "start_time": "2022-03-21T04:08:02.584593",
     "status": "completed"
    },
    "tags": []
   },
   "outputs": [],
   "source": [
    "for ds in p.datasets:\n",
    "    add_dataset(**ds)"
   ]
  },
  {
   "cell_type": "code",
   "execution_count": 14,
   "id": "b90d65ac",
   "metadata": {
    "execution": {
     "iopub.execute_input": "2022-03-21T04:08:06.215493Z",
     "iopub.status.busy": "2022-03-21T04:08:06.215126Z",
     "iopub.status.idle": "2022-03-21T04:08:06.242081Z",
     "shell.execute_reply": "2022-03-21T04:08:06.241376Z"
    },
    "papermill": {
     "duration": 0.050324,
     "end_time": "2022-03-21T04:08:06.242233",
     "exception": false,
     "start_time": "2022-03-21T04:08:06.191909",
     "status": "completed"
    },
    "tags": []
   },
   "outputs": [],
   "source": [
    "# from steves_utils.CORES.utils import (\n",
    "#     ALL_NODES,\n",
    "#     ALL_NODES_MINIMUM_1000_EXAMPLES,\n",
    "#     ALL_DAYS\n",
    "# )\n",
    "\n",
    "# add_dataset(\n",
    "#     labels=ALL_NODES,\n",
    "#     domains = ALL_DAYS,\n",
    "#     num_examples_per_domain_per_label=100,\n",
    "#     pickle_path=os.path.join(get_datasets_base_path(), \"cores.stratified_ds.2022A.pkl\"),\n",
    "#     source_or_target_dataset=\"target\",\n",
    "#     x_transform_func=global_x_transform_func,\n",
    "#     domain_modifier=lambda u: f\"cores_{u}\"\n",
    "# )"
   ]
  },
  {
   "cell_type": "code",
   "execution_count": 15,
   "id": "76db484d",
   "metadata": {
    "execution": {
     "iopub.execute_input": "2022-03-21T04:08:06.294509Z",
     "iopub.status.busy": "2022-03-21T04:08:06.294144Z",
     "iopub.status.idle": "2022-03-21T04:08:06.315889Z",
     "shell.execute_reply": "2022-03-21T04:08:06.315143Z"
    },
    "papermill": {
     "duration": 0.045143,
     "end_time": "2022-03-21T04:08:06.316044",
     "exception": false,
     "start_time": "2022-03-21T04:08:06.270901",
     "status": "completed"
    },
    "tags": []
   },
   "outputs": [],
   "source": [
    "# from steves_utils.ORACLE.utils_v2 import (\n",
    "#     ALL_DISTANCES_FEET,\n",
    "#     ALL_RUNS,\n",
    "#     ALL_SERIAL_NUMBERS,\n",
    "# )\n",
    "\n",
    "\n",
    "# add_dataset(\n",
    "#     labels=ALL_SERIAL_NUMBERS,\n",
    "#     domains = list(set(ALL_DISTANCES_FEET) - {2,62}),\n",
    "#     num_examples_per_domain_per_label=100,\n",
    "#     pickle_path=os.path.join(get_datasets_base_path(), \"oracle.Run2_framed_2000Examples_stratified_ds.2022A.pkl\"),\n",
    "#     source_or_target_dataset=\"source\",\n",
    "#     x_transform_func=global_x_transform_func,\n",
    "#     domain_modifier=lambda u: f\"oracle1_{u}\"\n",
    "# )\n"
   ]
  },
  {
   "cell_type": "code",
   "execution_count": 16,
   "id": "97dea9d2",
   "metadata": {
    "execution": {
     "iopub.execute_input": "2022-03-21T04:08:06.367403Z",
     "iopub.status.busy": "2022-03-21T04:08:06.367038Z",
     "iopub.status.idle": "2022-03-21T04:08:06.391498Z",
     "shell.execute_reply": "2022-03-21T04:08:06.390701Z"
    },
    "papermill": {
     "duration": 0.048142,
     "end_time": "2022-03-21T04:08:06.391681",
     "exception": false,
     "start_time": "2022-03-21T04:08:06.343539",
     "status": "completed"
    },
    "tags": []
   },
   "outputs": [],
   "source": [
    "# from steves_utils.ORACLE.utils_v2 import (\n",
    "#     ALL_DISTANCES_FEET,\n",
    "#     ALL_RUNS,\n",
    "#     ALL_SERIAL_NUMBERS,\n",
    "# )\n",
    "\n",
    "\n",
    "# add_dataset(\n",
    "#     labels=ALL_SERIAL_NUMBERS,\n",
    "#     domains = list(set(ALL_DISTANCES_FEET) - {2,62,56}),\n",
    "#     num_examples_per_domain_per_label=100,\n",
    "#     pickle_path=os.path.join(get_datasets_base_path(), \"oracle.Run2_framed_2000Examples_stratified_ds.2022A.pkl\"),\n",
    "#     source_or_target_dataset=\"source\",\n",
    "#     x_transform_func=global_x_transform_func,\n",
    "#     domain_modifier=lambda u: f\"oracle2_{u}\"\n",
    "# )"
   ]
  },
  {
   "cell_type": "code",
   "execution_count": 17,
   "id": "6f289866",
   "metadata": {
    "execution": {
     "iopub.execute_input": "2022-03-21T04:08:06.444585Z",
     "iopub.status.busy": "2022-03-21T04:08:06.443746Z",
     "iopub.status.idle": "2022-03-21T04:08:06.467331Z",
     "shell.execute_reply": "2022-03-21T04:08:06.466625Z"
    },
    "papermill": {
     "duration": 0.047978,
     "end_time": "2022-03-21T04:08:06.467497",
     "exception": false,
     "start_time": "2022-03-21T04:08:06.419519",
     "status": "completed"
    },
    "tags": []
   },
   "outputs": [],
   "source": [
    "# add_dataset(\n",
    "#     labels=list(range(19)),\n",
    "#     domains = [0,1,2],\n",
    "#     num_examples_per_domain_per_label=100,\n",
    "#     pickle_path=os.path.join(get_datasets_base_path(), \"metehan.stratified_ds.2022A.pkl\"),\n",
    "#     source_or_target_dataset=\"target\",\n",
    "#     x_transform_func=global_x_transform_func,\n",
    "#     domain_modifier=lambda u: f\"met_{u}\"\n",
    "# )"
   ]
  },
  {
   "cell_type": "code",
   "execution_count": 18,
   "id": "86a863c3",
   "metadata": {
    "execution": {
     "iopub.execute_input": "2022-03-21T04:08:06.521698Z",
     "iopub.status.busy": "2022-03-21T04:08:06.521322Z",
     "iopub.status.idle": "2022-03-21T04:08:06.544824Z",
     "shell.execute_reply": "2022-03-21T04:08:06.544109Z"
    },
    "papermill": {
     "duration": 0.048585,
     "end_time": "2022-03-21T04:08:06.544980",
     "exception": false,
     "start_time": "2022-03-21T04:08:06.496395",
     "status": "completed"
    },
    "tags": []
   },
   "outputs": [],
   "source": [
    "# # from steves_utils.wisig.utils import (\n",
    "# #     ALL_NODES_MINIMUM_100_EXAMPLES,\n",
    "# #     ALL_NODES_MINIMUM_500_EXAMPLES,\n",
    "# #     ALL_NODES_MINIMUM_1000_EXAMPLES,\n",
    "# #     ALL_DAYS\n",
    "# # )\n",
    "\n",
    "# import steves_utils.wisig.utils as wisig\n",
    "\n",
    "\n",
    "# add_dataset(\n",
    "#     labels=wisig.ALL_NODES_MINIMUM_100_EXAMPLES,\n",
    "#     domains = wisig.ALL_DAYS,\n",
    "#     num_examples_per_domain_per_label=100,\n",
    "#     pickle_path=os.path.join(get_datasets_base_path(), \"wisig.node3-19.stratified_ds.2022A.pkl\"),\n",
    "#     source_or_target_dataset=\"target\",\n",
    "#     x_transform_func=global_x_transform_func,\n",
    "#     domain_modifier=lambda u: f\"wisig_{u}\"\n",
    "# )"
   ]
  },
  {
   "cell_type": "code",
   "execution_count": 19,
   "id": "fd5442bc",
   "metadata": {
    "execution": {
     "iopub.execute_input": "2022-03-21T04:08:06.599222Z",
     "iopub.status.busy": "2022-03-21T04:08:06.598837Z",
     "iopub.status.idle": "2022-03-21T04:08:06.619494Z",
     "shell.execute_reply": "2022-03-21T04:08:06.620192Z"
    },
    "papermill": {
     "duration": 0.047541,
     "end_time": "2022-03-21T04:08:06.620373",
     "exception": false,
     "start_time": "2022-03-21T04:08:06.572832",
     "status": "completed"
    },
    "tags": []
   },
   "outputs": [],
   "source": [
    "###################################\n",
    "# Build the dataset\n",
    "###################################\n",
    "train_original_source = Iterable_Aggregator(train_original_source, p.seed)\n",
    "val_original_source = Iterable_Aggregator(val_original_source, p.seed)\n",
    "test_original_source = Iterable_Aggregator(test_original_source, p.seed)\n",
    "\n",
    "\n",
    "train_original_target = Iterable_Aggregator(train_original_target, p.seed)\n",
    "val_original_target = Iterable_Aggregator(val_original_target, p.seed)\n",
    "test_original_target = Iterable_Aggregator(test_original_target, p.seed)\n",
    "\n",
    "# For CNN We only use X and Y. And we only train on the source.\n",
    "# Properly form the data using a transform lambda and Lazy_Iterable_Wrapper. Finally wrap them in a dataloader\n",
    "\n",
    "transform_lambda = lambda ex: ex[1] # Original is (<domain>, <episode>) so we strip down to episode only\n",
    "\n",
    "train_processed_source = Lazy_Iterable_Wrapper(train_original_source, transform_lambda)\n",
    "val_processed_source   = Lazy_Iterable_Wrapper(val_original_source, transform_lambda)\n",
    "test_processed_source  = Lazy_Iterable_Wrapper(test_original_source, transform_lambda)\n",
    "\n",
    "train_processed_target = Lazy_Iterable_Wrapper(train_original_target, transform_lambda)\n",
    "val_processed_target   = Lazy_Iterable_Wrapper(val_original_target, transform_lambda)\n",
    "test_processed_target  = Lazy_Iterable_Wrapper(test_original_target, transform_lambda)\n",
    "\n",
    "datasets = EasyDict({\n",
    "    \"source\": {\n",
    "        \"original\": {\"train\":train_original_source, \"val\":val_original_source, \"test\":test_original_source},\n",
    "        \"processed\": {\"train\":train_processed_source, \"val\":val_processed_source, \"test\":test_processed_source}\n",
    "    },\n",
    "    \"target\": {\n",
    "        \"original\": {\"train\":train_original_target, \"val\":val_original_target, \"test\":test_original_target},\n",
    "        \"processed\": {\"train\":train_processed_target, \"val\":val_processed_target, \"test\":test_processed_target}\n",
    "    },\n",
    "})"
   ]
  },
  {
   "cell_type": "code",
   "execution_count": 20,
   "id": "5b3c01fc",
   "metadata": {
    "execution": {
     "iopub.execute_input": "2022-03-21T04:08:06.677516Z",
     "iopub.status.busy": "2022-03-21T04:08:06.676954Z",
     "iopub.status.idle": "2022-03-21T04:08:14.979502Z",
     "shell.execute_reply": "2022-03-21T04:08:14.980538Z"
    },
    "papermill": {
     "duration": 8.330421,
     "end_time": "2022-03-21T04:08:14.980778",
     "exception": false,
     "start_time": "2022-03-21T04:08:06.650357",
     "status": "completed"
    },
    "tags": []
   },
   "outputs": [
    {
     "name": "stdout",
     "output_type": "stream",
     "text": [
      "{'CORES_3', 'CORES_2', 'CORES_5', 'CORES_4', 'CORES_1'}\n"
     ]
    },
    {
     "name": "stdout",
     "output_type": "stream",
     "text": [
      "{'Wisig_2', 'Wisig_4', 'Wisig_1', 'Wisig_3'}\n"
     ]
    },
    {
     "name": "stdout",
     "output_type": "stream",
     "text": [
      "tensor([[[ 0.0193, -0.0024, -0.0487,  ...,  0.0352,  0.0505, -0.0019],\n",
      "         [ 0.0070,  0.0288,  0.0360,  ...,  0.0159,  0.0157,  0.0171]],\n",
      "\n",
      "        [[ 0.0229,  0.0433,  0.0161,  ...,  0.0128,  0.0112,  0.0286],\n",
      "         [-0.0117,  0.0345,  0.0466,  ..., -0.0561, -0.0176,  0.0251]],\n",
      "\n",
      "        [[ 0.0209,  0.0087, -0.0315,  ...,  0.0425,  0.0488,  0.0019],\n",
      "         [ 0.0011,  0.0315,  0.0514,  ..., -0.0031, -0.0078,  0.0187]],\n",
      "\n",
      "        ...,\n",
      "\n",
      "        [[-0.0059, -0.0048,  0.0273,  ...,  0.0297,  0.0215, -0.0035],\n",
      "         [ 0.0020, -0.0111,  0.0005,  ...,  0.0126, -0.0283, -0.0178]],\n",
      "\n",
      "        [[ 0.0051,  0.0095, -0.0247,  ..., -0.0288,  0.0123,  0.0078],\n",
      "         [-0.0049,  0.0075,  0.0188,  ...,  0.0181,  0.0354,  0.0018]],\n",
      "\n",
      "        [[-0.0041, -0.0100,  0.0204,  ...,  0.0302,  0.0215, -0.0074],\n",
      "         [ 0.0030, -0.0090, -0.0088,  ...,  0.0074, -0.0264, -0.0266]]])\n"
     ]
    }
   ],
   "source": [
    "from steves_utils.transforms import get_average_magnitude, get_average_power\n",
    "\n",
    "print(set([u for u,_ in val_original_source]))\n",
    "print(set([u for u,_ in val_original_target]))\n",
    "\n",
    "s_x, s_y, q_x, q_y, _ = next(iter(train_processed_source))\n",
    "print(s_x)\n",
    "\n",
    "# for ds in [\n",
    "#     train_processed_source,\n",
    "#     val_processed_source,\n",
    "#     test_processed_source,\n",
    "#     train_processed_target,\n",
    "#     val_processed_target,\n",
    "#     test_processed_target\n",
    "# ]:\n",
    "#     for s_x, s_y, q_x, q_y, _ in ds:\n",
    "#         for X in (s_x, q_x):\n",
    "#             for x in X:\n",
    "#                 assert np.isclose(get_average_magnitude(x.numpy()), 1.0)\n",
    "#                 assert np.isclose(get_average_power(x.numpy()), 1.0)\n",
    "                "
   ]
  },
  {
   "cell_type": "code",
   "execution_count": 21,
   "id": "bbdacba1",
   "metadata": {
    "execution": {
     "iopub.execute_input": "2022-03-21T04:08:15.041096Z",
     "iopub.status.busy": "2022-03-21T04:08:15.040705Z",
     "iopub.status.idle": "2022-03-21T04:08:15.232640Z",
     "shell.execute_reply": "2022-03-21T04:08:15.232954Z"
    },
    "papermill": {
     "duration": 0.224077,
     "end_time": "2022-03-21T04:08:15.233096",
     "exception": false,
     "start_time": "2022-03-21T04:08:15.009019",
     "status": "completed"
    },
    "tags": []
   },
   "outputs": [
    {
     "name": "stdout",
     "output_type": "stream",
     "text": [
      "(2, 256)\n"
     ]
    }
   ],
   "source": [
    "###################################\n",
    "# Build the model\n",
    "###################################\n",
    "# easfsl only wants a tuple for the shape\n",
    "model = Steves_Prototypical_Network(x_net, device=p.device, x_shape=tuple(p.x_shape))\n",
    "optimizer = Adam(params=model.parameters(), lr=p.lr)"
   ]
  },
  {
   "cell_type": "code",
   "execution_count": 22,
   "id": "22b39ac5",
   "metadata": {
    "execution": {
     "iopub.execute_input": "2022-03-21T04:08:15.286866Z",
     "iopub.status.busy": "2022-03-21T04:08:15.286494Z",
     "iopub.status.idle": "2022-03-21T04:10:18.990973Z",
     "shell.execute_reply": "2022-03-21T04:10:18.991291Z"
    },
    "papermill": {
     "duration": 123.735069,
     "end_time": "2022-03-21T04:10:18.991400",
     "exception": false,
     "start_time": "2022-03-21T04:08:15.256331",
     "status": "completed"
    },
    "tags": []
   },
   "outputs": [
    {
     "name": "stdout",
     "output_type": "stream",
     "text": [
      "epoch: 1, [batch: 1 / 351], examples_per_second: 361.8143, train_label_loss: 3.2305, \n"
     ]
    },
    {
     "name": "stdout",
     "output_type": "stream",
     "text": [
      "epoch: 1, [batch: 36 / 351], examples_per_second: 3457.1262, train_label_loss: 1.0164, \n"
     ]
    },
    {
     "name": "stdout",
     "output_type": "stream",
     "text": [
      "epoch: 1, [batch: 71 / 351], examples_per_second: 3530.8570, train_label_loss: 0.4410, \n"
     ]
    },
    {
     "name": "stdout",
     "output_type": "stream",
     "text": [
      "epoch: 1, [batch: 106 / 351], examples_per_second: 3533.4388, train_label_loss: 0.2636, \n"
     ]
    },
    {
     "name": "stdout",
     "output_type": "stream",
     "text": [
      "epoch: 1, [batch: 141 / 351], examples_per_second: 3416.5295, train_label_loss: 0.0891, \n"
     ]
    },
    {
     "name": "stdout",
     "output_type": "stream",
     "text": [
      "epoch: 1, [batch: 176 / 351], examples_per_second: 3490.1287, train_label_loss: 0.0531, \n"
     ]
    },
    {
     "name": "stdout",
     "output_type": "stream",
     "text": [
      "epoch: 1, [batch: 211 / 351], examples_per_second: 3517.7397, train_label_loss: 0.0474, \n"
     ]
    },
    {
     "name": "stdout",
     "output_type": "stream",
     "text": [
      "epoch: 1, [batch: 246 / 351], examples_per_second: 3415.5118, train_label_loss: 0.0347, \n"
     ]
    },
    {
     "name": "stdout",
     "output_type": "stream",
     "text": [
      "epoch: 1, [batch: 281 / 351], examples_per_second: 3456.2221, train_label_loss: 0.0248, \n"
     ]
    },
    {
     "name": "stdout",
     "output_type": "stream",
     "text": [
      "epoch: 1, [batch: 316 / 351], examples_per_second: 3521.0384, train_label_loss: 0.0450, \n"
     ]
    },
    {
     "name": "stdout",
     "output_type": "stream",
     "text": [
      "=============================================================\n",
      "epoch: 1, source_val_acc_label: 0.9964, target_val_acc_label: 0.7365, source_val_label_loss: 0.0290, target_val_label_loss: 2.1006, \n",
      "=============================================================\n"
     ]
    },
    {
     "name": "stdout",
     "output_type": "stream",
     "text": [
      "New best\n"
     ]
    },
    {
     "name": "stdout",
     "output_type": "stream",
     "text": [
      "epoch: 2, [batch: 1 / 351], examples_per_second: 36.5716, train_label_loss: 0.0398, \n"
     ]
    },
    {
     "name": "stdout",
     "output_type": "stream",
     "text": [
      "epoch: 2, [batch: 36 / 351], examples_per_second: 3535.7082, train_label_loss: 0.0187, \n"
     ]
    },
    {
     "name": "stdout",
     "output_type": "stream",
     "text": [
      "epoch: 2, [batch: 71 / 351], examples_per_second: 3495.6525, train_label_loss: 0.0069, \n"
     ]
    },
    {
     "name": "stdout",
     "output_type": "stream",
     "text": [
      "epoch: 2, [batch: 106 / 351], examples_per_second: 3552.5340, train_label_loss: 0.0243, \n"
     ]
    },
    {
     "name": "stdout",
     "output_type": "stream",
     "text": [
      "epoch: 2, [batch: 141 / 351], examples_per_second: 3607.2150, train_label_loss: 0.0153, \n"
     ]
    },
    {
     "name": "stdout",
     "output_type": "stream",
     "text": [
      "epoch: 2, [batch: 176 / 351], examples_per_second: 3834.7786, train_label_loss: 0.0081, \n"
     ]
    },
    {
     "name": "stdout",
     "output_type": "stream",
     "text": [
      "epoch: 2, [batch: 211 / 351], examples_per_second: 3516.0302, train_label_loss: 0.0060, \n"
     ]
    },
    {
     "name": "stdout",
     "output_type": "stream",
     "text": [
      "epoch: 2, [batch: 246 / 351], examples_per_second: 3365.1603, train_label_loss: 0.0050, \n"
     ]
    },
    {
     "name": "stdout",
     "output_type": "stream",
     "text": [
      "epoch: 2, [batch: 281 / 351], examples_per_second: 3485.5005, train_label_loss: 0.0055, \n"
     ]
    },
    {
     "name": "stdout",
     "output_type": "stream",
     "text": [
      "epoch: 2, [batch: 316 / 351], examples_per_second: 3528.3088, train_label_loss: 0.0043, \n"
     ]
    },
    {
     "name": "stdout",
     "output_type": "stream",
     "text": [
      "=============================================================\n",
      "epoch: 2, source_val_acc_label: 0.9980, target_val_acc_label: 0.7691, source_val_label_loss: 0.0081, target_val_label_loss: 2.9710, \n",
      "=============================================================\n"
     ]
    },
    {
     "name": "stdout",
     "output_type": "stream",
     "text": [
      "New best\n"
     ]
    },
    {
     "name": "stdout",
     "output_type": "stream",
     "text": [
      "epoch: 3, [batch: 1 / 351], examples_per_second: 34.1999, train_label_loss: 0.0117, \n"
     ]
    },
    {
     "name": "stdout",
     "output_type": "stream",
     "text": [
      "epoch: 3, [batch: 36 / 351], examples_per_second: 4009.7557, train_label_loss: 0.0083, \n"
     ]
    },
    {
     "name": "stdout",
     "output_type": "stream",
     "text": [
      "epoch: 3, [batch: 71 / 351], examples_per_second: 3802.9909, train_label_loss: 0.0051, \n"
     ]
    },
    {
     "name": "stdout",
     "output_type": "stream",
     "text": [
      "epoch: 3, [batch: 106 / 351], examples_per_second: 3836.0149, train_label_loss: 0.0023, \n"
     ]
    },
    {
     "name": "stdout",
     "output_type": "stream",
     "text": [
      "epoch: 3, [batch: 141 / 351], examples_per_second: 3756.6492, train_label_loss: 0.0106, \n"
     ]
    },
    {
     "name": "stdout",
     "output_type": "stream",
     "text": [
      "epoch: 3, [batch: 176 / 351], examples_per_second: 3768.1233, train_label_loss: 0.0061, \n"
     ]
    },
    {
     "name": "stdout",
     "output_type": "stream",
     "text": [
      "epoch: 3, [batch: 211 / 351], examples_per_second: 3836.3167, train_label_loss: 0.0224, \n"
     ]
    },
    {
     "name": "stdout",
     "output_type": "stream",
     "text": [
      "epoch: 3, [batch: 246 / 351], examples_per_second: 3656.7989, train_label_loss: 0.0427, \n"
     ]
    },
    {
     "name": "stdout",
     "output_type": "stream",
     "text": [
      "epoch: 3, [batch: 281 / 351], examples_per_second: 3911.5527, train_label_loss: 0.0386, \n"
     ]
    },
    {
     "name": "stdout",
     "output_type": "stream",
     "text": [
      "epoch: 3, [batch: 316 / 351], examples_per_second: 4287.0608, train_label_loss: 0.0068, \n"
     ]
    },
    {
     "name": "stdout",
     "output_type": "stream",
     "text": [
      "=============================================================\n",
      "epoch: 3, source_val_acc_label: 0.9975, target_val_acc_label: 0.7621, source_val_label_loss: 0.0081, target_val_label_loss: 3.6836, \n",
      "=============================================================\n"
     ]
    }
   ],
   "source": [
    "###################################\n",
    "# train\n",
    "###################################\n",
    "jig = PTN_Train_Eval_Test_Jig(model, p.BEST_MODEL_PATH, p.device)\n",
    "\n",
    "jig.train(\n",
    "    train_iterable=datasets.source.processed.train,\n",
    "    source_val_iterable=datasets.source.processed.val,\n",
    "    target_val_iterable=datasets.target.processed.val,\n",
    "    num_epochs=p.n_epoch,\n",
    "    num_logs_per_epoch=p.NUM_LOGS_PER_EPOCH,\n",
    "    patience=p.patience,\n",
    "    optimizer=optimizer,\n",
    "    criteria_for_best=p.criteria_for_best,\n",
    ")"
   ]
  },
  {
   "cell_type": "code",
   "execution_count": 23,
   "id": "31e8fabf",
   "metadata": {
    "execution": {
     "iopub.execute_input": "2022-03-21T04:10:19.058836Z",
     "iopub.status.busy": "2022-03-21T04:10:19.058438Z",
     "iopub.status.idle": "2022-03-21T04:10:19.090302Z",
     "shell.execute_reply": "2022-03-21T04:10:19.089450Z"
    },
    "papermill": {
     "duration": 0.067411,
     "end_time": "2022-03-21T04:10:19.090488",
     "exception": false,
     "start_time": "2022-03-21T04:10:19.023077",
     "status": "completed"
    },
    "tags": []
   },
   "outputs": [],
   "source": [
    "total_experiment_time_secs = time.time() - start_time_secs"
   ]
  },
  {
   "cell_type": "code",
   "execution_count": 24,
   "id": "87b9595b",
   "metadata": {
    "execution": {
     "iopub.execute_input": "2022-03-21T04:10:19.168452Z",
     "iopub.status.busy": "2022-03-21T04:10:19.167826Z",
     "iopub.status.idle": "2022-03-21T04:11:21.142668Z",
     "shell.execute_reply": "2022-03-21T04:11:21.143119Z"
    },
    "papermill": {
     "duration": 62.015826,
     "end_time": "2022-03-21T04:11:21.143336",
     "exception": false,
     "start_time": "2022-03-21T04:10:19.127510",
     "status": "completed"
    },
    "tags": []
   },
   "outputs": [],
   "source": [
    "###################################\n",
    "# Evaluate the model\n",
    "###################################\n",
    "source_test_label_accuracy, source_test_label_loss = jig.test(datasets.source.processed.test)\n",
    "target_test_label_accuracy, target_test_label_loss = jig.test(datasets.target.processed.test)\n",
    "\n",
    "source_val_label_accuracy, source_val_label_loss = jig.test(datasets.source.processed.val)\n",
    "target_val_label_accuracy, target_val_label_loss = jig.test(datasets.target.processed.val)\n",
    "\n",
    "history = jig.get_history()\n",
    "\n",
    "total_epochs_trained = len(history[\"epoch_indices\"])\n",
    "\n",
    "val_dl = Iterable_Aggregator((datasets.source.original.val,datasets.target.original.val))\n",
    "\n",
    "confusion = ptn_confusion_by_domain_over_dataloader(model, p.device, val_dl)\n",
    "per_domain_accuracy = per_domain_accuracy_from_confusion(confusion)\n",
    "\n",
    "# Add a key to per_domain_accuracy for if it was a source domain\n",
    "for domain, accuracy in per_domain_accuracy.items():\n",
    "    per_domain_accuracy[domain] = {\n",
    "        \"accuracy\": accuracy,\n",
    "        \"source?\": domain in p.domains_source\n",
    "    }\n",
    "\n",
    "# Do an independent accuracy assesment JUST TO BE SURE!\n",
    "# _source_test_label_accuracy = independent_accuracy_assesment(model, datasets.source.processed.test, p.device)\n",
    "# _target_test_label_accuracy = independent_accuracy_assesment(model, datasets.target.processed.test, p.device)\n",
    "# _source_val_label_accuracy = independent_accuracy_assesment(model, datasets.source.processed.val, p.device)\n",
    "# _target_val_label_accuracy = independent_accuracy_assesment(model, datasets.target.processed.val, p.device)\n",
    "\n",
    "# assert(_source_test_label_accuracy == source_test_label_accuracy)\n",
    "# assert(_target_test_label_accuracy == target_test_label_accuracy)\n",
    "# assert(_source_val_label_accuracy == source_val_label_accuracy)\n",
    "# assert(_target_val_label_accuracy == target_val_label_accuracy)\n",
    "\n",
    "experiment = {\n",
    "    \"experiment_name\": p.experiment_name,\n",
    "    \"parameters\": dict(p),\n",
    "    \"results\": {\n",
    "        \"source_test_label_accuracy\": source_test_label_accuracy,\n",
    "        \"source_test_label_loss\": source_test_label_loss,\n",
    "        \"target_test_label_accuracy\": target_test_label_accuracy,\n",
    "        \"target_test_label_loss\": target_test_label_loss,\n",
    "        \"source_val_label_accuracy\": source_val_label_accuracy,\n",
    "        \"source_val_label_loss\": source_val_label_loss,\n",
    "        \"target_val_label_accuracy\": target_val_label_accuracy,\n",
    "        \"target_val_label_loss\": target_val_label_loss,\n",
    "        \"total_epochs_trained\": total_epochs_trained,\n",
    "        \"total_experiment_time_secs\": total_experiment_time_secs,\n",
    "        \"confusion\": confusion,\n",
    "        \"per_domain_accuracy\": per_domain_accuracy,\n",
    "    },\n",
    "    \"history\": history,\n",
    "    \"dataset_metrics\": get_dataset_metrics(datasets, \"ptn\"),\n",
    "}"
   ]
  },
  {
   "cell_type": "code",
   "execution_count": 25,
   "id": "54a21829",
   "metadata": {
    "execution": {
     "iopub.execute_input": "2022-03-21T04:11:21.231740Z",
     "iopub.status.busy": "2022-03-21T04:11:21.231333Z",
     "iopub.status.idle": "2022-03-21T04:11:21.443339Z",
     "shell.execute_reply": "2022-03-21T04:11:21.444040Z"
    },
    "papermill": {
     "duration": 0.249636,
     "end_time": "2022-03-21T04:11:21.444272",
     "exception": false,
     "start_time": "2022-03-21T04:11:21.194636",
     "status": "completed"
    },
    "tags": []
   },
   "outputs": [
    {
     "data": {
      "image/png": "[encoded data removed]",
      "text/plain": [
       "<Figure size 1080x504 with 1 Axes>"
      ]
     },
     "metadata": {
      "needs_background": "light"
     },
     "output_type": "display_data"
    }
   ],
   "source": [
    "ax = get_loss_curve(experiment)\n",
    "plt.show()"
   ]
  },
  {
   "cell_type": "code",
   "execution_count": 26,
   "id": "fd8a0f60",
   "metadata": {
    "execution": {
     "iopub.execute_input": "2022-03-21T04:11:21.519246Z",
     "iopub.status.busy": "2022-03-21T04:11:21.518823Z",
     "iopub.status.idle": "2022-03-21T04:11:21.890325Z",
     "shell.execute_reply": "2022-03-21T04:11:21.891014Z"
    },
    "papermill": {
     "duration": 0.409234,
     "end_time": "2022-03-21T04:11:21.891252",
     "exception": false,
     "start_time": "2022-03-21T04:11:21.482018",
     "status": "completed"
    },
    "tags": []
   },
   "outputs": [
    {
     "data": {
      "text/plain": [
       "<AxesSubplot:title={'center':'Results'}>"
      ]
     },
     "execution_count": 26,
     "metadata": {},
     "output_type": "execute_result"
    },
    {
     "data": {
      "image/png": "[encoded data removed]",
      "text/plain": [
       "<Figure size 1080x504 with 1 Axes>"
      ]
     },
     "metadata": {
      "needs_background": "light"
     },
     "output_type": "display_data"
    }
   ],
   "source": [
    "get_results_table(experiment)"
   ]
  },
  {
   "cell_type": "code",
   "execution_count": 27,
   "id": "cf8dc689",
   "metadata": {
    "execution": {
     "iopub.execute_input": "2022-03-21T04:11:21.970633Z",
     "iopub.status.busy": "2022-03-21T04:11:21.969994Z",
     "iopub.status.idle": "2022-03-21T04:11:22.196874Z",
     "shell.execute_reply": "2022-03-21T04:11:22.197552Z"
    },
    "papermill": {
     "duration": 0.26808,
     "end_time": "2022-03-21T04:11:22.197784",
     "exception": false,
     "start_time": "2022-03-21T04:11:21.929704",
     "status": "completed"
    },
    "tags": []
   },
   "outputs": [
    {
     "data": {
      "text/plain": [
       "<AxesSubplot:title={'center':'Per Domain Validation Accuracy'}, xlabel='domain'>"
      ]
     },
     "execution_count": 27,
     "metadata": {},
     "output_type": "execute_result"
    },
    {
     "data": {
      "image/png": "[encoded data removed]",
      "text/plain": [
       "<Figure size 1080x504 with 1 Axes>"
      ]
     },
     "metadata": {
      "needs_background": "light"
     },
     "output_type": "display_data"
    }
   ],
   "source": [
    "get_domain_accuracies(experiment)"
   ]
  },
  {
   "cell_type": "code",
   "execution_count": 28,
   "id": "a74ae082",
   "metadata": {
    "execution": {
     "iopub.execute_input": "2022-03-21T04:11:22.278052Z",
     "iopub.status.busy": "2022-03-21T04:11:22.277658Z",
     "iopub.status.idle": "2022-03-21T04:11:22.302841Z",
     "shell.execute_reply": "2022-03-21T04:11:22.302098Z"
    },
    "papermill": {
     "duration": 0.065442,
     "end_time": "2022-03-21T04:11:22.303026",
     "exception": false,
     "start_time": "2022-03-21T04:11:22.237584",
     "status": "completed"
    },
    "tags": []
   },
   "outputs": [
    {
     "name": "stdout",
     "output_type": "stream",
     "text": [
      "Source Test Label Accuracy: 0.9975862068965518 Target Test Label Accuracy: 0.7629310344827587\n",
      "Source Val Label Accuracy: 0.9980244252873564 Target Val Label Accuracy: 0.7690598060344828\n"
     ]
    }
   ],
   "source": [
    "print(\"Source Test Label Accuracy:\", experiment[\"results\"][\"source_test_label_accuracy\"], \"Target Test Label Accuracy:\", experiment[\"results\"][\"target_test_label_accuracy\"])\n",
    "print(\"Source Val Label Accuracy:\", experiment[\"results\"][\"source_val_label_accuracy\"], \"Target Val Label Accuracy:\", experiment[\"results\"][\"target_val_label_accuracy\"])"
   ]
  },
  {
   "cell_type": "code",
   "execution_count": 29,
   "id": "dacca602",
   "metadata": {
    "execution": {
     "iopub.execute_input": "2022-03-21T04:11:22.382779Z",
     "iopub.status.busy": "2022-03-21T04:11:22.382401Z",
     "iopub.status.idle": "2022-03-21T04:11:22.410288Z",
     "shell.execute_reply": "2022-03-21T04:11:22.410954Z"
    },
    "papermill": {
     "duration": 0.068466,
     "end_time": "2022-03-21T04:11:22.411152",
     "exception": false,
     "start_time": "2022-03-21T04:11:22.342686",
     "status": "completed"
    },
    "tags": [
     "experiment_json"
    ]
   },
   "outputs": [
    {
     "data": {
      "text/plain": [
       "'{\"experiment_name\": \"tl_1v2:cores-wisig\", \"parameters\": {\"experiment_name\": \"tl_1v2:cores-wisig\", \"device\": \"cuda\", \"lr\": 0.0001, \"n_shot\": 3, \"n_query\": 2, \"train_k_factor\": 3, \"val_k_factor\": 2, \"test_k_factor\": 2, \"torch_default_dtype\": \"torch.float32\", \"n_epoch\": 3, \"patience\": 3, \"criteria_for_best\": \"target_accuracy\", \"x_net\": [{\"class\": \"nnReshape\", \"kargs\": {\"shape\": [-1, 1, 2, 256]}}, {\"class\": \"Conv2d\", \"kargs\": {\"in_channels\": 1, \"out_channels\": 256, \"kernel_size\": [1, 7], \"bias\": false, \"padding\": [0, 3]}}, {\"class\": \"ReLU\", \"kargs\": {\"inplace\": true}}, {\"class\": \"BatchNorm2d\", \"kargs\": {\"num_features\": 256}}, {\"class\": \"Conv2d\", \"kargs\": {\"in_channels\": 256, \"out_channels\": 80, \"kernel_size\": [2, 7], \"bias\": true, \"padding\": [0, 3]}}, {\"class\": \"ReLU\", \"kargs\": {\"inplace\": true}}, {\"class\": \"BatchNorm2d\", \"kargs\": {\"num_features\": 80}}, {\"class\": \"Flatten\", \"kargs\": {}}, {\"class\": \"Linear\", \"kargs\": {\"in_features\": 20480, \"out_features\": 256}}, {\"class\": \"ReLU\", \"kargs\": {\"inplace\": true}}, {\"class\": \"BatchNorm1d\", \"kargs\": {\"num_features\": 256}}, {\"class\": \"Linear\", \"kargs\": {\"in_features\": 256, \"out_features\": 256}}], \"NUM_LOGS_PER_EPOCH\": 10, \"BEST_MODEL_PATH\": \"./best_model.pth\", \"n_way\": 58, \"datasets\": [{\"labels\": [\"1-10.\", \"1-11.\", \"1-15.\", \"1-16.\", \"1-17.\", \"1-18.\", \"1-19.\", \"10-4.\", \"10-7.\", \"11-1.\", \"11-14.\", \"11-17.\", \"11-20.\", \"11-7.\", \"13-20.\", \"13-8.\", \"14-10.\", \"14-11.\", \"14-14.\", \"14-7.\", \"15-1.\", \"15-20.\", \"16-1.\", \"16-16.\", \"17-10.\", \"17-11.\", \"17-2.\", \"19-1.\", \"19-16.\", \"19-19.\", \"19-20.\", \"19-3.\", \"2-10.\", \"2-11.\", \"2-17.\", \"2-18.\", \"2-20.\", \"2-3.\", \"2-4.\", \"2-5.\", \"2-6.\", \"2-7.\", \"2-8.\", \"3-13.\", \"3-18.\", \"3-3.\", \"4-1.\", \"4-10.\", \"4-11.\", \"4-19.\", \"5-5.\", \"6-15.\", \"7-10.\", \"7-14.\", \"8-18.\", \"8-20.\", \"8-3.\", \"8-8.\"], \"domains\": [1, 2, 3, 4, 5], \"num_examples_per_domain_per_label\": -1, \"pickle_path\": \"/root/csc500-main/datasets/cores.stratified_ds.2022A.pkl\", \"source_or_target_dataset\": \"source\", \"x_transforms\": [], \"episode_transforms\": [], \"domain_prefix\": \"CORES_\"}, {\"labels\": [\"1-10\", \"1-12\", \"1-14\", \"1-16\", \"1-18\", \"1-19\", \"1-8\", \"10-11\", \"10-17\", \"10-4\", \"10-7\", \"11-1\", \"11-10\", \"11-19\", \"11-20\", \"11-4\", \"11-7\", \"12-19\", \"12-20\", \"12-7\", \"13-14\", \"13-18\", \"13-19\", \"13-20\", \"13-3\", \"13-7\", \"14-10\", \"14-11\", \"14-12\", \"14-13\", \"14-14\", \"14-19\", \"14-20\", \"14-7\", \"14-8\", \"14-9\", \"15-1\", \"15-19\", \"15-6\", \"16-1\", \"16-16\", \"16-19\", \"16-20\", \"17-10\", \"17-11\", \"18-1\", \"18-10\", \"18-11\", \"18-12\", \"18-13\", \"18-14\", \"18-15\", \"18-16\", \"18-17\", \"18-19\", \"18-2\", \"18-20\", \"18-4\", \"18-5\", \"18-7\", \"18-8\", \"18-9\", \"19-1\", \"19-10\", \"19-11\", \"19-12\", \"19-13\", \"19-14\", \"19-15\", \"19-19\", \"19-2\", \"19-20\", \"19-3\", \"19-4\", \"19-6\", \"19-7\", \"19-8\", \"19-9\", \"2-1\", \"2-13\", \"2-15\", \"2-3\", \"2-4\", \"2-5\", \"2-6\", \"2-7\", \"2-8\", \"20-1\", \"20-12\", \"20-14\", \"20-15\", \"20-16\", \"20-18\", \"20-19\", \"20-20\", \"20-3\", \"20-4\", \"20-5\", \"20-7\", \"20-8\", \"3-1\", \"3-13\", \"3-18\", \"3-2\", \"3-8\", \"4-1\", \"4-10\", \"4-11\", \"5-1\", \"5-5\", \"6-1\", \"6-15\", \"6-6\", \"7-10\", \"7-11\", \"7-12\", \"7-13\", \"7-14\", \"7-7\", \"7-8\", \"7-9\", \"8-1\", \"8-13\", \"8-14\", \"8-18\", \"8-20\", \"8-3\", \"8-8\", \"9-1\", \"9-7\"], \"domains\": [1, 2, 3, 4], \"num_examples_per_domain_per_label\": -1, \"pickle_path\": \"/root/csc500-main/datasets/wisig.node3-19.stratified_ds.2022A.pkl\", \"source_or_target_dataset\": \"target\", \"x_transforms\": [], \"episode_transforms\": [], \"domain_prefix\": \"Wisig_\"}], \"dataset_seed\": 500, \"seed\": 500, \"x_shape\": [2, 256], \"domains_source\": [\"CORES_1\", \"CORES_2\", \"CORES_3\", \"CORES_4\", \"CORES_5\"], \"domains_target\": [\"Wisig_1\", \"Wisig_2\", \"Wisig_3\", \"Wisig_4\"]}, \"results\": {\"source_test_label_accuracy\": 0.9975862068965518, \"source_test_label_loss\": 0.017993537709116936, \"target_test_label_accuracy\": 0.7629310344827587, \"target_test_label_loss\": 2.849949598312378, \"source_val_label_accuracy\": 0.9980244252873564, \"source_val_label_loss\": 0.00809486024081707, \"target_val_label_accuracy\": 0.7690598060344828, \"target_val_label_loss\": 2.9709787368774414, \"total_epochs_trained\": 3, \"total_experiment_time_secs\": 136.76499485969543, \"confusion\": {\"CORES_4\": {\"42\": {\"42\": 16}, \"55\": {\"55\": 16}, \"35\": {\"35\": 16}, \"27\": {\"27\": 16}, \"8\": {\"8\": 16}, \"57\": {\"57\": 16}, \"49\": {\"49\": 16}, \"47\": {\"47\": 16}, \"16\": {\"16\": 16}, \"56\": {\"56\": 16}, \"31\": {\"31\": 16}, \"10\": {\"10\": 16}, \"26\": {\"26\": 16}, \"19\": {\"19\": 16}, \"52\": {\"52\": 16}, \"53\": {\"53\": 16}, \"37\": {\"37\": 16}, \"48\": {\"48\": 16}, \"1\": {\"1\": 16}, \"0\": {\"0\": 16}, \"13\": {\"13\": 16}, \"21\": {\"21\": 16}, \"18\": {\"18\": 16}, \"24\": {\"24\": 16}, \"6\": {\"6\": 15, \"3\": 1}, \"4\": {\"4\": 16}, \"30\": {\"30\": 16}, \"38\": {\"38\": 16}, \"34\": {\"34\": 16}, \"11\": {\"11\": 16}, \"12\": {\"12\": 16}, \"22\": {\"22\": 16}, \"3\": {\"3\": 16}, \"23\": {\"23\": 16}, \"9\": {\"9\": 16}, \"15\": {\"15\": 16}, \"50\": {\"50\": 16}, \"5\": {\"5\": 16}, \"33\": {\"33\": 16}, \"46\": {\"46\": 16}, \"20\": {\"20\": 16}, \"45\": {\"45\": 16}, \"2\": {\"2\": 16}, \"7\": {\"7\": 16}, \"39\": {\"39\": 16}, \"40\": {\"40\": 16}, \"44\": {\"44\": 16}, \"41\": {\"41\": 16}, \"29\": {\"29\": 16}, \"54\": {\"54\": 16}, \"32\": {\"32\": 16}, \"25\": {\"25\": 16}, \"43\": {\"43\": 16}, \"28\": {\"28\": 16}, \"51\": {\"51\": 16}, \"14\": {\"14\": 15, \"1\": 1}, \"36\": {\"36\": 16}, \"17\": {\"17\": 16}}, \"CORES_5\": {\"25\": {\"25\": 20}, \"14\": {\"14\": 20}, \"30\": {\"30\": 20}, \"50\": {\"50\": 20}, \"31\": {\"31\": 20}, \"15\": {\"15\": 20}, \"38\": {\"38\": 20}, \"43\": {\"43\": 20}, \"19\": {\"19\": 20}, \"26\": {\"26\": 20}, \"48\": {\"48\": 20}, \"12\": {\"12\": 20}, \"18\": {\"18\": 20}, \"8\": {\"8\": 20}, \"5\": {\"5\": 20}, \"24\": {\"24\": 20}, \"16\": {\"16\": 20}, \"10\": {\"10\": 20}, \"2\": {\"2\": 20}, \"27\": {\"27\": 20}, \"35\": {\"35\": 20}, \"17\": {\"17\": 20}, \"37\": {\"37\": 20}, \"41\": {\"41\": 20}, \"45\": {\"45\": 18, \"6\": 2}, \"54\": {\"54\": 20}, \"34\": {\"34\": 20}, \"56\": {\"56\": 20}, \"52\": {\"52\": 20}, \"39\": {\"39\": 20}, \"57\": {\"57\": 20}, \"0\": {\"0\": 20}, \"20\": {\"20\": 20}, \"46\": {\"46\": 20}, \"28\": {\"28\": 20}, \"23\": {\"23\": 20}, \"53\": {\"53\": 20}, \"7\": {\"7\": 20}, \"3\": {\"3\": 20}, \"22\": {\"22\": 20}, \"44\": {\"44\": 20}, \"42\": {\"42\": 20}, \"9\": {\"9\": 20}, \"1\": {\"1\": 20}, \"13\": {\"13\": 20}, \"49\": {\"49\": 20}, \"11\": {\"11\": 20}, \"47\": {\"47\": 20}, \"21\": {\"21\": 20}, \"29\": {\"29\": 20}, \"51\": {\"51\": 19, \"53\": 1}, \"36\": {\"36\": 20}, \"6\": {\"6\": 20}, \"33\": {\"33\": 20}, \"4\": {\"4\": 20}, \"32\": {\"32\": 20}, \"55\": {\"55\": 20}, \"40\": {\"40\": 20}}, \"CORES_2\": {\"19\": {\"19\": 20}, \"6\": {\"6\": 20}, \"45\": {\"45\": 20}, \"49\": {\"49\": 20}, \"23\": {\"23\": 20}, \"28\": {\"28\": 20}, \"54\": {\"54\": 20}, \"36\": {\"36\": 20}, \"0\": {\"0\": 20}, \"56\": {\"56\": 20}, \"20\": {\"20\": 20}, \"8\": {\"8\": 20}, \"11\": {\"11\": 20}, \"39\": {\"39\": 20}, \"42\": {\"42\": 20}, \"24\": {\"24\": 20}, \"44\": {\"44\": 20}, \"29\": {\"29\": 20}, \"13\": {\"13\": 20}, \"35\": {\"35\": 20}, \"50\": {\"50\": 20}, \"40\": {\"40\": 20}, \"21\": {\"21\": 20}, \"34\": {\"34\": 20}, \"52\": {\"52\": 20}, \"2\": {\"2\": 20}, \"57\": {\"57\": 20}, \"4\": {\"4\": 20}, \"37\": {\"37\": 20}, \"26\": {\"26\": 20}, \"33\": {\"33\": 20}, \"18\": {\"18\": 20}, \"10\": {\"10\": 19, \"24\": 1}, \"31\": {\"31\": 20}, \"22\": {\"22\": 20}, \"41\": {\"41\": 20}, \"27\": {\"27\": 20}, \"1\": {\"1\": 20}, \"55\": {\"55\": 20}, \"15\": {\"15\": 20}, \"38\": {\"38\": 20}, \"12\": {\"12\": 20}, \"51\": {\"51\": 20}, \"32\": {\"32\": 20}, \"3\": {\"3\": 20}, \"5\": {\"5\": 20}, \"14\": {\"14\": 20}, \"43\": {\"43\": 20}, \"30\": {\"30\": 20}, \"16\": {\"16\": 20}, \"47\": {\"47\": 20}, \"7\": {\"7\": 20}, \"9\": {\"9\": 20}, \"46\": {\"46\": 19, \"6\": 1}, \"48\": {\"48\": 20}, \"25\": {\"25\": 20}, \"53\": {\"53\": 20}, \"17\": {\"17\": 20}}, \"CORES_1\": {\"24\": {\"24\": 24}, \"9\": {\"9\": 23, \"53\": 1}, \"0\": {\"0\": 24}, \"41\": {\"41\": 24}, \"17\": {\"17\": 24}, \"38\": {\"38\": 24}, \"3\": {\"3\": 24}, \"37\": {\"37\": 24}, \"46\": {\"46\": 24}, \"51\": {\"51\": 24}, \"40\": {\"40\": 24}, \"45\": {\"45\": 24}, \"53\": {\"53\": 24}, \"56\": {\"56\": 24}, \"36\": {\"36\": 24}, \"50\": {\"50\": 24}, \"42\": {\"42\": 24}, \"1\": {\"1\": 24}, \"34\": {\"34\": 24}, \"55\": {\"55\": 24}, \"7\": {\"7\": 24}, \"23\": {\"23\": 24}, \"2\": {\"2\": 24}, \"18\": {\"18\": 24}, \"15\": {\"15\": 24}, \"29\": {\"29\": 24}, \"30\": {\"30\": 24}, \"33\": {\"33\": 24}, \"32\": {\"32\": 24}, \"19\": {\"19\": 24}, \"16\": {\"16\": 24}, \"43\": {\"43\": 24}, \"5\": {\"5\": 24}, \"12\": {\"12\": 24}, \"44\": {\"44\": 24}, \"14\": {\"14\": 24}, \"8\": {\"8\": 24}, \"20\": {\"20\": 23, \"12\": 1}, \"31\": {\"31\": 24}, \"28\": {\"28\": 24}, \"11\": {\"11\": 24}, \"27\": {\"27\": 24}, \"48\": {\"48\": 24}, \"21\": {\"21\": 24}, \"26\": {\"26\": 24}, \"6\": {\"6\": 23, \"46\": 1}, \"4\": {\"4\": 24}, \"35\": {\"35\": 24}, \"10\": {\"10\": 24}, \"57\": {\"57\": 24}, \"47\": {\"47\": 24}, \"13\": {\"13\": 24}, \"54\": {\"54\": 24}, \"49\": {\"49\": 24}, \"25\": {\"25\": 24}, \"22\": {\"22\": 24}, \"39\": {\"39\": 24}, \"52\": {\"52\": 24}}, \"CORES_3\": {\"13\": {\"13\": 16}, \"45\": {\"45\": 16}, \"17\": {\"17\": 16}, \"11\": {\"11\": 16}, \"41\": {\"41\": 16}, \"24\": {\"24\": 16}, \"30\": {\"30\": 16}, \"43\": {\"43\": 16}, \"51\": {\"51\": 16}, \"2\": {\"2\": 16}, \"42\": {\"42\": 16}, \"40\": {\"40\": 16}, \"16\": {\"16\": 16}, \"54\": {\"54\": 16}, \"50\": {\"50\": 16}, \"48\": {\"48\": 16}, \"8\": {\"8\": 16}, \"21\": {\"21\": 15, \"3\": 1}, \"29\": {\"29\": 16}, \"14\": {\"14\": 16}, \"47\": {\"47\": 16}, \"32\": {\"32\": 16}, \"36\": {\"36\": 16}, \"9\": {\"9\": 16}, \"52\": {\"52\": 16}, \"0\": {\"0\": 16}, \"6\": {\"6\": 16}, \"12\": {\"12\": 16}, \"4\": {\"4\": 16}, \"49\": {\"49\": 16}, \"37\": {\"37\": 16}, \"18\": {\"18\": 16}, \"35\": {\"35\": 16}, \"38\": {\"38\": 16}, \"10\": {\"10\": 16}, \"25\": {\"25\": 16}, \"22\": {\"22\": 16}, \"1\": {\"1\": 16}, \"19\": {\"19\": 16}, \"33\": {\"33\": 16}, \"28\": {\"28\": 16}, \"23\": {\"23\": 16}, \"57\": {\"57\": 16}, \"34\": {\"34\": 16}, \"46\": {\"46\": 16}, \"44\": {\"44\": 16}, \"31\": {\"31\": 16}, \"27\": {\"27\": 16}, \"26\": {\"26\": 16}, \"15\": {\"15\": 16}, \"20\": {\"20\": 16}, \"3\": {\"3\": 16}, \"56\": {\"56\": 16}, \"7\": {\"7\": 16}, \"53\": {\"53\": 16}, \"5\": {\"5\": 16}, \"39\": {\"39\": 16}, \"55\": {\"55\": 16}}, \"Wisig_3\": {\"111\": {\"111\": 26, \"90\": 1, \"114\": 1, \"73\": 1, \"124\": 1}, \"108\": {\"108\": 35, \"70\": 1}, \"37\": {\"37\": 16}, \"38\": {\"38\": 16}, \"11\": {\"64\": 1, \"11\": 37, \"43\": 2}, \"22\": {\"22\": 14, \"55\": 1, \"57\": 1}, \"40\": {\"105\": 6, \"32\": 1, \"40\": 33, \"9\": 2, \"84\": 2, \"99\": 1, \"70\": 1}, \"107\": {\"107\": 34, \"14\": 10}, \"23\": {\"26\": 2, \"23\": 9, \"51\": 2, \"18\": 6, \"72\": 1, \"122\": 4, \"12\": 4, \"110\": 3, \"113\": 1}, \"34\": {\"127\": 1, \"106\": 1, \"14\": 2, \"34\": 8, \"0\": 3, \"107\": 7, \"31\": 1, \"32\": 3, \"99\": 2, \"94\": 1, \"75\": 1, \"51\": 2}, \"122\": {\"122\": 29, \"87\": 9, \"60\": 3, \"110\": 2, \"12\": 1}, \"29\": {\"29\": 32}, \"121\": {\"121\": 21, \"61\": 4, \"117\": 1, \"120\": 2, \"2\": 1, \"81\": 2, \"116\": 1}, \"93\": {\"93\": 39, \"16\": 2, \"96\": 1}, \"30\": {\"30\": 28, \"15\": 3, \"121\": 1, \"97\": 1, \"2\": 1, \"106\": 2}, \"127\": {\"127\": 35, \"72\": 1, \"14\": 1, \"3\": 2, \"88\": 1}, \"28\": {\"28\": 12, \"115\": 1, \"31\": 2, \"44\": 1}, \"47\": {\"47\": 11, \"49\": 1}, \"74\": {\"74\": 16}, \"79\": {\"79\": 11, \"29\": 1}, \"41\": {\"41\": 13, \"100\": 1, \"71\": 1, \"103\": 1}, \"86\": {\"86\": 21, \"115\": 1, \"4\": 2, \"68\": 1, \"41\": 1, \"39\": 1, \"99\": 1}, \"85\": {\"85\": 34, \"124\": 1, \"112\": 1}, \"45\": {\"45\": 13, \"115\": 2, \"29\": 1}, \"32\": {\"32\": 11, \"33\": 2, \"65\": 3, \"9\": 1, \"107\": 5, \"55\": 3, \"40\": 2, \"44\": 2, \"92\": 1, \"128\": 1, \"50\": 1}, \"16\": {\"93\": 4, \"16\": 31, \"70\": 1}, \"49\": {\"93\": 4, \"49\": 16, \"8\": 1, \"20\": 1, \"97\": 1, \"12\": 1}, \"58\": {\"12\": 1, \"58\": 8, \"101\": 1, \"77\": 2, \"128\": 1, \"68\": 1, \"111\": 1, \"72\": 1}, \"106\": {\"106\": 27, \"97\": 5, \"15\": 5, \"30\": 1}, \"78\": {\"16\": 1, \"30\": 1, \"88\": 1, \"127\": 1, \"78\": 9, \"122\": 1, \"34\": 1, \"43\": 1}, \"5\": {\"5\": 36, \"129\": 1, \"124\": 1}, \"26\": {\"26\": 45, \"43\": 1}, \"13\": {\"13\": 2, \"80\": 2, \"117\": 2, \"102\": 2, \"115\": 1, \"67\": 2, \"120\": 1, \"123\": 1, \"2\": 2, \"17\": 1}, \"27\": {\"27\": 22, \"24\": 8, \"70\": 1, \"36\": 7, \"43\": 1, \"54\": 1}, \"54\": {\"54\": 13, \"25\": 2, \"125\": 1}, \"68\": {\"86\": 1, \"68\": 14, \"124\": 1}, \"128\": {\"128\": 11, \"114\": 1, \"28\": 2, \"33\": 2, \"32\": 3, \"77\": 1, \"44\": 5, \"72\": 1, \"66\": 4, \"91\": 1, \"47\": 1}, \"104\": {\"104\": 16}, \"7\": {\"7\": 43, \"9\": 2, \"88\": 1}, \"116\": {\"64\": 3, \"116\": 22, \"45\": 2, \"29\": 1}, \"80\": {\"80\": 13, \"120\": 1, \"79\": 2}, \"92\": {\"92\": 29, \"125\": 1, \"90\": 2}, \"62\": {\"62\": 33, \"94\": 1}, \"64\": {\"64\": 18, \"81\": 1, \"80\": 1}, \"12\": {\"12\": 34, \"70\": 1, \"21\": 1, \"101\": 2}, \"56\": {\"59\": 1, \"56\": 7, \"103\": 1, \"99\": 2, \"40\": 1}, \"39\": {\"39\": 43, \"126\": 1}, \"98\": {\"98\": 32, \"106\": 1, \"117\": 1}, \"59\": {\"59\": 12}, \"90\": {\"29\": 1, \"90\": 30, \"28\": 1}, \"52\": {\"85\": 1, \"52\": 11, \"47\": 1, \"98\": 2, \"73\": 1}, \"105\": {\"105\": 38, \"40\": 3, \"127\": 1}, \"53\": {\"53\": 16, \"49\": 2, \"8\": 1, \"15\": 1}, \"43\": {\"43\": 38, \"11\": 1, \"118\": 3, \"21\": 1, \"101\": 1, \"109\": 1, \"88\": 1}, \"100\": {\"100\": 9, \"39\": 1, \"31\": 1, \"28\": 1, \"29\": 2, \"1\": 1, \"44\": 1}, \"61\": {\"64\": 1, \"61\": 13, \"92\": 1, \"120\": 1}, \"66\": {\"66\": 12, \"65\": 1, \"99\": 1, \"100\": 1, \"56\": 1}, \"103\": {\"103\": 14, \"92\": 1, \"114\": 1}, \"55\": {\"55\": 16}, \"75\": {\"75\": 12, \"0\": 4}, \"118\": {\"118\": 35, \"43\": 1, \"109\": 1, \"39\": 1}, \"117\": {\"117\": 32, \"2\": 4, \"64\": 3, \"81\": 1}, \"115\": {\"115\": 13, \"116\": 1, \"45\": 1, \"29\": 1}, \"110\": {\"110\": 28, \"122\": 2, \"49\": 1, \"60\": 1}, \"95\": {\"95\": 29, \"70\": 1}, \"18\": {\"23\": 2, \"18\": 36, \"81\": 1, \"13\": 1, \"26\": 2}, \"50\": {\"57\": 1, \"104\": 1, \"50\": 12, \"65\": 2}, \"112\": {\"112\": 8, \"83\": 3, \"102\": 1, \"85\": 3, \"124\": 1}, \"72\": {\"72\": 27, \"51\": 1}, \"109\": {\"109\": 41, \"87\": 1}, \"126\": {\"126\": 31, \"113\": 1}, \"14\": {\"14\": 41, \"84\": 1, \"60\": 1, \"16\": 1}, \"17\": {\"78\": 3, \"104\": 2, \"17\": 4, \"50\": 1, \"102\": 2, \"70\": 1, \"21\": 1, \"55\": 1, \"67\": 1}, \"51\": {\"51\": 15, \"101\": 1}, \"96\": {\"96\": 20}, \"77\": {\"77\": 16}, \"71\": {\"71\": 36}, \"4\": {\"4\": 29, \"86\": 1, \"48\": 1, \"70\": 1}, \"87\": {\"87\": 34, \"122\": 6, \"60\": 2}, \"120\": {\"120\": 16, \"92\": 2, \"18\": 1, \"102\": 1}, \"113\": {\"113\": 35, \"23\": 1, \"26\": 2}, \"123\": {\"123\": 9, \"117\": 2, \"17\": 1, \"67\": 1, \"80\": 2, \"63\": 1}, \"35\": {\"35\": 10, \"36\": 1, \"7\": 1}, \"83\": {\"83\": 17, \"42\": 1, \"39\": 2, \"112\": 1, \"73\": 2, \"85\": 1}, \"24\": {\"24\": 22, \"27\": 12, \"36\": 4}, \"102\": {\"102\": 36, \"81\": 1, \"121\": 1}, \"6\": {\"25\": 4, \"6\": 23, \"98\": 1, \"34\": 1, \"73\": 1, \"36\": 1, \"56\": 1}, \"81\": {\"81\": 27, \"2\": 2, \"121\": 1}, \"89\": {\"89\": 24, \"116\": 1, \"120\": 2, \"18\": 1}, \"114\": {\"1\": 5, \"114\": 29, \"128\": 1, \"90\": 1}, \"1\": {\"1\": 37, \"20\": 1, \"49\": 1, \"114\": 8, \"14\": 1}, \"25\": {\"54\": 1, \"25\": 15}, \"88\": {\"88\": 31, \"39\": 1, \"24\": 6, \"126\": 1, \"70\": 2, \"122\": 1}, \"46\": {\"46\": 12, \"1\": 1, \"77\": 1, \"19\": 1, \"47\": 1}, \"57\": {\"57\": 18, \"50\": 1, \"74\": 1}, \"73\": {\"112\": 1, \"73\": 30, \"88\": 1, \"83\": 2}, \"60\": {\"16\": 2, \"60\": 22, \"110\": 1, \"31\": 1, \"23\": 1, \"114\": 1}, \"10\": {\"10\": 42, \"70\": 2}, \"36\": {\"36\": 22, \"24\": 3, \"27\": 8, \"108\": 1}, \"65\": {\"65\": 6, \"66\": 1, \"63\": 1, \"61\": 1, \"117\": 1, \"67\": 1, \"9\": 1}, \"67\": {\"123\": 4, \"67\": 12}, \"119\": {\"119\": 11, \"80\": 1, \"13\": 2, \"112\": 1, \"2\": 1}, \"15\": {\"8\": 1, \"15\": 31, \"21\": 1, \"94\": 4, \"106\": 5, \"97\": 4, \"78\": 1, \"39\": 1}, \"42\": {\"42\": 21, \"83\": 3, \"73\": 2, \"124\": 2}, \"91\": {\"58\": 2, \"114\": 1, \"52\": 1, \"68\": 1, \"91\": 12, \"3\": 1, \"19\": 2, \"34\": 1, \"89\": 1, \"20\": 1, \"128\": 1}, \"3\": {\"3\": 29, \"99\": 1, \"60\": 1, \"71\": 2, \"125\": 1}, \"44\": {\"44\": 39, \"31\": 1, \"90\": 1, \"92\": 1}, \"63\": {\"15\": 1, \"63\": 13, \"106\": 1, \"91\": 1}, \"33\": {\"33\": 34, \"69\": 2, \"117\": 1, \"31\": 1}, \"69\": {\"69\": 31, \"32\": 1, \"38\": 1, \"26\": 1, \"62\": 1, \"78\": 1}, \"101\": {\"101\": 34, \"51\": 4, \"70\": 2, \"0\": 4, \"72\": 1, \"21\": 1}, \"48\": {\"67\": 3, \"102\": 3, \"80\": 1, \"63\": 1, \"121\": 1, \"50\": 2, \"48\": 2, \"120\": 1, \"17\": 1, \"64\": 1}, \"8\": {\"8\": 31, \"39\": 1}, \"124\": {\"42\": 1, \"124\": 35, \"85\": 3, \"73\": 5}, \"9\": {\"40\": 3, \"9\": 22, \"105\": 4, \"120\": 1, \"99\": 1, \"62\": 1}, \"21\": {\"21\": 21, \"88\": 1, \"90\": 1, \"27\": 1}, \"20\": {\"20\": 13, \"46\": 1, \"16\": 2}, \"0\": {\"0\": 47, \"21\": 1}, \"125\": {\"125\": 38, \"92\": 1, \"46\": 1}, \"19\": {\"47\": 4, \"77\": 3, \"19\": 15, \"98\": 3, \"72\": 1, \"20\": 2, \"53\": 1, \"5\": 1}, \"99\": {\"99\": 25, \"3\": 1, \"105\": 3, \"127\": 2, \"32\": 1, \"9\": 1, \"56\": 1, \"40\": 2}, \"94\": {\"78\": 1, \"15\": 5, \"30\": 4, \"94\": 17, \"97\": 1}, \"84\": {\"84\": 40, \"107\": 2, \"69\": 1, \"128\": 1, \"105\": 1, \"14\": 1}, \"70\": {\"70\": 32, \"88\": 3, \"24\": 1}, \"129\": {\"129\": 30, \"19\": 2}, \"76\": {\"76\": 14, \"57\": 2}, \"2\": {\"81\": 5, \"100\": 1, \"120\": 3, \"102\": 3, \"2\": 9, \"64\": 1, \"129\": 1, \"121\": 3, \"117\": 2}, \"97\": {\"15\": 9, \"97\": 9, \"30\": 1, \"106\": 1}, \"82\": {\"82\": 28}, \"31\": {\"31\": 18, \"107\": 2}}, \"Wisig_1\": {\"51\": {\"51\": 15, \"101\": 1}, \"103\": {\"89\": 1, \"103\": 15}, \"53\": {\"53\": 17, \"98\": 2, \"49\": 1}, \"24\": {\"24\": 26, \"88\": 6, \"108\": 7, \"21\": 1}, \"39\": {\"39\": 35, \"21\": 2, \"113\": 1, \"125\": 2}, \"90\": {\"90\": 45, \"66\": 1}, \"106\": {\"106\": 45, \"23\": 1, \"12\": 2, \"101\": 2}, \"54\": {\"54\": 8, \"83\": 4, \"72\": 1, \"91\": 1, \"29\": 1, \"77\": 1}, \"56\": {\"127\": 3, \"56\": 8, \"32\": 1}, \"118\": {\"118\": 33, \"69\": 1}, \"100\": {\"1\": 1, \"99\": 8, \"100\": 7}, \"95\": {\"95\": 27, \"90\": 2, \"82\": 1, \"16\": 4, \"18\": 1, \"117\": 1}, \"98\": {\"98\": 33, \"53\": 1, \"86\": 1, \"91\": 1}, \"36\": {\"36\": 34, \"27\": 7, \"21\": 1}, \"48\": {\"48\": 11, \"57\": 1}, \"107\": {\"107\": 33, \"21\": 1, \"75\": 1, \"105\": 1, \"127\": 1, \"40\": 3}, \"5\": {\"54\": 1, \"5\": 37, \"129\": 1, \"124\": 2, \"70\": 1}, \"82\": {\"82\": 32, \"42\": 2}, \"6\": {\"98\": 1, \"103\": 1, \"6\": 19, \"2\": 1, \"112\": 4, \"53\": 1, \"86\": 1, \"22\": 1, \"59\": 2, \"91\": 1}, \"27\": {\"36\": 5, \"27\": 29, \"94\": 1, \"97\": 4, \"126\": 1, \"24\": 2}, \"77\": {\"77\": 12, \"90\": 1, \"114\": 1, \"54\": 1, \"21\": 1}, \"75\": {\"75\": 14, \"127\": 2}, \"2\": {\"64\": 7, \"119\": 3, \"2\": 9, \"115\": 1, \"82\": 4, \"129\": 2, \"123\": 1, \"22\": 1, \"25\": 1, \"77\": 1, \"66\": 1, \"42\": 1}, \"31\": {\"31\": 15, \"72\": 1}, \"29\": {\"29\": 27, \"96\": 1}, \"35\": {\"35\": 12}, \"125\": {\"125\": 38}, \"123\": {\"123\": 13, \"63\": 1, \"117\": 1, \"128\": 1}, \"64\": {\"64\": 15, \"82\": 1}, \"50\": {\"50\": 13, \"76\": 1, \"28\": 2}, \"16\": {\"16\": 28, \"18\": 2, \"26\": 7, \"109\": 1, \"21\": 1, \"39\": 1}, \"79\": {\"79\": 12}, \"1\": {\"1\": 36, \"14\": 1, \"44\": 1}, \"70\": {\"70\": 31, \"109\": 10, \"21\": 1}, \"121\": {\"116\": 2, \"121\": 24, \"22\": 1, \"95\": 2, \"120\": 1}, \"14\": {\"14\": 33, \"109\": 1, \"21\": 1, \"81\": 4, \"72\": 2, \"84\": 1}, \"80\": {\"80\": 14, \"102\": 1, \"22\": 1}, \"99\": {\"25\": 1, \"99\": 22, \"128\": 1}, \"116\": {\"66\": 1, \"116\": 16, \"88\": 1, \"82\": 1, \"67\": 1, \"102\": 7, \"121\": 1, \"5\": 1, \"22\": 1, \"61\": 1, \"42\": 1}, \"15\": {\"15\": 34, \"21\": 1, \"94\": 6, \"97\": 2, \"36\": 2, \"27\": 2, \"52\": 2, \"12\": 3}, \"127\": {\"127\": 45, \"71\": 2, \"94\": 1}, \"101\": {\"101\": 38}, \"89\": {\"89\": 27, \"9\": 5, \"98\": 1, \"91\": 2, \"49\": 1}, \"83\": {\"54\": 1, \"77\": 1, \"83\": 11, \"114\": 4, \"29\": 2, \"128\": 4, \"78\": 1, \"99\": 1, \"91\": 1, \"72\": 1, \"14\": 1}, \"34\": {\"34\": 9, \"14\": 4, \"71\": 4, \"53\": 4, \"84\": 3, \"81\": 6, \"40\": 1, \"60\": 1}, \"78\": {\"39\": 2, \"78\": 10, \"109\": 1, \"93\": 2, \"21\": 1}, \"43\": {\"43\": 36, \"21\": 1, \"122\": 10, \"87\": 1}, \"74\": {\"74\": 16}, \"120\": {\"70\": 1, \"120\": 12, \"61\": 1, \"13\": 1, \"28\": 1, \"50\": 1, \"66\": 1, \"90\": 2}, \"25\": {\"25\": 11, \"128\": 2, \"99\": 1, \"3\": 1, \"64\": 1}, \"129\": {\"83\": 2, \"129\": 17, \"54\": 1, \"2\": 2, \"5\": 3, \"45\": 1, \"42\": 1, \"73\": 1}, \"88\": {\"24\": 7, \"88\": 30, \"108\": 3}, \"119\": {\"119\": 14, \"65\": 1, \"2\": 1}, \"18\": {\"18\": 33, \"3\": 2, \"16\": 1}, \"66\": {\"66\": 14, \"90\": 1, \"116\": 1}, \"102\": {\"102\": 39, \"117\": 3, \"67\": 1, \"13\": 1}, \"85\": {\"85\": 31, \"37\": 1}, \"13\": {\"13\": 10, \"117\": 3, \"64\": 1, \"63\": 2}, \"3\": {\"3\": 39, \"81\": 2, \"128\": 1}, \"84\": {\"84\": 36, \"23\": 1, \"44\": 1}, \"8\": {\"8\": 40, \"23\": 1, \"87\": 1, \"106\": 1, \"21\": 1}, \"19\": {\"19\": 15, \"128\": 3, \"72\": 2, \"1\": 1, \"42\": 1, \"29\": 3, \"20\": 1, \"99\": 1, \"82\": 1}, \"7\": {\"7\": 36}, \"20\": {\"20\": 16}, \"93\": {\"93\": 38, \"8\": 1, \"43\": 1, \"87\": 1, \"110\": 1}, \"71\": {\"106\": 3, \"71\": 29, \"12\": 10, \"127\": 3, \"117\": 1}, \"128\": {\"3\": 4, \"128\": 10, \"52\": 1, \"73\": 4, \"114\": 2, \"101\": 1, \"29\": 1, \"54\": 1}, \"59\": {\"6\": 2, \"59\": 9, \"66\": 1}, \"126\": {\"126\": 46}, \"4\": {\"4\": 33, \"5\": 1, \"17\": 1, \"39\": 1}, \"91\": {\"128\": 1, \"91\": 18, \"98\": 5, \"34\": 1, \"107\": 1, \"114\": 1, \"1\": 1}, \"76\": {\"76\": 15, \"69\": 1}, \"49\": {\"49\": 9, \"106\": 1, \"98\": 4, \"12\": 1, \"9\": 1, \"72\": 1, \"101\": 1, \"31\": 1, \"128\": 1}, \"114\": {\"114\": 46, \"23\": 1, \"21\": 1}, \"115\": {\"115\": 9, \"46\": 2, \"45\": 1}, \"44\": {\"44\": 32}, \"17\": {\"46\": 1, \"4\": 1, \"17\": 13, \"95\": 1}, \"46\": {\"73\": 1, \"46\": 6, \"111\": 1, \"5\": 1, \"6\": 2, \"115\": 1}, \"96\": {\"96\": 18, \"64\": 1, \"29\": 1}, \"68\": {\"68\": 16}, \"86\": {\"86\": 31, \"17\": 1, \"5\": 1, \"124\": 1, \"46\": 1, \"91\": 1}, \"65\": {\"123\": 1, \"50\": 2, \"57\": 1, \"102\": 1, \"21\": 1, \"22\": 2, \"109\": 1, \"61\": 1, \"120\": 1, \"65\": 1}, \"10\": {\"10\": 46, \"78\": 2, \"0\": 1, \"21\": 1}, \"22\": {\"64\": 2, \"22\": 10, \"90\": 1, \"66\": 1, \"120\": 1, \"28\": 1}, \"94\": {\"94\": 39, \"70\": 1, \"15\": 5, \"109\": 1}, \"9\": {\"89\": 2, \"9\": 29, \"49\": 1}, \"73\": {\"73\": 19, \"128\": 1}, \"37\": {\"37\": 15, \"52\": 1}, \"26\": {\"26\": 43, \"16\": 1, \"109\": 1, \"21\": 1}, \"21\": {\"21\": 29, \"70\": 2, \"82\": 1, \"109\": 3, \"30\": 1, \"78\": 1, \"39\": 2, \"94\": 1}, \"47\": {\"103\": 3, \"73\": 1, \"47\": 7, \"9\": 1}, \"67\": {\"67\": 15, \"65\": 1}, \"117\": {\"117\": 31, \"102\": 3}, \"72\": {\"72\": 26, \"29\": 1, \"101\": 2, \"34\": 1}, \"12\": {\"12\": 31, \"127\": 3, \"106\": 6}, \"92\": {\"92\": 28}, \"23\": {\"23\": 7, \"127\": 2, \"87\": 2, \"44\": 1, \"60\": 1, \"21\": 1, \"3\": 2, \"106\": 1, \"34\": 1, \"108\": 1, \"110\": 2, \"101\": 1, \"35\": 1, \"8\": 1}, \"57\": {\"57\": 12}, \"38\": {\"76\": 2, \"38\": 12, \"61\": 1, \"33\": 1}, \"11\": {\"11\": 30, \"8\": 1, \"44\": 1}, \"32\": {\"32\": 22, \"127\": 3, \"21\": 1, \"107\": 5, \"75\": 1}, \"69\": {\"69\": 29, \"62\": 3, \"26\": 2, \"109\": 1, \"21\": 1, \"118\": 4}, \"105\": {\"105\": 28, \"40\": 11, \"14\": 1, \"107\": 3, \"34\": 1}, \"52\": {\"52\": 19, \"89\": 1}, \"109\": {\"109\": 41, \"108\": 1, \"70\": 4}, \"60\": {\"87\": 3, \"18\": 1, \"84\": 2, \"23\": 1, \"60\": 7, \"16\": 1, \"20\": 1}, \"87\": {\"87\": 37, \"60\": 1, \"23\": 1, \"122\": 1}, \"113\": {\"113\": 38}, \"42\": {\"46\": 1, \"3\": 1, \"42\": 9, \"21\": 2, \"25\": 1, \"20\": 1, \"128\": 2, \"129\": 2, \"81\": 1, \"82\": 5, \"114\": 1, \"5\": 2}, \"61\": {\"61\": 10, \"90\": 1, \"120\": 1}, \"63\": {\"123\": 4, \"117\": 3, \"63\": 9}, \"111\": {\"111\": 32}, \"41\": {\"41\": 15, \"28\": 1}, \"40\": {\"40\": 28, \"105\": 7, \"21\": 2, \"34\": 1, \"107\": 2}, \"112\": {\"98\": 2, \"112\": 11, \"58\": 1, \"6\": 1, \"71\": 1}, \"108\": {\"24\": 5, \"108\": 26, \"126\": 3, \"88\": 3, \"97\": 1}, \"104\": {\"46\": 4, \"104\": 10, \"73\": 1, \"124\": 1}, \"28\": {\"28\": 14, \"66\": 1, \"6\": 1, \"38\": 1, \"90\": 1, \"33\": 2}, \"122\": {\"122\": 30, \"21\": 1, \"43\": 8, \"109\": 1}, \"81\": {\"81\": 25, \"84\": 2, \"14\": 1}, \"124\": {\"124\": 29, \"104\": 1}, \"45\": {\"109\": 1, \"45\": 5, \"42\": 2, \"2\": 1, \"129\": 3}, \"97\": {\"36\": 2, \"15\": 2, \"126\": 4, \"27\": 6, \"97\": 6}, \"58\": {\"91\": 1, \"58\": 7, \"98\": 2, \"68\": 2}, \"30\": {\"30\": 31, \"94\": 1}, \"33\": {\"34\": 1, \"33\": 40, \"21\": 1}, \"55\": {\"55\": 12}, \"62\": {\"62\": 39, \"69\": 3, \"105\": 1, \"26\": 1}, \"110\": {\"110\": 25, \"21\": 1, \"127\": 2}, \"0\": {\"0\": 31, \"21\": 1}}, \"Wisig_2\": {\"4\": {\"4\": 41, \"5\": 1, \"120\": 1, \"115\": 2, \"79\": 1, \"86\": 2}, \"21\": {\"21\": 36}, \"5\": {\"5\": 43, \"46\": 1, \"85\": 3, \"88\": 1}, \"71\": {\"71\": 31, \"3\": 5, \"128\": 2, \"23\": 1, \"88\": 1}, \"46\": {\"46\": 13, \"21\": 1, \"124\": 2}, \"100\": {\"100\": 15, \"19\": 1}, \"97\": {\"97\": 12, \"66\": 1, \"112\": 1, \"122\": 2, \"0\": 2, \"106\": 1, \"30\": 1}, \"74\": {\"74\": 10, \"21\": 1, \"105\": 1, \"40\": 1, \"55\": 1, \"88\": 1, \"62\": 1}, \"116\": {\"116\": 18, \"119\": 5, \"80\": 2, \"90\": 2, \"102\": 1}, \"104\": {\"64\": 1, \"104\": 13, \"50\": 1, \"21\": 1, \"70\": 1, \"6\": 1, \"56\": 1, \"55\": 1}, \"70\": {\"21\": 4, \"110\": 1, \"39\": 2, \"70\": 18, \"109\": 2, \"78\": 5, \"87\": 2}, \"84\": {\"84\": 34, \"88\": 1, \"14\": 1, \"23\": 1, \"33\": 1, \"62\": 1, \"107\": 1}, \"73\": {\"73\": 19, \"53\": 1, \"19\": 2, \"85\": 5, \"89\": 1}, \"29\": {\"29\": 32}, \"26\": {\"26\": 39, \"21\": 2, \"18\": 1, \"70\": 1, \"72\": 1}, \"3\": {\"71\": 6, \"3\": 27, \"21\": 1, \"60\": 1, \"110\": 1, \"57\": 1, \"25\": 1}, \"40\": {\"40\": 36, \"21\": 2, \"88\": 2, \"95\": 1, \"27\": 1, \"32\": 1, \"107\": 1}, \"126\": {\"126\": 37, \"21\": 1}, \"94\": {\"94\": 18, \"21\": 3, \"15\": 14, \"11\": 2, \"9\": 2, \"108\": 3, \"36\": 1, \"24\": 1}, \"28\": {\"28\": 16, \"38\": 1, \"6\": 1, \"83\": 1, \"19\": 1}, \"38\": {\"38\": 15, \"66\": 1}, \"23\": {\"12\": 5, \"26\": 5, \"122\": 6, \"113\": 10, \"127\": 2, \"42\": 1, \"110\": 7, \"90\": 1, \"43\": 1, \"71\": 1, \"23\": 2, \"20\": 1, \"21\": 1, \"18\": 1}, \"61\": {\"38\": 4, \"76\": 2, \"61\": 13, \"49\": 1}, \"122\": {\"122\": 29, \"110\": 6, \"127\": 1, \"11\": 1, \"8\": 4, \"12\": 3, \"21\": 2, \"43\": 1, \"88\": 1}, \"7\": {\"7\": 27, \"21\": 1, \"105\": 8, \"95\": 2}, \"47\": {\"47\": 8, \"112\": 1, \"124\": 1, \"19\": 1, \"25\": 1}, \"56\": {\"56\": 10, \"54\": 1, \"107\": 1}, \"58\": {\"58\": 13, \"59\": 1, \"52\": 1, \"21\": 1, \"9\": 2, \"36\": 1, \"15\": 1}, \"90\": {\"90\": 45, \"82\": 2, \"116\": 1}, \"117\": {\"117\": 31, \"65\": 5, \"21\": 1, \"88\": 1}, \"66\": {\"66\": 15, \"89\": 2, \"31\": 1, \"33\": 2}, \"110\": {\"110\": 26, \"3\": 1, \"88\": 1, \"122\": 4, \"78\": 1, \"65\": 1, \"121\": 1, \"23\": 2, \"60\": 1, \"21\": 2}, \"127\": {\"127\": 39, \"12\": 1}, \"120\": {\"120\": 12, \"117\": 1, \"65\": 1, \"121\": 2, \"2\": 3, \"81\": 1}, \"85\": {\"85\": 27, \"98\": 1, \"44\": 1, \"129\": 1, \"112\": 1, \"19\": 1}, \"64\": {\"64\": 10, \"21\": 1, \"31\": 1, \"89\": 4}, \"17\": {\"86\": 7, \"17\": 3, \"104\": 3, \"50\": 1, \"21\": 1, \"49\": 1}, \"114\": {\"114\": 35, \"24\": 1}, \"43\": {\"122\": 3, \"43\": 39, \"93\": 1, \"110\": 1, \"21\": 2}, \"60\": {\"23\": 3, \"60\": 18, \"93\": 1, \"96\": 1, \"14\": 1, \"118\": 2, \"8\": 1, \"16\": 1}, \"108\": {\"108\": 44}, \"76\": {\"89\": 2, \"76\": 9, \"64\": 1, \"31\": 2, \"66\": 1, \"69\": 1}, \"123\": {\"86\": 1, \"123\": 11, \"53\": 1, \"28\": 1, \"116\": 1, \"44\": 1}, \"106\": {\"106\": 26, \"5\": 1, \"15\": 3, \"94\": 1, \"27\": 1}, \"1\": {\"1\": 41, \"93\": 2, \"21\": 1, \"16\": 1, \"128\": 1, \"32\": 1, \"14\": 1}, \"34\": {\"34\": 16, \"21\": 1, \"1\": 1, \"127\": 7, \"19\": 1, \"32\": 1, \"25\": 1, \"60\": 1, \"128\": 1, \"54\": 1, \"3\": 1}, \"49\": {\"49\": 11, \"114\": 8, \"39\": 1, \"98\": 1, \"128\": 3}, \"89\": {\"89\": 16, \"31\": 1, \"21\": 1, \"92\": 5, \"90\": 2, \"66\": 2, \"63\": 2, \"69\": 2, \"33\": 1, \"87\": 1, \"64\": 2, \"26\": 1}, \"12\": {\"12\": 18, \"21\": 3, \"127\": 5, \"8\": 1, \"0\": 1}, \"36\": {\"36\": 32, \"21\": 1, \"27\": 5, \"49\": 1, \"24\": 2, \"108\": 1}, \"31\": {\"31\": 16, \"89\": 2, \"6\": 1, \"27\": 1}, \"98\": {\"98\": 46, \"128\": 1, \"91\": 5}, \"32\": {\"1\": 4, \"60\": 1, \"32\": 12, \"40\": 6, \"19\": 3, \"62\": 4, \"93\": 1, \"95\": 1, \"53\": 1, \"34\": 1, \"107\": 1, \"14\": 1}, \"41\": {\"41\": 11, \"29\": 2, \"107\": 1, \"54\": 1, \"77\": 1, \"51\": 1, \"98\": 3}, \"75\": {\"75\": 8, \"15\": 2, \"88\": 1, \"9\": 2, \"78\": 1, \"24\": 1, \"49\": 1}, \"0\": {\"97\": 4, \"101\": 3, \"81\": 1, \"0\": 28, \"12\": 2, \"57\": 1, \"30\": 1}, \"19\": {\"19\": 23, \"100\": 2, \"44\": 1, \"73\": 1, \"7\": 1}, \"86\": {\"86\": 27, \"17\": 4, \"123\": 1}, \"24\": {\"24\": 21, \"21\": 1, \"94\": 1, \"27\": 3, \"36\": 5, \"88\": 1}, \"59\": {\"21\": 1, \"59\": 14, \"88\": 1}, \"55\": {\"92\": 1, \"55\": 14, \"76\": 1}, \"50\": {\"92\": 1, \"55\": 3, \"50\": 10, \"74\": 1, \"27\": 1}, \"125\": {\"125\": 34, \"121\": 1, \"51\": 1}, \"16\": {\"16\": 23, \"93\": 6, \"96\": 2, \"21\": 1}, \"54\": {\"54\": 19, \"107\": 1}, \"27\": {\"27\": 27, \"78\": 1, \"88\": 1, \"36\": 7, \"21\": 2, \"49\": 1, \"24\": 3}, \"81\": {\"81\": 22, \"6\": 2}, \"93\": {\"93\": 32, \"16\": 10, \"65\": 1, \"72\": 1}, \"121\": {\"120\": 1, \"121\": 26, \"2\": 2, \"36\": 1, \"81\": 1, \"117\": 1, \"57\": 1, \"102\": 1}, \"88\": {\"88\": 30, \"109\": 1, \"21\": 2, \"78\": 1, \"39\": 1, \"126\": 1, \"70\": 2, \"87\": 2}, \"68\": {\"68\": 9, \"54\": 1, \"103\": 1, \"51\": 2, \"27\": 1, \"114\": 1, \"34\": 1}, \"15\": {\"15\": 28, \"106\": 6, \"30\": 1, \"9\": 2, \"39\": 1, \"94\": 2}, \"6\": {\"6\": 24, \"25\": 3, \"98\": 1, \"9\": 2, \"107\": 1, \"36\": 1}, \"10\": {\"10\": 28, \"43\": 1, \"21\": 1, \"7\": 2, \"88\": 2}, \"129\": {\"129\": 20, \"46\": 1, \"42\": 1, \"123\": 1, \"85\": 5, \"73\": 1, \"124\": 2, \"25\": 1}, \"67\": {\"64\": 4, \"102\": 1, \"66\": 1, \"21\": 1, \"88\": 2, \"67\": 4, \"70\": 1, \"25\": 1, \"55\": 1}, \"102\": {\"102\": 40}, \"80\": {\"80\": 8, \"90\": 1, \"102\": 5, \"117\": 1, \"119\": 1}, \"78\": {\"78\": 33, \"109\": 6, \"39\": 1, \"70\": 4}, \"92\": {\"92\": 12, \"89\": 8, \"76\": 1, \"64\": 1, \"33\": 1, \"78\": 1, \"63\": 1, \"50\": 1, \"31\": 1, \"18\": 1}, \"99\": {\"99\": 24, \"72\": 1, \"20\": 3, \"88\": 1, \"119\": 2, \"70\": 1}, \"2\": {\"2\": 13, \"99\": 2, \"48\": 1, \"13\": 2, \"121\": 8, \"6\": 1, \"119\": 1, \"117\": 2, \"120\": 2}, \"101\": {\"101\": 39, \"12\": 1}, \"82\": {\"82\": 26, \"90\": 3, \"28\": 1, \"72\": 1, \"45\": 1, \"116\": 1, \"89\": 1, \"37\": 1, \"87\": 1}, \"37\": {\"33\": 1, \"31\": 1, \"89\": 2, \"37\": 5, \"55\": 1, \"69\": 1, \"70\": 1, \"82\": 3, \"102\": 1}, \"109\": {\"109\": 23, \"21\": 2, \"70\": 4, \"78\": 1, \"117\": 1, \"39\": 3}, \"103\": {\"59\": 2, \"103\": 9, \"52\": 2, \"51\": 1, \"98\": 1, \"68\": 1}, \"33\": {\"33\": 33, \"88\": 1}, \"44\": {\"44\": 33, \"100\": 1}, \"118\": {\"118\": 36, \"21\": 2, \"88\": 1, \"90\": 1, \"66\": 1, \"62\": 1}, \"48\": {\"48\": 14, \"81\": 1, \"116\": 1, \"13\": 3, \"102\": 1}, \"87\": {\"87\": 33, \"43\": 4, \"21\": 4, \"88\": 1, \"96\": 1, \"14\": 1}, \"112\": {\"129\": 2, \"123\": 1, \"112\": 5, \"103\": 1, \"59\": 2, \"34\": 1, \"98\": 3, \"114\": 1}, \"111\": {\"111\": 26}, \"63\": {\"22\": 1, \"92\": 1, \"63\": 17, \"49\": 1}, \"22\": {\"22\": 12, \"92\": 2, \"89\": 3, \"104\": 2, \"50\": 1}, \"25\": {\"25\": 10, \"120\": 1, \"88\": 1, \"6\": 2, \"27\": 1, \"21\": 1}, \"51\": {\"51\": 8, \"97\": 2, \"75\": 3, \"9\": 3, \"0\": 1, \"15\": 1, \"45\": 1, \"106\": 1}, \"72\": {\"72\": 21, \"21\": 1, \"6\": 1, \"16\": 1, \"26\": 2, \"69\": 1, \"88\": 1}, \"53\": {\"53\": 16}, \"30\": {\"30\": 35, \"0\": 3, \"79\": 1, \"15\": 1}, \"107\": {\"21\": 3, \"107\": 14, \"88\": 3, \"40\": 9, \"56\": 1, \"84\": 4, \"32\": 3, \"27\": 1, \"3\": 1, \"24\": 1}, \"105\": {\"105\": 38, \"118\": 1, \"21\": 1}, \"65\": {\"65\": 14, \"117\": 5, \"17\": 1}, \"95\": {\"95\": 31, \"105\": 3, \"62\": 2}, \"113\": {\"113\": 29, \"88\": 2, \"21\": 2, \"26\": 5, \"18\": 1, \"27\": 1}, \"52\": {\"52\": 11, \"27\": 1, \"47\": 2, \"77\": 2, \"112\": 1, \"103\": 1, \"8\": 1, \"98\": 1}, \"18\": {\"18\": 36, \"26\": 7, \"87\": 1}, \"35\": {\"7\": 2, \"35\": 7, \"61\": 1, \"69\": 1, \"95\": 1}, \"96\": {\"93\": 3, \"96\": 12, \"16\": 3, \"72\": 1, \"60\": 1}, \"8\": {\"8\": 36, \"27\": 1, \"122\": 1, \"11\": 2}, \"14\": {\"14\": 18, \"21\": 3, \"19\": 1, \"88\": 2, \"34\": 2, \"84\": 5, \"1\": 1, \"3\": 4}, \"62\": {\"62\": 42}, \"79\": {\"79\": 15, \"103\": 1}, \"115\": {\"115\": 8, \"25\": 1, \"4\": 3}, \"45\": {\"37\": 2, \"45\": 8, \"100\": 1, \"43\": 1, \"21\": 1, \"103\": 1, \"28\": 1, \"83\": 1}, \"119\": {\"119\": 15, \"13\": 1, \"90\": 2, \"116\": 1, \"102\": 1}, \"39\": {\"70\": 1, \"39\": 22, \"109\": 7, \"21\": 1, \"87\": 1}, \"11\": {\"88\": 1, \"11\": 23, \"8\": 6, \"15\": 1, \"122\": 1}, \"13\": {\"13\": 9, \"48\": 2, \"0\": 1, \"80\": 1, \"42\": 1, \"102\": 1, \"21\": 1}, \"128\": {\"77\": 1, \"53\": 3, \"101\": 3, \"128\": 11, \"1\": 1, \"3\": 1, \"114\": 1, \"0\": 1, \"34\": 1, \"49\": 1}, \"124\": {\"124\": 31, \"85\": 2, \"42\": 1, \"129\": 2, \"59\": 1, \"25\": 1}, \"77\": {\"77\": 14, \"49\": 1, \"29\": 1}, \"83\": {\"100\": 2, \"83\": 21, \"44\": 3}, \"57\": {\"0\": 1, \"82\": 1, \"57\": 11, \"81\": 2, \"90\": 2, \"121\": 1, \"102\": 1, \"49\": 1}, \"69\": {\"69\": 32, \"26\": 2, \"33\": 3, \"18\": 1}, \"91\": {\"91\": 14, \"66\": 1, \"111\": 1, \"98\": 5, \"85\": 1, \"114\": 1, \"1\": 1}, \"42\": {\"21\": 1, \"24\": 1, \"42\": 9, \"52\": 1, \"124\": 9, \"129\": 1, \"85\": 2, \"87\": 1, \"88\": 1, \"5\": 1, \"107\": 1}, \"20\": {\"20\": 15, \"93\": 1}, \"9\": {\"9\": 30}}, \"Wisig_4\": {\"0\": {\"101\": 13, \"0\": 24, \"21\": 1}, \"48\": {\"48\": 15, \"57\": 1}, \"91\": {\"91\": 11, \"49\": 1, \"114\": 2, \"68\": 3, \"3\": 2, \"41\": 1, \"103\": 1, \"98\": 1, \"1\": 1, \"19\": 1}, \"49\": {\"20\": 3, \"49\": 11, \"8\": 2, \"60\": 1, \"3\": 2, \"46\": 2, \"5\": 1, \"106\": 2, \"53\": 2, \"52\": 1, \"114\": 1}, \"74\": {\"120\": 2, \"74\": 9, \"96\": 1, \"28\": 2, \"90\": 1, \"99\": 1}, \"57\": {\"57\": 9, \"115\": 2, \"90\": 1, \"64\": 1, \"70\": 2, \"97\": 1}, \"112\": {\"112\": 10, \"42\": 2, \"67\": 1, \"73\": 2, \"123\": 1}, \"106\": {\"78\": 1, \"106\": 20, \"8\": 12, \"88\": 1}, \"4\": {\"4\": 39, \"86\": 2, \"21\": 1}, \"81\": {\"81\": 24, \"18\": 4, \"121\": 2, \"26\": 2, \"21\": 1, \"78\": 1}, \"12\": {\"12\": 32, \"92\": 1, \"10\": 1, \"106\": 1, \"8\": 3, \"110\": 2}, \"82\": {\"82\": 30, \"40\": 1, \"89\": 1}, \"17\": {\"17\": 15, \"104\": 4, \"31\": 1}, \"55\": {\"55\": 16}, \"58\": {\"58\": 16}, \"93\": {\"93\": 36, \"11\": 1, \"5\": 1, \"110\": 1, \"49\": 1}, \"50\": {\"50\": 13, \"28\": 1, \"115\": 2}, \"6\": {\"54\": 1, \"6\": 15, \"36\": 1, \"25\": 1, \"111\": 3, \"34\": 1, \"9\": 2}, \"90\": {\"90\": 38, \"45\": 2}, \"99\": {\"84\": 3, \"99\": 32, \"14\": 1, \"76\": 1, \"107\": 1}, \"24\": {\"24\": 28, \"88\": 1, \"36\": 8, \"108\": 1, \"97\": 2, \"10\": 2}, \"77\": {\"77\": 12}, \"41\": {\"77\": 2, \"53\": 1, \"41\": 10, \"91\": 1, \"1\": 1, \"117\": 1}, \"120\": {\"120\": 12, \"115\": 2, \"32\": 3, \"33\": 2, \"45\": 1}, \"27\": {\"27\": 34, \"21\": 1, \"70\": 2, \"108\": 1}, \"53\": {\"53\": 11, \"52\": 3, \"114\": 2}, \"101\": {\"101\": 35, \"21\": 1, \"0\": 1, \"7\": 1}, \"28\": {\"28\": 16, \"50\": 1, \"45\": 1, \"38\": 1, \"74\": 1}, \"38\": {\"38\": 15, \"74\": 1}, \"42\": {\"42\": 14, \"112\": 3, \"73\": 2, \"79\": 3, \"124\": 3, \"111\": 1, \"9\": 1, \"83\": 1}, \"96\": {\"96\": 15, \"99\": 2, \"23\": 1, \"122\": 1, \"84\": 1}, \"34\": {\"49\": 2, \"47\": 1, \"75\": 1, \"72\": 6, \"34\": 11, \"100\": 1, \"60\": 1, \"14\": 4, \"128\": 1, \"101\": 1, \"15\": 1, \"58\": 1, \"71\": 1}, \"44\": {\"44\": 32, \"33\": 6}, \"113\": {\"113\": 36, \"27\": 1, \"26\": 1, \"21\": 1, \"96\": 1}, \"54\": {\"54\": 15, \"25\": 1}, \"84\": {\"84\": 36, \"81\": 2, \"69\": 2, \"96\": 2, \"99\": 2, \"16\": 4}, \"66\": {\"66\": 12, \"74\": 1, \"121\": 1, \"20\": 1, \"90\": 1}, \"21\": {\"21\": 35, \"78\": 4, \"126\": 1}, \"127\": {\"127\": 37, \"71\": 1, \"101\": 2}, \"62\": {\"82\": 2, \"62\": 26, \"69\": 2, \"88\": 2, \"21\": 2, \"78\": 2, \"118\": 5, \"40\": 1, \"76\": 1, \"16\": 1}, \"67\": {\"17\": 1, \"48\": 1, \"67\": 2, \"117\": 3, \"63\": 2, \"2\": 2, \"104\": 2, \"37\": 1, \"123\": 1, \"64\": 1}, \"11\": {\"11\": 26, \"93\": 7, \"49\": 3}, \"19\": {\"19\": 8, \"49\": 2, \"52\": 1, \"100\": 2, \"5\": 5, \"128\": 1, \"129\": 1, \"46\": 2, \"8\": 2, \"114\": 1, \"119\": 1, \"98\": 1, \"3\": 1}, \"111\": {\"111\": 25, \"10\": 1, \"124\": 6}, \"32\": {\"32\": 19, \"84\": 2, \"107\": 3, \"69\": 1, \"33\": 2, \"72\": 1}, \"16\": {\"16\": 36, \"21\": 1, \"18\": 1, \"84\": 1, \"78\": 1}, \"20\": {\"20\": 13, \"74\": 1, \"49\": 1, \"91\": 1}, \"86\": {\"86\": 25, \"21\": 2, \"37\": 1}, \"76\": {\"76\": 15, \"99\": 1}, \"8\": {\"8\": 28, \"106\": 9, \"15\": 2, \"12\": 1}, \"10\": {\"97\": 3, \"10\": 28, \"108\": 1, \"88\": 1, \"27\": 1, \"70\": 3, \"24\": 3, \"36\": 2}, \"119\": {\"119\": 15, \"73\": 1}, \"78\": {\"78\": 16, \"21\": 6, \"27\": 1, \"88\": 8, \"126\": 1}, \"97\": {\"97\": 11, \"24\": 3, \"70\": 1, \"88\": 1, \"10\": 3, \"36\": 1}, \"128\": {\"19\": 2, \"49\": 1, \"100\": 4, \"95\": 1, \"107\": 3, \"128\": 6, \"91\": 2, \"3\": 1, \"33\": 1, \"46\": 1, \"44\": 1, \"1\": 1}, \"39\": {\"39\": 22, \"126\": 6}, \"1\": {\"21\": 2, \"49\": 1, \"3\": 7, \"1\": 13, \"114\": 3, \"71\": 3, \"6\": 1}, \"95\": {\"34\": 1, \"127\": 2, \"95\": 22, \"71\": 2, \"105\": 2, \"114\": 2, \"78\": 1}, \"47\": {\"47\": 11, \"77\": 1}, \"45\": {\"45\": 12, \"90\": 1, \"120\": 2, \"32\": 1}, \"110\": {\"110\": 34, \"36\": 1, \"93\": 2, \"25\": 1}, \"89\": {\"32\": 1, \"56\": 1, \"107\": 2, \"89\": 23, \"29\": 1, \"99\": 2, \"40\": 1, \"48\": 1}, \"60\": {\"60\": 20, \"110\": 3, \"99\": 2, \"11\": 1, \"12\": 2, \"71\": 1, \"1\": 1, \"96\": 2}, \"73\": {\"59\": 1, \"73\": 13, \"19\": 1, \"129\": 5, \"46\": 1, \"20\": 1, \"124\": 2}, \"102\": {\"102\": 34, \"90\": 1, \"33\": 1, \"57\": 2}, \"75\": {\"75\": 15, \"47\": 1}, \"18\": {\"18\": 34, \"78\": 1, \"70\": 1}, \"52\": {\"100\": 1, \"52\": 9, \"98\": 1, \"51\": 1, \"41\": 2, \"128\": 2, \"53\": 2, \"91\": 1, \"85\": 1}, \"65\": {\"65\": 12}, \"23\": {\"21\": 4, \"12\": 3, \"23\": 1, \"20\": 1, \"78\": 1, \"30\": 1, \"113\": 1, \"34\": 1, \"88\": 2, \"60\": 1}, \"59\": {\"59\": 10, \"73\": 2}, \"30\": {\"23\": 1, \"21\": 3, \"30\": 25, \"15\": 8, \"94\": 1, \"10\": 1, \"12\": 1}, \"124\": {\"124\": 28, \"73\": 3, \"42\": 5, \"112\": 2, \"19\": 1, \"129\": 1}, \"121\": {\"121\": 25, \"81\": 1, \"44\": 1, \"33\": 1, \"57\": 2}, \"116\": {\"102\": 7, \"116\": 14, \"50\": 1, \"13\": 1, \"45\": 1, \"37\": 1, \"66\": 1}, \"109\": {\"109\": 32, \"122\": 1, \"113\": 1}, \"15\": {\"15\": 33, \"51\": 1, \"8\": 3, \"30\": 2, \"94\": 1}, \"7\": {\"7\": 25, \"87\": 3, \"127\": 1, \"101\": 1}, \"100\": {\"100\": 6, \"128\": 2, \"91\": 1, \"5\": 4, \"48\": 1, \"49\": 3, \"25\": 1, \"46\": 1, \"72\": 1}, \"36\": {\"97\": 3, \"36\": 29, \"27\": 1, \"30\": 1}, \"94\": {\"30\": 6, \"94\": 29, \"88\": 2, \"15\": 5}, \"87\": {\"110\": 1, \"87\": 21, \"122\": 4, \"7\": 1, \"21\": 1}, \"40\": {\"40\": 24, \"107\": 5, \"99\": 1, \"105\": 5, \"21\": 1}, \"56\": {\"95\": 1, \"86\": 1, \"56\": 6, \"55\": 3, \"37\": 1}, \"29\": {\"29\": 32}, \"51\": {\"27\": 1, \"12\": 6, \"24\": 1, \"127\": 2, \"51\": 2, \"34\": 1, \"41\": 1, \"97\": 1, \"98\": 1}, \"3\": {\"3\": 19, \"52\": 1, \"114\": 11, \"128\": 1, \"78\": 1, \"1\": 6, \"96\": 1, \"71\": 2}, \"129\": {\"129\": 15, \"73\": 1, \"124\": 4, \"42\": 2, \"100\": 3, \"119\": 3}, \"2\": {\"117\": 7, \"2\": 12, \"61\": 1, \"73\": 1, \"129\": 1, \"45\": 1, \"13\": 1, \"67\": 2, \"28\": 1, \"38\": 1}, \"5\": {\"20\": 1, \"5\": 33, \"19\": 1, \"78\": 1, \"46\": 2, \"93\": 1, \"3\": 1}, \"9\": {\"9\": 23, \"8\": 1, \"100\": 2, \"42\": 2}, \"115\": {\"102\": 4, \"50\": 1, \"120\": 3, \"115\": 5, \"4\": 1, \"116\": 2}, \"92\": {\"64\": 5, \"92\": 11, \"121\": 4, \"57\": 1, \"22\": 1, \"84\": 1, \"66\": 1, \"90\": 2}, \"13\": {\"13\": 13, \"48\": 1, \"63\": 2}, \"22\": {\"92\": 2, \"22\": 11, \"31\": 3}, \"72\": {\"72\": 23, \"92\": 1, \"14\": 4, \"122\": 2, \"22\": 1, \"69\": 1}, \"117\": {\"2\": 3, \"117\": 28, \"121\": 4, \"63\": 1}, \"25\": {\"6\": 1, \"25\": 14, \"54\": 1}, \"123\": {\"65\": 1, \"123\": 15}, \"85\": {\"85\": 24, \"71\": 1, \"1\": 1, \"95\": 2}, \"108\": {\"108\": 24, \"24\": 2, \"88\": 3, \"70\": 7, \"39\": 1, \"27\": 1, \"10\": 1, \"126\": 1}, \"64\": {\"64\": 15, \"92\": 1}, \"83\": {\"83\": 21, \"90\": 1, \"42\": 2, \"49\": 1, \"73\": 1, \"112\": 1, \"5\": 1}, \"37\": {\"37\": 11, \"120\": 1, \"10\": 1, \"30\": 1, \"50\": 2}, \"98\": {\"98\": 29, \"84\": 1}, \"103\": {\"103\": 13, \"53\": 3}, \"125\": {\"125\": 34}, \"88\": {\"21\": 1, \"88\": 19, \"108\": 6, \"10\": 5, \"70\": 3, \"24\": 1, \"78\": 1}, \"122\": {\"122\": 27, \"23\": 1, \"110\": 3, \"16\": 1, \"69\": 1, \"87\": 3, \"62\": 1, \"84\": 1, \"10\": 1, \"21\": 1}, \"61\": {\"61\": 8, \"81\": 2, \"117\": 1, \"67\": 2, \"2\": 1, \"63\": 2}, \"69\": {\"69\": 39, \"21\": 1, \"78\": 1, \"99\": 2, \"16\": 2, \"76\": 1}, \"104\": {\"104\": 12, \"31\": 1, \"17\": 2, \"55\": 1}, \"70\": {\"88\": 2, \"70\": 19, \"23\": 2, \"108\": 10, \"126\": 1, \"10\": 5, \"27\": 1}, \"68\": {\"68\": 15, \"58\": 1}, \"46\": {\"46\": 16, \"100\": 1, \"103\": 1, \"5\": 2}, \"107\": {\"107\": 30, \"40\": 2}, \"26\": {\"26\": 40}, \"33\": {\"33\": 37, \"84\": 1, \"21\": 1, \"88\": 1, \"44\": 2}, \"35\": {\"18\": 1, \"26\": 1, \"35\": 6, \"121\": 1, \"113\": 1, \"21\": 1, \"90\": 1}, \"118\": {\"118\": 29, \"69\": 1, \"62\": 5, \"78\": 1, \"21\": 1, \"88\": 1}, \"80\": {\"80\": 14, \"6\": 1, \"123\": 1}, \"105\": {\"69\": 1, \"72\": 2, \"105\": 23, \"40\": 6, \"21\": 1, \"107\": 1, \"14\": 2}, \"71\": {\"71\": 33, \"95\": 1, \"114\": 3, \"21\": 1, \"85\": 2}, \"43\": {\"118\": 2, \"110\": 2, \"43\": 18, \"122\": 5, \"12\": 1}, \"63\": {\"63\": 13, \"117\": 3}, \"31\": {\"31\": 13, \"22\": 1, \"32\": 1, \"38\": 1}, \"114\": {\"114\": 23, \"1\": 4, \"71\": 2, \"49\": 1, \"3\": 6}, \"14\": {\"14\": 30}, \"79\": {\"79\": 13, \"42\": 1, \"80\": 2}, \"126\": {\"126\": 24, \"39\": 2}}}, \"per_domain_accuracy\": {\"CORES_4\": {\"accuracy\": 0.9978448275862069, \"source?\": true}, \"CORES_5\": {\"accuracy\": 0.9974137931034482, \"source?\": true}, \"CORES_2\": {\"accuracy\": 0.9982758620689656, \"source?\": true}, \"CORES_1\": {\"accuracy\": 0.9978448275862069, \"source?\": true}, \"CORES_3\": {\"accuracy\": 0.9989224137931034, \"source?\": true}, \"Wisig_3\": {\"accuracy\": 0.8033405172413793, \"source?\": false}, \"Wisig_1\": {\"accuracy\": 0.8041487068965517, \"source?\": false}, \"Wisig_2\": {\"accuracy\": 0.7345872518286312, \"source?\": false}, \"Wisig_4\": {\"accuracy\": 0.7341490545050056, \"source?\": false}}}, \"history\": {\"epoch_indices\": [1, 2, 3], \"train_label_loss\": [0.3403358863894841, 0.022586128215253767, 0.02072872291882907], \"source_val_label_loss\": [0.028952782973647118, 0.00809486024081707, 0.008141863159835339], \"target_val_label_loss\": [2.1005752086639404, 2.9709787368774414, 3.6835834980010986], \"source_val_acc_label\": [0.9964080459770115, 0.9980244252873564, 0.9974856321839081], \"target_val_acc_label\": [0.7365301724137931, 0.7690598060344828, 0.7620554956896551]}, \"dataset_metrics\": {\"source\": {\"train\": {\"n_unique_x\": 75777, \"n_unique_y\": 58, \"n_batch/episode\": 351}, \"val\": {\"n_unique_x\": 11845, \"n_unique_y\": 58, \"n_batch/episode\": 48}, \"test\": {\"n_unique_x\": 12318, \"n_unique_y\": 58, \"n_batch/episode\": 50}}, \"target\": {\"train\": {\"n_unique_x\": 139984, \"n_unique_y\": 130, \"n_batch/episode\": 905}, \"val\": {\"n_unique_x\": 25956, \"n_unique_y\": 130, \"n_batch/episode\": 128}, \"test\": {\"n_unique_x\": 26910, \"n_unique_y\": 130, \"n_batch/episode\": 134}}}}'"
      ]
     },
     "execution_count": 29,
     "metadata": {},
     "output_type": "execute_result"
    }
   ],
   "source": [
    "json.dumps(experiment)"
   ]
  }
 ],
 "metadata": {
  "celltoolbar": "Tags",
  "kernelspec": {
   "display_name": "Python 3 (ipykernel)",
   "language": "python",
   "name": "python3"
  },
  "language_info": {
   "codemirror_mode": {
    "name": "ipython",
    "version": 3
   },
   "file_extension": ".py",
   "mimetype": "text/x-python",
   "name": "python",
   "nbconvert_exporter": "python",
   "pygments_lexer": "ipython3",
   "version": "3.8.12"
  },
  "papermill": {
   "default_parameters": {},
   "duration": 205.922306,
   "end_time": "2022-03-21T04:11:24.574838",
   "environment_variables": {},
   "exception": null,
   "input_path": "/root/csc500-main/csc500-notebooks/templates/tl_ptn_template.ipynb",
   "output_path": "trial.ipynb",
   "parameters": {
    "parameters": {
     "BEST_MODEL_PATH": "./best_model.pth",
     "NUM_LOGS_PER_EPOCH": 10,
     "criteria_for_best": "target_accuracy",
     "dataset_seed": 500,
     "datasets": [
      {
       "domain_prefix": "CORES_",
       "domains": [
        1,
        2,
        3,
        4,
        5
       ],
       "episode_transforms": [],
       "labels": [
        "1-10.",
        "1-11.",
        "1-15.",
        "1-16.",
        "1-17.",
        "1-18.",
        "1-19.",
        "10-4.",
        "10-7.",
        "11-1.",
        "11-14.",
        "11-17.",
        "11-20.",
        "11-7.",
        "13-20.",
        "13-8.",
        "14-10.",
        "14-11.",
        "14-14.",
        "14-7.",
        "15-1.",
        "15-20.",
        "16-1.",
        "16-16.",
        "17-10.",
        "17-11.",
        "17-2.",
        "19-1.",
        "19-16.",
        "19-19.",
        "19-20.",
        "19-3.",
        "2-10.",
        "2-11.",
        "2-17.",
        "2-18.",
        "2-20.",
        "2-3.",
        "2-4.",
        "2-5.",
        "2-6.",
        "2-7.",
        "2-8.",
        "3-13.",
        "3-18.",
        "3-3.",
        "4-1.",
        "4-10.",
        "4-11.",
        "4-19.",
        "5-5.",
        "6-15.",
        "7-10.",
        "7-14.",
        "8-18.",
        "8-20.",
        "8-3.",
        "8-8."
       ],
       "num_examples_per_domain_per_label": -1,
       "pickle_path": "/root/csc500-main/datasets/cores.stratified_ds.2022A.pkl",
       "source_or_target_dataset": "source",
       "x_transforms": []
      },
      {
       "domain_prefix": "Wisig_",
       "domains": [
        1,
        2,
        3,
        4
       ],
       "episode_transforms": [],
       "labels": [
        "1-10",
        "1-12",
        "1-14",
        "1-16",
        "1-18",
        "1-19",
        "1-8",
        "10-11",
        "10-17",
        "10-4",
        "10-7",
        "11-1",
        "11-10",
        "11-19",
        "11-20",
        "11-4",
        "11-7",
        "12-19",
        "12-20",
        "12-7",
        "13-14",
        "13-18",
        "13-19",
        "13-20",
        "13-3",
        "13-7",
        "14-10",
        "14-11",
        "14-12",
        "14-13",
        "14-14",
        "14-19",
        "14-20",
        "14-7",
        "14-8",
        "14-9",
        "15-1",
        "15-19",
        "15-6",
        "16-1",
        "16-16",
        "16-19",
        "16-20",
        "17-10",
        "17-11",
        "18-1",
        "18-10",
        "18-11",
        "18-12",
        "18-13",
        "18-14",
        "18-15",
        "18-16",
        "18-17",
        "18-19",
        "18-2",
        "18-20",
        "18-4",
        "18-5",
        "18-7",
        "18-8",
        "18-9",
        "19-1",
        "19-10",
        "19-11",
        "19-12",
        "19-13",
        "19-14",
        "19-15",
        "19-19",
        "19-2",
        "19-20",
        "19-3",
        "19-4",
        "19-6",
        "19-7",
        "19-8",
        "19-9",
        "2-1",
        "2-13",
        "2-15",
        "2-3",
        "2-4",
        "2-5",
        "2-6",
        "2-7",
        "2-8",
        "20-1",
        "20-12",
        "20-14",
        "20-15",
        "20-16",
        "20-18",
        "20-19",
        "20-20",
        "20-3",
        "20-4",
        "20-5",
        "20-7",
        "20-8",
        "3-1",
        "3-13",
        "3-18",
        "3-2",
        "3-8",
        "4-1",
        "4-10",
        "4-11",
        "5-1",
        "5-5",
        "6-1",
        "6-15",
        "6-6",
        "7-10",
        "7-11",
        "7-12",
        "7-13",
        "7-14",
        "7-7",
        "7-8",
        "7-9",
        "8-1",
        "8-13",
        "8-14",
        "8-18",
        "8-20",
        "8-3",
        "8-8",
        "9-1",
        "9-7"
       ],
       "num_examples_per_domain_per_label": -1,
       "pickle_path": "/root/csc500-main/datasets/wisig.node3-19.stratified_ds.2022A.pkl",
       "source_or_target_dataset": "target",
       "x_transforms": []
      }
     ],
     "device": "cuda",
     "experiment_name": "tl_1v2:cores-wisig",
     "lr": 0.0001,
     "n_epoch": 3,
     "n_query": 2,
     "n_shot": 3,
     "n_way": 58,
     "patience": 3,
     "seed": 500,
     "test_k_factor": 2,
     "torch_default_dtype": "torch.float32",
     "train_k_factor": 3,
     "val_k_factor": 2,
     "x_net": [
      {
       "class": "nnReshape",
       "kargs": {
        "shape": [
         -1,
         1,
         2,
         256
        ]
       }
      },
      {
       "class": "Conv2d",
       "kargs": {
        "bias": false,
        "in_channels": 1,
        "kernel_size": [
         1,
         7
        ],
        "out_channels": 256,
        "padding": [
         0,
         3
        ]
       }
      },
      {
       "class": "ReLU",
       "kargs": {
        "inplace": true
       }
      },
      {
       "class": "BatchNorm2d",
       "kargs": {
        "num_features": 256
       }
      },
      {
       "class": "Conv2d",
       "kargs": {
        "bias": true,
        "in_channels": 256,
        "kernel_size": [
         2,
         7
        ],
        "out_channels": 80,
        "padding": [
         0,
         3
        ]
       }
      },
      {
       "class": "ReLU",
       "kargs": {
        "inplace": true
       }
      },
      {
       "class": "BatchNorm2d",
       "kargs": {
        "num_features": 80
       }
      },
      {
       "class": "Flatten",
       "kargs": {}
      },
      {
       "class": "Linear",
       "kargs": {
        "in_features": 20480,
        "out_features": 256
       }
      },
      {
       "class": "ReLU",
       "kargs": {
        "inplace": true
       }
      },
      {
       "class": "BatchNorm1d",
       "kargs": {
        "num_features": 256
       }
      },
      {
       "class": "Linear",
       "kargs": {
        "in_features": 256,
        "out_features": 256
       }
      }
     ]
    }
   },
   "start_time": "2022-03-21T04:07:58.652532",
   "version": "2.3.4"
  }
 },
 "nbformat": 4,
 "nbformat_minor": 5
}