{
 "cells": [
  {
   "cell_type": "markdown",
   "id": "9fea5f46",
   "metadata": {
    "papermill": {
     "duration": 0.03008,
     "end_time": "2022-03-21T02:37:58.726527",
     "exception": false,
     "start_time": "2022-03-21T02:37:58.696447",
     "status": "completed"
    },
    "tags": []
   },
   "source": [
    "# Transfer Learning Template"
   ]
  },
  {
   "cell_type": "code",
   "execution_count": 1,
   "id": "0902182a",
   "metadata": {
    "execution": {
     "iopub.execute_input": "2022-03-21T02:37:58.789213Z",
     "iopub.status.busy": "2022-03-21T02:37:58.788361Z",
     "iopub.status.idle": "2022-03-21T02:38:00.620073Z",
     "shell.execute_reply": "2022-03-21T02:38:00.619618Z"
    },
    "papermill": {
     "duration": 1.871159,
     "end_time": "2022-03-21T02:38:00.620177",
     "exception": false,
     "start_time": "2022-03-21T02:37:58.749018",
     "status": "completed"
    },
    "tags": []
   },
   "outputs": [],
   "source": [
    "%load_ext autoreload\n",
    "%autoreload 2\n",
    "%matplotlib inline\n",
    "\n",
    "    \n",
    "import os, json, sys, time, random\n",
    "import numpy as np\n",
    "import torch\n",
    "from torch.optim import Adam\n",
    "from  easydict import EasyDict\n",
    "import matplotlib.pyplot as plt\n",
    "\n",
    "from steves_models.steves_ptn import Steves_Prototypical_Network\n",
    "\n",
    "from steves_utils.lazy_iterable_wrapper import Lazy_Iterable_Wrapper\n",
    "from steves_utils.iterable_aggregator import Iterable_Aggregator\n",
    "from steves_utils.ptn_train_eval_test_jig import  PTN_Train_Eval_Test_Jig\n",
    "from steves_utils.torch_sequential_builder import build_sequential\n",
    "from steves_utils.torch_utils import get_dataset_metrics, ptn_confusion_by_domain_over_dataloader\n",
    "from steves_utils.utils_v2 import (per_domain_accuracy_from_confusion, get_datasets_base_path)\n",
    "from steves_utils.PTN.utils import independent_accuracy_assesment\n",
    "\n",
    "from torch.utils.data import DataLoader\n",
    "\n",
    "from steves_utils.stratified_dataset.episodic_accessor import Episodic_Accessor_Factory\n",
    "\n",
    "from steves_utils.ptn_do_report import (\n",
    "    get_loss_curve,\n",
    "    get_results_table,\n",
    "    get_parameters_table,\n",
    "    get_domain_accuracies,\n",
    ")\n",
    "\n",
    "from steves_utils.transforms import get_chained_transform"
   ]
  },
  {
   "cell_type": "markdown",
   "id": "41c840b4",
   "metadata": {
    "papermill": {
     "duration": 0.01945,
     "end_time": "2022-03-21T02:38:00.659993",
     "exception": false,
     "start_time": "2022-03-21T02:38:00.640543",
     "status": "completed"
    },
    "tags": []
   },
   "source": [
    "# Allowed Parameters\n",
    "These are allowed parameters, not defaults\n",
    "Each of these values need to be present in the injected parameters (the notebook will raise an exception if they are not present)\n",
    "\n",
    "Papermill uses the cell tag \"parameters\" to inject the real parameters below this cell.\n",
    "Enable tags to see what I mean"
   ]
  },
  {
   "cell_type": "code",
   "execution_count": 2,
   "id": "fd44eb83",
   "metadata": {
    "execution": {
     "iopub.execute_input": "2022-03-21T02:38:00.702877Z",
     "iopub.status.busy": "2022-03-21T02:38:00.702496Z",
     "iopub.status.idle": "2022-03-21T02:38:00.721534Z",
     "shell.execute_reply": "2022-03-21T02:38:00.721167Z"
    },
    "papermill": {
     "duration": 0.041888,
     "end_time": "2022-03-21T02:38:00.721604",
     "exception": false,
     "start_time": "2022-03-21T02:38:00.679716",
     "status": "completed"
    },
    "tags": []
   },
   "outputs": [],
   "source": [
    "required_parameters = {\n",
    "    \"experiment_name\",\n",
    "    \"lr\",\n",
    "    \"device\",\n",
    "    \"seed\",\n",
    "    \"dataset_seed\",\n",
    "    \"n_shot\",\n",
    "    \"n_query\",\n",
    "    \"n_way\",\n",
    "    \"train_k_factor\",\n",
    "    \"val_k_factor\",\n",
    "    \"test_k_factor\",\n",
    "    \"n_epoch\",\n",
    "    \"patience\",\n",
    "    \"criteria_for_best\",\n",
    "    \"x_net\",\n",
    "    \"datasets\",\n",
    "    \"torch_default_dtype\",\n",
    "    \"NUM_LOGS_PER_EPOCH\",\n",
    "    \"BEST_MODEL_PATH\",\n",
    "    \"x_shape\",\n",
    "}"
   ]
  },
  {
   "cell_type": "code",
   "execution_count": 3,
   "id": "fa3f0049",
   "metadata": {
    "execution": {
     "iopub.execute_input": "2022-03-21T02:38:00.770395Z",
     "iopub.status.busy": "2022-03-21T02:38:00.769983Z",
     "iopub.status.idle": "2022-03-21T02:38:00.791251Z",
     "shell.execute_reply": "2022-03-21T02:38:00.790882Z"
    },
    "papermill": {
     "duration": 0.049906,
     "end_time": "2022-03-21T02:38:00.791321",
     "exception": false,
     "start_time": "2022-03-21T02:38:00.741415",
     "status": "completed"
    },
    "tags": [
     "parameters"
    ]
   },
   "outputs": [],
   "source": [
    "from steves_utils.CORES.utils import (\n",
    "    ALL_NODES,\n",
    "    ALL_NODES_MINIMUM_1000_EXAMPLES,\n",
    "    ALL_DAYS\n",
    ")\n",
    "\n",
    "from steves_utils.ORACLE.utils_v2 import (\n",
    "    ALL_DISTANCES_FEET_NARROWED,\n",
    "    ALL_RUNS,\n",
    "    ALL_SERIAL_NUMBERS,\n",
    ")\n",
    "\n",
    "standalone_parameters = {}\n",
    "standalone_parameters[\"experiment_name\"] = \"STANDALONE PTN\"\n",
    "standalone_parameters[\"lr\"] = 0.001\n",
    "standalone_parameters[\"device\"] = \"cuda\"\n",
    "\n",
    "standalone_parameters[\"seed\"] = 1337\n",
    "standalone_parameters[\"dataset_seed\"] = 1337\n",
    "\n",
    "standalone_parameters[\"n_way\"] = 8\n",
    "standalone_parameters[\"n_shot\"] = 3\n",
    "standalone_parameters[\"n_query\"]  = 2\n",
    "standalone_parameters[\"train_k_factor\"] = 1\n",
    "standalone_parameters[\"val_k_factor\"] = 2\n",
    "standalone_parameters[\"test_k_factor\"] = 2\n",
    "\n",
    "\n",
    "standalone_parameters[\"n_epoch\"] = 50\n",
    "\n",
    "standalone_parameters[\"patience\"] = 10\n",
    "standalone_parameters[\"criteria_for_best\"] = \"source_loss\"\n",
    "\n",
    "standalone_parameters[\"datasets\"] = [\n",
    "    {\n",
    "        \"labels\": ALL_SERIAL_NUMBERS,\n",
    "        \"domains\": ALL_DISTANCES_FEET_NARROWED,\n",
    "        \"num_examples_per_domain_per_label\": 100,\n",
    "        \"pickle_path\": os.path.join(get_datasets_base_path(), \"oracle.Run1_framed_2000Examples_stratified_ds.2022A.pkl\"),\n",
    "        \"source_or_target_dataset\": \"source\",\n",
    "        \"x_transforms\": [\"unit_mag\", \"minus_two\"],\n",
    "        \"episode_transforms\": [],\n",
    "        \"domain_prefix\": \"ORACLE_\"\n",
    "    },\n",
    "    {\n",
    "        \"labels\": ALL_NODES,\n",
    "        \"domains\": ALL_DAYS,\n",
    "        \"num_examples_per_domain_per_label\": 100,\n",
    "        \"pickle_path\": os.path.join(get_datasets_base_path(), \"cores.stratified_ds.2022A.pkl\"),\n",
    "        \"source_or_target_dataset\": \"target\",\n",
    "        \"x_transforms\": [\"unit_power\", \"times_zero\"],\n",
    "        \"episode_transforms\": [],\n",
    "        \"domain_prefix\": \"CORES_\"\n",
    "    }   \n",
    "]\n",
    "\n",
    "standalone_parameters[\"torch_default_dtype\"] = \"torch.float32\" \n",
    "\n",
    "\n",
    "\n",
    "standalone_parameters[\"x_net\"] =     [\n",
    "    {\"class\": \"nnReshape\", \"kargs\": {\"shape\":[-1, 1, 2, 256]}},\n",
    "    {\"class\": \"Conv2d\", \"kargs\": { \"in_channels\":1, \"out_channels\":256, \"kernel_size\":(1,7), \"bias\":False, \"padding\":(0,3), },},\n",
    "    {\"class\": \"ReLU\", \"kargs\": {\"inplace\": True}},\n",
    "    {\"class\": \"BatchNorm2d\", \"kargs\": {\"num_features\":256}},\n",
    "\n",
    "    {\"class\": \"Conv2d\", \"kargs\": { \"in_channels\":256, \"out_channels\":80, \"kernel_size\":(2,7), \"bias\":True, \"padding\":(0,3), },},\n",
    "    {\"class\": \"ReLU\", \"kargs\": {\"inplace\": True}},\n",
    "    {\"class\": \"BatchNorm2d\", \"kargs\": {\"num_features\":80}},\n",
    "    {\"class\": \"Flatten\", \"kargs\": {}},\n",
    "\n",
    "    {\"class\": \"Linear\", \"kargs\": {\"in_features\": 80*256, \"out_features\": 256}}, # 80 units per IQ pair\n",
    "    {\"class\": \"ReLU\", \"kargs\": {\"inplace\": True}},\n",
    "    {\"class\": \"BatchNorm1d\", \"kargs\": {\"num_features\":256}},\n",
    "\n",
    "    {\"class\": \"Linear\", \"kargs\": {\"in_features\": 256, \"out_features\": 256}},\n",
    "]\n",
    "\n",
    "# Parameters relevant to results\n",
    "# These parameters will basically never need to change\n",
    "standalone_parameters[\"NUM_LOGS_PER_EPOCH\"] = 10\n",
    "standalone_parameters[\"BEST_MODEL_PATH\"] = \"./best_model.pth\"\n",
    "\n",
    "\n",
    "\n",
    "\n"
   ]
  },
  {
   "cell_type": "code",
   "execution_count": 4,
   "id": "2226d5f2",
   "metadata": {
    "execution": {
     "iopub.execute_input": "2022-03-21T02:38:00.842902Z",
     "iopub.status.busy": "2022-03-21T02:38:00.842430Z",
     "iopub.status.idle": "2022-03-21T02:38:00.864554Z",
     "shell.execute_reply": "2022-03-21T02:38:00.864187Z"
    },
    "papermill": {
     "duration": 0.053527,
     "end_time": "2022-03-21T02:38:00.864623",
     "exception": false,
     "start_time": "2022-03-21T02:38:00.811096",
     "status": "completed"
    },
    "tags": [
     "injected-parameters"
    ]
   },
   "outputs": [],
   "source": [
    "# Parameters\n",
    "parameters = {\n",
    "    \"experiment_name\": \"tl_1v2:cores-wisig\",\n",
    "    \"device\": \"cuda\",\n",
    "    \"lr\": 0.0001,\n",
    "    \"n_shot\": 3,\n",
    "    \"n_query\": 2,\n",
    "    \"train_k_factor\": 3,\n",
    "    \"val_k_factor\": 2,\n",
    "    \"test_k_factor\": 2,\n",
    "    \"torch_default_dtype\": \"torch.float32\",\n",
    "    \"n_epoch\": 3,\n",
    "    \"patience\": 3,\n",
    "    \"criteria_for_best\": \"target_accuracy\",\n",
    "    \"x_net\": [\n",
    "        {\"class\": \"nnReshape\", \"kargs\": {\"shape\": [-1, 1, 2, 256]}},\n",
    "        {\n",
    "            \"class\": \"Conv2d\",\n",
    "            \"kargs\": {\n",
    "                \"in_channels\": 1,\n",
    "                \"out_channels\": 256,\n",
    "                \"kernel_size\": [1, 7],\n",
    "                \"bias\": False,\n",
    "                \"padding\": [0, 3],\n",
    "            },\n",
    "        },\n",
    "        {\"class\": \"ReLU\", \"kargs\": {\"inplace\": True}},\n",
    "        {\"class\": \"BatchNorm2d\", \"kargs\": {\"num_features\": 256}},\n",
    "        {\n",
    "            \"class\": \"Conv2d\",\n",
    "            \"kargs\": {\n",
    "                \"in_channels\": 256,\n",
    "                \"out_channels\": 80,\n",
    "                \"kernel_size\": [2, 7],\n",
    "                \"bias\": True,\n",
    "                \"padding\": [0, 3],\n",
    "            },\n",
    "        },\n",
    "        {\"class\": \"ReLU\", \"kargs\": {\"inplace\": True}},\n",
    "        {\"class\": \"BatchNorm2d\", \"kargs\": {\"num_features\": 80}},\n",
    "        {\"class\": \"Flatten\", \"kargs\": {}},\n",
    "        {\"class\": \"Linear\", \"kargs\": {\"in_features\": 20480, \"out_features\": 256}},\n",
    "        {\"class\": \"ReLU\", \"kargs\": {\"inplace\": True}},\n",
    "        {\"class\": \"BatchNorm1d\", \"kargs\": {\"num_features\": 256}},\n",
    "        {\"class\": \"Linear\", \"kargs\": {\"in_features\": 256, \"out_features\": 256}},\n",
    "    ],\n",
    "    \"NUM_LOGS_PER_EPOCH\": 10,\n",
    "    \"BEST_MODEL_PATH\": \"./best_model.pth\",\n",
    "    \"n_way\": 58,\n",
    "    \"datasets\": [\n",
    "        {\n",
    "            \"labels\": [\n",
    "                \"1-10.\",\n",
    "                \"1-11.\",\n",
    "                \"1-15.\",\n",
    "                \"1-16.\",\n",
    "                \"1-17.\",\n",
    "                \"1-18.\",\n",
    "                \"1-19.\",\n",
    "                \"10-4.\",\n",
    "                \"10-7.\",\n",
    "                \"11-1.\",\n",
    "                \"11-14.\",\n",
    "                \"11-17.\",\n",
    "                \"11-20.\",\n",
    "                \"11-7.\",\n",
    "                \"13-20.\",\n",
    "                \"13-8.\",\n",
    "                \"14-10.\",\n",
    "                \"14-11.\",\n",
    "                \"14-14.\",\n",
    "                \"14-7.\",\n",
    "                \"15-1.\",\n",
    "                \"15-20.\",\n",
    "                \"16-1.\",\n",
    "                \"16-16.\",\n",
    "                \"17-10.\",\n",
    "                \"17-11.\",\n",
    "                \"17-2.\",\n",
    "                \"19-1.\",\n",
    "                \"19-16.\",\n",
    "                \"19-19.\",\n",
    "                \"19-20.\",\n",
    "                \"19-3.\",\n",
    "                \"2-10.\",\n",
    "                \"2-11.\",\n",
    "                \"2-17.\",\n",
    "                \"2-18.\",\n",
    "                \"2-20.\",\n",
    "                \"2-3.\",\n",
    "                \"2-4.\",\n",
    "                \"2-5.\",\n",
    "                \"2-6.\",\n",
    "                \"2-7.\",\n",
    "                \"2-8.\",\n",
    "                \"3-13.\",\n",
    "                \"3-18.\",\n",
    "                \"3-3.\",\n",
    "                \"4-1.\",\n",
    "                \"4-10.\",\n",
    "                \"4-11.\",\n",
    "                \"4-19.\",\n",
    "                \"5-5.\",\n",
    "                \"6-15.\",\n",
    "                \"7-10.\",\n",
    "                \"7-14.\",\n",
    "                \"8-18.\",\n",
    "                \"8-20.\",\n",
    "                \"8-3.\",\n",
    "                \"8-8.\",\n",
    "            ],\n",
    "            \"domains\": [1, 2, 3, 4, 5],\n",
    "            \"num_examples_per_domain_per_label\": -1,\n",
    "            \"pickle_path\": \"/root/csc500-main/datasets/cores.stratified_ds.2022A.pkl\",\n",
    "            \"source_or_target_dataset\": \"source\",\n",
    "            \"x_transforms\": [],\n",
    "            \"episode_transforms\": [],\n",
    "            \"domain_prefix\": \"CORES_\",\n",
    "        },\n",
    "        {\n",
    "            \"labels\": [\n",
    "                \"1-10\",\n",
    "                \"1-12\",\n",
    "                \"1-14\",\n",
    "                \"1-16\",\n",
    "                \"1-18\",\n",
    "                \"1-19\",\n",
    "                \"1-8\",\n",
    "                \"10-11\",\n",
    "                \"10-17\",\n",
    "                \"10-4\",\n",
    "                \"10-7\",\n",
    "                \"11-1\",\n",
    "                \"11-10\",\n",
    "                \"11-19\",\n",
    "                \"11-20\",\n",
    "                \"11-4\",\n",
    "                \"11-7\",\n",
    "                \"12-19\",\n",
    "                \"12-20\",\n",
    "                \"12-7\",\n",
    "                \"13-14\",\n",
    "                \"13-18\",\n",
    "                \"13-19\",\n",
    "                \"13-20\",\n",
    "                \"13-3\",\n",
    "                \"13-7\",\n",
    "                \"14-10\",\n",
    "                \"14-11\",\n",
    "                \"14-12\",\n",
    "                \"14-13\",\n",
    "                \"14-14\",\n",
    "                \"14-19\",\n",
    "                \"14-20\",\n",
    "                \"14-7\",\n",
    "                \"14-8\",\n",
    "                \"14-9\",\n",
    "                \"15-1\",\n",
    "                \"15-19\",\n",
    "                \"15-6\",\n",
    "                \"16-1\",\n",
    "                \"16-16\",\n",
    "                \"16-19\",\n",
    "                \"16-20\",\n",
    "                \"17-10\",\n",
    "                \"17-11\",\n",
    "                \"18-1\",\n",
    "                \"18-10\",\n",
    "                \"18-11\",\n",
    "                \"18-12\",\n",
    "                \"18-13\",\n",
    "                \"18-14\",\n",
    "                \"18-15\",\n",
    "                \"18-16\",\n",
    "                \"18-17\",\n",
    "                \"18-19\",\n",
    "                \"18-2\",\n",
    "                \"18-20\",\n",
    "                \"18-4\",\n",
    "                \"18-5\",\n",
    "                \"18-7\",\n",
    "                \"18-8\",\n",
    "                \"18-9\",\n",
    "                \"19-1\",\n",
    "                \"19-10\",\n",
    "                \"19-11\",\n",
    "                \"19-12\",\n",
    "                \"19-13\",\n",
    "                \"19-14\",\n",
    "                \"19-15\",\n",
    "                \"19-19\",\n",
    "                \"19-2\",\n",
    "                \"19-20\",\n",
    "                \"19-3\",\n",
    "                \"19-4\",\n",
    "                \"19-6\",\n",
    "                \"19-7\",\n",
    "                \"19-8\",\n",
    "                \"19-9\",\n",
    "                \"2-1\",\n",
    "                \"2-13\",\n",
    "                \"2-15\",\n",
    "                \"2-3\",\n",
    "                \"2-4\",\n",
    "                \"2-5\",\n",
    "                \"2-6\",\n",
    "                \"2-7\",\n",
    "                \"2-8\",\n",
    "                \"20-1\",\n",
    "                \"20-12\",\n",
    "                \"20-14\",\n",
    "                \"20-15\",\n",
    "                \"20-16\",\n",
    "                \"20-18\",\n",
    "                \"20-19\",\n",
    "                \"20-20\",\n",
    "                \"20-3\",\n",
    "                \"20-4\",\n",
    "                \"20-5\",\n",
    "                \"20-7\",\n",
    "                \"20-8\",\n",
    "                \"3-1\",\n",
    "                \"3-13\",\n",
    "                \"3-18\",\n",
    "                \"3-2\",\n",
    "                \"3-8\",\n",
    "                \"4-1\",\n",
    "                \"4-10\",\n",
    "                \"4-11\",\n",
    "                \"5-1\",\n",
    "                \"5-5\",\n",
    "                \"6-1\",\n",
    "                \"6-15\",\n",
    "                \"6-6\",\n",
    "                \"7-10\",\n",
    "                \"7-11\",\n",
    "                \"7-12\",\n",
    "                \"7-13\",\n",
    "                \"7-14\",\n",
    "                \"7-7\",\n",
    "                \"7-8\",\n",
    "                \"7-9\",\n",
    "                \"8-1\",\n",
    "                \"8-13\",\n",
    "                \"8-14\",\n",
    "                \"8-18\",\n",
    "                \"8-20\",\n",
    "                \"8-3\",\n",
    "                \"8-8\",\n",
    "                \"9-1\",\n",
    "                \"9-7\",\n",
    "            ],\n",
    "            \"domains\": [1, 2, 3, 4],\n",
    "            \"num_examples_per_domain_per_label\": -1,\n",
    "            \"pickle_path\": \"/root/csc500-main/datasets/wisig.node3-19.stratified_ds.2022A.pkl\",\n",
    "            \"source_or_target_dataset\": \"target\",\n",
    "            \"x_transforms\": [],\n",
    "            \"episode_transforms\": [],\n",
    "            \"domain_prefix\": \"Wisig_\",\n",
    "        },\n",
    "    ],\n",
    "    \"dataset_seed\": 420,\n",
    "    \"seed\": 420,\n",
    "}\n"
   ]
  },
  {
   "cell_type": "code",
   "execution_count": 5,
   "id": "8fa1cc33",
   "metadata": {
    "execution": {
     "iopub.execute_input": "2022-03-21T02:38:00.908442Z",
     "iopub.status.busy": "2022-03-21T02:38:00.908067Z",
     "iopub.status.idle": "2022-03-21T02:38:00.926654Z",
     "shell.execute_reply": "2022-03-21T02:38:00.926290Z"
    },
    "papermill": {
     "duration": 0.042427,
     "end_time": "2022-03-21T02:38:00.926724",
     "exception": false,
     "start_time": "2022-03-21T02:38:00.884297",
     "status": "completed"
    },
    "tags": []
   },
   "outputs": [],
   "source": [
    "# Set this to True if you want to run this template directly\n",
    "STANDALONE = False\n",
    "if STANDALONE:\n",
    "    print(\"parameters not injected, running with standalone_parameters\")\n",
    "    parameters = standalone_parameters\n",
    "\n",
    "if not 'parameters' in locals() and not 'parameters' in globals():\n",
    "    raise Exception(\"Parameter injection failed\")\n",
    "\n",
    "#Use an easy dict for all the parameters\n",
    "p = EasyDict(parameters)\n",
    "\n",
    "if \"x_shape\" not in p:\n",
    "    p.x_shape = [2,256] # Default to this if we dont supply x_shape\n",
    "\n",
    "\n",
    "supplied_keys = set(p.keys())\n",
    "\n",
    "if  supplied_keys != required_parameters:\n",
    "    print(\"Parameters are incorrect\")\n",
    "    if len(supplied_keys - required_parameters)>0: print(\"Shouldn't have:\", str(supplied_keys - required_parameters))\n",
    "    if len(required_parameters - supplied_keys)>0: print(\"Need to have:\", str(required_parameters - supplied_keys))\n",
    "    raise RuntimeError(\"Parameters are incorrect\")"
   ]
  },
  {
   "cell_type": "code",
   "execution_count": 6,
   "id": "3a028d58",
   "metadata": {
    "execution": {
     "iopub.execute_input": "2022-03-21T02:38:00.968761Z",
     "iopub.status.busy": "2022-03-21T02:38:00.968245Z",
     "iopub.status.idle": "2022-03-21T02:38:00.986862Z",
     "shell.execute_reply": "2022-03-21T02:38:00.986502Z"
    },
    "papermill": {
     "duration": 0.040728,
     "end_time": "2022-03-21T02:38:00.986930",
     "exception": false,
     "start_time": "2022-03-21T02:38:00.946202",
     "status": "completed"
    },
    "tags": []
   },
   "outputs": [],
   "source": [
    "###################################\n",
    "# Set the RNGs and make it all deterministic\n",
    "###################################\n",
    "np.random.seed(p.seed)\n",
    "random.seed(p.seed)\n",
    "torch.manual_seed(p.seed)\n",
    "\n",
    "torch.use_deterministic_algorithms(True) "
   ]
  },
  {
   "cell_type": "code",
   "execution_count": 7,
   "id": "b691acf6",
   "metadata": {
    "execution": {
     "iopub.execute_input": "2022-03-21T02:38:01.028939Z",
     "iopub.status.busy": "2022-03-21T02:38:01.028400Z",
     "iopub.status.idle": "2022-03-21T02:38:01.047342Z",
     "shell.execute_reply": "2022-03-21T02:38:01.046542Z"
    },
    "papermill": {
     "duration": 0.04081,
     "end_time": "2022-03-21T02:38:01.047494",
     "exception": false,
     "start_time": "2022-03-21T02:38:01.006684",
     "status": "completed"
    },
    "tags": []
   },
   "outputs": [],
   "source": [
    "###########################################\n",
    "# The stratified datasets honor this\n",
    "###########################################\n",
    "torch.set_default_dtype(eval(p.torch_default_dtype))"
   ]
  },
  {
   "cell_type": "code",
   "execution_count": 8,
   "id": "b5fba671",
   "metadata": {
    "execution": {
     "iopub.execute_input": "2022-03-21T02:38:01.099760Z",
     "iopub.status.busy": "2022-03-21T02:38:01.099378Z",
     "iopub.status.idle": "2022-03-21T02:38:01.150380Z",
     "shell.execute_reply": "2022-03-21T02:38:01.149641Z"
    },
    "papermill": {
     "duration": 0.074331,
     "end_time": "2022-03-21T02:38:01.150531",
     "exception": false,
     "start_time": "2022-03-21T02:38:01.076200",
     "status": "completed"
    },
    "tags": []
   },
   "outputs": [],
   "source": [
    "###################################\n",
    "# Build the network(s)\n",
    "# Note: It's critical to do this AFTER setting the RNG\n",
    "###################################\n",
    "x_net = build_sequential(p.x_net)"
   ]
  },
  {
   "cell_type": "code",
   "execution_count": 9,
   "id": "5d7e61cc",
   "metadata": {
    "execution": {
     "iopub.execute_input": "2022-03-21T02:38:01.200043Z",
     "iopub.status.busy": "2022-03-21T02:38:01.199681Z",
     "iopub.status.idle": "2022-03-21T02:38:01.220826Z",
     "shell.execute_reply": "2022-03-21T02:38:01.220014Z"
    },
    "papermill": {
     "duration": 0.044589,
     "end_time": "2022-03-21T02:38:01.220978",
     "exception": false,
     "start_time": "2022-03-21T02:38:01.176389",
     "status": "completed"
    },
    "tags": []
   },
   "outputs": [],
   "source": [
    "start_time_secs = time.time()"
   ]
  },
  {
   "cell_type": "code",
   "execution_count": 10,
   "id": "c6b67dfd",
   "metadata": {
    "execution": {
     "iopub.execute_input": "2022-03-21T02:38:01.271374Z",
     "iopub.status.busy": "2022-03-21T02:38:01.271007Z",
     "iopub.status.idle": "2022-03-21T02:38:01.291071Z",
     "shell.execute_reply": "2022-03-21T02:38:01.290266Z"
    },
    "papermill": {
     "duration": 0.043578,
     "end_time": "2022-03-21T02:38:01.291222",
     "exception": false,
     "start_time": "2022-03-21T02:38:01.247644",
     "status": "completed"
    },
    "tags": []
   },
   "outputs": [],
   "source": [
    "p.domains_source = []\n",
    "p.domains_target = []\n",
    "\n",
    "\n",
    "train_original_source = []\n",
    "val_original_source   = []\n",
    "test_original_source  = []\n",
    "\n",
    "train_original_target = []\n",
    "val_original_target   = []\n",
    "test_original_target  = []"
   ]
  },
  {
   "cell_type": "code",
   "execution_count": 11,
   "id": "e3d9c3d3",
   "metadata": {
    "execution": {
     "iopub.execute_input": "2022-03-21T02:38:01.340663Z",
     "iopub.status.busy": "2022-03-21T02:38:01.340167Z",
     "iopub.status.idle": "2022-03-21T02:38:01.358687Z",
     "shell.execute_reply": "2022-03-21T02:38:01.357887Z"
    },
    "papermill": {
     "duration": 0.041599,
     "end_time": "2022-03-21T02:38:01.358839",
     "exception": false,
     "start_time": "2022-03-21T02:38:01.317240",
     "status": "completed"
    },
    "tags": []
   },
   "outputs": [],
   "source": [
    "# global_x_transform_func = lambda x: normalize(x.to(torch.get_default_dtype()), \"unit_power\") # unit_power, unit_mag\n",
    "# global_x_transform_func = lambda x: normalize(x, \"unit_power\") # unit_power, unit_mag"
   ]
  },
  {
   "cell_type": "code",
   "execution_count": 12,
   "id": "acb78fd2",
   "metadata": {
    "execution": {
     "iopub.execute_input": "2022-03-21T02:38:01.414929Z",
     "iopub.status.busy": "2022-03-21T02:38:01.414345Z",
     "iopub.status.idle": "2022-03-21T02:38:01.434304Z",
     "shell.execute_reply": "2022-03-21T02:38:01.433506Z"
    },
    "papermill": {
     "duration": 0.047489,
     "end_time": "2022-03-21T02:38:01.434458",
     "exception": false,
     "start_time": "2022-03-21T02:38:01.386969",
     "status": "completed"
    },
    "tags": []
   },
   "outputs": [],
   "source": [
    "def add_dataset(\n",
    "    labels,\n",
    "    domains,\n",
    "    pickle_path,\n",
    "    x_transforms,\n",
    "    episode_transforms,\n",
    "    domain_prefix,\n",
    "    num_examples_per_domain_per_label,\n",
    "    source_or_target_dataset:str,\n",
    "    iterator_seed=p.seed,\n",
    "    dataset_seed=p.dataset_seed,\n",
    "    n_shot=p.n_shot,\n",
    "    n_way=p.n_way,\n",
    "    n_query=p.n_query,\n",
    "    train_val_test_k_factors=(p.train_k_factor,p.val_k_factor,p.test_k_factor),\n",
    "):\n",
    "   \n",
    "    if x_transforms == []: x_transform = None\n",
    "    else: x_transform = get_chained_transform(x_transforms)\n",
    "    \n",
    "    if episode_transforms == []: episode_transform = None\n",
    "    else: raise Exception(\"episode_transforms not implemented\")\n",
    "    \n",
    "    episode_transform = lambda tup, _prefix=domain_prefix: (_prefix + str(tup[0]), tup[1])\n",
    "\n",
    "\n",
    "    eaf = Episodic_Accessor_Factory(\n",
    "        labels=labels,\n",
    "        domains=domains,\n",
    "        num_examples_per_domain_per_label=num_examples_per_domain_per_label,\n",
    "        iterator_seed=iterator_seed,\n",
    "        dataset_seed=dataset_seed,\n",
    "        n_shot=n_shot,\n",
    "        n_way=n_way,\n",
    "        n_query=n_query,\n",
    "        train_val_test_k_factors=train_val_test_k_factors,\n",
    "        pickle_path=pickle_path,\n",
    "        x_transform_func=x_transform,\n",
    "    )\n",
    "\n",
    "    train, val, test = eaf.get_train(), eaf.get_val(), eaf.get_test()\n",
    "    train = Lazy_Iterable_Wrapper(train, episode_transform)\n",
    "    val = Lazy_Iterable_Wrapper(val, episode_transform)\n",
    "    test = Lazy_Iterable_Wrapper(test, episode_transform)\n",
    "\n",
    "    if source_or_target_dataset==\"source\":\n",
    "        train_original_source.append(train)\n",
    "        val_original_source.append(val)\n",
    "        test_original_source.append(test)\n",
    "\n",
    "        p.domains_source.extend(\n",
    "            [domain_prefix + str(u) for u in domains]\n",
    "        )\n",
    "    elif source_or_target_dataset==\"target\":\n",
    "        train_original_target.append(train)\n",
    "        val_original_target.append(val)\n",
    "        test_original_target.append(test)\n",
    "        p.domains_target.extend(\n",
    "            [domain_prefix + str(u) for u in domains]\n",
    "        )\n",
    "    else:\n",
    "        raise Exception(f\"invalid source_or_target_dataset: {source_or_target_dataset}\")\n",
    "    "
   ]
  },
  {
   "cell_type": "code",
   "execution_count": 13,
   "id": "fe266617",
   "metadata": {
    "execution": {
     "iopub.execute_input": "2022-03-21T02:38:01.485185Z",
     "iopub.status.busy": "2022-03-21T02:38:01.484103Z",
     "iopub.status.idle": "2022-03-21T02:38:05.166328Z",
     "shell.execute_reply": "2022-03-21T02:38:05.165442Z"
    },
    "papermill": {
     "duration": 3.705653,
     "end_time": "2022-03-21T02:38:05.166513",
     "exception": false,
     "start_time": "2022-03-21T02:38:01.460860",
     "status": "completed"
    },
    "tags": []
   },
   "outputs": [],
   "source": [
    "for ds in p.datasets:\n",
    "    add_dataset(**ds)"
   ]
  },
  {
   "cell_type": "code",
   "execution_count": 14,
   "id": "b90d65ac",
   "metadata": {
    "execution": {
     "iopub.execute_input": "2022-03-21T02:38:05.221175Z",
     "iopub.status.busy": "2022-03-21T02:38:05.220785Z",
     "iopub.status.idle": "2022-03-21T02:38:05.247934Z",
     "shell.execute_reply": "2022-03-21T02:38:05.247127Z"
    },
    "papermill": {
     "duration": 0.053651,
     "end_time": "2022-03-21T02:38:05.248119",
     "exception": false,
     "start_time": "2022-03-21T02:38:05.194468",
     "status": "completed"
    },
    "tags": []
   },
   "outputs": [],
   "source": [
    "# from steves_utils.CORES.utils import (\n",
    "#     ALL_NODES,\n",
    "#     ALL_NODES_MINIMUM_1000_EXAMPLES,\n",
    "#     ALL_DAYS\n",
    "# )\n",
    "\n",
    "# add_dataset(\n",
    "#     labels=ALL_NODES,\n",
    "#     domains = ALL_DAYS,\n",
    "#     num_examples_per_domain_per_label=100,\n",
    "#     pickle_path=os.path.join(get_datasets_base_path(), \"cores.stratified_ds.2022A.pkl\"),\n",
    "#     source_or_target_dataset=\"target\",\n",
    "#     x_transform_func=global_x_transform_func,\n",
    "#     domain_modifier=lambda u: f\"cores_{u}\"\n",
    "# )"
   ]
  },
  {
   "cell_type": "code",
   "execution_count": 15,
   "id": "76db484d",
   "metadata": {
    "execution": {
     "iopub.execute_input": "2022-03-21T02:38:05.307943Z",
     "iopub.status.busy": "2022-03-21T02:38:05.307525Z",
     "iopub.status.idle": "2022-03-21T02:38:05.325958Z",
     "shell.execute_reply": "2022-03-21T02:38:05.325147Z"
    },
    "papermill": {
     "duration": 0.04588,
     "end_time": "2022-03-21T02:38:05.326124",
     "exception": false,
     "start_time": "2022-03-21T02:38:05.280244",
     "status": "completed"
    },
    "tags": []
   },
   "outputs": [],
   "source": [
    "# from steves_utils.ORACLE.utils_v2 import (\n",
    "#     ALL_DISTANCES_FEET,\n",
    "#     ALL_RUNS,\n",
    "#     ALL_SERIAL_NUMBERS,\n",
    "# )\n",
    "\n",
    "\n",
    "# add_dataset(\n",
    "#     labels=ALL_SERIAL_NUMBERS,\n",
    "#     domains = list(set(ALL_DISTANCES_FEET) - {2,62}),\n",
    "#     num_examples_per_domain_per_label=100,\n",
    "#     pickle_path=os.path.join(get_datasets_base_path(), \"oracle.Run2_framed_2000Examples_stratified_ds.2022A.pkl\"),\n",
    "#     source_or_target_dataset=\"source\",\n",
    "#     x_transform_func=global_x_transform_func,\n",
    "#     domain_modifier=lambda u: f\"oracle1_{u}\"\n",
    "# )\n"
   ]
  },
  {
   "cell_type": "code",
   "execution_count": 16,
   "id": "97dea9d2",
   "metadata": {
    "execution": {
     "iopub.execute_input": "2022-03-21T02:38:05.379278Z",
     "iopub.status.busy": "2022-03-21T02:38:05.378903Z",
     "iopub.status.idle": "2022-03-21T02:38:05.406501Z",
     "shell.execute_reply": "2022-03-21T02:38:05.405739Z"
    },
    "papermill": {
     "duration": 0.053418,
     "end_time": "2022-03-21T02:38:05.406661",
     "exception": false,
     "start_time": "2022-03-21T02:38:05.353243",
     "status": "completed"
    },
    "tags": []
   },
   "outputs": [],
   "source": [
    "# from steves_utils.ORACLE.utils_v2 import (\n",
    "#     ALL_DISTANCES_FEET,\n",
    "#     ALL_RUNS,\n",
    "#     ALL_SERIAL_NUMBERS,\n",
    "# )\n",
    "\n",
    "\n",
    "# add_dataset(\n",
    "#     labels=ALL_SERIAL_NUMBERS,\n",
    "#     domains = list(set(ALL_DISTANCES_FEET) - {2,62,56}),\n",
    "#     num_examples_per_domain_per_label=100,\n",
    "#     pickle_path=os.path.join(get_datasets_base_path(), \"oracle.Run2_framed_2000Examples_stratified_ds.2022A.pkl\"),\n",
    "#     source_or_target_dataset=\"source\",\n",
    "#     x_transform_func=global_x_transform_func,\n",
    "#     domain_modifier=lambda u: f\"oracle2_{u}\"\n",
    "# )"
   ]
  },
  {
   "cell_type": "code",
   "execution_count": 17,
   "id": "6f289866",
   "metadata": {
    "execution": {
     "iopub.execute_input": "2022-03-21T02:38:05.460868Z",
     "iopub.status.busy": "2022-03-21T02:38:05.460405Z",
     "iopub.status.idle": "2022-03-21T02:38:05.482421Z",
     "shell.execute_reply": "2022-03-21T02:38:05.481681Z"
    },
    "papermill": {
     "duration": 0.046863,
     "end_time": "2022-03-21T02:38:05.482577",
     "exception": false,
     "start_time": "2022-03-21T02:38:05.435714",
     "status": "completed"
    },
    "tags": []
   },
   "outputs": [],
   "source": [
    "# add_dataset(\n",
    "#     labels=list(range(19)),\n",
    "#     domains = [0,1,2],\n",
    "#     num_examples_per_domain_per_label=100,\n",
    "#     pickle_path=os.path.join(get_datasets_base_path(), \"metehan.stratified_ds.2022A.pkl\"),\n",
    "#     source_or_target_dataset=\"target\",\n",
    "#     x_transform_func=global_x_transform_func,\n",
    "#     domain_modifier=lambda u: f\"met_{u}\"\n",
    "# )"
   ]
  },
  {
   "cell_type": "code",
   "execution_count": 18,
   "id": "86a863c3",
   "metadata": {
    "execution": {
     "iopub.execute_input": "2022-03-21T02:38:05.533734Z",
     "iopub.status.busy": "2022-03-21T02:38:05.532959Z",
     "iopub.status.idle": "2022-03-21T02:38:05.553956Z",
     "shell.execute_reply": "2022-03-21T02:38:05.553152Z"
    },
    "papermill": {
     "duration": 0.045418,
     "end_time": "2022-03-21T02:38:05.554110",
     "exception": false,
     "start_time": "2022-03-21T02:38:05.508692",
     "status": "completed"
    },
    "tags": []
   },
   "outputs": [],
   "source": [
    "# # from steves_utils.wisig.utils import (\n",
    "# #     ALL_NODES_MINIMUM_100_EXAMPLES,\n",
    "# #     ALL_NODES_MINIMUM_500_EXAMPLES,\n",
    "# #     ALL_NODES_MINIMUM_1000_EXAMPLES,\n",
    "# #     ALL_DAYS\n",
    "# # )\n",
    "\n",
    "# import steves_utils.wisig.utils as wisig\n",
    "\n",
    "\n",
    "# add_dataset(\n",
    "#     labels=wisig.ALL_NODES_MINIMUM_100_EXAMPLES,\n",
    "#     domains = wisig.ALL_DAYS,\n",
    "#     num_examples_per_domain_per_label=100,\n",
    "#     pickle_path=os.path.join(get_datasets_base_path(), \"wisig.node3-19.stratified_ds.2022A.pkl\"),\n",
    "#     source_or_target_dataset=\"target\",\n",
    "#     x_transform_func=global_x_transform_func,\n",
    "#     domain_modifier=lambda u: f\"wisig_{u}\"\n",
    "# )"
   ]
  },
  {
   "cell_type": "code",
   "execution_count": 19,
   "id": "fd5442bc",
   "metadata": {
    "execution": {
     "iopub.execute_input": "2022-03-21T02:38:05.610044Z",
     "iopub.status.busy": "2022-03-21T02:38:05.609662Z",
     "iopub.status.idle": "2022-03-21T02:38:05.629441Z",
     "shell.execute_reply": "2022-03-21T02:38:05.628719Z"
    },
    "papermill": {
     "duration": 0.049014,
     "end_time": "2022-03-21T02:38:05.629599",
     "exception": false,
     "start_time": "2022-03-21T02:38:05.580585",
     "status": "completed"
    },
    "tags": []
   },
   "outputs": [],
   "source": [
    "###################################\n",
    "# Build the dataset\n",
    "###################################\n",
    "train_original_source = Iterable_Aggregator(train_original_source, p.seed)\n",
    "val_original_source = Iterable_Aggregator(val_original_source, p.seed)\n",
    "test_original_source = Iterable_Aggregator(test_original_source, p.seed)\n",
    "\n",
    "\n",
    "train_original_target = Iterable_Aggregator(train_original_target, p.seed)\n",
    "val_original_target = Iterable_Aggregator(val_original_target, p.seed)\n",
    "test_original_target = Iterable_Aggregator(test_original_target, p.seed)\n",
    "\n",
    "# For CNN We only use X and Y. And we only train on the source.\n",
    "# Properly form the data using a transform lambda and Lazy_Iterable_Wrapper. Finally wrap them in a dataloader\n",
    "\n",
    "transform_lambda = lambda ex: ex[1] # Original is (<domain>, <episode>) so we strip down to episode only\n",
    "\n",
    "train_processed_source = Lazy_Iterable_Wrapper(train_original_source, transform_lambda)\n",
    "val_processed_source   = Lazy_Iterable_Wrapper(val_original_source, transform_lambda)\n",
    "test_processed_source  = Lazy_Iterable_Wrapper(test_original_source, transform_lambda)\n",
    "\n",
    "train_processed_target = Lazy_Iterable_Wrapper(train_original_target, transform_lambda)\n",
    "val_processed_target   = Lazy_Iterable_Wrapper(val_original_target, transform_lambda)\n",
    "test_processed_target  = Lazy_Iterable_Wrapper(test_original_target, transform_lambda)\n",
    "\n",
    "datasets = EasyDict({\n",
    "    \"source\": {\n",
    "        \"original\": {\"train\":train_original_source, \"val\":val_original_source, \"test\":test_original_source},\n",
    "        \"processed\": {\"train\":train_processed_source, \"val\":val_processed_source, \"test\":test_processed_source}\n",
    "    },\n",
    "    \"target\": {\n",
    "        \"original\": {\"train\":train_original_target, \"val\":val_original_target, \"test\":test_original_target},\n",
    "        \"processed\": {\"train\":train_processed_target, \"val\":val_processed_target, \"test\":test_processed_target}\n",
    "    },\n",
    "})"
   ]
  },
  {
   "cell_type": "code",
   "execution_count": 20,
   "id": "5b3c01fc",
   "metadata": {
    "execution": {
     "iopub.execute_input": "2022-03-21T02:38:05.682553Z",
     "iopub.status.busy": "2022-03-21T02:38:05.681984Z",
     "iopub.status.idle": "2022-03-21T02:38:14.223359Z",
     "shell.execute_reply": "2022-03-21T02:38:14.224078Z"
    },
    "papermill": {
     "duration": 8.56759,
     "end_time": "2022-03-21T02:38:14.224302",
     "exception": false,
     "start_time": "2022-03-21T02:38:05.656712",
     "status": "completed"
    },
    "tags": []
   },
   "outputs": [
    {
     "name": "stdout",
     "output_type": "stream",
     "text": [
      "{'CORES_4', 'CORES_2', 'CORES_1', 'CORES_5', 'CORES_3'}\n"
     ]
    },
    {
     "name": "stdout",
     "output_type": "stream",
     "text": [
      "{'Wisig_4', 'Wisig_3', 'Wisig_2', 'Wisig_1'}\n"
     ]
    },
    {
     "name": "stdout",
     "output_type": "stream",
     "text": [
      "tensor([[[ 0.0042,  0.0077,  0.0040,  ..., -0.0043, -0.0102, -0.0004],\n",
      "         [-0.0052, -0.0033, -0.0041,  ..., -0.0167, -0.0101, -0.0022]],\n",
      "\n",
      "        [[ 0.0048,  0.0023,  0.0008,  ..., -0.0159, -0.0044,  0.0022],\n",
      "         [-0.0056, -0.0050, -0.0016,  ..., -0.0063, -0.0015, -0.0028]],\n",
      "\n",
      "        [[ 0.0045,  0.0021,  0.0072,  ...,  0.0111,  0.0168,  0.0002],\n",
      "         [ 0.0140,  0.0147,  0.0076,  ...,  0.0099, -0.0009, -0.0052]],\n",
      "\n",
      "        ...,\n",
      "\n",
      "        [[ 0.0027,  0.0041, -0.0057,  ...,  0.0034, -0.0010,  0.0012],\n",
      "         [-0.0015,  0.0020,  0.0015,  ..., -0.0009,  0.0003, -0.0008]],\n",
      "\n",
      "        [[-0.0017,  0.0047,  0.0032,  ..., -0.0039, -0.0033,  0.0055],\n",
      "         [ 0.0058,  0.0040, -0.0016,  ..., -0.0128, -0.0089, -0.0009]],\n",
      "\n",
      "        [[-0.0031, -0.0032,  0.0042,  ...,  0.0099,  0.0070, -0.0095],\n",
      "         [ 0.0053, -0.0009, -0.0022,  ..., -0.0006,  0.0094,  0.0034]]])\n"
     ]
    }
   ],
   "source": [
    "from steves_utils.transforms import get_average_magnitude, get_average_power\n",
    "\n",
    "print(set([u for u,_ in val_original_source]))\n",
    "print(set([u for u,_ in val_original_target]))\n",
    "\n",
    "s_x, s_y, q_x, q_y, _ = next(iter(train_processed_source))\n",
    "print(s_x)\n",
    "\n",
    "# for ds in [\n",
    "#     train_processed_source,\n",
    "#     val_processed_source,\n",
    "#     test_processed_source,\n",
    "#     train_processed_target,\n",
    "#     val_processed_target,\n",
    "#     test_processed_target\n",
    "# ]:\n",
    "#     for s_x, s_y, q_x, q_y, _ in ds:\n",
    "#         for X in (s_x, q_x):\n",
    "#             for x in X:\n",
    "#                 assert np.isclose(get_average_magnitude(x.numpy()), 1.0)\n",
    "#                 assert np.isclose(get_average_power(x.numpy()), 1.0)\n",
    "                "
   ]
  },
  {
   "cell_type": "code",
   "execution_count": 21,
   "id": "bbdacba1",
   "metadata": {
    "execution": {
     "iopub.execute_input": "2022-03-21T02:38:14.283709Z",
     "iopub.status.busy": "2022-03-21T02:38:14.283316Z",
     "iopub.status.idle": "2022-03-21T02:38:14.475634Z",
     "shell.execute_reply": "2022-03-21T02:38:14.475275Z"
    },
    "papermill": {
     "duration": 0.221492,
     "end_time": "2022-03-21T02:38:14.475726",
     "exception": false,
     "start_time": "2022-03-21T02:38:14.254234",
     "status": "completed"
    },
    "tags": []
   },
   "outputs": [
    {
     "name": "stdout",
     "output_type": "stream",
     "text": [
      "(2, 256)\n"
     ]
    }
   ],
   "source": [
    "###################################\n",
    "# Build the model\n",
    "###################################\n",
    "# easfsl only wants a tuple for the shape\n",
    "model = Steves_Prototypical_Network(x_net, device=p.device, x_shape=tuple(p.x_shape))\n",
    "optimizer = Adam(params=model.parameters(), lr=p.lr)"
   ]
  },
  {
   "cell_type": "code",
   "execution_count": 22,
   "id": "22b39ac5",
   "metadata": {
    "execution": {
     "iopub.execute_input": "2022-03-21T02:38:14.526903Z",
     "iopub.status.busy": "2022-03-21T02:38:14.526530Z",
     "iopub.status.idle": "2022-03-21T02:40:36.327027Z",
     "shell.execute_reply": "2022-03-21T02:40:36.326287Z"
    },
    "papermill": {
     "duration": 141.828501,
     "end_time": "2022-03-21T02:40:36.327202",
     "exception": false,
     "start_time": "2022-03-21T02:38:14.498701",
     "status": "completed"
    },
    "tags": []
   },
   "outputs": [
    {
     "name": "stdout",
     "output_type": "stream",
     "text": [
      "epoch: 1, [batch: 1 / 351], examples_per_second: 340.4337, train_label_loss: 3.2523, \n"
     ]
    },
    {
     "name": "stdout",
     "output_type": "stream",
     "text": [
      "epoch: 1, [batch: 36 / 351], examples_per_second: 3065.4357, train_label_loss: 1.1077, \n"
     ]
    },
    {
     "name": "stdout",
     "output_type": "stream",
     "text": [
      "epoch: 1, [batch: 71 / 351], examples_per_second: 3099.4830, train_label_loss: 0.3882, \n"
     ]
    },
    {
     "name": "stdout",
     "output_type": "stream",
     "text": [
      "epoch: 1, [batch: 106 / 351], examples_per_second: 3155.8259, train_label_loss: 0.2262, \n"
     ]
    },
    {
     "name": "stdout",
     "output_type": "stream",
     "text": [
      "epoch: 1, [batch: 141 / 351], examples_per_second: 3025.0227, train_label_loss: 0.1410, \n"
     ]
    },
    {
     "name": "stdout",
     "output_type": "stream",
     "text": [
      "epoch: 1, [batch: 176 / 351], examples_per_second: 2952.7355, train_label_loss: 0.0950, \n"
     ]
    },
    {
     "name": "stdout",
     "output_type": "stream",
     "text": [
      "epoch: 1, [batch: 211 / 351], examples_per_second: 3067.2534, train_label_loss: 0.0831, \n"
     ]
    },
    {
     "name": "stdout",
     "output_type": "stream",
     "text": [
      "epoch: 1, [batch: 246 / 351], examples_per_second: 3034.1558, train_label_loss: 0.0834, \n"
     ]
    },
    {
     "name": "stdout",
     "output_type": "stream",
     "text": [
      "epoch: 1, [batch: 281 / 351], examples_per_second: 3074.1953, train_label_loss: 0.0505, \n"
     ]
    },
    {
     "name": "stdout",
     "output_type": "stream",
     "text": [
      "epoch: 1, [batch: 316 / 351], examples_per_second: 3037.3113, train_label_loss: 0.0322, \n"
     ]
    },
    {
     "name": "stdout",
     "output_type": "stream",
     "text": [
      "=============================================================\n",
      "epoch: 1, source_val_acc_label: 0.9962, target_val_acc_label: 0.6901, source_val_label_loss: 0.0296, target_val_label_loss: 2.2957, \n",
      "=============================================================\n"
     ]
    },
    {
     "name": "stdout",
     "output_type": "stream",
     "text": [
      "New best\n"
     ]
    },
    {
     "name": "stdout",
     "output_type": "stream",
     "text": [
      "epoch: 2, [batch: 1 / 351], examples_per_second: 30.9110, train_label_loss: 0.0308, \n"
     ]
    },
    {
     "name": "stdout",
     "output_type": "stream",
     "text": [
      "epoch: 2, [batch: 36 / 351], examples_per_second: 3167.4814, train_label_loss: 0.0113, \n"
     ]
    },
    {
     "name": "stdout",
     "output_type": "stream",
     "text": [
      "epoch: 2, [batch: 71 / 351], examples_per_second: 3159.7398, train_label_loss: 0.2501, \n"
     ]
    },
    {
     "name": "stdout",
     "output_type": "stream",
     "text": [
      "epoch: 2, [batch: 106 / 351], examples_per_second: 3190.7748, train_label_loss: 0.0098, \n"
     ]
    },
    {
     "name": "stdout",
     "output_type": "stream",
     "text": [
      "epoch: 2, [batch: 141 / 351], examples_per_second: 3015.4470, train_label_loss: 0.0097, \n"
     ]
    },
    {
     "name": "stdout",
     "output_type": "stream",
     "text": [
      "epoch: 2, [batch: 176 / 351], examples_per_second: 3099.5522, train_label_loss: 0.0108, \n"
     ]
    },
    {
     "name": "stdout",
     "output_type": "stream",
     "text": [
      "epoch: 2, [batch: 211 / 351], examples_per_second: 3148.4719, train_label_loss: 0.0023, \n"
     ]
    },
    {
     "name": "stdout",
     "output_type": "stream",
     "text": [
      "epoch: 2, [batch: 246 / 351], examples_per_second: 3054.9993, train_label_loss: 0.0019, \n"
     ]
    },
    {
     "name": "stdout",
     "output_type": "stream",
     "text": [
      "epoch: 2, [batch: 281 / 351], examples_per_second: 3090.2071, train_label_loss: 0.0033, \n"
     ]
    },
    {
     "name": "stdout",
     "output_type": "stream",
     "text": [
      "epoch: 2, [batch: 316 / 351], examples_per_second: 3067.5807, train_label_loss: 0.0025, \n"
     ]
    },
    {
     "name": "stdout",
     "output_type": "stream",
     "text": [
      "=============================================================\n",
      "epoch: 2, source_val_acc_label: 0.9953, target_val_acc_label: 0.7225, source_val_label_loss: 0.0164, target_val_label_loss: 4.3152, \n",
      "=============================================================\n"
     ]
    },
    {
     "name": "stdout",
     "output_type": "stream",
     "text": [
      "New best\n"
     ]
    },
    {
     "name": "stdout",
     "output_type": "stream",
     "text": [
      "epoch: 3, [batch: 1 / 351], examples_per_second: 30.5108, train_label_loss: 0.0050, \n"
     ]
    },
    {
     "name": "stdout",
     "output_type": "stream",
     "text": [
      "epoch: 3, [batch: 36 / 351], examples_per_second: 3190.3578, train_label_loss: 0.0058, \n"
     ]
    },
    {
     "name": "stdout",
     "output_type": "stream",
     "text": [
      "epoch: 3, [batch: 71 / 351], examples_per_second: 3084.3628, train_label_loss: 0.0068, \n"
     ]
    },
    {
     "name": "stdout",
     "output_type": "stream",
     "text": [
      "epoch: 3, [batch: 106 / 351], examples_per_second: 3069.4436, train_label_loss: 0.0024, \n"
     ]
    },
    {
     "name": "stdout",
     "output_type": "stream",
     "text": [
      "epoch: 3, [batch: 141 / 351], examples_per_second: 3029.0500, train_label_loss: 0.0020, \n"
     ]
    },
    {
     "name": "stdout",
     "output_type": "stream",
     "text": [
      "epoch: 3, [batch: 176 / 351], examples_per_second: 3068.2117, train_label_loss: 0.0003, \n"
     ]
    },
    {
     "name": "stdout",
     "output_type": "stream",
     "text": [
      "epoch: 3, [batch: 211 / 351], examples_per_second: 3395.9529, train_label_loss: 0.0006, \n"
     ]
    },
    {
     "name": "stdout",
     "output_type": "stream",
     "text": [
      "epoch: 3, [batch: 246 / 351], examples_per_second: 3421.3870, train_label_loss: 0.0041, \n"
     ]
    },
    {
     "name": "stdout",
     "output_type": "stream",
     "text": [
      "epoch: 3, [batch: 281 / 351], examples_per_second: 3599.3359, train_label_loss: 0.0040, \n"
     ]
    },
    {
     "name": "stdout",
     "output_type": "stream",
     "text": [
      "epoch: 3, [batch: 316 / 351], examples_per_second: 3513.1348, train_label_loss: 0.0189, \n"
     ]
    },
    {
     "name": "stdout",
     "output_type": "stream",
     "text": [
      "=============================================================\n",
      "epoch: 3, source_val_acc_label: 0.9969, target_val_acc_label: 0.7312, source_val_label_loss: 0.0149, target_val_label_loss: 4.8768, \n",
      "=============================================================\n"
     ]
    },
    {
     "name": "stdout",
     "output_type": "stream",
     "text": [
      "New best\n"
     ]
    }
   ],
   "source": [
    "###################################\n",
    "# train\n",
    "###################################\n",
    "jig = PTN_Train_Eval_Test_Jig(model, p.BEST_MODEL_PATH, p.device)\n",
    "\n",
    "jig.train(\n",
    "    train_iterable=datasets.source.processed.train,\n",
    "    source_val_iterable=datasets.source.processed.val,\n",
    "    target_val_iterable=datasets.target.processed.val,\n",
    "    num_epochs=p.n_epoch,\n",
    "    num_logs_per_epoch=p.NUM_LOGS_PER_EPOCH,\n",
    "    patience=p.patience,\n",
    "    optimizer=optimizer,\n",
    "    criteria_for_best=p.criteria_for_best,\n",
    ")"
   ]
  },
  {
   "cell_type": "code",
   "execution_count": 23,
   "id": "31e8fabf",
   "metadata": {
    "execution": {
     "iopub.execute_input": "2022-03-21T02:40:36.403003Z",
     "iopub.status.busy": "2022-03-21T02:40:36.402433Z",
     "iopub.status.idle": "2022-03-21T02:40:36.434520Z",
     "shell.execute_reply": "2022-03-21T02:40:36.433840Z"
    },
    "papermill": {
     "duration": 0.06965,
     "end_time": "2022-03-21T02:40:36.434679",
     "exception": false,
     "start_time": "2022-03-21T02:40:36.365029",
     "status": "completed"
    },
    "tags": []
   },
   "outputs": [],
   "source": [
    "total_experiment_time_secs = time.time() - start_time_secs"
   ]
  },
  {
   "cell_type": "code",
   "execution_count": 24,
   "id": "87b9595b",
   "metadata": {
    "execution": {
     "iopub.execute_input": "2022-03-21T02:40:36.517015Z",
     "iopub.status.busy": "2022-03-21T02:40:36.516127Z",
     "iopub.status.idle": "2022-03-21T02:41:40.555689Z",
     "shell.execute_reply": "2022-03-21T02:41:40.556362Z"
    },
    "papermill": {
     "duration": 64.083752,
     "end_time": "2022-03-21T02:41:40.556592",
     "exception": false,
     "start_time": "2022-03-21T02:40:36.472840",
     "status": "completed"
    },
    "tags": []
   },
   "outputs": [],
   "source": [
    "###################################\n",
    "# Evaluate the model\n",
    "###################################\n",
    "source_test_label_accuracy, source_test_label_loss = jig.test(datasets.source.processed.test)\n",
    "target_test_label_accuracy, target_test_label_loss = jig.test(datasets.target.processed.test)\n",
    "\n",
    "source_val_label_accuracy, source_val_label_loss = jig.test(datasets.source.processed.val)\n",
    "target_val_label_accuracy, target_val_label_loss = jig.test(datasets.target.processed.val)\n",
    "\n",
    "history = jig.get_history()\n",
    "\n",
    "total_epochs_trained = len(history[\"epoch_indices\"])\n",
    "\n",
    "val_dl = Iterable_Aggregator((datasets.source.original.val,datasets.target.original.val))\n",
    "\n",
    "confusion = ptn_confusion_by_domain_over_dataloader(model, p.device, val_dl)\n",
    "per_domain_accuracy = per_domain_accuracy_from_confusion(confusion)\n",
    "\n",
    "# Add a key to per_domain_accuracy for if it was a source domain\n",
    "for domain, accuracy in per_domain_accuracy.items():\n",
    "    per_domain_accuracy[domain] = {\n",
    "        \"accuracy\": accuracy,\n",
    "        \"source?\": domain in p.domains_source\n",
    "    }\n",
    "\n",
    "# Do an independent accuracy assesment JUST TO BE SURE!\n",
    "# _source_test_label_accuracy = independent_accuracy_assesment(model, datasets.source.processed.test, p.device)\n",
    "# _target_test_label_accuracy = independent_accuracy_assesment(model, datasets.target.processed.test, p.device)\n",
    "# _source_val_label_accuracy = independent_accuracy_assesment(model, datasets.source.processed.val, p.device)\n",
    "# _target_val_label_accuracy = independent_accuracy_assesment(model, datasets.target.processed.val, p.device)\n",
    "\n",
    "# assert(_source_test_label_accuracy == source_test_label_accuracy)\n",
    "# assert(_target_test_label_accuracy == target_test_label_accuracy)\n",
    "# assert(_source_val_label_accuracy == source_val_label_accuracy)\n",
    "# assert(_target_val_label_accuracy == target_val_label_accuracy)\n",
    "\n",
    "experiment = {\n",
    "    \"experiment_name\": p.experiment_name,\n",
    "    \"parameters\": dict(p),\n",
    "    \"results\": {\n",
    "        \"source_test_label_accuracy\": source_test_label_accuracy,\n",
    "        \"source_test_label_loss\": source_test_label_loss,\n",
    "        \"target_test_label_accuracy\": target_test_label_accuracy,\n",
    "        \"target_test_label_loss\": target_test_label_loss,\n",
    "        \"source_val_label_accuracy\": source_val_label_accuracy,\n",
    "        \"source_val_label_loss\": source_val_label_loss,\n",
    "        \"target_val_label_accuracy\": target_val_label_accuracy,\n",
    "        \"target_val_label_loss\": target_val_label_loss,\n",
    "        \"total_epochs_trained\": total_epochs_trained,\n",
    "        \"total_experiment_time_secs\": total_experiment_time_secs,\n",
    "        \"confusion\": confusion,\n",
    "        \"per_domain_accuracy\": per_domain_accuracy,\n",
    "    },\n",
    "    \"history\": history,\n",
    "    \"dataset_metrics\": get_dataset_metrics(datasets, \"ptn\"),\n",
    "}"
   ]
  },
  {
   "cell_type": "code",
   "execution_count": 25,
   "id": "54a21829",
   "metadata": {
    "execution": {
     "iopub.execute_input": "2022-03-21T02:41:40.631965Z",
     "iopub.status.busy": "2022-03-21T02:41:40.631583Z",
     "iopub.status.idle": "2022-03-21T02:41:40.837546Z",
     "shell.execute_reply": "2022-03-21T02:41:40.838227Z"
    },
    "papermill": {
     "duration": 0.244457,
     "end_time": "2022-03-21T02:41:40.838434",
     "exception": false,
     "start_time": "2022-03-21T02:41:40.593977",
     "status": "completed"
    },
    "tags": []
   },
   "outputs": [
    {
     "data": {
      "image/png": "[encoded data removed]",
      "text/plain": [
       "<Figure size 1080x504 with 1 Axes>"
      ]
     },
     "metadata": {
      "needs_background": "light"
     },
     "output_type": "display_data"
    }
   ],
   "source": [
    "ax = get_loss_curve(experiment)\n",
    "plt.show()"
   ]
  },
  {
   "cell_type": "code",
   "execution_count": 26,
   "id": "fd8a0f60",
   "metadata": {
    "execution": {
     "iopub.execute_input": "2022-03-21T02:41:40.915400Z",
     "iopub.status.busy": "2022-03-21T02:41:40.914987Z",
     "iopub.status.idle": "2022-03-21T02:41:41.287759Z",
     "shell.execute_reply": "2022-03-21T02:41:41.288434Z"
    },
    "papermill": {
     "duration": 0.412379,
     "end_time": "2022-03-21T02:41:41.288645",
     "exception": false,
     "start_time": "2022-03-21T02:41:40.876266",
     "status": "completed"
    },
    "tags": []
   },
   "outputs": [
    {
     "data": {
      "text/plain": [
       "<AxesSubplot:title={'center':'Results'}>"
      ]
     },
     "execution_count": 26,
     "metadata": {},
     "output_type": "execute_result"
    },
    {
     "data": {
      "image/png": "[encoded data removed]",
      "text/plain": [
       "<Figure size 1080x504 with 1 Axes>"
      ]
     },
     "metadata": {
      "needs_background": "light"
     },
     "output_type": "display_data"
    }
   ],
   "source": [
    "get_results_table(experiment)"
   ]
  },
  {
   "cell_type": "code",
   "execution_count": 27,
   "id": "cf8dc689",
   "metadata": {
    "execution": {
     "iopub.execute_input": "2022-03-21T02:41:41.370358Z",
     "iopub.status.busy": "2022-03-21T02:41:41.369983Z",
     "iopub.status.idle": "2022-03-21T02:41:41.607849Z",
     "shell.execute_reply": "2022-03-21T02:41:41.607088Z"
    },
    "papermill": {
     "duration": 0.278868,
     "end_time": "2022-03-21T02:41:41.608024",
     "exception": false,
     "start_time": "2022-03-21T02:41:41.329156",
     "status": "completed"
    },
    "tags": []
   },
   "outputs": [
    {
     "data": {
      "text/plain": [
       "<AxesSubplot:title={'center':'Per Domain Validation Accuracy'}, xlabel='domain'>"
      ]
     },
     "execution_count": 27,
     "metadata": {},
     "output_type": "execute_result"
    },
    {
     "data": {
      "image/png": "[encoded data removed]",
      "text/plain": [
       "<Figure size 1080x504 with 1 Axes>"
      ]
     },
     "metadata": {
      "needs_background": "light"
     },
     "output_type": "display_data"
    }
   ],
   "source": [
    "get_domain_accuracies(experiment)"
   ]
  },
  {
   "cell_type": "code",
   "execution_count": 28,
   "id": "a74ae082",
   "metadata": {
    "execution": {
     "iopub.execute_input": "2022-03-21T02:41:41.694845Z",
     "iopub.status.busy": "2022-03-21T02:41:41.693995Z",
     "iopub.status.idle": "2022-03-21T02:41:41.722011Z",
     "shell.execute_reply": "2022-03-21T02:41:41.721271Z"
    },
    "papermill": {
     "duration": 0.072185,
     "end_time": "2022-03-21T02:41:41.722178",
     "exception": false,
     "start_time": "2022-03-21T02:41:41.649993",
     "status": "completed"
    },
    "tags": []
   },
   "outputs": [
    {
     "name": "stdout",
     "output_type": "stream",
     "text": [
      "Source Test Label Accuracy: 0.9956896551724138 Target Test Label Accuracy: 0.7386536511156186\n",
      "Source Val Label Accuracy: 0.9969468390804598 Target Val Label Accuracy: 0.7312095905172413\n"
     ]
    }
   ],
   "source": [
    "print(\"Source Test Label Accuracy:\", experiment[\"results\"][\"source_test_label_accuracy\"], \"Target Test Label Accuracy:\", experiment[\"results\"][\"target_test_label_accuracy\"])\n",
    "print(\"Source Val Label Accuracy:\", experiment[\"results\"][\"source_val_label_accuracy\"], \"Target Val Label Accuracy:\", experiment[\"results\"][\"target_val_label_accuracy\"])"
   ]
  },
  {
   "cell_type": "code",
   "execution_count": 29,
   "id": "dacca602",
   "metadata": {
    "execution": {
     "iopub.execute_input": "2022-03-21T02:41:41.806742Z",
     "iopub.status.busy": "2022-03-21T02:41:41.806372Z",
     "iopub.status.idle": "2022-03-21T02:41:41.840579Z",
     "shell.execute_reply": "2022-03-21T02:41:41.841043Z"
    },
    "papermill": {
     "duration": 0.075921,
     "end_time": "2022-03-21T02:41:41.841169",
     "exception": false,
     "start_time": "2022-03-21T02:41:41.765248",
     "status": "completed"
    },
    "tags": [
     "experiment_json"
    ]
   },
   "outputs": [
    {
     "data": {
      "text/plain": [
       "'{\"experiment_name\": \"tl_1v2:cores-wisig\", \"parameters\": {\"experiment_name\": \"tl_1v2:cores-wisig\", \"device\": \"cuda\", \"lr\": 0.0001, \"n_shot\": 3, \"n_query\": 2, \"train_k_factor\": 3, \"val_k_factor\": 2, \"test_k_factor\": 2, \"torch_default_dtype\": \"torch.float32\", \"n_epoch\": 3, \"patience\": 3, \"criteria_for_best\": \"target_accuracy\", \"x_net\": [{\"class\": \"nnReshape\", \"kargs\": {\"shape\": [-1, 1, 2, 256]}}, {\"class\": \"Conv2d\", \"kargs\": {\"in_channels\": 1, \"out_channels\": 256, \"kernel_size\": [1, 7], \"bias\": false, \"padding\": [0, 3]}}, {\"class\": \"ReLU\", \"kargs\": {\"inplace\": true}}, {\"class\": \"BatchNorm2d\", \"kargs\": {\"num_features\": 256}}, {\"class\": \"Conv2d\", \"kargs\": {\"in_channels\": 256, \"out_channels\": 80, \"kernel_size\": [2, 7], \"bias\": true, \"padding\": [0, 3]}}, {\"class\": \"ReLU\", \"kargs\": {\"inplace\": true}}, {\"class\": \"BatchNorm2d\", \"kargs\": {\"num_features\": 80}}, {\"class\": \"Flatten\", \"kargs\": {}}, {\"class\": \"Linear\", \"kargs\": {\"in_features\": 20480, \"out_features\": 256}}, {\"class\": \"ReLU\", \"kargs\": {\"inplace\": true}}, {\"class\": \"BatchNorm1d\", \"kargs\": {\"num_features\": 256}}, {\"class\": \"Linear\", \"kargs\": {\"in_features\": 256, \"out_features\": 256}}], \"NUM_LOGS_PER_EPOCH\": 10, \"BEST_MODEL_PATH\": \"./best_model.pth\", \"n_way\": 58, \"datasets\": [{\"labels\": [\"1-10.\", \"1-11.\", \"1-15.\", \"1-16.\", \"1-17.\", \"1-18.\", \"1-19.\", \"10-4.\", \"10-7.\", \"11-1.\", \"11-14.\", \"11-17.\", \"11-20.\", \"11-7.\", \"13-20.\", \"13-8.\", \"14-10.\", \"14-11.\", \"14-14.\", \"14-7.\", \"15-1.\", \"15-20.\", \"16-1.\", \"16-16.\", \"17-10.\", \"17-11.\", \"17-2.\", \"19-1.\", \"19-16.\", \"19-19.\", \"19-20.\", \"19-3.\", \"2-10.\", \"2-11.\", \"2-17.\", \"2-18.\", \"2-20.\", \"2-3.\", \"2-4.\", \"2-5.\", \"2-6.\", \"2-7.\", \"2-8.\", \"3-13.\", \"3-18.\", \"3-3.\", \"4-1.\", \"4-10.\", \"4-11.\", \"4-19.\", \"5-5.\", \"6-15.\", \"7-10.\", \"7-14.\", \"8-18.\", \"8-20.\", \"8-3.\", \"8-8.\"], \"domains\": [1, 2, 3, 4, 5], \"num_examples_per_domain_per_label\": -1, \"pickle_path\": \"/root/csc500-main/datasets/cores.stratified_ds.2022A.pkl\", \"source_or_target_dataset\": \"source\", \"x_transforms\": [], \"episode_transforms\": [], \"domain_prefix\": \"CORES_\"}, {\"labels\": [\"1-10\", \"1-12\", \"1-14\", \"1-16\", \"1-18\", \"1-19\", \"1-8\", \"10-11\", \"10-17\", \"10-4\", \"10-7\", \"11-1\", \"11-10\", \"11-19\", \"11-20\", \"11-4\", \"11-7\", \"12-19\", \"12-20\", \"12-7\", \"13-14\", \"13-18\", \"13-19\", \"13-20\", \"13-3\", \"13-7\", \"14-10\", \"14-11\", \"14-12\", \"14-13\", \"14-14\", \"14-19\", \"14-20\", \"14-7\", \"14-8\", \"14-9\", \"15-1\", \"15-19\", \"15-6\", \"16-1\", \"16-16\", \"16-19\", \"16-20\", \"17-10\", \"17-11\", \"18-1\", \"18-10\", \"18-11\", \"18-12\", \"18-13\", \"18-14\", \"18-15\", \"18-16\", \"18-17\", \"18-19\", \"18-2\", \"18-20\", \"18-4\", \"18-5\", \"18-7\", \"18-8\", \"18-9\", \"19-1\", \"19-10\", \"19-11\", \"19-12\", \"19-13\", \"19-14\", \"19-15\", \"19-19\", \"19-2\", \"19-20\", \"19-3\", \"19-4\", \"19-6\", \"19-7\", \"19-8\", \"19-9\", \"2-1\", \"2-13\", \"2-15\", \"2-3\", \"2-4\", \"2-5\", \"2-6\", \"2-7\", \"2-8\", \"20-1\", \"20-12\", \"20-14\", \"20-15\", \"20-16\", \"20-18\", \"20-19\", \"20-20\", \"20-3\", \"20-4\", \"20-5\", \"20-7\", \"20-8\", \"3-1\", \"3-13\", \"3-18\", \"3-2\", \"3-8\", \"4-1\", \"4-10\", \"4-11\", \"5-1\", \"5-5\", \"6-1\", \"6-15\", \"6-6\", \"7-10\", \"7-11\", \"7-12\", \"7-13\", \"7-14\", \"7-7\", \"7-8\", \"7-9\", \"8-1\", \"8-13\", \"8-14\", \"8-18\", \"8-20\", \"8-3\", \"8-8\", \"9-1\", \"9-7\"], \"domains\": [1, 2, 3, 4], \"num_examples_per_domain_per_label\": -1, \"pickle_path\": \"/root/csc500-main/datasets/wisig.node3-19.stratified_ds.2022A.pkl\", \"source_or_target_dataset\": \"target\", \"x_transforms\": [], \"episode_transforms\": [], \"domain_prefix\": \"Wisig_\"}], \"dataset_seed\": 420, \"seed\": 420, \"x_shape\": [2, 256], \"domains_source\": [\"CORES_1\", \"CORES_2\", \"CORES_3\", \"CORES_4\", \"CORES_5\"], \"domains_target\": [\"Wisig_1\", \"Wisig_2\", \"Wisig_3\", \"Wisig_4\"]}, \"results\": {\"source_test_label_accuracy\": 0.9956896551724138, \"source_test_label_loss\": 0.022251645103096962, \"target_test_label_accuracy\": 0.7386536511156186, \"target_test_label_loss\": 4.6323113441467285, \"source_val_label_accuracy\": 0.9969468390804598, \"source_val_label_loss\": 0.014925699681043625, \"target_val_label_accuracy\": 0.7312095905172413, \"target_val_label_loss\": 4.876830101013184, \"total_epochs_trained\": 3, \"total_experiment_time_secs\": 155.21376299858093, \"confusion\": {\"CORES_4\": {\"56\": {\"56\": 16}, \"35\": {\"35\": 16}, \"51\": {\"51\": 16}, \"21\": {\"21\": 16}, \"47\": {\"47\": 16}, \"40\": {\"40\": 16}, \"53\": {\"53\": 16}, \"22\": {\"22\": 16}, \"31\": {\"31\": 16}, \"6\": {\"6\": 16}, \"52\": {\"52\": 16}, \"30\": {\"30\": 16}, \"39\": {\"39\": 16}, \"7\": {\"7\": 16}, \"37\": {\"37\": 16}, \"44\": {\"44\": 16}, \"9\": {\"9\": 16}, \"42\": {\"42\": 16}, \"5\": {\"5\": 16}, \"13\": {\"13\": 16}, \"46\": {\"46\": 16}, \"16\": {\"16\": 14, \"15\": 1, \"11\": 1}, \"36\": {\"36\": 16}, \"26\": {\"26\": 16}, \"27\": {\"27\": 16}, \"4\": {\"4\": 16}, \"45\": {\"45\": 16}, \"19\": {\"19\": 16}, \"41\": {\"41\": 16}, \"49\": {\"49\": 16}, \"24\": {\"24\": 16}, \"15\": {\"15\": 15, \"11\": 1}, \"28\": {\"28\": 16}, \"10\": {\"10\": 16}, \"0\": {\"0\": 16}, \"3\": {\"3\": 16}, \"8\": {\"8\": 16}, \"20\": {\"20\": 16}, \"55\": {\"55\": 16}, \"32\": {\"32\": 16}, \"38\": {\"38\": 16}, \"54\": {\"54\": 16}, \"48\": {\"48\": 16}, \"33\": {\"33\": 16}, \"43\": {\"43\": 16}, \"23\": {\"23\": 16}, \"29\": {\"29\": 16}, \"12\": {\"12\": 16}, \"18\": {\"18\": 16}, \"25\": {\"25\": 16}, \"34\": {\"34\": 16}, \"11\": {\"11\": 13, \"15\": 3}, \"1\": {\"1\": 16}, \"57\": {\"57\": 16}, \"2\": {\"2\": 16}, \"14\": {\"14\": 15, \"2\": 1}, \"17\": {\"17\": 16}, \"50\": {\"50\": 15, \"3\": 1}}, \"CORES_5\": {\"55\": {\"55\": 20}, \"28\": {\"28\": 20}, \"21\": {\"21\": 20}, \"53\": {\"53\": 20}, \"2\": {\"2\": 20}, \"0\": {\"0\": 20}, \"7\": {\"7\": 20}, \"19\": {\"19\": 20}, \"25\": {\"25\": 20}, \"45\": {\"45\": 20}, \"57\": {\"57\": 20}, \"42\": {\"42\": 20}, \"5\": {\"5\": 20}, \"16\": {\"16\": 20}, \"26\": {\"26\": 20}, \"32\": {\"32\": 20}, \"15\": {\"15\": 19, \"11\": 1}, \"30\": {\"30\": 20}, \"3\": {\"3\": 20}, \"35\": {\"35\": 20}, \"14\": {\"14\": 20}, \"8\": {\"8\": 20}, \"56\": {\"56\": 20}, \"50\": {\"50\": 20}, \"31\": {\"31\": 20}, \"52\": {\"52\": 20}, \"1\": {\"1\": 20}, \"44\": {\"44\": 20}, \"39\": {\"39\": 20}, \"27\": {\"27\": 20}, \"17\": {\"17\": 20}, \"41\": {\"41\": 20}, \"40\": {\"40\": 20}, \"48\": {\"48\": 20}, \"22\": {\"22\": 20}, \"6\": {\"6\": 20}, \"11\": {\"11\": 20}, \"12\": {\"12\": 20}, \"49\": {\"49\": 20}, \"34\": {\"34\": 20}, \"37\": {\"37\": 20}, \"24\": {\"24\": 20}, \"33\": {\"33\": 20}, \"47\": {\"47\": 20}, \"23\": {\"23\": 20}, \"13\": {\"13\": 20}, \"29\": {\"29\": 20}, \"46\": {\"46\": 20}, \"38\": {\"38\": 20}, \"18\": {\"18\": 20}, \"9\": {\"9\": 20}, \"36\": {\"36\": 20}, \"51\": {\"51\": 20}, \"54\": {\"54\": 20}, \"43\": {\"43\": 20}, \"10\": {\"10\": 20}, \"4\": {\"4\": 20}, \"20\": {\"20\": 20}}, \"CORES_2\": {\"43\": {\"43\": 20}, \"52\": {\"52\": 20}, \"9\": {\"9\": 20}, \"49\": {\"49\": 20}, \"27\": {\"27\": 20}, \"4\": {\"4\": 20}, \"31\": {\"31\": 20}, \"47\": {\"47\": 20}, \"21\": {\"21\": 20}, \"0\": {\"0\": 20}, \"16\": {\"16\": 20}, \"51\": {\"51\": 20}, \"3\": {\"3\": 19, \"6\": 1}, \"50\": {\"50\": 20}, \"40\": {\"9\": 1, \"40\": 19}, \"55\": {\"55\": 20}, \"12\": {\"12\": 20}, \"45\": {\"45\": 20}, \"7\": {\"7\": 20}, \"28\": {\"28\": 20}, \"33\": {\"33\": 20}, \"38\": {\"38\": 20}, \"44\": {\"44\": 20}, \"15\": {\"15\": 20}, \"25\": {\"25\": 20}, \"11\": {\"11\": 20}, \"57\": {\"57\": 20}, \"34\": {\"34\": 20}, \"14\": {\"14\": 20}, \"32\": {\"32\": 20}, \"18\": {\"18\": 20}, \"42\": {\"42\": 20}, \"8\": {\"8\": 20}, \"48\": {\"48\": 20}, \"24\": {\"24\": 20}, \"30\": {\"30\": 20}, \"10\": {\"10\": 20}, \"36\": {\"36\": 20}, \"35\": {\"35\": 20}, \"56\": {\"56\": 20}, \"41\": {\"41\": 19, \"30\": 1}, \"53\": {\"53\": 20}, \"37\": {\"37\": 20}, \"20\": {\"20\": 20}, \"17\": {\"17\": 20}, \"13\": {\"13\": 20}, \"46\": {\"46\": 20}, \"22\": {\"22\": 20}, \"1\": {\"1\": 20}, \"6\": {\"6\": 20}, \"26\": {\"26\": 20}, \"23\": {\"23\": 20}, \"19\": {\"19\": 20}, \"29\": {\"29\": 20}, \"2\": {\"2\": 20}, \"54\": {\"54\": 20}, \"5\": {\"5\": 20}, \"39\": {\"39\": 20}}, \"CORES_1\": {\"42\": {\"42\": 23, \"55\": 1}, \"6\": {\"6\": 24}, \"25\": {\"25\": 24}, \"17\": {\"17\": 24}, \"23\": {\"23\": 24}, \"13\": {\"13\": 24}, \"34\": {\"34\": 24}, \"53\": {\"53\": 24}, \"27\": {\"27\": 24}, \"48\": {\"48\": 24}, \"51\": {\"51\": 24}, \"49\": {\"49\": 24}, \"3\": {\"3\": 24}, \"2\": {\"2\": 24}, \"28\": {\"28\": 24}, \"26\": {\"26\": 24}, \"30\": {\"30\": 24}, \"37\": {\"37\": 24}, \"35\": {\"35\": 24}, \"56\": {\"56\": 24}, \"31\": {\"31\": 24}, \"11\": {\"11\": 24}, \"45\": {\"45\": 24}, \"38\": {\"38\": 24}, \"54\": {\"54\": 24}, \"4\": {\"4\": 24}, \"57\": {\"57\": 24}, \"24\": {\"24\": 24}, \"33\": {\"33\": 24}, \"32\": {\"32\": 24}, \"55\": {\"55\": 24}, \"12\": {\"12\": 24}, \"8\": {\"8\": 24}, \"22\": {\"22\": 23, \"21\": 1}, \"29\": {\"29\": 24}, \"10\": {\"10\": 24}, \"18\": {\"18\": 24}, \"7\": {\"7\": 24}, \"52\": {\"52\": 24}, \"16\": {\"16\": 24}, \"36\": {\"36\": 24}, \"39\": {\"39\": 24}, \"44\": {\"44\": 24}, \"19\": {\"19\": 24}, \"1\": {\"1\": 24}, \"41\": {\"41\": 24}, \"46\": {\"46\": 24}, \"14\": {\"14\": 24}, \"0\": {\"0\": 24}, \"15\": {\"15\": 24}, \"47\": {\"47\": 24}, \"43\": {\"43\": 24}, \"50\": {\"50\": 24}, \"21\": {\"21\": 24}, \"20\": {\"20\": 24}, \"9\": {\"9\": 24}, \"5\": {\"5\": 24}, \"40\": {\"40\": 24}}, \"CORES_3\": {\"18\": {\"18\": 16}, \"29\": {\"29\": 16}, \"3\": {\"3\": 16}, \"39\": {\"39\": 16}, \"12\": {\"12\": 16}, \"33\": {\"33\": 16}, \"5\": {\"5\": 16}, \"9\": {\"9\": 15, \"33\": 1}, \"57\": {\"57\": 16}, \"30\": {\"30\": 16}, \"23\": {\"23\": 16}, \"40\": {\"40\": 16}, \"15\": {\"15\": 16}, \"16\": {\"16\": 16}, \"43\": {\"43\": 16}, \"13\": {\"13\": 16}, \"38\": {\"38\": 16}, \"56\": {\"56\": 16}, \"50\": {\"50\": 15, \"21\": 1}, \"7\": {\"7\": 16}, \"11\": {\"11\": 16}, \"41\": {\"41\": 16}, \"42\": {\"42\": 16}, \"14\": {\"14\": 16}, \"28\": {\"28\": 16}, \"1\": {\"1\": 16}, \"17\": {\"17\": 16}, \"35\": {\"35\": 16}, \"10\": {\"10\": 16}, \"52\": {\"52\": 16}, \"46\": {\"46\": 16}, \"19\": {\"19\": 16}, \"24\": {\"24\": 16}, \"54\": {\"54\": 16}, \"4\": {\"4\": 16}, \"21\": {\"21\": 16}, \"8\": {\"8\": 16}, \"31\": {\"31\": 16}, \"47\": {\"47\": 16}, \"26\": {\"26\": 16}, \"2\": {\"2\": 16}, \"51\": {\"51\": 16}, \"22\": {\"22\": 16}, \"49\": {\"49\": 16}, \"0\": {\"0\": 16}, \"37\": {\"37\": 16}, \"45\": {\"45\": 15, \"6\": 1}, \"6\": {\"6\": 16}, \"36\": {\"36\": 16}, \"20\": {\"20\": 16}, \"25\": {\"25\": 16}, \"53\": {\"53\": 16}, \"55\": {\"55\": 16}, \"32\": {\"32\": 16}, \"34\": {\"34\": 16}, \"27\": {\"27\": 16}, \"44\": {\"44\": 16}, \"48\": {\"48\": 16}}, \"Wisig_3\": {\"10\": {\"10\": 31, \"122\": 2, \"0\": 2, \"87\": 1}, \"120\": {\"120\": 14, \"98\": 2, \"102\": 2, \"121\": 2}, \"111\": {\"111\": 37, \"70\": 1, \"68\": 1, \"15\": 1, \"124\": 1, \"6\": 1}, \"54\": {\"54\": 11, \"58\": 1, \"59\": 2, \"25\": 2}, \"39\": {\"39\": 39, \"126\": 5}, \"77\": {\"77\": 16}, \"51\": {\"106\": 5, \"15\": 1, \"51\": 6, \"75\": 3, \"12\": 1}, \"85\": {\"85\": 28, \"83\": 3, \"98\": 1, \"129\": 1, \"46\": 1, \"112\": 2}, \"53\": {\"5\": 1, \"53\": 10, \"19\": 1, \"20\": 5, \"46\": 1, \"48\": 1, \"129\": 1}, \"29\": {\"29\": 30, \"116\": 1, \"90\": 1}, \"32\": {\"114\": 7, \"32\": 7, \"59\": 1, \"57\": 1, \"107\": 2, \"28\": 2, \"1\": 1, \"9\": 3, \"44\": 2, \"40\": 4, \"33\": 1, \"105\": 1}, \"37\": {\"37\": 15, \"75\": 1}, \"30\": {\"30\": 33, \"49\": 2, \"94\": 4, \"8\": 4, \"15\": 1}, \"116\": {\"116\": 23, \"102\": 1, \"29\": 1, \"64\": 2, \"117\": 1}, \"80\": {\"80\": 13, \"54\": 1, \"123\": 2}, \"13\": {\"13\": 10, \"21\": 2, \"117\": 2, \"102\": 1, \"109\": 1}, \"41\": {\"77\": 5, \"41\": 10, \"91\": 1}, \"95\": {\"95\": 30, \"7\": 2}, \"100\": {\"33\": 1, \"20\": 1, \"100\": 14}, \"45\": {\"45\": 12, \"82\": 1, \"100\": 1, \"20\": 1, \"46\": 1}, \"89\": {\"89\": 19, \"45\": 2, \"120\": 2, \"82\": 3, \"32\": 1, \"84\": 1}, \"76\": {\"76\": 15, \"62\": 1}, \"113\": {\"113\": 35, \"126\": 2, \"26\": 1}, \"81\": {\"61\": 3, \"81\": 23, \"18\": 4}, \"79\": {\"79\": 12}, \"33\": {\"33\": 35, \"44\": 1}, \"1\": {\"1\": 17, \"114\": 8, \"107\": 5, \"71\": 2, \"3\": 1, \"60\": 1}, \"5\": {\"5\": 29, \"129\": 6, \"112\": 1}, \"63\": {\"63\": 14, \"123\": 2}, \"47\": {\"47\": 10, \"61\": 1, \"121\": 1}, \"122\": {\"122\": 23, \"110\": 4, \"87\": 4, \"113\": 1}, \"21\": {\"21\": 42, \"70\": 1, \"39\": 1}, \"15\": {\"15\": 37, \"94\": 3, \"106\": 4}, \"50\": {\"50\": 16}, \"62\": {\"62\": 38}, \"56\": {\"56\": 11, \"9\": 1}, \"66\": {\"66\": 10, \"115\": 1, \"56\": 3, \"35\": 2}, \"52\": {\"52\": 13, \"73\": 2, \"19\": 1}, \"93\": {\"93\": 38, \"16\": 5, \"96\": 1, \"87\": 1, \"43\": 1}, \"128\": {\"128\": 18, \"28\": 3, \"53\": 1, \"47\": 2, \"34\": 3, \"114\": 3, \"1\": 1, \"100\": 1}, \"99\": {\"99\": 19, \"32\": 1, \"127\": 5, \"3\": 3, \"71\": 2, \"34\": 1, \"40\": 2, \"41\": 1}, \"110\": {\"110\": 38, \"87\": 2, \"60\": 1, \"122\": 3, \"8\": 1, \"92\": 1}, \"114\": {\"114\": 32, \"1\": 7, \"21\": 1, \"107\": 1, \"111\": 1, \"61\": 1, \"71\": 1}, \"90\": {\"90\": 36}, \"105\": {\"105\": 34, \"40\": 7, \"99\": 1}, \"115\": {\"115\": 10, \"45\": 1, \"48\": 2, \"116\": 1, \"100\": 1, \"86\": 1}, \"22\": {\"22\": 16}, \"61\": {\"61\": 16}, \"84\": {\"122\": 2, \"84\": 30, \"14\": 2}, \"48\": {\"48\": 2, \"79\": 2, \"119\": 4, \"55\": 1, \"123\": 2, \"66\": 1, \"13\": 1, \"41\": 1, \"57\": 1, \"67\": 1}, \"98\": {\"98\": 39, \"46\": 2, \"19\": 1, \"77\": 2}, \"106\": {\"106\": 36, \"94\": 5, \"15\": 4, \"97\": 1}, \"83\": {\"83\": 19, \"21\": 2, \"36\": 1, \"126\": 1, \"85\": 1}, \"8\": {\"8\": 32, \"30\": 1, \"70\": 1}, \"58\": {\"58\": 14, \"75\": 1, \"106\": 1}, \"70\": {\"70\": 29, \"21\": 3, \"78\": 2, \"88\": 5, \"27\": 2, \"24\": 1, \"43\": 1, \"39\": 1, \"108\": 2}, \"43\": {\"43\": 32, \"16\": 1, \"113\": 4, \"21\": 2, \"11\": 6, \"118\": 3, \"39\": 1, \"109\": 1}, \"20\": {\"20\": 10, \"93\": 1, \"45\": 1, \"31\": 1, \"49\": 1, \"108\": 1, \"114\": 1}, \"14\": {\"14\": 33, \"69\": 1, \"84\": 5, \"1\": 1}, \"46\": {\"46\": 6, \"98\": 3, \"103\": 3, \"19\": 3, \"91\": 1}, \"18\": {\"18\": 43, \"26\": 1}, \"38\": {\"38\": 14, \"76\": 1, \"92\": 1}, \"59\": {\"59\": 12}, \"35\": {\"35\": 9, \"51\": 2, \"125\": 1}, \"57\": {\"55\": 2, \"57\": 10, \"104\": 1, \"125\": 1, \"89\": 1, \"22\": 1, \"32\": 2, \"38\": 2}, \"102\": {\"102\": 34, \"117\": 5, \"2\": 3, \"116\": 2}, \"28\": {\"28\": 13, \"29\": 1, \"32\": 1, \"48\": 1}, \"6\": {\"6\": 23, \"111\": 4, \"68\": 2, \"73\": 3}, \"3\": {\"3\": 25, \"71\": 9, \"14\": 1, \"6\": 1, \"1\": 5, \"21\": 1}, \"88\": {\"108\": 1, \"88\": 31, \"70\": 3, \"21\": 7, \"113\": 1, \"39\": 1}, \"25\": {\"25\": 14, \"6\": 1, \"54\": 1}, \"60\": {\"60\": 19, \"122\": 3, \"23\": 2, \"110\": 3, \"49\": 1}, \"87\": {\"87\": 36, \"21\": 2, \"43\": 2, \"122\": 3, \"16\": 2, \"39\": 1}, \"19\": {\"73\": 1, \"98\": 6, \"46\": 2, \"45\": 2, \"1\": 1, \"91\": 1, \"29\": 1, \"19\": 8, \"128\": 1, \"114\": 3, \"69\": 2, \"53\": 2, \"121\": 1, \"82\": 1}, \"124\": {\"90\": 2, \"124\": 30, \"85\": 1, \"42\": 3, \"73\": 3, \"111\": 1}, \"0\": {\"0\": 32, \"101\": 2, \"127\": 2}, \"16\": {\"16\": 24, \"23\": 1, \"21\": 1, \"93\": 3, \"43\": 1}, \"40\": {\"105\": 12, \"40\": 30, \"32\": 1, \"62\": 1, \"21\": 1, \"14\": 1}, \"24\": {\"24\": 18, \"108\": 1, \"36\": 8, \"21\": 2, \"27\": 12, \"39\": 1}, \"49\": {\"8\": 3, \"6\": 1, \"31\": 4, \"110\": 2, \"93\": 1, \"49\": 6, \"30\": 4, \"94\": 1, \"53\": 1, \"111\": 1}, \"23\": {\"18\": 12, \"122\": 3, \"110\": 5, \"81\": 1, \"101\": 1, \"23\": 6, \"12\": 2, \"126\": 1, \"8\": 1}, \"108\": {\"108\": 39, \"70\": 3}, \"97\": {\"15\": 3, \"30\": 1, \"97\": 15, \"94\": 1}, \"103\": {\"79\": 1, \"103\": 12, \"5\": 1, \"45\": 1, \"98\": 1}, \"96\": {\"96\": 16, \"93\": 4}, \"73\": {\"98\": 2, \"124\": 6, \"73\": 16, \"77\": 1, \"111\": 5, \"39\": 1, \"52\": 3, \"91\": 1, \"92\": 1}, \"11\": {\"11\": 27, \"43\": 5}, \"55\": {\"55\": 12, \"9\": 2, \"50\": 1, \"32\": 1}, \"82\": {\"82\": 27, \"92\": 1}, \"86\": {\"86\": 20, \"41\": 1, \"88\": 1, \"17\": 1, \"124\": 1, \"5\": 2, \"91\": 1, \"19\": 1}, \"12\": {\"12\": 37, \"97\": 3, \"106\": 2}, \"64\": {\"64\": 16, \"2\": 1, \"121\": 3}, \"31\": {\"31\": 15, \"90\": 1, \"93\": 1, \"70\": 1, \"20\": 1, \"23\": 1}, \"127\": {\"127\": 33, \"40\": 1, \"88\": 1, \"105\": 1}, \"123\": {\"123\": 15, \"63\": 1}, \"4\": {\"4\": 32, \"125\": 1, \"124\": 2, \"43\": 1}, \"101\": {\"0\": 2, \"101\": 28, \"12\": 1, \"70\": 3}, \"121\": {\"121\": 21, \"81\": 4, \"89\": 1, \"78\": 1, \"120\": 2, \"64\": 1}, \"67\": {\"67\": 14, \"117\": 2}, \"92\": {\"92\": 27, \"39\": 1, \"120\": 2, \"82\": 1, \"90\": 1}, \"119\": {\"119\": 13, \"2\": 1, \"123\": 1, \"80\": 1}, \"9\": {\"9\": 25, \"7\": 1}, \"112\": {\"112\": 10, \"85\": 3, \"124\": 1, \"25\": 1, \"42\": 1}, \"2\": {\"117\": 2, \"61\": 3, \"2\": 10, \"81\": 3, \"120\": 2, \"29\": 1, \"102\": 2, \"13\": 2, \"67\": 1, \"64\": 1, \"17\": 1}, \"117\": {\"117\": 24, \"121\": 3, \"13\": 2, \"64\": 1, \"102\": 3, \"2\": 4, \"81\": 1}, \"125\": {\"125\": 35, \"92\": 1}, \"75\": {\"75\": 16}, \"104\": {\"104\": 12, \"38\": 2, \"55\": 2}, \"78\": {\"70\": 5, \"78\": 9, \"39\": 1, \"43\": 1}, \"68\": {\"68\": 16}, \"118\": {\"118\": 30, \"69\": 1, \"43\": 1, \"109\": 2}, \"72\": {\"72\": 26, \"34\": 1, \"99\": 1}, \"36\": {\"36\": 26, \"24\": 3, \"27\": 6, \"108\": 1}, \"26\": {\"26\": 41, \"113\": 1}, \"34\": {\"99\": 2, \"75\": 2, \"107\": 6, \"3\": 5, \"106\": 4, \"72\": 2, \"32\": 2, \"34\": 4, \"71\": 1, \"40\": 1, \"28\": 1}, \"69\": {\"69\": 30, \"84\": 5, \"70\": 1}, \"65\": {\"9\": 1, \"55\": 1, \"65\": 8, \"35\": 2}, \"109\": {\"109\": 34, \"100\": 1, \"118\": 1}, \"107\": {\"107\": 26, \"1\": 1, \"3\": 1, \"32\": 1, \"114\": 3}, \"7\": {\"7\": 36, \"35\": 2}, \"94\": {\"97\": 5, \"15\": 8, \"94\": 20, \"30\": 2, \"106\": 2, \"88\": 1}, \"27\": {\"36\": 10, \"27\": 19, \"24\": 9, \"108\": 3, \"70\": 1}, \"42\": {\"42\": 12, \"52\": 1, \"124\": 6, \"73\": 5, \"85\": 2, \"129\": 2}, \"91\": {\"21\": 1, \"125\": 1, \"91\": 18, \"120\": 1, \"32\": 1, \"33\": 1, \"19\": 1}, \"71\": {\"71\": 34, \"21\": 1, \"3\": 6, \"1\": 4, \"88\": 1}, \"126\": {\"126\": 23, \"39\": 1}, \"17\": {\"21\": 4, \"17\": 7, \"119\": 2, \"67\": 2, \"39\": 1}, \"74\": {\"74\": 14, \"57\": 2}, \"44\": {\"44\": 29, \"20\": 1}, \"129\": {\"129\": 21, \"29\": 1, \"98\": 1, \"85\": 1, \"90\": 1, \"102\": 1, \"116\": 2, \"83\": 1, \"5\": 1}}, \"Wisig_2\": {\"80\": {\"80\": 14, \"115\": 2}, \"85\": {\"85\": 23, \"112\": 4, \"45\": 1, \"5\": 1, \"128\": 1, \"129\": 1, \"73\": 1}, \"100\": {\"100\": 11, \"1\": 1, \"33\": 1, \"19\": 1, \"73\": 1, \"83\": 1}, \"129\": {\"129\": 22, \"98\": 1, \"124\": 2, \"5\": 3, \"85\": 2, \"42\": 1, \"46\": 1}, \"82\": {\"82\": 31, \"21\": 2, \"61\": 1, \"45\": 1, \"83\": 1}, \"112\": {\"112\": 6, \"85\": 1, \"45\": 2, \"29\": 1, \"98\": 4, \"59\": 1, \"53\": 1}, \"125\": {\"125\": 48}, \"89\": {\"89\": 15, \"92\": 4, \"107\": 1, \"61\": 2, \"117\": 1, \"76\": 3, \"82\": 3, \"38\": 1, \"31\": 1, \"84\": 1, \"33\": 1, \"69\": 1}, \"10\": {\"10\": 33, \"110\": 2, \"21\": 2, \"62\": 1, \"105\": 4, \"118\": 2, \"30\": 1, \"39\": 1}, \"63\": {\"63\": 20}, \"83\": {\"83\": 34, \"100\": 1, \"82\": 1, \"90\": 2, \"44\": 1, \"73\": 1}, \"28\": {\"28\": 12, \"114\": 2, \"53\": 2, \"129\": 1, \"19\": 1, \"73\": 2}, \"117\": {\"117\": 35, \"65\": 6, \"2\": 1}, \"49\": {\"49\": 7, \"128\": 2, \"51\": 1, \"114\": 3, \"53\": 2, \"34\": 1, \"94\": 2, \"19\": 3, \"39\": 1, \"106\": 1, \"25\": 1}, \"71\": {\"71\": 35, \"3\": 5, \"114\": 1, \"84\": 1}, \"62\": {\"62\": 38, \"75\": 1, \"105\": 4, \"88\": 1}, \"99\": {\"99\": 29, \"65\": 1, \"83\": 1, \"39\": 1}, \"108\": {\"108\": 44, \"11\": 2, \"24\": 1, \"126\": 1}, \"120\": {\"120\": 15, \"21\": 1, \"121\": 3, \"57\": 1}, \"9\": {\"9\": 25, \"58\": 1}, \"73\": {\"73\": 18, \"123\": 1, \"85\": 3, \"125\": 1, \"21\": 1, \"44\": 1, \"19\": 2, \"98\": 1}, \"7\": {\"40\": 1, \"105\": 4, \"7\": 31, \"21\": 2}, \"1\": {\"1\": 34, \"3\": 5, \"11\": 1, \"71\": 2, \"33\": 3, \"14\": 1, \"88\": 1, \"84\": 1}, \"123\": {\"123\": 8, \"19\": 3, \"116\": 1, \"119\": 2, \"90\": 1, \"45\": 1}, \"97\": {\"125\": 1, \"15\": 3, \"30\": 1, \"101\": 2, \"94\": 1, \"97\": 9, \"127\": 1, \"82\": 1, \"0\": 1}, \"114\": {\"114\": 42}, \"48\": {\"48\": 20}, \"115\": {\"115\": 11, \"4\": 1}, \"13\": {\"48\": 6, \"13\": 4, \"109\": 1, \"80\": 2, \"88\": 2, \"102\": 1}, \"66\": {\"92\": 1, \"66\": 13, \"76\": 1, \"64\": 3, \"32\": 1, \"28\": 1}, \"53\": {\"53\": 16}, \"40\": {\"40\": 33, \"95\": 4, \"62\": 1, \"32\": 1, \"105\": 3}, \"33\": {\"33\": 50, \"84\": 1, \"1\": 1}, \"27\": {\"27\": 34, \"21\": 2, \"36\": 5, \"108\": 1}, \"101\": {\"101\": 29, \"127\": 2, \"0\": 1}, \"95\": {\"40\": 8, \"109\": 1, \"95\": 23, \"7\": 2, \"32\": 2}, \"34\": {\"34\": 17, \"49\": 1, \"56\": 2, \"52\": 1, \"97\": 1, \"61\": 1, \"32\": 4, \"71\": 1, \"128\": 1, \"127\": 1, \"15\": 1, \"98\": 1}, \"105\": {\"105\": 36, \"62\": 1, \"7\": 1}, \"122\": {\"7\": 1, \"11\": 2, \"110\": 1, \"8\": 7, \"23\": 3, \"122\": 22, \"30\": 1, \"43\": 2, \"12\": 1}, \"127\": {\"127\": 40, \"83\": 1, \"12\": 3}, \"0\": {\"0\": 34, \"127\": 1, \"122\": 1, \"39\": 1, \"15\": 1, \"30\": 4, \"97\": 2, \"12\": 1, \"88\": 1}, \"74\": {\"74\": 12, \"95\": 2, \"7\": 2}, \"116\": {\"116\": 16, \"48\": 1, \"13\": 1, \"119\": 4, \"46\": 4, \"21\": 1, \"102\": 1}, \"78\": {\"78\": 22, \"109\": 10, \"70\": 5, \"87\": 2, \"88\": 2, \"39\": 1, \"21\": 2}, \"68\": {\"68\": 11, \"54\": 1, \"24\": 1, \"117\": 1, \"126\": 1, \"128\": 1}, \"18\": {\"18\": 28, \"26\": 6, \"21\": 1, \"113\": 1}, \"15\": {\"15\": 36, \"0\": 2, \"106\": 3, \"30\": 1, \"27\": 1, \"94\": 1, \"21\": 2}, \"26\": {\"18\": 5, \"26\": 32, \"21\": 1, \"69\": 1, \"23\": 1}, \"50\": {\"125\": 1, \"50\": 12, \"55\": 2, \"6\": 1}, \"92\": {\"62\": 1, \"89\": 4, \"64\": 1, \"21\": 1, \"31\": 1, \"92\": 13, \"76\": 1, \"95\": 1, \"38\": 2, \"33\": 1, \"39\": 1, \"32\": 1}, \"56\": {\"56\": 7, \"51\": 2, \"107\": 1, \"35\": 1, \"114\": 1}, \"75\": {\"49\": 2, \"75\": 12, \"106\": 1, \"52\": 1}, \"37\": {\"37\": 11, \"28\": 1, \"66\": 1, \"4\": 1, \"85\": 1, \"86\": 1}, \"3\": {\"3\": 27, \"71\": 9, \"84\": 1, \"1\": 2, \"60\": 1}, \"118\": {\"118\": 43, \"62\": 4, \"43\": 3, \"109\": 1, \"88\": 1}, \"11\": {\"11\": 29, \"8\": 9, \"108\": 2, \"122\": 1, \"94\": 1, \"88\": 1, \"21\": 1}, \"17\": {\"17\": 7, \"21\": 1, \"86\": 4, \"91\": 2, \"111\": 1, \"4\": 1}, \"94\": {\"94\": 27, \"21\": 1, \"15\": 5, \"108\": 1, \"36\": 5, \"106\": 3, \"27\": 2, \"59\": 1, \"39\": 1, \"88\": 1, \"8\": 1}, \"54\": {\"51\": 1, \"56\": 1, \"34\": 3, \"54\": 12, \"101\": 1, \"78\": 1, \"107\": 1}, \"109\": {\"70\": 8, \"109\": 28, \"39\": 5, \"88\": 2, \"78\": 6, \"87\": 2, \"21\": 1}, \"128\": {\"106\": 1, \"56\": 2, \"82\": 1, \"83\": 1, \"44\": 2, \"128\": 7, \"34\": 1, \"29\": 1, \"9\": 2, \"47\": 1, \"19\": 4, \"75\": 1}, \"22\": {\"22\": 18, \"66\": 1, \"21\": 1}, \"57\": {\"57\": 20}, \"103\": {\"103\": 9, \"91\": 3, \"55\": 1, \"77\": 2, \"29\": 1}, \"70\": {\"70\": 22, \"11\": 1, \"21\": 1, \"78\": 4, \"109\": 6, \"39\": 6, \"88\": 1, \"2\": 1}, \"72\": {\"72\": 16, \"93\": 2, \"69\": 2, \"26\": 1, \"16\": 1, \"33\": 2, \"1\": 1, \"18\": 1, \"96\": 2}, \"77\": {\"77\": 15, \"58\": 1}, \"2\": {\"2\": 14, \"120\": 3, \"48\": 3, \"116\": 2, \"117\": 4, \"102\": 1, \"121\": 3, \"13\": 1, \"99\": 1}, \"20\": {\"126\": 1, \"20\": 9, \"57\": 2, \"72\": 1, \"82\": 1, \"90\": 2}, \"51\": {\"58\": 1, \"75\": 3, \"9\": 1, \"51\": 9, \"21\": 1, \"15\": 2, \"52\": 1, \"59\": 1, \"34\": 1}, \"58\": {\"58\": 11, \"77\": 1, \"9\": 5, \"6\": 1, \"51\": 2}, \"52\": {\"52\": 13, \"29\": 4, \"51\": 1, \"59\": 1, \"128\": 1}, \"106\": {\"15\": 7, \"106\": 18, \"16\": 1, \"101\": 2}, \"5\": {\"5\": 31, \"129\": 3, \"88\": 1, \"124\": 3, \"85\": 1, \"73\": 1}, \"8\": {\"8\": 36, \"21\": 1, \"11\": 1, \"122\": 3, \"23\": 1}, \"6\": {\"6\": 27, \"111\": 3, \"25\": 1, \"41\": 1}, \"44\": {\"44\": 34, \"123\": 1, \"83\": 1}, \"41\": {\"41\": 8, \"111\": 3, \"59\": 1, \"91\": 2, \"52\": 1, \"124\": 4, \"98\": 1}, \"110\": {\"8\": 5, \"110\": 20, \"54\": 1, \"14\": 1, \"122\": 6, \"21\": 2, \"2\": 1, \"23\": 2, \"43\": 2}, \"16\": {\"16\": 25, \"23\": 2, \"93\": 10, \"96\": 5, \"21\": 2}, \"45\": {\"45\": 6, \"82\": 2, \"73\": 6, \"51\": 1, \"123\": 1}, \"107\": {\"3\": 3, \"127\": 5, \"55\": 1, \"107\": 16, \"24\": 2, \"71\": 3, \"32\": 6, \"14\": 4, \"94\": 1, \"40\": 1, \"61\": 1, \"78\": 1, \"95\": 1, \"88\": 2, \"9\": 1}, \"126\": {\"126\": 31, \"39\": 1, \"11\": 1, \"88\": 2, \"21\": 1}, \"87\": {\"87\": 27, \"21\": 3, \"93\": 3, \"96\": 2, \"16\": 1}, \"19\": {\"19\": 21, \"98\": 1, \"47\": 1, \"82\": 2, \"100\": 1, \"37\": 1, \"44\": 1}, \"84\": {\"84\": 37, \"1\": 1, \"21\": 3, \"24\": 1}, \"98\": {\"98\": 49, \"90\": 1}, \"4\": {\"4\": 39, \"129\": 1, \"59\": 1, \"88\": 1, \"21\": 2, \"111\": 1, \"124\": 1}, \"111\": {\"111\": 38, \"6\": 1, \"59\": 1}, \"36\": {\"36\": 34, \"21\": 3, \"88\": 1, \"27\": 4, \"94\": 2}, \"91\": {\"41\": 6, \"109\": 1, \"91\": 15, \"66\": 1, \"98\": 1, \"54\": 1, \"110\": 1, \"86\": 1, \"111\": 1}, \"39\": {\"109\": 19, \"39\": 25, \"87\": 2, \"70\": 1, \"21\": 1}, \"21\": {\"21\": 39, \"88\": 1}, \"76\": {\"76\": 15, \"92\": 1}, \"12\": {\"12\": 27, \"127\": 6, \"21\": 1, \"30\": 2, \"0\": 2, \"10\": 1, \"88\": 1}, \"119\": {\"119\": 15, \"48\": 1, \"90\": 1, \"13\": 2, \"6\": 1}, \"102\": {\"102\": 34}, \"113\": {\"113\": 33, \"87\": 1, \"24\": 1, \"118\": 1}, \"46\": {\"46\": 14, \"116\": 1, \"45\": 1}, \"88\": {\"88\": 38, \"21\": 3, \"70\": 1, \"126\": 1, \"39\": 4, \"24\": 1}, \"24\": {\"24\": 24, \"110\": 1, \"126\": 3, \"39\": 1, \"36\": 1, \"27\": 3, \"88\": 4, \"70\": 1, \"108\": 1, \"21\": 1}, \"31\": {\"31\": 19, \"92\": 1}, \"81\": {\"81\": 19, \"26\": 1, \"120\": 1, \"90\": 1, \"69\": 1, \"18\": 1}, \"30\": {\"30\": 25, \"97\": 1, \"12\": 3, \"0\": 6, \"15\": 1}, \"55\": {\"55\": 11, \"92\": 2, \"61\": 1, \"76\": 2}, \"86\": {\"86\": 28, \"77\": 1, \"52\": 1, \"91\": 2}, \"43\": {\"43\": 31, \"88\": 1, \"122\": 1, \"87\": 2, \"16\": 1, \"110\": 1, \"118\": 1}, \"64\": {\"92\": 1, \"64\": 14, \"67\": 1}, \"59\": {\"59\": 6, \"21\": 5, \"111\": 4, \"88\": 1}, \"29\": {\"29\": 28, \"52\": 2, \"86\": 1, \"41\": 1}, \"32\": {\"3\": 5, \"32\": 9, \"95\": 5, \"71\": 7, \"7\": 3, \"74\": 1, \"40\": 1, \"47\": 1, \"1\": 1, \"53\": 2, \"49\": 1}, \"23\": {\"20\": 3, \"23\": 13, \"18\": 2, \"8\": 2, \"110\": 2, \"30\": 3, \"113\": 3, \"127\": 1, \"111\": 1, \"122\": 4, \"21\": 1, \"26\": 1}, \"14\": {\"71\": 1, \"84\": 2, \"14\": 30, \"10\": 1, \"61\": 1, \"40\": 1, \"110\": 2}, \"38\": {\"38\": 14, \"82\": 2}, \"96\": {\"93\": 5, \"72\": 1, \"96\": 10, \"1\": 1, \"60\": 1, \"16\": 2}, \"93\": {\"93\": 29, \"72\": 2, \"16\": 6, \"87\": 1, \"96\": 3, \"23\": 1}, \"60\": {\"60\": 22, \"93\": 4, \"96\": 1, \"110\": 1}, \"69\": {\"69\": 21, \"118\": 1, \"39\": 1, \"84\": 2, \"31\": 2, \"21\": 1}, \"47\": {\"47\": 10, \"53\": 1, \"21\": 1}, \"104\": {\"68\": 2, \"104\": 13, \"21\": 1, \"86\": 2, \"24\": 1, \"4\": 1}, \"25\": {\"25\": 11, \"41\": 1, \"52\": 2, \"6\": 1, \"77\": 1}, \"35\": {\"35\": 9, \"81\": 1, \"95\": 2}, \"79\": {\"6\": 3, \"79\": 11, \"25\": 2}, \"42\": {\"28\": 4, \"41\": 3, \"5\": 4, \"21\": 1, \"129\": 2, \"124\": 3, \"42\": 4, \"111\": 2, \"4\": 2, \"39\": 1, \"112\": 1, \"88\": 1}, \"121\": {\"120\": 4, \"121\": 28, \"88\": 1, \"117\": 1, \"90\": 1, \"57\": 1}, \"90\": {\"90\": 32, \"83\": 1, \"2\": 1}, \"124\": {\"124\": 23, \"91\": 1, \"129\": 2, \"42\": 1, \"111\": 2, \"90\": 1, \"112\": 1, \"5\": 1}, \"65\": {\"65\": 18, \"117\": 2}, \"61\": {\"61\": 10, \"21\": 3, \"40\": 1, \"14\": 1, \"78\": 1, \"76\": 3, \"66\": 1}, \"67\": {\"67\": 15, \"92\": 1}}, \"Wisig_1\": {\"30\": {\"30\": 18, \"21\": 1, \"125\": 1, \"94\": 2, \"88\": 1, \"93\": 2, \"27\": 1}, \"75\": {\"75\": 13, \"107\": 2, \"127\": 1}, \"70\": {\"23\": 1, \"70\": 34, \"109\": 3, \"21\": 5, \"108\": 5}, \"80\": {\"116\": 1, \"28\": 1, \"80\": 12, \"121\": 1, \"64\": 1}, \"116\": {\"2\": 2, \"116\": 20, \"64\": 1, \"108\": 1, \"90\": 1, \"102\": 2, \"13\": 1, \"70\": 1, \"82\": 1}, \"50\": {\"50\": 16}, \"0\": {\"0\": 31, \"110\": 2, \"39\": 1}, \"86\": {\"86\": 26, \"124\": 5, \"111\": 1, \"3\": 1, \"112\": 1, \"4\": 1, \"5\": 1}, \"69\": {\"69\": 21, \"16\": 1, \"118\": 5, \"26\": 1}, \"101\": {\"101\": 40, \"51\": 1, \"127\": 1}, \"17\": {\"17\": 7, \"5\": 1, \"86\": 2, \"124\": 1, \"111\": 2, \"54\": 1, \"79\": 1, \"4\": 1}, \"45\": {\"21\": 1, \"45\": 3, \"129\": 4, \"109\": 1, \"104\": 2, \"70\": 1}, \"106\": {\"106\": 28, \"71\": 1, \"12\": 1}, \"102\": {\"102\": 27, \"2\": 1, \"117\": 6, \"21\": 2, \"116\": 3, \"13\": 1}, \"128\": {\"29\": 4, \"82\": 10, \"98\": 1, \"89\": 2, \"128\": 3, \"99\": 1, \"53\": 1, \"19\": 1, \"9\": 1}, \"14\": {\"14\": 34, \"81\": 1, \"84\": 4, \"34\": 1}, \"28\": {\"120\": 5, \"28\": 13, \"81\": 2}, \"34\": {\"47\": 1, \"34\": 5, \"105\": 1, \"36\": 2, \"89\": 6, \"53\": 3, \"14\": 5, \"29\": 1, \"9\": 2, \"7\": 3, \"84\": 2, \"81\": 1}, \"49\": {\"29\": 2, \"75\": 2, \"97\": 1, \"51\": 1, \"89\": 2, \"49\": 3, \"90\": 1, \"128\": 1, \"73\": 1, \"96\": 1, \"9\": 3, \"101\": 1, \"114\": 1}, \"74\": {\"74\": 16}, \"79\": {\"79\": 11, \"100\": 1}, \"82\": {\"82\": 36}, \"61\": {\"61\": 11, \"82\": 1}, \"111\": {\"111\": 38, \"6\": 4}, \"19\": {\"19\": 25, \"128\": 3}, \"110\": {\"110\": 27, \"127\": 3, \"40\": 3, \"23\": 1, \"93\": 1, \"105\": 1}, \"108\": {\"108\": 22, \"70\": 3, \"24\": 6, \"39\": 1, \"126\": 2, \"88\": 1, \"109\": 1}, \"97\": {\"27\": 5, \"24\": 2, \"88\": 5, \"97\": 8}, \"11\": {\"11\": 30, \"21\": 2}, \"27\": {\"27\": 21, \"108\": 1, \"94\": 4, \"97\": 1, \"36\": 3, \"30\": 1, \"88\": 2, \"15\": 1}, \"67\": {\"67\": 15, \"109\": 1}, \"120\": {\"120\": 16, \"48\": 1, \"28\": 1, \"114\": 1, \"50\": 1}, \"83\": {\"49\": 1, \"77\": 1, \"29\": 1, \"114\": 2, \"41\": 2, \"34\": 1, \"54\": 4, \"83\": 5, \"73\": 1, \"98\": 3, \"42\": 1, \"72\": 2}, \"39\": {\"39\": 43, \"21\": 1}, \"109\": {\"109\": 34, \"70\": 2}, \"2\": {\"116\": 7, \"2\": 13, \"63\": 2, \"64\": 1, \"42\": 1, \"99\": 1, \"102\": 2, \"13\": 1, \"82\": 1, \"117\": 1, \"123\": 2}, \"85\": {\"85\": 26}, \"66\": {\"61\": 6, \"102\": 1, \"66\": 9}, \"35\": {\"35\": 12}, \"105\": {\"105\": 27, \"40\": 8, \"110\": 1, \"7\": 1, \"14\": 1}, \"23\": {\"106\": 2, \"11\": 1, \"3\": 4, \"96\": 2, \"110\": 2, \"23\": 2, \"20\": 2, \"101\": 2, \"44\": 4, \"12\": 1, \"24\": 1, \"93\": 1}, \"47\": {\"128\": 1, \"47\": 6, \"9\": 4, \"29\": 1}, \"56\": {\"56\": 12}, \"88\": {\"108\": 4, \"88\": 21, \"24\": 3, \"27\": 3, \"70\": 2, \"97\": 1}, \"91\": {\"77\": 1, \"91\": 16, \"68\": 1, \"53\": 3, \"98\": 4, \"52\": 3}, \"112\": {\"112\": 13, \"68\": 3}, \"115\": {\"115\": 12}, \"7\": {\"7\": 42}, \"13\": {\"13\": 12, \"117\": 2, \"2\": 1, \"123\": 1}, \"29\": {\"29\": 27, \"49\": 1}, \"68\": {\"91\": 1, \"68\": 15}, \"81\": {\"81\": 23, \"7\": 2, \"14\": 1, \"84\": 2}, \"72\": {\"14\": 1, \"49\": 1, \"29\": 2, \"72\": 21, \"34\": 3, \"101\": 1, \"3\": 1, \"44\": 1, \"106\": 1}, \"55\": {\"55\": 12}, \"77\": {\"77\": 16}, \"124\": {\"124\": 27, \"86\": 4, \"129\": 1, \"5\": 1, \"111\": 1}, \"18\": {\"18\": 34, \"11\": 2}, \"21\": {\"109\": 2, \"21\": 27, \"108\": 1, \"70\": 6, \"39\": 1, \"88\": 1}, \"16\": {\"16\": 19, \"118\": 3, \"26\": 6}, \"119\": {\"119\": 12, \"116\": 2, \"63\": 1, \"115\": 1}, \"3\": {\"3\": 24, \"20\": 1, \"1\": 3, \"114\": 1, \"101\": 1, \"33\": 4}, \"36\": {\"36\": 32, \"21\": 1, \"15\": 3}, \"95\": {\"109\": 1, \"95\": 23, \"121\": 3, \"21\": 1, \"50\": 1, \"18\": 2, \"33\": 1}, \"43\": {\"43\": 24, \"87\": 2, \"122\": 5, \"7\": 1}, \"92\": {\"92\": 28}, \"107\": {\"107\": 14, \"75\": 3, \"40\": 1, \"72\": 2, \"21\": 1, \"34\": 1}, \"129\": {\"5\": 5, \"45\": 2, \"104\": 2, \"129\": 12, \"83\": 1, \"102\": 1, \"22\": 1, \"42\": 2, \"2\": 2}, \"78\": {\"78\": 8, \"11\": 1, \"122\": 2, \"21\": 1, \"14\": 2, \"87\": 2}, \"48\": {\"55\": 2, \"48\": 10}, \"76\": {\"7\": 1, \"69\": 1, \"76\": 12, \"62\": 2}, \"57\": {\"57\": 11, \"28\": 1}, \"5\": {\"5\": 32, \"129\": 3, \"111\": 2, \"86\": 2, \"16\": 1}, \"53\": {\"53\": 20}, \"87\": {\"87\": 20, \"93\": 4, \"7\": 1, \"122\": 5, \"8\": 2, \"43\": 2}, \"98\": {\"98\": 30, \"54\": 1, \"53\": 1}, \"33\": {\"33\": 40}, \"31\": {\"31\": 14, \"39\": 1, \"21\": 1}, \"60\": {\"18\": 5, \"7\": 3, \"84\": 2, \"93\": 1, \"3\": 1, \"11\": 2, \"87\": 1, \"43\": 1}, \"1\": {\"1\": 25, \"3\": 1, \"60\": 2, \"114\": 1, \"23\": 1, \"97\": 2}, \"46\": {\"68\": 1, \"124\": 1, \"6\": 1, \"5\": 1, \"46\": 4, \"111\": 3, \"21\": 1}, \"100\": {\"100\": 9, \"25\": 5, \"82\": 1, \"42\": 1}, \"24\": {\"24\": 28, \"70\": 1, \"108\": 5, \"21\": 1, \"88\": 3}, \"51\": {\"49\": 1, \"51\": 12, \"32\": 3}, \"54\": {\"17\": 2, \"54\": 11, \"83\": 1, \"98\": 1, \"71\": 1}, \"114\": {\"114\": 30, \"1\": 2, \"44\": 1, \"33\": 1}, \"6\": {\"6\": 17, \"68\": 4, \"46\": 1, \"59\": 1, \"111\": 6, \"65\": 1, \"112\": 1, \"17\": 1}, \"15\": {\"94\": 6, \"30\": 2, \"15\": 15, \"36\": 7}, \"89\": {\"89\": 28, \"53\": 2, \"77\": 1, \"36\": 1, \"98\": 2, \"103\": 1, \"52\": 1}, \"93\": {\"93\": 25, \"43\": 3, \"122\": 5, \"84\": 2, \"87\": 1}, \"127\": {\"127\": 27, \"106\": 2, \"21\": 1, \"12\": 1, \"71\": 1}, \"71\": {\"71\": 23, \"101\": 2, \"60\": 1, \"39\": 1, \"12\": 6, \"3\": 1}, \"32\": {\"56\": 1, \"32\": 29, \"75\": 2}, \"63\": {\"119\": 1, \"63\": 13, \"123\": 1, \"2\": 1}, \"118\": {\"118\": 40}, \"12\": {\"12\": 24, \"101\": 2, \"106\": 1, \"71\": 4, \"21\": 1}, \"90\": {\"66\": 3, \"90\": 27}, \"104\": {\"104\": 10, \"79\": 1, \"73\": 1, \"124\": 1, \"129\": 2, \"119\": 1}, \"122\": {\"122\": 20, \"43\": 7, \"113\": 1, \"87\": 1, \"84\": 1, \"93\": 2}, \"64\": {\"64\": 16}, \"73\": {\"73\": 15, \"19\": 1, \"32\": 1, \"128\": 1, \"56\": 1, \"82\": 1}, \"58\": {\"68\": 2, \"112\": 1, \"58\": 8, \"103\": 1}, \"117\": {\"117\": 28, \"102\": 3, \"66\": 2, \"64\": 1, \"121\": 2}, \"26\": {\"26\": 32, \"21\": 1, \"16\": 1}, \"40\": {\"40\": 25, \"105\": 3, \"127\": 1, \"23\": 1}, \"84\": {\"84\": 38, \"7\": 2, \"14\": 1, \"44\": 1}, \"44\": {\"44\": 32, \"72\": 1, \"8\": 1}, \"94\": {\"70\": 1, \"30\": 1, \"94\": 23, \"15\": 3}, \"126\": {\"126\": 15, \"108\": 5}, \"20\": {\"20\": 11, \"3\": 2, \"23\": 2, \"103\": 1}, \"125\": {\"125\": 30, \"59\": 2}, \"41\": {\"41\": 12, \"83\": 3, \"55\": 1}, \"37\": {\"37\": 16}, \"42\": {\"42\": 7, \"90\": 1, \"116\": 4, \"22\": 1, \"83\": 2, \"104\": 1, \"41\": 1, \"2\": 5, \"45\": 2, \"29\": 2}, \"59\": {\"59\": 11, \"117\": 1}, \"25\": {\"25\": 7, \"42\": 1, \"116\": 2, \"104\": 2, \"19\": 1, \"99\": 1, \"100\": 1, \"45\": 1}, \"103\": {\"89\": 1, \"68\": 1, \"98\": 2, \"103\": 7, \"47\": 5}, \"4\": {\"4\": 26, \"111\": 2, \"6\": 2}, \"22\": {\"22\": 15, \"117\": 1}, \"113\": {\"113\": 24}, \"123\": {\"123\": 14, \"63\": 1, \"121\": 1}, \"96\": {\"96\": 13, \"108\": 3, \"99\": 1, \"8\": 1, \"60\": 1, \"126\": 1}, \"8\": {\"8\": 38, \"87\": 1, \"93\": 1}, \"10\": {\"10\": 29, \"21\": 1, \"122\": 1, \"43\": 1, \"0\": 3, \"70\": 1}, \"9\": {\"9\": 26, \"47\": 1, \"31\": 1, \"21\": 1, \"94\": 1, \"89\": 1, \"128\": 1}, \"99\": {\"99\": 19, \"100\": 2, \"20\": 2, \"25\": 1}, \"121\": {\"121\": 25, \"117\": 2, \"95\": 4, \"15\": 1}, \"52\": {\"52\": 14, \"15\": 1, \"9\": 1, \"49\": 1, \"109\": 1}, \"62\": {\"62\": 24}, \"65\": {\"65\": 1, \"28\": 4, \"50\": 1, \"38\": 1, \"67\": 1, \"120\": 1, \"117\": 1, \"116\": 2}, \"38\": {\"38\": 15, \"14\": 1}}, \"Wisig_4\": {\"124\": {\"68\": 2, \"124\": 31, \"129\": 1, \"111\": 6, \"4\": 3, \"42\": 1}, \"106\": {\"106\": 30, \"23\": 1, \"94\": 2, \"109\": 1, \"12\": 5, \"21\": 1, \"30\": 1, \"15\": 3}, \"89\": {\"76\": 3, \"89\": 22, \"107\": 4, \"82\": 1, \"21\": 1, \"32\": 1}, \"68\": {\"68\": 12, \"21\": 1, \"75\": 1, \"91\": 1, \"54\": 1}, \"123\": {\"123\": 9, \"75\": 1, \"48\": 4, \"65\": 2}, \"16\": {\"16\": 36, \"108\": 1, \"21\": 3, \"84\": 6}, \"65\": {\"22\": 1, \"65\": 11}, \"23\": {\"23\": 2, \"60\": 1, \"0\": 4, \"126\": 1, \"6\": 1, \"12\": 2, \"78\": 1, \"49\": 1, \"38\": 1, \"21\": 1, \"8\": 1}, \"1\": {\"71\": 5, \"14\": 1, \"32\": 1, \"3\": 6, \"114\": 5, \"1\": 17, \"72\": 1, \"34\": 1, \"29\": 1, \"5\": 1, \"109\": 1, \"100\": 1, \"108\": 1}, \"87\": {\"87\": 30, \"122\": 7, \"43\": 2, \"110\": 3, \"96\": 1, \"60\": 1}, \"40\": {\"40\": 31, \"105\": 10, \"107\": 2, \"89\": 1}, \"107\": {\"107\": 42, \"14\": 3, \"105\": 3, \"32\": 1, \"40\": 1}, \"2\": {\"2\": 7, \"65\": 1, \"117\": 9, \"102\": 5, \"90\": 1, \"119\": 1}, \"56\": {\"56\": 12}, \"109\": {\"109\": 33, \"23\": 1, \"118\": 6, \"43\": 4, \"122\": 2, \"39\": 2}, \"74\": {\"23\": 1, \"74\": 7, \"5\": 3, \"1\": 1, \"44\": 1, \"102\": 1, \"20\": 2}, \"83\": {\"85\": 1, \"83\": 16, \"106\": 1, \"46\": 2, \"73\": 3, \"78\": 1, \"100\": 1, \"112\": 1, \"114\": 1, \"5\": 1}, \"50\": {\"50\": 8, \"41\": 1, \"83\": 1, \"28\": 1, \"73\": 3, \"79\": 1, \"86\": 1}, \"53\": {\"53\": 10, \"52\": 1, \"21\": 1, \"106\": 1, \"128\": 2, \"34\": 1}, \"4\": {\"59\": 1, \"4\": 36, \"37\": 2, \"21\": 2, \"111\": 3, \"125\": 2}, \"84\": {\"84\": 47, \"32\": 1, \"96\": 1, \"21\": 2, \"16\": 1}, \"128\": {\"120\": 1, \"128\": 12, \"1\": 1, \"85\": 3, \"19\": 1, \"3\": 1, \"100\": 3, \"91\": 1, \"33\": 1}, \"46\": {\"46\": 6, \"128\": 2, \"31\": 2, \"100\": 3, \"5\": 1, \"3\": 1, \"74\": 1, \"85\": 1, \"19\": 1, \"33\": 1, \"49\": 1}, \"36\": {\"36\": 31, \"97\": 6, \"15\": 2, \"24\": 1, \"94\": 1, \"88\": 1, \"27\": 1, \"21\": 1}, \"8\": {\"8\": 38, \"15\": 4, \"30\": 8, \"0\": 1, \"88\": 1}, \"115\": {\"115\": 14, \"120\": 1, \"17\": 1}, \"95\": {\"127\": 2, \"53\": 1, \"101\": 1, \"95\": 21, \"107\": 1, \"21\": 1, \"105\": 2, \"34\": 1, \"12\": 1, \"108\": 1}, \"127\": {\"23\": 1, \"127\": 33, \"118\": 1, \"106\": 1, \"21\": 1, \"27\": 1, \"7\": 2, \"126\": 1, \"105\": 1}, \"32\": {\"76\": 2, \"89\": 10, \"32\": 8, \"72\": 1, \"107\": 4, \"1\": 1, \"92\": 1, \"40\": 1}, \"108\": {\"108\": 20, \"70\": 5, \"8\": 1, \"126\": 4, \"88\": 8, \"91\": 1, \"78\": 1, \"93\": 1, \"21\": 1}, \"59\": {\"59\": 6, \"125\": 5, \"4\": 1}, \"76\": {\"76\": 16}, \"15\": {\"15\": 28, \"94\": 1, \"30\": 7, \"106\": 1, \"125\": 1, \"78\": 1, \"8\": 1}, \"103\": {\"75\": 1, \"91\": 3, \"85\": 2, \"41\": 1, \"103\": 4, \"49\": 1, \"78\": 1, \"77\": 1, \"42\": 1, \"3\": 1}, \"37\": {\"37\": 14, \"103\": 2}, \"22\": {\"22\": 16}, \"91\": {\"103\": 1, \"91\": 15, \"96\": 1, \"98\": 3, \"41\": 2, \"68\": 2}, \"28\": {\"28\": 15, \"50\": 1, \"74\": 2, \"100\": 1, \"129\": 1}, \"55\": {\"56\": 1, \"55\": 11, \"29\": 3, \"89\": 1}, \"63\": {\"63\": 13, \"48\": 1, \"65\": 1, \"2\": 1}, \"60\": {\"60\": 18, \"110\": 2, \"11\": 6, \"0\": 2, \"93\": 2, \"72\": 2}, \"111\": {\"111\": 38, \"59\": 1, \"6\": 1, \"124\": 4}, \"120\": {\"120\": 11, \"45\": 4, \"128\": 2, \"92\": 1, \"37\": 1, \"69\": 1}, \"80\": {\"80\": 16}, \"110\": {\"110\": 25, \"96\": 2, \"93\": 2, \"122\": 3, \"43\": 7, \"21\": 1, \"87\": 2}, \"102\": {\"102\": 33, \"115\": 1, \"117\": 1, \"2\": 3, \"116\": 3, \"92\": 1}, \"51\": {\"52\": 2, \"12\": 1, \"85\": 1, \"41\": 1, \"29\": 1, \"21\": 2, \"77\": 1, \"51\": 1, \"103\": 1, \"68\": 1, \"34\": 1, \"9\": 1, \"30\": 1, \"127\": 1}, \"85\": {\"85\": 22, \"49\": 1, \"114\": 1, \"128\": 3, \"100\": 1}, \"71\": {\"71\": 25, \"1\": 5, \"3\": 2, \"7\": 1, \"108\": 1, \"49\": 1, \"21\": 1}, \"20\": {\"74\": 2, \"3\": 1, \"20\": 9, \"93\": 1, \"49\": 2, \"5\": 1}, \"10\": {\"10\": 19, \"108\": 1, \"97\": 4, \"70\": 6, \"23\": 1, \"88\": 3, \"27\": 4, \"94\": 1, \"78\": 2, \"24\": 2, \"36\": 1}, \"52\": {\"52\": 10, \"91\": 1, \"103\": 2, \"88\": 1, \"85\": 2, \"41\": 1, \"53\": 1, \"66\": 1, \"9\": 1}, \"45\": {\"115\": 1, \"45\": 11, \"74\": 1, \"19\": 1, \"38\": 1, \"50\": 1}, \"75\": {\"51\": 1, \"75\": 11, \"52\": 1, \"77\": 1, \"58\": 1, \"54\": 1}, \"98\": {\"98\": 34, \"129\": 1, \"34\": 1, \"77\": 1, \"52\": 1}, \"13\": {\"13\": 11, \"63\": 1, \"102\": 2, \"67\": 1, \"112\": 1}, \"125\": {\"125\": 42}, \"54\": {\"51\": 2, \"54\": 14}, \"49\": {\"5\": 7, \"15\": 2, \"44\": 1, \"20\": 4, \"49\": 9, \"94\": 1, \"8\": 2, \"106\": 3, \"12\": 3}, \"18\": {\"18\": 38}, \"30\": {\"12\": 2, \"30\": 26, \"15\": 8, \"94\": 2, \"109\": 1, \"36\": 1, \"8\": 6}, \"72\": {\"72\": 26, \"60\": 1, \"71\": 4, \"99\": 1}, \"117\": {\"117\": 27, \"102\": 6, \"2\": 5, \"67\": 1, \"63\": 1}, \"38\": {\"38\": 11, \"125\": 2, \"99\": 1, \"33\": 1, \"44\": 1}, \"17\": {\"17\": 17, \"104\": 2, \"31\": 1}, \"118\": {\"118\": 33, \"62\": 8, \"32\": 1, \"21\": 1, \"87\": 1, \"78\": 1, \"33\": 1}, \"9\": {\"9\": 21, \"36\": 3, \"25\": 1, \"52\": 1, \"34\": 2}, \"101\": {\"101\": 39, \"0\": 2, \"7\": 1}, \"112\": {\"112\": 10, \"124\": 1, \"98\": 1, \"129\": 1, \"42\": 1, \"119\": 1, \"123\": 1}, \"12\": {\"12\": 32, \"109\": 1, \"72\": 1, \"106\": 2, \"78\": 1, \"33\": 1, \"120\": 1, \"30\": 1}, \"92\": {\"22\": 2, \"92\": 12, \"32\": 3, \"33\": 4, \"44\": 2, \"90\": 1, \"99\": 2, \"38\": 1, \"89\": 1}, \"3\": {\"21\": 1, \"3\": 25, \"114\": 7, \"71\": 1, \"1\": 1, \"72\": 1}, \"33\": {\"33\": 35, \"21\": 1, \"128\": 1, \"32\": 1, \"44\": 2, \"90\": 1, \"66\": 1}, \"114\": {\"114\": 33, \"49\": 2, \"100\": 1, \"71\": 1, \"3\": 2, \"1\": 1}, \"126\": {\"126\": 30, \"39\": 9, \"21\": 1, \"113\": 2}, \"47\": {\"47\": 6, \"75\": 1, \"9\": 1, \"58\": 3, \"25\": 1}, \"19\": {\"45\": 3, \"5\": 3, \"98\": 7, \"19\": 8, \"73\": 1, \"77\": 1, \"46\": 1, \"28\": 1, \"74\": 1, \"57\": 1, \"90\": 1}, \"66\": {\"92\": 2, \"38\": 1, \"90\": 3, \"66\": 7, \"119\": 1, \"116\": 1, \"121\": 1}, \"93\": {\"93\": 30, \"11\": 6}, \"113\": {\"113\": 39, \"26\": 1, \"21\": 1, \"126\": 1}, \"5\": {\"5\": 40, \"20\": 1, \"74\": 1}, \"116\": {\"115\": 2, \"116\": 15, \"90\": 3, \"102\": 3, \"73\": 1, \"2\": 1, \"117\": 1, \"50\": 1, \"38\": 1}, \"21\": {\"21\": 34, \"108\": 2}, \"70\": {\"70\": 27, \"88\": 4, \"108\": 5, \"27\": 2, \"24\": 3, \"81\": 1}, \"39\": {\"39\": 26, \"126\": 7, \"21\": 2, \"88\": 1}, \"42\": {\"112\": 1, \"103\": 1, \"42\": 8, \"47\": 1, \"91\": 1, \"41\": 2, \"79\": 2, \"68\": 1, \"25\": 1, \"124\": 4, \"129\": 1, \"50\": 1, \"119\": 1, \"111\": 2, \"98\": 1}, \"100\": {\"100\": 13, \"128\": 1, \"85\": 1, \"71\": 1, \"1\": 1, \"22\": 1, \"19\": 1, \"46\": 1}, \"62\": {\"62\": 31, \"78\": 3, \"118\": 8, \"108\": 1, \"34\": 1}, \"96\": {\"96\": 15, \"122\": 1, \"84\": 2, \"16\": 1, \"125\": 1}, \"26\": {\"26\": 36, \"16\": 1, \"113\": 1, \"35\": 1, \"18\": 3}, \"14\": {\"14\": 38, \"105\": 3, \"72\": 1, \"107\": 2, \"122\": 1, \"7\": 1}, \"104\": {\"104\": 13, \"55\": 1, \"89\": 1, \"17\": 1}, \"67\": {\"64\": 3, \"123\": 2, \"63\": 1, \"67\": 2, \"92\": 2, \"33\": 4, \"117\": 1, \"65\": 1}, \"90\": {\"66\": 2, \"90\": 30, \"57\": 1, \"33\": 1, \"121\": 1, \"117\": 1}, \"41\": {\"98\": 1, \"91\": 3, \"9\": 1, \"41\": 7, \"6\": 1, \"4\": 1, \"63\": 1, \"85\": 1}, \"97\": {\"45\": 1, \"31\": 1, \"36\": 2, \"24\": 2, \"97\": 3, \"10\": 2, \"70\": 2, \"93\": 1, \"27\": 4, \"22\": 1, \"30\": 1}, \"58\": {\"58\": 12, \"47\": 2, \"68\": 1, \"38\": 1}, \"105\": {\"40\": 13, \"7\": 3, \"105\": 18, \"14\": 2, \"107\": 2, \"69\": 1, \"127\": 1}, \"94\": {\"94\": 23, \"15\": 10, \"106\": 1, \"30\": 3, \"72\": 1}, \"64\": {\"64\": 12, \"120\": 2, \"33\": 2}, \"31\": {\"31\": 12, \"33\": 1, \"45\": 1, \"21\": 1, \"78\": 1}, \"122\": {\"122\": 25, \"110\": 5, \"87\": 3, \"21\": 3, \"43\": 4, \"96\": 1, \"78\": 1}, \"44\": {\"44\": 27, \"33\": 3, \"121\": 1, \"38\": 2, \"57\": 1, \"5\": 1, \"90\": 1}, \"81\": {\"81\": 33, \"18\": 1, \"35\": 1, \"21\": 1}, \"86\": {\"86\": 25, \"50\": 1, \"111\": 2}, \"29\": {\"29\": 32}, \"7\": {\"7\": 31, \"21\": 1, \"127\": 2, \"0\": 3, \"40\": 1, \"122\": 1, \"2\": 1}, \"35\": {\"18\": 1, \"35\": 11}, \"57\": {\"57\": 16}, \"0\": {\"0\": 34, \"7\": 2, \"101\": 2, \"21\": 1, \"88\": 1}, \"24\": {\"70\": 3, \"24\": 15, \"10\": 2, \"78\": 2, \"36\": 8, \"27\": 1, \"88\": 1, \"97\": 1, \"108\": 1}, \"78\": {\"78\": 20, \"88\": 4, \"39\": 3, \"10\": 1, \"21\": 4, \"44\": 1, \"126\": 2, \"108\": 1}, \"77\": {\"77\": 10, \"58\": 1, \"103\": 1}, \"88\": {\"88\": 20, \"78\": 8, \"108\": 3, \"70\": 4, \"39\": 3, \"21\": 1, \"24\": 2, \"27\": 1}, \"121\": {\"121\": 18, \"35\": 1, \"81\": 3, \"57\": 3, \"90\": 2, \"92\": 1}, \"82\": {\"82\": 22, \"86\": 1, \"4\": 1, \"55\": 1, \"89\": 1, \"40\": 2}, \"129\": {\"119\": 3, \"68\": 1, \"116\": 2, \"129\": 16, \"124\": 2, \"112\": 1, \"50\": 1, \"9\": 1, \"103\": 1}, \"43\": {\"43\": 24, \"109\": 2, \"110\": 9, \"87\": 2, \"122\": 8, \"96\": 1}, \"73\": {\"73\": 16, \"129\": 3, \"5\": 2, \"83\": 3}, \"25\": {\"25\": 13, \"58\": 2, \"47\": 1}, \"61\": {\"61\": 10, \"81\": 4, \"18\": 1, \"35\": 1}, \"79\": {\"112\": 1, \"79\": 12, \"88\": 1, \"21\": 1, \"123\": 1}, \"119\": {\"119\": 12, \"112\": 1, \"42\": 1, \"50\": 1, \"124\": 1}, \"34\": {\"1\": 4, \"34\": 7, \"75\": 2, \"7\": 1, \"106\": 3, \"71\": 6, \"14\": 1, \"77\": 1, \"85\": 2, \"107\": 2, \"29\": 1}, \"27\": {\"70\": 5, \"27\": 17, \"36\": 1, \"10\": 3, \"83\": 1, \"39\": 1, \"21\": 1, \"24\": 1}, \"11\": {\"11\": 33, \"60\": 1, \"93\": 8}, \"48\": {\"48\": 13, \"116\": 2, \"22\": 1}, \"6\": {\"6\": 11, \"111\": 11, \"25\": 2}, \"99\": {\"99\": 29, \"14\": 2, \"84\": 3, \"110\": 1, \"72\": 1}, \"69\": {\"69\": 29, \"40\": 2, \"84\": 2, \"105\": 1, \"21\": 1, \"16\": 3}}}, \"per_domain_accuracy\": {\"CORES_4\": {\"accuracy\": 0.9913793103448276, \"source?\": true}, \"CORES_5\": {\"accuracy\": 0.9991379310344828, \"source?\": true}, \"CORES_2\": {\"accuracy\": 0.9974137931034482, \"source?\": true}, \"CORES_1\": {\"accuracy\": 0.9985632183908046, \"source?\": true}, \"CORES_3\": {\"accuracy\": 0.9967672413793104, \"source?\": true}, \"Wisig_3\": {\"accuracy\": 0.7580818965517241, \"source?\": false}, \"Wisig_2\": {\"accuracy\": 0.7246450304259635, \"source?\": false}, \"Wisig_1\": {\"accuracy\": 0.759512485136742, \"source?\": false}, \"Wisig_4\": {\"accuracy\": 0.687042842215256, \"source?\": false}}}, \"history\": {\"epoch_indices\": [1, 2, 3], \"train_label_loss\": [0.3449716246938943, 0.026020490778082758, 0.014018305328462679], \"source_val_label_loss\": [0.02957364171743393, 0.01636665314435959, 0.014925699681043625], \"target_val_label_loss\": [2.2957372665405273, 4.315184593200684, 4.876830101013184], \"source_val_acc_label\": [0.9962284482758621, 0.9953304597701149, 0.9969468390804598], \"target_val_acc_label\": [0.6901266163793104, 0.7224542025862069, 0.7312095905172413]}, \"dataset_metrics\": {\"source\": {\"train\": {\"n_unique_x\": 75802, \"n_unique_y\": 58, \"n_batch/episode\": 351}, \"val\": {\"n_unique_x\": 11821, \"n_unique_y\": 58, \"n_batch/episode\": 48}, \"test\": {\"n_unique_x\": 12320, \"n_unique_y\": 58, \"n_batch/episode\": 50}}, \"target\": {\"train\": {\"n_unique_x\": 139768, \"n_unique_y\": 130, \"n_batch/episode\": 903}, \"val\": {\"n_unique_x\": 25930, \"n_unique_y\": 130, \"n_batch/episode\": 128}, \"test\": {\"n_unique_x\": 27403, \"n_unique_y\": 130, \"n_batch/episode\": 136}}}}'"
      ]
     },
     "execution_count": 29,
     "metadata": {},
     "output_type": "execute_result"
    }
   ],
   "source": [
    "json.dumps(experiment)"
   ]
  }
 ],
 "metadata": {
  "celltoolbar": "Tags",
  "kernelspec": {
   "display_name": "Python 3 (ipykernel)",
   "language": "python",
   "name": "python3"
  },
  "language_info": {
   "codemirror_mode": {
    "name": "ipython",
    "version": 3
   },
   "file_extension": ".py",
   "mimetype": "text/x-python",
   "name": "python",
   "nbconvert_exporter": "python",
   "pygments_lexer": "ipython3",
   "version": "3.8.12"
  },
  "papermill": {
   "default_parameters": {},
   "duration": 227.136657,
   "end_time": "2022-03-21T02:41:44.885627",
   "environment_variables": {},
   "exception": null,
   "input_path": "/root/csc500-main/csc500-notebooks/templates/tl_ptn_template.ipynb",
   "output_path": "trial.ipynb",
   "parameters": {
    "parameters": {
     "BEST_MODEL_PATH": "./best_model.pth",
     "NUM_LOGS_PER_EPOCH": 10,
     "criteria_for_best": "target_accuracy",
     "dataset_seed": 420,
     "datasets": [
      {
       "domain_prefix": "CORES_",
       "domains": [
        1,
        2,
        3,
        4,
        5
       ],
       "episode_transforms": [],
       "labels": [
        "1-10.",
        "1-11.",
        "1-15.",
        "1-16.",
        "1-17.",
        "1-18.",
        "1-19.",
        "10-4.",
        "10-7.",
        "11-1.",
        "11-14.",
        "11-17.",
        "11-20.",
        "11-7.",
        "13-20.",
        "13-8.",
        "14-10.",
        "14-11.",
        "14-14.",
        "14-7.",
        "15-1.",
        "15-20.",
        "16-1.",
        "16-16.",
        "17-10.",
        "17-11.",
        "17-2.",
        "19-1.",
        "19-16.",
        "19-19.",
        "19-20.",
        "19-3.",
        "2-10.",
        "2-11.",
        "2-17.",
        "2-18.",
        "2-20.",
        "2-3.",
        "2-4.",
        "2-5.",
        "2-6.",
        "2-7.",
        "2-8.",
        "3-13.",
        "3-18.",
        "3-3.",
        "4-1.",
        "4-10.",
        "4-11.",
        "4-19.",
        "5-5.",
        "6-15.",
        "7-10.",
        "7-14.",
        "8-18.",
        "8-20.",
        "8-3.",
        "8-8."
       ],
       "num_examples_per_domain_per_label": -1,
       "pickle_path": "/root/csc500-main/datasets/cores.stratified_ds.2022A.pkl",
       "source_or_target_dataset": "source",
       "x_transforms": []
      },
      {
       "domain_prefix": "Wisig_",
       "domains": [
        1,
        2,
        3,
        4
       ],
       "episode_transforms": [],
       "labels": [
        "1-10",
        "1-12",
        "1-14",
        "1-16",
        "1-18",
        "1-19",
        "1-8",
        "10-11",
        "10-17",
        "10-4",
        "10-7",
        "11-1",
        "11-10",
        "11-19",
        "11-20",
        "11-4",
        "11-7",
        "12-19",
        "12-20",
        "12-7",
        "13-14",
        "13-18",
        "13-19",
        "13-20",
        "13-3",
        "13-7",
        "14-10",
        "14-11",
        "14-12",
        "14-13",
        "14-14",
        "14-19",
        "14-20",
        "14-7",
        "14-8",
        "14-9",
        "15-1",
        "15-19",
        "15-6",
        "16-1",
        "16-16",
        "16-19",
        "16-20",
        "17-10",
        "17-11",
        "18-1",
        "18-10",
        "18-11",
        "18-12",
        "18-13",
        "18-14",
        "18-15",
        "18-16",
        "18-17",
        "18-19",
        "18-2",
        "18-20",
        "18-4",
        "18-5",
        "18-7",
        "18-8",
        "18-9",
        "19-1",
        "19-10",
        "19-11",
        "19-12",
        "19-13",
        "19-14",
        "19-15",
        "19-19",
        "19-2",
        "19-20",
        "19-3",
        "19-4",
        "19-6",
        "19-7",
        "19-8",
        "19-9",
        "2-1",
        "2-13",
        "2-15",
        "2-3",
        "2-4",
        "2-5",
        "2-6",
        "2-7",
        "2-8",
        "20-1",
        "20-12",
        "20-14",
        "20-15",
        "20-16",
        "20-18",
        "20-19",
        "20-20",
        "20-3",
        "20-4",
        "20-5",
        "20-7",
        "20-8",
        "3-1",
        "3-13",
        "3-18",
        "3-2",
        "3-8",
        "4-1",
        "4-10",
        "4-11",
        "5-1",
        "5-5",
        "6-1",
        "6-15",
        "6-6",
        "7-10",
        "7-11",
        "7-12",
        "7-13",
        "7-14",
        "7-7",
        "7-8",
        "7-9",
        "8-1",
        "8-13",
        "8-14",
        "8-18",
        "8-20",
        "8-3",
        "8-8",
        "9-1",
        "9-7"
       ],
       "num_examples_per_domain_per_label": -1,
       "pickle_path": "/root/csc500-main/datasets/wisig.node3-19.stratified_ds.2022A.pkl",
       "source_or_target_dataset": "target",
       "x_transforms": []
      }
     ],
     "device": "cuda",
     "experiment_name": "tl_1v2:cores-wisig",
     "lr": 0.0001,
     "n_epoch": 3,
     "n_query": 2,
     "n_shot": 3,
     "n_way": 58,
     "patience": 3,
     "seed": 420,
     "test_k_factor": 2,
     "torch_default_dtype": "torch.float32",
     "train_k_factor": 3,
     "val_k_factor": 2,
     "x_net": [
      {
       "class": "nnReshape",
       "kargs": {
        "shape": [
         -1,
         1,
         2,
         256
        ]
       }
      },
      {
       "class": "Conv2d",
       "kargs": {
        "bias": false,
        "in_channels": 1,
        "kernel_size": [
         1,
         7
        ],
        "out_channels": 256,
        "padding": [
         0,
         3
        ]
       }
      },
      {
       "class": "ReLU",
       "kargs": {
        "inplace": true
       }
      },
      {
       "class": "BatchNorm2d",
       "kargs": {
        "num_features": 256
       }
      },
      {
       "class": "Conv2d",
       "kargs": {
        "bias": true,
        "in_channels": 256,
        "kernel_size": [
         2,
         7
        ],
        "out_channels": 80,
        "padding": [
         0,
         3
        ]
       }
      },
      {
       "class": "ReLU",
       "kargs": {
        "inplace": true
       }
      },
      {
       "class": "BatchNorm2d",
       "kargs": {
        "num_features": 80
       }
      },
      {
       "class": "Flatten",
       "kargs": {}
      },
      {
       "class": "Linear",
       "kargs": {
        "in_features": 20480,
        "out_features": 256
       }
      },
      {
       "class": "ReLU",
       "kargs": {
        "inplace": true
       }
      },
      {
       "class": "BatchNorm1d",
       "kargs": {
        "num_features": 256
       }
      },
      {
       "class": "Linear",
       "kargs": {
        "in_features": 256,
        "out_features": 256
       }
      }
     ]
    }
   },
   "start_time": "2022-03-21T02:37:57.748970",
   "version": "2.3.4"
  }
 },
 "nbformat": 4,
 "nbformat_minor": 5
}