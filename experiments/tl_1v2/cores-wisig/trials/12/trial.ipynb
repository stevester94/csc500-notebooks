{
 "cells": [
  {
   "cell_type": "markdown",
   "id": "9fea5f46",
   "metadata": {
    "papermill": {
     "duration": 0.025361,
     "end_time": "2022-03-21T03:01:11.476189",
     "exception": false,
     "start_time": "2022-03-21T03:01:11.450828",
     "status": "completed"
    },
    "tags": []
   },
   "source": [
    "# Transfer Learning Template"
   ]
  },
  {
   "cell_type": "code",
   "execution_count": 1,
   "id": "0902182a",
   "metadata": {
    "execution": {
     "iopub.execute_input": "2022-03-21T03:01:11.533945Z",
     "iopub.status.busy": "2022-03-21T03:01:11.533092Z",
     "iopub.status.idle": "2022-03-21T03:01:13.416826Z",
     "shell.execute_reply": "2022-03-21T03:01:13.416345Z"
    },
    "papermill": {
     "duration": 1.921481,
     "end_time": "2022-03-21T03:01:13.416938",
     "exception": false,
     "start_time": "2022-03-21T03:01:11.495457",
     "status": "completed"
    },
    "tags": []
   },
   "outputs": [],
   "source": [
    "%load_ext autoreload\n",
    "%autoreload 2\n",
    "%matplotlib inline\n",
    "\n",
    "    \n",
    "import os, json, sys, time, random\n",
    "import numpy as np\n",
    "import torch\n",
    "from torch.optim import Adam\n",
    "from  easydict import EasyDict\n",
    "import matplotlib.pyplot as plt\n",
    "\n",
    "from steves_models.steves_ptn import Steves_Prototypical_Network\n",
    "\n",
    "from steves_utils.lazy_iterable_wrapper import Lazy_Iterable_Wrapper\n",
    "from steves_utils.iterable_aggregator import Iterable_Aggregator\n",
    "from steves_utils.ptn_train_eval_test_jig import  PTN_Train_Eval_Test_Jig\n",
    "from steves_utils.torch_sequential_builder import build_sequential\n",
    "from steves_utils.torch_utils import get_dataset_metrics, ptn_confusion_by_domain_over_dataloader\n",
    "from steves_utils.utils_v2 import (per_domain_accuracy_from_confusion, get_datasets_base_path)\n",
    "from steves_utils.PTN.utils import independent_accuracy_assesment\n",
    "\n",
    "from torch.utils.data import DataLoader\n",
    "\n",
    "from steves_utils.stratified_dataset.episodic_accessor import Episodic_Accessor_Factory\n",
    "\n",
    "from steves_utils.ptn_do_report import (\n",
    "    get_loss_curve,\n",
    "    get_results_table,\n",
    "    get_parameters_table,\n",
    "    get_domain_accuracies,\n",
    ")\n",
    "\n",
    "from steves_utils.transforms import get_chained_transform"
   ]
  },
  {
   "cell_type": "markdown",
   "id": "41c840b4",
   "metadata": {
    "papermill": {
     "duration": 0.018852,
     "end_time": "2022-03-21T03:01:13.455871",
     "exception": false,
     "start_time": "2022-03-21T03:01:13.437019",
     "status": "completed"
    },
    "tags": []
   },
   "source": [
    "# Allowed Parameters\n",
    "These are allowed parameters, not defaults\n",
    "Each of these values need to be present in the injected parameters (the notebook will raise an exception if they are not present)\n",
    "\n",
    "Papermill uses the cell tag \"parameters\" to inject the real parameters below this cell.\n",
    "Enable tags to see what I mean"
   ]
  },
  {
   "cell_type": "code",
   "execution_count": 2,
   "id": "fd44eb83",
   "metadata": {
    "execution": {
     "iopub.execute_input": "2022-03-21T03:01:13.498936Z",
     "iopub.status.busy": "2022-03-21T03:01:13.498363Z",
     "iopub.status.idle": "2022-03-21T03:01:13.522345Z",
     "shell.execute_reply": "2022-03-21T03:01:13.521642Z"
    },
    "papermill": {
     "duration": 0.047773,
     "end_time": "2022-03-21T03:01:13.522503",
     "exception": false,
     "start_time": "2022-03-21T03:01:13.474730",
     "status": "completed"
    },
    "tags": []
   },
   "outputs": [],
   "source": [
    "required_parameters = {\n",
    "    \"experiment_name\",\n",
    "    \"lr\",\n",
    "    \"device\",\n",
    "    \"seed\",\n",
    "    \"dataset_seed\",\n",
    "    \"n_shot\",\n",
    "    \"n_query\",\n",
    "    \"n_way\",\n",
    "    \"train_k_factor\",\n",
    "    \"val_k_factor\",\n",
    "    \"test_k_factor\",\n",
    "    \"n_epoch\",\n",
    "    \"patience\",\n",
    "    \"criteria_for_best\",\n",
    "    \"x_net\",\n",
    "    \"datasets\",\n",
    "    \"torch_default_dtype\",\n",
    "    \"NUM_LOGS_PER_EPOCH\",\n",
    "    \"BEST_MODEL_PATH\",\n",
    "    \"x_shape\",\n",
    "}"
   ]
  },
  {
   "cell_type": "code",
   "execution_count": 3,
   "id": "fa3f0049",
   "metadata": {
    "execution": {
     "iopub.execute_input": "2022-03-21T03:01:13.579131Z",
     "iopub.status.busy": "2022-03-21T03:01:13.578263Z",
     "iopub.status.idle": "2022-03-21T03:01:13.599934Z",
     "shell.execute_reply": "2022-03-21T03:01:13.599210Z"
    },
    "papermill": {
     "duration": 0.050417,
     "end_time": "2022-03-21T03:01:13.600096",
     "exception": false,
     "start_time": "2022-03-21T03:01:13.549679",
     "status": "completed"
    },
    "tags": [
     "parameters"
    ]
   },
   "outputs": [],
   "source": [
    "from steves_utils.CORES.utils import (\n",
    "    ALL_NODES,\n",
    "    ALL_NODES_MINIMUM_1000_EXAMPLES,\n",
    "    ALL_DAYS\n",
    ")\n",
    "\n",
    "from steves_utils.ORACLE.utils_v2 import (\n",
    "    ALL_DISTANCES_FEET_NARROWED,\n",
    "    ALL_RUNS,\n",
    "    ALL_SERIAL_NUMBERS,\n",
    ")\n",
    "\n",
    "standalone_parameters = {}\n",
    "standalone_parameters[\"experiment_name\"] = \"STANDALONE PTN\"\n",
    "standalone_parameters[\"lr\"] = 0.001\n",
    "standalone_parameters[\"device\"] = \"cuda\"\n",
    "\n",
    "standalone_parameters[\"seed\"] = 1337\n",
    "standalone_parameters[\"dataset_seed\"] = 1337\n",
    "\n",
    "standalone_parameters[\"n_way\"] = 8\n",
    "standalone_parameters[\"n_shot\"] = 3\n",
    "standalone_parameters[\"n_query\"]  = 2\n",
    "standalone_parameters[\"train_k_factor\"] = 1\n",
    "standalone_parameters[\"val_k_factor\"] = 2\n",
    "standalone_parameters[\"test_k_factor\"] = 2\n",
    "\n",
    "\n",
    "standalone_parameters[\"n_epoch\"] = 50\n",
    "\n",
    "standalone_parameters[\"patience\"] = 10\n",
    "standalone_parameters[\"criteria_for_best\"] = \"source_loss\"\n",
    "\n",
    "standalone_parameters[\"datasets\"] = [\n",
    "    {\n",
    "        \"labels\": ALL_SERIAL_NUMBERS,\n",
    "        \"domains\": ALL_DISTANCES_FEET_NARROWED,\n",
    "        \"num_examples_per_domain_per_label\": 100,\n",
    "        \"pickle_path\": os.path.join(get_datasets_base_path(), \"oracle.Run1_framed_2000Examples_stratified_ds.2022A.pkl\"),\n",
    "        \"source_or_target_dataset\": \"source\",\n",
    "        \"x_transforms\": [\"unit_mag\", \"minus_two\"],\n",
    "        \"episode_transforms\": [],\n",
    "        \"domain_prefix\": \"ORACLE_\"\n",
    "    },\n",
    "    {\n",
    "        \"labels\": ALL_NODES,\n",
    "        \"domains\": ALL_DAYS,\n",
    "        \"num_examples_per_domain_per_label\": 100,\n",
    "        \"pickle_path\": os.path.join(get_datasets_base_path(), \"cores.stratified_ds.2022A.pkl\"),\n",
    "        \"source_or_target_dataset\": \"target\",\n",
    "        \"x_transforms\": [\"unit_power\", \"times_zero\"],\n",
    "        \"episode_transforms\": [],\n",
    "        \"domain_prefix\": \"CORES_\"\n",
    "    }   \n",
    "]\n",
    "\n",
    "standalone_parameters[\"torch_default_dtype\"] = \"torch.float32\" \n",
    "\n",
    "\n",
    "\n",
    "standalone_parameters[\"x_net\"] =     [\n",
    "    {\"class\": \"nnReshape\", \"kargs\": {\"shape\":[-1, 1, 2, 256]}},\n",
    "    {\"class\": \"Conv2d\", \"kargs\": { \"in_channels\":1, \"out_channels\":256, \"kernel_size\":(1,7), \"bias\":False, \"padding\":(0,3), },},\n",
    "    {\"class\": \"ReLU\", \"kargs\": {\"inplace\": True}},\n",
    "    {\"class\": \"BatchNorm2d\", \"kargs\": {\"num_features\":256}},\n",
    "\n",
    "    {\"class\": \"Conv2d\", \"kargs\": { \"in_channels\":256, \"out_channels\":80, \"kernel_size\":(2,7), \"bias\":True, \"padding\":(0,3), },},\n",
    "    {\"class\": \"ReLU\", \"kargs\": {\"inplace\": True}},\n",
    "    {\"class\": \"BatchNorm2d\", \"kargs\": {\"num_features\":80}},\n",
    "    {\"class\": \"Flatten\", \"kargs\": {}},\n",
    "\n",
    "    {\"class\": \"Linear\", \"kargs\": {\"in_features\": 80*256, \"out_features\": 256}}, # 80 units per IQ pair\n",
    "    {\"class\": \"ReLU\", \"kargs\": {\"inplace\": True}},\n",
    "    {\"class\": \"BatchNorm1d\", \"kargs\": {\"num_features\":256}},\n",
    "\n",
    "    {\"class\": \"Linear\", \"kargs\": {\"in_features\": 256, \"out_features\": 256}},\n",
    "]\n",
    "\n",
    "# Parameters relevant to results\n",
    "# These parameters will basically never need to change\n",
    "standalone_parameters[\"NUM_LOGS_PER_EPOCH\"] = 10\n",
    "standalone_parameters[\"BEST_MODEL_PATH\"] = \"./best_model.pth\"\n",
    "\n",
    "\n",
    "\n",
    "\n"
   ]
  },
  {
   "cell_type": "code",
   "execution_count": 4,
   "id": "9a3367c3",
   "metadata": {
    "execution": {
     "iopub.execute_input": "2022-03-21T03:01:13.667973Z",
     "iopub.status.busy": "2022-03-21T03:01:13.666914Z",
     "iopub.status.idle": "2022-03-21T03:01:13.689113Z",
     "shell.execute_reply": "2022-03-21T03:01:13.688412Z"
    },
    "papermill": {
     "duration": 0.060894,
     "end_time": "2022-03-21T03:01:13.689270",
     "exception": false,
     "start_time": "2022-03-21T03:01:13.628376",
     "status": "completed"
    },
    "tags": [
     "injected-parameters"
    ]
   },
   "outputs": [],
   "source": [
    "# Parameters\n",
    "parameters = {\n",
    "    \"experiment_name\": \"tl_1v2:cores-wisig\",\n",
    "    \"device\": \"cuda\",\n",
    "    \"lr\": 0.0001,\n",
    "    \"n_shot\": 3,\n",
    "    \"n_query\": 2,\n",
    "    \"train_k_factor\": 3,\n",
    "    \"val_k_factor\": 2,\n",
    "    \"test_k_factor\": 2,\n",
    "    \"torch_default_dtype\": \"torch.float32\",\n",
    "    \"n_epoch\": 3,\n",
    "    \"patience\": 3,\n",
    "    \"criteria_for_best\": \"target_accuracy\",\n",
    "    \"x_net\": [\n",
    "        {\"class\": \"nnReshape\", \"kargs\": {\"shape\": [-1, 1, 2, 256]}},\n",
    "        {\n",
    "            \"class\": \"Conv2d\",\n",
    "            \"kargs\": {\n",
    "                \"in_channels\": 1,\n",
    "                \"out_channels\": 256,\n",
    "                \"kernel_size\": [1, 7],\n",
    "                \"bias\": False,\n",
    "                \"padding\": [0, 3],\n",
    "            },\n",
    "        },\n",
    "        {\"class\": \"ReLU\", \"kargs\": {\"inplace\": True}},\n",
    "        {\"class\": \"BatchNorm2d\", \"kargs\": {\"num_features\": 256}},\n",
    "        {\n",
    "            \"class\": \"Conv2d\",\n",
    "            \"kargs\": {\n",
    "                \"in_channels\": 256,\n",
    "                \"out_channels\": 80,\n",
    "                \"kernel_size\": [2, 7],\n",
    "                \"bias\": True,\n",
    "                \"padding\": [0, 3],\n",
    "            },\n",
    "        },\n",
    "        {\"class\": \"ReLU\", \"kargs\": {\"inplace\": True}},\n",
    "        {\"class\": \"BatchNorm2d\", \"kargs\": {\"num_features\": 80}},\n",
    "        {\"class\": \"Flatten\", \"kargs\": {}},\n",
    "        {\"class\": \"Linear\", \"kargs\": {\"in_features\": 20480, \"out_features\": 256}},\n",
    "        {\"class\": \"ReLU\", \"kargs\": {\"inplace\": True}},\n",
    "        {\"class\": \"BatchNorm1d\", \"kargs\": {\"num_features\": 256}},\n",
    "        {\"class\": \"Linear\", \"kargs\": {\"in_features\": 256, \"out_features\": 256}},\n",
    "    ],\n",
    "    \"NUM_LOGS_PER_EPOCH\": 10,\n",
    "    \"BEST_MODEL_PATH\": \"./best_model.pth\",\n",
    "    \"n_way\": 58,\n",
    "    \"datasets\": [\n",
    "        {\n",
    "            \"labels\": [\n",
    "                \"1-10.\",\n",
    "                \"1-11.\",\n",
    "                \"1-15.\",\n",
    "                \"1-16.\",\n",
    "                \"1-17.\",\n",
    "                \"1-18.\",\n",
    "                \"1-19.\",\n",
    "                \"10-4.\",\n",
    "                \"10-7.\",\n",
    "                \"11-1.\",\n",
    "                \"11-14.\",\n",
    "                \"11-17.\",\n",
    "                \"11-20.\",\n",
    "                \"11-7.\",\n",
    "                \"13-20.\",\n",
    "                \"13-8.\",\n",
    "                \"14-10.\",\n",
    "                \"14-11.\",\n",
    "                \"14-14.\",\n",
    "                \"14-7.\",\n",
    "                \"15-1.\",\n",
    "                \"15-20.\",\n",
    "                \"16-1.\",\n",
    "                \"16-16.\",\n",
    "                \"17-10.\",\n",
    "                \"17-11.\",\n",
    "                \"17-2.\",\n",
    "                \"19-1.\",\n",
    "                \"19-16.\",\n",
    "                \"19-19.\",\n",
    "                \"19-20.\",\n",
    "                \"19-3.\",\n",
    "                \"2-10.\",\n",
    "                \"2-11.\",\n",
    "                \"2-17.\",\n",
    "                \"2-18.\",\n",
    "                \"2-20.\",\n",
    "                \"2-3.\",\n",
    "                \"2-4.\",\n",
    "                \"2-5.\",\n",
    "                \"2-6.\",\n",
    "                \"2-7.\",\n",
    "                \"2-8.\",\n",
    "                \"3-13.\",\n",
    "                \"3-18.\",\n",
    "                \"3-3.\",\n",
    "                \"4-1.\",\n",
    "                \"4-10.\",\n",
    "                \"4-11.\",\n",
    "                \"4-19.\",\n",
    "                \"5-5.\",\n",
    "                \"6-15.\",\n",
    "                \"7-10.\",\n",
    "                \"7-14.\",\n",
    "                \"8-18.\",\n",
    "                \"8-20.\",\n",
    "                \"8-3.\",\n",
    "                \"8-8.\",\n",
    "            ],\n",
    "            \"domains\": [1, 2, 3, 4, 5],\n",
    "            \"num_examples_per_domain_per_label\": -1,\n",
    "            \"pickle_path\": \"/root/csc500-main/datasets/cores.stratified_ds.2022A.pkl\",\n",
    "            \"source_or_target_dataset\": \"source\",\n",
    "            \"x_transforms\": [\"unit_power\"],\n",
    "            \"episode_transforms\": [],\n",
    "            \"domain_prefix\": \"CORES_\",\n",
    "        },\n",
    "        {\n",
    "            \"labels\": [\n",
    "                \"1-10\",\n",
    "                \"1-12\",\n",
    "                \"1-14\",\n",
    "                \"1-16\",\n",
    "                \"1-18\",\n",
    "                \"1-19\",\n",
    "                \"1-8\",\n",
    "                \"10-11\",\n",
    "                \"10-17\",\n",
    "                \"10-4\",\n",
    "                \"10-7\",\n",
    "                \"11-1\",\n",
    "                \"11-10\",\n",
    "                \"11-19\",\n",
    "                \"11-20\",\n",
    "                \"11-4\",\n",
    "                \"11-7\",\n",
    "                \"12-19\",\n",
    "                \"12-20\",\n",
    "                \"12-7\",\n",
    "                \"13-14\",\n",
    "                \"13-18\",\n",
    "                \"13-19\",\n",
    "                \"13-20\",\n",
    "                \"13-3\",\n",
    "                \"13-7\",\n",
    "                \"14-10\",\n",
    "                \"14-11\",\n",
    "                \"14-12\",\n",
    "                \"14-13\",\n",
    "                \"14-14\",\n",
    "                \"14-19\",\n",
    "                \"14-20\",\n",
    "                \"14-7\",\n",
    "                \"14-8\",\n",
    "                \"14-9\",\n",
    "                \"15-1\",\n",
    "                \"15-19\",\n",
    "                \"15-6\",\n",
    "                \"16-1\",\n",
    "                \"16-16\",\n",
    "                \"16-19\",\n",
    "                \"16-20\",\n",
    "                \"17-10\",\n",
    "                \"17-11\",\n",
    "                \"18-1\",\n",
    "                \"18-10\",\n",
    "                \"18-11\",\n",
    "                \"18-12\",\n",
    "                \"18-13\",\n",
    "                \"18-14\",\n",
    "                \"18-15\",\n",
    "                \"18-16\",\n",
    "                \"18-17\",\n",
    "                \"18-19\",\n",
    "                \"18-2\",\n",
    "                \"18-20\",\n",
    "                \"18-4\",\n",
    "                \"18-5\",\n",
    "                \"18-7\",\n",
    "                \"18-8\",\n",
    "                \"18-9\",\n",
    "                \"19-1\",\n",
    "                \"19-10\",\n",
    "                \"19-11\",\n",
    "                \"19-12\",\n",
    "                \"19-13\",\n",
    "                \"19-14\",\n",
    "                \"19-15\",\n",
    "                \"19-19\",\n",
    "                \"19-2\",\n",
    "                \"19-20\",\n",
    "                \"19-3\",\n",
    "                \"19-4\",\n",
    "                \"19-6\",\n",
    "                \"19-7\",\n",
    "                \"19-8\",\n",
    "                \"19-9\",\n",
    "                \"2-1\",\n",
    "                \"2-13\",\n",
    "                \"2-15\",\n",
    "                \"2-3\",\n",
    "                \"2-4\",\n",
    "                \"2-5\",\n",
    "                \"2-6\",\n",
    "                \"2-7\",\n",
    "                \"2-8\",\n",
    "                \"20-1\",\n",
    "                \"20-12\",\n",
    "                \"20-14\",\n",
    "                \"20-15\",\n",
    "                \"20-16\",\n",
    "                \"20-18\",\n",
    "                \"20-19\",\n",
    "                \"20-20\",\n",
    "                \"20-3\",\n",
    "                \"20-4\",\n",
    "                \"20-5\",\n",
    "                \"20-7\",\n",
    "                \"20-8\",\n",
    "                \"3-1\",\n",
    "                \"3-13\",\n",
    "                \"3-18\",\n",
    "                \"3-2\",\n",
    "                \"3-8\",\n",
    "                \"4-1\",\n",
    "                \"4-10\",\n",
    "                \"4-11\",\n",
    "                \"5-1\",\n",
    "                \"5-5\",\n",
    "                \"6-1\",\n",
    "                \"6-15\",\n",
    "                \"6-6\",\n",
    "                \"7-10\",\n",
    "                \"7-11\",\n",
    "                \"7-12\",\n",
    "                \"7-13\",\n",
    "                \"7-14\",\n",
    "                \"7-7\",\n",
    "                \"7-8\",\n",
    "                \"7-9\",\n",
    "                \"8-1\",\n",
    "                \"8-13\",\n",
    "                \"8-14\",\n",
    "                \"8-18\",\n",
    "                \"8-20\",\n",
    "                \"8-3\",\n",
    "                \"8-8\",\n",
    "                \"9-1\",\n",
    "                \"9-7\",\n",
    "            ],\n",
    "            \"domains\": [1, 2, 3, 4],\n",
    "            \"num_examples_per_domain_per_label\": -1,\n",
    "            \"pickle_path\": \"/root/csc500-main/datasets/wisig.node3-19.stratified_ds.2022A.pkl\",\n",
    "            \"source_or_target_dataset\": \"target\",\n",
    "            \"x_transforms\": [\"unit_power\"],\n",
    "            \"episode_transforms\": [],\n",
    "            \"domain_prefix\": \"Wisig_\",\n",
    "        },\n",
    "    ],\n",
    "    \"dataset_seed\": 154325,\n",
    "    \"seed\": 154325,\n",
    "}\n"
   ]
  },
  {
   "cell_type": "code",
   "execution_count": 5,
   "id": "8fa1cc33",
   "metadata": {
    "execution": {
     "iopub.execute_input": "2022-03-21T03:01:13.743612Z",
     "iopub.status.busy": "2022-03-21T03:01:13.743215Z",
     "iopub.status.idle": "2022-03-21T03:01:13.765906Z",
     "shell.execute_reply": "2022-03-21T03:01:13.765211Z"
    },
    "papermill": {
     "duration": 0.048966,
     "end_time": "2022-03-21T03:01:13.766063",
     "exception": false,
     "start_time": "2022-03-21T03:01:13.717097",
     "status": "completed"
    },
    "tags": []
   },
   "outputs": [],
   "source": [
    "# Set this to True if you want to run this template directly\n",
    "STANDALONE = False\n",
    "if STANDALONE:\n",
    "    print(\"parameters not injected, running with standalone_parameters\")\n",
    "    parameters = standalone_parameters\n",
    "\n",
    "if not 'parameters' in locals() and not 'parameters' in globals():\n",
    "    raise Exception(\"Parameter injection failed\")\n",
    "\n",
    "#Use an easy dict for all the parameters\n",
    "p = EasyDict(parameters)\n",
    "\n",
    "if \"x_shape\" not in p:\n",
    "    p.x_shape = [2,256] # Default to this if we dont supply x_shape\n",
    "\n",
    "\n",
    "supplied_keys = set(p.keys())\n",
    "\n",
    "if  supplied_keys != required_parameters:\n",
    "    print(\"Parameters are incorrect\")\n",
    "    if len(supplied_keys - required_parameters)>0: print(\"Shouldn't have:\", str(supplied_keys - required_parameters))\n",
    "    if len(required_parameters - supplied_keys)>0: print(\"Need to have:\", str(required_parameters - supplied_keys))\n",
    "    raise RuntimeError(\"Parameters are incorrect\")"
   ]
  },
  {
   "cell_type": "code",
   "execution_count": 6,
   "id": "3a028d58",
   "metadata": {
    "execution": {
     "iopub.execute_input": "2022-03-21T03:01:13.812397Z",
     "iopub.status.busy": "2022-03-21T03:01:13.812032Z",
     "iopub.status.idle": "2022-03-21T03:01:13.834187Z",
     "shell.execute_reply": "2022-03-21T03:01:13.833487Z"
    },
    "papermill": {
     "duration": 0.045098,
     "end_time": "2022-03-21T03:01:13.834341",
     "exception": false,
     "start_time": "2022-03-21T03:01:13.789243",
     "status": "completed"
    },
    "tags": []
   },
   "outputs": [],
   "source": [
    "###################################\n",
    "# Set the RNGs and make it all deterministic\n",
    "###################################\n",
    "np.random.seed(p.seed)\n",
    "random.seed(p.seed)\n",
    "torch.manual_seed(p.seed)\n",
    "\n",
    "torch.use_deterministic_algorithms(True) "
   ]
  },
  {
   "cell_type": "code",
   "execution_count": 7,
   "id": "b691acf6",
   "metadata": {
    "execution": {
     "iopub.execute_input": "2022-03-21T03:01:13.882534Z",
     "iopub.status.busy": "2022-03-21T03:01:13.882159Z",
     "iopub.status.idle": "2022-03-21T03:01:13.904356Z",
     "shell.execute_reply": "2022-03-21T03:01:13.903658Z"
    },
    "papermill": {
     "duration": 0.044658,
     "end_time": "2022-03-21T03:01:13.904509",
     "exception": false,
     "start_time": "2022-03-21T03:01:13.859851",
     "status": "completed"
    },
    "tags": []
   },
   "outputs": [],
   "source": [
    "###########################################\n",
    "# The stratified datasets honor this\n",
    "###########################################\n",
    "torch.set_default_dtype(eval(p.torch_default_dtype))"
   ]
  },
  {
   "cell_type": "code",
   "execution_count": 8,
   "id": "b5fba671",
   "metadata": {
    "execution": {
     "iopub.execute_input": "2022-03-21T03:01:13.954594Z",
     "iopub.status.busy": "2022-03-21T03:01:13.953773Z",
     "iopub.status.idle": "2022-03-21T03:01:14.005852Z",
     "shell.execute_reply": "2022-03-21T03:01:14.005125Z"
    },
    "papermill": {
     "duration": 0.07506,
     "end_time": "2022-03-21T03:01:14.006033",
     "exception": false,
     "start_time": "2022-03-21T03:01:13.930973",
     "status": "completed"
    },
    "tags": []
   },
   "outputs": [],
   "source": [
    "###################################\n",
    "# Build the network(s)\n",
    "# Note: It's critical to do this AFTER setting the RNG\n",
    "###################################\n",
    "x_net = build_sequential(p.x_net)"
   ]
  },
  {
   "cell_type": "code",
   "execution_count": 9,
   "id": "5d7e61cc",
   "metadata": {
    "execution": {
     "iopub.execute_input": "2022-03-21T03:01:14.057936Z",
     "iopub.status.busy": "2022-03-21T03:01:14.057050Z",
     "iopub.status.idle": "2022-03-21T03:01:14.083057Z",
     "shell.execute_reply": "2022-03-21T03:01:14.082281Z"
    },
    "papermill": {
     "duration": 0.050516,
     "end_time": "2022-03-21T03:01:14.083248",
     "exception": false,
     "start_time": "2022-03-21T03:01:14.032732",
     "status": "completed"
    },
    "tags": []
   },
   "outputs": [],
   "source": [
    "start_time_secs = time.time()"
   ]
  },
  {
   "cell_type": "code",
   "execution_count": 10,
   "id": "c6b67dfd",
   "metadata": {
    "execution": {
     "iopub.execute_input": "2022-03-21T03:01:14.134302Z",
     "iopub.status.busy": "2022-03-21T03:01:14.133811Z",
     "iopub.status.idle": "2022-03-21T03:01:14.160320Z",
     "shell.execute_reply": "2022-03-21T03:01:14.159608Z"
    },
    "papermill": {
     "duration": 0.049335,
     "end_time": "2022-03-21T03:01:14.160481",
     "exception": false,
     "start_time": "2022-03-21T03:01:14.111146",
     "status": "completed"
    },
    "tags": []
   },
   "outputs": [],
   "source": [
    "p.domains_source = []\n",
    "p.domains_target = []\n",
    "\n",
    "\n",
    "train_original_source = []\n",
    "val_original_source   = []\n",
    "test_original_source  = []\n",
    "\n",
    "train_original_target = []\n",
    "val_original_target   = []\n",
    "test_original_target  = []"
   ]
  },
  {
   "cell_type": "code",
   "execution_count": 11,
   "id": "e3d9c3d3",
   "metadata": {
    "execution": {
     "iopub.execute_input": "2022-03-21T03:01:14.210564Z",
     "iopub.status.busy": "2022-03-21T03:01:14.210187Z",
     "iopub.status.idle": "2022-03-21T03:01:14.233946Z",
     "shell.execute_reply": "2022-03-21T03:01:14.233246Z"
    },
    "papermill": {
     "duration": 0.046709,
     "end_time": "2022-03-21T03:01:14.234099",
     "exception": false,
     "start_time": "2022-03-21T03:01:14.187390",
     "status": "completed"
    },
    "tags": []
   },
   "outputs": [],
   "source": [
    "# global_x_transform_func = lambda x: normalize(x.to(torch.get_default_dtype()), \"unit_power\") # unit_power, unit_mag\n",
    "# global_x_transform_func = lambda x: normalize(x, \"unit_power\") # unit_power, unit_mag"
   ]
  },
  {
   "cell_type": "code",
   "execution_count": 12,
   "id": "acb78fd2",
   "metadata": {
    "execution": {
     "iopub.execute_input": "2022-03-21T03:01:14.295387Z",
     "iopub.status.busy": "2022-03-21T03:01:14.294523Z",
     "iopub.status.idle": "2022-03-21T03:01:14.320003Z",
     "shell.execute_reply": "2022-03-21T03:01:14.319170Z"
    },
    "papermill": {
     "duration": 0.059494,
     "end_time": "2022-03-21T03:01:14.320157",
     "exception": false,
     "start_time": "2022-03-21T03:01:14.260663",
     "status": "completed"
    },
    "tags": []
   },
   "outputs": [],
   "source": [
    "def add_dataset(\n",
    "    labels,\n",
    "    domains,\n",
    "    pickle_path,\n",
    "    x_transforms,\n",
    "    episode_transforms,\n",
    "    domain_prefix,\n",
    "    num_examples_per_domain_per_label,\n",
    "    source_or_target_dataset:str,\n",
    "    iterator_seed=p.seed,\n",
    "    dataset_seed=p.dataset_seed,\n",
    "    n_shot=p.n_shot,\n",
    "    n_way=p.n_way,\n",
    "    n_query=p.n_query,\n",
    "    train_val_test_k_factors=(p.train_k_factor,p.val_k_factor,p.test_k_factor),\n",
    "):\n",
    "   \n",
    "    if x_transforms == []: x_transform = None\n",
    "    else: x_transform = get_chained_transform(x_transforms)\n",
    "    \n",
    "    if episode_transforms == []: episode_transform = None\n",
    "    else: raise Exception(\"episode_transforms not implemented\")\n",
    "    \n",
    "    episode_transform = lambda tup, _prefix=domain_prefix: (_prefix + str(tup[0]), tup[1])\n",
    "\n",
    "\n",
    "    eaf = Episodic_Accessor_Factory(\n",
    "        labels=labels,\n",
    "        domains=domains,\n",
    "        num_examples_per_domain_per_label=num_examples_per_domain_per_label,\n",
    "        iterator_seed=iterator_seed,\n",
    "        dataset_seed=dataset_seed,\n",
    "        n_shot=n_shot,\n",
    "        n_way=n_way,\n",
    "        n_query=n_query,\n",
    "        train_val_test_k_factors=train_val_test_k_factors,\n",
    "        pickle_path=pickle_path,\n",
    "        x_transform_func=x_transform,\n",
    "    )\n",
    "\n",
    "    train, val, test = eaf.get_train(), eaf.get_val(), eaf.get_test()\n",
    "    train = Lazy_Iterable_Wrapper(train, episode_transform)\n",
    "    val = Lazy_Iterable_Wrapper(val, episode_transform)\n",
    "    test = Lazy_Iterable_Wrapper(test, episode_transform)\n",
    "\n",
    "    if source_or_target_dataset==\"source\":\n",
    "        train_original_source.append(train)\n",
    "        val_original_source.append(val)\n",
    "        test_original_source.append(test)\n",
    "\n",
    "        p.domains_source.extend(\n",
    "            [domain_prefix + str(u) for u in domains]\n",
    "        )\n",
    "    elif source_or_target_dataset==\"target\":\n",
    "        train_original_target.append(train)\n",
    "        val_original_target.append(val)\n",
    "        test_original_target.append(test)\n",
    "        p.domains_target.extend(\n",
    "            [domain_prefix + str(u) for u in domains]\n",
    "        )\n",
    "    else:\n",
    "        raise Exception(f\"invalid source_or_target_dataset: {source_or_target_dataset}\")\n",
    "    "
   ]
  },
  {
   "cell_type": "code",
   "execution_count": 13,
   "id": "fe266617",
   "metadata": {
    "execution": {
     "iopub.execute_input": "2022-03-21T03:01:14.370023Z",
     "iopub.status.busy": "2022-03-21T03:01:14.369466Z",
     "iopub.status.idle": "2022-03-21T03:01:58.339620Z",
     "shell.execute_reply": "2022-03-21T03:01:58.338816Z"
    },
    "papermill": {
     "duration": 43.99472,
     "end_time": "2022-03-21T03:01:58.339809",
     "exception": false,
     "start_time": "2022-03-21T03:01:14.345089",
     "status": "completed"
    },
    "tags": []
   },
   "outputs": [],
   "source": [
    "for ds in p.datasets:\n",
    "    add_dataset(**ds)"
   ]
  },
  {
   "cell_type": "code",
   "execution_count": 14,
   "id": "b90d65ac",
   "metadata": {
    "execution": {
     "iopub.execute_input": "2022-03-21T03:01:58.395288Z",
     "iopub.status.busy": "2022-03-21T03:01:58.394254Z",
     "iopub.status.idle": "2022-03-21T03:01:58.415739Z",
     "shell.execute_reply": "2022-03-21T03:01:58.414914Z"
    },
    "papermill": {
     "duration": 0.045604,
     "end_time": "2022-03-21T03:01:58.415905",
     "exception": false,
     "start_time": "2022-03-21T03:01:58.370301",
     "status": "completed"
    },
    "tags": []
   },
   "outputs": [],
   "source": [
    "# from steves_utils.CORES.utils import (\n",
    "#     ALL_NODES,\n",
    "#     ALL_NODES_MINIMUM_1000_EXAMPLES,\n",
    "#     ALL_DAYS\n",
    "# )\n",
    "\n",
    "# add_dataset(\n",
    "#     labels=ALL_NODES,\n",
    "#     domains = ALL_DAYS,\n",
    "#     num_examples_per_domain_per_label=100,\n",
    "#     pickle_path=os.path.join(get_datasets_base_path(), \"cores.stratified_ds.2022A.pkl\"),\n",
    "#     source_or_target_dataset=\"target\",\n",
    "#     x_transform_func=global_x_transform_func,\n",
    "#     domain_modifier=lambda u: f\"cores_{u}\"\n",
    "# )"
   ]
  },
  {
   "cell_type": "code",
   "execution_count": 15,
   "id": "76db484d",
   "metadata": {
    "execution": {
     "iopub.execute_input": "2022-03-21T03:01:58.470852Z",
     "iopub.status.busy": "2022-03-21T03:01:58.470297Z",
     "iopub.status.idle": "2022-03-21T03:01:58.491312Z",
     "shell.execute_reply": "2022-03-21T03:01:58.490610Z"
    },
    "papermill": {
     "duration": 0.04474,
     "end_time": "2022-03-21T03:01:58.491476",
     "exception": false,
     "start_time": "2022-03-21T03:01:58.446736",
     "status": "completed"
    },
    "tags": []
   },
   "outputs": [],
   "source": [
    "# from steves_utils.ORACLE.utils_v2 import (\n",
    "#     ALL_DISTANCES_FEET,\n",
    "#     ALL_RUNS,\n",
    "#     ALL_SERIAL_NUMBERS,\n",
    "# )\n",
    "\n",
    "\n",
    "# add_dataset(\n",
    "#     labels=ALL_SERIAL_NUMBERS,\n",
    "#     domains = list(set(ALL_DISTANCES_FEET) - {2,62}),\n",
    "#     num_examples_per_domain_per_label=100,\n",
    "#     pickle_path=os.path.join(get_datasets_base_path(), \"oracle.Run2_framed_2000Examples_stratified_ds.2022A.pkl\"),\n",
    "#     source_or_target_dataset=\"source\",\n",
    "#     x_transform_func=global_x_transform_func,\n",
    "#     domain_modifier=lambda u: f\"oracle1_{u}\"\n",
    "# )\n"
   ]
  },
  {
   "cell_type": "code",
   "execution_count": 16,
   "id": "97dea9d2",
   "metadata": {
    "execution": {
     "iopub.execute_input": "2022-03-21T03:01:58.552643Z",
     "iopub.status.busy": "2022-03-21T03:01:58.551865Z",
     "iopub.status.idle": "2022-03-21T03:01:58.573569Z",
     "shell.execute_reply": "2022-03-21T03:01:58.572757Z"
    },
    "papermill": {
     "duration": 0.053798,
     "end_time": "2022-03-21T03:01:58.573737",
     "exception": false,
     "start_time": "2022-03-21T03:01:58.519939",
     "status": "completed"
    },
    "tags": []
   },
   "outputs": [],
   "source": [
    "# from steves_utils.ORACLE.utils_v2 import (\n",
    "#     ALL_DISTANCES_FEET,\n",
    "#     ALL_RUNS,\n",
    "#     ALL_SERIAL_NUMBERS,\n",
    "# )\n",
    "\n",
    "\n",
    "# add_dataset(\n",
    "#     labels=ALL_SERIAL_NUMBERS,\n",
    "#     domains = list(set(ALL_DISTANCES_FEET) - {2,62,56}),\n",
    "#     num_examples_per_domain_per_label=100,\n",
    "#     pickle_path=os.path.join(get_datasets_base_path(), \"oracle.Run2_framed_2000Examples_stratified_ds.2022A.pkl\"),\n",
    "#     source_or_target_dataset=\"source\",\n",
    "#     x_transform_func=global_x_transform_func,\n",
    "#     domain_modifier=lambda u: f\"oracle2_{u}\"\n",
    "# )"
   ]
  },
  {
   "cell_type": "code",
   "execution_count": 17,
   "id": "6f289866",
   "metadata": {
    "execution": {
     "iopub.execute_input": "2022-03-21T03:01:58.625632Z",
     "iopub.status.busy": "2022-03-21T03:01:58.625072Z",
     "iopub.status.idle": "2022-03-21T03:01:58.645746Z",
     "shell.execute_reply": "2022-03-21T03:01:58.644937Z"
    },
    "papermill": {
     "duration": 0.045329,
     "end_time": "2022-03-21T03:01:58.645899",
     "exception": false,
     "start_time": "2022-03-21T03:01:58.600570",
     "status": "completed"
    },
    "tags": []
   },
   "outputs": [],
   "source": [
    "# add_dataset(\n",
    "#     labels=list(range(19)),\n",
    "#     domains = [0,1,2],\n",
    "#     num_examples_per_domain_per_label=100,\n",
    "#     pickle_path=os.path.join(get_datasets_base_path(), \"metehan.stratified_ds.2022A.pkl\"),\n",
    "#     source_or_target_dataset=\"target\",\n",
    "#     x_transform_func=global_x_transform_func,\n",
    "#     domain_modifier=lambda u: f\"met_{u}\"\n",
    "# )"
   ]
  },
  {
   "cell_type": "code",
   "execution_count": 18,
   "id": "86a863c3",
   "metadata": {
    "execution": {
     "iopub.execute_input": "2022-03-21T03:01:58.699575Z",
     "iopub.status.busy": "2022-03-21T03:01:58.698993Z",
     "iopub.status.idle": "2022-03-21T03:01:58.718262Z",
     "shell.execute_reply": "2022-03-21T03:01:58.717455Z"
    },
    "papermill": {
     "duration": 0.045211,
     "end_time": "2022-03-21T03:01:58.718414",
     "exception": false,
     "start_time": "2022-03-21T03:01:58.673203",
     "status": "completed"
    },
    "tags": []
   },
   "outputs": [],
   "source": [
    "# # from steves_utils.wisig.utils import (\n",
    "# #     ALL_NODES_MINIMUM_100_EXAMPLES,\n",
    "# #     ALL_NODES_MINIMUM_500_EXAMPLES,\n",
    "# #     ALL_NODES_MINIMUM_1000_EXAMPLES,\n",
    "# #     ALL_DAYS\n",
    "# # )\n",
    "\n",
    "# import steves_utils.wisig.utils as wisig\n",
    "\n",
    "\n",
    "# add_dataset(\n",
    "#     labels=wisig.ALL_NODES_MINIMUM_100_EXAMPLES,\n",
    "#     domains = wisig.ALL_DAYS,\n",
    "#     num_examples_per_domain_per_label=100,\n",
    "#     pickle_path=os.path.join(get_datasets_base_path(), \"wisig.node3-19.stratified_ds.2022A.pkl\"),\n",
    "#     source_or_target_dataset=\"target\",\n",
    "#     x_transform_func=global_x_transform_func,\n",
    "#     domain_modifier=lambda u: f\"wisig_{u}\"\n",
    "# )"
   ]
  },
  {
   "cell_type": "code",
   "execution_count": 19,
   "id": "fd5442bc",
   "metadata": {
    "execution": {
     "iopub.execute_input": "2022-03-21T03:01:58.777027Z",
     "iopub.status.busy": "2022-03-21T03:01:58.776450Z",
     "iopub.status.idle": "2022-03-21T03:01:58.793971Z",
     "shell.execute_reply": "2022-03-21T03:01:58.793166Z"
    },
    "papermill": {
     "duration": 0.048955,
     "end_time": "2022-03-21T03:01:58.794127",
     "exception": false,
     "start_time": "2022-03-21T03:01:58.745172",
     "status": "completed"
    },
    "tags": []
   },
   "outputs": [],
   "source": [
    "###################################\n",
    "# Build the dataset\n",
    "###################################\n",
    "train_original_source = Iterable_Aggregator(train_original_source, p.seed)\n",
    "val_original_source = Iterable_Aggregator(val_original_source, p.seed)\n",
    "test_original_source = Iterable_Aggregator(test_original_source, p.seed)\n",
    "\n",
    "\n",
    "train_original_target = Iterable_Aggregator(train_original_target, p.seed)\n",
    "val_original_target = Iterable_Aggregator(val_original_target, p.seed)\n",
    "test_original_target = Iterable_Aggregator(test_original_target, p.seed)\n",
    "\n",
    "# For CNN We only use X and Y. And we only train on the source.\n",
    "# Properly form the data using a transform lambda and Lazy_Iterable_Wrapper. Finally wrap them in a dataloader\n",
    "\n",
    "transform_lambda = lambda ex: ex[1] # Original is (<domain>, <episode>) so we strip down to episode only\n",
    "\n",
    "train_processed_source = Lazy_Iterable_Wrapper(train_original_source, transform_lambda)\n",
    "val_processed_source   = Lazy_Iterable_Wrapper(val_original_source, transform_lambda)\n",
    "test_processed_source  = Lazy_Iterable_Wrapper(test_original_source, transform_lambda)\n",
    "\n",
    "train_processed_target = Lazy_Iterable_Wrapper(train_original_target, transform_lambda)\n",
    "val_processed_target   = Lazy_Iterable_Wrapper(val_original_target, transform_lambda)\n",
    "test_processed_target  = Lazy_Iterable_Wrapper(test_original_target, transform_lambda)\n",
    "\n",
    "datasets = EasyDict({\n",
    "    \"source\": {\n",
    "        \"original\": {\"train\":train_original_source, \"val\":val_original_source, \"test\":test_original_source},\n",
    "        \"processed\": {\"train\":train_processed_source, \"val\":val_processed_source, \"test\":test_processed_source}\n",
    "    },\n",
    "    \"target\": {\n",
    "        \"original\": {\"train\":train_original_target, \"val\":val_original_target, \"test\":test_original_target},\n",
    "        \"processed\": {\"train\":train_processed_target, \"val\":val_processed_target, \"test\":test_processed_target}\n",
    "    },\n",
    "})"
   ]
  },
  {
   "cell_type": "code",
   "execution_count": 20,
   "id": "5b3c01fc",
   "metadata": {
    "execution": {
     "iopub.execute_input": "2022-03-21T03:01:58.845602Z",
     "iopub.status.busy": "2022-03-21T03:01:58.845231Z",
     "iopub.status.idle": "2022-03-21T03:02:07.337486Z",
     "shell.execute_reply": "2022-03-21T03:02:07.336619Z"
    },
    "papermill": {
     "duration": 8.516489,
     "end_time": "2022-03-21T03:02:07.337668",
     "exception": false,
     "start_time": "2022-03-21T03:01:58.821179",
     "status": "completed"
    },
    "tags": []
   },
   "outputs": [
    {
     "name": "stdout",
     "output_type": "stream",
     "text": [
      "{'CORES_1', 'CORES_5', 'CORES_4', 'CORES_2', 'CORES_3'}\n"
     ]
    },
    {
     "name": "stdout",
     "output_type": "stream",
     "text": [
      "{'Wisig_3', 'Wisig_2', 'Wisig_4', 'Wisig_1'}\n"
     ]
    },
    {
     "name": "stdout",
     "output_type": "stream",
     "text": [
      "tensor([[[ 0.4485,  0.7125, -0.3192,  ...,  0.6231, -0.8474, -1.0545],\n",
      "         [-0.3646, -0.0425, -0.1773,  ..., -0.1333,  0.0391, -0.0697]],\n",
      "\n",
      "        [[-0.0314,  0.0736, -0.0519,  ..., -1.0762, -0.2211,  0.9473],\n",
      "         [ 0.0161,  0.0247, -0.2973,  ...,  0.0926, -0.6907, -0.7034]],\n",
      "\n",
      "        [[-0.1087, -0.0518,  0.1329,  ...,  0.3334, -0.1010, -1.3230],\n",
      "         [-0.1164,  0.1087,  0.0204,  ...,  0.3069,  0.5791,  0.0887]],\n",
      "\n",
      "        ...,\n",
      "\n",
      "        [[ 0.1054,  0.1927,  0.6620,  ..., -0.4123,  0.7164,  1.1562],\n",
      "         [-0.1954, -0.4405, -0.0248,  ...,  0.2927,  0.3753, -0.6432]],\n",
      "\n",
      "        [[ 0.0879,  0.1278,  0.2458,  ..., -1.0088, -0.5085,  0.5744],\n",
      "         [-0.0521, -0.0891, -0.2811,  ..., -0.1186,  0.1967,  0.6230]],\n",
      "\n",
      "        [[-0.1429, -0.1393, -0.4222,  ...,  0.8631,  0.0811, -1.0670],\n",
      "         [ 0.0804,  0.2125,  0.3827,  ...,  0.1328, -0.4811, -0.1537]]])\n"
     ]
    }
   ],
   "source": [
    "from steves_utils.transforms import get_average_magnitude, get_average_power\n",
    "\n",
    "print(set([u for u,_ in val_original_source]))\n",
    "print(set([u for u,_ in val_original_target]))\n",
    "\n",
    "s_x, s_y, q_x, q_y, _ = next(iter(train_processed_source))\n",
    "print(s_x)\n",
    "\n",
    "# for ds in [\n",
    "#     train_processed_source,\n",
    "#     val_processed_source,\n",
    "#     test_processed_source,\n",
    "#     train_processed_target,\n",
    "#     val_processed_target,\n",
    "#     test_processed_target\n",
    "# ]:\n",
    "#     for s_x, s_y, q_x, q_y, _ in ds:\n",
    "#         for X in (s_x, q_x):\n",
    "#             for x in X:\n",
    "#                 assert np.isclose(get_average_magnitude(x.numpy()), 1.0)\n",
    "#                 assert np.isclose(get_average_power(x.numpy()), 1.0)\n",
    "                "
   ]
  },
  {
   "cell_type": "code",
   "execution_count": 21,
   "id": "bbdacba1",
   "metadata": {
    "execution": {
     "iopub.execute_input": "2022-03-21T03:02:07.393844Z",
     "iopub.status.busy": "2022-03-21T03:02:07.393010Z",
     "iopub.status.idle": "2022-03-21T03:02:07.574559Z",
     "shell.execute_reply": "2022-03-21T03:02:07.574214Z"
    },
    "papermill": {
     "duration": 0.210367,
     "end_time": "2022-03-21T03:02:07.574665",
     "exception": false,
     "start_time": "2022-03-21T03:02:07.364298",
     "status": "completed"
    },
    "tags": []
   },
   "outputs": [
    {
     "name": "stdout",
     "output_type": "stream",
     "text": [
      "(2, 256)\n"
     ]
    }
   ],
   "source": [
    "###################################\n",
    "# Build the model\n",
    "###################################\n",
    "# easfsl only wants a tuple for the shape\n",
    "model = Steves_Prototypical_Network(x_net, device=p.device, x_shape=tuple(p.x_shape))\n",
    "optimizer = Adam(params=model.parameters(), lr=p.lr)"
   ]
  },
  {
   "cell_type": "code",
   "execution_count": 22,
   "id": "22b39ac5",
   "metadata": {
    "execution": {
     "iopub.execute_input": "2022-03-21T03:02:07.634122Z",
     "iopub.status.busy": "2022-03-21T03:02:07.633309Z",
     "iopub.status.idle": "2022-03-21T03:04:15.347497Z",
     "shell.execute_reply": "2022-03-21T03:04:15.347856Z"
    },
    "papermill": {
     "duration": 127.749751,
     "end_time": "2022-03-21T03:04:15.347968",
     "exception": false,
     "start_time": "2022-03-21T03:02:07.598217",
     "status": "completed"
    },
    "tags": []
   },
   "outputs": [
    {
     "name": "stdout",
     "output_type": "stream",
     "text": [
      "epoch: 1, [batch: 1 / 351], examples_per_second: 339.4658, train_label_loss: 3.8450, \n"
     ]
    },
    {
     "name": "stdout",
     "output_type": "stream",
     "text": [
      "epoch: 1, [batch: 36 / 351], examples_per_second: 3120.5977, train_label_loss: 0.8614, \n"
     ]
    },
    {
     "name": "stdout",
     "output_type": "stream",
     "text": [
      "epoch: 1, [batch: 71 / 351], examples_per_second: 3058.6187, train_label_loss: 0.2290, \n"
     ]
    },
    {
     "name": "stdout",
     "output_type": "stream",
     "text": [
      "epoch: 1, [batch: 106 / 351], examples_per_second: 3468.3065, train_label_loss: 0.0995, \n"
     ]
    },
    {
     "name": "stdout",
     "output_type": "stream",
     "text": [
      "epoch: 1, [batch: 141 / 351], examples_per_second: 3465.2852, train_label_loss: 0.0586, \n"
     ]
    },
    {
     "name": "stdout",
     "output_type": "stream",
     "text": [
      "epoch: 1, [batch: 176 / 351], examples_per_second: 3529.3843, train_label_loss: 0.0376, \n"
     ]
    },
    {
     "name": "stdout",
     "output_type": "stream",
     "text": [
      "epoch: 1, [batch: 211 / 351], examples_per_second: 3508.1306, train_label_loss: 0.0616, \n"
     ]
    },
    {
     "name": "stdout",
     "output_type": "stream",
     "text": [
      "epoch: 1, [batch: 246 / 351], examples_per_second: 3472.6645, train_label_loss: 0.0275, \n"
     ]
    },
    {
     "name": "stdout",
     "output_type": "stream",
     "text": [
      "epoch: 1, [batch: 281 / 351], examples_per_second: 3411.3424, train_label_loss: 0.0247, \n"
     ]
    },
    {
     "name": "stdout",
     "output_type": "stream",
     "text": [
      "epoch: 1, [batch: 316 / 351], examples_per_second: 3363.0844, train_label_loss: 0.0351, \n"
     ]
    },
    {
     "name": "stdout",
     "output_type": "stream",
     "text": [
      "=============================================================\n",
      "epoch: 1, source_val_acc_label: 0.9944, target_val_acc_label: 0.7310, source_val_label_loss: 0.0311, target_val_label_loss: 1.5789, \n",
      "=============================================================\n"
     ]
    },
    {
     "name": "stdout",
     "output_type": "stream",
     "text": [
      "New best\n"
     ]
    },
    {
     "name": "stdout",
     "output_type": "stream",
     "text": [
      "epoch: 2, [batch: 1 / 351], examples_per_second: 34.3565, train_label_loss: 0.0325, \n"
     ]
    },
    {
     "name": "stdout",
     "output_type": "stream",
     "text": [
      "epoch: 2, [batch: 36 / 351], examples_per_second: 3416.4190, train_label_loss: 0.0115, \n"
     ]
    },
    {
     "name": "stdout",
     "output_type": "stream",
     "text": [
      "epoch: 2, [batch: 71 / 351], examples_per_second: 3385.2682, train_label_loss: 0.0050, \n"
     ]
    },
    {
     "name": "stdout",
     "output_type": "stream",
     "text": [
      "epoch: 2, [batch: 106 / 351], examples_per_second: 3479.8574, train_label_loss: 0.0078, \n"
     ]
    },
    {
     "name": "stdout",
     "output_type": "stream",
     "text": [
      "epoch: 2, [batch: 141 / 351], examples_per_second: 3385.3705, train_label_loss: 0.0119, \n"
     ]
    },
    {
     "name": "stdout",
     "output_type": "stream",
     "text": [
      "epoch: 2, [batch: 176 / 351], examples_per_second: 3490.3250, train_label_loss: 0.0104, \n"
     ]
    },
    {
     "name": "stdout",
     "output_type": "stream",
     "text": [
      "epoch: 2, [batch: 211 / 351], examples_per_second: 3395.7790, train_label_loss: 0.0076, \n"
     ]
    },
    {
     "name": "stdout",
     "output_type": "stream",
     "text": [
      "epoch: 2, [batch: 246 / 351], examples_per_second: 3274.8404, train_label_loss: 0.0056, \n"
     ]
    },
    {
     "name": "stdout",
     "output_type": "stream",
     "text": [
      "epoch: 2, [batch: 281 / 351], examples_per_second: 3350.1403, train_label_loss: 0.0097, \n"
     ]
    },
    {
     "name": "stdout",
     "output_type": "stream",
     "text": [
      "epoch: 2, [batch: 316 / 351], examples_per_second: 3532.9905, train_label_loss: 0.0037, \n"
     ]
    },
    {
     "name": "stdout",
     "output_type": "stream",
     "text": [
      "=============================================================\n",
      "epoch: 2, source_val_acc_label: 0.9955, target_val_acc_label: 0.7254, source_val_label_loss: 0.0269, target_val_label_loss: 2.7061, \n",
      "=============================================================\n"
     ]
    },
    {
     "name": "stdout",
     "output_type": "stream",
     "text": [
      "epoch: 3, [batch: 1 / 351], examples_per_second: 34.3085, train_label_loss: 0.1940, \n"
     ]
    },
    {
     "name": "stdout",
     "output_type": "stream",
     "text": [
      "epoch: 3, [batch: 36 / 351], examples_per_second: 3542.9762, train_label_loss: 0.2282, \n"
     ]
    },
    {
     "name": "stdout",
     "output_type": "stream",
     "text": [
      "epoch: 3, [batch: 71 / 351], examples_per_second: 3548.1165, train_label_loss: 0.0018, \n"
     ]
    },
    {
     "name": "stdout",
     "output_type": "stream",
     "text": [
      "epoch: 3, [batch: 106 / 351], examples_per_second: 3588.4454, train_label_loss: 0.0029, \n"
     ]
    },
    {
     "name": "stdout",
     "output_type": "stream",
     "text": [
      "epoch: 3, [batch: 141 / 351], examples_per_second: 3457.7956, train_label_loss: 0.0013, \n"
     ]
    },
    {
     "name": "stdout",
     "output_type": "stream",
     "text": [
      "epoch: 3, [batch: 176 / 351], examples_per_second: 3557.3195, train_label_loss: 0.0011, \n"
     ]
    },
    {
     "name": "stdout",
     "output_type": "stream",
     "text": [
      "epoch: 3, [batch: 211 / 351], examples_per_second: 3466.8528, train_label_loss: 0.0105, \n"
     ]
    },
    {
     "name": "stdout",
     "output_type": "stream",
     "text": [
      "epoch: 3, [batch: 246 / 351], examples_per_second: 3686.4062, train_label_loss: 0.0018, \n"
     ]
    },
    {
     "name": "stdout",
     "output_type": "stream",
     "text": [
      "epoch: 3, [batch: 281 / 351], examples_per_second: 3965.3103, train_label_loss: 0.0100, \n"
     ]
    },
    {
     "name": "stdout",
     "output_type": "stream",
     "text": [
      "epoch: 3, [batch: 316 / 351], examples_per_second: 4003.4408, train_label_loss: 0.0022, \n"
     ]
    },
    {
     "name": "stdout",
     "output_type": "stream",
     "text": [
      "=============================================================\n",
      "epoch: 3, source_val_acc_label: 0.9964, target_val_acc_label: 0.7282, source_val_label_loss: 0.0186, target_val_label_loss: 3.0609, \n",
      "=============================================================\n"
     ]
    }
   ],
   "source": [
    "###################################\n",
    "# train\n",
    "###################################\n",
    "jig = PTN_Train_Eval_Test_Jig(model, p.BEST_MODEL_PATH, p.device)\n",
    "\n",
    "jig.train(\n",
    "    train_iterable=datasets.source.processed.train,\n",
    "    source_val_iterable=datasets.source.processed.val,\n",
    "    target_val_iterable=datasets.target.processed.val,\n",
    "    num_epochs=p.n_epoch,\n",
    "    num_logs_per_epoch=p.NUM_LOGS_PER_EPOCH,\n",
    "    patience=p.patience,\n",
    "    optimizer=optimizer,\n",
    "    criteria_for_best=p.criteria_for_best,\n",
    ")"
   ]
  },
  {
   "cell_type": "code",
   "execution_count": 23,
   "id": "31e8fabf",
   "metadata": {
    "execution": {
     "iopub.execute_input": "2022-03-21T03:04:15.419002Z",
     "iopub.status.busy": "2022-03-21T03:04:15.418624Z",
     "iopub.status.idle": "2022-03-21T03:04:15.448685Z",
     "shell.execute_reply": "2022-03-21T03:04:15.447924Z"
    },
    "papermill": {
     "duration": 0.067864,
     "end_time": "2022-03-21T03:04:15.448866",
     "exception": false,
     "start_time": "2022-03-21T03:04:15.381002",
     "status": "completed"
    },
    "tags": []
   },
   "outputs": [],
   "source": [
    "total_experiment_time_secs = time.time() - start_time_secs"
   ]
  },
  {
   "cell_type": "code",
   "execution_count": 24,
   "id": "87b9595b",
   "metadata": {
    "execution": {
     "iopub.execute_input": "2022-03-21T03:04:15.533467Z",
     "iopub.status.busy": "2022-03-21T03:04:15.533029Z",
     "iopub.status.idle": "2022-03-21T03:05:07.335187Z",
     "shell.execute_reply": "2022-03-21T03:05:07.334415Z"
    },
    "papermill": {
     "duration": 51.844814,
     "end_time": "2022-03-21T03:05:07.335369",
     "exception": false,
     "start_time": "2022-03-21T03:04:15.490555",
     "status": "completed"
    },
    "tags": []
   },
   "outputs": [],
   "source": [
    "###################################\n",
    "# Evaluate the model\n",
    "###################################\n",
    "source_test_label_accuracy, source_test_label_loss = jig.test(datasets.source.processed.test)\n",
    "target_test_label_accuracy, target_test_label_loss = jig.test(datasets.target.processed.test)\n",
    "\n",
    "source_val_label_accuracy, source_val_label_loss = jig.test(datasets.source.processed.val)\n",
    "target_val_label_accuracy, target_val_label_loss = jig.test(datasets.target.processed.val)\n",
    "\n",
    "history = jig.get_history()\n",
    "\n",
    "total_epochs_trained = len(history[\"epoch_indices\"])\n",
    "\n",
    "val_dl = Iterable_Aggregator((datasets.source.original.val,datasets.target.original.val))\n",
    "\n",
    "confusion = ptn_confusion_by_domain_over_dataloader(model, p.device, val_dl)\n",
    "per_domain_accuracy = per_domain_accuracy_from_confusion(confusion)\n",
    "\n",
    "# Add a key to per_domain_accuracy for if it was a source domain\n",
    "for domain, accuracy in per_domain_accuracy.items():\n",
    "    per_domain_accuracy[domain] = {\n",
    "        \"accuracy\": accuracy,\n",
    "        \"source?\": domain in p.domains_source\n",
    "    }\n",
    "\n",
    "# Do an independent accuracy assesment JUST TO BE SURE!\n",
    "# _source_test_label_accuracy = independent_accuracy_assesment(model, datasets.source.processed.test, p.device)\n",
    "# _target_test_label_accuracy = independent_accuracy_assesment(model, datasets.target.processed.test, p.device)\n",
    "# _source_val_label_accuracy = independent_accuracy_assesment(model, datasets.source.processed.val, p.device)\n",
    "# _target_val_label_accuracy = independent_accuracy_assesment(model, datasets.target.processed.val, p.device)\n",
    "\n",
    "# assert(_source_test_label_accuracy == source_test_label_accuracy)\n",
    "# assert(_target_test_label_accuracy == target_test_label_accuracy)\n",
    "# assert(_source_val_label_accuracy == source_val_label_accuracy)\n",
    "# assert(_target_val_label_accuracy == target_val_label_accuracy)\n",
    "\n",
    "experiment = {\n",
    "    \"experiment_name\": p.experiment_name,\n",
    "    \"parameters\": dict(p),\n",
    "    \"results\": {\n",
    "        \"source_test_label_accuracy\": source_test_label_accuracy,\n",
    "        \"source_test_label_loss\": source_test_label_loss,\n",
    "        \"target_test_label_accuracy\": target_test_label_accuracy,\n",
    "        \"target_test_label_loss\": target_test_label_loss,\n",
    "        \"source_val_label_accuracy\": source_val_label_accuracy,\n",
    "        \"source_val_label_loss\": source_val_label_loss,\n",
    "        \"target_val_label_accuracy\": target_val_label_accuracy,\n",
    "        \"target_val_label_loss\": target_val_label_loss,\n",
    "        \"total_epochs_trained\": total_epochs_trained,\n",
    "        \"total_experiment_time_secs\": total_experiment_time_secs,\n",
    "        \"confusion\": confusion,\n",
    "        \"per_domain_accuracy\": per_domain_accuracy,\n",
    "    },\n",
    "    \"history\": history,\n",
    "    \"dataset_metrics\": get_dataset_metrics(datasets, \"ptn\"),\n",
    "}"
   ]
  },
  {
   "cell_type": "code",
   "execution_count": 25,
   "id": "54a21829",
   "metadata": {
    "execution": {
     "iopub.execute_input": "2022-03-21T03:05:07.412057Z",
     "iopub.status.busy": "2022-03-21T03:05:07.411679Z",
     "iopub.status.idle": "2022-03-21T03:05:07.621585Z",
     "shell.execute_reply": "2022-03-21T03:05:07.621060Z"
    },
    "papermill": {
     "duration": 0.24667,
     "end_time": "2022-03-21T03:05:07.621734",
     "exception": false,
     "start_time": "2022-03-21T03:05:07.375064",
     "status": "completed"
    },
    "tags": []
   },
   "outputs": [
    {
     "data": {
      "image/png": "[encoded data removed]",
      "text/plain": [
       "<Figure size 1080x504 with 1 Axes>"
      ]
     },
     "metadata": {
      "needs_background": "light"
     },
     "output_type": "display_data"
    }
   ],
   "source": [
    "ax = get_loss_curve(experiment)\n",
    "plt.show()"
   ]
  },
  {
   "cell_type": "code",
   "execution_count": 26,
   "id": "fd8a0f60",
   "metadata": {
    "execution": {
     "iopub.execute_input": "2022-03-21T03:05:07.711625Z",
     "iopub.status.busy": "2022-03-21T03:05:07.711210Z",
     "iopub.status.idle": "2022-03-21T03:05:08.079835Z",
     "shell.execute_reply": "2022-03-21T03:05:08.080529Z"
    },
    "papermill": {
     "duration": 0.408355,
     "end_time": "2022-03-21T03:05:08.080763",
     "exception": false,
     "start_time": "2022-03-21T03:05:07.672408",
     "status": "completed"
    },
    "tags": []
   },
   "outputs": [
    {
     "data": {
      "text/plain": [
       "<AxesSubplot:title={'center':'Results'}>"
      ]
     },
     "execution_count": 26,
     "metadata": {},
     "output_type": "execute_result"
    },
    {
     "data": {
      "image/png": "[encoded data removed]",
      "text/plain": [
       "<Figure size 1080x504 with 1 Axes>"
      ]
     },
     "metadata": {
      "needs_background": "light"
     },
     "output_type": "display_data"
    }
   ],
   "source": [
    "get_results_table(experiment)"
   ]
  },
  {
   "cell_type": "code",
   "execution_count": 27,
   "id": "cf8dc689",
   "metadata": {
    "execution": {
     "iopub.execute_input": "2022-03-21T03:05:08.162703Z",
     "iopub.status.busy": "2022-03-21T03:05:08.162320Z",
     "iopub.status.idle": "2022-03-21T03:05:08.385676Z",
     "shell.execute_reply": "2022-03-21T03:05:08.386350Z"
    },
    "papermill": {
     "duration": 0.263467,
     "end_time": "2022-03-21T03:05:08.386580",
     "exception": false,
     "start_time": "2022-03-21T03:05:08.123113",
     "status": "completed"
    },
    "tags": []
   },
   "outputs": [
    {
     "data": {
      "text/plain": [
       "<AxesSubplot:title={'center':'Per Domain Validation Accuracy'}, xlabel='domain'>"
      ]
     },
     "execution_count": 27,
     "metadata": {},
     "output_type": "execute_result"
    },
    {
     "data": {
      "image/png": "[encoded data removed]",
      "text/plain": [
       "<Figure size 1080x504 with 1 Axes>"
      ]
     },
     "metadata": {
      "needs_background": "light"
     },
     "output_type": "display_data"
    }
   ],
   "source": [
    "get_domain_accuracies(experiment)"
   ]
  },
  {
   "cell_type": "code",
   "execution_count": 28,
   "id": "a74ae082",
   "metadata": {
    "execution": {
     "iopub.execute_input": "2022-03-21T03:05:08.468839Z",
     "iopub.status.busy": "2022-03-21T03:05:08.468453Z",
     "iopub.status.idle": "2022-03-21T03:05:08.492778Z",
     "shell.execute_reply": "2022-03-21T03:05:08.492045Z"
    },
    "papermill": {
     "duration": 0.063796,
     "end_time": "2022-03-21T03:05:08.492952",
     "exception": false,
     "start_time": "2022-03-21T03:05:08.429156",
     "status": "completed"
    },
    "tags": []
   },
   "outputs": [
    {
     "name": "stdout",
     "output_type": "stream",
     "text": [
      "Source Test Label Accuracy: 0.9967241379310345 Target Test Label Accuracy: 0.7268567639257294\n",
      "Source Val Label Accuracy: 0.9944324712643678 Target Val Label Accuracy: 0.7310211173483026\n"
     ]
    }
   ],
   "source": [
    "print(\"Source Test Label Accuracy:\", experiment[\"results\"][\"source_test_label_accuracy\"], \"Target Test Label Accuracy:\", experiment[\"results\"][\"target_test_label_accuracy\"])\n",
    "print(\"Source Val Label Accuracy:\", experiment[\"results\"][\"source_val_label_accuracy\"], \"Target Val Label Accuracy:\", experiment[\"results\"][\"target_val_label_accuracy\"])"
   ]
  },
  {
   "cell_type": "code",
   "execution_count": 29,
   "id": "dacca602",
   "metadata": {
    "execution": {
     "iopub.execute_input": "2022-03-21T03:05:08.587649Z",
     "iopub.status.busy": "2022-03-21T03:05:08.587246Z",
     "iopub.status.idle": "2022-03-21T03:05:08.608687Z",
     "shell.execute_reply": "2022-03-21T03:05:08.609364Z"
    },
    "papermill": {
     "duration": 0.061782,
     "end_time": "2022-03-21T03:05:08.609567",
     "exception": false,
     "start_time": "2022-03-21T03:05:08.547785",
     "status": "completed"
    },
    "tags": [
     "experiment_json"
    ]
   },
   "outputs": [
    {
     "data": {
      "text/plain": [
       "'{\"experiment_name\": \"tl_1v2:cores-wisig\", \"parameters\": {\"experiment_name\": \"tl_1v2:cores-wisig\", \"device\": \"cuda\", \"lr\": 0.0001, \"n_shot\": 3, \"n_query\": 2, \"train_k_factor\": 3, \"val_k_factor\": 2, \"test_k_factor\": 2, \"torch_default_dtype\": \"torch.float32\", \"n_epoch\": 3, \"patience\": 3, \"criteria_for_best\": \"target_accuracy\", \"x_net\": [{\"class\": \"nnReshape\", \"kargs\": {\"shape\": [-1, 1, 2, 256]}}, {\"class\": \"Conv2d\", \"kargs\": {\"in_channels\": 1, \"out_channels\": 256, \"kernel_size\": [1, 7], \"bias\": false, \"padding\": [0, 3]}}, {\"class\": \"ReLU\", \"kargs\": {\"inplace\": true}}, {\"class\": \"BatchNorm2d\", \"kargs\": {\"num_features\": 256}}, {\"class\": \"Conv2d\", \"kargs\": {\"in_channels\": 256, \"out_channels\": 80, \"kernel_size\": [2, 7], \"bias\": true, \"padding\": [0, 3]}}, {\"class\": \"ReLU\", \"kargs\": {\"inplace\": true}}, {\"class\": \"BatchNorm2d\", \"kargs\": {\"num_features\": 80}}, {\"class\": \"Flatten\", \"kargs\": {}}, {\"class\": \"Linear\", \"kargs\": {\"in_features\": 20480, \"out_features\": 256}}, {\"class\": \"ReLU\", \"kargs\": {\"inplace\": true}}, {\"class\": \"BatchNorm1d\", \"kargs\": {\"num_features\": 256}}, {\"class\": \"Linear\", \"kargs\": {\"in_features\": 256, \"out_features\": 256}}], \"NUM_LOGS_PER_EPOCH\": 10, \"BEST_MODEL_PATH\": \"./best_model.pth\", \"n_way\": 58, \"datasets\": [{\"labels\": [\"1-10.\", \"1-11.\", \"1-15.\", \"1-16.\", \"1-17.\", \"1-18.\", \"1-19.\", \"10-4.\", \"10-7.\", \"11-1.\", \"11-14.\", \"11-17.\", \"11-20.\", \"11-7.\", \"13-20.\", \"13-8.\", \"14-10.\", \"14-11.\", \"14-14.\", \"14-7.\", \"15-1.\", \"15-20.\", \"16-1.\", \"16-16.\", \"17-10.\", \"17-11.\", \"17-2.\", \"19-1.\", \"19-16.\", \"19-19.\", \"19-20.\", \"19-3.\", \"2-10.\", \"2-11.\", \"2-17.\", \"2-18.\", \"2-20.\", \"2-3.\", \"2-4.\", \"2-5.\", \"2-6.\", \"2-7.\", \"2-8.\", \"3-13.\", \"3-18.\", \"3-3.\", \"4-1.\", \"4-10.\", \"4-11.\", \"4-19.\", \"5-5.\", \"6-15.\", \"7-10.\", \"7-14.\", \"8-18.\", \"8-20.\", \"8-3.\", \"8-8.\"], \"domains\": [1, 2, 3, 4, 5], \"num_examples_per_domain_per_label\": -1, \"pickle_path\": \"/root/csc500-main/datasets/cores.stratified_ds.2022A.pkl\", \"source_or_target_dataset\": \"source\", \"x_transforms\": [\"unit_power\"], \"episode_transforms\": [], \"domain_prefix\": \"CORES_\"}, {\"labels\": [\"1-10\", \"1-12\", \"1-14\", \"1-16\", \"1-18\", \"1-19\", \"1-8\", \"10-11\", \"10-17\", \"10-4\", \"10-7\", \"11-1\", \"11-10\", \"11-19\", \"11-20\", \"11-4\", \"11-7\", \"12-19\", \"12-20\", \"12-7\", \"13-14\", \"13-18\", \"13-19\", \"13-20\", \"13-3\", \"13-7\", \"14-10\", \"14-11\", \"14-12\", \"14-13\", \"14-14\", \"14-19\", \"14-20\", \"14-7\", \"14-8\", \"14-9\", \"15-1\", \"15-19\", \"15-6\", \"16-1\", \"16-16\", \"16-19\", \"16-20\", \"17-10\", \"17-11\", \"18-1\", \"18-10\", \"18-11\", \"18-12\", \"18-13\", \"18-14\", \"18-15\", \"18-16\", \"18-17\", \"18-19\", \"18-2\", \"18-20\", \"18-4\", \"18-5\", \"18-7\", \"18-8\", \"18-9\", \"19-1\", \"19-10\", \"19-11\", \"19-12\", \"19-13\", \"19-14\", \"19-15\", \"19-19\", \"19-2\", \"19-20\", \"19-3\", \"19-4\", \"19-6\", \"19-7\", \"19-8\", \"19-9\", \"2-1\", \"2-13\", \"2-15\", \"2-3\", \"2-4\", \"2-5\", \"2-6\", \"2-7\", \"2-8\", \"20-1\", \"20-12\", \"20-14\", \"20-15\", \"20-16\", \"20-18\", \"20-19\", \"20-20\", \"20-3\", \"20-4\", \"20-5\", \"20-7\", \"20-8\", \"3-1\", \"3-13\", \"3-18\", \"3-2\", \"3-8\", \"4-1\", \"4-10\", \"4-11\", \"5-1\", \"5-5\", \"6-1\", \"6-15\", \"6-6\", \"7-10\", \"7-11\", \"7-12\", \"7-13\", \"7-14\", \"7-7\", \"7-8\", \"7-9\", \"8-1\", \"8-13\", \"8-14\", \"8-18\", \"8-20\", \"8-3\", \"8-8\", \"9-1\", \"9-7\"], \"domains\": [1, 2, 3, 4], \"num_examples_per_domain_per_label\": -1, \"pickle_path\": \"/root/csc500-main/datasets/wisig.node3-19.stratified_ds.2022A.pkl\", \"source_or_target_dataset\": \"target\", \"x_transforms\": [\"unit_power\"], \"episode_transforms\": [], \"domain_prefix\": \"Wisig_\"}], \"dataset_seed\": 154325, \"seed\": 154325, \"x_shape\": [2, 256], \"domains_source\": [\"CORES_1\", \"CORES_2\", \"CORES_3\", \"CORES_4\", \"CORES_5\"], \"domains_target\": [\"Wisig_1\", \"Wisig_2\", \"Wisig_3\", \"Wisig_4\"]}, \"results\": {\"source_test_label_accuracy\": 0.9967241379310345, \"source_test_label_loss\": 0.021321425214409828, \"target_test_label_accuracy\": 0.7268567639257294, \"target_test_label_loss\": 1.6650773286819458, \"source_val_label_accuracy\": 0.9944324712643678, \"source_val_label_loss\": 0.031091321259737015, \"target_val_label_accuracy\": 0.7310211173483026, \"target_val_label_loss\": 1.578896403312683, \"total_epochs_trained\": 3, \"total_experiment_time_secs\": 181.3655800819397, \"confusion\": {\"CORES_2\": {\"25\": {\"25\": 20}, \"39\": {\"39\": 20}, \"51\": {\"51\": 20}, \"4\": {\"4\": 20}, \"57\": {\"57\": 20}, \"0\": {\"0\": 20}, \"28\": {\"28\": 20}, \"35\": {\"35\": 20}, \"53\": {\"53\": 20}, \"33\": {\"33\": 20}, \"41\": {\"41\": 20}, \"14\": {\"14\": 20}, \"8\": {\"8\": 20}, \"47\": {\"47\": 19, \"42\": 1}, \"37\": {\"37\": 20}, \"43\": {\"43\": 20}, \"29\": {\"29\": 20}, \"56\": {\"56\": 20}, \"19\": {\"19\": 20}, \"48\": {\"48\": 20}, \"52\": {\"52\": 20}, \"22\": {\"22\": 20}, \"21\": {\"21\": 20}, \"27\": {\"27\": 20}, \"45\": {\"45\": 19, \"17\": 1}, \"10\": {\"10\": 20}, \"1\": {\"1\": 20}, \"38\": {\"38\": 20}, \"24\": {\"24\": 20}, \"17\": {\"17\": 20}, \"54\": {\"54\": 20}, \"3\": {\"3\": 19, \"50\": 1}, \"36\": {\"36\": 20}, \"40\": {\"40\": 20}, \"11\": {\"11\": 20}, \"55\": {\"55\": 20}, \"26\": {\"26\": 20}, \"20\": {\"20\": 20}, \"5\": {\"5\": 19, \"31\": 1}, \"44\": {\"44\": 20}, \"32\": {\"32\": 20}, \"31\": {\"31\": 20}, \"30\": {\"30\": 20}, \"49\": {\"49\": 20}, \"50\": {\"50\": 19, \"3\": 1}, \"6\": {\"6\": 20}, \"34\": {\"34\": 20}, \"15\": {\"15\": 20}, \"18\": {\"18\": 20}, \"16\": {\"16\": 20}, \"7\": {\"7\": 20}, \"9\": {\"9\": 20}, \"42\": {\"42\": 20}, \"2\": {\"2\": 20}, \"12\": {\"12\": 20}, \"46\": {\"46\": 20}, \"13\": {\"13\": 20}, \"23\": {\"23\": 20}}, \"CORES_1\": {\"9\": {\"9\": 24}, \"57\": {\"57\": 22, \"1\": 2}, \"18\": {\"18\": 23, \"4\": 1}, \"35\": {\"35\": 24}, \"24\": {\"24\": 24}, \"38\": {\"38\": 23, \"23\": 1}, \"3\": {\"3\": 24}, \"12\": {\"12\": 23, \"13\": 1}, \"11\": {\"11\": 23, \"7\": 1}, \"1\": {\"1\": 24}, \"5\": {\"5\": 24}, \"31\": {\"31\": 24}, \"25\": {\"25\": 24}, \"17\": {\"17\": 24}, \"36\": {\"36\": 24}, \"0\": {\"0\": 24}, \"16\": {\"16\": 24}, \"32\": {\"32\": 24}, \"20\": {\"20\": 24}, \"37\": {\"37\": 24}, \"8\": {\"8\": 24}, \"50\": {\"50\": 24}, \"30\": {\"30\": 24}, \"27\": {\"27\": 24}, \"6\": {\"6\": 24}, \"23\": {\"23\": 24}, \"28\": {\"28\": 24}, \"40\": {\"40\": 24}, \"49\": {\"49\": 24}, \"56\": {\"56\": 24}, \"15\": {\"15\": 24}, \"19\": {\"19\": 24}, \"55\": {\"55\": 24}, \"51\": {\"51\": 24}, \"52\": {\"52\": 24}, \"13\": {\"13\": 24}, \"22\": {\"22\": 22, \"11\": 2}, \"4\": {\"4\": 24}, \"43\": {\"43\": 24}, \"29\": {\"29\": 24}, \"33\": {\"33\": 24}, \"45\": {\"45\": 24}, \"10\": {\"10\": 24}, \"48\": {\"48\": 24}, \"2\": {\"2\": 24}, \"39\": {\"39\": 24}, \"44\": {\"44\": 24}, \"7\": {\"7\": 24}, \"53\": {\"53\": 24}, \"54\": {\"54\": 24}, \"46\": {\"46\": 24}, \"14\": {\"14\": 24}, \"47\": {\"47\": 24}, \"34\": {\"34\": 24}, \"42\": {\"42\": 24}, \"21\": {\"21\": 23, \"24\": 1}, \"26\": {\"26\": 24}, \"41\": {\"41\": 24}}, \"CORES_5\": {\"37\": {\"37\": 20}, \"22\": {\"22\": 20}, \"40\": {\"40\": 20}, \"19\": {\"19\": 20}, \"2\": {\"2\": 20}, \"0\": {\"0\": 20}, \"5\": {\"5\": 20}, \"25\": {\"25\": 20}, \"18\": {\"18\": 20}, \"4\": {\"4\": 20}, \"6\": {\"6\": 19, \"45\": 1}, \"21\": {\"21\": 20}, \"24\": {\"24\": 20}, \"35\": {\"35\": 20}, \"43\": {\"43\": 20}, \"14\": {\"14\": 20}, \"53\": {\"53\": 19, \"6\": 1}, \"11\": {\"11\": 20}, \"28\": {\"28\": 19, \"39\": 1}, \"49\": {\"49\": 20}, \"10\": {\"10\": 20}, \"27\": {\"27\": 20}, \"8\": {\"8\": 20}, \"46\": {\"46\": 19, \"3\": 1}, \"3\": {\"3\": 20}, \"17\": {\"17\": 20}, \"23\": {\"23\": 20}, \"20\": {\"20\": 20}, \"16\": {\"16\": 20}, \"55\": {\"55\": 20}, \"15\": {\"15\": 20}, \"45\": {\"45\": 20}, \"12\": {\"12\": 20}, \"30\": {\"30\": 20}, \"13\": {\"13\": 19, \"10\": 1}, \"54\": {\"54\": 20}, \"57\": {\"57\": 20}, \"1\": {\"1\": 20}, \"7\": {\"7\": 20}, \"33\": {\"33\": 20}, \"56\": {\"56\": 20}, \"44\": {\"44\": 20}, \"48\": {\"48\": 20}, \"36\": {\"36\": 20}, \"50\": {\"50\": 20}, \"32\": {\"32\": 19, \"27\": 1}, \"51\": {\"51\": 19, \"50\": 1}, \"52\": {\"52\": 20}, \"31\": {\"31\": 20}, \"39\": {\"39\": 20}, \"42\": {\"42\": 20}, \"9\": {\"9\": 20}, \"26\": {\"26\": 20}, \"38\": {\"38\": 20}, \"47\": {\"47\": 20}, \"34\": {\"34\": 20}, \"41\": {\"41\": 20}, \"29\": {\"29\": 20}}, \"CORES_4\": {\"25\": {\"25\": 16}, \"24\": {\"24\": 15, \"7\": 1}, \"6\": {\"6\": 15, \"3\": 1}, \"27\": {\"27\": 16}, \"35\": {\"35\": 16}, \"48\": {\"48\": 16}, \"0\": {\"0\": 14, \"32\": 1, \"5\": 1}, \"44\": {\"44\": 16}, \"50\": {\"50\": 16}, \"36\": {\"36\": 16}, \"13\": {\"13\": 16}, \"42\": {\"42\": 16}, \"38\": {\"38\": 16}, \"54\": {\"54\": 16}, \"33\": {\"33\": 16}, \"49\": {\"49\": 16}, \"28\": {\"28\": 16}, \"53\": {\"53\": 16}, \"16\": {\"16\": 16}, \"20\": {\"20\": 16}, \"12\": {\"12\": 16}, \"1\": {\"1\": 16}, \"5\": {\"5\": 16}, \"52\": {\"52\": 16}, \"39\": {\"39\": 16}, \"11\": {\"11\": 16}, \"3\": {\"3\": 16}, \"22\": {\"22\": 16}, \"23\": {\"23\": 16}, \"47\": {\"47\": 16}, \"32\": {\"32\": 16}, \"31\": {\"31\": 16}, \"4\": {\"4\": 16}, \"43\": {\"43\": 16}, \"46\": {\"46\": 16}, \"40\": {\"40\": 16}, \"55\": {\"55\": 16}, \"21\": {\"21\": 16}, \"56\": {\"56\": 16}, \"8\": {\"8\": 16}, \"37\": {\"37\": 16}, \"7\": {\"7\": 16}, \"14\": {\"14\": 16}, \"18\": {\"18\": 16}, \"26\": {\"26\": 16}, \"34\": {\"34\": 16}, \"45\": {\"45\": 16}, \"10\": {\"10\": 16}, \"15\": {\"15\": 16}, \"51\": {\"51\": 16}, \"30\": {\"30\": 16}, \"41\": {\"41\": 16}, \"2\": {\"2\": 16}, \"29\": {\"29\": 16}, \"19\": {\"19\": 16}, \"17\": {\"17\": 16}, \"9\": {\"9\": 16}, \"57\": {\"57\": 16}}, \"CORES_3\": {\"20\": {\"20\": 16}, \"56\": {\"56\": 16}, \"43\": {\"43\": 16}, \"1\": {\"1\": 16}, \"41\": {\"41\": 16}, \"29\": {\"29\": 16}, \"27\": {\"27\": 16}, \"4\": {\"4\": 16}, \"53\": {\"53\": 16}, \"22\": {\"22\": 16}, \"46\": {\"46\": 16}, \"54\": {\"54\": 16}, \"9\": {\"9\": 16}, \"5\": {\"5\": 16}, \"18\": {\"18\": 16}, \"45\": {\"45\": 16}, \"48\": {\"48\": 16}, \"35\": {\"35\": 16}, \"40\": {\"40\": 16}, \"33\": {\"33\": 16}, \"0\": {\"0\": 16}, \"44\": {\"44\": 16}, \"50\": {\"50\": 16}, \"38\": {\"38\": 16}, \"57\": {\"57\": 16}, \"15\": {\"15\": 14, \"11\": 2}, \"26\": {\"26\": 15, \"46\": 1}, \"51\": {\"51\": 16}, \"30\": {\"30\": 16}, \"47\": {\"47\": 15, \"42\": 1}, \"6\": {\"6\": 15, \"50\": 1}, \"8\": {\"8\": 16}, \"24\": {\"24\": 16}, \"12\": {\"12\": 16}, \"7\": {\"7\": 16}, \"49\": {\"49\": 16}, \"28\": {\"28\": 15, \"39\": 1}, \"2\": {\"2\": 16}, \"42\": {\"42\": 16}, \"11\": {\"11\": 16}, \"23\": {\"23\": 16}, \"17\": {\"17\": 16}, \"52\": {\"52\": 16}, \"31\": {\"31\": 16}, \"32\": {\"32\": 16}, \"21\": {\"21\": 16}, \"19\": {\"19\": 16}, \"39\": {\"39\": 16}, \"3\": {\"3\": 16}, \"13\": {\"13\": 16}, \"25\": {\"25\": 16}, \"55\": {\"55\": 16}, \"16\": {\"16\": 16}, \"37\": {\"37\": 16}, \"36\": {\"36\": 16}, \"14\": {\"14\": 16}, \"34\": {\"34\": 16}, \"10\": {\"10\": 16}}, \"Wisig_2\": {\"41\": {\"41\": 16, \"81\": 1, \"29\": 1, \"69\": 1, \"12\": 1}, \"31\": {\"118\": 3, \"126\": 1, \"69\": 4, \"31\": 11, \"47\": 1}, \"126\": {\"126\": 37, \"44\": 4, \"1\": 1, \"47\": 2, \"42\": 2, \"71\": 2, \"16\": 2, \"108\": 1, \"87\": 1}, \"80\": {\"80\": 15, \"14\": 1}, \"101\": {\"101\": 47, \"0\": 3}, \"128\": {\"128\": 4, \"53\": 1, \"51\": 1, \"71\": 5, \"97\": 4, \"101\": 2, \"0\": 1, \"114\": 4, \"58\": 1, \"9\": 1}, \"46\": {\"46\": 13, \"83\": 1, \"42\": 1, \"126\": 1}, \"96\": {\"96\": 19, \"88\": 1}, \"117\": {\"117\": 34, \"65\": 2}, \"109\": {\"81\": 1, \"109\": 24, \"31\": 2, \"39\": 2, \"10\": 1, \"88\": 1, \"117\": 1, \"45\": 2, \"82\": 1, \"102\": 4, \"70\": 1}, \"17\": {\"26\": 1, \"17\": 10, \"16\": 1, \"18\": 1, \"99\": 1, \"95\": 2}, \"63\": {\"63\": 20}, \"69\": {\"69\": 37, \"126\": 1, \"89\": 2, \"21\": 1, \"12\": 1}, \"30\": {\"30\": 26, \"68\": 1, \"88\": 2, \"29\": 3, \"127\": 5, \"97\": 2, \"107\": 1, \"21\": 2, \"103\": 1, \"52\": 2, \"6\": 2, \"75\": 1, \"77\": 1, \"15\": 1, \"27\": 1, \"0\": 1}, \"120\": {\"120\": 20}, \"4\": {\"54\": 2, \"4\": 32, \"107\": 1, \"29\": 1}, \"102\": {\"102\": 50}, \"81\": {\"81\": 20, \"6\": 1, \"69\": 3}, \"6\": {\"6\": 20, \"75\": 2, \"9\": 2, \"30\": 1, \"58\": 2, \"15\": 4, \"125\": 1}, \"110\": {\"110\": 29, \"27\": 1, \"122\": 3, \"23\": 1, \"19\": 1, \"38\": 1}, \"55\": {\"55\": 12, \"62\": 4}, \"67\": {\"67\": 10, \"118\": 2, \"92\": 4}, \"50\": {\"50\": 16}, \"19\": {\"19\": 11, \"119\": 1, \"129\": 6, \"43\": 7, \"70\": 1, \"47\": 1, \"122\": 1}, \"104\": {\"105\": 2, \"104\": 16, \"7\": 2}, \"112\": {\"5\": 3, \"128\": 1, \"53\": 1, \"112\": 8, \"49\": 2, \"71\": 1}, \"10\": {\"78\": 1, \"107\": 1, \"55\": 1, \"10\": 20, \"14\": 4, \"105\": 6, \"95\": 2, \"32\": 3, \"22\": 3, \"88\": 1, \"7\": 1, \"21\": 1}, \"54\": {\"54\": 19, \"56\": 1}, \"7\": {\"7\": 32, \"17\": 2, \"95\": 2}, \"28\": {\"28\": 16, \"43\": 2, \"84\": 1, \"78\": 1}, \"5\": {\"5\": 30, \"73\": 1, \"3\": 5, \"71\": 1, \"1\": 1, \"21\": 2}, \"15\": {\"15\": 27, \"9\": 5, \"58\": 1, \"97\": 3, \"101\": 1, \"125\": 2, \"94\": 5}, \"73\": {\"73\": 26, \"43\": 1, \"124\": 1}, \"76\": {\"76\": 13, \"26\": 1, \"92\": 1, \"24\": 1}, \"105\": {\"105\": 40, \"61\": 1, \"86\": 1, \"95\": 1, \"10\": 1}, \"78\": {\"107\": 6, \"86\": 1, \"38\": 3, \"37\": 1, \"77\": 1, \"78\": 10, \"88\": 4, \"43\": 1, \"90\": 2, \"109\": 2, \"16\": 1, \"40\": 1, \"31\": 1, \"93\": 1, \"70\": 1}, \"106\": {\"49\": 3, \"106\": 33, \"16\": 1, \"27\": 1, \"58\": 1, \"47\": 1, \"98\": 2, \"15\": 1, \"94\": 1}, \"57\": {\"57\": 17, \"126\": 1, \"33\": 1, \"21\": 1}, \"90\": {\"90\": 34, \"70\": 2, \"121\": 1, \"82\": 1}, \"35\": {\"35\": 12}, \"64\": {\"64\": 14, \"26\": 1, \"126\": 1}, \"3\": {\"5\": 4, \"3\": 20, \"124\": 2}, \"42\": {\"112\": 3, \"53\": 1, \"42\": 13, \"108\": 2, \"126\": 4, \"49\": 2, \"124\": 1, \"11\": 2}, \"103\": {\"103\": 15, \"68\": 1}, \"49\": {\"53\": 1, \"49\": 12, \"128\": 1, \"77\": 2, \"52\": 2, \"108\": 2, \"114\": 1, \"124\": 1, \"42\": 1, \"3\": 1}, \"123\": {\"123\": 16}, \"13\": {\"13\": 5, \"27\": 1, \"96\": 1, \"72\": 7, \"102\": 1, \"120\": 1}, \"9\": {\"9\": 31, \"15\": 1}, \"118\": {\"118\": 36, \"14\": 1, \"69\": 1, \"62\": 2}, \"91\": {\"103\": 3, \"91\": 8, \"17\": 1, \"4\": 3, \"127\": 4, \"56\": 1, \"59\": 1, \"111\": 2, \"29\": 1, \"54\": 3, \"51\": 1}, \"27\": {\"27\": 26, \"42\": 1, \"9\": 1, \"24\": 4, \"36\": 9, \"21\": 2, \"81\": 1, \"94\": 2}, \"53\": {\"53\": 14, \"73\": 1, \"52\": 1}, \"32\": {\"123\": 1, \"32\": 7, \"77\": 1, \"70\": 3, \"14\": 6, \"105\": 4, \"43\": 1, \"10\": 8, \"110\": 2, \"122\": 1}, \"107\": {\"107\": 29, \"36\": 1, \"86\": 8, \"61\": 1, \"125\": 1, \"4\": 1, \"32\": 1, \"51\": 1, \"95\": 1, \"22\": 1, \"55\": 2, \"40\": 1, \"37\": 1, \"78\": 1}, \"36\": {\"36\": 18, \"27\": 6, \"24\": 3, \"25\": 3, \"94\": 1, \"108\": 3, \"15\": 3, \"23\": 1}, \"129\": {\"73\": 2, \"129\": 28, \"19\": 1, \"112\": 1}, \"26\": {\"13\": 1, \"117\": 1, \"26\": 28, \"18\": 6, \"65\": 2, \"21\": 2, \"39\": 1, \"69\": 1}, \"85\": {\"73\": 5, \"85\": 24, \"118\": 1, \"108\": 1, \"129\": 1}, \"68\": {\"27\": 1, \"68\": 14, \"47\": 1}, \"95\": {\"95\": 35, \"86\": 1}, \"12\": {\"12\": 27, \"98\": 2, \"16\": 1, \"52\": 1, \"91\": 2, \"122\": 1, \"11\": 1, \"21\": 1, \"124\": 1, \"71\": 1}, \"71\": {\"71\": 42, \"114\": 2, \"8\": 1, \"19\": 2, \"3\": 3, \"73\": 2, \"128\": 2}, \"16\": {\"96\": 5, \"16\": 31, \"87\": 1, \"93\": 7, \"6\": 1, \"126\": 1, \"14\": 1, \"116\": 1, \"94\": 1, \"84\": 1}, \"20\": {\"27\": 1, \"20\": 15}, \"74\": {\"74\": 7, \"104\": 4, \"95\": 2, \"24\": 1, \"50\": 2}, \"79\": {\"79\": 15, \"35\": 1}, \"58\": {\"58\": 17, \"111\": 1, \"6\": 1, \"20\": 1}, \"122\": {\"110\": 5, \"122\": 22, \"19\": 2, \"71\": 1, \"23\": 1, \"8\": 2, \"77\": 1, \"34\": 1, \"127\": 4, \"43\": 1}, \"98\": {\"98\": 45, \"21\": 1, \"23\": 1, \"11\": 3, \"12\": 2, \"41\": 1, \"72\": 1, \"125\": 2}, \"83\": {\"83\": 34, \"44\": 1, \"100\": 1}, \"99\": {\"99\": 32}, \"14\": {\"14\": 40, \"21\": 2, \"32\": 2, \"118\": 2, \"24\": 1, \"126\": 1}, \"2\": {\"88\": 2, \"2\": 8, \"121\": 3, \"69\": 1, \"51\": 1, \"100\": 3, \"117\": 2, \"18\": 5, \"26\": 1, \"93\": 5, \"81\": 1}, \"34\": {\"34\": 5, \"41\": 2, \"86\": 4, \"110\": 1, \"111\": 5, \"91\": 1, \"127\": 3, \"32\": 1, \"60\": 1, \"107\": 3, \"7\": 2, \"6\": 4}, \"88\": {\"88\": 15, \"96\": 4, \"45\": 1, \"16\": 4, \"93\": 4, \"21\": 3, \"129\": 1, \"110\": 1, \"70\": 2, \"39\": 1, \"84\": 2, \"72\": 1, \"100\": 1, \"44\": 1, \"18\": 1}, \"51\": {\"51\": 11, \"125\": 1, \"15\": 1, \"127\": 1, \"77\": 1, \"29\": 1, \"128\": 1, \"75\": 1, \"6\": 1, \"111\": 1}, \"45\": {\"45\": 12, \"82\": 4}, \"125\": {\"125\": 23, \"98\": 3, \"106\": 3, \"94\": 2, \"15\": 1}, \"43\": {\"43\": 15, \"82\": 1, \"126\": 1, \"84\": 4, \"38\": 1, \"70\": 6, \"21\": 3, \"78\": 3, \"4\": 1, \"115\": 1, \"19\": 1, \"28\": 1, \"93\": 1, \"87\": 1}, \"92\": {\"92\": 27, \"89\": 1}, \"8\": {\"8\": 32, \"122\": 3, \"117\": 1, \"127\": 1, \"52\": 1, \"123\": 1, \"60\": 1, \"2\": 1, \"124\": 2, \"0\": 1}, \"82\": {\"82\": 36}, \"66\": {\"66\": 19, \"107\": 1}, \"59\": {\"27\": 1, \"98\": 1, \"59\": 11, \"91\": 1, \"24\": 1, \"97\": 1}, \"75\": {\"75\": 15, \"51\": 1}, \"29\": {\"29\": 26, \"127\": 2, \"91\": 2, \"103\": 1, \"30\": 1}, \"40\": {\"40\": 31, \"17\": 2, \"86\": 2, \"18\": 1, \"107\": 2, \"95\": 1, \"21\": 2, \"78\": 1, \"26\": 1, \"105\": 1}, \"97\": {\"97\": 17, \"98\": 1, \"58\": 1, \"110\": 1}, \"33\": {\"33\": 37, \"84\": 2, \"19\": 1}, \"47\": {\"44\": 5, \"83\": 2, \"25\": 1, \"47\": 2, \"124\": 1, \"129\": 1}, \"1\": {\"1\": 40, \"19\": 1, \"60\": 2, \"85\": 1, \"23\": 2, \"124\": 1, \"98\": 1}, \"44\": {\"44\": 37, \"126\": 1}, \"62\": {\"62\": 29, \"105\": 2, \"76\": 1, \"66\": 2, \"126\": 1, \"10\": 1}, \"127\": {\"127\": 33, \"29\": 4, \"88\": 1, \"111\": 2}, \"84\": {\"84\": 30, \"21\": 1, \"15\": 1, \"33\": 3, \"24\": 1, \"93\": 1, \"90\": 1, \"102\": 1, \"43\": 1}, \"72\": {\"72\": 22, \"39\": 2, \"27\": 1, \"116\": 1, \"109\": 1, \"13\": 1}, \"87\": {\"96\": 4, \"33\": 7, \"87\": 19, \"88\": 4, \"70\": 1, \"21\": 1, \"47\": 1, \"85\": 1, \"99\": 1, \"110\": 1, \"8\": 1, \"126\": 1, \"23\": 1, \"90\": 1}, \"121\": {\"121\": 23, \"65\": 1, \"113\": 7, \"117\": 1, \"18\": 1, \"81\": 1, \"26\": 2}, \"21\": {\"31\": 1, \"21\": 28, \"18\": 3, \"39\": 1, \"99\": 1, \"45\": 1, \"16\": 1}, \"115\": {\"115\": 11, \"69\": 1}, \"111\": {\"111\": 44, \"88\": 1, \"39\": 1, \"58\": 1, \"97\": 1, \"127\": 2}, \"61\": {\"61\": 17, \"66\": 2, \"126\": 1}, \"24\": {\"36\": 5, \"24\": 19, \"94\": 4, \"15\": 2, \"126\": 1, \"108\": 3, \"25\": 1, \"47\": 1}, \"56\": {\"4\": 1, \"56\": 10, \"107\": 1}, \"11\": {\"0\": 1, \"11\": 17, \"98\": 3, \"114\": 1, \"15\": 1, \"21\": 1, \"108\": 1, \"8\": 1, \"44\": 1, \"30\": 1, \"73\": 1, \"85\": 1}, \"48\": {\"48\": 20}, \"39\": {\"121\": 2, \"90\": 1, \"72\": 1, \"117\": 6, \"81\": 1, \"109\": 1, \"39\": 10, \"102\": 6, \"18\": 2, \"13\": 1, \"69\": 1, \"88\": 1, \"65\": 1, \"93\": 1, \"113\": 1}, \"77\": {\"77\": 7, \"29\": 2, \"111\": 2, \"97\": 1, \"52\": 3, \"21\": 1}, \"93\": {\"93\": 32, \"119\": 2, \"83\": 3, \"16\": 3, \"47\": 1, \"13\": 1, \"88\": 4, \"96\": 1, \"23\": 1}, \"0\": {\"0\": 20, \"52\": 4, \"101\": 13, \"111\": 1}, \"114\": {\"114\": 34, \"71\": 2, \"128\": 1, \"126\": 1}, \"37\": {\"37\": 12, \"107\": 1, \"66\": 1, \"78\": 1, \"21\": 1}, \"124\": {\"124\": 34, \"8\": 2}, \"38\": {\"38\": 16}, \"70\": {\"110\": 2, \"47\": 1, \"70\": 8, \"45\": 1, \"102\": 1, \"87\": 1, \"69\": 1, \"16\": 2, \"43\": 9, \"88\": 1, \"60\": 1, \"14\": 1, \"78\": 1, \"84\": 3, \"33\": 2, \"93\": 1, \"62\": 2, \"39\": 1, \"32\": 1}, \"116\": {\"70\": 2, \"116\": 16, \"82\": 3, \"33\": 3, \"90\": 2, \"85\": 1, \"45\": 1}, \"119\": {\"119\": 18, \"83\": 2}, \"60\": {\"83\": 4, \"78\": 1, \"48\": 4, \"60\": 5, \"70\": 2, \"77\": 1, \"43\": 1, \"22\": 1, \"8\": 1, \"123\": 3, \"87\": 1, \"73\": 1, \"71\": 1, \"14\": 1, \"122\": 1}, \"86\": {\"86\": 30, \"55\": 1, \"40\": 1}, \"65\": {\"113\": 2, \"65\": 15, \"121\": 1, \"2\": 2}, \"94\": {\"24\": 7, \"94\": 15, \"88\": 1, \"106\": 1, \"36\": 2, \"15\": 2, \"25\": 1, \"125\": 4, \"93\": 1, \"98\": 1, \"21\": 1}, \"113\": {\"113\": 30, \"65\": 1, \"121\": 2, \"102\": 1, \"117\": 2}, \"18\": {\"13\": 2, \"18\": 28, \"69\": 3, \"81\": 2, \"26\": 2, \"39\": 2, \"117\": 3, \"113\": 2}, \"23\": {\"23\": 6, \"99\": 4, \"20\": 2, \"19\": 1, \"52\": 2, \"2\": 2, \"122\": 11, \"57\": 1, \"8\": 1, \"103\": 1, \"29\": 1, \"121\": 1, \"127\": 2, \"110\": 3}, \"108\": {\"12\": 1, \"108\": 29, \"24\": 3, \"42\": 5, \"36\": 1, \"112\": 1}, \"89\": {\"89\": 31, \"117\": 1, \"113\": 1, \"76\": 1, \"92\": 1, \"31\": 1}, \"52\": {\"52\": 17, \"49\": 1, \"8\": 2}, \"25\": {\"15\": 1, \"25\": 14, \"24\": 1}, \"22\": {\"22\": 16, \"105\": 1, \"32\": 2, \"126\": 1}, \"100\": {\"100\": 15, \"83\": 1}}, \"Wisig_4\": {\"71\": {\"71\": 45, \"50\": 2, \"114\": 3, \"124\": 1, \"21\": 1}, \"112\": {\"112\": 14, \"9\": 2}, \"75\": {\"75\": 14, \"24\": 1, \"36\": 1}, \"17\": {\"17\": 17, \"24\": 1, \"82\": 2}, \"50\": {\"50\": 14, \"125\": 1, \"114\": 1}, \"60\": {\"60\": 10, \"100\": 1, \"20\": 2, \"8\": 4, \"38\": 1, \"128\": 1, \"19\": 2, \"124\": 2, \"44\": 2, \"111\": 1, \"50\": 1, \"90\": 1, \"46\": 1, \"28\": 1}, \"12\": {\"76\": 1, \"12\": 23, \"41\": 2, \"98\": 6, \"111\": 1, \"85\": 2, \"78\": 1, \"106\": 1, \"91\": 1, \"52\": 1, \"69\": 1}, \"29\": {\"29\": 29, \"86\": 2, \"26\": 1}, \"15\": {\"15\": 27, \"10\": 2, \"94\": 2, \"8\": 1, \"98\": 1, \"124\": 1}, \"7\": {\"7\": 28, \"4\": 6, \"105\": 1, \"34\": 1, \"89\": 1, \"86\": 2, \"95\": 1}, \"27\": {\"112\": 1, \"94\": 2, \"27\": 21, \"21\": 1, \"53\": 1, \"41\": 2, \"122\": 1, \"70\": 4, \"10\": 1, \"42\": 2, \"9\": 4, \"97\": 1, \"124\": 1, \"98\": 1, \"36\": 1}, \"91\": {\"91\": 14, \"68\": 1, \"103\": 5, \"85\": 2, \"8\": 1, \"30\": 1}, \"20\": {\"20\": 13, \"80\": 2, \"60\": 1}, \"16\": {\"16\": 27, \"69\": 2, \"109\": 5, \"93\": 1, \"21\": 1}, \"99\": {\"99\": 29, \"122\": 2, \"84\": 1, \"102\": 1, \"107\": 1}, \"26\": {\"26\": 40, \"21\": 1, \"18\": 3, \"35\": 1, \"65\": 1}, \"24\": {\"9\": 1, \"94\": 7, \"97\": 1, \"24\": 19, \"25\": 5, \"36\": 11, \"27\": 7, \"15\": 3, \"42\": 1, \"21\": 1, \"41\": 1, \"70\": 1}, \"58\": {\"58\": 13, \"108\": 1, \"51\": 2}, \"74\": {\"74\": 16}, \"110\": {\"110\": 25, \"90\": 1, \"78\": 1, \"72\": 2, \"116\": 2, \"66\": 2, \"99\": 1, \"43\": 1, \"113\": 1}, \"67\": {\"76\": 1, \"67\": 1, \"31\": 1, \"123\": 1, \"126\": 1, \"120\": 6, \"64\": 2, \"63\": 1, \"69\": 1, \"48\": 1}, \"46\": {\"46\": 20}, \"19\": {\"52\": 3, \"19\": 10, \"5\": 2, \"34\": 1, \"93\": 6, \"78\": 1, \"72\": 1, \"108\": 1, \"77\": 1, \"73\": 2}, \"81\": {\"26\": 1, \"81\": 30, \"117\": 4, \"51\": 1}, \"0\": {\"0\": 19, \"107\": 1, \"4\": 2, \"86\": 3, \"101\": 12, \"14\": 1, \"7\": 1, \"21\": 1, \"89\": 1, \"34\": 1}, \"104\": {\"104\": 14, \"17\": 2}, \"9\": {\"24\": 1, \"112\": 3, \"9\": 24}, \"96\": {\"96\": 19, \"120\": 1}, \"14\": {\"122\": 4, \"45\": 1, \"89\": 1, \"14\": 32, \"32\": 2}, \"114\": {\"114\": 31, \"129\": 1, \"71\": 2, \"46\": 1, \"3\": 1}, \"59\": {\"59\": 12}, \"21\": {\"21\": 37, \"81\": 1, \"110\": 1, \"12\": 1}, \"88\": {\"5\": 2, \"49\": 2, \"88\": 10, \"23\": 1, \"108\": 5, \"70\": 5, \"60\": 1, \"113\": 2, \"42\": 2, \"73\": 1, \"124\": 1, \"3\": 1, \"78\": 1}, \"4\": {\"4\": 28, \"95\": 5, \"7\": 6, \"56\": 1, \"21\": 1, \"105\": 1}, \"129\": {\"119\": 4, \"129\": 14, \"49\": 1, \"53\": 1, \"5\": 1, \"19\": 2, \"73\": 3, \"100\": 1, \"11\": 1}, \"30\": {\"8\": 5, \"30\": 27, \"21\": 1, \"4\": 1, \"58\": 2, \"51\": 1, \"111\": 2, \"122\": 1, \"10\": 4, \"97\": 2, \"94\": 1, \"52\": 1, \"60\": 1, \"0\": 1}, \"5\": {\"80\": 2, \"5\": 34, \"116\": 1, \"88\": 1, \"36\": 1, \"93\": 1}, \"119\": {\"119\": 15, \"129\": 1}, \"66\": {\"66\": 14, \"102\": 2}, \"53\": {\"53\": 13, \"49\": 1, \"116\": 1, \"8\": 1}, \"51\": {\"58\": 4, \"5\": 1, \"21\": 1, \"125\": 3, \"41\": 1, \"59\": 1, \"126\": 1, \"51\": 1, \"94\": 2, \"93\": 1}, \"37\": {\"37\": 15, \"95\": 1}, \"127\": {\"127\": 33, \"95\": 2, \"122\": 1, \"4\": 1, \"29\": 4, \"21\": 1}, \"80\": {\"80\": 16}, \"55\": {\"55\": 16}, \"122\": {\"122\": 25, \"99\": 3, \"45\": 1, \"21\": 2, \"14\": 4, \"84\": 3, \"51\": 1, \"32\": 1, \"43\": 1, \"102\": 2, \"107\": 1}, \"8\": {\"8\": 30, \"53\": 1, \"124\": 7, \"12\": 2, \"21\": 1, \"111\": 1, \"97\": 2, \"60\": 1, \"42\": 1, \"19\": 1, \"78\": 1}, \"76\": {\"76\": 12, \"118\": 2, \"120\": 2}, \"57\": {\"57\": 14, \"21\": 2}, \"52\": {\"52\": 11, \"106\": 1, \"111\": 1, \"103\": 2, \"53\": 1, \"8\": 1, \"124\": 1, \"98\": 2}, \"100\": {\"100\": 17, \"78\": 1, \"129\": 2}, \"93\": {\"93\": 32, \"5\": 1, \"74\": 1, \"88\": 2, \"108\": 4, \"129\": 2, \"2\": 1, \"78\": 1}, \"82\": {\"82\": 26, \"101\": 1, \"89\": 1, \"40\": 2}, \"86\": {\"29\": 3, \"86\": 23, \"4\": 1, \"7\": 1}, \"107\": {\"107\": 36, \"126\": 1, \"84\": 1, \"87\": 3, \"89\": 1}, \"73\": {\"93\": 2, \"129\": 2, \"73\": 15, \"88\": 3, \"77\": 1, \"108\": 1}, \"116\": {\"116\": 12, \"50\": 1, \"44\": 4, \"87\": 1, \"38\": 1, \"102\": 4, \"84\": 2, \"28\": 2, \"45\": 1}, \"94\": {\"14\": 1, \"94\": 37, \"10\": 3, \"15\": 3, \"21\": 1, \"24\": 1}, \"97\": {\"94\": 1, \"42\": 1, \"24\": 5, \"22\": 1, \"36\": 6, \"10\": 1, \"97\": 3, \"9\": 1, \"25\": 1}, \"68\": {\"68\": 13, \"77\": 1, \"85\": 2}, \"10\": {\"6\": 3, \"58\": 1, \"10\": 10, \"111\": 4, \"94\": 3, \"21\": 1, \"27\": 2, \"15\": 5, \"88\": 3, \"125\": 1, \"8\": 2, \"1\": 1, \"97\": 1, \"103\": 1, \"24\": 1, \"30\": 1}, \"31\": {\"31\": 13, \"76\": 1, \"69\": 1, \"36\": 1}, \"47\": {\"75\": 2, \"58\": 2, \"47\": 5, \"59\": 1, \"9\": 1, \"108\": 1}, \"65\": {\"65\": 9, \"31\": 1, \"81\": 2}, \"28\": {\"28\": 17, \"116\": 2, \"74\": 1}, \"2\": {\"117\": 1, \"35\": 1, \"84\": 2, \"108\": 3, \"93\": 1, \"2\": 9, \"44\": 1, \"81\": 1, \"18\": 3, \"26\": 4, \"90\": 2}, \"42\": {\"112\": 2, \"42\": 11, \"27\": 2, \"114\": 3, \"99\": 1, \"52\": 1, \"53\": 3, \"73\": 1, \"8\": 1, \"88\": 1, \"49\": 2}, \"102\": {\"102\": 43, \"21\": 1, \"84\": 5, \"113\": 1}, \"95\": {\"95\": 32}, \"35\": {\"35\": 10, \"26\": 2}, \"33\": {\"33\": 40, \"43\": 2}, \"6\": {\"6\": 9, \"94\": 1, \"51\": 1, \"75\": 2, \"85\": 2, \"125\": 1, \"58\": 1, \"68\": 2, \"10\": 1, \"91\": 1, \"15\": 2, \"12\": 1}, \"49\": {\"79\": 4, \"11\": 11, \"53\": 2, \"49\": 6, \"124\": 1, \"8\": 5, \"80\": 1, \"111\": 2}, \"45\": {\"45\": 16}, \"89\": {\"89\": 28, \"40\": 4}, \"40\": {\"40\": 34, \"126\": 1, \"21\": 1, \"105\": 2}, \"3\": {\"3\": 36}, \"63\": {\"63\": 16}, \"13\": {\"13\": 16}, \"108\": {\"5\": 4, \"20\": 1, \"93\": 4, \"19\": 1, \"108\": 16, \"88\": 3, \"73\": 5, \"1\": 1, \"113\": 1, \"30\": 1, \"78\": 1}, \"125\": {\"47\": 3, \"125\": 34, \"41\": 1, \"98\": 3, \"6\": 1, \"106\": 1, \"39\": 1, \"10\": 1, \"26\": 1}, \"123\": {\"123\": 16}, \"115\": {\"115\": 7, \"107\": 3, \"71\": 2, \"6\": 1, \"128\": 2, \"120\": 1}, \"117\": {\"117\": 45, \"23\": 1, \"81\": 4, \"93\": 1, \"78\": 1}, \"43\": {\"115\": 1, \"66\": 1, \"43\": 19, \"96\": 1, \"122\": 5, \"87\": 5, \"99\": 1, \"21\": 1, \"110\": 1, \"90\": 2, \"33\": 5}, \"38\": {\"13\": 4, \"38\": 9, \"74\": 2, \"66\": 1}, \"128\": {\"128\": 9, \"100\": 2, \"72\": 3, \"71\": 3, \"95\": 1, \"118\": 1, \"4\": 1, \"87\": 2, \"19\": 2}, \"83\": {\"83\": 23, \"11\": 4, \"112\": 1}, \"79\": {\"79\": 16}, \"124\": {\"124\": 31, \"8\": 3, \"128\": 1, \"60\": 1, \"19\": 2, \"72\": 1, \"70\": 1}, \"84\": {\"84\": 38, \"102\": 4, \"16\": 1, \"122\": 5, \"45\": 2}, \"103\": {\"103\": 13, \"16\": 1, \"85\": 2}, \"121\": {\"21\": 1, \"63\": 3, \"121\": 20, \"113\": 4, \"93\": 1, \"39\": 2, \"2\": 1}, \"34\": {\"34\": 12, \"75\": 2, \"14\": 1, \"72\": 1, \"47\": 1, \"6\": 2, \"87\": 3, \"78\": 1, \"29\": 1, \"89\": 1, \"77\": 1, \"128\": 1, \"125\": 3, \"107\": 2}, \"126\": {\"126\": 34, \"123\": 4, \"39\": 1, \"113\": 5}, \"44\": {\"44\": 36, \"121\": 2, \"90\": 1, \"38\": 2, \"113\": 1, \"60\": 2, \"33\": 2}, \"41\": {\"41\": 9, \"21\": 1, \"125\": 1, \"12\": 1, \"94\": 1, \"50\": 1, \"98\": 1, \"91\": 1}, \"101\": {\"101\": 25, \"0\": 6, \"21\": 2, \"4\": 1, \"56\": 1, \"89\": 1}, \"109\": {\"109\": 28, \"31\": 1, \"96\": 2, \"69\": 2, \"16\": 5, \"62\": 1, \"21\": 1, \"118\": 2}, \"106\": {\"106\": 23, \"49\": 1, \"125\": 1, \"12\": 11, \"126\": 1, \"8\": 2, \"98\": 2, \"53\": 1, \"23\": 1, \"111\": 1}, \"11\": {\"129\": 1, \"20\": 1, \"11\": 27, \"88\": 4, \"93\": 1, \"108\": 2, \"83\": 2, \"21\": 1, \"70\": 1, \"60\": 2}, \"77\": {\"77\": 12}, \"62\": {\"31\": 2, \"62\": 18, \"21\": 1, \"126\": 1, \"118\": 5, \"78\": 2, \"76\": 2, \"36\": 1}, \"39\": {\"39\": 25, \"121\": 3, \"81\": 6, \"117\": 2, \"126\": 1, \"27\": 1, \"26\": 1, \"113\": 1}, \"61\": {\"61\": 13, \"35\": 1, \"26\": 2}, \"98\": {\"73\": 1, \"12\": 2, \"98\": 36, \"111\": 2, \"8\": 1, \"11\": 1, \"85\": 1, \"122\": 1, \"70\": 1}, \"111\": {\"111\": 26, \"91\": 1, \"103\": 2, \"98\": 2, \"85\": 1}, \"64\": {\"120\": 1, \"64\": 13, \"107\": 2}, \"70\": {\"70\": 14, \"49\": 1, \"111\": 1, \"124\": 2, \"23\": 1, \"88\": 5, \"3\": 1, \"98\": 1, \"8\": 2, \"42\": 2, \"53\": 1, \"24\": 1, \"60\": 1, \"93\": 3, \"1\": 1, \"74\": 1}, \"25\": {\"25\": 15, \"24\": 1}, \"56\": {\"56\": 11, \"36\": 1}, \"72\": {\"72\": 26, \"87\": 1, \"128\": 1, \"19\": 1, \"1\": 1, \"60\": 2}, \"87\": {\"107\": 7, \"87\": 17, \"105\": 16, \"89\": 1, \"40\": 2, \"78\": 1, \"4\": 1, \"43\": 1, \"115\": 2, \"128\": 2, \"21\": 1, \"124\": 1}, \"54\": {\"54\": 16}, \"36\": {\"24\": 15, \"25\": 4, \"27\": 1, \"36\": 21, \"10\": 1, \"21\": 1, \"97\": 2, \"54\": 1, \"94\": 1, \"9\": 1}, \"90\": {\"90\": 30, \"74\": 1, \"33\": 1}, \"120\": {\"120\": 20}, \"1\": {\"1\": 33, \"71\": 4, \"128\": 1, \"114\": 1, \"72\": 2, \"21\": 1}, \"78\": {\"110\": 1, \"19\": 2, \"21\": 1, \"87\": 2, \"39\": 3, \"126\": 3, \"70\": 1, \"34\": 2, \"108\": 3, \"43\": 3, \"84\": 2, \"107\": 1, \"18\": 1, \"128\": 1, \"26\": 1, \"124\": 1, \"78\": 1, \"8\": 1}, \"113\": {\"113\": 24, \"39\": 3, \"21\": 1, \"121\": 3, \"67\": 1, \"63\": 1, \"126\": 2, \"125\": 1}, \"32\": {\"14\": 1, \"32\": 14, \"69\": 4, \"82\": 1, \"89\": 1, \"118\": 2, \"65\": 1, \"22\": 2, \"76\": 2}, \"69\": {\"69\": 35, \"118\": 4, \"32\": 2, \"21\": 1, \"62\": 1, \"109\": 1}, \"92\": {\"92\": 22, \"40\": 1, \"31\": 1, \"62\": 1, \"109\": 1, \"118\": 1, \"45\": 1}, \"22\": {\"22\": 14, \"32\": 1, \"6\": 1}, \"18\": {\"18\": 26, \"117\": 3, \"81\": 1, \"21\": 1, \"26\": 1}, \"23\": {\"34\": 1, \"16\": 1, \"21\": 1, \"48\": 2, \"126\": 2, \"85\": 1, \"128\": 1, \"52\": 1, \"110\": 1, \"103\": 1, \"23\": 1, \"58\": 2, \"8\": 1}, \"85\": {\"85\": 22, \"24\": 1, \"91\": 3, \"103\": 1, \"12\": 1}, \"105\": {\"21\": 1, \"105\": 20, \"40\": 4, \"87\": 8, \"4\": 1, \"29\": 1, \"7\": 2, \"107\": 2, \"113\": 1}, \"118\": {\"118\": 19, \"31\": 6, \"62\": 2, \"109\": 1, \"69\": 2}, \"48\": {\"48\": 11, \"121\": 1, \"36\": 1, \"67\": 2, \"20\": 1}}, \"Wisig_1\": {\"63\": {\"63\": 14, \"123\": 1, \"2\": 1}, \"11\": {\"11\": 27, \"33\": 1, \"20\": 2, \"82\": 1, \"114\": 1, \"116\": 1, \"115\": 1, \"128\": 1, \"21\": 1}, \"23\": {\"45\": 1, \"23\": 4, \"100\": 3, \"25\": 1, \"1\": 4, \"8\": 1, \"127\": 2, \"110\": 1, \"21\": 1, \"128\": 3, \"91\": 2, \"28\": 1}, \"6\": {\"68\": 2, \"6\": 8, \"127\": 1, \"51\": 4, \"49\": 1, \"30\": 4, \"112\": 3, \"52\": 1, \"91\": 2, \"94\": 3, \"98\": 3}, \"125\": {\"125\": 29, \"94\": 2, \"71\": 1, \"30\": 1, \"49\": 1, \"98\": 1, \"6\": 3}, \"7\": {\"7\": 37, \"87\": 1}, \"33\": {\"33\": 32}, \"91\": {\"91\": 17, \"71\": 3, \"112\": 1, \"127\": 4, \"58\": 1, \"107\": 2}, \"108\": {\"108\": 21, \"109\": 3, \"73\": 2, \"97\": 6, \"70\": 5, \"9\": 1, \"27\": 1, \"15\": 1, \"71\": 1, \"44\": 1}, \"61\": {\"61\": 11, \"33\": 1}, \"69\": {\"69\": 31, \"21\": 1}, \"48\": {\"48\": 12}, \"58\": {\"58\": 8, \"53\": 3, \"41\": 1}, \"21\": {\"6\": 1, \"8\": 5, \"84\": 3, \"58\": 2, \"87\": 2, \"21\": 6, \"19\": 3, \"123\": 1, \"44\": 3, \"34\": 1, \"98\": 1, \"72\": 2, \"102\": 1, \"23\": 1, \"29\": 1, \"90\": 2, \"39\": 1, \"109\": 1, \"24\": 1, \"26\": 1, \"113\": 1}, \"103\": {\"103\": 12, \"94\": 2, \"31\": 2}, \"38\": {\"38\": 14, \"81\": 2}, \"81\": {\"81\": 28}, \"76\": {\"76\": 16}, \"70\": {\"109\": 3, \"70\": 14, \"21\": 2, \"124\": 2, \"29\": 3, \"49\": 2, \"105\": 1, \"89\": 2, \"86\": 1, \"60\": 1, \"45\": 1, \"108\": 1, \"44\": 1, \"39\": 1, \"3\": 1, \"111\": 1, \"15\": 1, \"106\": 1, \"5\": 1}, \"95\": {\"95\": 30, \"117\": 3, \"113\": 1, \"102\": 1, \"39\": 1}, \"43\": {\"43\": 14, \"81\": 2, \"28\": 2, \"105\": 6, \"122\": 8, \"22\": 1, \"39\": 1, \"8\": 1, \"93\": 1}, \"127\": {\"127\": 31, \"91\": 5}, \"87\": {\"87\": 28, \"7\": 6, \"17\": 1, \"8\": 8, \"107\": 1}, \"107\": {\"107\": 31, \"4\": 2, \"110\": 1}, \"116\": {\"22\": 1, \"116\": 17, \"11\": 4, \"114\": 1, \"90\": 4, \"102\": 4, \"120\": 1}, \"77\": {\"77\": 14, \"17\": 1, \"107\": 1}, \"45\": {\"45\": 2, \"21\": 2, \"42\": 1, \"20\": 1, \"1\": 5, \"60\": 1}, \"96\": {\"96\": 16, \"104\": 2, \"21\": 1, \"25\": 1}, \"74\": {\"74\": 16}, \"8\": {\"8\": 32, \"84\": 3, \"87\": 4, \"60\": 2, \"34\": 1, \"116\": 2}, \"114\": {\"114\": 44}, \"32\": {\"32\": 22, \"56\": 4, \"110\": 3, \"90\": 1}, \"102\": {\"116\": 2, \"102\": 36, \"69\": 1, \"66\": 1}, \"75\": {\"75\": 14, \"110\": 1, \"41\": 1}, \"123\": {\"63\": 2, \"123\": 13, \"66\": 1}, \"28\": {\"28\": 15, \"81\": 1, \"14\": 1, \"122\": 2, \"43\": 1}, \"37\": {\"37\": 16}, \"126\": {\"126\": 29, \"109\": 4, \"97\": 1, \"21\": 1, \"96\": 1}, \"30\": {\"30\": 27, \"129\": 1, \"83\": 2, \"52\": 2, \"12\": 1, \"111\": 1, \"71\": 1, \"94\": 2, \"22\": 1}, \"71\": {\"71\": 33, \"111\": 7, \"21\": 1, \"12\": 1, \"88\": 1, \"113\": 1}, \"18\": {\"18\": 25, \"39\": 3}, \"67\": {\"67\": 13, \"88\": 1, \"120\": 2}, \"83\": {\"83\": 22, \"7\": 1, \"84\": 2, \"19\": 1, \"8\": 1, \"5\": 1}, \"22\": {\"22\": 14, \"116\": 1, \"110\": 1}, \"53\": {\"53\": 16, \"125\": 1, \"83\": 1, \"49\": 2}, \"57\": {\"57\": 12}, \"89\": {\"89\": 25, \"23\": 1, \"53\": 2, \"49\": 1, \"54\": 2, \"9\": 1}, \"109\": {\"109\": 31, \"96\": 2, \"126\": 1, \"25\": 2, \"124\": 1, \"73\": 1, \"44\": 1, \"108\": 2, \"21\": 3, \"104\": 2}, \"119\": {\"119\": 16}, \"17\": {\"17\": 14, \"27\": 1, \"77\": 1}, \"14\": {\"14\": 32, \"43\": 2}, \"121\": {\"121\": 24, \"117\": 3, \"13\": 1, \"113\": 1, \"16\": 1, \"95\": 2}, \"59\": {\"59\": 8, \"71\": 1, \"121\": 1, \"111\": 1, \"30\": 1}, \"129\": {\"129\": 12, \"96\": 1, \"72\": 6, \"44\": 1, \"2\": 3, \"100\": 1, \"109\": 1, \"124\": 1, \"64\": 1, \"3\": 1}, \"105\": {\"105\": 29, \"40\": 8, \"4\": 1}, \"2\": {\"2\": 10, \"114\": 2, \"11\": 9, \"100\": 1, \"46\": 1, \"42\": 3, \"115\": 1, \"94\": 1, \"128\": 1, \"66\": 1, \"109\": 2}, \"68\": {\"68\": 16}, \"82\": {\"82\": 33, \"124\": 1, \"66\": 1, \"3\": 1}, \"27\": {\"27\": 16, \"97\": 3, \"108\": 3, \"36\": 4, \"88\": 8, \"15\": 2, \"94\": 2, \"24\": 3, \"9\": 1}, \"111\": {\"111\": 36, \"49\": 1, \"71\": 3}, \"124\": {\"124\": 31, \"104\": 1, \"115\": 1, \"19\": 1, \"70\": 2, \"44\": 1, \"42\": 2, \"9\": 1}, \"85\": {\"85\": 29, \"0\": 2, \"113\": 1}, \"26\": {\"26\": 44, \"118\": 2}, \"110\": {\"110\": 42, \"107\": 1, \"75\": 1, \"55\": 1, \"4\": 1}, \"97\": {\"104\": 1, \"97\": 7, \"2\": 2, \"24\": 2, \"108\": 3, \"88\": 2, \"47\": 1, \"27\": 2}, \"13\": {\"13\": 16}, \"3\": {\"3\": 32, \"82\": 2, \"45\": 1, \"94\": 1}, \"42\": {\"100\": 8, \"8\": 5, \"87\": 1, \"109\": 2, \"83\": 2, \"99\": 1, \"42\": 3, \"91\": 1, \"2\": 4, \"23\": 1}, \"25\": {\"25\": 7, \"100\": 6, \"2\": 1, \"99\": 2}, \"47\": {\"47\": 11, \"104\": 1}, \"115\": {\"23\": 1, \"115\": 11}, \"118\": {\"118\": 35, \"39\": 1, \"26\": 1, \"113\": 1}, \"84\": {\"84\": 39, \"11\": 1, \"23\": 1, \"8\": 1}, \"120\": {\"120\": 16, \"50\": 2, \"113\": 2}, \"92\": {\"92\": 28}, \"79\": {\"79\": 12}, \"80\": {\"105\": 1, \"80\": 15}, \"73\": {\"73\": 16, \"9\": 2, \"1\": 2}, \"36\": {\"36\": 24, \"21\": 1, \"24\": 2, \"27\": 3, \"88\": 3, \"113\": 1}, \"10\": {\"10\": 14, \"85\": 4, \"0\": 8, \"35\": 1, \"122\": 2, \"62\": 2, \"105\": 1, \"74\": 2, \"57\": 1, \"24\": 1}, \"104\": {\"104\": 16}, \"50\": {\"50\": 16}, \"39\": {\"39\": 27, \"95\": 2, \"16\": 1, \"117\": 10, \"102\": 1, \"13\": 1, \"18\": 1, \"27\": 1}, \"64\": {\"64\": 16}, \"112\": {\"112\": 16}, \"66\": {\"66\": 16}, \"31\": {\"31\": 15, \"94\": 1}, \"100\": {\"100\": 15, \"42\": 1}, \"101\": {\"101\": 52, \"111\": 2}, \"5\": {\"5\": 29, \"109\": 1}, \"117\": {\"117\": 42}, \"86\": {\"86\": 28, \"106\": 2}, \"51\": {\"51\": 14, \"6\": 1, \"30\": 1}, \"34\": {\"23\": 1, \"81\": 3, \"34\": 7, \"98\": 6, \"122\": 3, \"12\": 2, \"86\": 3, \"53\": 1, \"89\": 1, \"43\": 1, \"14\": 1, \"91\": 1, \"68\": 2}, \"4\": {\"4\": 26, \"55\": 3, \"93\": 2, \"40\": 3, \"110\": 3, \"107\": 3}, \"99\": {\"99\": 24}, \"12\": {\"12\": 28, \"71\": 1, \"106\": 1, \"86\": 1, \"53\": 1, \"111\": 3, \"52\": 1, \"24\": 1, \"109\": 1}, \"0\": {\"0\": 25, \"20\": 1, \"85\": 7, \"35\": 1, \"10\": 1, \"21\": 1}, \"78\": {\"78\": 4, \"81\": 2, \"40\": 2, \"87\": 1, \"90\": 1, \"84\": 1, \"80\": 1, \"105\": 3, \"21\": 1}, \"88\": {\"88\": 20, \"36\": 4, \"97\": 4, \"24\": 3, \"27\": 6, \"108\": 1}, \"40\": {\"40\": 34, \"105\": 4}, \"20\": {\"20\": 16}, \"90\": {\"84\": 1, \"116\": 1, \"90\": 33, \"66\": 1}, \"65\": {\"76\": 2, \"57\": 1, \"13\": 5, \"74\": 3, \"39\": 1}, \"44\": {\"44\": 38}, \"93\": {\"107\": 1, \"93\": 22, \"35\": 1, \"110\": 3, \"41\": 1, \"7\": 1, \"4\": 2, \"87\": 1, \"84\": 1, \"23\": 1, \"28\": 1, \"8\": 1, \"21\": 1, \"83\": 1}, \"122\": {\"122\": 25, \"43\": 8, \"81\": 1, \"78\": 1, \"113\": 1}, \"16\": {\"16\": 30, \"13\": 1, \"95\": 1}, \"52\": {\"52\": 12, \"49\": 2, \"30\": 1, \"35\": 1, \"6\": 1, \"111\": 2, \"94\": 1}, \"24\": {\"24\": 23, \"108\": 3, \"88\": 9, \"126\": 1, \"97\": 1, \"21\": 1, \"36\": 2, \"113\": 1, \"27\": 1}, \"29\": {\"29\": 25, \"44\": 1, \"83\": 1, \"23\": 1}, \"19\": {\"19\": 20, \"104\": 1, \"84\": 3, \"64\": 1, \"8\": 1, \"44\": 2}, \"106\": {\"106\": 32, \"111\": 1, \"5\": 1, \"71\": 1, \"86\": 2, \"15\": 1}, \"54\": {\"54\": 16}, \"94\": {\"94\": 34, \"97\": 1, \"125\": 2, \"15\": 2, \"109\": 1, \"59\": 1, \"27\": 1}, \"9\": {\"9\": 28, \"97\": 2}, \"41\": {\"40\": 2, \"41\": 9, \"93\": 3, \"105\": 1, \"55\": 1}, \"49\": {\"31\": 2, \"103\": 2, \"12\": 2, \"49\": 5, \"9\": 2, \"111\": 3, \"53\": 2, \"89\": 1, \"102\": 1}, \"60\": {\"8\": 3, \"84\": 1, \"23\": 1, \"42\": 3, \"14\": 1, \"39\": 1, \"100\": 2, \"90\": 1, \"35\": 1, \"81\": 2}, \"113\": {\"113\": 36}, \"72\": {\"72\": 28, \"8\": 1, \"34\": 2, \"44\": 1}, \"1\": {\"1\": 36}, \"55\": {\"55\": 10, \"4\": 2}, \"128\": {\"128\": 10, \"29\": 5, \"11\": 1, \"44\": 1, \"60\": 1, \"114\": 1, \"115\": 1, \"66\": 1, \"108\": 1, \"101\": 2}, \"15\": {\"15\": 27, \"27\": 4, \"94\": 2, \"88\": 2, \"86\": 1, \"49\": 1, \"111\": 1, \"6\": 1, \"24\": 2, \"70\": 1}, \"35\": {\"40\": 1, \"35\": 9, \"110\": 2}, \"46\": {\"54\": 3, \"71\": 3, \"46\": 4, \"106\": 1, \"12\": 1}, \"98\": {\"98\": 32}, \"62\": {\"62\": 26}, \"56\": {\"110\": 2, \"56\": 10}}, \"Wisig_3\": {\"9\": {\"9\": 31, \"104\": 1}, \"0\": {\"0\": 29, \"101\": 9, \"6\": 1, \"34\": 1, \"58\": 1, \"32\": 1, \"4\": 1, \"21\": 1}, \"2\": {\"26\": 10, \"96\": 3, \"2\": 4, \"93\": 4, \"23\": 1, \"18\": 3, \"121\": 1, \"64\": 2}, \"34\": {\"122\": 1, \"84\": 2, \"32\": 3, \"34\": 8, \"72\": 1, \"125\": 3, \"40\": 3, \"48\": 1, \"75\": 2, \"107\": 3, \"14\": 2, \"6\": 1}, \"128\": {\"122\": 3, \"128\": 10, \"98\": 1, \"87\": 5, \"77\": 7, \"19\": 1, \"28\": 2, \"44\": 2, \"111\": 1}, \"79\": {\"79\": 11, \"60\": 1}, \"3\": {\"3\": 30, \"124\": 1, \"128\": 2, \"71\": 2, \"21\": 1}, \"81\": {\"81\": 32}, \"41\": {\"41\": 13, \"66\": 1, \"86\": 1, \"4\": 1}, \"53\": {\"53\": 13, \"129\": 1, \"29\": 2, \"20\": 1, \"49\": 1, \"110\": 1, \"8\": 1}, \"93\": {\"93\": 26, \"64\": 2, \"17\": 1, \"16\": 4, \"70\": 1}, \"52\": {\"52\": 12, \"27\": 1, \"124\": 1, \"59\": 1, \"29\": 1}, \"124\": {\"124\": 35, \"47\": 1, \"8\": 3, \"106\": 1}, \"84\": {\"84\": 39, \"82\": 2, \"45\": 1}, \"49\": {\"53\": 4, \"49\": 9, \"80\": 1, \"20\": 1, \"30\": 2, \"42\": 3, \"97\": 1, \"8\": 1, \"88\": 1, \"73\": 1}, \"36\": {\"36\": 19, \"24\": 5, \"54\": 1, \"27\": 5, \"112\": 1, \"110\": 1}, \"76\": {\"76\": 15, \"109\": 1}, \"122\": {\"122\": 28, \"28\": 3, \"107\": 6, \"90\": 2, \"70\": 2, \"33\": 1}, \"80\": {\"80\": 16}, \"129\": {\"129\": 25, \"80\": 1, \"31\": 2, \"110\": 2, \"19\": 1, \"29\": 1}, \"88\": {\"49\": 3, \"88\": 20, \"108\": 6, \"96\": 1, \"70\": 2, \"20\": 1, \"53\": 1, \"21\": 1, \"85\": 1}, \"23\": {\"128\": 3, \"67\": 1, \"123\": 5, \"28\": 1, \"70\": 1, \"114\": 1, \"23\": 4, \"126\": 2, \"19\": 2, \"113\": 2, \"63\": 3, \"46\": 1, \"124\": 3, \"110\": 1, \"8\": 1, \"111\": 1}, \"63\": {\"63\": 16}, \"59\": {\"59\": 12}, \"38\": {\"38\": 14, \"66\": 1, \"9\": 1}, \"28\": {\"28\": 16}, \"105\": {\"105\": 33, \"4\": 1}, \"39\": {\"113\": 3, \"39\": 17, \"117\": 4, \"126\": 3, \"21\": 1}, \"96\": {\"96\": 20}, \"65\": {\"65\": 10, \"10\": 1, \"55\": 1}, \"16\": {\"16\": 32, \"93\": 2, \"11\": 4, \"70\": 1, \"92\": 1, \"24\": 1, \"15\": 1}, \"64\": {\"64\": 20}, \"119\": {\"119\": 16}, \"4\": {\"4\": 28, \"41\": 2, \"86\": 7, \"105\": 5}, \"30\": {\"47\": 1, \"30\": 25, \"124\": 3, \"32\": 1, \"15\": 1, \"94\": 3, \"97\": 1, \"114\": 1, \"60\": 1, \"98\": 1}, \"50\": {\"50\": 16}, \"92\": {\"92\": 28}, \"26\": {\"26\": 45, \"121\": 1, \"81\": 1, \"2\": 1, \"43\": 1, \"18\": 1}, \"94\": {\"94\": 38, \"33\": 2}, \"121\": {\"113\": 4, \"81\": 2, \"121\": 20, \"18\": 2, \"117\": 3, \"5\": 1}, \"90\": {\"90\": 38, \"11\": 1, \"100\": 1}, \"31\": {\"31\": 18, \"29\": 2}, \"108\": {\"108\": 18, \"49\": 2, \"112\": 2, \"42\": 4, \"73\": 1, \"70\": 3, \"85\": 2, \"88\": 2}, \"120\": {\"120\": 19, \"13\": 1}, \"6\": {\"34\": 4, \"6\": 14, \"75\": 3, \"91\": 1, \"61\": 1, \"72\": 2, \"51\": 4, \"101\": 1, \"94\": 1, \"111\": 1}, \"47\": {\"47\": 12}, \"67\": {\"67\": 12, \"123\": 2, \"113\": 1, \"63\": 1}, \"62\": {\"62\": 31, \"21\": 1}, \"32\": {\"84\": 3, \"118\": 1, \"65\": 2, \"82\": 6, \"22\": 3, \"55\": 2, \"45\": 2, \"32\": 8, \"10\": 3, \"50\": 1, \"107\": 1}, \"33\": {\"33\": 36}, \"126\": {\"126\": 36, \"81\": 2, \"21\": 1, \"121\": 1}, \"78\": {\"78\": 4, \"122\": 2, \"105\": 1, \"21\": 1, \"84\": 2, \"70\": 1, \"126\": 1, \"99\": 2, \"13\": 1, \"11\": 1}, \"111\": {\"111\": 37, \"98\": 1, \"125\": 1, \"91\": 1}, \"113\": {\"113\": 33, \"39\": 1, \"2\": 2, \"121\": 1, \"117\": 1}, \"99\": {\"99\": 27, \"105\": 1, \"4\": 2, \"128\": 1, \"56\": 1}, \"83\": {\"83\": 24}, \"66\": {\"66\": 16}, \"118\": {\"118\": 33, \"88\": 1}, \"127\": {\"127\": 34}, \"43\": {\"113\": 3, \"21\": 4, \"43\": 15, \"33\": 5, \"90\": 1, \"92\": 1, \"39\": 1, \"116\": 2, \"11\": 4, \"102\": 2, \"2\": 1, \"13\": 1}, \"116\": {\"43\": 4, \"102\": 2, \"116\": 8, \"87\": 3, \"92\": 2, \"90\": 1, \"44\": 1, \"60\": 1, \"33\": 1, \"13\": 1, \"11\": 2, \"29\": 2}, \"25\": {\"25\": 12, \"36\": 2, \"83\": 1, \"94\": 1}, \"106\": {\"106\": 21, \"97\": 1, \"12\": 2}, \"18\": {\"18\": 36}, \"72\": {\"72\": 25, \"58\": 1, \"91\": 2}, \"37\": {\"37\": 16}, \"95\": {\"95\": 29, \"110\": 1, \"9\": 1, \"104\": 1}, \"86\": {\"86\": 23, \"4\": 3, \"70\": 1, \"21\": 1}, \"35\": {\"35\": 12}, \"61\": {\"61\": 13, \"126\": 1, \"81\": 2}, \"21\": {\"39\": 2, \"21\": 30, \"6\": 1, \"78\": 3}, \"58\": {\"58\": 16}, \"103\": {\"103\": 16}, \"73\": {\"73\": 31, \"59\": 3, \"49\": 2, \"42\": 2}, \"13\": {\"13\": 4, \"21\": 4, \"84\": 1, \"26\": 5, \"16\": 1, \"82\": 1}, \"12\": {\"12\": 35, \"91\": 1, \"106\": 1, \"98\": 4, \"47\": 1, \"30\": 2, \"73\": 1, \"124\": 1}, \"109\": {\"109\": 37, \"76\": 1}, \"70\": {\"70\": 14, \"93\": 1, \"11\": 1, \"47\": 1, \"90\": 1, \"8\": 2, \"53\": 2, \"31\": 1, \"110\": 2, \"60\": 1, \"42\": 1, \"19\": 1, \"124\": 3, \"88\": 1, \"85\": 1, \"49\": 1}, \"54\": {\"54\": 16}, \"123\": {\"123\": 13, \"81\": 1, \"20\": 1, \"23\": 1}, \"101\": {\"101\": 36, \"126\": 1, \"0\": 4, \"111\": 1}, \"29\": {\"31\": 3, \"29\": 19, \"44\": 3, \"87\": 1, \"114\": 1, \"90\": 1, \"46\": 1, \"80\": 2, \"60\": 1}, \"56\": {\"41\": 3, \"56\": 7, \"111\": 2}, \"102\": {\"102\": 30}, \"87\": {\"87\": 28, \"28\": 1, \"90\": 2, \"100\": 1, \"128\": 2, \"11\": 1, \"116\": 1, \"44\": 2}, \"44\": {\"44\": 30, \"64\": 2, \"114\": 1, \"60\": 1, \"29\": 1, \"92\": 1}, \"75\": {\"75\": 16}, \"82\": {\"82\": 28}, \"107\": {\"107\": 36}, \"46\": {\"46\": 16}, \"71\": {\"71\": 36}, \"100\": {\"100\": 16}, \"97\": {\"97\": 9, \"54\": 1, \"8\": 2, \"73\": 1, \"125\": 1, \"47\": 1, \"15\": 2, \"36\": 2, \"24\": 1}, \"40\": {\"40\": 40, \"105\": 2}, \"7\": {\"7\": 38, \"40\": 1, \"35\": 1, \"95\": 4}, \"110\": {\"70\": 2, \"110\": 23, \"23\": 1, \"60\": 4, \"129\": 6, \"19\": 3, \"88\": 1, \"114\": 1, \"16\": 1}, \"11\": {\"11\": 33, \"90\": 5, \"29\": 1, \"43\": 1}, \"89\": {\"89\": 27, \"8\": 1}, \"1\": {\"1\": 22, \"114\": 1, \"5\": 1}, \"104\": {\"104\": 16}, \"74\": {\"74\": 13, \"57\": 2, \"116\": 1}, \"125\": {\"125\": 27, \"128\": 1, \"106\": 1, \"98\": 3, \"12\": 1, \"94\": 1, \"15\": 1, \"73\": 1}, \"14\": {\"14\": 38}, \"114\": {\"114\": 38, \"1\": 4, \"46\": 1, \"5\": 1}, \"48\": {\"48\": 6, \"79\": 1, \"43\": 1, \"119\": 1, \"7\": 4, \"65\": 1, \"55\": 1, \"116\": 1}, \"10\": {\"9\": 2, \"22\": 3, \"10\": 21, \"32\": 3, \"55\": 1, \"95\": 4, \"34\": 1, \"0\": 2, \"65\": 1, \"37\": 1, \"7\": 3}, \"22\": {\"22\": 9, \"8\": 1, \"57\": 2, \"66\": 2, \"32\": 2}, \"68\": {\"68\": 14, \"60\": 1, \"56\": 1}, \"19\": {\"110\": 2, \"19\": 14, \"103\": 2, \"124\": 1, \"129\": 6, \"1\": 2, \"98\": 3, \"128\": 2}, \"5\": {\"5\": 29, \"21\": 1, \"114\": 2}, \"17\": {\"104\": 3, \"21\": 1, \"9\": 1, \"17\": 5, \"80\": 1, \"7\": 1, \"23\": 2, \"31\": 2}, \"8\": {\"8\": 27, \"85\": 4, \"112\": 1, \"49\": 1, \"110\": 1, \"97\": 1, \"124\": 1}, \"60\": {\"60\": 8, \"129\": 2, \"44\": 5, \"19\": 1, \"3\": 1, \"29\": 2, \"110\": 3, \"90\": 1, \"114\": 1, \"46\": 1, \"79\": 1, \"53\": 1, \"11\": 1}, \"42\": {\"42\": 17, \"85\": 2, \"108\": 3, \"24\": 1, \"73\": 2, \"112\": 2, \"25\": 1}, \"117\": {\"117\": 40}, \"20\": {\"20\": 11, \"75\": 1, \"108\": 1, \"94\": 1, \"53\": 1, \"80\": 1}, \"85\": {\"85\": 32, \"108\": 2}, \"51\": {\"51\": 15, \"7\": 1}, \"69\": {\"69\": 31, \"89\": 2, \"70\": 1}, \"45\": {\"45\": 12, \"84\": 2, \"115\": 1, \"89\": 1}, \"98\": {\"29\": 1, \"98\": 24, \"12\": 3, \"30\": 2}, \"24\": {\"24\": 17, \"83\": 2, \"25\": 3, \"27\": 5, \"36\": 1, \"21\": 1, \"108\": 1}, \"15\": {\"15\": 23, \"8\": 4, \"125\": 1}, \"27\": {\"27\": 20, \"24\": 6, \"36\": 8, \"83\": 2}, \"91\": {\"41\": 2, \"128\": 3, \"111\": 5, \"91\": 8, \"127\": 1, \"89\": 2, \"77\": 1, \"72\": 2}, \"112\": {\"112\": 9, \"42\": 4, \"94\": 1, \"24\": 1, \"108\": 1}, \"115\": {\"84\": 7, \"115\": 6, \"17\": 1, \"82\": 2}, \"77\": {\"77\": 15, \"128\": 1}, \"57\": {\"57\": 19, \"55\": 1}, \"55\": {\"55\": 16}}}, \"per_domain_accuracy\": {\"CORES_2\": {\"accuracy\": 0.9956896551724138, \"source?\": true}, \"CORES_1\": {\"accuracy\": 0.9935344827586207, \"source?\": true}, \"CORES_5\": {\"accuracy\": 0.9939655172413793, \"source?\": true}, \"CORES_4\": {\"accuracy\": 0.9956896551724138, \"source?\": true}, \"CORES_3\": {\"accuracy\": 0.9935344827586207, \"source?\": true}, \"Wisig_2\": {\"accuracy\": 0.7112068965517241, \"source?\": false}, \"Wisig_4\": {\"accuracy\": 0.6880877742946708, \"source?\": false}, \"Wisig_1\": {\"accuracy\": 0.7572302558398221, \"source?\": false}, \"Wisig_3\": {\"accuracy\": 0.7722469410456062, \"source?\": false}}}, \"history\": {\"epoch_indices\": [1, 2, 3], \"train_label_loss\": [0.3106923405614355, 0.012211137580581836, 0.01874527467929319], \"source_val_label_loss\": [0.031091321259737015, 0.026897940784692764, 0.018555212765932083], \"target_val_label_loss\": [1.578896403312683, 2.70613956451416, 3.0608904361724854], \"source_val_acc_label\": [0.9944324712643678, 0.9955100574712644, 0.9964080459770115], \"target_val_acc_label\": [0.7310211173483026, 0.7254076450147019, 0.7282143811815023]}, \"dataset_metrics\": {\"source\": {\"train\": {\"n_unique_x\": 75762, \"n_unique_y\": 58, \"n_batch/episode\": 351}, \"val\": {\"n_unique_x\": 11872, \"n_unique_y\": 58, \"n_batch/episode\": 48}, \"test\": {\"n_unique_x\": 12298, \"n_unique_y\": 58, \"n_batch/episode\": 50}}, \"target\": {\"train\": {\"n_unique_x\": 141305, \"n_unique_y\": 130, \"n_batch/episode\": 916}, \"val\": {\"n_unique_x\": 26165, \"n_unique_y\": 130, \"n_batch/episode\": 129}, \"test\": {\"n_unique_x\": 26259, \"n_unique_y\": 130, \"n_batch/episode\": 130}}}}'"
      ]
     },
     "execution_count": 29,
     "metadata": {},
     "output_type": "execute_result"
    }
   ],
   "source": [
    "json.dumps(experiment)"
   ]
  }
 ],
 "metadata": {
  "celltoolbar": "Tags",
  "kernelspec": {
   "display_name": "Python 3 (ipykernel)",
   "language": "python",
   "name": "python3"
  },
  "language_info": {
   "codemirror_mode": {
    "name": "ipython",
    "version": 3
   },
   "file_extension": ".py",
   "mimetype": "text/x-python",
   "name": "python",
   "nbconvert_exporter": "python",
   "pygments_lexer": "ipython3",
   "version": "3.8.12"
  },
  "papermill": {
   "default_parameters": {},
   "duration": 240.763187,
   "end_time": "2022-03-21T03:05:11.359642",
   "environment_variables": {},
   "exception": null,
   "input_path": "/root/csc500-main/csc500-notebooks/templates/tl_ptn_template.ipynb",
   "output_path": "trial.ipynb",
   "parameters": {
    "parameters": {
     "BEST_MODEL_PATH": "./best_model.pth",
     "NUM_LOGS_PER_EPOCH": 10,
     "criteria_for_best": "target_accuracy",
     "dataset_seed": 154325,
     "datasets": [
      {
       "domain_prefix": "CORES_",
       "domains": [
        1,
        2,
        3,
        4,
        5
       ],
       "episode_transforms": [],
       "labels": [
        "1-10.",
        "1-11.",
        "1-15.",
        "1-16.",
        "1-17.",
        "1-18.",
        "1-19.",
        "10-4.",
        "10-7.",
        "11-1.",
        "11-14.",
        "11-17.",
        "11-20.",
        "11-7.",
        "13-20.",
        "13-8.",
        "14-10.",
        "14-11.",
        "14-14.",
        "14-7.",
        "15-1.",
        "15-20.",
        "16-1.",
        "16-16.",
        "17-10.",
        "17-11.",
        "17-2.",
        "19-1.",
        "19-16.",
        "19-19.",
        "19-20.",
        "19-3.",
        "2-10.",
        "2-11.",
        "2-17.",
        "2-18.",
        "2-20.",
        "2-3.",
        "2-4.",
        "2-5.",
        "2-6.",
        "2-7.",
        "2-8.",
        "3-13.",
        "3-18.",
        "3-3.",
        "4-1.",
        "4-10.",
        "4-11.",
        "4-19.",
        "5-5.",
        "6-15.",
        "7-10.",
        "7-14.",
        "8-18.",
        "8-20.",
        "8-3.",
        "8-8."
       ],
       "num_examples_per_domain_per_label": -1,
       "pickle_path": "/root/csc500-main/datasets/cores.stratified_ds.2022A.pkl",
       "source_or_target_dataset": "source",
       "x_transforms": [
        "unit_power"
       ]
      },
      {
       "domain_prefix": "Wisig_",
       "domains": [
        1,
        2,
        3,
        4
       ],
       "episode_transforms": [],
       "labels": [
        "1-10",
        "1-12",
        "1-14",
        "1-16",
        "1-18",
        "1-19",
        "1-8",
        "10-11",
        "10-17",
        "10-4",
        "10-7",
        "11-1",
        "11-10",
        "11-19",
        "11-20",
        "11-4",
        "11-7",
        "12-19",
        "12-20",
        "12-7",
        "13-14",
        "13-18",
        "13-19",
        "13-20",
        "13-3",
        "13-7",
        "14-10",
        "14-11",
        "14-12",
        "14-13",
        "14-14",
        "14-19",
        "14-20",
        "14-7",
        "14-8",
        "14-9",
        "15-1",
        "15-19",
        "15-6",
        "16-1",
        "16-16",
        "16-19",
        "16-20",
        "17-10",
        "17-11",
        "18-1",
        "18-10",
        "18-11",
        "18-12",
        "18-13",
        "18-14",
        "18-15",
        "18-16",
        "18-17",
        "18-19",
        "18-2",
        "18-20",
        "18-4",
        "18-5",
        "18-7",
        "18-8",
        "18-9",
        "19-1",
        "19-10",
        "19-11",
        "19-12",
        "19-13",
        "19-14",
        "19-15",
        "19-19",
        "19-2",
        "19-20",
        "19-3",
        "19-4",
        "19-6",
        "19-7",
        "19-8",
        "19-9",
        "2-1",
        "2-13",
        "2-15",
        "2-3",
        "2-4",
        "2-5",
        "2-6",
        "2-7",
        "2-8",
        "20-1",
        "20-12",
        "20-14",
        "20-15",
        "20-16",
        "20-18",
        "20-19",
        "20-20",
        "20-3",
        "20-4",
        "20-5",
        "20-7",
        "20-8",
        "3-1",
        "3-13",
        "3-18",
        "3-2",
        "3-8",
        "4-1",
        "4-10",
        "4-11",
        "5-1",
        "5-5",
        "6-1",
        "6-15",
        "6-6",
        "7-10",
        "7-11",
        "7-12",
        "7-13",
        "7-14",
        "7-7",
        "7-8",
        "7-9",
        "8-1",
        "8-13",
        "8-14",
        "8-18",
        "8-20",
        "8-3",
        "8-8",
        "9-1",
        "9-7"
       ],
       "num_examples_per_domain_per_label": -1,
       "pickle_path": "/root/csc500-main/datasets/wisig.node3-19.stratified_ds.2022A.pkl",
       "source_or_target_dataset": "target",
       "x_transforms": [
        "unit_power"
       ]
      }
     ],
     "device": "cuda",
     "experiment_name": "tl_1v2:cores-wisig",
     "lr": 0.0001,
     "n_epoch": 3,
     "n_query": 2,
     "n_shot": 3,
     "n_way": 58,
     "patience": 3,
     "seed": 154325,
     "test_k_factor": 2,
     "torch_default_dtype": "torch.float32",
     "train_k_factor": 3,
     "val_k_factor": 2,
     "x_net": [
      {
       "class": "nnReshape",
       "kargs": {
        "shape": [
         -1,
         1,
         2,
         256
        ]
       }
      },
      {
       "class": "Conv2d",
       "kargs": {
        "bias": false,
        "in_channels": 1,
        "kernel_size": [
         1,
         7
        ],
        "out_channels": 256,
        "padding": [
         0,
         3
        ]
       }
      },
      {
       "class": "ReLU",
       "kargs": {
        "inplace": true
       }
      },
      {
       "class": "BatchNorm2d",
       "kargs": {
        "num_features": 256
       }
      },
      {
       "class": "Conv2d",
       "kargs": {
        "bias": true,
        "in_channels": 256,
        "kernel_size": [
         2,
         7
        ],
        "out_channels": 80,
        "padding": [
         0,
         3
        ]
       }
      },
      {
       "class": "ReLU",
       "kargs": {
        "inplace": true
       }
      },
      {
       "class": "BatchNorm2d",
       "kargs": {
        "num_features": 80
       }
      },
      {
       "class": "Flatten",
       "kargs": {}
      },
      {
       "class": "Linear",
       "kargs": {
        "in_features": 20480,
        "out_features": 256
       }
      },
      {
       "class": "ReLU",
       "kargs": {
        "inplace": true
       }
      },
      {
       "class": "BatchNorm1d",
       "kargs": {
        "num_features": 256
       }
      },
      {
       "class": "Linear",
       "kargs": {
        "in_features": 256,
        "out_features": 256
       }
      }
     ]
    }
   },
   "start_time": "2022-03-21T03:01:10.596455",
   "version": "2.3.4"
  }
 },
 "nbformat": 4,
 "nbformat_minor": 5
}