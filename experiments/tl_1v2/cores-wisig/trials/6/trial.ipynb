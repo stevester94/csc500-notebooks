{
 "cells": [
  {
   "cell_type": "markdown",
   "id": "9fea5f46",
   "metadata": {
    "papermill": {
     "duration": 0.029218,
     "end_time": "2022-03-21T02:29:35.799226",
     "exception": false,
     "start_time": "2022-03-21T02:29:35.770008",
     "status": "completed"
    },
    "tags": []
   },
   "source": [
    "# Transfer Learning Template"
   ]
  },
  {
   "cell_type": "code",
   "execution_count": 1,
   "id": "0902182a",
   "metadata": {
    "execution": {
     "iopub.execute_input": "2022-03-21T02:29:35.865853Z",
     "iopub.status.busy": "2022-03-21T02:29:35.864994Z",
     "iopub.status.idle": "2022-03-21T02:29:37.937289Z",
     "shell.execute_reply": "2022-03-21T02:29:37.936397Z"
    },
    "papermill": {
     "duration": 2.113847,
     "end_time": "2022-03-21T02:29:37.937485",
     "exception": false,
     "start_time": "2022-03-21T02:29:35.823638",
     "status": "completed"
    },
    "tags": []
   },
   "outputs": [],
   "source": [
    "%load_ext autoreload\n",
    "%autoreload 2\n",
    "%matplotlib inline\n",
    "\n",
    "    \n",
    "import os, json, sys, time, random\n",
    "import numpy as np\n",
    "import torch\n",
    "from torch.optim import Adam\n",
    "from  easydict import EasyDict\n",
    "import matplotlib.pyplot as plt\n",
    "\n",
    "from steves_models.steves_ptn import Steves_Prototypical_Network\n",
    "\n",
    "from steves_utils.lazy_iterable_wrapper import Lazy_Iterable_Wrapper\n",
    "from steves_utils.iterable_aggregator import Iterable_Aggregator\n",
    "from steves_utils.ptn_train_eval_test_jig import  PTN_Train_Eval_Test_Jig\n",
    "from steves_utils.torch_sequential_builder import build_sequential\n",
    "from steves_utils.torch_utils import get_dataset_metrics, ptn_confusion_by_domain_over_dataloader\n",
    "from steves_utils.utils_v2 import (per_domain_accuracy_from_confusion, get_datasets_base_path)\n",
    "from steves_utils.PTN.utils import independent_accuracy_assesment\n",
    "\n",
    "from torch.utils.data import DataLoader\n",
    "\n",
    "from steves_utils.stratified_dataset.episodic_accessor import Episodic_Accessor_Factory\n",
    "\n",
    "from steves_utils.ptn_do_report import (\n",
    "    get_loss_curve,\n",
    "    get_results_table,\n",
    "    get_parameters_table,\n",
    "    get_domain_accuracies,\n",
    ")\n",
    "\n",
    "from steves_utils.transforms import get_chained_transform"
   ]
  },
  {
   "cell_type": "markdown",
   "id": "41c840b4",
   "metadata": {
    "papermill": {
     "duration": 0.019746,
     "end_time": "2022-03-21T02:29:37.983300",
     "exception": false,
     "start_time": "2022-03-21T02:29:37.963554",
     "status": "completed"
    },
    "tags": []
   },
   "source": [
    "# Allowed Parameters\n",
    "These are allowed parameters, not defaults\n",
    "Each of these values need to be present in the injected parameters (the notebook will raise an exception if they are not present)\n",
    "\n",
    "Papermill uses the cell tag \"parameters\" to inject the real parameters below this cell.\n",
    "Enable tags to see what I mean"
   ]
  },
  {
   "cell_type": "code",
   "execution_count": 2,
   "id": "fd44eb83",
   "metadata": {
    "execution": {
     "iopub.execute_input": "2022-03-21T02:29:38.029024Z",
     "iopub.status.busy": "2022-03-21T02:29:38.028637Z",
     "iopub.status.idle": "2022-03-21T02:29:38.055642Z",
     "shell.execute_reply": "2022-03-21T02:29:38.054884Z"
    },
    "papermill": {
     "duration": 0.052804,
     "end_time": "2022-03-21T02:29:38.055811",
     "exception": false,
     "start_time": "2022-03-21T02:29:38.003007",
     "status": "completed"
    },
    "tags": []
   },
   "outputs": [],
   "source": [
    "required_parameters = {\n",
    "    \"experiment_name\",\n",
    "    \"lr\",\n",
    "    \"device\",\n",
    "    \"seed\",\n",
    "    \"dataset_seed\",\n",
    "    \"n_shot\",\n",
    "    \"n_query\",\n",
    "    \"n_way\",\n",
    "    \"train_k_factor\",\n",
    "    \"val_k_factor\",\n",
    "    \"test_k_factor\",\n",
    "    \"n_epoch\",\n",
    "    \"patience\",\n",
    "    \"criteria_for_best\",\n",
    "    \"x_net\",\n",
    "    \"datasets\",\n",
    "    \"torch_default_dtype\",\n",
    "    \"NUM_LOGS_PER_EPOCH\",\n",
    "    \"BEST_MODEL_PATH\",\n",
    "    \"x_shape\",\n",
    "}"
   ]
  },
  {
   "cell_type": "code",
   "execution_count": 3,
   "id": "fa3f0049",
   "metadata": {
    "execution": {
     "iopub.execute_input": "2022-03-21T02:29:38.119589Z",
     "iopub.status.busy": "2022-03-21T02:29:38.116449Z",
     "iopub.status.idle": "2022-03-21T02:29:38.144662Z",
     "shell.execute_reply": "2022-03-21T02:29:38.143825Z"
    },
    "papermill": {
     "duration": 0.06186,
     "end_time": "2022-03-21T02:29:38.144829",
     "exception": false,
     "start_time": "2022-03-21T02:29:38.082969",
     "status": "completed"
    },
    "tags": [
     "parameters"
    ]
   },
   "outputs": [],
   "source": [
    "from steves_utils.CORES.utils import (\n",
    "    ALL_NODES,\n",
    "    ALL_NODES_MINIMUM_1000_EXAMPLES,\n",
    "    ALL_DAYS\n",
    ")\n",
    "\n",
    "from steves_utils.ORACLE.utils_v2 import (\n",
    "    ALL_DISTANCES_FEET_NARROWED,\n",
    "    ALL_RUNS,\n",
    "    ALL_SERIAL_NUMBERS,\n",
    ")\n",
    "\n",
    "standalone_parameters = {}\n",
    "standalone_parameters[\"experiment_name\"] = \"STANDALONE PTN\"\n",
    "standalone_parameters[\"lr\"] = 0.001\n",
    "standalone_parameters[\"device\"] = \"cuda\"\n",
    "\n",
    "standalone_parameters[\"seed\"] = 1337\n",
    "standalone_parameters[\"dataset_seed\"] = 1337\n",
    "\n",
    "standalone_parameters[\"n_way\"] = 8\n",
    "standalone_parameters[\"n_shot\"] = 3\n",
    "standalone_parameters[\"n_query\"]  = 2\n",
    "standalone_parameters[\"train_k_factor\"] = 1\n",
    "standalone_parameters[\"val_k_factor\"] = 2\n",
    "standalone_parameters[\"test_k_factor\"] = 2\n",
    "\n",
    "\n",
    "standalone_parameters[\"n_epoch\"] = 50\n",
    "\n",
    "standalone_parameters[\"patience\"] = 10\n",
    "standalone_parameters[\"criteria_for_best\"] = \"source_loss\"\n",
    "\n",
    "standalone_parameters[\"datasets\"] = [\n",
    "    {\n",
    "        \"labels\": ALL_SERIAL_NUMBERS,\n",
    "        \"domains\": ALL_DISTANCES_FEET_NARROWED,\n",
    "        \"num_examples_per_domain_per_label\": 100,\n",
    "        \"pickle_path\": os.path.join(get_datasets_base_path(), \"oracle.Run1_framed_2000Examples_stratified_ds.2022A.pkl\"),\n",
    "        \"source_or_target_dataset\": \"source\",\n",
    "        \"x_transforms\": [\"unit_mag\", \"minus_two\"],\n",
    "        \"episode_transforms\": [],\n",
    "        \"domain_prefix\": \"ORACLE_\"\n",
    "    },\n",
    "    {\n",
    "        \"labels\": ALL_NODES,\n",
    "        \"domains\": ALL_DAYS,\n",
    "        \"num_examples_per_domain_per_label\": 100,\n",
    "        \"pickle_path\": os.path.join(get_datasets_base_path(), \"cores.stratified_ds.2022A.pkl\"),\n",
    "        \"source_or_target_dataset\": \"target\",\n",
    "        \"x_transforms\": [\"unit_power\", \"times_zero\"],\n",
    "        \"episode_transforms\": [],\n",
    "        \"domain_prefix\": \"CORES_\"\n",
    "    }   \n",
    "]\n",
    "\n",
    "standalone_parameters[\"torch_default_dtype\"] = \"torch.float32\" \n",
    "\n",
    "\n",
    "\n",
    "standalone_parameters[\"x_net\"] =     [\n",
    "    {\"class\": \"nnReshape\", \"kargs\": {\"shape\":[-1, 1, 2, 256]}},\n",
    "    {\"class\": \"Conv2d\", \"kargs\": { \"in_channels\":1, \"out_channels\":256, \"kernel_size\":(1,7), \"bias\":False, \"padding\":(0,3), },},\n",
    "    {\"class\": \"ReLU\", \"kargs\": {\"inplace\": True}},\n",
    "    {\"class\": \"BatchNorm2d\", \"kargs\": {\"num_features\":256}},\n",
    "\n",
    "    {\"class\": \"Conv2d\", \"kargs\": { \"in_channels\":256, \"out_channels\":80, \"kernel_size\":(2,7), \"bias\":True, \"padding\":(0,3), },},\n",
    "    {\"class\": \"ReLU\", \"kargs\": {\"inplace\": True}},\n",
    "    {\"class\": \"BatchNorm2d\", \"kargs\": {\"num_features\":80}},\n",
    "    {\"class\": \"Flatten\", \"kargs\": {}},\n",
    "\n",
    "    {\"class\": \"Linear\", \"kargs\": {\"in_features\": 80*256, \"out_features\": 256}}, # 80 units per IQ pair\n",
    "    {\"class\": \"ReLU\", \"kargs\": {\"inplace\": True}},\n",
    "    {\"class\": \"BatchNorm1d\", \"kargs\": {\"num_features\":256}},\n",
    "\n",
    "    {\"class\": \"Linear\", \"kargs\": {\"in_features\": 256, \"out_features\": 256}},\n",
    "]\n",
    "\n",
    "# Parameters relevant to results\n",
    "# These parameters will basically never need to change\n",
    "standalone_parameters[\"NUM_LOGS_PER_EPOCH\"] = 10\n",
    "standalone_parameters[\"BEST_MODEL_PATH\"] = \"./best_model.pth\"\n",
    "\n",
    "\n",
    "\n",
    "\n"
   ]
  },
  {
   "cell_type": "code",
   "execution_count": 4,
   "id": "dde4c91f",
   "metadata": {
    "execution": {
     "iopub.execute_input": "2022-03-21T02:29:38.208744Z",
     "iopub.status.busy": "2022-03-21T02:29:38.203302Z",
     "iopub.status.idle": "2022-03-21T02:29:38.234715Z",
     "shell.execute_reply": "2022-03-21T02:29:38.233885Z"
    },
    "papermill": {
     "duration": 0.065808,
     "end_time": "2022-03-21T02:29:38.234882",
     "exception": false,
     "start_time": "2022-03-21T02:29:38.169074",
     "status": "completed"
    },
    "tags": [
     "injected-parameters"
    ]
   },
   "outputs": [],
   "source": [
    "# Parameters\n",
    "parameters = {\n",
    "    \"experiment_name\": \"tl_1v2:cores-wisig\",\n",
    "    \"device\": \"cuda\",\n",
    "    \"lr\": 0.0001,\n",
    "    \"n_shot\": 3,\n",
    "    \"n_query\": 2,\n",
    "    \"train_k_factor\": 3,\n",
    "    \"val_k_factor\": 2,\n",
    "    \"test_k_factor\": 2,\n",
    "    \"torch_default_dtype\": \"torch.float32\",\n",
    "    \"n_epoch\": 3,\n",
    "    \"patience\": 3,\n",
    "    \"criteria_for_best\": \"target_accuracy\",\n",
    "    \"x_net\": [\n",
    "        {\"class\": \"nnReshape\", \"kargs\": {\"shape\": [-1, 1, 2, 256]}},\n",
    "        {\n",
    "            \"class\": \"Conv2d\",\n",
    "            \"kargs\": {\n",
    "                \"in_channels\": 1,\n",
    "                \"out_channels\": 256,\n",
    "                \"kernel_size\": [1, 7],\n",
    "                \"bias\": False,\n",
    "                \"padding\": [0, 3],\n",
    "            },\n",
    "        },\n",
    "        {\"class\": \"ReLU\", \"kargs\": {\"inplace\": True}},\n",
    "        {\"class\": \"BatchNorm2d\", \"kargs\": {\"num_features\": 256}},\n",
    "        {\n",
    "            \"class\": \"Conv2d\",\n",
    "            \"kargs\": {\n",
    "                \"in_channels\": 256,\n",
    "                \"out_channels\": 80,\n",
    "                \"kernel_size\": [2, 7],\n",
    "                \"bias\": True,\n",
    "                \"padding\": [0, 3],\n",
    "            },\n",
    "        },\n",
    "        {\"class\": \"ReLU\", \"kargs\": {\"inplace\": True}},\n",
    "        {\"class\": \"BatchNorm2d\", \"kargs\": {\"num_features\": 80}},\n",
    "        {\"class\": \"Flatten\", \"kargs\": {}},\n",
    "        {\"class\": \"Linear\", \"kargs\": {\"in_features\": 20480, \"out_features\": 256}},\n",
    "        {\"class\": \"ReLU\", \"kargs\": {\"inplace\": True}},\n",
    "        {\"class\": \"BatchNorm1d\", \"kargs\": {\"num_features\": 256}},\n",
    "        {\"class\": \"Linear\", \"kargs\": {\"in_features\": 256, \"out_features\": 256}},\n",
    "    ],\n",
    "    \"NUM_LOGS_PER_EPOCH\": 10,\n",
    "    \"BEST_MODEL_PATH\": \"./best_model.pth\",\n",
    "    \"n_way\": 58,\n",
    "    \"datasets\": [\n",
    "        {\n",
    "            \"labels\": [\n",
    "                \"1-10.\",\n",
    "                \"1-11.\",\n",
    "                \"1-15.\",\n",
    "                \"1-16.\",\n",
    "                \"1-17.\",\n",
    "                \"1-18.\",\n",
    "                \"1-19.\",\n",
    "                \"10-4.\",\n",
    "                \"10-7.\",\n",
    "                \"11-1.\",\n",
    "                \"11-14.\",\n",
    "                \"11-17.\",\n",
    "                \"11-20.\",\n",
    "                \"11-7.\",\n",
    "                \"13-20.\",\n",
    "                \"13-8.\",\n",
    "                \"14-10.\",\n",
    "                \"14-11.\",\n",
    "                \"14-14.\",\n",
    "                \"14-7.\",\n",
    "                \"15-1.\",\n",
    "                \"15-20.\",\n",
    "                \"16-1.\",\n",
    "                \"16-16.\",\n",
    "                \"17-10.\",\n",
    "                \"17-11.\",\n",
    "                \"17-2.\",\n",
    "                \"19-1.\",\n",
    "                \"19-16.\",\n",
    "                \"19-19.\",\n",
    "                \"19-20.\",\n",
    "                \"19-3.\",\n",
    "                \"2-10.\",\n",
    "                \"2-11.\",\n",
    "                \"2-17.\",\n",
    "                \"2-18.\",\n",
    "                \"2-20.\",\n",
    "                \"2-3.\",\n",
    "                \"2-4.\",\n",
    "                \"2-5.\",\n",
    "                \"2-6.\",\n",
    "                \"2-7.\",\n",
    "                \"2-8.\",\n",
    "                \"3-13.\",\n",
    "                \"3-18.\",\n",
    "                \"3-3.\",\n",
    "                \"4-1.\",\n",
    "                \"4-10.\",\n",
    "                \"4-11.\",\n",
    "                \"4-19.\",\n",
    "                \"5-5.\",\n",
    "                \"6-15.\",\n",
    "                \"7-10.\",\n",
    "                \"7-14.\",\n",
    "                \"8-18.\",\n",
    "                \"8-20.\",\n",
    "                \"8-3.\",\n",
    "                \"8-8.\",\n",
    "            ],\n",
    "            \"domains\": [1, 2, 3, 4, 5],\n",
    "            \"num_examples_per_domain_per_label\": -1,\n",
    "            \"pickle_path\": \"/root/csc500-main/datasets/cores.stratified_ds.2022A.pkl\",\n",
    "            \"source_or_target_dataset\": \"source\",\n",
    "            \"x_transforms\": [\"unit_power\"],\n",
    "            \"episode_transforms\": [],\n",
    "            \"domain_prefix\": \"CORES_\",\n",
    "        },\n",
    "        {\n",
    "            \"labels\": [\n",
    "                \"1-10\",\n",
    "                \"1-12\",\n",
    "                \"1-14\",\n",
    "                \"1-16\",\n",
    "                \"1-18\",\n",
    "                \"1-19\",\n",
    "                \"1-8\",\n",
    "                \"10-11\",\n",
    "                \"10-17\",\n",
    "                \"10-4\",\n",
    "                \"10-7\",\n",
    "                \"11-1\",\n",
    "                \"11-10\",\n",
    "                \"11-19\",\n",
    "                \"11-20\",\n",
    "                \"11-4\",\n",
    "                \"11-7\",\n",
    "                \"12-19\",\n",
    "                \"12-20\",\n",
    "                \"12-7\",\n",
    "                \"13-14\",\n",
    "                \"13-18\",\n",
    "                \"13-19\",\n",
    "                \"13-20\",\n",
    "                \"13-3\",\n",
    "                \"13-7\",\n",
    "                \"14-10\",\n",
    "                \"14-11\",\n",
    "                \"14-12\",\n",
    "                \"14-13\",\n",
    "                \"14-14\",\n",
    "                \"14-19\",\n",
    "                \"14-20\",\n",
    "                \"14-7\",\n",
    "                \"14-8\",\n",
    "                \"14-9\",\n",
    "                \"15-1\",\n",
    "                \"15-19\",\n",
    "                \"15-6\",\n",
    "                \"16-1\",\n",
    "                \"16-16\",\n",
    "                \"16-19\",\n",
    "                \"16-20\",\n",
    "                \"17-10\",\n",
    "                \"17-11\",\n",
    "                \"18-1\",\n",
    "                \"18-10\",\n",
    "                \"18-11\",\n",
    "                \"18-12\",\n",
    "                \"18-13\",\n",
    "                \"18-14\",\n",
    "                \"18-15\",\n",
    "                \"18-16\",\n",
    "                \"18-17\",\n",
    "                \"18-19\",\n",
    "                \"18-2\",\n",
    "                \"18-20\",\n",
    "                \"18-4\",\n",
    "                \"18-5\",\n",
    "                \"18-7\",\n",
    "                \"18-8\",\n",
    "                \"18-9\",\n",
    "                \"19-1\",\n",
    "                \"19-10\",\n",
    "                \"19-11\",\n",
    "                \"19-12\",\n",
    "                \"19-13\",\n",
    "                \"19-14\",\n",
    "                \"19-15\",\n",
    "                \"19-19\",\n",
    "                \"19-2\",\n",
    "                \"19-20\",\n",
    "                \"19-3\",\n",
    "                \"19-4\",\n",
    "                \"19-6\",\n",
    "                \"19-7\",\n",
    "                \"19-8\",\n",
    "                \"19-9\",\n",
    "                \"2-1\",\n",
    "                \"2-13\",\n",
    "                \"2-15\",\n",
    "                \"2-3\",\n",
    "                \"2-4\",\n",
    "                \"2-5\",\n",
    "                \"2-6\",\n",
    "                \"2-7\",\n",
    "                \"2-8\",\n",
    "                \"20-1\",\n",
    "                \"20-12\",\n",
    "                \"20-14\",\n",
    "                \"20-15\",\n",
    "                \"20-16\",\n",
    "                \"20-18\",\n",
    "                \"20-19\",\n",
    "                \"20-20\",\n",
    "                \"20-3\",\n",
    "                \"20-4\",\n",
    "                \"20-5\",\n",
    "                \"20-7\",\n",
    "                \"20-8\",\n",
    "                \"3-1\",\n",
    "                \"3-13\",\n",
    "                \"3-18\",\n",
    "                \"3-2\",\n",
    "                \"3-8\",\n",
    "                \"4-1\",\n",
    "                \"4-10\",\n",
    "                \"4-11\",\n",
    "                \"5-1\",\n",
    "                \"5-5\",\n",
    "                \"6-1\",\n",
    "                \"6-15\",\n",
    "                \"6-6\",\n",
    "                \"7-10\",\n",
    "                \"7-11\",\n",
    "                \"7-12\",\n",
    "                \"7-13\",\n",
    "                \"7-14\",\n",
    "                \"7-7\",\n",
    "                \"7-8\",\n",
    "                \"7-9\",\n",
    "                \"8-1\",\n",
    "                \"8-13\",\n",
    "                \"8-14\",\n",
    "                \"8-18\",\n",
    "                \"8-20\",\n",
    "                \"8-3\",\n",
    "                \"8-8\",\n",
    "                \"9-1\",\n",
    "                \"9-7\",\n",
    "            ],\n",
    "            \"domains\": [1, 2, 3, 4],\n",
    "            \"num_examples_per_domain_per_label\": -1,\n",
    "            \"pickle_path\": \"/root/csc500-main/datasets/wisig.node3-19.stratified_ds.2022A.pkl\",\n",
    "            \"source_or_target_dataset\": \"target\",\n",
    "            \"x_transforms\": [\"unit_power\"],\n",
    "            \"episode_transforms\": [],\n",
    "            \"domain_prefix\": \"Wisig_\",\n",
    "        },\n",
    "    ],\n",
    "    \"dataset_seed\": 420,\n",
    "    \"seed\": 420,\n",
    "}\n"
   ]
  },
  {
   "cell_type": "code",
   "execution_count": 5,
   "id": "8fa1cc33",
   "metadata": {
    "execution": {
     "iopub.execute_input": "2022-03-21T02:29:38.287044Z",
     "iopub.status.busy": "2022-03-21T02:29:38.286470Z",
     "iopub.status.idle": "2022-03-21T02:29:38.309837Z",
     "shell.execute_reply": "2022-03-21T02:29:38.309150Z"
    },
    "papermill": {
     "duration": 0.048054,
     "end_time": "2022-03-21T02:29:38.310005",
     "exception": false,
     "start_time": "2022-03-21T02:29:38.261951",
     "status": "completed"
    },
    "tags": []
   },
   "outputs": [],
   "source": [
    "# Set this to True if you want to run this template directly\n",
    "STANDALONE = False\n",
    "if STANDALONE:\n",
    "    print(\"parameters not injected, running with standalone_parameters\")\n",
    "    parameters = standalone_parameters\n",
    "\n",
    "if not 'parameters' in locals() and not 'parameters' in globals():\n",
    "    raise Exception(\"Parameter injection failed\")\n",
    "\n",
    "#Use an easy dict for all the parameters\n",
    "p = EasyDict(parameters)\n",
    "\n",
    "if \"x_shape\" not in p:\n",
    "    p.x_shape = [2,256] # Default to this if we dont supply x_shape\n",
    "\n",
    "\n",
    "supplied_keys = set(p.keys())\n",
    "\n",
    "if  supplied_keys != required_parameters:\n",
    "    print(\"Parameters are incorrect\")\n",
    "    if len(supplied_keys - required_parameters)>0: print(\"Shouldn't have:\", str(supplied_keys - required_parameters))\n",
    "    if len(required_parameters - supplied_keys)>0: print(\"Need to have:\", str(required_parameters - supplied_keys))\n",
    "    raise RuntimeError(\"Parameters are incorrect\")"
   ]
  },
  {
   "cell_type": "code",
   "execution_count": 6,
   "id": "3a028d58",
   "metadata": {
    "execution": {
     "iopub.execute_input": "2022-03-21T02:29:38.361330Z",
     "iopub.status.busy": "2022-03-21T02:29:38.360763Z",
     "iopub.status.idle": "2022-03-21T02:29:38.387559Z",
     "shell.execute_reply": "2022-03-21T02:29:38.386729Z"
    },
    "papermill": {
     "duration": 0.051644,
     "end_time": "2022-03-21T02:29:38.387727",
     "exception": false,
     "start_time": "2022-03-21T02:29:38.336083",
     "status": "completed"
    },
    "tags": []
   },
   "outputs": [],
   "source": [
    "###################################\n",
    "# Set the RNGs and make it all deterministic\n",
    "###################################\n",
    "np.random.seed(p.seed)\n",
    "random.seed(p.seed)\n",
    "torch.manual_seed(p.seed)\n",
    "\n",
    "torch.use_deterministic_algorithms(True) "
   ]
  },
  {
   "cell_type": "code",
   "execution_count": 7,
   "id": "b691acf6",
   "metadata": {
    "execution": {
     "iopub.execute_input": "2022-03-21T02:29:38.438188Z",
     "iopub.status.busy": "2022-03-21T02:29:38.437626Z",
     "iopub.status.idle": "2022-03-21T02:29:38.463333Z",
     "shell.execute_reply": "2022-03-21T02:29:38.462516Z"
    },
    "papermill": {
     "duration": 0.050253,
     "end_time": "2022-03-21T02:29:38.463498",
     "exception": false,
     "start_time": "2022-03-21T02:29:38.413245",
     "status": "completed"
    },
    "tags": []
   },
   "outputs": [],
   "source": [
    "###########################################\n",
    "# The stratified datasets honor this\n",
    "###########################################\n",
    "torch.set_default_dtype(eval(p.torch_default_dtype))"
   ]
  },
  {
   "cell_type": "code",
   "execution_count": 8,
   "id": "b5fba671",
   "metadata": {
    "execution": {
     "iopub.execute_input": "2022-03-21T02:29:38.517371Z",
     "iopub.status.busy": "2022-03-21T02:29:38.516521Z",
     "iopub.status.idle": "2022-03-21T02:29:38.574717Z",
     "shell.execute_reply": "2022-03-21T02:29:38.573976Z"
    },
    "papermill": {
     "duration": 0.081819,
     "end_time": "2022-03-21T02:29:38.574889",
     "exception": false,
     "start_time": "2022-03-21T02:29:38.493070",
     "status": "completed"
    },
    "tags": []
   },
   "outputs": [],
   "source": [
    "###################################\n",
    "# Build the network(s)\n",
    "# Note: It's critical to do this AFTER setting the RNG\n",
    "###################################\n",
    "x_net = build_sequential(p.x_net)"
   ]
  },
  {
   "cell_type": "code",
   "execution_count": 9,
   "id": "5d7e61cc",
   "metadata": {
    "execution": {
     "iopub.execute_input": "2022-03-21T02:29:38.625598Z",
     "iopub.status.busy": "2022-03-21T02:29:38.624845Z",
     "iopub.status.idle": "2022-03-21T02:29:38.648103Z",
     "shell.execute_reply": "2022-03-21T02:29:38.647251Z"
    },
    "papermill": {
     "duration": 0.047111,
     "end_time": "2022-03-21T02:29:38.648267",
     "exception": false,
     "start_time": "2022-03-21T02:29:38.601156",
     "status": "completed"
    },
    "tags": []
   },
   "outputs": [],
   "source": [
    "start_time_secs = time.time()"
   ]
  },
  {
   "cell_type": "code",
   "execution_count": 10,
   "id": "c6b67dfd",
   "metadata": {
    "execution": {
     "iopub.execute_input": "2022-03-21T02:29:38.701894Z",
     "iopub.status.busy": "2022-03-21T02:29:38.701329Z",
     "iopub.status.idle": "2022-03-21T02:29:38.727248Z",
     "shell.execute_reply": "2022-03-21T02:29:38.726529Z"
    },
    "papermill": {
     "duration": 0.051704,
     "end_time": "2022-03-21T02:29:38.727413",
     "exception": false,
     "start_time": "2022-03-21T02:29:38.675709",
     "status": "completed"
    },
    "tags": []
   },
   "outputs": [],
   "source": [
    "p.domains_source = []\n",
    "p.domains_target = []\n",
    "\n",
    "\n",
    "train_original_source = []\n",
    "val_original_source   = []\n",
    "test_original_source  = []\n",
    "\n",
    "train_original_target = []\n",
    "val_original_target   = []\n",
    "test_original_target  = []"
   ]
  },
  {
   "cell_type": "code",
   "execution_count": 11,
   "id": "e3d9c3d3",
   "metadata": {
    "execution": {
     "iopub.execute_input": "2022-03-21T02:29:38.783055Z",
     "iopub.status.busy": "2022-03-21T02:29:38.782679Z",
     "iopub.status.idle": "2022-03-21T02:29:38.807246Z",
     "shell.execute_reply": "2022-03-21T02:29:38.806532Z"
    },
    "papermill": {
     "duration": 0.04957,
     "end_time": "2022-03-21T02:29:38.807408",
     "exception": false,
     "start_time": "2022-03-21T02:29:38.757838",
     "status": "completed"
    },
    "tags": []
   },
   "outputs": [],
   "source": [
    "# global_x_transform_func = lambda x: normalize(x.to(torch.get_default_dtype()), \"unit_power\") # unit_power, unit_mag\n",
    "# global_x_transform_func = lambda x: normalize(x, \"unit_power\") # unit_power, unit_mag"
   ]
  },
  {
   "cell_type": "code",
   "execution_count": 12,
   "id": "acb78fd2",
   "metadata": {
    "execution": {
     "iopub.execute_input": "2022-03-21T02:29:38.870303Z",
     "iopub.status.busy": "2022-03-21T02:29:38.869429Z",
     "iopub.status.idle": "2022-03-21T02:29:38.894395Z",
     "shell.execute_reply": "2022-03-21T02:29:38.893566Z"
    },
    "papermill": {
     "duration": 0.058699,
     "end_time": "2022-03-21T02:29:38.894559",
     "exception": false,
     "start_time": "2022-03-21T02:29:38.835860",
     "status": "completed"
    },
    "tags": []
   },
   "outputs": [],
   "source": [
    "def add_dataset(\n",
    "    labels,\n",
    "    domains,\n",
    "    pickle_path,\n",
    "    x_transforms,\n",
    "    episode_transforms,\n",
    "    domain_prefix,\n",
    "    num_examples_per_domain_per_label,\n",
    "    source_or_target_dataset:str,\n",
    "    iterator_seed=p.seed,\n",
    "    dataset_seed=p.dataset_seed,\n",
    "    n_shot=p.n_shot,\n",
    "    n_way=p.n_way,\n",
    "    n_query=p.n_query,\n",
    "    train_val_test_k_factors=(p.train_k_factor,p.val_k_factor,p.test_k_factor),\n",
    "):\n",
    "   \n",
    "    if x_transforms == []: x_transform = None\n",
    "    else: x_transform = get_chained_transform(x_transforms)\n",
    "    \n",
    "    if episode_transforms == []: episode_transform = None\n",
    "    else: raise Exception(\"episode_transforms not implemented\")\n",
    "    \n",
    "    episode_transform = lambda tup, _prefix=domain_prefix: (_prefix + str(tup[0]), tup[1])\n",
    "\n",
    "\n",
    "    eaf = Episodic_Accessor_Factory(\n",
    "        labels=labels,\n",
    "        domains=domains,\n",
    "        num_examples_per_domain_per_label=num_examples_per_domain_per_label,\n",
    "        iterator_seed=iterator_seed,\n",
    "        dataset_seed=dataset_seed,\n",
    "        n_shot=n_shot,\n",
    "        n_way=n_way,\n",
    "        n_query=n_query,\n",
    "        train_val_test_k_factors=train_val_test_k_factors,\n",
    "        pickle_path=pickle_path,\n",
    "        x_transform_func=x_transform,\n",
    "    )\n",
    "\n",
    "    train, val, test = eaf.get_train(), eaf.get_val(), eaf.get_test()\n",
    "    train = Lazy_Iterable_Wrapper(train, episode_transform)\n",
    "    val = Lazy_Iterable_Wrapper(val, episode_transform)\n",
    "    test = Lazy_Iterable_Wrapper(test, episode_transform)\n",
    "\n",
    "    if source_or_target_dataset==\"source\":\n",
    "        train_original_source.append(train)\n",
    "        val_original_source.append(val)\n",
    "        test_original_source.append(test)\n",
    "\n",
    "        p.domains_source.extend(\n",
    "            [domain_prefix + str(u) for u in domains]\n",
    "        )\n",
    "    elif source_or_target_dataset==\"target\":\n",
    "        train_original_target.append(train)\n",
    "        val_original_target.append(val)\n",
    "        test_original_target.append(test)\n",
    "        p.domains_target.extend(\n",
    "            [domain_prefix + str(u) for u in domains]\n",
    "        )\n",
    "    else:\n",
    "        raise Exception(f\"invalid source_or_target_dataset: {source_or_target_dataset}\")\n",
    "    "
   ]
  },
  {
   "cell_type": "code",
   "execution_count": 13,
   "id": "fe266617",
   "metadata": {
    "execution": {
     "iopub.execute_input": "2022-03-21T02:29:38.946636Z",
     "iopub.status.busy": "2022-03-21T02:29:38.946258Z",
     "iopub.status.idle": "2022-03-21T02:30:23.282993Z",
     "shell.execute_reply": "2022-03-21T02:30:23.282258Z"
    },
    "papermill": {
     "duration": 44.361782,
     "end_time": "2022-03-21T02:30:23.283182",
     "exception": false,
     "start_time": "2022-03-21T02:29:38.921400",
     "status": "completed"
    },
    "tags": []
   },
   "outputs": [],
   "source": [
    "for ds in p.datasets:\n",
    "    add_dataset(**ds)"
   ]
  },
  {
   "cell_type": "code",
   "execution_count": 14,
   "id": "b90d65ac",
   "metadata": {
    "execution": {
     "iopub.execute_input": "2022-03-21T02:30:23.336270Z",
     "iopub.status.busy": "2022-03-21T02:30:23.335509Z",
     "iopub.status.idle": "2022-03-21T02:30:23.361826Z",
     "shell.execute_reply": "2022-03-21T02:30:23.361024Z"
    },
    "papermill": {
     "duration": 0.051641,
     "end_time": "2022-03-21T02:30:23.361984",
     "exception": false,
     "start_time": "2022-03-21T02:30:23.310343",
     "status": "completed"
    },
    "tags": []
   },
   "outputs": [],
   "source": [
    "# from steves_utils.CORES.utils import (\n",
    "#     ALL_NODES,\n",
    "#     ALL_NODES_MINIMUM_1000_EXAMPLES,\n",
    "#     ALL_DAYS\n",
    "# )\n",
    "\n",
    "# add_dataset(\n",
    "#     labels=ALL_NODES,\n",
    "#     domains = ALL_DAYS,\n",
    "#     num_examples_per_domain_per_label=100,\n",
    "#     pickle_path=os.path.join(get_datasets_base_path(), \"cores.stratified_ds.2022A.pkl\"),\n",
    "#     source_or_target_dataset=\"target\",\n",
    "#     x_transform_func=global_x_transform_func,\n",
    "#     domain_modifier=lambda u: f\"cores_{u}\"\n",
    "# )"
   ]
  },
  {
   "cell_type": "code",
   "execution_count": 15,
   "id": "76db484d",
   "metadata": {
    "execution": {
     "iopub.execute_input": "2022-03-21T02:30:23.414477Z",
     "iopub.status.busy": "2022-03-21T02:30:23.413376Z",
     "iopub.status.idle": "2022-03-21T02:30:23.435246Z",
     "shell.execute_reply": "2022-03-21T02:30:23.434428Z"
    },
    "papermill": {
     "duration": 0.046352,
     "end_time": "2022-03-21T02:30:23.435402",
     "exception": false,
     "start_time": "2022-03-21T02:30:23.389050",
     "status": "completed"
    },
    "tags": []
   },
   "outputs": [],
   "source": [
    "# from steves_utils.ORACLE.utils_v2 import (\n",
    "#     ALL_DISTANCES_FEET,\n",
    "#     ALL_RUNS,\n",
    "#     ALL_SERIAL_NUMBERS,\n",
    "# )\n",
    "\n",
    "\n",
    "# add_dataset(\n",
    "#     labels=ALL_SERIAL_NUMBERS,\n",
    "#     domains = list(set(ALL_DISTANCES_FEET) - {2,62}),\n",
    "#     num_examples_per_domain_per_label=100,\n",
    "#     pickle_path=os.path.join(get_datasets_base_path(), \"oracle.Run2_framed_2000Examples_stratified_ds.2022A.pkl\"),\n",
    "#     source_or_target_dataset=\"source\",\n",
    "#     x_transform_func=global_x_transform_func,\n",
    "#     domain_modifier=lambda u: f\"oracle1_{u}\"\n",
    "# )\n"
   ]
  },
  {
   "cell_type": "code",
   "execution_count": 16,
   "id": "97dea9d2",
   "metadata": {
    "execution": {
     "iopub.execute_input": "2022-03-21T02:30:23.487974Z",
     "iopub.status.busy": "2022-03-21T02:30:23.487309Z",
     "iopub.status.idle": "2022-03-21T02:30:23.509406Z",
     "shell.execute_reply": "2022-03-21T02:30:23.508605Z"
    },
    "papermill": {
     "duration": 0.047442,
     "end_time": "2022-03-21T02:30:23.509564",
     "exception": false,
     "start_time": "2022-03-21T02:30:23.462122",
     "status": "completed"
    },
    "tags": []
   },
   "outputs": [],
   "source": [
    "# from steves_utils.ORACLE.utils_v2 import (\n",
    "#     ALL_DISTANCES_FEET,\n",
    "#     ALL_RUNS,\n",
    "#     ALL_SERIAL_NUMBERS,\n",
    "# )\n",
    "\n",
    "\n",
    "# add_dataset(\n",
    "#     labels=ALL_SERIAL_NUMBERS,\n",
    "#     domains = list(set(ALL_DISTANCES_FEET) - {2,62,56}),\n",
    "#     num_examples_per_domain_per_label=100,\n",
    "#     pickle_path=os.path.join(get_datasets_base_path(), \"oracle.Run2_framed_2000Examples_stratified_ds.2022A.pkl\"),\n",
    "#     source_or_target_dataset=\"source\",\n",
    "#     x_transform_func=global_x_transform_func,\n",
    "#     domain_modifier=lambda u: f\"oracle2_{u}\"\n",
    "# )"
   ]
  },
  {
   "cell_type": "code",
   "execution_count": 17,
   "id": "6f289866",
   "metadata": {
    "execution": {
     "iopub.execute_input": "2022-03-21T02:30:23.572435Z",
     "iopub.status.busy": "2022-03-21T02:30:23.572049Z",
     "iopub.status.idle": "2022-03-21T02:30:23.595360Z",
     "shell.execute_reply": "2022-03-21T02:30:23.594645Z"
    },
    "papermill": {
     "duration": 0.048524,
     "end_time": "2022-03-21T02:30:23.595560",
     "exception": false,
     "start_time": "2022-03-21T02:30:23.547036",
     "status": "completed"
    },
    "tags": []
   },
   "outputs": [],
   "source": [
    "# add_dataset(\n",
    "#     labels=list(range(19)),\n",
    "#     domains = [0,1,2],\n",
    "#     num_examples_per_domain_per_label=100,\n",
    "#     pickle_path=os.path.join(get_datasets_base_path(), \"metehan.stratified_ds.2022A.pkl\"),\n",
    "#     source_or_target_dataset=\"target\",\n",
    "#     x_transform_func=global_x_transform_func,\n",
    "#     domain_modifier=lambda u: f\"met_{u}\"\n",
    "# )"
   ]
  },
  {
   "cell_type": "code",
   "execution_count": 18,
   "id": "86a863c3",
   "metadata": {
    "execution": {
     "iopub.execute_input": "2022-03-21T02:30:23.650036Z",
     "iopub.status.busy": "2022-03-21T02:30:23.649387Z",
     "iopub.status.idle": "2022-03-21T02:30:23.672205Z",
     "shell.execute_reply": "2022-03-21T02:30:23.671370Z"
    },
    "papermill": {
     "duration": 0.047835,
     "end_time": "2022-03-21T02:30:23.672362",
     "exception": false,
     "start_time": "2022-03-21T02:30:23.624527",
     "status": "completed"
    },
    "tags": []
   },
   "outputs": [],
   "source": [
    "# # from steves_utils.wisig.utils import (\n",
    "# #     ALL_NODES_MINIMUM_100_EXAMPLES,\n",
    "# #     ALL_NODES_MINIMUM_500_EXAMPLES,\n",
    "# #     ALL_NODES_MINIMUM_1000_EXAMPLES,\n",
    "# #     ALL_DAYS\n",
    "# # )\n",
    "\n",
    "# import steves_utils.wisig.utils as wisig\n",
    "\n",
    "\n",
    "# add_dataset(\n",
    "#     labels=wisig.ALL_NODES_MINIMUM_100_EXAMPLES,\n",
    "#     domains = wisig.ALL_DAYS,\n",
    "#     num_examples_per_domain_per_label=100,\n",
    "#     pickle_path=os.path.join(get_datasets_base_path(), \"wisig.node3-19.stratified_ds.2022A.pkl\"),\n",
    "#     source_or_target_dataset=\"target\",\n",
    "#     x_transform_func=global_x_transform_func,\n",
    "#     domain_modifier=lambda u: f\"wisig_{u}\"\n",
    "# )"
   ]
  },
  {
   "cell_type": "code",
   "execution_count": 19,
   "id": "fd5442bc",
   "metadata": {
    "execution": {
     "iopub.execute_input": "2022-03-21T02:30:23.731401Z",
     "iopub.status.busy": "2022-03-21T02:30:23.730749Z",
     "iopub.status.idle": "2022-03-21T02:30:23.750773Z",
     "shell.execute_reply": "2022-03-21T02:30:23.749964Z"
    },
    "papermill": {
     "duration": 0.050862,
     "end_time": "2022-03-21T02:30:23.750932",
     "exception": false,
     "start_time": "2022-03-21T02:30:23.700070",
     "status": "completed"
    },
    "tags": []
   },
   "outputs": [],
   "source": [
    "###################################\n",
    "# Build the dataset\n",
    "###################################\n",
    "train_original_source = Iterable_Aggregator(train_original_source, p.seed)\n",
    "val_original_source = Iterable_Aggregator(val_original_source, p.seed)\n",
    "test_original_source = Iterable_Aggregator(test_original_source, p.seed)\n",
    "\n",
    "\n",
    "train_original_target = Iterable_Aggregator(train_original_target, p.seed)\n",
    "val_original_target = Iterable_Aggregator(val_original_target, p.seed)\n",
    "test_original_target = Iterable_Aggregator(test_original_target, p.seed)\n",
    "\n",
    "# For CNN We only use X and Y. And we only train on the source.\n",
    "# Properly form the data using a transform lambda and Lazy_Iterable_Wrapper. Finally wrap them in a dataloader\n",
    "\n",
    "transform_lambda = lambda ex: ex[1] # Original is (<domain>, <episode>) so we strip down to episode only\n",
    "\n",
    "train_processed_source = Lazy_Iterable_Wrapper(train_original_source, transform_lambda)\n",
    "val_processed_source   = Lazy_Iterable_Wrapper(val_original_source, transform_lambda)\n",
    "test_processed_source  = Lazy_Iterable_Wrapper(test_original_source, transform_lambda)\n",
    "\n",
    "train_processed_target = Lazy_Iterable_Wrapper(train_original_target, transform_lambda)\n",
    "val_processed_target   = Lazy_Iterable_Wrapper(val_original_target, transform_lambda)\n",
    "test_processed_target  = Lazy_Iterable_Wrapper(test_original_target, transform_lambda)\n",
    "\n",
    "datasets = EasyDict({\n",
    "    \"source\": {\n",
    "        \"original\": {\"train\":train_original_source, \"val\":val_original_source, \"test\":test_original_source},\n",
    "        \"processed\": {\"train\":train_processed_source, \"val\":val_processed_source, \"test\":test_processed_source}\n",
    "    },\n",
    "    \"target\": {\n",
    "        \"original\": {\"train\":train_original_target, \"val\":val_original_target, \"test\":test_original_target},\n",
    "        \"processed\": {\"train\":train_processed_target, \"val\":val_processed_target, \"test\":test_processed_target}\n",
    "    },\n",
    "})"
   ]
  },
  {
   "cell_type": "code",
   "execution_count": 20,
   "id": "5b3c01fc",
   "metadata": {
    "execution": {
     "iopub.execute_input": "2022-03-21T02:30:23.804138Z",
     "iopub.status.busy": "2022-03-21T02:30:23.803765Z",
     "iopub.status.idle": "2022-03-21T02:30:31.683355Z",
     "shell.execute_reply": "2022-03-21T02:30:31.682351Z"
    },
    "papermill": {
     "duration": 7.906157,
     "end_time": "2022-03-21T02:30:31.683600",
     "exception": false,
     "start_time": "2022-03-21T02:30:23.777443",
     "status": "completed"
    },
    "tags": []
   },
   "outputs": [
    {
     "name": "stdout",
     "output_type": "stream",
     "text": [
      "{'CORES_5', 'CORES_4', 'CORES_2', 'CORES_3', 'CORES_1'}\n"
     ]
    },
    {
     "name": "stdout",
     "output_type": "stream",
     "text": [
      "{'Wisig_3', 'Wisig_1', 'Wisig_2', 'Wisig_4'}\n"
     ]
    },
    {
     "name": "stdout",
     "output_type": "stream",
     "text": [
      "tensor([[[ 0.3346,  0.6090,  0.3177,  ..., -0.3370, -0.8016, -0.0337],\n",
      "         [-0.4140, -0.2576, -0.3226,  ..., -1.3143, -0.7992, -0.1709]],\n",
      "\n",
      "        [[ 0.3856,  0.1903,  0.0667,  ..., -1.2877, -0.3534,  0.1780],\n",
      "         [-0.4548, -0.4029, -0.1310,  ..., -0.5141, -0.1236, -0.2249]],\n",
      "\n",
      "        [[ 0.3627,  0.1691,  0.5783,  ...,  0.8944,  1.3527,  0.0196],\n",
      "         [ 1.1272,  1.1811,  0.6102,  ...,  0.7964, -0.0711, -0.4215]],\n",
      "\n",
      "        ...,\n",
      "\n",
      "        [[ 0.3756,  0.5828, -0.8073,  ...,  0.4878, -0.1381,  0.1641],\n",
      "         [-0.2115,  0.2806,  0.2072,  ..., -0.1252,  0.0389, -0.1122]],\n",
      "\n",
      "        [[-0.2318,  0.6449,  0.4384,  ..., -0.5395, -0.4510,  0.7629],\n",
      "         [ 0.8051,  0.5564, -0.2150,  ..., -1.7703, -1.2308, -0.1265]],\n",
      "\n",
      "        [[-0.4044, -0.4246,  0.5580,  ...,  1.3142,  0.9300, -1.2616],\n",
      "         [ 0.7076, -0.1213, -0.2952,  ..., -0.0768,  1.2495,  0.4529]]])\n"
     ]
    }
   ],
   "source": [
    "from steves_utils.transforms import get_average_magnitude, get_average_power\n",
    "\n",
    "print(set([u for u,_ in val_original_source]))\n",
    "print(set([u for u,_ in val_original_target]))\n",
    "\n",
    "s_x, s_y, q_x, q_y, _ = next(iter(train_processed_source))\n",
    "print(s_x)\n",
    "\n",
    "# for ds in [\n",
    "#     train_processed_source,\n",
    "#     val_processed_source,\n",
    "#     test_processed_source,\n",
    "#     train_processed_target,\n",
    "#     val_processed_target,\n",
    "#     test_processed_target\n",
    "# ]:\n",
    "#     for s_x, s_y, q_x, q_y, _ in ds:\n",
    "#         for X in (s_x, q_x):\n",
    "#             for x in X:\n",
    "#                 assert np.isclose(get_average_magnitude(x.numpy()), 1.0)\n",
    "#                 assert np.isclose(get_average_power(x.numpy()), 1.0)\n",
    "                "
   ]
  },
  {
   "cell_type": "code",
   "execution_count": 21,
   "id": "bbdacba1",
   "metadata": {
    "execution": {
     "iopub.execute_input": "2022-03-21T02:30:31.741073Z",
     "iopub.status.busy": "2022-03-21T02:30:31.740617Z",
     "iopub.status.idle": "2022-03-21T02:30:31.980814Z",
     "shell.execute_reply": "2022-03-21T02:30:31.981497Z"
    },
    "papermill": {
     "duration": 0.269696,
     "end_time": "2022-03-21T02:30:31.981727",
     "exception": false,
     "start_time": "2022-03-21T02:30:31.712031",
     "status": "completed"
    },
    "tags": []
   },
   "outputs": [
    {
     "name": "stdout",
     "output_type": "stream",
     "text": [
      "(2, 256)\n"
     ]
    }
   ],
   "source": [
    "###################################\n",
    "# Build the model\n",
    "###################################\n",
    "# easfsl only wants a tuple for the shape\n",
    "model = Steves_Prototypical_Network(x_net, device=p.device, x_shape=tuple(p.x_shape))\n",
    "optimizer = Adam(params=model.parameters(), lr=p.lr)"
   ]
  },
  {
   "cell_type": "code",
   "execution_count": 22,
   "id": "22b39ac5",
   "metadata": {
    "execution": {
     "iopub.execute_input": "2022-03-21T02:30:32.041522Z",
     "iopub.status.busy": "2022-03-21T02:30:32.041148Z",
     "iopub.status.idle": "2022-03-21T02:32:33.727567Z",
     "shell.execute_reply": "2022-03-21T02:32:33.727882Z"
    },
    "papermill": {
     "duration": 121.715137,
     "end_time": "2022-03-21T02:32:33.727990",
     "exception": false,
     "start_time": "2022-03-21T02:30:32.012853",
     "status": "completed"
    },
    "tags": []
   },
   "outputs": [
    {
     "name": "stdout",
     "output_type": "stream",
     "text": [
      "epoch: 1, [batch: 1 / 351], examples_per_second: 311.2355, train_label_loss: 3.8277, \n"
     ]
    },
    {
     "name": "stdout",
     "output_type": "stream",
     "text": [
      "epoch: 1, [batch: 36 / 351], examples_per_second: 3949.7195, train_label_loss: 0.6336, \n"
     ]
    },
    {
     "name": "stdout",
     "output_type": "stream",
     "text": [
      "epoch: 1, [batch: 71 / 351], examples_per_second: 4247.0426, train_label_loss: 0.2441, \n"
     ]
    },
    {
     "name": "stdout",
     "output_type": "stream",
     "text": [
      "epoch: 1, [batch: 106 / 351], examples_per_second: 4393.9137, train_label_loss: 0.0823, \n"
     ]
    },
    {
     "name": "stdout",
     "output_type": "stream",
     "text": [
      "epoch: 1, [batch: 141 / 351], examples_per_second: 4575.1577, train_label_loss: 0.0834, \n"
     ]
    },
    {
     "name": "stdout",
     "output_type": "stream",
     "text": [
      "epoch: 1, [batch: 176 / 351], examples_per_second: 4821.7899, train_label_loss: 0.0413, \n"
     ]
    },
    {
     "name": "stdout",
     "output_type": "stream",
     "text": [
      "epoch: 1, [batch: 211 / 351], examples_per_second: 4855.7832, train_label_loss: 0.0467, \n"
     ]
    },
    {
     "name": "stdout",
     "output_type": "stream",
     "text": [
      "epoch: 1, [batch: 246 / 351], examples_per_second: 4639.4478, train_label_loss: 0.0307, \n"
     ]
    },
    {
     "name": "stdout",
     "output_type": "stream",
     "text": [
      "epoch: 1, [batch: 281 / 351], examples_per_second: 4538.9658, train_label_loss: 0.0332, \n"
     ]
    },
    {
     "name": "stdout",
     "output_type": "stream",
     "text": [
      "epoch: 1, [batch: 316 / 351], examples_per_second: 4861.4562, train_label_loss: 0.0304, \n"
     ]
    },
    {
     "name": "stdout",
     "output_type": "stream",
     "text": [
      "=============================================================\n",
      "epoch: 1, source_val_acc_label: 0.9973, target_val_acc_label: 0.7048, source_val_label_loss: 0.0254, target_val_label_loss: 1.8918, \n",
      "=============================================================\n"
     ]
    },
    {
     "name": "stdout",
     "output_type": "stream",
     "text": [
      "New best\n"
     ]
    },
    {
     "name": "stdout",
     "output_type": "stream",
     "text": [
      "epoch: 2, [batch: 1 / 351], examples_per_second: 35.9497, train_label_loss: 0.0243, \n"
     ]
    },
    {
     "name": "stdout",
     "output_type": "stream",
     "text": [
      "epoch: 2, [batch: 36 / 351], examples_per_second: 3459.7331, train_label_loss: 0.0085, \n"
     ]
    },
    {
     "name": "stdout",
     "output_type": "stream",
     "text": [
      "epoch: 2, [batch: 71 / 351], examples_per_second: 3333.1738, train_label_loss: 0.2351, \n"
     ]
    },
    {
     "name": "stdout",
     "output_type": "stream",
     "text": [
      "epoch: 2, [batch: 106 / 351], examples_per_second: 3541.0998, train_label_loss: 0.0021, \n"
     ]
    },
    {
     "name": "stdout",
     "output_type": "stream",
     "text": [
      "epoch: 2, [batch: 141 / 351], examples_per_second: 3331.0889, train_label_loss: 0.0127, \n"
     ]
    },
    {
     "name": "stdout",
     "output_type": "stream",
     "text": [
      "epoch: 2, [batch: 176 / 351], examples_per_second: 3434.5498, train_label_loss: 0.0035, \n"
     ]
    },
    {
     "name": "stdout",
     "output_type": "stream",
     "text": [
      "epoch: 2, [batch: 211 / 351], examples_per_second: 3491.0360, train_label_loss: 0.0014, \n"
     ]
    },
    {
     "name": "stdout",
     "output_type": "stream",
     "text": [
      "epoch: 2, [batch: 246 / 351], examples_per_second: 3273.5602, train_label_loss: 0.0035, \n"
     ]
    },
    {
     "name": "stdout",
     "output_type": "stream",
     "text": [
      "epoch: 2, [batch: 281 / 351], examples_per_second: 3379.0935, train_label_loss: 0.0065, \n"
     ]
    },
    {
     "name": "stdout",
     "output_type": "stream",
     "text": [
      "epoch: 2, [batch: 316 / 351], examples_per_second: 3355.4435, train_label_loss: 0.0048, \n"
     ]
    },
    {
     "name": "stdout",
     "output_type": "stream",
     "text": [
      "=============================================================\n",
      "epoch: 2, source_val_acc_label: 0.9943, target_val_acc_label: 0.6672, source_val_label_loss: 0.0197, target_val_label_loss: 3.3108, \n",
      "=============================================================\n"
     ]
    },
    {
     "name": "stdout",
     "output_type": "stream",
     "text": [
      "epoch: 3, [batch: 1 / 351], examples_per_second: 33.9530, train_label_loss: 0.0864, \n"
     ]
    },
    {
     "name": "stdout",
     "output_type": "stream",
     "text": [
      "epoch: 3, [batch: 36 / 351], examples_per_second: 3521.0221, train_label_loss: 0.0152, \n"
     ]
    },
    {
     "name": "stdout",
     "output_type": "stream",
     "text": [
      "epoch: 3, [batch: 71 / 351], examples_per_second: 3403.4591, train_label_loss: 0.0941, \n"
     ]
    },
    {
     "name": "stdout",
     "output_type": "stream",
     "text": [
      "epoch: 3, [batch: 106 / 351], examples_per_second: 3473.9839, train_label_loss: 0.0070, \n"
     ]
    },
    {
     "name": "stdout",
     "output_type": "stream",
     "text": [
      "epoch: 3, [batch: 141 / 351], examples_per_second: 3404.5209, train_label_loss: 0.0015, \n"
     ]
    },
    {
     "name": "stdout",
     "output_type": "stream",
     "text": [
      "epoch: 3, [batch: 176 / 351], examples_per_second: 3403.8592, train_label_loss: 0.0008, \n"
     ]
    },
    {
     "name": "stdout",
     "output_type": "stream",
     "text": [
      "epoch: 3, [batch: 211 / 351], examples_per_second: 3352.3280, train_label_loss: 0.0008, \n"
     ]
    },
    {
     "name": "stdout",
     "output_type": "stream",
     "text": [
      "epoch: 3, [batch: 246 / 351], examples_per_second: 3594.7145, train_label_loss: 0.0053, \n"
     ]
    },
    {
     "name": "stdout",
     "output_type": "stream",
     "text": [
      "epoch: 3, [batch: 281 / 351], examples_per_second: 3824.1875, train_label_loss: 0.0090, \n"
     ]
    },
    {
     "name": "stdout",
     "output_type": "stream",
     "text": [
      "epoch: 3, [batch: 316 / 351], examples_per_second: 3822.2431, train_label_loss: 0.0002, \n"
     ]
    },
    {
     "name": "stdout",
     "output_type": "stream",
     "text": [
      "=============================================================\n",
      "epoch: 3, source_val_acc_label: 0.9964, target_val_acc_label: 0.6670, source_val_label_loss: 0.0106, target_val_label_loss: 4.4388, \n",
      "=============================================================\n"
     ]
    }
   ],
   "source": [
    "###################################\n",
    "# train\n",
    "###################################\n",
    "jig = PTN_Train_Eval_Test_Jig(model, p.BEST_MODEL_PATH, p.device)\n",
    "\n",
    "jig.train(\n",
    "    train_iterable=datasets.source.processed.train,\n",
    "    source_val_iterable=datasets.source.processed.val,\n",
    "    target_val_iterable=datasets.target.processed.val,\n",
    "    num_epochs=p.n_epoch,\n",
    "    num_logs_per_epoch=p.NUM_LOGS_PER_EPOCH,\n",
    "    patience=p.patience,\n",
    "    optimizer=optimizer,\n",
    "    criteria_for_best=p.criteria_for_best,\n",
    ")"
   ]
  },
  {
   "cell_type": "code",
   "execution_count": 23,
   "id": "31e8fabf",
   "metadata": {
    "execution": {
     "iopub.execute_input": "2022-03-21T02:32:33.796924Z",
     "iopub.status.busy": "2022-03-21T02:32:33.796549Z",
     "iopub.status.idle": "2022-03-21T02:32:33.828044Z",
     "shell.execute_reply": "2022-03-21T02:32:33.828715Z"
    },
    "papermill": {
     "duration": 0.069267,
     "end_time": "2022-03-21T02:32:33.828904",
     "exception": false,
     "start_time": "2022-03-21T02:32:33.759637",
     "status": "completed"
    },
    "tags": []
   },
   "outputs": [],
   "source": [
    "total_experiment_time_secs = time.time() - start_time_secs"
   ]
  },
  {
   "cell_type": "code",
   "execution_count": 24,
   "id": "87b9595b",
   "metadata": {
    "execution": {
     "iopub.execute_input": "2022-03-21T02:32:33.908194Z",
     "iopub.status.busy": "2022-03-21T02:32:33.907442Z",
     "iopub.status.idle": "2022-03-21T02:33:34.853237Z",
     "shell.execute_reply": "2022-03-21T02:33:34.853932Z"
    },
    "papermill": {
     "duration": 60.987719,
     "end_time": "2022-03-21T02:33:34.854170",
     "exception": false,
     "start_time": "2022-03-21T02:32:33.866451",
     "status": "completed"
    },
    "tags": []
   },
   "outputs": [],
   "source": [
    "###################################\n",
    "# Evaluate the model\n",
    "###################################\n",
    "source_test_label_accuracy, source_test_label_loss = jig.test(datasets.source.processed.test)\n",
    "target_test_label_accuracy, target_test_label_loss = jig.test(datasets.target.processed.test)\n",
    "\n",
    "source_val_label_accuracy, source_val_label_loss = jig.test(datasets.source.processed.val)\n",
    "target_val_label_accuracy, target_val_label_loss = jig.test(datasets.target.processed.val)\n",
    "\n",
    "history = jig.get_history()\n",
    "\n",
    "total_epochs_trained = len(history[\"epoch_indices\"])\n",
    "\n",
    "val_dl = Iterable_Aggregator((datasets.source.original.val,datasets.target.original.val))\n",
    "\n",
    "confusion = ptn_confusion_by_domain_over_dataloader(model, p.device, val_dl)\n",
    "per_domain_accuracy = per_domain_accuracy_from_confusion(confusion)\n",
    "\n",
    "# Add a key to per_domain_accuracy for if it was a source domain\n",
    "for domain, accuracy in per_domain_accuracy.items():\n",
    "    per_domain_accuracy[domain] = {\n",
    "        \"accuracy\": accuracy,\n",
    "        \"source?\": domain in p.domains_source\n",
    "    }\n",
    "\n",
    "# Do an independent accuracy assesment JUST TO BE SURE!\n",
    "# _source_test_label_accuracy = independent_accuracy_assesment(model, datasets.source.processed.test, p.device)\n",
    "# _target_test_label_accuracy = independent_accuracy_assesment(model, datasets.target.processed.test, p.device)\n",
    "# _source_val_label_accuracy = independent_accuracy_assesment(model, datasets.source.processed.val, p.device)\n",
    "# _target_val_label_accuracy = independent_accuracy_assesment(model, datasets.target.processed.val, p.device)\n",
    "\n",
    "# assert(_source_test_label_accuracy == source_test_label_accuracy)\n",
    "# assert(_target_test_label_accuracy == target_test_label_accuracy)\n",
    "# assert(_source_val_label_accuracy == source_val_label_accuracy)\n",
    "# assert(_target_val_label_accuracy == target_val_label_accuracy)\n",
    "\n",
    "experiment = {\n",
    "    \"experiment_name\": p.experiment_name,\n",
    "    \"parameters\": dict(p),\n",
    "    \"results\": {\n",
    "        \"source_test_label_accuracy\": source_test_label_accuracy,\n",
    "        \"source_test_label_loss\": source_test_label_loss,\n",
    "        \"target_test_label_accuracy\": target_test_label_accuracy,\n",
    "        \"target_test_label_loss\": target_test_label_loss,\n",
    "        \"source_val_label_accuracy\": source_val_label_accuracy,\n",
    "        \"source_val_label_loss\": source_val_label_loss,\n",
    "        \"target_val_label_accuracy\": target_val_label_accuracy,\n",
    "        \"target_val_label_loss\": target_val_label_loss,\n",
    "        \"total_epochs_trained\": total_epochs_trained,\n",
    "        \"total_experiment_time_secs\": total_experiment_time_secs,\n",
    "        \"confusion\": confusion,\n",
    "        \"per_domain_accuracy\": per_domain_accuracy,\n",
    "    },\n",
    "    \"history\": history,\n",
    "    \"dataset_metrics\": get_dataset_metrics(datasets, \"ptn\"),\n",
    "}"
   ]
  },
  {
   "cell_type": "code",
   "execution_count": 25,
   "id": "54a21829",
   "metadata": {
    "execution": {
     "iopub.execute_input": "2022-03-21T02:33:34.930968Z",
     "iopub.status.busy": "2022-03-21T02:33:34.930396Z",
     "iopub.status.idle": "2022-03-21T02:33:35.131176Z",
     "shell.execute_reply": "2022-03-21T02:33:35.131891Z"
    },
    "papermill": {
     "duration": 0.238489,
     "end_time": "2022-03-21T02:33:35.132093",
     "exception": false,
     "start_time": "2022-03-21T02:33:34.893604",
     "status": "completed"
    },
    "tags": []
   },
   "outputs": [
    {
     "data": {
      "image/png": "[encoded data removed]",
      "text/plain": [
       "<Figure size 1080x504 with 1 Axes>"
      ]
     },
     "metadata": {
      "needs_background": "light"
     },
     "output_type": "display_data"
    }
   ],
   "source": [
    "ax = get_loss_curve(experiment)\n",
    "plt.show()"
   ]
  },
  {
   "cell_type": "code",
   "execution_count": 26,
   "id": "fd8a0f60",
   "metadata": {
    "execution": {
     "iopub.execute_input": "2022-03-21T02:33:35.207381Z",
     "iopub.status.busy": "2022-03-21T02:33:35.207007Z",
     "iopub.status.idle": "2022-03-21T02:33:35.568835Z",
     "shell.execute_reply": "2022-03-21T02:33:35.569517Z"
    },
    "papermill": {
     "duration": 0.399242,
     "end_time": "2022-03-21T02:33:35.569715",
     "exception": false,
     "start_time": "2022-03-21T02:33:35.170473",
     "status": "completed"
    },
    "tags": []
   },
   "outputs": [
    {
     "data": {
      "text/plain": [
       "<AxesSubplot:title={'center':'Results'}>"
      ]
     },
     "execution_count": 26,
     "metadata": {},
     "output_type": "execute_result"
    },
    {
     "data": {
      "image/png": "[encoded data removed]",
      "text/plain": [
       "<Figure size 1080x504 with 1 Axes>"
      ]
     },
     "metadata": {
      "needs_background": "light"
     },
     "output_type": "display_data"
    }
   ],
   "source": [
    "get_results_table(experiment)"
   ]
  },
  {
   "cell_type": "code",
   "execution_count": 27,
   "id": "cf8dc689",
   "metadata": {
    "execution": {
     "iopub.execute_input": "2022-03-21T02:33:35.650313Z",
     "iopub.status.busy": "2022-03-21T02:33:35.649940Z",
     "iopub.status.idle": "2022-03-21T02:33:35.875626Z",
     "shell.execute_reply": "2022-03-21T02:33:35.876315Z"
    },
    "papermill": {
     "duration": 0.265322,
     "end_time": "2022-03-21T02:33:35.876535",
     "exception": false,
     "start_time": "2022-03-21T02:33:35.611213",
     "status": "completed"
    },
    "tags": []
   },
   "outputs": [
    {
     "data": {
      "text/plain": [
       "<AxesSubplot:title={'center':'Per Domain Validation Accuracy'}, xlabel='domain'>"
      ]
     },
     "execution_count": 27,
     "metadata": {},
     "output_type": "execute_result"
    },
    {
     "data": {
      "image/png": "[encoded data removed]",
      "text/plain": [
       "<Figure size 1080x504 with 1 Axes>"
      ]
     },
     "metadata": {
      "needs_background": "light"
     },
     "output_type": "display_data"
    }
   ],
   "source": [
    "get_domain_accuracies(experiment)"
   ]
  },
  {
   "cell_type": "code",
   "execution_count": 28,
   "id": "a74ae082",
   "metadata": {
    "execution": {
     "iopub.execute_input": "2022-03-21T02:33:35.962337Z",
     "iopub.status.busy": "2022-03-21T02:33:35.961689Z",
     "iopub.status.idle": "2022-03-21T02:33:35.987789Z",
     "shell.execute_reply": "2022-03-21T02:33:35.986929Z"
    },
    "papermill": {
     "duration": 0.068112,
     "end_time": "2022-03-21T02:33:35.987957",
     "exception": false,
     "start_time": "2022-03-21T02:33:35.919845",
     "status": "completed"
    },
    "tags": []
   },
   "outputs": [
    {
     "name": "stdout",
     "output_type": "stream",
     "text": [
      "Source Test Label Accuracy: 0.9970689655172413 Target Test Label Accuracy: 0.7072768762677485\n",
      "Source Val Label Accuracy: 0.9973060344827587 Target Val Label Accuracy: 0.7048087284482759\n"
     ]
    }
   ],
   "source": [
    "print(\"Source Test Label Accuracy:\", experiment[\"results\"][\"source_test_label_accuracy\"], \"Target Test Label Accuracy:\", experiment[\"results\"][\"target_test_label_accuracy\"])\n",
    "print(\"Source Val Label Accuracy:\", experiment[\"results\"][\"source_val_label_accuracy\"], \"Target Val Label Accuracy:\", experiment[\"results\"][\"target_val_label_accuracy\"])"
   ]
  },
  {
   "cell_type": "code",
   "execution_count": 29,
   "id": "dacca602",
   "metadata": {
    "execution": {
     "iopub.execute_input": "2022-03-21T02:33:36.071074Z",
     "iopub.status.busy": "2022-03-21T02:33:36.070702Z",
     "iopub.status.idle": "2022-03-21T02:33:36.098838Z",
     "shell.execute_reply": "2022-03-21T02:33:36.099517Z"
    },
    "papermill": {
     "duration": 0.068726,
     "end_time": "2022-03-21T02:33:36.099725",
     "exception": false,
     "start_time": "2022-03-21T02:33:36.030999",
     "status": "completed"
    },
    "tags": [
     "experiment_json"
    ]
   },
   "outputs": [
    {
     "data": {
      "text/plain": [
       "'{\"experiment_name\": \"tl_1v2:cores-wisig\", \"parameters\": {\"experiment_name\": \"tl_1v2:cores-wisig\", \"device\": \"cuda\", \"lr\": 0.0001, \"n_shot\": 3, \"n_query\": 2, \"train_k_factor\": 3, \"val_k_factor\": 2, \"test_k_factor\": 2, \"torch_default_dtype\": \"torch.float32\", \"n_epoch\": 3, \"patience\": 3, \"criteria_for_best\": \"target_accuracy\", \"x_net\": [{\"class\": \"nnReshape\", \"kargs\": {\"shape\": [-1, 1, 2, 256]}}, {\"class\": \"Conv2d\", \"kargs\": {\"in_channels\": 1, \"out_channels\": 256, \"kernel_size\": [1, 7], \"bias\": false, \"padding\": [0, 3]}}, {\"class\": \"ReLU\", \"kargs\": {\"inplace\": true}}, {\"class\": \"BatchNorm2d\", \"kargs\": {\"num_features\": 256}}, {\"class\": \"Conv2d\", \"kargs\": {\"in_channels\": 256, \"out_channels\": 80, \"kernel_size\": [2, 7], \"bias\": true, \"padding\": [0, 3]}}, {\"class\": \"ReLU\", \"kargs\": {\"inplace\": true}}, {\"class\": \"BatchNorm2d\", \"kargs\": {\"num_features\": 80}}, {\"class\": \"Flatten\", \"kargs\": {}}, {\"class\": \"Linear\", \"kargs\": {\"in_features\": 20480, \"out_features\": 256}}, {\"class\": \"ReLU\", \"kargs\": {\"inplace\": true}}, {\"class\": \"BatchNorm1d\", \"kargs\": {\"num_features\": 256}}, {\"class\": \"Linear\", \"kargs\": {\"in_features\": 256, \"out_features\": 256}}], \"NUM_LOGS_PER_EPOCH\": 10, \"BEST_MODEL_PATH\": \"./best_model.pth\", \"n_way\": 58, \"datasets\": [{\"labels\": [\"1-10.\", \"1-11.\", \"1-15.\", \"1-16.\", \"1-17.\", \"1-18.\", \"1-19.\", \"10-4.\", \"10-7.\", \"11-1.\", \"11-14.\", \"11-17.\", \"11-20.\", \"11-7.\", \"13-20.\", \"13-8.\", \"14-10.\", \"14-11.\", \"14-14.\", \"14-7.\", \"15-1.\", \"15-20.\", \"16-1.\", \"16-16.\", \"17-10.\", \"17-11.\", \"17-2.\", \"19-1.\", \"19-16.\", \"19-19.\", \"19-20.\", \"19-3.\", \"2-10.\", \"2-11.\", \"2-17.\", \"2-18.\", \"2-20.\", \"2-3.\", \"2-4.\", \"2-5.\", \"2-6.\", \"2-7.\", \"2-8.\", \"3-13.\", \"3-18.\", \"3-3.\", \"4-1.\", \"4-10.\", \"4-11.\", \"4-19.\", \"5-5.\", \"6-15.\", \"7-10.\", \"7-14.\", \"8-18.\", \"8-20.\", \"8-3.\", \"8-8.\"], \"domains\": [1, 2, 3, 4, 5], \"num_examples_per_domain_per_label\": -1, \"pickle_path\": \"/root/csc500-main/datasets/cores.stratified_ds.2022A.pkl\", \"source_or_target_dataset\": \"source\", \"x_transforms\": [\"unit_power\"], \"episode_transforms\": [], \"domain_prefix\": \"CORES_\"}, {\"labels\": [\"1-10\", \"1-12\", \"1-14\", \"1-16\", \"1-18\", \"1-19\", \"1-8\", \"10-11\", \"10-17\", \"10-4\", \"10-7\", \"11-1\", \"11-10\", \"11-19\", \"11-20\", \"11-4\", \"11-7\", \"12-19\", \"12-20\", \"12-7\", \"13-14\", \"13-18\", \"13-19\", \"13-20\", \"13-3\", \"13-7\", \"14-10\", \"14-11\", \"14-12\", \"14-13\", \"14-14\", \"14-19\", \"14-20\", \"14-7\", \"14-8\", \"14-9\", \"15-1\", \"15-19\", \"15-6\", \"16-1\", \"16-16\", \"16-19\", \"16-20\", \"17-10\", \"17-11\", \"18-1\", \"18-10\", \"18-11\", \"18-12\", \"18-13\", \"18-14\", \"18-15\", \"18-16\", \"18-17\", \"18-19\", \"18-2\", \"18-20\", \"18-4\", \"18-5\", \"18-7\", \"18-8\", \"18-9\", \"19-1\", \"19-10\", \"19-11\", \"19-12\", \"19-13\", \"19-14\", \"19-15\", \"19-19\", \"19-2\", \"19-20\", \"19-3\", \"19-4\", \"19-6\", \"19-7\", \"19-8\", \"19-9\", \"2-1\", \"2-13\", \"2-15\", \"2-3\", \"2-4\", \"2-5\", \"2-6\", \"2-7\", \"2-8\", \"20-1\", \"20-12\", \"20-14\", \"20-15\", \"20-16\", \"20-18\", \"20-19\", \"20-20\", \"20-3\", \"20-4\", \"20-5\", \"20-7\", \"20-8\", \"3-1\", \"3-13\", \"3-18\", \"3-2\", \"3-8\", \"4-1\", \"4-10\", \"4-11\", \"5-1\", \"5-5\", \"6-1\", \"6-15\", \"6-6\", \"7-10\", \"7-11\", \"7-12\", \"7-13\", \"7-14\", \"7-7\", \"7-8\", \"7-9\", \"8-1\", \"8-13\", \"8-14\", \"8-18\", \"8-20\", \"8-3\", \"8-8\", \"9-1\", \"9-7\"], \"domains\": [1, 2, 3, 4], \"num_examples_per_domain_per_label\": -1, \"pickle_path\": \"/root/csc500-main/datasets/wisig.node3-19.stratified_ds.2022A.pkl\", \"source_or_target_dataset\": \"target\", \"x_transforms\": [\"unit_power\"], \"episode_transforms\": [], \"domain_prefix\": \"Wisig_\"}], \"dataset_seed\": 420, \"seed\": 420, \"x_shape\": [2, 256], \"domains_source\": [\"CORES_1\", \"CORES_2\", \"CORES_3\", \"CORES_4\", \"CORES_5\"], \"domains_target\": [\"Wisig_1\", \"Wisig_2\", \"Wisig_3\", \"Wisig_4\"]}, \"results\": {\"source_test_label_accuracy\": 0.9970689655172413, \"source_test_label_loss\": 0.02595747448503971, \"target_test_label_accuracy\": 0.7072768762677485, \"target_test_label_loss\": 1.8005839586257935, \"source_val_label_accuracy\": 0.9973060344827587, \"source_val_label_loss\": 0.025402246043086052, \"target_val_label_accuracy\": 0.7048087284482759, \"target_val_label_loss\": 1.8918030261993408, \"total_epochs_trained\": 3, \"total_experiment_time_secs\": 175.18081903457642, \"confusion\": {\"CORES_4\": {\"56\": {\"56\": 16}, \"35\": {\"35\": 16}, \"51\": {\"51\": 16}, \"21\": {\"21\": 16}, \"47\": {\"47\": 16}, \"40\": {\"40\": 16}, \"53\": {\"53\": 15, \"50\": 1}, \"22\": {\"22\": 16}, \"31\": {\"31\": 15, \"46\": 1}, \"6\": {\"6\": 16}, \"52\": {\"52\": 16}, \"30\": {\"30\": 16}, \"39\": {\"39\": 16}, \"7\": {\"7\": 16}, \"37\": {\"37\": 16}, \"44\": {\"44\": 16}, \"9\": {\"9\": 16}, \"42\": {\"42\": 16}, \"5\": {\"5\": 15, \"31\": 1}, \"13\": {\"13\": 16}, \"46\": {\"46\": 16}, \"16\": {\"16\": 16}, \"36\": {\"36\": 16}, \"26\": {\"26\": 16}, \"27\": {\"27\": 16}, \"4\": {\"4\": 16}, \"45\": {\"45\": 16}, \"19\": {\"19\": 16}, \"41\": {\"41\": 16}, \"49\": {\"49\": 16}, \"24\": {\"24\": 16}, \"15\": {\"15\": 16}, \"28\": {\"28\": 16}, \"10\": {\"10\": 16}, \"0\": {\"0\": 16}, \"3\": {\"3\": 16}, \"8\": {\"8\": 16}, \"20\": {\"20\": 16}, \"55\": {\"55\": 16}, \"32\": {\"32\": 16}, \"38\": {\"38\": 16}, \"54\": {\"54\": 16}, \"48\": {\"48\": 16}, \"33\": {\"33\": 16}, \"43\": {\"43\": 16}, \"23\": {\"23\": 16}, \"29\": {\"29\": 16}, \"12\": {\"12\": 16}, \"18\": {\"18\": 16}, \"25\": {\"25\": 16}, \"34\": {\"34\": 16}, \"11\": {\"11\": 16}, \"1\": {\"1\": 16}, \"57\": {\"57\": 16}, \"2\": {\"2\": 16}, \"14\": {\"14\": 16}, \"17\": {\"17\": 16}, \"50\": {\"50\": 15, \"3\": 1}}, \"CORES_5\": {\"55\": {\"55\": 20}, \"28\": {\"28\": 20}, \"21\": {\"21\": 20}, \"53\": {\"53\": 20}, \"2\": {\"2\": 20}, \"0\": {\"0\": 20}, \"7\": {\"7\": 20}, \"19\": {\"19\": 20}, \"25\": {\"25\": 20}, \"45\": {\"45\": 19, \"9\": 1}, \"57\": {\"57\": 20}, \"42\": {\"42\": 20}, \"5\": {\"5\": 20}, \"16\": {\"16\": 20}, \"26\": {\"26\": 20}, \"32\": {\"32\": 20}, \"15\": {\"15\": 20}, \"30\": {\"30\": 20}, \"3\": {\"3\": 20}, \"35\": {\"35\": 20}, \"14\": {\"14\": 20}, \"8\": {\"8\": 20}, \"56\": {\"56\": 20}, \"50\": {\"50\": 20}, \"31\": {\"31\": 20}, \"52\": {\"52\": 20}, \"1\": {\"1\": 20}, \"44\": {\"44\": 20}, \"39\": {\"39\": 20}, \"27\": {\"27\": 20}, \"17\": {\"17\": 20}, \"41\": {\"41\": 20}, \"40\": {\"40\": 20}, \"48\": {\"48\": 20}, \"22\": {\"22\": 20}, \"6\": {\"17\": 1, \"6\": 16, \"45\": 3}, \"11\": {\"11\": 19, \"15\": 1}, \"12\": {\"12\": 20}, \"49\": {\"49\": 20}, \"34\": {\"34\": 20}, \"37\": {\"37\": 20}, \"24\": {\"24\": 20}, \"33\": {\"33\": 20}, \"47\": {\"47\": 20}, \"23\": {\"23\": 20}, \"13\": {\"13\": 20}, \"29\": {\"29\": 20}, \"46\": {\"46\": 19, \"3\": 1}, \"38\": {\"38\": 20}, \"18\": {\"18\": 20}, \"9\": {\"9\": 20}, \"36\": {\"36\": 20}, \"51\": {\"51\": 20}, \"54\": {\"54\": 20}, \"43\": {\"43\": 20}, \"10\": {\"10\": 20}, \"4\": {\"4\": 20}, \"20\": {\"20\": 20}}, \"CORES_2\": {\"43\": {\"43\": 20}, \"52\": {\"52\": 20}, \"9\": {\"9\": 20}, \"49\": {\"49\": 20}, \"27\": {\"27\": 20}, \"4\": {\"4\": 20}, \"31\": {\"31\": 20}, \"47\": {\"47\": 20}, \"21\": {\"21\": 20}, \"0\": {\"0\": 20}, \"16\": {\"16\": 20}, \"51\": {\"51\": 20}, \"3\": {\"3\": 20}, \"50\": {\"50\": 20}, \"40\": {\"40\": 20}, \"55\": {\"55\": 20}, \"12\": {\"12\": 20}, \"45\": {\"45\": 20}, \"7\": {\"7\": 20}, \"28\": {\"28\": 20}, \"33\": {\"33\": 20}, \"38\": {\"38\": 20}, \"44\": {\"44\": 19, \"40\": 1}, \"15\": {\"15\": 20}, \"25\": {\"25\": 20}, \"11\": {\"11\": 20}, \"57\": {\"57\": 20}, \"34\": {\"34\": 20}, \"14\": {\"14\": 20}, \"32\": {\"32\": 20}, \"18\": {\"18\": 20}, \"42\": {\"42\": 20}, \"8\": {\"8\": 20}, \"48\": {\"48\": 20}, \"24\": {\"24\": 20}, \"30\": {\"30\": 20}, \"10\": {\"10\": 20}, \"36\": {\"36\": 20}, \"35\": {\"35\": 20}, \"56\": {\"56\": 20}, \"41\": {\"41\": 20}, \"53\": {\"53\": 20}, \"37\": {\"37\": 20}, \"20\": {\"20\": 20}, \"17\": {\"17\": 20}, \"13\": {\"13\": 20}, \"46\": {\"46\": 20}, \"22\": {\"22\": 20}, \"1\": {\"1\": 20}, \"6\": {\"6\": 20}, \"26\": {\"26\": 20}, \"23\": {\"23\": 20}, \"19\": {\"19\": 20}, \"29\": {\"29\": 20}, \"2\": {\"2\": 20}, \"54\": {\"54\": 20}, \"5\": {\"5\": 20}, \"39\": {\"39\": 20}}, \"CORES_1\": {\"42\": {\"42\": 24}, \"6\": {\"6\": 24}, \"25\": {\"25\": 24}, \"17\": {\"17\": 24}, \"23\": {\"23\": 24}, \"13\": {\"13\": 24}, \"34\": {\"34\": 24}, \"53\": {\"53\": 24}, \"27\": {\"27\": 24}, \"48\": {\"48\": 24}, \"51\": {\"51\": 24}, \"49\": {\"49\": 24}, \"3\": {\"3\": 23, \"37\": 1}, \"2\": {\"2\": 24}, \"28\": {\"28\": 24}, \"26\": {\"26\": 24}, \"30\": {\"30\": 24}, \"37\": {\"37\": 24}, \"35\": {\"35\": 24}, \"56\": {\"56\": 24}, \"31\": {\"31\": 24}, \"11\": {\"11\": 24}, \"45\": {\"45\": 24}, \"38\": {\"38\": 24}, \"54\": {\"54\": 24}, \"4\": {\"4\": 24}, \"57\": {\"57\": 24}, \"24\": {\"24\": 23, \"22\": 1}, \"33\": {\"33\": 24}, \"32\": {\"32\": 24}, \"55\": {\"55\": 24}, \"12\": {\"12\": 24}, \"8\": {\"8\": 24}, \"22\": {\"22\": 23, \"21\": 1}, \"29\": {\"29\": 24}, \"10\": {\"10\": 24}, \"18\": {\"18\": 24}, \"7\": {\"7\": 24}, \"52\": {\"52\": 24}, \"16\": {\"16\": 24}, \"36\": {\"36\": 24}, \"39\": {\"39\": 24}, \"44\": {\"44\": 24}, \"19\": {\"19\": 24}, \"1\": {\"1\": 24}, \"41\": {\"41\": 24}, \"46\": {\"46\": 24}, \"14\": {\"14\": 24}, \"0\": {\"0\": 24}, \"15\": {\"15\": 24}, \"47\": {\"47\": 24}, \"43\": {\"43\": 24}, \"50\": {\"50\": 24}, \"21\": {\"21\": 24}, \"20\": {\"20\": 24}, \"9\": {\"9\": 24}, \"5\": {\"5\": 24}, \"40\": {\"40\": 24}}, \"CORES_3\": {\"18\": {\"18\": 16}, \"29\": {\"29\": 16}, \"3\": {\"3\": 16}, \"39\": {\"39\": 16}, \"12\": {\"12\": 16}, \"33\": {\"33\": 16}, \"5\": {\"5\": 16}, \"9\": {\"9\": 16}, \"57\": {\"57\": 16}, \"30\": {\"30\": 16}, \"23\": {\"23\": 16}, \"40\": {\"40\": 16}, \"15\": {\"15\": 16}, \"16\": {\"16\": 16}, \"43\": {\"43\": 16}, \"13\": {\"13\": 16}, \"38\": {\"38\": 16}, \"56\": {\"56\": 16}, \"50\": {\"50\": 16}, \"7\": {\"7\": 16}, \"11\": {\"11\": 16}, \"41\": {\"41\": 16}, \"42\": {\"42\": 16}, \"14\": {\"14\": 16}, \"28\": {\"28\": 16}, \"1\": {\"1\": 16}, \"17\": {\"17\": 16}, \"35\": {\"35\": 16}, \"10\": {\"10\": 16}, \"52\": {\"52\": 16}, \"46\": {\"46\": 16}, \"19\": {\"19\": 16}, \"24\": {\"24\": 16}, \"54\": {\"54\": 16}, \"4\": {\"4\": 16}, \"21\": {\"21\": 16}, \"8\": {\"8\": 16}, \"31\": {\"31\": 16}, \"47\": {\"47\": 16}, \"26\": {\"26\": 16}, \"2\": {\"2\": 16}, \"51\": {\"51\": 16}, \"22\": {\"22\": 16}, \"49\": {\"49\": 16}, \"0\": {\"0\": 16}, \"37\": {\"37\": 16}, \"45\": {\"45\": 16}, \"6\": {\"6\": 16}, \"36\": {\"36\": 16}, \"20\": {\"20\": 16}, \"25\": {\"25\": 16}, \"53\": {\"53\": 16}, \"55\": {\"55\": 16}, \"32\": {\"32\": 16}, \"34\": {\"34\": 16}, \"27\": {\"27\": 16}, \"44\": {\"44\": 16}, \"48\": {\"48\": 16}}, \"Wisig_3\": {\"10\": {\"10\": 25, \"37\": 1, \"66\": 1, \"95\": 3, \"7\": 3, \"40\": 1, \"14\": 1, \"9\": 1}, \"120\": {\"120\": 20}, \"111\": {\"111\": 36, \"127\": 1, \"68\": 2, \"3\": 1, \"91\": 2}, \"54\": {\"54\": 16}, \"39\": {\"81\": 1, \"39\": 17, \"113\": 10, \"126\": 2, \"117\": 4, \"121\": 4, \"43\": 1, \"2\": 2, \"64\": 1, \"92\": 1, \"17\": 1}, \"77\": {\"77\": 16}, \"51\": {\"51\": 13, \"59\": 1, \"58\": 1, \"6\": 1}, \"85\": {\"85\": 31, \"49\": 2, \"70\": 1, \"8\": 2}, \"53\": {\"53\": 16, \"20\": 4}, \"29\": {\"29\": 26, \"60\": 2, \"114\": 1, \"90\": 1, \"44\": 2}, \"32\": {\"45\": 3, \"32\": 9, \"24\": 1, \"55\": 1, \"82\": 7, \"102\": 1, \"40\": 1, \"84\": 1, \"105\": 1, \"116\": 2, \"50\": 1, \"10\": 1, \"107\": 1, \"48\": 1, \"9\": 1}, \"37\": {\"37\": 14, \"125\": 1, \"95\": 1}, \"30\": {\"47\": 2, \"98\": 5, \"30\": 21, \"59\": 2, \"15\": 1, \"8\": 4, \"99\": 1, \"94\": 4, \"111\": 1, \"70\": 1, \"73\": 1, \"12\": 1}, \"116\": {\"116\": 16, \"90\": 2, \"82\": 2, \"11\": 3, \"87\": 1, \"102\": 2, \"16\": 1, \"92\": 1}, \"80\": {\"80\": 13, \"27\": 1, \"29\": 1, \"31\": 1}, \"13\": {\"13\": 8, \"21\": 2, \"26\": 2, \"45\": 3, \"81\": 1}, \"41\": {\"41\": 15, \"4\": 1}, \"95\": {\"95\": 30, \"7\": 2}, \"100\": {\"100\": 16}, \"45\": {\"45\": 16}, \"89\": {\"89\": 28}, \"76\": {\"76\": 16}, \"113\": {\"39\": 11, \"117\": 10, \"113\": 16, \"43\": 1}, \"81\": {\"81\": 27, \"18\": 3}, \"79\": {\"79\": 12}, \"33\": {\"33\": 36}, \"1\": {\"1\": 33, \"60\": 1}, \"5\": {\"1\": 1, \"5\": 35}, \"63\": {\"63\": 16}, \"47\": {\"47\": 9, \"81\": 2, \"124\": 1}, \"122\": {\"122\": 20, \"107\": 2, \"4\": 1, \"99\": 2, \"87\": 4, \"128\": 2, \"113\": 1}, \"21\": {\"21\": 39, \"70\": 2, \"39\": 1, \"71\": 2}, \"15\": {\"15\": 33, \"30\": 1, \"59\": 1, \"94\": 3, \"125\": 3, \"91\": 1, \"73\": 2}, \"50\": {\"50\": 16}, \"62\": {\"62\": 38}, \"56\": {\"41\": 3, \"56\": 9}, \"66\": {\"66\": 16}, \"52\": {\"8\": 1, \"52\": 14, \"124\": 1}, \"93\": {\"93\": 40, \"96\": 1, \"16\": 2, \"70\": 1, \"64\": 2}, \"128\": {\"128\": 15, \"87\": 2, \"77\": 3, \"103\": 3, \"47\": 1, \"3\": 3, \"107\": 2, \"71\": 1, \"28\": 1, \"114\": 1}, \"99\": {\"99\": 19, \"66\": 2, \"4\": 6, \"86\": 1, \"105\": 4, \"48\": 1, \"94\": 1}, \"110\": {\"110\": 24, \"1\": 2, \"129\": 13, \"19\": 1, \"114\": 1, \"60\": 1, \"23\": 1, \"29\": 1, \"16\": 2}, \"114\": {\"114\": 37, \"21\": 1, \"1\": 1, \"111\": 1, \"46\": 2, \"81\": 1, \"60\": 1}, \"90\": {\"90\": 36}, \"105\": {\"105\": 41, \"4\": 1}, \"115\": {\"115\": 16}, \"22\": {\"22\": 16}, \"61\": {\"61\": 16}, \"84\": {\"45\": 2, \"84\": 31, \"78\": 1}, \"48\": {\"48\": 2, \"79\": 1, \"43\": 2, \"102\": 1, \"26\": 3, \"9\": 1, \"116\": 3, \"35\": 1, \"7\": 2}, \"98\": {\"98\": 40, \"3\": 1, \"35\": 1, \"99\": 2}, \"106\": {\"106\": 39, \"125\": 2, \"30\": 1, \"12\": 2, \"73\": 1, \"94\": 1}, \"83\": {\"83\": 18, \"21\": 2, \"24\": 1, \"126\": 1, \"27\": 2}, \"8\": {\"8\": 23, \"108\": 1, \"124\": 6, \"70\": 3, \"73\": 1}, \"58\": {\"58\": 16}, \"70\": {\"70\": 16, \"8\": 3, \"31\": 2, \"21\": 3, \"96\": 1, \"88\": 1, \"60\": 1, \"124\": 2, \"85\": 4, \"19\": 2, \"90\": 1, \"39\": 1, \"110\": 2, \"43\": 1, \"2\": 1, \"71\": 1, \"64\": 1, \"129\": 1, \"5\": 1, \"108\": 1}, \"43\": {\"43\": 18, \"33\": 6, \"102\": 8, \"92\": 1, \"113\": 2, \"78\": 1, \"39\": 3, \"117\": 4, \"11\": 2, \"21\": 1, \"116\": 1, \"120\": 1, \"2\": 1, \"71\": 1}, \"20\": {\"80\": 1, \"70\": 1, \"49\": 1, \"20\": 13}, \"14\": {\"14\": 37, \"32\": 1, \"115\": 1, \"84\": 1}, \"46\": {\"46\": 14, \"19\": 2}, \"18\": {\"18\": 41, \"121\": 2, \"39\": 1}, \"38\": {\"38\": 14, \"76\": 1, \"109\": 1}, \"59\": {\"59\": 11, \"97\": 1}, \"35\": {\"35\": 9, \"0\": 2, \"83\": 1}, \"57\": {\"57\": 11, \"55\": 3, \"74\": 2, \"94\": 1, \"89\": 1, \"22\": 1, \"40\": 1}, \"102\": {\"102\": 37, \"82\": 4, \"45\": 1, \"33\": 2}, \"28\": {\"28\": 16}, \"6\": {\"6\": 20, \"75\": 4, \"51\": 2, \"34\": 1, \"72\": 3, \"111\": 2}, \"3\": {\"3\": 34, \"71\": 4, \"30\": 1, \"24\": 1, \"70\": 1, \"19\": 1}, \"88\": {\"108\": 7, \"88\": 15, \"112\": 1, \"85\": 3, \"42\": 2, \"17\": 1, \"49\": 3, \"39\": 1, \"94\": 2, \"21\": 3, \"96\": 1, \"64\": 1, \"113\": 1, \"70\": 2, \"93\": 1}, \"25\": {\"25\": 16}, \"60\": {\"28\": 1, \"73\": 1, \"3\": 2, \"60\": 10, \"122\": 1, \"29\": 2, \"90\": 1, \"114\": 2, \"44\": 1, \"79\": 1, \"31\": 2, \"8\": 2, \"110\": 1, \"23\": 1}, \"87\": {\"16\": 4, \"21\": 2, \"87\": 19, \"11\": 2, \"19\": 2, \"45\": 1, \"90\": 3, \"107\": 7, \"122\": 1, \"100\": 1, \"92\": 2, \"78\": 1, \"44\": 1}, \"19\": {\"3\": 7, \"73\": 1, \"110\": 6, \"129\": 6, \"19\": 8, \"114\": 2, \"121\": 1, \"71\": 1}, \"124\": {\"11\": 1, \"124\": 37, \"29\": 1, \"8\": 1}, \"0\": {\"0\": 25, \"65\": 2, \"101\": 4, \"10\": 1, \"35\": 1, \"127\": 1, \"6\": 1, \"4\": 1}, \"16\": {\"16\": 26, \"21\": 1, \"11\": 2, \"43\": 1}, \"40\": {\"40\": 42, \"32\": 1, \"21\": 1, \"105\": 1, \"38\": 1}, \"24\": {\"24\": 20, \"97\": 1, \"25\": 1, \"36\": 7, \"21\": 2, \"27\": 10, \"106\": 1}, \"49\": {\"8\": 1, \"6\": 1, \"88\": 2, \"20\": 1, \"53\": 4, \"49\": 6, \"42\": 2, \"73\": 1, \"30\": 1, \"108\": 1, \"112\": 1, \"85\": 1, \"75\": 1, \"47\": 1}, \"23\": {\"81\": 3, \"124\": 4, \"110\": 1, \"63\": 3, \"67\": 4, \"126\": 3, \"39\": 2, \"19\": 1, \"23\": 2, \"121\": 2, \"5\": 3, \"114\": 1, \"91\": 1, \"17\": 1, \"71\": 1}, \"108\": {\"108\": 17, \"20\": 1, \"8\": 2, \"88\": 5, \"42\": 6, \"112\": 3, \"70\": 4, \"49\": 3, \"85\": 1}, \"97\": {\"15\": 4, \"97\": 13, \"30\": 1, \"94\": 2}, \"103\": {\"103\": 16}, \"96\": {\"96\": 18, \"80\": 2}, \"73\": {\"59\": 2, \"73\": 21, \"12\": 2, \"94\": 1, \"8\": 5, \"42\": 1, \"43\": 1, \"109\": 1, \"106\": 1, \"15\": 1}, \"11\": {\"11\": 16, \"43\": 5, \"44\": 1, \"17\": 2, \"2\": 1, \"33\": 3, \"122\": 1, \"116\": 1, \"90\": 1, \"16\": 1}, \"55\": {\"55\": 16}, \"82\": {\"82\": 27, \"102\": 1}, \"86\": {\"86\": 20, \"113\": 1, \"4\": 7}, \"12\": {\"12\": 32, \"8\": 1, \"73\": 2, \"124\": 6, \"30\": 1}, \"64\": {\"64\": 20}, \"31\": {\"16\": 1, \"90\": 1, \"31\": 12, \"20\": 3, \"27\": 1, \"29\": 2}, \"127\": {\"127\": 35, \"39\": 1}, \"123\": {\"67\": 3, \"123\": 13}, \"4\": {\"4\": 30, \"86\": 3, \"127\": 1, \"43\": 1, \"105\": 1}, \"101\": {\"51\": 2, \"101\": 27, \"6\": 1, \"70\": 1, \"127\": 1, \"122\": 1, \"39\": 1}, \"121\": {\"121\": 10, \"18\": 5, \"21\": 1, \"26\": 4, \"39\": 2, \"63\": 2, \"78\": 1, \"81\": 2, \"23\": 1, \"113\": 2}, \"67\": {\"67\": 15, \"123\": 1}, \"92\": {\"92\": 27, \"126\": 1, \"90\": 2, \"43\": 2}, \"119\": {\"119\": 16}, \"9\": {\"9\": 26}, \"112\": {\"112\": 13, \"108\": 2, \"24\": 1}, \"2\": {\"61\": 1, \"121\": 2, \"2\": 4, \"93\": 5, \"26\": 8, \"18\": 2, \"13\": 2, \"64\": 2, \"31\": 1, \"96\": 1}, \"117\": {\"117\": 29, \"113\": 4, \"39\": 2, \"2\": 1, \"121\": 2}, \"125\": {\"125\": 31, \"15\": 2, \"26\": 1, \"59\": 1, \"106\": 1}, \"75\": {\"75\": 16}, \"104\": {\"104\": 16}, \"78\": {\"72\": 1, \"99\": 1, \"78\": 5, \"122\": 1, \"69\": 1, \"17\": 1, \"27\": 1, \"48\": 1, \"45\": 1, \"43\": 1, \"87\": 2}, \"68\": {\"68\": 16}, \"118\": {\"69\": 4, \"118\": 23, \"13\": 3, \"109\": 2, \"89\": 1, \"102\": 1}, \"72\": {\"72\": 27, \"34\": 1}, \"36\": {\"36\": 19, \"27\": 11, \"24\": 5, \"25\": 1}, \"26\": {\"26\": 41, \"121\": 1}, \"34\": {\"14\": 1, \"75\": 2, \"107\": 6, \"115\": 3, \"122\": 3, \"84\": 2, \"78\": 1, \"6\": 5, \"111\": 3, \"34\": 2, \"32\": 2}, \"69\": {\"69\": 31, \"13\": 2, \"70\": 1, \"89\": 1, \"62\": 1}, \"65\": {\"9\": 2, \"65\": 8, \"35\": 2}, \"109\": {\"109\": 26, \"69\": 4, \"100\": 1, \"62\": 1, \"89\": 2, \"118\": 2}, \"107\": {\"107\": 30, \"87\": 2}, \"7\": {\"7\": 36, \"35\": 2}, \"94\": {\"94\": 28, \"15\": 2, \"30\": 1, \"98\": 1, \"97\": 1, \"125\": 2, \"64\": 1, \"91\": 2}, \"27\": {\"27\": 16, \"36\": 13, \"83\": 2, \"6\": 1, \"24\": 5, \"112\": 1, \"54\": 1, \"108\": 2, \"94\": 1}, \"42\": {\"42\": 17, \"73\": 6, \"49\": 1, \"106\": 1, \"112\": 1, \"108\": 2}, \"91\": {\"21\": 1, \"36\": 1, \"91\": 13, \"118\": 1, \"98\": 2, \"127\": 2, \"12\": 1, \"3\": 1, \"69\": 1, \"128\": 1}, \"71\": {\"71\": 37, \"21\": 1, \"124\": 1, \"5\": 2, \"3\": 1, \"46\": 2, \"92\": 1, \"19\": 1}, \"126\": {\"126\": 21, \"81\": 1, \"113\": 1, \"18\": 1}, \"17\": {\"118\": 1, \"104\": 1, \"17\": 2, \"2\": 4, \"21\": 3, \"92\": 1, \"11\": 1, \"23\": 3}, \"74\": {\"74\": 14, \"57\": 2}, \"44\": {\"44\": 27, \"29\": 2, \"129\": 1}, \"129\": {\"129\": 16, \"29\": 3, \"110\": 8, \"114\": 1, \"31\": 1, \"20\": 1}}, \"Wisig_2\": {\"80\": {\"78\": 2, \"80\": 13, \"45\": 1}, \"85\": {\"85\": 31, \"47\": 1}, \"100\": {\"100\": 16}, \"129\": {\"129\": 26, \"85\": 1, \"119\": 1, \"19\": 2, \"8\": 1, \"73\": 1}, \"82\": {\"82\": 33, \"21\": 2, \"43\": 1}, \"112\": {\"129\": 4, \"108\": 1, \"53\": 1, \"12\": 1, \"71\": 1, \"112\": 5, \"5\": 1, \"49\": 1, \"8\": 1}, \"125\": {\"125\": 37, \"94\": 3, \"51\": 1, \"106\": 3, \"15\": 3, \"34\": 1}, \"89\": {\"89\": 30, \"92\": 1, \"121\": 1, \"61\": 1, \"118\": 1}, \"10\": {\"74\": 4, \"10\": 23, \"21\": 2, \"22\": 2, \"78\": 1, \"7\": 4, \"32\": 6, \"39\": 1, \"105\": 1, \"60\": 1, \"40\": 1}, \"63\": {\"63\": 20}, \"83\": {\"83\": 39, \"44\": 1}, \"28\": {\"28\": 16, \"43\": 4}, \"117\": {\"117\": 33, \"21\": 1, \"113\": 1, \"65\": 6, \"121\": 1}, \"49\": {\"49\": 10, \"85\": 3, \"114\": 1, \"98\": 1, \"129\": 1, \"8\": 1, \"52\": 1, \"11\": 1, \"128\": 1, \"46\": 1, \"39\": 1, \"73\": 1, \"15\": 1}, \"71\": {\"71\": 33, \"124\": 2, \"8\": 1, \"5\": 4, \"114\": 2}, \"62\": {\"62\": 37, \"127\": 1, \"76\": 2, \"67\": 1, \"92\": 1, \"50\": 1, \"24\": 1}, \"99\": {\"99\": 31, \"39\": 1}, \"108\": {\"108\": 33, \"11\": 2, \"24\": 1, \"47\": 1, \"49\": 2, \"42\": 4, \"44\": 1, \"126\": 2, \"112\": 1, \"98\": 1}, \"120\": {\"120\": 17, \"21\": 1, \"65\": 2}, \"9\": {\"9\": 26}, \"73\": {\"73\": 16, \"1\": 6, \"125\": 1, \"108\": 1, \"60\": 1, \"124\": 1, \"85\": 1, \"5\": 1}, \"7\": {\"17\": 2, \"7\": 34, \"88\": 1, \"21\": 1}, \"1\": {\"1\": 40, \"43\": 1, \"19\": 2, \"5\": 2, \"88\": 1, \"33\": 2}, \"123\": {\"123\": 16}, \"97\": {\"94\": 1, \"97\": 9, \"29\": 2, \"58\": 1, \"91\": 1, \"77\": 1, \"31\": 1, \"0\": 1, \"34\": 1, \"6\": 1, \"111\": 1}, \"114\": {\"114\": 41, \"71\": 1}, \"48\": {\"48\": 20}, \"115\": {\"115\": 12}, \"13\": {\"82\": 2, \"72\": 4, \"107\": 1, \"13\": 3, \"126\": 1, \"102\": 3, \"116\": 1, \"88\": 1}, \"66\": {\"66\": 16, \"64\": 2, \"61\": 2}, \"53\": {\"53\": 15, \"8\": 1}, \"40\": {\"40\": 36, \"17\": 1, \"95\": 2, \"37\": 1, \"78\": 1, \"105\": 1}, \"33\": {\"33\": 51, \"87\": 1}, \"27\": {\"27\": 23, \"24\": 6, \"21\": 2, \"25\": 2, \"36\": 9}, \"101\": {\"101\": 27, \"128\": 1, \"30\": 2, \"0\": 1, \"6\": 1}, \"95\": {\"95\": 27, \"126\": 1, \"104\": 2, \"105\": 6}, \"34\": {\"34\": 9, \"125\": 1, \"41\": 4, \"8\": 2, \"86\": 2, \"59\": 1, \"110\": 2, \"29\": 1, \"4\": 1, \"32\": 1, \"35\": 1, \"55\": 2, \"56\": 1, \"107\": 1, \"6\": 1, \"91\": 1, \"98\": 1}, \"105\": {\"105\": 37, \"40\": 1}, \"122\": {\"3\": 1, \"123\": 1, \"122\": 13, \"71\": 3, \"52\": 1, \"110\": 4, \"8\": 7, \"60\": 2, \"127\": 3, \"124\": 2, \"70\": 1, \"12\": 1, \"43\": 1}, \"127\": {\"127\": 38, \"111\": 2, \"102\": 1, \"12\": 2, \"122\": 1}, \"0\": {\"101\": 11, \"0\": 29, \"56\": 1, \"30\": 1, \"9\": 1, \"77\": 1, \"113\": 1, \"88\": 1}, \"74\": {\"74\": 12, \"95\": 2, \"50\": 2}, \"116\": {\"82\": 4, \"116\": 16, \"87\": 2, \"43\": 1, \"124\": 1, \"21\": 1, \"88\": 1, \"80\": 1, \"16\": 1}, \"78\": {\"40\": 4, \"78\": 5, \"86\": 1, \"10\": 1, \"37\": 3, \"95\": 3, \"107\": 3, \"122\": 1, \"109\": 6, \"61\": 1, \"87\": 2, \"39\": 2, \"14\": 2, \"21\": 2, \"80\": 1, \"17\": 1, \"66\": 1, \"38\": 1, \"70\": 1, \"4\": 1, \"118\": 1, \"43\": 1}, \"68\": {\"68\": 13, \"110\": 1, \"21\": 1, \"34\": 1}, \"18\": {\"18\": 25, \"117\": 1, \"21\": 1, \"81\": 4, \"26\": 5}, \"15\": {\"15\": 33, \"9\": 4, \"6\": 3, \"94\": 2, \"125\": 1, \"21\": 2, \"127\": 1}, \"26\": {\"18\": 1, \"117\": 1, \"26\": 33, \"2\": 3, \"21\": 1, \"39\": 1}, \"50\": {\"15\": 1, \"50\": 11, \"55\": 3, \"97\": 1}, \"92\": {\"92\": 23, \"21\": 1, \"118\": 1, \"76\": 1, \"89\": 1, \"39\": 1}, \"56\": {\"56\": 7, \"4\": 5}, \"75\": {\"75\": 16}, \"37\": {\"66\": 2, \"37\": 12, \"107\": 1, \"78\": 1}, \"3\": {\"85\": 1, \"3\": 28, \"5\": 2, \"19\": 3, \"71\": 2, \"124\": 2, \"8\": 2}, \"118\": {\"82\": 1, \"62\": 9, \"109\": 1, \"118\": 27, \"74\": 1, \"67\": 2, \"24\": 1, \"113\": 1, \"89\": 2, \"92\": 1, \"80\": 1, \"31\": 4, \"102\": 1}, \"11\": {\"3\": 1, \"11\": 25, \"85\": 4, \"71\": 1, \"44\": 3, \"98\": 5, \"121\": 1, \"94\": 1, \"108\": 1, \"21\": 1, \"5\": 1}, \"17\": {\"17\": 6, \"4\": 5, \"13\": 1, \"86\": 2, \"40\": 2}, \"94\": {\"94\": 30, \"24\": 3, \"21\": 1, \"106\": 1, \"125\": 3, \"36\": 2, \"15\": 4, \"6\": 1, \"51\": 2, \"39\": 1}, \"54\": {\"56\": 2, \"30\": 1, \"54\": 14, \"7\": 1, \"104\": 1, \"78\": 1}, \"109\": {\"45\": 1, \"109\": 18, \"84\": 6, \"31\": 3, \"81\": 2, \"99\": 1, \"88\": 1, \"82\": 3, \"118\": 4, \"39\": 1, \"102\": 7, \"21\": 1, \"78\": 1, \"107\": 1, \"90\": 1, \"110\": 1}, \"128\": {\"0\": 5, \"85\": 6, \"128\": 5, \"114\": 1, \"30\": 1, \"1\": 1, \"101\": 2, \"77\": 1, \"73\": 2}, \"22\": {\"10\": 2, \"22\": 17, \"21\": 1}, \"57\": {\"57\": 20}, \"103\": {\"127\": 3, \"103\": 11, \"79\": 2}, \"70\": {\"70\": 9, \"45\": 1, \"110\": 3, \"32\": 1, \"47\": 1, \"21\": 1, \"43\": 5, \"78\": 3, \"33\": 3, \"88\": 5, \"96\": 1, \"14\": 1, \"16\": 2, \"61\": 1, \"109\": 2, \"39\": 1, \"118\": 1, \"1\": 1}, \"72\": {\"72\": 22, \"116\": 2, \"102\": 1, \"81\": 2, \"82\": 1}, \"77\": {\"77\": 15, \"127\": 1}, \"2\": {\"2\": 13, \"57\": 1, \"48\": 1, \"100\": 1, \"81\": 1, \"121\": 4, \"26\": 1, \"87\": 2, \"93\": 4, \"117\": 2, \"88\": 1, \"18\": 1}, \"20\": {\"20\": 14, \"88\": 1, \"72\": 1}, \"51\": {\"58\": 5, \"6\": 2, \"51\": 4, \"97\": 4, \"125\": 2, \"15\": 1, \"75\": 1, \"111\": 1}, \"58\": {\"58\": 14, \"97\": 2, \"51\": 2, \"15\": 2}, \"52\": {\"52\": 17, \"15\": 1, \"128\": 1, \"29\": 1}, \"106\": {\"106\": 21, \"42\": 1, \"98\": 1, \"15\": 2, \"94\": 1, \"125\": 2}, \"5\": {\"5\": 30, \"3\": 3, \"71\": 6, \"87\": 1}, \"8\": {\"8\": 27, \"45\": 1, \"21\": 1, \"122\": 2, \"124\": 8, \"60\": 2, \"73\": 1}, \"6\": {\"6\": 25, \"97\": 2, \"9\": 2, \"15\": 2, \"75\": 1}, \"44\": {\"44\": 36}, \"41\": {\"41\": 18, \"23\": 1, \"122\": 1}, \"110\": {\"3\": 1, \"4\": 1, \"110\": 22, \"8\": 3, \"54\": 1, \"107\": 1, \"122\": 6, \"21\": 2, \"78\": 1, \"43\": 2}, \"16\": {\"16\": 33, \"119\": 1, \"93\": 1, \"90\": 2, \"96\": 3, \"21\": 2, \"109\": 1, \"88\": 1}, \"45\": {\"45\": 12, \"82\": 2, \"84\": 1, \"97\": 1}, \"107\": {\"4\": 12, \"86\": 6, \"107\": 18, \"24\": 2, \"32\": 1, \"110\": 1, \"78\": 2, \"126\": 1, \"37\": 2, \"39\": 1, \"108\": 1, \"36\": 1}, \"126\": {\"126\": 27, \"42\": 1, \"93\": 1, \"44\": 2, \"110\": 1, \"88\": 2, \"121\": 1, \"83\": 1}, \"87\": {\"1\": 3, \"88\": 6, \"84\": 1, \"33\": 6, \"96\": 3, \"58\": 1, \"87\": 10, \"16\": 1, \"21\": 2, \"39\": 2, \"116\": 1}, \"19\": {\"19\": 15, \"28\": 1, \"32\": 1, \"71\": 1, \"43\": 1, \"122\": 1, \"129\": 7, \"1\": 1}, \"84\": {\"84\": 37, \"33\": 1, \"21\": 3, \"36\": 1}, \"98\": {\"98\": 49, \"48\": 1}, \"4\": {\"4\": 31, \"56\": 1, \"17\": 2, \"54\": 2, \"126\": 1, \"86\": 2, \"78\": 1, \"40\": 1, \"107\": 2, \"21\": 2, \"110\": 1}, \"111\": {\"111\": 38, \"127\": 1, \"77\": 1}, \"36\": {\"36\": 24, \"20\": 1, \"51\": 1, \"113\": 1, \"27\": 8, \"24\": 4, \"25\": 1, \"21\": 2, \"94\": 2}, \"91\": {\"34\": 2, \"107\": 1, \"91\": 13, \"41\": 1, \"52\": 1, \"59\": 2, \"4\": 2, \"111\": 1, \"127\": 2, \"12\": 3}, \"39\": {\"81\": 4, \"102\": 10, \"72\": 7, \"18\": 1, \"39\": 12, \"21\": 2, \"109\": 2, \"82\": 4, \"16\": 1, \"88\": 1, \"113\": 2, \"69\": 1, \"118\": 1}, \"21\": {\"21\": 37, \"20\": 2, \"13\": 1}, \"76\": {\"76\": 16}, \"12\": {\"12\": 25, \"59\": 1, \"88\": 2, \"111\": 2, \"29\": 2, \"124\": 1, \"71\": 1, \"8\": 1, \"34\": 2, \"127\": 1, \"91\": 1, \"5\": 1}, \"119\": {\"119\": 17, \"93\": 1, \"44\": 1, \"36\": 1}, \"102\": {\"102\": 34}, \"113\": {\"113\": 27, \"65\": 6, \"78\": 1, \"24\": 1, \"109\": 1}, \"46\": {\"46\": 16}, \"88\": {\"87\": 4, \"100\": 3, \"88\": 17, \"11\": 1, \"13\": 1, \"21\": 1, \"60\": 3, \"44\": 1, \"16\": 3, \"93\": 4, \"39\": 2, \"90\": 1, \"83\": 4, \"96\": 1, \"1\": 1, \"70\": 1}, \"24\": {\"36\": 7, \"24\": 10, \"125\": 2, \"9\": 1, \"126\": 2, \"94\": 5, \"11\": 1, \"27\": 3, \"15\": 2, \"87\": 1, \"58\": 1, \"108\": 3, \"42\": 1, \"21\": 1}, \"31\": {\"31\": 19, \"89\": 1}, \"81\": {\"81\": 22, \"72\": 1, \"39\": 1}, \"30\": {\"30\": 23, \"6\": 2, \"97\": 1, \"68\": 2, \"35\": 1, \"51\": 1, \"127\": 3, \"128\": 1, \"110\": 1, \"107\": 1}, \"55\": {\"55\": 12, \"62\": 4}, \"86\": {\"86\": 30, \"17\": 1, \"4\": 1}, \"43\": {\"43\": 19, \"87\": 1, \"70\": 9, \"116\": 1, \"16\": 1, \"113\": 1, \"78\": 1, \"82\": 1, \"38\": 2, \"14\": 1, \"118\": 1}, \"64\": {\"64\": 16}, \"59\": {\"59\": 6, \"77\": 1, \"21\": 4, \"24\": 1, \"111\": 3, \"94\": 1}, \"29\": {\"29\": 28, \"30\": 1, \"23\": 1, \"12\": 1, \"110\": 1}, \"32\": {\"32\": 10, \"10\": 2, \"14\": 8, \"122\": 1, \"105\": 7, \"74\": 1, \"43\": 2, \"35\": 1, \"110\": 2, \"107\": 1, \"70\": 1}, \"23\": {\"99\": 5, \"23\": 10, \"57\": 1, \"127\": 1, \"34\": 1, \"52\": 3, \"29\": 1, \"113\": 3, \"0\": 1, \"121\": 1, \"128\": 1, \"94\": 1, \"122\": 3, \"8\": 2, \"21\": 1, \"65\": 1}, \"14\": {\"32\": 2, \"14\": 31, \"38\": 2, \"78\": 1, \"107\": 1, \"43\": 1}, \"38\": {\"38\": 16}, \"96\": {\"96\": 18, \"88\": 2}, \"93\": {\"93\": 31, \"16\": 3, \"87\": 2, \"83\": 1, \"88\": 2, \"96\": 1, \"1\": 2}, \"60\": {\"60\": 8, \"32\": 1, \"100\": 1, \"43\": 1, \"90\": 1, \"128\": 1, \"107\": 1, \"88\": 1, \"83\": 6, \"70\": 3, \"124\": 1, \"23\": 2, \"110\": 1}, \"69\": {\"69\": 23, \"72\": 1, \"117\": 1, \"102\": 1, \"31\": 1, \"21\": 1}, \"47\": {\"129\": 2, \"73\": 1, \"47\": 8, \"21\": 1}, \"104\": {\"95\": 6, \"104\": 8, \"58\": 1, \"105\": 2, \"24\": 1, \"40\": 2}, \"25\": {\"25\": 15, \"9\": 1}, \"35\": {\"35\": 10, \"31\": 1, \"68\": 1}, \"79\": {\"79\": 16}, \"42\": {\"53\": 1, \"49\": 3, \"42\": 7, \"44\": 2, \"21\": 1, \"126\": 6, \"59\": 2, \"108\": 3, \"36\": 1, \"124\": 1, \"88\": 1}, \"121\": {\"121\": 21, \"120\": 2, \"39\": 1, \"117\": 4, \"113\": 2, \"42\": 1, \"65\": 3, \"2\": 2}, \"90\": {\"90\": 30, \"96\": 1, \"87\": 2, \"2\": 1}, \"124\": {\"124\": 24, \"8\": 5, \"71\": 1, \"42\": 1, \"13\": 1}, \"65\": {\"65\": 17, \"117\": 3}, \"61\": {\"61\": 12, \"42\": 1, \"40\": 1, \"24\": 1, \"78\": 1, \"126\": 1, \"20\": 1, \"37\": 2}, \"67\": {\"67\": 16}}, \"Wisig_1\": {\"30\": {\"30\": 11, \"69\": 1, \"5\": 1, \"6\": 3, \"3\": 2, \"27\": 1, \"52\": 2, \"128\": 1, \"112\": 1, \"70\": 1, \"101\": 1, \"44\": 1}, \"75\": {\"75\": 15, \"127\": 1}, \"70\": {\"70\": 18, \"60\": 2, \"89\": 1, \"109\": 3, \"21\": 2, \"29\": 3, \"20\": 2, \"124\": 9, \"3\": 1, \"49\": 1, \"9\": 1, \"108\": 1, \"31\": 1, \"128\": 3}, \"80\": {\"80\": 11, \"34\": 1, \"119\": 1, \"43\": 2, \"122\": 1}, \"116\": {\"116\": 19, \"39\": 1, \"90\": 3, \"27\": 1, \"102\": 3, \"11\": 2, \"94\": 1}, \"50\": {\"50\": 16}, \"0\": {\"0\": 22, \"35\": 1, \"110\": 1, \"85\": 9, \"39\": 1}, \"86\": {\"86\": 25, \"98\": 6, \"83\": 1, \"27\": 1, \"46\": 1, \"36\": 1, \"37\": 1}, \"69\": {\"69\": 21, \"50\": 1, \"65\": 2, \"118\": 1, \"102\": 3}, \"101\": {\"101\": 41, \"106\": 1}, \"17\": {\"17\": 12, \"107\": 2, \"4\": 2}, \"45\": {\"21\": 1, \"66\": 1, \"82\": 2, \"39\": 1, \"45\": 2, \"129\": 1, \"115\": 2, \"121\": 1, \"96\": 1}, \"106\": {\"106\": 27, \"23\": 1, \"91\": 2}, \"102\": {\"102\": 32, \"121\": 1, \"22\": 1, \"21\": 1, \"81\": 1, \"33\": 4}, \"128\": {\"101\": 1, \"115\": 1, \"47\": 2, \"82\": 3, \"128\": 8, \"29\": 3, \"25\": 1, \"1\": 1, \"42\": 2, \"114\": 1, \"72\": 1}, \"14\": {\"14\": 38, \"28\": 2}, \"28\": {\"28\": 20}, \"34\": {\"86\": 1, \"34\": 8, \"87\": 2, \"59\": 1, \"46\": 2, \"14\": 2, \"98\": 6, \"41\": 1, \"89\": 1, \"7\": 2, \"51\": 1, \"43\": 2, \"93\": 1, \"84\": 1, \"8\": 1}, \"49\": {\"111\": 5, \"49\": 2, \"31\": 2, \"71\": 3, \"106\": 1, \"20\": 1, \"128\": 1, \"103\": 1, \"73\": 1, \"9\": 2, \"124\": 1}, \"74\": {\"74\": 16}, \"79\": {\"79\": 11, \"100\": 1}, \"82\": {\"82\": 36}, \"61\": {\"102\": 1, \"61\": 10, \"11\": 1}, \"111\": {\"111\": 38, \"71\": 2, \"6\": 2}, \"19\": {\"19\": 19, \"64\": 1, \"70\": 2, \"42\": 1, \"82\": 3, \"128\": 1, \"84\": 1}, \"110\": {\"110\": 22, \"56\": 2, \"32\": 4, \"107\": 4, \"55\": 2, \"127\": 1, \"105\": 1}, \"108\": {\"49\": 1, \"109\": 3, \"108\": 21, \"39\": 1, \"9\": 2, \"44\": 1, \"47\": 1, \"70\": 3, \"24\": 1, \"121\": 1, \"73\": 1}, \"97\": {\"97\": 10, \"88\": 2, \"24\": 3, \"27\": 3, \"103\": 1, \"108\": 1}, \"11\": {\"11\": 21, \"33\": 3, \"60\": 2, \"121\": 1, \"113\": 1, \"116\": 1, \"39\": 1, \"21\": 1, \"82\": 1}, \"27\": {\"88\": 4, \"27\": 15, \"103\": 1, \"36\": 1, \"15\": 5, \"108\": 2, \"24\": 3, \"125\": 1, \"97\": 2}, \"67\": {\"67\": 12, \"50\": 3, \"126\": 1}, \"120\": {\"120\": 20}, \"83\": {\"86\": 1, \"70\": 1, \"83\": 19, \"72\": 1, \"21\": 2}, \"39\": {\"39\": 35, \"116\": 1, \"13\": 2, \"117\": 2, \"121\": 1, \"18\": 1, \"11\": 1, \"102\": 1}, \"109\": {\"109\": 28, \"23\": 1, \"126\": 1, \"45\": 1, \"2\": 1, \"108\": 1, \"96\": 2, \"42\": 1}, \"2\": {\"11\": 7, \"2\": 15, \"18\": 3, \"3\": 3, \"45\": 2, \"119\": 1, \"96\": 1}, \"85\": {\"85\": 18, \"92\": 2, \"0\": 6}, \"66\": {\"66\": 16}, \"35\": {\"35\": 9, \"34\": 1, \"48\": 2}, \"105\": {\"105\": 30, \"40\": 7, \"93\": 1}, \"23\": {\"110\": 2, \"115\": 1, \"25\": 4, \"100\": 5, \"23\": 1, \"99\": 1, \"32\": 3, \"58\": 1, \"1\": 1, \"3\": 1, \"113\": 1, \"127\": 1, \"93\": 1, \"42\": 1}, \"47\": {\"47\": 11, \"9\": 1}, \"56\": {\"56\": 11, \"75\": 1}, \"88\": {\"97\": 4, \"88\": 15, \"24\": 3, \"36\": 6, \"108\": 1, \"27\": 3, \"70\": 1, \"94\": 1}, \"91\": {\"68\": 4, \"91\": 15, \"106\": 3, \"42\": 1, \"86\": 1, \"52\": 1, \"112\": 1, \"6\": 1, \"71\": 1}, \"112\": {\"112\": 15, \"127\": 1}, \"115\": {\"115\": 12}, \"7\": {\"7\": 38, \"14\": 4}, \"13\": {\"13\": 13, \"39\": 3}, \"29\": {\"29\": 27, \"5\": 1}, \"68\": {\"68\": 16}, \"81\": {\"81\": 28}, \"72\": {\"72\": 32}, \"55\": {\"55\": 12}, \"77\": {\"77\": 16}, \"124\": {\"124\": 29, \"1\": 1, \"73\": 1, \"89\": 1, \"31\": 1, \"23\": 1}, \"18\": {\"18\": 30, \"39\": 4, \"3\": 2}, \"21\": {\"66\": 2, \"21\": 12, \"23\": 1, \"8\": 1, \"69\": 3, \"86\": 1, \"111\": 1, \"70\": 3, \"83\": 1, \"44\": 1, \"93\": 1, \"71\": 2, \"78\": 2, \"84\": 2, \"3\": 1, \"127\": 1, \"102\": 1, \"60\": 1, \"16\": 1}, \"16\": {\"16\": 19, \"117\": 5, \"26\": 4}, \"119\": {\"119\": 15, \"25\": 1}, \"3\": {\"3\": 22, \"20\": 1, \"45\": 2, \"11\": 3, \"5\": 1, \"82\": 2, \"115\": 2, \"129\": 1}, \"36\": {\"36\": 33, \"24\": 1, \"113\": 1, \"88\": 1}, \"95\": {\"109\": 1, \"95\": 24, \"21\": 1, \"117\": 5, \"39\": 1}, \"43\": {\"43\": 15, \"76\": 1, \"78\": 1, \"122\": 4, \"81\": 2, \"65\": 1, \"40\": 2, \"8\": 1, \"22\": 2, \"57\": 1, \"28\": 2}, \"92\": {\"92\": 28}, \"107\": {\"107\": 17, \"93\": 2, \"16\": 1, \"55\": 2}, \"129\": {\"5\": 6, \"3\": 1, \"19\": 3, \"129\": 9, \"109\": 2, \"44\": 1, \"100\": 1, \"72\": 3, \"2\": 2}, \"78\": {\"78\": 3, \"43\": 4, \"105\": 2, \"122\": 1, \"69\": 1, \"102\": 1, \"57\": 1, \"22\": 1, \"80\": 2}, \"48\": {\"57\": 2, \"48\": 10}, \"76\": {\"120\": 2, \"76\": 12, \"62\": 2}, \"57\": {\"57\": 12}, \"5\": {\"5\": 35, \"29\": 2, \"86\": 1, \"72\": 1, \"16\": 1}, \"53\": {\"53\": 20}, \"87\": {\"87\": 19, \"114\": 2, \"8\": 5, \"34\": 1, \"21\": 1, \"93\": 4, \"17\": 2}, \"98\": {\"98\": 30, \"86\": 2}, \"33\": {\"33\": 40}, \"31\": {\"31\": 14, \"39\": 1, \"45\": 1}, \"60\": {\"119\": 5, \"100\": 1, \"84\": 3, \"14\": 2, \"93\": 1, \"87\": 1, \"99\": 1, \"21\": 1, \"2\": 1}, \"1\": {\"1\": 30, \"128\": 2}, \"46\": {\"49\": 1, \"124\": 1, \"53\": 3, \"114\": 1, \"46\": 4, \"21\": 1, \"52\": 1}, \"100\": {\"100\": 15, \"79\": 1}, \"24\": {\"24\": 23, \"27\": 2, \"97\": 3, \"36\": 3, \"88\": 5, \"21\": 1, \"108\": 1}, \"51\": {\"51\": 13, \"6\": 2, \"30\": 1}, \"54\": {\"114\": 1, \"54\": 14, \"6\": 1}, \"114\": {\"114\": 31, \"83\": 2, \"124\": 1}, \"6\": {\"30\": 6, \"51\": 4, \"34\": 1, \"6\": 9, \"94\": 4, \"52\": 2, \"98\": 2, \"68\": 1, \"91\": 1, \"71\": 2}, \"15\": {\"94\": 4, \"15\": 17, \"27\": 6, \"125\": 1, \"6\": 1, \"71\": 1}, \"89\": {\"86\": 1, \"89\": 32, \"9\": 2, \"31\": 1}, \"93\": {\"93\": 12, \"84\": 2, \"87\": 3, \"4\": 6, \"110\": 1, \"14\": 1, \"34\": 1, \"107\": 3, \"105\": 2, \"7\": 2, \"90\": 1, \"17\": 2}, \"127\": {\"127\": 25, \"91\": 3, \"16\": 1, \"110\": 1, \"111\": 1, \"68\": 1}, \"71\": {\"6\": 5, \"71\": 20, \"59\": 2, \"11\": 1, \"121\": 1, \"111\": 2, \"94\": 1, \"100\": 1, \"52\": 1}, \"32\": {\"32\": 30, \"56\": 2}, \"63\": {\"63\": 16}, \"118\": {\"118\": 37, \"26\": 3}, \"12\": {\"71\": 2, \"12\": 26, \"111\": 1, \"5\": 1, \"68\": 1, \"126\": 1}, \"90\": {\"90\": 27, \"66\": 2, \"39\": 1}, \"104\": {\"104\": 16}, \"122\": {\"122\": 18, \"78\": 1, \"43\": 5, \"113\": 1, \"80\": 3, \"105\": 1, \"65\": 1, \"93\": 1, \"81\": 1}, \"64\": {\"64\": 16}, \"73\": {\"73\": 18, \"6\": 1, \"56\": 1}, \"58\": {\"56\": 3, \"58\": 7, \"53\": 1, \"110\": 1}, \"117\": {\"117\": 32, \"39\": 2, \"95\": 1, \"13\": 1}, \"26\": {\"26\": 32, \"16\": 1, \"21\": 1}, \"40\": {\"40\": 25, \"105\": 4, \"41\": 1}, \"84\": {\"84\": 40, \"7\": 1, \"8\": 1}, \"44\": {\"44\": 29, \"19\": 1, \"70\": 2, \"124\": 2}, \"94\": {\"126\": 1, \"94\": 18, \"15\": 6, \"5\": 1, \"71\": 1, \"125\": 1}, \"126\": {\"104\": 1, \"126\": 14, \"96\": 2, \"108\": 1, \"109\": 2}, \"20\": {\"20\": 12, \"66\": 1, \"82\": 2, \"94\": 1}, \"125\": {\"125\": 26, \"51\": 1, \"53\": 2, \"59\": 1, \"94\": 1, \"71\": 1}, \"41\": {\"41\": 16}, \"37\": {\"37\": 16}, \"42\": {\"100\": 2, \"42\": 7, \"109\": 6, \"5\": 2, \"119\": 1, \"34\": 1, \"25\": 1, \"2\": 2, \"8\": 1, \"129\": 2, \"83\": 1}, \"59\": {\"59\": 11, \"26\": 1}, \"25\": {\"25\": 16}, \"103\": {\"27\": 1, \"53\": 1, \"103\": 10, \"9\": 2, \"89\": 1, \"47\": 1}, \"4\": {\"4\": 27, \"107\": 2, \"41\": 1}, \"22\": {\"22\": 13, \"122\": 1, \"116\": 1, \"117\": 1}, \"113\": {\"113\": 20, \"123\": 2, \"95\": 2}, \"123\": {\"123\": 16}, \"96\": {\"96\": 17, \"104\": 1, \"99\": 1, \"109\": 1}, \"8\": {\"8\": 34, \"84\": 1, \"42\": 1, \"34\": 1, \"87\": 1, \"83\": 1, \"66\": 1}, \"10\": {\"10\": 23, \"85\": 3, \"121\": 1, \"122\": 1, \"0\": 6, \"74\": 1, \"70\": 1}, \"9\": {\"9\": 28, \"69\": 1, \"108\": 1, \"89\": 1, \"31\": 1}, \"99\": {\"99\": 24}, \"121\": {\"16\": 2, \"121\": 17, \"95\": 5, \"13\": 1, \"117\": 6, \"59\": 1}, \"52\": {\"52\": 14, \"71\": 1, \"101\": 1, \"109\": 1, \"30\": 1}, \"62\": {\"62\": 24}, \"65\": {\"95\": 1, \"122\": 4, \"43\": 4, \"117\": 1, \"16\": 2}, \"38\": {\"38\": 15, \"76\": 1}}, \"Wisig_4\": {\"124\": {\"8\": 3, \"124\": 29, \"129\": 2, \"60\": 1, \"70\": 2, \"88\": 1, \"128\": 2, \"71\": 3, \"49\": 1}, \"106\": {\"106\": 33, \"23\": 1, \"129\": 1, \"91\": 1, \"40\": 1, \"12\": 4, \"21\": 1, \"8\": 1, \"111\": 1}, \"89\": {\"107\": 6, \"89\": 22, \"14\": 1, \"7\": 2, \"21\": 1}, \"68\": {\"68\": 13, \"21\": 1, \"12\": 2}, \"123\": {\"123\": 9, \"97\": 1, \"126\": 2, \"63\": 4}, \"16\": {\"16\": 35, \"109\": 2, \"126\": 1, \"84\": 3, \"69\": 2, \"21\": 3}, \"65\": {\"32\": 1, \"65\": 11}, \"23\": {\"2\": 1, \"23\": 1, \"124\": 1, \"34\": 1, \"127\": 1, \"60\": 1, \"123\": 3, \"97\": 1, \"77\": 1, \"92\": 1, \"21\": 1, \"68\": 1, \"91\": 1, \"8\": 1}, \"1\": {\"128\": 3, \"71\": 3, \"124\": 2, \"19\": 1, \"114\": 4, \"1\": 24, \"72\": 1, \"29\": 1, \"43\": 1, \"78\": 1, \"108\": 1}, \"87\": {\"87\": 18, \"72\": 2, \"122\": 3, \"105\": 8, \"66\": 2, \"107\": 5, \"110\": 2, \"32\": 1, \"115\": 1, \"43\": 1, \"120\": 1}, \"40\": {\"40\": 36, \"107\": 6, \"120\": 2}, \"107\": {\"107\": 39, \"40\": 2, \"105\": 5, \"87\": 2, \"115\": 2}, \"2\": {\"65\": 2, \"2\": 8, \"117\": 1, \"90\": 2, \"108\": 2, \"81\": 2, \"78\": 1, \"63\": 1, \"26\": 2, \"44\": 1, \"93\": 1, \"11\": 1}, \"56\": {\"56\": 12}, \"109\": {\"109\": 22, \"16\": 3, \"118\": 7, \"31\": 2, \"40\": 1, \"62\": 3, \"122\": 1, \"69\": 5, \"84\": 1, \"14\": 2, \"39\": 1}, \"74\": {\"23\": 1, \"74\": 12, \"38\": 1, \"2\": 1, \"78\": 1}, \"83\": {\"83\": 22, \"42\": 1, \"78\": 1, \"5\": 3, \"112\": 1}, \"50\": {\"50\": 13, \"46\": 1, \"28\": 1, \"86\": 1}, \"53\": {\"53\": 11, \"21\": 1, \"12\": 1, \"8\": 1, \"70\": 2}, \"4\": {\"4\": 35, \"86\": 4, \"95\": 3, \"21\": 2, \"127\": 2}, \"84\": {\"102\": 6, \"84\": 40, \"116\": 1, \"117\": 1, \"92\": 1, \"21\": 2, \"43\": 1}, \"128\": {\"128\": 12, \"71\": 6, \"1\": 1, \"52\": 1, \"19\": 1, \"100\": 2, \"129\": 1}, \"46\": {\"46\": 14, \"87\": 1, \"76\": 1, \"129\": 1, \"3\": 1, \"40\": 1, \"114\": 1}, \"36\": {\"10\": 1, \"36\": 22, \"25\": 2, \"24\": 9, \"97\": 4, \"54\": 1, \"15\": 1, \"85\": 1, \"94\": 1, \"14\": 1, \"21\": 1}, \"8\": {\"52\": 6, \"8\": 24, \"49\": 2, \"108\": 2, \"124\": 7, \"46\": 1, \"111\": 4, \"12\": 1, \"88\": 1, \"60\": 1, \"85\": 1, \"14\": 1, \"30\": 1}, \"115\": {\"120\": 2, \"107\": 4, \"115\": 9, \"33\": 1}, \"95\": {\"4\": 3, \"127\": 2, \"95\": 22, \"21\": 1, \"29\": 1, \"86\": 2, \"108\": 1}, \"127\": {\"23\": 1, \"127\": 33, \"4\": 3, \"29\": 1, \"21\": 1, \"7\": 1, \"95\": 1, \"126\": 1}, \"32\": {\"22\": 4, \"89\": 8, \"32\": 14, \"120\": 1, \"55\": 1}, \"108\": {\"108\": 11, \"5\": 7, \"49\": 1, \"114\": 1, \"126\": 2, \"8\": 1, \"73\": 3, \"88\": 2, \"36\": 1, \"93\": 3, \"70\": 1, \"20\": 1, \"78\": 1, \"11\": 3, \"66\": 1, \"129\": 1, \"23\": 1, \"21\": 1}, \"59\": {\"59\": 1, \"125\": 6, \"106\": 2, \"94\": 2, \"15\": 1}, \"76\": {\"76\": 14, \"32\": 2}, \"15\": {\"15\": 26, \"51\": 1, \"9\": 1, \"30\": 2, \"36\": 1, \"78\": 1, \"6\": 4, \"27\": 1, \"94\": 1, \"10\": 1, \"125\": 1}, \"103\": {\"52\": 4, \"103\": 5, \"91\": 3, \"8\": 1, \"117\": 1, \"68\": 1, \"78\": 1}, \"37\": {\"37\": 14, \"105\": 1, \"4\": 1}, \"22\": {\"22\": 14, \"14\": 2}, \"91\": {\"103\": 4, \"91\": 14, \"12\": 5, \"68\": 1}, \"28\": {\"28\": 20}, \"55\": {\"55\": 16}, \"63\": {\"63\": 15, \"48\": 1}, \"60\": {\"74\": 3, \"8\": 4, \"108\": 1, \"20\": 3, \"60\": 4, \"72\": 3, \"124\": 2, \"23\": 1, \"44\": 3, \"110\": 1, \"11\": 1, \"49\": 1, \"19\": 3, \"100\": 1, \"119\": 1}, \"111\": {\"1\": 1, \"111\": 43}, \"120\": {\"120\": 16, \"107\": 1, \"87\": 3}, \"80\": {\"80\": 16}, \"110\": {\"20\": 1, \"110\": 22, \"116\": 1, \"74\": 1, \"72\": 6, \"90\": 1, \"100\": 1, \"21\": 1, \"43\": 4, \"19\": 3, \"78\": 1}, \"102\": {\"102\": 38, \"45\": 2, \"43\": 1, \"122\": 1}, \"51\": {\"125\": 3, \"47\": 1, \"98\": 3, \"58\": 1, \"21\": 2, \"51\": 1, \"97\": 1, \"30\": 3, \"12\": 1}, \"85\": {\"85\": 26, \"98\": 2}, \"71\": {\"71\": 26, \"128\": 3, \"114\": 4, \"108\": 1, \"8\": 1, \"21\": 1}, \"20\": {\"80\": 2, \"1\": 1, \"20\": 10, \"108\": 2, \"74\": 1}, \"10\": {\"10\": 10, \"59\": 1, \"70\": 3, \"93\": 1, \"58\": 1, \"108\": 1, \"75\": 2, \"94\": 7, \"15\": 6, \"6\": 2, \"30\": 1, \"88\": 2, \"8\": 2, \"23\": 2, \"7\": 1, \"27\": 2}, \"52\": {\"52\": 15, \"33\": 1, \"111\": 1, \"40\": 1, \"8\": 1, \"106\": 1}, \"45\": {\"45\": 16}, \"75\": {\"75\": 16}, \"98\": {\"98\": 33, \"12\": 1, \"10\": 2, \"129\": 1, \"15\": 1}, \"13\": {\"13\": 15, \"74\": 1}, \"125\": {\"125\": 38, \"54\": 1, \"47\": 1, \"10\": 1, \"94\": 1}, \"54\": {\"54\": 15, \"94\": 1}, \"49\": {\"5\": 2, \"53\": 2, \"49\": 5, \"20\": 1, \"83\": 1, \"79\": 3, \"15\": 1, \"8\": 4, \"111\": 3, \"11\": 7, \"27\": 1, \"124\": 1, \"30\": 1}, \"18\": {\"18\": 36, \"81\": 1, \"26\": 1}, \"30\": {\"75\": 1, \"47\": 1, \"30\": 19, \"108\": 1, \"58\": 1, \"33\": 1, \"94\": 1, \"8\": 1, \"6\": 2, \"10\": 7, \"15\": 4, \"111\": 1, \"68\": 2, \"85\": 1, \"53\": 1, \"78\": 1, \"119\": 1}, \"72\": {\"72\": 29, \"46\": 2, \"19\": 1}, \"117\": {\"117\": 29, \"81\": 5, \"18\": 4, \"121\": 2}, \"38\": {\"38\": 14, \"125\": 1, \"25\": 1}, \"17\": {\"17\": 14, \"104\": 2, \"82\": 2, \"40\": 2}, \"118\": {\"118\": 21, \"31\": 3, \"109\": 4, \"32\": 1, \"62\": 7, \"21\": 1, \"76\": 1, \"92\": 1, \"69\": 6, \"14\": 1}, \"9\": {\"9\": 28}, \"101\": {\"101\": 30, \"7\": 1, \"0\": 10, \"86\": 1}, \"112\": {\"112\": 13, \"70\": 2, \"39\": 1}, \"12\": {\"12\": 27, \"114\": 1, \"100\": 1, \"30\": 1, \"111\": 3, \"106\": 3, \"78\": 1, \"118\": 1, \"32\": 1, \"85\": 1}, \"92\": {\"92\": 24, \"16\": 3, \"118\": 1}, \"3\": {\"21\": 1, \"3\": 29, \"8\": 1, \"19\": 2, \"60\": 1, \"114\": 1, \"124\": 1}, \"33\": {\"33\": 37, \"21\": 1, \"115\": 1, \"102\": 1, \"99\": 2}, \"114\": {\"114\": 32, \"124\": 2, \"71\": 6}, \"126\": {\"126\": 27, \"39\": 3, \"121\": 1, \"21\": 1, \"63\": 3, \"74\": 1, \"113\": 5, \"26\": 1}, \"47\": {\"47\": 7, \"9\": 1, \"75\": 2, \"112\": 1, \"58\": 1}, \"19\": {\"19\": 8, \"124\": 4, \"108\": 1, \"73\": 3, \"100\": 2, \"72\": 2, \"114\": 1, \"20\": 1, \"93\": 1, \"3\": 1, \"129\": 2, \"128\": 1, \"5\": 1}, \"66\": {\"74\": 2, \"66\": 7, \"90\": 2, \"43\": 2, \"78\": 2, \"116\": 1}, \"93\": {\"66\": 1, \"108\": 6, \"73\": 2, \"93\": 23, \"5\": 1, \"90\": 1, \"70\": 1, \"88\": 1}, \"113\": {\"39\": 4, \"113\": 29, \"117\": 3, \"126\": 5, \"21\": 1}, \"5\": {\"5\": 40, \"73\": 1, \"108\": 1}, \"116\": {\"13\": 2, \"116\": 17, \"66\": 2, \"43\": 3, \"84\": 1, \"74\": 1, \"45\": 1, \"90\": 1}, \"21\": {\"21\": 33, \"110\": 1, \"108\": 1, \"23\": 1}, \"70\": {\"49\": 6, \"42\": 2, \"70\": 7, \"8\": 6, \"119\": 1, \"114\": 1, \"129\": 3, \"93\": 2, \"27\": 1, \"3\": 2, \"108\": 4, \"98\": 1, \"124\": 2, \"87\": 1, \"26\": 1, \"106\": 1, \"88\": 1}, \"39\": {\"39\": 14, \"63\": 2, \"113\": 6, \"21\": 3, \"117\": 2, \"81\": 4, \"126\": 1, \"121\": 1, \"23\": 1, \"16\": 1, \"18\": 1}, \"42\": {\"112\": 1, \"53\": 2, \"70\": 2, \"42\": 7, \"9\": 1, \"129\": 1, \"111\": 3, \"106\": 2, \"83\": 1, \"124\": 2, \"88\": 2, \"8\": 3, \"12\": 1}, \"100\": {\"100\": 13, \"129\": 1, \"119\": 2, \"19\": 3, \"32\": 1}, \"62\": {\"62\": 29, \"78\": 2, \"118\": 9, \"23\": 1, \"109\": 1, \"108\": 1, \"34\": 1}, \"96\": {\"96\": 15, \"90\": 1, \"116\": 1, \"45\": 1, \"66\": 1, \"47\": 1}, \"26\": {\"26\": 33, \"18\": 4, \"35\": 2, \"65\": 1, \"39\": 1, \"81\": 1}, \"14\": {\"14\": 39, \"107\": 3, \"99\": 1, \"32\": 1, \"89\": 1, \"122\": 1}, \"104\": {\"17\": 1, \"104\": 15}, \"67\": {\"31\": 2, \"123\": 2, \"63\": 1, \"113\": 2, \"32\": 2, \"69\": 3, \"76\": 2, \"118\": 1, \"48\": 1}, \"90\": {\"90\": 34, \"102\": 1, \"26\": 1}, \"41\": {\"41\": 8, \"91\": 3, \"8\": 2, \"12\": 1, \"47\": 1, \"39\": 1}, \"97\": {\"32\": 3, \"24\": 1, \"36\": 2, \"97\": 4, \"27\": 2, \"15\": 1, \"25\": 1, \"108\": 1, \"59\": 2, \"10\": 1, \"54\": 1, \"9\": 1}, \"58\": {\"58\": 13, \"47\": 2, \"96\": 1}, \"105\": {\"105\": 25, \"107\": 6, \"87\": 5, \"40\": 2, \"69\": 1, \"89\": 1}, \"94\": {\"51\": 1, \"94\": 19, \"6\": 3, \"25\": 1, \"15\": 4, \"10\": 4, \"125\": 2, \"88\": 1, \"36\": 1, \"54\": 1, \"30\": 1}, \"64\": {\"64\": 14, \"40\": 1, \"69\": 1}, \"31\": {\"31\": 10, \"118\": 4, \"21\": 1, \"78\": 1}, \"122\": {\"122\": 19, \"43\": 6, \"14\": 4, \"87\": 1, \"21\": 3, \"99\": 2, \"96\": 3, \"102\": 1, \"93\": 1, \"45\": 1, \"109\": 1}, \"44\": {\"44\": 33, \"121\": 1, \"18\": 1, \"113\": 1}, \"81\": {\"81\": 32, \"18\": 3, \"21\": 1}, \"86\": {\"4\": 3, \"86\": 23, \"127\": 1, \"95\": 1}, \"29\": {\"29\": 31, \"127\": 1}, \"7\": {\"89\": 1, \"4\": 3, \"7\": 30, \"21\": 1, \"105\": 3, \"86\": 1, \"26\": 1}, \"35\": {\"35\": 9, \"61\": 1, \"26\": 2}, \"57\": {\"57\": 16}, \"0\": {\"0\": 20, \"4\": 1, \"101\": 12, \"7\": 2, \"89\": 2, \"21\": 1, \"86\": 1, \"126\": 1}, \"24\": {\"59\": 2, \"10\": 3, \"36\": 9, \"24\": 10, \"78\": 2, \"27\": 2, \"97\": 1, \"94\": 3, \"70\": 2}, \"78\": {\"96\": 1, \"116\": 1, \"110\": 1, \"23\": 2, \"87\": 5, \"39\": 3, \"78\": 7, \"30\": 1, \"33\": 2, \"69\": 1, \"43\": 3, \"21\": 3, \"93\": 1, \"71\": 1, \"126\": 2, \"108\": 1, \"128\": 1}, \"77\": {\"77\": 12}, \"88\": {\"88\": 13, \"33\": 2, \"78\": 4, \"114\": 1, \"27\": 2, \"70\": 7, \"109\": 1, \"39\": 1, \"93\": 2, \"126\": 1, \"108\": 1, \"42\": 2, \"60\": 1, \"49\": 1, \"8\": 1, \"3\": 1, \"113\": 1}, \"121\": {\"113\": 5, \"121\": 10, \"81\": 4, \"57\": 2, \"2\": 2, \"39\": 1, \"117\": 2, \"67\": 1, \"126\": 1}, \"82\": {\"82\": 23, \"40\": 2, \"3\": 1, \"32\": 2}, \"129\": {\"129\": 12, \"8\": 3, \"19\": 4, \"119\": 1, \"73\": 2, \"3\": 2, \"20\": 1, \"108\": 2, \"70\": 1}, \"43\": {\"102\": 1, \"110\": 5, \"33\": 8, \"90\": 2, \"115\": 3, \"87\": 4, \"122\": 7, \"78\": 5, \"43\": 6, \"99\": 1, \"2\": 1, \"20\": 1, \"96\": 1, \"66\": 1}, \"73\": {\"73\": 20, \"5\": 4}, \"25\": {\"25\": 16}, \"61\": {\"61\": 10, \"35\": 2, \"26\": 2, \"65\": 1, \"81\": 1}, \"79\": {\"70\": 1, \"79\": 13, \"88\": 1, \"21\": 1}, \"119\": {\"119\": 12, \"70\": 1, \"100\": 3}, \"34\": {\"87\": 2, \"34\": 9, \"75\": 2, \"125\": 1, \"107\": 1, \"71\": 2, \"78\": 2, \"7\": 3, \"47\": 1, \"1\": 1, \"4\": 1, \"37\": 1, \"6\": 1, \"128\": 1, \"12\": 2}, \"27\": {\"70\": 3, \"27\": 12, \"6\": 1, \"88\": 1, \"98\": 1, \"8\": 2, \"9\": 3, \"42\": 2, \"16\": 1, \"21\": 1, \"108\": 1, \"24\": 1, \"10\": 1}, \"11\": {\"20\": 1, \"11\": 27, \"73\": 1, \"88\": 4, \"79\": 3, \"108\": 3, \"5\": 1, \"70\": 2}, \"48\": {\"48\": 14, \"80\": 1, \"32\": 1}, \"6\": {\"12\": 2, \"75\": 3, \"6\": 9, \"91\": 1, \"15\": 2, \"125\": 3, \"10\": 1, \"47\": 1, \"106\": 1, \"85\": 1}, \"99\": {\"99\": 32, \"122\": 1, \"33\": 1, \"102\": 1, \"43\": 1}, \"69\": {\"69\": 29, \"92\": 1, \"16\": 2, \"118\": 2, \"21\": 1, \"32\": 2, \"31\": 1}}}, \"per_domain_accuracy\": {\"CORES_4\": {\"accuracy\": 0.9956896551724138, \"source?\": true}, \"CORES_5\": {\"accuracy\": 0.9939655172413793, \"source?\": true}, \"CORES_2\": {\"accuracy\": 0.9991379310344828, \"source?\": true}, \"CORES_1\": {\"accuracy\": 0.9978448275862069, \"source?\": true}, \"CORES_3\": {\"accuracy\": 1.0, \"source?\": true}, \"Wisig_3\": {\"accuracy\": 0.7338362068965517, \"source?\": false}, \"Wisig_2\": {\"accuracy\": 0.6944726166328601, \"source?\": false}, \"Wisig_1\": {\"accuracy\": 0.7464328180737217, \"source?\": false}, \"Wisig_4\": {\"accuracy\": 0.6507314524555904, \"source?\": false}}}, \"history\": {\"epoch_indices\": [1, 2, 3], \"train_label_loss\": [0.303702219856367, 0.01195230385244816, 0.018966905743561444], \"source_val_label_loss\": [0.025402246043086052, 0.01966589316725731, 0.010598424822092056], \"target_val_label_loss\": [1.8918030261993408, 3.3107638359069824, 4.438794136047363], \"source_val_acc_label\": [0.9973060344827587, 0.9942528735632183, 0.9964080459770115], \"target_val_acc_label\": [0.7048087284482759, 0.6672279094827587, 0.6669585129310345]}, \"dataset_metrics\": {\"source\": {\"train\": {\"n_unique_x\": 75802, \"n_unique_y\": 58, \"n_batch/episode\": 351}, \"val\": {\"n_unique_x\": 11821, \"n_unique_y\": 58, \"n_batch/episode\": 48}, \"test\": {\"n_unique_x\": 12320, \"n_unique_y\": 58, \"n_batch/episode\": 50}}, \"target\": {\"train\": {\"n_unique_x\": 139768, \"n_unique_y\": 130, \"n_batch/episode\": 903}, \"val\": {\"n_unique_x\": 25930, \"n_unique_y\": 130, \"n_batch/episode\": 128}, \"test\": {\"n_unique_x\": 27403, \"n_unique_y\": 130, \"n_batch/episode\": 136}}}}'"
      ]
     },
     "execution_count": 29,
     "metadata": {},
     "output_type": "execute_result"
    }
   ],
   "source": [
    "json.dumps(experiment)"
   ]
  }
 ],
 "metadata": {
  "celltoolbar": "Tags",
  "kernelspec": {
   "display_name": "Python 3 (ipykernel)",
   "language": "python",
   "name": "python3"
  },
  "language_info": {
   "codemirror_mode": {
    "name": "ipython",
    "version": 3
   },
   "file_extension": ".py",
   "mimetype": "text/x-python",
   "name": "python",
   "nbconvert_exporter": "python",
   "pygments_lexer": "ipython3",
   "version": "3.8.12"
  },
  "papermill": {
   "default_parameters": {},
   "duration": 245.175149,
   "end_time": "2022-03-21T02:33:39.944538",
   "environment_variables": {},
   "exception": null,
   "input_path": "/root/csc500-main/csc500-notebooks/templates/tl_ptn_template.ipynb",
   "output_path": "trial.ipynb",
   "parameters": {
    "parameters": {
     "BEST_MODEL_PATH": "./best_model.pth",
     "NUM_LOGS_PER_EPOCH": 10,
     "criteria_for_best": "target_accuracy",
     "dataset_seed": 420,
     "datasets": [
      {
       "domain_prefix": "CORES_",
       "domains": [
        1,
        2,
        3,
        4,
        5
       ],
       "episode_transforms": [],
       "labels": [
        "1-10.",
        "1-11.",
        "1-15.",
        "1-16.",
        "1-17.",
        "1-18.",
        "1-19.",
        "10-4.",
        "10-7.",
        "11-1.",
        "11-14.",
        "11-17.",
        "11-20.",
        "11-7.",
        "13-20.",
        "13-8.",
        "14-10.",
        "14-11.",
        "14-14.",
        "14-7.",
        "15-1.",
        "15-20.",
        "16-1.",
        "16-16.",
        "17-10.",
        "17-11.",
        "17-2.",
        "19-1.",
        "19-16.",
        "19-19.",
        "19-20.",
        "19-3.",
        "2-10.",
        "2-11.",
        "2-17.",
        "2-18.",
        "2-20.",
        "2-3.",
        "2-4.",
        "2-5.",
        "2-6.",
        "2-7.",
        "2-8.",
        "3-13.",
        "3-18.",
        "3-3.",
        "4-1.",
        "4-10.",
        "4-11.",
        "4-19.",
        "5-5.",
        "6-15.",
        "7-10.",
        "7-14.",
        "8-18.",
        "8-20.",
        "8-3.",
        "8-8."
       ],
       "num_examples_per_domain_per_label": -1,
       "pickle_path": "/root/csc500-main/datasets/cores.stratified_ds.2022A.pkl",
       "source_or_target_dataset": "source",
       "x_transforms": [
        "unit_power"
       ]
      },
      {
       "domain_prefix": "Wisig_",
       "domains": [
        1,
        2,
        3,
        4
       ],
       "episode_transforms": [],
       "labels": [
        "1-10",
        "1-12",
        "1-14",
        "1-16",
        "1-18",
        "1-19",
        "1-8",
        "10-11",
        "10-17",
        "10-4",
        "10-7",
        "11-1",
        "11-10",
        "11-19",
        "11-20",
        "11-4",
        "11-7",
        "12-19",
        "12-20",
        "12-7",
        "13-14",
        "13-18",
        "13-19",
        "13-20",
        "13-3",
        "13-7",
        "14-10",
        "14-11",
        "14-12",
        "14-13",
        "14-14",
        "14-19",
        "14-20",
        "14-7",
        "14-8",
        "14-9",
        "15-1",
        "15-19",
        "15-6",
        "16-1",
        "16-16",
        "16-19",
        "16-20",
        "17-10",
        "17-11",
        "18-1",
        "18-10",
        "18-11",
        "18-12",
        "18-13",
        "18-14",
        "18-15",
        "18-16",
        "18-17",
        "18-19",
        "18-2",
        "18-20",
        "18-4",
        "18-5",
        "18-7",
        "18-8",
        "18-9",
        "19-1",
        "19-10",
        "19-11",
        "19-12",
        "19-13",
        "19-14",
        "19-15",
        "19-19",
        "19-2",
        "19-20",
        "19-3",
        "19-4",
        "19-6",
        "19-7",
        "19-8",
        "19-9",
        "2-1",
        "2-13",
        "2-15",
        "2-3",
        "2-4",
        "2-5",
        "2-6",
        "2-7",
        "2-8",
        "20-1",
        "20-12",
        "20-14",
        "20-15",
        "20-16",
        "20-18",
        "20-19",
        "20-20",
        "20-3",
        "20-4",
        "20-5",
        "20-7",
        "20-8",
        "3-1",
        "3-13",
        "3-18",
        "3-2",
        "3-8",
        "4-1",
        "4-10",
        "4-11",
        "5-1",
        "5-5",
        "6-1",
        "6-15",
        "6-6",
        "7-10",
        "7-11",
        "7-12",
        "7-13",
        "7-14",
        "7-7",
        "7-8",
        "7-9",
        "8-1",
        "8-13",
        "8-14",
        "8-18",
        "8-20",
        "8-3",
        "8-8",
        "9-1",
        "9-7"
       ],
       "num_examples_per_domain_per_label": -1,
       "pickle_path": "/root/csc500-main/datasets/wisig.node3-19.stratified_ds.2022A.pkl",
       "source_or_target_dataset": "target",
       "x_transforms": [
        "unit_power"
       ]
      }
     ],
     "device": "cuda",
     "experiment_name": "tl_1v2:cores-wisig",
     "lr": 0.0001,
     "n_epoch": 3,
     "n_query": 2,
     "n_shot": 3,
     "n_way": 58,
     "patience": 3,
     "seed": 420,
     "test_k_factor": 2,
     "torch_default_dtype": "torch.float32",
     "train_k_factor": 3,
     "val_k_factor": 2,
     "x_net": [
      {
       "class": "nnReshape",
       "kargs": {
        "shape": [
         -1,
         1,
         2,
         256
        ]
       }
      },
      {
       "class": "Conv2d",
       "kargs": {
        "bias": false,
        "in_channels": 1,
        "kernel_size": [
         1,
         7
        ],
        "out_channels": 256,
        "padding": [
         0,
         3
        ]
       }
      },
      {
       "class": "ReLU",
       "kargs": {
        "inplace": true
       }
      },
      {
       "class": "BatchNorm2d",
       "kargs": {
        "num_features": 256
       }
      },
      {
       "class": "Conv2d",
       "kargs": {
        "bias": true,
        "in_channels": 256,
        "kernel_size": [
         2,
         7
        ],
        "out_channels": 80,
        "padding": [
         0,
         3
        ]
       }
      },
      {
       "class": "ReLU",
       "kargs": {
        "inplace": true
       }
      },
      {
       "class": "BatchNorm2d",
       "kargs": {
        "num_features": 80
       }
      },
      {
       "class": "Flatten",
       "kargs": {}
      },
      {
       "class": "Linear",
       "kargs": {
        "in_features": 20480,
        "out_features": 256
       }
      },
      {
       "class": "ReLU",
       "kargs": {
        "inplace": true
       }
      },
      {
       "class": "BatchNorm1d",
       "kargs": {
        "num_features": 256
       }
      },
      {
       "class": "Linear",
       "kargs": {
        "in_features": 256,
        "out_features": 256
       }
      }
     ]
    }
   },
   "start_time": "2022-03-21T02:29:34.769389",
   "version": "2.3.4"
  }
 },
 "nbformat": 4,
 "nbformat_minor": 5
}