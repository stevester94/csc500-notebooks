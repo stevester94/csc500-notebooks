{
 "cells": [
  {
   "cell_type": "markdown",
   "id": "9fea5f46",
   "metadata": {
    "papermill": {
     "duration": 0.030157,
     "end_time": "2022-03-21T04:23:18.958992",
     "exception": false,
     "start_time": "2022-03-21T04:23:18.928835",
     "status": "completed"
    },
    "tags": []
   },
   "source": [
    "# Transfer Learning Template"
   ]
  },
  {
   "cell_type": "code",
   "execution_count": 1,
   "id": "0902182a",
   "metadata": {
    "execution": {
     "iopub.execute_input": "2022-03-21T04:23:19.026659Z",
     "iopub.status.busy": "2022-03-21T04:23:19.025789Z",
     "iopub.status.idle": "2022-03-21T04:23:21.023394Z",
     "shell.execute_reply": "2022-03-21T04:23:21.022967Z"
    },
    "papermill": {
     "duration": 2.040113,
     "end_time": "2022-03-21T04:23:21.023503",
     "exception": false,
     "start_time": "2022-03-21T04:23:18.983390",
     "status": "completed"
    },
    "tags": []
   },
   "outputs": [],
   "source": [
    "%load_ext autoreload\n",
    "%autoreload 2\n",
    "%matplotlib inline\n",
    "\n",
    "    \n",
    "import os, json, sys, time, random\n",
    "import numpy as np\n",
    "import torch\n",
    "from torch.optim import Adam\n",
    "from  easydict import EasyDict\n",
    "import matplotlib.pyplot as plt\n",
    "\n",
    "from steves_models.steves_ptn import Steves_Prototypical_Network\n",
    "\n",
    "from steves_utils.lazy_iterable_wrapper import Lazy_Iterable_Wrapper\n",
    "from steves_utils.iterable_aggregator import Iterable_Aggregator\n",
    "from steves_utils.ptn_train_eval_test_jig import  PTN_Train_Eval_Test_Jig\n",
    "from steves_utils.torch_sequential_builder import build_sequential\n",
    "from steves_utils.torch_utils import get_dataset_metrics, ptn_confusion_by_domain_over_dataloader\n",
    "from steves_utils.utils_v2 import (per_domain_accuracy_from_confusion, get_datasets_base_path)\n",
    "from steves_utils.PTN.utils import independent_accuracy_assesment\n",
    "\n",
    "from torch.utils.data import DataLoader\n",
    "\n",
    "from steves_utils.stratified_dataset.episodic_accessor import Episodic_Accessor_Factory\n",
    "\n",
    "from steves_utils.ptn_do_report import (\n",
    "    get_loss_curve,\n",
    "    get_results_table,\n",
    "    get_parameters_table,\n",
    "    get_domain_accuracies,\n",
    ")\n",
    "\n",
    "from steves_utils.transforms import get_chained_transform"
   ]
  },
  {
   "cell_type": "markdown",
   "id": "41c840b4",
   "metadata": {
    "papermill": {
     "duration": 0.019967,
     "end_time": "2022-03-21T04:23:21.064244",
     "exception": false,
     "start_time": "2022-03-21T04:23:21.044277",
     "status": "completed"
    },
    "tags": []
   },
   "source": [
    "# Allowed Parameters\n",
    "These are allowed parameters, not defaults\n",
    "Each of these values need to be present in the injected parameters (the notebook will raise an exception if they are not present)\n",
    "\n",
    "Papermill uses the cell tag \"parameters\" to inject the real parameters below this cell.\n",
    "Enable tags to see what I mean"
   ]
  },
  {
   "cell_type": "code",
   "execution_count": 2,
   "id": "fd44eb83",
   "metadata": {
    "execution": {
     "iopub.execute_input": "2022-03-21T04:23:21.109985Z",
     "iopub.status.busy": "2022-03-21T04:23:21.109592Z",
     "iopub.status.idle": "2022-03-21T04:23:21.132137Z",
     "shell.execute_reply": "2022-03-21T04:23:21.131374Z"
    },
    "papermill": {
     "duration": 0.047939,
     "end_time": "2022-03-21T04:23:21.132303",
     "exception": false,
     "start_time": "2022-03-21T04:23:21.084364",
     "status": "completed"
    },
    "tags": []
   },
   "outputs": [],
   "source": [
    "required_parameters = {\n",
    "    \"experiment_name\",\n",
    "    \"lr\",\n",
    "    \"device\",\n",
    "    \"seed\",\n",
    "    \"dataset_seed\",\n",
    "    \"n_shot\",\n",
    "    \"n_query\",\n",
    "    \"n_way\",\n",
    "    \"train_k_factor\",\n",
    "    \"val_k_factor\",\n",
    "    \"test_k_factor\",\n",
    "    \"n_epoch\",\n",
    "    \"patience\",\n",
    "    \"criteria_for_best\",\n",
    "    \"x_net\",\n",
    "    \"datasets\",\n",
    "    \"torch_default_dtype\",\n",
    "    \"NUM_LOGS_PER_EPOCH\",\n",
    "    \"BEST_MODEL_PATH\",\n",
    "    \"x_shape\",\n",
    "}"
   ]
  },
  {
   "cell_type": "code",
   "execution_count": 3,
   "id": "fa3f0049",
   "metadata": {
    "execution": {
     "iopub.execute_input": "2022-03-21T04:23:21.193890Z",
     "iopub.status.busy": "2022-03-21T04:23:21.192954Z",
     "iopub.status.idle": "2022-03-21T04:23:21.212734Z",
     "shell.execute_reply": "2022-03-21T04:23:21.211840Z"
    },
    "papermill": {
     "duration": 0.053807,
     "end_time": "2022-03-21T04:23:21.212900",
     "exception": false,
     "start_time": "2022-03-21T04:23:21.159093",
     "status": "completed"
    },
    "tags": [
     "parameters"
    ]
   },
   "outputs": [],
   "source": [
    "from steves_utils.CORES.utils import (\n",
    "    ALL_NODES,\n",
    "    ALL_NODES_MINIMUM_1000_EXAMPLES,\n",
    "    ALL_DAYS\n",
    ")\n",
    "\n",
    "from steves_utils.ORACLE.utils_v2 import (\n",
    "    ALL_DISTANCES_FEET_NARROWED,\n",
    "    ALL_RUNS,\n",
    "    ALL_SERIAL_NUMBERS,\n",
    ")\n",
    "\n",
    "standalone_parameters = {}\n",
    "standalone_parameters[\"experiment_name\"] = \"STANDALONE PTN\"\n",
    "standalone_parameters[\"lr\"] = 0.001\n",
    "standalone_parameters[\"device\"] = \"cuda\"\n",
    "\n",
    "standalone_parameters[\"seed\"] = 1337\n",
    "standalone_parameters[\"dataset_seed\"] = 1337\n",
    "\n",
    "standalone_parameters[\"n_way\"] = 8\n",
    "standalone_parameters[\"n_shot\"] = 3\n",
    "standalone_parameters[\"n_query\"]  = 2\n",
    "standalone_parameters[\"train_k_factor\"] = 1\n",
    "standalone_parameters[\"val_k_factor\"] = 2\n",
    "standalone_parameters[\"test_k_factor\"] = 2\n",
    "\n",
    "\n",
    "standalone_parameters[\"n_epoch\"] = 50\n",
    "\n",
    "standalone_parameters[\"patience\"] = 10\n",
    "standalone_parameters[\"criteria_for_best\"] = \"source_loss\"\n",
    "\n",
    "standalone_parameters[\"datasets\"] = [\n",
    "    {\n",
    "        \"labels\": ALL_SERIAL_NUMBERS,\n",
    "        \"domains\": ALL_DISTANCES_FEET_NARROWED,\n",
    "        \"num_examples_per_domain_per_label\": 100,\n",
    "        \"pickle_path\": os.path.join(get_datasets_base_path(), \"oracle.Run1_framed_2000Examples_stratified_ds.2022A.pkl\"),\n",
    "        \"source_or_target_dataset\": \"source\",\n",
    "        \"x_transforms\": [\"unit_mag\", \"minus_two\"],\n",
    "        \"episode_transforms\": [],\n",
    "        \"domain_prefix\": \"ORACLE_\"\n",
    "    },\n",
    "    {\n",
    "        \"labels\": ALL_NODES,\n",
    "        \"domains\": ALL_DAYS,\n",
    "        \"num_examples_per_domain_per_label\": 100,\n",
    "        \"pickle_path\": os.path.join(get_datasets_base_path(), \"cores.stratified_ds.2022A.pkl\"),\n",
    "        \"source_or_target_dataset\": \"target\",\n",
    "        \"x_transforms\": [\"unit_power\", \"times_zero\"],\n",
    "        \"episode_transforms\": [],\n",
    "        \"domain_prefix\": \"CORES_\"\n",
    "    }   \n",
    "]\n",
    "\n",
    "standalone_parameters[\"torch_default_dtype\"] = \"torch.float32\" \n",
    "\n",
    "\n",
    "\n",
    "standalone_parameters[\"x_net\"] =     [\n",
    "    {\"class\": \"nnReshape\", \"kargs\": {\"shape\":[-1, 1, 2, 256]}},\n",
    "    {\"class\": \"Conv2d\", \"kargs\": { \"in_channels\":1, \"out_channels\":256, \"kernel_size\":(1,7), \"bias\":False, \"padding\":(0,3), },},\n",
    "    {\"class\": \"ReLU\", \"kargs\": {\"inplace\": True}},\n",
    "    {\"class\": \"BatchNorm2d\", \"kargs\": {\"num_features\":256}},\n",
    "\n",
    "    {\"class\": \"Conv2d\", \"kargs\": { \"in_channels\":256, \"out_channels\":80, \"kernel_size\":(2,7), \"bias\":True, \"padding\":(0,3), },},\n",
    "    {\"class\": \"ReLU\", \"kargs\": {\"inplace\": True}},\n",
    "    {\"class\": \"BatchNorm2d\", \"kargs\": {\"num_features\":80}},\n",
    "    {\"class\": \"Flatten\", \"kargs\": {}},\n",
    "\n",
    "    {\"class\": \"Linear\", \"kargs\": {\"in_features\": 80*256, \"out_features\": 256}}, # 80 units per IQ pair\n",
    "    {\"class\": \"ReLU\", \"kargs\": {\"inplace\": True}},\n",
    "    {\"class\": \"BatchNorm1d\", \"kargs\": {\"num_features\":256}},\n",
    "\n",
    "    {\"class\": \"Linear\", \"kargs\": {\"in_features\": 256, \"out_features\": 256}},\n",
    "]\n",
    "\n",
    "# Parameters relevant to results\n",
    "# These parameters will basically never need to change\n",
    "standalone_parameters[\"NUM_LOGS_PER_EPOCH\"] = 10\n",
    "standalone_parameters[\"BEST_MODEL_PATH\"] = \"./best_model.pth\"\n",
    "\n",
    "\n",
    "\n",
    "\n"
   ]
  },
  {
   "cell_type": "code",
   "execution_count": 4,
   "id": "f631593f",
   "metadata": {
    "execution": {
     "iopub.execute_input": "2022-03-21T04:23:21.282290Z",
     "iopub.status.busy": "2022-03-21T04:23:21.281237Z",
     "iopub.status.idle": "2022-03-21T04:23:21.306336Z",
     "shell.execute_reply": "2022-03-21T04:23:21.305533Z"
    },
    "papermill": {
     "duration": 0.064289,
     "end_time": "2022-03-21T04:23:21.306500",
     "exception": false,
     "start_time": "2022-03-21T04:23:21.242211",
     "status": "completed"
    },
    "tags": [
     "injected-parameters"
    ]
   },
   "outputs": [],
   "source": [
    "# Parameters\n",
    "parameters = {\n",
    "    \"experiment_name\": \"tl_1v2:cores-wisig\",\n",
    "    \"device\": \"cuda\",\n",
    "    \"lr\": 0.0001,\n",
    "    \"n_shot\": 3,\n",
    "    \"n_query\": 2,\n",
    "    \"train_k_factor\": 3,\n",
    "    \"val_k_factor\": 2,\n",
    "    \"test_k_factor\": 2,\n",
    "    \"torch_default_dtype\": \"torch.float32\",\n",
    "    \"n_epoch\": 3,\n",
    "    \"patience\": 3,\n",
    "    \"criteria_for_best\": \"target_accuracy\",\n",
    "    \"x_net\": [\n",
    "        {\"class\": \"nnReshape\", \"kargs\": {\"shape\": [-1, 1, 2, 256]}},\n",
    "        {\n",
    "            \"class\": \"Conv2d\",\n",
    "            \"kargs\": {\n",
    "                \"in_channels\": 1,\n",
    "                \"out_channels\": 256,\n",
    "                \"kernel_size\": [1, 7],\n",
    "                \"bias\": False,\n",
    "                \"padding\": [0, 3],\n",
    "            },\n",
    "        },\n",
    "        {\"class\": \"ReLU\", \"kargs\": {\"inplace\": True}},\n",
    "        {\"class\": \"BatchNorm2d\", \"kargs\": {\"num_features\": 256}},\n",
    "        {\n",
    "            \"class\": \"Conv2d\",\n",
    "            \"kargs\": {\n",
    "                \"in_channels\": 256,\n",
    "                \"out_channels\": 80,\n",
    "                \"kernel_size\": [2, 7],\n",
    "                \"bias\": True,\n",
    "                \"padding\": [0, 3],\n",
    "            },\n",
    "        },\n",
    "        {\"class\": \"ReLU\", \"kargs\": {\"inplace\": True}},\n",
    "        {\"class\": \"BatchNorm2d\", \"kargs\": {\"num_features\": 80}},\n",
    "        {\"class\": \"Flatten\", \"kargs\": {}},\n",
    "        {\"class\": \"Linear\", \"kargs\": {\"in_features\": 20480, \"out_features\": 256}},\n",
    "        {\"class\": \"ReLU\", \"kargs\": {\"inplace\": True}},\n",
    "        {\"class\": \"BatchNorm1d\", \"kargs\": {\"num_features\": 256}},\n",
    "        {\"class\": \"Linear\", \"kargs\": {\"in_features\": 256, \"out_features\": 256}},\n",
    "    ],\n",
    "    \"NUM_LOGS_PER_EPOCH\": 10,\n",
    "    \"BEST_MODEL_PATH\": \"./best_model.pth\",\n",
    "    \"n_way\": 58,\n",
    "    \"datasets\": [\n",
    "        {\n",
    "            \"labels\": [\n",
    "                \"1-10.\",\n",
    "                \"1-11.\",\n",
    "                \"1-15.\",\n",
    "                \"1-16.\",\n",
    "                \"1-17.\",\n",
    "                \"1-18.\",\n",
    "                \"1-19.\",\n",
    "                \"10-4.\",\n",
    "                \"10-7.\",\n",
    "                \"11-1.\",\n",
    "                \"11-14.\",\n",
    "                \"11-17.\",\n",
    "                \"11-20.\",\n",
    "                \"11-7.\",\n",
    "                \"13-20.\",\n",
    "                \"13-8.\",\n",
    "                \"14-10.\",\n",
    "                \"14-11.\",\n",
    "                \"14-14.\",\n",
    "                \"14-7.\",\n",
    "                \"15-1.\",\n",
    "                \"15-20.\",\n",
    "                \"16-1.\",\n",
    "                \"16-16.\",\n",
    "                \"17-10.\",\n",
    "                \"17-11.\",\n",
    "                \"17-2.\",\n",
    "                \"19-1.\",\n",
    "                \"19-16.\",\n",
    "                \"19-19.\",\n",
    "                \"19-20.\",\n",
    "                \"19-3.\",\n",
    "                \"2-10.\",\n",
    "                \"2-11.\",\n",
    "                \"2-17.\",\n",
    "                \"2-18.\",\n",
    "                \"2-20.\",\n",
    "                \"2-3.\",\n",
    "                \"2-4.\",\n",
    "                \"2-5.\",\n",
    "                \"2-6.\",\n",
    "                \"2-7.\",\n",
    "                \"2-8.\",\n",
    "                \"3-13.\",\n",
    "                \"3-18.\",\n",
    "                \"3-3.\",\n",
    "                \"4-1.\",\n",
    "                \"4-10.\",\n",
    "                \"4-11.\",\n",
    "                \"4-19.\",\n",
    "                \"5-5.\",\n",
    "                \"6-15.\",\n",
    "                \"7-10.\",\n",
    "                \"7-14.\",\n",
    "                \"8-18.\",\n",
    "                \"8-20.\",\n",
    "                \"8-3.\",\n",
    "                \"8-8.\",\n",
    "            ],\n",
    "            \"domains\": [1, 2, 3, 4, 5],\n",
    "            \"num_examples_per_domain_per_label\": -1,\n",
    "            \"pickle_path\": \"/root/csc500-main/datasets/cores.stratified_ds.2022A.pkl\",\n",
    "            \"source_or_target_dataset\": \"target\",\n",
    "            \"x_transforms\": [],\n",
    "            \"episode_transforms\": [],\n",
    "            \"domain_prefix\": \"CORES_\",\n",
    "        },\n",
    "        {\n",
    "            \"labels\": [\n",
    "                \"1-10\",\n",
    "                \"1-12\",\n",
    "                \"1-14\",\n",
    "                \"1-16\",\n",
    "                \"1-18\",\n",
    "                \"1-19\",\n",
    "                \"1-8\",\n",
    "                \"10-11\",\n",
    "                \"10-17\",\n",
    "                \"10-4\",\n",
    "                \"10-7\",\n",
    "                \"11-1\",\n",
    "                \"11-10\",\n",
    "                \"11-19\",\n",
    "                \"11-20\",\n",
    "                \"11-4\",\n",
    "                \"11-7\",\n",
    "                \"12-19\",\n",
    "                \"12-20\",\n",
    "                \"12-7\",\n",
    "                \"13-14\",\n",
    "                \"13-18\",\n",
    "                \"13-19\",\n",
    "                \"13-20\",\n",
    "                \"13-3\",\n",
    "                \"13-7\",\n",
    "                \"14-10\",\n",
    "                \"14-11\",\n",
    "                \"14-12\",\n",
    "                \"14-13\",\n",
    "                \"14-14\",\n",
    "                \"14-19\",\n",
    "                \"14-20\",\n",
    "                \"14-7\",\n",
    "                \"14-8\",\n",
    "                \"14-9\",\n",
    "                \"15-1\",\n",
    "                \"15-19\",\n",
    "                \"15-6\",\n",
    "                \"16-1\",\n",
    "                \"16-16\",\n",
    "                \"16-19\",\n",
    "                \"16-20\",\n",
    "                \"17-10\",\n",
    "                \"17-11\",\n",
    "                \"18-1\",\n",
    "                \"18-10\",\n",
    "                \"18-11\",\n",
    "                \"18-12\",\n",
    "                \"18-13\",\n",
    "                \"18-14\",\n",
    "                \"18-15\",\n",
    "                \"18-16\",\n",
    "                \"18-17\",\n",
    "                \"18-19\",\n",
    "                \"18-2\",\n",
    "                \"18-20\",\n",
    "                \"18-4\",\n",
    "                \"18-5\",\n",
    "                \"18-7\",\n",
    "                \"18-8\",\n",
    "                \"18-9\",\n",
    "                \"19-1\",\n",
    "                \"19-10\",\n",
    "                \"19-11\",\n",
    "                \"19-12\",\n",
    "                \"19-13\",\n",
    "                \"19-14\",\n",
    "                \"19-15\",\n",
    "                \"19-19\",\n",
    "                \"19-2\",\n",
    "                \"19-20\",\n",
    "                \"19-3\",\n",
    "                \"19-4\",\n",
    "                \"19-6\",\n",
    "                \"19-7\",\n",
    "                \"19-8\",\n",
    "                \"19-9\",\n",
    "                \"2-1\",\n",
    "                \"2-13\",\n",
    "                \"2-15\",\n",
    "                \"2-3\",\n",
    "                \"2-4\",\n",
    "                \"2-5\",\n",
    "                \"2-6\",\n",
    "                \"2-7\",\n",
    "                \"2-8\",\n",
    "                \"20-1\",\n",
    "                \"20-12\",\n",
    "                \"20-14\",\n",
    "                \"20-15\",\n",
    "                \"20-16\",\n",
    "                \"20-18\",\n",
    "                \"20-19\",\n",
    "                \"20-20\",\n",
    "                \"20-3\",\n",
    "                \"20-4\",\n",
    "                \"20-5\",\n",
    "                \"20-7\",\n",
    "                \"20-8\",\n",
    "                \"3-1\",\n",
    "                \"3-13\",\n",
    "                \"3-18\",\n",
    "                \"3-2\",\n",
    "                \"3-8\",\n",
    "                \"4-1\",\n",
    "                \"4-10\",\n",
    "                \"4-11\",\n",
    "                \"5-1\",\n",
    "                \"5-5\",\n",
    "                \"6-1\",\n",
    "                \"6-15\",\n",
    "                \"6-6\",\n",
    "                \"7-10\",\n",
    "                \"7-11\",\n",
    "                \"7-12\",\n",
    "                \"7-13\",\n",
    "                \"7-14\",\n",
    "                \"7-7\",\n",
    "                \"7-8\",\n",
    "                \"7-9\",\n",
    "                \"8-1\",\n",
    "                \"8-13\",\n",
    "                \"8-14\",\n",
    "                \"8-18\",\n",
    "                \"8-20\",\n",
    "                \"8-3\",\n",
    "                \"8-8\",\n",
    "                \"9-1\",\n",
    "                \"9-7\",\n",
    "            ],\n",
    "            \"domains\": [1, 2, 3, 4],\n",
    "            \"num_examples_per_domain_per_label\": -1,\n",
    "            \"pickle_path\": \"/root/csc500-main/datasets/wisig.node3-19.stratified_ds.2022A.pkl\",\n",
    "            \"source_or_target_dataset\": \"source\",\n",
    "            \"x_transforms\": [],\n",
    "            \"episode_transforms\": [],\n",
    "            \"domain_prefix\": \"Wisig_\",\n",
    "        },\n",
    "    ],\n",
    "    \"dataset_seed\": 500,\n",
    "    \"seed\": 500,\n",
    "}\n"
   ]
  },
  {
   "cell_type": "code",
   "execution_count": 5,
   "id": "8fa1cc33",
   "metadata": {
    "execution": {
     "iopub.execute_input": "2022-03-21T04:23:21.360085Z",
     "iopub.status.busy": "2022-03-21T04:23:21.359641Z",
     "iopub.status.idle": "2022-03-21T04:23:21.379781Z",
     "shell.execute_reply": "2022-03-21T04:23:21.378935Z"
    },
    "papermill": {
     "duration": 0.045307,
     "end_time": "2022-03-21T04:23:21.379948",
     "exception": false,
     "start_time": "2022-03-21T04:23:21.334641",
     "status": "completed"
    },
    "tags": []
   },
   "outputs": [],
   "source": [
    "# Set this to True if you want to run this template directly\n",
    "STANDALONE = False\n",
    "if STANDALONE:\n",
    "    print(\"parameters not injected, running with standalone_parameters\")\n",
    "    parameters = standalone_parameters\n",
    "\n",
    "if not 'parameters' in locals() and not 'parameters' in globals():\n",
    "    raise Exception(\"Parameter injection failed\")\n",
    "\n",
    "#Use an easy dict for all the parameters\n",
    "p = EasyDict(parameters)\n",
    "\n",
    "if \"x_shape\" not in p:\n",
    "    p.x_shape = [2,256] # Default to this if we dont supply x_shape\n",
    "\n",
    "\n",
    "supplied_keys = set(p.keys())\n",
    "\n",
    "if  supplied_keys != required_parameters:\n",
    "    print(\"Parameters are incorrect\")\n",
    "    if len(supplied_keys - required_parameters)>0: print(\"Shouldn't have:\", str(supplied_keys - required_parameters))\n",
    "    if len(required_parameters - supplied_keys)>0: print(\"Need to have:\", str(required_parameters - supplied_keys))\n",
    "    raise RuntimeError(\"Parameters are incorrect\")"
   ]
  },
  {
   "cell_type": "code",
   "execution_count": 6,
   "id": "3a028d58",
   "metadata": {
    "execution": {
     "iopub.execute_input": "2022-03-21T04:23:21.433948Z",
     "iopub.status.busy": "2022-03-21T04:23:21.433437Z",
     "iopub.status.idle": "2022-03-21T04:23:21.453821Z",
     "shell.execute_reply": "2022-03-21T04:23:21.453021Z"
    },
    "papermill": {
     "duration": 0.044124,
     "end_time": "2022-03-21T04:23:21.453983",
     "exception": false,
     "start_time": "2022-03-21T04:23:21.409859",
     "status": "completed"
    },
    "tags": []
   },
   "outputs": [],
   "source": [
    "###################################\n",
    "# Set the RNGs and make it all deterministic\n",
    "###################################\n",
    "np.random.seed(p.seed)\n",
    "random.seed(p.seed)\n",
    "torch.manual_seed(p.seed)\n",
    "\n",
    "torch.use_deterministic_algorithms(True) "
   ]
  },
  {
   "cell_type": "code",
   "execution_count": 7,
   "id": "b691acf6",
   "metadata": {
    "execution": {
     "iopub.execute_input": "2022-03-21T04:23:21.506166Z",
     "iopub.status.busy": "2022-03-21T04:23:21.505792Z",
     "iopub.status.idle": "2022-03-21T04:23:21.524891Z",
     "shell.execute_reply": "2022-03-21T04:23:21.524081Z"
    },
    "papermill": {
     "duration": 0.042407,
     "end_time": "2022-03-21T04:23:21.525051",
     "exception": false,
     "start_time": "2022-03-21T04:23:21.482644",
     "status": "completed"
    },
    "tags": []
   },
   "outputs": [],
   "source": [
    "###########################################\n",
    "# The stratified datasets honor this\n",
    "###########################################\n",
    "torch.set_default_dtype(eval(p.torch_default_dtype))"
   ]
  },
  {
   "cell_type": "code",
   "execution_count": 8,
   "id": "b5fba671",
   "metadata": {
    "execution": {
     "iopub.execute_input": "2022-03-21T04:23:21.580132Z",
     "iopub.status.busy": "2022-03-21T04:23:21.579183Z",
     "iopub.status.idle": "2022-03-21T04:23:21.634209Z",
     "shell.execute_reply": "2022-03-21T04:23:21.633387Z"
    },
    "papermill": {
     "duration": 0.081365,
     "end_time": "2022-03-21T04:23:21.634376",
     "exception": false,
     "start_time": "2022-03-21T04:23:21.553011",
     "status": "completed"
    },
    "tags": []
   },
   "outputs": [],
   "source": [
    "###################################\n",
    "# Build the network(s)\n",
    "# Note: It's critical to do this AFTER setting the RNG\n",
    "###################################\n",
    "x_net = build_sequential(p.x_net)"
   ]
  },
  {
   "cell_type": "code",
   "execution_count": 9,
   "id": "5d7e61cc",
   "metadata": {
    "execution": {
     "iopub.execute_input": "2022-03-21T04:23:21.685650Z",
     "iopub.status.busy": "2022-03-21T04:23:21.685277Z",
     "iopub.status.idle": "2022-03-21T04:23:21.711306Z",
     "shell.execute_reply": "2022-03-21T04:23:21.710474Z"
    },
    "papermill": {
     "duration": 0.050883,
     "end_time": "2022-03-21T04:23:21.711474",
     "exception": false,
     "start_time": "2022-03-21T04:23:21.660591",
     "status": "completed"
    },
    "tags": []
   },
   "outputs": [],
   "source": [
    "start_time_secs = time.time()"
   ]
  },
  {
   "cell_type": "code",
   "execution_count": 10,
   "id": "c6b67dfd",
   "metadata": {
    "execution": {
     "iopub.execute_input": "2022-03-21T04:23:21.763972Z",
     "iopub.status.busy": "2022-03-21T04:23:21.762969Z",
     "iopub.status.idle": "2022-03-21T04:23:21.785376Z",
     "shell.execute_reply": "2022-03-21T04:23:21.784573Z"
    },
    "papermill": {
     "duration": 0.046653,
     "end_time": "2022-03-21T04:23:21.785535",
     "exception": false,
     "start_time": "2022-03-21T04:23:21.738882",
     "status": "completed"
    },
    "tags": []
   },
   "outputs": [],
   "source": [
    "p.domains_source = []\n",
    "p.domains_target = []\n",
    "\n",
    "\n",
    "train_original_source = []\n",
    "val_original_source   = []\n",
    "test_original_source  = []\n",
    "\n",
    "train_original_target = []\n",
    "val_original_target   = []\n",
    "test_original_target  = []"
   ]
  },
  {
   "cell_type": "code",
   "execution_count": 11,
   "id": "e3d9c3d3",
   "metadata": {
    "execution": {
     "iopub.execute_input": "2022-03-21T04:23:21.840576Z",
     "iopub.status.busy": "2022-03-21T04:23:21.838529Z",
     "iopub.status.idle": "2022-03-21T04:23:21.858547Z",
     "shell.execute_reply": "2022-03-21T04:23:21.857743Z"
    },
    "papermill": {
     "duration": 0.046007,
     "end_time": "2022-03-21T04:23:21.858707",
     "exception": false,
     "start_time": "2022-03-21T04:23:21.812700",
     "status": "completed"
    },
    "tags": []
   },
   "outputs": [],
   "source": [
    "# global_x_transform_func = lambda x: normalize(x.to(torch.get_default_dtype()), \"unit_power\") # unit_power, unit_mag\n",
    "# global_x_transform_func = lambda x: normalize(x, \"unit_power\") # unit_power, unit_mag"
   ]
  },
  {
   "cell_type": "code",
   "execution_count": 12,
   "id": "acb78fd2",
   "metadata": {
    "execution": {
     "iopub.execute_input": "2022-03-21T04:23:21.918211Z",
     "iopub.status.busy": "2022-03-21T04:23:21.917553Z",
     "iopub.status.idle": "2022-03-21T04:23:21.935888Z",
     "shell.execute_reply": "2022-03-21T04:23:21.935059Z"
    },
    "papermill": {
     "duration": 0.051452,
     "end_time": "2022-03-21T04:23:21.936047",
     "exception": false,
     "start_time": "2022-03-21T04:23:21.884595",
     "status": "completed"
    },
    "tags": []
   },
   "outputs": [],
   "source": [
    "def add_dataset(\n",
    "    labels,\n",
    "    domains,\n",
    "    pickle_path,\n",
    "    x_transforms,\n",
    "    episode_transforms,\n",
    "    domain_prefix,\n",
    "    num_examples_per_domain_per_label,\n",
    "    source_or_target_dataset:str,\n",
    "    iterator_seed=p.seed,\n",
    "    dataset_seed=p.dataset_seed,\n",
    "    n_shot=p.n_shot,\n",
    "    n_way=p.n_way,\n",
    "    n_query=p.n_query,\n",
    "    train_val_test_k_factors=(p.train_k_factor,p.val_k_factor,p.test_k_factor),\n",
    "):\n",
    "   \n",
    "    if x_transforms == []: x_transform = None\n",
    "    else: x_transform = get_chained_transform(x_transforms)\n",
    "    \n",
    "    if episode_transforms == []: episode_transform = None\n",
    "    else: raise Exception(\"episode_transforms not implemented\")\n",
    "    \n",
    "    episode_transform = lambda tup, _prefix=domain_prefix: (_prefix + str(tup[0]), tup[1])\n",
    "\n",
    "\n",
    "    eaf = Episodic_Accessor_Factory(\n",
    "        labels=labels,\n",
    "        domains=domains,\n",
    "        num_examples_per_domain_per_label=num_examples_per_domain_per_label,\n",
    "        iterator_seed=iterator_seed,\n",
    "        dataset_seed=dataset_seed,\n",
    "        n_shot=n_shot,\n",
    "        n_way=n_way,\n",
    "        n_query=n_query,\n",
    "        train_val_test_k_factors=train_val_test_k_factors,\n",
    "        pickle_path=pickle_path,\n",
    "        x_transform_func=x_transform,\n",
    "    )\n",
    "\n",
    "    train, val, test = eaf.get_train(), eaf.get_val(), eaf.get_test()\n",
    "    train = Lazy_Iterable_Wrapper(train, episode_transform)\n",
    "    val = Lazy_Iterable_Wrapper(val, episode_transform)\n",
    "    test = Lazy_Iterable_Wrapper(test, episode_transform)\n",
    "\n",
    "    if source_or_target_dataset==\"source\":\n",
    "        train_original_source.append(train)\n",
    "        val_original_source.append(val)\n",
    "        test_original_source.append(test)\n",
    "\n",
    "        p.domains_source.extend(\n",
    "            [domain_prefix + str(u) for u in domains]\n",
    "        )\n",
    "    elif source_or_target_dataset==\"target\":\n",
    "        train_original_target.append(train)\n",
    "        val_original_target.append(val)\n",
    "        test_original_target.append(test)\n",
    "        p.domains_target.extend(\n",
    "            [domain_prefix + str(u) for u in domains]\n",
    "        )\n",
    "    else:\n",
    "        raise Exception(f\"invalid source_or_target_dataset: {source_or_target_dataset}\")\n",
    "    "
   ]
  },
  {
   "cell_type": "code",
   "execution_count": 13,
   "id": "fe266617",
   "metadata": {
    "execution": {
     "iopub.execute_input": "2022-03-21T04:23:21.999147Z",
     "iopub.status.busy": "2022-03-21T04:23:21.998771Z",
     "iopub.status.idle": "2022-03-21T04:23:25.613141Z",
     "shell.execute_reply": "2022-03-21T04:23:25.612401Z"
    },
    "papermill": {
     "duration": 3.640058,
     "end_time": "2022-03-21T04:23:25.613331",
     "exception": false,
     "start_time": "2022-03-21T04:23:21.973273",
     "status": "completed"
    },
    "tags": []
   },
   "outputs": [],
   "source": [
    "for ds in p.datasets:\n",
    "    add_dataset(**ds)"
   ]
  },
  {
   "cell_type": "code",
   "execution_count": 14,
   "id": "b90d65ac",
   "metadata": {
    "execution": {
     "iopub.execute_input": "2022-03-21T04:23:25.665816Z",
     "iopub.status.busy": "2022-03-21T04:23:25.665173Z",
     "iopub.status.idle": "2022-03-21T04:23:25.692182Z",
     "shell.execute_reply": "2022-03-21T04:23:25.691358Z"
    },
    "papermill": {
     "duration": 0.054297,
     "end_time": "2022-03-21T04:23:25.692349",
     "exception": false,
     "start_time": "2022-03-21T04:23:25.638052",
     "status": "completed"
    },
    "tags": []
   },
   "outputs": [],
   "source": [
    "# from steves_utils.CORES.utils import (\n",
    "#     ALL_NODES,\n",
    "#     ALL_NODES_MINIMUM_1000_EXAMPLES,\n",
    "#     ALL_DAYS\n",
    "# )\n",
    "\n",
    "# add_dataset(\n",
    "#     labels=ALL_NODES,\n",
    "#     domains = ALL_DAYS,\n",
    "#     num_examples_per_domain_per_label=100,\n",
    "#     pickle_path=os.path.join(get_datasets_base_path(), \"cores.stratified_ds.2022A.pkl\"),\n",
    "#     source_or_target_dataset=\"target\",\n",
    "#     x_transform_func=global_x_transform_func,\n",
    "#     domain_modifier=lambda u: f\"cores_{u}\"\n",
    "# )"
   ]
  },
  {
   "cell_type": "code",
   "execution_count": 15,
   "id": "76db484d",
   "metadata": {
    "execution": {
     "iopub.execute_input": "2022-03-21T04:23:25.751781Z",
     "iopub.status.busy": "2022-03-21T04:23:25.747399Z",
     "iopub.status.idle": "2022-03-21T04:23:25.766960Z",
     "shell.execute_reply": "2022-03-21T04:23:25.766162Z"
    },
    "papermill": {
     "duration": 0.044408,
     "end_time": "2022-03-21T04:23:25.767122",
     "exception": false,
     "start_time": "2022-03-21T04:23:25.722714",
     "status": "completed"
    },
    "tags": []
   },
   "outputs": [],
   "source": [
    "# from steves_utils.ORACLE.utils_v2 import (\n",
    "#     ALL_DISTANCES_FEET,\n",
    "#     ALL_RUNS,\n",
    "#     ALL_SERIAL_NUMBERS,\n",
    "# )\n",
    "\n",
    "\n",
    "# add_dataset(\n",
    "#     labels=ALL_SERIAL_NUMBERS,\n",
    "#     domains = list(set(ALL_DISTANCES_FEET) - {2,62}),\n",
    "#     num_examples_per_domain_per_label=100,\n",
    "#     pickle_path=os.path.join(get_datasets_base_path(), \"oracle.Run2_framed_2000Examples_stratified_ds.2022A.pkl\"),\n",
    "#     source_or_target_dataset=\"source\",\n",
    "#     x_transform_func=global_x_transform_func,\n",
    "#     domain_modifier=lambda u: f\"oracle1_{u}\"\n",
    "# )\n"
   ]
  },
  {
   "cell_type": "code",
   "execution_count": 16,
   "id": "97dea9d2",
   "metadata": {
    "execution": {
     "iopub.execute_input": "2022-03-21T04:23:25.823784Z",
     "iopub.status.busy": "2022-03-21T04:23:25.822123Z",
     "iopub.status.idle": "2022-03-21T04:23:25.842758Z",
     "shell.execute_reply": "2022-03-21T04:23:25.841958Z"
    },
    "papermill": {
     "duration": 0.04481,
     "end_time": "2022-03-21T04:23:25.842918",
     "exception": false,
     "start_time": "2022-03-21T04:23:25.798108",
     "status": "completed"
    },
    "tags": []
   },
   "outputs": [],
   "source": [
    "# from steves_utils.ORACLE.utils_v2 import (\n",
    "#     ALL_DISTANCES_FEET,\n",
    "#     ALL_RUNS,\n",
    "#     ALL_SERIAL_NUMBERS,\n",
    "# )\n",
    "\n",
    "\n",
    "# add_dataset(\n",
    "#     labels=ALL_SERIAL_NUMBERS,\n",
    "#     domains = list(set(ALL_DISTANCES_FEET) - {2,62,56}),\n",
    "#     num_examples_per_domain_per_label=100,\n",
    "#     pickle_path=os.path.join(get_datasets_base_path(), \"oracle.Run2_framed_2000Examples_stratified_ds.2022A.pkl\"),\n",
    "#     source_or_target_dataset=\"source\",\n",
    "#     x_transform_func=global_x_transform_func,\n",
    "#     domain_modifier=lambda u: f\"oracle2_{u}\"\n",
    "# )"
   ]
  },
  {
   "cell_type": "code",
   "execution_count": 17,
   "id": "6f289866",
   "metadata": {
    "execution": {
     "iopub.execute_input": "2022-03-21T04:23:25.895067Z",
     "iopub.status.busy": "2022-03-21T04:23:25.893780Z",
     "iopub.status.idle": "2022-03-21T04:23:25.914327Z",
     "shell.execute_reply": "2022-03-21T04:23:25.913526Z"
    },
    "papermill": {
     "duration": 0.045391,
     "end_time": "2022-03-21T04:23:25.914485",
     "exception": false,
     "start_time": "2022-03-21T04:23:25.869094",
     "status": "completed"
    },
    "tags": []
   },
   "outputs": [],
   "source": [
    "# add_dataset(\n",
    "#     labels=list(range(19)),\n",
    "#     domains = [0,1,2],\n",
    "#     num_examples_per_domain_per_label=100,\n",
    "#     pickle_path=os.path.join(get_datasets_base_path(), \"metehan.stratified_ds.2022A.pkl\"),\n",
    "#     source_or_target_dataset=\"target\",\n",
    "#     x_transform_func=global_x_transform_func,\n",
    "#     domain_modifier=lambda u: f\"met_{u}\"\n",
    "# )"
   ]
  },
  {
   "cell_type": "code",
   "execution_count": 18,
   "id": "86a863c3",
   "metadata": {
    "execution": {
     "iopub.execute_input": "2022-03-21T04:23:25.965314Z",
     "iopub.status.busy": "2022-03-21T04:23:25.964677Z",
     "iopub.status.idle": "2022-03-21T04:23:25.983743Z",
     "shell.execute_reply": "2022-03-21T04:23:25.982994Z"
    },
    "papermill": {
     "duration": 0.042998,
     "end_time": "2022-03-21T04:23:25.983909",
     "exception": false,
     "start_time": "2022-03-21T04:23:25.940911",
     "status": "completed"
    },
    "tags": []
   },
   "outputs": [],
   "source": [
    "# # from steves_utils.wisig.utils import (\n",
    "# #     ALL_NODES_MINIMUM_100_EXAMPLES,\n",
    "# #     ALL_NODES_MINIMUM_500_EXAMPLES,\n",
    "# #     ALL_NODES_MINIMUM_1000_EXAMPLES,\n",
    "# #     ALL_DAYS\n",
    "# # )\n",
    "\n",
    "# import steves_utils.wisig.utils as wisig\n",
    "\n",
    "\n",
    "# add_dataset(\n",
    "#     labels=wisig.ALL_NODES_MINIMUM_100_EXAMPLES,\n",
    "#     domains = wisig.ALL_DAYS,\n",
    "#     num_examples_per_domain_per_label=100,\n",
    "#     pickle_path=os.path.join(get_datasets_base_path(), \"wisig.node3-19.stratified_ds.2022A.pkl\"),\n",
    "#     source_or_target_dataset=\"target\",\n",
    "#     x_transform_func=global_x_transform_func,\n",
    "#     domain_modifier=lambda u: f\"wisig_{u}\"\n",
    "# )"
   ]
  },
  {
   "cell_type": "code",
   "execution_count": 19,
   "id": "fd5442bc",
   "metadata": {
    "execution": {
     "iopub.execute_input": "2022-03-21T04:23:26.049547Z",
     "iopub.status.busy": "2022-03-21T04:23:26.049148Z",
     "iopub.status.idle": "2022-03-21T04:23:26.068795Z",
     "shell.execute_reply": "2022-03-21T04:23:26.068072Z"
    },
    "papermill": {
     "duration": 0.049883,
     "end_time": "2022-03-21T04:23:26.068959",
     "exception": false,
     "start_time": "2022-03-21T04:23:26.019076",
     "status": "completed"
    },
    "tags": []
   },
   "outputs": [],
   "source": [
    "###################################\n",
    "# Build the dataset\n",
    "###################################\n",
    "train_original_source = Iterable_Aggregator(train_original_source, p.seed)\n",
    "val_original_source = Iterable_Aggregator(val_original_source, p.seed)\n",
    "test_original_source = Iterable_Aggregator(test_original_source, p.seed)\n",
    "\n",
    "\n",
    "train_original_target = Iterable_Aggregator(train_original_target, p.seed)\n",
    "val_original_target = Iterable_Aggregator(val_original_target, p.seed)\n",
    "test_original_target = Iterable_Aggregator(test_original_target, p.seed)\n",
    "\n",
    "# For CNN We only use X and Y. And we only train on the source.\n",
    "# Properly form the data using a transform lambda and Lazy_Iterable_Wrapper. Finally wrap them in a dataloader\n",
    "\n",
    "transform_lambda = lambda ex: ex[1] # Original is (<domain>, <episode>) so we strip down to episode only\n",
    "\n",
    "train_processed_source = Lazy_Iterable_Wrapper(train_original_source, transform_lambda)\n",
    "val_processed_source   = Lazy_Iterable_Wrapper(val_original_source, transform_lambda)\n",
    "test_processed_source  = Lazy_Iterable_Wrapper(test_original_source, transform_lambda)\n",
    "\n",
    "train_processed_target = Lazy_Iterable_Wrapper(train_original_target, transform_lambda)\n",
    "val_processed_target   = Lazy_Iterable_Wrapper(val_original_target, transform_lambda)\n",
    "test_processed_target  = Lazy_Iterable_Wrapper(test_original_target, transform_lambda)\n",
    "\n",
    "datasets = EasyDict({\n",
    "    \"source\": {\n",
    "        \"original\": {\"train\":train_original_source, \"val\":val_original_source, \"test\":test_original_source},\n",
    "        \"processed\": {\"train\":train_processed_source, \"val\":val_processed_source, \"test\":test_processed_source}\n",
    "    },\n",
    "    \"target\": {\n",
    "        \"original\": {\"train\":train_original_target, \"val\":val_original_target, \"test\":test_original_target},\n",
    "        \"processed\": {\"train\":train_processed_target, \"val\":val_processed_target, \"test\":test_processed_target}\n",
    "    },\n",
    "})"
   ]
  },
  {
   "cell_type": "code",
   "execution_count": 20,
   "id": "5b3c01fc",
   "metadata": {
    "execution": {
     "iopub.execute_input": "2022-03-21T04:23:26.120707Z",
     "iopub.status.busy": "2022-03-21T04:23:26.120322Z",
     "iopub.status.idle": "2022-03-21T04:23:34.370605Z",
     "shell.execute_reply": "2022-03-21T04:23:34.369791Z"
    },
    "papermill": {
     "duration": 8.274555,
     "end_time": "2022-03-21T04:23:34.370797",
     "exception": false,
     "start_time": "2022-03-21T04:23:26.096242",
     "status": "completed"
    },
    "tags": []
   },
   "outputs": [
    {
     "name": "stdout",
     "output_type": "stream",
     "text": [
      "{'Wisig_3', 'Wisig_4', 'Wisig_1', 'Wisig_2'}\n"
     ]
    },
    {
     "name": "stdout",
     "output_type": "stream",
     "text": [
      "{'CORES_4', 'CORES_3', 'CORES_5', 'CORES_2', 'CORES_1'}\n"
     ]
    },
    {
     "name": "stdout",
     "output_type": "stream",
     "text": [
      "tensor([[[ 0.0371,  0.1180,  0.0322,  ..., -0.0005,  0.0150, -0.0467],\n",
      "         [-0.0187,  0.0118,  0.0999,  ..., -0.0143,  0.0362,  0.0630]],\n",
      "\n",
      "        [[ 0.0446,  0.0189, -0.0873,  ...,  0.0123, -0.0443, -0.0722],\n",
      "         [ 0.0328,  0.1147,  0.0469,  ..., -0.0055,  0.0301, -0.0278]],\n",
      "\n",
      "        [[-0.0284, -0.0947,  0.0056,  ...,  0.0054,  0.0187,  0.0869],\n",
      "         [-0.0116, -0.0516, -0.1041,  ...,  0.0150, -0.0401, -0.0511]],\n",
      "\n",
      "        ...,\n",
      "\n",
      "        [[ 0.0439, -0.0239, -0.1190,  ..., -0.0251, -0.0327, -0.0826],\n",
      "         [ 0.0421,  0.0762,  0.0174,  ...,  0.0504,  0.0645,  0.0250]],\n",
      "\n",
      "        [[ 0.0464,  0.0325, -0.0259,  ...,  0.0143,  0.0178, -0.0249],\n",
      "         [ 0.0102,  0.0368,  0.0432,  ...,  0.0374,  0.0532,  0.0662]],\n",
      "\n",
      "        [[-0.0110,  0.0280,  0.0451,  ...,  0.0254,  0.0322,  0.0731],\n",
      "         [-0.0335, -0.0308,  0.0127,  ..., -0.0308, -0.0362, -0.0114]]])\n"
     ]
    }
   ],
   "source": [
    "from steves_utils.transforms import get_average_magnitude, get_average_power\n",
    "\n",
    "print(set([u for u,_ in val_original_source]))\n",
    "print(set([u for u,_ in val_original_target]))\n",
    "\n",
    "s_x, s_y, q_x, q_y, _ = next(iter(train_processed_source))\n",
    "print(s_x)\n",
    "\n",
    "# for ds in [\n",
    "#     train_processed_source,\n",
    "#     val_processed_source,\n",
    "#     test_processed_source,\n",
    "#     train_processed_target,\n",
    "#     val_processed_target,\n",
    "#     test_processed_target\n",
    "# ]:\n",
    "#     for s_x, s_y, q_x, q_y, _ in ds:\n",
    "#         for X in (s_x, q_x):\n",
    "#             for x in X:\n",
    "#                 assert np.isclose(get_average_magnitude(x.numpy()), 1.0)\n",
    "#                 assert np.isclose(get_average_power(x.numpy()), 1.0)\n",
    "                "
   ]
  },
  {
   "cell_type": "code",
   "execution_count": 21,
   "id": "bbdacba1",
   "metadata": {
    "execution": {
     "iopub.execute_input": "2022-03-21T04:23:34.432241Z",
     "iopub.status.busy": "2022-03-21T04:23:34.431861Z",
     "iopub.status.idle": "2022-03-21T04:23:34.651313Z",
     "shell.execute_reply": "2022-03-21T04:23:34.651993Z"
    },
    "papermill": {
     "duration": 0.248602,
     "end_time": "2022-03-21T04:23:34.652204",
     "exception": false,
     "start_time": "2022-03-21T04:23:34.403602",
     "status": "completed"
    },
    "tags": []
   },
   "outputs": [
    {
     "name": "stdout",
     "output_type": "stream",
     "text": [
      "(2, 256)\n"
     ]
    }
   ],
   "source": [
    "###################################\n",
    "# Build the model\n",
    "###################################\n",
    "# easfsl only wants a tuple for the shape\n",
    "model = Steves_Prototypical_Network(x_net, device=p.device, x_shape=tuple(p.x_shape))\n",
    "optimizer = Adam(params=model.parameters(), lr=p.lr)"
   ]
  },
  {
   "cell_type": "code",
   "execution_count": 22,
   "id": "22b39ac5",
   "metadata": {
    "execution": {
     "iopub.execute_input": "2022-03-21T04:23:34.705785Z",
     "iopub.status.busy": "2022-03-21T04:23:34.705162Z",
     "iopub.status.idle": "2022-03-21T04:28:05.816971Z",
     "shell.execute_reply": "2022-03-21T04:28:05.817457Z"
    },
    "papermill": {
     "duration": 271.138107,
     "end_time": "2022-03-21T04:28:05.817618",
     "exception": false,
     "start_time": "2022-03-21T04:23:34.679511",
     "status": "completed"
    },
    "tags": []
   },
   "outputs": [
    {
     "name": "stdout",
     "output_type": "stream",
     "text": [
      "epoch: 1, [batch: 1 / 914], examples_per_second: 207.0037, train_label_loss: 3.2524, \n"
     ]
    },
    {
     "name": "stdout",
     "output_type": "stream",
     "text": [
      "epoch: 1, [batch: 92 / 914], examples_per_second: 2998.1188, train_label_loss: 0.9439, \n"
     ]
    },
    {
     "name": "stdout",
     "output_type": "stream",
     "text": [
      "epoch: 1, [batch: 183 / 914], examples_per_second: 3078.1200, train_label_loss: 0.4763, \n"
     ]
    },
    {
     "name": "stdout",
     "output_type": "stream",
     "text": [
      "epoch: 1, [batch: 274 / 914], examples_per_second: 3025.4226, train_label_loss: 0.6062, \n"
     ]
    },
    {
     "name": "stdout",
     "output_type": "stream",
     "text": [
      "epoch: 1, [batch: 366 / 914], examples_per_second: 3041.3020, train_label_loss: 0.2336, \n"
     ]
    },
    {
     "name": "stdout",
     "output_type": "stream",
     "text": [
      "epoch: 1, [batch: 457 / 914], examples_per_second: 3396.4189, train_label_loss: 0.3616, \n"
     ]
    },
    {
     "name": "stdout",
     "output_type": "stream",
     "text": [
      "epoch: 1, [batch: 548 / 914], examples_per_second: 3508.5196, train_label_loss: 0.1576, \n"
     ]
    },
    {
     "name": "stdout",
     "output_type": "stream",
     "text": [
      "epoch: 1, [batch: 640 / 914], examples_per_second: 3368.9538, train_label_loss: 0.2014, \n"
     ]
    },
    {
     "name": "stdout",
     "output_type": "stream",
     "text": [
      "epoch: 1, [batch: 731 / 914], examples_per_second: 3631.4231, train_label_loss: 0.2538, \n"
     ]
    },
    {
     "name": "stdout",
     "output_type": "stream",
     "text": [
      "epoch: 1, [batch: 822 / 914], examples_per_second: 3416.9855, train_label_loss: 0.4303, \n"
     ]
    },
    {
     "name": "stdout",
     "output_type": "stream",
     "text": [
      "=============================================================\n",
      "epoch: 1, source_val_acc_label: 0.9440, target_val_acc_label: 0.9725, source_val_label_loss: 0.3267, target_val_label_loss: 0.2368, \n",
      "=============================================================\n"
     ]
    },
    {
     "name": "stdout",
     "output_type": "stream",
     "text": [
      "New best\n"
     ]
    },
    {
     "name": "stdout",
     "output_type": "stream",
     "text": [
      "epoch: 2, [batch: 1 / 909], examples_per_second: 26.3650, train_label_loss: 0.2012, \n"
     ]
    },
    {
     "name": "stdout",
     "output_type": "stream",
     "text": [
      "epoch: 2, [batch: 91 / 909], examples_per_second: 2987.3800, train_label_loss: 0.1759, \n"
     ]
    },
    {
     "name": "stdout",
     "output_type": "stream",
     "text": [
      "epoch: 2, [batch: 182 / 909], examples_per_second: 3301.1860, train_label_loss: 0.2144, \n"
     ]
    },
    {
     "name": "stdout",
     "output_type": "stream",
     "text": [
      "epoch: 2, [batch: 273 / 909], examples_per_second: 3476.4777, train_label_loss: 0.1312, \n"
     ]
    },
    {
     "name": "stdout",
     "output_type": "stream",
     "text": [
      "epoch: 2, [batch: 364 / 909], examples_per_second: 3486.6177, train_label_loss: 0.1173, \n"
     ]
    },
    {
     "name": "stdout",
     "output_type": "stream",
     "text": [
      "epoch: 2, [batch: 455 / 909], examples_per_second: 3918.3255, train_label_loss: 0.4412, \n"
     ]
    },
    {
     "name": "stdout",
     "output_type": "stream",
     "text": [
      "epoch: 2, [batch: 545 / 909], examples_per_second: 3837.1908, train_label_loss: 0.2319, \n"
     ]
    },
    {
     "name": "stdout",
     "output_type": "stream",
     "text": [
      "epoch: 2, [batch: 636 / 909], examples_per_second: 3936.8201, train_label_loss: 0.3488, \n"
     ]
    },
    {
     "name": "stdout",
     "output_type": "stream",
     "text": [
      "epoch: 2, [batch: 727 / 909], examples_per_second: 4028.8623, train_label_loss: 0.1326, \n"
     ]
    },
    {
     "name": "stdout",
     "output_type": "stream",
     "text": [
      "epoch: 2, [batch: 818 / 909], examples_per_second: 3894.7854, train_label_loss: 0.4019, \n"
     ]
    },
    {
     "name": "stdout",
     "output_type": "stream",
     "text": [
      "=============================================================\n",
      "epoch: 2, source_val_acc_label: 0.9581, target_val_acc_label: 0.9756, source_val_label_loss: 0.2338, target_val_label_loss: 0.1967, \n",
      "=============================================================\n"
     ]
    },
    {
     "name": "stdout",
     "output_type": "stream",
     "text": [
      "New best\n"
     ]
    },
    {
     "name": "stdout",
     "output_type": "stream",
     "text": [
      "epoch: 3, [batch: 1 / 906], examples_per_second: 30.1531, train_label_loss: 0.1072, \n"
     ]
    },
    {
     "name": "stdout",
     "output_type": "stream",
     "text": [
      "epoch: 3, [batch: 91 / 906], examples_per_second: 3426.9440, train_label_loss: 0.3517, \n"
     ]
    },
    {
     "name": "stdout",
     "output_type": "stream",
     "text": [
      "epoch: 3, [batch: 182 / 906], examples_per_second: 3381.2674, train_label_loss: 0.2574, \n"
     ]
    },
    {
     "name": "stdout",
     "output_type": "stream",
     "text": [
      "epoch: 3, [batch: 272 / 906], examples_per_second: 3496.3577, train_label_loss: 0.2530, \n"
     ]
    },
    {
     "name": "stdout",
     "output_type": "stream",
     "text": [
      "epoch: 3, [batch: 363 / 906], examples_per_second: 3370.9426, train_label_loss: 0.1211, \n"
     ]
    },
    {
     "name": "stdout",
     "output_type": "stream",
     "text": [
      "epoch: 3, [batch: 453 / 906], examples_per_second: 3439.1758, train_label_loss: 0.1186, \n"
     ]
    },
    {
     "name": "stdout",
     "output_type": "stream",
     "text": [
      "epoch: 3, [batch: 544 / 906], examples_per_second: 3541.4904, train_label_loss: 0.1715, \n"
     ]
    },
    {
     "name": "stdout",
     "output_type": "stream",
     "text": [
      "epoch: 3, [batch: 634 / 906], examples_per_second: 3424.3482, train_label_loss: 0.2149, \n"
     ]
    },
    {
     "name": "stdout",
     "output_type": "stream",
     "text": [
      "epoch: 3, [batch: 725 / 906], examples_per_second: 3483.9973, train_label_loss: 0.1589, \n"
     ]
    },
    {
     "name": "stdout",
     "output_type": "stream",
     "text": [
      "epoch: 3, [batch: 815 / 906], examples_per_second: 4331.6617, train_label_loss: 0.0223, \n"
     ]
    },
    {
     "name": "stdout",
     "output_type": "stream",
     "text": [
      "=============================================================\n",
      "epoch: 3, source_val_acc_label: 0.9627, target_val_acc_label: 0.9797, source_val_label_loss: 0.2203, target_val_label_loss: 0.1682, \n",
      "=============================================================\n"
     ]
    },
    {
     "name": "stdout",
     "output_type": "stream",
     "text": [
      "New best\n"
     ]
    }
   ],
   "source": [
    "###################################\n",
    "# train\n",
    "###################################\n",
    "jig = PTN_Train_Eval_Test_Jig(model, p.BEST_MODEL_PATH, p.device)\n",
    "\n",
    "jig.train(\n",
    "    train_iterable=datasets.source.processed.train,\n",
    "    source_val_iterable=datasets.source.processed.val,\n",
    "    target_val_iterable=datasets.target.processed.val,\n",
    "    num_epochs=p.n_epoch,\n",
    "    num_logs_per_epoch=p.NUM_LOGS_PER_EPOCH,\n",
    "    patience=p.patience,\n",
    "    optimizer=optimizer,\n",
    "    criteria_for_best=p.criteria_for_best,\n",
    ")"
   ]
  },
  {
   "cell_type": "code",
   "execution_count": 23,
   "id": "31e8fabf",
   "metadata": {
    "execution": {
     "iopub.execute_input": "2022-03-21T04:28:05.919037Z",
     "iopub.status.busy": "2022-03-21T04:28:05.918655Z",
     "iopub.status.idle": "2022-03-21T04:28:05.951008Z",
     "shell.execute_reply": "2022-03-21T04:28:05.950304Z"
    },
    "papermill": {
     "duration": 0.093733,
     "end_time": "2022-03-21T04:28:05.951170",
     "exception": false,
     "start_time": "2022-03-21T04:28:05.857437",
     "status": "completed"
    },
    "tags": []
   },
   "outputs": [],
   "source": [
    "total_experiment_time_secs = time.time() - start_time_secs"
   ]
  },
  {
   "cell_type": "code",
   "execution_count": 24,
   "id": "87b9595b",
   "metadata": {
    "execution": {
     "iopub.execute_input": "2022-03-21T04:28:06.033111Z",
     "iopub.status.busy": "2022-03-21T04:28:06.025400Z",
     "iopub.status.idle": "2022-03-21T04:29:15.052716Z",
     "shell.execute_reply": "2022-03-21T04:29:15.051963Z"
    },
    "papermill": {
     "duration": 69.061852,
     "end_time": "2022-03-21T04:29:15.052903",
     "exception": false,
     "start_time": "2022-03-21T04:28:05.991051",
     "status": "completed"
    },
    "tags": []
   },
   "outputs": [],
   "source": [
    "###################################\n",
    "# Evaluate the model\n",
    "###################################\n",
    "source_test_label_accuracy, source_test_label_loss = jig.test(datasets.source.processed.test)\n",
    "target_test_label_accuracy, target_test_label_loss = jig.test(datasets.target.processed.test)\n",
    "\n",
    "source_val_label_accuracy, source_val_label_loss = jig.test(datasets.source.processed.val)\n",
    "target_val_label_accuracy, target_val_label_loss = jig.test(datasets.target.processed.val)\n",
    "\n",
    "history = jig.get_history()\n",
    "\n",
    "total_epochs_trained = len(history[\"epoch_indices\"])\n",
    "\n",
    "val_dl = Iterable_Aggregator((datasets.source.original.val,datasets.target.original.val))\n",
    "\n",
    "confusion = ptn_confusion_by_domain_over_dataloader(model, p.device, val_dl)\n",
    "per_domain_accuracy = per_domain_accuracy_from_confusion(confusion)\n",
    "\n",
    "# Add a key to per_domain_accuracy for if it was a source domain\n",
    "for domain, accuracy in per_domain_accuracy.items():\n",
    "    per_domain_accuracy[domain] = {\n",
    "        \"accuracy\": accuracy,\n",
    "        \"source?\": domain in p.domains_source\n",
    "    }\n",
    "\n",
    "# Do an independent accuracy assesment JUST TO BE SURE!\n",
    "# _source_test_label_accuracy = independent_accuracy_assesment(model, datasets.source.processed.test, p.device)\n",
    "# _target_test_label_accuracy = independent_accuracy_assesment(model, datasets.target.processed.test, p.device)\n",
    "# _source_val_label_accuracy = independent_accuracy_assesment(model, datasets.source.processed.val, p.device)\n",
    "# _target_val_label_accuracy = independent_accuracy_assesment(model, datasets.target.processed.val, p.device)\n",
    "\n",
    "# assert(_source_test_label_accuracy == source_test_label_accuracy)\n",
    "# assert(_target_test_label_accuracy == target_test_label_accuracy)\n",
    "# assert(_source_val_label_accuracy == source_val_label_accuracy)\n",
    "# assert(_target_val_label_accuracy == target_val_label_accuracy)\n",
    "\n",
    "experiment = {\n",
    "    \"experiment_name\": p.experiment_name,\n",
    "    \"parameters\": dict(p),\n",
    "    \"results\": {\n",
    "        \"source_test_label_accuracy\": source_test_label_accuracy,\n",
    "        \"source_test_label_loss\": source_test_label_loss,\n",
    "        \"target_test_label_accuracy\": target_test_label_accuracy,\n",
    "        \"target_test_label_loss\": target_test_label_loss,\n",
    "        \"source_val_label_accuracy\": source_val_label_accuracy,\n",
    "        \"source_val_label_loss\": source_val_label_loss,\n",
    "        \"target_val_label_accuracy\": target_val_label_accuracy,\n",
    "        \"target_val_label_loss\": target_val_label_loss,\n",
    "        \"total_epochs_trained\": total_epochs_trained,\n",
    "        \"total_experiment_time_secs\": total_experiment_time_secs,\n",
    "        \"confusion\": confusion,\n",
    "        \"per_domain_accuracy\": per_domain_accuracy,\n",
    "    },\n",
    "    \"history\": history,\n",
    "    \"dataset_metrics\": get_dataset_metrics(datasets, \"ptn\"),\n",
    "}"
   ]
  },
  {
   "cell_type": "code",
   "execution_count": 25,
   "id": "54a21829",
   "metadata": {
    "execution": {
     "iopub.execute_input": "2022-03-21T04:29:15.130791Z",
     "iopub.status.busy": "2022-03-21T04:29:15.130221Z",
     "iopub.status.idle": "2022-03-21T04:29:15.351999Z",
     "shell.execute_reply": "2022-03-21T04:29:15.352675Z"
    },
    "papermill": {
     "duration": 0.259814,
     "end_time": "2022-03-21T04:29:15.352884",
     "exception": false,
     "start_time": "2022-03-21T04:29:15.093070",
     "status": "completed"
    },
    "tags": []
   },
   "outputs": [
    {
     "data": {
      "image/png": "[encoded data removed]",
      "text/plain": [
       "<Figure size 1080x504 with 1 Axes>"
      ]
     },
     "metadata": {
      "needs_background": "light"
     },
     "output_type": "display_data"
    }
   ],
   "source": [
    "ax = get_loss_curve(experiment)\n",
    "plt.show()"
   ]
  },
  {
   "cell_type": "code",
   "execution_count": 26,
   "id": "fd8a0f60",
   "metadata": {
    "execution": {
     "iopub.execute_input": "2022-03-21T04:29:15.430585Z",
     "iopub.status.busy": "2022-03-21T04:29:15.430197Z",
     "iopub.status.idle": "2022-03-21T04:29:15.784452Z",
     "shell.execute_reply": "2022-03-21T04:29:15.784765Z"
    },
    "papermill": {
     "duration": 0.391223,
     "end_time": "2022-03-21T04:29:15.784882",
     "exception": false,
     "start_time": "2022-03-21T04:29:15.393659",
     "status": "completed"
    },
    "tags": []
   },
   "outputs": [
    {
     "data": {
      "text/plain": [
       "<AxesSubplot:title={'center':'Results'}>"
      ]
     },
     "execution_count": 26,
     "metadata": {},
     "output_type": "execute_result"
    },
    {
     "data": {
      "image/png": "[encoded data removed]",
      "text/plain": [
       "<Figure size 1080x504 with 1 Axes>"
      ]
     },
     "metadata": {
      "needs_background": "light"
     },
     "output_type": "display_data"
    }
   ],
   "source": [
    "get_results_table(experiment)"
   ]
  },
  {
   "cell_type": "code",
   "execution_count": 27,
   "id": "cf8dc689",
   "metadata": {
    "execution": {
     "iopub.execute_input": "2022-03-21T04:29:15.861345Z",
     "iopub.status.busy": "2022-03-21T04:29:15.860524Z",
     "iopub.status.idle": "2022-03-21T04:29:16.085876Z",
     "shell.execute_reply": "2022-03-21T04:29:16.086555Z"
    },
    "papermill": {
     "duration": 0.265233,
     "end_time": "2022-03-21T04:29:16.086768",
     "exception": false,
     "start_time": "2022-03-21T04:29:15.821535",
     "status": "completed"
    },
    "tags": []
   },
   "outputs": [
    {
     "data": {
      "text/plain": [
       "<AxesSubplot:title={'center':'Per Domain Validation Accuracy'}, xlabel='domain'>"
      ]
     },
     "execution_count": 27,
     "metadata": {},
     "output_type": "execute_result"
    },
    {
     "data": {
      "image/png": "[encoded data removed]",
      "text/plain": [
       "<Figure size 1080x504 with 1 Axes>"
      ]
     },
     "metadata": {
      "needs_background": "light"
     },
     "output_type": "display_data"
    }
   ],
   "source": [
    "get_domain_accuracies(experiment)"
   ]
  },
  {
   "cell_type": "code",
   "execution_count": 28,
   "id": "a74ae082",
   "metadata": {
    "execution": {
     "iopub.execute_input": "2022-03-21T04:29:16.166829Z",
     "iopub.status.busy": "2022-03-21T04:29:16.166448Z",
     "iopub.status.idle": "2022-03-21T04:29:16.189356Z",
     "shell.execute_reply": "2022-03-21T04:29:16.188637Z"
    },
    "papermill": {
     "duration": 0.06252,
     "end_time": "2022-03-21T04:29:16.189526",
     "exception": false,
     "start_time": "2022-03-21T04:29:16.127006",
     "status": "completed"
    },
    "tags": []
   },
   "outputs": [
    {
     "name": "stdout",
     "output_type": "stream",
     "text": [
      "Source Test Label Accuracy: 0.9603062274832733 Target Test Label Accuracy: 0.9770689655172414\n",
      "Source Val Label Accuracy: 0.9626885775862069 Target Val Label Accuracy: 0.9797054597701149\n"
     ]
    }
   ],
   "source": [
    "print(\"Source Test Label Accuracy:\", experiment[\"results\"][\"source_test_label_accuracy\"], \"Target Test Label Accuracy:\", experiment[\"results\"][\"target_test_label_accuracy\"])\n",
    "print(\"Source Val Label Accuracy:\", experiment[\"results\"][\"source_val_label_accuracy\"], \"Target Val Label Accuracy:\", experiment[\"results\"][\"target_val_label_accuracy\"])"
   ]
  },
  {
   "cell_type": "code",
   "execution_count": 29,
   "id": "dacca602",
   "metadata": {
    "execution": {
     "iopub.execute_input": "2022-03-21T04:29:16.271198Z",
     "iopub.status.busy": "2022-03-21T04:29:16.270827Z",
     "iopub.status.idle": "2022-03-21T04:29:16.295135Z",
     "shell.execute_reply": "2022-03-21T04:29:16.295827Z"
    },
    "papermill": {
     "duration": 0.064941,
     "end_time": "2022-03-21T04:29:16.296029",
     "exception": false,
     "start_time": "2022-03-21T04:29:16.231088",
     "status": "completed"
    },
    "tags": [
     "experiment_json"
    ]
   },
   "outputs": [
    {
     "data": {
      "text/plain": [
       "'{\"experiment_name\": \"tl_1v2:cores-wisig\", \"parameters\": {\"experiment_name\": \"tl_1v2:cores-wisig\", \"device\": \"cuda\", \"lr\": 0.0001, \"n_shot\": 3, \"n_query\": 2, \"train_k_factor\": 3, \"val_k_factor\": 2, \"test_k_factor\": 2, \"torch_default_dtype\": \"torch.float32\", \"n_epoch\": 3, \"patience\": 3, \"criteria_for_best\": \"target_accuracy\", \"x_net\": [{\"class\": \"nnReshape\", \"kargs\": {\"shape\": [-1, 1, 2, 256]}}, {\"class\": \"Conv2d\", \"kargs\": {\"in_channels\": 1, \"out_channels\": 256, \"kernel_size\": [1, 7], \"bias\": false, \"padding\": [0, 3]}}, {\"class\": \"ReLU\", \"kargs\": {\"inplace\": true}}, {\"class\": \"BatchNorm2d\", \"kargs\": {\"num_features\": 256}}, {\"class\": \"Conv2d\", \"kargs\": {\"in_channels\": 256, \"out_channels\": 80, \"kernel_size\": [2, 7], \"bias\": true, \"padding\": [0, 3]}}, {\"class\": \"ReLU\", \"kargs\": {\"inplace\": true}}, {\"class\": \"BatchNorm2d\", \"kargs\": {\"num_features\": 80}}, {\"class\": \"Flatten\", \"kargs\": {}}, {\"class\": \"Linear\", \"kargs\": {\"in_features\": 20480, \"out_features\": 256}}, {\"class\": \"ReLU\", \"kargs\": {\"inplace\": true}}, {\"class\": \"BatchNorm1d\", \"kargs\": {\"num_features\": 256}}, {\"class\": \"Linear\", \"kargs\": {\"in_features\": 256, \"out_features\": 256}}], \"NUM_LOGS_PER_EPOCH\": 10, \"BEST_MODEL_PATH\": \"./best_model.pth\", \"n_way\": 58, \"datasets\": [{\"labels\": [\"1-10.\", \"1-11.\", \"1-15.\", \"1-16.\", \"1-17.\", \"1-18.\", \"1-19.\", \"10-4.\", \"10-7.\", \"11-1.\", \"11-14.\", \"11-17.\", \"11-20.\", \"11-7.\", \"13-20.\", \"13-8.\", \"14-10.\", \"14-11.\", \"14-14.\", \"14-7.\", \"15-1.\", \"15-20.\", \"16-1.\", \"16-16.\", \"17-10.\", \"17-11.\", \"17-2.\", \"19-1.\", \"19-16.\", \"19-19.\", \"19-20.\", \"19-3.\", \"2-10.\", \"2-11.\", \"2-17.\", \"2-18.\", \"2-20.\", \"2-3.\", \"2-4.\", \"2-5.\", \"2-6.\", \"2-7.\", \"2-8.\", \"3-13.\", \"3-18.\", \"3-3.\", \"4-1.\", \"4-10.\", \"4-11.\", \"4-19.\", \"5-5.\", \"6-15.\", \"7-10.\", \"7-14.\", \"8-18.\", \"8-20.\", \"8-3.\", \"8-8.\"], \"domains\": [1, 2, 3, 4, 5], \"num_examples_per_domain_per_label\": -1, \"pickle_path\": \"/root/csc500-main/datasets/cores.stratified_ds.2022A.pkl\", \"source_or_target_dataset\": \"target\", \"x_transforms\": [], \"episode_transforms\": [], \"domain_prefix\": \"CORES_\"}, {\"labels\": [\"1-10\", \"1-12\", \"1-14\", \"1-16\", \"1-18\", \"1-19\", \"1-8\", \"10-11\", \"10-17\", \"10-4\", \"10-7\", \"11-1\", \"11-10\", \"11-19\", \"11-20\", \"11-4\", \"11-7\", \"12-19\", \"12-20\", \"12-7\", \"13-14\", \"13-18\", \"13-19\", \"13-20\", \"13-3\", \"13-7\", \"14-10\", \"14-11\", \"14-12\", \"14-13\", \"14-14\", \"14-19\", \"14-20\", \"14-7\", \"14-8\", \"14-9\", \"15-1\", \"15-19\", \"15-6\", \"16-1\", \"16-16\", \"16-19\", \"16-20\", \"17-10\", \"17-11\", \"18-1\", \"18-10\", \"18-11\", \"18-12\", \"18-13\", \"18-14\", \"18-15\", \"18-16\", \"18-17\", \"18-19\", \"18-2\", \"18-20\", \"18-4\", \"18-5\", \"18-7\", \"18-8\", \"18-9\", \"19-1\", \"19-10\", \"19-11\", \"19-12\", \"19-13\", \"19-14\", \"19-15\", \"19-19\", \"19-2\", \"19-20\", \"19-3\", \"19-4\", \"19-6\", \"19-7\", \"19-8\", \"19-9\", \"2-1\", \"2-13\", \"2-15\", \"2-3\", \"2-4\", \"2-5\", \"2-6\", \"2-7\", \"2-8\", \"20-1\", \"20-12\", \"20-14\", \"20-15\", \"20-16\", \"20-18\", \"20-19\", \"20-20\", \"20-3\", \"20-4\", \"20-5\", \"20-7\", \"20-8\", \"3-1\", \"3-13\", \"3-18\", \"3-2\", \"3-8\", \"4-1\", \"4-10\", \"4-11\", \"5-1\", \"5-5\", \"6-1\", \"6-15\", \"6-6\", \"7-10\", \"7-11\", \"7-12\", \"7-13\", \"7-14\", \"7-7\", \"7-8\", \"7-9\", \"8-1\", \"8-13\", \"8-14\", \"8-18\", \"8-20\", \"8-3\", \"8-8\", \"9-1\", \"9-7\"], \"domains\": [1, 2, 3, 4], \"num_examples_per_domain_per_label\": -1, \"pickle_path\": \"/root/csc500-main/datasets/wisig.node3-19.stratified_ds.2022A.pkl\", \"source_or_target_dataset\": \"source\", \"x_transforms\": [], \"episode_transforms\": [], \"domain_prefix\": \"Wisig_\"}], \"dataset_seed\": 500, \"seed\": 500, \"x_shape\": [2, 256], \"domains_source\": [\"Wisig_1\", \"Wisig_2\", \"Wisig_3\", \"Wisig_4\"], \"domains_target\": [\"CORES_1\", \"CORES_2\", \"CORES_3\", \"CORES_4\", \"CORES_5\"]}, \"results\": {\"source_test_label_accuracy\": 0.9603062274832733, \"source_test_label_loss\": 0.22913096845149994, \"target_test_label_accuracy\": 0.9770689655172414, \"target_test_label_loss\": 0.1689717322587967, \"source_val_label_accuracy\": 0.9626885775862069, \"source_val_label_loss\": 0.22031766176223755, \"target_val_label_accuracy\": 0.9797054597701149, \"target_val_label_loss\": 0.1681537926197052, \"total_epochs_trained\": 3, \"total_experiment_time_secs\": 284.2396388053894, \"confusion\": {\"Wisig_3\": {\"111\": {\"111\": 28, \"121\": 1, \"91\": 1}, \"108\": {\"108\": 35, \"106\": 1}, \"37\": {\"37\": 16}, \"38\": {\"38\": 16}, \"11\": {\"16\": 1, \"122\": 1, \"11\": 38}, \"22\": {\"22\": 16}, \"40\": {\"40\": 45, \"12\": 1}, \"107\": {\"107\": 44}, \"23\": {\"23\": 31, \"70\": 1}, \"34\": {\"34\": 32}, \"122\": {\"122\": 42, \"110\": 2}, \"29\": {\"29\": 32}, \"121\": {\"121\": 32}, \"93\": {\"93\": 42}, \"30\": {\"30\": 34, \"121\": 1, \"48\": 1}, \"127\": {\"127\": 39, \"13\": 1}, \"28\": {\"28\": 16}, \"47\": {\"47\": 12}, \"74\": {\"74\": 16}, \"79\": {\"79\": 12}, \"41\": {\"41\": 16}, \"86\": {\"86\": 27, \"112\": 1}, \"85\": {\"85\": 36}, \"45\": {\"45\": 16}, \"32\": {\"32\": 32}, \"16\": {\"93\": 2, \"16\": 33, \"106\": 1}, \"49\": {\"49\": 24}, \"58\": {\"58\": 16}, \"106\": {\"106\": 38}, \"78\": {\"16\": 1, \"54\": 1, \"78\": 13, \"10\": 1}, \"5\": {\"5\": 38}, \"26\": {\"26\": 46}, \"13\": {\"13\": 16}, \"27\": {\"27\": 32, \"69\": 1, \"36\": 3, \"24\": 3, \"78\": 1}, \"54\": {\"54\": 16}, \"68\": {\"68\": 15, \"73\": 1}, \"128\": {\"128\": 32}, \"104\": {\"104\": 16}, \"7\": {\"7\": 45, \"88\": 1}, \"116\": {\"116\": 28}, \"80\": {\"80\": 15, \"65\": 1}, \"92\": {\"92\": 31, \"88\": 1}, \"62\": {\"62\": 33, \"0\": 1}, \"64\": {\"64\": 20}, \"12\": {\"12\": 36, \"106\": 1, \"21\": 1}, \"56\": {\"78\": 1, \"56\": 11}, \"39\": {\"39\": 44}, \"98\": {\"98\": 33, \"121\": 1}, \"59\": {\"59\": 12}, \"90\": {\"90\": 30, \"44\": 1, \"92\": 1}, \"52\": {\"52\": 16}, \"105\": {\"105\": 42}, \"53\": {\"53\": 19, \"54\": 1}, \"43\": {\"43\": 43, \"39\": 1, \"122\": 1, \"13\": 1}, \"100\": {\"100\": 15, \"128\": 1}, \"61\": {\"61\": 16}, \"66\": {\"66\": 16}, \"103\": {\"103\": 15, \"29\": 1}, \"55\": {\"55\": 16}, \"75\": {\"75\": 16}, \"118\": {\"118\": 36, \"43\": 1, \"39\": 1}, \"117\": {\"117\": 40}, \"115\": {\"115\": 16}, \"110\": {\"110\": 32}, \"95\": {\"95\": 29, \"70\": 1}, \"18\": {\"18\": 41, \"121\": 1}, \"50\": {\"50\": 16}, \"112\": {\"112\": 14, \"116\": 1, \"29\": 1}, \"72\": {\"72\": 28}, \"109\": {\"109\": 41, \"88\": 1}, \"126\": {\"126\": 32}, \"14\": {\"14\": 44}, \"17\": {\"78\": 3, \"17\": 8, \"2\": 1, \"70\": 1, \"21\": 1, \"67\": 1, \"82\": 1}, \"51\": {\"51\": 16}, \"96\": {\"96\": 20}, \"77\": {\"77\": 16}, \"71\": {\"71\": 36}, \"4\": {\"4\": 31, \"122\": 1}, \"87\": {\"87\": 42}, \"120\": {\"120\": 20}, \"113\": {\"113\": 38}, \"123\": {\"123\": 16}, \"35\": {\"35\": 11, \"54\": 1}, \"83\": {\"83\": 22, \"62\": 1, \"73\": 1}, \"24\": {\"24\": 33, \"27\": 5}, \"102\": {\"102\": 38}, \"6\": {\"6\": 31, \"88\": 1}, \"81\": {\"81\": 30}, \"89\": {\"89\": 28}, \"114\": {\"114\": 35, \"90\": 1}, \"1\": {\"1\": 48}, \"25\": {\"25\": 16}, \"88\": {\"88\": 40, \"109\": 1, \"122\": 1}, \"46\": {\"46\": 16}, \"57\": {\"57\": 20}, \"73\": {\"73\": 33, \"88\": 1}, \"60\": {\"60\": 28}, \"10\": {\"10\": 42, \"17\": 1, \"88\": 1}, \"36\": {\"36\": 33, \"27\": 1}, \"65\": {\"65\": 8, \"63\": 2, \"121\": 1, \"92\": 1}, \"67\": {\"67\": 16}, \"119\": {\"119\": 16}, \"15\": {\"15\": 45, \"13\": 1, \"78\": 1, \"84\": 1}, \"42\": {\"42\": 28}, \"91\": {\"91\": 23, \"19\": 1}, \"3\": {\"3\": 33, \"88\": 1}, \"44\": {\"44\": 41, \"92\": 1}, \"63\": {\"88\": 2, \"63\": 13, \"91\": 1}, \"33\": {\"33\": 37, \"88\": 1}, \"69\": {\"69\": 35, \"122\": 1}, \"101\": {\"101\": 43, \"127\": 1, \"27\": 1, \"21\": 1}, \"48\": {\"48\": 15, \"116\": 1}, \"8\": {\"8\": 31, \"62\": 1}, \"124\": {\"124\": 44}, \"9\": {\"9\": 31, \"29\": 1}, \"21\": {\"21\": 20, \"69\": 1, \"19\": 1, \"70\": 1, \"12\": 1}, \"20\": {\"20\": 16}, \"0\": {\"0\": 47, \"13\": 1}, \"125\": {\"125\": 38, \"29\": 1, \"121\": 1}, \"19\": {\"19\": 29, \"28\": 1}, \"99\": {\"99\": 36}, \"94\": {\"13\": 1, \"94\": 27}, \"84\": {\"84\": 46}, \"70\": {\"70\": 36}, \"129\": {\"129\": 32}, \"76\": {\"76\": 16}, \"2\": {\"2\": 27, \"29\": 1}, \"97\": {\"97\": 20}, \"82\": {\"82\": 28}, \"31\": {\"31\": 20}}, \"Wisig_1\": {\"51\": {\"51\": 16}, \"103\": {\"103\": 16}, \"53\": {\"53\": 20}, \"24\": {\"24\": 38, \"108\": 1, \"122\": 1}, \"39\": {\"39\": 36, \"69\": 1, \"24\": 1, \"16\": 1, \"108\": 1}, \"90\": {\"90\": 46}, \"106\": {\"106\": 50}, \"54\": {\"54\": 16}, \"56\": {\"56\": 12}, \"118\": {\"118\": 34}, \"100\": {\"99\": 1, \"100\": 15}, \"95\": {\"95\": 36}, \"98\": {\"98\": 36}, \"36\": {\"36\": 41, \"105\": 1}, \"48\": {\"48\": 12}, \"107\": {\"107\": 39, \"21\": 1}, \"5\": {\"5\": 41, \"83\": 1}, \"82\": {\"82\": 34}, \"6\": {\"6\": 29, \"51\": 1, \"118\": 1, \"106\": 1}, \"27\": {\"27\": 42}, \"77\": {\"77\": 14, \"61\": 1, \"21\": 1}, \"75\": {\"75\": 16}, \"2\": {\"2\": 32}, \"31\": {\"31\": 16}, \"29\": {\"29\": 28}, \"35\": {\"35\": 12}, \"125\": {\"125\": 38}, \"123\": {\"123\": 15, \"119\": 1}, \"64\": {\"64\": 16}, \"50\": {\"50\": 16}, \"16\": {\"16\": 38, \"109\": 1, \"69\": 1}, \"79\": {\"79\": 12}, \"1\": {\"1\": 38}, \"70\": {\"70\": 40, \"109\": 2}, \"121\": {\"121\": 30}, \"14\": {\"14\": 40, \"109\": 1, \"12\": 1}, \"80\": {\"80\": 16}, \"99\": {\"99\": 24}, \"116\": {\"116\": 31, \"83\": 1}, \"15\": {\"15\": 51, \"21\": 1}, \"127\": {\"127\": 47, \"105\": 1}, \"101\": {\"101\": 38}, \"89\": {\"89\": 36}, \"83\": {\"83\": 26, \"128\": 1, \"78\": 1}, \"34\": {\"34\": 32}, \"78\": {\"118\": 2, \"78\": 12, \"106\": 1, \"21\": 1}, \"43\": {\"43\": 46, \"21\": 1, \"122\": 1}, \"74\": {\"74\": 16}, \"120\": {\"70\": 1, \"120\": 18, \"12\": 1}, \"25\": {\"25\": 16}, \"129\": {\"129\": 28}, \"88\": {\"88\": 40}, \"119\": {\"119\": 16}, \"18\": {\"18\": 36}, \"66\": {\"66\": 16}, \"102\": {\"102\": 44}, \"85\": {\"85\": 32}, \"13\": {\"13\": 16}, \"3\": {\"3\": 42}, \"84\": {\"84\": 38}, \"8\": {\"8\": 43, \"105\": 1}, \"19\": {\"19\": 28}, \"7\": {\"7\": 36}, \"20\": {\"20\": 16}, \"93\": {\"93\": 42}, \"71\": {\"71\": 45, \"95\": 1}, \"128\": {\"128\": 24}, \"59\": {\"59\": 11, \"100\": 1}, \"126\": {\"126\": 46}, \"4\": {\"4\": 35, \"39\": 1}, \"91\": {\"91\": 28}, \"76\": {\"76\": 16}, \"49\": {\"49\": 20}, \"114\": {\"114\": 47, \"62\": 1}, \"115\": {\"115\": 12}, \"44\": {\"44\": 32}, \"17\": {\"17\": 15, \"61\": 1}, \"46\": {\"46\": 10, \"58\": 2}, \"96\": {\"96\": 19, \"119\": 1}, \"68\": {\"68\": 16}, \"86\": {\"86\": 36}, \"65\": {\"65\": 10, \"109\": 1, \"61\": 1}, \"10\": {\"10\": 48, \"78\": 1, \"21\": 1}, \"22\": {\"22\": 16}, \"94\": {\"94\": 44, \"71\": 1, \"109\": 1}, \"9\": {\"9\": 32}, \"73\": {\"73\": 20}, \"37\": {\"37\": 15, \"106\": 1}, \"26\": {\"26\": 44, \"106\": 2}, \"21\": {\"21\": 35, \"42\": 1, \"94\": 2, \"78\": 2}, \"47\": {\"47\": 11, \"9\": 1}, \"67\": {\"67\": 16}, \"117\": {\"117\": 34}, \"72\": {\"72\": 30}, \"12\": {\"12\": 40}, \"92\": {\"92\": 28}, \"23\": {\"23\": 17, \"30\": 1, \"69\": 1, \"87\": 1, \"106\": 1, \"110\": 3}, \"57\": {\"57\": 12}, \"38\": {\"38\": 16}, \"11\": {\"11\": 32}, \"32\": {\"32\": 31, \"21\": 1}, \"69\": {\"69\": 38, \"106\": 2}, \"105\": {\"105\": 44}, \"52\": {\"52\": 20}, \"109\": {\"109\": 46}, \"60\": {\"60\": 16}, \"87\": {\"87\": 40}, \"113\": {\"113\": 38}, \"42\": {\"42\": 26, \"12\": 1, \"122\": 1}, \"61\": {\"61\": 12}, \"63\": {\"63\": 16}, \"111\": {\"111\": 32}, \"41\": {\"41\": 16}, \"40\": {\"40\": 38, \"12\": 1, \"122\": 1}, \"112\": {\"112\": 16}, \"108\": {\"108\": 38}, \"104\": {\"104\": 16}, \"28\": {\"28\": 19, \"97\": 1}, \"122\": {\"122\": 38, \"69\": 2}, \"81\": {\"81\": 28}, \"124\": {\"124\": 30}, \"45\": {\"12\": 1, \"45\": 9, \"2\": 1, \"104\": 1}, \"97\": {\"97\": 16, \"36\": 1, \"24\": 1, \"27\": 1, \"109\": 1}, \"58\": {\"58\": 12}, \"30\": {\"30\": 32}, \"33\": {\"33\": 41, \"109\": 1}, \"55\": {\"55\": 12}, \"62\": {\"62\": 44}, \"110\": {\"110\": 27, \"21\": 1}, \"0\": {\"0\": 31, \"12\": 1}}, \"Wisig_2\": {\"4\": {\"4\": 47, \"82\": 1}, \"21\": {\"21\": 31, \"17\": 1, \"14\": 1, \"27\": 2, \"107\": 1}, \"5\": {\"5\": 47, \"88\": 1}, \"71\": {\"71\": 39, \"88\": 1}, \"46\": {\"46\": 15, \"128\": 1}, \"100\": {\"100\": 16}, \"97\": {\"97\": 17, \"66\": 1, \"82\": 1, \"15\": 1}, \"74\": {\"74\": 15, \"21\": 1}, \"116\": {\"116\": 28}, \"104\": {\"104\": 17, \"21\": 1, \"70\": 1, \"87\": 1}, \"70\": {\"17\": 2, \"70\": 27, \"21\": 1, \"78\": 1, \"87\": 1, \"109\": 1, \"107\": 1}, \"84\": {\"84\": 39, \"97\": 1}, \"73\": {\"73\": 24, \"5\": 3, \"94\": 1}, \"29\": {\"29\": 32}, \"26\": {\"26\": 41, \"62\": 2, \"94\": 1}, \"3\": {\"3\": 35, \"24\": 1, \"107\": 1, \"62\": 1}, \"40\": {\"40\": 39, \"21\": 2, \"110\": 1, \"62\": 1, \"14\": 1}, \"126\": {\"126\": 38}, \"94\": {\"94\": 40, \"17\": 1, \"36\": 1, \"12\": 1, \"107\": 1}, \"28\": {\"28\": 19, \"82\": 1}, \"38\": {\"38\": 16}, \"23\": {\"23\": 41, \"18\": 1, \"70\": 1, \"60\": 1}, \"61\": {\"61\": 19, \"49\": 1}, \"122\": {\"122\": 45, \"21\": 1, \"107\": 2}, \"7\": {\"7\": 37, \"17\": 1}, \"47\": {\"47\": 10, \"59\": 1, \"51\": 1}, \"56\": {\"56\": 12}, \"58\": {\"58\": 19, \"62\": 1}, \"90\": {\"90\": 47, \"14\": 1}, \"117\": {\"117\": 36, \"62\": 1, \"74\": 1}, \"66\": {\"66\": 20}, \"110\": {\"110\": 35, \"15\": 1, \"65\": 2, \"118\": 1, \"24\": 1}, \"127\": {\"127\": 40}, \"120\": {\"120\": 19, \"18\": 1}, \"85\": {\"85\": 32}, \"64\": {\"64\": 15, \"17\": 1}, \"17\": {\"104\": 2, \"17\": 9, \"75\": 1, \"86\": 1, \"67\": 2, \"49\": 1}, \"114\": {\"114\": 35, \"17\": 1}, \"43\": {\"43\": 44, \"62\": 1, \"94\": 1}, \"60\": {\"60\": 28}, \"108\": {\"108\": 44}, \"76\": {\"76\": 16}, \"123\": {\"123\": 16}, \"106\": {\"106\": 30, \"57\": 1, \"24\": 1}, \"1\": {\"1\": 47, \"21\": 1}, \"34\": {\"34\": 30, \"21\": 1, \"62\": 1}, \"49\": {\"49\": 22, \"17\": 1, \"98\": 1}, \"89\": {\"89\": 31, \"21\": 1, \"69\": 1, \"87\": 1, \"26\": 1, \"72\": 1}, \"12\": {\"12\": 25, \"17\": 1, \"21\": 2}, \"36\": {\"36\": 40, \"21\": 1, \"49\": 1}, \"31\": {\"31\": 18, \"82\": 1, \"88\": 1}, \"98\": {\"98\": 52}, \"32\": {\"32\": 36}, \"41\": {\"41\": 20}, \"75\": {\"75\": 12, \"88\": 2, \"17\": 1, \"49\": 1}, \"0\": {\"0\": 38, \"51\": 1, \"97\": 1}, \"19\": {\"19\": 27, \"95\": 1}, \"86\": {\"86\": 32}, \"24\": {\"24\": 30, \"21\": 1, \"107\": 1}, \"59\": {\"21\": 1, \"59\": 14, \"88\": 1}, \"55\": {\"99\": 1, \"55\": 14, \"62\": 1}, \"50\": {\"48\": 1, \"50\": 14, \"2\": 1}, \"125\": {\"125\": 35, \"121\": 1}, \"16\": {\"16\": 31, \"107\": 1}, \"54\": {\"54\": 20}, \"27\": {\"27\": 37, \"117\": 1, \"75\": 1, \"18\": 1, \"49\": 1, \"21\": 1}, \"81\": {\"81\": 22, \"88\": 2}, \"93\": {\"93\": 43, \"113\": 1}, \"121\": {\"121\": 33, \"14\": 1}, \"88\": {\"88\": 37, \"110\": 1, \"62\": 1, \"21\": 1}, \"68\": {\"68\": 15, \"10\": 1}, \"15\": {\"15\": 39, \"27\": 1}, \"6\": {\"6\": 32}, \"10\": {\"10\": 32, \"94\": 1, \"88\": 1}, \"129\": {\"129\": 32}, \"67\": {\"67\": 11, \"21\": 1, \"88\": 2, \"62\": 2}, \"102\": {\"102\": 40}, \"80\": {\"80\": 15, \"22\": 1}, \"78\": {\"78\": 42, \"70\": 2}, \"92\": {\"101\": 1, \"92\": 25, \"18\": 1, \"89\": 1}, \"99\": {\"99\": 30, \"94\": 1, \"62\": 1}, \"2\": {\"2\": 31, \"49\": 1}, \"101\": {\"101\": 40}, \"82\": {\"82\": 35, \"0\": 1}, \"37\": {\"37\": 15, \"14\": 1}, \"109\": {\"109\": 30, \"21\": 2, \"39\": 1, \"94\": 1}, \"103\": {\"103\": 16}, \"33\": {\"33\": 33, \"14\": 1}, \"44\": {\"44\": 34}, \"118\": {\"118\": 37, \"21\": 2, \"88\": 1, \"81\": 1, \"66\": 1}, \"48\": {\"48\": 19, \"13\": 1}, \"87\": {\"87\": 33, \"43\": 5, \"121\": 1, \"10\": 1, \"36\": 1, \"107\": 1, \"51\": 1, \"12\": 1}, \"112\": {\"112\": 13, \"114\": 1, \"85\": 1, \"46\": 1}, \"111\": {\"111\": 26}, \"63\": {\"63\": 19, \"49\": 1}, \"22\": {\"22\": 20}, \"25\": {\"25\": 13, \"73\": 1, \"17\": 1, \"40\": 1}, \"51\": {\"51\": 19, \"37\": 1}, \"72\": {\"72\": 25, \"21\": 1, \"88\": 1, \"107\": 1}, \"53\": {\"53\": 16}, \"30\": {\"30\": 39, \"4\": 1}, \"107\": {\"15\": 1, \"107\": 30, \"61\": 1, \"68\": 1, \"88\": 1, \"94\": 1, \"95\": 1, \"14\": 2, \"71\": 1, \"36\": 1}, \"105\": {\"105\": 39, \"62\": 1}, \"65\": {\"65\": 19, \"17\": 1}, \"95\": {\"95\": 36}, \"113\": {\"113\": 35, \"88\": 1, \"21\": 1, \"107\": 1, \"62\": 1, \"14\": 1}, \"52\": {\"52\": 19, \"82\": 1}, \"18\": {\"18\": 43, \"87\": 1}, \"35\": {\"35\": 10, \"62\": 1, \"63\": 1}, \"96\": {\"96\": 20}, \"8\": {\"8\": 39, \"88\": 1}, \"14\": {\"14\": 32, \"24\": 1, \"18\": 1, \"45\": 1, \"62\": 1}, \"62\": {\"62\": 42}, \"79\": {\"79\": 16}, \"115\": {\"115\": 10, \"27\": 1, \"4\": 1}, \"45\": {\"45\": 14, \"43\": 1, \"62\": 1}, \"119\": {\"119\": 20}, \"39\": {\"39\": 28, \"109\": 3, \"18\": 1}, \"11\": {\"110\": 1, \"11\": 29, \"93\": 1, \"108\": 1}, \"13\": {\"13\": 13, \"57\": 1, \"62\": 1, \"70\": 1}, \"128\": {\"128\": 24}, \"124\": {\"124\": 38}, \"77\": {\"77\": 16}, \"83\": {\"83\": 26}, \"57\": {\"0\": 1, \"57\": 18, \"49\": 1}, \"69\": {\"69\": 38}, \"91\": {\"91\": 24}, \"42\": {\"24\": 2, \"42\": 24, \"87\": 1, \"118\": 1}, \"20\": {\"20\": 16}, \"9\": {\"9\": 30}}, \"Wisig_4\": {\"0\": {\"0\": 37, \"1\": 1}, \"48\": {\"48\": 16}, \"91\": {\"91\": 24}, \"49\": {\"49\": 28}, \"74\": {\"74\": 15, \"28\": 1}, \"57\": {\"57\": 13, \"44\": 2, \"23\": 1}, \"112\": {\"112\": 14, \"12\": 2}, \"106\": {\"12\": 1, \"106\": 31, \"8\": 1, \"88\": 1}, \"4\": {\"4\": 41, \"88\": 1}, \"81\": {\"81\": 32, \"21\": 1, \"78\": 1}, \"12\": {\"12\": 38, \"33\": 1, \"71\": 1}, \"82\": {\"82\": 32}, \"17\": {\"17\": 20}, \"55\": {\"55\": 16}, \"58\": {\"58\": 16}, \"93\": {\"93\": 40}, \"50\": {\"50\": 16}, \"6\": {\"6\": 24}, \"90\": {\"90\": 40}, \"99\": {\"99\": 38}, \"24\": {\"24\": 41, \"97\": 1}, \"77\": {\"77\": 12}, \"41\": {\"41\": 15, \"44\": 1}, \"120\": {\"120\": 20}, \"27\": {\"27\": 37, \"88\": 1}, \"53\": {\"53\": 15, \"52\": 1}, \"101\": {\"101\": 37, \"88\": 1}, \"28\": {\"28\": 20}, \"38\": {\"38\": 16}, \"42\": {\"42\": 28}, \"96\": {\"96\": 19, \"60\": 1}, \"34\": {\"34\": 30, \"91\": 1, \"47\": 1}, \"44\": {\"44\": 38}, \"113\": {\"113\": 38, \"23\": 1, \"95\": 1}, \"54\": {\"54\": 16}, \"84\": {\"84\": 45, \"67\": 1, \"23\": 1, \"16\": 1}, \"66\": {\"66\": 16}, \"21\": {\"21\": 33, \"12\": 1, \"62\": 1, \"126\": 1, \"78\": 3, \"114\": 1}, \"127\": {\"127\": 40}, \"62\": {\"62\": 38, \"122\": 1, \"12\": 1, \"108\": 1, \"21\": 1, \"118\": 2}, \"67\": {\"67\": 15, \"121\": 1}, \"11\": {\"11\": 36}, \"19\": {\"19\": 28}, \"111\": {\"111\": 31, \"88\": 1}, \"32\": {\"32\": 28}, \"16\": {\"16\": 38, \"21\": 1, \"15\": 1}, \"20\": {\"20\": 15, \"74\": 1}, \"86\": {\"86\": 26, \"88\": 1, \"95\": 1}, \"76\": {\"76\": 16}, \"8\": {\"8\": 40}, \"10\": {\"10\": 39, \"24\": 2, \"70\": 1}, \"119\": {\"119\": 16}, \"78\": {\"78\": 29, \"88\": 1, \"21\": 1, \"95\": 1}, \"97\": {\"10\": 2, \"24\": 7, \"97\": 11}, \"128\": {\"128\": 24}, \"39\": {\"39\": 27, \"126\": 1}, \"1\": {\"21\": 2, \"1\": 26, \"33\": 1, \"36\": 1}, \"95\": {\"95\": 31, \"1\": 1}, \"47\": {\"47\": 12}, \"45\": {\"45\": 16}, \"110\": {\"110\": 36, \"122\": 1, \"54\": 1}, \"89\": {\"89\": 31, \"121\": 1}, \"60\": {\"60\": 32}, \"73\": {\"27\": 1, \"73\": 21, \"83\": 1, \"129\": 1}, \"102\": {\"102\": 38}, \"75\": {\"75\": 16}, \"18\": {\"18\": 34, \"118\": 1, \"21\": 1}, \"52\": {\"52\": 18, \"53\": 2}, \"65\": {\"65\": 12}, \"23\": {\"23\": 7, \"62\": 1, \"21\": 1, \"110\": 1, \"94\": 2, \"71\": 2, \"0\": 2}, \"59\": {\"59\": 12}, \"30\": {\"23\": 2, \"30\": 35, \"106\": 1, \"12\": 1, \"108\": 1}, \"124\": {\"124\": 40}, \"121\": {\"121\": 30}, \"116\": {\"116\": 26}, \"109\": {\"109\": 34}, \"15\": {\"15\": 39, \"30\": 1}, \"7\": {\"7\": 30}, \"100\": {\"100\": 17, \"62\": 1, \"20\": 1, \"1\": 1}, \"36\": {\"36\": 34}, \"94\": {\"94\": 41, \"118\": 1}, \"87\": {\"87\": 26, \"108\": 1, \"122\": 1}, \"40\": {\"40\": 35, \"95\": 1}, \"56\": {\"56\": 12}, \"29\": {\"29\": 32}, \"51\": {\"23\": 1, \"51\": 13, \"24\": 1, \"97\": 1}, \"3\": {\"3\": 40, \"85\": 1, \"52\": 1}, \"129\": {\"129\": 28}, \"2\": {\"2\": 27, \"74\": 1}, \"5\": {\"5\": 39, \"78\": 1}, \"9\": {\"9\": 28}, \"115\": {\"115\": 16}, \"92\": {\"92\": 26}, \"13\": {\"13\": 16}, \"22\": {\"22\": 16}, \"72\": {\"72\": 29, \"64\": 1, \"100\": 1, \"67\": 1}, \"117\": {\"117\": 36}, \"25\": {\"25\": 16}, \"123\": {\"123\": 16}, \"85\": {\"85\": 28}, \"108\": {\"108\": 35, \"88\": 1, \"70\": 4}, \"64\": {\"64\": 16}, \"83\": {\"83\": 27, \"53\": 1}, \"37\": {\"37\": 14, \"127\": 1, \"94\": 1}, \"98\": {\"98\": 30}, \"103\": {\"103\": 16}, \"125\": {\"125\": 34}, \"88\": {\"88\": 34, \"70\": 1, \"27\": 1}, \"122\": {\"122\": 37, \"23\": 1, \"21\": 2}, \"61\": {\"61\": 16}, \"69\": {\"69\": 44, \"21\": 1, \"88\": 1}, \"104\": {\"104\": 16}, \"70\": {\"70\": 40}, \"68\": {\"68\": 16}, \"46\": {\"46\": 19, \"60\": 1}, \"107\": {\"107\": 32}, \"26\": {\"26\": 40}, \"33\": {\"33\": 40, \"10\": 1, \"1\": 1}, \"35\": {\"35\": 10, \"61\": 1, \"21\": 1}, \"118\": {\"118\": 35, \"78\": 1, \"21\": 1, \"88\": 1}, \"80\": {\"80\": 15, \"84\": 1}, \"105\": {\"105\": 34, \"21\": 1, \"40\": 1}, \"71\": {\"71\": 39, \"26\": 1}, \"43\": {\"43\": 28}, \"63\": {\"63\": 16}, \"31\": {\"31\": 16}, \"114\": {\"114\": 36}, \"14\": {\"14\": 30}, \"79\": {\"79\": 16}, \"126\": {\"126\": 26}}, \"CORES_4\": {\"42\": {\"42\": 16}, \"55\": {\"55\": 16}, \"35\": {\"35\": 16}, \"27\": {\"27\": 16}, \"8\": {\"8\": 16}, \"57\": {\"57\": 16}, \"49\": {\"49\": 16}, \"47\": {\"47\": 16}, \"16\": {\"16\": 16}, \"56\": {\"56\": 16}, \"31\": {\"31\": 16}, \"10\": {\"10\": 16}, \"26\": {\"26\": 16}, \"19\": {\"19\": 16}, \"52\": {\"52\": 16}, \"53\": {\"53\": 16}, \"37\": {\"37\": 16}, \"48\": {\"48\": 16}, \"1\": {\"1\": 16}, \"0\": {\"0\": 16}, \"13\": {\"13\": 16}, \"21\": {\"21\": 16}, \"18\": {\"18\": 16}, \"24\": {\"24\": 16}, \"6\": {\"6\": 16}, \"4\": {\"4\": 16}, \"30\": {\"30\": 15, \"21\": 1}, \"38\": {\"38\": 16}, \"34\": {\"34\": 16}, \"11\": {\"11\": 16}, \"12\": {\"12\": 16}, \"22\": {\"22\": 16}, \"3\": {\"3\": 16}, \"23\": {\"23\": 16}, \"9\": {\"9\": 16}, \"15\": {\"15\": 15, \"11\": 1}, \"50\": {\"50\": 16}, \"5\": {\"5\": 16}, \"33\": {\"33\": 16}, \"46\": {\"46\": 16}, \"20\": {\"20\": 16}, \"45\": {\"45\": 15, \"50\": 1}, \"2\": {\"2\": 16}, \"7\": {\"7\": 13, \"24\": 1, \"32\": 1, \"55\": 1}, \"39\": {\"39\": 16}, \"40\": {\"40\": 16}, \"44\": {\"44\": 16}, \"41\": {\"41\": 16}, \"29\": {\"29\": 16}, \"54\": {\"54\": 16}, \"32\": {\"32\": 15, \"7\": 1}, \"25\": {\"25\": 16}, \"43\": {\"43\": 16}, \"28\": {\"28\": 16}, \"51\": {\"51\": 16}, \"14\": {\"14\": 9, \"17\": 2, \"2\": 2, \"19\": 3}, \"36\": {\"36\": 16}, \"17\": {\"17\": 16}}, \"CORES_5\": {\"25\": {\"25\": 20}, \"14\": {\"49\": 6, \"37\": 7, \"14\": 6, \"17\": 1}, \"30\": {\"30\": 20}, \"50\": {\"50\": 18, \"6\": 1, \"45\": 1}, \"31\": {\"31\": 20}, \"15\": {\"15\": 20}, \"38\": {\"38\": 18, \"7\": 2}, \"43\": {\"43\": 20}, \"19\": {\"19\": 20}, \"26\": {\"26\": 20}, \"48\": {\"48\": 20}, \"12\": {\"12\": 20}, \"18\": {\"18\": 20}, \"8\": {\"8\": 20}, \"5\": {\"5\": 20}, \"24\": {\"24\": 20}, \"16\": {\"16\": 20}, \"10\": {\"10\": 20}, \"2\": {\"2\": 20}, \"27\": {\"27\": 20}, \"35\": {\"35\": 20}, \"17\": {\"17\": 20}, \"37\": {\"37\": 20}, \"41\": {\"41\": 20}, \"45\": {\"45\": 18, \"50\": 2}, \"54\": {\"54\": 20}, \"34\": {\"34\": 19, \"35\": 1}, \"56\": {\"56\": 20}, \"52\": {\"52\": 20}, \"39\": {\"39\": 20}, \"57\": {\"57\": 20}, \"0\": {\"0\": 20}, \"20\": {\"20\": 20}, \"46\": {\"46\": 20}, \"28\": {\"28\": 20}, \"23\": {\"23\": 20}, \"53\": {\"53\": 20}, \"7\": {\"7\": 19, \"38\": 1}, \"3\": {\"3\": 18, \"22\": 2}, \"22\": {\"22\": 19, \"56\": 1}, \"44\": {\"44\": 20}, \"42\": {\"42\": 20}, \"9\": {\"9\": 20}, \"1\": {\"1\": 20}, \"13\": {\"13\": 19, \"56\": 1}, \"49\": {\"49\": 20}, \"11\": {\"11\": 20}, \"47\": {\"47\": 20}, \"21\": {\"21\": 20}, \"29\": {\"29\": 20}, \"51\": {\"51\": 20}, \"36\": {\"36\": 20}, \"6\": {\"6\": 17, \"45\": 3}, \"33\": {\"33\": 20}, \"4\": {\"4\": 20}, \"32\": {\"32\": 20}, \"55\": {\"55\": 20}, \"40\": {\"40\": 19, \"5\": 1}}, \"CORES_2\": {\"19\": {\"19\": 20}, \"6\": {\"6\": 20}, \"45\": {\"45\": 20}, \"49\": {\"49\": 20}, \"23\": {\"23\": 20}, \"28\": {\"28\": 20}, \"54\": {\"54\": 20}, \"36\": {\"36\": 20}, \"0\": {\"0\": 20}, \"56\": {\"56\": 20}, \"20\": {\"20\": 20}, \"8\": {\"8\": 20}, \"11\": {\"11\": 20}, \"39\": {\"39\": 20}, \"42\": {\"42\": 19, \"10\": 1}, \"24\": {\"24\": 20}, \"44\": {\"44\": 20}, \"29\": {\"29\": 18, \"57\": 2}, \"13\": {\"13\": 20}, \"35\": {\"35\": 19, \"49\": 1}, \"50\": {\"50\": 20}, \"40\": {\"40\": 20}, \"21\": {\"21\": 20}, \"34\": {\"34\": 20}, \"52\": {\"52\": 20}, \"2\": {\"2\": 20}, \"57\": {\"57\": 19, \"29\": 1}, \"4\": {\"4\": 20}, \"37\": {\"37\": 20}, \"26\": {\"26\": 20}, \"33\": {\"33\": 20}, \"18\": {\"18\": 20}, \"10\": {\"10\": 20}, \"31\": {\"31\": 20}, \"22\": {\"22\": 20}, \"41\": {\"1\": 1, \"41\": 18, \"0\": 1}, \"27\": {\"27\": 20}, \"1\": {\"1\": 20}, \"55\": {\"55\": 20}, \"15\": {\"15\": 20}, \"38\": {\"38\": 20}, \"12\": {\"12\": 20}, \"51\": {\"51\": 20}, \"32\": {\"32\": 20}, \"3\": {\"3\": 20}, \"5\": {\"5\": 20}, \"14\": {\"13\": 2, \"38\": 13, \"14\": 5}, \"43\": {\"43\": 20}, \"30\": {\"30\": 20}, \"16\": {\"16\": 20}, \"47\": {\"47\": 20}, \"7\": {\"7\": 20}, \"9\": {\"4\": 1, \"9\": 19}, \"46\": {\"46\": 19, \"6\": 1}, \"48\": {\"48\": 20}, \"25\": {\"25\": 20}, \"53\": {\"53\": 20}, \"17\": {\"17\": 20}}, \"CORES_1\": {\"24\": {\"24\": 24}, \"9\": {\"9\": 24}, \"0\": {\"0\": 24}, \"41\": {\"41\": 21, \"8\": 3}, \"17\": {\"17\": 24}, \"38\": {\"38\": 15, \"27\": 5, \"36\": 3, \"21\": 1}, \"3\": {\"3\": 24}, \"37\": {\"37\": 24}, \"46\": {\"46\": 24}, \"51\": {\"51\": 24}, \"40\": {\"40\": 24}, \"45\": {\"45\": 24}, \"53\": {\"53\": 24}, \"56\": {\"56\": 20, \"45\": 4}, \"36\": {\"36\": 24}, \"50\": {\"50\": 24}, \"42\": {\"42\": 24}, \"1\": {\"1\": 24}, \"34\": {\"34\": 21, \"33\": 3}, \"55\": {\"55\": 24}, \"7\": {\"7\": 24}, \"23\": {\"23\": 24}, \"2\": {\"2\": 24}, \"18\": {\"18\": 24}, \"15\": {\"15\": 24}, \"29\": {\"29\": 23, \"57\": 1}, \"30\": {\"30\": 24}, \"33\": {\"33\": 24}, \"32\": {\"32\": 24}, \"19\": {\"19\": 24}, \"16\": {\"16\": 24}, \"43\": {\"43\": 24}, \"5\": {\"5\": 24}, \"12\": {\"12\": 23, \"0\": 1}, \"44\": {\"44\": 24}, \"14\": {\"2\": 4, \"14\": 15, \"30\": 4, \"8\": 1}, \"8\": {\"8\": 24}, \"20\": {\"20\": 23, \"12\": 1}, \"31\": {\"31\": 24}, \"28\": {\"28\": 24}, \"11\": {\"11\": 24}, \"27\": {\"27\": 24}, \"48\": {\"48\": 24}, \"21\": {\"21\": 24}, \"26\": {\"26\": 24}, \"6\": {\"6\": 24}, \"4\": {\"4\": 24}, \"35\": {\"35\": 24}, \"10\": {\"10\": 24}, \"57\": {\"57\": 24}, \"47\": {\"47\": 24}, \"13\": {\"13\": 24}, \"54\": {\"54\": 24}, \"49\": {\"49\": 24}, \"25\": {\"25\": 24}, \"22\": {\"22\": 24}, \"39\": {\"39\": 23, \"43\": 1}, \"52\": {\"52\": 24}}, \"CORES_3\": {\"13\": {\"13\": 16}, \"45\": {\"45\": 16}, \"17\": {\"17\": 16}, \"11\": {\"11\": 15, \"15\": 1}, \"41\": {\"41\": 16}, \"24\": {\"24\": 16}, \"30\": {\"30\": 16}, \"43\": {\"43\": 16}, \"51\": {\"51\": 16}, \"2\": {\"2\": 16}, \"42\": {\"42\": 16}, \"40\": {\"40\": 16}, \"16\": {\"16\": 16}, \"54\": {\"54\": 16}, \"50\": {\"50\": 16}, \"48\": {\"48\": 16}, \"8\": {\"8\": 16}, \"21\": {\"21\": 16}, \"29\": {\"29\": 14, \"57\": 2}, \"14\": {\"14\": 9, \"1\": 4, \"13\": 3}, \"47\": {\"47\": 16}, \"32\": {\"32\": 16}, \"36\": {\"36\": 16}, \"9\": {\"9\": 16}, \"52\": {\"52\": 16}, \"0\": {\"0\": 16}, \"6\": {\"6\": 16}, \"12\": {\"12\": 16}, \"4\": {\"4\": 16}, \"49\": {\"49\": 15, \"55\": 1}, \"37\": {\"37\": 16}, \"18\": {\"18\": 16}, \"35\": {\"35\": 16}, \"38\": {\"38\": 16}, \"10\": {\"10\": 16}, \"25\": {\"25\": 16}, \"22\": {\"22\": 16}, \"1\": {\"1\": 16}, \"19\": {\"19\": 16}, \"33\": {\"33\": 16}, \"28\": {\"28\": 16}, \"23\": {\"23\": 16}, \"57\": {\"57\": 16}, \"34\": {\"34\": 16}, \"46\": {\"46\": 16}, \"44\": {\"44\": 16}, \"31\": {\"31\": 16}, \"27\": {\"27\": 16}, \"26\": {\"26\": 16}, \"15\": {\"15\": 15, \"11\": 1}, \"20\": {\"20\": 16}, \"3\": {\"3\": 16}, \"56\": {\"56\": 16}, \"7\": {\"7\": 15, \"48\": 1}, \"53\": {\"53\": 16}, \"5\": {\"5\": 16}, \"39\": {\"39\": 16}, \"55\": {\"55\": 16}}}, \"per_domain_accuracy\": {\"Wisig_3\": {\"accuracy\": 0.9711745689655172, \"source?\": true}, \"Wisig_1\": {\"accuracy\": 0.9768318965517241, \"source?\": true}, \"Wisig_2\": {\"accuracy\": 0.9417450365726228, \"source?\": true}, \"Wisig_4\": {\"accuracy\": 0.9616240266963293, \"source?\": true}, \"CORES_4\": {\"accuracy\": 0.9849137931034483, \"source?\": false}, \"CORES_5\": {\"accuracy\": 0.9741379310344828, \"source?\": false}, \"CORES_2\": {\"accuracy\": 0.9793103448275862, \"source?\": false}, \"CORES_1\": {\"accuracy\": 0.9770114942528736, \"source?\": false}, \"CORES_3\": {\"accuracy\": 0.9859913793103449, \"source?\": false}}}, \"history\": {\"epoch_indices\": [1, 2, 3], \"train_label_loss\": [0.5325173324124818, 0.2655664083718991, 0.2147713641771763], \"source_val_label_loss\": [0.32665252685546875, 0.23375540971755981, 0.22031766176223755], \"target_val_label_loss\": [0.236764058470726, 0.19667094945907593, 0.1681537926197052], \"source_val_acc_label\": [0.9439655172413793, 0.9581088362068966, 0.9626885775862069], \"target_val_acc_label\": [0.9725215517241379, 0.9755747126436781, 0.9797054597701149]}, \"dataset_metrics\": {\"source\": {\"train\": {\"n_unique_x\": 141149, \"n_unique_y\": 130, \"n_batch/episode\": 913}, \"val\": {\"n_unique_x\": 25956, \"n_unique_y\": 130, \"n_batch/episode\": 128}, \"test\": {\"n_unique_x\": 26910, \"n_unique_y\": 130, \"n_batch/episode\": 134}}, \"target\": {\"train\": {\"n_unique_x\": 75639, \"n_unique_y\": 58, \"n_batch/episode\": 351}, \"val\": {\"n_unique_x\": 11845, \"n_unique_y\": 58, \"n_batch/episode\": 48}, \"test\": {\"n_unique_x\": 12318, \"n_unique_y\": 58, \"n_batch/episode\": 50}}}}'"
      ]
     },
     "execution_count": 29,
     "metadata": {},
     "output_type": "execute_result"
    }
   ],
   "source": [
    "json.dumps(experiment)"
   ]
  }
 ],
 "metadata": {
  "celltoolbar": "Tags",
  "kernelspec": {
   "display_name": "Python 3 (ipykernel)",
   "language": "python",
   "name": "python3"
  },
  "language_info": {
   "codemirror_mode": {
    "name": "ipython",
    "version": 3
   },
   "file_extension": ".py",
   "mimetype": "text/x-python",
   "name": "python",
   "nbconvert_exporter": "python",
   "pygments_lexer": "ipython3",
   "version": "3.8.12"
  },
  "papermill": {
   "default_parameters": {},
   "duration": 361.229434,
   "end_time": "2022-03-21T04:29:19.165081",
   "environment_variables": {},
   "exception": null,
   "input_path": "/root/csc500-main/csc500-notebooks/templates/tl_ptn_template.ipynb",
   "output_path": "trial.ipynb",
   "parameters": {
    "parameters": {
     "BEST_MODEL_PATH": "./best_model.pth",
     "NUM_LOGS_PER_EPOCH": 10,
     "criteria_for_best": "target_accuracy",
     "dataset_seed": 500,
     "datasets": [
      {
       "domain_prefix": "CORES_",
       "domains": [
        1,
        2,
        3,
        4,
        5
       ],
       "episode_transforms": [],
       "labels": [
        "1-10.",
        "1-11.",
        "1-15.",
        "1-16.",
        "1-17.",
        "1-18.",
        "1-19.",
        "10-4.",
        "10-7.",
        "11-1.",
        "11-14.",
        "11-17.",
        "11-20.",
        "11-7.",
        "13-20.",
        "13-8.",
        "14-10.",
        "14-11.",
        "14-14.",
        "14-7.",
        "15-1.",
        "15-20.",
        "16-1.",
        "16-16.",
        "17-10.",
        "17-11.",
        "17-2.",
        "19-1.",
        "19-16.",
        "19-19.",
        "19-20.",
        "19-3.",
        "2-10.",
        "2-11.",
        "2-17.",
        "2-18.",
        "2-20.",
        "2-3.",
        "2-4.",
        "2-5.",
        "2-6.",
        "2-7.",
        "2-8.",
        "3-13.",
        "3-18.",
        "3-3.",
        "4-1.",
        "4-10.",
        "4-11.",
        "4-19.",
        "5-5.",
        "6-15.",
        "7-10.",
        "7-14.",
        "8-18.",
        "8-20.",
        "8-3.",
        "8-8."
       ],
       "num_examples_per_domain_per_label": -1,
       "pickle_path": "/root/csc500-main/datasets/cores.stratified_ds.2022A.pkl",
       "source_or_target_dataset": "target",
       "x_transforms": []
      },
      {
       "domain_prefix": "Wisig_",
       "domains": [
        1,
        2,
        3,
        4
       ],
       "episode_transforms": [],
       "labels": [
        "1-10",
        "1-12",
        "1-14",
        "1-16",
        "1-18",
        "1-19",
        "1-8",
        "10-11",
        "10-17",
        "10-4",
        "10-7",
        "11-1",
        "11-10",
        "11-19",
        "11-20",
        "11-4",
        "11-7",
        "12-19",
        "12-20",
        "12-7",
        "13-14",
        "13-18",
        "13-19",
        "13-20",
        "13-3",
        "13-7",
        "14-10",
        "14-11",
        "14-12",
        "14-13",
        "14-14",
        "14-19",
        "14-20",
        "14-7",
        "14-8",
        "14-9",
        "15-1",
        "15-19",
        "15-6",
        "16-1",
        "16-16",
        "16-19",
        "16-20",
        "17-10",
        "17-11",
        "18-1",
        "18-10",
        "18-11",
        "18-12",
        "18-13",
        "18-14",
        "18-15",
        "18-16",
        "18-17",
        "18-19",
        "18-2",
        "18-20",
        "18-4",
        "18-5",
        "18-7",
        "18-8",
        "18-9",
        "19-1",
        "19-10",
        "19-11",
        "19-12",
        "19-13",
        "19-14",
        "19-15",
        "19-19",
        "19-2",
        "19-20",
        "19-3",
        "19-4",
        "19-6",
        "19-7",
        "19-8",
        "19-9",
        "2-1",
        "2-13",
        "2-15",
        "2-3",
        "2-4",
        "2-5",
        "2-6",
        "2-7",
        "2-8",
        "20-1",
        "20-12",
        "20-14",
        "20-15",
        "20-16",
        "20-18",
        "20-19",
        "20-20",
        "20-3",
        "20-4",
        "20-5",
        "20-7",
        "20-8",
        "3-1",
        "3-13",
        "3-18",
        "3-2",
        "3-8",
        "4-1",
        "4-10",
        "4-11",
        "5-1",
        "5-5",
        "6-1",
        "6-15",
        "6-6",
        "7-10",
        "7-11",
        "7-12",
        "7-13",
        "7-14",
        "7-7",
        "7-8",
        "7-9",
        "8-1",
        "8-13",
        "8-14",
        "8-18",
        "8-20",
        "8-3",
        "8-8",
        "9-1",
        "9-7"
       ],
       "num_examples_per_domain_per_label": -1,
       "pickle_path": "/root/csc500-main/datasets/wisig.node3-19.stratified_ds.2022A.pkl",
       "source_or_target_dataset": "source",
       "x_transforms": []
      }
     ],
     "device": "cuda",
     "experiment_name": "tl_1v2:cores-wisig",
     "lr": 0.0001,
     "n_epoch": 3,
     "n_query": 2,
     "n_shot": 3,
     "n_way": 58,
     "patience": 3,
     "seed": 500,
     "test_k_factor": 2,
     "torch_default_dtype": "torch.float32",
     "train_k_factor": 3,
     "val_k_factor": 2,
     "x_net": [
      {
       "class": "nnReshape",
       "kargs": {
        "shape": [
         -1,
         1,
         2,
         256
        ]
       }
      },
      {
       "class": "Conv2d",
       "kargs": {
        "bias": false,
        "in_channels": 1,
        "kernel_size": [
         1,
         7
        ],
        "out_channels": 256,
        "padding": [
         0,
         3
        ]
       }
      },
      {
       "class": "ReLU",
       "kargs": {
        "inplace": true
       }
      },
      {
       "class": "BatchNorm2d",
       "kargs": {
        "num_features": 256
       }
      },
      {
       "class": "Conv2d",
       "kargs": {
        "bias": true,
        "in_channels": 256,
        "kernel_size": [
         2,
         7
        ],
        "out_channels": 80,
        "padding": [
         0,
         3
        ]
       }
      },
      {
       "class": "ReLU",
       "kargs": {
        "inplace": true
       }
      },
      {
       "class": "BatchNorm2d",
       "kargs": {
        "num_features": 80
       }
      },
      {
       "class": "Flatten",
       "kargs": {}
      },
      {
       "class": "Linear",
       "kargs": {
        "in_features": 20480,
        "out_features": 256
       }
      },
      {
       "class": "ReLU",
       "kargs": {
        "inplace": true
       }
      },
      {
       "class": "BatchNorm1d",
       "kargs": {
        "num_features": 256
       }
      },
      {
       "class": "Linear",
       "kargs": {
        "in_features": 256,
        "out_features": 256
       }
      }
     ]
    }
   },
   "start_time": "2022-03-21T04:23:17.935647",
   "version": "2.3.4"
  }
 },
 "nbformat": 4,
 "nbformat_minor": 5
}