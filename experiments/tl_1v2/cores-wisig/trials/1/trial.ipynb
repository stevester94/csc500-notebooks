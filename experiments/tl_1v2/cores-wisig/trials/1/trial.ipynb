{
 "cells": [
  {
   "cell_type": "markdown",
   "id": "9fea5f46",
   "metadata": {
    "papermill": {
     "duration": 0.028764,
     "end_time": "2022-03-21T02:03:36.749675",
     "exception": false,
     "start_time": "2022-03-21T02:03:36.720911",
     "status": "completed"
    },
    "tags": []
   },
   "source": [
    "# Transfer Learning Template"
   ]
  },
  {
   "cell_type": "code",
   "execution_count": 1,
   "id": "0902182a",
   "metadata": {
    "execution": {
     "iopub.execute_input": "2022-03-21T02:03:36.809419Z",
     "iopub.status.busy": "2022-03-21T02:03:36.808561Z",
     "iopub.status.idle": "2022-03-21T02:03:38.998838Z",
     "shell.execute_reply": "2022-03-21T02:03:38.997963Z"
    },
    "papermill": {
     "duration": 2.229716,
     "end_time": "2022-03-21T02:03:38.999030",
     "exception": false,
     "start_time": "2022-03-21T02:03:36.769314",
     "status": "completed"
    },
    "tags": []
   },
   "outputs": [],
   "source": [
    "%load_ext autoreload\n",
    "%autoreload 2\n",
    "%matplotlib inline\n",
    "\n",
    "    \n",
    "import os, json, sys, time, random\n",
    "import numpy as np\n",
    "import torch\n",
    "from torch.optim import Adam\n",
    "from  easydict import EasyDict\n",
    "import matplotlib.pyplot as plt\n",
    "\n",
    "from steves_models.steves_ptn import Steves_Prototypical_Network\n",
    "\n",
    "from steves_utils.lazy_iterable_wrapper import Lazy_Iterable_Wrapper\n",
    "from steves_utils.iterable_aggregator import Iterable_Aggregator\n",
    "from steves_utils.ptn_train_eval_test_jig import  PTN_Train_Eval_Test_Jig\n",
    "from steves_utils.torch_sequential_builder import build_sequential\n",
    "from steves_utils.torch_utils import get_dataset_metrics, ptn_confusion_by_domain_over_dataloader\n",
    "from steves_utils.utils_v2 import (per_domain_accuracy_from_confusion, get_datasets_base_path)\n",
    "from steves_utils.PTN.utils import independent_accuracy_assesment\n",
    "\n",
    "from torch.utils.data import DataLoader\n",
    "\n",
    "from steves_utils.stratified_dataset.episodic_accessor import Episodic_Accessor_Factory\n",
    "\n",
    "from steves_utils.ptn_do_report import (\n",
    "    get_loss_curve,\n",
    "    get_results_table,\n",
    "    get_parameters_table,\n",
    "    get_domain_accuracies,\n",
    ")\n",
    "\n",
    "from steves_utils.transforms import get_chained_transform"
   ]
  },
  {
   "cell_type": "markdown",
   "id": "41c840b4",
   "metadata": {
    "papermill": {
     "duration": 0.019479,
     "end_time": "2022-03-21T02:03:39.043643",
     "exception": false,
     "start_time": "2022-03-21T02:03:39.024164",
     "status": "completed"
    },
    "tags": []
   },
   "source": [
    "# Allowed Parameters\n",
    "These are allowed parameters, not defaults\n",
    "Each of these values need to be present in the injected parameters (the notebook will raise an exception if they are not present)\n",
    "\n",
    "Papermill uses the cell tag \"parameters\" to inject the real parameters below this cell.\n",
    "Enable tags to see what I mean"
   ]
  },
  {
   "cell_type": "code",
   "execution_count": 2,
   "id": "fd44eb83",
   "metadata": {
    "execution": {
     "iopub.execute_input": "2022-03-21T02:03:39.087886Z",
     "iopub.status.busy": "2022-03-21T02:03:39.087473Z",
     "iopub.status.idle": "2022-03-21T02:03:39.111421Z",
     "shell.execute_reply": "2022-03-21T02:03:39.110600Z"
    },
    "papermill": {
     "duration": 0.048425,
     "end_time": "2022-03-21T02:03:39.111589",
     "exception": false,
     "start_time": "2022-03-21T02:03:39.063164",
     "status": "completed"
    },
    "tags": []
   },
   "outputs": [],
   "source": [
    "required_parameters = {\n",
    "    \"experiment_name\",\n",
    "    \"lr\",\n",
    "    \"device\",\n",
    "    \"seed\",\n",
    "    \"dataset_seed\",\n",
    "    \"n_shot\",\n",
    "    \"n_query\",\n",
    "    \"n_way\",\n",
    "    \"train_k_factor\",\n",
    "    \"val_k_factor\",\n",
    "    \"test_k_factor\",\n",
    "    \"n_epoch\",\n",
    "    \"patience\",\n",
    "    \"criteria_for_best\",\n",
    "    \"x_net\",\n",
    "    \"datasets\",\n",
    "    \"torch_default_dtype\",\n",
    "    \"NUM_LOGS_PER_EPOCH\",\n",
    "    \"BEST_MODEL_PATH\",\n",
    "    \"x_shape\",\n",
    "}"
   ]
  },
  {
   "cell_type": "code",
   "execution_count": 3,
   "id": "fa3f0049",
   "metadata": {
    "execution": {
     "iopub.execute_input": "2022-03-21T02:03:39.175802Z",
     "iopub.status.busy": "2022-03-21T02:03:39.162315Z",
     "iopub.status.idle": "2022-03-21T02:03:39.200039Z",
     "shell.execute_reply": "2022-03-21T02:03:39.199199Z"
    },
    "papermill": {
     "duration": 0.060094,
     "end_time": "2022-03-21T02:03:39.200192",
     "exception": false,
     "start_time": "2022-03-21T02:03:39.140098",
     "status": "completed"
    },
    "tags": [
     "parameters"
    ]
   },
   "outputs": [],
   "source": [
    "from steves_utils.CORES.utils import (\n",
    "    ALL_NODES,\n",
    "    ALL_NODES_MINIMUM_1000_EXAMPLES,\n",
    "    ALL_DAYS\n",
    ")\n",
    "\n",
    "from steves_utils.ORACLE.utils_v2 import (\n",
    "    ALL_DISTANCES_FEET_NARROWED,\n",
    "    ALL_RUNS,\n",
    "    ALL_SERIAL_NUMBERS,\n",
    ")\n",
    "\n",
    "standalone_parameters = {}\n",
    "standalone_parameters[\"experiment_name\"] = \"STANDALONE PTN\"\n",
    "standalone_parameters[\"lr\"] = 0.001\n",
    "standalone_parameters[\"device\"] = \"cuda\"\n",
    "\n",
    "standalone_parameters[\"seed\"] = 1337\n",
    "standalone_parameters[\"dataset_seed\"] = 1337\n",
    "\n",
    "standalone_parameters[\"n_way\"] = 8\n",
    "standalone_parameters[\"n_shot\"] = 3\n",
    "standalone_parameters[\"n_query\"]  = 2\n",
    "standalone_parameters[\"train_k_factor\"] = 1\n",
    "standalone_parameters[\"val_k_factor\"] = 2\n",
    "standalone_parameters[\"test_k_factor\"] = 2\n",
    "\n",
    "\n",
    "standalone_parameters[\"n_epoch\"] = 50\n",
    "\n",
    "standalone_parameters[\"patience\"] = 10\n",
    "standalone_parameters[\"criteria_for_best\"] = \"source_loss\"\n",
    "\n",
    "standalone_parameters[\"datasets\"] = [\n",
    "    {\n",
    "        \"labels\": ALL_SERIAL_NUMBERS,\n",
    "        \"domains\": ALL_DISTANCES_FEET_NARROWED,\n",
    "        \"num_examples_per_domain_per_label\": 100,\n",
    "        \"pickle_path\": os.path.join(get_datasets_base_path(), \"oracle.Run1_framed_2000Examples_stratified_ds.2022A.pkl\"),\n",
    "        \"source_or_target_dataset\": \"source\",\n",
    "        \"x_transforms\": [\"unit_mag\", \"minus_two\"],\n",
    "        \"episode_transforms\": [],\n",
    "        \"domain_prefix\": \"ORACLE_\"\n",
    "    },\n",
    "    {\n",
    "        \"labels\": ALL_NODES,\n",
    "        \"domains\": ALL_DAYS,\n",
    "        \"num_examples_per_domain_per_label\": 100,\n",
    "        \"pickle_path\": os.path.join(get_datasets_base_path(), \"cores.stratified_ds.2022A.pkl\"),\n",
    "        \"source_or_target_dataset\": \"target\",\n",
    "        \"x_transforms\": [\"unit_power\", \"times_zero\"],\n",
    "        \"episode_transforms\": [],\n",
    "        \"domain_prefix\": \"CORES_\"\n",
    "    }   \n",
    "]\n",
    "\n",
    "standalone_parameters[\"torch_default_dtype\"] = \"torch.float32\" \n",
    "\n",
    "\n",
    "\n",
    "standalone_parameters[\"x_net\"] =     [\n",
    "    {\"class\": \"nnReshape\", \"kargs\": {\"shape\":[-1, 1, 2, 256]}},\n",
    "    {\"class\": \"Conv2d\", \"kargs\": { \"in_channels\":1, \"out_channels\":256, \"kernel_size\":(1,7), \"bias\":False, \"padding\":(0,3), },},\n",
    "    {\"class\": \"ReLU\", \"kargs\": {\"inplace\": True}},\n",
    "    {\"class\": \"BatchNorm2d\", \"kargs\": {\"num_features\":256}},\n",
    "\n",
    "    {\"class\": \"Conv2d\", \"kargs\": { \"in_channels\":256, \"out_channels\":80, \"kernel_size\":(2,7), \"bias\":True, \"padding\":(0,3), },},\n",
    "    {\"class\": \"ReLU\", \"kargs\": {\"inplace\": True}},\n",
    "    {\"class\": \"BatchNorm2d\", \"kargs\": {\"num_features\":80}},\n",
    "    {\"class\": \"Flatten\", \"kargs\": {}},\n",
    "\n",
    "    {\"class\": \"Linear\", \"kargs\": {\"in_features\": 80*256, \"out_features\": 256}}, # 80 units per IQ pair\n",
    "    {\"class\": \"ReLU\", \"kargs\": {\"inplace\": True}},\n",
    "    {\"class\": \"BatchNorm1d\", \"kargs\": {\"num_features\":256}},\n",
    "\n",
    "    {\"class\": \"Linear\", \"kargs\": {\"in_features\": 256, \"out_features\": 256}},\n",
    "]\n",
    "\n",
    "# Parameters relevant to results\n",
    "# These parameters will basically never need to change\n",
    "standalone_parameters[\"NUM_LOGS_PER_EPOCH\"] = 10\n",
    "standalone_parameters[\"BEST_MODEL_PATH\"] = \"./best_model.pth\"\n",
    "\n",
    "\n",
    "\n",
    "\n"
   ]
  },
  {
   "cell_type": "code",
   "execution_count": 4,
   "id": "d3bc8024",
   "metadata": {
    "execution": {
     "iopub.execute_input": "2022-03-21T02:03:39.264359Z",
     "iopub.status.busy": "2022-03-21T02:03:39.249464Z",
     "iopub.status.idle": "2022-03-21T02:03:39.286645Z",
     "shell.execute_reply": "2022-03-21T02:03:39.285839Z"
    },
    "papermill": {
     "duration": 0.060097,
     "end_time": "2022-03-21T02:03:39.286798",
     "exception": false,
     "start_time": "2022-03-21T02:03:39.226701",
     "status": "completed"
    },
    "tags": [
     "injected-parameters"
    ]
   },
   "outputs": [],
   "source": [
    "# Parameters\n",
    "parameters = {\n",
    "    \"experiment_name\": \"tl_1v2:cores-wisig\",\n",
    "    \"device\": \"cuda\",\n",
    "    \"lr\": 0.0001,\n",
    "    \"n_shot\": 3,\n",
    "    \"n_query\": 2,\n",
    "    \"train_k_factor\": 3,\n",
    "    \"val_k_factor\": 2,\n",
    "    \"test_k_factor\": 2,\n",
    "    \"torch_default_dtype\": \"torch.float32\",\n",
    "    \"n_epoch\": 3,\n",
    "    \"patience\": 3,\n",
    "    \"criteria_for_best\": \"target_accuracy\",\n",
    "    \"x_net\": [\n",
    "        {\"class\": \"nnReshape\", \"kargs\": {\"shape\": [-1, 1, 2, 256]}},\n",
    "        {\n",
    "            \"class\": \"Conv2d\",\n",
    "            \"kargs\": {\n",
    "                \"in_channels\": 1,\n",
    "                \"out_channels\": 256,\n",
    "                \"kernel_size\": [1, 7],\n",
    "                \"bias\": False,\n",
    "                \"padding\": [0, 3],\n",
    "            },\n",
    "        },\n",
    "        {\"class\": \"ReLU\", \"kargs\": {\"inplace\": True}},\n",
    "        {\"class\": \"BatchNorm2d\", \"kargs\": {\"num_features\": 256}},\n",
    "        {\n",
    "            \"class\": \"Conv2d\",\n",
    "            \"kargs\": {\n",
    "                \"in_channels\": 256,\n",
    "                \"out_channels\": 80,\n",
    "                \"kernel_size\": [2, 7],\n",
    "                \"bias\": True,\n",
    "                \"padding\": [0, 3],\n",
    "            },\n",
    "        },\n",
    "        {\"class\": \"ReLU\", \"kargs\": {\"inplace\": True}},\n",
    "        {\"class\": \"BatchNorm2d\", \"kargs\": {\"num_features\": 80}},\n",
    "        {\"class\": \"Flatten\", \"kargs\": {}},\n",
    "        {\"class\": \"Linear\", \"kargs\": {\"in_features\": 20480, \"out_features\": 256}},\n",
    "        {\"class\": \"ReLU\", \"kargs\": {\"inplace\": True}},\n",
    "        {\"class\": \"BatchNorm1d\", \"kargs\": {\"num_features\": 256}},\n",
    "        {\"class\": \"Linear\", \"kargs\": {\"in_features\": 256, \"out_features\": 256}},\n",
    "    ],\n",
    "    \"NUM_LOGS_PER_EPOCH\": 10,\n",
    "    \"BEST_MODEL_PATH\": \"./best_model.pth\",\n",
    "    \"n_way\": 58,\n",
    "    \"datasets\": [\n",
    "        {\n",
    "            \"labels\": [\n",
    "                \"1-10.\",\n",
    "                \"1-11.\",\n",
    "                \"1-15.\",\n",
    "                \"1-16.\",\n",
    "                \"1-17.\",\n",
    "                \"1-18.\",\n",
    "                \"1-19.\",\n",
    "                \"10-4.\",\n",
    "                \"10-7.\",\n",
    "                \"11-1.\",\n",
    "                \"11-14.\",\n",
    "                \"11-17.\",\n",
    "                \"11-20.\",\n",
    "                \"11-7.\",\n",
    "                \"13-20.\",\n",
    "                \"13-8.\",\n",
    "                \"14-10.\",\n",
    "                \"14-11.\",\n",
    "                \"14-14.\",\n",
    "                \"14-7.\",\n",
    "                \"15-1.\",\n",
    "                \"15-20.\",\n",
    "                \"16-1.\",\n",
    "                \"16-16.\",\n",
    "                \"17-10.\",\n",
    "                \"17-11.\",\n",
    "                \"17-2.\",\n",
    "                \"19-1.\",\n",
    "                \"19-16.\",\n",
    "                \"19-19.\",\n",
    "                \"19-20.\",\n",
    "                \"19-3.\",\n",
    "                \"2-10.\",\n",
    "                \"2-11.\",\n",
    "                \"2-17.\",\n",
    "                \"2-18.\",\n",
    "                \"2-20.\",\n",
    "                \"2-3.\",\n",
    "                \"2-4.\",\n",
    "                \"2-5.\",\n",
    "                \"2-6.\",\n",
    "                \"2-7.\",\n",
    "                \"2-8.\",\n",
    "                \"3-13.\",\n",
    "                \"3-18.\",\n",
    "                \"3-3.\",\n",
    "                \"4-1.\",\n",
    "                \"4-10.\",\n",
    "                \"4-11.\",\n",
    "                \"4-19.\",\n",
    "                \"5-5.\",\n",
    "                \"6-15.\",\n",
    "                \"7-10.\",\n",
    "                \"7-14.\",\n",
    "                \"8-18.\",\n",
    "                \"8-20.\",\n",
    "                \"8-3.\",\n",
    "                \"8-8.\",\n",
    "            ],\n",
    "            \"domains\": [1, 2, 3, 4, 5],\n",
    "            \"num_examples_per_domain_per_label\": -1,\n",
    "            \"pickle_path\": \"/root/csc500-main/datasets/cores.stratified_ds.2022A.pkl\",\n",
    "            \"source_or_target_dataset\": \"source\",\n",
    "            \"x_transforms\": [\"unit_mag\"],\n",
    "            \"episode_transforms\": [],\n",
    "            \"domain_prefix\": \"CORES_\",\n",
    "        },\n",
    "        {\n",
    "            \"labels\": [\n",
    "                \"1-10\",\n",
    "                \"1-12\",\n",
    "                \"1-14\",\n",
    "                \"1-16\",\n",
    "                \"1-18\",\n",
    "                \"1-19\",\n",
    "                \"1-8\",\n",
    "                \"10-11\",\n",
    "                \"10-17\",\n",
    "                \"10-4\",\n",
    "                \"10-7\",\n",
    "                \"11-1\",\n",
    "                \"11-10\",\n",
    "                \"11-19\",\n",
    "                \"11-20\",\n",
    "                \"11-4\",\n",
    "                \"11-7\",\n",
    "                \"12-19\",\n",
    "                \"12-20\",\n",
    "                \"12-7\",\n",
    "                \"13-14\",\n",
    "                \"13-18\",\n",
    "                \"13-19\",\n",
    "                \"13-20\",\n",
    "                \"13-3\",\n",
    "                \"13-7\",\n",
    "                \"14-10\",\n",
    "                \"14-11\",\n",
    "                \"14-12\",\n",
    "                \"14-13\",\n",
    "                \"14-14\",\n",
    "                \"14-19\",\n",
    "                \"14-20\",\n",
    "                \"14-7\",\n",
    "                \"14-8\",\n",
    "                \"14-9\",\n",
    "                \"15-1\",\n",
    "                \"15-19\",\n",
    "                \"15-6\",\n",
    "                \"16-1\",\n",
    "                \"16-16\",\n",
    "                \"16-19\",\n",
    "                \"16-20\",\n",
    "                \"17-10\",\n",
    "                \"17-11\",\n",
    "                \"18-1\",\n",
    "                \"18-10\",\n",
    "                \"18-11\",\n",
    "                \"18-12\",\n",
    "                \"18-13\",\n",
    "                \"18-14\",\n",
    "                \"18-15\",\n",
    "                \"18-16\",\n",
    "                \"18-17\",\n",
    "                \"18-19\",\n",
    "                \"18-2\",\n",
    "                \"18-20\",\n",
    "                \"18-4\",\n",
    "                \"18-5\",\n",
    "                \"18-7\",\n",
    "                \"18-8\",\n",
    "                \"18-9\",\n",
    "                \"19-1\",\n",
    "                \"19-10\",\n",
    "                \"19-11\",\n",
    "                \"19-12\",\n",
    "                \"19-13\",\n",
    "                \"19-14\",\n",
    "                \"19-15\",\n",
    "                \"19-19\",\n",
    "                \"19-2\",\n",
    "                \"19-20\",\n",
    "                \"19-3\",\n",
    "                \"19-4\",\n",
    "                \"19-6\",\n",
    "                \"19-7\",\n",
    "                \"19-8\",\n",
    "                \"19-9\",\n",
    "                \"2-1\",\n",
    "                \"2-13\",\n",
    "                \"2-15\",\n",
    "                \"2-3\",\n",
    "                \"2-4\",\n",
    "                \"2-5\",\n",
    "                \"2-6\",\n",
    "                \"2-7\",\n",
    "                \"2-8\",\n",
    "                \"20-1\",\n",
    "                \"20-12\",\n",
    "                \"20-14\",\n",
    "                \"20-15\",\n",
    "                \"20-16\",\n",
    "                \"20-18\",\n",
    "                \"20-19\",\n",
    "                \"20-20\",\n",
    "                \"20-3\",\n",
    "                \"20-4\",\n",
    "                \"20-5\",\n",
    "                \"20-7\",\n",
    "                \"20-8\",\n",
    "                \"3-1\",\n",
    "                \"3-13\",\n",
    "                \"3-18\",\n",
    "                \"3-2\",\n",
    "                \"3-8\",\n",
    "                \"4-1\",\n",
    "                \"4-10\",\n",
    "                \"4-11\",\n",
    "                \"5-1\",\n",
    "                \"5-5\",\n",
    "                \"6-1\",\n",
    "                \"6-15\",\n",
    "                \"6-6\",\n",
    "                \"7-10\",\n",
    "                \"7-11\",\n",
    "                \"7-12\",\n",
    "                \"7-13\",\n",
    "                \"7-14\",\n",
    "                \"7-7\",\n",
    "                \"7-8\",\n",
    "                \"7-9\",\n",
    "                \"8-1\",\n",
    "                \"8-13\",\n",
    "                \"8-14\",\n",
    "                \"8-18\",\n",
    "                \"8-20\",\n",
    "                \"8-3\",\n",
    "                \"8-8\",\n",
    "                \"9-1\",\n",
    "                \"9-7\",\n",
    "            ],\n",
    "            \"domains\": [1, 2, 3, 4],\n",
    "            \"num_examples_per_domain_per_label\": -1,\n",
    "            \"pickle_path\": \"/root/csc500-main/datasets/wisig.node3-19.stratified_ds.2022A.pkl\",\n",
    "            \"source_or_target_dataset\": \"target\",\n",
    "            \"x_transforms\": [\"unit_mag\"],\n",
    "            \"episode_transforms\": [],\n",
    "            \"domain_prefix\": \"Wisig_\",\n",
    "        },\n",
    "    ],\n",
    "    \"dataset_seed\": 1337,\n",
    "    \"seed\": 1337,\n",
    "}\n"
   ]
  },
  {
   "cell_type": "code",
   "execution_count": 5,
   "id": "8fa1cc33",
   "metadata": {
    "execution": {
     "iopub.execute_input": "2022-03-21T02:03:39.339969Z",
     "iopub.status.busy": "2022-03-21T02:03:39.338919Z",
     "iopub.status.idle": "2022-03-21T02:03:39.361110Z",
     "shell.execute_reply": "2022-03-21T02:03:39.360297Z"
    },
    "papermill": {
     "duration": 0.047994,
     "end_time": "2022-03-21T02:03:39.361262",
     "exception": false,
     "start_time": "2022-03-21T02:03:39.313268",
     "status": "completed"
    },
    "tags": []
   },
   "outputs": [],
   "source": [
    "# Set this to True if you want to run this template directly\n",
    "STANDALONE = False\n",
    "if STANDALONE:\n",
    "    print(\"parameters not injected, running with standalone_parameters\")\n",
    "    parameters = standalone_parameters\n",
    "\n",
    "if not 'parameters' in locals() and not 'parameters' in globals():\n",
    "    raise Exception(\"Parameter injection failed\")\n",
    "\n",
    "#Use an easy dict for all the parameters\n",
    "p = EasyDict(parameters)\n",
    "\n",
    "if \"x_shape\" not in p:\n",
    "    p.x_shape = [2,256] # Default to this if we dont supply x_shape\n",
    "\n",
    "\n",
    "supplied_keys = set(p.keys())\n",
    "\n",
    "if  supplied_keys != required_parameters:\n",
    "    print(\"Parameters are incorrect\")\n",
    "    if len(supplied_keys - required_parameters)>0: print(\"Shouldn't have:\", str(supplied_keys - required_parameters))\n",
    "    if len(required_parameters - supplied_keys)>0: print(\"Need to have:\", str(required_parameters - supplied_keys))\n",
    "    raise RuntimeError(\"Parameters are incorrect\")"
   ]
  },
  {
   "cell_type": "code",
   "execution_count": 6,
   "id": "3a028d58",
   "metadata": {
    "execution": {
     "iopub.execute_input": "2022-03-21T02:03:39.406521Z",
     "iopub.status.busy": "2022-03-21T02:03:39.406151Z",
     "iopub.status.idle": "2022-03-21T02:03:39.423811Z",
     "shell.execute_reply": "2022-03-21T02:03:39.422953Z"
    },
    "papermill": {
     "duration": 0.039536,
     "end_time": "2022-03-21T02:03:39.423965",
     "exception": false,
     "start_time": "2022-03-21T02:03:39.384429",
     "status": "completed"
    },
    "tags": []
   },
   "outputs": [],
   "source": [
    "###################################\n",
    "# Set the RNGs and make it all deterministic\n",
    "###################################\n",
    "np.random.seed(p.seed)\n",
    "random.seed(p.seed)\n",
    "torch.manual_seed(p.seed)\n",
    "\n",
    "torch.use_deterministic_algorithms(True) "
   ]
  },
  {
   "cell_type": "code",
   "execution_count": 7,
   "id": "b691acf6",
   "metadata": {
    "execution": {
     "iopub.execute_input": "2022-03-21T02:03:39.474864Z",
     "iopub.status.busy": "2022-03-21T02:03:39.473594Z",
     "iopub.status.idle": "2022-03-21T02:03:39.494753Z",
     "shell.execute_reply": "2022-03-21T02:03:39.493955Z"
    },
    "papermill": {
     "duration": 0.044586,
     "end_time": "2022-03-21T02:03:39.494906",
     "exception": false,
     "start_time": "2022-03-21T02:03:39.450320",
     "status": "completed"
    },
    "tags": []
   },
   "outputs": [],
   "source": [
    "###########################################\n",
    "# The stratified datasets honor this\n",
    "###########################################\n",
    "torch.set_default_dtype(eval(p.torch_default_dtype))"
   ]
  },
  {
   "cell_type": "code",
   "execution_count": 8,
   "id": "b5fba671",
   "metadata": {
    "execution": {
     "iopub.execute_input": "2022-03-21T02:03:39.544206Z",
     "iopub.status.busy": "2022-03-21T02:03:39.542818Z",
     "iopub.status.idle": "2022-03-21T02:03:39.594768Z",
     "shell.execute_reply": "2022-03-21T02:03:39.593964Z"
    },
    "papermill": {
     "duration": 0.075356,
     "end_time": "2022-03-21T02:03:39.594921",
     "exception": false,
     "start_time": "2022-03-21T02:03:39.519565",
     "status": "completed"
    },
    "tags": []
   },
   "outputs": [],
   "source": [
    "###################################\n",
    "# Build the network(s)\n",
    "# Note: It's critical to do this AFTER setting the RNG\n",
    "###################################\n",
    "x_net = build_sequential(p.x_net)"
   ]
  },
  {
   "cell_type": "code",
   "execution_count": 9,
   "id": "5d7e61cc",
   "metadata": {
    "execution": {
     "iopub.execute_input": "2022-03-21T02:03:39.645500Z",
     "iopub.status.busy": "2022-03-21T02:03:39.644778Z",
     "iopub.status.idle": "2022-03-21T02:03:39.664694Z",
     "shell.execute_reply": "2022-03-21T02:03:39.663882Z"
    },
    "papermill": {
     "duration": 0.042646,
     "end_time": "2022-03-21T02:03:39.664849",
     "exception": false,
     "start_time": "2022-03-21T02:03:39.622203",
     "status": "completed"
    },
    "tags": []
   },
   "outputs": [],
   "source": [
    "start_time_secs = time.time()"
   ]
  },
  {
   "cell_type": "code",
   "execution_count": 10,
   "id": "c6b67dfd",
   "metadata": {
    "execution": {
     "iopub.execute_input": "2022-03-21T02:03:39.713903Z",
     "iopub.status.busy": "2022-03-21T02:03:39.712785Z",
     "iopub.status.idle": "2022-03-21T02:03:39.731887Z",
     "shell.execute_reply": "2022-03-21T02:03:39.731032Z"
    },
    "papermill": {
     "duration": 0.040973,
     "end_time": "2022-03-21T02:03:39.732043",
     "exception": false,
     "start_time": "2022-03-21T02:03:39.691070",
     "status": "completed"
    },
    "tags": []
   },
   "outputs": [],
   "source": [
    "p.domains_source = []\n",
    "p.domains_target = []\n",
    "\n",
    "\n",
    "train_original_source = []\n",
    "val_original_source   = []\n",
    "test_original_source  = []\n",
    "\n",
    "train_original_target = []\n",
    "val_original_target   = []\n",
    "test_original_target  = []"
   ]
  },
  {
   "cell_type": "code",
   "execution_count": 11,
   "id": "e3d9c3d3",
   "metadata": {
    "execution": {
     "iopub.execute_input": "2022-03-21T02:03:39.782759Z",
     "iopub.status.busy": "2022-03-21T02:03:39.781659Z",
     "iopub.status.idle": "2022-03-21T02:03:39.804504Z",
     "shell.execute_reply": "2022-03-21T02:03:39.803693Z"
    },
    "papermill": {
     "duration": 0.045618,
     "end_time": "2022-03-21T02:03:39.804658",
     "exception": false,
     "start_time": "2022-03-21T02:03:39.759040",
     "status": "completed"
    },
    "tags": []
   },
   "outputs": [],
   "source": [
    "# global_x_transform_func = lambda x: normalize(x.to(torch.get_default_dtype()), \"unit_power\") # unit_power, unit_mag\n",
    "# global_x_transform_func = lambda x: normalize(x, \"unit_power\") # unit_power, unit_mag"
   ]
  },
  {
   "cell_type": "code",
   "execution_count": 12,
   "id": "acb78fd2",
   "metadata": {
    "execution": {
     "iopub.execute_input": "2022-03-21T02:03:39.858751Z",
     "iopub.status.busy": "2022-03-21T02:03:39.858162Z",
     "iopub.status.idle": "2022-03-21T02:03:39.876070Z",
     "shell.execute_reply": "2022-03-21T02:03:39.875225Z"
    },
    "papermill": {
     "duration": 0.044981,
     "end_time": "2022-03-21T02:03:39.876229",
     "exception": false,
     "start_time": "2022-03-21T02:03:39.831248",
     "status": "completed"
    },
    "tags": []
   },
   "outputs": [],
   "source": [
    "def add_dataset(\n",
    "    labels,\n",
    "    domains,\n",
    "    pickle_path,\n",
    "    x_transforms,\n",
    "    episode_transforms,\n",
    "    domain_prefix,\n",
    "    num_examples_per_domain_per_label,\n",
    "    source_or_target_dataset:str,\n",
    "    iterator_seed=p.seed,\n",
    "    dataset_seed=p.dataset_seed,\n",
    "    n_shot=p.n_shot,\n",
    "    n_way=p.n_way,\n",
    "    n_query=p.n_query,\n",
    "    train_val_test_k_factors=(p.train_k_factor,p.val_k_factor,p.test_k_factor),\n",
    "):\n",
    "   \n",
    "    if x_transforms == []: x_transform = None\n",
    "    else: x_transform = get_chained_transform(x_transforms)\n",
    "    \n",
    "    if episode_transforms == []: episode_transform = None\n",
    "    else: raise Exception(\"episode_transforms not implemented\")\n",
    "    \n",
    "    episode_transform = lambda tup, _prefix=domain_prefix: (_prefix + str(tup[0]), tup[1])\n",
    "\n",
    "\n",
    "    eaf = Episodic_Accessor_Factory(\n",
    "        labels=labels,\n",
    "        domains=domains,\n",
    "        num_examples_per_domain_per_label=num_examples_per_domain_per_label,\n",
    "        iterator_seed=iterator_seed,\n",
    "        dataset_seed=dataset_seed,\n",
    "        n_shot=n_shot,\n",
    "        n_way=n_way,\n",
    "        n_query=n_query,\n",
    "        train_val_test_k_factors=train_val_test_k_factors,\n",
    "        pickle_path=pickle_path,\n",
    "        x_transform_func=x_transform,\n",
    "    )\n",
    "\n",
    "    train, val, test = eaf.get_train(), eaf.get_val(), eaf.get_test()\n",
    "    train = Lazy_Iterable_Wrapper(train, episode_transform)\n",
    "    val = Lazy_Iterable_Wrapper(val, episode_transform)\n",
    "    test = Lazy_Iterable_Wrapper(test, episode_transform)\n",
    "\n",
    "    if source_or_target_dataset==\"source\":\n",
    "        train_original_source.append(train)\n",
    "        val_original_source.append(val)\n",
    "        test_original_source.append(test)\n",
    "\n",
    "        p.domains_source.extend(\n",
    "            [domain_prefix + str(u) for u in domains]\n",
    "        )\n",
    "    elif source_or_target_dataset==\"target\":\n",
    "        train_original_target.append(train)\n",
    "        val_original_target.append(val)\n",
    "        test_original_target.append(test)\n",
    "        p.domains_target.extend(\n",
    "            [domain_prefix + str(u) for u in domains]\n",
    "        )\n",
    "    else:\n",
    "        raise Exception(f\"invalid source_or_target_dataset: {source_or_target_dataset}\")\n",
    "    "
   ]
  },
  {
   "cell_type": "code",
   "execution_count": 13,
   "id": "fe266617",
   "metadata": {
    "execution": {
     "iopub.execute_input": "2022-03-21T02:03:39.927805Z",
     "iopub.status.busy": "2022-03-21T02:03:39.927403Z",
     "iopub.status.idle": "2022-03-21T02:04:23.732968Z",
     "shell.execute_reply": "2022-03-21T02:04:23.732070Z"
    },
    "papermill": {
     "duration": 43.829833,
     "end_time": "2022-03-21T02:04:23.733156",
     "exception": false,
     "start_time": "2022-03-21T02:03:39.903323",
     "status": "completed"
    },
    "tags": []
   },
   "outputs": [],
   "source": [
    "for ds in p.datasets:\n",
    "    add_dataset(**ds)"
   ]
  },
  {
   "cell_type": "code",
   "execution_count": 14,
   "id": "b90d65ac",
   "metadata": {
    "execution": {
     "iopub.execute_input": "2022-03-21T02:04:23.784029Z",
     "iopub.status.busy": "2022-03-21T02:04:23.783420Z",
     "iopub.status.idle": "2022-03-21T02:04:23.809630Z",
     "shell.execute_reply": "2022-03-21T02:04:23.808800Z"
    },
    "papermill": {
     "duration": 0.050835,
     "end_time": "2022-03-21T02:04:23.809789",
     "exception": false,
     "start_time": "2022-03-21T02:04:23.758954",
     "status": "completed"
    },
    "tags": []
   },
   "outputs": [],
   "source": [
    "# from steves_utils.CORES.utils import (\n",
    "#     ALL_NODES,\n",
    "#     ALL_NODES_MINIMUM_1000_EXAMPLES,\n",
    "#     ALL_DAYS\n",
    "# )\n",
    "\n",
    "# add_dataset(\n",
    "#     labels=ALL_NODES,\n",
    "#     domains = ALL_DAYS,\n",
    "#     num_examples_per_domain_per_label=100,\n",
    "#     pickle_path=os.path.join(get_datasets_base_path(), \"cores.stratified_ds.2022A.pkl\"),\n",
    "#     source_or_target_dataset=\"target\",\n",
    "#     x_transform_func=global_x_transform_func,\n",
    "#     domain_modifier=lambda u: f\"cores_{u}\"\n",
    "# )"
   ]
  },
  {
   "cell_type": "code",
   "execution_count": 15,
   "id": "76db484d",
   "metadata": {
    "execution": {
     "iopub.execute_input": "2022-03-21T02:04:23.864194Z",
     "iopub.status.busy": "2022-03-21T02:04:23.861729Z",
     "iopub.status.idle": "2022-03-21T02:04:23.882300Z",
     "shell.execute_reply": "2022-03-21T02:04:23.881484Z"
    },
    "papermill": {
     "duration": 0.0457,
     "end_time": "2022-03-21T02:04:23.882457",
     "exception": false,
     "start_time": "2022-03-21T02:04:23.836757",
     "status": "completed"
    },
    "tags": []
   },
   "outputs": [],
   "source": [
    "# from steves_utils.ORACLE.utils_v2 import (\n",
    "#     ALL_DISTANCES_FEET,\n",
    "#     ALL_RUNS,\n",
    "#     ALL_SERIAL_NUMBERS,\n",
    "# )\n",
    "\n",
    "\n",
    "# add_dataset(\n",
    "#     labels=ALL_SERIAL_NUMBERS,\n",
    "#     domains = list(set(ALL_DISTANCES_FEET) - {2,62}),\n",
    "#     num_examples_per_domain_per_label=100,\n",
    "#     pickle_path=os.path.join(get_datasets_base_path(), \"oracle.Run2_framed_2000Examples_stratified_ds.2022A.pkl\"),\n",
    "#     source_or_target_dataset=\"source\",\n",
    "#     x_transform_func=global_x_transform_func,\n",
    "#     domain_modifier=lambda u: f\"oracle1_{u}\"\n",
    "# )\n"
   ]
  },
  {
   "cell_type": "code",
   "execution_count": 16,
   "id": "97dea9d2",
   "metadata": {
    "execution": {
     "iopub.execute_input": "2022-03-21T02:04:23.935570Z",
     "iopub.status.busy": "2022-03-21T02:04:23.934978Z",
     "iopub.status.idle": "2022-03-21T02:04:23.955603Z",
     "shell.execute_reply": "2022-03-21T02:04:23.954741Z"
    },
    "papermill": {
     "duration": 0.046607,
     "end_time": "2022-03-21T02:04:23.955764",
     "exception": false,
     "start_time": "2022-03-21T02:04:23.909157",
     "status": "completed"
    },
    "tags": []
   },
   "outputs": [],
   "source": [
    "# from steves_utils.ORACLE.utils_v2 import (\n",
    "#     ALL_DISTANCES_FEET,\n",
    "#     ALL_RUNS,\n",
    "#     ALL_SERIAL_NUMBERS,\n",
    "# )\n",
    "\n",
    "\n",
    "# add_dataset(\n",
    "#     labels=ALL_SERIAL_NUMBERS,\n",
    "#     domains = list(set(ALL_DISTANCES_FEET) - {2,62,56}),\n",
    "#     num_examples_per_domain_per_label=100,\n",
    "#     pickle_path=os.path.join(get_datasets_base_path(), \"oracle.Run2_framed_2000Examples_stratified_ds.2022A.pkl\"),\n",
    "#     source_or_target_dataset=\"source\",\n",
    "#     x_transform_func=global_x_transform_func,\n",
    "#     domain_modifier=lambda u: f\"oracle2_{u}\"\n",
    "# )"
   ]
  },
  {
   "cell_type": "code",
   "execution_count": 17,
   "id": "6f289866",
   "metadata": {
    "execution": {
     "iopub.execute_input": "2022-03-21T02:04:24.008718Z",
     "iopub.status.busy": "2022-03-21T02:04:24.007832Z",
     "iopub.status.idle": "2022-03-21T02:04:24.030845Z",
     "shell.execute_reply": "2022-03-21T02:04:24.030023Z"
    },
    "papermill": {
     "duration": 0.047169,
     "end_time": "2022-03-21T02:04:24.031000",
     "exception": false,
     "start_time": "2022-03-21T02:04:23.983831",
     "status": "completed"
    },
    "tags": []
   },
   "outputs": [],
   "source": [
    "# add_dataset(\n",
    "#     labels=list(range(19)),\n",
    "#     domains = [0,1,2],\n",
    "#     num_examples_per_domain_per_label=100,\n",
    "#     pickle_path=os.path.join(get_datasets_base_path(), \"metehan.stratified_ds.2022A.pkl\"),\n",
    "#     source_or_target_dataset=\"target\",\n",
    "#     x_transform_func=global_x_transform_func,\n",
    "#     domain_modifier=lambda u: f\"met_{u}\"\n",
    "# )"
   ]
  },
  {
   "cell_type": "code",
   "execution_count": 18,
   "id": "86a863c3",
   "metadata": {
    "execution": {
     "iopub.execute_input": "2022-03-21T02:04:24.081715Z",
     "iopub.status.busy": "2022-03-21T02:04:24.081339Z",
     "iopub.status.idle": "2022-03-21T02:04:24.099414Z",
     "shell.execute_reply": "2022-03-21T02:04:24.098598Z"
    },
    "papermill": {
     "duration": 0.042033,
     "end_time": "2022-03-21T02:04:24.099602",
     "exception": false,
     "start_time": "2022-03-21T02:04:24.057569",
     "status": "completed"
    },
    "tags": []
   },
   "outputs": [],
   "source": [
    "# # from steves_utils.wisig.utils import (\n",
    "# #     ALL_NODES_MINIMUM_100_EXAMPLES,\n",
    "# #     ALL_NODES_MINIMUM_500_EXAMPLES,\n",
    "# #     ALL_NODES_MINIMUM_1000_EXAMPLES,\n",
    "# #     ALL_DAYS\n",
    "# # )\n",
    "\n",
    "# import steves_utils.wisig.utils as wisig\n",
    "\n",
    "\n",
    "# add_dataset(\n",
    "#     labels=wisig.ALL_NODES_MINIMUM_100_EXAMPLES,\n",
    "#     domains = wisig.ALL_DAYS,\n",
    "#     num_examples_per_domain_per_label=100,\n",
    "#     pickle_path=os.path.join(get_datasets_base_path(), \"wisig.node3-19.stratified_ds.2022A.pkl\"),\n",
    "#     source_or_target_dataset=\"target\",\n",
    "#     x_transform_func=global_x_transform_func,\n",
    "#     domain_modifier=lambda u: f\"wisig_{u}\"\n",
    "# )"
   ]
  },
  {
   "cell_type": "code",
   "execution_count": 19,
   "id": "fd5442bc",
   "metadata": {
    "execution": {
     "iopub.execute_input": "2022-03-21T02:04:24.162046Z",
     "iopub.status.busy": "2022-03-21T02:04:24.161215Z",
     "iopub.status.idle": "2022-03-21T02:04:24.177869Z",
     "shell.execute_reply": "2022-03-21T02:04:24.177059Z"
    },
    "papermill": {
     "duration": 0.049882,
     "end_time": "2022-03-21T02:04:24.178023",
     "exception": false,
     "start_time": "2022-03-21T02:04:24.128141",
     "status": "completed"
    },
    "tags": []
   },
   "outputs": [],
   "source": [
    "###################################\n",
    "# Build the dataset\n",
    "###################################\n",
    "train_original_source = Iterable_Aggregator(train_original_source, p.seed)\n",
    "val_original_source = Iterable_Aggregator(val_original_source, p.seed)\n",
    "test_original_source = Iterable_Aggregator(test_original_source, p.seed)\n",
    "\n",
    "\n",
    "train_original_target = Iterable_Aggregator(train_original_target, p.seed)\n",
    "val_original_target = Iterable_Aggregator(val_original_target, p.seed)\n",
    "test_original_target = Iterable_Aggregator(test_original_target, p.seed)\n",
    "\n",
    "# For CNN We only use X and Y. And we only train on the source.\n",
    "# Properly form the data using a transform lambda and Lazy_Iterable_Wrapper. Finally wrap them in a dataloader\n",
    "\n",
    "transform_lambda = lambda ex: ex[1] # Original is (<domain>, <episode>) so we strip down to episode only\n",
    "\n",
    "train_processed_source = Lazy_Iterable_Wrapper(train_original_source, transform_lambda)\n",
    "val_processed_source   = Lazy_Iterable_Wrapper(val_original_source, transform_lambda)\n",
    "test_processed_source  = Lazy_Iterable_Wrapper(test_original_source, transform_lambda)\n",
    "\n",
    "train_processed_target = Lazy_Iterable_Wrapper(train_original_target, transform_lambda)\n",
    "val_processed_target   = Lazy_Iterable_Wrapper(val_original_target, transform_lambda)\n",
    "test_processed_target  = Lazy_Iterable_Wrapper(test_original_target, transform_lambda)\n",
    "\n",
    "datasets = EasyDict({\n",
    "    \"source\": {\n",
    "        \"original\": {\"train\":train_original_source, \"val\":val_original_source, \"test\":test_original_source},\n",
    "        \"processed\": {\"train\":train_processed_source, \"val\":val_processed_source, \"test\":test_processed_source}\n",
    "    },\n",
    "    \"target\": {\n",
    "        \"original\": {\"train\":train_original_target, \"val\":val_original_target, \"test\":test_original_target},\n",
    "        \"processed\": {\"train\":train_processed_target, \"val\":val_processed_target, \"test\":test_processed_target}\n",
    "    },\n",
    "})"
   ]
  },
  {
   "cell_type": "code",
   "execution_count": 20,
   "id": "5b3c01fc",
   "metadata": {
    "execution": {
     "iopub.execute_input": "2022-03-21T02:04:24.240178Z",
     "iopub.status.busy": "2022-03-21T02:04:24.233111Z",
     "iopub.status.idle": "2022-03-21T02:04:33.210294Z",
     "shell.execute_reply": "2022-03-21T02:04:33.209428Z"
    },
    "papermill": {
     "duration": 9.003114,
     "end_time": "2022-03-21T02:04:33.210473",
     "exception": false,
     "start_time": "2022-03-21T02:04:24.207359",
     "status": "completed"
    },
    "tags": []
   },
   "outputs": [
    {
     "name": "stdout",
     "output_type": "stream",
     "text": [
      "{'CORES_1', 'CORES_3', 'CORES_2', 'CORES_4', 'CORES_5'}\n"
     ]
    },
    {
     "name": "stdout",
     "output_type": "stream",
     "text": [
      "{'Wisig_4', 'Wisig_2', 'Wisig_3', 'Wisig_1'}\n"
     ]
    },
    {
     "name": "stdout",
     "output_type": "stream",
     "text": [
      "tensor([[[ 0.1318, -0.1928, -0.2735,  ...,  1.1708, -0.4447,  0.1259],\n",
      "         [ 0.5569, -0.1948, -0.8914,  ..., -0.4132,  0.1122, -0.2342]],\n",
      "\n",
      "        [[ 0.0272,  0.5993,  1.0254,  ..., -0.1810, -0.2140,  1.6500],\n",
      "         [ 0.8542,  0.1265,  0.2160,  ...,  0.3113,  0.8756, -0.0350]],\n",
      "\n",
      "        [[ 0.1814,  0.3490, -0.7374,  ..., -0.5580, -0.1893,  0.2208],\n",
      "         [-0.2681,  0.0335,  0.3470,  ..., -1.7035, -0.1617,  0.3786]],\n",
      "\n",
      "        ...,\n",
      "\n",
      "        [[ 0.6598, -0.8553, -0.3666,  ..., -0.4818, -0.3526,  0.3037],\n",
      "         [ 0.5760,  0.5830, -1.0159,  ...,  0.9565,  0.6598, -0.6389]],\n",
      "\n",
      "        [[-1.8680, -0.6919,  0.1557,  ...,  0.3217,  0.5016,  0.2560],\n",
      "         [ 0.5535,  0.5569, -0.2629,  ...,  0.9098,  0.9202,  0.4635]],\n",
      "\n",
      "        [[-0.5568, -1.4549, -0.8020,  ...,  0.2784,  0.1823, -1.4218],\n",
      "         [-1.1434, -0.7490, -1.0804,  ..., -0.9313, -0.0994, -0.4739]]])\n"
     ]
    }
   ],
   "source": [
    "from steves_utils.transforms import get_average_magnitude, get_average_power\n",
    "\n",
    "print(set([u for u,_ in val_original_source]))\n",
    "print(set([u for u,_ in val_original_target]))\n",
    "\n",
    "s_x, s_y, q_x, q_y, _ = next(iter(train_processed_source))\n",
    "print(s_x)\n",
    "\n",
    "# for ds in [\n",
    "#     train_processed_source,\n",
    "#     val_processed_source,\n",
    "#     test_processed_source,\n",
    "#     train_processed_target,\n",
    "#     val_processed_target,\n",
    "#     test_processed_target\n",
    "# ]:\n",
    "#     for s_x, s_y, q_x, q_y, _ in ds:\n",
    "#         for X in (s_x, q_x):\n",
    "#             for x in X:\n",
    "#                 assert np.isclose(get_average_magnitude(x.numpy()), 1.0)\n",
    "#                 assert np.isclose(get_average_power(x.numpy()), 1.0)\n",
    "                "
   ]
  },
  {
   "cell_type": "code",
   "execution_count": 21,
   "id": "bbdacba1",
   "metadata": {
    "execution": {
     "iopub.execute_input": "2022-03-21T02:04:33.271113Z",
     "iopub.status.busy": "2022-03-21T02:04:33.270466Z",
     "iopub.status.idle": "2022-03-21T02:04:33.477183Z",
     "shell.execute_reply": "2022-03-21T02:04:33.476446Z"
    },
    "papermill": {
     "duration": 0.235334,
     "end_time": "2022-03-21T02:04:33.477369",
     "exception": false,
     "start_time": "2022-03-21T02:04:33.242035",
     "status": "completed"
    },
    "tags": []
   },
   "outputs": [
    {
     "name": "stdout",
     "output_type": "stream",
     "text": [
      "(2, 256)\n"
     ]
    }
   ],
   "source": [
    "###################################\n",
    "# Build the model\n",
    "###################################\n",
    "# easfsl only wants a tuple for the shape\n",
    "model = Steves_Prototypical_Network(x_net, device=p.device, x_shape=tuple(p.x_shape))\n",
    "optimizer = Adam(params=model.parameters(), lr=p.lr)"
   ]
  },
  {
   "cell_type": "code",
   "execution_count": 22,
   "id": "22b39ac5",
   "metadata": {
    "execution": {
     "iopub.execute_input": "2022-03-21T02:04:33.535668Z",
     "iopub.status.busy": "2022-03-21T02:04:33.535263Z",
     "iopub.status.idle": "2022-03-21T02:06:01.847472Z",
     "shell.execute_reply": "2022-03-21T02:06:01.846714Z"
    },
    "papermill": {
     "duration": 88.342513,
     "end_time": "2022-03-21T02:06:01.847680",
     "exception": false,
     "start_time": "2022-03-21T02:04:33.505167",
     "status": "completed"
    },
    "tags": []
   },
   "outputs": [
    {
     "name": "stdout",
     "output_type": "stream",
     "text": [
      "epoch: 1, [batch: 1 / 351], examples_per_second: 369.6418, train_label_loss: 3.9005, \n"
     ]
    },
    {
     "name": "stdout",
     "output_type": "stream",
     "text": [
      "epoch: 1, [batch: 36 / 351], examples_per_second: 4655.2005, train_label_loss: 0.8158, \n"
     ]
    },
    {
     "name": "stdout",
     "output_type": "stream",
     "text": [
      "epoch: 1, [batch: 71 / 351], examples_per_second: 4653.3758, train_label_loss: 0.2580, \n"
     ]
    },
    {
     "name": "stdout",
     "output_type": "stream",
     "text": [
      "epoch: 1, [batch: 106 / 351], examples_per_second: 4498.0338, train_label_loss: 0.1165, \n"
     ]
    },
    {
     "name": "stdout",
     "output_type": "stream",
     "text": [
      "epoch: 1, [batch: 141 / 351], examples_per_second: 4440.1140, train_label_loss: 0.0751, \n"
     ]
    },
    {
     "name": "stdout",
     "output_type": "stream",
     "text": [
      "epoch: 1, [batch: 176 / 351], examples_per_second: 4444.9710, train_label_loss: 0.0692, \n"
     ]
    },
    {
     "name": "stdout",
     "output_type": "stream",
     "text": [
      "epoch: 1, [batch: 211 / 351], examples_per_second: 4519.1810, train_label_loss: 0.0349, \n"
     ]
    },
    {
     "name": "stdout",
     "output_type": "stream",
     "text": [
      "epoch: 1, [batch: 246 / 351], examples_per_second: 4385.9190, train_label_loss: 0.0362, \n"
     ]
    },
    {
     "name": "stdout",
     "output_type": "stream",
     "text": [
      "epoch: 1, [batch: 281 / 351], examples_per_second: 4499.5585, train_label_loss: 0.0324, \n"
     ]
    },
    {
     "name": "stdout",
     "output_type": "stream",
     "text": [
      "epoch: 1, [batch: 316 / 351], examples_per_second: 4622.8750, train_label_loss: 0.0086, \n"
     ]
    },
    {
     "name": "stdout",
     "output_type": "stream",
     "text": [
      "=============================================================\n",
      "epoch: 1, source_val_acc_label: 0.9982, target_val_acc_label: 0.7049, source_val_label_loss: 0.0182, target_val_label_loss: 1.7889, \n",
      "=============================================================\n"
     ]
    },
    {
     "name": "stdout",
     "output_type": "stream",
     "text": [
      "New best\n"
     ]
    },
    {
     "name": "stdout",
     "output_type": "stream",
     "text": [
      "epoch: 2, [batch: 1 / 351], examples_per_second: 44.3557, train_label_loss: 0.0245, \n"
     ]
    },
    {
     "name": "stdout",
     "output_type": "stream",
     "text": [
      "epoch: 2, [batch: 36 / 351], examples_per_second: 4856.9499, train_label_loss: 0.0092, \n"
     ]
    },
    {
     "name": "stdout",
     "output_type": "stream",
     "text": [
      "epoch: 2, [batch: 71 / 351], examples_per_second: 4851.8009, train_label_loss: 0.0077, \n"
     ]
    },
    {
     "name": "stdout",
     "output_type": "stream",
     "text": [
      "epoch: 2, [batch: 106 / 351], examples_per_second: 4801.2588, train_label_loss: 0.0198, \n"
     ]
    },
    {
     "name": "stdout",
     "output_type": "stream",
     "text": [
      "epoch: 2, [batch: 141 / 351], examples_per_second: 4675.4451, train_label_loss: 0.0021, \n"
     ]
    },
    {
     "name": "stdout",
     "output_type": "stream",
     "text": [
      "epoch: 2, [batch: 176 / 351], examples_per_second: 4799.9585, train_label_loss: 0.0121, \n"
     ]
    },
    {
     "name": "stdout",
     "output_type": "stream",
     "text": [
      "epoch: 2, [batch: 211 / 351], examples_per_second: 4710.1228, train_label_loss: 0.0206, \n"
     ]
    },
    {
     "name": "stdout",
     "output_type": "stream",
     "text": [
      "epoch: 2, [batch: 246 / 351], examples_per_second: 4531.2919, train_label_loss: 0.0023, \n"
     ]
    },
    {
     "name": "stdout",
     "output_type": "stream",
     "text": [
      "epoch: 2, [batch: 281 / 351], examples_per_second: 6071.6792, train_label_loss: 0.0121, \n"
     ]
    },
    {
     "name": "stdout",
     "output_type": "stream",
     "text": [
      "epoch: 2, [batch: 316 / 351], examples_per_second: 4776.8345, train_label_loss: 0.0058, \n"
     ]
    },
    {
     "name": "stdout",
     "output_type": "stream",
     "text": [
      "=============================================================\n",
      "epoch: 2, source_val_acc_label: 0.9964, target_val_acc_label: 0.6761, source_val_label_loss: 0.0147, target_val_label_loss: 3.1750, \n",
      "=============================================================\n"
     ]
    },
    {
     "name": "stdout",
     "output_type": "stream",
     "text": [
      "epoch: 3, [batch: 1 / 351], examples_per_second: 52.4980, train_label_loss: 0.0017, \n"
     ]
    },
    {
     "name": "stdout",
     "output_type": "stream",
     "text": [
      "epoch: 3, [batch: 36 / 351], examples_per_second: 5340.3794, train_label_loss: 0.0068, \n"
     ]
    },
    {
     "name": "stdout",
     "output_type": "stream",
     "text": [
      "epoch: 3, [batch: 71 / 351], examples_per_second: 5659.7679, train_label_loss: 0.0016, \n"
     ]
    },
    {
     "name": "stdout",
     "output_type": "stream",
     "text": [
      "epoch: 3, [batch: 106 / 351], examples_per_second: 6349.5437, train_label_loss: 0.0308, \n"
     ]
    },
    {
     "name": "stdout",
     "output_type": "stream",
     "text": [
      "epoch: 3, [batch: 141 / 351], examples_per_second: 5322.9810, train_label_loss: 0.0212, \n"
     ]
    },
    {
     "name": "stdout",
     "output_type": "stream",
     "text": [
      "epoch: 3, [batch: 176 / 351], examples_per_second: 5655.4845, train_label_loss: 0.0012, \n"
     ]
    },
    {
     "name": "stdout",
     "output_type": "stream",
     "text": [
      "epoch: 3, [batch: 211 / 351], examples_per_second: 5717.7996, train_label_loss: 0.0072, \n"
     ]
    },
    {
     "name": "stdout",
     "output_type": "stream",
     "text": [
      "epoch: 3, [batch: 246 / 351], examples_per_second: 5341.4267, train_label_loss: 0.0415, \n"
     ]
    },
    {
     "name": "stdout",
     "output_type": "stream",
     "text": [
      "epoch: 3, [batch: 281 / 351], examples_per_second: 5655.4522, train_label_loss: 0.0013, \n"
     ]
    },
    {
     "name": "stdout",
     "output_type": "stream",
     "text": [
      "epoch: 3, [batch: 316 / 351], examples_per_second: 5559.8787, train_label_loss: 0.0428, \n"
     ]
    },
    {
     "name": "stdout",
     "output_type": "stream",
     "text": [
      "=============================================================\n",
      "epoch: 3, source_val_acc_label: 0.9975, target_val_acc_label: 0.6814, source_val_label_loss: 0.0082, target_val_label_loss: 3.4197, \n",
      "=============================================================\n"
     ]
    }
   ],
   "source": [
    "###################################\n",
    "# train\n",
    "###################################\n",
    "jig = PTN_Train_Eval_Test_Jig(model, p.BEST_MODEL_PATH, p.device)\n",
    "\n",
    "jig.train(\n",
    "    train_iterable=datasets.source.processed.train,\n",
    "    source_val_iterable=datasets.source.processed.val,\n",
    "    target_val_iterable=datasets.target.processed.val,\n",
    "    num_epochs=p.n_epoch,\n",
    "    num_logs_per_epoch=p.NUM_LOGS_PER_EPOCH,\n",
    "    patience=p.patience,\n",
    "    optimizer=optimizer,\n",
    "    criteria_for_best=p.criteria_for_best,\n",
    ")"
   ]
  },
  {
   "cell_type": "code",
   "execution_count": 23,
   "id": "31e8fabf",
   "metadata": {
    "execution": {
     "iopub.execute_input": "2022-03-21T02:06:01.923950Z",
     "iopub.status.busy": "2022-03-21T02:06:01.923079Z",
     "iopub.status.idle": "2022-03-21T02:06:01.953290Z",
     "shell.execute_reply": "2022-03-21T02:06:01.952526Z"
    },
    "papermill": {
     "duration": 0.066686,
     "end_time": "2022-03-21T02:06:01.953471",
     "exception": false,
     "start_time": "2022-03-21T02:06:01.886785",
     "status": "completed"
    },
    "tags": []
   },
   "outputs": [],
   "source": [
    "total_experiment_time_secs = time.time() - start_time_secs"
   ]
  },
  {
   "cell_type": "code",
   "execution_count": 24,
   "id": "87b9595b",
   "metadata": {
    "execution": {
     "iopub.execute_input": "2022-03-21T02:06:02.036267Z",
     "iopub.status.busy": "2022-03-21T02:06:02.035639Z",
     "iopub.status.idle": "2022-03-21T02:06:50.167611Z",
     "shell.execute_reply": "2022-03-21T02:06:50.166782Z"
    },
    "papermill": {
     "duration": 48.175102,
     "end_time": "2022-03-21T02:06:50.167795",
     "exception": false,
     "start_time": "2022-03-21T02:06:01.992693",
     "status": "completed"
    },
    "tags": []
   },
   "outputs": [],
   "source": [
    "###################################\n",
    "# Evaluate the model\n",
    "###################################\n",
    "source_test_label_accuracy, source_test_label_loss = jig.test(datasets.source.processed.test)\n",
    "target_test_label_accuracy, target_test_label_loss = jig.test(datasets.target.processed.test)\n",
    "\n",
    "source_val_label_accuracy, source_val_label_loss = jig.test(datasets.source.processed.val)\n",
    "target_val_label_accuracy, target_val_label_loss = jig.test(datasets.target.processed.val)\n",
    "\n",
    "history = jig.get_history()\n",
    "\n",
    "total_epochs_trained = len(history[\"epoch_indices\"])\n",
    "\n",
    "val_dl = Iterable_Aggregator((datasets.source.original.val,datasets.target.original.val))\n",
    "\n",
    "confusion = ptn_confusion_by_domain_over_dataloader(model, p.device, val_dl)\n",
    "per_domain_accuracy = per_domain_accuracy_from_confusion(confusion)\n",
    "\n",
    "# Add a key to per_domain_accuracy for if it was a source domain\n",
    "for domain, accuracy in per_domain_accuracy.items():\n",
    "    per_domain_accuracy[domain] = {\n",
    "        \"accuracy\": accuracy,\n",
    "        \"source?\": domain in p.domains_source\n",
    "    }\n",
    "\n",
    "# Do an independent accuracy assesment JUST TO BE SURE!\n",
    "# _source_test_label_accuracy = independent_accuracy_assesment(model, datasets.source.processed.test, p.device)\n",
    "# _target_test_label_accuracy = independent_accuracy_assesment(model, datasets.target.processed.test, p.device)\n",
    "# _source_val_label_accuracy = independent_accuracy_assesment(model, datasets.source.processed.val, p.device)\n",
    "# _target_val_label_accuracy = independent_accuracy_assesment(model, datasets.target.processed.val, p.device)\n",
    "\n",
    "# assert(_source_test_label_accuracy == source_test_label_accuracy)\n",
    "# assert(_target_test_label_accuracy == target_test_label_accuracy)\n",
    "# assert(_source_val_label_accuracy == source_val_label_accuracy)\n",
    "# assert(_target_val_label_accuracy == target_val_label_accuracy)\n",
    "\n",
    "experiment = {\n",
    "    \"experiment_name\": p.experiment_name,\n",
    "    \"parameters\": dict(p),\n",
    "    \"results\": {\n",
    "        \"source_test_label_accuracy\": source_test_label_accuracy,\n",
    "        \"source_test_label_loss\": source_test_label_loss,\n",
    "        \"target_test_label_accuracy\": target_test_label_accuracy,\n",
    "        \"target_test_label_loss\": target_test_label_loss,\n",
    "        \"source_val_label_accuracy\": source_val_label_accuracy,\n",
    "        \"source_val_label_loss\": source_val_label_loss,\n",
    "        \"target_val_label_accuracy\": target_val_label_accuracy,\n",
    "        \"target_val_label_loss\": target_val_label_loss,\n",
    "        \"total_epochs_trained\": total_epochs_trained,\n",
    "        \"total_experiment_time_secs\": total_experiment_time_secs,\n",
    "        \"confusion\": confusion,\n",
    "        \"per_domain_accuracy\": per_domain_accuracy,\n",
    "    },\n",
    "    \"history\": history,\n",
    "    \"dataset_metrics\": get_dataset_metrics(datasets, \"ptn\"),\n",
    "}"
   ]
  },
  {
   "cell_type": "code",
   "execution_count": 25,
   "id": "54a21829",
   "metadata": {
    "execution": {
     "iopub.execute_input": "2022-03-21T02:06:50.263277Z",
     "iopub.status.busy": "2022-03-21T02:06:50.262888Z",
     "iopub.status.idle": "2022-03-21T02:06:50.488728Z",
     "shell.execute_reply": "2022-03-21T02:06:50.489410Z"
    },
    "papermill": {
     "duration": 0.275504,
     "end_time": "2022-03-21T02:06:50.489624",
     "exception": false,
     "start_time": "2022-03-21T02:06:50.214120",
     "status": "completed"
    },
    "tags": []
   },
   "outputs": [
    {
     "data": {
      "image/png": "[encoded data removed]",
      "text/plain": [
       "<Figure size 1080x504 with 1 Axes>"
      ]
     },
     "metadata": {
      "needs_background": "light"
     },
     "output_type": "display_data"
    }
   ],
   "source": [
    "ax = get_loss_curve(experiment)\n",
    "plt.show()"
   ]
  },
  {
   "cell_type": "code",
   "execution_count": 26,
   "id": "fd8a0f60",
   "metadata": {
    "execution": {
     "iopub.execute_input": "2022-03-21T02:06:50.565201Z",
     "iopub.status.busy": "2022-03-21T02:06:50.564738Z",
     "iopub.status.idle": "2022-03-21T02:06:50.883310Z",
     "shell.execute_reply": "2022-03-21T02:06:50.883642Z"
    },
    "papermill": {
     "duration": 0.356624,
     "end_time": "2022-03-21T02:06:50.883735",
     "exception": false,
     "start_time": "2022-03-21T02:06:50.527111",
     "status": "completed"
    },
    "tags": []
   },
   "outputs": [
    {
     "data": {
      "text/plain": [
       "<AxesSubplot:title={'center':'Results'}>"
      ]
     },
     "execution_count": 26,
     "metadata": {},
     "output_type": "execute_result"
    },
    {
     "data": {
      "image/png": "[encoded data removed]",
      "text/plain": [
       "<Figure size 1080x504 with 1 Axes>"
      ]
     },
     "metadata": {
      "needs_background": "light"
     },
     "output_type": "display_data"
    }
   ],
   "source": [
    "get_results_table(experiment)"
   ]
  },
  {
   "cell_type": "code",
   "execution_count": 27,
   "id": "cf8dc689",
   "metadata": {
    "execution": {
     "iopub.execute_input": "2022-03-21T02:06:50.957808Z",
     "iopub.status.busy": "2022-03-21T02:06:50.957437Z",
     "iopub.status.idle": "2022-03-21T02:06:51.196916Z",
     "shell.execute_reply": "2022-03-21T02:06:51.196580Z"
    },
    "papermill": {
     "duration": 0.2781,
     "end_time": "2022-03-21T02:06:51.196989",
     "exception": false,
     "start_time": "2022-03-21T02:06:50.918889",
     "status": "completed"
    },
    "tags": []
   },
   "outputs": [
    {
     "data": {
      "text/plain": [
       "<AxesSubplot:title={'center':'Per Domain Validation Accuracy'}, xlabel='domain'>"
      ]
     },
     "execution_count": 27,
     "metadata": {},
     "output_type": "execute_result"
    },
    {
     "data": {
      "image/png": "[encoded data removed]",
      "text/plain": [
       "<Figure size 1080x504 with 1 Axes>"
      ]
     },
     "metadata": {
      "needs_background": "light"
     },
     "output_type": "display_data"
    }
   ],
   "source": [
    "get_domain_accuracies(experiment)"
   ]
  },
  {
   "cell_type": "code",
   "execution_count": 28,
   "id": "a74ae082",
   "metadata": {
    "execution": {
     "iopub.execute_input": "2022-03-21T02:06:51.273352Z",
     "iopub.status.busy": "2022-03-21T02:06:51.272971Z",
     "iopub.status.idle": "2022-03-21T02:06:51.298478Z",
     "shell.execute_reply": "2022-03-21T02:06:51.298155Z"
    },
    "papermill": {
     "duration": 0.065511,
     "end_time": "2022-03-21T02:06:51.298548",
     "exception": false,
     "start_time": "2022-03-21T02:06:51.233037",
     "status": "completed"
    },
    "tags": []
   },
   "outputs": [
    {
     "name": "stdout",
     "output_type": "stream",
     "text": [
      "Source Test Label Accuracy: 0.998448275862069 Target Test Label Accuracy: 0.7032200811359026\n",
      "Source Val Label Accuracy: 0.9982040229885057 Target Val Label Accuracy: 0.7048760775862069\n"
     ]
    }
   ],
   "source": [
    "print(\"Source Test Label Accuracy:\", experiment[\"results\"][\"source_test_label_accuracy\"], \"Target Test Label Accuracy:\", experiment[\"results\"][\"target_test_label_accuracy\"])\n",
    "print(\"Source Val Label Accuracy:\", experiment[\"results\"][\"source_val_label_accuracy\"], \"Target Val Label Accuracy:\", experiment[\"results\"][\"target_val_label_accuracy\"])"
   ]
  },
  {
   "cell_type": "code",
   "execution_count": 29,
   "id": "dacca602",
   "metadata": {
    "execution": {
     "iopub.execute_input": "2022-03-21T02:06:51.375696Z",
     "iopub.status.busy": "2022-03-21T02:06:51.375316Z",
     "iopub.status.idle": "2022-03-21T02:06:51.400237Z",
     "shell.execute_reply": "2022-03-21T02:06:51.399866Z"
    },
    "papermill": {
     "duration": 0.064924,
     "end_time": "2022-03-21T02:06:51.400307",
     "exception": false,
     "start_time": "2022-03-21T02:06:51.335383",
     "status": "completed"
    },
    "tags": [
     "experiment_json"
    ]
   },
   "outputs": [
    {
     "data": {
      "text/plain": [
       "'{\"experiment_name\": \"tl_1v2:cores-wisig\", \"parameters\": {\"experiment_name\": \"tl_1v2:cores-wisig\", \"device\": \"cuda\", \"lr\": 0.0001, \"n_shot\": 3, \"n_query\": 2, \"train_k_factor\": 3, \"val_k_factor\": 2, \"test_k_factor\": 2, \"torch_default_dtype\": \"torch.float32\", \"n_epoch\": 3, \"patience\": 3, \"criteria_for_best\": \"target_accuracy\", \"x_net\": [{\"class\": \"nnReshape\", \"kargs\": {\"shape\": [-1, 1, 2, 256]}}, {\"class\": \"Conv2d\", \"kargs\": {\"in_channels\": 1, \"out_channels\": 256, \"kernel_size\": [1, 7], \"bias\": false, \"padding\": [0, 3]}}, {\"class\": \"ReLU\", \"kargs\": {\"inplace\": true}}, {\"class\": \"BatchNorm2d\", \"kargs\": {\"num_features\": 256}}, {\"class\": \"Conv2d\", \"kargs\": {\"in_channels\": 256, \"out_channels\": 80, \"kernel_size\": [2, 7], \"bias\": true, \"padding\": [0, 3]}}, {\"class\": \"ReLU\", \"kargs\": {\"inplace\": true}}, {\"class\": \"BatchNorm2d\", \"kargs\": {\"num_features\": 80}}, {\"class\": \"Flatten\", \"kargs\": {}}, {\"class\": \"Linear\", \"kargs\": {\"in_features\": 20480, \"out_features\": 256}}, {\"class\": \"ReLU\", \"kargs\": {\"inplace\": true}}, {\"class\": \"BatchNorm1d\", \"kargs\": {\"num_features\": 256}}, {\"class\": \"Linear\", \"kargs\": {\"in_features\": 256, \"out_features\": 256}}], \"NUM_LOGS_PER_EPOCH\": 10, \"BEST_MODEL_PATH\": \"./best_model.pth\", \"n_way\": 58, \"datasets\": [{\"labels\": [\"1-10.\", \"1-11.\", \"1-15.\", \"1-16.\", \"1-17.\", \"1-18.\", \"1-19.\", \"10-4.\", \"10-7.\", \"11-1.\", \"11-14.\", \"11-17.\", \"11-20.\", \"11-7.\", \"13-20.\", \"13-8.\", \"14-10.\", \"14-11.\", \"14-14.\", \"14-7.\", \"15-1.\", \"15-20.\", \"16-1.\", \"16-16.\", \"17-10.\", \"17-11.\", \"17-2.\", \"19-1.\", \"19-16.\", \"19-19.\", \"19-20.\", \"19-3.\", \"2-10.\", \"2-11.\", \"2-17.\", \"2-18.\", \"2-20.\", \"2-3.\", \"2-4.\", \"2-5.\", \"2-6.\", \"2-7.\", \"2-8.\", \"3-13.\", \"3-18.\", \"3-3.\", \"4-1.\", \"4-10.\", \"4-11.\", \"4-19.\", \"5-5.\", \"6-15.\", \"7-10.\", \"7-14.\", \"8-18.\", \"8-20.\", \"8-3.\", \"8-8.\"], \"domains\": [1, 2, 3, 4, 5], \"num_examples_per_domain_per_label\": -1, \"pickle_path\": \"/root/csc500-main/datasets/cores.stratified_ds.2022A.pkl\", \"source_or_target_dataset\": \"source\", \"x_transforms\": [\"unit_mag\"], \"episode_transforms\": [], \"domain_prefix\": \"CORES_\"}, {\"labels\": [\"1-10\", \"1-12\", \"1-14\", \"1-16\", \"1-18\", \"1-19\", \"1-8\", \"10-11\", \"10-17\", \"10-4\", \"10-7\", \"11-1\", \"11-10\", \"11-19\", \"11-20\", \"11-4\", \"11-7\", \"12-19\", \"12-20\", \"12-7\", \"13-14\", \"13-18\", \"13-19\", \"13-20\", \"13-3\", \"13-7\", \"14-10\", \"14-11\", \"14-12\", \"14-13\", \"14-14\", \"14-19\", \"14-20\", \"14-7\", \"14-8\", \"14-9\", \"15-1\", \"15-19\", \"15-6\", \"16-1\", \"16-16\", \"16-19\", \"16-20\", \"17-10\", \"17-11\", \"18-1\", \"18-10\", \"18-11\", \"18-12\", \"18-13\", \"18-14\", \"18-15\", \"18-16\", \"18-17\", \"18-19\", \"18-2\", \"18-20\", \"18-4\", \"18-5\", \"18-7\", \"18-8\", \"18-9\", \"19-1\", \"19-10\", \"19-11\", \"19-12\", \"19-13\", \"19-14\", \"19-15\", \"19-19\", \"19-2\", \"19-20\", \"19-3\", \"19-4\", \"19-6\", \"19-7\", \"19-8\", \"19-9\", \"2-1\", \"2-13\", \"2-15\", \"2-3\", \"2-4\", \"2-5\", \"2-6\", \"2-7\", \"2-8\", \"20-1\", \"20-12\", \"20-14\", \"20-15\", \"20-16\", \"20-18\", \"20-19\", \"20-20\", \"20-3\", \"20-4\", \"20-5\", \"20-7\", \"20-8\", \"3-1\", \"3-13\", \"3-18\", \"3-2\", \"3-8\", \"4-1\", \"4-10\", \"4-11\", \"5-1\", \"5-5\", \"6-1\", \"6-15\", \"6-6\", \"7-10\", \"7-11\", \"7-12\", \"7-13\", \"7-14\", \"7-7\", \"7-8\", \"7-9\", \"8-1\", \"8-13\", \"8-14\", \"8-18\", \"8-20\", \"8-3\", \"8-8\", \"9-1\", \"9-7\"], \"domains\": [1, 2, 3, 4], \"num_examples_per_domain_per_label\": -1, \"pickle_path\": \"/root/csc500-main/datasets/wisig.node3-19.stratified_ds.2022A.pkl\", \"source_or_target_dataset\": \"target\", \"x_transforms\": [\"unit_mag\"], \"episode_transforms\": [], \"domain_prefix\": \"Wisig_\"}], \"dataset_seed\": 1337, \"seed\": 1337, \"x_shape\": [2, 256], \"domains_source\": [\"CORES_1\", \"CORES_2\", \"CORES_3\", \"CORES_4\", \"CORES_5\"], \"domains_target\": [\"Wisig_1\", \"Wisig_2\", \"Wisig_3\", \"Wisig_4\"]}, \"results\": {\"source_test_label_accuracy\": 0.998448275862069, \"source_test_label_loss\": 0.0197495985776186, \"target_test_label_accuracy\": 0.7032200811359026, \"target_test_label_loss\": 1.7563481330871582, \"source_val_label_accuracy\": 0.9982040229885057, \"source_val_label_loss\": 0.018248742446303368, \"target_val_label_accuracy\": 0.7048760775862069, \"target_val_label_loss\": 1.7889426946640015, \"total_epochs_trained\": 3, \"total_experiment_time_secs\": 142.28794813156128, \"confusion\": {\"CORES_3\": {\"1\": {\"1\": 16}, \"28\": {\"28\": 16}, \"21\": {\"21\": 15, \"50\": 1}, \"27\": {\"27\": 16}, \"20\": {\"20\": 16}, \"16\": {\"16\": 16}, \"48\": {\"48\": 16}, \"42\": {\"42\": 16}, \"45\": {\"45\": 15, \"2\": 1}, \"41\": {\"41\": 16}, \"13\": {\"13\": 16}, \"50\": {\"50\": 16}, \"32\": {\"32\": 16}, \"51\": {\"51\": 16}, \"30\": {\"30\": 16}, \"38\": {\"38\": 16}, \"7\": {\"7\": 16}, \"22\": {\"22\": 16}, \"37\": {\"37\": 16}, \"33\": {\"33\": 16}, \"6\": {\"6\": 16}, \"14\": {\"14\": 16}, \"40\": {\"40\": 16}, \"55\": {\"55\": 16}, \"2\": {\"2\": 16}, \"39\": {\"39\": 16}, \"56\": {\"56\": 16}, \"17\": {\"17\": 16}, \"10\": {\"10\": 16}, \"9\": {\"9\": 16}, \"31\": {\"31\": 16}, \"12\": {\"12\": 16}, \"25\": {\"25\": 16}, \"0\": {\"0\": 16}, \"47\": {\"47\": 16}, \"44\": {\"44\": 16}, \"23\": {\"23\": 16}, \"15\": {\"15\": 16}, \"8\": {\"8\": 16}, \"54\": {\"54\": 16}, \"52\": {\"52\": 16}, \"29\": {\"29\": 16}, \"5\": {\"5\": 16}, \"34\": {\"34\": 16}, \"35\": {\"35\": 16}, \"26\": {\"26\": 16}, \"57\": {\"57\": 16}, \"53\": {\"53\": 16}, \"36\": {\"36\": 16}, \"18\": {\"18\": 16}, \"49\": {\"49\": 16}, \"3\": {\"3\": 16}, \"4\": {\"4\": 16}, \"24\": {\"24\": 16}, \"11\": {\"11\": 16}, \"19\": {\"19\": 16}, \"43\": {\"43\": 16}, \"46\": {\"46\": 16}}, \"CORES_4\": {\"9\": {\"9\": 16}, \"4\": {\"4\": 16}, \"20\": {\"20\": 16}, \"26\": {\"26\": 16}, \"19\": {\"19\": 16}, \"35\": {\"35\": 16}, \"14\": {\"14\": 16}, \"10\": {\"10\": 16}, \"1\": {\"1\": 16}, \"3\": {\"3\": 16}, \"29\": {\"29\": 16}, \"47\": {\"47\": 16}, \"50\": {\"50\": 15, \"3\": 1}, \"51\": {\"51\": 16}, \"55\": {\"55\": 16}, \"27\": {\"27\": 16}, \"31\": {\"31\": 16}, \"30\": {\"30\": 16}, \"37\": {\"37\": 16}, \"36\": {\"36\": 16}, \"48\": {\"48\": 16}, \"46\": {\"46\": 16}, \"25\": {\"25\": 16}, \"53\": {\"53\": 16}, \"0\": {\"0\": 16}, \"8\": {\"8\": 16}, \"15\": {\"15\": 16}, \"22\": {\"22\": 16}, \"45\": {\"45\": 16}, \"43\": {\"43\": 16}, \"12\": {\"12\": 16}, \"24\": {\"24\": 16}, \"11\": {\"11\": 16}, \"44\": {\"44\": 16}, \"5\": {\"5\": 16}, \"6\": {\"6\": 16}, \"49\": {\"49\": 16}, \"2\": {\"2\": 16}, \"18\": {\"18\": 16}, \"54\": {\"54\": 16}, \"41\": {\"41\": 16}, \"38\": {\"38\": 16}, \"34\": {\"34\": 16}, \"21\": {\"21\": 15, \"50\": 1}, \"57\": {\"57\": 16}, \"33\": {\"33\": 16}, \"17\": {\"17\": 16}, \"40\": {\"40\": 16}, \"28\": {\"28\": 16}, \"16\": {\"16\": 16}, \"56\": {\"56\": 16}, \"39\": {\"39\": 16}, \"13\": {\"13\": 16}, \"23\": {\"23\": 16}, \"7\": {\"7\": 16}, \"52\": {\"52\": 16}, \"42\": {\"42\": 16}, \"32\": {\"32\": 16}}, \"CORES_5\": {\"13\": {\"13\": 20}, \"35\": {\"35\": 20}, \"12\": {\"12\": 20}, \"55\": {\"55\": 20}, \"43\": {\"43\": 20}, \"3\": {\"3\": 20}, \"20\": {\"20\": 20}, \"9\": {\"9\": 20}, \"41\": {\"41\": 20}, \"45\": {\"45\": 19, \"6\": 1}, \"11\": {\"11\": 20}, \"7\": {\"7\": 20}, \"27\": {\"27\": 20}, \"56\": {\"56\": 20}, \"4\": {\"4\": 20}, \"5\": {\"5\": 20}, \"49\": {\"49\": 20}, \"24\": {\"24\": 20}, \"0\": {\"0\": 20}, \"40\": {\"40\": 20}, \"15\": {\"15\": 20}, \"42\": {\"42\": 20}, \"44\": {\"44\": 20}, \"46\": {\"46\": 20}, \"30\": {\"30\": 20}, \"1\": {\"1\": 20}, \"34\": {\"34\": 20}, \"51\": {\"51\": 20}, \"6\": {\"6\": 20}, \"50\": {\"50\": 20}, \"26\": {\"26\": 20}, \"52\": {\"52\": 20}, \"57\": {\"57\": 20}, \"36\": {\"36\": 20}, \"33\": {\"33\": 20}, \"19\": {\"19\": 20}, \"53\": {\"53\": 20}, \"28\": {\"28\": 20}, \"10\": {\"10\": 20}, \"32\": {\"32\": 19, \"27\": 1}, \"8\": {\"8\": 20}, \"48\": {\"48\": 20}, \"16\": {\"16\": 20}, \"17\": {\"17\": 20}, \"23\": {\"23\": 20}, \"29\": {\"29\": 20}, \"2\": {\"2\": 20}, \"21\": {\"21\": 20}, \"38\": {\"38\": 20}, \"14\": {\"14\": 20}, \"39\": {\"39\": 20}, \"54\": {\"54\": 20}, \"18\": {\"18\": 20}, \"22\": {\"22\": 20}, \"37\": {\"37\": 20}, \"47\": {\"47\": 20}, \"25\": {\"25\": 20}, \"31\": {\"31\": 20}}, \"CORES_1\": {\"47\": {\"47\": 24}, \"9\": {\"9\": 24}, \"35\": {\"35\": 24}, \"10\": {\"10\": 24}, \"21\": {\"21\": 24}, \"19\": {\"19\": 24}, \"14\": {\"14\": 24}, \"36\": {\"36\": 24}, \"46\": {\"46\": 24}, \"49\": {\"49\": 24}, \"5\": {\"5\": 24}, \"54\": {\"54\": 24}, \"56\": {\"56\": 23, \"57\": 1}, \"48\": {\"48\": 24}, \"15\": {\"15\": 24}, \"23\": {\"23\": 24}, \"55\": {\"55\": 24}, \"1\": {\"1\": 24}, \"22\": {\"22\": 24}, \"44\": {\"44\": 24}, \"37\": {\"37\": 24}, \"28\": {\"28\": 24}, \"11\": {\"11\": 24}, \"2\": {\"2\": 24}, \"29\": {\"29\": 24}, \"4\": {\"4\": 24}, \"3\": {\"3\": 24}, \"43\": {\"43\": 24}, \"51\": {\"51\": 24}, \"0\": {\"0\": 24}, \"7\": {\"7\": 24}, \"6\": {\"6\": 24}, \"24\": {\"24\": 24}, \"50\": {\"50\": 24}, \"26\": {\"26\": 24}, \"34\": {\"34\": 24}, \"41\": {\"41\": 24}, \"25\": {\"25\": 24}, \"39\": {\"39\": 24}, \"53\": {\"53\": 24}, \"38\": {\"38\": 24}, \"8\": {\"8\": 24}, \"27\": {\"27\": 24}, \"40\": {\"40\": 24}, \"45\": {\"45\": 24}, \"33\": {\"33\": 24}, \"32\": {\"32\": 22, \"54\": 2}, \"17\": {\"17\": 24}, \"57\": {\"57\": 24}, \"42\": {\"42\": 24}, \"13\": {\"13\": 24}, \"16\": {\"16\": 24}, \"12\": {\"12\": 24}, \"52\": {\"52\": 24}, \"30\": {\"30\": 24}, \"20\": {\"20\": 24}, \"18\": {\"18\": 24}, \"31\": {\"31\": 24}}, \"CORES_2\": {\"25\": {\"25\": 20}, \"24\": {\"24\": 20}, \"39\": {\"39\": 20}, \"49\": {\"49\": 20}, \"44\": {\"44\": 20}, \"57\": {\"57\": 20}, \"2\": {\"2\": 20}, \"16\": {\"16\": 20}, \"41\": {\"41\": 20}, \"27\": {\"27\": 20}, \"5\": {\"5\": 20}, \"13\": {\"13\": 20}, \"45\": {\"45\": 20}, \"43\": {\"43\": 20}, \"22\": {\"22\": 20}, \"21\": {\"21\": 20}, \"38\": {\"38\": 20}, \"33\": {\"33\": 20}, \"28\": {\"28\": 20}, \"34\": {\"34\": 20}, \"19\": {\"19\": 20}, \"3\": {\"3\": 19, \"46\": 1}, \"20\": {\"20\": 20}, \"47\": {\"47\": 20}, \"30\": {\"30\": 20}, \"46\": {\"46\": 20}, \"9\": {\"9\": 20}, \"11\": {\"11\": 20}, \"15\": {\"15\": 20}, \"0\": {\"0\": 20}, \"37\": {\"37\": 20}, \"40\": {\"40\": 20}, \"18\": {\"18\": 20}, \"54\": {\"54\": 20}, \"51\": {\"51\": 20}, \"48\": {\"48\": 20}, \"55\": {\"55\": 20}, \"42\": {\"42\": 20}, \"17\": {\"17\": 20}, \"26\": {\"26\": 20}, \"36\": {\"36\": 20}, \"32\": {\"32\": 20}, \"23\": {\"23\": 20}, \"7\": {\"7\": 20}, \"1\": {\"1\": 20}, \"35\": {\"35\": 20}, \"56\": {\"56\": 20}, \"8\": {\"8\": 20}, \"6\": {\"6\": 20}, \"29\": {\"29\": 20}, \"4\": {\"4\": 20}, \"50\": {\"50\": 20}, \"52\": {\"52\": 20}, \"12\": {\"12\": 20}, \"10\": {\"10\": 20}, \"31\": {\"31\": 20}, \"14\": {\"14\": 20}, \"53\": {\"53\": 20}}, \"Wisig_3\": {\"36\": {\"36\": 22, \"83\": 1, \"27\": 7, \"24\": 6}, \"123\": {\"123\": 13, \"121\": 1, \"67\": 2}, \"53\": {\"53\": 20}, \"24\": {\"94\": 1, \"24\": 20, \"25\": 2, \"27\": 7, \"36\": 7, \"112\": 1, \"88\": 1, \"83\": 1, \"108\": 2, \"42\": 2}, \"8\": {\"52\": 1, \"8\": 22, \"124\": 5, \"85\": 1, \"19\": 2, \"108\": 1, \"73\": 4, \"59\": 1, \"70\": 1}, \"49\": {\"49\": 7, \"53\": 3, \"47\": 1, \"15\": 2, \"112\": 4, \"88\": 1, \"80\": 2, \"129\": 1, \"108\": 2, \"8\": 1}, \"74\": {\"74\": 16}, \"93\": {\"93\": 27, \"11\": 2, \"92\": 1, \"29\": 1, \"23\": 1}, \"104\": {\"104\": 16}, \"122\": {\"127\": 9, \"128\": 1, \"122\": 17, \"105\": 1, \"86\": 2, \"107\": 3, \"90\": 3, \"99\": 6, \"121\": 1, \"56\": 1, \"29\": 1, \"87\": 1}, \"78\": {\"13\": 1, \"14\": 2, \"84\": 2, \"78\": 4, \"39\": 2, \"40\": 2, \"21\": 1, \"126\": 1, \"23\": 1}, \"21\": {\"94\": 1, \"21\": 27, \"126\": 5, \"15\": 3, \"39\": 2, \"99\": 1, \"51\": 1, \"92\": 1, \"24\": 1}, \"22\": {\"22\": 16}, \"27\": {\"36\": 10, \"27\": 15, \"24\": 7, \"96\": 1, \"83\": 2, \"42\": 2, \"54\": 1}, \"124\": {\"124\": 35, \"98\": 2, \"52\": 1, \"5\": 2}, \"35\": {\"35\": 10, \"21\": 1, \"126\": 1}, \"37\": {\"37\": 12, \"7\": 3, \"0\": 1}, \"45\": {\"48\": 2, \"45\": 13, \"24\": 1}, \"55\": {\"55\": 16}, \"110\": {\"110\": 24, \"19\": 4, \"129\": 3, \"21\": 1, \"43\": 1, \"1\": 2, \"124\": 1, \"60\": 2, \"28\": 1, \"70\": 5}, \"2\": {\"2\": 8, \"26\": 8, \"16\": 1, \"64\": 1, \"119\": 2, \"93\": 3, \"39\": 1, \"96\": 1, \"23\": 2, \"81\": 1}, \"23\": {\"123\": 5, \"98\": 4, \"3\": 1, \"8\": 1, \"126\": 7, \"128\": 1, \"5\": 2, \"110\": 1, \"111\": 1, \"47\": 1, \"124\": 2, \"67\": 1, \"28\": 1, \"81\": 1, \"19\": 2, \"39\": 1}, \"29\": {\"29\": 25, \"31\": 3, \"33\": 1, \"60\": 1, \"44\": 1, \"90\": 1}, \"90\": {\"90\": 44}, \"127\": {\"127\": 36, \"39\": 1, \"72\": 1, \"128\": 1, \"21\": 1}, \"13\": {\"78\": 1, \"13\": 7, \"26\": 2, \"21\": 1, \"117\": 1, \"16\": 1, \"2\": 1, \"92\": 1, \"100\": 1}, \"48\": {\"35\": 4, \"119\": 2, \"67\": 2, \"2\": 1, \"11\": 1, \"48\": 2, \"7\": 4}, \"105\": {\"105\": 42, \"86\": 3, \"99\": 1}, \"50\": {\"50\": 16}, \"52\": {\"52\": 16}, \"9\": {\"9\": 31, \"10\": 1}, \"94\": {\"94\": 32, \"30\": 4, \"97\": 2, \"59\": 1, \"98\": 1, \"15\": 4, \"125\": 1, \"73\": 1}, \"14\": {\"14\": 37, \"69\": 1}, \"98\": {\"98\": 41, \"125\": 1, \"19\": 3, \"47\": 1, \"18\": 1, \"12\": 1}, \"64\": {\"64\": 20}, \"97\": {\"94\": 6, \"97\": 11, \"96\": 1, \"47\": 1, \"15\": 1}, \"117\": {\"117\": 39, \"121\": 1}, \"85\": {\"108\": 1, \"52\": 1, \"85\": 25, \"49\": 1, \"42\": 1, \"8\": 1}, \"44\": {\"16\": 1, \"44\": 31, \"64\": 1, \"93\": 1}, \"80\": {\"80\": 16}, \"16\": {\"16\": 30, \"90\": 5, \"11\": 1, \"92\": 1, \"93\": 1}, \"103\": {\"103\": 13, \"33\": 1, \"71\": 2}, \"40\": {\"40\": 32, \"32\": 2, \"105\": 2}, \"30\": {\"78\": 1, \"98\": 5, \"110\": 1, \"30\": 24, \"12\": 2, \"94\": 3, \"47\": 1, \"19\": 1, \"90\": 1, \"15\": 1}, \"6\": {\"6\": 14, \"34\": 3, \"72\": 4, \"51\": 1, \"75\": 2, \"15\": 1, \"58\": 2, \"86\": 1, \"111\": 3, \"91\": 1}, \"108\": {\"70\": 4, \"108\": 19, \"49\": 1, \"85\": 4, \"53\": 1, \"112\": 1, \"42\": 2, \"88\": 3, \"8\": 1}, \"33\": {\"33\": 37, \"102\": 2, \"116\": 1}, \"96\": {\"96\": 20}, \"79\": {\"79\": 12}, \"109\": {\"109\": 26, \"118\": 3, \"62\": 3, \"69\": 5, \"4\": 1, \"28\": 1, \"89\": 1}, \"81\": {\"81\": 30, \"18\": 1, \"63\": 1}, \"88\": {\"49\": 3, \"42\": 2, \"88\": 19, \"108\": 8, \"31\": 1, \"39\": 1, \"96\": 3, \"21\": 2, \"85\": 1}, \"41\": {\"41\": 6, \"9\": 1, \"4\": 1, \"56\": 2, \"66\": 2, \"86\": 1, \"105\": 1, \"91\": 1, \"34\": 1}, \"70\": {\"70\": 11, \"93\": 4, \"8\": 4, \"47\": 2, \"85\": 1, \"52\": 1, \"109\": 1, \"126\": 2, \"110\": 3, \"108\": 2, \"73\": 1, \"19\": 2, \"92\": 1, \"129\": 1, \"124\": 1, \"88\": 1}, \"76\": {\"76\": 16}, \"5\": {\"5\": 44, \"84\": 1, \"71\": 2, \"46\": 1}, \"0\": {\"0\": 32, \"101\": 7, \"34\": 2, \"35\": 1, \"10\": 1, \"91\": 1}, \"4\": {\"105\": 6, \"86\": 3, \"4\": 18, \"99\": 5, \"68\": 1, \"127\": 3}, \"86\": {\"105\": 3, \"86\": 20, \"4\": 1, \"127\": 1, \"41\": 1, \"99\": 1, \"122\": 1}, \"69\": {\"69\": 32, \"115\": 1, \"109\": 3, \"76\": 2}, \"26\": {\"26\": 44, \"121\": 1, \"117\": 1}, \"120\": {\"120\": 20}, \"84\": {\"84\": 39, \"87\": 2, \"107\": 1}, \"12\": {\"12\": 27, \"30\": 2, \"98\": 4, \"47\": 1, \"106\": 1, \"19\": 1}, \"32\": {\"48\": 1, \"65\": 1, \"82\": 7, \"105\": 2, \"32\": 3, \"102\": 1, \"37\": 3, \"107\": 2, \"10\": 5, \"45\": 2, \"55\": 1, \"115\": 2, \"9\": 1, \"84\": 1}, \"89\": {\"89\": 27, \"69\": 1}, \"129\": {\"19\": 6, \"129\": 17, \"29\": 4, \"110\": 1, \"31\": 1, \"16\": 1, \"44\": 2}, \"125\": {\"125\": 33, \"106\": 2, \"94\": 1, \"98\": 2, \"15\": 2}, \"116\": {\"17\": 2, \"45\": 2, \"102\": 2, \"82\": 2, \"116\": 9, \"92\": 2, \"16\": 2, \"90\": 4, \"11\": 1, \"33\": 1, \"87\": 1}, \"19\": {\"129\": 9, \"124\": 3, \"110\": 2, \"19\": 11, \"98\": 3, \"77\": 2, \"103\": 1, \"3\": 1}, \"71\": {\"71\": 36, \"46\": 4, \"5\": 3, \"21\": 2, \"39\": 1}, \"72\": {\"72\": 26, \"4\": 1, \"6\": 1}, \"100\": {\"100\": 14, \"122\": 1, \"90\": 1}, \"20\": {\"20\": 13, \"75\": 1, \"49\": 1, \"15\": 1}, \"65\": {\"56\": 1, \"65\": 5, \"18\": 1, \"63\": 1, \"37\": 1, \"9\": 1, \"10\": 2}, \"121\": {\"39\": 5, \"18\": 5, \"121\": 7, \"2\": 1, \"117\": 2, \"21\": 2, \"113\": 2, \"88\": 1, \"81\": 2, \"23\": 1, \"26\": 1, \"96\": 1}, \"34\": {\"34\": 8, \"122\": 2, \"107\": 4, \"111\": 4, \"75\": 2, \"32\": 3, \"14\": 2, \"125\": 1, \"91\": 1, \"6\": 2, \"65\": 1, \"0\": 1, \"72\": 1}, \"119\": {\"119\": 16}, \"75\": {\"6\": 2, \"75\": 14}, \"1\": {\"1\": 35, \"114\": 3}, \"113\": {\"113\": 26, \"2\": 1, \"117\": 2, \"23\": 1, \"121\": 1, \"39\": 3}, \"39\": {\"39\": 21, \"18\": 3, \"117\": 9, \"26\": 1, \"90\": 1, \"126\": 5, \"113\": 3, \"2\": 1, \"21\": 2}, \"82\": {\"82\": 25, \"105\": 1, \"118\": 2}, \"67\": {\"67\": 16}, \"63\": {\"63\": 12, \"39\": 1, \"117\": 1, \"67\": 2}, \"31\": {\"31\": 19, \"129\": 1}, \"38\": {\"38\": 13, \"118\": 1, \"9\": 1, \"104\": 1}, \"17\": {\"39\": 1, \"55\": 1, \"64\": 2, \"57\": 1, \"17\": 3, \"11\": 2, \"9\": 1, \"21\": 2, \"2\": 1, \"105\": 1, \"80\": 1}, \"106\": {\"106\": 31, \"12\": 3, \"42\": 1, \"21\": 1}, \"91\": {\"110\": 1, \"56\": 1, \"91\": 11, \"41\": 1, \"72\": 4, \"34\": 1, \"98\": 1, \"77\": 1, \"97\": 1, \"128\": 2}, \"56\": {\"56\": 12}, \"46\": {\"46\": 16}, \"128\": {\"75\": 1, \"71\": 1, \"98\": 3, \"103\": 1, \"127\": 3, \"128\": 8, \"122\": 1, \"87\": 3, \"77\": 2, \"72\": 1, \"15\": 1, \"91\": 1, \"99\": 1, \"107\": 1}, \"66\": {\"66\": 15, \"105\": 1}, \"10\": {\"10\": 23, \"7\": 6, \"22\": 1, \"99\": 1, \"9\": 1, \"65\": 1, \"95\": 2, \"66\": 1, \"4\": 1, \"14\": 1, \"122\": 1, \"32\": 1}, \"62\": {\"62\": 27, \"40\": 1, \"24\": 1, \"109\": 1}, \"112\": {\"112\": 15, \"0\": 1}, \"47\": {\"47\": 12}, \"107\": {\"107\": 38, \"122\": 1, \"87\": 1, \"84\": 1, \"14\": 1}, \"28\": {\"28\": 16}, \"95\": {\"95\": 32}, \"18\": {\"18\": 31, \"117\": 2, \"26\": 1}, \"114\": {\"114\": 33, \"1\": 3, \"44\": 1, \"110\": 1}, \"102\": {\"102\": 36}, \"68\": {\"68\": 13, \"21\": 1, \"58\": 2}, \"126\": {\"126\": 33, \"6\": 1, \"63\": 3, \"21\": 2, \"13\": 1, \"39\": 1, \"18\": 1}, \"111\": {\"111\": 42, \"6\": 2}, \"3\": {\"3\": 31, \"110\": 1, \"129\": 1, \"71\": 1}, \"73\": {\"73\": 28, \"76\": 2, \"24\": 1, \"59\": 2, \"36\": 1}, \"60\": {\"124\": 4, \"28\": 3, \"110\": 1, \"60\": 12, \"70\": 1, \"29\": 4, \"71\": 2, \"53\": 1}, \"101\": {\"101\": 24, \"28\": 1, \"0\": 6, \"5\": 1, \"51\": 1, \"78\": 1}, \"7\": {\"26\": 2, \"7\": 24}, \"83\": {\"83\": 24}, \"42\": {\"42\": 15, \"112\": 3, \"85\": 1, \"108\": 2, \"73\": 3, \"8\": 3, \"52\": 1}, \"15\": {\"15\": 29, \"111\": 1, \"97\": 1, \"98\": 2, \"94\": 3, \"125\": 1, \"6\": 1}, \"11\": {\"11\": 23, \"43\": 6, \"23\": 3, \"102\": 1, \"17\": 1, \"87\": 1, \"117\": 1}, \"58\": {\"58\": 14, \"75\": 1, \"111\": 1}, \"57\": {\"57\": 20}, \"118\": {\"69\": 3, \"118\": 31, \"109\": 1, \"122\": 1}, \"99\": {\"105\": 4, \"4\": 2, \"99\": 26, \"122\": 2}, \"25\": {\"25\": 14, \"94\": 1, \"15\": 1}, \"61\": {\"61\": 16}, \"87\": {\"33\": 2, \"87\": 25, \"128\": 2, \"1\": 1, \"90\": 4, \"126\": 1, \"103\": 1, \"84\": 2}, \"115\": {\"82\": 1, \"115\": 11, \"32\": 1, \"107\": 3}, \"92\": {\"92\": 24, \"16\": 4, \"90\": 3, \"21\": 1}, \"51\": {\"51\": 13, \"111\": 2, \"34\": 1}, \"59\": {\"59\": 6, \"94\": 1, \"73\": 5}, \"77\": {\"77\": 11, \"91\": 3, \"28\": 2}, \"54\": {\"54\": 14, \"36\": 1, \"27\": 1}, \"43\": {\"102\": 6, \"117\": 1, \"43\": 14, \"33\": 9, \"11\": 1, \"113\": 3, \"63\": 1, \"13\": 1, \"121\": 1, \"126\": 1}}, \"Wisig_2\": {\"37\": {\"37\": 16}, \"101\": {\"101\": 33, \"0\": 7, \"29\": 1, \"30\": 1}, \"83\": {\"83\": 27, \"100\": 2, \"126\": 3, \"93\": 3, \"44\": 1}, \"95\": {\"95\": 33, \"4\": 2, \"21\": 1}, \"122\": {\"21\": 2, \"122\": 10, \"127\": 3, \"23\": 2, \"123\": 1, \"111\": 2, \"124\": 3, \"107\": 1, \"110\": 2, \"29\": 1, \"32\": 2, \"8\": 3, \"34\": 2, \"43\": 1, \"70\": 1}, \"18\": {\"18\": 46, \"2\": 1, \"39\": 1}, \"9\": {\"9\": 29, \"75\": 2, \"70\": 1}, \"57\": {\"57\": 16, \"72\": 2, \"121\": 2}, \"93\": {\"93\": 41, \"16\": 2, \"125\": 1, \"60\": 1, \"88\": 1}, \"64\": {\"64\": 10, \"92\": 3, \"89\": 2, \"99\": 1}, \"70\": {\"109\": 2, \"70\": 8, \"38\": 1, \"88\": 5, \"127\": 1, \"61\": 1, \"43\": 5, \"16\": 2, \"14\": 3, \"122\": 1, \"87\": 3, \"71\": 1, \"31\": 1, \"84\": 1, \"110\": 2, \"115\": 1, \"78\": 1, \"21\": 1}, \"36\": {\"36\": 21, \"24\": 6, \"94\": 3, \"25\": 4, \"21\": 1, \"27\": 3, \"62\": 1, \"109\": 1}, \"109\": {\"45\": 3, \"109\": 17, \"116\": 1, \"121\": 1, \"82\": 2, \"118\": 3, \"21\": 2, \"31\": 1, \"78\": 1, \"14\": 3, \"102\": 3, \"88\": 1, \"70\": 1, \"87\": 3, \"39\": 1, \"107\": 1}, \"92\": {\"92\": 16, \"37\": 2, \"89\": 6, \"76\": 1, \"122\": 1, \"64\": 1, \"113\": 1}, \"28\": {\"28\": 20}, \"39\": {\"109\": 6, \"39\": 17, \"72\": 2, \"87\": 4, \"102\": 4, \"18\": 1, \"120\": 1, \"21\": 1, \"81\": 1, \"60\": 1, \"116\": 2}, \"47\": {\"47\": 9, \"98\": 1, \"13\": 1, \"23\": 1}, \"127\": {\"127\": 43, \"111\": 2, \"29\": 1, \"39\": 1, \"30\": 1}, \"6\": {\"6\": 20, \"127\": 1, \"75\": 2, \"58\": 4, \"59\": 1, \"97\": 3, \"15\": 1}, \"13\": {\"13\": 8, \"21\": 2, \"24\": 1, \"18\": 2, \"72\": 2, \"116\": 1}, \"14\": {\"14\": 18, \"80\": 2, \"70\": 2, \"43\": 4, \"109\": 2, \"32\": 3, \"78\": 3, \"38\": 2, \"110\": 1, \"21\": 2, \"83\": 1}, \"110\": {\"3\": 1, \"14\": 1, \"110\": 20, \"107\": 1, \"30\": 1, \"127\": 1, \"38\": 1, \"122\": 2, \"43\": 1, \"34\": 1, \"117\": 1, \"83\": 1, \"70\": 2}, \"62\": {\"55\": 3, \"62\": 38, \"20\": 1, \"95\": 2, \"76\": 1, \"67\": 1}, \"59\": {\"59\": 12, \"91\": 2, \"29\": 1, \"51\": 1}, \"10\": {\"35\": 3, \"10\": 14, \"14\": 1, \"7\": 7, \"88\": 1, \"78\": 3, \"32\": 1, \"21\": 1, \"40\": 1, \"9\": 1, \"105\": 1}, \"41\": {\"122\": 1, \"41\": 15, \"124\": 1, \"12\": 2, \"30\": 1}, \"25\": {\"25\": 11, \"15\": 2, \"118\": 1, \"36\": 2}, \"45\": {\"45\": 11, \"110\": 2, \"78\": 1, \"82\": 2}, \"1\": {\"1\": 39, \"73\": 1, \"21\": 1, \"49\": 1}, \"61\": {\"40\": 3, \"22\": 1, \"61\": 8, \"55\": 2, \"62\": 2, \"66\": 2, \"95\": 1, \"86\": 1}, \"3\": {\"5\": 2, \"3\": 38, \"11\": 1, \"129\": 1}, \"35\": {\"35\": 9, \"79\": 1, \"68\": 2}, \"126\": {\"126\": 35, \"44\": 3, \"88\": 3, \"39\": 1}, \"90\": {\"90\": 35, \"16\": 3, \"116\": 2}, \"58\": {\"6\": 2, \"58\": 14, \"20\": 1, \"51\": 1, \"111\": 1, \"77\": 1}, \"74\": {\"74\": 12, \"104\": 2, \"10\": 2}, \"27\": {\"27\": 16, \"94\": 3, \"107\": 1, \"78\": 1, \"36\": 12, \"24\": 11, \"16\": 1, \"70\": 1}, \"60\": {\"87\": 2, \"60\": 8, \"8\": 2, \"47\": 1, \"23\": 3, \"100\": 1, \"70\": 2, \"96\": 1, \"123\": 2, \"110\": 1, \"83\": 1, \"88\": 1, \"19\": 1, \"44\": 1, \"14\": 1}, \"123\": {\"123\": 16}, \"50\": {\"50\": 15, \"109\": 1}, \"84\": {\"84\": 39, \"61\": 1, \"45\": 1, \"33\": 1}, \"128\": {\"6\": 1, \"114\": 4, \"73\": 4, \"97\": 2, \"71\": 1, \"1\": 3, \"52\": 1, \"128\": 3, \"29\": 2, \"51\": 1, \"101\": 1, \"19\": 1}, \"72\": {\"13\": 2, \"72\": 23, \"69\": 1, \"18\": 1, \"83\": 1}, \"96\": {\"96\": 18, \"87\": 2}, \"119\": {\"119\": 17, \"44\": 2, \"27\": 1}, \"56\": {\"56\": 12}, \"98\": {\"98\": 38, \"93\": 1, \"125\": 2, \"11\": 1, \"8\": 1, \"49\": 1, \"51\": 1, \"88\": 1}, \"87\": {\"87\": 10, \"96\": 4, \"60\": 2, \"33\": 10, \"21\": 3, \"1\": 2, \"88\": 4, \"58\": 1, \"73\": 1, \"84\": 1, \"14\": 1, \"23\": 1, \"102\": 1, \"16\": 1}, \"40\": {\"40\": 34, \"107\": 3, \"17\": 2, \"95\": 7}, \"114\": {\"114\": 37, \"5\": 1, \"73\": 1, \"124\": 1}, \"55\": {\"55\": 16}, \"8\": {\"60\": 3, \"8\": 28, \"124\": 11, \"129\": 1, \"128\": 3, \"19\": 7, \"34\": 1, \"98\": 1, \"73\": 2, \"23\": 1, \"41\": 1, \"123\": 1}, \"79\": {\"79\": 14, \"35\": 1, \"125\": 1}, \"112\": {\"98\": 2, \"112\": 4, \"71\": 1, \"3\": 2, \"108\": 2, \"126\": 2, \"129\": 3}, \"21\": {\"21\": 40, \"126\": 1, \"118\": 1, \"39\": 1, \"87\": 1, \"24\": 1, \"122\": 1}, \"42\": {\"42\": 13, \"112\": 3, \"99\": 1, \"126\": 2, \"98\": 3, \"85\": 2, \"46\": 1, \"49\": 1, \"124\": 1, \"114\": 1}, \"5\": {\"5\": 34, \"3\": 1, \"19\": 3, \"21\": 2}, \"22\": {\"22\": 20}, \"73\": {\"73\": 28}, \"69\": {\"69\": 22, \"109\": 1, \"87\": 1, \"102\": 1, \"14\": 1, \"78\": 1, \"21\": 1, \"89\": 1, \"18\": 1}, \"108\": {\"108\": 22, \"49\": 1, \"42\": 2, \"24\": 3, \"44\": 1, \"112\": 1, \"27\": 1, \"126\": 1}, \"118\": {\"118\": 28, \"67\": 4, \"31\": 4, \"45\": 1, \"78\": 1, \"62\": 1, \"102\": 1, \"84\": 1, \"70\": 1}, \"4\": {\"4\": 33, \"107\": 3, \"27\": 1, \"21\": 1}, \"49\": {\"34\": 2, \"113\": 2, \"49\": 4, \"129\": 1, \"6\": 1, \"42\": 2, \"11\": 2, \"51\": 2, \"52\": 2, \"27\": 1, \"29\": 2, \"122\": 1, \"108\": 1, \"59\": 1}, \"99\": {\"99\": 31, \"2\": 1}, \"66\": {\"66\": 15, \"88\": 1, \"86\": 2, \"27\": 1, \"61\": 1}, \"116\": {\"90\": 2, \"116\": 23, \"33\": 1, \"82\": 1, \"16\": 1}, \"67\": {\"82\": 1, \"67\": 11, \"6\": 1, \"76\": 1, \"80\": 1, \"20\": 1}, \"15\": {\"9\": 5, \"75\": 1, \"15\": 16, \"6\": 4, \"125\": 3, \"21\": 1, \"94\": 4}, \"63\": {\"63\": 17, \"117\": 2, \"29\": 1}, \"26\": {\"26\": 29, \"118\": 1, \"57\": 2, \"72\": 2, \"2\": 4}, \"24\": {\"25\": 2, \"24\": 14, \"108\": 2, \"49\": 1, \"21\": 3, \"88\": 1, \"36\": 6, \"126\": 2, \"27\": 3, \"94\": 4, \"44\": 1, \"12\": 1}, \"103\": {\"103\": 13, \"127\": 2, \"70\": 1}, \"38\": {\"38\": 16}, \"71\": {\"71\": 37, \"3\": 2, \"21\": 1, \"5\": 2, \"114\": 1, \"83\": 1, \"24\": 1, \"129\": 1}, \"75\": {\"75\": 12, \"30\": 1, \"101\": 1, \"6\": 1, \"0\": 1}, \"44\": {\"44\": 37, \"65\": 1}, \"104\": {\"104\": 16, \"20\": 1, \"79\": 1, \"95\": 2}, \"23\": {\"34\": 1, \"23\": 5, \"99\": 9, \"2\": 1, \"36\": 1, \"113\": 8, \"29\": 9, \"30\": 3, \"127\": 1, \"122\": 1, \"57\": 1, \"121\": 1, \"65\": 1}, \"105\": {\"105\": 27, \"55\": 1}, \"30\": {\"23\": 1, \"30\": 24, \"68\": 2, \"103\": 1, \"6\": 2, \"77\": 2, \"128\": 1, \"0\": 1, \"21\": 1, \"121\": 1, \"127\": 2, \"111\": 1, \"79\": 1, \"75\": 1, \"34\": 1}, \"120\": {\"120\": 20}, \"113\": {\"113\": 33, \"23\": 1, \"65\": 2, \"21\": 2, \"117\": 2}, \"53\": {\"53\": 16}, \"91\": {\"127\": 2, \"56\": 1, \"91\": 11, \"59\": 1, \"54\": 1, \"12\": 2, \"29\": 4, \"21\": 1, \"77\": 1, \"103\": 1, \"24\": 1, \"86\": 2}, \"89\": {\"89\": 31, \"127\": 1, \"21\": 1, \"82\": 3}, \"117\": {\"117\": 40, \"92\": 1, \"113\": 1}, \"82\": {\"116\": 5, \"82\": 28, \"45\": 2, \"109\": 1}, \"20\": {\"20\": 15, \"94\": 1}, \"34\": {\"56\": 1, \"34\": 8, \"98\": 2, \"110\": 2, \"107\": 2, \"59\": 1, \"127\": 1, \"70\": 1, \"117\": 1, \"29\": 4, \"77\": 1, \"30\": 1, \"111\": 2, \"91\": 3, \"8\": 1, \"122\": 1}, \"7\": {\"7\": 33, \"21\": 1, \"32\": 1, \"10\": 1}, \"80\": {\"80\": 15, \"14\": 1}, \"125\": {\"125\": 46}, \"16\": {\"16\": 30, \"87\": 1, \"90\": 6, \"93\": 2, \"23\": 1}, \"88\": {\"96\": 1, \"13\": 1, \"100\": 1, \"88\": 17, \"21\": 2, \"16\": 3, \"83\": 2, \"93\": 3, \"87\": 5, \"60\": 2, \"39\": 2, \"126\": 1, \"70\": 1, \"14\": 1}, \"85\": {\"85\": 27, \"6\": 1, \"73\": 2, \"114\": 2}, \"17\": {\"17\": 6, \"20\": 1, \"86\": 2, \"40\": 2, \"95\": 2, \"42\": 1, \"44\": 1, \"56\": 1}, \"107\": {\"107\": 30, \"4\": 7, \"18\": 1, \"21\": 2, \"121\": 1, \"109\": 1, \"40\": 3, \"86\": 1, \"14\": 1, \"110\": 1}, \"11\": {\"98\": 2, \"49\": 5, \"129\": 1, \"53\": 1, \"11\": 25, \"111\": 1, \"42\": 1, \"44\": 3, \"21\": 1, \"94\": 1, \"108\": 1, \"19\": 1, \"73\": 1}, \"100\": {\"100\": 16}, \"78\": {\"110\": 1, \"109\": 5, \"39\": 3, \"82\": 1, \"40\": 4, \"87\": 2, \"88\": 1, \"78\": 10, \"41\": 1, \"122\": 2, \"16\": 2, \"70\": 2, \"107\": 3, \"32\": 2, \"14\": 1, \"90\": 1, \"8\": 1, \"31\": 1, \"95\": 1, \"66\": 1, \"45\": 1, \"34\": 1, \"43\": 1}, \"115\": {\"115\": 9, \"110\": 2, \"27\": 1}, \"121\": {\"113\": 4, \"121\": 11, \"117\": 6, \"2\": 2, \"88\": 1, \"26\": 1, \"65\": 3, \"18\": 2, \"39\": 1, \"120\": 1}, \"0\": {\"30\": 2, \"0\": 22, \"101\": 13, \"77\": 1, \"29\": 1, \"23\": 1}, \"124\": {\"124\": 32, \"8\": 8, \"19\": 1, \"98\": 1, \"59\": 1, \"85\": 1, \"114\": 1, \"129\": 1}, \"81\": {\"81\": 19, \"18\": 3, \"21\": 2}, \"68\": {\"68\": 12, \"82\": 1, \"21\": 2, \"121\": 1}, \"86\": {\"86\": 31, \"56\": 1}, \"12\": {\"20\": 2, \"12\": 24, \"30\": 2, \"51\": 1, \"41\": 4, \"122\": 2, \"127\": 3, \"106\": 2, \"14\": 1, \"29\": 2, \"8\": 1, \"117\": 1, \"91\": 1, \"98\": 1, \"71\": 1, \"109\": 1, \"34\": 1}, \"31\": {\"20\": 1, \"31\": 16, \"45\": 1, \"80\": 1, \"78\": 1}, \"129\": {\"129\": 21, \"73\": 3, \"29\": 2, \"19\": 1, \"3\": 1, \"53\": 1, \"85\": 1, \"11\": 2}, \"111\": {\"111\": 38, \"128\": 1, \"127\": 3}, \"106\": {\"106\": 30, \"51\": 1, \"125\": 3, \"12\": 4, \"98\": 1, \"6\": 1}, \"32\": {\"74\": 1, \"35\": 1, \"38\": 3, \"32\": 6, \"43\": 3, \"34\": 2, \"107\": 1, \"14\": 3, \"10\": 2, \"7\": 3, \"84\": 1, \"12\": 1, \"22\": 1, \"110\": 2, \"123\": 1, \"95\": 1, \"70\": 2}, \"94\": {\"94\": 22, \"24\": 7, \"125\": 6, \"36\": 1, \"21\": 4, \"15\": 2, \"75\": 1, \"49\": 1, \"108\": 1, \"98\": 1}, \"2\": {\"2\": 11, \"96\": 2, \"26\": 5, \"23\": 5, \"93\": 1, \"88\": 2, \"18\": 2, \"117\": 3, \"100\": 1}, \"48\": {\"48\": 20}, \"33\": {\"33\": 38, \"84\": 1, \"87\": 1}, \"76\": {\"76\": 15, \"89\": 1}, \"102\": {\"102\": 33, \"33\": 1}, \"54\": {\"54\": 20}, \"52\": {\"77\": 2, \"52\": 10, \"30\": 1, \"111\": 2, \"6\": 1, \"29\": 3, \"49\": 1}, \"29\": {\"29\": 30, \"127\": 1, \"91\": 1}, \"46\": {\"46\": 16}, \"43\": {\"43\": 15, \"78\": 2, \"110\": 1, \"70\": 5, \"99\": 1, \"21\": 1, \"16\": 1, \"14\": 2, \"90\": 3, \"40\": 1, \"33\": 1, \"23\": 1, \"107\": 1, \"83\": 1}, \"77\": {\"77\": 11, \"111\": 1, \"29\": 3, \"21\": 1}, \"51\": {\"51\": 9, \"111\": 2, \"21\": 1, \"97\": 1, \"75\": 1, \"125\": 3, \"91\": 1, \"58\": 1, \"6\": 1}, \"19\": {\"53\": 1, \"19\": 7, \"49\": 1, \"119\": 1, \"3\": 1, \"129\": 6, \"29\": 1, \"124\": 2, \"112\": 1, \"8\": 3, \"47\": 3, \"44\": 1}, \"97\": {\"6\": 4, \"51\": 1, \"97\": 10, \"101\": 1, \"15\": 1, \"75\": 3}, \"65\": {\"65\": 15, \"117\": 1, \"113\": 2, \"121\": 1, \"21\": 1}}, \"Wisig_1\": {\"110\": {\"110\": 33, \"93\": 1, \"107\": 1, \"127\": 1, \"113\": 1, \"4\": 1, \"41\": 1, \"75\": 1}, \"27\": {\"27\": 20, \"97\": 2, \"88\": 3, \"94\": 3, \"9\": 1, \"15\": 5}, \"106\": {\"106\": 32, \"98\": 5, \"5\": 1}, \"13\": {\"13\": 14, \"117\": 2}, \"120\": {\"120\": 20}, \"25\": {\"25\": 16}, \"47\": {\"47\": 12}, \"8\": {\"8\": 33, \"21\": 1, \"116\": 2, \"54\": 2, \"82\": 2, \"2\": 1, \"42\": 1, \"87\": 1, \"114\": 1, \"34\": 2}, \"124\": {\"124\": 29, \"9\": 1, \"31\": 1, \"29\": 1, \"42\": 4, \"128\": 1, \"89\": 1}, \"55\": {\"55\": 12}, \"63\": {\"63\": 16}, \"58\": {\"58\": 7, \"125\": 2, \"32\": 1, \"37\": 1, \"53\": 1}, \"105\": {\"105\": 28, \"87\": 1, \"40\": 5, \"27\": 1, \"88\": 1}, \"59\": {\"6\": 1, \"121\": 1, \"59\": 8, \"125\": 2}, \"12\": {\"12\": 27, \"94\": 1, \"6\": 1, \"71\": 2, \"72\": 1, \"49\": 2, \"111\": 1, \"91\": 1}, \"98\": {\"98\": 40, \"86\": 2, \"51\": 1, \"6\": 1}, \"96\": {\"104\": 1, \"126\": 7, \"96\": 7, \"122\": 1, \"70\": 1, \"113\": 1, \"108\": 1, \"43\": 1}, \"30\": {\"30\": 13, \"51\": 1, \"111\": 1, \"71\": 4, \"101\": 7, \"6\": 7, \"44\": 1, \"94\": 5, \"112\": 3}, \"53\": {\"53\": 19, \"49\": 1}, \"82\": {\"82\": 36}, \"33\": {\"33\": 30}, \"0\": {\"0\": 28, \"85\": 8}, \"122\": {\"81\": 3, \"96\": 1, \"40\": 3, \"121\": 1, \"78\": 2, \"122\": 13, \"43\": 5, \"105\": 5, \"65\": 1}, \"28\": {\"28\": 18, \"125\": 2}, \"17\": {\"30\": 1, \"17\": 11, \"125\": 1, \"54\": 1, \"107\": 1, \"39\": 1}, \"121\": {\"121\": 21, \"117\": 3, \"95\": 1, \"39\": 6, \"113\": 1}, \"104\": {\"104\": 15, \"32\": 1}, \"71\": {\"12\": 1, \"71\": 28, \"111\": 2, \"94\": 1, \"127\": 1, \"125\": 1, \"101\": 1, \"6\": 1}, \"20\": {\"20\": 11, \"82\": 4, \"90\": 1}, \"41\": {\"41\": 14, \"57\": 1, \"93\": 1}, \"7\": {\"7\": 34}, \"83\": {\"83\": 24, \"34\": 2, \"14\": 1, \"121\": 1}, \"9\": {\"9\": 29, \"96\": 2, \"49\": 1}, \"118\": {\"118\": 39, \"71\": 2, \"16\": 1, \"26\": 2}, \"111\": {\"111\": 27, \"94\": 1, \"21\": 1, \"12\": 1}, \"23\": {\"41\": 1, \"58\": 1, \"109\": 3, \"1\": 3, \"35\": 1, \"129\": 1, \"32\": 2, \"127\": 1, \"37\": 1, \"104\": 1, \"121\": 1, \"75\": 1, \"23\": 1, \"34\": 1, \"110\": 1}, \"65\": {\"65\": 3, \"122\": 1, \"80\": 2, \"57\": 5, \"39\": 1}, \"95\": {\"95\": 28}, \"38\": {\"38\": 15, \"80\": 1}, \"50\": {\"50\": 13, \"39\": 1, \"67\": 1, \"65\": 1}, \"3\": {\"3\": 26, \"71\": 1, \"19\": 1, \"30\": 1, \"88\": 1}, \"31\": {\"31\": 14, \"47\": 1, \"9\": 1}, \"48\": {\"55\": 2, \"48\": 8, \"28\": 2}, \"81\": {\"81\": 28}, \"99\": {\"99\": 23, \"18\": 1}, \"85\": {\"0\": 3, \"92\": 2, \"85\": 27}, \"11\": {\"82\": 1, \"11\": 20, \"61\": 2, \"114\": 1, \"116\": 3, \"20\": 1, \"42\": 1, \"70\": 1}, \"126\": {\"126\": 43, \"97\": 1, \"96\": 3, \"109\": 1}, \"80\": {\"80\": 12, \"105\": 2, \"43\": 1, \"113\": 1}, \"46\": {\"46\": 7, \"49\": 1, \"31\": 1, \"53\": 1, \"8\": 2}, \"45\": {\"82\": 3, \"11\": 2, \"83\": 1, \"116\": 1, \"18\": 1, \"45\": 1, \"50\": 1, \"104\": 2}, \"18\": {\"18\": 41, \"123\": 1, \"11\": 1, \"2\": 1}, \"84\": {\"84\": 32, \"87\": 2}, \"24\": {\"24\": 24, \"126\": 2, \"36\": 5, \"108\": 2, \"45\": 1, \"88\": 5, \"97\": 2, \"109\": 1, \"27\": 1, \"121\": 1}, \"21\": {\"96\": 1, \"84\": 1, \"3\": 1, \"21\": 7, \"83\": 2, \"87\": 1, \"90\": 1, \"35\": 1, \"39\": 1, \"91\": 1, \"111\": 1, \"71\": 1, \"42\": 2, \"14\": 1}, \"117\": {\"117\": 43, \"16\": 1}, \"6\": {\"71\": 3, \"30\": 1, \"52\": 2, \"91\": 5, \"6\": 5, \"68\": 2, \"94\": 4, \"15\": 1, \"106\": 4, \"98\": 1, \"111\": 1, \"12\": 1}, \"97\": {\"27\": 2, \"97\": 12, \"24\": 1, \"126\": 3, \"88\": 1, \"108\": 1}, \"86\": {\"121\": 1, \"86\": 23, \"15\": 1, \"106\": 2, \"22\": 3, \"89\": 1, \"29\": 1, \"83\": 1, \"52\": 1, \"39\": 1, \"12\": 1}, \"56\": {\"32\": 1, \"56\": 9, \"37\": 1, \"58\": 1}, \"92\": {\"92\": 28}, \"40\": {\"40\": 28, \"105\": 4}, \"108\": {\"109\": 2, \"24\": 3, \"108\": 20, \"9\": 2, \"47\": 5, \"97\": 2, \"72\": 1, \"89\": 1, \"44\": 3, \"126\": 2, \"70\": 1}, \"73\": {\"73\": 20}, \"1\": {\"1\": 42, \"129\": 1, \"104\": 1}, \"129\": {\"23\": 1, \"86\": 2, \"29\": 7, \"100\": 1, \"18\": 7, \"5\": 3, \"72\": 2, \"19\": 1, \"129\": 2, \"70\": 1, \"3\": 1}, \"127\": {\"127\": 32, \"91\": 4, \"112\": 1, \"128\": 1}, \"14\": {\"14\": 36, \"28\": 2}, \"42\": {\"77\": 3, \"34\": 5, \"42\": 2, \"109\": 3, \"100\": 1, \"99\": 1, \"83\": 2, \"98\": 1, \"21\": 1, \"2\": 1, \"129\": 4, \"1\": 1, \"18\": 1, \"84\": 2}, \"67\": {\"67\": 12, \"118\": 3, \"62\": 1}, \"74\": {\"74\": 16}, \"61\": {\"116\": 3, \"61\": 9}, \"36\": {\"36\": 29, \"24\": 5, \"88\": 2}, \"32\": {\"32\": 19, \"37\": 4, \"85\": 1, \"110\": 4, \"56\": 3, \"10\": 1}, \"77\": {\"24\": 1, \"77\": 12, \"87\": 3}, \"107\": {\"107\": 37, \"87\": 1}, \"44\": {\"44\": 36}, \"51\": {\"51\": 11, \"58\": 2, \"123\": 1, \"71\": 1, \"91\": 1}, \"2\": {\"25\": 2, \"116\": 1, \"2\": 18, \"100\": 3, \"18\": 1, \"33\": 1, \"82\": 2, \"123\": 2, \"11\": 1, \"114\": 1}, \"52\": {\"111\": 1, \"52\": 17, \"112\": 1, \"6\": 1}, \"125\": {\"125\": 41, \"94\": 1, \"6\": 1, \"53\": 3}, \"37\": {\"37\": 16}, \"35\": {\"35\": 5, \"110\": 1, \"75\": 2, \"71\": 1, \"32\": 1, \"48\": 2}, \"116\": {\"116\": 26, \"2\": 1, \"11\": 1, \"33\": 1, \"8\": 2, \"102\": 1}, \"15\": {\"15\": 18, \"88\": 1, \"27\": 3, \"94\": 6, \"49\": 1, \"125\": 2, \"12\": 1, \"52\": 1, \"6\": 1}, \"70\": {\"86\": 10, \"96\": 1, \"70\": 12, \"1\": 1, \"97\": 1, \"109\": 4, \"72\": 1, \"98\": 1, \"44\": 1, \"21\": 2, \"43\": 1, \"128\": 2, \"126\": 1, \"99\": 1, \"42\": 1, \"31\": 1, \"23\": 1, \"83\": 1, \"29\": 1}, \"109\": {\"109\": 24, \"24\": 1, \"96\": 3, \"126\": 4, \"1\": 3, \"44\": 1, \"42\": 1, \"104\": 1}, \"76\": {\"76\": 16}, \"66\": {\"66\": 16}, \"57\": {\"57\": 9, \"74\": 2, \"6\": 1}, \"119\": {\"119\": 16}, \"34\": {\"34\": 2, \"86\": 2, \"14\": 10, \"41\": 1, \"28\": 2, \"53\": 1, \"87\": 2, \"80\": 1, \"43\": 1, \"106\": 2}, \"68\": {\"68\": 13, \"51\": 1, \"106\": 1, \"87\": 1}, \"90\": {\"90\": 23, \"66\": 3}, \"62\": {\"62\": 35, \"121\": 1}, \"93\": {\"93\": 15, \"14\": 3, \"87\": 3, \"4\": 3, \"70\": 1, \"107\": 5, \"43\": 2, \"7\": 2, \"40\": 3, \"41\": 1, \"34\": 1, \"84\": 1}, \"54\": {\"54\": 16}, \"29\": {\"29\": 27, \"5\": 1}, \"89\": {\"89\": 27, \"31\": 1, \"42\": 2, \"103\": 2, \"124\": 3, \"49\": 1}, \"79\": {\"79\": 12}, \"16\": {\"16\": 34, \"39\": 1, \"117\": 2, \"50\": 1}, \"26\": {\"26\": 33, \"16\": 2, \"20\": 1}, \"64\": {\"64\": 15, \"44\": 1}, \"123\": {\"123\": 16}, \"75\": {\"75\": 15, \"127\": 1}, \"88\": {\"88\": 17, \"24\": 7, \"126\": 2, \"108\": 2, \"27\": 3, \"15\": 1, \"36\": 2, \"94\": 2}, \"10\": {\"92\": 3, \"74\": 3, \"10\": 20, \"85\": 4, \"43\": 1, \"62\": 1, \"0\": 4, \"57\": 1, \"122\": 1, \"40\": 1, \"21\": 1}, \"91\": {\"91\": 12, \"112\": 1, \"127\": 6, \"98\": 3, \"71\": 2, \"58\": 1, \"6\": 1, \"49\": 1, \"30\": 1}, \"4\": {\"4\": 22, \"107\": 7, \"55\": 2, \"93\": 1}, \"100\": {\"100\": 16}, \"39\": {\"39\": 31, \"117\": 1, \"116\": 1, \"11\": 3, \"45\": 1, \"18\": 1}, \"78\": {\"24\": 1, \"33\": 1, \"78\": 5, \"87\": 1, \"93\": 2, \"20\": 1, \"22\": 1, \"108\": 1, \"40\": 1, \"39\": 1, \"122\": 1}, \"101\": {\"101\": 33, \"30\": 1, \"72\": 1, \"121\": 1}, \"112\": {\"112\": 12, \"127\": 2, \"75\": 1, \"51\": 1}, \"103\": {\"103\": 14, \"9\": 1, \"126\": 1}, \"19\": {\"129\": 1, \"19\": 16, \"1\": 1, \"44\": 2, \"104\": 1, \"82\": 1, \"42\": 1, \"86\": 1}, \"60\": {\"28\": 1, \"100\": 2, \"60\": 2, \"84\": 1, \"43\": 2, \"41\": 3, \"35\": 1, \"83\": 1, \"7\": 2, \"123\": 1}, \"72\": {\"72\": 26, \"29\": 1, \"5\": 2, \"83\": 1, \"98\": 2}, \"43\": {\"80\": 1, \"61\": 1, \"43\": 13, \"105\": 8, \"40\": 2, \"57\": 1, \"48\": 1, \"93\": 2, \"122\": 3, \"87\": 2}, \"22\": {\"84\": 1, \"22\": 12, \"88\": 1, \"60\": 2}, \"87\": {\"84\": 2, \"87\": 18, \"17\": 2, \"21\": 1, \"43\": 1, \"7\": 1, \"8\": 1, \"107\": 3, \"22\": 1, \"34\": 1, \"105\": 1, \"113\": 1, \"93\": 1}, \"128\": {\"124\": 2, \"44\": 2, \"128\": 7, \"72\": 3, \"2\": 2, \"101\": 5, \"11\": 1, \"5\": 1, \"19\": 1}, \"5\": {\"5\": 36, \"21\": 1, \"29\": 1}, \"102\": {\"102\": 26, \"33\": 4}, \"94\": {\"6\": 3, \"121\": 1, \"94\": 11, \"27\": 4, \"125\": 2, \"15\": 4, \"71\": 1, \"49\": 1, \"108\": 1}, \"114\": {\"114\": 30, \"19\": 1, \"51\": 1, \"84\": 2}, \"69\": {\"69\": 24, \"102\": 2}, \"113\": {\"113\": 28}, \"49\": {\"52\": 3, \"97\": 1, \"71\": 3, \"103\": 1, \"9\": 5, \"91\": 1, \"49\": 3, \"111\": 2, \"96\": 1}, \"115\": {\"115\": 12}}, \"Wisig_4\": {\"109\": {\"109\": 20, \"118\": 4, \"69\": 5, \"96\": 1, \"31\": 1, \"18\": 1, \"117\": 1, \"102\": 1}, \"45\": {\"45\": 16}, \"11\": {\"11\": 27, \"108\": 3, \"80\": 1, \"79\": 2, \"49\": 2, \"20\": 1, \"93\": 1, \"44\": 1}, \"23\": {\"21\": 3, \"19\": 1, \"48\": 2, \"77\": 1, \"91\": 1, \"43\": 1, \"68\": 1, \"12\": 1, \"85\": 1, \"23\": 2, \"39\": 1, \"126\": 1}, \"2\": {\"18\": 4, \"90\": 3, \"2\": 7, \"117\": 6, \"20\": 5, \"93\": 1, \"108\": 1, \"26\": 1}, \"25\": {\"25\": 12, \"94\": 2, \"97\": 2}, \"7\": {\"7\": 22, \"40\": 1, \"110\": 1, \"86\": 2, \"87\": 1, \"95\": 2, \"89\": 7, \"4\": 6, \"14\": 4}, \"55\": {\"55\": 16}, \"124\": {\"124\": 24, \"46\": 1, \"19\": 1, \"128\": 1, \"98\": 2, \"8\": 5, \"72\": 1, \"106\": 1}, \"101\": {\"101\": 33, \"0\": 3, \"4\": 1, \"7\": 1}, \"115\": {\"115\": 9, \"33\": 2, \"107\": 1, \"120\": 1, \"87\": 1, \"1\": 2}, \"121\": {\"2\": 2, \"61\": 1, \"63\": 1, \"121\": 13, \"126\": 1, \"117\": 3, \"113\": 7, \"39\": 2, \"67\": 1, \"81\": 1}, \"46\": {\"46\": 18, \"3\": 1, \"124\": 1}, \"72\": {\"110\": 2, \"72\": 28, \"99\": 1, \"71\": 1}, \"83\": {\"83\": 19, \"49\": 2, \"11\": 3, \"5\": 1, \"21\": 1, \"23\": 1, \"32\": 1}, \"12\": {\"12\": 30, \"78\": 1, \"85\": 2, \"8\": 5, \"111\": 2, \"70\": 2, \"106\": 3, \"68\": 1, \"98\": 2, \"52\": 2}, \"79\": {\"79\": 16}, \"20\": {\"20\": 14, \"126\": 1, \"108\": 1}, \"43\": {\"115\": 2, \"87\": 5, \"33\": 13, \"43\": 12, \"38\": 1, \"78\": 2, \"110\": 2, \"14\": 1, \"90\": 3, \"66\": 1, \"122\": 2}, \"35\": {\"35\": 9, \"39\": 1, \"26\": 1, \"61\": 1}, \"86\": {\"86\": 25, \"4\": 2, \"127\": 1}, \"3\": {\"3\": 36, \"46\": 2, \"100\": 1, \"73\": 1}, \"116\": {\"116\": 16, \"99\": 1, \"23\": 1, \"33\": 4, \"96\": 1, \"45\": 1, \"122\": 1, \"28\": 2, \"89\": 1}, \"53\": {\"53\": 15, \"49\": 1}, \"111\": {\"6\": 3, \"21\": 1, \"111\": 44}, \"40\": {\"40\": 27, \"105\": 1, \"107\": 3, \"87\": 1}, \"19\": {\"19\": 3, \"60\": 1, \"73\": 2, \"98\": 2, \"71\": 1, \"5\": 4, \"85\": 2, \"72\": 1, \"126\": 1, \"128\": 2, \"7\": 1, \"93\": 3, \"20\": 1, \"100\": 2, \"1\": 1, \"129\": 1}, \"71\": {\"71\": 44, \"128\": 2, \"1\": 3, \"8\": 1, \"19\": 1, \"124\": 1}, \"21\": {\"21\": 22, \"7\": 1, \"43\": 2, \"23\": 3, \"100\": 1, \"126\": 1, \"117\": 2}, \"82\": {\"82\": 25, \"23\": 1, \"89\": 1, \"32\": 1, \"71\": 1, \"39\": 1, \"86\": 2}, \"65\": {\"65\": 12}, \"110\": {\"6\": 1, \"110\": 33, \"72\": 1, \"66\": 1, \"43\": 2, \"1\": 1, \"105\": 1, \"90\": 3, \"38\": 1, \"47\": 1, \"96\": 1}, \"119\": {\"119\": 15, \"48\": 1}, \"64\": {\"64\": 13, \"108\": 1, \"92\": 2}, \"126\": {\"126\": 24, \"48\": 1, \"39\": 2, \"123\": 3, \"63\": 3, \"88\": 1, \"113\": 4, \"35\": 1, \"121\": 1, \"78\": 1, \"67\": 1}, \"129\": {\"46\": 1, \"129\": 11, \"98\": 5, \"100\": 1, \"8\": 2, \"60\": 1, \"88\": 1, \"5\": 1, \"59\": 1, \"73\": 1, \"20\": 1, \"85\": 2}, \"103\": {\"103\": 12, \"77\": 1, \"95\": 1, \"85\": 1, \"96\": 1}, \"34\": {\"34\": 9, \"6\": 5, \"70\": 1, \"47\": 1, \"78\": 1, \"75\": 1, \"7\": 2, \"91\": 2, \"87\": 2, \"1\": 1, \"111\": 3, \"128\": 1, \"105\": 2, \"14\": 1}, \"42\": {\"124\": 2, \"51\": 1, \"42\": 9, \"112\": 5, \"52\": 2, \"27\": 2, \"9\": 1, \"49\": 1, \"8\": 3, \"98\": 2}, \"114\": {\"114\": 38, \"71\": 4, \"46\": 1, \"1\": 1}, \"38\": {\"38\": 15, \"110\": 1}, \"99\": {\"99\": 28, \"122\": 4, \"43\": 1, \"102\": 1, \"33\": 4}, \"47\": {\"47\": 8, \"53\": 1, \"34\": 2, \"29\": 1}, \"61\": {\"61\": 9, \"26\": 2, \"126\": 1, \"35\": 2, \"65\": 2}, \"9\": {\"9\": 26, \"39\": 1, \"26\": 1}, \"73\": {\"19\": 2, \"35\": 1, \"73\": 11, \"5\": 5, \"20\": 1, \"36\": 1, \"49\": 1, \"24\": 1, \"70\": 1}, \"48\": {\"48\": 8, \"113\": 2, \"25\": 2, \"123\": 1, \"121\": 2, \"91\": 1}, \"18\": {\"18\": 41, \"78\": 1, \"117\": 1, \"81\": 1}, \"16\": {\"16\": 40}, \"87\": {\"21\": 1, \"87\": 11, \"105\": 9, \"66\": 1, \"33\": 1, \"120\": 1, \"43\": 6, \"107\": 4, \"4\": 1, \"78\": 1, \"128\": 1, \"110\": 1, \"89\": 1, \"1\": 1, \"56\": 1, \"122\": 3, \"40\": 1, \"14\": 1}, \"60\": {\"20\": 2, \"60\": 8, \"19\": 2, \"38\": 1, \"43\": 1, \"8\": 3, \"11\": 1, \"129\": 2, \"44\": 4, \"71\": 1, \"98\": 3, \"85\": 1, \"90\": 1, \"111\": 1, \"52\": 1}, \"51\": {\"43\": 2, \"51\": 4, \"6\": 1, \"35\": 1, \"10\": 2, \"125\": 1, \"3\": 1, \"58\": 1, \"39\": 1, \"41\": 1, \"52\": 1}, \"4\": {\"4\": 32, \"95\": 6, \"91\": 1, \"7\": 1, \"127\": 2}, \"85\": {\"85\": 23, \"88\": 1, \"52\": 3, \"98\": 1}, \"28\": {\"28\": 19, \"43\": 1}, \"27\": {\"53\": 2, \"42\": 3, \"27\": 20, \"70\": 2, \"9\": 5, \"24\": 2, \"83\": 1, \"10\": 1, \"49\": 1, \"88\": 1}, \"97\": {\"25\": 2, \"97\": 7, \"42\": 1, \"36\": 3, \"15\": 1, \"94\": 2, \"24\": 1, \"54\": 1, \"6\": 1, \"47\": 1}, \"6\": {\"6\": 7, \"47\": 1, \"12\": 3, \"15\": 3, \"58\": 1, \"106\": 1, \"10\": 3, \"85\": 1, \"25\": 1, \"51\": 1, \"125\": 1, \"94\": 1}, \"76\": {\"76\": 13, \"31\": 3}, \"105\": {\"105\": 24, \"39\": 1, \"87\": 3, \"107\": 4, \"4\": 1, \"40\": 3}, \"37\": {\"40\": 1, \"37\": 14, \"120\": 1}, \"98\": {\"98\": 26, \"85\": 4, \"93\": 1, \"8\": 4, \"65\": 1, \"125\": 1, \"12\": 2, \"117\": 1}, \"96\": {\"96\": 18, \"116\": 1, \"84\": 1}, \"32\": {\"109\": 2, \"82\": 1, \"115\": 2, \"32\": 13, \"69\": 1, \"118\": 2, \"120\": 2, \"107\": 1, \"22\": 1, \"89\": 1, \"7\": 2}, \"15\": {\"6\": 2, \"94\": 7, \"15\": 19, \"10\": 2, \"98\": 2}, \"56\": {\"56\": 10, \"86\": 1, \"127\": 1}, \"90\": {\"90\": 31, \"66\": 1}, \"91\": {\"91\": 14, \"111\": 3, \"85\": 3, \"10\": 1, \"77\": 1, \"103\": 2}, \"52\": {\"52\": 14, \"41\": 1, \"128\": 1, \"8\": 1, \"98\": 1, \"91\": 1, \"111\": 1}, \"78\": {\"35\": 1, \"91\": 1, \"121\": 1, \"21\": 2, \"126\": 2, \"78\": 3, \"108\": 1, \"39\": 2, \"85\": 1, \"33\": 1, \"1\": 1, \"43\": 3, \"128\": 1, \"88\": 3, \"87\": 1, \"77\": 1, \"23\": 1, \"34\": 2, \"93\": 1, \"122\": 1, \"120\": 1, \"117\": 1, \"84\": 1, \"98\": 1}, \"84\": {\"84\": 25, \"102\": 9, \"0\": 1, \"21\": 2, \"13\": 1}, \"1\": {\"1\": 22, \"72\": 2, \"71\": 12, \"88\": 2, \"21\": 1, \"114\": 1, \"15\": 1, \"98\": 1}, \"122\": {\"122\": 17, \"43\": 8, \"14\": 3, \"99\": 4, \"78\": 1, \"107\": 2, \"26\": 1, \"0\": 1, \"87\": 1, \"1\": 1, \"96\": 1, \"84\": 1, \"102\": 1, \"39\": 1, \"118\": 1}, \"66\": {\"66\": 8, \"23\": 1, \"110\": 4, \"43\": 1, \"90\": 1, \"38\": 1}, \"127\": {\"7\": 1, \"127\": 33, \"95\": 2, \"108\": 1, \"4\": 1}, \"80\": {\"80\": 16}, \"113\": {\"113\": 27, \"126\": 3, \"39\": 6, \"21\": 1, \"123\": 1}, \"31\": {\"31\": 14, \"76\": 2}, \"88\": {\"83\": 2, \"108\": 3, \"88\": 6, \"100\": 1, \"42\": 3, \"5\": 5, \"8\": 1, \"21\": 1, \"93\": 1, \"3\": 2, \"49\": 2, \"70\": 4, \"78\": 1}, \"62\": {\"62\": 33, \"69\": 3, \"118\": 3, \"21\": 2, \"31\": 3}, \"22\": {\"22\": 10, \"89\": 2, \"18\": 2, \"14\": 2}, \"49\": {\"98\": 7, \"49\": 5, \"5\": 7, \"10\": 1, \"79\": 2, \"30\": 2, \"111\": 2, \"42\": 1, \"85\": 1, \"8\": 1, \"91\": 1, \"83\": 1, \"12\": 1}, \"54\": {\"54\": 16}, \"63\": {\"63\": 15, \"65\": 1}, \"39\": {\"63\": 1, \"39\": 13, \"113\": 1, \"18\": 3, \"78\": 1, \"65\": 3, \"117\": 1, \"81\": 7, \"43\": 1, \"121\": 4, \"126\": 2, \"21\": 3, \"26\": 1, \"122\": 1}, \"95\": {\"95\": 22, \"86\": 3, \"4\": 2, \"127\": 3, \"7\": 1, \"68\": 1}, \"13\": {\"13\": 16}, \"107\": {\"107\": 32, \"87\": 1, \"105\": 2, \"40\": 2, \"120\": 1}, \"106\": {\"106\": 26, \"39\": 1, \"78\": 1, \"88\": 1, \"12\": 7, \"21\": 1, \"8\": 2, \"52\": 2, \"111\": 1}, \"26\": {\"26\": 29, \"21\": 1, \"18\": 2}, \"112\": {\"112\": 16}, \"36\": {\"36\": 18, \"97\": 4, \"24\": 12, \"10\": 2, \"25\": 2, \"94\": 2, \"27\": 1, \"117\": 1}, \"30\": {\"30\": 22, \"8\": 2, \"68\": 1, \"98\": 4, \"21\": 2, \"111\": 1, \"12\": 2, \"23\": 2, \"53\": 1, \"85\": 1, \"10\": 1, \"6\": 1, \"58\": 1, \"15\": 1}, \"58\": {\"58\": 12, \"39\": 1, \"29\": 2, \"6\": 1}, \"14\": {\"14\": 31, \"99\": 1, \"32\": 1, \"87\": 3, \"122\": 2}, \"68\": {\"68\": 16}, \"118\": {\"118\": 28, \"109\": 2, \"84\": 1, \"107\": 1, \"16\": 1, \"62\": 1, \"1\": 1, \"31\": 1, \"32\": 1, \"69\": 3}, \"44\": {\"44\": 29, \"26\": 2, \"80\": 1, \"99\": 1, \"90\": 1}, \"93\": {\"93\": 22, \"108\": 5, \"2\": 1, \"20\": 2, \"88\": 1, \"85\": 1, \"5\": 1, \"11\": 1}, \"70\": {\"108\": 7, \"88\": 2, \"59\": 1, \"42\": 3, \"8\": 2, \"49\": 5, \"19\": 1, \"3\": 2, \"129\": 2, \"27\": 5, \"93\": 7, \"70\": 2, \"73\": 1}, \"10\": {\"70\": 2, \"58\": 2, \"10\": 11, \"27\": 3, \"15\": 4, \"51\": 1, \"30\": 2, \"94\": 5, \"24\": 1, \"93\": 3, \"88\": 1, \"85\": 1, \"0\": 1, \"108\": 1}, \"94\": {\"94\": 16, \"15\": 6, \"70\": 1, \"27\": 1, \"30\": 1, \"36\": 2, \"10\": 4, \"125\": 2, \"54\": 2, \"25\": 1, \"59\": 1, \"106\": 1, \"21\": 1, \"12\": 1}, \"41\": {\"41\": 13, \"52\": 2, \"85\": 1}, \"75\": {\"75\": 16}, \"29\": {\"127\": 2, \"29\": 29, \"23\": 1}, \"50\": {\"50\": 16}, \"0\": {\"0\": 28, \"78\": 1, \"101\": 8, \"88\": 1, \"21\": 2, \"7\": 5, \"43\": 1, \"34\": 1, \"14\": 1}, \"108\": {\"46\": 1, \"108\": 8, \"73\": 5, \"2\": 1, \"5\": 7, \"60\": 2, \"88\": 3, \"10\": 1, \"69\": 1, \"62\": 1, \"70\": 1, \"118\": 1, \"129\": 1, \"15\": 1, \"78\": 1, \"19\": 1, \"122\": 1, \"11\": 1}, \"100\": {\"100\": 11, \"72\": 1, \"19\": 5, \"3\": 2, \"60\": 1}, \"102\": {\"102\": 36}, \"5\": {\"5\": 38}, \"77\": {\"77\": 12}, \"89\": {\"105\": 2, \"89\": 18, \"94\": 2, \"7\": 6}, \"57\": {\"57\": 16}, \"33\": {\"33\": 46, \"99\": 2}, \"17\": {\"17\": 17, \"23\": 1, \"105\": 2}, \"128\": {\"33\": 2, \"72\": 3, \"128\": 6, \"87\": 2, \"78\": 1, \"19\": 5, \"124\": 2, \"71\": 1, \"8\": 1, \"32\": 1}, \"92\": {\"92\": 28}, \"67\": {\"123\": 4, \"69\": 8, \"67\": 2, \"108\": 1, \"118\": 1}, \"120\": {\"120\": 15, \"26\": 1, \"115\": 2, \"40\": 2}, \"123\": {\"123\": 16}, \"8\": {\"85\": 3, \"52\": 3, \"8\": 26, \"60\": 1, \"70\": 2, \"98\": 2, \"23\": 1, \"100\": 1, \"110\": 1}, \"59\": {\"59\": 6, \"6\": 1, \"111\": 1, \"125\": 2, \"12\": 1, \"68\": 1}, \"24\": {\"27\": 4, \"59\": 2, \"24\": 8, \"97\": 1, \"21\": 1, \"94\": 7, \"14\": 1, \"36\": 5, \"25\": 3, \"70\": 1, \"126\": 1}, \"117\": {\"117\": 26, \"18\": 2, \"121\": 1, \"65\": 1, \"81\": 2, \"2\": 2}, \"69\": {\"69\": 30, \"118\": 3, \"126\": 1}, \"81\": {\"81\": 28, \"65\": 1, \"18\": 2, \"121\": 1}, \"74\": {\"39\": 1, \"74\": 13, \"38\": 2}, \"125\": {\"125\": 24, \"41\": 1, \"126\": 1, \"54\": 1, \"121\": 1}, \"104\": {\"104\": 15, \"37\": 1}}}, \"per_domain_accuracy\": {\"CORES_3\": {\"accuracy\": 0.9978448275862069, \"source?\": true}, \"CORES_4\": {\"accuracy\": 0.9978448275862069, \"source?\": true}, \"CORES_5\": {\"accuracy\": 0.9982758620689656, \"source?\": true}, \"CORES_1\": {\"accuracy\": 0.9978448275862069, \"source?\": true}, \"CORES_2\": {\"accuracy\": 0.9991379310344828, \"source?\": true}, \"Wisig_3\": {\"accuracy\": 0.7322198275862069, \"source?\": false}, \"Wisig_2\": {\"accuracy\": 0.6881338742393509, \"source?\": false}, \"Wisig_1\": {\"accuracy\": 0.7422413793103448, \"source?\": false}, \"Wisig_4\": {\"accuracy\": 0.6602909482758621, \"source?\": false}}}, \"history\": {\"epoch_indices\": [1, 2, 3], \"train_label_loss\": [0.31692652127697557, 0.019937531708837872, 0.016171861269549094], \"source_val_label_loss\": [0.018248742446303368, 0.014743920415639877, 0.008225290104746819], \"target_val_label_loss\": [1.7889426946640015, 3.174961805343628, 3.4196574687957764], \"source_val_acc_label\": [0.9982040229885057, 0.9964080459770115, 0.9974856321839081], \"target_val_acc_label\": [0.7048760775862069, 0.6761179956896551, 0.6814385775862069]}, \"dataset_metrics\": {\"source\": {\"train\": {\"n_unique_x\": 75830, \"n_unique_y\": 58, \"n_batch/episode\": 351}, \"val\": {\"n_unique_x\": 11850, \"n_unique_y\": 58, \"n_batch/episode\": 48}, \"test\": {\"n_unique_x\": 12315, \"n_unique_y\": 58, \"n_batch/episode\": 50}}, \"target\": {\"train\": {\"n_unique_x\": 140642, \"n_unique_y\": 130, \"n_batch/episode\": 912}, \"val\": {\"n_unique_x\": 26052, \"n_unique_y\": 130, \"n_batch/episode\": 128}, \"test\": {\"n_unique_x\": 27285, \"n_unique_y\": 130, \"n_batch/episode\": 136}}}}'"
      ]
     },
     "execution_count": 29,
     "metadata": {},
     "output_type": "execute_result"
    }
   ],
   "source": [
    "json.dumps(experiment)"
   ]
  }
 ],
 "metadata": {
  "celltoolbar": "Tags",
  "kernelspec": {
   "display_name": "Python 3 (ipykernel)",
   "language": "python",
   "name": "python3"
  },
  "language_info": {
   "codemirror_mode": {
    "name": "ipython",
    "version": 3
   },
   "file_extension": ".py",
   "mimetype": "text/x-python",
   "name": "python",
   "nbconvert_exporter": "python",
   "pygments_lexer": "ipython3",
   "version": "3.8.12"
  },
  "papermill": {
   "default_parameters": {},
   "duration": 199.116563,
   "end_time": "2022-03-21T02:06:54.732426",
   "environment_variables": {},
   "exception": null,
   "input_path": "/root/csc500-main/csc500-notebooks/templates/tl_ptn_template.ipynb",
   "output_path": "trial.ipynb",
   "parameters": {
    "parameters": {
     "BEST_MODEL_PATH": "./best_model.pth",
     "NUM_LOGS_PER_EPOCH": 10,
     "criteria_for_best": "target_accuracy",
     "dataset_seed": 1337,
     "datasets": [
      {
       "domain_prefix": "CORES_",
       "domains": [
        1,
        2,
        3,
        4,
        5
       ],
       "episode_transforms": [],
       "labels": [
        "1-10.",
        "1-11.",
        "1-15.",
        "1-16.",
        "1-17.",
        "1-18.",
        "1-19.",
        "10-4.",
        "10-7.",
        "11-1.",
        "11-14.",
        "11-17.",
        "11-20.",
        "11-7.",
        "13-20.",
        "13-8.",
        "14-10.",
        "14-11.",
        "14-14.",
        "14-7.",
        "15-1.",
        "15-20.",
        "16-1.",
        "16-16.",
        "17-10.",
        "17-11.",
        "17-2.",
        "19-1.",
        "19-16.",
        "19-19.",
        "19-20.",
        "19-3.",
        "2-10.",
        "2-11.",
        "2-17.",
        "2-18.",
        "2-20.",
        "2-3.",
        "2-4.",
        "2-5.",
        "2-6.",
        "2-7.",
        "2-8.",
        "3-13.",
        "3-18.",
        "3-3.",
        "4-1.",
        "4-10.",
        "4-11.",
        "4-19.",
        "5-5.",
        "6-15.",
        "7-10.",
        "7-14.",
        "8-18.",
        "8-20.",
        "8-3.",
        "8-8."
       ],
       "num_examples_per_domain_per_label": -1,
       "pickle_path": "/root/csc500-main/datasets/cores.stratified_ds.2022A.pkl",
       "source_or_target_dataset": "source",
       "x_transforms": [
        "unit_mag"
       ]
      },
      {
       "domain_prefix": "Wisig_",
       "domains": [
        1,
        2,
        3,
        4
       ],
       "episode_transforms": [],
       "labels": [
        "1-10",
        "1-12",
        "1-14",
        "1-16",
        "1-18",
        "1-19",
        "1-8",
        "10-11",
        "10-17",
        "10-4",
        "10-7",
        "11-1",
        "11-10",
        "11-19",
        "11-20",
        "11-4",
        "11-7",
        "12-19",
        "12-20",
        "12-7",
        "13-14",
        "13-18",
        "13-19",
        "13-20",
        "13-3",
        "13-7",
        "14-10",
        "14-11",
        "14-12",
        "14-13",
        "14-14",
        "14-19",
        "14-20",
        "14-7",
        "14-8",
        "14-9",
        "15-1",
        "15-19",
        "15-6",
        "16-1",
        "16-16",
        "16-19",
        "16-20",
        "17-10",
        "17-11",
        "18-1",
        "18-10",
        "18-11",
        "18-12",
        "18-13",
        "18-14",
        "18-15",
        "18-16",
        "18-17",
        "18-19",
        "18-2",
        "18-20",
        "18-4",
        "18-5",
        "18-7",
        "18-8",
        "18-9",
        "19-1",
        "19-10",
        "19-11",
        "19-12",
        "19-13",
        "19-14",
        "19-15",
        "19-19",
        "19-2",
        "19-20",
        "19-3",
        "19-4",
        "19-6",
        "19-7",
        "19-8",
        "19-9",
        "2-1",
        "2-13",
        "2-15",
        "2-3",
        "2-4",
        "2-5",
        "2-6",
        "2-7",
        "2-8",
        "20-1",
        "20-12",
        "20-14",
        "20-15",
        "20-16",
        "20-18",
        "20-19",
        "20-20",
        "20-3",
        "20-4",
        "20-5",
        "20-7",
        "20-8",
        "3-1",
        "3-13",
        "3-18",
        "3-2",
        "3-8",
        "4-1",
        "4-10",
        "4-11",
        "5-1",
        "5-5",
        "6-1",
        "6-15",
        "6-6",
        "7-10",
        "7-11",
        "7-12",
        "7-13",
        "7-14",
        "7-7",
        "7-8",
        "7-9",
        "8-1",
        "8-13",
        "8-14",
        "8-18",
        "8-20",
        "8-3",
        "8-8",
        "9-1",
        "9-7"
       ],
       "num_examples_per_domain_per_label": -1,
       "pickle_path": "/root/csc500-main/datasets/wisig.node3-19.stratified_ds.2022A.pkl",
       "source_or_target_dataset": "target",
       "x_transforms": [
        "unit_mag"
       ]
      }
     ],
     "device": "cuda",
     "experiment_name": "tl_1v2:cores-wisig",
     "lr": 0.0001,
     "n_epoch": 3,
     "n_query": 2,
     "n_shot": 3,
     "n_way": 58,
     "patience": 3,
     "seed": 1337,
     "test_k_factor": 2,
     "torch_default_dtype": "torch.float32",
     "train_k_factor": 3,
     "val_k_factor": 2,
     "x_net": [
      {
       "class": "nnReshape",
       "kargs": {
        "shape": [
         -1,
         1,
         2,
         256
        ]
       }
      },
      {
       "class": "Conv2d",
       "kargs": {
        "bias": false,
        "in_channels": 1,
        "kernel_size": [
         1,
         7
        ],
        "out_channels": 256,
        "padding": [
         0,
         3
        ]
       }
      },
      {
       "class": "ReLU",
       "kargs": {
        "inplace": true
       }
      },
      {
       "class": "BatchNorm2d",
       "kargs": {
        "num_features": 256
       }
      },
      {
       "class": "Conv2d",
       "kargs": {
        "bias": true,
        "in_channels": 256,
        "kernel_size": [
         2,
         7
        ],
        "out_channels": 80,
        "padding": [
         0,
         3
        ]
       }
      },
      {
       "class": "ReLU",
       "kargs": {
        "inplace": true
       }
      },
      {
       "class": "BatchNorm2d",
       "kargs": {
        "num_features": 80
       }
      },
      {
       "class": "Flatten",
       "kargs": {}
      },
      {
       "class": "Linear",
       "kargs": {
        "in_features": 20480,
        "out_features": 256
       }
      },
      {
       "class": "ReLU",
       "kargs": {
        "inplace": true
       }
      },
      {
       "class": "BatchNorm1d",
       "kargs": {
        "num_features": 256
       }
      },
      {
       "class": "Linear",
       "kargs": {
        "in_features": 256,
        "out_features": 256
       }
      }
     ]
    }
   },
   "start_time": "2022-03-21T02:03:35.615863",
   "version": "2.3.4"
  }
 },
 "nbformat": 4,
 "nbformat_minor": 5
}