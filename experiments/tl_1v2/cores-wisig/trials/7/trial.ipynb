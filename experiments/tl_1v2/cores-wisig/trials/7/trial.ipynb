{
 "cells": [
  {
   "cell_type": "markdown",
   "id": "9fea5f46",
   "metadata": {
    "papermill": {
     "duration": 0.030592,
     "end_time": "2022-03-21T02:33:41.059059",
     "exception": false,
     "start_time": "2022-03-21T02:33:41.028467",
     "status": "completed"
    },
    "tags": []
   },
   "source": [
    "# Transfer Learning Template"
   ]
  },
  {
   "cell_type": "code",
   "execution_count": 1,
   "id": "0902182a",
   "metadata": {
    "execution": {
     "iopub.execute_input": "2022-03-21T02:33:41.123013Z",
     "iopub.status.busy": "2022-03-21T02:33:41.122145Z",
     "iopub.status.idle": "2022-03-21T02:33:43.022964Z",
     "shell.execute_reply": "2022-03-21T02:33:43.022095Z"
    },
    "papermill": {
     "duration": 1.940259,
     "end_time": "2022-03-21T02:33:43.023161",
     "exception": false,
     "start_time": "2022-03-21T02:33:41.082902",
     "status": "completed"
    },
    "tags": []
   },
   "outputs": [],
   "source": [
    "%load_ext autoreload\n",
    "%autoreload 2\n",
    "%matplotlib inline\n",
    "\n",
    "    \n",
    "import os, json, sys, time, random\n",
    "import numpy as np\n",
    "import torch\n",
    "from torch.optim import Adam\n",
    "from  easydict import EasyDict\n",
    "import matplotlib.pyplot as plt\n",
    "\n",
    "from steves_models.steves_ptn import Steves_Prototypical_Network\n",
    "\n",
    "from steves_utils.lazy_iterable_wrapper import Lazy_Iterable_Wrapper\n",
    "from steves_utils.iterable_aggregator import Iterable_Aggregator\n",
    "from steves_utils.ptn_train_eval_test_jig import  PTN_Train_Eval_Test_Jig\n",
    "from steves_utils.torch_sequential_builder import build_sequential\n",
    "from steves_utils.torch_utils import get_dataset_metrics, ptn_confusion_by_domain_over_dataloader\n",
    "from steves_utils.utils_v2 import (per_domain_accuracy_from_confusion, get_datasets_base_path)\n",
    "from steves_utils.PTN.utils import independent_accuracy_assesment\n",
    "\n",
    "from torch.utils.data import DataLoader\n",
    "\n",
    "from steves_utils.stratified_dataset.episodic_accessor import Episodic_Accessor_Factory\n",
    "\n",
    "from steves_utils.ptn_do_report import (\n",
    "    get_loss_curve,\n",
    "    get_results_table,\n",
    "    get_parameters_table,\n",
    "    get_domain_accuracies,\n",
    ")\n",
    "\n",
    "from steves_utils.transforms import get_chained_transform"
   ]
  },
  {
   "cell_type": "markdown",
   "id": "41c840b4",
   "metadata": {
    "papermill": {
     "duration": 0.019556,
     "end_time": "2022-03-21T02:33:43.070783",
     "exception": false,
     "start_time": "2022-03-21T02:33:43.051227",
     "status": "completed"
    },
    "tags": []
   },
   "source": [
    "# Allowed Parameters\n",
    "These are allowed parameters, not defaults\n",
    "Each of these values need to be present in the injected parameters (the notebook will raise an exception if they are not present)\n",
    "\n",
    "Papermill uses the cell tag \"parameters\" to inject the real parameters below this cell.\n",
    "Enable tags to see what I mean"
   ]
  },
  {
   "cell_type": "code",
   "execution_count": 2,
   "id": "fd44eb83",
   "metadata": {
    "execution": {
     "iopub.execute_input": "2022-03-21T02:33:43.116408Z",
     "iopub.status.busy": "2022-03-21T02:33:43.115753Z",
     "iopub.status.idle": "2022-03-21T02:33:43.140139Z",
     "shell.execute_reply": "2022-03-21T02:33:43.139265Z"
    },
    "papermill": {
     "duration": 0.049934,
     "end_time": "2022-03-21T02:33:43.140316",
     "exception": false,
     "start_time": "2022-03-21T02:33:43.090382",
     "status": "completed"
    },
    "tags": []
   },
   "outputs": [],
   "source": [
    "required_parameters = {\n",
    "    \"experiment_name\",\n",
    "    \"lr\",\n",
    "    \"device\",\n",
    "    \"seed\",\n",
    "    \"dataset_seed\",\n",
    "    \"n_shot\",\n",
    "    \"n_query\",\n",
    "    \"n_way\",\n",
    "    \"train_k_factor\",\n",
    "    \"val_k_factor\",\n",
    "    \"test_k_factor\",\n",
    "    \"n_epoch\",\n",
    "    \"patience\",\n",
    "    \"criteria_for_best\",\n",
    "    \"x_net\",\n",
    "    \"datasets\",\n",
    "    \"torch_default_dtype\",\n",
    "    \"NUM_LOGS_PER_EPOCH\",\n",
    "    \"BEST_MODEL_PATH\",\n",
    "    \"x_shape\",\n",
    "}"
   ]
  },
  {
   "cell_type": "code",
   "execution_count": 3,
   "id": "fa3f0049",
   "metadata": {
    "execution": {
     "iopub.execute_input": "2022-03-21T02:33:43.201669Z",
     "iopub.status.busy": "2022-03-21T02:33:43.200762Z",
     "iopub.status.idle": "2022-03-21T02:33:43.224057Z",
     "shell.execute_reply": "2022-03-21T02:33:43.223194Z"
    },
    "papermill": {
     "duration": 0.056812,
     "end_time": "2022-03-21T02:33:43.224231",
     "exception": false,
     "start_time": "2022-03-21T02:33:43.167419",
     "status": "completed"
    },
    "tags": [
     "parameters"
    ]
   },
   "outputs": [],
   "source": [
    "from steves_utils.CORES.utils import (\n",
    "    ALL_NODES,\n",
    "    ALL_NODES_MINIMUM_1000_EXAMPLES,\n",
    "    ALL_DAYS\n",
    ")\n",
    "\n",
    "from steves_utils.ORACLE.utils_v2 import (\n",
    "    ALL_DISTANCES_FEET_NARROWED,\n",
    "    ALL_RUNS,\n",
    "    ALL_SERIAL_NUMBERS,\n",
    ")\n",
    "\n",
    "standalone_parameters = {}\n",
    "standalone_parameters[\"experiment_name\"] = \"STANDALONE PTN\"\n",
    "standalone_parameters[\"lr\"] = 0.001\n",
    "standalone_parameters[\"device\"] = \"cuda\"\n",
    "\n",
    "standalone_parameters[\"seed\"] = 1337\n",
    "standalone_parameters[\"dataset_seed\"] = 1337\n",
    "\n",
    "standalone_parameters[\"n_way\"] = 8\n",
    "standalone_parameters[\"n_shot\"] = 3\n",
    "standalone_parameters[\"n_query\"]  = 2\n",
    "standalone_parameters[\"train_k_factor\"] = 1\n",
    "standalone_parameters[\"val_k_factor\"] = 2\n",
    "standalone_parameters[\"test_k_factor\"] = 2\n",
    "\n",
    "\n",
    "standalone_parameters[\"n_epoch\"] = 50\n",
    "\n",
    "standalone_parameters[\"patience\"] = 10\n",
    "standalone_parameters[\"criteria_for_best\"] = \"source_loss\"\n",
    "\n",
    "standalone_parameters[\"datasets\"] = [\n",
    "    {\n",
    "        \"labels\": ALL_SERIAL_NUMBERS,\n",
    "        \"domains\": ALL_DISTANCES_FEET_NARROWED,\n",
    "        \"num_examples_per_domain_per_label\": 100,\n",
    "        \"pickle_path\": os.path.join(get_datasets_base_path(), \"oracle.Run1_framed_2000Examples_stratified_ds.2022A.pkl\"),\n",
    "        \"source_or_target_dataset\": \"source\",\n",
    "        \"x_transforms\": [\"unit_mag\", \"minus_two\"],\n",
    "        \"episode_transforms\": [],\n",
    "        \"domain_prefix\": \"ORACLE_\"\n",
    "    },\n",
    "    {\n",
    "        \"labels\": ALL_NODES,\n",
    "        \"domains\": ALL_DAYS,\n",
    "        \"num_examples_per_domain_per_label\": 100,\n",
    "        \"pickle_path\": os.path.join(get_datasets_base_path(), \"cores.stratified_ds.2022A.pkl\"),\n",
    "        \"source_or_target_dataset\": \"target\",\n",
    "        \"x_transforms\": [\"unit_power\", \"times_zero\"],\n",
    "        \"episode_transforms\": [],\n",
    "        \"domain_prefix\": \"CORES_\"\n",
    "    }   \n",
    "]\n",
    "\n",
    "standalone_parameters[\"torch_default_dtype\"] = \"torch.float32\" \n",
    "\n",
    "\n",
    "\n",
    "standalone_parameters[\"x_net\"] =     [\n",
    "    {\"class\": \"nnReshape\", \"kargs\": {\"shape\":[-1, 1, 2, 256]}},\n",
    "    {\"class\": \"Conv2d\", \"kargs\": { \"in_channels\":1, \"out_channels\":256, \"kernel_size\":(1,7), \"bias\":False, \"padding\":(0,3), },},\n",
    "    {\"class\": \"ReLU\", \"kargs\": {\"inplace\": True}},\n",
    "    {\"class\": \"BatchNorm2d\", \"kargs\": {\"num_features\":256}},\n",
    "\n",
    "    {\"class\": \"Conv2d\", \"kargs\": { \"in_channels\":256, \"out_channels\":80, \"kernel_size\":(2,7), \"bias\":True, \"padding\":(0,3), },},\n",
    "    {\"class\": \"ReLU\", \"kargs\": {\"inplace\": True}},\n",
    "    {\"class\": \"BatchNorm2d\", \"kargs\": {\"num_features\":80}},\n",
    "    {\"class\": \"Flatten\", \"kargs\": {}},\n",
    "\n",
    "    {\"class\": \"Linear\", \"kargs\": {\"in_features\": 80*256, \"out_features\": 256}}, # 80 units per IQ pair\n",
    "    {\"class\": \"ReLU\", \"kargs\": {\"inplace\": True}},\n",
    "    {\"class\": \"BatchNorm1d\", \"kargs\": {\"num_features\":256}},\n",
    "\n",
    "    {\"class\": \"Linear\", \"kargs\": {\"in_features\": 256, \"out_features\": 256}},\n",
    "]\n",
    "\n",
    "# Parameters relevant to results\n",
    "# These parameters will basically never need to change\n",
    "standalone_parameters[\"NUM_LOGS_PER_EPOCH\"] = 10\n",
    "standalone_parameters[\"BEST_MODEL_PATH\"] = \"./best_model.pth\"\n",
    "\n",
    "\n",
    "\n",
    "\n"
   ]
  },
  {
   "cell_type": "code",
   "execution_count": 4,
   "id": "874ede71",
   "metadata": {
    "execution": {
     "iopub.execute_input": "2022-03-21T02:33:43.290822Z",
     "iopub.status.busy": "2022-03-21T02:33:43.273978Z",
     "iopub.status.idle": "2022-03-21T02:33:43.314665Z",
     "shell.execute_reply": "2022-03-21T02:33:43.313829Z"
    },
    "papermill": {
     "duration": 0.063436,
     "end_time": "2022-03-21T02:33:43.314836",
     "exception": false,
     "start_time": "2022-03-21T02:33:43.251400",
     "status": "completed"
    },
    "tags": [
     "injected-parameters"
    ]
   },
   "outputs": [],
   "source": [
    "# Parameters\n",
    "parameters = {\n",
    "    \"experiment_name\": \"tl_1v2:cores-wisig\",\n",
    "    \"device\": \"cuda\",\n",
    "    \"lr\": 0.0001,\n",
    "    \"n_shot\": 3,\n",
    "    \"n_query\": 2,\n",
    "    \"train_k_factor\": 3,\n",
    "    \"val_k_factor\": 2,\n",
    "    \"test_k_factor\": 2,\n",
    "    \"torch_default_dtype\": \"torch.float32\",\n",
    "    \"n_epoch\": 3,\n",
    "    \"patience\": 3,\n",
    "    \"criteria_for_best\": \"target_accuracy\",\n",
    "    \"x_net\": [\n",
    "        {\"class\": \"nnReshape\", \"kargs\": {\"shape\": [-1, 1, 2, 256]}},\n",
    "        {\n",
    "            \"class\": \"Conv2d\",\n",
    "            \"kargs\": {\n",
    "                \"in_channels\": 1,\n",
    "                \"out_channels\": 256,\n",
    "                \"kernel_size\": [1, 7],\n",
    "                \"bias\": False,\n",
    "                \"padding\": [0, 3],\n",
    "            },\n",
    "        },\n",
    "        {\"class\": \"ReLU\", \"kargs\": {\"inplace\": True}},\n",
    "        {\"class\": \"BatchNorm2d\", \"kargs\": {\"num_features\": 256}},\n",
    "        {\n",
    "            \"class\": \"Conv2d\",\n",
    "            \"kargs\": {\n",
    "                \"in_channels\": 256,\n",
    "                \"out_channels\": 80,\n",
    "                \"kernel_size\": [2, 7],\n",
    "                \"bias\": True,\n",
    "                \"padding\": [0, 3],\n",
    "            },\n",
    "        },\n",
    "        {\"class\": \"ReLU\", \"kargs\": {\"inplace\": True}},\n",
    "        {\"class\": \"BatchNorm2d\", \"kargs\": {\"num_features\": 80}},\n",
    "        {\"class\": \"Flatten\", \"kargs\": {}},\n",
    "        {\"class\": \"Linear\", \"kargs\": {\"in_features\": 20480, \"out_features\": 256}},\n",
    "        {\"class\": \"ReLU\", \"kargs\": {\"inplace\": True}},\n",
    "        {\"class\": \"BatchNorm1d\", \"kargs\": {\"num_features\": 256}},\n",
    "        {\"class\": \"Linear\", \"kargs\": {\"in_features\": 256, \"out_features\": 256}},\n",
    "    ],\n",
    "    \"NUM_LOGS_PER_EPOCH\": 10,\n",
    "    \"BEST_MODEL_PATH\": \"./best_model.pth\",\n",
    "    \"n_way\": 58,\n",
    "    \"datasets\": [\n",
    "        {\n",
    "            \"labels\": [\n",
    "                \"1-10.\",\n",
    "                \"1-11.\",\n",
    "                \"1-15.\",\n",
    "                \"1-16.\",\n",
    "                \"1-17.\",\n",
    "                \"1-18.\",\n",
    "                \"1-19.\",\n",
    "                \"10-4.\",\n",
    "                \"10-7.\",\n",
    "                \"11-1.\",\n",
    "                \"11-14.\",\n",
    "                \"11-17.\",\n",
    "                \"11-20.\",\n",
    "                \"11-7.\",\n",
    "                \"13-20.\",\n",
    "                \"13-8.\",\n",
    "                \"14-10.\",\n",
    "                \"14-11.\",\n",
    "                \"14-14.\",\n",
    "                \"14-7.\",\n",
    "                \"15-1.\",\n",
    "                \"15-20.\",\n",
    "                \"16-1.\",\n",
    "                \"16-16.\",\n",
    "                \"17-10.\",\n",
    "                \"17-11.\",\n",
    "                \"17-2.\",\n",
    "                \"19-1.\",\n",
    "                \"19-16.\",\n",
    "                \"19-19.\",\n",
    "                \"19-20.\",\n",
    "                \"19-3.\",\n",
    "                \"2-10.\",\n",
    "                \"2-11.\",\n",
    "                \"2-17.\",\n",
    "                \"2-18.\",\n",
    "                \"2-20.\",\n",
    "                \"2-3.\",\n",
    "                \"2-4.\",\n",
    "                \"2-5.\",\n",
    "                \"2-6.\",\n",
    "                \"2-7.\",\n",
    "                \"2-8.\",\n",
    "                \"3-13.\",\n",
    "                \"3-18.\",\n",
    "                \"3-3.\",\n",
    "                \"4-1.\",\n",
    "                \"4-10.\",\n",
    "                \"4-11.\",\n",
    "                \"4-19.\",\n",
    "                \"5-5.\",\n",
    "                \"6-15.\",\n",
    "                \"7-10.\",\n",
    "                \"7-14.\",\n",
    "                \"8-18.\",\n",
    "                \"8-20.\",\n",
    "                \"8-3.\",\n",
    "                \"8-8.\",\n",
    "            ],\n",
    "            \"domains\": [1, 2, 3, 4, 5],\n",
    "            \"num_examples_per_domain_per_label\": -1,\n",
    "            \"pickle_path\": \"/root/csc500-main/datasets/cores.stratified_ds.2022A.pkl\",\n",
    "            \"source_or_target_dataset\": \"source\",\n",
    "            \"x_transforms\": [\"unit_mag\"],\n",
    "            \"episode_transforms\": [],\n",
    "            \"domain_prefix\": \"CORES_\",\n",
    "        },\n",
    "        {\n",
    "            \"labels\": [\n",
    "                \"1-10\",\n",
    "                \"1-12\",\n",
    "                \"1-14\",\n",
    "                \"1-16\",\n",
    "                \"1-18\",\n",
    "                \"1-19\",\n",
    "                \"1-8\",\n",
    "                \"10-11\",\n",
    "                \"10-17\",\n",
    "                \"10-4\",\n",
    "                \"10-7\",\n",
    "                \"11-1\",\n",
    "                \"11-10\",\n",
    "                \"11-19\",\n",
    "                \"11-20\",\n",
    "                \"11-4\",\n",
    "                \"11-7\",\n",
    "                \"12-19\",\n",
    "                \"12-20\",\n",
    "                \"12-7\",\n",
    "                \"13-14\",\n",
    "                \"13-18\",\n",
    "                \"13-19\",\n",
    "                \"13-20\",\n",
    "                \"13-3\",\n",
    "                \"13-7\",\n",
    "                \"14-10\",\n",
    "                \"14-11\",\n",
    "                \"14-12\",\n",
    "                \"14-13\",\n",
    "                \"14-14\",\n",
    "                \"14-19\",\n",
    "                \"14-20\",\n",
    "                \"14-7\",\n",
    "                \"14-8\",\n",
    "                \"14-9\",\n",
    "                \"15-1\",\n",
    "                \"15-19\",\n",
    "                \"15-6\",\n",
    "                \"16-1\",\n",
    "                \"16-16\",\n",
    "                \"16-19\",\n",
    "                \"16-20\",\n",
    "                \"17-10\",\n",
    "                \"17-11\",\n",
    "                \"18-1\",\n",
    "                \"18-10\",\n",
    "                \"18-11\",\n",
    "                \"18-12\",\n",
    "                \"18-13\",\n",
    "                \"18-14\",\n",
    "                \"18-15\",\n",
    "                \"18-16\",\n",
    "                \"18-17\",\n",
    "                \"18-19\",\n",
    "                \"18-2\",\n",
    "                \"18-20\",\n",
    "                \"18-4\",\n",
    "                \"18-5\",\n",
    "                \"18-7\",\n",
    "                \"18-8\",\n",
    "                \"18-9\",\n",
    "                \"19-1\",\n",
    "                \"19-10\",\n",
    "                \"19-11\",\n",
    "                \"19-12\",\n",
    "                \"19-13\",\n",
    "                \"19-14\",\n",
    "                \"19-15\",\n",
    "                \"19-19\",\n",
    "                \"19-2\",\n",
    "                \"19-20\",\n",
    "                \"19-3\",\n",
    "                \"19-4\",\n",
    "                \"19-6\",\n",
    "                \"19-7\",\n",
    "                \"19-8\",\n",
    "                \"19-9\",\n",
    "                \"2-1\",\n",
    "                \"2-13\",\n",
    "                \"2-15\",\n",
    "                \"2-3\",\n",
    "                \"2-4\",\n",
    "                \"2-5\",\n",
    "                \"2-6\",\n",
    "                \"2-7\",\n",
    "                \"2-8\",\n",
    "                \"20-1\",\n",
    "                \"20-12\",\n",
    "                \"20-14\",\n",
    "                \"20-15\",\n",
    "                \"20-16\",\n",
    "                \"20-18\",\n",
    "                \"20-19\",\n",
    "                \"20-20\",\n",
    "                \"20-3\",\n",
    "                \"20-4\",\n",
    "                \"20-5\",\n",
    "                \"20-7\",\n",
    "                \"20-8\",\n",
    "                \"3-1\",\n",
    "                \"3-13\",\n",
    "                \"3-18\",\n",
    "                \"3-2\",\n",
    "                \"3-8\",\n",
    "                \"4-1\",\n",
    "                \"4-10\",\n",
    "                \"4-11\",\n",
    "                \"5-1\",\n",
    "                \"5-5\",\n",
    "                \"6-1\",\n",
    "                \"6-15\",\n",
    "                \"6-6\",\n",
    "                \"7-10\",\n",
    "                \"7-11\",\n",
    "                \"7-12\",\n",
    "                \"7-13\",\n",
    "                \"7-14\",\n",
    "                \"7-7\",\n",
    "                \"7-8\",\n",
    "                \"7-9\",\n",
    "                \"8-1\",\n",
    "                \"8-13\",\n",
    "                \"8-14\",\n",
    "                \"8-18\",\n",
    "                \"8-20\",\n",
    "                \"8-3\",\n",
    "                \"8-8\",\n",
    "                \"9-1\",\n",
    "                \"9-7\",\n",
    "            ],\n",
    "            \"domains\": [1, 2, 3, 4],\n",
    "            \"num_examples_per_domain_per_label\": -1,\n",
    "            \"pickle_path\": \"/root/csc500-main/datasets/wisig.node3-19.stratified_ds.2022A.pkl\",\n",
    "            \"source_or_target_dataset\": \"target\",\n",
    "            \"x_transforms\": [\"unit_mag\"],\n",
    "            \"episode_transforms\": [],\n",
    "            \"domain_prefix\": \"Wisig_\",\n",
    "        },\n",
    "    ],\n",
    "    \"dataset_seed\": 420,\n",
    "    \"seed\": 420,\n",
    "}\n"
   ]
  },
  {
   "cell_type": "code",
   "execution_count": 5,
   "id": "8fa1cc33",
   "metadata": {
    "execution": {
     "iopub.execute_input": "2022-03-21T02:33:43.365824Z",
     "iopub.status.busy": "2022-03-21T02:33:43.365178Z",
     "iopub.status.idle": "2022-03-21T02:33:43.387192Z",
     "shell.execute_reply": "2022-03-21T02:33:43.386474Z"
    },
    "papermill": {
     "duration": 0.046465,
     "end_time": "2022-03-21T02:33:43.387360",
     "exception": false,
     "start_time": "2022-03-21T02:33:43.340895",
     "status": "completed"
    },
    "tags": []
   },
   "outputs": [],
   "source": [
    "# Set this to True if you want to run this template directly\n",
    "STANDALONE = False\n",
    "if STANDALONE:\n",
    "    print(\"parameters not injected, running with standalone_parameters\")\n",
    "    parameters = standalone_parameters\n",
    "\n",
    "if not 'parameters' in locals() and not 'parameters' in globals():\n",
    "    raise Exception(\"Parameter injection failed\")\n",
    "\n",
    "#Use an easy dict for all the parameters\n",
    "p = EasyDict(parameters)\n",
    "\n",
    "if \"x_shape\" not in p:\n",
    "    p.x_shape = [2,256] # Default to this if we dont supply x_shape\n",
    "\n",
    "\n",
    "supplied_keys = set(p.keys())\n",
    "\n",
    "if  supplied_keys != required_parameters:\n",
    "    print(\"Parameters are incorrect\")\n",
    "    if len(supplied_keys - required_parameters)>0: print(\"Shouldn't have:\", str(supplied_keys - required_parameters))\n",
    "    if len(required_parameters - supplied_keys)>0: print(\"Need to have:\", str(required_parameters - supplied_keys))\n",
    "    raise RuntimeError(\"Parameters are incorrect\")"
   ]
  },
  {
   "cell_type": "code",
   "execution_count": 6,
   "id": "3a028d58",
   "metadata": {
    "execution": {
     "iopub.execute_input": "2022-03-21T02:33:43.443118Z",
     "iopub.status.busy": "2022-03-21T02:33:43.442555Z",
     "iopub.status.idle": "2022-03-21T02:33:43.467023Z",
     "shell.execute_reply": "2022-03-21T02:33:43.466206Z"
    },
    "papermill": {
     "duration": 0.050193,
     "end_time": "2022-03-21T02:33:43.467190",
     "exception": false,
     "start_time": "2022-03-21T02:33:43.416997",
     "status": "completed"
    },
    "tags": []
   },
   "outputs": [],
   "source": [
    "###################################\n",
    "# Set the RNGs and make it all deterministic\n",
    "###################################\n",
    "np.random.seed(p.seed)\n",
    "random.seed(p.seed)\n",
    "torch.manual_seed(p.seed)\n",
    "\n",
    "torch.use_deterministic_algorithms(True) "
   ]
  },
  {
   "cell_type": "code",
   "execution_count": 7,
   "id": "b691acf6",
   "metadata": {
    "execution": {
     "iopub.execute_input": "2022-03-21T02:33:43.520443Z",
     "iopub.status.busy": "2022-03-21T02:33:43.520074Z",
     "iopub.status.idle": "2022-03-21T02:33:43.545348Z",
     "shell.execute_reply": "2022-03-21T02:33:43.544506Z"
    },
    "papermill": {
     "duration": 0.048644,
     "end_time": "2022-03-21T02:33:43.545518",
     "exception": false,
     "start_time": "2022-03-21T02:33:43.496874",
     "status": "completed"
    },
    "tags": []
   },
   "outputs": [],
   "source": [
    "###########################################\n",
    "# The stratified datasets honor this\n",
    "###########################################\n",
    "torch.set_default_dtype(eval(p.torch_default_dtype))"
   ]
  },
  {
   "cell_type": "code",
   "execution_count": 8,
   "id": "b5fba671",
   "metadata": {
    "execution": {
     "iopub.execute_input": "2022-03-21T02:33:43.597629Z",
     "iopub.status.busy": "2022-03-21T02:33:43.597255Z",
     "iopub.status.idle": "2022-03-21T02:33:43.657819Z",
     "shell.execute_reply": "2022-03-21T02:33:43.657045Z"
    },
    "papermill": {
     "duration": 0.085063,
     "end_time": "2022-03-21T02:33:43.658003",
     "exception": false,
     "start_time": "2022-03-21T02:33:43.572940",
     "status": "completed"
    },
    "tags": []
   },
   "outputs": [],
   "source": [
    "###################################\n",
    "# Build the network(s)\n",
    "# Note: It's critical to do this AFTER setting the RNG\n",
    "###################################\n",
    "x_net = build_sequential(p.x_net)"
   ]
  },
  {
   "cell_type": "code",
   "execution_count": 9,
   "id": "5d7e61cc",
   "metadata": {
    "execution": {
     "iopub.execute_input": "2022-03-21T02:33:43.710962Z",
     "iopub.status.busy": "2022-03-21T02:33:43.710581Z",
     "iopub.status.idle": "2022-03-21T02:33:43.736200Z",
     "shell.execute_reply": "2022-03-21T02:33:43.735448Z"
    },
    "papermill": {
     "duration": 0.049219,
     "end_time": "2022-03-21T02:33:43.736377",
     "exception": false,
     "start_time": "2022-03-21T02:33:43.687158",
     "status": "completed"
    },
    "tags": []
   },
   "outputs": [],
   "source": [
    "start_time_secs = time.time()"
   ]
  },
  {
   "cell_type": "code",
   "execution_count": 10,
   "id": "c6b67dfd",
   "metadata": {
    "execution": {
     "iopub.execute_input": "2022-03-21T02:33:43.790967Z",
     "iopub.status.busy": "2022-03-21T02:33:43.790585Z",
     "iopub.status.idle": "2022-03-21T02:33:43.813196Z",
     "shell.execute_reply": "2022-03-21T02:33:43.812460Z"
    },
    "papermill": {
     "duration": 0.046581,
     "end_time": "2022-03-21T02:33:43.813369",
     "exception": false,
     "start_time": "2022-03-21T02:33:43.766788",
     "status": "completed"
    },
    "tags": []
   },
   "outputs": [],
   "source": [
    "p.domains_source = []\n",
    "p.domains_target = []\n",
    "\n",
    "\n",
    "train_original_source = []\n",
    "val_original_source   = []\n",
    "test_original_source  = []\n",
    "\n",
    "train_original_target = []\n",
    "val_original_target   = []\n",
    "test_original_target  = []"
   ]
  },
  {
   "cell_type": "code",
   "execution_count": 11,
   "id": "e3d9c3d3",
   "metadata": {
    "execution": {
     "iopub.execute_input": "2022-03-21T02:33:43.865496Z",
     "iopub.status.busy": "2022-03-21T02:33:43.864931Z",
     "iopub.status.idle": "2022-03-21T02:33:43.891439Z",
     "shell.execute_reply": "2022-03-21T02:33:43.890602Z"
    },
    "papermill": {
     "duration": 0.050825,
     "end_time": "2022-03-21T02:33:43.891634",
     "exception": false,
     "start_time": "2022-03-21T02:33:43.840809",
     "status": "completed"
    },
    "tags": []
   },
   "outputs": [],
   "source": [
    "# global_x_transform_func = lambda x: normalize(x.to(torch.get_default_dtype()), \"unit_power\") # unit_power, unit_mag\n",
    "# global_x_transform_func = lambda x: normalize(x, \"unit_power\") # unit_power, unit_mag"
   ]
  },
  {
   "cell_type": "code",
   "execution_count": 12,
   "id": "acb78fd2",
   "metadata": {
    "execution": {
     "iopub.execute_input": "2022-03-21T02:33:43.951728Z",
     "iopub.status.busy": "2022-03-21T02:33:43.951031Z",
     "iopub.status.idle": "2022-03-21T02:33:43.974039Z",
     "shell.execute_reply": "2022-03-21T02:33:43.973220Z"
    },
    "papermill": {
     "duration": 0.054525,
     "end_time": "2022-03-21T02:33:43.974213",
     "exception": false,
     "start_time": "2022-03-21T02:33:43.919688",
     "status": "completed"
    },
    "tags": []
   },
   "outputs": [],
   "source": [
    "def add_dataset(\n",
    "    labels,\n",
    "    domains,\n",
    "    pickle_path,\n",
    "    x_transforms,\n",
    "    episode_transforms,\n",
    "    domain_prefix,\n",
    "    num_examples_per_domain_per_label,\n",
    "    source_or_target_dataset:str,\n",
    "    iterator_seed=p.seed,\n",
    "    dataset_seed=p.dataset_seed,\n",
    "    n_shot=p.n_shot,\n",
    "    n_way=p.n_way,\n",
    "    n_query=p.n_query,\n",
    "    train_val_test_k_factors=(p.train_k_factor,p.val_k_factor,p.test_k_factor),\n",
    "):\n",
    "   \n",
    "    if x_transforms == []: x_transform = None\n",
    "    else: x_transform = get_chained_transform(x_transforms)\n",
    "    \n",
    "    if episode_transforms == []: episode_transform = None\n",
    "    else: raise Exception(\"episode_transforms not implemented\")\n",
    "    \n",
    "    episode_transform = lambda tup, _prefix=domain_prefix: (_prefix + str(tup[0]), tup[1])\n",
    "\n",
    "\n",
    "    eaf = Episodic_Accessor_Factory(\n",
    "        labels=labels,\n",
    "        domains=domains,\n",
    "        num_examples_per_domain_per_label=num_examples_per_domain_per_label,\n",
    "        iterator_seed=iterator_seed,\n",
    "        dataset_seed=dataset_seed,\n",
    "        n_shot=n_shot,\n",
    "        n_way=n_way,\n",
    "        n_query=n_query,\n",
    "        train_val_test_k_factors=train_val_test_k_factors,\n",
    "        pickle_path=pickle_path,\n",
    "        x_transform_func=x_transform,\n",
    "    )\n",
    "\n",
    "    train, val, test = eaf.get_train(), eaf.get_val(), eaf.get_test()\n",
    "    train = Lazy_Iterable_Wrapper(train, episode_transform)\n",
    "    val = Lazy_Iterable_Wrapper(val, episode_transform)\n",
    "    test = Lazy_Iterable_Wrapper(test, episode_transform)\n",
    "\n",
    "    if source_or_target_dataset==\"source\":\n",
    "        train_original_source.append(train)\n",
    "        val_original_source.append(val)\n",
    "        test_original_source.append(test)\n",
    "\n",
    "        p.domains_source.extend(\n",
    "            [domain_prefix + str(u) for u in domains]\n",
    "        )\n",
    "    elif source_or_target_dataset==\"target\":\n",
    "        train_original_target.append(train)\n",
    "        val_original_target.append(val)\n",
    "        test_original_target.append(test)\n",
    "        p.domains_target.extend(\n",
    "            [domain_prefix + str(u) for u in domains]\n",
    "        )\n",
    "    else:\n",
    "        raise Exception(f\"invalid source_or_target_dataset: {source_or_target_dataset}\")\n",
    "    "
   ]
  },
  {
   "cell_type": "code",
   "execution_count": 13,
   "id": "fe266617",
   "metadata": {
    "execution": {
     "iopub.execute_input": "2022-03-21T02:33:44.024314Z",
     "iopub.status.busy": "2022-03-21T02:33:44.023946Z",
     "iopub.status.idle": "2022-03-21T02:34:26.712064Z",
     "shell.execute_reply": "2022-03-21T02:34:26.712729Z"
    },
    "papermill": {
     "duration": 42.712062,
     "end_time": "2022-03-21T02:34:26.712965",
     "exception": false,
     "start_time": "2022-03-21T02:33:44.000903",
     "status": "completed"
    },
    "tags": []
   },
   "outputs": [],
   "source": [
    "for ds in p.datasets:\n",
    "    add_dataset(**ds)"
   ]
  },
  {
   "cell_type": "code",
   "execution_count": 14,
   "id": "b90d65ac",
   "metadata": {
    "execution": {
     "iopub.execute_input": "2022-03-21T02:34:26.763568Z",
     "iopub.status.busy": "2022-03-21T02:34:26.763178Z",
     "iopub.status.idle": "2022-03-21T02:34:26.791390Z",
     "shell.execute_reply": "2022-03-21T02:34:26.790580Z"
    },
    "papermill": {
     "duration": 0.053117,
     "end_time": "2022-03-21T02:34:26.791573",
     "exception": false,
     "start_time": "2022-03-21T02:34:26.738456",
     "status": "completed"
    },
    "tags": []
   },
   "outputs": [],
   "source": [
    "# from steves_utils.CORES.utils import (\n",
    "#     ALL_NODES,\n",
    "#     ALL_NODES_MINIMUM_1000_EXAMPLES,\n",
    "#     ALL_DAYS\n",
    "# )\n",
    "\n",
    "# add_dataset(\n",
    "#     labels=ALL_NODES,\n",
    "#     domains = ALL_DAYS,\n",
    "#     num_examples_per_domain_per_label=100,\n",
    "#     pickle_path=os.path.join(get_datasets_base_path(), \"cores.stratified_ds.2022A.pkl\"),\n",
    "#     source_or_target_dataset=\"target\",\n",
    "#     x_transform_func=global_x_transform_func,\n",
    "#     domain_modifier=lambda u: f\"cores_{u}\"\n",
    "# )"
   ]
  },
  {
   "cell_type": "code",
   "execution_count": 15,
   "id": "76db484d",
   "metadata": {
    "execution": {
     "iopub.execute_input": "2022-03-21T02:34:26.841982Z",
     "iopub.status.busy": "2022-03-21T02:34:26.841346Z",
     "iopub.status.idle": "2022-03-21T02:34:26.862116Z",
     "shell.execute_reply": "2022-03-21T02:34:26.861416Z"
    },
    "papermill": {
     "duration": 0.045064,
     "end_time": "2022-03-21T02:34:26.862272",
     "exception": false,
     "start_time": "2022-03-21T02:34:26.817208",
     "status": "completed"
    },
    "tags": []
   },
   "outputs": [],
   "source": [
    "# from steves_utils.ORACLE.utils_v2 import (\n",
    "#     ALL_DISTANCES_FEET,\n",
    "#     ALL_RUNS,\n",
    "#     ALL_SERIAL_NUMBERS,\n",
    "# )\n",
    "\n",
    "\n",
    "# add_dataset(\n",
    "#     labels=ALL_SERIAL_NUMBERS,\n",
    "#     domains = list(set(ALL_DISTANCES_FEET) - {2,62}),\n",
    "#     num_examples_per_domain_per_label=100,\n",
    "#     pickle_path=os.path.join(get_datasets_base_path(), \"oracle.Run2_framed_2000Examples_stratified_ds.2022A.pkl\"),\n",
    "#     source_or_target_dataset=\"source\",\n",
    "#     x_transform_func=global_x_transform_func,\n",
    "#     domain_modifier=lambda u: f\"oracle1_{u}\"\n",
    "# )\n"
   ]
  },
  {
   "cell_type": "code",
   "execution_count": 16,
   "id": "97dea9d2",
   "metadata": {
    "execution": {
     "iopub.execute_input": "2022-03-21T02:34:26.913253Z",
     "iopub.status.busy": "2022-03-21T02:34:26.912677Z",
     "iopub.status.idle": "2022-03-21T02:34:26.936441Z",
     "shell.execute_reply": "2022-03-21T02:34:26.935638Z"
    },
    "papermill": {
     "duration": 0.048165,
     "end_time": "2022-03-21T02:34:26.936598",
     "exception": false,
     "start_time": "2022-03-21T02:34:26.888433",
     "status": "completed"
    },
    "tags": []
   },
   "outputs": [],
   "source": [
    "# from steves_utils.ORACLE.utils_v2 import (\n",
    "#     ALL_DISTANCES_FEET,\n",
    "#     ALL_RUNS,\n",
    "#     ALL_SERIAL_NUMBERS,\n",
    "# )\n",
    "\n",
    "\n",
    "# add_dataset(\n",
    "#     labels=ALL_SERIAL_NUMBERS,\n",
    "#     domains = list(set(ALL_DISTANCES_FEET) - {2,62,56}),\n",
    "#     num_examples_per_domain_per_label=100,\n",
    "#     pickle_path=os.path.join(get_datasets_base_path(), \"oracle.Run2_framed_2000Examples_stratified_ds.2022A.pkl\"),\n",
    "#     source_or_target_dataset=\"source\",\n",
    "#     x_transform_func=global_x_transform_func,\n",
    "#     domain_modifier=lambda u: f\"oracle2_{u}\"\n",
    "# )"
   ]
  },
  {
   "cell_type": "code",
   "execution_count": 17,
   "id": "6f289866",
   "metadata": {
    "execution": {
     "iopub.execute_input": "2022-03-21T02:34:26.990553Z",
     "iopub.status.busy": "2022-03-21T02:34:26.990159Z",
     "iopub.status.idle": "2022-03-21T02:34:27.012228Z",
     "shell.execute_reply": "2022-03-21T02:34:27.011435Z"
    },
    "papermill": {
     "duration": 0.046434,
     "end_time": "2022-03-21T02:34:27.012387",
     "exception": false,
     "start_time": "2022-03-21T02:34:26.965953",
     "status": "completed"
    },
    "tags": []
   },
   "outputs": [],
   "source": [
    "# add_dataset(\n",
    "#     labels=list(range(19)),\n",
    "#     domains = [0,1,2],\n",
    "#     num_examples_per_domain_per_label=100,\n",
    "#     pickle_path=os.path.join(get_datasets_base_path(), \"metehan.stratified_ds.2022A.pkl\"),\n",
    "#     source_or_target_dataset=\"target\",\n",
    "#     x_transform_func=global_x_transform_func,\n",
    "#     domain_modifier=lambda u: f\"met_{u}\"\n",
    "# )"
   ]
  },
  {
   "cell_type": "code",
   "execution_count": 18,
   "id": "86a863c3",
   "metadata": {
    "execution": {
     "iopub.execute_input": "2022-03-21T02:34:27.064591Z",
     "iopub.status.busy": "2022-03-21T02:34:27.063925Z",
     "iopub.status.idle": "2022-03-21T02:34:27.083020Z",
     "shell.execute_reply": "2022-03-21T02:34:27.082347Z"
    },
    "papermill": {
     "duration": 0.04287,
     "end_time": "2022-03-21T02:34:27.083182",
     "exception": false,
     "start_time": "2022-03-21T02:34:27.040312",
     "status": "completed"
    },
    "tags": []
   },
   "outputs": [],
   "source": [
    "# # from steves_utils.wisig.utils import (\n",
    "# #     ALL_NODES_MINIMUM_100_EXAMPLES,\n",
    "# #     ALL_NODES_MINIMUM_500_EXAMPLES,\n",
    "# #     ALL_NODES_MINIMUM_1000_EXAMPLES,\n",
    "# #     ALL_DAYS\n",
    "# # )\n",
    "\n",
    "# import steves_utils.wisig.utils as wisig\n",
    "\n",
    "\n",
    "# add_dataset(\n",
    "#     labels=wisig.ALL_NODES_MINIMUM_100_EXAMPLES,\n",
    "#     domains = wisig.ALL_DAYS,\n",
    "#     num_examples_per_domain_per_label=100,\n",
    "#     pickle_path=os.path.join(get_datasets_base_path(), \"wisig.node3-19.stratified_ds.2022A.pkl\"),\n",
    "#     source_or_target_dataset=\"target\",\n",
    "#     x_transform_func=global_x_transform_func,\n",
    "#     domain_modifier=lambda u: f\"wisig_{u}\"\n",
    "# )"
   ]
  },
  {
   "cell_type": "code",
   "execution_count": 19,
   "id": "fd5442bc",
   "metadata": {
    "execution": {
     "iopub.execute_input": "2022-03-21T02:34:27.139613Z",
     "iopub.status.busy": "2022-03-21T02:34:27.132599Z",
     "iopub.status.idle": "2022-03-21T02:34:27.166018Z",
     "shell.execute_reply": "2022-03-21T02:34:27.165315Z"
    },
    "papermill": {
     "duration": 0.056835,
     "end_time": "2022-03-21T02:34:27.166173",
     "exception": false,
     "start_time": "2022-03-21T02:34:27.109338",
     "status": "completed"
    },
    "tags": []
   },
   "outputs": [],
   "source": [
    "###################################\n",
    "# Build the dataset\n",
    "###################################\n",
    "train_original_source = Iterable_Aggregator(train_original_source, p.seed)\n",
    "val_original_source = Iterable_Aggregator(val_original_source, p.seed)\n",
    "test_original_source = Iterable_Aggregator(test_original_source, p.seed)\n",
    "\n",
    "\n",
    "train_original_target = Iterable_Aggregator(train_original_target, p.seed)\n",
    "val_original_target = Iterable_Aggregator(val_original_target, p.seed)\n",
    "test_original_target = Iterable_Aggregator(test_original_target, p.seed)\n",
    "\n",
    "# For CNN We only use X and Y. And we only train on the source.\n",
    "# Properly form the data using a transform lambda and Lazy_Iterable_Wrapper. Finally wrap them in a dataloader\n",
    "\n",
    "transform_lambda = lambda ex: ex[1] # Original is (<domain>, <episode>) so we strip down to episode only\n",
    "\n",
    "train_processed_source = Lazy_Iterable_Wrapper(train_original_source, transform_lambda)\n",
    "val_processed_source   = Lazy_Iterable_Wrapper(val_original_source, transform_lambda)\n",
    "test_processed_source  = Lazy_Iterable_Wrapper(test_original_source, transform_lambda)\n",
    "\n",
    "train_processed_target = Lazy_Iterable_Wrapper(train_original_target, transform_lambda)\n",
    "val_processed_target   = Lazy_Iterable_Wrapper(val_original_target, transform_lambda)\n",
    "test_processed_target  = Lazy_Iterable_Wrapper(test_original_target, transform_lambda)\n",
    "\n",
    "datasets = EasyDict({\n",
    "    \"source\": {\n",
    "        \"original\": {\"train\":train_original_source, \"val\":val_original_source, \"test\":test_original_source},\n",
    "        \"processed\": {\"train\":train_processed_source, \"val\":val_processed_source, \"test\":test_processed_source}\n",
    "    },\n",
    "    \"target\": {\n",
    "        \"original\": {\"train\":train_original_target, \"val\":val_original_target, \"test\":test_original_target},\n",
    "        \"processed\": {\"train\":train_processed_target, \"val\":val_processed_target, \"test\":test_processed_target}\n",
    "    },\n",
    "})"
   ]
  },
  {
   "cell_type": "code",
   "execution_count": 20,
   "id": "5b3c01fc",
   "metadata": {
    "execution": {
     "iopub.execute_input": "2022-03-21T02:34:27.221358Z",
     "iopub.status.busy": "2022-03-21T02:34:27.220503Z",
     "iopub.status.idle": "2022-03-21T02:34:35.819767Z",
     "shell.execute_reply": "2022-03-21T02:34:35.820560Z"
    },
    "papermill": {
     "duration": 8.627427,
     "end_time": "2022-03-21T02:34:35.820778",
     "exception": false,
     "start_time": "2022-03-21T02:34:27.193351",
     "status": "completed"
    },
    "tags": []
   },
   "outputs": [
    {
     "name": "stdout",
     "output_type": "stream",
     "text": [
      "{'CORES_3', 'CORES_4', 'CORES_2', 'CORES_5', 'CORES_1'}\n"
     ]
    },
    {
     "name": "stdout",
     "output_type": "stream",
     "text": [
      "{'Wisig_2', 'Wisig_1', 'Wisig_4', 'Wisig_3'}\n"
     ]
    },
    {
     "name": "stdout",
     "output_type": "stream",
     "text": [
      "tensor([[[ 0.3648,  0.6639,  0.3464,  ..., -0.3674, -0.8738, -0.0367],\n",
      "         [-0.4513, -0.2808, -0.3516,  ..., -1.4328, -0.8712, -0.1863]],\n",
      "\n",
      "        [[ 0.4169,  0.2058,  0.0722,  ..., -1.3924, -0.3822,  0.1924],\n",
      "         [-0.4918, -0.4356, -0.1416,  ..., -0.5559, -0.1336, -0.2432]],\n",
      "\n",
      "        [[ 0.3925,  0.1830,  0.6259,  ...,  0.9680,  1.4640,  0.0212],\n",
      "         [ 1.2200,  1.2784,  0.6604,  ...,  0.8620, -0.0769, -0.4562]],\n",
      "\n",
      "        ...,\n",
      "\n",
      "        [[ 0.4176,  0.6479, -0.8975,  ...,  0.5424, -0.1536,  0.1824],\n",
      "         [-0.2352,  0.3120,  0.2304,  ..., -0.1392,  0.0432, -0.1248]],\n",
      "\n",
      "        [[-0.2591,  0.7206,  0.4898,  ..., -0.6029, -0.5040,  0.8525],\n",
      "         [ 0.8996,  0.6217, -0.2402,  ..., -1.9782, -1.3753, -0.1413]],\n",
      "\n",
      "        [[-0.4527, -0.4753,  0.6247,  ...,  1.4712,  1.0411, -1.4123],\n",
      "         [ 0.7922, -0.1358, -0.3305,  ..., -0.0860,  1.3988,  0.5070]]])\n"
     ]
    }
   ],
   "source": [
    "from steves_utils.transforms import get_average_magnitude, get_average_power\n",
    "\n",
    "print(set([u for u,_ in val_original_source]))\n",
    "print(set([u for u,_ in val_original_target]))\n",
    "\n",
    "s_x, s_y, q_x, q_y, _ = next(iter(train_processed_source))\n",
    "print(s_x)\n",
    "\n",
    "# for ds in [\n",
    "#     train_processed_source,\n",
    "#     val_processed_source,\n",
    "#     test_processed_source,\n",
    "#     train_processed_target,\n",
    "#     val_processed_target,\n",
    "#     test_processed_target\n",
    "# ]:\n",
    "#     for s_x, s_y, q_x, q_y, _ in ds:\n",
    "#         for X in (s_x, q_x):\n",
    "#             for x in X:\n",
    "#                 assert np.isclose(get_average_magnitude(x.numpy()), 1.0)\n",
    "#                 assert np.isclose(get_average_power(x.numpy()), 1.0)\n",
    "                "
   ]
  },
  {
   "cell_type": "code",
   "execution_count": 21,
   "id": "bbdacba1",
   "metadata": {
    "execution": {
     "iopub.execute_input": "2022-03-21T02:34:35.878531Z",
     "iopub.status.busy": "2022-03-21T02:34:35.877941Z",
     "iopub.status.idle": "2022-03-21T02:34:36.045979Z",
     "shell.execute_reply": "2022-03-21T02:34:36.045640Z"
    },
    "papermill": {
     "duration": 0.196464,
     "end_time": "2022-03-21T02:34:36.046084",
     "exception": false,
     "start_time": "2022-03-21T02:34:35.849620",
     "status": "completed"
    },
    "tags": []
   },
   "outputs": [
    {
     "name": "stdout",
     "output_type": "stream",
     "text": [
      "(2, 256)\n"
     ]
    }
   ],
   "source": [
    "###################################\n",
    "# Build the model\n",
    "###################################\n",
    "# easfsl only wants a tuple for the shape\n",
    "model = Steves_Prototypical_Network(x_net, device=p.device, x_shape=tuple(p.x_shape))\n",
    "optimizer = Adam(params=model.parameters(), lr=p.lr)"
   ]
  },
  {
   "cell_type": "code",
   "execution_count": 22,
   "id": "22b39ac5",
   "metadata": {
    "execution": {
     "iopub.execute_input": "2022-03-21T02:34:36.116395Z",
     "iopub.status.busy": "2022-03-21T02:34:36.116022Z",
     "iopub.status.idle": "2022-03-21T02:36:49.810829Z",
     "shell.execute_reply": "2022-03-21T02:36:49.811145Z"
    },
    "papermill": {
     "duration": 133.741967,
     "end_time": "2022-03-21T02:36:49.811256",
     "exception": false,
     "start_time": "2022-03-21T02:34:36.069289",
     "status": "completed"
    },
    "tags": []
   },
   "outputs": [
    {
     "name": "stdout",
     "output_type": "stream",
     "text": [
      "epoch: 1, [batch: 1 / 351], examples_per_second: 333.6588, train_label_loss: 3.8233, \n"
     ]
    },
    {
     "name": "stdout",
     "output_type": "stream",
     "text": [
      "epoch: 1, [batch: 36 / 351], examples_per_second: 2946.5527, train_label_loss: 0.6370, \n"
     ]
    },
    {
     "name": "stdout",
     "output_type": "stream",
     "text": [
      "epoch: 1, [batch: 71 / 351], examples_per_second: 3026.4754, train_label_loss: 0.2389, \n"
     ]
    },
    {
     "name": "stdout",
     "output_type": "stream",
     "text": [
      "epoch: 1, [batch: 106 / 351], examples_per_second: 3127.4560, train_label_loss: 0.0894, \n"
     ]
    },
    {
     "name": "stdout",
     "output_type": "stream",
     "text": [
      "epoch: 1, [batch: 141 / 351], examples_per_second: 2995.0076, train_label_loss: 0.0876, \n"
     ]
    },
    {
     "name": "stdout",
     "output_type": "stream",
     "text": [
      "epoch: 1, [batch: 176 / 351], examples_per_second: 3103.6139, train_label_loss: 0.0386, \n"
     ]
    },
    {
     "name": "stdout",
     "output_type": "stream",
     "text": [
      "epoch: 1, [batch: 211 / 351], examples_per_second: 3076.4931, train_label_loss: 0.0426, \n"
     ]
    },
    {
     "name": "stdout",
     "output_type": "stream",
     "text": [
      "epoch: 1, [batch: 246 / 351], examples_per_second: 2870.5599, train_label_loss: 0.0416, \n"
     ]
    },
    {
     "name": "stdout",
     "output_type": "stream",
     "text": [
      "epoch: 1, [batch: 281 / 351], examples_per_second: 3060.0387, train_label_loss: 0.0293, \n"
     ]
    },
    {
     "name": "stdout",
     "output_type": "stream",
     "text": [
      "epoch: 1, [batch: 316 / 351], examples_per_second: 3000.2456, train_label_loss: 0.0281, \n"
     ]
    },
    {
     "name": "stdout",
     "output_type": "stream",
     "text": [
      "=============================================================\n",
      "epoch: 1, source_val_acc_label: 0.9969, target_val_acc_label: 0.7045, source_val_label_loss: 0.0233, target_val_label_loss: 1.8182, \n",
      "=============================================================\n"
     ]
    },
    {
     "name": "stdout",
     "output_type": "stream",
     "text": [
      "New best\n"
     ]
    },
    {
     "name": "stdout",
     "output_type": "stream",
     "text": [
      "epoch: 2, [batch: 1 / 351], examples_per_second: 30.5336, train_label_loss: 0.0200, \n"
     ]
    },
    {
     "name": "stdout",
     "output_type": "stream",
     "text": [
      "epoch: 2, [batch: 36 / 351], examples_per_second: 3039.2427, train_label_loss: 0.0097, \n"
     ]
    },
    {
     "name": "stdout",
     "output_type": "stream",
     "text": [
      "epoch: 2, [batch: 71 / 351], examples_per_second: 3079.1197, train_label_loss: 0.2396, \n"
     ]
    },
    {
     "name": "stdout",
     "output_type": "stream",
     "text": [
      "epoch: 2, [batch: 106 / 351], examples_per_second: 3141.3049, train_label_loss: 0.0031, \n"
     ]
    },
    {
     "name": "stdout",
     "output_type": "stream",
     "text": [
      "epoch: 2, [batch: 141 / 351], examples_per_second: 2947.4163, train_label_loss: 0.0115, \n"
     ]
    },
    {
     "name": "stdout",
     "output_type": "stream",
     "text": [
      "epoch: 2, [batch: 176 / 351], examples_per_second: 3101.8040, train_label_loss: 0.0037, \n"
     ]
    },
    {
     "name": "stdout",
     "output_type": "stream",
     "text": [
      "epoch: 2, [batch: 211 / 351], examples_per_second: 3128.6114, train_label_loss: 0.0021, \n"
     ]
    },
    {
     "name": "stdout",
     "output_type": "stream",
     "text": [
      "epoch: 2, [batch: 246 / 351], examples_per_second: 2989.0833, train_label_loss: 0.0077, \n"
     ]
    },
    {
     "name": "stdout",
     "output_type": "stream",
     "text": [
      "epoch: 2, [batch: 281 / 351], examples_per_second: 3130.3331, train_label_loss: 0.0012, \n"
     ]
    },
    {
     "name": "stdout",
     "output_type": "stream",
     "text": [
      "epoch: 2, [batch: 316 / 351], examples_per_second: 3211.3747, train_label_loss: 0.0046, \n"
     ]
    },
    {
     "name": "stdout",
     "output_type": "stream",
     "text": [
      "=============================================================\n",
      "epoch: 2, source_val_acc_label: 0.9941, target_val_acc_label: 0.6509, source_val_label_loss: 0.0193, target_val_label_loss: 3.3011, \n",
      "=============================================================\n"
     ]
    },
    {
     "name": "stdout",
     "output_type": "stream",
     "text": [
      "epoch: 3, [batch: 1 / 351], examples_per_second: 35.3793, train_label_loss: 0.0072, \n"
     ]
    },
    {
     "name": "stdout",
     "output_type": "stream",
     "text": [
      "epoch: 3, [batch: 36 / 351], examples_per_second: 4114.2643, train_label_loss: 0.0480, \n"
     ]
    },
    {
     "name": "stdout",
     "output_type": "stream",
     "text": [
      "epoch: 3, [batch: 71 / 351], examples_per_second: 4278.8069, train_label_loss: 0.0350, \n"
     ]
    },
    {
     "name": "stdout",
     "output_type": "stream",
     "text": [
      "epoch: 3, [batch: 106 / 351], examples_per_second: 4025.1273, train_label_loss: 0.0021, \n"
     ]
    },
    {
     "name": "stdout",
     "output_type": "stream",
     "text": [
      "epoch: 3, [batch: 141 / 351], examples_per_second: 3689.3175, train_label_loss: 0.0007, \n"
     ]
    },
    {
     "name": "stdout",
     "output_type": "stream",
     "text": [
      "epoch: 3, [batch: 176 / 351], examples_per_second: 3887.7846, train_label_loss: 0.0004, \n"
     ]
    },
    {
     "name": "stdout",
     "output_type": "stream",
     "text": [
      "epoch: 3, [batch: 211 / 351], examples_per_second: 3863.4594, train_label_loss: 0.0023, \n"
     ]
    },
    {
     "name": "stdout",
     "output_type": "stream",
     "text": [
      "epoch: 3, [batch: 246 / 351], examples_per_second: 3993.0492, train_label_loss: 0.0007, \n"
     ]
    },
    {
     "name": "stdout",
     "output_type": "stream",
     "text": [
      "epoch: 3, [batch: 281 / 351], examples_per_second: 3863.3784, train_label_loss: 0.0033, \n"
     ]
    },
    {
     "name": "stdout",
     "output_type": "stream",
     "text": [
      "epoch: 3, [batch: 316 / 351], examples_per_second: 3863.1877, train_label_loss: 0.0046, \n"
     ]
    },
    {
     "name": "stdout",
     "output_type": "stream",
     "text": [
      "=============================================================\n",
      "epoch: 3, source_val_acc_label: 0.9977, target_val_acc_label: 0.6652, source_val_label_loss: 0.0084, target_val_label_loss: 4.3235, \n",
      "=============================================================\n"
     ]
    }
   ],
   "source": [
    "###################################\n",
    "# train\n",
    "###################################\n",
    "jig = PTN_Train_Eval_Test_Jig(model, p.BEST_MODEL_PATH, p.device)\n",
    "\n",
    "jig.train(\n",
    "    train_iterable=datasets.source.processed.train,\n",
    "    source_val_iterable=datasets.source.processed.val,\n",
    "    target_val_iterable=datasets.target.processed.val,\n",
    "    num_epochs=p.n_epoch,\n",
    "    num_logs_per_epoch=p.NUM_LOGS_PER_EPOCH,\n",
    "    patience=p.patience,\n",
    "    optimizer=optimizer,\n",
    "    criteria_for_best=p.criteria_for_best,\n",
    ")"
   ]
  },
  {
   "cell_type": "code",
   "execution_count": 23,
   "id": "31e8fabf",
   "metadata": {
    "execution": {
     "iopub.execute_input": "2022-03-21T02:36:49.879038Z",
     "iopub.status.busy": "2022-03-21T02:36:49.878672Z",
     "iopub.status.idle": "2022-03-21T02:36:49.909945Z",
     "shell.execute_reply": "2022-03-21T02:36:49.909139Z"
    },
    "papermill": {
     "duration": 0.06773,
     "end_time": "2022-03-21T02:36:49.910102",
     "exception": false,
     "start_time": "2022-03-21T02:36:49.842372",
     "status": "completed"
    },
    "tags": []
   },
   "outputs": [],
   "source": [
    "total_experiment_time_secs = time.time() - start_time_secs"
   ]
  },
  {
   "cell_type": "code",
   "execution_count": 24,
   "id": "87b9595b",
   "metadata": {
    "execution": {
     "iopub.execute_input": "2022-03-21T02:36:49.985055Z",
     "iopub.status.busy": "2022-03-21T02:36:49.984465Z",
     "iopub.status.idle": "2022-03-21T02:37:53.626266Z",
     "shell.execute_reply": "2022-03-21T02:37:53.626979Z"
    },
    "papermill": {
     "duration": 63.678477,
     "end_time": "2022-03-21T02:37:53.627208",
     "exception": false,
     "start_time": "2022-03-21T02:36:49.948731",
     "status": "completed"
    },
    "tags": []
   },
   "outputs": [],
   "source": [
    "###################################\n",
    "# Evaluate the model\n",
    "###################################\n",
    "source_test_label_accuracy, source_test_label_loss = jig.test(datasets.source.processed.test)\n",
    "target_test_label_accuracy, target_test_label_loss = jig.test(datasets.target.processed.test)\n",
    "\n",
    "source_val_label_accuracy, source_val_label_loss = jig.test(datasets.source.processed.val)\n",
    "target_val_label_accuracy, target_val_label_loss = jig.test(datasets.target.processed.val)\n",
    "\n",
    "history = jig.get_history()\n",
    "\n",
    "total_epochs_trained = len(history[\"epoch_indices\"])\n",
    "\n",
    "val_dl = Iterable_Aggregator((datasets.source.original.val,datasets.target.original.val))\n",
    "\n",
    "confusion = ptn_confusion_by_domain_over_dataloader(model, p.device, val_dl)\n",
    "per_domain_accuracy = per_domain_accuracy_from_confusion(confusion)\n",
    "\n",
    "# Add a key to per_domain_accuracy for if it was a source domain\n",
    "for domain, accuracy in per_domain_accuracy.items():\n",
    "    per_domain_accuracy[domain] = {\n",
    "        \"accuracy\": accuracy,\n",
    "        \"source?\": domain in p.domains_source\n",
    "    }\n",
    "\n",
    "# Do an independent accuracy assesment JUST TO BE SURE!\n",
    "# _source_test_label_accuracy = independent_accuracy_assesment(model, datasets.source.processed.test, p.device)\n",
    "# _target_test_label_accuracy = independent_accuracy_assesment(model, datasets.target.processed.test, p.device)\n",
    "# _source_val_label_accuracy = independent_accuracy_assesment(model, datasets.source.processed.val, p.device)\n",
    "# _target_val_label_accuracy = independent_accuracy_assesment(model, datasets.target.processed.val, p.device)\n",
    "\n",
    "# assert(_source_test_label_accuracy == source_test_label_accuracy)\n",
    "# assert(_target_test_label_accuracy == target_test_label_accuracy)\n",
    "# assert(_source_val_label_accuracy == source_val_label_accuracy)\n",
    "# assert(_target_val_label_accuracy == target_val_label_accuracy)\n",
    "\n",
    "experiment = {\n",
    "    \"experiment_name\": p.experiment_name,\n",
    "    \"parameters\": dict(p),\n",
    "    \"results\": {\n",
    "        \"source_test_label_accuracy\": source_test_label_accuracy,\n",
    "        \"source_test_label_loss\": source_test_label_loss,\n",
    "        \"target_test_label_accuracy\": target_test_label_accuracy,\n",
    "        \"target_test_label_loss\": target_test_label_loss,\n",
    "        \"source_val_label_accuracy\": source_val_label_accuracy,\n",
    "        \"source_val_label_loss\": source_val_label_loss,\n",
    "        \"target_val_label_accuracy\": target_val_label_accuracy,\n",
    "        \"target_val_label_loss\": target_val_label_loss,\n",
    "        \"total_epochs_trained\": total_epochs_trained,\n",
    "        \"total_experiment_time_secs\": total_experiment_time_secs,\n",
    "        \"confusion\": confusion,\n",
    "        \"per_domain_accuracy\": per_domain_accuracy,\n",
    "    },\n",
    "    \"history\": history,\n",
    "    \"dataset_metrics\": get_dataset_metrics(datasets, \"ptn\"),\n",
    "}"
   ]
  },
  {
   "cell_type": "code",
   "execution_count": 25,
   "id": "54a21829",
   "metadata": {
    "execution": {
     "iopub.execute_input": "2022-03-21T02:37:53.704099Z",
     "iopub.status.busy": "2022-03-21T02:37:53.703721Z",
     "iopub.status.idle": "2022-03-21T02:37:53.905108Z",
     "shell.execute_reply": "2022-03-21T02:37:53.905797Z"
    },
    "papermill": {
     "duration": 0.238102,
     "end_time": "2022-03-21T02:37:53.905989",
     "exception": false,
     "start_time": "2022-03-21T02:37:53.667887",
     "status": "completed"
    },
    "tags": []
   },
   "outputs": [
    {
     "data": {
      "image/png": "[encoded data removed]",
      "text/plain": [
       "<Figure size 1080x504 with 1 Axes>"
      ]
     },
     "metadata": {
      "needs_background": "light"
     },
     "output_type": "display_data"
    }
   ],
   "source": [
    "ax = get_loss_curve(experiment)\n",
    "plt.show()"
   ]
  },
  {
   "cell_type": "code",
   "execution_count": 26,
   "id": "fd8a0f60",
   "metadata": {
    "execution": {
     "iopub.execute_input": "2022-03-21T02:37:53.983008Z",
     "iopub.status.busy": "2022-03-21T02:37:53.982635Z",
     "iopub.status.idle": "2022-03-21T02:37:54.337307Z",
     "shell.execute_reply": "2022-03-21T02:37:54.338182Z"
    },
    "papermill": {
     "duration": 0.39318,
     "end_time": "2022-03-21T02:37:54.338462",
     "exception": false,
     "start_time": "2022-03-21T02:37:53.945282",
     "status": "completed"
    },
    "tags": []
   },
   "outputs": [
    {
     "data": {
      "text/plain": [
       "<AxesSubplot:title={'center':'Results'}>"
      ]
     },
     "execution_count": 26,
     "metadata": {},
     "output_type": "execute_result"
    },
    {
     "data": {
      "image/png": "[encoded data removed]",
      "text/plain": [
       "<Figure size 1080x504 with 1 Axes>"
      ]
     },
     "metadata": {
      "needs_background": "light"
     },
     "output_type": "display_data"
    }
   ],
   "source": [
    "get_results_table(experiment)"
   ]
  },
  {
   "cell_type": "code",
   "execution_count": 27,
   "id": "cf8dc689",
   "metadata": {
    "execution": {
     "iopub.execute_input": "2022-03-21T02:37:54.511800Z",
     "iopub.status.busy": "2022-03-21T02:37:54.511390Z",
     "iopub.status.idle": "2022-03-21T02:37:54.736775Z",
     "shell.execute_reply": "2022-03-21T02:37:54.737455Z"
    },
    "papermill": {
     "duration": 0.346619,
     "end_time": "2022-03-21T02:37:54.737692",
     "exception": false,
     "start_time": "2022-03-21T02:37:54.391073",
     "status": "completed"
    },
    "tags": []
   },
   "outputs": [
    {
     "data": {
      "text/plain": [
       "<AxesSubplot:title={'center':'Per Domain Validation Accuracy'}, xlabel='domain'>"
      ]
     },
     "execution_count": 27,
     "metadata": {},
     "output_type": "execute_result"
    },
    {
     "data": {
      "image/png": "[encoded data removed]",
      "text/plain": [
       "<Figure size 1080x504 with 1 Axes>"
      ]
     },
     "metadata": {
      "needs_background": "light"
     },
     "output_type": "display_data"
    }
   ],
   "source": [
    "get_domain_accuracies(experiment)"
   ]
  },
  {
   "cell_type": "code",
   "execution_count": 28,
   "id": "a74ae082",
   "metadata": {
    "execution": {
     "iopub.execute_input": "2022-03-21T02:37:54.817098Z",
     "iopub.status.busy": "2022-03-21T02:37:54.816712Z",
     "iopub.status.idle": "2022-03-21T02:37:54.839035Z",
     "shell.execute_reply": "2022-03-21T02:37:54.839722Z"
    },
    "papermill": {
     "duration": 0.062326,
     "end_time": "2022-03-21T02:37:54.839939",
     "exception": false,
     "start_time": "2022-03-21T02:37:54.777613",
     "status": "completed"
    },
    "tags": []
   },
   "outputs": [
    {
     "name": "stdout",
     "output_type": "stream",
     "text": [
      "Source Test Label Accuracy: 0.9968965517241379 Target Test Label Accuracy: 0.7112702839756593\n",
      "Source Val Label Accuracy: 0.9969468390804598 Target Val Label Accuracy: 0.7044719827586207\n"
     ]
    }
   ],
   "source": [
    "print(\"Source Test Label Accuracy:\", experiment[\"results\"][\"source_test_label_accuracy\"], \"Target Test Label Accuracy:\", experiment[\"results\"][\"target_test_label_accuracy\"])\n",
    "print(\"Source Val Label Accuracy:\", experiment[\"results\"][\"source_val_label_accuracy\"], \"Target Val Label Accuracy:\", experiment[\"results\"][\"target_val_label_accuracy\"])"
   ]
  },
  {
   "cell_type": "code",
   "execution_count": 29,
   "id": "dacca602",
   "metadata": {
    "execution": {
     "iopub.execute_input": "2022-03-21T02:37:54.922561Z",
     "iopub.status.busy": "2022-03-21T02:37:54.922182Z",
     "iopub.status.idle": "2022-03-21T02:37:54.950059Z",
     "shell.execute_reply": "2022-03-21T02:37:54.950744Z"
    },
    "papermill": {
     "duration": 0.067764,
     "end_time": "2022-03-21T02:37:54.950963",
     "exception": false,
     "start_time": "2022-03-21T02:37:54.883199",
     "status": "completed"
    },
    "tags": [
     "experiment_json"
    ]
   },
   "outputs": [
    {
     "data": {
      "text/plain": [
       "'{\"experiment_name\": \"tl_1v2:cores-wisig\", \"parameters\": {\"experiment_name\": \"tl_1v2:cores-wisig\", \"device\": \"cuda\", \"lr\": 0.0001, \"n_shot\": 3, \"n_query\": 2, \"train_k_factor\": 3, \"val_k_factor\": 2, \"test_k_factor\": 2, \"torch_default_dtype\": \"torch.float32\", \"n_epoch\": 3, \"patience\": 3, \"criteria_for_best\": \"target_accuracy\", \"x_net\": [{\"class\": \"nnReshape\", \"kargs\": {\"shape\": [-1, 1, 2, 256]}}, {\"class\": \"Conv2d\", \"kargs\": {\"in_channels\": 1, \"out_channels\": 256, \"kernel_size\": [1, 7], \"bias\": false, \"padding\": [0, 3]}}, {\"class\": \"ReLU\", \"kargs\": {\"inplace\": true}}, {\"class\": \"BatchNorm2d\", \"kargs\": {\"num_features\": 256}}, {\"class\": \"Conv2d\", \"kargs\": {\"in_channels\": 256, \"out_channels\": 80, \"kernel_size\": [2, 7], \"bias\": true, \"padding\": [0, 3]}}, {\"class\": \"ReLU\", \"kargs\": {\"inplace\": true}}, {\"class\": \"BatchNorm2d\", \"kargs\": {\"num_features\": 80}}, {\"class\": \"Flatten\", \"kargs\": {}}, {\"class\": \"Linear\", \"kargs\": {\"in_features\": 20480, \"out_features\": 256}}, {\"class\": \"ReLU\", \"kargs\": {\"inplace\": true}}, {\"class\": \"BatchNorm1d\", \"kargs\": {\"num_features\": 256}}, {\"class\": \"Linear\", \"kargs\": {\"in_features\": 256, \"out_features\": 256}}], \"NUM_LOGS_PER_EPOCH\": 10, \"BEST_MODEL_PATH\": \"./best_model.pth\", \"n_way\": 58, \"datasets\": [{\"labels\": [\"1-10.\", \"1-11.\", \"1-15.\", \"1-16.\", \"1-17.\", \"1-18.\", \"1-19.\", \"10-4.\", \"10-7.\", \"11-1.\", \"11-14.\", \"11-17.\", \"11-20.\", \"11-7.\", \"13-20.\", \"13-8.\", \"14-10.\", \"14-11.\", \"14-14.\", \"14-7.\", \"15-1.\", \"15-20.\", \"16-1.\", \"16-16.\", \"17-10.\", \"17-11.\", \"17-2.\", \"19-1.\", \"19-16.\", \"19-19.\", \"19-20.\", \"19-3.\", \"2-10.\", \"2-11.\", \"2-17.\", \"2-18.\", \"2-20.\", \"2-3.\", \"2-4.\", \"2-5.\", \"2-6.\", \"2-7.\", \"2-8.\", \"3-13.\", \"3-18.\", \"3-3.\", \"4-1.\", \"4-10.\", \"4-11.\", \"4-19.\", \"5-5.\", \"6-15.\", \"7-10.\", \"7-14.\", \"8-18.\", \"8-20.\", \"8-3.\", \"8-8.\"], \"domains\": [1, 2, 3, 4, 5], \"num_examples_per_domain_per_label\": -1, \"pickle_path\": \"/root/csc500-main/datasets/cores.stratified_ds.2022A.pkl\", \"source_or_target_dataset\": \"source\", \"x_transforms\": [\"unit_mag\"], \"episode_transforms\": [], \"domain_prefix\": \"CORES_\"}, {\"labels\": [\"1-10\", \"1-12\", \"1-14\", \"1-16\", \"1-18\", \"1-19\", \"1-8\", \"10-11\", \"10-17\", \"10-4\", \"10-7\", \"11-1\", \"11-10\", \"11-19\", \"11-20\", \"11-4\", \"11-7\", \"12-19\", \"12-20\", \"12-7\", \"13-14\", \"13-18\", \"13-19\", \"13-20\", \"13-3\", \"13-7\", \"14-10\", \"14-11\", \"14-12\", \"14-13\", \"14-14\", \"14-19\", \"14-20\", \"14-7\", \"14-8\", \"14-9\", \"15-1\", \"15-19\", \"15-6\", \"16-1\", \"16-16\", \"16-19\", \"16-20\", \"17-10\", \"17-11\", \"18-1\", \"18-10\", \"18-11\", \"18-12\", \"18-13\", \"18-14\", \"18-15\", \"18-16\", \"18-17\", \"18-19\", \"18-2\", \"18-20\", \"18-4\", \"18-5\", \"18-7\", \"18-8\", \"18-9\", \"19-1\", \"19-10\", \"19-11\", \"19-12\", \"19-13\", \"19-14\", \"19-15\", \"19-19\", \"19-2\", \"19-20\", \"19-3\", \"19-4\", \"19-6\", \"19-7\", \"19-8\", \"19-9\", \"2-1\", \"2-13\", \"2-15\", \"2-3\", \"2-4\", \"2-5\", \"2-6\", \"2-7\", \"2-8\", \"20-1\", \"20-12\", \"20-14\", \"20-15\", \"20-16\", \"20-18\", \"20-19\", \"20-20\", \"20-3\", \"20-4\", \"20-5\", \"20-7\", \"20-8\", \"3-1\", \"3-13\", \"3-18\", \"3-2\", \"3-8\", \"4-1\", \"4-10\", \"4-11\", \"5-1\", \"5-5\", \"6-1\", \"6-15\", \"6-6\", \"7-10\", \"7-11\", \"7-12\", \"7-13\", \"7-14\", \"7-7\", \"7-8\", \"7-9\", \"8-1\", \"8-13\", \"8-14\", \"8-18\", \"8-20\", \"8-3\", \"8-8\", \"9-1\", \"9-7\"], \"domains\": [1, 2, 3, 4], \"num_examples_per_domain_per_label\": -1, \"pickle_path\": \"/root/csc500-main/datasets/wisig.node3-19.stratified_ds.2022A.pkl\", \"source_or_target_dataset\": \"target\", \"x_transforms\": [\"unit_mag\"], \"episode_transforms\": [], \"domain_prefix\": \"Wisig_\"}], \"dataset_seed\": 420, \"seed\": 420, \"x_shape\": [2, 256], \"domains_source\": [\"CORES_1\", \"CORES_2\", \"CORES_3\", \"CORES_4\", \"CORES_5\"], \"domains_target\": [\"Wisig_1\", \"Wisig_2\", \"Wisig_3\", \"Wisig_4\"]}, \"results\": {\"source_test_label_accuracy\": 0.9968965517241379, \"source_test_label_loss\": 0.02548620104789734, \"target_test_label_accuracy\": 0.7112702839756593, \"target_test_label_loss\": 1.7325595617294312, \"source_val_label_accuracy\": 0.9969468390804598, \"source_val_label_loss\": 0.023334821686148643, \"target_val_label_accuracy\": 0.7044719827586207, \"target_val_label_loss\": 1.8181581497192383, \"total_epochs_trained\": 3, \"total_experiment_time_secs\": 186.17420053482056, \"confusion\": {\"CORES_4\": {\"56\": {\"56\": 16}, \"35\": {\"35\": 16}, \"51\": {\"51\": 16}, \"21\": {\"21\": 16}, \"47\": {\"47\": 16}, \"40\": {\"40\": 16}, \"53\": {\"53\": 15, \"50\": 1}, \"22\": {\"22\": 16}, \"31\": {\"31\": 15, \"46\": 1}, \"6\": {\"6\": 16}, \"52\": {\"52\": 16}, \"30\": {\"30\": 16}, \"39\": {\"39\": 16}, \"7\": {\"7\": 16}, \"37\": {\"37\": 16}, \"44\": {\"44\": 16}, \"9\": {\"9\": 16}, \"42\": {\"42\": 16}, \"5\": {\"5\": 15, \"31\": 1}, \"13\": {\"13\": 16}, \"46\": {\"46\": 16}, \"16\": {\"16\": 16}, \"36\": {\"36\": 16}, \"26\": {\"26\": 16}, \"27\": {\"27\": 16}, \"4\": {\"4\": 16}, \"45\": {\"45\": 16}, \"19\": {\"19\": 16}, \"41\": {\"41\": 14, \"42\": 1, \"39\": 1}, \"49\": {\"49\": 16}, \"24\": {\"24\": 16}, \"15\": {\"15\": 16}, \"28\": {\"28\": 16}, \"10\": {\"10\": 16}, \"0\": {\"0\": 15, \"46\": 1}, \"3\": {\"3\": 16}, \"8\": {\"8\": 16}, \"20\": {\"20\": 16}, \"55\": {\"55\": 16}, \"32\": {\"32\": 16}, \"38\": {\"38\": 16}, \"54\": {\"54\": 16}, \"48\": {\"48\": 16}, \"33\": {\"33\": 16}, \"43\": {\"43\": 16}, \"23\": {\"23\": 16}, \"29\": {\"29\": 16}, \"12\": {\"12\": 16}, \"18\": {\"18\": 16}, \"25\": {\"25\": 16}, \"34\": {\"34\": 16}, \"11\": {\"11\": 16}, \"1\": {\"1\": 16}, \"57\": {\"57\": 16}, \"2\": {\"2\": 16}, \"14\": {\"14\": 16}, \"17\": {\"17\": 16}, \"50\": {\"50\": 15, \"3\": 1}}, \"CORES_5\": {\"55\": {\"55\": 20}, \"28\": {\"28\": 20}, \"21\": {\"21\": 20}, \"53\": {\"53\": 20}, \"2\": {\"2\": 20}, \"0\": {\"0\": 20}, \"7\": {\"7\": 20}, \"19\": {\"19\": 20}, \"25\": {\"25\": 20}, \"45\": {\"45\": 19, \"9\": 1}, \"57\": {\"57\": 20}, \"42\": {\"42\": 20}, \"5\": {\"5\": 20}, \"16\": {\"16\": 20}, \"26\": {\"26\": 20}, \"32\": {\"32\": 20}, \"15\": {\"15\": 20}, \"30\": {\"30\": 20}, \"3\": {\"3\": 20}, \"35\": {\"35\": 20}, \"14\": {\"14\": 20}, \"8\": {\"8\": 20}, \"56\": {\"56\": 20}, \"50\": {\"50\": 20}, \"31\": {\"31\": 20}, \"52\": {\"52\": 20}, \"1\": {\"1\": 20}, \"44\": {\"44\": 20}, \"39\": {\"39\": 20}, \"27\": {\"27\": 20}, \"17\": {\"17\": 20}, \"41\": {\"41\": 20}, \"40\": {\"40\": 20}, \"48\": {\"48\": 20}, \"22\": {\"22\": 20}, \"6\": {\"17\": 1, \"6\": 16, \"45\": 3}, \"11\": {\"11\": 20}, \"12\": {\"12\": 20}, \"49\": {\"49\": 20}, \"34\": {\"34\": 20}, \"37\": {\"37\": 20}, \"24\": {\"24\": 20}, \"33\": {\"33\": 20}, \"47\": {\"47\": 20}, \"23\": {\"23\": 20}, \"13\": {\"13\": 20}, \"29\": {\"29\": 20}, \"46\": {\"46\": 19, \"56\": 1}, \"38\": {\"38\": 20}, \"18\": {\"18\": 20}, \"9\": {\"9\": 20}, \"36\": {\"36\": 20}, \"51\": {\"51\": 20}, \"54\": {\"54\": 20}, \"43\": {\"43\": 20}, \"10\": {\"10\": 20}, \"4\": {\"4\": 20}, \"20\": {\"20\": 20}}, \"CORES_2\": {\"43\": {\"43\": 20}, \"52\": {\"52\": 20}, \"9\": {\"9\": 20}, \"49\": {\"49\": 20}, \"27\": {\"27\": 20}, \"4\": {\"4\": 20}, \"31\": {\"31\": 20}, \"47\": {\"47\": 20}, \"21\": {\"21\": 20}, \"0\": {\"0\": 20}, \"16\": {\"16\": 20}, \"51\": {\"51\": 20}, \"3\": {\"3\": 20}, \"50\": {\"50\": 20}, \"40\": {\"40\": 20}, \"55\": {\"55\": 20}, \"12\": {\"12\": 20}, \"45\": {\"45\": 20}, \"7\": {\"7\": 20}, \"28\": {\"28\": 20}, \"33\": {\"33\": 20}, \"38\": {\"38\": 20}, \"44\": {\"44\": 19, \"40\": 1}, \"15\": {\"15\": 20}, \"25\": {\"25\": 20}, \"11\": {\"11\": 20}, \"57\": {\"57\": 20}, \"34\": {\"34\": 20}, \"14\": {\"14\": 20}, \"32\": {\"32\": 20}, \"18\": {\"18\": 20}, \"42\": {\"42\": 20}, \"8\": {\"8\": 20}, \"48\": {\"48\": 20}, \"24\": {\"24\": 20}, \"30\": {\"30\": 20}, \"10\": {\"10\": 20}, \"36\": {\"36\": 20}, \"35\": {\"35\": 20}, \"56\": {\"56\": 20}, \"41\": {\"41\": 20}, \"53\": {\"53\": 20}, \"37\": {\"37\": 20}, \"20\": {\"20\": 20}, \"17\": {\"17\": 20}, \"13\": {\"13\": 20}, \"46\": {\"46\": 20}, \"22\": {\"22\": 20}, \"1\": {\"1\": 20}, \"6\": {\"6\": 20}, \"26\": {\"26\": 20}, \"23\": {\"23\": 20}, \"19\": {\"19\": 20}, \"29\": {\"29\": 20}, \"2\": {\"2\": 20}, \"54\": {\"54\": 20}, \"5\": {\"5\": 20}, \"39\": {\"39\": 20}}, \"CORES_1\": {\"42\": {\"42\": 24}, \"6\": {\"6\": 24}, \"25\": {\"25\": 24}, \"17\": {\"17\": 24}, \"23\": {\"23\": 24}, \"13\": {\"13\": 24}, \"34\": {\"34\": 24}, \"53\": {\"53\": 24}, \"27\": {\"27\": 24}, \"48\": {\"48\": 24}, \"51\": {\"51\": 24}, \"49\": {\"49\": 24}, \"3\": {\"3\": 23, \"37\": 1}, \"2\": {\"2\": 24}, \"28\": {\"28\": 24}, \"26\": {\"26\": 24}, \"30\": {\"30\": 24}, \"37\": {\"37\": 24}, \"35\": {\"35\": 24}, \"56\": {\"56\": 24}, \"31\": {\"31\": 24}, \"11\": {\"11\": 24}, \"45\": {\"45\": 24}, \"38\": {\"38\": 24}, \"54\": {\"54\": 24}, \"4\": {\"4\": 24}, \"57\": {\"57\": 24}, \"24\": {\"24\": 22, \"22\": 2}, \"33\": {\"33\": 24}, \"32\": {\"32\": 24}, \"55\": {\"55\": 24}, \"12\": {\"12\": 24}, \"8\": {\"8\": 24}, \"22\": {\"22\": 24}, \"29\": {\"29\": 24}, \"10\": {\"10\": 24}, \"18\": {\"18\": 24}, \"7\": {\"7\": 24}, \"52\": {\"52\": 24}, \"16\": {\"16\": 24}, \"36\": {\"36\": 24}, \"39\": {\"39\": 24}, \"44\": {\"44\": 24}, \"19\": {\"19\": 24}, \"1\": {\"1\": 24}, \"41\": {\"41\": 24}, \"46\": {\"46\": 24}, \"14\": {\"14\": 24}, \"0\": {\"0\": 24}, \"15\": {\"15\": 24}, \"47\": {\"47\": 24}, \"43\": {\"43\": 24}, \"50\": {\"50\": 24}, \"21\": {\"21\": 24}, \"20\": {\"20\": 24}, \"9\": {\"9\": 24}, \"5\": {\"5\": 24}, \"40\": {\"40\": 24}}, \"CORES_3\": {\"18\": {\"18\": 16}, \"29\": {\"29\": 16}, \"3\": {\"3\": 16}, \"39\": {\"39\": 16}, \"12\": {\"12\": 16}, \"33\": {\"33\": 16}, \"5\": {\"5\": 16}, \"9\": {\"9\": 16}, \"57\": {\"57\": 16}, \"30\": {\"30\": 16}, \"23\": {\"23\": 16}, \"40\": {\"40\": 16}, \"15\": {\"15\": 16}, \"16\": {\"16\": 16}, \"43\": {\"43\": 16}, \"13\": {\"13\": 16}, \"38\": {\"38\": 16}, \"56\": {\"56\": 16}, \"50\": {\"50\": 16}, \"7\": {\"7\": 16}, \"11\": {\"11\": 16}, \"41\": {\"41\": 16}, \"42\": {\"42\": 16}, \"14\": {\"14\": 16}, \"28\": {\"28\": 16}, \"1\": {\"1\": 16}, \"17\": {\"17\": 16}, \"35\": {\"35\": 16}, \"10\": {\"10\": 16}, \"52\": {\"52\": 16}, \"46\": {\"46\": 16}, \"19\": {\"19\": 16}, \"24\": {\"24\": 16}, \"54\": {\"54\": 16}, \"4\": {\"4\": 16}, \"21\": {\"21\": 16}, \"8\": {\"8\": 16}, \"31\": {\"31\": 16}, \"47\": {\"47\": 16}, \"26\": {\"26\": 16}, \"2\": {\"2\": 16}, \"51\": {\"51\": 16}, \"22\": {\"22\": 16}, \"49\": {\"49\": 16}, \"0\": {\"0\": 16}, \"37\": {\"37\": 16}, \"45\": {\"45\": 16}, \"6\": {\"6\": 16}, \"36\": {\"36\": 16}, \"20\": {\"20\": 16}, \"25\": {\"25\": 16}, \"53\": {\"53\": 16}, \"55\": {\"55\": 16}, \"32\": {\"32\": 16}, \"34\": {\"34\": 16}, \"27\": {\"27\": 16}, \"44\": {\"44\": 16}, \"48\": {\"48\": 16}}, \"Wisig_3\": {\"10\": {\"10\": 25, \"95\": 3, \"66\": 1, \"65\": 1, \"7\": 3, \"40\": 1, \"14\": 2}, \"120\": {\"120\": 20}, \"111\": {\"111\": 37, \"127\": 1, \"68\": 1, \"3\": 1, \"91\": 1, \"12\": 1}, \"54\": {\"54\": 16}, \"39\": {\"81\": 1, \"39\": 16, \"113\": 7, \"126\": 5, \"117\": 4, \"18\": 1, \"121\": 5, \"43\": 1, \"2\": 2, \"64\": 1, \"92\": 1}, \"77\": {\"77\": 16}, \"51\": {\"51\": 13, \"59\": 1, \"58\": 1, \"6\": 1}, \"85\": {\"85\": 32, \"49\": 2, \"8\": 2}, \"53\": {\"53\": 16, \"20\": 4}, \"29\": {\"29\": 26, \"60\": 2, \"90\": 2, \"114\": 1, \"44\": 1}, \"32\": {\"45\": 2, \"32\": 7, \"24\": 1, \"55\": 1, \"82\": 8, \"102\": 2, \"9\": 2, \"99\": 1, \"87\": 1, \"50\": 2, \"66\": 1, \"116\": 1, \"10\": 1, \"107\": 1, \"48\": 1}, \"37\": {\"37\": 13, \"125\": 1, \"95\": 2}, \"30\": {\"30\": 27, \"98\": 2, \"59\": 1, \"49\": 2, \"47\": 2, \"124\": 1, \"23\": 1, \"94\": 5, \"8\": 1, \"70\": 1, \"12\": 1}, \"116\": {\"116\": 13, \"13\": 2, \"90\": 2, \"17\": 1, \"82\": 2, \"87\": 2, \"102\": 2, \"43\": 1, \"92\": 2, \"122\": 1}, \"80\": {\"80\": 13, \"54\": 1, \"29\": 2}, \"13\": {\"13\": 8, \"21\": 2, \"26\": 2, \"45\": 3, \"61\": 1}, \"41\": {\"41\": 14, \"4\": 1, \"127\": 1}, \"95\": {\"95\": 30, \"7\": 2}, \"100\": {\"100\": 16}, \"45\": {\"45\": 16}, \"89\": {\"89\": 28}, \"76\": {\"76\": 16}, \"113\": {\"39\": 10, \"117\": 10, \"113\": 17, \"43\": 1}, \"81\": {\"81\": 29, \"18\": 1}, \"79\": {\"79\": 12}, \"33\": {\"33\": 35, \"116\": 1}, \"1\": {\"1\": 29, \"114\": 4, \"60\": 1}, \"5\": {\"1\": 1, \"5\": 35}, \"63\": {\"63\": 16}, \"47\": {\"47\": 9, \"81\": 2, \"124\": 1}, \"122\": {\"122\": 18, \"4\": 4, \"87\": 4, \"127\": 1, \"128\": 1, \"113\": 1, \"99\": 1, \"86\": 1, \"14\": 1}, \"21\": {\"21\": 39, \"70\": 2, \"39\": 1, \"71\": 2}, \"15\": {\"15\": 34, \"30\": 1, \"59\": 1, \"6\": 1, \"125\": 3, \"91\": 1, \"73\": 2, \"94\": 1}, \"50\": {\"50\": 16}, \"62\": {\"62\": 38}, \"56\": {\"41\": 3, \"56\": 9}, \"66\": {\"66\": 16}, \"52\": {\"8\": 1, \"52\": 14, \"124\": 1}, \"93\": {\"93\": 39, \"11\": 1, \"16\": 2, \"31\": 1, \"70\": 1, \"64\": 2}, \"128\": {\"128\": 14, \"87\": 3, \"77\": 3, \"103\": 3, \"5\": 1, \"3\": 3, \"107\": 1, \"71\": 1, \"28\": 1, \"114\": 1, \"99\": 1}, \"99\": {\"99\": 18, \"66\": 3, \"4\": 6, \"86\": 1, \"105\": 4, \"48\": 1, \"94\": 1}, \"110\": {\"110\": 24, \"1\": 3, \"129\": 13, \"60\": 2, \"19\": 2, \"102\": 1, \"122\": 1}, \"114\": {\"114\": 37, \"21\": 1, \"1\": 1, \"111\": 1, \"46\": 2, \"81\": 1, \"60\": 1}, \"90\": {\"90\": 35, \"31\": 1}, \"105\": {\"105\": 40, \"4\": 2}, \"115\": {\"115\": 15, \"82\": 1}, \"22\": {\"22\": 16}, \"61\": {\"61\": 16}, \"84\": {\"115\": 1, \"45\": 1, \"84\": 31, \"78\": 1}, \"48\": {\"48\": 2, \"79\": 2, \"67\": 1, \"26\": 4, \"55\": 1, \"116\": 3, \"35\": 1, \"7\": 2}, \"98\": {\"98\": 38, \"124\": 2, \"35\": 1, \"19\": 1, \"99\": 2}, \"106\": {\"106\": 39, \"125\": 2, \"30\": 1, \"12\": 2, \"73\": 1, \"94\": 1}, \"83\": {\"83\": 19, \"21\": 2, \"126\": 1, \"27\": 2}, \"8\": {\"8\": 22, \"108\": 1, \"124\": 5, \"85\": 1, \"70\": 2, \"73\": 2, \"93\": 1}, \"58\": {\"58\": 16}, \"70\": {\"70\": 15, \"47\": 1, \"31\": 2, \"21\": 2, \"96\": 1, \"88\": 2, \"60\": 1, \"78\": 1, \"124\": 4, \"85\": 2, \"16\": 1, \"93\": 1, \"8\": 3, \"43\": 1, \"11\": 1, \"5\": 2, \"71\": 1, \"64\": 1, \"110\": 1, \"30\": 1, \"19\": 1, \"108\": 1}, \"43\": {\"43\": 18, \"33\": 6, \"102\": 8, \"92\": 1, \"117\": 5, \"78\": 1, \"11\": 3, \"21\": 1, \"116\": 1, \"120\": 1, \"2\": 1, \"39\": 2, \"113\": 1, \"71\": 1}, \"20\": {\"20\": 15, \"49\": 1}, \"14\": {\"14\": 38, \"32\": 1, \"115\": 1}, \"46\": {\"46\": 15, \"19\": 1}, \"18\": {\"18\": 41, \"121\": 2, \"39\": 1}, \"38\": {\"38\": 14, \"76\": 1, \"109\": 1}, \"59\": {\"59\": 11, \"97\": 1}, \"35\": {\"35\": 9, \"0\": 1, \"10\": 1, \"83\": 1}, \"57\": {\"57\": 13, \"55\": 2, \"94\": 1, \"89\": 1, \"22\": 3}, \"102\": {\"102\": 39, \"82\": 3, \"13\": 1, \"43\": 1}, \"28\": {\"28\": 16}, \"6\": {\"6\": 14, \"75\": 3, \"51\": 2, \"34\": 3, \"72\": 7, \"111\": 3}, \"3\": {\"3\": 35, \"128\": 1, \"71\": 2, \"30\": 1, \"94\": 1, \"70\": 1, \"19\": 1}, \"88\": {\"108\": 7, \"88\": 13, \"112\": 2, \"42\": 4, \"20\": 2, \"85\": 2, \"17\": 1, \"93\": 2, \"94\": 2, \"21\": 3, \"49\": 1, \"96\": 2, \"92\": 1, \"70\": 2}, \"25\": {\"25\": 16}, \"60\": {\"28\": 1, \"73\": 1, \"60\": 12, \"122\": 1, \"29\": 2, \"129\": 1, \"114\": 1, \"110\": 2, \"44\": 1, \"79\": 1, \"31\": 2, \"124\": 1, \"8\": 1, \"20\": 1}, \"87\": {\"16\": 3, \"21\": 2, \"87\": 21, \"11\": 2, \"19\": 2, \"45\": 1, \"90\": 3, \"107\": 7, \"122\": 1, \"92\": 2, \"78\": 1, \"44\": 1}, \"19\": {\"3\": 5, \"73\": 1, \"128\": 1, \"46\": 1, \"110\": 4, \"129\": 8, \"19\": 9, \"114\": 1, \"124\": 1, \"121\": 1}, \"124\": {\"11\": 1, \"124\": 33, \"90\": 1, \"70\": 1, \"12\": 1, \"8\": 2, \"52\": 1}, \"0\": {\"0\": 28, \"101\": 4, \"35\": 1, \"127\": 1, \"6\": 1, \"4\": 1}, \"16\": {\"16\": 24, \"43\": 2, \"11\": 2, \"93\": 2}, \"40\": {\"40\": 42, \"32\": 1, \"21\": 1, \"105\": 2}, \"24\": {\"24\": 17, \"97\": 1, \"25\": 2, \"36\": 8, \"21\": 2, \"27\": 10, \"54\": 1, \"39\": 1}, \"49\": {\"59\": 1, \"15\": 1, \"88\": 2, \"20\": 1, \"53\": 4, \"49\": 6, \"42\": 1, \"8\": 1, \"30\": 1, \"112\": 2, \"70\": 1, \"75\": 1, \"47\": 2}, \"23\": {\"81\": 4, \"124\": 5, \"30\": 1, \"63\": 3, \"67\": 4, \"39\": 1, \"19\": 1, \"23\": 3, \"121\": 2, \"5\": 2, \"110\": 1, \"126\": 2, \"91\": 1, \"17\": 1, \"71\": 1}, \"108\": {\"108\": 18, \"85\": 2, \"8\": 2, \"88\": 4, \"42\": 7, \"70\": 3, \"49\": 4, \"112\": 2}, \"97\": {\"15\": 4, \"97\": 13, \"30\": 1, \"94\": 2}, \"103\": {\"103\": 16}, \"96\": {\"96\": 18, \"88\": 1, \"80\": 1}, \"73\": {\"59\": 2, \"73\": 21, \"12\": 1, \"49\": 1, \"94\": 2, \"42\": 2, \"43\": 1, \"109\": 1, \"8\": 4, \"106\": 1}, \"11\": {\"11\": 18, \"16\": 2, \"44\": 3, \"17\": 1, \"43\": 5, \"2\": 1, \"122\": 1, \"29\": 1}, \"55\": {\"55\": 15, \"9\": 1}, \"82\": {\"82\": 27, \"102\": 1}, \"86\": {\"86\": 20, \"16\": 1, \"4\": 7}, \"12\": {\"12\": 34, \"124\": 6, \"73\": 1, \"52\": 1}, \"64\": {\"64\": 20}, \"31\": {\"16\": 1, \"90\": 1, \"31\": 15, \"27\": 1, \"29\": 2}, \"127\": {\"127\": 34, \"120\": 1, \"128\": 1}, \"123\": {\"123\": 16}, \"4\": {\"4\": 31, \"86\": 3, \"127\": 1, \"43\": 1}, \"101\": {\"51\": 2, \"101\": 27, \"6\": 1, \"70\": 1, \"127\": 1, \"122\": 1, \"93\": 1}, \"121\": {\"121\": 13, \"18\": 4, \"78\": 2, \"39\": 2, \"26\": 3, \"63\": 2, \"81\": 2, \"113\": 2}, \"67\": {\"67\": 16}, \"92\": {\"92\": 27, \"126\": 1, \"90\": 2, \"43\": 2}, \"119\": {\"119\": 16}, \"9\": {\"9\": 25, \"40\": 1}, \"112\": {\"112\": 13, \"108\": 2, \"24\": 1}, \"2\": {\"18\": 3, \"121\": 2, \"2\": 5, \"93\": 3, \"26\": 8, \"96\": 2, \"13\": 2, \"64\": 2, \"31\": 1}, \"117\": {\"117\": 29, \"113\": 7, \"121\": 2}, \"125\": {\"125\": 32, \"52\": 1, \"15\": 1, \"121\": 1, \"59\": 1}, \"75\": {\"75\": 16}, \"104\": {\"104\": 16}, \"78\": {\"72\": 1, \"99\": 1, \"78\": 3, \"122\": 1, \"69\": 1, \"17\": 1, \"86\": 1, \"81\": 1, \"48\": 1, \"71\": 1, \"45\": 1, \"43\": 1, \"87\": 2}, \"68\": {\"68\": 16}, \"118\": {\"69\": 3, \"118\": 25, \"13\": 2, \"109\": 3, \"89\": 1}, \"72\": {\"72\": 24, \"34\": 1, \"77\": 1, \"91\": 2}, \"36\": {\"36\": 20, \"27\": 10, \"24\": 5, \"25\": 1}, \"26\": {\"26\": 41, \"121\": 1}, \"34\": {\"14\": 4, \"75\": 2, \"115\": 3, \"122\": 3, \"84\": 2, \"78\": 1, \"6\": 4, \"34\": 4, \"107\": 3, \"111\": 2, \"32\": 2}, \"69\": {\"69\": 32, \"13\": 2, \"70\": 1, \"89\": 1}, \"65\": {\"9\": 2, \"65\": 8, \"35\": 2}, \"109\": {\"109\": 28, \"69\": 2, \"116\": 1, \"89\": 2, \"76\": 1, \"118\": 2}, \"107\": {\"107\": 30, \"87\": 2}, \"7\": {\"7\": 36, \"95\": 2}, \"94\": {\"15\": 4, \"94\": 28, \"30\": 1, \"97\": 1, \"125\": 1, \"92\": 1, \"91\": 2}, \"27\": {\"27\": 15, \"36\": 13, \"83\": 2, \"15\": 1, \"24\": 5, \"112\": 2, \"54\": 1, \"108\": 2, \"88\": 1}, \"42\": {\"42\": 18, \"73\": 6, \"49\": 1, \"112\": 1, \"108\": 2}, \"91\": {\"21\": 1, \"36\": 1, \"91\": 15, \"118\": 1, \"12\": 1, \"71\": 1, \"99\": 1, \"72\": 1, \"62\": 1, \"128\": 1}, \"71\": {\"71\": 37, \"21\": 1, \"124\": 1, \"5\": 2, \"3\": 1, \"46\": 2, \"92\": 1, \"19\": 1}, \"126\": {\"126\": 21, \"81\": 1, \"39\": 1, \"18\": 1}, \"17\": {\"118\": 1, \"104\": 1, \"17\": 2, \"113\": 1, \"2\": 4, \"21\": 3, \"92\": 1, \"11\": 2, \"23\": 1}, \"74\": {\"74\": 14, \"57\": 2}, \"44\": {\"44\": 27, \"29\": 2, \"129\": 1}, \"129\": {\"129\": 14, \"80\": 4, \"29\": 2, \"110\": 4, \"16\": 1, \"114\": 1, \"31\": 1, \"93\": 2, \"20\": 1}}, \"Wisig_2\": {\"80\": {\"78\": 2, \"80\": 13, \"45\": 1}, \"85\": {\"85\": 31, \"47\": 1}, \"100\": {\"100\": 16}, \"129\": {\"129\": 27, \"53\": 1, \"119\": 1, \"19\": 2, \"73\": 1}, \"82\": {\"82\": 34, \"21\": 2}, \"112\": {\"129\": 5, \"108\": 2, \"53\": 1, \"12\": 1, \"71\": 1, \"112\": 4, \"49\": 1, \"98\": 1}, \"125\": {\"125\": 40, \"51\": 1, \"15\": 3, \"106\": 3, \"34\": 1}, \"89\": {\"89\": 28, \"92\": 3, \"121\": 1, \"61\": 1, \"118\": 1}, \"10\": {\"74\": 5, \"10\": 20, \"21\": 2, \"22\": 2, \"78\": 1, \"7\": 6, \"32\": 6, \"39\": 1, \"105\": 1, \"60\": 1, \"40\": 1}, \"63\": {\"63\": 20}, \"83\": {\"83\": 40}, \"28\": {\"28\": 15, \"38\": 1, \"43\": 4}, \"117\": {\"117\": 34, \"21\": 1, \"113\": 1, \"65\": 6}, \"49\": {\"49\": 10, \"85\": 3, \"114\": 1, \"98\": 1, \"129\": 1, \"8\": 1, \"52\": 1, \"11\": 1, \"128\": 1, \"46\": 1, \"39\": 1, \"73\": 1, \"15\": 1}, \"71\": {\"71\": 34, \"124\": 1, \"8\": 2, \"5\": 5}, \"62\": {\"62\": 37, \"68\": 1, \"105\": 3, \"92\": 1, \"50\": 1, \"24\": 1}, \"99\": {\"99\": 31, \"39\": 1}, \"108\": {\"108\": 33, \"11\": 1, \"24\": 1, \"49\": 3, \"42\": 5, \"126\": 1, \"44\": 1, \"112\": 1, \"98\": 1, \"94\": 1}, \"120\": {\"120\": 17, \"21\": 1, \"65\": 2}, \"9\": {\"9\": 26}, \"73\": {\"73\": 16, \"1\": 6, \"125\": 1, \"108\": 1, \"60\": 1, \"124\": 1, \"5\": 2}, \"7\": {\"17\": 2, \"7\": 33, \"88\": 1, \"32\": 1, \"94\": 1}, \"1\": {\"1\": 40, \"43\": 1, \"19\": 2, \"5\": 2, \"88\": 1, \"3\": 2}, \"123\": {\"123\": 16}, \"97\": {\"94\": 1, \"97\": 11, \"29\": 2, \"58\": 1, \"75\": 1, \"77\": 1, \"31\": 1, \"128\": 1, \"6\": 1}, \"114\": {\"114\": 42}, \"48\": {\"48\": 20}, \"115\": {\"115\": 12}, \"13\": {\"82\": 2, \"72\": 4, \"120\": 2, \"13\": 3, \"126\": 1, \"102\": 2, \"116\": 1, \"88\": 1}, \"66\": {\"66\": 16, \"64\": 2, \"61\": 2}, \"53\": {\"53\": 15, \"8\": 1}, \"40\": {\"40\": 35, \"17\": 1, \"95\": 3, \"61\": 1, \"105\": 1, \"78\": 1}, \"33\": {\"33\": 51, \"4\": 1}, \"27\": {\"27\": 24, \"24\": 6, \"88\": 1, \"25\": 1, \"21\": 1, \"36\": 9}, \"101\": {\"101\": 28, \"128\": 1, \"0\": 3}, \"95\": {\"95\": 26, \"40\": 2, \"20\": 1, \"104\": 2, \"105\": 5}, \"34\": {\"34\": 5, \"49\": 1, \"41\": 4, \"115\": 1, \"86\": 2, \"91\": 2, \"59\": 2, \"110\": 1, \"29\": 1, \"32\": 4, \"14\": 3, \"35\": 1, \"55\": 1, \"56\": 1, \"6\": 1, \"98\": 1, \"111\": 1}, \"105\": {\"105\": 38}, \"122\": {\"3\": 1, \"123\": 1, \"122\": 14, \"71\": 3, \"52\": 1, \"8\": 6, \"127\": 2, \"124\": 1, \"60\": 1, \"4\": 2, \"41\": 1, \"29\": 2, \"1\": 1, \"110\": 3, \"43\": 1}, \"127\": {\"127\": 40, \"69\": 1, \"29\": 1, \"12\": 1, \"122\": 1}, \"0\": {\"101\": 9, \"0\": 31, \"34\": 1, \"30\": 1, \"58\": 1, \"77\": 1, \"113\": 1, \"88\": 1}, \"74\": {\"74\": 12, \"95\": 2, \"50\": 2}, \"116\": {\"82\": 6, \"116\": 15, \"87\": 1, \"43\": 1, \"124\": 2, \"21\": 1, \"3\": 1, \"45\": 1}, \"78\": {\"40\": 4, \"78\": 9, \"86\": 1, \"10\": 1, \"107\": 5, \"109\": 7, \"32\": 1, \"126\": 1, \"14\": 1, \"21\": 2, \"80\": 1, \"17\": 1, \"74\": 1, \"38\": 2, \"70\": 2, \"4\": 1, \"95\": 2, \"118\": 1, \"39\": 1}, \"68\": {\"68\": 13, \"110\": 1, \"21\": 1, \"34\": 1}, \"18\": {\"18\": 26, \"39\": 1, \"21\": 1, \"81\": 4, \"90\": 1, \"26\": 1, \"121\": 2}, \"15\": {\"15\": 33, \"9\": 4, \"6\": 3, \"94\": 3, \"125\": 1, \"21\": 2}, \"26\": {\"18\": 1, \"117\": 1, \"26\": 33, \"2\": 3, \"21\": 1, \"39\": 1}, \"50\": {\"15\": 1, \"50\": 12, \"55\": 2, \"97\": 1}, \"92\": {\"92\": 22, \"21\": 1, \"118\": 1, \"76\": 1, \"89\": 2, \"39\": 1}, \"56\": {\"56\": 8, \"4\": 4}, \"75\": {\"75\": 16}, \"37\": {\"37\": 14, \"66\": 1, \"78\": 1}, \"3\": {\"85\": 1, \"3\": 28, \"5\": 3, \"19\": 3, \"122\": 1, \"1\": 2, \"8\": 2}, \"118\": {\"80\": 2, \"62\": 4, \"109\": 2, \"118\": 31, \"66\": 1, \"67\": 2, \"24\": 1, \"113\": 1, \"89\": 1, \"10\": 1, \"31\": 4, \"110\": 1, \"69\": 1}, \"11\": {\"129\": 2, \"11\": 24, \"85\": 3, \"53\": 1, \"71\": 1, \"44\": 4, \"98\": 3, \"121\": 1, \"59\": 1, \"73\": 1, \"21\": 1, \"5\": 2}, \"17\": {\"17\": 6, \"40\": 3, \"13\": 1, \"95\": 1, \"86\": 1, \"4\": 4}, \"94\": {\"94\": 29, \"24\": 3, \"21\": 1, \"106\": 3, \"108\": 2, \"15\": 6, \"125\": 2, \"51\": 1, \"39\": 1}, \"54\": {\"56\": 2, \"7\": 2, \"54\": 15, \"78\": 1}, \"109\": {\"45\": 1, \"109\": 19, \"84\": 4, \"31\": 5, \"81\": 1, \"99\": 1, \"88\": 1, \"82\": 5, \"110\": 2, \"118\": 5, \"39\": 1, \"21\": 1, \"107\": 1, \"102\": 3, \"90\": 2}, \"128\": {\"0\": 5, \"85\": 6, \"128\": 5, \"114\": 1, \"30\": 1, \"60\": 1, \"101\": 2, \"77\": 1, \"73\": 2}, \"22\": {\"10\": 2, \"22\": 17, \"49\": 1}, \"57\": {\"57\": 20}, \"103\": {\"127\": 4, \"103\": 10, \"79\": 2}, \"70\": {\"70\": 8, \"45\": 1, \"32\": 2, \"47\": 1, \"21\": 1, \"110\": 3, \"78\": 3, \"33\": 2, \"88\": 6, \"43\": 5, \"96\": 1, \"39\": 2, \"107\": 1, \"109\": 3, \"118\": 1, \"60\": 1, \"3\": 1}, \"72\": {\"72\": 21, \"81\": 3, \"16\": 1, \"116\": 1, \"102\": 1, \"82\": 1}, \"77\": {\"77\": 15, \"127\": 1}, \"2\": {\"20\": 1, \"72\": 1, \"48\": 1, \"100\": 1, \"2\": 13, \"81\": 1, \"121\": 3, \"26\": 2, \"87\": 2, \"93\": 2, \"117\": 2, \"88\": 1, \"18\": 1, \"83\": 1}, \"20\": {\"20\": 14, \"88\": 1, \"72\": 1}, \"51\": {\"6\": 4, \"58\": 4, \"51\": 5, \"97\": 4, \"125\": 2, \"75\": 1}, \"58\": {\"58\": 14, \"97\": 2, \"51\": 2, \"15\": 1, \"75\": 1}, \"52\": {\"52\": 17, \"9\": 1, \"128\": 1, \"77\": 1}, \"106\": {\"106\": 21, \"42\": 1, \"98\": 1, \"15\": 3, \"94\": 1, \"125\": 1}, \"5\": {\"5\": 29, \"3\": 3, \"71\": 6, \"87\": 1, \"124\": 1}, \"8\": {\"8\": 27, \"85\": 1, \"45\": 1, \"21\": 1, \"122\": 2, \"124\": 7, \"60\": 2, \"73\": 1}, \"6\": {\"6\": 24, \"58\": 2, \"97\": 3, \"15\": 2, \"75\": 1}, \"44\": {\"44\": 36}, \"41\": {\"41\": 17, \"66\": 1, \"23\": 1, \"122\": 1}, \"110\": {\"4\": 3, \"110\": 22, \"32\": 1, \"107\": 1, \"38\": 1, \"122\": 5, \"21\": 2, \"78\": 1, \"43\": 1, \"3\": 3}, \"16\": {\"16\": 30, \"119\": 1, \"93\": 4, \"90\": 2, \"96\": 3, \"21\": 2, \"109\": 1, \"87\": 1}, \"45\": {\"45\": 11, \"82\": 2, \"84\": 1, \"108\": 1, \"37\": 1}, \"107\": {\"4\": 11, \"86\": 5, \"107\": 19, \"24\": 2, \"32\": 1, \"110\": 2, \"78\": 2, \"126\": 1, \"56\": 1, \"39\": 1, \"108\": 1, \"36\": 1, \"40\": 1}, \"126\": {\"126\": 27, \"108\": 1, \"42\": 1, \"3\": 1, \"44\": 3, \"60\": 1, \"121\": 1, \"83\": 1}, \"87\": {\"1\": 3, \"83\": 1, \"84\": 1, \"33\": 6, \"96\": 3, \"58\": 1, \"87\": 10, \"16\": 1, \"21\": 2, \"93\": 1, \"39\": 2, \"88\": 3, \"116\": 1, \"23\": 1}, \"19\": {\"19\": 15, \"70\": 1, \"32\": 1, \"71\": 1, \"43\": 1, \"122\": 1, \"129\": 7, \"1\": 1}, \"84\": {\"84\": 35, \"33\": 2, \"21\": 3, \"43\": 1, \"36\": 1}, \"98\": {\"98\": 48, \"48\": 1, \"125\": 1}, \"4\": {\"4\": 32, \"110\": 2, \"17\": 2, \"54\": 2, \"126\": 1, \"78\": 2, \"107\": 2, \"21\": 2, \"86\": 1}, \"111\": {\"111\": 38, \"77\": 1, \"127\": 1}, \"36\": {\"36\": 26, \"20\": 1, \"51\": 1, \"113\": 1, \"27\": 6, \"25\": 2, \"21\": 2, \"94\": 2, \"24\": 3}, \"91\": {\"34\": 2, \"120\": 1, \"91\": 13, \"41\": 1, \"111\": 2, \"59\": 2, \"4\": 2, \"127\": 2, \"12\": 3}, \"39\": {\"81\": 5, \"72\": 7, \"18\": 1, \"39\": 10, \"21\": 2, \"102\": 7, \"109\": 3, \"90\": 3, \"121\": 1, \"88\": 1, \"82\": 4, \"113\": 2, \"118\": 1, \"69\": 1}, \"21\": {\"21\": 36, \"20\": 2, \"13\": 1, \"88\": 1}, \"76\": {\"76\": 13, \"61\": 1, \"92\": 1, \"118\": 1}, \"12\": {\"12\": 25, \"88\": 2, \"128\": 1, \"29\": 2, \"124\": 1, \"71\": 1, \"111\": 2, \"8\": 1, \"34\": 2, \"127\": 1, \"91\": 1, \"5\": 1}, \"119\": {\"119\": 17, \"93\": 1, \"44\": 1, \"36\": 1}, \"102\": {\"102\": 34}, \"113\": {\"113\": 29, \"117\": 2, \"65\": 2, \"78\": 1, \"24\": 1, \"109\": 1}, \"46\": {\"46\": 16}, \"88\": {\"119\": 1, \"100\": 3, \"88\": 18, \"11\": 1, \"13\": 2, \"60\": 3, \"44\": 1, \"16\": 2, \"93\": 5, \"39\": 3, \"90\": 1, \"83\": 4, \"96\": 1, \"87\": 2, \"73\": 1}, \"24\": {\"36\": 6, \"24\": 11, \"125\": 1, \"9\": 1, \"49\": 1, \"94\": 5, \"27\": 4, \"15\": 3, \"126\": 1, \"87\": 1, \"58\": 1, \"108\": 3, \"42\": 1, \"21\": 1}, \"31\": {\"31\": 18, \"118\": 1, \"92\": 1}, \"81\": {\"81\": 23, \"39\": 1}, \"30\": {\"30\": 24, \"6\": 2, \"97\": 1, \"68\": 1, \"35\": 1, \"51\": 1, \"127\": 2, \"29\": 1, \"52\": 1, \"110\": 1, \"34\": 1}, \"55\": {\"55\": 12, \"62\": 4}, \"86\": {\"86\": 32}, \"43\": {\"43\": 19, \"87\": 1, \"70\": 7, \"78\": 3, \"16\": 1, \"113\": 1, \"82\": 1, \"33\": 1, \"38\": 2, \"107\": 1, \"118\": 1}, \"64\": {\"92\": 1, \"64\": 15}, \"59\": {\"59\": 7, \"88\": 1, \"24\": 1, \"21\": 2, \"87\": 1, \"41\": 1, \"111\": 2, \"94\": 1}, \"29\": {\"29\": 25, \"30\": 1, \"23\": 1, \"34\": 1, \"12\": 1, \"41\": 2, \"127\": 1}, \"32\": {\"32\": 9, \"10\": 3, \"122\": 3, \"7\": 3, \"74\": 1, \"43\": 2, \"105\": 4, \"14\": 6, \"35\": 1, \"110\": 3, \"70\": 1}, \"23\": {\"99\": 5, \"23\": 11, \"57\": 1, \"127\": 3, \"122\": 4, \"34\": 1, \"113\": 4, \"94\": 1, \"52\": 2, \"8\": 1, \"21\": 1, \"65\": 1, \"110\": 1}, \"14\": {\"32\": 2, \"14\": 31, \"38\": 1, \"110\": 1, \"78\": 1, \"107\": 2}, \"38\": {\"38\": 16}, \"96\": {\"96\": 18, \"88\": 2}, \"93\": {\"93\": 32, \"16\": 3, \"87\": 2, \"83\": 1, \"96\": 2, \"88\": 1, \"1\": 1}, \"60\": {\"60\": 9, \"32\": 1, \"83\": 6, \"43\": 1, \"128\": 1, \"107\": 1, \"88\": 1, \"110\": 2, \"124\": 1, \"119\": 1, \"73\": 2, \"78\": 1, \"23\": 1}, \"69\": {\"69\": 23, \"89\": 1, \"117\": 1, \"31\": 2, \"21\": 1}, \"47\": {\"129\": 2, \"73\": 1, \"47\": 8, \"21\": 1}, \"104\": {\"104\": 9, \"95\": 4, \"58\": 1, \"105\": 2, \"24\": 1, \"7\": 1, \"40\": 2}, \"25\": {\"25\": 15, \"9\": 1}, \"35\": {\"35\": 9, \"109\": 1, \"68\": 2}, \"79\": {\"79\": 16}, \"42\": {\"53\": 3, \"42\": 6, \"44\": 2, \"21\": 1, \"126\": 3, \"85\": 1, \"108\": 8, \"36\": 1, \"112\": 1, \"59\": 1, \"88\": 1}, \"121\": {\"121\": 20, \"120\": 2, \"117\": 5, \"113\": 2, \"42\": 1, \"65\": 3, \"26\": 1, \"2\": 2}, \"90\": {\"90\": 30, \"96\": 1, \"87\": 2, \"2\": 1}, \"124\": {\"114\": 1, \"124\": 20, \"8\": 5, \"71\": 1, \"42\": 1, \"13\": 1, \"85\": 1, \"5\": 1, \"122\": 1}, \"65\": {\"65\": 17, \"113\": 1, \"117\": 1, \"18\": 1}, \"61\": {\"61\": 12, \"42\": 1, \"40\": 1, \"24\": 1, \"78\": 1, \"126\": 1, \"20\": 1, \"37\": 2}, \"67\": {\"67\": 16}}, \"Wisig_1\": {\"30\": {\"30\": 12, \"69\": 1, \"5\": 1, \"6\": 2, \"3\": 2, \"52\": 3, \"27\": 1, \"128\": 1, \"70\": 1, \"101\": 1, \"44\": 1}, \"75\": {\"75\": 16}, \"70\": {\"70\": 15, \"76\": 1, \"60\": 1, \"124\": 7, \"109\": 4, \"21\": 2, \"128\": 4, \"20\": 2, \"29\": 3, \"83\": 1, \"3\": 2, \"44\": 1, \"49\": 1, \"9\": 1, \"108\": 1, \"31\": 1, \"72\": 1}, \"80\": {\"80\": 11, \"34\": 1, \"119\": 1, \"43\": 2, \"81\": 1}, \"116\": {\"61\": 1, \"11\": 3, \"90\": 4, \"116\": 18, \"27\": 1, \"102\": 2, \"15\": 1}, \"50\": {\"50\": 16}, \"0\": {\"0\": 21, \"35\": 2, \"85\": 10, \"39\": 1}, \"86\": {\"86\": 22, \"98\": 9, \"83\": 1, \"27\": 1, \"46\": 1, \"36\": 1, \"37\": 1}, \"69\": {\"69\": 20, \"50\": 2, \"65\": 2, \"102\": 4}, \"101\": {\"101\": 41, \"106\": 1}, \"17\": {\"17\": 12, \"107\": 2, \"41\": 1, \"54\": 1}, \"45\": {\"21\": 1, \"66\": 1, \"82\": 1, \"39\": 1, \"45\": 2, \"20\": 1, \"129\": 1, \"115\": 2, \"121\": 1, \"96\": 1}, \"106\": {\"106\": 27, \"23\": 1, \"91\": 2}, \"102\": {\"102\": 32, \"121\": 1, \"22\": 1, \"21\": 1, \"81\": 1, \"33\": 4}, \"128\": {\"101\": 1, \"115\": 1, \"47\": 2, \"82\": 2, \"128\": 8, \"29\": 3, \"25\": 1, \"2\": 2, \"1\": 1, \"42\": 1, \"114\": 1, \"72\": 1}, \"14\": {\"14\": 38, \"28\": 2}, \"28\": {\"28\": 20}, \"34\": {\"86\": 4, \"34\": 4, \"28\": 3, \"59\": 1, \"89\": 2, \"46\": 2, \"14\": 2, \"98\": 6, \"7\": 2, \"51\": 1, \"87\": 1, \"43\": 2, \"93\": 1, \"84\": 1}, \"49\": {\"30\": 1, \"111\": 5, \"49\": 3, \"31\": 2, \"71\": 2, \"20\": 1, \"128\": 1, \"103\": 2, \"9\": 2, \"124\": 1}, \"74\": {\"74\": 16}, \"79\": {\"79\": 11, \"100\": 1}, \"82\": {\"82\": 36}, \"61\": {\"61\": 12}, \"111\": {\"111\": 37, \"71\": 2, \"6\": 2, \"30\": 1}, \"19\": {\"19\": 16, \"82\": 4, \"64\": 2, \"70\": 2, \"42\": 1, \"128\": 1, \"129\": 2}, \"110\": {\"110\": 22, \"58\": 2, \"32\": 3, \"4\": 2, \"107\": 4, \"75\": 1, \"127\": 1, \"105\": 1}, \"108\": {\"108\": 22, \"109\": 3, \"89\": 2, \"39\": 1, \"9\": 2, \"44\": 1, \"47\": 1, \"70\": 2, \"121\": 1, \"73\": 1}, \"97\": {\"27\": 4, \"88\": 2, \"24\": 5, \"97\": 9}, \"11\": {\"82\": 1, \"11\": 21, \"33\": 2, \"60\": 2, \"121\": 1, \"113\": 1, \"90\": 1, \"87\": 1, \"21\": 1, \"114\": 1}, \"27\": {\"88\": 5, \"27\": 13, \"36\": 2, \"24\": 4, \"103\": 1, \"15\": 5, \"108\": 1, \"125\": 1, \"97\": 2}, \"67\": {\"67\": 12, \"50\": 3, \"126\": 1}, \"120\": {\"120\": 20}, \"83\": {\"77\": 1, \"70\": 1, \"83\": 18, \"21\": 3, \"84\": 1}, \"39\": {\"13\": 6, \"39\": 33, \"11\": 1, \"117\": 2, \"121\": 1, \"18\": 1}, \"109\": {\"109\": 25, \"82\": 1, \"18\": 1, \"126\": 1, \"21\": 1, \"45\": 1, \"2\": 2, \"96\": 2, \"108\": 1, \"42\": 1}, \"2\": {\"11\": 7, \"2\": 17, \"18\": 2, \"3\": 1, \"45\": 2, \"82\": 1, \"109\": 1, \"60\": 1}, \"85\": {\"85\": 18, \"92\": 2, \"0\": 6}, \"66\": {\"66\": 16}, \"35\": {\"35\": 8, \"34\": 1, \"48\": 3}, \"105\": {\"105\": 29, \"40\": 8, \"93\": 1}, \"23\": {\"110\": 2, \"115\": 1, \"25\": 8, \"1\": 3, \"23\": 2, \"104\": 1, \"32\": 3, \"58\": 1, \"113\": 1, \"93\": 1, \"42\": 1}, \"47\": {\"47\": 12}, \"56\": {\"56\": 10, \"75\": 1, \"37\": 1}, \"88\": {\"97\": 3, \"88\": 13, \"36\": 8, \"24\": 4, \"108\": 1, \"27\": 3, \"9\": 1, \"94\": 1}, \"91\": {\"91\": 16, \"68\": 2, \"106\": 4, \"86\": 1, \"71\": 1, \"23\": 1, \"112\": 1, \"6\": 1, \"111\": 1}, \"112\": {\"112\": 16}, \"115\": {\"115\": 12}, \"7\": {\"7\": 39, \"14\": 1, \"65\": 1, \"84\": 1}, \"13\": {\"13\": 12, \"39\": 3, \"117\": 1}, \"29\": {\"29\": 27, \"5\": 1}, \"68\": {\"68\": 16}, \"81\": {\"81\": 28}, \"72\": {\"72\": 32}, \"55\": {\"55\": 12}, \"77\": {\"77\": 16}, \"124\": {\"124\": 25, \"115\": 1, \"70\": 1, \"1\": 1, \"73\": 1, \"89\": 1, \"19\": 2, \"31\": 1, \"23\": 1}, \"18\": {\"18\": 30, \"39\": 4, \"20\": 2}, \"21\": {\"66\": 1, \"21\": 11, \"23\": 1, \"90\": 1, \"8\": 1, \"69\": 2, \"127\": 2, \"39\": 1, \"111\": 1, \"70\": 3, \"83\": 1, \"93\": 1, \"71\": 1, \"45\": 3, \"84\": 1, \"20\": 1, \"102\": 1, \"60\": 1, \"65\": 1, \"44\": 1, \"6\": 1, \"16\": 1}, \"16\": {\"16\": 19, \"117\": 6, \"26\": 3}, \"119\": {\"119\": 15, \"25\": 1}, \"3\": {\"3\": 22, \"20\": 1, \"45\": 2, \"11\": 2, \"94\": 1, \"82\": 2, \"115\": 2, \"129\": 2}, \"36\": {\"36\": 32, \"24\": 1, \"113\": 1, \"88\": 2}, \"95\": {\"109\": 1, \"95\": 25, \"21\": 1, \"117\": 2, \"102\": 1, \"39\": 1, \"26\": 1}, \"43\": {\"43\": 14, \"76\": 1, \"78\": 1, \"122\": 5, \"81\": 3, \"65\": 1, \"4\": 2, \"87\": 2, \"8\": 1, \"83\": 1, \"28\": 1}, \"92\": {\"92\": 28}, \"107\": {\"107\": 17, \"93\": 2, \"21\": 1, \"4\": 2}, \"129\": {\"5\": 4, \"129\": 12, \"19\": 2, \"109\": 2, \"44\": 1, \"100\": 1, \"29\": 1, \"72\": 3, \"18\": 1, \"2\": 1}, \"78\": {\"78\": 2, \"43\": 4, \"105\": 2, \"81\": 2, \"69\": 1, \"102\": 1, \"28\": 1, \"80\": 1, \"41\": 1, \"40\": 1}, \"48\": {\"57\": 2, \"48\": 10}, \"76\": {\"120\": 2, \"76\": 12, \"62\": 2}, \"57\": {\"57\": 12}, \"5\": {\"5\": 35, \"29\": 2, \"106\": 2, \"16\": 1}, \"53\": {\"53\": 20}, \"87\": {\"105\": 2, \"87\": 18, \"8\": 5, \"34\": 1, \"21\": 1, \"43\": 1, \"93\": 3, \"17\": 2, \"84\": 1}, \"98\": {\"98\": 29, \"34\": 1, \"86\": 2}, \"33\": {\"33\": 40}, \"31\": {\"31\": 14, \"39\": 1, \"45\": 1}, \"60\": {\"119\": 5, \"100\": 1, \"84\": 2, \"14\": 3, \"93\": 1, \"43\": 1, \"99\": 1, \"21\": 1, \"2\": 1}, \"1\": {\"1\": 28, \"124\": 1, \"128\": 3}, \"46\": {\"53\": 4, \"124\": 1, \"54\": 1, \"46\": 4, \"21\": 1, \"52\": 1}, \"100\": {\"100\": 13, \"99\": 1, \"79\": 2}, \"24\": {\"24\": 25, \"27\": 2, \"97\": 2, \"36\": 2, \"88\": 5, \"21\": 1, \"108\": 1}, \"51\": {\"51\": 11, \"112\": 2, \"6\": 2, \"30\": 1}, \"54\": {\"114\": 1, \"54\": 14, \"6\": 1}, \"114\": {\"114\": 31, \"83\": 1, \"8\": 1, \"124\": 1}, \"6\": {\"30\": 7, \"51\": 4, \"34\": 1, \"6\": 8, \"94\": 4, \"52\": 2, \"98\": 2, \"71\": 2, \"68\": 1, \"49\": 1}, \"15\": {\"94\": 5, \"15\": 17, \"59\": 1, \"27\": 4, \"6\": 1, \"24\": 1, \"71\": 1}, \"89\": {\"86\": 1, \"89\": 30, \"9\": 1, \"46\": 1, \"124\": 1, \"31\": 1, \"53\": 1}, \"93\": {\"93\": 12, \"84\": 1, \"87\": 3, \"4\": 6, \"14\": 1, \"34\": 2, \"107\": 3, \"7\": 3, \"43\": 1, \"90\": 1, \"17\": 2, \"105\": 1}, \"127\": {\"127\": 25, \"91\": 3, \"21\": 1, \"110\": 1, \"111\": 1, \"68\": 1}, \"71\": {\"6\": 7, \"71\": 18, \"112\": 2, \"11\": 1, \"121\": 1, \"111\": 3, \"100\": 1, \"52\": 1}, \"32\": {\"32\": 29, \"110\": 1, \"56\": 2}, \"63\": {\"63\": 16}, \"118\": {\"118\": 40}, \"12\": {\"12\": 26, \"111\": 2, \"5\": 1, \"71\": 2, \"126\": 1}, \"90\": {\"90\": 27, \"66\": 2, \"39\": 1}, \"104\": {\"104\": 16}, \"122\": {\"122\": 19, \"81\": 3, \"43\": 5, \"113\": 1, \"80\": 3, \"105\": 1}, \"64\": {\"64\": 16}, \"73\": {\"73\": 18, \"32\": 1, \"56\": 1}, \"58\": {\"32\": 2, \"58\": 8, \"53\": 1, \"110\": 1}, \"117\": {\"117\": 32, \"39\": 3, \"13\": 1}, \"26\": {\"26\": 33, \"21\": 1}, \"40\": {\"40\": 28, \"105\": 1, \"41\": 1}, \"84\": {\"84\": 41, \"8\": 1}, \"44\": {\"44\": 31, \"70\": 2, \"124\": 1}, \"94\": {\"126\": 1, \"94\": 18, \"15\": 7, \"5\": 1, \"52\": 1}, \"126\": {\"126\": 16, \"96\": 2, \"109\": 2}, \"20\": {\"20\": 12, \"66\": 1, \"64\": 1, \"82\": 1, \"94\": 1}, \"125\": {\"125\": 27, \"51\": 1, \"53\": 1, \"59\": 1, \"94\": 1, \"71\": 1}, \"41\": {\"41\": 16}, \"37\": {\"37\": 16}, \"42\": {\"100\": 2, \"42\": 6, \"8\": 2, \"109\": 7, \"5\": 1, \"34\": 2, \"25\": 1, \"2\": 2, \"129\": 2, \"83\": 1}, \"59\": {\"59\": 10, \"16\": 1, \"125\": 1}, \"25\": {\"25\": 16}, \"103\": {\"103\": 11, \"53\": 1, \"9\": 3, \"89\": 1}, \"4\": {\"4\": 27, \"93\": 1, \"107\": 2}, \"22\": {\"22\": 13, \"122\": 1, \"8\": 1, \"117\": 1}, \"113\": {\"113\": 20, \"123\": 2, \"95\": 1, \"16\": 1}, \"123\": {\"123\": 16}, \"96\": {\"96\": 15, \"104\": 4, \"2\": 1}, \"8\": {\"8\": 36, \"22\": 1, \"42\": 1, \"34\": 1, \"66\": 1}, \"10\": {\"10\": 23, \"121\": 1, \"122\": 1, \"85\": 4, \"74\": 1, \"92\": 1, \"0\": 4, \"70\": 1}, \"9\": {\"9\": 29, \"123\": 1, \"108\": 1, \"89\": 1}, \"99\": {\"99\": 22, \"100\": 2}, \"121\": {\"16\": 2, \"121\": 17, \"95\": 4, \"13\": 1, \"117\": 7, \"59\": 1}, \"52\": {\"52\": 13, \"30\": 1, \"71\": 1, \"101\": 1, \"109\": 1, \"6\": 1}, \"62\": {\"62\": 24}, \"65\": {\"95\": 1, \"122\": 4, \"62\": 2, \"117\": 1, \"16\": 2, \"43\": 2}, \"38\": {\"38\": 15, \"120\": 1}}, \"Wisig_4\": {\"124\": {\"8\": 2, \"124\": 29, \"114\": 1, \"129\": 1, \"88\": 2, \"1\": 1, \"52\": 1, \"128\": 2, \"100\": 1, \"70\": 1, \"71\": 3}, \"106\": {\"106\": 34, \"23\": 1, \"9\": 1, \"129\": 1, \"18\": 1, \"12\": 4, \"21\": 1, \"8\": 1}, \"89\": {\"107\": 4, \"89\": 21, \"14\": 3, \"7\": 1, \"22\": 1, \"21\": 1, \"40\": 1}, \"68\": {\"68\": 13, \"21\": 1, \"12\": 1, \"91\": 1}, \"123\": {\"123\": 9, \"97\": 1, \"126\": 2, \"63\": 4}, \"16\": {\"16\": 37, \"109\": 2, \"110\": 1, \"84\": 3, \"21\": 3}, \"65\": {\"32\": 1, \"65\": 11}, \"23\": {\"95\": 1, \"23\": 1, \"124\": 1, \"34\": 1, \"127\": 1, \"60\": 1, \"123\": 3, \"97\": 1, \"29\": 1, \"78\": 1, \"21\": 1, \"91\": 1, \"8\": 2}, \"1\": {\"128\": 3, \"71\": 6, \"124\": 2, \"19\": 1, \"3\": 1, \"114\": 3, \"1\": 21, \"72\": 1, \"29\": 1, \"43\": 1, \"78\": 1, \"108\": 1}, \"87\": {\"87\": 15, \"72\": 2, \"122\": 4, \"105\": 8, \"43\": 4, \"66\": 1, \"107\": 3, \"40\": 1, \"110\": 1, \"32\": 1, \"37\": 1, \"45\": 1, \"120\": 1, \"115\": 1}, \"40\": {\"40\": 36, \"107\": 6, \"120\": 2}, \"107\": {\"107\": 39, \"40\": 3, \"87\": 7, \"115\": 1}, \"2\": {\"65\": 2, \"2\": 9, \"18\": 1, \"108\": 1, \"93\": 4, \"81\": 2, \"78\": 1, \"57\": 1, \"26\": 2, \"44\": 1}, \"56\": {\"56\": 12}, \"109\": {\"109\": 20, \"16\": 4, \"118\": 8, \"31\": 2, \"40\": 1, \"62\": 2, \"122\": 2, \"69\": 4, \"117\": 1, \"45\": 1, \"39\": 2, \"14\": 1}, \"74\": {\"23\": 1, \"74\": 11, \"38\": 1, \"20\": 1, \"119\": 1, \"28\": 1}, \"83\": {\"83\": 22, \"42\": 1, \"78\": 1, \"112\": 2, \"11\": 1, \"5\": 1}, \"50\": {\"50\": 13, \"28\": 2, \"127\": 1}, \"53\": {\"53\": 12, \"21\": 1, \"8\": 1, \"70\": 2}, \"4\": {\"4\": 37, \"95\": 3, \"21\": 2, \"86\": 2, \"127\": 2}, \"84\": {\"102\": 5, \"84\": 41, \"116\": 1, \"117\": 1, \"21\": 2, \"2\": 1, \"43\": 1}, \"128\": {\"128\": 13, \"60\": 1, \"71\": 3, \"1\": 2, \"19\": 1, \"100\": 2, \"115\": 1, \"3\": 1}, \"46\": {\"46\": 13, \"31\": 1, \"76\": 1, \"129\": 2, \"3\": 1, \"17\": 1, \"114\": 1}, \"36\": {\"10\": 1, \"36\": 23, \"25\": 1, \"24\": 11, \"97\": 3, \"54\": 1, \"85\": 1, \"94\": 1, \"78\": 1, \"21\": 1}, \"8\": {\"8\": 30, \"70\": 2, \"52\": 3, \"108\": 1, \"124\": 7, \"49\": 1, \"111\": 4, \"119\": 1, \"88\": 1, \"85\": 1, \"78\": 1}, \"115\": {\"115\": 10, \"107\": 3, \"32\": 1, \"33\": 2}, \"95\": {\"4\": 4, \"95\": 22, \"21\": 1, \"127\": 1, \"29\": 1, \"86\": 2, \"108\": 1}, \"127\": {\"23\": 1, \"127\": 33, \"4\": 3, \"29\": 1, \"39\": 1, \"7\": 1, \"95\": 1, \"126\": 1}, \"32\": {\"22\": 4, \"89\": 7, \"32\": 14, \"120\": 2, \"7\": 1}, \"108\": {\"108\": 13, \"5\": 6, \"49\": 1, \"114\": 1, \"126\": 2, \"8\": 1, \"88\": 3, \"73\": 2, \"24\": 1, \"70\": 1, \"20\": 2, \"78\": 1, \"124\": 1, \"93\": 2, \"129\": 1, \"23\": 1, \"4\": 1, \"121\": 1, \"19\": 1}, \"59\": {\"59\": 2, \"106\": 2, \"94\": 2, \"125\": 4, \"25\": 1, \"12\": 1}, \"76\": {\"76\": 14, \"32\": 2}, \"15\": {\"15\": 28, \"51\": 1, \"9\": 1, \"25\": 1, \"36\": 1, \"78\": 1, \"6\": 3, \"27\": 1, \"10\": 1, \"8\": 1, \"111\": 1}, \"103\": {\"52\": 5, \"103\": 5, \"91\": 3, \"8\": 1, \"117\": 1, \"77\": 1}, \"37\": {\"37\": 14, \"105\": 1, \"34\": 1}, \"22\": {\"22\": 14, \"14\": 2}, \"91\": {\"103\": 4, \"91\": 14, \"68\": 1, \"34\": 1, \"52\": 1, \"12\": 2, \"111\": 1}, \"28\": {\"28\": 20}, \"55\": {\"55\": 16}, \"63\": {\"63\": 13, \"48\": 1, \"121\": 1, \"39\": 1}, \"60\": {\"74\": 4, \"8\": 4, \"108\": 1, \"60\": 5, \"124\": 1, \"23\": 1, \"44\": 3, \"100\": 2, \"10\": 1, \"11\": 1, \"72\": 4, \"20\": 1, \"19\": 3, \"119\": 1}, \"111\": {\"111\": 40, \"12\": 4}, \"120\": {\"120\": 16, \"107\": 1, \"87\": 3}, \"80\": {\"80\": 16}, \"110\": {\"20\": 1, \"110\": 24, \"116\": 1, \"74\": 1, \"72\": 2, \"90\": 1, \"100\": 2, \"21\": 1, \"43\": 3, \"19\": 2, \"78\": 1, \"46\": 1, \"66\": 2}, \"102\": {\"102\": 38, \"45\": 2, \"43\": 1, \"122\": 1}, \"51\": {\"125\": 3, \"47\": 1, \"98\": 3, \"58\": 1, \"21\": 2, \"51\": 1, \"97\": 1, \"30\": 1, \"12\": 1, \"10\": 2}, \"85\": {\"85\": 26, \"52\": 1, \"98\": 1}, \"71\": {\"71\": 24, \"128\": 1, \"1\": 2, \"114\": 5, \"100\": 1, \"108\": 1, \"124\": 1, \"21\": 1}, \"20\": {\"80\": 5, \"20\": 8, \"108\": 2, \"74\": 1}, \"10\": {\"10\": 10, \"59\": 1, \"88\": 4, \"93\": 1, \"58\": 1, \"108\": 1, \"75\": 2, \"25\": 1, \"15\": 7, \"6\": 2, \"94\": 6, \"70\": 2, \"23\": 2, \"8\": 1, \"27\": 3}, \"52\": {\"52\": 15, \"33\": 1, \"111\": 2, \"17\": 1, \"8\": 1}, \"45\": {\"45\": 15, \"116\": 1}, \"75\": {\"75\": 16}, \"98\": {\"98\": 32, \"12\": 1, \"124\": 1, \"10\": 2, \"47\": 1, \"125\": 1}, \"13\": {\"13\": 14, \"74\": 2}, \"125\": {\"125\": 39, \"47\": 1, \"6\": 1, \"94\": 1}, \"54\": {\"54\": 15, \"94\": 1}, \"49\": {\"5\": 2, \"53\": 2, \"49\": 7, \"20\": 1, \"83\": 1, \"79\": 3, \"15\": 2, \"8\": 4, \"111\": 1, \"11\": 7, \"27\": 1, \"124\": 1}, \"18\": {\"18\": 38}, \"30\": {\"30\": 20, \"47\": 1, \"108\": 1, \"58\": 1, \"33\": 1, \"94\": 1, \"8\": 2, \"6\": 3, \"10\": 6, \"15\": 4, \"111\": 1, \"68\": 2, \"85\": 1, \"53\": 1, \"78\": 1}, \"72\": {\"72\": 31, \"3\": 1}, \"117\": {\"117\": 31, \"81\": 7, \"121\": 2}, \"38\": {\"38\": 14, \"125\": 1, \"94\": 1}, \"17\": {\"17\": 15, \"104\": 1, \"82\": 2, \"40\": 2}, \"118\": {\"118\": 21, \"31\": 3, \"32\": 1, \"76\": 3, \"109\": 3, \"62\": 7, \"21\": 1, \"78\": 1, \"69\": 6}, \"9\": {\"9\": 28}, \"101\": {\"101\": 32, \"7\": 1, \"0\": 9}, \"112\": {\"112\": 13, \"70\": 2, \"39\": 1}, \"12\": {\"12\": 28, \"114\": 1, \"100\": 1, \"30\": 1, \"111\": 2, \"106\": 2, \"89\": 1, \"91\": 1, \"118\": 1, \"6\": 1, \"62\": 1}, \"92\": {\"92\": 20, \"16\": 4, \"118\": 3, \"64\": 1}, \"3\": {\"21\": 1, \"3\": 30, \"71\": 1, \"60\": 1, \"46\": 1, \"114\": 1, \"124\": 1}, \"33\": {\"33\": 37, \"21\": 1, \"115\": 1, \"102\": 2, \"99\": 1}, \"114\": {\"114\": 33, \"124\": 2, \"71\": 5}, \"126\": {\"126\": 23, \"39\": 5, \"121\": 2, \"23\": 1, \"21\": 1, \"63\": 3, \"74\": 1, \"113\": 6}, \"47\": {\"47\": 6, \"9\": 1, \"75\": 2, \"112\": 1, \"77\": 1, \"58\": 1}, \"19\": {\"19\": 10, \"108\": 2, \"124\": 3, \"73\": 2, \"100\": 2, \"1\": 1, \"8\": 1, \"3\": 2, \"20\": 1, \"93\": 2, \"128\": 1, \"5\": 1}, \"66\": {\"74\": 2, \"66\": 8, \"43\": 2, \"110\": 1, \"90\": 1, \"78\": 2}, \"93\": {\"66\": 1, \"93\": 26, \"108\": 4, \"73\": 2, \"20\": 1, \"70\": 1, \"88\": 1}, \"113\": {\"39\": 4, \"113\": 29, \"117\": 3, \"126\": 5, \"21\": 1}, \"5\": {\"5\": 40, \"73\": 1, \"108\": 1}, \"116\": {\"38\": 2, \"116\": 15, \"45\": 4, \"102\": 3, \"43\": 3, \"50\": 1}, \"21\": {\"21\": 33, \"110\": 1, \"122\": 1, \"118\": 1}, \"70\": {\"49\": 8, \"42\": 3, \"70\": 5, \"8\": 4, \"119\": 2, \"114\": 1, \"106\": 1, \"129\": 3, \"93\": 2, \"27\": 2, \"88\": 2, \"98\": 1, \"124\": 1, \"87\": 1, \"108\": 4, \"26\": 1, \"3\": 1}, \"39\": {\"39\": 16, \"63\": 3, \"121\": 1, \"113\": 5, \"21\": 3, \"117\": 2, \"126\": 1, \"88\": 1, \"16\": 1, \"81\": 3}, \"42\": {\"112\": 1, \"53\": 2, \"59\": 2, \"42\": 10, \"9\": 1, \"129\": 1, \"106\": 3, \"12\": 1, \"88\": 2, \"70\": 1, \"49\": 2, \"8\": 2}, \"100\": {\"100\": 12, \"129\": 1, \"119\": 3, \"19\": 3, \"22\": 1}, \"62\": {\"22\": 2, \"62\": 28, \"96\": 1, \"118\": 9, \"23\": 1, \"109\": 1, \"78\": 1, \"34\": 1}, \"96\": {\"96\": 15, \"90\": 1, \"116\": 1, \"45\": 2, \"58\": 1}, \"26\": {\"26\": 34, \"18\": 5, \"35\": 2, \"39\": 1}, \"14\": {\"14\": 40, \"120\": 1, \"107\": 2, \"32\": 1, \"89\": 1, \"122\": 1}, \"104\": {\"17\": 1, \"104\": 15}, \"67\": {\"118\": 1, \"123\": 2, \"63\": 1, \"31\": 1, \"113\": 2, \"32\": 2, \"69\": 4, \"76\": 2, \"48\": 1}, \"90\": {\"90\": 34, \"102\": 1, \"26\": 1}, \"41\": {\"41\": 8, \"91\": 3, \"8\": 2, \"12\": 1, \"47\": 1, \"39\": 1}, \"97\": {\"118\": 2, \"24\": 1, \"36\": 2, \"97\": 3, \"27\": 1, \"15\": 1, \"25\": 1, \"108\": 1, \"59\": 2, \"22\": 1, \"94\": 2, \"51\": 1, \"54\": 1, \"9\": 1}, \"58\": {\"58\": 13, \"47\": 2, \"96\": 1}, \"105\": {\"105\": 28, \"107\": 4, \"87\": 5, \"40\": 1, \"35\": 1, \"89\": 1}, \"94\": {\"51\": 1, \"15\": 4, \"94\": 19, \"25\": 2, \"36\": 3, \"10\": 3, \"125\": 3, \"54\": 1, \"27\": 1, \"98\": 1}, \"64\": {\"64\": 13, \"92\": 1, \"69\": 2}, \"31\": {\"31\": 10, \"118\": 3, \"76\": 1, \"21\": 1, \"78\": 1}, \"122\": {\"122\": 17, \"43\": 6, \"78\": 1, \"14\": 4, \"87\": 1, \"21\": 3, \"107\": 1, \"45\": 3, \"96\": 2, \"102\": 1, \"93\": 1, \"99\": 1, \"109\": 1}, \"44\": {\"44\": 33, \"113\": 2, \"18\": 1}, \"81\": {\"81\": 31, \"117\": 2, \"18\": 1, \"21\": 1, \"39\": 1}, \"86\": {\"86\": 25, \"4\": 2, \"127\": 1}, \"29\": {\"29\": 31, \"127\": 1}, \"7\": {\"7\": 28, \"4\": 2, \"87\": 1, \"105\": 3, \"21\": 1, \"122\": 1, \"89\": 2, \"107\": 1, \"26\": 1}, \"35\": {\"35\": 10, \"26\": 1, \"61\": 1}, \"57\": {\"57\": 16}, \"0\": {\"0\": 19, \"101\": 12, \"96\": 1, \"7\": 2, \"87\": 1, \"89\": 2, \"21\": 1, \"86\": 1, \"110\": 1}, \"24\": {\"59\": 2, \"10\": 3, \"36\": 9, \"24\": 10, \"89\": 1, \"27\": 2, \"78\": 1, \"97\": 1, \"94\": 3, \"70\": 2}, \"78\": {\"96\": 1, \"116\": 1, \"110\": 1, \"23\": 1, \"87\": 4, \"39\": 2, \"78\": 5, \"117\": 1, \"30\": 1, \"33\": 2, \"81\": 1, \"122\": 1, \"21\": 4, \"43\": 1, \"72\": 1, \"128\": 1, \"4\": 1, \"93\": 1, \"71\": 1, \"126\": 2, \"108\": 1, \"34\": 1, \"121\": 1}, \"77\": {\"58\": 1, \"77\": 11}, \"88\": {\"88\": 11, \"33\": 2, \"78\": 4, \"114\": 1, \"27\": 3, \"70\": 7, \"43\": 1, \"39\": 1, \"93\": 2, \"126\": 1, \"108\": 1, \"42\": 3, \"49\": 1, \"8\": 2, \"3\": 1, \"113\": 1}, \"121\": {\"113\": 5, \"121\": 10, \"81\": 4, \"57\": 2, \"2\": 2, \"39\": 1, \"67\": 2, \"117\": 1, \"126\": 1}, \"82\": {\"82\": 24, \"40\": 1, \"3\": 1, \"32\": 2}, \"129\": {\"73\": 4, \"49\": 1, \"19\": 4, \"119\": 1, \"129\": 12, \"3\": 2, \"20\": 1, \"70\": 1, \"8\": 1, \"108\": 1}, \"43\": {\"120\": 1, \"110\": 5, \"33\": 8, \"90\": 1, \"115\": 3, \"87\": 4, \"99\": 2, \"78\": 7, \"43\": 6, \"122\": 6, \"20\": 1, \"69\": 1, \"66\": 1}, \"73\": {\"73\": 21, \"5\": 3}, \"25\": {\"25\": 16}, \"61\": {\"61\": 10, \"35\": 2, \"26\": 2, \"65\": 1, \"81\": 1}, \"79\": {\"79\": 14, \"88\": 1, \"21\": 1}, \"119\": {\"119\": 12, \"70\": 1, \"100\": 3}, \"34\": {\"87\": 3, \"34\": 8, \"75\": 2, \"125\": 2, \"107\": 1, \"7\": 4, \"6\": 2, \"1\": 1, \"4\": 2, \"37\": 1, \"78\": 1, \"71\": 1, \"12\": 1, \"111\": 1}, \"27\": {\"70\": 3, \"27\": 13, \"6\": 1, \"98\": 1, \"53\": 1, \"59\": 1, \"9\": 3, \"42\": 3, \"16\": 1, \"21\": 1, \"108\": 1, \"8\": 1}, \"11\": {\"20\": 1, \"11\": 28, \"108\": 4, \"88\": 2, \"79\": 1, \"60\": 1, \"49\": 1, \"5\": 2, \"70\": 2}, \"48\": {\"48\": 13, \"80\": 2, \"22\": 1}, \"6\": {\"12\": 3, \"10\": 2, \"6\": 10, \"91\": 1, \"15\": 2, \"125\": 1, \"111\": 3, \"47\": 1, \"75\": 1}, \"99\": {\"99\": 28, \"122\": 1, \"102\": 6, \"43\": 1}, \"69\": {\"69\": 29, \"16\": 3, \"118\": 2, \"21\": 1, \"32\": 2, \"31\": 1}}}, \"per_domain_accuracy\": {\"CORES_4\": {\"accuracy\": 0.9924568965517241, \"source?\": true}, \"CORES_5\": {\"accuracy\": 0.9948275862068966, \"source?\": true}, \"CORES_2\": {\"accuracy\": 0.9991379310344828, \"source?\": true}, \"CORES_1\": {\"accuracy\": 0.9978448275862069, \"source?\": true}, \"CORES_3\": {\"accuracy\": 1.0, \"source?\": true}, \"Wisig_3\": {\"accuracy\": 0.7357219827586207, \"source?\": false}, \"Wisig_2\": {\"accuracy\": 0.6949797160243407, \"source?\": false}, \"Wisig_1\": {\"accuracy\": 0.7395957193816884, \"source?\": false}, \"Wisig_4\": {\"accuracy\": 0.6530825496342738, \"source?\": false}}}, \"history\": {\"epoch_indices\": [1, 2, 3], \"train_label_loss\": [0.3012855053319466, 0.012491209634634112, 0.015326752682785109], \"source_val_label_loss\": [0.023334821686148643, 0.019304323941469193, 0.008402373641729355], \"target_val_label_loss\": [1.8181581497192383, 3.3010942935943604, 4.323505878448486], \"source_val_acc_label\": [0.9969468390804598, 0.994073275862069, 0.9976652298850575], \"target_val_acc_label\": [0.7044719827586207, 0.6508620689655172, 0.6652074353448276]}, \"dataset_metrics\": {\"source\": {\"train\": {\"n_unique_x\": 75802, \"n_unique_y\": 58, \"n_batch/episode\": 351}, \"val\": {\"n_unique_x\": 11821, \"n_unique_y\": 58, \"n_batch/episode\": 48}, \"test\": {\"n_unique_x\": 12320, \"n_unique_y\": 58, \"n_batch/episode\": 50}}, \"target\": {\"train\": {\"n_unique_x\": 139768, \"n_unique_y\": 130, \"n_batch/episode\": 903}, \"val\": {\"n_unique_x\": 25930, \"n_unique_y\": 130, \"n_batch/episode\": 128}, \"test\": {\"n_unique_x\": 27403, \"n_unique_y\": 130, \"n_batch/episode\": 136}}}}'"
      ]
     },
     "execution_count": 29,
     "metadata": {},
     "output_type": "execute_result"
    }
   ],
   "source": [
    "json.dumps(experiment)"
   ]
  }
 ],
 "metadata": {
  "celltoolbar": "Tags",
  "kernelspec": {
   "display_name": "Python 3 (ipykernel)",
   "language": "python",
   "name": "python3"
  },
  "language_info": {
   "codemirror_mode": {
    "name": "ipython",
    "version": 3
   },
   "file_extension": ".py",
   "mimetype": "text/x-python",
   "name": "python",
   "nbconvert_exporter": "python",
   "pygments_lexer": "ipython3",
   "version": "3.8.12"
  },
  "papermill": {
   "default_parameters": {},
   "duration": 257.510378,
   "end_time": "2022-03-21T02:37:57.600309",
   "environment_variables": {},
   "exception": null,
   "input_path": "/root/csc500-main/csc500-notebooks/templates/tl_ptn_template.ipynb",
   "output_path": "trial.ipynb",
   "parameters": {
    "parameters": {
     "BEST_MODEL_PATH": "./best_model.pth",
     "NUM_LOGS_PER_EPOCH": 10,
     "criteria_for_best": "target_accuracy",
     "dataset_seed": 420,
     "datasets": [
      {
       "domain_prefix": "CORES_",
       "domains": [
        1,
        2,
        3,
        4,
        5
       ],
       "episode_transforms": [],
       "labels": [
        "1-10.",
        "1-11.",
        "1-15.",
        "1-16.",
        "1-17.",
        "1-18.",
        "1-19.",
        "10-4.",
        "10-7.",
        "11-1.",
        "11-14.",
        "11-17.",
        "11-20.",
        "11-7.",
        "13-20.",
        "13-8.",
        "14-10.",
        "14-11.",
        "14-14.",
        "14-7.",
        "15-1.",
        "15-20.",
        "16-1.",
        "16-16.",
        "17-10.",
        "17-11.",
        "17-2.",
        "19-1.",
        "19-16.",
        "19-19.",
        "19-20.",
        "19-3.",
        "2-10.",
        "2-11.",
        "2-17.",
        "2-18.",
        "2-20.",
        "2-3.",
        "2-4.",
        "2-5.",
        "2-6.",
        "2-7.",
        "2-8.",
        "3-13.",
        "3-18.",
        "3-3.",
        "4-1.",
        "4-10.",
        "4-11.",
        "4-19.",
        "5-5.",
        "6-15.",
        "7-10.",
        "7-14.",
        "8-18.",
        "8-20.",
        "8-3.",
        "8-8."
       ],
       "num_examples_per_domain_per_label": -1,
       "pickle_path": "/root/csc500-main/datasets/cores.stratified_ds.2022A.pkl",
       "source_or_target_dataset": "source",
       "x_transforms": [
        "unit_mag"
       ]
      },
      {
       "domain_prefix": "Wisig_",
       "domains": [
        1,
        2,
        3,
        4
       ],
       "episode_transforms": [],
       "labels": [
        "1-10",
        "1-12",
        "1-14",
        "1-16",
        "1-18",
        "1-19",
        "1-8",
        "10-11",
        "10-17",
        "10-4",
        "10-7",
        "11-1",
        "11-10",
        "11-19",
        "11-20",
        "11-4",
        "11-7",
        "12-19",
        "12-20",
        "12-7",
        "13-14",
        "13-18",
        "13-19",
        "13-20",
        "13-3",
        "13-7",
        "14-10",
        "14-11",
        "14-12",
        "14-13",
        "14-14",
        "14-19",
        "14-20",
        "14-7",
        "14-8",
        "14-9",
        "15-1",
        "15-19",
        "15-6",
        "16-1",
        "16-16",
        "16-19",
        "16-20",
        "17-10",
        "17-11",
        "18-1",
        "18-10",
        "18-11",
        "18-12",
        "18-13",
        "18-14",
        "18-15",
        "18-16",
        "18-17",
        "18-19",
        "18-2",
        "18-20",
        "18-4",
        "18-5",
        "18-7",
        "18-8",
        "18-9",
        "19-1",
        "19-10",
        "19-11",
        "19-12",
        "19-13",
        "19-14",
        "19-15",
        "19-19",
        "19-2",
        "19-20",
        "19-3",
        "19-4",
        "19-6",
        "19-7",
        "19-8",
        "19-9",
        "2-1",
        "2-13",
        "2-15",
        "2-3",
        "2-4",
        "2-5",
        "2-6",
        "2-7",
        "2-8",
        "20-1",
        "20-12",
        "20-14",
        "20-15",
        "20-16",
        "20-18",
        "20-19",
        "20-20",
        "20-3",
        "20-4",
        "20-5",
        "20-7",
        "20-8",
        "3-1",
        "3-13",
        "3-18",
        "3-2",
        "3-8",
        "4-1",
        "4-10",
        "4-11",
        "5-1",
        "5-5",
        "6-1",
        "6-15",
        "6-6",
        "7-10",
        "7-11",
        "7-12",
        "7-13",
        "7-14",
        "7-7",
        "7-8",
        "7-9",
        "8-1",
        "8-13",
        "8-14",
        "8-18",
        "8-20",
        "8-3",
        "8-8",
        "9-1",
        "9-7"
       ],
       "num_examples_per_domain_per_label": -1,
       "pickle_path": "/root/csc500-main/datasets/wisig.node3-19.stratified_ds.2022A.pkl",
       "source_or_target_dataset": "target",
       "x_transforms": [
        "unit_mag"
       ]
      }
     ],
     "device": "cuda",
     "experiment_name": "tl_1v2:cores-wisig",
     "lr": 0.0001,
     "n_epoch": 3,
     "n_query": 2,
     "n_shot": 3,
     "n_way": 58,
     "patience": 3,
     "seed": 420,
     "test_k_factor": 2,
     "torch_default_dtype": "torch.float32",
     "train_k_factor": 3,
     "val_k_factor": 2,
     "x_net": [
      {
       "class": "nnReshape",
       "kargs": {
        "shape": [
         -1,
         1,
         2,
         256
        ]
       }
      },
      {
       "class": "Conv2d",
       "kargs": {
        "bias": false,
        "in_channels": 1,
        "kernel_size": [
         1,
         7
        ],
        "out_channels": 256,
        "padding": [
         0,
         3
        ]
       }
      },
      {
       "class": "ReLU",
       "kargs": {
        "inplace": true
       }
      },
      {
       "class": "BatchNorm2d",
       "kargs": {
        "num_features": 256
       }
      },
      {
       "class": "Conv2d",
       "kargs": {
        "bias": true,
        "in_channels": 256,
        "kernel_size": [
         2,
         7
        ],
        "out_channels": 80,
        "padding": [
         0,
         3
        ]
       }
      },
      {
       "class": "ReLU",
       "kargs": {
        "inplace": true
       }
      },
      {
       "class": "BatchNorm2d",
       "kargs": {
        "num_features": 80
       }
      },
      {
       "class": "Flatten",
       "kargs": {}
      },
      {
       "class": "Linear",
       "kargs": {
        "in_features": 20480,
        "out_features": 256
       }
      },
      {
       "class": "ReLU",
       "kargs": {
        "inplace": true
       }
      },
      {
       "class": "BatchNorm1d",
       "kargs": {
        "num_features": 256
       }
      },
      {
       "class": "Linear",
       "kargs": {
        "in_features": 256,
        "out_features": 256
       }
      }
     ]
    }
   },
   "start_time": "2022-03-21T02:33:40.089931",
   "version": "2.3.4"
  }
 },
 "nbformat": 4,
 "nbformat_minor": 5
}