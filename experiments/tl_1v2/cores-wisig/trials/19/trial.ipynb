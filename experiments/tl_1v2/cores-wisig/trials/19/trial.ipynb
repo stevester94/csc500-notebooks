{
 "cells": [
  {
   "cell_type": "markdown",
   "id": "9fea5f46",
   "metadata": {
    "papermill": {
     "duration": 0.030515,
     "end_time": "2022-03-21T03:32:56.082349",
     "exception": false,
     "start_time": "2022-03-21T03:32:56.051834",
     "status": "completed"
    },
    "tags": []
   },
   "source": [
    "# Transfer Learning Template"
   ]
  },
  {
   "cell_type": "code",
   "execution_count": 1,
   "id": "0902182a",
   "metadata": {
    "execution": {
     "iopub.execute_input": "2022-03-21T03:32:56.144188Z",
     "iopub.status.busy": "2022-03-21T03:32:56.143332Z",
     "iopub.status.idle": "2022-03-21T03:32:58.027762Z",
     "shell.execute_reply": "2022-03-21T03:32:58.028080Z"
    },
    "papermill": {
     "duration": 1.922171,
     "end_time": "2022-03-21T03:32:58.028276",
     "exception": false,
     "start_time": "2022-03-21T03:32:56.106105",
     "status": "completed"
    },
    "tags": []
   },
   "outputs": [],
   "source": [
    "%load_ext autoreload\n",
    "%autoreload 2\n",
    "%matplotlib inline\n",
    "\n",
    "    \n",
    "import os, json, sys, time, random\n",
    "import numpy as np\n",
    "import torch\n",
    "from torch.optim import Adam\n",
    "from  easydict import EasyDict\n",
    "import matplotlib.pyplot as plt\n",
    "\n",
    "from steves_models.steves_ptn import Steves_Prototypical_Network\n",
    "\n",
    "from steves_utils.lazy_iterable_wrapper import Lazy_Iterable_Wrapper\n",
    "from steves_utils.iterable_aggregator import Iterable_Aggregator\n",
    "from steves_utils.ptn_train_eval_test_jig import  PTN_Train_Eval_Test_Jig\n",
    "from steves_utils.torch_sequential_builder import build_sequential\n",
    "from steves_utils.torch_utils import get_dataset_metrics, ptn_confusion_by_domain_over_dataloader\n",
    "from steves_utils.utils_v2 import (per_domain_accuracy_from_confusion, get_datasets_base_path)\n",
    "from steves_utils.PTN.utils import independent_accuracy_assesment\n",
    "\n",
    "from torch.utils.data import DataLoader\n",
    "\n",
    "from steves_utils.stratified_dataset.episodic_accessor import Episodic_Accessor_Factory\n",
    "\n",
    "from steves_utils.ptn_do_report import (\n",
    "    get_loss_curve,\n",
    "    get_results_table,\n",
    "    get_parameters_table,\n",
    "    get_domain_accuracies,\n",
    ")\n",
    "\n",
    "from steves_utils.transforms import get_chained_transform"
   ]
  },
  {
   "cell_type": "markdown",
   "id": "41c840b4",
   "metadata": {
    "papermill": {
     "duration": 0.019515,
     "end_time": "2022-03-21T03:32:58.068008",
     "exception": false,
     "start_time": "2022-03-21T03:32:58.048493",
     "status": "completed"
    },
    "tags": []
   },
   "source": [
    "# Allowed Parameters\n",
    "These are allowed parameters, not defaults\n",
    "Each of these values need to be present in the injected parameters (the notebook will raise an exception if they are not present)\n",
    "\n",
    "Papermill uses the cell tag \"parameters\" to inject the real parameters below this cell.\n",
    "Enable tags to see what I mean"
   ]
  },
  {
   "cell_type": "code",
   "execution_count": 2,
   "id": "fd44eb83",
   "metadata": {
    "execution": {
     "iopub.execute_input": "2022-03-21T03:32:58.112366Z",
     "iopub.status.busy": "2022-03-21T03:32:58.111985Z",
     "iopub.status.idle": "2022-03-21T03:32:58.132697Z",
     "shell.execute_reply": "2022-03-21T03:32:58.132328Z"
    },
    "papermill": {
     "duration": 0.045221,
     "end_time": "2022-03-21T03:32:58.132767",
     "exception": false,
     "start_time": "2022-03-21T03:32:58.087546",
     "status": "completed"
    },
    "tags": []
   },
   "outputs": [],
   "source": [
    "required_parameters = {\n",
    "    \"experiment_name\",\n",
    "    \"lr\",\n",
    "    \"device\",\n",
    "    \"seed\",\n",
    "    \"dataset_seed\",\n",
    "    \"n_shot\",\n",
    "    \"n_query\",\n",
    "    \"n_way\",\n",
    "    \"train_k_factor\",\n",
    "    \"val_k_factor\",\n",
    "    \"test_k_factor\",\n",
    "    \"n_epoch\",\n",
    "    \"patience\",\n",
    "    \"criteria_for_best\",\n",
    "    \"x_net\",\n",
    "    \"datasets\",\n",
    "    \"torch_default_dtype\",\n",
    "    \"NUM_LOGS_PER_EPOCH\",\n",
    "    \"BEST_MODEL_PATH\",\n",
    "    \"x_shape\",\n",
    "}"
   ]
  },
  {
   "cell_type": "code",
   "execution_count": 3,
   "id": "fa3f0049",
   "metadata": {
    "execution": {
     "iopub.execute_input": "2022-03-21T03:32:58.188697Z",
     "iopub.status.busy": "2022-03-21T03:32:58.187778Z",
     "iopub.status.idle": "2022-03-21T03:32:58.210378Z",
     "shell.execute_reply": "2022-03-21T03:32:58.209660Z"
    },
    "papermill": {
     "duration": 0.05792,
     "end_time": "2022-03-21T03:32:58.210533",
     "exception": false,
     "start_time": "2022-03-21T03:32:58.152613",
     "status": "completed"
    },
    "tags": [
     "parameters"
    ]
   },
   "outputs": [],
   "source": [
    "from steves_utils.CORES.utils import (\n",
    "    ALL_NODES,\n",
    "    ALL_NODES_MINIMUM_1000_EXAMPLES,\n",
    "    ALL_DAYS\n",
    ")\n",
    "\n",
    "from steves_utils.ORACLE.utils_v2 import (\n",
    "    ALL_DISTANCES_FEET_NARROWED,\n",
    "    ALL_RUNS,\n",
    "    ALL_SERIAL_NUMBERS,\n",
    ")\n",
    "\n",
    "standalone_parameters = {}\n",
    "standalone_parameters[\"experiment_name\"] = \"STANDALONE PTN\"\n",
    "standalone_parameters[\"lr\"] = 0.001\n",
    "standalone_parameters[\"device\"] = \"cuda\"\n",
    "\n",
    "standalone_parameters[\"seed\"] = 1337\n",
    "standalone_parameters[\"dataset_seed\"] = 1337\n",
    "\n",
    "standalone_parameters[\"n_way\"] = 8\n",
    "standalone_parameters[\"n_shot\"] = 3\n",
    "standalone_parameters[\"n_query\"]  = 2\n",
    "standalone_parameters[\"train_k_factor\"] = 1\n",
    "standalone_parameters[\"val_k_factor\"] = 2\n",
    "standalone_parameters[\"test_k_factor\"] = 2\n",
    "\n",
    "\n",
    "standalone_parameters[\"n_epoch\"] = 50\n",
    "\n",
    "standalone_parameters[\"patience\"] = 10\n",
    "standalone_parameters[\"criteria_for_best\"] = \"source_loss\"\n",
    "\n",
    "standalone_parameters[\"datasets\"] = [\n",
    "    {\n",
    "        \"labels\": ALL_SERIAL_NUMBERS,\n",
    "        \"domains\": ALL_DISTANCES_FEET_NARROWED,\n",
    "        \"num_examples_per_domain_per_label\": 100,\n",
    "        \"pickle_path\": os.path.join(get_datasets_base_path(), \"oracle.Run1_framed_2000Examples_stratified_ds.2022A.pkl\"),\n",
    "        \"source_or_target_dataset\": \"source\",\n",
    "        \"x_transforms\": [\"unit_mag\", \"minus_two\"],\n",
    "        \"episode_transforms\": [],\n",
    "        \"domain_prefix\": \"ORACLE_\"\n",
    "    },\n",
    "    {\n",
    "        \"labels\": ALL_NODES,\n",
    "        \"domains\": ALL_DAYS,\n",
    "        \"num_examples_per_domain_per_label\": 100,\n",
    "        \"pickle_path\": os.path.join(get_datasets_base_path(), \"cores.stratified_ds.2022A.pkl\"),\n",
    "        \"source_or_target_dataset\": \"target\",\n",
    "        \"x_transforms\": [\"unit_power\", \"times_zero\"],\n",
    "        \"episode_transforms\": [],\n",
    "        \"domain_prefix\": \"CORES_\"\n",
    "    }   \n",
    "]\n",
    "\n",
    "standalone_parameters[\"torch_default_dtype\"] = \"torch.float32\" \n",
    "\n",
    "\n",
    "\n",
    "standalone_parameters[\"x_net\"] =     [\n",
    "    {\"class\": \"nnReshape\", \"kargs\": {\"shape\":[-1, 1, 2, 256]}},\n",
    "    {\"class\": \"Conv2d\", \"kargs\": { \"in_channels\":1, \"out_channels\":256, \"kernel_size\":(1,7), \"bias\":False, \"padding\":(0,3), },},\n",
    "    {\"class\": \"ReLU\", \"kargs\": {\"inplace\": True}},\n",
    "    {\"class\": \"BatchNorm2d\", \"kargs\": {\"num_features\":256}},\n",
    "\n",
    "    {\"class\": \"Conv2d\", \"kargs\": { \"in_channels\":256, \"out_channels\":80, \"kernel_size\":(2,7), \"bias\":True, \"padding\":(0,3), },},\n",
    "    {\"class\": \"ReLU\", \"kargs\": {\"inplace\": True}},\n",
    "    {\"class\": \"BatchNorm2d\", \"kargs\": {\"num_features\":80}},\n",
    "    {\"class\": \"Flatten\", \"kargs\": {}},\n",
    "\n",
    "    {\"class\": \"Linear\", \"kargs\": {\"in_features\": 80*256, \"out_features\": 256}}, # 80 units per IQ pair\n",
    "    {\"class\": \"ReLU\", \"kargs\": {\"inplace\": True}},\n",
    "    {\"class\": \"BatchNorm1d\", \"kargs\": {\"num_features\":256}},\n",
    "\n",
    "    {\"class\": \"Linear\", \"kargs\": {\"in_features\": 256, \"out_features\": 256}},\n",
    "]\n",
    "\n",
    "# Parameters relevant to results\n",
    "# These parameters will basically never need to change\n",
    "standalone_parameters[\"NUM_LOGS_PER_EPOCH\"] = 10\n",
    "standalone_parameters[\"BEST_MODEL_PATH\"] = \"./best_model.pth\"\n",
    "\n",
    "\n",
    "\n",
    "\n"
   ]
  },
  {
   "cell_type": "code",
   "execution_count": 4,
   "id": "3debc8f6",
   "metadata": {
    "execution": {
     "iopub.execute_input": "2022-03-21T03:32:58.273849Z",
     "iopub.status.busy": "2022-03-21T03:32:58.258339Z",
     "iopub.status.idle": "2022-03-21T03:32:58.297714Z",
     "shell.execute_reply": "2022-03-21T03:32:58.296903Z"
    },
    "papermill": {
     "duration": 0.061817,
     "end_time": "2022-03-21T03:32:58.297868",
     "exception": false,
     "start_time": "2022-03-21T03:32:58.236051",
     "status": "completed"
    },
    "tags": [
     "injected-parameters"
    ]
   },
   "outputs": [],
   "source": [
    "# Parameters\n",
    "parameters = {\n",
    "    \"experiment_name\": \"tl_1v2:cores-wisig\",\n",
    "    \"device\": \"cuda\",\n",
    "    \"lr\": 0.0001,\n",
    "    \"n_shot\": 3,\n",
    "    \"n_query\": 2,\n",
    "    \"train_k_factor\": 3,\n",
    "    \"val_k_factor\": 2,\n",
    "    \"test_k_factor\": 2,\n",
    "    \"torch_default_dtype\": \"torch.float32\",\n",
    "    \"n_epoch\": 3,\n",
    "    \"patience\": 3,\n",
    "    \"criteria_for_best\": \"target_accuracy\",\n",
    "    \"x_net\": [\n",
    "        {\"class\": \"nnReshape\", \"kargs\": {\"shape\": [-1, 1, 2, 256]}},\n",
    "        {\n",
    "            \"class\": \"Conv2d\",\n",
    "            \"kargs\": {\n",
    "                \"in_channels\": 1,\n",
    "                \"out_channels\": 256,\n",
    "                \"kernel_size\": [1, 7],\n",
    "                \"bias\": False,\n",
    "                \"padding\": [0, 3],\n",
    "            },\n",
    "        },\n",
    "        {\"class\": \"ReLU\", \"kargs\": {\"inplace\": True}},\n",
    "        {\"class\": \"BatchNorm2d\", \"kargs\": {\"num_features\": 256}},\n",
    "        {\n",
    "            \"class\": \"Conv2d\",\n",
    "            \"kargs\": {\n",
    "                \"in_channels\": 256,\n",
    "                \"out_channels\": 80,\n",
    "                \"kernel_size\": [2, 7],\n",
    "                \"bias\": True,\n",
    "                \"padding\": [0, 3],\n",
    "            },\n",
    "        },\n",
    "        {\"class\": \"ReLU\", \"kargs\": {\"inplace\": True}},\n",
    "        {\"class\": \"BatchNorm2d\", \"kargs\": {\"num_features\": 80}},\n",
    "        {\"class\": \"Flatten\", \"kargs\": {}},\n",
    "        {\"class\": \"Linear\", \"kargs\": {\"in_features\": 20480, \"out_features\": 256}},\n",
    "        {\"class\": \"ReLU\", \"kargs\": {\"inplace\": True}},\n",
    "        {\"class\": \"BatchNorm1d\", \"kargs\": {\"num_features\": 256}},\n",
    "        {\"class\": \"Linear\", \"kargs\": {\"in_features\": 256, \"out_features\": 256}},\n",
    "    ],\n",
    "    \"NUM_LOGS_PER_EPOCH\": 10,\n",
    "    \"BEST_MODEL_PATH\": \"./best_model.pth\",\n",
    "    \"n_way\": 58,\n",
    "    \"datasets\": [\n",
    "        {\n",
    "            \"labels\": [\n",
    "                \"1-10.\",\n",
    "                \"1-11.\",\n",
    "                \"1-15.\",\n",
    "                \"1-16.\",\n",
    "                \"1-17.\",\n",
    "                \"1-18.\",\n",
    "                \"1-19.\",\n",
    "                \"10-4.\",\n",
    "                \"10-7.\",\n",
    "                \"11-1.\",\n",
    "                \"11-14.\",\n",
    "                \"11-17.\",\n",
    "                \"11-20.\",\n",
    "                \"11-7.\",\n",
    "                \"13-20.\",\n",
    "                \"13-8.\",\n",
    "                \"14-10.\",\n",
    "                \"14-11.\",\n",
    "                \"14-14.\",\n",
    "                \"14-7.\",\n",
    "                \"15-1.\",\n",
    "                \"15-20.\",\n",
    "                \"16-1.\",\n",
    "                \"16-16.\",\n",
    "                \"17-10.\",\n",
    "                \"17-11.\",\n",
    "                \"17-2.\",\n",
    "                \"19-1.\",\n",
    "                \"19-16.\",\n",
    "                \"19-19.\",\n",
    "                \"19-20.\",\n",
    "                \"19-3.\",\n",
    "                \"2-10.\",\n",
    "                \"2-11.\",\n",
    "                \"2-17.\",\n",
    "                \"2-18.\",\n",
    "                \"2-20.\",\n",
    "                \"2-3.\",\n",
    "                \"2-4.\",\n",
    "                \"2-5.\",\n",
    "                \"2-6.\",\n",
    "                \"2-7.\",\n",
    "                \"2-8.\",\n",
    "                \"3-13.\",\n",
    "                \"3-18.\",\n",
    "                \"3-3.\",\n",
    "                \"4-1.\",\n",
    "                \"4-10.\",\n",
    "                \"4-11.\",\n",
    "                \"4-19.\",\n",
    "                \"5-5.\",\n",
    "                \"6-15.\",\n",
    "                \"7-10.\",\n",
    "                \"7-14.\",\n",
    "                \"8-18.\",\n",
    "                \"8-20.\",\n",
    "                \"8-3.\",\n",
    "                \"8-8.\",\n",
    "            ],\n",
    "            \"domains\": [1, 2, 3, 4, 5],\n",
    "            \"num_examples_per_domain_per_label\": -1,\n",
    "            \"pickle_path\": \"/root/csc500-main/datasets/cores.stratified_ds.2022A.pkl\",\n",
    "            \"source_or_target_dataset\": \"source\",\n",
    "            \"x_transforms\": [\"unit_mag\"],\n",
    "            \"episode_transforms\": [],\n",
    "            \"domain_prefix\": \"CORES_\",\n",
    "        },\n",
    "        {\n",
    "            \"labels\": [\n",
    "                \"1-10\",\n",
    "                \"1-12\",\n",
    "                \"1-14\",\n",
    "                \"1-16\",\n",
    "                \"1-18\",\n",
    "                \"1-19\",\n",
    "                \"1-8\",\n",
    "                \"10-11\",\n",
    "                \"10-17\",\n",
    "                \"10-4\",\n",
    "                \"10-7\",\n",
    "                \"11-1\",\n",
    "                \"11-10\",\n",
    "                \"11-19\",\n",
    "                \"11-20\",\n",
    "                \"11-4\",\n",
    "                \"11-7\",\n",
    "                \"12-19\",\n",
    "                \"12-20\",\n",
    "                \"12-7\",\n",
    "                \"13-14\",\n",
    "                \"13-18\",\n",
    "                \"13-19\",\n",
    "                \"13-20\",\n",
    "                \"13-3\",\n",
    "                \"13-7\",\n",
    "                \"14-10\",\n",
    "                \"14-11\",\n",
    "                \"14-12\",\n",
    "                \"14-13\",\n",
    "                \"14-14\",\n",
    "                \"14-19\",\n",
    "                \"14-20\",\n",
    "                \"14-7\",\n",
    "                \"14-8\",\n",
    "                \"14-9\",\n",
    "                \"15-1\",\n",
    "                \"15-19\",\n",
    "                \"15-6\",\n",
    "                \"16-1\",\n",
    "                \"16-16\",\n",
    "                \"16-19\",\n",
    "                \"16-20\",\n",
    "                \"17-10\",\n",
    "                \"17-11\",\n",
    "                \"18-1\",\n",
    "                \"18-10\",\n",
    "                \"18-11\",\n",
    "                \"18-12\",\n",
    "                \"18-13\",\n",
    "                \"18-14\",\n",
    "                \"18-15\",\n",
    "                \"18-16\",\n",
    "                \"18-17\",\n",
    "                \"18-19\",\n",
    "                \"18-2\",\n",
    "                \"18-20\",\n",
    "                \"18-4\",\n",
    "                \"18-5\",\n",
    "                \"18-7\",\n",
    "                \"18-8\",\n",
    "                \"18-9\",\n",
    "                \"19-1\",\n",
    "                \"19-10\",\n",
    "                \"19-11\",\n",
    "                \"19-12\",\n",
    "                \"19-13\",\n",
    "                \"19-14\",\n",
    "                \"19-15\",\n",
    "                \"19-19\",\n",
    "                \"19-2\",\n",
    "                \"19-20\",\n",
    "                \"19-3\",\n",
    "                \"19-4\",\n",
    "                \"19-6\",\n",
    "                \"19-7\",\n",
    "                \"19-8\",\n",
    "                \"19-9\",\n",
    "                \"2-1\",\n",
    "                \"2-13\",\n",
    "                \"2-15\",\n",
    "                \"2-3\",\n",
    "                \"2-4\",\n",
    "                \"2-5\",\n",
    "                \"2-6\",\n",
    "                \"2-7\",\n",
    "                \"2-8\",\n",
    "                \"20-1\",\n",
    "                \"20-12\",\n",
    "                \"20-14\",\n",
    "                \"20-15\",\n",
    "                \"20-16\",\n",
    "                \"20-18\",\n",
    "                \"20-19\",\n",
    "                \"20-20\",\n",
    "                \"20-3\",\n",
    "                \"20-4\",\n",
    "                \"20-5\",\n",
    "                \"20-7\",\n",
    "                \"20-8\",\n",
    "                \"3-1\",\n",
    "                \"3-13\",\n",
    "                \"3-18\",\n",
    "                \"3-2\",\n",
    "                \"3-8\",\n",
    "                \"4-1\",\n",
    "                \"4-10\",\n",
    "                \"4-11\",\n",
    "                \"5-1\",\n",
    "                \"5-5\",\n",
    "                \"6-1\",\n",
    "                \"6-15\",\n",
    "                \"6-6\",\n",
    "                \"7-10\",\n",
    "                \"7-11\",\n",
    "                \"7-12\",\n",
    "                \"7-13\",\n",
    "                \"7-14\",\n",
    "                \"7-7\",\n",
    "                \"7-8\",\n",
    "                \"7-9\",\n",
    "                \"8-1\",\n",
    "                \"8-13\",\n",
    "                \"8-14\",\n",
    "                \"8-18\",\n",
    "                \"8-20\",\n",
    "                \"8-3\",\n",
    "                \"8-8\",\n",
    "                \"9-1\",\n",
    "                \"9-7\",\n",
    "            ],\n",
    "            \"domains\": [1, 2, 3, 4],\n",
    "            \"num_examples_per_domain_per_label\": -1,\n",
    "            \"pickle_path\": \"/root/csc500-main/datasets/wisig.node3-19.stratified_ds.2022A.pkl\",\n",
    "            \"source_or_target_dataset\": \"target\",\n",
    "            \"x_transforms\": [\"unit_mag\"],\n",
    "            \"episode_transforms\": [],\n",
    "            \"domain_prefix\": \"Wisig_\",\n",
    "        },\n",
    "    ],\n",
    "    \"dataset_seed\": 7,\n",
    "    \"seed\": 7,\n",
    "}\n"
   ]
  },
  {
   "cell_type": "code",
   "execution_count": 5,
   "id": "8fa1cc33",
   "metadata": {
    "execution": {
     "iopub.execute_input": "2022-03-21T03:32:58.349896Z",
     "iopub.status.busy": "2022-03-21T03:32:58.349525Z",
     "iopub.status.idle": "2022-03-21T03:32:58.372841Z",
     "shell.execute_reply": "2022-03-21T03:32:58.372131Z"
    },
    "papermill": {
     "duration": 0.049421,
     "end_time": "2022-03-21T03:32:58.372996",
     "exception": false,
     "start_time": "2022-03-21T03:32:58.323575",
     "status": "completed"
    },
    "tags": []
   },
   "outputs": [],
   "source": [
    "# Set this to True if you want to run this template directly\n",
    "STANDALONE = False\n",
    "if STANDALONE:\n",
    "    print(\"parameters not injected, running with standalone_parameters\")\n",
    "    parameters = standalone_parameters\n",
    "\n",
    "if not 'parameters' in locals() and not 'parameters' in globals():\n",
    "    raise Exception(\"Parameter injection failed\")\n",
    "\n",
    "#Use an easy dict for all the parameters\n",
    "p = EasyDict(parameters)\n",
    "\n",
    "if \"x_shape\" not in p:\n",
    "    p.x_shape = [2,256] # Default to this if we dont supply x_shape\n",
    "\n",
    "\n",
    "supplied_keys = set(p.keys())\n",
    "\n",
    "if  supplied_keys != required_parameters:\n",
    "    print(\"Parameters are incorrect\")\n",
    "    if len(supplied_keys - required_parameters)>0: print(\"Shouldn't have:\", str(supplied_keys - required_parameters))\n",
    "    if len(required_parameters - supplied_keys)>0: print(\"Need to have:\", str(required_parameters - supplied_keys))\n",
    "    raise RuntimeError(\"Parameters are incorrect\")"
   ]
  },
  {
   "cell_type": "code",
   "execution_count": 6,
   "id": "3a028d58",
   "metadata": {
    "execution": {
     "iopub.execute_input": "2022-03-21T03:32:58.419762Z",
     "iopub.status.busy": "2022-03-21T03:32:58.419369Z",
     "iopub.status.idle": "2022-03-21T03:32:58.436610Z",
     "shell.execute_reply": "2022-03-21T03:32:58.435903Z"
    },
    "papermill": {
     "duration": 0.039603,
     "end_time": "2022-03-21T03:32:58.436766",
     "exception": false,
     "start_time": "2022-03-21T03:32:58.397163",
     "status": "completed"
    },
    "tags": []
   },
   "outputs": [],
   "source": [
    "###################################\n",
    "# Set the RNGs and make it all deterministic\n",
    "###################################\n",
    "np.random.seed(p.seed)\n",
    "random.seed(p.seed)\n",
    "torch.manual_seed(p.seed)\n",
    "\n",
    "torch.use_deterministic_algorithms(True) "
   ]
  },
  {
   "cell_type": "code",
   "execution_count": 7,
   "id": "b691acf6",
   "metadata": {
    "execution": {
     "iopub.execute_input": "2022-03-21T03:32:58.486834Z",
     "iopub.status.busy": "2022-03-21T03:32:58.486469Z",
     "iopub.status.idle": "2022-03-21T03:32:58.508371Z",
     "shell.execute_reply": "2022-03-21T03:32:58.507667Z"
    },
    "papermill": {
     "duration": 0.044916,
     "end_time": "2022-03-21T03:32:58.508524",
     "exception": false,
     "start_time": "2022-03-21T03:32:58.463608",
     "status": "completed"
    },
    "tags": []
   },
   "outputs": [],
   "source": [
    "###########################################\n",
    "# The stratified datasets honor this\n",
    "###########################################\n",
    "torch.set_default_dtype(eval(p.torch_default_dtype))"
   ]
  },
  {
   "cell_type": "code",
   "execution_count": 8,
   "id": "b5fba671",
   "metadata": {
    "execution": {
     "iopub.execute_input": "2022-03-21T03:32:58.561462Z",
     "iopub.status.busy": "2022-03-21T03:32:58.560901Z",
     "iopub.status.idle": "2022-03-21T03:32:58.614882Z",
     "shell.execute_reply": "2022-03-21T03:32:58.614180Z"
    },
    "papermill": {
     "duration": 0.077627,
     "end_time": "2022-03-21T03:32:58.615036",
     "exception": false,
     "start_time": "2022-03-21T03:32:58.537409",
     "status": "completed"
    },
    "tags": []
   },
   "outputs": [],
   "source": [
    "###################################\n",
    "# Build the network(s)\n",
    "# Note: It's critical to do this AFTER setting the RNG\n",
    "###################################\n",
    "x_net = build_sequential(p.x_net)"
   ]
  },
  {
   "cell_type": "code",
   "execution_count": 9,
   "id": "5d7e61cc",
   "metadata": {
    "execution": {
     "iopub.execute_input": "2022-03-21T03:32:58.664105Z",
     "iopub.status.busy": "2022-03-21T03:32:58.663741Z",
     "iopub.status.idle": "2022-03-21T03:32:58.686009Z",
     "shell.execute_reply": "2022-03-21T03:32:58.685205Z"
    },
    "papermill": {
     "duration": 0.045273,
     "end_time": "2022-03-21T03:32:58.686162",
     "exception": false,
     "start_time": "2022-03-21T03:32:58.640889",
     "status": "completed"
    },
    "tags": []
   },
   "outputs": [],
   "source": [
    "start_time_secs = time.time()"
   ]
  },
  {
   "cell_type": "code",
   "execution_count": 10,
   "id": "c6b67dfd",
   "metadata": {
    "execution": {
     "iopub.execute_input": "2022-03-21T03:32:58.735436Z",
     "iopub.status.busy": "2022-03-21T03:32:58.735069Z",
     "iopub.status.idle": "2022-03-21T03:32:58.752129Z",
     "shell.execute_reply": "2022-03-21T03:32:58.751353Z"
    },
    "papermill": {
     "duration": 0.039898,
     "end_time": "2022-03-21T03:32:58.752284",
     "exception": false,
     "start_time": "2022-03-21T03:32:58.712386",
     "status": "completed"
    },
    "tags": []
   },
   "outputs": [],
   "source": [
    "p.domains_source = []\n",
    "p.domains_target = []\n",
    "\n",
    "\n",
    "train_original_source = []\n",
    "val_original_source   = []\n",
    "test_original_source  = []\n",
    "\n",
    "train_original_target = []\n",
    "val_original_target   = []\n",
    "test_original_target  = []"
   ]
  },
  {
   "cell_type": "code",
   "execution_count": 11,
   "id": "e3d9c3d3",
   "metadata": {
    "execution": {
     "iopub.execute_input": "2022-03-21T03:32:58.803021Z",
     "iopub.status.busy": "2022-03-21T03:32:58.802657Z",
     "iopub.status.idle": "2022-03-21T03:32:58.822136Z",
     "shell.execute_reply": "2022-03-21T03:32:58.821432Z"
    },
    "papermill": {
     "duration": 0.042451,
     "end_time": "2022-03-21T03:32:58.822289",
     "exception": false,
     "start_time": "2022-03-21T03:32:58.779838",
     "status": "completed"
    },
    "tags": []
   },
   "outputs": [],
   "source": [
    "# global_x_transform_func = lambda x: normalize(x.to(torch.get_default_dtype()), \"unit_power\") # unit_power, unit_mag\n",
    "# global_x_transform_func = lambda x: normalize(x, \"unit_power\") # unit_power, unit_mag"
   ]
  },
  {
   "cell_type": "code",
   "execution_count": 12,
   "id": "acb78fd2",
   "metadata": {
    "execution": {
     "iopub.execute_input": "2022-03-21T03:32:58.876172Z",
     "iopub.status.busy": "2022-03-21T03:32:58.875583Z",
     "iopub.status.idle": "2022-03-21T03:32:58.892969Z",
     "shell.execute_reply": "2022-03-21T03:32:58.892261Z"
    },
    "papermill": {
     "duration": 0.044464,
     "end_time": "2022-03-21T03:32:58.893123",
     "exception": false,
     "start_time": "2022-03-21T03:32:58.848659",
     "status": "completed"
    },
    "tags": []
   },
   "outputs": [],
   "source": [
    "def add_dataset(\n",
    "    labels,\n",
    "    domains,\n",
    "    pickle_path,\n",
    "    x_transforms,\n",
    "    episode_transforms,\n",
    "    domain_prefix,\n",
    "    num_examples_per_domain_per_label,\n",
    "    source_or_target_dataset:str,\n",
    "    iterator_seed=p.seed,\n",
    "    dataset_seed=p.dataset_seed,\n",
    "    n_shot=p.n_shot,\n",
    "    n_way=p.n_way,\n",
    "    n_query=p.n_query,\n",
    "    train_val_test_k_factors=(p.train_k_factor,p.val_k_factor,p.test_k_factor),\n",
    "):\n",
    "   \n",
    "    if x_transforms == []: x_transform = None\n",
    "    else: x_transform = get_chained_transform(x_transforms)\n",
    "    \n",
    "    if episode_transforms == []: episode_transform = None\n",
    "    else: raise Exception(\"episode_transforms not implemented\")\n",
    "    \n",
    "    episode_transform = lambda tup, _prefix=domain_prefix: (_prefix + str(tup[0]), tup[1])\n",
    "\n",
    "\n",
    "    eaf = Episodic_Accessor_Factory(\n",
    "        labels=labels,\n",
    "        domains=domains,\n",
    "        num_examples_per_domain_per_label=num_examples_per_domain_per_label,\n",
    "        iterator_seed=iterator_seed,\n",
    "        dataset_seed=dataset_seed,\n",
    "        n_shot=n_shot,\n",
    "        n_way=n_way,\n",
    "        n_query=n_query,\n",
    "        train_val_test_k_factors=train_val_test_k_factors,\n",
    "        pickle_path=pickle_path,\n",
    "        x_transform_func=x_transform,\n",
    "    )\n",
    "\n",
    "    train, val, test = eaf.get_train(), eaf.get_val(), eaf.get_test()\n",
    "    train = Lazy_Iterable_Wrapper(train, episode_transform)\n",
    "    val = Lazy_Iterable_Wrapper(val, episode_transform)\n",
    "    test = Lazy_Iterable_Wrapper(test, episode_transform)\n",
    "\n",
    "    if source_or_target_dataset==\"source\":\n",
    "        train_original_source.append(train)\n",
    "        val_original_source.append(val)\n",
    "        test_original_source.append(test)\n",
    "\n",
    "        p.domains_source.extend(\n",
    "            [domain_prefix + str(u) for u in domains]\n",
    "        )\n",
    "    elif source_or_target_dataset==\"target\":\n",
    "        train_original_target.append(train)\n",
    "        val_original_target.append(val)\n",
    "        test_original_target.append(test)\n",
    "        p.domains_target.extend(\n",
    "            [domain_prefix + str(u) for u in domains]\n",
    "        )\n",
    "    else:\n",
    "        raise Exception(f\"invalid source_or_target_dataset: {source_or_target_dataset}\")\n",
    "    "
   ]
  },
  {
   "cell_type": "code",
   "execution_count": 13,
   "id": "fe266617",
   "metadata": {
    "execution": {
     "iopub.execute_input": "2022-03-21T03:32:58.942880Z",
     "iopub.status.busy": "2022-03-21T03:32:58.942512Z",
     "iopub.status.idle": "2022-03-21T03:33:41.880047Z",
     "shell.execute_reply": "2022-03-21T03:33:41.879212Z"
    },
    "papermill": {
     "duration": 42.961955,
     "end_time": "2022-03-21T03:33:41.880236",
     "exception": false,
     "start_time": "2022-03-21T03:32:58.918281",
     "status": "completed"
    },
    "tags": []
   },
   "outputs": [],
   "source": [
    "for ds in p.datasets:\n",
    "    add_dataset(**ds)"
   ]
  },
  {
   "cell_type": "code",
   "execution_count": 14,
   "id": "b90d65ac",
   "metadata": {
    "execution": {
     "iopub.execute_input": "2022-03-21T03:33:41.930461Z",
     "iopub.status.busy": "2022-03-21T03:33:41.929845Z",
     "iopub.status.idle": "2022-03-21T03:33:41.958749Z",
     "shell.execute_reply": "2022-03-21T03:33:41.957983Z"
    },
    "papermill": {
     "duration": 0.053014,
     "end_time": "2022-03-21T03:33:41.958930",
     "exception": false,
     "start_time": "2022-03-21T03:33:41.905916",
     "status": "completed"
    },
    "tags": []
   },
   "outputs": [],
   "source": [
    "# from steves_utils.CORES.utils import (\n",
    "#     ALL_NODES,\n",
    "#     ALL_NODES_MINIMUM_1000_EXAMPLES,\n",
    "#     ALL_DAYS\n",
    "# )\n",
    "\n",
    "# add_dataset(\n",
    "#     labels=ALL_NODES,\n",
    "#     domains = ALL_DAYS,\n",
    "#     num_examples_per_domain_per_label=100,\n",
    "#     pickle_path=os.path.join(get_datasets_base_path(), \"cores.stratified_ds.2022A.pkl\"),\n",
    "#     source_or_target_dataset=\"target\",\n",
    "#     x_transform_func=global_x_transform_func,\n",
    "#     domain_modifier=lambda u: f\"cores_{u}\"\n",
    "# )"
   ]
  },
  {
   "cell_type": "code",
   "execution_count": 15,
   "id": "76db484d",
   "metadata": {
    "execution": {
     "iopub.execute_input": "2022-03-21T03:33:42.013467Z",
     "iopub.status.busy": "2022-03-21T03:33:42.012823Z",
     "iopub.status.idle": "2022-03-21T03:33:42.042400Z",
     "shell.execute_reply": "2022-03-21T03:33:42.043079Z"
    },
    "papermill": {
     "duration": 0.056046,
     "end_time": "2022-03-21T03:33:42.043311",
     "exception": false,
     "start_time": "2022-03-21T03:33:41.987265",
     "status": "completed"
    },
    "tags": []
   },
   "outputs": [],
   "source": [
    "# from steves_utils.ORACLE.utils_v2 import (\n",
    "#     ALL_DISTANCES_FEET,\n",
    "#     ALL_RUNS,\n",
    "#     ALL_SERIAL_NUMBERS,\n",
    "# )\n",
    "\n",
    "\n",
    "# add_dataset(\n",
    "#     labels=ALL_SERIAL_NUMBERS,\n",
    "#     domains = list(set(ALL_DISTANCES_FEET) - {2,62}),\n",
    "#     num_examples_per_domain_per_label=100,\n",
    "#     pickle_path=os.path.join(get_datasets_base_path(), \"oracle.Run2_framed_2000Examples_stratified_ds.2022A.pkl\"),\n",
    "#     source_or_target_dataset=\"source\",\n",
    "#     x_transform_func=global_x_transform_func,\n",
    "#     domain_modifier=lambda u: f\"oracle1_{u}\"\n",
    "# )\n"
   ]
  },
  {
   "cell_type": "code",
   "execution_count": 16,
   "id": "97dea9d2",
   "metadata": {
    "execution": {
     "iopub.execute_input": "2022-03-21T03:33:42.095027Z",
     "iopub.status.busy": "2022-03-21T03:33:42.094652Z",
     "iopub.status.idle": "2022-03-21T03:33:42.124046Z",
     "shell.execute_reply": "2022-03-21T03:33:42.123079Z"
    },
    "papermill": {
     "duration": 0.054564,
     "end_time": "2022-03-21T03:33:42.124247",
     "exception": false,
     "start_time": "2022-03-21T03:33:42.069683",
     "status": "completed"
    },
    "tags": []
   },
   "outputs": [],
   "source": [
    "# from steves_utils.ORACLE.utils_v2 import (\n",
    "#     ALL_DISTANCES_FEET,\n",
    "#     ALL_RUNS,\n",
    "#     ALL_SERIAL_NUMBERS,\n",
    "# )\n",
    "\n",
    "\n",
    "# add_dataset(\n",
    "#     labels=ALL_SERIAL_NUMBERS,\n",
    "#     domains = list(set(ALL_DISTANCES_FEET) - {2,62,56}),\n",
    "#     num_examples_per_domain_per_label=100,\n",
    "#     pickle_path=os.path.join(get_datasets_base_path(), \"oracle.Run2_framed_2000Examples_stratified_ds.2022A.pkl\"),\n",
    "#     source_or_target_dataset=\"source\",\n",
    "#     x_transform_func=global_x_transform_func,\n",
    "#     domain_modifier=lambda u: f\"oracle2_{u}\"\n",
    "# )"
   ]
  },
  {
   "cell_type": "code",
   "execution_count": 17,
   "id": "6f289866",
   "metadata": {
    "execution": {
     "iopub.execute_input": "2022-03-21T03:33:42.179285Z",
     "iopub.status.busy": "2022-03-21T03:33:42.178910Z",
     "iopub.status.idle": "2022-03-21T03:33:42.204870Z",
     "shell.execute_reply": "2022-03-21T03:33:42.204163Z"
    },
    "papermill": {
     "duration": 0.051213,
     "end_time": "2022-03-21T03:33:42.205055",
     "exception": false,
     "start_time": "2022-03-21T03:33:42.153842",
     "status": "completed"
    },
    "tags": []
   },
   "outputs": [],
   "source": [
    "# add_dataset(\n",
    "#     labels=list(range(19)),\n",
    "#     domains = [0,1,2],\n",
    "#     num_examples_per_domain_per_label=100,\n",
    "#     pickle_path=os.path.join(get_datasets_base_path(), \"metehan.stratified_ds.2022A.pkl\"),\n",
    "#     source_or_target_dataset=\"target\",\n",
    "#     x_transform_func=global_x_transform_func,\n",
    "#     domain_modifier=lambda u: f\"met_{u}\"\n",
    "# )"
   ]
  },
  {
   "cell_type": "code",
   "execution_count": 18,
   "id": "86a863c3",
   "metadata": {
    "execution": {
     "iopub.execute_input": "2022-03-21T03:33:42.264284Z",
     "iopub.status.busy": "2022-03-21T03:33:42.263899Z",
     "iopub.status.idle": "2022-03-21T03:33:42.290533Z",
     "shell.execute_reply": "2022-03-21T03:33:42.289718Z"
    },
    "papermill": {
     "duration": 0.051497,
     "end_time": "2022-03-21T03:33:42.290696",
     "exception": false,
     "start_time": "2022-03-21T03:33:42.239199",
     "status": "completed"
    },
    "tags": []
   },
   "outputs": [],
   "source": [
    "# # from steves_utils.wisig.utils import (\n",
    "# #     ALL_NODES_MINIMUM_100_EXAMPLES,\n",
    "# #     ALL_NODES_MINIMUM_500_EXAMPLES,\n",
    "# #     ALL_NODES_MINIMUM_1000_EXAMPLES,\n",
    "# #     ALL_DAYS\n",
    "# # )\n",
    "\n",
    "# import steves_utils.wisig.utils as wisig\n",
    "\n",
    "\n",
    "# add_dataset(\n",
    "#     labels=wisig.ALL_NODES_MINIMUM_100_EXAMPLES,\n",
    "#     domains = wisig.ALL_DAYS,\n",
    "#     num_examples_per_domain_per_label=100,\n",
    "#     pickle_path=os.path.join(get_datasets_base_path(), \"wisig.node3-19.stratified_ds.2022A.pkl\"),\n",
    "#     source_or_target_dataset=\"target\",\n",
    "#     x_transform_func=global_x_transform_func,\n",
    "#     domain_modifier=lambda u: f\"wisig_{u}\"\n",
    "# )"
   ]
  },
  {
   "cell_type": "code",
   "execution_count": 19,
   "id": "fd5442bc",
   "metadata": {
    "execution": {
     "iopub.execute_input": "2022-03-21T03:33:42.347222Z",
     "iopub.status.busy": "2022-03-21T03:33:42.346533Z",
     "iopub.status.idle": "2022-03-21T03:33:42.371811Z",
     "shell.execute_reply": "2022-03-21T03:33:42.370985Z"
    },
    "papermill": {
     "duration": 0.055356,
     "end_time": "2022-03-21T03:33:42.371971",
     "exception": false,
     "start_time": "2022-03-21T03:33:42.316615",
     "status": "completed"
    },
    "tags": []
   },
   "outputs": [],
   "source": [
    "###################################\n",
    "# Build the dataset\n",
    "###################################\n",
    "train_original_source = Iterable_Aggregator(train_original_source, p.seed)\n",
    "val_original_source = Iterable_Aggregator(val_original_source, p.seed)\n",
    "test_original_source = Iterable_Aggregator(test_original_source, p.seed)\n",
    "\n",
    "\n",
    "train_original_target = Iterable_Aggregator(train_original_target, p.seed)\n",
    "val_original_target = Iterable_Aggregator(val_original_target, p.seed)\n",
    "test_original_target = Iterable_Aggregator(test_original_target, p.seed)\n",
    "\n",
    "# For CNN We only use X and Y. And we only train on the source.\n",
    "# Properly form the data using a transform lambda and Lazy_Iterable_Wrapper. Finally wrap them in a dataloader\n",
    "\n",
    "transform_lambda = lambda ex: ex[1] # Original is (<domain>, <episode>) so we strip down to episode only\n",
    "\n",
    "train_processed_source = Lazy_Iterable_Wrapper(train_original_source, transform_lambda)\n",
    "val_processed_source   = Lazy_Iterable_Wrapper(val_original_source, transform_lambda)\n",
    "test_processed_source  = Lazy_Iterable_Wrapper(test_original_source, transform_lambda)\n",
    "\n",
    "train_processed_target = Lazy_Iterable_Wrapper(train_original_target, transform_lambda)\n",
    "val_processed_target   = Lazy_Iterable_Wrapper(val_original_target, transform_lambda)\n",
    "test_processed_target  = Lazy_Iterable_Wrapper(test_original_target, transform_lambda)\n",
    "\n",
    "datasets = EasyDict({\n",
    "    \"source\": {\n",
    "        \"original\": {\"train\":train_original_source, \"val\":val_original_source, \"test\":test_original_source},\n",
    "        \"processed\": {\"train\":train_processed_source, \"val\":val_processed_source, \"test\":test_processed_source}\n",
    "    },\n",
    "    \"target\": {\n",
    "        \"original\": {\"train\":train_original_target, \"val\":val_original_target, \"test\":test_original_target},\n",
    "        \"processed\": {\"train\":train_processed_target, \"val\":val_processed_target, \"test\":test_processed_target}\n",
    "    },\n",
    "})"
   ]
  },
  {
   "cell_type": "code",
   "execution_count": 20,
   "id": "5b3c01fc",
   "metadata": {
    "execution": {
     "iopub.execute_input": "2022-03-21T03:33:42.428678Z",
     "iopub.status.busy": "2022-03-21T03:33:42.428305Z",
     "iopub.status.idle": "2022-03-21T03:33:51.167886Z",
     "shell.execute_reply": "2022-03-21T03:33:51.167079Z"
    },
    "papermill": {
     "duration": 8.766475,
     "end_time": "2022-03-21T03:33:51.168065",
     "exception": false,
     "start_time": "2022-03-21T03:33:42.401590",
     "status": "completed"
    },
    "tags": []
   },
   "outputs": [
    {
     "name": "stdout",
     "output_type": "stream",
     "text": [
      "{'CORES_1', 'CORES_3', 'CORES_5', 'CORES_2', 'CORES_4'}\n"
     ]
    },
    {
     "name": "stdout",
     "output_type": "stream",
     "text": [
      "{'Wisig_3', 'Wisig_1', 'Wisig_4', 'Wisig_2'}\n"
     ]
    },
    {
     "name": "stdout",
     "output_type": "stream",
     "text": [
      "tensor([[[ 0.6317,  0.5615, -1.2686,  ..., -0.6814,  0.2808, -0.1250],\n",
      "         [-0.4126,  0.5016,  1.1196,  ..., -0.4126,  0.7087,  0.7824]],\n",
      "\n",
      "        [[ 0.1438,  0.2859,  0.2841,  ...,  0.8679,  1.1607,  0.6393],\n",
      "         [-0.0936, -0.1594,  0.6393,  ...,  0.5752,  0.4539, -0.4851]],\n",
      "\n",
      "        [[ 0.6982, -1.1697, -1.5115,  ..., -0.3175, -0.3434, -1.0806],\n",
      "         [ 0.6318,  0.4228, -0.7630,  ...,  0.0713,  0.9348, -0.7015]],\n",
      "\n",
      "        ...,\n",
      "\n",
      "        [[-0.8255,  0.4617,  1.5049,  ...,  0.8838,  0.8830, -0.3544],\n",
      "         [ 0.0405, -0.0490,  0.0324,  ..., -0.2479,  0.0613,  0.9669]],\n",
      "\n",
      "        [[ 0.0635,  0.0416,  0.6216,  ..., -0.2404,  1.0192,  0.4490],\n",
      "         [ 0.0373, -0.2855, -0.3894,  ..., -0.7753, -0.5508, -0.0060]],\n",
      "\n",
      "        [[ 0.2766,  0.9320,  0.3472,  ...,  1.0133, -0.3027, -1.1126],\n",
      "         [-0.4135, -0.0856,  0.1862,  ..., -0.0925,  0.0372, -0.1819]]])\n"
     ]
    }
   ],
   "source": [
    "from steves_utils.transforms import get_average_magnitude, get_average_power\n",
    "\n",
    "print(set([u for u,_ in val_original_source]))\n",
    "print(set([u for u,_ in val_original_target]))\n",
    "\n",
    "s_x, s_y, q_x, q_y, _ = next(iter(train_processed_source))\n",
    "print(s_x)\n",
    "\n",
    "# for ds in [\n",
    "#     train_processed_source,\n",
    "#     val_processed_source,\n",
    "#     test_processed_source,\n",
    "#     train_processed_target,\n",
    "#     val_processed_target,\n",
    "#     test_processed_target\n",
    "# ]:\n",
    "#     for s_x, s_y, q_x, q_y, _ in ds:\n",
    "#         for X in (s_x, q_x):\n",
    "#             for x in X:\n",
    "#                 assert np.isclose(get_average_magnitude(x.numpy()), 1.0)\n",
    "#                 assert np.isclose(get_average_power(x.numpy()), 1.0)\n",
    "                "
   ]
  },
  {
   "cell_type": "code",
   "execution_count": 21,
   "id": "bbdacba1",
   "metadata": {
    "execution": {
     "iopub.execute_input": "2022-03-21T03:33:51.225822Z",
     "iopub.status.busy": "2022-03-21T03:33:51.225446Z",
     "iopub.status.idle": "2022-03-21T03:33:51.469793Z",
     "shell.execute_reply": "2022-03-21T03:33:51.469395Z"
    },
    "papermill": {
     "duration": 0.272563,
     "end_time": "2022-03-21T03:33:51.469912",
     "exception": false,
     "start_time": "2022-03-21T03:33:51.197349",
     "status": "completed"
    },
    "tags": []
   },
   "outputs": [
    {
     "name": "stdout",
     "output_type": "stream",
     "text": [
      "(2, 256)\n"
     ]
    }
   ],
   "source": [
    "###################################\n",
    "# Build the model\n",
    "###################################\n",
    "# easfsl only wants a tuple for the shape\n",
    "model = Steves_Prototypical_Network(x_net, device=p.device, x_shape=tuple(p.x_shape))\n",
    "optimizer = Adam(params=model.parameters(), lr=p.lr)"
   ]
  },
  {
   "cell_type": "code",
   "execution_count": 22,
   "id": "22b39ac5",
   "metadata": {
    "execution": {
     "iopub.execute_input": "2022-03-21T03:33:51.522673Z",
     "iopub.status.busy": "2022-03-21T03:33:51.522277Z",
     "iopub.status.idle": "2022-03-21T03:36:00.497981Z",
     "shell.execute_reply": "2022-03-21T03:36:00.497457Z"
    },
    "papermill": {
     "duration": 129.004362,
     "end_time": "2022-03-21T03:36:00.498106",
     "exception": false,
     "start_time": "2022-03-21T03:33:51.493744",
     "status": "completed"
    },
    "tags": []
   },
   "outputs": [
    {
     "name": "stdout",
     "output_type": "stream",
     "text": [
      "epoch: 1, [batch: 1 / 351], examples_per_second: 337.7719, train_label_loss: 3.8669, \n"
     ]
    },
    {
     "name": "stdout",
     "output_type": "stream",
     "text": [
      "epoch: 1, [batch: 36 / 351], examples_per_second: 3043.6057, train_label_loss: 0.7639, \n"
     ]
    },
    {
     "name": "stdout",
     "output_type": "stream",
     "text": [
      "epoch: 1, [batch: 71 / 351], examples_per_second: 3000.2407, train_label_loss: 0.2481, \n"
     ]
    },
    {
     "name": "stdout",
     "output_type": "stream",
     "text": [
      "epoch: 1, [batch: 106 / 351], examples_per_second: 3070.6591, train_label_loss: 0.1276, \n"
     ]
    },
    {
     "name": "stdout",
     "output_type": "stream",
     "text": [
      "epoch: 1, [batch: 141 / 351], examples_per_second: 2934.4019, train_label_loss: 0.0389, \n"
     ]
    },
    {
     "name": "stdout",
     "output_type": "stream",
     "text": [
      "epoch: 1, [batch: 176 / 351], examples_per_second: 3056.6835, train_label_loss: 0.0469, \n"
     ]
    },
    {
     "name": "stdout",
     "output_type": "stream",
     "text": [
      "epoch: 1, [batch: 211 / 351], examples_per_second: 3083.1918, train_label_loss: 0.0945, \n"
     ]
    },
    {
     "name": "stdout",
     "output_type": "stream",
     "text": [
      "epoch: 1, [batch: 246 / 351], examples_per_second: 3007.0490, train_label_loss: 0.0283, \n"
     ]
    },
    {
     "name": "stdout",
     "output_type": "stream",
     "text": [
      "epoch: 1, [batch: 281 / 351], examples_per_second: 3067.2921, train_label_loss: 0.0150, \n"
     ]
    },
    {
     "name": "stdout",
     "output_type": "stream",
     "text": [
      "epoch: 1, [batch: 316 / 351], examples_per_second: 3053.2314, train_label_loss: 0.0105, \n"
     ]
    },
    {
     "name": "stdout",
     "output_type": "stream",
     "text": [
      "=============================================================\n",
      "epoch: 1, source_val_acc_label: 0.9980, target_val_acc_label: 0.7060, source_val_label_loss: 0.0224, target_val_label_loss: 1.8445, \n",
      "=============================================================\n"
     ]
    },
    {
     "name": "stdout",
     "output_type": "stream",
     "text": [
      "New best\n"
     ]
    },
    {
     "name": "stdout",
     "output_type": "stream",
     "text": [
      "epoch: 2, [batch: 1 / 351], examples_per_second: 33.6095, train_label_loss: 0.0120, \n"
     ]
    },
    {
     "name": "stdout",
     "output_type": "stream",
     "text": [
      "epoch: 2, [batch: 36 / 351], examples_per_second: 3520.0244, train_label_loss: 0.0191, \n"
     ]
    },
    {
     "name": "stdout",
     "output_type": "stream",
     "text": [
      "epoch: 2, [batch: 71 / 351], examples_per_second: 3452.6026, train_label_loss: 0.0187, \n"
     ]
    },
    {
     "name": "stdout",
     "output_type": "stream",
     "text": [
      "epoch: 2, [batch: 106 / 351], examples_per_second: 3974.5286, train_label_loss: 0.0145, \n"
     ]
    },
    {
     "name": "stdout",
     "output_type": "stream",
     "text": [
      "epoch: 2, [batch: 141 / 351], examples_per_second: 3483.9588, train_label_loss: 0.0310, \n"
     ]
    },
    {
     "name": "stdout",
     "output_type": "stream",
     "text": [
      "epoch: 2, [batch: 176 / 351], examples_per_second: 3495.2048, train_label_loss: 0.0062, \n"
     ]
    },
    {
     "name": "stdout",
     "output_type": "stream",
     "text": [
      "epoch: 2, [batch: 211 / 351], examples_per_second: 3908.1823, train_label_loss: 0.0015, \n"
     ]
    },
    {
     "name": "stdout",
     "output_type": "stream",
     "text": [
      "epoch: 2, [batch: 246 / 351], examples_per_second: 3860.1864, train_label_loss: 0.0005, \n"
     ]
    },
    {
     "name": "stdout",
     "output_type": "stream",
     "text": [
      "epoch: 2, [batch: 281 / 351], examples_per_second: 3893.7082, train_label_loss: 0.0276, \n"
     ]
    },
    {
     "name": "stdout",
     "output_type": "stream",
     "text": [
      "epoch: 2, [batch: 316 / 351], examples_per_second: 3980.2832, train_label_loss: 0.0009, \n"
     ]
    },
    {
     "name": "stdout",
     "output_type": "stream",
     "text": [
      "=============================================================\n",
      "epoch: 2, source_val_acc_label: 0.9978, target_val_acc_label: 0.6811, source_val_label_loss: 0.0130, target_val_label_loss: 2.7773, \n",
      "=============================================================\n"
     ]
    },
    {
     "name": "stdout",
     "output_type": "stream",
     "text": [
      "epoch: 3, [batch: 1 / 351], examples_per_second: 44.8734, train_label_loss: 0.0089, \n"
     ]
    },
    {
     "name": "stdout",
     "output_type": "stream",
     "text": [
      "epoch: 3, [batch: 36 / 351], examples_per_second: 3504.3857, train_label_loss: 0.0009, \n"
     ]
    },
    {
     "name": "stdout",
     "output_type": "stream",
     "text": [
      "epoch: 3, [batch: 71 / 351], examples_per_second: 3581.9208, train_label_loss: 0.0012, \n"
     ]
    },
    {
     "name": "stdout",
     "output_type": "stream",
     "text": [
      "epoch: 3, [batch: 106 / 351], examples_per_second: 3491.3873, train_label_loss: 0.0057, \n"
     ]
    },
    {
     "name": "stdout",
     "output_type": "stream",
     "text": [
      "epoch: 3, [batch: 141 / 351], examples_per_second: 3347.8235, train_label_loss: 0.0048, \n"
     ]
    },
    {
     "name": "stdout",
     "output_type": "stream",
     "text": [
      "epoch: 3, [batch: 176 / 351], examples_per_second: 3542.3353, train_label_loss: 0.0131, \n"
     ]
    },
    {
     "name": "stdout",
     "output_type": "stream",
     "text": [
      "epoch: 3, [batch: 211 / 351], examples_per_second: 3553.9448, train_label_loss: 0.0019, \n"
     ]
    },
    {
     "name": "stdout",
     "output_type": "stream",
     "text": [
      "epoch: 3, [batch: 246 / 351], examples_per_second: 4094.9807, train_label_loss: 0.0367, \n"
     ]
    },
    {
     "name": "stdout",
     "output_type": "stream",
     "text": [
      "epoch: 3, [batch: 281 / 351], examples_per_second: 4616.1456, train_label_loss: 0.0668, \n"
     ]
    },
    {
     "name": "stdout",
     "output_type": "stream",
     "text": [
      "epoch: 3, [batch: 316 / 351], examples_per_second: 3715.1830, train_label_loss: 0.0241, \n"
     ]
    },
    {
     "name": "stdout",
     "output_type": "stream",
     "text": [
      "=============================================================\n",
      "epoch: 3, source_val_acc_label: 0.9934, target_val_acc_label: 0.6538, source_val_label_loss: 0.0267, target_val_label_loss: 4.1669, \n",
      "=============================================================\n"
     ]
    }
   ],
   "source": [
    "###################################\n",
    "# train\n",
    "###################################\n",
    "jig = PTN_Train_Eval_Test_Jig(model, p.BEST_MODEL_PATH, p.device)\n",
    "\n",
    "jig.train(\n",
    "    train_iterable=datasets.source.processed.train,\n",
    "    source_val_iterable=datasets.source.processed.val,\n",
    "    target_val_iterable=datasets.target.processed.val,\n",
    "    num_epochs=p.n_epoch,\n",
    "    num_logs_per_epoch=p.NUM_LOGS_PER_EPOCH,\n",
    "    patience=p.patience,\n",
    "    optimizer=optimizer,\n",
    "    criteria_for_best=p.criteria_for_best,\n",
    ")"
   ]
  },
  {
   "cell_type": "code",
   "execution_count": 23,
   "id": "31e8fabf",
   "metadata": {
    "execution": {
     "iopub.execute_input": "2022-03-21T03:36:00.572461Z",
     "iopub.status.busy": "2022-03-21T03:36:00.572084Z",
     "iopub.status.idle": "2022-03-21T03:36:00.602041Z",
     "shell.execute_reply": "2022-03-21T03:36:00.601328Z"
    },
    "papermill": {
     "duration": 0.067959,
     "end_time": "2022-03-21T03:36:00.602207",
     "exception": false,
     "start_time": "2022-03-21T03:36:00.534248",
     "status": "completed"
    },
    "tags": []
   },
   "outputs": [],
   "source": [
    "total_experiment_time_secs = time.time() - start_time_secs"
   ]
  },
  {
   "cell_type": "code",
   "execution_count": 24,
   "id": "87b9595b",
   "metadata": {
    "execution": {
     "iopub.execute_input": "2022-03-21T03:36:00.683796Z",
     "iopub.status.busy": "2022-03-21T03:36:00.683034Z",
     "iopub.status.idle": "2022-03-21T03:37:08.964335Z",
     "shell.execute_reply": "2022-03-21T03:37:08.965018Z"
    },
    "papermill": {
     "duration": 68.323174,
     "end_time": "2022-03-21T03:37:08.965252",
     "exception": false,
     "start_time": "2022-03-21T03:36:00.642078",
     "status": "completed"
    },
    "tags": []
   },
   "outputs": [],
   "source": [
    "###################################\n",
    "# Evaluate the model\n",
    "###################################\n",
    "source_test_label_accuracy, source_test_label_loss = jig.test(datasets.source.processed.test)\n",
    "target_test_label_accuracy, target_test_label_loss = jig.test(datasets.target.processed.test)\n",
    "\n",
    "source_val_label_accuracy, source_val_label_loss = jig.test(datasets.source.processed.val)\n",
    "target_val_label_accuracy, target_val_label_loss = jig.test(datasets.target.processed.val)\n",
    "\n",
    "history = jig.get_history()\n",
    "\n",
    "total_epochs_trained = len(history[\"epoch_indices\"])\n",
    "\n",
    "val_dl = Iterable_Aggregator((datasets.source.original.val,datasets.target.original.val))\n",
    "\n",
    "confusion = ptn_confusion_by_domain_over_dataloader(model, p.device, val_dl)\n",
    "per_domain_accuracy = per_domain_accuracy_from_confusion(confusion)\n",
    "\n",
    "# Add a key to per_domain_accuracy for if it was a source domain\n",
    "for domain, accuracy in per_domain_accuracy.items():\n",
    "    per_domain_accuracy[domain] = {\n",
    "        \"accuracy\": accuracy,\n",
    "        \"source?\": domain in p.domains_source\n",
    "    }\n",
    "\n",
    "# Do an independent accuracy assesment JUST TO BE SURE!\n",
    "# _source_test_label_accuracy = independent_accuracy_assesment(model, datasets.source.processed.test, p.device)\n",
    "# _target_test_label_accuracy = independent_accuracy_assesment(model, datasets.target.processed.test, p.device)\n",
    "# _source_val_label_accuracy = independent_accuracy_assesment(model, datasets.source.processed.val, p.device)\n",
    "# _target_val_label_accuracy = independent_accuracy_assesment(model, datasets.target.processed.val, p.device)\n",
    "\n",
    "# assert(_source_test_label_accuracy == source_test_label_accuracy)\n",
    "# assert(_target_test_label_accuracy == target_test_label_accuracy)\n",
    "# assert(_source_val_label_accuracy == source_val_label_accuracy)\n",
    "# assert(_target_val_label_accuracy == target_val_label_accuracy)\n",
    "\n",
    "experiment = {\n",
    "    \"experiment_name\": p.experiment_name,\n",
    "    \"parameters\": dict(p),\n",
    "    \"results\": {\n",
    "        \"source_test_label_accuracy\": source_test_label_accuracy,\n",
    "        \"source_test_label_loss\": source_test_label_loss,\n",
    "        \"target_test_label_accuracy\": target_test_label_accuracy,\n",
    "        \"target_test_label_loss\": target_test_label_loss,\n",
    "        \"source_val_label_accuracy\": source_val_label_accuracy,\n",
    "        \"source_val_label_loss\": source_val_label_loss,\n",
    "        \"target_val_label_accuracy\": target_val_label_accuracy,\n",
    "        \"target_val_label_loss\": target_val_label_loss,\n",
    "        \"total_epochs_trained\": total_epochs_trained,\n",
    "        \"total_experiment_time_secs\": total_experiment_time_secs,\n",
    "        \"confusion\": confusion,\n",
    "        \"per_domain_accuracy\": per_domain_accuracy,\n",
    "    },\n",
    "    \"history\": history,\n",
    "    \"dataset_metrics\": get_dataset_metrics(datasets, \"ptn\"),\n",
    "}"
   ]
  },
  {
   "cell_type": "code",
   "execution_count": 25,
   "id": "54a21829",
   "metadata": {
    "execution": {
     "iopub.execute_input": "2022-03-21T03:37:09.038649Z",
     "iopub.status.busy": "2022-03-21T03:37:09.038271Z",
     "iopub.status.idle": "2022-03-21T03:37:09.238793Z",
     "shell.execute_reply": "2022-03-21T03:37:09.238073Z"
    },
    "papermill": {
     "duration": 0.236705,
     "end_time": "2022-03-21T03:37:09.238951",
     "exception": false,
     "start_time": "2022-03-21T03:37:09.002246",
     "status": "completed"
    },
    "tags": []
   },
   "outputs": [
    {
     "data": {
      "image/png": "[encoded data removed]",
      "text/plain": [
       "<Figure size 1080x504 with 1 Axes>"
      ]
     },
     "metadata": {
      "needs_background": "light"
     },
     "output_type": "display_data"
    }
   ],
   "source": [
    "ax = get_loss_curve(experiment)\n",
    "plt.show()"
   ]
  },
  {
   "cell_type": "code",
   "execution_count": 26,
   "id": "fd8a0f60",
   "metadata": {
    "execution": {
     "iopub.execute_input": "2022-03-21T03:37:09.312236Z",
     "iopub.status.busy": "2022-03-21T03:37:09.311866Z",
     "iopub.status.idle": "2022-03-21T03:37:09.675777Z",
     "shell.execute_reply": "2022-03-21T03:37:09.676449Z"
    },
    "papermill": {
     "duration": 0.401424,
     "end_time": "2022-03-21T03:37:09.676635",
     "exception": false,
     "start_time": "2022-03-21T03:37:09.275211",
     "status": "completed"
    },
    "tags": []
   },
   "outputs": [
    {
     "data": {
      "text/plain": [
       "<AxesSubplot:title={'center':'Results'}>"
      ]
     },
     "execution_count": 26,
     "metadata": {},
     "output_type": "execute_result"
    },
    {
     "data": {
      "image/png": "[encoded data removed]",
      "text/plain": [
       "<Figure size 1080x504 with 1 Axes>"
      ]
     },
     "metadata": {
      "needs_background": "light"
     },
     "output_type": "display_data"
    }
   ],
   "source": [
    "get_results_table(experiment)"
   ]
  },
  {
   "cell_type": "code",
   "execution_count": 27,
   "id": "cf8dc689",
   "metadata": {
    "execution": {
     "iopub.execute_input": "2022-03-21T03:37:09.764422Z",
     "iopub.status.busy": "2022-03-21T03:37:09.763604Z",
     "iopub.status.idle": "2022-03-21T03:37:09.986706Z",
     "shell.execute_reply": "2022-03-21T03:37:09.987378Z"
    },
    "papermill": {
     "duration": 0.271605,
     "end_time": "2022-03-21T03:37:09.987596",
     "exception": false,
     "start_time": "2022-03-21T03:37:09.715991",
     "status": "completed"
    },
    "tags": []
   },
   "outputs": [
    {
     "data": {
      "text/plain": [
       "<AxesSubplot:title={'center':'Per Domain Validation Accuracy'}, xlabel='domain'>"
      ]
     },
     "execution_count": 27,
     "metadata": {},
     "output_type": "execute_result"
    },
    {
     "data": {
      "image/png": "[encoded data removed]",
      "text/plain": [
       "<Figure size 1080x504 with 1 Axes>"
      ]
     },
     "metadata": {
      "needs_background": "light"
     },
     "output_type": "display_data"
    }
   ],
   "source": [
    "get_domain_accuracies(experiment)"
   ]
  },
  {
   "cell_type": "code",
   "execution_count": 28,
   "id": "a74ae082",
   "metadata": {
    "execution": {
     "iopub.execute_input": "2022-03-21T03:37:10.069009Z",
     "iopub.status.busy": "2022-03-21T03:37:10.068631Z",
     "iopub.status.idle": "2022-03-21T03:37:10.096277Z",
     "shell.execute_reply": "2022-03-21T03:37:10.095451Z"
    },
    "papermill": {
     "duration": 0.06761,
     "end_time": "2022-03-21T03:37:10.096438",
     "exception": false,
     "start_time": "2022-03-21T03:37:10.028828",
     "status": "completed"
    },
    "tags": []
   },
   "outputs": [
    {
     "name": "stdout",
     "output_type": "stream",
     "text": [
      "Source Test Label Accuracy: 0.9975862068965518 Target Test Label Accuracy: 0.7125356494684988\n",
      "Source Val Label Accuracy: 0.9980244252873564 Target Val Label Accuracy: 0.7059536637931034\n"
     ]
    }
   ],
   "source": [
    "print(\"Source Test Label Accuracy:\", experiment[\"results\"][\"source_test_label_accuracy\"], \"Target Test Label Accuracy:\", experiment[\"results\"][\"target_test_label_accuracy\"])\n",
    "print(\"Source Val Label Accuracy:\", experiment[\"results\"][\"source_val_label_accuracy\"], \"Target Val Label Accuracy:\", experiment[\"results\"][\"target_val_label_accuracy\"])"
   ]
  },
  {
   "cell_type": "code",
   "execution_count": 29,
   "id": "dacca602",
   "metadata": {
    "execution": {
     "iopub.execute_input": "2022-03-21T03:37:10.180508Z",
     "iopub.status.busy": "2022-03-21T03:37:10.179850Z",
     "iopub.status.idle": "2022-03-21T03:37:10.210303Z",
     "shell.execute_reply": "2022-03-21T03:37:10.210984Z"
    },
    "papermill": {
     "duration": 0.069763,
     "end_time": "2022-03-21T03:37:10.211202",
     "exception": false,
     "start_time": "2022-03-21T03:37:10.141439",
     "status": "completed"
    },
    "tags": [
     "experiment_json"
    ]
   },
   "outputs": [
    {
     "data": {
      "text/plain": [
       "'{\"experiment_name\": \"tl_1v2:cores-wisig\", \"parameters\": {\"experiment_name\": \"tl_1v2:cores-wisig\", \"device\": \"cuda\", \"lr\": 0.0001, \"n_shot\": 3, \"n_query\": 2, \"train_k_factor\": 3, \"val_k_factor\": 2, \"test_k_factor\": 2, \"torch_default_dtype\": \"torch.float32\", \"n_epoch\": 3, \"patience\": 3, \"criteria_for_best\": \"target_accuracy\", \"x_net\": [{\"class\": \"nnReshape\", \"kargs\": {\"shape\": [-1, 1, 2, 256]}}, {\"class\": \"Conv2d\", \"kargs\": {\"in_channels\": 1, \"out_channels\": 256, \"kernel_size\": [1, 7], \"bias\": false, \"padding\": [0, 3]}}, {\"class\": \"ReLU\", \"kargs\": {\"inplace\": true}}, {\"class\": \"BatchNorm2d\", \"kargs\": {\"num_features\": 256}}, {\"class\": \"Conv2d\", \"kargs\": {\"in_channels\": 256, \"out_channels\": 80, \"kernel_size\": [2, 7], \"bias\": true, \"padding\": [0, 3]}}, {\"class\": \"ReLU\", \"kargs\": {\"inplace\": true}}, {\"class\": \"BatchNorm2d\", \"kargs\": {\"num_features\": 80}}, {\"class\": \"Flatten\", \"kargs\": {}}, {\"class\": \"Linear\", \"kargs\": {\"in_features\": 20480, \"out_features\": 256}}, {\"class\": \"ReLU\", \"kargs\": {\"inplace\": true}}, {\"class\": \"BatchNorm1d\", \"kargs\": {\"num_features\": 256}}, {\"class\": \"Linear\", \"kargs\": {\"in_features\": 256, \"out_features\": 256}}], \"NUM_LOGS_PER_EPOCH\": 10, \"BEST_MODEL_PATH\": \"./best_model.pth\", \"n_way\": 58, \"datasets\": [{\"labels\": [\"1-10.\", \"1-11.\", \"1-15.\", \"1-16.\", \"1-17.\", \"1-18.\", \"1-19.\", \"10-4.\", \"10-7.\", \"11-1.\", \"11-14.\", \"11-17.\", \"11-20.\", \"11-7.\", \"13-20.\", \"13-8.\", \"14-10.\", \"14-11.\", \"14-14.\", \"14-7.\", \"15-1.\", \"15-20.\", \"16-1.\", \"16-16.\", \"17-10.\", \"17-11.\", \"17-2.\", \"19-1.\", \"19-16.\", \"19-19.\", \"19-20.\", \"19-3.\", \"2-10.\", \"2-11.\", \"2-17.\", \"2-18.\", \"2-20.\", \"2-3.\", \"2-4.\", \"2-5.\", \"2-6.\", \"2-7.\", \"2-8.\", \"3-13.\", \"3-18.\", \"3-3.\", \"4-1.\", \"4-10.\", \"4-11.\", \"4-19.\", \"5-5.\", \"6-15.\", \"7-10.\", \"7-14.\", \"8-18.\", \"8-20.\", \"8-3.\", \"8-8.\"], \"domains\": [1, 2, 3, 4, 5], \"num_examples_per_domain_per_label\": -1, \"pickle_path\": \"/root/csc500-main/datasets/cores.stratified_ds.2022A.pkl\", \"source_or_target_dataset\": \"source\", \"x_transforms\": [\"unit_mag\"], \"episode_transforms\": [], \"domain_prefix\": \"CORES_\"}, {\"labels\": [\"1-10\", \"1-12\", \"1-14\", \"1-16\", \"1-18\", \"1-19\", \"1-8\", \"10-11\", \"10-17\", \"10-4\", \"10-7\", \"11-1\", \"11-10\", \"11-19\", \"11-20\", \"11-4\", \"11-7\", \"12-19\", \"12-20\", \"12-7\", \"13-14\", \"13-18\", \"13-19\", \"13-20\", \"13-3\", \"13-7\", \"14-10\", \"14-11\", \"14-12\", \"14-13\", \"14-14\", \"14-19\", \"14-20\", \"14-7\", \"14-8\", \"14-9\", \"15-1\", \"15-19\", \"15-6\", \"16-1\", \"16-16\", \"16-19\", \"16-20\", \"17-10\", \"17-11\", \"18-1\", \"18-10\", \"18-11\", \"18-12\", \"18-13\", \"18-14\", \"18-15\", \"18-16\", \"18-17\", \"18-19\", \"18-2\", \"18-20\", \"18-4\", \"18-5\", \"18-7\", \"18-8\", \"18-9\", \"19-1\", \"19-10\", \"19-11\", \"19-12\", \"19-13\", \"19-14\", \"19-15\", \"19-19\", \"19-2\", \"19-20\", \"19-3\", \"19-4\", \"19-6\", \"19-7\", \"19-8\", \"19-9\", \"2-1\", \"2-13\", \"2-15\", \"2-3\", \"2-4\", \"2-5\", \"2-6\", \"2-7\", \"2-8\", \"20-1\", \"20-12\", \"20-14\", \"20-15\", \"20-16\", \"20-18\", \"20-19\", \"20-20\", \"20-3\", \"20-4\", \"20-5\", \"20-7\", \"20-8\", \"3-1\", \"3-13\", \"3-18\", \"3-2\", \"3-8\", \"4-1\", \"4-10\", \"4-11\", \"5-1\", \"5-5\", \"6-1\", \"6-15\", \"6-6\", \"7-10\", \"7-11\", \"7-12\", \"7-13\", \"7-14\", \"7-7\", \"7-8\", \"7-9\", \"8-1\", \"8-13\", \"8-14\", \"8-18\", \"8-20\", \"8-3\", \"8-8\", \"9-1\", \"9-7\"], \"domains\": [1, 2, 3, 4], \"num_examples_per_domain_per_label\": -1, \"pickle_path\": \"/root/csc500-main/datasets/wisig.node3-19.stratified_ds.2022A.pkl\", \"source_or_target_dataset\": \"target\", \"x_transforms\": [\"unit_mag\"], \"episode_transforms\": [], \"domain_prefix\": \"Wisig_\"}], \"dataset_seed\": 7, \"seed\": 7, \"x_shape\": [2, 256], \"domains_source\": [\"CORES_1\", \"CORES_2\", \"CORES_3\", \"CORES_4\", \"CORES_5\"], \"domains_target\": [\"Wisig_1\", \"Wisig_2\", \"Wisig_3\", \"Wisig_4\"]}, \"results\": {\"source_test_label_accuracy\": 0.9975862068965518, \"source_test_label_loss\": 0.02230328507721424, \"target_test_label_accuracy\": 0.7125356494684988, \"target_test_label_loss\": 1.7850286960601807, \"source_val_label_accuracy\": 0.9980244252873564, \"source_val_label_loss\": 0.022382162511348724, \"target_val_label_accuracy\": 0.7059536637931034, \"target_val_label_loss\": 1.8444671630859375, \"total_epochs_trained\": 3, \"total_experiment_time_secs\": 181.91527438163757, \"confusion\": {\"CORES_5\": {\"8\": {\"8\": 20}, \"12\": {\"12\": 20}, \"52\": {\"52\": 20}, \"16\": {\"16\": 20}, \"30\": {\"30\": 20}, \"26\": {\"26\": 20}, \"22\": {\"22\": 20}, \"49\": {\"49\": 20}, \"3\": {\"3\": 20}, \"6\": {\"6\": 20}, \"45\": {\"45\": 20}, \"37\": {\"37\": 20}, \"7\": {\"7\": 20}, \"33\": {\"33\": 20}, \"21\": {\"21\": 20}, \"10\": {\"10\": 20}, \"54\": {\"54\": 20}, \"41\": {\"41\": 20}, \"34\": {\"34\": 20}, \"55\": {\"55\": 20}, \"23\": {\"23\": 20}, \"43\": {\"43\": 20}, \"2\": {\"2\": 20}, \"11\": {\"11\": 20}, \"18\": {\"18\": 20}, \"1\": {\"1\": 20}, \"17\": {\"17\": 20}, \"35\": {\"35\": 20}, \"39\": {\"39\": 20}, \"28\": {\"28\": 20}, \"42\": {\"42\": 18, \"41\": 2}, \"36\": {\"36\": 19, \"33\": 1}, \"56\": {\"56\": 20}, \"38\": {\"38\": 20}, \"44\": {\"44\": 20}, \"19\": {\"19\": 20}, \"5\": {\"5\": 20}, \"57\": {\"57\": 20}, \"47\": {\"47\": 20}, \"24\": {\"24\": 20}, \"50\": {\"50\": 20}, \"53\": {\"53\": 20}, \"15\": {\"15\": 19, \"11\": 1}, \"31\": {\"31\": 20}, \"48\": {\"48\": 20}, \"40\": {\"40\": 20}, \"32\": {\"32\": 20}, \"46\": {\"46\": 20}, \"9\": {\"9\": 20}, \"4\": {\"4\": 20}, \"0\": {\"0\": 20}, \"51\": {\"51\": 20}, \"13\": {\"13\": 20}, \"20\": {\"20\": 20}, \"27\": {\"27\": 20}, \"14\": {\"14\": 20}, \"29\": {\"29\": 20}, \"25\": {\"25\": 20}}, \"CORES_1\": {\"10\": {\"10\": 24}, \"30\": {\"30\": 24}, \"38\": {\"38\": 24}, \"0\": {\"0\": 24}, \"9\": {\"9\": 24}, \"44\": {\"44\": 24}, \"35\": {\"35\": 24}, \"19\": {\"19\": 24}, \"4\": {\"4\": 24}, \"57\": {\"57\": 24}, \"12\": {\"12\": 24}, \"47\": {\"47\": 24}, \"16\": {\"16\": 24}, \"2\": {\"2\": 24}, \"36\": {\"36\": 24}, \"25\": {\"25\": 24}, \"54\": {\"54\": 24}, \"14\": {\"14\": 24}, \"24\": {\"24\": 24}, \"27\": {\"27\": 24}, \"48\": {\"48\": 24}, \"50\": {\"50\": 24}, \"51\": {\"51\": 24}, \"29\": {\"29\": 24}, \"17\": {\"17\": 24}, \"55\": {\"55\": 24}, \"32\": {\"32\": 24}, \"41\": {\"41\": 24}, \"33\": {\"33\": 24}, \"15\": {\"15\": 24}, \"31\": {\"31\": 24}, \"8\": {\"8\": 24}, \"28\": {\"28\": 24}, \"22\": {\"22\": 24}, \"43\": {\"43\": 24}, \"49\": {\"49\": 24}, \"52\": {\"52\": 24}, \"18\": {\"18\": 24}, \"40\": {\"40\": 24}, \"34\": {\"34\": 24}, \"45\": {\"45\": 24}, \"42\": {\"42\": 24}, \"7\": {\"7\": 24}, \"5\": {\"5\": 24}, \"56\": {\"56\": 24}, \"23\": {\"23\": 24}, \"46\": {\"46\": 24}, \"1\": {\"1\": 24}, \"20\": {\"20\": 24}, \"6\": {\"6\": 23, \"2\": 1}, \"26\": {\"26\": 24}, \"11\": {\"11\": 24}, \"39\": {\"39\": 24}, \"21\": {\"21\": 24}, \"3\": {\"3\": 24}, \"13\": {\"13\": 24}, \"37\": {\"37\": 24}, \"53\": {\"53\": 24}}, \"CORES_3\": {\"12\": {\"12\": 16}, \"8\": {\"8\": 16}, \"56\": {\"56\": 16}, \"53\": {\"53\": 16}, \"41\": {\"41\": 16}, \"51\": {\"51\": 16}, \"39\": {\"39\": 16}, \"46\": {\"46\": 16}, \"36\": {\"36\": 16}, \"11\": {\"11\": 16}, \"10\": {\"10\": 16}, \"48\": {\"48\": 16}, \"22\": {\"22\": 16}, \"21\": {\"21\": 16}, \"40\": {\"40\": 16}, \"47\": {\"47\": 16}, \"23\": {\"23\": 16}, \"45\": {\"45\": 16}, \"44\": {\"44\": 16}, \"7\": {\"7\": 16}, \"1\": {\"1\": 16}, \"16\": {\"16\": 16}, \"17\": {\"17\": 16}, \"55\": {\"55\": 16}, \"9\": {\"9\": 16}, \"6\": {\"6\": 16}, \"52\": {\"52\": 16}, \"43\": {\"43\": 16}, \"54\": {\"54\": 16}, \"0\": {\"0\": 16}, \"26\": {\"26\": 16}, \"35\": {\"35\": 16}, \"28\": {\"28\": 16}, \"15\": {\"15\": 15, \"11\": 1}, \"57\": {\"57\": 16}, \"30\": {\"30\": 16}, \"2\": {\"2\": 16}, \"13\": {\"13\": 16}, \"31\": {\"31\": 16}, \"32\": {\"32\": 16}, \"19\": {\"19\": 16}, \"34\": {\"34\": 16}, \"38\": {\"38\": 16}, \"37\": {\"37\": 16}, \"5\": {\"5\": 16}, \"18\": {\"18\": 16}, \"3\": {\"3\": 16}, \"25\": {\"25\": 16}, \"24\": {\"24\": 16}, \"27\": {\"27\": 16}, \"29\": {\"29\": 16}, \"4\": {\"4\": 16}, \"14\": {\"14\": 16}, \"33\": {\"33\": 15, \"6\": 1}, \"50\": {\"50\": 16}, \"49\": {\"49\": 16}, \"42\": {\"42\": 16}, \"20\": {\"20\": 16}}, \"CORES_4\": {\"40\": {\"40\": 16}, \"12\": {\"12\": 16}, \"30\": {\"30\": 16}, \"35\": {\"35\": 16}, \"18\": {\"18\": 16}, \"27\": {\"27\": 16}, \"33\": {\"33\": 16}, \"21\": {\"21\": 16}, \"54\": {\"54\": 16}, \"41\": {\"41\": 16}, \"44\": {\"44\": 16}, \"32\": {\"32\": 16}, \"45\": {\"45\": 16}, \"49\": {\"49\": 16}, \"16\": {\"16\": 16}, \"51\": {\"51\": 16}, \"9\": {\"9\": 16}, \"39\": {\"39\": 16}, \"1\": {\"1\": 16}, \"47\": {\"47\": 16}, \"31\": {\"31\": 16}, \"8\": {\"8\": 16}, \"17\": {\"17\": 16}, \"25\": {\"25\": 16}, \"11\": {\"11\": 16}, \"2\": {\"2\": 16}, \"19\": {\"19\": 16}, \"57\": {\"57\": 16}, \"6\": {\"6\": 15, \"3\": 1}, \"14\": {\"14\": 16}, \"42\": {\"42\": 16}, \"7\": {\"7\": 16}, \"34\": {\"34\": 16}, \"5\": {\"5\": 16}, \"20\": {\"20\": 16}, \"53\": {\"53\": 16}, \"24\": {\"24\": 16}, \"43\": {\"43\": 16}, \"50\": {\"50\": 16}, \"23\": {\"23\": 16}, \"26\": {\"26\": 16}, \"0\": {\"0\": 16}, \"13\": {\"13\": 16}, \"52\": {\"52\": 16}, \"29\": {\"29\": 16}, \"55\": {\"55\": 16}, \"48\": {\"48\": 16}, \"4\": {\"4\": 16}, \"38\": {\"38\": 16}, \"46\": {\"46\": 16}, \"3\": {\"3\": 16}, \"36\": {\"36\": 16}, \"10\": {\"10\": 16}, \"56\": {\"56\": 16}, \"37\": {\"37\": 16}, \"15\": {\"15\": 15, \"11\": 1}, \"28\": {\"28\": 16}, \"22\": {\"22\": 16}}, \"CORES_2\": {\"13\": {\"13\": 20}, \"28\": {\"28\": 20}, \"32\": {\"32\": 20}, \"26\": {\"26\": 20}, \"24\": {\"24\": 20}, \"6\": {\"6\": 20}, \"51\": {\"51\": 20}, \"23\": {\"23\": 20}, \"37\": {\"37\": 20}, \"10\": {\"10\": 20}, \"25\": {\"25\": 20}, \"27\": {\"27\": 20}, \"19\": {\"19\": 20}, \"21\": {\"21\": 20}, \"50\": {\"50\": 20}, \"3\": {\"3\": 20}, \"40\": {\"40\": 20}, \"15\": {\"15\": 20}, \"5\": {\"5\": 20}, \"41\": {\"41\": 20}, \"46\": {\"46\": 20}, \"7\": {\"7\": 20}, \"16\": {\"16\": 20}, \"30\": {\"30\": 20}, \"22\": {\"22\": 20}, \"33\": {\"33\": 20}, \"45\": {\"45\": 20}, \"47\": {\"47\": 20}, \"57\": {\"57\": 20}, \"29\": {\"29\": 20}, \"38\": {\"38\": 20}, \"14\": {\"14\": 20}, \"20\": {\"20\": 19, \"50\": 1}, \"42\": {\"42\": 20}, \"54\": {\"54\": 20}, \"36\": {\"36\": 20}, \"1\": {\"1\": 19, \"42\": 1}, \"8\": {\"8\": 20}, \"49\": {\"49\": 20}, \"4\": {\"4\": 20}, \"2\": {\"2\": 20}, \"31\": {\"31\": 20}, \"0\": {\"0\": 20}, \"11\": {\"11\": 20}, \"9\": {\"9\": 20}, \"43\": {\"43\": 20}, \"55\": {\"55\": 20}, \"56\": {\"56\": 20}, \"12\": {\"12\": 20}, \"52\": {\"52\": 20}, \"39\": {\"39\": 20}, \"35\": {\"35\": 20}, \"17\": {\"17\": 20}, \"34\": {\"34\": 20}, \"53\": {\"53\": 20}, \"44\": {\"44\": 20}, \"48\": {\"48\": 20}, \"18\": {\"18\": 20}}, \"Wisig_4\": {\"57\": {\"84\": 1, \"67\": 1, \"57\": 12, \"102\": 2}, \"125\": {\"85\": 2, \"125\": 30, \"34\": 1, \"103\": 1, \"51\": 3, \"6\": 1, \"52\": 1, \"15\": 1, \"94\": 1, \"99\": 1}, \"63\": {\"63\": 16}, \"71\": {\"71\": 30, \"114\": 6, \"128\": 1, \"100\": 1}, \"116\": {\"28\": 1, \"116\": 13, \"84\": 3, \"45\": 2, \"102\": 2, \"96\": 4, \"38\": 2, \"33\": 1}, \"52\": {\"52\": 19, \"8\": 1}, \"0\": {\"0\": 26, \"120\": 1, \"51\": 1, \"34\": 3, \"14\": 2, \"101\": 6, \"115\": 1, \"21\": 2}, \"69\": {\"69\": 38, \"31\": 1, \"118\": 2, \"84\": 1}, \"105\": {\"105\": 31, \"78\": 1, \"21\": 3, \"87\": 3, \"40\": 3, \"122\": 1, \"89\": 1, \"4\": 1}, \"43\": {\"96\": 2, \"107\": 2, \"90\": 2, \"33\": 8, \"43\": 16, \"128\": 1, \"99\": 4, \"122\": 5, \"109\": 1, \"84\": 1, \"23\": 1, \"116\": 1, \"66\": 1, \"78\": 1}, \"4\": {\"4\": 29, \"95\": 4, \"86\": 3}, \"5\": {\"5\": 31, \"88\": 2, \"73\": 2, \"122\": 1, \"49\": 2, \"11\": 2}, \"44\": {\"44\": 39, \"50\": 1, \"11\": 1, \"2\": 1, \"39\": 1, \"33\": 1}, \"24\": {\"97\": 3, \"25\": 2, \"27\": 5, \"24\": 8, \"88\": 2, \"78\": 1, \"36\": 6, \"112\": 1, \"10\": 1, \"54\": 1}, \"107\": {\"107\": 34, \"78\": 1, \"87\": 1}, \"26\": {\"26\": 34, \"21\": 2, \"61\": 3, \"110\": 1}, \"90\": {\"90\": 35, \"20\": 1, \"66\": 2}, \"100\": {\"100\": 16, \"19\": 2, \"60\": 1, \"72\": 1}, \"18\": {\"23\": 1, \"18\": 35, \"108\": 1, \"117\": 3, \"26\": 2}, \"72\": {\"72\": 25, \"36\": 1, \"110\": 3, \"1\": 2, \"111\": 1}, \"81\": {\"81\": 25, \"78\": 1, \"117\": 5, \"84\": 1, \"21\": 1, \"102\": 1}, \"96\": {\"58\": 1, \"96\": 9, \"45\": 4, \"40\": 1, \"32\": 1, \"116\": 1, \"76\": 1, \"77\": 2}, \"37\": {\"104\": 2, \"107\": 1, \"37\": 11, \"120\": 1, \"55\": 1}, \"67\": {\"123\": 5, \"69\": 3, \"63\": 2, \"99\": 2, \"64\": 1, \"76\": 1, \"122\": 2}, \"76\": {\"76\": 11, \"31\": 2, \"40\": 1, \"104\": 1, \"81\": 1}, \"108\": {\"108\": 14, \"5\": 3, \"93\": 1, \"73\": 3, \"88\": 2, \"129\": 1, \"1\": 2, \"70\": 1, \"46\": 1, \"71\": 1, \"78\": 1, \"49\": 2, \"30\": 1, \"94\": 1, \"85\": 1, \"3\": 1, \"11\": 1, \"60\": 1, \"91\": 2, \"72\": 2}, \"50\": {\"50\": 16}, \"10\": {\"85\": 1, \"120\": 1, \"58\": 2, \"70\": 2, \"10\": 6, \"15\": 4, \"125\": 1, \"30\": 1, \"108\": 1, \"6\": 7, \"88\": 1, \"21\": 1, \"24\": 1, \"94\": 2, \"78\": 1}, \"126\": {\"126\": 24, \"39\": 6, \"113\": 2}, \"109\": {\"69\": 2, \"109\": 21, \"31\": 1, \"118\": 8, \"120\": 1, \"45\": 1, \"21\": 1, \"16\": 3}, \"84\": {\"84\": 26, \"57\": 1, \"69\": 1, \"33\": 1, \"109\": 1, \"102\": 7, \"21\": 1}, \"99\": {\"99\": 31, \"45\": 3, \"122\": 2, \"33\": 1, \"87\": 1, \"43\": 1, \"21\": 1}, \"17\": {\"17\": 19, \"104\": 1}, \"129\": {\"5\": 2, \"129\": 12, \"80\": 1, \"46\": 1, \"100\": 1, \"108\": 2, \"93\": 1, \"49\": 1, \"20\": 2, \"73\": 1, \"44\": 1, \"3\": 1, \"119\": 2}, \"111\": {\"111\": 27, \"21\": 1, \"12\": 3, \"98\": 3}, \"13\": {\"13\": 13, \"54\": 1, \"102\": 2}, \"75\": {\"75\": 15, \"25\": 1}, \"65\": {\"65\": 11, \"81\": 1}, \"112\": {\"112\": 16}, \"120\": {\"32\": 2, \"120\": 15, \"122\": 2, \"40\": 1}, \"97\": {\"10\": 2, \"97\": 9, \"36\": 4, \"15\": 1, \"94\": 1, \"24\": 1, \"88\": 1, \"9\": 1}, \"123\": {\"123\": 14, \"63\": 2}, \"32\": {\"69\": 3, \"32\": 12, \"96\": 1, \"31\": 1, \"120\": 1, \"115\": 2, \"7\": 1, \"118\": 2, \"82\": 1}, \"70\": {\"129\": 2, \"88\": 3, \"27\": 1, \"1\": 1, \"70\": 5, \"60\": 1, \"80\": 1, \"108\": 6, \"26\": 1, \"3\": 4, \"42\": 1, \"93\": 1, \"49\": 4, \"23\": 1, \"100\": 1, \"10\": 1, \"43\": 1, \"8\": 1}, \"104\": {\"104\": 13, \"17\": 3}, \"121\": {\"121\": 21, \"26\": 1, \"39\": 1, \"81\": 3, \"2\": 1, \"63\": 2, \"117\": 1, \"113\": 2}, \"113\": {\"121\": 8, \"113\": 25, \"63\": 1, \"39\": 5, \"2\": 2, \"81\": 1}, \"85\": {\"52\": 4, \"85\": 18, \"91\": 1, \"21\": 2, \"103\": 2, \"97\": 1}, \"53\": {\"53\": 15, \"52\": 1}, \"23\": {\"37\": 1, \"113\": 2, \"123\": 2, \"3\": 1, \"103\": 2, \"121\": 1, \"126\": 2, \"21\": 2, \"63\": 1, \"34\": 1, \"39\": 1}, \"59\": {\"59\": 7, \"125\": 3, \"21\": 1, \"22\": 1}, \"45\": {\"96\": 1, \"116\": 1, \"45\": 14}, \"58\": {\"58\": 11, \"68\": 2, \"30\": 1, \"91\": 2}, \"42\": {\"53\": 2, \"52\": 1, \"111\": 2, \"112\": 1, \"108\": 1, \"70\": 2, \"42\": 9, \"9\": 1, \"73\": 3, \"8\": 1, \"124\": 1, \"49\": 1, \"27\": 2, \"98\": 1}, \"28\": {\"28\": 16, \"116\": 4}, \"47\": {\"75\": 4, \"27\": 1, \"47\": 3, \"120\": 1, \"77\": 3}, \"11\": {\"108\": 5, \"11\": 33, \"20\": 2, \"79\": 2, \"88\": 1, \"70\": 1, \"83\": 1, \"93\": 1}, \"101\": {\"101\": 25, \"0\": 10, \"105\": 1, \"29\": 1, \"7\": 1}, \"95\": {\"95\": 27, \"127\": 2, \"4\": 1}, \"86\": {\"86\": 26, \"127\": 1, \"29\": 1}, \"19\": {\"93\": 3, \"129\": 1, \"72\": 2, \"103\": 1, \"19\": 4, \"3\": 1, \"80\": 1, \"49\": 1, \"108\": 1, \"100\": 2, \"73\": 1, \"21\": 1, \"128\": 1, \"119\": 1, \"60\": 1, \"5\": 1, \"111\": 1}, \"55\": {\"55\": 16}, \"20\": {\"20\": 9, \"1\": 1, \"108\": 4, \"23\": 1, \"88\": 1}, \"118\": {\"69\": 3, \"126\": 1, \"118\": 17, \"109\": 5, \"62\": 2, \"21\": 1, \"16\": 1, \"31\": 2}, \"36\": {\"24\": 4, \"25\": 2, \"36\": 19, \"97\": 6, \"27\": 2, \"21\": 2, \"125\": 1, \"9\": 3, \"108\": 1, \"94\": 2}, \"21\": {\"21\": 36, \"22\": 1, \"78\": 1}, \"39\": {\"81\": 4, \"126\": 3, \"39\": 18, \"121\": 3, \"117\": 4, \"21\": 2, \"113\": 2, \"65\": 1, \"78\": 1}, \"29\": {\"29\": 28, \"127\": 3, \"21\": 1}, \"122\": {\"122\": 19, \"84\": 1, \"96\": 2, \"23\": 1, \"99\": 8, \"43\": 5, \"87\": 2, \"107\": 1, \"102\": 2, \"39\": 1}, \"68\": {\"68\": 16}, \"114\": {\"21\": 3, \"114\": 27, \"71\": 5, \"124\": 1, \"126\": 1, \"3\": 1}, \"12\": {\"59\": 1, \"68\": 2, \"12\": 23, \"85\": 1, \"106\": 2, \"15\": 1, \"111\": 2, \"78\": 1, \"8\": 1}, \"64\": {\"64\": 13, \"21\": 1, \"67\": 2}, \"94\": {\"94\": 14, \"36\": 3, \"54\": 2, \"6\": 1, \"97\": 4, \"125\": 5, \"27\": 1, \"21\": 1, \"15\": 1}, \"27\": {\"108\": 2, \"112\": 1, \"10\": 1, \"70\": 4, \"9\": 5, \"27\": 14, \"36\": 1, \"15\": 1, \"98\": 1}, \"117\": {\"117\": 27, \"18\": 5, \"81\": 4}, \"8\": {\"8\": 22, \"52\": 1, \"124\": 2, \"100\": 1, \"111\": 4, \"60\": 1, \"34\": 1}, \"33\": {\"33\": 36}, \"80\": {\"80\": 12, \"5\": 2, \"23\": 1, \"20\": 1}, \"35\": {\"35\": 7, \"23\": 1, \"26\": 1, \"61\": 3}, \"54\": {\"54\": 16}, \"25\": {\"25\": 11, \"15\": 1}, \"87\": {\"21\": 1, \"105\": 8, \"78\": 2, \"87\": 9, \"115\": 1, \"107\": 3, \"40\": 5, \"122\": 1, \"43\": 1, \"45\": 1, \"99\": 1, \"60\": 1}, \"74\": {\"74\": 10, \"66\": 2, \"78\": 1, \"21\": 1, \"90\": 1, \"88\": 1}, \"93\": {\"93\": 25, \"11\": 1, \"88\": 1, \"108\": 1, \"110\": 1, \"73\": 4, \"19\": 2, \"70\": 1}, \"40\": {\"40\": 27, \"78\": 1, \"105\": 1, \"107\": 4, \"21\": 1}, \"88\": {\"126\": 2, \"88\": 8, \"124\": 2, \"73\": 1, \"49\": 3, \"46\": 1, \"5\": 1, \"60\": 2, \"70\": 1, \"93\": 2, \"108\": 5, \"21\": 2, \"23\": 2, \"35\": 1, \"129\": 2, \"78\": 1, \"42\": 1, \"113\": 1}, \"1\": {\"1\": 24, \"114\": 2, \"124\": 2, \"42\": 2, \"71\": 6, \"10\": 1, \"60\": 1, \"3\": 1, \"72\": 1, \"21\": 1, \"25\": 1}, \"66\": {\"66\": 10, \"38\": 2, \"90\": 4}, \"15\": {\"15\": 31, \"8\": 1, \"1\": 1, \"6\": 3, \"10\": 2, \"30\": 2}, \"78\": {\"78\": 10, \"99\": 1, \"122\": 1, \"128\": 4, \"21\": 5, \"29\": 1, \"107\": 2, \"51\": 1, \"93\": 1, \"105\": 1, \"34\": 2, \"88\": 2, \"81\": 1, \"87\": 1, \"113\": 2, \"14\": 1}, \"73\": {\"73\": 18, \"29\": 2, \"5\": 4}, \"60\": {\"8\": 5, \"72\": 4, \"44\": 5, \"14\": 2, \"100\": 3, \"60\": 6, \"11\": 1, \"116\": 1, \"28\": 1, \"79\": 2, \"50\": 1, \"110\": 1}, \"115\": {\"37\": 1, \"96\": 1, \"50\": 1, \"115\": 8, \"120\": 3, \"69\": 1, \"1\": 1}, \"3\": {\"60\": 1, \"124\": 4, \"114\": 7, \"3\": 22, \"46\": 2, \"71\": 2, \"1\": 3, \"19\": 1, \"72\": 1, \"129\": 1}, \"38\": {\"38\": 16}, \"102\": {\"102\": 39, \"84\": 1}, \"2\": {\"18\": 5, \"26\": 6, \"73\": 1, \"2\": 6, \"93\": 3, \"90\": 1, \"108\": 1, \"67\": 2, \"3\": 2, \"88\": 1}, \"51\": {\"59\": 1, \"106\": 1, \"101\": 1, \"77\": 1, \"127\": 1, \"125\": 4, \"51\": 1, \"12\": 2, \"34\": 1, \"91\": 1, \"41\": 1, \"21\": 1}, \"89\": {\"89\": 29, \"21\": 1, \"7\": 2}, \"106\": {\"106\": 26, \"129\": 1, \"111\": 1, \"21\": 1, \"12\": 3, \"124\": 1, \"49\": 1}, \"124\": {\"124\": 39, \"60\": 1, \"49\": 1, \"98\": 1, \"128\": 2, \"114\": 1, \"72\": 1}, \"9\": {\"9\": 28}, \"22\": {\"22\": 16}, \"79\": {\"79\": 16}, \"6\": {\"15\": 4, \"125\": 6, \"51\": 3, \"6\": 11}, \"34\": {\"34\": 12, \"6\": 2, \"75\": 2, \"7\": 2, \"125\": 5, \"4\": 1, \"14\": 2, \"87\": 1, \"128\": 1, \"78\": 1, \"127\": 1, \"105\": 1, \"94\": 1}, \"91\": {\"68\": 1, \"91\": 13, \"103\": 3, \"52\": 2, \"30\": 1, \"57\": 1, \"4\": 1, \"12\": 2}, \"61\": {\"18\": 1, \"61\": 10, \"35\": 3, \"26\": 2}, \"110\": {\"110\": 20, \"96\": 2, \"21\": 3, \"60\": 1, \"43\": 6, \"122\": 2, \"72\": 1, \"88\": 1}, \"127\": {\"127\": 27, \"29\": 2, \"23\": 1, \"86\": 1, \"4\": 5, \"95\": 2}, \"77\": {\"77\": 12}, \"31\": {\"31\": 12, \"76\": 2, \"109\": 2}, \"30\": {\"30\": 7, \"58\": 1, \"10\": 4, \"8\": 4, \"49\": 2, \"6\": 2, \"15\": 2, \"60\": 2, \"51\": 1, \"34\": 2, \"27\": 1, \"29\": 1, \"114\": 1}, \"98\": {\"98\": 29, \"36\": 1}, \"49\": {\"15\": 3, \"79\": 3, \"103\": 1, \"123\": 1, \"49\": 3, \"119\": 1, \"83\": 1, \"30\": 3, \"39\": 1, \"11\": 8, \"8\": 1, \"10\": 1, \"80\": 1, \"91\": 1, \"12\": 1, \"100\": 1, \"5\": 1}, \"7\": {\"107\": 1, \"95\": 1, \"7\": 26, \"86\": 1, \"4\": 2, \"89\": 1}, \"92\": {\"69\": 5, \"92\": 20, \"16\": 3}, \"46\": {\"69\": 1, \"46\": 13, \"124\": 2, \"3\": 1, \"114\": 1, \"129\": 1, \"8\": 1}, \"119\": {\"119\": 15, \"97\": 1}, \"103\": {\"68\": 1, \"103\": 15}, \"16\": {\"16\": 29, \"84\": 2, \"109\": 1}, \"62\": {\"62\": 28, \"118\": 4, \"32\": 1, \"69\": 1, \"76\": 2}, \"56\": {\"56\": 12}, \"14\": {\"14\": 32, \"43\": 1, \"32\": 2, \"110\": 1}, \"41\": {\"53\": 1, \"78\": 1, \"41\": 5, \"111\": 3, \"12\": 1, \"114\": 1, \"103\": 1, \"91\": 1, \"34\": 1, \"98\": 1}, \"128\": {\"124\": 5, \"128\": 8, \"43\": 2, \"129\": 1, \"72\": 1, \"46\": 1, \"115\": 1, \"1\": 2, \"71\": 1, \"28\": 1, \"60\": 1}, \"83\": {\"83\": 17, \"12\": 1, \"106\": 1, \"11\": 1, \"80\": 2, \"49\": 2, \"42\": 1, \"5\": 1}, \"48\": {\"48\": 14, \"44\": 1, \"88\": 1}, \"82\": {\"32\": 3, \"82\": 16, \"89\": 2, \"55\": 1, \"76\": 1, \"17\": 1}}, \"Wisig_1\": {\"76\": {\"76\": 12, \"62\": 4}, \"55\": {\"55\": 11, \"35\": 1}, \"89\": {\"89\": 15, \"15\": 1, \"12\": 2, \"86\": 4, \"49\": 1, \"103\": 2, \"33\": 1, \"46\": 1, \"9\": 1}, \"19\": {\"19\": 18, \"84\": 1, \"64\": 2, \"44\": 3, \"129\": 1, \"104\": 1, \"82\": 1, \"83\": 1}, \"124\": {\"124\": 37, \"70\": 1, \"1\": 1, \"128\": 1, \"44\": 2}, \"97\": {\"97\": 8, \"66\": 1, \"27\": 2, \"47\": 2, \"96\": 1, \"15\": 3, \"24\": 2, \"108\": 1}, \"21\": {\"78\": 2, \"21\": 18, \"90\": 4, \"117\": 1, \"83\": 1, \"108\": 1, \"25\": 1, \"60\": 1, \"84\": 4, \"87\": 1, \"18\": 1, \"120\": 1, \"8\": 1, \"22\": 1, \"91\": 1, \"70\": 1}, \"45\": {\"82\": 1, \"21\": 1, \"42\": 1, \"104\": 1, \"11\": 1, \"45\": 1, \"78\": 1, \"1\": 1, \"3\": 1, \"20\": 1, \"129\": 2}, \"6\": {\"98\": 2, \"52\": 4, \"6\": 14, \"51\": 5, \"101\": 1, \"125\": 1, \"68\": 2, \"91\": 1, \"127\": 1, \"30\": 1}, \"105\": {\"105\": 29, \"40\": 7, \"4\": 2}, \"117\": {\"117\": 34, \"78\": 1, \"13\": 1, \"39\": 2}, \"37\": {\"37\": 16}, \"11\": {\"11\": 23, \"21\": 2, \"20\": 2, \"33\": 5, \"39\": 2, \"116\": 1, \"13\": 1, \"23\": 1, \"82\": 1}, \"88\": {\"36\": 5, \"97\": 1, \"96\": 1, \"88\": 10, \"27\": 7, \"24\": 8, \"94\": 2}, \"90\": {\"90\": 36}, \"74\": {\"74\": 16}, \"52\": {\"52\": 19, \"6\": 1}, \"92\": {\"92\": 28}, \"128\": {\"72\": 5, \"115\": 3, \"114\": 4, \"128\": 6, \"44\": 1, \"49\": 1, \"119\": 1, \"82\": 1, \"1\": 1, \"5\": 1}, \"59\": {\"59\": 12}, \"98\": {\"98\": 42}, \"82\": {\"82\": 27, \"45\": 1}, \"32\": {\"56\": 2, \"32\": 21, \"75\": 1, \"0\": 1, \"58\": 3, \"110\": 2, \"41\": 2}, \"94\": {\"6\": 1, \"59\": 1, \"94\": 28, \"12\": 1, \"15\": 2, \"88\": 1, \"71\": 2}, \"125\": {\"125\": 29, \"89\": 1, \"6\": 2, \"46\": 1, \"53\": 1, \"71\": 3, \"59\": 1}, \"78\": {\"21\": 1, \"43\": 2, \"76\": 1, \"78\": 4, \"40\": 1, \"87\": 1, \"16\": 1, \"69\": 1, \"65\": 1, \"57\": 1, \"81\": 1, \"105\": 1}, \"118\": {\"118\": 37, \"113\": 1}, \"129\": {\"19\": 4, \"72\": 1, \"129\": 7, \"29\": 1, \"3\": 2, \"64\": 1, \"109\": 1, \"44\": 3, \"2\": 4, \"45\": 1, \"100\": 1, \"94\": 1, \"42\": 1}, \"91\": {\"68\": 4, \"91\": 17, \"71\": 1, \"6\": 2, \"127\": 3, \"111\": 1}, \"22\": {\"87\": 1, \"22\": 12, \"91\": 1, \"81\": 1, \"90\": 1}, \"15\": {\"15\": 19, \"71\": 1, \"27\": 4, \"49\": 1, \"103\": 1, \"88\": 1, \"21\": 2, \"111\": 1}, \"87\": {\"22\": 1, \"87\": 17, \"7\": 5, \"34\": 2, \"8\": 4, \"105\": 4, \"84\": 1, \"77\": 1, \"107\": 1, \"40\": 1, \"93\": 1}, \"66\": {\"66\": 16}, \"30\": {\"30\": 20, \"127\": 2, \"112\": 1, \"101\": 2, \"52\": 4, \"12\": 1, \"83\": 2, \"107\": 2, \"6\": 1, \"71\": 3}, \"46\": {\"45\": 1, \"54\": 1, \"8\": 1, \"12\": 1, \"17\": 2, \"94\": 1, \"46\": 2, \"111\": 1, \"106\": 1, \"53\": 1}, \"112\": {\"112\": 15, \"6\": 1}, \"28\": {\"28\": 14, \"43\": 6}, \"123\": {\"123\": 15, \"63\": 1}, \"12\": {\"91\": 2, \"52\": 1, \"12\": 25, \"59\": 1, \"113\": 1, \"106\": 3, \"53\": 2, \"21\": 2, \"49\": 1, \"5\": 1, \"111\": 1, \"6\": 1, \"71\": 1}, \"16\": {\"16\": 36, \"117\": 2}, \"36\": {\"36\": 24, \"88\": 7, \"113\": 1}, \"108\": {\"108\": 14, \"109\": 4, \"97\": 1, \"9\": 2, \"44\": 3, \"47\": 1, \"27\": 2, \"70\": 3}, \"29\": {\"45\": 1, \"29\": 25, \"5\": 1, \"83\": 1}, \"116\": {\"116\": 13, \"11\": 2, \"65\": 1, \"102\": 7, \"87\": 1, \"33\": 6, \"69\": 1, \"78\": 1}, \"72\": {\"72\": 30, \"29\": 1, \"42\": 1}, \"26\": {\"118\": 2, \"26\": 32}, \"17\": {\"17\": 10, \"109\": 1, \"77\": 2, \"125\": 1, \"94\": 1, \"2\": 1}, \"43\": {\"43\": 16, \"78\": 1, \"22\": 1, \"48\": 1, \"122\": 3, \"105\": 5, \"81\": 3, \"8\": 1, \"87\": 2, \"117\": 1, \"4\": 1, \"28\": 1, \"40\": 2}, \"120\": {\"76\": 1, \"116\": 1, \"120\": 16, \"67\": 2}, \"68\": {\"68\": 15, \"91\": 1}, \"50\": {\"76\": 1, \"118\": 1, \"50\": 10, \"85\": 2, \"69\": 2}, \"56\": {\"37\": 1, \"59\": 1, \"121\": 2, \"56\": 8}, \"85\": {\"85\": 26, \"0\": 4, \"92\": 2}, \"10\": {\"85\": 6, \"10\": 19, \"0\": 4, \"62\": 2, \"122\": 3}, \"3\": {\"3\": 23, \"109\": 1}, \"54\": {\"54\": 16}, \"9\": {\"97\": 1, \"89\": 1, \"9\": 25, \"96\": 1, \"103\": 2, \"27\": 1, \"21\": 1}, \"7\": {\"7\": 29, \"93\": 2, \"87\": 2, \"84\": 1}, \"115\": {\"115\": 12}, \"96\": {\"96\": 11, \"126\": 6, \"109\": 1, \"69\": 1, \"104\": 1}, \"102\": {\"102\": 29, \"21\": 1}, \"104\": {\"104\": 13, \"109\": 2, \"127\": 1}, \"47\": {\"47\": 12}, \"86\": {\"86\": 27, \"12\": 1, \"83\": 1, \"94\": 1, \"106\": 2, \"98\": 3, \"46\": 1}, \"103\": {\"103\": 13, \"9\": 1, \"31\": 1, \"15\": 1}, \"8\": {\"8\": 35, \"83\": 1, \"21\": 1, \"87\": 3, \"81\": 1, \"84\": 1}, \"14\": {\"14\": 34}, \"39\": {\"39\": 22, \"65\": 1, \"18\": 3, \"95\": 1, \"117\": 1}, \"57\": {\"57\": 9, \"25\": 1, \"48\": 2}, \"63\": {\"63\": 16}, \"106\": {\"106\": 29, \"6\": 1, \"113\": 2, \"5\": 1, \"128\": 1, \"86\": 1, \"111\": 1}, \"127\": {\"91\": 3, \"127\": 39, \"21\": 1, \"113\": 1}, \"51\": {\"91\": 1, \"51\": 11, \"112\": 2, \"71\": 1, \"68\": 1}, \"27\": {\"27\": 18, \"94\": 4, \"88\": 5, \"97\": 3, \"9\": 3, \"15\": 6, \"36\": 1, \"108\": 1, \"24\": 1}, \"5\": {\"5\": 32, \"73\": 1, \"29\": 1}, \"4\": {\"4\": 31, \"107\": 6, \"93\": 1}, \"58\": {\"58\": 11, \"75\": 1}, \"44\": {\"44\": 36}, \"121\": {\"16\": 3, \"71\": 1, \"121\": 24, \"117\": 2, \"113\": 2}, \"111\": {\"111\": 34, \"71\": 1, \"30\": 1}, \"60\": {\"14\": 5, \"39\": 1, \"63\": 1, \"119\": 1, \"99\": 1, \"60\": 2, \"28\": 2, \"2\": 1, \"43\": 2}, \"53\": {\"53\": 19, \"12\": 1}, \"62\": {\"62\": 42, \"69\": 2}, \"77\": {\"77\": 13, \"34\": 1, \"4\": 1, \"2\": 1}, \"40\": {\"40\": 30, \"4\": 1, \"105\": 10, \"93\": 1}, \"84\": {\"84\": 32, \"83\": 1, \"8\": 1, \"113\": 1, \"87\": 4, \"90\": 1}, \"73\": {\"73\": 14, \"104\": 2, \"127\": 2, \"128\": 2}, \"34\": {\"125\": 4, \"28\": 2, \"14\": 6, \"86\": 5, \"87\": 2, \"35\": 1, \"98\": 1, \"93\": 1, \"106\": 1, \"122\": 2, \"53\": 3, \"43\": 1, \"57\": 1, \"4\": 1, \"12\": 1}, \"81\": {\"81\": 28}, \"67\": {\"67\": 16}, \"70\": {\"70\": 13, \"23\": 2, \"106\": 1, \"30\": 1, \"109\": 2, \"44\": 2, \"49\": 1, \"83\": 2, \"29\": 2}, \"113\": {\"113\": 38}, \"75\": {\"75\": 15, \"58\": 1}, \"13\": {\"13\": 9, \"16\": 2, \"117\": 3, \"26\": 1, \"50\": 1}, \"0\": {\"35\": 3, \"85\": 7, \"0\": 24}, \"114\": {\"114\": 36, \"5\": 2}, \"109\": {\"23\": 1, \"108\": 3, \"109\": 24, \"96\": 5, \"129\": 1, \"126\": 3, \"70\": 3, \"21\": 3, \"47\": 1}, \"23\": {\"110\": 3, \"127\": 1, \"42\": 1, \"23\": 5, \"32\": 2, \"104\": 1, \"75\": 1, \"79\": 1, \"31\": 1, \"34\": 2, \"1\": 3, \"35\": 1, \"105\": 1, \"21\": 1}, \"71\": {\"6\": 5, \"71\": 22, \"52\": 1, \"111\": 3, \"125\": 1}, \"110\": {\"110\": 20, \"41\": 3, \"107\": 2, \"4\": 1}, \"25\": {\"73\": 1, \"25\": 13, \"2\": 1, \"109\": 1}, \"35\": {\"35\": 11, \"41\": 1}, \"126\": {\"109\": 7, \"126\": 26, \"24\": 1, \"97\": 1, \"9\": 1, \"79\": 1, \"96\": 1}, \"101\": {\"101\": 42, \"72\": 1, \"30\": 1}, \"42\": {\"3\": 2, \"87\": 3, \"42\": 8, \"84\": 2, \"109\": 4, \"2\": 1, \"34\": 2, \"100\": 1, \"129\": 1, \"8\": 1, \"93\": 1}, \"64\": {\"64\": 16}, \"33\": {\"33\": 36}, \"65\": {\"57\": 2, \"74\": 2, \"65\": 1, \"62\": 2, \"63\": 2, \"13\": 1, \"76\": 1, \"117\": 1}, \"69\": {\"69\": 33, \"65\": 1, \"102\": 2, \"67\": 1, \"50\": 1}, \"100\": {\"100\": 15, \"99\": 1}, \"80\": {\"80\": 15, \"122\": 1}, \"20\": {\"20\": 14, \"76\": 1, \"90\": 1}, \"18\": {\"18\": 34, \"39\": 2}, \"31\": {\"31\": 16}, \"24\": {\"24\": 19, \"88\": 6, \"36\": 7, \"113\": 2, \"27\": 2, \"108\": 3, \"97\": 1, \"117\": 1, \"126\": 1}, \"95\": {\"95\": 28, \"13\": 1, \"117\": 3}, \"119\": {\"119\": 13, \"41\": 1, \"2\": 1, \"25\": 1}, \"49\": {\"49\": 7, \"91\": 2, \"52\": 3, \"9\": 3, \"31\": 3, \"89\": 1, \"6\": 1}, \"61\": {\"61\": 10, \"37\": 2}, \"48\": {\"48\": 12}, \"38\": {\"38\": 14, \"122\": 2}, \"93\": {\"41\": 1, \"17\": 1, \"34\": 4, \"4\": 8, \"93\": 7, \"107\": 3, \"87\": 6, \"43\": 1, \"110\": 1}, \"79\": {\"79\": 12}, \"41\": {\"41\": 16}, \"83\": {\"23\": 2, \"83\": 18, \"21\": 1, \"34\": 1, \"8\": 1, \"84\": 1, \"26\": 1, \"113\": 1}, \"122\": {\"122\": 27, \"43\": 7, \"80\": 1, \"105\": 2, \"87\": 1}, \"1\": {\"1\": 31, \"16\": 1, \"124\": 2}, \"2\": {\"2\": 15, \"18\": 5, \"11\": 5, \"21\": 1, \"100\": 1, \"82\": 2, \"99\": 1, \"96\": 1, \"116\": 1}, \"107\": {\"107\": 28, \"4\": 4, \"40\": 1, \"127\": 1}, \"99\": {\"99\": 19, \"2\": 2, \"100\": 1, \"25\": 2}}, \"Wisig_2\": {\"67\": {\"67\": 15, \"39\": 1}, \"53\": {\"53\": 7, \"73\": 2, \"71\": 1, \"5\": 2, \"49\": 1, \"129\": 1, \"21\": 1, \"27\": 1}, \"7\": {\"95\": 4, \"7\": 38, \"32\": 1, \"86\": 1}, \"90\": {\"90\": 47, \"87\": 2, \"116\": 1}, \"30\": {\"30\": 27, \"6\": 2, \"103\": 3, \"13\": 1, \"75\": 2, \"122\": 1, \"0\": 2, \"32\": 1, \"51\": 1, \"68\": 1, \"126\": 1, \"27\": 1, \"34\": 1, \"29\": 2, \"12\": 1, \"23\": 1}, \"12\": {\"59\": 2, \"12\": 20, \"128\": 5, \"29\": 1, \"23\": 1, \"111\": 3, \"127\": 2, \"71\": 4, \"21\": 2, \"41\": 1, \"114\": 1, \"91\": 1, \"34\": 1}, \"16\": {\"16\": 29, \"90\": 2, \"88\": 3, \"96\": 1, \"93\": 3, \"87\": 1, \"118\": 1, \"21\": 2, \"2\": 1, \"122\": 1, \"39\": 1, \"70\": 1}, \"71\": {\"71\": 35, \"21\": 2, \"114\": 2, \"12\": 1, \"1\": 1, \"5\": 3, \"88\": 1, \"117\": 1}, \"96\": {\"12\": 1, \"16\": 1, \"96\": 16, \"93\": 1, \"90\": 1}, \"95\": {\"95\": 30, \"104\": 1, \"17\": 1, \"105\": 1, \"40\": 1}, \"27\": {\"27\": 21, \"20\": 2, \"36\": 20, \"24\": 5, \"21\": 3, \"94\": 1, \"126\": 1, \"112\": 1}, \"86\": {\"86\": 31, \"107\": 1}, \"32\": {\"74\": 3, \"22\": 1, \"40\": 1, \"70\": 1, \"32\": 11, \"45\": 1, \"10\": 4, \"7\": 2, \"123\": 3, \"8\": 1, \"43\": 1, \"105\": 2, \"14\": 1, \"110\": 2, \"30\": 2}, \"42\": {\"42\": 10, \"112\": 2, \"108\": 2, \"53\": 1, \"126\": 7, \"49\": 1, \"11\": 1, \"46\": 2, \"73\": 1, \"44\": 1}, \"14\": {\"14\": 15, \"21\": 4, \"126\": 1, \"60\": 3, \"88\": 1, \"70\": 1, \"43\": 8, \"80\": 2, \"32\": 1, \"38\": 1, \"2\": 1}, \"74\": {\"74\": 16}, \"97\": {\"97\": 14, \"58\": 1, \"29\": 1, \"52\": 1, \"6\": 1, \"77\": 1, \"15\": 1}, \"69\": {\"69\": 36, \"102\": 4, \"82\": 1, \"81\": 2, \"39\": 4, \"21\": 1}, \"25\": {\"25\": 14, \"59\": 1, \"15\": 1}, \"48\": {\"48\": 16, \"26\": 2, \"57\": 2}, \"73\": {\"53\": 2, \"73\": 21, \"129\": 3, \"8\": 1, \"124\": 1}, \"119\": {\"119\": 20}, \"51\": {\"97\": 1, \"58\": 2, \"34\": 1, \"21\": 1, \"51\": 7, \"111\": 1, \"30\": 2, \"41\": 2, \"125\": 1, \"117\": 1, \"6\": 1}, \"52\": {\"97\": 2, \"52\": 14, \"29\": 1, \"59\": 1, \"8\": 1, \"77\": 1}, \"35\": {\"35\": 12}, \"120\": {\"120\": 20}, \"8\": {\"124\": 7, \"109\": 1, \"52\": 1, \"8\": 30, \"19\": 1, \"111\": 1, \"32\": 1, \"122\": 2, \"94\": 1, \"43\": 1}, \"61\": {\"55\": 2, \"61\": 14, \"40\": 2, \"105\": 1, \"21\": 1}, \"59\": {\"59\": 6, \"32\": 1, \"21\": 2, \"128\": 3, \"12\": 2, \"41\": 2}, \"115\": {\"115\": 8, \"16\": 1, \"24\": 1, \"88\": 2}, \"127\": {\"127\": 31, \"111\": 2, \"91\": 1}, \"31\": {\"31\": 20}, \"33\": {\"33\": 42}, \"124\": {\"8\": 2, \"124\": 30, \"71\": 1, \"85\": 2, \"21\": 1, \"5\": 1, \"11\": 1}, \"58\": {\"58\": 18, \"6\": 2}, \"89\": {\"89\": 31, \"92\": 2, \"118\": 3}, \"62\": {\"62\": 32, \"16\": 1, \"22\": 1, \"21\": 1, \"32\": 2, \"88\": 1}, \"91\": {\"91\": 5, \"127\": 1, \"34\": 1, \"4\": 6, \"29\": 2, \"56\": 2, \"41\": 1, \"54\": 4, \"17\": 1, \"109\": 1, \"58\": 1, \"98\": 2, \"12\": 1}, \"104\": {\"104\": 13, \"20\": 1, \"53\": 1, \"7\": 2, \"126\": 1, \"105\": 2}, \"64\": {\"64\": 15, \"66\": 1}, \"63\": {\"63\": 20}, \"5\": {\"5\": 37, \"49\": 1, \"73\": 2, \"21\": 3, \"3\": 1}, \"92\": {\"92\": 22, \"67\": 2, \"76\": 1, \"89\": 1, \"64\": 2}, \"2\": {\"2\": 12, \"96\": 4, \"100\": 2, \"88\": 1, \"18\": 2, \"23\": 4, \"87\": 1, \"20\": 2, \"93\": 1, \"57\": 1, \"121\": 1, \"83\": 1}, \"109\": {\"87\": 2, \"45\": 2, \"13\": 1, \"109\": 18, \"102\": 3, \"118\": 5, \"90\": 4, \"39\": 2, \"78\": 2, \"82\": 1, \"69\": 3, \"31\": 2, \"21\": 1}, \"118\": {\"118\": 29, \"62\": 3, \"31\": 2, \"80\": 1, \"126\": 1, \"92\": 1, \"84\": 1, \"109\": 5, \"21\": 2, \"76\": 1, \"78\": 1, \"69\": 1}, \"34\": {\"14\": 2, \"51\": 1, \"34\": 12, \"86\": 2, \"111\": 4, \"110\": 2, \"127\": 2, \"29\": 2, \"91\": 1, \"122\": 1, \"98\": 1, \"32\": 1, \"107\": 1}, \"55\": {\"62\": 2, \"55\": 14}, \"11\": {\"73\": 1, \"11\": 27, \"98\": 5, \"108\": 3, \"126\": 2, \"24\": 1, \"106\": 1, \"49\": 3, \"129\": 1, \"117\": 1, \"42\": 1}, \"70\": {\"33\": 2, \"87\": 2, \"70\": 19, \"88\": 4, \"53\": 1, \"43\": 8, \"110\": 5, \"122\": 1, \"60\": 1, \"69\": 1, \"78\": 3, \"38\": 1, \"39\": 1, \"14\": 2, \"109\": 1, \"1\": 1, \"45\": 1}, \"98\": {\"98\": 47, \"97\": 1, \"12\": 1, \"91\": 1}, \"20\": {\"20\": 16}, \"49\": {\"51\": 1, \"87\": 1, \"49\": 3, \"77\": 1, \"129\": 3, \"98\": 2, \"52\": 2, \"128\": 2, \"94\": 1, \"114\": 1, \"11\": 3, \"108\": 1, \"73\": 1, \"124\": 1, \"12\": 1}, \"28\": {\"28\": 18, \"37\": 2}, \"22\": {\"22\": 20}, \"87\": {\"96\": 4, \"33\": 9, \"88\": 6, \"87\": 10, \"21\": 3, \"109\": 1, \"1\": 7, \"39\": 2, \"70\": 3, \"110\": 1, \"92\": 1, \"116\": 1}, \"45\": {\"45\": 13, \"82\": 1, \"78\": 1, \"43\": 1}, \"57\": {\"57\": 18, \"39\": 2}, \"72\": {\"72\": 18, \"39\": 2, \"102\": 2, \"69\": 3, \"87\": 1, \"82\": 1, \"13\": 1}, \"77\": {\"77\": 12, \"29\": 1, \"111\": 2, \"88\": 1}, \"113\": {\"113\": 31, \"117\": 5, \"69\": 2}, \"6\": {\"34\": 4, \"125\": 2, \"6\": 16, \"30\": 2, \"51\": 2, \"75\": 4, \"101\": 1, \"97\": 1}, \"26\": {\"26\": 39, \"81\": 1, \"117\": 1, \"18\": 5, \"2\": 4, \"57\": 1, \"21\": 1, \"65\": 2}, \"44\": {\"44\": 36, \"83\": 2, \"21\": 2, \"126\": 2}, \"46\": {\"46\": 15, \"21\": 1}, \"65\": {\"65\": 18, \"39\": 1, \"21\": 1}, \"84\": {\"84\": 38, \"33\": 3, \"117\": 1, \"43\": 1, \"21\": 1}, \"39\": {\"109\": 3, \"39\": 16, \"102\": 3, \"24\": 1, \"26\": 2, \"82\": 2, \"118\": 2, \"78\": 1, \"88\": 1, \"21\": 1, \"69\": 5, \"117\": 2, \"72\": 1}, \"82\": {\"82\": 33, \"116\": 2, \"21\": 1}, \"108\": {\"112\": 2, \"108\": 25, \"53\": 1, \"36\": 1, \"126\": 1, \"11\": 1, \"24\": 2, \"42\": 1}, \"21\": {\"21\": 41, \"118\": 1, \"117\": 1, \"93\": 1, \"39\": 2}, \"29\": {\"29\": 25, \"77\": 3, \"127\": 1, \"30\": 2, \"91\": 1}, \"13\": {\"13\": 9, \"72\": 5, \"96\": 1, \"88\": 1}, \"17\": {\"17\": 7, \"21\": 2, \"16\": 1, \"95\": 2, \"56\": 2, \"4\": 1, \"7\": 1}, \"88\": {\"88\": 9, \"100\": 2, \"84\": 1, \"90\": 2, \"93\": 5, \"21\": 4, \"60\": 1, \"16\": 3, \"23\": 1, \"87\": 2, \"14\": 1, \"70\": 2, \"46\": 1, \"39\": 1, \"20\": 1, \"116\": 2, \"45\": 1, \"44\": 1}, \"1\": {\"1\": 31, \"60\": 1, \"128\": 1, \"117\": 1, \"21\": 1, \"85\": 2, \"124\": 1}, \"112\": {\"49\": 2, \"112\": 7, \"42\": 2, \"3\": 1, \"71\": 1, \"11\": 1, \"108\": 2}, \"24\": {\"24\": 13, \"25\": 1, \"106\": 1, \"42\": 2, \"27\": 4, \"36\": 4, \"15\": 1, \"94\": 6, \"126\": 2, \"21\": 1, \"9\": 1, \"14\": 1, \"52\": 1, \"11\": 1, \"108\": 2, \"98\": 1}, \"102\": {\"102\": 46, \"109\": 2}, \"66\": {\"66\": 13, \"76\": 1, \"37\": 1, \"40\": 1, \"85\": 1, \"88\": 1, \"105\": 2}, \"114\": {\"114\": 38, \"126\": 1, \"71\": 4, \"124\": 1}, \"40\": {\"95\": 5, \"40\": 33, \"86\": 1, \"85\": 1, \"27\": 1, \"105\": 1, \"55\": 1, \"56\": 1}, \"4\": {\"4\": 46, \"21\": 1, \"107\": 2, \"127\": 1}, \"100\": {\"100\": 14, \"35\": 1, \"68\": 1}, \"129\": {\"129\": 24, \"124\": 1, \"49\": 1, \"11\": 2, \"19\": 2, \"83\": 1, \"73\": 1}, \"19\": {\"19\": 14, \"129\": 5, \"44\": 1, \"124\": 3, \"110\": 2, \"8\": 1, \"4\": 1, \"1\": 1}, \"81\": {\"81\": 16, \"29\": 1, \"18\": 2, \"15\": 1, \"39\": 1, \"72\": 2, \"107\": 1}, \"125\": {\"125\": 32, \"72\": 1, \"6\": 2, \"15\": 1, \"106\": 1, \"94\": 1}, \"93\": {\"93\": 38, \"126\": 3, \"13\": 1, \"119\": 1, \"110\": 2, \"23\": 1, \"70\": 1, \"88\": 1, \"44\": 1, \"87\": 1, \"1\": 1, \"16\": 1}, \"101\": {\"101\": 37, \"0\": 5, \"30\": 1, \"39\": 1}, \"3\": {\"3\": 36, \"73\": 1, \"129\": 1, \"71\": 1, \"8\": 1, \"21\": 1, \"122\": 1}, \"56\": {\"56\": 12}, \"126\": {\"126\": 28, \"42\": 2, \"93\": 1, \"44\": 8, \"87\": 1, \"70\": 1, \"83\": 1, \"88\": 1, \"49\": 1}, \"38\": {\"38\": 16}, \"105\": {\"105\": 38, \"61\": 3, \"86\": 1, \"21\": 2, \"26\": 1, \"32\": 1}, \"41\": {\"77\": 2, \"41\": 14, \"29\": 1, \"34\": 1, \"56\": 1, \"91\": 1}, \"106\": {\"106\": 34, \"97\": 2, \"36\": 1, \"114\": 1, \"98\": 2, \"21\": 1, \"125\": 1, \"94\": 2}, \"76\": {\"76\": 10, \"92\": 6}, \"36\": {\"36\": 29, \"25\": 3, \"21\": 4, \"27\": 11, \"24\": 6, \"94\": 2, \"26\": 1}, \"78\": {\"17\": 2, \"21\": 1, \"78\": 7, \"109\": 1, \"32\": 1, \"107\": 5, \"70\": 4, \"40\": 5, \"69\": 1, \"14\": 2, \"38\": 1, \"86\": 1, \"105\": 1, \"122\": 1, \"88\": 1, \"39\": 1, \"110\": 1}, \"99\": {\"99\": 30, \"69\": 1, \"21\": 1}, \"0\": {\"0\": 24, \"29\": 1, \"101\": 9}, \"107\": {\"107\": 29, \"38\": 1, \"4\": 3, \"21\": 1, \"78\": 2}, \"111\": {\"111\": 38, \"41\": 2}, \"68\": {\"68\": 13, \"88\": 1, \"30\": 2}, \"60\": {\"60\": 8, \"110\": 4, \"14\": 1, \"8\": 2, \"32\": 2, \"116\": 2, \"23\": 2, \"87\": 3, \"48\": 1, \"123\": 1, \"90\": 1, \"33\": 1}, \"15\": {\"94\": 2, \"6\": 2, \"15\": 29, \"97\": 1, \"9\": 2, \"21\": 2, \"98\": 1, \"51\": 2, \"24\": 1}, \"50\": {\"21\": 2, \"50\": 14}, \"79\": {\"79\": 16}, \"94\": {\"24\": 3, \"94\": 17, \"15\": 6, \"69\": 1, \"21\": 4, \"98\": 3, \"118\": 1, \"108\": 1, \"126\": 1, \"36\": 1}, \"128\": {\"128\": 5, \"52\": 1, \"101\": 5, \"85\": 3, \"71\": 1, \"97\": 2, \"114\": 3, \"5\": 1, \"0\": 1, \"30\": 1, \"73\": 1}, \"103\": {\"103\": 14, \"68\": 1, \"30\": 1}, \"47\": {\"47\": 6, \"128\": 1, \"0\": 1, \"19\": 1, \"52\": 1, \"73\": 2}, \"37\": {\"37\": 16}, \"85\": {\"114\": 1, \"11\": 1, \"85\": 23, \"73\": 2, \"49\": 1, \"118\": 1, \"21\": 1, \"124\": 1, \"117\": 1}, \"121\": {\"120\": 1, \"18\": 1, \"121\": 24, \"65\": 3, \"117\": 5, \"2\": 2}, \"54\": {\"54\": 19, \"56\": 1}, \"18\": {\"18\": 35, \"109\": 1, \"120\": 1, \"39\": 3, \"2\": 2}, \"116\": {\"116\": 17, \"82\": 3, \"33\": 2, \"21\": 1, \"84\": 1, \"70\": 1, \"87\": 1, \"102\": 1, \"90\": 1}, \"122\": {\"123\": 1, \"122\": 14, \"110\": 4, \"29\": 5, \"127\": 2, \"8\": 7, \"3\": 2, \"43\": 1, \"17\": 1, \"129\": 1, \"30\": 1, \"21\": 1, \"60\": 1, \"111\": 1}, \"117\": {\"113\": 3, \"117\": 37, \"121\": 4}, \"10\": {\"10\": 22, \"21\": 1, \"50\": 2, \"86\": 1, \"78\": 1, \"22\": 3, \"14\": 1, \"118\": 2, \"62\": 1, \"55\": 1, \"32\": 5}, \"123\": {\"123\": 16}, \"43\": {\"122\": 2, \"70\": 4, \"14\": 3, \"43\": 16, \"60\": 1, \"38\": 2, \"21\": 1, \"91\": 1, \"78\": 2, \"107\": 2, \"25\": 1, \"110\": 2, \"115\": 1, \"116\": 1, \"84\": 2, \"90\": 1}, \"83\": {\"83\": 31, \"43\": 1, \"102\": 1, \"126\": 1, \"44\": 3, \"1\": 1, \"100\": 2}, \"23\": {\"29\": 6, \"65\": 1, \"99\": 7, \"113\": 7, \"70\": 1, \"124\": 1, \"122\": 1, \"8\": 3, \"4\": 1, \"110\": 1, \"57\": 1, \"117\": 1, \"32\": 1, \"34\": 1, \"23\": 3, \"60\": 1, \"118\": 1}, \"80\": {\"80\": 16}, \"110\": {\"110\": 22, \"38\": 1, \"8\": 2, \"109\": 1, \"30\": 1, \"27\": 1, \"43\": 2, \"122\": 2, \"68\": 1, \"9\": 1}, \"75\": {\"75\": 16}, \"9\": {\"9\": 29, \"15\": 2, \"2\": 1}}, \"Wisig_3\": {\"96\": {\"96\": 20}, \"11\": {\"11\": 30, \"1\": 1, \"29\": 4, \"116\": 3, \"60\": 2, \"113\": 1, \"43\": 4, \"102\": 1, \"90\": 1, \"33\": 1}, \"87\": {\"128\": 1, \"87\": 26, \"107\": 3, \"116\": 1, \"82\": 2, \"14\": 1, \"115\": 1, \"110\": 1}, \"128\": {\"128\": 18, \"1\": 1, \"19\": 1, \"87\": 2, \"127\": 3, \"3\": 3, \"30\": 1, \"77\": 2, \"107\": 1}, \"56\": {\"56\": 11, \"58\": 1}, \"39\": {\"18\": 1, \"39\": 21, \"17\": 1, \"121\": 1, \"117\": 9, \"113\": 3, \"21\": 2, \"26\": 1, \"126\": 4, \"63\": 1}, \"58\": {\"58\": 13, \"91\": 1, \"51\": 1, \"111\": 1}, \"15\": {\"15\": 24, \"59\": 1, \"94\": 3, \"97\": 2, \"124\": 2, \"125\": 1, \"111\": 3, \"30\": 1, \"3\": 1}, \"70\": {\"19\": 3, \"70\": 5, \"96\": 1, \"11\": 2, \"80\": 1, \"16\": 2, \"124\": 4, \"110\": 1, \"15\": 2, \"21\": 2, \"60\": 1, \"88\": 2, \"8\": 5, \"47\": 2, \"93\": 1, \"114\": 1, \"85\": 2, \"78\": 1}, \"103\": {\"128\": 2, \"103\": 13, \"120\": 1}, \"77\": {\"77\": 16}, \"85\": {\"85\": 30, \"8\": 1, \"70\": 1}, \"59\": {\"59\": 11, \"124\": 1}, \"28\": {\"28\": 13, \"128\": 1, \"1\": 1, \"21\": 1}, \"118\": {\"84\": 1, \"118\": 36, \"109\": 1, \"69\": 1, \"26\": 1}, \"25\": {\"25\": 16}, \"93\": {\"70\": 1, \"93\": 38, \"16\": 2, \"11\": 1}, \"102\": {\"102\": 36}, \"33\": {\"33\": 40, \"44\": 1, \"21\": 1}, \"84\": {\"107\": 2, \"84\": 28, \"45\": 1, \"21\": 1, \"126\": 1, \"82\": 1}, \"119\": {\"119\": 13, \"125\": 1, \"79\": 2}, \"64\": {\"64\": 20}, \"100\": {\"100\": 16}, \"27\": {\"27\": 17, \"83\": 4, \"108\": 1, \"54\": 1, \"24\": 5, \"36\": 5, \"49\": 1, \"112\": 1, \"94\": 1}, \"107\": {\"107\": 33, \"90\": 1}, \"76\": {\"76\": 13, \"62\": 2, \"21\": 1}, \"12\": {\"12\": 39, \"3\": 2, \"47\": 1, \"98\": 2, \"30\": 2, \"106\": 1, \"124\": 1}, \"31\": {\"90\": 1, \"31\": 15, \"29\": 3, \"70\": 1}, \"44\": {\"44\": 35, \"29\": 2, \"114\": 4, \"92\": 1}, \"48\": {\"7\": 2, \"65\": 2, \"26\": 1, \"10\": 1, \"79\": 2, \"119\": 1, \"67\": 2, \"95\": 1, \"105\": 2, \"2\": 1, \"116\": 1}, \"115\": {\"115\": 14, \"45\": 1, \"84\": 1}, \"0\": {\"0\": 30, \"35\": 1, \"101\": 6, \"58\": 2, \"10\": 1}, \"116\": {\"102\": 1, \"116\": 11, \"82\": 3, \"45\": 1, \"33\": 1, \"87\": 2, \"92\": 5, \"11\": 2}, \"24\": {\"30\": 1, \"24\": 17, \"36\": 8, \"97\": 1, \"27\": 5, \"108\": 2, \"42\": 1, \"112\": 2, \"88\": 1, \"25\": 2}, \"81\": {\"81\": 28, \"18\": 4}, \"122\": {\"122\": 21, \"28\": 1, \"127\": 5, \"14\": 4, \"128\": 2, \"34\": 1, \"21\": 2, \"110\": 1, \"11\": 1}, \"19\": {\"19\": 12, \"77\": 1, \"129\": 8, \"110\": 4, \"124\": 1, \"30\": 1, \"5\": 1, \"103\": 2, \"98\": 1, \"72\": 1}, \"90\": {\"90\": 36}, \"22\": {\"22\": 16}, \"16\": {\"16\": 32, \"92\": 2, \"11\": 3, \"88\": 1}, \"68\": {\"68\": 15, \"58\": 1}, \"18\": {\"18\": 42, \"39\": 2, \"81\": 1, \"121\": 4, \"117\": 1}, \"120\": {\"120\": 19, \"102\": 1}, \"127\": {\"127\": 40, \"126\": 1, \"21\": 2, \"77\": 1}, \"35\": {\"35\": 12}, \"45\": {\"45\": 7, \"115\": 1, \"82\": 4, \"21\": 1, \"84\": 3}, \"30\": {\"77\": 3, \"30\": 18, \"8\": 3, \"12\": 1, \"70\": 1, \"97\": 2, \"24\": 1, \"98\": 2, \"94\": 1, \"110\": 2, \"19\": 2, \"33\": 1, \"23\": 2, \"21\": 1}, \"67\": {\"67\": 13, \"121\": 1, \"119\": 1, \"97\": 1}, \"129\": {\"19\": 5, \"129\": 16, \"29\": 4, \"44\": 1, \"20\": 2, \"53\": 2, \"110\": 1, \"80\": 1}, \"105\": {\"105\": 42}, \"74\": {\"74\": 12, \"57\": 2, \"55\": 1, \"118\": 1}, \"125\": {\"125\": 30, \"98\": 1, \"111\": 2, \"59\": 1}, \"37\": {\"37\": 12, \"7\": 2, \"35\": 2}, \"91\": {\"77\": 1, \"91\": 14, \"98\": 3, \"41\": 1, \"86\": 1, \"4\": 1, \"72\": 1, \"99\": 1, \"127\": 1}, \"123\": {\"123\": 16}, \"7\": {\"7\": 32}, \"75\": {\"75\": 15, \"6\": 1}, \"83\": {\"83\": 20, \"112\": 1, \"24\": 3}, \"94\": {\"94\": 26, \"8\": 2, \"97\": 2, \"98\": 1, \"73\": 2, \"30\": 1, \"59\": 1, \"117\": 1}, \"104\": {\"104\": 16}, \"92\": {\"92\": 29, \"16\": 2, \"126\": 1}, \"29\": {\"29\": 22, \"44\": 4, \"31\": 4, \"114\": 1, \"60\": 1}, \"82\": {\"82\": 28}, \"113\": {\"113\": 26, \"2\": 2, \"39\": 3, \"18\": 2, \"15\": 1, \"117\": 8, \"21\": 1, \"114\": 1}, \"6\": {\"6\": 15, \"34\": 1, \"51\": 3, \"101\": 6, \"125\": 1, \"0\": 4, \"75\": 1, \"15\": 1}, \"32\": {\"22\": 2, \"82\": 5, \"50\": 2, \"115\": 1, \"32\": 10, \"122\": 1, \"9\": 1, \"14\": 2, \"87\": 1, \"65\": 1, \"10\": 2, \"45\": 2, \"55\": 1, \"107\": 1}, \"79\": {\"79\": 12}, \"36\": {\"24\": 8, \"36\": 15, \"83\": 2, \"27\": 7, \"85\": 1, \"45\": 1}, \"98\": {\"98\": 34, \"125\": 1, \"72\": 1}, \"1\": {\"1\": 27, \"114\": 3, \"26\": 1, \"44\": 2, \"21\": 1}, \"14\": {\"14\": 40, \"34\": 1, \"32\": 1}, \"66\": {\"66\": 15, \"99\": 1}, \"117\": {\"117\": 34, \"39\": 2}, \"17\": {\"17\": 5, \"21\": 2, \"79\": 1, \"81\": 1, \"9\": 2, \"16\": 1, \"104\": 1, \"126\": 1, \"80\": 1, \"117\": 1}, \"49\": {\"88\": 2, \"49\": 6, \"42\": 1, \"20\": 1, \"53\": 4, \"30\": 1, \"8\": 1, \"47\": 2, \"108\": 3, \"124\": 1, \"111\": 1, \"97\": 1}, \"46\": {\"46\": 16}, \"111\": {\"111\": 34}, \"78\": {\"17\": 1, \"66\": 1, \"39\": 2, \"78\": 1, \"40\": 4, \"122\": 2, \"128\": 1, \"21\": 3, \"11\": 1}, \"26\": {\"26\": 39, \"18\": 2, \"21\": 1}, \"42\": {\"42\": 19, \"49\": 2, \"24\": 1, \"73\": 1, \"108\": 3, \"88\": 2}, \"10\": {\"10\": 30, \"35\": 1, \"50\": 1, \"22\": 1, \"32\": 4, \"48\": 1, \"65\": 2, \"37\": 1, \"66\": 2, \"9\": 1, \"7\": 1, \"14\": 1}, \"9\": {\"9\": 28, \"33\": 2}, \"55\": {\"55\": 16}, \"38\": {\"38\": 15, \"55\": 1}, \"63\": {\"63\": 15, \"39\": 1}, \"106\": {\"106\": 33, \"94\": 2, \"73\": 3, \"95\": 1, \"98\": 1}, \"88\": {\"17\": 2, \"70\": 1, \"21\": 8, \"88\": 7, \"53\": 5, \"108\": 7, \"93\": 1, \"8\": 1, \"2\": 2, \"85\": 1, \"42\": 1}, \"3\": {\"3\": 34, \"5\": 3, \"124\": 2, \"91\": 1}, \"99\": {\"105\": 6, \"99\": 26, \"66\": 1, \"32\": 1, \"10\": 1, \"4\": 1}, \"57\": {\"57\": 20}, \"8\": {\"49\": 2, \"15\": 1, \"8\": 22, \"108\": 3, \"124\": 9, \"70\": 2, \"73\": 1, \"11\": 1, \"85\": 1}, \"86\": {\"86\": 19, \"4\": 4, \"99\": 1, \"41\": 1, \"127\": 1, \"101\": 1, \"34\": 1}, \"126\": {\"126\": 37, \"81\": 4, \"63\": 2, \"121\": 1}, \"5\": {\"5\": 35, \"93\": 1}, \"62\": {\"62\": 42}, \"89\": {\"89\": 27, \"69\": 1}, \"112\": {\"42\": 2, \"112\": 10, \"6\": 1, \"17\": 1, \"108\": 2}, \"61\": {\"61\": 16}, \"13\": {\"45\": 1, \"26\": 2, \"13\": 6, \"84\": 2, \"14\": 2, \"101\": 1, \"118\": 1, \"11\": 1}, \"2\": {\"96\": 3, \"2\": 2, \"113\": 1, \"26\": 4, \"64\": 7, \"121\": 2, \"93\": 5, \"18\": 3, \"81\": 1}, \"50\": {\"50\": 16}, \"21\": {\"21\": 34, \"126\": 2, \"75\": 1, \"39\": 1, \"94\": 2, \"14\": 1, \"25\": 1, \"16\": 1, \"78\": 1}, \"73\": {\"73\": 37, \"97\": 1}, \"72\": {\"72\": 25, \"91\": 2, \"6\": 1}, \"43\": {\"33\": 10, \"43\": 11, \"11\": 2, \"117\": 2, \"21\": 1, \"113\": 7, \"26\": 1, \"93\": 1, \"84\": 1, \"116\": 2, \"102\": 2}, \"110\": {\"129\": 6, \"110\": 19, \"1\": 4, \"19\": 5, \"70\": 2, \"60\": 1, \"21\": 1, \"90\": 1, \"114\": 1}, \"95\": {\"95\": 30}, \"34\": {\"14\": 5, \"122\": 2, \"107\": 1, \"75\": 4, \"34\": 3, \"45\": 1, \"32\": 3, \"41\": 2, \"6\": 6, \"115\": 1, \"84\": 3, \"72\": 1}, \"41\": {\"41\": 12, \"120\": 1, \"86\": 1, \"99\": 2}, \"124\": {\"124\": 31, \"8\": 4, \"19\": 3, \"70\": 1, \"5\": 1, \"116\": 1, \"12\": 1}, \"114\": {\"114\": 36, \"71\": 2, \"21\": 1, \"19\": 1, \"44\": 1, \"70\": 1}, \"65\": {\"65\": 10, \"55\": 1, \"9\": 1}, \"121\": {\"121\": 17, \"26\": 2, \"39\": 3, \"109\": 2, \"117\": 2, \"18\": 6}, \"71\": {\"71\": 32, \"3\": 4, \"12\": 1, \"46\": 1, \"5\": 2}, \"53\": {\"53\": 19, \"20\": 1}, \"52\": {\"52\": 16}, \"40\": {\"40\": 32}, \"80\": {\"31\": 2, \"80\": 8, \"18\": 2, \"29\": 2, \"118\": 1, \"84\": 1}, \"109\": {\"109\": 31, \"118\": 2, \"76\": 1, \"62\": 1, \"69\": 1}, \"97\": {\"97\": 10, \"108\": 1, \"47\": 3, \"27\": 1, \"42\": 1, \"112\": 1, \"15\": 1, \"85\": 1, \"3\": 1}, \"20\": {\"20\": 12, \"80\": 2, \"70\": 1, \"53\": 1}, \"101\": {\"68\": 1, \"78\": 1, \"101\": 17, \"16\": 1, \"0\": 14, \"58\": 5, \"111\": 1, \"127\": 1, \"21\": 1}, \"23\": {\"91\": 1, \"110\": 1, \"67\": 2, \"8\": 1, \"23\": 3, \"81\": 2, \"19\": 1, \"126\": 5, \"39\": 2, \"121\": 3, \"1\": 1, \"3\": 2, \"63\": 1, \"127\": 2, \"124\": 1}, \"4\": {\"4\": 32, \"105\": 4, \"86\": 2}, \"54\": {\"54\": 14, \"21\": 1, \"75\": 1}, \"108\": {\"108\": 15, \"112\": 1, \"97\": 1, \"88\": 2, \"42\": 4, \"85\": 3, \"73\": 1, \"20\": 2, \"70\": 2, \"30\": 1}, \"69\": {\"69\": 31, \"118\": 2, \"88\": 1}, \"47\": {\"47\": 11, \"124\": 1}, \"51\": {\"51\": 10, \"6\": 3, \"101\": 1, \"68\": 2}, \"60\": {\"19\": 3, \"70\": 2, \"60\": 7, \"110\": 4, \"44\": 2, \"28\": 2, \"29\": 1, \"90\": 2, \"128\": 1, \"124\": 2}}}, \"per_domain_accuracy\": {\"CORES_5\": {\"accuracy\": 0.996551724137931, \"source?\": true}, \"CORES_1\": {\"accuracy\": 0.9992816091954023, \"source?\": true}, \"CORES_3\": {\"accuracy\": 0.9978448275862069, \"source?\": true}, \"CORES_4\": {\"accuracy\": 0.9978448275862069, \"source?\": true}, \"CORES_2\": {\"accuracy\": 0.9982758620689656, \"source?\": true}, \"Wisig_4\": {\"accuracy\": 0.660734149054505, \"source?\": false}, \"Wisig_1\": {\"accuracy\": 0.739367816091954, \"source?\": false}, \"Wisig_2\": {\"accuracy\": 0.6908866995073891, \"source?\": false}, \"Wisig_3\": {\"accuracy\": 0.7349137931034483, \"source?\": false}}}, \"history\": {\"epoch_indices\": [1, 2, 3], \"train_label_loss\": [0.305819319009229, 0.01340462718781832, 0.016101777011613517], \"source_val_label_loss\": [0.022382162511348724, 0.013017751276493073, 0.026700234040617943], \"target_val_label_loss\": [1.8444671630859375, 2.77732253074646, 4.166895389556885], \"source_val_acc_label\": [0.9980244252873564, 0.9978448275862069, 0.9933548850574713], \"target_val_acc_label\": [0.7059536637931034, 0.6811018318965517, 0.6537580818965517]}, \"dataset_metrics\": {\"source\": {\"train\": {\"n_unique_x\": 75765, \"n_unique_y\": 58, \"n_batch/episode\": 351}, \"val\": {\"n_unique_x\": 11798, \"n_unique_y\": 58, \"n_batch/episode\": 48}, \"test\": {\"n_unique_x\": 12331, \"n_unique_y\": 58, \"n_batch/episode\": 50}}, \"target\": {\"train\": {\"n_unique_x\": 142512, \"n_unique_y\": 130, \"n_batch/episode\": 924}, \"val\": {\"n_unique_x\": 26024, \"n_unique_y\": 130, \"n_batch/episode\": 128}, \"test\": {\"n_unique_x\": 26933, \"n_unique_y\": 130, \"n_batch/episode\": 133}}}}'"
      ]
     },
     "execution_count": 29,
     "metadata": {},
     "output_type": "execute_result"
    }
   ],
   "source": [
    "json.dumps(experiment)"
   ]
  }
 ],
 "metadata": {
  "celltoolbar": "Tags",
  "kernelspec": {
   "display_name": "Python 3 (ipykernel)",
   "language": "python",
   "name": "python3"
  },
  "language_info": {
   "codemirror_mode": {
    "name": "ipython",
    "version": 3
   },
   "file_extension": ".py",
   "mimetype": "text/x-python",
   "name": "python",
   "nbconvert_exporter": "python",
   "pygments_lexer": "ipython3",
   "version": "3.8.12"
  },
  "papermill": {
   "default_parameters": {},
   "duration": 257.62141,
   "end_time": "2022-03-21T03:37:12.862197",
   "environment_variables": {},
   "exception": null,
   "input_path": "/root/csc500-main/csc500-notebooks/templates/tl_ptn_template.ipynb",
   "output_path": "trial.ipynb",
   "parameters": {
    "parameters": {
     "BEST_MODEL_PATH": "./best_model.pth",
     "NUM_LOGS_PER_EPOCH": 10,
     "criteria_for_best": "target_accuracy",
     "dataset_seed": 7,
     "datasets": [
      {
       "domain_prefix": "CORES_",
       "domains": [
        1,
        2,
        3,
        4,
        5
       ],
       "episode_transforms": [],
       "labels": [
        "1-10.",
        "1-11.",
        "1-15.",
        "1-16.",
        "1-17.",
        "1-18.",
        "1-19.",
        "10-4.",
        "10-7.",
        "11-1.",
        "11-14.",
        "11-17.",
        "11-20.",
        "11-7.",
        "13-20.",
        "13-8.",
        "14-10.",
        "14-11.",
        "14-14.",
        "14-7.",
        "15-1.",
        "15-20.",
        "16-1.",
        "16-16.",
        "17-10.",
        "17-11.",
        "17-2.",
        "19-1.",
        "19-16.",
        "19-19.",
        "19-20.",
        "19-3.",
        "2-10.",
        "2-11.",
        "2-17.",
        "2-18.",
        "2-20.",
        "2-3.",
        "2-4.",
        "2-5.",
        "2-6.",
        "2-7.",
        "2-8.",
        "3-13.",
        "3-18.",
        "3-3.",
        "4-1.",
        "4-10.",
        "4-11.",
        "4-19.",
        "5-5.",
        "6-15.",
        "7-10.",
        "7-14.",
        "8-18.",
        "8-20.",
        "8-3.",
        "8-8."
       ],
       "num_examples_per_domain_per_label": -1,
       "pickle_path": "/root/csc500-main/datasets/cores.stratified_ds.2022A.pkl",
       "source_or_target_dataset": "source",
       "x_transforms": [
        "unit_mag"
       ]
      },
      {
       "domain_prefix": "Wisig_",
       "domains": [
        1,
        2,
        3,
        4
       ],
       "episode_transforms": [],
       "labels": [
        "1-10",
        "1-12",
        "1-14",
        "1-16",
        "1-18",
        "1-19",
        "1-8",
        "10-11",
        "10-17",
        "10-4",
        "10-7",
        "11-1",
        "11-10",
        "11-19",
        "11-20",
        "11-4",
        "11-7",
        "12-19",
        "12-20",
        "12-7",
        "13-14",
        "13-18",
        "13-19",
        "13-20",
        "13-3",
        "13-7",
        "14-10",
        "14-11",
        "14-12",
        "14-13",
        "14-14",
        "14-19",
        "14-20",
        "14-7",
        "14-8",
        "14-9",
        "15-1",
        "15-19",
        "15-6",
        "16-1",
        "16-16",
        "16-19",
        "16-20",
        "17-10",
        "17-11",
        "18-1",
        "18-10",
        "18-11",
        "18-12",
        "18-13",
        "18-14",
        "18-15",
        "18-16",
        "18-17",
        "18-19",
        "18-2",
        "18-20",
        "18-4",
        "18-5",
        "18-7",
        "18-8",
        "18-9",
        "19-1",
        "19-10",
        "19-11",
        "19-12",
        "19-13",
        "19-14",
        "19-15",
        "19-19",
        "19-2",
        "19-20",
        "19-3",
        "19-4",
        "19-6",
        "19-7",
        "19-8",
        "19-9",
        "2-1",
        "2-13",
        "2-15",
        "2-3",
        "2-4",
        "2-5",
        "2-6",
        "2-7",
        "2-8",
        "20-1",
        "20-12",
        "20-14",
        "20-15",
        "20-16",
        "20-18",
        "20-19",
        "20-20",
        "20-3",
        "20-4",
        "20-5",
        "20-7",
        "20-8",
        "3-1",
        "3-13",
        "3-18",
        "3-2",
        "3-8",
        "4-1",
        "4-10",
        "4-11",
        "5-1",
        "5-5",
        "6-1",
        "6-15",
        "6-6",
        "7-10",
        "7-11",
        "7-12",
        "7-13",
        "7-14",
        "7-7",
        "7-8",
        "7-9",
        "8-1",
        "8-13",
        "8-14",
        "8-18",
        "8-20",
        "8-3",
        "8-8",
        "9-1",
        "9-7"
       ],
       "num_examples_per_domain_per_label": -1,
       "pickle_path": "/root/csc500-main/datasets/wisig.node3-19.stratified_ds.2022A.pkl",
       "source_or_target_dataset": "target",
       "x_transforms": [
        "unit_mag"
       ]
      }
     ],
     "device": "cuda",
     "experiment_name": "tl_1v2:cores-wisig",
     "lr": 0.0001,
     "n_epoch": 3,
     "n_query": 2,
     "n_shot": 3,
     "n_way": 58,
     "patience": 3,
     "seed": 7,
     "test_k_factor": 2,
     "torch_default_dtype": "torch.float32",
     "train_k_factor": 3,
     "val_k_factor": 2,
     "x_net": [
      {
       "class": "nnReshape",
       "kargs": {
        "shape": [
         -1,
         1,
         2,
         256
        ]
       }
      },
      {
       "class": "Conv2d",
       "kargs": {
        "bias": false,
        "in_channels": 1,
        "kernel_size": [
         1,
         7
        ],
        "out_channels": 256,
        "padding": [
         0,
         3
        ]
       }
      },
      {
       "class": "ReLU",
       "kargs": {
        "inplace": true
       }
      },
      {
       "class": "BatchNorm2d",
       "kargs": {
        "num_features": 256
       }
      },
      {
       "class": "Conv2d",
       "kargs": {
        "bias": true,
        "in_channels": 256,
        "kernel_size": [
         2,
         7
        ],
        "out_channels": 80,
        "padding": [
         0,
         3
        ]
       }
      },
      {
       "class": "ReLU",
       "kargs": {
        "inplace": true
       }
      },
      {
       "class": "BatchNorm2d",
       "kargs": {
        "num_features": 80
       }
      },
      {
       "class": "Flatten",
       "kargs": {}
      },
      {
       "class": "Linear",
       "kargs": {
        "in_features": 20480,
        "out_features": 256
       }
      },
      {
       "class": "ReLU",
       "kargs": {
        "inplace": true
       }
      },
      {
       "class": "BatchNorm1d",
       "kargs": {
        "num_features": 256
       }
      },
      {
       "class": "Linear",
       "kargs": {
        "in_features": 256,
        "out_features": 256
       }
      }
     ]
    }
   },
   "start_time": "2022-03-21T03:32:55.240787",
   "version": "2.3.4"
  }
 },
 "nbformat": 4,
 "nbformat_minor": 5
}