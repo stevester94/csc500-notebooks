{
 "cells": [
  {
   "cell_type": "markdown",
   "id": "9fea5f46",
   "metadata": {
    "papermill": {
     "duration": 0.032553,
     "end_time": "2022-03-21T04:17:43.389465",
     "exception": false,
     "start_time": "2022-03-21T04:17:43.356912",
     "status": "completed"
    },
    "tags": []
   },
   "source": [
    "# Transfer Learning Template"
   ]
  },
  {
   "cell_type": "code",
   "execution_count": 1,
   "id": "0902182a",
   "metadata": {
    "execution": {
     "iopub.execute_input": "2022-03-21T04:17:43.454094Z",
     "iopub.status.busy": "2022-03-21T04:17:43.453216Z",
     "iopub.status.idle": "2022-03-21T04:17:45.324253Z",
     "shell.execute_reply": "2022-03-21T04:17:45.323321Z"
    },
    "papermill": {
     "duration": 1.91064,
     "end_time": "2022-03-21T04:17:45.324442",
     "exception": false,
     "start_time": "2022-03-21T04:17:43.413802",
     "status": "completed"
    },
    "tags": []
   },
   "outputs": [],
   "source": [
    "%load_ext autoreload\n",
    "%autoreload 2\n",
    "%matplotlib inline\n",
    "\n",
    "    \n",
    "import os, json, sys, time, random\n",
    "import numpy as np\n",
    "import torch\n",
    "from torch.optim import Adam\n",
    "from  easydict import EasyDict\n",
    "import matplotlib.pyplot as plt\n",
    "\n",
    "from steves_models.steves_ptn import Steves_Prototypical_Network\n",
    "\n",
    "from steves_utils.lazy_iterable_wrapper import Lazy_Iterable_Wrapper\n",
    "from steves_utils.iterable_aggregator import Iterable_Aggregator\n",
    "from steves_utils.ptn_train_eval_test_jig import  PTN_Train_Eval_Test_Jig\n",
    "from steves_utils.torch_sequential_builder import build_sequential\n",
    "from steves_utils.torch_utils import get_dataset_metrics, ptn_confusion_by_domain_over_dataloader\n",
    "from steves_utils.utils_v2 import (per_domain_accuracy_from_confusion, get_datasets_base_path)\n",
    "from steves_utils.PTN.utils import independent_accuracy_assesment\n",
    "\n",
    "from torch.utils.data import DataLoader\n",
    "\n",
    "from steves_utils.stratified_dataset.episodic_accessor import Episodic_Accessor_Factory\n",
    "\n",
    "from steves_utils.ptn_do_report import (\n",
    "    get_loss_curve,\n",
    "    get_results_table,\n",
    "    get_parameters_table,\n",
    "    get_domain_accuracies,\n",
    ")\n",
    "\n",
    "from steves_utils.transforms import get_chained_transform"
   ]
  },
  {
   "cell_type": "markdown",
   "id": "41c840b4",
   "metadata": {
    "papermill": {
     "duration": 0.01986,
     "end_time": "2022-03-21T04:17:45.371369",
     "exception": false,
     "start_time": "2022-03-21T04:17:45.351509",
     "status": "completed"
    },
    "tags": []
   },
   "source": [
    "# Allowed Parameters\n",
    "These are allowed parameters, not defaults\n",
    "Each of these values need to be present in the injected parameters (the notebook will raise an exception if they are not present)\n",
    "\n",
    "Papermill uses the cell tag \"parameters\" to inject the real parameters below this cell.\n",
    "Enable tags to see what I mean"
   ]
  },
  {
   "cell_type": "code",
   "execution_count": 2,
   "id": "fd44eb83",
   "metadata": {
    "execution": {
     "iopub.execute_input": "2022-03-21T04:17:45.417097Z",
     "iopub.status.busy": "2022-03-21T04:17:45.416548Z",
     "iopub.status.idle": "2022-03-21T04:17:45.442577Z",
     "shell.execute_reply": "2022-03-21T04:17:45.441871Z"
    },
    "papermill": {
     "duration": 0.051435,
     "end_time": "2022-03-21T04:17:45.442736",
     "exception": false,
     "start_time": "2022-03-21T04:17:45.391301",
     "status": "completed"
    },
    "tags": []
   },
   "outputs": [],
   "source": [
    "required_parameters = {\n",
    "    \"experiment_name\",\n",
    "    \"lr\",\n",
    "    \"device\",\n",
    "    \"seed\",\n",
    "    \"dataset_seed\",\n",
    "    \"n_shot\",\n",
    "    \"n_query\",\n",
    "    \"n_way\",\n",
    "    \"train_k_factor\",\n",
    "    \"val_k_factor\",\n",
    "    \"test_k_factor\",\n",
    "    \"n_epoch\",\n",
    "    \"patience\",\n",
    "    \"criteria_for_best\",\n",
    "    \"x_net\",\n",
    "    \"datasets\",\n",
    "    \"torch_default_dtype\",\n",
    "    \"NUM_LOGS_PER_EPOCH\",\n",
    "    \"BEST_MODEL_PATH\",\n",
    "    \"x_shape\",\n",
    "}"
   ]
  },
  {
   "cell_type": "code",
   "execution_count": 3,
   "id": "fa3f0049",
   "metadata": {
    "execution": {
     "iopub.execute_input": "2022-03-21T04:17:45.506445Z",
     "iopub.status.busy": "2022-03-21T04:17:45.505550Z",
     "iopub.status.idle": "2022-03-21T04:17:45.528026Z",
     "shell.execute_reply": "2022-03-21T04:17:45.527187Z"
    },
    "papermill": {
     "duration": 0.057421,
     "end_time": "2022-03-21T04:17:45.528189",
     "exception": false,
     "start_time": "2022-03-21T04:17:45.470768",
     "status": "completed"
    },
    "tags": [
     "parameters"
    ]
   },
   "outputs": [],
   "source": [
    "from steves_utils.CORES.utils import (\n",
    "    ALL_NODES,\n",
    "    ALL_NODES_MINIMUM_1000_EXAMPLES,\n",
    "    ALL_DAYS\n",
    ")\n",
    "\n",
    "from steves_utils.ORACLE.utils_v2 import (\n",
    "    ALL_DISTANCES_FEET_NARROWED,\n",
    "    ALL_RUNS,\n",
    "    ALL_SERIAL_NUMBERS,\n",
    ")\n",
    "\n",
    "standalone_parameters = {}\n",
    "standalone_parameters[\"experiment_name\"] = \"STANDALONE PTN\"\n",
    "standalone_parameters[\"lr\"] = 0.001\n",
    "standalone_parameters[\"device\"] = \"cuda\"\n",
    "\n",
    "standalone_parameters[\"seed\"] = 1337\n",
    "standalone_parameters[\"dataset_seed\"] = 1337\n",
    "\n",
    "standalone_parameters[\"n_way\"] = 8\n",
    "standalone_parameters[\"n_shot\"] = 3\n",
    "standalone_parameters[\"n_query\"]  = 2\n",
    "standalone_parameters[\"train_k_factor\"] = 1\n",
    "standalone_parameters[\"val_k_factor\"] = 2\n",
    "standalone_parameters[\"test_k_factor\"] = 2\n",
    "\n",
    "\n",
    "standalone_parameters[\"n_epoch\"] = 50\n",
    "\n",
    "standalone_parameters[\"patience\"] = 10\n",
    "standalone_parameters[\"criteria_for_best\"] = \"source_loss\"\n",
    "\n",
    "standalone_parameters[\"datasets\"] = [\n",
    "    {\n",
    "        \"labels\": ALL_SERIAL_NUMBERS,\n",
    "        \"domains\": ALL_DISTANCES_FEET_NARROWED,\n",
    "        \"num_examples_per_domain_per_label\": 100,\n",
    "        \"pickle_path\": os.path.join(get_datasets_base_path(), \"oracle.Run1_framed_2000Examples_stratified_ds.2022A.pkl\"),\n",
    "        \"source_or_target_dataset\": \"source\",\n",
    "        \"x_transforms\": [\"unit_mag\", \"minus_two\"],\n",
    "        \"episode_transforms\": [],\n",
    "        \"domain_prefix\": \"ORACLE_\"\n",
    "    },\n",
    "    {\n",
    "        \"labels\": ALL_NODES,\n",
    "        \"domains\": ALL_DAYS,\n",
    "        \"num_examples_per_domain_per_label\": 100,\n",
    "        \"pickle_path\": os.path.join(get_datasets_base_path(), \"cores.stratified_ds.2022A.pkl\"),\n",
    "        \"source_or_target_dataset\": \"target\",\n",
    "        \"x_transforms\": [\"unit_power\", \"times_zero\"],\n",
    "        \"episode_transforms\": [],\n",
    "        \"domain_prefix\": \"CORES_\"\n",
    "    }   \n",
    "]\n",
    "\n",
    "standalone_parameters[\"torch_default_dtype\"] = \"torch.float32\" \n",
    "\n",
    "\n",
    "\n",
    "standalone_parameters[\"x_net\"] =     [\n",
    "    {\"class\": \"nnReshape\", \"kargs\": {\"shape\":[-1, 1, 2, 256]}},\n",
    "    {\"class\": \"Conv2d\", \"kargs\": { \"in_channels\":1, \"out_channels\":256, \"kernel_size\":(1,7), \"bias\":False, \"padding\":(0,3), },},\n",
    "    {\"class\": \"ReLU\", \"kargs\": {\"inplace\": True}},\n",
    "    {\"class\": \"BatchNorm2d\", \"kargs\": {\"num_features\":256}},\n",
    "\n",
    "    {\"class\": \"Conv2d\", \"kargs\": { \"in_channels\":256, \"out_channels\":80, \"kernel_size\":(2,7), \"bias\":True, \"padding\":(0,3), },},\n",
    "    {\"class\": \"ReLU\", \"kargs\": {\"inplace\": True}},\n",
    "    {\"class\": \"BatchNorm2d\", \"kargs\": {\"num_features\":80}},\n",
    "    {\"class\": \"Flatten\", \"kargs\": {}},\n",
    "\n",
    "    {\"class\": \"Linear\", \"kargs\": {\"in_features\": 80*256, \"out_features\": 256}}, # 80 units per IQ pair\n",
    "    {\"class\": \"ReLU\", \"kargs\": {\"inplace\": True}},\n",
    "    {\"class\": \"BatchNorm1d\", \"kargs\": {\"num_features\":256}},\n",
    "\n",
    "    {\"class\": \"Linear\", \"kargs\": {\"in_features\": 256, \"out_features\": 256}},\n",
    "]\n",
    "\n",
    "# Parameters relevant to results\n",
    "# These parameters will basically never need to change\n",
    "standalone_parameters[\"NUM_LOGS_PER_EPOCH\"] = 10\n",
    "standalone_parameters[\"BEST_MODEL_PATH\"] = \"./best_model.pth\"\n",
    "\n",
    "\n",
    "\n",
    "\n"
   ]
  },
  {
   "cell_type": "code",
   "execution_count": 4,
   "id": "6f1fc1aa",
   "metadata": {
    "execution": {
     "iopub.execute_input": "2022-03-21T04:17:45.594700Z",
     "iopub.status.busy": "2022-03-21T04:17:45.589652Z",
     "iopub.status.idle": "2022-03-21T04:17:45.617334Z",
     "shell.execute_reply": "2022-03-21T04:17:45.616628Z"
    },
    "papermill": {
     "duration": 0.062137,
     "end_time": "2022-03-21T04:17:45.617492",
     "exception": false,
     "start_time": "2022-03-21T04:17:45.555355",
     "status": "completed"
    },
    "tags": [
     "injected-parameters"
    ]
   },
   "outputs": [],
   "source": [
    "# Parameters\n",
    "parameters = {\n",
    "    \"experiment_name\": \"tl_1v2:cores-wisig\",\n",
    "    \"device\": \"cuda\",\n",
    "    \"lr\": 0.0001,\n",
    "    \"n_shot\": 3,\n",
    "    \"n_query\": 2,\n",
    "    \"train_k_factor\": 3,\n",
    "    \"val_k_factor\": 2,\n",
    "    \"test_k_factor\": 2,\n",
    "    \"torch_default_dtype\": \"torch.float32\",\n",
    "    \"n_epoch\": 3,\n",
    "    \"patience\": 3,\n",
    "    \"criteria_for_best\": \"target_accuracy\",\n",
    "    \"x_net\": [\n",
    "        {\"class\": \"nnReshape\", \"kargs\": {\"shape\": [-1, 1, 2, 256]}},\n",
    "        {\n",
    "            \"class\": \"Conv2d\",\n",
    "            \"kargs\": {\n",
    "                \"in_channels\": 1,\n",
    "                \"out_channels\": 256,\n",
    "                \"kernel_size\": [1, 7],\n",
    "                \"bias\": False,\n",
    "                \"padding\": [0, 3],\n",
    "            },\n",
    "        },\n",
    "        {\"class\": \"ReLU\", \"kargs\": {\"inplace\": True}},\n",
    "        {\"class\": \"BatchNorm2d\", \"kargs\": {\"num_features\": 256}},\n",
    "        {\n",
    "            \"class\": \"Conv2d\",\n",
    "            \"kargs\": {\n",
    "                \"in_channels\": 256,\n",
    "                \"out_channels\": 80,\n",
    "                \"kernel_size\": [2, 7],\n",
    "                \"bias\": True,\n",
    "                \"padding\": [0, 3],\n",
    "            },\n",
    "        },\n",
    "        {\"class\": \"ReLU\", \"kargs\": {\"inplace\": True}},\n",
    "        {\"class\": \"BatchNorm2d\", \"kargs\": {\"num_features\": 80}},\n",
    "        {\"class\": \"Flatten\", \"kargs\": {}},\n",
    "        {\"class\": \"Linear\", \"kargs\": {\"in_features\": 20480, \"out_features\": 256}},\n",
    "        {\"class\": \"ReLU\", \"kargs\": {\"inplace\": True}},\n",
    "        {\"class\": \"BatchNorm1d\", \"kargs\": {\"num_features\": 256}},\n",
    "        {\"class\": \"Linear\", \"kargs\": {\"in_features\": 256, \"out_features\": 256}},\n",
    "    ],\n",
    "    \"NUM_LOGS_PER_EPOCH\": 10,\n",
    "    \"BEST_MODEL_PATH\": \"./best_model.pth\",\n",
    "    \"n_way\": 58,\n",
    "    \"datasets\": [\n",
    "        {\n",
    "            \"labels\": [\n",
    "                \"1-10.\",\n",
    "                \"1-11.\",\n",
    "                \"1-15.\",\n",
    "                \"1-16.\",\n",
    "                \"1-17.\",\n",
    "                \"1-18.\",\n",
    "                \"1-19.\",\n",
    "                \"10-4.\",\n",
    "                \"10-7.\",\n",
    "                \"11-1.\",\n",
    "                \"11-14.\",\n",
    "                \"11-17.\",\n",
    "                \"11-20.\",\n",
    "                \"11-7.\",\n",
    "                \"13-20.\",\n",
    "                \"13-8.\",\n",
    "                \"14-10.\",\n",
    "                \"14-11.\",\n",
    "                \"14-14.\",\n",
    "                \"14-7.\",\n",
    "                \"15-1.\",\n",
    "                \"15-20.\",\n",
    "                \"16-1.\",\n",
    "                \"16-16.\",\n",
    "                \"17-10.\",\n",
    "                \"17-11.\",\n",
    "                \"17-2.\",\n",
    "                \"19-1.\",\n",
    "                \"19-16.\",\n",
    "                \"19-19.\",\n",
    "                \"19-20.\",\n",
    "                \"19-3.\",\n",
    "                \"2-10.\",\n",
    "                \"2-11.\",\n",
    "                \"2-17.\",\n",
    "                \"2-18.\",\n",
    "                \"2-20.\",\n",
    "                \"2-3.\",\n",
    "                \"2-4.\",\n",
    "                \"2-5.\",\n",
    "                \"2-6.\",\n",
    "                \"2-7.\",\n",
    "                \"2-8.\",\n",
    "                \"3-13.\",\n",
    "                \"3-18.\",\n",
    "                \"3-3.\",\n",
    "                \"4-1.\",\n",
    "                \"4-10.\",\n",
    "                \"4-11.\",\n",
    "                \"4-19.\",\n",
    "                \"5-5.\",\n",
    "                \"6-15.\",\n",
    "                \"7-10.\",\n",
    "                \"7-14.\",\n",
    "                \"8-18.\",\n",
    "                \"8-20.\",\n",
    "                \"8-3.\",\n",
    "                \"8-8.\",\n",
    "            ],\n",
    "            \"domains\": [1, 2, 3, 4, 5],\n",
    "            \"num_examples_per_domain_per_label\": -1,\n",
    "            \"pickle_path\": \"/root/csc500-main/datasets/cores.stratified_ds.2022A.pkl\",\n",
    "            \"source_or_target_dataset\": \"target\",\n",
    "            \"x_transforms\": [\"unit_mag\"],\n",
    "            \"episode_transforms\": [],\n",
    "            \"domain_prefix\": \"CORES_\",\n",
    "        },\n",
    "        {\n",
    "            \"labels\": [\n",
    "                \"1-10\",\n",
    "                \"1-12\",\n",
    "                \"1-14\",\n",
    "                \"1-16\",\n",
    "                \"1-18\",\n",
    "                \"1-19\",\n",
    "                \"1-8\",\n",
    "                \"10-11\",\n",
    "                \"10-17\",\n",
    "                \"10-4\",\n",
    "                \"10-7\",\n",
    "                \"11-1\",\n",
    "                \"11-10\",\n",
    "                \"11-19\",\n",
    "                \"11-20\",\n",
    "                \"11-4\",\n",
    "                \"11-7\",\n",
    "                \"12-19\",\n",
    "                \"12-20\",\n",
    "                \"12-7\",\n",
    "                \"13-14\",\n",
    "                \"13-18\",\n",
    "                \"13-19\",\n",
    "                \"13-20\",\n",
    "                \"13-3\",\n",
    "                \"13-7\",\n",
    "                \"14-10\",\n",
    "                \"14-11\",\n",
    "                \"14-12\",\n",
    "                \"14-13\",\n",
    "                \"14-14\",\n",
    "                \"14-19\",\n",
    "                \"14-20\",\n",
    "                \"14-7\",\n",
    "                \"14-8\",\n",
    "                \"14-9\",\n",
    "                \"15-1\",\n",
    "                \"15-19\",\n",
    "                \"15-6\",\n",
    "                \"16-1\",\n",
    "                \"16-16\",\n",
    "                \"16-19\",\n",
    "                \"16-20\",\n",
    "                \"17-10\",\n",
    "                \"17-11\",\n",
    "                \"18-1\",\n",
    "                \"18-10\",\n",
    "                \"18-11\",\n",
    "                \"18-12\",\n",
    "                \"18-13\",\n",
    "                \"18-14\",\n",
    "                \"18-15\",\n",
    "                \"18-16\",\n",
    "                \"18-17\",\n",
    "                \"18-19\",\n",
    "                \"18-2\",\n",
    "                \"18-20\",\n",
    "                \"18-4\",\n",
    "                \"18-5\",\n",
    "                \"18-7\",\n",
    "                \"18-8\",\n",
    "                \"18-9\",\n",
    "                \"19-1\",\n",
    "                \"19-10\",\n",
    "                \"19-11\",\n",
    "                \"19-12\",\n",
    "                \"19-13\",\n",
    "                \"19-14\",\n",
    "                \"19-15\",\n",
    "                \"19-19\",\n",
    "                \"19-2\",\n",
    "                \"19-20\",\n",
    "                \"19-3\",\n",
    "                \"19-4\",\n",
    "                \"19-6\",\n",
    "                \"19-7\",\n",
    "                \"19-8\",\n",
    "                \"19-9\",\n",
    "                \"2-1\",\n",
    "                \"2-13\",\n",
    "                \"2-15\",\n",
    "                \"2-3\",\n",
    "                \"2-4\",\n",
    "                \"2-5\",\n",
    "                \"2-6\",\n",
    "                \"2-7\",\n",
    "                \"2-8\",\n",
    "                \"20-1\",\n",
    "                \"20-12\",\n",
    "                \"20-14\",\n",
    "                \"20-15\",\n",
    "                \"20-16\",\n",
    "                \"20-18\",\n",
    "                \"20-19\",\n",
    "                \"20-20\",\n",
    "                \"20-3\",\n",
    "                \"20-4\",\n",
    "                \"20-5\",\n",
    "                \"20-7\",\n",
    "                \"20-8\",\n",
    "                \"3-1\",\n",
    "                \"3-13\",\n",
    "                \"3-18\",\n",
    "                \"3-2\",\n",
    "                \"3-8\",\n",
    "                \"4-1\",\n",
    "                \"4-10\",\n",
    "                \"4-11\",\n",
    "                \"5-1\",\n",
    "                \"5-5\",\n",
    "                \"6-1\",\n",
    "                \"6-15\",\n",
    "                \"6-6\",\n",
    "                \"7-10\",\n",
    "                \"7-11\",\n",
    "                \"7-12\",\n",
    "                \"7-13\",\n",
    "                \"7-14\",\n",
    "                \"7-7\",\n",
    "                \"7-8\",\n",
    "                \"7-9\",\n",
    "                \"8-1\",\n",
    "                \"8-13\",\n",
    "                \"8-14\",\n",
    "                \"8-18\",\n",
    "                \"8-20\",\n",
    "                \"8-3\",\n",
    "                \"8-8\",\n",
    "                \"9-1\",\n",
    "                \"9-7\",\n",
    "            ],\n",
    "            \"domains\": [1, 2, 3, 4],\n",
    "            \"num_examples_per_domain_per_label\": -1,\n",
    "            \"pickle_path\": \"/root/csc500-main/datasets/wisig.node3-19.stratified_ds.2022A.pkl\",\n",
    "            \"source_or_target_dataset\": \"source\",\n",
    "            \"x_transforms\": [\"unit_mag\"],\n",
    "            \"episode_transforms\": [],\n",
    "            \"domain_prefix\": \"Wisig_\",\n",
    "        },\n",
    "    ],\n",
    "    \"dataset_seed\": 500,\n",
    "    \"seed\": 500,\n",
    "}\n"
   ]
  },
  {
   "cell_type": "code",
   "execution_count": 5,
   "id": "8fa1cc33",
   "metadata": {
    "execution": {
     "iopub.execute_input": "2022-03-21T04:17:45.672601Z",
     "iopub.status.busy": "2022-03-21T04:17:45.671965Z",
     "iopub.status.idle": "2022-03-21T04:17:45.695517Z",
     "shell.execute_reply": "2022-03-21T04:17:45.694707Z"
    },
    "papermill": {
     "duration": 0.051058,
     "end_time": "2022-03-21T04:17:45.695693",
     "exception": false,
     "start_time": "2022-03-21T04:17:45.644635",
     "status": "completed"
    },
    "tags": []
   },
   "outputs": [],
   "source": [
    "# Set this to True if you want to run this template directly\n",
    "STANDALONE = False\n",
    "if STANDALONE:\n",
    "    print(\"parameters not injected, running with standalone_parameters\")\n",
    "    parameters = standalone_parameters\n",
    "\n",
    "if not 'parameters' in locals() and not 'parameters' in globals():\n",
    "    raise Exception(\"Parameter injection failed\")\n",
    "\n",
    "#Use an easy dict for all the parameters\n",
    "p = EasyDict(parameters)\n",
    "\n",
    "if \"x_shape\" not in p:\n",
    "    p.x_shape = [2,256] # Default to this if we dont supply x_shape\n",
    "\n",
    "\n",
    "supplied_keys = set(p.keys())\n",
    "\n",
    "if  supplied_keys != required_parameters:\n",
    "    print(\"Parameters are incorrect\")\n",
    "    if len(supplied_keys - required_parameters)>0: print(\"Shouldn't have:\", str(supplied_keys - required_parameters))\n",
    "    if len(required_parameters - supplied_keys)>0: print(\"Need to have:\", str(required_parameters - supplied_keys))\n",
    "    raise RuntimeError(\"Parameters are incorrect\")"
   ]
  },
  {
   "cell_type": "code",
   "execution_count": 6,
   "id": "3a028d58",
   "metadata": {
    "execution": {
     "iopub.execute_input": "2022-03-21T04:17:45.745751Z",
     "iopub.status.busy": "2022-03-21T04:17:45.745070Z",
     "iopub.status.idle": "2022-03-21T04:17:45.768057Z",
     "shell.execute_reply": "2022-03-21T04:17:45.767290Z"
    },
    "papermill": {
     "duration": 0.047281,
     "end_time": "2022-03-21T04:17:45.768217",
     "exception": false,
     "start_time": "2022-03-21T04:17:45.720936",
     "status": "completed"
    },
    "tags": []
   },
   "outputs": [],
   "source": [
    "###################################\n",
    "# Set the RNGs and make it all deterministic\n",
    "###################################\n",
    "np.random.seed(p.seed)\n",
    "random.seed(p.seed)\n",
    "torch.manual_seed(p.seed)\n",
    "\n",
    "torch.use_deterministic_algorithms(True) "
   ]
  },
  {
   "cell_type": "code",
   "execution_count": 7,
   "id": "b691acf6",
   "metadata": {
    "execution": {
     "iopub.execute_input": "2022-03-21T04:17:45.821799Z",
     "iopub.status.busy": "2022-03-21T04:17:45.821431Z",
     "iopub.status.idle": "2022-03-21T04:17:45.846947Z",
     "shell.execute_reply": "2022-03-21T04:17:45.846209Z"
    },
    "papermill": {
     "duration": 0.049643,
     "end_time": "2022-03-21T04:17:45.847109",
     "exception": false,
     "start_time": "2022-03-21T04:17:45.797466",
     "status": "completed"
    },
    "tags": []
   },
   "outputs": [],
   "source": [
    "###########################################\n",
    "# The stratified datasets honor this\n",
    "###########################################\n",
    "torch.set_default_dtype(eval(p.torch_default_dtype))"
   ]
  },
  {
   "cell_type": "code",
   "execution_count": 8,
   "id": "b5fba671",
   "metadata": {
    "execution": {
     "iopub.execute_input": "2022-03-21T04:17:45.897807Z",
     "iopub.status.busy": "2022-03-21T04:17:45.897243Z",
     "iopub.status.idle": "2022-03-21T04:17:45.956803Z",
     "shell.execute_reply": "2022-03-21T04:17:45.955998Z"
    },
    "papermill": {
     "duration": 0.084049,
     "end_time": "2022-03-21T04:17:45.956986",
     "exception": false,
     "start_time": "2022-03-21T04:17:45.872937",
     "status": "completed"
    },
    "tags": []
   },
   "outputs": [],
   "source": [
    "###################################\n",
    "# Build the network(s)\n",
    "# Note: It's critical to do this AFTER setting the RNG\n",
    "###################################\n",
    "x_net = build_sequential(p.x_net)"
   ]
  },
  {
   "cell_type": "code",
   "execution_count": 9,
   "id": "5d7e61cc",
   "metadata": {
    "execution": {
     "iopub.execute_input": "2022-03-21T04:17:46.012556Z",
     "iopub.status.busy": "2022-03-21T04:17:46.012002Z",
     "iopub.status.idle": "2022-03-21T04:17:46.039194Z",
     "shell.execute_reply": "2022-03-21T04:17:46.038389Z"
    },
    "papermill": {
     "duration": 0.052485,
     "end_time": "2022-03-21T04:17:46.039357",
     "exception": false,
     "start_time": "2022-03-21T04:17:45.986872",
     "status": "completed"
    },
    "tags": []
   },
   "outputs": [],
   "source": [
    "start_time_secs = time.time()"
   ]
  },
  {
   "cell_type": "code",
   "execution_count": 10,
   "id": "c6b67dfd",
   "metadata": {
    "execution": {
     "iopub.execute_input": "2022-03-21T04:17:46.090829Z",
     "iopub.status.busy": "2022-03-21T04:17:46.090459Z",
     "iopub.status.idle": "2022-03-21T04:17:46.113183Z",
     "shell.execute_reply": "2022-03-21T04:17:46.112379Z"
    },
    "papermill": {
     "duration": 0.0478,
     "end_time": "2022-03-21T04:17:46.113340",
     "exception": false,
     "start_time": "2022-03-21T04:17:46.065540",
     "status": "completed"
    },
    "tags": []
   },
   "outputs": [],
   "source": [
    "p.domains_source = []\n",
    "p.domains_target = []\n",
    "\n",
    "\n",
    "train_original_source = []\n",
    "val_original_source   = []\n",
    "test_original_source  = []\n",
    "\n",
    "train_original_target = []\n",
    "val_original_target   = []\n",
    "test_original_target  = []"
   ]
  },
  {
   "cell_type": "code",
   "execution_count": 11,
   "id": "e3d9c3d3",
   "metadata": {
    "execution": {
     "iopub.execute_input": "2022-03-21T04:17:46.164757Z",
     "iopub.status.busy": "2022-03-21T04:17:46.164387Z",
     "iopub.status.idle": "2022-03-21T04:17:46.188015Z",
     "shell.execute_reply": "2022-03-21T04:17:46.188683Z"
    },
    "papermill": {
     "duration": 0.048171,
     "end_time": "2022-03-21T04:17:46.188869",
     "exception": false,
     "start_time": "2022-03-21T04:17:46.140698",
     "status": "completed"
    },
    "tags": []
   },
   "outputs": [],
   "source": [
    "# global_x_transform_func = lambda x: normalize(x.to(torch.get_default_dtype()), \"unit_power\") # unit_power, unit_mag\n",
    "# global_x_transform_func = lambda x: normalize(x, \"unit_power\") # unit_power, unit_mag"
   ]
  },
  {
   "cell_type": "code",
   "execution_count": 12,
   "id": "acb78fd2",
   "metadata": {
    "execution": {
     "iopub.execute_input": "2022-03-21T04:17:46.248205Z",
     "iopub.status.busy": "2022-03-21T04:17:46.247245Z",
     "iopub.status.idle": "2022-03-21T04:17:46.269353Z",
     "shell.execute_reply": "2022-03-21T04:17:46.268454Z"
    },
    "papermill": {
     "duration": 0.055359,
     "end_time": "2022-03-21T04:17:46.269530",
     "exception": false,
     "start_time": "2022-03-21T04:17:46.214171",
     "status": "completed"
    },
    "tags": []
   },
   "outputs": [],
   "source": [
    "def add_dataset(\n",
    "    labels,\n",
    "    domains,\n",
    "    pickle_path,\n",
    "    x_transforms,\n",
    "    episode_transforms,\n",
    "    domain_prefix,\n",
    "    num_examples_per_domain_per_label,\n",
    "    source_or_target_dataset:str,\n",
    "    iterator_seed=p.seed,\n",
    "    dataset_seed=p.dataset_seed,\n",
    "    n_shot=p.n_shot,\n",
    "    n_way=p.n_way,\n",
    "    n_query=p.n_query,\n",
    "    train_val_test_k_factors=(p.train_k_factor,p.val_k_factor,p.test_k_factor),\n",
    "):\n",
    "   \n",
    "    if x_transforms == []: x_transform = None\n",
    "    else: x_transform = get_chained_transform(x_transforms)\n",
    "    \n",
    "    if episode_transforms == []: episode_transform = None\n",
    "    else: raise Exception(\"episode_transforms not implemented\")\n",
    "    \n",
    "    episode_transform = lambda tup, _prefix=domain_prefix: (_prefix + str(tup[0]), tup[1])\n",
    "\n",
    "\n",
    "    eaf = Episodic_Accessor_Factory(\n",
    "        labels=labels,\n",
    "        domains=domains,\n",
    "        num_examples_per_domain_per_label=num_examples_per_domain_per_label,\n",
    "        iterator_seed=iterator_seed,\n",
    "        dataset_seed=dataset_seed,\n",
    "        n_shot=n_shot,\n",
    "        n_way=n_way,\n",
    "        n_query=n_query,\n",
    "        train_val_test_k_factors=train_val_test_k_factors,\n",
    "        pickle_path=pickle_path,\n",
    "        x_transform_func=x_transform,\n",
    "    )\n",
    "\n",
    "    train, val, test = eaf.get_train(), eaf.get_val(), eaf.get_test()\n",
    "    train = Lazy_Iterable_Wrapper(train, episode_transform)\n",
    "    val = Lazy_Iterable_Wrapper(val, episode_transform)\n",
    "    test = Lazy_Iterable_Wrapper(test, episode_transform)\n",
    "\n",
    "    if source_or_target_dataset==\"source\":\n",
    "        train_original_source.append(train)\n",
    "        val_original_source.append(val)\n",
    "        test_original_source.append(test)\n",
    "\n",
    "        p.domains_source.extend(\n",
    "            [domain_prefix + str(u) for u in domains]\n",
    "        )\n",
    "    elif source_or_target_dataset==\"target\":\n",
    "        train_original_target.append(train)\n",
    "        val_original_target.append(val)\n",
    "        test_original_target.append(test)\n",
    "        p.domains_target.extend(\n",
    "            [domain_prefix + str(u) for u in domains]\n",
    "        )\n",
    "    else:\n",
    "        raise Exception(f\"invalid source_or_target_dataset: {source_or_target_dataset}\")\n",
    "    "
   ]
  },
  {
   "cell_type": "code",
   "execution_count": 13,
   "id": "fe266617",
   "metadata": {
    "execution": {
     "iopub.execute_input": "2022-03-21T04:17:46.323042Z",
     "iopub.status.busy": "2022-03-21T04:17:46.322648Z",
     "iopub.status.idle": "2022-03-21T04:18:28.740075Z",
     "shell.execute_reply": "2022-03-21T04:18:28.739290Z"
    },
    "papermill": {
     "duration": 42.442082,
     "end_time": "2022-03-21T04:18:28.740272",
     "exception": false,
     "start_time": "2022-03-21T04:17:46.298190",
     "status": "completed"
    },
    "tags": []
   },
   "outputs": [],
   "source": [
    "for ds in p.datasets:\n",
    "    add_dataset(**ds)"
   ]
  },
  {
   "cell_type": "code",
   "execution_count": 14,
   "id": "b90d65ac",
   "metadata": {
    "execution": {
     "iopub.execute_input": "2022-03-21T04:18:28.790479Z",
     "iopub.status.busy": "2022-03-21T04:18:28.790083Z",
     "iopub.status.idle": "2022-03-21T04:18:28.814465Z",
     "shell.execute_reply": "2022-03-21T04:18:28.815144Z"
    },
    "papermill": {
     "duration": 0.050001,
     "end_time": "2022-03-21T04:18:28.815335",
     "exception": false,
     "start_time": "2022-03-21T04:18:28.765334",
     "status": "completed"
    },
    "tags": []
   },
   "outputs": [],
   "source": [
    "# from steves_utils.CORES.utils import (\n",
    "#     ALL_NODES,\n",
    "#     ALL_NODES_MINIMUM_1000_EXAMPLES,\n",
    "#     ALL_DAYS\n",
    "# )\n",
    "\n",
    "# add_dataset(\n",
    "#     labels=ALL_NODES,\n",
    "#     domains = ALL_DAYS,\n",
    "#     num_examples_per_domain_per_label=100,\n",
    "#     pickle_path=os.path.join(get_datasets_base_path(), \"cores.stratified_ds.2022A.pkl\"),\n",
    "#     source_or_target_dataset=\"target\",\n",
    "#     x_transform_func=global_x_transform_func,\n",
    "#     domain_modifier=lambda u: f\"cores_{u}\"\n",
    "# )"
   ]
  },
  {
   "cell_type": "code",
   "execution_count": 15,
   "id": "76db484d",
   "metadata": {
    "execution": {
     "iopub.execute_input": "2022-03-21T04:18:28.867638Z",
     "iopub.status.busy": "2022-03-21T04:18:28.866860Z",
     "iopub.status.idle": "2022-03-21T04:18:28.889172Z",
     "shell.execute_reply": "2022-03-21T04:18:28.888413Z"
    },
    "papermill": {
     "duration": 0.046285,
     "end_time": "2022-03-21T04:18:28.889398",
     "exception": false,
     "start_time": "2022-03-21T04:18:28.843113",
     "status": "completed"
    },
    "tags": []
   },
   "outputs": [],
   "source": [
    "# from steves_utils.ORACLE.utils_v2 import (\n",
    "#     ALL_DISTANCES_FEET,\n",
    "#     ALL_RUNS,\n",
    "#     ALL_SERIAL_NUMBERS,\n",
    "# )\n",
    "\n",
    "\n",
    "# add_dataset(\n",
    "#     labels=ALL_SERIAL_NUMBERS,\n",
    "#     domains = list(set(ALL_DISTANCES_FEET) - {2,62}),\n",
    "#     num_examples_per_domain_per_label=100,\n",
    "#     pickle_path=os.path.join(get_datasets_base_path(), \"oracle.Run2_framed_2000Examples_stratified_ds.2022A.pkl\"),\n",
    "#     source_or_target_dataset=\"source\",\n",
    "#     x_transform_func=global_x_transform_func,\n",
    "#     domain_modifier=lambda u: f\"oracle1_{u}\"\n",
    "# )\n"
   ]
  },
  {
   "cell_type": "code",
   "execution_count": 16,
   "id": "97dea9d2",
   "metadata": {
    "execution": {
     "iopub.execute_input": "2022-03-21T04:18:28.945441Z",
     "iopub.status.busy": "2022-03-21T04:18:28.944864Z",
     "iopub.status.idle": "2022-03-21T04:18:28.965760Z",
     "shell.execute_reply": "2022-03-21T04:18:28.964952Z"
    },
    "papermill": {
     "duration": 0.046983,
     "end_time": "2022-03-21T04:18:28.965929",
     "exception": false,
     "start_time": "2022-03-21T04:18:28.918946",
     "status": "completed"
    },
    "tags": []
   },
   "outputs": [],
   "source": [
    "# from steves_utils.ORACLE.utils_v2 import (\n",
    "#     ALL_DISTANCES_FEET,\n",
    "#     ALL_RUNS,\n",
    "#     ALL_SERIAL_NUMBERS,\n",
    "# )\n",
    "\n",
    "\n",
    "# add_dataset(\n",
    "#     labels=ALL_SERIAL_NUMBERS,\n",
    "#     domains = list(set(ALL_DISTANCES_FEET) - {2,62,56}),\n",
    "#     num_examples_per_domain_per_label=100,\n",
    "#     pickle_path=os.path.join(get_datasets_base_path(), \"oracle.Run2_framed_2000Examples_stratified_ds.2022A.pkl\"),\n",
    "#     source_or_target_dataset=\"source\",\n",
    "#     x_transform_func=global_x_transform_func,\n",
    "#     domain_modifier=lambda u: f\"oracle2_{u}\"\n",
    "# )"
   ]
  },
  {
   "cell_type": "code",
   "execution_count": 17,
   "id": "6f289866",
   "metadata": {
    "execution": {
     "iopub.execute_input": "2022-03-21T04:18:29.016775Z",
     "iopub.status.busy": "2022-03-21T04:18:29.016397Z",
     "iopub.status.idle": "2022-03-21T04:18:29.032564Z",
     "shell.execute_reply": "2022-03-21T04:18:29.033252Z"
    },
    "papermill": {
     "duration": 0.040713,
     "end_time": "2022-03-21T04:18:29.033445",
     "exception": false,
     "start_time": "2022-03-21T04:18:28.992732",
     "status": "completed"
    },
    "tags": []
   },
   "outputs": [],
   "source": [
    "# add_dataset(\n",
    "#     labels=list(range(19)),\n",
    "#     domains = [0,1,2],\n",
    "#     num_examples_per_domain_per_label=100,\n",
    "#     pickle_path=os.path.join(get_datasets_base_path(), \"metehan.stratified_ds.2022A.pkl\"),\n",
    "#     source_or_target_dataset=\"target\",\n",
    "#     x_transform_func=global_x_transform_func,\n",
    "#     domain_modifier=lambda u: f\"met_{u}\"\n",
    "# )"
   ]
  },
  {
   "cell_type": "code",
   "execution_count": 18,
   "id": "86a863c3",
   "metadata": {
    "execution": {
     "iopub.execute_input": "2022-03-21T04:18:29.085187Z",
     "iopub.status.busy": "2022-03-21T04:18:29.084801Z",
     "iopub.status.idle": "2022-03-21T04:18:29.105598Z",
     "shell.execute_reply": "2022-03-21T04:18:29.104777Z"
    },
    "papermill": {
     "duration": 0.045622,
     "end_time": "2022-03-21T04:18:29.105757",
     "exception": false,
     "start_time": "2022-03-21T04:18:29.060135",
     "status": "completed"
    },
    "tags": []
   },
   "outputs": [],
   "source": [
    "# # from steves_utils.wisig.utils import (\n",
    "# #     ALL_NODES_MINIMUM_100_EXAMPLES,\n",
    "# #     ALL_NODES_MINIMUM_500_EXAMPLES,\n",
    "# #     ALL_NODES_MINIMUM_1000_EXAMPLES,\n",
    "# #     ALL_DAYS\n",
    "# # )\n",
    "\n",
    "# import steves_utils.wisig.utils as wisig\n",
    "\n",
    "\n",
    "# add_dataset(\n",
    "#     labels=wisig.ALL_NODES_MINIMUM_100_EXAMPLES,\n",
    "#     domains = wisig.ALL_DAYS,\n",
    "#     num_examples_per_domain_per_label=100,\n",
    "#     pickle_path=os.path.join(get_datasets_base_path(), \"wisig.node3-19.stratified_ds.2022A.pkl\"),\n",
    "#     source_or_target_dataset=\"target\",\n",
    "#     x_transform_func=global_x_transform_func,\n",
    "#     domain_modifier=lambda u: f\"wisig_{u}\"\n",
    "# )"
   ]
  },
  {
   "cell_type": "code",
   "execution_count": 19,
   "id": "fd5442bc",
   "metadata": {
    "execution": {
     "iopub.execute_input": "2022-03-21T04:18:29.160110Z",
     "iopub.status.busy": "2022-03-21T04:18:29.159411Z",
     "iopub.status.idle": "2022-03-21T04:18:29.178092Z",
     "shell.execute_reply": "2022-03-21T04:18:29.177336Z"
    },
    "papermill": {
     "duration": 0.045632,
     "end_time": "2022-03-21T04:18:29.178258",
     "exception": false,
     "start_time": "2022-03-21T04:18:29.132626",
     "status": "completed"
    },
    "tags": []
   },
   "outputs": [],
   "source": [
    "###################################\n",
    "# Build the dataset\n",
    "###################################\n",
    "train_original_source = Iterable_Aggregator(train_original_source, p.seed)\n",
    "val_original_source = Iterable_Aggregator(val_original_source, p.seed)\n",
    "test_original_source = Iterable_Aggregator(test_original_source, p.seed)\n",
    "\n",
    "\n",
    "train_original_target = Iterable_Aggregator(train_original_target, p.seed)\n",
    "val_original_target = Iterable_Aggregator(val_original_target, p.seed)\n",
    "test_original_target = Iterable_Aggregator(test_original_target, p.seed)\n",
    "\n",
    "# For CNN We only use X and Y. And we only train on the source.\n",
    "# Properly form the data using a transform lambda and Lazy_Iterable_Wrapper. Finally wrap them in a dataloader\n",
    "\n",
    "transform_lambda = lambda ex: ex[1] # Original is (<domain>, <episode>) so we strip down to episode only\n",
    "\n",
    "train_processed_source = Lazy_Iterable_Wrapper(train_original_source, transform_lambda)\n",
    "val_processed_source   = Lazy_Iterable_Wrapper(val_original_source, transform_lambda)\n",
    "test_processed_source  = Lazy_Iterable_Wrapper(test_original_source, transform_lambda)\n",
    "\n",
    "train_processed_target = Lazy_Iterable_Wrapper(train_original_target, transform_lambda)\n",
    "val_processed_target   = Lazy_Iterable_Wrapper(val_original_target, transform_lambda)\n",
    "test_processed_target  = Lazy_Iterable_Wrapper(test_original_target, transform_lambda)\n",
    "\n",
    "datasets = EasyDict({\n",
    "    \"source\": {\n",
    "        \"original\": {\"train\":train_original_source, \"val\":val_original_source, \"test\":test_original_source},\n",
    "        \"processed\": {\"train\":train_processed_source, \"val\":val_processed_source, \"test\":test_processed_source}\n",
    "    },\n",
    "    \"target\": {\n",
    "        \"original\": {\"train\":train_original_target, \"val\":val_original_target, \"test\":test_original_target},\n",
    "        \"processed\": {\"train\":train_processed_target, \"val\":val_processed_target, \"test\":test_processed_target}\n",
    "    },\n",
    "})"
   ]
  },
  {
   "cell_type": "code",
   "execution_count": 20,
   "id": "5b3c01fc",
   "metadata": {
    "execution": {
     "iopub.execute_input": "2022-03-21T04:18:29.230984Z",
     "iopub.status.busy": "2022-03-21T04:18:29.230597Z",
     "iopub.status.idle": "2022-03-21T04:18:36.909256Z",
     "shell.execute_reply": "2022-03-21T04:18:36.908285Z"
    },
    "papermill": {
     "duration": 7.704178,
     "end_time": "2022-03-21T04:18:36.909502",
     "exception": false,
     "start_time": "2022-03-21T04:18:29.205324",
     "status": "completed"
    },
    "tags": []
   },
   "outputs": [
    {
     "name": "stdout",
     "output_type": "stream",
     "text": [
      "{'Wisig_4', 'Wisig_1', 'Wisig_3', 'Wisig_2'}\n"
     ]
    },
    {
     "name": "stdout",
     "output_type": "stream",
     "text": [
      "{'CORES_5', 'CORES_4', 'CORES_1', 'CORES_3', 'CORES_2'}\n"
     ]
    },
    {
     "name": "stdout",
     "output_type": "stream",
     "text": [
      "tensor([[[ 0.4080,  1.2980,  0.3540,  ..., -0.0057,  0.1646, -0.5138],\n",
      "         [-0.2055,  0.1303,  1.0992,  ..., -0.1568,  0.3986,  0.6932]],\n",
      "\n",
      "        [[ 0.4917,  0.2080, -0.9609,  ...,  0.1358, -0.4880, -0.7948],\n",
      "         [ 0.3613,  1.2627,  0.5166,  ..., -0.0605,  0.3310, -0.3062]],\n",
      "\n",
      "        [[-0.3005, -1.0027,  0.0591,  ...,  0.0575,  0.1978,  0.9203],\n",
      "         [-0.1231, -0.5464, -1.1025,  ...,  0.1583, -0.4243, -0.5406]],\n",
      "\n",
      "        ...,\n",
      "\n",
      "        [[ 0.4915, -0.2682, -1.3333,  ..., -0.2808, -0.3660, -0.9256],\n",
      "         [ 0.4714,  0.8538,  0.1953,  ...,  0.5654,  0.7234,  0.2798]],\n",
      "\n",
      "        [[ 0.6656,  0.4665, -0.3711,  ...,  0.2048,  0.2551, -0.3571],\n",
      "         [ 0.1457,  0.5277,  0.6192,  ...,  0.5365,  0.7627,  0.9491]],\n",
      "\n",
      "        [[-0.1576,  0.4011,  0.6455,  ...,  0.3636,  0.4609,  1.0458],\n",
      "         [-0.4792, -0.4404,  0.1816,  ..., -0.4408, -0.5177, -0.1628]]])\n"
     ]
    }
   ],
   "source": [
    "from steves_utils.transforms import get_average_magnitude, get_average_power\n",
    "\n",
    "print(set([u for u,_ in val_original_source]))\n",
    "print(set([u for u,_ in val_original_target]))\n",
    "\n",
    "s_x, s_y, q_x, q_y, _ = next(iter(train_processed_source))\n",
    "print(s_x)\n",
    "\n",
    "# for ds in [\n",
    "#     train_processed_source,\n",
    "#     val_processed_source,\n",
    "#     test_processed_source,\n",
    "#     train_processed_target,\n",
    "#     val_processed_target,\n",
    "#     test_processed_target\n",
    "# ]:\n",
    "#     for s_x, s_y, q_x, q_y, _ in ds:\n",
    "#         for X in (s_x, q_x):\n",
    "#             for x in X:\n",
    "#                 assert np.isclose(get_average_magnitude(x.numpy()), 1.0)\n",
    "#                 assert np.isclose(get_average_power(x.numpy()), 1.0)\n",
    "                "
   ]
  },
  {
   "cell_type": "code",
   "execution_count": 21,
   "id": "bbdacba1",
   "metadata": {
    "execution": {
     "iopub.execute_input": "2022-03-21T04:18:36.969337Z",
     "iopub.status.busy": "2022-03-21T04:18:36.968947Z",
     "iopub.status.idle": "2022-03-21T04:18:37.168447Z",
     "shell.execute_reply": "2022-03-21T04:18:37.168051Z"
    },
    "papermill": {
     "duration": 0.230568,
     "end_time": "2022-03-21T04:18:37.168554",
     "exception": false,
     "start_time": "2022-03-21T04:18:36.937986",
     "status": "completed"
    },
    "tags": []
   },
   "outputs": [
    {
     "name": "stdout",
     "output_type": "stream",
     "text": [
      "(2, 256)\n"
     ]
    }
   ],
   "source": [
    "###################################\n",
    "# Build the model\n",
    "###################################\n",
    "# easfsl only wants a tuple for the shape\n",
    "model = Steves_Prototypical_Network(x_net, device=p.device, x_shape=tuple(p.x_shape))\n",
    "optimizer = Adam(params=model.parameters(), lr=p.lr)"
   ]
  },
  {
   "cell_type": "code",
   "execution_count": 22,
   "id": "22b39ac5",
   "metadata": {
    "execution": {
     "iopub.execute_input": "2022-03-21T04:18:37.222655Z",
     "iopub.status.busy": "2022-03-21T04:18:37.222085Z",
     "iopub.status.idle": "2022-03-21T04:22:06.668325Z",
     "shell.execute_reply": "2022-03-21T04:22:06.667936Z"
    },
    "papermill": {
     "duration": 209.475319,
     "end_time": "2022-03-21T04:22:06.668413",
     "exception": false,
     "start_time": "2022-03-21T04:18:37.193094",
     "status": "completed"
    },
    "tags": []
   },
   "outputs": [
    {
     "name": "stdout",
     "output_type": "stream",
     "text": [
      "epoch: 1, [batch: 1 / 914], examples_per_second: 214.5097, train_label_loss: 3.8663, \n"
     ]
    },
    {
     "name": "stdout",
     "output_type": "stream",
     "text": [
      "epoch: 1, [batch: 92 / 914], examples_per_second: 5525.5184, train_label_loss: 0.8141, \n"
     ]
    },
    {
     "name": "stdout",
     "output_type": "stream",
     "text": [
      "epoch: 1, [batch: 183 / 914], examples_per_second: 4443.9929, train_label_loss: 0.5701, \n"
     ]
    },
    {
     "name": "stdout",
     "output_type": "stream",
     "text": [
      "epoch: 1, [batch: 274 / 914], examples_per_second: 4261.5985, train_label_loss: 0.4412, \n"
     ]
    },
    {
     "name": "stdout",
     "output_type": "stream",
     "text": [
      "epoch: 1, [batch: 366 / 914], examples_per_second: 4403.6831, train_label_loss: 0.3047, \n"
     ]
    },
    {
     "name": "stdout",
     "output_type": "stream",
     "text": [
      "epoch: 1, [batch: 457 / 914], examples_per_second: 4356.1113, train_label_loss: 0.3773, \n"
     ]
    },
    {
     "name": "stdout",
     "output_type": "stream",
     "text": [
      "epoch: 1, [batch: 548 / 914], examples_per_second: 4387.2349, train_label_loss: 0.2079, \n"
     ]
    },
    {
     "name": "stdout",
     "output_type": "stream",
     "text": [
      "epoch: 1, [batch: 640 / 914], examples_per_second: 4229.8023, train_label_loss: 0.2362, \n"
     ]
    },
    {
     "name": "stdout",
     "output_type": "stream",
     "text": [
      "epoch: 1, [batch: 731 / 914], examples_per_second: 4145.2934, train_label_loss: 0.2157, \n"
     ]
    },
    {
     "name": "stdout",
     "output_type": "stream",
     "text": [
      "epoch: 1, [batch: 822 / 914], examples_per_second: 4372.0142, train_label_loss: 0.3097, \n"
     ]
    },
    {
     "name": "stdout",
     "output_type": "stream",
     "text": [
      "=============================================================\n",
      "epoch: 1, source_val_acc_label: 0.9368, target_val_acc_label: 0.9767, source_val_label_loss: 0.3372, target_val_label_loss: 0.2105, \n",
      "=============================================================\n"
     ]
    },
    {
     "name": "stdout",
     "output_type": "stream",
     "text": [
      "New best\n"
     ]
    },
    {
     "name": "stdout",
     "output_type": "stream",
     "text": [
      "epoch: 2, [batch: 1 / 909], examples_per_second: 31.9564, train_label_loss: 0.2385, \n"
     ]
    },
    {
     "name": "stdout",
     "output_type": "stream",
     "text": [
      "epoch: 2, [batch: 91 / 909], examples_per_second: 4364.7634, train_label_loss: 0.1954, \n"
     ]
    },
    {
     "name": "stdout",
     "output_type": "stream",
     "text": [
      "epoch: 2, [batch: 182 / 909], examples_per_second: 4395.2642, train_label_loss: 0.1816, \n"
     ]
    },
    {
     "name": "stdout",
     "output_type": "stream",
     "text": [
      "epoch: 2, [batch: 273 / 909], examples_per_second: 4351.2631, train_label_loss: 0.1604, \n"
     ]
    },
    {
     "name": "stdout",
     "output_type": "stream",
     "text": [
      "epoch: 2, [batch: 364 / 909], examples_per_second: 4161.9631, train_label_loss: 0.1285, \n"
     ]
    },
    {
     "name": "stdout",
     "output_type": "stream",
     "text": [
      "epoch: 2, [batch: 455 / 909], examples_per_second: 4366.9985, train_label_loss: 0.4402, \n"
     ]
    },
    {
     "name": "stdout",
     "output_type": "stream",
     "text": [
      "epoch: 2, [batch: 545 / 909], examples_per_second: 4599.8170, train_label_loss: 0.2408, \n"
     ]
    },
    {
     "name": "stdout",
     "output_type": "stream",
     "text": [
      "epoch: 2, [batch: 636 / 909], examples_per_second: 4746.0745, train_label_loss: 0.2612, \n"
     ]
    },
    {
     "name": "stdout",
     "output_type": "stream",
     "text": [
      "epoch: 2, [batch: 727 / 909], examples_per_second: 4615.7455, train_label_loss: 0.0982, \n"
     ]
    },
    {
     "name": "stdout",
     "output_type": "stream",
     "text": [
      "epoch: 2, [batch: 818 / 909], examples_per_second: 5065.7591, train_label_loss: 0.4351, \n"
     ]
    },
    {
     "name": "stdout",
     "output_type": "stream",
     "text": [
      "=============================================================\n",
      "epoch: 2, source_val_acc_label: 0.9533, target_val_acc_label: 0.9765, source_val_label_loss: 0.2644, target_val_label_loss: 0.1728, \n",
      "=============================================================\n"
     ]
    },
    {
     "name": "stdout",
     "output_type": "stream",
     "text": [
      "epoch: 3, [batch: 1 / 906], examples_per_second: 34.8966, train_label_loss: 0.1557, \n"
     ]
    },
    {
     "name": "stdout",
     "output_type": "stream",
     "text": [
      "epoch: 3, [batch: 91 / 906], examples_per_second: 5627.9383, train_label_loss: 0.3261, \n"
     ]
    },
    {
     "name": "stdout",
     "output_type": "stream",
     "text": [
      "epoch: 3, [batch: 182 / 906], examples_per_second: 4242.8445, train_label_loss: 0.2351, \n"
     ]
    },
    {
     "name": "stdout",
     "output_type": "stream",
     "text": [
      "epoch: 3, [batch: 272 / 906], examples_per_second: 4362.9596, train_label_loss: 0.2491, \n"
     ]
    },
    {
     "name": "stdout",
     "output_type": "stream",
     "text": [
      "epoch: 3, [batch: 363 / 906], examples_per_second: 4207.8362, train_label_loss: 0.1527, \n"
     ]
    },
    {
     "name": "stdout",
     "output_type": "stream",
     "text": [
      "epoch: 3, [batch: 453 / 906], examples_per_second: 4627.8896, train_label_loss: 0.0775, \n"
     ]
    },
    {
     "name": "stdout",
     "output_type": "stream",
     "text": [
      "epoch: 3, [batch: 544 / 906], examples_per_second: 4337.6120, train_label_loss: 0.1200, \n"
     ]
    },
    {
     "name": "stdout",
     "output_type": "stream",
     "text": [
      "epoch: 3, [batch: 634 / 906], examples_per_second: 4394.3443, train_label_loss: 0.1613, \n"
     ]
    },
    {
     "name": "stdout",
     "output_type": "stream",
     "text": [
      "epoch: 3, [batch: 725 / 906], examples_per_second: 4693.6068, train_label_loss: 0.1299, \n"
     ]
    },
    {
     "name": "stdout",
     "output_type": "stream",
     "text": [
      "epoch: 3, [batch: 815 / 906], examples_per_second: 4695.5013, train_label_loss: 0.0162, \n"
     ]
    },
    {
     "name": "stdout",
     "output_type": "stream",
     "text": [
      "=============================================================\n",
      "epoch: 3, source_val_acc_label: 0.9611, target_val_acc_label: 0.9741, source_val_label_loss: 0.2241, target_val_label_loss: 0.1714, \n",
      "=============================================================\n"
     ]
    }
   ],
   "source": [
    "###################################\n",
    "# train\n",
    "###################################\n",
    "jig = PTN_Train_Eval_Test_Jig(model, p.BEST_MODEL_PATH, p.device)\n",
    "\n",
    "jig.train(\n",
    "    train_iterable=datasets.source.processed.train,\n",
    "    source_val_iterable=datasets.source.processed.val,\n",
    "    target_val_iterable=datasets.target.processed.val,\n",
    "    num_epochs=p.n_epoch,\n",
    "    num_logs_per_epoch=p.NUM_LOGS_PER_EPOCH,\n",
    "    patience=p.patience,\n",
    "    optimizer=optimizer,\n",
    "    criteria_for_best=p.criteria_for_best,\n",
    ")"
   ]
  },
  {
   "cell_type": "code",
   "execution_count": 23,
   "id": "31e8fabf",
   "metadata": {
    "execution": {
     "iopub.execute_input": "2022-03-21T04:22:06.736999Z",
     "iopub.status.busy": "2022-03-21T04:22:06.736633Z",
     "iopub.status.idle": "2022-03-21T04:22:06.770578Z",
     "shell.execute_reply": "2022-03-21T04:22:06.769752Z"
    },
    "papermill": {
     "duration": 0.070217,
     "end_time": "2022-03-21T04:22:06.770735",
     "exception": false,
     "start_time": "2022-03-21T04:22:06.700518",
     "status": "completed"
    },
    "tags": []
   },
   "outputs": [],
   "source": [
    "total_experiment_time_secs = time.time() - start_time_secs"
   ]
  },
  {
   "cell_type": "code",
   "execution_count": 24,
   "id": "87b9595b",
   "metadata": {
    "execution": {
     "iopub.execute_input": "2022-03-21T04:22:06.851689Z",
     "iopub.status.busy": "2022-03-21T04:22:06.851060Z",
     "iopub.status.idle": "2022-03-21T04:23:13.210170Z",
     "shell.execute_reply": "2022-03-21T04:23:13.210842Z"
    },
    "papermill": {
     "duration": 66.402585,
     "end_time": "2022-03-21T04:23:13.211075",
     "exception": false,
     "start_time": "2022-03-21T04:22:06.808490",
     "status": "completed"
    },
    "tags": []
   },
   "outputs": [],
   "source": [
    "###################################\n",
    "# Evaluate the model\n",
    "###################################\n",
    "source_test_label_accuracy, source_test_label_loss = jig.test(datasets.source.processed.test)\n",
    "target_test_label_accuracy, target_test_label_loss = jig.test(datasets.target.processed.test)\n",
    "\n",
    "source_val_label_accuracy, source_val_label_loss = jig.test(datasets.source.processed.val)\n",
    "target_val_label_accuracy, target_val_label_loss = jig.test(datasets.target.processed.val)\n",
    "\n",
    "history = jig.get_history()\n",
    "\n",
    "total_epochs_trained = len(history[\"epoch_indices\"])\n",
    "\n",
    "val_dl = Iterable_Aggregator((datasets.source.original.val,datasets.target.original.val))\n",
    "\n",
    "confusion = ptn_confusion_by_domain_over_dataloader(model, p.device, val_dl)\n",
    "per_domain_accuracy = per_domain_accuracy_from_confusion(confusion)\n",
    "\n",
    "# Add a key to per_domain_accuracy for if it was a source domain\n",
    "for domain, accuracy in per_domain_accuracy.items():\n",
    "    per_domain_accuracy[domain] = {\n",
    "        \"accuracy\": accuracy,\n",
    "        \"source?\": domain in p.domains_source\n",
    "    }\n",
    "\n",
    "# Do an independent accuracy assesment JUST TO BE SURE!\n",
    "# _source_test_label_accuracy = independent_accuracy_assesment(model, datasets.source.processed.test, p.device)\n",
    "# _target_test_label_accuracy = independent_accuracy_assesment(model, datasets.target.processed.test, p.device)\n",
    "# _source_val_label_accuracy = independent_accuracy_assesment(model, datasets.source.processed.val, p.device)\n",
    "# _target_val_label_accuracy = independent_accuracy_assesment(model, datasets.target.processed.val, p.device)\n",
    "\n",
    "# assert(_source_test_label_accuracy == source_test_label_accuracy)\n",
    "# assert(_target_test_label_accuracy == target_test_label_accuracy)\n",
    "# assert(_source_val_label_accuracy == source_val_label_accuracy)\n",
    "# assert(_target_val_label_accuracy == target_val_label_accuracy)\n",
    "\n",
    "experiment = {\n",
    "    \"experiment_name\": p.experiment_name,\n",
    "    \"parameters\": dict(p),\n",
    "    \"results\": {\n",
    "        \"source_test_label_accuracy\": source_test_label_accuracy,\n",
    "        \"source_test_label_loss\": source_test_label_loss,\n",
    "        \"target_test_label_accuracy\": target_test_label_accuracy,\n",
    "        \"target_test_label_loss\": target_test_label_loss,\n",
    "        \"source_val_label_accuracy\": source_val_label_accuracy,\n",
    "        \"source_val_label_loss\": source_val_label_loss,\n",
    "        \"target_val_label_accuracy\": target_val_label_accuracy,\n",
    "        \"target_val_label_loss\": target_val_label_loss,\n",
    "        \"total_epochs_trained\": total_epochs_trained,\n",
    "        \"total_experiment_time_secs\": total_experiment_time_secs,\n",
    "        \"confusion\": confusion,\n",
    "        \"per_domain_accuracy\": per_domain_accuracy,\n",
    "    },\n",
    "    \"history\": history,\n",
    "    \"dataset_metrics\": get_dataset_metrics(datasets, \"ptn\"),\n",
    "}"
   ]
  },
  {
   "cell_type": "code",
   "execution_count": 25,
   "id": "54a21829",
   "metadata": {
    "execution": {
     "iopub.execute_input": "2022-03-21T04:23:13.289092Z",
     "iopub.status.busy": "2022-03-21T04:23:13.288716Z",
     "iopub.status.idle": "2022-03-21T04:23:13.506292Z",
     "shell.execute_reply": "2022-03-21T04:23:13.506978Z"
    },
    "papermill": {
     "duration": 0.255138,
     "end_time": "2022-03-21T04:23:13.507192",
     "exception": false,
     "start_time": "2022-03-21T04:23:13.252054",
     "status": "completed"
    },
    "tags": []
   },
   "outputs": [
    {
     "data": {
      "image/png": "[encoded data removed]",
      "text/plain": [
       "<Figure size 1080x504 with 1 Axes>"
      ]
     },
     "metadata": {
      "needs_background": "light"
     },
     "output_type": "display_data"
    }
   ],
   "source": [
    "ax = get_loss_curve(experiment)\n",
    "plt.show()"
   ]
  },
  {
   "cell_type": "code",
   "execution_count": 26,
   "id": "fd8a0f60",
   "metadata": {
    "execution": {
     "iopub.execute_input": "2022-03-21T04:23:13.583744Z",
     "iopub.status.busy": "2022-03-21T04:23:13.583363Z",
     "iopub.status.idle": "2022-03-21T04:23:13.948171Z",
     "shell.execute_reply": "2022-03-21T04:23:13.948494Z"
    },
    "papermill": {
     "duration": 0.402233,
     "end_time": "2022-03-21T04:23:13.948615",
     "exception": false,
     "start_time": "2022-03-21T04:23:13.546382",
     "status": "completed"
    },
    "tags": []
   },
   "outputs": [
    {
     "data": {
      "text/plain": [
       "<AxesSubplot:title={'center':'Results'}>"
      ]
     },
     "execution_count": 26,
     "metadata": {},
     "output_type": "execute_result"
    },
    {
     "data": {
      "image/png": "[encoded data removed]",
      "text/plain": [
       "<Figure size 1080x504 with 1 Axes>"
      ]
     },
     "metadata": {
      "needs_background": "light"
     },
     "output_type": "display_data"
    }
   ],
   "source": [
    "get_results_table(experiment)"
   ]
  },
  {
   "cell_type": "code",
   "execution_count": 27,
   "id": "cf8dc689",
   "metadata": {
    "execution": {
     "iopub.execute_input": "2022-03-21T04:23:14.025619Z",
     "iopub.status.busy": "2022-03-21T04:23:14.025247Z",
     "iopub.status.idle": "2022-03-21T04:23:14.251140Z",
     "shell.execute_reply": "2022-03-21T04:23:14.251850Z"
    },
    "papermill": {
     "duration": 0.265183,
     "end_time": "2022-03-21T04:23:14.252060",
     "exception": false,
     "start_time": "2022-03-21T04:23:13.986877",
     "status": "completed"
    },
    "tags": []
   },
   "outputs": [
    {
     "data": {
      "text/plain": [
       "<AxesSubplot:title={'center':'Per Domain Validation Accuracy'}, xlabel='domain'>"
      ]
     },
     "execution_count": 27,
     "metadata": {},
     "output_type": "execute_result"
    },
    {
     "data": {
      "image/png": "[encoded data removed]",
      "text/plain": [
       "<Figure size 1080x504 with 1 Axes>"
      ]
     },
     "metadata": {
      "needs_background": "light"
     },
     "output_type": "display_data"
    }
   ],
   "source": [
    "get_domain_accuracies(experiment)"
   ]
  },
  {
   "cell_type": "code",
   "execution_count": 28,
   "id": "a74ae082",
   "metadata": {
    "execution": {
     "iopub.execute_input": "2022-03-21T04:23:14.335210Z",
     "iopub.status.busy": "2022-03-21T04:23:14.334834Z",
     "iopub.status.idle": "2022-03-21T04:23:14.357178Z",
     "shell.execute_reply": "2022-03-21T04:23:14.357841Z"
    },
    "papermill": {
     "duration": 0.062633,
     "end_time": "2022-03-21T04:23:14.358041",
     "exception": false,
     "start_time": "2022-03-21T04:23:14.295408",
     "status": "completed"
    },
    "tags": []
   },
   "outputs": [
    {
     "name": "stdout",
     "output_type": "stream",
     "text": [
      "Source Test Label Accuracy: 0.9388188368502316 Target Test Label Accuracy: 0.9736206896551725\n",
      "Source Val Label Accuracy: 0.9368265086206896 Target Val Label Accuracy: 0.9766522988505747\n"
     ]
    }
   ],
   "source": [
    "print(\"Source Test Label Accuracy:\", experiment[\"results\"][\"source_test_label_accuracy\"], \"Target Test Label Accuracy:\", experiment[\"results\"][\"target_test_label_accuracy\"])\n",
    "print(\"Source Val Label Accuracy:\", experiment[\"results\"][\"source_val_label_accuracy\"], \"Target Val Label Accuracy:\", experiment[\"results\"][\"target_val_label_accuracy\"])"
   ]
  },
  {
   "cell_type": "code",
   "execution_count": 29,
   "id": "dacca602",
   "metadata": {
    "execution": {
     "iopub.execute_input": "2022-03-21T04:23:14.440316Z",
     "iopub.status.busy": "2022-03-21T04:23:14.439913Z",
     "iopub.status.idle": "2022-03-21T04:23:14.468059Z",
     "shell.execute_reply": "2022-03-21T04:23:14.468726Z"
    },
    "papermill": {
     "duration": 0.067934,
     "end_time": "2022-03-21T04:23:14.468929",
     "exception": false,
     "start_time": "2022-03-21T04:23:14.400995",
     "status": "completed"
    },
    "tags": [
     "experiment_json"
    ]
   },
   "outputs": [
    {
     "data": {
      "text/plain": [
       "'{\"experiment_name\": \"tl_1v2:cores-wisig\", \"parameters\": {\"experiment_name\": \"tl_1v2:cores-wisig\", \"device\": \"cuda\", \"lr\": 0.0001, \"n_shot\": 3, \"n_query\": 2, \"train_k_factor\": 3, \"val_k_factor\": 2, \"test_k_factor\": 2, \"torch_default_dtype\": \"torch.float32\", \"n_epoch\": 3, \"patience\": 3, \"criteria_for_best\": \"target_accuracy\", \"x_net\": [{\"class\": \"nnReshape\", \"kargs\": {\"shape\": [-1, 1, 2, 256]}}, {\"class\": \"Conv2d\", \"kargs\": {\"in_channels\": 1, \"out_channels\": 256, \"kernel_size\": [1, 7], \"bias\": false, \"padding\": [0, 3]}}, {\"class\": \"ReLU\", \"kargs\": {\"inplace\": true}}, {\"class\": \"BatchNorm2d\", \"kargs\": {\"num_features\": 256}}, {\"class\": \"Conv2d\", \"kargs\": {\"in_channels\": 256, \"out_channels\": 80, \"kernel_size\": [2, 7], \"bias\": true, \"padding\": [0, 3]}}, {\"class\": \"ReLU\", \"kargs\": {\"inplace\": true}}, {\"class\": \"BatchNorm2d\", \"kargs\": {\"num_features\": 80}}, {\"class\": \"Flatten\", \"kargs\": {}}, {\"class\": \"Linear\", \"kargs\": {\"in_features\": 20480, \"out_features\": 256}}, {\"class\": \"ReLU\", \"kargs\": {\"inplace\": true}}, {\"class\": \"BatchNorm1d\", \"kargs\": {\"num_features\": 256}}, {\"class\": \"Linear\", \"kargs\": {\"in_features\": 256, \"out_features\": 256}}], \"NUM_LOGS_PER_EPOCH\": 10, \"BEST_MODEL_PATH\": \"./best_model.pth\", \"n_way\": 58, \"datasets\": [{\"labels\": [\"1-10.\", \"1-11.\", \"1-15.\", \"1-16.\", \"1-17.\", \"1-18.\", \"1-19.\", \"10-4.\", \"10-7.\", \"11-1.\", \"11-14.\", \"11-17.\", \"11-20.\", \"11-7.\", \"13-20.\", \"13-8.\", \"14-10.\", \"14-11.\", \"14-14.\", \"14-7.\", \"15-1.\", \"15-20.\", \"16-1.\", \"16-16.\", \"17-10.\", \"17-11.\", \"17-2.\", \"19-1.\", \"19-16.\", \"19-19.\", \"19-20.\", \"19-3.\", \"2-10.\", \"2-11.\", \"2-17.\", \"2-18.\", \"2-20.\", \"2-3.\", \"2-4.\", \"2-5.\", \"2-6.\", \"2-7.\", \"2-8.\", \"3-13.\", \"3-18.\", \"3-3.\", \"4-1.\", \"4-10.\", \"4-11.\", \"4-19.\", \"5-5.\", \"6-15.\", \"7-10.\", \"7-14.\", \"8-18.\", \"8-20.\", \"8-3.\", \"8-8.\"], \"domains\": [1, 2, 3, 4, 5], \"num_examples_per_domain_per_label\": -1, \"pickle_path\": \"/root/csc500-main/datasets/cores.stratified_ds.2022A.pkl\", \"source_or_target_dataset\": \"target\", \"x_transforms\": [\"unit_mag\"], \"episode_transforms\": [], \"domain_prefix\": \"CORES_\"}, {\"labels\": [\"1-10\", \"1-12\", \"1-14\", \"1-16\", \"1-18\", \"1-19\", \"1-8\", \"10-11\", \"10-17\", \"10-4\", \"10-7\", \"11-1\", \"11-10\", \"11-19\", \"11-20\", \"11-4\", \"11-7\", \"12-19\", \"12-20\", \"12-7\", \"13-14\", \"13-18\", \"13-19\", \"13-20\", \"13-3\", \"13-7\", \"14-10\", \"14-11\", \"14-12\", \"14-13\", \"14-14\", \"14-19\", \"14-20\", \"14-7\", \"14-8\", \"14-9\", \"15-1\", \"15-19\", \"15-6\", \"16-1\", \"16-16\", \"16-19\", \"16-20\", \"17-10\", \"17-11\", \"18-1\", \"18-10\", \"18-11\", \"18-12\", \"18-13\", \"18-14\", \"18-15\", \"18-16\", \"18-17\", \"18-19\", \"18-2\", \"18-20\", \"18-4\", \"18-5\", \"18-7\", \"18-8\", \"18-9\", \"19-1\", \"19-10\", \"19-11\", \"19-12\", \"19-13\", \"19-14\", \"19-15\", \"19-19\", \"19-2\", \"19-20\", \"19-3\", \"19-4\", \"19-6\", \"19-7\", \"19-8\", \"19-9\", \"2-1\", \"2-13\", \"2-15\", \"2-3\", \"2-4\", \"2-5\", \"2-6\", \"2-7\", \"2-8\", \"20-1\", \"20-12\", \"20-14\", \"20-15\", \"20-16\", \"20-18\", \"20-19\", \"20-20\", \"20-3\", \"20-4\", \"20-5\", \"20-7\", \"20-8\", \"3-1\", \"3-13\", \"3-18\", \"3-2\", \"3-8\", \"4-1\", \"4-10\", \"4-11\", \"5-1\", \"5-5\", \"6-1\", \"6-15\", \"6-6\", \"7-10\", \"7-11\", \"7-12\", \"7-13\", \"7-14\", \"7-7\", \"7-8\", \"7-9\", \"8-1\", \"8-13\", \"8-14\", \"8-18\", \"8-20\", \"8-3\", \"8-8\", \"9-1\", \"9-7\"], \"domains\": [1, 2, 3, 4], \"num_examples_per_domain_per_label\": -1, \"pickle_path\": \"/root/csc500-main/datasets/wisig.node3-19.stratified_ds.2022A.pkl\", \"source_or_target_dataset\": \"source\", \"x_transforms\": [\"unit_mag\"], \"episode_transforms\": [], \"domain_prefix\": \"Wisig_\"}], \"dataset_seed\": 500, \"seed\": 500, \"x_shape\": [2, 256], \"domains_source\": [\"Wisig_1\", \"Wisig_2\", \"Wisig_3\", \"Wisig_4\"], \"domains_target\": [\"CORES_1\", \"CORES_2\", \"CORES_3\", \"CORES_4\", \"CORES_5\"]}, \"results\": {\"source_test_label_accuracy\": 0.9388188368502316, \"source_test_label_loss\": 0.33358800411224365, \"target_test_label_accuracy\": 0.9736206896551725, \"target_test_label_loss\": 0.22368966042995453, \"source_val_label_accuracy\": 0.9368265086206896, \"source_val_label_loss\": 0.33719420433044434, \"target_val_label_accuracy\": 0.9766522988505747, \"target_val_label_loss\": 0.2105236053466797, \"total_epochs_trained\": 3, \"total_experiment_time_secs\": 260.73112201690674, \"confusion\": {\"Wisig_3\": {\"111\": {\"111\": 28, \"21\": 1, \"110\": 1}, \"108\": {\"108\": 33, \"85\": 1, \"24\": 1, \"88\": 1}, \"37\": {\"37\": 16}, \"38\": {\"38\": 16}, \"11\": {\"78\": 2, \"110\": 2, \"19\": 1, \"11\": 34, \"88\": 1}, \"22\": {\"22\": 16}, \"40\": {\"40\": 45, \"122\": 1}, \"107\": {\"107\": 44}, \"23\": {\"23\": 27, \"77\": 2, \"70\": 1, \"67\": 1, \"122\": 1}, \"34\": {\"34\": 29, \"124\": 2, \"6\": 1}, \"122\": {\"122\": 43, \"128\": 1}, \"29\": {\"29\": 32}, \"121\": {\"121\": 32}, \"93\": {\"93\": 42}, \"30\": {\"30\": 34, \"121\": 1, \"89\": 1}, \"127\": {\"127\": 39, \"118\": 1}, \"28\": {\"28\": 16}, \"47\": {\"47\": 12}, \"74\": {\"74\": 16}, \"79\": {\"79\": 12}, \"41\": {\"41\": 16}, \"86\": {\"86\": 27, \"81\": 1}, \"85\": {\"85\": 36}, \"45\": {\"45\": 16}, \"32\": {\"32\": 31, \"62\": 1}, \"16\": {\"100\": 2, \"16\": 33, \"62\": 1}, \"49\": {\"49\": 21, \"70\": 1, \"112\": 2}, \"58\": {\"58\": 16}, \"106\": {\"106\": 38}, \"78\": {\"16\": 2, \"4\": 3, \"87\": 2, \"78\": 8, \"86\": 1}, \"5\": {\"5\": 38}, \"26\": {\"26\": 46}, \"13\": {\"26\": 4, \"121\": 2, \"123\": 2, \"18\": 1, \"13\": 4, \"120\": 1, \"85\": 1, \"11\": 1}, \"27\": {\"27\": 28, \"69\": 1, \"36\": 10, \"78\": 1}, \"54\": {\"54\": 16}, \"68\": {\"68\": 15, \"128\": 1}, \"128\": {\"128\": 32}, \"104\": {\"104\": 16}, \"7\": {\"7\": 45, \"88\": 1}, \"116\": {\"121\": 1, \"116\": 27}, \"80\": {\"80\": 15, \"65\": 1}, \"92\": {\"92\": 31, \"8\": 1}, \"62\": {\"62\": 33, \"126\": 1}, \"64\": {\"64\": 20}, \"12\": {\"12\": 36, \"24\": 1, \"21\": 1}, \"56\": {\"34\": 1, \"56\": 10, \"6\": 1}, \"39\": {\"39\": 43, \"113\": 1}, \"98\": {\"98\": 33, \"121\": 1}, \"59\": {\"59\": 12}, \"90\": {\"90\": 31, \"92\": 1}, \"52\": {\"52\": 16}, \"105\": {\"105\": 42}, \"53\": {\"53\": 19, \"19\": 1}, \"43\": {\"43\": 42, \"116\": 1, \"118\": 1, \"92\": 1, \"13\": 1}, \"100\": {\"100\": 14, \"128\": 1, \"110\": 1}, \"61\": {\"61\": 16}, \"66\": {\"66\": 16}, \"103\": {\"103\": 15, \"13\": 1}, \"55\": {\"55\": 16}, \"75\": {\"75\": 16}, \"118\": {\"118\": 37, \"122\": 1}, \"117\": {\"117\": 40}, \"115\": {\"115\": 16}, \"110\": {\"110\": 30, \"19\": 1, \"129\": 1}, \"95\": {\"95\": 29, \"21\": 1}, \"18\": {\"18\": 40, \"63\": 1, \"121\": 1}, \"50\": {\"50\": 16}, \"112\": {\"112\": 13, \"108\": 2, \"88\": 1}, \"72\": {\"72\": 27, \"86\": 1}, \"109\": {\"109\": 42}, \"126\": {\"126\": 32}, \"14\": {\"14\": 44}, \"17\": {\"78\": 3, \"72\": 1, \"17\": 2, \"10\": 1, \"23\": 1, \"70\": 1, \"63\": 1, \"41\": 1, \"9\": 1, \"67\": 1, \"60\": 2, \"82\": 1}, \"51\": {\"51\": 16}, \"96\": {\"96\": 20}, \"77\": {\"77\": 16}, \"71\": {\"71\": 36}, \"4\": {\"4\": 31, \"21\": 1}, \"87\": {\"87\": 42}, \"120\": {\"120\": 20}, \"113\": {\"113\": 38}, \"123\": {\"123\": 15, \"121\": 1}, \"35\": {\"35\": 11, \"67\": 1}, \"83\": {\"83\": 22, \"24\": 2}, \"24\": {\"24\": 34, \"27\": 3, \"36\": 1}, \"102\": {\"102\": 38}, \"6\": {\"6\": 30, \"34\": 1, \"13\": 1}, \"81\": {\"81\": 30}, \"89\": {\"89\": 28}, \"114\": {\"114\": 35, \"121\": 1}, \"1\": {\"1\": 48}, \"25\": {\"25\": 16}, \"88\": {\"88\": 37, \"10\": 1, \"108\": 3, \"122\": 1}, \"46\": {\"46\": 16}, \"57\": {\"57\": 20}, \"73\": {\"73\": 33, \"39\": 1}, \"60\": {\"60\": 24, \"123\": 1, \"19\": 3}, \"10\": {\"10\": 42, \"17\": 1, \"102\": 1}, \"36\": {\"36\": 30, \"27\": 4}, \"65\": {\"65\": 8, \"39\": 2, \"92\": 2}, \"67\": {\"63\": 2, \"67\": 14}, \"119\": {\"119\": 16}, \"15\": {\"15\": 45, \"81\": 1, \"78\": 1, \"84\": 1}, \"42\": {\"42\": 26, \"83\": 1, \"108\": 1}, \"91\": {\"91\": 23, \"78\": 1}, \"3\": {\"3\": 33, \"30\": 1}, \"44\": {\"44\": 41, \"92\": 1}, \"63\": {\"9\": 1, \"63\": 13, \"78\": 1, \"87\": 1}, \"33\": {\"33\": 37, \"78\": 1}, \"69\": {\"69\": 35, \"122\": 1}, \"101\": {\"101\": 41, \"10\": 1, \"0\": 2, \"27\": 1, \"21\": 1}, \"48\": {\"119\": 4, \"79\": 4, \"85\": 3, \"48\": 4, \"53\": 1}, \"8\": {\"8\": 31, \"24\": 1}, \"124\": {\"124\": 44}, \"9\": {\"9\": 31, \"29\": 1}, \"21\": {\"21\": 20, \"17\": 1, \"121\": 1, \"125\": 1, \"122\": 1}, \"20\": {\"20\": 16}, \"0\": {\"0\": 47, \"21\": 1}, \"125\": {\"125\": 38, \"29\": 1, \"128\": 1}, \"19\": {\"19\": 26, \"8\": 1, \"110\": 2, \"128\": 1}, \"99\": {\"99\": 36}, \"94\": {\"21\": 1, \"94\": 27}, \"84\": {\"84\": 46}, \"70\": {\"70\": 33, \"19\": 1, \"30\": 1, \"88\": 1}, \"129\": {\"129\": 32}, \"76\": {\"76\": 16}, \"2\": {\"2\": 27, \"29\": 1}, \"97\": {\"97\": 20}, \"82\": {\"82\": 28}, \"31\": {\"31\": 20}}, \"Wisig_1\": {\"51\": {\"51\": 16}, \"103\": {\"103\": 16}, \"53\": {\"53\": 20}, \"24\": {\"24\": 38, \"108\": 1, \"69\": 1}, \"39\": {\"39\": 35, \"69\": 1, \"108\": 2, \"21\": 1, \"16\": 1}, \"90\": {\"90\": 46}, \"106\": {\"106\": 50}, \"54\": {\"54\": 14, \"46\": 2}, \"56\": {\"56\": 12}, \"118\": {\"118\": 34}, \"100\": {\"119\": 3, \"100\": 11, \"2\": 2}, \"95\": {\"95\": 36}, \"98\": {\"98\": 36}, \"36\": {\"36\": 41, \"27\": 1}, \"48\": {\"48\": 12}, \"107\": {\"107\": 38, \"10\": 1, \"4\": 1}, \"5\": {\"5\": 40, \"1\": 1, \"70\": 1}, \"82\": {\"82\": 34}, \"6\": {\"6\": 29, \"53\": 1, \"62\": 1, \"112\": 1}, \"27\": {\"27\": 41, \"97\": 1}, \"77\": {\"77\": 14, \"60\": 1, \"27\": 1}, \"75\": {\"75\": 16}, \"2\": {\"2\": 30, \"82\": 1, \"100\": 1}, \"31\": {\"31\": 16}, \"29\": {\"29\": 28}, \"35\": {\"35\": 12}, \"125\": {\"125\": 38}, \"123\": {\"123\": 15, \"23\": 1}, \"64\": {\"64\": 16}, \"50\": {\"50\": 16}, \"16\": {\"16\": 38, \"39\": 1, \"69\": 1}, \"79\": {\"79\": 12}, \"1\": {\"1\": 37, \"82\": 1}, \"70\": {\"5\": 1, \"70\": 36, \"128\": 1, \"49\": 2, \"97\": 2}, \"121\": {\"121\": 29, \"65\": 1}, \"14\": {\"14\": 40, \"102\": 2}, \"80\": {\"80\": 16}, \"99\": {\"99\": 24}, \"116\": {\"116\": 29, \"88\": 1, \"95\": 1, \"61\": 1}, \"15\": {\"15\": 51, \"69\": 1}, \"127\": {\"127\": 47, \"105\": 1}, \"101\": {\"101\": 38}, \"89\": {\"89\": 36}, \"83\": {\"83\": 25, \"60\": 2, \"78\": 1}, \"34\": {\"34\": 22, \"103\": 1, \"28\": 1, \"77\": 1, \"86\": 1, \"89\": 1, \"81\": 1, \"60\": 1, \"46\": 1, \"55\": 1, \"122\": 1}, \"78\": {\"78\": 11, \"43\": 3, \"26\": 1, \"21\": 1}, \"43\": {\"43\": 47, \"21\": 1}, \"74\": {\"74\": 16}, \"120\": {\"27\": 1, \"120\": 18, \"39\": 1}, \"25\": {\"25\": 16}, \"129\": {\"129\": 28}, \"88\": {\"88\": 35, \"36\": 2, \"27\": 1, \"97\": 2}, \"119\": {\"119\": 16}, \"18\": {\"18\": 36}, \"66\": {\"66\": 16}, \"102\": {\"102\": 44}, \"85\": {\"85\": 32}, \"13\": {\"13\": 16}, \"3\": {\"3\": 42}, \"84\": {\"84\": 37, \"21\": 1}, \"8\": {\"8\": 43, \"27\": 1}, \"19\": {\"19\": 28}, \"7\": {\"7\": 36}, \"20\": {\"20\": 16}, \"93\": {\"93\": 38, \"55\": 1, \"21\": 1, \"40\": 2}, \"71\": {\"71\": 45, \"95\": 1}, \"128\": {\"128\": 22, \"19\": 2}, \"59\": {\"59\": 11, \"123\": 1}, \"126\": {\"126\": 45, \"108\": 1}, \"4\": {\"4\": 35, \"14\": 1}, \"91\": {\"91\": 28}, \"76\": {\"76\": 16}, \"49\": {\"49\": 18, \"12\": 1, \"128\": 1}, \"114\": {\"114\": 47, \"62\": 1}, \"115\": {\"115\": 12}, \"44\": {\"44\": 32}, \"17\": {\"17\": 14, \"106\": 1, \"123\": 1}, \"46\": {\"54\": 2, \"46\": 7, \"12\": 1, \"98\": 1, \"94\": 1}, \"96\": {\"126\": 4, \"96\": 15, \"109\": 1}, \"68\": {\"68\": 16}, \"86\": {\"86\": 36}, \"65\": {\"65\": 10, \"22\": 1, \"61\": 1}, \"10\": {\"10\": 46, \"0\": 3, \"21\": 1}, \"22\": {\"22\": 16}, \"94\": {\"94\": 44, \"65\": 1, \"39\": 1}, \"9\": {\"9\": 32}, \"73\": {\"73\": 20}, \"37\": {\"37\": 15, \"15\": 1}, \"26\": {\"26\": 44, \"113\": 1, \"27\": 1}, \"21\": {\"21\": 33, \"65\": 1, \"70\": 1, \"39\": 1, \"43\": 1, \"127\": 1, \"62\": 1, \"94\": 1}, \"47\": {\"47\": 12}, \"67\": {\"67\": 16}, \"117\": {\"117\": 34}, \"72\": {\"72\": 30}, \"12\": {\"12\": 40}, \"92\": {\"92\": 28}, \"23\": {\"23\": 16, \"21\": 3, \"69\": 1, \"4\": 1, \"115\": 1, \"86\": 1, \"91\": 1}, \"57\": {\"57\": 12}, \"38\": {\"38\": 16}, \"11\": {\"11\": 32}, \"32\": {\"32\": 30, \"21\": 1, \"55\": 1}, \"69\": {\"69\": 38, \"113\": 1, \"27\": 1}, \"105\": {\"105\": 37, \"40\": 7}, \"52\": {\"52\": 20}, \"109\": {\"109\": 42, \"108\": 1, \"45\": 1, \"73\": 1, \"70\": 1}, \"60\": {\"34\": 3, \"60\": 8, \"28\": 1, \"83\": 1, \"123\": 2, \"29\": 1}, \"87\": {\"87\": 39, \"78\": 1}, \"113\": {\"113\": 38}, \"42\": {\"42\": 21, \"65\": 1, \"109\": 4, \"91\": 1, \"69\": 1}, \"61\": {\"61\": 12}, \"63\": {\"63\": 16}, \"111\": {\"111\": 32}, \"41\": {\"41\": 16}, \"40\": {\"40\": 38, \"27\": 1, \"69\": 1}, \"112\": {\"112\": 16}, \"108\": {\"108\": 37, \"47\": 1}, \"104\": {\"104\": 16}, \"28\": {\"28\": 19, \"21\": 1}, \"122\": {\"122\": 38, \"69\": 1, \"43\": 1}, \"81\": {\"81\": 28}, \"124\": {\"124\": 30}, \"45\": {\"122\": 1, \"45\": 7, \"109\": 2, \"29\": 1, \"104\": 1}, \"97\": {\"97\": 15, \"126\": 2, \"88\": 1, \"27\": 1, \"6\": 1}, \"58\": {\"58\": 10, \"53\": 1, \"6\": 1}, \"30\": {\"30\": 32}, \"33\": {\"33\": 41, \"21\": 1}, \"55\": {\"55\": 12}, \"62\": {\"62\": 44}, \"110\": {\"110\": 27, \"30\": 1}, \"0\": {\"0\": 31, \"62\": 1}}, \"Wisig_2\": {\"4\": {\"4\": 46, \"120\": 1, \"107\": 1}, \"21\": {\"21\": 29, \"17\": 1, \"10\": 1, \"39\": 1, \"62\": 1, \"27\": 2, \"24\": 1}, \"5\": {\"5\": 47, \"11\": 1}, \"71\": {\"71\": 38, \"39\": 1, \"128\": 1}, \"46\": {\"46\": 15, \"57\": 1}, \"100\": {\"100\": 16}, \"97\": {\"97\": 17, \"123\": 1, \"82\": 1, \"12\": 1}, \"74\": {\"74\": 14, \"21\": 1, \"82\": 1}, \"116\": {\"116\": 28}, \"104\": {\"86\": 3, \"104\": 14, \"21\": 1, \"107\": 1, \"87\": 1}, \"70\": {\"61\": 2, \"70\": 28, \"107\": 1, \"87\": 1, \"78\": 1, \"24\": 1}, \"84\": {\"84\": 39, \"62\": 1}, \"73\": {\"73\": 27, \"61\": 1}, \"29\": {\"29\": 32}, \"26\": {\"26\": 41, \"39\": 1, \"94\": 1, \"11\": 1}, \"3\": {\"3\": 35, \"24\": 1, \"120\": 1, \"51\": 1}, \"40\": {\"40\": 38, \"49\": 2, \"110\": 1, \"62\": 1, \"95\": 1, \"39\": 1}, \"126\": {\"126\": 36, \"93\": 1, \"88\": 1}, \"94\": {\"94\": 39, \"61\": 1, \"21\": 1, \"108\": 1, \"87\": 1, \"24\": 1}, \"28\": {\"28\": 19, \"117\": 1}, \"38\": {\"38\": 16}, \"23\": {\"23\": 33, \"59\": 1, \"60\": 4, \"109\": 1, \"128\": 2, \"99\": 1, \"13\": 1, \"70\": 1}, \"61\": {\"61\": 18, \"22\": 1, \"49\": 1}, \"122\": {\"122\": 41, \"70\": 1, \"68\": 1, \"4\": 1, \"110\": 1, \"24\": 1, \"21\": 1, \"39\": 1}, \"7\": {\"7\": 35, \"17\": 1, \"115\": 2}, \"47\": {\"47\": 10, \"59\": 1, \"12\": 1}, \"56\": {\"56\": 12}, \"58\": {\"58\": 19, \"21\": 1}, \"90\": {\"90\": 47, \"116\": 1}, \"117\": {\"117\": 36, \"24\": 1, \"97\": 1}, \"66\": {\"66\": 19, \"34\": 1}, \"110\": {\"110\": 33, \"107\": 1, \"15\": 1, \"81\": 1, \"80\": 1, \"70\": 1, \"24\": 2}, \"127\": {\"127\": 40}, \"120\": {\"120\": 19, \"39\": 1}, \"85\": {\"85\": 32}, \"64\": {\"64\": 15, \"0\": 1}, \"17\": {\"86\": 4, \"17\": 10, \"21\": 1, \"49\": 1}, \"114\": {\"114\": 35, \"24\": 1}, \"43\": {\"116\": 1, \"43\": 42, \"78\": 1, \"13\": 1, \"11\": 1}, \"60\": {\"60\": 25, \"19\": 1, \"23\": 2}, \"108\": {\"108\": 44}, \"76\": {\"76\": 16}, \"123\": {\"123\": 16}, \"106\": {\"106\": 30, \"57\": 1, \"24\": 1}, \"1\": {\"1\": 47, \"21\": 1}, \"34\": {\"34\": 28, \"21\": 1, \"8\": 1, \"51\": 1, \"37\": 1}, \"49\": {\"49\": 15, \"112\": 1, \"108\": 3, \"113\": 1, \"11\": 4}, \"89\": {\"89\": 31, \"21\": 1, \"92\": 2, \"87\": 1, \"26\": 1}, \"12\": {\"12\": 25, \"61\": 1, \"21\": 1, \"10\": 1}, \"36\": {\"36\": 40, \"21\": 1, \"24\": 1}, \"31\": {\"31\": 18, \"82\": 1, \"24\": 1}, \"98\": {\"98\": 52}, \"32\": {\"32\": 35, \"74\": 1}, \"41\": {\"41\": 20}, \"75\": {\"75\": 11, \"25\": 2, \"9\": 1, \"118\": 1, \"0\": 1}, \"0\": {\"0\": 38, \"116\": 1, \"120\": 1}, \"19\": {\"19\": 27, \"7\": 1}, \"86\": {\"86\": 32}, \"24\": {\"24\": 27, \"21\": 1, \"94\": 1, \"36\": 2, \"27\": 1}, \"59\": {\"21\": 1, \"59\": 14, \"70\": 1}, \"55\": {\"21\": 1, \"55\": 14, \"62\": 1}, \"50\": {\"21\": 1, \"50\": 14, \"11\": 1}, \"125\": {\"125\": 35, \"121\": 1}, \"16\": {\"16\": 31, \"109\": 1}, \"54\": {\"54\": 20}, \"27\": {\"27\": 35, \"82\": 1, \"62\": 1, \"18\": 1, \"49\": 1, \"24\": 2, \"36\": 1}, \"81\": {\"81\": 22, \"106\": 1, \"30\": 1}, \"93\": {\"93\": 43, \"61\": 1}, \"121\": {\"121\": 29, \"122\": 1, \"57\": 1, \"61\": 1, \"116\": 2}, \"88\": {\"88\": 36, \"36\": 1, \"2\": 1, \"96\": 1, \"24\": 1}, \"68\": {\"68\": 12, \"4\": 3, \"0\": 1}, \"15\": {\"15\": 37, \"97\": 2, \"27\": 1}, \"6\": {\"6\": 32}, \"10\": {\"10\": 31, \"62\": 1, \"97\": 1, \"7\": 1}, \"129\": {\"129\": 32}, \"67\": {\"67\": 12, \"87\": 1, \"61\": 1, \"82\": 1, \"70\": 1}, \"102\": {\"102\": 40}, \"80\": {\"80\": 14, \"13\": 1, \"82\": 1}, \"78\": {\"78\": 33, \"21\": 1, \"43\": 5, \"70\": 3, \"4\": 1, \"23\": 1}, \"92\": {\"21\": 1, \"92\": 23, \"18\": 1, \"89\": 3}, \"99\": {\"99\": 28, \"94\": 2, \"20\": 2}, \"2\": {\"2\": 27, \"13\": 2, \"122\": 1, \"117\": 2}, \"101\": {\"101\": 40}, \"82\": {\"82\": 35, \"62\": 1}, \"37\": {\"37\": 15, \"70\": 1}, \"109\": {\"109\": 30, \"21\": 3, \"65\": 1}, \"103\": {\"103\": 16}, \"33\": {\"33\": 33, \"24\": 1}, \"44\": {\"44\": 34}, \"118\": {\"118\": 37, \"21\": 2, \"62\": 1, \"88\": 1, \"128\": 1}, \"48\": {\"48\": 20}, \"87\": {\"87\": 35, \"60\": 1, \"10\": 1, \"39\": 1, \"24\": 1, \"27\": 1, \"43\": 3, \"51\": 1}, \"112\": {\"112\": 11, \"44\": 2, \"49\": 1, \"46\": 2}, \"111\": {\"111\": 26}, \"63\": {\"63\": 19, \"49\": 1}, \"22\": {\"22\": 17, \"61\": 3}, \"25\": {\"25\": 13, \"60\": 1, \"109\": 1, \"110\": 1}, \"51\": {\"51\": 13, \"15\": 1, \"58\": 3, \"125\": 2, \"70\": 1}, \"72\": {\"72\": 24, \"21\": 1, \"39\": 1, \"45\": 1, \"80\": 1}, \"53\": {\"53\": 16}, \"30\": {\"30\": 39, \"91\": 1}, \"107\": {\"21\": 2, \"107\": 29, \"65\": 1, \"25\": 1, \"110\": 2, \"94\": 1, \"109\": 1, \"4\": 1, \"0\": 1, \"36\": 1}, \"105\": {\"105\": 39, \"11\": 1}, \"65\": {\"65\": 19, \"87\": 1}, \"95\": {\"95\": 35, \"105\": 1}, \"113\": {\"113\": 35, \"117\": 1, \"39\": 1, \"24\": 1, \"81\": 1, \"27\": 1}, \"52\": {\"52\": 19, \"82\": 1}, \"18\": {\"18\": 43, \"87\": 1}, \"35\": {\"35\": 10, \"50\": 1, \"63\": 1}, \"96\": {\"96\": 19, \"88\": 1}, \"8\": {\"8\": 39, \"39\": 1}, \"14\": {\"14\": 31, \"24\": 1, \"27\": 1, \"16\": 1, \"45\": 1, \"11\": 1}, \"62\": {\"62\": 42}, \"79\": {\"79\": 16}, \"115\": {\"115\": 9, \"27\": 1, \"41\": 2}, \"45\": {\"45\": 12, \"109\": 1, \"42\": 1, \"72\": 2}, \"119\": {\"119\": 20}, \"39\": {\"39\": 31, \"107\": 1}, \"11\": {\"110\": 1, \"11\": 26, \"49\": 3, \"108\": 1, \"44\": 1}, \"13\": {\"13\": 12, \"0\": 1, \"80\": 1, \"18\": 1, \"72\": 1}, \"128\": {\"68\": 1, \"128\": 23}, \"124\": {\"124\": 38}, \"77\": {\"77\": 16}, \"83\": {\"53\": 2, \"83\": 24}, \"57\": {\"97\": 1, \"57\": 16, \"116\": 2, \"49\": 1}, \"69\": {\"69\": 38}, \"91\": {\"91\": 24}, \"42\": {\"24\": 2, \"42\": 23, \"99\": 1, \"87\": 1, \"62\": 1}, \"20\": {\"20\": 16}, \"9\": {\"9\": 30}}, \"Wisig_4\": {\"0\": {\"0\": 36, \"24\": 1, \"101\": 1}, \"48\": {\"48\": 16}, \"91\": {\"91\": 23, \"51\": 1}, \"49\": {\"49\": 26, \"70\": 1, \"53\": 1}, \"74\": {\"74\": 16}, \"57\": {\"57\": 12, \"99\": 1, \"25\": 1, \"65\": 1, \"30\": 1}, \"112\": {\"112\": 14, \"21\": 1, \"81\": 1}, \"106\": {\"62\": 1, \"106\": 32, \"111\": 1}, \"4\": {\"4\": 41, \"21\": 1}, \"81\": {\"81\": 32, \"21\": 2}, \"12\": {\"12\": 38, \"110\": 1, \"69\": 1}, \"82\": {\"82\": 32}, \"17\": {\"17\": 20}, \"55\": {\"55\": 16}, \"58\": {\"58\": 16}, \"93\": {\"93\": 40}, \"50\": {\"50\": 16}, \"6\": {\"58\": 1, \"6\": 23}, \"90\": {\"90\": 40}, \"99\": {\"99\": 37, \"78\": 1}, \"24\": {\"24\": 35, \"36\": 6, \"97\": 1}, \"77\": {\"77\": 12}, \"41\": {\"41\": 15, \"121\": 1}, \"120\": {\"120\": 19, \"32\": 1}, \"27\": {\"27\": 37, \"21\": 1}, \"53\": {\"53\": 16}, \"101\": {\"101\": 37, \"21\": 1}, \"28\": {\"28\": 20}, \"38\": {\"38\": 16}, \"42\": {\"42\": 27, \"112\": 1}, \"96\": {\"96\": 17, \"22\": 2, \"81\": 1}, \"34\": {\"34\": 23, \"8\": 2, \"28\": 1, \"103\": 1, \"128\": 3, \"37\": 1, \"47\": 1}, \"44\": {\"44\": 38}, \"113\": {\"113\": 37, \"23\": 1, \"21\": 1, \"39\": 1}, \"54\": {\"54\": 16}, \"84\": {\"84\": 46, \"96\": 1, \"23\": 1}, \"66\": {\"66\": 16}, \"21\": {\"21\": 36, \"24\": 1, \"105\": 1, \"78\": 2}, \"127\": {\"127\": 40}, \"62\": {\"62\": 38, \"21\": 3, \"8\": 1, \"122\": 1, \"10\": 1}, \"67\": {\"67\": 7, \"49\": 1, \"123\": 2, \"63\": 2, \"69\": 3, \"122\": 1}, \"11\": {\"11\": 36}, \"19\": {\"19\": 28}, \"111\": {\"111\": 31, \"4\": 1}, \"32\": {\"32\": 25, \"14\": 1, \"118\": 1, \"17\": 1}, \"16\": {\"16\": 38, \"21\": 1, \"15\": 1}, \"20\": {\"20\": 15, \"74\": 1}, \"86\": {\"86\": 26, \"21\": 1, \"23\": 1}, \"76\": {\"76\": 16}, \"8\": {\"8\": 40}, \"10\": {\"10\": 39, \"8\": 1, \"24\": 2}, \"119\": {\"119\": 16}, \"78\": {\"78\": 20, \"56\": 1, \"71\": 1, \"128\": 2, \"43\": 3, \"8\": 1, \"21\": 1, \"122\": 2, \"23\": 1}, \"97\": {\"97\": 12, \"36\": 4, \"24\": 2, \"94\": 1, \"10\": 1}, \"128\": {\"74\": 1, \"28\": 1, \"128\": 17, \"29\": 1, \"72\": 3, \"85\": 1}, \"39\": {\"39\": 25, \"126\": 1, \"81\": 2}, \"1\": {\"21\": 2, \"1\": 25, \"33\": 2, \"36\": 1}, \"95\": {\"95\": 31, \"39\": 1}, \"47\": {\"47\": 12}, \"45\": {\"45\": 16}, \"110\": {\"110\": 35, \"19\": 1, \"94\": 1, \"54\": 1}, \"89\": {\"89\": 31, \"121\": 1}, \"60\": {\"19\": 3, \"60\": 24, \"72\": 3, \"23\": 1, \"74\": 1}, \"73\": {\"23\": 1, \"73\": 20, \"129\": 2, \"108\": 1}, \"102\": {\"102\": 38}, \"75\": {\"75\": 16}, \"18\": {\"18\": 34, \"97\": 1, \"21\": 1}, \"52\": {\"52\": 20}, \"65\": {\"65\": 12}, \"23\": {\"23\": 7, \"60\": 1, \"21\": 1, \"122\": 1, \"44\": 1, \"94\": 1, \"36\": 1, \"63\": 1, \"91\": 1, \"128\": 1}, \"59\": {\"59\": 12}, \"30\": {\"23\": 2, \"30\": 34, \"10\": 2, \"24\": 1, \"108\": 1}, \"124\": {\"124\": 40}, \"121\": {\"121\": 29, \"13\": 1}, \"116\": {\"116\": 26}, \"109\": {\"109\": 32, \"31\": 1, \"118\": 1}, \"15\": {\"15\": 38, \"97\": 1, \"94\": 1}, \"7\": {\"7\": 30}, \"100\": {\"100\": 18, \"39\": 1, \"52\": 1}, \"36\": {\"36\": 29, \"24\": 4, \"97\": 1}, \"94\": {\"94\": 39, \"21\": 1, \"10\": 1, \"118\": 1}, \"87\": {\"87\": 27, \"108\": 1}, \"40\": {\"40\": 35, \"21\": 1}, \"56\": {\"56\": 12}, \"29\": {\"29\": 32}, \"51\": {\"36\": 1, \"58\": 2, \"24\": 1, \"51\": 6, \"29\": 1, \"125\": 2, \"80\": 1, \"97\": 1, \"54\": 1}, \"3\": {\"3\": 40, \"96\": 1, \"72\": 1}, \"129\": {\"129\": 28}, \"2\": {\"2\": 25, \"108\": 1, \"67\": 1, \"96\": 1}, \"5\": {\"5\": 39, \"78\": 1}, \"9\": {\"9\": 28}, \"115\": {\"50\": 2, \"115\": 5, \"105\": 1, \"92\": 1, \"124\": 1, \"78\": 3, \"87\": 1, \"99\": 2}, \"92\": {\"92\": 26}, \"13\": {\"13\": 16}, \"22\": {\"22\": 16}, \"72\": {\"72\": 29, \"57\": 1, \"74\": 1, \"22\": 1}, \"117\": {\"117\": 36}, \"25\": {\"25\": 16}, \"123\": {\"123\": 16}, \"85\": {\"85\": 28}, \"108\": {\"108\": 31, \"88\": 6, \"73\": 2, \"129\": 1}, \"64\": {\"64\": 16}, \"83\": {\"83\": 27, \"128\": 1}, \"37\": {\"37\": 13, \"34\": 1, \"109\": 1, \"25\": 1}, \"98\": {\"98\": 30}, \"103\": {\"103\": 16}, \"125\": {\"125\": 34}, \"88\": {\"88\": 30, \"27\": 2, \"129\": 1, \"70\": 2, \"73\": 1}, \"122\": {\"122\": 36, \"78\": 1, \"33\": 1, \"21\": 1, \"108\": 1}, \"61\": {\"61\": 16}, \"69\": {\"69\": 44, \"21\": 1, \"78\": 1}, \"104\": {\"104\": 16}, \"70\": {\"53\": 1, \"70\": 32, \"3\": 2, \"88\": 4, \"122\": 1}, \"68\": {\"68\": 16}, \"46\": {\"46\": 19, \"88\": 1}, \"107\": {\"107\": 32}, \"26\": {\"26\": 40}, \"33\": {\"33\": 39, \"122\": 1, \"115\": 1, \"102\": 1}, \"35\": {\"35\": 10, \"61\": 1, \"21\": 1}, \"118\": {\"118\": 35, \"69\": 1, \"21\": 1, \"122\": 1}, \"80\": {\"80\": 15, \"53\": 1}, \"105\": {\"105\": 31, \"21\": 1, \"40\": 2, \"87\": 2}, \"71\": {\"71\": 37, \"10\": 1, \"114\": 2}, \"43\": {\"43\": 26, \"87\": 2}, \"63\": {\"63\": 16}, \"31\": {\"31\": 16}, \"114\": {\"114\": 34, \"71\": 2}, \"14\": {\"14\": 30}, \"79\": {\"79\": 16}, \"126\": {\"126\": 26}}, \"CORES_4\": {\"42\": {\"42\": 16}, \"55\": {\"55\": 14, \"43\": 1, \"5\": 1}, \"35\": {\"35\": 16}, \"27\": {\"27\": 16}, \"8\": {\"8\": 16}, \"57\": {\"57\": 16}, \"49\": {\"49\": 16}, \"47\": {\"47\": 16}, \"16\": {\"16\": 16}, \"56\": {\"56\": 16}, \"31\": {\"31\": 16}, \"10\": {\"10\": 16}, \"26\": {\"26\": 16}, \"19\": {\"19\": 16}, \"52\": {\"52\": 16}, \"53\": {\"53\": 16}, \"37\": {\"37\": 16}, \"48\": {\"48\": 16}, \"1\": {\"1\": 16}, \"0\": {\"0\": 16}, \"13\": {\"13\": 16}, \"21\": {\"21\": 16}, \"18\": {\"18\": 15, \"17\": 1}, \"24\": {\"24\": 16}, \"6\": {\"6\": 16}, \"4\": {\"4\": 16}, \"30\": {\"30\": 16}, \"38\": {\"38\": 16}, \"34\": {\"34\": 16}, \"11\": {\"11\": 16}, \"12\": {\"12\": 16}, \"22\": {\"22\": 16}, \"3\": {\"3\": 14, \"50\": 2}, \"23\": {\"23\": 16}, \"9\": {\"9\": 15, \"27\": 1}, \"15\": {\"15\": 14, \"11\": 1, \"46\": 1}, \"50\": {\"50\": 16}, \"5\": {\"5\": 16}, \"33\": {\"33\": 16}, \"46\": {\"7\": 2, \"46\": 14}, \"20\": {\"20\": 16}, \"45\": {\"45\": 16}, \"2\": {\"2\": 16}, \"7\": {\"7\": 16}, \"39\": {\"39\": 16}, \"40\": {\"40\": 16}, \"44\": {\"44\": 16}, \"41\": {\"41\": 16}, \"29\": {\"28\": 1, \"29\": 15}, \"54\": {\"54\": 16}, \"32\": {\"32\": 16}, \"25\": {\"25\": 16}, \"43\": {\"43\": 16}, \"28\": {\"28\": 16}, \"51\": {\"51\": 15, \"21\": 1}, \"14\": {\"14\": 8, \"40\": 4, \"1\": 1, \"44\": 2, \"0\": 1}, \"36\": {\"36\": 16}, \"17\": {\"5\": 1, \"17\": 15}}, \"CORES_5\": {\"25\": {\"25\": 20}, \"14\": {\"14\": 8, \"31\": 5, \"54\": 4, \"5\": 3}, \"30\": {\"30\": 20}, \"50\": {\"50\": 20}, \"31\": {\"31\": 20}, \"15\": {\"15\": 20}, \"38\": {\"38\": 20}, \"43\": {\"43\": 20}, \"19\": {\"19\": 20}, \"26\": {\"26\": 20}, \"48\": {\"48\": 20}, \"12\": {\"12\": 20}, \"18\": {\"18\": 20}, \"8\": {\"8\": 20}, \"5\": {\"5\": 20}, \"24\": {\"24\": 20}, \"16\": {\"16\": 20}, \"10\": {\"10\": 20}, \"2\": {\"2\": 20}, \"27\": {\"27\": 20}, \"35\": {\"35\": 20}, \"17\": {\"17\": 20}, \"37\": {\"37\": 20}, \"41\": {\"41\": 20}, \"45\": {\"45\": 19, \"55\": 1}, \"54\": {\"54\": 20}, \"34\": {\"34\": 19, \"54\": 1}, \"56\": {\"56\": 20}, \"52\": {\"52\": 20}, \"39\": {\"39\": 20}, \"57\": {\"57\": 20}, \"0\": {\"0\": 20}, \"20\": {\"20\": 20}, \"46\": {\"46\": 17, \"47\": 2, \"16\": 1}, \"28\": {\"28\": 20}, \"23\": {\"23\": 20}, \"53\": {\"53\": 20}, \"7\": {\"7\": 20}, \"3\": {\"3\": 20}, \"22\": {\"22\": 20}, \"44\": {\"44\": 20}, \"42\": {\"42\": 20}, \"9\": {\"9\": 20}, \"1\": {\"1\": 19, \"48\": 1}, \"13\": {\"13\": 20}, \"49\": {\"49\": 20}, \"11\": {\"11\": 20}, \"47\": {\"47\": 20}, \"21\": {\"21\": 20}, \"29\": {\"29\": 20}, \"51\": {\"51\": 20}, \"36\": {\"36\": 20}, \"6\": {\"6\": 13, \"51\": 1, \"17\": 2, \"55\": 2, \"20\": 1, \"9\": 1}, \"33\": {\"33\": 20}, \"4\": {\"4\": 20}, \"32\": {\"32\": 20}, \"55\": {\"55\": 19, \"23\": 1}, \"40\": {\"40\": 18, \"41\": 1, \"33\": 1}}, \"CORES_2\": {\"19\": {\"19\": 20}, \"6\": {\"6\": 19, \"7\": 1}, \"45\": {\"45\": 20}, \"49\": {\"49\": 20}, \"23\": {\"23\": 20}, \"28\": {\"28\": 20}, \"54\": {\"54\": 20}, \"36\": {\"36\": 20}, \"0\": {\"0\": 20}, \"56\": {\"56\": 20}, \"20\": {\"20\": 20}, \"8\": {\"8\": 20}, \"11\": {\"11\": 20}, \"39\": {\"39\": 19, \"40\": 1}, \"42\": {\"42\": 20}, \"24\": {\"24\": 20}, \"44\": {\"44\": 20}, \"29\": {\"29\": 20}, \"13\": {\"13\": 20}, \"35\": {\"35\": 19, \"33\": 1}, \"50\": {\"50\": 20}, \"40\": {\"40\": 20}, \"21\": {\"21\": 20}, \"34\": {\"34\": 19, \"2\": 1}, \"52\": {\"52\": 20}, \"2\": {\"2\": 18, \"23\": 1, \"5\": 1}, \"57\": {\"57\": 20}, \"4\": {\"4\": 20}, \"37\": {\"37\": 20}, \"26\": {\"26\": 20}, \"33\": {\"33\": 18, \"49\": 2}, \"18\": {\"18\": 20}, \"10\": {\"10\": 20}, \"31\": {\"31\": 20}, \"22\": {\"22\": 20}, \"41\": {\"41\": 20}, \"27\": {\"27\": 20}, \"1\": {\"1\": 20}, \"55\": {\"55\": 19, \"28\": 1}, \"15\": {\"15\": 20}, \"38\": {\"38\": 20}, \"12\": {\"12\": 20}, \"51\": {\"51\": 20}, \"32\": {\"32\": 20}, \"3\": {\"3\": 19, \"36\": 1}, \"5\": {\"5\": 19, \"2\": 1}, \"14\": {\"25\": 2, \"14\": 12, \"28\": 6}, \"43\": {\"43\": 20}, \"30\": {\"30\": 20}, \"16\": {\"16\": 20}, \"47\": {\"47\": 20}, \"7\": {\"7\": 20}, \"9\": {\"9\": 19, \"32\": 1}, \"46\": {\"46\": 17, \"48\": 2, \"6\": 1}, \"48\": {\"48\": 20}, \"25\": {\"25\": 20}, \"53\": {\"53\": 20}, \"17\": {\"17\": 20}}, \"CORES_1\": {\"24\": {\"24\": 23, \"22\": 1}, \"9\": {\"9\": 24}, \"0\": {\"0\": 24}, \"41\": {\"41\": 24}, \"17\": {\"17\": 24}, \"38\": {\"38\": 24}, \"3\": {\"3\": 23, \"37\": 1}, \"37\": {\"37\": 24}, \"46\": {\"46\": 24}, \"51\": {\"51\": 24}, \"40\": {\"40\": 24}, \"45\": {\"45\": 24}, \"53\": {\"53\": 24}, \"56\": {\"56\": 24}, \"36\": {\"36\": 24}, \"50\": {\"50\": 24}, \"42\": {\"42\": 24}, \"1\": {\"1\": 24}, \"34\": {\"34\": 24}, \"55\": {\"55\": 23, \"54\": 1}, \"7\": {\"7\": 24}, \"23\": {\"23\": 24}, \"2\": {\"2\": 24}, \"18\": {\"18\": 23, \"9\": 1}, \"15\": {\"15\": 24}, \"29\": {\"29\": 23, \"19\": 1}, \"30\": {\"30\": 24}, \"33\": {\"33\": 24}, \"32\": {\"32\": 23, \"44\": 1}, \"19\": {\"19\": 24}, \"16\": {\"16\": 24}, \"43\": {\"43\": 24}, \"5\": {\"5\": 24}, \"12\": {\"12\": 23, \"53\": 1}, \"44\": {\"44\": 23, \"56\": 1}, \"14\": {\"6\": 10, \"14\": 9, \"57\": 3, \"30\": 2}, \"8\": {\"8\": 24}, \"20\": {\"20\": 24}, \"31\": {\"31\": 24}, \"28\": {\"28\": 24}, \"11\": {\"11\": 24}, \"27\": {\"27\": 24}, \"48\": {\"48\": 24}, \"21\": {\"21\": 24}, \"26\": {\"26\": 24}, \"6\": {\"6\": 21, \"8\": 1, \"14\": 2}, \"4\": {\"4\": 24}, \"35\": {\"35\": 24}, \"10\": {\"10\": 24}, \"57\": {\"57\": 24}, \"47\": {\"47\": 24}, \"13\": {\"13\": 24}, \"54\": {\"54\": 24}, \"49\": {\"49\": 24}, \"25\": {\"25\": 24}, \"22\": {\"22\": 18, \"24\": 6}, \"39\": {\"39\": 24}, \"52\": {\"52\": 24}}, \"CORES_3\": {\"13\": {\"13\": 16}, \"45\": {\"45\": 16}, \"17\": {\"17\": 16}, \"11\": {\"11\": 16}, \"41\": {\"41\": 16}, \"24\": {\"24\": 16}, \"30\": {\"30\": 16}, \"43\": {\"43\": 16}, \"51\": {\"51\": 16}, \"2\": {\"2\": 16}, \"42\": {\"42\": 16}, \"40\": {\"40\": 15, \"3\": 1}, \"16\": {\"16\": 16}, \"54\": {\"54\": 16}, \"50\": {\"50\": 15, \"45\": 1}, \"48\": {\"48\": 16}, \"8\": {\"8\": 16}, \"21\": {\"21\": 16}, \"29\": {\"29\": 16}, \"14\": {\"14\": 6, \"43\": 3, \"42\": 1, \"28\": 6}, \"47\": {\"47\": 16}, \"32\": {\"32\": 16}, \"36\": {\"36\": 16}, \"9\": {\"9\": 16}, \"52\": {\"52\": 16}, \"0\": {\"0\": 16}, \"6\": {\"6\": 11, \"17\": 2, \"38\": 1, \"2\": 1, \"52\": 1}, \"12\": {\"12\": 16}, \"4\": {\"4\": 16}, \"49\": {\"49\": 16}, \"37\": {\"37\": 16}, \"18\": {\"18\": 16}, \"35\": {\"35\": 16}, \"38\": {\"38\": 16}, \"10\": {\"10\": 16}, \"25\": {\"25\": 16}, \"22\": {\"22\": 16}, \"1\": {\"1\": 16}, \"19\": {\"19\": 16}, \"33\": {\"33\": 16}, \"28\": {\"28\": 16}, \"23\": {\"23\": 16}, \"57\": {\"57\": 16}, \"34\": {\"34\": 16}, \"46\": {\"46\": 12, \"38\": 1, \"3\": 1, \"48\": 1, \"6\": 1}, \"44\": {\"44\": 16}, \"31\": {\"31\": 16}, \"27\": {\"27\": 16}, \"26\": {\"26\": 16}, \"15\": {\"15\": 16}, \"20\": {\"20\": 16}, \"3\": {\"3\": 11, \"9\": 5}, \"56\": {\"56\": 16}, \"7\": {\"7\": 16}, \"53\": {\"53\": 16}, \"5\": {\"5\": 16}, \"39\": {\"39\": 16}, \"55\": {\"55\": 16}}}, \"per_domain_accuracy\": {\"Wisig_3\": {\"accuracy\": 0.9485452586206896, \"source?\": true}, \"Wisig_1\": {\"accuracy\": 0.9525862068965517, \"source?\": true}, \"Wisig_2\": {\"accuracy\": 0.9164054336468129, \"source?\": true}, \"Wisig_4\": {\"accuracy\": 0.9302002224694105, \"source?\": true}, \"CORES_4\": {\"accuracy\": 0.9773706896551724, \"source?\": false}, \"CORES_5\": {\"accuracy\": 0.9758620689655172, \"source?\": false}, \"CORES_2\": {\"accuracy\": 0.9801724137931035, \"source?\": false}, \"CORES_1\": {\"accuracy\": 0.9770114942528736, \"source?\": false}, \"CORES_3\": {\"accuracy\": 0.9719827586206896, \"source?\": false}}}, \"history\": {\"epoch_indices\": [1, 2, 3], \"train_label_loss\": [0.5593841366665498, 0.2533573934888289, 0.19811255519152937], \"source_val_label_loss\": [0.33719420433044434, 0.26441147923469543, 0.22411827743053436], \"target_val_label_loss\": [0.2105236053466797, 0.17283350229263306, 0.1714419722557068], \"source_val_acc_label\": [0.9368265086206896, 0.9533270474137931, 0.9611395474137931], \"target_val_acc_label\": [0.9766522988505747, 0.9764727011494253, 0.9741379310344828]}, \"dataset_metrics\": {\"source\": {\"train\": {\"n_unique_x\": 141149, \"n_unique_y\": 130, \"n_batch/episode\": 913}, \"val\": {\"n_unique_x\": 25956, \"n_unique_y\": 130, \"n_batch/episode\": 128}, \"test\": {\"n_unique_x\": 26910, \"n_unique_y\": 130, \"n_batch/episode\": 134}}, \"target\": {\"train\": {\"n_unique_x\": 75639, \"n_unique_y\": 58, \"n_batch/episode\": 351}, \"val\": {\"n_unique_x\": 11845, \"n_unique_y\": 58, \"n_batch/episode\": 48}, \"test\": {\"n_unique_x\": 12318, \"n_unique_y\": 58, \"n_batch/episode\": 50}}}}'"
      ]
     },
     "execution_count": 29,
     "metadata": {},
     "output_type": "execute_result"
    }
   ],
   "source": [
    "json.dumps(experiment)"
   ]
  }
 ],
 "metadata": {
  "celltoolbar": "Tags",
  "kernelspec": {
   "display_name": "Python 3 (ipykernel)",
   "language": "python",
   "name": "python3"
  },
  "language_info": {
   "codemirror_mode": {
    "name": "ipython",
    "version": 3
   },
   "file_extension": ".py",
   "mimetype": "text/x-python",
   "name": "python",
   "nbconvert_exporter": "python",
   "pygments_lexer": "ipython3",
   "version": "3.8.12"
  },
  "papermill": {
   "default_parameters": {},
   "duration": 335.178649,
   "end_time": "2022-03-21T04:23:17.789413",
   "environment_variables": {},
   "exception": null,
   "input_path": "/root/csc500-main/csc500-notebooks/templates/tl_ptn_template.ipynb",
   "output_path": "trial.ipynb",
   "parameters": {
    "parameters": {
     "BEST_MODEL_PATH": "./best_model.pth",
     "NUM_LOGS_PER_EPOCH": 10,
     "criteria_for_best": "target_accuracy",
     "dataset_seed": 500,
     "datasets": [
      {
       "domain_prefix": "CORES_",
       "domains": [
        1,
        2,
        3,
        4,
        5
       ],
       "episode_transforms": [],
       "labels": [
        "1-10.",
        "1-11.",
        "1-15.",
        "1-16.",
        "1-17.",
        "1-18.",
        "1-19.",
        "10-4.",
        "10-7.",
        "11-1.",
        "11-14.",
        "11-17.",
        "11-20.",
        "11-7.",
        "13-20.",
        "13-8.",
        "14-10.",
        "14-11.",
        "14-14.",
        "14-7.",
        "15-1.",
        "15-20.",
        "16-1.",
        "16-16.",
        "17-10.",
        "17-11.",
        "17-2.",
        "19-1.",
        "19-16.",
        "19-19.",
        "19-20.",
        "19-3.",
        "2-10.",
        "2-11.",
        "2-17.",
        "2-18.",
        "2-20.",
        "2-3.",
        "2-4.",
        "2-5.",
        "2-6.",
        "2-7.",
        "2-8.",
        "3-13.",
        "3-18.",
        "3-3.",
        "4-1.",
        "4-10.",
        "4-11.",
        "4-19.",
        "5-5.",
        "6-15.",
        "7-10.",
        "7-14.",
        "8-18.",
        "8-20.",
        "8-3.",
        "8-8."
       ],
       "num_examples_per_domain_per_label": -1,
       "pickle_path": "/root/csc500-main/datasets/cores.stratified_ds.2022A.pkl",
       "source_or_target_dataset": "target",
       "x_transforms": [
        "unit_mag"
       ]
      },
      {
       "domain_prefix": "Wisig_",
       "domains": [
        1,
        2,
        3,
        4
       ],
       "episode_transforms": [],
       "labels": [
        "1-10",
        "1-12",
        "1-14",
        "1-16",
        "1-18",
        "1-19",
        "1-8",
        "10-11",
        "10-17",
        "10-4",
        "10-7",
        "11-1",
        "11-10",
        "11-19",
        "11-20",
        "11-4",
        "11-7",
        "12-19",
        "12-20",
        "12-7",
        "13-14",
        "13-18",
        "13-19",
        "13-20",
        "13-3",
        "13-7",
        "14-10",
        "14-11",
        "14-12",
        "14-13",
        "14-14",
        "14-19",
        "14-20",
        "14-7",
        "14-8",
        "14-9",
        "15-1",
        "15-19",
        "15-6",
        "16-1",
        "16-16",
        "16-19",
        "16-20",
        "17-10",
        "17-11",
        "18-1",
        "18-10",
        "18-11",
        "18-12",
        "18-13",
        "18-14",
        "18-15",
        "18-16",
        "18-17",
        "18-19",
        "18-2",
        "18-20",
        "18-4",
        "18-5",
        "18-7",
        "18-8",
        "18-9",
        "19-1",
        "19-10",
        "19-11",
        "19-12",
        "19-13",
        "19-14",
        "19-15",
        "19-19",
        "19-2",
        "19-20",
        "19-3",
        "19-4",
        "19-6",
        "19-7",
        "19-8",
        "19-9",
        "2-1",
        "2-13",
        "2-15",
        "2-3",
        "2-4",
        "2-5",
        "2-6",
        "2-7",
        "2-8",
        "20-1",
        "20-12",
        "20-14",
        "20-15",
        "20-16",
        "20-18",
        "20-19",
        "20-20",
        "20-3",
        "20-4",
        "20-5",
        "20-7",
        "20-8",
        "3-1",
        "3-13",
        "3-18",
        "3-2",
        "3-8",
        "4-1",
        "4-10",
        "4-11",
        "5-1",
        "5-5",
        "6-1",
        "6-15",
        "6-6",
        "7-10",
        "7-11",
        "7-12",
        "7-13",
        "7-14",
        "7-7",
        "7-8",
        "7-9",
        "8-1",
        "8-13",
        "8-14",
        "8-18",
        "8-20",
        "8-3",
        "8-8",
        "9-1",
        "9-7"
       ],
       "num_examples_per_domain_per_label": -1,
       "pickle_path": "/root/csc500-main/datasets/wisig.node3-19.stratified_ds.2022A.pkl",
       "source_or_target_dataset": "source",
       "x_transforms": [
        "unit_mag"
       ]
      }
     ],
     "device": "cuda",
     "experiment_name": "tl_1v2:cores-wisig",
     "lr": 0.0001,
     "n_epoch": 3,
     "n_query": 2,
     "n_shot": 3,
     "n_way": 58,
     "patience": 3,
     "seed": 500,
     "test_k_factor": 2,
     "torch_default_dtype": "torch.float32",
     "train_k_factor": 3,
     "val_k_factor": 2,
     "x_net": [
      {
       "class": "nnReshape",
       "kargs": {
        "shape": [
         -1,
         1,
         2,
         256
        ]
       }
      },
      {
       "class": "Conv2d",
       "kargs": {
        "bias": false,
        "in_channels": 1,
        "kernel_size": [
         1,
         7
        ],
        "out_channels": 256,
        "padding": [
         0,
         3
        ]
       }
      },
      {
       "class": "ReLU",
       "kargs": {
        "inplace": true
       }
      },
      {
       "class": "BatchNorm2d",
       "kargs": {
        "num_features": 256
       }
      },
      {
       "class": "Conv2d",
       "kargs": {
        "bias": true,
        "in_channels": 256,
        "kernel_size": [
         2,
         7
        ],
        "out_channels": 80,
        "padding": [
         0,
         3
        ]
       }
      },
      {
       "class": "ReLU",
       "kargs": {
        "inplace": true
       }
      },
      {
       "class": "BatchNorm2d",
       "kargs": {
        "num_features": 80
       }
      },
      {
       "class": "Flatten",
       "kargs": {}
      },
      {
       "class": "Linear",
       "kargs": {
        "in_features": 20480,
        "out_features": 256
       }
      },
      {
       "class": "ReLU",
       "kargs": {
        "inplace": true
       }
      },
      {
       "class": "BatchNorm1d",
       "kargs": {
        "num_features": 256
       }
      },
      {
       "class": "Linear",
       "kargs": {
        "in_features": 256,
        "out_features": 256
       }
      }
     ]
    }
   },
   "start_time": "2022-03-21T04:17:42.610764",
   "version": "2.3.4"
  }
 },
 "nbformat": 4,
 "nbformat_minor": 5
}