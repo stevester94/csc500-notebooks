{
 "cells": [
  {
   "cell_type": "markdown",
   "id": "9fea5f46",
   "metadata": {
    "papermill": {
     "duration": 0.028751,
     "end_time": "2022-03-21T02:00:38.777634",
     "exception": false,
     "start_time": "2022-03-21T02:00:38.748883",
     "status": "completed"
    },
    "tags": []
   },
   "source": [
    "# Transfer Learning Template"
   ]
  },
  {
   "cell_type": "code",
   "execution_count": 1,
   "id": "0902182a",
   "metadata": {
    "execution": {
     "iopub.execute_input": "2022-03-21T02:00:38.835662Z",
     "iopub.status.busy": "2022-03-21T02:00:38.830454Z",
     "iopub.status.idle": "2022-03-21T02:00:40.732740Z",
     "shell.execute_reply": "2022-03-21T02:00:40.731854Z"
    },
    "papermill": {
     "duration": 1.935108,
     "end_time": "2022-03-21T02:00:40.732939",
     "exception": false,
     "start_time": "2022-03-21T02:00:38.797831",
     "status": "completed"
    },
    "tags": []
   },
   "outputs": [],
   "source": [
    "%load_ext autoreload\n",
    "%autoreload 2\n",
    "%matplotlib inline\n",
    "\n",
    "    \n",
    "import os, json, sys, time, random\n",
    "import numpy as np\n",
    "import torch\n",
    "from torch.optim import Adam\n",
    "from  easydict import EasyDict\n",
    "import matplotlib.pyplot as plt\n",
    "\n",
    "from steves_models.steves_ptn import Steves_Prototypical_Network\n",
    "\n",
    "from steves_utils.lazy_iterable_wrapper import Lazy_Iterable_Wrapper\n",
    "from steves_utils.iterable_aggregator import Iterable_Aggregator\n",
    "from steves_utils.ptn_train_eval_test_jig import  PTN_Train_Eval_Test_Jig\n",
    "from steves_utils.torch_sequential_builder import build_sequential\n",
    "from steves_utils.torch_utils import get_dataset_metrics, ptn_confusion_by_domain_over_dataloader\n",
    "from steves_utils.utils_v2 import (per_domain_accuracy_from_confusion, get_datasets_base_path)\n",
    "from steves_utils.PTN.utils import independent_accuracy_assesment\n",
    "\n",
    "from torch.utils.data import DataLoader\n",
    "\n",
    "from steves_utils.stratified_dataset.episodic_accessor import Episodic_Accessor_Factory\n",
    "\n",
    "from steves_utils.ptn_do_report import (\n",
    "    get_loss_curve,\n",
    "    get_results_table,\n",
    "    get_parameters_table,\n",
    "    get_domain_accuracies,\n",
    ")\n",
    "\n",
    "from steves_utils.transforms import get_chained_transform"
   ]
  },
  {
   "cell_type": "markdown",
   "id": "41c840b4",
   "metadata": {
    "papermill": {
     "duration": 0.019233,
     "end_time": "2022-03-21T02:00:40.776271",
     "exception": false,
     "start_time": "2022-03-21T02:00:40.757038",
     "status": "completed"
    },
    "tags": []
   },
   "source": [
    "# Allowed Parameters\n",
    "These are allowed parameters, not defaults\n",
    "Each of these values need to be present in the injected parameters (the notebook will raise an exception if they are not present)\n",
    "\n",
    "Papermill uses the cell tag \"parameters\" to inject the real parameters below this cell.\n",
    "Enable tags to see what I mean"
   ]
  },
  {
   "cell_type": "code",
   "execution_count": 2,
   "id": "fd44eb83",
   "metadata": {
    "execution": {
     "iopub.execute_input": "2022-03-21T02:00:40.821332Z",
     "iopub.status.busy": "2022-03-21T02:00:40.820674Z",
     "iopub.status.idle": "2022-03-21T02:00:40.842115Z",
     "shell.execute_reply": "2022-03-21T02:00:40.841291Z"
    },
    "papermill": {
     "duration": 0.046894,
     "end_time": "2022-03-21T02:00:40.842282",
     "exception": false,
     "start_time": "2022-03-21T02:00:40.795388",
     "status": "completed"
    },
    "tags": []
   },
   "outputs": [],
   "source": [
    "required_parameters = {\n",
    "    \"experiment_name\",\n",
    "    \"lr\",\n",
    "    \"device\",\n",
    "    \"seed\",\n",
    "    \"dataset_seed\",\n",
    "    \"n_shot\",\n",
    "    \"n_query\",\n",
    "    \"n_way\",\n",
    "    \"train_k_factor\",\n",
    "    \"val_k_factor\",\n",
    "    \"test_k_factor\",\n",
    "    \"n_epoch\",\n",
    "    \"patience\",\n",
    "    \"criteria_for_best\",\n",
    "    \"x_net\",\n",
    "    \"datasets\",\n",
    "    \"torch_default_dtype\",\n",
    "    \"NUM_LOGS_PER_EPOCH\",\n",
    "    \"BEST_MODEL_PATH\",\n",
    "    \"x_shape\",\n",
    "}"
   ]
  },
  {
   "cell_type": "code",
   "execution_count": 3,
   "id": "fa3f0049",
   "metadata": {
    "execution": {
     "iopub.execute_input": "2022-03-21T02:00:40.902326Z",
     "iopub.status.busy": "2022-03-21T02:00:40.901409Z",
     "iopub.status.idle": "2022-03-21T02:00:40.922522Z",
     "shell.execute_reply": "2022-03-21T02:00:40.921764Z"
    },
    "papermill": {
     "duration": 0.054922,
     "end_time": "2022-03-21T02:00:40.922692",
     "exception": false,
     "start_time": "2022-03-21T02:00:40.867770",
     "status": "completed"
    },
    "tags": [
     "parameters"
    ]
   },
   "outputs": [],
   "source": [
    "from steves_utils.CORES.utils import (\n",
    "    ALL_NODES,\n",
    "    ALL_NODES_MINIMUM_1000_EXAMPLES,\n",
    "    ALL_DAYS\n",
    ")\n",
    "\n",
    "from steves_utils.ORACLE.utils_v2 import (\n",
    "    ALL_DISTANCES_FEET_NARROWED,\n",
    "    ALL_RUNS,\n",
    "    ALL_SERIAL_NUMBERS,\n",
    ")\n",
    "\n",
    "standalone_parameters = {}\n",
    "standalone_parameters[\"experiment_name\"] = \"STANDALONE PTN\"\n",
    "standalone_parameters[\"lr\"] = 0.001\n",
    "standalone_parameters[\"device\"] = \"cuda\"\n",
    "\n",
    "standalone_parameters[\"seed\"] = 1337\n",
    "standalone_parameters[\"dataset_seed\"] = 1337\n",
    "\n",
    "standalone_parameters[\"n_way\"] = 8\n",
    "standalone_parameters[\"n_shot\"] = 3\n",
    "standalone_parameters[\"n_query\"]  = 2\n",
    "standalone_parameters[\"train_k_factor\"] = 1\n",
    "standalone_parameters[\"val_k_factor\"] = 2\n",
    "standalone_parameters[\"test_k_factor\"] = 2\n",
    "\n",
    "\n",
    "standalone_parameters[\"n_epoch\"] = 50\n",
    "\n",
    "standalone_parameters[\"patience\"] = 10\n",
    "standalone_parameters[\"criteria_for_best\"] = \"source_loss\"\n",
    "\n",
    "standalone_parameters[\"datasets\"] = [\n",
    "    {\n",
    "        \"labels\": ALL_SERIAL_NUMBERS,\n",
    "        \"domains\": ALL_DISTANCES_FEET_NARROWED,\n",
    "        \"num_examples_per_domain_per_label\": 100,\n",
    "        \"pickle_path\": os.path.join(get_datasets_base_path(), \"oracle.Run1_framed_2000Examples_stratified_ds.2022A.pkl\"),\n",
    "        \"source_or_target_dataset\": \"source\",\n",
    "        \"x_transforms\": [\"unit_mag\", \"minus_two\"],\n",
    "        \"episode_transforms\": [],\n",
    "        \"domain_prefix\": \"ORACLE_\"\n",
    "    },\n",
    "    {\n",
    "        \"labels\": ALL_NODES,\n",
    "        \"domains\": ALL_DAYS,\n",
    "        \"num_examples_per_domain_per_label\": 100,\n",
    "        \"pickle_path\": os.path.join(get_datasets_base_path(), \"cores.stratified_ds.2022A.pkl\"),\n",
    "        \"source_or_target_dataset\": \"target\",\n",
    "        \"x_transforms\": [\"unit_power\", \"times_zero\"],\n",
    "        \"episode_transforms\": [],\n",
    "        \"domain_prefix\": \"CORES_\"\n",
    "    }   \n",
    "]\n",
    "\n",
    "standalone_parameters[\"torch_default_dtype\"] = \"torch.float32\" \n",
    "\n",
    "\n",
    "\n",
    "standalone_parameters[\"x_net\"] =     [\n",
    "    {\"class\": \"nnReshape\", \"kargs\": {\"shape\":[-1, 1, 2, 256]}},\n",
    "    {\"class\": \"Conv2d\", \"kargs\": { \"in_channels\":1, \"out_channels\":256, \"kernel_size\":(1,7), \"bias\":False, \"padding\":(0,3), },},\n",
    "    {\"class\": \"ReLU\", \"kargs\": {\"inplace\": True}},\n",
    "    {\"class\": \"BatchNorm2d\", \"kargs\": {\"num_features\":256}},\n",
    "\n",
    "    {\"class\": \"Conv2d\", \"kargs\": { \"in_channels\":256, \"out_channels\":80, \"kernel_size\":(2,7), \"bias\":True, \"padding\":(0,3), },},\n",
    "    {\"class\": \"ReLU\", \"kargs\": {\"inplace\": True}},\n",
    "    {\"class\": \"BatchNorm2d\", \"kargs\": {\"num_features\":80}},\n",
    "    {\"class\": \"Flatten\", \"kargs\": {}},\n",
    "\n",
    "    {\"class\": \"Linear\", \"kargs\": {\"in_features\": 80*256, \"out_features\": 256}}, # 80 units per IQ pair\n",
    "    {\"class\": \"ReLU\", \"kargs\": {\"inplace\": True}},\n",
    "    {\"class\": \"BatchNorm1d\", \"kargs\": {\"num_features\":256}},\n",
    "\n",
    "    {\"class\": \"Linear\", \"kargs\": {\"in_features\": 256, \"out_features\": 256}},\n",
    "]\n",
    "\n",
    "# Parameters relevant to results\n",
    "# These parameters will basically never need to change\n",
    "standalone_parameters[\"NUM_LOGS_PER_EPOCH\"] = 10\n",
    "standalone_parameters[\"BEST_MODEL_PATH\"] = \"./best_model.pth\"\n",
    "\n",
    "\n",
    "\n",
    "\n"
   ]
  },
  {
   "cell_type": "code",
   "execution_count": 4,
   "id": "9ebdfa22",
   "metadata": {
    "execution": {
     "iopub.execute_input": "2022-03-21T02:00:40.987997Z",
     "iopub.status.busy": "2022-03-21T02:00:40.982174Z",
     "iopub.status.idle": "2022-03-21T02:00:41.011298Z",
     "shell.execute_reply": "2022-03-21T02:00:41.010558Z"
    },
    "papermill": {
     "duration": 0.06373,
     "end_time": "2022-03-21T02:00:41.011474",
     "exception": false,
     "start_time": "2022-03-21T02:00:40.947744",
     "status": "completed"
    },
    "tags": [
     "injected-parameters"
    ]
   },
   "outputs": [],
   "source": [
    "# Parameters\n",
    "parameters = {\n",
    "    \"experiment_name\": \"tl_1v2:cores-wisig\",\n",
    "    \"device\": \"cuda\",\n",
    "    \"lr\": 0.0001,\n",
    "    \"n_shot\": 3,\n",
    "    \"n_query\": 2,\n",
    "    \"train_k_factor\": 3,\n",
    "    \"val_k_factor\": 2,\n",
    "    \"test_k_factor\": 2,\n",
    "    \"torch_default_dtype\": \"torch.float32\",\n",
    "    \"n_epoch\": 3,\n",
    "    \"patience\": 3,\n",
    "    \"criteria_for_best\": \"target_accuracy\",\n",
    "    \"x_net\": [\n",
    "        {\"class\": \"nnReshape\", \"kargs\": {\"shape\": [-1, 1, 2, 256]}},\n",
    "        {\n",
    "            \"class\": \"Conv2d\",\n",
    "            \"kargs\": {\n",
    "                \"in_channels\": 1,\n",
    "                \"out_channels\": 256,\n",
    "                \"kernel_size\": [1, 7],\n",
    "                \"bias\": False,\n",
    "                \"padding\": [0, 3],\n",
    "            },\n",
    "        },\n",
    "        {\"class\": \"ReLU\", \"kargs\": {\"inplace\": True}},\n",
    "        {\"class\": \"BatchNorm2d\", \"kargs\": {\"num_features\": 256}},\n",
    "        {\n",
    "            \"class\": \"Conv2d\",\n",
    "            \"kargs\": {\n",
    "                \"in_channels\": 256,\n",
    "                \"out_channels\": 80,\n",
    "                \"kernel_size\": [2, 7],\n",
    "                \"bias\": True,\n",
    "                \"padding\": [0, 3],\n",
    "            },\n",
    "        },\n",
    "        {\"class\": \"ReLU\", \"kargs\": {\"inplace\": True}},\n",
    "        {\"class\": \"BatchNorm2d\", \"kargs\": {\"num_features\": 80}},\n",
    "        {\"class\": \"Flatten\", \"kargs\": {}},\n",
    "        {\"class\": \"Linear\", \"kargs\": {\"in_features\": 20480, \"out_features\": 256}},\n",
    "        {\"class\": \"ReLU\", \"kargs\": {\"inplace\": True}},\n",
    "        {\"class\": \"BatchNorm1d\", \"kargs\": {\"num_features\": 256}},\n",
    "        {\"class\": \"Linear\", \"kargs\": {\"in_features\": 256, \"out_features\": 256}},\n",
    "    ],\n",
    "    \"NUM_LOGS_PER_EPOCH\": 10,\n",
    "    \"BEST_MODEL_PATH\": \"./best_model.pth\",\n",
    "    \"n_way\": 58,\n",
    "    \"datasets\": [\n",
    "        {\n",
    "            \"labels\": [\n",
    "                \"1-10.\",\n",
    "                \"1-11.\",\n",
    "                \"1-15.\",\n",
    "                \"1-16.\",\n",
    "                \"1-17.\",\n",
    "                \"1-18.\",\n",
    "                \"1-19.\",\n",
    "                \"10-4.\",\n",
    "                \"10-7.\",\n",
    "                \"11-1.\",\n",
    "                \"11-14.\",\n",
    "                \"11-17.\",\n",
    "                \"11-20.\",\n",
    "                \"11-7.\",\n",
    "                \"13-20.\",\n",
    "                \"13-8.\",\n",
    "                \"14-10.\",\n",
    "                \"14-11.\",\n",
    "                \"14-14.\",\n",
    "                \"14-7.\",\n",
    "                \"15-1.\",\n",
    "                \"15-20.\",\n",
    "                \"16-1.\",\n",
    "                \"16-16.\",\n",
    "                \"17-10.\",\n",
    "                \"17-11.\",\n",
    "                \"17-2.\",\n",
    "                \"19-1.\",\n",
    "                \"19-16.\",\n",
    "                \"19-19.\",\n",
    "                \"19-20.\",\n",
    "                \"19-3.\",\n",
    "                \"2-10.\",\n",
    "                \"2-11.\",\n",
    "                \"2-17.\",\n",
    "                \"2-18.\",\n",
    "                \"2-20.\",\n",
    "                \"2-3.\",\n",
    "                \"2-4.\",\n",
    "                \"2-5.\",\n",
    "                \"2-6.\",\n",
    "                \"2-7.\",\n",
    "                \"2-8.\",\n",
    "                \"3-13.\",\n",
    "                \"3-18.\",\n",
    "                \"3-3.\",\n",
    "                \"4-1.\",\n",
    "                \"4-10.\",\n",
    "                \"4-11.\",\n",
    "                \"4-19.\",\n",
    "                \"5-5.\",\n",
    "                \"6-15.\",\n",
    "                \"7-10.\",\n",
    "                \"7-14.\",\n",
    "                \"8-18.\",\n",
    "                \"8-20.\",\n",
    "                \"8-3.\",\n",
    "                \"8-8.\",\n",
    "            ],\n",
    "            \"domains\": [1, 2, 3, 4, 5],\n",
    "            \"num_examples_per_domain_per_label\": -1,\n",
    "            \"pickle_path\": \"/root/csc500-main/datasets/cores.stratified_ds.2022A.pkl\",\n",
    "            \"source_or_target_dataset\": \"source\",\n",
    "            \"x_transforms\": [\"unit_power\"],\n",
    "            \"episode_transforms\": [],\n",
    "            \"domain_prefix\": \"CORES_\",\n",
    "        },\n",
    "        {\n",
    "            \"labels\": [\n",
    "                \"1-10\",\n",
    "                \"1-12\",\n",
    "                \"1-14\",\n",
    "                \"1-16\",\n",
    "                \"1-18\",\n",
    "                \"1-19\",\n",
    "                \"1-8\",\n",
    "                \"10-11\",\n",
    "                \"10-17\",\n",
    "                \"10-4\",\n",
    "                \"10-7\",\n",
    "                \"11-1\",\n",
    "                \"11-10\",\n",
    "                \"11-19\",\n",
    "                \"11-20\",\n",
    "                \"11-4\",\n",
    "                \"11-7\",\n",
    "                \"12-19\",\n",
    "                \"12-20\",\n",
    "                \"12-7\",\n",
    "                \"13-14\",\n",
    "                \"13-18\",\n",
    "                \"13-19\",\n",
    "                \"13-20\",\n",
    "                \"13-3\",\n",
    "                \"13-7\",\n",
    "                \"14-10\",\n",
    "                \"14-11\",\n",
    "                \"14-12\",\n",
    "                \"14-13\",\n",
    "                \"14-14\",\n",
    "                \"14-19\",\n",
    "                \"14-20\",\n",
    "                \"14-7\",\n",
    "                \"14-8\",\n",
    "                \"14-9\",\n",
    "                \"15-1\",\n",
    "                \"15-19\",\n",
    "                \"15-6\",\n",
    "                \"16-1\",\n",
    "                \"16-16\",\n",
    "                \"16-19\",\n",
    "                \"16-20\",\n",
    "                \"17-10\",\n",
    "                \"17-11\",\n",
    "                \"18-1\",\n",
    "                \"18-10\",\n",
    "                \"18-11\",\n",
    "                \"18-12\",\n",
    "                \"18-13\",\n",
    "                \"18-14\",\n",
    "                \"18-15\",\n",
    "                \"18-16\",\n",
    "                \"18-17\",\n",
    "                \"18-19\",\n",
    "                \"18-2\",\n",
    "                \"18-20\",\n",
    "                \"18-4\",\n",
    "                \"18-5\",\n",
    "                \"18-7\",\n",
    "                \"18-8\",\n",
    "                \"18-9\",\n",
    "                \"19-1\",\n",
    "                \"19-10\",\n",
    "                \"19-11\",\n",
    "                \"19-12\",\n",
    "                \"19-13\",\n",
    "                \"19-14\",\n",
    "                \"19-15\",\n",
    "                \"19-19\",\n",
    "                \"19-2\",\n",
    "                \"19-20\",\n",
    "                \"19-3\",\n",
    "                \"19-4\",\n",
    "                \"19-6\",\n",
    "                \"19-7\",\n",
    "                \"19-8\",\n",
    "                \"19-9\",\n",
    "                \"2-1\",\n",
    "                \"2-13\",\n",
    "                \"2-15\",\n",
    "                \"2-3\",\n",
    "                \"2-4\",\n",
    "                \"2-5\",\n",
    "                \"2-6\",\n",
    "                \"2-7\",\n",
    "                \"2-8\",\n",
    "                \"20-1\",\n",
    "                \"20-12\",\n",
    "                \"20-14\",\n",
    "                \"20-15\",\n",
    "                \"20-16\",\n",
    "                \"20-18\",\n",
    "                \"20-19\",\n",
    "                \"20-20\",\n",
    "                \"20-3\",\n",
    "                \"20-4\",\n",
    "                \"20-5\",\n",
    "                \"20-7\",\n",
    "                \"20-8\",\n",
    "                \"3-1\",\n",
    "                \"3-13\",\n",
    "                \"3-18\",\n",
    "                \"3-2\",\n",
    "                \"3-8\",\n",
    "                \"4-1\",\n",
    "                \"4-10\",\n",
    "                \"4-11\",\n",
    "                \"5-1\",\n",
    "                \"5-5\",\n",
    "                \"6-1\",\n",
    "                \"6-15\",\n",
    "                \"6-6\",\n",
    "                \"7-10\",\n",
    "                \"7-11\",\n",
    "                \"7-12\",\n",
    "                \"7-13\",\n",
    "                \"7-14\",\n",
    "                \"7-7\",\n",
    "                \"7-8\",\n",
    "                \"7-9\",\n",
    "                \"8-1\",\n",
    "                \"8-13\",\n",
    "                \"8-14\",\n",
    "                \"8-18\",\n",
    "                \"8-20\",\n",
    "                \"8-3\",\n",
    "                \"8-8\",\n",
    "                \"9-1\",\n",
    "                \"9-7\",\n",
    "            ],\n",
    "            \"domains\": [1, 2, 3, 4],\n",
    "            \"num_examples_per_domain_per_label\": -1,\n",
    "            \"pickle_path\": \"/root/csc500-main/datasets/wisig.node3-19.stratified_ds.2022A.pkl\",\n",
    "            \"source_or_target_dataset\": \"target\",\n",
    "            \"x_transforms\": [\"unit_power\"],\n",
    "            \"episode_transforms\": [],\n",
    "            \"domain_prefix\": \"Wisig_\",\n",
    "        },\n",
    "    ],\n",
    "    \"dataset_seed\": 1337,\n",
    "    \"seed\": 1337,\n",
    "}\n"
   ]
  },
  {
   "cell_type": "code",
   "execution_count": 5,
   "id": "8fa1cc33",
   "metadata": {
    "execution": {
     "iopub.execute_input": "2022-03-21T02:00:41.062937Z",
     "iopub.status.busy": "2022-03-21T02:00:41.062277Z",
     "iopub.status.idle": "2022-03-21T02:00:41.080960Z",
     "shell.execute_reply": "2022-03-21T02:00:41.080239Z"
    },
    "papermill": {
     "duration": 0.042498,
     "end_time": "2022-03-21T02:00:41.081128",
     "exception": false,
     "start_time": "2022-03-21T02:00:41.038630",
     "status": "completed"
    },
    "tags": []
   },
   "outputs": [],
   "source": [
    "# Set this to True if you want to run this template directly\n",
    "STANDALONE = False\n",
    "if STANDALONE:\n",
    "    print(\"parameters not injected, running with standalone_parameters\")\n",
    "    parameters = standalone_parameters\n",
    "\n",
    "if not 'parameters' in locals() and not 'parameters' in globals():\n",
    "    raise Exception(\"Parameter injection failed\")\n",
    "\n",
    "#Use an easy dict for all the parameters\n",
    "p = EasyDict(parameters)\n",
    "\n",
    "if \"x_shape\" not in p:\n",
    "    p.x_shape = [2,256] # Default to this if we dont supply x_shape\n",
    "\n",
    "\n",
    "supplied_keys = set(p.keys())\n",
    "\n",
    "if  supplied_keys != required_parameters:\n",
    "    print(\"Parameters are incorrect\")\n",
    "    if len(supplied_keys - required_parameters)>0: print(\"Shouldn't have:\", str(supplied_keys - required_parameters))\n",
    "    if len(required_parameters - supplied_keys)>0: print(\"Need to have:\", str(required_parameters - supplied_keys))\n",
    "    raise RuntimeError(\"Parameters are incorrect\")"
   ]
  },
  {
   "cell_type": "code",
   "execution_count": 6,
   "id": "3a028d58",
   "metadata": {
    "execution": {
     "iopub.execute_input": "2022-03-21T02:00:41.128874Z",
     "iopub.status.busy": "2022-03-21T02:00:41.128496Z",
     "iopub.status.idle": "2022-03-21T02:00:41.145809Z",
     "shell.execute_reply": "2022-03-21T02:00:41.145097Z"
    },
    "papermill": {
     "duration": 0.039272,
     "end_time": "2022-03-21T02:00:41.145976",
     "exception": false,
     "start_time": "2022-03-21T02:00:41.106704",
     "status": "completed"
    },
    "tags": []
   },
   "outputs": [],
   "source": [
    "###################################\n",
    "# Set the RNGs and make it all deterministic\n",
    "###################################\n",
    "np.random.seed(p.seed)\n",
    "random.seed(p.seed)\n",
    "torch.manual_seed(p.seed)\n",
    "\n",
    "torch.use_deterministic_algorithms(True) "
   ]
  },
  {
   "cell_type": "code",
   "execution_count": 7,
   "id": "b691acf6",
   "metadata": {
    "execution": {
     "iopub.execute_input": "2022-03-21T02:00:41.194366Z",
     "iopub.status.busy": "2022-03-21T02:00:41.193982Z",
     "iopub.status.idle": "2022-03-21T02:00:41.214352Z",
     "shell.execute_reply": "2022-03-21T02:00:41.213624Z"
    },
    "papermill": {
     "duration": 0.043561,
     "end_time": "2022-03-21T02:00:41.214516",
     "exception": false,
     "start_time": "2022-03-21T02:00:41.170955",
     "status": "completed"
    },
    "tags": []
   },
   "outputs": [],
   "source": [
    "###########################################\n",
    "# The stratified datasets honor this\n",
    "###########################################\n",
    "torch.set_default_dtype(eval(p.torch_default_dtype))"
   ]
  },
  {
   "cell_type": "code",
   "execution_count": 8,
   "id": "b5fba671",
   "metadata": {
    "execution": {
     "iopub.execute_input": "2022-03-21T02:00:41.270003Z",
     "iopub.status.busy": "2022-03-21T02:00:41.269617Z",
     "iopub.status.idle": "2022-03-21T02:00:41.324398Z",
     "shell.execute_reply": "2022-03-21T02:00:41.323649Z"
    },
    "papermill": {
     "duration": 0.077944,
     "end_time": "2022-03-21T02:00:41.324565",
     "exception": false,
     "start_time": "2022-03-21T02:00:41.246621",
     "status": "completed"
    },
    "tags": []
   },
   "outputs": [],
   "source": [
    "###################################\n",
    "# Build the network(s)\n",
    "# Note: It's critical to do this AFTER setting the RNG\n",
    "###################################\n",
    "x_net = build_sequential(p.x_net)"
   ]
  },
  {
   "cell_type": "code",
   "execution_count": 9,
   "id": "5d7e61cc",
   "metadata": {
    "execution": {
     "iopub.execute_input": "2022-03-21T02:00:41.376470Z",
     "iopub.status.busy": "2022-03-21T02:00:41.375945Z",
     "iopub.status.idle": "2022-03-21T02:00:41.402779Z",
     "shell.execute_reply": "2022-03-21T02:00:41.402053Z"
    },
    "papermill": {
     "duration": 0.051382,
     "end_time": "2022-03-21T02:00:41.402935",
     "exception": false,
     "start_time": "2022-03-21T02:00:41.351553",
     "status": "completed"
    },
    "tags": []
   },
   "outputs": [],
   "source": [
    "start_time_secs = time.time()"
   ]
  },
  {
   "cell_type": "code",
   "execution_count": 10,
   "id": "c6b67dfd",
   "metadata": {
    "execution": {
     "iopub.execute_input": "2022-03-21T02:00:41.456223Z",
     "iopub.status.busy": "2022-03-21T02:00:41.455748Z",
     "iopub.status.idle": "2022-03-21T02:00:41.476000Z",
     "shell.execute_reply": "2022-03-21T02:00:41.475206Z"
    },
    "papermill": {
     "duration": 0.045054,
     "end_time": "2022-03-21T02:00:41.476177",
     "exception": false,
     "start_time": "2022-03-21T02:00:41.431123",
     "status": "completed"
    },
    "tags": []
   },
   "outputs": [],
   "source": [
    "p.domains_source = []\n",
    "p.domains_target = []\n",
    "\n",
    "\n",
    "train_original_source = []\n",
    "val_original_source   = []\n",
    "test_original_source  = []\n",
    "\n",
    "train_original_target = []\n",
    "val_original_target   = []\n",
    "test_original_target  = []"
   ]
  },
  {
   "cell_type": "code",
   "execution_count": 11,
   "id": "e3d9c3d3",
   "metadata": {
    "execution": {
     "iopub.execute_input": "2022-03-21T02:00:41.526636Z",
     "iopub.status.busy": "2022-03-21T02:00:41.526261Z",
     "iopub.status.idle": "2022-03-21T02:00:41.548346Z",
     "shell.execute_reply": "2022-03-21T02:00:41.547635Z"
    },
    "papermill": {
     "duration": 0.044376,
     "end_time": "2022-03-21T02:00:41.548507",
     "exception": false,
     "start_time": "2022-03-21T02:00:41.504131",
     "status": "completed"
    },
    "tags": []
   },
   "outputs": [],
   "source": [
    "# global_x_transform_func = lambda x: normalize(x.to(torch.get_default_dtype()), \"unit_power\") # unit_power, unit_mag\n",
    "# global_x_transform_func = lambda x: normalize(x, \"unit_power\") # unit_power, unit_mag"
   ]
  },
  {
   "cell_type": "code",
   "execution_count": 12,
   "id": "acb78fd2",
   "metadata": {
    "execution": {
     "iopub.execute_input": "2022-03-21T02:00:41.611275Z",
     "iopub.status.busy": "2022-03-21T02:00:41.610428Z",
     "iopub.status.idle": "2022-03-21T02:00:41.628261Z",
     "shell.execute_reply": "2022-03-21T02:00:41.627544Z"
    },
    "papermill": {
     "duration": 0.050546,
     "end_time": "2022-03-21T02:00:41.628429",
     "exception": false,
     "start_time": "2022-03-21T02:00:41.577883",
     "status": "completed"
    },
    "tags": []
   },
   "outputs": [],
   "source": [
    "def add_dataset(\n",
    "    labels,\n",
    "    domains,\n",
    "    pickle_path,\n",
    "    x_transforms,\n",
    "    episode_transforms,\n",
    "    domain_prefix,\n",
    "    num_examples_per_domain_per_label,\n",
    "    source_or_target_dataset:str,\n",
    "    iterator_seed=p.seed,\n",
    "    dataset_seed=p.dataset_seed,\n",
    "    n_shot=p.n_shot,\n",
    "    n_way=p.n_way,\n",
    "    n_query=p.n_query,\n",
    "    train_val_test_k_factors=(p.train_k_factor,p.val_k_factor,p.test_k_factor),\n",
    "):\n",
    "   \n",
    "    if x_transforms == []: x_transform = None\n",
    "    else: x_transform = get_chained_transform(x_transforms)\n",
    "    \n",
    "    if episode_transforms == []: episode_transform = None\n",
    "    else: raise Exception(\"episode_transforms not implemented\")\n",
    "    \n",
    "    episode_transform = lambda tup, _prefix=domain_prefix: (_prefix + str(tup[0]), tup[1])\n",
    "\n",
    "\n",
    "    eaf = Episodic_Accessor_Factory(\n",
    "        labels=labels,\n",
    "        domains=domains,\n",
    "        num_examples_per_domain_per_label=num_examples_per_domain_per_label,\n",
    "        iterator_seed=iterator_seed,\n",
    "        dataset_seed=dataset_seed,\n",
    "        n_shot=n_shot,\n",
    "        n_way=n_way,\n",
    "        n_query=n_query,\n",
    "        train_val_test_k_factors=train_val_test_k_factors,\n",
    "        pickle_path=pickle_path,\n",
    "        x_transform_func=x_transform,\n",
    "    )\n",
    "\n",
    "    train, val, test = eaf.get_train(), eaf.get_val(), eaf.get_test()\n",
    "    train = Lazy_Iterable_Wrapper(train, episode_transform)\n",
    "    val = Lazy_Iterable_Wrapper(val, episode_transform)\n",
    "    test = Lazy_Iterable_Wrapper(test, episode_transform)\n",
    "\n",
    "    if source_or_target_dataset==\"source\":\n",
    "        train_original_source.append(train)\n",
    "        val_original_source.append(val)\n",
    "        test_original_source.append(test)\n",
    "\n",
    "        p.domains_source.extend(\n",
    "            [domain_prefix + str(u) for u in domains]\n",
    "        )\n",
    "    elif source_or_target_dataset==\"target\":\n",
    "        train_original_target.append(train)\n",
    "        val_original_target.append(val)\n",
    "        test_original_target.append(test)\n",
    "        p.domains_target.extend(\n",
    "            [domain_prefix + str(u) for u in domains]\n",
    "        )\n",
    "    else:\n",
    "        raise Exception(f\"invalid source_or_target_dataset: {source_or_target_dataset}\")\n",
    "    "
   ]
  },
  {
   "cell_type": "code",
   "execution_count": 13,
   "id": "fe266617",
   "metadata": {
    "execution": {
     "iopub.execute_input": "2022-03-21T02:00:41.682364Z",
     "iopub.status.busy": "2022-03-21T02:00:41.681987Z",
     "iopub.status.idle": "2022-03-21T02:01:25.998459Z",
     "shell.execute_reply": "2022-03-21T02:01:25.997597Z"
    },
    "papermill": {
     "duration": 44.340213,
     "end_time": "2022-03-21T02:01:25.998641",
     "exception": false,
     "start_time": "2022-03-21T02:00:41.658428",
     "status": "completed"
    },
    "tags": []
   },
   "outputs": [],
   "source": [
    "for ds in p.datasets:\n",
    "    add_dataset(**ds)"
   ]
  },
  {
   "cell_type": "code",
   "execution_count": 14,
   "id": "b90d65ac",
   "metadata": {
    "execution": {
     "iopub.execute_input": "2022-03-21T02:01:26.051566Z",
     "iopub.status.busy": "2022-03-21T02:01:26.050630Z",
     "iopub.status.idle": "2022-03-21T02:01:26.073768Z",
     "shell.execute_reply": "2022-03-21T02:01:26.074446Z"
    },
    "papermill": {
     "duration": 0.049577,
     "end_time": "2022-03-21T02:01:26.074651",
     "exception": false,
     "start_time": "2022-03-21T02:01:26.025074",
     "status": "completed"
    },
    "tags": []
   },
   "outputs": [],
   "source": [
    "# from steves_utils.CORES.utils import (\n",
    "#     ALL_NODES,\n",
    "#     ALL_NODES_MINIMUM_1000_EXAMPLES,\n",
    "#     ALL_DAYS\n",
    "# )\n",
    "\n",
    "# add_dataset(\n",
    "#     labels=ALL_NODES,\n",
    "#     domains = ALL_DAYS,\n",
    "#     num_examples_per_domain_per_label=100,\n",
    "#     pickle_path=os.path.join(get_datasets_base_path(), \"cores.stratified_ds.2022A.pkl\"),\n",
    "#     source_or_target_dataset=\"target\",\n",
    "#     x_transform_func=global_x_transform_func,\n",
    "#     domain_modifier=lambda u: f\"cores_{u}\"\n",
    "# )"
   ]
  },
  {
   "cell_type": "code",
   "execution_count": 15,
   "id": "76db484d",
   "metadata": {
    "execution": {
     "iopub.execute_input": "2022-03-21T02:01:26.126685Z",
     "iopub.status.busy": "2022-03-21T02:01:26.125499Z",
     "iopub.status.idle": "2022-03-21T02:01:26.148217Z",
     "shell.execute_reply": "2022-03-21T02:01:26.147373Z"
    },
    "papermill": {
     "duration": 0.045631,
     "end_time": "2022-03-21T02:01:26.148380",
     "exception": false,
     "start_time": "2022-03-21T02:01:26.102749",
     "status": "completed"
    },
    "tags": []
   },
   "outputs": [],
   "source": [
    "# from steves_utils.ORACLE.utils_v2 import (\n",
    "#     ALL_DISTANCES_FEET,\n",
    "#     ALL_RUNS,\n",
    "#     ALL_SERIAL_NUMBERS,\n",
    "# )\n",
    "\n",
    "\n",
    "# add_dataset(\n",
    "#     labels=ALL_SERIAL_NUMBERS,\n",
    "#     domains = list(set(ALL_DISTANCES_FEET) - {2,62}),\n",
    "#     num_examples_per_domain_per_label=100,\n",
    "#     pickle_path=os.path.join(get_datasets_base_path(), \"oracle.Run2_framed_2000Examples_stratified_ds.2022A.pkl\"),\n",
    "#     source_or_target_dataset=\"source\",\n",
    "#     x_transform_func=global_x_transform_func,\n",
    "#     domain_modifier=lambda u: f\"oracle1_{u}\"\n",
    "# )\n"
   ]
  },
  {
   "cell_type": "code",
   "execution_count": 16,
   "id": "97dea9d2",
   "metadata": {
    "execution": {
     "iopub.execute_input": "2022-03-21T02:01:26.201423Z",
     "iopub.status.busy": "2022-03-21T02:01:26.200779Z",
     "iopub.status.idle": "2022-03-21T02:01:26.222884Z",
     "shell.execute_reply": "2022-03-21T02:01:26.222070Z"
    },
    "papermill": {
     "duration": 0.047164,
     "end_time": "2022-03-21T02:01:26.223045",
     "exception": false,
     "start_time": "2022-03-21T02:01:26.175881",
     "status": "completed"
    },
    "tags": []
   },
   "outputs": [],
   "source": [
    "# from steves_utils.ORACLE.utils_v2 import (\n",
    "#     ALL_DISTANCES_FEET,\n",
    "#     ALL_RUNS,\n",
    "#     ALL_SERIAL_NUMBERS,\n",
    "# )\n",
    "\n",
    "\n",
    "# add_dataset(\n",
    "#     labels=ALL_SERIAL_NUMBERS,\n",
    "#     domains = list(set(ALL_DISTANCES_FEET) - {2,62,56}),\n",
    "#     num_examples_per_domain_per_label=100,\n",
    "#     pickle_path=os.path.join(get_datasets_base_path(), \"oracle.Run2_framed_2000Examples_stratified_ds.2022A.pkl\"),\n",
    "#     source_or_target_dataset=\"source\",\n",
    "#     x_transform_func=global_x_transform_func,\n",
    "#     domain_modifier=lambda u: f\"oracle2_{u}\"\n",
    "# )"
   ]
  },
  {
   "cell_type": "code",
   "execution_count": 17,
   "id": "6f289866",
   "metadata": {
    "execution": {
     "iopub.execute_input": "2022-03-21T02:01:26.276485Z",
     "iopub.status.busy": "2022-03-21T02:01:26.275749Z",
     "iopub.status.idle": "2022-03-21T02:01:26.295271Z",
     "shell.execute_reply": "2022-03-21T02:01:26.294461Z"
    },
    "papermill": {
     "duration": 0.046673,
     "end_time": "2022-03-21T02:01:26.295431",
     "exception": false,
     "start_time": "2022-03-21T02:01:26.248758",
     "status": "completed"
    },
    "tags": []
   },
   "outputs": [],
   "source": [
    "# add_dataset(\n",
    "#     labels=list(range(19)),\n",
    "#     domains = [0,1,2],\n",
    "#     num_examples_per_domain_per_label=100,\n",
    "#     pickle_path=os.path.join(get_datasets_base_path(), \"metehan.stratified_ds.2022A.pkl\"),\n",
    "#     source_or_target_dataset=\"target\",\n",
    "#     x_transform_func=global_x_transform_func,\n",
    "#     domain_modifier=lambda u: f\"met_{u}\"\n",
    "# )"
   ]
  },
  {
   "cell_type": "code",
   "execution_count": 18,
   "id": "86a863c3",
   "metadata": {
    "execution": {
     "iopub.execute_input": "2022-03-21T02:01:26.350452Z",
     "iopub.status.busy": "2022-03-21T02:01:26.350079Z",
     "iopub.status.idle": "2022-03-21T02:01:26.374061Z",
     "shell.execute_reply": "2022-03-21T02:01:26.373259Z"
    },
    "papermill": {
     "duration": 0.048257,
     "end_time": "2022-03-21T02:01:26.374212",
     "exception": false,
     "start_time": "2022-03-21T02:01:26.325955",
     "status": "completed"
    },
    "tags": []
   },
   "outputs": [],
   "source": [
    "# # from steves_utils.wisig.utils import (\n",
    "# #     ALL_NODES_MINIMUM_100_EXAMPLES,\n",
    "# #     ALL_NODES_MINIMUM_500_EXAMPLES,\n",
    "# #     ALL_NODES_MINIMUM_1000_EXAMPLES,\n",
    "# #     ALL_DAYS\n",
    "# # )\n",
    "\n",
    "# import steves_utils.wisig.utils as wisig\n",
    "\n",
    "\n",
    "# add_dataset(\n",
    "#     labels=wisig.ALL_NODES_MINIMUM_100_EXAMPLES,\n",
    "#     domains = wisig.ALL_DAYS,\n",
    "#     num_examples_per_domain_per_label=100,\n",
    "#     pickle_path=os.path.join(get_datasets_base_path(), \"wisig.node3-19.stratified_ds.2022A.pkl\"),\n",
    "#     source_or_target_dataset=\"target\",\n",
    "#     x_transform_func=global_x_transform_func,\n",
    "#     domain_modifier=lambda u: f\"wisig_{u}\"\n",
    "# )"
   ]
  },
  {
   "cell_type": "code",
   "execution_count": 19,
   "id": "fd5442bc",
   "metadata": {
    "execution": {
     "iopub.execute_input": "2022-03-21T02:01:26.431796Z",
     "iopub.status.busy": "2022-03-21T02:01:26.430359Z",
     "iopub.status.idle": "2022-03-21T02:01:26.450942Z",
     "shell.execute_reply": "2022-03-21T02:01:26.451618Z"
    },
    "papermill": {
     "duration": 0.04922,
     "end_time": "2022-03-21T02:01:26.451791",
     "exception": false,
     "start_time": "2022-03-21T02:01:26.402571",
     "status": "completed"
    },
    "tags": []
   },
   "outputs": [],
   "source": [
    "###################################\n",
    "# Build the dataset\n",
    "###################################\n",
    "train_original_source = Iterable_Aggregator(train_original_source, p.seed)\n",
    "val_original_source = Iterable_Aggregator(val_original_source, p.seed)\n",
    "test_original_source = Iterable_Aggregator(test_original_source, p.seed)\n",
    "\n",
    "\n",
    "train_original_target = Iterable_Aggregator(train_original_target, p.seed)\n",
    "val_original_target = Iterable_Aggregator(val_original_target, p.seed)\n",
    "test_original_target = Iterable_Aggregator(test_original_target, p.seed)\n",
    "\n",
    "# For CNN We only use X and Y. And we only train on the source.\n",
    "# Properly form the data using a transform lambda and Lazy_Iterable_Wrapper. Finally wrap them in a dataloader\n",
    "\n",
    "transform_lambda = lambda ex: ex[1] # Original is (<domain>, <episode>) so we strip down to episode only\n",
    "\n",
    "train_processed_source = Lazy_Iterable_Wrapper(train_original_source, transform_lambda)\n",
    "val_processed_source   = Lazy_Iterable_Wrapper(val_original_source, transform_lambda)\n",
    "test_processed_source  = Lazy_Iterable_Wrapper(test_original_source, transform_lambda)\n",
    "\n",
    "train_processed_target = Lazy_Iterable_Wrapper(train_original_target, transform_lambda)\n",
    "val_processed_target   = Lazy_Iterable_Wrapper(val_original_target, transform_lambda)\n",
    "test_processed_target  = Lazy_Iterable_Wrapper(test_original_target, transform_lambda)\n",
    "\n",
    "datasets = EasyDict({\n",
    "    \"source\": {\n",
    "        \"original\": {\"train\":train_original_source, \"val\":val_original_source, \"test\":test_original_source},\n",
    "        \"processed\": {\"train\":train_processed_source, \"val\":val_processed_source, \"test\":test_processed_source}\n",
    "    },\n",
    "    \"target\": {\n",
    "        \"original\": {\"train\":train_original_target, \"val\":val_original_target, \"test\":test_original_target},\n",
    "        \"processed\": {\"train\":train_processed_target, \"val\":val_processed_target, \"test\":test_processed_target}\n",
    "    },\n",
    "})"
   ]
  },
  {
   "cell_type": "code",
   "execution_count": 20,
   "id": "5b3c01fc",
   "metadata": {
    "execution": {
     "iopub.execute_input": "2022-03-21T02:01:26.511704Z",
     "iopub.status.busy": "2022-03-21T02:01:26.511037Z",
     "iopub.status.idle": "2022-03-21T02:01:33.460058Z",
     "shell.execute_reply": "2022-03-21T02:01:33.460751Z"
    },
    "papermill": {
     "duration": 6.978798,
     "end_time": "2022-03-21T02:01:33.460980",
     "exception": false,
     "start_time": "2022-03-21T02:01:26.482182",
     "status": "completed"
    },
    "tags": []
   },
   "outputs": [
    {
     "name": "stdout",
     "output_type": "stream",
     "text": [
      "{'CORES_5', 'CORES_4', 'CORES_1', 'CORES_3', 'CORES_2'}\n"
     ]
    },
    {
     "name": "stdout",
     "output_type": "stream",
     "text": [
      "{'Wisig_3', 'Wisig_4', 'Wisig_2', 'Wisig_1'}\n"
     ]
    },
    {
     "name": "stdout",
     "output_type": "stream",
     "text": [
      "tensor([[[ 0.1212, -0.1773, -0.2515,  ...,  1.0765, -0.4089,  0.1158],\n",
      "         [ 0.5120, -0.1791, -0.8196,  ..., -0.3799,  0.1031, -0.2153]],\n",
      "\n",
      "        [[ 0.0251,  0.5528,  0.9459,  ..., -0.1669, -0.1974,  1.5221],\n",
      "         [ 0.7880,  0.1167,  0.1992,  ...,  0.2872,  0.8077, -0.0323]],\n",
      "\n",
      "        [[ 0.1667,  0.3208, -0.6779,  ..., -0.5129, -0.1740,  0.2030],\n",
      "         [-0.2465,  0.0308,  0.3190,  ..., -1.5660, -0.1486,  0.3480]],\n",
      "\n",
      "        ...,\n",
      "\n",
      "        [[ 0.6033, -0.7821, -0.3352,  ..., -0.4405, -0.3224,  0.2777],\n",
      "         [ 0.5267,  0.5331, -0.9289,  ...,  0.8747,  0.6033, -0.5842]],\n",
      "\n",
      "        [[-1.6399, -0.6074,  0.1367,  ...,  0.2824,  0.4403,  0.2247],\n",
      "         [ 0.4859,  0.4889, -0.2308,  ...,  0.7987,  0.8078,  0.4069]],\n",
      "\n",
      "        [[-0.5077, -1.3267, -0.7314,  ...,  0.2539,  0.1662, -1.2965],\n",
      "         [-1.0426, -0.6830, -0.9852,  ..., -0.8492, -0.0907, -0.4322]]])\n"
     ]
    }
   ],
   "source": [
    "from steves_utils.transforms import get_average_magnitude, get_average_power\n",
    "\n",
    "print(set([u for u,_ in val_original_source]))\n",
    "print(set([u for u,_ in val_original_target]))\n",
    "\n",
    "s_x, s_y, q_x, q_y, _ = next(iter(train_processed_source))\n",
    "print(s_x)\n",
    "\n",
    "# for ds in [\n",
    "#     train_processed_source,\n",
    "#     val_processed_source,\n",
    "#     test_processed_source,\n",
    "#     train_processed_target,\n",
    "#     val_processed_target,\n",
    "#     test_processed_target\n",
    "# ]:\n",
    "#     for s_x, s_y, q_x, q_y, _ in ds:\n",
    "#         for X in (s_x, q_x):\n",
    "#             for x in X:\n",
    "#                 assert np.isclose(get_average_magnitude(x.numpy()), 1.0)\n",
    "#                 assert np.isclose(get_average_power(x.numpy()), 1.0)\n",
    "                "
   ]
  },
  {
   "cell_type": "code",
   "execution_count": 21,
   "id": "bbdacba1",
   "metadata": {
    "execution": {
     "iopub.execute_input": "2022-03-21T02:01:33.525552Z",
     "iopub.status.busy": "2022-03-21T02:01:33.524343Z",
     "iopub.status.idle": "2022-03-21T02:01:33.680665Z",
     "shell.execute_reply": "2022-03-21T02:01:33.680981Z"
    },
    "papermill": {
     "duration": 0.191756,
     "end_time": "2022-03-21T02:01:33.681102",
     "exception": false,
     "start_time": "2022-03-21T02:01:33.489346",
     "status": "completed"
    },
    "tags": []
   },
   "outputs": [
    {
     "name": "stdout",
     "output_type": "stream",
     "text": [
      "(2, 256)\n"
     ]
    }
   ],
   "source": [
    "###################################\n",
    "# Build the model\n",
    "###################################\n",
    "# easfsl only wants a tuple for the shape\n",
    "model = Steves_Prototypical_Network(x_net, device=p.device, x_shape=tuple(p.x_shape))\n",
    "optimizer = Adam(params=model.parameters(), lr=p.lr)"
   ]
  },
  {
   "cell_type": "code",
   "execution_count": 22,
   "id": "22b39ac5",
   "metadata": {
    "execution": {
     "iopub.execute_input": "2022-03-21T02:01:33.751071Z",
     "iopub.status.busy": "2022-03-21T02:01:33.750045Z",
     "iopub.status.idle": "2022-03-21T02:02:46.254753Z",
     "shell.execute_reply": "2022-03-21T02:02:46.254044Z"
    },
    "papermill": {
     "duration": 72.55067,
     "end_time": "2022-03-21T02:02:46.254929",
     "exception": false,
     "start_time": "2022-03-21T02:01:33.704259",
     "status": "completed"
    },
    "tags": []
   },
   "outputs": [
    {
     "name": "stdout",
     "output_type": "stream",
     "text": [
      "epoch: 1, [batch: 1 / 351], examples_per_second: 306.1996, train_label_loss: 3.9025, \n"
     ]
    },
    {
     "name": "stdout",
     "output_type": "stream",
     "text": [
      "epoch: 1, [batch: 36 / 351], examples_per_second: 5626.6241, train_label_loss: 0.8244, \n"
     ]
    },
    {
     "name": "stdout",
     "output_type": "stream",
     "text": [
      "epoch: 1, [batch: 71 / 351], examples_per_second: 5361.6397, train_label_loss: 0.2534, \n"
     ]
    },
    {
     "name": "stdout",
     "output_type": "stream",
     "text": [
      "epoch: 1, [batch: 106 / 351], examples_per_second: 5895.5288, train_label_loss: 0.1198, \n"
     ]
    },
    {
     "name": "stdout",
     "output_type": "stream",
     "text": [
      "epoch: 1, [batch: 141 / 351], examples_per_second: 5894.8725, train_label_loss: 0.0646, \n"
     ]
    },
    {
     "name": "stdout",
     "output_type": "stream",
     "text": [
      "epoch: 1, [batch: 176 / 351], examples_per_second: 6123.8960, train_label_loss: 0.0743, \n"
     ]
    },
    {
     "name": "stdout",
     "output_type": "stream",
     "text": [
      "epoch: 1, [batch: 211 / 351], examples_per_second: 6413.5862, train_label_loss: 0.0368, \n"
     ]
    },
    {
     "name": "stdout",
     "output_type": "stream",
     "text": [
      "epoch: 1, [batch: 246 / 351], examples_per_second: 5848.8167, train_label_loss: 0.0357, \n"
     ]
    },
    {
     "name": "stdout",
     "output_type": "stream",
     "text": [
      "epoch: 1, [batch: 281 / 351], examples_per_second: 5898.2856, train_label_loss: 0.0362, \n"
     ]
    },
    {
     "name": "stdout",
     "output_type": "stream",
     "text": [
      "epoch: 1, [batch: 316 / 351], examples_per_second: 6115.2041, train_label_loss: 0.0093, \n"
     ]
    },
    {
     "name": "stdout",
     "output_type": "stream",
     "text": [
      "=============================================================\n",
      "epoch: 1, source_val_acc_label: 0.9984, target_val_acc_label: 0.7016, source_val_label_loss: 0.0194, target_val_label_loss: 1.8164, \n",
      "=============================================================\n"
     ]
    },
    {
     "name": "stdout",
     "output_type": "stream",
     "text": [
      "New best\n"
     ]
    },
    {
     "name": "stdout",
     "output_type": "stream",
     "text": [
      "epoch: 2, [batch: 1 / 351], examples_per_second: 65.8176, train_label_loss: 0.0208, \n"
     ]
    },
    {
     "name": "stdout",
     "output_type": "stream",
     "text": [
      "epoch: 2, [batch: 36 / 351], examples_per_second: 5738.2368, train_label_loss: 0.0145, \n"
     ]
    },
    {
     "name": "stdout",
     "output_type": "stream",
     "text": [
      "epoch: 2, [batch: 71 / 351], examples_per_second: 5865.7884, train_label_loss: 0.0082, \n"
     ]
    },
    {
     "name": "stdout",
     "output_type": "stream",
     "text": [
      "epoch: 2, [batch: 106 / 351], examples_per_second: 5984.6829, train_label_loss: 0.0211, \n"
     ]
    },
    {
     "name": "stdout",
     "output_type": "stream",
     "text": [
      "epoch: 2, [batch: 141 / 351], examples_per_second: 6061.0320, train_label_loss: 0.0014, \n"
     ]
    },
    {
     "name": "stdout",
     "output_type": "stream",
     "text": [
      "epoch: 2, [batch: 176 / 351], examples_per_second: 6034.1785, train_label_loss: 0.0204, \n"
     ]
    },
    {
     "name": "stdout",
     "output_type": "stream",
     "text": [
      "epoch: 2, [batch: 211 / 351], examples_per_second: 6346.5412, train_label_loss: 0.0041, \n"
     ]
    },
    {
     "name": "stdout",
     "output_type": "stream",
     "text": [
      "epoch: 2, [batch: 246 / 351], examples_per_second: 5213.6597, train_label_loss: 0.0254, \n"
     ]
    },
    {
     "name": "stdout",
     "output_type": "stream",
     "text": [
      "epoch: 2, [batch: 281 / 351], examples_per_second: 5886.4242, train_label_loss: 0.0282, \n"
     ]
    },
    {
     "name": "stdout",
     "output_type": "stream",
     "text": [
      "epoch: 2, [batch: 316 / 351], examples_per_second: 6083.7989, train_label_loss: 0.0126, \n"
     ]
    },
    {
     "name": "stdout",
     "output_type": "stream",
     "text": [
      "=============================================================\n",
      "epoch: 2, source_val_acc_label: 0.9971, target_val_acc_label: 0.6629, source_val_label_loss: 0.0106, target_val_label_loss: 3.3343, \n",
      "=============================================================\n"
     ]
    },
    {
     "name": "stdout",
     "output_type": "stream",
     "text": [
      "epoch: 3, [batch: 1 / 351], examples_per_second: 66.4311, train_label_loss: 0.0007, \n"
     ]
    },
    {
     "name": "stdout",
     "output_type": "stream",
     "text": [
      "epoch: 3, [batch: 36 / 351], examples_per_second: 5837.2389, train_label_loss: 0.0018, \n"
     ]
    },
    {
     "name": "stdout",
     "output_type": "stream",
     "text": [
      "epoch: 3, [batch: 71 / 351], examples_per_second: 5863.3341, train_label_loss: 0.0024, \n"
     ]
    },
    {
     "name": "stdout",
     "output_type": "stream",
     "text": [
      "epoch: 3, [batch: 106 / 351], examples_per_second: 5757.5418, train_label_loss: 0.0295, \n"
     ]
    },
    {
     "name": "stdout",
     "output_type": "stream",
     "text": [
      "epoch: 3, [batch: 141 / 351], examples_per_second: 5643.6396, train_label_loss: 0.0042, \n"
     ]
    },
    {
     "name": "stdout",
     "output_type": "stream",
     "text": [
      "epoch: 3, [batch: 176 / 351], examples_per_second: 5965.5590, train_label_loss: 0.0066, \n"
     ]
    },
    {
     "name": "stdout",
     "output_type": "stream",
     "text": [
      "epoch: 3, [batch: 211 / 351], examples_per_second: 6055.3438, train_label_loss: 0.0025, \n"
     ]
    },
    {
     "name": "stdout",
     "output_type": "stream",
     "text": [
      "epoch: 3, [batch: 246 / 351], examples_per_second: 5842.1669, train_label_loss: 0.0331, \n"
     ]
    },
    {
     "name": "stdout",
     "output_type": "stream",
     "text": [
      "epoch: 3, [batch: 281 / 351], examples_per_second: 6218.0847, train_label_loss: 0.0056, \n"
     ]
    },
    {
     "name": "stdout",
     "output_type": "stream",
     "text": [
      "epoch: 3, [batch: 316 / 351], examples_per_second: 6254.2114, train_label_loss: 0.0090, \n"
     ]
    },
    {
     "name": "stdout",
     "output_type": "stream",
     "text": [
      "=============================================================\n",
      "epoch: 3, source_val_acc_label: 0.9971, target_val_acc_label: 0.6740, source_val_label_loss: 0.0078, target_val_label_loss: 3.6049, \n",
      "=============================================================\n"
     ]
    }
   ],
   "source": [
    "###################################\n",
    "# train\n",
    "###################################\n",
    "jig = PTN_Train_Eval_Test_Jig(model, p.BEST_MODEL_PATH, p.device)\n",
    "\n",
    "jig.train(\n",
    "    train_iterable=datasets.source.processed.train,\n",
    "    source_val_iterable=datasets.source.processed.val,\n",
    "    target_val_iterable=datasets.target.processed.val,\n",
    "    num_epochs=p.n_epoch,\n",
    "    num_logs_per_epoch=p.NUM_LOGS_PER_EPOCH,\n",
    "    patience=p.patience,\n",
    "    optimizer=optimizer,\n",
    "    criteria_for_best=p.criteria_for_best,\n",
    ")"
   ]
  },
  {
   "cell_type": "code",
   "execution_count": 23,
   "id": "31e8fabf",
   "metadata": {
    "execution": {
     "iopub.execute_input": "2022-03-21T02:02:46.329631Z",
     "iopub.status.busy": "2022-03-21T02:02:46.328996Z",
     "iopub.status.idle": "2022-03-21T02:02:46.361049Z",
     "shell.execute_reply": "2022-03-21T02:02:46.360339Z"
    },
    "papermill": {
     "duration": 0.067516,
     "end_time": "2022-03-21T02:02:46.361212",
     "exception": false,
     "start_time": "2022-03-21T02:02:46.293696",
     "status": "completed"
    },
    "tags": []
   },
   "outputs": [],
   "source": [
    "total_experiment_time_secs = time.time() - start_time_secs"
   ]
  },
  {
   "cell_type": "code",
   "execution_count": 24,
   "id": "87b9595b",
   "metadata": {
    "execution": {
     "iopub.execute_input": "2022-03-21T02:02:46.439622Z",
     "iopub.status.busy": "2022-03-21T02:02:46.438914Z",
     "iopub.status.idle": "2022-03-21T02:03:31.564550Z",
     "shell.execute_reply": "2022-03-21T02:03:31.565261Z"
    },
    "papermill": {
     "duration": 45.163589,
     "end_time": "2022-03-21T02:03:31.565477",
     "exception": false,
     "start_time": "2022-03-21T02:02:46.401888",
     "status": "completed"
    },
    "tags": []
   },
   "outputs": [],
   "source": [
    "###################################\n",
    "# Evaluate the model\n",
    "###################################\n",
    "source_test_label_accuracy, source_test_label_loss = jig.test(datasets.source.processed.test)\n",
    "target_test_label_accuracy, target_test_label_loss = jig.test(datasets.target.processed.test)\n",
    "\n",
    "source_val_label_accuracy, source_val_label_loss = jig.test(datasets.source.processed.val)\n",
    "target_val_label_accuracy, target_val_label_loss = jig.test(datasets.target.processed.val)\n",
    "\n",
    "history = jig.get_history()\n",
    "\n",
    "total_epochs_trained = len(history[\"epoch_indices\"])\n",
    "\n",
    "val_dl = Iterable_Aggregator((datasets.source.original.val,datasets.target.original.val))\n",
    "\n",
    "confusion = ptn_confusion_by_domain_over_dataloader(model, p.device, val_dl)\n",
    "per_domain_accuracy = per_domain_accuracy_from_confusion(confusion)\n",
    "\n",
    "# Add a key to per_domain_accuracy for if it was a source domain\n",
    "for domain, accuracy in per_domain_accuracy.items():\n",
    "    per_domain_accuracy[domain] = {\n",
    "        \"accuracy\": accuracy,\n",
    "        \"source?\": domain in p.domains_source\n",
    "    }\n",
    "\n",
    "# Do an independent accuracy assesment JUST TO BE SURE!\n",
    "# _source_test_label_accuracy = independent_accuracy_assesment(model, datasets.source.processed.test, p.device)\n",
    "# _target_test_label_accuracy = independent_accuracy_assesment(model, datasets.target.processed.test, p.device)\n",
    "# _source_val_label_accuracy = independent_accuracy_assesment(model, datasets.source.processed.val, p.device)\n",
    "# _target_val_label_accuracy = independent_accuracy_assesment(model, datasets.target.processed.val, p.device)\n",
    "\n",
    "# assert(_source_test_label_accuracy == source_test_label_accuracy)\n",
    "# assert(_target_test_label_accuracy == target_test_label_accuracy)\n",
    "# assert(_source_val_label_accuracy == source_val_label_accuracy)\n",
    "# assert(_target_val_label_accuracy == target_val_label_accuracy)\n",
    "\n",
    "experiment = {\n",
    "    \"experiment_name\": p.experiment_name,\n",
    "    \"parameters\": dict(p),\n",
    "    \"results\": {\n",
    "        \"source_test_label_accuracy\": source_test_label_accuracy,\n",
    "        \"source_test_label_loss\": source_test_label_loss,\n",
    "        \"target_test_label_accuracy\": target_test_label_accuracy,\n",
    "        \"target_test_label_loss\": target_test_label_loss,\n",
    "        \"source_val_label_accuracy\": source_val_label_accuracy,\n",
    "        \"source_val_label_loss\": source_val_label_loss,\n",
    "        \"target_val_label_accuracy\": target_val_label_accuracy,\n",
    "        \"target_val_label_loss\": target_val_label_loss,\n",
    "        \"total_epochs_trained\": total_epochs_trained,\n",
    "        \"total_experiment_time_secs\": total_experiment_time_secs,\n",
    "        \"confusion\": confusion,\n",
    "        \"per_domain_accuracy\": per_domain_accuracy,\n",
    "    },\n",
    "    \"history\": history,\n",
    "    \"dataset_metrics\": get_dataset_metrics(datasets, \"ptn\"),\n",
    "}"
   ]
  },
  {
   "cell_type": "code",
   "execution_count": 25,
   "id": "54a21829",
   "metadata": {
    "execution": {
     "iopub.execute_input": "2022-03-21T02:03:31.641170Z",
     "iopub.status.busy": "2022-03-21T02:03:31.640783Z",
     "iopub.status.idle": "2022-03-21T02:03:31.860526Z",
     "shell.execute_reply": "2022-03-21T02:03:31.861220Z"
    },
    "papermill": {
     "duration": 0.256986,
     "end_time": "2022-03-21T02:03:31.861432",
     "exception": false,
     "start_time": "2022-03-21T02:03:31.604446",
     "status": "completed"
    },
    "tags": []
   },
   "outputs": [
    {
     "data": {
      "image/png": "[encoded data removed]",
      "text/plain": [
       "<Figure size 1080x504 with 1 Axes>"
      ]
     },
     "metadata": {
      "needs_background": "light"
     },
     "output_type": "display_data"
    }
   ],
   "source": [
    "ax = get_loss_curve(experiment)\n",
    "plt.show()"
   ]
  },
  {
   "cell_type": "code",
   "execution_count": 26,
   "id": "fd8a0f60",
   "metadata": {
    "execution": {
     "iopub.execute_input": "2022-03-21T02:03:31.938170Z",
     "iopub.status.busy": "2022-03-21T02:03:31.937531Z",
     "iopub.status.idle": "2022-03-21T02:03:32.276000Z",
     "shell.execute_reply": "2022-03-21T02:03:32.276688Z"
    },
    "papermill": {
     "duration": 0.376588,
     "end_time": "2022-03-21T02:03:32.276900",
     "exception": false,
     "start_time": "2022-03-21T02:03:31.900312",
     "status": "completed"
    },
    "tags": []
   },
   "outputs": [
    {
     "data": {
      "text/plain": [
       "<AxesSubplot:title={'center':'Results'}>"
      ]
     },
     "execution_count": 26,
     "metadata": {},
     "output_type": "execute_result"
    },
    {
     "data": {
      "image/png": "[encoded data removed]",
      "text/plain": [
       "<Figure size 1080x504 with 1 Axes>"
      ]
     },
     "metadata": {
      "needs_background": "light"
     },
     "output_type": "display_data"
    }
   ],
   "source": [
    "get_results_table(experiment)"
   ]
  },
  {
   "cell_type": "code",
   "execution_count": 27,
   "id": "cf8dc689",
   "metadata": {
    "execution": {
     "iopub.execute_input": "2022-03-21T02:03:32.357311Z",
     "iopub.status.busy": "2022-03-21T02:03:32.356672Z",
     "iopub.status.idle": "2022-03-21T02:03:32.592596Z",
     "shell.execute_reply": "2022-03-21T02:03:32.593281Z"
    },
    "papermill": {
     "duration": 0.274873,
     "end_time": "2022-03-21T02:03:32.593493",
     "exception": false,
     "start_time": "2022-03-21T02:03:32.318620",
     "status": "completed"
    },
    "tags": []
   },
   "outputs": [
    {
     "data": {
      "text/plain": [
       "<AxesSubplot:title={'center':'Per Domain Validation Accuracy'}, xlabel='domain'>"
      ]
     },
     "execution_count": 27,
     "metadata": {},
     "output_type": "execute_result"
    },
    {
     "data": {
      "image/png": "[encoded data removed]",
      "text/plain": [
       "<Figure size 1080x504 with 1 Axes>"
      ]
     },
     "metadata": {
      "needs_background": "light"
     },
     "output_type": "display_data"
    }
   ],
   "source": [
    "get_domain_accuracies(experiment)"
   ]
  },
  {
   "cell_type": "code",
   "execution_count": 28,
   "id": "a74ae082",
   "metadata": {
    "execution": {
     "iopub.execute_input": "2022-03-21T02:03:32.678037Z",
     "iopub.status.busy": "2022-03-21T02:03:32.677373Z",
     "iopub.status.idle": "2022-03-21T02:03:32.704411Z",
     "shell.execute_reply": "2022-03-21T02:03:32.703568Z"
    },
    "papermill": {
     "duration": 0.067556,
     "end_time": "2022-03-21T02:03:32.704584",
     "exception": false,
     "start_time": "2022-03-21T02:03:32.637028",
     "status": "completed"
    },
    "tags": []
   },
   "outputs": [
    {
     "name": "stdout",
     "output_type": "stream",
     "text": [
      "Source Test Label Accuracy: 0.998448275862069 Target Test Label Accuracy: 0.7001774847870182\n",
      "Source Val Label Accuracy: 0.9983836206896551 Target Val Label Accuracy: 0.7015759698275862\n"
     ]
    }
   ],
   "source": [
    "print(\"Source Test Label Accuracy:\", experiment[\"results\"][\"source_test_label_accuracy\"], \"Target Test Label Accuracy:\", experiment[\"results\"][\"target_test_label_accuracy\"])\n",
    "print(\"Source Val Label Accuracy:\", experiment[\"results\"][\"source_val_label_accuracy\"], \"Target Val Label Accuracy:\", experiment[\"results\"][\"target_val_label_accuracy\"])"
   ]
  },
  {
   "cell_type": "code",
   "execution_count": 29,
   "id": "dacca602",
   "metadata": {
    "execution": {
     "iopub.execute_input": "2022-03-21T02:03:32.785894Z",
     "iopub.status.busy": "2022-03-21T02:03:32.785520Z",
     "iopub.status.idle": "2022-03-21T02:03:32.815779Z",
     "shell.execute_reply": "2022-03-21T02:03:32.816464Z"
    },
    "papermill": {
     "duration": 0.071243,
     "end_time": "2022-03-21T02:03:32.816675",
     "exception": false,
     "start_time": "2022-03-21T02:03:32.745432",
     "status": "completed"
    },
    "tags": [
     "experiment_json"
    ]
   },
   "outputs": [
    {
     "data": {
      "text/plain": [
       "'{\"experiment_name\": \"tl_1v2:cores-wisig\", \"parameters\": {\"experiment_name\": \"tl_1v2:cores-wisig\", \"device\": \"cuda\", \"lr\": 0.0001, \"n_shot\": 3, \"n_query\": 2, \"train_k_factor\": 3, \"val_k_factor\": 2, \"test_k_factor\": 2, \"torch_default_dtype\": \"torch.float32\", \"n_epoch\": 3, \"patience\": 3, \"criteria_for_best\": \"target_accuracy\", \"x_net\": [{\"class\": \"nnReshape\", \"kargs\": {\"shape\": [-1, 1, 2, 256]}}, {\"class\": \"Conv2d\", \"kargs\": {\"in_channels\": 1, \"out_channels\": 256, \"kernel_size\": [1, 7], \"bias\": false, \"padding\": [0, 3]}}, {\"class\": \"ReLU\", \"kargs\": {\"inplace\": true}}, {\"class\": \"BatchNorm2d\", \"kargs\": {\"num_features\": 256}}, {\"class\": \"Conv2d\", \"kargs\": {\"in_channels\": 256, \"out_channels\": 80, \"kernel_size\": [2, 7], \"bias\": true, \"padding\": [0, 3]}}, {\"class\": \"ReLU\", \"kargs\": {\"inplace\": true}}, {\"class\": \"BatchNorm2d\", \"kargs\": {\"num_features\": 80}}, {\"class\": \"Flatten\", \"kargs\": {}}, {\"class\": \"Linear\", \"kargs\": {\"in_features\": 20480, \"out_features\": 256}}, {\"class\": \"ReLU\", \"kargs\": {\"inplace\": true}}, {\"class\": \"BatchNorm1d\", \"kargs\": {\"num_features\": 256}}, {\"class\": \"Linear\", \"kargs\": {\"in_features\": 256, \"out_features\": 256}}], \"NUM_LOGS_PER_EPOCH\": 10, \"BEST_MODEL_PATH\": \"./best_model.pth\", \"n_way\": 58, \"datasets\": [{\"labels\": [\"1-10.\", \"1-11.\", \"1-15.\", \"1-16.\", \"1-17.\", \"1-18.\", \"1-19.\", \"10-4.\", \"10-7.\", \"11-1.\", \"11-14.\", \"11-17.\", \"11-20.\", \"11-7.\", \"13-20.\", \"13-8.\", \"14-10.\", \"14-11.\", \"14-14.\", \"14-7.\", \"15-1.\", \"15-20.\", \"16-1.\", \"16-16.\", \"17-10.\", \"17-11.\", \"17-2.\", \"19-1.\", \"19-16.\", \"19-19.\", \"19-20.\", \"19-3.\", \"2-10.\", \"2-11.\", \"2-17.\", \"2-18.\", \"2-20.\", \"2-3.\", \"2-4.\", \"2-5.\", \"2-6.\", \"2-7.\", \"2-8.\", \"3-13.\", \"3-18.\", \"3-3.\", \"4-1.\", \"4-10.\", \"4-11.\", \"4-19.\", \"5-5.\", \"6-15.\", \"7-10.\", \"7-14.\", \"8-18.\", \"8-20.\", \"8-3.\", \"8-8.\"], \"domains\": [1, 2, 3, 4, 5], \"num_examples_per_domain_per_label\": -1, \"pickle_path\": \"/root/csc500-main/datasets/cores.stratified_ds.2022A.pkl\", \"source_or_target_dataset\": \"source\", \"x_transforms\": [\"unit_power\"], \"episode_transforms\": [], \"domain_prefix\": \"CORES_\"}, {\"labels\": [\"1-10\", \"1-12\", \"1-14\", \"1-16\", \"1-18\", \"1-19\", \"1-8\", \"10-11\", \"10-17\", \"10-4\", \"10-7\", \"11-1\", \"11-10\", \"11-19\", \"11-20\", \"11-4\", \"11-7\", \"12-19\", \"12-20\", \"12-7\", \"13-14\", \"13-18\", \"13-19\", \"13-20\", \"13-3\", \"13-7\", \"14-10\", \"14-11\", \"14-12\", \"14-13\", \"14-14\", \"14-19\", \"14-20\", \"14-7\", \"14-8\", \"14-9\", \"15-1\", \"15-19\", \"15-6\", \"16-1\", \"16-16\", \"16-19\", \"16-20\", \"17-10\", \"17-11\", \"18-1\", \"18-10\", \"18-11\", \"18-12\", \"18-13\", \"18-14\", \"18-15\", \"18-16\", \"18-17\", \"18-19\", \"18-2\", \"18-20\", \"18-4\", \"18-5\", \"18-7\", \"18-8\", \"18-9\", \"19-1\", \"19-10\", \"19-11\", \"19-12\", \"19-13\", \"19-14\", \"19-15\", \"19-19\", \"19-2\", \"19-20\", \"19-3\", \"19-4\", \"19-6\", \"19-7\", \"19-8\", \"19-9\", \"2-1\", \"2-13\", \"2-15\", \"2-3\", \"2-4\", \"2-5\", \"2-6\", \"2-7\", \"2-8\", \"20-1\", \"20-12\", \"20-14\", \"20-15\", \"20-16\", \"20-18\", \"20-19\", \"20-20\", \"20-3\", \"20-4\", \"20-5\", \"20-7\", \"20-8\", \"3-1\", \"3-13\", \"3-18\", \"3-2\", \"3-8\", \"4-1\", \"4-10\", \"4-11\", \"5-1\", \"5-5\", \"6-1\", \"6-15\", \"6-6\", \"7-10\", \"7-11\", \"7-12\", \"7-13\", \"7-14\", \"7-7\", \"7-8\", \"7-9\", \"8-1\", \"8-13\", \"8-14\", \"8-18\", \"8-20\", \"8-3\", \"8-8\", \"9-1\", \"9-7\"], \"domains\": [1, 2, 3, 4], \"num_examples_per_domain_per_label\": -1, \"pickle_path\": \"/root/csc500-main/datasets/wisig.node3-19.stratified_ds.2022A.pkl\", \"source_or_target_dataset\": \"target\", \"x_transforms\": [\"unit_power\"], \"episode_transforms\": [], \"domain_prefix\": \"Wisig_\"}], \"dataset_seed\": 1337, \"seed\": 1337, \"x_shape\": [2, 256], \"domains_source\": [\"CORES_1\", \"CORES_2\", \"CORES_3\", \"CORES_4\", \"CORES_5\"], \"domains_target\": [\"Wisig_1\", \"Wisig_2\", \"Wisig_3\", \"Wisig_4\"]}, \"results\": {\"source_test_label_accuracy\": 0.998448275862069, \"source_test_label_loss\": 0.02124558575451374, \"target_test_label_accuracy\": 0.7001774847870182, \"target_test_label_loss\": 1.7923308610916138, \"source_val_label_accuracy\": 0.9983836206896551, \"source_val_label_loss\": 0.019426628947257996, \"target_val_label_accuracy\": 0.7015759698275862, \"target_val_label_loss\": 1.816441535949707, \"total_epochs_trained\": 3, \"total_experiment_time_secs\": 124.95786762237549, \"confusion\": {\"CORES_3\": {\"1\": {\"1\": 16}, \"28\": {\"28\": 16}, \"21\": {\"21\": 15, \"50\": 1}, \"27\": {\"27\": 16}, \"20\": {\"20\": 16}, \"16\": {\"16\": 16}, \"48\": {\"48\": 16}, \"42\": {\"42\": 16}, \"45\": {\"45\": 16}, \"41\": {\"41\": 16}, \"13\": {\"13\": 16}, \"50\": {\"50\": 16}, \"32\": {\"32\": 16}, \"51\": {\"51\": 16}, \"30\": {\"30\": 16}, \"38\": {\"38\": 16}, \"7\": {\"7\": 16}, \"22\": {\"22\": 16}, \"37\": {\"37\": 16}, \"33\": {\"33\": 16}, \"6\": {\"6\": 16}, \"14\": {\"14\": 16}, \"40\": {\"40\": 16}, \"55\": {\"55\": 16}, \"2\": {\"2\": 16}, \"39\": {\"39\": 16}, \"56\": {\"56\": 16}, \"17\": {\"17\": 16}, \"10\": {\"10\": 16}, \"9\": {\"9\": 16}, \"31\": {\"31\": 16}, \"12\": {\"12\": 16}, \"25\": {\"25\": 16}, \"0\": {\"0\": 16}, \"47\": {\"47\": 16}, \"44\": {\"44\": 16}, \"23\": {\"23\": 16}, \"15\": {\"15\": 16}, \"8\": {\"8\": 16}, \"54\": {\"54\": 16}, \"52\": {\"52\": 16}, \"29\": {\"29\": 16}, \"5\": {\"5\": 16}, \"34\": {\"34\": 16}, \"35\": {\"35\": 16}, \"26\": {\"26\": 16}, \"57\": {\"57\": 16}, \"53\": {\"53\": 16}, \"36\": {\"36\": 16}, \"18\": {\"18\": 16}, \"49\": {\"49\": 16}, \"3\": {\"3\": 16}, \"4\": {\"4\": 16}, \"24\": {\"24\": 16}, \"11\": {\"11\": 16}, \"19\": {\"19\": 16}, \"43\": {\"43\": 16}, \"46\": {\"46\": 16}}, \"CORES_4\": {\"9\": {\"9\": 16}, \"4\": {\"4\": 16}, \"20\": {\"20\": 16}, \"26\": {\"26\": 16}, \"19\": {\"19\": 16}, \"35\": {\"35\": 16}, \"14\": {\"14\": 16}, \"10\": {\"10\": 16}, \"1\": {\"1\": 16}, \"3\": {\"3\": 16}, \"29\": {\"29\": 16}, \"47\": {\"47\": 16}, \"50\": {\"50\": 15, \"3\": 1}, \"51\": {\"51\": 16}, \"55\": {\"55\": 16}, \"27\": {\"27\": 16}, \"31\": {\"31\": 16}, \"30\": {\"30\": 16}, \"37\": {\"37\": 16}, \"36\": {\"36\": 16}, \"48\": {\"48\": 16}, \"46\": {\"46\": 16}, \"25\": {\"25\": 16}, \"53\": {\"53\": 16}, \"0\": {\"0\": 16}, \"8\": {\"8\": 16}, \"15\": {\"15\": 16}, \"22\": {\"22\": 16}, \"45\": {\"45\": 16}, \"43\": {\"43\": 16}, \"12\": {\"12\": 16}, \"24\": {\"24\": 16}, \"11\": {\"11\": 16}, \"44\": {\"44\": 16}, \"5\": {\"5\": 16}, \"6\": {\"6\": 16}, \"49\": {\"49\": 16}, \"2\": {\"2\": 16}, \"18\": {\"18\": 16}, \"54\": {\"54\": 16}, \"41\": {\"41\": 16}, \"38\": {\"38\": 16}, \"34\": {\"34\": 16}, \"21\": {\"21\": 15, \"50\": 1}, \"57\": {\"57\": 16}, \"33\": {\"33\": 16}, \"17\": {\"17\": 16}, \"40\": {\"40\": 16}, \"28\": {\"28\": 16}, \"16\": {\"16\": 16}, \"56\": {\"56\": 16}, \"39\": {\"39\": 16}, \"13\": {\"13\": 16}, \"23\": {\"23\": 16}, \"7\": {\"7\": 16}, \"52\": {\"52\": 16}, \"42\": {\"42\": 16}, \"32\": {\"32\": 16}}, \"CORES_5\": {\"13\": {\"13\": 20}, \"35\": {\"35\": 20}, \"12\": {\"12\": 20}, \"55\": {\"55\": 20}, \"43\": {\"43\": 20}, \"3\": {\"3\": 20}, \"20\": {\"20\": 20}, \"9\": {\"9\": 20}, \"41\": {\"41\": 20}, \"45\": {\"45\": 19, \"6\": 1}, \"11\": {\"11\": 20}, \"7\": {\"7\": 20}, \"27\": {\"27\": 20}, \"56\": {\"56\": 20}, \"4\": {\"4\": 20}, \"5\": {\"5\": 20}, \"49\": {\"49\": 20}, \"24\": {\"24\": 20}, \"0\": {\"0\": 20}, \"40\": {\"40\": 20}, \"15\": {\"15\": 20}, \"42\": {\"42\": 20}, \"44\": {\"44\": 20}, \"46\": {\"46\": 20}, \"30\": {\"30\": 20}, \"1\": {\"1\": 20}, \"34\": {\"34\": 20}, \"51\": {\"51\": 20}, \"6\": {\"6\": 20}, \"50\": {\"50\": 19, \"39\": 1}, \"26\": {\"26\": 20}, \"52\": {\"52\": 20}, \"57\": {\"57\": 20}, \"36\": {\"36\": 20}, \"33\": {\"33\": 20}, \"19\": {\"19\": 20}, \"53\": {\"53\": 20}, \"28\": {\"28\": 20}, \"10\": {\"10\": 20}, \"32\": {\"32\": 19, \"27\": 1}, \"8\": {\"8\": 20}, \"48\": {\"48\": 20}, \"16\": {\"16\": 20}, \"17\": {\"17\": 20}, \"23\": {\"23\": 20}, \"29\": {\"29\": 20}, \"2\": {\"2\": 20}, \"21\": {\"21\": 20}, \"38\": {\"38\": 20}, \"14\": {\"14\": 20}, \"39\": {\"39\": 20}, \"54\": {\"54\": 20}, \"18\": {\"18\": 20}, \"22\": {\"22\": 20}, \"37\": {\"37\": 20}, \"47\": {\"47\": 20}, \"25\": {\"25\": 20}, \"31\": {\"31\": 20}}, \"CORES_1\": {\"47\": {\"47\": 24}, \"9\": {\"9\": 24}, \"35\": {\"35\": 24}, \"10\": {\"10\": 24}, \"21\": {\"21\": 24}, \"19\": {\"19\": 24}, \"14\": {\"14\": 24}, \"36\": {\"36\": 24}, \"46\": {\"46\": 24}, \"49\": {\"49\": 24}, \"5\": {\"5\": 24}, \"54\": {\"54\": 24}, \"56\": {\"56\": 24}, \"48\": {\"48\": 24}, \"15\": {\"15\": 24}, \"23\": {\"23\": 24}, \"55\": {\"55\": 24}, \"1\": {\"1\": 24}, \"22\": {\"22\": 24}, \"44\": {\"44\": 24}, \"37\": {\"37\": 24}, \"28\": {\"28\": 24}, \"11\": {\"11\": 24}, \"2\": {\"2\": 24}, \"29\": {\"29\": 24}, \"4\": {\"4\": 24}, \"3\": {\"3\": 24}, \"43\": {\"43\": 24}, \"51\": {\"51\": 24}, \"0\": {\"0\": 24}, \"7\": {\"7\": 24}, \"6\": {\"6\": 24}, \"24\": {\"24\": 24}, \"50\": {\"50\": 24}, \"26\": {\"26\": 24}, \"34\": {\"34\": 24}, \"41\": {\"41\": 24}, \"25\": {\"25\": 24}, \"39\": {\"39\": 24}, \"53\": {\"53\": 24}, \"38\": {\"38\": 24}, \"8\": {\"8\": 24}, \"27\": {\"27\": 24}, \"40\": {\"40\": 24}, \"45\": {\"45\": 24}, \"33\": {\"33\": 24}, \"32\": {\"32\": 23, \"23\": 1}, \"17\": {\"17\": 24}, \"57\": {\"57\": 24}, \"42\": {\"42\": 24}, \"13\": {\"13\": 24}, \"16\": {\"16\": 24}, \"12\": {\"12\": 24}, \"52\": {\"52\": 24}, \"30\": {\"30\": 23, \"14\": 1}, \"20\": {\"20\": 24}, \"18\": {\"18\": 24}, \"31\": {\"31\": 24}}, \"CORES_2\": {\"25\": {\"25\": 20}, \"24\": {\"24\": 20}, \"39\": {\"39\": 20}, \"49\": {\"49\": 20}, \"44\": {\"44\": 20}, \"57\": {\"57\": 20}, \"2\": {\"2\": 20}, \"16\": {\"16\": 20}, \"41\": {\"41\": 20}, \"27\": {\"27\": 20}, \"5\": {\"5\": 20}, \"13\": {\"13\": 20}, \"45\": {\"45\": 20}, \"43\": {\"43\": 20}, \"22\": {\"22\": 20}, \"21\": {\"21\": 20}, \"38\": {\"38\": 20}, \"33\": {\"33\": 20}, \"28\": {\"28\": 20}, \"34\": {\"34\": 20}, \"19\": {\"19\": 20}, \"3\": {\"3\": 19, \"46\": 1}, \"20\": {\"20\": 20}, \"47\": {\"47\": 20}, \"30\": {\"30\": 20}, \"46\": {\"46\": 20}, \"9\": {\"9\": 20}, \"11\": {\"11\": 20}, \"15\": {\"15\": 20}, \"0\": {\"0\": 20}, \"37\": {\"37\": 20}, \"40\": {\"40\": 20}, \"18\": {\"18\": 20}, \"54\": {\"54\": 20}, \"51\": {\"51\": 20}, \"48\": {\"48\": 20}, \"55\": {\"55\": 20}, \"42\": {\"42\": 20}, \"17\": {\"17\": 20}, \"26\": {\"26\": 20}, \"36\": {\"36\": 20}, \"32\": {\"32\": 20}, \"23\": {\"23\": 20}, \"7\": {\"7\": 20}, \"1\": {\"1\": 20}, \"35\": {\"35\": 20}, \"56\": {\"56\": 20}, \"8\": {\"8\": 20}, \"6\": {\"6\": 20}, \"29\": {\"29\": 20}, \"4\": {\"4\": 20}, \"50\": {\"50\": 20}, \"52\": {\"52\": 20}, \"12\": {\"12\": 20}, \"10\": {\"10\": 20}, \"31\": {\"31\": 20}, \"14\": {\"14\": 20}, \"53\": {\"53\": 20}}, \"Wisig_3\": {\"36\": {\"36\": 22, \"27\": 6, \"24\": 7, \"42\": 1}, \"123\": {\"123\": 13, \"121\": 1, \"67\": 2}, \"53\": {\"53\": 20}, \"24\": {\"94\": 1, \"24\": 19, \"25\": 1, \"27\": 8, \"36\": 8, \"112\": 1, \"88\": 1, \"108\": 3, \"42\": 2}, \"8\": {\"52\": 1, \"8\": 25, \"124\": 3, \"129\": 1, \"108\": 1, \"73\": 4, \"59\": 1, \"70\": 1, \"110\": 1}, \"49\": {\"49\": 6, \"53\": 2, \"47\": 2, \"59\": 1, \"15\": 2, \"112\": 1, \"20\": 1, \"88\": 1, \"24\": 1, \"8\": 2, \"80\": 2, \"129\": 1, \"85\": 1, \"108\": 1}, \"74\": {\"74\": 16}, \"93\": {\"80\": 1, \"96\": 1, \"93\": 27, \"60\": 1, \"29\": 1, \"11\": 1}, \"104\": {\"104\": 16}, \"122\": {\"14\": 2, \"127\": 5, \"128\": 1, \"122\": 20, \"105\": 2, \"86\": 2, \"107\": 3, \"99\": 4, \"60\": 1, \"4\": 1, \"121\": 1, \"56\": 1, \"82\": 1, \"103\": 1, \"87\": 1}, \"78\": {\"13\": 1, \"14\": 2, \"32\": 2, \"78\": 4, \"39\": 1, \"40\": 2, \"21\": 1, \"126\": 1, \"23\": 1, \"11\": 1}, \"21\": {\"94\": 1, \"21\": 29, \"126\": 4, \"75\": 1, \"39\": 1, \"99\": 1, \"34\": 1, \"15\": 1, \"51\": 1, \"92\": 1, \"24\": 1}, \"22\": {\"22\": 16}, \"27\": {\"36\": 12, \"27\": 15, \"24\": 6, \"96\": 1, \"83\": 2, \"54\": 1, \"42\": 1}, \"124\": {\"52\": 2, \"124\": 32, \"12\": 1, \"98\": 2, \"5\": 2, \"85\": 1}, \"35\": {\"35\": 10, \"21\": 1, \"126\": 1}, \"37\": {\"37\": 12, \"7\": 4}, \"45\": {\"48\": 2, \"45\": 13, \"24\": 1}, \"55\": {\"9\": 1, \"55\": 15}, \"110\": {\"110\": 19, \"19\": 6, \"129\": 3, \"71\": 1, \"21\": 1, \"43\": 1, \"114\": 2, \"90\": 1, \"1\": 1, \"70\": 6, \"124\": 1, \"60\": 2}, \"2\": {\"2\": 9, \"26\": 7, \"16\": 1, \"64\": 1, \"119\": 2, \"93\": 3, \"23\": 3, \"96\": 1, \"81\": 1}, \"23\": {\"123\": 3, \"124\": 4, \"67\": 2, \"63\": 1, \"98\": 3, \"3\": 2, \"8\": 1, \"126\": 7, \"128\": 1, \"5\": 2, \"110\": 1, \"111\": 1, \"47\": 1, \"81\": 1, \"19\": 1, \"39\": 1}, \"29\": {\"29\": 25, \"44\": 2, \"33\": 1, \"60\": 1, \"31\": 2, \"16\": 1}, \"90\": {\"90\": 41, \"16\": 2, \"110\": 1}, \"127\": {\"127\": 36, \"39\": 1, \"72\": 1, \"91\": 1, \"21\": 1}, \"13\": {\"14\": 1, \"13\": 7, \"26\": 2, \"21\": 1, \"121\": 1, \"16\": 1, \"2\": 1, \"120\": 1, \"84\": 1}, \"48\": {\"35\": 4, \"119\": 3, \"17\": 1, \"113\": 1, \"43\": 1, \"48\": 2, \"7\": 4}, \"105\": {\"105\": 40, \"86\": 3, \"4\": 2, \"99\": 1}, \"50\": {\"50\": 16}, \"52\": {\"52\": 16}, \"9\": {\"9\": 32}, \"94\": {\"94\": 33, \"30\": 2, \"125\": 4, \"98\": 1, \"15\": 5, \"73\": 1}, \"14\": {\"14\": 36, \"122\": 1, \"69\": 1}, \"98\": {\"98\": 44, \"125\": 1, \"47\": 1, \"18\": 1, \"12\": 1}, \"64\": {\"64\": 20}, \"97\": {\"94\": 8, \"97\": 7, \"15\": 3, \"96\": 1, \"59\": 1}, \"117\": {\"117\": 39, \"113\": 1}, \"85\": {\"108\": 3, \"85\": 24, \"49\": 1, \"42\": 1, \"8\": 1}, \"44\": {\"16\": 1, \"44\": 31, \"64\": 1, \"93\": 1}, \"80\": {\"80\": 16}, \"16\": {\"16\": 33, \"90\": 4, \"11\": 1}, \"103\": {\"103\": 14, \"33\": 1, \"71\": 1}, \"40\": {\"40\": 32, \"32\": 2, \"115\": 1, \"105\": 1}, \"30\": {\"78\": 1, \"98\": 6, \"110\": 1, \"30\": 23, \"12\": 3, \"47\": 1, \"97\": 1, \"94\": 2, \"90\": 1, \"15\": 1}, \"6\": {\"6\": 14, \"111\": 2, \"72\": 3, \"51\": 2, \"75\": 2, \"15\": 1, \"34\": 3, \"58\": 2, \"125\": 2, \"91\": 1}, \"108\": {\"70\": 4, \"108\": 18, \"49\": 1, \"85\": 4, \"53\": 1, \"112\": 2, \"42\": 2, \"88\": 4}, \"33\": {\"33\": 37, \"102\": 2, \"116\": 1}, \"96\": {\"96\": 20}, \"79\": {\"79\": 12}, \"109\": {\"109\": 27, \"118\": 2, \"62\": 3, \"69\": 5, \"4\": 1, \"30\": 1, \"89\": 1}, \"81\": {\"81\": 31, \"117\": 1}, \"88\": {\"49\": 3, \"42\": 2, \"88\": 20, \"108\": 7, \"31\": 1, \"39\": 1, \"96\": 2, \"70\": 1, \"21\": 2, \"85\": 1}, \"41\": {\"127\": 3, \"56\": 5, \"4\": 2, \"86\": 4, \"41\": 2}, \"70\": {\"70\": 13, \"93\": 4, \"8\": 4, \"85\": 4, \"52\": 1, \"110\": 3, \"109\": 1, \"126\": 2, \"108\": 2, \"19\": 1, \"92\": 1, \"129\": 1, \"88\": 1}, \"76\": {\"76\": 16}, \"5\": {\"5\": 44, \"90\": 1, \"71\": 2, \"46\": 1}, \"0\": {\"0\": 32, \"101\": 8, \"34\": 2, \"10\": 1, \"127\": 1}, \"4\": {\"105\": 9, \"86\": 5, \"4\": 19, \"127\": 3}, \"86\": {\"105\": 6, \"86\": 20, \"35\": 1, \"32\": 1}, \"69\": {\"69\": 33, \"115\": 1, \"109\": 1, \"76\": 1, \"118\": 2}, \"26\": {\"26\": 44, \"39\": 1, \"117\": 1}, \"120\": {\"120\": 20}, \"84\": {\"84\": 37, \"87\": 1, \"14\": 1, \"45\": 1, \"107\": 1, \"82\": 1}, \"12\": {\"12\": 26, \"30\": 2, \"106\": 2, \"98\": 3, \"47\": 1, \"19\": 1, \"124\": 1}, \"32\": {\"105\": 5, \"55\": 2, \"82\": 6, \"84\": 3, \"32\": 3, \"14\": 1, \"37\": 2, \"107\": 1, \"9\": 3, \"45\": 2, \"115\": 2, \"22\": 1, \"7\": 1}, \"89\": {\"89\": 27, \"69\": 1}, \"129\": {\"19\": 6, \"129\": 16, \"29\": 4, \"5\": 1, \"110\": 1, \"31\": 1, \"60\": 1, \"44\": 2}, \"125\": {\"125\": 34, \"12\": 1, \"94\": 1, \"98\": 2, \"15\": 2}, \"116\": {\"17\": 2, \"45\": 2, \"102\": 2, \"82\": 1, \"116\": 12, \"92\": 4, \"16\": 1, \"90\": 3, \"33\": 1}, \"19\": {\"129\": 9, \"128\": 1, \"110\": 3, \"19\": 7, \"91\": 1, \"124\": 1, \"3\": 4, \"77\": 1, \"98\": 1, \"103\": 3, \"99\": 1}, \"71\": {\"71\": 37, \"46\": 4, \"21\": 2, \"3\": 1, \"5\": 1, \"39\": 1}, \"72\": {\"72\": 25, \"34\": 1, \"6\": 2}, \"100\": {\"100\": 14, \"122\": 1, \"90\": 1}, \"20\": {\"20\": 13, \"75\": 1, \"60\": 1, \"15\": 1}, \"65\": {\"56\": 1, \"65\": 5, \"18\": 1, \"63\": 1, \"37\": 1, \"9\": 1, \"10\": 2}, \"121\": {\"39\": 6, \"18\": 5, \"121\": 7, \"2\": 1, \"21\": 2, \"113\": 2, \"17\": 1, \"26\": 3, \"23\": 1, \"117\": 1, \"96\": 1}, \"34\": {\"34\": 9, \"122\": 2, \"107\": 5, \"75\": 3, \"32\": 1, \"111\": 2, \"14\": 1, \"125\": 2, \"6\": 2, \"45\": 1, \"99\": 1, \"48\": 1, \"0\": 1, \"72\": 1}, \"119\": {\"119\": 16}, \"75\": {\"6\": 2, \"75\": 14}, \"1\": {\"1\": 34, \"46\": 1, \"114\": 3}, \"113\": {\"113\": 23, \"2\": 1, \"39\": 6, \"117\": 2, \"121\": 2}, \"39\": {\"39\": 25, \"18\": 3, \"13\": 1, \"90\": 1, \"113\": 7, \"126\": 4, \"117\": 4, \"43\": 1}, \"82\": {\"82\": 24, \"116\": 1, \"118\": 2, \"84\": 1}, \"67\": {\"67\": 16}, \"63\": {\"63\": 12, \"39\": 1, \"117\": 2, \"67\": 1}, \"31\": {\"31\": 20}, \"38\": {\"38\": 12, \"89\": 1, \"55\": 1, \"104\": 2}, \"17\": {\"39\": 1, \"55\": 1, \"11\": 3, \"57\": 1, \"17\": 3, \"64\": 1, \"9\": 1, \"21\": 2, \"2\": 1, \"105\": 1, \"43\": 1}, \"106\": {\"106\": 30, \"12\": 4, \"59\": 1, \"21\": 1}, \"91\": {\"110\": 1, \"56\": 1, \"91\": 10, \"41\": 1, \"72\": 3, \"127\": 3, \"98\": 1, \"77\": 1, \"97\": 1, \"128\": 2}, \"56\": {\"56\": 11, \"127\": 1}, \"46\": {\"46\": 16}, \"128\": {\"75\": 1, \"46\": 1, \"3\": 4, \"71\": 1, \"77\": 3, \"128\": 9, \"122\": 2, \"87\": 2, \"98\": 1, \"15\": 1, \"91\": 1, \"99\": 1, \"107\": 1}, \"66\": {\"66\": 15, \"105\": 1}, \"10\": {\"10\": 21, \"22\": 2, \"7\": 4, \"86\": 1, \"9\": 1, \"65\": 1, \"95\": 5, \"4\": 2, \"14\": 1, \"0\": 1, \"32\": 1}, \"62\": {\"62\": 28, \"24\": 1, \"109\": 1}, \"112\": {\"112\": 15, \"0\": 1}, \"47\": {\"47\": 12}, \"107\": {\"107\": 38, \"122\": 1, \"87\": 1, \"84\": 1, \"14\": 1}, \"28\": {\"28\": 16}, \"95\": {\"95\": 32}, \"18\": {\"18\": 32, \"117\": 2}, \"114\": {\"114\": 28, \"1\": 8, \"11\": 1, \"110\": 1}, \"102\": {\"102\": 36}, \"68\": {\"68\": 13, \"21\": 1, \"58\": 2}, \"126\": {\"126\": 33, \"6\": 1, \"63\": 2, \"21\": 3, \"13\": 1, \"18\": 2}, \"111\": {\"111\": 43, \"6\": 1}, \"3\": {\"3\": 31, \"5\": 1, \"129\": 1, \"71\": 1}, \"73\": {\"73\": 28, \"109\": 1, \"24\": 1, \"76\": 1, \"59\": 2, \"36\": 1}, \"60\": {\"124\": 3, \"99\": 1, \"28\": 3, \"110\": 2, \"60\": 11, \"70\": 1, \"29\": 4, \"71\": 2, \"31\": 1}, \"101\": {\"58\": 2, \"101\": 22, \"90\": 2, \"0\": 5, \"51\": 2, \"78\": 1}, \"7\": {\"26\": 2, \"7\": 24}, \"83\": {\"83\": 24}, \"42\": {\"42\": 15, \"112\": 3, \"85\": 1, \"108\": 1, \"73\": 5, \"52\": 1, \"8\": 1, \"88\": 1}, \"15\": {\"15\": 28, \"97\": 1, \"98\": 2, \"94\": 4, \"73\": 1, \"6\": 2}, \"11\": {\"11\": 22, \"43\": 6, \"23\": 2, \"102\": 1, \"17\": 1, \"33\": 1, \"79\": 1, \"92\": 2}, \"58\": {\"58\": 14, \"75\": 1, \"111\": 1}, \"57\": {\"57\": 20}, \"118\": {\"69\": 2, \"118\": 32, \"122\": 1, \"43\": 1}, \"99\": {\"105\": 3, \"4\": 2, \"99\": 27, \"122\": 1, \"66\": 1}, \"25\": {\"25\": 14, \"94\": 1, \"15\": 1}, \"61\": {\"61\": 16}, \"87\": {\"100\": 1, \"87\": 22, \"128\": 2, \"1\": 1, \"116\": 1, \"107\": 1, \"11\": 1, \"126\": 1, \"84\": 3, \"90\": 4, \"103\": 1}, \"115\": {\"115\": 12, \"32\": 1, \"107\": 3}, \"92\": {\"92\": 21, \"16\": 9, \"8\": 1, \"90\": 1}, \"51\": {\"51\": 13, \"111\": 3}, \"59\": {\"59\": 10, \"73\": 2}, \"77\": {\"77\": 11, \"91\": 3, \"30\": 2}, \"54\": {\"54\": 14, \"36\": 1, \"27\": 1}, \"43\": {\"102\": 10, \"43\": 13, \"33\": 7, \"11\": 1, \"113\": 4, \"63\": 1, \"121\": 1, \"23\": 1}}, \"Wisig_2\": {\"37\": {\"37\": 15, \"14\": 1}, \"101\": {\"101\": 32, \"0\": 8, \"30\": 2}, \"83\": {\"83\": 31, \"126\": 2, \"119\": 1, \"93\": 1, \"100\": 1}, \"95\": {\"95\": 33, \"4\": 2, \"21\": 1}, \"122\": {\"21\": 2, \"122\": 9, \"127\": 3, \"3\": 1, \"123\": 1, \"59\": 1, \"41\": 1, \"54\": 1, \"23\": 2, \"8\": 6, \"124\": 1, \"71\": 1, \"29\": 1, \"32\": 1, \"110\": 2, \"34\": 1, \"43\": 1, \"4\": 1}, \"18\": {\"18\": 45, \"44\": 1, \"81\": 1, \"39\": 1}, \"9\": {\"9\": 29, \"75\": 2, \"70\": 1}, \"57\": {\"57\": 16, \"72\": 2, \"121\": 1, \"81\": 1}, \"93\": {\"93\": 40, \"16\": 2, \"125\": 1, \"96\": 1, \"88\": 2}, \"64\": {\"64\": 11, \"92\": 2, \"89\": 2, \"99\": 1}, \"70\": {\"109\": 2, \"70\": 7, \"38\": 1, \"88\": 3, \"43\": 6, \"61\": 1, \"11\": 1, \"16\": 1, \"14\": 4, \"122\": 2, \"87\": 3, \"71\": 1, \"31\": 1, \"110\": 2, \"115\": 1, \"78\": 1, \"21\": 1, \"33\": 1, \"94\": 1}, \"36\": {\"36\": 20, \"24\": 6, \"94\": 3, \"25\": 4, \"27\": 3, \"21\": 1, \"108\": 1, \"62\": 1, \"109\": 1}, \"109\": {\"45\": 3, \"109\": 16, \"116\": 1, \"121\": 1, \"11\": 1, \"118\": 3, \"21\": 2, \"31\": 2, \"78\": 1, \"102\": 2, \"88\": 1, \"14\": 3, \"70\": 1, \"87\": 3, \"39\": 1, \"84\": 1, \"82\": 1, \"107\": 1}, \"92\": {\"92\": 16, \"31\": 2, \"76\": 3, \"89\": 4, \"122\": 1, \"64\": 1, \"113\": 1}, \"28\": {\"28\": 20}, \"39\": {\"109\": 6, \"39\": 19, \"72\": 1, \"87\": 4, \"102\": 3, \"13\": 1, \"120\": 1, \"21\": 1, \"121\": 1, \"60\": 1, \"116\": 2}, \"47\": {\"47\": 9, \"6\": 1, \"13\": 2}, \"127\": {\"127\": 42, \"111\": 3, \"29\": 1, \"39\": 1, \"30\": 1}, \"6\": {\"6\": 23, \"75\": 2, \"58\": 3, \"97\": 3, \"15\": 1}, \"13\": {\"13\": 7, \"21\": 2, \"24\": 1, \"18\": 2, \"72\": 2, \"116\": 1, \"48\": 1}, \"14\": {\"14\": 18, \"38\": 5, \"80\": 1, \"70\": 1, \"43\": 5, \"107\": 2, \"32\": 3, \"78\": 1, \"110\": 1, \"21\": 2, \"83\": 1}, \"110\": {\"3\": 1, \"14\": 1, \"110\": 20, \"107\": 1, \"30\": 1, \"23\": 2, \"38\": 1, \"43\": 1, \"122\": 2, \"34\": 1, \"117\": 1, \"83\": 1, \"70\": 1}, \"62\": {\"55\": 3, \"62\": 38, \"20\": 1, \"76\": 2, \"66\": 2}, \"59\": {\"59\": 12, \"91\": 2, \"29\": 2}, \"10\": {\"74\": 2, \"10\": 14, \"14\": 1, \"7\": 5, \"32\": 3, \"88\": 1, \"78\": 3, \"35\": 1, \"21\": 1, \"40\": 1, \"15\": 1, \"105\": 1}, \"41\": {\"122\": 1, \"41\": 16, \"8\": 2, \"59\": 1}, \"25\": {\"25\": 11, \"15\": 2, \"118\": 1, \"36\": 2}, \"45\": {\"45\": 11, \"110\": 2, \"70\": 1, \"82\": 2}, \"1\": {\"1\": 39, \"73\": 1, \"21\": 1, \"49\": 1}, \"61\": {\"40\": 2, \"61\": 10, \"55\": 1, \"66\": 3, \"62\": 1, \"76\": 1, \"37\": 1, \"95\": 1}, \"3\": {\"5\": 4, \"3\": 35, \"11\": 1, \"71\": 1, \"129\": 1}, \"35\": {\"35\": 8, \"79\": 2, \"7\": 1, \"32\": 1}, \"126\": {\"126\": 32, \"83\": 1, \"46\": 2, \"44\": 3, \"88\": 3, \"39\": 1}, \"90\": {\"90\": 33, \"16\": 5, \"116\": 2}, \"58\": {\"6\": 2, \"58\": 14, \"20\": 1, \"51\": 1, \"111\": 1, \"75\": 1}, \"74\": {\"74\": 12, \"104\": 2, \"10\": 2}, \"27\": {\"27\": 15, \"94\": 3, \"107\": 1, \"78\": 1, \"36\": 13, \"24\": 11, \"87\": 1, \"70\": 1}, \"60\": {\"87\": 2, \"96\": 3, \"3\": 2, \"23\": 3, \"60\": 5, \"100\": 1, \"8\": 3, \"123\": 2, \"70\": 1, \"83\": 1, \"88\": 2, \"19\": 1, \"126\": 1, \"93\": 1}, \"123\": {\"123\": 16}, \"50\": {\"50\": 15, \"109\": 1}, \"84\": {\"84\": 39, \"45\": 2, \"61\": 1}, \"128\": {\"101\": 3, \"114\": 5, \"73\": 4, \"97\": 2, \"71\": 1, \"1\": 3, \"52\": 1, \"128\": 3, \"29\": 1, \"0\": 1}, \"72\": {\"13\": 2, \"72\": 23, \"69\": 1, \"18\": 1, \"83\": 1}, \"96\": {\"96\": 18, \"87\": 2}, \"119\": {\"119\": 17, \"44\": 2, \"94\": 1}, \"56\": {\"56\": 12}, \"98\": {\"98\": 38, \"93\": 1, \"125\": 2, \"8\": 2, \"19\": 1, \"51\": 1, \"88\": 1}, \"87\": {\"87\": 8, \"96\": 4, \"60\": 2, \"33\": 9, \"116\": 1, \"88\": 6, \"21\": 4, \"1\": 3, \"84\": 2, \"14\": 1, \"23\": 1, \"102\": 1}, \"40\": {\"40\": 34, \"107\": 3, \"105\": 1, \"95\": 7, \"4\": 1}, \"114\": {\"114\": 37, \"5\": 1, \"85\": 1, \"124\": 1}, \"55\": {\"55\": 16}, \"8\": {\"1\": 1, \"8\": 32, \"124\": 9, \"129\": 1, \"128\": 3, \"19\": 4, \"98\": 2, \"34\": 1, \"122\": 1, \"23\": 1, \"85\": 1, \"41\": 1, \"123\": 1, \"60\": 2}, \"79\": {\"79\": 15, \"125\": 1}, \"112\": {\"5\": 2, \"112\": 4, \"71\": 1, \"3\": 2, \"108\": 2, \"126\": 2, \"129\": 3}, \"21\": {\"21\": 41, \"118\": 1, \"39\": 1, \"87\": 1, \"24\": 1, \"122\": 1}, \"42\": {\"42\": 13, \"44\": 1, \"112\": 2, \"99\": 1, \"59\": 1, \"126\": 2, \"129\": 1, \"49\": 2, \"46\": 1, \"85\": 2, \"114\": 2}, \"5\": {\"5\": 34, \"3\": 1, \"19\": 3, \"21\": 2}, \"22\": {\"22\": 20}, \"73\": {\"73\": 26, \"1\": 2}, \"69\": {\"69\": 23, \"87\": 2, \"102\": 1, \"14\": 1, \"21\": 1, \"89\": 1, \"18\": 1}, \"108\": {\"108\": 22, \"49\": 1, \"42\": 3, \"24\": 2, \"44\": 1, \"112\": 1, \"27\": 1, \"126\": 1}, \"118\": {\"118\": 26, \"67\": 3, \"78\": 2, \"31\": 5, \"82\": 1, \"109\": 1, \"62\": 1, \"84\": 2, \"70\": 1}, \"4\": {\"4\": 33, \"107\": 2, \"11\": 1, \"86\": 1, \"21\": 1}, \"49\": {\"42\": 3, \"113\": 2, \"49\": 6, \"129\": 1, \"112\": 1, \"6\": 1, \"11\": 2, \"51\": 2, \"52\": 1, \"27\": 1, \"41\": 1, \"122\": 1, \"108\": 1, \"15\": 1}, \"99\": {\"99\": 32}, \"66\": {\"66\": 15, \"88\": 1, \"40\": 1, \"62\": 1, \"27\": 1, \"61\": 1}, \"116\": {\"90\": 3, \"116\": 22, \"33\": 2, \"82\": 1}, \"67\": {\"82\": 1, \"67\": 11, \"6\": 1, \"76\": 1, \"80\": 1, \"20\": 1}, \"15\": {\"9\": 5, \"75\": 1, \"15\": 16, \"6\": 3, \"125\": 3, \"21\": 1, \"94\": 3, \"101\": 1, \"97\": 1}, \"63\": {\"63\": 17, \"117\": 2, \"77\": 1}, \"26\": {\"26\": 30, \"118\": 1, \"57\": 2, \"18\": 2, \"2\": 3}, \"24\": {\"25\": 2, \"24\": 14, \"108\": 3, \"49\": 1, \"21\": 3, \"88\": 1, \"36\": 6, \"126\": 2, \"27\": 3, \"94\": 3, \"44\": 1, \"15\": 1}, \"103\": {\"103\": 13, \"127\": 2, \"70\": 1}, \"38\": {\"38\": 16}, \"71\": {\"71\": 37, \"3\": 3, \"21\": 1, \"5\": 2, \"114\": 1, \"83\": 1, \"24\": 1}, \"75\": {\"75\": 12, \"101\": 2, \"97\": 2}, \"44\": {\"44\": 37, \"65\": 1}, \"104\": {\"104\": 16, \"20\": 1, \"79\": 1, \"95\": 2}, \"23\": {\"110\": 1, \"23\": 4, \"99\": 9, \"2\": 1, \"29\": 10, \"27\": 1, \"113\": 8, \"8\": 1, \"30\": 2, \"127\": 1, \"122\": 1, \"57\": 1, \"121\": 1, \"65\": 1}, \"105\": {\"105\": 27, \"55\": 1}, \"30\": {\"30\": 26, \"68\": 2, \"103\": 1, \"111\": 2, \"77\": 2, \"29\": 1, \"0\": 1, \"21\": 1, \"113\": 1, \"127\": 2, \"79\": 1, \"75\": 1, \"34\": 1}, \"120\": {\"120\": 20}, \"113\": {\"113\": 34, \"23\": 1, \"65\": 1, \"21\": 2, \"117\": 2}, \"53\": {\"53\": 16}, \"91\": {\"127\": 2, \"91\": 10, \"41\": 2, \"4\": 1, \"54\": 3, \"12\": 2, \"29\": 3, \"21\": 1, \"77\": 1, \"24\": 1, \"86\": 2}, \"89\": {\"89\": 31, \"86\": 1, \"21\": 1, \"118\": 2, \"82\": 1}, \"117\": {\"117\": 39, \"92\": 1, \"26\": 1, \"113\": 1}, \"82\": {\"116\": 5, \"82\": 28, \"45\": 2, \"109\": 1}, \"20\": {\"20\": 15, \"94\": 1}, \"34\": {\"56\": 1, \"34\": 10, \"98\": 1, \"107\": 3, \"41\": 1, \"127\": 1, \"117\": 1, \"29\": 4, \"77\": 1, \"30\": 1, \"125\": 1, \"6\": 1, \"91\": 3, \"8\": 1, \"111\": 1, \"4\": 1}, \"7\": {\"7\": 33, \"21\": 1, \"32\": 2}, \"80\": {\"80\": 15, \"14\": 1}, \"125\": {\"125\": 46}, \"16\": {\"16\": 30, \"88\": 2, \"90\": 5, \"93\": 1, \"23\": 1, \"87\": 1}, \"88\": {\"100\": 2, \"13\": 2, \"88\": 19, \"11\": 1, \"87\": 6, \"83\": 2, \"93\": 3, \"39\": 2, \"60\": 2, \"126\": 1, \"70\": 1, \"16\": 1}, \"85\": {\"85\": 26, \"6\": 1, \"73\": 2, \"114\": 3}, \"17\": {\"17\": 6, \"20\": 1, \"86\": 2, \"54\": 2, \"95\": 2, \"4\": 1, \"42\": 1, \"44\": 1}, \"107\": {\"107\": 31, \"18\": 1, \"4\": 6, \"21\": 2, \"32\": 1, \"87\": 1, \"109\": 1, \"86\": 2, \"40\": 2, \"110\": 1}, \"11\": {\"42\": 3, \"129\": 2, \"11\": 28, \"49\": 4, \"53\": 1, \"111\": 1, \"44\": 1, \"21\": 1, \"94\": 1, \"108\": 1, \"73\": 1}, \"100\": {\"100\": 16}, \"78\": {\"107\": 3, \"109\": 5, \"39\": 2, \"82\": 1, \"40\": 4, \"118\": 1, \"88\": 1, \"78\": 10, \"41\": 2, \"16\": 1, \"34\": 2, \"70\": 2, \"32\": 4, \"14\": 1, \"90\": 2, \"21\": 1, \"95\": 1, \"66\": 1, \"45\": 1, \"87\": 2, \"43\": 1}, \"115\": {\"115\": 9, \"110\": 2, \"27\": 1}, \"121\": {\"113\": 4, \"121\": 12, \"117\": 5, \"2\": 3, \"88\": 1, \"26\": 1, \"65\": 3, \"18\": 2, \"120\": 1}, \"0\": {\"30\": 2, \"0\": 22, \"101\": 13, \"77\": 1, \"29\": 1, \"91\": 1}, \"124\": {\"124\": 33, \"8\": 9, \"98\": 1, \"85\": 1, \"114\": 2}, \"81\": {\"81\": 18, \"18\": 4, \"21\": 2}, \"68\": {\"68\": 12, \"11\": 1, \"21\": 2, \"121\": 1}, \"86\": {\"86\": 29, \"4\": 1, \"56\": 1, \"107\": 1}, \"12\": {\"20\": 2, \"12\": 26, \"30\": 1, \"106\": 3, \"41\": 3, \"91\": 1, \"59\": 2, \"127\": 2, \"14\": 1, \"29\": 2, \"8\": 2, \"122\": 1, \"113\": 1, \"124\": 1, \"71\": 1, \"21\": 1}, \"31\": {\"20\": 1, \"31\": 17, \"89\": 1, \"80\": 1}, \"129\": {\"129\": 20, \"73\": 4, \"6\": 1, \"19\": 2, \"3\": 1, \"53\": 1, \"51\": 1, \"85\": 1, \"11\": 1}, \"111\": {\"111\": 36, \"77\": 1, \"128\": 1, \"127\": 4}, \"106\": {\"106\": 30, \"51\": 1, \"125\": 3, \"12\": 4, \"98\": 1, \"122\": 1}, \"32\": {\"74\": 1, \"35\": 1, \"38\": 4, \"32\": 5, \"43\": 2, \"107\": 2, \"14\": 3, \"10\": 2, \"7\": 3, \"84\": 1, \"12\": 1, \"105\": 1, \"95\": 2, \"110\": 1, \"123\": 1, \"78\": 1, \"115\": 1, \"70\": 2}, \"94\": {\"94\": 23, \"36\": 1, \"21\": 4, \"125\": 5, \"24\": 9, \"15\": 2, \"75\": 1, \"49\": 1}, \"2\": {\"2\": 11, \"96\": 2, \"26\": 4, \"23\": 5, \"93\": 1, \"88\": 2, \"18\": 2, \"117\": 4, \"100\": 1}, \"48\": {\"48\": 20}, \"33\": {\"33\": 39, \"87\": 1}, \"76\": {\"76\": 15, \"89\": 1}, \"102\": {\"102\": 32, \"69\": 1, \"33\": 1}, \"54\": {\"54\": 20}, \"52\": {\"77\": 2, \"52\": 10, \"30\": 2, \"6\": 1, \"29\": 3, \"111\": 1, \"49\": 1}, \"29\": {\"29\": 31, \"91\": 1}, \"46\": {\"46\": 16}, \"43\": {\"43\": 14, \"78\": 1, \"87\": 2, \"110\": 1, \"70\": 5, \"99\": 1, \"21\": 2, \"16\": 1, \"14\": 3, \"23\": 2, \"40\": 1, \"33\": 1, \"90\": 2}, \"77\": {\"77\": 11, \"111\": 1, \"29\": 3, \"21\": 1}, \"51\": {\"51\": 9, \"111\": 2, \"21\": 1, \"30\": 1, \"75\": 1, \"125\": 3, \"97\": 1, \"58\": 1, \"6\": 1}, \"19\": {\"53\": 2, \"19\": 8, \"49\": 1, \"3\": 2, \"129\": 7, \"51\": 1, \"124\": 1, \"8\": 1, \"23\": 2, \"47\": 2, \"73\": 1}, \"97\": {\"6\": 4, \"97\": 11, \"101\": 1, \"15\": 1, \"75\": 2, \"58\": 1}, \"65\": {\"65\": 14, \"117\": 1, \"113\": 3, \"121\": 1, \"21\": 1}}, \"Wisig_1\": {\"110\": {\"110\": 32, \"93\": 1, \"107\": 3, \"127\": 1, \"113\": 1, \"4\": 1, \"75\": 1}, \"27\": {\"27\": 21, \"97\": 2, \"88\": 3, \"86\": 1, \"9\": 1, \"15\": 6}, \"106\": {\"106\": 36, \"83\": 1, \"98\": 1}, \"13\": {\"13\": 16}, \"120\": {\"120\": 20}, \"25\": {\"25\": 16}, \"47\": {\"47\": 12}, \"8\": {\"8\": 35, \"20\": 1, \"116\": 1, \"54\": 1, \"84\": 2, \"2\": 1, \"42\": 1, \"87\": 2, \"114\": 1, \"34\": 1}, \"124\": {\"124\": 31, \"31\": 2, \"42\": 3, \"128\": 1, \"89\": 1}, \"55\": {\"55\": 12}, \"63\": {\"63\": 16}, \"58\": {\"58\": 7, \"125\": 2, \"56\": 1, \"75\": 1, \"53\": 1}, \"105\": {\"105\": 26, \"87\": 1, \"40\": 7, \"36\": 1, \"88\": 1}, \"59\": {\"71\": 1, \"121\": 1, \"59\": 8, \"51\": 1, \"125\": 1}, \"12\": {\"12\": 28, \"52\": 1, \"6\": 1, \"71\": 1, \"98\": 1, \"30\": 1, \"49\": 1, \"111\": 1, \"91\": 1}, \"98\": {\"98\": 42, \"51\": 1, \"6\": 1}, \"96\": {\"104\": 1, \"126\": 6, \"96\": 8, \"116\": 1, \"70\": 1, \"113\": 1, \"108\": 1, \"8\": 1}, \"30\": {\"30\": 14, \"111\": 1, \"51\": 1, \"71\": 3, \"52\": 3, \"59\": 1, \"6\": 4, \"94\": 6, \"98\": 2, \"70\": 1, \"112\": 2, \"72\": 1, \"101\": 3}, \"53\": {\"53\": 19, \"49\": 1}, \"82\": {\"82\": 36}, \"33\": {\"33\": 30}, \"0\": {\"0\": 27, \"85\": 8, \"92\": 1}, \"122\": {\"65\": 3, \"96\": 1, \"40\": 3, \"121\": 1, \"122\": 14, \"78\": 1, \"43\": 5, \"105\": 4, \"57\": 1, \"81\": 1}, \"28\": {\"28\": 18, \"125\": 2}, \"17\": {\"30\": 1, \"17\": 11, \"125\": 1, \"87\": 1, \"107\": 1, \"39\": 1}, \"121\": {\"121\": 21, \"117\": 4, \"95\": 1, \"39\": 4, \"113\": 1, \"13\": 1}, \"104\": {\"104\": 15, \"32\": 1}, \"71\": {\"12\": 1, \"71\": 28, \"111\": 2, \"52\": 1, \"94\": 1, \"30\": 1, \"125\": 1, \"6\": 1}, \"20\": {\"20\": 11, \"82\": 4, \"66\": 1}, \"41\": {\"41\": 15, \"93\": 1}, \"7\": {\"7\": 34}, \"83\": {\"83\": 22, \"34\": 3, \"84\": 1, \"72\": 1, \"121\": 1}, \"9\": {\"9\": 30, \"96\": 1, \"103\": 1}, \"118\": {\"118\": 39, \"71\": 2, \"16\": 1, \"26\": 2}, \"111\": {\"71\": 3, \"111\": 24, \"15\": 1, \"21\": 1, \"12\": 1}, \"23\": {\"41\": 1, \"58\": 1, \"109\": 3, \"1\": 3, \"35\": 2, \"129\": 1, \"32\": 2, \"127\": 1, \"79\": 1, \"123\": 1, \"52\": 1, \"23\": 1, \"34\": 1, \"4\": 1}, \"65\": {\"122\": 2, \"65\": 2, \"74\": 2, \"57\": 5, \"117\": 1}, \"95\": {\"95\": 28}, \"38\": {\"38\": 15, \"80\": 1}, \"50\": {\"50\": 13, \"96\": 1, \"67\": 1, \"62\": 1}, \"3\": {\"3\": 26, \"71\": 1, \"2\": 1, \"6\": 1, \"36\": 1}, \"31\": {\"31\": 14, \"47\": 1, \"9\": 1}, \"48\": {\"28\": 4, \"48\": 8}, \"81\": {\"81\": 28}, \"99\": {\"99\": 23, \"18\": 1}, \"85\": {\"0\": 3, \"85\": 28, \"92\": 1}, \"11\": {\"82\": 1, \"11\": 21, \"61\": 2, \"114\": 1, \"116\": 4, \"18\": 1}, \"126\": {\"126\": 43, \"109\": 1, \"97\": 1, \"96\": 3}, \"80\": {\"80\": 12, \"61\": 2, \"43\": 1, \"113\": 1}, \"46\": {\"46\": 5, \"115\": 1, \"49\": 1, \"114\": 3, \"31\": 1, \"53\": 1}, \"45\": {\"82\": 4, \"83\": 1, \"116\": 1, \"18\": 1, \"45\": 1, \"50\": 1, \"104\": 2, \"11\": 1}, \"18\": {\"18\": 41, \"123\": 1, \"11\": 1, \"2\": 1}, \"84\": {\"84\": 30, \"14\": 2, \"8\": 1, \"87\": 1}, \"24\": {\"97\": 4, \"36\": 4, \"108\": 6, \"24\": 21, \"45\": 1, \"88\": 5, \"109\": 1, \"27\": 1, \"121\": 1}, \"21\": {\"96\": 1, \"84\": 1, \"3\": 1, \"21\": 7, \"43\": 1, \"83\": 1, \"8\": 1, \"90\": 1, \"35\": 1, \"39\": 1, \"91\": 1, \"6\": 1, \"98\": 1, \"42\": 2, \"14\": 1}, \"117\": {\"117\": 42, \"16\": 2}, \"6\": {\"71\": 4, \"6\": 10, \"68\": 2, \"94\": 4, \"91\": 2, \"98\": 2, \"52\": 1, \"106\": 1, \"111\": 2, \"34\": 1, \"125\": 1}, \"97\": {\"27\": 2, \"97\": 13, \"24\": 1, \"126\": 3, \"108\": 1}, \"86\": {\"121\": 1, \"86\": 24, \"15\": 1, \"106\": 2, \"22\": 3, \"124\": 2, \"52\": 1, \"39\": 1, \"12\": 1}, \"56\": {\"32\": 1, \"56\": 8, \"37\": 1, \"58\": 2}, \"92\": {\"92\": 28}, \"40\": {\"40\": 28, \"105\": 4}, \"108\": {\"109\": 2, \"24\": 3, \"108\": 21, \"9\": 3, \"47\": 5, \"97\": 2, \"72\": 1, \"89\": 1, \"126\": 1, \"70\": 1, \"44\": 2}, \"73\": {\"73\": 20}, \"1\": {\"1\": 42, \"129\": 1, \"104\": 1}, \"129\": {\"42\": 1, \"86\": 2, \"29\": 7, \"100\": 1, \"18\": 7, \"5\": 5, \"72\": 1, \"101\": 1, \"129\": 2, \"3\": 1}, \"127\": {\"127\": 32, \"91\": 3, \"112\": 1, \"17\": 1, \"125\": 1}, \"14\": {\"14\": 36, \"28\": 2}, \"42\": {\"17\": 1, \"77\": 2, \"54\": 1, \"42\": 1, \"109\": 4, \"84\": 3, \"100\": 1, \"99\": 1, \"83\": 3, \"106\": 1, \"21\": 1, \"2\": 1, \"129\": 3, \"1\": 1, \"18\": 1, \"34\": 2, \"5\": 1}, \"67\": {\"67\": 12, \"118\": 3, \"62\": 1}, \"74\": {\"74\": 16}, \"61\": {\"116\": 2, \"61\": 10}, \"36\": {\"36\": 29, \"24\": 4, \"88\": 3}, \"32\": {\"32\": 19, \"37\": 3, \"85\": 1, \"127\": 1, \"110\": 4, \"112\": 1, \"10\": 1, \"56\": 2}, \"77\": {\"24\": 1, \"77\": 13, \"14\": 1, \"87\": 1}, \"107\": {\"107\": 34, \"41\": 1, \"4\": 3}, \"44\": {\"44\": 36}, \"51\": {\"51\": 12, \"123\": 1, \"71\": 1, \"91\": 1, \"58\": 1}, \"2\": {\"25\": 2, \"116\": 1, \"2\": 18, \"100\": 3, \"18\": 1, \"33\": 1, \"82\": 2, \"123\": 2, \"11\": 1, \"114\": 1}, \"52\": {\"111\": 1, \"52\": 17, \"112\": 1, \"6\": 1}, \"125\": {\"125\": 42, \"6\": 1, \"53\": 3}, \"37\": {\"37\": 16}, \"35\": {\"35\": 7, \"107\": 2, \"75\": 1, \"71\": 1, \"48\": 1}, \"116\": {\"116\": 26, \"33\": 5, \"102\": 1}, \"15\": {\"15\": 16, \"88\": 1, \"71\": 1, \"49\": 2, \"94\": 8, \"125\": 1, \"27\": 2, \"12\": 1, \"6\": 2}, \"70\": {\"86\": 11, \"104\": 1, \"70\": 13, \"97\": 1, \"109\": 3, \"98\": 1, \"46\": 1, \"124\": 1, \"44\": 1, \"21\": 2, \"43\": 1, \"128\": 2, \"90\": 1, \"99\": 1, \"42\": 1, \"31\": 1, \"23\": 1, \"89\": 1}, \"109\": {\"109\": 24, \"24\": 1, \"96\": 3, \"126\": 5, \"44\": 1, \"1\": 2, \"42\": 1, \"104\": 1}, \"76\": {\"76\": 15, \"50\": 1}, \"66\": {\"66\": 16}, \"57\": {\"57\": 9, \"74\": 2, \"6\": 1}, \"119\": {\"119\": 16}, \"34\": {\"34\": 2, \"86\": 2, \"14\": 8, \"43\": 3, \"41\": 2, \"98\": 1, \"87\": 1, \"80\": 1, \"77\": 2, \"106\": 2}, \"68\": {\"68\": 13, \"106\": 2, \"61\": 1}, \"90\": {\"66\": 4, \"90\": 22}, \"62\": {\"62\": 35, \"121\": 1}, \"93\": {\"93\": 13, \"14\": 2, \"87\": 2, \"4\": 7, \"22\": 1, \"105\": 4, \"43\": 1, \"7\": 3, \"34\": 2, \"41\": 1, \"40\": 1, \"107\": 2, \"30\": 1}, \"54\": {\"54\": 16}, \"29\": {\"29\": 27, \"46\": 1}, \"89\": {\"89\": 22, \"31\": 1, \"124\": 4, \"42\": 3, \"103\": 3, \"49\": 2, \"34\": 1}, \"79\": {\"79\": 12}, \"16\": {\"16\": 34, \"39\": 1, \"117\": 1, \"26\": 1, \"50\": 1}, \"26\": {\"26\": 33, \"16\": 2, \"20\": 1}, \"64\": {\"64\": 16}, \"123\": {\"123\": 16}, \"75\": {\"75\": 15, \"127\": 1}, \"88\": {\"88\": 15, \"24\": 9, \"108\": 4, \"27\": 3, \"15\": 1, \"36\": 2, \"94\": 2}, \"10\": {\"92\": 4, \"10\": 21, \"85\": 5, \"43\": 1, \"0\": 4, \"57\": 1, \"35\": 1, \"74\": 1, \"122\": 1, \"21\": 1}, \"91\": {\"91\": 11, \"112\": 1, \"127\": 7, \"49\": 3, \"106\": 1, \"71\": 2, \"6\": 1, \"30\": 2}, \"4\": {\"4\": 24, \"107\": 5, \"40\": 1, \"55\": 1, \"105\": 1}, \"100\": {\"100\": 16}, \"39\": {\"39\": 26, \"96\": 1, \"13\": 1, \"117\": 2, \"116\": 1, \"11\": 3, \"45\": 1, \"63\": 1, \"18\": 2}, \"78\": {\"24\": 1, \"81\": 1, \"78\": 4, \"87\": 1, \"43\": 1, \"90\": 1, \"22\": 1, \"108\": 1, \"116\": 1, \"40\": 1, \"93\": 1, \"39\": 1, \"122\": 1}, \"101\": {\"101\": 33, \"52\": 2, \"121\": 1}, \"112\": {\"112\": 13, \"127\": 1, \"75\": 2}, \"103\": {\"103\": 12, \"9\": 2, \"126\": 1, \"31\": 1}, \"19\": {\"60\": 1, \"19\": 14, \"1\": 1, \"44\": 3, \"104\": 1, \"82\": 1, \"84\": 1, \"42\": 1, \"86\": 1}, \"60\": {\"41\": 3, \"100\": 2, \"60\": 2, \"84\": 1, \"43\": 2, \"77\": 3, \"7\": 2, \"123\": 1}, \"72\": {\"72\": 26, \"106\": 1, \"5\": 2, \"98\": 2, \"30\": 1}, \"43\": {\"80\": 1, \"61\": 1, \"81\": 1, \"43\": 12, \"105\": 8, \"40\": 2, \"57\": 1, \"93\": 3, \"122\": 3, \"87\": 2}, \"22\": {\"22\": 13, \"88\": 1, \"60\": 2}, \"87\": {\"84\": 2, \"87\": 18, \"17\": 2, \"21\": 1, \"43\": 1, \"7\": 2, \"8\": 2, \"93\": 2, \"34\": 1, \"105\": 1, \"107\": 1, \"113\": 1}, \"128\": {\"124\": 1, \"1\": 1, \"49\": 1, \"128\": 7, \"72\": 2, \"2\": 2, \"101\": 5, \"11\": 2, \"5\": 2, \"44\": 1}, \"5\": {\"5\": 36, \"83\": 1, \"21\": 1}, \"102\": {\"102\": 26, \"33\": 4}, \"94\": {\"6\": 3, \"94\": 13, \"78\": 1, \"49\": 2, \"88\": 1, \"125\": 1, \"15\": 4, \"27\": 1, \"71\": 1, \"108\": 1}, \"114\": {\"114\": 30, \"19\": 1, \"51\": 1, \"84\": 2}, \"69\": {\"69\": 24, \"102\": 2}, \"113\": {\"113\": 28}, \"49\": {\"52\": 3, \"97\": 1, \"71\": 3, \"103\": 1, \"9\": 5, \"91\": 1, \"49\": 3, \"111\": 2, \"96\": 1}, \"115\": {\"82\": 1, \"115\": 11}}, \"Wisig_4\": {\"109\": {\"109\": 20, \"118\": 4, \"69\": 5, \"31\": 2, \"18\": 1, \"117\": 1, \"102\": 1}, \"45\": {\"45\": 16}, \"11\": {\"11\": 28, \"108\": 3, \"46\": 1, \"80\": 1, \"79\": 1, \"49\": 1, \"93\": 1, \"44\": 2}, \"23\": {\"21\": 3, \"19\": 1, \"48\": 2, \"52\": 1, \"12\": 3, \"43\": 1, \"85\": 1, \"88\": 1, \"39\": 1, \"126\": 1, \"23\": 1}, \"2\": {\"18\": 4, \"38\": 1, \"2\": 8, \"117\": 6, \"20\": 4, \"90\": 2, \"44\": 1, \"108\": 1, \"26\": 1}, \"25\": {\"25\": 12, \"94\": 2, \"97\": 2}, \"7\": {\"7\": 26, \"110\": 1, \"86\": 4, \"87\": 1, \"95\": 2, \"89\": 5, \"4\": 5, \"77\": 1, \"14\": 1}, \"55\": {\"55\": 16}, \"124\": {\"124\": 23, \"114\": 3, \"52\": 1, \"128\": 2, \"98\": 1, \"8\": 4, \"60\": 1, \"49\": 1}, \"101\": {\"101\": 31, \"0\": 4, \"4\": 1, \"29\": 1, \"7\": 1}, \"115\": {\"115\": 14, \"107\": 2}, \"121\": {\"2\": 2, \"61\": 1, \"63\": 1, \"121\": 15, \"126\": 1, \"113\": 6, \"39\": 2, \"67\": 1, \"117\": 1, \"57\": 1, \"73\": 1}, \"46\": {\"46\": 18, \"3\": 1, \"124\": 1}, \"72\": {\"110\": 3, \"72\": 27, \"99\": 1, \"71\": 1}, \"83\": {\"83\": 19, \"49\": 2, \"11\": 2, \"5\": 2, \"21\": 2, \"32\": 1}, \"12\": {\"12\": 30, \"78\": 1, \"41\": 1, \"85\": 1, \"8\": 6, \"111\": 2, \"70\": 2, \"106\": 3, \"68\": 1, \"52\": 2, \"98\": 1}, \"79\": {\"79\": 16}, \"20\": {\"20\": 13, \"126\": 1, \"108\": 1, \"93\": 1}, \"43\": {\"115\": 2, \"99\": 2, \"33\": 5, \"87\": 6, \"43\": 13, \"84\": 1, \"38\": 2, \"78\": 2, \"110\": 2, \"122\": 3, \"14\": 1, \"90\": 4, \"128\": 1}, \"35\": {\"35\": 5, \"39\": 2, \"26\": 1, \"18\": 1, \"2\": 2, \"61\": 1}, \"86\": {\"86\": 25, \"4\": 2, \"127\": 1}, \"3\": {\"3\": 36, \"19\": 2, \"60\": 2}, \"116\": {\"116\": 17, \"99\": 1, \"23\": 1, \"33\": 4, \"45\": 2, \"122\": 1, \"28\": 2}, \"53\": {\"53\": 16}, \"111\": {\"47\": 1, \"21\": 1, \"111\": 44, \"6\": 2}, \"40\": {\"40\": 28, \"105\": 2, \"107\": 1, \"120\": 1}, \"19\": {\"19\": 4, \"60\": 1, \"73\": 2, \"98\": 2, \"71\": 1, \"5\": 5, \"72\": 1, \"128\": 2, \"126\": 1, \"103\": 1, \"7\": 1, \"93\": 3, \"20\": 1, \"100\": 1, \"1\": 1, \"129\": 1}, \"71\": {\"71\": 39, \"114\": 2, \"128\": 3, \"1\": 3, \"124\": 3, \"8\": 1, \"19\": 1}, \"21\": {\"21\": 24, \"89\": 1, \"23\": 3, \"43\": 1, \"100\": 1, \"126\": 1, \"117\": 1}, \"82\": {\"82\": 25, \"23\": 1, \"32\": 1, \"104\": 1, \"124\": 1, \"39\": 1, \"62\": 2}, \"65\": {\"65\": 12}, \"110\": {\"6\": 1, \"110\": 30, \"72\": 2, \"66\": 1, \"3\": 1, \"1\": 1, \"90\": 4, \"38\": 2, \"47\": 1, \"129\": 1, \"43\": 2}, \"119\": {\"119\": 15, \"48\": 1}, \"64\": {\"64\": 13, \"108\": 1, \"115\": 2}, \"126\": {\"126\": 23, \"48\": 1, \"39\": 2, \"123\": 4, \"63\": 3, \"88\": 1, \"113\": 4, \"35\": 1, \"121\": 1, \"122\": 1, \"67\": 1}, \"129\": {\"20\": 2, \"129\": 12, \"60\": 2, \"53\": 2, \"52\": 1, \"98\": 2, \"44\": 1, \"5\": 1, \"59\": 1, \"73\": 2, \"85\": 2}, \"103\": {\"103\": 13, \"95\": 1, \"41\": 1, \"43\": 1}, \"34\": {\"71\": 1, \"6\": 7, \"70\": 1, \"47\": 1, \"118\": 1, \"75\": 1, \"34\": 7, \"7\": 4, \"125\": 2, \"87\": 1, \"94\": 1, \"111\": 1, \"128\": 2, \"105\": 1, \"14\": 1}, \"42\": {\"124\": 4, \"42\": 10, \"112\": 5, \"52\": 3, \"27\": 1, \"70\": 1, \"49\": 1, \"8\": 1, \"98\": 1, \"111\": 1}, \"114\": {\"114\": 38, \"71\": 6}, \"38\": {\"38\": 16}, \"99\": {\"99\": 28, \"122\": 4, \"43\": 1, \"102\": 1, \"33\": 4}, \"47\": {\"6\": 2, \"47\": 5, \"53\": 1, \"34\": 2, \"75\": 2}, \"61\": {\"35\": 5, \"61\": 8, \"126\": 1, \"65\": 2}, \"9\": {\"9\": 26, \"39\": 1, \"26\": 1}, \"73\": {\"19\": 2, \"35\": 1, \"73\": 12, \"5\": 4, \"49\": 2, \"36\": 1, \"24\": 1, \"70\": 1}, \"48\": {\"48\": 8, \"113\": 3, \"25\": 2, \"121\": 2, \"29\": 1}, \"18\": {\"18\": 39, \"78\": 1, \"117\": 4}, \"16\": {\"16\": 40}, \"87\": {\"21\": 1, \"87\": 10, \"105\": 10, \"122\": 2, \"33\": 1, \"67\": 1, \"43\": 6, \"107\": 4, \"78\": 1, \"128\": 1, \"110\": 1, \"14\": 1, \"40\": 2, \"1\": 1, \"56\": 1, \"3\": 1, \"89\": 2}, \"60\": {\"20\": 1, \"60\": 9, \"52\": 2, \"43\": 1, \"8\": 2, \"11\": 1, \"129\": 1, \"108\": 1, \"71\": 1, \"98\": 5, \"44\": 4, \"85\": 2, \"19\": 1, \"111\": 1}, \"51\": {\"43\": 2, \"51\": 4, \"6\": 1, \"35\": 1, \"10\": 2, \"125\": 1, \"3\": 1, \"58\": 1, \"39\": 1, \"41\": 1, \"8\": 1}, \"4\": {\"4\": 32, \"95\": 6, \"86\": 1, \"7\": 1, \"127\": 2}, \"85\": {\"85\": 23, \"88\": 1, \"8\": 1, \"98\": 2, \"52\": 1}, \"28\": {\"28\": 19, \"43\": 1}, \"27\": {\"53\": 2, \"111\": 1, \"49\": 3, \"27\": 18, \"70\": 4, \"3\": 1, \"9\": 5, \"83\": 1, \"10\": 1, \"88\": 1, \"42\": 1}, \"97\": {\"25\": 2, \"97\": 7, \"42\": 1, \"36\": 3, \"94\": 3, \"24\": 1, \"54\": 1, \"6\": 1, \"47\": 1}, \"6\": {\"51\": 2, \"47\": 1, \"6\": 6, \"12\": 2, \"15\": 3, \"58\": 1, \"125\": 4, \"10\": 3, \"25\": 1, \"94\": 1}, \"76\": {\"76\": 14, \"31\": 2}, \"105\": {\"105\": 23, \"39\": 1, \"87\": 2, \"107\": 5, \"4\": 1, \"40\": 4}, \"37\": {\"7\": 1, \"37\": 15}, \"98\": {\"98\": 26, \"85\": 4, \"93\": 1, \"8\": 3, \"60\": 1, \"65\": 1, \"12\": 1, \"81\": 1, \"124\": 2}, \"96\": {\"96\": 18, \"116\": 1, \"84\": 1}, \"32\": {\"109\": 2, \"82\": 2, \"115\": 2, \"89\": 4, \"69\": 1, \"32\": 12, \"118\": 2, \"120\": 2, \"99\": 1}, \"15\": {\"6\": 2, \"94\": 7, \"15\": 21, \"10\": 1, \"111\": 1}, \"56\": {\"56\": 11, \"86\": 1}, \"90\": {\"90\": 31, \"66\": 1}, \"91\": {\"91\": 12, \"12\": 1, \"52\": 1, \"85\": 3, \"10\": 1, \"111\": 3, \"103\": 3}, \"52\": {\"52\": 15, \"42\": 1, \"41\": 2, \"91\": 1, \"111\": 1}, \"78\": {\"35\": 1, \"91\": 1, \"121\": 1, \"21\": 2, \"71\": 2, \"78\": 5, \"108\": 1, \"39\": 1, \"85\": 1, \"114\": 1, \"60\": 1, \"43\": 1, \"128\": 1, \"88\": 4, \"87\": 1, \"7\": 1, \"23\": 1, \"34\": 1, \"73\": 1, \"126\": 1, \"122\": 1, \"120\": 1, \"117\": 1, \"84\": 1, \"98\": 1}, \"84\": {\"84\": 24, \"102\": 10, \"0\": 1, \"21\": 2, \"13\": 1}, \"1\": {\"1\": 20, \"72\": 2, \"71\": 14, \"24\": 1, \"114\": 2, \"21\": 1, \"88\": 1, \"15\": 1}, \"122\": {\"122\": 18, \"43\": 7, \"107\": 3, \"99\": 5, \"78\": 1, \"26\": 1, \"110\": 1, \"0\": 1, \"105\": 1, \"102\": 1, \"1\": 1, \"96\": 1, \"84\": 1, \"14\": 1, \"39\": 1}, \"66\": {\"66\": 6, \"23\": 1, \"110\": 6, \"43\": 1, \"90\": 1, \"38\": 1}, \"127\": {\"7\": 1, \"127\": 32, \"95\": 2, \"108\": 1, \"4\": 2}, \"80\": {\"80\": 16}, \"113\": {\"113\": 26, \"126\": 4, \"39\": 5, \"63\": 1, \"21\": 1, \"123\": 1}, \"31\": {\"31\": 14, \"76\": 2}, \"88\": {\"48\": 1, \"83\": 1, \"108\": 3, \"88\": 7, \"100\": 1, \"42\": 3, \"5\": 4, \"8\": 1, \"3\": 3, \"21\": 1, \"93\": 1, \"49\": 2, \"70\": 4}, \"62\": {\"62\": 31, \"31\": 5, \"118\": 4, \"69\": 1, \"21\": 2, \"82\": 1}, \"22\": {\"22\": 10, \"89\": 2, \"18\": 1, \"81\": 1, \"14\": 2}, \"49\": {\"98\": 6, \"49\": 5, \"5\": 3, \"10\": 1, \"79\": 2, \"30\": 2, \"111\": 3, \"11\": 3, \"42\": 1, \"85\": 1, \"8\": 1, \"52\": 1, \"83\": 2, \"12\": 1}, \"54\": {\"54\": 16}, \"63\": {\"113\": 2, \"63\": 13, \"65\": 1}, \"39\": {\"63\": 1, \"39\": 13, \"113\": 4, \"18\": 1, \"78\": 1, \"65\": 2, \"117\": 1, \"81\": 5, \"43\": 1, \"121\": 6, \"126\": 3, \"21\": 2, \"19\": 1, \"122\": 1}, \"95\": {\"95\": 24, \"86\": 3, \"4\": 2, \"7\": 1, \"68\": 1, \"127\": 1}, \"13\": {\"13\": 16}, \"107\": {\"107\": 31, \"87\": 1, \"120\": 3, \"105\": 1, \"40\": 1, \"14\": 1}, \"106\": {\"106\": 25, \"39\": 1, \"78\": 1, \"88\": 1, \"12\": 9, \"21\": 1, \"8\": 2, \"52\": 2}, \"26\": {\"26\": 28, \"21\": 1, \"113\": 1, \"117\": 1, \"18\": 1}, \"112\": {\"112\": 16}, \"36\": {\"36\": 18, \"97\": 3, \"10\": 2, \"24\": 11, \"94\": 3, \"54\": 2, \"25\": 1, \"27\": 1, \"117\": 1}, \"30\": {\"30\": 19, \"10\": 3, \"8\": 3, \"68\": 2, \"98\": 4, \"21\": 2, \"111\": 1, \"12\": 1, \"85\": 2, \"23\": 1, \"53\": 1, \"6\": 1, \"58\": 1, \"15\": 1}, \"58\": {\"58\": 12, \"39\": 1, \"111\": 1, \"29\": 1, \"6\": 1}, \"14\": {\"14\": 30, \"87\": 4, \"107\": 1, \"122\": 2, \"7\": 1}, \"68\": {\"68\": 16}, \"118\": {\"118\": 28, \"109\": 2, \"92\": 1, \"76\": 1, \"62\": 2, \"21\": 1, \"31\": 1, \"32\": 1, \"69\": 3}, \"44\": {\"44\": 29, \"26\": 2, \"48\": 1, \"99\": 1, \"90\": 1}, \"93\": {\"93\": 20, \"108\": 6, \"119\": 2, \"20\": 2, \"88\": 1, \"73\": 1, \"5\": 1, \"11\": 1}, \"70\": {\"108\": 7, \"88\": 2, \"59\": 1, \"42\": 3, \"8\": 3, \"70\": 3, \"49\": 5, \"3\": 1, \"129\": 2, \"27\": 5, \"93\": 6, \"83\": 1, \"73\": 1}, \"10\": {\"70\": 3, \"58\": 2, \"10\": 10, \"27\": 3, \"15\": 3, \"75\": 1, \"30\": 2, \"94\": 6, \"24\": 2, \"60\": 2, \"85\": 2, \"93\": 1, \"78\": 1}, \"94\": {\"94\": 17, \"15\": 4, \"70\": 1, \"27\": 1, \"125\": 3, \"36\": 2, \"10\": 5, \"54\": 2, \"25\": 1, \"59\": 1, \"6\": 2, \"21\": 1}, \"41\": {\"41\": 13, \"52\": 2, \"42\": 1}, \"75\": {\"75\": 16}, \"29\": {\"127\": 2, \"29\": 29, \"23\": 1}, \"50\": {\"50\": 16}, \"0\": {\"0\": 25, \"78\": 1, \"101\": 9, \"7\": 7, \"88\": 1, \"21\": 2, \"43\": 1, \"34\": 1, \"14\": 1}, \"108\": {\"20\": 1, \"108\": 9, \"5\": 9, \"90\": 1, \"60\": 2, \"73\": 3, \"10\": 1, \"88\": 3, \"69\": 1, \"62\": 1, \"70\": 1, \"118\": 1, \"129\": 1, \"15\": 1, \"78\": 1, \"122\": 1, \"11\": 1}, \"100\": {\"100\": 11, \"72\": 2, \"19\": 4, \"3\": 2, \"60\": 1}, \"102\": {\"102\": 36}, \"5\": {\"5\": 37, \"108\": 1}, \"77\": {\"77\": 12}, \"89\": {\"105\": 1, \"32\": 2, \"89\": 19, \"94\": 2, \"7\": 4}, \"57\": {\"57\": 14, \"13\": 2}, \"33\": {\"33\": 46, \"99\": 2}, \"17\": {\"17\": 17, \"23\": 1, \"4\": 2}, \"128\": {\"87\": 3, \"72\": 2, \"1\": 1, \"128\": 4, \"114\": 1, \"33\": 1, \"19\": 6, \"124\": 2, \"71\": 3, \"32\": 1}, \"92\": {\"92\": 27, \"69\": 1}, \"67\": {\"123\": 4, \"69\": 8, \"67\": 2, \"93\": 1, \"118\": 1}, \"120\": {\"120\": 13, \"107\": 2, \"26\": 1, \"115\": 2, \"40\": 2}, \"123\": {\"123\": 16}, \"8\": {\"85\": 3, \"52\": 3, \"8\": 23, \"72\": 1, \"60\": 3, \"70\": 2, \"98\": 2, \"23\": 1, \"110\": 1, \"124\": 1}, \"59\": {\"59\": 6, \"6\": 1, \"111\": 1, \"125\": 2, \"54\": 1, \"68\": 1}, \"24\": {\"27\": 4, \"59\": 2, \"24\": 8, \"97\": 1, \"21\": 1, \"94\": 8, \"110\": 1, \"36\": 5, \"25\": 2, \"70\": 1, \"126\": 1}, \"117\": {\"117\": 27, \"18\": 4, \"81\": 2, \"2\": 1}, \"69\": {\"69\": 30, \"118\": 3, \"21\": 1}, \"81\": {\"65\": 1, \"81\": 29, \"18\": 2}, \"74\": {\"39\": 1, \"74\": 13, \"38\": 2}, \"125\": {\"125\": 23, \"41\": 1, \"15\": 1, \"21\": 1, \"54\": 1, \"121\": 1}, \"104\": {\"104\": 15, \"17\": 1}}}, \"per_domain_accuracy\": {\"CORES_3\": {\"accuracy\": 0.9989224137931034, \"source?\": true}, \"CORES_4\": {\"accuracy\": 0.9978448275862069, \"source?\": true}, \"CORES_5\": {\"accuracy\": 0.9974137931034482, \"source?\": true}, \"CORES_1\": {\"accuracy\": 0.9985632183908046, \"source?\": true}, \"CORES_2\": {\"accuracy\": 0.9991379310344828, \"source?\": true}, \"Wisig_3\": {\"accuracy\": 0.7273706896551724, \"source?\": false}, \"Wisig_2\": {\"accuracy\": 0.6883874239350912, \"source?\": false}, \"Wisig_1\": {\"accuracy\": 0.7408045977011494, \"source?\": false}, \"Wisig_4\": {\"accuracy\": 0.6530172413793104, \"source?\": false}}}, \"history\": {\"epoch_indices\": [1, 2, 3], \"train_label_loss\": [0.321415205437032, 0.02074198428497642, 0.0149690174987537], \"source_val_label_loss\": [0.019426628947257996, 0.010566535405814648, 0.007767198141664267], \"target_val_label_loss\": [1.816441535949707, 3.334308385848999, 3.6048765182495117], \"source_val_acc_label\": [0.9983836206896551, 0.9971264367816092, 0.9971264367816092], \"target_val_acc_label\": [0.7015759698275862, 0.6629175646551724, 0.6740301724137931]}, \"dataset_metrics\": {\"source\": {\"train\": {\"n_unique_x\": 75830, \"n_unique_y\": 58, \"n_batch/episode\": 351}, \"val\": {\"n_unique_x\": 11850, \"n_unique_y\": 58, \"n_batch/episode\": 48}, \"test\": {\"n_unique_x\": 12315, \"n_unique_y\": 58, \"n_batch/episode\": 50}}, \"target\": {\"train\": {\"n_unique_x\": 140642, \"n_unique_y\": 130, \"n_batch/episode\": 912}, \"val\": {\"n_unique_x\": 26052, \"n_unique_y\": 130, \"n_batch/episode\": 128}, \"test\": {\"n_unique_x\": 27285, \"n_unique_y\": 130, \"n_batch/episode\": 136}}}}'"
      ]
     },
     "execution_count": 29,
     "metadata": {},
     "output_type": "execute_result"
    }
   ],
   "source": [
    "json.dumps(experiment)"
   ]
  }
 ],
 "metadata": {
  "celltoolbar": "Tags",
  "kernelspec": {
   "display_name": "Python 3 (ipykernel)",
   "language": "python",
   "name": "python3"
  },
  "language_info": {
   "codemirror_mode": {
    "name": "ipython",
    "version": 3
   },
   "file_extension": ".py",
   "mimetype": "text/x-python",
   "name": "python",
   "nbconvert_exporter": "python",
   "pygments_lexer": "ipython3",
   "version": "3.8.12"
  },
  "papermill": {
   "default_parameters": {},
   "duration": 177.991206,
   "end_time": "2022-03-21T02:03:35.467822",
   "environment_variables": {},
   "exception": null,
   "input_path": "/root/csc500-main/csc500-notebooks/templates/tl_ptn_template.ipynb",
   "output_path": "trial.ipynb",
   "parameters": {
    "parameters": {
     "BEST_MODEL_PATH": "./best_model.pth",
     "NUM_LOGS_PER_EPOCH": 10,
     "criteria_for_best": "target_accuracy",
     "dataset_seed": 1337,
     "datasets": [
      {
       "domain_prefix": "CORES_",
       "domains": [
        1,
        2,
        3,
        4,
        5
       ],
       "episode_transforms": [],
       "labels": [
        "1-10.",
        "1-11.",
        "1-15.",
        "1-16.",
        "1-17.",
        "1-18.",
        "1-19.",
        "10-4.",
        "10-7.",
        "11-1.",
        "11-14.",
        "11-17.",
        "11-20.",
        "11-7.",
        "13-20.",
        "13-8.",
        "14-10.",
        "14-11.",
        "14-14.",
        "14-7.",
        "15-1.",
        "15-20.",
        "16-1.",
        "16-16.",
        "17-10.",
        "17-11.",
        "17-2.",
        "19-1.",
        "19-16.",
        "19-19.",
        "19-20.",
        "19-3.",
        "2-10.",
        "2-11.",
        "2-17.",
        "2-18.",
        "2-20.",
        "2-3.",
        "2-4.",
        "2-5.",
        "2-6.",
        "2-7.",
        "2-8.",
        "3-13.",
        "3-18.",
        "3-3.",
        "4-1.",
        "4-10.",
        "4-11.",
        "4-19.",
        "5-5.",
        "6-15.",
        "7-10.",
        "7-14.",
        "8-18.",
        "8-20.",
        "8-3.",
        "8-8."
       ],
       "num_examples_per_domain_per_label": -1,
       "pickle_path": "/root/csc500-main/datasets/cores.stratified_ds.2022A.pkl",
       "source_or_target_dataset": "source",
       "x_transforms": [
        "unit_power"
       ]
      },
      {
       "domain_prefix": "Wisig_",
       "domains": [
        1,
        2,
        3,
        4
       ],
       "episode_transforms": [],
       "labels": [
        "1-10",
        "1-12",
        "1-14",
        "1-16",
        "1-18",
        "1-19",
        "1-8",
        "10-11",
        "10-17",
        "10-4",
        "10-7",
        "11-1",
        "11-10",
        "11-19",
        "11-20",
        "11-4",
        "11-7",
        "12-19",
        "12-20",
        "12-7",
        "13-14",
        "13-18",
        "13-19",
        "13-20",
        "13-3",
        "13-7",
        "14-10",
        "14-11",
        "14-12",
        "14-13",
        "14-14",
        "14-19",
        "14-20",
        "14-7",
        "14-8",
        "14-9",
        "15-1",
        "15-19",
        "15-6",
        "16-1",
        "16-16",
        "16-19",
        "16-20",
        "17-10",
        "17-11",
        "18-1",
        "18-10",
        "18-11",
        "18-12",
        "18-13",
        "18-14",
        "18-15",
        "18-16",
        "18-17",
        "18-19",
        "18-2",
        "18-20",
        "18-4",
        "18-5",
        "18-7",
        "18-8",
        "18-9",
        "19-1",
        "19-10",
        "19-11",
        "19-12",
        "19-13",
        "19-14",
        "19-15",
        "19-19",
        "19-2",
        "19-20",
        "19-3",
        "19-4",
        "19-6",
        "19-7",
        "19-8",
        "19-9",
        "2-1",
        "2-13",
        "2-15",
        "2-3",
        "2-4",
        "2-5",
        "2-6",
        "2-7",
        "2-8",
        "20-1",
        "20-12",
        "20-14",
        "20-15",
        "20-16",
        "20-18",
        "20-19",
        "20-20",
        "20-3",
        "20-4",
        "20-5",
        "20-7",
        "20-8",
        "3-1",
        "3-13",
        "3-18",
        "3-2",
        "3-8",
        "4-1",
        "4-10",
        "4-11",
        "5-1",
        "5-5",
        "6-1",
        "6-15",
        "6-6",
        "7-10",
        "7-11",
        "7-12",
        "7-13",
        "7-14",
        "7-7",
        "7-8",
        "7-9",
        "8-1",
        "8-13",
        "8-14",
        "8-18",
        "8-20",
        "8-3",
        "8-8",
        "9-1",
        "9-7"
       ],
       "num_examples_per_domain_per_label": -1,
       "pickle_path": "/root/csc500-main/datasets/wisig.node3-19.stratified_ds.2022A.pkl",
       "source_or_target_dataset": "target",
       "x_transforms": [
        "unit_power"
       ]
      }
     ],
     "device": "cuda",
     "experiment_name": "tl_1v2:cores-wisig",
     "lr": 0.0001,
     "n_epoch": 3,
     "n_query": 2,
     "n_shot": 3,
     "n_way": 58,
     "patience": 3,
     "seed": 1337,
     "test_k_factor": 2,
     "torch_default_dtype": "torch.float32",
     "train_k_factor": 3,
     "val_k_factor": 2,
     "x_net": [
      {
       "class": "nnReshape",
       "kargs": {
        "shape": [
         -1,
         1,
         2,
         256
        ]
       }
      },
      {
       "class": "Conv2d",
       "kargs": {
        "bias": false,
        "in_channels": 1,
        "kernel_size": [
         1,
         7
        ],
        "out_channels": 256,
        "padding": [
         0,
         3
        ]
       }
      },
      {
       "class": "ReLU",
       "kargs": {
        "inplace": true
       }
      },
      {
       "class": "BatchNorm2d",
       "kargs": {
        "num_features": 256
       }
      },
      {
       "class": "Conv2d",
       "kargs": {
        "bias": true,
        "in_channels": 256,
        "kernel_size": [
         2,
         7
        ],
        "out_channels": 80,
        "padding": [
         0,
         3
        ]
       }
      },
      {
       "class": "ReLU",
       "kargs": {
        "inplace": true
       }
      },
      {
       "class": "BatchNorm2d",
       "kargs": {
        "num_features": 80
       }
      },
      {
       "class": "Flatten",
       "kargs": {}
      },
      {
       "class": "Linear",
       "kargs": {
        "in_features": 20480,
        "out_features": 256
       }
      },
      {
       "class": "ReLU",
       "kargs": {
        "inplace": true
       }
      },
      {
       "class": "BatchNorm1d",
       "kargs": {
        "num_features": 256
       }
      },
      {
       "class": "Linear",
       "kargs": {
        "in_features": 256,
        "out_features": 256
       }
      }
     ]
    }
   },
   "start_time": "2022-03-21T02:00:37.476616",
   "version": "2.3.4"
  }
 },
 "nbformat": 4,
 "nbformat_minor": 5
}