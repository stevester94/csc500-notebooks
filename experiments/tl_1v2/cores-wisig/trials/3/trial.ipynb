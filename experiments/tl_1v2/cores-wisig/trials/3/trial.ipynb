{
 "cells": [
  {
   "cell_type": "markdown",
   "id": "9fea5f46",
   "metadata": {
    "papermill": {
     "duration": 0.026472,
     "end_time": "2022-03-21T02:10:38.961496",
     "exception": false,
     "start_time": "2022-03-21T02:10:38.935024",
     "status": "completed"
    },
    "tags": []
   },
   "source": [
    "# Transfer Learning Template"
   ]
  },
  {
   "cell_type": "code",
   "execution_count": 1,
   "id": "0902182a",
   "metadata": {
    "execution": {
     "iopub.execute_input": "2022-03-21T02:10:39.020640Z",
     "iopub.status.busy": "2022-03-21T02:10:39.019577Z",
     "iopub.status.idle": "2022-03-21T02:10:41.458574Z",
     "shell.execute_reply": "2022-03-21T02:10:41.457681Z"
    },
    "papermill": {
     "duration": 2.477185,
     "end_time": "2022-03-21T02:10:41.458769",
     "exception": false,
     "start_time": "2022-03-21T02:10:38.981584",
     "status": "completed"
    },
    "tags": []
   },
   "outputs": [],
   "source": [
    "%load_ext autoreload\n",
    "%autoreload 2\n",
    "%matplotlib inline\n",
    "\n",
    "    \n",
    "import os, json, sys, time, random\n",
    "import numpy as np\n",
    "import torch\n",
    "from torch.optim import Adam\n",
    "from  easydict import EasyDict\n",
    "import matplotlib.pyplot as plt\n",
    "\n",
    "from steves_models.steves_ptn import Steves_Prototypical_Network\n",
    "\n",
    "from steves_utils.lazy_iterable_wrapper import Lazy_Iterable_Wrapper\n",
    "from steves_utils.iterable_aggregator import Iterable_Aggregator\n",
    "from steves_utils.ptn_train_eval_test_jig import  PTN_Train_Eval_Test_Jig\n",
    "from steves_utils.torch_sequential_builder import build_sequential\n",
    "from steves_utils.torch_utils import get_dataset_metrics, ptn_confusion_by_domain_over_dataloader\n",
    "from steves_utils.utils_v2 import (per_domain_accuracy_from_confusion, get_datasets_base_path)\n",
    "from steves_utils.PTN.utils import independent_accuracy_assesment\n",
    "\n",
    "from torch.utils.data import DataLoader\n",
    "\n",
    "from steves_utils.stratified_dataset.episodic_accessor import Episodic_Accessor_Factory\n",
    "\n",
    "from steves_utils.ptn_do_report import (\n",
    "    get_loss_curve,\n",
    "    get_results_table,\n",
    "    get_parameters_table,\n",
    "    get_domain_accuracies,\n",
    ")\n",
    "\n",
    "from steves_utils.transforms import get_chained_transform"
   ]
  },
  {
   "cell_type": "markdown",
   "id": "41c840b4",
   "metadata": {
    "papermill": {
     "duration": 0.01903,
     "end_time": "2022-03-21T02:10:41.504913",
     "exception": false,
     "start_time": "2022-03-21T02:10:41.485883",
     "status": "completed"
    },
    "tags": []
   },
   "source": [
    "# Allowed Parameters\n",
    "These are allowed parameters, not defaults\n",
    "Each of these values need to be present in the injected parameters (the notebook will raise an exception if they are not present)\n",
    "\n",
    "Papermill uses the cell tag \"parameters\" to inject the real parameters below this cell.\n",
    "Enable tags to see what I mean"
   ]
  },
  {
   "cell_type": "code",
   "execution_count": 2,
   "id": "fd44eb83",
   "metadata": {
    "execution": {
     "iopub.execute_input": "2022-03-21T02:10:41.549537Z",
     "iopub.status.busy": "2022-03-21T02:10:41.548960Z",
     "iopub.status.idle": "2022-03-21T02:10:41.573656Z",
     "shell.execute_reply": "2022-03-21T02:10:41.572939Z"
    },
    "papermill": {
     "duration": 0.04982,
     "end_time": "2022-03-21T02:10:41.573816",
     "exception": false,
     "start_time": "2022-03-21T02:10:41.523996",
     "status": "completed"
    },
    "tags": []
   },
   "outputs": [],
   "source": [
    "required_parameters = {\n",
    "    \"experiment_name\",\n",
    "    \"lr\",\n",
    "    \"device\",\n",
    "    \"seed\",\n",
    "    \"dataset_seed\",\n",
    "    \"n_shot\",\n",
    "    \"n_query\",\n",
    "    \"n_way\",\n",
    "    \"train_k_factor\",\n",
    "    \"val_k_factor\",\n",
    "    \"test_k_factor\",\n",
    "    \"n_epoch\",\n",
    "    \"patience\",\n",
    "    \"criteria_for_best\",\n",
    "    \"x_net\",\n",
    "    \"datasets\",\n",
    "    \"torch_default_dtype\",\n",
    "    \"NUM_LOGS_PER_EPOCH\",\n",
    "    \"BEST_MODEL_PATH\",\n",
    "    \"x_shape\",\n",
    "}"
   ]
  },
  {
   "cell_type": "code",
   "execution_count": 3,
   "id": "fa3f0049",
   "metadata": {
    "execution": {
     "iopub.execute_input": "2022-03-21T02:10:41.636621Z",
     "iopub.status.busy": "2022-03-21T02:10:41.623808Z",
     "iopub.status.idle": "2022-03-21T02:10:41.662555Z",
     "shell.execute_reply": "2022-03-21T02:10:41.661731Z"
    },
    "papermill": {
     "duration": 0.061365,
     "end_time": "2022-03-21T02:10:41.662716",
     "exception": false,
     "start_time": "2022-03-21T02:10:41.601351",
     "status": "completed"
    },
    "tags": [
     "parameters"
    ]
   },
   "outputs": [],
   "source": [
    "from steves_utils.CORES.utils import (\n",
    "    ALL_NODES,\n",
    "    ALL_NODES_MINIMUM_1000_EXAMPLES,\n",
    "    ALL_DAYS\n",
    ")\n",
    "\n",
    "from steves_utils.ORACLE.utils_v2 import (\n",
    "    ALL_DISTANCES_FEET_NARROWED,\n",
    "    ALL_RUNS,\n",
    "    ALL_SERIAL_NUMBERS,\n",
    ")\n",
    "\n",
    "standalone_parameters = {}\n",
    "standalone_parameters[\"experiment_name\"] = \"STANDALONE PTN\"\n",
    "standalone_parameters[\"lr\"] = 0.001\n",
    "standalone_parameters[\"device\"] = \"cuda\"\n",
    "\n",
    "standalone_parameters[\"seed\"] = 1337\n",
    "standalone_parameters[\"dataset_seed\"] = 1337\n",
    "\n",
    "standalone_parameters[\"n_way\"] = 8\n",
    "standalone_parameters[\"n_shot\"] = 3\n",
    "standalone_parameters[\"n_query\"]  = 2\n",
    "standalone_parameters[\"train_k_factor\"] = 1\n",
    "standalone_parameters[\"val_k_factor\"] = 2\n",
    "standalone_parameters[\"test_k_factor\"] = 2\n",
    "\n",
    "\n",
    "standalone_parameters[\"n_epoch\"] = 50\n",
    "\n",
    "standalone_parameters[\"patience\"] = 10\n",
    "standalone_parameters[\"criteria_for_best\"] = \"source_loss\"\n",
    "\n",
    "standalone_parameters[\"datasets\"] = [\n",
    "    {\n",
    "        \"labels\": ALL_SERIAL_NUMBERS,\n",
    "        \"domains\": ALL_DISTANCES_FEET_NARROWED,\n",
    "        \"num_examples_per_domain_per_label\": 100,\n",
    "        \"pickle_path\": os.path.join(get_datasets_base_path(), \"oracle.Run1_framed_2000Examples_stratified_ds.2022A.pkl\"),\n",
    "        \"source_or_target_dataset\": \"source\",\n",
    "        \"x_transforms\": [\"unit_mag\", \"minus_two\"],\n",
    "        \"episode_transforms\": [],\n",
    "        \"domain_prefix\": \"ORACLE_\"\n",
    "    },\n",
    "    {\n",
    "        \"labels\": ALL_NODES,\n",
    "        \"domains\": ALL_DAYS,\n",
    "        \"num_examples_per_domain_per_label\": 100,\n",
    "        \"pickle_path\": os.path.join(get_datasets_base_path(), \"cores.stratified_ds.2022A.pkl\"),\n",
    "        \"source_or_target_dataset\": \"target\",\n",
    "        \"x_transforms\": [\"unit_power\", \"times_zero\"],\n",
    "        \"episode_transforms\": [],\n",
    "        \"domain_prefix\": \"CORES_\"\n",
    "    }   \n",
    "]\n",
    "\n",
    "standalone_parameters[\"torch_default_dtype\"] = \"torch.float32\" \n",
    "\n",
    "\n",
    "\n",
    "standalone_parameters[\"x_net\"] =     [\n",
    "    {\"class\": \"nnReshape\", \"kargs\": {\"shape\":[-1, 1, 2, 256]}},\n",
    "    {\"class\": \"Conv2d\", \"kargs\": { \"in_channels\":1, \"out_channels\":256, \"kernel_size\":(1,7), \"bias\":False, \"padding\":(0,3), },},\n",
    "    {\"class\": \"ReLU\", \"kargs\": {\"inplace\": True}},\n",
    "    {\"class\": \"BatchNorm2d\", \"kargs\": {\"num_features\":256}},\n",
    "\n",
    "    {\"class\": \"Conv2d\", \"kargs\": { \"in_channels\":256, \"out_channels\":80, \"kernel_size\":(2,7), \"bias\":True, \"padding\":(0,3), },},\n",
    "    {\"class\": \"ReLU\", \"kargs\": {\"inplace\": True}},\n",
    "    {\"class\": \"BatchNorm2d\", \"kargs\": {\"num_features\":80}},\n",
    "    {\"class\": \"Flatten\", \"kargs\": {}},\n",
    "\n",
    "    {\"class\": \"Linear\", \"kargs\": {\"in_features\": 80*256, \"out_features\": 256}}, # 80 units per IQ pair\n",
    "    {\"class\": \"ReLU\", \"kargs\": {\"inplace\": True}},\n",
    "    {\"class\": \"BatchNorm1d\", \"kargs\": {\"num_features\":256}},\n",
    "\n",
    "    {\"class\": \"Linear\", \"kargs\": {\"in_features\": 256, \"out_features\": 256}},\n",
    "]\n",
    "\n",
    "# Parameters relevant to results\n",
    "# These parameters will basically never need to change\n",
    "standalone_parameters[\"NUM_LOGS_PER_EPOCH\"] = 10\n",
    "standalone_parameters[\"BEST_MODEL_PATH\"] = \"./best_model.pth\"\n",
    "\n",
    "\n",
    "\n",
    "\n"
   ]
  },
  {
   "cell_type": "code",
   "execution_count": 4,
   "id": "c73235c8",
   "metadata": {
    "execution": {
     "iopub.execute_input": "2022-03-21T02:10:41.729552Z",
     "iopub.status.busy": "2022-03-21T02:10:41.717618Z",
     "iopub.status.idle": "2022-03-21T02:10:41.764528Z",
     "shell.execute_reply": "2022-03-21T02:10:41.763708Z"
    },
    "papermill": {
     "duration": 0.074947,
     "end_time": "2022-03-21T02:10:41.764690",
     "exception": false,
     "start_time": "2022-03-21T02:10:41.689743",
     "status": "completed"
    },
    "tags": [
     "injected-parameters"
    ]
   },
   "outputs": [],
   "source": [
    "# Parameters\n",
    "parameters = {\n",
    "    \"experiment_name\": \"tl_1v2:cores-wisig\",\n",
    "    \"device\": \"cuda\",\n",
    "    \"lr\": 0.0001,\n",
    "    \"n_shot\": 3,\n",
    "    \"n_query\": 2,\n",
    "    \"train_k_factor\": 3,\n",
    "    \"val_k_factor\": 2,\n",
    "    \"test_k_factor\": 2,\n",
    "    \"torch_default_dtype\": \"torch.float32\",\n",
    "    \"n_epoch\": 3,\n",
    "    \"patience\": 3,\n",
    "    \"criteria_for_best\": \"target_accuracy\",\n",
    "    \"x_net\": [\n",
    "        {\"class\": \"nnReshape\", \"kargs\": {\"shape\": [-1, 1, 2, 256]}},\n",
    "        {\n",
    "            \"class\": \"Conv2d\",\n",
    "            \"kargs\": {\n",
    "                \"in_channels\": 1,\n",
    "                \"out_channels\": 256,\n",
    "                \"kernel_size\": [1, 7],\n",
    "                \"bias\": False,\n",
    "                \"padding\": [0, 3],\n",
    "            },\n",
    "        },\n",
    "        {\"class\": \"ReLU\", \"kargs\": {\"inplace\": True}},\n",
    "        {\"class\": \"BatchNorm2d\", \"kargs\": {\"num_features\": 256}},\n",
    "        {\n",
    "            \"class\": \"Conv2d\",\n",
    "            \"kargs\": {\n",
    "                \"in_channels\": 256,\n",
    "                \"out_channels\": 80,\n",
    "                \"kernel_size\": [2, 7],\n",
    "                \"bias\": True,\n",
    "                \"padding\": [0, 3],\n",
    "            },\n",
    "        },\n",
    "        {\"class\": \"ReLU\", \"kargs\": {\"inplace\": True}},\n",
    "        {\"class\": \"BatchNorm2d\", \"kargs\": {\"num_features\": 80}},\n",
    "        {\"class\": \"Flatten\", \"kargs\": {}},\n",
    "        {\"class\": \"Linear\", \"kargs\": {\"in_features\": 20480, \"out_features\": 256}},\n",
    "        {\"class\": \"ReLU\", \"kargs\": {\"inplace\": True}},\n",
    "        {\"class\": \"BatchNorm1d\", \"kargs\": {\"num_features\": 256}},\n",
    "        {\"class\": \"Linear\", \"kargs\": {\"in_features\": 256, \"out_features\": 256}},\n",
    "    ],\n",
    "    \"NUM_LOGS_PER_EPOCH\": 10,\n",
    "    \"BEST_MODEL_PATH\": \"./best_model.pth\",\n",
    "    \"n_way\": 58,\n",
    "    \"datasets\": [\n",
    "        {\n",
    "            \"labels\": [\n",
    "                \"1-10.\",\n",
    "                \"1-11.\",\n",
    "                \"1-15.\",\n",
    "                \"1-16.\",\n",
    "                \"1-17.\",\n",
    "                \"1-18.\",\n",
    "                \"1-19.\",\n",
    "                \"10-4.\",\n",
    "                \"10-7.\",\n",
    "                \"11-1.\",\n",
    "                \"11-14.\",\n",
    "                \"11-17.\",\n",
    "                \"11-20.\",\n",
    "                \"11-7.\",\n",
    "                \"13-20.\",\n",
    "                \"13-8.\",\n",
    "                \"14-10.\",\n",
    "                \"14-11.\",\n",
    "                \"14-14.\",\n",
    "                \"14-7.\",\n",
    "                \"15-1.\",\n",
    "                \"15-20.\",\n",
    "                \"16-1.\",\n",
    "                \"16-16.\",\n",
    "                \"17-10.\",\n",
    "                \"17-11.\",\n",
    "                \"17-2.\",\n",
    "                \"19-1.\",\n",
    "                \"19-16.\",\n",
    "                \"19-19.\",\n",
    "                \"19-20.\",\n",
    "                \"19-3.\",\n",
    "                \"2-10.\",\n",
    "                \"2-11.\",\n",
    "                \"2-17.\",\n",
    "                \"2-18.\",\n",
    "                \"2-20.\",\n",
    "                \"2-3.\",\n",
    "                \"2-4.\",\n",
    "                \"2-5.\",\n",
    "                \"2-6.\",\n",
    "                \"2-7.\",\n",
    "                \"2-8.\",\n",
    "                \"3-13.\",\n",
    "                \"3-18.\",\n",
    "                \"3-3.\",\n",
    "                \"4-1.\",\n",
    "                \"4-10.\",\n",
    "                \"4-11.\",\n",
    "                \"4-19.\",\n",
    "                \"5-5.\",\n",
    "                \"6-15.\",\n",
    "                \"7-10.\",\n",
    "                \"7-14.\",\n",
    "                \"8-18.\",\n",
    "                \"8-20.\",\n",
    "                \"8-3.\",\n",
    "                \"8-8.\",\n",
    "            ],\n",
    "            \"domains\": [1, 2, 3, 4, 5],\n",
    "            \"num_examples_per_domain_per_label\": -1,\n",
    "            \"pickle_path\": \"/root/csc500-main/datasets/cores.stratified_ds.2022A.pkl\",\n",
    "            \"source_or_target_dataset\": \"target\",\n",
    "            \"x_transforms\": [\"unit_power\"],\n",
    "            \"episode_transforms\": [],\n",
    "            \"domain_prefix\": \"CORES_\",\n",
    "        },\n",
    "        {\n",
    "            \"labels\": [\n",
    "                \"1-10\",\n",
    "                \"1-12\",\n",
    "                \"1-14\",\n",
    "                \"1-16\",\n",
    "                \"1-18\",\n",
    "                \"1-19\",\n",
    "                \"1-8\",\n",
    "                \"10-11\",\n",
    "                \"10-17\",\n",
    "                \"10-4\",\n",
    "                \"10-7\",\n",
    "                \"11-1\",\n",
    "                \"11-10\",\n",
    "                \"11-19\",\n",
    "                \"11-20\",\n",
    "                \"11-4\",\n",
    "                \"11-7\",\n",
    "                \"12-19\",\n",
    "                \"12-20\",\n",
    "                \"12-7\",\n",
    "                \"13-14\",\n",
    "                \"13-18\",\n",
    "                \"13-19\",\n",
    "                \"13-20\",\n",
    "                \"13-3\",\n",
    "                \"13-7\",\n",
    "                \"14-10\",\n",
    "                \"14-11\",\n",
    "                \"14-12\",\n",
    "                \"14-13\",\n",
    "                \"14-14\",\n",
    "                \"14-19\",\n",
    "                \"14-20\",\n",
    "                \"14-7\",\n",
    "                \"14-8\",\n",
    "                \"14-9\",\n",
    "                \"15-1\",\n",
    "                \"15-19\",\n",
    "                \"15-6\",\n",
    "                \"16-1\",\n",
    "                \"16-16\",\n",
    "                \"16-19\",\n",
    "                \"16-20\",\n",
    "                \"17-10\",\n",
    "                \"17-11\",\n",
    "                \"18-1\",\n",
    "                \"18-10\",\n",
    "                \"18-11\",\n",
    "                \"18-12\",\n",
    "                \"18-13\",\n",
    "                \"18-14\",\n",
    "                \"18-15\",\n",
    "                \"18-16\",\n",
    "                \"18-17\",\n",
    "                \"18-19\",\n",
    "                \"18-2\",\n",
    "                \"18-20\",\n",
    "                \"18-4\",\n",
    "                \"18-5\",\n",
    "                \"18-7\",\n",
    "                \"18-8\",\n",
    "                \"18-9\",\n",
    "                \"19-1\",\n",
    "                \"19-10\",\n",
    "                \"19-11\",\n",
    "                \"19-12\",\n",
    "                \"19-13\",\n",
    "                \"19-14\",\n",
    "                \"19-15\",\n",
    "                \"19-19\",\n",
    "                \"19-2\",\n",
    "                \"19-20\",\n",
    "                \"19-3\",\n",
    "                \"19-4\",\n",
    "                \"19-6\",\n",
    "                \"19-7\",\n",
    "                \"19-8\",\n",
    "                \"19-9\",\n",
    "                \"2-1\",\n",
    "                \"2-13\",\n",
    "                \"2-15\",\n",
    "                \"2-3\",\n",
    "                \"2-4\",\n",
    "                \"2-5\",\n",
    "                \"2-6\",\n",
    "                \"2-7\",\n",
    "                \"2-8\",\n",
    "                \"20-1\",\n",
    "                \"20-12\",\n",
    "                \"20-14\",\n",
    "                \"20-15\",\n",
    "                \"20-16\",\n",
    "                \"20-18\",\n",
    "                \"20-19\",\n",
    "                \"20-20\",\n",
    "                \"20-3\",\n",
    "                \"20-4\",\n",
    "                \"20-5\",\n",
    "                \"20-7\",\n",
    "                \"20-8\",\n",
    "                \"3-1\",\n",
    "                \"3-13\",\n",
    "                \"3-18\",\n",
    "                \"3-2\",\n",
    "                \"3-8\",\n",
    "                \"4-1\",\n",
    "                \"4-10\",\n",
    "                \"4-11\",\n",
    "                \"5-1\",\n",
    "                \"5-5\",\n",
    "                \"6-1\",\n",
    "                \"6-15\",\n",
    "                \"6-6\",\n",
    "                \"7-10\",\n",
    "                \"7-11\",\n",
    "                \"7-12\",\n",
    "                \"7-13\",\n",
    "                \"7-14\",\n",
    "                \"7-7\",\n",
    "                \"7-8\",\n",
    "                \"7-9\",\n",
    "                \"8-1\",\n",
    "                \"8-13\",\n",
    "                \"8-14\",\n",
    "                \"8-18\",\n",
    "                \"8-20\",\n",
    "                \"8-3\",\n",
    "                \"8-8\",\n",
    "                \"9-1\",\n",
    "                \"9-7\",\n",
    "            ],\n",
    "            \"domains\": [1, 2, 3, 4],\n",
    "            \"num_examples_per_domain_per_label\": -1,\n",
    "            \"pickle_path\": \"/root/csc500-main/datasets/wisig.node3-19.stratified_ds.2022A.pkl\",\n",
    "            \"source_or_target_dataset\": \"source\",\n",
    "            \"x_transforms\": [\"unit_power\"],\n",
    "            \"episode_transforms\": [],\n",
    "            \"domain_prefix\": \"Wisig_\",\n",
    "        },\n",
    "    ],\n",
    "    \"dataset_seed\": 1337,\n",
    "    \"seed\": 1337,\n",
    "}\n"
   ]
  },
  {
   "cell_type": "code",
   "execution_count": 5,
   "id": "8fa1cc33",
   "metadata": {
    "execution": {
     "iopub.execute_input": "2022-03-21T02:10:41.818885Z",
     "iopub.status.busy": "2022-03-21T02:10:41.818312Z",
     "iopub.status.idle": "2022-03-21T02:10:41.841959Z",
     "shell.execute_reply": "2022-03-21T02:10:41.841139Z"
    },
    "papermill": {
     "duration": 0.051092,
     "end_time": "2022-03-21T02:10:41.842120",
     "exception": false,
     "start_time": "2022-03-21T02:10:41.791028",
     "status": "completed"
    },
    "tags": []
   },
   "outputs": [],
   "source": [
    "# Set this to True if you want to run this template directly\n",
    "STANDALONE = False\n",
    "if STANDALONE:\n",
    "    print(\"parameters not injected, running with standalone_parameters\")\n",
    "    parameters = standalone_parameters\n",
    "\n",
    "if not 'parameters' in locals() and not 'parameters' in globals():\n",
    "    raise Exception(\"Parameter injection failed\")\n",
    "\n",
    "#Use an easy dict for all the parameters\n",
    "p = EasyDict(parameters)\n",
    "\n",
    "if \"x_shape\" not in p:\n",
    "    p.x_shape = [2,256] # Default to this if we dont supply x_shape\n",
    "\n",
    "\n",
    "supplied_keys = set(p.keys())\n",
    "\n",
    "if  supplied_keys != required_parameters:\n",
    "    print(\"Parameters are incorrect\")\n",
    "    if len(supplied_keys - required_parameters)>0: print(\"Shouldn't have:\", str(supplied_keys - required_parameters))\n",
    "    if len(required_parameters - supplied_keys)>0: print(\"Need to have:\", str(required_parameters - supplied_keys))\n",
    "    raise RuntimeError(\"Parameters are incorrect\")"
   ]
  },
  {
   "cell_type": "code",
   "execution_count": 6,
   "id": "3a028d58",
   "metadata": {
    "execution": {
     "iopub.execute_input": "2022-03-21T02:10:41.890201Z",
     "iopub.status.busy": "2022-03-21T02:10:41.889832Z",
     "iopub.status.idle": "2022-03-21T02:10:41.910144Z",
     "shell.execute_reply": "2022-03-21T02:10:41.909335Z"
    },
    "papermill": {
     "duration": 0.043161,
     "end_time": "2022-03-21T02:10:41.910303",
     "exception": false,
     "start_time": "2022-03-21T02:10:41.867142",
     "status": "completed"
    },
    "tags": []
   },
   "outputs": [],
   "source": [
    "###################################\n",
    "# Set the RNGs and make it all deterministic\n",
    "###################################\n",
    "np.random.seed(p.seed)\n",
    "random.seed(p.seed)\n",
    "torch.manual_seed(p.seed)\n",
    "\n",
    "torch.use_deterministic_algorithms(True) "
   ]
  },
  {
   "cell_type": "code",
   "execution_count": 7,
   "id": "b691acf6",
   "metadata": {
    "execution": {
     "iopub.execute_input": "2022-03-21T02:10:41.960816Z",
     "iopub.status.busy": "2022-03-21T02:10:41.960285Z",
     "iopub.status.idle": "2022-03-21T02:10:41.986610Z",
     "shell.execute_reply": "2022-03-21T02:10:41.985792Z"
    },
    "papermill": {
     "duration": 0.050224,
     "end_time": "2022-03-21T02:10:41.986769",
     "exception": false,
     "start_time": "2022-03-21T02:10:41.936545",
     "status": "completed"
    },
    "tags": []
   },
   "outputs": [],
   "source": [
    "###########################################\n",
    "# The stratified datasets honor this\n",
    "###########################################\n",
    "torch.set_default_dtype(eval(p.torch_default_dtype))"
   ]
  },
  {
   "cell_type": "code",
   "execution_count": 8,
   "id": "b5fba671",
   "metadata": {
    "execution": {
     "iopub.execute_input": "2022-03-21T02:10:42.039410Z",
     "iopub.status.busy": "2022-03-21T02:10:42.039041Z",
     "iopub.status.idle": "2022-03-21T02:10:42.096075Z",
     "shell.execute_reply": "2022-03-21T02:10:42.095221Z"
    },
    "papermill": {
     "duration": 0.081697,
     "end_time": "2022-03-21T02:10:42.096237",
     "exception": false,
     "start_time": "2022-03-21T02:10:42.014540",
     "status": "completed"
    },
    "tags": []
   },
   "outputs": [],
   "source": [
    "###################################\n",
    "# Build the network(s)\n",
    "# Note: It's critical to do this AFTER setting the RNG\n",
    "###################################\n",
    "x_net = build_sequential(p.x_net)"
   ]
  },
  {
   "cell_type": "code",
   "execution_count": 9,
   "id": "5d7e61cc",
   "metadata": {
    "execution": {
     "iopub.execute_input": "2022-03-21T02:10:42.148131Z",
     "iopub.status.busy": "2022-03-21T02:10:42.147764Z",
     "iopub.status.idle": "2022-03-21T02:10:42.173702Z",
     "shell.execute_reply": "2022-03-21T02:10:42.172886Z"
    },
    "papermill": {
     "duration": 0.05024,
     "end_time": "2022-03-21T02:10:42.173859",
     "exception": false,
     "start_time": "2022-03-21T02:10:42.123619",
     "status": "completed"
    },
    "tags": []
   },
   "outputs": [],
   "source": [
    "start_time_secs = time.time()"
   ]
  },
  {
   "cell_type": "code",
   "execution_count": 10,
   "id": "c6b67dfd",
   "metadata": {
    "execution": {
     "iopub.execute_input": "2022-03-21T02:10:42.226470Z",
     "iopub.status.busy": "2022-03-21T02:10:42.225909Z",
     "iopub.status.idle": "2022-03-21T02:10:42.247971Z",
     "shell.execute_reply": "2022-03-21T02:10:42.247133Z"
    },
    "papermill": {
     "duration": 0.047899,
     "end_time": "2022-03-21T02:10:42.248131",
     "exception": false,
     "start_time": "2022-03-21T02:10:42.200232",
     "status": "completed"
    },
    "tags": []
   },
   "outputs": [],
   "source": [
    "p.domains_source = []\n",
    "p.domains_target = []\n",
    "\n",
    "\n",
    "train_original_source = []\n",
    "val_original_source   = []\n",
    "test_original_source  = []\n",
    "\n",
    "train_original_target = []\n",
    "val_original_target   = []\n",
    "test_original_target  = []"
   ]
  },
  {
   "cell_type": "code",
   "execution_count": 11,
   "id": "e3d9c3d3",
   "metadata": {
    "execution": {
     "iopub.execute_input": "2022-03-21T02:10:42.301344Z",
     "iopub.status.busy": "2022-03-21T02:10:42.300977Z",
     "iopub.status.idle": "2022-03-21T02:10:42.319435Z",
     "shell.execute_reply": "2022-03-21T02:10:42.318621Z"
    },
    "papermill": {
     "duration": 0.041926,
     "end_time": "2022-03-21T02:10:42.319614",
     "exception": false,
     "start_time": "2022-03-21T02:10:42.277688",
     "status": "completed"
    },
    "tags": []
   },
   "outputs": [],
   "source": [
    "# global_x_transform_func = lambda x: normalize(x.to(torch.get_default_dtype()), \"unit_power\") # unit_power, unit_mag\n",
    "# global_x_transform_func = lambda x: normalize(x, \"unit_power\") # unit_power, unit_mag"
   ]
  },
  {
   "cell_type": "code",
   "execution_count": 12,
   "id": "acb78fd2",
   "metadata": {
    "execution": {
     "iopub.execute_input": "2022-03-21T02:10:42.377569Z",
     "iopub.status.busy": "2022-03-21T02:10:42.376979Z",
     "iopub.status.idle": "2022-03-21T02:10:42.397141Z",
     "shell.execute_reply": "2022-03-21T02:10:42.396320Z"
    },
    "papermill": {
     "duration": 0.047838,
     "end_time": "2022-03-21T02:10:42.397300",
     "exception": false,
     "start_time": "2022-03-21T02:10:42.349462",
     "status": "completed"
    },
    "tags": []
   },
   "outputs": [],
   "source": [
    "def add_dataset(\n",
    "    labels,\n",
    "    domains,\n",
    "    pickle_path,\n",
    "    x_transforms,\n",
    "    episode_transforms,\n",
    "    domain_prefix,\n",
    "    num_examples_per_domain_per_label,\n",
    "    source_or_target_dataset:str,\n",
    "    iterator_seed=p.seed,\n",
    "    dataset_seed=p.dataset_seed,\n",
    "    n_shot=p.n_shot,\n",
    "    n_way=p.n_way,\n",
    "    n_query=p.n_query,\n",
    "    train_val_test_k_factors=(p.train_k_factor,p.val_k_factor,p.test_k_factor),\n",
    "):\n",
    "   \n",
    "    if x_transforms == []: x_transform = None\n",
    "    else: x_transform = get_chained_transform(x_transforms)\n",
    "    \n",
    "    if episode_transforms == []: episode_transform = None\n",
    "    else: raise Exception(\"episode_transforms not implemented\")\n",
    "    \n",
    "    episode_transform = lambda tup, _prefix=domain_prefix: (_prefix + str(tup[0]), tup[1])\n",
    "\n",
    "\n",
    "    eaf = Episodic_Accessor_Factory(\n",
    "        labels=labels,\n",
    "        domains=domains,\n",
    "        num_examples_per_domain_per_label=num_examples_per_domain_per_label,\n",
    "        iterator_seed=iterator_seed,\n",
    "        dataset_seed=dataset_seed,\n",
    "        n_shot=n_shot,\n",
    "        n_way=n_way,\n",
    "        n_query=n_query,\n",
    "        train_val_test_k_factors=train_val_test_k_factors,\n",
    "        pickle_path=pickle_path,\n",
    "        x_transform_func=x_transform,\n",
    "    )\n",
    "\n",
    "    train, val, test = eaf.get_train(), eaf.get_val(), eaf.get_test()\n",
    "    train = Lazy_Iterable_Wrapper(train, episode_transform)\n",
    "    val = Lazy_Iterable_Wrapper(val, episode_transform)\n",
    "    test = Lazy_Iterable_Wrapper(test, episode_transform)\n",
    "\n",
    "    if source_or_target_dataset==\"source\":\n",
    "        train_original_source.append(train)\n",
    "        val_original_source.append(val)\n",
    "        test_original_source.append(test)\n",
    "\n",
    "        p.domains_source.extend(\n",
    "            [domain_prefix + str(u) for u in domains]\n",
    "        )\n",
    "    elif source_or_target_dataset==\"target\":\n",
    "        train_original_target.append(train)\n",
    "        val_original_target.append(val)\n",
    "        test_original_target.append(test)\n",
    "        p.domains_target.extend(\n",
    "            [domain_prefix + str(u) for u in domains]\n",
    "        )\n",
    "    else:\n",
    "        raise Exception(f\"invalid source_or_target_dataset: {source_or_target_dataset}\")\n",
    "    "
   ]
  },
  {
   "cell_type": "code",
   "execution_count": 13,
   "id": "fe266617",
   "metadata": {
    "execution": {
     "iopub.execute_input": "2022-03-21T02:10:42.451711Z",
     "iopub.status.busy": "2022-03-21T02:10:42.451315Z",
     "iopub.status.idle": "2022-03-21T02:11:25.709177Z",
     "shell.execute_reply": "2022-03-21T02:11:25.708435Z"
    },
    "papermill": {
     "duration": 43.282903,
     "end_time": "2022-03-21T02:11:25.709365",
     "exception": false,
     "start_time": "2022-03-21T02:10:42.426462",
     "status": "completed"
    },
    "tags": []
   },
   "outputs": [],
   "source": [
    "for ds in p.datasets:\n",
    "    add_dataset(**ds)"
   ]
  },
  {
   "cell_type": "code",
   "execution_count": 14,
   "id": "b90d65ac",
   "metadata": {
    "execution": {
     "iopub.execute_input": "2022-03-21T02:11:25.759429Z",
     "iopub.status.busy": "2022-03-21T02:11:25.759051Z",
     "iopub.status.idle": "2022-03-21T02:11:25.780481Z",
     "shell.execute_reply": "2022-03-21T02:11:25.779660Z"
    },
    "papermill": {
     "duration": 0.0456,
     "end_time": "2022-03-21T02:11:25.780640",
     "exception": false,
     "start_time": "2022-03-21T02:11:25.735040",
     "status": "completed"
    },
    "tags": []
   },
   "outputs": [],
   "source": [
    "# from steves_utils.CORES.utils import (\n",
    "#     ALL_NODES,\n",
    "#     ALL_NODES_MINIMUM_1000_EXAMPLES,\n",
    "#     ALL_DAYS\n",
    "# )\n",
    "\n",
    "# add_dataset(\n",
    "#     labels=ALL_NODES,\n",
    "#     domains = ALL_DAYS,\n",
    "#     num_examples_per_domain_per_label=100,\n",
    "#     pickle_path=os.path.join(get_datasets_base_path(), \"cores.stratified_ds.2022A.pkl\"),\n",
    "#     source_or_target_dataset=\"target\",\n",
    "#     x_transform_func=global_x_transform_func,\n",
    "#     domain_modifier=lambda u: f\"cores_{u}\"\n",
    "# )"
   ]
  },
  {
   "cell_type": "code",
   "execution_count": 15,
   "id": "76db484d",
   "metadata": {
    "execution": {
     "iopub.execute_input": "2022-03-21T02:11:25.834185Z",
     "iopub.status.busy": "2022-03-21T02:11:25.833811Z",
     "iopub.status.idle": "2022-03-21T02:11:25.851418Z",
     "shell.execute_reply": "2022-03-21T02:11:25.850606Z"
    },
    "papermill": {
     "duration": 0.04141,
     "end_time": "2022-03-21T02:11:25.851590",
     "exception": false,
     "start_time": "2022-03-21T02:11:25.810180",
     "status": "completed"
    },
    "tags": []
   },
   "outputs": [],
   "source": [
    "# from steves_utils.ORACLE.utils_v2 import (\n",
    "#     ALL_DISTANCES_FEET,\n",
    "#     ALL_RUNS,\n",
    "#     ALL_SERIAL_NUMBERS,\n",
    "# )\n",
    "\n",
    "\n",
    "# add_dataset(\n",
    "#     labels=ALL_SERIAL_NUMBERS,\n",
    "#     domains = list(set(ALL_DISTANCES_FEET) - {2,62}),\n",
    "#     num_examples_per_domain_per_label=100,\n",
    "#     pickle_path=os.path.join(get_datasets_base_path(), \"oracle.Run2_framed_2000Examples_stratified_ds.2022A.pkl\"),\n",
    "#     source_or_target_dataset=\"source\",\n",
    "#     x_transform_func=global_x_transform_func,\n",
    "#     domain_modifier=lambda u: f\"oracle1_{u}\"\n",
    "# )\n"
   ]
  },
  {
   "cell_type": "code",
   "execution_count": 16,
   "id": "97dea9d2",
   "metadata": {
    "execution": {
     "iopub.execute_input": "2022-03-21T02:11:25.903098Z",
     "iopub.status.busy": "2022-03-21T02:11:25.902131Z",
     "iopub.status.idle": "2022-03-21T02:11:25.922861Z",
     "shell.execute_reply": "2022-03-21T02:11:25.922047Z"
    },
    "papermill": {
     "duration": 0.04529,
     "end_time": "2022-03-21T02:11:25.923016",
     "exception": false,
     "start_time": "2022-03-21T02:11:25.877726",
     "status": "completed"
    },
    "tags": []
   },
   "outputs": [],
   "source": [
    "# from steves_utils.ORACLE.utils_v2 import (\n",
    "#     ALL_DISTANCES_FEET,\n",
    "#     ALL_RUNS,\n",
    "#     ALL_SERIAL_NUMBERS,\n",
    "# )\n",
    "\n",
    "\n",
    "# add_dataset(\n",
    "#     labels=ALL_SERIAL_NUMBERS,\n",
    "#     domains = list(set(ALL_DISTANCES_FEET) - {2,62,56}),\n",
    "#     num_examples_per_domain_per_label=100,\n",
    "#     pickle_path=os.path.join(get_datasets_base_path(), \"oracle.Run2_framed_2000Examples_stratified_ds.2022A.pkl\"),\n",
    "#     source_or_target_dataset=\"source\",\n",
    "#     x_transform_func=global_x_transform_func,\n",
    "#     domain_modifier=lambda u: f\"oracle2_{u}\"\n",
    "# )"
   ]
  },
  {
   "cell_type": "code",
   "execution_count": 17,
   "id": "6f289866",
   "metadata": {
    "execution": {
     "iopub.execute_input": "2022-03-21T02:11:25.975271Z",
     "iopub.status.busy": "2022-03-21T02:11:25.974432Z",
     "iopub.status.idle": "2022-03-21T02:11:25.994463Z",
     "shell.execute_reply": "2022-03-21T02:11:25.993651Z"
    },
    "papermill": {
     "duration": 0.044988,
     "end_time": "2022-03-21T02:11:25.994641",
     "exception": false,
     "start_time": "2022-03-21T02:11:25.949653",
     "status": "completed"
    },
    "tags": []
   },
   "outputs": [],
   "source": [
    "# add_dataset(\n",
    "#     labels=list(range(19)),\n",
    "#     domains = [0,1,2],\n",
    "#     num_examples_per_domain_per_label=100,\n",
    "#     pickle_path=os.path.join(get_datasets_base_path(), \"metehan.stratified_ds.2022A.pkl\"),\n",
    "#     source_or_target_dataset=\"target\",\n",
    "#     x_transform_func=global_x_transform_func,\n",
    "#     domain_modifier=lambda u: f\"met_{u}\"\n",
    "# )"
   ]
  },
  {
   "cell_type": "code",
   "execution_count": 18,
   "id": "86a863c3",
   "metadata": {
    "execution": {
     "iopub.execute_input": "2022-03-21T02:11:26.049581Z",
     "iopub.status.busy": "2022-03-21T02:11:26.049010Z",
     "iopub.status.idle": "2022-03-21T02:11:26.069946Z",
     "shell.execute_reply": "2022-03-21T02:11:26.069131Z"
    },
    "papermill": {
     "duration": 0.046316,
     "end_time": "2022-03-21T02:11:26.070104",
     "exception": false,
     "start_time": "2022-03-21T02:11:26.023788",
     "status": "completed"
    },
    "tags": []
   },
   "outputs": [],
   "source": [
    "# # from steves_utils.wisig.utils import (\n",
    "# #     ALL_NODES_MINIMUM_100_EXAMPLES,\n",
    "# #     ALL_NODES_MINIMUM_500_EXAMPLES,\n",
    "# #     ALL_NODES_MINIMUM_1000_EXAMPLES,\n",
    "# #     ALL_DAYS\n",
    "# # )\n",
    "\n",
    "# import steves_utils.wisig.utils as wisig\n",
    "\n",
    "\n",
    "# add_dataset(\n",
    "#     labels=wisig.ALL_NODES_MINIMUM_100_EXAMPLES,\n",
    "#     domains = wisig.ALL_DAYS,\n",
    "#     num_examples_per_domain_per_label=100,\n",
    "#     pickle_path=os.path.join(get_datasets_base_path(), \"wisig.node3-19.stratified_ds.2022A.pkl\"),\n",
    "#     source_or_target_dataset=\"target\",\n",
    "#     x_transform_func=global_x_transform_func,\n",
    "#     domain_modifier=lambda u: f\"wisig_{u}\"\n",
    "# )"
   ]
  },
  {
   "cell_type": "code",
   "execution_count": 19,
   "id": "fd5442bc",
   "metadata": {
    "execution": {
     "iopub.execute_input": "2022-03-21T02:11:26.128865Z",
     "iopub.status.busy": "2022-03-21T02:11:26.128285Z",
     "iopub.status.idle": "2022-03-21T02:11:26.146224Z",
     "shell.execute_reply": "2022-03-21T02:11:26.145411Z"
    },
    "papermill": {
     "duration": 0.049144,
     "end_time": "2022-03-21T02:11:26.146381",
     "exception": false,
     "start_time": "2022-03-21T02:11:26.097237",
     "status": "completed"
    },
    "tags": []
   },
   "outputs": [],
   "source": [
    "###################################\n",
    "# Build the dataset\n",
    "###################################\n",
    "train_original_source = Iterable_Aggregator(train_original_source, p.seed)\n",
    "val_original_source = Iterable_Aggregator(val_original_source, p.seed)\n",
    "test_original_source = Iterable_Aggregator(test_original_source, p.seed)\n",
    "\n",
    "\n",
    "train_original_target = Iterable_Aggregator(train_original_target, p.seed)\n",
    "val_original_target = Iterable_Aggregator(val_original_target, p.seed)\n",
    "test_original_target = Iterable_Aggregator(test_original_target, p.seed)\n",
    "\n",
    "# For CNN We only use X and Y. And we only train on the source.\n",
    "# Properly form the data using a transform lambda and Lazy_Iterable_Wrapper. Finally wrap them in a dataloader\n",
    "\n",
    "transform_lambda = lambda ex: ex[1] # Original is (<domain>, <episode>) so we strip down to episode only\n",
    "\n",
    "train_processed_source = Lazy_Iterable_Wrapper(train_original_source, transform_lambda)\n",
    "val_processed_source   = Lazy_Iterable_Wrapper(val_original_source, transform_lambda)\n",
    "test_processed_source  = Lazy_Iterable_Wrapper(test_original_source, transform_lambda)\n",
    "\n",
    "train_processed_target = Lazy_Iterable_Wrapper(train_original_target, transform_lambda)\n",
    "val_processed_target   = Lazy_Iterable_Wrapper(val_original_target, transform_lambda)\n",
    "test_processed_target  = Lazy_Iterable_Wrapper(test_original_target, transform_lambda)\n",
    "\n",
    "datasets = EasyDict({\n",
    "    \"source\": {\n",
    "        \"original\": {\"train\":train_original_source, \"val\":val_original_source, \"test\":test_original_source},\n",
    "        \"processed\": {\"train\":train_processed_source, \"val\":val_processed_source, \"test\":test_processed_source}\n",
    "    },\n",
    "    \"target\": {\n",
    "        \"original\": {\"train\":train_original_target, \"val\":val_original_target, \"test\":test_original_target},\n",
    "        \"processed\": {\"train\":train_processed_target, \"val\":val_processed_target, \"test\":test_processed_target}\n",
    "    },\n",
    "})"
   ]
  },
  {
   "cell_type": "code",
   "execution_count": 20,
   "id": "5b3c01fc",
   "metadata": {
    "execution": {
     "iopub.execute_input": "2022-03-21T02:11:26.200855Z",
     "iopub.status.busy": "2022-03-21T02:11:26.200450Z",
     "iopub.status.idle": "2022-03-21T02:11:36.667075Z",
     "shell.execute_reply": "2022-03-21T02:11:36.667810Z"
    },
    "papermill": {
     "duration": 10.494734,
     "end_time": "2022-03-21T02:11:36.668049",
     "exception": false,
     "start_time": "2022-03-21T02:11:26.173315",
     "status": "completed"
    },
    "tags": []
   },
   "outputs": [
    {
     "name": "stdout",
     "output_type": "stream",
     "text": [
      "{'Wisig_1', 'Wisig_2', 'Wisig_3', 'Wisig_4'}\n"
     ]
    },
    {
     "name": "stdout",
     "output_type": "stream",
     "text": [
      "{'CORES_3', 'CORES_1', 'CORES_4', 'CORES_2', 'CORES_5'}\n"
     ]
    },
    {
     "name": "stdout",
     "output_type": "stream",
     "text": [
      "tensor([[[-0.5484, -0.3373, -0.6147,  ...,  0.0352, -0.0559, -0.3870],\n",
      "         [-0.2546,  0.0662,  0.5236,  ...,  0.4367,  0.2897,  0.6084]],\n",
      "\n",
      "        [[-0.5219, -1.1235, -1.6568,  ..., -0.8369, -0.7857, -0.4080],\n",
      "         [ 1.1709, -0.0930, -0.8028,  ...,  0.7269,  0.3074, -0.0152]],\n",
      "\n",
      "        [[-0.6716, -0.3369, -0.3453,  ...,  0.4148,  0.1874,  0.0021],\n",
      "         [-0.2611, -0.0842,  0.5074,  ...,  0.4948,  0.2421,  0.6843]],\n",
      "\n",
      "        ...,\n",
      "\n",
      "        [[-0.6736, -1.1910,  0.0779,  ..., -0.8076, -0.9938,  0.1564],\n",
      "         [ 1.0999, -0.4280, -1.3280,  ...,  0.5019, -0.4641, -1.0929]],\n",
      "\n",
      "        [[-0.1137, -0.2301, -0.8940,  ..., -0.1001, -0.2344, -0.2459],\n",
      "         [-0.1322,  0.1841, -0.5134,  ...,  0.0251, -0.3026, -0.7306]],\n",
      "\n",
      "        [[-0.0740, -0.1122,  0.0812,  ...,  0.5655, -0.0568, -0.3973],\n",
      "         [ 0.0285,  0.0590,  0.3906,  ..., -0.2516,  0.1101,  0.1615]]])\n"
     ]
    }
   ],
   "source": [
    "from steves_utils.transforms import get_average_magnitude, get_average_power\n",
    "\n",
    "print(set([u for u,_ in val_original_source]))\n",
    "print(set([u for u,_ in val_original_target]))\n",
    "\n",
    "s_x, s_y, q_x, q_y, _ = next(iter(train_processed_source))\n",
    "print(s_x)\n",
    "\n",
    "# for ds in [\n",
    "#     train_processed_source,\n",
    "#     val_processed_source,\n",
    "#     test_processed_source,\n",
    "#     train_processed_target,\n",
    "#     val_processed_target,\n",
    "#     test_processed_target\n",
    "# ]:\n",
    "#     for s_x, s_y, q_x, q_y, _ in ds:\n",
    "#         for X in (s_x, q_x):\n",
    "#             for x in X:\n",
    "#                 assert np.isclose(get_average_magnitude(x.numpy()), 1.0)\n",
    "#                 assert np.isclose(get_average_power(x.numpy()), 1.0)\n",
    "                "
   ]
  },
  {
   "cell_type": "code",
   "execution_count": 21,
   "id": "bbdacba1",
   "metadata": {
    "execution": {
     "iopub.execute_input": "2022-03-21T02:11:36.724850Z",
     "iopub.status.busy": "2022-03-21T02:11:36.724471Z",
     "iopub.status.idle": "2022-03-21T02:11:36.953410Z",
     "shell.execute_reply": "2022-03-21T02:11:36.952673Z"
    },
    "papermill": {
     "duration": 0.258143,
     "end_time": "2022-03-21T02:11:36.953606",
     "exception": false,
     "start_time": "2022-03-21T02:11:36.695463",
     "status": "completed"
    },
    "tags": []
   },
   "outputs": [
    {
     "name": "stdout",
     "output_type": "stream",
     "text": [
      "(2, 256)\n"
     ]
    }
   ],
   "source": [
    "###################################\n",
    "# Build the model\n",
    "###################################\n",
    "# easfsl only wants a tuple for the shape\n",
    "model = Steves_Prototypical_Network(x_net, device=p.device, x_shape=tuple(p.x_shape))\n",
    "optimizer = Adam(params=model.parameters(), lr=p.lr)"
   ]
  },
  {
   "cell_type": "code",
   "execution_count": 22,
   "id": "22b39ac5",
   "metadata": {
    "execution": {
     "iopub.execute_input": "2022-03-21T02:11:37.009902Z",
     "iopub.status.busy": "2022-03-21T02:11:37.009532Z",
     "iopub.status.idle": "2022-03-21T02:17:01.321105Z",
     "shell.execute_reply": "2022-03-21T02:17:01.321432Z"
    },
    "papermill": {
     "duration": 324.339032,
     "end_time": "2022-03-21T02:17:01.321552",
     "exception": false,
     "start_time": "2022-03-21T02:11:36.982520",
     "status": "completed"
    },
    "tags": []
   },
   "outputs": [
    {
     "name": "stdout",
     "output_type": "stream",
     "text": [
      "epoch: 1, [batch: 1 / 905], examples_per_second: 212.9263, train_label_loss: 3.8321, \n"
     ]
    },
    {
     "name": "stdout",
     "output_type": "stream",
     "text": [
      "epoch: 1, [batch: 91 / 905], examples_per_second: 3430.6270, train_label_loss: 1.0447, \n"
     ]
    },
    {
     "name": "stdout",
     "output_type": "stream",
     "text": [
      "epoch: 1, [batch: 181 / 905], examples_per_second: 3127.8890, train_label_loss: 0.6887, \n"
     ]
    },
    {
     "name": "stdout",
     "output_type": "stream",
     "text": [
      "epoch: 1, [batch: 272 / 905], examples_per_second: 3094.1107, train_label_loss: 0.4701, \n"
     ]
    },
    {
     "name": "stdout",
     "output_type": "stream",
     "text": [
      "epoch: 1, [batch: 362 / 905], examples_per_second: 3191.3918, train_label_loss: 0.5109, \n"
     ]
    },
    {
     "name": "stdout",
     "output_type": "stream",
     "text": [
      "epoch: 1, [batch: 453 / 905], examples_per_second: 3081.2249, train_label_loss: 0.3773, \n"
     ]
    },
    {
     "name": "stdout",
     "output_type": "stream",
     "text": [
      "epoch: 1, [batch: 543 / 905], examples_per_second: 3088.0047, train_label_loss: 0.4502, \n"
     ]
    },
    {
     "name": "stdout",
     "output_type": "stream",
     "text": [
      "epoch: 1, [batch: 633 / 905], examples_per_second: 3097.0436, train_label_loss: 0.4843, \n"
     ]
    },
    {
     "name": "stdout",
     "output_type": "stream",
     "text": [
      "epoch: 1, [batch: 724 / 905], examples_per_second: 3470.2345, train_label_loss: 0.3525, \n"
     ]
    },
    {
     "name": "stdout",
     "output_type": "stream",
     "text": [
      "epoch: 1, [batch: 814 / 905], examples_per_second: 3416.9804, train_label_loss: 0.5760, \n"
     ]
    },
    {
     "name": "stdout",
     "output_type": "stream",
     "text": [
      "=============================================================\n",
      "epoch: 1, source_val_acc_label: 0.9348, target_val_acc_label: 0.9688, source_val_label_loss: 0.3299, target_val_label_loss: 0.2518, \n",
      "=============================================================\n"
     ]
    },
    {
     "name": "stdout",
     "output_type": "stream",
     "text": [
      "New best\n"
     ]
    },
    {
     "name": "stdout",
     "output_type": "stream",
     "text": [
      "epoch: 2, [batch: 1 / 914], examples_per_second: 25.9442, train_label_loss: 0.5665, \n"
     ]
    },
    {
     "name": "stdout",
     "output_type": "stream",
     "text": [
      "epoch: 2, [batch: 92 / 914], examples_per_second: 3432.2833, train_label_loss: 0.1161, \n"
     ]
    },
    {
     "name": "stdout",
     "output_type": "stream",
     "text": [
      "epoch: 2, [batch: 183 / 914], examples_per_second: 4134.6297, train_label_loss: 0.4439, \n"
     ]
    },
    {
     "name": "stdout",
     "output_type": "stream",
     "text": [
      "epoch: 2, [batch: 274 / 914], examples_per_second: 3113.8937, train_label_loss: 0.0691, \n"
     ]
    },
    {
     "name": "stdout",
     "output_type": "stream",
     "text": [
      "epoch: 2, [batch: 366 / 914], examples_per_second: 2995.2172, train_label_loss: 0.5362, \n"
     ]
    },
    {
     "name": "stdout",
     "output_type": "stream",
     "text": [
      "epoch: 2, [batch: 457 / 914], examples_per_second: 3058.1397, train_label_loss: 0.1320, \n"
     ]
    },
    {
     "name": "stdout",
     "output_type": "stream",
     "text": [
      "epoch: 2, [batch: 548 / 914], examples_per_second: 3096.1887, train_label_loss: 0.3062, \n"
     ]
    },
    {
     "name": "stdout",
     "output_type": "stream",
     "text": [
      "epoch: 2, [batch: 640 / 914], examples_per_second: 3053.5740, train_label_loss: 0.3076, \n"
     ]
    },
    {
     "name": "stdout",
     "output_type": "stream",
     "text": [
      "epoch: 2, [batch: 731 / 914], examples_per_second: 3058.5243, train_label_loss: 0.1639, \n"
     ]
    },
    {
     "name": "stdout",
     "output_type": "stream",
     "text": [
      "epoch: 2, [batch: 822 / 914], examples_per_second: 3091.1616, train_label_loss: 0.1257, \n"
     ]
    },
    {
     "name": "stdout",
     "output_type": "stream",
     "text": [
      "=============================================================\n",
      "epoch: 2, source_val_acc_label: 0.9559, target_val_acc_label: 0.9758, source_val_label_loss: 0.2429, target_val_label_loss: 0.1586, \n",
      "=============================================================\n"
     ]
    },
    {
     "name": "stdout",
     "output_type": "stream",
     "text": [
      "New best\n"
     ]
    },
    {
     "name": "stdout",
     "output_type": "stream",
     "text": [
      "epoch: 3, [batch: 1 / 916], examples_per_second: 22.8421, train_label_loss: 0.1860, \n"
     ]
    },
    {
     "name": "stdout",
     "output_type": "stream",
     "text": [
      "epoch: 3, [batch: 92 / 916], examples_per_second: 3041.5715, train_label_loss: 0.1405, \n"
     ]
    },
    {
     "name": "stdout",
     "output_type": "stream",
     "text": [
      "epoch: 3, [batch: 184 / 916], examples_per_second: 3395.8413, train_label_loss: 0.1491, \n"
     ]
    },
    {
     "name": "stdout",
     "output_type": "stream",
     "text": [
      "epoch: 3, [batch: 275 / 916], examples_per_second: 3510.8195, train_label_loss: 0.2115, \n"
     ]
    },
    {
     "name": "stdout",
     "output_type": "stream",
     "text": [
      "epoch: 3, [batch: 367 / 916], examples_per_second: 3448.8391, train_label_loss: 0.1749, \n"
     ]
    },
    {
     "name": "stdout",
     "output_type": "stream",
     "text": [
      "epoch: 3, [batch: 458 / 916], examples_per_second: 3622.2334, train_label_loss: 0.2662, \n"
     ]
    },
    {
     "name": "stdout",
     "output_type": "stream",
     "text": [
      "epoch: 3, [batch: 550 / 916], examples_per_second: 475.2316, train_label_loss: 0.2954, \n"
     ]
    },
    {
     "name": "stdout",
     "output_type": "stream",
     "text": [
      "epoch: 3, [batch: 641 / 916], examples_per_second: 4471.1914, train_label_loss: 0.2026, \n"
     ]
    },
    {
     "name": "stdout",
     "output_type": "stream",
     "text": [
      "epoch: 3, [batch: 733 / 916], examples_per_second: 4724.9423, train_label_loss: 0.1605, \n"
     ]
    },
    {
     "name": "stdout",
     "output_type": "stream",
     "text": [
      "epoch: 3, [batch: 824 / 916], examples_per_second: 4778.7806, train_label_loss: 0.0153, \n"
     ]
    },
    {
     "name": "stdout",
     "output_type": "stream",
     "text": [
      "=============================================================\n",
      "epoch: 3, source_val_acc_label: 0.9588, target_val_acc_label: 0.9732, source_val_label_loss: 0.2292, target_val_label_loss: 0.1633, \n",
      "=============================================================\n"
     ]
    }
   ],
   "source": [
    "###################################\n",
    "# train\n",
    "###################################\n",
    "jig = PTN_Train_Eval_Test_Jig(model, p.BEST_MODEL_PATH, p.device)\n",
    "\n",
    "jig.train(\n",
    "    train_iterable=datasets.source.processed.train,\n",
    "    source_val_iterable=datasets.source.processed.val,\n",
    "    target_val_iterable=datasets.target.processed.val,\n",
    "    num_epochs=p.n_epoch,\n",
    "    num_logs_per_epoch=p.NUM_LOGS_PER_EPOCH,\n",
    "    patience=p.patience,\n",
    "    optimizer=optimizer,\n",
    "    criteria_for_best=p.criteria_for_best,\n",
    ")"
   ]
  },
  {
   "cell_type": "code",
   "execution_count": 23,
   "id": "31e8fabf",
   "metadata": {
    "execution": {
     "iopub.execute_input": "2022-03-21T02:17:01.391475Z",
     "iopub.status.busy": "2022-03-21T02:17:01.390916Z",
     "iopub.status.idle": "2022-03-21T02:17:01.422845Z",
     "shell.execute_reply": "2022-03-21T02:17:01.422141Z"
    },
    "papermill": {
     "duration": 0.069433,
     "end_time": "2022-03-21T02:17:01.422999",
     "exception": false,
     "start_time": "2022-03-21T02:17:01.353566",
     "status": "completed"
    },
    "tags": []
   },
   "outputs": [],
   "source": [
    "total_experiment_time_secs = time.time() - start_time_secs"
   ]
  },
  {
   "cell_type": "code",
   "execution_count": 24,
   "id": "87b9595b",
   "metadata": {
    "execution": {
     "iopub.execute_input": "2022-03-21T02:17:01.504879Z",
     "iopub.status.busy": "2022-03-21T02:17:01.504007Z",
     "iopub.status.idle": "2022-03-21T02:17:49.597977Z",
     "shell.execute_reply": "2022-03-21T02:17:49.597181Z"
    },
    "papermill": {
     "duration": 48.136423,
     "end_time": "2022-03-21T02:17:49.598174",
     "exception": false,
     "start_time": "2022-03-21T02:17:01.461751",
     "status": "completed"
    },
    "tags": []
   },
   "outputs": [],
   "source": [
    "###################################\n",
    "# Evaluate the model\n",
    "###################################\n",
    "source_test_label_accuracy, source_test_label_loss = jig.test(datasets.source.processed.test)\n",
    "target_test_label_accuracy, target_test_label_loss = jig.test(datasets.target.processed.test)\n",
    "\n",
    "source_val_label_accuracy, source_val_label_loss = jig.test(datasets.source.processed.val)\n",
    "target_val_label_accuracy, target_val_label_loss = jig.test(datasets.target.processed.val)\n",
    "\n",
    "history = jig.get_history()\n",
    "\n",
    "total_epochs_trained = len(history[\"epoch_indices\"])\n",
    "\n",
    "val_dl = Iterable_Aggregator((datasets.source.original.val,datasets.target.original.val))\n",
    "\n",
    "confusion = ptn_confusion_by_domain_over_dataloader(model, p.device, val_dl)\n",
    "per_domain_accuracy = per_domain_accuracy_from_confusion(confusion)\n",
    "\n",
    "# Add a key to per_domain_accuracy for if it was a source domain\n",
    "for domain, accuracy in per_domain_accuracy.items():\n",
    "    per_domain_accuracy[domain] = {\n",
    "        \"accuracy\": accuracy,\n",
    "        \"source?\": domain in p.domains_source\n",
    "    }\n",
    "\n",
    "# Do an independent accuracy assesment JUST TO BE SURE!\n",
    "# _source_test_label_accuracy = independent_accuracy_assesment(model, datasets.source.processed.test, p.device)\n",
    "# _target_test_label_accuracy = independent_accuracy_assesment(model, datasets.target.processed.test, p.device)\n",
    "# _source_val_label_accuracy = independent_accuracy_assesment(model, datasets.source.processed.val, p.device)\n",
    "# _target_val_label_accuracy = independent_accuracy_assesment(model, datasets.target.processed.val, p.device)\n",
    "\n",
    "# assert(_source_test_label_accuracy == source_test_label_accuracy)\n",
    "# assert(_target_test_label_accuracy == target_test_label_accuracy)\n",
    "# assert(_source_val_label_accuracy == source_val_label_accuracy)\n",
    "# assert(_target_val_label_accuracy == target_val_label_accuracy)\n",
    "\n",
    "experiment = {\n",
    "    \"experiment_name\": p.experiment_name,\n",
    "    \"parameters\": dict(p),\n",
    "    \"results\": {\n",
    "        \"source_test_label_accuracy\": source_test_label_accuracy,\n",
    "        \"source_test_label_loss\": source_test_label_loss,\n",
    "        \"target_test_label_accuracy\": target_test_label_accuracy,\n",
    "        \"target_test_label_loss\": target_test_label_loss,\n",
    "        \"source_val_label_accuracy\": source_val_label_accuracy,\n",
    "        \"source_val_label_loss\": source_val_label_loss,\n",
    "        \"target_val_label_accuracy\": target_val_label_accuracy,\n",
    "        \"target_val_label_loss\": target_val_label_loss,\n",
    "        \"total_epochs_trained\": total_epochs_trained,\n",
    "        \"total_experiment_time_secs\": total_experiment_time_secs,\n",
    "        \"confusion\": confusion,\n",
    "        \"per_domain_accuracy\": per_domain_accuracy,\n",
    "    },\n",
    "    \"history\": history,\n",
    "    \"dataset_metrics\": get_dataset_metrics(datasets, \"ptn\"),\n",
    "}"
   ]
  },
  {
   "cell_type": "code",
   "execution_count": 25,
   "id": "54a21829",
   "metadata": {
    "execution": {
     "iopub.execute_input": "2022-03-21T02:17:49.675268Z",
     "iopub.status.busy": "2022-03-21T02:17:49.674629Z",
     "iopub.status.idle": "2022-03-21T02:17:49.898005Z",
     "shell.execute_reply": "2022-03-21T02:17:49.898705Z"
    },
    "papermill": {
     "duration": 0.261697,
     "end_time": "2022-03-21T02:17:49.898922",
     "exception": false,
     "start_time": "2022-03-21T02:17:49.637225",
     "status": "completed"
    },
    "tags": []
   },
   "outputs": [
    {
     "data": {
      "image/png": "[encoded data removed]",
      "text/plain": [
       "<Figure size 1080x504 with 1 Axes>"
      ]
     },
     "metadata": {
      "needs_background": "light"
     },
     "output_type": "display_data"
    }
   ],
   "source": [
    "ax = get_loss_curve(experiment)\n",
    "plt.show()"
   ]
  },
  {
   "cell_type": "code",
   "execution_count": 26,
   "id": "fd8a0f60",
   "metadata": {
    "execution": {
     "iopub.execute_input": "2022-03-21T02:17:49.974732Z",
     "iopub.status.busy": "2022-03-21T02:17:49.974167Z",
     "iopub.status.idle": "2022-03-21T02:17:50.295105Z",
     "shell.execute_reply": "2022-03-21T02:17:50.295424Z"
    },
    "papermill": {
     "duration": 0.35945,
     "end_time": "2022-03-21T02:17:50.295552",
     "exception": false,
     "start_time": "2022-03-21T02:17:49.936102",
     "status": "completed"
    },
    "tags": []
   },
   "outputs": [
    {
     "data": {
      "text/plain": [
       "<AxesSubplot:title={'center':'Results'}>"
      ]
     },
     "execution_count": 26,
     "metadata": {},
     "output_type": "execute_result"
    },
    {
     "data": {
      "image/png": "[encoded data removed]",
      "text/plain": [
       "<Figure size 1080x504 with 1 Axes>"
      ]
     },
     "metadata": {
      "needs_background": "light"
     },
     "output_type": "display_data"
    }
   ],
   "source": [
    "get_results_table(experiment)"
   ]
  },
  {
   "cell_type": "code",
   "execution_count": 27,
   "id": "cf8dc689",
   "metadata": {
    "execution": {
     "iopub.execute_input": "2022-03-21T02:17:50.370144Z",
     "iopub.status.busy": "2022-03-21T02:17:50.369769Z",
     "iopub.status.idle": "2022-03-21T02:17:50.607299Z",
     "shell.execute_reply": "2022-03-21T02:17:50.606546Z"
    },
    "papermill": {
     "duration": 0.276173,
     "end_time": "2022-03-21T02:17:50.607477",
     "exception": false,
     "start_time": "2022-03-21T02:17:50.331304",
     "status": "completed"
    },
    "tags": []
   },
   "outputs": [
    {
     "data": {
      "text/plain": [
       "<AxesSubplot:title={'center':'Per Domain Validation Accuracy'}, xlabel='domain'>"
      ]
     },
     "execution_count": 27,
     "metadata": {},
     "output_type": "execute_result"
    },
    {
     "data": {
      "image/png": "[encoded data removed]",
      "text/plain": [
       "<Figure size 1080x504 with 1 Axes>"
      ]
     },
     "metadata": {
      "needs_background": "light"
     },
     "output_type": "display_data"
    }
   ],
   "source": [
    "get_domain_accuracies(experiment)"
   ]
  },
  {
   "cell_type": "code",
   "execution_count": 28,
   "id": "a74ae082",
   "metadata": {
    "execution": {
     "iopub.execute_input": "2022-03-21T02:17:50.693278Z",
     "iopub.status.busy": "2022-03-21T02:17:50.692892Z",
     "iopub.status.idle": "2022-03-21T02:17:50.720840Z",
     "shell.execute_reply": "2022-03-21T02:17:50.720007Z"
    },
    "papermill": {
     "duration": 0.069423,
     "end_time": "2022-03-21T02:17:50.721005",
     "exception": false,
     "start_time": "2022-03-21T02:17:50.651582",
     "status": "completed"
    },
    "tags": []
   },
   "outputs": [
    {
     "name": "stdout",
     "output_type": "stream",
     "text": [
      "Source Test Label Accuracy: 0.9567063894523327 Target Test Label Accuracy: 0.9722413793103448\n",
      "Source Val Label Accuracy: 0.9558863146551724 Target Val Label Accuracy: 0.9757543103448276\n"
     ]
    }
   ],
   "source": [
    "print(\"Source Test Label Accuracy:\", experiment[\"results\"][\"source_test_label_accuracy\"], \"Target Test Label Accuracy:\", experiment[\"results\"][\"target_test_label_accuracy\"])\n",
    "print(\"Source Val Label Accuracy:\", experiment[\"results\"][\"source_val_label_accuracy\"], \"Target Val Label Accuracy:\", experiment[\"results\"][\"target_val_label_accuracy\"])"
   ]
  },
  {
   "cell_type": "code",
   "execution_count": 29,
   "id": "dacca602",
   "metadata": {
    "execution": {
     "iopub.execute_input": "2022-03-21T02:17:50.807354Z",
     "iopub.status.busy": "2022-03-21T02:17:50.806976Z",
     "iopub.status.idle": "2022-03-21T02:17:50.835315Z",
     "shell.execute_reply": "2022-03-21T02:17:50.836018Z"
    },
    "papermill": {
     "duration": 0.069586,
     "end_time": "2022-03-21T02:17:50.836214",
     "exception": false,
     "start_time": "2022-03-21T02:17:50.766628",
     "status": "completed"
    },
    "tags": [
     "experiment_json"
    ]
   },
   "outputs": [
    {
     "data": {
      "text/plain": [
       "'{\"experiment_name\": \"tl_1v2:cores-wisig\", \"parameters\": {\"experiment_name\": \"tl_1v2:cores-wisig\", \"device\": \"cuda\", \"lr\": 0.0001, \"n_shot\": 3, \"n_query\": 2, \"train_k_factor\": 3, \"val_k_factor\": 2, \"test_k_factor\": 2, \"torch_default_dtype\": \"torch.float32\", \"n_epoch\": 3, \"patience\": 3, \"criteria_for_best\": \"target_accuracy\", \"x_net\": [{\"class\": \"nnReshape\", \"kargs\": {\"shape\": [-1, 1, 2, 256]}}, {\"class\": \"Conv2d\", \"kargs\": {\"in_channels\": 1, \"out_channels\": 256, \"kernel_size\": [1, 7], \"bias\": false, \"padding\": [0, 3]}}, {\"class\": \"ReLU\", \"kargs\": {\"inplace\": true}}, {\"class\": \"BatchNorm2d\", \"kargs\": {\"num_features\": 256}}, {\"class\": \"Conv2d\", \"kargs\": {\"in_channels\": 256, \"out_channels\": 80, \"kernel_size\": [2, 7], \"bias\": true, \"padding\": [0, 3]}}, {\"class\": \"ReLU\", \"kargs\": {\"inplace\": true}}, {\"class\": \"BatchNorm2d\", \"kargs\": {\"num_features\": 80}}, {\"class\": \"Flatten\", \"kargs\": {}}, {\"class\": \"Linear\", \"kargs\": {\"in_features\": 20480, \"out_features\": 256}}, {\"class\": \"ReLU\", \"kargs\": {\"inplace\": true}}, {\"class\": \"BatchNorm1d\", \"kargs\": {\"num_features\": 256}}, {\"class\": \"Linear\", \"kargs\": {\"in_features\": 256, \"out_features\": 256}}], \"NUM_LOGS_PER_EPOCH\": 10, \"BEST_MODEL_PATH\": \"./best_model.pth\", \"n_way\": 58, \"datasets\": [{\"labels\": [\"1-10.\", \"1-11.\", \"1-15.\", \"1-16.\", \"1-17.\", \"1-18.\", \"1-19.\", \"10-4.\", \"10-7.\", \"11-1.\", \"11-14.\", \"11-17.\", \"11-20.\", \"11-7.\", \"13-20.\", \"13-8.\", \"14-10.\", \"14-11.\", \"14-14.\", \"14-7.\", \"15-1.\", \"15-20.\", \"16-1.\", \"16-16.\", \"17-10.\", \"17-11.\", \"17-2.\", \"19-1.\", \"19-16.\", \"19-19.\", \"19-20.\", \"19-3.\", \"2-10.\", \"2-11.\", \"2-17.\", \"2-18.\", \"2-20.\", \"2-3.\", \"2-4.\", \"2-5.\", \"2-6.\", \"2-7.\", \"2-8.\", \"3-13.\", \"3-18.\", \"3-3.\", \"4-1.\", \"4-10.\", \"4-11.\", \"4-19.\", \"5-5.\", \"6-15.\", \"7-10.\", \"7-14.\", \"8-18.\", \"8-20.\", \"8-3.\", \"8-8.\"], \"domains\": [1, 2, 3, 4, 5], \"num_examples_per_domain_per_label\": -1, \"pickle_path\": \"/root/csc500-main/datasets/cores.stratified_ds.2022A.pkl\", \"source_or_target_dataset\": \"target\", \"x_transforms\": [\"unit_power\"], \"episode_transforms\": [], \"domain_prefix\": \"CORES_\"}, {\"labels\": [\"1-10\", \"1-12\", \"1-14\", \"1-16\", \"1-18\", \"1-19\", \"1-8\", \"10-11\", \"10-17\", \"10-4\", \"10-7\", \"11-1\", \"11-10\", \"11-19\", \"11-20\", \"11-4\", \"11-7\", \"12-19\", \"12-20\", \"12-7\", \"13-14\", \"13-18\", \"13-19\", \"13-20\", \"13-3\", \"13-7\", \"14-10\", \"14-11\", \"14-12\", \"14-13\", \"14-14\", \"14-19\", \"14-20\", \"14-7\", \"14-8\", \"14-9\", \"15-1\", \"15-19\", \"15-6\", \"16-1\", \"16-16\", \"16-19\", \"16-20\", \"17-10\", \"17-11\", \"18-1\", \"18-10\", \"18-11\", \"18-12\", \"18-13\", \"18-14\", \"18-15\", \"18-16\", \"18-17\", \"18-19\", \"18-2\", \"18-20\", \"18-4\", \"18-5\", \"18-7\", \"18-8\", \"18-9\", \"19-1\", \"19-10\", \"19-11\", \"19-12\", \"19-13\", \"19-14\", \"19-15\", \"19-19\", \"19-2\", \"19-20\", \"19-3\", \"19-4\", \"19-6\", \"19-7\", \"19-8\", \"19-9\", \"2-1\", \"2-13\", \"2-15\", \"2-3\", \"2-4\", \"2-5\", \"2-6\", \"2-7\", \"2-8\", \"20-1\", \"20-12\", \"20-14\", \"20-15\", \"20-16\", \"20-18\", \"20-19\", \"20-20\", \"20-3\", \"20-4\", \"20-5\", \"20-7\", \"20-8\", \"3-1\", \"3-13\", \"3-18\", \"3-2\", \"3-8\", \"4-1\", \"4-10\", \"4-11\", \"5-1\", \"5-5\", \"6-1\", \"6-15\", \"6-6\", \"7-10\", \"7-11\", \"7-12\", \"7-13\", \"7-14\", \"7-7\", \"7-8\", \"7-9\", \"8-1\", \"8-13\", \"8-14\", \"8-18\", \"8-20\", \"8-3\", \"8-8\", \"9-1\", \"9-7\"], \"domains\": [1, 2, 3, 4], \"num_examples_per_domain_per_label\": -1, \"pickle_path\": \"/root/csc500-main/datasets/wisig.node3-19.stratified_ds.2022A.pkl\", \"source_or_target_dataset\": \"source\", \"x_transforms\": [\"unit_power\"], \"episode_transforms\": [], \"domain_prefix\": \"Wisig_\"}], \"dataset_seed\": 1337, \"seed\": 1337, \"x_shape\": [2, 256], \"domains_source\": [\"Wisig_1\", \"Wisig_2\", \"Wisig_3\", \"Wisig_4\"], \"domains_target\": [\"CORES_1\", \"CORES_2\", \"CORES_3\", \"CORES_4\", \"CORES_5\"]}, \"results\": {\"source_test_label_accuracy\": 0.9567063894523327, \"source_test_label_loss\": 0.23740151524543762, \"target_test_label_accuracy\": 0.9722413793103448, \"target_test_label_loss\": 0.17369231581687927, \"source_val_label_accuracy\": 0.9558863146551724, \"source_val_label_loss\": 0.242918461561203, \"target_val_label_accuracy\": 0.9757543103448276, \"target_val_label_loss\": 0.15862569212913513, \"total_epochs_trained\": 3, \"total_experiment_time_secs\": 379.249361038208, \"confusion\": {\"Wisig_3\": {\"36\": {\"36\": 31, \"27\": 4, \"24\": 1}, \"123\": {\"123\": 15, \"121\": 1}, \"53\": {\"53\": 20}, \"24\": {\"24\": 42, \"70\": 1, \"36\": 1}, \"8\": {\"8\": 38}, \"49\": {\"49\": 20, \"21\": 1, \"88\": 1, \"70\": 1, \"82\": 1}, \"74\": {\"74\": 16}, \"93\": {\"93\": 32}, \"104\": {\"104\": 16}, \"122\": {\"122\": 44, \"21\": 1, \"29\": 1}, \"78\": {\"78\": 12, \"21\": 1, \"14\": 1, \"50\": 1, \"87\": 1}, \"21\": {\"13\": 1, \"21\": 36, \"97\": 1, \"122\": 1, \"25\": 1, \"65\": 1, \"27\": 1}, \"22\": {\"22\": 16}, \"27\": {\"27\": 26, \"36\": 8, \"24\": 3, \"43\": 1}, \"124\": {\"124\": 40}, \"35\": {\"35\": 10, \"21\": 1, \"97\": 1}, \"37\": {\"37\": 15, \"7\": 1}, \"45\": {\"45\": 15, \"24\": 1}, \"55\": {\"55\": 16}, \"110\": {\"110\": 40, \"21\": 1, \"43\": 1, \"129\": 1, \"70\": 1}, \"2\": {\"2\": 28}, \"23\": {\"23\": 28, \"123\": 1, \"73\": 1, \"5\": 1, \"70\": 1}, \"29\": {\"29\": 32}, \"90\": {\"90\": 44}, \"127\": {\"127\": 38, \"43\": 1, \"21\": 1}, \"13\": {\"13\": 13, \"21\": 2, \"92\": 1}, \"48\": {\"48\": 16}, \"105\": {\"105\": 46}, \"50\": {\"50\": 16}, \"52\": {\"52\": 16}, \"9\": {\"9\": 32}, \"94\": {\"94\": 46}, \"14\": {\"14\": 38}, \"98\": {\"98\": 47, \"23\": 1}, \"64\": {\"64\": 20}, \"97\": {\"97\": 19, \"43\": 1}, \"117\": {\"117\": 40}, \"85\": {\"85\": 30}, \"44\": {\"44\": 34}, \"80\": {\"80\": 16}, \"16\": {\"16\": 38}, \"103\": {\"103\": 15, \"29\": 1}, \"40\": {\"40\": 36}, \"30\": {\"78\": 1, \"30\": 38, \"4\": 1}, \"6\": {\"6\": 32}, \"108\": {\"108\": 34, \"8\": 1, \"88\": 1}, \"33\": {\"33\": 39, \"43\": 1}, \"96\": {\"96\": 20}, \"79\": {\"79\": 12}, \"109\": {\"109\": 38, \"21\": 1, \"30\": 1}, \"81\": {\"81\": 32}, \"88\": {\"88\": 39, \"70\": 1}, \"41\": {\"41\": 16}, \"70\": {\"70\": 34, \"71\": 1, \"122\": 1, \"110\": 1, \"43\": 1}, \"76\": {\"76\": 16}, \"5\": {\"5\": 47, \"43\": 1}, \"0\": {\"0\": 44}, \"4\": {\"4\": 36}, \"86\": {\"86\": 26, \"9\": 1, \"94\": 1}, \"69\": {\"69\": 38}, \"26\": {\"26\": 46}, \"120\": {\"120\": 20}, \"84\": {\"84\": 42}, \"12\": {\"12\": 36}, \"32\": {\"32\": 32}, \"89\": {\"89\": 28}, \"129\": {\"129\": 32}, \"125\": {\"125\": 40}, \"116\": {\"116\": 28}, \"19\": {\"19\": 31, \"110\": 1}, \"71\": {\"71\": 43, \"88\": 1, \"21\": 1, \"70\": 1}, \"72\": {\"72\": 28}, \"100\": {\"100\": 15, \"78\": 1}, \"20\": {\"20\": 14, \"21\": 1, \"18\": 1}, \"65\": {\"65\": 12}, \"121\": {\"121\": 26, \"21\": 2, \"17\": 1, \"71\": 1}, \"34\": {\"34\": 31, \"45\": 1}, \"119\": {\"119\": 16}, \"75\": {\"75\": 16}, \"1\": {\"1\": 38}, \"113\": {\"113\": 34}, \"39\": {\"39\": 45, \"63\": 1}, \"82\": {\"82\": 25, \"78\": 1, \"14\": 1, \"122\": 1}, \"67\": {\"67\": 16}, \"63\": {\"63\": 16}, \"31\": {\"31\": 20}, \"38\": {\"38\": 15, \"121\": 1}, \"17\": {\"17\": 7, \"55\": 1, \"11\": 4, \"41\": 3, \"21\": 1}, \"106\": {\"106\": 35, \"21\": 1}, \"91\": {\"91\": 23, \"122\": 1}, \"56\": {\"56\": 12}, \"46\": {\"46\": 16}, \"128\": {\"63\": 1, \"128\": 26, \"57\": 1}, \"66\": {\"66\": 16}, \"10\": {\"10\": 37, \"9\": 1, \"7\": 1, \"0\": 1}, \"62\": {\"62\": 29, \"21\": 1}, \"112\": {\"112\": 15, \"0\": 1}, \"47\": {\"47\": 12}, \"107\": {\"107\": 40, \"14\": 1, \"8\": 1}, \"28\": {\"28\": 16}, \"95\": {\"95\": 32}, \"18\": {\"18\": 34}, \"114\": {\"114\": 37, \"29\": 1}, \"102\": {\"102\": 36}, \"68\": {\"68\": 15, \"21\": 1}, \"126\": {\"126\": 38, \"47\": 1, \"70\": 1, \"39\": 1, \"84\": 1}, \"111\": {\"111\": 44}, \"3\": {\"3\": 34}, \"73\": {\"73\": 30, \"17\": 1, \"27\": 1, \"121\": 1, \"36\": 1}, \"60\": {\"60\": 27, \"110\": 1}, \"101\": {\"101\": 29, \"21\": 2, \"78\": 1, \"0\": 2}, \"7\": {\"45\": 1, \"7\": 24, \"26\": 1}, \"83\": {\"83\": 24}, \"42\": {\"42\": 26, \"8\": 1, \"88\": 1}, \"15\": {\"15\": 38}, \"11\": {\"11\": 36}, \"58\": {\"58\": 16}, \"57\": {\"57\": 20}, \"118\": {\"118\": 35, \"21\": 1}, \"99\": {\"99\": 34}, \"25\": {\"25\": 16}, \"61\": {\"61\": 16}, \"87\": {\"87\": 37, \"17\": 1}, \"115\": {\"115\": 16}, \"92\": {\"92\": 31, \"24\": 1}, \"51\": {\"51\": 16}, \"59\": {\"59\": 12}, \"77\": {\"77\": 16}, \"54\": {\"54\": 15, \"27\": 1}, \"43\": {\"43\": 33, \"33\": 2, \"63\": 1, \"110\": 1, \"87\": 1}}, \"Wisig_2\": {\"37\": {\"37\": 16}, \"101\": {\"101\": 42}, \"83\": {\"83\": 36}, \"95\": {\"95\": 35, \"21\": 1}, \"122\": {\"21\": 1, \"122\": 34, \"111\": 1}, \"18\": {\"18\": 47, \"70\": 1}, \"9\": {\"9\": 31, \"70\": 1}, \"57\": {\"57\": 20}, \"93\": {\"93\": 45, \"125\": 1}, \"64\": {\"64\": 15, \"39\": 1}, \"70\": {\"39\": 1, \"70\": 37, \"78\": 1, \"110\": 1}, \"36\": {\"36\": 37, \"21\": 1, \"62\": 1, \"118\": 1}, \"109\": {\"109\": 39, \"82\": 1, \"121\": 1, \"78\": 1, \"21\": 1, \"24\": 1}, \"92\": {\"92\": 26, \"57\": 1, \"15\": 1}, \"28\": {\"28\": 20}, \"39\": {\"39\": 35, \"82\": 1, \"113\": 1, \"45\": 1, \"98\": 1, \"21\": 1}, \"47\": {\"47\": 8, \"58\": 1, \"13\": 1, \"96\": 1, \"59\": 1}, \"127\": {\"127\": 46, \"111\": 1, \"57\": 1}, \"6\": {\"6\": 30, \"30\": 1, \"103\": 1}, \"13\": {\"13\": 12, \"21\": 2, \"109\": 1, \"61\": 1}, \"14\": {\"14\": 37, \"21\": 2, \"110\": 1}, \"110\": {\"21\": 1, \"110\": 31, \"81\": 1, \"109\": 1}, \"62\": {\"62\": 45, \"82\": 1}, \"59\": {\"59\": 16}, \"10\": {\"10\": 31, \"110\": 1, \"78\": 1, \"83\": 1}, \"41\": {\"41\": 20}, \"25\": {\"25\": 15, \"88\": 1}, \"45\": {\"45\": 16}, \"1\": {\"1\": 40, \"21\": 1, \"24\": 1}, \"61\": {\"61\": 20}, \"3\": {\"3\": 42}, \"35\": {\"35\": 12}, \"126\": {\"126\": 41, \"90\": 1}, \"90\": {\"90\": 40}, \"58\": {\"58\": 18, \"87\": 1, \"103\": 1}, \"74\": {\"74\": 14, \"104\": 2}, \"27\": {\"27\": 38, \"40\": 1, \"21\": 1, \"24\": 1, \"10\": 1, \"71\": 1, \"36\": 3}, \"60\": {\"60\": 25, \"87\": 2, \"83\": 1}, \"123\": {\"123\": 16}, \"50\": {\"50\": 15, \"122\": 1}, \"84\": {\"84\": 41, \"21\": 1}, \"128\": {\"128\": 24}, \"72\": {\"72\": 27, \"110\": 1}, \"96\": {\"96\": 20}, \"119\": {\"119\": 19, \"82\": 1}, \"56\": {\"56\": 12}, \"98\": {\"98\": 45, \"82\": 1}, \"87\": {\"87\": 37, \"94\": 1, \"58\": 1, \"21\": 1, \"60\": 1, \"70\": 1}, \"40\": {\"40\": 45, \"105\": 1}, \"114\": {\"114\": 40}, \"55\": {\"55\": 16}, \"8\": {\"8\": 60}, \"79\": {\"79\": 15, \"56\": 1}, \"112\": {\"112\": 13, \"49\": 1, \"108\": 2}, \"21\": {\"21\": 35, \"11\": 1, \"27\": 2, \"39\": 3, \"118\": 2, \"14\": 1, \"70\": 1, \"24\": 1}, \"42\": {\"42\": 27, \"87\": 1}, \"5\": {\"5\": 38, \"24\": 1, \"94\": 1}, \"22\": {\"22\": 20}, \"73\": {\"73\": 28}, \"69\": {\"69\": 26, \"87\": 1, \"14\": 1, \"70\": 1, \"24\": 1}, \"108\": {\"108\": 32}, \"118\": {\"118\": 41, \"14\": 1}, \"4\": {\"4\": 36, \"27\": 1, \"21\": 1}, \"49\": {\"49\": 19, \"82\": 1, \"10\": 1, \"11\": 1, \"103\": 1, \"59\": 1}, \"99\": {\"99\": 32}, \"66\": {\"66\": 18, \"27\": 1, \"94\": 1}, \"116\": {\"116\": 28}, \"67\": {\"82\": 1, \"67\": 13, \"75\": 1, \"78\": 1}, \"15\": {\"15\": 32, \"14\": 1, \"111\": 1}, \"63\": {\"63\": 17, \"120\": 1, \"80\": 1, \"117\": 1}, \"26\": {\"26\": 37, \"118\": 1}, \"24\": {\"24\": 34, \"49\": 1, \"110\": 1, \"87\": 1, \"27\": 2, \"70\": 1}, \"103\": {\"103\": 15, \"70\": 1}, \"38\": {\"38\": 16}, \"71\": {\"71\": 43, \"49\": 1, \"110\": 1, \"24\": 1}, \"75\": {\"75\": 16}, \"44\": {\"44\": 37, \"65\": 1}, \"104\": {\"104\": 18, \"82\": 1, \"28\": 1}, \"23\": {\"23\": 39, \"36\": 1, \"99\": 1, \"77\": 1}, \"105\": {\"105\": 28}, \"30\": {\"30\": 39, \"94\": 1, \"10\": 1, \"101\": 1}, \"120\": {\"120\": 20}, \"113\": {\"113\": 38, \"118\": 1, \"110\": 1}, \"53\": {\"53\": 16}, \"91\": {\"91\": 26, \"24\": 2}, \"89\": {\"89\": 34, \"10\": 1, \"97\": 1}, \"117\": {\"117\": 41, \"118\": 1}, \"82\": {\"82\": 36}, \"20\": {\"20\": 15, \"27\": 1}, \"34\": {\"34\": 30, \"121\": 1, \"86\": 1}, \"7\": {\"7\": 35, \"21\": 1}, \"80\": {\"80\": 16}, \"125\": {\"125\": 46}, \"16\": {\"16\": 40}, \"88\": {\"88\": 37, \"126\": 4, \"71\": 1}, \"85\": {\"85\": 31, \"17\": 1}, \"17\": {\"17\": 13, \"11\": 1, \"24\": 1, \"70\": 1}, \"107\": {\"107\": 41, \"18\": 1, \"14\": 1, \"0\": 1, \"21\": 1, \"40\": 2, \"87\": 1}, \"11\": {\"11\": 43, \"26\": 1}, \"100\": {\"100\": 16}, \"78\": {\"28\": 1, \"78\": 40, \"21\": 2, \"95\": 2, \"70\": 2, \"40\": 1}, \"115\": {\"115\": 11, \"27\": 1}, \"121\": {\"121\": 31, \"27\": 1}, \"0\": {\"0\": 40}, \"124\": {\"124\": 46}, \"81\": {\"81\": 22, \"21\": 1, \"110\": 1}, \"68\": {\"68\": 12, \"9\": 1, \"115\": 1, \"70\": 1, \"45\": 1}, \"86\": {\"86\": 32}, \"12\": {\"82\": 1, \"12\": 45, \"14\": 1, \"62\": 1, \"49\": 1, \"24\": 1}, \"31\": {\"24\": 1, \"31\": 19}, \"129\": {\"129\": 30, \"37\": 1, \"78\": 1}, \"111\": {\"111\": 40, \"127\": 2}, \"106\": {\"106\": 40}, \"32\": {\"32\": 33, \"82\": 1}, \"94\": {\"94\": 41, \"24\": 1, \"51\": 1, \"21\": 2, \"110\": 1}, \"2\": {\"2\": 32}, \"48\": {\"48\": 20}, \"33\": {\"33\": 40}, \"76\": {\"76\": 16}, \"102\": {\"102\": 34}, \"54\": {\"54\": 20}, \"52\": {\"52\": 19, \"10\": 1}, \"29\": {\"29\": 32}, \"46\": {\"46\": 16}, \"43\": {\"43\": 33, \"87\": 1, \"21\": 1, \"110\": 1}, \"77\": {\"77\": 15, \"82\": 1}, \"51\": {\"51\": 12, \"9\": 1, \"110\": 1, \"59\": 2, \"66\": 1, \"125\": 1, \"6\": 1, \"111\": 1}, \"19\": {\"19\": 27, \"110\": 1}, \"97\": {\"97\": 20}, \"65\": {\"65\": 19, \"87\": 1}}, \"Wisig_1\": {\"110\": {\"110\": 39, \"12\": 1}, \"27\": {\"27\": 34}, \"106\": {\"106\": 38}, \"13\": {\"13\": 16}, \"120\": {\"120\": 20}, \"25\": {\"25\": 16}, \"47\": {\"47\": 12}, \"8\": {\"8\": 45, \"72\": 1}, \"124\": {\"124\": 38}, \"55\": {\"55\": 12}, \"63\": {\"63\": 16}, \"58\": {\"58\": 10, \"125\": 2}, \"105\": {\"105\": 32, \"88\": 2, \"40\": 2}, \"59\": {\"59\": 11, \"13\": 1}, \"12\": {\"12\": 36}, \"98\": {\"98\": 44}, \"96\": {\"96\": 14, \"80\": 1, \"94\": 1, \"17\": 1, \"126\": 1, \"12\": 1, \"21\": 1}, \"30\": {\"30\": 42}, \"53\": {\"53\": 20}, \"82\": {\"82\": 36}, \"33\": {\"33\": 30}, \"0\": {\"0\": 35, \"10\": 1}, \"122\": {\"122\": 32, \"21\": 1, \"24\": 1}, \"28\": {\"28\": 18, \"23\": 1, \"46\": 1}, \"17\": {\"30\": 1, \"17\": 13, \"61\": 1, \"87\": 1}, \"121\": {\"121\": 32}, \"104\": {\"104\": 15, \"10\": 1}, \"71\": {\"71\": 36}, \"20\": {\"20\": 16}, \"41\": {\"41\": 16}, \"7\": {\"7\": 34}, \"83\": {\"83\": 27, \"16\": 1}, \"9\": {\"9\": 32}, \"118\": {\"118\": 41, \"122\": 1, \"21\": 1, \"95\": 1}, \"111\": {\"111\": 29, \"21\": 1}, \"23\": {\"23\": 17, \"64\": 1, \"78\": 1, \"42\": 1}, \"65\": {\"65\": 12}, \"95\": {\"95\": 28}, \"38\": {\"38\": 16}, \"50\": {\"50\": 15, \"30\": 1}, \"3\": {\"3\": 27, \"94\": 1, \"6\": 1, \"27\": 1}, \"31\": {\"31\": 14, \"109\": 1, \"49\": 1}, \"48\": {\"48\": 12}, \"81\": {\"81\": 28}, \"99\": {\"99\": 23, \"78\": 1}, \"85\": {\"85\": 32}, \"11\": {\"11\": 30}, \"126\": {\"126\": 47, \"24\": 1}, \"80\": {\"80\": 15, \"113\": 1}, \"46\": {\"46\": 12}, \"45\": {\"45\": 9, \"83\": 1, \"70\": 1, \"50\": 1}, \"18\": {\"18\": 44}, \"84\": {\"84\": 34}, \"24\": {\"24\": 40, \"97\": 1, \"83\": 1, \"108\": 1, \"23\": 1}, \"21\": {\"21\": 17, \"30\": 3, \"51\": 1, \"70\": 1}, \"117\": {\"117\": 44}, \"6\": {\"6\": 30}, \"97\": {\"126\": 1, \"97\": 18, \"88\": 1}, \"86\": {\"71\": 1, \"86\": 30, \"61\": 1, \"72\": 1, \"30\": 1, \"23\": 1, \"70\": 1}, \"56\": {\"56\": 12}, \"92\": {\"92\": 28}, \"40\": {\"40\": 31, \"105\": 1}, \"108\": {\"108\": 42}, \"73\": {\"73\": 20}, \"1\": {\"1\": 44}, \"129\": {\"129\": 28}, \"127\": {\"127\": 37, \"122\": 1}, \"14\": {\"14\": 38}, \"42\": {\"42\": 27, \"21\": 1}, \"67\": {\"67\": 16}, \"74\": {\"74\": 16}, \"61\": {\"61\": 12}, \"36\": {\"36\": 35, \"88\": 1}, \"32\": {\"32\": 32}, \"77\": {\"24\": 1, \"77\": 15}, \"107\": {\"107\": 37, \"57\": 1}, \"44\": {\"44\": 36}, \"51\": {\"51\": 13, \"83\": 1, \"6\": 2}, \"2\": {\"73\": 1, \"129\": 1, \"2\": 28, \"123\": 1, \"100\": 1}, \"52\": {\"52\": 20}, \"125\": {\"125\": 46}, \"37\": {\"37\": 16}, \"35\": {\"35\": 11, \"125\": 1}, \"116\": {\"116\": 32}, \"15\": {\"15\": 33, \"36\": 1}, \"70\": {\"70\": 38, \"126\": 2, \"21\": 1, \"128\": 1, \"12\": 2}, \"109\": {\"109\": 35, \"126\": 1, \"42\": 1, \"96\": 1}, \"76\": {\"76\": 16}, \"66\": {\"66\": 16}, \"57\": {\"57\": 12}, \"119\": {\"119\": 16}, \"34\": {\"34\": 24}, \"68\": {\"68\": 15, \"35\": 1}, \"90\": {\"90\": 26}, \"62\": {\"62\": 35, \"23\": 1}, \"93\": {\"93\": 37, \"72\": 1, \"43\": 1, \"87\": 1}, \"54\": {\"54\": 16}, \"29\": {\"29\": 28}, \"89\": {\"89\": 36}, \"79\": {\"79\": 12}, \"16\": {\"16\": 36, \"43\": 1, \"50\": 1}, \"26\": {\"26\": 35, \"45\": 1}, \"64\": {\"64\": 16}, \"123\": {\"123\": 16}, \"75\": {\"75\": 16}, \"88\": {\"88\": 33, \"27\": 1, \"36\": 2}, \"10\": {\"10\": 38, \"0\": 1, \"70\": 1}, \"91\": {\"91\": 28}, \"4\": {\"4\": 32}, \"100\": {\"100\": 16}, \"39\": {\"39\": 36, \"30\": 1, \"21\": 1}, \"78\": {\"24\": 1, \"78\": 12, \"70\": 1, \"108\": 1, \"43\": 1}, \"101\": {\"101\": 35, \"94\": 1}, \"112\": {\"112\": 16}, \"103\": {\"103\": 16}, \"19\": {\"19\": 24}, \"60\": {\"60\": 11, \"123\": 1, \"14\": 1, \"101\": 2, \"35\": 1}, \"72\": {\"72\": 32}, \"43\": {\"43\": 33, \"87\": 1}, \"22\": {\"22\": 15, \"88\": 1}, \"87\": {\"87\": 31, \"21\": 2, \"105\": 1}, \"128\": {\"128\": 23, \"70\": 1}, \"5\": {\"5\": 37, \"21\": 1}, \"102\": {\"102\": 30}, \"94\": {\"94\": 27, \"78\": 1}, \"114\": {\"114\": 33, \"78\": 1}, \"69\": {\"69\": 26}, \"113\": {\"113\": 28}, \"49\": {\"49\": 20}, \"115\": {\"115\": 12}}, \"Wisig_4\": {\"109\": {\"109\": 33, \"96\": 1}, \"45\": {\"45\": 16}, \"11\": {\"11\": 38}, \"23\": {\"23\": 5, \"21\": 4, \"49\": 1, \"60\": 1, \"51\": 2, \"48\": 1, \"78\": 1, \"113\": 1}, \"2\": {\"2\": 28}, \"25\": {\"25\": 16}, \"7\": {\"7\": 45, \"87\": 1}, \"55\": {\"55\": 16}, \"124\": {\"124\": 36}, \"101\": {\"101\": 38}, \"115\": {\"115\": 16}, \"121\": {\"121\": 31, \"48\": 1}, \"46\": {\"46\": 20}, \"72\": {\"72\": 31, \"92\": 1}, \"83\": {\"83\": 25, \"100\": 1, \"23\": 1, \"78\": 1}, \"12\": {\"12\": 49, \"4\": 1}, \"79\": {\"79\": 16}, \"20\": {\"20\": 15, \"103\": 1}, \"43\": {\"43\": 43, \"57\": 1}, \"35\": {\"35\": 12}, \"86\": {\"86\": 28}, \"3\": {\"3\": 40}, \"116\": {\"116\": 28}, \"53\": {\"53\": 16}, \"111\": {\"111\": 47, \"27\": 1}, \"40\": {\"40\": 32}, \"19\": {\"19\": 27, \"63\": 1}, \"71\": {\"71\": 51, \"50\": 1}, \"21\": {\"21\": 29, \"18\": 1, \"78\": 1, \"122\": 1}, \"82\": {\"51\": 1, \"82\": 28, \"23\": 1, \"106\": 1, \"26\": 1}, \"65\": {\"65\": 12}, \"110\": {\"23\": 1, \"110\": 44, \"51\": 1}, \"119\": {\"119\": 15, \"78\": 1}, \"64\": {\"64\": 15, \"108\": 1}, \"126\": {\"126\": 39, \"78\": 2, \"93\": 1}, \"129\": {\"129\": 27, \"23\": 1}, \"103\": {\"103\": 15, \"126\": 1}, \"34\": {\"34\": 28, \"44\": 1, \"72\": 1, \"6\": 1, \"8\": 1}, \"42\": {\"42\": 28}, \"114\": {\"114\": 44}, \"38\": {\"38\": 15, \"66\": 1}, \"99\": {\"99\": 38}, \"47\": {\"47\": 11, \"53\": 1}, \"61\": {\"61\": 12, \"35\": 3, \"27\": 1}, \"9\": {\"9\": 26, \"89\": 1, \"23\": 1}, \"73\": {\"73\": 21, \"39\": 1, \"6\": 1, \"9\": 1}, \"48\": {\"48\": 13, \"25\": 1, \"36\": 1, \"23\": 1}, \"18\": {\"18\": 43, \"78\": 1}, \"16\": {\"16\": 40}, \"87\": {\"97\": 1, \"87\": 41, \"43\": 2, \"105\": 1, \"122\": 1}, \"60\": {\"60\": 32}, \"51\": {\"21\": 1, \"51\": 10, \"53\": 1, \"78\": 1, \"3\": 1, \"88\": 1, \"12\": 1}, \"4\": {\"4\": 41, \"127\": 1}, \"85\": {\"85\": 27, \"88\": 1}, \"28\": {\"28\": 20}, \"27\": {\"27\": 38}, \"97\": {\"97\": 17, \"36\": 1, \"24\": 1, \"21\": 1}, \"6\": {\"6\": 24}, \"76\": {\"76\": 16}, \"105\": {\"105\": 32, \"39\": 1, \"87\": 3}, \"37\": {\"37\": 16}, \"98\": {\"98\": 38, \"65\": 1, \"121\": 1}, \"96\": {\"96\": 20}, \"32\": {\"32\": 27, \"120\": 1}, \"15\": {\"15\": 32}, \"56\": {\"56\": 12}, \"90\": {\"90\": 32}, \"91\": {\"91\": 23, \"78\": 1}, \"52\": {\"52\": 20}, \"78\": {\"78\": 26, \"110\": 1, \"60\": 1, \"21\": 1, \"43\": 2, \"27\": 1, \"117\": 1, \"122\": 1}, \"84\": {\"84\": 35, \"69\": 1, \"1\": 1, \"39\": 1}, \"1\": {\"1\": 38, \"33\": 1, \"21\": 1, \"122\": 1, \"34\": 1}, \"122\": {\"122\": 36, \"78\": 2, \"121\": 1, \"21\": 1, \"69\": 1, \"1\": 1, \"43\": 1, \"102\": 1}, \"66\": {\"66\": 15, \"90\": 1}, \"127\": {\"127\": 37, \"59\": 1}, \"80\": {\"80\": 16}, \"113\": {\"113\": 37, \"21\": 1}, \"31\": {\"31\": 16}, \"88\": {\"88\": 27, \"70\": 5}, \"62\": {\"62\": 42, \"1\": 1, \"21\": 1}, \"22\": {\"22\": 14, \"63\": 1, \"61\": 1}, \"49\": {\"53\": 1, \"49\": 31}, \"54\": {\"54\": 16}, \"63\": {\"63\": 15, \"61\": 1}, \"39\": {\"39\": 35, \"78\": 1, \"21\": 3, \"126\": 2, \"27\": 1}, \"95\": {\"95\": 32}, \"13\": {\"13\": 16}, \"107\": {\"107\": 38}, \"106\": {\"106\": 38, \"29\": 1, \"78\": 2, \"105\": 1}, \"26\": {\"26\": 31, \"21\": 1}, \"112\": {\"112\": 16}, \"36\": {\"97\": 3, \"36\": 38, \"21\": 1}, \"30\": {\"30\": 40, \"21\": 2}, \"58\": {\"58\": 15, \"29\": 1}, \"14\": {\"14\": 38}, \"68\": {\"68\": 16}, \"118\": {\"118\": 39, \"122\": 1}, \"44\": {\"44\": 31, \"18\": 1, \"100\": 1, \"120\": 1}, \"93\": {\"93\": 34}, \"70\": {\"70\": 40}, \"10\": {\"15\": 1, \"10\": 33, \"30\": 2, \"97\": 1, \"21\": 1}, \"94\": {\"94\": 39, \"21\": 1}, \"41\": {\"41\": 16}, \"75\": {\"75\": 16}, \"29\": {\"29\": 31, \"23\": 1}, \"50\": {\"50\": 16}, \"0\": {\"0\": 42, \"78\": 2, \"122\": 1, \"105\": 1, \"101\": 1, \"39\": 1}, \"108\": {\"108\": 29, \"0\": 1, \"88\": 1, \"96\": 1, \"122\": 1, \"110\": 1, \"70\": 1, \"30\": 1, \"21\": 1, \"78\": 1}, \"100\": {\"100\": 20}, \"102\": {\"102\": 36}, \"5\": {\"5\": 38}, \"77\": {\"77\": 12}, \"89\": {\"89\": 26, \"36\": 1, \"9\": 1}, \"57\": {\"57\": 16}, \"33\": {\"33\": 48}, \"17\": {\"17\": 19, \"23\": 1}, \"128\": {\"128\": 21, \"28\": 1, \"78\": 2}, \"92\": {\"92\": 28}, \"67\": {\"67\": 15, \"70\": 1}, \"120\": {\"120\": 19, \"121\": 1}, \"123\": {\"123\": 16}, \"8\": {\"8\": 39, \"88\": 1}, \"59\": {\"59\": 9, \"54\": 1, \"98\": 1, \"100\": 1}, \"24\": {\"24\": 30, \"97\": 1, \"78\": 2, \"81\": 1}, \"117\": {\"117\": 32, \"81\": 2}, \"69\": {\"69\": 33, \"1\": 1}, \"81\": {\"81\": 32}, \"74\": {\"95\": 1, \"74\": 15}, \"125\": {\"125\": 26, \"69\": 1, \"81\": 1}, \"104\": {\"104\": 16}}, \"CORES_3\": {\"1\": {\"1\": 16}, \"28\": {\"28\": 16}, \"21\": {\"21\": 16}, \"27\": {\"27\": 16}, \"20\": {\"20\": 16}, \"16\": {\"18\": 1, \"16\": 15}, \"48\": {\"48\": 16}, \"42\": {\"42\": 16}, \"45\": {\"45\": 15, \"52\": 1}, \"41\": {\"41\": 16}, \"13\": {\"13\": 16}, \"50\": {\"50\": 16}, \"32\": {\"32\": 16}, \"51\": {\"51\": 16}, \"30\": {\"30\": 16}, \"38\": {\"38\": 16}, \"7\": {\"7\": 16}, \"22\": {\"22\": 16}, \"37\": {\"37\": 16}, \"33\": {\"33\": 16}, \"6\": {\"6\": 12, \"17\": 2, \"11\": 2}, \"14\": {\"43\": 5, \"14\": 8, \"31\": 2, \"55\": 1}, \"40\": {\"40\": 16}, \"55\": {\"55\": 16}, \"2\": {\"2\": 16}, \"39\": {\"39\": 16}, \"56\": {\"56\": 16}, \"17\": {\"17\": 16}, \"10\": {\"10\": 16}, \"9\": {\"9\": 15, \"3\": 1}, \"31\": {\"31\": 16}, \"12\": {\"12\": 16}, \"25\": {\"25\": 16}, \"0\": {\"0\": 16}, \"47\": {\"47\": 16}, \"44\": {\"44\": 16}, \"23\": {\"23\": 16}, \"15\": {\"15\": 16}, \"8\": {\"8\": 16}, \"54\": {\"54\": 16}, \"52\": {\"52\": 16}, \"29\": {\"29\": 16}, \"5\": {\"5\": 16}, \"34\": {\"34\": 16}, \"35\": {\"35\": 16}, \"26\": {\"26\": 16}, \"57\": {\"57\": 16}, \"53\": {\"53\": 16}, \"36\": {\"36\": 16}, \"18\": {\"18\": 15, \"16\": 1}, \"49\": {\"49\": 16}, \"3\": {\"3\": 10, \"9\": 6}, \"4\": {\"4\": 14, \"27\": 2}, \"24\": {\"24\": 16}, \"11\": {\"11\": 16}, \"19\": {\"19\": 16}, \"43\": {\"43\": 16}, \"46\": {\"46\": 14, \"11\": 2}}, \"CORES_4\": {\"9\": {\"9\": 16}, \"4\": {\"4\": 15, \"40\": 1}, \"20\": {\"20\": 16}, \"26\": {\"26\": 16}, \"19\": {\"19\": 16}, \"35\": {\"35\": 16}, \"14\": {\"40\": 2, \"14\": 12, \"31\": 1, \"5\": 1}, \"10\": {\"10\": 16}, \"1\": {\"1\": 16}, \"3\": {\"3\": 13, \"17\": 1, \"50\": 1, \"20\": 1}, \"29\": {\"29\": 16}, \"47\": {\"47\": 16}, \"50\": {\"50\": 14, \"18\": 1, \"3\": 1}, \"51\": {\"51\": 16}, \"55\": {\"55\": 16}, \"27\": {\"27\": 16}, \"31\": {\"31\": 16}, \"30\": {\"30\": 16}, \"37\": {\"37\": 16}, \"36\": {\"36\": 16}, \"48\": {\"48\": 16}, \"46\": {\"46\": 11, \"11\": 1, \"15\": 4}, \"25\": {\"25\": 16}, \"53\": {\"53\": 16}, \"0\": {\"0\": 16}, \"8\": {\"8\": 16}, \"15\": {\"15\": 13, \"46\": 2, \"11\": 1}, \"22\": {\"22\": 16}, \"45\": {\"45\": 16}, \"43\": {\"43\": 16}, \"12\": {\"12\": 16}, \"24\": {\"24\": 16}, \"11\": {\"11\": 16}, \"44\": {\"44\": 16}, \"5\": {\"5\": 14, \"16\": 2}, \"6\": {\"6\": 16}, \"49\": {\"49\": 16}, \"2\": {\"2\": 16}, \"18\": {\"18\": 16}, \"54\": {\"54\": 16}, \"41\": {\"41\": 16}, \"38\": {\"38\": 16}, \"34\": {\"34\": 16}, \"21\": {\"21\": 16}, \"57\": {\"57\": 16}, \"33\": {\"33\": 16}, \"17\": {\"17\": 15, \"50\": 1}, \"40\": {\"40\": 15, \"25\": 1}, \"28\": {\"28\": 15, \"34\": 1}, \"16\": {\"16\": 16}, \"56\": {\"56\": 16}, \"39\": {\"39\": 16}, \"13\": {\"13\": 16}, \"23\": {\"23\": 16}, \"7\": {\"7\": 16}, \"52\": {\"52\": 16}, \"42\": {\"42\": 16}, \"32\": {\"32\": 16}}, \"CORES_5\": {\"13\": {\"13\": 20}, \"35\": {\"35\": 20}, \"12\": {\"12\": 20}, \"55\": {\"55\": 20}, \"43\": {\"43\": 20}, \"3\": {\"3\": 18, \"46\": 2}, \"20\": {\"20\": 20}, \"9\": {\"9\": 20}, \"41\": {\"41\": 20}, \"45\": {\"45\": 17, \"16\": 1, \"55\": 1, \"4\": 1}, \"11\": {\"11\": 20}, \"7\": {\"7\": 20}, \"27\": {\"27\": 19, \"50\": 1}, \"56\": {\"56\": 20}, \"4\": {\"4\": 20}, \"5\": {\"5\": 20}, \"49\": {\"49\": 20}, \"24\": {\"24\": 20}, \"0\": {\"0\": 20}, \"40\": {\"40\": 19, \"5\": 1}, \"15\": {\"15\": 19, \"11\": 1}, \"42\": {\"42\": 20}, \"44\": {\"44\": 20}, \"46\": {\"46\": 20}, \"30\": {\"30\": 20}, \"1\": {\"1\": 19, \"48\": 1}, \"34\": {\"34\": 20}, \"51\": {\"51\": 20}, \"6\": {\"6\": 14, \"17\": 2, \"20\": 3, \"38\": 1}, \"50\": {\"18\": 2, \"50\": 15, \"4\": 1, \"5\": 2}, \"26\": {\"26\": 20}, \"52\": {\"52\": 20}, \"57\": {\"57\": 20}, \"36\": {\"36\": 20}, \"33\": {\"33\": 20}, \"19\": {\"19\": 20}, \"53\": {\"53\": 20}, \"28\": {\"28\": 18, \"33\": 2}, \"10\": {\"10\": 20}, \"32\": {\"32\": 20}, \"8\": {\"8\": 20}, \"48\": {\"48\": 14, \"1\": 6}, \"16\": {\"16\": 20}, \"17\": {\"17\": 20}, \"23\": {\"23\": 20}, \"29\": {\"29\": 20}, \"2\": {\"2\": 20}, \"21\": {\"21\": 20}, \"38\": {\"38\": 20}, \"14\": {\"14\": 6, \"5\": 4, \"9\": 2, \"54\": 5, \"31\": 2, \"40\": 1}, \"39\": {\"39\": 20}, \"54\": {\"54\": 20}, \"18\": {\"18\": 20}, \"22\": {\"22\": 20}, \"37\": {\"37\": 20}, \"47\": {\"47\": 20}, \"25\": {\"25\": 20}, \"31\": {\"31\": 20}}, \"CORES_1\": {\"47\": {\"47\": 24}, \"9\": {\"9\": 23, \"18\": 1}, \"35\": {\"35\": 24}, \"10\": {\"10\": 24}, \"21\": {\"21\": 24}, \"19\": {\"19\": 23, \"29\": 1}, \"14\": {\"14\": 9, \"30\": 11, \"6\": 4}, \"36\": {\"36\": 24}, \"46\": {\"46\": 24}, \"49\": {\"49\": 24}, \"5\": {\"5\": 23, \"2\": 1}, \"54\": {\"54\": 24}, \"56\": {\"56\": 24}, \"48\": {\"48\": 24}, \"15\": {\"15\": 24}, \"23\": {\"23\": 24}, \"55\": {\"55\": 21, \"38\": 1, \"56\": 1, \"42\": 1}, \"1\": {\"1\": 23, \"30\": 1}, \"22\": {\"22\": 23, \"24\": 1}, \"44\": {\"44\": 23, \"32\": 1}, \"37\": {\"37\": 24}, \"28\": {\"28\": 24}, \"11\": {\"11\": 24}, \"2\": {\"2\": 24}, \"29\": {\"29\": 24}, \"4\": {\"4\": 24}, \"3\": {\"3\": 22, \"45\": 1, \"36\": 1}, \"43\": {\"43\": 24}, \"51\": {\"51\": 24}, \"0\": {\"0\": 24}, \"7\": {\"7\": 24}, \"6\": {\"6\": 24}, \"24\": {\"24\": 23, \"22\": 1}, \"50\": {\"50\": 24}, \"26\": {\"26\": 24}, \"34\": {\"34\": 24}, \"41\": {\"41\": 24}, \"25\": {\"25\": 24}, \"39\": {\"39\": 24}, \"53\": {\"53\": 24}, \"38\": {\"38\": 23, \"55\": 1}, \"8\": {\"8\": 24}, \"27\": {\"27\": 24}, \"40\": {\"40\": 24}, \"45\": {\"45\": 24}, \"33\": {\"33\": 24}, \"32\": {\"32\": 24}, \"17\": {\"17\": 24}, \"57\": {\"57\": 24}, \"42\": {\"42\": 24}, \"13\": {\"13\": 24}, \"16\": {\"16\": 24}, \"12\": {\"12\": 24}, \"52\": {\"52\": 24}, \"30\": {\"30\": 24}, \"20\": {\"20\": 24}, \"18\": {\"18\": 24}, \"31\": {\"31\": 24}}, \"CORES_2\": {\"25\": {\"25\": 20}, \"24\": {\"24\": 20}, \"39\": {\"39\": 20}, \"49\": {\"49\": 20}, \"44\": {\"44\": 20}, \"57\": {\"57\": 20}, \"2\": {\"2\": 20}, \"16\": {\"16\": 20}, \"41\": {\"41\": 20}, \"27\": {\"27\": 17, \"9\": 2, \"8\": 1}, \"5\": {\"5\": 20}, \"13\": {\"13\": 20}, \"45\": {\"45\": 19, \"17\": 1}, \"43\": {\"43\": 20}, \"22\": {\"22\": 20}, \"21\": {\"21\": 20}, \"38\": {\"38\": 20}, \"33\": {\"33\": 20}, \"28\": {\"28\": 20}, \"34\": {\"34\": 20}, \"19\": {\"19\": 20}, \"3\": {\"3\": 20}, \"20\": {\"20\": 20}, \"47\": {\"47\": 20}, \"30\": {\"30\": 20}, \"46\": {\"46\": 20}, \"9\": {\"9\": 18, \"32\": 2}, \"11\": {\"11\": 20}, \"15\": {\"15\": 20}, \"0\": {\"0\": 20}, \"37\": {\"37\": 20}, \"40\": {\"40\": 19, \"35\": 1}, \"18\": {\"18\": 20}, \"54\": {\"54\": 20}, \"51\": {\"51\": 20}, \"48\": {\"48\": 20}, \"55\": {\"55\": 19, \"5\": 1}, \"42\": {\"42\": 20}, \"17\": {\"17\": 20}, \"26\": {\"26\": 20}, \"36\": {\"36\": 20}, \"32\": {\"32\": 20}, \"23\": {\"23\": 20}, \"7\": {\"7\": 20}, \"1\": {\"1\": 20}, \"35\": {\"35\": 20}, \"56\": {\"56\": 20}, \"8\": {\"8\": 20}, \"6\": {\"6\": 20}, \"29\": {\"29\": 18, \"57\": 2}, \"4\": {\"4\": 20}, \"50\": {\"50\": 18, \"16\": 2}, \"52\": {\"52\": 20}, \"12\": {\"12\": 20}, \"10\": {\"10\": 20}, \"31\": {\"31\": 20}, \"14\": {\"14\": 16, \"31\": 1, \"37\": 3}, \"53\": {\"53\": 20}}}, \"per_domain_accuracy\": {\"Wisig_3\": {\"accuracy\": 0.9630926724137931, \"source?\": true}, \"Wisig_2\": {\"accuracy\": 0.9462474645030426, \"source?\": true}, \"Wisig_1\": {\"accuracy\": 0.9658045977011495, \"source?\": true}, \"Wisig_4\": {\"accuracy\": 0.9496228448275862, \"source?\": true}, \"CORES_3\": {\"accuracy\": 0.9719827586206896, \"source?\": false}, \"CORES_4\": {\"accuracy\": 0.9752155172413793, \"source?\": false}, \"CORES_5\": {\"accuracy\": 0.9637931034482758, \"source?\": false}, \"CORES_1\": {\"accuracy\": 0.9798850574712644, \"source?\": false}, \"CORES_2\": {\"accuracy\": 0.9862068965517241, \"source?\": false}}}, \"history\": {\"epoch_indices\": [1, 2, 3], \"train_label_loss\": [0.5846347187599424, 0.2501635807495018, 0.19567416200829124], \"source_val_label_loss\": [0.329854816198349, 0.242918461561203, 0.22915150225162506], \"target_val_label_loss\": [0.2518121004104614, 0.15862569212913513, 0.16325965523719788], \"source_val_acc_label\": [0.9348060344827587, 0.9558863146551724, 0.9588496767241379], \"target_val_acc_label\": [0.96875, 0.9757543103448276, 0.9732399425287356]}, \"dataset_metrics\": {\"source\": {\"train\": {\"n_unique_x\": 139632, \"n_unique_y\": 130, \"n_batch/episode\": 904}, \"val\": {\"n_unique_x\": 26052, \"n_unique_y\": 130, \"n_batch/episode\": 128}, \"test\": {\"n_unique_x\": 27285, \"n_unique_y\": 130, \"n_batch/episode\": 136}}, \"target\": {\"train\": {\"n_unique_x\": 75852, \"n_unique_y\": 58, \"n_batch/episode\": 351}, \"val\": {\"n_unique_x\": 11850, \"n_unique_y\": 58, \"n_batch/episode\": 48}, \"test\": {\"n_unique_x\": 12315, \"n_unique_y\": 58, \"n_batch/episode\": 50}}}}'"
      ]
     },
     "execution_count": 29,
     "metadata": {},
     "output_type": "execute_result"
    }
   ],
   "source": [
    "json.dumps(experiment)"
   ]
  }
 ],
 "metadata": {
  "celltoolbar": "Tags",
  "kernelspec": {
   "display_name": "Python 3 (ipykernel)",
   "language": "python",
   "name": "python3"
  },
  "language_info": {
   "codemirror_mode": {
    "name": "ipython",
    "version": 3
   },
   "file_extension": ".py",
   "mimetype": "text/x-python",
   "name": "python",
   "nbconvert_exporter": "python",
   "pygments_lexer": "ipython3",
   "version": "3.8.12"
  },
  "papermill": {
   "default_parameters": {},
   "duration": 436.494911,
   "end_time": "2022-03-21T02:17:54.371811",
   "environment_variables": {},
   "exception": null,
   "input_path": "/root/csc500-main/csc500-notebooks/templates/tl_ptn_template.ipynb",
   "output_path": "trial.ipynb",
   "parameters": {
    "parameters": {
     "BEST_MODEL_PATH": "./best_model.pth",
     "NUM_LOGS_PER_EPOCH": 10,
     "criteria_for_best": "target_accuracy",
     "dataset_seed": 1337,
     "datasets": [
      {
       "domain_prefix": "CORES_",
       "domains": [
        1,
        2,
        3,
        4,
        5
       ],
       "episode_transforms": [],
       "labels": [
        "1-10.",
        "1-11.",
        "1-15.",
        "1-16.",
        "1-17.",
        "1-18.",
        "1-19.",
        "10-4.",
        "10-7.",
        "11-1.",
        "11-14.",
        "11-17.",
        "11-20.",
        "11-7.",
        "13-20.",
        "13-8.",
        "14-10.",
        "14-11.",
        "14-14.",
        "14-7.",
        "15-1.",
        "15-20.",
        "16-1.",
        "16-16.",
        "17-10.",
        "17-11.",
        "17-2.",
        "19-1.",
        "19-16.",
        "19-19.",
        "19-20.",
        "19-3.",
        "2-10.",
        "2-11.",
        "2-17.",
        "2-18.",
        "2-20.",
        "2-3.",
        "2-4.",
        "2-5.",
        "2-6.",
        "2-7.",
        "2-8.",
        "3-13.",
        "3-18.",
        "3-3.",
        "4-1.",
        "4-10.",
        "4-11.",
        "4-19.",
        "5-5.",
        "6-15.",
        "7-10.",
        "7-14.",
        "8-18.",
        "8-20.",
        "8-3.",
        "8-8."
       ],
       "num_examples_per_domain_per_label": -1,
       "pickle_path": "/root/csc500-main/datasets/cores.stratified_ds.2022A.pkl",
       "source_or_target_dataset": "target",
       "x_transforms": [
        "unit_power"
       ]
      },
      {
       "domain_prefix": "Wisig_",
       "domains": [
        1,
        2,
        3,
        4
       ],
       "episode_transforms": [],
       "labels": [
        "1-10",
        "1-12",
        "1-14",
        "1-16",
        "1-18",
        "1-19",
        "1-8",
        "10-11",
        "10-17",
        "10-4",
        "10-7",
        "11-1",
        "11-10",
        "11-19",
        "11-20",
        "11-4",
        "11-7",
        "12-19",
        "12-20",
        "12-7",
        "13-14",
        "13-18",
        "13-19",
        "13-20",
        "13-3",
        "13-7",
        "14-10",
        "14-11",
        "14-12",
        "14-13",
        "14-14",
        "14-19",
        "14-20",
        "14-7",
        "14-8",
        "14-9",
        "15-1",
        "15-19",
        "15-6",
        "16-1",
        "16-16",
        "16-19",
        "16-20",
        "17-10",
        "17-11",
        "18-1",
        "18-10",
        "18-11",
        "18-12",
        "18-13",
        "18-14",
        "18-15",
        "18-16",
        "18-17",
        "18-19",
        "18-2",
        "18-20",
        "18-4",
        "18-5",
        "18-7",
        "18-8",
        "18-9",
        "19-1",
        "19-10",
        "19-11",
        "19-12",
        "19-13",
        "19-14",
        "19-15",
        "19-19",
        "19-2",
        "19-20",
        "19-3",
        "19-4",
        "19-6",
        "19-7",
        "19-8",
        "19-9",
        "2-1",
        "2-13",
        "2-15",
        "2-3",
        "2-4",
        "2-5",
        "2-6",
        "2-7",
        "2-8",
        "20-1",
        "20-12",
        "20-14",
        "20-15",
        "20-16",
        "20-18",
        "20-19",
        "20-20",
        "20-3",
        "20-4",
        "20-5",
        "20-7",
        "20-8",
        "3-1",
        "3-13",
        "3-18",
        "3-2",
        "3-8",
        "4-1",
        "4-10",
        "4-11",
        "5-1",
        "5-5",
        "6-1",
        "6-15",
        "6-6",
        "7-10",
        "7-11",
        "7-12",
        "7-13",
        "7-14",
        "7-7",
        "7-8",
        "7-9",
        "8-1",
        "8-13",
        "8-14",
        "8-18",
        "8-20",
        "8-3",
        "8-8",
        "9-1",
        "9-7"
       ],
       "num_examples_per_domain_per_label": -1,
       "pickle_path": "/root/csc500-main/datasets/wisig.node3-19.stratified_ds.2022A.pkl",
       "source_or_target_dataset": "source",
       "x_transforms": [
        "unit_power"
       ]
      }
     ],
     "device": "cuda",
     "experiment_name": "tl_1v2:cores-wisig",
     "lr": 0.0001,
     "n_epoch": 3,
     "n_query": 2,
     "n_shot": 3,
     "n_way": 58,
     "patience": 3,
     "seed": 1337,
     "test_k_factor": 2,
     "torch_default_dtype": "torch.float32",
     "train_k_factor": 3,
     "val_k_factor": 2,
     "x_net": [
      {
       "class": "nnReshape",
       "kargs": {
        "shape": [
         -1,
         1,
         2,
         256
        ]
       }
      },
      {
       "class": "Conv2d",
       "kargs": {
        "bias": false,
        "in_channels": 1,
        "kernel_size": [
         1,
         7
        ],
        "out_channels": 256,
        "padding": [
         0,
         3
        ]
       }
      },
      {
       "class": "ReLU",
       "kargs": {
        "inplace": true
       }
      },
      {
       "class": "BatchNorm2d",
       "kargs": {
        "num_features": 256
       }
      },
      {
       "class": "Conv2d",
       "kargs": {
        "bias": true,
        "in_channels": 256,
        "kernel_size": [
         2,
         7
        ],
        "out_channels": 80,
        "padding": [
         0,
         3
        ]
       }
      },
      {
       "class": "ReLU",
       "kargs": {
        "inplace": true
       }
      },
      {
       "class": "BatchNorm2d",
       "kargs": {
        "num_features": 80
       }
      },
      {
       "class": "Flatten",
       "kargs": {}
      },
      {
       "class": "Linear",
       "kargs": {
        "in_features": 20480,
        "out_features": 256
       }
      },
      {
       "class": "ReLU",
       "kargs": {
        "inplace": true
       }
      },
      {
       "class": "BatchNorm1d",
       "kargs": {
        "num_features": 256
       }
      },
      {
       "class": "Linear",
       "kargs": {
        "in_features": 256,
        "out_features": 256
       }
      }
     ]
    }
   },
   "start_time": "2022-03-21T02:10:37.876900",
   "version": "2.3.4"
  }
 },
 "nbformat": 4,
 "nbformat_minor": 5
}