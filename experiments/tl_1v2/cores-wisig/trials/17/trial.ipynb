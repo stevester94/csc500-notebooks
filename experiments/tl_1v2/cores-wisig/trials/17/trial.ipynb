{
 "cells": [
  {
   "cell_type": "markdown",
   "id": "9fea5f46",
   "metadata": {
    "papermill": {
     "duration": 0.028868,
     "end_time": "2022-03-21T03:23:28.780066",
     "exception": false,
     "start_time": "2022-03-21T03:23:28.751198",
     "status": "completed"
    },
    "tags": []
   },
   "source": [
    "# Transfer Learning Template"
   ]
  },
  {
   "cell_type": "code",
   "execution_count": 1,
   "id": "0902182a",
   "metadata": {
    "execution": {
     "iopub.execute_input": "2022-03-21T03:23:28.842504Z",
     "iopub.status.busy": "2022-03-21T03:23:28.841617Z",
     "iopub.status.idle": "2022-03-21T03:23:30.753721Z",
     "shell.execute_reply": "2022-03-21T03:23:30.752723Z"
    },
    "papermill": {
     "duration": 1.951303,
     "end_time": "2022-03-21T03:23:30.753986",
     "exception": false,
     "start_time": "2022-03-21T03:23:28.802683",
     "status": "completed"
    },
    "tags": []
   },
   "outputs": [],
   "source": [
    "%load_ext autoreload\n",
    "%autoreload 2\n",
    "%matplotlib inline\n",
    "\n",
    "    \n",
    "import os, json, sys, time, random\n",
    "import numpy as np\n",
    "import torch\n",
    "from torch.optim import Adam\n",
    "from  easydict import EasyDict\n",
    "import matplotlib.pyplot as plt\n",
    "\n",
    "from steves_models.steves_ptn import Steves_Prototypical_Network\n",
    "\n",
    "from steves_utils.lazy_iterable_wrapper import Lazy_Iterable_Wrapper\n",
    "from steves_utils.iterable_aggregator import Iterable_Aggregator\n",
    "from steves_utils.ptn_train_eval_test_jig import  PTN_Train_Eval_Test_Jig\n",
    "from steves_utils.torch_sequential_builder import build_sequential\n",
    "from steves_utils.torch_utils import get_dataset_metrics, ptn_confusion_by_domain_over_dataloader\n",
    "from steves_utils.utils_v2 import (per_domain_accuracy_from_confusion, get_datasets_base_path)\n",
    "from steves_utils.PTN.utils import independent_accuracy_assesment\n",
    "\n",
    "from torch.utils.data import DataLoader\n",
    "\n",
    "from steves_utils.stratified_dataset.episodic_accessor import Episodic_Accessor_Factory\n",
    "\n",
    "from steves_utils.ptn_do_report import (\n",
    "    get_loss_curve,\n",
    "    get_results_table,\n",
    "    get_parameters_table,\n",
    "    get_domain_accuracies,\n",
    ")\n",
    "\n",
    "from steves_utils.transforms import get_chained_transform"
   ]
  },
  {
   "cell_type": "markdown",
   "id": "41c840b4",
   "metadata": {
    "papermill": {
     "duration": 0.019964,
     "end_time": "2022-03-21T03:23:30.798510",
     "exception": false,
     "start_time": "2022-03-21T03:23:30.778546",
     "status": "completed"
    },
    "tags": []
   },
   "source": [
    "# Allowed Parameters\n",
    "These are allowed parameters, not defaults\n",
    "Each of these values need to be present in the injected parameters (the notebook will raise an exception if they are not present)\n",
    "\n",
    "Papermill uses the cell tag \"parameters\" to inject the real parameters below this cell.\n",
    "Enable tags to see what I mean"
   ]
  },
  {
   "cell_type": "code",
   "execution_count": 2,
   "id": "fd44eb83",
   "metadata": {
    "execution": {
     "iopub.execute_input": "2022-03-21T03:23:30.846722Z",
     "iopub.status.busy": "2022-03-21T03:23:30.846288Z",
     "iopub.status.idle": "2022-03-21T03:23:30.868764Z",
     "shell.execute_reply": "2022-03-21T03:23:30.868014Z"
    },
    "papermill": {
     "duration": 0.049674,
     "end_time": "2022-03-21T03:23:30.868938",
     "exception": false,
     "start_time": "2022-03-21T03:23:30.819264",
     "status": "completed"
    },
    "tags": []
   },
   "outputs": [],
   "source": [
    "required_parameters = {\n",
    "    \"experiment_name\",\n",
    "    \"lr\",\n",
    "    \"device\",\n",
    "    \"seed\",\n",
    "    \"dataset_seed\",\n",
    "    \"n_shot\",\n",
    "    \"n_query\",\n",
    "    \"n_way\",\n",
    "    \"train_k_factor\",\n",
    "    \"val_k_factor\",\n",
    "    \"test_k_factor\",\n",
    "    \"n_epoch\",\n",
    "    \"patience\",\n",
    "    \"criteria_for_best\",\n",
    "    \"x_net\",\n",
    "    \"datasets\",\n",
    "    \"torch_default_dtype\",\n",
    "    \"NUM_LOGS_PER_EPOCH\",\n",
    "    \"BEST_MODEL_PATH\",\n",
    "    \"x_shape\",\n",
    "}"
   ]
  },
  {
   "cell_type": "code",
   "execution_count": 3,
   "id": "fa3f0049",
   "metadata": {
    "execution": {
     "iopub.execute_input": "2022-03-21T03:23:30.929137Z",
     "iopub.status.busy": "2022-03-21T03:23:30.928361Z",
     "iopub.status.idle": "2022-03-21T03:23:30.952826Z",
     "shell.execute_reply": "2022-03-21T03:23:30.952086Z"
    },
    "papermill": {
     "duration": 0.057593,
     "end_time": "2022-03-21T03:23:30.953001",
     "exception": false,
     "start_time": "2022-03-21T03:23:30.895408",
     "status": "completed"
    },
    "tags": [
     "parameters"
    ]
   },
   "outputs": [],
   "source": [
    "from steves_utils.CORES.utils import (\n",
    "    ALL_NODES,\n",
    "    ALL_NODES_MINIMUM_1000_EXAMPLES,\n",
    "    ALL_DAYS\n",
    ")\n",
    "\n",
    "from steves_utils.ORACLE.utils_v2 import (\n",
    "    ALL_DISTANCES_FEET_NARROWED,\n",
    "    ALL_RUNS,\n",
    "    ALL_SERIAL_NUMBERS,\n",
    ")\n",
    "\n",
    "standalone_parameters = {}\n",
    "standalone_parameters[\"experiment_name\"] = \"STANDALONE PTN\"\n",
    "standalone_parameters[\"lr\"] = 0.001\n",
    "standalone_parameters[\"device\"] = \"cuda\"\n",
    "\n",
    "standalone_parameters[\"seed\"] = 1337\n",
    "standalone_parameters[\"dataset_seed\"] = 1337\n",
    "\n",
    "standalone_parameters[\"n_way\"] = 8\n",
    "standalone_parameters[\"n_shot\"] = 3\n",
    "standalone_parameters[\"n_query\"]  = 2\n",
    "standalone_parameters[\"train_k_factor\"] = 1\n",
    "standalone_parameters[\"val_k_factor\"] = 2\n",
    "standalone_parameters[\"test_k_factor\"] = 2\n",
    "\n",
    "\n",
    "standalone_parameters[\"n_epoch\"] = 50\n",
    "\n",
    "standalone_parameters[\"patience\"] = 10\n",
    "standalone_parameters[\"criteria_for_best\"] = \"source_loss\"\n",
    "\n",
    "standalone_parameters[\"datasets\"] = [\n",
    "    {\n",
    "        \"labels\": ALL_SERIAL_NUMBERS,\n",
    "        \"domains\": ALL_DISTANCES_FEET_NARROWED,\n",
    "        \"num_examples_per_domain_per_label\": 100,\n",
    "        \"pickle_path\": os.path.join(get_datasets_base_path(), \"oracle.Run1_framed_2000Examples_stratified_ds.2022A.pkl\"),\n",
    "        \"source_or_target_dataset\": \"source\",\n",
    "        \"x_transforms\": [\"unit_mag\", \"minus_two\"],\n",
    "        \"episode_transforms\": [],\n",
    "        \"domain_prefix\": \"ORACLE_\"\n",
    "    },\n",
    "    {\n",
    "        \"labels\": ALL_NODES,\n",
    "        \"domains\": ALL_DAYS,\n",
    "        \"num_examples_per_domain_per_label\": 100,\n",
    "        \"pickle_path\": os.path.join(get_datasets_base_path(), \"cores.stratified_ds.2022A.pkl\"),\n",
    "        \"source_or_target_dataset\": \"target\",\n",
    "        \"x_transforms\": [\"unit_power\", \"times_zero\"],\n",
    "        \"episode_transforms\": [],\n",
    "        \"domain_prefix\": \"CORES_\"\n",
    "    }   \n",
    "]\n",
    "\n",
    "standalone_parameters[\"torch_default_dtype\"] = \"torch.float32\" \n",
    "\n",
    "\n",
    "\n",
    "standalone_parameters[\"x_net\"] =     [\n",
    "    {\"class\": \"nnReshape\", \"kargs\": {\"shape\":[-1, 1, 2, 256]}},\n",
    "    {\"class\": \"Conv2d\", \"kargs\": { \"in_channels\":1, \"out_channels\":256, \"kernel_size\":(1,7), \"bias\":False, \"padding\":(0,3), },},\n",
    "    {\"class\": \"ReLU\", \"kargs\": {\"inplace\": True}},\n",
    "    {\"class\": \"BatchNorm2d\", \"kargs\": {\"num_features\":256}},\n",
    "\n",
    "    {\"class\": \"Conv2d\", \"kargs\": { \"in_channels\":256, \"out_channels\":80, \"kernel_size\":(2,7), \"bias\":True, \"padding\":(0,3), },},\n",
    "    {\"class\": \"ReLU\", \"kargs\": {\"inplace\": True}},\n",
    "    {\"class\": \"BatchNorm2d\", \"kargs\": {\"num_features\":80}},\n",
    "    {\"class\": \"Flatten\", \"kargs\": {}},\n",
    "\n",
    "    {\"class\": \"Linear\", \"kargs\": {\"in_features\": 80*256, \"out_features\": 256}}, # 80 units per IQ pair\n",
    "    {\"class\": \"ReLU\", \"kargs\": {\"inplace\": True}},\n",
    "    {\"class\": \"BatchNorm1d\", \"kargs\": {\"num_features\":256}},\n",
    "\n",
    "    {\"class\": \"Linear\", \"kargs\": {\"in_features\": 256, \"out_features\": 256}},\n",
    "]\n",
    "\n",
    "# Parameters relevant to results\n",
    "# These parameters will basically never need to change\n",
    "standalone_parameters[\"NUM_LOGS_PER_EPOCH\"] = 10\n",
    "standalone_parameters[\"BEST_MODEL_PATH\"] = \"./best_model.pth\"\n",
    "\n",
    "\n",
    "\n",
    "\n"
   ]
  },
  {
   "cell_type": "code",
   "execution_count": 4,
   "id": "209008b1",
   "metadata": {
    "execution": {
     "iopub.execute_input": "2022-03-21T03:23:31.021655Z",
     "iopub.status.busy": "2022-03-21T03:23:31.020590Z",
     "iopub.status.idle": "2022-03-21T03:23:31.045837Z",
     "shell.execute_reply": "2022-03-21T03:23:31.044942Z"
    },
    "papermill": {
     "duration": 0.064824,
     "end_time": "2022-03-21T03:23:31.046024",
     "exception": false,
     "start_time": "2022-03-21T03:23:30.981200",
     "status": "completed"
    },
    "tags": [
     "injected-parameters"
    ]
   },
   "outputs": [],
   "source": [
    "# Parameters\n",
    "parameters = {\n",
    "    \"experiment_name\": \"tl_1v2:cores-wisig\",\n",
    "    \"device\": \"cuda\",\n",
    "    \"lr\": 0.0001,\n",
    "    \"n_shot\": 3,\n",
    "    \"n_query\": 2,\n",
    "    \"train_k_factor\": 3,\n",
    "    \"val_k_factor\": 2,\n",
    "    \"test_k_factor\": 2,\n",
    "    \"torch_default_dtype\": \"torch.float32\",\n",
    "    \"n_epoch\": 3,\n",
    "    \"patience\": 3,\n",
    "    \"criteria_for_best\": \"target_accuracy\",\n",
    "    \"x_net\": [\n",
    "        {\"class\": \"nnReshape\", \"kargs\": {\"shape\": [-1, 1, 2, 256]}},\n",
    "        {\n",
    "            \"class\": \"Conv2d\",\n",
    "            \"kargs\": {\n",
    "                \"in_channels\": 1,\n",
    "                \"out_channels\": 256,\n",
    "                \"kernel_size\": [1, 7],\n",
    "                \"bias\": False,\n",
    "                \"padding\": [0, 3],\n",
    "            },\n",
    "        },\n",
    "        {\"class\": \"ReLU\", \"kargs\": {\"inplace\": True}},\n",
    "        {\"class\": \"BatchNorm2d\", \"kargs\": {\"num_features\": 256}},\n",
    "        {\n",
    "            \"class\": \"Conv2d\",\n",
    "            \"kargs\": {\n",
    "                \"in_channels\": 256,\n",
    "                \"out_channels\": 80,\n",
    "                \"kernel_size\": [2, 7],\n",
    "                \"bias\": True,\n",
    "                \"padding\": [0, 3],\n",
    "            },\n",
    "        },\n",
    "        {\"class\": \"ReLU\", \"kargs\": {\"inplace\": True}},\n",
    "        {\"class\": \"BatchNorm2d\", \"kargs\": {\"num_features\": 80}},\n",
    "        {\"class\": \"Flatten\", \"kargs\": {}},\n",
    "        {\"class\": \"Linear\", \"kargs\": {\"in_features\": 20480, \"out_features\": 256}},\n",
    "        {\"class\": \"ReLU\", \"kargs\": {\"inplace\": True}},\n",
    "        {\"class\": \"BatchNorm1d\", \"kargs\": {\"num_features\": 256}},\n",
    "        {\"class\": \"Linear\", \"kargs\": {\"in_features\": 256, \"out_features\": 256}},\n",
    "    ],\n",
    "    \"NUM_LOGS_PER_EPOCH\": 10,\n",
    "    \"BEST_MODEL_PATH\": \"./best_model.pth\",\n",
    "    \"n_way\": 58,\n",
    "    \"datasets\": [\n",
    "        {\n",
    "            \"labels\": [\n",
    "                \"1-10.\",\n",
    "                \"1-11.\",\n",
    "                \"1-15.\",\n",
    "                \"1-16.\",\n",
    "                \"1-17.\",\n",
    "                \"1-18.\",\n",
    "                \"1-19.\",\n",
    "                \"10-4.\",\n",
    "                \"10-7.\",\n",
    "                \"11-1.\",\n",
    "                \"11-14.\",\n",
    "                \"11-17.\",\n",
    "                \"11-20.\",\n",
    "                \"11-7.\",\n",
    "                \"13-20.\",\n",
    "                \"13-8.\",\n",
    "                \"14-10.\",\n",
    "                \"14-11.\",\n",
    "                \"14-14.\",\n",
    "                \"14-7.\",\n",
    "                \"15-1.\",\n",
    "                \"15-20.\",\n",
    "                \"16-1.\",\n",
    "                \"16-16.\",\n",
    "                \"17-10.\",\n",
    "                \"17-11.\",\n",
    "                \"17-2.\",\n",
    "                \"19-1.\",\n",
    "                \"19-16.\",\n",
    "                \"19-19.\",\n",
    "                \"19-20.\",\n",
    "                \"19-3.\",\n",
    "                \"2-10.\",\n",
    "                \"2-11.\",\n",
    "                \"2-17.\",\n",
    "                \"2-18.\",\n",
    "                \"2-20.\",\n",
    "                \"2-3.\",\n",
    "                \"2-4.\",\n",
    "                \"2-5.\",\n",
    "                \"2-6.\",\n",
    "                \"2-7.\",\n",
    "                \"2-8.\",\n",
    "                \"3-13.\",\n",
    "                \"3-18.\",\n",
    "                \"3-3.\",\n",
    "                \"4-1.\",\n",
    "                \"4-10.\",\n",
    "                \"4-11.\",\n",
    "                \"4-19.\",\n",
    "                \"5-5.\",\n",
    "                \"6-15.\",\n",
    "                \"7-10.\",\n",
    "                \"7-14.\",\n",
    "                \"8-18.\",\n",
    "                \"8-20.\",\n",
    "                \"8-3.\",\n",
    "                \"8-8.\",\n",
    "            ],\n",
    "            \"domains\": [1, 2, 3, 4, 5],\n",
    "            \"num_examples_per_domain_per_label\": -1,\n",
    "            \"pickle_path\": \"/root/csc500-main/datasets/cores.stratified_ds.2022A.pkl\",\n",
    "            \"source_or_target_dataset\": \"target\",\n",
    "            \"x_transforms\": [],\n",
    "            \"episode_transforms\": [],\n",
    "            \"domain_prefix\": \"CORES_\",\n",
    "        },\n",
    "        {\n",
    "            \"labels\": [\n",
    "                \"1-10\",\n",
    "                \"1-12\",\n",
    "                \"1-14\",\n",
    "                \"1-16\",\n",
    "                \"1-18\",\n",
    "                \"1-19\",\n",
    "                \"1-8\",\n",
    "                \"10-11\",\n",
    "                \"10-17\",\n",
    "                \"10-4\",\n",
    "                \"10-7\",\n",
    "                \"11-1\",\n",
    "                \"11-10\",\n",
    "                \"11-19\",\n",
    "                \"11-20\",\n",
    "                \"11-4\",\n",
    "                \"11-7\",\n",
    "                \"12-19\",\n",
    "                \"12-20\",\n",
    "                \"12-7\",\n",
    "                \"13-14\",\n",
    "                \"13-18\",\n",
    "                \"13-19\",\n",
    "                \"13-20\",\n",
    "                \"13-3\",\n",
    "                \"13-7\",\n",
    "                \"14-10\",\n",
    "                \"14-11\",\n",
    "                \"14-12\",\n",
    "                \"14-13\",\n",
    "                \"14-14\",\n",
    "                \"14-19\",\n",
    "                \"14-20\",\n",
    "                \"14-7\",\n",
    "                \"14-8\",\n",
    "                \"14-9\",\n",
    "                \"15-1\",\n",
    "                \"15-19\",\n",
    "                \"15-6\",\n",
    "                \"16-1\",\n",
    "                \"16-16\",\n",
    "                \"16-19\",\n",
    "                \"16-20\",\n",
    "                \"17-10\",\n",
    "                \"17-11\",\n",
    "                \"18-1\",\n",
    "                \"18-10\",\n",
    "                \"18-11\",\n",
    "                \"18-12\",\n",
    "                \"18-13\",\n",
    "                \"18-14\",\n",
    "                \"18-15\",\n",
    "                \"18-16\",\n",
    "                \"18-17\",\n",
    "                \"18-19\",\n",
    "                \"18-2\",\n",
    "                \"18-20\",\n",
    "                \"18-4\",\n",
    "                \"18-5\",\n",
    "                \"18-7\",\n",
    "                \"18-8\",\n",
    "                \"18-9\",\n",
    "                \"19-1\",\n",
    "                \"19-10\",\n",
    "                \"19-11\",\n",
    "                \"19-12\",\n",
    "                \"19-13\",\n",
    "                \"19-14\",\n",
    "                \"19-15\",\n",
    "                \"19-19\",\n",
    "                \"19-2\",\n",
    "                \"19-20\",\n",
    "                \"19-3\",\n",
    "                \"19-4\",\n",
    "                \"19-6\",\n",
    "                \"19-7\",\n",
    "                \"19-8\",\n",
    "                \"19-9\",\n",
    "                \"2-1\",\n",
    "                \"2-13\",\n",
    "                \"2-15\",\n",
    "                \"2-3\",\n",
    "                \"2-4\",\n",
    "                \"2-5\",\n",
    "                \"2-6\",\n",
    "                \"2-7\",\n",
    "                \"2-8\",\n",
    "                \"20-1\",\n",
    "                \"20-12\",\n",
    "                \"20-14\",\n",
    "                \"20-15\",\n",
    "                \"20-16\",\n",
    "                \"20-18\",\n",
    "                \"20-19\",\n",
    "                \"20-20\",\n",
    "                \"20-3\",\n",
    "                \"20-4\",\n",
    "                \"20-5\",\n",
    "                \"20-7\",\n",
    "                \"20-8\",\n",
    "                \"3-1\",\n",
    "                \"3-13\",\n",
    "                \"3-18\",\n",
    "                \"3-2\",\n",
    "                \"3-8\",\n",
    "                \"4-1\",\n",
    "                \"4-10\",\n",
    "                \"4-11\",\n",
    "                \"5-1\",\n",
    "                \"5-5\",\n",
    "                \"6-1\",\n",
    "                \"6-15\",\n",
    "                \"6-6\",\n",
    "                \"7-10\",\n",
    "                \"7-11\",\n",
    "                \"7-12\",\n",
    "                \"7-13\",\n",
    "                \"7-14\",\n",
    "                \"7-7\",\n",
    "                \"7-8\",\n",
    "                \"7-9\",\n",
    "                \"8-1\",\n",
    "                \"8-13\",\n",
    "                \"8-14\",\n",
    "                \"8-18\",\n",
    "                \"8-20\",\n",
    "                \"8-3\",\n",
    "                \"8-8\",\n",
    "                \"9-1\",\n",
    "                \"9-7\",\n",
    "            ],\n",
    "            \"domains\": [1, 2, 3, 4],\n",
    "            \"num_examples_per_domain_per_label\": -1,\n",
    "            \"pickle_path\": \"/root/csc500-main/datasets/wisig.node3-19.stratified_ds.2022A.pkl\",\n",
    "            \"source_or_target_dataset\": \"source\",\n",
    "            \"x_transforms\": [],\n",
    "            \"episode_transforms\": [],\n",
    "            \"domain_prefix\": \"Wisig_\",\n",
    "        },\n",
    "    ],\n",
    "    \"dataset_seed\": 154325,\n",
    "    \"seed\": 154325,\n",
    "}\n"
   ]
  },
  {
   "cell_type": "code",
   "execution_count": 5,
   "id": "8fa1cc33",
   "metadata": {
    "execution": {
     "iopub.execute_input": "2022-03-21T03:23:31.096839Z",
     "iopub.status.busy": "2022-03-21T03:23:31.096236Z",
     "iopub.status.idle": "2022-03-21T03:23:31.116330Z",
     "shell.execute_reply": "2022-03-21T03:23:31.115441Z"
    },
    "papermill": {
     "duration": 0.046063,
     "end_time": "2022-03-21T03:23:31.116511",
     "exception": false,
     "start_time": "2022-03-21T03:23:31.070448",
     "status": "completed"
    },
    "tags": []
   },
   "outputs": [],
   "source": [
    "# Set this to True if you want to run this template directly\n",
    "STANDALONE = False\n",
    "if STANDALONE:\n",
    "    print(\"parameters not injected, running with standalone_parameters\")\n",
    "    parameters = standalone_parameters\n",
    "\n",
    "if not 'parameters' in locals() and not 'parameters' in globals():\n",
    "    raise Exception(\"Parameter injection failed\")\n",
    "\n",
    "#Use an easy dict for all the parameters\n",
    "p = EasyDict(parameters)\n",
    "\n",
    "if \"x_shape\" not in p:\n",
    "    p.x_shape = [2,256] # Default to this if we dont supply x_shape\n",
    "\n",
    "\n",
    "supplied_keys = set(p.keys())\n",
    "\n",
    "if  supplied_keys != required_parameters:\n",
    "    print(\"Parameters are incorrect\")\n",
    "    if len(supplied_keys - required_parameters)>0: print(\"Shouldn't have:\", str(supplied_keys - required_parameters))\n",
    "    if len(required_parameters - supplied_keys)>0: print(\"Need to have:\", str(required_parameters - supplied_keys))\n",
    "    raise RuntimeError(\"Parameters are incorrect\")"
   ]
  },
  {
   "cell_type": "code",
   "execution_count": 6,
   "id": "3a028d58",
   "metadata": {
    "execution": {
     "iopub.execute_input": "2022-03-21T03:23:31.167691Z",
     "iopub.status.busy": "2022-03-21T03:23:31.167301Z",
     "iopub.status.idle": "2022-03-21T03:23:31.189482Z",
     "shell.execute_reply": "2022-03-21T03:23:31.188885Z"
    },
    "papermill": {
     "duration": 0.044966,
     "end_time": "2022-03-21T03:23:31.189608",
     "exception": false,
     "start_time": "2022-03-21T03:23:31.144642",
     "status": "completed"
    },
    "tags": []
   },
   "outputs": [],
   "source": [
    "###################################\n",
    "# Set the RNGs and make it all deterministic\n",
    "###################################\n",
    "np.random.seed(p.seed)\n",
    "random.seed(p.seed)\n",
    "torch.manual_seed(p.seed)\n",
    "\n",
    "torch.use_deterministic_algorithms(True) "
   ]
  },
  {
   "cell_type": "code",
   "execution_count": 7,
   "id": "b691acf6",
   "metadata": {
    "execution": {
     "iopub.execute_input": "2022-03-21T03:23:31.245583Z",
     "iopub.status.busy": "2022-03-21T03:23:31.244995Z",
     "iopub.status.idle": "2022-03-21T03:23:31.265130Z",
     "shell.execute_reply": "2022-03-21T03:23:31.264483Z"
    },
    "papermill": {
     "duration": 0.046652,
     "end_time": "2022-03-21T03:23:31.265261",
     "exception": false,
     "start_time": "2022-03-21T03:23:31.218609",
     "status": "completed"
    },
    "tags": []
   },
   "outputs": [],
   "source": [
    "###########################################\n",
    "# The stratified datasets honor this\n",
    "###########################################\n",
    "torch.set_default_dtype(eval(p.torch_default_dtype))"
   ]
  },
  {
   "cell_type": "code",
   "execution_count": 8,
   "id": "b5fba671",
   "metadata": {
    "execution": {
     "iopub.execute_input": "2022-03-21T03:23:31.319930Z",
     "iopub.status.busy": "2022-03-21T03:23:31.319540Z",
     "iopub.status.idle": "2022-03-21T03:23:31.374602Z",
     "shell.execute_reply": "2022-03-21T03:23:31.375284Z"
    },
    "papermill": {
     "duration": 0.081924,
     "end_time": "2022-03-21T03:23:31.375522",
     "exception": false,
     "start_time": "2022-03-21T03:23:31.293598",
     "status": "completed"
    },
    "tags": []
   },
   "outputs": [],
   "source": [
    "###################################\n",
    "# Build the network(s)\n",
    "# Note: It's critical to do this AFTER setting the RNG\n",
    "###################################\n",
    "x_net = build_sequential(p.x_net)"
   ]
  },
  {
   "cell_type": "code",
   "execution_count": 9,
   "id": "5d7e61cc",
   "metadata": {
    "execution": {
     "iopub.execute_input": "2022-03-21T03:23:31.429419Z",
     "iopub.status.busy": "2022-03-21T03:23:31.429038Z",
     "iopub.status.idle": "2022-03-21T03:23:31.455462Z",
     "shell.execute_reply": "2022-03-21T03:23:31.454312Z"
    },
    "papermill": {
     "duration": 0.052567,
     "end_time": "2022-03-21T03:23:31.455718",
     "exception": false,
     "start_time": "2022-03-21T03:23:31.403151",
     "status": "completed"
    },
    "tags": []
   },
   "outputs": [],
   "source": [
    "start_time_secs = time.time()"
   ]
  },
  {
   "cell_type": "code",
   "execution_count": 10,
   "id": "c6b67dfd",
   "metadata": {
    "execution": {
     "iopub.execute_input": "2022-03-21T03:23:31.508598Z",
     "iopub.status.busy": "2022-03-21T03:23:31.507840Z",
     "iopub.status.idle": "2022-03-21T03:23:31.529917Z",
     "shell.execute_reply": "2022-03-21T03:23:31.529076Z"
    },
    "papermill": {
     "duration": 0.048657,
     "end_time": "2022-03-21T03:23:31.530104",
     "exception": false,
     "start_time": "2022-03-21T03:23:31.481447",
     "status": "completed"
    },
    "tags": []
   },
   "outputs": [],
   "source": [
    "p.domains_source = []\n",
    "p.domains_target = []\n",
    "\n",
    "\n",
    "train_original_source = []\n",
    "val_original_source   = []\n",
    "test_original_source  = []\n",
    "\n",
    "train_original_target = []\n",
    "val_original_target   = []\n",
    "test_original_target  = []"
   ]
  },
  {
   "cell_type": "code",
   "execution_count": 11,
   "id": "e3d9c3d3",
   "metadata": {
    "execution": {
     "iopub.execute_input": "2022-03-21T03:23:31.586002Z",
     "iopub.status.busy": "2022-03-21T03:23:31.585272Z",
     "iopub.status.idle": "2022-03-21T03:23:31.606922Z",
     "shell.execute_reply": "2022-03-21T03:23:31.605931Z"
    },
    "papermill": {
     "duration": 0.048016,
     "end_time": "2022-03-21T03:23:31.607105",
     "exception": false,
     "start_time": "2022-03-21T03:23:31.559089",
     "status": "completed"
    },
    "tags": []
   },
   "outputs": [],
   "source": [
    "# global_x_transform_func = lambda x: normalize(x.to(torch.get_default_dtype()), \"unit_power\") # unit_power, unit_mag\n",
    "# global_x_transform_func = lambda x: normalize(x, \"unit_power\") # unit_power, unit_mag"
   ]
  },
  {
   "cell_type": "code",
   "execution_count": 12,
   "id": "acb78fd2",
   "metadata": {
    "execution": {
     "iopub.execute_input": "2022-03-21T03:23:31.664527Z",
     "iopub.status.busy": "2022-03-21T03:23:31.663802Z",
     "iopub.status.idle": "2022-03-21T03:23:31.683293Z",
     "shell.execute_reply": "2022-03-21T03:23:31.682271Z"
    },
    "papermill": {
     "duration": 0.048911,
     "end_time": "2022-03-21T03:23:31.683568",
     "exception": false,
     "start_time": "2022-03-21T03:23:31.634657",
     "status": "completed"
    },
    "tags": []
   },
   "outputs": [],
   "source": [
    "def add_dataset(\n",
    "    labels,\n",
    "    domains,\n",
    "    pickle_path,\n",
    "    x_transforms,\n",
    "    episode_transforms,\n",
    "    domain_prefix,\n",
    "    num_examples_per_domain_per_label,\n",
    "    source_or_target_dataset:str,\n",
    "    iterator_seed=p.seed,\n",
    "    dataset_seed=p.dataset_seed,\n",
    "    n_shot=p.n_shot,\n",
    "    n_way=p.n_way,\n",
    "    n_query=p.n_query,\n",
    "    train_val_test_k_factors=(p.train_k_factor,p.val_k_factor,p.test_k_factor),\n",
    "):\n",
    "   \n",
    "    if x_transforms == []: x_transform = None\n",
    "    else: x_transform = get_chained_transform(x_transforms)\n",
    "    \n",
    "    if episode_transforms == []: episode_transform = None\n",
    "    else: raise Exception(\"episode_transforms not implemented\")\n",
    "    \n",
    "    episode_transform = lambda tup, _prefix=domain_prefix: (_prefix + str(tup[0]), tup[1])\n",
    "\n",
    "\n",
    "    eaf = Episodic_Accessor_Factory(\n",
    "        labels=labels,\n",
    "        domains=domains,\n",
    "        num_examples_per_domain_per_label=num_examples_per_domain_per_label,\n",
    "        iterator_seed=iterator_seed,\n",
    "        dataset_seed=dataset_seed,\n",
    "        n_shot=n_shot,\n",
    "        n_way=n_way,\n",
    "        n_query=n_query,\n",
    "        train_val_test_k_factors=train_val_test_k_factors,\n",
    "        pickle_path=pickle_path,\n",
    "        x_transform_func=x_transform,\n",
    "    )\n",
    "\n",
    "    train, val, test = eaf.get_train(), eaf.get_val(), eaf.get_test()\n",
    "    train = Lazy_Iterable_Wrapper(train, episode_transform)\n",
    "    val = Lazy_Iterable_Wrapper(val, episode_transform)\n",
    "    test = Lazy_Iterable_Wrapper(test, episode_transform)\n",
    "\n",
    "    if source_or_target_dataset==\"source\":\n",
    "        train_original_source.append(train)\n",
    "        val_original_source.append(val)\n",
    "        test_original_source.append(test)\n",
    "\n",
    "        p.domains_source.extend(\n",
    "            [domain_prefix + str(u) for u in domains]\n",
    "        )\n",
    "    elif source_or_target_dataset==\"target\":\n",
    "        train_original_target.append(train)\n",
    "        val_original_target.append(val)\n",
    "        test_original_target.append(test)\n",
    "        p.domains_target.extend(\n",
    "            [domain_prefix + str(u) for u in domains]\n",
    "        )\n",
    "    else:\n",
    "        raise Exception(f\"invalid source_or_target_dataset: {source_or_target_dataset}\")\n",
    "    "
   ]
  },
  {
   "cell_type": "code",
   "execution_count": 13,
   "id": "fe266617",
   "metadata": {
    "execution": {
     "iopub.execute_input": "2022-03-21T03:23:31.739051Z",
     "iopub.status.busy": "2022-03-21T03:23:31.738563Z",
     "iopub.status.idle": "2022-03-21T03:23:35.501666Z",
     "shell.execute_reply": "2022-03-21T03:23:35.500913Z"
    },
    "papermill": {
     "duration": 3.789431,
     "end_time": "2022-03-21T03:23:35.501863",
     "exception": false,
     "start_time": "2022-03-21T03:23:31.712432",
     "status": "completed"
    },
    "tags": []
   },
   "outputs": [],
   "source": [
    "for ds in p.datasets:\n",
    "    add_dataset(**ds)"
   ]
  },
  {
   "cell_type": "code",
   "execution_count": 14,
   "id": "b90d65ac",
   "metadata": {
    "execution": {
     "iopub.execute_input": "2022-03-21T03:23:35.551232Z",
     "iopub.status.busy": "2022-03-21T03:23:35.550854Z",
     "iopub.status.idle": "2022-03-21T03:23:35.576197Z",
     "shell.execute_reply": "2022-03-21T03:23:35.575365Z"
    },
    "papermill": {
     "duration": 0.050039,
     "end_time": "2022-03-21T03:23:35.576358",
     "exception": false,
     "start_time": "2022-03-21T03:23:35.526319",
     "status": "completed"
    },
    "tags": []
   },
   "outputs": [],
   "source": [
    "# from steves_utils.CORES.utils import (\n",
    "#     ALL_NODES,\n",
    "#     ALL_NODES_MINIMUM_1000_EXAMPLES,\n",
    "#     ALL_DAYS\n",
    "# )\n",
    "\n",
    "# add_dataset(\n",
    "#     labels=ALL_NODES,\n",
    "#     domains = ALL_DAYS,\n",
    "#     num_examples_per_domain_per_label=100,\n",
    "#     pickle_path=os.path.join(get_datasets_base_path(), \"cores.stratified_ds.2022A.pkl\"),\n",
    "#     source_or_target_dataset=\"target\",\n",
    "#     x_transform_func=global_x_transform_func,\n",
    "#     domain_modifier=lambda u: f\"cores_{u}\"\n",
    "# )"
   ]
  },
  {
   "cell_type": "code",
   "execution_count": 15,
   "id": "76db484d",
   "metadata": {
    "execution": {
     "iopub.execute_input": "2022-03-21T03:23:35.625831Z",
     "iopub.status.busy": "2022-03-21T03:23:35.624723Z",
     "iopub.status.idle": "2022-03-21T03:23:35.645333Z",
     "shell.execute_reply": "2022-03-21T03:23:35.644509Z"
    },
    "papermill": {
     "duration": 0.044417,
     "end_time": "2022-03-21T03:23:35.645493",
     "exception": false,
     "start_time": "2022-03-21T03:23:35.601076",
     "status": "completed"
    },
    "tags": []
   },
   "outputs": [],
   "source": [
    "# from steves_utils.ORACLE.utils_v2 import (\n",
    "#     ALL_DISTANCES_FEET,\n",
    "#     ALL_RUNS,\n",
    "#     ALL_SERIAL_NUMBERS,\n",
    "# )\n",
    "\n",
    "\n",
    "# add_dataset(\n",
    "#     labels=ALL_SERIAL_NUMBERS,\n",
    "#     domains = list(set(ALL_DISTANCES_FEET) - {2,62}),\n",
    "#     num_examples_per_domain_per_label=100,\n",
    "#     pickle_path=os.path.join(get_datasets_base_path(), \"oracle.Run2_framed_2000Examples_stratified_ds.2022A.pkl\"),\n",
    "#     source_or_target_dataset=\"source\",\n",
    "#     x_transform_func=global_x_transform_func,\n",
    "#     domain_modifier=lambda u: f\"oracle1_{u}\"\n",
    "# )\n"
   ]
  },
  {
   "cell_type": "code",
   "execution_count": 16,
   "id": "97dea9d2",
   "metadata": {
    "execution": {
     "iopub.execute_input": "2022-03-21T03:23:35.701648Z",
     "iopub.status.busy": "2022-03-21T03:23:35.700033Z",
     "iopub.status.idle": "2022-03-21T03:23:35.720728Z",
     "shell.execute_reply": "2022-03-21T03:23:35.719919Z"
    },
    "papermill": {
     "duration": 0.046365,
     "end_time": "2022-03-21T03:23:35.720885",
     "exception": false,
     "start_time": "2022-03-21T03:23:35.674520",
     "status": "completed"
    },
    "tags": []
   },
   "outputs": [],
   "source": [
    "# from steves_utils.ORACLE.utils_v2 import (\n",
    "#     ALL_DISTANCES_FEET,\n",
    "#     ALL_RUNS,\n",
    "#     ALL_SERIAL_NUMBERS,\n",
    "# )\n",
    "\n",
    "\n",
    "# add_dataset(\n",
    "#     labels=ALL_SERIAL_NUMBERS,\n",
    "#     domains = list(set(ALL_DISTANCES_FEET) - {2,62,56}),\n",
    "#     num_examples_per_domain_per_label=100,\n",
    "#     pickle_path=os.path.join(get_datasets_base_path(), \"oracle.Run2_framed_2000Examples_stratified_ds.2022A.pkl\"),\n",
    "#     source_or_target_dataset=\"source\",\n",
    "#     x_transform_func=global_x_transform_func,\n",
    "#     domain_modifier=lambda u: f\"oracle2_{u}\"\n",
    "# )"
   ]
  },
  {
   "cell_type": "code",
   "execution_count": 17,
   "id": "6f289866",
   "metadata": {
    "execution": {
     "iopub.execute_input": "2022-03-21T03:23:35.772207Z",
     "iopub.status.busy": "2022-03-21T03:23:35.771138Z",
     "iopub.status.idle": "2022-03-21T03:23:35.792908Z",
     "shell.execute_reply": "2022-03-21T03:23:35.792108Z"
    },
    "papermill": {
     "duration": 0.045308,
     "end_time": "2022-03-21T03:23:35.793061",
     "exception": false,
     "start_time": "2022-03-21T03:23:35.747753",
     "status": "completed"
    },
    "tags": []
   },
   "outputs": [],
   "source": [
    "# add_dataset(\n",
    "#     labels=list(range(19)),\n",
    "#     domains = [0,1,2],\n",
    "#     num_examples_per_domain_per_label=100,\n",
    "#     pickle_path=os.path.join(get_datasets_base_path(), \"metehan.stratified_ds.2022A.pkl\"),\n",
    "#     source_or_target_dataset=\"target\",\n",
    "#     x_transform_func=global_x_transform_func,\n",
    "#     domain_modifier=lambda u: f\"met_{u}\"\n",
    "# )"
   ]
  },
  {
   "cell_type": "code",
   "execution_count": 18,
   "id": "86a863c3",
   "metadata": {
    "execution": {
     "iopub.execute_input": "2022-03-21T03:23:35.840838Z",
     "iopub.status.busy": "2022-03-21T03:23:35.840422Z",
     "iopub.status.idle": "2022-03-21T03:23:35.857537Z",
     "shell.execute_reply": "2022-03-21T03:23:35.856739Z"
    },
    "papermill": {
     "duration": 0.040172,
     "end_time": "2022-03-21T03:23:35.857691",
     "exception": false,
     "start_time": "2022-03-21T03:23:35.817519",
     "status": "completed"
    },
    "tags": []
   },
   "outputs": [],
   "source": [
    "# # from steves_utils.wisig.utils import (\n",
    "# #     ALL_NODES_MINIMUM_100_EXAMPLES,\n",
    "# #     ALL_NODES_MINIMUM_500_EXAMPLES,\n",
    "# #     ALL_NODES_MINIMUM_1000_EXAMPLES,\n",
    "# #     ALL_DAYS\n",
    "# # )\n",
    "\n",
    "# import steves_utils.wisig.utils as wisig\n",
    "\n",
    "\n",
    "# add_dataset(\n",
    "#     labels=wisig.ALL_NODES_MINIMUM_100_EXAMPLES,\n",
    "#     domains = wisig.ALL_DAYS,\n",
    "#     num_examples_per_domain_per_label=100,\n",
    "#     pickle_path=os.path.join(get_datasets_base_path(), \"wisig.node3-19.stratified_ds.2022A.pkl\"),\n",
    "#     source_or_target_dataset=\"target\",\n",
    "#     x_transform_func=global_x_transform_func,\n",
    "#     domain_modifier=lambda u: f\"wisig_{u}\"\n",
    "# )"
   ]
  },
  {
   "cell_type": "code",
   "execution_count": 19,
   "id": "fd5442bc",
   "metadata": {
    "execution": {
     "iopub.execute_input": "2022-03-21T03:23:35.916733Z",
     "iopub.status.busy": "2022-03-21T03:23:35.911210Z",
     "iopub.status.idle": "2022-03-21T03:23:35.932385Z",
     "shell.execute_reply": "2022-03-21T03:23:35.931684Z"
    },
    "papermill": {
     "duration": 0.048696,
     "end_time": "2022-03-21T03:23:35.932536",
     "exception": false,
     "start_time": "2022-03-21T03:23:35.883840",
     "status": "completed"
    },
    "tags": []
   },
   "outputs": [],
   "source": [
    "###################################\n",
    "# Build the dataset\n",
    "###################################\n",
    "train_original_source = Iterable_Aggregator(train_original_source, p.seed)\n",
    "val_original_source = Iterable_Aggregator(val_original_source, p.seed)\n",
    "test_original_source = Iterable_Aggregator(test_original_source, p.seed)\n",
    "\n",
    "\n",
    "train_original_target = Iterable_Aggregator(train_original_target, p.seed)\n",
    "val_original_target = Iterable_Aggregator(val_original_target, p.seed)\n",
    "test_original_target = Iterable_Aggregator(test_original_target, p.seed)\n",
    "\n",
    "# For CNN We only use X and Y. And we only train on the source.\n",
    "# Properly form the data using a transform lambda and Lazy_Iterable_Wrapper. Finally wrap them in a dataloader\n",
    "\n",
    "transform_lambda = lambda ex: ex[1] # Original is (<domain>, <episode>) so we strip down to episode only\n",
    "\n",
    "train_processed_source = Lazy_Iterable_Wrapper(train_original_source, transform_lambda)\n",
    "val_processed_source   = Lazy_Iterable_Wrapper(val_original_source, transform_lambda)\n",
    "test_processed_source  = Lazy_Iterable_Wrapper(test_original_source, transform_lambda)\n",
    "\n",
    "train_processed_target = Lazy_Iterable_Wrapper(train_original_target, transform_lambda)\n",
    "val_processed_target   = Lazy_Iterable_Wrapper(val_original_target, transform_lambda)\n",
    "test_processed_target  = Lazy_Iterable_Wrapper(test_original_target, transform_lambda)\n",
    "\n",
    "datasets = EasyDict({\n",
    "    \"source\": {\n",
    "        \"original\": {\"train\":train_original_source, \"val\":val_original_source, \"test\":test_original_source},\n",
    "        \"processed\": {\"train\":train_processed_source, \"val\":val_processed_source, \"test\":test_processed_source}\n",
    "    },\n",
    "    \"target\": {\n",
    "        \"original\": {\"train\":train_original_target, \"val\":val_original_target, \"test\":test_original_target},\n",
    "        \"processed\": {\"train\":train_processed_target, \"val\":val_processed_target, \"test\":test_processed_target}\n",
    "    },\n",
    "})"
   ]
  },
  {
   "cell_type": "code",
   "execution_count": 20,
   "id": "5b3c01fc",
   "metadata": {
    "execution": {
     "iopub.execute_input": "2022-03-21T03:23:35.988220Z",
     "iopub.status.busy": "2022-03-21T03:23:35.987318Z",
     "iopub.status.idle": "2022-03-21T03:23:44.260850Z",
     "shell.execute_reply": "2022-03-21T03:23:44.261664Z"
    },
    "papermill": {
     "duration": 8.300389,
     "end_time": "2022-03-21T03:23:44.261898",
     "exception": false,
     "start_time": "2022-03-21T03:23:35.961509",
     "status": "completed"
    },
    "tags": []
   },
   "outputs": [
    {
     "name": "stdout",
     "output_type": "stream",
     "text": [
      "{'Wisig_2', 'Wisig_3', 'Wisig_1', 'Wisig_4'}\n"
     ]
    },
    {
     "name": "stdout",
     "output_type": "stream",
     "text": [
      "{'CORES_3', 'CORES_1', 'CORES_2', 'CORES_5', 'CORES_4'}\n"
     ]
    },
    {
     "name": "stdout",
     "output_type": "stream",
     "text": [
      "tensor([[[-0.0060, -0.0070, -0.0113,  ...,  0.0273,  0.0833, -0.0345],\n",
      "         [-0.0008,  0.0018,  0.0041,  ..., -0.0266,  0.0699,  0.1575]],\n",
      "\n",
      "        [[ 0.0587, -0.0371, -0.0815,  ...,  0.0430,  0.0564,  0.0480],\n",
      "         [ 0.0509,  0.0854, -0.0251,  ...,  0.0116,  0.0467,  0.0829]],\n",
      "\n",
      "        [[ 0.0070, -0.0389, -0.0192,  ...,  0.0334,  0.0212, -0.0021],\n",
      "         [ 0.0375,  0.0142, -0.0190,  ...,  0.0289,  0.0641,  0.0750]],\n",
      "\n",
      "        ...,\n",
      "\n",
      "        [[ 0.0309,  0.0020,  0.0920,  ...,  0.0217,  0.0031, -0.0985],\n",
      "         [ 0.0438, -0.0307, -0.0724,  ..., -0.0152,  0.0456,  0.0068]],\n",
      "\n",
      "        [[ 0.0047,  0.0515,  0.0078,  ..., -0.0014, -0.0235,  0.0301],\n",
      "         [-0.0185, -0.0328,  0.0075,  ...,  0.0301, -0.0072, -0.0162]],\n",
      "\n",
      "        [[-0.0237, -0.0011, -0.0959,  ..., -0.0192, -0.0061,  0.0856],\n",
      "         [-0.0578,  0.0176,  0.0278,  ...,  0.0105, -0.0373,  0.0177]]])\n"
     ]
    }
   ],
   "source": [
    "from steves_utils.transforms import get_average_magnitude, get_average_power\n",
    "\n",
    "print(set([u for u,_ in val_original_source]))\n",
    "print(set([u for u,_ in val_original_target]))\n",
    "\n",
    "s_x, s_y, q_x, q_y, _ = next(iter(train_processed_source))\n",
    "print(s_x)\n",
    "\n",
    "# for ds in [\n",
    "#     train_processed_source,\n",
    "#     val_processed_source,\n",
    "#     test_processed_source,\n",
    "#     train_processed_target,\n",
    "#     val_processed_target,\n",
    "#     test_processed_target\n",
    "# ]:\n",
    "#     for s_x, s_y, q_x, q_y, _ in ds:\n",
    "#         for X in (s_x, q_x):\n",
    "#             for x in X:\n",
    "#                 assert np.isclose(get_average_magnitude(x.numpy()), 1.0)\n",
    "#                 assert np.isclose(get_average_power(x.numpy()), 1.0)\n",
    "                "
   ]
  },
  {
   "cell_type": "code",
   "execution_count": 21,
   "id": "bbdacba1",
   "metadata": {
    "execution": {
     "iopub.execute_input": "2022-03-21T03:23:44.319011Z",
     "iopub.status.busy": "2022-03-21T03:23:44.318635Z",
     "iopub.status.idle": "2022-03-21T03:23:44.533921Z",
     "shell.execute_reply": "2022-03-21T03:23:44.533550Z"
    },
    "papermill": {
     "duration": 0.244586,
     "end_time": "2022-03-21T03:23:44.534026",
     "exception": false,
     "start_time": "2022-03-21T03:23:44.289440",
     "status": "completed"
    },
    "tags": []
   },
   "outputs": [
    {
     "name": "stdout",
     "output_type": "stream",
     "text": [
      "(2, 256)\n"
     ]
    }
   ],
   "source": [
    "###################################\n",
    "# Build the model\n",
    "###################################\n",
    "# easfsl only wants a tuple for the shape\n",
    "model = Steves_Prototypical_Network(x_net, device=p.device, x_shape=tuple(p.x_shape))\n",
    "optimizer = Adam(params=model.parameters(), lr=p.lr)"
   ]
  },
  {
   "cell_type": "code",
   "execution_count": 22,
   "id": "22b39ac5",
   "metadata": {
    "execution": {
     "iopub.execute_input": "2022-03-21T03:23:44.585379Z",
     "iopub.status.busy": "2022-03-21T03:23:44.584740Z",
     "iopub.status.idle": "2022-03-21T03:28:09.714651Z",
     "shell.execute_reply": "2022-03-21T03:28:09.713829Z"
    },
    "papermill": {
     "duration": 265.157582,
     "end_time": "2022-03-21T03:28:09.714821",
     "exception": false,
     "start_time": "2022-03-21T03:23:44.557239",
     "status": "completed"
    },
    "tags": []
   },
   "outputs": [
    {
     "name": "stdout",
     "output_type": "stream",
     "text": [
      "epoch: 1, [batch: 1 / 913], examples_per_second: 208.0133, train_label_loss: 3.4481, \n"
     ]
    },
    {
     "name": "stdout",
     "output_type": "stream",
     "text": [
      "epoch: 1, [batch: 92 / 913], examples_per_second: 3053.2834, train_label_loss: 0.5614, \n"
     ]
    },
    {
     "name": "stdout",
     "output_type": "stream",
     "text": [
      "epoch: 1, [batch: 183 / 913], examples_per_second: 3063.0368, train_label_loss: 0.5466, \n"
     ]
    },
    {
     "name": "stdout",
     "output_type": "stream",
     "text": [
      "epoch: 1, [batch: 274 / 913], examples_per_second: 3057.2182, train_label_loss: 0.2873, \n"
     ]
    },
    {
     "name": "stdout",
     "output_type": "stream",
     "text": [
      "epoch: 1, [batch: 365 / 913], examples_per_second: 3049.5611, train_label_loss: 0.3207, \n"
     ]
    },
    {
     "name": "stdout",
     "output_type": "stream",
     "text": [
      "epoch: 1, [batch: 457 / 913], examples_per_second: 3089.0122, train_label_loss: 0.2860, \n"
     ]
    },
    {
     "name": "stdout",
     "output_type": "stream",
     "text": [
      "epoch: 1, [batch: 548 / 913], examples_per_second: 3025.7143, train_label_loss: 0.2620, \n"
     ]
    },
    {
     "name": "stdout",
     "output_type": "stream",
     "text": [
      "epoch: 1, [batch: 639 / 913], examples_per_second: 3190.2082, train_label_loss: 0.5461, \n"
     ]
    },
    {
     "name": "stdout",
     "output_type": "stream",
     "text": [
      "epoch: 1, [batch: 730 / 913], examples_per_second: 3488.2218, train_label_loss: 0.5126, \n"
     ]
    },
    {
     "name": "stdout",
     "output_type": "stream",
     "text": [
      "epoch: 1, [batch: 821 / 913], examples_per_second: 3503.1021, train_label_loss: 0.2208, \n"
     ]
    },
    {
     "name": "stdout",
     "output_type": "stream",
     "text": [
      "=============================================================\n",
      "epoch: 1, source_val_acc_label: 0.9416, target_val_acc_label: 0.9709, source_val_label_loss: 0.3245, target_val_label_loss: 0.2728, \n",
      "=============================================================\n"
     ]
    },
    {
     "name": "stdout",
     "output_type": "stream",
     "text": [
      "New best\n"
     ]
    },
    {
     "name": "stdout",
     "output_type": "stream",
     "text": [
      "epoch: 2, [batch: 1 / 911], examples_per_second: 26.6104, train_label_loss: 0.1269, \n"
     ]
    },
    {
     "name": "stdout",
     "output_type": "stream",
     "text": [
      "epoch: 2, [batch: 92 / 911], examples_per_second: 4690.7022, train_label_loss: 0.3373, \n"
     ]
    },
    {
     "name": "stdout",
     "output_type": "stream",
     "text": [
      "epoch: 2, [batch: 183 / 911], examples_per_second: 3713.4365, train_label_loss: 0.2338, \n"
     ]
    },
    {
     "name": "stdout",
     "output_type": "stream",
     "text": [
      "epoch: 2, [batch: 274 / 911], examples_per_second: 3482.2193, train_label_loss: 0.5464, \n"
     ]
    },
    {
     "name": "stdout",
     "output_type": "stream",
     "text": [
      "epoch: 2, [batch: 365 / 911], examples_per_second: 3383.9211, train_label_loss: 0.4141, \n"
     ]
    },
    {
     "name": "stdout",
     "output_type": "stream",
     "text": [
      "epoch: 2, [batch: 456 / 911], examples_per_second: 3438.0031, train_label_loss: 0.2903, \n"
     ]
    },
    {
     "name": "stdout",
     "output_type": "stream",
     "text": [
      "epoch: 2, [batch: 547 / 911], examples_per_second: 3601.0375, train_label_loss: 0.3741, \n"
     ]
    },
    {
     "name": "stdout",
     "output_type": "stream",
     "text": [
      "epoch: 2, [batch: 638 / 911], examples_per_second: 3496.9086, train_label_loss: 0.1304, \n"
     ]
    },
    {
     "name": "stdout",
     "output_type": "stream",
     "text": [
      "epoch: 2, [batch: 729 / 911], examples_per_second: 3413.1897, train_label_loss: 0.3217, \n"
     ]
    },
    {
     "name": "stdout",
     "output_type": "stream",
     "text": [
      "epoch: 2, [batch: 820 / 911], examples_per_second: 3566.3043, train_label_loss: 0.4652, \n"
     ]
    },
    {
     "name": "stdout",
     "output_type": "stream",
     "text": [
      "=============================================================\n",
      "epoch: 2, source_val_acc_label: 0.9616, target_val_acc_label: 0.9752, source_val_label_loss: 0.2260, target_val_label_loss: 0.1907, \n",
      "=============================================================\n"
     ]
    },
    {
     "name": "stdout",
     "output_type": "stream",
     "text": [
      "New best\n"
     ]
    },
    {
     "name": "stdout",
     "output_type": "stream",
     "text": [
      "epoch: 3, [batch: 1 / 906], examples_per_second: 25.6515, train_label_loss: 0.4888, \n"
     ]
    },
    {
     "name": "stdout",
     "output_type": "stream",
     "text": [
      "epoch: 3, [batch: 91 / 906], examples_per_second: 4158.6331, train_label_loss: 0.1378, \n"
     ]
    },
    {
     "name": "stdout",
     "output_type": "stream",
     "text": [
      "epoch: 3, [batch: 182 / 906], examples_per_second: 3934.6880, train_label_loss: 0.4001, \n"
     ]
    },
    {
     "name": "stdout",
     "output_type": "stream",
     "text": [
      "epoch: 3, [batch: 272 / 906], examples_per_second: 4042.1288, train_label_loss: 0.3973, \n"
     ]
    },
    {
     "name": "stdout",
     "output_type": "stream",
     "text": [
      "epoch: 3, [batch: 363 / 906], examples_per_second: 3914.1368, train_label_loss: 0.1257, \n"
     ]
    },
    {
     "name": "stdout",
     "output_type": "stream",
     "text": [
      "epoch: 3, [batch: 453 / 906], examples_per_second: 3938.3778, train_label_loss: 0.1917, \n"
     ]
    },
    {
     "name": "stdout",
     "output_type": "stream",
     "text": [
      "epoch: 3, [batch: 544 / 906], examples_per_second: 3971.0959, train_label_loss: 0.0556, \n"
     ]
    },
    {
     "name": "stdout",
     "output_type": "stream",
     "text": [
      "epoch: 3, [batch: 634 / 906], examples_per_second: 4087.0380, train_label_loss: 0.1186, \n"
     ]
    },
    {
     "name": "stdout",
     "output_type": "stream",
     "text": [
      "epoch: 3, [batch: 725 / 906], examples_per_second: 3952.2263, train_label_loss: 0.1127, \n"
     ]
    },
    {
     "name": "stdout",
     "output_type": "stream",
     "text": [
      "epoch: 3, [batch: 815 / 906], examples_per_second: 3874.2873, train_label_loss: 0.1651, \n"
     ]
    },
    {
     "name": "stdout",
     "output_type": "stream",
     "text": [
      "=============================================================\n",
      "epoch: 3, source_val_acc_label: 0.9657, target_val_acc_label: 0.9795, source_val_label_loss: 0.1899, target_val_label_loss: 0.1587, \n",
      "=============================================================\n"
     ]
    },
    {
     "name": "stdout",
     "output_type": "stream",
     "text": [
      "New best\n"
     ]
    }
   ],
   "source": [
    "###################################\n",
    "# train\n",
    "###################################\n",
    "jig = PTN_Train_Eval_Test_Jig(model, p.BEST_MODEL_PATH, p.device)\n",
    "\n",
    "jig.train(\n",
    "    train_iterable=datasets.source.processed.train,\n",
    "    source_val_iterable=datasets.source.processed.val,\n",
    "    target_val_iterable=datasets.target.processed.val,\n",
    "    num_epochs=p.n_epoch,\n",
    "    num_logs_per_epoch=p.NUM_LOGS_PER_EPOCH,\n",
    "    patience=p.patience,\n",
    "    optimizer=optimizer,\n",
    "    criteria_for_best=p.criteria_for_best,\n",
    ")"
   ]
  },
  {
   "cell_type": "code",
   "execution_count": 23,
   "id": "31e8fabf",
   "metadata": {
    "execution": {
     "iopub.execute_input": "2022-03-21T03:28:09.791307Z",
     "iopub.status.busy": "2022-03-21T03:28:09.790741Z",
     "iopub.status.idle": "2022-03-21T03:28:09.821154Z",
     "shell.execute_reply": "2022-03-21T03:28:09.820411Z"
    },
    "papermill": {
     "duration": 0.068077,
     "end_time": "2022-03-21T03:28:09.821334",
     "exception": false,
     "start_time": "2022-03-21T03:28:09.753257",
     "status": "completed"
    },
    "tags": []
   },
   "outputs": [],
   "source": [
    "total_experiment_time_secs = time.time() - start_time_secs"
   ]
  },
  {
   "cell_type": "code",
   "execution_count": 24,
   "id": "87b9595b",
   "metadata": {
    "execution": {
     "iopub.execute_input": "2022-03-21T03:28:09.900601Z",
     "iopub.status.busy": "2022-03-21T03:28:09.899749Z",
     "iopub.status.idle": "2022-03-21T03:29:04.795968Z",
     "shell.execute_reply": "2022-03-21T03:29:04.795192Z"
    },
    "papermill": {
     "duration": 54.938818,
     "end_time": "2022-03-21T03:29:04.796128",
     "exception": false,
     "start_time": "2022-03-21T03:28:09.857310",
     "status": "completed"
    },
    "tags": []
   },
   "outputs": [],
   "source": [
    "###################################\n",
    "# Evaluate the model\n",
    "###################################\n",
    "source_test_label_accuracy, source_test_label_loss = jig.test(datasets.source.processed.test)\n",
    "target_test_label_accuracy, target_test_label_loss = jig.test(datasets.target.processed.test)\n",
    "\n",
    "source_val_label_accuracy, source_val_label_loss = jig.test(datasets.source.processed.val)\n",
    "target_val_label_accuracy, target_val_label_loss = jig.test(datasets.target.processed.val)\n",
    "\n",
    "history = jig.get_history()\n",
    "\n",
    "total_epochs_trained = len(history[\"epoch_indices\"])\n",
    "\n",
    "val_dl = Iterable_Aggregator((datasets.source.original.val,datasets.target.original.val))\n",
    "\n",
    "confusion = ptn_confusion_by_domain_over_dataloader(model, p.device, val_dl)\n",
    "per_domain_accuracy = per_domain_accuracy_from_confusion(confusion)\n",
    "\n",
    "# Add a key to per_domain_accuracy for if it was a source domain\n",
    "for domain, accuracy in per_domain_accuracy.items():\n",
    "    per_domain_accuracy[domain] = {\n",
    "        \"accuracy\": accuracy,\n",
    "        \"source?\": domain in p.domains_source\n",
    "    }\n",
    "\n",
    "# Do an independent accuracy assesment JUST TO BE SURE!\n",
    "# _source_test_label_accuracy = independent_accuracy_assesment(model, datasets.source.processed.test, p.device)\n",
    "# _target_test_label_accuracy = independent_accuracy_assesment(model, datasets.target.processed.test, p.device)\n",
    "# _source_val_label_accuracy = independent_accuracy_assesment(model, datasets.source.processed.val, p.device)\n",
    "# _target_val_label_accuracy = independent_accuracy_assesment(model, datasets.target.processed.val, p.device)\n",
    "\n",
    "# assert(_source_test_label_accuracy == source_test_label_accuracy)\n",
    "# assert(_target_test_label_accuracy == target_test_label_accuracy)\n",
    "# assert(_source_val_label_accuracy == source_val_label_accuracy)\n",
    "# assert(_target_val_label_accuracy == target_val_label_accuracy)\n",
    "\n",
    "experiment = {\n",
    "    \"experiment_name\": p.experiment_name,\n",
    "    \"parameters\": dict(p),\n",
    "    \"results\": {\n",
    "        \"source_test_label_accuracy\": source_test_label_accuracy,\n",
    "        \"source_test_label_loss\": source_test_label_loss,\n",
    "        \"target_test_label_accuracy\": target_test_label_accuracy,\n",
    "        \"target_test_label_loss\": target_test_label_loss,\n",
    "        \"source_val_label_accuracy\": source_val_label_accuracy,\n",
    "        \"source_val_label_loss\": source_val_label_loss,\n",
    "        \"target_val_label_accuracy\": target_val_label_accuracy,\n",
    "        \"target_val_label_loss\": target_val_label_loss,\n",
    "        \"total_epochs_trained\": total_epochs_trained,\n",
    "        \"total_experiment_time_secs\": total_experiment_time_secs,\n",
    "        \"confusion\": confusion,\n",
    "        \"per_domain_accuracy\": per_domain_accuracy,\n",
    "    },\n",
    "    \"history\": history,\n",
    "    \"dataset_metrics\": get_dataset_metrics(datasets, \"ptn\"),\n",
    "}"
   ]
  },
  {
   "cell_type": "code",
   "execution_count": 25,
   "id": "54a21829",
   "metadata": {
    "execution": {
     "iopub.execute_input": "2022-03-21T03:29:04.879259Z",
     "iopub.status.busy": "2022-03-21T03:29:04.878016Z",
     "iopub.status.idle": "2022-03-21T03:29:05.088576Z",
     "shell.execute_reply": "2022-03-21T03:29:05.089266Z"
    },
    "papermill": {
     "duration": 0.251368,
     "end_time": "2022-03-21T03:29:05.089477",
     "exception": false,
     "start_time": "2022-03-21T03:29:04.838109",
     "status": "completed"
    },
    "tags": []
   },
   "outputs": [
    {
     "data": {
      "image/png": "[encoded data removed]",
      "text/plain": [
       "<Figure size 1080x504 with 1 Axes>"
      ]
     },
     "metadata": {
      "needs_background": "light"
     },
     "output_type": "display_data"
    }
   ],
   "source": [
    "ax = get_loss_curve(experiment)\n",
    "plt.show()"
   ]
  },
  {
   "cell_type": "code",
   "execution_count": 26,
   "id": "fd8a0f60",
   "metadata": {
    "execution": {
     "iopub.execute_input": "2022-03-21T03:29:05.163026Z",
     "iopub.status.busy": "2022-03-21T03:29:05.162659Z",
     "iopub.status.idle": "2022-03-21T03:29:05.479478Z",
     "shell.execute_reply": "2022-03-21T03:29:05.479103Z"
    },
    "papermill": {
     "duration": 0.352601,
     "end_time": "2022-03-21T03:29:05.479562",
     "exception": false,
     "start_time": "2022-03-21T03:29:05.126961",
     "status": "completed"
    },
    "tags": []
   },
   "outputs": [
    {
     "data": {
      "text/plain": [
       "<AxesSubplot:title={'center':'Results'}>"
      ]
     },
     "execution_count": 26,
     "metadata": {},
     "output_type": "execute_result"
    },
    {
     "data": {
      "image/png": "[encoded data removed]",
      "text/plain": [
       "<Figure size 1080x504 with 1 Axes>"
      ]
     },
     "metadata": {
      "needs_background": "light"
     },
     "output_type": "display_data"
    }
   ],
   "source": [
    "get_results_table(experiment)"
   ]
  },
  {
   "cell_type": "code",
   "execution_count": 27,
   "id": "cf8dc689",
   "metadata": {
    "execution": {
     "iopub.execute_input": "2022-03-21T03:29:05.553144Z",
     "iopub.status.busy": "2022-03-21T03:29:05.552330Z",
     "iopub.status.idle": "2022-03-21T03:29:05.779564Z",
     "shell.execute_reply": "2022-03-21T03:29:05.780455Z"
    },
    "papermill": {
     "duration": 0.26551,
     "end_time": "2022-03-21T03:29:05.780694",
     "exception": false,
     "start_time": "2022-03-21T03:29:05.515184",
     "status": "completed"
    },
    "tags": []
   },
   "outputs": [
    {
     "data": {
      "text/plain": [
       "<AxesSubplot:title={'center':'Per Domain Validation Accuracy'}, xlabel='domain'>"
      ]
     },
     "execution_count": 27,
     "metadata": {},
     "output_type": "execute_result"
    },
    {
     "data": {
      "image/png": "[encoded data removed]",
      "text/plain": [
       "<Figure size 1080x504 with 1 Axes>"
      ]
     },
     "metadata": {
      "needs_background": "light"
     },
     "output_type": "display_data"
    }
   ],
   "source": [
    "get_domain_accuracies(experiment)"
   ]
  },
  {
   "cell_type": "code",
   "execution_count": 28,
   "id": "a74ae082",
   "metadata": {
    "execution": {
     "iopub.execute_input": "2022-03-21T03:29:05.868171Z",
     "iopub.status.busy": "2022-03-21T03:29:05.867795Z",
     "iopub.status.idle": "2022-03-21T03:29:05.894873Z",
     "shell.execute_reply": "2022-03-21T03:29:05.894509Z"
    },
    "papermill": {
     "duration": 0.067156,
     "end_time": "2022-03-21T03:29:05.894947",
     "exception": false,
     "start_time": "2022-03-21T03:29:05.827791",
     "status": "completed"
    },
    "tags": []
   },
   "outputs": [
    {
     "name": "stdout",
     "output_type": "stream",
     "text": [
      "Source Test Label Accuracy: 0.9618700265251989 Target Test Label Accuracy: 0.9822413793103448\n",
      "Source Val Label Accuracy: 0.9657177225340818 Target Val Label Accuracy: 0.9795258620689655\n"
     ]
    }
   ],
   "source": [
    "print(\"Source Test Label Accuracy:\", experiment[\"results\"][\"source_test_label_accuracy\"], \"Target Test Label Accuracy:\", experiment[\"results\"][\"target_test_label_accuracy\"])\n",
    "print(\"Source Val Label Accuracy:\", experiment[\"results\"][\"source_val_label_accuracy\"], \"Target Val Label Accuracy:\", experiment[\"results\"][\"target_val_label_accuracy\"])"
   ]
  },
  {
   "cell_type": "code",
   "execution_count": 29,
   "id": "dacca602",
   "metadata": {
    "execution": {
     "iopub.execute_input": "2022-03-21T03:29:05.970405Z",
     "iopub.status.busy": "2022-03-21T03:29:05.970043Z",
     "iopub.status.idle": "2022-03-21T03:29:05.993727Z",
     "shell.execute_reply": "2022-03-21T03:29:05.993361Z"
    },
    "papermill": {
     "duration": 0.062898,
     "end_time": "2022-03-21T03:29:05.993796",
     "exception": false,
     "start_time": "2022-03-21T03:29:05.930898",
     "status": "completed"
    },
    "tags": [
     "experiment_json"
    ]
   },
   "outputs": [
    {
     "data": {
      "text/plain": [
       "'{\"experiment_name\": \"tl_1v2:cores-wisig\", \"parameters\": {\"experiment_name\": \"tl_1v2:cores-wisig\", \"device\": \"cuda\", \"lr\": 0.0001, \"n_shot\": 3, \"n_query\": 2, \"train_k_factor\": 3, \"val_k_factor\": 2, \"test_k_factor\": 2, \"torch_default_dtype\": \"torch.float32\", \"n_epoch\": 3, \"patience\": 3, \"criteria_for_best\": \"target_accuracy\", \"x_net\": [{\"class\": \"nnReshape\", \"kargs\": {\"shape\": [-1, 1, 2, 256]}}, {\"class\": \"Conv2d\", \"kargs\": {\"in_channels\": 1, \"out_channels\": 256, \"kernel_size\": [1, 7], \"bias\": false, \"padding\": [0, 3]}}, {\"class\": \"ReLU\", \"kargs\": {\"inplace\": true}}, {\"class\": \"BatchNorm2d\", \"kargs\": {\"num_features\": 256}}, {\"class\": \"Conv2d\", \"kargs\": {\"in_channels\": 256, \"out_channels\": 80, \"kernel_size\": [2, 7], \"bias\": true, \"padding\": [0, 3]}}, {\"class\": \"ReLU\", \"kargs\": {\"inplace\": true}}, {\"class\": \"BatchNorm2d\", \"kargs\": {\"num_features\": 80}}, {\"class\": \"Flatten\", \"kargs\": {}}, {\"class\": \"Linear\", \"kargs\": {\"in_features\": 20480, \"out_features\": 256}}, {\"class\": \"ReLU\", \"kargs\": {\"inplace\": true}}, {\"class\": \"BatchNorm1d\", \"kargs\": {\"num_features\": 256}}, {\"class\": \"Linear\", \"kargs\": {\"in_features\": 256, \"out_features\": 256}}], \"NUM_LOGS_PER_EPOCH\": 10, \"BEST_MODEL_PATH\": \"./best_model.pth\", \"n_way\": 58, \"datasets\": [{\"labels\": [\"1-10.\", \"1-11.\", \"1-15.\", \"1-16.\", \"1-17.\", \"1-18.\", \"1-19.\", \"10-4.\", \"10-7.\", \"11-1.\", \"11-14.\", \"11-17.\", \"11-20.\", \"11-7.\", \"13-20.\", \"13-8.\", \"14-10.\", \"14-11.\", \"14-14.\", \"14-7.\", \"15-1.\", \"15-20.\", \"16-1.\", \"16-16.\", \"17-10.\", \"17-11.\", \"17-2.\", \"19-1.\", \"19-16.\", \"19-19.\", \"19-20.\", \"19-3.\", \"2-10.\", \"2-11.\", \"2-17.\", \"2-18.\", \"2-20.\", \"2-3.\", \"2-4.\", \"2-5.\", \"2-6.\", \"2-7.\", \"2-8.\", \"3-13.\", \"3-18.\", \"3-3.\", \"4-1.\", \"4-10.\", \"4-11.\", \"4-19.\", \"5-5.\", \"6-15.\", \"7-10.\", \"7-14.\", \"8-18.\", \"8-20.\", \"8-3.\", \"8-8.\"], \"domains\": [1, 2, 3, 4, 5], \"num_examples_per_domain_per_label\": -1, \"pickle_path\": \"/root/csc500-main/datasets/cores.stratified_ds.2022A.pkl\", \"source_or_target_dataset\": \"target\", \"x_transforms\": [], \"episode_transforms\": [], \"domain_prefix\": \"CORES_\"}, {\"labels\": [\"1-10\", \"1-12\", \"1-14\", \"1-16\", \"1-18\", \"1-19\", \"1-8\", \"10-11\", \"10-17\", \"10-4\", \"10-7\", \"11-1\", \"11-10\", \"11-19\", \"11-20\", \"11-4\", \"11-7\", \"12-19\", \"12-20\", \"12-7\", \"13-14\", \"13-18\", \"13-19\", \"13-20\", \"13-3\", \"13-7\", \"14-10\", \"14-11\", \"14-12\", \"14-13\", \"14-14\", \"14-19\", \"14-20\", \"14-7\", \"14-8\", \"14-9\", \"15-1\", \"15-19\", \"15-6\", \"16-1\", \"16-16\", \"16-19\", \"16-20\", \"17-10\", \"17-11\", \"18-1\", \"18-10\", \"18-11\", \"18-12\", \"18-13\", \"18-14\", \"18-15\", \"18-16\", \"18-17\", \"18-19\", \"18-2\", \"18-20\", \"18-4\", \"18-5\", \"18-7\", \"18-8\", \"18-9\", \"19-1\", \"19-10\", \"19-11\", \"19-12\", \"19-13\", \"19-14\", \"19-15\", \"19-19\", \"19-2\", \"19-20\", \"19-3\", \"19-4\", \"19-6\", \"19-7\", \"19-8\", \"19-9\", \"2-1\", \"2-13\", \"2-15\", \"2-3\", \"2-4\", \"2-5\", \"2-6\", \"2-7\", \"2-8\", \"20-1\", \"20-12\", \"20-14\", \"20-15\", \"20-16\", \"20-18\", \"20-19\", \"20-20\", \"20-3\", \"20-4\", \"20-5\", \"20-7\", \"20-8\", \"3-1\", \"3-13\", \"3-18\", \"3-2\", \"3-8\", \"4-1\", \"4-10\", \"4-11\", \"5-1\", \"5-5\", \"6-1\", \"6-15\", \"6-6\", \"7-10\", \"7-11\", \"7-12\", \"7-13\", \"7-14\", \"7-7\", \"7-8\", \"7-9\", \"8-1\", \"8-13\", \"8-14\", \"8-18\", \"8-20\", \"8-3\", \"8-8\", \"9-1\", \"9-7\"], \"domains\": [1, 2, 3, 4], \"num_examples_per_domain_per_label\": -1, \"pickle_path\": \"/root/csc500-main/datasets/wisig.node3-19.stratified_ds.2022A.pkl\", \"source_or_target_dataset\": \"source\", \"x_transforms\": [], \"episode_transforms\": [], \"domain_prefix\": \"Wisig_\"}], \"dataset_seed\": 154325, \"seed\": 154325, \"x_shape\": [2, 256], \"domains_source\": [\"Wisig_1\", \"Wisig_2\", \"Wisig_3\", \"Wisig_4\"], \"domains_target\": [\"CORES_1\", \"CORES_2\", \"CORES_3\", \"CORES_4\", \"CORES_5\"]}, \"results\": {\"source_test_label_accuracy\": 0.9618700265251989, \"source_test_label_loss\": 0.22242321074008942, \"target_test_label_accuracy\": 0.9822413793103448, \"target_test_label_loss\": 0.14703364670276642, \"source_val_label_accuracy\": 0.9657177225340818, \"source_val_label_loss\": 0.18987682461738586, \"target_val_label_accuracy\": 0.9795258620689655, \"target_val_label_loss\": 0.15871286392211914, \"total_epochs_trained\": 3, \"total_experiment_time_secs\": 278.36582350730896, \"confusion\": {\"Wisig_2\": {\"41\": {\"41\": 18, \"13\": 1, \"80\": 1}, \"31\": {\"31\": 18, \"4\": 1, \"72\": 1}, \"126\": {\"126\": 51, \"108\": 1}, \"80\": {\"80\": 16}, \"101\": {\"101\": 50}, \"128\": {\"128\": 24}, \"46\": {\"46\": 15, \"31\": 1}, \"96\": {\"96\": 20}, \"117\": {\"117\": 36}, \"109\": {\"109\": 37, \"39\": 3}, \"17\": {\"26\": 1, \"17\": 12, \"27\": 1, \"18\": 1, \"24\": 1}, \"63\": {\"63\": 20}, \"69\": {\"69\": 39, \"4\": 1, \"107\": 1, \"12\": 1}, \"30\": {\"30\": 47, \"88\": 2, \"21\": 1, \"28\": 1, \"62\": 1}, \"120\": {\"120\": 20}, \"4\": {\"4\": 36}, \"102\": {\"102\": 50}, \"81\": {\"81\": 22, \"47\": 1, \"28\": 1}, \"6\": {\"6\": 32}, \"110\": {\"110\": 35, \"102\": 1}, \"55\": {\"55\": 16}, \"67\": {\"67\": 16}, \"50\": {\"50\": 16}, \"19\": {\"19\": 28}, \"104\": {\"104\": 17, \"86\": 3}, \"112\": {\"112\": 16}, \"10\": {\"10\": 42, \"94\": 1, \"18\": 1}, \"54\": {\"54\": 19, \"68\": 1}, \"7\": {\"7\": 36}, \"28\": {\"28\": 20}, \"5\": {\"5\": 38, \"21\": 2}, \"15\": {\"15\": 44}, \"73\": {\"73\": 28}, \"76\": {\"76\": 14, \"26\": 1, \"21\": 1}, \"105\": {\"105\": 44}, \"78\": {\"78\": 32, \"109\": 3, \"70\": 1}, \"106\": {\"106\": 41, \"81\": 1, \"18\": 1, \"107\": 1}, \"57\": {\"57\": 18, \"55\": 1, \"21\": 1}, \"90\": {\"90\": 37, \"121\": 1}, \"35\": {\"35\": 12}, \"64\": {\"64\": 14, \"26\": 1, \"31\": 1}, \"3\": {\"3\": 26}, \"42\": {\"42\": 27, \"5\": 1}, \"103\": {\"103\": 16}, \"49\": {\"49\": 24}, \"123\": {\"123\": 16}, \"13\": {\"13\": 14, \"27\": 1, \"2\": 1}, \"9\": {\"9\": 32}, \"118\": {\"118\": 40}, \"91\": {\"91\": 28}, \"27\": {\"27\": 42, \"36\": 1, \"18\": 1, \"65\": 1, \"21\": 1}, \"53\": {\"53\": 16}, \"32\": {\"32\": 34}, \"107\": {\"107\": 45, \"36\": 1, \"88\": 1, \"21\": 1, \"70\": 1, \"40\": 1}, \"36\": {\"36\": 37, \"121\": 1}, \"129\": {\"129\": 32}, \"26\": {\"26\": 40, \"21\": 1, \"94\": 1}, \"85\": {\"85\": 31, \"66\": 1}, \"68\": {\"27\": 1, \"68\": 14, \"111\": 1}, \"95\": {\"95\": 36}, \"12\": {\"12\": 36, \"81\": 1, \"94\": 1}, \"71\": {\"71\": 54}, \"16\": {\"16\": 42, \"96\": 1, \"107\": 2, \"93\": 3, \"60\": 1, \"18\": 1}, \"20\": {\"27\": 1, \"20\": 15}, \"74\": {\"74\": 15, \"24\": 1}, \"79\": {\"79\": 16}, \"58\": {\"58\": 19, \"10\": 1}, \"122\": {\"122\": 40}, \"98\": {\"98\": 53, \"21\": 1, \"121\": 2}, \"83\": {\"83\": 36}, \"99\": {\"99\": 32}, \"14\": {\"14\": 44, \"21\": 1, \"24\": 1, \"31\": 1, \"18\": 1}, \"2\": {\"2\": 32}, \"34\": {\"34\": 32}, \"88\": {\"88\": 40, \"21\": 1, \"109\": 1}, \"51\": {\"51\": 20}, \"45\": {\"45\": 16}, \"125\": {\"125\": 32}, \"43\": {\"43\": 35, \"31\": 1, \"69\": 1, \"21\": 1, \"12\": 1, \"88\": 1}, \"92\": {\"92\": 28}, \"8\": {\"8\": 41, \"94\": 1, \"18\": 1, \"122\": 1}, \"82\": {\"82\": 36}, \"66\": {\"66\": 20}, \"59\": {\"27\": 1, \"59\": 14, \"24\": 1}, \"75\": {\"75\": 16}, \"29\": {\"29\": 32}, \"40\": {\"40\": 40, \"18\": 1, \"21\": 1, \"26\": 1, \"30\": 1}, \"97\": {\"97\": 19, \"15\": 1}, \"33\": {\"33\": 40}, \"47\": {\"47\": 11, \"5\": 1}, \"1\": {\"1\": 48}, \"44\": {\"44\": 37, \"14\": 1}, \"62\": {\"62\": 36}, \"127\": {\"127\": 39, \"18\": 1}, \"84\": {\"84\": 36, \"21\": 1, \"107\": 2, \"24\": 1}, \"72\": {\"72\": 27, \"45\": 1}, \"87\": {\"87\": 39, \"94\": 1, \"47\": 1, \"21\": 1, \"62\": 1, \"43\": 1}, \"121\": {\"121\": 33, \"116\": 2, \"89\": 1}, \"21\": {\"21\": 31, \"36\": 1, \"109\": 1, \"30\": 1, \"16\": 1, \"94\": 1}, \"115\": {\"115\": 11, \"80\": 1}, \"111\": {\"111\": 48, \"14\": 1, \"107\": 1}, \"61\": {\"61\": 19, \"33\": 1}, \"24\": {\"24\": 35, \"94\": 1}, \"56\": {\"56\": 12}, \"11\": {\"11\": 29, \"15\": 1}, \"48\": {\"48\": 20}, \"39\": {\"39\": 26, \"109\": 8, \"107\": 2}, \"77\": {\"77\": 15, \"21\": 1}, \"93\": {\"93\": 47, \"47\": 1}, \"0\": {\"110\": 3, \"0\": 35}, \"114\": {\"114\": 37, \"94\": 1}, \"37\": {\"37\": 14, \"66\": 1, \"24\": 1}, \"124\": {\"124\": 36}, \"38\": {\"38\": 16}, \"70\": {\"70\": 35, \"47\": 1, \"88\": 2, \"78\": 1, \"43\": 1}, \"116\": {\"116\": 28}, \"119\": {\"119\": 20}, \"60\": {\"93\": 1, \"60\": 27}, \"86\": {\"86\": 32}, \"65\": {\"65\": 19, \"121\": 1}, \"94\": {\"94\": 33, \"11\": 1, \"18\": 1, \"36\": 1}, \"113\": {\"113\": 35, \"121\": 1}, \"18\": {\"18\": 44}, \"23\": {\"23\": 37, \"126\": 1}, \"108\": {\"108\": 40}, \"89\": {\"89\": 34, \"5\": 1, \"10\": 1}, \"52\": {\"52\": 20}, \"25\": {\"25\": 16}, \"22\": {\"22\": 19, \"71\": 1}, \"100\": {\"100\": 16}}, \"Wisig_4\": {\"71\": {\"71\": 51, \"21\": 1}, \"112\": {\"112\": 16}, \"75\": {\"75\": 14, \"9\": 1, \"36\": 1}, \"17\": {\"17\": 19, \"24\": 1}, \"50\": {\"50\": 15, \"129\": 1}, \"60\": {\"60\": 29, \"93\": 1}, \"12\": {\"55\": 2, \"12\": 38}, \"29\": {\"29\": 31, \"63\": 1}, \"15\": {\"15\": 33, \"36\": 1}, \"7\": {\"7\": 39, \"43\": 1}, \"27\": {\"27\": 39, \"21\": 1, \"81\": 1, \"127\": 1, \"88\": 1, \"70\": 1}, \"91\": {\"91\": 24}, \"20\": {\"20\": 15, \"83\": 1}, \"16\": {\"16\": 34, \"97\": 1, \"21\": 1}, \"99\": {\"99\": 34}, \"26\": {\"26\": 45, \"21\": 1}, \"24\": {\"24\": 54, \"97\": 3, \"23\": 1}, \"58\": {\"58\": 15, \"83\": 1}, \"74\": {\"74\": 16}, \"110\": {\"110\": 33, \"96\": 1, \"42\": 1, \"106\": 1}, \"67\": {\"67\": 16}, \"46\": {\"46\": 19, \"73\": 1}, \"19\": {\"19\": 28}, \"81\": {\"81\": 35, \"51\": 1}, \"0\": {\"0\": 40, \"84\": 1, \"101\": 1}, \"104\": {\"104\": 16}, \"9\": {\"9\": 28}, \"96\": {\"96\": 19, \"55\": 1}, \"14\": {\"14\": 40}, \"114\": {\"114\": 35, \"1\": 1}, \"59\": {\"59\": 12}, \"21\": {\"21\": 37, \"78\": 2, \"26\": 1}, \"88\": {\"88\": 32, \"70\": 2}, \"4\": {\"4\": 40, \"86\": 1, \"21\": 1}, \"129\": {\"129\": 28}, \"30\": {\"30\": 48, \"81\": 1, \"127\": 1}, \"5\": {\"5\": 38, \"44\": 1, \"33\": 1}, \"119\": {\"119\": 16}, \"66\": {\"66\": 16}, \"53\": {\"53\": 15, \"116\": 1}, \"51\": {\"52\": 2, \"21\": 1, \"126\": 1, \"51\": 4, \"47\": 1, \"129\": 2, \"71\": 1, \"106\": 1, \"9\": 2, \"81\": 1}, \"37\": {\"37\": 16}, \"127\": {\"127\": 41, \"78\": 1}, \"80\": {\"80\": 16}, \"55\": {\"55\": 16}, \"122\": {\"122\": 39, \"127\": 1, \"21\": 2, \"51\": 1, \"94\": 1}, \"8\": {\"8\": 46, \"21\": 2}, \"76\": {\"76\": 16}, \"57\": {\"57\": 14, \"41\": 1, \"21\": 1}, \"52\": {\"52\": 19, \"53\": 1}, \"100\": {\"100\": 19, \"1\": 1}, \"93\": {\"93\": 44}, \"82\": {\"82\": 30}, \"86\": {\"86\": 28}, \"107\": {\"107\": 40, \"23\": 1, \"36\": 1}, \"73\": {\"73\": 21, \"83\": 2, \"102\": 1}, \"116\": {\"116\": 28}, \"94\": {\"21\": 2, \"94\": 44}, \"97\": {\"24\": 9, \"97\": 8, \"91\": 1, \"10\": 1, \"36\": 1}, \"68\": {\"68\": 16}, \"10\": {\"10\": 35, \"78\": 1, \"24\": 3, \"97\": 1}, \"31\": {\"31\": 15, \"36\": 1}, \"47\": {\"47\": 9, \"6\": 1, \"9\": 1, \"69\": 1}, \"65\": {\"65\": 11, \"83\": 1}, \"28\": {\"28\": 20}, \"2\": {\"2\": 27, \"98\": 1}, \"42\": {\"42\": 27, \"24\": 1}, \"102\": {\"102\": 48, \"88\": 2}, \"95\": {\"95\": 32}, \"35\": {\"35\": 12}, \"33\": {\"33\": 42}, \"6\": {\"6\": 24}, \"49\": {\"49\": 32}, \"45\": {\"45\": 16}, \"89\": {\"89\": 32}, \"40\": {\"40\": 36, \"81\": 1, \"21\": 1}, \"3\": {\"3\": 36}, \"63\": {\"63\": 16}, \"13\": {\"13\": 16}, \"108\": {\"108\": 35, \"88\": 1, \"117\": 1, \"78\": 1}, \"125\": {\"125\": 44, \"50\": 1, \"116\": 1}, \"123\": {\"123\": 16}, \"115\": {\"115\": 15, \"10\": 1}, \"117\": {\"117\": 48, \"23\": 1, \"102\": 1, \"81\": 1, \"78\": 1}, \"43\": {\"43\": 41, \"21\": 1}, \"38\": {\"38\": 16}, \"128\": {\"128\": 23, \"48\": 1}, \"83\": {\"83\": 28}, \"79\": {\"79\": 16}, \"124\": {\"124\": 40}, \"84\": {\"84\": 49, \"16\": 1}, \"103\": {\"103\": 15, \"16\": 1}, \"121\": {\"14\": 1, \"121\": 30, \"24\": 1}, \"34\": {\"34\": 31, \"106\": 1}, \"126\": {\"126\": 43, \"127\": 1}, \"44\": {\"44\": 46}, \"41\": {\"41\": 14, \"52\": 1, \"51\": 1}, \"101\": {\"101\": 34, \"21\": 2}, \"109\": {\"109\": 40, \"39\": 1, \"21\": 1}, \"106\": {\"106\": 42, \"1\": 1, \"23\": 1}, \"11\": {\"11\": 41, \"88\": 1}, \"77\": {\"77\": 12}, \"62\": {\"62\": 26, \"21\": 1, \"118\": 2, \"69\": 1, \"36\": 1, \"94\": 1}, \"39\": {\"39\": 39, \"21\": 1}, \"61\": {\"61\": 16}, \"98\": {\"98\": 43, \"44\": 2, \"92\": 1}, \"111\": {\"111\": 32}, \"64\": {\"64\": 16}, \"70\": {\"70\": 37, \"88\": 1}, \"25\": {\"25\": 16}, \"56\": {\"56\": 11, \"21\": 1}, \"72\": {\"72\": 32}, \"87\": {\"87\": 51, \"21\": 1}, \"54\": {\"54\": 16}, \"36\": {\"36\": 45, \"97\": 1, \"21\": 1, \"24\": 1}, \"90\": {\"90\": 32}, \"120\": {\"32\": 1, \"120\": 19}, \"1\": {\"1\": 41, \"21\": 1}, \"78\": {\"78\": 26, \"21\": 4}, \"113\": {\"113\": 34, \"78\": 1, \"21\": 1}, \"32\": {\"32\": 27, \"63\": 1}, \"69\": {\"69\": 43, \"117\": 1}, \"92\": {\"92\": 27, \"24\": 1}, \"22\": {\"22\": 15, \"102\": 1}, \"18\": {\"18\": 31, \"21\": 1}, \"23\": {\"23\": 9, \"21\": 1, \"81\": 1, \"12\": 1, \"60\": 2, \"13\": 1, \"30\": 1}, \"85\": {\"85\": 27, \"21\": 1}, \"105\": {\"41\": 1, \"105\": 37, \"19\": 1, \"87\": 1}, \"118\": {\"118\": 30}, \"48\": {\"48\": 15, \"21\": 1}}, \"Wisig_1\": {\"63\": {\"63\": 16}, \"11\": {\"11\": 36}, \"23\": {\"23\": 21, \"44\": 1, \"110\": 1, \"71\": 1}, \"6\": {\"6\": 32}, \"125\": {\"125\": 38}, \"7\": {\"7\": 38}, \"33\": {\"33\": 32}, \"91\": {\"91\": 28}, \"108\": {\"108\": 42}, \"61\": {\"61\": 12}, \"69\": {\"69\": 31, \"21\": 1}, \"48\": {\"48\": 12}, \"58\": {\"58\": 10, \"53\": 1, \"68\": 1}, \"21\": {\"70\": 2, \"21\": 37, \"113\": 1}, \"103\": {\"103\": 14, \"45\": 1, \"76\": 1}, \"38\": {\"38\": 16}, \"81\": {\"81\": 28}, \"76\": {\"61\": 1, \"76\": 14, \"28\": 1}, \"70\": {\"70\": 40}, \"95\": {\"95\": 35, \"113\": 1}, \"43\": {\"43\": 34, \"129\": 1, \"21\": 1}, \"127\": {\"127\": 36}, \"87\": {\"87\": 44}, \"107\": {\"107\": 34}, \"116\": {\"116\": 32}, \"77\": {\"77\": 16}, \"45\": {\"45\": 7, \"21\": 1, \"42\": 1, \"41\": 1, \"71\": 1, \"124\": 1}, \"96\": {\"96\": 18, \"21\": 1, \"70\": 1}, \"74\": {\"74\": 15, \"57\": 1}, \"8\": {\"8\": 44}, \"114\": {\"114\": 44}, \"32\": {\"32\": 29, \"12\": 1}, \"102\": {\"102\": 40}, \"75\": {\"75\": 16}, \"123\": {\"123\": 15, \"25\": 1}, \"28\": {\"28\": 20}, \"37\": {\"37\": 16}, \"126\": {\"126\": 35, \"106\": 1}, \"30\": {\"30\": 38}, \"71\": {\"71\": 41, \"69\": 1, \"12\": 2}, \"18\": {\"18\": 28}, \"67\": {\"67\": 15, \"21\": 1}, \"83\": {\"83\": 27, \"34\": 1}, \"22\": {\"22\": 16}, \"53\": {\"53\": 19, \"45\": 1}, \"57\": {\"57\": 12}, \"89\": {\"89\": 32}, \"109\": {\"109\": 46}, \"119\": {\"119\": 16}, \"17\": {\"17\": 15, \"27\": 1}, \"14\": {\"14\": 34}, \"121\": {\"121\": 32}, \"59\": {\"59\": 11, \"121\": 1}, \"129\": {\"129\": 28}, \"105\": {\"105\": 38}, \"2\": {\"2\": 31, \"94\": 1}, \"68\": {\"68\": 16}, \"82\": {\"82\": 36}, \"27\": {\"27\": 42}, \"111\": {\"111\": 40}, \"124\": {\"124\": 40}, \"85\": {\"85\": 31, \"116\": 1}, \"26\": {\"26\": 46}, \"110\": {\"110\": 46}, \"97\": {\"97\": 17, \"116\": 1, \"24\": 1, \"22\": 1}, \"13\": {\"13\": 16}, \"3\": {\"3\": 35, \"70\": 1}, \"42\": {\"42\": 26, \"91\": 2}, \"25\": {\"25\": 16}, \"47\": {\"47\": 12}, \"115\": {\"115\": 12}, \"118\": {\"118\": 36, \"16\": 2}, \"84\": {\"84\": 42}, \"120\": {\"120\": 18, \"94\": 1, \"53\": 1}, \"92\": {\"92\": 28}, \"79\": {\"79\": 12}, \"80\": {\"80\": 16}, \"73\": {\"73\": 20}, \"36\": {\"36\": 32, \"21\": 2}, \"10\": {\"10\": 35, \"27\": 1}, \"104\": {\"104\": 16}, \"50\": {\"50\": 16}, \"39\": {\"39\": 42, \"16\": 1, \"5\": 1}, \"64\": {\"64\": 16}, \"112\": {\"112\": 16}, \"66\": {\"66\": 16}, \"31\": {\"31\": 15, \"125\": 1}, \"100\": {\"100\": 16}, \"101\": {\"101\": 54}, \"5\": {\"5\": 29, \"109\": 1}, \"117\": {\"117\": 42}, \"86\": {\"86\": 30}, \"51\": {\"51\": 16}, \"34\": {\"34\": 32}, \"4\": {\"4\": 40}, \"99\": {\"99\": 24}, \"12\": {\"12\": 36, \"26\": 1, \"109\": 1}, \"0\": {\"0\": 34, \"78\": 1, \"21\": 1}, \"78\": {\"78\": 14, \"70\": 1, \"21\": 1}, \"88\": {\"88\": 38}, \"40\": {\"40\": 38}, \"20\": {\"20\": 16}, \"90\": {\"90\": 36}, \"65\": {\"65\": 12}, \"44\": {\"44\": 38}, \"93\": {\"93\": 36, \"30\": 1, \"39\": 1}, \"122\": {\"122\": 35, \"113\": 1}, \"16\": {\"16\": 32}, \"52\": {\"52\": 20}, \"24\": {\"24\": 35, \"21\": 1, \"88\": 5, \"117\": 1}, \"29\": {\"29\": 28}, \"19\": {\"19\": 28}, \"106\": {\"106\": 38}, \"54\": {\"54\": 16}, \"94\": {\"94\": 41, \"109\": 1}, \"9\": {\"9\": 30}, \"41\": {\"41\": 16}, \"49\": {\"53\": 2, \"49\": 18}, \"60\": {\"60\": 16}, \"113\": {\"113\": 36}, \"72\": {\"72\": 32}, \"1\": {\"1\": 36}, \"55\": {\"55\": 12}, \"128\": {\"128\": 22, \"42\": 1, \"104\": 1}, \"15\": {\"15\": 41, \"27\": 1}, \"35\": {\"35\": 12}, \"46\": {\"46\": 8, \"6\": 1, \"112\": 1, \"5\": 1, \"45\": 1}, \"98\": {\"98\": 32}, \"62\": {\"62\": 26}, \"56\": {\"56\": 12}}, \"Wisig_3\": {\"9\": {\"9\": 32}, \"0\": {\"0\": 43, \"21\": 1}, \"2\": {\"2\": 28}, \"34\": {\"34\": 30}, \"128\": {\"128\": 32}, \"79\": {\"79\": 12}, \"3\": {\"3\": 35, \"94\": 1}, \"81\": {\"81\": 32}, \"41\": {\"41\": 16}, \"53\": {\"53\": 19, \"12\": 1}, \"93\": {\"93\": 34}, \"52\": {\"52\": 15, \"67\": 1}, \"124\": {\"124\": 39, \"129\": 1}, \"84\": {\"84\": 42}, \"49\": {\"49\": 24}, \"36\": {\"36\": 28, \"27\": 3, \"78\": 1}, \"76\": {\"76\": 16}, \"122\": {\"122\": 36, \"12\": 3, \"105\": 1, \"127\": 1, \"44\": 1}, \"80\": {\"80\": 16}, \"129\": {\"129\": 32}, \"88\": {\"88\": 34, \"70\": 1, \"21\": 1}, \"23\": {\"23\": 29, \"60\": 1, \"110\": 1, \"8\": 1}, \"63\": {\"63\": 16}, \"59\": {\"59\": 12}, \"38\": {\"38\": 16}, \"28\": {\"28\": 16}, \"105\": {\"105\": 34}, \"39\": {\"39\": 27, \"4\": 1}, \"96\": {\"96\": 20}, \"65\": {\"65\": 12}, \"16\": {\"16\": 40, \"17\": 1, \"88\": 1}, \"64\": {\"64\": 19, \"121\": 1}, \"119\": {\"119\": 16}, \"4\": {\"4\": 42}, \"30\": {\"30\": 38}, \"50\": {\"50\": 16}, \"92\": {\"92\": 28}, \"26\": {\"26\": 48, \"116\": 1, \"90\": 1}, \"94\": {\"94\": 38, \"64\": 1, \"29\": 1}, \"121\": {\"121\": 31, \"88\": 1}, \"90\": {\"90\": 40}, \"31\": {\"31\": 20}, \"108\": {\"108\": 34}, \"120\": {\"120\": 19, \"121\": 1}, \"6\": {\"6\": 30, \"66\": 1, \"81\": 1}, \"47\": {\"47\": 12}, \"67\": {\"67\": 16}, \"62\": {\"62\": 31, \"12\": 1}, \"32\": {\"32\": 32}, \"33\": {\"33\": 36}, \"126\": {\"126\": 39, \"78\": 1}, \"78\": {\"78\": 10, \"43\": 1, \"21\": 3, \"70\": 1, \"12\": 1}, \"111\": {\"111\": 40}, \"113\": {\"113\": 38}, \"99\": {\"99\": 32}, \"83\": {\"83\": 24}, \"66\": {\"66\": 16}, \"118\": {\"118\": 33, \"12\": 1}, \"127\": {\"127\": 34}, \"43\": {\"43\": 35, \"81\": 2, \"17\": 1, \"39\": 1, \"94\": 1}, \"116\": {\"116\": 28}, \"25\": {\"25\": 16}, \"106\": {\"106\": 24}, \"18\": {\"18\": 36}, \"72\": {\"72\": 28}, \"37\": {\"37\": 16}, \"95\": {\"95\": 31, \"21\": 1}, \"86\": {\"86\": 26, \"21\": 2}, \"35\": {\"35\": 12}, \"61\": {\"61\": 15, \"70\": 1}, \"21\": {\"21\": 33, \"78\": 2, \"106\": 1}, \"58\": {\"58\": 16}, \"103\": {\"103\": 16}, \"73\": {\"73\": 38}, \"13\": {\"13\": 12, \"17\": 2, \"21\": 2}, \"12\": {\"12\": 46}, \"109\": {\"109\": 38}, \"70\": {\"70\": 33, \"12\": 1}, \"54\": {\"54\": 16}, \"123\": {\"123\": 14, \"67\": 1, \"2\": 1}, \"101\": {\"101\": 41, \"12\": 1}, \"29\": {\"29\": 31, \"19\": 1}, \"56\": {\"56\": 10, \"51\": 1, \"25\": 1}, \"102\": {\"102\": 30}, \"87\": {\"87\": 38}, \"44\": {\"44\": 36}, \"75\": {\"75\": 16}, \"82\": {\"82\": 28}, \"107\": {\"107\": 34, \"88\": 1, \"19\": 1}, \"46\": {\"46\": 16}, \"71\": {\"71\": 36}, \"100\": {\"100\": 16}, \"97\": {\"97\": 18, \"21\": 2}, \"40\": {\"40\": 42}, \"7\": {\"7\": 44}, \"110\": {\"110\": 41, \"88\": 1}, \"11\": {\"11\": 40}, \"89\": {\"89\": 27, \"20\": 1}, \"1\": {\"1\": 24}, \"104\": {\"104\": 16}, \"74\": {\"74\": 15, \"116\": 1}, \"125\": {\"125\": 36}, \"14\": {\"14\": 38}, \"114\": {\"114\": 44}, \"48\": {\"48\": 15, \"119\": 1}, \"10\": {\"10\": 42}, \"22\": {\"22\": 15, \"70\": 1}, \"68\": {\"68\": 15, \"70\": 1}, \"19\": {\"19\": 32}, \"5\": {\"5\": 31, \"21\": 1}, \"17\": {\"17\": 14, \"115\": 2}, \"8\": {\"8\": 35, \"17\": 1}, \"60\": {\"60\": 27, \"110\": 1}, \"42\": {\"42\": 27, \"17\": 1}, \"117\": {\"117\": 39, \"13\": 1}, \"20\": {\"20\": 14, \"67\": 1, \"88\": 1}, \"85\": {\"85\": 34}, \"51\": {\"51\": 15, \"4\": 1}, \"69\": {\"69\": 33, \"12\": 1}, \"45\": {\"45\": 15, \"22\": 1}, \"98\": {\"98\": 30}, \"24\": {\"24\": 26, \"27\": 3, \"70\": 1}, \"15\": {\"15\": 28}, \"27\": {\"27\": 32, \"36\": 2, \"24\": 2}, \"91\": {\"91\": 22, \"51\": 1, \"22\": 1}, \"112\": {\"112\": 14, \"21\": 1, \"83\": 1}, \"115\": {\"115\": 16}, \"77\": {\"77\": 16}, \"57\": {\"57\": 19, \"74\": 1}, \"55\": {\"55\": 16}}, \"CORES_2\": {\"25\": {\"25\": 19, \"49\": 1}, \"39\": {\"39\": 20}, \"51\": {\"51\": 20}, \"4\": {\"4\": 20}, \"57\": {\"57\": 20}, \"0\": {\"0\": 20}, \"28\": {\"28\": 20}, \"35\": {\"35\": 20}, \"53\": {\"53\": 20}, \"33\": {\"33\": 20}, \"41\": {\"41\": 18, \"0\": 2}, \"14\": {\"14\": 6, \"13\": 6, \"38\": 7, \"56\": 1}, \"8\": {\"8\": 20}, \"47\": {\"47\": 20}, \"37\": {\"37\": 20}, \"43\": {\"43\": 20}, \"29\": {\"29\": 20}, \"56\": {\"56\": 20}, \"19\": {\"19\": 20}, \"48\": {\"48\": 20}, \"52\": {\"52\": 20}, \"22\": {\"22\": 20}, \"21\": {\"21\": 20}, \"27\": {\"27\": 20}, \"45\": {\"45\": 19, \"6\": 1}, \"10\": {\"10\": 20}, \"1\": {\"1\": 20}, \"38\": {\"38\": 20}, \"24\": {\"24\": 20}, \"17\": {\"17\": 20}, \"54\": {\"54\": 20}, \"3\": {\"3\": 19, \"6\": 1}, \"36\": {\"36\": 20}, \"40\": {\"40\": 20}, \"11\": {\"11\": 20}, \"55\": {\"55\": 20}, \"26\": {\"26\": 20}, \"20\": {\"20\": 20}, \"5\": {\"5\": 20}, \"44\": {\"44\": 20}, \"32\": {\"32\": 19, \"27\": 1}, \"31\": {\"31\": 20}, \"30\": {\"30\": 20}, \"49\": {\"49\": 20}, \"50\": {\"50\": 19, \"3\": 1}, \"6\": {\"6\": 20}, \"34\": {\"34\": 20}, \"15\": {\"15\": 19, \"11\": 1}, \"18\": {\"18\": 20}, \"16\": {\"16\": 20}, \"7\": {\"7\": 20}, \"9\": {\"9\": 20}, \"42\": {\"42\": 20}, \"2\": {\"2\": 20}, \"12\": {\"12\": 20}, \"46\": {\"46\": 20}, \"13\": {\"13\": 20}, \"23\": {\"23\": 20}}, \"CORES_1\": {\"9\": {\"9\": 24}, \"57\": {\"57\": 24}, \"18\": {\"18\": 23, \"50\": 1}, \"35\": {\"35\": 24}, \"24\": {\"24\": 24}, \"38\": {\"38\": 19, \"36\": 3, \"55\": 2}, \"3\": {\"3\": 24}, \"12\": {\"12\": 24}, \"11\": {\"11\": 23, \"12\": 1}, \"1\": {\"1\": 24}, \"5\": {\"5\": 24}, \"31\": {\"31\": 24}, \"25\": {\"25\": 24}, \"17\": {\"17\": 24}, \"36\": {\"36\": 24}, \"0\": {\"0\": 24}, \"16\": {\"16\": 24}, \"32\": {\"32\": 24}, \"20\": {\"20\": 24}, \"37\": {\"37\": 24}, \"8\": {\"8\": 24}, \"50\": {\"50\": 24}, \"30\": {\"30\": 24}, \"27\": {\"27\": 24}, \"6\": {\"6\": 24}, \"23\": {\"23\": 24}, \"28\": {\"28\": 24}, \"40\": {\"40\": 24}, \"49\": {\"49\": 24}, \"56\": {\"56\": 23, \"45\": 1}, \"15\": {\"15\": 24}, \"19\": {\"19\": 24}, \"55\": {\"55\": 24}, \"51\": {\"51\": 24}, \"52\": {\"52\": 24}, \"13\": {\"13\": 24}, \"22\": {\"22\": 24}, \"4\": {\"4\": 24}, \"43\": {\"43\": 24}, \"29\": {\"29\": 23, \"57\": 1}, \"33\": {\"33\": 24}, \"45\": {\"45\": 24}, \"10\": {\"10\": 24}, \"48\": {\"48\": 24}, \"2\": {\"2\": 24}, \"39\": {\"39\": 20, \"43\": 1, \"47\": 3}, \"44\": {\"44\": 24}, \"7\": {\"7\": 24}, \"53\": {\"53\": 24}, \"54\": {\"54\": 24}, \"46\": {\"46\": 24}, \"14\": {\"30\": 10, \"14\": 9, \"2\": 5}, \"47\": {\"47\": 24}, \"34\": {\"34\": 23, \"33\": 1}, \"42\": {\"42\": 24}, \"21\": {\"21\": 24}, \"26\": {\"26\": 24}, \"41\": {\"41\": 24}}, \"CORES_5\": {\"37\": {\"37\": 20}, \"22\": {\"22\": 20}, \"40\": {\"40\": 20}, \"19\": {\"19\": 20}, \"2\": {\"2\": 20}, \"0\": {\"0\": 20}, \"5\": {\"5\": 20}, \"25\": {\"25\": 20}, \"18\": {\"18\": 20}, \"4\": {\"4\": 20}, \"6\": {\"6\": 19, \"45\": 1}, \"21\": {\"21\": 20}, \"24\": {\"24\": 20}, \"35\": {\"35\": 20}, \"43\": {\"43\": 20}, \"14\": {\"14\": 11, \"37\": 3, \"43\": 1, \"9\": 1, \"49\": 3, \"48\": 1}, \"53\": {\"53\": 20}, \"11\": {\"11\": 19, \"15\": 1}, \"28\": {\"28\": 20}, \"49\": {\"49\": 20}, \"10\": {\"10\": 20}, \"27\": {\"27\": 20}, \"8\": {\"8\": 20}, \"46\": {\"46\": 20}, \"3\": {\"3\": 20}, \"17\": {\"17\": 20}, \"23\": {\"23\": 19, \"19\": 1}, \"20\": {\"20\": 20}, \"16\": {\"16\": 20}, \"55\": {\"55\": 20}, \"15\": {\"15\": 20}, \"45\": {\"45\": 19, \"50\": 1}, \"12\": {\"12\": 20}, \"30\": {\"30\": 20}, \"13\": {\"13\": 20}, \"54\": {\"54\": 20}, \"57\": {\"57\": 20}, \"1\": {\"1\": 20}, \"7\": {\"7\": 20}, \"33\": {\"33\": 20}, \"56\": {\"56\": 20}, \"44\": {\"44\": 20}, \"48\": {\"48\": 20}, \"36\": {\"36\": 20}, \"50\": {\"50\": 20}, \"32\": {\"32\": 20}, \"51\": {\"51\": 20}, \"52\": {\"52\": 20}, \"31\": {\"31\": 20}, \"39\": {\"39\": 20}, \"42\": {\"42\": 20}, \"9\": {\"9\": 20}, \"26\": {\"26\": 20}, \"38\": {\"38\": 19, \"7\": 1}, \"47\": {\"47\": 20}, \"34\": {\"34\": 20}, \"41\": {\"41\": 20}, \"29\": {\"29\": 20}}, \"CORES_4\": {\"25\": {\"25\": 16}, \"24\": {\"24\": 15, \"49\": 1}, \"6\": {\"6\": 16}, \"27\": {\"27\": 16}, \"35\": {\"35\": 16}, \"48\": {\"48\": 16}, \"0\": {\"0\": 16}, \"44\": {\"44\": 15, \"40\": 1}, \"50\": {\"50\": 16}, \"36\": {\"36\": 16}, \"13\": {\"13\": 16}, \"42\": {\"42\": 16}, \"38\": {\"38\": 16}, \"54\": {\"54\": 16}, \"33\": {\"33\": 16}, \"49\": {\"49\": 16}, \"28\": {\"28\": 16}, \"53\": {\"53\": 16}, \"16\": {\"16\": 16}, \"20\": {\"20\": 16}, \"12\": {\"12\": 16}, \"1\": {\"1\": 16}, \"5\": {\"5\": 16}, \"52\": {\"52\": 16}, \"39\": {\"39\": 16}, \"11\": {\"11\": 15, \"15\": 1}, \"3\": {\"3\": 13, \"46\": 1, \"50\": 2}, \"22\": {\"22\": 16}, \"23\": {\"34\": 2, \"23\": 14}, \"47\": {\"47\": 16}, \"32\": {\"32\": 15, \"7\": 1}, \"31\": {\"31\": 16}, \"4\": {\"4\": 16}, \"43\": {\"43\": 16}, \"46\": {\"46\": 16}, \"40\": {\"40\": 14, \"44\": 2}, \"55\": {\"55\": 16}, \"21\": {\"21\": 16}, \"56\": {\"56\": 16}, \"8\": {\"8\": 16}, \"37\": {\"37\": 16}, \"7\": {\"7\": 15, \"32\": 1}, \"14\": {\"14\": 4, \"1\": 4, \"37\": 5, \"2\": 3}, \"18\": {\"18\": 16}, \"26\": {\"26\": 15, \"41\": 1}, \"34\": {\"34\": 15, \"23\": 1}, \"45\": {\"45\": 16}, \"10\": {\"10\": 16}, \"15\": {\"15\": 15, \"11\": 1}, \"51\": {\"51\": 16}, \"30\": {\"30\": 16}, \"41\": {\"41\": 16}, \"2\": {\"2\": 16}, \"29\": {\"29\": 15, \"57\": 1}, \"19\": {\"19\": 16}, \"17\": {\"17\": 16}, \"9\": {\"9\": 15, \"36\": 1}, \"57\": {\"57\": 16}}, \"CORES_3\": {\"20\": {\"20\": 16}, \"56\": {\"56\": 16}, \"43\": {\"43\": 16}, \"1\": {\"1\": 16}, \"41\": {\"41\": 16}, \"29\": {\"29\": 16}, \"27\": {\"27\": 16}, \"4\": {\"4\": 16}, \"53\": {\"53\": 16}, \"22\": {\"22\": 16}, \"46\": {\"46\": 16}, \"54\": {\"54\": 16}, \"9\": {\"9\": 16}, \"5\": {\"5\": 16}, \"18\": {\"18\": 16}, \"45\": {\"45\": 15, \"6\": 1}, \"48\": {\"48\": 16}, \"35\": {\"35\": 16}, \"40\": {\"40\": 16}, \"33\": {\"33\": 16}, \"0\": {\"0\": 16}, \"44\": {\"44\": 16}, \"50\": {\"50\": 15, \"46\": 1}, \"38\": {\"38\": 16}, \"57\": {\"29\": 3, \"57\": 13}, \"15\": {\"15\": 13, \"11\": 3}, \"26\": {\"26\": 16}, \"51\": {\"51\": 16}, \"30\": {\"30\": 16}, \"47\": {\"47\": 16}, \"6\": {\"6\": 14, \"45\": 2}, \"8\": {\"8\": 16}, \"24\": {\"24\": 16}, \"12\": {\"12\": 16}, \"7\": {\"7\": 16}, \"49\": {\"49\": 16}, \"28\": {\"28\": 15, \"25\": 1}, \"2\": {\"2\": 16}, \"42\": {\"42\": 16}, \"11\": {\"11\": 16}, \"23\": {\"23\": 16}, \"17\": {\"17\": 16}, \"52\": {\"52\": 16}, \"31\": {\"31\": 16}, \"32\": {\"32\": 16}, \"21\": {\"21\": 16}, \"19\": {\"19\": 16}, \"39\": {\"39\": 16}, \"3\": {\"3\": 16}, \"13\": {\"13\": 16}, \"25\": {\"25\": 16}, \"55\": {\"55\": 16}, \"16\": {\"16\": 16}, \"37\": {\"37\": 16}, \"36\": {\"36\": 16}, \"14\": {\"14\": 7, \"13\": 7, \"55\": 2}, \"34\": {\"34\": 16}, \"10\": {\"10\": 16}}}, \"per_domain_accuracy\": {\"Wisig_2\": {\"accuracy\": 0.9591784989858012, \"source?\": true}, \"Wisig_4\": {\"accuracy\": 0.9548066875653083, \"source?\": true}, \"Wisig_1\": {\"accuracy\": 0.9777530589543938, \"source?\": true}, \"Wisig_3\": {\"accuracy\": 0.9724694104560623, \"source?\": true}, \"CORES_2\": {\"accuracy\": 0.9810344827586207, \"source?\": false}, \"CORES_1\": {\"accuracy\": 0.9791666666666666, \"source?\": false}, \"CORES_5\": {\"accuracy\": 0.9879310344827587, \"source?\": false}, \"CORES_4\": {\"accuracy\": 0.96875, \"source?\": false}, \"CORES_3\": {\"accuracy\": 0.978448275862069, \"source?\": false}}}, \"history\": {\"epoch_indices\": [1, 2, 3], \"train_label_loss\": [0.5299009551484901, 0.27909829529691343, 0.21837693834204483], \"source_val_label_loss\": [0.324455201625824, 0.22603942453861237, 0.18987682461738586], \"target_val_label_loss\": [0.27278298139572144, 0.1907091587781906, 0.15871286392211914], \"source_val_acc_label\": [0.9415931569099172, 0.9616412723870623, 0.9657177225340818], \"target_val_acc_label\": [0.9709051724137931, 0.9752155172413793, 0.9795258620689655]}, \"dataset_metrics\": {\"source\": {\"train\": {\"n_unique_x\": 140762, \"n_unique_y\": 130, \"n_batch/episode\": 911}, \"val\": {\"n_unique_x\": 26165, \"n_unique_y\": 130, \"n_batch/episode\": 129}, \"test\": {\"n_unique_x\": 26259, \"n_unique_y\": 130, \"n_batch/episode\": 130}}, \"target\": {\"train\": {\"n_unique_x\": 75914, \"n_unique_y\": 58, \"n_batch/episode\": 351}, \"val\": {\"n_unique_x\": 11872, \"n_unique_y\": 58, \"n_batch/episode\": 48}, \"test\": {\"n_unique_x\": 12298, \"n_unique_y\": 58, \"n_batch/episode\": 50}}}}'"
      ]
     },
     "execution_count": 29,
     "metadata": {},
     "output_type": "execute_result"
    }
   ],
   "source": [
    "json.dumps(experiment)"
   ]
  }
 ],
 "metadata": {
  "celltoolbar": "Tags",
  "kernelspec": {
   "display_name": "Python 3 (ipykernel)",
   "language": "python",
   "name": "python3"
  },
  "language_info": {
   "codemirror_mode": {
    "name": "ipython",
    "version": 3
   },
   "file_extension": ".py",
   "mimetype": "text/x-python",
   "name": "python",
   "nbconvert_exporter": "python",
   "pygments_lexer": "ipython3",
   "version": "3.8.12"
  },
  "papermill": {
   "default_parameters": {},
   "duration": 339.939094,
   "end_time": "2022-03-21T03:29:07.841935",
   "environment_variables": {},
   "exception": null,
   "input_path": "/root/csc500-main/csc500-notebooks/templates/tl_ptn_template.ipynb",
   "output_path": "trial.ipynb",
   "parameters": {
    "parameters": {
     "BEST_MODEL_PATH": "./best_model.pth",
     "NUM_LOGS_PER_EPOCH": 10,
     "criteria_for_best": "target_accuracy",
     "dataset_seed": 154325,
     "datasets": [
      {
       "domain_prefix": "CORES_",
       "domains": [
        1,
        2,
        3,
        4,
        5
       ],
       "episode_transforms": [],
       "labels": [
        "1-10.",
        "1-11.",
        "1-15.",
        "1-16.",
        "1-17.",
        "1-18.",
        "1-19.",
        "10-4.",
        "10-7.",
        "11-1.",
        "11-14.",
        "11-17.",
        "11-20.",
        "11-7.",
        "13-20.",
        "13-8.",
        "14-10.",
        "14-11.",
        "14-14.",
        "14-7.",
        "15-1.",
        "15-20.",
        "16-1.",
        "16-16.",
        "17-10.",
        "17-11.",
        "17-2.",
        "19-1.",
        "19-16.",
        "19-19.",
        "19-20.",
        "19-3.",
        "2-10.",
        "2-11.",
        "2-17.",
        "2-18.",
        "2-20.",
        "2-3.",
        "2-4.",
        "2-5.",
        "2-6.",
        "2-7.",
        "2-8.",
        "3-13.",
        "3-18.",
        "3-3.",
        "4-1.",
        "4-10.",
        "4-11.",
        "4-19.",
        "5-5.",
        "6-15.",
        "7-10.",
        "7-14.",
        "8-18.",
        "8-20.",
        "8-3.",
        "8-8."
       ],
       "num_examples_per_domain_per_label": -1,
       "pickle_path": "/root/csc500-main/datasets/cores.stratified_ds.2022A.pkl",
       "source_or_target_dataset": "target",
       "x_transforms": []
      },
      {
       "domain_prefix": "Wisig_",
       "domains": [
        1,
        2,
        3,
        4
       ],
       "episode_transforms": [],
       "labels": [
        "1-10",
        "1-12",
        "1-14",
        "1-16",
        "1-18",
        "1-19",
        "1-8",
        "10-11",
        "10-17",
        "10-4",
        "10-7",
        "11-1",
        "11-10",
        "11-19",
        "11-20",
        "11-4",
        "11-7",
        "12-19",
        "12-20",
        "12-7",
        "13-14",
        "13-18",
        "13-19",
        "13-20",
        "13-3",
        "13-7",
        "14-10",
        "14-11",
        "14-12",
        "14-13",
        "14-14",
        "14-19",
        "14-20",
        "14-7",
        "14-8",
        "14-9",
        "15-1",
        "15-19",
        "15-6",
        "16-1",
        "16-16",
        "16-19",
        "16-20",
        "17-10",
        "17-11",
        "18-1",
        "18-10",
        "18-11",
        "18-12",
        "18-13",
        "18-14",
        "18-15",
        "18-16",
        "18-17",
        "18-19",
        "18-2",
        "18-20",
        "18-4",
        "18-5",
        "18-7",
        "18-8",
        "18-9",
        "19-1",
        "19-10",
        "19-11",
        "19-12",
        "19-13",
        "19-14",
        "19-15",
        "19-19",
        "19-2",
        "19-20",
        "19-3",
        "19-4",
        "19-6",
        "19-7",
        "19-8",
        "19-9",
        "2-1",
        "2-13",
        "2-15",
        "2-3",
        "2-4",
        "2-5",
        "2-6",
        "2-7",
        "2-8",
        "20-1",
        "20-12",
        "20-14",
        "20-15",
        "20-16",
        "20-18",
        "20-19",
        "20-20",
        "20-3",
        "20-4",
        "20-5",
        "20-7",
        "20-8",
        "3-1",
        "3-13",
        "3-18",
        "3-2",
        "3-8",
        "4-1",
        "4-10",
        "4-11",
        "5-1",
        "5-5",
        "6-1",
        "6-15",
        "6-6",
        "7-10",
        "7-11",
        "7-12",
        "7-13",
        "7-14",
        "7-7",
        "7-8",
        "7-9",
        "8-1",
        "8-13",
        "8-14",
        "8-18",
        "8-20",
        "8-3",
        "8-8",
        "9-1",
        "9-7"
       ],
       "num_examples_per_domain_per_label": -1,
       "pickle_path": "/root/csc500-main/datasets/wisig.node3-19.stratified_ds.2022A.pkl",
       "source_or_target_dataset": "source",
       "x_transforms": []
      }
     ],
     "device": "cuda",
     "experiment_name": "tl_1v2:cores-wisig",
     "lr": 0.0001,
     "n_epoch": 3,
     "n_query": 2,
     "n_shot": 3,
     "n_way": 58,
     "patience": 3,
     "seed": 154325,
     "test_k_factor": 2,
     "torch_default_dtype": "torch.float32",
     "train_k_factor": 3,
     "val_k_factor": 2,
     "x_net": [
      {
       "class": "nnReshape",
       "kargs": {
        "shape": [
         -1,
         1,
         2,
         256
        ]
       }
      },
      {
       "class": "Conv2d",
       "kargs": {
        "bias": false,
        "in_channels": 1,
        "kernel_size": [
         1,
         7
        ],
        "out_channels": 256,
        "padding": [
         0,
         3
        ]
       }
      },
      {
       "class": "ReLU",
       "kargs": {
        "inplace": true
       }
      },
      {
       "class": "BatchNorm2d",
       "kargs": {
        "num_features": 256
       }
      },
      {
       "class": "Conv2d",
       "kargs": {
        "bias": true,
        "in_channels": 256,
        "kernel_size": [
         2,
         7
        ],
        "out_channels": 80,
        "padding": [
         0,
         3
        ]
       }
      },
      {
       "class": "ReLU",
       "kargs": {
        "inplace": true
       }
      },
      {
       "class": "BatchNorm2d",
       "kargs": {
        "num_features": 80
       }
      },
      {
       "class": "Flatten",
       "kargs": {}
      },
      {
       "class": "Linear",
       "kargs": {
        "in_features": 20480,
        "out_features": 256
       }
      },
      {
       "class": "ReLU",
       "kargs": {
        "inplace": true
       }
      },
      {
       "class": "BatchNorm1d",
       "kargs": {
        "num_features": 256
       }
      },
      {
       "class": "Linear",
       "kargs": {
        "in_features": 256,
        "out_features": 256
       }
      }
     ]
    }
   },
   "start_time": "2022-03-21T03:23:27.902841",
   "version": "2.3.4"
  }
 },
 "nbformat": 4,
 "nbformat_minor": 5
}