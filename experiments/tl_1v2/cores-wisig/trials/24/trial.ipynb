{
 "cells": [
  {
   "cell_type": "markdown",
   "id": "9fea5f46",
   "metadata": {
    "papermill": {
     "duration": 0.029432,
     "end_time": "2022-03-21T03:59:12.299758",
     "exception": false,
     "start_time": "2022-03-21T03:59:12.270326",
     "status": "completed"
    },
    "tags": []
   },
   "source": [
    "# Transfer Learning Template"
   ]
  },
  {
   "cell_type": "code",
   "execution_count": 1,
   "id": "0902182a",
   "metadata": {
    "execution": {
     "iopub.execute_input": "2022-03-21T03:59:12.366571Z",
     "iopub.status.busy": "2022-03-21T03:59:12.363204Z",
     "iopub.status.idle": "2022-03-21T03:59:14.328846Z",
     "shell.execute_reply": "2022-03-21T03:59:14.328364Z"
    },
    "papermill": {
     "duration": 2.004773,
     "end_time": "2022-03-21T03:59:14.328971",
     "exception": false,
     "start_time": "2022-03-21T03:59:12.324198",
     "status": "completed"
    },
    "tags": []
   },
   "outputs": [],
   "source": [
    "%load_ext autoreload\n",
    "%autoreload 2\n",
    "%matplotlib inline\n",
    "\n",
    "    \n",
    "import os, json, sys, time, random\n",
    "import numpy as np\n",
    "import torch\n",
    "from torch.optim import Adam\n",
    "from  easydict import EasyDict\n",
    "import matplotlib.pyplot as plt\n",
    "\n",
    "from steves_models.steves_ptn import Steves_Prototypical_Network\n",
    "\n",
    "from steves_utils.lazy_iterable_wrapper import Lazy_Iterable_Wrapper\n",
    "from steves_utils.iterable_aggregator import Iterable_Aggregator\n",
    "from steves_utils.ptn_train_eval_test_jig import  PTN_Train_Eval_Test_Jig\n",
    "from steves_utils.torch_sequential_builder import build_sequential\n",
    "from steves_utils.torch_utils import get_dataset_metrics, ptn_confusion_by_domain_over_dataloader\n",
    "from steves_utils.utils_v2 import (per_domain_accuracy_from_confusion, get_datasets_base_path)\n",
    "from steves_utils.PTN.utils import independent_accuracy_assesment\n",
    "\n",
    "from torch.utils.data import DataLoader\n",
    "\n",
    "from steves_utils.stratified_dataset.episodic_accessor import Episodic_Accessor_Factory\n",
    "\n",
    "from steves_utils.ptn_do_report import (\n",
    "    get_loss_curve,\n",
    "    get_results_table,\n",
    "    get_parameters_table,\n",
    "    get_domain_accuracies,\n",
    ")\n",
    "\n",
    "from steves_utils.transforms import get_chained_transform"
   ]
  },
  {
   "cell_type": "markdown",
   "id": "41c840b4",
   "metadata": {
    "papermill": {
     "duration": 0.020327,
     "end_time": "2022-03-21T03:59:14.370130",
     "exception": false,
     "start_time": "2022-03-21T03:59:14.349803",
     "status": "completed"
    },
    "tags": []
   },
   "source": [
    "# Allowed Parameters\n",
    "These are allowed parameters, not defaults\n",
    "Each of these values need to be present in the injected parameters (the notebook will raise an exception if they are not present)\n",
    "\n",
    "Papermill uses the cell tag \"parameters\" to inject the real parameters below this cell.\n",
    "Enable tags to see what I mean"
   ]
  },
  {
   "cell_type": "code",
   "execution_count": 2,
   "id": "fd44eb83",
   "metadata": {
    "execution": {
     "iopub.execute_input": "2022-03-21T03:59:14.416690Z",
     "iopub.status.busy": "2022-03-21T03:59:14.416065Z",
     "iopub.status.idle": "2022-03-21T03:59:14.434649Z",
     "shell.execute_reply": "2022-03-21T03:59:14.433871Z"
    },
    "papermill": {
     "duration": 0.044138,
     "end_time": "2022-03-21T03:59:14.434814",
     "exception": false,
     "start_time": "2022-03-21T03:59:14.390676",
     "status": "completed"
    },
    "tags": []
   },
   "outputs": [],
   "source": [
    "required_parameters = {\n",
    "    \"experiment_name\",\n",
    "    \"lr\",\n",
    "    \"device\",\n",
    "    \"seed\",\n",
    "    \"dataset_seed\",\n",
    "    \"n_shot\",\n",
    "    \"n_query\",\n",
    "    \"n_way\",\n",
    "    \"train_k_factor\",\n",
    "    \"val_k_factor\",\n",
    "    \"test_k_factor\",\n",
    "    \"n_epoch\",\n",
    "    \"patience\",\n",
    "    \"criteria_for_best\",\n",
    "    \"x_net\",\n",
    "    \"datasets\",\n",
    "    \"torch_default_dtype\",\n",
    "    \"NUM_LOGS_PER_EPOCH\",\n",
    "    \"BEST_MODEL_PATH\",\n",
    "    \"x_shape\",\n",
    "}"
   ]
  },
  {
   "cell_type": "code",
   "execution_count": 3,
   "id": "fa3f0049",
   "metadata": {
    "execution": {
     "iopub.execute_input": "2022-03-21T03:59:14.491357Z",
     "iopub.status.busy": "2022-03-21T03:59:14.490636Z",
     "iopub.status.idle": "2022-03-21T03:59:14.509965Z",
     "shell.execute_reply": "2022-03-21T03:59:14.508847Z"
    },
    "papermill": {
     "duration": 0.049402,
     "end_time": "2022-03-21T03:59:14.510187",
     "exception": false,
     "start_time": "2022-03-21T03:59:14.460785",
     "status": "completed"
    },
    "tags": [
     "parameters"
    ]
   },
   "outputs": [],
   "source": [
    "from steves_utils.CORES.utils import (\n",
    "    ALL_NODES,\n",
    "    ALL_NODES_MINIMUM_1000_EXAMPLES,\n",
    "    ALL_DAYS\n",
    ")\n",
    "\n",
    "from steves_utils.ORACLE.utils_v2 import (\n",
    "    ALL_DISTANCES_FEET_NARROWED,\n",
    "    ALL_RUNS,\n",
    "    ALL_SERIAL_NUMBERS,\n",
    ")\n",
    "\n",
    "standalone_parameters = {}\n",
    "standalone_parameters[\"experiment_name\"] = \"STANDALONE PTN\"\n",
    "standalone_parameters[\"lr\"] = 0.001\n",
    "standalone_parameters[\"device\"] = \"cuda\"\n",
    "\n",
    "standalone_parameters[\"seed\"] = 1337\n",
    "standalone_parameters[\"dataset_seed\"] = 1337\n",
    "\n",
    "standalone_parameters[\"n_way\"] = 8\n",
    "standalone_parameters[\"n_shot\"] = 3\n",
    "standalone_parameters[\"n_query\"]  = 2\n",
    "standalone_parameters[\"train_k_factor\"] = 1\n",
    "standalone_parameters[\"val_k_factor\"] = 2\n",
    "standalone_parameters[\"test_k_factor\"] = 2\n",
    "\n",
    "\n",
    "standalone_parameters[\"n_epoch\"] = 50\n",
    "\n",
    "standalone_parameters[\"patience\"] = 10\n",
    "standalone_parameters[\"criteria_for_best\"] = \"source_loss\"\n",
    "\n",
    "standalone_parameters[\"datasets\"] = [\n",
    "    {\n",
    "        \"labels\": ALL_SERIAL_NUMBERS,\n",
    "        \"domains\": ALL_DISTANCES_FEET_NARROWED,\n",
    "        \"num_examples_per_domain_per_label\": 100,\n",
    "        \"pickle_path\": os.path.join(get_datasets_base_path(), \"oracle.Run1_framed_2000Examples_stratified_ds.2022A.pkl\"),\n",
    "        \"source_or_target_dataset\": \"source\",\n",
    "        \"x_transforms\": [\"unit_mag\", \"minus_two\"],\n",
    "        \"episode_transforms\": [],\n",
    "        \"domain_prefix\": \"ORACLE_\"\n",
    "    },\n",
    "    {\n",
    "        \"labels\": ALL_NODES,\n",
    "        \"domains\": ALL_DAYS,\n",
    "        \"num_examples_per_domain_per_label\": 100,\n",
    "        \"pickle_path\": os.path.join(get_datasets_base_path(), \"cores.stratified_ds.2022A.pkl\"),\n",
    "        \"source_or_target_dataset\": \"target\",\n",
    "        \"x_transforms\": [\"unit_power\", \"times_zero\"],\n",
    "        \"episode_transforms\": [],\n",
    "        \"domain_prefix\": \"CORES_\"\n",
    "    }   \n",
    "]\n",
    "\n",
    "standalone_parameters[\"torch_default_dtype\"] = \"torch.float32\" \n",
    "\n",
    "\n",
    "\n",
    "standalone_parameters[\"x_net\"] =     [\n",
    "    {\"class\": \"nnReshape\", \"kargs\": {\"shape\":[-1, 1, 2, 256]}},\n",
    "    {\"class\": \"Conv2d\", \"kargs\": { \"in_channels\":1, \"out_channels\":256, \"kernel_size\":(1,7), \"bias\":False, \"padding\":(0,3), },},\n",
    "    {\"class\": \"ReLU\", \"kargs\": {\"inplace\": True}},\n",
    "    {\"class\": \"BatchNorm2d\", \"kargs\": {\"num_features\":256}},\n",
    "\n",
    "    {\"class\": \"Conv2d\", \"kargs\": { \"in_channels\":256, \"out_channels\":80, \"kernel_size\":(2,7), \"bias\":True, \"padding\":(0,3), },},\n",
    "    {\"class\": \"ReLU\", \"kargs\": {\"inplace\": True}},\n",
    "    {\"class\": \"BatchNorm2d\", \"kargs\": {\"num_features\":80}},\n",
    "    {\"class\": \"Flatten\", \"kargs\": {}},\n",
    "\n",
    "    {\"class\": \"Linear\", \"kargs\": {\"in_features\": 80*256, \"out_features\": 256}}, # 80 units per IQ pair\n",
    "    {\"class\": \"ReLU\", \"kargs\": {\"inplace\": True}},\n",
    "    {\"class\": \"BatchNorm1d\", \"kargs\": {\"num_features\":256}},\n",
    "\n",
    "    {\"class\": \"Linear\", \"kargs\": {\"in_features\": 256, \"out_features\": 256}},\n",
    "]\n",
    "\n",
    "# Parameters relevant to results\n",
    "# These parameters will basically never need to change\n",
    "standalone_parameters[\"NUM_LOGS_PER_EPOCH\"] = 10\n",
    "standalone_parameters[\"BEST_MODEL_PATH\"] = \"./best_model.pth\"\n",
    "\n",
    "\n",
    "\n",
    "\n"
   ]
  },
  {
   "cell_type": "code",
   "execution_count": 4,
   "id": "59cc6a80",
   "metadata": {
    "execution": {
     "iopub.execute_input": "2022-03-21T03:59:14.577093Z",
     "iopub.status.busy": "2022-03-21T03:59:14.571342Z",
     "iopub.status.idle": "2022-03-21T03:59:14.596664Z",
     "shell.execute_reply": "2022-03-21T03:59:14.595974Z"
    },
    "papermill": {
     "duration": 0.059616,
     "end_time": "2022-03-21T03:59:14.596833",
     "exception": false,
     "start_time": "2022-03-21T03:59:14.537217",
     "status": "completed"
    },
    "tags": [
     "injected-parameters"
    ]
   },
   "outputs": [],
   "source": [
    "# Parameters\n",
    "parameters = {\n",
    "    \"experiment_name\": \"tl_1v2:cores-wisig\",\n",
    "    \"device\": \"cuda\",\n",
    "    \"lr\": 0.0001,\n",
    "    \"n_shot\": 3,\n",
    "    \"n_query\": 2,\n",
    "    \"train_k_factor\": 3,\n",
    "    \"val_k_factor\": 2,\n",
    "    \"test_k_factor\": 2,\n",
    "    \"torch_default_dtype\": \"torch.float32\",\n",
    "    \"n_epoch\": 3,\n",
    "    \"patience\": 3,\n",
    "    \"criteria_for_best\": \"target_accuracy\",\n",
    "    \"x_net\": [\n",
    "        {\"class\": \"nnReshape\", \"kargs\": {\"shape\": [-1, 1, 2, 256]}},\n",
    "        {\n",
    "            \"class\": \"Conv2d\",\n",
    "            \"kargs\": {\n",
    "                \"in_channels\": 1,\n",
    "                \"out_channels\": 256,\n",
    "                \"kernel_size\": [1, 7],\n",
    "                \"bias\": False,\n",
    "                \"padding\": [0, 3],\n",
    "            },\n",
    "        },\n",
    "        {\"class\": \"ReLU\", \"kargs\": {\"inplace\": True}},\n",
    "        {\"class\": \"BatchNorm2d\", \"kargs\": {\"num_features\": 256}},\n",
    "        {\n",
    "            \"class\": \"Conv2d\",\n",
    "            \"kargs\": {\n",
    "                \"in_channels\": 256,\n",
    "                \"out_channels\": 80,\n",
    "                \"kernel_size\": [2, 7],\n",
    "                \"bias\": True,\n",
    "                \"padding\": [0, 3],\n",
    "            },\n",
    "        },\n",
    "        {\"class\": \"ReLU\", \"kargs\": {\"inplace\": True}},\n",
    "        {\"class\": \"BatchNorm2d\", \"kargs\": {\"num_features\": 80}},\n",
    "        {\"class\": \"Flatten\", \"kargs\": {}},\n",
    "        {\"class\": \"Linear\", \"kargs\": {\"in_features\": 20480, \"out_features\": 256}},\n",
    "        {\"class\": \"ReLU\", \"kargs\": {\"inplace\": True}},\n",
    "        {\"class\": \"BatchNorm1d\", \"kargs\": {\"num_features\": 256}},\n",
    "        {\"class\": \"Linear\", \"kargs\": {\"in_features\": 256, \"out_features\": 256}},\n",
    "    ],\n",
    "    \"NUM_LOGS_PER_EPOCH\": 10,\n",
    "    \"BEST_MODEL_PATH\": \"./best_model.pth\",\n",
    "    \"n_way\": 58,\n",
    "    \"datasets\": [\n",
    "        {\n",
    "            \"labels\": [\n",
    "                \"1-10.\",\n",
    "                \"1-11.\",\n",
    "                \"1-15.\",\n",
    "                \"1-16.\",\n",
    "                \"1-17.\",\n",
    "                \"1-18.\",\n",
    "                \"1-19.\",\n",
    "                \"10-4.\",\n",
    "                \"10-7.\",\n",
    "                \"11-1.\",\n",
    "                \"11-14.\",\n",
    "                \"11-17.\",\n",
    "                \"11-20.\",\n",
    "                \"11-7.\",\n",
    "                \"13-20.\",\n",
    "                \"13-8.\",\n",
    "                \"14-10.\",\n",
    "                \"14-11.\",\n",
    "                \"14-14.\",\n",
    "                \"14-7.\",\n",
    "                \"15-1.\",\n",
    "                \"15-20.\",\n",
    "                \"16-1.\",\n",
    "                \"16-16.\",\n",
    "                \"17-10.\",\n",
    "                \"17-11.\",\n",
    "                \"17-2.\",\n",
    "                \"19-1.\",\n",
    "                \"19-16.\",\n",
    "                \"19-19.\",\n",
    "                \"19-20.\",\n",
    "                \"19-3.\",\n",
    "                \"2-10.\",\n",
    "                \"2-11.\",\n",
    "                \"2-17.\",\n",
    "                \"2-18.\",\n",
    "                \"2-20.\",\n",
    "                \"2-3.\",\n",
    "                \"2-4.\",\n",
    "                \"2-5.\",\n",
    "                \"2-6.\",\n",
    "                \"2-7.\",\n",
    "                \"2-8.\",\n",
    "                \"3-13.\",\n",
    "                \"3-18.\",\n",
    "                \"3-3.\",\n",
    "                \"4-1.\",\n",
    "                \"4-10.\",\n",
    "                \"4-11.\",\n",
    "                \"4-19.\",\n",
    "                \"5-5.\",\n",
    "                \"6-15.\",\n",
    "                \"7-10.\",\n",
    "                \"7-14.\",\n",
    "                \"8-18.\",\n",
    "                \"8-20.\",\n",
    "                \"8-3.\",\n",
    "                \"8-8.\",\n",
    "            ],\n",
    "            \"domains\": [1, 2, 3, 4, 5],\n",
    "            \"num_examples_per_domain_per_label\": -1,\n",
    "            \"pickle_path\": \"/root/csc500-main/datasets/cores.stratified_ds.2022A.pkl\",\n",
    "            \"source_or_target_dataset\": \"source\",\n",
    "            \"x_transforms\": [\"unit_power\"],\n",
    "            \"episode_transforms\": [],\n",
    "            \"domain_prefix\": \"CORES_\",\n",
    "        },\n",
    "        {\n",
    "            \"labels\": [\n",
    "                \"1-10\",\n",
    "                \"1-12\",\n",
    "                \"1-14\",\n",
    "                \"1-16\",\n",
    "                \"1-18\",\n",
    "                \"1-19\",\n",
    "                \"1-8\",\n",
    "                \"10-11\",\n",
    "                \"10-17\",\n",
    "                \"10-4\",\n",
    "                \"10-7\",\n",
    "                \"11-1\",\n",
    "                \"11-10\",\n",
    "                \"11-19\",\n",
    "                \"11-20\",\n",
    "                \"11-4\",\n",
    "                \"11-7\",\n",
    "                \"12-19\",\n",
    "                \"12-20\",\n",
    "                \"12-7\",\n",
    "                \"13-14\",\n",
    "                \"13-18\",\n",
    "                \"13-19\",\n",
    "                \"13-20\",\n",
    "                \"13-3\",\n",
    "                \"13-7\",\n",
    "                \"14-10\",\n",
    "                \"14-11\",\n",
    "                \"14-12\",\n",
    "                \"14-13\",\n",
    "                \"14-14\",\n",
    "                \"14-19\",\n",
    "                \"14-20\",\n",
    "                \"14-7\",\n",
    "                \"14-8\",\n",
    "                \"14-9\",\n",
    "                \"15-1\",\n",
    "                \"15-19\",\n",
    "                \"15-6\",\n",
    "                \"16-1\",\n",
    "                \"16-16\",\n",
    "                \"16-19\",\n",
    "                \"16-20\",\n",
    "                \"17-10\",\n",
    "                \"17-11\",\n",
    "                \"18-1\",\n",
    "                \"18-10\",\n",
    "                \"18-11\",\n",
    "                \"18-12\",\n",
    "                \"18-13\",\n",
    "                \"18-14\",\n",
    "                \"18-15\",\n",
    "                \"18-16\",\n",
    "                \"18-17\",\n",
    "                \"18-19\",\n",
    "                \"18-2\",\n",
    "                \"18-20\",\n",
    "                \"18-4\",\n",
    "                \"18-5\",\n",
    "                \"18-7\",\n",
    "                \"18-8\",\n",
    "                \"18-9\",\n",
    "                \"19-1\",\n",
    "                \"19-10\",\n",
    "                \"19-11\",\n",
    "                \"19-12\",\n",
    "                \"19-13\",\n",
    "                \"19-14\",\n",
    "                \"19-15\",\n",
    "                \"19-19\",\n",
    "                \"19-2\",\n",
    "                \"19-20\",\n",
    "                \"19-3\",\n",
    "                \"19-4\",\n",
    "                \"19-6\",\n",
    "                \"19-7\",\n",
    "                \"19-8\",\n",
    "                \"19-9\",\n",
    "                \"2-1\",\n",
    "                \"2-13\",\n",
    "                \"2-15\",\n",
    "                \"2-3\",\n",
    "                \"2-4\",\n",
    "                \"2-5\",\n",
    "                \"2-6\",\n",
    "                \"2-7\",\n",
    "                \"2-8\",\n",
    "                \"20-1\",\n",
    "                \"20-12\",\n",
    "                \"20-14\",\n",
    "                \"20-15\",\n",
    "                \"20-16\",\n",
    "                \"20-18\",\n",
    "                \"20-19\",\n",
    "                \"20-20\",\n",
    "                \"20-3\",\n",
    "                \"20-4\",\n",
    "                \"20-5\",\n",
    "                \"20-7\",\n",
    "                \"20-8\",\n",
    "                \"3-1\",\n",
    "                \"3-13\",\n",
    "                \"3-18\",\n",
    "                \"3-2\",\n",
    "                \"3-8\",\n",
    "                \"4-1\",\n",
    "                \"4-10\",\n",
    "                \"4-11\",\n",
    "                \"5-1\",\n",
    "                \"5-5\",\n",
    "                \"6-1\",\n",
    "                \"6-15\",\n",
    "                \"6-6\",\n",
    "                \"7-10\",\n",
    "                \"7-11\",\n",
    "                \"7-12\",\n",
    "                \"7-13\",\n",
    "                \"7-14\",\n",
    "                \"7-7\",\n",
    "                \"7-8\",\n",
    "                \"7-9\",\n",
    "                \"8-1\",\n",
    "                \"8-13\",\n",
    "                \"8-14\",\n",
    "                \"8-18\",\n",
    "                \"8-20\",\n",
    "                \"8-3\",\n",
    "                \"8-8\",\n",
    "                \"9-1\",\n",
    "                \"9-7\",\n",
    "            ],\n",
    "            \"domains\": [1, 2, 3, 4],\n",
    "            \"num_examples_per_domain_per_label\": -1,\n",
    "            \"pickle_path\": \"/root/csc500-main/datasets/wisig.node3-19.stratified_ds.2022A.pkl\",\n",
    "            \"source_or_target_dataset\": \"target\",\n",
    "            \"x_transforms\": [\"unit_power\"],\n",
    "            \"episode_transforms\": [],\n",
    "            \"domain_prefix\": \"Wisig_\",\n",
    "        },\n",
    "    ],\n",
    "    \"dataset_seed\": 500,\n",
    "    \"seed\": 500,\n",
    "}\n"
   ]
  },
  {
   "cell_type": "code",
   "execution_count": 5,
   "id": "8fa1cc33",
   "metadata": {
    "execution": {
     "iopub.execute_input": "2022-03-21T03:59:14.650657Z",
     "iopub.status.busy": "2022-03-21T03:59:14.649606Z",
     "iopub.status.idle": "2022-03-21T03:59:14.668716Z",
     "shell.execute_reply": "2022-03-21T03:59:14.667942Z"
    },
    "papermill": {
     "duration": 0.047105,
     "end_time": "2022-03-21T03:59:14.668883",
     "exception": false,
     "start_time": "2022-03-21T03:59:14.621778",
     "status": "completed"
    },
    "tags": []
   },
   "outputs": [],
   "source": [
    "# Set this to True if you want to run this template directly\n",
    "STANDALONE = False\n",
    "if STANDALONE:\n",
    "    print(\"parameters not injected, running with standalone_parameters\")\n",
    "    parameters = standalone_parameters\n",
    "\n",
    "if not 'parameters' in locals() and not 'parameters' in globals():\n",
    "    raise Exception(\"Parameter injection failed\")\n",
    "\n",
    "#Use an easy dict for all the parameters\n",
    "p = EasyDict(parameters)\n",
    "\n",
    "if \"x_shape\" not in p:\n",
    "    p.x_shape = [2,256] # Default to this if we dont supply x_shape\n",
    "\n",
    "\n",
    "supplied_keys = set(p.keys())\n",
    "\n",
    "if  supplied_keys != required_parameters:\n",
    "    print(\"Parameters are incorrect\")\n",
    "    if len(supplied_keys - required_parameters)>0: print(\"Shouldn't have:\", str(supplied_keys - required_parameters))\n",
    "    if len(required_parameters - supplied_keys)>0: print(\"Need to have:\", str(required_parameters - supplied_keys))\n",
    "    raise RuntimeError(\"Parameters are incorrect\")"
   ]
  },
  {
   "cell_type": "code",
   "execution_count": 6,
   "id": "3a028d58",
   "metadata": {
    "execution": {
     "iopub.execute_input": "2022-03-21T03:59:14.725300Z",
     "iopub.status.busy": "2022-03-21T03:59:14.723325Z",
     "iopub.status.idle": "2022-03-21T03:59:14.743489Z",
     "shell.execute_reply": "2022-03-21T03:59:14.742686Z"
    },
    "papermill": {
     "duration": 0.045321,
     "end_time": "2022-03-21T03:59:14.743680",
     "exception": false,
     "start_time": "2022-03-21T03:59:14.698359",
     "status": "completed"
    },
    "tags": []
   },
   "outputs": [],
   "source": [
    "###################################\n",
    "# Set the RNGs and make it all deterministic\n",
    "###################################\n",
    "np.random.seed(p.seed)\n",
    "random.seed(p.seed)\n",
    "torch.manual_seed(p.seed)\n",
    "\n",
    "torch.use_deterministic_algorithms(True) "
   ]
  },
  {
   "cell_type": "code",
   "execution_count": 7,
   "id": "b691acf6",
   "metadata": {
    "execution": {
     "iopub.execute_input": "2022-03-21T03:59:14.794576Z",
     "iopub.status.busy": "2022-03-21T03:59:14.793792Z",
     "iopub.status.idle": "2022-03-21T03:59:14.816638Z",
     "shell.execute_reply": "2022-03-21T03:59:14.815804Z"
    },
    "papermill": {
     "duration": 0.047366,
     "end_time": "2022-03-21T03:59:14.816803",
     "exception": false,
     "start_time": "2022-03-21T03:59:14.769437",
     "status": "completed"
    },
    "tags": []
   },
   "outputs": [],
   "source": [
    "###########################################\n",
    "# The stratified datasets honor this\n",
    "###########################################\n",
    "torch.set_default_dtype(eval(p.torch_default_dtype))"
   ]
  },
  {
   "cell_type": "code",
   "execution_count": 8,
   "id": "b5fba671",
   "metadata": {
    "execution": {
     "iopub.execute_input": "2022-03-21T03:59:14.870966Z",
     "iopub.status.busy": "2022-03-21T03:59:14.869506Z",
     "iopub.status.idle": "2022-03-21T03:59:14.923520Z",
     "shell.execute_reply": "2022-03-21T03:59:14.922773Z"
    },
    "papermill": {
     "duration": 0.079469,
     "end_time": "2022-03-21T03:59:14.923714",
     "exception": false,
     "start_time": "2022-03-21T03:59:14.844245",
     "status": "completed"
    },
    "tags": []
   },
   "outputs": [],
   "source": [
    "###################################\n",
    "# Build the network(s)\n",
    "# Note: It's critical to do this AFTER setting the RNG\n",
    "###################################\n",
    "x_net = build_sequential(p.x_net)"
   ]
  },
  {
   "cell_type": "code",
   "execution_count": 9,
   "id": "5d7e61cc",
   "metadata": {
    "execution": {
     "iopub.execute_input": "2022-03-21T03:59:14.977866Z",
     "iopub.status.busy": "2022-03-21T03:59:14.977488Z",
     "iopub.status.idle": "2022-03-21T03:59:15.001319Z",
     "shell.execute_reply": "2022-03-21T03:59:15.002005Z"
    },
    "papermill": {
     "duration": 0.048684,
     "end_time": "2022-03-21T03:59:15.002202",
     "exception": false,
     "start_time": "2022-03-21T03:59:14.953518",
     "status": "completed"
    },
    "tags": []
   },
   "outputs": [],
   "source": [
    "start_time_secs = time.time()"
   ]
  },
  {
   "cell_type": "code",
   "execution_count": 10,
   "id": "c6b67dfd",
   "metadata": {
    "execution": {
     "iopub.execute_input": "2022-03-21T03:59:15.057780Z",
     "iopub.status.busy": "2022-03-21T03:59:15.057171Z",
     "iopub.status.idle": "2022-03-21T03:59:15.079033Z",
     "shell.execute_reply": "2022-03-21T03:59:15.078215Z"
    },
    "papermill": {
     "duration": 0.048009,
     "end_time": "2022-03-21T03:59:15.079199",
     "exception": false,
     "start_time": "2022-03-21T03:59:15.031190",
     "status": "completed"
    },
    "tags": []
   },
   "outputs": [],
   "source": [
    "p.domains_source = []\n",
    "p.domains_target = []\n",
    "\n",
    "\n",
    "train_original_source = []\n",
    "val_original_source   = []\n",
    "test_original_source  = []\n",
    "\n",
    "train_original_target = []\n",
    "val_original_target   = []\n",
    "test_original_target  = []"
   ]
  },
  {
   "cell_type": "code",
   "execution_count": 11,
   "id": "e3d9c3d3",
   "metadata": {
    "execution": {
     "iopub.execute_input": "2022-03-21T03:59:15.131679Z",
     "iopub.status.busy": "2022-03-21T03:59:15.131282Z",
     "iopub.status.idle": "2022-03-21T03:59:15.151921Z",
     "shell.execute_reply": "2022-03-21T03:59:15.151073Z"
    },
    "papermill": {
     "duration": 0.045233,
     "end_time": "2022-03-21T03:59:15.152145",
     "exception": false,
     "start_time": "2022-03-21T03:59:15.106912",
     "status": "completed"
    },
    "tags": []
   },
   "outputs": [],
   "source": [
    "# global_x_transform_func = lambda x: normalize(x.to(torch.get_default_dtype()), \"unit_power\") # unit_power, unit_mag\n",
    "# global_x_transform_func = lambda x: normalize(x, \"unit_power\") # unit_power, unit_mag"
   ]
  },
  {
   "cell_type": "code",
   "execution_count": 12,
   "id": "acb78fd2",
   "metadata": {
    "execution": {
     "iopub.execute_input": "2022-03-21T03:59:15.214590Z",
     "iopub.status.busy": "2022-03-21T03:59:15.213974Z",
     "iopub.status.idle": "2022-03-21T03:59:15.235093Z",
     "shell.execute_reply": "2022-03-21T03:59:15.234261Z"
    },
    "papermill": {
     "duration": 0.053962,
     "end_time": "2022-03-21T03:59:15.235263",
     "exception": false,
     "start_time": "2022-03-21T03:59:15.181301",
     "status": "completed"
    },
    "tags": []
   },
   "outputs": [],
   "source": [
    "def add_dataset(\n",
    "    labels,\n",
    "    domains,\n",
    "    pickle_path,\n",
    "    x_transforms,\n",
    "    episode_transforms,\n",
    "    domain_prefix,\n",
    "    num_examples_per_domain_per_label,\n",
    "    source_or_target_dataset:str,\n",
    "    iterator_seed=p.seed,\n",
    "    dataset_seed=p.dataset_seed,\n",
    "    n_shot=p.n_shot,\n",
    "    n_way=p.n_way,\n",
    "    n_query=p.n_query,\n",
    "    train_val_test_k_factors=(p.train_k_factor,p.val_k_factor,p.test_k_factor),\n",
    "):\n",
    "   \n",
    "    if x_transforms == []: x_transform = None\n",
    "    else: x_transform = get_chained_transform(x_transforms)\n",
    "    \n",
    "    if episode_transforms == []: episode_transform = None\n",
    "    else: raise Exception(\"episode_transforms not implemented\")\n",
    "    \n",
    "    episode_transform = lambda tup, _prefix=domain_prefix: (_prefix + str(tup[0]), tup[1])\n",
    "\n",
    "\n",
    "    eaf = Episodic_Accessor_Factory(\n",
    "        labels=labels,\n",
    "        domains=domains,\n",
    "        num_examples_per_domain_per_label=num_examples_per_domain_per_label,\n",
    "        iterator_seed=iterator_seed,\n",
    "        dataset_seed=dataset_seed,\n",
    "        n_shot=n_shot,\n",
    "        n_way=n_way,\n",
    "        n_query=n_query,\n",
    "        train_val_test_k_factors=train_val_test_k_factors,\n",
    "        pickle_path=pickle_path,\n",
    "        x_transform_func=x_transform,\n",
    "    )\n",
    "\n",
    "    train, val, test = eaf.get_train(), eaf.get_val(), eaf.get_test()\n",
    "    train = Lazy_Iterable_Wrapper(train, episode_transform)\n",
    "    val = Lazy_Iterable_Wrapper(val, episode_transform)\n",
    "    test = Lazy_Iterable_Wrapper(test, episode_transform)\n",
    "\n",
    "    if source_or_target_dataset==\"source\":\n",
    "        train_original_source.append(train)\n",
    "        val_original_source.append(val)\n",
    "        test_original_source.append(test)\n",
    "\n",
    "        p.domains_source.extend(\n",
    "            [domain_prefix + str(u) for u in domains]\n",
    "        )\n",
    "    elif source_or_target_dataset==\"target\":\n",
    "        train_original_target.append(train)\n",
    "        val_original_target.append(val)\n",
    "        test_original_target.append(test)\n",
    "        p.domains_target.extend(\n",
    "            [domain_prefix + str(u) for u in domains]\n",
    "        )\n",
    "    else:\n",
    "        raise Exception(f\"invalid source_or_target_dataset: {source_or_target_dataset}\")\n",
    "    "
   ]
  },
  {
   "cell_type": "code",
   "execution_count": 13,
   "id": "fe266617",
   "metadata": {
    "execution": {
     "iopub.execute_input": "2022-03-21T03:59:15.289176Z",
     "iopub.status.busy": "2022-03-21T03:59:15.288793Z",
     "iopub.status.idle": "2022-03-21T03:59:59.175331Z",
     "shell.execute_reply": "2022-03-21T03:59:59.174575Z"
    },
    "papermill": {
     "duration": 43.911072,
     "end_time": "2022-03-21T03:59:59.175524",
     "exception": false,
     "start_time": "2022-03-21T03:59:15.264452",
     "status": "completed"
    },
    "tags": []
   },
   "outputs": [],
   "source": [
    "for ds in p.datasets:\n",
    "    add_dataset(**ds)"
   ]
  },
  {
   "cell_type": "code",
   "execution_count": 14,
   "id": "b90d65ac",
   "metadata": {
    "execution": {
     "iopub.execute_input": "2022-03-21T03:59:59.271550Z",
     "iopub.status.busy": "2022-03-21T03:59:59.271081Z",
     "iopub.status.idle": "2022-03-21T03:59:59.293804Z",
     "shell.execute_reply": "2022-03-21T03:59:59.293074Z"
    },
    "papermill": {
     "duration": 0.047249,
     "end_time": "2022-03-21T03:59:59.293969",
     "exception": false,
     "start_time": "2022-03-21T03:59:59.246720",
     "status": "completed"
    },
    "tags": []
   },
   "outputs": [],
   "source": [
    "# from steves_utils.CORES.utils import (\n",
    "#     ALL_NODES,\n",
    "#     ALL_NODES_MINIMUM_1000_EXAMPLES,\n",
    "#     ALL_DAYS\n",
    "# )\n",
    "\n",
    "# add_dataset(\n",
    "#     labels=ALL_NODES,\n",
    "#     domains = ALL_DAYS,\n",
    "#     num_examples_per_domain_per_label=100,\n",
    "#     pickle_path=os.path.join(get_datasets_base_path(), \"cores.stratified_ds.2022A.pkl\"),\n",
    "#     source_or_target_dataset=\"target\",\n",
    "#     x_transform_func=global_x_transform_func,\n",
    "#     domain_modifier=lambda u: f\"cores_{u}\"\n",
    "# )"
   ]
  },
  {
   "cell_type": "code",
   "execution_count": 15,
   "id": "76db484d",
   "metadata": {
    "execution": {
     "iopub.execute_input": "2022-03-21T03:59:59.345637Z",
     "iopub.status.busy": "2022-03-21T03:59:59.345199Z",
     "iopub.status.idle": "2022-03-21T03:59:59.361767Z",
     "shell.execute_reply": "2022-03-21T03:59:59.362437Z"
    },
    "papermill": {
     "duration": 0.041309,
     "end_time": "2022-03-21T03:59:59.362624",
     "exception": false,
     "start_time": "2022-03-21T03:59:59.321315",
     "status": "completed"
    },
    "tags": []
   },
   "outputs": [],
   "source": [
    "# from steves_utils.ORACLE.utils_v2 import (\n",
    "#     ALL_DISTANCES_FEET,\n",
    "#     ALL_RUNS,\n",
    "#     ALL_SERIAL_NUMBERS,\n",
    "# )\n",
    "\n",
    "\n",
    "# add_dataset(\n",
    "#     labels=ALL_SERIAL_NUMBERS,\n",
    "#     domains = list(set(ALL_DISTANCES_FEET) - {2,62}),\n",
    "#     num_examples_per_domain_per_label=100,\n",
    "#     pickle_path=os.path.join(get_datasets_base_path(), \"oracle.Run2_framed_2000Examples_stratified_ds.2022A.pkl\"),\n",
    "#     source_or_target_dataset=\"source\",\n",
    "#     x_transform_func=global_x_transform_func,\n",
    "#     domain_modifier=lambda u: f\"oracle1_{u}\"\n",
    "# )\n"
   ]
  },
  {
   "cell_type": "code",
   "execution_count": 16,
   "id": "97dea9d2",
   "metadata": {
    "execution": {
     "iopub.execute_input": "2022-03-21T03:59:59.416123Z",
     "iopub.status.busy": "2022-03-21T03:59:59.415007Z",
     "iopub.status.idle": "2022-03-21T03:59:59.435743Z",
     "shell.execute_reply": "2022-03-21T03:59:59.434903Z"
    },
    "papermill": {
     "duration": 0.044378,
     "end_time": "2022-03-21T03:59:59.435904",
     "exception": false,
     "start_time": "2022-03-21T03:59:59.391526",
     "status": "completed"
    },
    "tags": []
   },
   "outputs": [],
   "source": [
    "# from steves_utils.ORACLE.utils_v2 import (\n",
    "#     ALL_DISTANCES_FEET,\n",
    "#     ALL_RUNS,\n",
    "#     ALL_SERIAL_NUMBERS,\n",
    "# )\n",
    "\n",
    "\n",
    "# add_dataset(\n",
    "#     labels=ALL_SERIAL_NUMBERS,\n",
    "#     domains = list(set(ALL_DISTANCES_FEET) - {2,62,56}),\n",
    "#     num_examples_per_domain_per_label=100,\n",
    "#     pickle_path=os.path.join(get_datasets_base_path(), \"oracle.Run2_framed_2000Examples_stratified_ds.2022A.pkl\"),\n",
    "#     source_or_target_dataset=\"source\",\n",
    "#     x_transform_func=global_x_transform_func,\n",
    "#     domain_modifier=lambda u: f\"oracle2_{u}\"\n",
    "# )"
   ]
  },
  {
   "cell_type": "code",
   "execution_count": 17,
   "id": "6f289866",
   "metadata": {
    "execution": {
     "iopub.execute_input": "2022-03-21T03:59:59.488441Z",
     "iopub.status.busy": "2022-03-21T03:59:59.487952Z",
     "iopub.status.idle": "2022-03-21T03:59:59.509638Z",
     "shell.execute_reply": "2022-03-21T03:59:59.508931Z"
    },
    "papermill": {
     "duration": 0.045048,
     "end_time": "2022-03-21T03:59:59.509795",
     "exception": false,
     "start_time": "2022-03-21T03:59:59.464747",
     "status": "completed"
    },
    "tags": []
   },
   "outputs": [],
   "source": [
    "# add_dataset(\n",
    "#     labels=list(range(19)),\n",
    "#     domains = [0,1,2],\n",
    "#     num_examples_per_domain_per_label=100,\n",
    "#     pickle_path=os.path.join(get_datasets_base_path(), \"metehan.stratified_ds.2022A.pkl\"),\n",
    "#     source_or_target_dataset=\"target\",\n",
    "#     x_transform_func=global_x_transform_func,\n",
    "#     domain_modifier=lambda u: f\"met_{u}\"\n",
    "# )"
   ]
  },
  {
   "cell_type": "code",
   "execution_count": 18,
   "id": "86a863c3",
   "metadata": {
    "execution": {
     "iopub.execute_input": "2022-03-21T03:59:59.564679Z",
     "iopub.status.busy": "2022-03-21T03:59:59.563835Z",
     "iopub.status.idle": "2022-03-21T03:59:59.585855Z",
     "shell.execute_reply": "2022-03-21T03:59:59.585035Z"
    },
    "papermill": {
     "duration": 0.046975,
     "end_time": "2022-03-21T03:59:59.586016",
     "exception": false,
     "start_time": "2022-03-21T03:59:59.539041",
     "status": "completed"
    },
    "tags": []
   },
   "outputs": [],
   "source": [
    "# # from steves_utils.wisig.utils import (\n",
    "# #     ALL_NODES_MINIMUM_100_EXAMPLES,\n",
    "# #     ALL_NODES_MINIMUM_500_EXAMPLES,\n",
    "# #     ALL_NODES_MINIMUM_1000_EXAMPLES,\n",
    "# #     ALL_DAYS\n",
    "# # )\n",
    "\n",
    "# import steves_utils.wisig.utils as wisig\n",
    "\n",
    "\n",
    "# add_dataset(\n",
    "#     labels=wisig.ALL_NODES_MINIMUM_100_EXAMPLES,\n",
    "#     domains = wisig.ALL_DAYS,\n",
    "#     num_examples_per_domain_per_label=100,\n",
    "#     pickle_path=os.path.join(get_datasets_base_path(), \"wisig.node3-19.stratified_ds.2022A.pkl\"),\n",
    "#     source_or_target_dataset=\"target\",\n",
    "#     x_transform_func=global_x_transform_func,\n",
    "#     domain_modifier=lambda u: f\"wisig_{u}\"\n",
    "# )"
   ]
  },
  {
   "cell_type": "code",
   "execution_count": 19,
   "id": "fd5442bc",
   "metadata": {
    "execution": {
     "iopub.execute_input": "2022-03-21T03:59:59.645865Z",
     "iopub.status.busy": "2022-03-21T03:59:59.644915Z",
     "iopub.status.idle": "2022-03-21T03:59:59.663793Z",
     "shell.execute_reply": "2022-03-21T03:59:59.662938Z"
    },
    "papermill": {
     "duration": 0.050096,
     "end_time": "2022-03-21T03:59:59.663954",
     "exception": false,
     "start_time": "2022-03-21T03:59:59.613858",
     "status": "completed"
    },
    "tags": []
   },
   "outputs": [],
   "source": [
    "###################################\n",
    "# Build the dataset\n",
    "###################################\n",
    "train_original_source = Iterable_Aggregator(train_original_source, p.seed)\n",
    "val_original_source = Iterable_Aggregator(val_original_source, p.seed)\n",
    "test_original_source = Iterable_Aggregator(test_original_source, p.seed)\n",
    "\n",
    "\n",
    "train_original_target = Iterable_Aggregator(train_original_target, p.seed)\n",
    "val_original_target = Iterable_Aggregator(val_original_target, p.seed)\n",
    "test_original_target = Iterable_Aggregator(test_original_target, p.seed)\n",
    "\n",
    "# For CNN We only use X and Y. And we only train on the source.\n",
    "# Properly form the data using a transform lambda and Lazy_Iterable_Wrapper. Finally wrap them in a dataloader\n",
    "\n",
    "transform_lambda = lambda ex: ex[1] # Original is (<domain>, <episode>) so we strip down to episode only\n",
    "\n",
    "train_processed_source = Lazy_Iterable_Wrapper(train_original_source, transform_lambda)\n",
    "val_processed_source   = Lazy_Iterable_Wrapper(val_original_source, transform_lambda)\n",
    "test_processed_source  = Lazy_Iterable_Wrapper(test_original_source, transform_lambda)\n",
    "\n",
    "train_processed_target = Lazy_Iterable_Wrapper(train_original_target, transform_lambda)\n",
    "val_processed_target   = Lazy_Iterable_Wrapper(val_original_target, transform_lambda)\n",
    "test_processed_target  = Lazy_Iterable_Wrapper(test_original_target, transform_lambda)\n",
    "\n",
    "datasets = EasyDict({\n",
    "    \"source\": {\n",
    "        \"original\": {\"train\":train_original_source, \"val\":val_original_source, \"test\":test_original_source},\n",
    "        \"processed\": {\"train\":train_processed_source, \"val\":val_processed_source, \"test\":test_processed_source}\n",
    "    },\n",
    "    \"target\": {\n",
    "        \"original\": {\"train\":train_original_target, \"val\":val_original_target, \"test\":test_original_target},\n",
    "        \"processed\": {\"train\":train_processed_target, \"val\":val_processed_target, \"test\":test_processed_target}\n",
    "    },\n",
    "})"
   ]
  },
  {
   "cell_type": "code",
   "execution_count": 20,
   "id": "5b3c01fc",
   "metadata": {
    "execution": {
     "iopub.execute_input": "2022-03-21T03:59:59.719194Z",
     "iopub.status.busy": "2022-03-21T03:59:59.718508Z",
     "iopub.status.idle": "2022-03-21T04:00:08.270893Z",
     "shell.execute_reply": "2022-03-21T04:00:08.271725Z"
    },
    "papermill": {
     "duration": 8.578926,
     "end_time": "2022-03-21T04:00:08.271963",
     "exception": false,
     "start_time": "2022-03-21T03:59:59.693037",
     "status": "completed"
    },
    "tags": []
   },
   "outputs": [
    {
     "name": "stdout",
     "output_type": "stream",
     "text": [
      "{'CORES_5', 'CORES_4', 'CORES_3', 'CORES_2', 'CORES_1'}\n"
     ]
    },
    {
     "name": "stdout",
     "output_type": "stream",
     "text": [
      "{'Wisig_1', 'Wisig_4', 'Wisig_2', 'Wisig_3'}\n"
     ]
    },
    {
     "name": "stdout",
     "output_type": "stream",
     "text": [
      "tensor([[[ 0.4155, -0.0527, -1.0503,  ...,  0.7599,  1.0892, -0.0415],\n",
      "         [ 0.1508,  0.6223,  0.7764,  ...,  0.3424,  0.3378,  0.3694]],\n",
      "\n",
      "        [[ 0.4930,  0.9321,  0.3458,  ...,  0.2748,  0.2419,  0.6153],\n",
      "         [-0.2518,  0.7435,  1.0031,  ..., -1.2082, -0.3799,  0.5403]],\n",
      "\n",
      "        [[ 0.4534,  0.1880, -0.6830,  ...,  0.9226,  1.0590,  0.0404],\n",
      "         [ 0.0232,  0.6824,  1.1139,  ..., -0.0682, -0.1701,  0.4051]],\n",
      "\n",
      "        ...,\n",
      "\n",
      "        [[-0.1680, -0.1365,  0.7814,  ...,  0.8514,  0.6178, -0.1006],\n",
      "         [ 0.0578, -0.3185,  0.0149,  ...,  0.3614, -0.8112, -0.5093]],\n",
      "\n",
      "        [[ 0.1424,  0.2643, -0.6897,  ..., -0.8048,  0.3436,  0.2165],\n",
      "         [-0.1364,  0.2106,  0.5252,  ...,  0.5047,  0.9881,  0.0494]],\n",
      "\n",
      "        [[-0.1163, -0.2877,  0.5850,  ...,  0.8666,  0.6174, -0.2107],\n",
      "         [ 0.0866, -0.2571, -0.2527,  ...,  0.2134, -0.7555, -0.7617]]])\n"
     ]
    }
   ],
   "source": [
    "from steves_utils.transforms import get_average_magnitude, get_average_power\n",
    "\n",
    "print(set([u for u,_ in val_original_source]))\n",
    "print(set([u for u,_ in val_original_target]))\n",
    "\n",
    "s_x, s_y, q_x, q_y, _ = next(iter(train_processed_source))\n",
    "print(s_x)\n",
    "\n",
    "# for ds in [\n",
    "#     train_processed_source,\n",
    "#     val_processed_source,\n",
    "#     test_processed_source,\n",
    "#     train_processed_target,\n",
    "#     val_processed_target,\n",
    "#     test_processed_target\n",
    "# ]:\n",
    "#     for s_x, s_y, q_x, q_y, _ in ds:\n",
    "#         for X in (s_x, q_x):\n",
    "#             for x in X:\n",
    "#                 assert np.isclose(get_average_magnitude(x.numpy()), 1.0)\n",
    "#                 assert np.isclose(get_average_power(x.numpy()), 1.0)\n",
    "                "
   ]
  },
  {
   "cell_type": "code",
   "execution_count": 21,
   "id": "bbdacba1",
   "metadata": {
    "execution": {
     "iopub.execute_input": "2022-03-21T04:00:08.326407Z",
     "iopub.status.busy": "2022-03-21T04:00:08.326021Z",
     "iopub.status.idle": "2022-03-21T04:00:08.567042Z",
     "shell.execute_reply": "2022-03-21T04:00:08.566651Z"
    },
    "papermill": {
     "duration": 0.269087,
     "end_time": "2022-03-21T04:00:08.567156",
     "exception": false,
     "start_time": "2022-03-21T04:00:08.298069",
     "status": "completed"
    },
    "tags": []
   },
   "outputs": [
    {
     "name": "stdout",
     "output_type": "stream",
     "text": [
      "(2, 256)\n"
     ]
    }
   ],
   "source": [
    "###################################\n",
    "# Build the model\n",
    "###################################\n",
    "# easfsl only wants a tuple for the shape\n",
    "model = Steves_Prototypical_Network(x_net, device=p.device, x_shape=tuple(p.x_shape))\n",
    "optimizer = Adam(params=model.parameters(), lr=p.lr)"
   ]
  },
  {
   "cell_type": "code",
   "execution_count": 22,
   "id": "22b39ac5",
   "metadata": {
    "execution": {
     "iopub.execute_input": "2022-03-21T04:00:08.620641Z",
     "iopub.status.busy": "2022-03-21T04:00:08.620258Z",
     "iopub.status.idle": "2022-03-21T04:02:24.363439Z",
     "shell.execute_reply": "2022-03-21T04:02:24.362718Z"
    },
    "papermill": {
     "duration": 135.772959,
     "end_time": "2022-03-21T04:02:24.363742",
     "exception": false,
     "start_time": "2022-03-21T04:00:08.590783",
     "status": "completed"
    },
    "tags": []
   },
   "outputs": [
    {
     "name": "stdout",
     "output_type": "stream",
     "text": [
      "epoch: 1, [batch: 1 / 351], examples_per_second: 330.0688, train_label_loss: 3.8330, \n"
     ]
    },
    {
     "name": "stdout",
     "output_type": "stream",
     "text": [
      "epoch: 1, [batch: 36 / 351], examples_per_second: 3363.1861, train_label_loss: 0.8491, \n"
     ]
    },
    {
     "name": "stdout",
     "output_type": "stream",
     "text": [
      "epoch: 1, [batch: 71 / 351], examples_per_second: 3372.2140, train_label_loss: 0.2823, \n"
     ]
    },
    {
     "name": "stdout",
     "output_type": "stream",
     "text": [
      "epoch: 1, [batch: 106 / 351], examples_per_second: 4301.3565, train_label_loss: 0.1614, \n"
     ]
    },
    {
     "name": "stdout",
     "output_type": "stream",
     "text": [
      "epoch: 1, [batch: 141 / 351], examples_per_second: 4259.5110, train_label_loss: 0.0677, \n"
     ]
    },
    {
     "name": "stdout",
     "output_type": "stream",
     "text": [
      "epoch: 1, [batch: 176 / 351], examples_per_second: 3262.3552, train_label_loss: 0.0521, \n"
     ]
    },
    {
     "name": "stdout",
     "output_type": "stream",
     "text": [
      "epoch: 1, [batch: 211 / 351], examples_per_second: 3097.9722, train_label_loss: 0.0265, \n"
     ]
    },
    {
     "name": "stdout",
     "output_type": "stream",
     "text": [
      "epoch: 1, [batch: 246 / 351], examples_per_second: 2907.4540, train_label_loss: 0.0193, \n"
     ]
    },
    {
     "name": "stdout",
     "output_type": "stream",
     "text": [
      "epoch: 1, [batch: 281 / 351], examples_per_second: 3097.4953, train_label_loss: 0.0239, \n"
     ]
    },
    {
     "name": "stdout",
     "output_type": "stream",
     "text": [
      "epoch: 1, [batch: 316 / 351], examples_per_second: 3037.6182, train_label_loss: 0.0379, \n"
     ]
    },
    {
     "name": "stdout",
     "output_type": "stream",
     "text": [
      "=============================================================\n",
      "epoch: 1, source_val_acc_label: 0.9977, target_val_acc_label: 0.7086, source_val_label_loss: 0.0180, target_val_label_loss: 1.7874, \n",
      "=============================================================\n"
     ]
    },
    {
     "name": "stdout",
     "output_type": "stream",
     "text": [
      "New best\n"
     ]
    },
    {
     "name": "stdout",
     "output_type": "stream",
     "text": [
      "epoch: 2, [batch: 1 / 351], examples_per_second: 30.1962, train_label_loss: 0.0194, \n"
     ]
    },
    {
     "name": "stdout",
     "output_type": "stream",
     "text": [
      "epoch: 2, [batch: 36 / 351], examples_per_second: 3111.2793, train_label_loss: 0.0091, \n"
     ]
    },
    {
     "name": "stdout",
     "output_type": "stream",
     "text": [
      "epoch: 2, [batch: 71 / 351], examples_per_second: 3064.6629, train_label_loss: 0.0035, \n"
     ]
    },
    {
     "name": "stdout",
     "output_type": "stream",
     "text": [
      "epoch: 2, [batch: 106 / 351], examples_per_second: 3056.5665, train_label_loss: 0.0038, \n"
     ]
    },
    {
     "name": "stdout",
     "output_type": "stream",
     "text": [
      "epoch: 2, [batch: 141 / 351], examples_per_second: 2879.4487, train_label_loss: 0.0058, \n"
     ]
    },
    {
     "name": "stdout",
     "output_type": "stream",
     "text": [
      "epoch: 2, [batch: 176 / 351], examples_per_second: 3093.8715, train_label_loss: 0.0059, \n"
     ]
    },
    {
     "name": "stdout",
     "output_type": "stream",
     "text": [
      "epoch: 2, [batch: 211 / 351], examples_per_second: 3055.3848, train_label_loss: 0.0027, \n"
     ]
    },
    {
     "name": "stdout",
     "output_type": "stream",
     "text": [
      "epoch: 2, [batch: 246 / 351], examples_per_second: 2993.6656, train_label_loss: 0.0058, \n"
     ]
    },
    {
     "name": "stdout",
     "output_type": "stream",
     "text": [
      "epoch: 2, [batch: 281 / 351], examples_per_second: 3025.7589, train_label_loss: 0.0028, \n"
     ]
    },
    {
     "name": "stdout",
     "output_type": "stream",
     "text": [
      "epoch: 2, [batch: 316 / 351], examples_per_second: 3154.9404, train_label_loss: 0.0014, \n"
     ]
    },
    {
     "name": "stdout",
     "output_type": "stream",
     "text": [
      "=============================================================\n",
      "epoch: 2, source_val_acc_label: 0.9971, target_val_acc_label: 0.6839, source_val_label_loss: 0.0105, target_val_label_loss: 2.8713, \n",
      "=============================================================\n"
     ]
    },
    {
     "name": "stdout",
     "output_type": "stream",
     "text": [
      "epoch: 3, [batch: 1 / 351], examples_per_second: 29.8352, train_label_loss: 0.0070, \n"
     ]
    },
    {
     "name": "stdout",
     "output_type": "stream",
     "text": [
      "epoch: 3, [batch: 36 / 351], examples_per_second: 3497.2069, train_label_loss: 0.0794, \n"
     ]
    },
    {
     "name": "stdout",
     "output_type": "stream",
     "text": [
      "epoch: 3, [batch: 71 / 351], examples_per_second: 3411.4378, train_label_loss: 0.0047, \n"
     ]
    },
    {
     "name": "stdout",
     "output_type": "stream",
     "text": [
      "epoch: 3, [batch: 106 / 351], examples_per_second: 3444.5285, train_label_loss: 0.0235, \n"
     ]
    },
    {
     "name": "stdout",
     "output_type": "stream",
     "text": [
      "epoch: 3, [batch: 141 / 351], examples_per_second: 3404.4466, train_label_loss: 0.0019, \n"
     ]
    },
    {
     "name": "stdout",
     "output_type": "stream",
     "text": [
      "epoch: 3, [batch: 176 / 351], examples_per_second: 3665.0435, train_label_loss: 0.0238, \n"
     ]
    },
    {
     "name": "stdout",
     "output_type": "stream",
     "text": [
      "epoch: 3, [batch: 211 / 351], examples_per_second: 3808.2802, train_label_loss: 0.0058, \n"
     ]
    },
    {
     "name": "stdout",
     "output_type": "stream",
     "text": [
      "epoch: 3, [batch: 246 / 351], examples_per_second: 3762.3965, train_label_loss: 0.0169, \n"
     ]
    },
    {
     "name": "stdout",
     "output_type": "stream",
     "text": [
      "epoch: 3, [batch: 281 / 351], examples_per_second: 3994.8249, train_label_loss: 0.0316, \n"
     ]
    },
    {
     "name": "stdout",
     "output_type": "stream",
     "text": [
      "epoch: 3, [batch: 316 / 351], examples_per_second: 4348.6667, train_label_loss: 0.0032, \n"
     ]
    },
    {
     "name": "stdout",
     "output_type": "stream",
     "text": [
      "=============================================================\n",
      "epoch: 3, source_val_acc_label: 0.9971, target_val_acc_label: 0.6892, source_val_label_loss: 0.0110, target_val_label_loss: 3.5632, \n",
      "=============================================================\n"
     ]
    }
   ],
   "source": [
    "###################################\n",
    "# train\n",
    "###################################\n",
    "jig = PTN_Train_Eval_Test_Jig(model, p.BEST_MODEL_PATH, p.device)\n",
    "\n",
    "jig.train(\n",
    "    train_iterable=datasets.source.processed.train,\n",
    "    source_val_iterable=datasets.source.processed.val,\n",
    "    target_val_iterable=datasets.target.processed.val,\n",
    "    num_epochs=p.n_epoch,\n",
    "    num_logs_per_epoch=p.NUM_LOGS_PER_EPOCH,\n",
    "    patience=p.patience,\n",
    "    optimizer=optimizer,\n",
    "    criteria_for_best=p.criteria_for_best,\n",
    ")"
   ]
  },
  {
   "cell_type": "code",
   "execution_count": 23,
   "id": "31e8fabf",
   "metadata": {
    "execution": {
     "iopub.execute_input": "2022-03-21T04:02:24.439969Z",
     "iopub.status.busy": "2022-03-21T04:02:24.439586Z",
     "iopub.status.idle": "2022-03-21T04:02:24.472050Z",
     "shell.execute_reply": "2022-03-21T04:02:24.471316Z"
    },
    "papermill": {
     "duration": 0.069024,
     "end_time": "2022-03-21T04:02:24.472221",
     "exception": false,
     "start_time": "2022-03-21T04:02:24.403197",
     "status": "completed"
    },
    "tags": []
   },
   "outputs": [],
   "source": [
    "total_experiment_time_secs = time.time() - start_time_secs"
   ]
  },
  {
   "cell_type": "code",
   "execution_count": 24,
   "id": "87b9595b",
   "metadata": {
    "execution": {
     "iopub.execute_input": "2022-03-21T04:02:24.547154Z",
     "iopub.status.busy": "2022-03-21T04:02:24.546474Z",
     "iopub.status.idle": "2022-03-21T04:03:27.096825Z",
     "shell.execute_reply": "2022-03-21T04:03:27.097632Z"
    },
    "papermill": {
     "duration": 62.589407,
     "end_time": "2022-03-21T04:03:27.097881",
     "exception": false,
     "start_time": "2022-03-21T04:02:24.508474",
     "status": "completed"
    },
    "tags": []
   },
   "outputs": [],
   "source": [
    "###################################\n",
    "# Evaluate the model\n",
    "###################################\n",
    "source_test_label_accuracy, source_test_label_loss = jig.test(datasets.source.processed.test)\n",
    "target_test_label_accuracy, target_test_label_loss = jig.test(datasets.target.processed.test)\n",
    "\n",
    "source_val_label_accuracy, source_val_label_loss = jig.test(datasets.source.processed.val)\n",
    "target_val_label_accuracy, target_val_label_loss = jig.test(datasets.target.processed.val)\n",
    "\n",
    "history = jig.get_history()\n",
    "\n",
    "total_epochs_trained = len(history[\"epoch_indices\"])\n",
    "\n",
    "val_dl = Iterable_Aggregator((datasets.source.original.val,datasets.target.original.val))\n",
    "\n",
    "confusion = ptn_confusion_by_domain_over_dataloader(model, p.device, val_dl)\n",
    "per_domain_accuracy = per_domain_accuracy_from_confusion(confusion)\n",
    "\n",
    "# Add a key to per_domain_accuracy for if it was a source domain\n",
    "for domain, accuracy in per_domain_accuracy.items():\n",
    "    per_domain_accuracy[domain] = {\n",
    "        \"accuracy\": accuracy,\n",
    "        \"source?\": domain in p.domains_source\n",
    "    }\n",
    "\n",
    "# Do an independent accuracy assesment JUST TO BE SURE!\n",
    "# _source_test_label_accuracy = independent_accuracy_assesment(model, datasets.source.processed.test, p.device)\n",
    "# _target_test_label_accuracy = independent_accuracy_assesment(model, datasets.target.processed.test, p.device)\n",
    "# _source_val_label_accuracy = independent_accuracy_assesment(model, datasets.source.processed.val, p.device)\n",
    "# _target_val_label_accuracy = independent_accuracy_assesment(model, datasets.target.processed.val, p.device)\n",
    "\n",
    "# assert(_source_test_label_accuracy == source_test_label_accuracy)\n",
    "# assert(_target_test_label_accuracy == target_test_label_accuracy)\n",
    "# assert(_source_val_label_accuracy == source_val_label_accuracy)\n",
    "# assert(_target_val_label_accuracy == target_val_label_accuracy)\n",
    "\n",
    "experiment = {\n",
    "    \"experiment_name\": p.experiment_name,\n",
    "    \"parameters\": dict(p),\n",
    "    \"results\": {\n",
    "        \"source_test_label_accuracy\": source_test_label_accuracy,\n",
    "        \"source_test_label_loss\": source_test_label_loss,\n",
    "        \"target_test_label_accuracy\": target_test_label_accuracy,\n",
    "        \"target_test_label_loss\": target_test_label_loss,\n",
    "        \"source_val_label_accuracy\": source_val_label_accuracy,\n",
    "        \"source_val_label_loss\": source_val_label_loss,\n",
    "        \"target_val_label_accuracy\": target_val_label_accuracy,\n",
    "        \"target_val_label_loss\": target_val_label_loss,\n",
    "        \"total_epochs_trained\": total_epochs_trained,\n",
    "        \"total_experiment_time_secs\": total_experiment_time_secs,\n",
    "        \"confusion\": confusion,\n",
    "        \"per_domain_accuracy\": per_domain_accuracy,\n",
    "    },\n",
    "    \"history\": history,\n",
    "    \"dataset_metrics\": get_dataset_metrics(datasets, \"ptn\"),\n",
    "}"
   ]
  },
  {
   "cell_type": "code",
   "execution_count": 25,
   "id": "54a21829",
   "metadata": {
    "execution": {
     "iopub.execute_input": "2022-03-21T04:03:27.171727Z",
     "iopub.status.busy": "2022-03-21T04:03:27.171321Z",
     "iopub.status.idle": "2022-03-21T04:03:27.385397Z",
     "shell.execute_reply": "2022-03-21T04:03:27.386090Z"
    },
    "papermill": {
     "duration": 0.251694,
     "end_time": "2022-03-21T04:03:27.386325",
     "exception": false,
     "start_time": "2022-03-21T04:03:27.134631",
     "status": "completed"
    },
    "tags": []
   },
   "outputs": [
    {
     "data": {
      "image/png": "[encoded data removed]",
      "text/plain": [
       "<Figure size 1080x504 with 1 Axes>"
      ]
     },
     "metadata": {
      "needs_background": "light"
     },
     "output_type": "display_data"
    }
   ],
   "source": [
    "ax = get_loss_curve(experiment)\n",
    "plt.show()"
   ]
  },
  {
   "cell_type": "code",
   "execution_count": 26,
   "id": "fd8a0f60",
   "metadata": {
    "execution": {
     "iopub.execute_input": "2022-03-21T04:03:27.462040Z",
     "iopub.status.busy": "2022-03-21T04:03:27.461661Z",
     "iopub.status.idle": "2022-03-21T04:03:27.779022Z",
     "shell.execute_reply": "2022-03-21T04:03:27.779752Z"
    },
    "papermill": {
     "duration": 0.354829,
     "end_time": "2022-03-21T04:03:27.779994",
     "exception": false,
     "start_time": "2022-03-21T04:03:27.425165",
     "status": "completed"
    },
    "tags": []
   },
   "outputs": [
    {
     "data": {
      "text/plain": [
       "<AxesSubplot:title={'center':'Results'}>"
      ]
     },
     "execution_count": 26,
     "metadata": {},
     "output_type": "execute_result"
    },
    {
     "data": {
      "image/png": "[encoded data removed]",
      "text/plain": [
       "<Figure size 1080x504 with 1 Axes>"
      ]
     },
     "metadata": {
      "needs_background": "light"
     },
     "output_type": "display_data"
    }
   ],
   "source": [
    "get_results_table(experiment)"
   ]
  },
  {
   "cell_type": "code",
   "execution_count": 27,
   "id": "cf8dc689",
   "metadata": {
    "execution": {
     "iopub.execute_input": "2022-03-21T04:03:27.856413Z",
     "iopub.status.busy": "2022-03-21T04:03:27.856011Z",
     "iopub.status.idle": "2022-03-21T04:03:28.081386Z",
     "shell.execute_reply": "2022-03-21T04:03:28.082073Z"
    },
    "papermill": {
     "duration": 0.264943,
     "end_time": "2022-03-21T04:03:28.082310",
     "exception": false,
     "start_time": "2022-03-21T04:03:27.817367",
     "status": "completed"
    },
    "tags": []
   },
   "outputs": [
    {
     "data": {
      "text/plain": [
       "<AxesSubplot:title={'center':'Per Domain Validation Accuracy'}, xlabel='domain'>"
      ]
     },
     "execution_count": 27,
     "metadata": {},
     "output_type": "execute_result"
    },
    {
     "data": {
      "image/png": "[encoded data removed]",
      "text/plain": [
       "<Figure size 1080x504 with 1 Axes>"
      ]
     },
     "metadata": {
      "needs_background": "light"
     },
     "output_type": "display_data"
    }
   ],
   "source": [
    "get_domain_accuracies(experiment)"
   ]
  },
  {
   "cell_type": "code",
   "execution_count": 28,
   "id": "a74ae082",
   "metadata": {
    "execution": {
     "iopub.execute_input": "2022-03-21T04:03:28.166165Z",
     "iopub.status.busy": "2022-03-21T04:03:28.165774Z",
     "iopub.status.idle": "2022-03-21T04:03:28.192402Z",
     "shell.execute_reply": "2022-03-21T04:03:28.191527Z"
    },
    "papermill": {
     "duration": 0.066004,
     "end_time": "2022-03-21T04:03:28.192589",
     "exception": false,
     "start_time": "2022-03-21T04:03:28.126585",
     "status": "completed"
    },
    "tags": []
   },
   "outputs": [
    {
     "name": "stdout",
     "output_type": "stream",
     "text": [
      "Source Test Label Accuracy: 0.9968965517241379 Target Test Label Accuracy: 0.7089552238805971\n",
      "Source Val Label Accuracy: 0.9976652298850575 Target Val Label Accuracy: 0.7086476293103449\n"
     ]
    }
   ],
   "source": [
    "print(\"Source Test Label Accuracy:\", experiment[\"results\"][\"source_test_label_accuracy\"], \"Target Test Label Accuracy:\", experiment[\"results\"][\"target_test_label_accuracy\"])\n",
    "print(\"Source Val Label Accuracy:\", experiment[\"results\"][\"source_val_label_accuracy\"], \"Target Val Label Accuracy:\", experiment[\"results\"][\"target_val_label_accuracy\"])"
   ]
  },
  {
   "cell_type": "code",
   "execution_count": 29,
   "id": "dacca602",
   "metadata": {
    "execution": {
     "iopub.execute_input": "2022-03-21T04:03:28.275780Z",
     "iopub.status.busy": "2022-03-21T04:03:28.275346Z",
     "iopub.status.idle": "2022-03-21T04:03:28.299349Z",
     "shell.execute_reply": "2022-03-21T04:03:28.300067Z"
    },
    "papermill": {
     "duration": 0.065334,
     "end_time": "2022-03-21T04:03:28.300292",
     "exception": false,
     "start_time": "2022-03-21T04:03:28.234958",
     "status": "completed"
    },
    "tags": [
     "experiment_json"
    ]
   },
   "outputs": [
    {
     "data": {
      "text/plain": [
       "'{\"experiment_name\": \"tl_1v2:cores-wisig\", \"parameters\": {\"experiment_name\": \"tl_1v2:cores-wisig\", \"device\": \"cuda\", \"lr\": 0.0001, \"n_shot\": 3, \"n_query\": 2, \"train_k_factor\": 3, \"val_k_factor\": 2, \"test_k_factor\": 2, \"torch_default_dtype\": \"torch.float32\", \"n_epoch\": 3, \"patience\": 3, \"criteria_for_best\": \"target_accuracy\", \"x_net\": [{\"class\": \"nnReshape\", \"kargs\": {\"shape\": [-1, 1, 2, 256]}}, {\"class\": \"Conv2d\", \"kargs\": {\"in_channels\": 1, \"out_channels\": 256, \"kernel_size\": [1, 7], \"bias\": false, \"padding\": [0, 3]}}, {\"class\": \"ReLU\", \"kargs\": {\"inplace\": true}}, {\"class\": \"BatchNorm2d\", \"kargs\": {\"num_features\": 256}}, {\"class\": \"Conv2d\", \"kargs\": {\"in_channels\": 256, \"out_channels\": 80, \"kernel_size\": [2, 7], \"bias\": true, \"padding\": [0, 3]}}, {\"class\": \"ReLU\", \"kargs\": {\"inplace\": true}}, {\"class\": \"BatchNorm2d\", \"kargs\": {\"num_features\": 80}}, {\"class\": \"Flatten\", \"kargs\": {}}, {\"class\": \"Linear\", \"kargs\": {\"in_features\": 20480, \"out_features\": 256}}, {\"class\": \"ReLU\", \"kargs\": {\"inplace\": true}}, {\"class\": \"BatchNorm1d\", \"kargs\": {\"num_features\": 256}}, {\"class\": \"Linear\", \"kargs\": {\"in_features\": 256, \"out_features\": 256}}], \"NUM_LOGS_PER_EPOCH\": 10, \"BEST_MODEL_PATH\": \"./best_model.pth\", \"n_way\": 58, \"datasets\": [{\"labels\": [\"1-10.\", \"1-11.\", \"1-15.\", \"1-16.\", \"1-17.\", \"1-18.\", \"1-19.\", \"10-4.\", \"10-7.\", \"11-1.\", \"11-14.\", \"11-17.\", \"11-20.\", \"11-7.\", \"13-20.\", \"13-8.\", \"14-10.\", \"14-11.\", \"14-14.\", \"14-7.\", \"15-1.\", \"15-20.\", \"16-1.\", \"16-16.\", \"17-10.\", \"17-11.\", \"17-2.\", \"19-1.\", \"19-16.\", \"19-19.\", \"19-20.\", \"19-3.\", \"2-10.\", \"2-11.\", \"2-17.\", \"2-18.\", \"2-20.\", \"2-3.\", \"2-4.\", \"2-5.\", \"2-6.\", \"2-7.\", \"2-8.\", \"3-13.\", \"3-18.\", \"3-3.\", \"4-1.\", \"4-10.\", \"4-11.\", \"4-19.\", \"5-5.\", \"6-15.\", \"7-10.\", \"7-14.\", \"8-18.\", \"8-20.\", \"8-3.\", \"8-8.\"], \"domains\": [1, 2, 3, 4, 5], \"num_examples_per_domain_per_label\": -1, \"pickle_path\": \"/root/csc500-main/datasets/cores.stratified_ds.2022A.pkl\", \"source_or_target_dataset\": \"source\", \"x_transforms\": [\"unit_power\"], \"episode_transforms\": [], \"domain_prefix\": \"CORES_\"}, {\"labels\": [\"1-10\", \"1-12\", \"1-14\", \"1-16\", \"1-18\", \"1-19\", \"1-8\", \"10-11\", \"10-17\", \"10-4\", \"10-7\", \"11-1\", \"11-10\", \"11-19\", \"11-20\", \"11-4\", \"11-7\", \"12-19\", \"12-20\", \"12-7\", \"13-14\", \"13-18\", \"13-19\", \"13-20\", \"13-3\", \"13-7\", \"14-10\", \"14-11\", \"14-12\", \"14-13\", \"14-14\", \"14-19\", \"14-20\", \"14-7\", \"14-8\", \"14-9\", \"15-1\", \"15-19\", \"15-6\", \"16-1\", \"16-16\", \"16-19\", \"16-20\", \"17-10\", \"17-11\", \"18-1\", \"18-10\", \"18-11\", \"18-12\", \"18-13\", \"18-14\", \"18-15\", \"18-16\", \"18-17\", \"18-19\", \"18-2\", \"18-20\", \"18-4\", \"18-5\", \"18-7\", \"18-8\", \"18-9\", \"19-1\", \"19-10\", \"19-11\", \"19-12\", \"19-13\", \"19-14\", \"19-15\", \"19-19\", \"19-2\", \"19-20\", \"19-3\", \"19-4\", \"19-6\", \"19-7\", \"19-8\", \"19-9\", \"2-1\", \"2-13\", \"2-15\", \"2-3\", \"2-4\", \"2-5\", \"2-6\", \"2-7\", \"2-8\", \"20-1\", \"20-12\", \"20-14\", \"20-15\", \"20-16\", \"20-18\", \"20-19\", \"20-20\", \"20-3\", \"20-4\", \"20-5\", \"20-7\", \"20-8\", \"3-1\", \"3-13\", \"3-18\", \"3-2\", \"3-8\", \"4-1\", \"4-10\", \"4-11\", \"5-1\", \"5-5\", \"6-1\", \"6-15\", \"6-6\", \"7-10\", \"7-11\", \"7-12\", \"7-13\", \"7-14\", \"7-7\", \"7-8\", \"7-9\", \"8-1\", \"8-13\", \"8-14\", \"8-18\", \"8-20\", \"8-3\", \"8-8\", \"9-1\", \"9-7\"], \"domains\": [1, 2, 3, 4], \"num_examples_per_domain_per_label\": -1, \"pickle_path\": \"/root/csc500-main/datasets/wisig.node3-19.stratified_ds.2022A.pkl\", \"source_or_target_dataset\": \"target\", \"x_transforms\": [\"unit_power\"], \"episode_transforms\": [], \"domain_prefix\": \"Wisig_\"}], \"dataset_seed\": 500, \"seed\": 500, \"x_shape\": [2, 256], \"domains_source\": [\"CORES_1\", \"CORES_2\", \"CORES_3\", \"CORES_4\", \"CORES_5\"], \"domains_target\": [\"Wisig_1\", \"Wisig_2\", \"Wisig_3\", \"Wisig_4\"]}, \"results\": {\"source_test_label_accuracy\": 0.9968965517241379, \"source_test_label_loss\": 0.022705523297190666, \"target_test_label_accuracy\": 0.7089552238805971, \"target_test_label_loss\": 1.761176347732544, \"source_val_label_accuracy\": 0.9976652298850575, \"source_val_label_loss\": 0.01797144114971161, \"target_val_label_accuracy\": 0.7086476293103449, \"target_val_label_loss\": 1.787440538406372, \"total_epochs_trained\": 3, \"total_experiment_time_secs\": 189.46986484527588, \"confusion\": {\"CORES_4\": {\"42\": {\"42\": 16}, \"55\": {\"55\": 16}, \"35\": {\"35\": 16}, \"27\": {\"27\": 16}, \"8\": {\"8\": 16}, \"57\": {\"57\": 16}, \"49\": {\"49\": 16}, \"47\": {\"47\": 16}, \"16\": {\"16\": 16}, \"56\": {\"56\": 16}, \"31\": {\"31\": 16}, \"10\": {\"10\": 16}, \"26\": {\"26\": 16}, \"19\": {\"19\": 16}, \"52\": {\"52\": 16}, \"53\": {\"53\": 16}, \"37\": {\"37\": 16}, \"48\": {\"48\": 16}, \"1\": {\"1\": 16}, \"0\": {\"0\": 16}, \"13\": {\"13\": 16}, \"21\": {\"21\": 16}, \"18\": {\"18\": 15, \"23\": 1}, \"24\": {\"24\": 16}, \"6\": {\"6\": 16}, \"4\": {\"4\": 16}, \"30\": {\"30\": 16}, \"38\": {\"38\": 16}, \"34\": {\"34\": 16}, \"11\": {\"11\": 16}, \"12\": {\"12\": 16}, \"22\": {\"22\": 16}, \"3\": {\"3\": 16}, \"23\": {\"23\": 16}, \"9\": {\"9\": 16}, \"15\": {\"15\": 16}, \"50\": {\"50\": 16}, \"5\": {\"5\": 16}, \"33\": {\"33\": 16}, \"46\": {\"47\": 1, \"46\": 15}, \"20\": {\"20\": 16}, \"45\": {\"45\": 16}, \"2\": {\"2\": 16}, \"7\": {\"7\": 16}, \"39\": {\"39\": 16}, \"40\": {\"40\": 16}, \"44\": {\"44\": 16}, \"41\": {\"41\": 16}, \"29\": {\"29\": 16}, \"54\": {\"54\": 16}, \"32\": {\"32\": 16}, \"25\": {\"25\": 16}, \"43\": {\"43\": 16}, \"28\": {\"28\": 16}, \"51\": {\"51\": 16}, \"14\": {\"14\": 16}, \"36\": {\"36\": 16}, \"17\": {\"17\": 16}}, \"CORES_5\": {\"25\": {\"25\": 20}, \"14\": {\"14\": 20}, \"30\": {\"30\": 20}, \"50\": {\"50\": 20}, \"31\": {\"31\": 20}, \"15\": {\"15\": 20}, \"38\": {\"38\": 20}, \"43\": {\"43\": 20}, \"19\": {\"19\": 20}, \"26\": {\"26\": 20}, \"48\": {\"48\": 20}, \"12\": {\"12\": 20}, \"18\": {\"18\": 20}, \"8\": {\"8\": 20}, \"5\": {\"5\": 20}, \"24\": {\"24\": 20}, \"16\": {\"16\": 20}, \"10\": {\"10\": 20}, \"2\": {\"2\": 20}, \"27\": {\"27\": 20}, \"35\": {\"35\": 20}, \"17\": {\"17\": 20}, \"37\": {\"37\": 20}, \"41\": {\"41\": 20}, \"45\": {\"45\": 19, \"9\": 1}, \"54\": {\"54\": 20}, \"34\": {\"34\": 20}, \"56\": {\"56\": 20}, \"52\": {\"52\": 20}, \"39\": {\"39\": 20}, \"57\": {\"57\": 20}, \"0\": {\"0\": 20}, \"20\": {\"20\": 20}, \"46\": {\"46\": 20}, \"28\": {\"28\": 20}, \"23\": {\"23\": 20}, \"53\": {\"53\": 20}, \"7\": {\"7\": 20}, \"3\": {\"3\": 20}, \"22\": {\"22\": 20}, \"44\": {\"44\": 20}, \"42\": {\"42\": 20}, \"9\": {\"9\": 20}, \"1\": {\"1\": 19, \"9\": 1}, \"13\": {\"13\": 20}, \"49\": {\"49\": 20}, \"11\": {\"11\": 20}, \"47\": {\"47\": 19, \"3\": 1}, \"21\": {\"21\": 20}, \"29\": {\"29\": 20}, \"51\": {\"51\": 20}, \"36\": {\"36\": 20}, \"6\": {\"6\": 19, \"9\": 1}, \"33\": {\"33\": 20}, \"4\": {\"4\": 20}, \"32\": {\"32\": 20}, \"55\": {\"55\": 20}, \"40\": {\"40\": 20}}, \"CORES_2\": {\"19\": {\"19\": 20}, \"6\": {\"6\": 20}, \"45\": {\"45\": 20}, \"49\": {\"49\": 20}, \"23\": {\"23\": 20}, \"28\": {\"28\": 20}, \"54\": {\"54\": 20}, \"36\": {\"36\": 20}, \"0\": {\"0\": 20}, \"56\": {\"56\": 20}, \"20\": {\"20\": 20}, \"8\": {\"8\": 20}, \"11\": {\"11\": 20}, \"39\": {\"39\": 20}, \"42\": {\"42\": 20}, \"24\": {\"24\": 20}, \"44\": {\"44\": 20}, \"29\": {\"29\": 20}, \"13\": {\"13\": 20}, \"35\": {\"35\": 20}, \"50\": {\"50\": 20}, \"40\": {\"40\": 20}, \"21\": {\"21\": 20}, \"34\": {\"34\": 20}, \"52\": {\"52\": 20}, \"2\": {\"2\": 20}, \"57\": {\"57\": 20}, \"4\": {\"4\": 20}, \"37\": {\"37\": 20}, \"26\": {\"26\": 20}, \"33\": {\"33\": 20}, \"18\": {\"18\": 20}, \"10\": {\"10\": 20}, \"31\": {\"31\": 20}, \"22\": {\"22\": 20}, \"41\": {\"41\": 20}, \"27\": {\"27\": 20}, \"1\": {\"1\": 20}, \"55\": {\"55\": 20}, \"15\": {\"15\": 20}, \"38\": {\"38\": 20}, \"12\": {\"12\": 20}, \"51\": {\"51\": 20}, \"32\": {\"32\": 20}, \"3\": {\"3\": 20}, \"5\": {\"5\": 20}, \"14\": {\"14\": 20}, \"43\": {\"43\": 20}, \"30\": {\"30\": 20}, \"16\": {\"16\": 20}, \"47\": {\"47\": 19, \"7\": 1}, \"7\": {\"7\": 20}, \"9\": {\"9\": 20}, \"46\": {\"46\": 20}, \"48\": {\"48\": 20}, \"25\": {\"25\": 20}, \"53\": {\"53\": 20}, \"17\": {\"17\": 20}}, \"CORES_1\": {\"24\": {\"24\": 24}, \"9\": {\"9\": 24}, \"0\": {\"0\": 24}, \"41\": {\"41\": 24}, \"17\": {\"17\": 24}, \"38\": {\"38\": 24}, \"3\": {\"3\": 24}, \"37\": {\"37\": 24}, \"46\": {\"46\": 24}, \"51\": {\"51\": 24}, \"40\": {\"40\": 24}, \"45\": {\"45\": 24}, \"53\": {\"53\": 24}, \"56\": {\"56\": 24}, \"36\": {\"36\": 24}, \"50\": {\"50\": 24}, \"42\": {\"42\": 24}, \"1\": {\"1\": 24}, \"34\": {\"34\": 24}, \"55\": {\"55\": 24}, \"7\": {\"7\": 24}, \"23\": {\"23\": 24}, \"2\": {\"2\": 24}, \"18\": {\"18\": 24}, \"15\": {\"15\": 24}, \"29\": {\"29\": 24}, \"30\": {\"30\": 24}, \"33\": {\"33\": 24}, \"32\": {\"32\": 24}, \"19\": {\"19\": 24}, \"16\": {\"16\": 24}, \"43\": {\"43\": 24}, \"5\": {\"5\": 24}, \"12\": {\"12\": 23, \"13\": 1}, \"44\": {\"44\": 24}, \"14\": {\"14\": 24}, \"8\": {\"8\": 24}, \"20\": {\"20\": 24}, \"31\": {\"31\": 24}, \"28\": {\"28\": 24}, \"11\": {\"11\": 24}, \"27\": {\"27\": 24}, \"48\": {\"48\": 24}, \"21\": {\"21\": 24}, \"26\": {\"26\": 24}, \"6\": {\"6\": 23, \"2\": 1}, \"4\": {\"4\": 24}, \"35\": {\"35\": 24}, \"10\": {\"10\": 24}, \"57\": {\"57\": 24}, \"47\": {\"47\": 24}, \"13\": {\"13\": 24}, \"54\": {\"54\": 24}, \"49\": {\"49\": 24}, \"25\": {\"25\": 24}, \"22\": {\"22\": 24}, \"39\": {\"39\": 24}, \"52\": {\"52\": 24}}, \"CORES_3\": {\"13\": {\"13\": 16}, \"45\": {\"45\": 16}, \"17\": {\"17\": 16}, \"11\": {\"11\": 16}, \"41\": {\"41\": 16}, \"24\": {\"24\": 16}, \"30\": {\"30\": 16}, \"43\": {\"43\": 16}, \"51\": {\"51\": 16}, \"2\": {\"2\": 16}, \"42\": {\"42\": 16}, \"40\": {\"40\": 16}, \"16\": {\"16\": 16}, \"54\": {\"54\": 15, \"32\": 1}, \"50\": {\"50\": 16}, \"48\": {\"48\": 16}, \"8\": {\"8\": 16}, \"21\": {\"21\": 13, \"50\": 3}, \"29\": {\"29\": 16}, \"14\": {\"14\": 16}, \"47\": {\"47\": 16}, \"32\": {\"32\": 16}, \"36\": {\"36\": 16}, \"9\": {\"9\": 16}, \"52\": {\"52\": 16}, \"0\": {\"0\": 16}, \"6\": {\"6\": 16}, \"12\": {\"12\": 16}, \"4\": {\"4\": 16}, \"49\": {\"49\": 16}, \"37\": {\"37\": 16}, \"18\": {\"18\": 16}, \"35\": {\"35\": 16}, \"38\": {\"38\": 16}, \"10\": {\"10\": 16}, \"25\": {\"25\": 16}, \"22\": {\"22\": 16}, \"1\": {\"1\": 16}, \"19\": {\"19\": 16}, \"33\": {\"33\": 16}, \"28\": {\"28\": 16}, \"23\": {\"23\": 16}, \"57\": {\"57\": 16}, \"34\": {\"34\": 16}, \"46\": {\"46\": 16}, \"44\": {\"44\": 16}, \"31\": {\"31\": 16}, \"27\": {\"27\": 16}, \"26\": {\"26\": 16}, \"15\": {\"15\": 16}, \"20\": {\"20\": 16}, \"3\": {\"3\": 16}, \"56\": {\"56\": 16}, \"7\": {\"7\": 16}, \"53\": {\"53\": 16}, \"5\": {\"5\": 16}, \"39\": {\"39\": 16}, \"55\": {\"55\": 16}}, \"Wisig_3\": {\"111\": {\"111\": 27, \"84\": 1, \"28\": 1, \"15\": 1}, \"108\": {\"53\": 1, \"108\": 22, \"73\": 2, \"70\": 3, \"112\": 1, \"85\": 3, \"11\": 1, \"49\": 1, \"42\": 1, \"8\": 1}, \"37\": {\"37\": 16}, \"38\": {\"38\": 16}, \"11\": {\"78\": 1, \"43\": 3, \"11\": 20, \"13\": 2, \"33\": 2, \"32\": 1, \"93\": 1, \"87\": 1, \"116\": 1, \"23\": 1, \"29\": 2, \"102\": 1, \"2\": 2, \"44\": 1, \"113\": 1}, \"22\": {\"22\": 15, \"57\": 1}, \"40\": {\"105\": 3, \"40\": 41, \"66\": 1, \"122\": 1}, \"107\": {\"107\": 41, \"122\": 1, \"87\": 1, \"82\": 1}, \"23\": {\"39\": 4, \"23\": 8, \"77\": 3, \"126\": 1, \"124\": 4, \"128\": 1, \"81\": 1, \"91\": 2, \"19\": 1, \"110\": 1, \"60\": 1, \"67\": 1, \"123\": 2, \"63\": 1, \"90\": 1}, \"34\": {\"98\": 5, \"32\": 5, \"34\": 8, \"56\": 1, \"125\": 1, \"48\": 2, \"107\": 4, \"14\": 3, \"84\": 1, \"6\": 1, \"75\": 1}, \"122\": {\"122\": 23, \"78\": 1, \"14\": 2, \"32\": 1, \"28\": 2, \"99\": 3, \"127\": 4, \"107\": 3, \"101\": 1, \"87\": 2, \"128\": 1, \"90\": 1}, \"29\": {\"29\": 30, \"90\": 1, \"44\": 1}, \"121\": {\"121\": 17, \"26\": 3, \"117\": 1, \"63\": 2, \"39\": 1, \"18\": 5, \"2\": 1, \"113\": 2}, \"93\": {\"93\": 36, \"96\": 1, \"23\": 1, \"16\": 2, \"64\": 1, \"11\": 1}, \"30\": {\"23\": 2, \"73\": 2, \"30\": 20, \"124\": 1, \"81\": 1, \"112\": 1, \"97\": 1, \"12\": 3, \"101\": 2, \"8\": 1, \"18\": 1, \"6\": 1}, \"127\": {\"127\": 35, \"4\": 1, \"77\": 1, \"68\": 1, \"3\": 1, \"16\": 1}, \"28\": {\"28\": 16}, \"47\": {\"47\": 11, \"124\": 1}, \"74\": {\"74\": 16}, \"79\": {\"79\": 12}, \"41\": {\"56\": 2, \"41\": 11, \"34\": 2, \"86\": 1}, \"86\": {\"86\": 19, \"4\": 5, \"56\": 1, \"10\": 1, \"39\": 1, \"34\": 1}, \"85\": {\"108\": 3, \"85\": 30, \"8\": 2, \"106\": 1}, \"45\": {\"45\": 16}, \"32\": {\"32\": 9, \"115\": 2, \"65\": 2, \"9\": 2, \"84\": 4, \"107\": 2, \"10\": 4, \"82\": 2, \"45\": 3, \"22\": 1, \"50\": 1}, \"16\": {\"92\": 1, \"93\": 2, \"16\": 29, \"116\": 1, \"64\": 1, \"100\": 1, \"11\": 1}, \"49\": {\"53\": 5, \"47\": 1, \"20\": 1, \"49\": 10, \"8\": 1, \"97\": 2, \"85\": 3, \"73\": 1}, \"58\": {\"58\": 14, \"101\": 1, \"111\": 1}, \"106\": {\"106\": 34, \"94\": 1, \"73\": 1, \"12\": 1, \"59\": 1}, \"78\": {\"16\": 1, \"98\": 1, \"18\": 1, \"115\": 2, \"91\": 1, \"40\": 1, \"99\": 2, \"118\": 2, \"105\": 1, \"122\": 1, \"43\": 1, \"78\": 1, \"48\": 1}, \"5\": {\"5\": 30, \"46\": 1, \"124\": 1, \"1\": 4, \"71\": 1, \"8\": 1}, \"26\": {\"26\": 45, \"2\": 1}, \"13\": {\"26\": 7, \"78\": 1, \"14\": 1, \"118\": 1, \"84\": 1, \"13\": 1, \"18\": 1, \"43\": 2, \"11\": 1}, \"27\": {\"54\": 1, \"27\": 17, \"24\": 6, \"112\": 1, \"16\": 1, \"36\": 11, \"83\": 1, \"100\": 1, \"42\": 1}, \"54\": {\"54\": 16}, \"68\": {\"68\": 14, \"128\": 1, \"127\": 1}, \"128\": {\"128\": 14, \"103\": 1, \"77\": 3, \"99\": 4, \"87\": 2, \"101\": 1, \"122\": 2, \"4\": 1, \"41\": 1, \"28\": 1, \"71\": 1, \"19\": 1}, \"104\": {\"104\": 16}, \"7\": {\"7\": 42, \"9\": 1, \"95\": 2, \"88\": 1}, \"116\": {\"11\": 1, \"116\": 21, \"87\": 1, \"45\": 2, \"118\": 1, \"17\": 1, \"33\": 1}, \"80\": {\"80\": 13, \"109\": 1, \"79\": 2}, \"92\": {\"92\": 28, \"17\": 1, \"125\": 1, \"16\": 2}, \"62\": {\"62\": 33, \"94\": 1}, \"64\": {\"64\": 20}, \"12\": {\"12\": 29, \"39\": 1, \"124\": 4, \"21\": 1, \"98\": 1, \"3\": 1, \"71\": 1}, \"56\": {\"59\": 1, \"41\": 2, \"56\": 6, \"34\": 1, \"125\": 1, \"4\": 1}, \"39\": {\"39\": 18, \"21\": 1, \"117\": 5, \"63\": 1, \"113\": 13, \"126\": 1, \"121\": 2, \"18\": 1, \"81\": 2}, \"98\": {\"98\": 32, \"125\": 1, \"18\": 1}, \"59\": {\"59\": 11, \"94\": 1}, \"90\": {\"90\": 31, \"122\": 1}, \"52\": {\"52\": 13, \"12\": 1, \"124\": 1, \"73\": 1}, \"105\": {\"105\": 42}, \"53\": {\"53\": 16, \"20\": 1, \"88\": 2, \"15\": 1}, \"43\": {\"13\": 2, \"43\": 16, \"33\": 12, \"39\": 1, \"17\": 1, \"21\": 1, \"102\": 8, \"113\": 1, \"82\": 1, \"14\": 1, \"2\": 1, \"118\": 1}, \"100\": {\"100\": 11, \"96\": 1, \"122\": 1, \"78\": 1, \"14\": 1, \"107\": 1}, \"61\": {\"61\": 15, \"2\": 1}, \"66\": {\"66\": 15, \"105\": 1}, \"103\": {\"103\": 15, \"87\": 1}, \"55\": {\"55\": 15, \"9\": 1}, \"75\": {\"75\": 14, \"6\": 1, \"0\": 1}, \"118\": {\"102\": 6, \"118\": 25, \"120\": 1, \"84\": 1, \"39\": 1, \"109\": 2, \"82\": 1, \"43\": 1}, \"117\": {\"117\": 38, \"43\": 1, \"18\": 1}, \"115\": {\"115\": 13, \"122\": 1, \"40\": 1, \"84\": 1}, \"110\": {\"110\": 20, \"60\": 4, \"129\": 5, \"1\": 1, \"70\": 1, \"31\": 1}, \"95\": {\"95\": 27, \"7\": 2, \"16\": 1}, \"18\": {\"81\": 2, \"18\": 36, \"21\": 1, \"61\": 1, \"117\": 2}, \"50\": {\"50\": 16}, \"112\": {\"112\": 7, \"42\": 4, \"18\": 1, \"83\": 1, \"8\": 1, \"108\": 2}, \"72\": {\"72\": 24, \"3\": 1, \"34\": 1, \"6\": 1, \"91\": 1}, \"109\": {\"109\": 32, \"69\": 2, \"76\": 4, \"89\": 3, \"62\": 1}, \"126\": {\"126\": 25, \"18\": 1, \"63\": 1, \"61\": 1, \"39\": 1, \"81\": 3}, \"14\": {\"14\": 36, \"32\": 3, \"84\": 2, \"122\": 2, \"90\": 1}, \"17\": {\"78\": 1, \"104\": 2, \"17\": 1, \"56\": 1, \"23\": 2, \"16\": 1, \"21\": 1, \"55\": 1, \"126\": 2, \"64\": 2, \"96\": 1, \"66\": 1}, \"51\": {\"51\": 16}, \"96\": {\"96\": 18, \"80\": 1, \"88\": 1}, \"77\": {\"77\": 16}, \"71\": {\"71\": 35, \"3\": 1}, \"4\": {\"4\": 25, \"86\": 3, \"105\": 2, \"72\": 1, \"122\": 1}, \"87\": {\"87\": 24, \"122\": 3, \"17\": 1, \"44\": 1, \"11\": 2, \"84\": 2, \"107\": 1, \"116\": 2, \"127\": 1, \"100\": 1, \"29\": 1, \"40\": 1, \"128\": 1, \"90\": 1}, \"120\": {\"120\": 20}, \"113\": {\"113\": 25, \"13\": 1, \"117\": 8, \"2\": 1, \"39\": 3}, \"123\": {\"123\": 12, \"121\": 1, \"39\": 1, \"63\": 2}, \"35\": {\"35\": 9, \"83\": 1, \"37\": 2}, \"83\": {\"83\": 21, \"36\": 1, \"81\": 1, \"23\": 1}, \"24\": {\"25\": 2, \"83\": 5, \"24\": 11, \"36\": 7, \"42\": 4, \"27\": 4, \"112\": 2, \"108\": 2, \"73\": 1}, \"102\": {\"102\": 37, \"43\": 1}, \"6\": {\"51\": 2, \"6\": 15, \"30\": 2, \"58\": 3, \"34\": 3, \"91\": 1, \"101\": 1, \"75\": 1, \"125\": 1, \"72\": 1, \"98\": 1, \"15\": 1}, \"81\": {\"81\": 30}, \"89\": {\"89\": 25, \"76\": 1, \"69\": 2}, \"114\": {\"46\": 1, \"114\": 34, \"87\": 1}, \"1\": {\"1\": 41, \"46\": 2, \"114\": 4, \"5\": 1}, \"25\": {\"25\": 16}, \"88\": {\"108\": 10, \"67\": 2, \"96\": 3, \"88\": 15, \"126\": 3, \"80\": 1, \"85\": 1, \"49\": 4, \"112\": 1, \"122\": 1, \"70\": 1}, \"46\": {\"46\": 16}, \"57\": {\"57\": 20}, \"73\": {\"73\": 32, \"88\": 1, \"97\": 1}, \"60\": {\"114\": 3, \"60\": 9, \"79\": 1, \"77\": 1, \"29\": 2, \"128\": 1, \"44\": 4, \"31\": 1, \"19\": 1, \"80\": 1, \"91\": 1, \"110\": 2, \"23\": 1}, \"10\": {\"91\": 1, \"66\": 2, \"10\": 27, \"65\": 1, \"37\": 2, \"17\": 1, \"7\": 4, \"95\": 2, \"32\": 3, \"70\": 1}, \"36\": {\"83\": 3, \"36\": 15, \"108\": 2, \"27\": 10, \"24\": 4}, \"65\": {\"65\": 7, \"39\": 1, \"121\": 1, \"81\": 1, \"18\": 1, \"9\": 1}, \"67\": {\"123\": 4, \"67\": 12}, \"119\": {\"119\": 16}, \"15\": {\"124\": 1, \"15\": 38, \"52\": 1, \"21\": 1, \"97\": 1, \"73\": 1, \"94\": 2, \"78\": 1, \"39\": 1, \"6\": 1}, \"42\": {\"42\": 22, \"108\": 2, \"85\": 3, \"97\": 1}, \"91\": {\"111\": 1, \"3\": 2, \"91\": 14, \"127\": 3, \"89\": 1, \"6\": 1, \"68\": 1, \"128\": 1}, \"3\": {\"3\": 29, \"72\": 2, \"127\": 1, \"71\": 1, \"98\": 1}, \"44\": {\"44\": 35, \"29\": 4, \"114\": 1, \"16\": 1, \"92\": 1}, \"63\": {\"75\": 1, \"63\": 11, \"39\": 2, \"112\": 1, \"100\": 1}, \"33\": {\"33\": 34, \"82\": 2, \"78\": 1, \"43\": 1}, \"69\": {\"69\": 31, \"89\": 2, \"118\": 2, \"78\": 1}, \"101\": {\"101\": 32, \"0\": 9, \"110\": 1, \"51\": 2, \"39\": 1, \"21\": 1}, \"48\": {\"102\": 1, \"119\": 1, \"63\": 2, \"23\": 3, \"7\": 2, \"43\": 1, \"9\": 1, \"26\": 1, \"116\": 1, \"123\": 1, \"10\": 1, \"2\": 1}, \"8\": {\"8\": 20, \"124\": 4, \"53\": 1, \"39\": 1, \"70\": 4, \"52\": 1, \"108\": 1}, \"124\": {\"52\": 2, \"47\": 1, \"124\": 32, \"111\": 1, \"8\": 2, \"108\": 1, \"12\": 2, \"77\": 1, \"91\": 1, \"30\": 1}, \"9\": {\"104\": 2, \"9\": 24, \"55\": 3, \"116\": 1, \"66\": 2}, \"21\": {\"21\": 20, \"88\": 1, \"87\": 1, \"125\": 1, \"39\": 1}, \"20\": {\"20\": 13, \"53\": 1, \"129\": 2}, \"0\": {\"0\": 38, \"21\": 1, \"101\": 4, \"95\": 1, \"34\": 1, \"51\": 3}, \"125\": {\"125\": 36, \"87\": 1, \"127\": 1, \"73\": 1, \"106\": 1}, \"19\": {\"3\": 7, \"91\": 2, \"128\": 2, \"19\": 11, \"98\": 1, \"129\": 2, \"72\": 2, \"110\": 2, \"1\": 1}, \"99\": {\"99\": 29, \"48\": 3, \"4\": 3, \"127\": 1}, \"94\": {\"11\": 1, \"59\": 1, \"30\": 1, \"94\": 21, \"97\": 2, \"125\": 1, \"98\": 1}, \"84\": {\"84\": 41, \"82\": 2, \"13\": 2, \"34\": 1}, \"70\": {\"70\": 11, \"129\": 1, \"93\": 1, \"5\": 3, \"60\": 1, \"11\": 1, \"8\": 3, \"88\": 4, \"114\": 1, \"108\": 1, \"1\": 2, \"30\": 2, \"52\": 1, \"85\": 1, \"19\": 1, \"124\": 1, \"110\": 1}, \"129\": {\"129\": 24, \"110\": 3, \"19\": 1, \"29\": 1, \"31\": 1, \"16\": 1, \"23\": 1}, \"76\": {\"76\": 14, \"109\": 1, \"62\": 1}, \"2\": {\"18\": 2, \"100\": 1, \"63\": 1, \"118\": 1, \"2\": 5, \"96\": 1, \"11\": 1, \"26\": 8, \"93\": 7, \"64\": 1}, \"97\": {\"15\": 6, \"97\": 10, \"112\": 1, \"85\": 2, \"108\": 1}, \"82\": {\"82\": 28}, \"31\": {\"31\": 19, \"60\": 1}}, \"Wisig_1\": {\"51\": {\"51\": 16}, \"103\": {\"103\": 15, \"9\": 1}, \"53\": {\"53\": 17, \"94\": 1, \"49\": 2}, \"24\": {\"24\": 27, \"27\": 1, \"88\": 6, \"97\": 2, \"36\": 1, \"126\": 1, \"108\": 1, \"39\": 1}, \"39\": {\"39\": 27, \"13\": 2, \"69\": 1, \"83\": 1, \"36\": 2, \"16\": 1, \"18\": 5, \"113\": 1}, \"90\": {\"90\": 46}, \"106\": {\"106\": 39, \"86\": 6, \"68\": 1, \"127\": 1, \"44\": 1, \"111\": 1, \"71\": 1}, \"54\": {\"54\": 15, \"68\": 1}, \"56\": {\"56\": 11, \"32\": 1}, \"118\": {\"118\": 32, \"26\": 2}, \"100\": {\"100\": 11, \"25\": 1, \"99\": 3, \"42\": 1}, \"95\": {\"95\": 33, \"39\": 1, \"26\": 2}, \"98\": {\"98\": 33, \"51\": 3}, \"36\": {\"36\": 32, \"97\": 1, \"24\": 4, \"88\": 3, \"113\": 1, \"27\": 1}, \"48\": {\"48\": 12}, \"107\": {\"107\": 33, \"121\": 1, \"7\": 2, \"4\": 4}, \"5\": {\"106\": 3, \"29\": 1, \"5\": 35, \"72\": 2, \"42\": 1}, \"82\": {\"82\": 32, \"3\": 2}, \"6\": {\"51\": 4, \"49\": 3, \"123\": 2, \"52\": 2, \"59\": 1, \"98\": 3, \"30\": 1, \"6\": 9, \"71\": 2, \"94\": 2, \"32\": 2, \"91\": 1}, \"27\": {\"88\": 10, \"27\": 20, \"59\": 2, \"108\": 3, \"12\": 1, \"97\": 1, \"103\": 1, \"36\": 2, \"24\": 2}, \"77\": {\"77\": 10, \"60\": 1, \"17\": 1, \"54\": 1, \"93\": 2, \"21\": 1}, \"75\": {\"75\": 16}, \"2\": {\"82\": 2, \"54\": 1, \"3\": 3, \"2\": 12, \"123\": 2, \"115\": 1, \"114\": 3, \"116\": 1, \"119\": 1, \"11\": 2, \"33\": 2, \"77\": 1, \"46\": 1}, \"31\": {\"31\": 14, \"73\": 1, \"89\": 1}, \"29\": {\"29\": 27, \"71\": 1}, \"35\": {\"35\": 12}, \"125\": {\"125\": 34, \"94\": 2, \"6\": 2}, \"123\": {\"123\": 15, \"8\": 1}, \"64\": {\"64\": 15, \"19\": 1}, \"50\": {\"50\": 14, \"69\": 2}, \"16\": {\"95\": 1, \"16\": 34, \"117\": 2, \"109\": 1, \"39\": 1, \"26\": 1}, \"79\": {\"79\": 12}, \"1\": {\"1\": 37, \"124\": 1}, \"70\": {\"5\": 3, \"70\": 12, \"6\": 1, \"19\": 1, \"23\": 1, \"128\": 1, \"21\": 3, \"109\": 7, \"108\": 1, \"126\": 1, \"44\": 3, \"106\": 1, \"124\": 2, \"86\": 2, \"96\": 1, \"97\": 1, \"29\": 1}, \"121\": {\"95\": 1, \"121\": 27, \"16\": 2}, \"14\": {\"14\": 33, \"113\": 1, \"21\": 1, \"84\": 2, \"66\": 2, \"81\": 2, \"122\": 1}, \"80\": {\"80\": 14, \"81\": 1, \"122\": 1}, \"99\": {\"99\": 24}, \"116\": {\"78\": 2, \"116\": 16, \"125\": 1, \"33\": 1, \"102\": 2, \"11\": 6, \"114\": 1, \"69\": 1, \"90\": 1, \"81\": 1}, \"15\": {\"15\": 34, \"100\": 1, \"9\": 1, \"27\": 7, \"94\": 1, \"52\": 3, \"88\": 2, \"47\": 1, \"111\": 1, \"24\": 1}, \"127\": {\"127\": 43, \"58\": 2, \"53\": 1, \"91\": 2}, \"101\": {\"101\": 38}, \"89\": {\"89\": 28, \"59\": 1, \"45\": 1, \"106\": 4, \"46\": 1, \"124\": 1}, \"83\": {\"83\": 20, \"23\": 2, \"106\": 1, \"8\": 1, \"78\": 1, \"72\": 2, \"5\": 1}, \"34\": {\"34\": 7, \"43\": 7, \"53\": 5, \"28\": 1, \"122\": 2, \"14\": 6, \"89\": 2, \"98\": 1, \"60\": 1}, \"78\": {\"121\": 2, \"78\": 3, \"7\": 1, \"105\": 4, \"18\": 1, \"87\": 2, \"21\": 1, \"122\": 1, \"116\": 1}, \"43\": {\"43\": 24, \"100\": 1, \"78\": 2, \"122\": 13, \"81\": 4, \"105\": 2, \"83\": 1, \"40\": 1}, \"74\": {\"74\": 16}, \"120\": {\"99\": 1, \"120\": 13, \"121\": 1, \"76\": 1, \"50\": 2, \"69\": 2}, \"25\": {\"25\": 16}, \"129\": {\"29\": 1, \"2\": 3, \"64\": 2, \"129\": 12, \"72\": 2, \"42\": 1, \"5\": 1, \"20\": 2, \"19\": 3, \"124\": 1}, \"88\": {\"24\": 6, \"27\": 3, \"88\": 14, \"15\": 3, \"36\": 7, \"94\": 1, \"126\": 1, \"108\": 3, \"97\": 1, \"53\": 1}, \"119\": {\"119\": 16}, \"18\": {\"18\": 31, \"39\": 5}, \"66\": {\"66\": 14, \"14\": 1, \"19\": 1}, \"102\": {\"102\": 39, \"33\": 3, \"69\": 2}, \"85\": {\"85\": 30, \"92\": 1, \"0\": 1}, \"13\": {\"13\": 12, \"117\": 2, \"102\": 2}, \"3\": {\"3\": 40, \"25\": 2}, \"84\": {\"84\": 35, \"87\": 2, \"8\": 1}, \"8\": {\"8\": 31, \"22\": 1, \"107\": 1, \"66\": 1, \"84\": 3, \"87\": 4, \"21\": 1, \"113\": 1, \"77\": 1}, \"19\": {\"19\": 11, \"64\": 3, \"104\": 2, \"83\": 2, \"129\": 3, \"70\": 1, \"73\": 1, \"21\": 2, \"72\": 1, \"29\": 1, \"82\": 1}, \"7\": {\"7\": 36}, \"20\": {\"20\": 15, \"129\": 1}, \"93\": {\"4\": 4, \"93\": 22, \"7\": 5, \"21\": 2, \"110\": 2, \"90\": 2, \"107\": 3, \"87\": 1, \"55\": 1}, \"71\": {\"51\": 1, \"94\": 3, \"71\": 32, \"98\": 1, \"6\": 3, \"111\": 3, \"58\": 2, \"117\": 1}, \"128\": {\"115\": 4, \"128\": 7, \"3\": 1, \"72\": 1, \"29\": 3, \"114\": 5, \"101\": 1, \"46\": 1, \"54\": 1}, \"59\": {\"51\": 4, \"59\": 7, \"33\": 1}, \"126\": {\"126\": 36, \"96\": 3, \"79\": 1, \"9\": 1, \"109\": 2, \"108\": 1, \"70\": 1, \"100\": 1}, \"4\": {\"4\": 29, \"93\": 1, \"107\": 2, \"40\": 2, \"110\": 1, \"95\": 1}, \"91\": {\"68\": 1, \"91\": 16, \"71\": 4, \"127\": 5, \"106\": 1, \"112\": 1}, \"76\": {\"76\": 16}, \"49\": {\"49\": 6, \"111\": 2, \"9\": 2, \"101\": 2, \"125\": 1, \"52\": 2, \"89\": 1, \"124\": 1, \"31\": 2, \"86\": 1}, \"114\": {\"114\": 47, \"113\": 1}, \"115\": {\"115\": 12}, \"44\": {\"44\": 32}, \"17\": {\"17\": 15, \"11\": 1}, \"46\": {\"46\": 4, \"114\": 1, \"53\": 1, \"17\": 1, \"58\": 2, \"45\": 2, \"77\": 1}, \"96\": {\"96\": 15, \"126\": 4, \"2\": 1}, \"68\": {\"68\": 13, \"106\": 2, \"127\": 1}, \"86\": {\"86\": 27, \"68\": 1, \"106\": 2, \"98\": 4, \"34\": 1, \"83\": 1}, \"65\": {\"123\": 1, \"76\": 1, \"57\": 1, \"117\": 1, \"113\": 1, \"22\": 1, \"102\": 1, \"122\": 1, \"74\": 1, \"63\": 1, \"33\": 1, \"65\": 1}, \"10\": {\"10\": 32, \"92\": 3, \"74\": 1, \"85\": 4, \"0\": 5, \"62\": 2, \"21\": 1, \"122\": 2}, \"22\": {\"22\": 12, \"66\": 2, \"8\": 1, \"33\": 1}, \"94\": {\"94\": 35, \"2\": 1, \"52\": 1, \"49\": 1, \"71\": 2, \"109\": 1, \"27\": 1, \"125\": 1, \"12\": 1, \"108\": 2}, \"9\": {\"9\": 32}, \"73\": {\"73\": 18, \"104\": 2}, \"37\": {\"85\": 2, \"37\": 13, \"49\": 1}, \"26\": {\"26\": 43, \"118\": 1, \"113\": 1, \"78\": 1}, \"21\": {\"100\": 1, \"68\": 1, \"113\": 1, \"21\": 11, \"23\": 1, \"84\": 1, \"19\": 2, \"44\": 1, \"18\": 1, \"8\": 4, \"16\": 1, \"90\": 1, \"30\": 2, \"34\": 1, \"127\": 1, \"78\": 2, \"39\": 6, \"120\": 1, \"83\": 1}, \"47\": {\"47\": 11, \"9\": 1}, \"67\": {\"67\": 16}, \"117\": {\"117\": 31, \"16\": 2, \"39\": 1}, \"72\": {\"72\": 25, \"101\": 2, \"5\": 1, \"83\": 1, \"34\": 1}, \"12\": {\"12\": 29, \"52\": 1, \"53\": 1, \"106\": 1, \"89\": 5, \"44\": 2, \"30\": 1}, \"92\": {\"92\": 28}, \"23\": {\"23\": 5, \"127\": 1, \"34\": 2, \"1\": 1, \"115\": 2, \"69\": 1, \"124\": 2, \"42\": 1, \"8\": 2, \"25\": 1, \"123\": 1, \"110\": 1, \"28\": 1, \"45\": 1, \"93\": 1, \"21\": 1}, \"57\": {\"57\": 12}, \"38\": {\"38\": 15, \"43\": 1}, \"11\": {\"11\": 20, \"39\": 1, \"90\": 2, \"114\": 2, \"8\": 1, \"102\": 1, \"33\": 3, \"116\": 2}, \"32\": {\"56\": 1, \"32\": 19, \"55\": 1, \"127\": 1, \"21\": 1, \"110\": 3, \"41\": 1, \"75\": 1, \"58\": 1, \"112\": 1, \"4\": 1, \"0\": 1}, \"69\": {\"69\": 30, \"120\": 2, \"67\": 2, \"113\": 2, \"118\": 4}, \"105\": {\"105\": 24, \"40\": 15, \"93\": 2, \"87\": 1, \"41\": 1, \"107\": 1}, \"52\": {\"52\": 17, \"30\": 1, \"111\": 1, \"6\": 1}, \"109\": {\"104\": 1, \"109\": 27, \"42\": 2, \"23\": 1, \"5\": 2, \"21\": 2, \"70\": 1, \"97\": 1, \"108\": 2, \"45\": 1, \"96\": 2, \"126\": 2, \"124\": 1, \"39\": 1}, \"60\": {\"34\": 3, \"60\": 7, \"14\": 2, \"123\": 1, \"100\": 1, \"21\": 1, \"2\": 1}, \"87\": {\"87\": 24, \"65\": 1, \"78\": 2, \"8\": 5, \"93\": 1, \"105\": 4, \"107\": 1, \"84\": 1, \"40\": 1}, \"113\": {\"113\": 38}, \"42\": {\"60\": 1, \"42\": 10, \"113\": 1, \"84\": 1, \"124\": 2, \"129\": 1, \"8\": 3, \"21\": 3, \"72\": 1, \"20\": 1, \"109\": 1, \"3\": 2, \"39\": 1}, \"61\": {\"61\": 12}, \"63\": {\"63\": 16}, \"111\": {\"111\": 32}, \"41\": {\"41\": 16}, \"40\": {\"40\": 31, \"19\": 1, \"105\": 5, \"39\": 1, \"107\": 1, \"93\": 1}, \"112\": {\"112\": 15, \"127\": 1}, \"108\": {\"104\": 3, \"108\": 20, \"9\": 4, \"109\": 1, \"15\": 3, \"5\": 1, \"128\": 1, \"47\": 1, \"24\": 1, \"70\": 2, \"94\": 1}, \"104\": {\"104\": 16}, \"28\": {\"28\": 18, \"6\": 1, \"43\": 1}, \"122\": {\"122\": 25, \"81\": 2, \"83\": 1, \"43\": 10, \"113\": 1, \"40\": 1}, \"81\": {\"81\": 27, \"43\": 1}, \"124\": {\"124\": 20, \"42\": 1, \"128\": 1, \"5\": 1, \"1\": 3, \"23\": 1, \"104\": 2, \"106\": 1}, \"45\": {\"39\": 1, \"45\": 4, \"42\": 2, \"23\": 1, \"18\": 1, \"82\": 1, \"124\": 1, \"20\": 1}, \"97\": {\"97\": 8, \"15\": 1, \"126\": 4, \"108\": 1, \"24\": 1, \"27\": 2, \"88\": 2, \"125\": 1}, \"58\": {\"75\": 2, \"53\": 1, \"127\": 3, \"58\": 5, \"110\": 1}, \"30\": {\"12\": 5, \"70\": 1, \"71\": 5, \"23\": 1, \"112\": 2, \"30\": 10, \"44\": 2, \"94\": 1, \"111\": 1, \"91\": 1, \"53\": 1, \"32\": 1, \"83\": 1}, \"33\": {\"78\": 1, \"33\": 39, \"102\": 1, \"21\": 1}, \"55\": {\"55\": 12}, \"62\": {\"62\": 40, \"67\": 2, \"69\": 2}, \"110\": {\"110\": 24, \"4\": 3, \"78\": 1}, \"0\": {\"0\": 30, \"21\": 1, \"85\": 1}}, \"Wisig_2\": {\"4\": {\"4\": 36, \"54\": 4, \"39\": 1, \"38\": 1, \"115\": 1, \"107\": 2, \"86\": 2, \"91\": 1}, \"21\": {\"21\": 33, \"17\": 1, \"87\": 1, \"24\": 1}, \"5\": {\"5\": 41, \"53\": 2, \"3\": 2, \"114\": 1, \"129\": 1, \"11\": 1}, \"71\": {\"71\": 31, \"114\": 3, \"3\": 2, \"128\": 2, \"115\": 1, \"39\": 1}, \"46\": {\"46\": 13, \"126\": 3}, \"100\": {\"100\": 16}, \"97\": {\"97\": 11, \"49\": 1, \"31\": 1, \"53\": 1, \"52\": 2, \"77\": 2, \"15\": 1, \"107\": 1}, \"74\": {\"74\": 11, \"21\": 1, \"105\": 2, \"55\": 1, \"88\": 1}, \"116\": {\"116\": 14, \"45\": 1, \"90\": 5, \"87\": 3, \"57\": 1, \"84\": 1, \"70\": 1, \"110\": 2}, \"104\": {\"7\": 1, \"40\": 1, \"104\": 14, \"21\": 1, \"126\": 1, \"98\": 1, \"95\": 1}, \"70\": {\"21\": 3, \"110\": 2, \"82\": 1, \"70\": 8, \"43\": 7, \"88\": 1, \"78\": 2, \"84\": 2, \"1\": 1, \"87\": 1, \"34\": 1, \"8\": 1, \"32\": 1, \"39\": 1, \"24\": 1, \"33\": 1}, \"84\": {\"84\": 33, \"116\": 1, \"65\": 1, \"43\": 3, \"102\": 2}, \"73\": {\"73\": 21, \"129\": 1, \"1\": 3, \"118\": 1, \"85\": 2}, \"29\": {\"29\": 30, \"127\": 1, \"30\": 1}, \"26\": {\"26\": 34, \"2\": 2, \"21\": 1, \"109\": 1, \"113\": 1, \"121\": 1, \"67\": 1, \"57\": 1, \"39\": 1, \"11\": 1}, \"3\": {\"5\": 1, \"3\": 31, \"21\": 1, \"71\": 2, \"8\": 1, \"26\": 1, \"67\": 1}, \"40\": {\"40\": 37, \"21\": 2, \"117\": 1, \"49\": 1, \"86\": 1, \"95\": 1, \"11\": 1}, \"126\": {\"46\": 1, \"43\": 1, \"5\": 1, \"21\": 1, \"126\": 23, \"122\": 1, \"27\": 1, \"42\": 1, \"16\": 3, \"44\": 3, \"70\": 1, \"88\": 1}, \"94\": {\"94\": 18, \"21\": 2, \"24\": 6, \"125\": 4, \"108\": 2, \"15\": 4, \"25\": 1, \"11\": 1, \"51\": 1, \"58\": 1, \"97\": 1, \"49\": 2, \"87\": 1}, \"28\": {\"28\": 17, \"51\": 1, \"72\": 1, \"43\": 1}, \"38\": {\"38\": 16}, \"23\": {\"29\": 5, \"26\": 1, \"3\": 2, \"99\": 8, \"34\": 1, \"19\": 1, \"127\": 2, \"8\": 2, \"77\": 1, \"42\": 2, \"65\": 2, \"32\": 1, \"113\": 5, \"122\": 5, \"103\": 1, \"23\": 2, \"48\": 1, \"110\": 1, \"117\": 1}, \"61\": {\"40\": 3, \"55\": 1, \"61\": 13, \"66\": 2, \"49\": 1}, \"122\": {\"122\": 17, \"60\": 1, \"123\": 1, \"4\": 1, \"8\": 5, \"3\": 2, \"29\": 3, \"52\": 1, \"107\": 1, \"110\": 1, \"128\": 3, \"21\": 2, \"127\": 2, \"97\": 1, \"19\": 1, \"37\": 1, \"32\": 1, \"99\": 1, \"91\": 1, \"5\": 1, \"70\": 1}, \"7\": {\"7\": 27, \"17\": 3, \"4\": 2, \"95\": 4, \"105\": 1, \"54\": 1}, \"47\": {\"47\": 10, \"112\": 1, \"124\": 1}, \"56\": {\"56\": 10, \"115\": 2}, \"58\": {\"58\": 15, \"126\": 1, \"51\": 2, \"6\": 1, \"15\": 1}, \"90\": {\"90\": 47, \"87\": 1}, \"117\": {\"117\": 33, \"113\": 2, \"24\": 1, \"121\": 1, \"88\": 1}, \"66\": {\"66\": 16, \"37\": 1, \"86\": 1, \"55\": 1, \"78\": 1}, \"110\": {\"110\": 23, \"32\": 1, \"3\": 1, \"88\": 1, \"122\": 4, \"18\": 1, \"121\": 2, \"8\": 1, \"23\": 2, \"43\": 1, \"60\": 1, \"21\": 2}, \"127\": {\"127\": 38, \"91\": 1, \"29\": 1}, \"120\": {\"120\": 20}, \"85\": {\"85\": 29, \"44\": 1, \"53\": 1, \"11\": 1}, \"64\": {\"64\": 13, \"17\": 1, \"89\": 2}, \"17\": {\"4\": 3, \"17\": 4, \"40\": 4, \"56\": 1, \"126\": 1, \"95\": 1, \"86\": 1, \"49\": 1}, \"114\": {\"114\": 34, \"71\": 1, \"24\": 1}, \"43\": {\"60\": 1, \"38\": 2, \"43\": 22, \"107\": 3, \"45\": 1, \"84\": 3, \"32\": 1, \"78\": 3, \"116\": 1, \"90\": 3, \"70\": 1, \"40\": 2, \"4\": 1, \"42\": 1, \"21\": 1}, \"60\": {\"73\": 3, \"100\": 1, \"60\": 4, \"87\": 3, \"48\": 1, \"43\": 1, \"123\": 4, \"57\": 2, \"70\": 3, \"32\": 4, \"96\": 1, \"85\": 1}, \"108\": {\"85\": 1, \"108\": 34, \"49\": 2, \"42\": 2, \"11\": 1, \"24\": 1, \"94\": 2, \"126\": 1}, \"76\": {\"76\": 14, \"89\": 1, \"92\": 1}, \"123\": {\"123\": 14, \"60\": 2}, \"106\": {\"106\": 28, \"98\": 2, \"11\": 1, \"94\": 1}, \"1\": {\"1\": 42, \"21\": 1, \"33\": 3, \"129\": 1, \"8\": 1}, \"34\": {\"34\": 13, \"21\": 1, \"32\": 1, \"91\": 2, \"86\": 3, \"127\": 2, \"110\": 2, \"6\": 2, \"52\": 1, \"67\": 1, \"41\": 1, \"111\": 2, \"30\": 1}, \"49\": {\"49\": 7, \"114\": 2, \"108\": 1, \"52\": 1, \"98\": 2, \"85\": 2, \"59\": 1, \"39\": 1, \"73\": 2, \"11\": 4, \"128\": 1}, \"89\": {\"89\": 23, \"76\": 1, \"21\": 1, \"92\": 6, \"118\": 3, \"87\": 1, \"26\": 1}, \"12\": {\"12\": 15, \"21\": 3, \"124\": 1, \"114\": 1, \"128\": 2, \"71\": 4, \"8\": 1, \"91\": 1}, \"36\": {\"36\": 23, \"27\": 9, \"25\": 1, \"21\": 1, \"94\": 4, \"98\": 1, \"13\": 1, \"9\": 1, \"24\": 1}, \"31\": {\"31\": 17, \"51\": 1, \"118\": 1, \"94\": 1}, \"98\": {\"98\": 46, \"125\": 4, \"106\": 2}, \"32\": {\"123\": 2, \"110\": 3, \"122\": 2, \"32\": 11, \"22\": 2, \"107\": 1, \"10\": 3, \"105\": 5, \"14\": 1, \"23\": 1, \"95\": 2, \"103\": 1, \"8\": 1, \"19\": 1}, \"41\": {\"41\": 11, \"107\": 1, \"115\": 4, \"12\": 2, \"29\": 1, \"127\": 1}, \"75\": {\"75\": 9, \"6\": 1, \"108\": 1, \"9\": 1, \"30\": 1, \"14\": 1, \"24\": 1, \"49\": 1}, \"0\": {\"97\": 2, \"0\": 25, \"101\": 7, \"116\": 1, \"30\": 1, \"122\": 1, \"87\": 1, \"77\": 2}, \"19\": {\"19\": 7, \"60\": 1, \"110\": 5, \"3\": 3, \"129\": 4, \"28\": 1, \"73\": 1, \"23\": 3, \"72\": 1, \"7\": 1, \"49\": 1}, \"86\": {\"86\": 31, \"107\": 1}, \"24\": {\"94\": 5, \"24\": 14, \"21\": 2, \"27\": 2, \"25\": 1, \"125\": 1, \"108\": 5, \"36\": 2}, \"59\": {\"21\": 1, \"59\": 9, \"107\": 2, \"77\": 1, \"34\": 2, \"126\": 1}, \"55\": {\"118\": 1, \"55\": 13, \"76\": 1, \"62\": 1}, \"50\": {\"109\": 1, \"50\": 12, \"62\": 2, \"98\": 1}, \"125\": {\"125\": 30, \"6\": 1, \"121\": 1, \"51\": 1, \"98\": 1, \"94\": 1, \"106\": 1}, \"16\": {\"93\": 6, \"16\": 20, \"90\": 2, \"88\": 1, \"27\": 1, \"96\": 1, \"84\": 1}, \"54\": {\"54\": 18, \"103\": 1, \"56\": 1}, \"27\": {\"108\": 3, \"27\": 19, \"88\": 1, \"18\": 1, \"36\": 9, \"25\": 2, \"24\": 3, \"21\": 2, \"49\": 1, \"94\": 1}, \"81\": {\"81\": 18, \"18\": 4, \"6\": 1, \"125\": 1}, \"93\": {\"93\": 28, \"87\": 1, \"96\": 3, \"82\": 1, \"16\": 5, \"119\": 1, \"88\": 4, \"18\": 1}, \"121\": {\"121\": 23, \"2\": 2, \"98\": 1, \"117\": 5, \"113\": 3}, \"88\": {\"88\": 8, \"93\": 1, \"119\": 3, \"96\": 4, \"16\": 5, \"83\": 2, \"23\": 3, \"109\": 2, \"21\": 2, \"123\": 1, \"82\": 1, \"14\": 1, \"39\": 2, \"87\": 3, \"44\": 1, \"70\": 1}, \"68\": {\"68\": 9, \"103\": 2, \"79\": 3, \"107\": 1, \"30\": 1}, \"15\": {\"59\": 1, \"15\": 26, \"97\": 2, \"58\": 2, \"9\": 3, \"49\": 1, \"94\": 3, \"51\": 1, \"6\": 1}, \"6\": {\"6\": 15, \"58\": 3, \"97\": 2, \"51\": 2, \"111\": 1, \"98\": 4, \"15\": 2, \"125\": 2, \"30\": 1}, \"10\": {\"10\": 18, \"22\": 3, \"14\": 1, \"50\": 1, \"39\": 1, \"7\": 3, \"92\": 1, \"105\": 3, \"82\": 1, \"88\": 1, \"78\": 1}, \"129\": {\"19\": 5, \"73\": 4, \"129\": 16, \"5\": 1, \"8\": 1, \"53\": 1, \"112\": 1, \"85\": 2, \"124\": 1}, \"67\": {\"31\": 1, \"80\": 1, \"67\": 7, \"21\": 1, \"88\": 2, \"126\": 1, \"64\": 1, \"55\": 2}, \"102\": {\"102\": 40}, \"80\": {\"80\": 9, \"78\": 1, \"14\": 1, \"117\": 1, \"118\": 3, \"102\": 1}, \"78\": {\"4\": 4, \"32\": 1, \"87\": 1, \"78\": 10, \"40\": 4, \"39\": 3, \"90\": 1, \"14\": 3, \"43\": 7, \"109\": 3, \"38\": 1, \"67\": 1, \"84\": 1, \"107\": 1, \"110\": 1, \"118\": 2}, \"92\": {\"118\": 1, \"76\": 1, \"89\": 11, \"92\": 13, \"18\": 1, \"62\": 1}, \"99\": {\"99\": 26, \"94\": 1, \"57\": 2, \"126\": 1, \"20\": 2}, \"2\": {\"88\": 2, \"96\": 2, \"2\": 12, \"125\": 1, \"20\": 4, \"16\": 1, \"26\": 4, \"93\": 4, \"18\": 2}, \"101\": {\"101\": 36, \"0\": 3, \"6\": 1}, \"82\": {\"82\": 29, \"84\": 2, \"102\": 4, \"67\": 1}, \"37\": {\"78\": 3, \"80\": 1, \"37\": 6, \"86\": 1, \"126\": 1, \"55\": 1, \"118\": 2, \"32\": 1}, \"109\": {\"102\": 8, \"82\": 3, \"21\": 3, \"109\": 14, \"90\": 1, \"45\": 3, \"78\": 1, \"39\": 1}, \"103\": {\"103\": 12, \"79\": 2, \"29\": 2}, \"33\": {\"33\": 33, \"11\": 1}, \"44\": {\"44\": 34}, \"118\": {\"80\": 3, \"118\": 26, \"21\": 1, \"67\": 1, \"18\": 1, \"78\": 2, \"109\": 1, \"76\": 1, \"31\": 3, \"62\": 2, \"113\": 1}, \"48\": {\"48\": 19, \"13\": 1}, \"87\": {\"87\": 13, \"84\": 2, \"90\": 2, \"33\": 10, \"37\": 1, \"122\": 1, \"21\": 4, \"116\": 4, \"96\": 1, \"1\": 1, \"121\": 1, \"102\": 2, \"14\": 1, \"27\": 1}, \"112\": {\"108\": 3, \"112\": 4, \"3\": 1, \"47\": 2, \"91\": 1, \"42\": 1, \"5\": 1, \"53\": 1, \"71\": 2}, \"111\": {\"111\": 25, \"77\": 1}, \"63\": {\"89\": 2, \"63\": 17, \"49\": 1}, \"22\": {\"22\": 16, \"61\": 3, \"62\": 1}, \"25\": {\"25\": 10, \"118\": 1, \"15\": 1, \"126\": 1, \"51\": 2, \"88\": 1}, \"51\": {\"51\": 5, \"111\": 1, \"98\": 3, \"6\": 4, \"91\": 1, \"58\": 3, \"125\": 2, \"78\": 1}, \"72\": {\"72\": 21, \"21\": 1, \"13\": 3, \"39\": 1, \"98\": 1, \"126\": 1}, \"53\": {\"53\": 13, \"124\": 1, \"5\": 2}, \"30\": {\"30\": 29, \"91\": 2, \"52\": 1, \"111\": 2, \"107\": 2, \"68\": 1, \"29\": 2, \"6\": 1}, \"107\": {\"21\": 2, \"107\": 14, \"88\": 1, \"38\": 5, \"126\": 1, \"18\": 1, \"86\": 2, \"110\": 4, \"43\": 2, \"24\": 1, \"4\": 4, \"108\": 1, \"125\": 1, \"40\": 1}, \"105\": {\"105\": 34, \"61\": 2, \"95\": 2, \"40\": 1, \"11\": 1}, \"65\": {\"65\": 17, \"113\": 1, \"120\": 1, \"17\": 1}, \"95\": {\"95\": 31, \"105\": 3, \"7\": 1, \"40\": 1}, \"113\": {\"113\": 21, \"117\": 10, \"88\": 2, \"65\": 4, \"21\": 1, \"27\": 2}, \"52\": {\"52\": 15, \"51\": 1, \"77\": 2, \"53\": 1, \"29\": 1}, \"18\": {\"18\": 37, \"26\": 3, \"2\": 3, \"87\": 1}, \"35\": {\"7\": 1, \"79\": 1, \"35\": 7, \"62\": 1, \"89\": 1, \"68\": 1}, \"96\": {\"96\": 14, \"88\": 1, \"93\": 1, \"16\": 2, \"70\": 1, \"90\": 1}, \"8\": {\"8\": 26, \"44\": 2, \"123\": 1, \"124\": 6, \"122\": 1, \"23\": 2, \"97\": 1, \"5\": 1}, \"14\": {\"14\": 18, \"21\": 1, \"107\": 1, \"18\": 1, \"34\": 2, \"16\": 1, \"70\": 2, \"43\": 2, \"80\": 2, \"45\": 1, \"84\": 1, \"110\": 1, \"90\": 1, \"78\": 1, \"11\": 1}, \"62\": {\"62\": 39, \"55\": 2, \"50\": 1}, \"79\": {\"79\": 14, \"35\": 1, \"68\": 1}, \"115\": {\"115\": 7, \"54\": 1, \"27\": 1, \"4\": 3}, \"45\": {\"80\": 1, \"102\": 1, \"45\": 10, \"123\": 1, \"21\": 1, \"116\": 2}, \"119\": {\"119\": 20}, \"39\": {\"102\": 11, \"39\": 8, \"110\": 1, \"26\": 1, \"72\": 3, \"109\": 2, \"21\": 1, \"78\": 1, \"82\": 1, \"69\": 1, \"117\": 1, \"118\": 1}, \"11\": {\"88\": 1, \"11\": 12, \"94\": 3, \"49\": 1, \"98\": 7, \"114\": 2, \"112\": 1, \"58\": 1, \"0\": 1, \"126\": 1, \"30\": 2}, \"13\": {\"13\": 6, \"81\": 3, \"98\": 1, \"116\": 1, \"42\": 1, \"102\": 1, \"57\": 1, \"21\": 1, \"72\": 1}, \"128\": {\"101\": 4, \"114\": 7, \"128\": 8, \"1\": 1, \"0\": 2, \"53\": 1, \"77\": 1}, \"124\": {\"53\": 1, \"124\": 24, \"8\": 5, \"71\": 1, \"114\": 1, \"19\": 1, \"3\": 1, \"12\": 2, \"5\": 2}, \"77\": {\"77\": 14, \"52\": 2}, \"83\": {\"100\": 2, \"83\": 23, \"44\": 1}, \"57\": {\"98\": 1, \"81\": 1, \"57\": 14, \"2\": 3, \"49\": 1}, \"69\": {\"69\": 34, \"26\": 1, \"82\": 1, \"81\": 1, \"102\": 1}, \"91\": {\"91\": 9, \"75\": 1, \"127\": 3, \"6\": 1, \"30\": 3, \"12\": 2, \"51\": 1, \"34\": 1, \"122\": 1, \"111\": 1, \"4\": 1}, \"42\": {\"21\": 2, \"42\": 11, \"108\": 6, \"129\": 1, \"126\": 1, \"87\": 1, \"112\": 1, \"45\": 1, \"97\": 2, \"49\": 1, \"5\": 1}, \"20\": {\"20\": 16}, \"9\": {\"9\": 30}}, \"Wisig_4\": {\"0\": {\"101\": 15, \"0\": 16, \"29\": 3, \"62\": 1, \"14\": 1, \"30\": 1, \"21\": 1}, \"48\": {\"48\": 16}, \"91\": {\"91\": 11, \"34\": 1, \"103\": 3, \"68\": 5, \"85\": 1, \"47\": 1, \"29\": 1, \"71\": 1}, \"49\": {\"11\": 9, \"8\": 6, \"53\": 1, \"10\": 1, \"49\": 6, \"5\": 1, \"30\": 1, \"15\": 1, \"79\": 1, \"52\": 1}, \"74\": {\"66\": 2, \"74\": 12, \"28\": 1, \"20\": 1}, \"57\": {\"57\": 9, \"13\": 2, \"84\": 2, \"25\": 1, \"83\": 1, \"51\": 1}, \"112\": {\"112\": 13, \"81\": 2, \"42\": 1}, \"106\": {\"90\": 1, \"106\": 24, \"98\": 1, \"70\": 2, \"88\": 1, \"8\": 2, \"12\": 3}, \"4\": {\"4\": 33, \"29\": 4, \"7\": 1, \"21\": 1, \"86\": 1, \"95\": 1, \"105\": 1}, \"81\": {\"81\": 24, \"65\": 2, \"18\": 3, \"39\": 2, \"21\": 2, \"117\": 1}, \"12\": {\"12\": 27, \"91\": 1, \"100\": 1, \"124\": 1, \"118\": 1, \"85\": 1, \"110\": 1, \"106\": 4, \"71\": 1, \"70\": 1, \"111\": 1}, \"82\": {\"82\": 32}, \"17\": {\"17\": 19, \"104\": 1}, \"55\": {\"55\": 16}, \"58\": {\"58\": 16}, \"93\": {\"93\": 28, \"20\": 1, \"108\": 5, \"90\": 4, \"70\": 1, \"43\": 1}, \"50\": {\"50\": 16}, \"6\": {\"58\": 3, \"6\": 10, \"15\": 3, \"51\": 1, \"75\": 1, \"34\": 2, \"94\": 1, \"91\": 1, \"30\": 1, \"98\": 1}, \"90\": {\"90\": 37, \"66\": 1, \"74\": 1, \"43\": 1}, \"99\": {\"74\": 1, \"99\": 27, \"96\": 1, \"43\": 3, \"45\": 1, \"122\": 3, \"84\": 1, \"107\": 1}, \"24\": {\"24\": 16, \"88\": 1, \"36\": 11, \"97\": 2, \"8\": 1, \"125\": 1, \"94\": 3, \"54\": 1, \"112\": 2, \"83\": 1, \"70\": 1, \"9\": 1, \"15\": 1}, \"77\": {\"77\": 12}, \"41\": {\"12\": 2, \"41\": 13, \"18\": 1}, \"120\": {\"120\": 19, \"22\": 1}, \"27\": {\"42\": 1, \"27\": 18, \"60\": 2, \"88\": 1, \"53\": 3, \"70\": 4, \"9\": 6, \"21\": 1, \"24\": 2}, \"53\": {\"53\": 11, \"52\": 3, \"111\": 2}, \"101\": {\"32\": 1, \"55\": 1, \"101\": 29, \"89\": 1, \"21\": 1, \"0\": 3, \"86\": 1, \"7\": 1}, \"28\": {\"28\": 20}, \"38\": {\"38\": 16}, \"42\": {\"42\": 17, \"112\": 1, \"83\": 1, \"70\": 2, \"5\": 3, \"27\": 2, \"53\": 1, \"8\": 1}, \"96\": {\"96\": 14, \"84\": 2, \"78\": 1, \"45\": 3}, \"34\": {\"32\": 1, \"78\": 2, \"6\": 3, \"75\": 1, \"72\": 3, \"34\": 7, \"128\": 1, \"125\": 2, \"105\": 1, \"14\": 2, \"89\": 3, \"68\": 1, \"52\": 1, \"47\": 1, \"4\": 2, \"1\": 1}, \"44\": {\"44\": 34, \"38\": 2, \"46\": 1, \"33\": 1}, \"113\": {\"113\": 19, \"110\": 1, \"121\": 3, \"39\": 5, \"63\": 5, \"84\": 1, \"21\": 1, \"126\": 3, \"23\": 1, \"67\": 1}, \"54\": {\"54\": 16}, \"84\": {\"84\": 39, \"81\": 1, \"21\": 1, \"102\": 1, \"45\": 2, \"122\": 1, \"67\": 3}, \"66\": {\"66\": 15, \"43\": 1}, \"21\": {\"21\": 35, \"90\": 1, \"126\": 1, \"78\": 1, \"23\": 2}, \"127\": {\"127\": 31, \"95\": 3, \"29\": 2, \"34\": 1, \"86\": 2, \"4\": 1}, \"62\": {\"76\": 5, \"62\": 25, \"104\": 1, \"23\": 1, \"21\": 2, \"110\": 1, \"118\": 5, \"69\": 2, \"90\": 1, \"126\": 1}, \"67\": {\"76\": 1, \"113\": 3, \"69\": 3, \"123\": 3, \"126\": 2, \"67\": 2, \"118\": 1, \"64\": 1}, \"11\": {\"11\": 20, \"108\": 2, \"23\": 1, \"83\": 2, \"3\": 2, \"5\": 1, \"44\": 1, \"88\": 1, \"70\": 3, \"1\": 1, \"46\": 1, \"114\": 1}, \"19\": {\"111\": 1, \"0\": 1, \"128\": 1, \"52\": 3, \"19\": 5, \"129\": 2, \"72\": 3, \"5\": 4, \"93\": 5, \"60\": 1, \"71\": 1, \"30\": 1}, \"111\": {\"53\": 2, \"91\": 1, \"111\": 25, \"86\": 1, \"8\": 1, \"30\": 2}, \"32\": {\"32\": 11, \"89\": 3, \"55\": 1, \"22\": 2, \"82\": 3, \"69\": 4, \"115\": 1, \"31\": 1, \"109\": 1, \"120\": 1}, \"16\": {\"16\": 38, \"21\": 1, \"78\": 1}, \"20\": {\"20\": 12, \"76\": 1, \"108\": 2, \"11\": 1}, \"86\": {\"86\": 21, \"29\": 3, \"21\": 1, \"4\": 2, \"23\": 1}, \"76\": {\"76\": 16}, \"8\": {\"111\": 5, \"8\": 20, \"100\": 1, \"15\": 1, \"49\": 3, \"70\": 2, \"124\": 4, \"27\": 1, \"119\": 1, \"60\": 1, \"19\": 1}, \"10\": {\"8\": 1, \"58\": 1, \"57\": 1, \"108\": 2, \"15\": 12, \"6\": 1, \"10\": 9, \"27\": 1, \"78\": 1, \"30\": 4, \"88\": 2, \"70\": 1, \"52\": 1, \"42\": 1, \"111\": 1, \"94\": 1, \"1\": 1, \"98\": 1}, \"119\": {\"119\": 15, \"129\": 1}, \"78\": {\"120\": 1, \"39\": 2, \"89\": 1, \"56\": 1, \"128\": 1, \"99\": 2, \"96\": 2, \"78\": 4, \"72\": 1, \"126\": 3, \"107\": 1, \"21\": 3, \"122\": 2, \"33\": 2, \"110\": 1, \"32\": 1, \"23\": 1, \"87\": 1, \"0\": 1, \"43\": 1}, \"97\": {\"97\": 7, \"36\": 3, \"94\": 2, \"73\": 1, \"53\": 1, \"24\": 2, \"42\": 1, \"54\": 1, \"10\": 1, \"9\": 1}, \"128\": {\"111\": 2, \"3\": 7, \"95\": 2, \"128\": 6, \"71\": 1, \"72\": 2, \"127\": 1, \"86\": 1, \"115\": 1, \"4\": 1}, \"39\": {\"81\": 4, \"39\": 16, \"117\": 2, \"18\": 1, \"126\": 3, \"121\": 2}, \"1\": {\"21\": 2, \"111\": 1, \"72\": 2, \"71\": 4, \"1\": 17, \"3\": 3, \"36\": 1}, \"95\": {\"127\": 2, \"128\": 1, \"95\": 25, \"86\": 2, \"4\": 1, \"78\": 1}, \"47\": {\"47\": 12}, \"45\": {\"45\": 16}, \"110\": {\"110\": 26, \"60\": 1, \"122\": 1, \"43\": 3, \"94\": 1, \"90\": 2, \"78\": 1, \"25\": 1, \"66\": 2}, \"89\": {\"56\": 3, \"89\": 24, \"37\": 1, \"82\": 3, \"35\": 1}, \"60\": {\"60\": 10, \"74\": 4, \"8\": 1, \"90\": 1, \"11\": 2, \"71\": 1, \"100\": 2, \"28\": 1, \"46\": 1, \"38\": 2, \"124\": 3, \"78\": 1, \"44\": 1, \"111\": 1, \"19\": 1}, \"73\": {\"77\": 1, \"73\": 13, \"5\": 7, \"80\": 1, \"49\": 2}, \"102\": {\"102\": 34, \"43\": 2, \"84\": 2}, \"75\": {\"75\": 16}, \"18\": {\"18\": 34, \"110\": 1, \"122\": 1}, \"52\": {\"52\": 11, \"124\": 3, \"12\": 2, \"91\": 1, \"70\": 1, \"103\": 2}, \"65\": {\"65\": 12}, \"23\": {\"21\": 3, \"23\": 1, \"103\": 2, \"57\": 1, \"2\": 1, \"78\": 1, \"108\": 1, \"113\": 1, \"91\": 1, \"126\": 1, \"88\": 1, \"58\": 1, \"52\": 1}, \"59\": {\"59\": 9, \"6\": 1, \"94\": 1, \"125\": 1}, \"30\": {\"23\": 2, \"30\": 11, \"0\": 3, \"60\": 3, \"100\": 1, \"10\": 6, \"111\": 2, \"6\": 1, \"8\": 1, \"91\": 2, \"12\": 3, \"110\": 1, \"21\": 2, \"15\": 1, \"27\": 1}, \"124\": {\"124\": 27, \"88\": 1, \"8\": 3, \"60\": 2, \"49\": 1, \"12\": 2, \"51\": 1, \"71\": 1, \"19\": 1, \"73\": 1}, \"121\": {\"121\": 24, \"113\": 3, \"39\": 1, \"67\": 2}, \"116\": {\"44\": 6, \"45\": 1, \"50\": 1, \"13\": 1, \"116\": 9, \"102\": 4, \"33\": 1, \"90\": 1, \"99\": 1, \"96\": 1}, \"109\": {\"109\": 20, \"45\": 1, \"69\": 3, \"32\": 1, \"22\": 2, \"16\": 2, \"96\": 1, \"118\": 3, \"39\": 1}, \"15\": {\"58\": 1, \"15\": 27, \"6\": 1, \"73\": 1, \"8\": 2, \"94\": 2, \"10\": 2, \"70\": 1, \"52\": 1, \"30\": 2}, \"7\": {\"7\": 27, \"86\": 1, \"0\": 1, \"29\": 1}, \"100\": {\"100\": 13, \"78\": 1, \"3\": 2, \"60\": 2, \"19\": 1, \"52\": 1}, \"36\": {\"97\": 3, \"24\": 9, \"27\": 1, \"36\": 20, \"25\": 1}, \"94\": {\"97\": 1, \"59\": 3, \"94\": 27, \"110\": 2, \"125\": 3, \"24\": 1, \"10\": 1, \"52\": 1, \"36\": 2, \"15\": 1}, \"87\": {\"116\": 1, \"87\": 14, \"107\": 5, \"105\": 4, \"99\": 2, \"21\": 1, \"43\": 1}, \"40\": {\"40\": 30, \"107\": 4, \"23\": 1, \"120\": 1}, \"56\": {\"7\": 2, \"56\": 6, \"86\": 1, \"55\": 2, \"105\": 1}, \"29\": {\"29\": 31, \"127\": 1}, \"51\": {\"110\": 1, \"58\": 3, \"9\": 1, \"6\": 1, \"51\": 3, \"103\": 1, \"30\": 1, \"125\": 2, \"111\": 1, \"27\": 1, \"98\": 1}, \"3\": {\"3\": 27, \"128\": 1, \"71\": 5, \"39\": 1, \"124\": 1, \"114\": 1, \"46\": 3, \"90\": 1, \"72\": 1, \"1\": 1}, \"129\": {\"129\": 11, \"119\": 2, \"128\": 1, \"8\": 2, \"1\": 1, \"70\": 1, \"100\": 2, \"46\": 1, \"111\": 1, \"5\": 2, \"93\": 1, \"19\": 2, \"30\": 1}, \"2\": {\"84\": 1, \"117\": 1, \"2\": 9, \"61\": 1, \"80\": 1, \"78\": 1, \"18\": 2, \"26\": 5, \"93\": 4, \"108\": 1, \"67\": 1, \"43\": 1}, \"5\": {\"5\": 36, \"73\": 1, \"23\": 1, \"27\": 1, \"70\": 1}, \"9\": {\"9\": 28}, \"115\": {\"50\": 5, \"115\": 4, \"120\": 2, \"43\": 2, \"40\": 1, \"107\": 2}, \"92\": {\"92\": 23, \"69\": 3}, \"13\": {\"13\": 15, \"57\": 1}, \"22\": {\"22\": 12, \"17\": 1, \"89\": 2, \"32\": 1}, \"72\": {\"72\": 20, \"120\": 2, \"19\": 2, \"71\": 2, \"60\": 1, \"110\": 1, \"128\": 2, \"95\": 1, \"76\": 1}, \"117\": {\"117\": 34, \"18\": 2}, \"25\": {\"25\": 15, \"15\": 1}, \"123\": {\"123\": 16}, \"85\": {\"34\": 1, \"85\": 23, \"41\": 1, \"51\": 1, \"75\": 1, \"111\": 1}, \"108\": {\"108\": 10, \"73\": 3, \"85\": 1, \"11\": 1, \"5\": 8, \"88\": 5, \"8\": 2, \"39\": 1, \"123\": 1, \"93\": 2, \"23\": 1, \"100\": 1, \"126\": 1, \"70\": 1, \"124\": 1, \"3\": 1}, \"64\": {\"64\": 16}, \"83\": {\"83\": 21, \"32\": 1, \"42\": 2, \"49\": 2, \"112\": 2}, \"37\": {\"37\": 10, \"4\": 1, \"86\": 1, \"36\": 1, \"25\": 1, \"56\": 1, \"89\": 1}, \"98\": {\"98\": 29, \"38\": 1}, \"103\": {\"103\": 14, \"52\": 2}, \"125\": {\"125\": 27, \"98\": 3, \"94\": 1, \"51\": 1, \"6\": 2}, \"88\": {\"23\": 2, \"88\": 9, \"108\": 4, \"78\": 3, \"60\": 1, \"70\": 9, \"49\": 4, \"124\": 2, \"42\": 1, \"5\": 1}, \"122\": {\"122\": 16, \"107\": 1, \"23\": 1, \"105\": 1, \"99\": 11, \"102\": 4, \"45\": 1, \"43\": 3, \"66\": 1, \"21\": 1}, \"61\": {\"61\": 13, \"35\": 1, \"26\": 2}, \"69\": {\"69\": 39, \"21\": 1, \"78\": 1, \"118\": 5}, \"104\": {\"104\": 16}, \"70\": {\"93\": 2, \"70\": 5, \"23\": 2, \"108\": 3, \"88\": 6, \"42\": 2, \"78\": 1, \"129\": 4, \"124\": 4, \"10\": 1, \"73\": 5, \"49\": 1, \"8\": 1, \"11\": 1, \"119\": 1, \"114\": 1}, \"68\": {\"68\": 15, \"91\": 1}, \"46\": {\"46\": 17, \"114\": 2, \"23\": 1}, \"107\": {\"107\": 30, \"105\": 1, \"87\": 1}, \"26\": {\"26\": 37, \"84\": 1, \"35\": 1, \"81\": 1}, \"33\": {\"33\": 37, \"43\": 3, \"21\": 1, \"88\": 1}, \"35\": {\"26\": 2, \"35\": 7, \"61\": 2, \"21\": 1}, \"118\": {\"69\": 5, \"31\": 1, \"76\": 1, \"32\": 1, \"78\": 1, \"118\": 25, \"113\": 1, \"126\": 1, \"62\": 1, \"109\": 1}, \"80\": {\"80\": 13, \"6\": 1, \"20\": 2}, \"105\": {\"115\": 2, \"105\": 27, \"21\": 1, \"107\": 2, \"89\": 1, \"40\": 1, \"87\": 2}, \"71\": {\"114\": 9, \"71\": 28, \"21\": 1, \"46\": 2}, \"43\": {\"115\": 2, \"90\": 1, \"33\": 4, \"107\": 7, \"43\": 7, \"122\": 3, \"20\": 1, \"110\": 2, \"87\": 1}, \"63\": {\"63\": 16}, \"31\": {\"31\": 15, \"69\": 1}, \"114\": {\"114\": 27, \"128\": 1, \"1\": 1, \"3\": 2, \"46\": 1, \"71\": 4}, \"14\": {\"14\": 30}, \"79\": {\"79\": 15, \"5\": 1}, \"126\": {\"126\": 16, \"81\": 3, \"93\": 1, \"113\": 3, \"123\": 1, \"39\": 2}}}, \"per_domain_accuracy\": {\"CORES_4\": {\"accuracy\": 0.9978448275862069, \"source?\": true}, \"CORES_5\": {\"accuracy\": 0.996551724137931, \"source?\": true}, \"CORES_2\": {\"accuracy\": 0.9991379310344828, \"source?\": true}, \"CORES_1\": {\"accuracy\": 0.9985632183908046, \"source?\": true}, \"CORES_3\": {\"accuracy\": 0.9956896551724138, \"source?\": true}, \"Wisig_3\": {\"accuracy\": 0.7416487068965517, \"source?\": false}, \"Wisig_1\": {\"accuracy\": 0.7521551724137931, \"source?\": false}, \"Wisig_2\": {\"accuracy\": 0.6643155694879833, \"source?\": false}, \"Wisig_4\": {\"accuracy\": 0.6768631813125695, \"source?\": false}}}, \"history\": {\"epoch_indices\": [1, 2, 3], \"train_label_loss\": [0.3205345372876359, 0.01219433832262242, 0.01864391551034222], \"source_val_label_loss\": [0.01797144114971161, 0.010479690507054329, 0.010974705219268799], \"target_val_label_loss\": [1.787440538406372, 2.8712656497955322, 3.5632128715515137], \"source_val_acc_label\": [0.9976652298850575, 0.9971264367816092, 0.9971264367816092], \"target_val_acc_label\": [0.7086476293103449, 0.6839304956896551, 0.6891837284482759]}, \"dataset_metrics\": {\"source\": {\"train\": {\"n_unique_x\": 75777, \"n_unique_y\": 58, \"n_batch/episode\": 351}, \"val\": {\"n_unique_x\": 11845, \"n_unique_y\": 58, \"n_batch/episode\": 48}, \"test\": {\"n_unique_x\": 12318, \"n_unique_y\": 58, \"n_batch/episode\": 50}}, \"target\": {\"train\": {\"n_unique_x\": 139984, \"n_unique_y\": 130, \"n_batch/episode\": 905}, \"val\": {\"n_unique_x\": 25956, \"n_unique_y\": 130, \"n_batch/episode\": 128}, \"test\": {\"n_unique_x\": 26910, \"n_unique_y\": 130, \"n_batch/episode\": 134}}}}'"
      ]
     },
     "execution_count": 29,
     "metadata": {},
     "output_type": "execute_result"
    }
   ],
   "source": [
    "json.dumps(experiment)"
   ]
  }
 ],
 "metadata": {
  "celltoolbar": "Tags",
  "kernelspec": {
   "display_name": "Python 3 (ipykernel)",
   "language": "python",
   "name": "python3"
  },
  "language_info": {
   "codemirror_mode": {
    "name": "ipython",
    "version": 3
   },
   "file_extension": ".py",
   "mimetype": "text/x-python",
   "name": "python",
   "nbconvert_exporter": "python",
   "pygments_lexer": "ipython3",
   "version": "3.8.12"
  },
  "papermill": {
   "default_parameters": {},
   "duration": 259.733062,
   "end_time": "2022-03-21T04:03:31.150971",
   "environment_variables": {},
   "exception": null,
   "input_path": "/root/csc500-main/csc500-notebooks/templates/tl_ptn_template.ipynb",
   "output_path": "trial.ipynb",
   "parameters": {
    "parameters": {
     "BEST_MODEL_PATH": "./best_model.pth",
     "NUM_LOGS_PER_EPOCH": 10,
     "criteria_for_best": "target_accuracy",
     "dataset_seed": 500,
     "datasets": [
      {
       "domain_prefix": "CORES_",
       "domains": [
        1,
        2,
        3,
        4,
        5
       ],
       "episode_transforms": [],
       "labels": [
        "1-10.",
        "1-11.",
        "1-15.",
        "1-16.",
        "1-17.",
        "1-18.",
        "1-19.",
        "10-4.",
        "10-7.",
        "11-1.",
        "11-14.",
        "11-17.",
        "11-20.",
        "11-7.",
        "13-20.",
        "13-8.",
        "14-10.",
        "14-11.",
        "14-14.",
        "14-7.",
        "15-1.",
        "15-20.",
        "16-1.",
        "16-16.",
        "17-10.",
        "17-11.",
        "17-2.",
        "19-1.",
        "19-16.",
        "19-19.",
        "19-20.",
        "19-3.",
        "2-10.",
        "2-11.",
        "2-17.",
        "2-18.",
        "2-20.",
        "2-3.",
        "2-4.",
        "2-5.",
        "2-6.",
        "2-7.",
        "2-8.",
        "3-13.",
        "3-18.",
        "3-3.",
        "4-1.",
        "4-10.",
        "4-11.",
        "4-19.",
        "5-5.",
        "6-15.",
        "7-10.",
        "7-14.",
        "8-18.",
        "8-20.",
        "8-3.",
        "8-8."
       ],
       "num_examples_per_domain_per_label": -1,
       "pickle_path": "/root/csc500-main/datasets/cores.stratified_ds.2022A.pkl",
       "source_or_target_dataset": "source",
       "x_transforms": [
        "unit_power"
       ]
      },
      {
       "domain_prefix": "Wisig_",
       "domains": [
        1,
        2,
        3,
        4
       ],
       "episode_transforms": [],
       "labels": [
        "1-10",
        "1-12",
        "1-14",
        "1-16",
        "1-18",
        "1-19",
        "1-8",
        "10-11",
        "10-17",
        "10-4",
        "10-7",
        "11-1",
        "11-10",
        "11-19",
        "11-20",
        "11-4",
        "11-7",
        "12-19",
        "12-20",
        "12-7",
        "13-14",
        "13-18",
        "13-19",
        "13-20",
        "13-3",
        "13-7",
        "14-10",
        "14-11",
        "14-12",
        "14-13",
        "14-14",
        "14-19",
        "14-20",
        "14-7",
        "14-8",
        "14-9",
        "15-1",
        "15-19",
        "15-6",
        "16-1",
        "16-16",
        "16-19",
        "16-20",
        "17-10",
        "17-11",
        "18-1",
        "18-10",
        "18-11",
        "18-12",
        "18-13",
        "18-14",
        "18-15",
        "18-16",
        "18-17",
        "18-19",
        "18-2",
        "18-20",
        "18-4",
        "18-5",
        "18-7",
        "18-8",
        "18-9",
        "19-1",
        "19-10",
        "19-11",
        "19-12",
        "19-13",
        "19-14",
        "19-15",
        "19-19",
        "19-2",
        "19-20",
        "19-3",
        "19-4",
        "19-6",
        "19-7",
        "19-8",
        "19-9",
        "2-1",
        "2-13",
        "2-15",
        "2-3",
        "2-4",
        "2-5",
        "2-6",
        "2-7",
        "2-8",
        "20-1",
        "20-12",
        "20-14",
        "20-15",
        "20-16",
        "20-18",
        "20-19",
        "20-20",
        "20-3",
        "20-4",
        "20-5",
        "20-7",
        "20-8",
        "3-1",
        "3-13",
        "3-18",
        "3-2",
        "3-8",
        "4-1",
        "4-10",
        "4-11",
        "5-1",
        "5-5",
        "6-1",
        "6-15",
        "6-6",
        "7-10",
        "7-11",
        "7-12",
        "7-13",
        "7-14",
        "7-7",
        "7-8",
        "7-9",
        "8-1",
        "8-13",
        "8-14",
        "8-18",
        "8-20",
        "8-3",
        "8-8",
        "9-1",
        "9-7"
       ],
       "num_examples_per_domain_per_label": -1,
       "pickle_path": "/root/csc500-main/datasets/wisig.node3-19.stratified_ds.2022A.pkl",
       "source_or_target_dataset": "target",
       "x_transforms": [
        "unit_power"
       ]
      }
     ],
     "device": "cuda",
     "experiment_name": "tl_1v2:cores-wisig",
     "lr": 0.0001,
     "n_epoch": 3,
     "n_query": 2,
     "n_shot": 3,
     "n_way": 58,
     "patience": 3,
     "seed": 500,
     "test_k_factor": 2,
     "torch_default_dtype": "torch.float32",
     "train_k_factor": 3,
     "val_k_factor": 2,
     "x_net": [
      {
       "class": "nnReshape",
       "kargs": {
        "shape": [
         -1,
         1,
         2,
         256
        ]
       }
      },
      {
       "class": "Conv2d",
       "kargs": {
        "bias": false,
        "in_channels": 1,
        "kernel_size": [
         1,
         7
        ],
        "out_channels": 256,
        "padding": [
         0,
         3
        ]
       }
      },
      {
       "class": "ReLU",
       "kargs": {
        "inplace": true
       }
      },
      {
       "class": "BatchNorm2d",
       "kargs": {
        "num_features": 256
       }
      },
      {
       "class": "Conv2d",
       "kargs": {
        "bias": true,
        "in_channels": 256,
        "kernel_size": [
         2,
         7
        ],
        "out_channels": 80,
        "padding": [
         0,
         3
        ]
       }
      },
      {
       "class": "ReLU",
       "kargs": {
        "inplace": true
       }
      },
      {
       "class": "BatchNorm2d",
       "kargs": {
        "num_features": 80
       }
      },
      {
       "class": "Flatten",
       "kargs": {}
      },
      {
       "class": "Linear",
       "kargs": {
        "in_features": 20480,
        "out_features": 256
       }
      },
      {
       "class": "ReLU",
       "kargs": {
        "inplace": true
       }
      },
      {
       "class": "BatchNorm1d",
       "kargs": {
        "num_features": 256
       }
      },
      {
       "class": "Linear",
       "kargs": {
        "in_features": 256,
        "out_features": 256
       }
      }
     ]
    }
   },
   "start_time": "2022-03-21T03:59:11.417909",
   "version": "2.3.4"
  }
 },
 "nbformat": 4,
 "nbformat_minor": 5
}