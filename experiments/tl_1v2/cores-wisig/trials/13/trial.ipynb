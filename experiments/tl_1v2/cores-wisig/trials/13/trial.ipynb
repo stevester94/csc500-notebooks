{
 "cells": [
  {
   "cell_type": "markdown",
   "id": "9fea5f46",
   "metadata": {
    "papermill": {
     "duration": 0.025311,
     "end_time": "2022-03-21T03:05:12.497035",
     "exception": false,
     "start_time": "2022-03-21T03:05:12.471724",
     "status": "completed"
    },
    "tags": []
   },
   "source": [
    "# Transfer Learning Template"
   ]
  },
  {
   "cell_type": "code",
   "execution_count": 1,
   "id": "0902182a",
   "metadata": {
    "execution": {
     "iopub.execute_input": "2022-03-21T03:05:12.556103Z",
     "iopub.status.busy": "2022-03-21T03:05:12.554919Z",
     "iopub.status.idle": "2022-03-21T03:05:14.425214Z",
     "shell.execute_reply": "2022-03-21T03:05:14.425906Z"
    },
    "papermill": {
     "duration": 1.909552,
     "end_time": "2022-03-21T03:05:14.426240",
     "exception": false,
     "start_time": "2022-03-21T03:05:12.516688",
     "status": "completed"
    },
    "tags": []
   },
   "outputs": [],
   "source": [
    "%load_ext autoreload\n",
    "%autoreload 2\n",
    "%matplotlib inline\n",
    "\n",
    "    \n",
    "import os, json, sys, time, random\n",
    "import numpy as np\n",
    "import torch\n",
    "from torch.optim import Adam\n",
    "from  easydict import EasyDict\n",
    "import matplotlib.pyplot as plt\n",
    "\n",
    "from steves_models.steves_ptn import Steves_Prototypical_Network\n",
    "\n",
    "from steves_utils.lazy_iterable_wrapper import Lazy_Iterable_Wrapper\n",
    "from steves_utils.iterable_aggregator import Iterable_Aggregator\n",
    "from steves_utils.ptn_train_eval_test_jig import  PTN_Train_Eval_Test_Jig\n",
    "from steves_utils.torch_sequential_builder import build_sequential\n",
    "from steves_utils.torch_utils import get_dataset_metrics, ptn_confusion_by_domain_over_dataloader\n",
    "from steves_utils.utils_v2 import (per_domain_accuracy_from_confusion, get_datasets_base_path)\n",
    "from steves_utils.PTN.utils import independent_accuracy_assesment\n",
    "\n",
    "from torch.utils.data import DataLoader\n",
    "\n",
    "from steves_utils.stratified_dataset.episodic_accessor import Episodic_Accessor_Factory\n",
    "\n",
    "from steves_utils.ptn_do_report import (\n",
    "    get_loss_curve,\n",
    "    get_results_table,\n",
    "    get_parameters_table,\n",
    "    get_domain_accuracies,\n",
    ")\n",
    "\n",
    "from steves_utils.transforms import get_chained_transform"
   ]
  },
  {
   "cell_type": "markdown",
   "id": "41c840b4",
   "metadata": {
    "papermill": {
     "duration": 0.020347,
     "end_time": "2022-03-21T03:05:14.472702",
     "exception": false,
     "start_time": "2022-03-21T03:05:14.452355",
     "status": "completed"
    },
    "tags": []
   },
   "source": [
    "# Allowed Parameters\n",
    "These are allowed parameters, not defaults\n",
    "Each of these values need to be present in the injected parameters (the notebook will raise an exception if they are not present)\n",
    "\n",
    "Papermill uses the cell tag \"parameters\" to inject the real parameters below this cell.\n",
    "Enable tags to see what I mean"
   ]
  },
  {
   "cell_type": "code",
   "execution_count": 2,
   "id": "fd44eb83",
   "metadata": {
    "execution": {
     "iopub.execute_input": "2022-03-21T03:05:14.519099Z",
     "iopub.status.busy": "2022-03-21T03:05:14.518413Z",
     "iopub.status.idle": "2022-03-21T03:05:14.542502Z",
     "shell.execute_reply": "2022-03-21T03:05:14.541625Z"
    },
    "papermill": {
     "duration": 0.049524,
     "end_time": "2022-03-21T03:05:14.542683",
     "exception": false,
     "start_time": "2022-03-21T03:05:14.493159",
     "status": "completed"
    },
    "tags": []
   },
   "outputs": [],
   "source": [
    "required_parameters = {\n",
    "    \"experiment_name\",\n",
    "    \"lr\",\n",
    "    \"device\",\n",
    "    \"seed\",\n",
    "    \"dataset_seed\",\n",
    "    \"n_shot\",\n",
    "    \"n_query\",\n",
    "    \"n_way\",\n",
    "    \"train_k_factor\",\n",
    "    \"val_k_factor\",\n",
    "    \"test_k_factor\",\n",
    "    \"n_epoch\",\n",
    "    \"patience\",\n",
    "    \"criteria_for_best\",\n",
    "    \"x_net\",\n",
    "    \"datasets\",\n",
    "    \"torch_default_dtype\",\n",
    "    \"NUM_LOGS_PER_EPOCH\",\n",
    "    \"BEST_MODEL_PATH\",\n",
    "    \"x_shape\",\n",
    "}"
   ]
  },
  {
   "cell_type": "code",
   "execution_count": 3,
   "id": "fa3f0049",
   "metadata": {
    "execution": {
     "iopub.execute_input": "2022-03-21T03:05:14.603499Z",
     "iopub.status.busy": "2022-03-21T03:05:14.602578Z",
     "iopub.status.idle": "2022-03-21T03:05:14.624487Z",
     "shell.execute_reply": "2022-03-21T03:05:14.625183Z"
    },
    "papermill": {
     "duration": 0.055961,
     "end_time": "2022-03-21T03:05:14.625407",
     "exception": false,
     "start_time": "2022-03-21T03:05:14.569446",
     "status": "completed"
    },
    "tags": [
     "parameters"
    ]
   },
   "outputs": [],
   "source": [
    "from steves_utils.CORES.utils import (\n",
    "    ALL_NODES,\n",
    "    ALL_NODES_MINIMUM_1000_EXAMPLES,\n",
    "    ALL_DAYS\n",
    ")\n",
    "\n",
    "from steves_utils.ORACLE.utils_v2 import (\n",
    "    ALL_DISTANCES_FEET_NARROWED,\n",
    "    ALL_RUNS,\n",
    "    ALL_SERIAL_NUMBERS,\n",
    ")\n",
    "\n",
    "standalone_parameters = {}\n",
    "standalone_parameters[\"experiment_name\"] = \"STANDALONE PTN\"\n",
    "standalone_parameters[\"lr\"] = 0.001\n",
    "standalone_parameters[\"device\"] = \"cuda\"\n",
    "\n",
    "standalone_parameters[\"seed\"] = 1337\n",
    "standalone_parameters[\"dataset_seed\"] = 1337\n",
    "\n",
    "standalone_parameters[\"n_way\"] = 8\n",
    "standalone_parameters[\"n_shot\"] = 3\n",
    "standalone_parameters[\"n_query\"]  = 2\n",
    "standalone_parameters[\"train_k_factor\"] = 1\n",
    "standalone_parameters[\"val_k_factor\"] = 2\n",
    "standalone_parameters[\"test_k_factor\"] = 2\n",
    "\n",
    "\n",
    "standalone_parameters[\"n_epoch\"] = 50\n",
    "\n",
    "standalone_parameters[\"patience\"] = 10\n",
    "standalone_parameters[\"criteria_for_best\"] = \"source_loss\"\n",
    "\n",
    "standalone_parameters[\"datasets\"] = [\n",
    "    {\n",
    "        \"labels\": ALL_SERIAL_NUMBERS,\n",
    "        \"domains\": ALL_DISTANCES_FEET_NARROWED,\n",
    "        \"num_examples_per_domain_per_label\": 100,\n",
    "        \"pickle_path\": os.path.join(get_datasets_base_path(), \"oracle.Run1_framed_2000Examples_stratified_ds.2022A.pkl\"),\n",
    "        \"source_or_target_dataset\": \"source\",\n",
    "        \"x_transforms\": [\"unit_mag\", \"minus_two\"],\n",
    "        \"episode_transforms\": [],\n",
    "        \"domain_prefix\": \"ORACLE_\"\n",
    "    },\n",
    "    {\n",
    "        \"labels\": ALL_NODES,\n",
    "        \"domains\": ALL_DAYS,\n",
    "        \"num_examples_per_domain_per_label\": 100,\n",
    "        \"pickle_path\": os.path.join(get_datasets_base_path(), \"cores.stratified_ds.2022A.pkl\"),\n",
    "        \"source_or_target_dataset\": \"target\",\n",
    "        \"x_transforms\": [\"unit_power\", \"times_zero\"],\n",
    "        \"episode_transforms\": [],\n",
    "        \"domain_prefix\": \"CORES_\"\n",
    "    }   \n",
    "]\n",
    "\n",
    "standalone_parameters[\"torch_default_dtype\"] = \"torch.float32\" \n",
    "\n",
    "\n",
    "\n",
    "standalone_parameters[\"x_net\"] =     [\n",
    "    {\"class\": \"nnReshape\", \"kargs\": {\"shape\":[-1, 1, 2, 256]}},\n",
    "    {\"class\": \"Conv2d\", \"kargs\": { \"in_channels\":1, \"out_channels\":256, \"kernel_size\":(1,7), \"bias\":False, \"padding\":(0,3), },},\n",
    "    {\"class\": \"ReLU\", \"kargs\": {\"inplace\": True}},\n",
    "    {\"class\": \"BatchNorm2d\", \"kargs\": {\"num_features\":256}},\n",
    "\n",
    "    {\"class\": \"Conv2d\", \"kargs\": { \"in_channels\":256, \"out_channels\":80, \"kernel_size\":(2,7), \"bias\":True, \"padding\":(0,3), },},\n",
    "    {\"class\": \"ReLU\", \"kargs\": {\"inplace\": True}},\n",
    "    {\"class\": \"BatchNorm2d\", \"kargs\": {\"num_features\":80}},\n",
    "    {\"class\": \"Flatten\", \"kargs\": {}},\n",
    "\n",
    "    {\"class\": \"Linear\", \"kargs\": {\"in_features\": 80*256, \"out_features\": 256}}, # 80 units per IQ pair\n",
    "    {\"class\": \"ReLU\", \"kargs\": {\"inplace\": True}},\n",
    "    {\"class\": \"BatchNorm1d\", \"kargs\": {\"num_features\":256}},\n",
    "\n",
    "    {\"class\": \"Linear\", \"kargs\": {\"in_features\": 256, \"out_features\": 256}},\n",
    "]\n",
    "\n",
    "# Parameters relevant to results\n",
    "# These parameters will basically never need to change\n",
    "standalone_parameters[\"NUM_LOGS_PER_EPOCH\"] = 10\n",
    "standalone_parameters[\"BEST_MODEL_PATH\"] = \"./best_model.pth\"\n",
    "\n",
    "\n",
    "\n",
    "\n"
   ]
  },
  {
   "cell_type": "code",
   "execution_count": 4,
   "id": "be795d5d",
   "metadata": {
    "execution": {
     "iopub.execute_input": "2022-03-21T03:05:14.691253Z",
     "iopub.status.busy": "2022-03-21T03:05:14.675509Z",
     "iopub.status.idle": "2022-03-21T03:05:14.713863Z",
     "shell.execute_reply": "2022-03-21T03:05:14.713082Z"
    },
    "papermill": {
     "duration": 0.062144,
     "end_time": "2022-03-21T03:05:14.714049",
     "exception": false,
     "start_time": "2022-03-21T03:05:14.651905",
     "status": "completed"
    },
    "tags": [
     "injected-parameters"
    ]
   },
   "outputs": [],
   "source": [
    "# Parameters\n",
    "parameters = {\n",
    "    \"experiment_name\": \"tl_1v2:cores-wisig\",\n",
    "    \"device\": \"cuda\",\n",
    "    \"lr\": 0.0001,\n",
    "    \"n_shot\": 3,\n",
    "    \"n_query\": 2,\n",
    "    \"train_k_factor\": 3,\n",
    "    \"val_k_factor\": 2,\n",
    "    \"test_k_factor\": 2,\n",
    "    \"torch_default_dtype\": \"torch.float32\",\n",
    "    \"n_epoch\": 3,\n",
    "    \"patience\": 3,\n",
    "    \"criteria_for_best\": \"target_accuracy\",\n",
    "    \"x_net\": [\n",
    "        {\"class\": \"nnReshape\", \"kargs\": {\"shape\": [-1, 1, 2, 256]}},\n",
    "        {\n",
    "            \"class\": \"Conv2d\",\n",
    "            \"kargs\": {\n",
    "                \"in_channels\": 1,\n",
    "                \"out_channels\": 256,\n",
    "                \"kernel_size\": [1, 7],\n",
    "                \"bias\": False,\n",
    "                \"padding\": [0, 3],\n",
    "            },\n",
    "        },\n",
    "        {\"class\": \"ReLU\", \"kargs\": {\"inplace\": True}},\n",
    "        {\"class\": \"BatchNorm2d\", \"kargs\": {\"num_features\": 256}},\n",
    "        {\n",
    "            \"class\": \"Conv2d\",\n",
    "            \"kargs\": {\n",
    "                \"in_channels\": 256,\n",
    "                \"out_channels\": 80,\n",
    "                \"kernel_size\": [2, 7],\n",
    "                \"bias\": True,\n",
    "                \"padding\": [0, 3],\n",
    "            },\n",
    "        },\n",
    "        {\"class\": \"ReLU\", \"kargs\": {\"inplace\": True}},\n",
    "        {\"class\": \"BatchNorm2d\", \"kargs\": {\"num_features\": 80}},\n",
    "        {\"class\": \"Flatten\", \"kargs\": {}},\n",
    "        {\"class\": \"Linear\", \"kargs\": {\"in_features\": 20480, \"out_features\": 256}},\n",
    "        {\"class\": \"ReLU\", \"kargs\": {\"inplace\": True}},\n",
    "        {\"class\": \"BatchNorm1d\", \"kargs\": {\"num_features\": 256}},\n",
    "        {\"class\": \"Linear\", \"kargs\": {\"in_features\": 256, \"out_features\": 256}},\n",
    "    ],\n",
    "    \"NUM_LOGS_PER_EPOCH\": 10,\n",
    "    \"BEST_MODEL_PATH\": \"./best_model.pth\",\n",
    "    \"n_way\": 58,\n",
    "    \"datasets\": [\n",
    "        {\n",
    "            \"labels\": [\n",
    "                \"1-10.\",\n",
    "                \"1-11.\",\n",
    "                \"1-15.\",\n",
    "                \"1-16.\",\n",
    "                \"1-17.\",\n",
    "                \"1-18.\",\n",
    "                \"1-19.\",\n",
    "                \"10-4.\",\n",
    "                \"10-7.\",\n",
    "                \"11-1.\",\n",
    "                \"11-14.\",\n",
    "                \"11-17.\",\n",
    "                \"11-20.\",\n",
    "                \"11-7.\",\n",
    "                \"13-20.\",\n",
    "                \"13-8.\",\n",
    "                \"14-10.\",\n",
    "                \"14-11.\",\n",
    "                \"14-14.\",\n",
    "                \"14-7.\",\n",
    "                \"15-1.\",\n",
    "                \"15-20.\",\n",
    "                \"16-1.\",\n",
    "                \"16-16.\",\n",
    "                \"17-10.\",\n",
    "                \"17-11.\",\n",
    "                \"17-2.\",\n",
    "                \"19-1.\",\n",
    "                \"19-16.\",\n",
    "                \"19-19.\",\n",
    "                \"19-20.\",\n",
    "                \"19-3.\",\n",
    "                \"2-10.\",\n",
    "                \"2-11.\",\n",
    "                \"2-17.\",\n",
    "                \"2-18.\",\n",
    "                \"2-20.\",\n",
    "                \"2-3.\",\n",
    "                \"2-4.\",\n",
    "                \"2-5.\",\n",
    "                \"2-6.\",\n",
    "                \"2-7.\",\n",
    "                \"2-8.\",\n",
    "                \"3-13.\",\n",
    "                \"3-18.\",\n",
    "                \"3-3.\",\n",
    "                \"4-1.\",\n",
    "                \"4-10.\",\n",
    "                \"4-11.\",\n",
    "                \"4-19.\",\n",
    "                \"5-5.\",\n",
    "                \"6-15.\",\n",
    "                \"7-10.\",\n",
    "                \"7-14.\",\n",
    "                \"8-18.\",\n",
    "                \"8-20.\",\n",
    "                \"8-3.\",\n",
    "                \"8-8.\",\n",
    "            ],\n",
    "            \"domains\": [1, 2, 3, 4, 5],\n",
    "            \"num_examples_per_domain_per_label\": -1,\n",
    "            \"pickle_path\": \"/root/csc500-main/datasets/cores.stratified_ds.2022A.pkl\",\n",
    "            \"source_or_target_dataset\": \"source\",\n",
    "            \"x_transforms\": [\"unit_mag\"],\n",
    "            \"episode_transforms\": [],\n",
    "            \"domain_prefix\": \"CORES_\",\n",
    "        },\n",
    "        {\n",
    "            \"labels\": [\n",
    "                \"1-10\",\n",
    "                \"1-12\",\n",
    "                \"1-14\",\n",
    "                \"1-16\",\n",
    "                \"1-18\",\n",
    "                \"1-19\",\n",
    "                \"1-8\",\n",
    "                \"10-11\",\n",
    "                \"10-17\",\n",
    "                \"10-4\",\n",
    "                \"10-7\",\n",
    "                \"11-1\",\n",
    "                \"11-10\",\n",
    "                \"11-19\",\n",
    "                \"11-20\",\n",
    "                \"11-4\",\n",
    "                \"11-7\",\n",
    "                \"12-19\",\n",
    "                \"12-20\",\n",
    "                \"12-7\",\n",
    "                \"13-14\",\n",
    "                \"13-18\",\n",
    "                \"13-19\",\n",
    "                \"13-20\",\n",
    "                \"13-3\",\n",
    "                \"13-7\",\n",
    "                \"14-10\",\n",
    "                \"14-11\",\n",
    "                \"14-12\",\n",
    "                \"14-13\",\n",
    "                \"14-14\",\n",
    "                \"14-19\",\n",
    "                \"14-20\",\n",
    "                \"14-7\",\n",
    "                \"14-8\",\n",
    "                \"14-9\",\n",
    "                \"15-1\",\n",
    "                \"15-19\",\n",
    "                \"15-6\",\n",
    "                \"16-1\",\n",
    "                \"16-16\",\n",
    "                \"16-19\",\n",
    "                \"16-20\",\n",
    "                \"17-10\",\n",
    "                \"17-11\",\n",
    "                \"18-1\",\n",
    "                \"18-10\",\n",
    "                \"18-11\",\n",
    "                \"18-12\",\n",
    "                \"18-13\",\n",
    "                \"18-14\",\n",
    "                \"18-15\",\n",
    "                \"18-16\",\n",
    "                \"18-17\",\n",
    "                \"18-19\",\n",
    "                \"18-2\",\n",
    "                \"18-20\",\n",
    "                \"18-4\",\n",
    "                \"18-5\",\n",
    "                \"18-7\",\n",
    "                \"18-8\",\n",
    "                \"18-9\",\n",
    "                \"19-1\",\n",
    "                \"19-10\",\n",
    "                \"19-11\",\n",
    "                \"19-12\",\n",
    "                \"19-13\",\n",
    "                \"19-14\",\n",
    "                \"19-15\",\n",
    "                \"19-19\",\n",
    "                \"19-2\",\n",
    "                \"19-20\",\n",
    "                \"19-3\",\n",
    "                \"19-4\",\n",
    "                \"19-6\",\n",
    "                \"19-7\",\n",
    "                \"19-8\",\n",
    "                \"19-9\",\n",
    "                \"2-1\",\n",
    "                \"2-13\",\n",
    "                \"2-15\",\n",
    "                \"2-3\",\n",
    "                \"2-4\",\n",
    "                \"2-5\",\n",
    "                \"2-6\",\n",
    "                \"2-7\",\n",
    "                \"2-8\",\n",
    "                \"20-1\",\n",
    "                \"20-12\",\n",
    "                \"20-14\",\n",
    "                \"20-15\",\n",
    "                \"20-16\",\n",
    "                \"20-18\",\n",
    "                \"20-19\",\n",
    "                \"20-20\",\n",
    "                \"20-3\",\n",
    "                \"20-4\",\n",
    "                \"20-5\",\n",
    "                \"20-7\",\n",
    "                \"20-8\",\n",
    "                \"3-1\",\n",
    "                \"3-13\",\n",
    "                \"3-18\",\n",
    "                \"3-2\",\n",
    "                \"3-8\",\n",
    "                \"4-1\",\n",
    "                \"4-10\",\n",
    "                \"4-11\",\n",
    "                \"5-1\",\n",
    "                \"5-5\",\n",
    "                \"6-1\",\n",
    "                \"6-15\",\n",
    "                \"6-6\",\n",
    "                \"7-10\",\n",
    "                \"7-11\",\n",
    "                \"7-12\",\n",
    "                \"7-13\",\n",
    "                \"7-14\",\n",
    "                \"7-7\",\n",
    "                \"7-8\",\n",
    "                \"7-9\",\n",
    "                \"8-1\",\n",
    "                \"8-13\",\n",
    "                \"8-14\",\n",
    "                \"8-18\",\n",
    "                \"8-20\",\n",
    "                \"8-3\",\n",
    "                \"8-8\",\n",
    "                \"9-1\",\n",
    "                \"9-7\",\n",
    "            ],\n",
    "            \"domains\": [1, 2, 3, 4],\n",
    "            \"num_examples_per_domain_per_label\": -1,\n",
    "            \"pickle_path\": \"/root/csc500-main/datasets/wisig.node3-19.stratified_ds.2022A.pkl\",\n",
    "            \"source_or_target_dataset\": \"target\",\n",
    "            \"x_transforms\": [\"unit_mag\"],\n",
    "            \"episode_transforms\": [],\n",
    "            \"domain_prefix\": \"Wisig_\",\n",
    "        },\n",
    "    ],\n",
    "    \"dataset_seed\": 154325,\n",
    "    \"seed\": 154325,\n",
    "}\n"
   ]
  },
  {
   "cell_type": "code",
   "execution_count": 5,
   "id": "8fa1cc33",
   "metadata": {
    "execution": {
     "iopub.execute_input": "2022-03-21T03:05:14.768091Z",
     "iopub.status.busy": "2022-03-21T03:05:14.767484Z",
     "iopub.status.idle": "2022-03-21T03:05:14.791800Z",
     "shell.execute_reply": "2022-03-21T03:05:14.790996Z"
    },
    "papermill": {
     "duration": 0.051482,
     "end_time": "2022-03-21T03:05:14.791981",
     "exception": false,
     "start_time": "2022-03-21T03:05:14.740499",
     "status": "completed"
    },
    "tags": []
   },
   "outputs": [],
   "source": [
    "# Set this to True if you want to run this template directly\n",
    "STANDALONE = False\n",
    "if STANDALONE:\n",
    "    print(\"parameters not injected, running with standalone_parameters\")\n",
    "    parameters = standalone_parameters\n",
    "\n",
    "if not 'parameters' in locals() and not 'parameters' in globals():\n",
    "    raise Exception(\"Parameter injection failed\")\n",
    "\n",
    "#Use an easy dict for all the parameters\n",
    "p = EasyDict(parameters)\n",
    "\n",
    "if \"x_shape\" not in p:\n",
    "    p.x_shape = [2,256] # Default to this if we dont supply x_shape\n",
    "\n",
    "\n",
    "supplied_keys = set(p.keys())\n",
    "\n",
    "if  supplied_keys != required_parameters:\n",
    "    print(\"Parameters are incorrect\")\n",
    "    if len(supplied_keys - required_parameters)>0: print(\"Shouldn't have:\", str(supplied_keys - required_parameters))\n",
    "    if len(required_parameters - supplied_keys)>0: print(\"Need to have:\", str(required_parameters - supplied_keys))\n",
    "    raise RuntimeError(\"Parameters are incorrect\")"
   ]
  },
  {
   "cell_type": "code",
   "execution_count": 6,
   "id": "3a028d58",
   "metadata": {
    "execution": {
     "iopub.execute_input": "2022-03-21T03:05:14.843765Z",
     "iopub.status.busy": "2022-03-21T03:05:14.842408Z",
     "iopub.status.idle": "2022-03-21T03:05:14.866520Z",
     "shell.execute_reply": "2022-03-21T03:05:14.865769Z"
    },
    "papermill": {
     "duration": 0.047296,
     "end_time": "2022-03-21T03:05:14.866720",
     "exception": false,
     "start_time": "2022-03-21T03:05:14.819424",
     "status": "completed"
    },
    "tags": []
   },
   "outputs": [],
   "source": [
    "###################################\n",
    "# Set the RNGs and make it all deterministic\n",
    "###################################\n",
    "np.random.seed(p.seed)\n",
    "random.seed(p.seed)\n",
    "torch.manual_seed(p.seed)\n",
    "\n",
    "torch.use_deterministic_algorithms(True) "
   ]
  },
  {
   "cell_type": "code",
   "execution_count": 7,
   "id": "b691acf6",
   "metadata": {
    "execution": {
     "iopub.execute_input": "2022-03-21T03:05:14.921384Z",
     "iopub.status.busy": "2022-03-21T03:05:14.920711Z",
     "iopub.status.idle": "2022-03-21T03:05:14.949021Z",
     "shell.execute_reply": "2022-03-21T03:05:14.949726Z"
    },
    "papermill": {
     "duration": 0.054498,
     "end_time": "2022-03-21T03:05:14.949952",
     "exception": false,
     "start_time": "2022-03-21T03:05:14.895454",
     "status": "completed"
    },
    "tags": []
   },
   "outputs": [],
   "source": [
    "###########################################\n",
    "# The stratified datasets honor this\n",
    "###########################################\n",
    "torch.set_default_dtype(eval(p.torch_default_dtype))"
   ]
  },
  {
   "cell_type": "code",
   "execution_count": 8,
   "id": "b5fba671",
   "metadata": {
    "execution": {
     "iopub.execute_input": "2022-03-21T03:05:15.003929Z",
     "iopub.status.busy": "2022-03-21T03:05:15.002448Z",
     "iopub.status.idle": "2022-03-21T03:05:15.064775Z",
     "shell.execute_reply": "2022-03-21T03:05:15.063982Z"
    },
    "papermill": {
     "duration": 0.08643,
     "end_time": "2022-03-21T03:05:15.064951",
     "exception": false,
     "start_time": "2022-03-21T03:05:14.978521",
     "status": "completed"
    },
    "tags": []
   },
   "outputs": [],
   "source": [
    "###################################\n",
    "# Build the network(s)\n",
    "# Note: It's critical to do this AFTER setting the RNG\n",
    "###################################\n",
    "x_net = build_sequential(p.x_net)"
   ]
  },
  {
   "cell_type": "code",
   "execution_count": 9,
   "id": "5d7e61cc",
   "metadata": {
    "execution": {
     "iopub.execute_input": "2022-03-21T03:05:15.117728Z",
     "iopub.status.busy": "2022-03-21T03:05:15.116992Z",
     "iopub.status.idle": "2022-03-21T03:05:15.144818Z",
     "shell.execute_reply": "2022-03-21T03:05:15.143942Z"
    },
    "papermill": {
     "duration": 0.052784,
     "end_time": "2022-03-21T03:05:15.144999",
     "exception": false,
     "start_time": "2022-03-21T03:05:15.092215",
     "status": "completed"
    },
    "tags": []
   },
   "outputs": [],
   "source": [
    "start_time_secs = time.time()"
   ]
  },
  {
   "cell_type": "code",
   "execution_count": 10,
   "id": "c6b67dfd",
   "metadata": {
    "execution": {
     "iopub.execute_input": "2022-03-21T03:05:15.198508Z",
     "iopub.status.busy": "2022-03-21T03:05:15.197610Z",
     "iopub.status.idle": "2022-03-21T03:05:15.221491Z",
     "shell.execute_reply": "2022-03-21T03:05:15.220629Z"
    },
    "papermill": {
     "duration": 0.049313,
     "end_time": "2022-03-21T03:05:15.221668",
     "exception": false,
     "start_time": "2022-03-21T03:05:15.172355",
     "status": "completed"
    },
    "tags": []
   },
   "outputs": [],
   "source": [
    "p.domains_source = []\n",
    "p.domains_target = []\n",
    "\n",
    "\n",
    "train_original_source = []\n",
    "val_original_source   = []\n",
    "test_original_source  = []\n",
    "\n",
    "train_original_target = []\n",
    "val_original_target   = []\n",
    "test_original_target  = []"
   ]
  },
  {
   "cell_type": "code",
   "execution_count": 11,
   "id": "e3d9c3d3",
   "metadata": {
    "execution": {
     "iopub.execute_input": "2022-03-21T03:05:15.276276Z",
     "iopub.status.busy": "2022-03-21T03:05:15.275685Z",
     "iopub.status.idle": "2022-03-21T03:05:15.300189Z",
     "shell.execute_reply": "2022-03-21T03:05:15.299298Z"
    },
    "papermill": {
     "duration": 0.049505,
     "end_time": "2022-03-21T03:05:15.300368",
     "exception": false,
     "start_time": "2022-03-21T03:05:15.250863",
     "status": "completed"
    },
    "tags": []
   },
   "outputs": [],
   "source": [
    "# global_x_transform_func = lambda x: normalize(x.to(torch.get_default_dtype()), \"unit_power\") # unit_power, unit_mag\n",
    "# global_x_transform_func = lambda x: normalize(x, \"unit_power\") # unit_power, unit_mag"
   ]
  },
  {
   "cell_type": "code",
   "execution_count": 12,
   "id": "acb78fd2",
   "metadata": {
    "execution": {
     "iopub.execute_input": "2022-03-21T03:05:15.363304Z",
     "iopub.status.busy": "2022-03-21T03:05:15.362494Z",
     "iopub.status.idle": "2022-03-21T03:05:15.390158Z",
     "shell.execute_reply": "2022-03-21T03:05:15.389388Z"
    },
    "papermill": {
     "duration": 0.06233,
     "end_time": "2022-03-21T03:05:15.390339",
     "exception": false,
     "start_time": "2022-03-21T03:05:15.328009",
     "status": "completed"
    },
    "tags": []
   },
   "outputs": [],
   "source": [
    "def add_dataset(\n",
    "    labels,\n",
    "    domains,\n",
    "    pickle_path,\n",
    "    x_transforms,\n",
    "    episode_transforms,\n",
    "    domain_prefix,\n",
    "    num_examples_per_domain_per_label,\n",
    "    source_or_target_dataset:str,\n",
    "    iterator_seed=p.seed,\n",
    "    dataset_seed=p.dataset_seed,\n",
    "    n_shot=p.n_shot,\n",
    "    n_way=p.n_way,\n",
    "    n_query=p.n_query,\n",
    "    train_val_test_k_factors=(p.train_k_factor,p.val_k_factor,p.test_k_factor),\n",
    "):\n",
    "   \n",
    "    if x_transforms == []: x_transform = None\n",
    "    else: x_transform = get_chained_transform(x_transforms)\n",
    "    \n",
    "    if episode_transforms == []: episode_transform = None\n",
    "    else: raise Exception(\"episode_transforms not implemented\")\n",
    "    \n",
    "    episode_transform = lambda tup, _prefix=domain_prefix: (_prefix + str(tup[0]), tup[1])\n",
    "\n",
    "\n",
    "    eaf = Episodic_Accessor_Factory(\n",
    "        labels=labels,\n",
    "        domains=domains,\n",
    "        num_examples_per_domain_per_label=num_examples_per_domain_per_label,\n",
    "        iterator_seed=iterator_seed,\n",
    "        dataset_seed=dataset_seed,\n",
    "        n_shot=n_shot,\n",
    "        n_way=n_way,\n",
    "        n_query=n_query,\n",
    "        train_val_test_k_factors=train_val_test_k_factors,\n",
    "        pickle_path=pickle_path,\n",
    "        x_transform_func=x_transform,\n",
    "    )\n",
    "\n",
    "    train, val, test = eaf.get_train(), eaf.get_val(), eaf.get_test()\n",
    "    train = Lazy_Iterable_Wrapper(train, episode_transform)\n",
    "    val = Lazy_Iterable_Wrapper(val, episode_transform)\n",
    "    test = Lazy_Iterable_Wrapper(test, episode_transform)\n",
    "\n",
    "    if source_or_target_dataset==\"source\":\n",
    "        train_original_source.append(train)\n",
    "        val_original_source.append(val)\n",
    "        test_original_source.append(test)\n",
    "\n",
    "        p.domains_source.extend(\n",
    "            [domain_prefix + str(u) for u in domains]\n",
    "        )\n",
    "    elif source_or_target_dataset==\"target\":\n",
    "        train_original_target.append(train)\n",
    "        val_original_target.append(val)\n",
    "        test_original_target.append(test)\n",
    "        p.domains_target.extend(\n",
    "            [domain_prefix + str(u) for u in domains]\n",
    "        )\n",
    "    else:\n",
    "        raise Exception(f\"invalid source_or_target_dataset: {source_or_target_dataset}\")\n",
    "    "
   ]
  },
  {
   "cell_type": "code",
   "execution_count": 13,
   "id": "fe266617",
   "metadata": {
    "execution": {
     "iopub.execute_input": "2022-03-21T03:05:15.442157Z",
     "iopub.status.busy": "2022-03-21T03:05:15.441782Z",
     "iopub.status.idle": "2022-03-21T03:05:58.068856Z",
     "shell.execute_reply": "2022-03-21T03:05:58.069580Z"
    },
    "papermill": {
     "duration": 42.652094,
     "end_time": "2022-03-21T03:05:58.069808",
     "exception": false,
     "start_time": "2022-03-21T03:05:15.417714",
     "status": "completed"
    },
    "tags": []
   },
   "outputs": [],
   "source": [
    "for ds in p.datasets:\n",
    "    add_dataset(**ds)"
   ]
  },
  {
   "cell_type": "code",
   "execution_count": 14,
   "id": "b90d65ac",
   "metadata": {
    "execution": {
     "iopub.execute_input": "2022-03-21T03:05:58.121455Z",
     "iopub.status.busy": "2022-03-21T03:05:58.121075Z",
     "iopub.status.idle": "2022-03-21T03:05:58.145660Z",
     "shell.execute_reply": "2022-03-21T03:05:58.144945Z"
    },
    "papermill": {
     "duration": 0.049609,
     "end_time": "2022-03-21T03:05:58.145820",
     "exception": false,
     "start_time": "2022-03-21T03:05:58.096211",
     "status": "completed"
    },
    "tags": []
   },
   "outputs": [],
   "source": [
    "# from steves_utils.CORES.utils import (\n",
    "#     ALL_NODES,\n",
    "#     ALL_NODES_MINIMUM_1000_EXAMPLES,\n",
    "#     ALL_DAYS\n",
    "# )\n",
    "\n",
    "# add_dataset(\n",
    "#     labels=ALL_NODES,\n",
    "#     domains = ALL_DAYS,\n",
    "#     num_examples_per_domain_per_label=100,\n",
    "#     pickle_path=os.path.join(get_datasets_base_path(), \"cores.stratified_ds.2022A.pkl\"),\n",
    "#     source_or_target_dataset=\"target\",\n",
    "#     x_transform_func=global_x_transform_func,\n",
    "#     domain_modifier=lambda u: f\"cores_{u}\"\n",
    "# )"
   ]
  },
  {
   "cell_type": "code",
   "execution_count": 15,
   "id": "76db484d",
   "metadata": {
    "execution": {
     "iopub.execute_input": "2022-03-21T03:05:58.195705Z",
     "iopub.status.busy": "2022-03-21T03:05:58.195309Z",
     "iopub.status.idle": "2022-03-21T03:05:58.217106Z",
     "shell.execute_reply": "2022-03-21T03:05:58.217793Z"
    },
    "papermill": {
     "duration": 0.046016,
     "end_time": "2022-03-21T03:05:58.217974",
     "exception": false,
     "start_time": "2022-03-21T03:05:58.171958",
     "status": "completed"
    },
    "tags": []
   },
   "outputs": [],
   "source": [
    "# from steves_utils.ORACLE.utils_v2 import (\n",
    "#     ALL_DISTANCES_FEET,\n",
    "#     ALL_RUNS,\n",
    "#     ALL_SERIAL_NUMBERS,\n",
    "# )\n",
    "\n",
    "\n",
    "# add_dataset(\n",
    "#     labels=ALL_SERIAL_NUMBERS,\n",
    "#     domains = list(set(ALL_DISTANCES_FEET) - {2,62}),\n",
    "#     num_examples_per_domain_per_label=100,\n",
    "#     pickle_path=os.path.join(get_datasets_base_path(), \"oracle.Run2_framed_2000Examples_stratified_ds.2022A.pkl\"),\n",
    "#     source_or_target_dataset=\"source\",\n",
    "#     x_transform_func=global_x_transform_func,\n",
    "#     domain_modifier=lambda u: f\"oracle1_{u}\"\n",
    "# )\n"
   ]
  },
  {
   "cell_type": "code",
   "execution_count": 16,
   "id": "97dea9d2",
   "metadata": {
    "execution": {
     "iopub.execute_input": "2022-03-21T03:05:58.271205Z",
     "iopub.status.busy": "2022-03-21T03:05:58.270829Z",
     "iopub.status.idle": "2022-03-21T03:05:58.294244Z",
     "shell.execute_reply": "2022-03-21T03:05:58.293528Z"
    },
    "papermill": {
     "duration": 0.047246,
     "end_time": "2022-03-21T03:05:58.294400",
     "exception": false,
     "start_time": "2022-03-21T03:05:58.247154",
     "status": "completed"
    },
    "tags": []
   },
   "outputs": [],
   "source": [
    "# from steves_utils.ORACLE.utils_v2 import (\n",
    "#     ALL_DISTANCES_FEET,\n",
    "#     ALL_RUNS,\n",
    "#     ALL_SERIAL_NUMBERS,\n",
    "# )\n",
    "\n",
    "\n",
    "# add_dataset(\n",
    "#     labels=ALL_SERIAL_NUMBERS,\n",
    "#     domains = list(set(ALL_DISTANCES_FEET) - {2,62,56}),\n",
    "#     num_examples_per_domain_per_label=100,\n",
    "#     pickle_path=os.path.join(get_datasets_base_path(), \"oracle.Run2_framed_2000Examples_stratified_ds.2022A.pkl\"),\n",
    "#     source_or_target_dataset=\"source\",\n",
    "#     x_transform_func=global_x_transform_func,\n",
    "#     domain_modifier=lambda u: f\"oracle2_{u}\"\n",
    "# )"
   ]
  },
  {
   "cell_type": "code",
   "execution_count": 17,
   "id": "6f289866",
   "metadata": {
    "execution": {
     "iopub.execute_input": "2022-03-21T03:05:58.347528Z",
     "iopub.status.busy": "2022-03-21T03:05:58.347159Z",
     "iopub.status.idle": "2022-03-21T03:05:58.369365Z",
     "shell.execute_reply": "2022-03-21T03:05:58.368651Z"
    },
    "papermill": {
     "duration": 0.046423,
     "end_time": "2022-03-21T03:05:58.369520",
     "exception": false,
     "start_time": "2022-03-21T03:05:58.323097",
     "status": "completed"
    },
    "tags": []
   },
   "outputs": [],
   "source": [
    "# add_dataset(\n",
    "#     labels=list(range(19)),\n",
    "#     domains = [0,1,2],\n",
    "#     num_examples_per_domain_per_label=100,\n",
    "#     pickle_path=os.path.join(get_datasets_base_path(), \"metehan.stratified_ds.2022A.pkl\"),\n",
    "#     source_or_target_dataset=\"target\",\n",
    "#     x_transform_func=global_x_transform_func,\n",
    "#     domain_modifier=lambda u: f\"met_{u}\"\n",
    "# )"
   ]
  },
  {
   "cell_type": "code",
   "execution_count": 18,
   "id": "86a863c3",
   "metadata": {
    "execution": {
     "iopub.execute_input": "2022-03-21T03:05:58.421285Z",
     "iopub.status.busy": "2022-03-21T03:05:58.420719Z",
     "iopub.status.idle": "2022-03-21T03:05:58.443724Z",
     "shell.execute_reply": "2022-03-21T03:05:58.442989Z"
    },
    "papermill": {
     "duration": 0.047544,
     "end_time": "2022-03-21T03:05:58.443882",
     "exception": false,
     "start_time": "2022-03-21T03:05:58.396338",
     "status": "completed"
    },
    "tags": []
   },
   "outputs": [],
   "source": [
    "# # from steves_utils.wisig.utils import (\n",
    "# #     ALL_NODES_MINIMUM_100_EXAMPLES,\n",
    "# #     ALL_NODES_MINIMUM_500_EXAMPLES,\n",
    "# #     ALL_NODES_MINIMUM_1000_EXAMPLES,\n",
    "# #     ALL_DAYS\n",
    "# # )\n",
    "\n",
    "# import steves_utils.wisig.utils as wisig\n",
    "\n",
    "\n",
    "# add_dataset(\n",
    "#     labels=wisig.ALL_NODES_MINIMUM_100_EXAMPLES,\n",
    "#     domains = wisig.ALL_DAYS,\n",
    "#     num_examples_per_domain_per_label=100,\n",
    "#     pickle_path=os.path.join(get_datasets_base_path(), \"wisig.node3-19.stratified_ds.2022A.pkl\"),\n",
    "#     source_or_target_dataset=\"target\",\n",
    "#     x_transform_func=global_x_transform_func,\n",
    "#     domain_modifier=lambda u: f\"wisig_{u}\"\n",
    "# )"
   ]
  },
  {
   "cell_type": "code",
   "execution_count": 19,
   "id": "fd5442bc",
   "metadata": {
    "execution": {
     "iopub.execute_input": "2022-03-21T03:05:58.500773Z",
     "iopub.status.busy": "2022-03-21T03:05:58.500393Z",
     "iopub.status.idle": "2022-03-21T03:05:58.521213Z",
     "shell.execute_reply": "2022-03-21T03:05:58.520500Z"
    },
    "papermill": {
     "duration": 0.047749,
     "end_time": "2022-03-21T03:05:58.521368",
     "exception": false,
     "start_time": "2022-03-21T03:05:58.473619",
     "status": "completed"
    },
    "tags": []
   },
   "outputs": [],
   "source": [
    "###################################\n",
    "# Build the dataset\n",
    "###################################\n",
    "train_original_source = Iterable_Aggregator(train_original_source, p.seed)\n",
    "val_original_source = Iterable_Aggregator(val_original_source, p.seed)\n",
    "test_original_source = Iterable_Aggregator(test_original_source, p.seed)\n",
    "\n",
    "\n",
    "train_original_target = Iterable_Aggregator(train_original_target, p.seed)\n",
    "val_original_target = Iterable_Aggregator(val_original_target, p.seed)\n",
    "test_original_target = Iterable_Aggregator(test_original_target, p.seed)\n",
    "\n",
    "# For CNN We only use X and Y. And we only train on the source.\n",
    "# Properly form the data using a transform lambda and Lazy_Iterable_Wrapper. Finally wrap them in a dataloader\n",
    "\n",
    "transform_lambda = lambda ex: ex[1] # Original is (<domain>, <episode>) so we strip down to episode only\n",
    "\n",
    "train_processed_source = Lazy_Iterable_Wrapper(train_original_source, transform_lambda)\n",
    "val_processed_source   = Lazy_Iterable_Wrapper(val_original_source, transform_lambda)\n",
    "test_processed_source  = Lazy_Iterable_Wrapper(test_original_source, transform_lambda)\n",
    "\n",
    "train_processed_target = Lazy_Iterable_Wrapper(train_original_target, transform_lambda)\n",
    "val_processed_target   = Lazy_Iterable_Wrapper(val_original_target, transform_lambda)\n",
    "test_processed_target  = Lazy_Iterable_Wrapper(test_original_target, transform_lambda)\n",
    "\n",
    "datasets = EasyDict({\n",
    "    \"source\": {\n",
    "        \"original\": {\"train\":train_original_source, \"val\":val_original_source, \"test\":test_original_source},\n",
    "        \"processed\": {\"train\":train_processed_source, \"val\":val_processed_source, \"test\":test_processed_source}\n",
    "    },\n",
    "    \"target\": {\n",
    "        \"original\": {\"train\":train_original_target, \"val\":val_original_target, \"test\":test_original_target},\n",
    "        \"processed\": {\"train\":train_processed_target, \"val\":val_processed_target, \"test\":test_processed_target}\n",
    "    },\n",
    "})"
   ]
  },
  {
   "cell_type": "code",
   "execution_count": 20,
   "id": "5b3c01fc",
   "metadata": {
    "execution": {
     "iopub.execute_input": "2022-03-21T03:05:58.576336Z",
     "iopub.status.busy": "2022-03-21T03:05:58.575811Z",
     "iopub.status.idle": "2022-03-21T03:06:06.805778Z",
     "shell.execute_reply": "2022-03-21T03:06:06.804926Z"
    },
    "papermill": {
     "duration": 8.255555,
     "end_time": "2022-03-21T03:06:06.805952",
     "exception": false,
     "start_time": "2022-03-21T03:05:58.550397",
     "status": "completed"
    },
    "tags": []
   },
   "outputs": [
    {
     "name": "stdout",
     "output_type": "stream",
     "text": [
      "{'CORES_3', 'CORES_2', 'CORES_4', 'CORES_5', 'CORES_1'}\n"
     ]
    },
    {
     "name": "stdout",
     "output_type": "stream",
     "text": [
      "{'Wisig_2', 'Wisig_1', 'Wisig_4', 'Wisig_3'}\n"
     ]
    },
    {
     "name": "stdout",
     "output_type": "stream",
     "text": [
      "tensor([[[ 0.4879,  0.7752, -0.3473,  ...,  0.6780, -0.9219, -1.1472],\n",
      "         [-0.3967, -0.0462, -0.1929,  ..., -0.1451,  0.0426, -0.0758]],\n",
      "\n",
      "        [[-0.0344,  0.0807, -0.0569,  ..., -1.1795, -0.2424,  1.0383],\n",
      "         [ 0.0176,  0.0270, -0.3259,  ...,  0.1015, -0.7570, -0.7709]],\n",
      "\n",
      "        [[-0.1252, -0.0597,  0.1530,  ...,  0.3839, -0.1163, -1.5236],\n",
      "         [-0.1340,  0.1252,  0.0234,  ...,  0.3534,  0.6669,  0.1022]],\n",
      "\n",
      "        ...,\n",
      "\n",
      "        [[ 0.1100,  0.2011,  0.6907,  ..., -0.4301,  0.7475,  1.2063],\n",
      "         [-0.2039, -0.4595, -0.0259,  ...,  0.3054,  0.3916, -0.6711]],\n",
      "\n",
      "        [[ 0.0924,  0.1344,  0.2584,  ..., -1.0605, -0.5345,  0.6038],\n",
      "         [-0.0547, -0.0936, -0.2955,  ..., -0.1247,  0.2067,  0.6549]],\n",
      "\n",
      "        [[-0.1496, -0.1459, -0.4422,  ...,  0.9039,  0.0850, -1.1175],\n",
      "         [ 0.0842,  0.2226,  0.4008,  ...,  0.1391, -0.5038, -0.1609]]])\n"
     ]
    }
   ],
   "source": [
    "from steves_utils.transforms import get_average_magnitude, get_average_power\n",
    "\n",
    "print(set([u for u,_ in val_original_source]))\n",
    "print(set([u for u,_ in val_original_target]))\n",
    "\n",
    "s_x, s_y, q_x, q_y, _ = next(iter(train_processed_source))\n",
    "print(s_x)\n",
    "\n",
    "# for ds in [\n",
    "#     train_processed_source,\n",
    "#     val_processed_source,\n",
    "#     test_processed_source,\n",
    "#     train_processed_target,\n",
    "#     val_processed_target,\n",
    "#     test_processed_target\n",
    "# ]:\n",
    "#     for s_x, s_y, q_x, q_y, _ in ds:\n",
    "#         for X in (s_x, q_x):\n",
    "#             for x in X:\n",
    "#                 assert np.isclose(get_average_magnitude(x.numpy()), 1.0)\n",
    "#                 assert np.isclose(get_average_power(x.numpy()), 1.0)\n",
    "                "
   ]
  },
  {
   "cell_type": "code",
   "execution_count": 21,
   "id": "bbdacba1",
   "metadata": {
    "execution": {
     "iopub.execute_input": "2022-03-21T03:06:06.860168Z",
     "iopub.status.busy": "2022-03-21T03:06:06.859787Z",
     "iopub.status.idle": "2022-03-21T03:06:07.029776Z",
     "shell.execute_reply": "2022-03-21T03:06:07.029051Z"
    },
    "papermill": {
     "duration": 0.197628,
     "end_time": "2022-03-21T03:06:07.029953",
     "exception": false,
     "start_time": "2022-03-21T03:06:06.832325",
     "status": "completed"
    },
    "tags": []
   },
   "outputs": [
    {
     "name": "stdout",
     "output_type": "stream",
     "text": [
      "(2, 256)\n"
     ]
    }
   ],
   "source": [
    "###################################\n",
    "# Build the model\n",
    "###################################\n",
    "# easfsl only wants a tuple for the shape\n",
    "model = Steves_Prototypical_Network(x_net, device=p.device, x_shape=tuple(p.x_shape))\n",
    "optimizer = Adam(params=model.parameters(), lr=p.lr)"
   ]
  },
  {
   "cell_type": "code",
   "execution_count": 22,
   "id": "22b39ac5",
   "metadata": {
    "execution": {
     "iopub.execute_input": "2022-03-21T03:06:07.103762Z",
     "iopub.status.busy": "2022-03-21T03:06:07.102923Z",
     "iopub.status.idle": "2022-03-21T03:07:52.250867Z",
     "shell.execute_reply": "2022-03-21T03:07:52.250106Z"
    },
    "papermill": {
     "duration": 105.191329,
     "end_time": "2022-03-21T03:07:52.251043",
     "exception": false,
     "start_time": "2022-03-21T03:06:07.059714",
     "status": "completed"
    },
    "tags": []
   },
   "outputs": [
    {
     "name": "stdout",
     "output_type": "stream",
     "text": [
      "epoch: 1, [batch: 1 / 351], examples_per_second: 321.6938, train_label_loss: 3.8476, \n"
     ]
    },
    {
     "name": "stdout",
     "output_type": "stream",
     "text": [
      "epoch: 1, [batch: 36 / 351], examples_per_second: 3463.0321, train_label_loss: 0.8406, \n"
     ]
    },
    {
     "name": "stdout",
     "output_type": "stream",
     "text": [
      "epoch: 1, [batch: 71 / 351], examples_per_second: 3538.8289, train_label_loss: 0.2174, \n"
     ]
    },
    {
     "name": "stdout",
     "output_type": "stream",
     "text": [
      "epoch: 1, [batch: 106 / 351], examples_per_second: 3545.0358, train_label_loss: 0.0894, \n"
     ]
    },
    {
     "name": "stdout",
     "output_type": "stream",
     "text": [
      "epoch: 1, [batch: 141 / 351], examples_per_second: 3343.6065, train_label_loss: 0.0571, \n"
     ]
    },
    {
     "name": "stdout",
     "output_type": "stream",
     "text": [
      "epoch: 1, [batch: 176 / 351], examples_per_second: 3485.6543, train_label_loss: 0.0343, \n"
     ]
    },
    {
     "name": "stdout",
     "output_type": "stream",
     "text": [
      "epoch: 1, [batch: 211 / 351], examples_per_second: 3481.9949, train_label_loss: 0.0652, \n"
     ]
    },
    {
     "name": "stdout",
     "output_type": "stream",
     "text": [
      "epoch: 1, [batch: 246 / 351], examples_per_second: 3354.7835, train_label_loss: 0.0247, \n"
     ]
    },
    {
     "name": "stdout",
     "output_type": "stream",
     "text": [
      "epoch: 1, [batch: 281 / 351], examples_per_second: 3409.5750, train_label_loss: 0.0308, \n"
     ]
    },
    {
     "name": "stdout",
     "output_type": "stream",
     "text": [
      "epoch: 1, [batch: 316 / 351], examples_per_second: 3513.8862, train_label_loss: 0.0325, \n"
     ]
    },
    {
     "name": "stdout",
     "output_type": "stream",
     "text": [
      "=============================================================\n",
      "epoch: 1, source_val_acc_label: 0.9944, target_val_acc_label: 0.7281, source_val_label_loss: 0.0304, target_val_label_loss: 1.5572, \n",
      "=============================================================\n"
     ]
    },
    {
     "name": "stdout",
     "output_type": "stream",
     "text": [
      "New best\n"
     ]
    },
    {
     "name": "stdout",
     "output_type": "stream",
     "text": [
      "epoch: 2, [batch: 1 / 351], examples_per_second: 37.3457, train_label_loss: 0.0251, \n"
     ]
    },
    {
     "name": "stdout",
     "output_type": "stream",
     "text": [
      "epoch: 2, [batch: 36 / 351], examples_per_second: 4310.9935, train_label_loss: 0.0124, \n"
     ]
    },
    {
     "name": "stdout",
     "output_type": "stream",
     "text": [
      "epoch: 2, [batch: 71 / 351], examples_per_second: 4587.3712, train_label_loss: 0.0070, \n"
     ]
    },
    {
     "name": "stdout",
     "output_type": "stream",
     "text": [
      "epoch: 2, [batch: 106 / 351], examples_per_second: 4370.9170, train_label_loss: 0.0092, \n"
     ]
    },
    {
     "name": "stdout",
     "output_type": "stream",
     "text": [
      "epoch: 2, [batch: 141 / 351], examples_per_second: 4157.6260, train_label_loss: 0.0059, \n"
     ]
    },
    {
     "name": "stdout",
     "output_type": "stream",
     "text": [
      "epoch: 2, [batch: 176 / 351], examples_per_second: 4567.6973, train_label_loss: 0.0252, \n"
     ]
    },
    {
     "name": "stdout",
     "output_type": "stream",
     "text": [
      "epoch: 2, [batch: 211 / 351], examples_per_second: 4495.0731, train_label_loss: 0.0093, \n"
     ]
    },
    {
     "name": "stdout",
     "output_type": "stream",
     "text": [
      "epoch: 2, [batch: 246 / 351], examples_per_second: 4253.7382, train_label_loss: 0.0186, \n"
     ]
    },
    {
     "name": "stdout",
     "output_type": "stream",
     "text": [
      "epoch: 2, [batch: 281 / 351], examples_per_second: 4498.3171, train_label_loss: 0.0030, \n"
     ]
    },
    {
     "name": "stdout",
     "output_type": "stream",
     "text": [
      "epoch: 2, [batch: 316 / 351], examples_per_second: 4645.7430, train_label_loss: 0.0049, \n"
     ]
    },
    {
     "name": "stdout",
     "output_type": "stream",
     "text": [
      "=============================================================\n",
      "epoch: 2, source_val_acc_label: 0.9966, target_val_acc_label: 0.7183, source_val_label_loss: 0.0208, target_val_label_loss: 2.6668, \n",
      "=============================================================\n"
     ]
    },
    {
     "name": "stdout",
     "output_type": "stream",
     "text": [
      "epoch: 3, [batch: 1 / 351], examples_per_second: 47.1270, train_label_loss: 0.1379, \n"
     ]
    },
    {
     "name": "stdout",
     "output_type": "stream",
     "text": [
      "epoch: 3, [batch: 36 / 351], examples_per_second: 4787.6543, train_label_loss: 0.2532, \n"
     ]
    },
    {
     "name": "stdout",
     "output_type": "stream",
     "text": [
      "epoch: 3, [batch: 71 / 351], examples_per_second: 4911.3250, train_label_loss: 0.0033, \n"
     ]
    },
    {
     "name": "stdout",
     "output_type": "stream",
     "text": [
      "epoch: 3, [batch: 106 / 351], examples_per_second: 5797.6209, train_label_loss: 0.0081, \n"
     ]
    },
    {
     "name": "stdout",
     "output_type": "stream",
     "text": [
      "epoch: 3, [batch: 141 / 351], examples_per_second: 4600.7705, train_label_loss: 0.0027, \n"
     ]
    },
    {
     "name": "stdout",
     "output_type": "stream",
     "text": [
      "epoch: 3, [batch: 176 / 351], examples_per_second: 4730.8983, train_label_loss: 0.0009, \n"
     ]
    },
    {
     "name": "stdout",
     "output_type": "stream",
     "text": [
      "epoch: 3, [batch: 211 / 351], examples_per_second: 4733.7327, train_label_loss: 0.0031, \n"
     ]
    },
    {
     "name": "stdout",
     "output_type": "stream",
     "text": [
      "epoch: 3, [batch: 246 / 351], examples_per_second: 4559.7605, train_label_loss: 0.0089, \n"
     ]
    },
    {
     "name": "stdout",
     "output_type": "stream",
     "text": [
      "epoch: 3, [batch: 281 / 351], examples_per_second: 4809.7344, train_label_loss: 0.0070, \n"
     ]
    },
    {
     "name": "stdout",
     "output_type": "stream",
     "text": [
      "epoch: 3, [batch: 316 / 351], examples_per_second: 4880.4450, train_label_loss: 0.0026, \n"
     ]
    },
    {
     "name": "stdout",
     "output_type": "stream",
     "text": [
      "=============================================================\n",
      "epoch: 3, source_val_acc_label: 0.9955, target_val_acc_label: 0.7154, source_val_label_loss: 0.0193, target_val_label_loss: 2.8657, \n",
      "=============================================================\n"
     ]
    }
   ],
   "source": [
    "###################################\n",
    "# train\n",
    "###################################\n",
    "jig = PTN_Train_Eval_Test_Jig(model, p.BEST_MODEL_PATH, p.device)\n",
    "\n",
    "jig.train(\n",
    "    train_iterable=datasets.source.processed.train,\n",
    "    source_val_iterable=datasets.source.processed.val,\n",
    "    target_val_iterable=datasets.target.processed.val,\n",
    "    num_epochs=p.n_epoch,\n",
    "    num_logs_per_epoch=p.NUM_LOGS_PER_EPOCH,\n",
    "    patience=p.patience,\n",
    "    optimizer=optimizer,\n",
    "    criteria_for_best=p.criteria_for_best,\n",
    ")"
   ]
  },
  {
   "cell_type": "code",
   "execution_count": 23,
   "id": "31e8fabf",
   "metadata": {
    "execution": {
     "iopub.execute_input": "2022-03-21T03:07:52.328049Z",
     "iopub.status.busy": "2022-03-21T03:07:52.327663Z",
     "iopub.status.idle": "2022-03-21T03:07:52.359618Z",
     "shell.execute_reply": "2022-03-21T03:07:52.358857Z"
    },
    "papermill": {
     "duration": 0.068707,
     "end_time": "2022-03-21T03:07:52.359789",
     "exception": false,
     "start_time": "2022-03-21T03:07:52.291082",
     "status": "completed"
    },
    "tags": []
   },
   "outputs": [],
   "source": [
    "total_experiment_time_secs = time.time() - start_time_secs"
   ]
  },
  {
   "cell_type": "code",
   "execution_count": 24,
   "id": "87b9595b",
   "metadata": {
    "execution": {
     "iopub.execute_input": "2022-03-21T03:07:52.439413Z",
     "iopub.status.busy": "2022-03-21T03:07:52.438527Z",
     "iopub.status.idle": "2022-03-21T03:08:35.083248Z",
     "shell.execute_reply": "2022-03-21T03:08:35.082443Z"
    },
    "papermill": {
     "duration": 42.685059,
     "end_time": "2022-03-21T03:08:35.083449",
     "exception": false,
     "start_time": "2022-03-21T03:07:52.398390",
     "status": "completed"
    },
    "tags": []
   },
   "outputs": [],
   "source": [
    "###################################\n",
    "# Evaluate the model\n",
    "###################################\n",
    "source_test_label_accuracy, source_test_label_loss = jig.test(datasets.source.processed.test)\n",
    "target_test_label_accuracy, target_test_label_loss = jig.test(datasets.target.processed.test)\n",
    "\n",
    "source_val_label_accuracy, source_val_label_loss = jig.test(datasets.source.processed.val)\n",
    "target_val_label_accuracy, target_val_label_loss = jig.test(datasets.target.processed.val)\n",
    "\n",
    "history = jig.get_history()\n",
    "\n",
    "total_epochs_trained = len(history[\"epoch_indices\"])\n",
    "\n",
    "val_dl = Iterable_Aggregator((datasets.source.original.val,datasets.target.original.val))\n",
    "\n",
    "confusion = ptn_confusion_by_domain_over_dataloader(model, p.device, val_dl)\n",
    "per_domain_accuracy = per_domain_accuracy_from_confusion(confusion)\n",
    "\n",
    "# Add a key to per_domain_accuracy for if it was a source domain\n",
    "for domain, accuracy in per_domain_accuracy.items():\n",
    "    per_domain_accuracy[domain] = {\n",
    "        \"accuracy\": accuracy,\n",
    "        \"source?\": domain in p.domains_source\n",
    "    }\n",
    "\n",
    "# Do an independent accuracy assesment JUST TO BE SURE!\n",
    "# _source_test_label_accuracy = independent_accuracy_assesment(model, datasets.source.processed.test, p.device)\n",
    "# _target_test_label_accuracy = independent_accuracy_assesment(model, datasets.target.processed.test, p.device)\n",
    "# _source_val_label_accuracy = independent_accuracy_assesment(model, datasets.source.processed.val, p.device)\n",
    "# _target_val_label_accuracy = independent_accuracy_assesment(model, datasets.target.processed.val, p.device)\n",
    "\n",
    "# assert(_source_test_label_accuracy == source_test_label_accuracy)\n",
    "# assert(_target_test_label_accuracy == target_test_label_accuracy)\n",
    "# assert(_source_val_label_accuracy == source_val_label_accuracy)\n",
    "# assert(_target_val_label_accuracy == target_val_label_accuracy)\n",
    "\n",
    "experiment = {\n",
    "    \"experiment_name\": p.experiment_name,\n",
    "    \"parameters\": dict(p),\n",
    "    \"results\": {\n",
    "        \"source_test_label_accuracy\": source_test_label_accuracy,\n",
    "        \"source_test_label_loss\": source_test_label_loss,\n",
    "        \"target_test_label_accuracy\": target_test_label_accuracy,\n",
    "        \"target_test_label_loss\": target_test_label_loss,\n",
    "        \"source_val_label_accuracy\": source_val_label_accuracy,\n",
    "        \"source_val_label_loss\": source_val_label_loss,\n",
    "        \"target_val_label_accuracy\": target_val_label_accuracy,\n",
    "        \"target_val_label_loss\": target_val_label_loss,\n",
    "        \"total_epochs_trained\": total_epochs_trained,\n",
    "        \"total_experiment_time_secs\": total_experiment_time_secs,\n",
    "        \"confusion\": confusion,\n",
    "        \"per_domain_accuracy\": per_domain_accuracy,\n",
    "    },\n",
    "    \"history\": history,\n",
    "    \"dataset_metrics\": get_dataset_metrics(datasets, \"ptn\"),\n",
    "}"
   ]
  },
  {
   "cell_type": "code",
   "execution_count": 25,
   "id": "54a21829",
   "metadata": {
    "execution": {
     "iopub.execute_input": "2022-03-21T03:08:35.158079Z",
     "iopub.status.busy": "2022-03-21T03:08:35.156451Z",
     "iopub.status.idle": "2022-03-21T03:08:35.363420Z",
     "shell.execute_reply": "2022-03-21T03:08:35.364123Z"
    },
    "papermill": {
     "duration": 0.242577,
     "end_time": "2022-03-21T03:08:35.364310",
     "exception": false,
     "start_time": "2022-03-21T03:08:35.121733",
     "status": "completed"
    },
    "tags": []
   },
   "outputs": [
    {
     "data": {
      "image/png": "[encoded data removed]",
      "text/plain": [
       "<Figure size 1080x504 with 1 Axes>"
      ]
     },
     "metadata": {
      "needs_background": "light"
     },
     "output_type": "display_data"
    }
   ],
   "source": [
    "ax = get_loss_curve(experiment)\n",
    "plt.show()"
   ]
  },
  {
   "cell_type": "code",
   "execution_count": 26,
   "id": "fd8a0f60",
   "metadata": {
    "execution": {
     "iopub.execute_input": "2022-03-21T03:08:35.442596Z",
     "iopub.status.busy": "2022-03-21T03:08:35.442034Z",
     "iopub.status.idle": "2022-03-21T03:08:35.781960Z",
     "shell.execute_reply": "2022-03-21T03:08:35.782640Z"
    },
    "papermill": {
     "duration": 0.378536,
     "end_time": "2022-03-21T03:08:35.782851",
     "exception": false,
     "start_time": "2022-03-21T03:08:35.404315",
     "status": "completed"
    },
    "tags": []
   },
   "outputs": [
    {
     "data": {
      "text/plain": [
       "<AxesSubplot:title={'center':'Results'}>"
      ]
     },
     "execution_count": 26,
     "metadata": {},
     "output_type": "execute_result"
    },
    {
     "data": {
      "image/png": "[encoded data removed]",
      "text/plain": [
       "<Figure size 1080x504 with 1 Axes>"
      ]
     },
     "metadata": {
      "needs_background": "light"
     },
     "output_type": "display_data"
    }
   ],
   "source": [
    "get_results_table(experiment)"
   ]
  },
  {
   "cell_type": "code",
   "execution_count": 27,
   "id": "cf8dc689",
   "metadata": {
    "execution": {
     "iopub.execute_input": "2022-03-21T03:08:35.863672Z",
     "iopub.status.busy": "2022-03-21T03:08:35.863274Z",
     "iopub.status.idle": "2022-03-21T03:08:36.090045Z",
     "shell.execute_reply": "2022-03-21T03:08:36.089297Z"
    },
    "papermill": {
     "duration": 0.26617,
     "end_time": "2022-03-21T03:08:36.090227",
     "exception": false,
     "start_time": "2022-03-21T03:08:35.824057",
     "status": "completed"
    },
    "tags": []
   },
   "outputs": [
    {
     "data": {
      "text/plain": [
       "<AxesSubplot:title={'center':'Per Domain Validation Accuracy'}, xlabel='domain'>"
      ]
     },
     "execution_count": 27,
     "metadata": {},
     "output_type": "execute_result"
    },
    {
     "data": {
      "image/png": "[encoded data removed]",
      "text/plain": [
       "<Figure size 1080x504 with 1 Axes>"
      ]
     },
     "metadata": {
      "needs_background": "light"
     },
     "output_type": "display_data"
    }
   ],
   "source": [
    "get_domain_accuracies(experiment)"
   ]
  },
  {
   "cell_type": "code",
   "execution_count": 28,
   "id": "a74ae082",
   "metadata": {
    "execution": {
     "iopub.execute_input": "2022-03-21T03:08:36.172368Z",
     "iopub.status.busy": "2022-03-21T03:08:36.171985Z",
     "iopub.status.idle": "2022-03-21T03:08:36.198458Z",
     "shell.execute_reply": "2022-03-21T03:08:36.197734Z"
    },
    "papermill": {
     "duration": 0.066939,
     "end_time": "2022-03-21T03:08:36.198621",
     "exception": false,
     "start_time": "2022-03-21T03:08:36.131682",
     "status": "completed"
    },
    "tags": []
   },
   "outputs": [
    {
     "name": "stdout",
     "output_type": "stream",
     "text": [
      "Source Test Label Accuracy: 0.9974137931034482 Target Test Label Accuracy: 0.725\n",
      "Source Val Label Accuracy: 0.9944324712643678 Target Val Label Accuracy: 0.7281475541299118\n"
     ]
    }
   ],
   "source": [
    "print(\"Source Test Label Accuracy:\", experiment[\"results\"][\"source_test_label_accuracy\"], \"Target Test Label Accuracy:\", experiment[\"results\"][\"target_test_label_accuracy\"])\n",
    "print(\"Source Val Label Accuracy:\", experiment[\"results\"][\"source_val_label_accuracy\"], \"Target Val Label Accuracy:\", experiment[\"results\"][\"target_val_label_accuracy\"])"
   ]
  },
  {
   "cell_type": "code",
   "execution_count": 29,
   "id": "dacca602",
   "metadata": {
    "execution": {
     "iopub.execute_input": "2022-03-21T03:08:36.281221Z",
     "iopub.status.busy": "2022-03-21T03:08:36.280845Z",
     "iopub.status.idle": "2022-03-21T03:08:36.307062Z",
     "shell.execute_reply": "2022-03-21T03:08:36.307758Z"
    },
    "papermill": {
     "duration": 0.067448,
     "end_time": "2022-03-21T03:08:36.307952",
     "exception": false,
     "start_time": "2022-03-21T03:08:36.240504",
     "status": "completed"
    },
    "tags": [
     "experiment_json"
    ]
   },
   "outputs": [
    {
     "data": {
      "text/plain": [
       "'{\"experiment_name\": \"tl_1v2:cores-wisig\", \"parameters\": {\"experiment_name\": \"tl_1v2:cores-wisig\", \"device\": \"cuda\", \"lr\": 0.0001, \"n_shot\": 3, \"n_query\": 2, \"train_k_factor\": 3, \"val_k_factor\": 2, \"test_k_factor\": 2, \"torch_default_dtype\": \"torch.float32\", \"n_epoch\": 3, \"patience\": 3, \"criteria_for_best\": \"target_accuracy\", \"x_net\": [{\"class\": \"nnReshape\", \"kargs\": {\"shape\": [-1, 1, 2, 256]}}, {\"class\": \"Conv2d\", \"kargs\": {\"in_channels\": 1, \"out_channels\": 256, \"kernel_size\": [1, 7], \"bias\": false, \"padding\": [0, 3]}}, {\"class\": \"ReLU\", \"kargs\": {\"inplace\": true}}, {\"class\": \"BatchNorm2d\", \"kargs\": {\"num_features\": 256}}, {\"class\": \"Conv2d\", \"kargs\": {\"in_channels\": 256, \"out_channels\": 80, \"kernel_size\": [2, 7], \"bias\": true, \"padding\": [0, 3]}}, {\"class\": \"ReLU\", \"kargs\": {\"inplace\": true}}, {\"class\": \"BatchNorm2d\", \"kargs\": {\"num_features\": 80}}, {\"class\": \"Flatten\", \"kargs\": {}}, {\"class\": \"Linear\", \"kargs\": {\"in_features\": 20480, \"out_features\": 256}}, {\"class\": \"ReLU\", \"kargs\": {\"inplace\": true}}, {\"class\": \"BatchNorm1d\", \"kargs\": {\"num_features\": 256}}, {\"class\": \"Linear\", \"kargs\": {\"in_features\": 256, \"out_features\": 256}}], \"NUM_LOGS_PER_EPOCH\": 10, \"BEST_MODEL_PATH\": \"./best_model.pth\", \"n_way\": 58, \"datasets\": [{\"labels\": [\"1-10.\", \"1-11.\", \"1-15.\", \"1-16.\", \"1-17.\", \"1-18.\", \"1-19.\", \"10-4.\", \"10-7.\", \"11-1.\", \"11-14.\", \"11-17.\", \"11-20.\", \"11-7.\", \"13-20.\", \"13-8.\", \"14-10.\", \"14-11.\", \"14-14.\", \"14-7.\", \"15-1.\", \"15-20.\", \"16-1.\", \"16-16.\", \"17-10.\", \"17-11.\", \"17-2.\", \"19-1.\", \"19-16.\", \"19-19.\", \"19-20.\", \"19-3.\", \"2-10.\", \"2-11.\", \"2-17.\", \"2-18.\", \"2-20.\", \"2-3.\", \"2-4.\", \"2-5.\", \"2-6.\", \"2-7.\", \"2-8.\", \"3-13.\", \"3-18.\", \"3-3.\", \"4-1.\", \"4-10.\", \"4-11.\", \"4-19.\", \"5-5.\", \"6-15.\", \"7-10.\", \"7-14.\", \"8-18.\", \"8-20.\", \"8-3.\", \"8-8.\"], \"domains\": [1, 2, 3, 4, 5], \"num_examples_per_domain_per_label\": -1, \"pickle_path\": \"/root/csc500-main/datasets/cores.stratified_ds.2022A.pkl\", \"source_or_target_dataset\": \"source\", \"x_transforms\": [\"unit_mag\"], \"episode_transforms\": [], \"domain_prefix\": \"CORES_\"}, {\"labels\": [\"1-10\", \"1-12\", \"1-14\", \"1-16\", \"1-18\", \"1-19\", \"1-8\", \"10-11\", \"10-17\", \"10-4\", \"10-7\", \"11-1\", \"11-10\", \"11-19\", \"11-20\", \"11-4\", \"11-7\", \"12-19\", \"12-20\", \"12-7\", \"13-14\", \"13-18\", \"13-19\", \"13-20\", \"13-3\", \"13-7\", \"14-10\", \"14-11\", \"14-12\", \"14-13\", \"14-14\", \"14-19\", \"14-20\", \"14-7\", \"14-8\", \"14-9\", \"15-1\", \"15-19\", \"15-6\", \"16-1\", \"16-16\", \"16-19\", \"16-20\", \"17-10\", \"17-11\", \"18-1\", \"18-10\", \"18-11\", \"18-12\", \"18-13\", \"18-14\", \"18-15\", \"18-16\", \"18-17\", \"18-19\", \"18-2\", \"18-20\", \"18-4\", \"18-5\", \"18-7\", \"18-8\", \"18-9\", \"19-1\", \"19-10\", \"19-11\", \"19-12\", \"19-13\", \"19-14\", \"19-15\", \"19-19\", \"19-2\", \"19-20\", \"19-3\", \"19-4\", \"19-6\", \"19-7\", \"19-8\", \"19-9\", \"2-1\", \"2-13\", \"2-15\", \"2-3\", \"2-4\", \"2-5\", \"2-6\", \"2-7\", \"2-8\", \"20-1\", \"20-12\", \"20-14\", \"20-15\", \"20-16\", \"20-18\", \"20-19\", \"20-20\", \"20-3\", \"20-4\", \"20-5\", \"20-7\", \"20-8\", \"3-1\", \"3-13\", \"3-18\", \"3-2\", \"3-8\", \"4-1\", \"4-10\", \"4-11\", \"5-1\", \"5-5\", \"6-1\", \"6-15\", \"6-6\", \"7-10\", \"7-11\", \"7-12\", \"7-13\", \"7-14\", \"7-7\", \"7-8\", \"7-9\", \"8-1\", \"8-13\", \"8-14\", \"8-18\", \"8-20\", \"8-3\", \"8-8\", \"9-1\", \"9-7\"], \"domains\": [1, 2, 3, 4], \"num_examples_per_domain_per_label\": -1, \"pickle_path\": \"/root/csc500-main/datasets/wisig.node3-19.stratified_ds.2022A.pkl\", \"source_or_target_dataset\": \"target\", \"x_transforms\": [\"unit_mag\"], \"episode_transforms\": [], \"domain_prefix\": \"Wisig_\"}], \"dataset_seed\": 154325, \"seed\": 154325, \"x_shape\": [2, 256], \"domains_source\": [\"CORES_1\", \"CORES_2\", \"CORES_3\", \"CORES_4\", \"CORES_5\"], \"domains_target\": [\"Wisig_1\", \"Wisig_2\", \"Wisig_3\", \"Wisig_4\"]}, \"results\": {\"source_test_label_accuracy\": 0.9974137931034482, \"source_test_label_loss\": 0.01991538517177105, \"target_test_label_accuracy\": 0.725, \"target_test_label_loss\": 1.639765739440918, \"source_val_label_accuracy\": 0.9944324712643678, \"source_val_label_loss\": 0.03037348762154579, \"target_val_label_accuracy\": 0.7281475541299118, \"target_val_label_loss\": 1.5572316646575928, \"total_epochs_trained\": 3, \"total_experiment_time_secs\": 157.21465468406677, \"confusion\": {\"CORES_2\": {\"25\": {\"25\": 20}, \"39\": {\"39\": 20}, \"51\": {\"51\": 20}, \"4\": {\"4\": 20}, \"57\": {\"57\": 20}, \"0\": {\"0\": 20}, \"28\": {\"28\": 20}, \"35\": {\"35\": 20}, \"53\": {\"53\": 20}, \"33\": {\"33\": 20}, \"41\": {\"41\": 20}, \"14\": {\"14\": 20}, \"8\": {\"8\": 20}, \"47\": {\"47\": 19, \"42\": 1}, \"37\": {\"37\": 20}, \"43\": {\"43\": 20}, \"29\": {\"29\": 20}, \"56\": {\"56\": 20}, \"19\": {\"19\": 20}, \"48\": {\"48\": 20}, \"52\": {\"52\": 20}, \"22\": {\"22\": 20}, \"21\": {\"21\": 20}, \"27\": {\"27\": 20}, \"45\": {\"45\": 19, \"17\": 1}, \"10\": {\"10\": 20}, \"1\": {\"1\": 20}, \"38\": {\"38\": 20}, \"24\": {\"24\": 20}, \"17\": {\"17\": 20}, \"54\": {\"54\": 20}, \"3\": {\"3\": 19, \"50\": 1}, \"36\": {\"36\": 20}, \"40\": {\"40\": 20}, \"11\": {\"11\": 20}, \"55\": {\"55\": 20}, \"26\": {\"26\": 20}, \"20\": {\"20\": 20}, \"5\": {\"5\": 19, \"31\": 1}, \"44\": {\"44\": 20}, \"32\": {\"32\": 20}, \"31\": {\"31\": 20}, \"30\": {\"30\": 20}, \"49\": {\"49\": 20}, \"50\": {\"50\": 20}, \"6\": {\"6\": 20}, \"34\": {\"34\": 20}, \"15\": {\"15\": 20}, \"18\": {\"18\": 20}, \"16\": {\"16\": 20}, \"7\": {\"7\": 20}, \"9\": {\"9\": 20}, \"42\": {\"42\": 20}, \"2\": {\"2\": 20}, \"12\": {\"12\": 20}, \"46\": {\"46\": 20}, \"13\": {\"13\": 20}, \"23\": {\"23\": 20}}, \"CORES_1\": {\"9\": {\"9\": 24}, \"57\": {\"57\": 22, \"1\": 2}, \"18\": {\"18\": 23, \"4\": 1}, \"35\": {\"35\": 24}, \"24\": {\"24\": 24}, \"38\": {\"38\": 24}, \"3\": {\"3\": 24}, \"12\": {\"12\": 24}, \"11\": {\"11\": 23, \"7\": 1}, \"1\": {\"1\": 23, \"57\": 1}, \"5\": {\"5\": 24}, \"31\": {\"31\": 24}, \"25\": {\"25\": 24}, \"17\": {\"17\": 24}, \"36\": {\"36\": 24}, \"0\": {\"0\": 24}, \"16\": {\"16\": 24}, \"32\": {\"32\": 24}, \"20\": {\"20\": 24}, \"37\": {\"37\": 24}, \"8\": {\"8\": 24}, \"50\": {\"50\": 24}, \"30\": {\"30\": 24}, \"27\": {\"27\": 24}, \"6\": {\"6\": 23, \"2\": 1}, \"23\": {\"23\": 24}, \"28\": {\"28\": 24}, \"40\": {\"40\": 24}, \"49\": {\"49\": 24}, \"56\": {\"56\": 24}, \"15\": {\"15\": 24}, \"19\": {\"19\": 24}, \"55\": {\"55\": 24}, \"51\": {\"51\": 24}, \"52\": {\"52\": 24}, \"13\": {\"13\": 24}, \"22\": {\"22\": 21, \"11\": 3}, \"4\": {\"4\": 24}, \"43\": {\"43\": 24}, \"29\": {\"29\": 24}, \"33\": {\"33\": 24}, \"45\": {\"45\": 24}, \"10\": {\"10\": 24}, \"48\": {\"48\": 24}, \"2\": {\"2\": 24}, \"39\": {\"39\": 24}, \"44\": {\"44\": 24}, \"7\": {\"7\": 24}, \"53\": {\"53\": 24}, \"54\": {\"54\": 24}, \"46\": {\"46\": 24}, \"14\": {\"14\": 24}, \"47\": {\"47\": 22, \"39\": 2}, \"34\": {\"34\": 24}, \"42\": {\"42\": 24}, \"21\": {\"21\": 23, \"24\": 1}, \"26\": {\"26\": 24}, \"41\": {\"41\": 24}}, \"CORES_5\": {\"37\": {\"37\": 20}, \"22\": {\"22\": 20}, \"40\": {\"40\": 20}, \"19\": {\"19\": 20}, \"2\": {\"2\": 20}, \"0\": {\"0\": 20}, \"5\": {\"5\": 20}, \"25\": {\"25\": 20}, \"18\": {\"18\": 20}, \"4\": {\"4\": 20}, \"6\": {\"6\": 19, \"45\": 1}, \"21\": {\"21\": 20}, \"24\": {\"24\": 20}, \"35\": {\"35\": 20}, \"43\": {\"43\": 20}, \"14\": {\"14\": 20}, \"53\": {\"53\": 19, \"6\": 1}, \"11\": {\"11\": 20}, \"28\": {\"28\": 19, \"39\": 1}, \"49\": {\"49\": 20}, \"10\": {\"10\": 20}, \"27\": {\"27\": 20}, \"8\": {\"8\": 20}, \"46\": {\"46\": 20}, \"3\": {\"3\": 20}, \"17\": {\"17\": 20}, \"23\": {\"23\": 20}, \"20\": {\"20\": 20}, \"16\": {\"16\": 20}, \"55\": {\"55\": 20}, \"15\": {\"15\": 20}, \"45\": {\"45\": 20}, \"12\": {\"12\": 20}, \"30\": {\"30\": 20}, \"13\": {\"13\": 19, \"10\": 1}, \"54\": {\"54\": 20}, \"57\": {\"57\": 20}, \"1\": {\"1\": 20}, \"7\": {\"7\": 20}, \"33\": {\"33\": 20}, \"56\": {\"56\": 20}, \"44\": {\"44\": 20}, \"48\": {\"48\": 20}, \"36\": {\"36\": 20}, \"50\": {\"50\": 20}, \"32\": {\"32\": 20}, \"51\": {\"51\": 20}, \"52\": {\"52\": 20}, \"31\": {\"31\": 20}, \"39\": {\"39\": 20}, \"42\": {\"42\": 20}, \"9\": {\"9\": 20}, \"26\": {\"26\": 20}, \"38\": {\"38\": 20}, \"47\": {\"47\": 20}, \"34\": {\"34\": 20}, \"41\": {\"41\": 20}, \"29\": {\"29\": 20}}, \"CORES_4\": {\"25\": {\"25\": 16}, \"24\": {\"24\": 15, \"7\": 1}, \"6\": {\"6\": 14, \"31\": 1, \"3\": 1}, \"27\": {\"27\": 16}, \"35\": {\"35\": 16}, \"48\": {\"48\": 16}, \"0\": {\"0\": 14, \"32\": 1, \"5\": 1}, \"44\": {\"44\": 16}, \"50\": {\"50\": 16}, \"36\": {\"36\": 16}, \"13\": {\"13\": 16}, \"42\": {\"42\": 16}, \"38\": {\"38\": 16}, \"54\": {\"54\": 16}, \"33\": {\"33\": 16}, \"49\": {\"49\": 16}, \"28\": {\"28\": 16}, \"53\": {\"53\": 16}, \"16\": {\"16\": 16}, \"20\": {\"20\": 16}, \"12\": {\"12\": 16}, \"1\": {\"1\": 16}, \"5\": {\"5\": 16}, \"52\": {\"52\": 16}, \"39\": {\"39\": 16}, \"11\": {\"11\": 16}, \"3\": {\"3\": 16}, \"22\": {\"22\": 16}, \"23\": {\"23\": 16}, \"47\": {\"47\": 16}, \"32\": {\"32\": 16}, \"31\": {\"31\": 16}, \"4\": {\"4\": 16}, \"43\": {\"43\": 16}, \"46\": {\"46\": 16}, \"40\": {\"40\": 16}, \"55\": {\"55\": 16}, \"21\": {\"21\": 16}, \"56\": {\"56\": 16}, \"8\": {\"8\": 16}, \"37\": {\"37\": 16}, \"7\": {\"7\": 16}, \"14\": {\"14\": 16}, \"18\": {\"18\": 16}, \"26\": {\"26\": 16}, \"34\": {\"34\": 16}, \"45\": {\"45\": 16}, \"10\": {\"10\": 16}, \"15\": {\"15\": 16}, \"51\": {\"51\": 16}, \"30\": {\"30\": 16}, \"41\": {\"41\": 16}, \"2\": {\"2\": 16}, \"29\": {\"29\": 16}, \"19\": {\"19\": 16}, \"17\": {\"17\": 16}, \"9\": {\"9\": 16}, \"57\": {\"57\": 16}}, \"CORES_3\": {\"20\": {\"20\": 16}, \"56\": {\"56\": 16}, \"43\": {\"43\": 16}, \"1\": {\"1\": 16}, \"41\": {\"41\": 16}, \"29\": {\"29\": 16}, \"27\": {\"27\": 16}, \"4\": {\"4\": 16}, \"53\": {\"53\": 16}, \"22\": {\"22\": 16}, \"46\": {\"46\": 16}, \"54\": {\"54\": 16}, \"9\": {\"9\": 16}, \"5\": {\"5\": 16}, \"18\": {\"18\": 16}, \"45\": {\"45\": 15, \"2\": 1}, \"48\": {\"48\": 16}, \"35\": {\"35\": 16}, \"40\": {\"40\": 16}, \"33\": {\"33\": 16}, \"0\": {\"0\": 16}, \"44\": {\"44\": 16}, \"50\": {\"50\": 16}, \"38\": {\"38\": 16}, \"57\": {\"57\": 16}, \"15\": {\"15\": 14, \"11\": 2}, \"26\": {\"26\": 15, \"46\": 1}, \"51\": {\"51\": 16}, \"30\": {\"30\": 16}, \"47\": {\"47\": 16}, \"6\": {\"6\": 15, \"50\": 1}, \"8\": {\"8\": 16}, \"24\": {\"24\": 16}, \"12\": {\"12\": 16}, \"7\": {\"7\": 16}, \"49\": {\"49\": 16}, \"28\": {\"28\": 15, \"5\": 1}, \"2\": {\"2\": 16}, \"42\": {\"42\": 16}, \"11\": {\"11\": 16}, \"23\": {\"23\": 16}, \"17\": {\"17\": 16}, \"52\": {\"52\": 16}, \"31\": {\"31\": 16}, \"32\": {\"32\": 16}, \"21\": {\"21\": 16}, \"19\": {\"19\": 16}, \"39\": {\"39\": 16}, \"3\": {\"3\": 16}, \"13\": {\"13\": 16}, \"25\": {\"25\": 16}, \"55\": {\"55\": 16}, \"16\": {\"16\": 16}, \"37\": {\"37\": 16}, \"36\": {\"36\": 16}, \"14\": {\"14\": 16}, \"34\": {\"34\": 16}, \"10\": {\"10\": 16}}, \"Wisig_2\": {\"41\": {\"41\": 16, \"102\": 1, \"29\": 1, \"109\": 1, \"12\": 1}, \"31\": {\"31\": 14, \"126\": 1, \"118\": 2, \"69\": 2, \"47\": 1}, \"126\": {\"42\": 3, \"126\": 35, \"44\": 5, \"1\": 1, \"47\": 2, \"71\": 2, \"16\": 2, \"108\": 1, \"87\": 1}, \"80\": {\"80\": 15, \"14\": 1}, \"101\": {\"101\": 45, \"0\": 5}, \"128\": {\"128\": 3, \"53\": 1, \"51\": 1, \"73\": 2, \"1\": 1, \"97\": 4, \"101\": 2, \"0\": 1, \"114\": 4, \"19\": 1, \"58\": 1, \"71\": 1, \"30\": 1, \"85\": 1}, \"46\": {\"46\": 13, \"83\": 1, \"42\": 1, \"126\": 1}, \"96\": {\"96\": 20}, \"117\": {\"117\": 34, \"65\": 2}, \"109\": {\"81\": 1, \"109\": 25, \"31\": 2, \"39\": 1, \"10\": 1, \"88\": 1, \"117\": 1, \"14\": 1, \"45\": 3, \"82\": 1, \"102\": 2, \"18\": 1}, \"17\": {\"26\": 1, \"17\": 10, \"16\": 1, \"18\": 1, \"99\": 1, \"95\": 2}, \"63\": {\"63\": 20}, \"69\": {\"69\": 37, \"126\": 1, \"89\": 1, \"82\": 1, \"21\": 1, \"12\": 1}, \"30\": {\"30\": 29, \"88\": 2, \"97\": 4, \"107\": 1, \"21\": 2, \"127\": 4, \"103\": 1, \"52\": 1, \"6\": 2, \"75\": 1, \"77\": 1, \"15\": 1, \"29\": 1, \"27\": 1, \"0\": 1}, \"120\": {\"120\": 20}, \"4\": {\"54\": 1, \"107\": 2, \"4\": 33}, \"102\": {\"102\": 50}, \"81\": {\"81\": 20, \"6\": 1, \"39\": 2, \"69\": 1}, \"6\": {\"6\": 17, \"51\": 2, \"97\": 3, \"30\": 1, \"91\": 1, \"58\": 4, \"75\": 1, \"15\": 2, \"125\": 1}, \"110\": {\"110\": 29, \"25\": 1, \"122\": 3, \"23\": 1, \"60\": 1, \"38\": 1}, \"55\": {\"55\": 12, \"62\": 4}, \"67\": {\"67\": 10, \"118\": 2, \"61\": 2, \"66\": 1, \"92\": 1}, \"50\": {\"50\": 16}, \"19\": {\"19\": 11, \"119\": 1, \"70\": 2, \"129\": 6, \"43\": 6, \"47\": 1, \"122\": 1}, \"104\": {\"17\": 2, \"104\": 16, \"40\": 2}, \"112\": {\"5\": 3, \"128\": 2, \"112\": 8, \"49\": 2, \"71\": 1}, \"10\": {\"78\": 2, \"55\": 1, \"10\": 22, \"14\": 4, \"105\": 5, \"79\": 1, \"95\": 1, \"88\": 1, \"7\": 1, \"22\": 2, \"32\": 2, \"50\": 1, \"21\": 1}, \"54\": {\"54\": 20}, \"7\": {\"7\": 32, \"17\": 2, \"95\": 2}, \"28\": {\"28\": 16, \"37\": 1, \"60\": 1, \"82\": 2}, \"5\": {\"5\": 30, \"73\": 2, \"124\": 1, \"19\": 1, \"3\": 1, \"71\": 2, \"21\": 2, \"49\": 1}, \"15\": {\"15\": 28, \"9\": 4, \"125\": 4, \"97\": 2, \"94\": 6}, \"73\": {\"73\": 26, \"43\": 1, \"124\": 1}, \"76\": {\"76\": 13, \"26\": 1, \"92\": 1, \"24\": 1}, \"105\": {\"105\": 41, \"86\": 1, \"95\": 1, \"107\": 1}, \"78\": {\"107\": 8, \"86\": 2, \"38\": 1, \"32\": 1, \"88\": 3, \"43\": 1, \"39\": 1, \"16\": 1, \"109\": 3, \"78\": 8, \"18\": 1, \"115\": 1, \"31\": 1, \"56\": 1, \"40\": 1, \"93\": 1, \"70\": 1}, \"106\": {\"49\": 1, \"106\": 34, \"16\": 1, \"27\": 1, \"58\": 1, \"47\": 1, \"98\": 3, \"15\": 1, \"94\": 1}, \"57\": {\"57\": 17, \"126\": 1, \"87\": 1, \"21\": 1}, \"90\": {\"90\": 35, \"70\": 2, \"121\": 1}, \"35\": {\"35\": 11, \"68\": 1}, \"64\": {\"64\": 14, \"26\": 1, \"126\": 1}, \"3\": {\"5\": 4, \"3\": 19, \"124\": 2, \"71\": 1}, \"42\": {\"73\": 1, \"112\": 3, \"53\": 1, \"46\": 1, \"42\": 14, \"108\": 3, \"126\": 2, \"49\": 1, \"124\": 1, \"11\": 1}, \"103\": {\"103\": 15, \"68\": 1}, \"49\": {\"53\": 2, \"49\": 11, \"128\": 1, \"11\": 1, \"77\": 1, \"52\": 2, \"108\": 2, \"114\": 1, \"124\": 1, \"5\": 1, \"129\": 1}, \"123\": {\"123\": 16}, \"13\": {\"13\": 5, \"27\": 1, \"96\": 1, \"2\": 1, \"72\": 6, \"120\": 2}, \"9\": {\"9\": 30, \"15\": 2}, \"118\": {\"118\": 34, \"69\": 1, \"14\": 2, \"67\": 1, \"62\": 2}, \"91\": {\"103\": 2, \"91\": 8, \"17\": 1, \"34\": 4, \"54\": 5, \"56\": 1, \"59\": 1, \"111\": 2, \"29\": 2, \"4\": 1, \"51\": 1}, \"27\": {\"27\": 28, \"59\": 1, \"9\": 1, \"24\": 3, \"36\": 8, \"21\": 2, \"81\": 1, \"94\": 2}, \"53\": {\"53\": 14, \"73\": 1, \"52\": 1}, \"32\": {\"123\": 1, \"32\": 9, \"77\": 1, \"70\": 5, \"105\": 3, \"14\": 4, \"43\": 1, \"10\": 6, \"122\": 2, \"22\": 1, \"60\": 1}, \"107\": {\"107\": 28, \"36\": 1, \"61\": 1, \"110\": 1, \"6\": 1, \"4\": 3, \"86\": 7, \"43\": 1, \"51\": 1, \"95\": 1, \"22\": 1, \"55\": 2, \"38\": 1, \"32\": 1}, \"36\": {\"36\": 18, \"27\": 6, \"24\": 5, \"94\": 1, \"25\": 1, \"108\": 3, \"15\": 3, \"23\": 1}, \"129\": {\"3\": 1, \"129\": 28, \"111\": 1, \"112\": 1, \"73\": 1}, \"26\": {\"13\": 1, \"117\": 4, \"26\": 28, \"18\": 2, \"72\": 1, \"57\": 1, \"65\": 1, \"2\": 1, \"21\": 2, \"109\": 1}, \"85\": {\"73\": 5, \"85\": 24, \"102\": 1, \"114\": 1, \"124\": 1}, \"68\": {\"27\": 1, \"68\": 14, \"47\": 1}, \"95\": {\"95\": 35, \"86\": 1}, \"12\": {\"12\": 26, \"41\": 1, \"114\": 1, \"16\": 1, \"91\": 3, \"52\": 1, \"11\": 1, \"111\": 2, \"21\": 1, \"71\": 1}, \"71\": {\"71\": 41, \"114\": 2, \"8\": 1, \"19\": 1, \"11\": 1, \"3\": 3, \"98\": 1, \"73\": 1, \"128\": 2, \"5\": 1}, \"16\": {\"96\": 4, \"16\": 28, \"87\": 1, \"93\": 10, \"6\": 1, \"126\": 1, \"14\": 1, \"119\": 1, \"116\": 1, \"9\": 1, \"88\": 1}, \"20\": {\"27\": 1, \"20\": 15}, \"74\": {\"74\": 7, \"105\": 2, \"95\": 2, \"24\": 1, \"50\": 4}, \"79\": {\"79\": 14, \"35\": 1, \"32\": 1}, \"58\": {\"51\": 2, \"58\": 15, \"111\": 1, \"6\": 1, \"20\": 1}, \"122\": {\"122\": 24, \"110\": 3, \"19\": 2, \"71\": 1, \"23\": 1, \"8\": 1, \"77\": 1, \"34\": 1, \"127\": 4, \"43\": 1, \"32\": 1}, \"98\": {\"98\": 45, \"21\": 1, \"23\": 1, \"34\": 1, \"12\": 1, \"11\": 2, \"49\": 1, \"41\": 1, \"72\": 1, \"125\": 2}, \"83\": {\"83\": 34, \"44\": 1, \"100\": 1}, \"99\": {\"99\": 32}, \"14\": {\"14\": 40, \"21\": 2, \"32\": 2, \"118\": 2, \"24\": 1, \"126\": 1}, \"2\": {\"88\": 2, \"2\": 10, \"121\": 4, \"69\": 1, \"51\": 1, \"100\": 2, \"117\": 3, \"18\": 2, \"20\": 1, \"83\": 1, \"93\": 4, \"26\": 1}, \"34\": {\"34\": 5, \"41\": 2, \"86\": 4, \"110\": 1, \"51\": 3, \"91\": 1, \"59\": 1, \"32\": 1, \"111\": 3, \"60\": 1, \"14\": 2, \"7\": 1, \"29\": 1, \"6\": 4, \"107\": 1, \"127\": 1}, \"88\": {\"88\": 13, \"96\": 4, \"45\": 1, \"16\": 5, \"100\": 2, \"21\": 3, \"129\": 1, \"83\": 1, \"60\": 1, \"14\": 1, \"39\": 1, \"93\": 2, \"84\": 2, \"123\": 1, \"72\": 1, \"44\": 1, \"18\": 2}, \"51\": {\"51\": 11, \"125\": 1, \"15\": 1, \"127\": 2, \"111\": 2, \"29\": 1, \"75\": 1, \"6\": 1}, \"45\": {\"45\": 14, \"82\": 1, \"102\": 1}, \"125\": {\"125\": 22, \"98\": 4, \"106\": 3, \"15\": 3}, \"43\": {\"43\": 15, \"82\": 1, \"126\": 1, \"84\": 4, \"38\": 1, \"60\": 1, \"21\": 3, \"70\": 4, \"33\": 1, \"78\": 4, \"4\": 1, \"115\": 1, \"28\": 1, \"93\": 1, \"107\": 1}, \"92\": {\"92\": 27, \"89\": 1}, \"8\": {\"8\": 31, \"117\": 1, \"127\": 1, \"78\": 1, \"122\": 2, \"124\": 5, \"60\": 1, \"2\": 1, \"0\": 1}, \"82\": {\"82\": 36}, \"66\": {\"66\": 19, \"38\": 1}, \"59\": {\"27\": 1, \"34\": 1, \"59\": 10, \"91\": 1, \"24\": 1, \"97\": 1, \"98\": 1}, \"75\": {\"75\": 15, \"51\": 1}, \"29\": {\"29\": 27, \"91\": 2, \"127\": 1, \"103\": 1, \"30\": 1}, \"40\": {\"40\": 31, \"17\": 2, \"104\": 1, \"86\": 1, \"18\": 1, \"61\": 1, \"95\": 1, \"21\": 2, \"78\": 1, \"72\": 1, \"105\": 1, \"107\": 1}, \"97\": {\"97\": 15, \"128\": 1, \"58\": 3, \"110\": 1}, \"33\": {\"33\": 37, \"84\": 2, \"19\": 1}, \"47\": {\"44\": 5, \"42\": 2, \"27\": 1, \"47\": 2, \"124\": 1, \"129\": 1}, \"1\": {\"1\": 40, \"19\": 1, \"60\": 2, \"85\": 1, \"23\": 1, \"5\": 1, \"124\": 1, \"98\": 1}, \"44\": {\"44\": 36, \"126\": 1, \"83\": 1}, \"62\": {\"62\": 29, \"105\": 3, \"86\": 1, \"32\": 2, \"126\": 1}, \"127\": {\"127\": 34, \"29\": 3, \"88\": 1, \"122\": 1, \"111\": 1}, \"84\": {\"84\": 29, \"21\": 1, \"15\": 1, \"102\": 2, \"33\": 2, \"24\": 1, \"80\": 1, \"93\": 1, \"43\": 2}, \"72\": {\"72\": 23, \"39\": 2, \"27\": 1, \"116\": 1, \"109\": 1}, \"87\": {\"96\": 4, \"33\": 7, \"87\": 13, \"88\": 4, \"70\": 1, \"21\": 1, \"1\": 3, \"90\": 3, \"84\": 1, \"47\": 1, \"78\": 1, \"99\": 1, \"110\": 1, \"8\": 1, \"126\": 1, \"23\": 1}, \"121\": {\"121\": 20, \"65\": 1, \"113\": 8, \"2\": 1, \"117\": 2, \"18\": 1, \"81\": 1, \"26\": 2}, \"21\": {\"31\": 1, \"21\": 30, \"18\": 2, \"113\": 1, \"14\": 1, \"16\": 1}, \"115\": {\"115\": 11, \"69\": 1}, \"111\": {\"111\": 45, \"88\": 1, \"39\": 1, \"58\": 2, \"29\": 1}, \"61\": {\"61\": 17, \"66\": 2, \"126\": 1}, \"24\": {\"36\": 5, \"24\": 20, \"15\": 2, \"94\": 4, \"126\": 1, \"108\": 2, \"25\": 1, \"47\": 1}, \"56\": {\"56\": 11, \"107\": 1}, \"11\": {\"0\": 1, \"11\": 19, \"12\": 2, \"71\": 1, \"15\": 1, \"21\": 1, \"108\": 1, \"94\": 1, \"44\": 1, \"30\": 1, \"98\": 1}, \"48\": {\"48\": 20}, \"39\": {\"39\": 10, \"72\": 1, \"65\": 2, \"81\": 1, \"109\": 1, \"117\": 5, \"121\": 1, \"102\": 5, \"69\": 2, \"70\": 1, \"13\": 1, \"126\": 1, \"18\": 2, \"93\": 1, \"113\": 2}, \"77\": {\"77\": 7, \"29\": 2, \"111\": 2, \"52\": 4, \"21\": 1}, \"93\": {\"93\": 32, \"119\": 2, \"83\": 3, \"16\": 3, \"47\": 1, \"13\": 1, \"88\": 4, \"96\": 1, \"70\": 1}, \"0\": {\"0\": 21, \"52\": 4, \"101\": 13}, \"114\": {\"114\": 33, \"71\": 2, \"85\": 1, \"128\": 1, \"126\": 1}, \"37\": {\"37\": 12, \"107\": 1, \"66\": 1, \"28\": 1, \"21\": 1}, \"124\": {\"124\": 31, \"8\": 4, \"73\": 1}, \"38\": {\"38\": 16}, \"70\": {\"110\": 7, \"47\": 1, \"70\": 7, \"45\": 1, \"88\": 2, \"87\": 1, \"69\": 1, \"16\": 1, \"43\": 6, \"33\": 3, \"60\": 1, \"14\": 2, \"78\": 1, \"84\": 3, \"62\": 2, \"109\": 1}, \"116\": {\"70\": 3, \"116\": 17, \"45\": 2, \"82\": 1, \"33\": 3, \"90\": 1, \"85\": 1}, \"119\": {\"119\": 18, \"100\": 1, \"83\": 1}, \"60\": {\"83\": 4, \"78\": 1, \"73\": 1, \"60\": 4, \"70\": 2, \"77\": 1, \"48\": 3, \"43\": 1, \"22\": 1, \"85\": 1, \"8\": 1, \"123\": 3, \"1\": 2, \"71\": 1, \"14\": 1, \"122\": 1}, \"86\": {\"86\": 30, \"107\": 1, \"55\": 1}, \"65\": {\"113\": 2, \"65\": 15, \"121\": 1, \"2\": 2}, \"94\": {\"24\": 6, \"94\": 14, \"88\": 1, \"106\": 1, \"36\": 3, \"15\": 3, \"25\": 1, \"108\": 2, \"125\": 2, \"93\": 1, \"98\": 1, \"126\": 1}, \"113\": {\"113\": 29, \"65\": 2, \"121\": 2, \"26\": 1, \"117\": 2}, \"18\": {\"13\": 2, \"18\": 28, \"69\": 5, \"81\": 2, \"72\": 1, \"26\": 1, \"39\": 1, \"117\": 2, \"113\": 2}, \"23\": {\"23\": 6, \"99\": 5, \"20\": 1, \"19\": 1, \"52\": 2, \"122\": 7, \"0\": 1, \"26\": 1, \"107\": 1, \"8\": 3, \"103\": 1, \"29\": 1, \"48\": 1, \"2\": 1, \"121\": 1, \"70\": 1, \"127\": 1, \"110\": 3}, \"108\": {\"108\": 32, \"24\": 3, \"42\": 3, \"36\": 1, \"112\": 1}, \"89\": {\"89\": 31, \"88\": 1, \"33\": 1, \"76\": 1, \"92\": 1, \"31\": 1}, \"52\": {\"52\": 18, \"49\": 1, \"128\": 1}, \"25\": {\"15\": 1, \"25\": 15}, \"22\": {\"22\": 16, \"105\": 1, \"32\": 2, \"126\": 1}, \"100\": {\"100\": 15, \"83\": 1}}, \"Wisig_4\": {\"71\": {\"71\": 43, \"50\": 2, \"114\": 5, \"124\": 1, \"21\": 1}, \"112\": {\"112\": 14, \"9\": 2}, \"75\": {\"75\": 14, \"24\": 1, \"36\": 1}, \"17\": {\"17\": 17, \"24\": 1, \"40\": 2}, \"50\": {\"50\": 15, \"125\": 1}, \"60\": {\"60\": 7, \"100\": 1, \"20\": 2, \"8\": 5, \"38\": 1, \"124\": 2, \"128\": 1, \"19\": 2, \"44\": 2, \"111\": 1, \"108\": 1, \"50\": 1, \"90\": 1, \"97\": 1, \"46\": 1, \"28\": 1}, \"12\": {\"76\": 1, \"12\": 23, \"41\": 1, \"98\": 7, \"85\": 3, \"78\": 1, \"91\": 1, \"52\": 1, \"69\": 1, \"106\": 1}, \"29\": {\"29\": 29, \"95\": 1, \"86\": 1, \"26\": 1}, \"15\": {\"15\": 27, \"94\": 2, \"10\": 2, \"8\": 1, \"98\": 1, \"70\": 1}, \"7\": {\"7\": 26, \"4\": 6, \"87\": 1, \"127\": 1, \"34\": 1, \"89\": 2, \"86\": 2, \"95\": 1}, \"27\": {\"27\": 23, \"94\": 1, \"21\": 1, \"53\": 1, \"24\": 2, \"41\": 1, \"122\": 1, \"70\": 2, \"10\": 1, \"42\": 2, \"9\": 4, \"8\": 1, \"124\": 1, \"98\": 1, \"15\": 1, \"93\": 1}, \"91\": {\"91\": 13, \"68\": 1, \"103\": 5, \"85\": 2, \"8\": 1, \"128\": 1, \"30\": 1}, \"20\": {\"20\": 12, \"79\": 1, \"80\": 1, \"60\": 1, \"11\": 1}, \"16\": {\"16\": 27, \"69\": 3, \"109\": 4, \"93\": 1, \"21\": 1}, \"99\": {\"99\": 29, \"122\": 2, \"84\": 1, \"102\": 1, \"120\": 1}, \"26\": {\"26\": 40, \"21\": 1, \"18\": 3, \"35\": 2}, \"24\": {\"9\": 1, \"94\": 7, \"97\": 1, \"24\": 20, \"25\": 5, \"36\": 13, \"27\": 7, \"42\": 1, \"21\": 1, \"15\": 1, \"10\": 1}, \"58\": {\"58\": 13, \"108\": 1, \"51\": 2}, \"74\": {\"74\": 16}, \"110\": {\"110\": 24, \"90\": 3, \"19\": 1, \"72\": 2, \"116\": 1, \"66\": 2, \"99\": 1, \"43\": 1, \"113\": 1}, \"67\": {\"76\": 2, \"67\": 1, \"31\": 1, \"123\": 1, \"48\": 2, \"120\": 6, \"92\": 1, \"63\": 1, \"69\": 1}, \"46\": {\"46\": 19, \"71\": 1}, \"19\": {\"52\": 4, \"19\": 12, \"5\": 2, \"34\": 1, \"93\": 5, \"72\": 2, \"73\": 2}, \"81\": {\"81\": 31, \"117\": 4, \"51\": 1}, \"0\": {\"0\": 24, \"107\": 1, \"101\": 9, \"14\": 1, \"7\": 2, \"21\": 1, \"89\": 1, \"86\": 2, \"34\": 1}, \"104\": {\"104\": 15, \"17\": 1}, \"9\": {\"73\": 1, \"112\": 3, \"9\": 24}, \"96\": {\"96\": 19, \"32\": 1}, \"14\": {\"122\": 3, \"45\": 1, \"89\": 1, \"14\": 32, \"32\": 2, \"109\": 1}, \"114\": {\"114\": 29, \"129\": 1, \"71\": 6}, \"59\": {\"59\": 12}, \"21\": {\"21\": 37, \"81\": 1, \"69\": 1, \"0\": 1}, \"88\": {\"5\": 1, \"9\": 1, \"49\": 3, \"88\": 10, \"23\": 1, \"108\": 7, \"70\": 3, \"42\": 3, \"60\": 1, \"113\": 2, \"73\": 1, \"124\": 1}, \"4\": {\"7\": 5, \"4\": 28, \"95\": 7, \"21\": 1, \"127\": 1}, \"129\": {\"100\": 4, \"129\": 15, \"5\": 2, \"119\": 2, \"19\": 2, \"73\": 3}, \"30\": {\"8\": 6, \"30\": 28, \"21\": 1, \"4\": 2, \"58\": 2, \"51\": 1, \"122\": 1, \"10\": 3, \"97\": 2, \"111\": 1, \"52\": 1, \"6\": 1, \"0\": 1}, \"5\": {\"80\": 2, \"5\": 34, \"99\": 1, \"88\": 1, \"36\": 1, \"49\": 1}, \"119\": {\"119\": 15, \"129\": 1}, \"66\": {\"66\": 15, \"102\": 1}, \"53\": {\"53\": 13, \"49\": 1, \"116\": 1, \"8\": 1}, \"51\": {\"58\": 4, \"14\": 1, \"21\": 1, \"125\": 2, \"41\": 2, \"59\": 1, \"126\": 1, \"51\": 1, \"94\": 2, \"24\": 1}, \"37\": {\"37\": 15, \"95\": 1}, \"127\": {\"127\": 34, \"95\": 2, \"10\": 1, \"4\": 2, \"29\": 2, \"21\": 1}, \"80\": {\"80\": 16}, \"55\": {\"55\": 16}, \"122\": {\"122\": 22, \"99\": 2, \"45\": 1, \"10\": 1, \"96\": 1, \"43\": 1, \"21\": 2, \"107\": 6, \"84\": 4, \"51\": 1, \"14\": 2, \"102\": 1}, \"8\": {\"8\": 32, \"70\": 1, \"111\": 2, \"124\": 5, \"128\": 1, \"21\": 1, \"60\": 2, \"97\": 2, \"72\": 1, \"0\": 1}, \"76\": {\"76\": 12, \"118\": 2, \"120\": 1, \"104\": 1}, \"57\": {\"57\": 14, \"21\": 2}, \"52\": {\"52\": 11, \"106\": 1, \"111\": 1, \"103\": 2, \"53\": 1, \"98\": 4}, \"100\": {\"100\": 15, \"72\": 1, \"129\": 2, \"60\": 1, \"19\": 1}, \"93\": {\"93\": 35, \"5\": 1, \"108\": 3, \"88\": 2, \"129\": 2, \"78\": 1}, \"82\": {\"82\": 26, \"101\": 1, \"89\": 1, \"62\": 2}, \"86\": {\"127\": 1, \"86\": 25, \"4\": 1, \"7\": 1}, \"107\": {\"107\": 35, \"126\": 1, \"84\": 1, \"105\": 1, \"87\": 3, \"89\": 1}, \"73\": {\"80\": 2, \"129\": 2, \"73\": 15, \"88\": 3, \"77\": 1, \"108\": 1}, \"116\": {\"96\": 2, \"116\": 10, \"50\": 1, \"44\": 3, \"87\": 1, \"38\": 1, \"102\": 2, \"84\": 1, \"122\": 1, \"69\": 1, \"110\": 1, \"33\": 1, \"28\": 2, \"45\": 1}, \"94\": {\"14\": 1, \"94\": 34, \"10\": 3, \"36\": 1, \"24\": 3, \"15\": 2, \"21\": 1, \"125\": 1}, \"97\": {\"94\": 1, \"42\": 1, \"24\": 5, \"32\": 1, \"97\": 4, \"36\": 5, \"10\": 1, \"9\": 1, \"25\": 1}, \"68\": {\"68\": 12, \"91\": 1, \"77\": 1, \"85\": 2}, \"10\": {\"6\": 3, \"58\": 1, \"10\": 11, \"27\": 3, \"111\": 3, \"94\": 3, \"21\": 1, \"15\": 4, \"108\": 2, \"125\": 1, \"97\": 2, \"88\": 2, \"103\": 1, \"24\": 1, \"30\": 1, \"8\": 1}, \"31\": {\"31\": 13, \"76\": 1, \"69\": 1, \"36\": 1}, \"47\": {\"58\": 3, \"47\": 6, \"59\": 1, \"9\": 1, \"108\": 1}, \"65\": {\"65\": 9, \"31\": 1, \"81\": 2}, \"28\": {\"28\": 17, \"116\": 2, \"74\": 1}, \"2\": {\"117\": 2, \"35\": 1, \"84\": 2, \"108\": 4, \"93\": 1, \"2\": 9, \"5\": 1, \"18\": 3, \"26\": 4, \"19\": 1}, \"42\": {\"112\": 2, \"42\": 11, \"27\": 2, \"114\": 2, \"84\": 1, \"98\": 1, \"88\": 1, \"8\": 3, \"53\": 1, \"73\": 2, \"49\": 2}, \"102\": {\"102\": 42, \"21\": 1, \"84\": 6, \"113\": 1}, \"95\": {\"95\": 32}, \"35\": {\"35\": 9, \"26\": 3}, \"33\": {\"33\": 40, \"43\": 2}, \"6\": {\"6\": 9, \"51\": 2, \"75\": 2, \"12\": 2, \"85\": 2, \"111\": 1, \"15\": 1, \"68\": 2, \"10\": 2, \"91\": 1}, \"49\": {\"79\": 4, \"11\": 11, \"53\": 2, \"49\": 7, \"124\": 1, \"8\": 6, \"10\": 1}, \"45\": {\"45\": 16}, \"89\": {\"89\": 30, \"40\": 1, \"55\": 1}, \"40\": {\"40\": 34, \"126\": 1, \"21\": 1, \"105\": 2}, \"3\": {\"3\": 35, \"1\": 1}, \"63\": {\"63\": 16}, \"13\": {\"13\": 16}, \"108\": {\"5\": 5, \"20\": 1, \"93\": 2, \"112\": 1, \"19\": 1, \"108\": 16, \"88\": 2, \"73\": 5, \"1\": 1, \"49\": 1, \"113\": 1, \"30\": 1, \"78\": 1}, \"125\": {\"47\": 3, \"125\": 34, \"41\": 1, \"98\": 2, \"106\": 2, \"6\": 1, \"39\": 1, \"10\": 1, \"26\": 1}, \"123\": {\"123\": 16}, \"115\": {\"115\": 8, \"43\": 1, \"71\": 2, \"6\": 1, \"128\": 2, \"120\": 2}, \"117\": {\"117\": 45, \"23\": 1, \"81\": 3, \"93\": 1, \"18\": 1, \"78\": 1}, \"43\": {\"115\": 1, \"2\": 1, \"43\": 13, \"105\": 3, \"96\": 2, \"122\": 3, \"99\": 3, \"87\": 5, \"21\": 1, \"110\": 1, \"33\": 4, \"90\": 2, \"107\": 1, \"116\": 1, \"78\": 1}, \"38\": {\"33\": 2, \"66\": 1, \"38\": 11, \"74\": 1, \"57\": 1}, \"128\": {\"115\": 1, \"100\": 2, \"128\": 8, \"71\": 4, \"72\": 1, \"33\": 1, \"118\": 1, \"8\": 1, \"124\": 1, \"4\": 1, \"19\": 2, \"87\": 1}, \"83\": {\"83\": 23, \"11\": 4, \"112\": 1}, \"79\": {\"79\": 16}, \"124\": {\"124\": 33, \"8\": 3, \"72\": 4}, \"84\": {\"84\": 37, \"102\": 7, \"16\": 1, \"122\": 4, \"45\": 1}, \"103\": {\"103\": 13, \"16\": 1, \"85\": 2}, \"121\": {\"21\": 1, \"126\": 1, \"121\": 16, \"113\": 6, \"2\": 2, \"63\": 2, \"13\": 1, \"93\": 1, \"39\": 2}, \"34\": {\"34\": 11, \"75\": 2, \"78\": 2, \"72\": 1, \"47\": 1, \"6\": 1, \"87\": 4, \"85\": 1, \"89\": 1, \"77\": 1, \"43\": 1, \"14\": 2, \"125\": 3, \"40\": 1}, \"126\": {\"126\": 37, \"39\": 1, \"113\": 5, \"123\": 1}, \"44\": {\"44\": 40, \"121\": 1, \"113\": 2, \"90\": 1, \"33\": 1, \"114\": 1}, \"41\": {\"41\": 9, \"21\": 1, \"125\": 2, \"12\": 1, \"50\": 1, \"98\": 1, \"91\": 1}, \"101\": {\"101\": 22, \"0\": 10, \"21\": 2, \"95\": 1, \"89\": 1}, \"109\": {\"109\": 31, \"31\": 1, \"35\": 1, \"96\": 2, \"117\": 1, \"62\": 1, \"69\": 1, \"21\": 1, \"16\": 2, \"118\": 1}, \"106\": {\"106\": 24, \"49\": 1, \"125\": 1, \"98\": 2, \"12\": 9, \"88\": 1, \"8\": 2, \"10\": 1, \"23\": 1, \"1\": 1, \"111\": 1}, \"11\": {\"20\": 2, \"11\": 25, \"88\": 5, \"70\": 2, \"108\": 2, \"83\": 2, \"73\": 1, \"5\": 1, \"60\": 2}, \"77\": {\"77\": 12}, \"62\": {\"31\": 2, \"62\": 18, \"21\": 2, \"126\": 1, \"118\": 5, \"76\": 2, \"36\": 1, \"78\": 1}, \"39\": {\"39\": 25, \"121\": 4, \"126\": 2, \"81\": 4, \"117\": 2, \"8\": 1, \"26\": 1, \"113\": 1}, \"61\": {\"35\": 2, \"61\": 12, \"26\": 2}, \"98\": {\"73\": 2, \"12\": 1, \"98\": 37, \"111\": 3, \"85\": 1, \"122\": 1, \"70\": 1}, \"111\": {\"51\": 1, \"111\": 25, \"91\": 1, \"8\": 1, \"98\": 2, \"85\": 2}, \"64\": {\"64\": 14, \"120\": 2}, \"70\": {\"70\": 14, \"49\": 2, \"111\": 1, \"8\": 3, \"23\": 1, \"88\": 5, \"3\": 1, \"42\": 3, \"53\": 1, \"24\": 1, \"72\": 1, \"124\": 1, \"74\": 1, \"27\": 1, \"5\": 1, \"93\": 1}, \"25\": {\"25\": 16}, \"56\": {\"56\": 11, \"36\": 1}, \"72\": {\"72\": 24, \"87\": 1, \"128\": 1, \"110\": 1, \"60\": 4, \"19\": 1}, \"87\": {\"107\": 8, \"99\": 1, \"87\": 18, \"105\": 15, \"22\": 1, \"40\": 3, \"78\": 1, \"43\": 1, \"115\": 1, \"122\": 1, \"21\": 1, \"124\": 1}, \"54\": {\"54\": 16}, \"36\": {\"24\": 17, \"25\": 4, \"27\": 1, \"36\": 21, \"10\": 1, \"21\": 1, \"94\": 2, \"97\": 1}, \"90\": {\"90\": 31, \"74\": 1}, \"120\": {\"32\": 1, \"120\": 19}, \"1\": {\"1\": 32, \"3\": 1, \"71\": 4, \"128\": 1, \"114\": 1, \"72\": 2, \"21\": 1}, \"78\": {\"110\": 1, \"72\": 2, \"78\": 3, \"87\": 2, \"39\": 2, \"126\": 5, \"23\": 2, \"34\": 1, \"21\": 1, \"43\": 3, \"84\": 2, \"107\": 2, \"128\": 1, \"26\": 1, \"122\": 1, \"8\": 1}, \"113\": {\"113\": 23, \"39\": 2, \"2\": 1, \"21\": 1, \"121\": 3, \"63\": 1, \"126\": 3, \"125\": 1, \"44\": 1}, \"32\": {\"14\": 1, \"120\": 3, \"69\": 3, \"22\": 4, \"32\": 10, \"31\": 1, \"92\": 1, \"89\": 1, \"65\": 1, \"76\": 2, \"118\": 1}, \"69\": {\"69\": 35, \"118\": 4, \"32\": 2, \"21\": 1, \"122\": 1, \"16\": 1}, \"92\": {\"92\": 21, \"120\": 2, \"40\": 1, \"32\": 1, \"69\": 2, \"45\": 1}, \"22\": {\"22\": 14, \"32\": 1, \"6\": 1}, \"18\": {\"18\": 26, \"117\": 3, \"81\": 1, \"21\": 1, \"26\": 1}, \"23\": {\"34\": 1, \"16\": 1, \"21\": 1, \"48\": 2, \"126\": 1, \"29\": 1, \"128\": 1, \"52\": 1, \"110\": 1, \"58\": 2, \"23\": 1, \"63\": 1, \"127\": 1, \"19\": 1}, \"85\": {\"85\": 22, \"24\": 1, \"91\": 4, \"12\": 1}, \"105\": {\"21\": 1, \"105\": 20, \"7\": 3, \"40\": 3, \"87\": 7, \"107\": 4, \"29\": 1, \"113\": 1}, \"118\": {\"118\": 17, \"31\": 6, \"62\": 2, \"109\": 1, \"69\": 4}, \"48\": {\"48\": 11, \"121\": 1, \"36\": 1, \"67\": 2, \"123\": 1}}, \"Wisig_1\": {\"63\": {\"63\": 15, \"2\": 1}, \"11\": {\"11\": 24, \"61\": 1, \"116\": 4, \"128\": 2, \"82\": 3, \"70\": 1, \"20\": 1}, \"23\": {\"45\": 2, \"79\": 1, \"25\": 1, \"23\": 2, \"1\": 5, \"83\": 1, \"32\": 1, \"127\": 1, \"110\": 1, \"21\": 1, \"128\": 4, \"91\": 1, \"75\": 1, \"34\": 1, \"28\": 1}, \"6\": {\"68\": 3, \"6\": 7, \"127\": 3, \"51\": 4, \"94\": 4, \"30\": 3, \"112\": 2, \"52\": 1, \"98\": 4, \"91\": 1}, \"125\": {\"125\": 30, \"94\": 1, \"71\": 1, \"30\": 1, \"49\": 1, \"98\": 1, \"6\": 3}, \"7\": {\"7\": 37, \"87\": 1}, \"33\": {\"33\": 32}, \"91\": {\"91\": 17, \"71\": 2, \"112\": 1, \"111\": 4, \"34\": 4}, \"108\": {\"108\": 23, \"126\": 2, \"44\": 2, \"109\": 3, \"97\": 4, \"70\": 2, \"9\": 3, \"27\": 1, \"47\": 1, \"73\": 1}, \"61\": {\"61\": 12}, \"69\": {\"69\": 30, \"21\": 1, \"26\": 1}, \"48\": {\"48\": 12}, \"58\": {\"58\": 7, \"91\": 1, \"53\": 2, \"125\": 1, \"41\": 1}, \"21\": {\"6\": 1, \"8\": 7, \"84\": 2, \"58\": 2, \"87\": 2, \"21\": 8, \"60\": 1, \"123\": 1, \"44\": 2, \"34\": 1, \"91\": 1, \"102\": 1, \"23\": 1, \"29\": 1, \"90\": 1, \"19\": 2, \"39\": 1, \"72\": 1, \"109\": 1, \"24\": 1, \"113\": 1, \"83\": 1}, \"103\": {\"103\": 14, \"94\": 2}, \"38\": {\"38\": 14, \"81\": 2}, \"81\": {\"81\": 28}, \"76\": {\"76\": 16}, \"70\": {\"109\": 5, \"70\": 11, \"21\": 3, \"49\": 3, \"29\": 5, \"86\": 2, \"45\": 1, \"44\": 2, \"39\": 1, \"3\": 1, \"111\": 1, \"72\": 1, \"89\": 1, \"124\": 1, \"106\": 1, \"5\": 1}, \"95\": {\"95\": 30, \"117\": 3, \"113\": 1, \"13\": 1, \"39\": 1}, \"43\": {\"43\": 13, \"81\": 2, \"28\": 2, \"105\": 5, \"122\": 8, \"14\": 1, \"4\": 2, \"21\": 1, \"8\": 1, \"93\": 1}, \"127\": {\"127\": 32, \"91\": 4}, \"87\": {\"87\": 26, \"7\": 3, \"17\": 2, \"105\": 3, \"8\": 7, \"107\": 1, \"23\": 2}, \"107\": {\"107\": 33, \"4\": 1}, \"116\": {\"116\": 13, \"61\": 1, \"11\": 3, \"114\": 1, \"78\": 1, \"43\": 1, \"54\": 1, \"102\": 5, \"46\": 1, \"120\": 1, \"90\": 2, \"39\": 1, \"128\": 1}, \"77\": {\"77\": 14, \"17\": 1, \"107\": 1}, \"45\": {\"45\": 2, \"21\": 2, \"42\": 1, \"20\": 1, \"1\": 5, \"66\": 1}, \"96\": {\"126\": 1, \"96\": 15, \"21\": 1, \"104\": 2, \"109\": 1}, \"74\": {\"74\": 16}, \"8\": {\"8\": 36, \"87\": 2, \"84\": 1, \"60\": 2, \"116\": 2, \"83\": 1}, \"114\": {\"114\": 44}, \"32\": {\"32\": 20, \"110\": 4, \"56\": 4, \"127\": 1, \"90\": 1}, \"102\": {\"116\": 2, \"102\": 36, \"65\": 1, \"61\": 1}, \"75\": {\"75\": 15, \"110\": 1}, \"123\": {\"63\": 2, \"123\": 13, \"66\": 1}, \"28\": {\"28\": 16, \"81\": 1, \"14\": 1, \"122\": 2}, \"37\": {\"37\": 16}, \"126\": {\"96\": 4, \"126\": 27, \"109\": 2, \"97\": 2, \"21\": 1}, \"30\": {\"30\": 27, \"129\": 1, \"28\": 1, \"52\": 2, \"94\": 4, \"12\": 1, \"111\": 1, \"71\": 1}, \"71\": {\"71\": 33, \"111\": 5, \"21\": 1, \"12\": 1, \"88\": 1, \"113\": 1, \"6\": 2}, \"18\": {\"18\": 25, \"39\": 2, \"60\": 1}, \"67\": {\"67\": 13, \"88\": 1, \"120\": 2}, \"83\": {\"83\": 23, \"87\": 1, \"84\": 1, \"86\": 1, \"19\": 1, \"5\": 1}, \"22\": {\"22\": 11, \"78\": 1, \"87\": 2, \"61\": 1, \"23\": 1}, \"53\": {\"53\": 16, \"125\": 2, \"71\": 1, \"49\": 1}, \"57\": {\"57\": 12}, \"89\": {\"89\": 26, \"23\": 1, \"31\": 1, \"49\": 1, \"54\": 1, \"46\": 1, \"9\": 1}, \"109\": {\"109\": 31, \"96\": 2, \"42\": 2, \"1\": 1, \"25\": 1, \"124\": 1, \"44\": 1, \"108\": 2, \"21\": 2, \"104\": 2, \"70\": 1}, \"119\": {\"119\": 16}, \"17\": {\"17\": 14, \"27\": 1, \"77\": 1}, \"14\": {\"14\": 32, \"28\": 2}, \"121\": {\"121\": 27, \"117\": 3, \"113\": 1, \"13\": 1}, \"59\": {\"59\": 9, \"121\": 1, \"111\": 1, \"94\": 1}, \"129\": {\"129\": 11, \"84\": 1, \"96\": 1, \"72\": 6, \"44\": 1, \"2\": 2, \"1\": 1, \"18\": 2, \"109\": 1, \"124\": 1, \"64\": 1}, \"105\": {\"105\": 29, \"40\": 9}, \"2\": {\"2\": 10, \"61\": 1, \"11\": 10, \"100\": 1, \"46\": 1, \"42\": 3, \"115\": 1, \"94\": 1, \"128\": 1, \"66\": 1, \"109\": 2}, \"68\": {\"68\": 15, \"91\": 1}, \"82\": {\"82\": 35, \"66\": 1}, \"27\": {\"27\": 15, \"97\": 2, \"24\": 5, \"36\": 5, \"88\": 10, \"15\": 1, \"108\": 1, \"94\": 2, \"9\": 1}, \"111\": {\"111\": 35, \"49\": 1, \"71\": 3, \"6\": 1}, \"124\": {\"124\": 31, \"128\": 2, \"19\": 1, \"23\": 1, \"44\": 1, \"42\": 1, \"1\": 1, \"70\": 1, \"9\": 1}, \"85\": {\"85\": 29, \"0\": 2, \"113\": 1}, \"26\": {\"26\": 44, \"118\": 2}, \"110\": {\"110\": 41, \"58\": 1, \"41\": 1, \"75\": 1, \"55\": 1, \"107\": 1}, \"97\": {\"47\": 1, \"97\": 9, \"95\": 1, \"24\": 2, \"88\": 3, \"108\": 2, \"63\": 1, \"27\": 1}, \"13\": {\"13\": 16}, \"3\": {\"3\": 32, \"82\": 2, \"45\": 1, \"27\": 1}, \"42\": {\"100\": 3, \"8\": 8, \"109\": 8, \"2\": 5, \"42\": 2, \"91\": 1, \"34\": 1}, \"25\": {\"25\": 7, \"100\": 6, \"2\": 1, \"99\": 2}, \"47\": {\"47\": 11, \"126\": 1}, \"115\": {\"115\": 12}, \"118\": {\"118\": 36, \"39\": 1, \"113\": 1}, \"84\": {\"84\": 38, \"11\": 1, \"23\": 1, \"90\": 1, \"83\": 1}, \"120\": {\"120\": 16, \"50\": 1, \"65\": 1, \"113\": 2}, \"92\": {\"92\": 28}, \"79\": {\"79\": 12}, \"80\": {\"81\": 1, \"80\": 15}, \"73\": {\"73\": 16, \"1\": 3, \"9\": 1}, \"36\": {\"36\": 25, \"21\": 1, \"24\": 2, \"27\": 2, \"88\": 3, \"113\": 1}, \"10\": {\"10\": 12, \"85\": 3, \"0\": 11, \"122\": 2, \"62\": 2, \"43\": 2, \"74\": 3, \"24\": 1}, \"104\": {\"104\": 16}, \"50\": {\"50\": 16}, \"39\": {\"39\": 32, \"16\": 1, \"117\": 8, \"13\": 2, \"27\": 1}, \"64\": {\"64\": 16}, \"112\": {\"112\": 16}, \"66\": {\"66\": 16}, \"31\": {\"31\": 13, \"49\": 2, \"94\": 1}, \"100\": {\"100\": 16}, \"101\": {\"101\": 52, \"91\": 2}, \"5\": {\"5\": 29, \"109\": 1}, \"117\": {\"117\": 42}, \"86\": {\"86\": 28, \"106\": 1, \"98\": 1}, \"51\": {\"51\": 14, \"6\": 1, \"30\": 1}, \"34\": {\"23\": 1, \"81\": 3, \"34\": 5, \"98\": 8, \"122\": 2, \"12\": 2, \"106\": 2, \"43\": 2, \"53\": 2, \"86\": 1, \"14\": 1, \"91\": 1, \"68\": 2}, \"4\": {\"4\": 28, \"55\": 2, \"93\": 2, \"40\": 2, \"110\": 6}, \"99\": {\"99\": 23, \"100\": 1}, \"12\": {\"12\": 28, \"71\": 3, \"106\": 1, \"53\": 1, \"52\": 2, \"111\": 1, \"24\": 1, \"109\": 1}, \"0\": {\"0\": 24, \"20\": 1, \"85\": 7, \"48\": 1, \"35\": 1, \"10\": 1, \"21\": 1}, \"78\": {\"78\": 4, \"81\": 2, \"40\": 2, \"87\": 1, \"90\": 1, \"84\": 1, \"105\": 4, \"21\": 1}, \"88\": {\"88\": 19, \"24\": 4, \"97\": 4, \"27\": 7, \"36\": 3, \"108\": 1}, \"40\": {\"40\": 34, \"105\": 4}, \"20\": {\"20\": 16}, \"90\": {\"84\": 1, \"90\": 34, \"66\": 1}, \"65\": {\"57\": 4, \"13\": 5, \"76\": 1, \"65\": 1, \"102\": 1}, \"44\": {\"44\": 38}, \"93\": {\"107\": 3, \"93\": 19, \"35\": 1, \"43\": 2, \"40\": 2, \"7\": 2, \"87\": 1, \"84\": 2, \"23\": 1, \"28\": 1, \"8\": 1, \"21\": 1, \"110\": 1, \"4\": 1}, \"122\": {\"122\": 25, \"43\": 7, \"80\": 1, \"40\": 1, \"81\": 1, \"113\": 1}, \"16\": {\"16\": 30, \"13\": 2}, \"52\": {\"52\": 12, \"49\": 2, \"30\": 1, \"35\": 1, \"6\": 1, \"111\": 2, \"94\": 1}, \"24\": {\"24\": 24, \"27\": 2, \"88\": 9, \"108\": 2, \"126\": 1, \"97\": 1, \"21\": 1, \"113\": 1, \"36\": 1}, \"29\": {\"29\": 23, \"128\": 1, \"44\": 2, \"83\": 1, \"23\": 1}, \"19\": {\"19\": 20, \"104\": 1, \"84\": 2, \"64\": 2, \"8\": 2, \"44\": 1}, \"106\": {\"6\": 1, \"106\": 30, \"71\": 2, \"86\": 3, \"5\": 1, \"15\": 1}, \"54\": {\"54\": 16}, \"94\": {\"94\": 31, \"97\": 1, \"15\": 6, \"24\": 1, \"59\": 2, \"27\": 1}, \"9\": {\"9\": 28, \"97\": 2}, \"41\": {\"110\": 4, \"41\": 9, \"105\": 1, \"93\": 1, \"107\": 1}, \"49\": {\"9\": 3, \"103\": 2, \"71\": 1, \"12\": 2, \"49\": 5, \"111\": 3, \"53\": 2, \"89\": 1, \"66\": 1}, \"60\": {\"28\": 2, \"23\": 2, \"42\": 3, \"14\": 1, \"84\": 1, \"100\": 2, \"81\": 2, \"93\": 1, \"35\": 2}, \"113\": {\"113\": 36}, \"72\": {\"72\": 28, \"84\": 2, \"34\": 2}, \"1\": {\"1\": 36}, \"55\": {\"55\": 10, \"4\": 2}, \"128\": {\"128\": 11, \"29\": 5, \"11\": 1, \"44\": 1, \"90\": 1, \"2\": 1, \"66\": 1, \"108\": 1, \"101\": 1, \"64\": 1}, \"15\": {\"15\": 29, \"27\": 3, \"88\": 2, \"94\": 3, \"86\": 1, \"49\": 1, \"97\": 1, \"24\": 1, \"70\": 1}, \"35\": {\"28\": 1, \"35\": 9, \"110\": 2}, \"46\": {\"54\": 3, \"71\": 2, \"98\": 1, \"46\": 4, \"115\": 1, \"12\": 1}, \"98\": {\"98\": 31, \"86\": 1}, \"62\": {\"62\": 26}, \"56\": {\"110\": 2, \"56\": 10}}, \"Wisig_3\": {\"9\": {\"9\": 32}, \"0\": {\"0\": 28, \"101\": 9, \"6\": 1, \"34\": 1, \"58\": 2, \"32\": 1, \"10\": 1, \"21\": 1}, \"2\": {\"26\": 12, \"96\": 3, \"2\": 4, \"93\": 5, \"64\": 2, \"18\": 2}, \"34\": {\"122\": 1, \"84\": 2, \"32\": 3, \"34\": 8, \"125\": 3, \"40\": 3, \"111\": 1, \"48\": 1, \"75\": 2, \"107\": 2, \"14\": 3, \"6\": 1}, \"128\": {\"122\": 3, \"128\": 9, \"51\": 1, \"87\": 5, \"77\": 8, \"19\": 1, \"28\": 1, \"103\": 1, \"44\": 2, \"127\": 1}, \"79\": {\"79\": 12}, \"3\": {\"3\": 31, \"77\": 1, \"91\": 1, \"71\": 1, \"128\": 1, \"21\": 1}, \"81\": {\"81\": 31, \"126\": 1}, \"41\": {\"99\": 1, \"66\": 1, \"41\": 12, \"86\": 1, \"4\": 1}, \"53\": {\"53\": 14, \"29\": 2, \"20\": 2, \"110\": 1, \"42\": 1}, \"93\": {\"93\": 27, \"64\": 2, \"17\": 1, \"16\": 3, \"70\": 1}, \"52\": {\"52\": 12, \"27\": 1, \"8\": 1, \"59\": 1, \"29\": 1}, \"124\": {\"124\": 36, \"73\": 1, \"8\": 3}, \"84\": {\"84\": 40, \"32\": 1, \"45\": 1}, \"49\": {\"49\": 11, \"80\": 1, \"20\": 1, \"53\": 3, \"30\": 3, \"42\": 2, \"47\": 1, \"15\": 1, \"73\": 1}, \"36\": {\"36\": 20, \"42\": 1, \"24\": 3, \"54\": 1, \"27\": 5, \"112\": 1, \"110\": 1}, \"76\": {\"76\": 16}, \"122\": {\"122\": 23, \"107\": 8, \"28\": 2, \"128\": 1, \"90\": 3, \"84\": 1, \"127\": 1, \"70\": 2, \"33\": 1}, \"80\": {\"80\": 16}, \"129\": {\"129\": 27, \"29\": 2, \"110\": 2, \"19\": 1}, \"88\": {\"49\": 3, \"88\": 16, \"80\": 1, \"108\": 9, \"96\": 1, \"70\": 2, \"20\": 1, \"53\": 1, \"21\": 1, \"85\": 1}, \"23\": {\"128\": 3, \"67\": 1, \"123\": 6, \"28\": 1, \"70\": 1, \"114\": 1, \"23\": 4, \"60\": 3, \"19\": 1, \"2\": 1, \"121\": 1, \"63\": 3, \"46\": 1, \"124\": 3, \"126\": 1, \"111\": 1}, \"63\": {\"63\": 16}, \"59\": {\"59\": 12}, \"38\": {\"38\": 14, \"66\": 1, \"9\": 1}, \"28\": {\"28\": 16}, \"105\": {\"105\": 32, \"4\": 2}, \"39\": {\"113\": 4, \"39\": 15, \"117\": 4, \"126\": 4, \"21\": 1}, \"96\": {\"96\": 20}, \"65\": {\"65\": 10, \"10\": 1, \"55\": 1}, \"16\": {\"16\": 32, \"93\": 2, \"70\": 1, \"92\": 2, \"11\": 2, \"116\": 1, \"24\": 1, \"15\": 1}, \"64\": {\"64\": 20}, \"119\": {\"119\": 16}, \"4\": {\"4\": 28, \"122\": 1, \"41\": 1, \"86\": 5, \"105\": 6, \"99\": 1}, \"30\": {\"47\": 1, \"30\": 27, \"124\": 3, \"12\": 1, \"15\": 1, \"94\": 2, \"97\": 1, \"129\": 1, \"60\": 1}, \"50\": {\"50\": 16}, \"92\": {\"92\": 27, \"90\": 1}, \"26\": {\"26\": 44, \"121\": 1, \"117\": 1, \"81\": 1, \"2\": 1, \"43\": 1, \"18\": 1}, \"94\": {\"94\": 37, \"33\": 2, \"125\": 1}, \"121\": {\"113\": 3, \"81\": 2, \"121\": 20, \"18\": 1, \"126\": 1, \"117\": 3, \"26\": 1, \"5\": 1}, \"90\": {\"90\": 38, \"100\": 2}, \"31\": {\"31\": 17, \"29\": 3}, \"108\": {\"108\": 20, \"112\": 2, \"42\": 4, \"73\": 1, \"70\": 2, \"85\": 2, \"88\": 2, \"49\": 1}, \"120\": {\"120\": 19, \"13\": 1}, \"6\": {\"34\": 3, \"56\": 1, \"6\": 15, \"75\": 3, \"91\": 1, \"61\": 1, \"72\": 2, \"51\": 2, \"101\": 1, \"15\": 1, \"94\": 1, \"111\": 1}, \"47\": {\"47\": 12}, \"67\": {\"67\": 12, \"123\": 2, \"113\": 1, \"63\": 1}, \"62\": {\"62\": 31, \"21\": 1}, \"32\": {\"84\": 1, \"118\": 1, \"65\": 2, \"82\": 7, \"22\": 3, \"102\": 2, \"55\": 2, \"32\": 9, \"10\": 3, \"50\": 1, \"115\": 1}, \"33\": {\"33\": 36}, \"126\": {\"126\": 36, \"81\": 3, \"21\": 1}, \"78\": {\"78\": 2, \"121\": 1, \"122\": 2, \"66\": 1, \"21\": 2, \"14\": 1, \"70\": 1, \"126\": 1, \"99\": 2, \"13\": 1, \"84\": 1, \"11\": 1}, \"111\": {\"111\": 37, \"98\": 1, \"125\": 1, \"91\": 1}, \"113\": {\"113\": 30, \"39\": 2, \"2\": 3, \"121\": 1, \"117\": 2}, \"99\": {\"99\": 24, \"86\": 1, \"4\": 3, \"105\": 2, \"56\": 2}, \"83\": {\"83\": 24}, \"66\": {\"66\": 16}, \"118\": {\"118\": 31, \"102\": 1, \"69\": 1, \"16\": 1}, \"127\": {\"127\": 34}, \"43\": {\"113\": 3, \"21\": 4, \"43\": 13, \"82\": 1, \"33\": 5, \"100\": 1, \"117\": 1, \"92\": 1, \"39\": 2, \"11\": 4, \"102\": 2, \"2\": 1, \"13\": 1, \"116\": 1}, \"116\": {\"102\": 2, \"43\": 4, \"116\": 8, \"87\": 3, \"92\": 2, \"90\": 1, \"33\": 2, \"16\": 1, \"60\": 1, \"13\": 1, \"11\": 2, \"29\": 1}, \"25\": {\"25\": 12, \"36\": 2, \"83\": 1, \"94\": 1}, \"106\": {\"106\": 21, \"97\": 1, \"12\": 2}, \"18\": {\"18\": 36}, \"72\": {\"72\": 23, \"91\": 3, \"58\": 1, \"111\": 1}, \"37\": {\"37\": 16}, \"95\": {\"95\": 29, \"110\": 1, \"9\": 2}, \"86\": {\"86\": 21, \"4\": 5, \"70\": 1, \"21\": 1}, \"35\": {\"35\": 12}, \"61\": {\"61\": 13, \"126\": 1, \"81\": 2}, \"21\": {\"39\": 2, \"21\": 30, \"6\": 1, \"78\": 3}, \"58\": {\"58\": 16}, \"103\": {\"103\": 16}, \"73\": {\"73\": 32, \"49\": 2, \"42\": 2, \"59\": 2}, \"13\": {\"13\": 4, \"17\": 2, \"21\": 2, \"84\": 1, \"26\": 4, \"78\": 1, \"2\": 1, \"82\": 1}, \"12\": {\"12\": 36, \"91\": 1, \"106\": 1, \"98\": 5, \"30\": 1, \"73\": 1, \"111\": 1}, \"109\": {\"109\": 36, \"76\": 1, \"118\": 1}, \"70\": {\"70\": 15, \"47\": 1, \"90\": 1, \"8\": 3, \"19\": 1, \"31\": 2, \"124\": 4, \"53\": 2, \"60\": 1, \"88\": 1, \"5\": 1, \"49\": 1, \"12\": 1}, \"54\": {\"54\": 16}, \"123\": {\"123\": 14, \"81\": 1, \"20\": 1}, \"101\": {\"101\": 36, \"126\": 1, \"0\": 4, \"111\": 1}, \"29\": {\"31\": 3, \"29\": 21, \"44\": 1, \"87\": 1, \"114\": 1, \"90\": 1, \"46\": 1, \"80\": 2, \"60\": 1}, \"56\": {\"41\": 3, \"56\": 8, \"111\": 1}, \"102\": {\"102\": 29, \"43\": 1}, \"87\": {\"87\": 23, \"28\": 1, \"90\": 3, \"100\": 1, \"44\": 4, \"128\": 2, \"11\": 1, \"116\": 1, \"33\": 1, \"122\": 1}, \"44\": {\"44\": 30, \"64\": 1, \"114\": 1, \"60\": 1, \"29\": 1, \"16\": 1, \"92\": 1}, \"75\": {\"75\": 16}, \"82\": {\"82\": 27, \"45\": 1}, \"107\": {\"107\": 34, \"122\": 1, \"87\": 1}, \"46\": {\"46\": 15, \"114\": 1}, \"71\": {\"71\": 35, \"114\": 1}, \"100\": {\"100\": 16}, \"97\": {\"97\": 11, \"54\": 1, \"8\": 1, \"49\": 1, \"125\": 1, \"47\": 1, \"36\": 2, \"15\": 1, \"59\": 1}, \"40\": {\"40\": 40, \"105\": 2}, \"7\": {\"7\": 38, \"115\": 1, \"35\": 1, \"95\": 4}, \"110\": {\"70\": 1, \"110\": 23, \"100\": 1, \"19\": 4, \"60\": 3, \"129\": 7, \"88\": 1, \"16\": 1, \"23\": 1}, \"11\": {\"11\": 33, \"29\": 2, \"90\": 3, \"117\": 1, \"43\": 1}, \"89\": {\"89\": 27, \"8\": 1}, \"1\": {\"1\": 22, \"114\": 1, \"5\": 1}, \"104\": {\"104\": 16}, \"74\": {\"74\": 13, \"57\": 2, \"102\": 1}, \"125\": {\"125\": 28, \"111\": 1, \"106\": 1, \"98\": 3, \"94\": 1, \"15\": 1, \"73\": 1}, \"14\": {\"14\": 38}, \"114\": {\"114\": 38, \"44\": 1, \"1\": 2, \"46\": 1, \"5\": 1, \"19\": 1}, \"48\": {\"48\": 6, \"79\": 2, \"63\": 1, \"119\": 1, \"65\": 2, \"55\": 1, \"7\": 3}, \"10\": {\"9\": 2, \"22\": 3, \"10\": 18, \"115\": 1, \"55\": 1, \"32\": 2, \"95\": 4, \"34\": 1, \"0\": 1, \"14\": 2, \"65\": 2, \"37\": 2, \"7\": 3}, \"22\": {\"22\": 8, \"8\": 1, \"57\": 3, \"74\": 1, \"66\": 1, \"32\": 2}, \"68\": {\"68\": 14, \"30\": 1, \"56\": 1}, \"19\": {\"110\": 3, \"19\": 14, \"77\": 1, \"124\": 3, \"129\": 6, \"1\": 1, \"103\": 2, \"91\": 1, \"128\": 1}, \"5\": {\"5\": 29, \"21\": 1, \"114\": 2}, \"17\": {\"104\": 3, \"17\": 6, \"9\": 1, \"80\": 1, \"40\": 1, \"23\": 1, \"11\": 1, \"31\": 1, \"64\": 1}, \"8\": {\"8\": 30, \"85\": 3, \"73\": 1, \"110\": 1, \"124\": 1}, \"60\": {\"60\": 9, \"129\": 1, \"44\": 2, \"19\": 2, \"29\": 5, \"3\": 1, \"49\": 1, \"110\": 2, \"114\": 1, \"46\": 1, \"53\": 1, \"77\": 1, \"31\": 1}, \"42\": {\"42\": 18, \"85\": 3, \"112\": 2, \"24\": 1, \"73\": 1, \"108\": 2, \"25\": 1}, \"117\": {\"117\": 40}, \"20\": {\"20\": 10, \"88\": 1, \"75\": 1, \"108\": 1, \"94\": 1, \"53\": 1, \"80\": 1}, \"85\": {\"85\": 29, \"108\": 3, \"8\": 1, \"42\": 1}, \"51\": {\"51\": 15, \"7\": 1}, \"69\": {\"69\": 31, \"89\": 2, \"70\": 1}, \"45\": {\"45\": 13, \"84\": 1, \"122\": 1, \"89\": 1}, \"98\": {\"1\": 1, \"98\": 24, \"30\": 2, \"12\": 2, \"125\": 1}, \"24\": {\"24\": 19, \"83\": 1, \"27\": 6, \"36\": 2, \"21\": 1, \"25\": 1}, \"15\": {\"15\": 22, \"8\": 5, \"94\": 1}, \"27\": {\"27\": 19, \"24\": 6, \"36\": 8, \"83\": 3}, \"91\": {\"41\": 2, \"128\": 3, \"111\": 5, \"91\": 8, \"99\": 1, \"118\": 1, \"77\": 1, \"89\": 1, \"72\": 2}, \"112\": {\"112\": 9, \"42\": 4, \"94\": 1, \"24\": 1, \"108\": 1}, \"115\": {\"84\": 6, \"115\": 6, \"82\": 3, \"107\": 1}, \"77\": {\"77\": 15, \"128\": 1}, \"57\": {\"57\": 18, \"22\": 1, \"74\": 1}, \"55\": {\"55\": 16}}}, \"per_domain_accuracy\": {\"CORES_2\": {\"accuracy\": 0.996551724137931, \"source?\": true}, \"CORES_1\": {\"accuracy\": 0.9913793103448276, \"source?\": true}, \"CORES_5\": {\"accuracy\": 0.996551724137931, \"source?\": true}, \"CORES_4\": {\"accuracy\": 0.9946120689655172, \"source?\": true}, \"CORES_3\": {\"accuracy\": 0.9935344827586207, \"source?\": true}, \"Wisig_2\": {\"accuracy\": 0.7094320486815415, \"source?\": false}, \"Wisig_4\": {\"accuracy\": 0.6862591431556949, \"source?\": false}, \"Wisig_1\": {\"accuracy\": 0.7550055617352615, \"source?\": false}, \"Wisig_3\": {\"accuracy\": 0.7664071190211346, \"source?\": false}}}, \"history\": {\"epoch_indices\": [1, 2, 3], \"train_label_loss\": [0.30725984817683866, 0.01102501265518898, 0.01694586736803388], \"source_val_label_loss\": [0.03037348762154579, 0.020791100338101387, 0.019336581230163574], \"target_val_label_loss\": [1.5572316646575928, 2.6667609214782715, 2.865712881088257], \"source_val_acc_label\": [0.9944324712643678, 0.9965876436781609, 0.9955100574712644], \"target_val_acc_label\": [0.7281475541299118, 0.7182571504945202, 0.7153835872761294]}, \"dataset_metrics\": {\"source\": {\"train\": {\"n_unique_x\": 75762, \"n_unique_y\": 58, \"n_batch/episode\": 351}, \"val\": {\"n_unique_x\": 11872, \"n_unique_y\": 58, \"n_batch/episode\": 48}, \"test\": {\"n_unique_x\": 12298, \"n_unique_y\": 58, \"n_batch/episode\": 50}}, \"target\": {\"train\": {\"n_unique_x\": 141305, \"n_unique_y\": 130, \"n_batch/episode\": 916}, \"val\": {\"n_unique_x\": 26165, \"n_unique_y\": 130, \"n_batch/episode\": 129}, \"test\": {\"n_unique_x\": 26259, \"n_unique_y\": 130, \"n_batch/episode\": 130}}}}'"
      ]
     },
     "execution_count": 29,
     "metadata": {},
     "output_type": "execute_result"
    }
   ],
   "source": [
    "json.dumps(experiment)"
   ]
  }
 ],
 "metadata": {
  "celltoolbar": "Tags",
  "kernelspec": {
   "display_name": "Python 3 (ipykernel)",
   "language": "python",
   "name": "python3"
  },
  "language_info": {
   "codemirror_mode": {
    "name": "ipython",
    "version": 3
   },
   "file_extension": ".py",
   "mimetype": "text/x-python",
   "name": "python",
   "nbconvert_exporter": "python",
   "pygments_lexer": "ipython3",
   "version": "3.8.12"
  },
  "papermill": {
   "default_parameters": {},
   "duration": 208.125587,
   "end_time": "2022-03-21T03:08:39.643936",
   "environment_variables": {},
   "exception": null,
   "input_path": "/root/csc500-main/csc500-notebooks/templates/tl_ptn_template.ipynb",
   "output_path": "trial.ipynb",
   "parameters": {
    "parameters": {
     "BEST_MODEL_PATH": "./best_model.pth",
     "NUM_LOGS_PER_EPOCH": 10,
     "criteria_for_best": "target_accuracy",
     "dataset_seed": 154325,
     "datasets": [
      {
       "domain_prefix": "CORES_",
       "domains": [
        1,
        2,
        3,
        4,
        5
       ],
       "episode_transforms": [],
       "labels": [
        "1-10.",
        "1-11.",
        "1-15.",
        "1-16.",
        "1-17.",
        "1-18.",
        "1-19.",
        "10-4.",
        "10-7.",
        "11-1.",
        "11-14.",
        "11-17.",
        "11-20.",
        "11-7.",
        "13-20.",
        "13-8.",
        "14-10.",
        "14-11.",
        "14-14.",
        "14-7.",
        "15-1.",
        "15-20.",
        "16-1.",
        "16-16.",
        "17-10.",
        "17-11.",
        "17-2.",
        "19-1.",
        "19-16.",
        "19-19.",
        "19-20.",
        "19-3.",
        "2-10.",
        "2-11.",
        "2-17.",
        "2-18.",
        "2-20.",
        "2-3.",
        "2-4.",
        "2-5.",
        "2-6.",
        "2-7.",
        "2-8.",
        "3-13.",
        "3-18.",
        "3-3.",
        "4-1.",
        "4-10.",
        "4-11.",
        "4-19.",
        "5-5.",
        "6-15.",
        "7-10.",
        "7-14.",
        "8-18.",
        "8-20.",
        "8-3.",
        "8-8."
       ],
       "num_examples_per_domain_per_label": -1,
       "pickle_path": "/root/csc500-main/datasets/cores.stratified_ds.2022A.pkl",
       "source_or_target_dataset": "source",
       "x_transforms": [
        "unit_mag"
       ]
      },
      {
       "domain_prefix": "Wisig_",
       "domains": [
        1,
        2,
        3,
        4
       ],
       "episode_transforms": [],
       "labels": [
        "1-10",
        "1-12",
        "1-14",
        "1-16",
        "1-18",
        "1-19",
        "1-8",
        "10-11",
        "10-17",
        "10-4",
        "10-7",
        "11-1",
        "11-10",
        "11-19",
        "11-20",
        "11-4",
        "11-7",
        "12-19",
        "12-20",
        "12-7",
        "13-14",
        "13-18",
        "13-19",
        "13-20",
        "13-3",
        "13-7",
        "14-10",
        "14-11",
        "14-12",
        "14-13",
        "14-14",
        "14-19",
        "14-20",
        "14-7",
        "14-8",
        "14-9",
        "15-1",
        "15-19",
        "15-6",
        "16-1",
        "16-16",
        "16-19",
        "16-20",
        "17-10",
        "17-11",
        "18-1",
        "18-10",
        "18-11",
        "18-12",
        "18-13",
        "18-14",
        "18-15",
        "18-16",
        "18-17",
        "18-19",
        "18-2",
        "18-20",
        "18-4",
        "18-5",
        "18-7",
        "18-8",
        "18-9",
        "19-1",
        "19-10",
        "19-11",
        "19-12",
        "19-13",
        "19-14",
        "19-15",
        "19-19",
        "19-2",
        "19-20",
        "19-3",
        "19-4",
        "19-6",
        "19-7",
        "19-8",
        "19-9",
        "2-1",
        "2-13",
        "2-15",
        "2-3",
        "2-4",
        "2-5",
        "2-6",
        "2-7",
        "2-8",
        "20-1",
        "20-12",
        "20-14",
        "20-15",
        "20-16",
        "20-18",
        "20-19",
        "20-20",
        "20-3",
        "20-4",
        "20-5",
        "20-7",
        "20-8",
        "3-1",
        "3-13",
        "3-18",
        "3-2",
        "3-8",
        "4-1",
        "4-10",
        "4-11",
        "5-1",
        "5-5",
        "6-1",
        "6-15",
        "6-6",
        "7-10",
        "7-11",
        "7-12",
        "7-13",
        "7-14",
        "7-7",
        "7-8",
        "7-9",
        "8-1",
        "8-13",
        "8-14",
        "8-18",
        "8-20",
        "8-3",
        "8-8",
        "9-1",
        "9-7"
       ],
       "num_examples_per_domain_per_label": -1,
       "pickle_path": "/root/csc500-main/datasets/wisig.node3-19.stratified_ds.2022A.pkl",
       "source_or_target_dataset": "target",
       "x_transforms": [
        "unit_mag"
       ]
      }
     ],
     "device": "cuda",
     "experiment_name": "tl_1v2:cores-wisig",
     "lr": 0.0001,
     "n_epoch": 3,
     "n_query": 2,
     "n_shot": 3,
     "n_way": 58,
     "patience": 3,
     "seed": 154325,
     "test_k_factor": 2,
     "torch_default_dtype": "torch.float32",
     "train_k_factor": 3,
     "val_k_factor": 2,
     "x_net": [
      {
       "class": "nnReshape",
       "kargs": {
        "shape": [
         -1,
         1,
         2,
         256
        ]
       }
      },
      {
       "class": "Conv2d",
       "kargs": {
        "bias": false,
        "in_channels": 1,
        "kernel_size": [
         1,
         7
        ],
        "out_channels": 256,
        "padding": [
         0,
         3
        ]
       }
      },
      {
       "class": "ReLU",
       "kargs": {
        "inplace": true
       }
      },
      {
       "class": "BatchNorm2d",
       "kargs": {
        "num_features": 256
       }
      },
      {
       "class": "Conv2d",
       "kargs": {
        "bias": true,
        "in_channels": 256,
        "kernel_size": [
         2,
         7
        ],
        "out_channels": 80,
        "padding": [
         0,
         3
        ]
       }
      },
      {
       "class": "ReLU",
       "kargs": {
        "inplace": true
       }
      },
      {
       "class": "BatchNorm2d",
       "kargs": {
        "num_features": 80
       }
      },
      {
       "class": "Flatten",
       "kargs": {}
      },
      {
       "class": "Linear",
       "kargs": {
        "in_features": 20480,
        "out_features": 256
       }
      },
      {
       "class": "ReLU",
       "kargs": {
        "inplace": true
       }
      },
      {
       "class": "BatchNorm1d",
       "kargs": {
        "num_features": 256
       }
      },
      {
       "class": "Linear",
       "kargs": {
        "in_features": 256,
        "out_features": 256
       }
      }
     ]
    }
   },
   "start_time": "2022-03-21T03:05:11.518349",
   "version": "2.3.4"
  }
 },
 "nbformat": 4,
 "nbformat_minor": 5
}