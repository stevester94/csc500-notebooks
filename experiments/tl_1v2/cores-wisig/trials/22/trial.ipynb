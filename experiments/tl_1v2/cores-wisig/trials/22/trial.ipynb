{
 "cells": [
  {
   "cell_type": "markdown",
   "id": "9fea5f46",
   "metadata": {
    "papermill": {
     "duration": 0.029571,
     "end_time": "2022-03-21T03:46:35.726884",
     "exception": false,
     "start_time": "2022-03-21T03:46:35.697313",
     "status": "completed"
    },
    "tags": []
   },
   "source": [
    "# Transfer Learning Template"
   ]
  },
  {
   "cell_type": "code",
   "execution_count": 1,
   "id": "0902182a",
   "metadata": {
    "execution": {
     "iopub.execute_input": "2022-03-21T03:46:35.789314Z",
     "iopub.status.busy": "2022-03-21T03:46:35.788462Z",
     "iopub.status.idle": "2022-03-21T03:46:37.644599Z",
     "shell.execute_reply": "2022-03-21T03:46:37.643736Z"
    },
    "papermill": {
     "duration": 1.895484,
     "end_time": "2022-03-21T03:46:37.644785",
     "exception": false,
     "start_time": "2022-03-21T03:46:35.749301",
     "status": "completed"
    },
    "tags": []
   },
   "outputs": [],
   "source": [
    "%load_ext autoreload\n",
    "%autoreload 2\n",
    "%matplotlib inline\n",
    "\n",
    "    \n",
    "import os, json, sys, time, random\n",
    "import numpy as np\n",
    "import torch\n",
    "from torch.optim import Adam\n",
    "from  easydict import EasyDict\n",
    "import matplotlib.pyplot as plt\n",
    "\n",
    "from steves_models.steves_ptn import Steves_Prototypical_Network\n",
    "\n",
    "from steves_utils.lazy_iterable_wrapper import Lazy_Iterable_Wrapper\n",
    "from steves_utils.iterable_aggregator import Iterable_Aggregator\n",
    "from steves_utils.ptn_train_eval_test_jig import  PTN_Train_Eval_Test_Jig\n",
    "from steves_utils.torch_sequential_builder import build_sequential\n",
    "from steves_utils.torch_utils import get_dataset_metrics, ptn_confusion_by_domain_over_dataloader\n",
    "from steves_utils.utils_v2 import (per_domain_accuracy_from_confusion, get_datasets_base_path)\n",
    "from steves_utils.PTN.utils import independent_accuracy_assesment\n",
    "\n",
    "from torch.utils.data import DataLoader\n",
    "\n",
    "from steves_utils.stratified_dataset.episodic_accessor import Episodic_Accessor_Factory\n",
    "\n",
    "from steves_utils.ptn_do_report import (\n",
    "    get_loss_curve,\n",
    "    get_results_table,\n",
    "    get_parameters_table,\n",
    "    get_domain_accuracies,\n",
    ")\n",
    "\n",
    "from steves_utils.transforms import get_chained_transform"
   ]
  },
  {
   "cell_type": "markdown",
   "id": "41c840b4",
   "metadata": {
    "papermill": {
     "duration": 0.01973,
     "end_time": "2022-03-21T03:46:37.691450",
     "exception": false,
     "start_time": "2022-03-21T03:46:37.671720",
     "status": "completed"
    },
    "tags": []
   },
   "source": [
    "# Allowed Parameters\n",
    "These are allowed parameters, not defaults\n",
    "Each of these values need to be present in the injected parameters (the notebook will raise an exception if they are not present)\n",
    "\n",
    "Papermill uses the cell tag \"parameters\" to inject the real parameters below this cell.\n",
    "Enable tags to see what I mean"
   ]
  },
  {
   "cell_type": "code",
   "execution_count": 2,
   "id": "fd44eb83",
   "metadata": {
    "execution": {
     "iopub.execute_input": "2022-03-21T03:46:37.735907Z",
     "iopub.status.busy": "2022-03-21T03:46:37.735490Z",
     "iopub.status.idle": "2022-03-21T03:46:37.757681Z",
     "shell.execute_reply": "2022-03-21T03:46:37.756965Z"
    },
    "papermill": {
     "duration": 0.046635,
     "end_time": "2022-03-21T03:46:37.757848",
     "exception": false,
     "start_time": "2022-03-21T03:46:37.711213",
     "status": "completed"
    },
    "tags": []
   },
   "outputs": [],
   "source": [
    "required_parameters = {\n",
    "    \"experiment_name\",\n",
    "    \"lr\",\n",
    "    \"device\",\n",
    "    \"seed\",\n",
    "    \"dataset_seed\",\n",
    "    \"n_shot\",\n",
    "    \"n_query\",\n",
    "    \"n_way\",\n",
    "    \"train_k_factor\",\n",
    "    \"val_k_factor\",\n",
    "    \"test_k_factor\",\n",
    "    \"n_epoch\",\n",
    "    \"patience\",\n",
    "    \"criteria_for_best\",\n",
    "    \"x_net\",\n",
    "    \"datasets\",\n",
    "    \"torch_default_dtype\",\n",
    "    \"NUM_LOGS_PER_EPOCH\",\n",
    "    \"BEST_MODEL_PATH\",\n",
    "    \"x_shape\",\n",
    "}"
   ]
  },
  {
   "cell_type": "code",
   "execution_count": 3,
   "id": "fa3f0049",
   "metadata": {
    "execution": {
     "iopub.execute_input": "2022-03-21T03:46:37.819031Z",
     "iopub.status.busy": "2022-03-21T03:46:37.813797Z",
     "iopub.status.idle": "2022-03-21T03:46:37.839501Z",
     "shell.execute_reply": "2022-03-21T03:46:37.838691Z"
    },
    "papermill": {
     "duration": 0.053517,
     "end_time": "2022-03-21T03:46:37.839698",
     "exception": false,
     "start_time": "2022-03-21T03:46:37.786181",
     "status": "completed"
    },
    "tags": [
     "parameters"
    ]
   },
   "outputs": [],
   "source": [
    "from steves_utils.CORES.utils import (\n",
    "    ALL_NODES,\n",
    "    ALL_NODES_MINIMUM_1000_EXAMPLES,\n",
    "    ALL_DAYS\n",
    ")\n",
    "\n",
    "from steves_utils.ORACLE.utils_v2 import (\n",
    "    ALL_DISTANCES_FEET_NARROWED,\n",
    "    ALL_RUNS,\n",
    "    ALL_SERIAL_NUMBERS,\n",
    ")\n",
    "\n",
    "standalone_parameters = {}\n",
    "standalone_parameters[\"experiment_name\"] = \"STANDALONE PTN\"\n",
    "standalone_parameters[\"lr\"] = 0.001\n",
    "standalone_parameters[\"device\"] = \"cuda\"\n",
    "\n",
    "standalone_parameters[\"seed\"] = 1337\n",
    "standalone_parameters[\"dataset_seed\"] = 1337\n",
    "\n",
    "standalone_parameters[\"n_way\"] = 8\n",
    "standalone_parameters[\"n_shot\"] = 3\n",
    "standalone_parameters[\"n_query\"]  = 2\n",
    "standalone_parameters[\"train_k_factor\"] = 1\n",
    "standalone_parameters[\"val_k_factor\"] = 2\n",
    "standalone_parameters[\"test_k_factor\"] = 2\n",
    "\n",
    "\n",
    "standalone_parameters[\"n_epoch\"] = 50\n",
    "\n",
    "standalone_parameters[\"patience\"] = 10\n",
    "standalone_parameters[\"criteria_for_best\"] = \"source_loss\"\n",
    "\n",
    "standalone_parameters[\"datasets\"] = [\n",
    "    {\n",
    "        \"labels\": ALL_SERIAL_NUMBERS,\n",
    "        \"domains\": ALL_DISTANCES_FEET_NARROWED,\n",
    "        \"num_examples_per_domain_per_label\": 100,\n",
    "        \"pickle_path\": os.path.join(get_datasets_base_path(), \"oracle.Run1_framed_2000Examples_stratified_ds.2022A.pkl\"),\n",
    "        \"source_or_target_dataset\": \"source\",\n",
    "        \"x_transforms\": [\"unit_mag\", \"minus_two\"],\n",
    "        \"episode_transforms\": [],\n",
    "        \"domain_prefix\": \"ORACLE_\"\n",
    "    },\n",
    "    {\n",
    "        \"labels\": ALL_NODES,\n",
    "        \"domains\": ALL_DAYS,\n",
    "        \"num_examples_per_domain_per_label\": 100,\n",
    "        \"pickle_path\": os.path.join(get_datasets_base_path(), \"cores.stratified_ds.2022A.pkl\"),\n",
    "        \"source_or_target_dataset\": \"target\",\n",
    "        \"x_transforms\": [\"unit_power\", \"times_zero\"],\n",
    "        \"episode_transforms\": [],\n",
    "        \"domain_prefix\": \"CORES_\"\n",
    "    }   \n",
    "]\n",
    "\n",
    "standalone_parameters[\"torch_default_dtype\"] = \"torch.float32\" \n",
    "\n",
    "\n",
    "\n",
    "standalone_parameters[\"x_net\"] =     [\n",
    "    {\"class\": \"nnReshape\", \"kargs\": {\"shape\":[-1, 1, 2, 256]}},\n",
    "    {\"class\": \"Conv2d\", \"kargs\": { \"in_channels\":1, \"out_channels\":256, \"kernel_size\":(1,7), \"bias\":False, \"padding\":(0,3), },},\n",
    "    {\"class\": \"ReLU\", \"kargs\": {\"inplace\": True}},\n",
    "    {\"class\": \"BatchNorm2d\", \"kargs\": {\"num_features\":256}},\n",
    "\n",
    "    {\"class\": \"Conv2d\", \"kargs\": { \"in_channels\":256, \"out_channels\":80, \"kernel_size\":(2,7), \"bias\":True, \"padding\":(0,3), },},\n",
    "    {\"class\": \"ReLU\", \"kargs\": {\"inplace\": True}},\n",
    "    {\"class\": \"BatchNorm2d\", \"kargs\": {\"num_features\":80}},\n",
    "    {\"class\": \"Flatten\", \"kargs\": {}},\n",
    "\n",
    "    {\"class\": \"Linear\", \"kargs\": {\"in_features\": 80*256, \"out_features\": 256}}, # 80 units per IQ pair\n",
    "    {\"class\": \"ReLU\", \"kargs\": {\"inplace\": True}},\n",
    "    {\"class\": \"BatchNorm1d\", \"kargs\": {\"num_features\":256}},\n",
    "\n",
    "    {\"class\": \"Linear\", \"kargs\": {\"in_features\": 256, \"out_features\": 256}},\n",
    "]\n",
    "\n",
    "# Parameters relevant to results\n",
    "# These parameters will basically never need to change\n",
    "standalone_parameters[\"NUM_LOGS_PER_EPOCH\"] = 10\n",
    "standalone_parameters[\"BEST_MODEL_PATH\"] = \"./best_model.pth\"\n",
    "\n",
    "\n",
    "\n",
    "\n"
   ]
  },
  {
   "cell_type": "code",
   "execution_count": 4,
   "id": "ba1772d8",
   "metadata": {
    "execution": {
     "iopub.execute_input": "2022-03-21T03:46:37.905289Z",
     "iopub.status.busy": "2022-03-21T03:46:37.904263Z",
     "iopub.status.idle": "2022-03-21T03:46:37.924891Z",
     "shell.execute_reply": "2022-03-21T03:46:37.924096Z"
    },
    "papermill": {
     "duration": 0.058245,
     "end_time": "2022-03-21T03:46:37.925057",
     "exception": false,
     "start_time": "2022-03-21T03:46:37.866812",
     "status": "completed"
    },
    "tags": [
     "injected-parameters"
    ]
   },
   "outputs": [],
   "source": [
    "# Parameters\n",
    "parameters = {\n",
    "    \"experiment_name\": \"tl_1v2:cores-wisig\",\n",
    "    \"device\": \"cuda\",\n",
    "    \"lr\": 0.0001,\n",
    "    \"n_shot\": 3,\n",
    "    \"n_query\": 2,\n",
    "    \"train_k_factor\": 3,\n",
    "    \"val_k_factor\": 2,\n",
    "    \"test_k_factor\": 2,\n",
    "    \"torch_default_dtype\": \"torch.float32\",\n",
    "    \"n_epoch\": 3,\n",
    "    \"patience\": 3,\n",
    "    \"criteria_for_best\": \"target_accuracy\",\n",
    "    \"x_net\": [\n",
    "        {\"class\": \"nnReshape\", \"kargs\": {\"shape\": [-1, 1, 2, 256]}},\n",
    "        {\n",
    "            \"class\": \"Conv2d\",\n",
    "            \"kargs\": {\n",
    "                \"in_channels\": 1,\n",
    "                \"out_channels\": 256,\n",
    "                \"kernel_size\": [1, 7],\n",
    "                \"bias\": False,\n",
    "                \"padding\": [0, 3],\n",
    "            },\n",
    "        },\n",
    "        {\"class\": \"ReLU\", \"kargs\": {\"inplace\": True}},\n",
    "        {\"class\": \"BatchNorm2d\", \"kargs\": {\"num_features\": 256}},\n",
    "        {\n",
    "            \"class\": \"Conv2d\",\n",
    "            \"kargs\": {\n",
    "                \"in_channels\": 256,\n",
    "                \"out_channels\": 80,\n",
    "                \"kernel_size\": [2, 7],\n",
    "                \"bias\": True,\n",
    "                \"padding\": [0, 3],\n",
    "            },\n",
    "        },\n",
    "        {\"class\": \"ReLU\", \"kargs\": {\"inplace\": True}},\n",
    "        {\"class\": \"BatchNorm2d\", \"kargs\": {\"num_features\": 80}},\n",
    "        {\"class\": \"Flatten\", \"kargs\": {}},\n",
    "        {\"class\": \"Linear\", \"kargs\": {\"in_features\": 20480, \"out_features\": 256}},\n",
    "        {\"class\": \"ReLU\", \"kargs\": {\"inplace\": True}},\n",
    "        {\"class\": \"BatchNorm1d\", \"kargs\": {\"num_features\": 256}},\n",
    "        {\"class\": \"Linear\", \"kargs\": {\"in_features\": 256, \"out_features\": 256}},\n",
    "    ],\n",
    "    \"NUM_LOGS_PER_EPOCH\": 10,\n",
    "    \"BEST_MODEL_PATH\": \"./best_model.pth\",\n",
    "    \"n_way\": 58,\n",
    "    \"datasets\": [\n",
    "        {\n",
    "            \"labels\": [\n",
    "                \"1-10.\",\n",
    "                \"1-11.\",\n",
    "                \"1-15.\",\n",
    "                \"1-16.\",\n",
    "                \"1-17.\",\n",
    "                \"1-18.\",\n",
    "                \"1-19.\",\n",
    "                \"10-4.\",\n",
    "                \"10-7.\",\n",
    "                \"11-1.\",\n",
    "                \"11-14.\",\n",
    "                \"11-17.\",\n",
    "                \"11-20.\",\n",
    "                \"11-7.\",\n",
    "                \"13-20.\",\n",
    "                \"13-8.\",\n",
    "                \"14-10.\",\n",
    "                \"14-11.\",\n",
    "                \"14-14.\",\n",
    "                \"14-7.\",\n",
    "                \"15-1.\",\n",
    "                \"15-20.\",\n",
    "                \"16-1.\",\n",
    "                \"16-16.\",\n",
    "                \"17-10.\",\n",
    "                \"17-11.\",\n",
    "                \"17-2.\",\n",
    "                \"19-1.\",\n",
    "                \"19-16.\",\n",
    "                \"19-19.\",\n",
    "                \"19-20.\",\n",
    "                \"19-3.\",\n",
    "                \"2-10.\",\n",
    "                \"2-11.\",\n",
    "                \"2-17.\",\n",
    "                \"2-18.\",\n",
    "                \"2-20.\",\n",
    "                \"2-3.\",\n",
    "                \"2-4.\",\n",
    "                \"2-5.\",\n",
    "                \"2-6.\",\n",
    "                \"2-7.\",\n",
    "                \"2-8.\",\n",
    "                \"3-13.\",\n",
    "                \"3-18.\",\n",
    "                \"3-3.\",\n",
    "                \"4-1.\",\n",
    "                \"4-10.\",\n",
    "                \"4-11.\",\n",
    "                \"4-19.\",\n",
    "                \"5-5.\",\n",
    "                \"6-15.\",\n",
    "                \"7-10.\",\n",
    "                \"7-14.\",\n",
    "                \"8-18.\",\n",
    "                \"8-20.\",\n",
    "                \"8-3.\",\n",
    "                \"8-8.\",\n",
    "            ],\n",
    "            \"domains\": [1, 2, 3, 4, 5],\n",
    "            \"num_examples_per_domain_per_label\": -1,\n",
    "            \"pickle_path\": \"/root/csc500-main/datasets/cores.stratified_ds.2022A.pkl\",\n",
    "            \"source_or_target_dataset\": \"target\",\n",
    "            \"x_transforms\": [\"unit_mag\"],\n",
    "            \"episode_transforms\": [],\n",
    "            \"domain_prefix\": \"CORES_\",\n",
    "        },\n",
    "        {\n",
    "            \"labels\": [\n",
    "                \"1-10\",\n",
    "                \"1-12\",\n",
    "                \"1-14\",\n",
    "                \"1-16\",\n",
    "                \"1-18\",\n",
    "                \"1-19\",\n",
    "                \"1-8\",\n",
    "                \"10-11\",\n",
    "                \"10-17\",\n",
    "                \"10-4\",\n",
    "                \"10-7\",\n",
    "                \"11-1\",\n",
    "                \"11-10\",\n",
    "                \"11-19\",\n",
    "                \"11-20\",\n",
    "                \"11-4\",\n",
    "                \"11-7\",\n",
    "                \"12-19\",\n",
    "                \"12-20\",\n",
    "                \"12-7\",\n",
    "                \"13-14\",\n",
    "                \"13-18\",\n",
    "                \"13-19\",\n",
    "                \"13-20\",\n",
    "                \"13-3\",\n",
    "                \"13-7\",\n",
    "                \"14-10\",\n",
    "                \"14-11\",\n",
    "                \"14-12\",\n",
    "                \"14-13\",\n",
    "                \"14-14\",\n",
    "                \"14-19\",\n",
    "                \"14-20\",\n",
    "                \"14-7\",\n",
    "                \"14-8\",\n",
    "                \"14-9\",\n",
    "                \"15-1\",\n",
    "                \"15-19\",\n",
    "                \"15-6\",\n",
    "                \"16-1\",\n",
    "                \"16-16\",\n",
    "                \"16-19\",\n",
    "                \"16-20\",\n",
    "                \"17-10\",\n",
    "                \"17-11\",\n",
    "                \"18-1\",\n",
    "                \"18-10\",\n",
    "                \"18-11\",\n",
    "                \"18-12\",\n",
    "                \"18-13\",\n",
    "                \"18-14\",\n",
    "                \"18-15\",\n",
    "                \"18-16\",\n",
    "                \"18-17\",\n",
    "                \"18-19\",\n",
    "                \"18-2\",\n",
    "                \"18-20\",\n",
    "                \"18-4\",\n",
    "                \"18-5\",\n",
    "                \"18-7\",\n",
    "                \"18-8\",\n",
    "                \"18-9\",\n",
    "                \"19-1\",\n",
    "                \"19-10\",\n",
    "                \"19-11\",\n",
    "                \"19-12\",\n",
    "                \"19-13\",\n",
    "                \"19-14\",\n",
    "                \"19-15\",\n",
    "                \"19-19\",\n",
    "                \"19-2\",\n",
    "                \"19-20\",\n",
    "                \"19-3\",\n",
    "                \"19-4\",\n",
    "                \"19-6\",\n",
    "                \"19-7\",\n",
    "                \"19-8\",\n",
    "                \"19-9\",\n",
    "                \"2-1\",\n",
    "                \"2-13\",\n",
    "                \"2-15\",\n",
    "                \"2-3\",\n",
    "                \"2-4\",\n",
    "                \"2-5\",\n",
    "                \"2-6\",\n",
    "                \"2-7\",\n",
    "                \"2-8\",\n",
    "                \"20-1\",\n",
    "                \"20-12\",\n",
    "                \"20-14\",\n",
    "                \"20-15\",\n",
    "                \"20-16\",\n",
    "                \"20-18\",\n",
    "                \"20-19\",\n",
    "                \"20-20\",\n",
    "                \"20-3\",\n",
    "                \"20-4\",\n",
    "                \"20-5\",\n",
    "                \"20-7\",\n",
    "                \"20-8\",\n",
    "                \"3-1\",\n",
    "                \"3-13\",\n",
    "                \"3-18\",\n",
    "                \"3-2\",\n",
    "                \"3-8\",\n",
    "                \"4-1\",\n",
    "                \"4-10\",\n",
    "                \"4-11\",\n",
    "                \"5-1\",\n",
    "                \"5-5\",\n",
    "                \"6-1\",\n",
    "                \"6-15\",\n",
    "                \"6-6\",\n",
    "                \"7-10\",\n",
    "                \"7-11\",\n",
    "                \"7-12\",\n",
    "                \"7-13\",\n",
    "                \"7-14\",\n",
    "                \"7-7\",\n",
    "                \"7-8\",\n",
    "                \"7-9\",\n",
    "                \"8-1\",\n",
    "                \"8-13\",\n",
    "                \"8-14\",\n",
    "                \"8-18\",\n",
    "                \"8-20\",\n",
    "                \"8-3\",\n",
    "                \"8-8\",\n",
    "                \"9-1\",\n",
    "                \"9-7\",\n",
    "            ],\n",
    "            \"domains\": [1, 2, 3, 4],\n",
    "            \"num_examples_per_domain_per_label\": -1,\n",
    "            \"pickle_path\": \"/root/csc500-main/datasets/wisig.node3-19.stratified_ds.2022A.pkl\",\n",
    "            \"source_or_target_dataset\": \"source\",\n",
    "            \"x_transforms\": [\"unit_mag\"],\n",
    "            \"episode_transforms\": [],\n",
    "            \"domain_prefix\": \"Wisig_\",\n",
    "        },\n",
    "    ],\n",
    "    \"dataset_seed\": 7,\n",
    "    \"seed\": 7,\n",
    "}\n"
   ]
  },
  {
   "cell_type": "code",
   "execution_count": 5,
   "id": "8fa1cc33",
   "metadata": {
    "execution": {
     "iopub.execute_input": "2022-03-21T03:46:37.980956Z",
     "iopub.status.busy": "2022-03-21T03:46:37.980371Z",
     "iopub.status.idle": "2022-03-21T03:46:38.004200Z",
     "shell.execute_reply": "2022-03-21T03:46:38.003318Z"
    },
    "papermill": {
     "duration": 0.051532,
     "end_time": "2022-03-21T03:46:38.004465",
     "exception": false,
     "start_time": "2022-03-21T03:46:37.952933",
     "status": "completed"
    },
    "tags": []
   },
   "outputs": [],
   "source": [
    "# Set this to True if you want to run this template directly\n",
    "STANDALONE = False\n",
    "if STANDALONE:\n",
    "    print(\"parameters not injected, running with standalone_parameters\")\n",
    "    parameters = standalone_parameters\n",
    "\n",
    "if not 'parameters' in locals() and not 'parameters' in globals():\n",
    "    raise Exception(\"Parameter injection failed\")\n",
    "\n",
    "#Use an easy dict for all the parameters\n",
    "p = EasyDict(parameters)\n",
    "\n",
    "if \"x_shape\" not in p:\n",
    "    p.x_shape = [2,256] # Default to this if we dont supply x_shape\n",
    "\n",
    "\n",
    "supplied_keys = set(p.keys())\n",
    "\n",
    "if  supplied_keys != required_parameters:\n",
    "    print(\"Parameters are incorrect\")\n",
    "    if len(supplied_keys - required_parameters)>0: print(\"Shouldn't have:\", str(supplied_keys - required_parameters))\n",
    "    if len(required_parameters - supplied_keys)>0: print(\"Need to have:\", str(required_parameters - supplied_keys))\n",
    "    raise RuntimeError(\"Parameters are incorrect\")"
   ]
  },
  {
   "cell_type": "code",
   "execution_count": 6,
   "id": "3a028d58",
   "metadata": {
    "execution": {
     "iopub.execute_input": "2022-03-21T03:46:38.054324Z",
     "iopub.status.busy": "2022-03-21T03:46:38.053955Z",
     "iopub.status.idle": "2022-03-21T03:46:38.078358Z",
     "shell.execute_reply": "2022-03-21T03:46:38.077601Z"
    },
    "papermill": {
     "duration": 0.047769,
     "end_time": "2022-03-21T03:46:38.078553",
     "exception": false,
     "start_time": "2022-03-21T03:46:38.030784",
     "status": "completed"
    },
    "tags": []
   },
   "outputs": [],
   "source": [
    "###################################\n",
    "# Set the RNGs and make it all deterministic\n",
    "###################################\n",
    "np.random.seed(p.seed)\n",
    "random.seed(p.seed)\n",
    "torch.manual_seed(p.seed)\n",
    "\n",
    "torch.use_deterministic_algorithms(True) "
   ]
  },
  {
   "cell_type": "code",
   "execution_count": 7,
   "id": "b691acf6",
   "metadata": {
    "execution": {
     "iopub.execute_input": "2022-03-21T03:46:38.127047Z",
     "iopub.status.busy": "2022-03-21T03:46:38.126678Z",
     "iopub.status.idle": "2022-03-21T03:46:38.152643Z",
     "shell.execute_reply": "2022-03-21T03:46:38.151942Z"
    },
    "papermill": {
     "duration": 0.048591,
     "end_time": "2022-03-21T03:46:38.152809",
     "exception": false,
     "start_time": "2022-03-21T03:46:38.104218",
     "status": "completed"
    },
    "tags": []
   },
   "outputs": [],
   "source": [
    "###########################################\n",
    "# The stratified datasets honor this\n",
    "###########################################\n",
    "torch.set_default_dtype(eval(p.torch_default_dtype))"
   ]
  },
  {
   "cell_type": "code",
   "execution_count": 8,
   "id": "b5fba671",
   "metadata": {
    "execution": {
     "iopub.execute_input": "2022-03-21T03:46:38.202028Z",
     "iopub.status.busy": "2022-03-21T03:46:38.201660Z",
     "iopub.status.idle": "2022-03-21T03:46:38.258056Z",
     "shell.execute_reply": "2022-03-21T03:46:38.257182Z"
    },
    "papermill": {
     "duration": 0.079074,
     "end_time": "2022-03-21T03:46:38.258244",
     "exception": false,
     "start_time": "2022-03-21T03:46:38.179170",
     "status": "completed"
    },
    "tags": []
   },
   "outputs": [],
   "source": [
    "###################################\n",
    "# Build the network(s)\n",
    "# Note: It's critical to do this AFTER setting the RNG\n",
    "###################################\n",
    "x_net = build_sequential(p.x_net)"
   ]
  },
  {
   "cell_type": "code",
   "execution_count": 9,
   "id": "5d7e61cc",
   "metadata": {
    "execution": {
     "iopub.execute_input": "2022-03-21T03:46:38.309398Z",
     "iopub.status.busy": "2022-03-21T03:46:38.309033Z",
     "iopub.status.idle": "2022-03-21T03:46:38.332894Z",
     "shell.execute_reply": "2022-03-21T03:46:38.332196Z"
    },
    "papermill": {
     "duration": 0.046675,
     "end_time": "2022-03-21T03:46:38.333054",
     "exception": false,
     "start_time": "2022-03-21T03:46:38.286379",
     "status": "completed"
    },
    "tags": []
   },
   "outputs": [],
   "source": [
    "start_time_secs = time.time()"
   ]
  },
  {
   "cell_type": "code",
   "execution_count": 10,
   "id": "c6b67dfd",
   "metadata": {
    "execution": {
     "iopub.execute_input": "2022-03-21T03:46:38.382478Z",
     "iopub.status.busy": "2022-03-21T03:46:38.382111Z",
     "iopub.status.idle": "2022-03-21T03:46:38.400313Z",
     "shell.execute_reply": "2022-03-21T03:46:38.400974Z"
    },
    "papermill": {
     "duration": 0.041274,
     "end_time": "2022-03-21T03:46:38.401156",
     "exception": false,
     "start_time": "2022-03-21T03:46:38.359882",
     "status": "completed"
    },
    "tags": []
   },
   "outputs": [],
   "source": [
    "p.domains_source = []\n",
    "p.domains_target = []\n",
    "\n",
    "\n",
    "train_original_source = []\n",
    "val_original_source   = []\n",
    "test_original_source  = []\n",
    "\n",
    "train_original_target = []\n",
    "val_original_target   = []\n",
    "test_original_target  = []"
   ]
  },
  {
   "cell_type": "code",
   "execution_count": 11,
   "id": "e3d9c3d3",
   "metadata": {
    "execution": {
     "iopub.execute_input": "2022-03-21T03:46:38.449657Z",
     "iopub.status.busy": "2022-03-21T03:46:38.449280Z",
     "iopub.status.idle": "2022-03-21T03:46:38.468082Z",
     "shell.execute_reply": "2022-03-21T03:46:38.467256Z"
    },
    "papermill": {
     "duration": 0.040705,
     "end_time": "2022-03-21T03:46:38.468241",
     "exception": false,
     "start_time": "2022-03-21T03:46:38.427536",
     "status": "completed"
    },
    "tags": []
   },
   "outputs": [],
   "source": [
    "# global_x_transform_func = lambda x: normalize(x.to(torch.get_default_dtype()), \"unit_power\") # unit_power, unit_mag\n",
    "# global_x_transform_func = lambda x: normalize(x, \"unit_power\") # unit_power, unit_mag"
   ]
  },
  {
   "cell_type": "code",
   "execution_count": 12,
   "id": "acb78fd2",
   "metadata": {
    "execution": {
     "iopub.execute_input": "2022-03-21T03:46:38.526421Z",
     "iopub.status.busy": "2022-03-21T03:46:38.525588Z",
     "iopub.status.idle": "2022-03-21T03:46:38.548785Z",
     "shell.execute_reply": "2022-03-21T03:46:38.547784Z"
    },
    "papermill": {
     "duration": 0.054589,
     "end_time": "2022-03-21T03:46:38.549017",
     "exception": false,
     "start_time": "2022-03-21T03:46:38.494428",
     "status": "completed"
    },
    "tags": []
   },
   "outputs": [],
   "source": [
    "def add_dataset(\n",
    "    labels,\n",
    "    domains,\n",
    "    pickle_path,\n",
    "    x_transforms,\n",
    "    episode_transforms,\n",
    "    domain_prefix,\n",
    "    num_examples_per_domain_per_label,\n",
    "    source_or_target_dataset:str,\n",
    "    iterator_seed=p.seed,\n",
    "    dataset_seed=p.dataset_seed,\n",
    "    n_shot=p.n_shot,\n",
    "    n_way=p.n_way,\n",
    "    n_query=p.n_query,\n",
    "    train_val_test_k_factors=(p.train_k_factor,p.val_k_factor,p.test_k_factor),\n",
    "):\n",
    "   \n",
    "    if x_transforms == []: x_transform = None\n",
    "    else: x_transform = get_chained_transform(x_transforms)\n",
    "    \n",
    "    if episode_transforms == []: episode_transform = None\n",
    "    else: raise Exception(\"episode_transforms not implemented\")\n",
    "    \n",
    "    episode_transform = lambda tup, _prefix=domain_prefix: (_prefix + str(tup[0]), tup[1])\n",
    "\n",
    "\n",
    "    eaf = Episodic_Accessor_Factory(\n",
    "        labels=labels,\n",
    "        domains=domains,\n",
    "        num_examples_per_domain_per_label=num_examples_per_domain_per_label,\n",
    "        iterator_seed=iterator_seed,\n",
    "        dataset_seed=dataset_seed,\n",
    "        n_shot=n_shot,\n",
    "        n_way=n_way,\n",
    "        n_query=n_query,\n",
    "        train_val_test_k_factors=train_val_test_k_factors,\n",
    "        pickle_path=pickle_path,\n",
    "        x_transform_func=x_transform,\n",
    "    )\n",
    "\n",
    "    train, val, test = eaf.get_train(), eaf.get_val(), eaf.get_test()\n",
    "    train = Lazy_Iterable_Wrapper(train, episode_transform)\n",
    "    val = Lazy_Iterable_Wrapper(val, episode_transform)\n",
    "    test = Lazy_Iterable_Wrapper(test, episode_transform)\n",
    "\n",
    "    if source_or_target_dataset==\"source\":\n",
    "        train_original_source.append(train)\n",
    "        val_original_source.append(val)\n",
    "        test_original_source.append(test)\n",
    "\n",
    "        p.domains_source.extend(\n",
    "            [domain_prefix + str(u) for u in domains]\n",
    "        )\n",
    "    elif source_or_target_dataset==\"target\":\n",
    "        train_original_target.append(train)\n",
    "        val_original_target.append(val)\n",
    "        test_original_target.append(test)\n",
    "        p.domains_target.extend(\n",
    "            [domain_prefix + str(u) for u in domains]\n",
    "        )\n",
    "    else:\n",
    "        raise Exception(f\"invalid source_or_target_dataset: {source_or_target_dataset}\")\n",
    "    "
   ]
  },
  {
   "cell_type": "code",
   "execution_count": 13,
   "id": "fe266617",
   "metadata": {
    "execution": {
     "iopub.execute_input": "2022-03-21T03:46:38.604762Z",
     "iopub.status.busy": "2022-03-21T03:46:38.604172Z",
     "iopub.status.idle": "2022-03-21T03:47:20.868755Z",
     "shell.execute_reply": "2022-03-21T03:47:20.867986Z"
    },
    "papermill": {
     "duration": 42.289168,
     "end_time": "2022-03-21T03:47:20.868931",
     "exception": false,
     "start_time": "2022-03-21T03:46:38.579763",
     "status": "completed"
    },
    "tags": []
   },
   "outputs": [],
   "source": [
    "for ds in p.datasets:\n",
    "    add_dataset(**ds)"
   ]
  },
  {
   "cell_type": "code",
   "execution_count": 14,
   "id": "b90d65ac",
   "metadata": {
    "execution": {
     "iopub.execute_input": "2022-03-21T03:47:20.919676Z",
     "iopub.status.busy": "2022-03-21T03:47:20.918989Z",
     "iopub.status.idle": "2022-03-21T03:47:20.945049Z",
     "shell.execute_reply": "2022-03-21T03:47:20.944701Z"
    },
    "papermill": {
     "duration": 0.050375,
     "end_time": "2022-03-21T03:47:20.945141",
     "exception": false,
     "start_time": "2022-03-21T03:47:20.894766",
     "status": "completed"
    },
    "tags": []
   },
   "outputs": [],
   "source": [
    "# from steves_utils.CORES.utils import (\n",
    "#     ALL_NODES,\n",
    "#     ALL_NODES_MINIMUM_1000_EXAMPLES,\n",
    "#     ALL_DAYS\n",
    "# )\n",
    "\n",
    "# add_dataset(\n",
    "#     labels=ALL_NODES,\n",
    "#     domains = ALL_DAYS,\n",
    "#     num_examples_per_domain_per_label=100,\n",
    "#     pickle_path=os.path.join(get_datasets_base_path(), \"cores.stratified_ds.2022A.pkl\"),\n",
    "#     source_or_target_dataset=\"target\",\n",
    "#     x_transform_func=global_x_transform_func,\n",
    "#     domain_modifier=lambda u: f\"cores_{u}\"\n",
    "# )"
   ]
  },
  {
   "cell_type": "code",
   "execution_count": 15,
   "id": "76db484d",
   "metadata": {
    "execution": {
     "iopub.execute_input": "2022-03-21T03:47:20.990653Z",
     "iopub.status.busy": "2022-03-21T03:47:20.990100Z",
     "iopub.status.idle": "2022-03-21T03:47:21.011222Z",
     "shell.execute_reply": "2022-03-21T03:47:21.011561Z"
    },
    "papermill": {
     "duration": 0.044546,
     "end_time": "2022-03-21T03:47:21.011679",
     "exception": false,
     "start_time": "2022-03-21T03:47:20.967133",
     "status": "completed"
    },
    "tags": []
   },
   "outputs": [],
   "source": [
    "# from steves_utils.ORACLE.utils_v2 import (\n",
    "#     ALL_DISTANCES_FEET,\n",
    "#     ALL_RUNS,\n",
    "#     ALL_SERIAL_NUMBERS,\n",
    "# )\n",
    "\n",
    "\n",
    "# add_dataset(\n",
    "#     labels=ALL_SERIAL_NUMBERS,\n",
    "#     domains = list(set(ALL_DISTANCES_FEET) - {2,62}),\n",
    "#     num_examples_per_domain_per_label=100,\n",
    "#     pickle_path=os.path.join(get_datasets_base_path(), \"oracle.Run2_framed_2000Examples_stratified_ds.2022A.pkl\"),\n",
    "#     source_or_target_dataset=\"source\",\n",
    "#     x_transform_func=global_x_transform_func,\n",
    "#     domain_modifier=lambda u: f\"oracle1_{u}\"\n",
    "# )\n"
   ]
  },
  {
   "cell_type": "code",
   "execution_count": 16,
   "id": "97dea9d2",
   "metadata": {
    "execution": {
     "iopub.execute_input": "2022-03-21T03:47:21.056854Z",
     "iopub.status.busy": "2022-03-21T03:47:21.056136Z",
     "iopub.status.idle": "2022-03-21T03:47:21.076598Z",
     "shell.execute_reply": "2022-03-21T03:47:21.076909Z"
    },
    "papermill": {
     "duration": 0.042987,
     "end_time": "2022-03-21T03:47:21.077005",
     "exception": false,
     "start_time": "2022-03-21T03:47:21.034018",
     "status": "completed"
    },
    "tags": []
   },
   "outputs": [],
   "source": [
    "# from steves_utils.ORACLE.utils_v2 import (\n",
    "#     ALL_DISTANCES_FEET,\n",
    "#     ALL_RUNS,\n",
    "#     ALL_SERIAL_NUMBERS,\n",
    "# )\n",
    "\n",
    "\n",
    "# add_dataset(\n",
    "#     labels=ALL_SERIAL_NUMBERS,\n",
    "#     domains = list(set(ALL_DISTANCES_FEET) - {2,62,56}),\n",
    "#     num_examples_per_domain_per_label=100,\n",
    "#     pickle_path=os.path.join(get_datasets_base_path(), \"oracle.Run2_framed_2000Examples_stratified_ds.2022A.pkl\"),\n",
    "#     source_or_target_dataset=\"source\",\n",
    "#     x_transform_func=global_x_transform_func,\n",
    "#     domain_modifier=lambda u: f\"oracle2_{u}\"\n",
    "# )"
   ]
  },
  {
   "cell_type": "code",
   "execution_count": 17,
   "id": "6f289866",
   "metadata": {
    "execution": {
     "iopub.execute_input": "2022-03-21T03:47:21.123890Z",
     "iopub.status.busy": "2022-03-21T03:47:21.123335Z",
     "iopub.status.idle": "2022-03-21T03:47:21.145439Z",
     "shell.execute_reply": "2022-03-21T03:47:21.145117Z"
    },
    "papermill": {
     "duration": 0.045023,
     "end_time": "2022-03-21T03:47:21.145523",
     "exception": false,
     "start_time": "2022-03-21T03:47:21.100500",
     "status": "completed"
    },
    "tags": []
   },
   "outputs": [],
   "source": [
    "# add_dataset(\n",
    "#     labels=list(range(19)),\n",
    "#     domains = [0,1,2],\n",
    "#     num_examples_per_domain_per_label=100,\n",
    "#     pickle_path=os.path.join(get_datasets_base_path(), \"metehan.stratified_ds.2022A.pkl\"),\n",
    "#     source_or_target_dataset=\"target\",\n",
    "#     x_transform_func=global_x_transform_func,\n",
    "#     domain_modifier=lambda u: f\"met_{u}\"\n",
    "# )"
   ]
  },
  {
   "cell_type": "code",
   "execution_count": 18,
   "id": "86a863c3",
   "metadata": {
    "execution": {
     "iopub.execute_input": "2022-03-21T03:47:21.191051Z",
     "iopub.status.busy": "2022-03-21T03:47:21.190500Z",
     "iopub.status.idle": "2022-03-21T03:47:21.209968Z",
     "shell.execute_reply": "2022-03-21T03:47:21.210282Z"
    },
    "papermill": {
     "duration": 0.042075,
     "end_time": "2022-03-21T03:47:21.210378",
     "exception": false,
     "start_time": "2022-03-21T03:47:21.168303",
     "status": "completed"
    },
    "tags": []
   },
   "outputs": [],
   "source": [
    "# # from steves_utils.wisig.utils import (\n",
    "# #     ALL_NODES_MINIMUM_100_EXAMPLES,\n",
    "# #     ALL_NODES_MINIMUM_500_EXAMPLES,\n",
    "# #     ALL_NODES_MINIMUM_1000_EXAMPLES,\n",
    "# #     ALL_DAYS\n",
    "# # )\n",
    "\n",
    "# import steves_utils.wisig.utils as wisig\n",
    "\n",
    "\n",
    "# add_dataset(\n",
    "#     labels=wisig.ALL_NODES_MINIMUM_100_EXAMPLES,\n",
    "#     domains = wisig.ALL_DAYS,\n",
    "#     num_examples_per_domain_per_label=100,\n",
    "#     pickle_path=os.path.join(get_datasets_base_path(), \"wisig.node3-19.stratified_ds.2022A.pkl\"),\n",
    "#     source_or_target_dataset=\"target\",\n",
    "#     x_transform_func=global_x_transform_func,\n",
    "#     domain_modifier=lambda u: f\"wisig_{u}\"\n",
    "# )"
   ]
  },
  {
   "cell_type": "code",
   "execution_count": 19,
   "id": "fd5442bc",
   "metadata": {
    "execution": {
     "iopub.execute_input": "2022-03-21T03:47:21.258780Z",
     "iopub.status.busy": "2022-03-21T03:47:21.257912Z",
     "iopub.status.idle": "2022-03-21T03:47:21.280155Z",
     "shell.execute_reply": "2022-03-21T03:47:21.279825Z"
    },
    "papermill": {
     "duration": 0.047813,
     "end_time": "2022-03-21T03:47:21.280247",
     "exception": false,
     "start_time": "2022-03-21T03:47:21.232434",
     "status": "completed"
    },
    "tags": []
   },
   "outputs": [],
   "source": [
    "###################################\n",
    "# Build the dataset\n",
    "###################################\n",
    "train_original_source = Iterable_Aggregator(train_original_source, p.seed)\n",
    "val_original_source = Iterable_Aggregator(val_original_source, p.seed)\n",
    "test_original_source = Iterable_Aggregator(test_original_source, p.seed)\n",
    "\n",
    "\n",
    "train_original_target = Iterable_Aggregator(train_original_target, p.seed)\n",
    "val_original_target = Iterable_Aggregator(val_original_target, p.seed)\n",
    "test_original_target = Iterable_Aggregator(test_original_target, p.seed)\n",
    "\n",
    "# For CNN We only use X and Y. And we only train on the source.\n",
    "# Properly form the data using a transform lambda and Lazy_Iterable_Wrapper. Finally wrap them in a dataloader\n",
    "\n",
    "transform_lambda = lambda ex: ex[1] # Original is (<domain>, <episode>) so we strip down to episode only\n",
    "\n",
    "train_processed_source = Lazy_Iterable_Wrapper(train_original_source, transform_lambda)\n",
    "val_processed_source   = Lazy_Iterable_Wrapper(val_original_source, transform_lambda)\n",
    "test_processed_source  = Lazy_Iterable_Wrapper(test_original_source, transform_lambda)\n",
    "\n",
    "train_processed_target = Lazy_Iterable_Wrapper(train_original_target, transform_lambda)\n",
    "val_processed_target   = Lazy_Iterable_Wrapper(val_original_target, transform_lambda)\n",
    "test_processed_target  = Lazy_Iterable_Wrapper(test_original_target, transform_lambda)\n",
    "\n",
    "datasets = EasyDict({\n",
    "    \"source\": {\n",
    "        \"original\": {\"train\":train_original_source, \"val\":val_original_source, \"test\":test_original_source},\n",
    "        \"processed\": {\"train\":train_processed_source, \"val\":val_processed_source, \"test\":test_processed_source}\n",
    "    },\n",
    "    \"target\": {\n",
    "        \"original\": {\"train\":train_original_target, \"val\":val_original_target, \"test\":test_original_target},\n",
    "        \"processed\": {\"train\":train_processed_target, \"val\":val_processed_target, \"test\":test_processed_target}\n",
    "    },\n",
    "})"
   ]
  },
  {
   "cell_type": "code",
   "execution_count": 20,
   "id": "5b3c01fc",
   "metadata": {
    "execution": {
     "iopub.execute_input": "2022-03-21T03:47:21.332506Z",
     "iopub.status.busy": "2022-03-21T03:47:21.331955Z",
     "iopub.status.idle": "2022-03-21T03:47:29.421584Z",
     "shell.execute_reply": "2022-03-21T03:47:29.422230Z"
    },
    "papermill": {
     "duration": 8.1146,
     "end_time": "2022-03-21T03:47:29.422446",
     "exception": false,
     "start_time": "2022-03-21T03:47:21.307846",
     "status": "completed"
    },
    "tags": []
   },
   "outputs": [
    {
     "name": "stdout",
     "output_type": "stream",
     "text": [
      "{'Wisig_4', 'Wisig_3', 'Wisig_1', 'Wisig_2'}\n"
     ]
    },
    {
     "name": "stdout",
     "output_type": "stream",
     "text": [
      "{'CORES_5', 'CORES_1', 'CORES_2', 'CORES_3', 'CORES_4'}\n"
     ]
    },
    {
     "name": "stdout",
     "output_type": "stream",
     "text": [
      "tensor([[[-0.8632, -0.6818,  0.5379,  ..., -0.2515, -0.8332, -0.2837],\n",
      "         [ 0.2234, -0.5830, -1.1451,  ..., -0.0684, -0.4329, -1.2545]],\n",
      "\n",
      "        [[-0.2265,  0.2365,  1.0485,  ...,  0.4761,  0.1491,  0.6524],\n",
      "         [-0.2029, -0.7223,  0.0057,  ...,  0.1478,  0.2759,  0.0411]],\n",
      "\n",
      "        [[-0.3479,  0.6670,  0.8314,  ...,  0.2594,  0.6762,  1.1570],\n",
      "         [-0.7058, -0.6147,  0.5476,  ..., -0.1138, -0.4172,  0.4342]],\n",
      "\n",
      "        ...,\n",
      "\n",
      "        [[-0.1353,  0.8185,  1.6903,  ..., -0.4783,  0.4837,  0.9770],\n",
      "         [-0.7789, -0.8786, -0.1708,  ..., -0.2938, -0.2391,  0.4113]],\n",
      "\n",
      "        [[ 0.1781,  0.4642,  0.3355,  ...,  1.0077,  0.9674,  0.4148],\n",
      "         [ 0.0078, -0.1222,  0.6618,  ...,  0.1404,  0.8491,  0.9427]],\n",
      "\n",
      "        [[-0.0761,  1.1195,  1.1170,  ..., -0.0964,  0.5591,  0.2130],\n",
      "         [-0.5262,  0.1065,  0.8355,  ..., -0.6948, -0.3284,  0.6225]]])\n"
     ]
    }
   ],
   "source": [
    "from steves_utils.transforms import get_average_magnitude, get_average_power\n",
    "\n",
    "print(set([u for u,_ in val_original_source]))\n",
    "print(set([u for u,_ in val_original_target]))\n",
    "\n",
    "s_x, s_y, q_x, q_y, _ = next(iter(train_processed_source))\n",
    "print(s_x)\n",
    "\n",
    "# for ds in [\n",
    "#     train_processed_source,\n",
    "#     val_processed_source,\n",
    "#     test_processed_source,\n",
    "#     train_processed_target,\n",
    "#     val_processed_target,\n",
    "#     test_processed_target\n",
    "# ]:\n",
    "#     for s_x, s_y, q_x, q_y, _ in ds:\n",
    "#         for X in (s_x, q_x):\n",
    "#             for x in X:\n",
    "#                 assert np.isclose(get_average_magnitude(x.numpy()), 1.0)\n",
    "#                 assert np.isclose(get_average_power(x.numpy()), 1.0)\n",
    "                "
   ]
  },
  {
   "cell_type": "code",
   "execution_count": 21,
   "id": "bbdacba1",
   "metadata": {
    "execution": {
     "iopub.execute_input": "2022-03-21T03:47:29.484002Z",
     "iopub.status.busy": "2022-03-21T03:47:29.482692Z",
     "iopub.status.idle": "2022-03-21T03:47:29.740389Z",
     "shell.execute_reply": "2022-03-21T03:47:29.739606Z"
    },
    "papermill": {
     "duration": 0.286581,
     "end_time": "2022-03-21T03:47:29.740568",
     "exception": false,
     "start_time": "2022-03-21T03:47:29.453987",
     "status": "completed"
    },
    "tags": []
   },
   "outputs": [
    {
     "name": "stdout",
     "output_type": "stream",
     "text": [
      "(2, 256)\n"
     ]
    }
   ],
   "source": [
    "###################################\n",
    "# Build the model\n",
    "###################################\n",
    "# easfsl only wants a tuple for the shape\n",
    "model = Steves_Prototypical_Network(x_net, device=p.device, x_shape=tuple(p.x_shape))\n",
    "optimizer = Adam(params=model.parameters(), lr=p.lr)"
   ]
  },
  {
   "cell_type": "code",
   "execution_count": 22,
   "id": "22b39ac5",
   "metadata": {
    "execution": {
     "iopub.execute_input": "2022-03-21T03:47:29.796922Z",
     "iopub.status.busy": "2022-03-21T03:47:29.796536Z",
     "iopub.status.idle": "2022-03-21T03:52:09.649308Z",
     "shell.execute_reply": "2022-03-21T03:52:09.648823Z"
    },
    "papermill": {
     "duration": 279.880881,
     "end_time": "2022-03-21T03:52:09.649424",
     "exception": false,
     "start_time": "2022-03-21T03:47:29.768543",
     "status": "completed"
    },
    "tags": []
   },
   "outputs": [
    {
     "name": "stdout",
     "output_type": "stream",
     "text": [
      "epoch: 1, [batch: 1 / 915], examples_per_second: 207.5601, train_label_loss: 3.8984, \n"
     ]
    },
    {
     "name": "stdout",
     "output_type": "stream",
     "text": [
      "epoch: 1, [batch: 92 / 915], examples_per_second: 4052.5881, train_label_loss: 1.0342, \n"
     ]
    },
    {
     "name": "stdout",
     "output_type": "stream",
     "text": [
      "epoch: 1, [batch: 183 / 915], examples_per_second: 3407.0578, train_label_loss: 0.7096, \n"
     ]
    },
    {
     "name": "stdout",
     "output_type": "stream",
     "text": [
      "epoch: 1, [batch: 275 / 915], examples_per_second: 3658.7959, train_label_loss: 0.2413, \n"
     ]
    },
    {
     "name": "stdout",
     "output_type": "stream",
     "text": [
      "epoch: 1, [batch: 366 / 915], examples_per_second: 3866.3834, train_label_loss: 0.5273, \n"
     ]
    },
    {
     "name": "stdout",
     "output_type": "stream",
     "text": [
      "epoch: 1, [batch: 458 / 915], examples_per_second: 3073.5739, train_label_loss: 0.2953, \n"
     ]
    },
    {
     "name": "stdout",
     "output_type": "stream",
     "text": [
      "epoch: 1, [batch: 549 / 915], examples_per_second: 2989.1523, train_label_loss: 0.1908, \n"
     ]
    },
    {
     "name": "stdout",
     "output_type": "stream",
     "text": [
      "epoch: 1, [batch: 640 / 915], examples_per_second: 2980.7593, train_label_loss: 0.4693, \n"
     ]
    },
    {
     "name": "stdout",
     "output_type": "stream",
     "text": [
      "epoch: 1, [batch: 732 / 915], examples_per_second: 2968.3216, train_label_loss: 0.2447, \n"
     ]
    },
    {
     "name": "stdout",
     "output_type": "stream",
     "text": [
      "epoch: 1, [batch: 823 / 915], examples_per_second: 2968.1956, train_label_loss: 0.2617, \n"
     ]
    },
    {
     "name": "stdout",
     "output_type": "stream",
     "text": [
      "=============================================================\n",
      "epoch: 1, source_val_acc_label: 0.9382, target_val_acc_label: 0.9731, source_val_label_loss: 0.3260, target_val_label_loss: 0.2064, \n",
      "=============================================================\n"
     ]
    },
    {
     "name": "stdout",
     "output_type": "stream",
     "text": [
      "New best\n"
     ]
    },
    {
     "name": "stdout",
     "output_type": "stream",
     "text": [
      "epoch: 2, [batch: 1 / 916], examples_per_second: 22.6066, train_label_loss: 0.1634, \n"
     ]
    },
    {
     "name": "stdout",
     "output_type": "stream",
     "text": [
      "epoch: 2, [batch: 92 / 916], examples_per_second: 3115.2062, train_label_loss: 0.4407, \n"
     ]
    },
    {
     "name": "stdout",
     "output_type": "stream",
     "text": [
      "epoch: 2, [batch: 184 / 916], examples_per_second: 3012.7405, train_label_loss: 0.3996, \n"
     ]
    },
    {
     "name": "stdout",
     "output_type": "stream",
     "text": [
      "epoch: 2, [batch: 275 / 916], examples_per_second: 3073.6918, train_label_loss: 0.2562, \n"
     ]
    },
    {
     "name": "stdout",
     "output_type": "stream",
     "text": [
      "epoch: 2, [batch: 367 / 916], examples_per_second: 3346.1424, train_label_loss: 0.2631, \n"
     ]
    },
    {
     "name": "stdout",
     "output_type": "stream",
     "text": [
      "epoch: 2, [batch: 458 / 916], examples_per_second: 3474.4663, train_label_loss: 0.2867, \n"
     ]
    },
    {
     "name": "stdout",
     "output_type": "stream",
     "text": [
      "epoch: 2, [batch: 550 / 916], examples_per_second: 3487.0649, train_label_loss: 0.2067, \n"
     ]
    },
    {
     "name": "stdout",
     "output_type": "stream",
     "text": [
      "epoch: 2, [batch: 641 / 916], examples_per_second: 3514.3289, train_label_loss: 0.4815, \n"
     ]
    },
    {
     "name": "stdout",
     "output_type": "stream",
     "text": [
      "epoch: 2, [batch: 733 / 916], examples_per_second: 3418.6176, train_label_loss: 0.1956, \n"
     ]
    },
    {
     "name": "stdout",
     "output_type": "stream",
     "text": [
      "epoch: 2, [batch: 824 / 916], examples_per_second: 3399.3304, train_label_loss: 0.2144, \n"
     ]
    },
    {
     "name": "stdout",
     "output_type": "stream",
     "text": [
      "=============================================================\n",
      "epoch: 2, source_val_acc_label: 0.9548, target_val_acc_label: 0.9759, source_val_label_loss: 0.2527, target_val_label_loss: 0.1522, \n",
      "=============================================================\n"
     ]
    },
    {
     "name": "stdout",
     "output_type": "stream",
     "text": [
      "New best\n"
     ]
    },
    {
     "name": "stdout",
     "output_type": "stream",
     "text": [
      "epoch: 3, [batch: 1 / 912], examples_per_second: 27.1630, train_label_loss: 0.2465, \n"
     ]
    },
    {
     "name": "stdout",
     "output_type": "stream",
     "text": [
      "epoch: 3, [batch: 92 / 912], examples_per_second: 3035.4540, train_label_loss: 0.1158, \n"
     ]
    },
    {
     "name": "stdout",
     "output_type": "stream",
     "text": [
      "epoch: 3, [batch: 183 / 912], examples_per_second: 3270.4734, train_label_loss: 0.2270, \n"
     ]
    },
    {
     "name": "stdout",
     "output_type": "stream",
     "text": [
      "epoch: 3, [batch: 274 / 912], examples_per_second: 3451.2847, train_label_loss: 0.2273, \n"
     ]
    },
    {
     "name": "stdout",
     "output_type": "stream",
     "text": [
      "epoch: 3, [batch: 365 / 912], examples_per_second: 3356.4669, train_label_loss: 0.1974, \n"
     ]
    },
    {
     "name": "stdout",
     "output_type": "stream",
     "text": [
      "epoch: 3, [batch: 456 / 912], examples_per_second: 3657.0439, train_label_loss: 0.2667, \n"
     ]
    },
    {
     "name": "stdout",
     "output_type": "stream",
     "text": [
      "epoch: 3, [batch: 547 / 912], examples_per_second: 3504.7115, train_label_loss: 0.2863, \n"
     ]
    },
    {
     "name": "stdout",
     "output_type": "stream",
     "text": [
      "epoch: 3, [batch: 638 / 912], examples_per_second: 3698.4778, train_label_loss: 0.2105, \n"
     ]
    },
    {
     "name": "stdout",
     "output_type": "stream",
     "text": [
      "epoch: 3, [batch: 729 / 912], examples_per_second: 3920.9392, train_label_loss: 0.2941, \n"
     ]
    },
    {
     "name": "stdout",
     "output_type": "stream",
     "text": [
      "epoch: 3, [batch: 820 / 912], examples_per_second: 3941.2422, train_label_loss: 0.1996, \n"
     ]
    },
    {
     "name": "stdout",
     "output_type": "stream",
     "text": [
      "=============================================================\n",
      "epoch: 3, source_val_acc_label: 0.9586, target_val_acc_label: 0.9767, source_val_label_loss: 0.2266, target_val_label_loss: 0.1624, \n",
      "=============================================================\n"
     ]
    },
    {
     "name": "stdout",
     "output_type": "stream",
     "text": [
      "New best\n"
     ]
    }
   ],
   "source": [
    "###################################\n",
    "# train\n",
    "###################################\n",
    "jig = PTN_Train_Eval_Test_Jig(model, p.BEST_MODEL_PATH, p.device)\n",
    "\n",
    "jig.train(\n",
    "    train_iterable=datasets.source.processed.train,\n",
    "    source_val_iterable=datasets.source.processed.val,\n",
    "    target_val_iterable=datasets.target.processed.val,\n",
    "    num_epochs=p.n_epoch,\n",
    "    num_logs_per_epoch=p.NUM_LOGS_PER_EPOCH,\n",
    "    patience=p.patience,\n",
    "    optimizer=optimizer,\n",
    "    criteria_for_best=p.criteria_for_best,\n",
    ")"
   ]
  },
  {
   "cell_type": "code",
   "execution_count": 23,
   "id": "31e8fabf",
   "metadata": {
    "execution": {
     "iopub.execute_input": "2022-03-21T03:52:09.738180Z",
     "iopub.status.busy": "2022-03-21T03:52:09.737348Z",
     "iopub.status.idle": "2022-03-21T03:52:09.768728Z",
     "shell.execute_reply": "2022-03-21T03:52:09.768299Z"
    },
    "papermill": {
     "duration": 0.078461,
     "end_time": "2022-03-21T03:52:09.768834",
     "exception": false,
     "start_time": "2022-03-21T03:52:09.690373",
     "status": "completed"
    },
    "tags": []
   },
   "outputs": [],
   "source": [
    "total_experiment_time_secs = time.time() - start_time_secs"
   ]
  },
  {
   "cell_type": "code",
   "execution_count": 24,
   "id": "87b9595b",
   "metadata": {
    "execution": {
     "iopub.execute_input": "2022-03-21T03:52:09.866058Z",
     "iopub.status.busy": "2022-03-21T03:52:09.863803Z",
     "iopub.status.idle": "2022-03-21T03:53:13.117808Z",
     "shell.execute_reply": "2022-03-21T03:53:13.118337Z"
    },
    "papermill": {
     "duration": 63.304838,
     "end_time": "2022-03-21T03:53:13.118500",
     "exception": false,
     "start_time": "2022-03-21T03:52:09.813662",
     "status": "completed"
    },
    "tags": []
   },
   "outputs": [],
   "source": [
    "###################################\n",
    "# Evaluate the model\n",
    "###################################\n",
    "source_test_label_accuracy, source_test_label_loss = jig.test(datasets.source.processed.test)\n",
    "target_test_label_accuracy, target_test_label_loss = jig.test(datasets.target.processed.test)\n",
    "\n",
    "source_val_label_accuracy, source_val_label_loss = jig.test(datasets.source.processed.val)\n",
    "target_val_label_accuracy, target_val_label_loss = jig.test(datasets.target.processed.val)\n",
    "\n",
    "history = jig.get_history()\n",
    "\n",
    "total_epochs_trained = len(history[\"epoch_indices\"])\n",
    "\n",
    "val_dl = Iterable_Aggregator((datasets.source.original.val,datasets.target.original.val))\n",
    "\n",
    "confusion = ptn_confusion_by_domain_over_dataloader(model, p.device, val_dl)\n",
    "per_domain_accuracy = per_domain_accuracy_from_confusion(confusion)\n",
    "\n",
    "# Add a key to per_domain_accuracy for if it was a source domain\n",
    "for domain, accuracy in per_domain_accuracy.items():\n",
    "    per_domain_accuracy[domain] = {\n",
    "        \"accuracy\": accuracy,\n",
    "        \"source?\": domain in p.domains_source\n",
    "    }\n",
    "\n",
    "# Do an independent accuracy assesment JUST TO BE SURE!\n",
    "# _source_test_label_accuracy = independent_accuracy_assesment(model, datasets.source.processed.test, p.device)\n",
    "# _target_test_label_accuracy = independent_accuracy_assesment(model, datasets.target.processed.test, p.device)\n",
    "# _source_val_label_accuracy = independent_accuracy_assesment(model, datasets.source.processed.val, p.device)\n",
    "# _target_val_label_accuracy = independent_accuracy_assesment(model, datasets.target.processed.val, p.device)\n",
    "\n",
    "# assert(_source_test_label_accuracy == source_test_label_accuracy)\n",
    "# assert(_target_test_label_accuracy == target_test_label_accuracy)\n",
    "# assert(_source_val_label_accuracy == source_val_label_accuracy)\n",
    "# assert(_target_val_label_accuracy == target_val_label_accuracy)\n",
    "\n",
    "experiment = {\n",
    "    \"experiment_name\": p.experiment_name,\n",
    "    \"parameters\": dict(p),\n",
    "    \"results\": {\n",
    "        \"source_test_label_accuracy\": source_test_label_accuracy,\n",
    "        \"source_test_label_loss\": source_test_label_loss,\n",
    "        \"target_test_label_accuracy\": target_test_label_accuracy,\n",
    "        \"target_test_label_loss\": target_test_label_loss,\n",
    "        \"source_val_label_accuracy\": source_val_label_accuracy,\n",
    "        \"source_val_label_loss\": source_val_label_loss,\n",
    "        \"target_val_label_accuracy\": target_val_label_accuracy,\n",
    "        \"target_val_label_loss\": target_val_label_loss,\n",
    "        \"total_epochs_trained\": total_epochs_trained,\n",
    "        \"total_experiment_time_secs\": total_experiment_time_secs,\n",
    "        \"confusion\": confusion,\n",
    "        \"per_domain_accuracy\": per_domain_accuracy,\n",
    "    },\n",
    "    \"history\": history,\n",
    "    \"dataset_metrics\": get_dataset_metrics(datasets, \"ptn\"),\n",
    "}"
   ]
  },
  {
   "cell_type": "code",
   "execution_count": 25,
   "id": "54a21829",
   "metadata": {
    "execution": {
     "iopub.execute_input": "2022-03-21T03:53:13.194284Z",
     "iopub.status.busy": "2022-03-21T03:53:13.193679Z",
     "iopub.status.idle": "2022-03-21T03:53:13.400582Z",
     "shell.execute_reply": "2022-03-21T03:53:13.401056Z"
    },
    "papermill": {
     "duration": 0.24431,
     "end_time": "2022-03-21T03:53:13.401220",
     "exception": false,
     "start_time": "2022-03-21T03:53:13.156910",
     "status": "completed"
    },
    "tags": []
   },
   "outputs": [
    {
     "data": {
      "image/png": "[encoded data removed]",
      "text/plain": [
       "<Figure size 1080x504 with 1 Axes>"
      ]
     },
     "metadata": {
      "needs_background": "light"
     },
     "output_type": "display_data"
    }
   ],
   "source": [
    "ax = get_loss_curve(experiment)\n",
    "plt.show()"
   ]
  },
  {
   "cell_type": "code",
   "execution_count": 26,
   "id": "fd8a0f60",
   "metadata": {
    "execution": {
     "iopub.execute_input": "2022-03-21T03:53:13.477697Z",
     "iopub.status.busy": "2022-03-21T03:53:13.477327Z",
     "iopub.status.idle": "2022-03-21T03:53:13.800958Z",
     "shell.execute_reply": "2022-03-21T03:53:13.800561Z"
    },
    "papermill": {
     "duration": 0.361606,
     "end_time": "2022-03-21T03:53:13.801054",
     "exception": false,
     "start_time": "2022-03-21T03:53:13.439448",
     "status": "completed"
    },
    "tags": []
   },
   "outputs": [
    {
     "data": {
      "text/plain": [
       "<AxesSubplot:title={'center':'Results'}>"
      ]
     },
     "execution_count": 26,
     "metadata": {},
     "output_type": "execute_result"
    },
    {
     "data": {
      "image/png": "[encoded data removed]",
      "text/plain": [
       "<Figure size 1080x504 with 1 Axes>"
      ]
     },
     "metadata": {
      "needs_background": "light"
     },
     "output_type": "display_data"
    }
   ],
   "source": [
    "get_results_table(experiment)"
   ]
  },
  {
   "cell_type": "code",
   "execution_count": 27,
   "id": "cf8dc689",
   "metadata": {
    "execution": {
     "iopub.execute_input": "2022-03-21T03:53:13.876286Z",
     "iopub.status.busy": "2022-03-21T03:53:13.875911Z",
     "iopub.status.idle": "2022-03-21T03:53:14.100516Z",
     "shell.execute_reply": "2022-03-21T03:53:14.100080Z"
    },
    "papermill": {
     "duration": 0.263366,
     "end_time": "2022-03-21T03:53:14.100608",
     "exception": false,
     "start_time": "2022-03-21T03:53:13.837242",
     "status": "completed"
    },
    "tags": []
   },
   "outputs": [
    {
     "data": {
      "text/plain": [
       "<AxesSubplot:title={'center':'Per Domain Validation Accuracy'}, xlabel='domain'>"
      ]
     },
     "execution_count": 27,
     "metadata": {},
     "output_type": "execute_result"
    },
    {
     "data": {
      "image/png": "[encoded data removed]",
      "text/plain": [
       "<Figure size 1080x504 with 1 Axes>"
      ]
     },
     "metadata": {
      "needs_background": "light"
     },
     "output_type": "display_data"
    }
   ],
   "source": [
    "get_domain_accuracies(experiment)"
   ]
  },
  {
   "cell_type": "code",
   "execution_count": 28,
   "id": "a74ae082",
   "metadata": {
    "execution": {
     "iopub.execute_input": "2022-03-21T03:53:14.178488Z",
     "iopub.status.busy": "2022-03-21T03:53:14.178110Z",
     "iopub.status.idle": "2022-03-21T03:53:14.201249Z",
     "shell.execute_reply": "2022-03-21T03:53:14.200867Z"
    },
    "papermill": {
     "duration": 0.063379,
     "end_time": "2022-03-21T03:53:14.201337",
     "exception": false,
     "start_time": "2022-03-21T03:53:14.137958",
     "status": "completed"
    },
    "tags": []
   },
   "outputs": [
    {
     "name": "stdout",
     "output_type": "stream",
     "text": [
      "Source Test Label Accuracy: 0.9583873476795437 Target Test Label Accuracy: 0.9755172413793104\n",
      "Source Val Label Accuracy: 0.9586476293103449 Target Val Label Accuracy: 0.9766522988505747\n"
     ]
    }
   ],
   "source": [
    "print(\"Source Test Label Accuracy:\", experiment[\"results\"][\"source_test_label_accuracy\"], \"Target Test Label Accuracy:\", experiment[\"results\"][\"target_test_label_accuracy\"])\n",
    "print(\"Source Val Label Accuracy:\", experiment[\"results\"][\"source_val_label_accuracy\"], \"Target Val Label Accuracy:\", experiment[\"results\"][\"target_val_label_accuracy\"])"
   ]
  },
  {
   "cell_type": "code",
   "execution_count": 29,
   "id": "dacca602",
   "metadata": {
    "execution": {
     "iopub.execute_input": "2022-03-21T03:53:14.279160Z",
     "iopub.status.busy": "2022-03-21T03:53:14.278488Z",
     "iopub.status.idle": "2022-03-21T03:53:14.301683Z",
     "shell.execute_reply": "2022-03-21T03:53:14.301349Z"
    },
    "papermill": {
     "duration": 0.062829,
     "end_time": "2022-03-21T03:53:14.301770",
     "exception": false,
     "start_time": "2022-03-21T03:53:14.238941",
     "status": "completed"
    },
    "tags": [
     "experiment_json"
    ]
   },
   "outputs": [
    {
     "data": {
      "text/plain": [
       "'{\"experiment_name\": \"tl_1v2:cores-wisig\", \"parameters\": {\"experiment_name\": \"tl_1v2:cores-wisig\", \"device\": \"cuda\", \"lr\": 0.0001, \"n_shot\": 3, \"n_query\": 2, \"train_k_factor\": 3, \"val_k_factor\": 2, \"test_k_factor\": 2, \"torch_default_dtype\": \"torch.float32\", \"n_epoch\": 3, \"patience\": 3, \"criteria_for_best\": \"target_accuracy\", \"x_net\": [{\"class\": \"nnReshape\", \"kargs\": {\"shape\": [-1, 1, 2, 256]}}, {\"class\": \"Conv2d\", \"kargs\": {\"in_channels\": 1, \"out_channels\": 256, \"kernel_size\": [1, 7], \"bias\": false, \"padding\": [0, 3]}}, {\"class\": \"ReLU\", \"kargs\": {\"inplace\": true}}, {\"class\": \"BatchNorm2d\", \"kargs\": {\"num_features\": 256}}, {\"class\": \"Conv2d\", \"kargs\": {\"in_channels\": 256, \"out_channels\": 80, \"kernel_size\": [2, 7], \"bias\": true, \"padding\": [0, 3]}}, {\"class\": \"ReLU\", \"kargs\": {\"inplace\": true}}, {\"class\": \"BatchNorm2d\", \"kargs\": {\"num_features\": 80}}, {\"class\": \"Flatten\", \"kargs\": {}}, {\"class\": \"Linear\", \"kargs\": {\"in_features\": 20480, \"out_features\": 256}}, {\"class\": \"ReLU\", \"kargs\": {\"inplace\": true}}, {\"class\": \"BatchNorm1d\", \"kargs\": {\"num_features\": 256}}, {\"class\": \"Linear\", \"kargs\": {\"in_features\": 256, \"out_features\": 256}}], \"NUM_LOGS_PER_EPOCH\": 10, \"BEST_MODEL_PATH\": \"./best_model.pth\", \"n_way\": 58, \"datasets\": [{\"labels\": [\"1-10.\", \"1-11.\", \"1-15.\", \"1-16.\", \"1-17.\", \"1-18.\", \"1-19.\", \"10-4.\", \"10-7.\", \"11-1.\", \"11-14.\", \"11-17.\", \"11-20.\", \"11-7.\", \"13-20.\", \"13-8.\", \"14-10.\", \"14-11.\", \"14-14.\", \"14-7.\", \"15-1.\", \"15-20.\", \"16-1.\", \"16-16.\", \"17-10.\", \"17-11.\", \"17-2.\", \"19-1.\", \"19-16.\", \"19-19.\", \"19-20.\", \"19-3.\", \"2-10.\", \"2-11.\", \"2-17.\", \"2-18.\", \"2-20.\", \"2-3.\", \"2-4.\", \"2-5.\", \"2-6.\", \"2-7.\", \"2-8.\", \"3-13.\", \"3-18.\", \"3-3.\", \"4-1.\", \"4-10.\", \"4-11.\", \"4-19.\", \"5-5.\", \"6-15.\", \"7-10.\", \"7-14.\", \"8-18.\", \"8-20.\", \"8-3.\", \"8-8.\"], \"domains\": [1, 2, 3, 4, 5], \"num_examples_per_domain_per_label\": -1, \"pickle_path\": \"/root/csc500-main/datasets/cores.stratified_ds.2022A.pkl\", \"source_or_target_dataset\": \"target\", \"x_transforms\": [\"unit_mag\"], \"episode_transforms\": [], \"domain_prefix\": \"CORES_\"}, {\"labels\": [\"1-10\", \"1-12\", \"1-14\", \"1-16\", \"1-18\", \"1-19\", \"1-8\", \"10-11\", \"10-17\", \"10-4\", \"10-7\", \"11-1\", \"11-10\", \"11-19\", \"11-20\", \"11-4\", \"11-7\", \"12-19\", \"12-20\", \"12-7\", \"13-14\", \"13-18\", \"13-19\", \"13-20\", \"13-3\", \"13-7\", \"14-10\", \"14-11\", \"14-12\", \"14-13\", \"14-14\", \"14-19\", \"14-20\", \"14-7\", \"14-8\", \"14-9\", \"15-1\", \"15-19\", \"15-6\", \"16-1\", \"16-16\", \"16-19\", \"16-20\", \"17-10\", \"17-11\", \"18-1\", \"18-10\", \"18-11\", \"18-12\", \"18-13\", \"18-14\", \"18-15\", \"18-16\", \"18-17\", \"18-19\", \"18-2\", \"18-20\", \"18-4\", \"18-5\", \"18-7\", \"18-8\", \"18-9\", \"19-1\", \"19-10\", \"19-11\", \"19-12\", \"19-13\", \"19-14\", \"19-15\", \"19-19\", \"19-2\", \"19-20\", \"19-3\", \"19-4\", \"19-6\", \"19-7\", \"19-8\", \"19-9\", \"2-1\", \"2-13\", \"2-15\", \"2-3\", \"2-4\", \"2-5\", \"2-6\", \"2-7\", \"2-8\", \"20-1\", \"20-12\", \"20-14\", \"20-15\", \"20-16\", \"20-18\", \"20-19\", \"20-20\", \"20-3\", \"20-4\", \"20-5\", \"20-7\", \"20-8\", \"3-1\", \"3-13\", \"3-18\", \"3-2\", \"3-8\", \"4-1\", \"4-10\", \"4-11\", \"5-1\", \"5-5\", \"6-1\", \"6-15\", \"6-6\", \"7-10\", \"7-11\", \"7-12\", \"7-13\", \"7-14\", \"7-7\", \"7-8\", \"7-9\", \"8-1\", \"8-13\", \"8-14\", \"8-18\", \"8-20\", \"8-3\", \"8-8\", \"9-1\", \"9-7\"], \"domains\": [1, 2, 3, 4], \"num_examples_per_domain_per_label\": -1, \"pickle_path\": \"/root/csc500-main/datasets/wisig.node3-19.stratified_ds.2022A.pkl\", \"source_or_target_dataset\": \"source\", \"x_transforms\": [\"unit_mag\"], \"episode_transforms\": [], \"domain_prefix\": \"Wisig_\"}], \"dataset_seed\": 7, \"seed\": 7, \"x_shape\": [2, 256], \"domains_source\": [\"Wisig_1\", \"Wisig_2\", \"Wisig_3\", \"Wisig_4\"], \"domains_target\": [\"CORES_1\", \"CORES_2\", \"CORES_3\", \"CORES_4\", \"CORES_5\"]}, \"results\": {\"source_test_label_accuracy\": 0.9583873476795437, \"source_test_label_loss\": 0.22876277565956116, \"target_test_label_accuracy\": 0.9755172413793104, \"target_test_label_loss\": 0.16306987404823303, \"source_val_label_accuracy\": 0.9586476293103449, \"source_val_label_loss\": 0.22658711671829224, \"target_val_label_accuracy\": 0.9766522988505747, \"target_val_label_loss\": 0.16242440044879913, \"total_epochs_trained\": 3, \"total_experiment_time_secs\": 331.4358208179474, \"confusion\": {\"Wisig_4\": {\"57\": {\"57\": 16}, \"125\": {\"125\": 41, \"78\": 1}, \"63\": {\"63\": 16}, \"71\": {\"71\": 38}, \"116\": {\"116\": 28}, \"52\": {\"52\": 20}, \"0\": {\"0\": 38, \"101\": 1, \"84\": 1, \"51\": 1, \"94\": 1}, \"69\": {\"69\": 42}, \"105\": {\"105\": 37, \"29\": 1, \"21\": 3, \"84\": 1, \"87\": 2}, \"43\": {\"43\": 42, \"87\": 2, \"23\": 1, \"105\": 1}, \"4\": {\"4\": 34, \"127\": 2}, \"5\": {\"5\": 39, \"51\": 1}, \"44\": {\"44\": 43, \"65\": 1}, \"24\": {\"24\": 25, \"3\": 1, \"36\": 2, \"97\": 2}, \"107\": {\"107\": 35, \"43\": 1}, \"26\": {\"26\": 36, \"78\": 1, \"21\": 1, \"94\": 1, \"69\": 1}, \"90\": {\"90\": 38}, \"100\": {\"100\": 20}, \"18\": {\"24\": 1, \"18\": 40, \"84\": 1}, \"72\": {\"72\": 31, \"36\": 1}, \"81\": {\"81\": 30, \"113\": 1, \"70\": 1, \"23\": 1, \"78\": 1}, \"96\": {\"108\": 1, \"96\": 14, \"14\": 1, \"94\": 1, \"59\": 1, \"28\": 1, \"129\": 1}, \"37\": {\"37\": 15, \"75\": 1}, \"67\": {\"67\": 13, \"63\": 1, \"104\": 2}, \"76\": {\"76\": 15, \"62\": 1}, \"108\": {\"108\": 36, \"70\": 2, \"73\": 1, \"0\": 1, \"83\": 1, \"78\": 1}, \"50\": {\"50\": 16}, \"10\": {\"10\": 29, \"23\": 1, \"39\": 1, \"24\": 1}, \"126\": {\"126\": 32}, \"109\": {\"109\": 38}, \"84\": {\"84\": 37, \"78\": 1}, \"99\": {\"99\": 39, \"21\": 1}, \"17\": {\"17\": 20}, \"129\": {\"129\": 28}, \"111\": {\"111\": 33, \"84\": 1}, \"13\": {\"13\": 15, \"92\": 1}, \"75\": {\"75\": 15, \"41\": 1}, \"65\": {\"65\": 12}, \"112\": {\"112\": 16}, \"120\": {\"120\": 20}, \"97\": {\"24\": 1, \"97\": 13, \"36\": 4, \"51\": 1, \"15\": 1}, \"123\": {\"123\": 16}, \"32\": {\"32\": 24}, \"70\": {\"70\": 32, \"96\": 1, \"118\": 1, \"88\": 1, \"1\": 1}, \"104\": {\"104\": 16}, \"121\": {\"121\": 31, \"81\": 1}, \"113\": {\"113\": 42}, \"85\": {\"85\": 25, \"122\": 1, \"51\": 1, \"78\": 1}, \"53\": {\"53\": 16}, \"23\": {\"23\": 5, \"60\": 1, \"123\": 1, \"51\": 1, \"61\": 1, \"49\": 2, \"85\": 1, \"52\": 1, \"21\": 1, \"74\": 1, \"127\": 1}, \"59\": {\"59\": 10, \"12\": 1, \"51\": 1}, \"45\": {\"45\": 16}, \"58\": {\"58\": 16}, \"42\": {\"42\": 27, \"83\": 1}, \"28\": {\"28\": 20}, \"47\": {\"47\": 8, \"118\": 1, \"35\": 1, \"75\": 2}, \"11\": {\"11\": 46}, \"101\": {\"101\": 36, \"0\": 2}, \"95\": {\"95\": 30}, \"86\": {\"86\": 28}, \"19\": {\"19\": 23, \"122\": 1}, \"55\": {\"55\": 16}, \"20\": {\"20\": 16}, \"118\": {\"118\": 28, \"84\": 2, \"51\": 1, \"62\": 1}, \"36\": {\"36\": 37, \"21\": 1, \"24\": 2, \"126\": 1, \"97\": 1}, \"21\": {\"21\": 35, \"122\": 2, \"42\": 1}, \"39\": {\"39\": 36, \"21\": 1, \"78\": 1}, \"29\": {\"29\": 31, \"78\": 1}, \"122\": {\"122\": 40, \"23\": 1, \"27\": 1}, \"68\": {\"68\": 16}, \"114\": {\"12\": 1, \"114\": 34, \"83\": 1, \"21\": 1, \"30\": 1}, \"12\": {\"12\": 31, \"68\": 2, \"21\": 1}, \"64\": {\"64\": 15, \"11\": 1}, \"94\": {\"94\": 31, \"88\": 1}, \"27\": {\"84\": 1, \"27\": 29}, \"117\": {\"117\": 36}, \"8\": {\"8\": 31, \"27\": 1}, \"33\": {\"33\": 36}, \"80\": {\"80\": 16}, \"35\": {\"35\": 11, \"23\": 1}, \"54\": {\"54\": 16}, \"25\": {\"25\": 12}, \"87\": {\"118\": 1, \"87\": 33}, \"74\": {\"74\": 13, \"18\": 1, \"94\": 1, \"39\": 1}, \"93\": {\"93\": 36}, \"40\": {\"40\": 32, \"78\": 1, \"21\": 1}, \"88\": {\"88\": 33, \"79\": 1, \"70\": 2, \"60\": 1, \"108\": 1}, \"1\": {\"1\": 38, \"3\": 1, \"110\": 1, \"21\": 1, \"92\": 1}, \"66\": {\"66\": 16}, \"15\": {\"15\": 40}, \"78\": {\"78\": 22, \"21\": 6, \"3\": 1, \"70\": 1, \"122\": 1, \"73\": 1, \"0\": 1, \"99\": 1, \"43\": 1, \"114\": 1}, \"73\": {\"73\": 21, \"115\": 1, \"46\": 1, \"78\": 1}, \"60\": {\"60\": 29, \"5\": 1, \"43\": 1, \"49\": 1}, \"115\": {\"115\": 13, \"72\": 1, \"73\": 1, \"53\": 1}, \"3\": {\"3\": 44}, \"38\": {\"38\": 16}, \"102\": {\"102\": 39, \"120\": 1}, \"2\": {\"2\": 27, \"26\": 1}, \"51\": {\"51\": 11, \"59\": 1, \"52\": 1, \"34\": 1, \"60\": 1, \"88\": 1}, \"89\": {\"89\": 31, \"21\": 1}, \"106\": {\"106\": 33, \"21\": 1}, \"124\": {\"124\": 46}, \"9\": {\"9\": 28}, \"22\": {\"22\": 16}, \"79\": {\"79\": 16}, \"6\": {\"6\": 24}, \"34\": {\"34\": 31, \"94\": 1}, \"91\": {\"91\": 24}, \"61\": {\"61\": 16}, \"110\": {\"110\": 33, \"78\": 1, \"14\": 1, \"21\": 1}, \"127\": {\"127\": 33, \"4\": 4, \"23\": 1}, \"77\": {\"77\": 12}, \"31\": {\"31\": 16}, \"30\": {\"30\": 29, \"36\": 1}, \"98\": {\"98\": 29, \"122\": 1}, \"49\": {\"49\": 31, \"113\": 1}, \"7\": {\"7\": 32}, \"92\": {\"92\": 28}, \"46\": {\"92\": 1, \"46\": 19}, \"119\": {\"119\": 15, \"9\": 1}, \"103\": {\"103\": 16}, \"16\": {\"16\": 32}, \"62\": {\"62\": 36}, \"56\": {\"56\": 12}, \"14\": {\"14\": 36}, \"41\": {\"41\": 15, \"53\": 1}, \"128\": {\"128\": 24}, \"83\": {\"83\": 25, \"121\": 1}, \"48\": {\"48\": 15, \"88\": 1}, \"82\": {\"82\": 24}}, \"Wisig_1\": {\"76\": {\"76\": 16}, \"55\": {\"55\": 12}, \"89\": {\"89\": 27, \"70\": 1}, \"19\": {\"19\": 28}, \"124\": {\"124\": 42}, \"97\": {\"97\": 19, \"123\": 1}, \"21\": {\"21\": 38, \"82\": 1, \"30\": 1}, \"45\": {\"45\": 10, \"21\": 1, \"78\": 1}, \"6\": {\"6\": 32}, \"105\": {\"105\": 34, \"40\": 2, \"87\": 2}, \"117\": {\"117\": 37, \"78\": 1}, \"37\": {\"37\": 16}, \"11\": {\"11\": 38}, \"88\": {\"88\": 33, \"36\": 1}, \"90\": {\"90\": 36}, \"74\": {\"74\": 16}, \"52\": {\"52\": 20}, \"92\": {\"92\": 28}, \"128\": {\"128\": 24}, \"59\": {\"59\": 12}, \"98\": {\"98\": 42}, \"82\": {\"82\": 28}, \"32\": {\"32\": 32}, \"94\": {\"94\": 36}, \"125\": {\"125\": 38}, \"78\": {\"43\": 2, \"105\": 1, \"78\": 10, \"69\": 2, \"21\": 1}, \"118\": {\"118\": 37, \"84\": 1}, \"129\": {\"129\": 27, \"27\": 1}, \"91\": {\"91\": 28}, \"22\": {\"22\": 15, \"103\": 1}, \"15\": {\"15\": 28, \"21\": 1, \"18\": 1}, \"87\": {\"87\": 37, \"105\": 1}, \"66\": {\"66\": 16}, \"30\": {\"30\": 36, \"107\": 2}, \"46\": {\"46\": 12}, \"112\": {\"112\": 16}, \"28\": {\"28\": 19, \"66\": 1}, \"123\": {\"123\": 16}, \"12\": {\"12\": 39, \"70\": 1, \"88\": 1, \"68\": 1}, \"16\": {\"16\": 38}, \"36\": {\"36\": 31, \"88\": 1}, \"108\": {\"108\": 30}, \"29\": {\"29\": 27, \"8\": 1}, \"116\": {\"116\": 32}, \"72\": {\"72\": 32}, \"26\": {\"26\": 34}, \"17\": {\"17\": 11, \"12\": 1, \"106\": 1, \"83\": 1, \"86\": 1, \"23\": 1}, \"43\": {\"43\": 34, \"78\": 3, \"76\": 1}, \"120\": {\"120\": 20}, \"68\": {\"68\": 16}, \"50\": {\"50\": 14, \"96\": 1, \"38\": 1}, \"56\": {\"56\": 9, \"59\": 1, \"53\": 1, \"115\": 1}, \"85\": {\"85\": 32}, \"10\": {\"10\": 34}, \"3\": {\"3\": 23, \"84\": 1}, \"54\": {\"54\": 16}, \"9\": {\"9\": 31, \"21\": 1}, \"7\": {\"7\": 34}, \"115\": {\"115\": 12}, \"96\": {\"96\": 18, \"126\": 1, \"69\": 1}, \"102\": {\"102\": 29, \"21\": 1}, \"104\": {\"104\": 15, \"122\": 1}, \"47\": {\"47\": 12}, \"86\": {\"86\": 35, \"90\": 1}, \"103\": {\"103\": 16}, \"8\": {\"8\": 42}, \"14\": {\"14\": 34}, \"39\": {\"39\": 27, \"88\": 1}, \"57\": {\"57\": 11, \"9\": 1}, \"63\": {\"63\": 16}, \"106\": {\"106\": 34, \"83\": 1, \"21\": 1}, \"127\": {\"127\": 42, \"73\": 1, \"21\": 1}, \"51\": {\"51\": 16}, \"27\": {\"27\": 42}, \"5\": {\"5\": 34}, \"4\": {\"4\": 38}, \"58\": {\"58\": 12}, \"44\": {\"44\": 36}, \"121\": {\"121\": 31, \"95\": 1}, \"111\": {\"111\": 35, \"12\": 1}, \"60\": {\"60\": 15, \"34\": 1}, \"53\": {\"53\": 20}, \"62\": {\"62\": 44}, \"77\": {\"77\": 15, \"109\": 1}, \"40\": {\"40\": 41, \"105\": 1}, \"84\": {\"84\": 39, \"114\": 1}, \"73\": {\"73\": 18, \"21\": 1, \"30\": 1}, \"34\": {\"34\": 30, \"57\": 1, \"46\": 1}, \"81\": {\"81\": 28}, \"67\": {\"67\": 16}, \"70\": {\"70\": 26}, \"113\": {\"113\": 38}, \"75\": {\"75\": 16}, \"13\": {\"13\": 16}, \"0\": {\"0\": 34}, \"114\": {\"114\": 38}, \"109\": {\"109\": 42, \"21\": 1, \"73\": 1}, \"23\": {\"23\": 22, \"44\": 1, \"12\": 1}, \"71\": {\"71\": 32}, \"110\": {\"110\": 26}, \"25\": {\"25\": 16}, \"35\": {\"35\": 12}, \"126\": {\"126\": 38}, \"101\": {\"101\": 44}, \"42\": {\"42\": 26}, \"64\": {\"64\": 16}, \"33\": {\"33\": 36}, \"65\": {\"65\": 11, \"63\": 1}, \"69\": {\"69\": 38}, \"100\": {\"100\": 16}, \"80\": {\"80\": 16}, \"20\": {\"20\": 16}, \"18\": {\"18\": 36}, \"31\": {\"31\": 16}, \"24\": {\"24\": 39, \"114\": 1, \"118\": 1, \"43\": 1}, \"95\": {\"95\": 32}, \"119\": {\"119\": 15, \"104\": 1}, \"49\": {\"49\": 20}, \"61\": {\"61\": 10, \"38\": 1, \"57\": 1}, \"48\": {\"48\": 12}, \"38\": {\"38\": 16}, \"93\": {\"93\": 29, \"87\": 2, \"43\": 1}, \"79\": {\"79\": 12}, \"41\": {\"41\": 16}, \"83\": {\"83\": 23, \"21\": 1, \"113\": 2}, \"122\": {\"122\": 37, \"78\": 1}, \"1\": {\"1\": 33, \"88\": 1}, \"2\": {\"2\": 31, \"70\": 1}, \"107\": {\"107\": 32, \"127\": 2}, \"99\": {\"99\": 24}}, \"Wisig_2\": {\"67\": {\"67\": 15, \"39\": 1}, \"53\": {\"53\": 14, \"52\": 1, \"24\": 1}, \"7\": {\"7\": 44}, \"90\": {\"90\": 50}, \"30\": {\"30\": 45, \"49\": 1, \"70\": 1, \"36\": 1}, \"12\": {\"12\": 43, \"114\": 1}, \"16\": {\"16\": 40, \"93\": 1, \"113\": 1, \"14\": 1, \"102\": 1, \"122\": 1, \"39\": 1}, \"71\": {\"71\": 42, \"27\": 2, \"36\": 1, \"114\": 1}, \"96\": {\"96\": 20}, \"95\": {\"95\": 34}, \"27\": {\"27\": 40, \"109\": 1, \"36\": 10, \"94\": 1, \"70\": 1, \"30\": 1}, \"86\": {\"86\": 32}, \"32\": {\"32\": 35, \"6\": 1}, \"42\": {\"42\": 27, \"70\": 1}, \"14\": {\"14\": 32, \"15\": 1, \"88\": 1, \"118\": 1, \"102\": 1, \"114\": 1, \"24\": 1}, \"74\": {\"74\": 16}, \"97\": {\"97\": 18, \"15\": 2}, \"69\": {\"69\": 46, \"102\": 1, \"24\": 1}, \"25\": {\"25\": 15, \"83\": 1}, \"48\": {\"48\": 20}, \"73\": {\"73\": 28}, \"119\": {\"119\": 20}, \"51\": {\"58\": 1, \"51\": 17, \"72\": 1, \"14\": 1}, \"52\": {\"52\": 20}, \"35\": {\"35\": 12}, \"120\": {\"120\": 20}, \"8\": {\"8\": 44, \"110\": 1, \"14\": 1}, \"61\": {\"61\": 19, \"110\": 1}, \"59\": {\"59\": 14, \"21\": 1, \"94\": 1}, \"115\": {\"115\": 8, \"112\": 1, \"24\": 1, \"27\": 2}, \"127\": {\"127\": 34}, \"31\": {\"31\": 20}, \"33\": {\"33\": 42}, \"124\": {\"124\": 37, \"27\": 1}, \"58\": {\"58\": 20}, \"89\": {\"89\": 36}, \"62\": {\"62\": 34, \"39\": 1, \"60\": 1, \"10\": 1, \"118\": 1}, \"91\": {\"91\": 26, \"59\": 1, \"115\": 1}, \"104\": {\"104\": 17, \"109\": 1, \"53\": 1, \"21\": 1}, \"64\": {\"64\": 16}, \"63\": {\"63\": 20}, \"5\": {\"5\": 41, \"113\": 1, \"21\": 1, \"121\": 1}, \"92\": {\"92\": 28}, \"2\": {\"2\": 32}, \"109\": {\"109\": 45, \"81\": 1}, \"118\": {\"118\": 45, \"61\": 1, \"70\": 1, \"110\": 1}, \"34\": {\"34\": 32}, \"55\": {\"55\": 16}, \"11\": {\"11\": 44, \"108\": 1, \"117\": 1}, \"70\": {\"70\": 49, \"122\": 1, \"69\": 1, \"21\": 3}, \"98\": {\"98\": 50}, \"20\": {\"20\": 16}, \"49\": {\"73\": 1, \"109\": 1, \"49\": 20, \"98\": 2}, \"28\": {\"28\": 20}, \"22\": {\"22\": 20}, \"87\": {\"87\": 43, \"109\": 1, \"118\": 1, \"43\": 1, \"71\": 1, \"70\": 1}, \"45\": {\"45\": 16}, \"57\": {\"57\": 20}, \"72\": {\"72\": 27, \"70\": 1}, \"77\": {\"77\": 15, \"27\": 1}, \"113\": {\"113\": 37, \"109\": 1}, \"6\": {\"6\": 32}, \"26\": {\"26\": 53, \"61\": 1}, \"44\": {\"44\": 40, \"108\": 2}, \"46\": {\"46\": 15, \"21\": 1}, \"65\": {\"65\": 18, \"70\": 2}, \"84\": {\"84\": 42, \"107\": 1, \"24\": 1}, \"39\": {\"39\": 35, \"78\": 1, \"10\": 1, \"40\": 1, \"69\": 1, \"36\": 1}, \"82\": {\"82\": 35, \"94\": 1}, \"108\": {\"108\": 34}, \"21\": {\"53\": 1, \"21\": 36, \"24\": 1, \"118\": 1, \"27\": 1, \"14\": 1, \"82\": 1, \"117\": 1, \"18\": 1, \"36\": 1, \"26\": 1}, \"29\": {\"29\": 32}, \"13\": {\"13\": 15, \"27\": 1}, \"17\": {\"17\": 13, \"53\": 1, \"69\": 2}, \"88\": {\"88\": 36, \"26\": 1, \"23\": 1, \"126\": 1, \"108\": 1}, \"1\": {\"1\": 36, \"23\": 1, \"69\": 1}, \"112\": {\"112\": 16}, \"24\": {\"24\": 39, \"97\": 1, \"21\": 1, \"78\": 1}, \"102\": {\"102\": 48}, \"66\": {\"66\": 18, \"10\": 1, \"88\": 1}, \"114\": {\"114\": 43, \"61\": 1}, \"40\": {\"40\": 41, \"42\": 1, \"89\": 1, \"105\": 1}, \"4\": {\"4\": 49, \"49\": 1}, \"100\": {\"100\": 14, \"45\": 1, \"76\": 1}, \"129\": {\"129\": 32}, \"19\": {\"19\": 28}, \"81\": {\"81\": 21, \"32\": 1, \"69\": 1, \"107\": 1}, \"125\": {\"125\": 37, \"53\": 1}, \"93\": {\"93\": 50, \"16\": 2}, \"101\": {\"101\": 43, \"9\": 1}, \"3\": {\"3\": 41, \"11\": 1}, \"56\": {\"56\": 12}, \"126\": {\"126\": 43, \"88\": 1}, \"38\": {\"38\": 16}, \"105\": {\"105\": 43, \"94\": 1, \"69\": 1, \"78\": 1}, \"41\": {\"41\": 20}, \"106\": {\"106\": 41, \"70\": 1, \"23\": 1, \"69\": 1}, \"76\": {\"76\": 16}, \"36\": {\"36\": 50, \"112\": 2, \"12\": 1, \"110\": 1, \"118\": 1, \"27\": 1}, \"78\": {\"95\": 2, \"78\": 33, \"70\": 1}, \"99\": {\"99\": 30, \"69\": 1, \"70\": 1}, \"0\": {\"0\": 34}, \"107\": {\"107\": 35, \"39\": 1}, \"111\": {\"111\": 40}, \"68\": {\"68\": 14, \"113\": 1, \"4\": 1}, \"60\": {\"60\": 27, \"116\": 1}, \"15\": {\"15\": 40, \"61\": 1, \"70\": 1}, \"50\": {\"36\": 1, \"50\": 14, \"94\": 1}, \"79\": {\"79\": 16}, \"94\": {\"94\": 32, \"70\": 1, \"107\": 1, \"82\": 1, \"66\": 1, \"21\": 1, \"117\": 1}, \"128\": {\"128\": 22, \"52\": 1, \"101\": 1}, \"103\": {\"103\": 16}, \"47\": {\"47\": 10, \"59\": 1, \"88\": 1}, \"37\": {\"37\": 16}, \"85\": {\"85\": 29, \"118\": 1, \"47\": 1, \"36\": 1}, \"121\": {\"121\": 36}, \"54\": {\"54\": 19, \"114\": 1}, \"18\": {\"18\": 41, \"39\": 1}, \"116\": {\"116\": 27, \"98\": 1}, \"122\": {\"122\": 35, \"0\": 1, \"14\": 1, \"70\": 1, \"26\": 1, \"5\": 2, \"21\": 1}, \"117\": {\"117\": 43, \"4\": 1}, \"10\": {\"10\": 38, \"24\": 1, \"21\": 1}, \"123\": {\"123\": 16}, \"43\": {\"43\": 40, \"61\": 1, \"12\": 1}, \"83\": {\"83\": 39, \"69\": 1}, \"23\": {\"23\": 36, \"122\": 1, \"24\": 1}, \"80\": {\"80\": 16}, \"110\": {\"110\": 27, \"18\": 1, \"10\": 2, \"27\": 1, \"68\": 2, \"95\": 1}, \"75\": {\"75\": 16}, \"9\": {\"9\": 31, \"102\": 1}}, \"Wisig_3\": {\"96\": {\"96\": 20}, \"11\": {\"11\": 47, \"78\": 1}, \"87\": {\"87\": 35, \"43\": 1}, \"128\": {\"128\": 32}, \"56\": {\"56\": 12}, \"39\": {\"39\": 43, \"93\": 1}, \"58\": {\"58\": 15, \"53\": 1}, \"15\": {\"15\": 38}, \"70\": {\"70\": 33, \"18\": 2, \"21\": 2, \"30\": 1}, \"103\": {\"103\": 15, \"112\": 1}, \"77\": {\"77\": 16}, \"85\": {\"85\": 32}, \"59\": {\"59\": 11, \"30\": 1}, \"28\": {\"28\": 15, \"118\": 1}, \"118\": {\"118\": 40}, \"25\": {\"25\": 16}, \"93\": {\"93\": 42}, \"102\": {\"102\": 36}, \"33\": {\"33\": 39, \"80\": 1, \"21\": 1, \"43\": 1}, \"84\": {\"84\": 33, \"122\": 1}, \"119\": {\"119\": 15, \"49\": 1}, \"64\": {\"64\": 20}, \"100\": {\"100\": 16}, \"27\": {\"27\": 34, \"24\": 1, \"36\": 1}, \"107\": {\"107\": 34}, \"76\": {\"76\": 15, \"97\": 1}, \"12\": {\"12\": 48}, \"31\": {\"31\": 20}, \"44\": {\"44\": 41, \"80\": 1}, \"48\": {\"48\": 14, \"116\": 2}, \"115\": {\"115\": 14, \"1\": 1, \"124\": 1}, \"0\": {\"0\": 40}, \"116\": {\"116\": 26}, \"24\": {\"24\": 40}, \"81\": {\"81\": 32}, \"122\": {\"122\": 36, \"78\": 1, \"18\": 1}, \"19\": {\"19\": 31, \"8\": 1}, \"90\": {\"90\": 36}, \"22\": {\"22\": 16}, \"16\": {\"16\": 37, \"43\": 1}, \"68\": {\"68\": 16}, \"18\": {\"18\": 50}, \"120\": {\"120\": 20}, \"127\": {\"127\": 41, \"13\": 1, \"49\": 1, \"78\": 1}, \"35\": {\"35\": 12}, \"45\": {\"45\": 15, \"18\": 1}, \"30\": {\"30\": 37, \"17\": 1, \"59\": 1, \"18\": 1}, \"67\": {\"67\": 15, \"112\": 1}, \"129\": {\"129\": 32}, \"105\": {\"105\": 42}, \"74\": {\"74\": 14, \"57\": 1, \"73\": 1}, \"125\": {\"125\": 34}, \"37\": {\"37\": 16}, \"91\": {\"91\": 24}, \"123\": {\"123\": 16}, \"7\": {\"7\": 32}, \"75\": {\"75\": 16}, \"83\": {\"83\": 24}, \"94\": {\"94\": 35, \"18\": 1}, \"104\": {\"104\": 16}, \"92\": {\"92\": 31, \"118\": 1}, \"29\": {\"29\": 32}, \"82\": {\"82\": 27, \"116\": 1}, \"113\": {\"113\": 41, \"115\": 1, \"70\": 1, \"43\": 1}, \"6\": {\"6\": 32}, \"32\": {\"32\": 32}, \"79\": {\"79\": 12}, \"36\": {\"36\": 31, \"24\": 1, \"27\": 1, \"97\": 1}, \"98\": {\"98\": 36}, \"1\": {\"1\": 32, \"61\": 1, \"106\": 1}, \"14\": {\"14\": 42}, \"66\": {\"66\": 16}, \"117\": {\"117\": 36}, \"17\": {\"17\": 7, \"21\": 2, \"63\": 2, \"7\": 1, \"97\": 1, \"38\": 1, \"70\": 1, \"95\": 1}, \"49\": {\"49\": 22, \"112\": 1, \"78\": 1}, \"46\": {\"46\": 16}, \"111\": {\"111\": 34}, \"78\": {\"17\": 1, \"78\": 14, \"21\": 1}, \"26\": {\"26\": 41, \"21\": 1}, \"42\": {\"42\": 28}, \"10\": {\"10\": 46}, \"9\": {\"9\": 28, \"30\": 1, \"70\": 1}, \"55\": {\"55\": 16}, \"38\": {\"38\": 16}, \"63\": {\"63\": 16}, \"106\": {\"106\": 39, \"95\": 1}, \"88\": {\"88\": 34, \"25\": 1, \"108\": 1}, \"3\": {\"3\": 40}, \"99\": {\"99\": 36}, \"57\": {\"57\": 19, \"74\": 1}, \"8\": {\"8\": 41, \"78\": 1}, \"86\": {\"86\": 28}, \"126\": {\"126\": 43, \"39\": 1}, \"5\": {\"5\": 35, \"18\": 1}, \"62\": {\"62\": 42}, \"89\": {\"89\": 28}, \"112\": {\"112\": 14, \"37\": 1, \"43\": 1}, \"61\": {\"61\": 16}, \"13\": {\"13\": 14, \"78\": 1, \"21\": 1}, \"2\": {\"2\": 28}, \"50\": {\"50\": 16}, \"21\": {\"21\": 32, \"18\": 3, \"115\": 1, \"14\": 1, \"113\": 1, \"17\": 2, \"78\": 1, \"121\": 1, \"30\": 1, \"71\": 1}, \"73\": {\"73\": 38}, \"72\": {\"72\": 28}, \"43\": {\"43\": 35, \"70\": 1, \"122\": 1, \"33\": 1, \"87\": 2}, \"110\": {\"110\": 39, \"26\": 1}, \"95\": {\"95\": 30}, \"34\": {\"34\": 30, \"77\": 1, \"6\": 1}, \"41\": {\"41\": 15, \"112\": 1}, \"124\": {\"124\": 41, \"63\": 1}, \"114\": {\"114\": 41, \"21\": 1}, \"65\": {\"65\": 12}, \"121\": {\"121\": 30, \"109\": 2}, \"71\": {\"71\": 40}, \"53\": {\"53\": 18, \"20\": 1, \"108\": 1}, \"52\": {\"52\": 16}, \"40\": {\"40\": 32}, \"80\": {\"80\": 12, \"59\": 2, \"73\": 1, \"84\": 1}, \"109\": {\"109\": 36}, \"97\": {\"97\": 16, \"24\": 1, \"42\": 1, \"15\": 2}, \"20\": {\"20\": 16}, \"101\": {\"101\": 37, \"30\": 1, \"78\": 1, \"97\": 1, \"0\": 2}, \"23\": {\"23\": 27, \"67\": 1}, \"4\": {\"4\": 38}, \"54\": {\"54\": 14, \"122\": 1, \"123\": 1}, \"108\": {\"108\": 32}, \"69\": {\"69\": 33, \"43\": 1}, \"47\": {\"47\": 12}, \"51\": {\"51\": 16}, \"60\": {\"60\": 26}}, \"CORES_5\": {\"8\": {\"8\": 20}, \"12\": {\"12\": 20}, \"52\": {\"52\": 20}, \"16\": {\"16\": 20}, \"30\": {\"30\": 20}, \"26\": {\"26\": 20}, \"22\": {\"22\": 20}, \"49\": {\"49\": 20}, \"3\": {\"3\": 15, \"22\": 4, \"5\": 1}, \"6\": {\"6\": 16, \"17\": 2, \"9\": 1, \"21\": 1}, \"45\": {\"45\": 19, \"17\": 1}, \"37\": {\"37\": 20}, \"7\": {\"7\": 20}, \"33\": {\"33\": 20}, \"21\": {\"21\": 19, \"53\": 1}, \"10\": {\"10\": 20}, \"54\": {\"54\": 20}, \"41\": {\"41\": 20}, \"34\": {\"34\": 19, \"31\": 1}, \"55\": {\"55\": 19, \"9\": 1}, \"23\": {\"23\": 20}, \"43\": {\"43\": 20}, \"2\": {\"2\": 20}, \"11\": {\"15\": 2, \"11\": 18}, \"18\": {\"18\": 20}, \"1\": {\"1\": 20}, \"17\": {\"17\": 20}, \"35\": {\"35\": 20}, \"39\": {\"39\": 20}, \"28\": {\"28\": 20}, \"42\": {\"42\": 18, \"33\": 2}, \"36\": {\"36\": 19, \"42\": 1}, \"56\": {\"56\": 20}, \"38\": {\"38\": 20}, \"44\": {\"44\": 20}, \"19\": {\"19\": 20}, \"5\": {\"5\": 20}, \"57\": {\"57\": 20}, \"47\": {\"47\": 20}, \"24\": {\"24\": 19, \"56\": 1}, \"50\": {\"50\": 15, \"27\": 4, \"5\": 1}, \"53\": {\"53\": 20}, \"15\": {\"15\": 19, \"11\": 1}, \"31\": {\"31\": 20}, \"48\": {\"48\": 17, \"1\": 3}, \"40\": {\"40\": 20}, \"32\": {\"32\": 20}, \"46\": {\"46\": 20}, \"9\": {\"9\": 20}, \"4\": {\"4\": 20}, \"0\": {\"0\": 20}, \"51\": {\"51\": 20}, \"13\": {\"13\": 20}, \"20\": {\"20\": 20}, \"27\": {\"27\": 20}, \"14\": {\"5\": 5, \"14\": 9, \"54\": 5, \"40\": 1}, \"29\": {\"29\": 20}, \"25\": {\"25\": 20}}, \"CORES_1\": {\"10\": {\"10\": 24}, \"30\": {\"30\": 24}, \"38\": {\"38\": 24}, \"0\": {\"0\": 24}, \"9\": {\"9\": 24}, \"44\": {\"44\": 24}, \"35\": {\"35\": 24}, \"19\": {\"19\": 24}, \"4\": {\"4\": 24}, \"57\": {\"57\": 24}, \"12\": {\"12\": 24}, \"47\": {\"47\": 24}, \"16\": {\"16\": 24}, \"2\": {\"2\": 24}, \"36\": {\"36\": 24}, \"25\": {\"25\": 24}, \"54\": {\"54\": 24}, \"14\": {\"14\": 11, \"30\": 10, \"6\": 2, \"8\": 1}, \"24\": {\"24\": 24}, \"27\": {\"27\": 24}, \"48\": {\"48\": 24}, \"50\": {\"50\": 24}, \"51\": {\"51\": 24}, \"29\": {\"29\": 24}, \"17\": {\"17\": 24}, \"55\": {\"55\": 24}, \"32\": {\"32\": 24}, \"41\": {\"41\": 24}, \"33\": {\"33\": 24}, \"15\": {\"15\": 24}, \"31\": {\"31\": 24}, \"8\": {\"8\": 24}, \"28\": {\"28\": 24}, \"22\": {\"22\": 23, \"24\": 1}, \"43\": {\"43\": 24}, \"49\": {\"49\": 24}, \"52\": {\"52\": 24}, \"18\": {\"18\": 23, \"9\": 1}, \"40\": {\"40\": 24}, \"34\": {\"34\": 24}, \"45\": {\"45\": 24}, \"42\": {\"42\": 24}, \"7\": {\"7\": 24}, \"5\": {\"5\": 24}, \"56\": {\"56\": 24}, \"23\": {\"23\": 24}, \"46\": {\"46\": 23, \"50\": 1}, \"1\": {\"1\": 24}, \"20\": {\"20\": 24}, \"6\": {\"14\": 1, \"6\": 22, \"46\": 1}, \"26\": {\"26\": 24}, \"11\": {\"11\": 24}, \"39\": {\"39\": 24}, \"21\": {\"21\": 24}, \"3\": {\"3\": 24}, \"13\": {\"13\": 24}, \"37\": {\"37\": 24}, \"53\": {\"53\": 24}}, \"CORES_3\": {\"12\": {\"12\": 16}, \"8\": {\"8\": 16}, \"56\": {\"56\": 16}, \"53\": {\"53\": 16}, \"41\": {\"41\": 16}, \"51\": {\"51\": 16}, \"39\": {\"39\": 16}, \"46\": {\"46\": 15, \"1\": 1}, \"36\": {\"36\": 16}, \"11\": {\"11\": 16}, \"10\": {\"10\": 16}, \"48\": {\"48\": 16}, \"22\": {\"22\": 16}, \"21\": {\"21\": 16}, \"40\": {\"40\": 16}, \"47\": {\"47\": 16}, \"23\": {\"23\": 16}, \"45\": {\"45\": 14, \"17\": 2}, \"44\": {\"44\": 16}, \"7\": {\"7\": 16}, \"1\": {\"1\": 16}, \"16\": {\"16\": 16}, \"17\": {\"17\": 16}, \"55\": {\"55\": 16}, \"9\": {\"9\": 15, \"3\": 1}, \"6\": {\"6\": 13, \"48\": 1, \"38\": 1, \"17\": 1}, \"52\": {\"52\": 16}, \"43\": {\"43\": 16}, \"54\": {\"54\": 16}, \"0\": {\"0\": 16}, \"26\": {\"26\": 16}, \"35\": {\"35\": 16}, \"28\": {\"28\": 15, \"25\": 1}, \"15\": {\"15\": 13, \"11\": 2, \"18\": 1}, \"57\": {\"57\": 16}, \"30\": {\"30\": 16}, \"2\": {\"2\": 16}, \"13\": {\"13\": 16}, \"31\": {\"31\": 16}, \"32\": {\"32\": 16}, \"19\": {\"19\": 16}, \"34\": {\"34\": 16}, \"38\": {\"38\": 16}, \"37\": {\"37\": 16}, \"5\": {\"5\": 16}, \"18\": {\"18\": 16}, \"3\": {\"3\": 13, \"9\": 2, \"32\": 1}, \"25\": {\"25\": 16}, \"24\": {\"24\": 16}, \"27\": {\"27\": 14, \"4\": 2}, \"29\": {\"29\": 16}, \"4\": {\"4\": 16}, \"14\": {\"31\": 5, \"42\": 1, \"14\": 8, \"28\": 1, \"47\": 1}, \"33\": {\"33\": 16}, \"50\": {\"50\": 16}, \"49\": {\"49\": 16}, \"42\": {\"42\": 16}, \"20\": {\"20\": 16}}, \"CORES_4\": {\"40\": {\"40\": 16}, \"12\": {\"12\": 16}, \"30\": {\"30\": 16}, \"35\": {\"35\": 16}, \"18\": {\"18\": 16}, \"27\": {\"27\": 14, \"8\": 2}, \"33\": {\"33\": 16}, \"21\": {\"21\": 16}, \"54\": {\"54\": 16}, \"41\": {\"41\": 16}, \"44\": {\"44\": 16}, \"32\": {\"32\": 16}, \"45\": {\"45\": 16}, \"49\": {\"49\": 16}, \"16\": {\"16\": 16}, \"51\": {\"51\": 16}, \"9\": {\"9\": 16}, \"39\": {\"39\": 16}, \"1\": {\"1\": 16}, \"47\": {\"47\": 16}, \"31\": {\"31\": 16}, \"8\": {\"8\": 16}, \"17\": {\"17\": 16}, \"25\": {\"25\": 16}, \"11\": {\"11\": 16}, \"2\": {\"2\": 16}, \"19\": {\"19\": 16}, \"57\": {\"57\": 15, \"29\": 1}, \"6\": {\"6\": 16}, \"14\": {\"14\": 6, \"29\": 2, \"37\": 2, \"40\": 1, \"0\": 1, \"31\": 2, \"47\": 1, \"32\": 1}, \"42\": {\"42\": 16}, \"7\": {\"7\": 16}, \"34\": {\"34\": 16}, \"5\": {\"5\": 15, \"16\": 1}, \"20\": {\"20\": 16}, \"53\": {\"53\": 16}, \"24\": {\"24\": 16}, \"43\": {\"43\": 16}, \"50\": {\"50\": 16}, \"23\": {\"23\": 16}, \"26\": {\"26\": 16}, \"0\": {\"0\": 16}, \"13\": {\"13\": 16}, \"52\": {\"52\": 16}, \"29\": {\"57\": 2, \"29\": 14}, \"55\": {\"23\": 1, \"55\": 14, \"28\": 1}, \"48\": {\"48\": 16}, \"4\": {\"4\": 16}, \"38\": {\"38\": 16}, \"46\": {\"46\": 11, \"3\": 2, \"31\": 1, \"15\": 2}, \"3\": {\"3\": 14, \"50\": 2}, \"36\": {\"36\": 16}, \"10\": {\"10\": 16}, \"56\": {\"56\": 16}, \"37\": {\"37\": 16}, \"15\": {\"15\": 14, \"32\": 1, \"18\": 1}, \"28\": {\"28\": 16}, \"22\": {\"22\": 16}}, \"CORES_2\": {\"13\": {\"13\": 20}, \"28\": {\"28\": 20}, \"32\": {\"32\": 20}, \"26\": {\"26\": 20}, \"24\": {\"24\": 20}, \"6\": {\"6\": 19, \"48\": 1}, \"51\": {\"51\": 20}, \"23\": {\"23\": 20}, \"37\": {\"37\": 20}, \"10\": {\"10\": 20}, \"25\": {\"25\": 20}, \"27\": {\"27\": 20}, \"19\": {\"19\": 20}, \"21\": {\"21\": 20}, \"50\": {\"50\": 19, \"45\": 1}, \"3\": {\"3\": 18, \"32\": 1, \"36\": 1}, \"40\": {\"40\": 19, \"27\": 1}, \"15\": {\"15\": 20}, \"5\": {\"5\": 20}, \"41\": {\"41\": 20}, \"46\": {\"46\": 16, \"6\": 1, \"7\": 2, \"15\": 1}, \"7\": {\"7\": 20}, \"16\": {\"16\": 20}, \"30\": {\"30\": 20}, \"22\": {\"22\": 20}, \"33\": {\"33\": 20}, \"45\": {\"45\": 17, \"53\": 1, \"17\": 2}, \"47\": {\"47\": 20}, \"57\": {\"57\": 20}, \"29\": {\"29\": 20}, \"38\": {\"38\": 20}, \"14\": {\"14\": 13, \"42\": 1, \"43\": 3, \"11\": 1, \"31\": 2}, \"20\": {\"20\": 20}, \"42\": {\"42\": 20}, \"54\": {\"54\": 20}, \"36\": {\"36\": 20}, \"1\": {\"1\": 19, \"15\": 1}, \"8\": {\"8\": 20}, \"49\": {\"49\": 20}, \"4\": {\"4\": 20}, \"2\": {\"2\": 20}, \"31\": {\"31\": 20}, \"0\": {\"0\": 20}, \"11\": {\"11\": 19, \"15\": 1}, \"9\": {\"9\": 20}, \"43\": {\"43\": 20}, \"55\": {\"55\": 20}, \"56\": {\"56\": 20}, \"12\": {\"12\": 20}, \"52\": {\"52\": 20}, \"39\": {\"39\": 20}, \"35\": {\"35\": 20}, \"17\": {\"17\": 20}, \"34\": {\"34\": 20}, \"53\": {\"53\": 19, \"45\": 1}, \"44\": {\"44\": 20}, \"48\": {\"48\": 20}, \"18\": {\"18\": 20}}}, \"per_domain_accuracy\": {\"Wisig_4\": {\"accuracy\": 0.9468854282536151, \"source?\": true}, \"Wisig_1\": {\"accuracy\": 0.9738505747126437, \"source?\": true}, \"Wisig_2\": {\"accuracy\": 0.9480295566502464, \"source?\": true}, \"Wisig_3\": {\"accuracy\": 0.9674030172413793, \"source?\": true}, \"CORES_5\": {\"accuracy\": 0.9663793103448276, \"source?\": false}, \"CORES_1\": {\"accuracy\": 0.9870689655172413, \"source?\": false}, \"CORES_3\": {\"accuracy\": 0.9741379310344828, \"source?\": false}, \"CORES_4\": {\"accuracy\": 0.9709051724137931, \"source?\": false}, \"CORES_2\": {\"accuracy\": 0.9810344827586207, \"source?\": false}}}, \"history\": {\"epoch_indices\": [1, 2, 3], \"train_label_loss\": [0.5633570253767602, 0.25487242978448493, 0.19777705150517522], \"source_val_label_loss\": [0.3259996175765991, 0.25266778469085693, 0.22658711671829224], \"target_val_label_loss\": [0.2063622921705246, 0.15216737985610962, 0.16242440044879913], \"source_val_acc_label\": [0.9381734913793104, 0.9548087284482759, 0.9586476293103449], \"target_val_acc_label\": [0.9730603448275862, 0.975933908045977, 0.9766522988505747]}, \"dataset_metrics\": {\"source\": {\"train\": {\"n_unique_x\": 141820, \"n_unique_y\": 130, \"n_batch/episode\": 920}, \"val\": {\"n_unique_x\": 26024, \"n_unique_y\": 130, \"n_batch/episode\": 128}, \"test\": {\"n_unique_x\": 26933, \"n_unique_y\": 130, \"n_batch/episode\": 133}}, \"target\": {\"train\": {\"n_unique_x\": 75938, \"n_unique_y\": 58, \"n_batch/episode\": 351}, \"val\": {\"n_unique_x\": 11798, \"n_unique_y\": 58, \"n_batch/episode\": 48}, \"test\": {\"n_unique_x\": 12331, \"n_unique_y\": 58, \"n_batch/episode\": 50}}}}'"
      ]
     },
     "execution_count": 29,
     "metadata": {},
     "output_type": "execute_result"
    }
   ],
   "source": [
    "json.dumps(experiment)"
   ]
  }
 ],
 "metadata": {
  "celltoolbar": "Tags",
  "kernelspec": {
   "display_name": "Python 3 (ipykernel)",
   "language": "python",
   "name": "python3"
  },
  "language_info": {
   "codemirror_mode": {
    "name": "ipython",
    "version": 3
   },
   "file_extension": ".py",
   "mimetype": "text/x-python",
   "name": "python",
   "nbconvert_exporter": "python",
   "pygments_lexer": "ipython3",
   "version": "3.8.12"
  },
  "papermill": {
   "default_parameters": {},
   "duration": 402.173524,
   "end_time": "2022-03-21T03:53:16.947204",
   "environment_variables": {},
   "exception": null,
   "input_path": "/root/csc500-main/csc500-notebooks/templates/tl_ptn_template.ipynb",
   "output_path": "trial.ipynb",
   "parameters": {
    "parameters": {
     "BEST_MODEL_PATH": "./best_model.pth",
     "NUM_LOGS_PER_EPOCH": 10,
     "criteria_for_best": "target_accuracy",
     "dataset_seed": 7,
     "datasets": [
      {
       "domain_prefix": "CORES_",
       "domains": [
        1,
        2,
        3,
        4,
        5
       ],
       "episode_transforms": [],
       "labels": [
        "1-10.",
        "1-11.",
        "1-15.",
        "1-16.",
        "1-17.",
        "1-18.",
        "1-19.",
        "10-4.",
        "10-7.",
        "11-1.",
        "11-14.",
        "11-17.",
        "11-20.",
        "11-7.",
        "13-20.",
        "13-8.",
        "14-10.",
        "14-11.",
        "14-14.",
        "14-7.",
        "15-1.",
        "15-20.",
        "16-1.",
        "16-16.",
        "17-10.",
        "17-11.",
        "17-2.",
        "19-1.",
        "19-16.",
        "19-19.",
        "19-20.",
        "19-3.",
        "2-10.",
        "2-11.",
        "2-17.",
        "2-18.",
        "2-20.",
        "2-3.",
        "2-4.",
        "2-5.",
        "2-6.",
        "2-7.",
        "2-8.",
        "3-13.",
        "3-18.",
        "3-3.",
        "4-1.",
        "4-10.",
        "4-11.",
        "4-19.",
        "5-5.",
        "6-15.",
        "7-10.",
        "7-14.",
        "8-18.",
        "8-20.",
        "8-3.",
        "8-8."
       ],
       "num_examples_per_domain_per_label": -1,
       "pickle_path": "/root/csc500-main/datasets/cores.stratified_ds.2022A.pkl",
       "source_or_target_dataset": "target",
       "x_transforms": [
        "unit_mag"
       ]
      },
      {
       "domain_prefix": "Wisig_",
       "domains": [
        1,
        2,
        3,
        4
       ],
       "episode_transforms": [],
       "labels": [
        "1-10",
        "1-12",
        "1-14",
        "1-16",
        "1-18",
        "1-19",
        "1-8",
        "10-11",
        "10-17",
        "10-4",
        "10-7",
        "11-1",
        "11-10",
        "11-19",
        "11-20",
        "11-4",
        "11-7",
        "12-19",
        "12-20",
        "12-7",
        "13-14",
        "13-18",
        "13-19",
        "13-20",
        "13-3",
        "13-7",
        "14-10",
        "14-11",
        "14-12",
        "14-13",
        "14-14",
        "14-19",
        "14-20",
        "14-7",
        "14-8",
        "14-9",
        "15-1",
        "15-19",
        "15-6",
        "16-1",
        "16-16",
        "16-19",
        "16-20",
        "17-10",
        "17-11",
        "18-1",
        "18-10",
        "18-11",
        "18-12",
        "18-13",
        "18-14",
        "18-15",
        "18-16",
        "18-17",
        "18-19",
        "18-2",
        "18-20",
        "18-4",
        "18-5",
        "18-7",
        "18-8",
        "18-9",
        "19-1",
        "19-10",
        "19-11",
        "19-12",
        "19-13",
        "19-14",
        "19-15",
        "19-19",
        "19-2",
        "19-20",
        "19-3",
        "19-4",
        "19-6",
        "19-7",
        "19-8",
        "19-9",
        "2-1",
        "2-13",
        "2-15",
        "2-3",
        "2-4",
        "2-5",
        "2-6",
        "2-7",
        "2-8",
        "20-1",
        "20-12",
        "20-14",
        "20-15",
        "20-16",
        "20-18",
        "20-19",
        "20-20",
        "20-3",
        "20-4",
        "20-5",
        "20-7",
        "20-8",
        "3-1",
        "3-13",
        "3-18",
        "3-2",
        "3-8",
        "4-1",
        "4-10",
        "4-11",
        "5-1",
        "5-5",
        "6-1",
        "6-15",
        "6-6",
        "7-10",
        "7-11",
        "7-12",
        "7-13",
        "7-14",
        "7-7",
        "7-8",
        "7-9",
        "8-1",
        "8-13",
        "8-14",
        "8-18",
        "8-20",
        "8-3",
        "8-8",
        "9-1",
        "9-7"
       ],
       "num_examples_per_domain_per_label": -1,
       "pickle_path": "/root/csc500-main/datasets/wisig.node3-19.stratified_ds.2022A.pkl",
       "source_or_target_dataset": "source",
       "x_transforms": [
        "unit_mag"
       ]
      }
     ],
     "device": "cuda",
     "experiment_name": "tl_1v2:cores-wisig",
     "lr": 0.0001,
     "n_epoch": 3,
     "n_query": 2,
     "n_shot": 3,
     "n_way": 58,
     "patience": 3,
     "seed": 7,
     "test_k_factor": 2,
     "torch_default_dtype": "torch.float32",
     "train_k_factor": 3,
     "val_k_factor": 2,
     "x_net": [
      {
       "class": "nnReshape",
       "kargs": {
        "shape": [
         -1,
         1,
         2,
         256
        ]
       }
      },
      {
       "class": "Conv2d",
       "kargs": {
        "bias": false,
        "in_channels": 1,
        "kernel_size": [
         1,
         7
        ],
        "out_channels": 256,
        "padding": [
         0,
         3
        ]
       }
      },
      {
       "class": "ReLU",
       "kargs": {
        "inplace": true
       }
      },
      {
       "class": "BatchNorm2d",
       "kargs": {
        "num_features": 256
       }
      },
      {
       "class": "Conv2d",
       "kargs": {
        "bias": true,
        "in_channels": 256,
        "kernel_size": [
         2,
         7
        ],
        "out_channels": 80,
        "padding": [
         0,
         3
        ]
       }
      },
      {
       "class": "ReLU",
       "kargs": {
        "inplace": true
       }
      },
      {
       "class": "BatchNorm2d",
       "kargs": {
        "num_features": 80
       }
      },
      {
       "class": "Flatten",
       "kargs": {}
      },
      {
       "class": "Linear",
       "kargs": {
        "in_features": 20480,
        "out_features": 256
       }
      },
      {
       "class": "ReLU",
       "kargs": {
        "inplace": true
       }
      },
      {
       "class": "BatchNorm1d",
       "kargs": {
        "num_features": 256
       }
      },
      {
       "class": "Linear",
       "kargs": {
        "in_features": 256,
        "out_features": 256
       }
      }
     ]
    }
   },
   "start_time": "2022-03-21T03:46:34.773680",
   "version": "2.3.4"
  }
 },
 "nbformat": 4,
 "nbformat_minor": 5
}