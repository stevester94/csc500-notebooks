{
 "cells": [
  {
   "cell_type": "markdown",
   "id": "9fea5f46",
   "metadata": {
    "papermill": {
     "duration": 0.061795,
     "end_time": "2022-03-21T03:18:07.322833",
     "exception": false,
     "start_time": "2022-03-21T03:18:07.261038",
     "status": "completed"
    },
    "tags": []
   },
   "source": [
    "# Transfer Learning Template"
   ]
  },
  {
   "cell_type": "code",
   "execution_count": 1,
   "id": "0902182a",
   "metadata": {
    "execution": {
     "iopub.execute_input": "2022-03-21T03:18:07.402560Z",
     "iopub.status.busy": "2022-03-21T03:18:07.401700Z",
     "iopub.status.idle": "2022-03-21T03:18:09.351328Z",
     "shell.execute_reply": "2022-03-21T03:18:09.350840Z"
    },
    "papermill": {
     "duration": 2.001231,
     "end_time": "2022-03-21T03:18:09.351458",
     "exception": false,
     "start_time": "2022-03-21T03:18:07.350227",
     "status": "completed"
    },
    "tags": []
   },
   "outputs": [],
   "source": [
    "%load_ext autoreload\n",
    "%autoreload 2\n",
    "%matplotlib inline\n",
    "\n",
    "    \n",
    "import os, json, sys, time, random\n",
    "import numpy as np\n",
    "import torch\n",
    "from torch.optim import Adam\n",
    "from  easydict import EasyDict\n",
    "import matplotlib.pyplot as plt\n",
    "\n",
    "from steves_models.steves_ptn import Steves_Prototypical_Network\n",
    "\n",
    "from steves_utils.lazy_iterable_wrapper import Lazy_Iterable_Wrapper\n",
    "from steves_utils.iterable_aggregator import Iterable_Aggregator\n",
    "from steves_utils.ptn_train_eval_test_jig import  PTN_Train_Eval_Test_Jig\n",
    "from steves_utils.torch_sequential_builder import build_sequential\n",
    "from steves_utils.torch_utils import get_dataset_metrics, ptn_confusion_by_domain_over_dataloader\n",
    "from steves_utils.utils_v2 import (per_domain_accuracy_from_confusion, get_datasets_base_path)\n",
    "from steves_utils.PTN.utils import independent_accuracy_assesment\n",
    "\n",
    "from torch.utils.data import DataLoader\n",
    "\n",
    "from steves_utils.stratified_dataset.episodic_accessor import Episodic_Accessor_Factory\n",
    "\n",
    "from steves_utils.ptn_do_report import (\n",
    "    get_loss_curve,\n",
    "    get_results_table,\n",
    "    get_parameters_table,\n",
    "    get_domain_accuracies,\n",
    ")\n",
    "\n",
    "from steves_utils.transforms import get_chained_transform"
   ]
  },
  {
   "cell_type": "markdown",
   "id": "41c840b4",
   "metadata": {
    "papermill": {
     "duration": 0.024795,
     "end_time": "2022-03-21T03:18:09.401055",
     "exception": false,
     "start_time": "2022-03-21T03:18:09.376260",
     "status": "completed"
    },
    "tags": []
   },
   "source": [
    "# Allowed Parameters\n",
    "These are allowed parameters, not defaults\n",
    "Each of these values need to be present in the injected parameters (the notebook will raise an exception if they are not present)\n",
    "\n",
    "Papermill uses the cell tag \"parameters\" to inject the real parameters below this cell.\n",
    "Enable tags to see what I mean"
   ]
  },
  {
   "cell_type": "code",
   "execution_count": 2,
   "id": "fd44eb83",
   "metadata": {
    "execution": {
     "iopub.execute_input": "2022-03-21T03:18:09.457213Z",
     "iopub.status.busy": "2022-03-21T03:18:09.456531Z",
     "iopub.status.idle": "2022-03-21T03:18:09.482588Z",
     "shell.execute_reply": "2022-03-21T03:18:09.483246Z"
    },
    "papermill": {
     "duration": 0.052648,
     "end_time": "2022-03-21T03:18:09.483472",
     "exception": false,
     "start_time": "2022-03-21T03:18:09.430824",
     "status": "completed"
    },
    "tags": []
   },
   "outputs": [],
   "source": [
    "required_parameters = {\n",
    "    \"experiment_name\",\n",
    "    \"lr\",\n",
    "    \"device\",\n",
    "    \"seed\",\n",
    "    \"dataset_seed\",\n",
    "    \"n_shot\",\n",
    "    \"n_query\",\n",
    "    \"n_way\",\n",
    "    \"train_k_factor\",\n",
    "    \"val_k_factor\",\n",
    "    \"test_k_factor\",\n",
    "    \"n_epoch\",\n",
    "    \"patience\",\n",
    "    \"criteria_for_best\",\n",
    "    \"x_net\",\n",
    "    \"datasets\",\n",
    "    \"torch_default_dtype\",\n",
    "    \"NUM_LOGS_PER_EPOCH\",\n",
    "    \"BEST_MODEL_PATH\",\n",
    "    \"x_shape\",\n",
    "}"
   ]
  },
  {
   "cell_type": "code",
   "execution_count": 3,
   "id": "fa3f0049",
   "metadata": {
    "execution": {
     "iopub.execute_input": "2022-03-21T03:18:09.547057Z",
     "iopub.status.busy": "2022-03-21T03:18:09.546087Z",
     "iopub.status.idle": "2022-03-21T03:18:09.571034Z",
     "shell.execute_reply": "2022-03-21T03:18:09.570232Z"
    },
    "papermill": {
     "duration": 0.062222,
     "end_time": "2022-03-21T03:18:09.571215",
     "exception": false,
     "start_time": "2022-03-21T03:18:09.508993",
     "status": "completed"
    },
    "tags": [
     "parameters"
    ]
   },
   "outputs": [],
   "source": [
    "from steves_utils.CORES.utils import (\n",
    "    ALL_NODES,\n",
    "    ALL_NODES_MINIMUM_1000_EXAMPLES,\n",
    "    ALL_DAYS\n",
    ")\n",
    "\n",
    "from steves_utils.ORACLE.utils_v2 import (\n",
    "    ALL_DISTANCES_FEET_NARROWED,\n",
    "    ALL_RUNS,\n",
    "    ALL_SERIAL_NUMBERS,\n",
    ")\n",
    "\n",
    "standalone_parameters = {}\n",
    "standalone_parameters[\"experiment_name\"] = \"STANDALONE PTN\"\n",
    "standalone_parameters[\"lr\"] = 0.001\n",
    "standalone_parameters[\"device\"] = \"cuda\"\n",
    "\n",
    "standalone_parameters[\"seed\"] = 1337\n",
    "standalone_parameters[\"dataset_seed\"] = 1337\n",
    "\n",
    "standalone_parameters[\"n_way\"] = 8\n",
    "standalone_parameters[\"n_shot\"] = 3\n",
    "standalone_parameters[\"n_query\"]  = 2\n",
    "standalone_parameters[\"train_k_factor\"] = 1\n",
    "standalone_parameters[\"val_k_factor\"] = 2\n",
    "standalone_parameters[\"test_k_factor\"] = 2\n",
    "\n",
    "\n",
    "standalone_parameters[\"n_epoch\"] = 50\n",
    "\n",
    "standalone_parameters[\"patience\"] = 10\n",
    "standalone_parameters[\"criteria_for_best\"] = \"source_loss\"\n",
    "\n",
    "standalone_parameters[\"datasets\"] = [\n",
    "    {\n",
    "        \"labels\": ALL_SERIAL_NUMBERS,\n",
    "        \"domains\": ALL_DISTANCES_FEET_NARROWED,\n",
    "        \"num_examples_per_domain_per_label\": 100,\n",
    "        \"pickle_path\": os.path.join(get_datasets_base_path(), \"oracle.Run1_framed_2000Examples_stratified_ds.2022A.pkl\"),\n",
    "        \"source_or_target_dataset\": \"source\",\n",
    "        \"x_transforms\": [\"unit_mag\", \"minus_two\"],\n",
    "        \"episode_transforms\": [],\n",
    "        \"domain_prefix\": \"ORACLE_\"\n",
    "    },\n",
    "    {\n",
    "        \"labels\": ALL_NODES,\n",
    "        \"domains\": ALL_DAYS,\n",
    "        \"num_examples_per_domain_per_label\": 100,\n",
    "        \"pickle_path\": os.path.join(get_datasets_base_path(), \"cores.stratified_ds.2022A.pkl\"),\n",
    "        \"source_or_target_dataset\": \"target\",\n",
    "        \"x_transforms\": [\"unit_power\", \"times_zero\"],\n",
    "        \"episode_transforms\": [],\n",
    "        \"domain_prefix\": \"CORES_\"\n",
    "    }   \n",
    "]\n",
    "\n",
    "standalone_parameters[\"torch_default_dtype\"] = \"torch.float32\" \n",
    "\n",
    "\n",
    "\n",
    "standalone_parameters[\"x_net\"] =     [\n",
    "    {\"class\": \"nnReshape\", \"kargs\": {\"shape\":[-1, 1, 2, 256]}},\n",
    "    {\"class\": \"Conv2d\", \"kargs\": { \"in_channels\":1, \"out_channels\":256, \"kernel_size\":(1,7), \"bias\":False, \"padding\":(0,3), },},\n",
    "    {\"class\": \"ReLU\", \"kargs\": {\"inplace\": True}},\n",
    "    {\"class\": \"BatchNorm2d\", \"kargs\": {\"num_features\":256}},\n",
    "\n",
    "    {\"class\": \"Conv2d\", \"kargs\": { \"in_channels\":256, \"out_channels\":80, \"kernel_size\":(2,7), \"bias\":True, \"padding\":(0,3), },},\n",
    "    {\"class\": \"ReLU\", \"kargs\": {\"inplace\": True}},\n",
    "    {\"class\": \"BatchNorm2d\", \"kargs\": {\"num_features\":80}},\n",
    "    {\"class\": \"Flatten\", \"kargs\": {}},\n",
    "\n",
    "    {\"class\": \"Linear\", \"kargs\": {\"in_features\": 80*256, \"out_features\": 256}}, # 80 units per IQ pair\n",
    "    {\"class\": \"ReLU\", \"kargs\": {\"inplace\": True}},\n",
    "    {\"class\": \"BatchNorm1d\", \"kargs\": {\"num_features\":256}},\n",
    "\n",
    "    {\"class\": \"Linear\", \"kargs\": {\"in_features\": 256, \"out_features\": 256}},\n",
    "]\n",
    "\n",
    "# Parameters relevant to results\n",
    "# These parameters will basically never need to change\n",
    "standalone_parameters[\"NUM_LOGS_PER_EPOCH\"] = 10\n",
    "standalone_parameters[\"BEST_MODEL_PATH\"] = \"./best_model.pth\"\n",
    "\n",
    "\n",
    "\n",
    "\n"
   ]
  },
  {
   "cell_type": "code",
   "execution_count": 4,
   "id": "41851229",
   "metadata": {
    "execution": {
     "iopub.execute_input": "2022-03-21T03:18:09.637763Z",
     "iopub.status.busy": "2022-03-21T03:18:09.632333Z",
     "iopub.status.idle": "2022-03-21T03:18:09.672652Z",
     "shell.execute_reply": "2022-03-21T03:18:09.671756Z"
    },
    "papermill": {
     "duration": 0.075067,
     "end_time": "2022-03-21T03:18:09.672837",
     "exception": false,
     "start_time": "2022-03-21T03:18:09.597770",
     "status": "completed"
    },
    "tags": [
     "injected-parameters"
    ]
   },
   "outputs": [],
   "source": [
    "# Parameters\n",
    "parameters = {\n",
    "    \"experiment_name\": \"tl_1v2:cores-wisig\",\n",
    "    \"device\": \"cuda\",\n",
    "    \"lr\": 0.0001,\n",
    "    \"n_shot\": 3,\n",
    "    \"n_query\": 2,\n",
    "    \"train_k_factor\": 3,\n",
    "    \"val_k_factor\": 2,\n",
    "    \"test_k_factor\": 2,\n",
    "    \"torch_default_dtype\": \"torch.float32\",\n",
    "    \"n_epoch\": 3,\n",
    "    \"patience\": 3,\n",
    "    \"criteria_for_best\": \"target_accuracy\",\n",
    "    \"x_net\": [\n",
    "        {\"class\": \"nnReshape\", \"kargs\": {\"shape\": [-1, 1, 2, 256]}},\n",
    "        {\n",
    "            \"class\": \"Conv2d\",\n",
    "            \"kargs\": {\n",
    "                \"in_channels\": 1,\n",
    "                \"out_channels\": 256,\n",
    "                \"kernel_size\": [1, 7],\n",
    "                \"bias\": False,\n",
    "                \"padding\": [0, 3],\n",
    "            },\n",
    "        },\n",
    "        {\"class\": \"ReLU\", \"kargs\": {\"inplace\": True}},\n",
    "        {\"class\": \"BatchNorm2d\", \"kargs\": {\"num_features\": 256}},\n",
    "        {\n",
    "            \"class\": \"Conv2d\",\n",
    "            \"kargs\": {\n",
    "                \"in_channels\": 256,\n",
    "                \"out_channels\": 80,\n",
    "                \"kernel_size\": [2, 7],\n",
    "                \"bias\": True,\n",
    "                \"padding\": [0, 3],\n",
    "            },\n",
    "        },\n",
    "        {\"class\": \"ReLU\", \"kargs\": {\"inplace\": True}},\n",
    "        {\"class\": \"BatchNorm2d\", \"kargs\": {\"num_features\": 80}},\n",
    "        {\"class\": \"Flatten\", \"kargs\": {}},\n",
    "        {\"class\": \"Linear\", \"kargs\": {\"in_features\": 20480, \"out_features\": 256}},\n",
    "        {\"class\": \"ReLU\", \"kargs\": {\"inplace\": True}},\n",
    "        {\"class\": \"BatchNorm1d\", \"kargs\": {\"num_features\": 256}},\n",
    "        {\"class\": \"Linear\", \"kargs\": {\"in_features\": 256, \"out_features\": 256}},\n",
    "    ],\n",
    "    \"NUM_LOGS_PER_EPOCH\": 10,\n",
    "    \"BEST_MODEL_PATH\": \"./best_model.pth\",\n",
    "    \"n_way\": 58,\n",
    "    \"datasets\": [\n",
    "        {\n",
    "            \"labels\": [\n",
    "                \"1-10.\",\n",
    "                \"1-11.\",\n",
    "                \"1-15.\",\n",
    "                \"1-16.\",\n",
    "                \"1-17.\",\n",
    "                \"1-18.\",\n",
    "                \"1-19.\",\n",
    "                \"10-4.\",\n",
    "                \"10-7.\",\n",
    "                \"11-1.\",\n",
    "                \"11-14.\",\n",
    "                \"11-17.\",\n",
    "                \"11-20.\",\n",
    "                \"11-7.\",\n",
    "                \"13-20.\",\n",
    "                \"13-8.\",\n",
    "                \"14-10.\",\n",
    "                \"14-11.\",\n",
    "                \"14-14.\",\n",
    "                \"14-7.\",\n",
    "                \"15-1.\",\n",
    "                \"15-20.\",\n",
    "                \"16-1.\",\n",
    "                \"16-16.\",\n",
    "                \"17-10.\",\n",
    "                \"17-11.\",\n",
    "                \"17-2.\",\n",
    "                \"19-1.\",\n",
    "                \"19-16.\",\n",
    "                \"19-19.\",\n",
    "                \"19-20.\",\n",
    "                \"19-3.\",\n",
    "                \"2-10.\",\n",
    "                \"2-11.\",\n",
    "                \"2-17.\",\n",
    "                \"2-18.\",\n",
    "                \"2-20.\",\n",
    "                \"2-3.\",\n",
    "                \"2-4.\",\n",
    "                \"2-5.\",\n",
    "                \"2-6.\",\n",
    "                \"2-7.\",\n",
    "                \"2-8.\",\n",
    "                \"3-13.\",\n",
    "                \"3-18.\",\n",
    "                \"3-3.\",\n",
    "                \"4-1.\",\n",
    "                \"4-10.\",\n",
    "                \"4-11.\",\n",
    "                \"4-19.\",\n",
    "                \"5-5.\",\n",
    "                \"6-15.\",\n",
    "                \"7-10.\",\n",
    "                \"7-14.\",\n",
    "                \"8-18.\",\n",
    "                \"8-20.\",\n",
    "                \"8-3.\",\n",
    "                \"8-8.\",\n",
    "            ],\n",
    "            \"domains\": [1, 2, 3, 4, 5],\n",
    "            \"num_examples_per_domain_per_label\": -1,\n",
    "            \"pickle_path\": \"/root/csc500-main/datasets/cores.stratified_ds.2022A.pkl\",\n",
    "            \"source_or_target_dataset\": \"target\",\n",
    "            \"x_transforms\": [\"unit_mag\"],\n",
    "            \"episode_transforms\": [],\n",
    "            \"domain_prefix\": \"CORES_\",\n",
    "        },\n",
    "        {\n",
    "            \"labels\": [\n",
    "                \"1-10\",\n",
    "                \"1-12\",\n",
    "                \"1-14\",\n",
    "                \"1-16\",\n",
    "                \"1-18\",\n",
    "                \"1-19\",\n",
    "                \"1-8\",\n",
    "                \"10-11\",\n",
    "                \"10-17\",\n",
    "                \"10-4\",\n",
    "                \"10-7\",\n",
    "                \"11-1\",\n",
    "                \"11-10\",\n",
    "                \"11-19\",\n",
    "                \"11-20\",\n",
    "                \"11-4\",\n",
    "                \"11-7\",\n",
    "                \"12-19\",\n",
    "                \"12-20\",\n",
    "                \"12-7\",\n",
    "                \"13-14\",\n",
    "                \"13-18\",\n",
    "                \"13-19\",\n",
    "                \"13-20\",\n",
    "                \"13-3\",\n",
    "                \"13-7\",\n",
    "                \"14-10\",\n",
    "                \"14-11\",\n",
    "                \"14-12\",\n",
    "                \"14-13\",\n",
    "                \"14-14\",\n",
    "                \"14-19\",\n",
    "                \"14-20\",\n",
    "                \"14-7\",\n",
    "                \"14-8\",\n",
    "                \"14-9\",\n",
    "                \"15-1\",\n",
    "                \"15-19\",\n",
    "                \"15-6\",\n",
    "                \"16-1\",\n",
    "                \"16-16\",\n",
    "                \"16-19\",\n",
    "                \"16-20\",\n",
    "                \"17-10\",\n",
    "                \"17-11\",\n",
    "                \"18-1\",\n",
    "                \"18-10\",\n",
    "                \"18-11\",\n",
    "                \"18-12\",\n",
    "                \"18-13\",\n",
    "                \"18-14\",\n",
    "                \"18-15\",\n",
    "                \"18-16\",\n",
    "                \"18-17\",\n",
    "                \"18-19\",\n",
    "                \"18-2\",\n",
    "                \"18-20\",\n",
    "                \"18-4\",\n",
    "                \"18-5\",\n",
    "                \"18-7\",\n",
    "                \"18-8\",\n",
    "                \"18-9\",\n",
    "                \"19-1\",\n",
    "                \"19-10\",\n",
    "                \"19-11\",\n",
    "                \"19-12\",\n",
    "                \"19-13\",\n",
    "                \"19-14\",\n",
    "                \"19-15\",\n",
    "                \"19-19\",\n",
    "                \"19-2\",\n",
    "                \"19-20\",\n",
    "                \"19-3\",\n",
    "                \"19-4\",\n",
    "                \"19-6\",\n",
    "                \"19-7\",\n",
    "                \"19-8\",\n",
    "                \"19-9\",\n",
    "                \"2-1\",\n",
    "                \"2-13\",\n",
    "                \"2-15\",\n",
    "                \"2-3\",\n",
    "                \"2-4\",\n",
    "                \"2-5\",\n",
    "                \"2-6\",\n",
    "                \"2-7\",\n",
    "                \"2-8\",\n",
    "                \"20-1\",\n",
    "                \"20-12\",\n",
    "                \"20-14\",\n",
    "                \"20-15\",\n",
    "                \"20-16\",\n",
    "                \"20-18\",\n",
    "                \"20-19\",\n",
    "                \"20-20\",\n",
    "                \"20-3\",\n",
    "                \"20-4\",\n",
    "                \"20-5\",\n",
    "                \"20-7\",\n",
    "                \"20-8\",\n",
    "                \"3-1\",\n",
    "                \"3-13\",\n",
    "                \"3-18\",\n",
    "                \"3-2\",\n",
    "                \"3-8\",\n",
    "                \"4-1\",\n",
    "                \"4-10\",\n",
    "                \"4-11\",\n",
    "                \"5-1\",\n",
    "                \"5-5\",\n",
    "                \"6-1\",\n",
    "                \"6-15\",\n",
    "                \"6-6\",\n",
    "                \"7-10\",\n",
    "                \"7-11\",\n",
    "                \"7-12\",\n",
    "                \"7-13\",\n",
    "                \"7-14\",\n",
    "                \"7-7\",\n",
    "                \"7-8\",\n",
    "                \"7-9\",\n",
    "                \"8-1\",\n",
    "                \"8-13\",\n",
    "                \"8-14\",\n",
    "                \"8-18\",\n",
    "                \"8-20\",\n",
    "                \"8-3\",\n",
    "                \"8-8\",\n",
    "                \"9-1\",\n",
    "                \"9-7\",\n",
    "            ],\n",
    "            \"domains\": [1, 2, 3, 4],\n",
    "            \"num_examples_per_domain_per_label\": -1,\n",
    "            \"pickle_path\": \"/root/csc500-main/datasets/wisig.node3-19.stratified_ds.2022A.pkl\",\n",
    "            \"source_or_target_dataset\": \"source\",\n",
    "            \"x_transforms\": [\"unit_mag\"],\n",
    "            \"episode_transforms\": [],\n",
    "            \"domain_prefix\": \"Wisig_\",\n",
    "        },\n",
    "    ],\n",
    "    \"dataset_seed\": 154325,\n",
    "    \"seed\": 154325,\n",
    "}\n"
   ]
  },
  {
   "cell_type": "code",
   "execution_count": 5,
   "id": "8fa1cc33",
   "metadata": {
    "execution": {
     "iopub.execute_input": "2022-03-21T03:18:09.727246Z",
     "iopub.status.busy": "2022-03-21T03:18:09.726407Z",
     "iopub.status.idle": "2022-03-21T03:18:09.755820Z",
     "shell.execute_reply": "2022-03-21T03:18:09.755026Z"
    },
    "papermill": {
     "duration": 0.058334,
     "end_time": "2022-03-21T03:18:09.755999",
     "exception": false,
     "start_time": "2022-03-21T03:18:09.697665",
     "status": "completed"
    },
    "tags": []
   },
   "outputs": [],
   "source": [
    "# Set this to True if you want to run this template directly\n",
    "STANDALONE = False\n",
    "if STANDALONE:\n",
    "    print(\"parameters not injected, running with standalone_parameters\")\n",
    "    parameters = standalone_parameters\n",
    "\n",
    "if not 'parameters' in locals() and not 'parameters' in globals():\n",
    "    raise Exception(\"Parameter injection failed\")\n",
    "\n",
    "#Use an easy dict for all the parameters\n",
    "p = EasyDict(parameters)\n",
    "\n",
    "if \"x_shape\" not in p:\n",
    "    p.x_shape = [2,256] # Default to this if we dont supply x_shape\n",
    "\n",
    "\n",
    "supplied_keys = set(p.keys())\n",
    "\n",
    "if  supplied_keys != required_parameters:\n",
    "    print(\"Parameters are incorrect\")\n",
    "    if len(supplied_keys - required_parameters)>0: print(\"Shouldn't have:\", str(supplied_keys - required_parameters))\n",
    "    if len(required_parameters - supplied_keys)>0: print(\"Need to have:\", str(required_parameters - supplied_keys))\n",
    "    raise RuntimeError(\"Parameters are incorrect\")"
   ]
  },
  {
   "cell_type": "code",
   "execution_count": 6,
   "id": "3a028d58",
   "metadata": {
    "execution": {
     "iopub.execute_input": "2022-03-21T03:18:09.810123Z",
     "iopub.status.busy": "2022-03-21T03:18:09.809544Z",
     "iopub.status.idle": "2022-03-21T03:18:09.843922Z",
     "shell.execute_reply": "2022-03-21T03:18:09.843050Z"
    },
    "papermill": {
     "duration": 0.060702,
     "end_time": "2022-03-21T03:18:09.844096",
     "exception": false,
     "start_time": "2022-03-21T03:18:09.783394",
     "status": "completed"
    },
    "tags": []
   },
   "outputs": [],
   "source": [
    "###################################\n",
    "# Set the RNGs and make it all deterministic\n",
    "###################################\n",
    "np.random.seed(p.seed)\n",
    "random.seed(p.seed)\n",
    "torch.manual_seed(p.seed)\n",
    "\n",
    "torch.use_deterministic_algorithms(True) "
   ]
  },
  {
   "cell_type": "code",
   "execution_count": 7,
   "id": "b691acf6",
   "metadata": {
    "execution": {
     "iopub.execute_input": "2022-03-21T03:18:09.897030Z",
     "iopub.status.busy": "2022-03-21T03:18:09.896656Z",
     "iopub.status.idle": "2022-03-21T03:18:09.919789Z",
     "shell.execute_reply": "2022-03-21T03:18:09.918988Z"
    },
    "papermill": {
     "duration": 0.048025,
     "end_time": "2022-03-21T03:18:09.919963",
     "exception": false,
     "start_time": "2022-03-21T03:18:09.871938",
     "status": "completed"
    },
    "tags": []
   },
   "outputs": [],
   "source": [
    "###########################################\n",
    "# The stratified datasets honor this\n",
    "###########################################\n",
    "torch.set_default_dtype(eval(p.torch_default_dtype))"
   ]
  },
  {
   "cell_type": "code",
   "execution_count": 8,
   "id": "b5fba671",
   "metadata": {
    "execution": {
     "iopub.execute_input": "2022-03-21T03:18:09.972930Z",
     "iopub.status.busy": "2022-03-21T03:18:09.972551Z",
     "iopub.status.idle": "2022-03-21T03:18:10.051828Z",
     "shell.execute_reply": "2022-03-21T03:18:10.051415Z"
    },
    "papermill": {
     "duration": 0.104573,
     "end_time": "2022-03-21T03:18:10.051929",
     "exception": false,
     "start_time": "2022-03-21T03:18:09.947356",
     "status": "completed"
    },
    "tags": []
   },
   "outputs": [],
   "source": [
    "###################################\n",
    "# Build the network(s)\n",
    "# Note: It's critical to do this AFTER setting the RNG\n",
    "###################################\n",
    "x_net = build_sequential(p.x_net)"
   ]
  },
  {
   "cell_type": "code",
   "execution_count": 9,
   "id": "5d7e61cc",
   "metadata": {
    "execution": {
     "iopub.execute_input": "2022-03-21T03:18:10.102864Z",
     "iopub.status.busy": "2022-03-21T03:18:10.102290Z",
     "iopub.status.idle": "2022-03-21T03:18:10.127628Z",
     "shell.execute_reply": "2022-03-21T03:18:10.126789Z"
    },
    "papermill": {
     "duration": 0.050321,
     "end_time": "2022-03-21T03:18:10.127814",
     "exception": false,
     "start_time": "2022-03-21T03:18:10.077493",
     "status": "completed"
    },
    "tags": []
   },
   "outputs": [],
   "source": [
    "start_time_secs = time.time()"
   ]
  },
  {
   "cell_type": "code",
   "execution_count": 10,
   "id": "c6b67dfd",
   "metadata": {
    "execution": {
     "iopub.execute_input": "2022-03-21T03:18:10.180782Z",
     "iopub.status.busy": "2022-03-21T03:18:10.179916Z",
     "iopub.status.idle": "2022-03-21T03:18:10.202205Z",
     "shell.execute_reply": "2022-03-21T03:18:10.201360Z"
    },
    "papermill": {
     "duration": 0.046741,
     "end_time": "2022-03-21T03:18:10.202386",
     "exception": false,
     "start_time": "2022-03-21T03:18:10.155645",
     "status": "completed"
    },
    "tags": []
   },
   "outputs": [],
   "source": [
    "p.domains_source = []\n",
    "p.domains_target = []\n",
    "\n",
    "\n",
    "train_original_source = []\n",
    "val_original_source   = []\n",
    "test_original_source  = []\n",
    "\n",
    "train_original_target = []\n",
    "val_original_target   = []\n",
    "test_original_target  = []"
   ]
  },
  {
   "cell_type": "code",
   "execution_count": 11,
   "id": "e3d9c3d3",
   "metadata": {
    "execution": {
     "iopub.execute_input": "2022-03-21T03:18:10.253242Z",
     "iopub.status.busy": "2022-03-21T03:18:10.252864Z",
     "iopub.status.idle": "2022-03-21T03:18:10.274317Z",
     "shell.execute_reply": "2022-03-21T03:18:10.273585Z"
    },
    "papermill": {
     "duration": 0.045139,
     "end_time": "2022-03-21T03:18:10.274489",
     "exception": false,
     "start_time": "2022-03-21T03:18:10.229350",
     "status": "completed"
    },
    "tags": []
   },
   "outputs": [],
   "source": [
    "# global_x_transform_func = lambda x: normalize(x.to(torch.get_default_dtype()), \"unit_power\") # unit_power, unit_mag\n",
    "# global_x_transform_func = lambda x: normalize(x, \"unit_power\") # unit_power, unit_mag"
   ]
  },
  {
   "cell_type": "code",
   "execution_count": 12,
   "id": "acb78fd2",
   "metadata": {
    "execution": {
     "iopub.execute_input": "2022-03-21T03:18:10.337653Z",
     "iopub.status.busy": "2022-03-21T03:18:10.336779Z",
     "iopub.status.idle": "2022-03-21T03:18:10.354633Z",
     "shell.execute_reply": "2022-03-21T03:18:10.353893Z"
    },
    "papermill": {
     "duration": 0.051269,
     "end_time": "2022-03-21T03:18:10.354809",
     "exception": false,
     "start_time": "2022-03-21T03:18:10.303540",
     "status": "completed"
    },
    "tags": []
   },
   "outputs": [],
   "source": [
    "def add_dataset(\n",
    "    labels,\n",
    "    domains,\n",
    "    pickle_path,\n",
    "    x_transforms,\n",
    "    episode_transforms,\n",
    "    domain_prefix,\n",
    "    num_examples_per_domain_per_label,\n",
    "    source_or_target_dataset:str,\n",
    "    iterator_seed=p.seed,\n",
    "    dataset_seed=p.dataset_seed,\n",
    "    n_shot=p.n_shot,\n",
    "    n_way=p.n_way,\n",
    "    n_query=p.n_query,\n",
    "    train_val_test_k_factors=(p.train_k_factor,p.val_k_factor,p.test_k_factor),\n",
    "):\n",
    "   \n",
    "    if x_transforms == []: x_transform = None\n",
    "    else: x_transform = get_chained_transform(x_transforms)\n",
    "    \n",
    "    if episode_transforms == []: episode_transform = None\n",
    "    else: raise Exception(\"episode_transforms not implemented\")\n",
    "    \n",
    "    episode_transform = lambda tup, _prefix=domain_prefix: (_prefix + str(tup[0]), tup[1])\n",
    "\n",
    "\n",
    "    eaf = Episodic_Accessor_Factory(\n",
    "        labels=labels,\n",
    "        domains=domains,\n",
    "        num_examples_per_domain_per_label=num_examples_per_domain_per_label,\n",
    "        iterator_seed=iterator_seed,\n",
    "        dataset_seed=dataset_seed,\n",
    "        n_shot=n_shot,\n",
    "        n_way=n_way,\n",
    "        n_query=n_query,\n",
    "        train_val_test_k_factors=train_val_test_k_factors,\n",
    "        pickle_path=pickle_path,\n",
    "        x_transform_func=x_transform,\n",
    "    )\n",
    "\n",
    "    train, val, test = eaf.get_train(), eaf.get_val(), eaf.get_test()\n",
    "    train = Lazy_Iterable_Wrapper(train, episode_transform)\n",
    "    val = Lazy_Iterable_Wrapper(val, episode_transform)\n",
    "    test = Lazy_Iterable_Wrapper(test, episode_transform)\n",
    "\n",
    "    if source_or_target_dataset==\"source\":\n",
    "        train_original_source.append(train)\n",
    "        val_original_source.append(val)\n",
    "        test_original_source.append(test)\n",
    "\n",
    "        p.domains_source.extend(\n",
    "            [domain_prefix + str(u) for u in domains]\n",
    "        )\n",
    "    elif source_or_target_dataset==\"target\":\n",
    "        train_original_target.append(train)\n",
    "        val_original_target.append(val)\n",
    "        test_original_target.append(test)\n",
    "        p.domains_target.extend(\n",
    "            [domain_prefix + str(u) for u in domains]\n",
    "        )\n",
    "    else:\n",
    "        raise Exception(f\"invalid source_or_target_dataset: {source_or_target_dataset}\")\n",
    "    "
   ]
  },
  {
   "cell_type": "code",
   "execution_count": 13,
   "id": "fe266617",
   "metadata": {
    "execution": {
     "iopub.execute_input": "2022-03-21T03:18:10.407562Z",
     "iopub.status.busy": "2022-03-21T03:18:10.406626Z",
     "iopub.status.idle": "2022-03-21T03:18:53.479976Z",
     "shell.execute_reply": "2022-03-21T03:18:53.479380Z"
    },
    "papermill": {
     "duration": 43.096515,
     "end_time": "2022-03-21T03:18:53.480111",
     "exception": false,
     "start_time": "2022-03-21T03:18:10.383596",
     "status": "completed"
    },
    "tags": []
   },
   "outputs": [],
   "source": [
    "for ds in p.datasets:\n",
    "    add_dataset(**ds)"
   ]
  },
  {
   "cell_type": "code",
   "execution_count": 14,
   "id": "b90d65ac",
   "metadata": {
    "execution": {
     "iopub.execute_input": "2022-03-21T03:18:53.526285Z",
     "iopub.status.busy": "2022-03-21T03:18:53.525896Z",
     "iopub.status.idle": "2022-03-21T03:18:53.550338Z",
     "shell.execute_reply": "2022-03-21T03:18:53.549635Z"
    },
    "papermill": {
     "duration": 0.048073,
     "end_time": "2022-03-21T03:18:53.550517",
     "exception": false,
     "start_time": "2022-03-21T03:18:53.502444",
     "status": "completed"
    },
    "tags": []
   },
   "outputs": [],
   "source": [
    "# from steves_utils.CORES.utils import (\n",
    "#     ALL_NODES,\n",
    "#     ALL_NODES_MINIMUM_1000_EXAMPLES,\n",
    "#     ALL_DAYS\n",
    "# )\n",
    "\n",
    "# add_dataset(\n",
    "#     labels=ALL_NODES,\n",
    "#     domains = ALL_DAYS,\n",
    "#     num_examples_per_domain_per_label=100,\n",
    "#     pickle_path=os.path.join(get_datasets_base_path(), \"cores.stratified_ds.2022A.pkl\"),\n",
    "#     source_or_target_dataset=\"target\",\n",
    "#     x_transform_func=global_x_transform_func,\n",
    "#     domain_modifier=lambda u: f\"cores_{u}\"\n",
    "# )"
   ]
  },
  {
   "cell_type": "code",
   "execution_count": 15,
   "id": "76db484d",
   "metadata": {
    "execution": {
     "iopub.execute_input": "2022-03-21T03:18:53.602696Z",
     "iopub.status.busy": "2022-03-21T03:18:53.602220Z",
     "iopub.status.idle": "2022-03-21T03:18:53.623168Z",
     "shell.execute_reply": "2022-03-21T03:18:53.622352Z"
    },
    "papermill": {
     "duration": 0.046188,
     "end_time": "2022-03-21T03:18:53.623332",
     "exception": false,
     "start_time": "2022-03-21T03:18:53.577144",
     "status": "completed"
    },
    "tags": []
   },
   "outputs": [],
   "source": [
    "# from steves_utils.ORACLE.utils_v2 import (\n",
    "#     ALL_DISTANCES_FEET,\n",
    "#     ALL_RUNS,\n",
    "#     ALL_SERIAL_NUMBERS,\n",
    "# )\n",
    "\n",
    "\n",
    "# add_dataset(\n",
    "#     labels=ALL_SERIAL_NUMBERS,\n",
    "#     domains = list(set(ALL_DISTANCES_FEET) - {2,62}),\n",
    "#     num_examples_per_domain_per_label=100,\n",
    "#     pickle_path=os.path.join(get_datasets_base_path(), \"oracle.Run2_framed_2000Examples_stratified_ds.2022A.pkl\"),\n",
    "#     source_or_target_dataset=\"source\",\n",
    "#     x_transform_func=global_x_transform_func,\n",
    "#     domain_modifier=lambda u: f\"oracle1_{u}\"\n",
    "# )\n"
   ]
  },
  {
   "cell_type": "code",
   "execution_count": 16,
   "id": "97dea9d2",
   "metadata": {
    "execution": {
     "iopub.execute_input": "2022-03-21T03:18:53.675845Z",
     "iopub.status.busy": "2022-03-21T03:18:53.675371Z",
     "iopub.status.idle": "2022-03-21T03:18:53.697755Z",
     "shell.execute_reply": "2022-03-21T03:18:53.696811Z"
    },
    "papermill": {
     "duration": 0.046147,
     "end_time": "2022-03-21T03:18:53.697925",
     "exception": false,
     "start_time": "2022-03-21T03:18:53.651778",
     "status": "completed"
    },
    "tags": []
   },
   "outputs": [],
   "source": [
    "# from steves_utils.ORACLE.utils_v2 import (\n",
    "#     ALL_DISTANCES_FEET,\n",
    "#     ALL_RUNS,\n",
    "#     ALL_SERIAL_NUMBERS,\n",
    "# )\n",
    "\n",
    "\n",
    "# add_dataset(\n",
    "#     labels=ALL_SERIAL_NUMBERS,\n",
    "#     domains = list(set(ALL_DISTANCES_FEET) - {2,62,56}),\n",
    "#     num_examples_per_domain_per_label=100,\n",
    "#     pickle_path=os.path.join(get_datasets_base_path(), \"oracle.Run2_framed_2000Examples_stratified_ds.2022A.pkl\"),\n",
    "#     source_or_target_dataset=\"source\",\n",
    "#     x_transform_func=global_x_transform_func,\n",
    "#     domain_modifier=lambda u: f\"oracle2_{u}\"\n",
    "# )"
   ]
  },
  {
   "cell_type": "code",
   "execution_count": 17,
   "id": "6f289866",
   "metadata": {
    "execution": {
     "iopub.execute_input": "2022-03-21T03:18:53.750810Z",
     "iopub.status.busy": "2022-03-21T03:18:53.749611Z",
     "iopub.status.idle": "2022-03-21T03:18:53.770918Z",
     "shell.execute_reply": "2022-03-21T03:18:53.770166Z"
    },
    "papermill": {
     "duration": 0.044564,
     "end_time": "2022-03-21T03:18:53.771076",
     "exception": false,
     "start_time": "2022-03-21T03:18:53.726512",
     "status": "completed"
    },
    "tags": []
   },
   "outputs": [],
   "source": [
    "# add_dataset(\n",
    "#     labels=list(range(19)),\n",
    "#     domains = [0,1,2],\n",
    "#     num_examples_per_domain_per_label=100,\n",
    "#     pickle_path=os.path.join(get_datasets_base_path(), \"metehan.stratified_ds.2022A.pkl\"),\n",
    "#     source_or_target_dataset=\"target\",\n",
    "#     x_transform_func=global_x_transform_func,\n",
    "#     domain_modifier=lambda u: f\"met_{u}\"\n",
    "# )"
   ]
  },
  {
   "cell_type": "code",
   "execution_count": 18,
   "id": "86a863c3",
   "metadata": {
    "execution": {
     "iopub.execute_input": "2022-03-21T03:18:53.822521Z",
     "iopub.status.busy": "2022-03-21T03:18:53.821941Z",
     "iopub.status.idle": "2022-03-21T03:18:53.843250Z",
     "shell.execute_reply": "2022-03-21T03:18:53.842483Z"
    },
    "papermill": {
     "duration": 0.04616,
     "end_time": "2022-03-21T03:18:53.843415",
     "exception": false,
     "start_time": "2022-03-21T03:18:53.797255",
     "status": "completed"
    },
    "tags": []
   },
   "outputs": [],
   "source": [
    "# # from steves_utils.wisig.utils import (\n",
    "# #     ALL_NODES_MINIMUM_100_EXAMPLES,\n",
    "# #     ALL_NODES_MINIMUM_500_EXAMPLES,\n",
    "# #     ALL_NODES_MINIMUM_1000_EXAMPLES,\n",
    "# #     ALL_DAYS\n",
    "# # )\n",
    "\n",
    "# import steves_utils.wisig.utils as wisig\n",
    "\n",
    "\n",
    "# add_dataset(\n",
    "#     labels=wisig.ALL_NODES_MINIMUM_100_EXAMPLES,\n",
    "#     domains = wisig.ALL_DAYS,\n",
    "#     num_examples_per_domain_per_label=100,\n",
    "#     pickle_path=os.path.join(get_datasets_base_path(), \"wisig.node3-19.stratified_ds.2022A.pkl\"),\n",
    "#     source_or_target_dataset=\"target\",\n",
    "#     x_transform_func=global_x_transform_func,\n",
    "#     domain_modifier=lambda u: f\"wisig_{u}\"\n",
    "# )"
   ]
  },
  {
   "cell_type": "code",
   "execution_count": 19,
   "id": "fd5442bc",
   "metadata": {
    "execution": {
     "iopub.execute_input": "2022-03-21T03:18:53.903201Z",
     "iopub.status.busy": "2022-03-21T03:18:53.902609Z",
     "iopub.status.idle": "2022-03-21T03:18:53.926925Z",
     "shell.execute_reply": "2022-03-21T03:18:53.926083Z"
    },
    "papermill": {
     "duration": 0.05562,
     "end_time": "2022-03-21T03:18:53.927095",
     "exception": false,
     "start_time": "2022-03-21T03:18:53.871475",
     "status": "completed"
    },
    "tags": []
   },
   "outputs": [],
   "source": [
    "###################################\n",
    "# Build the dataset\n",
    "###################################\n",
    "train_original_source = Iterable_Aggregator(train_original_source, p.seed)\n",
    "val_original_source = Iterable_Aggregator(val_original_source, p.seed)\n",
    "test_original_source = Iterable_Aggregator(test_original_source, p.seed)\n",
    "\n",
    "\n",
    "train_original_target = Iterable_Aggregator(train_original_target, p.seed)\n",
    "val_original_target = Iterable_Aggregator(val_original_target, p.seed)\n",
    "test_original_target = Iterable_Aggregator(test_original_target, p.seed)\n",
    "\n",
    "# For CNN We only use X and Y. And we only train on the source.\n",
    "# Properly form the data using a transform lambda and Lazy_Iterable_Wrapper. Finally wrap them in a dataloader\n",
    "\n",
    "transform_lambda = lambda ex: ex[1] # Original is (<domain>, <episode>) so we strip down to episode only\n",
    "\n",
    "train_processed_source = Lazy_Iterable_Wrapper(train_original_source, transform_lambda)\n",
    "val_processed_source   = Lazy_Iterable_Wrapper(val_original_source, transform_lambda)\n",
    "test_processed_source  = Lazy_Iterable_Wrapper(test_original_source, transform_lambda)\n",
    "\n",
    "train_processed_target = Lazy_Iterable_Wrapper(train_original_target, transform_lambda)\n",
    "val_processed_target   = Lazy_Iterable_Wrapper(val_original_target, transform_lambda)\n",
    "test_processed_target  = Lazy_Iterable_Wrapper(test_original_target, transform_lambda)\n",
    "\n",
    "datasets = EasyDict({\n",
    "    \"source\": {\n",
    "        \"original\": {\"train\":train_original_source, \"val\":val_original_source, \"test\":test_original_source},\n",
    "        \"processed\": {\"train\":train_processed_source, \"val\":val_processed_source, \"test\":test_processed_source}\n",
    "    },\n",
    "    \"target\": {\n",
    "        \"original\": {\"train\":train_original_target, \"val\":val_original_target, \"test\":test_original_target},\n",
    "        \"processed\": {\"train\":train_processed_target, \"val\":val_processed_target, \"test\":test_processed_target}\n",
    "    },\n",
    "})"
   ]
  },
  {
   "cell_type": "code",
   "execution_count": 20,
   "id": "5b3c01fc",
   "metadata": {
    "execution": {
     "iopub.execute_input": "2022-03-21T03:18:53.982404Z",
     "iopub.status.busy": "2022-03-21T03:18:53.981987Z",
     "iopub.status.idle": "2022-03-21T03:19:02.253688Z",
     "shell.execute_reply": "2022-03-21T03:19:02.253089Z"
    },
    "papermill": {
     "duration": 8.299171,
     "end_time": "2022-03-21T03:19:02.253829",
     "exception": false,
     "start_time": "2022-03-21T03:18:53.954658",
     "status": "completed"
    },
    "tags": []
   },
   "outputs": [
    {
     "name": "stdout",
     "output_type": "stream",
     "text": [
      "{'Wisig_3', 'Wisig_4', 'Wisig_2', 'Wisig_1'}\n"
     ]
    },
    {
     "name": "stdout",
     "output_type": "stream",
     "text": [
      "{'CORES_2', 'CORES_4', 'CORES_3', 'CORES_1', 'CORES_5'}\n"
     ]
    },
    {
     "name": "stdout",
     "output_type": "stream",
     "text": [
      "tensor([[[-0.0598, -0.0706, -0.1139,  ...,  0.2750,  0.8382, -0.3468],\n",
      "         [-0.0080,  0.0181,  0.0411,  ..., -0.2670,  0.7031,  1.5837]],\n",
      "\n",
      "        [[ 0.5799, -0.3665, -0.8051,  ...,  0.4247,  0.5567,  0.4738],\n",
      "         [ 0.5025,  0.8431, -0.2484,  ...,  0.1142,  0.4609,  0.8193]],\n",
      "\n",
      "        [[ 0.0874, -0.4884, -0.2407,  ...,  0.4198,  0.2668, -0.0268],\n",
      "         [ 0.4711,  0.1779, -0.2384,  ...,  0.3634,  0.8054,  0.9415]],\n",
      "\n",
      "        ...,\n",
      "\n",
      "        [[ 0.4128,  0.0261,  1.2310,  ...,  0.2899,  0.0416, -1.3171],\n",
      "         [ 0.5863, -0.4103, -0.9689,  ..., -0.2037,  0.6104,  0.0906]],\n",
      "\n",
      "        [[ 0.0620,  0.6841,  0.1033,  ..., -0.0190, -0.3121,  0.3992],\n",
      "         [-0.2456, -0.4353,  0.0993,  ...,  0.4000, -0.0956, -0.2156]],\n",
      "\n",
      "        [[-0.3154, -0.0150, -1.2751,  ..., -0.2558, -0.0816,  1.1387],\n",
      "         [-0.7693,  0.2342,  0.3702,  ...,  0.1401, -0.4961,  0.2350]]])\n"
     ]
    }
   ],
   "source": [
    "from steves_utils.transforms import get_average_magnitude, get_average_power\n",
    "\n",
    "print(set([u for u,_ in val_original_source]))\n",
    "print(set([u for u,_ in val_original_target]))\n",
    "\n",
    "s_x, s_y, q_x, q_y, _ = next(iter(train_processed_source))\n",
    "print(s_x)\n",
    "\n",
    "# for ds in [\n",
    "#     train_processed_source,\n",
    "#     val_processed_source,\n",
    "#     test_processed_source,\n",
    "#     train_processed_target,\n",
    "#     val_processed_target,\n",
    "#     test_processed_target\n",
    "# ]:\n",
    "#     for s_x, s_y, q_x, q_y, _ in ds:\n",
    "#         for X in (s_x, q_x):\n",
    "#             for x in X:\n",
    "#                 assert np.isclose(get_average_magnitude(x.numpy()), 1.0)\n",
    "#                 assert np.isclose(get_average_power(x.numpy()), 1.0)\n",
    "                "
   ]
  },
  {
   "cell_type": "code",
   "execution_count": 21,
   "id": "bbdacba1",
   "metadata": {
    "execution": {
     "iopub.execute_input": "2022-03-21T03:19:02.311145Z",
     "iopub.status.busy": "2022-03-21T03:19:02.310569Z",
     "iopub.status.idle": "2022-03-21T03:19:02.535129Z",
     "shell.execute_reply": "2022-03-21T03:19:02.535456Z"
    },
    "papermill": {
     "duration": 0.25402,
     "end_time": "2022-03-21T03:19:02.535612",
     "exception": false,
     "start_time": "2022-03-21T03:19:02.281592",
     "status": "completed"
    },
    "tags": []
   },
   "outputs": [
    {
     "name": "stdout",
     "output_type": "stream",
     "text": [
      "(2, 256)\n"
     ]
    }
   ],
   "source": [
    "###################################\n",
    "# Build the model\n",
    "###################################\n",
    "# easfsl only wants a tuple for the shape\n",
    "model = Steves_Prototypical_Network(x_net, device=p.device, x_shape=tuple(p.x_shape))\n",
    "optimizer = Adam(params=model.parameters(), lr=p.lr)"
   ]
  },
  {
   "cell_type": "code",
   "execution_count": 22,
   "id": "22b39ac5",
   "metadata": {
    "execution": {
     "iopub.execute_input": "2022-03-21T03:19:02.587449Z",
     "iopub.status.busy": "2022-03-21T03:19:02.587063Z",
     "iopub.status.idle": "2022-03-21T03:22:28.692245Z",
     "shell.execute_reply": "2022-03-21T03:22:28.691497Z"
    },
    "papermill": {
     "duration": 206.133432,
     "end_time": "2022-03-21T03:22:28.692418",
     "exception": false,
     "start_time": "2022-03-21T03:19:02.558986",
     "status": "completed"
    },
    "tags": []
   },
   "outputs": [
    {
     "name": "stdout",
     "output_type": "stream",
     "text": [
      "epoch: 1, [batch: 1 / 913], examples_per_second: 188.6931, train_label_loss: 3.9347, \n"
     ]
    },
    {
     "name": "stdout",
     "output_type": "stream",
     "text": [
      "epoch: 1, [batch: 92 / 913], examples_per_second: 4389.2165, train_label_loss: 0.6283, \n"
     ]
    },
    {
     "name": "stdout",
     "output_type": "stream",
     "text": [
      "epoch: 1, [batch: 183 / 913], examples_per_second: 4506.1094, train_label_loss: 0.6208, \n"
     ]
    },
    {
     "name": "stdout",
     "output_type": "stream",
     "text": [
      "epoch: 1, [batch: 274 / 913], examples_per_second: 4494.9725, train_label_loss: 0.3567, \n"
     ]
    },
    {
     "name": "stdout",
     "output_type": "stream",
     "text": [
      "epoch: 1, [batch: 365 / 913], examples_per_second: 4393.9786, train_label_loss: 0.4103, \n"
     ]
    },
    {
     "name": "stdout",
     "output_type": "stream",
     "text": [
      "epoch: 1, [batch: 457 / 913], examples_per_second: 4462.9596, train_label_loss: 0.3241, \n"
     ]
    },
    {
     "name": "stdout",
     "output_type": "stream",
     "text": [
      "epoch: 1, [batch: 548 / 913], examples_per_second: 4299.8967, train_label_loss: 0.2266, \n"
     ]
    },
    {
     "name": "stdout",
     "output_type": "stream",
     "text": [
      "epoch: 1, [batch: 639 / 913], examples_per_second: 4356.2096, train_label_loss: 0.4479, \n"
     ]
    },
    {
     "name": "stdout",
     "output_type": "stream",
     "text": [
      "epoch: 1, [batch: 730 / 913], examples_per_second: 4316.3647, train_label_loss: 0.4816, \n"
     ]
    },
    {
     "name": "stdout",
     "output_type": "stream",
     "text": [
      "epoch: 1, [batch: 821 / 913], examples_per_second: 4329.3710, train_label_loss: 0.2508, \n"
     ]
    },
    {
     "name": "stdout",
     "output_type": "stream",
     "text": [
      "=============================================================\n",
      "epoch: 1, source_val_acc_label: 0.9422, target_val_acc_label: 0.9758, source_val_label_loss: 0.3082, target_val_label_loss: 0.2039, \n",
      "=============================================================\n"
     ]
    },
    {
     "name": "stdout",
     "output_type": "stream",
     "text": [
      "New best\n"
     ]
    },
    {
     "name": "stdout",
     "output_type": "stream",
     "text": [
      "epoch: 2, [batch: 1 / 911], examples_per_second: 31.6567, train_label_loss: 0.1515, \n"
     ]
    },
    {
     "name": "stdout",
     "output_type": "stream",
     "text": [
      "epoch: 2, [batch: 92 / 911], examples_per_second: 4290.5163, train_label_loss: 0.2597, \n"
     ]
    },
    {
     "name": "stdout",
     "output_type": "stream",
     "text": [
      "epoch: 2, [batch: 183 / 911], examples_per_second: 4315.0493, train_label_loss: 0.1870, \n"
     ]
    },
    {
     "name": "stdout",
     "output_type": "stream",
     "text": [
      "epoch: 2, [batch: 274 / 911], examples_per_second: 4452.7030, train_label_loss: 0.4418, \n"
     ]
    },
    {
     "name": "stdout",
     "output_type": "stream",
     "text": [
      "epoch: 2, [batch: 365 / 911], examples_per_second: 4225.5118, train_label_loss: 0.3291, \n"
     ]
    },
    {
     "name": "stdout",
     "output_type": "stream",
     "text": [
      "epoch: 2, [batch: 456 / 911], examples_per_second: 4300.4878, train_label_loss: 0.2434, \n"
     ]
    },
    {
     "name": "stdout",
     "output_type": "stream",
     "text": [
      "epoch: 2, [batch: 547 / 911], examples_per_second: 4536.8626, train_label_loss: 0.2325, \n"
     ]
    },
    {
     "name": "stdout",
     "output_type": "stream",
     "text": [
      "epoch: 2, [batch: 638 / 911], examples_per_second: 4222.3940, train_label_loss: 0.1111, \n"
     ]
    },
    {
     "name": "stdout",
     "output_type": "stream",
     "text": [
      "epoch: 2, [batch: 729 / 911], examples_per_second: 4401.4658, train_label_loss: 0.3315, \n"
     ]
    },
    {
     "name": "stdout",
     "output_type": "stream",
     "text": [
      "epoch: 2, [batch: 820 / 911], examples_per_second: 4470.7664, train_label_loss: 0.3312, \n"
     ]
    },
    {
     "name": "stdout",
     "output_type": "stream",
     "text": [
      "=============================================================\n",
      "epoch: 2, source_val_acc_label: 0.9553, target_val_acc_label: 0.9777, source_val_label_loss: 0.2358, target_val_label_loss: 0.1712, \n",
      "=============================================================\n"
     ]
    },
    {
     "name": "stdout",
     "output_type": "stream",
     "text": [
      "New best\n"
     ]
    },
    {
     "name": "stdout",
     "output_type": "stream",
     "text": [
      "epoch: 3, [batch: 1 / 906], examples_per_second: 32.4212, train_label_loss: 0.4965, \n"
     ]
    },
    {
     "name": "stdout",
     "output_type": "stream",
     "text": [
      "epoch: 3, [batch: 91 / 906], examples_per_second: 4695.9841, train_label_loss: 0.1471, \n"
     ]
    },
    {
     "name": "stdout",
     "output_type": "stream",
     "text": [
      "epoch: 3, [batch: 182 / 906], examples_per_second: 5102.8125, train_label_loss: 0.3217, \n"
     ]
    },
    {
     "name": "stdout",
     "output_type": "stream",
     "text": [
      "epoch: 3, [batch: 272 / 906], examples_per_second: 5541.1334, train_label_loss: 0.3059, \n"
     ]
    },
    {
     "name": "stdout",
     "output_type": "stream",
     "text": [
      "epoch: 3, [batch: 363 / 906], examples_per_second: 5481.3664, train_label_loss: 0.1066, \n"
     ]
    },
    {
     "name": "stdout",
     "output_type": "stream",
     "text": [
      "epoch: 3, [batch: 453 / 906], examples_per_second: 6468.3429, train_label_loss: 0.2082, \n"
     ]
    },
    {
     "name": "stdout",
     "output_type": "stream",
     "text": [
      "epoch: 3, [batch: 544 / 906], examples_per_second: 6420.9996, train_label_loss: 0.0762, \n"
     ]
    },
    {
     "name": "stdout",
     "output_type": "stream",
     "text": [
      "epoch: 3, [batch: 634 / 906], examples_per_second: 4615.9564, train_label_loss: 0.1132, \n"
     ]
    },
    {
     "name": "stdout",
     "output_type": "stream",
     "text": [
      "epoch: 3, [batch: 725 / 906], examples_per_second: 4826.3623, train_label_loss: 0.0681, \n"
     ]
    },
    {
     "name": "stdout",
     "output_type": "stream",
     "text": [
      "epoch: 3, [batch: 815 / 906], examples_per_second: 5710.9548, train_label_loss: 0.1204, \n"
     ]
    },
    {
     "name": "stdout",
     "output_type": "stream",
     "text": [
      "=============================================================\n",
      "epoch: 3, source_val_acc_label: 0.9620, target_val_acc_label: 0.9758, source_val_label_loss: 0.1983, target_val_label_loss: 0.1578, \n",
      "=============================================================\n"
     ]
    }
   ],
   "source": [
    "###################################\n",
    "# train\n",
    "###################################\n",
    "jig = PTN_Train_Eval_Test_Jig(model, p.BEST_MODEL_PATH, p.device)\n",
    "\n",
    "jig.train(\n",
    "    train_iterable=datasets.source.processed.train,\n",
    "    source_val_iterable=datasets.source.processed.val,\n",
    "    target_val_iterable=datasets.target.processed.val,\n",
    "    num_epochs=p.n_epoch,\n",
    "    num_logs_per_epoch=p.NUM_LOGS_PER_EPOCH,\n",
    "    patience=p.patience,\n",
    "    optimizer=optimizer,\n",
    "    criteria_for_best=p.criteria_for_best,\n",
    ")"
   ]
  },
  {
   "cell_type": "code",
   "execution_count": 23,
   "id": "31e8fabf",
   "metadata": {
    "execution": {
     "iopub.execute_input": "2022-03-21T03:22:28.766679Z",
     "iopub.status.busy": "2022-03-21T03:22:28.766313Z",
     "iopub.status.idle": "2022-03-21T03:22:28.802483Z",
     "shell.execute_reply": "2022-03-21T03:22:28.801771Z"
    },
    "papermill": {
     "duration": 0.073331,
     "end_time": "2022-03-21T03:22:28.802649",
     "exception": false,
     "start_time": "2022-03-21T03:22:28.729318",
     "status": "completed"
    },
    "tags": []
   },
   "outputs": [],
   "source": [
    "total_experiment_time_secs = time.time() - start_time_secs"
   ]
  },
  {
   "cell_type": "code",
   "execution_count": 24,
   "id": "87b9595b",
   "metadata": {
    "execution": {
     "iopub.execute_input": "2022-03-21T03:22:28.878648Z",
     "iopub.status.busy": "2022-03-21T03:22:28.877977Z",
     "iopub.status.idle": "2022-03-21T03:23:23.214587Z",
     "shell.execute_reply": "2022-03-21T03:23:23.215270Z"
    },
    "papermill": {
     "duration": 54.375443,
     "end_time": "2022-03-21T03:23:23.215509",
     "exception": false,
     "start_time": "2022-03-21T03:22:28.840066",
     "status": "completed"
    },
    "tags": []
   },
   "outputs": [],
   "source": [
    "###################################\n",
    "# Evaluate the model\n",
    "###################################\n",
    "source_test_label_accuracy, source_test_label_loss = jig.test(datasets.source.processed.test)\n",
    "target_test_label_accuracy, target_test_label_loss = jig.test(datasets.target.processed.test)\n",
    "\n",
    "source_val_label_accuracy, source_val_label_loss = jig.test(datasets.source.processed.val)\n",
    "target_val_label_accuracy, target_val_label_loss = jig.test(datasets.target.processed.val)\n",
    "\n",
    "history = jig.get_history()\n",
    "\n",
    "total_epochs_trained = len(history[\"epoch_indices\"])\n",
    "\n",
    "val_dl = Iterable_Aggregator((datasets.source.original.val,datasets.target.original.val))\n",
    "\n",
    "confusion = ptn_confusion_by_domain_over_dataloader(model, p.device, val_dl)\n",
    "per_domain_accuracy = per_domain_accuracy_from_confusion(confusion)\n",
    "\n",
    "# Add a key to per_domain_accuracy for if it was a source domain\n",
    "for domain, accuracy in per_domain_accuracy.items():\n",
    "    per_domain_accuracy[domain] = {\n",
    "        \"accuracy\": accuracy,\n",
    "        \"source?\": domain in p.domains_source\n",
    "    }\n",
    "\n",
    "# Do an independent accuracy assesment JUST TO BE SURE!\n",
    "# _source_test_label_accuracy = independent_accuracy_assesment(model, datasets.source.processed.test, p.device)\n",
    "# _target_test_label_accuracy = independent_accuracy_assesment(model, datasets.target.processed.test, p.device)\n",
    "# _source_val_label_accuracy = independent_accuracy_assesment(model, datasets.source.processed.val, p.device)\n",
    "# _target_val_label_accuracy = independent_accuracy_assesment(model, datasets.target.processed.val, p.device)\n",
    "\n",
    "# assert(_source_test_label_accuracy == source_test_label_accuracy)\n",
    "# assert(_target_test_label_accuracy == target_test_label_accuracy)\n",
    "# assert(_source_val_label_accuracy == source_val_label_accuracy)\n",
    "# assert(_target_val_label_accuracy == target_val_label_accuracy)\n",
    "\n",
    "experiment = {\n",
    "    \"experiment_name\": p.experiment_name,\n",
    "    \"parameters\": dict(p),\n",
    "    \"results\": {\n",
    "        \"source_test_label_accuracy\": source_test_label_accuracy,\n",
    "        \"source_test_label_loss\": source_test_label_loss,\n",
    "        \"target_test_label_accuracy\": target_test_label_accuracy,\n",
    "        \"target_test_label_loss\": target_test_label_loss,\n",
    "        \"source_val_label_accuracy\": source_val_label_accuracy,\n",
    "        \"source_val_label_loss\": source_val_label_loss,\n",
    "        \"target_val_label_accuracy\": target_val_label_accuracy,\n",
    "        \"target_val_label_loss\": target_val_label_loss,\n",
    "        \"total_epochs_trained\": total_epochs_trained,\n",
    "        \"total_experiment_time_secs\": total_experiment_time_secs,\n",
    "        \"confusion\": confusion,\n",
    "        \"per_domain_accuracy\": per_domain_accuracy,\n",
    "    },\n",
    "    \"history\": history,\n",
    "    \"dataset_metrics\": get_dataset_metrics(datasets, \"ptn\"),\n",
    "}"
   ]
  },
  {
   "cell_type": "code",
   "execution_count": 25,
   "id": "54a21829",
   "metadata": {
    "execution": {
     "iopub.execute_input": "2022-03-21T03:23:23.291178Z",
     "iopub.status.busy": "2022-03-21T03:23:23.290803Z",
     "iopub.status.idle": "2022-03-21T03:23:23.496764Z",
     "shell.execute_reply": "2022-03-21T03:23:23.497447Z"
    },
    "papermill": {
     "duration": 0.243467,
     "end_time": "2022-03-21T03:23:23.497664",
     "exception": false,
     "start_time": "2022-03-21T03:23:23.254197",
     "status": "completed"
    },
    "tags": []
   },
   "outputs": [
    {
     "data": {
      "image/png": "[encoded data removed]",
      "text/plain": [
       "<Figure size 1080x504 with 1 Axes>"
      ]
     },
     "metadata": {
      "needs_background": "light"
     },
     "output_type": "display_data"
    }
   ],
   "source": [
    "ax = get_loss_curve(experiment)\n",
    "plt.show()"
   ]
  },
  {
   "cell_type": "code",
   "execution_count": 26,
   "id": "fd8a0f60",
   "metadata": {
    "execution": {
     "iopub.execute_input": "2022-03-21T03:23:23.571149Z",
     "iopub.status.busy": "2022-03-21T03:23:23.570782Z",
     "iopub.status.idle": "2022-03-21T03:23:23.885886Z",
     "shell.execute_reply": "2022-03-21T03:23:23.886477Z"
    },
    "papermill": {
     "duration": 0.351835,
     "end_time": "2022-03-21T03:23:23.886705",
     "exception": false,
     "start_time": "2022-03-21T03:23:23.534870",
     "status": "completed"
    },
    "tags": []
   },
   "outputs": [
    {
     "data": {
      "text/plain": [
       "<AxesSubplot:title={'center':'Results'}>"
      ]
     },
     "execution_count": 26,
     "metadata": {},
     "output_type": "execute_result"
    },
    {
     "data": {
      "image/png": "[encoded data removed]",
      "text/plain": [
       "<Figure size 1080x504 with 1 Axes>"
      ]
     },
     "metadata": {
      "needs_background": "light"
     },
     "output_type": "display_data"
    }
   ],
   "source": [
    "get_results_table(experiment)"
   ]
  },
  {
   "cell_type": "code",
   "execution_count": 27,
   "id": "cf8dc689",
   "metadata": {
    "execution": {
     "iopub.execute_input": "2022-03-21T03:23:23.971312Z",
     "iopub.status.busy": "2022-03-21T03:23:23.970761Z",
     "iopub.status.idle": "2022-03-21T03:23:24.201508Z",
     "shell.execute_reply": "2022-03-21T03:23:24.202365Z"
    },
    "papermill": {
     "duration": 0.270424,
     "end_time": "2022-03-21T03:23:24.202648",
     "exception": false,
     "start_time": "2022-03-21T03:23:23.932224",
     "status": "completed"
    },
    "tags": []
   },
   "outputs": [
    {
     "data": {
      "text/plain": [
       "<AxesSubplot:title={'center':'Per Domain Validation Accuracy'}, xlabel='domain'>"
      ]
     },
     "execution_count": 27,
     "metadata": {},
     "output_type": "execute_result"
    },
    {
     "data": {
      "image/png": "[encoded data removed]",
      "text/plain": [
       "<Figure size 1080x504 with 1 Axes>"
      ]
     },
     "metadata": {
      "needs_background": "light"
     },
     "output_type": "display_data"
    }
   ],
   "source": [
    "get_domain_accuracies(experiment)"
   ]
  },
  {
   "cell_type": "code",
   "execution_count": 28,
   "id": "a74ae082",
   "metadata": {
    "execution": {
     "iopub.execute_input": "2022-03-21T03:23:24.289328Z",
     "iopub.status.busy": "2022-03-21T03:23:24.288478Z",
     "iopub.status.idle": "2022-03-21T03:23:24.314217Z",
     "shell.execute_reply": "2022-03-21T03:23:24.313666Z"
    },
    "papermill": {
     "duration": 0.068794,
     "end_time": "2022-03-21T03:23:24.314351",
     "exception": false,
     "start_time": "2022-03-21T03:23:24.245557",
     "status": "completed"
    },
    "tags": []
   },
   "outputs": [
    {
     "name": "stdout",
     "output_type": "stream",
     "text": [
      "Source Test Label Accuracy: 0.9524535809018567 Target Test Label Accuracy: 0.9775862068965517\n",
      "Source Val Label Accuracy: 0.9552927024859663 Target Val Label Accuracy: 0.9777298850574713\n"
     ]
    }
   ],
   "source": [
    "print(\"Source Test Label Accuracy:\", experiment[\"results\"][\"source_test_label_accuracy\"], \"Target Test Label Accuracy:\", experiment[\"results\"][\"target_test_label_accuracy\"])\n",
    "print(\"Source Val Label Accuracy:\", experiment[\"results\"][\"source_val_label_accuracy\"], \"Target Val Label Accuracy:\", experiment[\"results\"][\"target_val_label_accuracy\"])"
   ]
  },
  {
   "cell_type": "code",
   "execution_count": 29,
   "id": "dacca602",
   "metadata": {
    "execution": {
     "iopub.execute_input": "2022-03-21T03:23:24.398697Z",
     "iopub.status.busy": "2022-03-21T03:23:24.398330Z",
     "iopub.status.idle": "2022-03-21T03:23:24.424615Z",
     "shell.execute_reply": "2022-03-21T03:23:24.425298Z"
    },
    "papermill": {
     "duration": 0.065114,
     "end_time": "2022-03-21T03:23:24.425490",
     "exception": false,
     "start_time": "2022-03-21T03:23:24.360376",
     "status": "completed"
    },
    "tags": [
     "experiment_json"
    ]
   },
   "outputs": [
    {
     "data": {
      "text/plain": [
       "'{\"experiment_name\": \"tl_1v2:cores-wisig\", \"parameters\": {\"experiment_name\": \"tl_1v2:cores-wisig\", \"device\": \"cuda\", \"lr\": 0.0001, \"n_shot\": 3, \"n_query\": 2, \"train_k_factor\": 3, \"val_k_factor\": 2, \"test_k_factor\": 2, \"torch_default_dtype\": \"torch.float32\", \"n_epoch\": 3, \"patience\": 3, \"criteria_for_best\": \"target_accuracy\", \"x_net\": [{\"class\": \"nnReshape\", \"kargs\": {\"shape\": [-1, 1, 2, 256]}}, {\"class\": \"Conv2d\", \"kargs\": {\"in_channels\": 1, \"out_channels\": 256, \"kernel_size\": [1, 7], \"bias\": false, \"padding\": [0, 3]}}, {\"class\": \"ReLU\", \"kargs\": {\"inplace\": true}}, {\"class\": \"BatchNorm2d\", \"kargs\": {\"num_features\": 256}}, {\"class\": \"Conv2d\", \"kargs\": {\"in_channels\": 256, \"out_channels\": 80, \"kernel_size\": [2, 7], \"bias\": true, \"padding\": [0, 3]}}, {\"class\": \"ReLU\", \"kargs\": {\"inplace\": true}}, {\"class\": \"BatchNorm2d\", \"kargs\": {\"num_features\": 80}}, {\"class\": \"Flatten\", \"kargs\": {}}, {\"class\": \"Linear\", \"kargs\": {\"in_features\": 20480, \"out_features\": 256}}, {\"class\": \"ReLU\", \"kargs\": {\"inplace\": true}}, {\"class\": \"BatchNorm1d\", \"kargs\": {\"num_features\": 256}}, {\"class\": \"Linear\", \"kargs\": {\"in_features\": 256, \"out_features\": 256}}], \"NUM_LOGS_PER_EPOCH\": 10, \"BEST_MODEL_PATH\": \"./best_model.pth\", \"n_way\": 58, \"datasets\": [{\"labels\": [\"1-10.\", \"1-11.\", \"1-15.\", \"1-16.\", \"1-17.\", \"1-18.\", \"1-19.\", \"10-4.\", \"10-7.\", \"11-1.\", \"11-14.\", \"11-17.\", \"11-20.\", \"11-7.\", \"13-20.\", \"13-8.\", \"14-10.\", \"14-11.\", \"14-14.\", \"14-7.\", \"15-1.\", \"15-20.\", \"16-1.\", \"16-16.\", \"17-10.\", \"17-11.\", \"17-2.\", \"19-1.\", \"19-16.\", \"19-19.\", \"19-20.\", \"19-3.\", \"2-10.\", \"2-11.\", \"2-17.\", \"2-18.\", \"2-20.\", \"2-3.\", \"2-4.\", \"2-5.\", \"2-6.\", \"2-7.\", \"2-8.\", \"3-13.\", \"3-18.\", \"3-3.\", \"4-1.\", \"4-10.\", \"4-11.\", \"4-19.\", \"5-5.\", \"6-15.\", \"7-10.\", \"7-14.\", \"8-18.\", \"8-20.\", \"8-3.\", \"8-8.\"], \"domains\": [1, 2, 3, 4, 5], \"num_examples_per_domain_per_label\": -1, \"pickle_path\": \"/root/csc500-main/datasets/cores.stratified_ds.2022A.pkl\", \"source_or_target_dataset\": \"target\", \"x_transforms\": [\"unit_mag\"], \"episode_transforms\": [], \"domain_prefix\": \"CORES_\"}, {\"labels\": [\"1-10\", \"1-12\", \"1-14\", \"1-16\", \"1-18\", \"1-19\", \"1-8\", \"10-11\", \"10-17\", \"10-4\", \"10-7\", \"11-1\", \"11-10\", \"11-19\", \"11-20\", \"11-4\", \"11-7\", \"12-19\", \"12-20\", \"12-7\", \"13-14\", \"13-18\", \"13-19\", \"13-20\", \"13-3\", \"13-7\", \"14-10\", \"14-11\", \"14-12\", \"14-13\", \"14-14\", \"14-19\", \"14-20\", \"14-7\", \"14-8\", \"14-9\", \"15-1\", \"15-19\", \"15-6\", \"16-1\", \"16-16\", \"16-19\", \"16-20\", \"17-10\", \"17-11\", \"18-1\", \"18-10\", \"18-11\", \"18-12\", \"18-13\", \"18-14\", \"18-15\", \"18-16\", \"18-17\", \"18-19\", \"18-2\", \"18-20\", \"18-4\", \"18-5\", \"18-7\", \"18-8\", \"18-9\", \"19-1\", \"19-10\", \"19-11\", \"19-12\", \"19-13\", \"19-14\", \"19-15\", \"19-19\", \"19-2\", \"19-20\", \"19-3\", \"19-4\", \"19-6\", \"19-7\", \"19-8\", \"19-9\", \"2-1\", \"2-13\", \"2-15\", \"2-3\", \"2-4\", \"2-5\", \"2-6\", \"2-7\", \"2-8\", \"20-1\", \"20-12\", \"20-14\", \"20-15\", \"20-16\", \"20-18\", \"20-19\", \"20-20\", \"20-3\", \"20-4\", \"20-5\", \"20-7\", \"20-8\", \"3-1\", \"3-13\", \"3-18\", \"3-2\", \"3-8\", \"4-1\", \"4-10\", \"4-11\", \"5-1\", \"5-5\", \"6-1\", \"6-15\", \"6-6\", \"7-10\", \"7-11\", \"7-12\", \"7-13\", \"7-14\", \"7-7\", \"7-8\", \"7-9\", \"8-1\", \"8-13\", \"8-14\", \"8-18\", \"8-20\", \"8-3\", \"8-8\", \"9-1\", \"9-7\"], \"domains\": [1, 2, 3, 4], \"num_examples_per_domain_per_label\": -1, \"pickle_path\": \"/root/csc500-main/datasets/wisig.node3-19.stratified_ds.2022A.pkl\", \"source_or_target_dataset\": \"source\", \"x_transforms\": [\"unit_mag\"], \"episode_transforms\": [], \"domain_prefix\": \"Wisig_\"}], \"dataset_seed\": 154325, \"seed\": 154325, \"x_shape\": [2, 256], \"domains_source\": [\"Wisig_1\", \"Wisig_2\", \"Wisig_3\", \"Wisig_4\"], \"domains_target\": [\"CORES_1\", \"CORES_2\", \"CORES_3\", \"CORES_4\", \"CORES_5\"]}, \"results\": {\"source_test_label_accuracy\": 0.9524535809018567, \"source_test_label_loss\": 0.26692691445350647, \"target_test_label_accuracy\": 0.9775862068965517, \"target_test_label_loss\": 0.157016783952713, \"source_val_label_accuracy\": 0.9552927024859663, \"source_val_label_loss\": 0.2357763797044754, \"target_val_label_accuracy\": 0.9777298850574713, \"target_val_label_loss\": 0.17116647958755493, \"total_epochs_trained\": 3, \"total_experiment_time_secs\": 258.67453360557556, \"confusion\": {\"Wisig_2\": {\"41\": {\"41\": 18, \"14\": 2}, \"31\": {\"31\": 18, \"36\": 2}, \"126\": {\"126\": 51, \"88\": 1}, \"80\": {\"80\": 16}, \"101\": {\"101\": 50}, \"128\": {\"128\": 24}, \"46\": {\"46\": 15, \"31\": 1}, \"96\": {\"96\": 20}, \"117\": {\"117\": 36}, \"109\": {\"109\": 39, \"14\": 1}, \"17\": {\"4\": 1, \"17\": 12, \"43\": 1, \"21\": 1, \"24\": 1}, \"63\": {\"63\": 20}, \"69\": {\"69\": 39, \"36\": 1, \"107\": 1, \"12\": 1}, \"30\": {\"30\": 47, \"61\": 1, \"78\": 1, \"27\": 1, \"62\": 1, \"39\": 1}, \"120\": {\"120\": 20}, \"4\": {\"4\": 36}, \"102\": {\"102\": 50}, \"81\": {\"81\": 22, \"11\": 1, \"52\": 1}, \"6\": {\"6\": 32}, \"110\": {\"110\": 35, \"27\": 1}, \"55\": {\"55\": 15, \"62\": 1}, \"67\": {\"67\": 16}, \"50\": {\"50\": 16}, \"19\": {\"19\": 28}, \"104\": {\"104\": 19, \"86\": 1}, \"112\": {\"112\": 14, \"49\": 1, \"83\": 1}, \"10\": {\"10\": 42, \"12\": 1, \"110\": 1}, \"54\": {\"54\": 20}, \"7\": {\"7\": 36}, \"28\": {\"28\": 20}, \"5\": {\"5\": 38, \"69\": 1, \"78\": 1}, \"15\": {\"15\": 42, \"97\": 2}, \"73\": {\"73\": 28}, \"76\": {\"76\": 14, \"78\": 2}, \"105\": {\"105\": 44}, \"78\": {\"78\": 28, \"40\": 2, \"43\": 1, \"21\": 4, \"87\": 1}, \"106\": {\"106\": 41, \"13\": 1, \"69\": 1, \"107\": 1}, \"57\": {\"57\": 18, \"55\": 1, \"21\": 1}, \"90\": {\"90\": 37, \"109\": 1}, \"35\": {\"35\": 12}, \"64\": {\"64\": 14, \"26\": 1, \"69\": 1}, \"3\": {\"3\": 26}, \"42\": {\"42\": 27, \"24\": 1}, \"103\": {\"103\": 16}, \"49\": {\"49\": 24}, \"123\": {\"123\": 16}, \"13\": {\"13\": 12, \"27\": 1, \"2\": 3}, \"9\": {\"9\": 32}, \"118\": {\"118\": 40}, \"91\": {\"91\": 28}, \"27\": {\"27\": 40, \"94\": 1, \"36\": 1, \"24\": 1, \"78\": 1, \"39\": 1, \"30\": 1}, \"53\": {\"53\": 16}, \"32\": {\"32\": 32, \"52\": 1, \"14\": 1}, \"107\": {\"107\": 45, \"36\": 1, \"61\": 2, \"110\": 2}, \"36\": {\"36\": 33, \"27\": 3, \"107\": 1, \"121\": 1}, \"129\": {\"129\": 32}, \"26\": {\"26\": 40, \"78\": 1, \"107\": 1}, \"85\": {\"85\": 31, \"52\": 1}, \"68\": {\"43\": 1, \"68\": 14, \"98\": 1}, \"95\": {\"95\": 36}, \"12\": {\"12\": 34, \"70\": 1, \"107\": 1, \"127\": 1, \"106\": 1}, \"71\": {\"71\": 54}, \"16\": {\"88\": 1, \"16\": 42, \"107\": 2, \"93\": 4, \"11\": 1}, \"20\": {\"27\": 1, \"20\": 15}, \"74\": {\"74\": 15, \"24\": 1}, \"79\": {\"79\": 16}, \"58\": {\"58\": 19, \"43\": 1}, \"122\": {\"122\": 39, \"110\": 1}, \"98\": {\"98\": 53, \"69\": 1, \"89\": 1, \"80\": 1}, \"83\": {\"83\": 36}, \"99\": {\"99\": 32}, \"14\": {\"14\": 44, \"21\": 1, \"24\": 1, \"31\": 1, \"110\": 1}, \"2\": {\"2\": 31, \"51\": 1}, \"34\": {\"34\": 31, \"41\": 1}, \"88\": {\"88\": 40, \"21\": 1, \"16\": 1}, \"51\": {\"51\": 18, \"91\": 1, \"97\": 1}, \"45\": {\"45\": 16}, \"125\": {\"125\": 32}, \"43\": {\"43\": 35, \"47\": 1, \"69\": 2, \"5\": 1, \"36\": 1}, \"92\": {\"92\": 28}, \"8\": {\"8\": 42, \"25\": 1, \"121\": 1}, \"82\": {\"82\": 36}, \"66\": {\"66\": 20}, \"59\": {\"43\": 1, \"59\": 14, \"24\": 1}, \"75\": {\"75\": 16}, \"29\": {\"29\": 32}, \"40\": {\"40\": 40, \"18\": 1, \"107\": 1, \"78\": 1, \"14\": 1}, \"97\": {\"97\": 20}, \"33\": {\"33\": 40}, \"47\": {\"123\": 1, \"47\": 7, \"83\": 3, \"94\": 1}, \"1\": {\"1\": 48}, \"44\": {\"44\": 37, \"14\": 1}, \"62\": {\"62\": 36}, \"127\": {\"127\": 37, \"10\": 1, \"111\": 2}, \"84\": {\"84\": 36, \"107\": 1, \"36\": 2, \"24\": 1}, \"72\": {\"72\": 27, \"28\": 1}, \"87\": {\"87\": 39, \"107\": 2, \"36\": 1, \"62\": 1, \"70\": 1}, \"121\": {\"121\": 35, \"89\": 1}, \"21\": {\"21\": 26, \"107\": 3, \"39\": 1, \"78\": 1, \"36\": 2, \"0\": 1, \"30\": 1, \"16\": 1}, \"115\": {\"115\": 11, \"61\": 1}, \"111\": {\"111\": 48, \"107\": 1, \"62\": 1}, \"61\": {\"61\": 19, \"107\": 1}, \"24\": {\"24\": 28, \"27\": 2, \"88\": 1, \"107\": 2, \"25\": 2, \"94\": 1}, \"56\": {\"56\": 12}, \"11\": {\"11\": 29, \"110\": 1}, \"48\": {\"48\": 20}, \"39\": {\"39\": 29, \"113\": 1, \"18\": 1, \"110\": 1, \"107\": 1, \"21\": 2, \"84\": 1}, \"77\": {\"77\": 15, \"107\": 1}, \"93\": {\"93\": 45, \"123\": 1, \"107\": 1, \"16\": 1}, \"0\": {\"0\": 37, \"101\": 1}, \"114\": {\"114\": 37, \"94\": 1}, \"37\": {\"37\": 15, \"21\": 1}, \"124\": {\"124\": 36}, \"38\": {\"38\": 16}, \"70\": {\"110\": 1, \"107\": 2, \"70\": 35, \"102\": 1, \"14\": 1}, \"116\": {\"116\": 27, \"88\": 1}, \"119\": {\"119\": 20}, \"60\": {\"60\": 27, \"71\": 1}, \"86\": {\"86\": 32}, \"65\": {\"65\": 19, \"121\": 1}, \"94\": {\"94\": 33, \"24\": 1, \"107\": 1, \"36\": 1}, \"113\": {\"113\": 35, \"121\": 1}, \"18\": {\"18\": 44}, \"23\": {\"23\": 38}, \"108\": {\"108\": 40}, \"89\": {\"89\": 34, \"110\": 1, \"43\": 1}, \"52\": {\"52\": 20}, \"25\": {\"25\": 16}, \"22\": {\"22\": 19, \"107\": 1}, \"100\": {\"100\": 16}}, \"Wisig_4\": {\"71\": {\"71\": 50, \"60\": 1, \"78\": 1}, \"112\": {\"112\": 16}, \"75\": {\"75\": 14, \"94\": 1, \"36\": 1}, \"17\": {\"17\": 18, \"14\": 1, \"82\": 1}, \"50\": {\"50\": 15, \"32\": 1}, \"60\": {\"60\": 29, \"19\": 1}, \"12\": {\"51\": 1, \"12\": 37, \"4\": 1, \"89\": 1}, \"29\": {\"29\": 31, \"67\": 1}, \"15\": {\"15\": 33, \"30\": 1}, \"7\": {\"7\": 39, \"87\": 1}, \"27\": {\"27\": 41, \"108\": 1, \"127\": 1, \"94\": 1}, \"91\": {\"91\": 24}, \"20\": {\"20\": 15, \"108\": 1}, \"16\": {\"16\": 32, \"84\": 2, \"107\": 1, \"108\": 1}, \"99\": {\"99\": 34}, \"26\": {\"26\": 45, \"21\": 1}, \"24\": {\"24\": 50, \"30\": 1, \"36\": 6, \"92\": 1}, \"58\": {\"58\": 15, \"97\": 1}, \"74\": {\"74\": 16}, \"110\": {\"110\": 33, \"122\": 1, \"96\": 1, \"40\": 1}, \"67\": {\"26\": 3, \"67\": 13}, \"46\": {\"46\": 20}, \"19\": {\"19\": 28}, \"81\": {\"81\": 35, \"51\": 1}, \"0\": {\"0\": 39, \"122\": 1, \"101\": 2}, \"104\": {\"104\": 16}, \"9\": {\"9\": 28}, \"96\": {\"96\": 19, \"32\": 1}, \"14\": {\"14\": 40}, \"114\": {\"114\": 36}, \"59\": {\"59\": 12}, \"21\": {\"21\": 32, \"78\": 3, \"101\": 1, \"4\": 1, \"14\": 1, \"12\": 1, \"26\": 1}, \"88\": {\"88\": 33, \"70\": 1}, \"4\": {\"4\": 41, \"21\": 1}, \"129\": {\"129\": 28}, \"30\": {\"30\": 47, \"4\": 1, \"127\": 1, \"10\": 1}, \"5\": {\"5\": 38, \"72\": 1, \"126\": 1}, \"119\": {\"119\": 16}, \"66\": {\"66\": 16}, \"53\": {\"53\": 15, \"110\": 1}, \"51\": {\"52\": 1, \"14\": 1, \"67\": 1, \"51\": 3, \"125\": 2, \"58\": 1, \"31\": 2, \"48\": 1, \"53\": 1, \"23\": 1, \"107\": 1, \"121\": 1}, \"37\": {\"37\": 16}, \"127\": {\"127\": 41, \"78\": 1}, \"80\": {\"80\": 16}, \"55\": {\"55\": 16}, \"122\": {\"122\": 40, \"127\": 1, \"21\": 1, \"51\": 1, \"78\": 1}, \"8\": {\"8\": 46, \"21\": 2}, \"76\": {\"76\": 16}, \"57\": {\"57\": 14, \"76\": 1, \"115\": 1}, \"52\": {\"52\": 20}, \"100\": {\"100\": 19, \"19\": 1}, \"93\": {\"93\": 44}, \"82\": {\"82\": 30}, \"86\": {\"86\": 28}, \"107\": {\"107\": 40, \"23\": 1, \"105\": 1}, \"73\": {\"88\": 3, \"73\": 20, \"48\": 1}, \"116\": {\"116\": 28}, \"94\": {\"14\": 1, \"94\": 44, \"108\": 1}, \"97\": {\"97\": 9, \"24\": 2, \"91\": 1, \"36\": 6, \"15\": 1, \"94\": 1}, \"68\": {\"68\": 15, \"12\": 1}, \"10\": {\"30\": 3, \"10\": 32, \"6\": 1, \"27\": 1, \"106\": 1, \"15\": 1, \"24\": 1}, \"31\": {\"31\": 15, \"118\": 1}, \"47\": {\"47\": 9, \"51\": 1, \"9\": 1, \"107\": 1}, \"65\": {\"65\": 11, \"98\": 1}, \"28\": {\"28\": 20}, \"2\": {\"2\": 27, \"0\": 1}, \"42\": {\"42\": 26, \"27\": 1, \"58\": 1}, \"102\": {\"102\": 48, \"78\": 2}, \"95\": {\"95\": 32}, \"35\": {\"35\": 12}, \"33\": {\"33\": 42}, \"6\": {\"6\": 24}, \"49\": {\"49\": 32}, \"45\": {\"45\": 16}, \"89\": {\"89\": 32}, \"40\": {\"40\": 36, \"78\": 1, \"21\": 1}, \"3\": {\"3\": 36}, \"63\": {\"63\": 16}, \"13\": {\"13\": 16}, \"108\": {\"108\": 35, \"129\": 1, \"109\": 1, \"78\": 1}, \"125\": {\"125\": 44, \"35\": 1, \"61\": 1}, \"123\": {\"123\": 16}, \"115\": {\"115\": 12, \"118\": 1, \"78\": 1, \"28\": 1, \"23\": 1}, \"117\": {\"117\": 49, \"23\": 1, \"107\": 1, \"78\": 1}, \"43\": {\"43\": 40, \"8\": 1, \"87\": 1}, \"38\": {\"38\": 16}, \"128\": {\"128\": 21, \"85\": 1, \"48\": 1, \"28\": 1}, \"83\": {\"83\": 28}, \"79\": {\"79\": 16}, \"124\": {\"124\": 40}, \"84\": {\"84\": 49, \"16\": 1}, \"103\": {\"103\": 15, \"115\": 1}, \"121\": {\"14\": 1, \"121\": 29, \"13\": 1, \"107\": 1}, \"34\": {\"34\": 32}, \"126\": {\"126\": 41, \"39\": 2, \"78\": 1}, \"44\": {\"44\": 46}, \"41\": {\"41\": 14, \"76\": 1, \"51\": 1}, \"101\": {\"101\": 34, \"21\": 1, \"78\": 1}, \"109\": {\"109\": 41, \"21\": 1}, \"106\": {\"106\": 42, \"0\": 1, \"23\": 1}, \"11\": {\"11\": 41, \"122\": 1}, \"77\": {\"77\": 12}, \"62\": {\"62\": 27, \"105\": 1, \"118\": 2, \"69\": 1, \"122\": 1}, \"39\": {\"39\": 36, \"81\": 2, \"111\": 1, \"96\": 1}, \"61\": {\"61\": 16}, \"98\": {\"98\": 43, \"85\": 1, \"72\": 2}, \"111\": {\"111\": 32}, \"64\": {\"64\": 16}, \"70\": {\"70\": 34, \"10\": 1, \"88\": 2, \"60\": 1}, \"25\": {\"25\": 16}, \"56\": {\"56\": 11, \"36\": 1}, \"72\": {\"72\": 31, \"116\": 1}, \"87\": {\"87\": 48, \"43\": 1, \"105\": 2, \"107\": 1}, \"54\": {\"54\": 16}, \"36\": {\"36\": 42, \"10\": 1, \"21\": 1, \"24\": 4}, \"90\": {\"90\": 32}, \"120\": {\"32\": 1, \"120\": 19}, \"1\": {\"1\": 41, \"21\": 1}, \"78\": {\"78\": 26, \"21\": 2, \"122\": 1, \"87\": 1}, \"113\": {\"113\": 34, \"78\": 1, \"89\": 1}, \"32\": {\"32\": 26, \"22\": 1, \"35\": 1}, \"69\": {\"69\": 43, \"10\": 1}, \"92\": {\"92\": 27, \"82\": 1}, \"22\": {\"22\": 15, \"23\": 1}, \"18\": {\"18\": 31, \"21\": 1}, \"23\": {\"80\": 1, \"23\": 9, \"105\": 1, \"110\": 1, \"123\": 2, \"13\": 1, \"58\": 1}, \"85\": {\"85\": 27, \"89\": 1}, \"105\": {\"76\": 1, \"105\": 32, \"78\": 1, \"87\": 5, \"43\": 1}, \"118\": {\"118\": 30}, \"48\": {\"48\": 15, \"101\": 1}}, \"Wisig_1\": {\"63\": {\"63\": 16}, \"11\": {\"11\": 36}, \"23\": {\"23\": 19, \"49\": 2, \"52\": 1, \"43\": 1, \"128\": 1}, \"6\": {\"6\": 31, \"51\": 1}, \"125\": {\"125\": 38}, \"7\": {\"7\": 38}, \"33\": {\"33\": 32}, \"91\": {\"91\": 28}, \"108\": {\"108\": 42}, \"61\": {\"61\": 12}, \"69\": {\"69\": 31, \"122\": 1}, \"48\": {\"48\": 12}, \"58\": {\"58\": 9, \"53\": 2, \"12\": 1}, \"21\": {\"59\": 1, \"21\": 31, \"68\": 1, \"111\": 1, \"94\": 1, \"78\": 1, \"19\": 1, \"128\": 1, \"122\": 1, \"83\": 1}, \"103\": {\"103\": 14, \"51\": 1, \"94\": 1}, \"38\": {\"38\": 16}, \"81\": {\"81\": 27, \"34\": 1}, \"76\": {\"76\": 16}, \"70\": {\"129\": 1, \"70\": 37, \"25\": 1, \"122\": 1}, \"95\": {\"95\": 35, \"122\": 1}, \"43\": {\"43\": 33, \"39\": 1, \"21\": 2}, \"127\": {\"127\": 35, \"111\": 1}, \"87\": {\"87\": 44}, \"107\": {\"107\": 34}, \"116\": {\"116\": 32}, \"77\": {\"77\": 16}, \"45\": {\"45\": 6, \"21\": 1, \"104\": 1, \"81\": 2, \"42\": 1, \"122\": 1}, \"96\": {\"96\": 18, \"12\": 1, \"94\": 1}, \"74\": {\"74\": 16}, \"8\": {\"8\": 44}, \"114\": {\"114\": 44}, \"32\": {\"32\": 29, \"34\": 1}, \"102\": {\"102\": 40}, \"75\": {\"75\": 16}, \"123\": {\"123\": 16}, \"28\": {\"28\": 20}, \"37\": {\"37\": 16}, \"126\": {\"126\": 35, \"122\": 1}, \"30\": {\"30\": 37, \"21\": 1}, \"71\": {\"71\": 41, \"122\": 1, \"38\": 1, \"34\": 1}, \"18\": {\"18\": 28}, \"67\": {\"67\": 15, \"22\": 1}, \"83\": {\"83\": 28}, \"22\": {\"22\": 16}, \"53\": {\"53\": 19, \"45\": 1}, \"57\": {\"57\": 12}, \"89\": {\"89\": 32}, \"109\": {\"109\": 45, \"39\": 1}, \"119\": {\"119\": 16}, \"17\": {\"17\": 15, \"28\": 1}, \"14\": {\"14\": 34}, \"121\": {\"121\": 32}, \"59\": {\"59\": 11, \"34\": 1}, \"129\": {\"82\": 3, \"129\": 25}, \"105\": {\"105\": 38}, \"2\": {\"2\": 31, \"51\": 1}, \"68\": {\"68\": 16}, \"82\": {\"82\": 36}, \"27\": {\"27\": 42}, \"111\": {\"111\": 40}, \"124\": {\"124\": 40}, \"85\": {\"85\": 31, \"34\": 1}, \"26\": {\"26\": 46}, \"110\": {\"110\": 46}, \"97\": {\"97\": 13, \"21\": 1, \"126\": 3, \"88\": 1, \"86\": 1, \"27\": 1}, \"13\": {\"13\": 16}, \"3\": {\"3\": 35, \"27\": 1}, \"42\": {\"42\": 26, \"91\": 1, \"60\": 1}, \"25\": {\"25\": 16}, \"47\": {\"47\": 11, \"108\": 1}, \"115\": {\"115\": 12}, \"118\": {\"118\": 36, \"34\": 1, \"21\": 1}, \"84\": {\"84\": 42}, \"120\": {\"120\": 18, \"40\": 1, \"95\": 1}, \"92\": {\"92\": 28}, \"79\": {\"79\": 12}, \"80\": {\"80\": 16}, \"73\": {\"73\": 20}, \"36\": {\"36\": 32, \"122\": 1, \"21\": 1}, \"10\": {\"10\": 35, \"26\": 1}, \"104\": {\"104\": 16}, \"50\": {\"50\": 16}, \"39\": {\"39\": 42, \"14\": 1, \"3\": 1}, \"64\": {\"64\": 16}, \"112\": {\"112\": 16}, \"66\": {\"66\": 16}, \"31\": {\"31\": 15, \"94\": 1}, \"100\": {\"100\": 16}, \"101\": {\"101\": 54}, \"5\": {\"5\": 29, \"88\": 1}, \"117\": {\"117\": 42}, \"86\": {\"86\": 30}, \"51\": {\"51\": 16}, \"34\": {\"34\": 30, \"98\": 1, \"46\": 1}, \"4\": {\"4\": 40}, \"99\": {\"99\": 24}, \"12\": {\"12\": 36, \"26\": 1, \"113\": 1}, \"0\": {\"0\": 34, \"52\": 1, \"101\": 1}, \"78\": {\"78\": 13, \"82\": 1, \"80\": 1, \"21\": 1}, \"88\": {\"88\": 34, \"36\": 3, \"97\": 1}, \"40\": {\"40\": 38}, \"20\": {\"20\": 16}, \"90\": {\"90\": 36}, \"65\": {\"65\": 11, \"22\": 1}, \"44\": {\"44\": 38}, \"93\": {\"93\": 32, \"21\": 1, \"43\": 1, \"40\": 1, \"87\": 1, \"122\": 1, \"4\": 1}, \"122\": {\"122\": 35, \"113\": 1}, \"16\": {\"16\": 32}, \"52\": {\"52\": 20}, \"24\": {\"24\": 37, \"21\": 1, \"36\": 3, \"34\": 1}, \"29\": {\"29\": 28}, \"19\": {\"19\": 28}, \"106\": {\"106\": 38}, \"54\": {\"54\": 16}, \"94\": {\"94\": 41, \"108\": 1}, \"9\": {\"9\": 30}, \"41\": {\"41\": 16}, \"49\": {\"53\": 3, \"104\": 2, \"49\": 14, \"60\": 1}, \"60\": {\"123\": 1, \"101\": 2, \"60\": 12, \"29\": 1}, \"113\": {\"113\": 36}, \"72\": {\"72\": 31, \"101\": 1}, \"1\": {\"1\": 36}, \"55\": {\"55\": 12}, \"128\": {\"128\": 22, \"60\": 2}, \"15\": {\"15\": 37, \"111\": 4, \"21\": 1}, \"35\": {\"35\": 12}, \"46\": {\"54\": 1, \"25\": 1, \"98\": 2, \"46\": 6, \"12\": 1, \"53\": 1}, \"98\": {\"98\": 32}, \"62\": {\"62\": 26}, \"56\": {\"56\": 12}}, \"Wisig_3\": {\"9\": {\"9\": 32}, \"0\": {\"0\": 40, \"101\": 3, \"122\": 1}, \"2\": {\"2\": 28}, \"34\": {\"34\": 30}, \"128\": {\"128\": 31, \"19\": 1}, \"79\": {\"79\": 12}, \"3\": {\"3\": 35, \"21\": 1}, \"81\": {\"81\": 32}, \"41\": {\"41\": 16}, \"53\": {\"53\": 18, \"85\": 1, \"127\": 1}, \"93\": {\"93\": 34}, \"52\": {\"52\": 14, \"27\": 1, \"8\": 1}, \"124\": {\"124\": 40}, \"84\": {\"84\": 42}, \"49\": {\"49\": 24}, \"36\": {\"36\": 28, \"27\": 3, \"78\": 1}, \"76\": {\"76\": 16}, \"122\": {\"122\": 38, \"78\": 1, \"70\": 1, \"44\": 1, \"4\": 1}, \"80\": {\"80\": 16}, \"129\": {\"129\": 32}, \"88\": {\"88\": 33, \"108\": 1, \"70\": 1, \"21\": 1}, \"23\": {\"23\": 30, \"123\": 2}, \"63\": {\"63\": 16}, \"59\": {\"59\": 12}, \"38\": {\"38\": 16}, \"28\": {\"28\": 16}, \"105\": {\"105\": 34}, \"39\": {\"39\": 26, \"81\": 1, \"122\": 1}, \"96\": {\"96\": 20}, \"65\": {\"65\": 12}, \"16\": {\"16\": 40, \"17\": 1, \"30\": 1}, \"64\": {\"64\": 20}, \"119\": {\"119\": 16}, \"4\": {\"4\": 42}, \"30\": {\"30\": 38}, \"50\": {\"50\": 16}, \"92\": {\"92\": 28}, \"26\": {\"26\": 48, \"121\": 1, \"13\": 1}, \"94\": {\"94\": 38, \"115\": 1, \"29\": 1}, \"121\": {\"121\": 30, \"117\": 1, \"30\": 1}, \"90\": {\"90\": 40}, \"31\": {\"31\": 20}, \"108\": {\"108\": 33, \"70\": 1}, \"120\": {\"120\": 20}, \"6\": {\"6\": 30, \"61\": 1, \"34\": 1}, \"47\": {\"47\": 12}, \"67\": {\"67\": 13, \"63\": 3}, \"62\": {\"62\": 31, \"127\": 1}, \"32\": {\"32\": 32}, \"33\": {\"33\": 36}, \"126\": {\"126\": 39, \"78\": 1}, \"78\": {\"78\": 8, \"19\": 1, \"122\": 3, \"70\": 1, \"87\": 1, \"82\": 2}, \"111\": {\"111\": 40}, \"113\": {\"113\": 38}, \"99\": {\"99\": 32}, \"83\": {\"83\": 24}, \"66\": {\"66\": 16}, \"118\": {\"118\": 33, \"101\": 1}, \"127\": {\"127\": 34}, \"43\": {\"43\": 36, \"105\": 1, \"4\": 3}, \"116\": {\"116\": 27, \"28\": 1}, \"25\": {\"25\": 16}, \"106\": {\"106\": 24}, \"18\": {\"18\": 36}, \"72\": {\"72\": 28}, \"37\": {\"37\": 16}, \"95\": {\"95\": 31, \"110\": 1}, \"86\": {\"86\": 26, \"8\": 1, \"30\": 1}, \"35\": {\"35\": 12}, \"61\": {\"61\": 15, \"17\": 1}, \"21\": {\"21\": 29, \"110\": 1, \"73\": 1, \"106\": 1, \"86\": 1, \"78\": 2, \"82\": 1}, \"58\": {\"58\": 16}, \"103\": {\"103\": 16}, \"73\": {\"73\": 38}, \"13\": {\"13\": 11, \"51\": 1, \"17\": 1, \"21\": 2, \"63\": 1}, \"12\": {\"12\": 45, \"73\": 1}, \"109\": {\"109\": 38}, \"70\": {\"70\": 31, \"112\": 1, \"110\": 1, \"127\": 1}, \"54\": {\"54\": 16}, \"123\": {\"123\": 15, \"67\": 1}, \"101\": {\"101\": 42}, \"29\": {\"29\": 31, \"80\": 1}, \"56\": {\"56\": 10, \"51\": 1, \"94\": 1}, \"102\": {\"102\": 30}, \"87\": {\"87\": 37, \"43\": 1}, \"44\": {\"44\": 35, \"3\": 1}, \"75\": {\"75\": 16}, \"82\": {\"82\": 28}, \"107\": {\"107\": 34, \"82\": 1, \"14\": 1}, \"46\": {\"46\": 16}, \"71\": {\"71\": 36}, \"100\": {\"100\": 16}, \"97\": {\"97\": 17, \"17\": 1, \"24\": 1, \"27\": 1}, \"40\": {\"40\": 42}, \"7\": {\"7\": 43, \"95\": 1}, \"110\": {\"110\": 38, \"8\": 1, \"129\": 3}, \"11\": {\"11\": 40}, \"89\": {\"89\": 27, \"67\": 1}, \"1\": {\"1\": 24}, \"104\": {\"104\": 16}, \"74\": {\"74\": 13, \"57\": 2, \"128\": 1}, \"125\": {\"125\": 36}, \"14\": {\"14\": 38}, \"114\": {\"114\": 44}, \"48\": {\"48\": 10, \"119\": 1, \"22\": 3, \"79\": 1, \"56\": 1}, \"10\": {\"10\": 42}, \"22\": {\"22\": 15, \"17\": 1}, \"68\": {\"68\": 15, \"70\": 1}, \"19\": {\"19\": 32}, \"5\": {\"5\": 31, \"93\": 1}, \"17\": {\"17\": 10, \"67\": 2, \"68\": 1, \"116\": 1, \"115\": 1, \"7\": 1}, \"8\": {\"8\": 35, \"17\": 1}, \"60\": {\"60\": 26, \"19\": 1, \"82\": 1}, \"42\": {\"42\": 27, \"25\": 1}, \"117\": {\"117\": 40}, \"20\": {\"20\": 14, \"22\": 1, \"115\": 1}, \"85\": {\"85\": 34}, \"51\": {\"51\": 15, \"4\": 1}, \"69\": {\"69\": 33, \"127\": 1}, \"45\": {\"45\": 15, \"22\": 1}, \"98\": {\"98\": 30}, \"24\": {\"24\": 24, \"36\": 4, \"21\": 1, \"27\": 1}, \"15\": {\"15\": 28}, \"27\": {\"27\": 31, \"36\": 5}, \"91\": {\"91\": 22, \"57\": 1, \"22\": 1}, \"112\": {\"112\": 14, \"94\": 1, \"78\": 1}, \"115\": {\"115\": 16}, \"77\": {\"77\": 16}, \"57\": {\"57\": 18, \"74\": 2}, \"55\": {\"55\": 16}}, \"CORES_2\": {\"25\": {\"25\": 19, \"49\": 1}, \"39\": {\"39\": 20}, \"51\": {\"51\": 20}, \"4\": {\"4\": 20}, \"57\": {\"57\": 20}, \"0\": {\"0\": 20}, \"28\": {\"28\": 20}, \"35\": {\"35\": 20}, \"53\": {\"53\": 20}, \"33\": {\"33\": 20}, \"41\": {\"41\": 19, \"16\": 1}, \"14\": {\"14\": 9, \"37\": 1, \"38\": 1, \"54\": 1, \"29\": 3, \"43\": 4, \"28\": 1}, \"8\": {\"8\": 20}, \"47\": {\"47\": 20}, \"37\": {\"37\": 20}, \"43\": {\"43\": 20}, \"29\": {\"29\": 20}, \"56\": {\"56\": 20}, \"19\": {\"19\": 20}, \"48\": {\"48\": 20}, \"52\": {\"52\": 20}, \"22\": {\"22\": 20}, \"21\": {\"21\": 20}, \"27\": {\"27\": 19, \"8\": 1}, \"45\": {\"45\": 19, \"53\": 1}, \"10\": {\"10\": 20}, \"1\": {\"1\": 20}, \"38\": {\"38\": 20}, \"24\": {\"24\": 20}, \"17\": {\"17\": 20}, \"54\": {\"54\": 20}, \"3\": {\"3\": 19, \"18\": 1}, \"36\": {\"36\": 20}, \"40\": {\"40\": 20}, \"11\": {\"11\": 20}, \"55\": {\"55\": 19, \"2\": 1}, \"26\": {\"26\": 20}, \"20\": {\"20\": 20}, \"5\": {\"5\": 19, \"31\": 1}, \"44\": {\"44\": 20}, \"32\": {\"32\": 20}, \"31\": {\"31\": 20}, \"30\": {\"30\": 20}, \"49\": {\"49\": 19, \"25\": 1}, \"50\": {\"50\": 20}, \"6\": {\"6\": 20}, \"34\": {\"34\": 20}, \"15\": {\"15\": 20}, \"18\": {\"18\": 20}, \"16\": {\"16\": 20}, \"7\": {\"7\": 20}, \"9\": {\"9\": 20}, \"42\": {\"42\": 20}, \"2\": {\"2\": 20}, \"12\": {\"12\": 20}, \"46\": {\"46\": 19, \"7\": 1}, \"13\": {\"13\": 20}, \"23\": {\"23\": 20}}, \"CORES_1\": {\"9\": {\"9\": 24}, \"57\": {\"57\": 24}, \"18\": {\"18\": 23, \"50\": 1}, \"35\": {\"35\": 24}, \"24\": {\"24\": 23, \"22\": 1}, \"38\": {\"38\": 24}, \"3\": {\"3\": 24}, \"12\": {\"12\": 24}, \"11\": {\"11\": 23, \"50\": 1}, \"1\": {\"1\": 24}, \"5\": {\"5\": 23, \"2\": 1}, \"31\": {\"31\": 24}, \"25\": {\"25\": 24}, \"17\": {\"17\": 24}, \"36\": {\"36\": 24}, \"0\": {\"0\": 24}, \"16\": {\"16\": 24}, \"32\": {\"32\": 24}, \"20\": {\"20\": 24}, \"37\": {\"37\": 24}, \"8\": {\"8\": 24}, \"50\": {\"50\": 24}, \"30\": {\"30\": 22, \"1\": 2}, \"27\": {\"27\": 24}, \"6\": {\"6\": 24}, \"23\": {\"23\": 24}, \"28\": {\"28\": 24}, \"40\": {\"40\": 24}, \"49\": {\"49\": 24}, \"56\": {\"56\": 24}, \"15\": {\"15\": 24}, \"19\": {\"19\": 24}, \"55\": {\"55\": 22, \"56\": 2}, \"51\": {\"51\": 24}, \"52\": {\"52\": 24}, \"13\": {\"13\": 24}, \"22\": {\"22\": 22, \"24\": 2}, \"4\": {\"4\": 24}, \"43\": {\"43\": 24}, \"29\": {\"29\": 24}, \"33\": {\"33\": 24}, \"45\": {\"45\": 24}, \"10\": {\"10\": 24}, \"48\": {\"48\": 24}, \"2\": {\"2\": 24}, \"39\": {\"39\": 24}, \"44\": {\"44\": 24}, \"7\": {\"7\": 24}, \"53\": {\"53\": 24}, \"54\": {\"54\": 24}, \"46\": {\"46\": 24}, \"14\": {\"1\": 2, \"6\": 7, \"30\": 9, \"14\": 6}, \"47\": {\"47\": 24}, \"34\": {\"34\": 24}, \"42\": {\"42\": 24}, \"21\": {\"21\": 24}, \"26\": {\"26\": 24}, \"41\": {\"41\": 24}}, \"CORES_5\": {\"37\": {\"37\": 19, \"25\": 1}, \"22\": {\"22\": 19, \"3\": 1}, \"40\": {\"40\": 19, \"5\": 1}, \"19\": {\"19\": 20}, \"2\": {\"2\": 20}, \"0\": {\"0\": 20}, \"5\": {\"5\": 20}, \"25\": {\"25\": 20}, \"18\": {\"18\": 20}, \"4\": {\"4\": 20}, \"6\": {\"6\": 13, \"17\": 2, \"20\": 4, \"38\": 1}, \"21\": {\"21\": 20}, \"24\": {\"24\": 20}, \"35\": {\"35\": 20}, \"43\": {\"43\": 20}, \"14\": {\"5\": 4, \"14\": 10, \"54\": 6}, \"53\": {\"53\": 19, \"21\": 1}, \"11\": {\"11\": 20}, \"28\": {\"28\": 20}, \"49\": {\"49\": 20}, \"10\": {\"10\": 20}, \"27\": {\"27\": 20}, \"8\": {\"8\": 20}, \"46\": {\"46\": 19, \"16\": 1}, \"3\": {\"3\": 20}, \"17\": {\"17\": 20}, \"23\": {\"23\": 20}, \"20\": {\"20\": 20}, \"16\": {\"16\": 20}, \"55\": {\"55\": 20}, \"15\": {\"15\": 18, \"11\": 2}, \"45\": {\"45\": 19, \"4\": 1}, \"12\": {\"12\": 20}, \"30\": {\"30\": 20}, \"13\": {\"13\": 20}, \"54\": {\"54\": 20}, \"57\": {\"57\": 20}, \"1\": {\"1\": 20}, \"7\": {\"7\": 20}, \"33\": {\"33\": 20}, \"56\": {\"56\": 20}, \"44\": {\"44\": 20}, \"48\": {\"48\": 20}, \"36\": {\"36\": 19, \"39\": 1}, \"50\": {\"50\": 20}, \"32\": {\"32\": 20}, \"51\": {\"51\": 19, \"9\": 1}, \"52\": {\"52\": 20}, \"31\": {\"31\": 20}, \"39\": {\"39\": 20}, \"42\": {\"42\": 20}, \"9\": {\"9\": 20}, \"26\": {\"26\": 20}, \"38\": {\"38\": 20}, \"47\": {\"47\": 20}, \"34\": {\"34\": 20}, \"41\": {\"41\": 20}, \"29\": {\"29\": 20}}, \"CORES_4\": {\"25\": {\"25\": 16}, \"24\": {\"24\": 16}, \"6\": {\"6\": 14, \"53\": 1, \"51\": 1}, \"27\": {\"27\": 16}, \"35\": {\"35\": 16}, \"48\": {\"48\": 16}, \"0\": {\"0\": 16}, \"44\": {\"44\": 16}, \"50\": {\"50\": 16}, \"36\": {\"36\": 14, \"54\": 1, \"9\": 1}, \"13\": {\"13\": 16}, \"42\": {\"42\": 16}, \"38\": {\"38\": 16}, \"54\": {\"54\": 15, \"39\": 1}, \"33\": {\"33\": 16}, \"49\": {\"49\": 16}, \"28\": {\"28\": 16}, \"53\": {\"53\": 16}, \"16\": {\"16\": 16}, \"20\": {\"20\": 16}, \"12\": {\"12\": 16}, \"1\": {\"1\": 16}, \"5\": {\"5\": 14, \"17\": 1, \"16\": 1}, \"52\": {\"52\": 16}, \"39\": {\"39\": 16}, \"11\": {\"11\": 16}, \"3\": {\"3\": 15, \"50\": 1}, \"22\": {\"22\": 16}, \"23\": {\"23\": 16}, \"47\": {\"47\": 16}, \"32\": {\"32\": 16}, \"31\": {\"31\": 16}, \"4\": {\"4\": 16}, \"43\": {\"43\": 16}, \"46\": {\"46\": 12, \"5\": 1, \"48\": 1, \"47\": 1, \"7\": 1}, \"40\": {\"40\": 13, \"44\": 2, \"45\": 1}, \"55\": {\"55\": 15, \"28\": 1}, \"21\": {\"21\": 16}, \"56\": {\"56\": 16}, \"8\": {\"8\": 16}, \"37\": {\"37\": 16}, \"7\": {\"7\": 16}, \"14\": {\"14\": 4, \"0\": 6, \"29\": 2, \"44\": 3, \"31\": 1}, \"18\": {\"18\": 16}, \"26\": {\"26\": 16}, \"34\": {\"34\": 16}, \"45\": {\"45\": 16}, \"10\": {\"10\": 16}, \"15\": {\"15\": 15, \"11\": 1}, \"51\": {\"51\": 16}, \"30\": {\"30\": 16}, \"41\": {\"41\": 16}, \"2\": {\"2\": 16}, \"29\": {\"29\": 15, \"44\": 1}, \"19\": {\"19\": 16}, \"17\": {\"17\": 16}, \"9\": {\"9\": 16}, \"57\": {\"57\": 16}}, \"CORES_3\": {\"20\": {\"20\": 16}, \"56\": {\"56\": 16}, \"43\": {\"43\": 16}, \"1\": {\"1\": 16}, \"41\": {\"41\": 16}, \"29\": {\"29\": 16}, \"27\": {\"27\": 16}, \"4\": {\"4\": 16}, \"53\": {\"53\": 16}, \"22\": {\"22\": 16}, \"46\": {\"46\": 15, \"20\": 1}, \"54\": {\"54\": 16}, \"9\": {\"9\": 16}, \"5\": {\"5\": 16}, \"18\": {\"18\": 16}, \"45\": {\"45\": 16}, \"48\": {\"48\": 15, \"6\": 1}, \"35\": {\"35\": 16}, \"40\": {\"40\": 14, \"44\": 2}, \"33\": {\"33\": 16}, \"0\": {\"0\": 16}, \"44\": {\"44\": 16}, \"50\": {\"50\": 16}, \"38\": {\"38\": 16}, \"57\": {\"57\": 15, \"29\": 1}, \"15\": {\"15\": 16}, \"26\": {\"26\": 16}, \"51\": {\"51\": 16}, \"30\": {\"30\": 16}, \"47\": {\"47\": 16}, \"6\": {\"6\": 11, \"38\": 4, \"11\": 1}, \"8\": {\"8\": 16}, \"24\": {\"24\": 16}, \"12\": {\"12\": 16}, \"7\": {\"7\": 16}, \"49\": {\"49\": 16}, \"28\": {\"28\": 16}, \"2\": {\"2\": 16}, \"42\": {\"42\": 16}, \"11\": {\"11\": 16}, \"23\": {\"23\": 16}, \"17\": {\"17\": 16}, \"52\": {\"52\": 16}, \"31\": {\"31\": 16}, \"32\": {\"32\": 16}, \"21\": {\"21\": 16}, \"19\": {\"19\": 16}, \"39\": {\"39\": 16}, \"3\": {\"3\": 16}, \"13\": {\"13\": 16}, \"25\": {\"25\": 16}, \"55\": {\"55\": 16}, \"16\": {\"16\": 16}, \"37\": {\"37\": 16}, \"36\": {\"36\": 16}, \"14\": {\"14\": 7, \"28\": 7, \"42\": 2}, \"34\": {\"34\": 16}, \"10\": {\"10\": 16}}}, \"per_domain_accuracy\": {\"Wisig_2\": {\"accuracy\": 0.9513184584178499, \"source?\": true}, \"Wisig_4\": {\"accuracy\": 0.9440961337513062, \"source?\": true}, \"Wisig_1\": {\"accuracy\": 0.9646829810901001, \"source?\": true}, \"Wisig_3\": {\"accuracy\": 0.9621802002224694, \"source?\": true}, \"CORES_2\": {\"accuracy\": 0.9827586206896551, \"source?\": false}, \"CORES_1\": {\"accuracy\": 0.9798850574712644, \"source?\": false}, \"CORES_5\": {\"accuracy\": 0.9767241379310345, \"source?\": false}, \"CORES_4\": {\"accuracy\": 0.9676724137931034, \"source?\": false}, \"CORES_3\": {\"accuracy\": 0.9795258620689655, \"source?\": false}}}, \"history\": {\"epoch_indices\": [1, 2, 3], \"train_label_loss\": [0.5560738549762592, 0.2541094857475564, 0.1981356335910773], \"source_val_label_loss\": [0.3082219958305359, 0.2357763797044754, 0.19830410182476044], \"target_val_label_loss\": [0.20387545228004456, 0.17116647958755493, 0.1577652394771576], \"source_val_acc_label\": [0.9421946003742315, 0.9552927024859663, 0.9619754076450147], \"target_val_acc_label\": [0.9757543103448276, 0.9777298850574713, 0.9757543103448276]}, \"dataset_metrics\": {\"source\": {\"train\": {\"n_unique_x\": 140762, \"n_unique_y\": 130, \"n_batch/episode\": 911}, \"val\": {\"n_unique_x\": 26165, \"n_unique_y\": 130, \"n_batch/episode\": 129}, \"test\": {\"n_unique_x\": 26259, \"n_unique_y\": 130, \"n_batch/episode\": 130}}, \"target\": {\"train\": {\"n_unique_x\": 75914, \"n_unique_y\": 58, \"n_batch/episode\": 351}, \"val\": {\"n_unique_x\": 11872, \"n_unique_y\": 58, \"n_batch/episode\": 48}, \"test\": {\"n_unique_x\": 12298, \"n_unique_y\": 58, \"n_batch/episode\": 50}}}}'"
      ]
     },
     "execution_count": 29,
     "metadata": {},
     "output_type": "execute_result"
    }
   ],
   "source": [
    "json.dumps(experiment)"
   ]
  }
 ],
 "metadata": {
  "celltoolbar": "Tags",
  "kernelspec": {
   "display_name": "Python 3 (ipykernel)",
   "language": "python",
   "name": "python3"
  },
  "language_info": {
   "codemirror_mode": {
    "name": "ipython",
    "version": 3
   },
   "file_extension": ".py",
   "mimetype": "text/x-python",
   "name": "python",
   "nbconvert_exporter": "python",
   "pygments_lexer": "ipython3",
   "version": "3.8.12"
  },
  "papermill": {
   "default_parameters": {},
   "duration": 321.230738,
   "end_time": "2022-03-21T03:23:27.726004",
   "environment_variables": {},
   "exception": null,
   "input_path": "/root/csc500-main/csc500-notebooks/templates/tl_ptn_template.ipynb",
   "output_path": "trial.ipynb",
   "parameters": {
    "parameters": {
     "BEST_MODEL_PATH": "./best_model.pth",
     "NUM_LOGS_PER_EPOCH": 10,
     "criteria_for_best": "target_accuracy",
     "dataset_seed": 154325,
     "datasets": [
      {
       "domain_prefix": "CORES_",
       "domains": [
        1,
        2,
        3,
        4,
        5
       ],
       "episode_transforms": [],
       "labels": [
        "1-10.",
        "1-11.",
        "1-15.",
        "1-16.",
        "1-17.",
        "1-18.",
        "1-19.",
        "10-4.",
        "10-7.",
        "11-1.",
        "11-14.",
        "11-17.",
        "11-20.",
        "11-7.",
        "13-20.",
        "13-8.",
        "14-10.",
        "14-11.",
        "14-14.",
        "14-7.",
        "15-1.",
        "15-20.",
        "16-1.",
        "16-16.",
        "17-10.",
        "17-11.",
        "17-2.",
        "19-1.",
        "19-16.",
        "19-19.",
        "19-20.",
        "19-3.",
        "2-10.",
        "2-11.",
        "2-17.",
        "2-18.",
        "2-20.",
        "2-3.",
        "2-4.",
        "2-5.",
        "2-6.",
        "2-7.",
        "2-8.",
        "3-13.",
        "3-18.",
        "3-3.",
        "4-1.",
        "4-10.",
        "4-11.",
        "4-19.",
        "5-5.",
        "6-15.",
        "7-10.",
        "7-14.",
        "8-18.",
        "8-20.",
        "8-3.",
        "8-8."
       ],
       "num_examples_per_domain_per_label": -1,
       "pickle_path": "/root/csc500-main/datasets/cores.stratified_ds.2022A.pkl",
       "source_or_target_dataset": "target",
       "x_transforms": [
        "unit_mag"
       ]
      },
      {
       "domain_prefix": "Wisig_",
       "domains": [
        1,
        2,
        3,
        4
       ],
       "episode_transforms": [],
       "labels": [
        "1-10",
        "1-12",
        "1-14",
        "1-16",
        "1-18",
        "1-19",
        "1-8",
        "10-11",
        "10-17",
        "10-4",
        "10-7",
        "11-1",
        "11-10",
        "11-19",
        "11-20",
        "11-4",
        "11-7",
        "12-19",
        "12-20",
        "12-7",
        "13-14",
        "13-18",
        "13-19",
        "13-20",
        "13-3",
        "13-7",
        "14-10",
        "14-11",
        "14-12",
        "14-13",
        "14-14",
        "14-19",
        "14-20",
        "14-7",
        "14-8",
        "14-9",
        "15-1",
        "15-19",
        "15-6",
        "16-1",
        "16-16",
        "16-19",
        "16-20",
        "17-10",
        "17-11",
        "18-1",
        "18-10",
        "18-11",
        "18-12",
        "18-13",
        "18-14",
        "18-15",
        "18-16",
        "18-17",
        "18-19",
        "18-2",
        "18-20",
        "18-4",
        "18-5",
        "18-7",
        "18-8",
        "18-9",
        "19-1",
        "19-10",
        "19-11",
        "19-12",
        "19-13",
        "19-14",
        "19-15",
        "19-19",
        "19-2",
        "19-20",
        "19-3",
        "19-4",
        "19-6",
        "19-7",
        "19-8",
        "19-9",
        "2-1",
        "2-13",
        "2-15",
        "2-3",
        "2-4",
        "2-5",
        "2-6",
        "2-7",
        "2-8",
        "20-1",
        "20-12",
        "20-14",
        "20-15",
        "20-16",
        "20-18",
        "20-19",
        "20-20",
        "20-3",
        "20-4",
        "20-5",
        "20-7",
        "20-8",
        "3-1",
        "3-13",
        "3-18",
        "3-2",
        "3-8",
        "4-1",
        "4-10",
        "4-11",
        "5-1",
        "5-5",
        "6-1",
        "6-15",
        "6-6",
        "7-10",
        "7-11",
        "7-12",
        "7-13",
        "7-14",
        "7-7",
        "7-8",
        "7-9",
        "8-1",
        "8-13",
        "8-14",
        "8-18",
        "8-20",
        "8-3",
        "8-8",
        "9-1",
        "9-7"
       ],
       "num_examples_per_domain_per_label": -1,
       "pickle_path": "/root/csc500-main/datasets/wisig.node3-19.stratified_ds.2022A.pkl",
       "source_or_target_dataset": "source",
       "x_transforms": [
        "unit_mag"
       ]
      }
     ],
     "device": "cuda",
     "experiment_name": "tl_1v2:cores-wisig",
     "lr": 0.0001,
     "n_epoch": 3,
     "n_query": 2,
     "n_shot": 3,
     "n_way": 58,
     "patience": 3,
     "seed": 154325,
     "test_k_factor": 2,
     "torch_default_dtype": "torch.float32",
     "train_k_factor": 3,
     "val_k_factor": 2,
     "x_net": [
      {
       "class": "nnReshape",
       "kargs": {
        "shape": [
         -1,
         1,
         2,
         256
        ]
       }
      },
      {
       "class": "Conv2d",
       "kargs": {
        "bias": false,
        "in_channels": 1,
        "kernel_size": [
         1,
         7
        ],
        "out_channels": 256,
        "padding": [
         0,
         3
        ]
       }
      },
      {
       "class": "ReLU",
       "kargs": {
        "inplace": true
       }
      },
      {
       "class": "BatchNorm2d",
       "kargs": {
        "num_features": 256
       }
      },
      {
       "class": "Conv2d",
       "kargs": {
        "bias": true,
        "in_channels": 256,
        "kernel_size": [
         2,
         7
        ],
        "out_channels": 80,
        "padding": [
         0,
         3
        ]
       }
      },
      {
       "class": "ReLU",
       "kargs": {
        "inplace": true
       }
      },
      {
       "class": "BatchNorm2d",
       "kargs": {
        "num_features": 80
       }
      },
      {
       "class": "Flatten",
       "kargs": {}
      },
      {
       "class": "Linear",
       "kargs": {
        "in_features": 20480,
        "out_features": 256
       }
      },
      {
       "class": "ReLU",
       "kargs": {
        "inplace": true
       }
      },
      {
       "class": "BatchNorm1d",
       "kargs": {
        "num_features": 256
       }
      },
      {
       "class": "Linear",
       "kargs": {
        "in_features": 256,
        "out_features": 256
       }
      }
     ]
    }
   },
   "start_time": "2022-03-21T03:18:06.495266",
   "version": "2.3.4"
  }
 },
 "nbformat": 4,
 "nbformat_minor": 5
}