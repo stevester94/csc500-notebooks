{
 "cells": [
  {
   "cell_type": "markdown",
   "id": "9fea5f46",
   "metadata": {
    "papermill": {
     "duration": 0.031782,
     "end_time": "2022-03-21T03:08:40.664724",
     "exception": false,
     "start_time": "2022-03-21T03:08:40.632942",
     "status": "completed"
    },
    "tags": []
   },
   "source": [
    "# Transfer Learning Template"
   ]
  },
  {
   "cell_type": "code",
   "execution_count": 1,
   "id": "0902182a",
   "metadata": {
    "execution": {
     "iopub.execute_input": "2022-03-21T03:08:40.733590Z",
     "iopub.status.busy": "2022-03-21T03:08:40.732726Z",
     "iopub.status.idle": "2022-03-21T03:08:42.633780Z",
     "shell.execute_reply": "2022-03-21T03:08:42.632888Z"
    },
    "papermill": {
     "duration": 1.941504,
     "end_time": "2022-03-21T03:08:42.633976",
     "exception": false,
     "start_time": "2022-03-21T03:08:40.692472",
     "status": "completed"
    },
    "tags": []
   },
   "outputs": [],
   "source": [
    "%load_ext autoreload\n",
    "%autoreload 2\n",
    "%matplotlib inline\n",
    "\n",
    "    \n",
    "import os, json, sys, time, random\n",
    "import numpy as np\n",
    "import torch\n",
    "from torch.optim import Adam\n",
    "from  easydict import EasyDict\n",
    "import matplotlib.pyplot as plt\n",
    "\n",
    "from steves_models.steves_ptn import Steves_Prototypical_Network\n",
    "\n",
    "from steves_utils.lazy_iterable_wrapper import Lazy_Iterable_Wrapper\n",
    "from steves_utils.iterable_aggregator import Iterable_Aggregator\n",
    "from steves_utils.ptn_train_eval_test_jig import  PTN_Train_Eval_Test_Jig\n",
    "from steves_utils.torch_sequential_builder import build_sequential\n",
    "from steves_utils.torch_utils import get_dataset_metrics, ptn_confusion_by_domain_over_dataloader\n",
    "from steves_utils.utils_v2 import (per_domain_accuracy_from_confusion, get_datasets_base_path)\n",
    "from steves_utils.PTN.utils import independent_accuracy_assesment\n",
    "\n",
    "from torch.utils.data import DataLoader\n",
    "\n",
    "from steves_utils.stratified_dataset.episodic_accessor import Episodic_Accessor_Factory\n",
    "\n",
    "from steves_utils.ptn_do_report import (\n",
    "    get_loss_curve,\n",
    "    get_results_table,\n",
    "    get_parameters_table,\n",
    "    get_domain_accuracies,\n",
    ")\n",
    "\n",
    "from steves_utils.transforms import get_chained_transform"
   ]
  },
  {
   "cell_type": "markdown",
   "id": "41c840b4",
   "metadata": {
    "papermill": {
     "duration": 0.018229,
     "end_time": "2022-03-21T03:08:42.677517",
     "exception": false,
     "start_time": "2022-03-21T03:08:42.659288",
     "status": "completed"
    },
    "tags": []
   },
   "source": [
    "# Allowed Parameters\n",
    "These are allowed parameters, not defaults\n",
    "Each of these values need to be present in the injected parameters (the notebook will raise an exception if they are not present)\n",
    "\n",
    "Papermill uses the cell tag \"parameters\" to inject the real parameters below this cell.\n",
    "Enable tags to see what I mean"
   ]
  },
  {
   "cell_type": "code",
   "execution_count": 2,
   "id": "fd44eb83",
   "metadata": {
    "execution": {
     "iopub.execute_input": "2022-03-21T03:08:42.719798Z",
     "iopub.status.busy": "2022-03-21T03:08:42.719247Z",
     "iopub.status.idle": "2022-03-21T03:08:42.741941Z",
     "shell.execute_reply": "2022-03-21T03:08:42.741149Z"
    },
    "papermill": {
     "duration": 0.046174,
     "end_time": "2022-03-21T03:08:42.742093",
     "exception": false,
     "start_time": "2022-03-21T03:08:42.695919",
     "status": "completed"
    },
    "tags": []
   },
   "outputs": [],
   "source": [
    "required_parameters = {\n",
    "    \"experiment_name\",\n",
    "    \"lr\",\n",
    "    \"device\",\n",
    "    \"seed\",\n",
    "    \"dataset_seed\",\n",
    "    \"n_shot\",\n",
    "    \"n_query\",\n",
    "    \"n_way\",\n",
    "    \"train_k_factor\",\n",
    "    \"val_k_factor\",\n",
    "    \"test_k_factor\",\n",
    "    \"n_epoch\",\n",
    "    \"patience\",\n",
    "    \"criteria_for_best\",\n",
    "    \"x_net\",\n",
    "    \"datasets\",\n",
    "    \"torch_default_dtype\",\n",
    "    \"NUM_LOGS_PER_EPOCH\",\n",
    "    \"BEST_MODEL_PATH\",\n",
    "    \"x_shape\",\n",
    "}"
   ]
  },
  {
   "cell_type": "code",
   "execution_count": 3,
   "id": "fa3f0049",
   "metadata": {
    "execution": {
     "iopub.execute_input": "2022-03-21T03:08:42.799832Z",
     "iopub.status.busy": "2022-03-21T03:08:42.798894Z",
     "iopub.status.idle": "2022-03-21T03:08:42.824044Z",
     "shell.execute_reply": "2022-03-21T03:08:42.823234Z"
    },
    "papermill": {
     "duration": 0.057803,
     "end_time": "2022-03-21T03:08:42.824231",
     "exception": false,
     "start_time": "2022-03-21T03:08:42.766428",
     "status": "completed"
    },
    "tags": [
     "parameters"
    ]
   },
   "outputs": [],
   "source": [
    "from steves_utils.CORES.utils import (\n",
    "    ALL_NODES,\n",
    "    ALL_NODES_MINIMUM_1000_EXAMPLES,\n",
    "    ALL_DAYS\n",
    ")\n",
    "\n",
    "from steves_utils.ORACLE.utils_v2 import (\n",
    "    ALL_DISTANCES_FEET_NARROWED,\n",
    "    ALL_RUNS,\n",
    "    ALL_SERIAL_NUMBERS,\n",
    ")\n",
    "\n",
    "standalone_parameters = {}\n",
    "standalone_parameters[\"experiment_name\"] = \"STANDALONE PTN\"\n",
    "standalone_parameters[\"lr\"] = 0.001\n",
    "standalone_parameters[\"device\"] = \"cuda\"\n",
    "\n",
    "standalone_parameters[\"seed\"] = 1337\n",
    "standalone_parameters[\"dataset_seed\"] = 1337\n",
    "\n",
    "standalone_parameters[\"n_way\"] = 8\n",
    "standalone_parameters[\"n_shot\"] = 3\n",
    "standalone_parameters[\"n_query\"]  = 2\n",
    "standalone_parameters[\"train_k_factor\"] = 1\n",
    "standalone_parameters[\"val_k_factor\"] = 2\n",
    "standalone_parameters[\"test_k_factor\"] = 2\n",
    "\n",
    "\n",
    "standalone_parameters[\"n_epoch\"] = 50\n",
    "\n",
    "standalone_parameters[\"patience\"] = 10\n",
    "standalone_parameters[\"criteria_for_best\"] = \"source_loss\"\n",
    "\n",
    "standalone_parameters[\"datasets\"] = [\n",
    "    {\n",
    "        \"labels\": ALL_SERIAL_NUMBERS,\n",
    "        \"domains\": ALL_DISTANCES_FEET_NARROWED,\n",
    "        \"num_examples_per_domain_per_label\": 100,\n",
    "        \"pickle_path\": os.path.join(get_datasets_base_path(), \"oracle.Run1_framed_2000Examples_stratified_ds.2022A.pkl\"),\n",
    "        \"source_or_target_dataset\": \"source\",\n",
    "        \"x_transforms\": [\"unit_mag\", \"minus_two\"],\n",
    "        \"episode_transforms\": [],\n",
    "        \"domain_prefix\": \"ORACLE_\"\n",
    "    },\n",
    "    {\n",
    "        \"labels\": ALL_NODES,\n",
    "        \"domains\": ALL_DAYS,\n",
    "        \"num_examples_per_domain_per_label\": 100,\n",
    "        \"pickle_path\": os.path.join(get_datasets_base_path(), \"cores.stratified_ds.2022A.pkl\"),\n",
    "        \"source_or_target_dataset\": \"target\",\n",
    "        \"x_transforms\": [\"unit_power\", \"times_zero\"],\n",
    "        \"episode_transforms\": [],\n",
    "        \"domain_prefix\": \"CORES_\"\n",
    "    }   \n",
    "]\n",
    "\n",
    "standalone_parameters[\"torch_default_dtype\"] = \"torch.float32\" \n",
    "\n",
    "\n",
    "\n",
    "standalone_parameters[\"x_net\"] =     [\n",
    "    {\"class\": \"nnReshape\", \"kargs\": {\"shape\":[-1, 1, 2, 256]}},\n",
    "    {\"class\": \"Conv2d\", \"kargs\": { \"in_channels\":1, \"out_channels\":256, \"kernel_size\":(1,7), \"bias\":False, \"padding\":(0,3), },},\n",
    "    {\"class\": \"ReLU\", \"kargs\": {\"inplace\": True}},\n",
    "    {\"class\": \"BatchNorm2d\", \"kargs\": {\"num_features\":256}},\n",
    "\n",
    "    {\"class\": \"Conv2d\", \"kargs\": { \"in_channels\":256, \"out_channels\":80, \"kernel_size\":(2,7), \"bias\":True, \"padding\":(0,3), },},\n",
    "    {\"class\": \"ReLU\", \"kargs\": {\"inplace\": True}},\n",
    "    {\"class\": \"BatchNorm2d\", \"kargs\": {\"num_features\":80}},\n",
    "    {\"class\": \"Flatten\", \"kargs\": {}},\n",
    "\n",
    "    {\"class\": \"Linear\", \"kargs\": {\"in_features\": 80*256, \"out_features\": 256}}, # 80 units per IQ pair\n",
    "    {\"class\": \"ReLU\", \"kargs\": {\"inplace\": True}},\n",
    "    {\"class\": \"BatchNorm1d\", \"kargs\": {\"num_features\":256}},\n",
    "\n",
    "    {\"class\": \"Linear\", \"kargs\": {\"in_features\": 256, \"out_features\": 256}},\n",
    "]\n",
    "\n",
    "# Parameters relevant to results\n",
    "# These parameters will basically never need to change\n",
    "standalone_parameters[\"NUM_LOGS_PER_EPOCH\"] = 10\n",
    "standalone_parameters[\"BEST_MODEL_PATH\"] = \"./best_model.pth\"\n",
    "\n",
    "\n",
    "\n",
    "\n"
   ]
  },
  {
   "cell_type": "code",
   "execution_count": 4,
   "id": "5a568bf3",
   "metadata": {
    "execution": {
     "iopub.execute_input": "2022-03-21T03:08:42.888310Z",
     "iopub.status.busy": "2022-03-21T03:08:42.887233Z",
     "iopub.status.idle": "2022-03-21T03:08:42.913720Z",
     "shell.execute_reply": "2022-03-21T03:08:42.913011Z"
    },
    "papermill": {
     "duration": 0.065215,
     "end_time": "2022-03-21T03:08:42.913885",
     "exception": false,
     "start_time": "2022-03-21T03:08:42.848670",
     "status": "completed"
    },
    "tags": [
     "injected-parameters"
    ]
   },
   "outputs": [],
   "source": [
    "# Parameters\n",
    "parameters = {\n",
    "    \"experiment_name\": \"tl_1v2:cores-wisig\",\n",
    "    \"device\": \"cuda\",\n",
    "    \"lr\": 0.0001,\n",
    "    \"n_shot\": 3,\n",
    "    \"n_query\": 2,\n",
    "    \"train_k_factor\": 3,\n",
    "    \"val_k_factor\": 2,\n",
    "    \"test_k_factor\": 2,\n",
    "    \"torch_default_dtype\": \"torch.float32\",\n",
    "    \"n_epoch\": 3,\n",
    "    \"patience\": 3,\n",
    "    \"criteria_for_best\": \"target_accuracy\",\n",
    "    \"x_net\": [\n",
    "        {\"class\": \"nnReshape\", \"kargs\": {\"shape\": [-1, 1, 2, 256]}},\n",
    "        {\n",
    "            \"class\": \"Conv2d\",\n",
    "            \"kargs\": {\n",
    "                \"in_channels\": 1,\n",
    "                \"out_channels\": 256,\n",
    "                \"kernel_size\": [1, 7],\n",
    "                \"bias\": False,\n",
    "                \"padding\": [0, 3],\n",
    "            },\n",
    "        },\n",
    "        {\"class\": \"ReLU\", \"kargs\": {\"inplace\": True}},\n",
    "        {\"class\": \"BatchNorm2d\", \"kargs\": {\"num_features\": 256}},\n",
    "        {\n",
    "            \"class\": \"Conv2d\",\n",
    "            \"kargs\": {\n",
    "                \"in_channels\": 256,\n",
    "                \"out_channels\": 80,\n",
    "                \"kernel_size\": [2, 7],\n",
    "                \"bias\": True,\n",
    "                \"padding\": [0, 3],\n",
    "            },\n",
    "        },\n",
    "        {\"class\": \"ReLU\", \"kargs\": {\"inplace\": True}},\n",
    "        {\"class\": \"BatchNorm2d\", \"kargs\": {\"num_features\": 80}},\n",
    "        {\"class\": \"Flatten\", \"kargs\": {}},\n",
    "        {\"class\": \"Linear\", \"kargs\": {\"in_features\": 20480, \"out_features\": 256}},\n",
    "        {\"class\": \"ReLU\", \"kargs\": {\"inplace\": True}},\n",
    "        {\"class\": \"BatchNorm1d\", \"kargs\": {\"num_features\": 256}},\n",
    "        {\"class\": \"Linear\", \"kargs\": {\"in_features\": 256, \"out_features\": 256}},\n",
    "    ],\n",
    "    \"NUM_LOGS_PER_EPOCH\": 10,\n",
    "    \"BEST_MODEL_PATH\": \"./best_model.pth\",\n",
    "    \"n_way\": 58,\n",
    "    \"datasets\": [\n",
    "        {\n",
    "            \"labels\": [\n",
    "                \"1-10.\",\n",
    "                \"1-11.\",\n",
    "                \"1-15.\",\n",
    "                \"1-16.\",\n",
    "                \"1-17.\",\n",
    "                \"1-18.\",\n",
    "                \"1-19.\",\n",
    "                \"10-4.\",\n",
    "                \"10-7.\",\n",
    "                \"11-1.\",\n",
    "                \"11-14.\",\n",
    "                \"11-17.\",\n",
    "                \"11-20.\",\n",
    "                \"11-7.\",\n",
    "                \"13-20.\",\n",
    "                \"13-8.\",\n",
    "                \"14-10.\",\n",
    "                \"14-11.\",\n",
    "                \"14-14.\",\n",
    "                \"14-7.\",\n",
    "                \"15-1.\",\n",
    "                \"15-20.\",\n",
    "                \"16-1.\",\n",
    "                \"16-16.\",\n",
    "                \"17-10.\",\n",
    "                \"17-11.\",\n",
    "                \"17-2.\",\n",
    "                \"19-1.\",\n",
    "                \"19-16.\",\n",
    "                \"19-19.\",\n",
    "                \"19-20.\",\n",
    "                \"19-3.\",\n",
    "                \"2-10.\",\n",
    "                \"2-11.\",\n",
    "                \"2-17.\",\n",
    "                \"2-18.\",\n",
    "                \"2-20.\",\n",
    "                \"2-3.\",\n",
    "                \"2-4.\",\n",
    "                \"2-5.\",\n",
    "                \"2-6.\",\n",
    "                \"2-7.\",\n",
    "                \"2-8.\",\n",
    "                \"3-13.\",\n",
    "                \"3-18.\",\n",
    "                \"3-3.\",\n",
    "                \"4-1.\",\n",
    "                \"4-10.\",\n",
    "                \"4-11.\",\n",
    "                \"4-19.\",\n",
    "                \"5-5.\",\n",
    "                \"6-15.\",\n",
    "                \"7-10.\",\n",
    "                \"7-14.\",\n",
    "                \"8-18.\",\n",
    "                \"8-20.\",\n",
    "                \"8-3.\",\n",
    "                \"8-8.\",\n",
    "            ],\n",
    "            \"domains\": [1, 2, 3, 4, 5],\n",
    "            \"num_examples_per_domain_per_label\": -1,\n",
    "            \"pickle_path\": \"/root/csc500-main/datasets/cores.stratified_ds.2022A.pkl\",\n",
    "            \"source_or_target_dataset\": \"source\",\n",
    "            \"x_transforms\": [],\n",
    "            \"episode_transforms\": [],\n",
    "            \"domain_prefix\": \"CORES_\",\n",
    "        },\n",
    "        {\n",
    "            \"labels\": [\n",
    "                \"1-10\",\n",
    "                \"1-12\",\n",
    "                \"1-14\",\n",
    "                \"1-16\",\n",
    "                \"1-18\",\n",
    "                \"1-19\",\n",
    "                \"1-8\",\n",
    "                \"10-11\",\n",
    "                \"10-17\",\n",
    "                \"10-4\",\n",
    "                \"10-7\",\n",
    "                \"11-1\",\n",
    "                \"11-10\",\n",
    "                \"11-19\",\n",
    "                \"11-20\",\n",
    "                \"11-4\",\n",
    "                \"11-7\",\n",
    "                \"12-19\",\n",
    "                \"12-20\",\n",
    "                \"12-7\",\n",
    "                \"13-14\",\n",
    "                \"13-18\",\n",
    "                \"13-19\",\n",
    "                \"13-20\",\n",
    "                \"13-3\",\n",
    "                \"13-7\",\n",
    "                \"14-10\",\n",
    "                \"14-11\",\n",
    "                \"14-12\",\n",
    "                \"14-13\",\n",
    "                \"14-14\",\n",
    "                \"14-19\",\n",
    "                \"14-20\",\n",
    "                \"14-7\",\n",
    "                \"14-8\",\n",
    "                \"14-9\",\n",
    "                \"15-1\",\n",
    "                \"15-19\",\n",
    "                \"15-6\",\n",
    "                \"16-1\",\n",
    "                \"16-16\",\n",
    "                \"16-19\",\n",
    "                \"16-20\",\n",
    "                \"17-10\",\n",
    "                \"17-11\",\n",
    "                \"18-1\",\n",
    "                \"18-10\",\n",
    "                \"18-11\",\n",
    "                \"18-12\",\n",
    "                \"18-13\",\n",
    "                \"18-14\",\n",
    "                \"18-15\",\n",
    "                \"18-16\",\n",
    "                \"18-17\",\n",
    "                \"18-19\",\n",
    "                \"18-2\",\n",
    "                \"18-20\",\n",
    "                \"18-4\",\n",
    "                \"18-5\",\n",
    "                \"18-7\",\n",
    "                \"18-8\",\n",
    "                \"18-9\",\n",
    "                \"19-1\",\n",
    "                \"19-10\",\n",
    "                \"19-11\",\n",
    "                \"19-12\",\n",
    "                \"19-13\",\n",
    "                \"19-14\",\n",
    "                \"19-15\",\n",
    "                \"19-19\",\n",
    "                \"19-2\",\n",
    "                \"19-20\",\n",
    "                \"19-3\",\n",
    "                \"19-4\",\n",
    "                \"19-6\",\n",
    "                \"19-7\",\n",
    "                \"19-8\",\n",
    "                \"19-9\",\n",
    "                \"2-1\",\n",
    "                \"2-13\",\n",
    "                \"2-15\",\n",
    "                \"2-3\",\n",
    "                \"2-4\",\n",
    "                \"2-5\",\n",
    "                \"2-6\",\n",
    "                \"2-7\",\n",
    "                \"2-8\",\n",
    "                \"20-1\",\n",
    "                \"20-12\",\n",
    "                \"20-14\",\n",
    "                \"20-15\",\n",
    "                \"20-16\",\n",
    "                \"20-18\",\n",
    "                \"20-19\",\n",
    "                \"20-20\",\n",
    "                \"20-3\",\n",
    "                \"20-4\",\n",
    "                \"20-5\",\n",
    "                \"20-7\",\n",
    "                \"20-8\",\n",
    "                \"3-1\",\n",
    "                \"3-13\",\n",
    "                \"3-18\",\n",
    "                \"3-2\",\n",
    "                \"3-8\",\n",
    "                \"4-1\",\n",
    "                \"4-10\",\n",
    "                \"4-11\",\n",
    "                \"5-1\",\n",
    "                \"5-5\",\n",
    "                \"6-1\",\n",
    "                \"6-15\",\n",
    "                \"6-6\",\n",
    "                \"7-10\",\n",
    "                \"7-11\",\n",
    "                \"7-12\",\n",
    "                \"7-13\",\n",
    "                \"7-14\",\n",
    "                \"7-7\",\n",
    "                \"7-8\",\n",
    "                \"7-9\",\n",
    "                \"8-1\",\n",
    "                \"8-13\",\n",
    "                \"8-14\",\n",
    "                \"8-18\",\n",
    "                \"8-20\",\n",
    "                \"8-3\",\n",
    "                \"8-8\",\n",
    "                \"9-1\",\n",
    "                \"9-7\",\n",
    "            ],\n",
    "            \"domains\": [1, 2, 3, 4],\n",
    "            \"num_examples_per_domain_per_label\": -1,\n",
    "            \"pickle_path\": \"/root/csc500-main/datasets/wisig.node3-19.stratified_ds.2022A.pkl\",\n",
    "            \"source_or_target_dataset\": \"target\",\n",
    "            \"x_transforms\": [],\n",
    "            \"episode_transforms\": [],\n",
    "            \"domain_prefix\": \"Wisig_\",\n",
    "        },\n",
    "    ],\n",
    "    \"dataset_seed\": 154325,\n",
    "    \"seed\": 154325,\n",
    "}\n"
   ]
  },
  {
   "cell_type": "code",
   "execution_count": 5,
   "id": "8fa1cc33",
   "metadata": {
    "execution": {
     "iopub.execute_input": "2022-03-21T03:08:42.964266Z",
     "iopub.status.busy": "2022-03-21T03:08:42.963630Z",
     "iopub.status.idle": "2022-03-21T03:08:42.984192Z",
     "shell.execute_reply": "2022-03-21T03:08:42.983361Z"
    },
    "papermill": {
     "duration": 0.045528,
     "end_time": "2022-03-21T03:08:42.984347",
     "exception": false,
     "start_time": "2022-03-21T03:08:42.938819",
     "status": "completed"
    },
    "tags": []
   },
   "outputs": [],
   "source": [
    "# Set this to True if you want to run this template directly\n",
    "STANDALONE = False\n",
    "if STANDALONE:\n",
    "    print(\"parameters not injected, running with standalone_parameters\")\n",
    "    parameters = standalone_parameters\n",
    "\n",
    "if not 'parameters' in locals() and not 'parameters' in globals():\n",
    "    raise Exception(\"Parameter injection failed\")\n",
    "\n",
    "#Use an easy dict for all the parameters\n",
    "p = EasyDict(parameters)\n",
    "\n",
    "if \"x_shape\" not in p:\n",
    "    p.x_shape = [2,256] # Default to this if we dont supply x_shape\n",
    "\n",
    "\n",
    "supplied_keys = set(p.keys())\n",
    "\n",
    "if  supplied_keys != required_parameters:\n",
    "    print(\"Parameters are incorrect\")\n",
    "    if len(supplied_keys - required_parameters)>0: print(\"Shouldn't have:\", str(supplied_keys - required_parameters))\n",
    "    if len(required_parameters - supplied_keys)>0: print(\"Need to have:\", str(required_parameters - supplied_keys))\n",
    "    raise RuntimeError(\"Parameters are incorrect\")"
   ]
  },
  {
   "cell_type": "code",
   "execution_count": 6,
   "id": "3a028d58",
   "metadata": {
    "execution": {
     "iopub.execute_input": "2022-03-21T03:08:43.034262Z",
     "iopub.status.busy": "2022-03-21T03:08:43.033605Z",
     "iopub.status.idle": "2022-03-21T03:08:43.055095Z",
     "shell.execute_reply": "2022-03-21T03:08:43.054303Z"
    },
    "papermill": {
     "duration": 0.045379,
     "end_time": "2022-03-21T03:08:43.055247",
     "exception": false,
     "start_time": "2022-03-21T03:08:43.009868",
     "status": "completed"
    },
    "tags": []
   },
   "outputs": [],
   "source": [
    "###################################\n",
    "# Set the RNGs and make it all deterministic\n",
    "###################################\n",
    "np.random.seed(p.seed)\n",
    "random.seed(p.seed)\n",
    "torch.manual_seed(p.seed)\n",
    "\n",
    "torch.use_deterministic_algorithms(True) "
   ]
  },
  {
   "cell_type": "code",
   "execution_count": 7,
   "id": "b691acf6",
   "metadata": {
    "execution": {
     "iopub.execute_input": "2022-03-21T03:08:43.106889Z",
     "iopub.status.busy": "2022-03-21T03:08:43.104093Z",
     "iopub.status.idle": "2022-03-21T03:08:43.127162Z",
     "shell.execute_reply": "2022-03-21T03:08:43.127808Z"
    },
    "papermill": {
     "duration": 0.046508,
     "end_time": "2022-03-21T03:08:43.127988",
     "exception": false,
     "start_time": "2022-03-21T03:08:43.081480",
     "status": "completed"
    },
    "tags": []
   },
   "outputs": [],
   "source": [
    "###########################################\n",
    "# The stratified datasets honor this\n",
    "###########################################\n",
    "torch.set_default_dtype(eval(p.torch_default_dtype))"
   ]
  },
  {
   "cell_type": "code",
   "execution_count": 8,
   "id": "b5fba671",
   "metadata": {
    "execution": {
     "iopub.execute_input": "2022-03-21T03:08:43.174092Z",
     "iopub.status.busy": "2022-03-21T03:08:43.173733Z",
     "iopub.status.idle": "2022-03-21T03:08:43.227842Z",
     "shell.execute_reply": "2022-03-21T03:08:43.227119Z"
    },
    "papermill": {
     "duration": 0.076545,
     "end_time": "2022-03-21T03:08:43.228000",
     "exception": false,
     "start_time": "2022-03-21T03:08:43.151455",
     "status": "completed"
    },
    "tags": []
   },
   "outputs": [],
   "source": [
    "###################################\n",
    "# Build the network(s)\n",
    "# Note: It's critical to do this AFTER setting the RNG\n",
    "###################################\n",
    "x_net = build_sequential(p.x_net)"
   ]
  },
  {
   "cell_type": "code",
   "execution_count": 9,
   "id": "5d7e61cc",
   "metadata": {
    "execution": {
     "iopub.execute_input": "2022-03-21T03:08:43.277237Z",
     "iopub.status.busy": "2022-03-21T03:08:43.276870Z",
     "iopub.status.idle": "2022-03-21T03:08:43.302844Z",
     "shell.execute_reply": "2022-03-21T03:08:43.302031Z"
    },
    "papermill": {
     "duration": 0.05025,
     "end_time": "2022-03-21T03:08:43.303009",
     "exception": false,
     "start_time": "2022-03-21T03:08:43.252759",
     "status": "completed"
    },
    "tags": []
   },
   "outputs": [],
   "source": [
    "start_time_secs = time.time()"
   ]
  },
  {
   "cell_type": "code",
   "execution_count": 10,
   "id": "c6b67dfd",
   "metadata": {
    "execution": {
     "iopub.execute_input": "2022-03-21T03:08:43.353095Z",
     "iopub.status.busy": "2022-03-21T03:08:43.352540Z",
     "iopub.status.idle": "2022-03-21T03:08:43.381177Z",
     "shell.execute_reply": "2022-03-21T03:08:43.380578Z"
    },
    "papermill": {
     "duration": 0.053388,
     "end_time": "2022-03-21T03:08:43.381305",
     "exception": false,
     "start_time": "2022-03-21T03:08:43.327917",
     "status": "completed"
    },
    "tags": []
   },
   "outputs": [],
   "source": [
    "p.domains_source = []\n",
    "p.domains_target = []\n",
    "\n",
    "\n",
    "train_original_source = []\n",
    "val_original_source   = []\n",
    "test_original_source  = []\n",
    "\n",
    "train_original_target = []\n",
    "val_original_target   = []\n",
    "test_original_target  = []"
   ]
  },
  {
   "cell_type": "code",
   "execution_count": 11,
   "id": "e3d9c3d3",
   "metadata": {
    "execution": {
     "iopub.execute_input": "2022-03-21T03:08:43.432443Z",
     "iopub.status.busy": "2022-03-21T03:08:43.432006Z",
     "iopub.status.idle": "2022-03-21T03:08:43.456276Z",
     "shell.execute_reply": "2022-03-21T03:08:43.455451Z"
    },
    "papermill": {
     "duration": 0.047272,
     "end_time": "2022-03-21T03:08:43.456430",
     "exception": false,
     "start_time": "2022-03-21T03:08:43.409158",
     "status": "completed"
    },
    "tags": []
   },
   "outputs": [],
   "source": [
    "# global_x_transform_func = lambda x: normalize(x.to(torch.get_default_dtype()), \"unit_power\") # unit_power, unit_mag\n",
    "# global_x_transform_func = lambda x: normalize(x, \"unit_power\") # unit_power, unit_mag"
   ]
  },
  {
   "cell_type": "code",
   "execution_count": 12,
   "id": "acb78fd2",
   "metadata": {
    "execution": {
     "iopub.execute_input": "2022-03-21T03:08:43.518470Z",
     "iopub.status.busy": "2022-03-21T03:08:43.517817Z",
     "iopub.status.idle": "2022-03-21T03:08:43.537550Z",
     "shell.execute_reply": "2022-03-21T03:08:43.536751Z"
    },
    "papermill": {
     "duration": 0.052392,
     "end_time": "2022-03-21T03:08:43.537703",
     "exception": false,
     "start_time": "2022-03-21T03:08:43.485311",
     "status": "completed"
    },
    "tags": []
   },
   "outputs": [],
   "source": [
    "def add_dataset(\n",
    "    labels,\n",
    "    domains,\n",
    "    pickle_path,\n",
    "    x_transforms,\n",
    "    episode_transforms,\n",
    "    domain_prefix,\n",
    "    num_examples_per_domain_per_label,\n",
    "    source_or_target_dataset:str,\n",
    "    iterator_seed=p.seed,\n",
    "    dataset_seed=p.dataset_seed,\n",
    "    n_shot=p.n_shot,\n",
    "    n_way=p.n_way,\n",
    "    n_query=p.n_query,\n",
    "    train_val_test_k_factors=(p.train_k_factor,p.val_k_factor,p.test_k_factor),\n",
    "):\n",
    "   \n",
    "    if x_transforms == []: x_transform = None\n",
    "    else: x_transform = get_chained_transform(x_transforms)\n",
    "    \n",
    "    if episode_transforms == []: episode_transform = None\n",
    "    else: raise Exception(\"episode_transforms not implemented\")\n",
    "    \n",
    "    episode_transform = lambda tup, _prefix=domain_prefix: (_prefix + str(tup[0]), tup[1])\n",
    "\n",
    "\n",
    "    eaf = Episodic_Accessor_Factory(\n",
    "        labels=labels,\n",
    "        domains=domains,\n",
    "        num_examples_per_domain_per_label=num_examples_per_domain_per_label,\n",
    "        iterator_seed=iterator_seed,\n",
    "        dataset_seed=dataset_seed,\n",
    "        n_shot=n_shot,\n",
    "        n_way=n_way,\n",
    "        n_query=n_query,\n",
    "        train_val_test_k_factors=train_val_test_k_factors,\n",
    "        pickle_path=pickle_path,\n",
    "        x_transform_func=x_transform,\n",
    "    )\n",
    "\n",
    "    train, val, test = eaf.get_train(), eaf.get_val(), eaf.get_test()\n",
    "    train = Lazy_Iterable_Wrapper(train, episode_transform)\n",
    "    val = Lazy_Iterable_Wrapper(val, episode_transform)\n",
    "    test = Lazy_Iterable_Wrapper(test, episode_transform)\n",
    "\n",
    "    if source_or_target_dataset==\"source\":\n",
    "        train_original_source.append(train)\n",
    "        val_original_source.append(val)\n",
    "        test_original_source.append(test)\n",
    "\n",
    "        p.domains_source.extend(\n",
    "            [domain_prefix + str(u) for u in domains]\n",
    "        )\n",
    "    elif source_or_target_dataset==\"target\":\n",
    "        train_original_target.append(train)\n",
    "        val_original_target.append(val)\n",
    "        test_original_target.append(test)\n",
    "        p.domains_target.extend(\n",
    "            [domain_prefix + str(u) for u in domains]\n",
    "        )\n",
    "    else:\n",
    "        raise Exception(f\"invalid source_or_target_dataset: {source_or_target_dataset}\")\n",
    "    "
   ]
  },
  {
   "cell_type": "code",
   "execution_count": 13,
   "id": "fe266617",
   "metadata": {
    "execution": {
     "iopub.execute_input": "2022-03-21T03:08:43.587993Z",
     "iopub.status.busy": "2022-03-21T03:08:43.587422Z",
     "iopub.status.idle": "2022-03-21T03:08:47.246505Z",
     "shell.execute_reply": "2022-03-21T03:08:47.245705Z"
    },
    "papermill": {
     "duration": 3.68292,
     "end_time": "2022-03-21T03:08:47.246702",
     "exception": false,
     "start_time": "2022-03-21T03:08:43.563782",
     "status": "completed"
    },
    "tags": []
   },
   "outputs": [],
   "source": [
    "for ds in p.datasets:\n",
    "    add_dataset(**ds)"
   ]
  },
  {
   "cell_type": "code",
   "execution_count": 14,
   "id": "b90d65ac",
   "metadata": {
    "execution": {
     "iopub.execute_input": "2022-03-21T03:08:47.299818Z",
     "iopub.status.busy": "2022-03-21T03:08:47.299245Z",
     "iopub.status.idle": "2022-03-21T03:08:47.322282Z",
     "shell.execute_reply": "2022-03-21T03:08:47.321517Z"
    },
    "papermill": {
     "duration": 0.04656,
     "end_time": "2022-03-21T03:08:47.322444",
     "exception": false,
     "start_time": "2022-03-21T03:08:47.275884",
     "status": "completed"
    },
    "tags": []
   },
   "outputs": [],
   "source": [
    "# from steves_utils.CORES.utils import (\n",
    "#     ALL_NODES,\n",
    "#     ALL_NODES_MINIMUM_1000_EXAMPLES,\n",
    "#     ALL_DAYS\n",
    "# )\n",
    "\n",
    "# add_dataset(\n",
    "#     labels=ALL_NODES,\n",
    "#     domains = ALL_DAYS,\n",
    "#     num_examples_per_domain_per_label=100,\n",
    "#     pickle_path=os.path.join(get_datasets_base_path(), \"cores.stratified_ds.2022A.pkl\"),\n",
    "#     source_or_target_dataset=\"target\",\n",
    "#     x_transform_func=global_x_transform_func,\n",
    "#     domain_modifier=lambda u: f\"cores_{u}\"\n",
    "# )"
   ]
  },
  {
   "cell_type": "code",
   "execution_count": 15,
   "id": "76db484d",
   "metadata": {
    "execution": {
     "iopub.execute_input": "2022-03-21T03:08:47.373246Z",
     "iopub.status.busy": "2022-03-21T03:08:47.372168Z",
     "iopub.status.idle": "2022-03-21T03:08:47.393814Z",
     "shell.execute_reply": "2022-03-21T03:08:47.393007Z"
    },
    "papermill": {
     "duration": 0.04527,
     "end_time": "2022-03-21T03:08:47.393970",
     "exception": false,
     "start_time": "2022-03-21T03:08:47.348700",
     "status": "completed"
    },
    "tags": []
   },
   "outputs": [],
   "source": [
    "# from steves_utils.ORACLE.utils_v2 import (\n",
    "#     ALL_DISTANCES_FEET,\n",
    "#     ALL_RUNS,\n",
    "#     ALL_SERIAL_NUMBERS,\n",
    "# )\n",
    "\n",
    "\n",
    "# add_dataset(\n",
    "#     labels=ALL_SERIAL_NUMBERS,\n",
    "#     domains = list(set(ALL_DISTANCES_FEET) - {2,62}),\n",
    "#     num_examples_per_domain_per_label=100,\n",
    "#     pickle_path=os.path.join(get_datasets_base_path(), \"oracle.Run2_framed_2000Examples_stratified_ds.2022A.pkl\"),\n",
    "#     source_or_target_dataset=\"source\",\n",
    "#     x_transform_func=global_x_transform_func,\n",
    "#     domain_modifier=lambda u: f\"oracle1_{u}\"\n",
    "# )\n"
   ]
  },
  {
   "cell_type": "code",
   "execution_count": 16,
   "id": "97dea9d2",
   "metadata": {
    "execution": {
     "iopub.execute_input": "2022-03-21T03:08:47.447192Z",
     "iopub.status.busy": "2022-03-21T03:08:47.445928Z",
     "iopub.status.idle": "2022-03-21T03:08:47.465967Z",
     "shell.execute_reply": "2022-03-21T03:08:47.465165Z"
    },
    "papermill": {
     "duration": 0.045931,
     "end_time": "2022-03-21T03:08:47.466122",
     "exception": false,
     "start_time": "2022-03-21T03:08:47.420191",
     "status": "completed"
    },
    "tags": []
   },
   "outputs": [],
   "source": [
    "# from steves_utils.ORACLE.utils_v2 import (\n",
    "#     ALL_DISTANCES_FEET,\n",
    "#     ALL_RUNS,\n",
    "#     ALL_SERIAL_NUMBERS,\n",
    "# )\n",
    "\n",
    "\n",
    "# add_dataset(\n",
    "#     labels=ALL_SERIAL_NUMBERS,\n",
    "#     domains = list(set(ALL_DISTANCES_FEET) - {2,62,56}),\n",
    "#     num_examples_per_domain_per_label=100,\n",
    "#     pickle_path=os.path.join(get_datasets_base_path(), \"oracle.Run2_framed_2000Examples_stratified_ds.2022A.pkl\"),\n",
    "#     source_or_target_dataset=\"source\",\n",
    "#     x_transform_func=global_x_transform_func,\n",
    "#     domain_modifier=lambda u: f\"oracle2_{u}\"\n",
    "# )"
   ]
  },
  {
   "cell_type": "code",
   "execution_count": 17,
   "id": "6f289866",
   "metadata": {
    "execution": {
     "iopub.execute_input": "2022-03-21T03:08:47.517415Z",
     "iopub.status.busy": "2022-03-21T03:08:47.517048Z",
     "iopub.status.idle": "2022-03-21T03:08:47.543067Z",
     "shell.execute_reply": "2022-03-21T03:08:47.542368Z"
    },
    "papermill": {
     "duration": 0.050731,
     "end_time": "2022-03-21T03:08:47.543223",
     "exception": false,
     "start_time": "2022-03-21T03:08:47.492492",
     "status": "completed"
    },
    "tags": []
   },
   "outputs": [],
   "source": [
    "# add_dataset(\n",
    "#     labels=list(range(19)),\n",
    "#     domains = [0,1,2],\n",
    "#     num_examples_per_domain_per_label=100,\n",
    "#     pickle_path=os.path.join(get_datasets_base_path(), \"metehan.stratified_ds.2022A.pkl\"),\n",
    "#     source_or_target_dataset=\"target\",\n",
    "#     x_transform_func=global_x_transform_func,\n",
    "#     domain_modifier=lambda u: f\"met_{u}\"\n",
    "# )"
   ]
  },
  {
   "cell_type": "code",
   "execution_count": 18,
   "id": "86a863c3",
   "metadata": {
    "execution": {
     "iopub.execute_input": "2022-03-21T03:08:47.598131Z",
     "iopub.status.busy": "2022-03-21T03:08:47.597567Z",
     "iopub.status.idle": "2022-03-21T03:08:47.622026Z",
     "shell.execute_reply": "2022-03-21T03:08:47.621222Z"
    },
    "papermill": {
     "duration": 0.049114,
     "end_time": "2022-03-21T03:08:47.622187",
     "exception": false,
     "start_time": "2022-03-21T03:08:47.573073",
     "status": "completed"
    },
    "tags": []
   },
   "outputs": [],
   "source": [
    "# # from steves_utils.wisig.utils import (\n",
    "# #     ALL_NODES_MINIMUM_100_EXAMPLES,\n",
    "# #     ALL_NODES_MINIMUM_500_EXAMPLES,\n",
    "# #     ALL_NODES_MINIMUM_1000_EXAMPLES,\n",
    "# #     ALL_DAYS\n",
    "# # )\n",
    "\n",
    "# import steves_utils.wisig.utils as wisig\n",
    "\n",
    "\n",
    "# add_dataset(\n",
    "#     labels=wisig.ALL_NODES_MINIMUM_100_EXAMPLES,\n",
    "#     domains = wisig.ALL_DAYS,\n",
    "#     num_examples_per_domain_per_label=100,\n",
    "#     pickle_path=os.path.join(get_datasets_base_path(), \"wisig.node3-19.stratified_ds.2022A.pkl\"),\n",
    "#     source_or_target_dataset=\"target\",\n",
    "#     x_transform_func=global_x_transform_func,\n",
    "#     domain_modifier=lambda u: f\"wisig_{u}\"\n",
    "# )"
   ]
  },
  {
   "cell_type": "code",
   "execution_count": 19,
   "id": "fd5442bc",
   "metadata": {
    "execution": {
     "iopub.execute_input": "2022-03-21T03:08:47.677764Z",
     "iopub.status.busy": "2022-03-21T03:08:47.677174Z",
     "iopub.status.idle": "2022-03-21T03:08:47.700998Z",
     "shell.execute_reply": "2022-03-21T03:08:47.700213Z"
    },
    "papermill": {
     "duration": 0.052593,
     "end_time": "2022-03-21T03:08:47.701155",
     "exception": false,
     "start_time": "2022-03-21T03:08:47.648562",
     "status": "completed"
    },
    "tags": []
   },
   "outputs": [],
   "source": [
    "###################################\n",
    "# Build the dataset\n",
    "###################################\n",
    "train_original_source = Iterable_Aggregator(train_original_source, p.seed)\n",
    "val_original_source = Iterable_Aggregator(val_original_source, p.seed)\n",
    "test_original_source = Iterable_Aggregator(test_original_source, p.seed)\n",
    "\n",
    "\n",
    "train_original_target = Iterable_Aggregator(train_original_target, p.seed)\n",
    "val_original_target = Iterable_Aggregator(val_original_target, p.seed)\n",
    "test_original_target = Iterable_Aggregator(test_original_target, p.seed)\n",
    "\n",
    "# For CNN We only use X and Y. And we only train on the source.\n",
    "# Properly form the data using a transform lambda and Lazy_Iterable_Wrapper. Finally wrap them in a dataloader\n",
    "\n",
    "transform_lambda = lambda ex: ex[1] # Original is (<domain>, <episode>) so we strip down to episode only\n",
    "\n",
    "train_processed_source = Lazy_Iterable_Wrapper(train_original_source, transform_lambda)\n",
    "val_processed_source   = Lazy_Iterable_Wrapper(val_original_source, transform_lambda)\n",
    "test_processed_source  = Lazy_Iterable_Wrapper(test_original_source, transform_lambda)\n",
    "\n",
    "train_processed_target = Lazy_Iterable_Wrapper(train_original_target, transform_lambda)\n",
    "val_processed_target   = Lazy_Iterable_Wrapper(val_original_target, transform_lambda)\n",
    "test_processed_target  = Lazy_Iterable_Wrapper(test_original_target, transform_lambda)\n",
    "\n",
    "datasets = EasyDict({\n",
    "    \"source\": {\n",
    "        \"original\": {\"train\":train_original_source, \"val\":val_original_source, \"test\":test_original_source},\n",
    "        \"processed\": {\"train\":train_processed_source, \"val\":val_processed_source, \"test\":test_processed_source}\n",
    "    },\n",
    "    \"target\": {\n",
    "        \"original\": {\"train\":train_original_target, \"val\":val_original_target, \"test\":test_original_target},\n",
    "        \"processed\": {\"train\":train_processed_target, \"val\":val_processed_target, \"test\":test_processed_target}\n",
    "    },\n",
    "})"
   ]
  },
  {
   "cell_type": "code",
   "execution_count": 20,
   "id": "5b3c01fc",
   "metadata": {
    "execution": {
     "iopub.execute_input": "2022-03-21T03:08:47.756325Z",
     "iopub.status.busy": "2022-03-21T03:08:47.755439Z",
     "iopub.status.idle": "2022-03-21T03:08:56.149060Z",
     "shell.execute_reply": "2022-03-21T03:08:56.149882Z"
    },
    "papermill": {
     "duration": 8.419915,
     "end_time": "2022-03-21T03:08:56.150101",
     "exception": false,
     "start_time": "2022-03-21T03:08:47.730186",
     "status": "completed"
    },
    "tags": []
   },
   "outputs": [
    {
     "name": "stdout",
     "output_type": "stream",
     "text": [
      "{'CORES_3', 'CORES_4', 'CORES_2', 'CORES_5', 'CORES_1'}\n"
     ]
    },
    {
     "name": "stdout",
     "output_type": "stream",
     "text": [
      "{'Wisig_1', 'Wisig_4', 'Wisig_2', 'Wisig_3'}\n"
     ]
    },
    {
     "name": "stdout",
     "output_type": "stream",
     "text": [
      "tensor([[[ 0.0367,  0.0584, -0.0262,  ...,  0.0511, -0.0694, -0.0864],\n",
      "         [-0.0299, -0.0035, -0.0145,  ..., -0.0109,  0.0032, -0.0057]],\n",
      "\n",
      "        [[-0.0026,  0.0060, -0.0042,  ..., -0.0879, -0.0181,  0.0774],\n",
      "         [ 0.0013,  0.0020, -0.0243,  ...,  0.0076, -0.0564, -0.0575]],\n",
      "\n",
      "        [[-0.0086, -0.0041,  0.0106,  ...,  0.0265, -0.0080, -0.1051],\n",
      "         [-0.0092,  0.0086,  0.0016,  ...,  0.0244,  0.0460,  0.0070]],\n",
      "\n",
      "        ...,\n",
      "\n",
      "        [[ 0.0048,  0.0088,  0.0301,  ..., -0.0187,  0.0326,  0.0526],\n",
      "         [-0.0089, -0.0200, -0.0011,  ...,  0.0133,  0.0171, -0.0292]],\n",
      "\n",
      "        [[ 0.0046,  0.0067,  0.0130,  ..., -0.0532, -0.0268,  0.0303],\n",
      "         [-0.0027, -0.0047, -0.0148,  ..., -0.0063,  0.0104,  0.0329]],\n",
      "\n",
      "        [[-0.0061, -0.0059, -0.0179,  ...,  0.0367,  0.0034, -0.0454],\n",
      "         [ 0.0034,  0.0090,  0.0163,  ...,  0.0056, -0.0204, -0.0065]]])\n"
     ]
    }
   ],
   "source": [
    "from steves_utils.transforms import get_average_magnitude, get_average_power\n",
    "\n",
    "print(set([u for u,_ in val_original_source]))\n",
    "print(set([u for u,_ in val_original_target]))\n",
    "\n",
    "s_x, s_y, q_x, q_y, _ = next(iter(train_processed_source))\n",
    "print(s_x)\n",
    "\n",
    "# for ds in [\n",
    "#     train_processed_source,\n",
    "#     val_processed_source,\n",
    "#     test_processed_source,\n",
    "#     train_processed_target,\n",
    "#     val_processed_target,\n",
    "#     test_processed_target\n",
    "# ]:\n",
    "#     for s_x, s_y, q_x, q_y, _ in ds:\n",
    "#         for X in (s_x, q_x):\n",
    "#             for x in X:\n",
    "#                 assert np.isclose(get_average_magnitude(x.numpy()), 1.0)\n",
    "#                 assert np.isclose(get_average_power(x.numpy()), 1.0)\n",
    "                "
   ]
  },
  {
   "cell_type": "code",
   "execution_count": 21,
   "id": "bbdacba1",
   "metadata": {
    "execution": {
     "iopub.execute_input": "2022-03-21T03:08:56.205405Z",
     "iopub.status.busy": "2022-03-21T03:08:56.204598Z",
     "iopub.status.idle": "2022-03-21T03:08:56.460800Z",
     "shell.execute_reply": "2022-03-21T03:08:56.461487Z"
    },
    "papermill": {
     "duration": 0.28501,
     "end_time": "2022-03-21T03:08:56.461730",
     "exception": false,
     "start_time": "2022-03-21T03:08:56.176720",
     "status": "completed"
    },
    "tags": []
   },
   "outputs": [
    {
     "name": "stdout",
     "output_type": "stream",
     "text": [
      "(2, 256)\n"
     ]
    }
   ],
   "source": [
    "###################################\n",
    "# Build the model\n",
    "###################################\n",
    "# easfsl only wants a tuple for the shape\n",
    "model = Steves_Prototypical_Network(x_net, device=p.device, x_shape=tuple(p.x_shape))\n",
    "optimizer = Adam(params=model.parameters(), lr=p.lr)"
   ]
  },
  {
   "cell_type": "code",
   "execution_count": 22,
   "id": "22b39ac5",
   "metadata": {
    "execution": {
     "iopub.execute_input": "2022-03-21T03:08:56.524973Z",
     "iopub.status.busy": "2022-03-21T03:08:56.524346Z",
     "iopub.status.idle": "2022-03-21T03:11:05.242393Z",
     "shell.execute_reply": "2022-03-21T03:11:05.241648Z"
    },
    "papermill": {
     "duration": 128.749029,
     "end_time": "2022-03-21T03:11:05.242570",
     "exception": false,
     "start_time": "2022-03-21T03:08:56.493541",
     "status": "completed"
    },
    "tags": []
   },
   "outputs": [
    {
     "name": "stdout",
     "output_type": "stream",
     "text": [
      "epoch: 1, [batch: 1 / 351], examples_per_second: 338.1823, train_label_loss: 3.3169, \n"
     ]
    },
    {
     "name": "stdout",
     "output_type": "stream",
     "text": [
      "epoch: 1, [batch: 36 / 351], examples_per_second: 3397.7616, train_label_loss: 1.1494, \n"
     ]
    },
    {
     "name": "stdout",
     "output_type": "stream",
     "text": [
      "epoch: 1, [batch: 71 / 351], examples_per_second: 3506.0865, train_label_loss: 0.4877, \n"
     ]
    },
    {
     "name": "stdout",
     "output_type": "stream",
     "text": [
      "epoch: 1, [batch: 106 / 351], examples_per_second: 3490.0343, train_label_loss: 0.1940, \n"
     ]
    },
    {
     "name": "stdout",
     "output_type": "stream",
     "text": [
      "epoch: 1, [batch: 141 / 351], examples_per_second: 3427.3772, train_label_loss: 0.1155, \n"
     ]
    },
    {
     "name": "stdout",
     "output_type": "stream",
     "text": [
      "epoch: 1, [batch: 176 / 351], examples_per_second: 3444.5196, train_label_loss: 0.0618, \n"
     ]
    },
    {
     "name": "stdout",
     "output_type": "stream",
     "text": [
      "epoch: 1, [batch: 211 / 351], examples_per_second: 3443.1236, train_label_loss: 0.0612, \n"
     ]
    },
    {
     "name": "stdout",
     "output_type": "stream",
     "text": [
      "epoch: 1, [batch: 246 / 351], examples_per_second: 3322.0901, train_label_loss: 0.0491, \n"
     ]
    },
    {
     "name": "stdout",
     "output_type": "stream",
     "text": [
      "epoch: 1, [batch: 281 / 351], examples_per_second: 3477.0891, train_label_loss: 0.0346, \n"
     ]
    },
    {
     "name": "stdout",
     "output_type": "stream",
     "text": [
      "epoch: 1, [batch: 316 / 351], examples_per_second: 3442.0694, train_label_loss: 0.0330, \n"
     ]
    },
    {
     "name": "stdout",
     "output_type": "stream",
     "text": [
      "=============================================================\n",
      "epoch: 1, source_val_acc_label: 0.9937, target_val_acc_label: 0.7448, source_val_label_loss: 0.0376, target_val_label_loss: 1.8529, \n",
      "=============================================================\n"
     ]
    },
    {
     "name": "stdout",
     "output_type": "stream",
     "text": [
      "New best\n"
     ]
    },
    {
     "name": "stdout",
     "output_type": "stream",
     "text": [
      "epoch: 2, [batch: 1 / 351], examples_per_second: 33.9669, train_label_loss: 0.0213, \n"
     ]
    },
    {
     "name": "stdout",
     "output_type": "stream",
     "text": [
      "epoch: 2, [batch: 36 / 351], examples_per_second: 3524.1452, train_label_loss: 0.0192, \n"
     ]
    },
    {
     "name": "stdout",
     "output_type": "stream",
     "text": [
      "epoch: 2, [batch: 71 / 351], examples_per_second: 3479.5915, train_label_loss: 0.0658, \n"
     ]
    },
    {
     "name": "stdout",
     "output_type": "stream",
     "text": [
      "epoch: 2, [batch: 106 / 351], examples_per_second: 3422.0061, train_label_loss: 0.0142, \n"
     ]
    },
    {
     "name": "stdout",
     "output_type": "stream",
     "text": [
      "epoch: 2, [batch: 141 / 351], examples_per_second: 3413.3300, train_label_loss: 0.0063, \n"
     ]
    },
    {
     "name": "stdout",
     "output_type": "stream",
     "text": [
      "epoch: 2, [batch: 176 / 351], examples_per_second: 3405.5705, train_label_loss: 0.0115, \n"
     ]
    },
    {
     "name": "stdout",
     "output_type": "stream",
     "text": [
      "epoch: 2, [batch: 211 / 351], examples_per_second: 3459.7247, train_label_loss: 0.0209, \n"
     ]
    },
    {
     "name": "stdout",
     "output_type": "stream",
     "text": [
      "epoch: 2, [batch: 246 / 351], examples_per_second: 3415.6554, train_label_loss: 0.0042, \n"
     ]
    },
    {
     "name": "stdout",
     "output_type": "stream",
     "text": [
      "epoch: 2, [batch: 281 / 351], examples_per_second: 3571.6997, train_label_loss: 0.0043, \n"
     ]
    },
    {
     "name": "stdout",
     "output_type": "stream",
     "text": [
      "epoch: 2, [batch: 316 / 351], examples_per_second: 3546.0557, train_label_loss: 0.0272, \n"
     ]
    },
    {
     "name": "stdout",
     "output_type": "stream",
     "text": [
      "=============================================================\n",
      "epoch: 2, source_val_acc_label: 0.9948, target_val_acc_label: 0.7782, source_val_label_loss: 0.0361, target_val_label_loss: 3.0794, \n",
      "=============================================================\n"
     ]
    },
    {
     "name": "stdout",
     "output_type": "stream",
     "text": [
      "New best\n"
     ]
    },
    {
     "name": "stdout",
     "output_type": "stream",
     "text": [
      "epoch: 3, [batch: 1 / 351], examples_per_second: 34.3304, train_label_loss: 0.0248, \n"
     ]
    },
    {
     "name": "stdout",
     "output_type": "stream",
     "text": [
      "epoch: 3, [batch: 36 / 351], examples_per_second: 3529.5617, train_label_loss: 0.2438, \n"
     ]
    },
    {
     "name": "stdout",
     "output_type": "stream",
     "text": [
      "epoch: 3, [batch: 71 / 351], examples_per_second: 3583.3128, train_label_loss: 0.0314, \n"
     ]
    },
    {
     "name": "stdout",
     "output_type": "stream",
     "text": [
      "epoch: 3, [batch: 106 / 351], examples_per_second: 3365.9484, train_label_loss: 0.0010, \n"
     ]
    },
    {
     "name": "stdout",
     "output_type": "stream",
     "text": [
      "epoch: 3, [batch: 141 / 351], examples_per_second: 3933.2636, train_label_loss: 0.0042, \n"
     ]
    },
    {
     "name": "stdout",
     "output_type": "stream",
     "text": [
      "epoch: 3, [batch: 176 / 351], examples_per_second: 4553.7667, train_label_loss: 0.0048, \n"
     ]
    },
    {
     "name": "stdout",
     "output_type": "stream",
     "text": [
      "epoch: 3, [batch: 211 / 351], examples_per_second: 3597.3289, train_label_loss: 0.0360, \n"
     ]
    },
    {
     "name": "stdout",
     "output_type": "stream",
     "text": [
      "epoch: 3, [batch: 246 / 351], examples_per_second: 3350.4000, train_label_loss: 0.0053, \n"
     ]
    },
    {
     "name": "stdout",
     "output_type": "stream",
     "text": [
      "epoch: 3, [batch: 281 / 351], examples_per_second: 3474.9772, train_label_loss: 0.0104, \n"
     ]
    },
    {
     "name": "stdout",
     "output_type": "stream",
     "text": [
      "epoch: 3, [batch: 316 / 351], examples_per_second: 3502.1115, train_label_loss: 0.0084, \n"
     ]
    },
    {
     "name": "stdout",
     "output_type": "stream",
     "text": [
      "=============================================================\n",
      "epoch: 3, source_val_acc_label: 0.9953, target_val_acc_label: 0.7833, source_val_label_loss: 0.0338, target_val_label_loss: 2.8821, \n",
      "=============================================================\n"
     ]
    },
    {
     "name": "stdout",
     "output_type": "stream",
     "text": [
      "New best\n"
     ]
    }
   ],
   "source": [
    "###################################\n",
    "# train\n",
    "###################################\n",
    "jig = PTN_Train_Eval_Test_Jig(model, p.BEST_MODEL_PATH, p.device)\n",
    "\n",
    "jig.train(\n",
    "    train_iterable=datasets.source.processed.train,\n",
    "    source_val_iterable=datasets.source.processed.val,\n",
    "    target_val_iterable=datasets.target.processed.val,\n",
    "    num_epochs=p.n_epoch,\n",
    "    num_logs_per_epoch=p.NUM_LOGS_PER_EPOCH,\n",
    "    patience=p.patience,\n",
    "    optimizer=optimizer,\n",
    "    criteria_for_best=p.criteria_for_best,\n",
    ")"
   ]
  },
  {
   "cell_type": "code",
   "execution_count": 23,
   "id": "31e8fabf",
   "metadata": {
    "execution": {
     "iopub.execute_input": "2022-03-21T03:11:05.317984Z",
     "iopub.status.busy": "2022-03-21T03:11:05.317223Z",
     "iopub.status.idle": "2022-03-21T03:11:05.353028Z",
     "shell.execute_reply": "2022-03-21T03:11:05.352301Z"
    },
    "papermill": {
     "duration": 0.073812,
     "end_time": "2022-03-21T03:11:05.353197",
     "exception": false,
     "start_time": "2022-03-21T03:11:05.279385",
     "status": "completed"
    },
    "tags": []
   },
   "outputs": [],
   "source": [
    "total_experiment_time_secs = time.time() - start_time_secs"
   ]
  },
  {
   "cell_type": "code",
   "execution_count": 24,
   "id": "87b9595b",
   "metadata": {
    "execution": {
     "iopub.execute_input": "2022-03-21T03:11:05.440413Z",
     "iopub.status.busy": "2022-03-21T03:11:05.439720Z",
     "iopub.status.idle": "2022-03-21T03:12:04.883656Z",
     "shell.execute_reply": "2022-03-21T03:12:04.884336Z"
    },
    "papermill": {
     "duration": 59.488303,
     "end_time": "2022-03-21T03:12:04.884569",
     "exception": false,
     "start_time": "2022-03-21T03:11:05.396266",
     "status": "completed"
    },
    "tags": []
   },
   "outputs": [],
   "source": [
    "###################################\n",
    "# Evaluate the model\n",
    "###################################\n",
    "source_test_label_accuracy, source_test_label_loss = jig.test(datasets.source.processed.test)\n",
    "target_test_label_accuracy, target_test_label_loss = jig.test(datasets.target.processed.test)\n",
    "\n",
    "source_val_label_accuracy, source_val_label_loss = jig.test(datasets.source.processed.val)\n",
    "target_val_label_accuracy, target_val_label_loss = jig.test(datasets.target.processed.val)\n",
    "\n",
    "history = jig.get_history()\n",
    "\n",
    "total_epochs_trained = len(history[\"epoch_indices\"])\n",
    "\n",
    "val_dl = Iterable_Aggregator((datasets.source.original.val,datasets.target.original.val))\n",
    "\n",
    "confusion = ptn_confusion_by_domain_over_dataloader(model, p.device, val_dl)\n",
    "per_domain_accuracy = per_domain_accuracy_from_confusion(confusion)\n",
    "\n",
    "# Add a key to per_domain_accuracy for if it was a source domain\n",
    "for domain, accuracy in per_domain_accuracy.items():\n",
    "    per_domain_accuracy[domain] = {\n",
    "        \"accuracy\": accuracy,\n",
    "        \"source?\": domain in p.domains_source\n",
    "    }\n",
    "\n",
    "# Do an independent accuracy assesment JUST TO BE SURE!\n",
    "# _source_test_label_accuracy = independent_accuracy_assesment(model, datasets.source.processed.test, p.device)\n",
    "# _target_test_label_accuracy = independent_accuracy_assesment(model, datasets.target.processed.test, p.device)\n",
    "# _source_val_label_accuracy = independent_accuracy_assesment(model, datasets.source.processed.val, p.device)\n",
    "# _target_val_label_accuracy = independent_accuracy_assesment(model, datasets.target.processed.val, p.device)\n",
    "\n",
    "# assert(_source_test_label_accuracy == source_test_label_accuracy)\n",
    "# assert(_target_test_label_accuracy == target_test_label_accuracy)\n",
    "# assert(_source_val_label_accuracy == source_val_label_accuracy)\n",
    "# assert(_target_val_label_accuracy == target_val_label_accuracy)\n",
    "\n",
    "experiment = {\n",
    "    \"experiment_name\": p.experiment_name,\n",
    "    \"parameters\": dict(p),\n",
    "    \"results\": {\n",
    "        \"source_test_label_accuracy\": source_test_label_accuracy,\n",
    "        \"source_test_label_loss\": source_test_label_loss,\n",
    "        \"target_test_label_accuracy\": target_test_label_accuracy,\n",
    "        \"target_test_label_loss\": target_test_label_loss,\n",
    "        \"source_val_label_accuracy\": source_val_label_accuracy,\n",
    "        \"source_val_label_loss\": source_val_label_loss,\n",
    "        \"target_val_label_accuracy\": target_val_label_accuracy,\n",
    "        \"target_val_label_loss\": target_val_label_loss,\n",
    "        \"total_epochs_trained\": total_epochs_trained,\n",
    "        \"total_experiment_time_secs\": total_experiment_time_secs,\n",
    "        \"confusion\": confusion,\n",
    "        \"per_domain_accuracy\": per_domain_accuracy,\n",
    "    },\n",
    "    \"history\": history,\n",
    "    \"dataset_metrics\": get_dataset_metrics(datasets, \"ptn\"),\n",
    "}"
   ]
  },
  {
   "cell_type": "code",
   "execution_count": 25,
   "id": "54a21829",
   "metadata": {
    "execution": {
     "iopub.execute_input": "2022-03-21T03:12:04.961409Z",
     "iopub.status.busy": "2022-03-21T03:12:04.960544Z",
     "iopub.status.idle": "2022-03-21T03:12:05.167104Z",
     "shell.execute_reply": "2022-03-21T03:12:05.167825Z"
    },
    "papermill": {
     "duration": 0.244928,
     "end_time": "2022-03-21T03:12:05.168010",
     "exception": false,
     "start_time": "2022-03-21T03:12:04.923082",
     "status": "completed"
    },
    "tags": []
   },
   "outputs": [
    {
     "data": {
      "image/png": "[encoded data removed]",
      "text/plain": [
       "<Figure size 1080x504 with 1 Axes>"
      ]
     },
     "metadata": {
      "needs_background": "light"
     },
     "output_type": "display_data"
    }
   ],
   "source": [
    "ax = get_loss_curve(experiment)\n",
    "plt.show()"
   ]
  },
  {
   "cell_type": "code",
   "execution_count": 26,
   "id": "fd8a0f60",
   "metadata": {
    "execution": {
     "iopub.execute_input": "2022-03-21T03:12:05.246572Z",
     "iopub.status.busy": "2022-03-21T03:12:05.246202Z",
     "iopub.status.idle": "2022-03-21T03:12:05.581092Z",
     "shell.execute_reply": "2022-03-21T03:12:05.581763Z"
    },
    "papermill": {
     "duration": 0.373026,
     "end_time": "2022-03-21T03:12:05.581945",
     "exception": false,
     "start_time": "2022-03-21T03:12:05.208919",
     "status": "completed"
    },
    "tags": []
   },
   "outputs": [
    {
     "data": {
      "text/plain": [
       "<AxesSubplot:title={'center':'Results'}>"
      ]
     },
     "execution_count": 26,
     "metadata": {},
     "output_type": "execute_result"
    },
    {
     "data": {
      "image/png": "[encoded data removed]",
      "text/plain": [
       "<Figure size 1080x504 with 1 Axes>"
      ]
     },
     "metadata": {
      "needs_background": "light"
     },
     "output_type": "display_data"
    }
   ],
   "source": [
    "get_results_table(experiment)"
   ]
  },
  {
   "cell_type": "code",
   "execution_count": 27,
   "id": "cf8dc689",
   "metadata": {
    "execution": {
     "iopub.execute_input": "2022-03-21T03:12:05.660121Z",
     "iopub.status.busy": "2022-03-21T03:12:05.659752Z",
     "iopub.status.idle": "2022-03-21T03:12:05.879112Z",
     "shell.execute_reply": "2022-03-21T03:12:05.879809Z"
    },
    "papermill": {
     "duration": 0.258604,
     "end_time": "2022-03-21T03:12:05.879996",
     "exception": false,
     "start_time": "2022-03-21T03:12:05.621392",
     "status": "completed"
    },
    "tags": []
   },
   "outputs": [
    {
     "data": {
      "text/plain": [
       "<AxesSubplot:title={'center':'Per Domain Validation Accuracy'}, xlabel='domain'>"
      ]
     },
     "execution_count": 27,
     "metadata": {},
     "output_type": "execute_result"
    },
    {
     "data": {
      "image/png": "[encoded data removed]",
      "text/plain": [
       "<Figure size 1080x504 with 1 Axes>"
      ]
     },
     "metadata": {
      "needs_background": "light"
     },
     "output_type": "display_data"
    }
   ],
   "source": [
    "get_domain_accuracies(experiment)"
   ]
  },
  {
   "cell_type": "code",
   "execution_count": 28,
   "id": "a74ae082",
   "metadata": {
    "execution": {
     "iopub.execute_input": "2022-03-21T03:12:05.961784Z",
     "iopub.status.busy": "2022-03-21T03:12:05.961402Z",
     "iopub.status.idle": "2022-03-21T03:12:05.983395Z",
     "shell.execute_reply": "2022-03-21T03:12:05.984056Z"
    },
    "papermill": {
     "duration": 0.062664,
     "end_time": "2022-03-21T03:12:05.984242",
     "exception": false,
     "start_time": "2022-03-21T03:12:05.921578",
     "status": "completed"
    },
    "tags": []
   },
   "outputs": [
    {
     "name": "stdout",
     "output_type": "stream",
     "text": [
      "Source Test Label Accuracy: 0.9975862068965518 Target Test Label Accuracy: 0.7807029177718833\n",
      "Source Val Label Accuracy: 0.9953304597701149 Target Val Label Accuracy: 0.7833466987436515\n"
     ]
    }
   ],
   "source": [
    "print(\"Source Test Label Accuracy:\", experiment[\"results\"][\"source_test_label_accuracy\"], \"Target Test Label Accuracy:\", experiment[\"results\"][\"target_test_label_accuracy\"])\n",
    "print(\"Source Val Label Accuracy:\", experiment[\"results\"][\"source_val_label_accuracy\"], \"Target Val Label Accuracy:\", experiment[\"results\"][\"target_val_label_accuracy\"])"
   ]
  },
  {
   "cell_type": "code",
   "execution_count": 29,
   "id": "dacca602",
   "metadata": {
    "execution": {
     "iopub.execute_input": "2022-03-21T03:12:06.065360Z",
     "iopub.status.busy": "2022-03-21T03:12:06.064992Z",
     "iopub.status.idle": "2022-03-21T03:12:06.086525Z",
     "shell.execute_reply": "2022-03-21T03:12:06.087197Z"
    },
    "papermill": {
     "duration": 0.061495,
     "end_time": "2022-03-21T03:12:06.087377",
     "exception": false,
     "start_time": "2022-03-21T03:12:06.025882",
     "status": "completed"
    },
    "tags": [
     "experiment_json"
    ]
   },
   "outputs": [
    {
     "data": {
      "text/plain": [
       "'{\"experiment_name\": \"tl_1v2:cores-wisig\", \"parameters\": {\"experiment_name\": \"tl_1v2:cores-wisig\", \"device\": \"cuda\", \"lr\": 0.0001, \"n_shot\": 3, \"n_query\": 2, \"train_k_factor\": 3, \"val_k_factor\": 2, \"test_k_factor\": 2, \"torch_default_dtype\": \"torch.float32\", \"n_epoch\": 3, \"patience\": 3, \"criteria_for_best\": \"target_accuracy\", \"x_net\": [{\"class\": \"nnReshape\", \"kargs\": {\"shape\": [-1, 1, 2, 256]}}, {\"class\": \"Conv2d\", \"kargs\": {\"in_channels\": 1, \"out_channels\": 256, \"kernel_size\": [1, 7], \"bias\": false, \"padding\": [0, 3]}}, {\"class\": \"ReLU\", \"kargs\": {\"inplace\": true}}, {\"class\": \"BatchNorm2d\", \"kargs\": {\"num_features\": 256}}, {\"class\": \"Conv2d\", \"kargs\": {\"in_channels\": 256, \"out_channels\": 80, \"kernel_size\": [2, 7], \"bias\": true, \"padding\": [0, 3]}}, {\"class\": \"ReLU\", \"kargs\": {\"inplace\": true}}, {\"class\": \"BatchNorm2d\", \"kargs\": {\"num_features\": 80}}, {\"class\": \"Flatten\", \"kargs\": {}}, {\"class\": \"Linear\", \"kargs\": {\"in_features\": 20480, \"out_features\": 256}}, {\"class\": \"ReLU\", \"kargs\": {\"inplace\": true}}, {\"class\": \"BatchNorm1d\", \"kargs\": {\"num_features\": 256}}, {\"class\": \"Linear\", \"kargs\": {\"in_features\": 256, \"out_features\": 256}}], \"NUM_LOGS_PER_EPOCH\": 10, \"BEST_MODEL_PATH\": \"./best_model.pth\", \"n_way\": 58, \"datasets\": [{\"labels\": [\"1-10.\", \"1-11.\", \"1-15.\", \"1-16.\", \"1-17.\", \"1-18.\", \"1-19.\", \"10-4.\", \"10-7.\", \"11-1.\", \"11-14.\", \"11-17.\", \"11-20.\", \"11-7.\", \"13-20.\", \"13-8.\", \"14-10.\", \"14-11.\", \"14-14.\", \"14-7.\", \"15-1.\", \"15-20.\", \"16-1.\", \"16-16.\", \"17-10.\", \"17-11.\", \"17-2.\", \"19-1.\", \"19-16.\", \"19-19.\", \"19-20.\", \"19-3.\", \"2-10.\", \"2-11.\", \"2-17.\", \"2-18.\", \"2-20.\", \"2-3.\", \"2-4.\", \"2-5.\", \"2-6.\", \"2-7.\", \"2-8.\", \"3-13.\", \"3-18.\", \"3-3.\", \"4-1.\", \"4-10.\", \"4-11.\", \"4-19.\", \"5-5.\", \"6-15.\", \"7-10.\", \"7-14.\", \"8-18.\", \"8-20.\", \"8-3.\", \"8-8.\"], \"domains\": [1, 2, 3, 4, 5], \"num_examples_per_domain_per_label\": -1, \"pickle_path\": \"/root/csc500-main/datasets/cores.stratified_ds.2022A.pkl\", \"source_or_target_dataset\": \"source\", \"x_transforms\": [], \"episode_transforms\": [], \"domain_prefix\": \"CORES_\"}, {\"labels\": [\"1-10\", \"1-12\", \"1-14\", \"1-16\", \"1-18\", \"1-19\", \"1-8\", \"10-11\", \"10-17\", \"10-4\", \"10-7\", \"11-1\", \"11-10\", \"11-19\", \"11-20\", \"11-4\", \"11-7\", \"12-19\", \"12-20\", \"12-7\", \"13-14\", \"13-18\", \"13-19\", \"13-20\", \"13-3\", \"13-7\", \"14-10\", \"14-11\", \"14-12\", \"14-13\", \"14-14\", \"14-19\", \"14-20\", \"14-7\", \"14-8\", \"14-9\", \"15-1\", \"15-19\", \"15-6\", \"16-1\", \"16-16\", \"16-19\", \"16-20\", \"17-10\", \"17-11\", \"18-1\", \"18-10\", \"18-11\", \"18-12\", \"18-13\", \"18-14\", \"18-15\", \"18-16\", \"18-17\", \"18-19\", \"18-2\", \"18-20\", \"18-4\", \"18-5\", \"18-7\", \"18-8\", \"18-9\", \"19-1\", \"19-10\", \"19-11\", \"19-12\", \"19-13\", \"19-14\", \"19-15\", \"19-19\", \"19-2\", \"19-20\", \"19-3\", \"19-4\", \"19-6\", \"19-7\", \"19-8\", \"19-9\", \"2-1\", \"2-13\", \"2-15\", \"2-3\", \"2-4\", \"2-5\", \"2-6\", \"2-7\", \"2-8\", \"20-1\", \"20-12\", \"20-14\", \"20-15\", \"20-16\", \"20-18\", \"20-19\", \"20-20\", \"20-3\", \"20-4\", \"20-5\", \"20-7\", \"20-8\", \"3-1\", \"3-13\", \"3-18\", \"3-2\", \"3-8\", \"4-1\", \"4-10\", \"4-11\", \"5-1\", \"5-5\", \"6-1\", \"6-15\", \"6-6\", \"7-10\", \"7-11\", \"7-12\", \"7-13\", \"7-14\", \"7-7\", \"7-8\", \"7-9\", \"8-1\", \"8-13\", \"8-14\", \"8-18\", \"8-20\", \"8-3\", \"8-8\", \"9-1\", \"9-7\"], \"domains\": [1, 2, 3, 4], \"num_examples_per_domain_per_label\": -1, \"pickle_path\": \"/root/csc500-main/datasets/wisig.node3-19.stratified_ds.2022A.pkl\", \"source_or_target_dataset\": \"target\", \"x_transforms\": [], \"episode_transforms\": [], \"domain_prefix\": \"Wisig_\"}], \"dataset_seed\": 154325, \"seed\": 154325, \"x_shape\": [2, 256], \"domains_source\": [\"CORES_1\", \"CORES_2\", \"CORES_3\", \"CORES_4\", \"CORES_5\"], \"domains_target\": [\"Wisig_1\", \"Wisig_2\", \"Wisig_3\", \"Wisig_4\"]}, \"results\": {\"source_test_label_accuracy\": 0.9975862068965518, \"source_test_label_loss\": 0.008243451826274395, \"target_test_label_accuracy\": 0.7807029177718833, \"target_test_label_loss\": 3.3189826011657715, \"source_val_label_accuracy\": 0.9953304597701149, \"source_val_label_loss\": 0.03375891223549843, \"target_val_label_accuracy\": 0.7833466987436515, \"target_val_label_loss\": 2.8821098804473877, \"total_epochs_trained\": 3, \"total_experiment_time_secs\": 142.04973220825195, \"confusion\": {\"CORES_2\": {\"25\": {\"25\": 20}, \"39\": {\"39\": 20}, \"51\": {\"51\": 20}, \"4\": {\"4\": 20}, \"57\": {\"57\": 20}, \"0\": {\"0\": 20}, \"28\": {\"28\": 20}, \"35\": {\"35\": 20}, \"53\": {\"53\": 20}, \"33\": {\"33\": 20}, \"41\": {\"41\": 19, \"30\": 1}, \"14\": {\"14\": 20}, \"8\": {\"8\": 20}, \"47\": {\"47\": 19, \"1\": 1}, \"37\": {\"37\": 20}, \"43\": {\"43\": 20}, \"29\": {\"29\": 20}, \"56\": {\"56\": 20}, \"19\": {\"19\": 20}, \"48\": {\"48\": 20}, \"52\": {\"52\": 20}, \"22\": {\"22\": 20}, \"21\": {\"21\": 20}, \"27\": {\"27\": 20}, \"45\": {\"45\": 20}, \"10\": {\"10\": 20}, \"1\": {\"1\": 20}, \"38\": {\"38\": 20}, \"24\": {\"24\": 20}, \"17\": {\"17\": 20}, \"54\": {\"54\": 20}, \"3\": {\"3\": 19, \"50\": 1}, \"36\": {\"36\": 20}, \"40\": {\"40\": 20}, \"11\": {\"11\": 20}, \"55\": {\"55\": 20}, \"26\": {\"26\": 20}, \"20\": {\"20\": 20}, \"5\": {\"5\": 20}, \"44\": {\"44\": 20}, \"32\": {\"32\": 19, \"54\": 1}, \"31\": {\"31\": 20}, \"30\": {\"30\": 20}, \"49\": {\"49\": 19, \"33\": 1}, \"50\": {\"50\": 20}, \"6\": {\"6\": 20}, \"34\": {\"34\": 20}, \"15\": {\"15\": 20}, \"18\": {\"18\": 20}, \"16\": {\"16\": 20}, \"7\": {\"7\": 20}, \"9\": {\"9\": 20}, \"42\": {\"42\": 20}, \"2\": {\"2\": 20}, \"12\": {\"12\": 20}, \"46\": {\"46\": 20}, \"13\": {\"13\": 20}, \"23\": {\"23\": 20}}, \"CORES_1\": {\"9\": {\"9\": 24}, \"57\": {\"57\": 24}, \"18\": {\"18\": 23, \"50\": 1}, \"35\": {\"35\": 24}, \"24\": {\"24\": 24}, \"38\": {\"38\": 23, \"55\": 1}, \"3\": {\"3\": 24}, \"12\": {\"12\": 23, \"13\": 1}, \"11\": {\"11\": 23, \"20\": 1}, \"1\": {\"1\": 24}, \"5\": {\"5\": 24}, \"31\": {\"31\": 24}, \"25\": {\"25\": 24}, \"17\": {\"17\": 24}, \"36\": {\"36\": 24}, \"0\": {\"0\": 24}, \"16\": {\"16\": 24}, \"32\": {\"32\": 24}, \"20\": {\"20\": 24}, \"37\": {\"37\": 24}, \"8\": {\"8\": 24}, \"50\": {\"50\": 24}, \"30\": {\"30\": 24}, \"27\": {\"27\": 24}, \"6\": {\"6\": 23, \"46\": 1}, \"23\": {\"23\": 24}, \"28\": {\"28\": 24}, \"40\": {\"40\": 24}, \"49\": {\"49\": 24}, \"56\": {\"56\": 24}, \"15\": {\"15\": 24}, \"19\": {\"19\": 24}, \"55\": {\"55\": 24}, \"51\": {\"51\": 24}, \"52\": {\"52\": 24}, \"13\": {\"13\": 24}, \"22\": {\"22\": 24}, \"4\": {\"4\": 24}, \"43\": {\"43\": 24}, \"29\": {\"29\": 24}, \"33\": {\"33\": 24}, \"45\": {\"45\": 24}, \"10\": {\"10\": 22, \"11\": 2}, \"48\": {\"48\": 24}, \"2\": {\"2\": 24}, \"39\": {\"39\": 24}, \"44\": {\"44\": 24}, \"7\": {\"7\": 24}, \"53\": {\"53\": 24}, \"54\": {\"54\": 24}, \"46\": {\"46\": 23, \"50\": 1}, \"14\": {\"14\": 24}, \"47\": {\"47\": 24}, \"34\": {\"34\": 24}, \"42\": {\"42\": 24}, \"21\": {\"21\": 24}, \"26\": {\"26\": 24}, \"41\": {\"41\": 24}}, \"CORES_5\": {\"37\": {\"37\": 19, \"39\": 1}, \"22\": {\"22\": 20}, \"40\": {\"40\": 20}, \"19\": {\"19\": 20}, \"2\": {\"2\": 20}, \"0\": {\"0\": 20}, \"5\": {\"5\": 20}, \"25\": {\"25\": 20}, \"18\": {\"18\": 20}, \"4\": {\"4\": 20}, \"6\": {\"6\": 19, \"50\": 1}, \"21\": {\"21\": 20}, \"24\": {\"24\": 20}, \"35\": {\"35\": 20}, \"43\": {\"43\": 20}, \"14\": {\"14\": 20}, \"53\": {\"53\": 20}, \"11\": {\"11\": 20}, \"28\": {\"28\": 19, \"34\": 1}, \"49\": {\"49\": 20}, \"10\": {\"10\": 20}, \"27\": {\"27\": 20}, \"8\": {\"8\": 20}, \"46\": {\"46\": 20}, \"3\": {\"3\": 20}, \"17\": {\"17\": 20}, \"23\": {\"23\": 20}, \"20\": {\"20\": 20}, \"16\": {\"16\": 20}, \"55\": {\"55\": 20}, \"15\": {\"15\": 20}, \"45\": {\"45\": 20}, \"12\": {\"12\": 20}, \"30\": {\"30\": 20}, \"13\": {\"13\": 20}, \"54\": {\"54\": 20}, \"57\": {\"57\": 20}, \"1\": {\"1\": 20}, \"7\": {\"7\": 20}, \"33\": {\"33\": 20}, \"56\": {\"56\": 20}, \"44\": {\"44\": 20}, \"48\": {\"48\": 20}, \"36\": {\"36\": 20}, \"50\": {\"50\": 20}, \"32\": {\"32\": 20}, \"51\": {\"51\": 20}, \"52\": {\"52\": 20}, \"31\": {\"31\": 20}, \"39\": {\"39\": 20}, \"42\": {\"42\": 20}, \"9\": {\"9\": 20}, \"26\": {\"26\": 20}, \"38\": {\"38\": 20}, \"47\": {\"47\": 20}, \"34\": {\"34\": 20}, \"41\": {\"41\": 20}, \"29\": {\"29\": 20}}, \"CORES_4\": {\"25\": {\"25\": 16}, \"24\": {\"24\": 15, \"7\": 1}, \"6\": {\"6\": 16}, \"27\": {\"27\": 16}, \"35\": {\"35\": 16}, \"48\": {\"48\": 16}, \"0\": {\"0\": 16}, \"44\": {\"44\": 16}, \"50\": {\"50\": 16}, \"36\": {\"36\": 16}, \"13\": {\"13\": 16}, \"42\": {\"42\": 16}, \"38\": {\"38\": 16}, \"54\": {\"54\": 16}, \"33\": {\"33\": 16}, \"49\": {\"49\": 16}, \"28\": {\"28\": 16}, \"53\": {\"53\": 16}, \"16\": {\"16\": 16}, \"20\": {\"20\": 16}, \"12\": {\"12\": 16}, \"1\": {\"1\": 16}, \"5\": {\"5\": 16}, \"52\": {\"52\": 16}, \"39\": {\"39\": 16}, \"11\": {\"11\": 16}, \"3\": {\"3\": 15, \"6\": 1}, \"22\": {\"22\": 16}, \"23\": {\"23\": 16}, \"47\": {\"47\": 16}, \"32\": {\"32\": 16}, \"31\": {\"31\": 16}, \"4\": {\"4\": 16}, \"43\": {\"43\": 16}, \"46\": {\"46\": 16}, \"40\": {\"40\": 16}, \"55\": {\"55\": 16}, \"21\": {\"21\": 16}, \"56\": {\"56\": 16}, \"8\": {\"8\": 16}, \"37\": {\"37\": 16}, \"7\": {\"7\": 16}, \"14\": {\"14\": 16}, \"18\": {\"18\": 16}, \"26\": {\"26\": 16}, \"34\": {\"34\": 16}, \"45\": {\"45\": 16}, \"10\": {\"10\": 16}, \"15\": {\"15\": 16}, \"51\": {\"51\": 16}, \"30\": {\"30\": 16}, \"41\": {\"41\": 16}, \"2\": {\"2\": 16}, \"29\": {\"29\": 16}, \"19\": {\"19\": 16}, \"17\": {\"17\": 16}, \"9\": {\"9\": 15, \"27\": 1}, \"57\": {\"57\": 16}}, \"CORES_3\": {\"20\": {\"20\": 16}, \"56\": {\"56\": 16}, \"43\": {\"43\": 16}, \"1\": {\"1\": 16}, \"41\": {\"41\": 16}, \"29\": {\"29\": 16}, \"27\": {\"27\": 16}, \"4\": {\"4\": 16}, \"53\": {\"53\": 16}, \"22\": {\"22\": 16}, \"46\": {\"46\": 16}, \"54\": {\"54\": 16}, \"9\": {\"9\": 16}, \"5\": {\"5\": 16}, \"18\": {\"18\": 16}, \"45\": {\"45\": 15, \"6\": 1}, \"48\": {\"48\": 15, \"47\": 1}, \"35\": {\"35\": 16}, \"40\": {\"40\": 16}, \"33\": {\"33\": 16}, \"0\": {\"0\": 16}, \"44\": {\"44\": 16}, \"50\": {\"50\": 15, \"21\": 1}, \"38\": {\"38\": 16}, \"57\": {\"57\": 16}, \"15\": {\"15\": 16}, \"26\": {\"26\": 16}, \"51\": {\"51\": 16}, \"30\": {\"30\": 16}, \"47\": {\"47\": 15, \"1\": 1}, \"6\": {\"6\": 16}, \"8\": {\"8\": 16}, \"24\": {\"24\": 16}, \"12\": {\"12\": 16}, \"7\": {\"7\": 16}, \"49\": {\"49\": 16}, \"28\": {\"28\": 15, \"23\": 1}, \"2\": {\"2\": 16}, \"42\": {\"42\": 16}, \"11\": {\"11\": 16}, \"23\": {\"23\": 16}, \"17\": {\"17\": 16}, \"52\": {\"52\": 16}, \"31\": {\"31\": 16}, \"32\": {\"32\": 15, \"54\": 1}, \"21\": {\"21\": 16}, \"19\": {\"19\": 16}, \"39\": {\"39\": 16}, \"3\": {\"3\": 16}, \"13\": {\"13\": 16}, \"25\": {\"25\": 16}, \"55\": {\"55\": 16}, \"16\": {\"16\": 16}, \"37\": {\"37\": 16}, \"36\": {\"36\": 16}, \"14\": {\"14\": 15, \"1\": 1}, \"34\": {\"34\": 16}, \"10\": {\"10\": 16}}, \"Wisig_2\": {\"41\": {\"91\": 1, \"41\": 12, \"81\": 2, \"98\": 2, \"19\": 2, \"5\": 1}, \"31\": {\"81\": 1, \"126\": 1, \"69\": 7, \"82\": 1, \"31\": 8, \"88\": 1, \"66\": 1}, \"126\": {\"126\": 47, \"24\": 2, \"11\": 1, \"108\": 1, \"87\": 1}, \"80\": {\"80\": 12, \"102\": 1, \"116\": 1, \"119\": 1, \"123\": 1}, \"101\": {\"101\": 48, \"0\": 2}, \"128\": {\"128\": 5, \"28\": 1, \"9\": 6, \"71\": 4, \"58\": 3, \"114\": 4, \"44\": 1}, \"46\": {\"46\": 11, \"111\": 1, \"85\": 2, \"126\": 1, \"5\": 1}, \"96\": {\"96\": 17, \"93\": 2, \"23\": 1}, \"117\": {\"117\": 32, \"2\": 2, \"65\": 2}, \"109\": {\"109\": 26, \"39\": 12, \"88\": 1, \"78\": 1}, \"17\": {\"109\": 1, \"4\": 1, \"88\": 1, \"17\": 6, \"5\": 1, \"67\": 3, \"18\": 1, \"80\": 1, \"21\": 1}, \"63\": {\"63\": 20}, \"69\": {\"69\": 36, \"126\": 1, \"31\": 1, \"92\": 1, \"89\": 1, \"21\": 1, \"88\": 1}, \"30\": {\"30\": 34, \"88\": 3, \"0\": 7, \"21\": 2, \"97\": 3, \"122\": 1, \"8\": 1, \"101\": 1}, \"120\": {\"120\": 14, \"2\": 3, \"121\": 3}, \"4\": {\"4\": 35, \"79\": 1}, \"102\": {\"102\": 50}, \"81\": {\"81\": 21, \"91\": 1, \"90\": 2}, \"6\": {\"6\": 13, \"111\": 1, \"47\": 1, \"129\": 4, \"98\": 1, \"25\": 5, \"59\": 3, \"85\": 2, \"112\": 1, \"124\": 1}, \"110\": {\"110\": 28, \"125\": 1, \"23\": 2, \"60\": 3, \"122\": 2}, \"55\": {\"55\": 12, \"61\": 2, \"95\": 2}, \"67\": {\"67\": 9, \"116\": 2, \"90\": 2, \"81\": 1, \"102\": 2}, \"50\": {\"50\": 16}, \"19\": {\"19\": 22, \"52\": 1, \"73\": 1, \"29\": 2, \"47\": 1, \"100\": 1}, \"104\": {\"64\": 2, \"104\": 15, \"86\": 1, \"33\": 1, \"92\": 1}, \"112\": {\"91\": 3, \"103\": 2, \"112\": 6, \"19\": 1, \"42\": 2, \"98\": 2}, \"10\": {\"78\": 1, \"10\": 41, \"88\": 1, \"21\": 1}, \"54\": {\"54\": 15, \"56\": 1, \"127\": 1, \"41\": 1, \"34\": 2}, \"7\": {\"7\": 32, \"74\": 2, \"95\": 2}, \"28\": {\"28\": 14, \"72\": 1, \"29\": 1, \"5\": 1, \"86\": 1, \"91\": 2}, \"5\": {\"5\": 33, \"129\": 2, \"73\": 2, \"85\": 1, \"21\": 2}, \"15\": {\"15\": 35, \"0\": 1, \"106\": 4, \"97\": 1, \"101\": 3}, \"73\": {\"85\": 4, \"45\": 1, \"73\": 20, \"129\": 1, \"5\": 2}, \"76\": {\"76\": 10, \"109\": 1, \"61\": 2, \"21\": 1, \"89\": 2}, \"105\": {\"105\": 42, \"7\": 1, \"62\": 1}, \"78\": {\"78\": 24, \"109\": 8, \"39\": 2, \"88\": 2}, \"106\": {\"15\": 2, \"106\": 35, \"9\": 1, \"88\": 2, \"27\": 1, \"94\": 2, \"51\": 1}, \"57\": {\"57\": 15, \"88\": 1, \"2\": 1, \"90\": 2, \"21\": 1}, \"90\": {\"90\": 37, \"121\": 1}, \"35\": {\"35\": 12}, \"64\": {\"64\": 14, \"109\": 1, \"39\": 1}, \"3\": {\"54\": 2, \"3\": 18, \"71\": 2, \"127\": 3, \"60\": 1}, \"42\": {\"112\": 4, \"42\": 21, \"124\": 3}, \"103\": {\"91\": 2, \"73\": 1, \"103\": 9, \"68\": 1, \"52\": 2, \"29\": 1}, \"49\": {\"49\": 11, \"128\": 2, \"127\": 2, \"106\": 3, \"98\": 4, \"114\": 1, \"15\": 1}, \"123\": {\"123\": 13, \"82\": 1, \"66\": 1, \"119\": 1}, \"13\": {\"13\": 11, \"27\": 1, \"117\": 1, \"65\": 1, \"2\": 2}, \"9\": {\"9\": 32}, \"118\": {\"118\": 36, \"62\": 2, \"105\": 1, \"43\": 1}, \"91\": {\"103\": 6, \"68\": 3, \"54\": 3, \"32\": 1, \"85\": 3, \"91\": 5, \"29\": 4, \"98\": 2, \"41\": 1}, \"27\": {\"27\": 32, \"8\": 2, \"94\": 3, \"36\": 6, \"21\": 2, \"121\": 1}, \"53\": {\"53\": 14, \"54\": 1, \"1\": 1}, \"32\": {\"3\": 1, \"32\": 11, \"1\": 1, \"14\": 10, \"62\": 3, \"40\": 1, \"105\": 5, \"29\": 1, \"35\": 1}, \"107\": {\"107\": 27, \"36\": 1, \"40\": 7, \"32\": 3, \"22\": 1, \"127\": 4, \"58\": 1, \"95\": 1, \"84\": 1, \"56\": 1, \"54\": 3}, \"36\": {\"36\": 31, \"94\": 1, \"27\": 2, \"106\": 1, \"108\": 2, \"26\": 1}, \"129\": {\"129\": 18, \"5\": 1, \"59\": 1, \"85\": 3, \"124\": 3, \"42\": 2, \"52\": 2, \"6\": 2}, \"26\": {\"69\": 4, \"26\": 29, \"18\": 4, \"31\": 1, \"21\": 1, \"89\": 1, \"109\": 1, \"113\": 1}, \"85\": {\"112\": 2, \"85\": 22, \"129\": 1, \"91\": 1, \"22\": 1, \"98\": 1, \"73\": 2, \"59\": 1, \"53\": 1}, \"68\": {\"88\": 2, \"103\": 1, \"68\": 12, \"29\": 1}, \"95\": {\"95\": 32, \"40\": 3, \"105\": 1}, \"12\": {\"12\": 28, \"127\": 2, \"34\": 1, \"88\": 1, \"101\": 2, \"23\": 2, \"109\": 1, \"3\": 1}, \"71\": {\"71\": 38, \"34\": 8, \"3\": 4, \"54\": 2, \"128\": 2}, \"16\": {\"96\": 3, \"16\": 30, \"72\": 1, \"93\": 10, \"87\": 1, \"52\": 1, \"60\": 1, \"88\": 1, \"23\": 1, \"112\": 1}, \"20\": {\"88\": 1, \"20\": 13, \"83\": 2}, \"74\": {\"74\": 7, \"105\": 2, \"95\": 2, \"24\": 1, \"50\": 2, \"61\": 2}, \"79\": {\"79\": 15, \"123\": 1}, \"58\": {\"58\": 14, \"85\": 1, \"106\": 1, \"9\": 2, \"70\": 1, \"51\": 1}, \"122\": {\"122\": 34, \"8\": 1, \"23\": 1, \"30\": 2, \"110\": 1, \"43\": 1}, \"98\": {\"98\": 46, \"21\": 1, \"81\": 1, \"114\": 3, \"41\": 1, \"53\": 1, \"121\": 1, \"91\": 1, \"44\": 1}, \"83\": {\"83\": 31, \"96\": 1, \"44\": 3, \"19\": 1}, \"99\": {\"20\": 1, \"99\": 31}, \"14\": {\"14\": 40, \"126\": 2, \"32\": 2, \"110\": 2, \"24\": 1, \"70\": 1}, \"2\": {\"13\": 3, \"120\": 2, \"121\": 11, \"2\": 9, \"90\": 1, \"52\": 1, \"117\": 1, \"129\": 3, \"48\": 1}, \"34\": {\"34\": 7, \"71\": 6, \"40\": 1, \"14\": 7, \"29\": 1, \"128\": 2, \"32\": 1, \"127\": 1, \"1\": 1, \"51\": 2, \"60\": 1, \"114\": 1, \"49\": 1}, \"88\": {\"88\": 37, \"21\": 1, \"70\": 1, \"39\": 3}, \"51\": {\"51\": 7, \"75\": 7, \"36\": 1, \"97\": 1, \"127\": 2, \"58\": 1, \"15\": 1}, \"45\": {\"45\": 12, \"123\": 1, \"37\": 1, \"19\": 1, \"86\": 1}, \"125\": {\"125\": 31, \"112\": 1}, \"43\": {\"122\": 3, \"21\": 3, \"43\": 27, \"70\": 1, \"23\": 3, \"105\": 1, \"88\": 1, \"87\": 1}, \"92\": {\"92\": 18, \"61\": 1, \"89\": 5, \"14\": 1, \"64\": 1, \"69\": 2}, \"8\": {\"8\": 31, \"122\": 6, \"89\": 2, \"11\": 3, \"12\": 2}, \"82\": {\"82\": 30, \"66\": 1, \"33\": 1, \"45\": 3, \"1\": 1}, \"66\": {\"82\": 1, \"66\": 16, \"1\": 1, \"76\": 1, \"92\": 1}, \"59\": {\"88\": 1, \"59\": 11, \"124\": 1, \"24\": 1, \"111\": 1, \"129\": 1}, \"75\": {\"75\": 14, \"51\": 2}, \"29\": {\"29\": 32}, \"40\": {\"40\": 30, \"7\": 2, \"21\": 2, \"95\": 5, \"60\": 1, \"88\": 2, \"105\": 1, \"107\": 1}, \"97\": {\"97\": 17, \"15\": 1, \"30\": 1, \"101\": 1}, \"33\": {\"33\": 37, \"38\": 1, \"84\": 1, \"60\": 1}, \"47\": {\"53\": 3, \"41\": 1, \"77\": 1, \"19\": 3, \"25\": 1, \"47\": 2, \"100\": 1}, \"1\": {\"1\": 44, \"34\": 2, \"3\": 2}, \"44\": {\"44\": 37, \"88\": 1}, \"62\": {\"62\": 28, \"105\": 5, \"32\": 1, \"7\": 1, \"21\": 1}, \"127\": {\"127\": 33, \"56\": 1, \"107\": 2, \"88\": 1, \"12\": 3}, \"84\": {\"84\": 30, \"21\": 1, \"27\": 1, \"40\": 3, \"24\": 1, \"88\": 1, \"33\": 2, \"14\": 1}, \"72\": {\"72\": 21, \"26\": 2, \"27\": 1, \"16\": 2, \"93\": 1, \"96\": 1}, \"87\": {\"87\": 36, \"16\": 2, \"70\": 1, \"88\": 1, \"21\": 2, \"26\": 1, \"93\": 1}, \"121\": {\"121\": 33, \"90\": 1, \"81\": 1, \"120\": 1}, \"21\": {\"21\": 31, \"109\": 2, \"88\": 2, \"78\": 1}, \"115\": {\"115\": 11, \"92\": 1}, \"111\": {\"111\": 45, \"88\": 2, \"85\": 1, \"129\": 1, \"5\": 1}, \"61\": {\"61\": 17, \"31\": 1, \"95\": 1, \"70\": 1}, \"24\": {\"24\": 31, \"94\": 1, \"88\": 1, \"27\": 2, \"36\": 1}, \"56\": {\"54\": 1, \"56\": 9, \"14\": 1, \"34\": 1}, \"11\": {\"11\": 22, \"8\": 5, \"122\": 1, \"15\": 1, \"70\": 1}, \"48\": {\"48\": 17, \"99\": 1, \"13\": 1, \"2\": 1}, \"39\": {\"39\": 23, \"109\": 8, \"118\": 2, \"88\": 2, \"26\": 1}, \"77\": {\"77\": 9, \"52\": 5, \"21\": 1, \"103\": 1}, \"93\": {\"16\": 4, \"93\": 37, \"88\": 1, \"72\": 1, \"96\": 2, \"8\": 1, \"23\": 2}, \"0\": {\"110\": 2, \"0\": 27, \"30\": 5, \"122\": 2, \"101\": 2}, \"114\": {\"114\": 35, \"128\": 1, \"34\": 1, \"88\": 1}, \"37\": {\"37\": 13, \"45\": 1, \"82\": 1, \"21\": 1}, \"124\": {\"124\": 32, \"59\": 1, \"129\": 3}, \"38\": {\"38\": 15, \"33\": 1}, \"70\": {\"70\": 20, \"88\": 7, \"18\": 1, \"109\": 3, \"39\": 3, \"78\": 3, \"10\": 2, \"30\": 1}, \"116\": {\"0\": 1, \"116\": 20, \"45\": 1, \"37\": 1, \"119\": 1, \"4\": 1, \"80\": 1, \"123\": 1, \"102\": 1}, \"119\": {\"82\": 3, \"86\": 1, \"119\": 11, \"45\": 1, \"2\": 1, \"13\": 1, \"123\": 1, \"116\": 1}, \"60\": {\"96\": 2, \"60\": 7, \"23\": 2, \"43\": 3, \"93\": 7, \"110\": 2, \"14\": 2, \"44\": 1, \"74\": 1, \"118\": 1}, \"86\": {\"86\": 31, \"77\": 1}, \"65\": {\"117\": 4, \"65\": 15, \"121\": 1}, \"94\": {\"106\": 11, \"94\": 19, \"70\": 1, \"15\": 2, \"108\": 1, \"88\": 2}, \"113\": {\"113\": 35, \"26\": 1}, \"18\": {\"18\": 30, \"69\": 7, \"89\": 1, \"26\": 6}, \"23\": {\"23\": 8, \"57\": 4, \"122\": 11, \"12\": 2, \"110\": 5, \"8\": 1, \"14\": 1, \"113\": 2, \"0\": 2, \"20\": 1, \"121\": 1}, \"108\": {\"108\": 38, \"27\": 1, \"126\": 1}, \"89\": {\"89\": 24, \"92\": 5, \"69\": 2, \"88\": 1, \"70\": 1, \"76\": 1, \"31\": 2}, \"52\": {\"52\": 16, \"58\": 1, \"77\": 2, \"124\": 1}, \"25\": {\"25\": 16}, \"22\": {\"22\": 18, \"89\": 1, \"88\": 1}, \"100\": {\"100\": 13, \"44\": 1, \"19\": 1, \"85\": 1}}, \"Wisig_4\": {\"71\": {\"71\": 46, \"12\": 2, \"114\": 2, \"60\": 1, \"21\": 1}, \"112\": {\"112\": 9, \"125\": 1, \"83\": 1, \"41\": 1, \"42\": 2, \"59\": 2}, \"75\": {\"75\": 14, \"94\": 1, \"36\": 1}, \"17\": {\"17\": 18, \"24\": 1, \"31\": 1}, \"50\": {\"50\": 12, \"54\": 1, \"86\": 1, \"28\": 2}, \"60\": {\"60\": 20, \"20\": 2, \"72\": 2, \"8\": 1, \"30\": 1, \"3\": 1, \"93\": 2, \"14\": 1}, \"12\": {\"55\": 1, \"12\": 30, \"0\": 1, \"15\": 1, \"8\": 2, \"31\": 1, \"34\": 2, \"30\": 1, \"106\": 1}, \"29\": {\"29\": 29, \"95\": 2, \"63\": 1}, \"15\": {\"15\": 26, \"94\": 4, \"8\": 3, \"30\": 1}, \"7\": {\"7\": 32, \"87\": 4, \"105\": 1, \"101\": 3}, \"27\": {\"27\": 36, \"59\": 1, \"21\": 1, \"36\": 3, \"0\": 1, \"94\": 1, \"70\": 1}, \"91\": {\"91\": 12, \"58\": 2, \"46\": 1, \"103\": 4, \"77\": 1, \"73\": 1, \"19\": 1, \"1\": 1, \"29\": 1}, \"20\": {\"20\": 15, \"93\": 1}, \"16\": {\"16\": 30, \"69\": 3, \"76\": 1, \"39\": 1, \"21\": 1}, \"99\": {\"99\": 31, \"84\": 1, \"33\": 1, \"89\": 1}, \"26\": {\"26\": 42, \"110\": 1, \"35\": 1, \"18\": 2}, \"24\": {\"24\": 39, \"27\": 8, \"97\": 3, \"10\": 4, \"21\": 1, \"70\": 2, \"36\": 1}, \"58\": {\"58\": 14, \"47\": 1, \"129\": 1}, \"74\": {\"74\": 16}, \"110\": {\"110\": 29, \"99\": 1, \"72\": 1, \"87\": 2, \"18\": 1, \"43\": 1, \"39\": 1}, \"67\": {\"104\": 5, \"67\": 3, \"17\": 3, \"48\": 2, \"57\": 1, \"64\": 2}, \"46\": {\"46\": 15, \"5\": 2, \"100\": 1, \"73\": 1, \"98\": 1}, \"19\": {\"100\": 1, \"29\": 2, \"19\": 16, \"5\": 2, \"95\": 1, \"52\": 1, \"73\": 2, \"128\": 1, \"103\": 2}, \"81\": {\"26\": 1, \"81\": 30, \"35\": 2, \"121\": 1, \"51\": 1, \"117\": 1}, \"0\": {\"0\": 31, \"101\": 8, \"7\": 2, \"43\": 1}, \"104\": {\"104\": 10, \"31\": 2, \"17\": 2, \"66\": 1, \"102\": 1}, \"9\": {\"73\": 2, \"9\": 24, \"112\": 1, \"53\": 1}, \"96\": {\"99\": 1, \"16\": 1, \"96\": 16, \"32\": 1, \"84\": 1}, \"14\": {\"14\": 32, \"89\": 1, \"34\": 3, \"32\": 2, \"99\": 2}, \"114\": {\"114\": 23, \"5\": 1, \"3\": 7, \"71\": 3, \"1\": 1, \"85\": 1}, \"59\": {\"59\": 12}, \"21\": {\"21\": 33, \"78\": 3, \"39\": 2, \"0\": 1, \"43\": 1}, \"88\": {\"88\": 24, \"21\": 3, \"108\": 3, \"70\": 4}, \"4\": {\"4\": 37, \"115\": 3, \"119\": 1, \"21\": 1}, \"129\": {\"129\": 21, \"19\": 1, \"119\": 2, \"68\": 1, \"124\": 2, \"73\": 1}, \"30\": {\"30\": 46, \"21\": 1, \"106\": 1, \"122\": 1, \"15\": 1}, \"5\": {\"46\": 2, \"5\": 34, \"52\": 1, \"93\": 1, \"108\": 1, \"20\": 1}, \"119\": {\"119\": 12, \"124\": 4}, \"66\": {\"66\": 7, \"45\": 1, \"90\": 1, \"116\": 1, \"121\": 1, \"33\": 1, \"57\": 3, \"120\": 1}, \"53\": {\"53\": 12, \"68\": 2, \"49\": 1, \"116\": 1}, \"51\": {\"12\": 1, \"14\": 1, \"117\": 1, \"75\": 1, \"41\": 2, \"34\": 1, \"25\": 2, \"39\": 2, \"109\": 1, \"98\": 1, \"53\": 1, \"127\": 2}, \"37\": {\"37\": 16}, \"127\": {\"127\": 36, \"95\": 2, \"7\": 1, \"105\": 1, \"34\": 1, \"78\": 1}, \"80\": {\"80\": 16}, \"55\": {\"55\": 14, \"107\": 1, \"33\": 1}, \"122\": {\"122\": 29, \"96\": 2, \"0\": 2, \"101\": 1, \"87\": 5, \"43\": 4, \"39\": 1}, \"8\": {\"8\": 42, \"106\": 3, \"110\": 1, \"93\": 1, \"0\": 1}, \"76\": {\"76\": 12, \"69\": 2, \"89\": 2}, \"57\": {\"57\": 10, \"66\": 3, \"78\": 1, \"67\": 1, \"21\": 1}, \"52\": {\"52\": 12, \"77\": 2, \"49\": 1, \"85\": 1, \"53\": 1, \"3\": 1, \"98\": 1, \"91\": 1}, \"100\": {\"100\": 15, \"3\": 2, \"34\": 1, \"19\": 1, \"52\": 1}, \"93\": {\"93\": 39, \"60\": 2, \"11\": 3}, \"82\": {\"82\": 26, \"69\": 3, \"40\": 1}, \"86\": {\"37\": 1, \"86\": 19, \"102\": 3, \"115\": 1, \"119\": 1, \"4\": 2, \"5\": 1}, \"107\": {\"107\": 34, \"39\": 1, \"78\": 1, \"14\": 1, \"105\": 4, \"89\": 1}, \"73\": {\"73\": 12, \"19\": 2, \"129\": 2, \"103\": 1, \"42\": 2, \"5\": 1, \"25\": 1, \"53\": 1, \"46\": 1, \"83\": 1}, \"116\": {\"116\": 10, \"50\": 2, \"28\": 1, \"115\": 2, \"102\": 7, \"121\": 1, \"117\": 1, \"13\": 1, \"90\": 2, \"17\": 1}, \"94\": {\"14\": 1, \"94\": 39, \"8\": 1, \"15\": 4, \"21\": 1}, \"97\": {\"24\": 8, \"22\": 1, \"97\": 7, \"27\": 2, \"36\": 1, \"10\": 1}, \"68\": {\"68\": 12, \"91\": 2, \"41\": 2}, \"10\": {\"10\": 24, \"117\": 1, \"70\": 7, \"24\": 6, \"88\": 2}, \"31\": {\"31\": 12, \"22\": 2, \"69\": 1, \"36\": 1}, \"47\": {\"47\": 4, \"58\": 2, \"77\": 3, \"6\": 1, \"9\": 1, \"108\": 1}, \"65\": {\"65\": 11, \"45\": 1}, \"28\": {\"28\": 19, \"37\": 1}, \"2\": {\"117\": 8, \"13\": 1, \"19\": 1, \"2\": 14, \"81\": 1, \"124\": 1, \"119\": 1, \"129\": 1}, \"42\": {\"125\": 1, \"42\": 17, \"124\": 1, \"84\": 1, \"73\": 4, \"112\": 1, \"59\": 1, \"6\": 2}, \"102\": {\"102\": 44, \"21\": 1, \"2\": 4, \"88\": 1}, \"95\": {\"3\": 1, \"95\": 24, \"1\": 3, \"71\": 2, \"85\": 1, \"107\": 1}, \"35\": {\"35\": 10, \"26\": 2}, \"33\": {\"33\": 41, \"107\": 1}, \"6\": {\"6\": 9, \"9\": 1, \"73\": 1, \"83\": 5, \"111\": 2, \"112\": 1, \"68\": 2, \"25\": 1, \"1\": 1, \"98\": 1}, \"49\": {\"5\": 4, \"20\": 2, \"53\": 2, \"49\": 13, \"128\": 1, \"106\": 3, \"51\": 1, \"8\": 2, \"46\": 1, \"15\": 1, \"52\": 1, \"11\": 1}, \"45\": {\"128\": 1, \"28\": 1, \"45\": 12, \"37\": 1, \"86\": 1}, \"89\": {\"89\": 26, \"14\": 1, \"40\": 5}, \"40\": {\"40\": 31, \"105\": 4, \"126\": 1, \"110\": 1, \"107\": 1}, \"3\": {\"3\": 16, \"71\": 11, \"114\": 6, \"85\": 2, \"1\": 1}, \"63\": {\"65\": 4, \"63\": 12}, \"13\": {\"13\": 13, \"67\": 2, \"115\": 1}, \"108\": {\"108\": 25, \"14\": 1, \"126\": 1, \"70\": 8, \"24\": 1, \"36\": 1, \"87\": 1}, \"125\": {\"125\": 38, \"79\": 1, \"41\": 2, \"42\": 3, \"67\": 1, \"117\": 1}, \"123\": {\"2\": 1, \"123\": 15}, \"115\": {\"115\": 7, \"86\": 2, \"4\": 3, \"10\": 1, \"28\": 1, \"104\": 1, \"37\": 1}, \"117\": {\"117\": 47, \"43\": 2, \"39\": 1, \"2\": 2}, \"43\": {\"43\": 18, \"110\": 2, \"122\": 11, \"87\": 8, \"84\": 2, \"21\": 1}, \"38\": {\"38\": 11, \"66\": 1, \"57\": 1, \"64\": 1, \"44\": 2}, \"128\": {\"33\": 5, \"100\": 2, \"128\": 8, \"92\": 1, \"44\": 5, \"52\": 2, \"103\": 1}, \"83\": {\"83\": 23, \"9\": 3, \"53\": 1, \"5\": 1}, \"79\": {\"80\": 1, \"79\": 15}, \"124\": {\"124\": 37, \"73\": 1, \"129\": 1, \"42\": 1}, \"84\": {\"84\": 39, \"69\": 3, \"16\": 1, \"105\": 2, \"96\": 2, \"99\": 2, \"14\": 1}, \"103\": {\"77\": 1, \"111\": 1, \"103\": 7, \"16\": 1, \"68\": 1, \"125\": 1, \"98\": 2, \"91\": 2}, \"121\": {\"21\": 1, \"121\": 19, \"81\": 3, \"90\": 3, \"66\": 3, \"57\": 1, \"39\": 1, \"116\": 1}, \"34\": {\"34\": 14, \"75\": 3, \"14\": 4, \"12\": 4, \"95\": 2, \"1\": 1, \"89\": 1, \"94\": 1, \"23\": 1, \"85\": 1}, \"126\": {\"126\": 43, \"39\": 1}, \"44\": {\"3\": 1, \"44\": 32, \"121\": 2, \"38\": 3, \"63\": 1, \"60\": 1, \"128\": 1, \"33\": 3, \"74\": 2}, \"41\": {\"53\": 3, \"41\": 7, \"78\": 1, \"98\": 3, \"125\": 1, \"91\": 1}, \"101\": {\"101\": 30, \"0\": 4, \"21\": 1, \"7\": 1}, \"109\": {\"109\": 35, \"31\": 1, \"21\": 1, \"118\": 2, \"39\": 2, \"12\": 1}, \"106\": {\"106\": 23, \"49\": 1, \"15\": 4, \"8\": 7, \"88\": 1, \"94\": 3, \"21\": 1, \"34\": 1, \"12\": 3}, \"11\": {\"93\": 6, \"11\": 35, \"88\": 1}, \"77\": {\"77\": 11, \"98\": 1}, \"62\": {\"82\": 2, \"31\": 1, \"62\": 18, \"39\": 1, \"88\": 1, \"118\": 5, \"21\": 1, \"16\": 1, \"36\": 1, \"14\": 1}, \"39\": {\"39\": 37, \"126\": 2, \"43\": 1}, \"61\": {\"35\": 1, \"61\": 14, \"65\": 1}, \"98\": {\"46\": 2, \"98\": 37, \"91\": 1, \"114\": 1, \"5\": 1, \"44\": 1, \"92\": 1, \"74\": 1, \"49\": 1}, \"111\": {\"103\": 1, \"111\": 25, \"68\": 2, \"129\": 2, \"73\": 1, \"4\": 1}, \"64\": {\"120\": 2, \"57\": 1, \"64\": 10, \"92\": 1, \"33\": 1, \"115\": 1}, \"70\": {\"70\": 28, \"10\": 3, \"23\": 1, \"108\": 3, \"27\": 1, \"36\": 1, \"93\": 1}, \"25\": {\"25\": 15, \"58\": 1}, \"56\": {\"56\": 6, \"89\": 2, \"41\": 1, \"32\": 1, \"107\": 1, \"33\": 1}, \"72\": {\"72\": 29, \"34\": 1, \"3\": 2}, \"87\": {\"87\": 43, \"14\": 1, \"110\": 1, \"0\": 2, \"122\": 4, \"21\": 1}, \"54\": {\"54\": 16}, \"36\": {\"36\": 40, \"97\": 2, \"101\": 1, \"24\": 1, \"94\": 2, \"27\": 2}, \"90\": {\"66\": 1, \"90\": 29, \"121\": 1, \"44\": 1}, \"120\": {\"32\": 1, \"120\": 14, \"29\": 1, \"45\": 2, \"102\": 1, \"28\": 1}, \"1\": {\"1\": 33, \"95\": 4, \"71\": 4, \"12\": 1}, \"78\": {\"51\": 1, \"78\": 17, \"87\": 1, \"39\": 4, \"21\": 4, \"23\": 1, \"0\": 1, \"10\": 1}, \"113\": {\"113\": 31, \"21\": 1, \"26\": 3, \"125\": 1}, \"32\": {\"89\": 2, \"99\": 2, \"32\": 21, \"117\": 1, \"82\": 1, \"14\": 1}, \"69\": {\"69\": 35, \"16\": 3, \"84\": 4, \"105\": 2}, \"92\": {\"22\": 4, \"18\": 1, \"92\": 14, \"84\": 1, \"81\": 3, \"64\": 1, \"99\": 1, \"76\": 1, \"32\": 1, \"31\": 1}, \"22\": {\"102\": 1, \"22\": 11, \"117\": 3, \"111\": 1}, \"18\": {\"18\": 28, \"81\": 1, \"110\": 1, \"26\": 2}, \"23\": {\"34\": 1, \"23\": 2, \"21\": 1, \"38\": 1, \"39\": 1, \"72\": 1, \"12\": 1, \"113\": 1, \"110\": 2, \"0\": 1, \"90\": 1, \"30\": 1, \"127\": 1, \"60\": 1}, \"85\": {\"85\": 23, \"3\": 1, \"42\": 1, \"114\": 2, \"71\": 1}, \"105\": {\"78\": 1, \"105\": 20, \"40\": 9, \"79\": 1, \"14\": 2, \"107\": 5, \"99\": 1, \"43\": 1}, \"118\": {\"118\": 22, \"62\": 8}, \"48\": {\"48\": 13, \"83\": 1, \"67\": 2}}, \"Wisig_1\": {\"63\": {\"63\": 14, \"65\": 1, \"123\": 1}, \"11\": {\"11\": 35, \"8\": 1}, \"23\": {\"23\": 12, \"3\": 2, \"93\": 3, \"110\": 3, \"21\": 1, \"87\": 1, \"114\": 1, \"1\": 1}, \"6\": {\"17\": 3, \"6\": 9, \"112\": 3, \"68\": 2, \"86\": 2, \"104\": 1, \"54\": 1, \"46\": 1, \"111\": 4, \"91\": 1, \"124\": 2, \"47\": 1, \"53\": 1, \"99\": 1}, \"125\": {\"125\": 38}, \"7\": {\"7\": 38}, \"33\": {\"33\": 32}, \"91\": {\"58\": 1, \"68\": 2, \"98\": 3, \"91\": 13, \"29\": 5, \"89\": 2, \"1\": 1, \"52\": 1}, \"108\": {\"108\": 34, \"109\": 3, \"88\": 5}, \"61\": {\"61\": 12}, \"69\": {\"69\": 30, \"21\": 1, \"26\": 1}, \"48\": {\"48\": 12}, \"58\": {\"58\": 8, \"129\": 1, \"68\": 2, \"104\": 1}, \"21\": {\"70\": 5, \"21\": 34, \"78\": 1}, \"103\": {\"103\": 15, \"6\": 1}, \"38\": {\"38\": 13, \"81\": 3}, \"81\": {\"81\": 26, \"84\": 1, \"14\": 1}, \"76\": {\"76\": 13, \"50\": 1, \"57\": 1, \"69\": 1}, \"70\": {\"109\": 4, \"70\": 36}, \"95\": {\"95\": 31, \"90\": 1, \"113\": 2, \"120\": 1, \"66\": 1}, \"43\": {\"43\": 20, \"87\": 2, \"122\": 11, \"93\": 1, \"21\": 2}, \"127\": {\"127\": 32, \"84\": 1, \"106\": 1, \"71\": 1, \"107\": 1}, \"87\": {\"87\": 38, \"7\": 2, \"93\": 1, \"122\": 1, \"84\": 2}, \"107\": {\"107\": 34}, \"116\": {\"116\": 19, \"22\": 1, \"65\": 2, \"17\": 2, \"120\": 1, \"117\": 1, \"66\": 1, \"48\": 2, \"128\": 1, \"102\": 1, \"95\": 1}, \"77\": {\"77\": 16}, \"45\": {\"45\": 5, \"21\": 2, \"42\": 3, \"46\": 1, \"129\": 1}, \"96\": {\"96\": 18, \"21\": 1, \"70\": 1}, \"74\": {\"74\": 16}, \"8\": {\"8\": 40, \"87\": 1, \"60\": 1, \"11\": 2}, \"114\": {\"114\": 44}, \"32\": {\"32\": 22, \"14\": 1, \"127\": 2, \"56\": 3, \"82\": 1, \"34\": 1}, \"102\": {\"116\": 2, \"102\": 36, \"80\": 2}, \"75\": {\"75\": 12, \"114\": 1, \"35\": 1, \"56\": 2}, \"123\": {\"63\": 2, \"123\": 13, \"22\": 1}, \"28\": {\"28\": 15, \"81\": 3, \"33\": 1, \"85\": 1}, \"37\": {\"37\": 16}, \"126\": {\"126\": 35, \"21\": 1}, \"30\": {\"30\": 38}, \"71\": {\"71\": 31, \"127\": 1, \"21\": 1, \"12\": 8, \"103\": 1, \"39\": 1, \"101\": 1}, \"18\": {\"18\": 27, \"95\": 1}, \"67\": {\"67\": 13, \"21\": 1, \"61\": 2}, \"83\": {\"83\": 12, \"77\": 2, \"114\": 1, \"19\": 2, \"35\": 1, \"98\": 1, \"1\": 3, \"72\": 2, \"128\": 1, \"75\": 1, \"101\": 1, \"82\": 1}, \"22\": {\"22\": 14, \"116\": 1, \"48\": 1}, \"53\": {\"53\": 17, \"31\": 1, \"49\": 2}, \"57\": {\"57\": 11, \"67\": 1}, \"89\": {\"53\": 2, \"89\": 23, \"9\": 3, \"73\": 2, \"47\": 1, \"98\": 1}, \"109\": {\"109\": 42, \"70\": 4}, \"119\": {\"119\": 16}, \"17\": {\"17\": 11, \"30\": 1, \"54\": 1, \"115\": 1, \"5\": 2}, \"14\": {\"14\": 32, \"87\": 1, \"81\": 1}, \"121\": {\"121\": 27, \"95\": 3, \"16\": 1, \"117\": 1}, \"59\": {\"59\": 9, \"6\": 1, \"111\": 1, \"121\": 1}, \"129\": {\"129\": 18, \"19\": 2, \"2\": 2, \"52\": 2, \"104\": 1, \"29\": 1, \"73\": 1, \"124\": 1}, \"105\": {\"105\": 30, \"40\": 8}, \"2\": {\"2\": 11, \"17\": 1, \"82\": 4, \"115\": 1, \"64\": 1, \"42\": 4, \"63\": 1, \"128\": 1, \"5\": 3, \"100\": 1, \"94\": 1, \"123\": 1, \"22\": 1, \"129\": 1}, \"68\": {\"68\": 13, \"58\": 1, \"112\": 1, \"5\": 1}, \"82\": {\"83\": 1, \"82\": 32, \"64\": 1, \"114\": 2}, \"27\": {\"36\": 1, \"27\": 31, \"97\": 2, \"15\": 2, \"94\": 2, \"24\": 1, \"88\": 3}, \"111\": {\"111\": 38, \"6\": 2}, \"124\": {\"124\": 36, \"104\": 1, \"129\": 3}, \"85\": {\"85\": 27, \"92\": 3, \"40\": 1, \"121\": 1}, \"26\": {\"26\": 43, \"16\": 1, \"118\": 1, \"69\": 1}, \"110\": {\"110\": 44, \"93\": 1, \"87\": 1}, \"97\": {\"97\": 12, \"27\": 3, \"95\": 1, \"24\": 2, \"88\": 1, \"90\": 1}, \"13\": {\"13\": 11, \"117\": 5}, \"3\": {\"3\": 33, \"60\": 1, \"114\": 1, \"125\": 1}, \"42\": {\"42\": 8, \"28\": 2, \"19\": 2, \"45\": 5, \"2\": 3, \"83\": 2, \"82\": 2, \"104\": 3, \"91\": 1}, \"25\": {\"100\": 9, \"25\": 4, \"99\": 1, \"42\": 1, \"1\": 1}, \"47\": {\"47\": 12}, \"115\": {\"115\": 12}, \"118\": {\"118\": 36, \"39\": 1, \"109\": 1}, \"84\": {\"84\": 38, \"127\": 1, \"34\": 1, \"60\": 1, \"23\": 1}, \"120\": {\"120\": 12, \"116\": 1, \"28\": 1, \"38\": 3, \"33\": 1, \"39\": 1, \"65\": 1}, \"92\": {\"92\": 28}, \"79\": {\"79\": 12}, \"80\": {\"120\": 2, \"80\": 14}, \"73\": {\"73\": 16, \"112\": 1, \"9\": 1, \"89\": 1, \"91\": 1}, \"36\": {\"36\": 32, \"21\": 2}, \"10\": {\"10\": 34, \"87\": 1, \"21\": 1}, \"104\": {\"104\": 16}, \"50\": {\"50\": 13, \"76\": 2, \"69\": 1}, \"39\": {\"39\": 42, \"21\": 1, \"125\": 1}, \"64\": {\"64\": 16}, \"112\": {\"112\": 9, \"68\": 2, \"91\": 2, \"98\": 1, \"58\": 1, \"128\": 1}, \"66\": {\"66\": 13, \"102\": 1, \"90\": 1, \"117\": 1}, \"31\": {\"31\": 12, \"106\": 3, \"125\": 1}, \"100\": {\"100\": 14, \"25\": 1, \"1\": 1}, \"101\": {\"101\": 51, \"34\": 2, \"72\": 1}, \"5\": {\"5\": 29, \"109\": 1}, \"117\": {\"117\": 42}, \"86\": {\"86\": 27, \"98\": 1, \"6\": 1, \"5\": 1}, \"51\": {\"51\": 12, \"101\": 1, \"71\": 2, \"31\": 1}, \"34\": {\"81\": 5, \"34\": 6, \"98\": 5, \"49\": 3, \"105\": 1, \"84\": 1, \"14\": 1, \"89\": 1, \"31\": 2, \"54\": 2, \"122\": 1, \"71\": 2, \"15\": 1, \"91\": 1}, \"4\": {\"4\": 35, \"46\": 1, \"124\": 3, \"5\": 1}, \"99\": {\"99\": 24}, \"12\": {\"12\": 32, \"71\": 2, \"106\": 1, \"101\": 1, \"21\": 1, \"109\": 1}, \"0\": {\"0\": 32, \"70\": 2, \"93\": 2}, \"78\": {\"78\": 13, \"122\": 2, \"21\": 1}, \"88\": {\"88\": 25, \"24\": 9, \"108\": 1, \"30\": 1, \"97\": 1, \"70\": 1}, \"40\": {\"40\": 31, \"105\": 7}, \"20\": {\"20\": 16}, \"90\": {\"90\": 33, \"61\": 1, \"33\": 2}, \"65\": {\"57\": 3, \"116\": 2, \"65\": 1, \"50\": 3, \"13\": 2, \"102\": 1}, \"44\": {\"44\": 37, \"71\": 1}, \"93\": {\"93\": 34, \"43\": 1, \"23\": 1, \"87\": 1, \"21\": 1}, \"122\": {\"122\": 21, \"43\": 11, \"7\": 1, \"93\": 2, \"21\": 1}, \"16\": {\"16\": 27, \"26\": 5}, \"52\": {\"52\": 13, \"29\": 6, \"49\": 1}, \"24\": {\"24\": 31, \"88\": 7, \"21\": 1, \"39\": 1, \"108\": 2}, \"29\": {\"29\": 26, \"19\": 1, \"49\": 1}, \"19\": {\"19\": 19, \"128\": 2, \"29\": 3, \"83\": 1, \"72\": 3}, \"106\": {\"44\": 1, \"106\": 32, \"101\": 1, \"71\": 2, \"12\": 2}, \"54\": {\"54\": 15, \"77\": 1}, \"94\": {\"94\": 38, \"15\": 3, \"109\": 1}, \"9\": {\"9\": 29, \"89\": 1}, \"41\": {\"41\": 14, \"22\": 1, \"77\": 1}, \"49\": {\"31\": 1, \"53\": 3, \"34\": 2, \"96\": 1, \"73\": 1, \"49\": 6, \"89\": 1, \"101\": 1, \"9\": 2, \"120\": 1, \"29\": 1}, \"60\": {\"87\": 2, \"84\": 3, \"35\": 4, \"1\": 2, \"3\": 1, \"110\": 2, \"100\": 1, \"18\": 1}, \"113\": {\"113\": 36}, \"72\": {\"72\": 25, \"101\": 3, \"34\": 2, \"44\": 1, \"1\": 1}, \"1\": {\"1\": 36}, \"55\": {\"55\": 12}, \"128\": {\"54\": 3, \"128\": 7, \"29\": 6, \"82\": 1, \"114\": 3, \"42\": 1, \"52\": 3}, \"15\": {\"15\": 22, \"12\": 2, \"36\": 6, \"94\": 8, \"27\": 3, \"21\": 1}, \"35\": {\"110\": 4, \"35\": 8}, \"46\": {\"17\": 3, \"103\": 2, \"46\": 4, \"124\": 1, \"6\": 1, \"68\": 1}, \"98\": {\"98\": 28, \"91\": 1, \"89\": 3}, \"62\": {\"62\": 26}, \"56\": {\"114\": 1, \"56\": 8, \"34\": 2, \"37\": 1}}, \"Wisig_3\": {\"9\": {\"50\": 1, \"9\": 29, \"105\": 1, \"40\": 1}, \"0\": {\"0\": 42, \"101\": 1, \"21\": 1}, \"2\": {\"120\": 5, \"117\": 2, \"2\": 7, \"129\": 3, \"81\": 4, \"121\": 5, \"124\": 1, \"13\": 1}, \"34\": {\"28\": 1, \"99\": 1, \"65\": 1, \"34\": 10, \"14\": 4, \"72\": 2, \"40\": 2, \"32\": 2, \"12\": 2, \"122\": 1, \"75\": 1, \"107\": 1, \"71\": 1, \"69\": 1}, \"128\": {\"28\": 3, \"128\": 10, \"1\": 1, \"33\": 4, \"114\": 1, \"47\": 2, \"77\": 4, \"19\": 1, \"68\": 1, \"46\": 1, \"58\": 1, \"44\": 2, \"51\": 1}, \"79\": {\"79\": 10, \"80\": 2}, \"3\": {\"3\": 26, \"71\": 5, \"14\": 1, \"60\": 1, \"11\": 1, \"127\": 1, \"107\": 1}, \"81\": {\"81\": 26, \"121\": 1, \"120\": 2, \"18\": 1, \"61\": 2}, \"41\": {\"41\": 11, \"66\": 1, \"56\": 1, \"28\": 2, \"77\": 1}, \"53\": {\"49\": 2, \"53\": 10, \"46\": 2, \"29\": 1, \"73\": 1, \"19\": 1, \"112\": 1, \"0\": 1, \"98\": 1}, \"93\": {\"93\": 33, \"16\": 1}, \"52\": {\"52\": 11, \"98\": 1, \"88\": 1, \"91\": 1, \"36\": 1, \"73\": 1}, \"124\": {\"124\": 35, \"53\": 1, \"85\": 3, \"73\": 1}, \"84\": {\"84\": 42}, \"49\": {\"49\": 14, \"97\": 2, \"8\": 6, \"20\": 1, \"94\": 1}, \"36\": {\"36\": 28, \"24\": 1, \"27\": 2, \"0\": 1}, \"76\": {\"76\": 14, \"89\": 2}, \"122\": {\"122\": 36, \"14\": 3, \"127\": 1, \"33\": 1, \"87\": 1}, \"80\": {\"80\": 16}, \"129\": {\"129\": 29, \"68\": 1, \"29\": 1, \"5\": 1}, \"88\": {\"88\": 28, \"70\": 6, \"122\": 1, \"21\": 1}, \"23\": {\"122\": 1, \"23\": 10, \"18\": 1, \"113\": 1, \"101\": 1, \"60\": 1, \"12\": 3, \"96\": 3, \"110\": 6, \"90\": 2, \"120\": 1, \"30\": 1, \"72\": 1}, \"63\": {\"63\": 15, \"123\": 1}, \"59\": {\"124\": 1, \"59\": 11}, \"38\": {\"38\": 14, \"9\": 2}, \"28\": {\"28\": 16}, \"105\": {\"105\": 31, \"14\": 1, \"99\": 2}, \"39\": {\"39\": 27, \"21\": 1}, \"96\": {\"96\": 20}, \"65\": {\"65\": 12}, \"16\": {\"16\": 37, \"93\": 2, \"60\": 1, \"24\": 1, \"70\": 1}, \"64\": {\"64\": 15, \"17\": 1, \"48\": 1, \"90\": 1, \"2\": 1, \"117\": 1}, \"119\": {\"79\": 2, \"119\": 14}, \"4\": {\"4\": 36, \"17\": 1, \"115\": 1, \"129\": 3, \"102\": 1}, \"30\": {\"30\": 37, \"8\": 1}, \"50\": {\"50\": 13, \"48\": 1, \"69\": 1, \"104\": 1}, \"92\": {\"92\": 27, \"82\": 1}, \"26\": {\"26\": 46, \"2\": 1, \"121\": 1, \"113\": 2}, \"94\": {\"94\": 33, \"33\": 1, \"15\": 5, \"82\": 1}, \"121\": {\"81\": 1, \"120\": 6, \"64\": 2, \"121\": 21, \"117\": 1, \"88\": 1}, \"90\": {\"90\": 38, \"29\": 2}, \"31\": {\"31\": 17, \"16\": 1, \"1\": 2}, \"108\": {\"108\": 34}, \"120\": {\"81\": 4, \"102\": 1, \"120\": 13, \"45\": 1, \"121\": 1}, \"6\": {\"52\": 2, \"53\": 1, \"103\": 2, \"56\": 1, \"111\": 2, \"124\": 6, \"61\": 1, \"6\": 9, \"49\": 1, \"91\": 1, \"25\": 1, \"29\": 1, \"73\": 1, \"98\": 1, \"125\": 1, \"5\": 1}, \"47\": {\"47\": 12}, \"67\": {\"67\": 14, \"123\": 2}, \"62\": {\"62\": 31, \"0\": 1}, \"32\": {\"28\": 2, \"65\": 3, \"100\": 2, \"40\": 2, \"14\": 1, \"128\": 1, \"55\": 1, \"32\": 9, \"107\": 6, \"57\": 1, \"74\": 1, \"50\": 1, \"9\": 2}, \"33\": {\"33\": 36}, \"126\": {\"126\": 37, \"21\": 1, \"39\": 2}, \"78\": {\"78\": 8, \"88\": 2, \"43\": 1, \"21\": 2, \"11\": 1, \"122\": 1, \"10\": 1}, \"111\": {\"111\": 37, \"85\": 1, \"5\": 1, \"124\": 1}, \"113\": {\"113\": 37, \"26\": 1}, \"99\": {\"99\": 24, \"105\": 2, \"127\": 1, \"84\": 1, \"40\": 2, \"14\": 1, \"107\": 1}, \"83\": {\"83\": 22, \"112\": 2}, \"66\": {\"66\": 15, \"105\": 1}, \"118\": {\"118\": 33, \"87\": 1}, \"127\": {\"127\": 34}, \"43\": {\"43\": 31, \"39\": 2, \"87\": 1, \"11\": 3, \"113\": 2, \"21\": 1}, \"116\": {\"64\": 2, \"82\": 2, \"116\": 10, \"29\": 3, \"90\": 3, \"115\": 2, \"48\": 3, \"103\": 1, \"92\": 1, \"121\": 1}, \"25\": {\"25\": 12, \"6\": 1, \"83\": 2, \"54\": 1}, \"106\": {\"94\": 3, \"106\": 15, \"97\": 1, \"8\": 1, \"15\": 3, \"12\": 1}, \"18\": {\"18\": 36}, \"72\": {\"72\": 26, \"127\": 1, \"51\": 1}, \"37\": {\"37\": 16}, \"95\": {\"95\": 31, \"0\": 1}, \"86\": {\"86\": 25, \"21\": 2, \"82\": 1}, \"35\": {\"35\": 12}, \"61\": {\"61\": 15, \"81\": 1}, \"21\": {\"39\": 2, \"21\": 29, \"11\": 1, \"88\": 1, \"70\": 2, \"78\": 1}, \"58\": {\"58\": 12, \"47\": 1, \"51\": 1, \"68\": 1, \"75\": 1}, \"103\": {\"29\": 1, \"103\": 11, \"5\": 1, \"4\": 1, \"98\": 1, \"128\": 1}, \"73\": {\"73\": 26, \"54\": 2, \"52\": 2, \"85\": 6, \"111\": 1, \"6\": 1}, \"13\": {\"13\": 8, \"122\": 2, \"21\": 2, \"115\": 1, \"102\": 1, \"123\": 1, \"0\": 1}, \"12\": {\"12\": 43, \"15\": 2, \"72\": 1}, \"109\": {\"109\": 38}, \"70\": {\"70\": 32, \"122\": 1, \"88\": 1}, \"54\": {\"54\": 12, \"25\": 1, \"125\": 1, \"73\": 2}, \"123\": {\"123\": 14, \"81\": 1, \"63\": 1}, \"101\": {\"101\": 39, \"39\": 1, \"0\": 2}, \"29\": {\"29\": 27, \"82\": 1, \"98\": 2, \"103\": 2}, \"56\": {\"34\": 2, \"56\": 7, \"99\": 2, \"106\": 1}, \"102\": {\"102\": 30}, \"87\": {\"87\": 32, \"110\": 1, \"122\": 4, \"43\": 1}, \"44\": {\"44\": 31, \"23\": 1, \"114\": 1, \"28\": 1, \"31\": 1, \"64\": 1}, \"75\": {\"75\": 15, \"51\": 1}, \"82\": {\"82\": 28}, \"107\": {\"107\": 35, \"14\": 1}, \"46\": {\"46\": 13, \"19\": 2, \"91\": 1}, \"71\": {\"71\": 35, \"3\": 1}, \"100\": {\"107\": 1, \"100\": 14, \"32\": 1}, \"97\": {\"97\": 10, \"42\": 1, \"49\": 1, \"12\": 2, \"15\": 1, \"8\": 2, \"112\": 1, \"94\": 2}, \"40\": {\"40\": 31, \"32\": 1, \"9\": 4, \"84\": 2, \"105\": 4}, \"7\": {\"7\": 39, \"84\": 1, \"95\": 4}, \"110\": {\"110\": 34, \"87\": 1, \"23\": 1, \"88\": 1, \"60\": 1, \"30\": 3, \"16\": 1}, \"11\": {\"11\": 40}, \"89\": {\"89\": 25, \"26\": 1, \"91\": 1, \"121\": 1}, \"1\": {\"114\": 3, \"1\": 21}, \"104\": {\"104\": 12, \"48\": 1, \"55\": 1, \"57\": 1, \"32\": 1}, \"74\": {\"74\": 11, \"57\": 4, \"26\": 1}, \"125\": {\"125\": 33, \"42\": 2, \"59\": 1}, \"14\": {\"14\": 38}, \"114\": {\"114\": 37, \"1\": 3, \"44\": 1, \"71\": 3}, \"48\": {\"48\": 6, \"79\": 1, \"13\": 2, \"55\": 2, \"32\": 1, \"66\": 1, \"80\": 1, \"82\": 2}, \"10\": {\"10\": 42}, \"22\": {\"22\": 9, \"70\": 1, \"57\": 2, \"55\": 3, \"32\": 1}, \"68\": {\"68\": 12, \"70\": 1, \"77\": 2, \"58\": 1}, \"19\": {\"19\": 23, \"77\": 2, \"91\": 1, \"73\": 1, \"46\": 1, \"47\": 2, \"58\": 1, \"1\": 1}, \"5\": {\"5\": 29, \"21\": 1, \"86\": 1, \"85\": 1}, \"17\": {\"102\": 1, \"104\": 1, \"122\": 1, \"48\": 2, \"80\": 2, \"17\": 5, \"123\": 3, \"119\": 1}, \"8\": {\"8\": 33, \"122\": 1, \"94\": 1, \"49\": 1}, \"60\": {\"60\": 17, \"31\": 1, \"110\": 1, \"71\": 2, \"16\": 3, \"101\": 2, \"122\": 1, \"87\": 1}, \"42\": {\"42\": 22, \"83\": 1, \"112\": 4, \"54\": 1}, \"117\": {\"117\": 33, \"2\": 5, \"121\": 1, \"64\": 1}, \"20\": {\"20\": 12, \"73\": 1, \"111\": 1, \"53\": 1, \"46\": 1}, \"85\": {\"73\": 3, \"85\": 28, \"112\": 3}, \"51\": {\"51\": 13, \"86\": 1, \"101\": 2}, \"69\": {\"69\": 31, \"84\": 2, \"122\": 1}, \"45\": {\"45\": 12, \"100\": 1, \"90\": 1, \"115\": 1, \"89\": 1}, \"98\": {\"128\": 1, \"98\": 27, \"114\": 1, \"19\": 1}, \"24\": {\"24\": 26, \"122\": 1, \"27\": 3}, \"15\": {\"97\": 2, \"15\": 18, \"8\": 1, \"106\": 2, \"94\": 5}, \"27\": {\"27\": 26, \"36\": 4, \"24\": 6}, \"91\": {\"128\": 2, \"46\": 1, \"91\": 15, \"98\": 1, \"5\": 1, \"89\": 2, \"6\": 1, \"77\": 1}, \"112\": {\"112\": 8, \"42\": 5, \"124\": 1, \"83\": 1, \"59\": 1}, \"115\": {\"4\": 1, \"116\": 3, \"45\": 2, \"115\": 5, \"102\": 2, \"48\": 3}, \"77\": {\"77\": 11, \"46\": 1, \"91\": 2, \"19\": 1, \"98\": 1}, \"57\": {\"57\": 17, \"32\": 1, \"65\": 1, \"74\": 1}, \"55\": {\"55\": 15, \"40\": 1}}}, \"per_domain_accuracy\": {\"CORES_2\": {\"accuracy\": 0.9956896551724138, \"source?\": true}, \"CORES_1\": {\"accuracy\": 0.9942528735632183, \"source?\": true}, \"CORES_5\": {\"accuracy\": 0.9974137931034482, \"source?\": true}, \"CORES_4\": {\"accuracy\": 0.9967672413793104, \"source?\": true}, \"CORES_3\": {\"accuracy\": 0.9924568965517241, \"source?\": true}, \"Wisig_2\": {\"accuracy\": 0.7530425963488844, \"source?\": false}, \"Wisig_4\": {\"accuracy\": 0.7471264367816092, \"source?\": false}, \"Wisig_1\": {\"accuracy\": 0.8186874304783093, \"source?\": false}, \"Wisig_3\": {\"accuracy\": 0.8197997775305895, \"source?\": false}}}, \"history\": {\"epoch_indices\": [1, 2, 3], \"train_label_loss\": [0.3621000078562488, 0.02251246669134019, 0.020063026736479153], \"source_val_label_loss\": [0.03759893774986267, 0.03606652840971947, 0.03375891223549843], \"target_val_label_loss\": [1.852866291999817, 3.079413652420044, 2.8821098804473877], \"source_val_acc_label\": [0.9937140804597702, 0.9947916666666666, 0.9953304597701149], \"target_val_acc_label\": [0.7447874899759422, 0.7782010157711842, 0.7833466987436515]}, \"dataset_metrics\": {\"source\": {\"train\": {\"n_unique_x\": 75762, \"n_unique_y\": 58, \"n_batch/episode\": 351}, \"val\": {\"n_unique_x\": 11872, \"n_unique_y\": 58, \"n_batch/episode\": 48}, \"test\": {\"n_unique_x\": 12298, \"n_unique_y\": 58, \"n_batch/episode\": 50}}, \"target\": {\"train\": {\"n_unique_x\": 141305, \"n_unique_y\": 130, \"n_batch/episode\": 916}, \"val\": {\"n_unique_x\": 26165, \"n_unique_y\": 130, \"n_batch/episode\": 129}, \"test\": {\"n_unique_x\": 26259, \"n_unique_y\": 130, \"n_batch/episode\": 130}}}}'"
      ]
     },
     "execution_count": 29,
     "metadata": {},
     "output_type": "execute_result"
    }
   ],
   "source": [
    "json.dumps(experiment)"
   ]
  }
 ],
 "metadata": {
  "celltoolbar": "Tags",
  "kernelspec": {
   "display_name": "Python 3 (ipykernel)",
   "language": "python",
   "name": "python3"
  },
  "language_info": {
   "codemirror_mode": {
    "name": "ipython",
    "version": 3
   },
   "file_extension": ".py",
   "mimetype": "text/x-python",
   "name": "python",
   "nbconvert_exporter": "python",
   "pygments_lexer": "ipython3",
   "version": "3.8.12"
  },
  "papermill": {
   "default_parameters": {},
   "duration": 209.16657,
   "end_time": "2022-03-21T03:12:08.960353",
   "environment_variables": {},
   "exception": null,
   "input_path": "/root/csc500-main/csc500-notebooks/templates/tl_ptn_template.ipynb",
   "output_path": "trial.ipynb",
   "parameters": {
    "parameters": {
     "BEST_MODEL_PATH": "./best_model.pth",
     "NUM_LOGS_PER_EPOCH": 10,
     "criteria_for_best": "target_accuracy",
     "dataset_seed": 154325,
     "datasets": [
      {
       "domain_prefix": "CORES_",
       "domains": [
        1,
        2,
        3,
        4,
        5
       ],
       "episode_transforms": [],
       "labels": [
        "1-10.",
        "1-11.",
        "1-15.",
        "1-16.",
        "1-17.",
        "1-18.",
        "1-19.",
        "10-4.",
        "10-7.",
        "11-1.",
        "11-14.",
        "11-17.",
        "11-20.",
        "11-7.",
        "13-20.",
        "13-8.",
        "14-10.",
        "14-11.",
        "14-14.",
        "14-7.",
        "15-1.",
        "15-20.",
        "16-1.",
        "16-16.",
        "17-10.",
        "17-11.",
        "17-2.",
        "19-1.",
        "19-16.",
        "19-19.",
        "19-20.",
        "19-3.",
        "2-10.",
        "2-11.",
        "2-17.",
        "2-18.",
        "2-20.",
        "2-3.",
        "2-4.",
        "2-5.",
        "2-6.",
        "2-7.",
        "2-8.",
        "3-13.",
        "3-18.",
        "3-3.",
        "4-1.",
        "4-10.",
        "4-11.",
        "4-19.",
        "5-5.",
        "6-15.",
        "7-10.",
        "7-14.",
        "8-18.",
        "8-20.",
        "8-3.",
        "8-8."
       ],
       "num_examples_per_domain_per_label": -1,
       "pickle_path": "/root/csc500-main/datasets/cores.stratified_ds.2022A.pkl",
       "source_or_target_dataset": "source",
       "x_transforms": []
      },
      {
       "domain_prefix": "Wisig_",
       "domains": [
        1,
        2,
        3,
        4
       ],
       "episode_transforms": [],
       "labels": [
        "1-10",
        "1-12",
        "1-14",
        "1-16",
        "1-18",
        "1-19",
        "1-8",
        "10-11",
        "10-17",
        "10-4",
        "10-7",
        "11-1",
        "11-10",
        "11-19",
        "11-20",
        "11-4",
        "11-7",
        "12-19",
        "12-20",
        "12-7",
        "13-14",
        "13-18",
        "13-19",
        "13-20",
        "13-3",
        "13-7",
        "14-10",
        "14-11",
        "14-12",
        "14-13",
        "14-14",
        "14-19",
        "14-20",
        "14-7",
        "14-8",
        "14-9",
        "15-1",
        "15-19",
        "15-6",
        "16-1",
        "16-16",
        "16-19",
        "16-20",
        "17-10",
        "17-11",
        "18-1",
        "18-10",
        "18-11",
        "18-12",
        "18-13",
        "18-14",
        "18-15",
        "18-16",
        "18-17",
        "18-19",
        "18-2",
        "18-20",
        "18-4",
        "18-5",
        "18-7",
        "18-8",
        "18-9",
        "19-1",
        "19-10",
        "19-11",
        "19-12",
        "19-13",
        "19-14",
        "19-15",
        "19-19",
        "19-2",
        "19-20",
        "19-3",
        "19-4",
        "19-6",
        "19-7",
        "19-8",
        "19-9",
        "2-1",
        "2-13",
        "2-15",
        "2-3",
        "2-4",
        "2-5",
        "2-6",
        "2-7",
        "2-8",
        "20-1",
        "20-12",
        "20-14",
        "20-15",
        "20-16",
        "20-18",
        "20-19",
        "20-20",
        "20-3",
        "20-4",
        "20-5",
        "20-7",
        "20-8",
        "3-1",
        "3-13",
        "3-18",
        "3-2",
        "3-8",
        "4-1",
        "4-10",
        "4-11",
        "5-1",
        "5-5",
        "6-1",
        "6-15",
        "6-6",
        "7-10",
        "7-11",
        "7-12",
        "7-13",
        "7-14",
        "7-7",
        "7-8",
        "7-9",
        "8-1",
        "8-13",
        "8-14",
        "8-18",
        "8-20",
        "8-3",
        "8-8",
        "9-1",
        "9-7"
       ],
       "num_examples_per_domain_per_label": -1,
       "pickle_path": "/root/csc500-main/datasets/wisig.node3-19.stratified_ds.2022A.pkl",
       "source_or_target_dataset": "target",
       "x_transforms": []
      }
     ],
     "device": "cuda",
     "experiment_name": "tl_1v2:cores-wisig",
     "lr": 0.0001,
     "n_epoch": 3,
     "n_query": 2,
     "n_shot": 3,
     "n_way": 58,
     "patience": 3,
     "seed": 154325,
     "test_k_factor": 2,
     "torch_default_dtype": "torch.float32",
     "train_k_factor": 3,
     "val_k_factor": 2,
     "x_net": [
      {
       "class": "nnReshape",
       "kargs": {
        "shape": [
         -1,
         1,
         2,
         256
        ]
       }
      },
      {
       "class": "Conv2d",
       "kargs": {
        "bias": false,
        "in_channels": 1,
        "kernel_size": [
         1,
         7
        ],
        "out_channels": 256,
        "padding": [
         0,
         3
        ]
       }
      },
      {
       "class": "ReLU",
       "kargs": {
        "inplace": true
       }
      },
      {
       "class": "BatchNorm2d",
       "kargs": {
        "num_features": 256
       }
      },
      {
       "class": "Conv2d",
       "kargs": {
        "bias": true,
        "in_channels": 256,
        "kernel_size": [
         2,
         7
        ],
        "out_channels": 80,
        "padding": [
         0,
         3
        ]
       }
      },
      {
       "class": "ReLU",
       "kargs": {
        "inplace": true
       }
      },
      {
       "class": "BatchNorm2d",
       "kargs": {
        "num_features": 80
       }
      },
      {
       "class": "Flatten",
       "kargs": {}
      },
      {
       "class": "Linear",
       "kargs": {
        "in_features": 20480,
        "out_features": 256
       }
      },
      {
       "class": "ReLU",
       "kargs": {
        "inplace": true
       }
      },
      {
       "class": "BatchNorm1d",
       "kargs": {
        "num_features": 256
       }
      },
      {
       "class": "Linear",
       "kargs": {
        "in_features": 256,
        "out_features": 256
       }
      }
     ]
    }
   },
   "start_time": "2022-03-21T03:08:39.793783",
   "version": "2.3.4"
  }
 },
 "nbformat": 4,
 "nbformat_minor": 5
}