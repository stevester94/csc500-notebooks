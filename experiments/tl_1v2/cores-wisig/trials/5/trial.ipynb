{
 "cells": [
  {
   "cell_type": "markdown",
   "id": "9fea5f46",
   "metadata": {
    "papermill": {
     "duration": 0.028913,
     "end_time": "2022-03-21T02:24:33.151703",
     "exception": false,
     "start_time": "2022-03-21T02:24:33.122790",
     "status": "completed"
    },
    "tags": []
   },
   "source": [
    "# Transfer Learning Template"
   ]
  },
  {
   "cell_type": "code",
   "execution_count": 1,
   "id": "0902182a",
   "metadata": {
    "execution": {
     "iopub.execute_input": "2022-03-21T02:24:33.219463Z",
     "iopub.status.busy": "2022-03-21T02:24:33.216876Z",
     "iopub.status.idle": "2022-03-21T02:24:35.128023Z",
     "shell.execute_reply": "2022-03-21T02:24:35.127087Z"
    },
    "papermill": {
     "duration": 1.949556,
     "end_time": "2022-03-21T02:24:35.128231",
     "exception": false,
     "start_time": "2022-03-21T02:24:33.178675",
     "status": "completed"
    },
    "tags": []
   },
   "outputs": [],
   "source": [
    "%load_ext autoreload\n",
    "%autoreload 2\n",
    "%matplotlib inline\n",
    "\n",
    "    \n",
    "import os, json, sys, time, random\n",
    "import numpy as np\n",
    "import torch\n",
    "from torch.optim import Adam\n",
    "from  easydict import EasyDict\n",
    "import matplotlib.pyplot as plt\n",
    "\n",
    "from steves_models.steves_ptn import Steves_Prototypical_Network\n",
    "\n",
    "from steves_utils.lazy_iterable_wrapper import Lazy_Iterable_Wrapper\n",
    "from steves_utils.iterable_aggregator import Iterable_Aggregator\n",
    "from steves_utils.ptn_train_eval_test_jig import  PTN_Train_Eval_Test_Jig\n",
    "from steves_utils.torch_sequential_builder import build_sequential\n",
    "from steves_utils.torch_utils import get_dataset_metrics, ptn_confusion_by_domain_over_dataloader\n",
    "from steves_utils.utils_v2 import (per_domain_accuracy_from_confusion, get_datasets_base_path)\n",
    "from steves_utils.PTN.utils import independent_accuracy_assesment\n",
    "\n",
    "from torch.utils.data import DataLoader\n",
    "\n",
    "from steves_utils.stratified_dataset.episodic_accessor import Episodic_Accessor_Factory\n",
    "\n",
    "from steves_utils.ptn_do_report import (\n",
    "    get_loss_curve,\n",
    "    get_results_table,\n",
    "    get_parameters_table,\n",
    "    get_domain_accuracies,\n",
    ")\n",
    "\n",
    "from steves_utils.transforms import get_chained_transform"
   ]
  },
  {
   "cell_type": "markdown",
   "id": "41c840b4",
   "metadata": {
    "papermill": {
     "duration": 0.020238,
     "end_time": "2022-03-21T02:24:35.175227",
     "exception": false,
     "start_time": "2022-03-21T02:24:35.154989",
     "status": "completed"
    },
    "tags": []
   },
   "source": [
    "# Allowed Parameters\n",
    "These are allowed parameters, not defaults\n",
    "Each of these values need to be present in the injected parameters (the notebook will raise an exception if they are not present)\n",
    "\n",
    "Papermill uses the cell tag \"parameters\" to inject the real parameters below this cell.\n",
    "Enable tags to see what I mean"
   ]
  },
  {
   "cell_type": "code",
   "execution_count": 2,
   "id": "fd44eb83",
   "metadata": {
    "execution": {
     "iopub.execute_input": "2022-03-21T02:24:35.220910Z",
     "iopub.status.busy": "2022-03-21T02:24:35.220515Z",
     "iopub.status.idle": "2022-03-21T02:24:35.243091Z",
     "shell.execute_reply": "2022-03-21T02:24:35.243399Z"
    },
    "papermill": {
     "duration": 0.048408,
     "end_time": "2022-03-21T02:24:35.243491",
     "exception": false,
     "start_time": "2022-03-21T02:24:35.195083",
     "status": "completed"
    },
    "tags": []
   },
   "outputs": [],
   "source": [
    "required_parameters = {\n",
    "    \"experiment_name\",\n",
    "    \"lr\",\n",
    "    \"device\",\n",
    "    \"seed\",\n",
    "    \"dataset_seed\",\n",
    "    \"n_shot\",\n",
    "    \"n_query\",\n",
    "    \"n_way\",\n",
    "    \"train_k_factor\",\n",
    "    \"val_k_factor\",\n",
    "    \"test_k_factor\",\n",
    "    \"n_epoch\",\n",
    "    \"patience\",\n",
    "    \"criteria_for_best\",\n",
    "    \"x_net\",\n",
    "    \"datasets\",\n",
    "    \"torch_default_dtype\",\n",
    "    \"NUM_LOGS_PER_EPOCH\",\n",
    "    \"BEST_MODEL_PATH\",\n",
    "    \"x_shape\",\n",
    "}"
   ]
  },
  {
   "cell_type": "code",
   "execution_count": 3,
   "id": "fa3f0049",
   "metadata": {
    "execution": {
     "iopub.execute_input": "2022-03-21T02:24:35.297537Z",
     "iopub.status.busy": "2022-03-21T02:24:35.297031Z",
     "iopub.status.idle": "2022-03-21T02:24:35.320632Z",
     "shell.execute_reply": "2022-03-21T02:24:35.320311Z"
    },
    "papermill": {
     "duration": 0.057265,
     "end_time": "2022-03-21T02:24:35.320702",
     "exception": false,
     "start_time": "2022-03-21T02:24:35.263437",
     "status": "completed"
    },
    "tags": [
     "parameters"
    ]
   },
   "outputs": [],
   "source": [
    "from steves_utils.CORES.utils import (\n",
    "    ALL_NODES,\n",
    "    ALL_NODES_MINIMUM_1000_EXAMPLES,\n",
    "    ALL_DAYS\n",
    ")\n",
    "\n",
    "from steves_utils.ORACLE.utils_v2 import (\n",
    "    ALL_DISTANCES_FEET_NARROWED,\n",
    "    ALL_RUNS,\n",
    "    ALL_SERIAL_NUMBERS,\n",
    ")\n",
    "\n",
    "standalone_parameters = {}\n",
    "standalone_parameters[\"experiment_name\"] = \"STANDALONE PTN\"\n",
    "standalone_parameters[\"lr\"] = 0.001\n",
    "standalone_parameters[\"device\"] = \"cuda\"\n",
    "\n",
    "standalone_parameters[\"seed\"] = 1337\n",
    "standalone_parameters[\"dataset_seed\"] = 1337\n",
    "\n",
    "standalone_parameters[\"n_way\"] = 8\n",
    "standalone_parameters[\"n_shot\"] = 3\n",
    "standalone_parameters[\"n_query\"]  = 2\n",
    "standalone_parameters[\"train_k_factor\"] = 1\n",
    "standalone_parameters[\"val_k_factor\"] = 2\n",
    "standalone_parameters[\"test_k_factor\"] = 2\n",
    "\n",
    "\n",
    "standalone_parameters[\"n_epoch\"] = 50\n",
    "\n",
    "standalone_parameters[\"patience\"] = 10\n",
    "standalone_parameters[\"criteria_for_best\"] = \"source_loss\"\n",
    "\n",
    "standalone_parameters[\"datasets\"] = [\n",
    "    {\n",
    "        \"labels\": ALL_SERIAL_NUMBERS,\n",
    "        \"domains\": ALL_DISTANCES_FEET_NARROWED,\n",
    "        \"num_examples_per_domain_per_label\": 100,\n",
    "        \"pickle_path\": os.path.join(get_datasets_base_path(), \"oracle.Run1_framed_2000Examples_stratified_ds.2022A.pkl\"),\n",
    "        \"source_or_target_dataset\": \"source\",\n",
    "        \"x_transforms\": [\"unit_mag\", \"minus_two\"],\n",
    "        \"episode_transforms\": [],\n",
    "        \"domain_prefix\": \"ORACLE_\"\n",
    "    },\n",
    "    {\n",
    "        \"labels\": ALL_NODES,\n",
    "        \"domains\": ALL_DAYS,\n",
    "        \"num_examples_per_domain_per_label\": 100,\n",
    "        \"pickle_path\": os.path.join(get_datasets_base_path(), \"cores.stratified_ds.2022A.pkl\"),\n",
    "        \"source_or_target_dataset\": \"target\",\n",
    "        \"x_transforms\": [\"unit_power\", \"times_zero\"],\n",
    "        \"episode_transforms\": [],\n",
    "        \"domain_prefix\": \"CORES_\"\n",
    "    }   \n",
    "]\n",
    "\n",
    "standalone_parameters[\"torch_default_dtype\"] = \"torch.float32\" \n",
    "\n",
    "\n",
    "\n",
    "standalone_parameters[\"x_net\"] =     [\n",
    "    {\"class\": \"nnReshape\", \"kargs\": {\"shape\":[-1, 1, 2, 256]}},\n",
    "    {\"class\": \"Conv2d\", \"kargs\": { \"in_channels\":1, \"out_channels\":256, \"kernel_size\":(1,7), \"bias\":False, \"padding\":(0,3), },},\n",
    "    {\"class\": \"ReLU\", \"kargs\": {\"inplace\": True}},\n",
    "    {\"class\": \"BatchNorm2d\", \"kargs\": {\"num_features\":256}},\n",
    "\n",
    "    {\"class\": \"Conv2d\", \"kargs\": { \"in_channels\":256, \"out_channels\":80, \"kernel_size\":(2,7), \"bias\":True, \"padding\":(0,3), },},\n",
    "    {\"class\": \"ReLU\", \"kargs\": {\"inplace\": True}},\n",
    "    {\"class\": \"BatchNorm2d\", \"kargs\": {\"num_features\":80}},\n",
    "    {\"class\": \"Flatten\", \"kargs\": {}},\n",
    "\n",
    "    {\"class\": \"Linear\", \"kargs\": {\"in_features\": 80*256, \"out_features\": 256}}, # 80 units per IQ pair\n",
    "    {\"class\": \"ReLU\", \"kargs\": {\"inplace\": True}},\n",
    "    {\"class\": \"BatchNorm1d\", \"kargs\": {\"num_features\":256}},\n",
    "\n",
    "    {\"class\": \"Linear\", \"kargs\": {\"in_features\": 256, \"out_features\": 256}},\n",
    "]\n",
    "\n",
    "# Parameters relevant to results\n",
    "# These parameters will basically never need to change\n",
    "standalone_parameters[\"NUM_LOGS_PER_EPOCH\"] = 10\n",
    "standalone_parameters[\"BEST_MODEL_PATH\"] = \"./best_model.pth\"\n",
    "\n",
    "\n",
    "\n",
    "\n"
   ]
  },
  {
   "cell_type": "code",
   "execution_count": 4,
   "id": "a2945e60",
   "metadata": {
    "execution": {
     "iopub.execute_input": "2022-03-21T02:24:35.378934Z",
     "iopub.status.busy": "2022-03-21T02:24:35.378462Z",
     "iopub.status.idle": "2022-03-21T02:24:35.402664Z",
     "shell.execute_reply": "2022-03-21T02:24:35.402198Z"
    },
    "papermill": {
     "duration": 0.062295,
     "end_time": "2022-03-21T02:24:35.402734",
     "exception": false,
     "start_time": "2022-03-21T02:24:35.340439",
     "status": "completed"
    },
    "tags": [
     "injected-parameters"
    ]
   },
   "outputs": [],
   "source": [
    "# Parameters\n",
    "parameters = {\n",
    "    \"experiment_name\": \"tl_1v2:cores-wisig\",\n",
    "    \"device\": \"cuda\",\n",
    "    \"lr\": 0.0001,\n",
    "    \"n_shot\": 3,\n",
    "    \"n_query\": 2,\n",
    "    \"train_k_factor\": 3,\n",
    "    \"val_k_factor\": 2,\n",
    "    \"test_k_factor\": 2,\n",
    "    \"torch_default_dtype\": \"torch.float32\",\n",
    "    \"n_epoch\": 3,\n",
    "    \"patience\": 3,\n",
    "    \"criteria_for_best\": \"target_accuracy\",\n",
    "    \"x_net\": [\n",
    "        {\"class\": \"nnReshape\", \"kargs\": {\"shape\": [-1, 1, 2, 256]}},\n",
    "        {\n",
    "            \"class\": \"Conv2d\",\n",
    "            \"kargs\": {\n",
    "                \"in_channels\": 1,\n",
    "                \"out_channels\": 256,\n",
    "                \"kernel_size\": [1, 7],\n",
    "                \"bias\": False,\n",
    "                \"padding\": [0, 3],\n",
    "            },\n",
    "        },\n",
    "        {\"class\": \"ReLU\", \"kargs\": {\"inplace\": True}},\n",
    "        {\"class\": \"BatchNorm2d\", \"kargs\": {\"num_features\": 256}},\n",
    "        {\n",
    "            \"class\": \"Conv2d\",\n",
    "            \"kargs\": {\n",
    "                \"in_channels\": 256,\n",
    "                \"out_channels\": 80,\n",
    "                \"kernel_size\": [2, 7],\n",
    "                \"bias\": True,\n",
    "                \"padding\": [0, 3],\n",
    "            },\n",
    "        },\n",
    "        {\"class\": \"ReLU\", \"kargs\": {\"inplace\": True}},\n",
    "        {\"class\": \"BatchNorm2d\", \"kargs\": {\"num_features\": 80}},\n",
    "        {\"class\": \"Flatten\", \"kargs\": {}},\n",
    "        {\"class\": \"Linear\", \"kargs\": {\"in_features\": 20480, \"out_features\": 256}},\n",
    "        {\"class\": \"ReLU\", \"kargs\": {\"inplace\": True}},\n",
    "        {\"class\": \"BatchNorm1d\", \"kargs\": {\"num_features\": 256}},\n",
    "        {\"class\": \"Linear\", \"kargs\": {\"in_features\": 256, \"out_features\": 256}},\n",
    "    ],\n",
    "    \"NUM_LOGS_PER_EPOCH\": 10,\n",
    "    \"BEST_MODEL_PATH\": \"./best_model.pth\",\n",
    "    \"n_way\": 58,\n",
    "    \"datasets\": [\n",
    "        {\n",
    "            \"labels\": [\n",
    "                \"1-10.\",\n",
    "                \"1-11.\",\n",
    "                \"1-15.\",\n",
    "                \"1-16.\",\n",
    "                \"1-17.\",\n",
    "                \"1-18.\",\n",
    "                \"1-19.\",\n",
    "                \"10-4.\",\n",
    "                \"10-7.\",\n",
    "                \"11-1.\",\n",
    "                \"11-14.\",\n",
    "                \"11-17.\",\n",
    "                \"11-20.\",\n",
    "                \"11-7.\",\n",
    "                \"13-20.\",\n",
    "                \"13-8.\",\n",
    "                \"14-10.\",\n",
    "                \"14-11.\",\n",
    "                \"14-14.\",\n",
    "                \"14-7.\",\n",
    "                \"15-1.\",\n",
    "                \"15-20.\",\n",
    "                \"16-1.\",\n",
    "                \"16-16.\",\n",
    "                \"17-10.\",\n",
    "                \"17-11.\",\n",
    "                \"17-2.\",\n",
    "                \"19-1.\",\n",
    "                \"19-16.\",\n",
    "                \"19-19.\",\n",
    "                \"19-20.\",\n",
    "                \"19-3.\",\n",
    "                \"2-10.\",\n",
    "                \"2-11.\",\n",
    "                \"2-17.\",\n",
    "                \"2-18.\",\n",
    "                \"2-20.\",\n",
    "                \"2-3.\",\n",
    "                \"2-4.\",\n",
    "                \"2-5.\",\n",
    "                \"2-6.\",\n",
    "                \"2-7.\",\n",
    "                \"2-8.\",\n",
    "                \"3-13.\",\n",
    "                \"3-18.\",\n",
    "                \"3-3.\",\n",
    "                \"4-1.\",\n",
    "                \"4-10.\",\n",
    "                \"4-11.\",\n",
    "                \"4-19.\",\n",
    "                \"5-5.\",\n",
    "                \"6-15.\",\n",
    "                \"7-10.\",\n",
    "                \"7-14.\",\n",
    "                \"8-18.\",\n",
    "                \"8-20.\",\n",
    "                \"8-3.\",\n",
    "                \"8-8.\",\n",
    "            ],\n",
    "            \"domains\": [1, 2, 3, 4, 5],\n",
    "            \"num_examples_per_domain_per_label\": -1,\n",
    "            \"pickle_path\": \"/root/csc500-main/datasets/cores.stratified_ds.2022A.pkl\",\n",
    "            \"source_or_target_dataset\": \"target\",\n",
    "            \"x_transforms\": [],\n",
    "            \"episode_transforms\": [],\n",
    "            \"domain_prefix\": \"CORES_\",\n",
    "        },\n",
    "        {\n",
    "            \"labels\": [\n",
    "                \"1-10\",\n",
    "                \"1-12\",\n",
    "                \"1-14\",\n",
    "                \"1-16\",\n",
    "                \"1-18\",\n",
    "                \"1-19\",\n",
    "                \"1-8\",\n",
    "                \"10-11\",\n",
    "                \"10-17\",\n",
    "                \"10-4\",\n",
    "                \"10-7\",\n",
    "                \"11-1\",\n",
    "                \"11-10\",\n",
    "                \"11-19\",\n",
    "                \"11-20\",\n",
    "                \"11-4\",\n",
    "                \"11-7\",\n",
    "                \"12-19\",\n",
    "                \"12-20\",\n",
    "                \"12-7\",\n",
    "                \"13-14\",\n",
    "                \"13-18\",\n",
    "                \"13-19\",\n",
    "                \"13-20\",\n",
    "                \"13-3\",\n",
    "                \"13-7\",\n",
    "                \"14-10\",\n",
    "                \"14-11\",\n",
    "                \"14-12\",\n",
    "                \"14-13\",\n",
    "                \"14-14\",\n",
    "                \"14-19\",\n",
    "                \"14-20\",\n",
    "                \"14-7\",\n",
    "                \"14-8\",\n",
    "                \"14-9\",\n",
    "                \"15-1\",\n",
    "                \"15-19\",\n",
    "                \"15-6\",\n",
    "                \"16-1\",\n",
    "                \"16-16\",\n",
    "                \"16-19\",\n",
    "                \"16-20\",\n",
    "                \"17-10\",\n",
    "                \"17-11\",\n",
    "                \"18-1\",\n",
    "                \"18-10\",\n",
    "                \"18-11\",\n",
    "                \"18-12\",\n",
    "                \"18-13\",\n",
    "                \"18-14\",\n",
    "                \"18-15\",\n",
    "                \"18-16\",\n",
    "                \"18-17\",\n",
    "                \"18-19\",\n",
    "                \"18-2\",\n",
    "                \"18-20\",\n",
    "                \"18-4\",\n",
    "                \"18-5\",\n",
    "                \"18-7\",\n",
    "                \"18-8\",\n",
    "                \"18-9\",\n",
    "                \"19-1\",\n",
    "                \"19-10\",\n",
    "                \"19-11\",\n",
    "                \"19-12\",\n",
    "                \"19-13\",\n",
    "                \"19-14\",\n",
    "                \"19-15\",\n",
    "                \"19-19\",\n",
    "                \"19-2\",\n",
    "                \"19-20\",\n",
    "                \"19-3\",\n",
    "                \"19-4\",\n",
    "                \"19-6\",\n",
    "                \"19-7\",\n",
    "                \"19-8\",\n",
    "                \"19-9\",\n",
    "                \"2-1\",\n",
    "                \"2-13\",\n",
    "                \"2-15\",\n",
    "                \"2-3\",\n",
    "                \"2-4\",\n",
    "                \"2-5\",\n",
    "                \"2-6\",\n",
    "                \"2-7\",\n",
    "                \"2-8\",\n",
    "                \"20-1\",\n",
    "                \"20-12\",\n",
    "                \"20-14\",\n",
    "                \"20-15\",\n",
    "                \"20-16\",\n",
    "                \"20-18\",\n",
    "                \"20-19\",\n",
    "                \"20-20\",\n",
    "                \"20-3\",\n",
    "                \"20-4\",\n",
    "                \"20-5\",\n",
    "                \"20-7\",\n",
    "                \"20-8\",\n",
    "                \"3-1\",\n",
    "                \"3-13\",\n",
    "                \"3-18\",\n",
    "                \"3-2\",\n",
    "                \"3-8\",\n",
    "                \"4-1\",\n",
    "                \"4-10\",\n",
    "                \"4-11\",\n",
    "                \"5-1\",\n",
    "                \"5-5\",\n",
    "                \"6-1\",\n",
    "                \"6-15\",\n",
    "                \"6-6\",\n",
    "                \"7-10\",\n",
    "                \"7-11\",\n",
    "                \"7-12\",\n",
    "                \"7-13\",\n",
    "                \"7-14\",\n",
    "                \"7-7\",\n",
    "                \"7-8\",\n",
    "                \"7-9\",\n",
    "                \"8-1\",\n",
    "                \"8-13\",\n",
    "                \"8-14\",\n",
    "                \"8-18\",\n",
    "                \"8-20\",\n",
    "                \"8-3\",\n",
    "                \"8-8\",\n",
    "                \"9-1\",\n",
    "                \"9-7\",\n",
    "            ],\n",
    "            \"domains\": [1, 2, 3, 4],\n",
    "            \"num_examples_per_domain_per_label\": -1,\n",
    "            \"pickle_path\": \"/root/csc500-main/datasets/wisig.node3-19.stratified_ds.2022A.pkl\",\n",
    "            \"source_or_target_dataset\": \"source\",\n",
    "            \"x_transforms\": [],\n",
    "            \"episode_transforms\": [],\n",
    "            \"domain_prefix\": \"Wisig_\",\n",
    "        },\n",
    "    ],\n",
    "    \"dataset_seed\": 1337,\n",
    "    \"seed\": 1337,\n",
    "}\n"
   ]
  },
  {
   "cell_type": "code",
   "execution_count": 5,
   "id": "8fa1cc33",
   "metadata": {
    "execution": {
     "iopub.execute_input": "2022-03-21T02:24:35.450334Z",
     "iopub.status.busy": "2022-03-21T02:24:35.449957Z",
     "iopub.status.idle": "2022-03-21T02:24:35.472561Z",
     "shell.execute_reply": "2022-03-21T02:24:35.472194Z"
    },
    "papermill": {
     "duration": 0.049906,
     "end_time": "2022-03-21T02:24:35.472632",
     "exception": false,
     "start_time": "2022-03-21T02:24:35.422726",
     "status": "completed"
    },
    "tags": []
   },
   "outputs": [],
   "source": [
    "# Set this to True if you want to run this template directly\n",
    "STANDALONE = False\n",
    "if STANDALONE:\n",
    "    print(\"parameters not injected, running with standalone_parameters\")\n",
    "    parameters = standalone_parameters\n",
    "\n",
    "if not 'parameters' in locals() and not 'parameters' in globals():\n",
    "    raise Exception(\"Parameter injection failed\")\n",
    "\n",
    "#Use an easy dict for all the parameters\n",
    "p = EasyDict(parameters)\n",
    "\n",
    "if \"x_shape\" not in p:\n",
    "    p.x_shape = [2,256] # Default to this if we dont supply x_shape\n",
    "\n",
    "\n",
    "supplied_keys = set(p.keys())\n",
    "\n",
    "if  supplied_keys != required_parameters:\n",
    "    print(\"Parameters are incorrect\")\n",
    "    if len(supplied_keys - required_parameters)>0: print(\"Shouldn't have:\", str(supplied_keys - required_parameters))\n",
    "    if len(required_parameters - supplied_keys)>0: print(\"Need to have:\", str(required_parameters - supplied_keys))\n",
    "    raise RuntimeError(\"Parameters are incorrect\")"
   ]
  },
  {
   "cell_type": "code",
   "execution_count": 6,
   "id": "3a028d58",
   "metadata": {
    "execution": {
     "iopub.execute_input": "2022-03-21T02:24:35.517606Z",
     "iopub.status.busy": "2022-03-21T02:24:35.517235Z",
     "iopub.status.idle": "2022-03-21T02:24:35.540102Z",
     "shell.execute_reply": "2022-03-21T02:24:35.539737Z"
    },
    "papermill": {
     "duration": 0.047534,
     "end_time": "2022-03-21T02:24:35.540172",
     "exception": false,
     "start_time": "2022-03-21T02:24:35.492638",
     "status": "completed"
    },
    "tags": []
   },
   "outputs": [],
   "source": [
    "###################################\n",
    "# Set the RNGs and make it all deterministic\n",
    "###################################\n",
    "np.random.seed(p.seed)\n",
    "random.seed(p.seed)\n",
    "torch.manual_seed(p.seed)\n",
    "\n",
    "torch.use_deterministic_algorithms(True) "
   ]
  },
  {
   "cell_type": "code",
   "execution_count": 7,
   "id": "b691acf6",
   "metadata": {
    "execution": {
     "iopub.execute_input": "2022-03-21T02:24:35.584688Z",
     "iopub.status.busy": "2022-03-21T02:24:35.584318Z",
     "iopub.status.idle": "2022-03-21T02:24:35.608703Z",
     "shell.execute_reply": "2022-03-21T02:24:35.608337Z"
    },
    "papermill": {
     "duration": 0.048271,
     "end_time": "2022-03-21T02:24:35.608773",
     "exception": false,
     "start_time": "2022-03-21T02:24:35.560502",
     "status": "completed"
    },
    "tags": []
   },
   "outputs": [],
   "source": [
    "###########################################\n",
    "# The stratified datasets honor this\n",
    "###########################################\n",
    "torch.set_default_dtype(eval(p.torch_default_dtype))"
   ]
  },
  {
   "cell_type": "code",
   "execution_count": 8,
   "id": "b5fba671",
   "metadata": {
    "execution": {
     "iopub.execute_input": "2022-03-21T02:24:35.653426Z",
     "iopub.status.busy": "2022-03-21T02:24:35.653054Z",
     "iopub.status.idle": "2022-03-21T02:24:35.712046Z",
     "shell.execute_reply": "2022-03-21T02:24:35.711728Z"
    },
    "papermill": {
     "duration": 0.083027,
     "end_time": "2022-03-21T02:24:35.712116",
     "exception": false,
     "start_time": "2022-03-21T02:24:35.629089",
     "status": "completed"
    },
    "tags": []
   },
   "outputs": [],
   "source": [
    "###################################\n",
    "# Build the network(s)\n",
    "# Note: It's critical to do this AFTER setting the RNG\n",
    "###################################\n",
    "x_net = build_sequential(p.x_net)"
   ]
  },
  {
   "cell_type": "code",
   "execution_count": 9,
   "id": "5d7e61cc",
   "metadata": {
    "execution": {
     "iopub.execute_input": "2022-03-21T02:24:35.757705Z",
     "iopub.status.busy": "2022-03-21T02:24:35.756224Z",
     "iopub.status.idle": "2022-03-21T02:24:35.777581Z",
     "shell.execute_reply": "2022-03-21T02:24:35.777217Z"
    },
    "papermill": {
     "duration": 0.045154,
     "end_time": "2022-03-21T02:24:35.777650",
     "exception": false,
     "start_time": "2022-03-21T02:24:35.732496",
     "status": "completed"
    },
    "tags": []
   },
   "outputs": [],
   "source": [
    "start_time_secs = time.time()"
   ]
  },
  {
   "cell_type": "code",
   "execution_count": 10,
   "id": "c6b67dfd",
   "metadata": {
    "execution": {
     "iopub.execute_input": "2022-03-21T02:24:35.823724Z",
     "iopub.status.busy": "2022-03-21T02:24:35.823213Z",
     "iopub.status.idle": "2022-03-21T02:24:35.845337Z",
     "shell.execute_reply": "2022-03-21T02:24:35.845640Z"
    },
    "papermill": {
     "duration": 0.047691,
     "end_time": "2022-03-21T02:24:35.845721",
     "exception": false,
     "start_time": "2022-03-21T02:24:35.798030",
     "status": "completed"
    },
    "tags": []
   },
   "outputs": [],
   "source": [
    "p.domains_source = []\n",
    "p.domains_target = []\n",
    "\n",
    "\n",
    "train_original_source = []\n",
    "val_original_source   = []\n",
    "test_original_source  = []\n",
    "\n",
    "train_original_target = []\n",
    "val_original_target   = []\n",
    "test_original_target  = []"
   ]
  },
  {
   "cell_type": "code",
   "execution_count": 11,
   "id": "e3d9c3d3",
   "metadata": {
    "execution": {
     "iopub.execute_input": "2022-03-21T02:24:35.890582Z",
     "iopub.status.busy": "2022-03-21T02:24:35.890214Z",
     "iopub.status.idle": "2022-03-21T02:24:35.913050Z",
     "shell.execute_reply": "2022-03-21T02:24:35.912732Z"
    },
    "papermill": {
     "duration": 0.046702,
     "end_time": "2022-03-21T02:24:35.913119",
     "exception": false,
     "start_time": "2022-03-21T02:24:35.866417",
     "status": "completed"
    },
    "tags": []
   },
   "outputs": [],
   "source": [
    "# global_x_transform_func = lambda x: normalize(x.to(torch.get_default_dtype()), \"unit_power\") # unit_power, unit_mag\n",
    "# global_x_transform_func = lambda x: normalize(x, \"unit_power\") # unit_power, unit_mag"
   ]
  },
  {
   "cell_type": "code",
   "execution_count": 12,
   "id": "acb78fd2",
   "metadata": {
    "execution": {
     "iopub.execute_input": "2022-03-21T02:24:35.967626Z",
     "iopub.status.busy": "2022-03-21T02:24:35.962631Z",
     "iopub.status.idle": "2022-03-21T02:24:35.988806Z",
     "shell.execute_reply": "2022-03-21T02:24:35.988440Z"
    },
    "papermill": {
     "duration": 0.055164,
     "end_time": "2022-03-21T02:24:35.988876",
     "exception": false,
     "start_time": "2022-03-21T02:24:35.933712",
     "status": "completed"
    },
    "tags": []
   },
   "outputs": [],
   "source": [
    "def add_dataset(\n",
    "    labels,\n",
    "    domains,\n",
    "    pickle_path,\n",
    "    x_transforms,\n",
    "    episode_transforms,\n",
    "    domain_prefix,\n",
    "    num_examples_per_domain_per_label,\n",
    "    source_or_target_dataset:str,\n",
    "    iterator_seed=p.seed,\n",
    "    dataset_seed=p.dataset_seed,\n",
    "    n_shot=p.n_shot,\n",
    "    n_way=p.n_way,\n",
    "    n_query=p.n_query,\n",
    "    train_val_test_k_factors=(p.train_k_factor,p.val_k_factor,p.test_k_factor),\n",
    "):\n",
    "   \n",
    "    if x_transforms == []: x_transform = None\n",
    "    else: x_transform = get_chained_transform(x_transforms)\n",
    "    \n",
    "    if episode_transforms == []: episode_transform = None\n",
    "    else: raise Exception(\"episode_transforms not implemented\")\n",
    "    \n",
    "    episode_transform = lambda tup, _prefix=domain_prefix: (_prefix + str(tup[0]), tup[1])\n",
    "\n",
    "\n",
    "    eaf = Episodic_Accessor_Factory(\n",
    "        labels=labels,\n",
    "        domains=domains,\n",
    "        num_examples_per_domain_per_label=num_examples_per_domain_per_label,\n",
    "        iterator_seed=iterator_seed,\n",
    "        dataset_seed=dataset_seed,\n",
    "        n_shot=n_shot,\n",
    "        n_way=n_way,\n",
    "        n_query=n_query,\n",
    "        train_val_test_k_factors=train_val_test_k_factors,\n",
    "        pickle_path=pickle_path,\n",
    "        x_transform_func=x_transform,\n",
    "    )\n",
    "\n",
    "    train, val, test = eaf.get_train(), eaf.get_val(), eaf.get_test()\n",
    "    train = Lazy_Iterable_Wrapper(train, episode_transform)\n",
    "    val = Lazy_Iterable_Wrapper(val, episode_transform)\n",
    "    test = Lazy_Iterable_Wrapper(test, episode_transform)\n",
    "\n",
    "    if source_or_target_dataset==\"source\":\n",
    "        train_original_source.append(train)\n",
    "        val_original_source.append(val)\n",
    "        test_original_source.append(test)\n",
    "\n",
    "        p.domains_source.extend(\n",
    "            [domain_prefix + str(u) for u in domains]\n",
    "        )\n",
    "    elif source_or_target_dataset==\"target\":\n",
    "        train_original_target.append(train)\n",
    "        val_original_target.append(val)\n",
    "        test_original_target.append(test)\n",
    "        p.domains_target.extend(\n",
    "            [domain_prefix + str(u) for u in domains]\n",
    "        )\n",
    "    else:\n",
    "        raise Exception(f\"invalid source_or_target_dataset: {source_or_target_dataset}\")\n",
    "    "
   ]
  },
  {
   "cell_type": "code",
   "execution_count": 13,
   "id": "fe266617",
   "metadata": {
    "execution": {
     "iopub.execute_input": "2022-03-21T02:24:36.034168Z",
     "iopub.status.busy": "2022-03-21T02:24:36.033804Z",
     "iopub.status.idle": "2022-03-21T02:24:39.583010Z",
     "shell.execute_reply": "2022-03-21T02:24:39.582204Z"
    },
    "papermill": {
     "duration": 3.573302,
     "end_time": "2022-03-21T02:24:39.583204",
     "exception": false,
     "start_time": "2022-03-21T02:24:36.009902",
     "status": "completed"
    },
    "tags": []
   },
   "outputs": [],
   "source": [
    "for ds in p.datasets:\n",
    "    add_dataset(**ds)"
   ]
  },
  {
   "cell_type": "code",
   "execution_count": 14,
   "id": "b90d65ac",
   "metadata": {
    "execution": {
     "iopub.execute_input": "2022-03-21T02:24:39.629895Z",
     "iopub.status.busy": "2022-03-21T02:24:39.629500Z",
     "iopub.status.idle": "2022-03-21T02:24:39.652961Z",
     "shell.execute_reply": "2022-03-21T02:24:39.652249Z"
    },
    "papermill": {
     "duration": 0.047735,
     "end_time": "2022-03-21T02:24:39.653127",
     "exception": false,
     "start_time": "2022-03-21T02:24:39.605392",
     "status": "completed"
    },
    "tags": []
   },
   "outputs": [],
   "source": [
    "# from steves_utils.CORES.utils import (\n",
    "#     ALL_NODES,\n",
    "#     ALL_NODES_MINIMUM_1000_EXAMPLES,\n",
    "#     ALL_DAYS\n",
    "# )\n",
    "\n",
    "# add_dataset(\n",
    "#     labels=ALL_NODES,\n",
    "#     domains = ALL_DAYS,\n",
    "#     num_examples_per_domain_per_label=100,\n",
    "#     pickle_path=os.path.join(get_datasets_base_path(), \"cores.stratified_ds.2022A.pkl\"),\n",
    "#     source_or_target_dataset=\"target\",\n",
    "#     x_transform_func=global_x_transform_func,\n",
    "#     domain_modifier=lambda u: f\"cores_{u}\"\n",
    "# )"
   ]
  },
  {
   "cell_type": "code",
   "execution_count": 15,
   "id": "76db484d",
   "metadata": {
    "execution": {
     "iopub.execute_input": "2022-03-21T02:24:39.719093Z",
     "iopub.status.busy": "2022-03-21T02:24:39.715833Z",
     "iopub.status.idle": "2022-03-21T02:24:39.736155Z",
     "shell.execute_reply": "2022-03-21T02:24:39.735322Z"
    },
    "papermill": {
     "duration": 0.046312,
     "end_time": "2022-03-21T02:24:39.736325",
     "exception": false,
     "start_time": "2022-03-21T02:24:39.690013",
     "status": "completed"
    },
    "tags": []
   },
   "outputs": [],
   "source": [
    "# from steves_utils.ORACLE.utils_v2 import (\n",
    "#     ALL_DISTANCES_FEET,\n",
    "#     ALL_RUNS,\n",
    "#     ALL_SERIAL_NUMBERS,\n",
    "# )\n",
    "\n",
    "\n",
    "# add_dataset(\n",
    "#     labels=ALL_SERIAL_NUMBERS,\n",
    "#     domains = list(set(ALL_DISTANCES_FEET) - {2,62}),\n",
    "#     num_examples_per_domain_per_label=100,\n",
    "#     pickle_path=os.path.join(get_datasets_base_path(), \"oracle.Run2_framed_2000Examples_stratified_ds.2022A.pkl\"),\n",
    "#     source_or_target_dataset=\"source\",\n",
    "#     x_transform_func=global_x_transform_func,\n",
    "#     domain_modifier=lambda u: f\"oracle1_{u}\"\n",
    "# )\n"
   ]
  },
  {
   "cell_type": "code",
   "execution_count": 16,
   "id": "97dea9d2",
   "metadata": {
    "execution": {
     "iopub.execute_input": "2022-03-21T02:24:39.786502Z",
     "iopub.status.busy": "2022-03-21T02:24:39.785486Z",
     "iopub.status.idle": "2022-03-21T02:24:39.806668Z",
     "shell.execute_reply": "2022-03-21T02:24:39.805868Z"
    },
    "papermill": {
     "duration": 0.04526,
     "end_time": "2022-03-21T02:24:39.806821",
     "exception": false,
     "start_time": "2022-03-21T02:24:39.761561",
     "status": "completed"
    },
    "tags": []
   },
   "outputs": [],
   "source": [
    "# from steves_utils.ORACLE.utils_v2 import (\n",
    "#     ALL_DISTANCES_FEET,\n",
    "#     ALL_RUNS,\n",
    "#     ALL_SERIAL_NUMBERS,\n",
    "# )\n",
    "\n",
    "\n",
    "# add_dataset(\n",
    "#     labels=ALL_SERIAL_NUMBERS,\n",
    "#     domains = list(set(ALL_DISTANCES_FEET) - {2,62,56}),\n",
    "#     num_examples_per_domain_per_label=100,\n",
    "#     pickle_path=os.path.join(get_datasets_base_path(), \"oracle.Run2_framed_2000Examples_stratified_ds.2022A.pkl\"),\n",
    "#     source_or_target_dataset=\"source\",\n",
    "#     x_transform_func=global_x_transform_func,\n",
    "#     domain_modifier=lambda u: f\"oracle2_{u}\"\n",
    "# )"
   ]
  },
  {
   "cell_type": "code",
   "execution_count": 17,
   "id": "6f289866",
   "metadata": {
    "execution": {
     "iopub.execute_input": "2022-03-21T02:24:39.859022Z",
     "iopub.status.busy": "2022-03-21T02:24:39.857867Z",
     "iopub.status.idle": "2022-03-21T02:24:39.878280Z",
     "shell.execute_reply": "2022-03-21T02:24:39.877474Z"
    },
    "papermill": {
     "duration": 0.04536,
     "end_time": "2022-03-21T02:24:39.878434",
     "exception": false,
     "start_time": "2022-03-21T02:24:39.833074",
     "status": "completed"
    },
    "tags": []
   },
   "outputs": [],
   "source": [
    "# add_dataset(\n",
    "#     labels=list(range(19)),\n",
    "#     domains = [0,1,2],\n",
    "#     num_examples_per_domain_per_label=100,\n",
    "#     pickle_path=os.path.join(get_datasets_base_path(), \"metehan.stratified_ds.2022A.pkl\"),\n",
    "#     source_or_target_dataset=\"target\",\n",
    "#     x_transform_func=global_x_transform_func,\n",
    "#     domain_modifier=lambda u: f\"met_{u}\"\n",
    "# )"
   ]
  },
  {
   "cell_type": "code",
   "execution_count": 18,
   "id": "86a863c3",
   "metadata": {
    "execution": {
     "iopub.execute_input": "2022-03-21T02:24:39.930903Z",
     "iopub.status.busy": "2022-03-21T02:24:39.929019Z",
     "iopub.status.idle": "2022-03-21T02:24:39.950391Z",
     "shell.execute_reply": "2022-03-21T02:24:39.949590Z"
    },
    "papermill": {
     "duration": 0.045783,
     "end_time": "2022-03-21T02:24:39.950544",
     "exception": false,
     "start_time": "2022-03-21T02:24:39.904761",
     "status": "completed"
    },
    "tags": []
   },
   "outputs": [],
   "source": [
    "# # from steves_utils.wisig.utils import (\n",
    "# #     ALL_NODES_MINIMUM_100_EXAMPLES,\n",
    "# #     ALL_NODES_MINIMUM_500_EXAMPLES,\n",
    "# #     ALL_NODES_MINIMUM_1000_EXAMPLES,\n",
    "# #     ALL_DAYS\n",
    "# # )\n",
    "\n",
    "# import steves_utils.wisig.utils as wisig\n",
    "\n",
    "\n",
    "# add_dataset(\n",
    "#     labels=wisig.ALL_NODES_MINIMUM_100_EXAMPLES,\n",
    "#     domains = wisig.ALL_DAYS,\n",
    "#     num_examples_per_domain_per_label=100,\n",
    "#     pickle_path=os.path.join(get_datasets_base_path(), \"wisig.node3-19.stratified_ds.2022A.pkl\"),\n",
    "#     source_or_target_dataset=\"target\",\n",
    "#     x_transform_func=global_x_transform_func,\n",
    "#     domain_modifier=lambda u: f\"wisig_{u}\"\n",
    "# )"
   ]
  },
  {
   "cell_type": "code",
   "execution_count": 19,
   "id": "fd5442bc",
   "metadata": {
    "execution": {
     "iopub.execute_input": "2022-03-21T02:24:40.008425Z",
     "iopub.status.busy": "2022-03-21T02:24:40.007844Z",
     "iopub.status.idle": "2022-03-21T02:24:40.032133Z",
     "shell.execute_reply": "2022-03-21T02:24:40.031405Z"
    },
    "papermill": {
     "duration": 0.055086,
     "end_time": "2022-03-21T02:24:40.032287",
     "exception": false,
     "start_time": "2022-03-21T02:24:39.977201",
     "status": "completed"
    },
    "tags": []
   },
   "outputs": [],
   "source": [
    "###################################\n",
    "# Build the dataset\n",
    "###################################\n",
    "train_original_source = Iterable_Aggregator(train_original_source, p.seed)\n",
    "val_original_source = Iterable_Aggregator(val_original_source, p.seed)\n",
    "test_original_source = Iterable_Aggregator(test_original_source, p.seed)\n",
    "\n",
    "\n",
    "train_original_target = Iterable_Aggregator(train_original_target, p.seed)\n",
    "val_original_target = Iterable_Aggregator(val_original_target, p.seed)\n",
    "test_original_target = Iterable_Aggregator(test_original_target, p.seed)\n",
    "\n",
    "# For CNN We only use X and Y. And we only train on the source.\n",
    "# Properly form the data using a transform lambda and Lazy_Iterable_Wrapper. Finally wrap them in a dataloader\n",
    "\n",
    "transform_lambda = lambda ex: ex[1] # Original is (<domain>, <episode>) so we strip down to episode only\n",
    "\n",
    "train_processed_source = Lazy_Iterable_Wrapper(train_original_source, transform_lambda)\n",
    "val_processed_source   = Lazy_Iterable_Wrapper(val_original_source, transform_lambda)\n",
    "test_processed_source  = Lazy_Iterable_Wrapper(test_original_source, transform_lambda)\n",
    "\n",
    "train_processed_target = Lazy_Iterable_Wrapper(train_original_target, transform_lambda)\n",
    "val_processed_target   = Lazy_Iterable_Wrapper(val_original_target, transform_lambda)\n",
    "test_processed_target  = Lazy_Iterable_Wrapper(test_original_target, transform_lambda)\n",
    "\n",
    "datasets = EasyDict({\n",
    "    \"source\": {\n",
    "        \"original\": {\"train\":train_original_source, \"val\":val_original_source, \"test\":test_original_source},\n",
    "        \"processed\": {\"train\":train_processed_source, \"val\":val_processed_source, \"test\":test_processed_source}\n",
    "    },\n",
    "    \"target\": {\n",
    "        \"original\": {\"train\":train_original_target, \"val\":val_original_target, \"test\":test_original_target},\n",
    "        \"processed\": {\"train\":train_processed_target, \"val\":val_processed_target, \"test\":test_processed_target}\n",
    "    },\n",
    "})"
   ]
  },
  {
   "cell_type": "code",
   "execution_count": 20,
   "id": "5b3c01fc",
   "metadata": {
    "execution": {
     "iopub.execute_input": "2022-03-21T02:24:40.088442Z",
     "iopub.status.busy": "2022-03-21T02:24:40.088069Z",
     "iopub.status.idle": "2022-03-21T02:24:48.184786Z",
     "shell.execute_reply": "2022-03-21T02:24:48.184384Z"
    },
    "papermill": {
     "duration": 8.1228,
     "end_time": "2022-03-21T02:24:48.184887",
     "exception": false,
     "start_time": "2022-03-21T02:24:40.062087",
     "status": "completed"
    },
    "tags": []
   },
   "outputs": [
    {
     "name": "stdout",
     "output_type": "stream",
     "text": [
      "{'Wisig_3', 'Wisig_1', 'Wisig_4', 'Wisig_2'}\n"
     ]
    },
    {
     "name": "stdout",
     "output_type": "stream",
     "text": [
      "{'CORES_2', 'CORES_1', 'CORES_4', 'CORES_5', 'CORES_3'}\n"
     ]
    },
    {
     "name": "stdout",
     "output_type": "stream",
     "text": [
      "tensor([[[-8.0874e-03, -4.9745e-03, -9.0640e-03,  ...,  5.1881e-04,\n",
      "          -8.2400e-04, -5.7070e-03],\n",
      "         [-3.7538e-03,  9.7659e-04,  7.7212e-03,  ...,  6.4394e-03,\n",
      "           4.2726e-03,  8.9724e-03]],\n",
      "\n",
      "        [[-8.3926e-03, -1.8067e-02, -2.6643e-02,  ..., -1.3459e-02,\n",
      "          -1.2635e-02, -6.5615e-03],\n",
      "         [ 1.8830e-02, -1.4954e-03, -1.2909e-02,  ...,  1.1689e-02,\n",
      "           4.9440e-03, -2.4415e-04]],\n",
      "\n",
      "        [[-9.7354e-03, -4.8830e-03, -5.0050e-03,  ...,  6.0121e-03,\n",
      "           2.7161e-03,  3.0519e-05],\n",
      "         [-3.7843e-03, -1.2207e-03,  7.3550e-03,  ...,  7.1718e-03,\n",
      "           3.5096e-03,  9.9185e-03]],\n",
      "\n",
      "        ...,\n",
      "\n",
      "        [[-1.2027e-01, -2.1265e-01,  1.3916e-02,  ..., -1.4420e-01,\n",
      "          -1.7743e-01,  2.7924e-02],\n",
      "         [ 1.9639e-01, -7.6418e-02, -2.3710e-01,  ...,  8.9602e-02,\n",
      "          -8.2858e-02, -1.9514e-01]],\n",
      "\n",
      "        [[-2.1729e-02, -4.3977e-02, -1.7084e-01,  ..., -1.9135e-02,\n",
      "          -4.4801e-02, -4.6999e-02],\n",
      "         [-2.5269e-02,  3.5188e-02, -9.8117e-02,  ...,  4.7914e-03,\n",
      "          -5.7833e-02, -1.3962e-01]],\n",
      "\n",
      "        [[-1.4283e-02, -2.1638e-02,  1.5656e-02,  ...,  1.0907e-01,\n",
      "          -1.0956e-02, -7.6632e-02],\n",
      "         [ 5.4933e-03,  1.1383e-02,  7.5350e-02,  ..., -4.8524e-02,\n",
      "           2.1241e-02,  3.1159e-02]]])\n"
     ]
    }
   ],
   "source": [
    "from steves_utils.transforms import get_average_magnitude, get_average_power\n",
    "\n",
    "print(set([u for u,_ in val_original_source]))\n",
    "print(set([u for u,_ in val_original_target]))\n",
    "\n",
    "s_x, s_y, q_x, q_y, _ = next(iter(train_processed_source))\n",
    "print(s_x)\n",
    "\n",
    "# for ds in [\n",
    "#     train_processed_source,\n",
    "#     val_processed_source,\n",
    "#     test_processed_source,\n",
    "#     train_processed_target,\n",
    "#     val_processed_target,\n",
    "#     test_processed_target\n",
    "# ]:\n",
    "#     for s_x, s_y, q_x, q_y, _ in ds:\n",
    "#         for X in (s_x, q_x):\n",
    "#             for x in X:\n",
    "#                 assert np.isclose(get_average_magnitude(x.numpy()), 1.0)\n",
    "#                 assert np.isclose(get_average_power(x.numpy()), 1.0)\n",
    "                "
   ]
  },
  {
   "cell_type": "code",
   "execution_count": 21,
   "id": "bbdacba1",
   "metadata": {
    "execution": {
     "iopub.execute_input": "2022-03-21T02:24:48.236627Z",
     "iopub.status.busy": "2022-03-21T02:24:48.236036Z",
     "iopub.status.idle": "2022-03-21T02:24:48.433995Z",
     "shell.execute_reply": "2022-03-21T02:24:48.433544Z"
    },
    "papermill": {
     "duration": 0.226201,
     "end_time": "2022-03-21T02:24:48.434103",
     "exception": false,
     "start_time": "2022-03-21T02:24:48.207902",
     "status": "completed"
    },
    "tags": []
   },
   "outputs": [
    {
     "name": "stdout",
     "output_type": "stream",
     "text": [
      "(2, 256)\n"
     ]
    }
   ],
   "source": [
    "###################################\n",
    "# Build the model\n",
    "###################################\n",
    "# easfsl only wants a tuple for the shape\n",
    "model = Steves_Prototypical_Network(x_net, device=p.device, x_shape=tuple(p.x_shape))\n",
    "optimizer = Adam(params=model.parameters(), lr=p.lr)"
   ]
  },
  {
   "cell_type": "code",
   "execution_count": 22,
   "id": "22b39ac5",
   "metadata": {
    "execution": {
     "iopub.execute_input": "2022-03-21T02:24:48.486090Z",
     "iopub.status.busy": "2022-03-21T02:24:48.485710Z",
     "iopub.status.idle": "2022-03-21T02:28:40.634746Z",
     "shell.execute_reply": "2022-03-21T02:28:40.633912Z"
    },
    "papermill": {
     "duration": 232.176873,
     "end_time": "2022-03-21T02:28:40.634921",
     "exception": false,
     "start_time": "2022-03-21T02:24:48.458048",
     "status": "completed"
    },
    "tags": []
   },
   "outputs": [
    {
     "name": "stdout",
     "output_type": "stream",
     "text": [
      "epoch: 1, [batch: 1 / 905], examples_per_second: 216.2295, train_label_loss: 3.3140, \n"
     ]
    },
    {
     "name": "stdout",
     "output_type": "stream",
     "text": [
      "epoch: 1, [batch: 91 / 905], examples_per_second: 3503.8717, train_label_loss: 0.9264, \n"
     ]
    },
    {
     "name": "stdout",
     "output_type": "stream",
     "text": [
      "epoch: 1, [batch: 181 / 905], examples_per_second: 3459.7690, train_label_loss: 0.5447, \n"
     ]
    },
    {
     "name": "stdout",
     "output_type": "stream",
     "text": [
      "epoch: 1, [batch: 272 / 905], examples_per_second: 4056.4313, train_label_loss: 0.3227, \n"
     ]
    },
    {
     "name": "stdout",
     "output_type": "stream",
     "text": [
      "epoch: 1, [batch: 362 / 905], examples_per_second: 3874.4950, train_label_loss: 0.3886, \n"
     ]
    },
    {
     "name": "stdout",
     "output_type": "stream",
     "text": [
      "epoch: 1, [batch: 453 / 905], examples_per_second: 3861.8363, train_label_loss: 0.3874, \n"
     ]
    },
    {
     "name": "stdout",
     "output_type": "stream",
     "text": [
      "epoch: 1, [batch: 543 / 905], examples_per_second: 4145.6930, train_label_loss: 0.4054, \n"
     ]
    },
    {
     "name": "stdout",
     "output_type": "stream",
     "text": [
      "epoch: 1, [batch: 633 / 905], examples_per_second: 4155.7548, train_label_loss: 0.4844, \n"
     ]
    },
    {
     "name": "stdout",
     "output_type": "stream",
     "text": [
      "epoch: 1, [batch: 724 / 905], examples_per_second: 4003.1169, train_label_loss: 0.4587, \n"
     ]
    },
    {
     "name": "stdout",
     "output_type": "stream",
     "text": [
      "epoch: 1, [batch: 814 / 905], examples_per_second: 4231.7755, train_label_loss: 0.5712, \n"
     ]
    },
    {
     "name": "stdout",
     "output_type": "stream",
     "text": [
      "=============================================================\n",
      "epoch: 1, source_val_acc_label: 0.9390, target_val_acc_label: 0.9684, source_val_label_loss: 0.3430, target_val_label_loss: 0.2610, \n",
      "=============================================================\n"
     ]
    },
    {
     "name": "stdout",
     "output_type": "stream",
     "text": [
      "New best\n"
     ]
    },
    {
     "name": "stdout",
     "output_type": "stream",
     "text": [
      "epoch: 2, [batch: 1 / 914], examples_per_second: 28.1380, train_label_loss: 0.5721, \n"
     ]
    },
    {
     "name": "stdout",
     "output_type": "stream",
     "text": [
      "epoch: 2, [batch: 92 / 914], examples_per_second: 4109.3594, train_label_loss: 0.1135, \n"
     ]
    },
    {
     "name": "stdout",
     "output_type": "stream",
     "text": [
      "epoch: 2, [batch: 183 / 914], examples_per_second: 4027.1353, train_label_loss: 0.4129, \n"
     ]
    },
    {
     "name": "stdout",
     "output_type": "stream",
     "text": [
      "epoch: 2, [batch: 274 / 914], examples_per_second: 4023.5014, train_label_loss: 0.1078, \n"
     ]
    },
    {
     "name": "stdout",
     "output_type": "stream",
     "text": [
      "epoch: 2, [batch: 366 / 914], examples_per_second: 4222.9381, train_label_loss: 0.4849, \n"
     ]
    },
    {
     "name": "stdout",
     "output_type": "stream",
     "text": [
      "epoch: 2, [batch: 457 / 914], examples_per_second: 4060.5430, train_label_loss: 0.2642, \n"
     ]
    },
    {
     "name": "stdout",
     "output_type": "stream",
     "text": [
      "epoch: 2, [batch: 548 / 914], examples_per_second: 4115.7201, train_label_loss: 0.2847, \n"
     ]
    },
    {
     "name": "stdout",
     "output_type": "stream",
     "text": [
      "epoch: 2, [batch: 640 / 914], examples_per_second: 3982.3748, train_label_loss: 0.3155, \n"
     ]
    },
    {
     "name": "stdout",
     "output_type": "stream",
     "text": [
      "epoch: 2, [batch: 731 / 914], examples_per_second: 4082.0567, train_label_loss: 0.2246, \n"
     ]
    },
    {
     "name": "stdout",
     "output_type": "stream",
     "text": [
      "epoch: 2, [batch: 822 / 914], examples_per_second: 3903.9807, train_label_loss: 0.1237, \n"
     ]
    },
    {
     "name": "stdout",
     "output_type": "stream",
     "text": [
      "=============================================================\n",
      "epoch: 2, source_val_acc_label: 0.9560, target_val_acc_label: 0.9779, source_val_label_loss: 0.2465, target_val_label_loss: 0.1733, \n",
      "=============================================================\n"
     ]
    },
    {
     "name": "stdout",
     "output_type": "stream",
     "text": [
      "New best\n"
     ]
    },
    {
     "name": "stdout",
     "output_type": "stream",
     "text": [
      "epoch: 3, [batch: 1 / 916], examples_per_second: 28.9021, train_label_loss: 0.2477, \n"
     ]
    },
    {
     "name": "stdout",
     "output_type": "stream",
     "text": [
      "epoch: 3, [batch: 92 / 916], examples_per_second: 3986.1050, train_label_loss: 0.1484, \n"
     ]
    },
    {
     "name": "stdout",
     "output_type": "stream",
     "text": [
      "epoch: 3, [batch: 184 / 916], examples_per_second: 4010.2669, train_label_loss: 0.1845, \n"
     ]
    },
    {
     "name": "stdout",
     "output_type": "stream",
     "text": [
      "epoch: 3, [batch: 275 / 916], examples_per_second: 4014.4600, train_label_loss: 0.1916, \n"
     ]
    },
    {
     "name": "stdout",
     "output_type": "stream",
     "text": [
      "epoch: 3, [batch: 367 / 916], examples_per_second: 3934.2071, train_label_loss: 0.2019, \n"
     ]
    },
    {
     "name": "stdout",
     "output_type": "stream",
     "text": [
      "epoch: 3, [batch: 458 / 916], examples_per_second: 4031.3714, train_label_loss: 0.2606, \n"
     ]
    },
    {
     "name": "stdout",
     "output_type": "stream",
     "text": [
      "epoch: 3, [batch: 550 / 916], examples_per_second: 4007.3771, train_label_loss: 0.3036, \n"
     ]
    },
    {
     "name": "stdout",
     "output_type": "stream",
     "text": [
      "epoch: 3, [batch: 641 / 916], examples_per_second: 4386.6476, train_label_loss: 0.2058, \n"
     ]
    },
    {
     "name": "stdout",
     "output_type": "stream",
     "text": [
      "epoch: 3, [batch: 733 / 916], examples_per_second: 6282.9615, train_label_loss: 0.2058, \n"
     ]
    },
    {
     "name": "stdout",
     "output_type": "stream",
     "text": [
      "epoch: 3, [batch: 824 / 916], examples_per_second: 5588.0797, train_label_loss: 0.0313, \n"
     ]
    },
    {
     "name": "stdout",
     "output_type": "stream",
     "text": [
      "=============================================================\n",
      "epoch: 3, source_val_acc_label: 0.9611, target_val_acc_label: 0.9810, source_val_label_loss: 0.2241, target_val_label_loss: 0.1495, \n",
      "=============================================================\n"
     ]
    },
    {
     "name": "stdout",
     "output_type": "stream",
     "text": [
      "New best\n"
     ]
    }
   ],
   "source": [
    "###################################\n",
    "# train\n",
    "###################################\n",
    "jig = PTN_Train_Eval_Test_Jig(model, p.BEST_MODEL_PATH, p.device)\n",
    "\n",
    "jig.train(\n",
    "    train_iterable=datasets.source.processed.train,\n",
    "    source_val_iterable=datasets.source.processed.val,\n",
    "    target_val_iterable=datasets.target.processed.val,\n",
    "    num_epochs=p.n_epoch,\n",
    "    num_logs_per_epoch=p.NUM_LOGS_PER_EPOCH,\n",
    "    patience=p.patience,\n",
    "    optimizer=optimizer,\n",
    "    criteria_for_best=p.criteria_for_best,\n",
    ")"
   ]
  },
  {
   "cell_type": "code",
   "execution_count": 23,
   "id": "31e8fabf",
   "metadata": {
    "execution": {
     "iopub.execute_input": "2022-03-21T02:28:40.713166Z",
     "iopub.status.busy": "2022-03-21T02:28:40.712594Z",
     "iopub.status.idle": "2022-03-21T02:28:40.746360Z",
     "shell.execute_reply": "2022-03-21T02:28:40.745597Z"
    },
    "papermill": {
     "duration": 0.072643,
     "end_time": "2022-03-21T02:28:40.746542",
     "exception": false,
     "start_time": "2022-03-21T02:28:40.673899",
     "status": "completed"
    },
    "tags": []
   },
   "outputs": [],
   "source": [
    "total_experiment_time_secs = time.time() - start_time_secs"
   ]
  },
  {
   "cell_type": "code",
   "execution_count": 24,
   "id": "87b9595b",
   "metadata": {
    "execution": {
     "iopub.execute_input": "2022-03-21T02:28:40.832310Z",
     "iopub.status.busy": "2022-03-21T02:28:40.831694Z",
     "iopub.status.idle": "2022-03-21T02:29:30.436863Z",
     "shell.execute_reply": "2022-03-21T02:29:30.437550Z"
    },
    "papermill": {
     "duration": 49.652815,
     "end_time": "2022-03-21T02:29:30.437802",
     "exception": false,
     "start_time": "2022-03-21T02:28:40.784987",
     "status": "completed"
    },
    "tags": []
   },
   "outputs": [],
   "source": [
    "###################################\n",
    "# Evaluate the model\n",
    "###################################\n",
    "source_test_label_accuracy, source_test_label_loss = jig.test(datasets.source.processed.test)\n",
    "target_test_label_accuracy, target_test_label_loss = jig.test(datasets.target.processed.test)\n",
    "\n",
    "source_val_label_accuracy, source_val_label_loss = jig.test(datasets.source.processed.val)\n",
    "target_val_label_accuracy, target_val_label_loss = jig.test(datasets.target.processed.val)\n",
    "\n",
    "history = jig.get_history()\n",
    "\n",
    "total_epochs_trained = len(history[\"epoch_indices\"])\n",
    "\n",
    "val_dl = Iterable_Aggregator((datasets.source.original.val,datasets.target.original.val))\n",
    "\n",
    "confusion = ptn_confusion_by_domain_over_dataloader(model, p.device, val_dl)\n",
    "per_domain_accuracy = per_domain_accuracy_from_confusion(confusion)\n",
    "\n",
    "# Add a key to per_domain_accuracy for if it was a source domain\n",
    "for domain, accuracy in per_domain_accuracy.items():\n",
    "    per_domain_accuracy[domain] = {\n",
    "        \"accuracy\": accuracy,\n",
    "        \"source?\": domain in p.domains_source\n",
    "    }\n",
    "\n",
    "# Do an independent accuracy assesment JUST TO BE SURE!\n",
    "# _source_test_label_accuracy = independent_accuracy_assesment(model, datasets.source.processed.test, p.device)\n",
    "# _target_test_label_accuracy = independent_accuracy_assesment(model, datasets.target.processed.test, p.device)\n",
    "# _source_val_label_accuracy = independent_accuracy_assesment(model, datasets.source.processed.val, p.device)\n",
    "# _target_val_label_accuracy = independent_accuracy_assesment(model, datasets.target.processed.val, p.device)\n",
    "\n",
    "# assert(_source_test_label_accuracy == source_test_label_accuracy)\n",
    "# assert(_target_test_label_accuracy == target_test_label_accuracy)\n",
    "# assert(_source_val_label_accuracy == source_val_label_accuracy)\n",
    "# assert(_target_val_label_accuracy == target_val_label_accuracy)\n",
    "\n",
    "experiment = {\n",
    "    \"experiment_name\": p.experiment_name,\n",
    "    \"parameters\": dict(p),\n",
    "    \"results\": {\n",
    "        \"source_test_label_accuracy\": source_test_label_accuracy,\n",
    "        \"source_test_label_loss\": source_test_label_loss,\n",
    "        \"target_test_label_accuracy\": target_test_label_accuracy,\n",
    "        \"target_test_label_loss\": target_test_label_loss,\n",
    "        \"source_val_label_accuracy\": source_val_label_accuracy,\n",
    "        \"source_val_label_loss\": source_val_label_loss,\n",
    "        \"target_val_label_accuracy\": target_val_label_accuracy,\n",
    "        \"target_val_label_loss\": target_val_label_loss,\n",
    "        \"total_epochs_trained\": total_epochs_trained,\n",
    "        \"total_experiment_time_secs\": total_experiment_time_secs,\n",
    "        \"confusion\": confusion,\n",
    "        \"per_domain_accuracy\": per_domain_accuracy,\n",
    "    },\n",
    "    \"history\": history,\n",
    "    \"dataset_metrics\": get_dataset_metrics(datasets, \"ptn\"),\n",
    "}"
   ]
  },
  {
   "cell_type": "code",
   "execution_count": 25,
   "id": "54a21829",
   "metadata": {
    "execution": {
     "iopub.execute_input": "2022-03-21T02:29:30.515691Z",
     "iopub.status.busy": "2022-03-21T02:29:30.515307Z",
     "iopub.status.idle": "2022-03-21T02:29:30.722850Z",
     "shell.execute_reply": "2022-03-21T02:29:30.723575Z"
    },
    "papermill": {
     "duration": 0.244886,
     "end_time": "2022-03-21T02:29:30.723777",
     "exception": false,
     "start_time": "2022-03-21T02:29:30.478891",
     "status": "completed"
    },
    "tags": []
   },
   "outputs": [
    {
     "data": {
      "image/png": "[encoded data removed]",
      "text/plain": [
       "<Figure size 1080x504 with 1 Axes>"
      ]
     },
     "metadata": {
      "needs_background": "light"
     },
     "output_type": "display_data"
    }
   ],
   "source": [
    "ax = get_loss_curve(experiment)\n",
    "plt.show()"
   ]
  },
  {
   "cell_type": "code",
   "execution_count": 26,
   "id": "fd8a0f60",
   "metadata": {
    "execution": {
     "iopub.execute_input": "2022-03-21T02:29:30.803758Z",
     "iopub.status.busy": "2022-03-21T02:29:30.803176Z",
     "iopub.status.idle": "2022-03-21T02:29:31.172716Z",
     "shell.execute_reply": "2022-03-21T02:29:31.173030Z"
    },
    "papermill": {
     "duration": 0.408016,
     "end_time": "2022-03-21T02:29:31.173149",
     "exception": false,
     "start_time": "2022-03-21T02:29:30.765133",
     "status": "completed"
    },
    "tags": []
   },
   "outputs": [
    {
     "data": {
      "text/plain": [
       "<AxesSubplot:title={'center':'Results'}>"
      ]
     },
     "execution_count": 26,
     "metadata": {},
     "output_type": "execute_result"
    },
    {
     "data": {
      "image/png": "[encoded data removed]",
      "text/plain": [
       "<Figure size 1080x504 with 1 Axes>"
      ]
     },
     "metadata": {
      "needs_background": "light"
     },
     "output_type": "display_data"
    }
   ],
   "source": [
    "get_results_table(experiment)"
   ]
  },
  {
   "cell_type": "code",
   "execution_count": 27,
   "id": "cf8dc689",
   "metadata": {
    "execution": {
     "iopub.execute_input": "2022-03-21T02:29:31.247615Z",
     "iopub.status.busy": "2022-03-21T02:29:31.247224Z",
     "iopub.status.idle": "2022-03-21T02:29:31.471290Z",
     "shell.execute_reply": "2022-03-21T02:29:31.471993Z"
    },
    "papermill": {
     "duration": 0.263396,
     "end_time": "2022-03-21T02:29:31.472206",
     "exception": false,
     "start_time": "2022-03-21T02:29:31.208810",
     "status": "completed"
    },
    "tags": []
   },
   "outputs": [
    {
     "data": {
      "text/plain": [
       "<AxesSubplot:title={'center':'Per Domain Validation Accuracy'}, xlabel='domain'>"
      ]
     },
     "execution_count": 27,
     "metadata": {},
     "output_type": "execute_result"
    },
    {
     "data": {
      "image/png": "[encoded data removed]",
      "text/plain": [
       "<Figure size 1080x504 with 1 Axes>"
      ]
     },
     "metadata": {
      "needs_background": "light"
     },
     "output_type": "display_data"
    }
   ],
   "source": [
    "get_domain_accuracies(experiment)"
   ]
  },
  {
   "cell_type": "code",
   "execution_count": 28,
   "id": "a74ae082",
   "metadata": {
    "execution": {
     "iopub.execute_input": "2022-03-21T02:29:31.555135Z",
     "iopub.status.busy": "2022-03-21T02:29:31.554751Z",
     "iopub.status.idle": "2022-03-21T02:29:31.581508Z",
     "shell.execute_reply": "2022-03-21T02:29:31.580823Z"
    },
    "papermill": {
     "duration": 0.06782,
     "end_time": "2022-03-21T02:29:31.581680",
     "exception": false,
     "start_time": "2022-03-21T02:29:31.513860",
     "status": "completed"
    },
    "tags": []
   },
   "outputs": [
    {
     "name": "stdout",
     "output_type": "stream",
     "text": [
      "Source Test Label Accuracy: 0.9629183569979716 Target Test Label Accuracy: 0.981551724137931\n",
      "Source Val Label Accuracy: 0.9611395474137931 Target Val Label Accuracy: 0.9809626436781609\n"
     ]
    }
   ],
   "source": [
    "print(\"Source Test Label Accuracy:\", experiment[\"results\"][\"source_test_label_accuracy\"], \"Target Test Label Accuracy:\", experiment[\"results\"][\"target_test_label_accuracy\"])\n",
    "print(\"Source Val Label Accuracy:\", experiment[\"results\"][\"source_val_label_accuracy\"], \"Target Val Label Accuracy:\", experiment[\"results\"][\"target_val_label_accuracy\"])"
   ]
  },
  {
   "cell_type": "code",
   "execution_count": 29,
   "id": "dacca602",
   "metadata": {
    "execution": {
     "iopub.execute_input": "2022-03-21T02:29:31.666806Z",
     "iopub.status.busy": "2022-03-21T02:29:31.666430Z",
     "iopub.status.idle": "2022-03-21T02:29:31.693793Z",
     "shell.execute_reply": "2022-03-21T02:29:31.694465Z"
    },
    "papermill": {
     "duration": 0.069127,
     "end_time": "2022-03-21T02:29:31.694668",
     "exception": false,
     "start_time": "2022-03-21T02:29:31.625541",
     "status": "completed"
    },
    "tags": [
     "experiment_json"
    ]
   },
   "outputs": [
    {
     "data": {
      "text/plain": [
       "'{\"experiment_name\": \"tl_1v2:cores-wisig\", \"parameters\": {\"experiment_name\": \"tl_1v2:cores-wisig\", \"device\": \"cuda\", \"lr\": 0.0001, \"n_shot\": 3, \"n_query\": 2, \"train_k_factor\": 3, \"val_k_factor\": 2, \"test_k_factor\": 2, \"torch_default_dtype\": \"torch.float32\", \"n_epoch\": 3, \"patience\": 3, \"criteria_for_best\": \"target_accuracy\", \"x_net\": [{\"class\": \"nnReshape\", \"kargs\": {\"shape\": [-1, 1, 2, 256]}}, {\"class\": \"Conv2d\", \"kargs\": {\"in_channels\": 1, \"out_channels\": 256, \"kernel_size\": [1, 7], \"bias\": false, \"padding\": [0, 3]}}, {\"class\": \"ReLU\", \"kargs\": {\"inplace\": true}}, {\"class\": \"BatchNorm2d\", \"kargs\": {\"num_features\": 256}}, {\"class\": \"Conv2d\", \"kargs\": {\"in_channels\": 256, \"out_channels\": 80, \"kernel_size\": [2, 7], \"bias\": true, \"padding\": [0, 3]}}, {\"class\": \"ReLU\", \"kargs\": {\"inplace\": true}}, {\"class\": \"BatchNorm2d\", \"kargs\": {\"num_features\": 80}}, {\"class\": \"Flatten\", \"kargs\": {}}, {\"class\": \"Linear\", \"kargs\": {\"in_features\": 20480, \"out_features\": 256}}, {\"class\": \"ReLU\", \"kargs\": {\"inplace\": true}}, {\"class\": \"BatchNorm1d\", \"kargs\": {\"num_features\": 256}}, {\"class\": \"Linear\", \"kargs\": {\"in_features\": 256, \"out_features\": 256}}], \"NUM_LOGS_PER_EPOCH\": 10, \"BEST_MODEL_PATH\": \"./best_model.pth\", \"n_way\": 58, \"datasets\": [{\"labels\": [\"1-10.\", \"1-11.\", \"1-15.\", \"1-16.\", \"1-17.\", \"1-18.\", \"1-19.\", \"10-4.\", \"10-7.\", \"11-1.\", \"11-14.\", \"11-17.\", \"11-20.\", \"11-7.\", \"13-20.\", \"13-8.\", \"14-10.\", \"14-11.\", \"14-14.\", \"14-7.\", \"15-1.\", \"15-20.\", \"16-1.\", \"16-16.\", \"17-10.\", \"17-11.\", \"17-2.\", \"19-1.\", \"19-16.\", \"19-19.\", \"19-20.\", \"19-3.\", \"2-10.\", \"2-11.\", \"2-17.\", \"2-18.\", \"2-20.\", \"2-3.\", \"2-4.\", \"2-5.\", \"2-6.\", \"2-7.\", \"2-8.\", \"3-13.\", \"3-18.\", \"3-3.\", \"4-1.\", \"4-10.\", \"4-11.\", \"4-19.\", \"5-5.\", \"6-15.\", \"7-10.\", \"7-14.\", \"8-18.\", \"8-20.\", \"8-3.\", \"8-8.\"], \"domains\": [1, 2, 3, 4, 5], \"num_examples_per_domain_per_label\": -1, \"pickle_path\": \"/root/csc500-main/datasets/cores.stratified_ds.2022A.pkl\", \"source_or_target_dataset\": \"target\", \"x_transforms\": [], \"episode_transforms\": [], \"domain_prefix\": \"CORES_\"}, {\"labels\": [\"1-10\", \"1-12\", \"1-14\", \"1-16\", \"1-18\", \"1-19\", \"1-8\", \"10-11\", \"10-17\", \"10-4\", \"10-7\", \"11-1\", \"11-10\", \"11-19\", \"11-20\", \"11-4\", \"11-7\", \"12-19\", \"12-20\", \"12-7\", \"13-14\", \"13-18\", \"13-19\", \"13-20\", \"13-3\", \"13-7\", \"14-10\", \"14-11\", \"14-12\", \"14-13\", \"14-14\", \"14-19\", \"14-20\", \"14-7\", \"14-8\", \"14-9\", \"15-1\", \"15-19\", \"15-6\", \"16-1\", \"16-16\", \"16-19\", \"16-20\", \"17-10\", \"17-11\", \"18-1\", \"18-10\", \"18-11\", \"18-12\", \"18-13\", \"18-14\", \"18-15\", \"18-16\", \"18-17\", \"18-19\", \"18-2\", \"18-20\", \"18-4\", \"18-5\", \"18-7\", \"18-8\", \"18-9\", \"19-1\", \"19-10\", \"19-11\", \"19-12\", \"19-13\", \"19-14\", \"19-15\", \"19-19\", \"19-2\", \"19-20\", \"19-3\", \"19-4\", \"19-6\", \"19-7\", \"19-8\", \"19-9\", \"2-1\", \"2-13\", \"2-15\", \"2-3\", \"2-4\", \"2-5\", \"2-6\", \"2-7\", \"2-8\", \"20-1\", \"20-12\", \"20-14\", \"20-15\", \"20-16\", \"20-18\", \"20-19\", \"20-20\", \"20-3\", \"20-4\", \"20-5\", \"20-7\", \"20-8\", \"3-1\", \"3-13\", \"3-18\", \"3-2\", \"3-8\", \"4-1\", \"4-10\", \"4-11\", \"5-1\", \"5-5\", \"6-1\", \"6-15\", \"6-6\", \"7-10\", \"7-11\", \"7-12\", \"7-13\", \"7-14\", \"7-7\", \"7-8\", \"7-9\", \"8-1\", \"8-13\", \"8-14\", \"8-18\", \"8-20\", \"8-3\", \"8-8\", \"9-1\", \"9-7\"], \"domains\": [1, 2, 3, 4], \"num_examples_per_domain_per_label\": -1, \"pickle_path\": \"/root/csc500-main/datasets/wisig.node3-19.stratified_ds.2022A.pkl\", \"source_or_target_dataset\": \"source\", \"x_transforms\": [], \"episode_transforms\": [], \"domain_prefix\": \"Wisig_\"}], \"dataset_seed\": 1337, \"seed\": 1337, \"x_shape\": [2, 256], \"domains_source\": [\"Wisig_1\", \"Wisig_2\", \"Wisig_3\", \"Wisig_4\"], \"domains_target\": [\"CORES_1\", \"CORES_2\", \"CORES_3\", \"CORES_4\", \"CORES_5\"]}, \"results\": {\"source_test_label_accuracy\": 0.9629183569979716, \"source_test_label_loss\": 0.20600371062755585, \"target_test_label_accuracy\": 0.981551724137931, \"target_test_label_loss\": 0.16205863654613495, \"source_val_label_accuracy\": 0.9611395474137931, \"source_val_label_loss\": 0.2241467982530594, \"target_val_label_accuracy\": 0.9809626436781609, \"target_val_label_loss\": 0.14950759708881378, \"total_epochs_trained\": 3, \"total_experiment_time_secs\": 244.96772527694702, \"confusion\": {\"Wisig_3\": {\"36\": {\"36\": 32, \"27\": 4}, \"123\": {\"123\": 15, \"121\": 1}, \"53\": {\"53\": 20}, \"24\": {\"24\": 39, \"27\": 4, \"88\": 1}, \"8\": {\"8\": 38}, \"49\": {\"49\": 20, \"1\": 1, \"8\": 2, \"36\": 1}, \"74\": {\"74\": 16}, \"93\": {\"93\": 32}, \"104\": {\"104\": 16}, \"122\": {\"122\": 44, \"30\": 1, \"41\": 1}, \"78\": {\"78\": 13, \"39\": 1, \"21\": 2}, \"21\": {\"94\": 1, \"21\": 34, \"17\": 1, \"126\": 1, \"78\": 1, \"122\": 1, \"25\": 1, \"54\": 1, \"24\": 1}, \"22\": {\"22\": 16}, \"27\": {\"36\": 7, \"27\": 28, \"39\": 1, \"24\": 2}, \"124\": {\"124\": 40}, \"35\": {\"35\": 10, \"21\": 1, \"126\": 1}, \"37\": {\"37\": 16}, \"45\": {\"45\": 15, \"105\": 1}, \"55\": {\"55\": 16}, \"110\": {\"110\": 41, \"21\": 1, \"30\": 1, \"70\": 1}, \"2\": {\"2\": 28}, \"23\": {\"23\": 31, \"8\": 1}, \"29\": {\"29\": 31, \"51\": 1}, \"90\": {\"90\": 44}, \"127\": {\"127\": 38, \"24\": 1, \"110\": 1}, \"13\": {\"13\": 13, \"21\": 1, \"17\": 1, \"80\": 1}, \"48\": {\"48\": 16}, \"105\": {\"105\": 46}, \"50\": {\"50\": 16}, \"52\": {\"52\": 16}, \"9\": {\"9\": 32}, \"94\": {\"94\": 46}, \"14\": {\"14\": 38}, \"98\": {\"98\": 47, \"23\": 1}, \"64\": {\"64\": 20}, \"97\": {\"97\": 19, \"17\": 1}, \"117\": {\"117\": 40}, \"85\": {\"85\": 30}, \"44\": {\"44\": 34}, \"80\": {\"80\": 16}, \"16\": {\"16\": 38}, \"103\": {\"103\": 15, \"51\": 1}, \"40\": {\"40\": 35, \"105\": 1}, \"30\": {\"78\": 1, \"30\": 39}, \"6\": {\"6\": 32}, \"108\": {\"108\": 35, \"70\": 1}, \"33\": {\"33\": 40}, \"96\": {\"96\": 20}, \"79\": {\"79\": 12}, \"109\": {\"109\": 38, \"36\": 1, \"30\": 1}, \"81\": {\"81\": 32}, \"88\": {\"88\": 40}, \"41\": {\"41\": 16}, \"70\": {\"70\": 35, \"10\": 1, \"122\": 1, \"88\": 1}, \"76\": {\"76\": 16}, \"5\": {\"5\": 47, \"43\": 1}, \"0\": {\"0\": 44}, \"4\": {\"4\": 36}, \"86\": {\"86\": 26, \"38\": 1, \"24\": 1}, \"69\": {\"69\": 38}, \"26\": {\"26\": 46}, \"120\": {\"120\": 20}, \"84\": {\"84\": 42}, \"12\": {\"12\": 36}, \"32\": {\"32\": 32}, \"89\": {\"89\": 28}, \"129\": {\"129\": 32}, \"125\": {\"125\": 40}, \"116\": {\"116\": 28}, \"19\": {\"19\": 32}, \"71\": {\"71\": 43, \"88\": 2, \"39\": 1}, \"72\": {\"72\": 28}, \"100\": {\"100\": 14, \"28\": 2}, \"20\": {\"20\": 14, \"21\": 1, \"16\": 1}, \"65\": {\"65\": 12}, \"121\": {\"121\": 25, \"21\": 2, \"17\": 1, \"81\": 1, \"43\": 1}, \"34\": {\"34\": 32}, \"119\": {\"119\": 16}, \"75\": {\"75\": 16}, \"1\": {\"1\": 38}, \"113\": {\"113\": 34}, \"39\": {\"39\": 45, \"24\": 1}, \"82\": {\"82\": 26, \"109\": 1, \"118\": 1}, \"67\": {\"67\": 16}, \"63\": {\"63\": 16}, \"31\": {\"31\": 20}, \"38\": {\"38\": 15, \"112\": 1}, \"17\": {\"39\": 1, \"55\": 2, \"69\": 1, \"17\": 6, \"102\": 3, \"21\": 2, \"41\": 1}, \"106\": {\"106\": 35, \"17\": 1}, \"91\": {\"91\": 23, \"51\": 1}, \"56\": {\"56\": 12}, \"46\": {\"46\": 16}, \"128\": {\"67\": 1, \"128\": 26, \"36\": 1}, \"66\": {\"66\": 16}, \"10\": {\"10\": 40}, \"62\": {\"62\": 29, \"21\": 1}, \"112\": {\"112\": 15, \"78\": 1}, \"47\": {\"47\": 12}, \"107\": {\"107\": 41, \"25\": 1}, \"28\": {\"28\": 16}, \"95\": {\"95\": 32}, \"18\": {\"18\": 34}, \"114\": {\"114\": 37, \"51\": 1}, \"102\": {\"102\": 36}, \"68\": {\"68\": 15, \"17\": 1}, \"126\": {\"126\": 36, \"105\": 1, \"39\": 2, \"21\": 2, \"84\": 1}, \"111\": {\"111\": 44}, \"3\": {\"3\": 34}, \"73\": {\"73\": 30, \"19\": 1, \"42\": 1, \"112\": 1, \"36\": 1}, \"60\": {\"60\": 28}, \"101\": {\"101\": 31, \"24\": 1, \"84\": 1, \"78\": 1}, \"7\": {\"81\": 1, \"7\": 24, \"2\": 1}, \"83\": {\"83\": 24}, \"42\": {\"42\": 28}, \"15\": {\"15\": 38}, \"11\": {\"11\": 35, \"110\": 1}, \"58\": {\"58\": 16}, \"57\": {\"57\": 20}, \"118\": {\"118\": 35, \"21\": 1}, \"99\": {\"99\": 34}, \"25\": {\"25\": 16}, \"61\": {\"61\": 16}, \"87\": {\"87\": 37, \"17\": 1}, \"115\": {\"115\": 16}, \"92\": {\"92\": 31, \"24\": 1}, \"51\": {\"51\": 16}, \"59\": {\"59\": 12}, \"77\": {\"77\": 16}, \"54\": {\"54\": 16}, \"43\": {\"43\": 35, \"113\": 2, \"24\": 1}}, \"Wisig_2\": {\"37\": {\"37\": 16}, \"101\": {\"101\": 42}, \"83\": {\"83\": 36}, \"95\": {\"95\": 35, \"21\": 1}, \"122\": {\"21\": 2, \"122\": 34}, \"18\": {\"18\": 47, \"70\": 1}, \"9\": {\"9\": 31, \"70\": 1}, \"57\": {\"57\": 20}, \"93\": {\"93\": 44, \"16\": 1, \"27\": 1}, \"64\": {\"64\": 15, \"40\": 1}, \"70\": {\"70\": 33, \"21\": 1, \"78\": 3, \"109\": 1, \"110\": 1, \"88\": 1}, \"36\": {\"36\": 37, \"21\": 1, \"40\": 1, \"24\": 1}, \"109\": {\"109\": 36, \"24\": 1, \"121\": 1, \"39\": 3, \"21\": 2, \"110\": 1}, \"92\": {\"92\": 26, \"57\": 1, \"109\": 1}, \"28\": {\"28\": 20}, \"39\": {\"39\": 35, \"24\": 1, \"109\": 2, \"110\": 1, \"60\": 1}, \"47\": {\"47\": 8, \"61\": 1, \"74\": 1, \"96\": 1, \"66\": 1}, \"127\": {\"127\": 47, \"57\": 1}, \"6\": {\"6\": 32}, \"13\": {\"13\": 12, \"21\": 2, \"24\": 1, \"34\": 1}, \"14\": {\"14\": 37, \"21\": 2, \"110\": 1}, \"110\": {\"21\": 1, \"110\": 31, \"23\": 1, \"81\": 1}, \"62\": {\"62\": 45, \"8\": 1}, \"59\": {\"59\": 16}, \"10\": {\"10\": 31, \"110\": 1, \"94\": 2}, \"41\": {\"41\": 20}, \"25\": {\"25\": 15, \"13\": 1}, \"45\": {\"45\": 16}, \"1\": {\"1\": 40, \"21\": 1, \"24\": 1}, \"61\": {\"61\": 20}, \"3\": {\"3\": 42}, \"35\": {\"35\": 12}, \"126\": {\"126\": 41, \"51\": 1}, \"90\": {\"90\": 40}, \"58\": {\"58\": 17, \"87\": 1, \"51\": 1, \"77\": 1}, \"74\": {\"74\": 15, \"104\": 1}, \"27\": {\"27\": 39, \"17\": 1, \"21\": 1, \"0\": 1, \"36\": 3, \"15\": 1}, \"60\": {\"60\": 26, \"16\": 2}, \"123\": {\"123\": 16}, \"50\": {\"50\": 15, \"71\": 1}, \"84\": {\"84\": 41, \"110\": 1}, \"128\": {\"128\": 24}, \"72\": {\"72\": 27, \"110\": 1}, \"96\": {\"96\": 20}, \"119\": {\"119\": 19, \"12\": 1}, \"56\": {\"56\": 12}, \"98\": {\"98\": 45, \"91\": 1}, \"87\": {\"87\": 35, \"70\": 2, \"58\": 1, \"21\": 1, \"60\": 1, \"122\": 1, \"43\": 1}, \"40\": {\"40\": 46}, \"114\": {\"114\": 40}, \"55\": {\"55\": 16}, \"8\": {\"8\": 60}, \"79\": {\"79\": 15, \"0\": 1}, \"112\": {\"112\": 15, \"100\": 1}, \"21\": {\"21\": 35, \"109\": 2, \"78\": 2, \"16\": 1, \"14\": 2, \"39\": 1, \"70\": 1, \"24\": 1, \"87\": 1}, \"42\": {\"42\": 27, \"87\": 1}, \"5\": {\"5\": 38, \"24\": 1, \"94\": 1}, \"22\": {\"22\": 20}, \"73\": {\"73\": 28}, \"69\": {\"69\": 25, \"0\": 1, \"14\": 1, \"70\": 1, \"24\": 1, \"26\": 1}, \"108\": {\"108\": 32}, \"118\": {\"118\": 41, \"14\": 1}, \"4\": {\"4\": 36, \"24\": 1, \"21\": 1}, \"49\": {\"49\": 21, \"13\": 1, \"110\": 1, \"23\": 1}, \"99\": {\"99\": 32}, \"66\": {\"66\": 18, \"110\": 1, \"94\": 1}, \"116\": {\"116\": 28}, \"67\": {\"109\": 1, \"67\": 13, \"75\": 1, \"70\": 1}, \"15\": {\"15\": 33, \"14\": 1}, \"63\": {\"63\": 17, \"13\": 1, \"49\": 1, \"18\": 1}, \"26\": {\"26\": 37, \"118\": 1}, \"24\": {\"24\": 36, \"21\": 1, \"110\": 1, \"16\": 1, \"70\": 1}, \"103\": {\"103\": 15, \"70\": 1}, \"38\": {\"38\": 16}, \"71\": {\"71\": 43, \"21\": 1, \"110\": 1, \"24\": 1}, \"75\": {\"75\": 16}, \"44\": {\"44\": 37, \"18\": 1}, \"104\": {\"104\": 18, \"110\": 1, \"13\": 1}, \"23\": {\"23\": 40, \"122\": 1, \"34\": 1}, \"105\": {\"105\": 28}, \"30\": {\"30\": 40, \"21\": 1, \"109\": 1}, \"120\": {\"120\": 20}, \"113\": {\"113\": 38, \"21\": 1, \"110\": 1}, \"53\": {\"53\": 16}, \"91\": {\"91\": 26, \"24\": 2}, \"89\": {\"89\": 34, \"24\": 1, \"21\": 1}, \"117\": {\"117\": 41, \"109\": 1}, \"82\": {\"82\": 36}, \"20\": {\"20\": 15, \"27\": 1}, \"34\": {\"34\": 31, \"121\": 1}, \"7\": {\"7\": 35, \"21\": 1}, \"80\": {\"80\": 16}, \"125\": {\"125\": 46}, \"16\": {\"16\": 40}, \"88\": {\"88\": 40, \"70\": 1, \"14\": 1}, \"85\": {\"85\": 31, \"107\": 1}, \"17\": {\"17\": 13, \"16\": 1, \"24\": 1, \"70\": 1}, \"107\": {\"107\": 43, \"24\": 1, \"118\": 1, \"10\": 1, \"21\": 1, \"87\": 1}, \"11\": {\"11\": 43, \"21\": 1}, \"100\": {\"100\": 16}, \"78\": {\"78\": 43, \"21\": 2, \"10\": 1, \"94\": 1, \"70\": 1}, \"115\": {\"115\": 11, \"27\": 1}, \"121\": {\"121\": 31, \"110\": 1}, \"0\": {\"0\": 40}, \"124\": {\"124\": 46}, \"81\": {\"81\": 22, \"110\": 2}, \"68\": {\"68\": 12, \"11\": 1, \"88\": 1, \"70\": 1, \"110\": 1}, \"86\": {\"86\": 32}, \"12\": {\"8\": 1, \"12\": 45, \"14\": 1, \"70\": 1, \"40\": 1, \"24\": 1}, \"31\": {\"8\": 1, \"31\": 19}, \"129\": {\"129\": 30, \"57\": 1, \"66\": 1}, \"111\": {\"111\": 42}, \"106\": {\"106\": 40}, \"32\": {\"32\": 33, \"47\": 1}, \"94\": {\"94\": 41, \"21\": 3, \"51\": 1, \"110\": 1}, \"2\": {\"2\": 32}, \"48\": {\"48\": 20}, \"33\": {\"33\": 40}, \"76\": {\"76\": 16}, \"102\": {\"102\": 34}, \"54\": {\"54\": 20}, \"52\": {\"52\": 19, \"110\": 1}, \"29\": {\"29\": 32}, \"46\": {\"46\": 16}, \"43\": {\"43\": 33, \"110\": 2, \"21\": 1}, \"77\": {\"77\": 15, \"58\": 1}, \"51\": {\"51\": 18, \"110\": 1, \"58\": 1}, \"19\": {\"19\": 27, \"77\": 1}, \"97\": {\"97\": 19, \"101\": 1}, \"65\": {\"65\": 17, \"81\": 1, \"121\": 1, \"21\": 1}}, \"Wisig_1\": {\"110\": {\"110\": 39, \"84\": 1}, \"27\": {\"27\": 34}, \"106\": {\"106\": 38}, \"13\": {\"13\": 16}, \"120\": {\"120\": 20}, \"25\": {\"25\": 16}, \"47\": {\"47\": 12}, \"8\": {\"8\": 46}, \"124\": {\"124\": 38}, \"55\": {\"55\": 12}, \"63\": {\"63\": 16}, \"58\": {\"58\": 11, \"53\": 1}, \"105\": {\"105\": 36}, \"59\": {\"59\": 11, \"13\": 1}, \"12\": {\"12\": 36}, \"98\": {\"98\": 44}, \"96\": {\"96\": 13, \"126\": 2, \"61\": 1, \"70\": 2, \"123\": 1, \"86\": 1}, \"30\": {\"30\": 42}, \"53\": {\"53\": 19, \"86\": 1}, \"82\": {\"82\": 36}, \"33\": {\"33\": 30}, \"0\": {\"0\": 36}, \"122\": {\"122\": 32, \"84\": 1, \"24\": 1}, \"28\": {\"28\": 18, \"1\": 1, \"72\": 1}, \"17\": {\"65\": 1, \"17\": 13, \"27\": 1, \"46\": 1}, \"121\": {\"121\": 32}, \"104\": {\"104\": 15, \"88\": 1}, \"71\": {\"71\": 36}, \"20\": {\"20\": 16}, \"41\": {\"41\": 16}, \"7\": {\"7\": 34}, \"83\": {\"83\": 26, \"34\": 1, \"21\": 1}, \"9\": {\"9\": 32}, \"118\": {\"118\": 42, \"42\": 2}, \"111\": {\"111\": 29, \"21\": 1}, \"23\": {\"23\": 19, \"78\": 1}, \"65\": {\"65\": 12}, \"95\": {\"95\": 28}, \"38\": {\"38\": 16}, \"50\": {\"50\": 15, \"39\": 1}, \"3\": {\"3\": 27, \"94\": 1, \"71\": 1, \"105\": 1}, \"31\": {\"31\": 15, \"49\": 1}, \"48\": {\"48\": 12}, \"81\": {\"81\": 28}, \"99\": {\"99\": 23, \"84\": 1}, \"85\": {\"85\": 32}, \"11\": {\"11\": 29, \"109\": 1}, \"126\": {\"126\": 47, \"109\": 1}, \"80\": {\"80\": 15, \"95\": 1}, \"46\": {\"46\": 12}, \"45\": {\"45\": 9, \"109\": 1, \"84\": 1, \"122\": 1}, \"18\": {\"18\": 44}, \"84\": {\"84\": 34}, \"24\": {\"24\": 41, \"23\": 2, \"88\": 1}, \"21\": {\"21\": 17, \"70\": 2, \"39\": 1, \"30\": 2}, \"117\": {\"117\": 44}, \"6\": {\"6\": 30}, \"97\": {\"97\": 18, \"126\": 1, \"24\": 1}, \"86\": {\"24\": 1, \"86\": 30, \"51\": 1, \"72\": 1, \"40\": 1, \"23\": 1, \"2\": 1}, \"56\": {\"56\": 12}, \"92\": {\"92\": 28}, \"40\": {\"40\": 32}, \"108\": {\"108\": 42}, \"73\": {\"73\": 20}, \"1\": {\"1\": 44}, \"129\": {\"129\": 28}, \"127\": {\"127\": 37, \"27\": 1}, \"14\": {\"14\": 38}, \"42\": {\"42\": 27, \"21\": 1}, \"67\": {\"67\": 16}, \"74\": {\"74\": 16}, \"61\": {\"61\": 12}, \"36\": {\"36\": 36}, \"32\": {\"32\": 32}, \"77\": {\"109\": 1, \"77\": 15}, \"107\": {\"107\": 37, \"65\": 1}, \"44\": {\"44\": 36}, \"51\": {\"51\": 15, \"93\": 1}, \"2\": {\"2\": 32}, \"52\": {\"52\": 20}, \"125\": {\"125\": 46}, \"37\": {\"37\": 16}, \"35\": {\"35\": 11, \"30\": 1}, \"116\": {\"116\": 32}, \"15\": {\"15\": 32, \"94\": 1, \"27\": 1}, \"70\": {\"70\": 42, \"109\": 2}, \"109\": {\"109\": 38}, \"76\": {\"76\": 16}, \"66\": {\"66\": 16}, \"57\": {\"57\": 11, \"128\": 1}, \"119\": {\"119\": 16}, \"34\": {\"34\": 23, \"83\": 1}, \"68\": {\"68\": 15, \"77\": 1}, \"90\": {\"90\": 26}, \"62\": {\"62\": 35, \"23\": 1}, \"93\": {\"93\": 39, \"70\": 1}, \"54\": {\"54\": 16}, \"29\": {\"29\": 28}, \"89\": {\"89\": 36}, \"79\": {\"79\": 12}, \"16\": {\"16\": 36, \"43\": 1, \"122\": 1}, \"26\": {\"26\": 34, \"16\": 1, \"45\": 1}, \"64\": {\"64\": 16}, \"123\": {\"123\": 16}, \"75\": {\"75\": 16}, \"88\": {\"88\": 34, \"24\": 2}, \"10\": {\"10\": 39, \"21\": 1}, \"91\": {\"91\": 28}, \"4\": {\"4\": 32}, \"100\": {\"100\": 16}, \"39\": {\"39\": 37, \"78\": 1}, \"78\": {\"23\": 1, \"78\": 13, \"21\": 1, \"69\": 1}, \"101\": {\"101\": 35, \"39\": 1}, \"112\": {\"112\": 16}, \"103\": {\"103\": 16}, \"19\": {\"19\": 23, \"29\": 1}, \"60\": {\"60\": 16}, \"72\": {\"72\": 32}, \"43\": {\"43\": 33, \"87\": 1}, \"22\": {\"22\": 15, \"88\": 1}, \"87\": {\"87\": 32, \"21\": 2}, \"128\": {\"128\": 24}, \"5\": {\"5\": 37, \"21\": 1}, \"102\": {\"102\": 30}, \"94\": {\"94\": 27, \"78\": 1}, \"114\": {\"114\": 33, \"78\": 1}, \"69\": {\"69\": 26}, \"113\": {\"113\": 28}, \"49\": {\"49\": 20}, \"115\": {\"115\": 12}}, \"Wisig_4\": {\"109\": {\"109\": 34}, \"45\": {\"45\": 16}, \"11\": {\"11\": 38}, \"23\": {\"23\": 8, \"60\": 1, \"59\": 1, \"12\": 1, \"78\": 1, \"51\": 1, \"88\": 2, \"113\": 1}, \"2\": {\"2\": 28}, \"25\": {\"25\": 16}, \"7\": {\"7\": 45, \"97\": 1}, \"55\": {\"55\": 16}, \"124\": {\"124\": 36}, \"101\": {\"101\": 38}, \"115\": {\"115\": 16}, \"121\": {\"121\": 32}, \"46\": {\"46\": 20}, \"72\": {\"72\": 31, \"80\": 1}, \"83\": {\"83\": 25, \"21\": 1, \"23\": 1, \"72\": 1}, \"12\": {\"12\": 49, \"78\": 1}, \"79\": {\"79\": 16}, \"20\": {\"20\": 15, \"103\": 1}, \"43\": {\"43\": 40, \"33\": 1, \"122\": 1, \"87\": 2}, \"35\": {\"35\": 12}, \"86\": {\"86\": 28}, \"3\": {\"3\": 37, \"71\": 3}, \"116\": {\"116\": 28}, \"53\": {\"53\": 16}, \"111\": {\"111\": 47, \"23\": 1}, \"40\": {\"40\": 32}, \"19\": {\"19\": 27, \"103\": 1}, \"71\": {\"71\": 52}, \"21\": {\"21\": 28, \"10\": 1, \"78\": 2, \"87\": 1}, \"82\": {\"72\": 1, \"82\": 28, \"21\": 1, \"125\": 1, \"39\": 1}, \"65\": {\"65\": 12}, \"110\": {\"51\": 2, \"110\": 44}, \"119\": {\"119\": 15, \"35\": 1}, \"64\": {\"64\": 15, \"108\": 1}, \"126\": {\"126\": 40, \"78\": 2}, \"129\": {\"129\": 27, \"23\": 1}, \"103\": {\"103\": 15, \"70\": 1}, \"34\": {\"34\": 31, \"70\": 1}, \"42\": {\"42\": 28}, \"114\": {\"114\": 43, \"71\": 1}, \"38\": {\"38\": 16}, \"99\": {\"99\": 38}, \"47\": {\"47\": 11, \"25\": 1}, \"61\": {\"61\": 15, \"103\": 1}, \"9\": {\"9\": 26, \"81\": 1, \"23\": 1}, \"73\": {\"73\": 20, \"78\": 1, \"105\": 1, \"51\": 1, \"83\": 1}, \"48\": {\"48\": 13, \"51\": 2, \"1\": 1}, \"18\": {\"18\": 43, \"87\": 1}, \"16\": {\"16\": 40}, \"87\": {\"23\": 1, \"87\": 42, \"43\": 2, \"122\": 1}, \"60\": {\"60\": 32}, \"51\": {\"21\": 1, \"51\": 10, \"78\": 2, \"47\": 1, \"0\": 1, \"88\": 1}, \"4\": {\"4\": 42}, \"85\": {\"85\": 27, \"88\": 1}, \"28\": {\"28\": 20}, \"27\": {\"27\": 38}, \"97\": {\"97\": 16, \"10\": 1, \"36\": 1, \"21\": 1, \"30\": 1}, \"6\": {\"6\": 24}, \"76\": {\"76\": 16}, \"105\": {\"105\": 35, \"39\": 1}, \"37\": {\"37\": 16}, \"98\": {\"98\": 38, \"2\": 1, \"121\": 1}, \"96\": {\"96\": 20}, \"32\": {\"32\": 28}, \"15\": {\"15\": 32}, \"56\": {\"56\": 12}, \"90\": {\"90\": 32}, \"91\": {\"91\": 23, \"1\": 1}, \"52\": {\"52\": 20}, \"78\": {\"78\": 31, \"88\": 1, \"21\": 2}, \"84\": {\"84\": 35, \"69\": 1, \"1\": 1, \"88\": 1}, \"1\": {\"1\": 37, \"24\": 1, \"114\": 1, \"21\": 1, \"88\": 1, \"34\": 1}, \"122\": {\"122\": 38, \"43\": 1, \"81\": 1, \"21\": 1, \"69\": 1, \"1\": 1, \"84\": 1}, \"66\": {\"66\": 16}, \"127\": {\"127\": 37, \"59\": 1}, \"80\": {\"80\": 16}, \"113\": {\"113\": 37, \"21\": 1}, \"31\": {\"31\": 16}, \"88\": {\"88\": 27, \"70\": 5}, \"62\": {\"62\": 42, \"21\": 1, \"126\": 1}, \"22\": {\"22\": 14, \"129\": 1, \"81\": 1}, \"49\": {\"49\": 32}, \"54\": {\"54\": 16}, \"63\": {\"63\": 15, \"61\": 1}, \"39\": {\"39\": 36, \"113\": 1, \"78\": 3, \"21\": 1, \"43\": 1}, \"95\": {\"95\": 31, \"127\": 1}, \"13\": {\"13\": 16}, \"107\": {\"107\": 37, \"95\": 1}, \"106\": {\"106\": 38, \"39\": 1, \"78\": 2, \"21\": 1}, \"26\": {\"26\": 31, \"21\": 1}, \"112\": {\"112\": 16}, \"36\": {\"36\": 41, \"21\": 1}, \"30\": {\"30\": 39, \"21\": 1, \"1\": 1, \"94\": 1}, \"58\": {\"58\": 15, \"39\": 1}, \"14\": {\"14\": 38}, \"68\": {\"68\": 15, \"111\": 1}, \"118\": {\"118\": 39, \"1\": 1}, \"44\": {\"44\": 31, \"14\": 1, \"19\": 1, \"81\": 1}, \"93\": {\"93\": 33, \"110\": 1}, \"70\": {\"70\": 38, \"88\": 2}, \"10\": {\"10\": 34, \"24\": 1, \"70\": 2, \"21\": 1}, \"94\": {\"94\": 38, \"21\": 1, \"36\": 1}, \"41\": {\"41\": 16}, \"75\": {\"75\": 16}, \"29\": {\"29\": 31, \"23\": 1}, \"50\": {\"50\": 16}, \"0\": {\"0\": 43, \"97\": 1, \"78\": 1, \"21\": 1, \"12\": 1, \"39\": 1}, \"108\": {\"108\": 31, \"70\": 1, \"126\": 1, \"36\": 1, \"1\": 1, \"92\": 1, \"43\": 1, \"78\": 1}, \"100\": {\"100\": 20}, \"102\": {\"102\": 36}, \"5\": {\"5\": 38}, \"77\": {\"77\": 12}, \"89\": {\"89\": 26, \"24\": 1, \"40\": 1}, \"57\": {\"57\": 16}, \"33\": {\"33\": 48}, \"17\": {\"17\": 18, \"56\": 1, \"23\": 1}, \"128\": {\"128\": 20, \"77\": 1, \"28\": 1, \"46\": 1, \"81\": 1}, \"92\": {\"92\": 28}, \"67\": {\"67\": 14, \"17\": 1, \"70\": 1}, \"120\": {\"120\": 19, \"14\": 1}, \"123\": {\"123\": 16}, \"8\": {\"8\": 39, \"88\": 1}, \"59\": {\"59\": 9, \"125\": 2, \"100\": 1}, \"24\": {\"24\": 28, \"97\": 2, \"78\": 3, \"27\": 1}, \"117\": {\"117\": 34}, \"69\": {\"69\": 31, \"16\": 2, \"1\": 1}, \"81\": {\"81\": 32}, \"74\": {\"39\": 1, \"74\": 15}, \"125\": {\"125\": 26, \"21\": 1, \"81\": 1}, \"104\": {\"104\": 16}}, \"CORES_3\": {\"1\": {\"1\": 16}, \"28\": {\"28\": 16}, \"21\": {\"21\": 16}, \"27\": {\"27\": 16}, \"20\": {\"20\": 16}, \"16\": {\"16\": 16}, \"48\": {\"48\": 16}, \"42\": {\"42\": 15, \"55\": 1}, \"45\": {\"45\": 15, \"6\": 1}, \"41\": {\"41\": 16}, \"13\": {\"13\": 16}, \"50\": {\"50\": 16}, \"32\": {\"32\": 16}, \"51\": {\"51\": 16}, \"30\": {\"30\": 16}, \"38\": {\"38\": 16}, \"7\": {\"7\": 16}, \"22\": {\"22\": 16}, \"37\": {\"37\": 16}, \"33\": {\"33\": 16}, \"6\": {\"6\": 15, \"45\": 1}, \"14\": {\"55\": 4, \"14\": 8, \"13\": 1, \"19\": 1, \"0\": 2}, \"40\": {\"40\": 16}, \"55\": {\"55\": 16}, \"2\": {\"2\": 16}, \"39\": {\"39\": 16}, \"56\": {\"56\": 16}, \"17\": {\"17\": 16}, \"10\": {\"10\": 16}, \"9\": {\"9\": 16}, \"31\": {\"31\": 16}, \"12\": {\"12\": 16}, \"25\": {\"25\": 16}, \"0\": {\"0\": 16}, \"47\": {\"47\": 16}, \"44\": {\"44\": 16}, \"23\": {\"23\": 16}, \"15\": {\"15\": 14, \"11\": 2}, \"8\": {\"8\": 16}, \"54\": {\"54\": 16}, \"52\": {\"52\": 16}, \"29\": {\"29\": 15, \"57\": 1}, \"5\": {\"5\": 16}, \"34\": {\"34\": 16}, \"35\": {\"35\": 16}, \"26\": {\"26\": 16}, \"57\": {\"57\": 16}, \"53\": {\"53\": 16}, \"36\": {\"36\": 16}, \"18\": {\"18\": 16}, \"49\": {\"49\": 16}, \"3\": {\"3\": 16}, \"4\": {\"4\": 16}, \"24\": {\"24\": 16}, \"11\": {\"11\": 16}, \"19\": {\"19\": 16}, \"43\": {\"43\": 16}, \"46\": {\"46\": 16}}, \"CORES_4\": {\"9\": {\"9\": 16}, \"4\": {\"4\": 16}, \"20\": {\"20\": 16}, \"26\": {\"26\": 16}, \"19\": {\"19\": 16}, \"35\": {\"35\": 16}, \"14\": {\"19\": 2, \"14\": 9, \"40\": 1, \"1\": 3, \"37\": 1}, \"10\": {\"10\": 16}, \"1\": {\"1\": 16}, \"3\": {\"3\": 16}, \"29\": {\"29\": 16}, \"47\": {\"47\": 16}, \"50\": {\"3\": 2, \"50\": 14}, \"51\": {\"51\": 16}, \"55\": {\"55\": 16}, \"27\": {\"27\": 16}, \"31\": {\"31\": 16}, \"30\": {\"30\": 15, \"45\": 1}, \"37\": {\"37\": 15, \"14\": 1}, \"36\": {\"36\": 16}, \"48\": {\"48\": 16}, \"46\": {\"46\": 15, \"0\": 1}, \"25\": {\"25\": 16}, \"53\": {\"53\": 16}, \"0\": {\"0\": 16}, \"8\": {\"8\": 16}, \"15\": {\"15\": 15, \"16\": 1}, \"22\": {\"22\": 16}, \"45\": {\"45\": 16}, \"43\": {\"43\": 16}, \"12\": {\"12\": 16}, \"24\": {\"24\": 16}, \"11\": {\"11\": 15, \"15\": 1}, \"44\": {\"44\": 16}, \"5\": {\"5\": 16}, \"6\": {\"6\": 16}, \"49\": {\"49\": 16}, \"2\": {\"2\": 15, \"56\": 1}, \"18\": {\"18\": 16}, \"54\": {\"54\": 16}, \"41\": {\"41\": 16}, \"38\": {\"38\": 14, \"49\": 2}, \"34\": {\"34\": 16}, \"21\": {\"21\": 16}, \"57\": {\"57\": 16}, \"33\": {\"33\": 16}, \"17\": {\"17\": 16}, \"40\": {\"40\": 16}, \"28\": {\"28\": 15, \"34\": 1}, \"16\": {\"16\": 16}, \"56\": {\"56\": 16}, \"39\": {\"39\": 16}, \"13\": {\"13\": 16}, \"23\": {\"23\": 16}, \"7\": {\"7\": 14, \"24\": 1, \"2\": 1}, \"52\": {\"52\": 16}, \"42\": {\"42\": 16}, \"32\": {\"32\": 16}}, \"CORES_5\": {\"13\": {\"13\": 20}, \"35\": {\"35\": 20}, \"12\": {\"12\": 20}, \"55\": {\"55\": 20}, \"43\": {\"43\": 20}, \"3\": {\"3\": 20}, \"20\": {\"20\": 20}, \"9\": {\"9\": 20}, \"41\": {\"41\": 20}, \"45\": {\"45\": 17, \"6\": 1, \"50\": 2}, \"11\": {\"11\": 20}, \"7\": {\"7\": 20}, \"27\": {\"27\": 20}, \"56\": {\"56\": 20}, \"4\": {\"4\": 20}, \"5\": {\"5\": 20}, \"49\": {\"49\": 20}, \"24\": {\"24\": 20}, \"0\": {\"0\": 20}, \"40\": {\"40\": 20}, \"15\": {\"15\": 19, \"11\": 1}, \"42\": {\"42\": 20}, \"44\": {\"44\": 20}, \"46\": {\"46\": 19, \"21\": 1}, \"30\": {\"30\": 20}, \"1\": {\"1\": 20}, \"34\": {\"31\": 1, \"34\": 19}, \"51\": {\"51\": 20}, \"6\": {\"45\": 1, \"6\": 19}, \"50\": {\"50\": 19, \"45\": 1}, \"26\": {\"26\": 20}, \"52\": {\"52\": 20}, \"57\": {\"57\": 20}, \"36\": {\"36\": 20}, \"33\": {\"33\": 20}, \"19\": {\"19\": 20}, \"53\": {\"53\": 20}, \"28\": {\"28\": 20}, \"10\": {\"10\": 20}, \"32\": {\"32\": 20}, \"8\": {\"8\": 20}, \"48\": {\"48\": 20}, \"16\": {\"16\": 20}, \"17\": {\"17\": 20}, \"23\": {\"23\": 20}, \"29\": {\"29\": 20}, \"2\": {\"2\": 20}, \"21\": {\"21\": 20}, \"38\": {\"38\": 20}, \"14\": {\"14\": 6, \"37\": 5, \"49\": 8, \"47\": 1}, \"39\": {\"39\": 20}, \"54\": {\"54\": 20}, \"18\": {\"18\": 20}, \"22\": {\"22\": 20}, \"37\": {\"37\": 20}, \"47\": {\"47\": 20}, \"25\": {\"25\": 20}, \"31\": {\"31\": 20}}, \"CORES_1\": {\"47\": {\"47\": 24}, \"9\": {\"9\": 24}, \"35\": {\"35\": 24}, \"10\": {\"10\": 24}, \"21\": {\"21\": 24}, \"19\": {\"19\": 24}, \"14\": {\"14\": 13, \"30\": 7, \"2\": 3, \"8\": 1}, \"36\": {\"36\": 24}, \"46\": {\"46\": 24}, \"49\": {\"49\": 24}, \"5\": {\"5\": 24}, \"54\": {\"54\": 24}, \"56\": {\"56\": 22, \"45\": 2}, \"48\": {\"48\": 24}, \"15\": {\"15\": 24}, \"23\": {\"23\": 24}, \"55\": {\"55\": 24}, \"1\": {\"1\": 24}, \"22\": {\"22\": 24}, \"44\": {\"44\": 24}, \"37\": {\"37\": 24}, \"28\": {\"28\": 24}, \"11\": {\"11\": 24}, \"2\": {\"2\": 24}, \"29\": {\"29\": 24}, \"4\": {\"4\": 24}, \"3\": {\"3\": 24}, \"43\": {\"43\": 24}, \"51\": {\"51\": 24}, \"0\": {\"0\": 24}, \"7\": {\"7\": 24}, \"6\": {\"6\": 24}, \"24\": {\"24\": 24}, \"50\": {\"50\": 24}, \"26\": {\"26\": 24}, \"34\": {\"34\": 22, \"26\": 1, \"33\": 1}, \"41\": {\"8\": 3, \"41\": 21}, \"25\": {\"25\": 24}, \"39\": {\"43\": 1, \"39\": 23}, \"53\": {\"53\": 24}, \"38\": {\"38\": 18, \"36\": 3, \"55\": 1, \"27\": 1, \"1\": 1}, \"8\": {\"8\": 24}, \"27\": {\"27\": 24}, \"40\": {\"40\": 24}, \"45\": {\"45\": 24}, \"33\": {\"33\": 24}, \"32\": {\"32\": 24}, \"17\": {\"17\": 24}, \"57\": {\"57\": 24}, \"42\": {\"42\": 23, \"19\": 1}, \"13\": {\"13\": 24}, \"16\": {\"16\": 24}, \"12\": {\"12\": 24}, \"52\": {\"52\": 24}, \"30\": {\"30\": 24}, \"20\": {\"20\": 24}, \"18\": {\"18\": 24}, \"31\": {\"31\": 24}}, \"CORES_2\": {\"25\": {\"25\": 20}, \"24\": {\"24\": 20}, \"39\": {\"39\": 20}, \"49\": {\"49\": 19, \"33\": 1}, \"44\": {\"44\": 20}, \"57\": {\"57\": 20}, \"2\": {\"2\": 20}, \"16\": {\"16\": 20}, \"41\": {\"41\": 19, \"0\": 1}, \"27\": {\"27\": 20}, \"5\": {\"5\": 20}, \"13\": {\"13\": 20}, \"45\": {\"45\": 20}, \"43\": {\"43\": 20}, \"22\": {\"22\": 20}, \"21\": {\"21\": 20}, \"38\": {\"38\": 20}, \"33\": {\"33\": 20}, \"28\": {\"28\": 20}, \"34\": {\"34\": 20}, \"19\": {\"19\": 20}, \"3\": {\"3\": 18, \"50\": 2}, \"20\": {\"20\": 20}, \"47\": {\"47\": 20}, \"30\": {\"30\": 20}, \"46\": {\"46\": 20}, \"9\": {\"9\": 20}, \"11\": {\"11\": 20}, \"15\": {\"11\": 5, \"15\": 15}, \"0\": {\"0\": 20}, \"37\": {\"37\": 20}, \"40\": {\"40\": 20}, \"18\": {\"18\": 20}, \"54\": {\"54\": 20}, \"51\": {\"51\": 20}, \"48\": {\"48\": 20}, \"55\": {\"55\": 19, \"42\": 1}, \"42\": {\"42\": 20}, \"17\": {\"17\": 20}, \"26\": {\"26\": 20}, \"36\": {\"36\": 20}, \"32\": {\"32\": 19, \"27\": 1}, \"23\": {\"23\": 20}, \"7\": {\"7\": 20}, \"1\": {\"1\": 20}, \"35\": {\"35\": 20}, \"56\": {\"56\": 19, \"22\": 1}, \"8\": {\"8\": 20}, \"6\": {\"6\": 20}, \"29\": {\"29\": 19, \"57\": 1}, \"4\": {\"4\": 20}, \"50\": {\"3\": 2, \"50\": 18}, \"52\": {\"52\": 20}, \"12\": {\"12\": 20}, \"10\": {\"10\": 20}, \"31\": {\"31\": 20}, \"14\": {\"14\": 11, \"38\": 5, \"37\": 4}, \"53\": {\"53\": 20}}}, \"per_domain_accuracy\": {\"Wisig_3\": {\"accuracy\": 0.9674030172413793, \"source?\": true}, \"Wisig_2\": {\"accuracy\": 0.9508113590263692, \"source?\": true}, \"Wisig_1\": {\"accuracy\": 0.9747126436781609, \"source?\": true}, \"Wisig_4\": {\"accuracy\": 0.953125, \"source?\": true}, \"CORES_3\": {\"accuracy\": 0.9849137931034483, \"source?\": false}, \"CORES_4\": {\"accuracy\": 0.978448275862069, \"source?\": false}, \"CORES_5\": {\"accuracy\": 0.9810344827586207, \"source?\": false}, \"CORES_1\": {\"accuracy\": 0.9813218390804598, \"source?\": false}, \"CORES_2\": {\"accuracy\": 0.9793103448275862, \"source?\": false}}}, \"history\": {\"epoch_indices\": [1, 2, 3], \"train_label_loss\": [0.5487456635463962, 0.2652626375604576, 0.21842594099064322], \"source_val_label_loss\": [0.34301894903182983, 0.24648112058639526, 0.2241467982530594], \"target_val_label_loss\": [0.2610306739807129, 0.17329531908035278, 0.14950759708881378], \"source_val_acc_label\": [0.9390490301724138, 0.9559536637931034, 0.9611395474137931], \"target_val_acc_label\": [0.9683908045977011, 0.9779094827586207, 0.9809626436781609]}, \"dataset_metrics\": {\"source\": {\"train\": {\"n_unique_x\": 139632, \"n_unique_y\": 130, \"n_batch/episode\": 904}, \"val\": {\"n_unique_x\": 26052, \"n_unique_y\": 130, \"n_batch/episode\": 128}, \"test\": {\"n_unique_x\": 27285, \"n_unique_y\": 130, \"n_batch/episode\": 136}}, \"target\": {\"train\": {\"n_unique_x\": 75852, \"n_unique_y\": 58, \"n_batch/episode\": 351}, \"val\": {\"n_unique_x\": 11850, \"n_unique_y\": 58, \"n_batch/episode\": 48}, \"test\": {\"n_unique_x\": 12315, \"n_unique_y\": 58, \"n_batch/episode\": 50}}}}'"
      ]
     },
     "execution_count": 29,
     "metadata": {},
     "output_type": "execute_result"
    }
   ],
   "source": [
    "json.dumps(experiment)"
   ]
  }
 ],
 "metadata": {
  "celltoolbar": "Tags",
  "kernelspec": {
   "display_name": "Python 3 (ipykernel)",
   "language": "python",
   "name": "python3"
  },
  "language_info": {
   "codemirror_mode": {
    "name": "ipython",
    "version": 3
   },
   "file_extension": ".py",
   "mimetype": "text/x-python",
   "name": "python",
   "nbconvert_exporter": "python",
   "pygments_lexer": "ipython3",
   "version": "3.8.12"
  },
  "papermill": {
   "default_parameters": {},
   "duration": 302.225766,
   "end_time": "2022-03-21T02:29:34.617252",
   "environment_variables": {},
   "exception": null,
   "input_path": "/root/csc500-main/csc500-notebooks/templates/tl_ptn_template.ipynb",
   "output_path": "trial.ipynb",
   "parameters": {
    "parameters": {
     "BEST_MODEL_PATH": "./best_model.pth",
     "NUM_LOGS_PER_EPOCH": 10,
     "criteria_for_best": "target_accuracy",
     "dataset_seed": 1337,
     "datasets": [
      {
       "domain_prefix": "CORES_",
       "domains": [
        1,
        2,
        3,
        4,
        5
       ],
       "episode_transforms": [],
       "labels": [
        "1-10.",
        "1-11.",
        "1-15.",
        "1-16.",
        "1-17.",
        "1-18.",
        "1-19.",
        "10-4.",
        "10-7.",
        "11-1.",
        "11-14.",
        "11-17.",
        "11-20.",
        "11-7.",
        "13-20.",
        "13-8.",
        "14-10.",
        "14-11.",
        "14-14.",
        "14-7.",
        "15-1.",
        "15-20.",
        "16-1.",
        "16-16.",
        "17-10.",
        "17-11.",
        "17-2.",
        "19-1.",
        "19-16.",
        "19-19.",
        "19-20.",
        "19-3.",
        "2-10.",
        "2-11.",
        "2-17.",
        "2-18.",
        "2-20.",
        "2-3.",
        "2-4.",
        "2-5.",
        "2-6.",
        "2-7.",
        "2-8.",
        "3-13.",
        "3-18.",
        "3-3.",
        "4-1.",
        "4-10.",
        "4-11.",
        "4-19.",
        "5-5.",
        "6-15.",
        "7-10.",
        "7-14.",
        "8-18.",
        "8-20.",
        "8-3.",
        "8-8."
       ],
       "num_examples_per_domain_per_label": -1,
       "pickle_path": "/root/csc500-main/datasets/cores.stratified_ds.2022A.pkl",
       "source_or_target_dataset": "target",
       "x_transforms": []
      },
      {
       "domain_prefix": "Wisig_",
       "domains": [
        1,
        2,
        3,
        4
       ],
       "episode_transforms": [],
       "labels": [
        "1-10",
        "1-12",
        "1-14",
        "1-16",
        "1-18",
        "1-19",
        "1-8",
        "10-11",
        "10-17",
        "10-4",
        "10-7",
        "11-1",
        "11-10",
        "11-19",
        "11-20",
        "11-4",
        "11-7",
        "12-19",
        "12-20",
        "12-7",
        "13-14",
        "13-18",
        "13-19",
        "13-20",
        "13-3",
        "13-7",
        "14-10",
        "14-11",
        "14-12",
        "14-13",
        "14-14",
        "14-19",
        "14-20",
        "14-7",
        "14-8",
        "14-9",
        "15-1",
        "15-19",
        "15-6",
        "16-1",
        "16-16",
        "16-19",
        "16-20",
        "17-10",
        "17-11",
        "18-1",
        "18-10",
        "18-11",
        "18-12",
        "18-13",
        "18-14",
        "18-15",
        "18-16",
        "18-17",
        "18-19",
        "18-2",
        "18-20",
        "18-4",
        "18-5",
        "18-7",
        "18-8",
        "18-9",
        "19-1",
        "19-10",
        "19-11",
        "19-12",
        "19-13",
        "19-14",
        "19-15",
        "19-19",
        "19-2",
        "19-20",
        "19-3",
        "19-4",
        "19-6",
        "19-7",
        "19-8",
        "19-9",
        "2-1",
        "2-13",
        "2-15",
        "2-3",
        "2-4",
        "2-5",
        "2-6",
        "2-7",
        "2-8",
        "20-1",
        "20-12",
        "20-14",
        "20-15",
        "20-16",
        "20-18",
        "20-19",
        "20-20",
        "20-3",
        "20-4",
        "20-5",
        "20-7",
        "20-8",
        "3-1",
        "3-13",
        "3-18",
        "3-2",
        "3-8",
        "4-1",
        "4-10",
        "4-11",
        "5-1",
        "5-5",
        "6-1",
        "6-15",
        "6-6",
        "7-10",
        "7-11",
        "7-12",
        "7-13",
        "7-14",
        "7-7",
        "7-8",
        "7-9",
        "8-1",
        "8-13",
        "8-14",
        "8-18",
        "8-20",
        "8-3",
        "8-8",
        "9-1",
        "9-7"
       ],
       "num_examples_per_domain_per_label": -1,
       "pickle_path": "/root/csc500-main/datasets/wisig.node3-19.stratified_ds.2022A.pkl",
       "source_or_target_dataset": "source",
       "x_transforms": []
      }
     ],
     "device": "cuda",
     "experiment_name": "tl_1v2:cores-wisig",
     "lr": 0.0001,
     "n_epoch": 3,
     "n_query": 2,
     "n_shot": 3,
     "n_way": 58,
     "patience": 3,
     "seed": 1337,
     "test_k_factor": 2,
     "torch_default_dtype": "torch.float32",
     "train_k_factor": 3,
     "val_k_factor": 2,
     "x_net": [
      {
       "class": "nnReshape",
       "kargs": {
        "shape": [
         -1,
         1,
         2,
         256
        ]
       }
      },
      {
       "class": "Conv2d",
       "kargs": {
        "bias": false,
        "in_channels": 1,
        "kernel_size": [
         1,
         7
        ],
        "out_channels": 256,
        "padding": [
         0,
         3
        ]
       }
      },
      {
       "class": "ReLU",
       "kargs": {
        "inplace": true
       }
      },
      {
       "class": "BatchNorm2d",
       "kargs": {
        "num_features": 256
       }
      },
      {
       "class": "Conv2d",
       "kargs": {
        "bias": true,
        "in_channels": 256,
        "kernel_size": [
         2,
         7
        ],
        "out_channels": 80,
        "padding": [
         0,
         3
        ]
       }
      },
      {
       "class": "ReLU",
       "kargs": {
        "inplace": true
       }
      },
      {
       "class": "BatchNorm2d",
       "kargs": {
        "num_features": 80
       }
      },
      {
       "class": "Flatten",
       "kargs": {}
      },
      {
       "class": "Linear",
       "kargs": {
        "in_features": 20480,
        "out_features": 256
       }
      },
      {
       "class": "ReLU",
       "kargs": {
        "inplace": true
       }
      },
      {
       "class": "BatchNorm1d",
       "kargs": {
        "num_features": 256
       }
      },
      {
       "class": "Linear",
       "kargs": {
        "in_features": 256,
        "out_features": 256
       }
      }
     ]
    }
   },
   "start_time": "2022-03-21T02:24:32.391486",
   "version": "2.3.4"
  }
 },
 "nbformat": 4,
 "nbformat_minor": 5
}