{
 "cells": [
  {
   "cell_type": "markdown",
   "id": "9fea5f46",
   "metadata": {
    "papermill": {
     "duration": 0.02579,
     "end_time": "2022-03-21T03:40:41.335957",
     "exception": false,
     "start_time": "2022-03-21T03:40:41.310167",
     "status": "completed"
    },
    "tags": []
   },
   "source": [
    "# Transfer Learning Template"
   ]
  },
  {
   "cell_type": "code",
   "execution_count": 1,
   "id": "0902182a",
   "metadata": {
    "execution": {
     "iopub.execute_input": "2022-03-21T03:40:41.395711Z",
     "iopub.status.busy": "2022-03-21T03:40:41.378071Z",
     "iopub.status.idle": "2022-03-21T03:40:43.227160Z",
     "shell.execute_reply": "2022-03-21T03:40:43.226324Z"
    },
    "papermill": {
     "duration": 1.871332,
     "end_time": "2022-03-21T03:40:43.227364",
     "exception": false,
     "start_time": "2022-03-21T03:40:41.356032",
     "status": "completed"
    },
    "tags": []
   },
   "outputs": [],
   "source": [
    "%load_ext autoreload\n",
    "%autoreload 2\n",
    "%matplotlib inline\n",
    "\n",
    "    \n",
    "import os, json, sys, time, random\n",
    "import numpy as np\n",
    "import torch\n",
    "from torch.optim import Adam\n",
    "from  easydict import EasyDict\n",
    "import matplotlib.pyplot as plt\n",
    "\n",
    "from steves_models.steves_ptn import Steves_Prototypical_Network\n",
    "\n",
    "from steves_utils.lazy_iterable_wrapper import Lazy_Iterable_Wrapper\n",
    "from steves_utils.iterable_aggregator import Iterable_Aggregator\n",
    "from steves_utils.ptn_train_eval_test_jig import  PTN_Train_Eval_Test_Jig\n",
    "from steves_utils.torch_sequential_builder import build_sequential\n",
    "from steves_utils.torch_utils import get_dataset_metrics, ptn_confusion_by_domain_over_dataloader\n",
    "from steves_utils.utils_v2 import (per_domain_accuracy_from_confusion, get_datasets_base_path)\n",
    "from steves_utils.PTN.utils import independent_accuracy_assesment\n",
    "\n",
    "from torch.utils.data import DataLoader\n",
    "\n",
    "from steves_utils.stratified_dataset.episodic_accessor import Episodic_Accessor_Factory\n",
    "\n",
    "from steves_utils.ptn_do_report import (\n",
    "    get_loss_curve,\n",
    "    get_results_table,\n",
    "    get_parameters_table,\n",
    "    get_domain_accuracies,\n",
    ")\n",
    "\n",
    "from steves_utils.transforms import get_chained_transform"
   ]
  },
  {
   "cell_type": "markdown",
   "id": "41c840b4",
   "metadata": {
    "papermill": {
     "duration": 0.019479,
     "end_time": "2022-03-21T03:40:43.271829",
     "exception": false,
     "start_time": "2022-03-21T03:40:43.252350",
     "status": "completed"
    },
    "tags": []
   },
   "source": [
    "# Allowed Parameters\n",
    "These are allowed parameters, not defaults\n",
    "Each of these values need to be present in the injected parameters (the notebook will raise an exception if they are not present)\n",
    "\n",
    "Papermill uses the cell tag \"parameters\" to inject the real parameters below this cell.\n",
    "Enable tags to see what I mean"
   ]
  },
  {
   "cell_type": "code",
   "execution_count": 2,
   "id": "fd44eb83",
   "metadata": {
    "execution": {
     "iopub.execute_input": "2022-03-21T03:40:43.316246Z",
     "iopub.status.busy": "2022-03-21T03:40:43.315740Z",
     "iopub.status.idle": "2022-03-21T03:40:43.336139Z",
     "shell.execute_reply": "2022-03-21T03:40:43.336769Z"
    },
    "papermill": {
     "duration": 0.045629,
     "end_time": "2022-03-21T03:40:43.336947",
     "exception": false,
     "start_time": "2022-03-21T03:40:43.291318",
     "status": "completed"
    },
    "tags": []
   },
   "outputs": [],
   "source": [
    "required_parameters = {\n",
    "    \"experiment_name\",\n",
    "    \"lr\",\n",
    "    \"device\",\n",
    "    \"seed\",\n",
    "    \"dataset_seed\",\n",
    "    \"n_shot\",\n",
    "    \"n_query\",\n",
    "    \"n_way\",\n",
    "    \"train_k_factor\",\n",
    "    \"val_k_factor\",\n",
    "    \"test_k_factor\",\n",
    "    \"n_epoch\",\n",
    "    \"patience\",\n",
    "    \"criteria_for_best\",\n",
    "    \"x_net\",\n",
    "    \"datasets\",\n",
    "    \"torch_default_dtype\",\n",
    "    \"NUM_LOGS_PER_EPOCH\",\n",
    "    \"BEST_MODEL_PATH\",\n",
    "    \"x_shape\",\n",
    "}"
   ]
  },
  {
   "cell_type": "code",
   "execution_count": 3,
   "id": "fa3f0049",
   "metadata": {
    "execution": {
     "iopub.execute_input": "2022-03-21T03:40:43.393544Z",
     "iopub.status.busy": "2022-03-21T03:40:43.388107Z",
     "iopub.status.idle": "2022-03-21T03:40:43.414058Z",
     "shell.execute_reply": "2022-03-21T03:40:43.413349Z"
    },
    "papermill": {
     "duration": 0.053587,
     "end_time": "2022-03-21T03:40:43.414213",
     "exception": false,
     "start_time": "2022-03-21T03:40:43.360626",
     "status": "completed"
    },
    "tags": [
     "parameters"
    ]
   },
   "outputs": [],
   "source": [
    "from steves_utils.CORES.utils import (\n",
    "    ALL_NODES,\n",
    "    ALL_NODES_MINIMUM_1000_EXAMPLES,\n",
    "    ALL_DAYS\n",
    ")\n",
    "\n",
    "from steves_utils.ORACLE.utils_v2 import (\n",
    "    ALL_DISTANCES_FEET_NARROWED,\n",
    "    ALL_RUNS,\n",
    "    ALL_SERIAL_NUMBERS,\n",
    ")\n",
    "\n",
    "standalone_parameters = {}\n",
    "standalone_parameters[\"experiment_name\"] = \"STANDALONE PTN\"\n",
    "standalone_parameters[\"lr\"] = 0.001\n",
    "standalone_parameters[\"device\"] = \"cuda\"\n",
    "\n",
    "standalone_parameters[\"seed\"] = 1337\n",
    "standalone_parameters[\"dataset_seed\"] = 1337\n",
    "\n",
    "standalone_parameters[\"n_way\"] = 8\n",
    "standalone_parameters[\"n_shot\"] = 3\n",
    "standalone_parameters[\"n_query\"]  = 2\n",
    "standalone_parameters[\"train_k_factor\"] = 1\n",
    "standalone_parameters[\"val_k_factor\"] = 2\n",
    "standalone_parameters[\"test_k_factor\"] = 2\n",
    "\n",
    "\n",
    "standalone_parameters[\"n_epoch\"] = 50\n",
    "\n",
    "standalone_parameters[\"patience\"] = 10\n",
    "standalone_parameters[\"criteria_for_best\"] = \"source_loss\"\n",
    "\n",
    "standalone_parameters[\"datasets\"] = [\n",
    "    {\n",
    "        \"labels\": ALL_SERIAL_NUMBERS,\n",
    "        \"domains\": ALL_DISTANCES_FEET_NARROWED,\n",
    "        \"num_examples_per_domain_per_label\": 100,\n",
    "        \"pickle_path\": os.path.join(get_datasets_base_path(), \"oracle.Run1_framed_2000Examples_stratified_ds.2022A.pkl\"),\n",
    "        \"source_or_target_dataset\": \"source\",\n",
    "        \"x_transforms\": [\"unit_mag\", \"minus_two\"],\n",
    "        \"episode_transforms\": [],\n",
    "        \"domain_prefix\": \"ORACLE_\"\n",
    "    },\n",
    "    {\n",
    "        \"labels\": ALL_NODES,\n",
    "        \"domains\": ALL_DAYS,\n",
    "        \"num_examples_per_domain_per_label\": 100,\n",
    "        \"pickle_path\": os.path.join(get_datasets_base_path(), \"cores.stratified_ds.2022A.pkl\"),\n",
    "        \"source_or_target_dataset\": \"target\",\n",
    "        \"x_transforms\": [\"unit_power\", \"times_zero\"],\n",
    "        \"episode_transforms\": [],\n",
    "        \"domain_prefix\": \"CORES_\"\n",
    "    }   \n",
    "]\n",
    "\n",
    "standalone_parameters[\"torch_default_dtype\"] = \"torch.float32\" \n",
    "\n",
    "\n",
    "\n",
    "standalone_parameters[\"x_net\"] =     [\n",
    "    {\"class\": \"nnReshape\", \"kargs\": {\"shape\":[-1, 1, 2, 256]}},\n",
    "    {\"class\": \"Conv2d\", \"kargs\": { \"in_channels\":1, \"out_channels\":256, \"kernel_size\":(1,7), \"bias\":False, \"padding\":(0,3), },},\n",
    "    {\"class\": \"ReLU\", \"kargs\": {\"inplace\": True}},\n",
    "    {\"class\": \"BatchNorm2d\", \"kargs\": {\"num_features\":256}},\n",
    "\n",
    "    {\"class\": \"Conv2d\", \"kargs\": { \"in_channels\":256, \"out_channels\":80, \"kernel_size\":(2,7), \"bias\":True, \"padding\":(0,3), },},\n",
    "    {\"class\": \"ReLU\", \"kargs\": {\"inplace\": True}},\n",
    "    {\"class\": \"BatchNorm2d\", \"kargs\": {\"num_features\":80}},\n",
    "    {\"class\": \"Flatten\", \"kargs\": {}},\n",
    "\n",
    "    {\"class\": \"Linear\", \"kargs\": {\"in_features\": 80*256, \"out_features\": 256}}, # 80 units per IQ pair\n",
    "    {\"class\": \"ReLU\", \"kargs\": {\"inplace\": True}},\n",
    "    {\"class\": \"BatchNorm1d\", \"kargs\": {\"num_features\":256}},\n",
    "\n",
    "    {\"class\": \"Linear\", \"kargs\": {\"in_features\": 256, \"out_features\": 256}},\n",
    "]\n",
    "\n",
    "# Parameters relevant to results\n",
    "# These parameters will basically never need to change\n",
    "standalone_parameters[\"NUM_LOGS_PER_EPOCH\"] = 10\n",
    "standalone_parameters[\"BEST_MODEL_PATH\"] = \"./best_model.pth\"\n",
    "\n",
    "\n",
    "\n",
    "\n"
   ]
  },
  {
   "cell_type": "code",
   "execution_count": 4,
   "id": "a7fcdb53",
   "metadata": {
    "execution": {
     "iopub.execute_input": "2022-03-21T03:40:43.476282Z",
     "iopub.status.busy": "2022-03-21T03:40:43.475228Z",
     "iopub.status.idle": "2022-03-21T03:40:43.495737Z",
     "shell.execute_reply": "2022-03-21T03:40:43.494922Z"
    },
    "papermill": {
     "duration": 0.056798,
     "end_time": "2022-03-21T03:40:43.495890",
     "exception": false,
     "start_time": "2022-03-21T03:40:43.439092",
     "status": "completed"
    },
    "tags": [
     "injected-parameters"
    ]
   },
   "outputs": [],
   "source": [
    "# Parameters\n",
    "parameters = {\n",
    "    \"experiment_name\": \"tl_1v2:cores-wisig\",\n",
    "    \"device\": \"cuda\",\n",
    "    \"lr\": 0.0001,\n",
    "    \"n_shot\": 3,\n",
    "    \"n_query\": 2,\n",
    "    \"train_k_factor\": 3,\n",
    "    \"val_k_factor\": 2,\n",
    "    \"test_k_factor\": 2,\n",
    "    \"torch_default_dtype\": \"torch.float32\",\n",
    "    \"n_epoch\": 3,\n",
    "    \"patience\": 3,\n",
    "    \"criteria_for_best\": \"target_accuracy\",\n",
    "    \"x_net\": [\n",
    "        {\"class\": \"nnReshape\", \"kargs\": {\"shape\": [-1, 1, 2, 256]}},\n",
    "        {\n",
    "            \"class\": \"Conv2d\",\n",
    "            \"kargs\": {\n",
    "                \"in_channels\": 1,\n",
    "                \"out_channels\": 256,\n",
    "                \"kernel_size\": [1, 7],\n",
    "                \"bias\": False,\n",
    "                \"padding\": [0, 3],\n",
    "            },\n",
    "        },\n",
    "        {\"class\": \"ReLU\", \"kargs\": {\"inplace\": True}},\n",
    "        {\"class\": \"BatchNorm2d\", \"kargs\": {\"num_features\": 256}},\n",
    "        {\n",
    "            \"class\": \"Conv2d\",\n",
    "            \"kargs\": {\n",
    "                \"in_channels\": 256,\n",
    "                \"out_channels\": 80,\n",
    "                \"kernel_size\": [2, 7],\n",
    "                \"bias\": True,\n",
    "                \"padding\": [0, 3],\n",
    "            },\n",
    "        },\n",
    "        {\"class\": \"ReLU\", \"kargs\": {\"inplace\": True}},\n",
    "        {\"class\": \"BatchNorm2d\", \"kargs\": {\"num_features\": 80}},\n",
    "        {\"class\": \"Flatten\", \"kargs\": {}},\n",
    "        {\"class\": \"Linear\", \"kargs\": {\"in_features\": 20480, \"out_features\": 256}},\n",
    "        {\"class\": \"ReLU\", \"kargs\": {\"inplace\": True}},\n",
    "        {\"class\": \"BatchNorm1d\", \"kargs\": {\"num_features\": 256}},\n",
    "        {\"class\": \"Linear\", \"kargs\": {\"in_features\": 256, \"out_features\": 256}},\n",
    "    ],\n",
    "    \"NUM_LOGS_PER_EPOCH\": 10,\n",
    "    \"BEST_MODEL_PATH\": \"./best_model.pth\",\n",
    "    \"n_way\": 58,\n",
    "    \"datasets\": [\n",
    "        {\n",
    "            \"labels\": [\n",
    "                \"1-10.\",\n",
    "                \"1-11.\",\n",
    "                \"1-15.\",\n",
    "                \"1-16.\",\n",
    "                \"1-17.\",\n",
    "                \"1-18.\",\n",
    "                \"1-19.\",\n",
    "                \"10-4.\",\n",
    "                \"10-7.\",\n",
    "                \"11-1.\",\n",
    "                \"11-14.\",\n",
    "                \"11-17.\",\n",
    "                \"11-20.\",\n",
    "                \"11-7.\",\n",
    "                \"13-20.\",\n",
    "                \"13-8.\",\n",
    "                \"14-10.\",\n",
    "                \"14-11.\",\n",
    "                \"14-14.\",\n",
    "                \"14-7.\",\n",
    "                \"15-1.\",\n",
    "                \"15-20.\",\n",
    "                \"16-1.\",\n",
    "                \"16-16.\",\n",
    "                \"17-10.\",\n",
    "                \"17-11.\",\n",
    "                \"17-2.\",\n",
    "                \"19-1.\",\n",
    "                \"19-16.\",\n",
    "                \"19-19.\",\n",
    "                \"19-20.\",\n",
    "                \"19-3.\",\n",
    "                \"2-10.\",\n",
    "                \"2-11.\",\n",
    "                \"2-17.\",\n",
    "                \"2-18.\",\n",
    "                \"2-20.\",\n",
    "                \"2-3.\",\n",
    "                \"2-4.\",\n",
    "                \"2-5.\",\n",
    "                \"2-6.\",\n",
    "                \"2-7.\",\n",
    "                \"2-8.\",\n",
    "                \"3-13.\",\n",
    "                \"3-18.\",\n",
    "                \"3-3.\",\n",
    "                \"4-1.\",\n",
    "                \"4-10.\",\n",
    "                \"4-11.\",\n",
    "                \"4-19.\",\n",
    "                \"5-5.\",\n",
    "                \"6-15.\",\n",
    "                \"7-10.\",\n",
    "                \"7-14.\",\n",
    "                \"8-18.\",\n",
    "                \"8-20.\",\n",
    "                \"8-3.\",\n",
    "                \"8-8.\",\n",
    "            ],\n",
    "            \"domains\": [1, 2, 3, 4, 5],\n",
    "            \"num_examples_per_domain_per_label\": -1,\n",
    "            \"pickle_path\": \"/root/csc500-main/datasets/cores.stratified_ds.2022A.pkl\",\n",
    "            \"source_or_target_dataset\": \"target\",\n",
    "            \"x_transforms\": [\"unit_power\"],\n",
    "            \"episode_transforms\": [],\n",
    "            \"domain_prefix\": \"CORES_\",\n",
    "        },\n",
    "        {\n",
    "            \"labels\": [\n",
    "                \"1-10\",\n",
    "                \"1-12\",\n",
    "                \"1-14\",\n",
    "                \"1-16\",\n",
    "                \"1-18\",\n",
    "                \"1-19\",\n",
    "                \"1-8\",\n",
    "                \"10-11\",\n",
    "                \"10-17\",\n",
    "                \"10-4\",\n",
    "                \"10-7\",\n",
    "                \"11-1\",\n",
    "                \"11-10\",\n",
    "                \"11-19\",\n",
    "                \"11-20\",\n",
    "                \"11-4\",\n",
    "                \"11-7\",\n",
    "                \"12-19\",\n",
    "                \"12-20\",\n",
    "                \"12-7\",\n",
    "                \"13-14\",\n",
    "                \"13-18\",\n",
    "                \"13-19\",\n",
    "                \"13-20\",\n",
    "                \"13-3\",\n",
    "                \"13-7\",\n",
    "                \"14-10\",\n",
    "                \"14-11\",\n",
    "                \"14-12\",\n",
    "                \"14-13\",\n",
    "                \"14-14\",\n",
    "                \"14-19\",\n",
    "                \"14-20\",\n",
    "                \"14-7\",\n",
    "                \"14-8\",\n",
    "                \"14-9\",\n",
    "                \"15-1\",\n",
    "                \"15-19\",\n",
    "                \"15-6\",\n",
    "                \"16-1\",\n",
    "                \"16-16\",\n",
    "                \"16-19\",\n",
    "                \"16-20\",\n",
    "                \"17-10\",\n",
    "                \"17-11\",\n",
    "                \"18-1\",\n",
    "                \"18-10\",\n",
    "                \"18-11\",\n",
    "                \"18-12\",\n",
    "                \"18-13\",\n",
    "                \"18-14\",\n",
    "                \"18-15\",\n",
    "                \"18-16\",\n",
    "                \"18-17\",\n",
    "                \"18-19\",\n",
    "                \"18-2\",\n",
    "                \"18-20\",\n",
    "                \"18-4\",\n",
    "                \"18-5\",\n",
    "                \"18-7\",\n",
    "                \"18-8\",\n",
    "                \"18-9\",\n",
    "                \"19-1\",\n",
    "                \"19-10\",\n",
    "                \"19-11\",\n",
    "                \"19-12\",\n",
    "                \"19-13\",\n",
    "                \"19-14\",\n",
    "                \"19-15\",\n",
    "                \"19-19\",\n",
    "                \"19-2\",\n",
    "                \"19-20\",\n",
    "                \"19-3\",\n",
    "                \"19-4\",\n",
    "                \"19-6\",\n",
    "                \"19-7\",\n",
    "                \"19-8\",\n",
    "                \"19-9\",\n",
    "                \"2-1\",\n",
    "                \"2-13\",\n",
    "                \"2-15\",\n",
    "                \"2-3\",\n",
    "                \"2-4\",\n",
    "                \"2-5\",\n",
    "                \"2-6\",\n",
    "                \"2-7\",\n",
    "                \"2-8\",\n",
    "                \"20-1\",\n",
    "                \"20-12\",\n",
    "                \"20-14\",\n",
    "                \"20-15\",\n",
    "                \"20-16\",\n",
    "                \"20-18\",\n",
    "                \"20-19\",\n",
    "                \"20-20\",\n",
    "                \"20-3\",\n",
    "                \"20-4\",\n",
    "                \"20-5\",\n",
    "                \"20-7\",\n",
    "                \"20-8\",\n",
    "                \"3-1\",\n",
    "                \"3-13\",\n",
    "                \"3-18\",\n",
    "                \"3-2\",\n",
    "                \"3-8\",\n",
    "                \"4-1\",\n",
    "                \"4-10\",\n",
    "                \"4-11\",\n",
    "                \"5-1\",\n",
    "                \"5-5\",\n",
    "                \"6-1\",\n",
    "                \"6-15\",\n",
    "                \"6-6\",\n",
    "                \"7-10\",\n",
    "                \"7-11\",\n",
    "                \"7-12\",\n",
    "                \"7-13\",\n",
    "                \"7-14\",\n",
    "                \"7-7\",\n",
    "                \"7-8\",\n",
    "                \"7-9\",\n",
    "                \"8-1\",\n",
    "                \"8-13\",\n",
    "                \"8-14\",\n",
    "                \"8-18\",\n",
    "                \"8-20\",\n",
    "                \"8-3\",\n",
    "                \"8-8\",\n",
    "                \"9-1\",\n",
    "                \"9-7\",\n",
    "            ],\n",
    "            \"domains\": [1, 2, 3, 4],\n",
    "            \"num_examples_per_domain_per_label\": -1,\n",
    "            \"pickle_path\": \"/root/csc500-main/datasets/wisig.node3-19.stratified_ds.2022A.pkl\",\n",
    "            \"source_or_target_dataset\": \"source\",\n",
    "            \"x_transforms\": [\"unit_power\"],\n",
    "            \"episode_transforms\": [],\n",
    "            \"domain_prefix\": \"Wisig_\",\n",
    "        },\n",
    "    ],\n",
    "    \"dataset_seed\": 7,\n",
    "    \"seed\": 7,\n",
    "}\n"
   ]
  },
  {
   "cell_type": "code",
   "execution_count": 5,
   "id": "8fa1cc33",
   "metadata": {
    "execution": {
     "iopub.execute_input": "2022-03-21T03:40:43.548941Z",
     "iopub.status.busy": "2022-03-21T03:40:43.544530Z",
     "iopub.status.idle": "2022-03-21T03:40:43.564005Z",
     "shell.execute_reply": "2022-03-21T03:40:43.563311Z"
    },
    "papermill": {
     "duration": 0.044308,
     "end_time": "2022-03-21T03:40:43.564162",
     "exception": false,
     "start_time": "2022-03-21T03:40:43.519854",
     "status": "completed"
    },
    "tags": []
   },
   "outputs": [],
   "source": [
    "# Set this to True if you want to run this template directly\n",
    "STANDALONE = False\n",
    "if STANDALONE:\n",
    "    print(\"parameters not injected, running with standalone_parameters\")\n",
    "    parameters = standalone_parameters\n",
    "\n",
    "if not 'parameters' in locals() and not 'parameters' in globals():\n",
    "    raise Exception(\"Parameter injection failed\")\n",
    "\n",
    "#Use an easy dict for all the parameters\n",
    "p = EasyDict(parameters)\n",
    "\n",
    "if \"x_shape\" not in p:\n",
    "    p.x_shape = [2,256] # Default to this if we dont supply x_shape\n",
    "\n",
    "\n",
    "supplied_keys = set(p.keys())\n",
    "\n",
    "if  supplied_keys != required_parameters:\n",
    "    print(\"Parameters are incorrect\")\n",
    "    if len(supplied_keys - required_parameters)>0: print(\"Shouldn't have:\", str(supplied_keys - required_parameters))\n",
    "    if len(required_parameters - supplied_keys)>0: print(\"Need to have:\", str(required_parameters - supplied_keys))\n",
    "    raise RuntimeError(\"Parameters are incorrect\")"
   ]
  },
  {
   "cell_type": "code",
   "execution_count": 6,
   "id": "3a028d58",
   "metadata": {
    "execution": {
     "iopub.execute_input": "2022-03-21T03:40:43.613299Z",
     "iopub.status.busy": "2022-03-21T03:40:43.612671Z",
     "iopub.status.idle": "2022-03-21T03:40:43.634160Z",
     "shell.execute_reply": "2022-03-21T03:40:43.633282Z"
    },
    "papermill": {
     "duration": 0.045965,
     "end_time": "2022-03-21T03:40:43.634322",
     "exception": false,
     "start_time": "2022-03-21T03:40:43.588357",
     "status": "completed"
    },
    "tags": []
   },
   "outputs": [],
   "source": [
    "###################################\n",
    "# Set the RNGs and make it all deterministic\n",
    "###################################\n",
    "np.random.seed(p.seed)\n",
    "random.seed(p.seed)\n",
    "torch.manual_seed(p.seed)\n",
    "\n",
    "torch.use_deterministic_algorithms(True) "
   ]
  },
  {
   "cell_type": "code",
   "execution_count": 7,
   "id": "b691acf6",
   "metadata": {
    "execution": {
     "iopub.execute_input": "2022-03-21T03:40:43.683733Z",
     "iopub.status.busy": "2022-03-21T03:40:43.681895Z",
     "iopub.status.idle": "2022-03-21T03:40:43.705028Z",
     "shell.execute_reply": "2022-03-21T03:40:43.704233Z"
    },
    "papermill": {
     "duration": 0.045364,
     "end_time": "2022-03-21T03:40:43.705179",
     "exception": false,
     "start_time": "2022-03-21T03:40:43.659815",
     "status": "completed"
    },
    "tags": []
   },
   "outputs": [],
   "source": [
    "###########################################\n",
    "# The stratified datasets honor this\n",
    "###########################################\n",
    "torch.set_default_dtype(eval(p.torch_default_dtype))"
   ]
  },
  {
   "cell_type": "code",
   "execution_count": 8,
   "id": "b5fba671",
   "metadata": {
    "execution": {
     "iopub.execute_input": "2022-03-21T03:40:43.757688Z",
     "iopub.status.busy": "2022-03-21T03:40:43.757067Z",
     "iopub.status.idle": "2022-03-21T03:40:43.806711Z",
     "shell.execute_reply": "2022-03-21T03:40:43.806014Z"
    },
    "papermill": {
     "duration": 0.073212,
     "end_time": "2022-03-21T03:40:43.806862",
     "exception": false,
     "start_time": "2022-03-21T03:40:43.733650",
     "status": "completed"
    },
    "tags": []
   },
   "outputs": [],
   "source": [
    "###################################\n",
    "# Build the network(s)\n",
    "# Note: It's critical to do this AFTER setting the RNG\n",
    "###################################\n",
    "x_net = build_sequential(p.x_net)"
   ]
  },
  {
   "cell_type": "code",
   "execution_count": 9,
   "id": "5d7e61cc",
   "metadata": {
    "execution": {
     "iopub.execute_input": "2022-03-21T03:40:43.856202Z",
     "iopub.status.busy": "2022-03-21T03:40:43.855701Z",
     "iopub.status.idle": "2022-03-21T03:40:43.878653Z",
     "shell.execute_reply": "2022-03-21T03:40:43.877854Z"
    },
    "papermill": {
     "duration": 0.046513,
     "end_time": "2022-03-21T03:40:43.878809",
     "exception": false,
     "start_time": "2022-03-21T03:40:43.832296",
     "status": "completed"
    },
    "tags": []
   },
   "outputs": [],
   "source": [
    "start_time_secs = time.time()"
   ]
  },
  {
   "cell_type": "code",
   "execution_count": 10,
   "id": "c6b67dfd",
   "metadata": {
    "execution": {
     "iopub.execute_input": "2022-03-21T03:40:43.930577Z",
     "iopub.status.busy": "2022-03-21T03:40:43.929910Z",
     "iopub.status.idle": "2022-03-21T03:40:43.948798Z",
     "shell.execute_reply": "2022-03-21T03:40:43.949477Z"
    },
    "papermill": {
     "duration": 0.042985,
     "end_time": "2022-03-21T03:40:43.949655",
     "exception": false,
     "start_time": "2022-03-21T03:40:43.906670",
     "status": "completed"
    },
    "tags": []
   },
   "outputs": [],
   "source": [
    "p.domains_source = []\n",
    "p.domains_target = []\n",
    "\n",
    "\n",
    "train_original_source = []\n",
    "val_original_source   = []\n",
    "test_original_source  = []\n",
    "\n",
    "train_original_target = []\n",
    "val_original_target   = []\n",
    "test_original_target  = []"
   ]
  },
  {
   "cell_type": "code",
   "execution_count": 11,
   "id": "e3d9c3d3",
   "metadata": {
    "execution": {
     "iopub.execute_input": "2022-03-21T03:40:44.001811Z",
     "iopub.status.busy": "2022-03-21T03:40:44.001250Z",
     "iopub.status.idle": "2022-03-21T03:40:44.022783Z",
     "shell.execute_reply": "2022-03-21T03:40:44.021974Z"
    },
    "papermill": {
     "duration": 0.045583,
     "end_time": "2022-03-21T03:40:44.022938",
     "exception": false,
     "start_time": "2022-03-21T03:40:43.977355",
     "status": "completed"
    },
    "tags": []
   },
   "outputs": [],
   "source": [
    "# global_x_transform_func = lambda x: normalize(x.to(torch.get_default_dtype()), \"unit_power\") # unit_power, unit_mag\n",
    "# global_x_transform_func = lambda x: normalize(x, \"unit_power\") # unit_power, unit_mag"
   ]
  },
  {
   "cell_type": "code",
   "execution_count": 12,
   "id": "acb78fd2",
   "metadata": {
    "execution": {
     "iopub.execute_input": "2022-03-21T03:40:44.080637Z",
     "iopub.status.busy": "2022-03-21T03:40:44.080056Z",
     "iopub.status.idle": "2022-03-21T03:40:44.102334Z",
     "shell.execute_reply": "2022-03-21T03:40:44.101592Z"
    },
    "papermill": {
     "duration": 0.05379,
     "end_time": "2022-03-21T03:40:44.102488",
     "exception": false,
     "start_time": "2022-03-21T03:40:44.048698",
     "status": "completed"
    },
    "tags": []
   },
   "outputs": [],
   "source": [
    "def add_dataset(\n",
    "    labels,\n",
    "    domains,\n",
    "    pickle_path,\n",
    "    x_transforms,\n",
    "    episode_transforms,\n",
    "    domain_prefix,\n",
    "    num_examples_per_domain_per_label,\n",
    "    source_or_target_dataset:str,\n",
    "    iterator_seed=p.seed,\n",
    "    dataset_seed=p.dataset_seed,\n",
    "    n_shot=p.n_shot,\n",
    "    n_way=p.n_way,\n",
    "    n_query=p.n_query,\n",
    "    train_val_test_k_factors=(p.train_k_factor,p.val_k_factor,p.test_k_factor),\n",
    "):\n",
    "   \n",
    "    if x_transforms == []: x_transform = None\n",
    "    else: x_transform = get_chained_transform(x_transforms)\n",
    "    \n",
    "    if episode_transforms == []: episode_transform = None\n",
    "    else: raise Exception(\"episode_transforms not implemented\")\n",
    "    \n",
    "    episode_transform = lambda tup, _prefix=domain_prefix: (_prefix + str(tup[0]), tup[1])\n",
    "\n",
    "\n",
    "    eaf = Episodic_Accessor_Factory(\n",
    "        labels=labels,\n",
    "        domains=domains,\n",
    "        num_examples_per_domain_per_label=num_examples_per_domain_per_label,\n",
    "        iterator_seed=iterator_seed,\n",
    "        dataset_seed=dataset_seed,\n",
    "        n_shot=n_shot,\n",
    "        n_way=n_way,\n",
    "        n_query=n_query,\n",
    "        train_val_test_k_factors=train_val_test_k_factors,\n",
    "        pickle_path=pickle_path,\n",
    "        x_transform_func=x_transform,\n",
    "    )\n",
    "\n",
    "    train, val, test = eaf.get_train(), eaf.get_val(), eaf.get_test()\n",
    "    train = Lazy_Iterable_Wrapper(train, episode_transform)\n",
    "    val = Lazy_Iterable_Wrapper(val, episode_transform)\n",
    "    test = Lazy_Iterable_Wrapper(test, episode_transform)\n",
    "\n",
    "    if source_or_target_dataset==\"source\":\n",
    "        train_original_source.append(train)\n",
    "        val_original_source.append(val)\n",
    "        test_original_source.append(test)\n",
    "\n",
    "        p.domains_source.extend(\n",
    "            [domain_prefix + str(u) for u in domains]\n",
    "        )\n",
    "    elif source_or_target_dataset==\"target\":\n",
    "        train_original_target.append(train)\n",
    "        val_original_target.append(val)\n",
    "        test_original_target.append(test)\n",
    "        p.domains_target.extend(\n",
    "            [domain_prefix + str(u) for u in domains]\n",
    "        )\n",
    "    else:\n",
    "        raise Exception(f\"invalid source_or_target_dataset: {source_or_target_dataset}\")\n",
    "    "
   ]
  },
  {
   "cell_type": "code",
   "execution_count": 13,
   "id": "fe266617",
   "metadata": {
    "execution": {
     "iopub.execute_input": "2022-03-21T03:40:44.151608Z",
     "iopub.status.busy": "2022-03-21T03:40:44.151226Z",
     "iopub.status.idle": "2022-03-21T03:41:27.906162Z",
     "shell.execute_reply": "2022-03-21T03:41:27.905519Z"
    },
    "papermill": {
     "duration": 43.777693,
     "end_time": "2022-03-21T03:41:27.906312",
     "exception": false,
     "start_time": "2022-03-21T03:40:44.128619",
     "status": "completed"
    },
    "tags": []
   },
   "outputs": [],
   "source": [
    "for ds in p.datasets:\n",
    "    add_dataset(**ds)"
   ]
  },
  {
   "cell_type": "code",
   "execution_count": 14,
   "id": "b90d65ac",
   "metadata": {
    "execution": {
     "iopub.execute_input": "2022-03-21T03:41:27.955932Z",
     "iopub.status.busy": "2022-03-21T03:41:27.955339Z",
     "iopub.status.idle": "2022-03-21T03:41:27.982833Z",
     "shell.execute_reply": "2022-03-21T03:41:27.982499Z"
    },
    "papermill": {
     "duration": 0.051483,
     "end_time": "2022-03-21T03:41:27.982915",
     "exception": false,
     "start_time": "2022-03-21T03:41:27.931432",
     "status": "completed"
    },
    "tags": []
   },
   "outputs": [],
   "source": [
    "# from steves_utils.CORES.utils import (\n",
    "#     ALL_NODES,\n",
    "#     ALL_NODES_MINIMUM_1000_EXAMPLES,\n",
    "#     ALL_DAYS\n",
    "# )\n",
    "\n",
    "# add_dataset(\n",
    "#     labels=ALL_NODES,\n",
    "#     domains = ALL_DAYS,\n",
    "#     num_examples_per_domain_per_label=100,\n",
    "#     pickle_path=os.path.join(get_datasets_base_path(), \"cores.stratified_ds.2022A.pkl\"),\n",
    "#     source_or_target_dataset=\"target\",\n",
    "#     x_transform_func=global_x_transform_func,\n",
    "#     domain_modifier=lambda u: f\"cores_{u}\"\n",
    "# )"
   ]
  },
  {
   "cell_type": "code",
   "execution_count": 15,
   "id": "76db484d",
   "metadata": {
    "execution": {
     "iopub.execute_input": "2022-03-21T03:41:28.029362Z",
     "iopub.status.busy": "2022-03-21T03:41:28.027650Z",
     "iopub.status.idle": "2022-03-21T03:41:28.049562Z",
     "shell.execute_reply": "2022-03-21T03:41:28.049185Z"
    },
    "papermill": {
     "duration": 0.046134,
     "end_time": "2022-03-21T03:41:28.049644",
     "exception": false,
     "start_time": "2022-03-21T03:41:28.003510",
     "status": "completed"
    },
    "tags": []
   },
   "outputs": [],
   "source": [
    "# from steves_utils.ORACLE.utils_v2 import (\n",
    "#     ALL_DISTANCES_FEET,\n",
    "#     ALL_RUNS,\n",
    "#     ALL_SERIAL_NUMBERS,\n",
    "# )\n",
    "\n",
    "\n",
    "# add_dataset(\n",
    "#     labels=ALL_SERIAL_NUMBERS,\n",
    "#     domains = list(set(ALL_DISTANCES_FEET) - {2,62}),\n",
    "#     num_examples_per_domain_per_label=100,\n",
    "#     pickle_path=os.path.join(get_datasets_base_path(), \"oracle.Run2_framed_2000Examples_stratified_ds.2022A.pkl\"),\n",
    "#     source_or_target_dataset=\"source\",\n",
    "#     x_transform_func=global_x_transform_func,\n",
    "#     domain_modifier=lambda u: f\"oracle1_{u}\"\n",
    "# )\n"
   ]
  },
  {
   "cell_type": "code",
   "execution_count": 16,
   "id": "97dea9d2",
   "metadata": {
    "execution": {
     "iopub.execute_input": "2022-03-21T03:41:28.095349Z",
     "iopub.status.busy": "2022-03-21T03:41:28.094974Z",
     "iopub.status.idle": "2022-03-21T03:41:28.117937Z",
     "shell.execute_reply": "2022-03-21T03:41:28.117615Z"
    },
    "papermill": {
     "duration": 0.047181,
     "end_time": "2022-03-21T03:41:28.118012",
     "exception": false,
     "start_time": "2022-03-21T03:41:28.070831",
     "status": "completed"
    },
    "tags": []
   },
   "outputs": [],
   "source": [
    "# from steves_utils.ORACLE.utils_v2 import (\n",
    "#     ALL_DISTANCES_FEET,\n",
    "#     ALL_RUNS,\n",
    "#     ALL_SERIAL_NUMBERS,\n",
    "# )\n",
    "\n",
    "\n",
    "# add_dataset(\n",
    "#     labels=ALL_SERIAL_NUMBERS,\n",
    "#     domains = list(set(ALL_DISTANCES_FEET) - {2,62,56}),\n",
    "#     num_examples_per_domain_per_label=100,\n",
    "#     pickle_path=os.path.join(get_datasets_base_path(), \"oracle.Run2_framed_2000Examples_stratified_ds.2022A.pkl\"),\n",
    "#     source_or_target_dataset=\"source\",\n",
    "#     x_transform_func=global_x_transform_func,\n",
    "#     domain_modifier=lambda u: f\"oracle2_{u}\"\n",
    "# )"
   ]
  },
  {
   "cell_type": "code",
   "execution_count": 17,
   "id": "6f289866",
   "metadata": {
    "execution": {
     "iopub.execute_input": "2022-03-21T03:41:28.162965Z",
     "iopub.status.busy": "2022-03-21T03:41:28.162096Z",
     "iopub.status.idle": "2022-03-21T03:41:28.192066Z",
     "shell.execute_reply": "2022-03-21T03:41:28.191750Z"
    },
    "papermill": {
     "duration": 0.053492,
     "end_time": "2022-03-21T03:41:28.192140",
     "exception": false,
     "start_time": "2022-03-21T03:41:28.138648",
     "status": "completed"
    },
    "tags": []
   },
   "outputs": [],
   "source": [
    "# add_dataset(\n",
    "#     labels=list(range(19)),\n",
    "#     domains = [0,1,2],\n",
    "#     num_examples_per_domain_per_label=100,\n",
    "#     pickle_path=os.path.join(get_datasets_base_path(), \"metehan.stratified_ds.2022A.pkl\"),\n",
    "#     source_or_target_dataset=\"target\",\n",
    "#     x_transform_func=global_x_transform_func,\n",
    "#     domain_modifier=lambda u: f\"met_{u}\"\n",
    "# )"
   ]
  },
  {
   "cell_type": "code",
   "execution_count": 18,
   "id": "86a863c3",
   "metadata": {
    "execution": {
     "iopub.execute_input": "2022-03-21T03:41:28.237975Z",
     "iopub.status.busy": "2022-03-21T03:41:28.237606Z",
     "iopub.status.idle": "2022-03-21T03:41:28.267395Z",
     "shell.execute_reply": "2022-03-21T03:41:28.267033Z"
    },
    "papermill": {
     "duration": 0.054344,
     "end_time": "2022-03-21T03:41:28.267464",
     "exception": false,
     "start_time": "2022-03-21T03:41:28.213120",
     "status": "completed"
    },
    "tags": []
   },
   "outputs": [],
   "source": [
    "# # from steves_utils.wisig.utils import (\n",
    "# #     ALL_NODES_MINIMUM_100_EXAMPLES,\n",
    "# #     ALL_NODES_MINIMUM_500_EXAMPLES,\n",
    "# #     ALL_NODES_MINIMUM_1000_EXAMPLES,\n",
    "# #     ALL_DAYS\n",
    "# # )\n",
    "\n",
    "# import steves_utils.wisig.utils as wisig\n",
    "\n",
    "\n",
    "# add_dataset(\n",
    "#     labels=wisig.ALL_NODES_MINIMUM_100_EXAMPLES,\n",
    "#     domains = wisig.ALL_DAYS,\n",
    "#     num_examples_per_domain_per_label=100,\n",
    "#     pickle_path=os.path.join(get_datasets_base_path(), \"wisig.node3-19.stratified_ds.2022A.pkl\"),\n",
    "#     source_or_target_dataset=\"target\",\n",
    "#     x_transform_func=global_x_transform_func,\n",
    "#     domain_modifier=lambda u: f\"wisig_{u}\"\n",
    "# )"
   ]
  },
  {
   "cell_type": "code",
   "execution_count": 19,
   "id": "fd5442bc",
   "metadata": {
    "execution": {
     "iopub.execute_input": "2022-03-21T03:41:28.314655Z",
     "iopub.status.busy": "2022-03-21T03:41:28.314278Z",
     "iopub.status.idle": "2022-03-21T03:41:28.335028Z",
     "shell.execute_reply": "2022-03-21T03:41:28.334712Z"
    },
    "papermill": {
     "duration": 0.046888,
     "end_time": "2022-03-21T03:41:28.335096",
     "exception": false,
     "start_time": "2022-03-21T03:41:28.288208",
     "status": "completed"
    },
    "tags": []
   },
   "outputs": [],
   "source": [
    "###################################\n",
    "# Build the dataset\n",
    "###################################\n",
    "train_original_source = Iterable_Aggregator(train_original_source, p.seed)\n",
    "val_original_source = Iterable_Aggregator(val_original_source, p.seed)\n",
    "test_original_source = Iterable_Aggregator(test_original_source, p.seed)\n",
    "\n",
    "\n",
    "train_original_target = Iterable_Aggregator(train_original_target, p.seed)\n",
    "val_original_target = Iterable_Aggregator(val_original_target, p.seed)\n",
    "test_original_target = Iterable_Aggregator(test_original_target, p.seed)\n",
    "\n",
    "# For CNN We only use X and Y. And we only train on the source.\n",
    "# Properly form the data using a transform lambda and Lazy_Iterable_Wrapper. Finally wrap them in a dataloader\n",
    "\n",
    "transform_lambda = lambda ex: ex[1] # Original is (<domain>, <episode>) so we strip down to episode only\n",
    "\n",
    "train_processed_source = Lazy_Iterable_Wrapper(train_original_source, transform_lambda)\n",
    "val_processed_source   = Lazy_Iterable_Wrapper(val_original_source, transform_lambda)\n",
    "test_processed_source  = Lazy_Iterable_Wrapper(test_original_source, transform_lambda)\n",
    "\n",
    "train_processed_target = Lazy_Iterable_Wrapper(train_original_target, transform_lambda)\n",
    "val_processed_target   = Lazy_Iterable_Wrapper(val_original_target, transform_lambda)\n",
    "test_processed_target  = Lazy_Iterable_Wrapper(test_original_target, transform_lambda)\n",
    "\n",
    "datasets = EasyDict({\n",
    "    \"source\": {\n",
    "        \"original\": {\"train\":train_original_source, \"val\":val_original_source, \"test\":test_original_source},\n",
    "        \"processed\": {\"train\":train_processed_source, \"val\":val_processed_source, \"test\":test_processed_source}\n",
    "    },\n",
    "    \"target\": {\n",
    "        \"original\": {\"train\":train_original_target, \"val\":val_original_target, \"test\":test_original_target},\n",
    "        \"processed\": {\"train\":train_processed_target, \"val\":val_processed_target, \"test\":test_processed_target}\n",
    "    },\n",
    "})"
   ]
  },
  {
   "cell_type": "code",
   "execution_count": 20,
   "id": "5b3c01fc",
   "metadata": {
    "execution": {
     "iopub.execute_input": "2022-03-21T03:41:28.382791Z",
     "iopub.status.busy": "2022-03-21T03:41:28.382421Z",
     "iopub.status.idle": "2022-03-21T03:41:36.451652Z",
     "shell.execute_reply": "2022-03-21T03:41:36.452268Z"
    },
    "papermill": {
     "duration": 8.09641,
     "end_time": "2022-03-21T03:41:36.452492",
     "exception": false,
     "start_time": "2022-03-21T03:41:28.356082",
     "status": "completed"
    },
    "tags": []
   },
   "outputs": [
    {
     "name": "stdout",
     "output_type": "stream",
     "text": [
      "{'Wisig_1', 'Wisig_2', 'Wisig_4', 'Wisig_3'}\n"
     ]
    },
    {
     "name": "stdout",
     "output_type": "stream",
     "text": [
      "{'CORES_1', 'CORES_4', 'CORES_3', 'CORES_2', 'CORES_5'}\n"
     ]
    },
    {
     "name": "stdout",
     "output_type": "stream",
     "text": [
      "tensor([[[-0.7644, -0.6038,  0.4764,  ..., -0.2228, -0.7379, -0.2513],\n",
      "         [ 0.1978, -0.5164, -1.0141,  ..., -0.0605, -0.3834, -1.1110]],\n",
      "\n",
      "        [[-0.2011,  0.2100,  0.9308,  ...,  0.4227,  0.1324,  0.5791],\n",
      "         [-0.1801, -0.6412,  0.0050,  ...,  0.1312,  0.2449,  0.0365]],\n",
      "\n",
      "        [[-0.3085,  0.5914,  0.7372,  ...,  0.2300,  0.5995,  1.0259],\n",
      "         [-0.6258, -0.5450,  0.4855,  ..., -0.1009, -0.3699,  0.3850]],\n",
      "\n",
      "        ...,\n",
      "\n",
      "        [[-0.1244,  0.7528,  1.5546,  ..., -0.4399,  0.4449,  0.8986],\n",
      "         [-0.7163, -0.8081, -0.1571,  ..., -0.2702, -0.2199,  0.3783]],\n",
      "\n",
      "        [[ 0.1639,  0.4271,  0.3087,  ...,  0.9273,  0.8902,  0.3817],\n",
      "         [ 0.0072, -0.1125,  0.6090,  ...,  0.1292,  0.7813,  0.8675]],\n",
      "\n",
      "        [[-0.0700,  1.0301,  1.0277,  ..., -0.0887,  0.5145,  0.1960],\n",
      "         [-0.4841,  0.0980,  0.7688,  ..., -0.6393, -0.3021,  0.5728]]])\n"
     ]
    }
   ],
   "source": [
    "from steves_utils.transforms import get_average_magnitude, get_average_power\n",
    "\n",
    "print(set([u for u,_ in val_original_source]))\n",
    "print(set([u for u,_ in val_original_target]))\n",
    "\n",
    "s_x, s_y, q_x, q_y, _ = next(iter(train_processed_source))\n",
    "print(s_x)\n",
    "\n",
    "# for ds in [\n",
    "#     train_processed_source,\n",
    "#     val_processed_source,\n",
    "#     test_processed_source,\n",
    "#     train_processed_target,\n",
    "#     val_processed_target,\n",
    "#     test_processed_target\n",
    "# ]:\n",
    "#     for s_x, s_y, q_x, q_y, _ in ds:\n",
    "#         for X in (s_x, q_x):\n",
    "#             for x in X:\n",
    "#                 assert np.isclose(get_average_magnitude(x.numpy()), 1.0)\n",
    "#                 assert np.isclose(get_average_power(x.numpy()), 1.0)\n",
    "                "
   ]
  },
  {
   "cell_type": "code",
   "execution_count": 21,
   "id": "bbdacba1",
   "metadata": {
    "execution": {
     "iopub.execute_input": "2022-03-21T03:41:36.512376Z",
     "iopub.status.busy": "2022-03-21T03:41:36.511681Z",
     "iopub.status.idle": "2022-03-21T03:41:36.682707Z",
     "shell.execute_reply": "2022-03-21T03:41:36.682333Z"
    },
    "papermill": {
     "duration": 0.20089,
     "end_time": "2022-03-21T03:41:36.682810",
     "exception": false,
     "start_time": "2022-03-21T03:41:36.481920",
     "status": "completed"
    },
    "tags": []
   },
   "outputs": [
    {
     "name": "stdout",
     "output_type": "stream",
     "text": [
      "(2, 256)\n"
     ]
    }
   ],
   "source": [
    "###################################\n",
    "# Build the model\n",
    "###################################\n",
    "# easfsl only wants a tuple for the shape\n",
    "model = Steves_Prototypical_Network(x_net, device=p.device, x_shape=tuple(p.x_shape))\n",
    "optimizer = Adam(params=model.parameters(), lr=p.lr)"
   ]
  },
  {
   "cell_type": "code",
   "execution_count": 22,
   "id": "22b39ac5",
   "metadata": {
    "execution": {
     "iopub.execute_input": "2022-03-21T03:41:36.776703Z",
     "iopub.status.busy": "2022-03-21T03:41:36.776151Z",
     "iopub.status.idle": "2022-03-21T03:45:24.440447Z",
     "shell.execute_reply": "2022-03-21T03:45:24.439594Z"
    },
    "papermill": {
     "duration": 227.694607,
     "end_time": "2022-03-21T03:45:24.440619",
     "exception": false,
     "start_time": "2022-03-21T03:41:36.746012",
     "status": "completed"
    },
    "tags": []
   },
   "outputs": [
    {
     "name": "stdout",
     "output_type": "stream",
     "text": [
      "epoch: 1, [batch: 1 / 915], examples_per_second: 203.9443, train_label_loss: 3.9015, \n"
     ]
    },
    {
     "name": "stdout",
     "output_type": "stream",
     "text": [
      "epoch: 1, [batch: 92 / 915], examples_per_second: 4698.4183, train_label_loss: 1.0474, \n"
     ]
    },
    {
     "name": "stdout",
     "output_type": "stream",
     "text": [
      "epoch: 1, [batch: 183 / 915], examples_per_second: 4718.7454, train_label_loss: 0.7093, \n"
     ]
    },
    {
     "name": "stdout",
     "output_type": "stream",
     "text": [
      "epoch: 1, [batch: 275 / 915], examples_per_second: 5187.2351, train_label_loss: 0.2489, \n"
     ]
    },
    {
     "name": "stdout",
     "output_type": "stream",
     "text": [
      "epoch: 1, [batch: 366 / 915], examples_per_second: 5308.5919, train_label_loss: 0.4836, \n"
     ]
    },
    {
     "name": "stdout",
     "output_type": "stream",
     "text": [
      "epoch: 1, [batch: 458 / 915], examples_per_second: 5519.2155, train_label_loss: 0.2962, \n"
     ]
    },
    {
     "name": "stdout",
     "output_type": "stream",
     "text": [
      "epoch: 1, [batch: 549 / 915], examples_per_second: 5504.6590, train_label_loss: 0.2049, \n"
     ]
    },
    {
     "name": "stdout",
     "output_type": "stream",
     "text": [
      "epoch: 1, [batch: 640 / 915], examples_per_second: 5439.0284, train_label_loss: 0.4567, \n"
     ]
    },
    {
     "name": "stdout",
     "output_type": "stream",
     "text": [
      "epoch: 1, [batch: 732 / 915], examples_per_second: 5641.7801, train_label_loss: 0.2463, \n"
     ]
    },
    {
     "name": "stdout",
     "output_type": "stream",
     "text": [
      "epoch: 1, [batch: 823 / 915], examples_per_second: 5636.5353, train_label_loss: 0.2432, \n"
     ]
    },
    {
     "name": "stdout",
     "output_type": "stream",
     "text": [
      "=============================================================\n",
      "epoch: 1, source_val_acc_label: 0.9386, target_val_acc_label: 0.9716, source_val_label_loss: 0.3231, target_val_label_loss: 0.2177, \n",
      "=============================================================\n"
     ]
    },
    {
     "name": "stdout",
     "output_type": "stream",
     "text": [
      "New best\n"
     ]
    },
    {
     "name": "stdout",
     "output_type": "stream",
     "text": [
      "epoch: 2, [batch: 1 / 916], examples_per_second: 42.0730, train_label_loss: 0.1651, \n"
     ]
    },
    {
     "name": "stdout",
     "output_type": "stream",
     "text": [
      "epoch: 2, [batch: 92 / 916], examples_per_second: 5929.6403, train_label_loss: 0.4211, \n"
     ]
    },
    {
     "name": "stdout",
     "output_type": "stream",
     "text": [
      "epoch: 2, [batch: 184 / 916], examples_per_second: 4750.1565, train_label_loss: 0.4129, \n"
     ]
    },
    {
     "name": "stdout",
     "output_type": "stream",
     "text": [
      "epoch: 2, [batch: 275 / 916], examples_per_second: 4341.1963, train_label_loss: 0.2471, \n"
     ]
    },
    {
     "name": "stdout",
     "output_type": "stream",
     "text": [
      "epoch: 2, [batch: 367 / 916], examples_per_second: 4218.4189, train_label_loss: 0.2617, \n"
     ]
    },
    {
     "name": "stdout",
     "output_type": "stream",
     "text": [
      "epoch: 2, [batch: 458 / 916], examples_per_second: 4216.1717, train_label_loss: 0.2574, \n"
     ]
    },
    {
     "name": "stdout",
     "output_type": "stream",
     "text": [
      "epoch: 2, [batch: 550 / 916], examples_per_second: 4300.6344, train_label_loss: 0.1832, \n"
     ]
    },
    {
     "name": "stdout",
     "output_type": "stream",
     "text": [
      "epoch: 2, [batch: 641 / 916], examples_per_second: 4172.6027, train_label_loss: 0.4152, \n"
     ]
    },
    {
     "name": "stdout",
     "output_type": "stream",
     "text": [
      "epoch: 2, [batch: 733 / 916], examples_per_second: 4520.6955, train_label_loss: 0.1986, \n"
     ]
    },
    {
     "name": "stdout",
     "output_type": "stream",
     "text": [
      "epoch: 2, [batch: 824 / 916], examples_per_second: 4436.9982, train_label_loss: 0.2064, \n"
     ]
    },
    {
     "name": "stdout",
     "output_type": "stream",
     "text": [
      "=============================================================\n",
      "epoch: 2, source_val_acc_label: 0.9576, target_val_acc_label: 0.9709, source_val_label_loss: 0.2470, target_val_label_loss: 0.1878, \n",
      "=============================================================\n"
     ]
    },
    {
     "name": "stdout",
     "output_type": "stream",
     "text": [
      "epoch: 3, [batch: 1 / 912], examples_per_second: 31.9274, train_label_loss: 0.2443, \n"
     ]
    },
    {
     "name": "stdout",
     "output_type": "stream",
     "text": [
      "epoch: 3, [batch: 92 / 912], examples_per_second: 4180.5192, train_label_loss: 0.1394, \n"
     ]
    },
    {
     "name": "stdout",
     "output_type": "stream",
     "text": [
      "epoch: 3, [batch: 183 / 912], examples_per_second: 4360.8780, train_label_loss: 0.2001, \n"
     ]
    },
    {
     "name": "stdout",
     "output_type": "stream",
     "text": [
      "epoch: 3, [batch: 274 / 912], examples_per_second: 4128.4749, train_label_loss: 0.2358, \n"
     ]
    },
    {
     "name": "stdout",
     "output_type": "stream",
     "text": [
      "epoch: 3, [batch: 365 / 912], examples_per_second: 3018.9742, train_label_loss: 0.1817, \n"
     ]
    },
    {
     "name": "stdout",
     "output_type": "stream",
     "text": [
      "epoch: 3, [batch: 456 / 912], examples_per_second: 3086.2284, train_label_loss: 0.2712, \n"
     ]
    },
    {
     "name": "stdout",
     "output_type": "stream",
     "text": [
      "epoch: 3, [batch: 547 / 912], examples_per_second: 3038.3859, train_label_loss: 0.2752, \n"
     ]
    },
    {
     "name": "stdout",
     "output_type": "stream",
     "text": [
      "epoch: 3, [batch: 638 / 912], examples_per_second: 2987.9071, train_label_loss: 0.2181, \n"
     ]
    },
    {
     "name": "stdout",
     "output_type": "stream",
     "text": [
      "epoch: 3, [batch: 729 / 912], examples_per_second: 3027.8144, train_label_loss: 0.3001, \n"
     ]
    },
    {
     "name": "stdout",
     "output_type": "stream",
     "text": [
      "epoch: 3, [batch: 820 / 912], examples_per_second: 2986.1412, train_label_loss: 0.1912, \n"
     ]
    },
    {
     "name": "stdout",
     "output_type": "stream",
     "text": [
      "=============================================================\n",
      "epoch: 3, source_val_acc_label: 0.9588, target_val_acc_label: 0.9747, source_val_label_loss: 0.2266, target_val_label_loss: 0.1795, \n",
      "=============================================================\n"
     ]
    },
    {
     "name": "stdout",
     "output_type": "stream",
     "text": [
      "New best\n"
     ]
    }
   ],
   "source": [
    "###################################\n",
    "# train\n",
    "###################################\n",
    "jig = PTN_Train_Eval_Test_Jig(model, p.BEST_MODEL_PATH, p.device)\n",
    "\n",
    "jig.train(\n",
    "    train_iterable=datasets.source.processed.train,\n",
    "    source_val_iterable=datasets.source.processed.val,\n",
    "    target_val_iterable=datasets.target.processed.val,\n",
    "    num_epochs=p.n_epoch,\n",
    "    num_logs_per_epoch=p.NUM_LOGS_PER_EPOCH,\n",
    "    patience=p.patience,\n",
    "    optimizer=optimizer,\n",
    "    criteria_for_best=p.criteria_for_best,\n",
    ")"
   ]
  },
  {
   "cell_type": "code",
   "execution_count": 23,
   "id": "31e8fabf",
   "metadata": {
    "execution": {
     "iopub.execute_input": "2022-03-21T03:45:24.515207Z",
     "iopub.status.busy": "2022-03-21T03:45:24.514615Z",
     "iopub.status.idle": "2022-03-21T03:45:24.552476Z",
     "shell.execute_reply": "2022-03-21T03:45:24.551727Z"
    },
    "papermill": {
     "duration": 0.075176,
     "end_time": "2022-03-21T03:45:24.552653",
     "exception": false,
     "start_time": "2022-03-21T03:45:24.477477",
     "status": "completed"
    },
    "tags": []
   },
   "outputs": [],
   "source": [
    "total_experiment_time_secs = time.time() - start_time_secs"
   ]
  },
  {
   "cell_type": "code",
   "execution_count": 24,
   "id": "87b9595b",
   "metadata": {
    "execution": {
     "iopub.execute_input": "2022-03-21T03:45:24.630477Z",
     "iopub.status.busy": "2022-03-21T03:45:24.630069Z",
     "iopub.status.idle": "2022-03-21T03:46:30.019486Z",
     "shell.execute_reply": "2022-03-21T03:46:30.020253Z"
    },
    "papermill": {
     "duration": 65.429216,
     "end_time": "2022-03-21T03:46:30.020481",
     "exception": false,
     "start_time": "2022-03-21T03:45:24.591265",
     "status": "completed"
    },
    "tags": []
   },
   "outputs": [],
   "source": [
    "###################################\n",
    "# Evaluate the model\n",
    "###################################\n",
    "source_test_label_accuracy, source_test_label_loss = jig.test(datasets.source.processed.test)\n",
    "target_test_label_accuracy, target_test_label_loss = jig.test(datasets.target.processed.test)\n",
    "\n",
    "source_val_label_accuracy, source_val_label_loss = jig.test(datasets.source.processed.val)\n",
    "target_val_label_accuracy, target_val_label_loss = jig.test(datasets.target.processed.val)\n",
    "\n",
    "history = jig.get_history()\n",
    "\n",
    "total_epochs_trained = len(history[\"epoch_indices\"])\n",
    "\n",
    "val_dl = Iterable_Aggregator((datasets.source.original.val,datasets.target.original.val))\n",
    "\n",
    "confusion = ptn_confusion_by_domain_over_dataloader(model, p.device, val_dl)\n",
    "per_domain_accuracy = per_domain_accuracy_from_confusion(confusion)\n",
    "\n",
    "# Add a key to per_domain_accuracy for if it was a source domain\n",
    "for domain, accuracy in per_domain_accuracy.items():\n",
    "    per_domain_accuracy[domain] = {\n",
    "        \"accuracy\": accuracy,\n",
    "        \"source?\": domain in p.domains_source\n",
    "    }\n",
    "\n",
    "# Do an independent accuracy assesment JUST TO BE SURE!\n",
    "# _source_test_label_accuracy = independent_accuracy_assesment(model, datasets.source.processed.test, p.device)\n",
    "# _target_test_label_accuracy = independent_accuracy_assesment(model, datasets.target.processed.test, p.device)\n",
    "# _source_val_label_accuracy = independent_accuracy_assesment(model, datasets.source.processed.val, p.device)\n",
    "# _target_val_label_accuracy = independent_accuracy_assesment(model, datasets.target.processed.val, p.device)\n",
    "\n",
    "# assert(_source_test_label_accuracy == source_test_label_accuracy)\n",
    "# assert(_target_test_label_accuracy == target_test_label_accuracy)\n",
    "# assert(_source_val_label_accuracy == source_val_label_accuracy)\n",
    "# assert(_target_val_label_accuracy == target_val_label_accuracy)\n",
    "\n",
    "experiment = {\n",
    "    \"experiment_name\": p.experiment_name,\n",
    "    \"parameters\": dict(p),\n",
    "    \"results\": {\n",
    "        \"source_test_label_accuracy\": source_test_label_accuracy,\n",
    "        \"source_test_label_loss\": source_test_label_loss,\n",
    "        \"target_test_label_accuracy\": target_test_label_accuracy,\n",
    "        \"target_test_label_loss\": target_test_label_loss,\n",
    "        \"source_val_label_accuracy\": source_val_label_accuracy,\n",
    "        \"source_val_label_loss\": source_val_label_loss,\n",
    "        \"target_val_label_accuracy\": target_val_label_accuracy,\n",
    "        \"target_val_label_loss\": target_val_label_loss,\n",
    "        \"total_epochs_trained\": total_epochs_trained,\n",
    "        \"total_experiment_time_secs\": total_experiment_time_secs,\n",
    "        \"confusion\": confusion,\n",
    "        \"per_domain_accuracy\": per_domain_accuracy,\n",
    "    },\n",
    "    \"history\": history,\n",
    "    \"dataset_metrics\": get_dataset_metrics(datasets, \"ptn\"),\n",
    "}"
   ]
  },
  {
   "cell_type": "code",
   "execution_count": 25,
   "id": "54a21829",
   "metadata": {
    "execution": {
     "iopub.execute_input": "2022-03-21T03:46:30.098649Z",
     "iopub.status.busy": "2022-03-21T03:46:30.098080Z",
     "iopub.status.idle": "2022-03-21T03:46:30.316960Z",
     "shell.execute_reply": "2022-03-21T03:46:30.316237Z"
    },
    "papermill": {
     "duration": 0.256696,
     "end_time": "2022-03-21T03:46:30.317119",
     "exception": false,
     "start_time": "2022-03-21T03:46:30.060423",
     "status": "completed"
    },
    "tags": []
   },
   "outputs": [
    {
     "data": {
      "image/png": "[encoded data removed]",
      "text/plain": [
       "<Figure size 1080x504 with 1 Axes>"
      ]
     },
     "metadata": {
      "needs_background": "light"
     },
     "output_type": "display_data"
    }
   ],
   "source": [
    "ax = get_loss_curve(experiment)\n",
    "plt.show()"
   ]
  },
  {
   "cell_type": "code",
   "execution_count": 26,
   "id": "fd8a0f60",
   "metadata": {
    "execution": {
     "iopub.execute_input": "2022-03-21T03:46:30.391563Z",
     "iopub.status.busy": "2022-03-21T03:46:30.391187Z",
     "iopub.status.idle": "2022-03-21T03:46:30.769109Z",
     "shell.execute_reply": "2022-03-21T03:46:30.769802Z"
    },
    "papermill": {
     "duration": 0.415326,
     "end_time": "2022-03-21T03:46:30.770001",
     "exception": false,
     "start_time": "2022-03-21T03:46:30.354675",
     "status": "completed"
    },
    "tags": []
   },
   "outputs": [
    {
     "data": {
      "text/plain": [
       "<AxesSubplot:title={'center':'Results'}>"
      ]
     },
     "execution_count": 26,
     "metadata": {},
     "output_type": "execute_result"
    },
    {
     "data": {
      "image/png": "[encoded data removed]",
      "text/plain": [
       "<Figure size 1080x504 with 1 Axes>"
      ]
     },
     "metadata": {
      "needs_background": "light"
     },
     "output_type": "display_data"
    }
   ],
   "source": [
    "get_results_table(experiment)"
   ]
  },
  {
   "cell_type": "code",
   "execution_count": 27,
   "id": "cf8dc689",
   "metadata": {
    "execution": {
     "iopub.execute_input": "2022-03-21T03:46:30.849495Z",
     "iopub.status.busy": "2022-03-21T03:46:30.849105Z",
     "iopub.status.idle": "2022-03-21T03:46:31.092971Z",
     "shell.execute_reply": "2022-03-21T03:46:31.093656Z"
    },
    "papermill": {
     "duration": 0.284069,
     "end_time": "2022-03-21T03:46:31.093867",
     "exception": false,
     "start_time": "2022-03-21T03:46:30.809798",
     "status": "completed"
    },
    "tags": []
   },
   "outputs": [
    {
     "data": {
      "text/plain": [
       "<AxesSubplot:title={'center':'Per Domain Validation Accuracy'}, xlabel='domain'>"
      ]
     },
     "execution_count": 27,
     "metadata": {},
     "output_type": "execute_result"
    },
    {
     "data": {
      "image/png": "[encoded data removed]",
      "text/plain": [
       "<Figure size 1080x504 with 1 Axes>"
      ]
     },
     "metadata": {
      "needs_background": "light"
     },
     "output_type": "display_data"
    }
   ],
   "source": [
    "get_domain_accuracies(experiment)"
   ]
  },
  {
   "cell_type": "code",
   "execution_count": 28,
   "id": "a74ae082",
   "metadata": {
    "execution": {
     "iopub.execute_input": "2022-03-21T03:46:31.179546Z",
     "iopub.status.busy": "2022-03-21T03:46:31.178863Z",
     "iopub.status.idle": "2022-03-21T03:46:31.205922Z",
     "shell.execute_reply": "2022-03-21T03:46:31.205085Z"
    },
    "papermill": {
     "duration": 0.069501,
     "end_time": "2022-03-21T03:46:31.206100",
     "exception": false,
     "start_time": "2022-03-21T03:46:31.136599",
     "status": "completed"
    },
    "tags": []
   },
   "outputs": [
    {
     "name": "stdout",
     "output_type": "stream",
     "text": [
      "Source Test Label Accuracy: 0.9579336271713768 Target Test Label Accuracy: 0.9737931034482759\n",
      "Source Val Label Accuracy: 0.9587823275862069 Target Val Label Accuracy: 0.974676724137931\n"
     ]
    }
   ],
   "source": [
    "print(\"Source Test Label Accuracy:\", experiment[\"results\"][\"source_test_label_accuracy\"], \"Target Test Label Accuracy:\", experiment[\"results\"][\"target_test_label_accuracy\"])\n",
    "print(\"Source Val Label Accuracy:\", experiment[\"results\"][\"source_val_label_accuracy\"], \"Target Val Label Accuracy:\", experiment[\"results\"][\"target_val_label_accuracy\"])"
   ]
  },
  {
   "cell_type": "code",
   "execution_count": 29,
   "id": "dacca602",
   "metadata": {
    "execution": {
     "iopub.execute_input": "2022-03-21T03:46:31.288943Z",
     "iopub.status.busy": "2022-03-21T03:46:31.288273Z",
     "iopub.status.idle": "2022-03-21T03:46:31.312538Z",
     "shell.execute_reply": "2022-03-21T03:46:31.313211Z"
    },
    "papermill": {
     "duration": 0.065976,
     "end_time": "2022-03-21T03:46:31.313421",
     "exception": false,
     "start_time": "2022-03-21T03:46:31.247445",
     "status": "completed"
    },
    "tags": [
     "experiment_json"
    ]
   },
   "outputs": [
    {
     "data": {
      "text/plain": [
       "'{\"experiment_name\": \"tl_1v2:cores-wisig\", \"parameters\": {\"experiment_name\": \"tl_1v2:cores-wisig\", \"device\": \"cuda\", \"lr\": 0.0001, \"n_shot\": 3, \"n_query\": 2, \"train_k_factor\": 3, \"val_k_factor\": 2, \"test_k_factor\": 2, \"torch_default_dtype\": \"torch.float32\", \"n_epoch\": 3, \"patience\": 3, \"criteria_for_best\": \"target_accuracy\", \"x_net\": [{\"class\": \"nnReshape\", \"kargs\": {\"shape\": [-1, 1, 2, 256]}}, {\"class\": \"Conv2d\", \"kargs\": {\"in_channels\": 1, \"out_channels\": 256, \"kernel_size\": [1, 7], \"bias\": false, \"padding\": [0, 3]}}, {\"class\": \"ReLU\", \"kargs\": {\"inplace\": true}}, {\"class\": \"BatchNorm2d\", \"kargs\": {\"num_features\": 256}}, {\"class\": \"Conv2d\", \"kargs\": {\"in_channels\": 256, \"out_channels\": 80, \"kernel_size\": [2, 7], \"bias\": true, \"padding\": [0, 3]}}, {\"class\": \"ReLU\", \"kargs\": {\"inplace\": true}}, {\"class\": \"BatchNorm2d\", \"kargs\": {\"num_features\": 80}}, {\"class\": \"Flatten\", \"kargs\": {}}, {\"class\": \"Linear\", \"kargs\": {\"in_features\": 20480, \"out_features\": 256}}, {\"class\": \"ReLU\", \"kargs\": {\"inplace\": true}}, {\"class\": \"BatchNorm1d\", \"kargs\": {\"num_features\": 256}}, {\"class\": \"Linear\", \"kargs\": {\"in_features\": 256, \"out_features\": 256}}], \"NUM_LOGS_PER_EPOCH\": 10, \"BEST_MODEL_PATH\": \"./best_model.pth\", \"n_way\": 58, \"datasets\": [{\"labels\": [\"1-10.\", \"1-11.\", \"1-15.\", \"1-16.\", \"1-17.\", \"1-18.\", \"1-19.\", \"10-4.\", \"10-7.\", \"11-1.\", \"11-14.\", \"11-17.\", \"11-20.\", \"11-7.\", \"13-20.\", \"13-8.\", \"14-10.\", \"14-11.\", \"14-14.\", \"14-7.\", \"15-1.\", \"15-20.\", \"16-1.\", \"16-16.\", \"17-10.\", \"17-11.\", \"17-2.\", \"19-1.\", \"19-16.\", \"19-19.\", \"19-20.\", \"19-3.\", \"2-10.\", \"2-11.\", \"2-17.\", \"2-18.\", \"2-20.\", \"2-3.\", \"2-4.\", \"2-5.\", \"2-6.\", \"2-7.\", \"2-8.\", \"3-13.\", \"3-18.\", \"3-3.\", \"4-1.\", \"4-10.\", \"4-11.\", \"4-19.\", \"5-5.\", \"6-15.\", \"7-10.\", \"7-14.\", \"8-18.\", \"8-20.\", \"8-3.\", \"8-8.\"], \"domains\": [1, 2, 3, 4, 5], \"num_examples_per_domain_per_label\": -1, \"pickle_path\": \"/root/csc500-main/datasets/cores.stratified_ds.2022A.pkl\", \"source_or_target_dataset\": \"target\", \"x_transforms\": [\"unit_power\"], \"episode_transforms\": [], \"domain_prefix\": \"CORES_\"}, {\"labels\": [\"1-10\", \"1-12\", \"1-14\", \"1-16\", \"1-18\", \"1-19\", \"1-8\", \"10-11\", \"10-17\", \"10-4\", \"10-7\", \"11-1\", \"11-10\", \"11-19\", \"11-20\", \"11-4\", \"11-7\", \"12-19\", \"12-20\", \"12-7\", \"13-14\", \"13-18\", \"13-19\", \"13-20\", \"13-3\", \"13-7\", \"14-10\", \"14-11\", \"14-12\", \"14-13\", \"14-14\", \"14-19\", \"14-20\", \"14-7\", \"14-8\", \"14-9\", \"15-1\", \"15-19\", \"15-6\", \"16-1\", \"16-16\", \"16-19\", \"16-20\", \"17-10\", \"17-11\", \"18-1\", \"18-10\", \"18-11\", \"18-12\", \"18-13\", \"18-14\", \"18-15\", \"18-16\", \"18-17\", \"18-19\", \"18-2\", \"18-20\", \"18-4\", \"18-5\", \"18-7\", \"18-8\", \"18-9\", \"19-1\", \"19-10\", \"19-11\", \"19-12\", \"19-13\", \"19-14\", \"19-15\", \"19-19\", \"19-2\", \"19-20\", \"19-3\", \"19-4\", \"19-6\", \"19-7\", \"19-8\", \"19-9\", \"2-1\", \"2-13\", \"2-15\", \"2-3\", \"2-4\", \"2-5\", \"2-6\", \"2-7\", \"2-8\", \"20-1\", \"20-12\", \"20-14\", \"20-15\", \"20-16\", \"20-18\", \"20-19\", \"20-20\", \"20-3\", \"20-4\", \"20-5\", \"20-7\", \"20-8\", \"3-1\", \"3-13\", \"3-18\", \"3-2\", \"3-8\", \"4-1\", \"4-10\", \"4-11\", \"5-1\", \"5-5\", \"6-1\", \"6-15\", \"6-6\", \"7-10\", \"7-11\", \"7-12\", \"7-13\", \"7-14\", \"7-7\", \"7-8\", \"7-9\", \"8-1\", \"8-13\", \"8-14\", \"8-18\", \"8-20\", \"8-3\", \"8-8\", \"9-1\", \"9-7\"], \"domains\": [1, 2, 3, 4], \"num_examples_per_domain_per_label\": -1, \"pickle_path\": \"/root/csc500-main/datasets/wisig.node3-19.stratified_ds.2022A.pkl\", \"source_or_target_dataset\": \"source\", \"x_transforms\": [\"unit_power\"], \"episode_transforms\": [], \"domain_prefix\": \"Wisig_\"}], \"dataset_seed\": 7, \"seed\": 7, \"x_shape\": [2, 256], \"domains_source\": [\"Wisig_1\", \"Wisig_2\", \"Wisig_3\", \"Wisig_4\"], \"domains_target\": [\"CORES_1\", \"CORES_2\", \"CORES_3\", \"CORES_4\", \"CORES_5\"]}, \"results\": {\"source_test_label_accuracy\": 0.9579336271713768, \"source_test_label_loss\": 0.22857090830802917, \"target_test_label_accuracy\": 0.9737931034482759, \"target_test_label_loss\": 0.18532590568065643, \"source_val_label_accuracy\": 0.9587823275862069, \"source_val_label_loss\": 0.22664670646190643, \"target_val_label_accuracy\": 0.974676724137931, \"target_val_label_loss\": 0.1795046031475067, \"total_epochs_trained\": 3, \"total_experiment_time_secs\": 280.67384600639343, \"confusion\": {\"Wisig_4\": {\"57\": {\"57\": 16}, \"125\": {\"125\": 41, \"78\": 1}, \"63\": {\"63\": 16}, \"71\": {\"71\": 38}, \"116\": {\"116\": 28}, \"52\": {\"52\": 20}, \"0\": {\"0\": 39, \"84\": 1, \"58\": 2}, \"69\": {\"69\": 42}, \"105\": {\"105\": 37, \"29\": 1, \"21\": 3, \"84\": 1, \"87\": 2}, \"43\": {\"43\": 43, \"23\": 1, \"87\": 1, \"105\": 1}, \"4\": {\"4\": 35, \"127\": 1}, \"5\": {\"5\": 39, \"26\": 1}, \"44\": {\"44\": 43, \"65\": 1}, \"24\": {\"24\": 27, \"5\": 1, \"97\": 1, \"36\": 1}, \"107\": {\"107\": 35, \"43\": 1}, \"26\": {\"26\": 36, \"78\": 1, \"21\": 1, \"94\": 1, \"69\": 1}, \"90\": {\"90\": 38}, \"100\": {\"100\": 20}, \"18\": {\"24\": 1, \"18\": 40, \"84\": 1}, \"72\": {\"72\": 31, \"36\": 1}, \"81\": {\"81\": 30, \"14\": 1, \"70\": 1, \"51\": 1, \"78\": 1}, \"96\": {\"108\": 1, \"96\": 15, \"118\": 1, \"59\": 1, \"28\": 2}, \"37\": {\"37\": 15, \"75\": 1}, \"67\": {\"63\": 3, \"67\": 10, \"23\": 1, \"104\": 2}, \"76\": {\"76\": 15, \"62\": 1}, \"108\": {\"108\": 37, \"73\": 1, \"0\": 1, \"83\": 1, \"70\": 1, \"89\": 1}, \"50\": {\"50\": 16}, \"10\": {\"10\": 29, \"23\": 1, \"30\": 1, \"39\": 1}, \"126\": {\"126\": 32}, \"109\": {\"109\": 37, \"21\": 1}, \"84\": {\"84\": 37, \"78\": 1}, \"99\": {\"99\": 39, \"21\": 1}, \"17\": {\"17\": 20}, \"129\": {\"129\": 28}, \"111\": {\"111\": 33, \"84\": 1}, \"13\": {\"13\": 15, \"57\": 1}, \"75\": {\"75\": 15, \"97\": 1}, \"65\": {\"65\": 12}, \"112\": {\"112\": 16}, \"120\": {\"120\": 20}, \"97\": {\"24\": 1, \"97\": 13, \"36\": 5, \"78\": 1}, \"123\": {\"123\": 16}, \"32\": {\"32\": 24}, \"70\": {\"70\": 32, \"96\": 1, \"84\": 1, \"88\": 1, \"1\": 1}, \"104\": {\"104\": 16}, \"121\": {\"121\": 31, \"81\": 1}, \"113\": {\"113\": 42}, \"85\": {\"85\": 25, \"122\": 2, \"51\": 1}, \"53\": {\"53\": 16}, \"23\": {\"23\": 3, \"123\": 3, \"51\": 2, \"35\": 2, \"49\": 2, \"67\": 1, \"60\": 1, \"80\": 1, \"127\": 1}, \"59\": {\"59\": 11, \"12\": 1}, \"45\": {\"45\": 16}, \"58\": {\"58\": 16}, \"42\": {\"42\": 28}, \"28\": {\"28\": 20}, \"47\": {\"47\": 8, \"59\": 1, \"35\": 1, \"75\": 2}, \"11\": {\"11\": 46}, \"101\": {\"101\": 35, \"0\": 3}, \"95\": {\"95\": 30}, \"86\": {\"86\": 28}, \"19\": {\"19\": 23, \"21\": 1}, \"55\": {\"55\": 16}, \"20\": {\"20\": 15, \"100\": 1}, \"118\": {\"118\": 29, \"84\": 1, \"122\": 1, \"23\": 1}, \"36\": {\"36\": 35, \"106\": 1, \"21\": 1, \"24\": 2, \"3\": 1, \"97\": 2}, \"21\": {\"21\": 35, \"48\": 1, \"17\": 1, \"39\": 1}, \"39\": {\"39\": 36, \"21\": 1, \"78\": 1}, \"29\": {\"29\": 31, \"70\": 1}, \"122\": {\"122\": 40, \"3\": 1, \"27\": 1}, \"68\": {\"68\": 16}, \"114\": {\"67\": 1, \"114\": 34, \"83\": 1, \"21\": 1, \"78\": 1}, \"12\": {\"12\": 33, \"21\": 1}, \"64\": {\"64\": 15, \"11\": 1}, \"94\": {\"94\": 31, \"88\": 1}, \"27\": {\"84\": 1, \"27\": 26, \"70\": 2, \"95\": 1}, \"117\": {\"117\": 36}, \"8\": {\"8\": 31, \"27\": 1}, \"33\": {\"33\": 36}, \"80\": {\"80\": 16}, \"35\": {\"35\": 10, \"23\": 1, \"61\": 1}, \"54\": {\"54\": 16}, \"25\": {\"25\": 12}, \"87\": {\"118\": 1, \"87\": 33}, \"74\": {\"74\": 13, \"18\": 1, \"118\": 1, \"39\": 1}, \"93\": {\"93\": 36}, \"40\": {\"40\": 32, \"78\": 1, \"21\": 1}, \"88\": {\"88\": 34, \"79\": 1, \"70\": 1, \"60\": 1, \"108\": 1}, \"1\": {\"1\": 38, \"3\": 1, \"110\": 1, \"72\": 1, \"92\": 1}, \"66\": {\"66\": 16}, \"15\": {\"15\": 40}, \"78\": {\"78\": 25, \"122\": 2, \"21\": 3, \"107\": 1, \"27\": 1, \"14\": 1, \"73\": 1, \"97\": 1, \"43\": 1}, \"73\": {\"73\": 22, \"28\": 1, \"78\": 1}, \"60\": {\"60\": 30, \"5\": 1, \"49\": 1}, \"115\": {\"115\": 14, \"73\": 1, \"88\": 1}, \"3\": {\"3\": 44}, \"38\": {\"38\": 16}, \"102\": {\"102\": 39, \"120\": 1}, \"2\": {\"2\": 28}, \"51\": {\"51\": 13, \"34\": 1, \"3\": 1, \"21\": 1}, \"89\": {\"89\": 31, \"12\": 1}, \"106\": {\"106\": 33, \"21\": 1}, \"124\": {\"124\": 46}, \"9\": {\"9\": 28}, \"22\": {\"22\": 16}, \"79\": {\"79\": 16}, \"6\": {\"6\": 24}, \"34\": {\"34\": 31, \"125\": 1}, \"91\": {\"91\": 24}, \"61\": {\"61\": 16}, \"110\": {\"110\": 33, \"78\": 1, \"21\": 2}, \"127\": {\"127\": 34, \"23\": 1, \"4\": 3}, \"77\": {\"77\": 12}, \"31\": {\"31\": 16}, \"30\": {\"30\": 30}, \"98\": {\"98\": 29, \"84\": 1}, \"49\": {\"49\": 31, \"14\": 1}, \"7\": {\"7\": 32}, \"92\": {\"92\": 28}, \"46\": {\"88\": 1, \"46\": 19}, \"119\": {\"119\": 15, \"9\": 1}, \"103\": {\"103\": 16}, \"16\": {\"16\": 32}, \"62\": {\"62\": 36}, \"56\": {\"56\": 12}, \"14\": {\"14\": 36}, \"41\": {\"41\": 15, \"78\": 1}, \"128\": {\"128\": 24}, \"83\": {\"83\": 25, \"121\": 1}, \"48\": {\"48\": 15, \"88\": 1}, \"82\": {\"82\": 23, \"17\": 1}}, \"Wisig_1\": {\"76\": {\"76\": 15, \"65\": 1}, \"55\": {\"55\": 12}, \"89\": {\"89\": 27, \"70\": 1}, \"19\": {\"19\": 28}, \"124\": {\"124\": 42}, \"97\": {\"97\": 18, \"123\": 1, \"24\": 1}, \"21\": {\"21\": 36, \"122\": 1, \"12\": 1, \"43\": 1, \"82\": 1}, \"45\": {\"45\": 8, \"21\": 1, \"84\": 1, \"97\": 2}, \"6\": {\"6\": 32}, \"105\": {\"105\": 34, \"40\": 2, \"87\": 2}, \"117\": {\"117\": 37, \"78\": 1}, \"37\": {\"37\": 16}, \"11\": {\"11\": 38}, \"88\": {\"88\": 34}, \"90\": {\"90\": 36}, \"74\": {\"74\": 16}, \"52\": {\"52\": 20}, \"92\": {\"92\": 28}, \"128\": {\"128\": 24}, \"59\": {\"59\": 12}, \"98\": {\"98\": 42}, \"82\": {\"82\": 28}, \"32\": {\"32\": 32}, \"94\": {\"94\": 36}, \"125\": {\"125\": 38}, \"78\": {\"43\": 2, \"78\": 12, \"69\": 1, \"21\": 1}, \"118\": {\"118\": 37, \"113\": 1}, \"129\": {\"129\": 27, \"27\": 1}, \"91\": {\"91\": 28}, \"22\": {\"22\": 15, \"103\": 1}, \"15\": {\"15\": 28, \"12\": 1, \"24\": 1}, \"87\": {\"87\": 38}, \"66\": {\"66\": 16}, \"30\": {\"30\": 36, \"107\": 2}, \"46\": {\"46\": 12}, \"112\": {\"112\": 16}, \"28\": {\"28\": 19, \"66\": 1}, \"123\": {\"123\": 16}, \"12\": {\"12\": 38, \"17\": 1, \"70\": 1, \"107\": 1, \"68\": 1}, \"16\": {\"16\": 38}, \"36\": {\"36\": 31, \"24\": 1}, \"108\": {\"108\": 29, \"126\": 1}, \"29\": {\"29\": 27, \"8\": 1}, \"116\": {\"116\": 32}, \"72\": {\"72\": 32}, \"26\": {\"26\": 34}, \"17\": {\"17\": 11, \"87\": 1, \"106\": 1, \"83\": 1, \"86\": 1, \"23\": 1}, \"43\": {\"43\": 33, \"21\": 1, \"78\": 2, \"36\": 1, \"87\": 1}, \"120\": {\"120\": 20}, \"68\": {\"68\": 16}, \"50\": {\"50\": 14, \"96\": 1, \"120\": 1}, \"56\": {\"56\": 9, \"59\": 1, \"53\": 1, \"6\": 1}, \"85\": {\"85\": 32}, \"10\": {\"10\": 34}, \"3\": {\"3\": 23, \"101\": 1}, \"54\": {\"54\": 16}, \"9\": {\"9\": 31, \"21\": 1}, \"7\": {\"7\": 34}, \"115\": {\"115\": 12}, \"96\": {\"96\": 18, \"126\": 1, \"69\": 1}, \"102\": {\"102\": 29, \"73\": 1}, \"104\": {\"104\": 15, \"40\": 1}, \"47\": {\"47\": 12}, \"86\": {\"86\": 35, \"71\": 1}, \"103\": {\"103\": 16}, \"8\": {\"8\": 42}, \"14\": {\"14\": 34}, \"39\": {\"39\": 27, \"27\": 1}, \"57\": {\"57\": 11, \"96\": 1}, \"63\": {\"63\": 16}, \"106\": {\"106\": 34, \"30\": 1, \"21\": 1}, \"127\": {\"127\": 42, \"73\": 1, \"21\": 1}, \"51\": {\"51\": 16}, \"27\": {\"27\": 42}, \"5\": {\"5\": 33, \"1\": 1}, \"4\": {\"4\": 38}, \"58\": {\"58\": 12}, \"44\": {\"44\": 36}, \"121\": {\"121\": 31, \"2\": 1}, \"111\": {\"111\": 36}, \"60\": {\"60\": 15, \"34\": 1}, \"53\": {\"53\": 20}, \"62\": {\"62\": 44}, \"77\": {\"77\": 15, \"23\": 1}, \"40\": {\"40\": 41, \"4\": 1}, \"84\": {\"84\": 39, \"113\": 1}, \"73\": {\"73\": 18, \"21\": 2}, \"34\": {\"34\": 31, \"38\": 1}, \"81\": {\"81\": 28}, \"67\": {\"67\": 16}, \"70\": {\"70\": 25, \"82\": 1}, \"113\": {\"113\": 38}, \"75\": {\"75\": 16}, \"13\": {\"13\": 16}, \"0\": {\"0\": 34}, \"114\": {\"114\": 38}, \"109\": {\"109\": 44}, \"23\": {\"23\": 22, \"123\": 1, \"12\": 1}, \"71\": {\"71\": 32}, \"110\": {\"110\": 26}, \"25\": {\"25\": 16}, \"35\": {\"35\": 12}, \"126\": {\"126\": 38}, \"101\": {\"101\": 44}, \"42\": {\"42\": 26}, \"64\": {\"64\": 16}, \"33\": {\"33\": 36}, \"65\": {\"65\": 12}, \"69\": {\"69\": 38}, \"100\": {\"100\": 16}, \"80\": {\"80\": 16}, \"20\": {\"20\": 16}, \"18\": {\"18\": 36}, \"31\": {\"31\": 16}, \"24\": {\"24\": 39, \"113\": 1, \"118\": 1, \"43\": 1}, \"95\": {\"95\": 32}, \"119\": {\"119\": 15, \"122\": 1}, \"49\": {\"49\": 20}, \"61\": {\"61\": 10, \"10\": 1, \"48\": 1}, \"48\": {\"48\": 12}, \"38\": {\"38\": 16}, \"93\": {\"93\": 29, \"87\": 2, \"43\": 1}, \"79\": {\"79\": 12}, \"41\": {\"41\": 16}, \"83\": {\"83\": 23, \"21\": 2, \"113\": 1}, \"122\": {\"122\": 38}, \"1\": {\"1\": 33, \"88\": 1}, \"2\": {\"2\": 31, \"70\": 1}, \"107\": {\"107\": 32, \"68\": 2}, \"99\": {\"99\": 24}}, \"Wisig_2\": {\"67\": {\"67\": 15, \"39\": 1}, \"53\": {\"53\": 14, \"52\": 1, \"24\": 1}, \"7\": {\"7\": 44}, \"90\": {\"90\": 50}, \"30\": {\"30\": 44, \"49\": 1, \"66\": 1, \"36\": 1, \"127\": 1}, \"12\": {\"12\": 43, \"114\": 1}, \"16\": {\"16\": 41, \"27\": 1, \"14\": 1, \"102\": 1, \"122\": 1, \"107\": 1}, \"71\": {\"71\": 42, \"27\": 2, \"107\": 1, \"114\": 1}, \"96\": {\"96\": 20}, \"95\": {\"95\": 34}, \"27\": {\"27\": 42, \"61\": 1, \"36\": 9, \"70\": 1, \"30\": 1}, \"86\": {\"86\": 32}, \"32\": {\"45\": 2, \"32\": 32, \"6\": 1, \"8\": 1}, \"42\": {\"42\": 27, \"122\": 1}, \"14\": {\"14\": 32, \"49\": 1, \"87\": 1, \"118\": 1, \"5\": 1, \"18\": 1, \"24\": 1}, \"74\": {\"74\": 16}, \"97\": {\"97\": 19, \"15\": 1}, \"69\": {\"69\": 46, \"102\": 1, \"24\": 1}, \"25\": {\"25\": 15, \"83\": 1}, \"48\": {\"48\": 20}, \"73\": {\"73\": 28}, \"119\": {\"119\": 20}, \"51\": {\"58\": 1, \"51\": 16, \"109\": 1, \"41\": 1, \"14\": 1}, \"52\": {\"52\": 19, \"29\": 1}, \"35\": {\"35\": 11, \"54\": 1}, \"120\": {\"120\": 20}, \"8\": {\"8\": 45, \"110\": 1}, \"61\": {\"61\": 19, \"110\": 1}, \"59\": {\"59\": 14, \"21\": 2}, \"115\": {\"115\": 8, \"39\": 1, \"24\": 1, \"60\": 1, \"27\": 1}, \"127\": {\"127\": 34}, \"31\": {\"31\": 20}, \"33\": {\"33\": 42}, \"124\": {\"124\": 37, \"27\": 1}, \"58\": {\"58\": 20}, \"89\": {\"89\": 36}, \"62\": {\"62\": 35, \"39\": 1, \"31\": 1, \"110\": 1}, \"91\": {\"91\": 25, \"59\": 1, \"58\": 1, \"52\": 1}, \"104\": {\"104\": 17, \"109\": 1, \"70\": 1, \"71\": 1}, \"64\": {\"64\": 16}, \"63\": {\"63\": 20}, \"5\": {\"5\": 41, \"27\": 1, \"94\": 1, \"121\": 1}, \"92\": {\"92\": 28}, \"2\": {\"2\": 32}, \"109\": {\"109\": 44, \"21\": 1, \"81\": 1}, \"118\": {\"118\": 45, \"61\": 1, \"80\": 1, \"110\": 1}, \"34\": {\"34\": 32}, \"55\": {\"55\": 16}, \"11\": {\"11\": 45, \"117\": 1}, \"70\": {\"70\": 50, \"36\": 1, \"21\": 3}, \"98\": {\"98\": 50}, \"20\": {\"20\": 16}, \"49\": {\"73\": 1, \"109\": 1, \"49\": 20, \"98\": 1, \"42\": 1}, \"28\": {\"28\": 20}, \"22\": {\"22\": 20}, \"87\": {\"87\": 43, \"109\": 1, \"18\": 1, \"43\": 1, \"112\": 1, \"70\": 1}, \"45\": {\"45\": 16}, \"57\": {\"57\": 20}, \"72\": {\"72\": 27, \"70\": 1}, \"77\": {\"77\": 15, \"27\": 1}, \"113\": {\"113\": 37, \"118\": 1}, \"6\": {\"6\": 32}, \"26\": {\"26\": 53, \"61\": 1}, \"44\": {\"44\": 40, \"108\": 2}, \"46\": {\"46\": 15, \"84\": 1}, \"65\": {\"65\": 18, \"70\": 2}, \"84\": {\"84\": 42, \"122\": 1, \"24\": 1}, \"39\": {\"39\": 34, \"24\": 1, \"10\": 1, \"87\": 1, \"69\": 1, \"4\": 1, \"21\": 1}, \"82\": {\"82\": 35, \"21\": 1}, \"108\": {\"108\": 34}, \"21\": {\"53\": 1, \"21\": 36, \"39\": 1, \"118\": 1, \"27\": 1, \"14\": 1, \"61\": 1, \"117\": 1, \"18\": 1, \"24\": 1, \"26\": 1}, \"29\": {\"29\": 32}, \"13\": {\"13\": 15, \"27\": 1}, \"17\": {\"17\": 13, \"53\": 1, \"97\": 2}, \"88\": {\"88\": 37, \"26\": 1, \"23\": 1, \"24\": 1}, \"1\": {\"1\": 36, \"14\": 1, \"118\": 1}, \"112\": {\"112\": 16}, \"24\": {\"24\": 40, \"21\": 1, \"70\": 1}, \"102\": {\"102\": 48}, \"66\": {\"66\": 18, \"26\": 1, \"27\": 1}, \"114\": {\"114\": 43, \"110\": 1}, \"40\": {\"40\": 42, \"42\": 1, \"72\": 1}, \"4\": {\"4\": 49, \"60\": 1}, \"100\": {\"100\": 14, \"45\": 1, \"81\": 1}, \"129\": {\"129\": 32}, \"19\": {\"19\": 28}, \"81\": {\"81\": 21, \"32\": 1, \"107\": 2}, \"125\": {\"125\": 37, \"112\": 1}, \"93\": {\"93\": 51, \"16\": 1}, \"101\": {\"101\": 43, \"9\": 1}, \"3\": {\"3\": 41, \"11\": 1}, \"56\": {\"56\": 12}, \"126\": {\"126\": 42, \"88\": 2}, \"38\": {\"38\": 16}, \"105\": {\"105\": 43, \"94\": 1, \"23\": 1, \"78\": 1}, \"41\": {\"41\": 20}, \"106\": {\"106\": 41, \"70\": 1, \"43\": 1, \"39\": 1}, \"76\": {\"76\": 16}, \"36\": {\"36\": 49, \"84\": 1, \"112\": 1, \"12\": 1, \"110\": 1, \"78\": 1, \"108\": 1, \"27\": 1}, \"78\": {\"95\": 2, \"78\": 32, \"87\": 1, \"70\": 1}, \"99\": {\"99\": 30, \"69\": 1, \"70\": 1}, \"0\": {\"0\": 34}, \"107\": {\"107\": 35, \"23\": 1}, \"111\": {\"111\": 40}, \"68\": {\"68\": 14, \"11\": 1, \"4\": 1}, \"60\": {\"60\": 27, \"116\": 1}, \"15\": {\"24\": 4, \"15\": 36, \"61\": 1, \"82\": 1}, \"50\": {\"36\": 1, \"50\": 14, \"17\": 1}, \"79\": {\"79\": 16}, \"94\": {\"94\": 31, \"70\": 1, \"60\": 1, \"108\": 1, \"24\": 1, \"66\": 1, \"21\": 1, \"117\": 1}, \"128\": {\"128\": 23, \"110\": 1}, \"103\": {\"103\": 16}, \"47\": {\"47\": 11, \"59\": 1}, \"37\": {\"37\": 16}, \"85\": {\"85\": 28, \"73\": 1, \"118\": 1, \"47\": 1, \"36\": 1}, \"121\": {\"121\": 36}, \"54\": {\"54\": 19, \"114\": 1}, \"18\": {\"18\": 41, \"39\": 1}, \"116\": {\"116\": 27, \"110\": 1}, \"122\": {\"122\": 36, \"70\": 4, \"5\": 2}, \"117\": {\"117\": 43, \"36\": 1}, \"10\": {\"10\": 38, \"24\": 1, \"21\": 1}, \"123\": {\"123\": 16}, \"43\": {\"43\": 39, \"61\": 1, \"12\": 1, \"78\": 1}, \"83\": {\"83\": 39, \"118\": 1}, \"23\": {\"23\": 36, \"122\": 1, \"14\": 1}, \"80\": {\"80\": 16}, \"110\": {\"110\": 27, \"18\": 1, \"10\": 2, \"27\": 1, \"128\": 1, \"122\": 1, \"95\": 1}, \"75\": {\"75\": 16}, \"9\": {\"9\": 31, \"102\": 1}}, \"Wisig_3\": {\"96\": {\"96\": 20}, \"11\": {\"11\": 46, \"46\": 1, \"19\": 1}, \"87\": {\"87\": 36}, \"128\": {\"128\": 32}, \"56\": {\"56\": 12}, \"39\": {\"39\": 44}, \"58\": {\"58\": 15, \"53\": 1}, \"15\": {\"15\": 38}, \"70\": {\"70\": 32, \"18\": 2, \"21\": 1, \"122\": 1, \"112\": 1, \"78\": 1}, \"103\": {\"103\": 15, \"73\": 1}, \"77\": {\"77\": 16}, \"85\": {\"85\": 32}, \"59\": {\"59\": 11, \"70\": 1}, \"28\": {\"28\": 15, \"19\": 1}, \"118\": {\"118\": 40}, \"25\": {\"25\": 16}, \"93\": {\"93\": 42}, \"102\": {\"102\": 36}, \"33\": {\"33\": 40, \"80\": 1, \"21\": 1}, \"84\": {\"84\": 32, \"122\": 1, \"120\": 1}, \"119\": {\"119\": 15, \"49\": 1}, \"64\": {\"64\": 20}, \"100\": {\"100\": 16}, \"27\": {\"27\": 32, \"36\": 3, \"24\": 1}, \"107\": {\"107\": 34}, \"76\": {\"76\": 15, \"97\": 1}, \"12\": {\"12\": 48}, \"31\": {\"31\": 20}, \"44\": {\"44\": 42}, \"48\": {\"48\": 15, \"116\": 1}, \"115\": {\"115\": 15, \"30\": 1}, \"0\": {\"0\": 40}, \"116\": {\"116\": 26}, \"24\": {\"24\": 40}, \"81\": {\"81\": 32}, \"122\": {\"122\": 36, \"18\": 2}, \"19\": {\"19\": 32}, \"90\": {\"90\": 36}, \"22\": {\"22\": 16}, \"16\": {\"16\": 37, \"70\": 1}, \"68\": {\"68\": 16}, \"18\": {\"18\": 48, \"113\": 2}, \"120\": {\"120\": 20}, \"127\": {\"127\": 41, \"13\": 1, \"49\": 1, \"18\": 1}, \"35\": {\"35\": 12}, \"45\": {\"45\": 15, \"18\": 1}, \"30\": {\"30\": 37, \"24\": 1, \"59\": 1, \"18\": 1}, \"67\": {\"67\": 15, \"112\": 1}, \"129\": {\"129\": 32}, \"105\": {\"105\": 42}, \"74\": {\"74\": 14, \"57\": 1, \"73\": 1}, \"125\": {\"125\": 34}, \"37\": {\"37\": 16}, \"91\": {\"91\": 24}, \"123\": {\"123\": 16}, \"7\": {\"7\": 32}, \"75\": {\"75\": 16}, \"83\": {\"83\": 23, \"112\": 1}, \"94\": {\"94\": 35, \"17\": 1}, \"104\": {\"104\": 16}, \"92\": {\"92\": 31, \"70\": 1}, \"29\": {\"29\": 32}, \"82\": {\"82\": 27, \"116\": 1}, \"113\": {\"113\": 41, \"11\": 1, \"21\": 1, \"43\": 1}, \"6\": {\"6\": 32}, \"32\": {\"32\": 32}, \"79\": {\"79\": 12}, \"36\": {\"36\": 31, \"24\": 1, \"27\": 1, \"106\": 1}, \"98\": {\"98\": 36}, \"1\": {\"1\": 32, \"61\": 1, \"106\": 1}, \"14\": {\"14\": 42}, \"66\": {\"66\": 16}, \"117\": {\"117\": 36}, \"17\": {\"17\": 8, \"13\": 1, \"33\": 1, \"40\": 2, \"97\": 1, \"21\": 1, \"68\": 1, \"70\": 1}, \"49\": {\"49\": 22, \"112\": 1, \"78\": 1}, \"46\": {\"46\": 16}, \"111\": {\"111\": 34}, \"78\": {\"17\": 1, \"78\": 13, \"18\": 1, \"87\": 1}, \"26\": {\"26\": 41, \"18\": 1}, \"42\": {\"42\": 28}, \"10\": {\"10\": 46}, \"9\": {\"9\": 28, \"30\": 2}, \"55\": {\"55\": 16}, \"38\": {\"38\": 16}, \"63\": {\"63\": 16}, \"106\": {\"106\": 39, \"95\": 1}, \"88\": {\"88\": 35, \"30\": 1}, \"3\": {\"3\": 40}, \"99\": {\"99\": 36}, \"57\": {\"57\": 19, \"74\": 1}, \"8\": {\"8\": 40, \"108\": 1, \"21\": 1}, \"86\": {\"86\": 28}, \"126\": {\"126\": 43, \"39\": 1}, \"5\": {\"5\": 35, \"24\": 1}, \"62\": {\"62\": 42}, \"89\": {\"89\": 28}, \"112\": {\"112\": 14, \"37\": 1, \"43\": 1}, \"61\": {\"61\": 16}, \"13\": {\"13\": 14, \"78\": 1, \"21\": 1}, \"2\": {\"2\": 28}, \"50\": {\"50\": 16}, \"21\": {\"13\": 1, \"21\": 30, \"18\": 3, \"11\": 1, \"70\": 3, \"98\": 1, \"17\": 2, \"78\": 1, \"64\": 1, \"30\": 1}, \"73\": {\"73\": 38}, \"72\": {\"72\": 28}, \"43\": {\"43\": 35, \"21\": 1, \"122\": 1, \"33\": 1, \"87\": 2}, \"110\": {\"110\": 38, \"26\": 1, \"70\": 1}, \"95\": {\"95\": 30}, \"34\": {\"34\": 31, \"77\": 1}, \"41\": {\"41\": 15, \"73\": 1}, \"124\": {\"124\": 41, \"63\": 1}, \"114\": {\"114\": 41, \"122\": 1}, \"65\": {\"65\": 12}, \"121\": {\"121\": 30, \"54\": 1, \"109\": 1}, \"71\": {\"71\": 40}, \"53\": {\"53\": 17, \"20\": 2, \"108\": 1}, \"52\": {\"52\": 16}, \"40\": {\"40\": 32}, \"80\": {\"80\": 12, \"13\": 1, \"73\": 1, \"112\": 1, \"59\": 1}, \"109\": {\"109\": 36}, \"97\": {\"97\": 19, \"42\": 1}, \"20\": {\"20\": 16}, \"101\": {\"101\": 37, \"30\": 1, \"126\": 1, \"97\": 1, \"0\": 2}, \"23\": {\"23\": 28}, \"4\": {\"4\": 38}, \"54\": {\"54\": 14, \"122\": 1, \"114\": 1}, \"108\": {\"108\": 31, \"8\": 1}, \"69\": {\"69\": 33, \"43\": 1}, \"47\": {\"47\": 12}, \"51\": {\"51\": 16}, \"60\": {\"60\": 26}}, \"CORES_5\": {\"8\": {\"8\": 20}, \"12\": {\"12\": 20}, \"52\": {\"52\": 20}, \"16\": {\"16\": 20}, \"30\": {\"30\": 20}, \"26\": {\"26\": 20}, \"22\": {\"22\": 20}, \"49\": {\"49\": 20}, \"3\": {\"3\": 18, \"22\": 1, \"46\": 1}, \"6\": {\"6\": 16, \"20\": 2, \"21\": 1, \"17\": 1}, \"45\": {\"45\": 18, \"6\": 1, \"53\": 1}, \"37\": {\"37\": 20}, \"7\": {\"7\": 20}, \"33\": {\"33\": 20}, \"21\": {\"21\": 20}, \"10\": {\"10\": 20}, \"54\": {\"54\": 19, \"39\": 1}, \"41\": {\"41\": 20}, \"34\": {\"34\": 19, \"31\": 1}, \"55\": {\"55\": 19, \"21\": 1}, \"23\": {\"23\": 20}, \"43\": {\"43\": 20}, \"2\": {\"2\": 20}, \"11\": {\"11\": 18, \"15\": 2}, \"18\": {\"18\": 20}, \"1\": {\"1\": 20}, \"17\": {\"17\": 20}, \"35\": {\"35\": 20}, \"39\": {\"39\": 20}, \"28\": {\"28\": 20}, \"42\": {\"42\": 18, \"33\": 2}, \"36\": {\"36\": 19, \"33\": 1}, \"56\": {\"56\": 20}, \"38\": {\"38\": 20}, \"44\": {\"44\": 20}, \"19\": {\"19\": 20}, \"5\": {\"5\": 20}, \"57\": {\"57\": 20}, \"47\": {\"47\": 20}, \"24\": {\"24\": 19, \"16\": 1}, \"50\": {\"50\": 19, \"9\": 1}, \"53\": {\"53\": 20}, \"15\": {\"15\": 18, \"11\": 2}, \"31\": {\"31\": 20}, \"48\": {\"48\": 20}, \"40\": {\"40\": 17, \"5\": 2, \"33\": 1}, \"32\": {\"32\": 20}, \"46\": {\"46\": 20}, \"9\": {\"9\": 20}, \"4\": {\"4\": 20}, \"0\": {\"0\": 20}, \"51\": {\"51\": 20}, \"13\": {\"13\": 20}, \"20\": {\"20\": 19, \"6\": 1}, \"27\": {\"27\": 20}, \"14\": {\"5\": 7, \"14\": 7, \"54\": 6}, \"29\": {\"29\": 20}, \"25\": {\"25\": 20}}, \"CORES_1\": {\"10\": {\"10\": 24}, \"30\": {\"30\": 24}, \"38\": {\"38\": 24}, \"0\": {\"0\": 24}, \"9\": {\"9\": 23, \"18\": 1}, \"44\": {\"44\": 21, \"32\": 1, \"57\": 2}, \"35\": {\"35\": 24}, \"19\": {\"19\": 22, \"29\": 1, \"57\": 1}, \"4\": {\"4\": 23, \"9\": 1}, \"57\": {\"57\": 24}, \"12\": {\"12\": 24}, \"47\": {\"47\": 24}, \"16\": {\"16\": 24}, \"2\": {\"2\": 24}, \"36\": {\"36\": 24}, \"25\": {\"25\": 24}, \"54\": {\"54\": 24}, \"14\": {\"14\": 12, \"30\": 10, \"6\": 2}, \"24\": {\"24\": 24}, \"27\": {\"27\": 24}, \"48\": {\"48\": 24}, \"50\": {\"50\": 24}, \"51\": {\"51\": 24}, \"29\": {\"29\": 20, \"19\": 4}, \"17\": {\"17\": 24}, \"55\": {\"55\": 24}, \"32\": {\"32\": 24}, \"41\": {\"41\": 24}, \"33\": {\"33\": 24}, \"15\": {\"15\": 24}, \"31\": {\"31\": 24}, \"8\": {\"8\": 24}, \"28\": {\"28\": 24}, \"22\": {\"22\": 23, \"24\": 1}, \"43\": {\"43\": 24}, \"49\": {\"49\": 24}, \"52\": {\"52\": 24}, \"18\": {\"18\": 21, \"9\": 3}, \"40\": {\"40\": 24}, \"34\": {\"34\": 24}, \"45\": {\"45\": 24}, \"42\": {\"42\": 23, \"38\": 1}, \"7\": {\"7\": 24}, \"5\": {\"5\": 24}, \"56\": {\"56\": 24}, \"23\": {\"23\": 24}, \"46\": {\"46\": 23, \"48\": 1}, \"1\": {\"1\": 24}, \"20\": {\"20\": 24}, \"6\": {\"6\": 23, \"46\": 1}, \"26\": {\"26\": 24}, \"11\": {\"11\": 24}, \"39\": {\"39\": 24}, \"21\": {\"21\": 24}, \"3\": {\"3\": 24}, \"13\": {\"13\": 24}, \"37\": {\"37\": 24}, \"53\": {\"53\": 24}}, \"CORES_3\": {\"12\": {\"12\": 16}, \"8\": {\"8\": 16}, \"56\": {\"56\": 16}, \"53\": {\"53\": 16}, \"41\": {\"41\": 16}, \"51\": {\"51\": 16}, \"39\": {\"39\": 16}, \"46\": {\"46\": 15, \"15\": 1}, \"36\": {\"36\": 14, \"32\": 2}, \"11\": {\"11\": 16}, \"10\": {\"10\": 16}, \"48\": {\"48\": 16}, \"22\": {\"22\": 16}, \"21\": {\"21\": 16}, \"40\": {\"40\": 16}, \"47\": {\"47\": 15, \"18\": 1}, \"23\": {\"23\": 16}, \"45\": {\"45\": 14, \"17\": 1, \"53\": 1}, \"44\": {\"44\": 16}, \"7\": {\"7\": 16}, \"1\": {\"1\": 16}, \"16\": {\"16\": 16}, \"17\": {\"17\": 16}, \"55\": {\"55\": 16}, \"9\": {\"9\": 16}, \"6\": {\"17\": 2, \"6\": 13, \"11\": 1}, \"52\": {\"52\": 16}, \"43\": {\"43\": 16}, \"54\": {\"54\": 16}, \"0\": {\"0\": 16}, \"26\": {\"26\": 16}, \"35\": {\"35\": 16}, \"28\": {\"28\": 16}, \"15\": {\"15\": 14, \"48\": 1, \"16\": 1}, \"57\": {\"57\": 15, \"0\": 1}, \"30\": {\"30\": 16}, \"2\": {\"2\": 16}, \"13\": {\"13\": 16}, \"31\": {\"31\": 16}, \"32\": {\"32\": 16}, \"19\": {\"19\": 16}, \"34\": {\"34\": 16}, \"38\": {\"38\": 16}, \"37\": {\"37\": 16}, \"5\": {\"5\": 16}, \"18\": {\"18\": 16}, \"3\": {\"3\": 15, \"32\": 1}, \"25\": {\"25\": 16}, \"24\": {\"24\": 16}, \"27\": {\"27\": 16}, \"29\": {\"29\": 16}, \"4\": {\"4\": 16}, \"14\": {\"28\": 6, \"43\": 1, \"14\": 8, \"5\": 1}, \"33\": {\"33\": 16}, \"50\": {\"50\": 14, \"45\": 2}, \"49\": {\"49\": 16}, \"42\": {\"42\": 16}, \"20\": {\"20\": 16}}, \"CORES_4\": {\"40\": {\"40\": 16}, \"12\": {\"12\": 16}, \"30\": {\"30\": 16}, \"35\": {\"35\": 16}, \"18\": {\"18\": 16}, \"27\": {\"27\": 16}, \"33\": {\"33\": 16}, \"21\": {\"21\": 16}, \"54\": {\"54\": 16}, \"41\": {\"41\": 16}, \"44\": {\"44\": 16}, \"32\": {\"32\": 16}, \"45\": {\"45\": 16}, \"49\": {\"49\": 16}, \"16\": {\"16\": 16}, \"51\": {\"51\": 16}, \"9\": {\"9\": 16}, \"39\": {\"39\": 15, \"54\": 1}, \"1\": {\"1\": 16}, \"47\": {\"47\": 16}, \"31\": {\"31\": 16}, \"8\": {\"8\": 16}, \"17\": {\"17\": 16}, \"25\": {\"25\": 16}, \"11\": {\"11\": 16}, \"2\": {\"2\": 16}, \"19\": {\"19\": 16}, \"57\": {\"57\": 16}, \"6\": {\"6\": 16}, \"14\": {\"14\": 6, \"29\": 1, \"40\": 2, \"32\": 1, \"38\": 3, \"37\": 1, \"44\": 2}, \"42\": {\"42\": 16}, \"7\": {\"7\": 16}, \"34\": {\"34\": 16}, \"5\": {\"16\": 1, \"5\": 15}, \"20\": {\"20\": 16}, \"53\": {\"53\": 16}, \"24\": {\"24\": 16}, \"43\": {\"43\": 16}, \"50\": {\"50\": 14, \"17\": 1, \"18\": 1}, \"23\": {\"23\": 16}, \"26\": {\"26\": 16}, \"0\": {\"0\": 16}, \"13\": {\"13\": 16}, \"52\": {\"52\": 16}, \"29\": {\"29\": 12, \"44\": 4}, \"55\": {\"55\": 14, \"23\": 1, \"16\": 1}, \"48\": {\"20\": 1, \"48\": 15}, \"4\": {\"4\": 16}, \"38\": {\"38\": 16}, \"46\": {\"46\": 11, \"16\": 1, \"15\": 3, \"3\": 1}, \"3\": {\"3\": 13, \"50\": 2, \"17\": 1}, \"36\": {\"36\": 16}, \"10\": {\"10\": 16}, \"56\": {\"56\": 16}, \"37\": {\"37\": 16}, \"15\": {\"15\": 14, \"11\": 1, \"46\": 1}, \"28\": {\"28\": 16}, \"22\": {\"22\": 16}}, \"CORES_2\": {\"13\": {\"13\": 20}, \"28\": {\"28\": 20}, \"32\": {\"32\": 20}, \"26\": {\"26\": 20}, \"24\": {\"24\": 20}, \"6\": {\"6\": 20}, \"51\": {\"51\": 20}, \"23\": {\"23\": 20}, \"37\": {\"37\": 20}, \"10\": {\"10\": 20}, \"25\": {\"25\": 20}, \"27\": {\"27\": 20}, \"19\": {\"19\": 20}, \"21\": {\"21\": 20}, \"50\": {\"50\": 20}, \"3\": {\"3\": 20}, \"40\": {\"40\": 19, \"32\": 1}, \"15\": {\"15\": 20}, \"5\": {\"5\": 20}, \"41\": {\"41\": 20}, \"46\": {\"46\": 17, \"6\": 1, \"11\": 1, \"15\": 1}, \"7\": {\"7\": 20}, \"16\": {\"16\": 20}, \"30\": {\"30\": 20}, \"22\": {\"22\": 20}, \"33\": {\"33\": 20}, \"45\": {\"45\": 17, \"53\": 2, \"17\": 1}, \"47\": {\"47\": 20}, \"57\": {\"57\": 20}, \"29\": {\"29\": 20}, \"38\": {\"38\": 20}, \"14\": {\"14\": 13, \"43\": 5, \"47\": 2}, \"20\": {\"20\": 20}, \"42\": {\"42\": 17, \"47\": 2, \"14\": 1}, \"54\": {\"54\": 20}, \"36\": {\"36\": 20}, \"1\": {\"1\": 19, \"15\": 1}, \"8\": {\"8\": 20}, \"49\": {\"49\": 20}, \"4\": {\"4\": 20}, \"2\": {\"2\": 20}, \"31\": {\"31\": 20}, \"0\": {\"0\": 20}, \"11\": {\"11\": 20}, \"9\": {\"9\": 19, \"32\": 1}, \"43\": {\"43\": 20}, \"55\": {\"55\": 20}, \"56\": {\"56\": 20}, \"12\": {\"12\": 20}, \"52\": {\"52\": 20}, \"39\": {\"39\": 20}, \"35\": {\"35\": 20}, \"17\": {\"17\": 20}, \"34\": {\"34\": 20}, \"53\": {\"53\": 20}, \"44\": {\"44\": 20}, \"48\": {\"48\": 19, \"46\": 1}, \"18\": {\"18\": 20}}}, \"per_domain_accuracy\": {\"Wisig_4\": {\"accuracy\": 0.9493882091212458, \"source?\": true}, \"Wisig_1\": {\"accuracy\": 0.9735632183908046, \"source?\": true}, \"Wisig_2\": {\"accuracy\": 0.9467980295566503, \"source?\": true}, \"Wisig_3\": {\"accuracy\": 0.9671336206896551, \"source?\": true}, \"CORES_5\": {\"accuracy\": 0.968103448275862, \"source?\": false}, \"CORES_1\": {\"accuracy\": 0.978448275862069, \"source?\": false}, \"CORES_3\": {\"accuracy\": 0.9752155172413793, \"source?\": false}, \"CORES_4\": {\"accuracy\": 0.9665948275862069, \"source?\": false}, \"CORES_2\": {\"accuracy\": 0.9827586206896551, \"source?\": false}}}, \"history\": {\"epoch_indices\": [1, 2, 3], \"train_label_loss\": [0.5615685029433725, 0.24935913948935973, 0.19487806275107064], \"source_val_label_loss\": [0.32305029034614563, 0.2470322698354721, 0.22664670646190643], \"target_val_label_loss\": [0.2176608294248581, 0.18784861266613007, 0.1795046031475067], \"source_val_acc_label\": [0.9386449353448276, 0.9576373922413793, 0.9587823275862069], \"target_val_acc_label\": [0.9716235632183908, 0.9709051724137931, 0.974676724137931]}, \"dataset_metrics\": {\"source\": {\"train\": {\"n_unique_x\": 141820, \"n_unique_y\": 130, \"n_batch/episode\": 920}, \"val\": {\"n_unique_x\": 26024, \"n_unique_y\": 130, \"n_batch/episode\": 128}, \"test\": {\"n_unique_x\": 26933, \"n_unique_y\": 130, \"n_batch/episode\": 133}}, \"target\": {\"train\": {\"n_unique_x\": 75938, \"n_unique_y\": 58, \"n_batch/episode\": 351}, \"val\": {\"n_unique_x\": 11798, \"n_unique_y\": 58, \"n_batch/episode\": 48}, \"test\": {\"n_unique_x\": 12331, \"n_unique_y\": 58, \"n_batch/episode\": 50}}}}'"
      ]
     },
     "execution_count": 29,
     "metadata": {},
     "output_type": "execute_result"
    }
   ],
   "source": [
    "json.dumps(experiment)"
   ]
  }
 ],
 "metadata": {
  "celltoolbar": "Tags",
  "kernelspec": {
   "display_name": "Python 3 (ipykernel)",
   "language": "python",
   "name": "python3"
  },
  "language_info": {
   "codemirror_mode": {
    "name": "ipython",
    "version": 3
   },
   "file_extension": ".py",
   "mimetype": "text/x-python",
   "name": "python",
   "nbconvert_exporter": "python",
   "pygments_lexer": "ipython3",
   "version": "3.8.12"
  },
  "papermill": {
   "default_parameters": {},
   "duration": 354.274644,
   "end_time": "2022-03-21T03:46:34.626607",
   "environment_variables": {},
   "exception": null,
   "input_path": "/root/csc500-main/csc500-notebooks/templates/tl_ptn_template.ipynb",
   "output_path": "trial.ipynb",
   "parameters": {
    "parameters": {
     "BEST_MODEL_PATH": "./best_model.pth",
     "NUM_LOGS_PER_EPOCH": 10,
     "criteria_for_best": "target_accuracy",
     "dataset_seed": 7,
     "datasets": [
      {
       "domain_prefix": "CORES_",
       "domains": [
        1,
        2,
        3,
        4,
        5
       ],
       "episode_transforms": [],
       "labels": [
        "1-10.",
        "1-11.",
        "1-15.",
        "1-16.",
        "1-17.",
        "1-18.",
        "1-19.",
        "10-4.",
        "10-7.",
        "11-1.",
        "11-14.",
        "11-17.",
        "11-20.",
        "11-7.",
        "13-20.",
        "13-8.",
        "14-10.",
        "14-11.",
        "14-14.",
        "14-7.",
        "15-1.",
        "15-20.",
        "16-1.",
        "16-16.",
        "17-10.",
        "17-11.",
        "17-2.",
        "19-1.",
        "19-16.",
        "19-19.",
        "19-20.",
        "19-3.",
        "2-10.",
        "2-11.",
        "2-17.",
        "2-18.",
        "2-20.",
        "2-3.",
        "2-4.",
        "2-5.",
        "2-6.",
        "2-7.",
        "2-8.",
        "3-13.",
        "3-18.",
        "3-3.",
        "4-1.",
        "4-10.",
        "4-11.",
        "4-19.",
        "5-5.",
        "6-15.",
        "7-10.",
        "7-14.",
        "8-18.",
        "8-20.",
        "8-3.",
        "8-8."
       ],
       "num_examples_per_domain_per_label": -1,
       "pickle_path": "/root/csc500-main/datasets/cores.stratified_ds.2022A.pkl",
       "source_or_target_dataset": "target",
       "x_transforms": [
        "unit_power"
       ]
      },
      {
       "domain_prefix": "Wisig_",
       "domains": [
        1,
        2,
        3,
        4
       ],
       "episode_transforms": [],
       "labels": [
        "1-10",
        "1-12",
        "1-14",
        "1-16",
        "1-18",
        "1-19",
        "1-8",
        "10-11",
        "10-17",
        "10-4",
        "10-7",
        "11-1",
        "11-10",
        "11-19",
        "11-20",
        "11-4",
        "11-7",
        "12-19",
        "12-20",
        "12-7",
        "13-14",
        "13-18",
        "13-19",
        "13-20",
        "13-3",
        "13-7",
        "14-10",
        "14-11",
        "14-12",
        "14-13",
        "14-14",
        "14-19",
        "14-20",
        "14-7",
        "14-8",
        "14-9",
        "15-1",
        "15-19",
        "15-6",
        "16-1",
        "16-16",
        "16-19",
        "16-20",
        "17-10",
        "17-11",
        "18-1",
        "18-10",
        "18-11",
        "18-12",
        "18-13",
        "18-14",
        "18-15",
        "18-16",
        "18-17",
        "18-19",
        "18-2",
        "18-20",
        "18-4",
        "18-5",
        "18-7",
        "18-8",
        "18-9",
        "19-1",
        "19-10",
        "19-11",
        "19-12",
        "19-13",
        "19-14",
        "19-15",
        "19-19",
        "19-2",
        "19-20",
        "19-3",
        "19-4",
        "19-6",
        "19-7",
        "19-8",
        "19-9",
        "2-1",
        "2-13",
        "2-15",
        "2-3",
        "2-4",
        "2-5",
        "2-6",
        "2-7",
        "2-8",
        "20-1",
        "20-12",
        "20-14",
        "20-15",
        "20-16",
        "20-18",
        "20-19",
        "20-20",
        "20-3",
        "20-4",
        "20-5",
        "20-7",
        "20-8",
        "3-1",
        "3-13",
        "3-18",
        "3-2",
        "3-8",
        "4-1",
        "4-10",
        "4-11",
        "5-1",
        "5-5",
        "6-1",
        "6-15",
        "6-6",
        "7-10",
        "7-11",
        "7-12",
        "7-13",
        "7-14",
        "7-7",
        "7-8",
        "7-9",
        "8-1",
        "8-13",
        "8-14",
        "8-18",
        "8-20",
        "8-3",
        "8-8",
        "9-1",
        "9-7"
       ],
       "num_examples_per_domain_per_label": -1,
       "pickle_path": "/root/csc500-main/datasets/wisig.node3-19.stratified_ds.2022A.pkl",
       "source_or_target_dataset": "source",
       "x_transforms": [
        "unit_power"
       ]
      }
     ],
     "device": "cuda",
     "experiment_name": "tl_1v2:cores-wisig",
     "lr": 0.0001,
     "n_epoch": 3,
     "n_query": 2,
     "n_shot": 3,
     "n_way": 58,
     "patience": 3,
     "seed": 7,
     "test_k_factor": 2,
     "torch_default_dtype": "torch.float32",
     "train_k_factor": 3,
     "val_k_factor": 2,
     "x_net": [
      {
       "class": "nnReshape",
       "kargs": {
        "shape": [
         -1,
         1,
         2,
         256
        ]
       }
      },
      {
       "class": "Conv2d",
       "kargs": {
        "bias": false,
        "in_channels": 1,
        "kernel_size": [
         1,
         7
        ],
        "out_channels": 256,
        "padding": [
         0,
         3
        ]
       }
      },
      {
       "class": "ReLU",
       "kargs": {
        "inplace": true
       }
      },
      {
       "class": "BatchNorm2d",
       "kargs": {
        "num_features": 256
       }
      },
      {
       "class": "Conv2d",
       "kargs": {
        "bias": true,
        "in_channels": 256,
        "kernel_size": [
         2,
         7
        ],
        "out_channels": 80,
        "padding": [
         0,
         3
        ]
       }
      },
      {
       "class": "ReLU",
       "kargs": {
        "inplace": true
       }
      },
      {
       "class": "BatchNorm2d",
       "kargs": {
        "num_features": 80
       }
      },
      {
       "class": "Flatten",
       "kargs": {}
      },
      {
       "class": "Linear",
       "kargs": {
        "in_features": 20480,
        "out_features": 256
       }
      },
      {
       "class": "ReLU",
       "kargs": {
        "inplace": true
       }
      },
      {
       "class": "BatchNorm1d",
       "kargs": {
        "num_features": 256
       }
      },
      {
       "class": "Linear",
       "kargs": {
        "in_features": 256,
        "out_features": 256
       }
      }
     ]
    }
   },
   "start_time": "2022-03-21T03:40:40.351963",
   "version": "2.3.4"
  }
 },
 "nbformat": 4,
 "nbformat_minor": 5
}