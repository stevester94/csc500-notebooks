{
 "cells": [
  {
   "cell_type": "markdown",
   "id": "9fea5f46",
   "metadata": {
    "papermill": {
     "duration": 0.027617,
     "end_time": "2022-03-21T02:06:55.859042",
     "exception": false,
     "start_time": "2022-03-21T02:06:55.831425",
     "status": "completed"
    },
    "tags": []
   },
   "source": [
    "# Transfer Learning Template"
   ]
  },
  {
   "cell_type": "code",
   "execution_count": 1,
   "id": "0902182a",
   "metadata": {
    "execution": {
     "iopub.execute_input": "2022-03-21T02:06:55.921002Z",
     "iopub.status.busy": "2022-03-21T02:06:55.914956Z",
     "iopub.status.idle": "2022-03-21T02:06:58.476945Z",
     "shell.execute_reply": "2022-03-21T02:06:58.476110Z"
    },
    "papermill": {
     "duration": 2.594789,
     "end_time": "2022-03-21T02:06:58.477139",
     "exception": false,
     "start_time": "2022-03-21T02:06:55.882350",
     "status": "completed"
    },
    "tags": []
   },
   "outputs": [],
   "source": [
    "%load_ext autoreload\n",
    "%autoreload 2\n",
    "%matplotlib inline\n",
    "\n",
    "    \n",
    "import os, json, sys, time, random\n",
    "import numpy as np\n",
    "import torch\n",
    "from torch.optim import Adam\n",
    "from  easydict import EasyDict\n",
    "import matplotlib.pyplot as plt\n",
    "\n",
    "from steves_models.steves_ptn import Steves_Prototypical_Network\n",
    "\n",
    "from steves_utils.lazy_iterable_wrapper import Lazy_Iterable_Wrapper\n",
    "from steves_utils.iterable_aggregator import Iterable_Aggregator\n",
    "from steves_utils.ptn_train_eval_test_jig import  PTN_Train_Eval_Test_Jig\n",
    "from steves_utils.torch_sequential_builder import build_sequential\n",
    "from steves_utils.torch_utils import get_dataset_metrics, ptn_confusion_by_domain_over_dataloader\n",
    "from steves_utils.utils_v2 import (per_domain_accuracy_from_confusion, get_datasets_base_path)\n",
    "from steves_utils.PTN.utils import independent_accuracy_assesment\n",
    "\n",
    "from torch.utils.data import DataLoader\n",
    "\n",
    "from steves_utils.stratified_dataset.episodic_accessor import Episodic_Accessor_Factory\n",
    "\n",
    "from steves_utils.ptn_do_report import (\n",
    "    get_loss_curve,\n",
    "    get_results_table,\n",
    "    get_parameters_table,\n",
    "    get_domain_accuracies,\n",
    ")\n",
    "\n",
    "from steves_utils.transforms import get_chained_transform"
   ]
  },
  {
   "cell_type": "markdown",
   "id": "41c840b4",
   "metadata": {
    "papermill": {
     "duration": 0.019525,
     "end_time": "2022-03-21T02:06:58.520611",
     "exception": false,
     "start_time": "2022-03-21T02:06:58.501086",
     "status": "completed"
    },
    "tags": []
   },
   "source": [
    "# Allowed Parameters\n",
    "These are allowed parameters, not defaults\n",
    "Each of these values need to be present in the injected parameters (the notebook will raise an exception if they are not present)\n",
    "\n",
    "Papermill uses the cell tag \"parameters\" to inject the real parameters below this cell.\n",
    "Enable tags to see what I mean"
   ]
  },
  {
   "cell_type": "code",
   "execution_count": 2,
   "id": "fd44eb83",
   "metadata": {
    "execution": {
     "iopub.execute_input": "2022-03-21T02:06:58.565533Z",
     "iopub.status.busy": "2022-03-21T02:06:58.564909Z",
     "iopub.status.idle": "2022-03-21T02:06:58.588711Z",
     "shell.execute_reply": "2022-03-21T02:06:58.587862Z"
    },
    "papermill": {
     "duration": 0.048668,
     "end_time": "2022-03-21T02:06:58.588865",
     "exception": false,
     "start_time": "2022-03-21T02:06:58.540197",
     "status": "completed"
    },
    "tags": []
   },
   "outputs": [],
   "source": [
    "required_parameters = {\n",
    "    \"experiment_name\",\n",
    "    \"lr\",\n",
    "    \"device\",\n",
    "    \"seed\",\n",
    "    \"dataset_seed\",\n",
    "    \"n_shot\",\n",
    "    \"n_query\",\n",
    "    \"n_way\",\n",
    "    \"train_k_factor\",\n",
    "    \"val_k_factor\",\n",
    "    \"test_k_factor\",\n",
    "    \"n_epoch\",\n",
    "    \"patience\",\n",
    "    \"criteria_for_best\",\n",
    "    \"x_net\",\n",
    "    \"datasets\",\n",
    "    \"torch_default_dtype\",\n",
    "    \"NUM_LOGS_PER_EPOCH\",\n",
    "    \"BEST_MODEL_PATH\",\n",
    "    \"x_shape\",\n",
    "}"
   ]
  },
  {
   "cell_type": "code",
   "execution_count": 3,
   "id": "fa3f0049",
   "metadata": {
    "execution": {
     "iopub.execute_input": "2022-03-21T02:06:58.652665Z",
     "iopub.status.busy": "2022-03-21T02:06:58.651742Z",
     "iopub.status.idle": "2022-03-21T02:06:58.674191Z",
     "shell.execute_reply": "2022-03-21T02:06:58.673390Z"
    },
    "papermill": {
     "duration": 0.057415,
     "end_time": "2022-03-21T02:06:58.674344",
     "exception": false,
     "start_time": "2022-03-21T02:06:58.616929",
     "status": "completed"
    },
    "tags": [
     "parameters"
    ]
   },
   "outputs": [],
   "source": [
    "from steves_utils.CORES.utils import (\n",
    "    ALL_NODES,\n",
    "    ALL_NODES_MINIMUM_1000_EXAMPLES,\n",
    "    ALL_DAYS\n",
    ")\n",
    "\n",
    "from steves_utils.ORACLE.utils_v2 import (\n",
    "    ALL_DISTANCES_FEET_NARROWED,\n",
    "    ALL_RUNS,\n",
    "    ALL_SERIAL_NUMBERS,\n",
    ")\n",
    "\n",
    "standalone_parameters = {}\n",
    "standalone_parameters[\"experiment_name\"] = \"STANDALONE PTN\"\n",
    "standalone_parameters[\"lr\"] = 0.001\n",
    "standalone_parameters[\"device\"] = \"cuda\"\n",
    "\n",
    "standalone_parameters[\"seed\"] = 1337\n",
    "standalone_parameters[\"dataset_seed\"] = 1337\n",
    "\n",
    "standalone_parameters[\"n_way\"] = 8\n",
    "standalone_parameters[\"n_shot\"] = 3\n",
    "standalone_parameters[\"n_query\"]  = 2\n",
    "standalone_parameters[\"train_k_factor\"] = 1\n",
    "standalone_parameters[\"val_k_factor\"] = 2\n",
    "standalone_parameters[\"test_k_factor\"] = 2\n",
    "\n",
    "\n",
    "standalone_parameters[\"n_epoch\"] = 50\n",
    "\n",
    "standalone_parameters[\"patience\"] = 10\n",
    "standalone_parameters[\"criteria_for_best\"] = \"source_loss\"\n",
    "\n",
    "standalone_parameters[\"datasets\"] = [\n",
    "    {\n",
    "        \"labels\": ALL_SERIAL_NUMBERS,\n",
    "        \"domains\": ALL_DISTANCES_FEET_NARROWED,\n",
    "        \"num_examples_per_domain_per_label\": 100,\n",
    "        \"pickle_path\": os.path.join(get_datasets_base_path(), \"oracle.Run1_framed_2000Examples_stratified_ds.2022A.pkl\"),\n",
    "        \"source_or_target_dataset\": \"source\",\n",
    "        \"x_transforms\": [\"unit_mag\", \"minus_two\"],\n",
    "        \"episode_transforms\": [],\n",
    "        \"domain_prefix\": \"ORACLE_\"\n",
    "    },\n",
    "    {\n",
    "        \"labels\": ALL_NODES,\n",
    "        \"domains\": ALL_DAYS,\n",
    "        \"num_examples_per_domain_per_label\": 100,\n",
    "        \"pickle_path\": os.path.join(get_datasets_base_path(), \"cores.stratified_ds.2022A.pkl\"),\n",
    "        \"source_or_target_dataset\": \"target\",\n",
    "        \"x_transforms\": [\"unit_power\", \"times_zero\"],\n",
    "        \"episode_transforms\": [],\n",
    "        \"domain_prefix\": \"CORES_\"\n",
    "    }   \n",
    "]\n",
    "\n",
    "standalone_parameters[\"torch_default_dtype\"] = \"torch.float32\" \n",
    "\n",
    "\n",
    "\n",
    "standalone_parameters[\"x_net\"] =     [\n",
    "    {\"class\": \"nnReshape\", \"kargs\": {\"shape\":[-1, 1, 2, 256]}},\n",
    "    {\"class\": \"Conv2d\", \"kargs\": { \"in_channels\":1, \"out_channels\":256, \"kernel_size\":(1,7), \"bias\":False, \"padding\":(0,3), },},\n",
    "    {\"class\": \"ReLU\", \"kargs\": {\"inplace\": True}},\n",
    "    {\"class\": \"BatchNorm2d\", \"kargs\": {\"num_features\":256}},\n",
    "\n",
    "    {\"class\": \"Conv2d\", \"kargs\": { \"in_channels\":256, \"out_channels\":80, \"kernel_size\":(2,7), \"bias\":True, \"padding\":(0,3), },},\n",
    "    {\"class\": \"ReLU\", \"kargs\": {\"inplace\": True}},\n",
    "    {\"class\": \"BatchNorm2d\", \"kargs\": {\"num_features\":80}},\n",
    "    {\"class\": \"Flatten\", \"kargs\": {}},\n",
    "\n",
    "    {\"class\": \"Linear\", \"kargs\": {\"in_features\": 80*256, \"out_features\": 256}}, # 80 units per IQ pair\n",
    "    {\"class\": \"ReLU\", \"kargs\": {\"inplace\": True}},\n",
    "    {\"class\": \"BatchNorm1d\", \"kargs\": {\"num_features\":256}},\n",
    "\n",
    "    {\"class\": \"Linear\", \"kargs\": {\"in_features\": 256, \"out_features\": 256}},\n",
    "]\n",
    "\n",
    "# Parameters relevant to results\n",
    "# These parameters will basically never need to change\n",
    "standalone_parameters[\"NUM_LOGS_PER_EPOCH\"] = 10\n",
    "standalone_parameters[\"BEST_MODEL_PATH\"] = \"./best_model.pth\"\n",
    "\n",
    "\n",
    "\n",
    "\n"
   ]
  },
  {
   "cell_type": "code",
   "execution_count": 4,
   "id": "50ed35c3",
   "metadata": {
    "execution": {
     "iopub.execute_input": "2022-03-21T02:06:58.746203Z",
     "iopub.status.busy": "2022-03-21T02:06:58.733825Z",
     "iopub.status.idle": "2022-03-21T02:06:58.775844Z",
     "shell.execute_reply": "2022-03-21T02:06:58.775108Z"
    },
    "papermill": {
     "duration": 0.076413,
     "end_time": "2022-03-21T02:06:58.775996",
     "exception": false,
     "start_time": "2022-03-21T02:06:58.699583",
     "status": "completed"
    },
    "tags": [
     "injected-parameters"
    ]
   },
   "outputs": [],
   "source": [
    "# Parameters\n",
    "parameters = {\n",
    "    \"experiment_name\": \"tl_1v2:cores-wisig\",\n",
    "    \"device\": \"cuda\",\n",
    "    \"lr\": 0.0001,\n",
    "    \"n_shot\": 3,\n",
    "    \"n_query\": 2,\n",
    "    \"train_k_factor\": 3,\n",
    "    \"val_k_factor\": 2,\n",
    "    \"test_k_factor\": 2,\n",
    "    \"torch_default_dtype\": \"torch.float32\",\n",
    "    \"n_epoch\": 3,\n",
    "    \"patience\": 3,\n",
    "    \"criteria_for_best\": \"target_accuracy\",\n",
    "    \"x_net\": [\n",
    "        {\"class\": \"nnReshape\", \"kargs\": {\"shape\": [-1, 1, 2, 256]}},\n",
    "        {\n",
    "            \"class\": \"Conv2d\",\n",
    "            \"kargs\": {\n",
    "                \"in_channels\": 1,\n",
    "                \"out_channels\": 256,\n",
    "                \"kernel_size\": [1, 7],\n",
    "                \"bias\": False,\n",
    "                \"padding\": [0, 3],\n",
    "            },\n",
    "        },\n",
    "        {\"class\": \"ReLU\", \"kargs\": {\"inplace\": True}},\n",
    "        {\"class\": \"BatchNorm2d\", \"kargs\": {\"num_features\": 256}},\n",
    "        {\n",
    "            \"class\": \"Conv2d\",\n",
    "            \"kargs\": {\n",
    "                \"in_channels\": 256,\n",
    "                \"out_channels\": 80,\n",
    "                \"kernel_size\": [2, 7],\n",
    "                \"bias\": True,\n",
    "                \"padding\": [0, 3],\n",
    "            },\n",
    "        },\n",
    "        {\"class\": \"ReLU\", \"kargs\": {\"inplace\": True}},\n",
    "        {\"class\": \"BatchNorm2d\", \"kargs\": {\"num_features\": 80}},\n",
    "        {\"class\": \"Flatten\", \"kargs\": {}},\n",
    "        {\"class\": \"Linear\", \"kargs\": {\"in_features\": 20480, \"out_features\": 256}},\n",
    "        {\"class\": \"ReLU\", \"kargs\": {\"inplace\": True}},\n",
    "        {\"class\": \"BatchNorm1d\", \"kargs\": {\"num_features\": 256}},\n",
    "        {\"class\": \"Linear\", \"kargs\": {\"in_features\": 256, \"out_features\": 256}},\n",
    "    ],\n",
    "    \"NUM_LOGS_PER_EPOCH\": 10,\n",
    "    \"BEST_MODEL_PATH\": \"./best_model.pth\",\n",
    "    \"n_way\": 58,\n",
    "    \"datasets\": [\n",
    "        {\n",
    "            \"labels\": [\n",
    "                \"1-10.\",\n",
    "                \"1-11.\",\n",
    "                \"1-15.\",\n",
    "                \"1-16.\",\n",
    "                \"1-17.\",\n",
    "                \"1-18.\",\n",
    "                \"1-19.\",\n",
    "                \"10-4.\",\n",
    "                \"10-7.\",\n",
    "                \"11-1.\",\n",
    "                \"11-14.\",\n",
    "                \"11-17.\",\n",
    "                \"11-20.\",\n",
    "                \"11-7.\",\n",
    "                \"13-20.\",\n",
    "                \"13-8.\",\n",
    "                \"14-10.\",\n",
    "                \"14-11.\",\n",
    "                \"14-14.\",\n",
    "                \"14-7.\",\n",
    "                \"15-1.\",\n",
    "                \"15-20.\",\n",
    "                \"16-1.\",\n",
    "                \"16-16.\",\n",
    "                \"17-10.\",\n",
    "                \"17-11.\",\n",
    "                \"17-2.\",\n",
    "                \"19-1.\",\n",
    "                \"19-16.\",\n",
    "                \"19-19.\",\n",
    "                \"19-20.\",\n",
    "                \"19-3.\",\n",
    "                \"2-10.\",\n",
    "                \"2-11.\",\n",
    "                \"2-17.\",\n",
    "                \"2-18.\",\n",
    "                \"2-20.\",\n",
    "                \"2-3.\",\n",
    "                \"2-4.\",\n",
    "                \"2-5.\",\n",
    "                \"2-6.\",\n",
    "                \"2-7.\",\n",
    "                \"2-8.\",\n",
    "                \"3-13.\",\n",
    "                \"3-18.\",\n",
    "                \"3-3.\",\n",
    "                \"4-1.\",\n",
    "                \"4-10.\",\n",
    "                \"4-11.\",\n",
    "                \"4-19.\",\n",
    "                \"5-5.\",\n",
    "                \"6-15.\",\n",
    "                \"7-10.\",\n",
    "                \"7-14.\",\n",
    "                \"8-18.\",\n",
    "                \"8-20.\",\n",
    "                \"8-3.\",\n",
    "                \"8-8.\",\n",
    "            ],\n",
    "            \"domains\": [1, 2, 3, 4, 5],\n",
    "            \"num_examples_per_domain_per_label\": -1,\n",
    "            \"pickle_path\": \"/root/csc500-main/datasets/cores.stratified_ds.2022A.pkl\",\n",
    "            \"source_or_target_dataset\": \"source\",\n",
    "            \"x_transforms\": [],\n",
    "            \"episode_transforms\": [],\n",
    "            \"domain_prefix\": \"CORES_\",\n",
    "        },\n",
    "        {\n",
    "            \"labels\": [\n",
    "                \"1-10\",\n",
    "                \"1-12\",\n",
    "                \"1-14\",\n",
    "                \"1-16\",\n",
    "                \"1-18\",\n",
    "                \"1-19\",\n",
    "                \"1-8\",\n",
    "                \"10-11\",\n",
    "                \"10-17\",\n",
    "                \"10-4\",\n",
    "                \"10-7\",\n",
    "                \"11-1\",\n",
    "                \"11-10\",\n",
    "                \"11-19\",\n",
    "                \"11-20\",\n",
    "                \"11-4\",\n",
    "                \"11-7\",\n",
    "                \"12-19\",\n",
    "                \"12-20\",\n",
    "                \"12-7\",\n",
    "                \"13-14\",\n",
    "                \"13-18\",\n",
    "                \"13-19\",\n",
    "                \"13-20\",\n",
    "                \"13-3\",\n",
    "                \"13-7\",\n",
    "                \"14-10\",\n",
    "                \"14-11\",\n",
    "                \"14-12\",\n",
    "                \"14-13\",\n",
    "                \"14-14\",\n",
    "                \"14-19\",\n",
    "                \"14-20\",\n",
    "                \"14-7\",\n",
    "                \"14-8\",\n",
    "                \"14-9\",\n",
    "                \"15-1\",\n",
    "                \"15-19\",\n",
    "                \"15-6\",\n",
    "                \"16-1\",\n",
    "                \"16-16\",\n",
    "                \"16-19\",\n",
    "                \"16-20\",\n",
    "                \"17-10\",\n",
    "                \"17-11\",\n",
    "                \"18-1\",\n",
    "                \"18-10\",\n",
    "                \"18-11\",\n",
    "                \"18-12\",\n",
    "                \"18-13\",\n",
    "                \"18-14\",\n",
    "                \"18-15\",\n",
    "                \"18-16\",\n",
    "                \"18-17\",\n",
    "                \"18-19\",\n",
    "                \"18-2\",\n",
    "                \"18-20\",\n",
    "                \"18-4\",\n",
    "                \"18-5\",\n",
    "                \"18-7\",\n",
    "                \"18-8\",\n",
    "                \"18-9\",\n",
    "                \"19-1\",\n",
    "                \"19-10\",\n",
    "                \"19-11\",\n",
    "                \"19-12\",\n",
    "                \"19-13\",\n",
    "                \"19-14\",\n",
    "                \"19-15\",\n",
    "                \"19-19\",\n",
    "                \"19-2\",\n",
    "                \"19-20\",\n",
    "                \"19-3\",\n",
    "                \"19-4\",\n",
    "                \"19-6\",\n",
    "                \"19-7\",\n",
    "                \"19-8\",\n",
    "                \"19-9\",\n",
    "                \"2-1\",\n",
    "                \"2-13\",\n",
    "                \"2-15\",\n",
    "                \"2-3\",\n",
    "                \"2-4\",\n",
    "                \"2-5\",\n",
    "                \"2-6\",\n",
    "                \"2-7\",\n",
    "                \"2-8\",\n",
    "                \"20-1\",\n",
    "                \"20-12\",\n",
    "                \"20-14\",\n",
    "                \"20-15\",\n",
    "                \"20-16\",\n",
    "                \"20-18\",\n",
    "                \"20-19\",\n",
    "                \"20-20\",\n",
    "                \"20-3\",\n",
    "                \"20-4\",\n",
    "                \"20-5\",\n",
    "                \"20-7\",\n",
    "                \"20-8\",\n",
    "                \"3-1\",\n",
    "                \"3-13\",\n",
    "                \"3-18\",\n",
    "                \"3-2\",\n",
    "                \"3-8\",\n",
    "                \"4-1\",\n",
    "                \"4-10\",\n",
    "                \"4-11\",\n",
    "                \"5-1\",\n",
    "                \"5-5\",\n",
    "                \"6-1\",\n",
    "                \"6-15\",\n",
    "                \"6-6\",\n",
    "                \"7-10\",\n",
    "                \"7-11\",\n",
    "                \"7-12\",\n",
    "                \"7-13\",\n",
    "                \"7-14\",\n",
    "                \"7-7\",\n",
    "                \"7-8\",\n",
    "                \"7-9\",\n",
    "                \"8-1\",\n",
    "                \"8-13\",\n",
    "                \"8-14\",\n",
    "                \"8-18\",\n",
    "                \"8-20\",\n",
    "                \"8-3\",\n",
    "                \"8-8\",\n",
    "                \"9-1\",\n",
    "                \"9-7\",\n",
    "            ],\n",
    "            \"domains\": [1, 2, 3, 4],\n",
    "            \"num_examples_per_domain_per_label\": -1,\n",
    "            \"pickle_path\": \"/root/csc500-main/datasets/wisig.node3-19.stratified_ds.2022A.pkl\",\n",
    "            \"source_or_target_dataset\": \"target\",\n",
    "            \"x_transforms\": [],\n",
    "            \"episode_transforms\": [],\n",
    "            \"domain_prefix\": \"Wisig_\",\n",
    "        },\n",
    "    ],\n",
    "    \"dataset_seed\": 1337,\n",
    "    \"seed\": 1337,\n",
    "}\n"
   ]
  },
  {
   "cell_type": "code",
   "execution_count": 5,
   "id": "8fa1cc33",
   "metadata": {
    "execution": {
     "iopub.execute_input": "2022-03-21T02:06:58.828485Z",
     "iopub.status.busy": "2022-03-21T02:06:58.827863Z",
     "iopub.status.idle": "2022-03-21T02:06:58.857079Z",
     "shell.execute_reply": "2022-03-21T02:06:58.856368Z"
    },
    "papermill": {
     "duration": 0.056585,
     "end_time": "2022-03-21T02:06:58.857237",
     "exception": false,
     "start_time": "2022-03-21T02:06:58.800652",
     "status": "completed"
    },
    "tags": []
   },
   "outputs": [],
   "source": [
    "# Set this to True if you want to run this template directly\n",
    "STANDALONE = False\n",
    "if STANDALONE:\n",
    "    print(\"parameters not injected, running with standalone_parameters\")\n",
    "    parameters = standalone_parameters\n",
    "\n",
    "if not 'parameters' in locals() and not 'parameters' in globals():\n",
    "    raise Exception(\"Parameter injection failed\")\n",
    "\n",
    "#Use an easy dict for all the parameters\n",
    "p = EasyDict(parameters)\n",
    "\n",
    "if \"x_shape\" not in p:\n",
    "    p.x_shape = [2,256] # Default to this if we dont supply x_shape\n",
    "\n",
    "\n",
    "supplied_keys = set(p.keys())\n",
    "\n",
    "if  supplied_keys != required_parameters:\n",
    "    print(\"Parameters are incorrect\")\n",
    "    if len(supplied_keys - required_parameters)>0: print(\"Shouldn't have:\", str(supplied_keys - required_parameters))\n",
    "    if len(required_parameters - supplied_keys)>0: print(\"Need to have:\", str(required_parameters - supplied_keys))\n",
    "    raise RuntimeError(\"Parameters are incorrect\")"
   ]
  },
  {
   "cell_type": "code",
   "execution_count": 6,
   "id": "3a028d58",
   "metadata": {
    "execution": {
     "iopub.execute_input": "2022-03-21T02:06:58.906023Z",
     "iopub.status.busy": "2022-03-21T02:06:58.905460Z",
     "iopub.status.idle": "2022-03-21T02:06:58.932986Z",
     "shell.execute_reply": "2022-03-21T02:06:58.933628Z"
    },
    "papermill": {
     "duration": 0.052796,
     "end_time": "2022-03-21T02:06:58.933811",
     "exception": false,
     "start_time": "2022-03-21T02:06:58.881015",
     "status": "completed"
    },
    "tags": []
   },
   "outputs": [],
   "source": [
    "###################################\n",
    "# Set the RNGs and make it all deterministic\n",
    "###################################\n",
    "np.random.seed(p.seed)\n",
    "random.seed(p.seed)\n",
    "torch.manual_seed(p.seed)\n",
    "\n",
    "torch.use_deterministic_algorithms(True) "
   ]
  },
  {
   "cell_type": "code",
   "execution_count": 7,
   "id": "b691acf6",
   "metadata": {
    "execution": {
     "iopub.execute_input": "2022-03-21T02:06:58.985393Z",
     "iopub.status.busy": "2022-03-21T02:06:58.985017Z",
     "iopub.status.idle": "2022-03-21T02:06:59.012249Z",
     "shell.execute_reply": "2022-03-21T02:06:59.011523Z"
    },
    "papermill": {
     "duration": 0.052196,
     "end_time": "2022-03-21T02:06:59.012401",
     "exception": false,
     "start_time": "2022-03-21T02:06:58.960205",
     "status": "completed"
    },
    "tags": []
   },
   "outputs": [],
   "source": [
    "###########################################\n",
    "# The stratified datasets honor this\n",
    "###########################################\n",
    "torch.set_default_dtype(eval(p.torch_default_dtype))"
   ]
  },
  {
   "cell_type": "code",
   "execution_count": 8,
   "id": "b5fba671",
   "metadata": {
    "execution": {
     "iopub.execute_input": "2022-03-21T02:06:59.064492Z",
     "iopub.status.busy": "2022-03-21T02:06:59.064124Z",
     "iopub.status.idle": "2022-03-21T02:06:59.125664Z",
     "shell.execute_reply": "2022-03-21T02:06:59.124944Z"
    },
    "papermill": {
     "duration": 0.085949,
     "end_time": "2022-03-21T02:06:59.125819",
     "exception": false,
     "start_time": "2022-03-21T02:06:59.039870",
     "status": "completed"
    },
    "tags": []
   },
   "outputs": [],
   "source": [
    "###################################\n",
    "# Build the network(s)\n",
    "# Note: It's critical to do this AFTER setting the RNG\n",
    "###################################\n",
    "x_net = build_sequential(p.x_net)"
   ]
  },
  {
   "cell_type": "code",
   "execution_count": 9,
   "id": "5d7e61cc",
   "metadata": {
    "execution": {
     "iopub.execute_input": "2022-03-21T02:06:59.177102Z",
     "iopub.status.busy": "2022-03-21T02:06:59.176221Z",
     "iopub.status.idle": "2022-03-21T02:06:59.202776Z",
     "shell.execute_reply": "2022-03-21T02:06:59.201960Z"
    },
    "papermill": {
     "duration": 0.050899,
     "end_time": "2022-03-21T02:06:59.202929",
     "exception": false,
     "start_time": "2022-03-21T02:06:59.152030",
     "status": "completed"
    },
    "tags": []
   },
   "outputs": [],
   "source": [
    "start_time_secs = time.time()"
   ]
  },
  {
   "cell_type": "code",
   "execution_count": 10,
   "id": "c6b67dfd",
   "metadata": {
    "execution": {
     "iopub.execute_input": "2022-03-21T02:06:59.254165Z",
     "iopub.status.busy": "2022-03-21T02:06:59.253603Z",
     "iopub.status.idle": "2022-03-21T02:06:59.279615Z",
     "shell.execute_reply": "2022-03-21T02:06:59.278868Z"
    },
    "papermill": {
     "duration": 0.051421,
     "end_time": "2022-03-21T02:06:59.279774",
     "exception": false,
     "start_time": "2022-03-21T02:06:59.228353",
     "status": "completed"
    },
    "tags": []
   },
   "outputs": [],
   "source": [
    "p.domains_source = []\n",
    "p.domains_target = []\n",
    "\n",
    "\n",
    "train_original_source = []\n",
    "val_original_source   = []\n",
    "test_original_source  = []\n",
    "\n",
    "train_original_target = []\n",
    "val_original_target   = []\n",
    "test_original_target  = []"
   ]
  },
  {
   "cell_type": "code",
   "execution_count": 11,
   "id": "e3d9c3d3",
   "metadata": {
    "execution": {
     "iopub.execute_input": "2022-03-21T02:06:59.331321Z",
     "iopub.status.busy": "2022-03-21T02:06:59.330949Z",
     "iopub.status.idle": "2022-03-21T02:06:59.357644Z",
     "shell.execute_reply": "2022-03-21T02:06:59.358318Z"
    },
    "papermill": {
     "duration": 0.051184,
     "end_time": "2022-03-21T02:06:59.358497",
     "exception": false,
     "start_time": "2022-03-21T02:06:59.307313",
     "status": "completed"
    },
    "tags": []
   },
   "outputs": [],
   "source": [
    "# global_x_transform_func = lambda x: normalize(x.to(torch.get_default_dtype()), \"unit_power\") # unit_power, unit_mag\n",
    "# global_x_transform_func = lambda x: normalize(x, \"unit_power\") # unit_power, unit_mag"
   ]
  },
  {
   "cell_type": "code",
   "execution_count": 12,
   "id": "acb78fd2",
   "metadata": {
    "execution": {
     "iopub.execute_input": "2022-03-21T02:06:59.417859Z",
     "iopub.status.busy": "2022-03-21T02:06:59.407811Z",
     "iopub.status.idle": "2022-03-21T02:06:59.442529Z",
     "shell.execute_reply": "2022-03-21T02:06:59.443211Z"
    },
    "papermill": {
     "duration": 0.059131,
     "end_time": "2022-03-21T02:06:59.443391",
     "exception": false,
     "start_time": "2022-03-21T02:06:59.384260",
     "status": "completed"
    },
    "tags": []
   },
   "outputs": [],
   "source": [
    "def add_dataset(\n",
    "    labels,\n",
    "    domains,\n",
    "    pickle_path,\n",
    "    x_transforms,\n",
    "    episode_transforms,\n",
    "    domain_prefix,\n",
    "    num_examples_per_domain_per_label,\n",
    "    source_or_target_dataset:str,\n",
    "    iterator_seed=p.seed,\n",
    "    dataset_seed=p.dataset_seed,\n",
    "    n_shot=p.n_shot,\n",
    "    n_way=p.n_way,\n",
    "    n_query=p.n_query,\n",
    "    train_val_test_k_factors=(p.train_k_factor,p.val_k_factor,p.test_k_factor),\n",
    "):\n",
    "   \n",
    "    if x_transforms == []: x_transform = None\n",
    "    else: x_transform = get_chained_transform(x_transforms)\n",
    "    \n",
    "    if episode_transforms == []: episode_transform = None\n",
    "    else: raise Exception(\"episode_transforms not implemented\")\n",
    "    \n",
    "    episode_transform = lambda tup, _prefix=domain_prefix: (_prefix + str(tup[0]), tup[1])\n",
    "\n",
    "\n",
    "    eaf = Episodic_Accessor_Factory(\n",
    "        labels=labels,\n",
    "        domains=domains,\n",
    "        num_examples_per_domain_per_label=num_examples_per_domain_per_label,\n",
    "        iterator_seed=iterator_seed,\n",
    "        dataset_seed=dataset_seed,\n",
    "        n_shot=n_shot,\n",
    "        n_way=n_way,\n",
    "        n_query=n_query,\n",
    "        train_val_test_k_factors=train_val_test_k_factors,\n",
    "        pickle_path=pickle_path,\n",
    "        x_transform_func=x_transform,\n",
    "    )\n",
    "\n",
    "    train, val, test = eaf.get_train(), eaf.get_val(), eaf.get_test()\n",
    "    train = Lazy_Iterable_Wrapper(train, episode_transform)\n",
    "    val = Lazy_Iterable_Wrapper(val, episode_transform)\n",
    "    test = Lazy_Iterable_Wrapper(test, episode_transform)\n",
    "\n",
    "    if source_or_target_dataset==\"source\":\n",
    "        train_original_source.append(train)\n",
    "        val_original_source.append(val)\n",
    "        test_original_source.append(test)\n",
    "\n",
    "        p.domains_source.extend(\n",
    "            [domain_prefix + str(u) for u in domains]\n",
    "        )\n",
    "    elif source_or_target_dataset==\"target\":\n",
    "        train_original_target.append(train)\n",
    "        val_original_target.append(val)\n",
    "        test_original_target.append(test)\n",
    "        p.domains_target.extend(\n",
    "            [domain_prefix + str(u) for u in domains]\n",
    "        )\n",
    "    else:\n",
    "        raise Exception(f\"invalid source_or_target_dataset: {source_or_target_dataset}\")\n",
    "    "
   ]
  },
  {
   "cell_type": "code",
   "execution_count": 13,
   "id": "fe266617",
   "metadata": {
    "execution": {
     "iopub.execute_input": "2022-03-21T02:06:59.496966Z",
     "iopub.status.busy": "2022-03-21T02:06:59.495081Z",
     "iopub.status.idle": "2022-03-21T02:07:03.303296Z",
     "shell.execute_reply": "2022-03-21T02:07:03.304028Z"
    },
    "papermill": {
     "duration": 3.833067,
     "end_time": "2022-03-21T02:07:03.304263",
     "exception": false,
     "start_time": "2022-03-21T02:06:59.471196",
     "status": "completed"
    },
    "tags": []
   },
   "outputs": [],
   "source": [
    "for ds in p.datasets:\n",
    "    add_dataset(**ds)"
   ]
  },
  {
   "cell_type": "code",
   "execution_count": 14,
   "id": "b90d65ac",
   "metadata": {
    "execution": {
     "iopub.execute_input": "2022-03-21T02:07:03.353547Z",
     "iopub.status.busy": "2022-03-21T02:07:03.353163Z",
     "iopub.status.idle": "2022-03-21T02:07:03.374332Z",
     "shell.execute_reply": "2022-03-21T02:07:03.373611Z"
    },
    "papermill": {
     "duration": 0.044684,
     "end_time": "2022-03-21T02:07:03.374487",
     "exception": false,
     "start_time": "2022-03-21T02:07:03.329803",
     "status": "completed"
    },
    "tags": []
   },
   "outputs": [],
   "source": [
    "# from steves_utils.CORES.utils import (\n",
    "#     ALL_NODES,\n",
    "#     ALL_NODES_MINIMUM_1000_EXAMPLES,\n",
    "#     ALL_DAYS\n",
    "# )\n",
    "\n",
    "# add_dataset(\n",
    "#     labels=ALL_NODES,\n",
    "#     domains = ALL_DAYS,\n",
    "#     num_examples_per_domain_per_label=100,\n",
    "#     pickle_path=os.path.join(get_datasets_base_path(), \"cores.stratified_ds.2022A.pkl\"),\n",
    "#     source_or_target_dataset=\"target\",\n",
    "#     x_transform_func=global_x_transform_func,\n",
    "#     domain_modifier=lambda u: f\"cores_{u}\"\n",
    "# )"
   ]
  },
  {
   "cell_type": "code",
   "execution_count": 15,
   "id": "76db484d",
   "metadata": {
    "execution": {
     "iopub.execute_input": "2022-03-21T02:07:03.424499Z",
     "iopub.status.busy": "2022-03-21T02:07:03.424033Z",
     "iopub.status.idle": "2022-03-21T02:07:03.443963Z",
     "shell.execute_reply": "2022-03-21T02:07:03.443108Z"
    },
    "papermill": {
     "duration": 0.04345,
     "end_time": "2022-03-21T02:07:03.444122",
     "exception": false,
     "start_time": "2022-03-21T02:07:03.400672",
     "status": "completed"
    },
    "tags": []
   },
   "outputs": [],
   "source": [
    "# from steves_utils.ORACLE.utils_v2 import (\n",
    "#     ALL_DISTANCES_FEET,\n",
    "#     ALL_RUNS,\n",
    "#     ALL_SERIAL_NUMBERS,\n",
    "# )\n",
    "\n",
    "\n",
    "# add_dataset(\n",
    "#     labels=ALL_SERIAL_NUMBERS,\n",
    "#     domains = list(set(ALL_DISTANCES_FEET) - {2,62}),\n",
    "#     num_examples_per_domain_per_label=100,\n",
    "#     pickle_path=os.path.join(get_datasets_base_path(), \"oracle.Run2_framed_2000Examples_stratified_ds.2022A.pkl\"),\n",
    "#     source_or_target_dataset=\"source\",\n",
    "#     x_transform_func=global_x_transform_func,\n",
    "#     domain_modifier=lambda u: f\"oracle1_{u}\"\n",
    "# )\n"
   ]
  },
  {
   "cell_type": "code",
   "execution_count": 16,
   "id": "97dea9d2",
   "metadata": {
    "execution": {
     "iopub.execute_input": "2022-03-21T02:07:03.497558Z",
     "iopub.status.busy": "2022-03-21T02:07:03.496995Z",
     "iopub.status.idle": "2022-03-21T02:07:03.519514Z",
     "shell.execute_reply": "2022-03-21T02:07:03.518815Z"
    },
    "papermill": {
     "duration": 0.046857,
     "end_time": "2022-03-21T02:07:03.519687",
     "exception": false,
     "start_time": "2022-03-21T02:07:03.472830",
     "status": "completed"
    },
    "tags": []
   },
   "outputs": [],
   "source": [
    "# from steves_utils.ORACLE.utils_v2 import (\n",
    "#     ALL_DISTANCES_FEET,\n",
    "#     ALL_RUNS,\n",
    "#     ALL_SERIAL_NUMBERS,\n",
    "# )\n",
    "\n",
    "\n",
    "# add_dataset(\n",
    "#     labels=ALL_SERIAL_NUMBERS,\n",
    "#     domains = list(set(ALL_DISTANCES_FEET) - {2,62,56}),\n",
    "#     num_examples_per_domain_per_label=100,\n",
    "#     pickle_path=os.path.join(get_datasets_base_path(), \"oracle.Run2_framed_2000Examples_stratified_ds.2022A.pkl\"),\n",
    "#     source_or_target_dataset=\"source\",\n",
    "#     x_transform_func=global_x_transform_func,\n",
    "#     domain_modifier=lambda u: f\"oracle2_{u}\"\n",
    "# )"
   ]
  },
  {
   "cell_type": "code",
   "execution_count": 17,
   "id": "6f289866",
   "metadata": {
    "execution": {
     "iopub.execute_input": "2022-03-21T02:07:03.572306Z",
     "iopub.status.busy": "2022-03-21T02:07:03.571932Z",
     "iopub.status.idle": "2022-03-21T02:07:03.597287Z",
     "shell.execute_reply": "2022-03-21T02:07:03.596585Z"
    },
    "papermill": {
     "duration": 0.04866,
     "end_time": "2022-03-21T02:07:03.597440",
     "exception": false,
     "start_time": "2022-03-21T02:07:03.548780",
     "status": "completed"
    },
    "tags": []
   },
   "outputs": [],
   "source": [
    "# add_dataset(\n",
    "#     labels=list(range(19)),\n",
    "#     domains = [0,1,2],\n",
    "#     num_examples_per_domain_per_label=100,\n",
    "#     pickle_path=os.path.join(get_datasets_base_path(), \"metehan.stratified_ds.2022A.pkl\"),\n",
    "#     source_or_target_dataset=\"target\",\n",
    "#     x_transform_func=global_x_transform_func,\n",
    "#     domain_modifier=lambda u: f\"met_{u}\"\n",
    "# )"
   ]
  },
  {
   "cell_type": "code",
   "execution_count": 18,
   "id": "86a863c3",
   "metadata": {
    "execution": {
     "iopub.execute_input": "2022-03-21T02:07:03.649562Z",
     "iopub.status.busy": "2022-03-21T02:07:03.649191Z",
     "iopub.status.idle": "2022-03-21T02:07:03.670908Z",
     "shell.execute_reply": "2022-03-21T02:07:03.670204Z"
    },
    "papermill": {
     "duration": 0.044909,
     "end_time": "2022-03-21T02:07:03.671060",
     "exception": false,
     "start_time": "2022-03-21T02:07:03.626151",
     "status": "completed"
    },
    "tags": []
   },
   "outputs": [],
   "source": [
    "# # from steves_utils.wisig.utils import (\n",
    "# #     ALL_NODES_MINIMUM_100_EXAMPLES,\n",
    "# #     ALL_NODES_MINIMUM_500_EXAMPLES,\n",
    "# #     ALL_NODES_MINIMUM_1000_EXAMPLES,\n",
    "# #     ALL_DAYS\n",
    "# # )\n",
    "\n",
    "# import steves_utils.wisig.utils as wisig\n",
    "\n",
    "\n",
    "# add_dataset(\n",
    "#     labels=wisig.ALL_NODES_MINIMUM_100_EXAMPLES,\n",
    "#     domains = wisig.ALL_DAYS,\n",
    "#     num_examples_per_domain_per_label=100,\n",
    "#     pickle_path=os.path.join(get_datasets_base_path(), \"wisig.node3-19.stratified_ds.2022A.pkl\"),\n",
    "#     source_or_target_dataset=\"target\",\n",
    "#     x_transform_func=global_x_transform_func,\n",
    "#     domain_modifier=lambda u: f\"wisig_{u}\"\n",
    "# )"
   ]
  },
  {
   "cell_type": "code",
   "execution_count": 19,
   "id": "fd5442bc",
   "metadata": {
    "execution": {
     "iopub.execute_input": "2022-03-21T02:07:03.725380Z",
     "iopub.status.busy": "2022-03-21T02:07:03.724805Z",
     "iopub.status.idle": "2022-03-21T02:07:03.745070Z",
     "shell.execute_reply": "2022-03-21T02:07:03.744331Z"
    },
    "papermill": {
     "duration": 0.045926,
     "end_time": "2022-03-21T02:07:03.745221",
     "exception": false,
     "start_time": "2022-03-21T02:07:03.699295",
     "status": "completed"
    },
    "tags": []
   },
   "outputs": [],
   "source": [
    "###################################\n",
    "# Build the dataset\n",
    "###################################\n",
    "train_original_source = Iterable_Aggregator(train_original_source, p.seed)\n",
    "val_original_source = Iterable_Aggregator(val_original_source, p.seed)\n",
    "test_original_source = Iterable_Aggregator(test_original_source, p.seed)\n",
    "\n",
    "\n",
    "train_original_target = Iterable_Aggregator(train_original_target, p.seed)\n",
    "val_original_target = Iterable_Aggregator(val_original_target, p.seed)\n",
    "test_original_target = Iterable_Aggregator(test_original_target, p.seed)\n",
    "\n",
    "# For CNN We only use X and Y. And we only train on the source.\n",
    "# Properly form the data using a transform lambda and Lazy_Iterable_Wrapper. Finally wrap them in a dataloader\n",
    "\n",
    "transform_lambda = lambda ex: ex[1] # Original is (<domain>, <episode>) so we strip down to episode only\n",
    "\n",
    "train_processed_source = Lazy_Iterable_Wrapper(train_original_source, transform_lambda)\n",
    "val_processed_source   = Lazy_Iterable_Wrapper(val_original_source, transform_lambda)\n",
    "test_processed_source  = Lazy_Iterable_Wrapper(test_original_source, transform_lambda)\n",
    "\n",
    "train_processed_target = Lazy_Iterable_Wrapper(train_original_target, transform_lambda)\n",
    "val_processed_target   = Lazy_Iterable_Wrapper(val_original_target, transform_lambda)\n",
    "test_processed_target  = Lazy_Iterable_Wrapper(test_original_target, transform_lambda)\n",
    "\n",
    "datasets = EasyDict({\n",
    "    \"source\": {\n",
    "        \"original\": {\"train\":train_original_source, \"val\":val_original_source, \"test\":test_original_source},\n",
    "        \"processed\": {\"train\":train_processed_source, \"val\":val_processed_source, \"test\":test_processed_source}\n",
    "    },\n",
    "    \"target\": {\n",
    "        \"original\": {\"train\":train_original_target, \"val\":val_original_target, \"test\":test_original_target},\n",
    "        \"processed\": {\"train\":train_processed_target, \"val\":val_processed_target, \"test\":test_processed_target}\n",
    "    },\n",
    "})"
   ]
  },
  {
   "cell_type": "code",
   "execution_count": 20,
   "id": "5b3c01fc",
   "metadata": {
    "execution": {
     "iopub.execute_input": "2022-03-21T02:07:03.796198Z",
     "iopub.status.busy": "2022-03-21T02:07:03.795829Z",
     "iopub.status.idle": "2022-03-21T02:07:11.916892Z",
     "shell.execute_reply": "2022-03-21T02:07:11.917720Z"
    },
    "papermill": {
     "duration": 8.145205,
     "end_time": "2022-03-21T02:07:11.917934",
     "exception": false,
     "start_time": "2022-03-21T02:07:03.772729",
     "status": "completed"
    },
    "tags": []
   },
   "outputs": [
    {
     "name": "stdout",
     "output_type": "stream",
     "text": [
      "{'CORES_2', 'CORES_4', 'CORES_1', 'CORES_3', 'CORES_5'}\n"
     ]
    },
    {
     "name": "stdout",
     "output_type": "stream",
     "text": [
      "{'Wisig_3', 'Wisig_4', 'Wisig_2', 'Wisig_1'}\n"
     ]
    },
    {
     "name": "stdout",
     "output_type": "stream",
     "text": [
      "tensor([[[ 0.0020, -0.0030, -0.0042,  ...,  0.0182, -0.0069,  0.0020],\n",
      "         [ 0.0086, -0.0030, -0.0138,  ..., -0.0064,  0.0017, -0.0036]],\n",
      "\n",
      "        [[ 0.0004,  0.0094,  0.0161,  ..., -0.0028, -0.0034,  0.0259],\n",
      "         [ 0.0134,  0.0020,  0.0034,  ...,  0.0049,  0.0137, -0.0005]],\n",
      "\n",
      "        [[ 0.0028,  0.0054, -0.0114,  ..., -0.0086, -0.0029,  0.0034],\n",
      "         [-0.0042,  0.0005,  0.0054,  ..., -0.0264, -0.0025,  0.0059]],\n",
      "\n",
      "        ...,\n",
      "\n",
      "        [[ 0.0058, -0.0075, -0.0032,  ..., -0.0042, -0.0031,  0.0027],\n",
      "         [ 0.0050,  0.0051, -0.0089,  ...,  0.0084,  0.0058, -0.0056]],\n",
      "\n",
      "        [[-0.0165, -0.0061,  0.0014,  ...,  0.0028,  0.0044,  0.0023],\n",
      "         [ 0.0049,  0.0049, -0.0023,  ...,  0.0080,  0.0081,  0.0041]],\n",
      "\n",
      "        [[-0.0051, -0.0134, -0.0074,  ...,  0.0026,  0.0017, -0.0131],\n",
      "         [-0.0105, -0.0069, -0.0099,  ..., -0.0086, -0.0009, -0.0044]]])\n"
     ]
    }
   ],
   "source": [
    "from steves_utils.transforms import get_average_magnitude, get_average_power\n",
    "\n",
    "print(set([u for u,_ in val_original_source]))\n",
    "print(set([u for u,_ in val_original_target]))\n",
    "\n",
    "s_x, s_y, q_x, q_y, _ = next(iter(train_processed_source))\n",
    "print(s_x)\n",
    "\n",
    "# for ds in [\n",
    "#     train_processed_source,\n",
    "#     val_processed_source,\n",
    "#     test_processed_source,\n",
    "#     train_processed_target,\n",
    "#     val_processed_target,\n",
    "#     test_processed_target\n",
    "# ]:\n",
    "#     for s_x, s_y, q_x, q_y, _ in ds:\n",
    "#         for X in (s_x, q_x):\n",
    "#             for x in X:\n",
    "#                 assert np.isclose(get_average_magnitude(x.numpy()), 1.0)\n",
    "#                 assert np.isclose(get_average_power(x.numpy()), 1.0)\n",
    "                "
   ]
  },
  {
   "cell_type": "code",
   "execution_count": 21,
   "id": "bbdacba1",
   "metadata": {
    "execution": {
     "iopub.execute_input": "2022-03-21T02:07:11.972828Z",
     "iopub.status.busy": "2022-03-21T02:07:11.972292Z",
     "iopub.status.idle": "2022-03-21T02:07:12.181657Z",
     "shell.execute_reply": "2022-03-21T02:07:12.180945Z"
    },
    "papermill": {
     "duration": 0.237554,
     "end_time": "2022-03-21T02:07:12.181819",
     "exception": false,
     "start_time": "2022-03-21T02:07:11.944265",
     "status": "completed"
    },
    "tags": []
   },
   "outputs": [
    {
     "name": "stdout",
     "output_type": "stream",
     "text": [
      "(2, 256)\n"
     ]
    }
   ],
   "source": [
    "###################################\n",
    "# Build the model\n",
    "###################################\n",
    "# easfsl only wants a tuple for the shape\n",
    "model = Steves_Prototypical_Network(x_net, device=p.device, x_shape=tuple(p.x_shape))\n",
    "optimizer = Adam(params=model.parameters(), lr=p.lr)"
   ]
  },
  {
   "cell_type": "code",
   "execution_count": 22,
   "id": "22b39ac5",
   "metadata": {
    "execution": {
     "iopub.execute_input": "2022-03-21T02:07:12.241392Z",
     "iopub.status.busy": "2022-03-21T02:07:12.240763Z",
     "iopub.status.idle": "2022-03-21T02:09:32.582413Z",
     "shell.execute_reply": "2022-03-21T02:09:32.582014Z"
    },
    "papermill": {
     "duration": 140.371883,
     "end_time": "2022-03-21T02:09:32.582507",
     "exception": false,
     "start_time": "2022-03-21T02:07:12.210624",
     "status": "completed"
    },
    "tags": []
   },
   "outputs": [
    {
     "name": "stdout",
     "output_type": "stream",
     "text": [
      "epoch: 1, [batch: 1 / 351], examples_per_second: 374.1010, train_label_loss: 3.3421, \n"
     ]
    },
    {
     "name": "stdout",
     "output_type": "stream",
     "text": [
      "epoch: 1, [batch: 36 / 351], examples_per_second: 3022.7005, train_label_loss: 1.1008, \n"
     ]
    },
    {
     "name": "stdout",
     "output_type": "stream",
     "text": [
      "epoch: 1, [batch: 71 / 351], examples_per_second: 3093.9430, train_label_loss: 0.4959, \n"
     ]
    },
    {
     "name": "stdout",
     "output_type": "stream",
     "text": [
      "epoch: 1, [batch: 106 / 351], examples_per_second: 3081.6414, train_label_loss: 0.2264, \n"
     ]
    },
    {
     "name": "stdout",
     "output_type": "stream",
     "text": [
      "epoch: 1, [batch: 141 / 351], examples_per_second: 3063.2137, train_label_loss: 0.1245, \n"
     ]
    },
    {
     "name": "stdout",
     "output_type": "stream",
     "text": [
      "epoch: 1, [batch: 176 / 351], examples_per_second: 3141.8012, train_label_loss: 0.1098, \n"
     ]
    },
    {
     "name": "stdout",
     "output_type": "stream",
     "text": [
      "epoch: 1, [batch: 211 / 351], examples_per_second: 3122.1688, train_label_loss: 0.0677, \n"
     ]
    },
    {
     "name": "stdout",
     "output_type": "stream",
     "text": [
      "epoch: 1, [batch: 246 / 351], examples_per_second: 2923.8763, train_label_loss: 0.0565, \n"
     ]
    },
    {
     "name": "stdout",
     "output_type": "stream",
     "text": [
      "epoch: 1, [batch: 281 / 351], examples_per_second: 3080.4259, train_label_loss: 0.0388, \n"
     ]
    },
    {
     "name": "stdout",
     "output_type": "stream",
     "text": [
      "epoch: 1, [batch: 316 / 351], examples_per_second: 3052.8285, train_label_loss: 0.0131, \n"
     ]
    },
    {
     "name": "stdout",
     "output_type": "stream",
     "text": [
      "=============================================================\n",
      "epoch: 1, source_val_acc_label: 0.9968, target_val_acc_label: 0.7348, source_val_label_loss: 0.0303, target_val_label_loss: 1.9152, \n",
      "=============================================================\n"
     ]
    },
    {
     "name": "stdout",
     "output_type": "stream",
     "text": [
      "New best\n"
     ]
    },
    {
     "name": "stdout",
     "output_type": "stream",
     "text": [
      "epoch: 2, [batch: 1 / 351], examples_per_second: 31.4995, train_label_loss: 0.0359, \n"
     ]
    },
    {
     "name": "stdout",
     "output_type": "stream",
     "text": [
      "epoch: 2, [batch: 36 / 351], examples_per_second: 3070.7366, train_label_loss: 0.0113, \n"
     ]
    },
    {
     "name": "stdout",
     "output_type": "stream",
     "text": [
      "epoch: 2, [batch: 71 / 351], examples_per_second: 3115.8308, train_label_loss: 0.0470, \n"
     ]
    },
    {
     "name": "stdout",
     "output_type": "stream",
     "text": [
      "epoch: 2, [batch: 106 / 351], examples_per_second: 3093.6305, train_label_loss: 0.0063, \n"
     ]
    },
    {
     "name": "stdout",
     "output_type": "stream",
     "text": [
      "epoch: 2, [batch: 141 / 351], examples_per_second: 2970.6359, train_label_loss: 0.0023, \n"
     ]
    },
    {
     "name": "stdout",
     "output_type": "stream",
     "text": [
      "epoch: 2, [batch: 176 / 351], examples_per_second: 3098.0360, train_label_loss: 0.0503, \n"
     ]
    },
    {
     "name": "stdout",
     "output_type": "stream",
     "text": [
      "epoch: 2, [batch: 211 / 351], examples_per_second: 3101.7730, train_label_loss: 0.0035, \n"
     ]
    },
    {
     "name": "stdout",
     "output_type": "stream",
     "text": [
      "epoch: 2, [batch: 246 / 351], examples_per_second: 2976.2702, train_label_loss: 0.0372, \n"
     ]
    },
    {
     "name": "stdout",
     "output_type": "stream",
     "text": [
      "epoch: 2, [batch: 281 / 351], examples_per_second: 3051.0227, train_label_loss: 0.0569, \n"
     ]
    },
    {
     "name": "stdout",
     "output_type": "stream",
     "text": [
      "epoch: 2, [batch: 316 / 351], examples_per_second: 3083.1900, train_label_loss: 0.0439, \n"
     ]
    },
    {
     "name": "stdout",
     "output_type": "stream",
     "text": [
      "=============================================================\n",
      "epoch: 2, source_val_acc_label: 0.9943, target_val_acc_label: 0.7076, source_val_label_loss: 0.0200, target_val_label_loss: 3.7002, \n",
      "=============================================================\n"
     ]
    },
    {
     "name": "stdout",
     "output_type": "stream",
     "text": [
      "epoch: 3, [batch: 1 / 351], examples_per_second: 31.0418, train_label_loss: 0.0082, \n"
     ]
    },
    {
     "name": "stdout",
     "output_type": "stream",
     "text": [
      "epoch: 3, [batch: 36 / 351], examples_per_second: 3022.2147, train_label_loss: 0.0098, \n"
     ]
    },
    {
     "name": "stdout",
     "output_type": "stream",
     "text": [
      "epoch: 3, [batch: 71 / 351], examples_per_second: 3169.6680, train_label_loss: 0.0057, \n"
     ]
    },
    {
     "name": "stdout",
     "output_type": "stream",
     "text": [
      "epoch: 3, [batch: 106 / 351], examples_per_second: 3477.7143, train_label_loss: 0.0035, \n"
     ]
    },
    {
     "name": "stdout",
     "output_type": "stream",
     "text": [
      "epoch: 3, [batch: 141 / 351], examples_per_second: 3377.1287, train_label_loss: 0.0013, \n"
     ]
    },
    {
     "name": "stdout",
     "output_type": "stream",
     "text": [
      "epoch: 3, [batch: 176 / 351], examples_per_second: 3435.1911, train_label_loss: 0.0008, \n"
     ]
    },
    {
     "name": "stdout",
     "output_type": "stream",
     "text": [
      "epoch: 3, [batch: 211 / 351], examples_per_second: 3440.2959, train_label_loss: 0.0076, \n"
     ]
    },
    {
     "name": "stdout",
     "output_type": "stream",
     "text": [
      "epoch: 3, [batch: 246 / 351], examples_per_second: 3337.9977, train_label_loss: 0.0022, \n"
     ]
    },
    {
     "name": "stdout",
     "output_type": "stream",
     "text": [
      "epoch: 3, [batch: 281 / 351], examples_per_second: 3527.6331, train_label_loss: 0.0114, \n"
     ]
    },
    {
     "name": "stdout",
     "output_type": "stream",
     "text": [
      "epoch: 3, [batch: 316 / 351], examples_per_second: 3509.9846, train_label_loss: 0.0092, \n"
     ]
    },
    {
     "name": "stdout",
     "output_type": "stream",
     "text": [
      "=============================================================\n",
      "epoch: 3, source_val_acc_label: 0.9989, target_val_acc_label: 0.7190, source_val_label_loss: 0.0071, target_val_label_loss: 3.2583, \n",
      "=============================================================\n"
     ]
    }
   ],
   "source": [
    "###################################\n",
    "# train\n",
    "###################################\n",
    "jig = PTN_Train_Eval_Test_Jig(model, p.BEST_MODEL_PATH, p.device)\n",
    "\n",
    "jig.train(\n",
    "    train_iterable=datasets.source.processed.train,\n",
    "    source_val_iterable=datasets.source.processed.val,\n",
    "    target_val_iterable=datasets.target.processed.val,\n",
    "    num_epochs=p.n_epoch,\n",
    "    num_logs_per_epoch=p.NUM_LOGS_PER_EPOCH,\n",
    "    patience=p.patience,\n",
    "    optimizer=optimizer,\n",
    "    criteria_for_best=p.criteria_for_best,\n",
    ")"
   ]
  },
  {
   "cell_type": "code",
   "execution_count": 23,
   "id": "31e8fabf",
   "metadata": {
    "execution": {
     "iopub.execute_input": "2022-03-21T02:09:32.653509Z",
     "iopub.status.busy": "2022-03-21T02:09:32.652948Z",
     "iopub.status.idle": "2022-03-21T02:09:32.685886Z",
     "shell.execute_reply": "2022-03-21T02:09:32.686522Z"
    },
    "papermill": {
     "duration": 0.069969,
     "end_time": "2022-03-21T02:09:32.686713",
     "exception": false,
     "start_time": "2022-03-21T02:09:32.616744",
     "status": "completed"
    },
    "tags": []
   },
   "outputs": [],
   "source": [
    "total_experiment_time_secs = time.time() - start_time_secs"
   ]
  },
  {
   "cell_type": "code",
   "execution_count": 24,
   "id": "87b9595b",
   "metadata": {
    "execution": {
     "iopub.execute_input": "2022-03-21T02:09:32.765932Z",
     "iopub.status.busy": "2022-03-21T02:09:32.765061Z",
     "iopub.status.idle": "2022-03-21T02:10:34.762040Z",
     "shell.execute_reply": "2022-03-21T02:10:34.762548Z"
    },
    "papermill": {
     "duration": 62.039497,
     "end_time": "2022-03-21T02:10:34.762737",
     "exception": false,
     "start_time": "2022-03-21T02:09:32.723240",
     "status": "completed"
    },
    "tags": []
   },
   "outputs": [],
   "source": [
    "###################################\n",
    "# Evaluate the model\n",
    "###################################\n",
    "source_test_label_accuracy, source_test_label_loss = jig.test(datasets.source.processed.test)\n",
    "target_test_label_accuracy, target_test_label_loss = jig.test(datasets.target.processed.test)\n",
    "\n",
    "source_val_label_accuracy, source_val_label_loss = jig.test(datasets.source.processed.val)\n",
    "target_val_label_accuracy, target_val_label_loss = jig.test(datasets.target.processed.val)\n",
    "\n",
    "history = jig.get_history()\n",
    "\n",
    "total_epochs_trained = len(history[\"epoch_indices\"])\n",
    "\n",
    "val_dl = Iterable_Aggregator((datasets.source.original.val,datasets.target.original.val))\n",
    "\n",
    "confusion = ptn_confusion_by_domain_over_dataloader(model, p.device, val_dl)\n",
    "per_domain_accuracy = per_domain_accuracy_from_confusion(confusion)\n",
    "\n",
    "# Add a key to per_domain_accuracy for if it was a source domain\n",
    "for domain, accuracy in per_domain_accuracy.items():\n",
    "    per_domain_accuracy[domain] = {\n",
    "        \"accuracy\": accuracy,\n",
    "        \"source?\": domain in p.domains_source\n",
    "    }\n",
    "\n",
    "# Do an independent accuracy assesment JUST TO BE SURE!\n",
    "# _source_test_label_accuracy = independent_accuracy_assesment(model, datasets.source.processed.test, p.device)\n",
    "# _target_test_label_accuracy = independent_accuracy_assesment(model, datasets.target.processed.test, p.device)\n",
    "# _source_val_label_accuracy = independent_accuracy_assesment(model, datasets.source.processed.val, p.device)\n",
    "# _target_val_label_accuracy = independent_accuracy_assesment(model, datasets.target.processed.val, p.device)\n",
    "\n",
    "# assert(_source_test_label_accuracy == source_test_label_accuracy)\n",
    "# assert(_target_test_label_accuracy == target_test_label_accuracy)\n",
    "# assert(_source_val_label_accuracy == source_val_label_accuracy)\n",
    "# assert(_target_val_label_accuracy == target_val_label_accuracy)\n",
    "\n",
    "experiment = {\n",
    "    \"experiment_name\": p.experiment_name,\n",
    "    \"parameters\": dict(p),\n",
    "    \"results\": {\n",
    "        \"source_test_label_accuracy\": source_test_label_accuracy,\n",
    "        \"source_test_label_loss\": source_test_label_loss,\n",
    "        \"target_test_label_accuracy\": target_test_label_accuracy,\n",
    "        \"target_test_label_loss\": target_test_label_loss,\n",
    "        \"source_val_label_accuracy\": source_val_label_accuracy,\n",
    "        \"source_val_label_loss\": source_val_label_loss,\n",
    "        \"target_val_label_accuracy\": target_val_label_accuracy,\n",
    "        \"target_val_label_loss\": target_val_label_loss,\n",
    "        \"total_epochs_trained\": total_epochs_trained,\n",
    "        \"total_experiment_time_secs\": total_experiment_time_secs,\n",
    "        \"confusion\": confusion,\n",
    "        \"per_domain_accuracy\": per_domain_accuracy,\n",
    "    },\n",
    "    \"history\": history,\n",
    "    \"dataset_metrics\": get_dataset_metrics(datasets, \"ptn\"),\n",
    "}"
   ]
  },
  {
   "cell_type": "code",
   "execution_count": 25,
   "id": "54a21829",
   "metadata": {
    "execution": {
     "iopub.execute_input": "2022-03-21T02:10:34.834843Z",
     "iopub.status.busy": "2022-03-21T02:10:34.834470Z",
     "iopub.status.idle": "2022-03-21T02:10:35.052059Z",
     "shell.execute_reply": "2022-03-21T02:10:35.052778Z"
    },
    "papermill": {
     "duration": 0.25275,
     "end_time": "2022-03-21T02:10:35.052969",
     "exception": false,
     "start_time": "2022-03-21T02:10:34.800219",
     "status": "completed"
    },
    "tags": []
   },
   "outputs": [
    {
     "data": {
      "image/png": "[encoded data removed]",
      "text/plain": [
       "<Figure size 1080x504 with 1 Axes>"
      ]
     },
     "metadata": {
      "needs_background": "light"
     },
     "output_type": "display_data"
    }
   ],
   "source": [
    "ax = get_loss_curve(experiment)\n",
    "plt.show()"
   ]
  },
  {
   "cell_type": "code",
   "execution_count": 26,
   "id": "fd8a0f60",
   "metadata": {
    "execution": {
     "iopub.execute_input": "2022-03-21T02:10:35.127577Z",
     "iopub.status.busy": "2022-03-21T02:10:35.127184Z",
     "iopub.status.idle": "2022-03-21T02:10:35.470546Z",
     "shell.execute_reply": "2022-03-21T02:10:35.470854Z"
    },
    "papermill": {
     "duration": 0.38023,
     "end_time": "2022-03-21T02:10:35.470950",
     "exception": false,
     "start_time": "2022-03-21T02:10:35.090720",
     "status": "completed"
    },
    "tags": []
   },
   "outputs": [
    {
     "data": {
      "text/plain": [
       "<AxesSubplot:title={'center':'Results'}>"
      ]
     },
     "execution_count": 26,
     "metadata": {},
     "output_type": "execute_result"
    },
    {
     "data": {
      "image/png": "[encoded data removed]",
      "text/plain": [
       "<Figure size 1080x504 with 1 Axes>"
      ]
     },
     "metadata": {
      "needs_background": "light"
     },
     "output_type": "display_data"
    }
   ],
   "source": [
    "get_results_table(experiment)"
   ]
  },
  {
   "cell_type": "code",
   "execution_count": 27,
   "id": "cf8dc689",
   "metadata": {
    "execution": {
     "iopub.execute_input": "2022-03-21T02:10:35.544659Z",
     "iopub.status.busy": "2022-03-21T02:10:35.544124Z",
     "iopub.status.idle": "2022-03-21T02:10:35.769305Z",
     "shell.execute_reply": "2022-03-21T02:10:35.769983Z"
    },
    "papermill": {
     "duration": 0.263685,
     "end_time": "2022-03-21T02:10:35.770169",
     "exception": false,
     "start_time": "2022-03-21T02:10:35.506484",
     "status": "completed"
    },
    "tags": []
   },
   "outputs": [
    {
     "data": {
      "text/plain": [
       "<AxesSubplot:title={'center':'Per Domain Validation Accuracy'}, xlabel='domain'>"
      ]
     },
     "execution_count": 27,
     "metadata": {},
     "output_type": "execute_result"
    },
    {
     "data": {
      "image/png": "[encoded data removed]",
      "text/plain": [
       "<Figure size 1080x504 with 1 Axes>"
      ]
     },
     "metadata": {
      "needs_background": "light"
     },
     "output_type": "display_data"
    }
   ],
   "source": [
    "get_domain_accuracies(experiment)"
   ]
  },
  {
   "cell_type": "code",
   "execution_count": 28,
   "id": "a74ae082",
   "metadata": {
    "execution": {
     "iopub.execute_input": "2022-03-21T02:10:35.849947Z",
     "iopub.status.busy": "2022-03-21T02:10:35.849561Z",
     "iopub.status.idle": "2022-03-21T02:10:35.873032Z",
     "shell.execute_reply": "2022-03-21T02:10:35.872319Z"
    },
    "papermill": {
     "duration": 0.062919,
     "end_time": "2022-03-21T02:10:35.873188",
     "exception": false,
     "start_time": "2022-03-21T02:10:35.810269",
     "status": "completed"
    },
    "tags": []
   },
   "outputs": [
    {
     "name": "stdout",
     "output_type": "stream",
     "text": [
      "Source Test Label Accuracy: 0.9951724137931034 Target Test Label Accuracy: 0.7396678498985801\n",
      "Source Val Label Accuracy: 0.9967672413793104 Target Val Label Accuracy: 0.7347790948275862\n"
     ]
    }
   ],
   "source": [
    "print(\"Source Test Label Accuracy:\", experiment[\"results\"][\"source_test_label_accuracy\"], \"Target Test Label Accuracy:\", experiment[\"results\"][\"target_test_label_accuracy\"])\n",
    "print(\"Source Val Label Accuracy:\", experiment[\"results\"][\"source_val_label_accuracy\"], \"Target Val Label Accuracy:\", experiment[\"results\"][\"target_val_label_accuracy\"])"
   ]
  },
  {
   "cell_type": "code",
   "execution_count": 29,
   "id": "dacca602",
   "metadata": {
    "execution": {
     "iopub.execute_input": "2022-03-21T02:10:35.954091Z",
     "iopub.status.busy": "2022-03-21T02:10:35.953723Z",
     "iopub.status.idle": "2022-03-21T02:10:35.975647Z",
     "shell.execute_reply": "2022-03-21T02:10:35.976327Z"
    },
    "papermill": {
     "duration": 0.061023,
     "end_time": "2022-03-21T02:10:35.976517",
     "exception": false,
     "start_time": "2022-03-21T02:10:35.915494",
     "status": "completed"
    },
    "tags": [
     "experiment_json"
    ]
   },
   "outputs": [
    {
     "data": {
      "text/plain": [
       "'{\"experiment_name\": \"tl_1v2:cores-wisig\", \"parameters\": {\"experiment_name\": \"tl_1v2:cores-wisig\", \"device\": \"cuda\", \"lr\": 0.0001, \"n_shot\": 3, \"n_query\": 2, \"train_k_factor\": 3, \"val_k_factor\": 2, \"test_k_factor\": 2, \"torch_default_dtype\": \"torch.float32\", \"n_epoch\": 3, \"patience\": 3, \"criteria_for_best\": \"target_accuracy\", \"x_net\": [{\"class\": \"nnReshape\", \"kargs\": {\"shape\": [-1, 1, 2, 256]}}, {\"class\": \"Conv2d\", \"kargs\": {\"in_channels\": 1, \"out_channels\": 256, \"kernel_size\": [1, 7], \"bias\": false, \"padding\": [0, 3]}}, {\"class\": \"ReLU\", \"kargs\": {\"inplace\": true}}, {\"class\": \"BatchNorm2d\", \"kargs\": {\"num_features\": 256}}, {\"class\": \"Conv2d\", \"kargs\": {\"in_channels\": 256, \"out_channels\": 80, \"kernel_size\": [2, 7], \"bias\": true, \"padding\": [0, 3]}}, {\"class\": \"ReLU\", \"kargs\": {\"inplace\": true}}, {\"class\": \"BatchNorm2d\", \"kargs\": {\"num_features\": 80}}, {\"class\": \"Flatten\", \"kargs\": {}}, {\"class\": \"Linear\", \"kargs\": {\"in_features\": 20480, \"out_features\": 256}}, {\"class\": \"ReLU\", \"kargs\": {\"inplace\": true}}, {\"class\": \"BatchNorm1d\", \"kargs\": {\"num_features\": 256}}, {\"class\": \"Linear\", \"kargs\": {\"in_features\": 256, \"out_features\": 256}}], \"NUM_LOGS_PER_EPOCH\": 10, \"BEST_MODEL_PATH\": \"./best_model.pth\", \"n_way\": 58, \"datasets\": [{\"labels\": [\"1-10.\", \"1-11.\", \"1-15.\", \"1-16.\", \"1-17.\", \"1-18.\", \"1-19.\", \"10-4.\", \"10-7.\", \"11-1.\", \"11-14.\", \"11-17.\", \"11-20.\", \"11-7.\", \"13-20.\", \"13-8.\", \"14-10.\", \"14-11.\", \"14-14.\", \"14-7.\", \"15-1.\", \"15-20.\", \"16-1.\", \"16-16.\", \"17-10.\", \"17-11.\", \"17-2.\", \"19-1.\", \"19-16.\", \"19-19.\", \"19-20.\", \"19-3.\", \"2-10.\", \"2-11.\", \"2-17.\", \"2-18.\", \"2-20.\", \"2-3.\", \"2-4.\", \"2-5.\", \"2-6.\", \"2-7.\", \"2-8.\", \"3-13.\", \"3-18.\", \"3-3.\", \"4-1.\", \"4-10.\", \"4-11.\", \"4-19.\", \"5-5.\", \"6-15.\", \"7-10.\", \"7-14.\", \"8-18.\", \"8-20.\", \"8-3.\", \"8-8.\"], \"domains\": [1, 2, 3, 4, 5], \"num_examples_per_domain_per_label\": -1, \"pickle_path\": \"/root/csc500-main/datasets/cores.stratified_ds.2022A.pkl\", \"source_or_target_dataset\": \"source\", \"x_transforms\": [], \"episode_transforms\": [], \"domain_prefix\": \"CORES_\"}, {\"labels\": [\"1-10\", \"1-12\", \"1-14\", \"1-16\", \"1-18\", \"1-19\", \"1-8\", \"10-11\", \"10-17\", \"10-4\", \"10-7\", \"11-1\", \"11-10\", \"11-19\", \"11-20\", \"11-4\", \"11-7\", \"12-19\", \"12-20\", \"12-7\", \"13-14\", \"13-18\", \"13-19\", \"13-20\", \"13-3\", \"13-7\", \"14-10\", \"14-11\", \"14-12\", \"14-13\", \"14-14\", \"14-19\", \"14-20\", \"14-7\", \"14-8\", \"14-9\", \"15-1\", \"15-19\", \"15-6\", \"16-1\", \"16-16\", \"16-19\", \"16-20\", \"17-10\", \"17-11\", \"18-1\", \"18-10\", \"18-11\", \"18-12\", \"18-13\", \"18-14\", \"18-15\", \"18-16\", \"18-17\", \"18-19\", \"18-2\", \"18-20\", \"18-4\", \"18-5\", \"18-7\", \"18-8\", \"18-9\", \"19-1\", \"19-10\", \"19-11\", \"19-12\", \"19-13\", \"19-14\", \"19-15\", \"19-19\", \"19-2\", \"19-20\", \"19-3\", \"19-4\", \"19-6\", \"19-7\", \"19-8\", \"19-9\", \"2-1\", \"2-13\", \"2-15\", \"2-3\", \"2-4\", \"2-5\", \"2-6\", \"2-7\", \"2-8\", \"20-1\", \"20-12\", \"20-14\", \"20-15\", \"20-16\", \"20-18\", \"20-19\", \"20-20\", \"20-3\", \"20-4\", \"20-5\", \"20-7\", \"20-8\", \"3-1\", \"3-13\", \"3-18\", \"3-2\", \"3-8\", \"4-1\", \"4-10\", \"4-11\", \"5-1\", \"5-5\", \"6-1\", \"6-15\", \"6-6\", \"7-10\", \"7-11\", \"7-12\", \"7-13\", \"7-14\", \"7-7\", \"7-8\", \"7-9\", \"8-1\", \"8-13\", \"8-14\", \"8-18\", \"8-20\", \"8-3\", \"8-8\", \"9-1\", \"9-7\"], \"domains\": [1, 2, 3, 4], \"num_examples_per_domain_per_label\": -1, \"pickle_path\": \"/root/csc500-main/datasets/wisig.node3-19.stratified_ds.2022A.pkl\", \"source_or_target_dataset\": \"target\", \"x_transforms\": [], \"episode_transforms\": [], \"domain_prefix\": \"Wisig_\"}], \"dataset_seed\": 1337, \"seed\": 1337, \"x_shape\": [2, 256], \"domains_source\": [\"CORES_1\", \"CORES_2\", \"CORES_3\", \"CORES_4\", \"CORES_5\"], \"domains_target\": [\"Wisig_1\", \"Wisig_2\", \"Wisig_3\", \"Wisig_4\"]}, \"results\": {\"source_test_label_accuracy\": 0.9951724137931034, \"source_test_label_loss\": 0.03265713155269623, \"target_test_label_accuracy\": 0.7396678498985801, \"target_test_label_loss\": 1.9024887084960938, \"source_val_label_accuracy\": 0.9967672413793104, \"source_val_label_loss\": 0.030331145972013474, \"target_val_label_accuracy\": 0.7347790948275862, \"target_val_label_loss\": 1.915163516998291, \"total_epochs_trained\": 3, \"total_experiment_time_secs\": 153.48404622077942, \"confusion\": {\"CORES_3\": {\"1\": {\"1\": 16}, \"28\": {\"28\": 16}, \"21\": {\"21\": 16}, \"27\": {\"27\": 16}, \"20\": {\"20\": 16}, \"16\": {\"16\": 16}, \"48\": {\"48\": 15, \"41\": 1}, \"42\": {\"42\": 16}, \"45\": {\"45\": 15, \"6\": 1}, \"41\": {\"41\": 16}, \"13\": {\"13\": 16}, \"50\": {\"50\": 15, \"21\": 1}, \"32\": {\"32\": 16}, \"51\": {\"51\": 16}, \"30\": {\"30\": 16}, \"38\": {\"38\": 16}, \"7\": {\"7\": 16}, \"22\": {\"22\": 16}, \"37\": {\"37\": 16}, \"33\": {\"33\": 16}, \"6\": {\"6\": 16}, \"14\": {\"14\": 16}, \"40\": {\"40\": 16}, \"55\": {\"55\": 16}, \"2\": {\"2\": 16}, \"39\": {\"39\": 16}, \"56\": {\"56\": 16}, \"17\": {\"17\": 16}, \"10\": {\"10\": 16}, \"9\": {\"9\": 16}, \"31\": {\"31\": 16}, \"12\": {\"12\": 16}, \"25\": {\"25\": 16}, \"0\": {\"0\": 16}, \"47\": {\"47\": 16}, \"44\": {\"44\": 16}, \"23\": {\"23\": 16}, \"15\": {\"15\": 16}, \"8\": {\"8\": 16}, \"54\": {\"54\": 16}, \"52\": {\"52\": 16}, \"29\": {\"29\": 16}, \"5\": {\"5\": 16}, \"34\": {\"34\": 16}, \"35\": {\"35\": 16}, \"26\": {\"26\": 16}, \"57\": {\"57\": 16}, \"53\": {\"53\": 16}, \"36\": {\"36\": 16}, \"18\": {\"18\": 16}, \"49\": {\"49\": 16}, \"3\": {\"3\": 16}, \"4\": {\"4\": 16}, \"24\": {\"24\": 16}, \"11\": {\"11\": 16}, \"19\": {\"19\": 16}, \"43\": {\"43\": 16}, \"46\": {\"46\": 16}}, \"CORES_4\": {\"9\": {\"9\": 16}, \"4\": {\"4\": 16}, \"20\": {\"20\": 16}, \"26\": {\"26\": 16}, \"19\": {\"19\": 16}, \"35\": {\"35\": 16}, \"14\": {\"14\": 15, \"0\": 1}, \"10\": {\"10\": 16}, \"1\": {\"1\": 16}, \"3\": {\"3\": 16}, \"29\": {\"29\": 16}, \"47\": {\"47\": 16}, \"50\": {\"50\": 15, \"6\": 1}, \"51\": {\"51\": 16}, \"55\": {\"55\": 16}, \"27\": {\"27\": 16}, \"31\": {\"31\": 16}, \"30\": {\"30\": 16}, \"37\": {\"37\": 16}, \"36\": {\"36\": 16}, \"48\": {\"48\": 16}, \"46\": {\"46\": 16}, \"25\": {\"25\": 16}, \"53\": {\"53\": 16}, \"0\": {\"0\": 16}, \"8\": {\"8\": 16}, \"15\": {\"15\": 16}, \"22\": {\"22\": 16}, \"45\": {\"45\": 16}, \"43\": {\"43\": 16}, \"12\": {\"12\": 16}, \"24\": {\"24\": 16}, \"11\": {\"11\": 16}, \"44\": {\"44\": 16}, \"5\": {\"5\": 16}, \"6\": {\"6\": 16}, \"49\": {\"49\": 16}, \"2\": {\"2\": 16}, \"18\": {\"18\": 16}, \"54\": {\"54\": 16}, \"41\": {\"41\": 16}, \"38\": {\"38\": 16}, \"34\": {\"34\": 16}, \"21\": {\"21\": 16}, \"57\": {\"57\": 16}, \"33\": {\"33\": 16}, \"17\": {\"17\": 16}, \"40\": {\"40\": 16}, \"28\": {\"28\": 16}, \"16\": {\"16\": 16}, \"56\": {\"56\": 16}, \"39\": {\"39\": 16}, \"13\": {\"13\": 16}, \"23\": {\"23\": 16}, \"7\": {\"7\": 15, \"37\": 1}, \"52\": {\"52\": 16}, \"42\": {\"42\": 16}, \"32\": {\"32\": 16}}, \"CORES_5\": {\"13\": {\"13\": 20}, \"35\": {\"35\": 20}, \"12\": {\"12\": 20}, \"55\": {\"55\": 20}, \"43\": {\"43\": 20}, \"3\": {\"3\": 20}, \"20\": {\"20\": 20}, \"9\": {\"9\": 20}, \"41\": {\"41\": 20}, \"45\": {\"45\": 14, \"6\": 6}, \"11\": {\"11\": 20}, \"7\": {\"7\": 20}, \"27\": {\"27\": 20}, \"56\": {\"56\": 20}, \"4\": {\"4\": 20}, \"5\": {\"5\": 20}, \"49\": {\"49\": 20}, \"24\": {\"24\": 20}, \"0\": {\"0\": 20}, \"40\": {\"40\": 20}, \"15\": {\"15\": 20}, \"42\": {\"42\": 20}, \"44\": {\"44\": 20}, \"46\": {\"46\": 20}, \"30\": {\"30\": 20}, \"1\": {\"1\": 20}, \"34\": {\"34\": 20}, \"51\": {\"51\": 20}, \"6\": {\"6\": 20}, \"50\": {\"50\": 20}, \"26\": {\"26\": 20}, \"52\": {\"52\": 20}, \"57\": {\"57\": 20}, \"36\": {\"36\": 20}, \"33\": {\"33\": 20}, \"19\": {\"19\": 20}, \"53\": {\"53\": 20}, \"28\": {\"28\": 20}, \"10\": {\"10\": 20}, \"32\": {\"32\": 20}, \"8\": {\"8\": 20}, \"48\": {\"48\": 20}, \"16\": {\"16\": 20}, \"17\": {\"17\": 20}, \"23\": {\"23\": 20}, \"29\": {\"29\": 20}, \"2\": {\"2\": 20}, \"21\": {\"21\": 20}, \"38\": {\"38\": 20}, \"14\": {\"14\": 20}, \"39\": {\"39\": 20}, \"54\": {\"54\": 20}, \"18\": {\"18\": 20}, \"22\": {\"22\": 20}, \"37\": {\"37\": 20}, \"47\": {\"47\": 20}, \"25\": {\"25\": 20}, \"31\": {\"31\": 20}}, \"CORES_1\": {\"47\": {\"47\": 24}, \"9\": {\"9\": 24}, \"35\": {\"35\": 24}, \"10\": {\"10\": 24}, \"21\": {\"21\": 24}, \"19\": {\"19\": 24}, \"14\": {\"14\": 24}, \"36\": {\"36\": 24}, \"46\": {\"46\": 24}, \"49\": {\"49\": 24}, \"5\": {\"5\": 24}, \"54\": {\"54\": 24}, \"56\": {\"56\": 24}, \"48\": {\"48\": 24}, \"15\": {\"15\": 24}, \"23\": {\"23\": 24}, \"55\": {\"55\": 24}, \"1\": {\"1\": 24}, \"22\": {\"22\": 23, \"21\": 1}, \"44\": {\"44\": 24}, \"37\": {\"37\": 24}, \"28\": {\"28\": 24}, \"11\": {\"11\": 24}, \"2\": {\"2\": 24}, \"29\": {\"29\": 24}, \"4\": {\"4\": 24}, \"3\": {\"3\": 24}, \"43\": {\"43\": 24}, \"51\": {\"51\": 24}, \"0\": {\"0\": 24}, \"7\": {\"7\": 24}, \"6\": {\"6\": 24}, \"24\": {\"24\": 24}, \"50\": {\"50\": 24}, \"26\": {\"26\": 24}, \"34\": {\"34\": 24}, \"41\": {\"41\": 24}, \"25\": {\"25\": 24}, \"39\": {\"39\": 24}, \"53\": {\"53\": 24}, \"38\": {\"38\": 24}, \"8\": {\"8\": 24}, \"27\": {\"27\": 24}, \"40\": {\"40\": 24}, \"45\": {\"45\": 24}, \"33\": {\"33\": 24}, \"32\": {\"32\": 23, \"38\": 1}, \"17\": {\"17\": 24}, \"57\": {\"57\": 24}, \"42\": {\"42\": 24}, \"13\": {\"13\": 24}, \"16\": {\"16\": 24}, \"12\": {\"12\": 24}, \"52\": {\"52\": 24}, \"30\": {\"30\": 24}, \"20\": {\"20\": 24}, \"18\": {\"18\": 24}, \"31\": {\"31\": 24}}, \"CORES_2\": {\"25\": {\"25\": 20}, \"24\": {\"24\": 20}, \"39\": {\"39\": 19, \"57\": 1}, \"49\": {\"49\": 20}, \"44\": {\"44\": 20}, \"57\": {\"57\": 20}, \"2\": {\"2\": 20}, \"16\": {\"16\": 20}, \"41\": {\"41\": 19, \"30\": 1}, \"27\": {\"27\": 20}, \"5\": {\"5\": 20}, \"13\": {\"13\": 20}, \"45\": {\"45\": 18, \"6\": 2}, \"43\": {\"43\": 20}, \"22\": {\"22\": 20}, \"21\": {\"21\": 20}, \"38\": {\"38\": 20}, \"33\": {\"33\": 20}, \"28\": {\"28\": 20}, \"34\": {\"34\": 20}, \"19\": {\"19\": 20}, \"3\": {\"3\": 20}, \"20\": {\"20\": 20}, \"47\": {\"47\": 20}, \"30\": {\"30\": 20}, \"46\": {\"46\": 20}, \"9\": {\"9\": 20}, \"11\": {\"11\": 20}, \"15\": {\"15\": 20}, \"0\": {\"0\": 20}, \"37\": {\"37\": 20}, \"40\": {\"40\": 20}, \"18\": {\"18\": 20}, \"54\": {\"54\": 20}, \"51\": {\"51\": 20}, \"48\": {\"48\": 20}, \"55\": {\"55\": 20}, \"42\": {\"42\": 20}, \"17\": {\"17\": 20}, \"26\": {\"26\": 20}, \"36\": {\"36\": 20}, \"32\": {\"32\": 20}, \"23\": {\"23\": 20}, \"7\": {\"7\": 20}, \"1\": {\"1\": 20}, \"35\": {\"35\": 20}, \"56\": {\"56\": 20}, \"8\": {\"8\": 20}, \"6\": {\"6\": 20}, \"29\": {\"29\": 20}, \"4\": {\"4\": 20}, \"50\": {\"50\": 20}, \"52\": {\"52\": 20}, \"12\": {\"12\": 20}, \"10\": {\"10\": 20}, \"31\": {\"31\": 20}, \"14\": {\"14\": 20}, \"53\": {\"53\": 20}}, \"Wisig_3\": {\"36\": {\"36\": 29, \"24\": 2, \"27\": 3, \"108\": 2}, \"123\": {\"123\": 11, \"17\": 2, \"80\": 1, \"63\": 1, \"67\": 1}, \"53\": {\"53\": 19, \"19\": 1}, \"24\": {\"24\": 23, \"27\": 13, \"70\": 1, \"36\": 5, \"88\": 1, \"108\": 1}, \"8\": {\"8\": 31, \"97\": 1, \"15\": 6}, \"49\": {\"49\": 12, \"110\": 1, \"25\": 1, \"106\": 2, \"20\": 2, \"47\": 1, \"8\": 1, \"44\": 1, \"124\": 1, \"12\": 1, \"93\": 1}, \"74\": {\"74\": 16}, \"93\": {\"93\": 29, \"20\": 1, \"23\": 1, \"113\": 1}, \"104\": {\"104\": 10, \"82\": 2, \"100\": 1, \"32\": 1, \"89\": 1, \"86\": 1}, \"122\": {\"122\": 32, \"87\": 6, \"110\": 3, \"39\": 1, \"14\": 2, \"19\": 1, \"66\": 1}, \"78\": {\"78\": 11, \"70\": 1, \"39\": 2, \"126\": 1, \"122\": 1}, \"21\": {\"94\": 1, \"21\": 32, \"88\": 1, \"27\": 1, \"126\": 1, \"39\": 1, \"78\": 2, \"75\": 1, \"51\": 1, \"24\": 1}, \"22\": {\"22\": 12, \"76\": 1, \"34\": 1, \"38\": 1, \"28\": 1}, \"27\": {\"36\": 6, \"24\": 12, \"27\": 19, \"39\": 1}, \"124\": {\"124\": 35, \"73\": 2, \"85\": 1, \"21\": 1, \"42\": 1}, \"35\": {\"35\": 10, \"21\": 1, \"126\": 1}, \"37\": {\"37\": 16}, \"45\": {\"29\": 1, \"85\": 1, \"45\": 13, \"119\": 1}, \"55\": {\"9\": 2, \"65\": 1, \"55\": 13}, \"110\": {\"110\": 24, \"122\": 7, \"47\": 1, \"21\": 1, \"60\": 4, \"39\": 2, \"8\": 1, \"87\": 4}, \"2\": {\"2\": 19, \"102\": 1, \"67\": 2, \"61\": 1, \"119\": 1, \"80\": 1, \"117\": 3}, \"23\": {\"81\": 3, \"97\": 1, \"121\": 4, \"122\": 4, \"110\": 5, \"18\": 5, \"34\": 2, \"87\": 1, \"12\": 1, \"126\": 1, \"60\": 1, \"23\": 2, \"99\": 1, \"8\": 1}, \"29\": {\"29\": 26, \"100\": 1, \"92\": 1, \"5\": 2, \"90\": 2}, \"90\": {\"90\": 31, \"29\": 4, \"92\": 6, \"44\": 3}, \"127\": {\"127\": 34, \"39\": 1, \"99\": 2, \"60\": 1, \"105\": 1, \"126\": 1}, \"13\": {\"48\": 1, \"2\": 1, \"80\": 2, \"126\": 1, \"13\": 4, \"119\": 2, \"67\": 2, \"43\": 1, \"116\": 1, \"64\": 1}, \"48\": {\"22\": 1, \"37\": 3, \"17\": 3, \"119\": 2, \"65\": 1, \"28\": 2, \"55\": 1, \"13\": 1, \"48\": 1, \"41\": 1}, \"105\": {\"40\": 13, \"105\": 31, \"34\": 1, \"127\": 1}, \"50\": {\"50\": 13, \"55\": 2, \"32\": 1}, \"52\": {\"52\": 14, \"85\": 1, \"34\": 1}, \"9\": {\"9\": 27, \"99\": 3, \"105\": 1, \"56\": 1}, \"94\": {\"94\": 35, \"15\": 5, \"97\": 3, \"106\": 2, \"30\": 1}, \"14\": {\"14\": 34, \"84\": 2, \"3\": 2}, \"98\": {\"98\": 41, \"58\": 1, \"47\": 1, \"128\": 1, \"72\": 2, \"117\": 1, \"99\": 1}, \"64\": {\"64\": 17, \"121\": 2, \"13\": 1}, \"97\": {\"97\": 8, \"15\": 3, \"94\": 8, \"39\": 1}, \"117\": {\"117\": 38, \"2\": 1, \"13\": 1}, \"85\": {\"85\": 17, \"5\": 1, \"111\": 1, \"53\": 1, \"91\": 1, \"108\": 2, \"112\": 4, \"124\": 1, \"73\": 1, \"46\": 1}, \"44\": {\"90\": 3, \"44\": 26, \"33\": 2, \"1\": 1, \"100\": 1, \"114\": 1}, \"80\": {\"80\": 16}, \"16\": {\"16\": 34, \"93\": 3, \"1\": 1}, \"103\": {\"103\": 14, \"114\": 1, \"100\": 1}, \"40\": {\"40\": 27, \"56\": 1, \"105\": 7, \"99\": 1}, \"30\": {\"78\": 1, \"30\": 30, \"34\": 1, \"8\": 1, \"110\": 1, \"94\": 1, \"97\": 2, \"101\": 1, \"21\": 1, \"15\": 1}, \"6\": {\"6\": 23, \"98\": 2, \"111\": 2, \"58\": 1, \"68\": 2, \"59\": 1, \"91\": 1}, \"108\": {\"108\": 35, \"97\": 1}, \"33\": {\"33\": 37, \"26\": 1, \"50\": 1, \"23\": 1}, \"96\": {\"96\": 20}, \"79\": {\"79\": 12}, \"109\": {\"109\": 30, \"118\": 6, \"122\": 1, \"70\": 1, \"11\": 1, \"43\": 1}, \"81\": {\"81\": 23, \"64\": 1, \"121\": 4, \"61\": 2, \"2\": 2}, \"88\": {\"70\": 5, \"88\": 30, \"39\": 1, \"21\": 3, \"27\": 1}, \"41\": {\"41\": 7, \"9\": 1, \"66\": 3, \"68\": 1, \"91\": 2, \"101\": 1, \"19\": 1}, \"70\": {\"70\": 27, \"78\": 1, \"27\": 1, \"24\": 1, \"39\": 4, \"88\": 3, \"11\": 1}, \"76\": {\"76\": 16}, \"5\": {\"5\": 44, \"43\": 1, \"29\": 1, \"86\": 1, \"19\": 1}, \"0\": {\"0\": 44}, \"4\": {\"4\": 29, \"115\": 1, \"5\": 2, \"129\": 1, \"102\": 1, \"124\": 2}, \"86\": {\"5\": 5, \"91\": 1, \"86\": 16, \"103\": 1, \"50\": 1, \"0\": 1, \"41\": 1, \"39\": 1, \"4\": 1}, \"69\": {\"84\": 8, \"107\": 2, \"33\": 1, \"69\": 27}, \"26\": {\"26\": 43, \"89\": 1, \"113\": 1, \"93\": 1}, \"120\": {\"120\": 15, \"17\": 1, \"2\": 1, \"117\": 1, \"18\": 2}, \"84\": {\"84\": 38, \"14\": 1, \"105\": 1, \"38\": 1, \"40\": 1}, \"12\": {\"12\": 28, \"51\": 1, \"30\": 1, \"47\": 1, \"72\": 2, \"106\": 1, \"110\": 1, \"101\": 1}, \"32\": {\"32\": 17, \"105\": 1, \"74\": 1, \"100\": 2, \"107\": 4, \"57\": 1, \"9\": 2, \"55\": 1, \"46\": 1, \"114\": 1, \"99\": 1}, \"89\": {\"89\": 22, \"82\": 1, \"109\": 1, \"62\": 1, \"92\": 1, \"26\": 1, \"33\": 1}, \"129\": {\"129\": 26, \"5\": 4, \"102\": 1, \"29\": 1}, \"125\": {\"125\": 35, \"124\": 1, \"6\": 2, \"42\": 2}, \"116\": {\"48\": 2, \"116\": 20, \"5\": 1, \"77\": 2, \"89\": 1, \"29\": 1, \"90\": 1}, \"19\": {\"29\": 4, \"91\": 3, \"52\": 1, \"98\": 4, \"19\": 10, \"41\": 1, \"77\": 3, \"90\": 1, \"5\": 1, \"82\": 1, \"103\": 1, \"99\": 1, \"44\": 1}, \"71\": {\"71\": 35, \"3\": 6, \"114\": 1, \"127\": 1, \"21\": 2, \"39\": 1}, \"72\": {\"72\": 25, \"34\": 2, \"98\": 1}, \"100\": {\"100\": 11, \"19\": 1, \"76\": 1, \"107\": 1, \"31\": 1, \"44\": 1}, \"20\": {\"20\": 12, \"6\": 1, \"49\": 2, \"124\": 1}, \"65\": {\"65\": 6, \"67\": 1, \"17\": 1, \"56\": 4}, \"121\": {\"121\": 16, \"61\": 4, \"81\": 5, \"120\": 1, \"21\": 1, \"78\": 1, \"88\": 1, \"70\": 1}, \"34\": {\"34\": 8, \"128\": 1, \"56\": 3, \"107\": 2, \"72\": 6, \"75\": 2, \"99\": 1, \"101\": 2, \"94\": 1, \"98\": 3, \"66\": 1, \"14\": 1, \"60\": 1}, \"119\": {\"80\": 2, \"119\": 11, \"17\": 1, \"123\": 1, \"117\": 1}, \"75\": {\"34\": 2, \"75\": 13, \"0\": 1}, \"1\": {\"1\": 28, \"71\": 1, \"114\": 5, \"107\": 2, \"60\": 1, \"34\": 1}, \"113\": {\"113\": 29, \"26\": 3, \"23\": 1, \"126\": 1}, \"39\": {\"39\": 42, \"88\": 1, \"126\": 2, \"21\": 1}, \"82\": {\"82\": 24, \"89\": 1, \"11\": 1, \"19\": 1, \"118\": 1}, \"67\": {\"67\": 15, \"123\": 1}, \"63\": {\"63\": 16}, \"31\": {\"31\": 17, \"90\": 2, \"29\": 1}, \"38\": {\"38\": 14, \"28\": 1, \"9\": 1}, \"17\": {\"39\": 1, \"82\": 1, \"123\": 1, \"5\": 1, \"67\": 2, \"119\": 2, \"104\": 1, \"63\": 1, \"17\": 1, \"88\": 1, \"117\": 1, \"86\": 1, \"126\": 1, \"80\": 1}, \"106\": {\"106\": 28, \"94\": 2, \"15\": 4, \"39\": 1, \"97\": 1}, \"91\": {\"91\": 9, \"128\": 1, \"41\": 1, \"77\": 3, \"107\": 1, \"47\": 1, \"98\": 1, \"14\": 1, \"68\": 1, \"54\": 1, \"110\": 2, \"19\": 2}, \"56\": {\"56\": 11, \"34\": 1}, \"46\": {\"46\": 11, \"111\": 1, \"19\": 3, \"5\": 1}, \"128\": {\"110\": 1, \"32\": 2, \"98\": 7, \"107\": 4, \"128\": 10, \"69\": 2, \"124\": 1, \"99\": 1}, \"66\": {\"56\": 3, \"66\": 11, \"14\": 1, \"41\": 1}, \"10\": {\"10\": 36, \"101\": 2, \"109\": 1, \"30\": 1}, \"62\": {\"62\": 26, \"40\": 2, \"21\": 1, \"118\": 1}, \"112\": {\"112\": 12, \"83\": 1, \"85\": 1, \"70\": 1, \"129\": 1}, \"47\": {\"98\": 1, \"47\": 11}, \"107\": {\"107\": 33, \"56\": 1, \"1\": 1, \"114\": 1, \"32\": 1, \"100\": 1, \"34\": 1, \"128\": 3}, \"28\": {\"28\": 14, \"57\": 1, \"56\": 1}, \"95\": {\"95\": 32}, \"18\": {\"18\": 34}, \"114\": {\"114\": 22, \"1\": 13, \"28\": 1, \"31\": 1, \"99\": 1}, \"102\": {\"102\": 36}, \"68\": {\"68\": 15, \"21\": 1}, \"126\": {\"126\": 38, \"78\": 1, \"21\": 2, \"39\": 1}, \"111\": {\"111\": 40, \"68\": 1, \"124\": 1, \"41\": 1, \"6\": 1}, \"3\": {\"3\": 26, \"71\": 5, \"99\": 3}, \"73\": {\"73\": 26, \"22\": 1, \"91\": 1, \"98\": 1, \"125\": 2, \"76\": 1, \"46\": 1, \"52\": 1}, \"60\": {\"56\": 2, \"122\": 2, \"60\": 20, \"99\": 1, \"87\": 1, \"0\": 1, \"110\": 1}, \"101\": {\"7\": 2, \"101\": 21, \"21\": 1, \"0\": 4, \"51\": 3, \"39\": 1, \"78\": 1, \"127\": 1}, \"7\": {\"81\": 1, \"7\": 24, \"117\": 1}, \"83\": {\"83\": 24}, \"42\": {\"42\": 11, \"73\": 4, \"112\": 3, \"36\": 1, \"124\": 5, \"52\": 2, \"85\": 1, \"79\": 1}, \"15\": {\"15\": 23, \"97\": 1, \"94\": 11, \"106\": 1, \"30\": 2}, \"11\": {\"11\": 32, \"60\": 1, \"43\": 2, \"110\": 1}, \"58\": {\"58\": 14, \"101\": 1, \"30\": 1}, \"57\": {\"57\": 20}, \"118\": {\"118\": 32, \"21\": 1, \"109\": 3}, \"99\": {\"3\": 1, \"127\": 2, \"99\": 27, \"40\": 2, \"105\": 1, \"66\": 1}, \"25\": {\"25\": 16}, \"61\": {\"61\": 13, \"121\": 3}, \"87\": {\"87\": 30, \"122\": 3, \"40\": 1, \"60\": 1, \"39\": 1, \"84\": 1, \"66\": 1}, \"115\": {\"115\": 12, \"129\": 1, \"86\": 1, \"77\": 1, \"4\": 1}, \"92\": {\"92\": 28, \"21\": 1, \"90\": 3}, \"51\": {\"51\": 12, \"75\": 1, \"101\": 1, \"34\": 1, \"72\": 1}, \"59\": {\"59\": 12}, \"77\": {\"66\": 1, \"77\": 10, \"107\": 1, \"47\": 1, \"68\": 1, \"58\": 1, \"52\": 1}, \"54\": {\"54\": 16}, \"43\": {\"118\": 4, \"43\": 31, \"11\": 1, \"39\": 1, \"69\": 1}}, \"Wisig_2\": {\"37\": {\"37\": 14, \"123\": 1, \"82\": 1}, \"101\": {\"101\": 41, \"0\": 1}, \"83\": {\"83\": 33, \"44\": 3}, \"95\": {\"95\": 28, \"40\": 4, \"105\": 1, \"62\": 2, \"21\": 1}, \"122\": {\"21\": 2, \"122\": 19, \"11\": 1, \"8\": 3, \"43\": 3, \"23\": 2, \"12\": 2, \"110\": 2, \"0\": 2}, \"18\": {\"18\": 45, \"26\": 1, \"70\": 1, \"16\": 1}, \"9\": {\"9\": 29, \"75\": 2, \"70\": 1}, \"57\": {\"57\": 11, \"81\": 5, \"80\": 1, \"90\": 1, \"116\": 1, \"20\": 1}, \"93\": {\"93\": 35, \"96\": 2, \"16\": 6, \"72\": 2, \"23\": 1}, \"64\": {\"72\": 2, \"28\": 2, \"64\": 6, \"92\": 3, \"66\": 1, \"89\": 1, \"88\": 1}, \"70\": {\"39\": 6, \"70\": 13, \"109\": 5, \"87\": 4, \"88\": 3, \"78\": 8, \"126\": 1}, \"36\": {\"36\": 33, \"94\": 1, \"21\": 1, \"27\": 1, \"126\": 1, \"88\": 1, \"108\": 2}, \"109\": {\"70\": 8, \"39\": 9, \"109\": 15, \"117\": 1, \"87\": 4, \"21\": 2, \"78\": 3, \"10\": 1, \"88\": 1}, \"92\": {\"64\": 2, \"89\": 7, \"31\": 3, \"92\": 9, \"118\": 2, \"76\": 1, \"15\": 1, \"107\": 1, \"88\": 1, \"61\": 1}, \"28\": {\"28\": 15, \"64\": 2, \"128\": 1, \"37\": 2}, \"39\": {\"109\": 9, \"39\": 25, \"70\": 1, \"87\": 2, \"21\": 2, \"88\": 1}, \"47\": {\"47\": 6, \"6\": 1, \"90\": 1, \"19\": 1, \"53\": 1, \"83\": 1, \"129\": 1}, \"127\": {\"127\": 43, \"54\": 3, \"90\": 1, \"34\": 1}, \"6\": {\"6\": 26, \"59\": 1, \"111\": 3, \"79\": 2}, \"13\": {\"13\": 7, \"21\": 2, \"117\": 3, \"24\": 1, \"116\": 1, \"2\": 1, \"48\": 1}, \"14\": {\"14\": 16, \"3\": 3, \"40\": 4, \"34\": 2, \"84\": 1, \"107\": 7, \"32\": 2, \"110\": 2, \"21\": 3}, \"110\": {\"21\": 2, \"122\": 4, \"23\": 5, \"110\": 18, \"40\": 1, \"60\": 1, \"12\": 1, \"102\": 1, \"127\": 1}, \"62\": {\"74\": 2, \"62\": 37, \"39\": 1, \"118\": 1, \"95\": 4, \"105\": 1}, \"59\": {\"59\": 14, \"111\": 1, \"124\": 1}, \"10\": {\"35\": 2, \"10\": 23, \"43\": 1, \"101\": 1, \"88\": 1, \"118\": 2, \"7\": 1, \"21\": 1, \"9\": 1, \"30\": 1}, \"41\": {\"41\": 11, \"34\": 1, \"77\": 3, \"52\": 1, \"29\": 1, \"111\": 1, \"103\": 1, \"73\": 1}, \"25\": {\"25\": 12, \"6\": 1, \"91\": 1, \"89\": 1, \"111\": 1}, \"45\": {\"45\": 12, \"82\": 2, \"66\": 1, \"37\": 1}, \"1\": {\"114\": 1, \"1\": 38, \"76\": 1, \"21\": 1, \"49\": 1}, \"61\": {\"61\": 12, \"76\": 3, \"62\": 2, \"32\": 3}, \"3\": {\"1\": 1, \"14\": 1, \"3\": 29, \"56\": 1, \"76\": 1, \"71\": 9}, \"35\": {\"35\": 12}, \"126\": {\"126\": 39, \"88\": 2, \"93\": 1}, \"90\": {\"90\": 35, \"44\": 1, \"119\": 1, \"107\": 1, \"83\": 1, \"81\": 1}, \"58\": {\"9\": 2, \"101\": 1, \"58\": 12, \"15\": 1, \"87\": 1, \"21\": 1, \"75\": 1, \"6\": 1}, \"74\": {\"74\": 12, \"105\": 1, \"56\": 1, \"62\": 2}, \"27\": {\"27\": 32, \"94\": 2, \"86\": 1, \"21\": 1, \"36\": 5, \"108\": 2, \"88\": 2, \"24\": 1}, \"60\": {\"96\": 2, \"118\": 3, \"60\": 8, \"16\": 4, \"43\": 2, \"23\": 4, \"12\": 1, \"76\": 2, \"14\": 1, \"44\": 1}, \"123\": {\"123\": 13, \"89\": 1, \"66\": 2}, \"50\": {\"50\": 12, \"55\": 3, \"123\": 1}, \"84\": {\"84\": 41, \"21\": 1}, \"128\": {\"128\": 9, \"1\": 5, \"71\": 1, \"34\": 1, \"98\": 3, \"53\": 1, \"33\": 1, \"29\": 1, \"114\": 1, \"101\": 1}, \"72\": {\"72\": 17, \"96\": 1, \"69\": 1, \"16\": 1, \"31\": 1, \"26\": 1, \"82\": 4, \"93\": 1, \"21\": 1}, \"96\": {\"96\": 10, \"93\": 5, \"60\": 1, \"16\": 3, \"72\": 1}, \"119\": {\"119\": 16, \"83\": 1, \"129\": 1, \"90\": 1, \"6\": 1}, \"56\": {\"56\": 8, \"14\": 1, \"23\": 2, \"71\": 1}, \"98\": {\"98\": 37, \"128\": 2, \"52\": 1, \"51\": 1, \"33\": 1, \"114\": 1, \"19\": 1, \"49\": 1, \"100\": 1}, \"87\": {\"87\": 20, \"0\": 3, \"43\": 3, \"118\": 1, \"60\": 2, \"110\": 2, \"21\": 4, \"107\": 1, \"14\": 2, \"88\": 1, \"16\": 1, \"122\": 2}, \"40\": {\"56\": 1, \"40\": 25, \"105\": 1, \"107\": 4, \"95\": 14, \"122\": 1}, \"114\": {\"114\": 34, \"1\": 3, \"128\": 1, \"34\": 1, \"3\": 1}, \"55\": {\"55\": 13, \"50\": 1, \"107\": 1, \"61\": 1}, \"8\": {\"8\": 48, \"11\": 10, \"94\": 1, \"122\": 1}, \"79\": {\"79\": 14, \"59\": 1, \"9\": 1}, \"112\": {\"98\": 3, \"112\": 4, \"34\": 1, \"42\": 3, \"5\": 2, \"128\": 1, \"19\": 2}, \"21\": {\"21\": 44, \"24\": 1, \"88\": 1}, \"42\": {\"42\": 13, \"116\": 2, \"115\": 1, \"21\": 1, \"111\": 1, \"59\": 1, \"129\": 1, \"124\": 4, \"46\": 1, \"85\": 3}, \"5\": {\"5\": 33, \"73\": 1, \"85\": 1, \"19\": 1, \"21\": 2, \"129\": 2}, \"22\": {\"22\": 17, \"76\": 1, \"89\": 2}, \"73\": {\"73\": 22, \"85\": 3, \"31\": 1, \"67\": 1, \"114\": 1}, \"69\": {\"69\": 22, \"31\": 1, \"88\": 1, \"33\": 2, \"21\": 3, \"93\": 1}, \"108\": {\"108\": 31, \"94\": 1}, \"118\": {\"118\": 32, \"43\": 4, \"60\": 2, \"62\": 2, \"122\": 1, \"88\": 1}, \"4\": {\"4\": 29, \"24\": 1, \"124\": 2, \"5\": 2, \"17\": 1, \"115\": 1, \"21\": 1, \"102\": 1}, \"49\": {\"34\": 4, \"120\": 1, \"49\": 6, \"36\": 1, \"19\": 2, \"98\": 1, \"9\": 2, \"30\": 1, \"3\": 2, \"15\": 1, \"128\": 1, \"99\": 1, \"114\": 1}, \"99\": {\"99\": 27, \"20\": 1, \"121\": 1, \"2\": 1, \"13\": 1, \"120\": 1}, \"66\": {\"66\": 10, \"76\": 1, \"89\": 3, \"45\": 1, \"88\": 1, \"22\": 1, \"6\": 1, \"86\": 1, \"31\": 1}, \"116\": {\"90\": 2, \"82\": 3, \"116\": 15, \"120\": 2, \"57\": 1, \"119\": 2, \"34\": 1, \"46\": 1, \"115\": 1}, \"67\": {\"39\": 1, \"67\": 8, \"100\": 1, \"82\": 1, \"6\": 1, \"116\": 1, \"80\": 1, \"81\": 1, \"126\": 1}, \"15\": {\"15\": 27, \"30\": 1, \"21\": 1, \"106\": 2, \"12\": 1, \"51\": 1, \"94\": 1}, \"63\": {\"63\": 16, \"13\": 1, \"120\": 1, \"41\": 1, \"99\": 1}, \"26\": {\"26\": 33, \"87\": 1, \"89\": 1, \"72\": 2, \"16\": 1}, \"24\": {\"24\": 32, \"21\": 3, \"88\": 2, \"126\": 1, \"108\": 1, \"27\": 1}, \"103\": {\"103\": 11, \"92\": 1, \"124\": 1, \"70\": 1, \"52\": 1, \"41\": 1}, \"38\": {\"38\": 16}, \"71\": {\"3\": 10, \"71\": 28, \"21\": 2, \"1\": 2, \"114\": 2, \"24\": 1, \"34\": 1}, \"75\": {\"75\": 13, \"101\": 1, \"58\": 2}, \"44\": {\"44\": 36, \"47\": 1, \"99\": 1}, \"104\": {\"66\": 1, \"39\": 1, \"104\": 14, \"9\": 1, \"92\": 1, \"38\": 1, \"28\": 1}, \"23\": {\"23\": 5, \"122\": 2, \"20\": 4, \"57\": 2, \"42\": 1, \"81\": 5, \"12\": 7, \"113\": 10, \"0\": 4, \"110\": 2}, \"105\": {\"105\": 27, \"118\": 1}, \"30\": {\"30\": 32, \"101\": 2, \"0\": 3, \"21\": 1, \"88\": 1, \"23\": 2, \"8\": 1}, \"120\": {\"120\": 17, \"65\": 1, \"117\": 1, \"99\": 1}, \"113\": {\"113\": 37, \"23\": 1, \"21\": 1, \"109\": 1}, \"53\": {\"53\": 16}, \"91\": {\"37\": 1, \"103\": 1, \"91\": 10, \"52\": 1, \"41\": 2, \"28\": 2, \"111\": 1, \"21\": 2, \"19\": 3, \"112\": 1, \"98\": 1, \"34\": 1, \"89\": 1, \"14\": 1}, \"89\": {\"89\": 21, \"66\": 2, \"22\": 3, \"92\": 4, \"101\": 1, \"21\": 1, \"82\": 1, \"31\": 1, \"60\": 1, \"34\": 1}, \"117\": {\"117\": 35, \"92\": 1, \"2\": 3, \"65\": 3}, \"82\": {\"89\": 3, \"82\": 26, \"116\": 1, \"110\": 1, \"107\": 1, \"37\": 2, \"45\": 1, \"92\": 1}, \"20\": {\"20\": 15, \"94\": 1}, \"34\": {\"23\": 1, \"49\": 2, \"34\": 14, \"54\": 2, \"98\": 1, \"97\": 3, \"60\": 1, \"48\": 1, \"56\": 1, \"71\": 1, \"3\": 1, \"32\": 1, \"114\": 2, \"110\": 1}, \"7\": {\"7\": 33, \"21\": 1, \"95\": 2}, \"80\": {\"80\": 12, \"17\": 1, \"102\": 1, \"46\": 1, \"119\": 1}, \"125\": {\"125\": 46}, \"16\": {\"93\": 7, \"16\": 27, \"72\": 2, \"69\": 2, \"26\": 1, \"23\": 1}, \"88\": {\"88\": 31, \"109\": 1, \"21\": 1, \"126\": 1, \"78\": 1, \"14\": 1, \"39\": 2, \"70\": 1, \"110\": 1, \"24\": 1, \"87\": 1}, \"85\": {\"28\": 1, \"112\": 1, \"85\": 18, \"73\": 4, \"19\": 1, \"6\": 1, \"129\": 4, \"67\": 1, \"5\": 1}, \"17\": {\"17\": 3, \"115\": 2, \"39\": 1, \"104\": 2, \"31\": 1, \"88\": 1, \"41\": 1, \"67\": 1, \"70\": 1, \"73\": 1, \"123\": 2}, \"107\": {\"107\": 27, \"3\": 4, \"61\": 1, \"121\": 1, \"95\": 2, \"113\": 1, \"88\": 1, \"21\": 2, \"40\": 2, \"14\": 5, \"127\": 1, \"110\": 1}, \"11\": {\"8\": 12, \"12\": 1, \"94\": 1, \"11\": 28, \"106\": 1, \"21\": 1}, \"100\": {\"100\": 13, \"83\": 2, \"46\": 1}, \"78\": {\"78\": 26, \"109\": 10, \"87\": 1, \"88\": 2, \"24\": 1, \"70\": 6, \"39\": 1, \"21\": 1}, \"115\": {\"115\": 10, \"4\": 1, \"21\": 1}, \"121\": {\"121\": 28, \"120\": 2, \"57\": 1, \"88\": 1}, \"0\": {\"30\": 3, \"0\": 32, \"101\": 3, \"97\": 1, \"12\": 1}, \"124\": {\"124\": 31, \"86\": 8, \"111\": 2, \"59\": 3, \"42\": 1, \"25\": 1}, \"81\": {\"20\": 2, \"81\": 18, \"57\": 1, \"117\": 1, \"18\": 1, \"99\": 1}, \"68\": {\"68\": 12, \"39\": 1, \"21\": 2, \"70\": 1}, \"86\": {\"86\": 27, \"124\": 5}, \"12\": {\"39\": 1, \"12\": 29, \"101\": 1, \"3\": 1, \"127\": 9, \"23\": 1, \"21\": 2, \"0\": 2, \"110\": 1, \"126\": 1, \"88\": 1, \"8\": 1}, \"31\": {\"39\": 1, \"31\": 14, \"92\": 2, \"33\": 2, \"90\": 1}, \"129\": {\"129\": 25, \"125\": 1, \"5\": 2, \"124\": 2, \"85\": 1, \"86\": 1}, \"111\": {\"111\": 41, \"41\": 1}, \"106\": {\"106\": 30, \"101\": 3, \"51\": 1, \"98\": 1, \"15\": 3, \"94\": 2}, \"32\": {\"74\": 3, \"38\": 1, \"32\": 11, \"34\": 4, \"0\": 1, \"62\": 1, \"40\": 2, \"53\": 1, \"56\": 1, \"14\": 1, \"12\": 1, \"105\": 1, \"95\": 3, \"107\": 2, \"128\": 1}, \"94\": {\"94\": 27, \"106\": 10, \"21\": 3, \"51\": 1, \"11\": 1, \"15\": 2, \"109\": 1, \"8\": 1}, \"2\": {\"2\": 16, \"121\": 4, \"99\": 3, \"117\": 4, \"102\": 2, \"13\": 1, \"57\": 1, \"120\": 1}, \"48\": {\"48\": 14, \"102\": 2, \"65\": 1, \"13\": 2, \"2\": 1}, \"33\": {\"33\": 35, \"32\": 1, \"1\": 4}, \"76\": {\"89\": 1, \"76\": 15}, \"102\": {\"102\": 33, \"80\": 1}, \"54\": {\"54\": 14, \"101\": 3, \"103\": 1, \"107\": 2}, \"52\": {\"52\": 9, \"103\": 3, \"36\": 1, \"91\": 2, \"98\": 2, \"92\": 1, \"49\": 2}, \"29\": {\"29\": 31, \"54\": 1}, \"46\": {\"46\": 16}, \"43\": {\"43\": 25, \"110\": 3, \"21\": 3, \"122\": 3, \"118\": 1, \"14\": 1}, \"77\": {\"77\": 10, \"54\": 1, \"91\": 1, \"41\": 2, \"21\": 1, \"98\": 1}, \"51\": {\"51\": 8, \"9\": 3, \"12\": 1, \"21\": 1, \"127\": 2, \"0\": 1, \"75\": 1, \"101\": 2, \"49\": 1}, \"19\": {\"85\": 1, \"19\": 17, \"44\": 1, \"73\": 2, \"94\": 1, \"47\": 1, \"98\": 1, \"83\": 2, \"91\": 1, \"100\": 1}, \"97\": {\"0\": 3, \"15\": 1, \"101\": 3, \"97\": 11, \"12\": 2}, \"65\": {\"65\": 13, \"48\": 1, \"2\": 2, \"121\": 1, \"21\": 1, \"117\": 2}}, \"Wisig_1\": {\"110\": {\"110\": 36, \"93\": 2, \"109\": 1, \"23\": 1}, \"27\": {\"27\": 32, \"88\": 1, \"97\": 1}, \"106\": {\"106\": 37, \"12\": 1}, \"13\": {\"117\": 4, \"13\": 7, \"63\": 2, \"119\": 2, \"2\": 1}, \"120\": {\"120\": 15, \"90\": 2, \"20\": 1, \"38\": 1, \"76\": 1}, \"25\": {\"25\": 8, \"99\": 3, \"45\": 1, \"42\": 3, \"100\": 1}, \"47\": {\"47\": 5, \"9\": 5, \"86\": 1, \"103\": 1}, \"8\": {\"8\": 42, \"87\": 1, \"31\": 1, \"84\": 1, \"23\": 1}, \"124\": {\"124\": 34, \"104\": 1, \"86\": 3}, \"55\": {\"55\": 11, \"83\": 1}, \"63\": {\"13\": 2, \"63\": 7, \"123\": 5, \"119\": 2}, \"58\": {\"58\": 11, \"53\": 1}, \"105\": {\"105\": 25, \"40\": 5, \"60\": 1, \"125\": 1, \"7\": 3, \"21\": 1}, \"59\": {\"6\": 1, \"117\": 1, \"59\": 8, \"125\": 2}, \"12\": {\"12\": 24, \"71\": 4, \"101\": 7, \"106\": 1}, \"98\": {\"98\": 37, \"52\": 3, \"49\": 2, \"72\": 1, \"89\": 1}, \"96\": {\"99\": 2, \"9\": 2, \"96\": 10, \"38\": 1, \"70\": 2, \"123\": 1, \"126\": 1, \"44\": 1}, \"30\": {\"30\": 38, \"27\": 2, \"94\": 2}, \"53\": {\"53\": 15, \"52\": 3, \"86\": 1, \"89\": 1}, \"82\": {\"82\": 34, \"100\": 1, \"5\": 1}, \"33\": {\"33\": 30}, \"0\": {\"0\": 32, \"110\": 4}, \"122\": {\"122\": 19, \"21\": 1, \"109\": 1, \"87\": 4, \"43\": 6, \"40\": 2, \"93\": 1}, \"28\": {\"28\": 17, \"6\": 1, \"57\": 1, \"36\": 1}, \"17\": {\"30\": 1, \"17\": 5, \"51\": 1, \"4\": 1, \"5\": 2, \"86\": 1, \"68\": 1, \"83\": 2, \"46\": 1, \"109\": 1}, \"121\": {\"121\": 17, \"95\": 3, \"13\": 3, \"116\": 4, \"60\": 1, \"117\": 1, \"65\": 1, \"18\": 1, \"113\": 1}, \"104\": {\"25\": 2, \"45\": 1, \"104\": 9, \"100\": 1, \"129\": 2, \"32\": 1}, \"71\": {\"71\": 26, \"127\": 2, \"35\": 1, \"34\": 1, \"106\": 2, \"101\": 4}, \"20\": {\"20\": 12, \"1\": 2, \"90\": 1, \"29\": 1}, \"41\": {\"55\": 1, \"41\": 13, \"98\": 1, \"91\": 1}, \"7\": {\"7\": 31, \"105\": 3}, \"83\": {\"41\": 2, \"83\": 11, \"34\": 5, \"77\": 1, \"91\": 2, \"54\": 1, \"21\": 1, \"98\": 1, \"38\": 1, \"72\": 1, \"29\": 2}, \"9\": {\"47\": 1, \"9\": 26, \"89\": 2, \"49\": 3}, \"118\": {\"118\": 39, \"27\": 1, \"69\": 1, \"65\": 1, \"26\": 1, \"36\": 1}, \"111\": {\"111\": 27, \"91\": 1, \"39\": 1, \"89\": 1}, \"23\": {\"23\": 4, \"110\": 4, \"1\": 4, \"3\": 1, \"32\": 1, \"127\": 1, \"9\": 1, \"109\": 1, \"93\": 3}, \"65\": {\"120\": 1, \"28\": 1, \"65\": 2, \"66\": 2, \"57\": 5, \"121\": 1}, \"95\": {\"95\": 25, \"18\": 2, \"90\": 1}, \"38\": {\"38\": 15, \"23\": 1}, \"50\": {\"50\": 12, \"66\": 1, \"39\": 1, \"61\": 2}, \"3\": {\"3\": 26, \"30\": 2, \"114\": 1, \"21\": 1}, \"31\": {\"31\": 14, \"34\": 1, \"44\": 1}, \"48\": {\"55\": 2, \"48\": 8, \"64\": 1, \"66\": 1}, \"81\": {\"81\": 24, \"14\": 2, \"40\": 1, \"84\": 1}, \"99\": {\"99\": 22, \"70\": 1, \"96\": 1}, \"85\": {\"85\": 31, \"92\": 1}, \"11\": {\"11\": 29, \"39\": 1}, \"126\": {\"126\": 47, \"109\": 1}, \"80\": {\"46\": 1, \"80\": 13, \"22\": 1, \"117\": 1}, \"46\": {\"46\": 6, \"17\": 2, \"129\": 2, \"6\": 1, \"111\": 1}, \"45\": {\"45\": 3, \"109\": 2, \"129\": 3, \"70\": 1, \"25\": 1, \"64\": 1, \"48\": 1}, \"18\": {\"18\": 40, \"66\": 1, \"60\": 1, \"90\": 1, \"16\": 1}, \"84\": {\"84\": 29, \"71\": 1, \"105\": 1, \"14\": 1, \"8\": 1, \"87\": 1}, \"24\": {\"24\": 34, \"108\": 3, \"109\": 2, \"88\": 5}, \"21\": {\"21\": 10, \"109\": 5, \"70\": 4, \"39\": 1, \"24\": 2}, \"117\": {\"117\": 40, \"119\": 1, \"2\": 1, \"129\": 2}, \"6\": {\"6\": 13, \"91\": 3, \"111\": 7, \"17\": 1, \"68\": 1, \"58\": 1, \"125\": 2, \"98\": 1, \"86\": 1}, \"97\": {\"27\": 2, \"97\": 15, \"126\": 2, \"24\": 1}, \"86\": {\"109\": 1, \"86\": 18, \"59\": 1, \"73\": 1, \"5\": 2, \"46\": 1, \"90\": 1, \"124\": 1, \"91\": 1, \"68\": 1, \"17\": 1, \"88\": 1, \"111\": 2, \"39\": 1, \"77\": 1, \"4\": 1, \"6\": 1}, \"56\": {\"56\": 11, \"32\": 1}, \"92\": {\"92\": 28}, \"40\": {\"40\": 24, \"105\": 6, \"7\": 1, \"107\": 1}, \"108\": {\"109\": 2, \"24\": 5, \"108\": 29, \"88\": 6}, \"73\": {\"73\": 18, \"19\": 2}, \"1\": {\"1\": 37, \"82\": 1, \"9\": 1, \"3\": 3, \"128\": 1, \"23\": 1}, \"129\": {\"17\": 3, \"86\": 5, \"73\": 1, \"79\": 1, \"5\": 7, \"129\": 3, \"117\": 6, \"46\": 1, \"119\": 1}, \"127\": {\"127\": 34, \"12\": 2, \"71\": 1, \"56\": 1}, \"14\": {\"14\": 35, \"81\": 2, \"75\": 1}, \"42\": {\"77\": 2, \"71\": 2, \"29\": 1, \"129\": 6, \"65\": 1, \"49\": 2, \"21\": 1, \"83\": 2, \"42\": 1, \"38\": 1, \"45\": 2, \"48\": 1, \"120\": 4, \"100\": 1, \"116\": 1}, \"67\": {\"67\": 10, \"82\": 1, \"95\": 1, \"18\": 1, \"80\": 1, \"116\": 2}, \"74\": {\"74\": 16}, \"61\": {\"28\": 2, \"61\": 10}, \"36\": {\"36\": 33, \"97\": 2, \"15\": 1}, \"32\": {\"32\": 22, \"75\": 1, \"85\": 3, \"12\": 1, \"101\": 2, \"107\": 1, \"56\": 2}, \"77\": {\"109\": 1, \"77\": 13, \"54\": 1, \"34\": 1}, \"107\": {\"107\": 35, \"125\": 1, \"127\": 1, \"75\": 1}, \"44\": {\"44\": 35, \"31\": 1}, \"51\": {\"51\": 12, \"123\": 1, \"32\": 1, \"35\": 2}, \"2\": {\"42\": 1, \"25\": 2, \"2\": 13, \"63\": 3, \"117\": 3, \"116\": 2, \"13\": 2, \"123\": 2, \"100\": 2, \"129\": 1, \"82\": 1}, \"52\": {\"51\": 1, \"52\": 15, \"98\": 2, \"53\": 2}, \"125\": {\"125\": 45, \"6\": 1}, \"37\": {\"37\": 16}, \"35\": {\"35\": 7, \"56\": 2, \"30\": 1, \"7\": 1, \"75\": 1}, \"116\": {\"116\": 19, \"95\": 2, \"22\": 1, \"115\": 2, \"42\": 4, \"90\": 1, \"102\": 3}, \"15\": {\"15\": 23, \"89\": 1, \"27\": 1, \"12\": 2, \"94\": 5, \"36\": 2}, \"70\": {\"70\": 34, \"109\": 7, \"21\": 2, \"88\": 1}, \"109\": {\"109\": 34, \"108\": 2, \"24\": 2}, \"76\": {\"76\": 16}, \"66\": {\"66\": 12, \"90\": 3, \"64\": 1}, \"57\": {\"57\": 9, \"66\": 2, \"6\": 1}, \"119\": {\"129\": 1, \"119\": 12, \"117\": 3}, \"34\": {\"34\": 6, \"53\": 1, \"89\": 1, \"83\": 1, \"49\": 1, \"7\": 1, \"76\": 2, \"98\": 2, \"44\": 1, \"87\": 1, \"43\": 2, \"14\": 3, \"62\": 1, \"1\": 1}, \"68\": {\"68\": 15, \"61\": 1}, \"90\": {\"66\": 1, \"61\": 2, \"90\": 21, \"82\": 1, \"3\": 1}, \"62\": {\"62\": 35, \"109\": 1}, \"93\": {\"93\": 36, \"43\": 1, \"8\": 3}, \"54\": {\"29\": 5, \"54\": 9, \"49\": 1, \"91\": 1}, \"29\": {\"29\": 27, \"9\": 1}, \"89\": {\"31\": 3, \"52\": 1, \"34\": 2, \"89\": 17, \"23\": 1, \"9\": 2, \"8\": 2, \"15\": 1, \"36\": 1, \"83\": 1, \"29\": 3, \"91\": 1, \"98\": 1}, \"79\": {\"79\": 12}, \"16\": {\"16\": 32, \"26\": 3, \"109\": 2, \"18\": 1}, \"26\": {\"26\": 32, \"16\": 2, \"69\": 1, \"64\": 1}, \"64\": {\"64\": 15, \"90\": 1}, \"123\": {\"123\": 14, \"119\": 1, \"63\": 1}, \"75\": {\"75\": 14, \"32\": 1, \"35\": 1}, \"88\": {\"88\": 23, \"24\": 6, \"108\": 7}, \"10\": {\"10\": 36, \"78\": 1, \"122\": 2, \"21\": 1}, \"91\": {\"91\": 12, \"98\": 4, \"77\": 4, \"89\": 2, \"83\": 3, \"52\": 1, \"128\": 1, \"53\": 1}, \"4\": {\"4\": 24, \"115\": 1, \"124\": 4, \"5\": 1, \"80\": 1, \"102\": 1}, \"100\": {\"100\": 14, \"99\": 2}, \"39\": {\"39\": 36, \"11\": 2}, \"78\": {\"70\": 1, \"78\": 10, \"43\": 1, \"109\": 3, \"93\": 1}, \"101\": {\"101\": 32, \"98\": 1, \"127\": 2, \"39\": 1}, \"112\": {\"112\": 11, \"6\": 1, \"51\": 1, \"68\": 1, \"98\": 1, \"37\": 1}, \"103\": {\"103\": 12, \"9\": 2, \"5\": 1, \"47\": 1}, \"19\": {\"20\": 1, \"73\": 1, \"1\": 2, \"19\": 13, \"128\": 2, \"49\": 1, \"82\": 1, \"54\": 1, \"90\": 1, \"72\": 1}, \"60\": {\"43\": 4, \"18\": 1, \"60\": 5, \"23\": 1, \"87\": 3, \"44\": 1, \"84\": 1}, \"72\": {\"72\": 21, \"101\": 4, \"12\": 1, \"71\": 1, \"49\": 2, \"106\": 1, \"98\": 1, \"44\": 1}, \"43\": {\"43\": 21, \"93\": 1, \"87\": 6, \"122\": 6}, \"22\": {\"22\": 10, \"88\": 1, \"5\": 1, \"120\": 1, \"90\": 1, \"20\": 2}, \"87\": {\"60\": 1, \"87\": 23, \"21\": 1, \"8\": 3, \"34\": 1, \"43\": 2, \"105\": 1, \"84\": 1, \"113\": 1}, \"128\": {\"1\": 1, \"81\": 1, \"72\": 4, \"128\": 4, \"82\": 2, \"91\": 1, \"89\": 1, \"98\": 6, \"3\": 3, \"52\": 1}, \"5\": {\"5\": 35, \"21\": 1, \"86\": 2}, \"102\": {\"102\": 27, \"116\": 1, \"117\": 2}, \"94\": {\"94\": 20, \"109\": 1, \"15\": 5, \"89\": 1, \"12\": 1}, \"114\": {\"114\": 29, \"81\": 1, \"44\": 1, \"109\": 1, \"1\": 1, \"33\": 1}, \"69\": {\"69\": 23, \"118\": 2, \"26\": 1}, \"113\": {\"113\": 28}, \"49\": {\"56\": 1, \"1\": 3, \"72\": 4, \"19\": 1, \"49\": 6, \"71\": 1, \"101\": 2, \"98\": 1, \"9\": 1}, \"115\": {\"115\": 12}}, \"Wisig_4\": {\"109\": {\"109\": 27, \"43\": 3, \"122\": 1, \"23\": 1, \"39\": 1, \"0\": 1}, \"45\": {\"116\": 1, \"45\": 13, \"74\": 1, \"64\": 1}, \"11\": {\"11\": 31, \"60\": 1, \"93\": 4, \"20\": 1, \"114\": 1}, \"23\": {\"21\": 1, \"61\": 1, \"7\": 2, \"26\": 1, \"23\": 2, \"60\": 1, \"78\": 1, \"12\": 2, \"110\": 1, \"18\": 1, \"88\": 2, \"90\": 1}, \"2\": {\"2\": 17, \"117\": 6, \"102\": 2, \"121\": 1, \"63\": 1, \"13\": 1}, \"25\": {\"25\": 14, \"47\": 1, \"54\": 1}, \"7\": {\"60\": 1, \"7\": 28, \"127\": 8, \"108\": 1, \"0\": 2, \"101\": 4, \"105\": 2}, \"55\": {\"82\": 1, \"55\": 11, \"29\": 1, \"89\": 1, \"95\": 2}, \"124\": {\"124\": 27, \"129\": 1, \"42\": 1, \"59\": 2, \"111\": 5}, \"101\": {\"101\": 37, \"7\": 1}, \"115\": {\"45\": 2, \"115\": 7, \"102\": 4, \"92\": 1, \"129\": 1, \"57\": 1}, \"121\": {\"35\": 3, \"57\": 4, \"121\": 15, \"18\": 1, \"81\": 6, \"90\": 2, \"19\": 1}, \"46\": {\"46\": 16, \"100\": 1, \"49\": 1, \"112\": 1, \"129\": 1}, \"72\": {\"3\": 1, \"72\": 26, \"71\": 2, \"85\": 1, \"60\": 1, \"31\": 1}, \"83\": {\"83\": 21, \"73\": 1, \"49\": 1, \"5\": 2, \"21\": 2, \"32\": 1}, \"12\": {\"12\": 40, \"39\": 1, \"34\": 3, \"8\": 3, \"106\": 2, \"52\": 1}, \"79\": {\"79\": 14, \"116\": 1, \"73\": 1}, \"20\": {\"20\": 14, \"126\": 1, \"49\": 1}, \"43\": {\"110\": 5, \"87\": 3, \"43\": 26, \"31\": 1, \"105\": 1, \"60\": 1, \"122\": 3, \"14\": 1, \"16\": 1, \"84\": 1, \"127\": 1}, \"35\": {\"23\": 1, \"35\": 8, \"66\": 1, \"121\": 1, \"18\": 1}, \"86\": {\"86\": 20, \"119\": 2, \"22\": 1, \"111\": 1, \"68\": 1, \"115\": 2, \"34\": 1}, \"3\": {\"71\": 4, \"3\": 20, \"1\": 5, \"114\": 10, \"99\": 1}, \"116\": {\"116\": 13, \"115\": 1, \"102\": 4, \"57\": 3, \"61\": 1, \"120\": 1, \"92\": 1, \"121\": 2, \"90\": 1, \"84\": 1}, \"53\": {\"53\": 16}, \"111\": {\"129\": 1, \"21\": 1, \"111\": 40, \"68\": 1, \"103\": 3, \"59\": 1, \"98\": 1}, \"40\": {\"40\": 23, \"105\": 5, \"14\": 2, \"107\": 2}, \"19\": {\"19\": 4, \"51\": 1, \"73\": 2, \"91\": 1, \"50\": 1, \"128\": 3, \"61\": 1, \"98\": 4, \"83\": 1, \"115\": 2, \"100\": 2, \"57\": 1, \"5\": 2, \"85\": 1, \"90\": 2}, \"71\": {\"71\": 41, \"114\": 2, \"107\": 2, \"14\": 3, \"49\": 1, \"34\": 1, \"72\": 1, \"89\": 1}, \"21\": {\"21\": 24, \"78\": 2, \"39\": 3, \"23\": 1, \"126\": 2}, \"82\": {\"86\": 1, \"82\": 23, \"23\": 1, \"40\": 1, \"32\": 2, \"124\": 1, \"39\": 1, \"89\": 2}, \"65\": {\"65\": 12}, \"110\": {\"6\": 1, \"110\": 30, \"43\": 1, \"76\": 1, \"127\": 2, \"122\": 4, \"87\": 2, \"60\": 2, \"97\": 1, \"96\": 1, \"99\": 1}, \"119\": {\"119\": 13, \"39\": 1, \"129\": 1, \"19\": 1}, \"64\": {\"64\": 12, \"31\": 1, \"45\": 1, \"108\": 1, \"22\": 1}, \"126\": {\"126\": 39, \"23\": 1, \"88\": 2}, \"129\": {\"73\": 3, \"129\": 9, \"91\": 1, \"116\": 1, \"111\": 10, \"102\": 1, \"25\": 1, \"4\": 1, \"124\": 1}, \"103\": {\"103\": 6, \"25\": 1, \"128\": 3, \"41\": 1, \"100\": 1, \"114\": 1, \"129\": 1, \"91\": 2}, \"34\": {\"114\": 2, \"12\": 2, \"126\": 1, \"47\": 1, \"52\": 3, \"34\": 6, \"94\": 4, \"106\": 1, \"14\": 2, \"1\": 1, \"87\": 1, \"99\": 1, \"76\": 1, \"72\": 1, \"95\": 1, \"30\": 2, \"15\": 1, \"89\": 1}, \"42\": {\"9\": 1, \"111\": 3, \"42\": 14, \"68\": 1, \"103\": 1, \"73\": 2, \"124\": 1, \"97\": 1, \"112\": 1, \"129\": 1, \"98\": 2}, \"114\": {\"71\": 3, \"114\": 30, \"3\": 6, \"1\": 3, \"60\": 1, \"98\": 1}, \"38\": {\"38\": 13, \"96\": 1, \"5\": 2}, \"99\": {\"99\": 35, \"72\": 1, \"84\": 1, \"56\": 1}, \"47\": {\"47\": 7, \"25\": 1, \"34\": 2, \"58\": 1, \"51\": 1}, \"61\": {\"35\": 2, \"61\": 7, \"102\": 1, \"121\": 2, \"126\": 1, \"81\": 2, \"13\": 1}, \"9\": {\"9\": 26, \"117\": 2}, \"73\": {\"19\": 2, \"39\": 1, \"73\": 10, \"98\": 1, \"49\": 1, \"125\": 2, \"5\": 4, \"42\": 1, \"129\": 1, \"93\": 1}, \"48\": {\"48\": 11, \"2\": 1, \"6\": 1, \"13\": 1, \"25\": 1, \"47\": 1}, \"18\": {\"18\": 40, \"39\": 1, \"26\": 2, \"81\": 1}, \"16\": {\"16\": 36, \"84\": 4}, \"87\": {\"21\": 1, \"87\": 34, \"7\": 2, \"110\": 4, \"122\": 3, \"127\": 1, \"78\": 1}, \"60\": {\"3\": 2, \"60\": 18, \"52\": 5, \"96\": 2, \"99\": 1, \"8\": 1, \"93\": 1, \"72\": 1, \"106\": 1}, \"51\": {\"27\": 1, \"51\": 2, \"101\": 3, \"39\": 2, \"12\": 1, \"78\": 1, \"53\": 1, \"29\": 2, \"3\": 1, \"103\": 1, \"52\": 1}, \"4\": {\"124\": 1, \"4\": 36, \"129\": 2, \"115\": 3}, \"85\": {\"85\": 25, \"39\": 1, \"98\": 2}, \"28\": {\"28\": 17, \"57\": 1, \"128\": 2}, \"27\": {\"97\": 1, \"27\": 32, \"36\": 3, \"24\": 1, \"70\": 1}, \"97\": {\"97\": 15, \"88\": 1, \"36\": 2, \"25\": 1, \"10\": 1}, \"6\": {\"6\": 21, \"98\": 1, \"59\": 1, \"58\": 1}, \"76\": {\"76\": 16}, \"105\": {\"105\": 22, \"39\": 1, \"107\": 4, \"40\": 6, \"14\": 1, \"76\": 1, \"52\": 1}, \"37\": {\"124\": 1, \"119\": 1, \"37\": 12, \"129\": 1, \"120\": 1}, \"98\": {\"98\": 30, \"100\": 1, \"85\": 4, \"5\": 1, \"3\": 1, \"9\": 1, \"61\": 1, \"117\": 1}, \"96\": {\"96\": 20}, \"32\": {\"72\": 2, \"56\": 1, \"82\": 4, \"71\": 1, \"32\": 9, \"99\": 3, \"120\": 3, \"40\": 1, \"55\": 1, \"89\": 1, \"107\": 2}, \"15\": {\"15\": 29, \"30\": 1, \"94\": 1, \"8\": 1}, \"56\": {\"86\": 1, \"76\": 2, \"56\": 5, \"89\": 1, \"55\": 1, \"29\": 1, \"71\": 1}, \"90\": {\"90\": 28, \"81\": 4}, \"91\": {\"91\": 12, \"98\": 2, \"68\": 2, \"120\": 1, \"36\": 1, \"41\": 1, \"56\": 1, \"103\": 1, \"128\": 1, \"52\": 1, \"82\": 1}, \"52\": {\"52\": 14, \"41\": 1, \"8\": 2, \"98\": 1, \"34\": 1, \"3\": 1}, \"78\": {\"39\": 6, \"88\": 3, \"78\": 10, \"21\": 4, \"108\": 2, \"70\": 4, \"10\": 3, \"97\": 1, \"23\": 1}, \"84\": {\"84\": 28, \"69\": 3, \"99\": 1, \"21\": 2, \"16\": 3, \"72\": 1}, \"1\": {\"1\": 14, \"114\": 9, \"72\": 2, \"71\": 5, \"3\": 5, \"70\": 1, \"60\": 2, \"21\": 2, \"15\": 1, \"32\": 1}, \"122\": {\"122\": 22, \"87\": 6, \"89\": 1, \"126\": 2, \"118\": 1, \"110\": 4, \"117\": 1, \"108\": 1, \"69\": 1, \"43\": 3, \"62\": 1, \"26\": 1}, \"66\": {\"66\": 11, \"116\": 2, \"57\": 1, \"38\": 1, \"121\": 1}, \"127\": {\"101\": 2, \"127\": 32, \"95\": 2, \"39\": 1, \"14\": 1}, \"80\": {\"80\": 16}, \"113\": {\"113\": 29, \"26\": 5, \"126\": 3, \"21\": 1}, \"31\": {\"84\": 2, \"31\": 10, \"64\": 1, \"92\": 1, \"33\": 1, \"76\": 1}, \"88\": {\"78\": 3, \"21\": 3, \"88\": 9, \"70\": 3, \"108\": 1, \"24\": 6, \"3\": 2, \"97\": 1, \"10\": 3, \"39\": 1}, \"62\": {\"62\": 29, \"87\": 1, \"118\": 10, \"126\": 2, \"89\": 1, \"7\": 1}, \"22\": {\"22\": 12, \"31\": 2, \"63\": 1, \"67\": 1}, \"49\": {\"72\": 3, \"49\": 5, \"5\": 9, \"71\": 6, \"8\": 4, \"85\": 2, \"34\": 1, \"60\": 1, \"93\": 1}, \"54\": {\"54\": 13, \"68\": 2, \"59\": 1}, \"63\": {\"80\": 1, \"63\": 13, \"13\": 1, \"123\": 1}, \"39\": {\"39\": 29, \"108\": 2, \"78\": 1, \"126\": 9, \"21\": 1}, \"95\": {\"95\": 22, \"14\": 2, \"107\": 1, \"7\": 1, \"127\": 2, \"85\": 1, \"71\": 3}, \"13\": {\"13\": 12, \"2\": 1, \"117\": 3}, \"107\": {\"107\": 31, \"76\": 1, \"14\": 2, \"105\": 2, \"71\": 1, \"32\": 1}, \"106\": {\"106\": 29, \"39\": 2, \"78\": 1, \"12\": 5, \"8\": 1, \"21\": 1, \"52\": 2, \"15\": 1}, \"26\": {\"26\": 25, \"21\": 1, \"113\": 6}, \"112\": {\"46\": 1, \"112\": 13, \"42\": 2}, \"36\": {\"36\": 29, \"97\": 2, \"27\": 5, \"94\": 3, \"24\": 2, \"78\": 1}, \"30\": {\"30\": 31, \"118\": 1, \"39\": 2, \"94\": 3, \"34\": 2, \"8\": 2, \"15\": 1}, \"58\": {\"58\": 12, \"39\": 1, \"47\": 1, \"36\": 1, \"94\": 1}, \"14\": {\"14\": 31, \"76\": 1, \"107\": 1, \"99\": 1, \"105\": 2, \"110\": 1, \"32\": 1}, \"68\": {\"68\": 15, \"111\": 1}, \"118\": {\"118\": 27, \"76\": 3, \"87\": 2, \"122\": 5, \"62\": 2, \"39\": 1}, \"44\": {\"44\": 27, \"117\": 1, \"33\": 2, \"81\": 1, \"74\": 1, \"13\": 1, \"121\": 1}, \"93\": {\"93\": 32, \"49\": 1, \"1\": 1}, \"70\": {\"108\": 9, \"70\": 19, \"97\": 1, \"24\": 3, \"10\": 5, \"27\": 3}, \"10\": {\"70\": 7, \"10\": 22, \"108\": 1, \"24\": 4, \"97\": 1, \"88\": 2, \"78\": 1}, \"94\": {\"94\": 28, \"15\": 8, \"72\": 1, \"8\": 2, \"21\": 1}, \"41\": {\"52\": 2, \"41\": 10, \"85\": 1, \"77\": 2, \"51\": 1}, \"75\": {\"75\": 16}, \"29\": {\"58\": 1, \"47\": 1, \"29\": 29, \"78\": 1}, \"50\": {\"50\": 12, \"5\": 1, \"73\": 1, \"57\": 1, \"4\": 1}, \"0\": {\"0\": 32, \"123\": 1, \"87\": 1, \"101\": 9, \"7\": 1, \"39\": 1, \"21\": 2, \"78\": 1}, \"108\": {\"70\": 8, \"108\": 21, \"126\": 1, \"94\": 2, \"39\": 2, \"69\": 1, \"10\": 1, \"78\": 1, \"88\": 1}, \"100\": {\"100\": 14, \"3\": 1, \"85\": 2, \"53\": 3}, \"102\": {\"102\": 33, \"116\": 2, \"90\": 1}, \"5\": {\"5\": 37, \"93\": 1}, \"77\": {\"77\": 12}, \"89\": {\"7\": 1, \"32\": 3, \"56\": 1, \"89\": 16, \"95\": 2, \"55\": 1, \"105\": 1, \"24\": 1, \"70\": 1, \"14\": 1}, \"57\": {\"57\": 16}, \"33\": {\"33\": 46, \"44\": 2}, \"17\": {\"115\": 1, \"89\": 1, \"17\": 13, \"23\": 1, \"19\": 1, \"104\": 2, \"120\": 1}, \"128\": {\"72\": 2, \"128\": 7, \"55\": 1, \"98\": 2, \"95\": 1, \"46\": 2, \"91\": 2, \"3\": 2, \"100\": 1, \"40\": 1, \"32\": 1, \"85\": 2}, \"92\": {\"120\": 2, \"92\": 15, \"96\": 3, \"33\": 1, \"26\": 2, \"31\": 2, \"66\": 1, \"64\": 1, \"118\": 1}, \"67\": {\"123\": 2, \"63\": 1, \"104\": 1, \"18\": 3, \"17\": 1, \"67\": 2, \"117\": 1, \"108\": 1, \"57\": 2, \"92\": 2}, \"120\": {\"120\": 14, \"37\": 1, \"117\": 1, \"28\": 2, \"128\": 1, \"91\": 1}, \"123\": {\"123\": 14, \"80\": 2}, \"8\": {\"15\": 1, \"106\": 2, \"8\": 34, \"60\": 2, \"88\": 1}, \"59\": {\"59\": 7, \"124\": 1, \"6\": 1, \"125\": 2, \"34\": 1}, \"24\": {\"108\": 4, \"70\": 3, \"27\": 2, \"24\": 18, \"21\": 1, \"10\": 4, \"78\": 1, \"36\": 1}, \"117\": {\"117\": 27, \"2\": 3, \"63\": 2, \"67\": 2}, \"69\": {\"84\": 1, \"69\": 29, \"40\": 3, \"21\": 1}, \"81\": {\"81\": 29, \"121\": 2, \"2\": 1}, \"74\": {\"39\": 1, \"74\": 10, \"38\": 2, \"45\": 1, \"49\": 1, \"96\": 1}, \"125\": {\"125\": 26, \"126\": 1, \"102\": 1}, \"104\": {\"37\": 3, \"104\": 6, \"17\": 1, \"33\": 1, \"69\": 1, \"120\": 1, \"82\": 1, \"22\": 1, \"50\": 1}}}, \"per_domain_accuracy\": {\"CORES_3\": {\"accuracy\": 0.9967672413793104, \"source?\": true}, \"CORES_4\": {\"accuracy\": 0.9967672413793104, \"source?\": true}, \"CORES_5\": {\"accuracy\": 0.9948275862068966, \"source?\": true}, \"CORES_1\": {\"accuracy\": 0.9985632183908046, \"source?\": true}, \"CORES_2\": {\"accuracy\": 0.996551724137931, \"source?\": true}, \"Wisig_3\": {\"accuracy\": 0.765625, \"source?\": false}, \"Wisig_2\": {\"accuracy\": 0.710446247464503, \"source?\": false}, \"Wisig_1\": {\"accuracy\": 0.7652298850574712, \"source?\": false}, \"Wisig_4\": {\"accuracy\": 0.701239224137931, \"source?\": false}}}, \"history\": {\"epoch_indices\": [1, 2, 3], \"train_label_loss\": [0.3701591017971776, 0.03426651522269117, 0.021782392438454187], \"source_val_label_loss\": [0.030331145972013474, 0.01999717950820923, 0.007106148637831211], \"target_val_label_loss\": [1.915163516998291, 3.700151205062866, 3.25828218460083], \"source_val_acc_label\": [0.9967672413793104, 0.9942528735632183, 0.9989224137931034], \"target_val_acc_label\": [0.7347790948275862, 0.7076373922413793, 0.7190193965517241]}, \"dataset_metrics\": {\"source\": {\"train\": {\"n_unique_x\": 75830, \"n_unique_y\": 58, \"n_batch/episode\": 351}, \"val\": {\"n_unique_x\": 11850, \"n_unique_y\": 58, \"n_batch/episode\": 48}, \"test\": {\"n_unique_x\": 12315, \"n_unique_y\": 58, \"n_batch/episode\": 50}}, \"target\": {\"train\": {\"n_unique_x\": 140642, \"n_unique_y\": 130, \"n_batch/episode\": 912}, \"val\": {\"n_unique_x\": 26052, \"n_unique_y\": 130, \"n_batch/episode\": 128}, \"test\": {\"n_unique_x\": 27285, \"n_unique_y\": 130, \"n_batch/episode\": 136}}}}'"
      ]
     },
     "execution_count": 29,
     "metadata": {},
     "output_type": "execute_result"
    }
   ],
   "source": [
    "json.dumps(experiment)"
   ]
  }
 ],
 "metadata": {
  "celltoolbar": "Tags",
  "kernelspec": {
   "display_name": "Python 3 (ipykernel)",
   "language": "python",
   "name": "python3"
  },
  "language_info": {
   "codemirror_mode": {
    "name": "ipython",
    "version": 3
   },
   "file_extension": ".py",
   "mimetype": "text/x-python",
   "name": "python",
   "nbconvert_exporter": "python",
   "pygments_lexer": "ipython3",
   "version": "3.8.12"
  },
  "papermill": {
   "default_parameters": {},
   "duration": 222.83318,
   "end_time": "2022-03-21T02:10:37.731834",
   "environment_variables": {},
   "exception": null,
   "input_path": "/root/csc500-main/csc500-notebooks/templates/tl_ptn_template.ipynb",
   "output_path": "trial.ipynb",
   "parameters": {
    "parameters": {
     "BEST_MODEL_PATH": "./best_model.pth",
     "NUM_LOGS_PER_EPOCH": 10,
     "criteria_for_best": "target_accuracy",
     "dataset_seed": 1337,
     "datasets": [
      {
       "domain_prefix": "CORES_",
       "domains": [
        1,
        2,
        3,
        4,
        5
       ],
       "episode_transforms": [],
       "labels": [
        "1-10.",
        "1-11.",
        "1-15.",
        "1-16.",
        "1-17.",
        "1-18.",
        "1-19.",
        "10-4.",
        "10-7.",
        "11-1.",
        "11-14.",
        "11-17.",
        "11-20.",
        "11-7.",
        "13-20.",
        "13-8.",
        "14-10.",
        "14-11.",
        "14-14.",
        "14-7.",
        "15-1.",
        "15-20.",
        "16-1.",
        "16-16.",
        "17-10.",
        "17-11.",
        "17-2.",
        "19-1.",
        "19-16.",
        "19-19.",
        "19-20.",
        "19-3.",
        "2-10.",
        "2-11.",
        "2-17.",
        "2-18.",
        "2-20.",
        "2-3.",
        "2-4.",
        "2-5.",
        "2-6.",
        "2-7.",
        "2-8.",
        "3-13.",
        "3-18.",
        "3-3.",
        "4-1.",
        "4-10.",
        "4-11.",
        "4-19.",
        "5-5.",
        "6-15.",
        "7-10.",
        "7-14.",
        "8-18.",
        "8-20.",
        "8-3.",
        "8-8."
       ],
       "num_examples_per_domain_per_label": -1,
       "pickle_path": "/root/csc500-main/datasets/cores.stratified_ds.2022A.pkl",
       "source_or_target_dataset": "source",
       "x_transforms": []
      },
      {
       "domain_prefix": "Wisig_",
       "domains": [
        1,
        2,
        3,
        4
       ],
       "episode_transforms": [],
       "labels": [
        "1-10",
        "1-12",
        "1-14",
        "1-16",
        "1-18",
        "1-19",
        "1-8",
        "10-11",
        "10-17",
        "10-4",
        "10-7",
        "11-1",
        "11-10",
        "11-19",
        "11-20",
        "11-4",
        "11-7",
        "12-19",
        "12-20",
        "12-7",
        "13-14",
        "13-18",
        "13-19",
        "13-20",
        "13-3",
        "13-7",
        "14-10",
        "14-11",
        "14-12",
        "14-13",
        "14-14",
        "14-19",
        "14-20",
        "14-7",
        "14-8",
        "14-9",
        "15-1",
        "15-19",
        "15-6",
        "16-1",
        "16-16",
        "16-19",
        "16-20",
        "17-10",
        "17-11",
        "18-1",
        "18-10",
        "18-11",
        "18-12",
        "18-13",
        "18-14",
        "18-15",
        "18-16",
        "18-17",
        "18-19",
        "18-2",
        "18-20",
        "18-4",
        "18-5",
        "18-7",
        "18-8",
        "18-9",
        "19-1",
        "19-10",
        "19-11",
        "19-12",
        "19-13",
        "19-14",
        "19-15",
        "19-19",
        "19-2",
        "19-20",
        "19-3",
        "19-4",
        "19-6",
        "19-7",
        "19-8",
        "19-9",
        "2-1",
        "2-13",
        "2-15",
        "2-3",
        "2-4",
        "2-5",
        "2-6",
        "2-7",
        "2-8",
        "20-1",
        "20-12",
        "20-14",
        "20-15",
        "20-16",
        "20-18",
        "20-19",
        "20-20",
        "20-3",
        "20-4",
        "20-5",
        "20-7",
        "20-8",
        "3-1",
        "3-13",
        "3-18",
        "3-2",
        "3-8",
        "4-1",
        "4-10",
        "4-11",
        "5-1",
        "5-5",
        "6-1",
        "6-15",
        "6-6",
        "7-10",
        "7-11",
        "7-12",
        "7-13",
        "7-14",
        "7-7",
        "7-8",
        "7-9",
        "8-1",
        "8-13",
        "8-14",
        "8-18",
        "8-20",
        "8-3",
        "8-8",
        "9-1",
        "9-7"
       ],
       "num_examples_per_domain_per_label": -1,
       "pickle_path": "/root/csc500-main/datasets/wisig.node3-19.stratified_ds.2022A.pkl",
       "source_or_target_dataset": "target",
       "x_transforms": []
      }
     ],
     "device": "cuda",
     "experiment_name": "tl_1v2:cores-wisig",
     "lr": 0.0001,
     "n_epoch": 3,
     "n_query": 2,
     "n_shot": 3,
     "n_way": 58,
     "patience": 3,
     "seed": 1337,
     "test_k_factor": 2,
     "torch_default_dtype": "torch.float32",
     "train_k_factor": 3,
     "val_k_factor": 2,
     "x_net": [
      {
       "class": "nnReshape",
       "kargs": {
        "shape": [
         -1,
         1,
         2,
         256
        ]
       }
      },
      {
       "class": "Conv2d",
       "kargs": {
        "bias": false,
        "in_channels": 1,
        "kernel_size": [
         1,
         7
        ],
        "out_channels": 256,
        "padding": [
         0,
         3
        ]
       }
      },
      {
       "class": "ReLU",
       "kargs": {
        "inplace": true
       }
      },
      {
       "class": "BatchNorm2d",
       "kargs": {
        "num_features": 256
       }
      },
      {
       "class": "Conv2d",
       "kargs": {
        "bias": true,
        "in_channels": 256,
        "kernel_size": [
         2,
         7
        ],
        "out_channels": 80,
        "padding": [
         0,
         3
        ]
       }
      },
      {
       "class": "ReLU",
       "kargs": {
        "inplace": true
       }
      },
      {
       "class": "BatchNorm2d",
       "kargs": {
        "num_features": 80
       }
      },
      {
       "class": "Flatten",
       "kargs": {}
      },
      {
       "class": "Linear",
       "kargs": {
        "in_features": 20480,
        "out_features": 256
       }
      },
      {
       "class": "ReLU",
       "kargs": {
        "inplace": true
       }
      },
      {
       "class": "BatchNorm1d",
       "kargs": {
        "num_features": 256
       }
      },
      {
       "class": "Linear",
       "kargs": {
        "in_features": 256,
        "out_features": 256
       }
      }
     ]
    }
   },
   "start_time": "2022-03-21T02:06:54.898654",
   "version": "2.3.4"
  }
 },
 "nbformat": 4,
 "nbformat_minor": 5
}