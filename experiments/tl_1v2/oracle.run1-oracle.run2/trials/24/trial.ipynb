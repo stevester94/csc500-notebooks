{
 "cells": [
  {
   "cell_type": "markdown",
   "id": "9fea5f46",
   "metadata": {
    "papermill": {
     "duration": 0.023225,
     "end_time": "2022-03-29T09:12:28.012114",
     "exception": false,
     "start_time": "2022-03-29T09:12:27.988889",
     "status": "completed"
    },
    "tags": []
   },
   "source": [
    "# Transfer Learning Template"
   ]
  },
  {
   "cell_type": "code",
   "execution_count": 1,
   "id": "0902182a",
   "metadata": {
    "execution": {
     "iopub.execute_input": "2022-03-29T09:12:28.070912Z",
     "iopub.status.busy": "2022-03-29T09:12:28.070462Z",
     "iopub.status.idle": "2022-03-29T09:12:29.330543Z",
     "shell.execute_reply": "2022-03-29T09:12:29.330239Z"
    },
    "papermill": {
     "duration": 1.297018,
     "end_time": "2022-03-29T09:12:29.330614",
     "exception": false,
     "start_time": "2022-03-29T09:12:28.033596",
     "status": "completed"
    },
    "tags": []
   },
   "outputs": [],
   "source": [
    "%load_ext autoreload\n",
    "%autoreload 2\n",
    "%matplotlib inline\n",
    "\n",
    "    \n",
    "import os, json, sys, time, random\n",
    "import numpy as np\n",
    "import torch\n",
    "from torch.optim import Adam\n",
    "from  easydict import EasyDict\n",
    "import matplotlib.pyplot as plt\n",
    "\n",
    "from steves_models.steves_ptn import Steves_Prototypical_Network\n",
    "\n",
    "from steves_utils.lazy_iterable_wrapper import Lazy_Iterable_Wrapper\n",
    "from steves_utils.iterable_aggregator import Iterable_Aggregator\n",
    "from steves_utils.ptn_train_eval_test_jig import  PTN_Train_Eval_Test_Jig\n",
    "from steves_utils.torch_sequential_builder import build_sequential\n",
    "from steves_utils.torch_utils import get_dataset_metrics, ptn_confusion_by_domain_over_dataloader\n",
    "from steves_utils.utils_v2 import (per_domain_accuracy_from_confusion, get_datasets_base_path)\n",
    "from steves_utils.PTN.utils import independent_accuracy_assesment\n",
    "\n",
    "from torch.utils.data import DataLoader\n",
    "\n",
    "from steves_utils.stratified_dataset.episodic_accessor import Episodic_Accessor_Factory\n",
    "\n",
    "from steves_utils.ptn_do_report import (\n",
    "    get_loss_curve,\n",
    "    get_results_table,\n",
    "    get_parameters_table,\n",
    "    get_domain_accuracies,\n",
    ")\n",
    "\n",
    "from steves_utils.transforms import get_chained_transform"
   ]
  },
  {
   "cell_type": "markdown",
   "id": "41c840b4",
   "metadata": {
    "papermill": {
     "duration": 0.01254,
     "end_time": "2022-03-29T09:12:29.358042",
     "exception": false,
     "start_time": "2022-03-29T09:12:29.345502",
     "status": "completed"
    },
    "tags": []
   },
   "source": [
    "# Allowed Parameters\n",
    "These are allowed parameters, not defaults\n",
    "Each of these values need to be present in the injected parameters (the notebook will raise an exception if they are not present)\n",
    "\n",
    "Papermill uses the cell tag \"parameters\" to inject the real parameters below this cell.\n",
    "Enable tags to see what I mean"
   ]
  },
  {
   "cell_type": "code",
   "execution_count": 2,
   "id": "fd44eb83",
   "metadata": {
    "execution": {
     "iopub.execute_input": "2022-03-29T09:12:29.385459Z",
     "iopub.status.busy": "2022-03-29T09:12:29.385086Z",
     "iopub.status.idle": "2022-03-29T09:12:29.396733Z",
     "shell.execute_reply": "2022-03-29T09:12:29.396454Z"
    },
    "papermill": {
     "duration": 0.026078,
     "end_time": "2022-03-29T09:12:29.396790",
     "exception": false,
     "start_time": "2022-03-29T09:12:29.370712",
     "status": "completed"
    },
    "tags": []
   },
   "outputs": [],
   "source": [
    "required_parameters = {\n",
    "    \"experiment_name\",\n",
    "    \"lr\",\n",
    "    \"device\",\n",
    "    \"seed\",\n",
    "    \"dataset_seed\",\n",
    "    \"n_shot\",\n",
    "    \"n_query\",\n",
    "    \"n_way\",\n",
    "    \"train_k_factor\",\n",
    "    \"val_k_factor\",\n",
    "    \"test_k_factor\",\n",
    "    \"n_epoch\",\n",
    "    \"patience\",\n",
    "    \"criteria_for_best\",\n",
    "    \"x_net\",\n",
    "    \"datasets\",\n",
    "    \"torch_default_dtype\",\n",
    "    \"NUM_LOGS_PER_EPOCH\",\n",
    "    \"BEST_MODEL_PATH\",\n",
    "    \"x_shape\",\n",
    "}"
   ]
  },
  {
   "cell_type": "code",
   "execution_count": 3,
   "id": "fa3f0049",
   "metadata": {
    "execution": {
     "iopub.execute_input": "2022-03-29T09:12:29.429814Z",
     "iopub.status.busy": "2022-03-29T09:12:29.429363Z",
     "iopub.status.idle": "2022-03-29T09:12:29.442198Z",
     "shell.execute_reply": "2022-03-29T09:12:29.441901Z"
    },
    "papermill": {
     "duration": 0.031493,
     "end_time": "2022-03-29T09:12:29.442259",
     "exception": false,
     "start_time": "2022-03-29T09:12:29.410766",
     "status": "completed"
    },
    "tags": [
     "parameters"
    ]
   },
   "outputs": [],
   "source": [
    "from steves_utils.CORES.utils import (\n",
    "    ALL_NODES,\n",
    "    ALL_NODES_MINIMUM_1000_EXAMPLES,\n",
    "    ALL_DAYS\n",
    ")\n",
    "\n",
    "from steves_utils.ORACLE.utils_v2 import (\n",
    "    ALL_DISTANCES_FEET_NARROWED,\n",
    "    ALL_RUNS,\n",
    "    ALL_SERIAL_NUMBERS,\n",
    ")\n",
    "\n",
    "standalone_parameters = {}\n",
    "standalone_parameters[\"experiment_name\"] = \"STANDALONE PTN\"\n",
    "standalone_parameters[\"lr\"] = 0.001\n",
    "standalone_parameters[\"device\"] = \"cuda\"\n",
    "\n",
    "standalone_parameters[\"seed\"] = 1337\n",
    "standalone_parameters[\"dataset_seed\"] = 1337\n",
    "\n",
    "standalone_parameters[\"n_way\"] = 8\n",
    "standalone_parameters[\"n_shot\"] = 3\n",
    "standalone_parameters[\"n_query\"]  = 2\n",
    "standalone_parameters[\"train_k_factor\"] = 1\n",
    "standalone_parameters[\"val_k_factor\"] = 2\n",
    "standalone_parameters[\"test_k_factor\"] = 2\n",
    "\n",
    "\n",
    "standalone_parameters[\"n_epoch\"] = 50\n",
    "\n",
    "standalone_parameters[\"patience\"] = 10\n",
    "standalone_parameters[\"criteria_for_best\"] = \"source_loss\"\n",
    "\n",
    "standalone_parameters[\"datasets\"] = [\n",
    "    {\n",
    "        \"labels\": ALL_SERIAL_NUMBERS,\n",
    "        \"domains\": ALL_DISTANCES_FEET_NARROWED,\n",
    "        \"num_examples_per_domain_per_label\": 100,\n",
    "        \"pickle_path\": os.path.join(get_datasets_base_path(), \"oracle.Run1_framed_2000Examples_stratified_ds.2022A.pkl\"),\n",
    "        \"source_or_target_dataset\": \"source\",\n",
    "        \"x_transforms\": [\"unit_mag\", \"minus_two\"],\n",
    "        \"episode_transforms\": [],\n",
    "        \"domain_prefix\": \"ORACLE_\"\n",
    "    },\n",
    "    {\n",
    "        \"labels\": ALL_NODES,\n",
    "        \"domains\": ALL_DAYS,\n",
    "        \"num_examples_per_domain_per_label\": 100,\n",
    "        \"pickle_path\": os.path.join(get_datasets_base_path(), \"cores.stratified_ds.2022A.pkl\"),\n",
    "        \"source_or_target_dataset\": \"target\",\n",
    "        \"x_transforms\": [\"unit_power\", \"times_zero\"],\n",
    "        \"episode_transforms\": [],\n",
    "        \"domain_prefix\": \"CORES_\"\n",
    "    }   \n",
    "]\n",
    "\n",
    "standalone_parameters[\"torch_default_dtype\"] = \"torch.float32\" \n",
    "\n",
    "\n",
    "\n",
    "standalone_parameters[\"x_net\"] =     [\n",
    "    {\"class\": \"nnReshape\", \"kargs\": {\"shape\":[-1, 1, 2, 256]}},\n",
    "    {\"class\": \"Conv2d\", \"kargs\": { \"in_channels\":1, \"out_channels\":256, \"kernel_size\":(1,7), \"bias\":False, \"padding\":(0,3), },},\n",
    "    {\"class\": \"ReLU\", \"kargs\": {\"inplace\": True}},\n",
    "    {\"class\": \"BatchNorm2d\", \"kargs\": {\"num_features\":256}},\n",
    "\n",
    "    {\"class\": \"Conv2d\", \"kargs\": { \"in_channels\":256, \"out_channels\":80, \"kernel_size\":(2,7), \"bias\":True, \"padding\":(0,3), },},\n",
    "    {\"class\": \"ReLU\", \"kargs\": {\"inplace\": True}},\n",
    "    {\"class\": \"BatchNorm2d\", \"kargs\": {\"num_features\":80}},\n",
    "    {\"class\": \"Flatten\", \"kargs\": {}},\n",
    "\n",
    "    {\"class\": \"Linear\", \"kargs\": {\"in_features\": 80*256, \"out_features\": 256}}, # 80 units per IQ pair\n",
    "    {\"class\": \"ReLU\", \"kargs\": {\"inplace\": True}},\n",
    "    {\"class\": \"BatchNorm1d\", \"kargs\": {\"num_features\":256}},\n",
    "\n",
    "    {\"class\": \"Linear\", \"kargs\": {\"in_features\": 256, \"out_features\": 256}},\n",
    "]\n",
    "\n",
    "# Parameters relevant to results\n",
    "# These parameters will basically never need to change\n",
    "standalone_parameters[\"NUM_LOGS_PER_EPOCH\"] = 10\n",
    "standalone_parameters[\"BEST_MODEL_PATH\"] = \"./best_model.pth\"\n",
    "\n",
    "\n",
    "\n",
    "\n"
   ]
  },
  {
   "cell_type": "code",
   "execution_count": 4,
   "id": "491dd7d3",
   "metadata": {
    "execution": {
     "iopub.execute_input": "2022-03-29T09:12:29.475120Z",
     "iopub.status.busy": "2022-03-29T09:12:29.474666Z",
     "iopub.status.idle": "2022-03-29T09:12:29.487446Z",
     "shell.execute_reply": "2022-03-29T09:12:29.487167Z"
    },
    "papermill": {
     "duration": 0.030797,
     "end_time": "2022-03-29T09:12:29.487504",
     "exception": false,
     "start_time": "2022-03-29T09:12:29.456707",
     "status": "completed"
    },
    "tags": [
     "injected-parameters"
    ]
   },
   "outputs": [],
   "source": [
    "# Parameters\n",
    "parameters = {\n",
    "    \"experiment_name\": \"tl_1v2:oracle.run1-oracle.run2\",\n",
    "    \"device\": \"cuda\",\n",
    "    \"lr\": 0.0001,\n",
    "    \"n_shot\": 3,\n",
    "    \"n_query\": 2,\n",
    "    \"train_k_factor\": 3,\n",
    "    \"val_k_factor\": 2,\n",
    "    \"test_k_factor\": 2,\n",
    "    \"torch_default_dtype\": \"torch.float32\",\n",
    "    \"n_epoch\": 50,\n",
    "    \"patience\": 3,\n",
    "    \"criteria_for_best\": \"target_accuracy\",\n",
    "    \"x_net\": [\n",
    "        {\"class\": \"nnReshape\", \"kargs\": {\"shape\": [-1, 1, 2, 256]}},\n",
    "        {\n",
    "            \"class\": \"Conv2d\",\n",
    "            \"kargs\": {\n",
    "                \"in_channels\": 1,\n",
    "                \"out_channels\": 256,\n",
    "                \"kernel_size\": [1, 7],\n",
    "                \"bias\": False,\n",
    "                \"padding\": [0, 3],\n",
    "            },\n",
    "        },\n",
    "        {\"class\": \"ReLU\", \"kargs\": {\"inplace\": True}},\n",
    "        {\"class\": \"BatchNorm2d\", \"kargs\": {\"num_features\": 256}},\n",
    "        {\n",
    "            \"class\": \"Conv2d\",\n",
    "            \"kargs\": {\n",
    "                \"in_channels\": 256,\n",
    "                \"out_channels\": 80,\n",
    "                \"kernel_size\": [2, 7],\n",
    "                \"bias\": True,\n",
    "                \"padding\": [0, 3],\n",
    "            },\n",
    "        },\n",
    "        {\"class\": \"ReLU\", \"kargs\": {\"inplace\": True}},\n",
    "        {\"class\": \"BatchNorm2d\", \"kargs\": {\"num_features\": 80}},\n",
    "        {\"class\": \"Flatten\", \"kargs\": {}},\n",
    "        {\"class\": \"Linear\", \"kargs\": {\"in_features\": 20480, \"out_features\": 256}},\n",
    "        {\"class\": \"ReLU\", \"kargs\": {\"inplace\": True}},\n",
    "        {\"class\": \"BatchNorm1d\", \"kargs\": {\"num_features\": 256}},\n",
    "        {\"class\": \"Linear\", \"kargs\": {\"in_features\": 256, \"out_features\": 256}},\n",
    "    ],\n",
    "    \"NUM_LOGS_PER_EPOCH\": 10,\n",
    "    \"BEST_MODEL_PATH\": \"./best_model.pth\",\n",
    "    \"n_way\": 16,\n",
    "    \"datasets\": [\n",
    "        {\n",
    "            \"labels\": [\n",
    "                \"3123D52\",\n",
    "                \"3123D65\",\n",
    "                \"3123D79\",\n",
    "                \"3123D80\",\n",
    "                \"3123D54\",\n",
    "                \"3123D70\",\n",
    "                \"3123D7B\",\n",
    "                \"3123D89\",\n",
    "                \"3123D58\",\n",
    "                \"3123D76\",\n",
    "                \"3123D7D\",\n",
    "                \"3123EFE\",\n",
    "                \"3123D64\",\n",
    "                \"3123D78\",\n",
    "                \"3123D7E\",\n",
    "                \"3124E4A\",\n",
    "            ],\n",
    "            \"domains\": [32, 38, 8, 44, 14, 50, 20, 26],\n",
    "            \"num_examples_per_domain_per_label\": 10000,\n",
    "            \"pickle_path\": \"/mnt/wd500GB/CSC500/csc500-main/datasets/oracle.Run1_10kExamples_stratified_ds.2022A.pkl\",\n",
    "            \"source_or_target_dataset\": \"source\",\n",
    "            \"x_transforms\": [\"unit_power\"],\n",
    "            \"episode_transforms\": [],\n",
    "            \"domain_prefix\": \"ORACLE.run1_\",\n",
    "        },\n",
    "        {\n",
    "            \"labels\": [\n",
    "                \"3123D52\",\n",
    "                \"3123D65\",\n",
    "                \"3123D79\",\n",
    "                \"3123D80\",\n",
    "                \"3123D54\",\n",
    "                \"3123D70\",\n",
    "                \"3123D7B\",\n",
    "                \"3123D89\",\n",
    "                \"3123D58\",\n",
    "                \"3123D76\",\n",
    "                \"3123D7D\",\n",
    "                \"3123EFE\",\n",
    "                \"3123D64\",\n",
    "                \"3123D78\",\n",
    "                \"3123D7E\",\n",
    "                \"3124E4A\",\n",
    "            ],\n",
    "            \"domains\": [32, 38, 8, 44, 14, 50, 20, 26],\n",
    "            \"num_examples_per_domain_per_label\": 10000,\n",
    "            \"pickle_path\": \"/mnt/wd500GB/CSC500/csc500-main/datasets/oracle.Run2_10kExamples_stratified_ds.2022A.pkl\",\n",
    "            \"source_or_target_dataset\": \"target\",\n",
    "            \"x_transforms\": [\"unit_power\"],\n",
    "            \"episode_transforms\": [],\n",
    "            \"domain_prefix\": \"ORACLE.run2_\",\n",
    "        },\n",
    "    ],\n",
    "    \"dataset_seed\": 500,\n",
    "    \"seed\": 500,\n",
    "}\n"
   ]
  },
  {
   "cell_type": "code",
   "execution_count": 5,
   "id": "8fa1cc33",
   "metadata": {
    "execution": {
     "iopub.execute_input": "2022-03-29T09:12:29.516229Z",
     "iopub.status.busy": "2022-03-29T09:12:29.515816Z",
     "iopub.status.idle": "2022-03-29T09:12:29.527601Z",
     "shell.execute_reply": "2022-03-29T09:12:29.527322Z"
    },
    "papermill": {
     "duration": 0.027314,
     "end_time": "2022-03-29T09:12:29.527658",
     "exception": false,
     "start_time": "2022-03-29T09:12:29.500344",
     "status": "completed"
    },
    "tags": []
   },
   "outputs": [],
   "source": [
    "# Set this to True if you want to run this template directly\n",
    "STANDALONE = False\n",
    "if STANDALONE:\n",
    "    print(\"parameters not injected, running with standalone_parameters\")\n",
    "    parameters = standalone_parameters\n",
    "\n",
    "if not 'parameters' in locals() and not 'parameters' in globals():\n",
    "    raise Exception(\"Parameter injection failed\")\n",
    "\n",
    "#Use an easy dict for all the parameters\n",
    "p = EasyDict(parameters)\n",
    "\n",
    "if \"x_shape\" not in p:\n",
    "    p.x_shape = [2,256] # Default to this if we dont supply x_shape\n",
    "\n",
    "\n",
    "supplied_keys = set(p.keys())\n",
    "\n",
    "if  supplied_keys != required_parameters:\n",
    "    print(\"Parameters are incorrect\")\n",
    "    if len(supplied_keys - required_parameters)>0: print(\"Shouldn't have:\", str(supplied_keys - required_parameters))\n",
    "    if len(required_parameters - supplied_keys)>0: print(\"Need to have:\", str(required_parameters - supplied_keys))\n",
    "    raise RuntimeError(\"Parameters are incorrect\")"
   ]
  },
  {
   "cell_type": "code",
   "execution_count": 6,
   "id": "3a028d58",
   "metadata": {
    "execution": {
     "iopub.execute_input": "2022-03-29T09:12:29.558827Z",
     "iopub.status.busy": "2022-03-29T09:12:29.558425Z",
     "iopub.status.idle": "2022-03-29T09:12:29.572093Z",
     "shell.execute_reply": "2022-03-29T09:12:29.571824Z"
    },
    "papermill": {
     "duration": 0.027999,
     "end_time": "2022-03-29T09:12:29.572150",
     "exception": false,
     "start_time": "2022-03-29T09:12:29.544151",
     "status": "completed"
    },
    "tags": []
   },
   "outputs": [],
   "source": [
    "###################################\n",
    "# Set the RNGs and make it all deterministic\n",
    "###################################\n",
    "np.random.seed(p.seed)\n",
    "random.seed(p.seed)\n",
    "torch.manual_seed(p.seed)\n",
    "\n",
    "torch.use_deterministic_algorithms(True) "
   ]
  },
  {
   "cell_type": "code",
   "execution_count": 7,
   "id": "b691acf6",
   "metadata": {
    "execution": {
     "iopub.execute_input": "2022-03-29T09:12:29.600953Z",
     "iopub.status.busy": "2022-03-29T09:12:29.600550Z",
     "iopub.status.idle": "2022-03-29T09:12:29.611555Z",
     "shell.execute_reply": "2022-03-29T09:12:29.611307Z"
    },
    "papermill": {
     "duration": 0.026313,
     "end_time": "2022-03-29T09:12:29.611611",
     "exception": false,
     "start_time": "2022-03-29T09:12:29.585298",
     "status": "completed"
    },
    "tags": []
   },
   "outputs": [],
   "source": [
    "###########################################\n",
    "# The stratified datasets honor this\n",
    "###########################################\n",
    "torch.set_default_dtype(eval(p.torch_default_dtype))"
   ]
  },
  {
   "cell_type": "code",
   "execution_count": 8,
   "id": "b5fba671",
   "metadata": {
    "execution": {
     "iopub.execute_input": "2022-03-29T09:12:29.641647Z",
     "iopub.status.busy": "2022-03-29T09:12:29.641248Z",
     "iopub.status.idle": "2022-03-29T09:12:29.679184Z",
     "shell.execute_reply": "2022-03-29T09:12:29.678931Z"
    },
    "papermill": {
     "duration": 0.052644,
     "end_time": "2022-03-29T09:12:29.679247",
     "exception": false,
     "start_time": "2022-03-29T09:12:29.626603",
     "status": "completed"
    },
    "tags": []
   },
   "outputs": [],
   "source": [
    "###################################\n",
    "# Build the network(s)\n",
    "# Note: It's critical to do this AFTER setting the RNG\n",
    "###################################\n",
    "x_net = build_sequential(p.x_net)"
   ]
  },
  {
   "cell_type": "code",
   "execution_count": 9,
   "id": "5d7e61cc",
   "metadata": {
    "execution": {
     "iopub.execute_input": "2022-03-29T09:12:29.708084Z",
     "iopub.status.busy": "2022-03-29T09:12:29.707685Z",
     "iopub.status.idle": "2022-03-29T09:12:29.719182Z",
     "shell.execute_reply": "2022-03-29T09:12:29.718930Z"
    },
    "papermill": {
     "duration": 0.026394,
     "end_time": "2022-03-29T09:12:29.719240",
     "exception": false,
     "start_time": "2022-03-29T09:12:29.692846",
     "status": "completed"
    },
    "tags": []
   },
   "outputs": [],
   "source": [
    "start_time_secs = time.time()"
   ]
  },
  {
   "cell_type": "code",
   "execution_count": 10,
   "id": "c6b67dfd",
   "metadata": {
    "execution": {
     "iopub.execute_input": "2022-03-29T09:12:29.749272Z",
     "iopub.status.busy": "2022-03-29T09:12:29.748861Z",
     "iopub.status.idle": "2022-03-29T09:12:29.761286Z",
     "shell.execute_reply": "2022-03-29T09:12:29.761008Z"
    },
    "papermill": {
     "duration": 0.027933,
     "end_time": "2022-03-29T09:12:29.761345",
     "exception": false,
     "start_time": "2022-03-29T09:12:29.733412",
     "status": "completed"
    },
    "tags": []
   },
   "outputs": [],
   "source": [
    "p.domains_source = []\n",
    "p.domains_target = []\n",
    "\n",
    "\n",
    "train_original_source = []\n",
    "val_original_source   = []\n",
    "test_original_source  = []\n",
    "\n",
    "train_original_target = []\n",
    "val_original_target   = []\n",
    "test_original_target  = []"
   ]
  },
  {
   "cell_type": "code",
   "execution_count": 11,
   "id": "e3d9c3d3",
   "metadata": {
    "execution": {
     "iopub.execute_input": "2022-03-29T09:12:29.791101Z",
     "iopub.status.busy": "2022-03-29T09:12:29.790692Z",
     "iopub.status.idle": "2022-03-29T09:12:29.801566Z",
     "shell.execute_reply": "2022-03-29T09:12:29.801299Z"
    },
    "papermill": {
     "duration": 0.025511,
     "end_time": "2022-03-29T09:12:29.801622",
     "exception": false,
     "start_time": "2022-03-29T09:12:29.776111",
     "status": "completed"
    },
    "tags": []
   },
   "outputs": [],
   "source": [
    "# global_x_transform_func = lambda x: normalize(x.to(torch.get_default_dtype()), \"unit_power\") # unit_power, unit_mag\n",
    "# global_x_transform_func = lambda x: normalize(x, \"unit_power\") # unit_power, unit_mag"
   ]
  },
  {
   "cell_type": "code",
   "execution_count": 12,
   "id": "acb78fd2",
   "metadata": {
    "execution": {
     "iopub.execute_input": "2022-03-29T09:12:29.834534Z",
     "iopub.status.busy": "2022-03-29T09:12:29.834110Z",
     "iopub.status.idle": "2022-03-29T09:12:29.848002Z",
     "shell.execute_reply": "2022-03-29T09:12:29.847727Z"
    },
    "papermill": {
     "duration": 0.03158,
     "end_time": "2022-03-29T09:12:29.848060",
     "exception": false,
     "start_time": "2022-03-29T09:12:29.816480",
     "status": "completed"
    },
    "tags": []
   },
   "outputs": [],
   "source": [
    "def add_dataset(\n",
    "    labels,\n",
    "    domains,\n",
    "    pickle_path,\n",
    "    x_transforms,\n",
    "    episode_transforms,\n",
    "    domain_prefix,\n",
    "    num_examples_per_domain_per_label,\n",
    "    source_or_target_dataset:str,\n",
    "    iterator_seed=p.seed,\n",
    "    dataset_seed=p.dataset_seed,\n",
    "    n_shot=p.n_shot,\n",
    "    n_way=p.n_way,\n",
    "    n_query=p.n_query,\n",
    "    train_val_test_k_factors=(p.train_k_factor,p.val_k_factor,p.test_k_factor),\n",
    "):\n",
    "   \n",
    "    if x_transforms == []: x_transform = None\n",
    "    else: x_transform = get_chained_transform(x_transforms)\n",
    "    \n",
    "    if episode_transforms == []: episode_transform = None\n",
    "    else: raise Exception(\"episode_transforms not implemented\")\n",
    "    \n",
    "    episode_transform = lambda tup, _prefix=domain_prefix: (_prefix + str(tup[0]), tup[1])\n",
    "\n",
    "\n",
    "    eaf = Episodic_Accessor_Factory(\n",
    "        labels=labels,\n",
    "        domains=domains,\n",
    "        num_examples_per_domain_per_label=num_examples_per_domain_per_label,\n",
    "        iterator_seed=iterator_seed,\n",
    "        dataset_seed=dataset_seed,\n",
    "        n_shot=n_shot,\n",
    "        n_way=n_way,\n",
    "        n_query=n_query,\n",
    "        train_val_test_k_factors=train_val_test_k_factors,\n",
    "        pickle_path=pickle_path,\n",
    "        x_transform_func=x_transform,\n",
    "    )\n",
    "\n",
    "    train, val, test = eaf.get_train(), eaf.get_val(), eaf.get_test()\n",
    "    train = Lazy_Iterable_Wrapper(train, episode_transform)\n",
    "    val = Lazy_Iterable_Wrapper(val, episode_transform)\n",
    "    test = Lazy_Iterable_Wrapper(test, episode_transform)\n",
    "\n",
    "    if source_or_target_dataset==\"source\":\n",
    "        train_original_source.append(train)\n",
    "        val_original_source.append(val)\n",
    "        test_original_source.append(test)\n",
    "\n",
    "        p.domains_source.extend(\n",
    "            [domain_prefix + str(u) for u in domains]\n",
    "        )\n",
    "    elif source_or_target_dataset==\"target\":\n",
    "        train_original_target.append(train)\n",
    "        val_original_target.append(val)\n",
    "        test_original_target.append(test)\n",
    "        p.domains_target.extend(\n",
    "            [domain_prefix + str(u) for u in domains]\n",
    "        )\n",
    "    else:\n",
    "        raise Exception(f\"invalid source_or_target_dataset: {source_or_target_dataset}\")\n",
    "    "
   ]
  },
  {
   "cell_type": "code",
   "execution_count": 13,
   "id": "fe266617",
   "metadata": {
    "execution": {
     "iopub.execute_input": "2022-03-29T09:12:29.877999Z",
     "iopub.status.busy": "2022-03-29T09:12:29.877590Z",
     "iopub.status.idle": "2022-03-29T09:15:12.108524Z",
     "shell.execute_reply": "2022-03-29T09:15:12.108079Z"
    },
    "papermill": {
     "duration": 162.245904,
     "end_time": "2022-03-29T09:15:12.108628",
     "exception": false,
     "start_time": "2022-03-29T09:12:29.862724",
     "status": "completed"
    },
    "tags": []
   },
   "outputs": [],
   "source": [
    "for ds in p.datasets:\n",
    "    add_dataset(**ds)"
   ]
  },
  {
   "cell_type": "code",
   "execution_count": 14,
   "id": "b90d65ac",
   "metadata": {
    "execution": {
     "iopub.execute_input": "2022-03-29T09:15:12.145946Z",
     "iopub.status.busy": "2022-03-29T09:15:12.145412Z",
     "iopub.status.idle": "2022-03-29T09:15:12.161103Z",
     "shell.execute_reply": "2022-03-29T09:15:12.160628Z"
    },
    "papermill": {
     "duration": 0.031814,
     "end_time": "2022-03-29T09:15:12.161201",
     "exception": false,
     "start_time": "2022-03-29T09:15:12.129387",
     "status": "completed"
    },
    "tags": []
   },
   "outputs": [],
   "source": [
    "# from steves_utils.CORES.utils import (\n",
    "#     ALL_NODES,\n",
    "#     ALL_NODES_MINIMUM_1000_EXAMPLES,\n",
    "#     ALL_DAYS\n",
    "# )\n",
    "\n",
    "# add_dataset(\n",
    "#     labels=ALL_NODES,\n",
    "#     domains = ALL_DAYS,\n",
    "#     num_examples_per_domain_per_label=100,\n",
    "#     pickle_path=os.path.join(get_datasets_base_path(), \"cores.stratified_ds.2022A.pkl\"),\n",
    "#     source_or_target_dataset=\"target\",\n",
    "#     x_transform_func=global_x_transform_func,\n",
    "#     domain_modifier=lambda u: f\"cores_{u}\"\n",
    "# )"
   ]
  },
  {
   "cell_type": "code",
   "execution_count": 15,
   "id": "76db484d",
   "metadata": {
    "execution": {
     "iopub.execute_input": "2022-03-29T09:15:12.194177Z",
     "iopub.status.busy": "2022-03-29T09:15:12.193891Z",
     "iopub.status.idle": "2022-03-29T09:15:12.204876Z",
     "shell.execute_reply": "2022-03-29T09:15:12.204388Z"
    },
    "papermill": {
     "duration": 0.025916,
     "end_time": "2022-03-29T09:15:12.204974",
     "exception": false,
     "start_time": "2022-03-29T09:15:12.179058",
     "status": "completed"
    },
    "tags": []
   },
   "outputs": [],
   "source": [
    "# from steves_utils.ORACLE.utils_v2 import (\n",
    "#     ALL_DISTANCES_FEET,\n",
    "#     ALL_RUNS,\n",
    "#     ALL_SERIAL_NUMBERS,\n",
    "# )\n",
    "\n",
    "\n",
    "# add_dataset(\n",
    "#     labels=ALL_SERIAL_NUMBERS,\n",
    "#     domains = list(set(ALL_DISTANCES_FEET) - {2,62}),\n",
    "#     num_examples_per_domain_per_label=100,\n",
    "#     pickle_path=os.path.join(get_datasets_base_path(), \"oracle.Run2_framed_2000Examples_stratified_ds.2022A.pkl\"),\n",
    "#     source_or_target_dataset=\"source\",\n",
    "#     x_transform_func=global_x_transform_func,\n",
    "#     domain_modifier=lambda u: f\"oracle1_{u}\"\n",
    "# )\n"
   ]
  },
  {
   "cell_type": "code",
   "execution_count": 16,
   "id": "97dea9d2",
   "metadata": {
    "execution": {
     "iopub.execute_input": "2022-03-29T09:15:12.245870Z",
     "iopub.status.busy": "2022-03-29T09:15:12.242697Z",
     "iopub.status.idle": "2022-03-29T09:15:12.252812Z",
     "shell.execute_reply": "2022-03-29T09:15:12.252416Z"
    },
    "papermill": {
     "duration": 0.031659,
     "end_time": "2022-03-29T09:15:12.252909",
     "exception": false,
     "start_time": "2022-03-29T09:15:12.221250",
     "status": "completed"
    },
    "tags": []
   },
   "outputs": [],
   "source": [
    "# from steves_utils.ORACLE.utils_v2 import (\n",
    "#     ALL_DISTANCES_FEET,\n",
    "#     ALL_RUNS,\n",
    "#     ALL_SERIAL_NUMBERS,\n",
    "# )\n",
    "\n",
    "\n",
    "# add_dataset(\n",
    "#     labels=ALL_SERIAL_NUMBERS,\n",
    "#     domains = list(set(ALL_DISTANCES_FEET) - {2,62,56}),\n",
    "#     num_examples_per_domain_per_label=100,\n",
    "#     pickle_path=os.path.join(get_datasets_base_path(), \"oracle.Run2_framed_2000Examples_stratified_ds.2022A.pkl\"),\n",
    "#     source_or_target_dataset=\"source\",\n",
    "#     x_transform_func=global_x_transform_func,\n",
    "#     domain_modifier=lambda u: f\"oracle2_{u}\"\n",
    "# )"
   ]
  },
  {
   "cell_type": "code",
   "execution_count": 17,
   "id": "6f289866",
   "metadata": {
    "execution": {
     "iopub.execute_input": "2022-03-29T09:15:12.291130Z",
     "iopub.status.busy": "2022-03-29T09:15:12.286865Z",
     "iopub.status.idle": "2022-03-29T09:15:12.299277Z",
     "shell.execute_reply": "2022-03-29T09:15:12.298929Z"
    },
    "papermill": {
     "duration": 0.028068,
     "end_time": "2022-03-29T09:15:12.299350",
     "exception": false,
     "start_time": "2022-03-29T09:15:12.271282",
     "status": "completed"
    },
    "tags": []
   },
   "outputs": [],
   "source": [
    "# add_dataset(\n",
    "#     labels=list(range(19)),\n",
    "#     domains = [0,1,2],\n",
    "#     num_examples_per_domain_per_label=100,\n",
    "#     pickle_path=os.path.join(get_datasets_base_path(), \"metehan.stratified_ds.2022A.pkl\"),\n",
    "#     source_or_target_dataset=\"target\",\n",
    "#     x_transform_func=global_x_transform_func,\n",
    "#     domain_modifier=lambda u: f\"met_{u}\"\n",
    "# )"
   ]
  },
  {
   "cell_type": "code",
   "execution_count": 18,
   "id": "86a863c3",
   "metadata": {
    "execution": {
     "iopub.execute_input": "2022-03-29T09:15:12.334596Z",
     "iopub.status.busy": "2022-03-29T09:15:12.334219Z",
     "iopub.status.idle": "2022-03-29T09:15:12.348932Z",
     "shell.execute_reply": "2022-03-29T09:15:12.348464Z"
    },
    "papermill": {
     "duration": 0.030665,
     "end_time": "2022-03-29T09:15:12.349027",
     "exception": false,
     "start_time": "2022-03-29T09:15:12.318362",
     "status": "completed"
    },
    "tags": []
   },
   "outputs": [],
   "source": [
    "# # from steves_utils.wisig.utils import (\n",
    "# #     ALL_NODES_MINIMUM_100_EXAMPLES,\n",
    "# #     ALL_NODES_MINIMUM_500_EXAMPLES,\n",
    "# #     ALL_NODES_MINIMUM_1000_EXAMPLES,\n",
    "# #     ALL_DAYS\n",
    "# # )\n",
    "\n",
    "# import steves_utils.wisig.utils as wisig\n",
    "\n",
    "\n",
    "# add_dataset(\n",
    "#     labels=wisig.ALL_NODES_MINIMUM_100_EXAMPLES,\n",
    "#     domains = wisig.ALL_DAYS,\n",
    "#     num_examples_per_domain_per_label=100,\n",
    "#     pickle_path=os.path.join(get_datasets_base_path(), \"wisig.node3-19.stratified_ds.2022A.pkl\"),\n",
    "#     source_or_target_dataset=\"target\",\n",
    "#     x_transform_func=global_x_transform_func,\n",
    "#     domain_modifier=lambda u: f\"wisig_{u}\"\n",
    "# )"
   ]
  },
  {
   "cell_type": "code",
   "execution_count": 19,
   "id": "fd5442bc",
   "metadata": {
    "execution": {
     "iopub.execute_input": "2022-03-29T09:15:12.391191Z",
     "iopub.status.busy": "2022-03-29T09:15:12.390703Z",
     "iopub.status.idle": "2022-03-29T09:15:12.398210Z",
     "shell.execute_reply": "2022-03-29T09:15:12.397952Z"
    },
    "papermill": {
     "duration": 0.032969,
     "end_time": "2022-03-29T09:15:12.398264",
     "exception": false,
     "start_time": "2022-03-29T09:15:12.365295",
     "status": "completed"
    },
    "tags": []
   },
   "outputs": [],
   "source": [
    "###################################\n",
    "# Build the dataset\n",
    "###################################\n",
    "train_original_source = Iterable_Aggregator(train_original_source, p.seed)\n",
    "val_original_source = Iterable_Aggregator(val_original_source, p.seed)\n",
    "test_original_source = Iterable_Aggregator(test_original_source, p.seed)\n",
    "\n",
    "\n",
    "train_original_target = Iterable_Aggregator(train_original_target, p.seed)\n",
    "val_original_target = Iterable_Aggregator(val_original_target, p.seed)\n",
    "test_original_target = Iterable_Aggregator(test_original_target, p.seed)\n",
    "\n",
    "# For CNN We only use X and Y. And we only train on the source.\n",
    "# Properly form the data using a transform lambda and Lazy_Iterable_Wrapper. Finally wrap them in a dataloader\n",
    "\n",
    "transform_lambda = lambda ex: ex[1] # Original is (<domain>, <episode>) so we strip down to episode only\n",
    "\n",
    "train_processed_source = Lazy_Iterable_Wrapper(train_original_source, transform_lambda)\n",
    "val_processed_source   = Lazy_Iterable_Wrapper(val_original_source, transform_lambda)\n",
    "test_processed_source  = Lazy_Iterable_Wrapper(test_original_source, transform_lambda)\n",
    "\n",
    "train_processed_target = Lazy_Iterable_Wrapper(train_original_target, transform_lambda)\n",
    "val_processed_target   = Lazy_Iterable_Wrapper(val_original_target, transform_lambda)\n",
    "test_processed_target  = Lazy_Iterable_Wrapper(test_original_target, transform_lambda)\n",
    "\n",
    "datasets = EasyDict({\n",
    "    \"source\": {\n",
    "        \"original\": {\"train\":train_original_source, \"val\":val_original_source, \"test\":test_original_source},\n",
    "        \"processed\": {\"train\":train_processed_source, \"val\":val_processed_source, \"test\":test_processed_source}\n",
    "    },\n",
    "    \"target\": {\n",
    "        \"original\": {\"train\":train_original_target, \"val\":val_original_target, \"test\":test_original_target},\n",
    "        \"processed\": {\"train\":train_processed_target, \"val\":val_processed_target, \"test\":test_processed_target}\n",
    "    },\n",
    "})"
   ]
  },
  {
   "cell_type": "code",
   "execution_count": 20,
   "id": "5b3c01fc",
   "metadata": {
    "execution": {
     "iopub.execute_input": "2022-03-29T09:15:12.434587Z",
     "iopub.status.busy": "2022-03-29T09:15:12.429586Z",
     "iopub.status.idle": "2022-03-29T09:15:37.570634Z",
     "shell.execute_reply": "2022-03-29T09:15:37.570926Z"
    },
    "papermill": {
     "duration": 25.158998,
     "end_time": "2022-03-29T09:15:37.571031",
     "exception": false,
     "start_time": "2022-03-29T09:15:12.412033",
     "status": "completed"
    },
    "tags": []
   },
   "outputs": [
    {
     "name": "stdout",
     "output_type": "stream",
     "text": [
      "{'ORACLE.run1_44', 'ORACLE.run1_50', 'ORACLE.run1_8', 'ORACLE.run1_32', 'ORACLE.run1_20', 'ORACLE.run1_26', 'ORACLE.run1_38', 'ORACLE.run1_14'}\n"
     ]
    },
    {
     "name": "stdout",
     "output_type": "stream",
     "text": [
      "{'ORACLE.run2_8', 'ORACLE.run2_50', 'ORACLE.run2_26', 'ORACLE.run2_44', 'ORACLE.run2_14', 'ORACLE.run2_38', 'ORACLE.run2_20', 'ORACLE.run2_32'}\n"
     ]
    },
    {
     "name": "stdout",
     "output_type": "stream",
     "text": [
      "tensor([[[-1.3566,  0.4052, -0.1762,  ...,  0.8985, -0.0705, -0.3700],\n",
      "         [-0.3700,  0.7223,  0.0529,  ...,  1.6913,  0.2995,  1.2861]],\n",
      "\n",
      "        [[-0.0513,  1.4358, -0.1538,  ..., -0.8205, -0.4444,  0.6324],\n",
      "         [ 0.3931, -2.0169, -1.2136,  ...,  0.1026, -1.0939,  0.8205]],\n",
      "\n",
      "        [[ 0.3392,  0.2500, -0.1964,  ...,  0.2857,  0.1785, -0.2143],\n",
      "         [-1.1606, -1.2141,  0.6071,  ...,  0.0536,  0.2321,  0.1250]],\n",
      "\n",
      "        ...,\n",
      "\n",
      "        [[ 1.2825, -0.1789,  0.4175,  ..., -0.9842, -0.1193,  1.2228],\n",
      "         [ 0.2088,  1.7149,  0.1491,  ...,  0.3430, -0.4921, -1.1035]],\n",
      "\n",
      "        [[ 0.6304, -0.7204, -0.2101,  ...,  0.3002,  0.3452,  0.1051],\n",
      "         [ 0.4352, -1.0206,  0.6604,  ..., -1.6509, -0.8705,  0.1051]],\n",
      "\n",
      "        [[ 0.8216,  0.6872, -0.6274,  ...,  0.5079,  0.5079,  0.9560],\n",
      "         [-0.0896, -0.4930, -0.2988,  ...,  0.1344, -0.0149, -0.4183]]])\n"
     ]
    }
   ],
   "source": [
    "from steves_utils.transforms import get_average_magnitude, get_average_power\n",
    "\n",
    "print(set([u for u,_ in val_original_source]))\n",
    "print(set([u for u,_ in val_original_target]))\n",
    "\n",
    "s_x, s_y, q_x, q_y, _ = next(iter(train_processed_source))\n",
    "print(s_x)\n",
    "\n",
    "# for ds in [\n",
    "#     train_processed_source,\n",
    "#     val_processed_source,\n",
    "#     test_processed_source,\n",
    "#     train_processed_target,\n",
    "#     val_processed_target,\n",
    "#     test_processed_target\n",
    "# ]:\n",
    "#     for s_x, s_y, q_x, q_y, _ in ds:\n",
    "#         for X in (s_x, q_x):\n",
    "#             for x in X:\n",
    "#                 assert np.isclose(get_average_magnitude(x.numpy()), 1.0)\n",
    "#                 assert np.isclose(get_average_power(x.numpy()), 1.0)\n",
    "                "
   ]
  },
  {
   "cell_type": "code",
   "execution_count": 21,
   "id": "bbdacba1",
   "metadata": {
    "execution": {
     "iopub.execute_input": "2022-03-29T09:15:37.611392Z",
     "iopub.status.busy": "2022-03-29T09:15:37.611130Z",
     "iopub.status.idle": "2022-03-29T09:15:37.670203Z",
     "shell.execute_reply": "2022-03-29T09:15:37.669725Z"
    },
    "papermill": {
     "duration": 0.076327,
     "end_time": "2022-03-29T09:15:37.670296",
     "exception": false,
     "start_time": "2022-03-29T09:15:37.593969",
     "status": "completed"
    },
    "tags": []
   },
   "outputs": [
    {
     "name": "stdout",
     "output_type": "stream",
     "text": [
      "(2, 256)\n"
     ]
    }
   ],
   "source": [
    "###################################\n",
    "# Build the model\n",
    "###################################\n",
    "# easfsl only wants a tuple for the shape\n",
    "model = Steves_Prototypical_Network(x_net, device=p.device, x_shape=tuple(p.x_shape))\n",
    "optimizer = Adam(params=model.parameters(), lr=p.lr)"
   ]
  },
  {
   "cell_type": "code",
   "execution_count": 22,
   "id": "22b39ac5",
   "metadata": {
    "execution": {
     "iopub.execute_input": "2022-03-29T09:15:37.705475Z",
     "iopub.status.busy": "2022-03-29T09:15:37.705225Z",
     "iopub.status.idle": "2022-03-29T12:33:27.249970Z",
     "shell.execute_reply": "2022-03-29T12:33:27.249741Z"
    },
    "papermill": {
     "duration": 11869.561204,
     "end_time": "2022-03-29T12:33:27.250030",
     "exception": false,
     "start_time": "2022-03-29T09:15:37.688826",
     "status": "completed"
    },
    "tags": []
   },
   "outputs": [
    {
     "name": "stdout",
     "output_type": "stream",
     "text": [
      "epoch: 1, [batch: 1 / 33600], examples_per_second: 9.9249, train_label_loss: 2.8086, \n"
     ]
    },
    {
     "name": "stdout",
     "output_type": "stream",
     "text": [
      "epoch: 1, [batch: 3360 / 33600], examples_per_second: 3213.9870, train_label_loss: 1.4513, \n"
     ]
    },
    {
     "name": "stdout",
     "output_type": "stream",
     "text": [
      "epoch: 1, [batch: 6720 / 33600], examples_per_second: 3216.6848, train_label_loss: 0.6406, \n"
     ]
    },
    {
     "name": "stdout",
     "output_type": "stream",
     "text": [
      "epoch: 1, [batch: 10080 / 33600], examples_per_second: 3208.4297, train_label_loss: 1.8074, \n"
     ]
    },
    {
     "name": "stdout",
     "output_type": "stream",
     "text": [
      "epoch: 1, [batch: 13440 / 33600], examples_per_second: 3201.4569, train_label_loss: 1.0780, \n"
     ]
    },
    {
     "name": "stdout",
     "output_type": "stream",
     "text": [
      "epoch: 1, [batch: 16800 / 33600], examples_per_second: 3212.7580, train_label_loss: 0.6909, \n"
     ]
    },
    {
     "name": "stdout",
     "output_type": "stream",
     "text": [
      "epoch: 1, [batch: 20160 / 33600], examples_per_second: 3212.3286, train_label_loss: 0.9168, \n"
     ]
    },
    {
     "name": "stdout",
     "output_type": "stream",
     "text": [
      "epoch: 1, [batch: 23520 / 33600], examples_per_second: 3203.7333, train_label_loss: 1.1123, \n"
     ]
    },
    {
     "name": "stdout",
     "output_type": "stream",
     "text": [
      "epoch: 1, [batch: 26880 / 33600], examples_per_second: 3202.6338, train_label_loss: 0.4342, \n"
     ]
    },
    {
     "name": "stdout",
     "output_type": "stream",
     "text": [
      "epoch: 1, [batch: 30240 / 33600], examples_per_second: 3211.7270, train_label_loss: 0.6026, \n"
     ]
    },
    {
     "name": "stdout",
     "output_type": "stream",
     "text": [
      "=============================================================\n",
      "epoch: 1, source_val_acc_label: 0.6430, target_val_acc_label: 0.6282, source_val_label_loss: 0.9503, target_val_label_loss: 0.9971, \n",
      "=============================================================\n"
     ]
    },
    {
     "name": "stdout",
     "output_type": "stream",
     "text": [
      "New best\n"
     ]
    },
    {
     "name": "stdout",
     "output_type": "stream",
     "text": [
      "epoch: 2, [batch: 1 / 33600], examples_per_second: 0.9646, train_label_loss: 1.3138, \n"
     ]
    },
    {
     "name": "stdout",
     "output_type": "stream",
     "text": [
      "epoch: 2, [batch: 3360 / 33600], examples_per_second: 3225.3338, train_label_loss: 0.7444, \n"
     ]
    },
    {
     "name": "stdout",
     "output_type": "stream",
     "text": [
      "epoch: 2, [batch: 6720 / 33600], examples_per_second: 3243.3408, train_label_loss: 1.1228, \n"
     ]
    },
    {
     "name": "stdout",
     "output_type": "stream",
     "text": [
      "epoch: 2, [batch: 10080 / 33600], examples_per_second: 3245.5984, train_label_loss: 0.8054, \n"
     ]
    },
    {
     "name": "stdout",
     "output_type": "stream",
     "text": [
      "epoch: 2, [batch: 13440 / 33600], examples_per_second: 3235.8066, train_label_loss: 0.7031, \n"
     ]
    },
    {
     "name": "stdout",
     "output_type": "stream",
     "text": [
      "epoch: 2, [batch: 16800 / 33600], examples_per_second: 3249.0389, train_label_loss: 0.8551, \n"
     ]
    },
    {
     "name": "stdout",
     "output_type": "stream",
     "text": [
      "epoch: 2, [batch: 20160 / 33600], examples_per_second: 3242.5676, train_label_loss: 0.5658, \n"
     ]
    },
    {
     "name": "stdout",
     "output_type": "stream",
     "text": [
      "epoch: 2, [batch: 23520 / 33600], examples_per_second: 3232.0676, train_label_loss: 0.4995, \n"
     ]
    },
    {
     "name": "stdout",
     "output_type": "stream",
     "text": [
      "epoch: 2, [batch: 26880 / 33600], examples_per_second: 3241.9482, train_label_loss: 1.3966, \n"
     ]
    },
    {
     "name": "stdout",
     "output_type": "stream",
     "text": [
      "epoch: 2, [batch: 30240 / 33600], examples_per_second: 3244.0754, train_label_loss: 0.5194, \n"
     ]
    },
    {
     "name": "stdout",
     "output_type": "stream",
     "text": [
      "=============================================================\n",
      "epoch: 2, source_val_acc_label: 0.6673, target_val_acc_label: 0.6469, source_val_label_loss: 0.8813, target_val_label_loss: 0.9443, \n",
      "=============================================================\n"
     ]
    },
    {
     "name": "stdout",
     "output_type": "stream",
     "text": [
      "New best\n"
     ]
    },
    {
     "name": "stdout",
     "output_type": "stream",
     "text": [
      "epoch: 3, [batch: 1 / 33600], examples_per_second: 0.9698, train_label_loss: 0.5773, \n"
     ]
    },
    {
     "name": "stdout",
     "output_type": "stream",
     "text": [
      "epoch: 3, [batch: 3360 / 33600], examples_per_second: 3225.5029, train_label_loss: 0.4679, \n"
     ]
    },
    {
     "name": "stdout",
     "output_type": "stream",
     "text": [
      "epoch: 3, [batch: 6720 / 33600], examples_per_second: 3238.9984, train_label_loss: 1.1706, \n"
     ]
    },
    {
     "name": "stdout",
     "output_type": "stream",
     "text": [
      "epoch: 3, [batch: 10080 / 33600], examples_per_second: 3246.5581, train_label_loss: 0.6377, \n"
     ]
    },
    {
     "name": "stdout",
     "output_type": "stream",
     "text": [
      "epoch: 3, [batch: 13440 / 33600], examples_per_second: 3233.4228, train_label_loss: 0.6765, \n"
     ]
    },
    {
     "name": "stdout",
     "output_type": "stream",
     "text": [
      "epoch: 3, [batch: 16800 / 33600], examples_per_second: 3242.4790, train_label_loss: 0.8431, \n"
     ]
    },
    {
     "name": "stdout",
     "output_type": "stream",
     "text": [
      "epoch: 3, [batch: 20160 / 33600], examples_per_second: 3243.2550, train_label_loss: 0.6109, \n"
     ]
    },
    {
     "name": "stdout",
     "output_type": "stream",
     "text": [
      "epoch: 3, [batch: 23520 / 33600], examples_per_second: 3230.9680, train_label_loss: 1.0130, \n"
     ]
    },
    {
     "name": "stdout",
     "output_type": "stream",
     "text": [
      "epoch: 3, [batch: 26880 / 33600], examples_per_second: 3238.8705, train_label_loss: 0.6716, \n"
     ]
    },
    {
     "name": "stdout",
     "output_type": "stream",
     "text": [
      "epoch: 3, [batch: 30240 / 33600], examples_per_second: 3239.4101, train_label_loss: 1.0033, \n"
     ]
    },
    {
     "name": "stdout",
     "output_type": "stream",
     "text": [
      "=============================================================\n",
      "epoch: 3, source_val_acc_label: 0.6954, target_val_acc_label: 0.6757, source_val_label_loss: 0.8124, target_val_label_loss: 0.8869, \n",
      "=============================================================\n"
     ]
    },
    {
     "name": "stdout",
     "output_type": "stream",
     "text": [
      "New best\n"
     ]
    },
    {
     "name": "stdout",
     "output_type": "stream",
     "text": [
      "epoch: 4, [batch: 1 / 33600], examples_per_second: 0.9695, train_label_loss: 1.0075, \n"
     ]
    },
    {
     "name": "stdout",
     "output_type": "stream",
     "text": [
      "epoch: 4, [batch: 3360 / 33600], examples_per_second: 3225.4292, train_label_loss: 0.5202, \n"
     ]
    },
    {
     "name": "stdout",
     "output_type": "stream",
     "text": [
      "epoch: 4, [batch: 6720 / 33600], examples_per_second: 3239.7442, train_label_loss: 0.8800, \n"
     ]
    },
    {
     "name": "stdout",
     "output_type": "stream",
     "text": [
      "epoch: 4, [batch: 10080 / 33600], examples_per_second: 3242.8421, train_label_loss: 0.3577, \n"
     ]
    },
    {
     "name": "stdout",
     "output_type": "stream",
     "text": [
      "epoch: 4, [batch: 13440 / 33600], examples_per_second: 3231.9166, train_label_loss: 0.6579, \n"
     ]
    },
    {
     "name": "stdout",
     "output_type": "stream",
     "text": [
      "epoch: 4, [batch: 16800 / 33600], examples_per_second: 3241.7661, train_label_loss: 0.6720, \n"
     ]
    },
    {
     "name": "stdout",
     "output_type": "stream",
     "text": [
      "epoch: 4, [batch: 20160 / 33600], examples_per_second: 3243.5302, train_label_loss: 0.7935, \n"
     ]
    },
    {
     "name": "stdout",
     "output_type": "stream",
     "text": [
      "epoch: 4, [batch: 23520 / 33600], examples_per_second: 3222.6242, train_label_loss: 0.9173, \n"
     ]
    },
    {
     "name": "stdout",
     "output_type": "stream",
     "text": [
      "epoch: 4, [batch: 26880 / 33600], examples_per_second: 3242.4357, train_label_loss: 0.2888, \n"
     ]
    },
    {
     "name": "stdout",
     "output_type": "stream",
     "text": [
      "epoch: 4, [batch: 30240 / 33600], examples_per_second: 3230.7158, train_label_loss: 0.5221, \n"
     ]
    },
    {
     "name": "stdout",
     "output_type": "stream",
     "text": [
      "=============================================================\n",
      "epoch: 4, source_val_acc_label: 0.7132, target_val_acc_label: 0.6954, source_val_label_loss: 0.7786, target_val_label_loss: 0.8609, \n",
      "=============================================================\n"
     ]
    },
    {
     "name": "stdout",
     "output_type": "stream",
     "text": [
      "New best\n"
     ]
    },
    {
     "name": "stdout",
     "output_type": "stream",
     "text": [
      "epoch: 5, [batch: 1 / 33600], examples_per_second: 0.9676, train_label_loss: 0.5869, \n"
     ]
    },
    {
     "name": "stdout",
     "output_type": "stream",
     "text": [
      "epoch: 5, [batch: 3360 / 33600], examples_per_second: 3229.2025, train_label_loss: 0.5063, \n"
     ]
    },
    {
     "name": "stdout",
     "output_type": "stream",
     "text": [
      "epoch: 5, [batch: 6720 / 33600], examples_per_second: 3241.0188, train_label_loss: 0.4587, \n"
     ]
    },
    {
     "name": "stdout",
     "output_type": "stream",
     "text": [
      "epoch: 5, [batch: 10080 / 33600], examples_per_second: 3243.2976, train_label_loss: 0.8086, \n"
     ]
    },
    {
     "name": "stdout",
     "output_type": "stream",
     "text": [
      "epoch: 5, [batch: 13440 / 33600], examples_per_second: 3236.4198, train_label_loss: 0.5739, \n"
     ]
    },
    {
     "name": "stdout",
     "output_type": "stream",
     "text": [
      "epoch: 5, [batch: 16800 / 33600], examples_per_second: 3245.7581, train_label_loss: 0.8918, \n"
     ]
    },
    {
     "name": "stdout",
     "output_type": "stream",
     "text": [
      "epoch: 5, [batch: 20160 / 33600], examples_per_second: 3247.3139, train_label_loss: 0.5873, \n"
     ]
    },
    {
     "name": "stdout",
     "output_type": "stream",
     "text": [
      "epoch: 5, [batch: 23520 / 33600], examples_per_second: 3235.6281, train_label_loss: 0.5471, \n"
     ]
    },
    {
     "name": "stdout",
     "output_type": "stream",
     "text": [
      "epoch: 5, [batch: 26880 / 33600], examples_per_second: 3233.7542, train_label_loss: 0.5579, \n"
     ]
    },
    {
     "name": "stdout",
     "output_type": "stream",
     "text": [
      "epoch: 5, [batch: 30240 / 33600], examples_per_second: 3236.4067, train_label_loss: 0.2422, \n"
     ]
    },
    {
     "name": "stdout",
     "output_type": "stream",
     "text": [
      "=============================================================\n",
      "epoch: 5, source_val_acc_label: 0.7161, target_val_acc_label: 0.6963, source_val_label_loss: 0.7730, target_val_label_loss: 0.8552, \n",
      "=============================================================\n"
     ]
    },
    {
     "name": "stdout",
     "output_type": "stream",
     "text": [
      "New best\n"
     ]
    },
    {
     "name": "stdout",
     "output_type": "stream",
     "text": [
      "epoch: 6, [batch: 1 / 33600], examples_per_second: 0.9700, train_label_loss: 0.2953, \n"
     ]
    },
    {
     "name": "stdout",
     "output_type": "stream",
     "text": [
      "epoch: 6, [batch: 3360 / 33600], examples_per_second: 3220.7995, train_label_loss: 0.7431, \n"
     ]
    },
    {
     "name": "stdout",
     "output_type": "stream",
     "text": [
      "epoch: 6, [batch: 6720 / 33600], examples_per_second: 3238.7939, train_label_loss: 0.6153, \n"
     ]
    },
    {
     "name": "stdout",
     "output_type": "stream",
     "text": [
      "epoch: 6, [batch: 10080 / 33600], examples_per_second: 3242.3003, train_label_loss: 0.6177, \n"
     ]
    },
    {
     "name": "stdout",
     "output_type": "stream",
     "text": [
      "epoch: 6, [batch: 13440 / 33600], examples_per_second: 3224.8600, train_label_loss: 0.4703, \n"
     ]
    },
    {
     "name": "stdout",
     "output_type": "stream",
     "text": [
      "epoch: 6, [batch: 16800 / 33600], examples_per_second: 3240.8143, train_label_loss: 0.3904, \n"
     ]
    },
    {
     "name": "stdout",
     "output_type": "stream",
     "text": [
      "epoch: 6, [batch: 20160 / 33600], examples_per_second: 3241.9581, train_label_loss: 0.6416, \n"
     ]
    },
    {
     "name": "stdout",
     "output_type": "stream",
     "text": [
      "epoch: 6, [batch: 23520 / 33600], examples_per_second: 3231.6765, train_label_loss: 0.2928, \n"
     ]
    },
    {
     "name": "stdout",
     "output_type": "stream",
     "text": [
      "epoch: 6, [batch: 26880 / 33600], examples_per_second: 3244.6353, train_label_loss: 0.8177, \n"
     ]
    },
    {
     "name": "stdout",
     "output_type": "stream",
     "text": [
      "epoch: 6, [batch: 30240 / 33600], examples_per_second: 3234.0901, train_label_loss: 0.9587, \n"
     ]
    },
    {
     "name": "stdout",
     "output_type": "stream",
     "text": [
      "=============================================================\n",
      "epoch: 6, source_val_acc_label: 0.7264, target_val_acc_label: 0.7118, source_val_label_loss: 0.7542, target_val_label_loss: 0.8309, \n",
      "=============================================================\n"
     ]
    },
    {
     "name": "stdout",
     "output_type": "stream",
     "text": [
      "New best\n"
     ]
    },
    {
     "name": "stdout",
     "output_type": "stream",
     "text": [
      "epoch: 7, [batch: 1 / 33600], examples_per_second: 0.9668, train_label_loss: 0.4771, \n"
     ]
    },
    {
     "name": "stdout",
     "output_type": "stream",
     "text": [
      "epoch: 7, [batch: 3360 / 33600], examples_per_second: 3225.9389, train_label_loss: 0.2669, \n"
     ]
    },
    {
     "name": "stdout",
     "output_type": "stream",
     "text": [
      "epoch: 7, [batch: 6720 / 33600], examples_per_second: 3240.6057, train_label_loss: 0.4102, \n"
     ]
    },
    {
     "name": "stdout",
     "output_type": "stream",
     "text": [
      "epoch: 7, [batch: 10080 / 33600], examples_per_second: 3238.7948, train_label_loss: 0.7246, \n"
     ]
    },
    {
     "name": "stdout",
     "output_type": "stream",
     "text": [
      "epoch: 7, [batch: 13440 / 33600], examples_per_second: 3229.6378, train_label_loss: 0.2729, \n"
     ]
    },
    {
     "name": "stdout",
     "output_type": "stream",
     "text": [
      "epoch: 7, [batch: 16800 / 33600], examples_per_second: 3247.2839, train_label_loss: 0.6561, \n"
     ]
    },
    {
     "name": "stdout",
     "output_type": "stream",
     "text": [
      "epoch: 7, [batch: 20160 / 33600], examples_per_second: 3246.0308, train_label_loss: 0.5758, \n"
     ]
    },
    {
     "name": "stdout",
     "output_type": "stream",
     "text": [
      "epoch: 7, [batch: 23520 / 33600], examples_per_second: 3233.9051, train_label_loss: 0.7546, \n"
     ]
    },
    {
     "name": "stdout",
     "output_type": "stream",
     "text": [
      "epoch: 7, [batch: 26880 / 33600], examples_per_second: 3240.3765, train_label_loss: 0.5674, \n"
     ]
    },
    {
     "name": "stdout",
     "output_type": "stream",
     "text": [
      "epoch: 7, [batch: 30240 / 33600], examples_per_second: 3238.7354, train_label_loss: 0.5566, \n"
     ]
    },
    {
     "name": "stdout",
     "output_type": "stream",
     "text": [
      "=============================================================\n",
      "epoch: 7, source_val_acc_label: 0.7324, target_val_acc_label: 0.7170, source_val_label_loss: 0.7551, target_val_label_loss: 0.8325, \n",
      "=============================================================\n"
     ]
    },
    {
     "name": "stdout",
     "output_type": "stream",
     "text": [
      "New best\n"
     ]
    },
    {
     "name": "stdout",
     "output_type": "stream",
     "text": [
      "epoch: 8, [batch: 1 / 33600], examples_per_second: 0.9662, train_label_loss: 0.2841, \n"
     ]
    },
    {
     "name": "stdout",
     "output_type": "stream",
     "text": [
      "epoch: 8, [batch: 3360 / 33600], examples_per_second: 3208.4929, train_label_loss: 0.3539, \n"
     ]
    },
    {
     "name": "stdout",
     "output_type": "stream",
     "text": [
      "epoch: 8, [batch: 6720 / 33600], examples_per_second: 3239.6670, train_label_loss: 0.1365, \n"
     ]
    },
    {
     "name": "stdout",
     "output_type": "stream",
     "text": [
      "epoch: 8, [batch: 10080 / 33600], examples_per_second: 3245.6255, train_label_loss: 0.2943, \n"
     ]
    },
    {
     "name": "stdout",
     "output_type": "stream",
     "text": [
      "epoch: 8, [batch: 13440 / 33600], examples_per_second: 3226.6775, train_label_loss: 0.3815, \n"
     ]
    },
    {
     "name": "stdout",
     "output_type": "stream",
     "text": [
      "epoch: 8, [batch: 16800 / 33600], examples_per_second: 3234.9753, train_label_loss: 0.4054, \n"
     ]
    },
    {
     "name": "stdout",
     "output_type": "stream",
     "text": [
      "epoch: 8, [batch: 20160 / 33600], examples_per_second: 3240.9552, train_label_loss: 0.4121, \n"
     ]
    },
    {
     "name": "stdout",
     "output_type": "stream",
     "text": [
      "epoch: 8, [batch: 23520 / 33600], examples_per_second: 3236.2645, train_label_loss: 0.1497, \n"
     ]
    },
    {
     "name": "stdout",
     "output_type": "stream",
     "text": [
      "epoch: 8, [batch: 26880 / 33600], examples_per_second: 3222.4078, train_label_loss: 0.2685, \n"
     ]
    },
    {
     "name": "stdout",
     "output_type": "stream",
     "text": [
      "epoch: 8, [batch: 30240 / 33600], examples_per_second: 3249.8223, train_label_loss: 0.1560, \n"
     ]
    },
    {
     "name": "stdout",
     "output_type": "stream",
     "text": [
      "=============================================================\n",
      "epoch: 8, source_val_acc_label: 0.7333, target_val_acc_label: 0.7172, source_val_label_loss: 0.7566, target_val_label_loss: 0.8379, \n",
      "=============================================================\n"
     ]
    },
    {
     "name": "stdout",
     "output_type": "stream",
     "text": [
      "New best\n"
     ]
    },
    {
     "name": "stdout",
     "output_type": "stream",
     "text": [
      "epoch: 9, [batch: 1 / 33600], examples_per_second: 0.9683, train_label_loss: 0.2474, \n"
     ]
    },
    {
     "name": "stdout",
     "output_type": "stream",
     "text": [
      "epoch: 9, [batch: 3360 / 33600], examples_per_second: 3222.3295, train_label_loss: 0.4143, \n"
     ]
    },
    {
     "name": "stdout",
     "output_type": "stream",
     "text": [
      "epoch: 9, [batch: 6720 / 33600], examples_per_second: 3241.2989, train_label_loss: 0.4713, \n"
     ]
    },
    {
     "name": "stdout",
     "output_type": "stream",
     "text": [
      "epoch: 9, [batch: 10080 / 33600], examples_per_second: 3245.9282, train_label_loss: 0.2669, \n"
     ]
    },
    {
     "name": "stdout",
     "output_type": "stream",
     "text": [
      "epoch: 9, [batch: 13440 / 33600], examples_per_second: 3230.8385, train_label_loss: 0.4821, \n"
     ]
    },
    {
     "name": "stdout",
     "output_type": "stream",
     "text": [
      "epoch: 9, [batch: 16800 / 33600], examples_per_second: 3240.8563, train_label_loss: 0.4143, \n"
     ]
    },
    {
     "name": "stdout",
     "output_type": "stream",
     "text": [
      "epoch: 9, [batch: 20160 / 33600], examples_per_second: 3237.1124, train_label_loss: 0.1544, \n"
     ]
    },
    {
     "name": "stdout",
     "output_type": "stream",
     "text": [
      "epoch: 9, [batch: 23520 / 33600], examples_per_second: 3232.9392, train_label_loss: 0.3603, \n"
     ]
    },
    {
     "name": "stdout",
     "output_type": "stream",
     "text": [
      "epoch: 9, [batch: 26880 / 33600], examples_per_second: 3243.1320, train_label_loss: 0.5076, \n"
     ]
    },
    {
     "name": "stdout",
     "output_type": "stream",
     "text": [
      "epoch: 9, [batch: 30240 / 33600], examples_per_second: 3242.7978, train_label_loss: 0.5600, \n"
     ]
    },
    {
     "name": "stdout",
     "output_type": "stream",
     "text": [
      "=============================================================\n",
      "epoch: 9, source_val_acc_label: 0.7334, target_val_acc_label: 0.7175, source_val_label_loss: 0.7725, target_val_label_loss: 0.8557, \n",
      "=============================================================\n"
     ]
    },
    {
     "name": "stdout",
     "output_type": "stream",
     "text": [
      "New best\n"
     ]
    },
    {
     "name": "stdout",
     "output_type": "stream",
     "text": [
      "epoch: 10, [batch: 1 / 33600], examples_per_second: 0.9650, train_label_loss: 0.3142, \n"
     ]
    },
    {
     "name": "stdout",
     "output_type": "stream",
     "text": [
      "epoch: 10, [batch: 3360 / 33600], examples_per_second: 3226.8029, train_label_loss: 0.3451, \n"
     ]
    },
    {
     "name": "stdout",
     "output_type": "stream",
     "text": [
      "epoch: 10, [batch: 6720 / 33600], examples_per_second: 3234.8448, train_label_loss: 0.6794, \n"
     ]
    },
    {
     "name": "stdout",
     "output_type": "stream",
     "text": [
      "epoch: 10, [batch: 10080 / 33600], examples_per_second: 3243.3497, train_label_loss: 0.3485, \n"
     ]
    },
    {
     "name": "stdout",
     "output_type": "stream",
     "text": [
      "epoch: 10, [batch: 13440 / 33600], examples_per_second: 3240.0250, train_label_loss: 0.6359, \n"
     ]
    },
    {
     "name": "stdout",
     "output_type": "stream",
     "text": [
      "epoch: 10, [batch: 16800 / 33600], examples_per_second: 3248.0947, train_label_loss: 0.1999, \n"
     ]
    },
    {
     "name": "stdout",
     "output_type": "stream",
     "text": [
      "epoch: 10, [batch: 20160 / 33600], examples_per_second: 3246.2246, train_label_loss: 0.4553, \n"
     ]
    },
    {
     "name": "stdout",
     "output_type": "stream",
     "text": [
      "epoch: 10, [batch: 23520 / 33600], examples_per_second: 3242.2768, train_label_loss: 0.4811, \n"
     ]
    },
    {
     "name": "stdout",
     "output_type": "stream",
     "text": [
      "epoch: 10, [batch: 26880 / 33600], examples_per_second: 3230.4492, train_label_loss: 0.2654, \n"
     ]
    },
    {
     "name": "stdout",
     "output_type": "stream",
     "text": [
      "epoch: 10, [batch: 30240 / 33600], examples_per_second: 3244.2101, train_label_loss: 0.6330, \n"
     ]
    },
    {
     "name": "stdout",
     "output_type": "stream",
     "text": [
      "=============================================================\n",
      "epoch: 10, source_val_acc_label: 0.7315, target_val_acc_label: 0.7164, source_val_label_loss: 0.7891, target_val_label_loss: 0.8708, \n",
      "=============================================================\n"
     ]
    },
    {
     "name": "stdout",
     "output_type": "stream",
     "text": [
      "epoch: 11, [batch: 1 / 33600], examples_per_second: 0.9709, train_label_loss: 0.4489, \n"
     ]
    },
    {
     "name": "stdout",
     "output_type": "stream",
     "text": [
      "epoch: 11, [batch: 3360 / 33600], examples_per_second: 3226.0502, train_label_loss: 0.6387, \n"
     ]
    },
    {
     "name": "stdout",
     "output_type": "stream",
     "text": [
      "epoch: 11, [batch: 6720 / 33600], examples_per_second: 3237.3712, train_label_loss: 0.1922, \n"
     ]
    },
    {
     "name": "stdout",
     "output_type": "stream",
     "text": [
      "epoch: 11, [batch: 10080 / 33600], examples_per_second: 3245.5040, train_label_loss: 0.2913, \n"
     ]
    },
    {
     "name": "stdout",
     "output_type": "stream",
     "text": [
      "epoch: 11, [batch: 13440 / 33600], examples_per_second: 3238.7288, train_label_loss: 0.2047, \n"
     ]
    },
    {
     "name": "stdout",
     "output_type": "stream",
     "text": [
      "epoch: 11, [batch: 16800 / 33600], examples_per_second: 3238.0670, train_label_loss: 0.4466, \n"
     ]
    },
    {
     "name": "stdout",
     "output_type": "stream",
     "text": [
      "epoch: 11, [batch: 20160 / 33600], examples_per_second: 3243.0573, train_label_loss: 0.4803, \n"
     ]
    },
    {
     "name": "stdout",
     "output_type": "stream",
     "text": [
      "epoch: 11, [batch: 23520 / 33600], examples_per_second: 3234.0878, train_label_loss: 0.6263, \n"
     ]
    },
    {
     "name": "stdout",
     "output_type": "stream",
     "text": [
      "epoch: 11, [batch: 26880 / 33600], examples_per_second: 3237.1763, train_label_loss: 0.4807, \n"
     ]
    },
    {
     "name": "stdout",
     "output_type": "stream",
     "text": [
      "epoch: 11, [batch: 30240 / 33600], examples_per_second: 3234.0687, train_label_loss: 0.5203, \n"
     ]
    },
    {
     "name": "stdout",
     "output_type": "stream",
     "text": [
      "=============================================================\n",
      "epoch: 11, source_val_acc_label: 0.7280, target_val_acc_label: 0.7111, source_val_label_loss: 0.8184, target_val_label_loss: 0.9021, \n",
      "=============================================================\n"
     ]
    },
    {
     "name": "stdout",
     "output_type": "stream",
     "text": [
      "epoch: 12, [batch: 1 / 33600], examples_per_second: 0.9659, train_label_loss: 0.5023, \n"
     ]
    },
    {
     "name": "stdout",
     "output_type": "stream",
     "text": [
      "epoch: 12, [batch: 3360 / 33600], examples_per_second: 3226.8157, train_label_loss: 0.2096, \n"
     ]
    },
    {
     "name": "stdout",
     "output_type": "stream",
     "text": [
      "epoch: 12, [batch: 6720 / 33600], examples_per_second: 3240.6042, train_label_loss: 0.2313, \n"
     ]
    },
    {
     "name": "stdout",
     "output_type": "stream",
     "text": [
      "epoch: 12, [batch: 10080 / 33600], examples_per_second: 3247.7423, train_label_loss: 0.2648, \n"
     ]
    },
    {
     "name": "stdout",
     "output_type": "stream",
     "text": [
      "epoch: 12, [batch: 13440 / 33600], examples_per_second: 3231.3671, train_label_loss: 0.2357, \n"
     ]
    },
    {
     "name": "stdout",
     "output_type": "stream",
     "text": [
      "epoch: 12, [batch: 16800 / 33600], examples_per_second: 3249.5248, train_label_loss: 0.1623, \n"
     ]
    },
    {
     "name": "stdout",
     "output_type": "stream",
     "text": [
      "epoch: 12, [batch: 20160 / 33600], examples_per_second: 3239.9180, train_label_loss: 0.2910, \n"
     ]
    },
    {
     "name": "stdout",
     "output_type": "stream",
     "text": [
      "epoch: 12, [batch: 23520 / 33600], examples_per_second: 3227.6844, train_label_loss: 0.0690, \n"
     ]
    },
    {
     "name": "stdout",
     "output_type": "stream",
     "text": [
      "epoch: 12, [batch: 26880 / 33600], examples_per_second: 3221.5873, train_label_loss: 0.3304, \n"
     ]
    },
    {
     "name": "stdout",
     "output_type": "stream",
     "text": [
      "epoch: 12, [batch: 30240 / 33600], examples_per_second: 3247.7566, train_label_loss: 0.5904, \n"
     ]
    },
    {
     "name": "stdout",
     "output_type": "stream",
     "text": [
      "=============================================================\n",
      "epoch: 12, source_val_acc_label: 0.7244, target_val_acc_label: 0.7064, source_val_label_loss: 0.8358, target_val_label_loss: 0.9247, \n",
      "=============================================================\n"
     ]
    },
    {
     "name": "stdout",
     "output_type": "stream",
     "text": [
      "epoch: 13, [batch: 1 / 33600], examples_per_second: 0.9703, train_label_loss: 0.3277, \n"
     ]
    },
    {
     "name": "stdout",
     "output_type": "stream",
     "text": [
      "epoch: 13, [batch: 3360 / 33600], examples_per_second: 3221.2092, train_label_loss: 0.7161, \n"
     ]
    },
    {
     "name": "stdout",
     "output_type": "stream",
     "text": [
      "epoch: 13, [batch: 6720 / 33600], examples_per_second: 3233.9191, train_label_loss: 0.2012, \n"
     ]
    },
    {
     "name": "stdout",
     "output_type": "stream",
     "text": [
      "epoch: 13, [batch: 10080 / 33600], examples_per_second: 3245.3954, train_label_loss: 0.0382, \n"
     ]
    },
    {
     "name": "stdout",
     "output_type": "stream",
     "text": [
      "epoch: 13, [batch: 13440 / 33600], examples_per_second: 3225.0573, train_label_loss: 0.3457, \n"
     ]
    },
    {
     "name": "stdout",
     "output_type": "stream",
     "text": [
      "epoch: 13, [batch: 16800 / 33600], examples_per_second: 3244.9846, train_label_loss: 0.2570, \n"
     ]
    },
    {
     "name": "stdout",
     "output_type": "stream",
     "text": [
      "epoch: 13, [batch: 20160 / 33600], examples_per_second: 3245.7885, train_label_loss: 0.6347, \n"
     ]
    },
    {
     "name": "stdout",
     "output_type": "stream",
     "text": [
      "epoch: 13, [batch: 23520 / 33600], examples_per_second: 3229.9047, train_label_loss: 0.1419, \n"
     ]
    },
    {
     "name": "stdout",
     "output_type": "stream",
     "text": [
      "epoch: 13, [batch: 26880 / 33600], examples_per_second: 3243.2285, train_label_loss: 0.2974, \n"
     ]
    },
    {
     "name": "stdout",
     "output_type": "stream",
     "text": [
      "epoch: 13, [batch: 30240 / 33600], examples_per_second: 3246.9127, train_label_loss: 0.0837, \n"
     ]
    },
    {
     "name": "stdout",
     "output_type": "stream",
     "text": [
      "=============================================================\n",
      "epoch: 13, source_val_acc_label: 0.7229, target_val_acc_label: 0.7070, source_val_label_loss: 0.8552, target_val_label_loss: 0.9450, \n",
      "=============================================================\n"
     ]
    },
    {
     "name": "stdout",
     "output_type": "stream",
     "text": [
      "Patience (3) exhausted\n"
     ]
    }
   ],
   "source": [
    "###################################\n",
    "# train\n",
    "###################################\n",
    "jig = PTN_Train_Eval_Test_Jig(model, p.BEST_MODEL_PATH, p.device)\n",
    "\n",
    "jig.train(\n",
    "    train_iterable=datasets.source.processed.train,\n",
    "    source_val_iterable=datasets.source.processed.val,\n",
    "    target_val_iterable=datasets.target.processed.val,\n",
    "    num_epochs=p.n_epoch,\n",
    "    num_logs_per_epoch=p.NUM_LOGS_PER_EPOCH,\n",
    "    patience=p.patience,\n",
    "    optimizer=optimizer,\n",
    "    criteria_for_best=p.criteria_for_best,\n",
    ")"
   ]
  },
  {
   "cell_type": "code",
   "execution_count": 23,
   "id": "31e8fabf",
   "metadata": {
    "execution": {
     "iopub.execute_input": "2022-03-29T12:33:27.336894Z",
     "iopub.status.busy": "2022-03-29T12:33:27.336636Z",
     "iopub.status.idle": "2022-03-29T12:33:27.354431Z",
     "shell.execute_reply": "2022-03-29T12:33:27.353987Z"
    },
    "papermill": {
     "duration": 0.062654,
     "end_time": "2022-03-29T12:33:27.354537",
     "exception": false,
     "start_time": "2022-03-29T12:33:27.291883",
     "status": "completed"
    },
    "tags": []
   },
   "outputs": [],
   "source": [
    "total_experiment_time_secs = time.time() - start_time_secs"
   ]
  },
  {
   "cell_type": "code",
   "execution_count": 24,
   "id": "87b9595b",
   "metadata": {
    "execution": {
     "iopub.execute_input": "2022-03-29T12:33:27.445664Z",
     "iopub.status.busy": "2022-03-29T12:33:27.445393Z",
     "iopub.status.idle": "2022-03-29T12:41:28.993331Z",
     "shell.execute_reply": "2022-03-29T12:41:28.993715Z"
    },
    "papermill": {
     "duration": 481.593657,
     "end_time": "2022-03-29T12:41:28.993839",
     "exception": false,
     "start_time": "2022-03-29T12:33:27.400182",
     "status": "completed"
    },
    "tags": []
   },
   "outputs": [],
   "source": [
    "###################################\n",
    "# Evaluate the model\n",
    "###################################\n",
    "source_test_label_accuracy, source_test_label_loss = jig.test(datasets.source.processed.test)\n",
    "target_test_label_accuracy, target_test_label_loss = jig.test(datasets.target.processed.test)\n",
    "\n",
    "source_val_label_accuracy, source_val_label_loss = jig.test(datasets.source.processed.val)\n",
    "target_val_label_accuracy, target_val_label_loss = jig.test(datasets.target.processed.val)\n",
    "\n",
    "history = jig.get_history()\n",
    "\n",
    "total_epochs_trained = len(history[\"epoch_indices\"])\n",
    "\n",
    "val_dl = Iterable_Aggregator((datasets.source.original.val,datasets.target.original.val))\n",
    "\n",
    "confusion = ptn_confusion_by_domain_over_dataloader(model, p.device, val_dl)\n",
    "per_domain_accuracy = per_domain_accuracy_from_confusion(confusion)\n",
    "\n",
    "# Add a key to per_domain_accuracy for if it was a source domain\n",
    "for domain, accuracy in per_domain_accuracy.items():\n",
    "    per_domain_accuracy[domain] = {\n",
    "        \"accuracy\": accuracy,\n",
    "        \"source?\": domain in p.domains_source\n",
    "    }\n",
    "\n",
    "# Do an independent accuracy assesment JUST TO BE SURE!\n",
    "# _source_test_label_accuracy = independent_accuracy_assesment(model, datasets.source.processed.test, p.device)\n",
    "# _target_test_label_accuracy = independent_accuracy_assesment(model, datasets.target.processed.test, p.device)\n",
    "# _source_val_label_accuracy = independent_accuracy_assesment(model, datasets.source.processed.val, p.device)\n",
    "# _target_val_label_accuracy = independent_accuracy_assesment(model, datasets.target.processed.val, p.device)\n",
    "\n",
    "# assert(_source_test_label_accuracy == source_test_label_accuracy)\n",
    "# assert(_target_test_label_accuracy == target_test_label_accuracy)\n",
    "# assert(_source_val_label_accuracy == source_val_label_accuracy)\n",
    "# assert(_target_val_label_accuracy == target_val_label_accuracy)\n",
    "\n",
    "experiment = {\n",
    "    \"experiment_name\": p.experiment_name,\n",
    "    \"parameters\": dict(p),\n",
    "    \"results\": {\n",
    "        \"source_test_label_accuracy\": source_test_label_accuracy,\n",
    "        \"source_test_label_loss\": source_test_label_loss,\n",
    "        \"target_test_label_accuracy\": target_test_label_accuracy,\n",
    "        \"target_test_label_loss\": target_test_label_loss,\n",
    "        \"source_val_label_accuracy\": source_val_label_accuracy,\n",
    "        \"source_val_label_loss\": source_val_label_loss,\n",
    "        \"target_val_label_accuracy\": target_val_label_accuracy,\n",
    "        \"target_val_label_loss\": target_val_label_loss,\n",
    "        \"total_epochs_trained\": total_epochs_trained,\n",
    "        \"total_experiment_time_secs\": total_experiment_time_secs,\n",
    "        \"confusion\": confusion,\n",
    "        \"per_domain_accuracy\": per_domain_accuracy,\n",
    "    },\n",
    "    \"history\": history,\n",
    "    \"dataset_metrics\": get_dataset_metrics(datasets, \"ptn\"),\n",
    "}"
   ]
  },
  {
   "cell_type": "code",
   "execution_count": 25,
   "id": "54a21829",
   "metadata": {
    "execution": {
     "iopub.execute_input": "2022-03-29T12:41:29.091344Z",
     "iopub.status.busy": "2022-03-29T12:41:29.091093Z",
     "iopub.status.idle": "2022-03-29T12:41:29.225365Z",
     "shell.execute_reply": "2022-03-29T12:41:29.225743Z"
    },
    "papermill": {
     "duration": 0.178209,
     "end_time": "2022-03-29T12:41:29.225854",
     "exception": false,
     "start_time": "2022-03-29T12:41:29.047645",
     "status": "completed"
    },
    "tags": []
   },
   "outputs": [
    {
     "data": {
      "image/png": "[encoded data removed]",
      "text/plain": [
       "<Figure size 1080x504 with 1 Axes>"
      ]
     },
     "metadata": {
      "needs_background": "light"
     },
     "output_type": "display_data"
    }
   ],
   "source": [
    "ax = get_loss_curve(experiment)\n",
    "plt.show()"
   ]
  },
  {
   "cell_type": "code",
   "execution_count": 26,
   "id": "fd8a0f60",
   "metadata": {
    "execution": {
     "iopub.execute_input": "2022-03-29T12:41:29.316773Z",
     "iopub.status.busy": "2022-03-29T12:41:29.316331Z",
     "iopub.status.idle": "2022-03-29T12:41:29.458080Z",
     "shell.execute_reply": "2022-03-29T12:41:29.458365Z"
    },
    "papermill": {
     "duration": 0.185827,
     "end_time": "2022-03-29T12:41:29.458449",
     "exception": false,
     "start_time": "2022-03-29T12:41:29.272622",
     "status": "completed"
    },
    "tags": []
   },
   "outputs": [
    {
     "data": {
      "text/plain": [
       "<AxesSubplot:title={'center':'Results'}>"
      ]
     },
     "execution_count": 26,
     "metadata": {},
     "output_type": "execute_result"
    },
    {
     "data": {
      "image/png": "[encoded data removed]",
      "text/plain": [
       "<Figure size 1080x504 with 1 Axes>"
      ]
     },
     "metadata": {
      "needs_background": "light"
     },
     "output_type": "display_data"
    }
   ],
   "source": [
    "get_results_table(experiment)"
   ]
  },
  {
   "cell_type": "code",
   "execution_count": 27,
   "id": "cf8dc689",
   "metadata": {
    "execution": {
     "iopub.execute_input": "2022-03-29T12:41:29.551414Z",
     "iopub.status.busy": "2022-03-29T12:41:29.551112Z",
     "iopub.status.idle": "2022-03-29T12:41:29.713115Z",
     "shell.execute_reply": "2022-03-29T12:41:29.712657Z"
    },
    "papermill": {
     "duration": 0.206584,
     "end_time": "2022-03-29T12:41:29.713210",
     "exception": false,
     "start_time": "2022-03-29T12:41:29.506626",
     "status": "completed"
    },
    "tags": []
   },
   "outputs": [
    {
     "data": {
      "text/plain": [
       "<AxesSubplot:title={'center':'Per Domain Validation Accuracy'}, xlabel='domain'>"
      ]
     },
     "execution_count": 27,
     "metadata": {},
     "output_type": "execute_result"
    },
    {
     "data": {
      "image/png": "[encoded data removed]",
      "text/plain": [
       "<Figure size 1080x504 with 1 Axes>"
      ]
     },
     "metadata": {
      "needs_background": "light"
     },
     "output_type": "display_data"
    }
   ],
   "source": [
    "get_domain_accuracies(experiment)"
   ]
  },
  {
   "cell_type": "code",
   "execution_count": 28,
   "id": "a74ae082",
   "metadata": {
    "execution": {
     "iopub.execute_input": "2022-03-29T12:41:29.808398Z",
     "iopub.status.busy": "2022-03-29T12:41:29.808145Z",
     "iopub.status.idle": "2022-03-29T12:41:29.825863Z",
     "shell.execute_reply": "2022-03-29T12:41:29.826250Z"
    },
    "papermill": {
     "duration": 0.064752,
     "end_time": "2022-03-29T12:41:29.826357",
     "exception": false,
     "start_time": "2022-03-29T12:41:29.761605",
     "status": "completed"
    },
    "tags": []
   },
   "outputs": [
    {
     "name": "stdout",
     "output_type": "stream",
     "text": [
      "Source Test Label Accuracy: 0.7337434895833334 Target Test Label Accuracy: 0.7158854166666667\n",
      "Source Val Label Accuracy: 0.7334309895833333 Target Val Label Accuracy: 0.7175455729166667\n"
     ]
    }
   ],
   "source": [
    "print(\"Source Test Label Accuracy:\", experiment[\"results\"][\"source_test_label_accuracy\"], \"Target Test Label Accuracy:\", experiment[\"results\"][\"target_test_label_accuracy\"])\n",
    "print(\"Source Val Label Accuracy:\", experiment[\"results\"][\"source_val_label_accuracy\"], \"Target Val Label Accuracy:\", experiment[\"results\"][\"target_val_label_accuracy\"])"
   ]
  },
  {
   "cell_type": "code",
   "execution_count": 29,
   "id": "dacca602",
   "metadata": {
    "execution": {
     "iopub.execute_input": "2022-03-29T12:41:29.920927Z",
     "iopub.status.busy": "2022-03-29T12:41:29.920682Z",
     "iopub.status.idle": "2022-03-29T12:41:29.937907Z",
     "shell.execute_reply": "2022-03-29T12:41:29.938308Z"
    },
    "papermill": {
     "duration": 0.064153,
     "end_time": "2022-03-29T12:41:29.938415",
     "exception": false,
     "start_time": "2022-03-29T12:41:29.874262",
     "status": "completed"
    },
    "tags": [
     "experiment_json"
    ]
   },
   "outputs": [
    {
     "data": {
      "text/plain": [
       "'{\"experiment_name\": \"tl_1v2:oracle.run1-oracle.run2\", \"parameters\": {\"experiment_name\": \"tl_1v2:oracle.run1-oracle.run2\", \"device\": \"cuda\", \"lr\": 0.0001, \"n_shot\": 3, \"n_query\": 2, \"train_k_factor\": 3, \"val_k_factor\": 2, \"test_k_factor\": 2, \"torch_default_dtype\": \"torch.float32\", \"n_epoch\": 50, \"patience\": 3, \"criteria_for_best\": \"target_accuracy\", \"x_net\": [{\"class\": \"nnReshape\", \"kargs\": {\"shape\": [-1, 1, 2, 256]}}, {\"class\": \"Conv2d\", \"kargs\": {\"in_channels\": 1, \"out_channels\": 256, \"kernel_size\": [1, 7], \"bias\": false, \"padding\": [0, 3]}}, {\"class\": \"ReLU\", \"kargs\": {\"inplace\": true}}, {\"class\": \"BatchNorm2d\", \"kargs\": {\"num_features\": 256}}, {\"class\": \"Conv2d\", \"kargs\": {\"in_channels\": 256, \"out_channels\": 80, \"kernel_size\": [2, 7], \"bias\": true, \"padding\": [0, 3]}}, {\"class\": \"ReLU\", \"kargs\": {\"inplace\": true}}, {\"class\": \"BatchNorm2d\", \"kargs\": {\"num_features\": 80}}, {\"class\": \"Flatten\", \"kargs\": {}}, {\"class\": \"Linear\", \"kargs\": {\"in_features\": 20480, \"out_features\": 256}}, {\"class\": \"ReLU\", \"kargs\": {\"inplace\": true}}, {\"class\": \"BatchNorm1d\", \"kargs\": {\"num_features\": 256}}, {\"class\": \"Linear\", \"kargs\": {\"in_features\": 256, \"out_features\": 256}}], \"NUM_LOGS_PER_EPOCH\": 10, \"BEST_MODEL_PATH\": \"./best_model.pth\", \"n_way\": 16, \"datasets\": [{\"labels\": [\"3123D52\", \"3123D65\", \"3123D79\", \"3123D80\", \"3123D54\", \"3123D70\", \"3123D7B\", \"3123D89\", \"3123D58\", \"3123D76\", \"3123D7D\", \"3123EFE\", \"3123D64\", \"3123D78\", \"3123D7E\", \"3124E4A\"], \"domains\": [32, 38, 8, 44, 14, 50, 20, 26], \"num_examples_per_domain_per_label\": 10000, \"pickle_path\": \"/mnt/wd500GB/CSC500/csc500-main/datasets/oracle.Run1_10kExamples_stratified_ds.2022A.pkl\", \"source_or_target_dataset\": \"source\", \"x_transforms\": [\"unit_power\"], \"episode_transforms\": [], \"domain_prefix\": \"ORACLE.run1_\"}, {\"labels\": [\"3123D52\", \"3123D65\", \"3123D79\", \"3123D80\", \"3123D54\", \"3123D70\", \"3123D7B\", \"3123D89\", \"3123D58\", \"3123D76\", \"3123D7D\", \"3123EFE\", \"3123D64\", \"3123D78\", \"3123D7E\", \"3124E4A\"], \"domains\": [32, 38, 8, 44, 14, 50, 20, 26], \"num_examples_per_domain_per_label\": 10000, \"pickle_path\": \"/mnt/wd500GB/CSC500/csc500-main/datasets/oracle.Run2_10kExamples_stratified_ds.2022A.pkl\", \"source_or_target_dataset\": \"target\", \"x_transforms\": [\"unit_power\"], \"episode_transforms\": [], \"domain_prefix\": \"ORACLE.run2_\"}], \"dataset_seed\": 500, \"seed\": 500, \"x_shape\": [2, 256], \"domains_source\": [\"ORACLE.run1_32\", \"ORACLE.run1_38\", \"ORACLE.run1_8\", \"ORACLE.run1_44\", \"ORACLE.run1_14\", \"ORACLE.run1_50\", \"ORACLE.run1_20\", \"ORACLE.run1_26\"], \"domains_target\": [\"ORACLE.run2_32\", \"ORACLE.run2_38\", \"ORACLE.run2_8\", \"ORACLE.run2_44\", \"ORACLE.run2_14\", \"ORACLE.run2_50\", \"ORACLE.run2_20\", \"ORACLE.run2_26\"]}, \"results\": {\"source_test_label_accuracy\": 0.7337434895833334, \"source_test_label_loss\": 0.7681202292442322, \"target_test_label_accuracy\": 0.7158854166666667, \"target_test_label_loss\": 0.8580756783485413, \"source_val_label_accuracy\": 0.7334309895833333, \"source_val_label_loss\": 0.7725154757499695, \"target_val_label_accuracy\": 0.7175455729166667, \"target_val_label_loss\": 0.8557075262069702, \"total_epochs_trained\": 13, \"total_experiment_time_secs\": 12057.634339809418, \"confusion\": {\"ORACLE.run1_50\": {\"7\": {\"7\": 809, \"13\": 229, \"10\": 22, \"5\": 133, \"4\": 2, \"6\": 5}, \"10\": {\"10\": 1117, \"7\": 20, \"0\": 30, \"8\": 15, \"13\": 16, \"5\": 2}, \"0\": {\"0\": 1060, \"10\": 50, \"2\": 85, \"13\": 4, \"1\": 1}, \"11\": {\"9\": 80, \"11\": 1078, \"12\": 7, \"15\": 26, \"14\": 7, \"4\": 1, \"1\": 1}, \"2\": {\"0\": 84, \"2\": 1116}, \"14\": {\"14\": 1185, \"12\": 10, \"11\": 4, \"9\": 1}, \"9\": {\"9\": 950, \"11\": 163, \"12\": 85, \"14\": 2}, \"13\": {\"13\": 781, \"5\": 167, \"6\": 44, \"7\": 181, \"10\": 13, \"4\": 11, \"0\": 3}, \"8\": {\"8\": 1152, \"10\": 34, \"3\": 14}, \"15\": {\"11\": 18, \"1\": 169, \"15\": 930, \"4\": 63, \"6\": 20}, \"4\": {\"4\": 626, \"5\": 118, \"1\": 143, \"6\": 103, \"15\": 163, \"11\": 1, \"13\": 20, \"7\": 26}, \"5\": {\"6\": 79, \"5\": 512, \"13\": 142, \"7\": 262, \"4\": 159, \"10\": 7, \"1\": 38, \"15\": 1}, \"3\": {\"3\": 1180, \"8\": 20}, \"1\": {\"4\": 94, \"6\": 108, \"1\": 779, \"15\": 206, \"13\": 2, \"5\": 8, \"14\": 2, \"11\": 1}, \"6\": {\"6\": 894, \"13\": 60, \"4\": 105, \"1\": 75, \"5\": 38, \"7\": 9, \"15\": 19}, \"12\": {\"12\": 1102, \"11\": 5, \"9\": 79, \"14\": 14}}, \"ORACLE.run1_14\": {\"14\": {\"14\": 996, \"2\": 69, \"3\": 28, \"13\": 71, \"6\": 33, \"4\": 3}, \"6\": {\"6\": 726, \"2\": 43, \"13\": 387, \"14\": 44}, \"5\": {\"5\": 818, \"4\": 180, \"1\": 121, \"2\": 57, \"3\": 14, \"7\": 4, \"15\": 6}, \"15\": {\"15\": 1178, \"7\": 19, \"5\": 3}, \"11\": {\"11\": 1090, \"0\": 39, \"9\": 68, \"10\": 3}, \"8\": {\"8\": 1200}, \"12\": {\"12\": 1197, \"9\": 3}, \"1\": {\"1\": 1103, \"5\": 87, \"4\": 9, \"7\": 1}, \"2\": {\"2\": 596, \"6\": 81, \"14\": 166, \"4\": 79, \"5\": 132, \"3\": 63, \"13\": 63, \"15\": 20}, \"13\": {\"13\": 416, \"6\": 494, \"14\": 172, \"2\": 94, \"5\": 15, \"4\": 4, \"3\": 2, \"15\": 2, \"10\": 1}, \"3\": {\"3\": 1017, \"2\": 21, \"4\": 128, \"14\": 26, \"5\": 3, \"1\": 1, \"0\": 4}, \"0\": {\"0\": 1086, \"10\": 71, \"3\": 23, \"11\": 19, \"14\": 1}, \"9\": {\"9\": 1195, \"11\": 3, \"12\": 2}, \"4\": {\"4\": 860, \"5\": 148, \"1\": 11, \"2\": 55, \"3\": 119, \"6\": 2, \"14\": 4, \"13\": 1}, \"7\": {\"7\": 1185, \"15\": 10, \"1\": 2, \"5\": 3}, \"10\": {\"10\": 1164, \"0\": 32, \"3\": 3, \"14\": 1}}, \"ORACLE.run1_32\": {\"4\": {\"4\": 701, \"2\": 200, \"7\": 116, \"13\": 45, \"5\": 87, \"14\": 8, \"0\": 40, \"8\": 3}, \"14\": {\"11\": 285, \"7\": 172, \"14\": 570, \"5\": 37, \"13\": 50, \"0\": 44, \"4\": 17, \"8\": 10, \"2\": 10, \"3\": 5}, \"5\": {\"13\": 250, \"7\": 137, \"5\": 457, \"14\": 31, \"4\": 133, \"2\": 15, \"0\": 44, \"11\": 8, \"3\": 39, \"8\": 86}, \"10\": {\"10\": 1194, \"1\": 6}, \"13\": {\"5\": 268, \"13\": 570, \"11\": 20, \"7\": 93, \"3\": 70, \"4\": 78, \"0\": 19, \"14\": 28, \"8\": 54}, \"9\": {\"9\": 1198, \"12\": 2}, \"6\": {\"6\": 1200}, \"3\": {\"13\": 46, \"3\": 1096, \"5\": 21, \"14\": 5, \"11\": 23, \"8\": 7, \"7\": 2}, \"15\": {\"15\": 1192, \"8\": 6, \"3\": 2}, \"7\": {\"7\": 601, \"14\": 151, \"13\": 102, \"5\": 151, \"4\": 117, \"2\": 21, \"0\": 29, \"11\": 22, \"8\": 5, \"3\": 1}, \"12\": {\"12\": 1200}, \"8\": {\"8\": 915, \"5\": 76, \"0\": 92, \"3\": 14, \"13\": 99, \"4\": 2, \"7\": 2}, \"11\": {\"11\": 984, \"14\": 178, \"3\": 13, \"13\": 11, \"5\": 3, \"7\": 11}, \"2\": {\"2\": 961, \"4\": 193, \"7\": 17, \"0\": 25, \"5\": 4}, \"1\": {\"1\": 1193, \"10\": 7}, \"0\": {\"0\": 862, \"4\": 56, \"7\": 38, \"5\": 45, \"13\": 19, \"8\": 122, \"2\": 31, \"14\": 27}}, \"ORACLE.run1_44\": {\"8\": {\"0\": 397, \"8\": 743, \"15\": 41, \"5\": 19}, \"11\": {\"11\": 1110, \"13\": 71, \"6\": 19}, \"14\": {\"14\": 772, \"4\": 333, \"15\": 59, \"5\": 35, \"0\": 1}, \"10\": {\"10\": 891, \"3\": 1, \"2\": 83, \"1\": 147, \"12\": 78}, \"3\": {\"3\": 1064, \"1\": 117, \"12\": 14, \"2\": 3, \"10\": 1, \"7\": 1}, \"15\": {\"15\": 950, \"14\": 103, \"8\": 15, \"0\": 100, \"5\": 23, \"4\": 9}, \"2\": {\"2\": 919, \"7\": 154, \"10\": 80, \"1\": 39, \"9\": 3, \"3\": 4, \"12\": 1}, \"12\": {\"12\": 958, \"1\": 179, \"10\": 52, \"3\": 11}, \"4\": {\"4\": 866, \"14\": 322, \"15\": 9, \"13\": 1, \"9\": 2}, \"1\": {\"1\": 733, \"12\": 205, \"3\": 122, \"10\": 99, \"2\": 41}, \"0\": {\"15\": 46, \"8\": 335, \"0\": 733, \"5\": 86}, \"9\": {\"9\": 683, \"7\": 261, \"6\": 120, \"13\": 129, \"2\": 4, \"4\": 2, \"11\": 1}, \"5\": {\"5\": 1045, \"8\": 6, \"0\": 83, \"14\": 35, \"15\": 27, \"4\": 4}, \"6\": {\"6\": 819, \"7\": 31, \"13\": 208, \"9\": 137, \"11\": 4, \"2\": 1}, \"7\": {\"7\": 801, \"9\": 197, \"2\": 159, \"6\": 35, \"13\": 5, \"1\": 2, \"10\": 1}, \"13\": {\"9\": 140, \"13\": 800, \"11\": 43, \"6\": 206, \"7\": 5, \"4\": 5, \"14\": 1}}, \"ORACLE.run1_8\": {\"13\": {\"4\": 188, \"0\": 312, \"13\": 455, \"14\": 88, \"10\": 114, \"6\": 28, \"5\": 3, \"7\": 9, \"1\": 3}, \"3\": {\"3\": 1027, \"15\": 2, \"2\": 121, \"12\": 50}, \"15\": {\"15\": 918, \"12\": 219, \"8\": 46, \"2\": 11, \"3\": 5, \"6\": 1}, \"4\": {\"4\": 673, \"14\": 173, \"13\": 191, \"0\": 45, \"6\": 93, \"10\": 17, \"1\": 2, \"7\": 4, \"11\": 1, \"8\": 1}, \"7\": {\"7\": 881, \"13\": 4, \"4\": 3, \"6\": 267, \"0\": 36, \"2\": 2, \"8\": 7}, \"2\": {\"15\": 38, \"3\": 179, \"2\": 952, \"7\": 19, \"12\": 12}, \"1\": {\"1\": 879, \"14\": 49, \"11\": 246, \"5\": 17, \"10\": 9}, \"0\": {\"0\": 788, \"13\": 233, \"7\": 69, \"4\": 42, \"6\": 61, \"10\": 7}, \"12\": {\"12\": 657, \"15\": 360, \"3\": 146, \"2\": 18, \"8\": 19}, \"6\": {\"6\": 739, \"7\": 251, \"4\": 115, \"13\": 30, \"14\": 3, \"0\": 55, \"8\": 6, \"15\": 1}, \"11\": {\"11\": 817, \"1\": 355, \"8\": 7, \"14\": 11, \"4\": 1, \"5\": 7, \"6\": 1, \"10\": 1}, \"9\": {\"9\": 1200}, \"5\": {\"5\": 1088, \"10\": 68, \"1\": 30, \"14\": 11, \"11\": 3}, \"10\": {\"10\": 832, \"14\": 203, \"13\": 99, \"4\": 32, \"0\": 6, \"5\": 20, \"1\": 8}, \"14\": {\"14\": 701, \"10\": 184, \"1\": 52, \"4\": 191, \"13\": 62, \"11\": 6, \"6\": 3, \"0\": 1}, \"8\": {\"8\": 1140, \"15\": 48, \"6\": 7, \"12\": 3, \"7\": 2}}, \"ORACLE.run1_20\": {\"6\": {\"14\": 91, \"6\": 1091, \"7\": 10, \"10\": 3, \"8\": 5}, \"11\": {\"11\": 1200}, \"5\": {\"5\": 554, \"0\": 218, \"1\": 194, \"15\": 80, \"12\": 103, \"3\": 40, \"9\": 5, \"2\": 3, \"4\": 2, \"13\": 1}, \"14\": {\"14\": 965, \"6\": 139, \"10\": 76, \"8\": 19, \"7\": 1}, \"2\": {\"2\": 573, \"9\": 278, \"3\": 76, \"7\": 142, \"12\": 39, \"13\": 73, \"5\": 6, \"1\": 9, \"15\": 3, \"0\": 1}, \"7\": {\"7\": 904, \"2\": 140, \"13\": 3, \"3\": 29, \"6\": 10, \"8\": 61, \"12\": 3, \"9\": 41, \"10\": 1, \"4\": 8}, \"3\": {\"7\": 27, \"3\": 492, \"9\": 203, \"12\": 252, \"5\": 34, \"2\": 83, \"4\": 70, \"1\": 24, \"8\": 9, \"10\": 2, \"15\": 3, \"0\": 1}, \"4\": {\"4\": 982, \"8\": 122, \"3\": 49, \"10\": 22, \"12\": 9, \"0\": 8, \"7\": 4, \"5\": 3, \"1\": 1}, \"9\": {\"9\": 517, \"3\": 219, \"7\": 39, \"2\": 288, \"13\": 10, \"12\": 107, \"1\": 12, \"0\": 1, \"15\": 1, \"4\": 3, \"8\": 2, \"5\": 1}, \"12\": {\"3\": 265, \"1\": 191, \"12\": 417, \"5\": 126, \"2\": 44, \"9\": 119, \"13\": 4, \"7\": 2, \"15\": 16, \"0\": 7, \"4\": 8, \"8\": 1}, \"0\": {\"0\": 715, \"5\": 312, \"15\": 101, \"7\": 4, \"12\": 17, \"2\": 7, \"3\": 8, \"1\": 16, \"4\": 8, \"13\": 5, \"8\": 6, \"9\": 1}, \"10\": {\"10\": 1101, \"14\": 65, \"4\": 22, \"8\": 8, \"7\": 3, \"6\": 1}, \"8\": {\"8\": 951, \"7\": 66, \"10\": 17, \"3\": 5, \"14\": 30, \"4\": 121, \"0\": 1, \"6\": 8, \"2\": 1}, \"13\": {\"13\": 1109, \"15\": 21, \"9\": 7, \"2\": 53, \"12\": 4, \"3\": 1, \"5\": 2, \"1\": 3}, \"1\": {\"1\": 558, \"5\": 155, \"12\": 196, \"15\": 246, \"2\": 4, \"0\": 14, \"9\": 14, \"3\": 12, \"13\": 1}, \"15\": {\"15\": 747, \"1\": 220, \"0\": 84, \"5\": 96, \"13\": 24, \"3\": 3, \"12\": 17, \"9\": 7, \"2\": 2}}, \"ORACLE.run1_38\": {\"3\": {\"3\": 1144, \"9\": 34, \"0\": 14, \"5\": 2, \"7\": 6}, \"8\": {\"8\": 769, \"10\": 15, \"5\": 249, \"0\": 110, \"15\": 24, \"7\": 30, \"13\": 3}, \"0\": {\"3\": 65, \"7\": 192, \"0\": 587, \"5\": 63, \"8\": 260, \"9\": 3, \"10\": 25, \"15\": 2, \"6\": 2, \"12\": 1}, \"2\": {\"2\": 1079, \"14\": 87, \"13\": 30, \"15\": 3, \"10\": 1}, \"4\": {\"4\": 1137, \"12\": 62, \"7\": 1}, \"7\": {\"0\": 141, \"7\": 969, \"8\": 28, \"5\": 58, \"10\": 1, \"4\": 2, \"3\": 1}, \"12\": {\"12\": 1168, \"4\": 27, \"10\": 4, \"14\": 1}, \"6\": {\"5\": 10, \"6\": 1048, \"9\": 142}, \"15\": {\"15\": 911, \"1\": 105, \"13\": 120, \"0\": 2, \"5\": 18, \"8\": 39, \"10\": 4, \"2\": 1}, \"11\": {\"11\": 1062, \"14\": 116, \"10\": 13, \"2\": 6, \"13\": 2, \"12\": 1}, \"9\": {\"9\": 872, \"6\": 286, \"3\": 26, \"5\": 14, \"7\": 2}, \"14\": {\"14\": 1091, \"11\": 19, \"2\": 76, \"10\": 7, \"15\": 1, \"13\": 2, \"12\": 4}, \"10\": {\"8\": 39, \"10\": 959, \"13\": 125, \"5\": 4, \"7\": 12, \"0\": 17, \"15\": 10, \"12\": 7, \"14\": 14, \"4\": 2, \"2\": 1, \"11\": 10}, \"5\": {\"5\": 543, \"8\": 316, \"9\": 34, \"15\": 36, \"0\": 72, \"7\": 112, \"6\": 51, \"13\": 15, \"1\": 10, \"10\": 10, \"3\": 1}, \"1\": {\"1\": 1135, \"15\": 63, \"5\": 1, \"6\": 1}, \"13\": {\"13\": 858, \"15\": 161, \"10\": 122, \"2\": 26, \"5\": 10, \"8\": 16, \"14\": 1, \"1\": 1, \"0\": 4, \"11\": 1}}, \"ORACLE.run1_26\": {\"5\": {\"5\": 743, \"7\": 10, \"2\": 67, \"13\": 139, \"15\": 161, \"9\": 47, \"8\": 29, \"3\": 2, \"6\": 2}, \"8\": {\"7\": 98, \"8\": 492, \"10\": 144, \"6\": 33, \"4\": 112, \"15\": 65, \"9\": 115, \"0\": 71, \"14\": 36, \"2\": 8, \"1\": 5, \"5\": 17, \"3\": 4}, \"4\": {\"14\": 203, \"4\": 555, \"0\": 114, \"8\": 86, \"7\": 72, \"1\": 108, \"10\": 58, \"9\": 1, \"15\": 2, \"5\": 1}, \"12\": {\"12\": 1196, \"11\": 4}, \"6\": {\"6\": 864, \"15\": 33, \"10\": 78, \"9\": 167, \"0\": 30, \"8\": 19, \"13\": 7, \"14\": 2}, \"7\": {\"2\": 130, \"7\": 684, \"4\": 100, \"3\": 167, \"1\": 8, \"10\": 2, \"0\": 15, \"8\": 74, \"15\": 9, \"14\": 8, \"5\": 3}, \"10\": {\"0\": 262, \"10\": 505, \"4\": 68, \"7\": 5, \"6\": 64, \"15\": 7, \"14\": 121, \"8\": 128, \"9\": 11, \"1\": 27, \"5\": 2}, \"0\": {\"10\": 287, \"0\": 340, \"9\": 10, \"14\": 209, \"6\": 20, \"4\": 167, \"7\": 29, \"8\": 114, \"1\": 24}, \"15\": {\"15\": 493, \"2\": 22, \"13\": 68, \"9\": 314, \"8\": 101, \"6\": 29, \"5\": 135, \"7\": 17, \"4\": 4, \"10\": 6, \"3\": 5, \"0\": 5, \"14\": 1}, \"9\": {\"15\": 340, \"9\": 547, \"5\": 36, \"6\": 131, \"8\": 90, \"13\": 23, \"10\": 17, \"2\": 4, \"7\": 4, \"0\": 8}, \"11\": {\"11\": 1195, \"12\": 5}, \"14\": {\"14\": 419, \"0\": 200, \"4\": 233, \"1\": 216, \"10\": 94, \"8\": 22, \"7\": 11, \"9\": 2, \"15\": 1, \"3\": 1, \"6\": 1}, \"2\": {\"3\": 378, \"7\": 131, \"2\": 456, \"8\": 38, \"13\": 5, \"15\": 49, \"5\": 120, \"4\": 5, \"9\": 16, \"10\": 1, \"0\": 1}, \"13\": {\"13\": 865, \"5\": 209, \"2\": 22, \"3\": 2, \"15\": 57, \"9\": 30, \"6\": 15}, \"3\": {\"3\": 723, \"2\": 279, \"7\": 191, \"4\": 4, \"15\": 2, \"8\": 1}, \"1\": {\"14\": 215, \"1\": 744, \"4\": 154, \"0\": 34, \"8\": 11, \"10\": 29, \"7\": 11, \"3\": 1, \"6\": 1}}, \"ORACLE.run2_50\": {\"7\": {\"7\": 602, \"13\": 377, \"5\": 136, \"10\": 70, \"4\": 11, \"6\": 3, \"0\": 1}, \"10\": {\"10\": 914, \"13\": 202, \"5\": 26, \"0\": 23, \"7\": 33, \"4\": 2}, \"0\": {\"0\": 1096, \"2\": 73, \"5\": 2, \"10\": 28, \"1\": 1}, \"11\": {\"11\": 1144, \"15\": 30, \"12\": 8, \"9\": 7, \"14\": 11}, \"2\": {\"2\": 1123, \"0\": 76, \"1\": 1}, \"14\": {\"14\": 1185, \"12\": 12, \"11\": 3}, \"9\": {\"11\": 20, \"9\": 1138, \"12\": 42}, \"13\": {\"13\": 670, \"7\": 289, \"10\": 196, \"5\": 41, \"4\": 4}, \"8\": {\"8\": 1171, \"3\": 29}, \"15\": {\"15\": 1103, \"1\": 51, \"11\": 31, \"6\": 12, \"4\": 3}, \"4\": {\"4\": 678, \"1\": 72, \"6\": 138, \"5\": 296, \"7\": 7, \"13\": 5, \"0\": 1, \"15\": 1, \"10\": 2}, \"5\": {\"4\": 349, \"5\": 576, \"13\": 63, \"6\": 66, \"1\": 18, \"7\": 77, \"10\": 46, \"0\": 5}, \"3\": {\"3\": 1147, \"8\": 53}, \"1\": {\"1\": 934, \"4\": 51, \"15\": 51, \"6\": 156, \"5\": 6, \"0\": 2}, \"6\": {\"6\": 792, \"4\": 128, \"1\": 204, \"15\": 13, \"5\": 60, \"0\": 1, \"7\": 2}, \"12\": {\"12\": 1131, \"9\": 50, \"14\": 11, \"11\": 8}}, \"ORACLE.run2_14\": {\"14\": {\"3\": 35, \"14\": 905, \"2\": 143, \"6\": 99, \"0\": 4, \"13\": 8, \"4\": 4, \"5\": 2}, \"6\": {\"6\": 851, \"13\": 254, \"2\": 24, \"14\": 69, \"4\": 2}, \"5\": {\"5\": 648, \"2\": 92, \"4\": 288, \"1\": 89, \"3\": 80, \"14\": 3}, \"15\": {\"15\": 1188, \"7\": 12}, \"11\": {\"11\": 1175, \"12\": 24, \"9\": 1}, \"8\": {\"8\": 1200}, \"12\": {\"12\": 617, \"11\": 328, \"0\": 101, \"9\": 104, \"14\": 1, \"8\": 42, \"10\": 7}, \"1\": {\"1\": 1096, \"5\": 75, \"4\": 28, \"2\": 1}, \"2\": {\"13\": 90, \"2\": 507, \"14\": 195, \"1\": 4, \"3\": 91, \"4\": 89, \"5\": 186, \"6\": 36, \"15\": 1, \"0\": 1}, \"13\": {\"6\": 265, \"13\": 902, \"2\": 26, \"4\": 1, \"14\": 6}, \"3\": {\"3\": 998, \"5\": 70, \"4\": 74, \"14\": 21, \"2\": 32, \"1\": 5}, \"0\": {\"0\": 1195, \"3\": 2, \"10\": 3}, \"9\": {\"9\": 1195, \"12\": 4, \"11\": 1}, \"4\": {\"4\": 752, \"3\": 54, \"5\": 308, \"1\": 22, \"2\": 57, \"14\": 7}, \"7\": {\"7\": 1193, \"15\": 5, \"1\": 2}, \"10\": {\"10\": 1157, \"0\": 38, \"11\": 3, \"14\": 1, \"12\": 1}}, \"ORACLE.run2_32\": {\"4\": {\"4\": 591, \"11\": 50, \"13\": 211, \"5\": 101, \"2\": 26, \"0\": 103, \"8\": 42, \"7\": 74, \"14\": 2}, \"14\": {\"2\": 113, \"14\": 969, \"0\": 54, \"11\": 14, \"7\": 3, \"5\": 45, \"9\": 1, \"4\": 1}, \"5\": {\"8\": 124, \"5\": 531, \"2\": 123, \"4\": 125, \"14\": 106, \"7\": 17, \"13\": 46, \"0\": 119, \"11\": 8, \"3\": 1}, \"10\": {\"10\": 1197, \"1\": 3}, \"13\": {\"4\": 226, \"13\": 697, \"11\": 61, \"3\": 26, \"7\": 107, \"0\": 28, \"5\": 16, \"8\": 39}, \"9\": {\"9\": 1171, \"14\": 24, \"12\": 4, \"2\": 1}, \"6\": {\"6\": 1200}, \"3\": {\"3\": 1158, \"13\": 29, \"8\": 12, \"4\": 1}, \"15\": {\"15\": 1196, \"8\": 3, \"5\": 1}, \"7\": {\"7\": 731, \"2\": 9, \"11\": 201, \"13\": 142, \"0\": 22, \"4\": 86, \"5\": 5, \"8\": 1, \"3\": 3}, \"12\": {\"12\": 1200}, \"8\": {\"8\": 953, \"5\": 59, \"4\": 42, \"0\": 71, \"13\": 51, \"3\": 19, \"11\": 4, \"15\": 1}, \"11\": {\"11\": 661, \"7\": 211, \"13\": 66, \"0\": 172, \"2\": 13, \"4\": 58, \"5\": 6, \"8\": 7, \"14\": 5, \"3\": 1}, \"2\": {\"2\": 982, \"11\": 5, \"14\": 83, \"0\": 14, \"5\": 64, \"4\": 34, \"7\": 18}, \"1\": {\"1\": 1195, \"10\": 5}, \"0\": {\"11\": 146, \"0\": 640, \"4\": 123, \"7\": 28, \"8\": 82, \"13\": 42, \"5\": 112, \"14\": 21, \"2\": 5, \"3\": 1}}, \"ORACLE.run2_44\": {\"8\": {\"8\": 703, \"0\": 473, \"5\": 14, \"15\": 10}, \"11\": {\"11\": 1179, \"6\": 18, \"7\": 3}, \"14\": {\"14\": 891, \"4\": 61, \"15\": 136, \"5\": 110, \"8\": 2}, \"10\": {\"10\": 1147, \"12\": 27, \"1\": 26}, \"3\": {\"3\": 997, \"12\": 62, \"1\": 140, \"7\": 1}, \"15\": {\"15\": 979, \"14\": 137, \"8\": 18, \"4\": 56, \"5\": 9, \"0\": 1}, \"2\": {\"2\": 687, \"9\": 259, \"7\": 248, \"6\": 1, \"1\": 4, \"3\": 1}, \"12\": {\"12\": 839, \"1\": 290, \"3\": 66, \"10\": 5}, \"4\": {\"4\": 1070, \"13\": 30, \"14\": 62, \"15\": 37, \"9\": 1}, \"1\": {\"12\": 303, \"1\": 750, \"3\": 134, \"2\": 4, \"7\": 7, \"10\": 2}, \"0\": {\"0\": 685, \"8\": 507, \"15\": 4, \"5\": 2, \"14\": 2}, \"9\": {\"2\": 287, \"9\": 595, \"7\": 293, \"6\": 24, \"13\": 1}, \"5\": {\"5\": 1081, \"14\": 107, \"8\": 9, \"15\": 3}, \"6\": {\"6\": 1101, \"9\": 53, \"2\": 7, \"13\": 23, \"7\": 16}, \"7\": {\"9\": 295, \"7\": 602, \"2\": 286, \"6\": 11, \"1\": 6}, \"13\": {\"13\": 1158, \"4\": 29, \"6\": 11, \"9\": 1, \"14\": 1}}, \"ORACLE.run2_8\": {\"13\": {\"13\": 844, \"10\": 31, \"1\": 103, \"14\": 191, \"8\": 5, \"0\": 1, \"6\": 16, \"4\": 2, \"5\": 7}, \"3\": {\"3\": 1098, \"12\": 96, \"15\": 6}, \"15\": {\"15\": 714, \"8\": 141, \"3\": 8, \"11\": 161, \"12\": 169, \"7\": 6, \"2\": 1}, \"4\": {\"4\": 478, \"2\": 72, \"7\": 262, \"6\": 363, \"14\": 19, \"13\": 2, \"0\": 4}, \"7\": {\"6\": 212, \"7\": 615, \"2\": 132, \"4\": 228, \"8\": 9, \"14\": 2, \"11\": 1, \"0\": 1}, \"2\": {\"2\": 910, \"7\": 181, \"6\": 18, \"4\": 91}, \"1\": {\"1\": 1083, \"13\": 90, \"10\": 5, \"5\": 22}, \"0\": {\"0\": 819, \"10\": 192, \"14\": 177, \"6\": 4, \"5\": 1, \"4\": 5, \"13\": 2}, \"12\": {\"15\": 115, \"12\": 971, \"3\": 90, \"11\": 24}, \"6\": {\"4\": 376, \"14\": 49, \"6\": 536, \"7\": 211, \"0\": 2, \"2\": 12, \"13\": 7, \"8\": 7}, \"11\": {\"8\": 248, \"11\": 623, \"12\": 134, \"15\": 194, \"6\": 1}, \"9\": {\"9\": 1200}, \"5\": {\"5\": 956, \"10\": 211, \"1\": 25, \"13\": 4, \"0\": 4}, \"10\": {\"0\": 197, \"5\": 200, \"10\": 671, \"13\": 45, \"14\": 72, \"1\": 15}, \"14\": {\"10\": 62, \"14\": 762, \"13\": 154, \"6\": 47, \"4\": 18, \"0\": 154, \"1\": 3}, \"8\": {\"8\": 1013, \"15\": 77, \"11\": 98, \"13\": 2, \"7\": 5, \"6\": 4, \"4\": 1}}, \"ORACLE.run2_20\": {\"6\": {\"6\": 1085, \"14\": 81, \"8\": 9, \"10\": 17, \"7\": 8}, \"11\": {\"11\": 1199, \"7\": 1}, \"5\": {\"5\": 479, \"7\": 38, \"3\": 129, \"0\": 94, \"4\": 34, \"9\": 41, \"12\": 98, \"15\": 89, \"13\": 7, \"2\": 153, \"1\": 26, \"8\": 12}, \"14\": {\"14\": 813, \"10\": 102, \"8\": 165, \"6\": 118, \"7\": 2}, \"2\": {\"13\": 24, \"3\": 198, \"2\": 399, \"9\": 295, \"5\": 109, \"12\": 72, \"15\": 80, \"4\": 2, \"1\": 12, \"7\": 7, \"8\": 1, \"0\": 1}, \"7\": {\"7\": 878, \"3\": 127, \"5\": 24, \"14\": 6, \"8\": 132, \"6\": 11, \"10\": 11, \"2\": 8, \"4\": 2, \"9\": 1}, \"3\": {\"7\": 175, \"2\": 177, \"3\": 514, \"9\": 133, \"5\": 107, \"12\": 45, \"4\": 22, \"8\": 11, \"10\": 7, \"15\": 7, \"1\": 2}, \"4\": {\"4\": 1027, \"5\": 41, \"12\": 51, \"0\": 14, \"3\": 17, \"7\": 2, \"10\": 6, \"8\": 25, \"9\": 6, \"2\": 7, \"14\": 2, \"1\": 2}, \"9\": {\"9\": 496, \"2\": 277, \"1\": 33, \"15\": 60, \"12\": 124, \"3\": 134, \"5\": 55, \"13\": 10, \"4\": 7, \"7\": 2, \"10\": 1, \"8\": 1}, \"12\": {\"1\": 230, \"4\": 32, \"12\": 508, \"0\": 39, \"2\": 73, \"5\": 102, \"9\": 121, \"15\": 66, \"3\": 26, \"13\": 3}, \"0\": {\"0\": 919, \"15\": 42, \"12\": 47, \"5\": 90, \"13\": 10, \"1\": 58, \"4\": 32, \"9\": 1, \"8\": 1}, \"10\": {\"14\": 85, \"10\": 1040, \"4\": 12, \"6\": 22, \"7\": 14, \"8\": 23, \"3\": 4}, \"8\": {\"8\": 765, \"14\": 164, \"7\": 149, \"4\": 51, \"6\": 24, \"10\": 23, \"5\": 13, \"3\": 11}, \"13\": {\"15\": 258, \"13\": 884, \"5\": 11, \"2\": 29, \"1\": 12, \"12\": 1, \"0\": 2, \"9\": 3}, \"1\": {\"9\": 46, \"1\": 663, \"12\": 277, \"2\": 14, \"15\": 104, \"0\": 54, \"5\": 18, \"4\": 7, \"3\": 2, \"13\": 15}, \"15\": {\"15\": 477, \"2\": 97, \"13\": 274, \"0\": 24, \"1\": 106, \"12\": 74, \"5\": 80, \"9\": 60, \"3\": 8}}, \"ORACLE.run2_38\": {\"3\": {\"13\": 156, \"3\": 517, \"0\": 257, \"6\": 13, \"7\": 38, \"10\": 78, \"8\": 50, \"9\": 51, \"5\": 22, \"15\": 18}, \"8\": {\"5\": 337, \"15\": 220, \"8\": 454, \"10\": 23, \"7\": 87, \"13\": 67, \"3\": 9, \"1\": 2, \"0\": 1}, \"0\": {\"0\": 1000, \"10\": 18, \"3\": 144, \"8\": 6, \"6\": 4, \"7\": 11, \"15\": 3, \"5\": 5, \"9\": 6, \"13\": 3}, \"2\": {\"2\": 1055, \"14\": 145}, \"4\": {\"4\": 1154, \"12\": 36, \"10\": 6, \"7\": 4}, \"7\": {\"7\": 638, \"10\": 301, \"5\": 128, \"8\": 93, \"3\": 13, \"15\": 4, \"13\": 19, \"0\": 3, \"4\": 1}, \"12\": {\"12\": 1175, \"14\": 13, \"4\": 11, \"7\": 1}, \"6\": {\"6\": 984, \"9\": 215, \"3\": 1}, \"15\": {\"15\": 650, \"5\": 190, \"8\": 185, \"13\": 10, \"1\": 125, \"3\": 15, \"0\": 13, \"6\": 7, \"7\": 5}, \"11\": {\"11\": 1096, \"14\": 62, \"12\": 22, \"4\": 17, \"2\": 3}, \"9\": {\"9\": 926, \"6\": 268, \"3\": 4, \"0\": 2}, \"14\": {\"14\": 729, \"2\": 288, \"7\": 27, \"13\": 7, \"12\": 76, \"8\": 10, \"11\": 26, \"10\": 7, \"5\": 28, \"4\": 2}, \"10\": {\"10\": 691, \"7\": 364, \"8\": 29, \"0\": 19, \"13\": 26, \"5\": 26, \"4\": 5, \"3\": 40}, \"5\": {\"5\": 494, \"8\": 365, \"15\": 152, \"0\": 2, \"13\": 27, \"7\": 123, \"10\": 27, \"1\": 3, \"3\": 6, \"14\": 1}, \"1\": {\"1\": 1129, \"13\": 5, \"15\": 62, \"8\": 3, \"5\": 1}, \"13\": {\"13\": 657, \"15\": 41, \"3\": 151, \"10\": 57, \"1\": 37, \"7\": 28, \"0\": 9, \"8\": 136, \"5\": 57, \"14\": 11, \"2\": 16}}, \"ORACLE.run2_26\": {\"5\": {\"13\": 268, \"7\": 119, \"5\": 482, \"3\": 22, \"2\": 60, \"9\": 58, \"8\": 64, \"6\": 100, \"4\": 1, \"14\": 7, \"15\": 11, \"10\": 8}, \"8\": {\"8\": 526, \"9\": 109, \"2\": 85, \"0\": 83, \"7\": 115, \"10\": 64, \"13\": 11, \"5\": 53, \"4\": 62, \"14\": 61, \"15\": 7, \"6\": 13, \"1\": 11}, \"4\": {\"2\": 120, \"10\": 21, \"4\": 672, \"14\": 44, \"0\": 105, \"8\": 49, \"3\": 54, \"15\": 38, \"1\": 22, \"7\": 75}, \"12\": {\"12\": 1200}, \"6\": {\"6\": 882, \"9\": 179, \"8\": 22, \"13\": 49, \"10\": 51, \"5\": 15, \"14\": 2}, \"7\": {\"4\": 79, \"2\": 347, \"7\": 401, \"8\": 119, \"14\": 3, \"15\": 68, \"3\": 98, \"5\": 47, \"10\": 2, \"13\": 8, \"9\": 21, \"0\": 6, \"1\": 1}, \"10\": {\"14\": 175, \"8\": 87, \"0\": 249, \"10\": 447, \"1\": 63, \"6\": 82, \"2\": 10, \"7\": 8, \"4\": 65, \"9\": 4, \"12\": 4, \"5\": 2, \"15\": 3, \"3\": 1}, \"0\": {\"0\": 476, \"2\": 20, \"4\": 141, \"10\": 190, \"8\": 71, \"14\": 212, \"1\": 64, \"7\": 12, \"15\": 6, \"9\": 3, \"6\": 4, \"3\": 1}, \"15\": {\"15\": 709, \"7\": 95, \"2\": 91, \"3\": 226, \"4\": 51, \"8\": 8, \"9\": 7, \"5\": 7, \"10\": 3, \"0\": 3}, \"9\": {\"13\": 106, \"9\": 726, \"5\": 75, \"8\": 86, \"10\": 10, \"6\": 149, \"7\": 24, \"0\": 4, \"2\": 13, \"15\": 6, \"14\": 1}, \"11\": {\"11\": 1198, \"12\": 2}, \"14\": {\"14\": 441, \"10\": 166, \"0\": 186, \"4\": 48, \"1\": 267, \"8\": 76, \"9\": 1, \"6\": 2, \"7\": 4, \"5\": 2, \"2\": 7}, \"2\": {\"4\": 109, \"5\": 43, \"7\": 391, \"2\": 337, \"8\": 95, \"14\": 3, \"15\": 92, \"3\": 107, \"0\": 8, \"10\": 6, \"9\": 8, \"13\": 1}, \"13\": {\"13\": 895, \"9\": 84, \"5\": 192, \"6\": 20, \"8\": 4, \"2\": 2, \"7\": 3}, \"3\": {\"2\": 132, \"3\": 750, \"15\": 177, \"7\": 75, \"4\": 60, \"9\": 1, \"5\": 4, \"14\": 1}, \"1\": {\"14\": 288, \"10\": 40, \"1\": 766, \"8\": 10, \"0\": 68, \"4\": 24, \"2\": 3, \"7\": 1}}}, \"per_domain_accuracy\": {\"ORACLE.run1_50\": {\"accuracy\": 0.7953645833333334, \"source?\": true}, \"ORACLE.run1_14\": {\"accuracy\": 0.8243229166666667, \"source?\": true}, \"ORACLE.run1_32\": {\"accuracy\": 0.7757291666666667, \"source?\": true}, \"ORACLE.run1_44\": {\"accuracy\": 0.72328125, \"source?\": true}, \"ORACLE.run1_8\": {\"accuracy\": 0.7159895833333333, \"source?\": true}, \"ORACLE.run1_20\": {\"accuracy\": 0.670625, \"source?\": true}, \"ORACLE.run1_38\": {\"accuracy\": 0.7985416666666667, \"source?\": true}, \"ORACLE.run1_26\": {\"accuracy\": 0.56359375, \"source?\": true}, \"ORACLE.run2_50\": {\"accuracy\": 0.8022916666666666, \"source?\": false}, \"ORACLE.run2_14\": {\"accuracy\": 0.81140625, \"source?\": false}, \"ORACLE.run2_32\": {\"accuracy\": 0.785, \"source?\": false}, \"ORACLE.run2_44\": {\"accuracy\": 0.7533333333333333, \"source?\": false}, \"ORACLE.run2_8\": {\"accuracy\": 0.69234375, \"source?\": false}, \"ORACLE.run2_20\": {\"accuracy\": 0.6326041666666666, \"source?\": false}, \"ORACLE.run2_38\": {\"accuracy\": 0.6952604166666667, \"source?\": false}, \"ORACLE.run2_26\": {\"accuracy\": 0.568125, \"source?\": false}}}, \"history\": {\"epoch_indices\": [1, 2, 3, 4, 5, 6, 7, 8, 9, 10, 11, 12, 13], \"train_label_loss\": [1.0766010886732311, 0.834215646013174, 0.7487092195868137, 0.6653601690798643, 0.6017167875804894, 0.5491760469846694, 0.5005947428915117, 0.45963890290270293, 0.4238390211678953, 0.3949118462208259, 0.3661900507488809, 0.3397359477486905, 0.3170195156516829], \"source_val_label_loss\": [0.9503178000450134, 0.8813225626945496, 0.8124257922172546, 0.7786316871643066, 0.7730450630187988, 0.7542033195495605, 0.7550831437110901, 0.7565841674804688, 0.7725154757499695, 0.7891079783439636, 0.8183571696281433, 0.8357635736465454, 0.8551611304283142], \"target_val_label_loss\": [0.9971274137496948, 0.9442620873451233, 0.8868730068206787, 0.8609155416488647, 0.8552431464195251, 0.8308872580528259, 0.8324511647224426, 0.8378916382789612, 0.8557075262069702, 0.8708131909370422, 0.90207439661026, 0.9246607422828674, 0.9449856877326965], \"source_val_acc_label\": [0.6429947916666666, 0.6672591145833333, 0.6954231770833333, 0.7131705729166666, 0.71609375, 0.7264127604166667, 0.73244140625, 0.7332552083333334, 0.7334309895833333, 0.7315364583333334, 0.72798828125, 0.7243684895833333, 0.722890625], \"target_val_acc_label\": [0.6281575520833333, 0.64689453125, 0.6756575520833333, 0.6954296875, 0.6962760416666667, 0.7117513020833334, 0.7170182291666667, 0.7172265625, 0.7175455729166667, 0.7163802083333334, 0.7110611979166667, 0.7064192708333333, 0.70697265625]}, \"dataset_metrics\": {\"source\": {\"train\": {\"n_unique_x\": 896000, \"n_unique_y\": 16, \"n_batch/episode\": 33600}, \"val\": {\"n_unique_x\": 192000, \"n_unique_y\": 16, \"n_batch/episode\": 4800}, \"test\": {\"n_unique_x\": 192000, \"n_unique_y\": 16, \"n_batch/episode\": 4800}}, \"target\": {\"train\": {\"n_unique_x\": 896000, \"n_unique_y\": 16, \"n_batch/episode\": 33600}, \"val\": {\"n_unique_x\": 192000, \"n_unique_y\": 16, \"n_batch/episode\": 4800}, \"test\": {\"n_unique_x\": 192000, \"n_unique_y\": 16, \"n_batch/episode\": 4800}}}}'"
      ]
     },
     "execution_count": 29,
     "metadata": {},
     "output_type": "execute_result"
    }
   ],
   "source": [
    "json.dumps(experiment)"
   ]
  }
 ],
 "metadata": {
  "celltoolbar": "Tags",
  "kernelspec": {
   "display_name": "Python 3 (ipykernel)",
   "language": "python",
   "name": "python3"
  },
  "language_info": {
   "codemirror_mode": {
    "name": "ipython",
    "version": 3
   },
   "file_extension": ".py",
   "mimetype": "text/x-python",
   "name": "python",
   "nbconvert_exporter": "python",
   "pygments_lexer": "ipython3",
   "version": "3.8.10"
  },
  "papermill": {
   "default_parameters": {},
   "duration": 12545.802323,
   "end_time": "2022-03-29T12:41:33.109880",
   "environment_variables": {},
   "exception": null,
   "input_path": "/mnt/wd500GB/CSC500/csc500-main/csc500-notebooks/templates/tl_ptn_template.ipynb",
   "output_path": "trial.ipynb",
   "parameters": {
    "parameters": {
     "BEST_MODEL_PATH": "./best_model.pth",
     "NUM_LOGS_PER_EPOCH": 10,
     "criteria_for_best": "target_accuracy",
     "dataset_seed": 500,
     "datasets": [
      {
       "domain_prefix": "ORACLE.run1_",
       "domains": [
        32,
        38,
        8,
        44,
        14,
        50,
        20,
        26
       ],
       "episode_transforms": [],
       "labels": [
        "3123D52",
        "3123D65",
        "3123D79",
        "3123D80",
        "3123D54",
        "3123D70",
        "3123D7B",
        "3123D89",
        "3123D58",
        "3123D76",
        "3123D7D",
        "3123EFE",
        "3123D64",
        "3123D78",
        "3123D7E",
        "3124E4A"
       ],
       "num_examples_per_domain_per_label": 10000,
       "pickle_path": "/mnt/wd500GB/CSC500/csc500-main/datasets/oracle.Run1_10kExamples_stratified_ds.2022A.pkl",
       "source_or_target_dataset": "source",
       "x_transforms": [
        "unit_power"
       ]
      },
      {
       "domain_prefix": "ORACLE.run2_",
       "domains": [
        32,
        38,
        8,
        44,
        14,
        50,
        20,
        26
       ],
       "episode_transforms": [],
       "labels": [
        "3123D52",
        "3123D65",
        "3123D79",
        "3123D80",
        "3123D54",
        "3123D70",
        "3123D7B",
        "3123D89",
        "3123D58",
        "3123D76",
        "3123D7D",
        "3123EFE",
        "3123D64",
        "3123D78",
        "3123D7E",
        "3124E4A"
       ],
       "num_examples_per_domain_per_label": 10000,
       "pickle_path": "/mnt/wd500GB/CSC500/csc500-main/datasets/oracle.Run2_10kExamples_stratified_ds.2022A.pkl",
       "source_or_target_dataset": "target",
       "x_transforms": [
        "unit_power"
       ]
      }
     ],
     "device": "cuda",
     "experiment_name": "tl_1v2:oracle.run1-oracle.run2",
     "lr": 0.0001,
     "n_epoch": 50,
     "n_query": 2,
     "n_shot": 3,
     "n_way": 16,
     "patience": 3,
     "seed": 500,
     "test_k_factor": 2,
     "torch_default_dtype": "torch.float32",
     "train_k_factor": 3,
     "val_k_factor": 2,
     "x_net": [
      {
       "class": "nnReshape",
       "kargs": {
        "shape": [
         -1,
         1,
         2,
         256
        ]
       }
      },
      {
       "class": "Conv2d",
       "kargs": {
        "bias": false,
        "in_channels": 1,
        "kernel_size": [
         1,
         7
        ],
        "out_channels": 256,
        "padding": [
         0,
         3
        ]
       }
      },
      {
       "class": "ReLU",
       "kargs": {
        "inplace": true
       }
      },
      {
       "class": "BatchNorm2d",
       "kargs": {
        "num_features": 256
       }
      },
      {
       "class": "Conv2d",
       "kargs": {
        "bias": true,
        "in_channels": 256,
        "kernel_size": [
         2,
         7
        ],
        "out_channels": 80,
        "padding": [
         0,
         3
        ]
       }
      },
      {
       "class": "ReLU",
       "kargs": {
        "inplace": true
       }
      },
      {
       "class": "BatchNorm2d",
       "kargs": {
        "num_features": 80
       }
      },
      {
       "class": "Flatten",
       "kargs": {}
      },
      {
       "class": "Linear",
       "kargs": {
        "in_features": 20480,
        "out_features": 256
       }
      },
      {
       "class": "ReLU",
       "kargs": {
        "inplace": true
       }
      },
      {
       "class": "BatchNorm1d",
       "kargs": {
        "num_features": 256
       }
      },
      {
       "class": "Linear",
       "kargs": {
        "in_features": 256,
        "out_features": 256
       }
      }
     ]
    }
   },
   "start_time": "2022-03-29T09:12:27.307557",
   "version": "2.3.4"
  }
 },
 "nbformat": 4,
 "nbformat_minor": 5
}