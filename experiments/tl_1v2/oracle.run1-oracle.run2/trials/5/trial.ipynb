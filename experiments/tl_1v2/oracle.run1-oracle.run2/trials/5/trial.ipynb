{
 "cells": [
  {
   "cell_type": "markdown",
   "id": "9fea5f46",
   "metadata": {
    "papermill": {
     "duration": 0.022261,
     "end_time": "2022-03-23T18:54:58.696494",
     "exception": false,
     "start_time": "2022-03-23T18:54:58.674233",
     "status": "completed"
    },
    "tags": []
   },
   "source": [
    "# Transfer Learning Template"
   ]
  },
  {
   "cell_type": "code",
   "execution_count": 1,
   "id": "0902182a",
   "metadata": {
    "execution": {
     "iopub.execute_input": "2022-03-23T18:54:58.737026Z",
     "iopub.status.busy": "2022-03-23T18:54:58.736657Z",
     "iopub.status.idle": "2022-03-23T18:54:59.939459Z",
     "shell.execute_reply": "2022-03-23T18:54:59.938965Z"
    },
    "papermill": {
     "duration": 1.226988,
     "end_time": "2022-03-23T18:54:59.939576",
     "exception": false,
     "start_time": "2022-03-23T18:54:58.712588",
     "status": "completed"
    },
    "tags": []
   },
   "outputs": [],
   "source": [
    "%load_ext autoreload\n",
    "%autoreload 2\n",
    "%matplotlib inline\n",
    "\n",
    "    \n",
    "import os, json, sys, time, random\n",
    "import numpy as np\n",
    "import torch\n",
    "from torch.optim import Adam\n",
    "from  easydict import EasyDict\n",
    "import matplotlib.pyplot as plt\n",
    "\n",
    "from steves_models.steves_ptn import Steves_Prototypical_Network\n",
    "\n",
    "from steves_utils.lazy_iterable_wrapper import Lazy_Iterable_Wrapper\n",
    "from steves_utils.iterable_aggregator import Iterable_Aggregator\n",
    "from steves_utils.ptn_train_eval_test_jig import  PTN_Train_Eval_Test_Jig\n",
    "from steves_utils.torch_sequential_builder import build_sequential\n",
    "from steves_utils.torch_utils import get_dataset_metrics, ptn_confusion_by_domain_over_dataloader\n",
    "from steves_utils.utils_v2 import (per_domain_accuracy_from_confusion, get_datasets_base_path)\n",
    "from steves_utils.PTN.utils import independent_accuracy_assesment\n",
    "\n",
    "from torch.utils.data import DataLoader\n",
    "\n",
    "from steves_utils.stratified_dataset.episodic_accessor import Episodic_Accessor_Factory\n",
    "\n",
    "from steves_utils.ptn_do_report import (\n",
    "    get_loss_curve,\n",
    "    get_results_table,\n",
    "    get_parameters_table,\n",
    "    get_domain_accuracies,\n",
    ")\n",
    "\n",
    "from steves_utils.transforms import get_chained_transform"
   ]
  },
  {
   "cell_type": "markdown",
   "id": "41c840b4",
   "metadata": {
    "papermill": {
     "duration": 0.012227,
     "end_time": "2022-03-23T18:54:59.968055",
     "exception": false,
     "start_time": "2022-03-23T18:54:59.955828",
     "status": "completed"
    },
    "tags": []
   },
   "source": [
    "# Allowed Parameters\n",
    "These are allowed parameters, not defaults\n",
    "Each of these values need to be present in the injected parameters (the notebook will raise an exception if they are not present)\n",
    "\n",
    "Papermill uses the cell tag \"parameters\" to inject the real parameters below this cell.\n",
    "Enable tags to see what I mean"
   ]
  },
  {
   "cell_type": "code",
   "execution_count": 2,
   "id": "fd44eb83",
   "metadata": {
    "execution": {
     "iopub.execute_input": "2022-03-23T18:54:59.995852Z",
     "iopub.status.busy": "2022-03-23T18:54:59.995594Z",
     "iopub.status.idle": "2022-03-23T18:55:00.010819Z",
     "shell.execute_reply": "2022-03-23T18:55:00.010389Z"
    },
    "papermill": {
     "duration": 0.03059,
     "end_time": "2022-03-23T18:55:00.010925",
     "exception": false,
     "start_time": "2022-03-23T18:54:59.980335",
     "status": "completed"
    },
    "tags": []
   },
   "outputs": [],
   "source": [
    "required_parameters = {\n",
    "    \"experiment_name\",\n",
    "    \"lr\",\n",
    "    \"device\",\n",
    "    \"seed\",\n",
    "    \"dataset_seed\",\n",
    "    \"n_shot\",\n",
    "    \"n_query\",\n",
    "    \"n_way\",\n",
    "    \"train_k_factor\",\n",
    "    \"val_k_factor\",\n",
    "    \"test_k_factor\",\n",
    "    \"n_epoch\",\n",
    "    \"patience\",\n",
    "    \"criteria_for_best\",\n",
    "    \"x_net\",\n",
    "    \"datasets\",\n",
    "    \"torch_default_dtype\",\n",
    "    \"NUM_LOGS_PER_EPOCH\",\n",
    "    \"BEST_MODEL_PATH\",\n",
    "    \"x_shape\",\n",
    "}"
   ]
  },
  {
   "cell_type": "code",
   "execution_count": 3,
   "id": "fa3f0049",
   "metadata": {
    "execution": {
     "iopub.execute_input": "2022-03-23T18:55:00.053433Z",
     "iopub.status.busy": "2022-03-23T18:55:00.053146Z",
     "iopub.status.idle": "2022-03-23T18:55:00.065416Z",
     "shell.execute_reply": "2022-03-23T18:55:00.065614Z"
    },
    "papermill": {
     "duration": 0.035915,
     "end_time": "2022-03-23T18:55:00.065690",
     "exception": false,
     "start_time": "2022-03-23T18:55:00.029775",
     "status": "completed"
    },
    "tags": [
     "parameters"
    ]
   },
   "outputs": [],
   "source": [
    "from steves_utils.CORES.utils import (\n",
    "    ALL_NODES,\n",
    "    ALL_NODES_MINIMUM_1000_EXAMPLES,\n",
    "    ALL_DAYS\n",
    ")\n",
    "\n",
    "from steves_utils.ORACLE.utils_v2 import (\n",
    "    ALL_DISTANCES_FEET_NARROWED,\n",
    "    ALL_RUNS,\n",
    "    ALL_SERIAL_NUMBERS,\n",
    ")\n",
    "\n",
    "standalone_parameters = {}\n",
    "standalone_parameters[\"experiment_name\"] = \"STANDALONE PTN\"\n",
    "standalone_parameters[\"lr\"] = 0.001\n",
    "standalone_parameters[\"device\"] = \"cuda\"\n",
    "\n",
    "standalone_parameters[\"seed\"] = 1337\n",
    "standalone_parameters[\"dataset_seed\"] = 1337\n",
    "\n",
    "standalone_parameters[\"n_way\"] = 8\n",
    "standalone_parameters[\"n_shot\"] = 3\n",
    "standalone_parameters[\"n_query\"]  = 2\n",
    "standalone_parameters[\"train_k_factor\"] = 1\n",
    "standalone_parameters[\"val_k_factor\"] = 2\n",
    "standalone_parameters[\"test_k_factor\"] = 2\n",
    "\n",
    "\n",
    "standalone_parameters[\"n_epoch\"] = 50\n",
    "\n",
    "standalone_parameters[\"patience\"] = 10\n",
    "standalone_parameters[\"criteria_for_best\"] = \"source_loss\"\n",
    "\n",
    "standalone_parameters[\"datasets\"] = [\n",
    "    {\n",
    "        \"labels\": ALL_SERIAL_NUMBERS,\n",
    "        \"domains\": ALL_DISTANCES_FEET_NARROWED,\n",
    "        \"num_examples_per_domain_per_label\": 100,\n",
    "        \"pickle_path\": os.path.join(get_datasets_base_path(), \"oracle.Run1_framed_2000Examples_stratified_ds.2022A.pkl\"),\n",
    "        \"source_or_target_dataset\": \"source\",\n",
    "        \"x_transforms\": [\"unit_mag\", \"minus_two\"],\n",
    "        \"episode_transforms\": [],\n",
    "        \"domain_prefix\": \"ORACLE_\"\n",
    "    },\n",
    "    {\n",
    "        \"labels\": ALL_NODES,\n",
    "        \"domains\": ALL_DAYS,\n",
    "        \"num_examples_per_domain_per_label\": 100,\n",
    "        \"pickle_path\": os.path.join(get_datasets_base_path(), \"cores.stratified_ds.2022A.pkl\"),\n",
    "        \"source_or_target_dataset\": \"target\",\n",
    "        \"x_transforms\": [\"unit_power\", \"times_zero\"],\n",
    "        \"episode_transforms\": [],\n",
    "        \"domain_prefix\": \"CORES_\"\n",
    "    }   \n",
    "]\n",
    "\n",
    "standalone_parameters[\"torch_default_dtype\"] = \"torch.float32\" \n",
    "\n",
    "\n",
    "\n",
    "standalone_parameters[\"x_net\"] =     [\n",
    "    {\"class\": \"nnReshape\", \"kargs\": {\"shape\":[-1, 1, 2, 256]}},\n",
    "    {\"class\": \"Conv2d\", \"kargs\": { \"in_channels\":1, \"out_channels\":256, \"kernel_size\":(1,7), \"bias\":False, \"padding\":(0,3), },},\n",
    "    {\"class\": \"ReLU\", \"kargs\": {\"inplace\": True}},\n",
    "    {\"class\": \"BatchNorm2d\", \"kargs\": {\"num_features\":256}},\n",
    "\n",
    "    {\"class\": \"Conv2d\", \"kargs\": { \"in_channels\":256, \"out_channels\":80, \"kernel_size\":(2,7), \"bias\":True, \"padding\":(0,3), },},\n",
    "    {\"class\": \"ReLU\", \"kargs\": {\"inplace\": True}},\n",
    "    {\"class\": \"BatchNorm2d\", \"kargs\": {\"num_features\":80}},\n",
    "    {\"class\": \"Flatten\", \"kargs\": {}},\n",
    "\n",
    "    {\"class\": \"Linear\", \"kargs\": {\"in_features\": 80*256, \"out_features\": 256}}, # 80 units per IQ pair\n",
    "    {\"class\": \"ReLU\", \"kargs\": {\"inplace\": True}},\n",
    "    {\"class\": \"BatchNorm1d\", \"kargs\": {\"num_features\":256}},\n",
    "\n",
    "    {\"class\": \"Linear\", \"kargs\": {\"in_features\": 256, \"out_features\": 256}},\n",
    "]\n",
    "\n",
    "# Parameters relevant to results\n",
    "# These parameters will basically never need to change\n",
    "standalone_parameters[\"NUM_LOGS_PER_EPOCH\"] = 10\n",
    "standalone_parameters[\"BEST_MODEL_PATH\"] = \"./best_model.pth\"\n",
    "\n",
    "\n",
    "\n",
    "\n"
   ]
  },
  {
   "cell_type": "code",
   "execution_count": 4,
   "id": "df6931a6",
   "metadata": {
    "execution": {
     "iopub.execute_input": "2022-03-23T18:55:00.106578Z",
     "iopub.status.busy": "2022-03-23T18:55:00.106171Z",
     "iopub.status.idle": "2022-03-23T18:55:00.118643Z",
     "shell.execute_reply": "2022-03-23T18:55:00.118235Z"
    },
    "papermill": {
     "duration": 0.03469,
     "end_time": "2022-03-23T18:55:00.118745",
     "exception": false,
     "start_time": "2022-03-23T18:55:00.084055",
     "status": "completed"
    },
    "tags": [
     "injected-parameters"
    ]
   },
   "outputs": [],
   "source": [
    "# Parameters\n",
    "parameters = {\n",
    "    \"experiment_name\": \"tl_1v2:oracle.run1-oracle.run2\",\n",
    "    \"device\": \"cuda\",\n",
    "    \"lr\": 0.0001,\n",
    "    \"n_shot\": 3,\n",
    "    \"n_query\": 2,\n",
    "    \"train_k_factor\": 3,\n",
    "    \"val_k_factor\": 2,\n",
    "    \"test_k_factor\": 2,\n",
    "    \"torch_default_dtype\": \"torch.float32\",\n",
    "    \"n_epoch\": 50,\n",
    "    \"patience\": 3,\n",
    "    \"criteria_for_best\": \"target_accuracy\",\n",
    "    \"x_net\": [\n",
    "        {\"class\": \"nnReshape\", \"kargs\": {\"shape\": [-1, 1, 2, 256]}},\n",
    "        {\n",
    "            \"class\": \"Conv2d\",\n",
    "            \"kargs\": {\n",
    "                \"in_channels\": 1,\n",
    "                \"out_channels\": 256,\n",
    "                \"kernel_size\": [1, 7],\n",
    "                \"bias\": False,\n",
    "                \"padding\": [0, 3],\n",
    "            },\n",
    "        },\n",
    "        {\"class\": \"ReLU\", \"kargs\": {\"inplace\": True}},\n",
    "        {\"class\": \"BatchNorm2d\", \"kargs\": {\"num_features\": 256}},\n",
    "        {\n",
    "            \"class\": \"Conv2d\",\n",
    "            \"kargs\": {\n",
    "                \"in_channels\": 256,\n",
    "                \"out_channels\": 80,\n",
    "                \"kernel_size\": [2, 7],\n",
    "                \"bias\": True,\n",
    "                \"padding\": [0, 3],\n",
    "            },\n",
    "        },\n",
    "        {\"class\": \"ReLU\", \"kargs\": {\"inplace\": True}},\n",
    "        {\"class\": \"BatchNorm2d\", \"kargs\": {\"num_features\": 80}},\n",
    "        {\"class\": \"Flatten\", \"kargs\": {}},\n",
    "        {\"class\": \"Linear\", \"kargs\": {\"in_features\": 20480, \"out_features\": 256}},\n",
    "        {\"class\": \"ReLU\", \"kargs\": {\"inplace\": True}},\n",
    "        {\"class\": \"BatchNorm1d\", \"kargs\": {\"num_features\": 256}},\n",
    "        {\"class\": \"Linear\", \"kargs\": {\"in_features\": 256, \"out_features\": 256}},\n",
    "    ],\n",
    "    \"NUM_LOGS_PER_EPOCH\": 10,\n",
    "    \"BEST_MODEL_PATH\": \"./best_model.pth\",\n",
    "    \"n_way\": 16,\n",
    "    \"datasets\": [\n",
    "        {\n",
    "            \"labels\": [\n",
    "                \"3123D52\",\n",
    "                \"3123D65\",\n",
    "                \"3123D79\",\n",
    "                \"3123D80\",\n",
    "                \"3123D54\",\n",
    "                \"3123D70\",\n",
    "                \"3123D7B\",\n",
    "                \"3123D89\",\n",
    "                \"3123D58\",\n",
    "                \"3123D76\",\n",
    "                \"3123D7D\",\n",
    "                \"3123EFE\",\n",
    "                \"3123D64\",\n",
    "                \"3123D78\",\n",
    "                \"3123D7E\",\n",
    "                \"3124E4A\",\n",
    "            ],\n",
    "            \"domains\": [32, 38, 8, 44, 14, 50, 20, 26],\n",
    "            \"num_examples_per_domain_per_label\": 10000,\n",
    "            \"pickle_path\": \"/mnt/wd500GB/CSC500/csc500-main/datasets/oracle.Run1_10kExamples_stratified_ds.2022A.pkl\",\n",
    "            \"source_or_target_dataset\": \"target\",\n",
    "            \"x_transforms\": [],\n",
    "            \"episode_transforms\": [],\n",
    "            \"domain_prefix\": \"ORACLE.run1_\",\n",
    "        },\n",
    "        {\n",
    "            \"labels\": [\n",
    "                \"3123D52\",\n",
    "                \"3123D65\",\n",
    "                \"3123D79\",\n",
    "                \"3123D80\",\n",
    "                \"3123D54\",\n",
    "                \"3123D70\",\n",
    "                \"3123D7B\",\n",
    "                \"3123D89\",\n",
    "                \"3123D58\",\n",
    "                \"3123D76\",\n",
    "                \"3123D7D\",\n",
    "                \"3123EFE\",\n",
    "                \"3123D64\",\n",
    "                \"3123D78\",\n",
    "                \"3123D7E\",\n",
    "                \"3124E4A\",\n",
    "            ],\n",
    "            \"domains\": [32, 38, 8, 44, 14, 50, 20, 26],\n",
    "            \"num_examples_per_domain_per_label\": 10000,\n",
    "            \"pickle_path\": \"/mnt/wd500GB/CSC500/csc500-main/datasets/oracle.Run2_10kExamples_stratified_ds.2022A.pkl\",\n",
    "            \"source_or_target_dataset\": \"source\",\n",
    "            \"x_transforms\": [],\n",
    "            \"episode_transforms\": [],\n",
    "            \"domain_prefix\": \"ORACLE.run2_\",\n",
    "        },\n",
    "    ],\n",
    "    \"dataset_seed\": 1337,\n",
    "    \"seed\": 1337,\n",
    "}\n"
   ]
  },
  {
   "cell_type": "code",
   "execution_count": 5,
   "id": "8fa1cc33",
   "metadata": {
    "execution": {
     "iopub.execute_input": "2022-03-23T18:55:00.153531Z",
     "iopub.status.busy": "2022-03-23T18:55:00.153276Z",
     "iopub.status.idle": "2022-03-23T18:55:00.168466Z",
     "shell.execute_reply": "2022-03-23T18:55:00.168835Z"
    },
    "papermill": {
     "duration": 0.031956,
     "end_time": "2022-03-23T18:55:00.168956",
     "exception": false,
     "start_time": "2022-03-23T18:55:00.137000",
     "status": "completed"
    },
    "tags": []
   },
   "outputs": [],
   "source": [
    "# Set this to True if you want to run this template directly\n",
    "STANDALONE = False\n",
    "if STANDALONE:\n",
    "    print(\"parameters not injected, running with standalone_parameters\")\n",
    "    parameters = standalone_parameters\n",
    "\n",
    "if not 'parameters' in locals() and not 'parameters' in globals():\n",
    "    raise Exception(\"Parameter injection failed\")\n",
    "\n",
    "#Use an easy dict for all the parameters\n",
    "p = EasyDict(parameters)\n",
    "\n",
    "if \"x_shape\" not in p:\n",
    "    p.x_shape = [2,256] # Default to this if we dont supply x_shape\n",
    "\n",
    "\n",
    "supplied_keys = set(p.keys())\n",
    "\n",
    "if  supplied_keys != required_parameters:\n",
    "    print(\"Parameters are incorrect\")\n",
    "    if len(supplied_keys - required_parameters)>0: print(\"Shouldn't have:\", str(supplied_keys - required_parameters))\n",
    "    if len(required_parameters - supplied_keys)>0: print(\"Need to have:\", str(required_parameters - supplied_keys))\n",
    "    raise RuntimeError(\"Parameters are incorrect\")"
   ]
  },
  {
   "cell_type": "code",
   "execution_count": 6,
   "id": "3a028d58",
   "metadata": {
    "execution": {
     "iopub.execute_input": "2022-03-23T18:55:00.201658Z",
     "iopub.status.busy": "2022-03-23T18:55:00.201412Z",
     "iopub.status.idle": "2022-03-23T18:55:00.217031Z",
     "shell.execute_reply": "2022-03-23T18:55:00.216632Z"
    },
    "papermill": {
     "duration": 0.030825,
     "end_time": "2022-03-23T18:55:00.217130",
     "exception": false,
     "start_time": "2022-03-23T18:55:00.186305",
     "status": "completed"
    },
    "tags": []
   },
   "outputs": [],
   "source": [
    "###################################\n",
    "# Set the RNGs and make it all deterministic\n",
    "###################################\n",
    "np.random.seed(p.seed)\n",
    "random.seed(p.seed)\n",
    "torch.manual_seed(p.seed)\n",
    "\n",
    "torch.use_deterministic_algorithms(True) "
   ]
  },
  {
   "cell_type": "code",
   "execution_count": 7,
   "id": "b691acf6",
   "metadata": {
    "execution": {
     "iopub.execute_input": "2022-03-23T18:55:00.250076Z",
     "iopub.status.busy": "2022-03-23T18:55:00.249816Z",
     "iopub.status.idle": "2022-03-23T18:55:00.264883Z",
     "shell.execute_reply": "2022-03-23T18:55:00.264517Z"
    },
    "papermill": {
     "duration": 0.03002,
     "end_time": "2022-03-23T18:55:00.264978",
     "exception": false,
     "start_time": "2022-03-23T18:55:00.234958",
     "status": "completed"
    },
    "tags": []
   },
   "outputs": [],
   "source": [
    "###########################################\n",
    "# The stratified datasets honor this\n",
    "###########################################\n",
    "torch.set_default_dtype(eval(p.torch_default_dtype))"
   ]
  },
  {
   "cell_type": "code",
   "execution_count": 8,
   "id": "b5fba671",
   "metadata": {
    "execution": {
     "iopub.execute_input": "2022-03-23T18:55:00.297272Z",
     "iopub.status.busy": "2022-03-23T18:55:00.297025Z",
     "iopub.status.idle": "2022-03-23T18:55:00.338475Z",
     "shell.execute_reply": "2022-03-23T18:55:00.338028Z"
    },
    "papermill": {
     "duration": 0.056178,
     "end_time": "2022-03-23T18:55:00.338580",
     "exception": false,
     "start_time": "2022-03-23T18:55:00.282402",
     "status": "completed"
    },
    "tags": []
   },
   "outputs": [],
   "source": [
    "###################################\n",
    "# Build the network(s)\n",
    "# Note: It's critical to do this AFTER setting the RNG\n",
    "###################################\n",
    "x_net = build_sequential(p.x_net)"
   ]
  },
  {
   "cell_type": "code",
   "execution_count": 9,
   "id": "5d7e61cc",
   "metadata": {
    "execution": {
     "iopub.execute_input": "2022-03-23T18:55:00.370973Z",
     "iopub.status.busy": "2022-03-23T18:55:00.370728Z",
     "iopub.status.idle": "2022-03-23T18:55:00.385473Z",
     "shell.execute_reply": "2022-03-23T18:55:00.385052Z"
    },
    "papermill": {
     "duration": 0.029832,
     "end_time": "2022-03-23T18:55:00.385570",
     "exception": false,
     "start_time": "2022-03-23T18:55:00.355738",
     "status": "completed"
    },
    "tags": []
   },
   "outputs": [],
   "source": [
    "start_time_secs = time.time()"
   ]
  },
  {
   "cell_type": "code",
   "execution_count": 10,
   "id": "c6b67dfd",
   "metadata": {
    "execution": {
     "iopub.execute_input": "2022-03-23T18:55:00.419107Z",
     "iopub.status.busy": "2022-03-23T18:55:00.418862Z",
     "iopub.status.idle": "2022-03-23T18:55:00.433597Z",
     "shell.execute_reply": "2022-03-23T18:55:00.433199Z"
    },
    "papermill": {
     "duration": 0.030273,
     "end_time": "2022-03-23T18:55:00.433695",
     "exception": false,
     "start_time": "2022-03-23T18:55:00.403422",
     "status": "completed"
    },
    "tags": []
   },
   "outputs": [],
   "source": [
    "p.domains_source = []\n",
    "p.domains_target = []\n",
    "\n",
    "\n",
    "train_original_source = []\n",
    "val_original_source   = []\n",
    "test_original_source  = []\n",
    "\n",
    "train_original_target = []\n",
    "val_original_target   = []\n",
    "test_original_target  = []"
   ]
  },
  {
   "cell_type": "code",
   "execution_count": 11,
   "id": "e3d9c3d3",
   "metadata": {
    "execution": {
     "iopub.execute_input": "2022-03-23T18:55:00.466848Z",
     "iopub.status.busy": "2022-03-23T18:55:00.466604Z",
     "iopub.status.idle": "2022-03-23T18:55:00.481030Z",
     "shell.execute_reply": "2022-03-23T18:55:00.481400Z"
    },
    "papermill": {
     "duration": 0.029521,
     "end_time": "2022-03-23T18:55:00.481522",
     "exception": false,
     "start_time": "2022-03-23T18:55:00.452001",
     "status": "completed"
    },
    "tags": []
   },
   "outputs": [],
   "source": [
    "# global_x_transform_func = lambda x: normalize(x.to(torch.get_default_dtype()), \"unit_power\") # unit_power, unit_mag\n",
    "# global_x_transform_func = lambda x: normalize(x, \"unit_power\") # unit_power, unit_mag"
   ]
  },
  {
   "cell_type": "code",
   "execution_count": 12,
   "id": "acb78fd2",
   "metadata": {
    "execution": {
     "iopub.execute_input": "2022-03-23T18:55:00.518265Z",
     "iopub.status.busy": "2022-03-23T18:55:00.517735Z",
     "iopub.status.idle": "2022-03-23T18:55:00.528566Z",
     "shell.execute_reply": "2022-03-23T18:55:00.528949Z"
    },
    "papermill": {
     "duration": 0.029242,
     "end_time": "2022-03-23T18:55:00.529077",
     "exception": false,
     "start_time": "2022-03-23T18:55:00.499835",
     "status": "completed"
    },
    "tags": []
   },
   "outputs": [],
   "source": [
    "def add_dataset(\n",
    "    labels,\n",
    "    domains,\n",
    "    pickle_path,\n",
    "    x_transforms,\n",
    "    episode_transforms,\n",
    "    domain_prefix,\n",
    "    num_examples_per_domain_per_label,\n",
    "    source_or_target_dataset:str,\n",
    "    iterator_seed=p.seed,\n",
    "    dataset_seed=p.dataset_seed,\n",
    "    n_shot=p.n_shot,\n",
    "    n_way=p.n_way,\n",
    "    n_query=p.n_query,\n",
    "    train_val_test_k_factors=(p.train_k_factor,p.val_k_factor,p.test_k_factor),\n",
    "):\n",
    "   \n",
    "    if x_transforms == []: x_transform = None\n",
    "    else: x_transform = get_chained_transform(x_transforms)\n",
    "    \n",
    "    if episode_transforms == []: episode_transform = None\n",
    "    else: raise Exception(\"episode_transforms not implemented\")\n",
    "    \n",
    "    episode_transform = lambda tup, _prefix=domain_prefix: (_prefix + str(tup[0]), tup[1])\n",
    "\n",
    "\n",
    "    eaf = Episodic_Accessor_Factory(\n",
    "        labels=labels,\n",
    "        domains=domains,\n",
    "        num_examples_per_domain_per_label=num_examples_per_domain_per_label,\n",
    "        iterator_seed=iterator_seed,\n",
    "        dataset_seed=dataset_seed,\n",
    "        n_shot=n_shot,\n",
    "        n_way=n_way,\n",
    "        n_query=n_query,\n",
    "        train_val_test_k_factors=train_val_test_k_factors,\n",
    "        pickle_path=pickle_path,\n",
    "        x_transform_func=x_transform,\n",
    "    )\n",
    "\n",
    "    train, val, test = eaf.get_train(), eaf.get_val(), eaf.get_test()\n",
    "    train = Lazy_Iterable_Wrapper(train, episode_transform)\n",
    "    val = Lazy_Iterable_Wrapper(val, episode_transform)\n",
    "    test = Lazy_Iterable_Wrapper(test, episode_transform)\n",
    "\n",
    "    if source_or_target_dataset==\"source\":\n",
    "        train_original_source.append(train)\n",
    "        val_original_source.append(val)\n",
    "        test_original_source.append(test)\n",
    "\n",
    "        p.domains_source.extend(\n",
    "            [domain_prefix + str(u) for u in domains]\n",
    "        )\n",
    "    elif source_or_target_dataset==\"target\":\n",
    "        train_original_target.append(train)\n",
    "        val_original_target.append(val)\n",
    "        test_original_target.append(test)\n",
    "        p.domains_target.extend(\n",
    "            [domain_prefix + str(u) for u in domains]\n",
    "        )\n",
    "    else:\n",
    "        raise Exception(f\"invalid source_or_target_dataset: {source_or_target_dataset}\")\n",
    "    "
   ]
  },
  {
   "cell_type": "code",
   "execution_count": 13,
   "id": "fe266617",
   "metadata": {
    "execution": {
     "iopub.execute_input": "2022-03-23T18:55:00.562516Z",
     "iopub.status.busy": "2022-03-23T18:55:00.562270Z",
     "iopub.status.idle": "2022-03-23T18:55:18.020128Z",
     "shell.execute_reply": "2022-03-23T18:55:18.019824Z"
    },
    "papermill": {
     "duration": 17.473046,
     "end_time": "2022-03-23T18:55:18.020193",
     "exception": false,
     "start_time": "2022-03-23T18:55:00.547147",
     "status": "completed"
    },
    "tags": []
   },
   "outputs": [],
   "source": [
    "for ds in p.datasets:\n",
    "    add_dataset(**ds)"
   ]
  },
  {
   "cell_type": "code",
   "execution_count": 14,
   "id": "b90d65ac",
   "metadata": {
    "execution": {
     "iopub.execute_input": "2022-03-23T18:55:18.051492Z",
     "iopub.status.busy": "2022-03-23T18:55:18.051089Z",
     "iopub.status.idle": "2022-03-23T18:55:18.062415Z",
     "shell.execute_reply": "2022-03-23T18:55:18.062183Z"
    },
    "papermill": {
     "duration": 0.02638,
     "end_time": "2022-03-23T18:55:18.062471",
     "exception": false,
     "start_time": "2022-03-23T18:55:18.036091",
     "status": "completed"
    },
    "tags": []
   },
   "outputs": [],
   "source": [
    "# from steves_utils.CORES.utils import (\n",
    "#     ALL_NODES,\n",
    "#     ALL_NODES_MINIMUM_1000_EXAMPLES,\n",
    "#     ALL_DAYS\n",
    "# )\n",
    "\n",
    "# add_dataset(\n",
    "#     labels=ALL_NODES,\n",
    "#     domains = ALL_DAYS,\n",
    "#     num_examples_per_domain_per_label=100,\n",
    "#     pickle_path=os.path.join(get_datasets_base_path(), \"cores.stratified_ds.2022A.pkl\"),\n",
    "#     source_or_target_dataset=\"target\",\n",
    "#     x_transform_func=global_x_transform_func,\n",
    "#     domain_modifier=lambda u: f\"cores_{u}\"\n",
    "# )"
   ]
  },
  {
   "cell_type": "code",
   "execution_count": 15,
   "id": "76db484d",
   "metadata": {
    "execution": {
     "iopub.execute_input": "2022-03-23T18:55:18.093121Z",
     "iopub.status.busy": "2022-03-23T18:55:18.092728Z",
     "iopub.status.idle": "2022-03-23T18:55:18.103135Z",
     "shell.execute_reply": "2022-03-23T18:55:18.102856Z"
    },
    "papermill": {
     "duration": 0.025762,
     "end_time": "2022-03-23T18:55:18.103217",
     "exception": false,
     "start_time": "2022-03-23T18:55:18.077455",
     "status": "completed"
    },
    "tags": []
   },
   "outputs": [],
   "source": [
    "# from steves_utils.ORACLE.utils_v2 import (\n",
    "#     ALL_DISTANCES_FEET,\n",
    "#     ALL_RUNS,\n",
    "#     ALL_SERIAL_NUMBERS,\n",
    "# )\n",
    "\n",
    "\n",
    "# add_dataset(\n",
    "#     labels=ALL_SERIAL_NUMBERS,\n",
    "#     domains = list(set(ALL_DISTANCES_FEET) - {2,62}),\n",
    "#     num_examples_per_domain_per_label=100,\n",
    "#     pickle_path=os.path.join(get_datasets_base_path(), \"oracle.Run2_framed_2000Examples_stratified_ds.2022A.pkl\"),\n",
    "#     source_or_target_dataset=\"source\",\n",
    "#     x_transform_func=global_x_transform_func,\n",
    "#     domain_modifier=lambda u: f\"oracle1_{u}\"\n",
    "# )\n"
   ]
  },
  {
   "cell_type": "code",
   "execution_count": 16,
   "id": "97dea9d2",
   "metadata": {
    "execution": {
     "iopub.execute_input": "2022-03-23T18:55:18.133100Z",
     "iopub.status.busy": "2022-03-23T18:55:18.132706Z",
     "iopub.status.idle": "2022-03-23T18:55:18.143334Z",
     "shell.execute_reply": "2022-03-23T18:55:18.143109Z"
    },
    "papermill": {
     "duration": 0.025314,
     "end_time": "2022-03-23T18:55:18.143393",
     "exception": false,
     "start_time": "2022-03-23T18:55:18.118079",
     "status": "completed"
    },
    "tags": []
   },
   "outputs": [],
   "source": [
    "# from steves_utils.ORACLE.utils_v2 import (\n",
    "#     ALL_DISTANCES_FEET,\n",
    "#     ALL_RUNS,\n",
    "#     ALL_SERIAL_NUMBERS,\n",
    "# )\n",
    "\n",
    "\n",
    "# add_dataset(\n",
    "#     labels=ALL_SERIAL_NUMBERS,\n",
    "#     domains = list(set(ALL_DISTANCES_FEET) - {2,62,56}),\n",
    "#     num_examples_per_domain_per_label=100,\n",
    "#     pickle_path=os.path.join(get_datasets_base_path(), \"oracle.Run2_framed_2000Examples_stratified_ds.2022A.pkl\"),\n",
    "#     source_or_target_dataset=\"source\",\n",
    "#     x_transform_func=global_x_transform_func,\n",
    "#     domain_modifier=lambda u: f\"oracle2_{u}\"\n",
    "# )"
   ]
  },
  {
   "cell_type": "code",
   "execution_count": 17,
   "id": "6f289866",
   "metadata": {
    "execution": {
     "iopub.execute_input": "2022-03-23T18:55:18.174239Z",
     "iopub.status.busy": "2022-03-23T18:55:18.173815Z",
     "iopub.status.idle": "2022-03-23T18:55:18.184349Z",
     "shell.execute_reply": "2022-03-23T18:55:18.184128Z"
    },
    "papermill": {
     "duration": 0.02529,
     "end_time": "2022-03-23T18:55:18.184410",
     "exception": false,
     "start_time": "2022-03-23T18:55:18.159120",
     "status": "completed"
    },
    "tags": []
   },
   "outputs": [],
   "source": [
    "# add_dataset(\n",
    "#     labels=list(range(19)),\n",
    "#     domains = [0,1,2],\n",
    "#     num_examples_per_domain_per_label=100,\n",
    "#     pickle_path=os.path.join(get_datasets_base_path(), \"metehan.stratified_ds.2022A.pkl\"),\n",
    "#     source_or_target_dataset=\"target\",\n",
    "#     x_transform_func=global_x_transform_func,\n",
    "#     domain_modifier=lambda u: f\"met_{u}\"\n",
    "# )"
   ]
  },
  {
   "cell_type": "code",
   "execution_count": 18,
   "id": "86a863c3",
   "metadata": {
    "execution": {
     "iopub.execute_input": "2022-03-23T18:55:18.215609Z",
     "iopub.status.busy": "2022-03-23T18:55:18.215214Z",
     "iopub.status.idle": "2022-03-23T18:55:18.225684Z",
     "shell.execute_reply": "2022-03-23T18:55:18.225439Z"
    },
    "papermill": {
     "duration": 0.025737,
     "end_time": "2022-03-23T18:55:18.225746",
     "exception": false,
     "start_time": "2022-03-23T18:55:18.200009",
     "status": "completed"
    },
    "tags": []
   },
   "outputs": [],
   "source": [
    "# # from steves_utils.wisig.utils import (\n",
    "# #     ALL_NODES_MINIMUM_100_EXAMPLES,\n",
    "# #     ALL_NODES_MINIMUM_500_EXAMPLES,\n",
    "# #     ALL_NODES_MINIMUM_1000_EXAMPLES,\n",
    "# #     ALL_DAYS\n",
    "# # )\n",
    "\n",
    "# import steves_utils.wisig.utils as wisig\n",
    "\n",
    "\n",
    "# add_dataset(\n",
    "#     labels=wisig.ALL_NODES_MINIMUM_100_EXAMPLES,\n",
    "#     domains = wisig.ALL_DAYS,\n",
    "#     num_examples_per_domain_per_label=100,\n",
    "#     pickle_path=os.path.join(get_datasets_base_path(), \"wisig.node3-19.stratified_ds.2022A.pkl\"),\n",
    "#     source_or_target_dataset=\"target\",\n",
    "#     x_transform_func=global_x_transform_func,\n",
    "#     domain_modifier=lambda u: f\"wisig_{u}\"\n",
    "# )"
   ]
  },
  {
   "cell_type": "code",
   "execution_count": 19,
   "id": "fd5442bc",
   "metadata": {
    "execution": {
     "iopub.execute_input": "2022-03-23T18:55:18.257262Z",
     "iopub.status.busy": "2022-03-23T18:55:18.256852Z",
     "iopub.status.idle": "2022-03-23T18:55:18.270660Z",
     "shell.execute_reply": "2022-03-23T18:55:18.270421Z"
    },
    "papermill": {
     "duration": 0.031477,
     "end_time": "2022-03-23T18:55:18.270718",
     "exception": false,
     "start_time": "2022-03-23T18:55:18.239241",
     "status": "completed"
    },
    "tags": []
   },
   "outputs": [],
   "source": [
    "###################################\n",
    "# Build the dataset\n",
    "###################################\n",
    "train_original_source = Iterable_Aggregator(train_original_source, p.seed)\n",
    "val_original_source = Iterable_Aggregator(val_original_source, p.seed)\n",
    "test_original_source = Iterable_Aggregator(test_original_source, p.seed)\n",
    "\n",
    "\n",
    "train_original_target = Iterable_Aggregator(train_original_target, p.seed)\n",
    "val_original_target = Iterable_Aggregator(val_original_target, p.seed)\n",
    "test_original_target = Iterable_Aggregator(test_original_target, p.seed)\n",
    "\n",
    "# For CNN We only use X and Y. And we only train on the source.\n",
    "# Properly form the data using a transform lambda and Lazy_Iterable_Wrapper. Finally wrap them in a dataloader\n",
    "\n",
    "transform_lambda = lambda ex: ex[1] # Original is (<domain>, <episode>) so we strip down to episode only\n",
    "\n",
    "train_processed_source = Lazy_Iterable_Wrapper(train_original_source, transform_lambda)\n",
    "val_processed_source   = Lazy_Iterable_Wrapper(val_original_source, transform_lambda)\n",
    "test_processed_source  = Lazy_Iterable_Wrapper(test_original_source, transform_lambda)\n",
    "\n",
    "train_processed_target = Lazy_Iterable_Wrapper(train_original_target, transform_lambda)\n",
    "val_processed_target   = Lazy_Iterable_Wrapper(val_original_target, transform_lambda)\n",
    "test_processed_target  = Lazy_Iterable_Wrapper(test_original_target, transform_lambda)\n",
    "\n",
    "datasets = EasyDict({\n",
    "    \"source\": {\n",
    "        \"original\": {\"train\":train_original_source, \"val\":val_original_source, \"test\":test_original_source},\n",
    "        \"processed\": {\"train\":train_processed_source, \"val\":val_processed_source, \"test\":test_processed_source}\n",
    "    },\n",
    "    \"target\": {\n",
    "        \"original\": {\"train\":train_original_target, \"val\":val_original_target, \"test\":test_original_target},\n",
    "        \"processed\": {\"train\":train_processed_target, \"val\":val_processed_target, \"test\":test_processed_target}\n",
    "    },\n",
    "})"
   ]
  },
  {
   "cell_type": "code",
   "execution_count": 20,
   "id": "5b3c01fc",
   "metadata": {
    "execution": {
     "iopub.execute_input": "2022-03-23T18:55:18.304239Z",
     "iopub.status.busy": "2022-03-23T18:55:18.303691Z",
     "iopub.status.idle": "2022-03-23T18:55:43.142921Z",
     "shell.execute_reply": "2022-03-23T18:55:43.142447Z"
    },
    "papermill": {
     "duration": 24.855659,
     "end_time": "2022-03-23T18:55:43.143020",
     "exception": false,
     "start_time": "2022-03-23T18:55:18.287361",
     "status": "completed"
    },
    "tags": []
   },
   "outputs": [
    {
     "name": "stdout",
     "output_type": "stream",
     "text": [
      "{'ORACLE.run2_8', 'ORACLE.run2_32', 'ORACLE.run2_38', 'ORACLE.run2_26', 'ORACLE.run2_44', 'ORACLE.run2_14', 'ORACLE.run2_20', 'ORACLE.run2_50'}\n"
     ]
    },
    {
     "name": "stdout",
     "output_type": "stream",
     "text": [
      "{'ORACLE.run1_20', 'ORACLE.run1_8', 'ORACLE.run1_44', 'ORACLE.run1_32', 'ORACLE.run1_50', 'ORACLE.run1_26', 'ORACLE.run1_14', 'ORACLE.run1_38'}\n"
     ]
    },
    {
     "name": "stdout",
     "output_type": "stream",
     "text": [
      "tensor([[[-1.8311e-03,  8.8504e-04,  1.4954e-03,  ..., -4.2726e-03,\n",
      "          -6.2563e-03, -1.8616e-03],\n",
      "         [-1.4344e-03,  3.0519e-04, -1.4344e-03,  ..., -9.7659e-04,\n",
      "           6.1037e-04,  2.5636e-03]],\n",
      "\n",
      "        [[ 2.5941e-03, -7.0193e-04,  2.0142e-03,  ..., -1.9227e-03,\n",
      "           3.1129e-03,  6.1037e-05],\n",
      "         [-4.0590e-03, -1.8616e-03, -5.7985e-04,  ..., -2.1973e-03,\n",
      "          -2.4415e-04,  7.0193e-04]],\n",
      "\n",
      "        [[ 5.7985e-04, -1.4649e-03,  2.1058e-03,  ...,  3.0519e-04,\n",
      "           3.9674e-04, -2.4110e-03],\n",
      "         [ 3.8759e-03, -1.1902e-03,  2.1973e-03,  ...,  1.9532e-03,\n",
      "          -3.0519e-04,  1.1597e-03]],\n",
      "\n",
      "        ...,\n",
      "\n",
      "        [[-1.7090e-03, -2.3804e-03, -4.3336e-03,  ..., -1.5564e-03,\n",
      "          -9.4607e-04,  5.1576e-03],\n",
      "         [-6.7141e-04, -4.5167e-03,  2.0753e-03,  ..., -1.6175e-03,\n",
      "          -4.6388e-03, -5.7985e-04]],\n",
      "\n",
      "        [[-2.0753e-03,  1.8006e-03,  3.3570e-03,  ...,  4.3031e-03,\n",
      "          -8.8504e-04, -7.1413e-03],\n",
      "         [-4.5778e-04,  2.2584e-03, -1.4649e-03,  ...,  1.5259e-04,\n",
      "           1.4649e-03, -2.9908e-03]],\n",
      "\n",
      "        [[-4.6693e-03, -6.1037e-05, -3.9369e-03,  ..., -2.7467e-03,\n",
      "          -2.1363e-03, -5.4018e-03],\n",
      "         [-4.6999e-03, -1.6480e-03, -5.1271e-03,  ...,  2.4415e-04,\n",
      "           2.1668e-03,  6.1037e-05]]])\n"
     ]
    }
   ],
   "source": [
    "from steves_utils.transforms import get_average_magnitude, get_average_power\n",
    "\n",
    "print(set([u for u,_ in val_original_source]))\n",
    "print(set([u for u,_ in val_original_target]))\n",
    "\n",
    "s_x, s_y, q_x, q_y, _ = next(iter(train_processed_source))\n",
    "print(s_x)\n",
    "\n",
    "# for ds in [\n",
    "#     train_processed_source,\n",
    "#     val_processed_source,\n",
    "#     test_processed_source,\n",
    "#     train_processed_target,\n",
    "#     val_processed_target,\n",
    "#     test_processed_target\n",
    "# ]:\n",
    "#     for s_x, s_y, q_x, q_y, _ in ds:\n",
    "#         for X in (s_x, q_x):\n",
    "#             for x in X:\n",
    "#                 assert np.isclose(get_average_magnitude(x.numpy()), 1.0)\n",
    "#                 assert np.isclose(get_average_power(x.numpy()), 1.0)\n",
    "                "
   ]
  },
  {
   "cell_type": "code",
   "execution_count": 21,
   "id": "bbdacba1",
   "metadata": {
    "execution": {
     "iopub.execute_input": "2022-03-23T18:55:43.187851Z",
     "iopub.status.busy": "2022-03-23T18:55:43.186438Z",
     "iopub.status.idle": "2022-03-23T18:55:43.238376Z",
     "shell.execute_reply": "2022-03-23T18:55:43.237914Z"
    },
    "papermill": {
     "duration": 0.077226,
     "end_time": "2022-03-23T18:55:43.238466",
     "exception": false,
     "start_time": "2022-03-23T18:55:43.161240",
     "status": "completed"
    },
    "tags": []
   },
   "outputs": [
    {
     "name": "stdout",
     "output_type": "stream",
     "text": [
      "(2, 256)\n"
     ]
    }
   ],
   "source": [
    "###################################\n",
    "# Build the model\n",
    "###################################\n",
    "# easfsl only wants a tuple for the shape\n",
    "model = Steves_Prototypical_Network(x_net, device=p.device, x_shape=tuple(p.x_shape))\n",
    "optimizer = Adam(params=model.parameters(), lr=p.lr)"
   ]
  },
  {
   "cell_type": "code",
   "execution_count": 22,
   "id": "22b39ac5",
   "metadata": {
    "execution": {
     "iopub.execute_input": "2022-03-23T18:55:43.274492Z",
     "iopub.status.busy": "2022-03-23T18:55:43.274237Z",
     "iopub.status.idle": "2022-03-23T21:12:34.263968Z",
     "shell.execute_reply": "2022-03-23T21:12:34.263738Z"
    },
    "papermill": {
     "duration": 8211.007064,
     "end_time": "2022-03-23T21:12:34.264025",
     "exception": false,
     "start_time": "2022-03-23T18:55:43.256961",
     "status": "completed"
    },
    "tags": []
   },
   "outputs": [
    {
     "name": "stdout",
     "output_type": "stream",
     "text": [
      "epoch: 1, [batch: 1 / 33600], examples_per_second: 9.4752, train_label_loss: 2.7134, \n"
     ]
    },
    {
     "name": "stdout",
     "output_type": "stream",
     "text": [
      "epoch: 1, [batch: 3360 / 33600], examples_per_second: 3221.1101, train_label_loss: 0.9372, \n"
     ]
    },
    {
     "name": "stdout",
     "output_type": "stream",
     "text": [
      "epoch: 1, [batch: 6720 / 33600], examples_per_second: 3216.1402, train_label_loss: 1.5756, \n"
     ]
    },
    {
     "name": "stdout",
     "output_type": "stream",
     "text": [
      "epoch: 1, [batch: 10080 / 33600], examples_per_second: 3214.7105, train_label_loss: 0.1979, \n"
     ]
    },
    {
     "name": "stdout",
     "output_type": "stream",
     "text": [
      "epoch: 1, [batch: 13440 / 33600], examples_per_second: 3203.8217, train_label_loss: 0.4106, \n"
     ]
    },
    {
     "name": "stdout",
     "output_type": "stream",
     "text": [
      "epoch: 1, [batch: 16800 / 33600], examples_per_second: 3212.2800, train_label_loss: 0.5052, \n"
     ]
    },
    {
     "name": "stdout",
     "output_type": "stream",
     "text": [
      "epoch: 1, [batch: 20160 / 33600], examples_per_second: 3218.8592, train_label_loss: 0.2199, \n"
     ]
    },
    {
     "name": "stdout",
     "output_type": "stream",
     "text": [
      "epoch: 1, [batch: 23520 / 33600], examples_per_second: 3201.3409, train_label_loss: 0.0946, \n"
     ]
    },
    {
     "name": "stdout",
     "output_type": "stream",
     "text": [
      "epoch: 1, [batch: 26880 / 33600], examples_per_second: 3210.0732, train_label_loss: 0.3435, \n"
     ]
    },
    {
     "name": "stdout",
     "output_type": "stream",
     "text": [
      "epoch: 1, [batch: 30240 / 33600], examples_per_second: 3205.7163, train_label_loss: 0.5595, \n"
     ]
    },
    {
     "name": "stdout",
     "output_type": "stream",
     "text": [
      "=============================================================\n",
      "epoch: 1, source_val_acc_label: 0.7319, target_val_acc_label: 0.7150, source_val_label_loss: 1.1083, target_val_label_loss: 1.0934, \n",
      "=============================================================\n"
     ]
    },
    {
     "name": "stdout",
     "output_type": "stream",
     "text": [
      "New best\n"
     ]
    },
    {
     "name": "stdout",
     "output_type": "stream",
     "text": [
      "epoch: 2, [batch: 1 / 33600], examples_per_second: 0.9667, train_label_loss: 0.5823, \n"
     ]
    },
    {
     "name": "stdout",
     "output_type": "stream",
     "text": [
      "epoch: 2, [batch: 3360 / 33600], examples_per_second: 3233.1520, train_label_loss: 0.1987, \n"
     ]
    },
    {
     "name": "stdout",
     "output_type": "stream",
     "text": [
      "epoch: 2, [batch: 6720 / 33600], examples_per_second: 3237.4609, train_label_loss: 0.7537, \n"
     ]
    },
    {
     "name": "stdout",
     "output_type": "stream",
     "text": [
      "epoch: 2, [batch: 10080 / 33600], examples_per_second: 3250.5321, train_label_loss: 0.5835, \n"
     ]
    },
    {
     "name": "stdout",
     "output_type": "stream",
     "text": [
      "epoch: 2, [batch: 13440 / 33600], examples_per_second: 3230.7496, train_label_loss: 0.2256, \n"
     ]
    },
    {
     "name": "stdout",
     "output_type": "stream",
     "text": [
      "epoch: 2, [batch: 16800 / 33600], examples_per_second: 3242.6907, train_label_loss: 0.7976, \n"
     ]
    },
    {
     "name": "stdout",
     "output_type": "stream",
     "text": [
      "epoch: 2, [batch: 20160 / 33600], examples_per_second: 3243.3423, train_label_loss: 0.5787, \n"
     ]
    },
    {
     "name": "stdout",
     "output_type": "stream",
     "text": [
      "epoch: 2, [batch: 23520 / 33600], examples_per_second: 3235.6484, train_label_loss: 0.8610, \n"
     ]
    },
    {
     "name": "stdout",
     "output_type": "stream",
     "text": [
      "epoch: 2, [batch: 26880 / 33600], examples_per_second: 3234.2638, train_label_loss: 0.1610, \n"
     ]
    },
    {
     "name": "stdout",
     "output_type": "stream",
     "text": [
      "epoch: 2, [batch: 30240 / 33600], examples_per_second: 3240.5508, train_label_loss: 0.4504, \n"
     ]
    },
    {
     "name": "stdout",
     "output_type": "stream",
     "text": [
      "=============================================================\n",
      "epoch: 2, source_val_acc_label: 0.8757, target_val_acc_label: 0.8519, source_val_label_loss: 0.3728, target_val_label_loss: 0.4650, \n",
      "=============================================================\n"
     ]
    },
    {
     "name": "stdout",
     "output_type": "stream",
     "text": [
      "New best\n"
     ]
    },
    {
     "name": "stdout",
     "output_type": "stream",
     "text": [
      "epoch: 3, [batch: 1 / 33600], examples_per_second: 0.9741, train_label_loss: 0.3363, \n"
     ]
    },
    {
     "name": "stdout",
     "output_type": "stream",
     "text": [
      "epoch: 3, [batch: 3360 / 33600], examples_per_second: 3222.7808, train_label_loss: 0.7376, \n"
     ]
    },
    {
     "name": "stdout",
     "output_type": "stream",
     "text": [
      "epoch: 3, [batch: 6720 / 33600], examples_per_second: 3240.4994, train_label_loss: 0.4585, \n"
     ]
    },
    {
     "name": "stdout",
     "output_type": "stream",
     "text": [
      "epoch: 3, [batch: 10080 / 33600], examples_per_second: 3246.2511, train_label_loss: 0.5165, \n"
     ]
    },
    {
     "name": "stdout",
     "output_type": "stream",
     "text": [
      "epoch: 3, [batch: 13440 / 33600], examples_per_second: 3232.6008, train_label_loss: 0.1892, \n"
     ]
    },
    {
     "name": "stdout",
     "output_type": "stream",
     "text": [
      "epoch: 3, [batch: 16800 / 33600], examples_per_second: 3246.9651, train_label_loss: 0.4935, \n"
     ]
    },
    {
     "name": "stdout",
     "output_type": "stream",
     "text": [
      "epoch: 3, [batch: 20160 / 33600], examples_per_second: 3245.0762, train_label_loss: 0.4766, \n"
     ]
    },
    {
     "name": "stdout",
     "output_type": "stream",
     "text": [
      "epoch: 3, [batch: 23520 / 33600], examples_per_second: 3233.8158, train_label_loss: 0.5352, \n"
     ]
    },
    {
     "name": "stdout",
     "output_type": "stream",
     "text": [
      "epoch: 3, [batch: 26880 / 33600], examples_per_second: 3240.3707, train_label_loss: 0.2366, \n"
     ]
    },
    {
     "name": "stdout",
     "output_type": "stream",
     "text": [
      "epoch: 3, [batch: 30240 / 33600], examples_per_second: 3252.9778, train_label_loss: 0.2908, \n"
     ]
    },
    {
     "name": "stdout",
     "output_type": "stream",
     "text": [
      "=============================================================\n",
      "epoch: 3, source_val_acc_label: 0.8820, target_val_acc_label: 0.8552, source_val_label_loss: 0.3399, target_val_label_loss: 0.4328, \n",
      "=============================================================\n"
     ]
    },
    {
     "name": "stdout",
     "output_type": "stream",
     "text": [
      "New best\n"
     ]
    },
    {
     "name": "stdout",
     "output_type": "stream",
     "text": [
      "epoch: 4, [batch: 1 / 33600], examples_per_second: 0.9723, train_label_loss: 0.4219, \n"
     ]
    },
    {
     "name": "stdout",
     "output_type": "stream",
     "text": [
      "epoch: 4, [batch: 3360 / 33600], examples_per_second: 3233.2797, train_label_loss: 0.2473, \n"
     ]
    },
    {
     "name": "stdout",
     "output_type": "stream",
     "text": [
      "epoch: 4, [batch: 6720 / 33600], examples_per_second: 3236.8875, train_label_loss: 0.6242, \n"
     ]
    },
    {
     "name": "stdout",
     "output_type": "stream",
     "text": [
      "epoch: 4, [batch: 10080 / 33600], examples_per_second: 3244.2103, train_label_loss: 0.2024, \n"
     ]
    },
    {
     "name": "stdout",
     "output_type": "stream",
     "text": [
      "epoch: 4, [batch: 13440 / 33600], examples_per_second: 3235.7224, train_label_loss: 0.1854, \n"
     ]
    },
    {
     "name": "stdout",
     "output_type": "stream",
     "text": [
      "epoch: 4, [batch: 16800 / 33600], examples_per_second: 3243.7345, train_label_loss: 0.2310, \n"
     ]
    },
    {
     "name": "stdout",
     "output_type": "stream",
     "text": [
      "epoch: 4, [batch: 20160 / 33600], examples_per_second: 3252.7239, train_label_loss: 0.2143, \n"
     ]
    },
    {
     "name": "stdout",
     "output_type": "stream",
     "text": [
      "epoch: 4, [batch: 23520 / 33600], examples_per_second: 3236.6045, train_label_loss: 0.1439, \n"
     ]
    },
    {
     "name": "stdout",
     "output_type": "stream",
     "text": [
      "epoch: 4, [batch: 26880 / 33600], examples_per_second: 3246.7179, train_label_loss: 0.5109, \n"
     ]
    },
    {
     "name": "stdout",
     "output_type": "stream",
     "text": [
      "epoch: 4, [batch: 30240 / 33600], examples_per_second: 3245.5909, train_label_loss: 0.2213, \n"
     ]
    },
    {
     "name": "stdout",
     "output_type": "stream",
     "text": [
      "=============================================================\n",
      "epoch: 4, source_val_acc_label: 0.8869, target_val_acc_label: 0.8563, source_val_label_loss: 0.3191, target_val_label_loss: 0.4540, \n",
      "=============================================================\n"
     ]
    },
    {
     "name": "stdout",
     "output_type": "stream",
     "text": [
      "New best\n"
     ]
    },
    {
     "name": "stdout",
     "output_type": "stream",
     "text": [
      "epoch: 5, [batch: 1 / 33600], examples_per_second: 0.9731, train_label_loss: 0.5526, \n"
     ]
    },
    {
     "name": "stdout",
     "output_type": "stream",
     "text": [
      "epoch: 5, [batch: 3360 / 33600], examples_per_second: 3239.6812, train_label_loss: 0.5534, \n"
     ]
    },
    {
     "name": "stdout",
     "output_type": "stream",
     "text": [
      "epoch: 5, [batch: 6720 / 33600], examples_per_second: 3248.1611, train_label_loss: 0.2722, \n"
     ]
    },
    {
     "name": "stdout",
     "output_type": "stream",
     "text": [
      "epoch: 5, [batch: 10080 / 33600], examples_per_second: 3247.7110, train_label_loss: 0.2111, \n"
     ]
    },
    {
     "name": "stdout",
     "output_type": "stream",
     "text": [
      "epoch: 5, [batch: 13440 / 33600], examples_per_second: 3232.1014, train_label_loss: 0.4899, \n"
     ]
    },
    {
     "name": "stdout",
     "output_type": "stream",
     "text": [
      "epoch: 5, [batch: 16800 / 33600], examples_per_second: 3245.6432, train_label_loss: 0.2142, \n"
     ]
    },
    {
     "name": "stdout",
     "output_type": "stream",
     "text": [
      "epoch: 5, [batch: 20160 / 33600], examples_per_second: 3247.5310, train_label_loss: 0.6179, \n"
     ]
    },
    {
     "name": "stdout",
     "output_type": "stream",
     "text": [
      "epoch: 5, [batch: 23520 / 33600], examples_per_second: 3239.5550, train_label_loss: 0.5098, \n"
     ]
    },
    {
     "name": "stdout",
     "output_type": "stream",
     "text": [
      "epoch: 5, [batch: 26880 / 33600], examples_per_second: 3240.8514, train_label_loss: 0.0848, \n"
     ]
    },
    {
     "name": "stdout",
     "output_type": "stream",
     "text": [
      "epoch: 5, [batch: 30240 / 33600], examples_per_second: 3245.6684, train_label_loss: 0.3384, \n"
     ]
    },
    {
     "name": "stdout",
     "output_type": "stream",
     "text": [
      "=============================================================\n",
      "epoch: 5, source_val_acc_label: 0.8916, target_val_acc_label: 0.8572, source_val_label_loss: 0.3087, target_val_label_loss: 0.4590, \n",
      "=============================================================\n"
     ]
    },
    {
     "name": "stdout",
     "output_type": "stream",
     "text": [
      "New best\n"
     ]
    },
    {
     "name": "stdout",
     "output_type": "stream",
     "text": [
      "epoch: 6, [batch: 1 / 33600], examples_per_second: 0.9688, train_label_loss: 0.0313, \n"
     ]
    },
    {
     "name": "stdout",
     "output_type": "stream",
     "text": [
      "epoch: 6, [batch: 3360 / 33600], examples_per_second: 3239.0043, train_label_loss: 0.4817, \n"
     ]
    },
    {
     "name": "stdout",
     "output_type": "stream",
     "text": [
      "epoch: 6, [batch: 6720 / 33600], examples_per_second: 3239.1871, train_label_loss: 0.1105, \n"
     ]
    },
    {
     "name": "stdout",
     "output_type": "stream",
     "text": [
      "epoch: 6, [batch: 10080 / 33600], examples_per_second: 3249.1586, train_label_loss: 0.1558, \n"
     ]
    },
    {
     "name": "stdout",
     "output_type": "stream",
     "text": [
      "epoch: 6, [batch: 13440 / 33600], examples_per_second: 3234.5172, train_label_loss: 0.1852, \n"
     ]
    },
    {
     "name": "stdout",
     "output_type": "stream",
     "text": [
      "epoch: 6, [batch: 16800 / 33600], examples_per_second: 3233.6082, train_label_loss: 0.4971, \n"
     ]
    },
    {
     "name": "stdout",
     "output_type": "stream",
     "text": [
      "epoch: 6, [batch: 20160 / 33600], examples_per_second: 3245.2242, train_label_loss: 0.3165, \n"
     ]
    },
    {
     "name": "stdout",
     "output_type": "stream",
     "text": [
      "epoch: 6, [batch: 23520 / 33600], examples_per_second: 3230.0292, train_label_loss: 0.0246, \n"
     ]
    },
    {
     "name": "stdout",
     "output_type": "stream",
     "text": [
      "epoch: 6, [batch: 26880 / 33600], examples_per_second: 3242.1506, train_label_loss: 0.1203, \n"
     ]
    },
    {
     "name": "stdout",
     "output_type": "stream",
     "text": [
      "epoch: 6, [batch: 30240 / 33600], examples_per_second: 3245.2826, train_label_loss: 0.0879, \n"
     ]
    },
    {
     "name": "stdout",
     "output_type": "stream",
     "text": [
      "=============================================================\n",
      "epoch: 6, source_val_acc_label: 0.8940, target_val_acc_label: 0.8559, source_val_label_loss: 0.2996, target_val_label_loss: 0.4684, \n",
      "=============================================================\n"
     ]
    },
    {
     "name": "stdout",
     "output_type": "stream",
     "text": [
      "epoch: 7, [batch: 1 / 33600], examples_per_second: 0.9676, train_label_loss: 0.0746, \n"
     ]
    },
    {
     "name": "stdout",
     "output_type": "stream",
     "text": [
      "epoch: 7, [batch: 3360 / 33600], examples_per_second: 3226.7261, train_label_loss: 0.3879, \n"
     ]
    },
    {
     "name": "stdout",
     "output_type": "stream",
     "text": [
      "epoch: 7, [batch: 6720 / 33600], examples_per_second: 3243.3074, train_label_loss: 0.2444, \n"
     ]
    },
    {
     "name": "stdout",
     "output_type": "stream",
     "text": [
      "epoch: 7, [batch: 10080 / 33600], examples_per_second: 3247.5632, train_label_loss: 0.1412, \n"
     ]
    },
    {
     "name": "stdout",
     "output_type": "stream",
     "text": [
      "epoch: 7, [batch: 13440 / 33600], examples_per_second: 3234.9409, train_label_loss: 0.0471, \n"
     ]
    },
    {
     "name": "stdout",
     "output_type": "stream",
     "text": [
      "epoch: 7, [batch: 16800 / 33600], examples_per_second: 3243.7843, train_label_loss: 0.2457, \n"
     ]
    },
    {
     "name": "stdout",
     "output_type": "stream",
     "text": [
      "epoch: 7, [batch: 20160 / 33600], examples_per_second: 3247.4771, train_label_loss: 0.2708, \n"
     ]
    },
    {
     "name": "stdout",
     "output_type": "stream",
     "text": [
      "epoch: 7, [batch: 23520 / 33600], examples_per_second: 3235.2471, train_label_loss: 0.0933, \n"
     ]
    },
    {
     "name": "stdout",
     "output_type": "stream",
     "text": [
      "epoch: 7, [batch: 26880 / 33600], examples_per_second: 3243.1522, train_label_loss: 0.0322, \n"
     ]
    },
    {
     "name": "stdout",
     "output_type": "stream",
     "text": [
      "epoch: 7, [batch: 30240 / 33600], examples_per_second: 3243.0698, train_label_loss: 0.0609, \n"
     ]
    },
    {
     "name": "stdout",
     "output_type": "stream",
     "text": [
      "=============================================================\n",
      "epoch: 7, source_val_acc_label: 0.8917, target_val_acc_label: 0.8513, source_val_label_loss: 0.3125, target_val_label_loss: 0.4961, \n",
      "=============================================================\n"
     ]
    },
    {
     "name": "stdout",
     "output_type": "stream",
     "text": [
      "epoch: 8, [batch: 1 / 33600], examples_per_second: 0.9714, train_label_loss: 0.2239, \n"
     ]
    },
    {
     "name": "stdout",
     "output_type": "stream",
     "text": [
      "epoch: 8, [batch: 3360 / 33600], examples_per_second: 3238.6360, train_label_loss: 0.0792, \n"
     ]
    },
    {
     "name": "stdout",
     "output_type": "stream",
     "text": [
      "epoch: 8, [batch: 6720 / 33600], examples_per_second: 3241.1638, train_label_loss: 0.2147, \n"
     ]
    },
    {
     "name": "stdout",
     "output_type": "stream",
     "text": [
      "epoch: 8, [batch: 10080 / 33600], examples_per_second: 3229.1211, train_label_loss: 0.2822, \n"
     ]
    },
    {
     "name": "stdout",
     "output_type": "stream",
     "text": [
      "epoch: 8, [batch: 13440 / 33600], examples_per_second: 3229.7405, train_label_loss: 0.0604, \n"
     ]
    },
    {
     "name": "stdout",
     "output_type": "stream",
     "text": [
      "epoch: 8, [batch: 16800 / 33600], examples_per_second: 3238.9913, train_label_loss: 0.0344, \n"
     ]
    },
    {
     "name": "stdout",
     "output_type": "stream",
     "text": [
      "epoch: 8, [batch: 20160 / 33600], examples_per_second: 3244.4780, train_label_loss: 0.0957, \n"
     ]
    },
    {
     "name": "stdout",
     "output_type": "stream",
     "text": [
      "epoch: 8, [batch: 23520 / 33600], examples_per_second: 3233.4571, train_label_loss: 0.2742, \n"
     ]
    },
    {
     "name": "stdout",
     "output_type": "stream",
     "text": [
      "epoch: 8, [batch: 26880 / 33600], examples_per_second: 3230.8058, train_label_loss: 0.2516, \n"
     ]
    },
    {
     "name": "stdout",
     "output_type": "stream",
     "text": [
      "epoch: 8, [batch: 30240 / 33600], examples_per_second: 3238.3847, train_label_loss: 0.0934, \n"
     ]
    },
    {
     "name": "stdout",
     "output_type": "stream",
     "text": [
      "=============================================================\n",
      "epoch: 8, source_val_acc_label: 0.8936, target_val_acc_label: 0.8504, source_val_label_loss: 0.3072, target_val_label_loss: 0.5167, \n",
      "=============================================================\n"
     ]
    },
    {
     "name": "stdout",
     "output_type": "stream",
     "text": [
      "epoch: 9, [batch: 1 / 33600], examples_per_second: 0.9678, train_label_loss: 0.1947, \n"
     ]
    },
    {
     "name": "stdout",
     "output_type": "stream",
     "text": [
      "epoch: 9, [batch: 3360 / 33600], examples_per_second: 3242.9664, train_label_loss: 0.1344, \n"
     ]
    },
    {
     "name": "stdout",
     "output_type": "stream",
     "text": [
      "epoch: 9, [batch: 6720 / 33600], examples_per_second: 3245.0912, train_label_loss: 0.1674, \n"
     ]
    },
    {
     "name": "stdout",
     "output_type": "stream",
     "text": [
      "epoch: 9, [batch: 10080 / 33600], examples_per_second: 3249.4982, train_label_loss: 0.0207, \n"
     ]
    },
    {
     "name": "stdout",
     "output_type": "stream",
     "text": [
      "epoch: 9, [batch: 13440 / 33600], examples_per_second: 3231.4616, train_label_loss: 0.0998, \n"
     ]
    },
    {
     "name": "stdout",
     "output_type": "stream",
     "text": [
      "epoch: 9, [batch: 16800 / 33600], examples_per_second: 3240.2459, train_label_loss: 0.2711, \n"
     ]
    },
    {
     "name": "stdout",
     "output_type": "stream",
     "text": [
      "epoch: 9, [batch: 20160 / 33600], examples_per_second: 3250.9197, train_label_loss: 0.0455, \n"
     ]
    },
    {
     "name": "stdout",
     "output_type": "stream",
     "text": [
      "epoch: 9, [batch: 23520 / 33600], examples_per_second: 3221.6576, train_label_loss: 0.2630, \n"
     ]
    },
    {
     "name": "stdout",
     "output_type": "stream",
     "text": [
      "epoch: 9, [batch: 26880 / 33600], examples_per_second: 3240.9168, train_label_loss: 0.1471, \n"
     ]
    },
    {
     "name": "stdout",
     "output_type": "stream",
     "text": [
      "epoch: 9, [batch: 30240 / 33600], examples_per_second: 3244.6421, train_label_loss: 0.1037, \n"
     ]
    },
    {
     "name": "stdout",
     "output_type": "stream",
     "text": [
      "=============================================================\n",
      "epoch: 9, source_val_acc_label: 0.8946, target_val_acc_label: 0.8513, source_val_label_loss: 0.3112, target_val_label_loss: 0.5324, \n",
      "=============================================================\n"
     ]
    },
    {
     "name": "stdout",
     "output_type": "stream",
     "text": [
      "Patience (3) exhausted\n"
     ]
    }
   ],
   "source": [
    "###################################\n",
    "# train\n",
    "###################################\n",
    "jig = PTN_Train_Eval_Test_Jig(model, p.BEST_MODEL_PATH, p.device)\n",
    "\n",
    "jig.train(\n",
    "    train_iterable=datasets.source.processed.train,\n",
    "    source_val_iterable=datasets.source.processed.val,\n",
    "    target_val_iterable=datasets.target.processed.val,\n",
    "    num_epochs=p.n_epoch,\n",
    "    num_logs_per_epoch=p.NUM_LOGS_PER_EPOCH,\n",
    "    patience=p.patience,\n",
    "    optimizer=optimizer,\n",
    "    criteria_for_best=p.criteria_for_best,\n",
    ")"
   ]
  },
  {
   "cell_type": "code",
   "execution_count": 23,
   "id": "31e8fabf",
   "metadata": {
    "execution": {
     "iopub.execute_input": "2022-03-23T21:12:34.332207Z",
     "iopub.status.busy": "2022-03-23T21:12:34.331956Z",
     "iopub.status.idle": "2022-03-23T21:12:34.348603Z",
     "shell.execute_reply": "2022-03-23T21:12:34.349010Z"
    },
    "papermill": {
     "duration": 0.052613,
     "end_time": "2022-03-23T21:12:34.349144",
     "exception": false,
     "start_time": "2022-03-23T21:12:34.296531",
     "status": "completed"
    },
    "tags": []
   },
   "outputs": [],
   "source": [
    "total_experiment_time_secs = time.time() - start_time_secs"
   ]
  },
  {
   "cell_type": "code",
   "execution_count": 24,
   "id": "87b9595b",
   "metadata": {
    "execution": {
     "iopub.execute_input": "2022-03-23T21:12:34.424289Z",
     "iopub.status.busy": "2022-03-23T21:12:34.424025Z",
     "iopub.status.idle": "2022-03-23T21:20:37.730293Z",
     "shell.execute_reply": "2022-03-23T21:20:37.729798Z"
    },
    "papermill": {
     "duration": 483.344082,
     "end_time": "2022-03-23T21:20:37.730406",
     "exception": false,
     "start_time": "2022-03-23T21:12:34.386324",
     "status": "completed"
    },
    "tags": []
   },
   "outputs": [],
   "source": [
    "###################################\n",
    "# Evaluate the model\n",
    "###################################\n",
    "source_test_label_accuracy, source_test_label_loss = jig.test(datasets.source.processed.test)\n",
    "target_test_label_accuracy, target_test_label_loss = jig.test(datasets.target.processed.test)\n",
    "\n",
    "source_val_label_accuracy, source_val_label_loss = jig.test(datasets.source.processed.val)\n",
    "target_val_label_accuracy, target_val_label_loss = jig.test(datasets.target.processed.val)\n",
    "\n",
    "history = jig.get_history()\n",
    "\n",
    "total_epochs_trained = len(history[\"epoch_indices\"])\n",
    "\n",
    "val_dl = Iterable_Aggregator((datasets.source.original.val,datasets.target.original.val))\n",
    "\n",
    "confusion = ptn_confusion_by_domain_over_dataloader(model, p.device, val_dl)\n",
    "per_domain_accuracy = per_domain_accuracy_from_confusion(confusion)\n",
    "\n",
    "# Add a key to per_domain_accuracy for if it was a source domain\n",
    "for domain, accuracy in per_domain_accuracy.items():\n",
    "    per_domain_accuracy[domain] = {\n",
    "        \"accuracy\": accuracy,\n",
    "        \"source?\": domain in p.domains_source\n",
    "    }\n",
    "\n",
    "# Do an independent accuracy assesment JUST TO BE SURE!\n",
    "# _source_test_label_accuracy = independent_accuracy_assesment(model, datasets.source.processed.test, p.device)\n",
    "# _target_test_label_accuracy = independent_accuracy_assesment(model, datasets.target.processed.test, p.device)\n",
    "# _source_val_label_accuracy = independent_accuracy_assesment(model, datasets.source.processed.val, p.device)\n",
    "# _target_val_label_accuracy = independent_accuracy_assesment(model, datasets.target.processed.val, p.device)\n",
    "\n",
    "# assert(_source_test_label_accuracy == source_test_label_accuracy)\n",
    "# assert(_target_test_label_accuracy == target_test_label_accuracy)\n",
    "# assert(_source_val_label_accuracy == source_val_label_accuracy)\n",
    "# assert(_target_val_label_accuracy == target_val_label_accuracy)\n",
    "\n",
    "experiment = {\n",
    "    \"experiment_name\": p.experiment_name,\n",
    "    \"parameters\": dict(p),\n",
    "    \"results\": {\n",
    "        \"source_test_label_accuracy\": source_test_label_accuracy,\n",
    "        \"source_test_label_loss\": source_test_label_loss,\n",
    "        \"target_test_label_accuracy\": target_test_label_accuracy,\n",
    "        \"target_test_label_loss\": target_test_label_loss,\n",
    "        \"source_val_label_accuracy\": source_val_label_accuracy,\n",
    "        \"source_val_label_loss\": source_val_label_loss,\n",
    "        \"target_val_label_accuracy\": target_val_label_accuracy,\n",
    "        \"target_val_label_loss\": target_val_label_loss,\n",
    "        \"total_epochs_trained\": total_epochs_trained,\n",
    "        \"total_experiment_time_secs\": total_experiment_time_secs,\n",
    "        \"confusion\": confusion,\n",
    "        \"per_domain_accuracy\": per_domain_accuracy,\n",
    "    },\n",
    "    \"history\": history,\n",
    "    \"dataset_metrics\": get_dataset_metrics(datasets, \"ptn\"),\n",
    "}"
   ]
  },
  {
   "cell_type": "code",
   "execution_count": 25,
   "id": "54a21829",
   "metadata": {
    "execution": {
     "iopub.execute_input": "2022-03-23T21:20:37.805294Z",
     "iopub.status.busy": "2022-03-23T21:20:37.805029Z",
     "iopub.status.idle": "2022-03-23T21:20:37.928799Z",
     "shell.execute_reply": "2022-03-23T21:20:37.928371Z"
    },
    "papermill": {
     "duration": 0.161005,
     "end_time": "2022-03-23T21:20:37.928891",
     "exception": false,
     "start_time": "2022-03-23T21:20:37.767886",
     "status": "completed"
    },
    "tags": []
   },
   "outputs": [
    {
     "data": {
      "image/png": "[encoded data removed]",
      "text/plain": [
       "<Figure size 1080x504 with 1 Axes>"
      ]
     },
     "metadata": {
      "needs_background": "light"
     },
     "output_type": "display_data"
    }
   ],
   "source": [
    "ax = get_loss_curve(experiment)\n",
    "plt.show()"
   ]
  },
  {
   "cell_type": "code",
   "execution_count": 26,
   "id": "fd8a0f60",
   "metadata": {
    "execution": {
     "iopub.execute_input": "2022-03-23T21:20:38.012456Z",
     "iopub.status.busy": "2022-03-23T21:20:38.003496Z",
     "iopub.status.idle": "2022-03-23T21:20:38.146554Z",
     "shell.execute_reply": "2022-03-23T21:20:38.146295Z"
    },
    "papermill": {
     "duration": 0.179518,
     "end_time": "2022-03-23T21:20:38.146608",
     "exception": false,
     "start_time": "2022-03-23T21:20:37.967090",
     "status": "completed"
    },
    "tags": []
   },
   "outputs": [
    {
     "data": {
      "text/plain": [
       "<AxesSubplot:title={'center':'Results'}>"
      ]
     },
     "execution_count": 26,
     "metadata": {},
     "output_type": "execute_result"
    },
    {
     "data": {
      "image/png": "[encoded data removed]",
      "text/plain": [
       "<Figure size 1080x504 with 1 Axes>"
      ]
     },
     "metadata": {
      "needs_background": "light"
     },
     "output_type": "display_data"
    }
   ],
   "source": [
    "get_results_table(experiment)"
   ]
  },
  {
   "cell_type": "code",
   "execution_count": 27,
   "id": "cf8dc689",
   "metadata": {
    "execution": {
     "iopub.execute_input": "2022-03-23T21:20:38.220667Z",
     "iopub.status.busy": "2022-03-23T21:20:38.220322Z",
     "iopub.status.idle": "2022-03-23T21:20:38.375453Z",
     "shell.execute_reply": "2022-03-23T21:20:38.375051Z"
    },
    "papermill": {
     "duration": 0.192554,
     "end_time": "2022-03-23T21:20:38.375545",
     "exception": false,
     "start_time": "2022-03-23T21:20:38.182991",
     "status": "completed"
    },
    "tags": []
   },
   "outputs": [
    {
     "data": {
      "text/plain": [
       "<AxesSubplot:title={'center':'Per Domain Validation Accuracy'}, xlabel='domain'>"
      ]
     },
     "execution_count": 27,
     "metadata": {},
     "output_type": "execute_result"
    },
    {
     "data": {
      "image/png": "[encoded data removed]",
      "text/plain": [
       "<Figure size 1080x504 with 1 Axes>"
      ]
     },
     "metadata": {
      "needs_background": "light"
     },
     "output_type": "display_data"
    }
   ],
   "source": [
    "get_domain_accuracies(experiment)"
   ]
  },
  {
   "cell_type": "code",
   "execution_count": 28,
   "id": "a74ae082",
   "metadata": {
    "execution": {
     "iopub.execute_input": "2022-03-23T21:20:38.455163Z",
     "iopub.status.busy": "2022-03-23T21:20:38.454906Z",
     "iopub.status.idle": "2022-03-23T21:20:38.470995Z",
     "shell.execute_reply": "2022-03-23T21:20:38.470473Z"
    },
    "papermill": {
     "duration": 0.055353,
     "end_time": "2022-03-23T21:20:38.471101",
     "exception": false,
     "start_time": "2022-03-23T21:20:38.415748",
     "status": "completed"
    },
    "tags": []
   },
   "outputs": [
    {
     "name": "stdout",
     "output_type": "stream",
     "text": [
      "Source Test Label Accuracy: 0.8919075520833334 Target Test Label Accuracy: 0.8572265625\n",
      "Source Val Label Accuracy: 0.8915625 Target Val Label Accuracy: 0.8571940104166667\n"
     ]
    }
   ],
   "source": [
    "print(\"Source Test Label Accuracy:\", experiment[\"results\"][\"source_test_label_accuracy\"], \"Target Test Label Accuracy:\", experiment[\"results\"][\"target_test_label_accuracy\"])\n",
    "print(\"Source Val Label Accuracy:\", experiment[\"results\"][\"source_val_label_accuracy\"], \"Target Val Label Accuracy:\", experiment[\"results\"][\"target_val_label_accuracy\"])"
   ]
  },
  {
   "cell_type": "code",
   "execution_count": 29,
   "id": "dacca602",
   "metadata": {
    "execution": {
     "iopub.execute_input": "2022-03-23T21:20:38.550862Z",
     "iopub.status.busy": "2022-03-23T21:20:38.550606Z",
     "iopub.status.idle": "2022-03-23T21:20:38.566916Z",
     "shell.execute_reply": "2022-03-23T21:20:38.566578Z"
    },
    "papermill": {
     "duration": 0.055092,
     "end_time": "2022-03-23T21:20:38.566987",
     "exception": false,
     "start_time": "2022-03-23T21:20:38.511895",
     "status": "completed"
    },
    "tags": [
     "experiment_json"
    ]
   },
   "outputs": [
    {
     "data": {
      "text/plain": [
       "'{\"experiment_name\": \"tl_1v2:oracle.run1-oracle.run2\", \"parameters\": {\"experiment_name\": \"tl_1v2:oracle.run1-oracle.run2\", \"device\": \"cuda\", \"lr\": 0.0001, \"n_shot\": 3, \"n_query\": 2, \"train_k_factor\": 3, \"val_k_factor\": 2, \"test_k_factor\": 2, \"torch_default_dtype\": \"torch.float32\", \"n_epoch\": 50, \"patience\": 3, \"criteria_for_best\": \"target_accuracy\", \"x_net\": [{\"class\": \"nnReshape\", \"kargs\": {\"shape\": [-1, 1, 2, 256]}}, {\"class\": \"Conv2d\", \"kargs\": {\"in_channels\": 1, \"out_channels\": 256, \"kernel_size\": [1, 7], \"bias\": false, \"padding\": [0, 3]}}, {\"class\": \"ReLU\", \"kargs\": {\"inplace\": true}}, {\"class\": \"BatchNorm2d\", \"kargs\": {\"num_features\": 256}}, {\"class\": \"Conv2d\", \"kargs\": {\"in_channels\": 256, \"out_channels\": 80, \"kernel_size\": [2, 7], \"bias\": true, \"padding\": [0, 3]}}, {\"class\": \"ReLU\", \"kargs\": {\"inplace\": true}}, {\"class\": \"BatchNorm2d\", \"kargs\": {\"num_features\": 80}}, {\"class\": \"Flatten\", \"kargs\": {}}, {\"class\": \"Linear\", \"kargs\": {\"in_features\": 20480, \"out_features\": 256}}, {\"class\": \"ReLU\", \"kargs\": {\"inplace\": true}}, {\"class\": \"BatchNorm1d\", \"kargs\": {\"num_features\": 256}}, {\"class\": \"Linear\", \"kargs\": {\"in_features\": 256, \"out_features\": 256}}], \"NUM_LOGS_PER_EPOCH\": 10, \"BEST_MODEL_PATH\": \"./best_model.pth\", \"n_way\": 16, \"datasets\": [{\"labels\": [\"3123D52\", \"3123D65\", \"3123D79\", \"3123D80\", \"3123D54\", \"3123D70\", \"3123D7B\", \"3123D89\", \"3123D58\", \"3123D76\", \"3123D7D\", \"3123EFE\", \"3123D64\", \"3123D78\", \"3123D7E\", \"3124E4A\"], \"domains\": [32, 38, 8, 44, 14, 50, 20, 26], \"num_examples_per_domain_per_label\": 10000, \"pickle_path\": \"/mnt/wd500GB/CSC500/csc500-main/datasets/oracle.Run1_10kExamples_stratified_ds.2022A.pkl\", \"source_or_target_dataset\": \"target\", \"x_transforms\": [], \"episode_transforms\": [], \"domain_prefix\": \"ORACLE.run1_\"}, {\"labels\": [\"3123D52\", \"3123D65\", \"3123D79\", \"3123D80\", \"3123D54\", \"3123D70\", \"3123D7B\", \"3123D89\", \"3123D58\", \"3123D76\", \"3123D7D\", \"3123EFE\", \"3123D64\", \"3123D78\", \"3123D7E\", \"3124E4A\"], \"domains\": [32, 38, 8, 44, 14, 50, 20, 26], \"num_examples_per_domain_per_label\": 10000, \"pickle_path\": \"/mnt/wd500GB/CSC500/csc500-main/datasets/oracle.Run2_10kExamples_stratified_ds.2022A.pkl\", \"source_or_target_dataset\": \"source\", \"x_transforms\": [], \"episode_transforms\": [], \"domain_prefix\": \"ORACLE.run2_\"}], \"dataset_seed\": 1337, \"seed\": 1337, \"x_shape\": [2, 256], \"domains_source\": [\"ORACLE.run2_32\", \"ORACLE.run2_38\", \"ORACLE.run2_8\", \"ORACLE.run2_44\", \"ORACLE.run2_14\", \"ORACLE.run2_50\", \"ORACLE.run2_20\", \"ORACLE.run2_26\"], \"domains_target\": [\"ORACLE.run1_32\", \"ORACLE.run1_38\", \"ORACLE.run1_8\", \"ORACLE.run1_44\", \"ORACLE.run1_14\", \"ORACLE.run1_50\", \"ORACLE.run1_20\", \"ORACLE.run1_26\"]}, \"results\": {\"source_test_label_accuracy\": 0.8919075520833334, \"source_test_label_loss\": 0.30897319316864014, \"target_test_label_accuracy\": 0.8572265625, \"target_test_label_loss\": 0.4596715271472931, \"source_val_label_accuracy\": 0.8915625, \"source_val_label_loss\": 0.3087384104728699, \"target_val_label_accuracy\": 0.8571940104166667, \"target_val_label_loss\": 0.4590153098106384, \"total_epochs_trained\": 9, \"total_experiment_time_secs\": 8253.962916612625, \"confusion\": {\"ORACLE.run2_14\": {\"15\": {\"15\": 1200}, \"3\": {\"5\": 5, \"3\": 1182, \"2\": 10, \"14\": 3}, \"6\": {\"6\": 1048, \"13\": 151, \"2\": 1}, \"1\": {\"1\": 1200}, \"8\": {\"8\": 1200}, \"10\": {\"10\": 1150, \"0\": 44, \"14\": 5, \"12\": 1}, \"9\": {\"9\": 1200}, \"13\": {\"13\": 1036, \"6\": 164}, \"12\": {\"12\": 833, \"10\": 109, \"9\": 153, \"8\": 2, \"1\": 14, \"11\": 37, \"0\": 44, \"4\": 2, \"3\": 6}, \"5\": {\"5\": 1061, \"2\": 132, \"3\": 3, \"14\": 4}, \"0\": {\"0\": 1195, \"10\": 5}, \"2\": {\"2\": 717, \"14\": 166, \"5\": 227, \"3\": 72, \"7\": 1, \"4\": 16, \"6\": 1}, \"11\": {\"11\": 1200}, \"14\": {\"14\": 1093, \"2\": 96, \"5\": 8, \"3\": 3}, \"7\": {\"7\": 1200}, \"4\": {\"4\": 1200}}, \"ORACLE.run2_20\": {\"3\": {\"3\": 604, \"9\": 157, \"7\": 121, \"4\": 67, \"5\": 96, \"2\": 116, \"15\": 39}, \"15\": {\"15\": 781, \"9\": 228, \"13\": 19, \"2\": 106, \"5\": 22, \"3\": 26, \"1\": 8, \"12\": 8, \"4\": 2}, \"8\": {\"8\": 1105, \"0\": 6, \"14\": 89}, \"4\": {\"4\": 1131, \"3\": 46, \"9\": 9, \"5\": 3, \"7\": 9, \"12\": 2}, \"14\": {\"14\": 1087, \"8\": 112, \"7\": 1}, \"0\": {\"0\": 1187, \"1\": 9, \"8\": 4}, \"7\": {\"7\": 1078, \"3\": 104, \"6\": 7, \"9\": 2, \"10\": 1, \"2\": 1, \"4\": 6, \"5\": 1}, \"6\": {\"6\": 1172, \"10\": 13, \"7\": 15}, \"10\": {\"10\": 1158, \"6\": 29, \"7\": 10, \"4\": 3}, \"5\": {\"5\": 598, \"2\": 259, \"1\": 106, \"15\": 30, \"3\": 98, \"9\": 100, \"0\": 1, \"4\": 3, \"7\": 4, \"8\": 1}, \"2\": {\"15\": 68, \"5\": 220, \"9\": 319, \"2\": 476, \"3\": 112, \"7\": 1, \"1\": 4}, \"12\": {\"12\": 1137, \"4\": 8, \"13\": 55}, \"9\": {\"2\": 288, \"15\": 214, \"9\": 481, \"4\": 8, \"3\": 121, \"5\": 81, \"1\": 7}, \"1\": {\"1\": 1142, \"5\": 44, \"9\": 1, \"2\": 9, \"15\": 4}, \"11\": {\"11\": 1200}, \"13\": {\"13\": 1098, \"15\": 14, \"12\": 88}}, \"ORACLE.run2_38\": {\"5\": {\"8\": 355, \"5\": 830, \"15\": 1, \"12\": 11, \"7\": 3}, \"8\": {\"8\": 1092, \"5\": 97, \"7\": 10, \"0\": 1}, \"11\": {\"11\": 1200}, \"1\": {\"1\": 1141, \"15\": 59}, \"10\": {\"10\": 1131, \"3\": 28, \"13\": 38, \"4\": 2, \"7\": 1}, \"15\": {\"15\": 989, \"1\": 184, \"6\": 23, \"5\": 4}, \"3\": {\"3\": 859, \"13\": 261, \"10\": 76, \"0\": 4}, \"7\": {\"7\": 1177, \"0\": 15, \"8\": 7, \"14\": 1}, \"4\": {\"4\": 1192, \"10\": 7, \"7\": 1}, \"14\": {\"14\": 746, \"7\": 73, \"2\": 331, \"12\": 30, \"5\": 3, \"4\": 12, \"8\": 4, \"11\": 1}, \"9\": {\"9\": 1200}, \"12\": {\"12\": 1197, \"14\": 2, \"5\": 1}, \"6\": {\"6\": 1197, \"15\": 3}, \"2\": {\"2\": 1134, \"14\": 66}, \"0\": {\"0\": 1178, \"7\": 20, \"8\": 2}, \"13\": {\"13\": 966, \"3\": 179, \"10\": 48, \"11\": 7}}, \"ORACLE.run2_8\": {\"9\": {\"9\": 1200}, \"10\": {\"10\": 1067, \"5\": 93, \"13\": 38, \"1\": 2}, \"13\": {\"13\": 1148, \"10\": 47, \"4\": 1, \"7\": 2, \"1\": 2}, \"0\": {\"0\": 1200}, \"1\": {\"1\": 1103, \"10\": 22, \"13\": 44, \"5\": 21, \"14\": 10}, \"15\": {\"15\": 1186, \"12\": 14}, \"5\": {\"5\": 987, \"10\": 165, \"1\": 46, \"13\": 2}, \"3\": {\"3\": 1200}, \"6\": {\"6\": 1122, \"14\": 67, \"8\": 7, \"4\": 4}, \"11\": {\"11\": 895, \"8\": 302, \"7\": 2, \"6\": 1}, \"8\": {\"8\": 1113, \"11\": 73, \"6\": 14}, \"4\": {\"4\": 978, \"6\": 15, \"7\": 202, \"1\": 2, \"14\": 3}, \"12\": {\"12\": 1183, \"15\": 17}, \"14\": {\"14\": 1125, \"6\": 75}, \"2\": {\"2\": 1200}, \"7\": {\"7\": 1092, \"4\": 108}}, \"ORACLE.run2_50\": {\"7\": {\"7\": 1120, \"5\": 32, \"4\": 48}, \"3\": {\"3\": 1200}, \"8\": {\"8\": 1200}, \"2\": {\"2\": 1179, \"0\": 21}, \"14\": {\"14\": 1200}, \"4\": {\"4\": 913, \"5\": 258, \"15\": 5, \"7\": 18, \"6\": 6}, \"6\": {\"6\": 1126, \"5\": 47, \"15\": 18, \"4\": 9}, \"15\": {\"15\": 1170, \"6\": 28, \"9\": 1, \"4\": 1}, \"10\": {\"10\": 1179, \"0\": 13, \"13\": 6, \"1\": 2}, \"11\": {\"11\": 1189, \"12\": 9, \"15\": 2}, \"13\": {\"13\": 1199, \"10\": 1}, \"9\": {\"9\": 1196, \"12\": 4}, \"0\": {\"0\": 1153, \"2\": 32, \"10\": 15}, \"1\": {\"1\": 1200}, \"12\": {\"12\": 1184, \"9\": 13, \"11\": 3}, \"5\": {\"5\": 847, \"4\": 246, \"6\": 37, \"7\": 70}}, \"ORACLE.run2_32\": {\"8\": {\"8\": 1105, \"7\": 18, \"0\": 74, \"2\": 3}, \"14\": {\"14\": 904, \"2\": 281, \"0\": 8, \"5\": 6, \"7\": 1}, \"2\": {\"2\": 968, \"14\": 152, \"0\": 48, \"7\": 28, \"8\": 4}, \"0\": {\"0\": 899, \"7\": 88, \"8\": 69, \"2\": 84, \"11\": 2, \"4\": 46, \"14\": 12}, \"1\": {\"1\": 1200}, \"10\": {\"10\": 1200}, \"11\": {\"4\": 211, \"11\": 806, \"13\": 154, \"0\": 20, \"7\": 9}, \"5\": {\"5\": 1133, \"8\": 1, \"2\": 29, \"7\": 12, \"14\": 19, \"15\": 6}, \"15\": {\"15\": 1198, \"5\": 2}, \"3\": {\"3\": 1175, \"13\": 24, \"11\": 1}, \"12\": {\"12\": 1200}, \"7\": {\"7\": 1088, \"2\": 31, \"0\": 63, \"8\": 16, \"5\": 1, \"14\": 1}, \"13\": {\"3\": 36, \"13\": 1060, \"11\": 84, \"4\": 20}, \"6\": {\"6\": 1200}, \"4\": {\"4\": 1015, \"11\": 134, \"13\": 18, \"0\": 32, \"8\": 1}, \"9\": {\"9\": 1200}}, \"ORACLE.run2_26\": {\"4\": {\"4\": 1198, \"3\": 2}, \"12\": {\"12\": 1200}, \"10\": {\"10\": 511, \"14\": 208, \"1\": 36, \"0\": 309, \"15\": 12, \"6\": 44, \"8\": 69, \"5\": 5, \"9\": 4, \"2\": 2}, \"0\": {\"0\": 766, \"14\": 121, \"10\": 241, \"15\": 54, \"8\": 17, \"2\": 1}, \"13\": {\"13\": 1141, \"9\": 32, \"7\": 26, \"3\": 1}, \"9\": {\"9\": 842, \"2\": 65, \"7\": 73, \"13\": 75, \"8\": 144, \"15\": 1}, \"3\": {\"3\": 1088, \"7\": 110, \"13\": 1, \"2\": 1}, \"2\": {\"9\": 72, \"2\": 895, \"8\": 177, \"7\": 43, \"15\": 12, \"13\": 1}, \"5\": {\"5\": 889, \"6\": 264, \"1\": 9, \"15\": 18, \"0\": 3, \"14\": 11, \"10\": 6}, \"14\": {\"14\": 824, \"10\": 144, \"0\": 161, \"6\": 21, \"1\": 42, \"5\": 5, \"15\": 3}, \"8\": {\"8\": 887, \"9\": 114, \"2\": 160, \"0\": 10, \"15\": 5, \"10\": 22, \"7\": 2}, \"7\": {\"7\": 909, \"2\": 91, \"3\": 133, \"9\": 45, \"13\": 18, \"8\": 4}, \"6\": {\"6\": 1026, \"5\": 134, \"14\": 14, \"10\": 16, \"1\": 9, \"8\": 1}, \"11\": {\"11\": 1198, \"12\": 2}, \"15\": {\"15\": 1094, \"0\": 48, \"8\": 26, \"2\": 21, \"10\": 10, \"14\": 1}, \"1\": {\"1\": 1158, \"6\": 17, \"5\": 8, \"14\": 15, \"10\": 2}}, \"ORACLE.run2_44\": {\"12\": {\"3\": 89, \"12\": 1111}, \"7\": {\"7\": 931, \"9\": 267, \"6\": 2}, \"5\": {\"5\": 1148, \"14\": 15, \"8\": 30, \"15\": 6, \"0\": 1}, \"15\": {\"15\": 1149, \"8\": 26, \"4\": 2, \"14\": 4, \"5\": 15, \"0\": 4}, \"8\": {\"8\": 1007, \"0\": 162, \"15\": 8, \"5\": 23}, \"2\": {\"2\": 1188, \"1\": 12}, \"13\": {\"13\": 1165, \"11\": 2, \"6\": 15, \"4\": 17, \"14\": 1}, \"4\": {\"4\": 1111, \"14\": 88, \"9\": 1}, \"0\": {\"8\": 306, \"0\": 891, \"15\": 2, \"5\": 1}, \"6\": {\"6\": 1187, \"13\": 10, \"7\": 3}, \"9\": {\"9\": 822, \"7\": 361, \"6\": 17}, \"11\": {\"11\": 1200}, \"10\": {\"10\": 1189, \"7\": 10, \"9\": 1}, \"14\": {\"14\": 1108, \"4\": 83, \"5\": 9}, \"1\": {\"1\": 1190, \"2\": 9, \"3\": 1}, \"3\": {\"3\": 1137, \"12\": 63}}, \"ORACLE.run1_14\": {\"15\": {\"15\": 1200}, \"3\": {\"3\": 1179, \"0\": 6, \"13\": 1, \"14\": 9, \"2\": 2, \"5\": 3}, \"6\": {\"6\": 688, \"13\": 281, \"3\": 8, \"14\": 151, \"2\": 72}, \"1\": {\"1\": 1200}, \"8\": {\"8\": 1200}, \"10\": {\"10\": 1200}, \"9\": {\"9\": 1200}, \"13\": {\"14\": 410, \"6\": 364, \"15\": 116, \"13\": 254, \"2\": 49, \"4\": 3, \"3\": 3, \"5\": 1}, \"12\": {\"12\": 1200}, \"5\": {\"5\": 1109, \"2\": 71, \"4\": 5, \"14\": 4, \"3\": 11}, \"0\": {\"14\": 6, \"0\": 1152, \"3\": 34, \"8\": 1, \"13\": 1, \"10\": 4, \"5\": 1, \"2\": 1}, \"2\": {\"2\": 496, \"14\": 301, \"4\": 52, \"6\": 88, \"3\": 42, \"13\": 49, \"5\": 160, \"7\": 12}, \"11\": {\"11\": 1200}, \"14\": {\"14\": 994, \"2\": 103, \"13\": 74, \"3\": 10, \"6\": 18, \"5\": 1}, \"7\": {\"7\": 1196, \"5\": 4}, \"4\": {\"4\": 1147, \"5\": 41, \"2\": 9, \"14\": 2, \"3\": 1}}, \"ORACLE.run1_20\": {\"3\": {\"3\": 803, \"0\": 20, \"1\": 23, \"5\": 174, \"9\": 137, \"8\": 39, \"7\": 3, \"4\": 1}, \"15\": {\"15\": 940, \"1\": 115, \"13\": 15, \"12\": 99, \"2\": 10, \"9\": 18, \"5\": 3}, \"8\": {\"8\": 1091, \"14\": 64, \"3\": 43, \"9\": 1, \"7\": 1}, \"4\": {\"4\": 1167, \"10\": 6, \"7\": 7, \"2\": 4, \"12\": 15, \"6\": 1}, \"14\": {\"14\": 1151, \"8\": 44, \"6\": 5}, \"0\": {\"0\": 1169, \"3\": 8, \"5\": 21, \"8\": 2}, \"7\": {\"7\": 1040, \"2\": 93, \"9\": 53, \"4\": 5, \"8\": 1, \"12\": 2, \"6\": 6}, \"6\": {\"6\": 1182, \"7\": 15, \"14\": 3}, \"10\": {\"10\": 1198, \"4\": 2}, \"5\": {\"1\": 280, \"3\": 163, \"5\": 718, \"9\": 38, \"15\": 1}, \"2\": {\"7\": 125, \"2\": 839, \"9\": 47, \"12\": 138, \"13\": 32, \"4\": 2, \"15\": 16, \"1\": 1}, \"12\": {\"2\": 138, \"12\": 935, \"15\": 97, \"1\": 6, \"4\": 10, \"9\": 11, \"13\": 3}, \"9\": {\"9\": 914, \"1\": 58, \"7\": 59, \"3\": 90, \"5\": 38, \"2\": 32, \"12\": 4, \"15\": 4, \"8\": 1}, \"1\": {\"1\": 811, \"15\": 42, \"9\": 65, \"5\": 266, \"3\": 12, \"12\": 3, \"2\": 1}, \"11\": {\"11\": 1200}, \"13\": {\"13\": 1151, \"15\": 11, \"2\": 29, \"12\": 9}}, \"ORACLE.run1_38\": {\"5\": {\"8\": 399, \"5\": 559, \"15\": 66, \"9\": 70, \"7\": 104, \"0\": 1, \"12\": 1}, \"8\": {\"8\": 627, \"5\": 403, \"15\": 34, \"7\": 111, \"0\": 5, \"13\": 10, \"9\": 5, \"12\": 3, \"2\": 2}, \"11\": {\"11\": 1200}, \"1\": {\"1\": 1200}, \"10\": {\"10\": 1111, \"13\": 50, \"0\": 34, \"11\": 5}, \"15\": {\"15\": 1163, \"8\": 13, \"5\": 19, \"1\": 5}, \"3\": {\"3\": 1198, \"0\": 2}, \"7\": {\"7\": 1182, \"4\": 1, \"5\": 3, \"8\": 4, \"0\": 9, \"9\": 1}, \"4\": {\"4\": 1197, \"10\": 2, \"0\": 1}, \"14\": {\"14\": 1117, \"2\": 82, \"13\": 1}, \"9\": {\"9\": 1171, \"5\": 25, \"8\": 3, \"7\": 1}, \"12\": {\"12\": 1200}, \"6\": {\"6\": 1199, \"1\": 1}, \"2\": {\"2\": 1152, \"14\": 48}, \"0\": {\"13\": 36, \"0\": 831, \"7\": 129, \"3\": 123, \"10\": 79, \"4\": 1, \"8\": 1}, \"13\": {\"13\": 1114, \"0\": 9, \"10\": 73, \"2\": 3, \"14\": 1}}, \"ORACLE.run1_8\": {\"9\": {\"9\": 1200}, \"10\": {\"13\": 155, \"10\": 943, \"5\": 67, \"1\": 30, \"6\": 2, \"4\": 3}, \"13\": {\"13\": 989, \"10\": 126, \"5\": 9, \"6\": 30, \"7\": 44, \"1\": 2}, \"0\": {\"0\": 1200}, \"1\": {\"11\": 217, \"5\": 16, \"1\": 921, \"10\": 35, \"13\": 7, \"4\": 2, \"6\": 2}, \"15\": {\"15\": 1069, \"12\": 113, \"2\": 18}, \"5\": {\"5\": 935, \"10\": 155, \"1\": 69, \"11\": 18, \"14\": 10, \"13\": 5, \"4\": 8}, \"3\": {\"3\": 1199, \"2\": 1}, \"6\": {\"7\": 169, \"6\": 1011, \"13\": 14, \"1\": 2, \"10\": 3, \"8\": 1}, \"11\": {\"14\": 33, \"11\": 633, \"1\": 438, \"8\": 17, \"4\": 44, \"5\": 9, \"6\": 23, \"10\": 2, \"7\": 1}, \"8\": {\"8\": 1189, \"11\": 5, \"6\": 5, \"7\": 1}, \"4\": {\"4\": 1153, \"14\": 30, \"10\": 2, \"11\": 4, \"6\": 8, \"1\": 3}, \"12\": {\"12\": 953, \"15\": 247}, \"14\": {\"4\": 152, \"14\": 1039, \"11\": 9}, \"2\": {\"2\": 940, \"3\": 161, \"12\": 50, \"15\": 49}, \"7\": {\"7\": 1016, \"6\": 175, \"13\": 9}}, \"ORACLE.run1_50\": {\"7\": {\"7\": 1101, \"4\": 25, \"5\": 74}, \"3\": {\"3\": 1200}, \"8\": {\"8\": 1195, \"10\": 5}, \"2\": {\"2\": 1156, \"0\": 44}, \"14\": {\"14\": 1199, \"2\": 1}, \"4\": {\"4\": 1033, \"7\": 108, \"5\": 37, \"6\": 12, \"15\": 10}, \"6\": {\"6\": 1090, \"5\": 64, \"15\": 46}, \"15\": {\"15\": 1120, \"11\": 13, \"6\": 65, \"5\": 1, \"9\": 1}, \"10\": {\"10\": 1186, \"0\": 6, \"8\": 8}, \"11\": {\"11\": 1166, \"9\": 17, \"12\": 14, \"15\": 3}, \"13\": {\"13\": 1197, \"1\": 3}, \"9\": {\"9\": 1040, \"12\": 85, \"11\": 70, \"15\": 5}, \"0\": {\"0\": 1123, \"2\": 58, \"10\": 19}, \"1\": {\"1\": 1185, \"13\": 12, \"0\": 3}, \"12\": {\"12\": 1124, \"9\": 50, \"11\": 26}, \"5\": {\"6\": 214, \"7\": 342, \"5\": 518, \"13\": 58, \"4\": 60, \"1\": 4, \"15\": 4}}, \"ORACLE.run1_32\": {\"8\": {\"8\": 955, \"7\": 27, \"5\": 89, \"14\": 23, \"4\": 16, \"0\": 86, \"13\": 3, \"2\": 1}, \"14\": {\"5\": 50, \"14\": 706, \"7\": 330, \"2\": 30, \"0\": 42, \"8\": 22, \"4\": 19, \"13\": 1}, \"2\": {\"4\": 97, \"2\": 1101, \"14\": 1, \"0\": 1}, \"0\": {\"7\": 123, \"0\": 967, \"5\": 31, \"14\": 23, \"8\": 55, \"2\": 1}, \"1\": {\"1\": 1200}, \"10\": {\"10\": 1200}, \"11\": {\"11\": 1172, \"13\": 22, \"3\": 6}, \"5\": {\"5\": 691, \"14\": 60, \"8\": 111, \"7\": 253, \"0\": 84, \"15\": 1}, \"15\": {\"15\": 1196, \"8\": 4}, \"3\": {\"3\": 1139, \"11\": 4, \"13\": 57}, \"12\": {\"12\": 1199, \"9\": 1}, \"7\": {\"7\": 829, \"5\": 155, \"14\": 128, \"0\": 70, \"8\": 18}, \"13\": {\"3\": 133, \"13\": 917, \"11\": 34, \"4\": 116}, \"6\": {\"6\": 1200}, \"4\": {\"4\": 1053, \"2\": 116, \"13\": 31}, \"9\": {\"9\": 1198, \"12\": 2}}, \"ORACLE.run1_26\": {\"4\": {\"4\": 1200}, \"12\": {\"12\": 1200}, \"10\": {\"10\": 699, \"6\": 66, \"14\": 250, \"15\": 23, \"0\": 155, \"1\": 6, \"5\": 1}, \"0\": {\"8\": 5, \"10\": 209, \"0\": 780, \"14\": 184, \"15\": 4, \"2\": 8, \"1\": 3, \"6\": 7}, \"13\": {\"13\": 1056, \"4\": 6, \"9\": 86, \"2\": 28, \"3\": 15, \"8\": 5, \"12\": 1, \"7\": 3}, \"9\": {\"9\": 647, \"8\": 256, \"13\": 194, \"0\": 7, \"2\": 62, \"7\": 22, \"15\": 1, \"10\": 3, \"3\": 8}, \"3\": {\"3\": 1115, \"7\": 75, \"4\": 1, \"2\": 7, \"9\": 1, \"8\": 1}, \"2\": {\"2\": 737, \"0\": 64, \"7\": 186, \"3\": 51, \"8\": 65, \"9\": 69, \"15\": 16, \"14\": 3, \"13\": 4, \"10\": 5}, \"5\": {\"5\": 884, \"15\": 275, \"6\": 41}, \"14\": {\"14\": 688, \"1\": 41, \"0\": 162, \"10\": 293, \"6\": 11, \"15\": 5}, \"8\": {\"8\": 835, \"9\": 151, \"7\": 153, \"2\": 37, \"0\": 19, \"13\": 1, \"3\": 4}, \"7\": {\"9\": 21, \"7\": 937, \"8\": 101, \"2\": 94, \"3\": 47}, \"6\": {\"15\": 167, \"6\": 930, \"10\": 46, \"5\": 46, \"1\": 9, \"14\": 2}, \"11\": {\"11\": 1198, \"12\": 1, \"6\": 1}, \"15\": {\"15\": 637, \"5\": 321, \"10\": 34, \"6\": 195, \"0\": 3, \"1\": 4, \"14\": 6}, \"1\": {\"1\": 954, \"14\": 143, \"10\": 73, \"6\": 23, \"5\": 2, \"15\": 4, \"0\": 1}}, \"ORACLE.run1_44\": {\"12\": {\"12\": 1174, \"3\": 26}, \"7\": {\"7\": 1064, \"10\": 7, \"9\": 127, \"6\": 2}, \"5\": {\"5\": 1048, \"14\": 40, \"15\": 101, \"0\": 1, \"4\": 3, \"8\": 7}, \"15\": {\"15\": 1050, \"5\": 40, \"4\": 3, \"14\": 68, \"8\": 25, \"0\": 14}, \"8\": {\"8\": 850, \"0\": 292, \"5\": 21, \"15\": 37}, \"2\": {\"2\": 1164, \"1\": 34, \"9\": 1, \"10\": 1}, \"13\": {\"13\": 990, \"6\": 163, \"9\": 20, \"11\": 27}, \"4\": {\"4\": 774, \"14\": 382, \"9\": 7, \"15\": 32, \"13\": 2, \"5\": 3}, \"0\": {\"0\": 1064, \"8\": 136}, \"6\": {\"6\": 1027, \"13\": 138, \"9\": 33, \"7\": 2}, \"9\": {\"9\": 541, \"6\": 199, \"7\": 347, \"13\": 93, \"2\": 16, \"4\": 3, \"14\": 1}, \"11\": {\"11\": 1199, \"13\": 1}, \"10\": {\"10\": 1136, \"1\": 23, \"2\": 20, \"7\": 21}, \"14\": {\"14\": 885, \"5\": 55, \"4\": 227, \"15\": 33}, \"1\": {\"1\": 1131, \"2\": 69}, \"3\": {\"3\": 1180, \"12\": 20}}}, \"per_domain_accuracy\": {\"ORACLE.run2_14\": {\"accuracy\": 0.92265625, \"source?\": true}, \"ORACLE.run2_20\": {\"accuracy\": 0.80390625, \"source?\": true}, \"ORACLE.run2_38\": {\"accuracy\": 0.89734375, \"source?\": true}, \"ORACLE.run2_8\": {\"accuracy\": 0.92703125, \"source?\": true}, \"ORACLE.run2_50\": {\"accuracy\": 0.95078125, \"source?\": true}, \"ORACLE.run2_32\": {\"accuracy\": 0.9036979166666667, \"source?\": true}, \"ORACLE.run2_26\": {\"accuracy\": 0.8138541666666667, \"source?\": true}, \"ORACLE.run2_44\": {\"accuracy\": 0.9132291666666666, \"source?\": true}, \"ORACLE.run1_14\": {\"accuracy\": 0.8653645833333333, \"source?\": false}, \"ORACLE.run1_20\": {\"accuracy\": 0.8494270833333334, \"source?\": false}, \"ORACLE.run1_38\": {\"accuracy\": 0.8969270833333334, \"source?\": false}, \"ORACLE.run1_8\": {\"accuracy\": 0.8536458333333333, \"source?\": false}, \"ORACLE.run1_50\": {\"accuracy\": 0.9183854166666666, \"source?\": false}, \"ORACLE.run1_32\": {\"accuracy\": 0.8709895833333333, \"source?\": false}, \"ORACLE.run1_26\": {\"accuracy\": 0.7550520833333333, \"source?\": false}, \"ORACLE.run1_44\": {\"accuracy\": 0.8477604166666667, \"source?\": false}}}, \"history\": {\"epoch_indices\": [1, 2, 3, 4, 5, 6, 7, 8, 9], \"train_label_loss\": [0.6325767685533945, 0.38912556996441533, 0.31367124935770074, 0.27481378238831117, 0.24410859106423144, 0.21869120395153352, 0.19753250569033082, 0.17813996037766283, 0.16140767429664352], \"source_val_label_loss\": [1.1083427667617798, 0.3728424906730652, 0.33992505073547363, 0.31908634305000305, 0.3087384104728699, 0.299580842256546, 0.31250616908073425, 0.30715879797935486, 0.3111978769302368], \"target_val_label_loss\": [1.093396782875061, 0.46502527594566345, 0.4327799081802368, 0.4539985656738281, 0.4590153098106384, 0.4683826267719269, 0.49605703353881836, 0.516689658164978, 0.5324471592903137], \"source_val_acc_label\": [0.73185546875, 0.8756770833333334, 0.8819921875, 0.8869205729166667, 0.8915625, 0.8939583333333333, 0.89169921875, 0.8935677083333333, 0.894609375], \"target_val_acc_label\": [0.7149674479166667, 0.85193359375, 0.8551692708333334, 0.85626953125, 0.8571940104166667, 0.8558723958333333, 0.85134765625, 0.8504166666666667, 0.85134765625]}, \"dataset_metrics\": {\"source\": {\"train\": {\"n_unique_x\": 896000, \"n_unique_y\": 16, \"n_batch/episode\": 33600}, \"val\": {\"n_unique_x\": 192000, \"n_unique_y\": 16, \"n_batch/episode\": 4800}, \"test\": {\"n_unique_x\": 192000, \"n_unique_y\": 16, \"n_batch/episode\": 4800}}, \"target\": {\"train\": {\"n_unique_x\": 896000, \"n_unique_y\": 16, \"n_batch/episode\": 33600}, \"val\": {\"n_unique_x\": 192000, \"n_unique_y\": 16, \"n_batch/episode\": 4800}, \"test\": {\"n_unique_x\": 192000, \"n_unique_y\": 16, \"n_batch/episode\": 4800}}}}'"
      ]
     },
     "execution_count": 29,
     "metadata": {},
     "output_type": "execute_result"
    }
   ],
   "source": [
    "json.dumps(experiment)"
   ]
  }
 ],
 "metadata": {
  "celltoolbar": "Tags",
  "kernelspec": {
   "display_name": "Python 3 (ipykernel)",
   "language": "python",
   "name": "python3"
  },
  "language_info": {
   "codemirror_mode": {
    "name": "ipython",
    "version": 3
   },
   "file_extension": ".py",
   "mimetype": "text/x-python",
   "name": "python",
   "nbconvert_exporter": "python",
   "pygments_lexer": "ipython3",
   "version": "3.8.10"
  },
  "papermill": {
   "default_parameters": {},
   "duration": 8742.958665,
   "end_time": "2022-03-23T21:20:40.827887",
   "environment_variables": {},
   "exception": null,
   "input_path": "/mnt/wd500GB/CSC500/csc500-main/csc500-notebooks/templates/tl_ptn_template.ipynb",
   "output_path": "trial.ipynb",
   "parameters": {
    "parameters": {
     "BEST_MODEL_PATH": "./best_model.pth",
     "NUM_LOGS_PER_EPOCH": 10,
     "criteria_for_best": "target_accuracy",
     "dataset_seed": 1337,
     "datasets": [
      {
       "domain_prefix": "ORACLE.run1_",
       "domains": [
        32,
        38,
        8,
        44,
        14,
        50,
        20,
        26
       ],
       "episode_transforms": [],
       "labels": [
        "3123D52",
        "3123D65",
        "3123D79",
        "3123D80",
        "3123D54",
        "3123D70",
        "3123D7B",
        "3123D89",
        "3123D58",
        "3123D76",
        "3123D7D",
        "3123EFE",
        "3123D64",
        "3123D78",
        "3123D7E",
        "3124E4A"
       ],
       "num_examples_per_domain_per_label": 10000,
       "pickle_path": "/mnt/wd500GB/CSC500/csc500-main/datasets/oracle.Run1_10kExamples_stratified_ds.2022A.pkl",
       "source_or_target_dataset": "target",
       "x_transforms": []
      },
      {
       "domain_prefix": "ORACLE.run2_",
       "domains": [
        32,
        38,
        8,
        44,
        14,
        50,
        20,
        26
       ],
       "episode_transforms": [],
       "labels": [
        "3123D52",
        "3123D65",
        "3123D79",
        "3123D80",
        "3123D54",
        "3123D70",
        "3123D7B",
        "3123D89",
        "3123D58",
        "3123D76",
        "3123D7D",
        "3123EFE",
        "3123D64",
        "3123D78",
        "3123D7E",
        "3124E4A"
       ],
       "num_examples_per_domain_per_label": 10000,
       "pickle_path": "/mnt/wd500GB/CSC500/csc500-main/datasets/oracle.Run2_10kExamples_stratified_ds.2022A.pkl",
       "source_or_target_dataset": "source",
       "x_transforms": []
      }
     ],
     "device": "cuda",
     "experiment_name": "tl_1v2:oracle.run1-oracle.run2",
     "lr": 0.0001,
     "n_epoch": 50,
     "n_query": 2,
     "n_shot": 3,
     "n_way": 16,
     "patience": 3,
     "seed": 1337,
     "test_k_factor": 2,
     "torch_default_dtype": "torch.float32",
     "train_k_factor": 3,
     "val_k_factor": 2,
     "x_net": [
      {
       "class": "nnReshape",
       "kargs": {
        "shape": [
         -1,
         1,
         2,
         256
        ]
       }
      },
      {
       "class": "Conv2d",
       "kargs": {
        "bias": false,
        "in_channels": 1,
        "kernel_size": [
         1,
         7
        ],
        "out_channels": 256,
        "padding": [
         0,
         3
        ]
       }
      },
      {
       "class": "ReLU",
       "kargs": {
        "inplace": true
       }
      },
      {
       "class": "BatchNorm2d",
       "kargs": {
        "num_features": 256
       }
      },
      {
       "class": "Conv2d",
       "kargs": {
        "bias": true,
        "in_channels": 256,
        "kernel_size": [
         2,
         7
        ],
        "out_channels": 80,
        "padding": [
         0,
         3
        ]
       }
      },
      {
       "class": "ReLU",
       "kargs": {
        "inplace": true
       }
      },
      {
       "class": "BatchNorm2d",
       "kargs": {
        "num_features": 80
       }
      },
      {
       "class": "Flatten",
       "kargs": {}
      },
      {
       "class": "Linear",
       "kargs": {
        "in_features": 20480,
        "out_features": 256
       }
      },
      {
       "class": "ReLU",
       "kargs": {
        "inplace": true
       }
      },
      {
       "class": "BatchNorm1d",
       "kargs": {
        "num_features": 256
       }
      },
      {
       "class": "Linear",
       "kargs": {
        "in_features": 256,
        "out_features": 256
       }
      }
     ]
    }
   },
   "start_time": "2022-03-23T18:54:57.869222",
   "version": "2.3.4"
  }
 },
 "nbformat": 4,
 "nbformat_minor": 5
}