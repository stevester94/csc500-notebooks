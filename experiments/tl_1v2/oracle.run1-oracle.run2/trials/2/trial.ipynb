{
 "cells": [
  {
   "cell_type": "markdown",
   "id": "9fea5f46",
   "metadata": {
    "papermill": {
     "duration": 0.018209,
     "end_time": "2022-03-23T10:31:50.196769",
     "exception": false,
     "start_time": "2022-03-23T10:31:50.178560",
     "status": "completed"
    },
    "tags": []
   },
   "source": [
    "# Transfer Learning Template"
   ]
  },
  {
   "cell_type": "code",
   "execution_count": 1,
   "id": "0902182a",
   "metadata": {
    "execution": {
     "iopub.execute_input": "2022-03-23T10:31:50.234947Z",
     "iopub.status.busy": "2022-03-23T10:31:50.233399Z",
     "iopub.status.idle": "2022-03-23T10:31:51.409990Z",
     "shell.execute_reply": "2022-03-23T10:31:51.410226Z"
    },
    "papermill": {
     "duration": 1.201265,
     "end_time": "2022-03-23T10:31:51.410350",
     "exception": false,
     "start_time": "2022-03-23T10:31:50.209085",
     "status": "completed"
    },
    "tags": []
   },
   "outputs": [],
   "source": [
    "%load_ext autoreload\n",
    "%autoreload 2\n",
    "%matplotlib inline\n",
    "\n",
    "    \n",
    "import os, json, sys, time, random\n",
    "import numpy as np\n",
    "import torch\n",
    "from torch.optim import Adam\n",
    "from  easydict import EasyDict\n",
    "import matplotlib.pyplot as plt\n",
    "\n",
    "from steves_models.steves_ptn import Steves_Prototypical_Network\n",
    "\n",
    "from steves_utils.lazy_iterable_wrapper import Lazy_Iterable_Wrapper\n",
    "from steves_utils.iterable_aggregator import Iterable_Aggregator\n",
    "from steves_utils.ptn_train_eval_test_jig import  PTN_Train_Eval_Test_Jig\n",
    "from steves_utils.torch_sequential_builder import build_sequential\n",
    "from steves_utils.torch_utils import get_dataset_metrics, ptn_confusion_by_domain_over_dataloader\n",
    "from steves_utils.utils_v2 import (per_domain_accuracy_from_confusion, get_datasets_base_path)\n",
    "from steves_utils.PTN.utils import independent_accuracy_assesment\n",
    "\n",
    "from torch.utils.data import DataLoader\n",
    "\n",
    "from steves_utils.stratified_dataset.episodic_accessor import Episodic_Accessor_Factory\n",
    "\n",
    "from steves_utils.ptn_do_report import (\n",
    "    get_loss_curve,\n",
    "    get_results_table,\n",
    "    get_parameters_table,\n",
    "    get_domain_accuracies,\n",
    ")\n",
    "\n",
    "from steves_utils.transforms import get_chained_transform"
   ]
  },
  {
   "cell_type": "markdown",
   "id": "41c840b4",
   "metadata": {
    "papermill": {
     "duration": 0.012095,
     "end_time": "2022-03-23T10:31:51.435581",
     "exception": false,
     "start_time": "2022-03-23T10:31:51.423486",
     "status": "completed"
    },
    "tags": []
   },
   "source": [
    "# Allowed Parameters\n",
    "These are allowed parameters, not defaults\n",
    "Each of these values need to be present in the injected parameters (the notebook will raise an exception if they are not present)\n",
    "\n",
    "Papermill uses the cell tag \"parameters\" to inject the real parameters below this cell.\n",
    "Enable tags to see what I mean"
   ]
  },
  {
   "cell_type": "code",
   "execution_count": 2,
   "id": "fd44eb83",
   "metadata": {
    "execution": {
     "iopub.execute_input": "2022-03-23T10:31:51.462772Z",
     "iopub.status.busy": "2022-03-23T10:31:51.461376Z",
     "iopub.status.idle": "2022-03-23T10:31:51.476816Z",
     "shell.execute_reply": "2022-03-23T10:31:51.477184Z"
    },
    "papermill": {
     "duration": 0.029491,
     "end_time": "2022-03-23T10:31:51.477289",
     "exception": false,
     "start_time": "2022-03-23T10:31:51.447798",
     "status": "completed"
    },
    "tags": []
   },
   "outputs": [],
   "source": [
    "required_parameters = {\n",
    "    \"experiment_name\",\n",
    "    \"lr\",\n",
    "    \"device\",\n",
    "    \"seed\",\n",
    "    \"dataset_seed\",\n",
    "    \"n_shot\",\n",
    "    \"n_query\",\n",
    "    \"n_way\",\n",
    "    \"train_k_factor\",\n",
    "    \"val_k_factor\",\n",
    "    \"test_k_factor\",\n",
    "    \"n_epoch\",\n",
    "    \"patience\",\n",
    "    \"criteria_for_best\",\n",
    "    \"x_net\",\n",
    "    \"datasets\",\n",
    "    \"torch_default_dtype\",\n",
    "    \"NUM_LOGS_PER_EPOCH\",\n",
    "    \"BEST_MODEL_PATH\",\n",
    "    \"x_shape\",\n",
    "}"
   ]
  },
  {
   "cell_type": "code",
   "execution_count": 3,
   "id": "fa3f0049",
   "metadata": {
    "execution": {
     "iopub.execute_input": "2022-03-23T10:31:51.516095Z",
     "iopub.status.busy": "2022-03-23T10:31:51.515823Z",
     "iopub.status.idle": "2022-03-23T10:31:51.528629Z",
     "shell.execute_reply": "2022-03-23T10:31:51.528917Z"
    },
    "papermill": {
     "duration": 0.03484,
     "end_time": "2022-03-23T10:31:51.528999",
     "exception": false,
     "start_time": "2022-03-23T10:31:51.494159",
     "status": "completed"
    },
    "tags": [
     "parameters"
    ]
   },
   "outputs": [],
   "source": [
    "from steves_utils.CORES.utils import (\n",
    "    ALL_NODES,\n",
    "    ALL_NODES_MINIMUM_1000_EXAMPLES,\n",
    "    ALL_DAYS\n",
    ")\n",
    "\n",
    "from steves_utils.ORACLE.utils_v2 import (\n",
    "    ALL_DISTANCES_FEET_NARROWED,\n",
    "    ALL_RUNS,\n",
    "    ALL_SERIAL_NUMBERS,\n",
    ")\n",
    "\n",
    "standalone_parameters = {}\n",
    "standalone_parameters[\"experiment_name\"] = \"STANDALONE PTN\"\n",
    "standalone_parameters[\"lr\"] = 0.001\n",
    "standalone_parameters[\"device\"] = \"cuda\"\n",
    "\n",
    "standalone_parameters[\"seed\"] = 1337\n",
    "standalone_parameters[\"dataset_seed\"] = 1337\n",
    "\n",
    "standalone_parameters[\"n_way\"] = 8\n",
    "standalone_parameters[\"n_shot\"] = 3\n",
    "standalone_parameters[\"n_query\"]  = 2\n",
    "standalone_parameters[\"train_k_factor\"] = 1\n",
    "standalone_parameters[\"val_k_factor\"] = 2\n",
    "standalone_parameters[\"test_k_factor\"] = 2\n",
    "\n",
    "\n",
    "standalone_parameters[\"n_epoch\"] = 50\n",
    "\n",
    "standalone_parameters[\"patience\"] = 10\n",
    "standalone_parameters[\"criteria_for_best\"] = \"source_loss\"\n",
    "\n",
    "standalone_parameters[\"datasets\"] = [\n",
    "    {\n",
    "        \"labels\": ALL_SERIAL_NUMBERS,\n",
    "        \"domains\": ALL_DISTANCES_FEET_NARROWED,\n",
    "        \"num_examples_per_domain_per_label\": 100,\n",
    "        \"pickle_path\": os.path.join(get_datasets_base_path(), \"oracle.Run1_framed_2000Examples_stratified_ds.2022A.pkl\"),\n",
    "        \"source_or_target_dataset\": \"source\",\n",
    "        \"x_transforms\": [\"unit_mag\", \"minus_two\"],\n",
    "        \"episode_transforms\": [],\n",
    "        \"domain_prefix\": \"ORACLE_\"\n",
    "    },\n",
    "    {\n",
    "        \"labels\": ALL_NODES,\n",
    "        \"domains\": ALL_DAYS,\n",
    "        \"num_examples_per_domain_per_label\": 100,\n",
    "        \"pickle_path\": os.path.join(get_datasets_base_path(), \"cores.stratified_ds.2022A.pkl\"),\n",
    "        \"source_or_target_dataset\": \"target\",\n",
    "        \"x_transforms\": [\"unit_power\", \"times_zero\"],\n",
    "        \"episode_transforms\": [],\n",
    "        \"domain_prefix\": \"CORES_\"\n",
    "    }   \n",
    "]\n",
    "\n",
    "standalone_parameters[\"torch_default_dtype\"] = \"torch.float32\" \n",
    "\n",
    "\n",
    "\n",
    "standalone_parameters[\"x_net\"] =     [\n",
    "    {\"class\": \"nnReshape\", \"kargs\": {\"shape\":[-1, 1, 2, 256]}},\n",
    "    {\"class\": \"Conv2d\", \"kargs\": { \"in_channels\":1, \"out_channels\":256, \"kernel_size\":(1,7), \"bias\":False, \"padding\":(0,3), },},\n",
    "    {\"class\": \"ReLU\", \"kargs\": {\"inplace\": True}},\n",
    "    {\"class\": \"BatchNorm2d\", \"kargs\": {\"num_features\":256}},\n",
    "\n",
    "    {\"class\": \"Conv2d\", \"kargs\": { \"in_channels\":256, \"out_channels\":80, \"kernel_size\":(2,7), \"bias\":True, \"padding\":(0,3), },},\n",
    "    {\"class\": \"ReLU\", \"kargs\": {\"inplace\": True}},\n",
    "    {\"class\": \"BatchNorm2d\", \"kargs\": {\"num_features\":80}},\n",
    "    {\"class\": \"Flatten\", \"kargs\": {}},\n",
    "\n",
    "    {\"class\": \"Linear\", \"kargs\": {\"in_features\": 80*256, \"out_features\": 256}}, # 80 units per IQ pair\n",
    "    {\"class\": \"ReLU\", \"kargs\": {\"inplace\": True}},\n",
    "    {\"class\": \"BatchNorm1d\", \"kargs\": {\"num_features\":256}},\n",
    "\n",
    "    {\"class\": \"Linear\", \"kargs\": {\"in_features\": 256, \"out_features\": 256}},\n",
    "]\n",
    "\n",
    "# Parameters relevant to results\n",
    "# These parameters will basically never need to change\n",
    "standalone_parameters[\"NUM_LOGS_PER_EPOCH\"] = 10\n",
    "standalone_parameters[\"BEST_MODEL_PATH\"] = \"./best_model.pth\"\n",
    "\n",
    "\n",
    "\n",
    "\n"
   ]
  },
  {
   "cell_type": "code",
   "execution_count": 4,
   "id": "d61a4b03",
   "metadata": {
    "execution": {
     "iopub.execute_input": "2022-03-23T10:31:51.566694Z",
     "iopub.status.busy": "2022-03-23T10:31:51.564563Z",
     "iopub.status.idle": "2022-03-23T10:31:51.579675Z",
     "shell.execute_reply": "2022-03-23T10:31:51.579964Z"
    },
    "papermill": {
     "duration": 0.034533,
     "end_time": "2022-03-23T10:31:51.580045",
     "exception": false,
     "start_time": "2022-03-23T10:31:51.545512",
     "status": "completed"
    },
    "tags": [
     "injected-parameters"
    ]
   },
   "outputs": [],
   "source": [
    "# Parameters\n",
    "parameters = {\n",
    "    \"experiment_name\": \"tl_1v2:oracle.run1-oracle.run2\",\n",
    "    \"device\": \"cuda\",\n",
    "    \"lr\": 0.0001,\n",
    "    \"n_shot\": 3,\n",
    "    \"n_query\": 2,\n",
    "    \"train_k_factor\": 3,\n",
    "    \"val_k_factor\": 2,\n",
    "    \"test_k_factor\": 2,\n",
    "    \"torch_default_dtype\": \"torch.float32\",\n",
    "    \"n_epoch\": 50,\n",
    "    \"patience\": 3,\n",
    "    \"criteria_for_best\": \"target_accuracy\",\n",
    "    \"x_net\": [\n",
    "        {\"class\": \"nnReshape\", \"kargs\": {\"shape\": [-1, 1, 2, 256]}},\n",
    "        {\n",
    "            \"class\": \"Conv2d\",\n",
    "            \"kargs\": {\n",
    "                \"in_channels\": 1,\n",
    "                \"out_channels\": 256,\n",
    "                \"kernel_size\": [1, 7],\n",
    "                \"bias\": False,\n",
    "                \"padding\": [0, 3],\n",
    "            },\n",
    "        },\n",
    "        {\"class\": \"ReLU\", \"kargs\": {\"inplace\": True}},\n",
    "        {\"class\": \"BatchNorm2d\", \"kargs\": {\"num_features\": 256}},\n",
    "        {\n",
    "            \"class\": \"Conv2d\",\n",
    "            \"kargs\": {\n",
    "                \"in_channels\": 256,\n",
    "                \"out_channels\": 80,\n",
    "                \"kernel_size\": [2, 7],\n",
    "                \"bias\": True,\n",
    "                \"padding\": [0, 3],\n",
    "            },\n",
    "        },\n",
    "        {\"class\": \"ReLU\", \"kargs\": {\"inplace\": True}},\n",
    "        {\"class\": \"BatchNorm2d\", \"kargs\": {\"num_features\": 80}},\n",
    "        {\"class\": \"Flatten\", \"kargs\": {}},\n",
    "        {\"class\": \"Linear\", \"kargs\": {\"in_features\": 20480, \"out_features\": 256}},\n",
    "        {\"class\": \"ReLU\", \"kargs\": {\"inplace\": True}},\n",
    "        {\"class\": \"BatchNorm1d\", \"kargs\": {\"num_features\": 256}},\n",
    "        {\"class\": \"Linear\", \"kargs\": {\"in_features\": 256, \"out_features\": 256}},\n",
    "    ],\n",
    "    \"NUM_LOGS_PER_EPOCH\": 10,\n",
    "    \"BEST_MODEL_PATH\": \"./best_model.pth\",\n",
    "    \"n_way\": 16,\n",
    "    \"datasets\": [\n",
    "        {\n",
    "            \"labels\": [\n",
    "                \"3123D52\",\n",
    "                \"3123D65\",\n",
    "                \"3123D79\",\n",
    "                \"3123D80\",\n",
    "                \"3123D54\",\n",
    "                \"3123D70\",\n",
    "                \"3123D7B\",\n",
    "                \"3123D89\",\n",
    "                \"3123D58\",\n",
    "                \"3123D76\",\n",
    "                \"3123D7D\",\n",
    "                \"3123EFE\",\n",
    "                \"3123D64\",\n",
    "                \"3123D78\",\n",
    "                \"3123D7E\",\n",
    "                \"3124E4A\",\n",
    "            ],\n",
    "            \"domains\": [32, 38, 8, 44, 14, 50, 20, 26],\n",
    "            \"num_examples_per_domain_per_label\": 10000,\n",
    "            \"pickle_path\": \"/mnt/wd500GB/CSC500/csc500-main/datasets/oracle.Run1_10kExamples_stratified_ds.2022A.pkl\",\n",
    "            \"source_or_target_dataset\": \"source\",\n",
    "            \"x_transforms\": [],\n",
    "            \"episode_transforms\": [],\n",
    "            \"domain_prefix\": \"ORACLE.run1_\",\n",
    "        },\n",
    "        {\n",
    "            \"labels\": [\n",
    "                \"3123D52\",\n",
    "                \"3123D65\",\n",
    "                \"3123D79\",\n",
    "                \"3123D80\",\n",
    "                \"3123D54\",\n",
    "                \"3123D70\",\n",
    "                \"3123D7B\",\n",
    "                \"3123D89\",\n",
    "                \"3123D58\",\n",
    "                \"3123D76\",\n",
    "                \"3123D7D\",\n",
    "                \"3123EFE\",\n",
    "                \"3123D64\",\n",
    "                \"3123D78\",\n",
    "                \"3123D7E\",\n",
    "                \"3124E4A\",\n",
    "            ],\n",
    "            \"domains\": [32, 38, 8, 44, 14, 50, 20, 26],\n",
    "            \"num_examples_per_domain_per_label\": 10000,\n",
    "            \"pickle_path\": \"/mnt/wd500GB/CSC500/csc500-main/datasets/oracle.Run2_10kExamples_stratified_ds.2022A.pkl\",\n",
    "            \"source_or_target_dataset\": \"target\",\n",
    "            \"x_transforms\": [],\n",
    "            \"episode_transforms\": [],\n",
    "            \"domain_prefix\": \"ORACLE.run2_\",\n",
    "        },\n",
    "    ],\n",
    "    \"dataset_seed\": 1337,\n",
    "    \"seed\": 1337,\n",
    "}\n"
   ]
  },
  {
   "cell_type": "code",
   "execution_count": 5,
   "id": "8fa1cc33",
   "metadata": {
    "execution": {
     "iopub.execute_input": "2022-03-23T10:31:51.613967Z",
     "iopub.status.busy": "2022-03-23T10:31:51.611441Z",
     "iopub.status.idle": "2022-03-23T10:31:51.628034Z",
     "shell.execute_reply": "2022-03-23T10:31:51.628400Z"
    },
    "papermill": {
     "duration": 0.030742,
     "end_time": "2022-03-23T10:31:51.628503",
     "exception": false,
     "start_time": "2022-03-23T10:31:51.597761",
     "status": "completed"
    },
    "tags": []
   },
   "outputs": [],
   "source": [
    "# Set this to True if you want to run this template directly\n",
    "STANDALONE = False\n",
    "if STANDALONE:\n",
    "    print(\"parameters not injected, running with standalone_parameters\")\n",
    "    parameters = standalone_parameters\n",
    "\n",
    "if not 'parameters' in locals() and not 'parameters' in globals():\n",
    "    raise Exception(\"Parameter injection failed\")\n",
    "\n",
    "#Use an easy dict for all the parameters\n",
    "p = EasyDict(parameters)\n",
    "\n",
    "if \"x_shape\" not in p:\n",
    "    p.x_shape = [2,256] # Default to this if we dont supply x_shape\n",
    "\n",
    "\n",
    "supplied_keys = set(p.keys())\n",
    "\n",
    "if  supplied_keys != required_parameters:\n",
    "    print(\"Parameters are incorrect\")\n",
    "    if len(supplied_keys - required_parameters)>0: print(\"Shouldn't have:\", str(supplied_keys - required_parameters))\n",
    "    if len(required_parameters - supplied_keys)>0: print(\"Need to have:\", str(required_parameters - supplied_keys))\n",
    "    raise RuntimeError(\"Parameters are incorrect\")"
   ]
  },
  {
   "cell_type": "code",
   "execution_count": 6,
   "id": "3a028d58",
   "metadata": {
    "execution": {
     "iopub.execute_input": "2022-03-23T10:31:51.660604Z",
     "iopub.status.busy": "2022-03-23T10:31:51.660358Z",
     "iopub.status.idle": "2022-03-23T10:31:51.675080Z",
     "shell.execute_reply": "2022-03-23T10:31:51.674695Z"
    },
    "papermill": {
     "duration": 0.029497,
     "end_time": "2022-03-23T10:31:51.675167",
     "exception": false,
     "start_time": "2022-03-23T10:31:51.645670",
     "status": "completed"
    },
    "tags": []
   },
   "outputs": [],
   "source": [
    "###################################\n",
    "# Set the RNGs and make it all deterministic\n",
    "###################################\n",
    "np.random.seed(p.seed)\n",
    "random.seed(p.seed)\n",
    "torch.manual_seed(p.seed)\n",
    "\n",
    "torch.use_deterministic_algorithms(True) "
   ]
  },
  {
   "cell_type": "code",
   "execution_count": 7,
   "id": "b691acf6",
   "metadata": {
    "execution": {
     "iopub.execute_input": "2022-03-23T10:31:51.707660Z",
     "iopub.status.busy": "2022-03-23T10:31:51.707420Z",
     "iopub.status.idle": "2022-03-23T10:31:51.721964Z",
     "shell.execute_reply": "2022-03-23T10:31:51.721758Z"
    },
    "papermill": {
     "duration": 0.029034,
     "end_time": "2022-03-23T10:31:51.722022",
     "exception": false,
     "start_time": "2022-03-23T10:31:51.692988",
     "status": "completed"
    },
    "tags": []
   },
   "outputs": [],
   "source": [
    "###########################################\n",
    "# The stratified datasets honor this\n",
    "###########################################\n",
    "torch.set_default_dtype(eval(p.torch_default_dtype))"
   ]
  },
  {
   "cell_type": "code",
   "execution_count": 8,
   "id": "b5fba671",
   "metadata": {
    "execution": {
     "iopub.execute_input": "2022-03-23T10:31:51.752828Z",
     "iopub.status.busy": "2022-03-23T10:31:51.752582Z",
     "iopub.status.idle": "2022-03-23T10:31:51.791156Z",
     "shell.execute_reply": "2022-03-23T10:31:51.790771Z"
    },
    "papermill": {
     "duration": 0.052994,
     "end_time": "2022-03-23T10:31:51.791243",
     "exception": false,
     "start_time": "2022-03-23T10:31:51.738249",
     "status": "completed"
    },
    "tags": []
   },
   "outputs": [],
   "source": [
    "###################################\n",
    "# Build the network(s)\n",
    "# Note: It's critical to do this AFTER setting the RNG\n",
    "###################################\n",
    "x_net = build_sequential(p.x_net)"
   ]
  },
  {
   "cell_type": "code",
   "execution_count": 9,
   "id": "5d7e61cc",
   "metadata": {
    "execution": {
     "iopub.execute_input": "2022-03-23T10:31:51.826227Z",
     "iopub.status.busy": "2022-03-23T10:31:51.825964Z",
     "iopub.status.idle": "2022-03-23T10:31:51.840963Z",
     "shell.execute_reply": "2022-03-23T10:31:51.840580Z"
    },
    "papermill": {
     "duration": 0.029796,
     "end_time": "2022-03-23T10:31:51.841048",
     "exception": false,
     "start_time": "2022-03-23T10:31:51.811252",
     "status": "completed"
    },
    "tags": []
   },
   "outputs": [],
   "source": [
    "start_time_secs = time.time()"
   ]
  },
  {
   "cell_type": "code",
   "execution_count": 10,
   "id": "c6b67dfd",
   "metadata": {
    "execution": {
     "iopub.execute_input": "2022-03-23T10:31:51.873087Z",
     "iopub.status.busy": "2022-03-23T10:31:51.872843Z",
     "iopub.status.idle": "2022-03-23T10:31:51.882682Z",
     "shell.execute_reply": "2022-03-23T10:31:51.882881Z"
    },
    "papermill": {
     "duration": 0.024485,
     "end_time": "2022-03-23T10:31:51.882938",
     "exception": false,
     "start_time": "2022-03-23T10:31:51.858453",
     "status": "completed"
    },
    "tags": []
   },
   "outputs": [],
   "source": [
    "p.domains_source = []\n",
    "p.domains_target = []\n",
    "\n",
    "\n",
    "train_original_source = []\n",
    "val_original_source   = []\n",
    "test_original_source  = []\n",
    "\n",
    "train_original_target = []\n",
    "val_original_target   = []\n",
    "test_original_target  = []"
   ]
  },
  {
   "cell_type": "code",
   "execution_count": 11,
   "id": "e3d9c3d3",
   "metadata": {
    "execution": {
     "iopub.execute_input": "2022-03-23T10:31:51.914799Z",
     "iopub.status.busy": "2022-03-23T10:31:51.914560Z",
     "iopub.status.idle": "2022-03-23T10:31:51.923607Z",
     "shell.execute_reply": "2022-03-23T10:31:51.923263Z"
    },
    "papermill": {
     "duration": 0.023986,
     "end_time": "2022-03-23T10:31:51.923676",
     "exception": false,
     "start_time": "2022-03-23T10:31:51.899690",
     "status": "completed"
    },
    "tags": []
   },
   "outputs": [],
   "source": [
    "# global_x_transform_func = lambda x: normalize(x.to(torch.get_default_dtype()), \"unit_power\") # unit_power, unit_mag\n",
    "# global_x_transform_func = lambda x: normalize(x, \"unit_power\") # unit_power, unit_mag"
   ]
  },
  {
   "cell_type": "code",
   "execution_count": 12,
   "id": "acb78fd2",
   "metadata": {
    "execution": {
     "iopub.execute_input": "2022-03-23T10:31:51.958937Z",
     "iopub.status.busy": "2022-03-23T10:31:51.958652Z",
     "iopub.status.idle": "2022-03-23T10:31:51.970932Z",
     "shell.execute_reply": "2022-03-23T10:31:51.970546Z"
    },
    "papermill": {
     "duration": 0.029613,
     "end_time": "2022-03-23T10:31:51.971019",
     "exception": false,
     "start_time": "2022-03-23T10:31:51.941406",
     "status": "completed"
    },
    "tags": []
   },
   "outputs": [],
   "source": [
    "def add_dataset(\n",
    "    labels,\n",
    "    domains,\n",
    "    pickle_path,\n",
    "    x_transforms,\n",
    "    episode_transforms,\n",
    "    domain_prefix,\n",
    "    num_examples_per_domain_per_label,\n",
    "    source_or_target_dataset:str,\n",
    "    iterator_seed=p.seed,\n",
    "    dataset_seed=p.dataset_seed,\n",
    "    n_shot=p.n_shot,\n",
    "    n_way=p.n_way,\n",
    "    n_query=p.n_query,\n",
    "    train_val_test_k_factors=(p.train_k_factor,p.val_k_factor,p.test_k_factor),\n",
    "):\n",
    "   \n",
    "    if x_transforms == []: x_transform = None\n",
    "    else: x_transform = get_chained_transform(x_transforms)\n",
    "    \n",
    "    if episode_transforms == []: episode_transform = None\n",
    "    else: raise Exception(\"episode_transforms not implemented\")\n",
    "    \n",
    "    episode_transform = lambda tup, _prefix=domain_prefix: (_prefix + str(tup[0]), tup[1])\n",
    "\n",
    "\n",
    "    eaf = Episodic_Accessor_Factory(\n",
    "        labels=labels,\n",
    "        domains=domains,\n",
    "        num_examples_per_domain_per_label=num_examples_per_domain_per_label,\n",
    "        iterator_seed=iterator_seed,\n",
    "        dataset_seed=dataset_seed,\n",
    "        n_shot=n_shot,\n",
    "        n_way=n_way,\n",
    "        n_query=n_query,\n",
    "        train_val_test_k_factors=train_val_test_k_factors,\n",
    "        pickle_path=pickle_path,\n",
    "        x_transform_func=x_transform,\n",
    "    )\n",
    "\n",
    "    train, val, test = eaf.get_train(), eaf.get_val(), eaf.get_test()\n",
    "    train = Lazy_Iterable_Wrapper(train, episode_transform)\n",
    "    val = Lazy_Iterable_Wrapper(val, episode_transform)\n",
    "    test = Lazy_Iterable_Wrapper(test, episode_transform)\n",
    "\n",
    "    if source_or_target_dataset==\"source\":\n",
    "        train_original_source.append(train)\n",
    "        val_original_source.append(val)\n",
    "        test_original_source.append(test)\n",
    "\n",
    "        p.domains_source.extend(\n",
    "            [domain_prefix + str(u) for u in domains]\n",
    "        )\n",
    "    elif source_or_target_dataset==\"target\":\n",
    "        train_original_target.append(train)\n",
    "        val_original_target.append(val)\n",
    "        test_original_target.append(test)\n",
    "        p.domains_target.extend(\n",
    "            [domain_prefix + str(u) for u in domains]\n",
    "        )\n",
    "    else:\n",
    "        raise Exception(f\"invalid source_or_target_dataset: {source_or_target_dataset}\")\n",
    "    "
   ]
  },
  {
   "cell_type": "code",
   "execution_count": 13,
   "id": "fe266617",
   "metadata": {
    "execution": {
     "iopub.execute_input": "2022-03-23T10:31:52.004442Z",
     "iopub.status.busy": "2022-03-23T10:31:52.004169Z",
     "iopub.status.idle": "2022-03-23T10:32:11.035337Z",
     "shell.execute_reply": "2022-03-23T10:32:11.034834Z"
    },
    "papermill": {
     "duration": 19.045932,
     "end_time": "2022-03-23T10:32:11.035442",
     "exception": false,
     "start_time": "2022-03-23T10:31:51.989510",
     "status": "completed"
    },
    "tags": []
   },
   "outputs": [],
   "source": [
    "for ds in p.datasets:\n",
    "    add_dataset(**ds)"
   ]
  },
  {
   "cell_type": "code",
   "execution_count": 14,
   "id": "b90d65ac",
   "metadata": {
    "execution": {
     "iopub.execute_input": "2022-03-23T10:32:11.074354Z",
     "iopub.status.busy": "2022-03-23T10:32:11.070230Z",
     "iopub.status.idle": "2022-03-23T10:32:11.090574Z",
     "shell.execute_reply": "2022-03-23T10:32:11.090160Z"
    },
    "papermill": {
     "duration": 0.035773,
     "end_time": "2022-03-23T10:32:11.090672",
     "exception": false,
     "start_time": "2022-03-23T10:32:11.054899",
     "status": "completed"
    },
    "tags": []
   },
   "outputs": [],
   "source": [
    "# from steves_utils.CORES.utils import (\n",
    "#     ALL_NODES,\n",
    "#     ALL_NODES_MINIMUM_1000_EXAMPLES,\n",
    "#     ALL_DAYS\n",
    "# )\n",
    "\n",
    "# add_dataset(\n",
    "#     labels=ALL_NODES,\n",
    "#     domains = ALL_DAYS,\n",
    "#     num_examples_per_domain_per_label=100,\n",
    "#     pickle_path=os.path.join(get_datasets_base_path(), \"cores.stratified_ds.2022A.pkl\"),\n",
    "#     source_or_target_dataset=\"target\",\n",
    "#     x_transform_func=global_x_transform_func,\n",
    "#     domain_modifier=lambda u: f\"cores_{u}\"\n",
    "# )"
   ]
  },
  {
   "cell_type": "code",
   "execution_count": 15,
   "id": "76db484d",
   "metadata": {
    "execution": {
     "iopub.execute_input": "2022-03-23T10:32:11.125638Z",
     "iopub.status.busy": "2022-03-23T10:32:11.125390Z",
     "iopub.status.idle": "2022-03-23T10:32:11.141432Z",
     "shell.execute_reply": "2022-03-23T10:32:11.141062Z"
    },
    "papermill": {
     "duration": 0.031557,
     "end_time": "2022-03-23T10:32:11.141535",
     "exception": false,
     "start_time": "2022-03-23T10:32:11.109978",
     "status": "completed"
    },
    "tags": []
   },
   "outputs": [],
   "source": [
    "# from steves_utils.ORACLE.utils_v2 import (\n",
    "#     ALL_DISTANCES_FEET,\n",
    "#     ALL_RUNS,\n",
    "#     ALL_SERIAL_NUMBERS,\n",
    "# )\n",
    "\n",
    "\n",
    "# add_dataset(\n",
    "#     labels=ALL_SERIAL_NUMBERS,\n",
    "#     domains = list(set(ALL_DISTANCES_FEET) - {2,62}),\n",
    "#     num_examples_per_domain_per_label=100,\n",
    "#     pickle_path=os.path.join(get_datasets_base_path(), \"oracle.Run2_framed_2000Examples_stratified_ds.2022A.pkl\"),\n",
    "#     source_or_target_dataset=\"source\",\n",
    "#     x_transform_func=global_x_transform_func,\n",
    "#     domain_modifier=lambda u: f\"oracle1_{u}\"\n",
    "# )\n"
   ]
  },
  {
   "cell_type": "code",
   "execution_count": 16,
   "id": "97dea9d2",
   "metadata": {
    "execution": {
     "iopub.execute_input": "2022-03-23T10:32:11.175089Z",
     "iopub.status.busy": "2022-03-23T10:32:11.174792Z",
     "iopub.status.idle": "2022-03-23T10:32:11.189886Z",
     "shell.execute_reply": "2022-03-23T10:32:11.189491Z"
    },
    "papermill": {
     "duration": 0.030098,
     "end_time": "2022-03-23T10:32:11.189987",
     "exception": false,
     "start_time": "2022-03-23T10:32:11.159889",
     "status": "completed"
    },
    "tags": []
   },
   "outputs": [],
   "source": [
    "# from steves_utils.ORACLE.utils_v2 import (\n",
    "#     ALL_DISTANCES_FEET,\n",
    "#     ALL_RUNS,\n",
    "#     ALL_SERIAL_NUMBERS,\n",
    "# )\n",
    "\n",
    "\n",
    "# add_dataset(\n",
    "#     labels=ALL_SERIAL_NUMBERS,\n",
    "#     domains = list(set(ALL_DISTANCES_FEET) - {2,62,56}),\n",
    "#     num_examples_per_domain_per_label=100,\n",
    "#     pickle_path=os.path.join(get_datasets_base_path(), \"oracle.Run2_framed_2000Examples_stratified_ds.2022A.pkl\"),\n",
    "#     source_or_target_dataset=\"source\",\n",
    "#     x_transform_func=global_x_transform_func,\n",
    "#     domain_modifier=lambda u: f\"oracle2_{u}\"\n",
    "# )"
   ]
  },
  {
   "cell_type": "code",
   "execution_count": 17,
   "id": "6f289866",
   "metadata": {
    "execution": {
     "iopub.execute_input": "2022-03-23T10:32:11.224098Z",
     "iopub.status.busy": "2022-03-23T10:32:11.223856Z",
     "iopub.status.idle": "2022-03-23T10:32:11.234656Z",
     "shell.execute_reply": "2022-03-23T10:32:11.234302Z"
    },
    "papermill": {
     "duration": 0.025488,
     "end_time": "2022-03-23T10:32:11.234751",
     "exception": false,
     "start_time": "2022-03-23T10:32:11.209263",
     "status": "completed"
    },
    "tags": []
   },
   "outputs": [],
   "source": [
    "# add_dataset(\n",
    "#     labels=list(range(19)),\n",
    "#     domains = [0,1,2],\n",
    "#     num_examples_per_domain_per_label=100,\n",
    "#     pickle_path=os.path.join(get_datasets_base_path(), \"metehan.stratified_ds.2022A.pkl\"),\n",
    "#     source_or_target_dataset=\"target\",\n",
    "#     x_transform_func=global_x_transform_func,\n",
    "#     domain_modifier=lambda u: f\"met_{u}\"\n",
    "# )"
   ]
  },
  {
   "cell_type": "code",
   "execution_count": 18,
   "id": "86a863c3",
   "metadata": {
    "execution": {
     "iopub.execute_input": "2022-03-23T10:32:11.269548Z",
     "iopub.status.busy": "2022-03-23T10:32:11.269293Z",
     "iopub.status.idle": "2022-03-23T10:32:11.284847Z",
     "shell.execute_reply": "2022-03-23T10:32:11.284451Z"
    },
    "papermill": {
     "duration": 0.031161,
     "end_time": "2022-03-23T10:32:11.284944",
     "exception": false,
     "start_time": "2022-03-23T10:32:11.253783",
     "status": "completed"
    },
    "tags": []
   },
   "outputs": [],
   "source": [
    "# # from steves_utils.wisig.utils import (\n",
    "# #     ALL_NODES_MINIMUM_100_EXAMPLES,\n",
    "# #     ALL_NODES_MINIMUM_500_EXAMPLES,\n",
    "# #     ALL_NODES_MINIMUM_1000_EXAMPLES,\n",
    "# #     ALL_DAYS\n",
    "# # )\n",
    "\n",
    "# import steves_utils.wisig.utils as wisig\n",
    "\n",
    "\n",
    "# add_dataset(\n",
    "#     labels=wisig.ALL_NODES_MINIMUM_100_EXAMPLES,\n",
    "#     domains = wisig.ALL_DAYS,\n",
    "#     num_examples_per_domain_per_label=100,\n",
    "#     pickle_path=os.path.join(get_datasets_base_path(), \"wisig.node3-19.stratified_ds.2022A.pkl\"),\n",
    "#     source_or_target_dataset=\"target\",\n",
    "#     x_transform_func=global_x_transform_func,\n",
    "#     domain_modifier=lambda u: f\"wisig_{u}\"\n",
    "# )"
   ]
  },
  {
   "cell_type": "code",
   "execution_count": 19,
   "id": "fd5442bc",
   "metadata": {
    "execution": {
     "iopub.execute_input": "2022-03-23T10:32:11.323074Z",
     "iopub.status.busy": "2022-03-23T10:32:11.322817Z",
     "iopub.status.idle": "2022-03-23T10:32:11.336648Z",
     "shell.execute_reply": "2022-03-23T10:32:11.336249Z"
    },
    "papermill": {
     "duration": 0.032833,
     "end_time": "2022-03-23T10:32:11.336748",
     "exception": false,
     "start_time": "2022-03-23T10:32:11.303915",
     "status": "completed"
    },
    "tags": []
   },
   "outputs": [],
   "source": [
    "###################################\n",
    "# Build the dataset\n",
    "###################################\n",
    "train_original_source = Iterable_Aggregator(train_original_source, p.seed)\n",
    "val_original_source = Iterable_Aggregator(val_original_source, p.seed)\n",
    "test_original_source = Iterable_Aggregator(test_original_source, p.seed)\n",
    "\n",
    "\n",
    "train_original_target = Iterable_Aggregator(train_original_target, p.seed)\n",
    "val_original_target = Iterable_Aggregator(val_original_target, p.seed)\n",
    "test_original_target = Iterable_Aggregator(test_original_target, p.seed)\n",
    "\n",
    "# For CNN We only use X and Y. And we only train on the source.\n",
    "# Properly form the data using a transform lambda and Lazy_Iterable_Wrapper. Finally wrap them in a dataloader\n",
    "\n",
    "transform_lambda = lambda ex: ex[1] # Original is (<domain>, <episode>) so we strip down to episode only\n",
    "\n",
    "train_processed_source = Lazy_Iterable_Wrapper(train_original_source, transform_lambda)\n",
    "val_processed_source   = Lazy_Iterable_Wrapper(val_original_source, transform_lambda)\n",
    "test_processed_source  = Lazy_Iterable_Wrapper(test_original_source, transform_lambda)\n",
    "\n",
    "train_processed_target = Lazy_Iterable_Wrapper(train_original_target, transform_lambda)\n",
    "val_processed_target   = Lazy_Iterable_Wrapper(val_original_target, transform_lambda)\n",
    "test_processed_target  = Lazy_Iterable_Wrapper(test_original_target, transform_lambda)\n",
    "\n",
    "datasets = EasyDict({\n",
    "    \"source\": {\n",
    "        \"original\": {\"train\":train_original_source, \"val\":val_original_source, \"test\":test_original_source},\n",
    "        \"processed\": {\"train\":train_processed_source, \"val\":val_processed_source, \"test\":test_processed_source}\n",
    "    },\n",
    "    \"target\": {\n",
    "        \"original\": {\"train\":train_original_target, \"val\":val_original_target, \"test\":test_original_target},\n",
    "        \"processed\": {\"train\":train_processed_target, \"val\":val_processed_target, \"test\":test_processed_target}\n",
    "    },\n",
    "})"
   ]
  },
  {
   "cell_type": "code",
   "execution_count": 20,
   "id": "5b3c01fc",
   "metadata": {
    "execution": {
     "iopub.execute_input": "2022-03-23T10:32:11.372476Z",
     "iopub.status.busy": "2022-03-23T10:32:11.372133Z",
     "iopub.status.idle": "2022-03-23T10:32:35.987217Z",
     "shell.execute_reply": "2022-03-23T10:32:35.986716Z"
    },
    "papermill": {
     "duration": 24.631671,
     "end_time": "2022-03-23T10:32:35.987321",
     "exception": false,
     "start_time": "2022-03-23T10:32:11.355650",
     "status": "completed"
    },
    "tags": []
   },
   "outputs": [
    {
     "name": "stdout",
     "output_type": "stream",
     "text": [
      "{'ORACLE.run1_20', 'ORACLE.run1_32', 'ORACLE.run1_26', 'ORACLE.run1_8', 'ORACLE.run1_14', 'ORACLE.run1_50', 'ORACLE.run1_44', 'ORACLE.run1_38'}\n"
     ]
    },
    {
     "name": "stdout",
     "output_type": "stream",
     "text": [
      "{'ORACLE.run2_14', 'ORACLE.run2_38', 'ORACLE.run2_20', 'ORACLE.run2_44', 'ORACLE.run2_8', 'ORACLE.run2_50', 'ORACLE.run2_32', 'ORACLE.run2_26'}\n"
     ]
    },
    {
     "name": "stdout",
     "output_type": "stream",
     "text": [
      "tensor([[[-6.1037e-05, -1.0987e-03,  1.1292e-03,  ..., -1.0376e-03,\n",
      "          -8.8504e-04,  1.7701e-03],\n",
      "         [-1.8616e-03,  7.3244e-04, -3.9674e-04,  ...,  2.1363e-04,\n",
      "          -3.0519e-03,  4.2726e-04]],\n",
      "\n",
      "        [[ 1.4954e-03, -2.3804e-03, -4.6083e-03,  ...,  1.4649e-03,\n",
      "           1.8311e-04, -1.0376e-03],\n",
      "         [-4.5778e-04, -1.3428e-03, -4.7609e-03,  ..., -1.5564e-03,\n",
      "           1.0071e-03, -1.7090e-03]],\n",
      "\n",
      "        [[-2.8382e-03, -1.4954e-03,  3.3570e-04,  ...,  3.9674e-04,\n",
      "           4.6388e-03,  3.5707e-03],\n",
      "         [-6.4089e-04,  1.0987e-03, -1.2207e-03,  ..., -4.9135e-03,\n",
      "           0.0000e+00, -9.1556e-05]],\n",
      "\n",
      "        ...,\n",
      "\n",
      "        [[-6.1037e-05,  3.0824e-03, -3.6622e-04,  ..., -4.1505e-03,\n",
      "          -6.6836e-03,  4.3031e-03],\n",
      "         [ 5.8596e-03, -4.2116e-03, -2.5941e-03,  ..., -6.7141e-04,\n",
      "           1.0071e-03, -4.5473e-03]],\n",
      "\n",
      "        [[-4.2116e-03, -6.5310e-03, -7.8433e-03,  ..., -4.0590e-03,\n",
      "           2.6246e-03,  9.4607e-04],\n",
      "         [ 5.4018e-03,  1.5259e-04,  5.4018e-03,  ..., -1.5259e-03,\n",
      "           3.5096e-03, -9.1556e-04]],\n",
      "\n",
      "        [[ 6.2868e-03, -3.3570e-03, -2.8382e-03,  ..., -3.8148e-03,\n",
      "          -1.8921e-03, -3.0519e-05],\n",
      "         [-2.2279e-03,  4.6999e-03,  3.0519e-05,  ...,  7.2634e-03,\n",
      "           1.0681e-03,  5.0661e-03]]])\n"
     ]
    }
   ],
   "source": [
    "from steves_utils.transforms import get_average_magnitude, get_average_power\n",
    "\n",
    "print(set([u for u,_ in val_original_source]))\n",
    "print(set([u for u,_ in val_original_target]))\n",
    "\n",
    "s_x, s_y, q_x, q_y, _ = next(iter(train_processed_source))\n",
    "print(s_x)\n",
    "\n",
    "# for ds in [\n",
    "#     train_processed_source,\n",
    "#     val_processed_source,\n",
    "#     test_processed_source,\n",
    "#     train_processed_target,\n",
    "#     val_processed_target,\n",
    "#     test_processed_target\n",
    "# ]:\n",
    "#     for s_x, s_y, q_x, q_y, _ in ds:\n",
    "#         for X in (s_x, q_x):\n",
    "#             for x in X:\n",
    "#                 assert np.isclose(get_average_magnitude(x.numpy()), 1.0)\n",
    "#                 assert np.isclose(get_average_power(x.numpy()), 1.0)\n",
    "                "
   ]
  },
  {
   "cell_type": "code",
   "execution_count": 21,
   "id": "bbdacba1",
   "metadata": {
    "execution": {
     "iopub.execute_input": "2022-03-23T10:32:36.024921Z",
     "iopub.status.busy": "2022-03-23T10:32:36.024667Z",
     "iopub.status.idle": "2022-03-23T10:32:36.083278Z",
     "shell.execute_reply": "2022-03-23T10:32:36.083660Z"
    },
    "papermill": {
     "duration": 0.076427,
     "end_time": "2022-03-23T10:32:36.083797",
     "exception": false,
     "start_time": "2022-03-23T10:32:36.007370",
     "status": "completed"
    },
    "tags": []
   },
   "outputs": [
    {
     "name": "stdout",
     "output_type": "stream",
     "text": [
      "(2, 256)\n"
     ]
    }
   ],
   "source": [
    "###################################\n",
    "# Build the model\n",
    "###################################\n",
    "# easfsl only wants a tuple for the shape\n",
    "model = Steves_Prototypical_Network(x_net, device=p.device, x_shape=tuple(p.x_shape))\n",
    "optimizer = Adam(params=model.parameters(), lr=p.lr)"
   ]
  },
  {
   "cell_type": "code",
   "execution_count": 22,
   "id": "22b39ac5",
   "metadata": {
    "execution": {
     "iopub.execute_input": "2022-03-23T10:32:36.121786Z",
     "iopub.status.busy": "2022-03-23T10:32:36.121527Z",
     "iopub.status.idle": "2022-03-23T12:34:41.992927Z",
     "shell.execute_reply": "2022-03-23T12:34:41.992696Z"
    },
    "papermill": {
     "duration": 7325.888976,
     "end_time": "2022-03-23T12:34:41.992985",
     "exception": false,
     "start_time": "2022-03-23T10:32:36.104009",
     "status": "completed"
    },
    "tags": []
   },
   "outputs": [
    {
     "name": "stdout",
     "output_type": "stream",
     "text": [
      "epoch: 1, [batch: 1 / 33600], examples_per_second: 10.0209, train_label_loss: 2.7566, \n"
     ]
    },
    {
     "name": "stdout",
     "output_type": "stream",
     "text": [
      "epoch: 1, [batch: 3360 / 33600], examples_per_second: 3208.6232, train_label_loss: 1.1172, \n"
     ]
    },
    {
     "name": "stdout",
     "output_type": "stream",
     "text": [
      "epoch: 1, [batch: 6720 / 33600], examples_per_second: 3198.9731, train_label_loss: 0.8260, \n"
     ]
    },
    {
     "name": "stdout",
     "output_type": "stream",
     "text": [
      "epoch: 1, [batch: 10080 / 33600], examples_per_second: 3203.8338, train_label_loss: 0.4810, \n"
     ]
    },
    {
     "name": "stdout",
     "output_type": "stream",
     "text": [
      "epoch: 1, [batch: 13440 / 33600], examples_per_second: 3186.4283, train_label_loss: 0.5667, \n"
     ]
    },
    {
     "name": "stdout",
     "output_type": "stream",
     "text": [
      "epoch: 1, [batch: 16800 / 33600], examples_per_second: 3196.2222, train_label_loss: 0.5126, \n"
     ]
    },
    {
     "name": "stdout",
     "output_type": "stream",
     "text": [
      "epoch: 1, [batch: 20160 / 33600], examples_per_second: 3196.0689, train_label_loss: 0.3502, \n"
     ]
    },
    {
     "name": "stdout",
     "output_type": "stream",
     "text": [
      "epoch: 1, [batch: 23520 / 33600], examples_per_second: 3188.1119, train_label_loss: 0.2792, \n"
     ]
    },
    {
     "name": "stdout",
     "output_type": "stream",
     "text": [
      "epoch: 1, [batch: 26880 / 33600], examples_per_second: 3194.1001, train_label_loss: 0.4652, \n"
     ]
    },
    {
     "name": "stdout",
     "output_type": "stream",
     "text": [
      "epoch: 1, [batch: 30240 / 33600], examples_per_second: 3196.4895, train_label_loss: 0.8694, \n"
     ]
    },
    {
     "name": "stdout",
     "output_type": "stream",
     "text": [
      "=============================================================\n",
      "epoch: 1, source_val_acc_label: 0.7273, target_val_acc_label: 0.7435, source_val_label_loss: 1.3289, target_val_label_loss: 1.3798, \n",
      "=============================================================\n"
     ]
    },
    {
     "name": "stdout",
     "output_type": "stream",
     "text": [
      "New best\n"
     ]
    },
    {
     "name": "stdout",
     "output_type": "stream",
     "text": [
      "epoch: 2, [batch: 1 / 33600], examples_per_second: 0.9677, train_label_loss: 0.4791, \n"
     ]
    },
    {
     "name": "stdout",
     "output_type": "stream",
     "text": [
      "epoch: 2, [batch: 3360 / 33600], examples_per_second: 3228.4641, train_label_loss: 0.3610, \n"
     ]
    },
    {
     "name": "stdout",
     "output_type": "stream",
     "text": [
      "epoch: 2, [batch: 6720 / 33600], examples_per_second: 3226.6524, train_label_loss: 0.5638, \n"
     ]
    },
    {
     "name": "stdout",
     "output_type": "stream",
     "text": [
      "epoch: 2, [batch: 10080 / 33600], examples_per_second: 3237.6789, train_label_loss: 0.3468, \n"
     ]
    },
    {
     "name": "stdout",
     "output_type": "stream",
     "text": [
      "epoch: 2, [batch: 13440 / 33600], examples_per_second: 3218.9166, train_label_loss: 0.3210, \n"
     ]
    },
    {
     "name": "stdout",
     "output_type": "stream",
     "text": [
      "epoch: 2, [batch: 16800 / 33600], examples_per_second: 3225.7622, train_label_loss: 0.5100, \n"
     ]
    },
    {
     "name": "stdout",
     "output_type": "stream",
     "text": [
      "epoch: 2, [batch: 20160 / 33600], examples_per_second: 3233.1551, train_label_loss: 0.6561, \n"
     ]
    },
    {
     "name": "stdout",
     "output_type": "stream",
     "text": [
      "epoch: 2, [batch: 23520 / 33600], examples_per_second: 3218.5655, train_label_loss: 0.2261, \n"
     ]
    },
    {
     "name": "stdout",
     "output_type": "stream",
     "text": [
      "epoch: 2, [batch: 26880 / 33600], examples_per_second: 3223.9403, train_label_loss: 0.2808, \n"
     ]
    },
    {
     "name": "stdout",
     "output_type": "stream",
     "text": [
      "epoch: 2, [batch: 30240 / 33600], examples_per_second: 3229.9236, train_label_loss: 0.2787, \n"
     ]
    },
    {
     "name": "stdout",
     "output_type": "stream",
     "text": [
      "=============================================================\n",
      "epoch: 2, source_val_acc_label: 0.8615, target_val_acc_label: 0.8651, source_val_label_loss: 0.4030, target_val_label_loss: 0.4715, \n",
      "=============================================================\n"
     ]
    },
    {
     "name": "stdout",
     "output_type": "stream",
     "text": [
      "New best\n"
     ]
    },
    {
     "name": "stdout",
     "output_type": "stream",
     "text": [
      "epoch: 3, [batch: 1 / 33600], examples_per_second: 0.9723, train_label_loss: 0.6846, \n"
     ]
    },
    {
     "name": "stdout",
     "output_type": "stream",
     "text": [
      "epoch: 3, [batch: 3360 / 33600], examples_per_second: 3221.7597, train_label_loss: 0.3694, \n"
     ]
    },
    {
     "name": "stdout",
     "output_type": "stream",
     "text": [
      "epoch: 3, [batch: 6720 / 33600], examples_per_second: 3226.5683, train_label_loss: 0.2809, \n"
     ]
    },
    {
     "name": "stdout",
     "output_type": "stream",
     "text": [
      "epoch: 3, [batch: 10080 / 33600], examples_per_second: 3236.4508, train_label_loss: 0.4427, \n"
     ]
    },
    {
     "name": "stdout",
     "output_type": "stream",
     "text": [
      "epoch: 3, [batch: 13440 / 33600], examples_per_second: 3221.0028, train_label_loss: 0.4747, \n"
     ]
    },
    {
     "name": "stdout",
     "output_type": "stream",
     "text": [
      "epoch: 3, [batch: 16800 / 33600], examples_per_second: 3224.1133, train_label_loss: 0.3385, \n"
     ]
    },
    {
     "name": "stdout",
     "output_type": "stream",
     "text": [
      "epoch: 3, [batch: 20160 / 33600], examples_per_second: 3226.5520, train_label_loss: 0.4864, \n"
     ]
    },
    {
     "name": "stdout",
     "output_type": "stream",
     "text": [
      "epoch: 3, [batch: 23520 / 33600], examples_per_second: 3212.0773, train_label_loss: 0.5190, \n"
     ]
    },
    {
     "name": "stdout",
     "output_type": "stream",
     "text": [
      "epoch: 3, [batch: 26880 / 33600], examples_per_second: 3229.7542, train_label_loss: 0.1140, \n"
     ]
    },
    {
     "name": "stdout",
     "output_type": "stream",
     "text": [
      "epoch: 3, [batch: 30240 / 33600], examples_per_second: 3233.2499, train_label_loss: 0.3817, \n"
     ]
    },
    {
     "name": "stdout",
     "output_type": "stream",
     "text": [
      "=============================================================\n",
      "epoch: 3, source_val_acc_label: 0.8676, target_val_acc_label: 0.8678, source_val_label_loss: 0.3828, target_val_label_loss: 0.4862, \n",
      "=============================================================\n"
     ]
    },
    {
     "name": "stdout",
     "output_type": "stream",
     "text": [
      "New best\n"
     ]
    },
    {
     "name": "stdout",
     "output_type": "stream",
     "text": [
      "epoch: 4, [batch: 1 / 33600], examples_per_second: 0.9724, train_label_loss: 0.2509, \n"
     ]
    },
    {
     "name": "stdout",
     "output_type": "stream",
     "text": [
      "epoch: 4, [batch: 3360 / 33600], examples_per_second: 3230.2476, train_label_loss: 0.4158, \n"
     ]
    },
    {
     "name": "stdout",
     "output_type": "stream",
     "text": [
      "epoch: 4, [batch: 6720 / 33600], examples_per_second: 3228.6819, train_label_loss: 0.6312, \n"
     ]
    },
    {
     "name": "stdout",
     "output_type": "stream",
     "text": [
      "epoch: 4, [batch: 10080 / 33600], examples_per_second: 3231.6072, train_label_loss: 0.2158, \n"
     ]
    },
    {
     "name": "stdout",
     "output_type": "stream",
     "text": [
      "epoch: 4, [batch: 13440 / 33600], examples_per_second: 3211.2488, train_label_loss: 0.1659, \n"
     ]
    },
    {
     "name": "stdout",
     "output_type": "stream",
     "text": [
      "epoch: 4, [batch: 16800 / 33600], examples_per_second: 3228.6125, train_label_loss: 0.4330, \n"
     ]
    },
    {
     "name": "stdout",
     "output_type": "stream",
     "text": [
      "epoch: 4, [batch: 20160 / 33600], examples_per_second: 3230.3833, train_label_loss: 0.0908, \n"
     ]
    },
    {
     "name": "stdout",
     "output_type": "stream",
     "text": [
      "epoch: 4, [batch: 23520 / 33600], examples_per_second: 3212.4461, train_label_loss: 0.1503, \n"
     ]
    },
    {
     "name": "stdout",
     "output_type": "stream",
     "text": [
      "epoch: 4, [batch: 26880 / 33600], examples_per_second: 3225.7846, train_label_loss: 0.2086, \n"
     ]
    },
    {
     "name": "stdout",
     "output_type": "stream",
     "text": [
      "epoch: 4, [batch: 30240 / 33600], examples_per_second: 3231.5562, train_label_loss: 0.6000, \n"
     ]
    },
    {
     "name": "stdout",
     "output_type": "stream",
     "text": [
      "=============================================================\n",
      "epoch: 4, source_val_acc_label: 0.8752, target_val_acc_label: 0.8709, source_val_label_loss: 0.3669, target_val_label_loss: 0.4679, \n",
      "=============================================================\n"
     ]
    },
    {
     "name": "stdout",
     "output_type": "stream",
     "text": [
      "New best\n"
     ]
    },
    {
     "name": "stdout",
     "output_type": "stream",
     "text": [
      "epoch: 5, [batch: 1 / 33600], examples_per_second: 0.9715, train_label_loss: 0.2909, \n"
     ]
    },
    {
     "name": "stdout",
     "output_type": "stream",
     "text": [
      "epoch: 5, [batch: 3360 / 33600], examples_per_second: 3225.7475, train_label_loss: 0.1356, \n"
     ]
    },
    {
     "name": "stdout",
     "output_type": "stream",
     "text": [
      "epoch: 5, [batch: 6720 / 33600], examples_per_second: 3231.0340, train_label_loss: 0.1789, \n"
     ]
    },
    {
     "name": "stdout",
     "output_type": "stream",
     "text": [
      "epoch: 5, [batch: 10080 / 33600], examples_per_second: 3233.0544, train_label_loss: 0.2040, \n"
     ]
    },
    {
     "name": "stdout",
     "output_type": "stream",
     "text": [
      "epoch: 5, [batch: 13440 / 33600], examples_per_second: 3216.5443, train_label_loss: 0.2539, \n"
     ]
    },
    {
     "name": "stdout",
     "output_type": "stream",
     "text": [
      "epoch: 5, [batch: 16800 / 33600], examples_per_second: 3222.9116, train_label_loss: 0.4514, \n"
     ]
    },
    {
     "name": "stdout",
     "output_type": "stream",
     "text": [
      "epoch: 5, [batch: 20160 / 33600], examples_per_second: 3232.9635, train_label_loss: 0.2989, \n"
     ]
    },
    {
     "name": "stdout",
     "output_type": "stream",
     "text": [
      "epoch: 5, [batch: 23520 / 33600], examples_per_second: 3215.8618, train_label_loss: 0.2474, \n"
     ]
    },
    {
     "name": "stdout",
     "output_type": "stream",
     "text": [
      "epoch: 5, [batch: 26880 / 33600], examples_per_second: 3222.5639, train_label_loss: 0.1979, \n"
     ]
    },
    {
     "name": "stdout",
     "output_type": "stream",
     "text": [
      "epoch: 5, [batch: 30240 / 33600], examples_per_second: 3223.2860, train_label_loss: 0.1276, \n"
     ]
    },
    {
     "name": "stdout",
     "output_type": "stream",
     "text": [
      "=============================================================\n",
      "epoch: 5, source_val_acc_label: 0.8780, target_val_acc_label: 0.8698, source_val_label_loss: 0.3432, target_val_label_loss: 0.4501, \n",
      "=============================================================\n"
     ]
    },
    {
     "name": "stdout",
     "output_type": "stream",
     "text": [
      "epoch: 6, [batch: 1 / 33600], examples_per_second: 0.9712, train_label_loss: 0.2788, \n"
     ]
    },
    {
     "name": "stdout",
     "output_type": "stream",
     "text": [
      "epoch: 6, [batch: 3360 / 33600], examples_per_second: 3227.2200, train_label_loss: 0.2889, \n"
     ]
    },
    {
     "name": "stdout",
     "output_type": "stream",
     "text": [
      "epoch: 6, [batch: 6720 / 33600], examples_per_second: 3228.2191, train_label_loss: 0.2043, \n"
     ]
    },
    {
     "name": "stdout",
     "output_type": "stream",
     "text": [
      "epoch: 6, [batch: 10080 / 33600], examples_per_second: 3224.4507, train_label_loss: 0.2806, \n"
     ]
    },
    {
     "name": "stdout",
     "output_type": "stream",
     "text": [
      "epoch: 6, [batch: 13440 / 33600], examples_per_second: 3212.0325, train_label_loss: 0.4788, \n"
     ]
    },
    {
     "name": "stdout",
     "output_type": "stream",
     "text": [
      "epoch: 6, [batch: 16800 / 33600], examples_per_second: 3226.0168, train_label_loss: 0.0884, \n"
     ]
    },
    {
     "name": "stdout",
     "output_type": "stream",
     "text": [
      "epoch: 6, [batch: 20160 / 33600], examples_per_second: 3229.4550, train_label_loss: 0.2301, \n"
     ]
    },
    {
     "name": "stdout",
     "output_type": "stream",
     "text": [
      "epoch: 6, [batch: 23520 / 33600], examples_per_second: 3213.8953, train_label_loss: 0.2516, \n"
     ]
    },
    {
     "name": "stdout",
     "output_type": "stream",
     "text": [
      "epoch: 6, [batch: 26880 / 33600], examples_per_second: 3223.7233, train_label_loss: 0.1361, \n"
     ]
    },
    {
     "name": "stdout",
     "output_type": "stream",
     "text": [
      "epoch: 6, [batch: 30240 / 33600], examples_per_second: 3227.1422, train_label_loss: 0.1709, \n"
     ]
    },
    {
     "name": "stdout",
     "output_type": "stream",
     "text": [
      "=============================================================\n",
      "epoch: 6, source_val_acc_label: 0.8807, target_val_acc_label: 0.8692, source_val_label_loss: 0.3313, target_val_label_loss: 0.4505, \n",
      "=============================================================\n"
     ]
    },
    {
     "name": "stdout",
     "output_type": "stream",
     "text": [
      "epoch: 7, [batch: 1 / 33600], examples_per_second: 0.9713, train_label_loss: 0.3192, \n"
     ]
    },
    {
     "name": "stdout",
     "output_type": "stream",
     "text": [
      "epoch: 7, [batch: 3360 / 33600], examples_per_second: 3219.7372, train_label_loss: 0.1860, \n"
     ]
    },
    {
     "name": "stdout",
     "output_type": "stream",
     "text": [
      "epoch: 7, [batch: 6720 / 33600], examples_per_second: 3228.0626, train_label_loss: 0.0819, \n"
     ]
    },
    {
     "name": "stdout",
     "output_type": "stream",
     "text": [
      "epoch: 7, [batch: 10080 / 33600], examples_per_second: 3235.6540, train_label_loss: 0.1825, \n"
     ]
    },
    {
     "name": "stdout",
     "output_type": "stream",
     "text": [
      "epoch: 7, [batch: 13440 / 33600], examples_per_second: 3216.7710, train_label_loss: 0.2129, \n"
     ]
    },
    {
     "name": "stdout",
     "output_type": "stream",
     "text": [
      "epoch: 7, [batch: 16800 / 33600], examples_per_second: 3225.5526, train_label_loss: 0.3740, \n"
     ]
    },
    {
     "name": "stdout",
     "output_type": "stream",
     "text": [
      "epoch: 7, [batch: 20160 / 33600], examples_per_second: 3229.4556, train_label_loss: 0.1872, \n"
     ]
    },
    {
     "name": "stdout",
     "output_type": "stream",
     "text": [
      "epoch: 7, [batch: 23520 / 33600], examples_per_second: 3222.3455, train_label_loss: 0.2497, \n"
     ]
    },
    {
     "name": "stdout",
     "output_type": "stream",
     "text": [
      "epoch: 7, [batch: 26880 / 33600], examples_per_second: 3226.9687, train_label_loss: 0.2801, \n"
     ]
    },
    {
     "name": "stdout",
     "output_type": "stream",
     "text": [
      "epoch: 7, [batch: 30240 / 33600], examples_per_second: 3231.1428, train_label_loss: 0.0686, \n"
     ]
    },
    {
     "name": "stdout",
     "output_type": "stream",
     "text": [
      "=============================================================\n",
      "epoch: 7, source_val_acc_label: 0.8802, target_val_acc_label: 0.8685, source_val_label_loss: 0.3316, target_val_label_loss: 0.4663, \n",
      "=============================================================\n"
     ]
    },
    {
     "name": "stdout",
     "output_type": "stream",
     "text": [
      "epoch: 8, [batch: 1 / 33600], examples_per_second: 0.9695, train_label_loss: 0.1911, \n"
     ]
    },
    {
     "name": "stdout",
     "output_type": "stream",
     "text": [
      "epoch: 8, [batch: 3360 / 33600], examples_per_second: 3222.3468, train_label_loss: 0.1969, \n"
     ]
    },
    {
     "name": "stdout",
     "output_type": "stream",
     "text": [
      "epoch: 8, [batch: 6720 / 33600], examples_per_second: 3215.2853, train_label_loss: 0.1842, \n"
     ]
    },
    {
     "name": "stdout",
     "output_type": "stream",
     "text": [
      "epoch: 8, [batch: 10080 / 33600], examples_per_second: 3225.9814, train_label_loss: 0.1358, \n"
     ]
    },
    {
     "name": "stdout",
     "output_type": "stream",
     "text": [
      "epoch: 8, [batch: 13440 / 33600], examples_per_second: 3212.9106, train_label_loss: 0.1827, \n"
     ]
    },
    {
     "name": "stdout",
     "output_type": "stream",
     "text": [
      "epoch: 8, [batch: 16800 / 33600], examples_per_second: 3220.1938, train_label_loss: 0.1306, \n"
     ]
    },
    {
     "name": "stdout",
     "output_type": "stream",
     "text": [
      "epoch: 8, [batch: 20160 / 33600], examples_per_second: 3231.3808, train_label_loss: 0.2298, \n"
     ]
    },
    {
     "name": "stdout",
     "output_type": "stream",
     "text": [
      "epoch: 8, [batch: 23520 / 33600], examples_per_second: 3206.7913, train_label_loss: 0.3125, \n"
     ]
    },
    {
     "name": "stdout",
     "output_type": "stream",
     "text": [
      "epoch: 8, [batch: 26880 / 33600], examples_per_second: 3223.9570, train_label_loss: 0.1943, \n"
     ]
    },
    {
     "name": "stdout",
     "output_type": "stream",
     "text": [
      "epoch: 8, [batch: 30240 / 33600], examples_per_second: 3231.3545, train_label_loss: 0.3644, \n"
     ]
    },
    {
     "name": "stdout",
     "output_type": "stream",
     "text": [
      "=============================================================\n",
      "epoch: 8, source_val_acc_label: 0.8846, target_val_acc_label: 0.8700, source_val_label_loss: 0.3304, target_val_label_loss: 0.4837, \n",
      "=============================================================\n"
     ]
    },
    {
     "name": "stdout",
     "output_type": "stream",
     "text": [
      "Patience (3) exhausted\n"
     ]
    }
   ],
   "source": [
    "###################################\n",
    "# train\n",
    "###################################\n",
    "jig = PTN_Train_Eval_Test_Jig(model, p.BEST_MODEL_PATH, p.device)\n",
    "\n",
    "jig.train(\n",
    "    train_iterable=datasets.source.processed.train,\n",
    "    source_val_iterable=datasets.source.processed.val,\n",
    "    target_val_iterable=datasets.target.processed.val,\n",
    "    num_epochs=p.n_epoch,\n",
    "    num_logs_per_epoch=p.NUM_LOGS_PER_EPOCH,\n",
    "    patience=p.patience,\n",
    "    optimizer=optimizer,\n",
    "    criteria_for_best=p.criteria_for_best,\n",
    ")"
   ]
  },
  {
   "cell_type": "code",
   "execution_count": 23,
   "id": "31e8fabf",
   "metadata": {
    "execution": {
     "iopub.execute_input": "2022-03-23T12:34:42.057229Z",
     "iopub.status.busy": "2022-03-23T12:34:42.056971Z",
     "iopub.status.idle": "2022-03-23T12:34:42.076716Z",
     "shell.execute_reply": "2022-03-23T12:34:42.076283Z"
    },
    "papermill": {
     "duration": 0.053238,
     "end_time": "2022-03-23T12:34:42.076822",
     "exception": false,
     "start_time": "2022-03-23T12:34:42.023584",
     "status": "completed"
    },
    "tags": []
   },
   "outputs": [],
   "source": [
    "total_experiment_time_secs = time.time() - start_time_secs"
   ]
  },
  {
   "cell_type": "code",
   "execution_count": 24,
   "id": "87b9595b",
   "metadata": {
    "execution": {
     "iopub.execute_input": "2022-03-23T12:34:42.145404Z",
     "iopub.status.busy": "2022-03-23T12:34:42.145131Z",
     "iopub.status.idle": "2022-03-23T12:42:43.494223Z",
     "shell.execute_reply": "2022-03-23T12:42:43.494628Z"
    },
    "papermill": {
     "duration": 481.384023,
     "end_time": "2022-03-23T12:42:43.494766",
     "exception": false,
     "start_time": "2022-03-23T12:34:42.110743",
     "status": "completed"
    },
    "tags": []
   },
   "outputs": [],
   "source": [
    "###################################\n",
    "# Evaluate the model\n",
    "###################################\n",
    "source_test_label_accuracy, source_test_label_loss = jig.test(datasets.source.processed.test)\n",
    "target_test_label_accuracy, target_test_label_loss = jig.test(datasets.target.processed.test)\n",
    "\n",
    "source_val_label_accuracy, source_val_label_loss = jig.test(datasets.source.processed.val)\n",
    "target_val_label_accuracy, target_val_label_loss = jig.test(datasets.target.processed.val)\n",
    "\n",
    "history = jig.get_history()\n",
    "\n",
    "total_epochs_trained = len(history[\"epoch_indices\"])\n",
    "\n",
    "val_dl = Iterable_Aggregator((datasets.source.original.val,datasets.target.original.val))\n",
    "\n",
    "confusion = ptn_confusion_by_domain_over_dataloader(model, p.device, val_dl)\n",
    "per_domain_accuracy = per_domain_accuracy_from_confusion(confusion)\n",
    "\n",
    "# Add a key to per_domain_accuracy for if it was a source domain\n",
    "for domain, accuracy in per_domain_accuracy.items():\n",
    "    per_domain_accuracy[domain] = {\n",
    "        \"accuracy\": accuracy,\n",
    "        \"source?\": domain in p.domains_source\n",
    "    }\n",
    "\n",
    "# Do an independent accuracy assesment JUST TO BE SURE!\n",
    "# _source_test_label_accuracy = independent_accuracy_assesment(model, datasets.source.processed.test, p.device)\n",
    "# _target_test_label_accuracy = independent_accuracy_assesment(model, datasets.target.processed.test, p.device)\n",
    "# _source_val_label_accuracy = independent_accuracy_assesment(model, datasets.source.processed.val, p.device)\n",
    "# _target_val_label_accuracy = independent_accuracy_assesment(model, datasets.target.processed.val, p.device)\n",
    "\n",
    "# assert(_source_test_label_accuracy == source_test_label_accuracy)\n",
    "# assert(_target_test_label_accuracy == target_test_label_accuracy)\n",
    "# assert(_source_val_label_accuracy == source_val_label_accuracy)\n",
    "# assert(_target_val_label_accuracy == target_val_label_accuracy)\n",
    "\n",
    "experiment = {\n",
    "    \"experiment_name\": p.experiment_name,\n",
    "    \"parameters\": dict(p),\n",
    "    \"results\": {\n",
    "        \"source_test_label_accuracy\": source_test_label_accuracy,\n",
    "        \"source_test_label_loss\": source_test_label_loss,\n",
    "        \"target_test_label_accuracy\": target_test_label_accuracy,\n",
    "        \"target_test_label_loss\": target_test_label_loss,\n",
    "        \"source_val_label_accuracy\": source_val_label_accuracy,\n",
    "        \"source_val_label_loss\": source_val_label_loss,\n",
    "        \"target_val_label_accuracy\": target_val_label_accuracy,\n",
    "        \"target_val_label_loss\": target_val_label_loss,\n",
    "        \"total_epochs_trained\": total_epochs_trained,\n",
    "        \"total_experiment_time_secs\": total_experiment_time_secs,\n",
    "        \"confusion\": confusion,\n",
    "        \"per_domain_accuracy\": per_domain_accuracy,\n",
    "    },\n",
    "    \"history\": history,\n",
    "    \"dataset_metrics\": get_dataset_metrics(datasets, \"ptn\"),\n",
    "}"
   ]
  },
  {
   "cell_type": "code",
   "execution_count": 25,
   "id": "54a21829",
   "metadata": {
    "execution": {
     "iopub.execute_input": "2022-03-23T12:42:43.565527Z",
     "iopub.status.busy": "2022-03-23T12:42:43.565270Z",
     "iopub.status.idle": "2022-03-23T12:42:43.691077Z",
     "shell.execute_reply": "2022-03-23T12:42:43.690680Z"
    },
    "papermill": {
     "duration": 0.158799,
     "end_time": "2022-03-23T12:42:43.691168",
     "exception": false,
     "start_time": "2022-03-23T12:42:43.532369",
     "status": "completed"
    },
    "tags": []
   },
   "outputs": [
    {
     "data": {
      "image/png": "[encoded data removed]",
      "text/plain": [
       "<Figure size 1080x504 with 1 Axes>"
      ]
     },
     "metadata": {
      "needs_background": "light"
     },
     "output_type": "display_data"
    }
   ],
   "source": [
    "ax = get_loss_curve(experiment)\n",
    "plt.show()"
   ]
  },
  {
   "cell_type": "code",
   "execution_count": 26,
   "id": "fd8a0f60",
   "metadata": {
    "execution": {
     "iopub.execute_input": "2022-03-23T12:42:43.760612Z",
     "iopub.status.busy": "2022-03-23T12:42:43.760360Z",
     "iopub.status.idle": "2022-03-23T12:42:43.897502Z",
     "shell.execute_reply": "2022-03-23T12:42:43.897717Z"
    },
    "papermill": {
     "duration": 0.171169,
     "end_time": "2022-03-23T12:42:43.897786",
     "exception": false,
     "start_time": "2022-03-23T12:42:43.726617",
     "status": "completed"
    },
    "tags": []
   },
   "outputs": [
    {
     "data": {
      "text/plain": [
       "<AxesSubplot:title={'center':'Results'}>"
      ]
     },
     "execution_count": 26,
     "metadata": {},
     "output_type": "execute_result"
    },
    {
     "data": {
      "image/png": "[encoded data removed]",
      "text/plain": [
       "<Figure size 1080x504 with 1 Axes>"
      ]
     },
     "metadata": {
      "needs_background": "light"
     },
     "output_type": "display_data"
    }
   ],
   "source": [
    "get_results_table(experiment)"
   ]
  },
  {
   "cell_type": "code",
   "execution_count": 27,
   "id": "cf8dc689",
   "metadata": {
    "execution": {
     "iopub.execute_input": "2022-03-23T12:42:43.966498Z",
     "iopub.status.busy": "2022-03-23T12:42:43.966240Z",
     "iopub.status.idle": "2022-03-23T12:42:44.121026Z",
     "shell.execute_reply": "2022-03-23T12:42:44.120521Z"
    },
    "papermill": {
     "duration": 0.18956,
     "end_time": "2022-03-23T12:42:44.121131",
     "exception": false,
     "start_time": "2022-03-23T12:42:43.931571",
     "status": "completed"
    },
    "tags": []
   },
   "outputs": [
    {
     "data": {
      "text/plain": [
       "<AxesSubplot:title={'center':'Per Domain Validation Accuracy'}, xlabel='domain'>"
      ]
     },
     "execution_count": 27,
     "metadata": {},
     "output_type": "execute_result"
    },
    {
     "data": {
      "image/png": "[encoded data removed]",
      "text/plain": [
       "<Figure size 1080x504 with 1 Axes>"
      ]
     },
     "metadata": {
      "needs_background": "light"
     },
     "output_type": "display_data"
    }
   ],
   "source": [
    "get_domain_accuracies(experiment)"
   ]
  },
  {
   "cell_type": "code",
   "execution_count": 28,
   "id": "a74ae082",
   "metadata": {
    "execution": {
     "iopub.execute_input": "2022-03-23T12:42:44.195510Z",
     "iopub.status.busy": "2022-03-23T12:42:44.195257Z",
     "iopub.status.idle": "2022-03-23T12:42:44.207795Z",
     "shell.execute_reply": "2022-03-23T12:42:44.207327Z"
    },
    "papermill": {
     "duration": 0.047887,
     "end_time": "2022-03-23T12:42:44.207888",
     "exception": false,
     "start_time": "2022-03-23T12:42:44.160001",
     "status": "completed"
    },
    "tags": []
   },
   "outputs": [
    {
     "name": "stdout",
     "output_type": "stream",
     "text": [
      "Source Test Label Accuracy: 0.8752604166666667 Target Test Label Accuracy: 0.8717513020833333\n",
      "Source Val Label Accuracy: 0.8751627604166666 Target Val Label Accuracy: 0.870859375\n"
     ]
    }
   ],
   "source": [
    "print(\"Source Test Label Accuracy:\", experiment[\"results\"][\"source_test_label_accuracy\"], \"Target Test Label Accuracy:\", experiment[\"results\"][\"target_test_label_accuracy\"])\n",
    "print(\"Source Val Label Accuracy:\", experiment[\"results\"][\"source_val_label_accuracy\"], \"Target Val Label Accuracy:\", experiment[\"results\"][\"target_val_label_accuracy\"])"
   ]
  },
  {
   "cell_type": "code",
   "execution_count": 29,
   "id": "dacca602",
   "metadata": {
    "execution": {
     "iopub.execute_input": "2022-03-23T12:42:44.282757Z",
     "iopub.status.busy": "2022-03-23T12:42:44.282500Z",
     "iopub.status.idle": "2022-03-23T12:42:44.293977Z",
     "shell.execute_reply": "2022-03-23T12:42:44.293524Z"
    },
    "papermill": {
     "duration": 0.047378,
     "end_time": "2022-03-23T12:42:44.294081",
     "exception": false,
     "start_time": "2022-03-23T12:42:44.246703",
     "status": "completed"
    },
    "tags": [
     "experiment_json"
    ]
   },
   "outputs": [
    {
     "data": {
      "text/plain": [
       "'{\"experiment_name\": \"tl_1v2:oracle.run1-oracle.run2\", \"parameters\": {\"experiment_name\": \"tl_1v2:oracle.run1-oracle.run2\", \"device\": \"cuda\", \"lr\": 0.0001, \"n_shot\": 3, \"n_query\": 2, \"train_k_factor\": 3, \"val_k_factor\": 2, \"test_k_factor\": 2, \"torch_default_dtype\": \"torch.float32\", \"n_epoch\": 50, \"patience\": 3, \"criteria_for_best\": \"target_accuracy\", \"x_net\": [{\"class\": \"nnReshape\", \"kargs\": {\"shape\": [-1, 1, 2, 256]}}, {\"class\": \"Conv2d\", \"kargs\": {\"in_channels\": 1, \"out_channels\": 256, \"kernel_size\": [1, 7], \"bias\": false, \"padding\": [0, 3]}}, {\"class\": \"ReLU\", \"kargs\": {\"inplace\": true}}, {\"class\": \"BatchNorm2d\", \"kargs\": {\"num_features\": 256}}, {\"class\": \"Conv2d\", \"kargs\": {\"in_channels\": 256, \"out_channels\": 80, \"kernel_size\": [2, 7], \"bias\": true, \"padding\": [0, 3]}}, {\"class\": \"ReLU\", \"kargs\": {\"inplace\": true}}, {\"class\": \"BatchNorm2d\", \"kargs\": {\"num_features\": 80}}, {\"class\": \"Flatten\", \"kargs\": {}}, {\"class\": \"Linear\", \"kargs\": {\"in_features\": 20480, \"out_features\": 256}}, {\"class\": \"ReLU\", \"kargs\": {\"inplace\": true}}, {\"class\": \"BatchNorm1d\", \"kargs\": {\"num_features\": 256}}, {\"class\": \"Linear\", \"kargs\": {\"in_features\": 256, \"out_features\": 256}}], \"NUM_LOGS_PER_EPOCH\": 10, \"BEST_MODEL_PATH\": \"./best_model.pth\", \"n_way\": 16, \"datasets\": [{\"labels\": [\"3123D52\", \"3123D65\", \"3123D79\", \"3123D80\", \"3123D54\", \"3123D70\", \"3123D7B\", \"3123D89\", \"3123D58\", \"3123D76\", \"3123D7D\", \"3123EFE\", \"3123D64\", \"3123D78\", \"3123D7E\", \"3124E4A\"], \"domains\": [32, 38, 8, 44, 14, 50, 20, 26], \"num_examples_per_domain_per_label\": 10000, \"pickle_path\": \"/mnt/wd500GB/CSC500/csc500-main/datasets/oracle.Run1_10kExamples_stratified_ds.2022A.pkl\", \"source_or_target_dataset\": \"source\", \"x_transforms\": [], \"episode_transforms\": [], \"domain_prefix\": \"ORACLE.run1_\"}, {\"labels\": [\"3123D52\", \"3123D65\", \"3123D79\", \"3123D80\", \"3123D54\", \"3123D70\", \"3123D7B\", \"3123D89\", \"3123D58\", \"3123D76\", \"3123D7D\", \"3123EFE\", \"3123D64\", \"3123D78\", \"3123D7E\", \"3124E4A\"], \"domains\": [32, 38, 8, 44, 14, 50, 20, 26], \"num_examples_per_domain_per_label\": 10000, \"pickle_path\": \"/mnt/wd500GB/CSC500/csc500-main/datasets/oracle.Run2_10kExamples_stratified_ds.2022A.pkl\", \"source_or_target_dataset\": \"target\", \"x_transforms\": [], \"episode_transforms\": [], \"domain_prefix\": \"ORACLE.run2_\"}], \"dataset_seed\": 1337, \"seed\": 1337, \"x_shape\": [2, 256], \"domains_source\": [\"ORACLE.run1_32\", \"ORACLE.run1_38\", \"ORACLE.run1_8\", \"ORACLE.run1_44\", \"ORACLE.run1_14\", \"ORACLE.run1_50\", \"ORACLE.run1_20\", \"ORACLE.run1_26\"], \"domains_target\": [\"ORACLE.run2_32\", \"ORACLE.run2_38\", \"ORACLE.run2_8\", \"ORACLE.run2_44\", \"ORACLE.run2_14\", \"ORACLE.run2_50\", \"ORACLE.run2_20\", \"ORACLE.run2_26\"]}, \"results\": {\"source_test_label_accuracy\": 0.8752604166666667, \"source_test_label_loss\": 0.36643123626708984, \"target_test_label_accuracy\": 0.8717513020833333, \"target_test_label_loss\": 0.45518073439598083, \"source_val_label_accuracy\": 0.8751627604166666, \"source_val_label_loss\": 0.36694368720054626, \"target_val_label_accuracy\": 0.870859375, \"target_val_label_loss\": 0.467915415763855, \"total_epochs_trained\": 8, \"total_experiment_time_secs\": 7370.235475063324, \"confusion\": {\"ORACLE.run1_14\": {\"15\": {\"15\": 1200}, \"3\": {\"3\": 1175, \"14\": 16, \"0\": 6, \"2\": 2, \"13\": 1}, \"6\": {\"6\": 818, \"13\": 290, \"2\": 26, \"14\": 65, \"3\": 1}, \"1\": {\"1\": 1200}, \"8\": {\"8\": 1200}, \"10\": {\"10\": 1200}, \"9\": {\"9\": 1200}, \"13\": {\"14\": 226, \"6\": 450, \"13\": 430, \"5\": 2, \"2\": 85, \"4\": 6, \"3\": 1}, \"12\": {\"12\": 1200}, \"5\": {\"5\": 1121, \"2\": 63, \"3\": 5, \"4\": 3, \"7\": 8}, \"0\": {\"3\": 36, \"0\": 1154, \"8\": 5, \"10\": 5}, \"2\": {\"2\": 699, \"14\": 123, \"4\": 70, \"6\": 54, \"5\": 172, \"3\": 30, \"13\": 42, \"7\": 10}, \"11\": {\"11\": 1200}, \"14\": {\"14\": 1041, \"2\": 33, \"13\": 78, \"5\": 1, \"6\": 26, \"3\": 21}, \"7\": {\"7\": 1197, \"5\": 3}, \"4\": {\"4\": 1187, \"5\": 9, \"2\": 4}}, \"ORACLE.run1_20\": {\"3\": {\"3\": 844, \"1\": 18, \"5\": 126, \"9\": 140, \"8\": 57, \"7\": 4, \"0\": 11}, \"15\": {\"15\": 984, \"12\": 132, \"1\": 65, \"2\": 5, \"9\": 12, \"13\": 2}, \"8\": {\"8\": 1107, \"3\": 32, \"14\": 61}, \"4\": {\"4\": 1155, \"12\": 28, \"10\": 1, \"7\": 7, \"2\": 9}, \"14\": {\"14\": 1167, \"8\": 33}, \"0\": {\"0\": 1174, \"5\": 15, \"3\": 8, \"8\": 3}, \"7\": {\"7\": 1057, \"6\": 11, \"2\": 86, \"9\": 38, \"3\": 1, \"4\": 5, \"12\": 2}, \"6\": {\"6\": 1185, \"7\": 12, \"4\": 2, \"14\": 1}, \"10\": {\"10\": 1200}, \"5\": {\"5\": 870, \"1\": 226, \"9\": 12, \"3\": 92}, \"2\": {\"7\": 95, \"2\": 910, \"12\": 159, \"13\": 10, \"9\": 17, \"15\": 3, \"4\": 6}, \"12\": {\"2\": 130, \"12\": 948, \"15\": 99, \"7\": 4, \"4\": 13, \"1\": 2, \"13\": 2, \"9\": 2}, \"9\": {\"9\": 1022, \"3\": 50, \"7\": 53, \"1\": 48, \"12\": 5, \"5\": 11, \"2\": 10, \"15\": 1}, \"1\": {\"1\": 943, \"5\": 192, \"9\": 44, \"3\": 4, \"15\": 14, \"12\": 3}, \"11\": {\"11\": 1200}, \"13\": {\"13\": 1170, \"2\": 19, \"12\": 10, \"15\": 1}}, \"ORACLE.run1_38\": {\"5\": {\"8\": 393, \"5\": 587, \"15\": 44, \"13\": 2, \"9\": 74, \"0\": 3, \"7\": 97}, \"8\": {\"8\": 712, \"5\": 379, \"15\": 12, \"7\": 79, \"0\": 6, \"13\": 10, \"9\": 1, \"12\": 1}, \"11\": {\"11\": 1200}, \"1\": {\"1\": 1200}, \"10\": {\"10\": 1122, \"13\": 43, \"0\": 31, \"4\": 4}, \"15\": {\"15\": 1150, \"8\": 17, \"5\": 29, \"1\": 4}, \"3\": {\"3\": 1198, \"0\": 2}, \"7\": {\"7\": 1177, \"0\": 12, \"8\": 6, \"5\": 2, \"9\": 3}, \"4\": {\"4\": 1196, \"10\": 4}, \"14\": {\"14\": 1123, \"2\": 75, \"13\": 2}, \"9\": {\"9\": 1184, \"5\": 15, \"8\": 1}, \"12\": {\"12\": 1200}, \"6\": {\"6\": 1200}, \"2\": {\"2\": 1134, \"14\": 63, \"13\": 3}, \"0\": {\"13\": 35, \"0\": 863, \"7\": 142, \"3\": 73, \"10\": 77, \"8\": 7, \"5\": 2, \"4\": 1}, \"13\": {\"13\": 1146, \"0\": 8, \"10\": 45, \"2\": 1}}, \"ORACLE.run1_8\": {\"9\": {\"9\": 1200}, \"10\": {\"10\": 849, \"13\": 211, \"5\": 53, \"1\": 62, \"6\": 10, \"4\": 8, \"11\": 7}, \"13\": {\"13\": 979, \"10\": 142, \"7\": 49, \"5\": 7, \"6\": 23}, \"0\": {\"0\": 1200}, \"1\": {\"11\": 231, \"1\": 851, \"10\": 68, \"13\": 21, \"4\": 1, \"5\": 28}, \"15\": {\"15\": 1044, \"12\": 143, \"2\": 13}, \"5\": {\"5\": 904, \"1\": 98, \"10\": 130, \"4\": 7, \"11\": 49, \"13\": 7, \"14\": 5}, \"3\": {\"3\": 1200}, \"6\": {\"7\": 114, \"6\": 1081, \"13\": 2, \"8\": 1, \"10\": 2}, \"11\": {\"4\": 69, \"11\": 642, \"1\": 420, \"14\": 38, \"6\": 9, \"10\": 5, \"7\": 1, \"8\": 6, \"5\": 10}, \"8\": {\"8\": 1162, \"6\": 32, \"4\": 5, \"7\": 1}, \"4\": {\"4\": 1191, \"14\": 6, \"11\": 1, \"6\": 2}, \"12\": {\"12\": 935, \"15\": 261, \"2\": 4}, \"14\": {\"14\": 1107, \"4\": 89, \"11\": 4}, \"2\": {\"15\": 110, \"2\": 849, \"3\": 169, \"12\": 72}, \"7\": {\"7\": 1115, \"6\": 83, \"13\": 2}}, \"ORACLE.run1_50\": {\"7\": {\"7\": 1096, \"4\": 18, \"5\": 86}, \"3\": {\"3\": 1200}, \"8\": {\"8\": 1195, \"10\": 5}, \"2\": {\"2\": 1162, \"0\": 37, \"14\": 1}, \"14\": {\"14\": 1198, \"2\": 2}, \"4\": {\"4\": 1010, \"5\": 48, \"15\": 33, \"7\": 98, \"6\": 11}, \"6\": {\"6\": 1054, \"5\": 111, \"15\": 35}, \"15\": {\"15\": 1145, \"6\": 47, \"4\": 2, \"11\": 5, \"5\": 1}, \"10\": {\"10\": 1184, \"8\": 12, \"0\": 4}, \"11\": {\"11\": 1140, \"9\": 39, \"12\": 14, \"15\": 7}, \"13\": {\"13\": 1198, \"1\": 1, \"5\": 1}, \"9\": {\"9\": 1052, \"11\": 86, \"12\": 62}, \"0\": {\"0\": 1139, \"2\": 49, \"10\": 12}, \"1\": {\"1\": 1183, \"13\": 15, \"10\": 1, \"0\": 1}, \"12\": {\"12\": 1138, \"9\": 49, \"11\": 13}, \"5\": {\"6\": 241, \"7\": 361, \"5\": 493, \"13\": 26, \"4\": 68, \"15\": 7, \"1\": 4}}, \"ORACLE.run1_32\": {\"8\": {\"8\": 937, \"5\": 127, \"7\": 10, \"0\": 97, \"4\": 10, \"14\": 14, \"2\": 1, \"13\": 3, \"15\": 1}, \"14\": {\"5\": 28, \"14\": 795, \"7\": 295, \"2\": 22, \"0\": 28, \"8\": 19, \"4\": 13}, \"2\": {\"4\": 109, \"2\": 1091}, \"0\": {\"0\": 911, \"5\": 57, \"8\": 60, \"7\": 151, \"14\": 21}, \"1\": {\"1\": 1200}, \"10\": {\"10\": 1200}, \"11\": {\"11\": 1198, \"13\": 2}, \"5\": {\"5\": 712, \"8\": 135, \"7\": 211, \"0\": 102, \"14\": 40}, \"15\": {\"15\": 1196, \"8\": 4}, \"3\": {\"3\": 1159, \"13\": 41}, \"12\": {\"12\": 1200}, \"7\": {\"5\": 167, \"7\": 829, \"14\": 108, \"0\": 88, \"8\": 8}, \"13\": {\"13\": 937, \"3\": 123, \"11\": 12, \"4\": 128}, \"6\": {\"6\": 1200}, \"4\": {\"4\": 1071, \"2\": 117, \"13\": 12}, \"9\": {\"9\": 1188, \"12\": 9, \"2\": 3}}, \"ORACLE.run1_26\": {\"4\": {\"4\": 1198, \"3\": 2}, \"12\": {\"12\": 1200}, \"10\": {\"10\": 841, \"15\": 19, \"14\": 168, \"6\": 36, \"0\": 134, \"1\": 2}, \"0\": {\"0\": 825, \"14\": 107, \"10\": 220, \"15\": 7, \"8\": 38, \"2\": 1, \"6\": 1, \"1\": 1}, \"13\": {\"13\": 1097, \"2\": 31, \"9\": 55, \"3\": 15, \"4\": 2}, \"9\": {\"9\": 896, \"8\": 221, \"13\": 32, \"2\": 36, \"7\": 15}, \"3\": {\"3\": 1124, \"2\": 12, \"7\": 60, \"13\": 1, \"4\": 2, \"9\": 1}, \"2\": {\"2\": 737, \"7\": 170, \"3\": 129, \"0\": 13, \"9\": 90, \"8\": 52, \"13\": 5, \"15\": 3, \"10\": 1}, \"5\": {\"5\": 1003, \"15\": 172, \"6\": 24, \"10\": 1}, \"14\": {\"14\": 888, \"10\": 183, \"0\": 73, \"1\": 48, \"15\": 4, \"6\": 4}, \"8\": {\"8\": 889, \"9\": 143, \"7\": 137, \"2\": 19, \"0\": 12}, \"7\": {\"7\": 922, \"8\": 103, \"2\": 118, \"9\": 17, \"3\": 40}, \"6\": {\"6\": 1069, \"15\": 67, \"10\": 31, \"1\": 6, \"5\": 25, \"14\": 2}, \"11\": {\"11\": 1200}, \"15\": {\"15\": 769, \"5\": 284, \"10\": 40, \"6\": 102, \"0\": 4, \"1\": 1}, \"1\": {\"1\": 988, \"14\": 163, \"10\": 25, \"6\": 18, \"0\": 3, \"15\": 3}}, \"ORACLE.run1_44\": {\"12\": {\"12\": 1180, \"3\": 20}, \"7\": {\"7\": 1063, \"9\": 126, \"10\": 10, \"6\": 1}, \"5\": {\"5\": 1111, \"14\": 33, \"15\": 49, \"4\": 1, \"8\": 5, \"0\": 1}, \"15\": {\"15\": 1097, \"5\": 31, \"14\": 43, \"8\": 24, \"0\": 5}, \"8\": {\"8\": 849, \"0\": 291, \"5\": 15, \"15\": 45}, \"2\": {\"2\": 1163, \"1\": 29, \"10\": 6, \"7\": 2}, \"13\": {\"13\": 991, \"6\": 190, \"9\": 16, \"11\": 3}, \"4\": {\"4\": 831, \"14\": 353, \"9\": 1, \"13\": 3, \"15\": 9, \"5\": 3}, \"0\": {\"0\": 1052, \"8\": 145, \"15\": 3}, \"6\": {\"6\": 1013, \"13\": 148, \"9\": 38, \"7\": 1}, \"9\": {\"13\": 84, \"9\": 616, \"7\": 318, \"6\": 182}, \"11\": {\"11\": 1200}, \"10\": {\"10\": 1133, \"1\": 31, \"7\": 19, \"2\": 17}, \"14\": {\"4\": 253, \"14\": 876, \"5\": 34, \"15\": 37}, \"1\": {\"1\": 1147, \"2\": 53}, \"3\": {\"3\": 1187, \"12\": 13}}, \"ORACLE.run2_14\": {\"15\": {\"15\": 1200}, \"3\": {\"3\": 1181, \"2\": 14, \"14\": 4, \"5\": 1}, \"6\": {\"13\": 292, \"6\": 889, \"14\": 13, \"3\": 1, \"2\": 5}, \"1\": {\"1\": 1200}, \"8\": {\"8\": 1200}, \"10\": {\"10\": 1052, \"0\": 129, \"14\": 15, \"3\": 3, \"12\": 1}, \"9\": {\"9\": 1200}, \"13\": {\"13\": 936, \"6\": 259, \"14\": 2, \"2\": 3}, \"12\": {\"12\": 549, \"9\": 264, \"10\": 206, \"3\": 13, \"1\": 21, \"11\": 47, \"0\": 34, \"8\": 26, \"15\": 40}, \"5\": {\"5\": 1124, \"2\": 76}, \"0\": {\"0\": 1191, \"10\": 9}, \"2\": {\"2\": 525, \"3\": 74, \"14\": 269, \"5\": 281, \"6\": 16, \"7\": 6, \"13\": 17, \"4\": 12}, \"11\": {\"11\": 1200}, \"14\": {\"14\": 880, \"2\": 221, \"5\": 15, \"3\": 16, \"13\": 19, \"6\": 48, \"10\": 1}, \"7\": {\"7\": 1200}, \"4\": {\"4\": 1200}}, \"ORACLE.run2_20\": {\"3\": {\"3\": 578, \"5\": 81, \"7\": 161, \"2\": 103, \"9\": 188, \"4\": 41, \"15\": 48}, \"15\": {\"15\": 820, \"9\": 232, \"2\": 77, \"12\": 15, \"3\": 26, \"1\": 7, \"5\": 14, \"13\": 8, \"4\": 1}, \"8\": {\"8\": 1079, \"14\": 115, \"0\": 6}, \"4\": {\"4\": 1095, \"3\": 49, \"2\": 3, \"9\": 17, \"5\": 10, \"15\": 14, \"7\": 12}, \"14\": {\"14\": 1042, \"8\": 158}, \"0\": {\"0\": 1183, \"8\": 6, \"1\": 11}, \"7\": {\"7\": 1062, \"3\": 114, \"6\": 6, \"10\": 8, \"5\": 2, \"2\": 1, \"9\": 6, \"4\": 1}, \"6\": {\"6\": 1162, \"7\": 16, \"10\": 22}, \"10\": {\"10\": 1119, \"6\": 48, \"7\": 27, \"12\": 5, \"4\": 1}, \"5\": {\"5\": 600, \"15\": 36, \"1\": 136, \"2\": 262, \"9\": 82, \"3\": 64, \"4\": 14, \"0\": 2, \"7\": 4}, \"2\": {\"9\": 295, \"5\": 265, \"2\": 452, \"3\": 114, \"15\": 62, \"4\": 3, \"1\": 7, \"7\": 2}, \"12\": {\"12\": 1100, \"13\": 99, \"3\": 1}, \"9\": {\"9\": 481, \"15\": 183, \"2\": 337, \"5\": 73, \"4\": 10, \"3\": 112, \"1\": 1, \"7\": 3}, \"1\": {\"1\": 1145, \"5\": 40, \"9\": 3, \"2\": 7, \"15\": 3, \"0\": 2}, \"11\": {\"11\": 1200}, \"13\": {\"13\": 1027, \"12\": 166, \"15\": 7}}, \"ORACLE.run2_38\": {\"5\": {\"8\": 384, \"5\": 809, \"7\": 4, \"0\": 2, \"12\": 1}, \"8\": {\"8\": 1045, \"5\": 136, \"7\": 17, \"0\": 1, \"14\": 1}, \"11\": {\"11\": 1200}, \"1\": {\"1\": 1144, \"15\": 56}, \"10\": {\"10\": 1143, \"3\": 23, \"13\": 27, \"4\": 7}, \"15\": {\"15\": 928, \"1\": 225, \"5\": 17, \"6\": 29, \"9\": 1}, \"3\": {\"3\": 789, \"13\": 310, \"10\": 91, \"0\": 10}, \"7\": {\"7\": 1153, \"8\": 24, \"0\": 21, \"14\": 1, \"5\": 1}, \"4\": {\"4\": 1192, \"10\": 5, \"7\": 3}, \"14\": {\"14\": 717, \"2\": 358, \"7\": 72, \"12\": 31, \"4\": 19, \"5\": 1, \"8\": 2}, \"9\": {\"9\": 1198, \"0\": 1, \"5\": 1}, \"12\": {\"12\": 1195, \"14\": 4, \"5\": 1}, \"6\": {\"6\": 1198, \"15\": 2}, \"2\": {\"2\": 1094, \"14\": 106}, \"0\": {\"0\": 1177, \"7\": 21, \"8\": 2}, \"13\": {\"13\": 910, \"3\": 228, \"10\": 62}}, \"ORACLE.run2_8\": {\"9\": {\"9\": 1200}, \"10\": {\"10\": 1089, \"5\": 74, \"13\": 36, \"1\": 1}, \"13\": {\"13\": 1142, \"10\": 51, \"7\": 7}, \"0\": {\"0\": 1200}, \"1\": {\"1\": 1036, \"10\": 49, \"5\": 63, \"13\": 48, \"14\": 4}, \"15\": {\"15\": 1176, \"12\": 24}, \"5\": {\"1\": 109, \"5\": 869, \"10\": 216, \"13\": 6}, \"3\": {\"3\": 1200}, \"6\": {\"6\": 1129, \"14\": 67, \"8\": 4}, \"11\": {\"11\": 612, \"7\": 100, \"13\": 20, \"12\": 32, \"6\": 33, \"8\": 398, \"2\": 1, \"14\": 4}, \"8\": {\"8\": 1128, \"11\": 55, \"14\": 2, \"6\": 15}, \"4\": {\"4\": 1009, \"7\": 169, \"6\": 20, \"14\": 2}, \"12\": {\"12\": 1188, \"15\": 12}, \"14\": {\"14\": 1132, \"6\": 68}, \"2\": {\"2\": 1200}, \"7\": {\"7\": 1151, \"4\": 49}}, \"ORACLE.run2_50\": {\"7\": {\"7\": 1104, \"5\": 63, \"4\": 33}, \"3\": {\"3\": 1200}, \"8\": {\"8\": 1200}, \"2\": {\"2\": 1178, \"0\": 22}, \"14\": {\"14\": 1200}, \"4\": {\"4\": 918, \"5\": 230, \"15\": 9, \"6\": 24, \"7\": 19}, \"6\": {\"6\": 1060, \"5\": 91, \"15\": 15, \"4\": 34}, \"15\": {\"15\": 1172, \"6\": 23, \"4\": 5}, \"10\": {\"10\": 1189, \"0\": 8, \"13\": 2, \"1\": 1}, \"11\": {\"11\": 1186, \"12\": 12, \"15\": 2}, \"13\": {\"13\": 1200}, \"9\": {\"9\": 1192, \"12\": 8}, \"0\": {\"0\": 1165, \"2\": 32, \"10\": 3}, \"1\": {\"1\": 1199, \"13\": 1}, \"12\": {\"12\": 1172, \"11\": 6, \"9\": 22}, \"5\": {\"5\": 790, \"6\": 63, \"7\": 105, \"4\": 242}}, \"ORACLE.run2_32\": {\"8\": {\"8\": 1127, \"0\": 62, \"7\": 10, \"5\": 1}, \"14\": {\"14\": 751, \"2\": 422, \"5\": 10, \"0\": 11, \"8\": 1, \"7\": 5}, \"2\": {\"2\": 892, \"14\": 257, \"0\": 31, \"7\": 18, \"8\": 2}, \"0\": {\"0\": 874, \"7\": 142, \"2\": 54, \"8\": 89, \"14\": 9, \"4\": 30, \"11\": 1, \"5\": 1}, \"1\": {\"1\": 1200}, \"10\": {\"10\": 1200}, \"11\": {\"0\": 18, \"11\": 641, \"13\": 233, \"4\": 294, \"7\": 14}, \"5\": {\"5\": 1109, \"2\": 41, \"14\": 33, \"8\": 4, \"15\": 8, \"7\": 5}, \"15\": {\"15\": 1197, \"5\": 3}, \"3\": {\"3\": 1179, \"13\": 15, \"11\": 4, \"4\": 2}, \"12\": {\"12\": 1200}, \"7\": {\"7\": 1083, \"2\": 17, \"0\": 85, \"8\": 14, \"14\": 1}, \"13\": {\"13\": 1001, \"11\": 135, \"3\": 26, \"4\": 38}, \"6\": {\"6\": 1200}, \"4\": {\"4\": 1110, \"11\": 68, \"0\": 19, \"13\": 3}, \"9\": {\"9\": 1199, \"11\": 1}}, \"ORACLE.run2_26\": {\"4\": {\"4\": 1191, \"3\": 9}, \"12\": {\"12\": 1200}, \"10\": {\"0\": 317, \"10\": 435, \"14\": 237, \"1\": 49, \"15\": 12, \"6\": 46, \"2\": 5, \"8\": 90, \"9\": 7, \"5\": 2}, \"0\": {\"0\": 735, \"10\": 241, \"14\": 133, \"8\": 46, \"15\": 38, \"2\": 6, \"5\": 1}, \"13\": {\"13\": 1072, \"9\": 114, \"7\": 10, \"8\": 1, \"3\": 2, \"2\": 1}, \"9\": {\"9\": 858, \"7\": 41, \"13\": 79, \"8\": 181, \"2\": 40, \"10\": 1}, \"3\": {\"3\": 1052, \"7\": 128, \"4\": 18, \"2\": 2}, \"2\": {\"2\": 814, \"9\": 51, \"7\": 142, \"8\": 139, \"15\": 46, \"3\": 4, \"13\": 4}, \"5\": {\"5\": 787, \"6\": 295, \"15\": 76, \"14\": 15, \"1\": 10, \"9\": 3, \"10\": 7, \"0\": 3, \"2\": 3, \"8\": 1}, \"14\": {\"14\": 744, \"10\": 155, \"0\": 205, \"1\": 61, \"6\": 29, \"5\": 4, \"8\": 1, \"15\": 1}, \"8\": {\"8\": 822, \"0\": 16, \"2\": 175, \"9\": 154, \"7\": 7, \"10\": 19, \"15\": 7}, \"7\": {\"7\": 762, \"2\": 195, \"9\": 48, \"3\": 156, \"8\": 28, \"13\": 11}, \"6\": {\"6\": 1074, \"5\": 99, \"1\": 8, \"14\": 14, \"10\": 4, \"0\": 1}, \"11\": {\"11\": 1200}, \"15\": {\"15\": 1058, \"2\": 82, \"0\": 27, \"8\": 28, \"7\": 2, \"10\": 3}, \"1\": {\"1\": 1191, \"5\": 2, \"14\": 1, \"6\": 6}}, \"ORACLE.run2_44\": {\"12\": {\"12\": 1129, \"3\": 70, \"1\": 1}, \"7\": {\"9\": 358, \"7\": 835, \"6\": 5, \"10\": 2}, \"5\": {\"5\": 1132, \"14\": 45, \"8\": 16, \"15\": 7}, \"15\": {\"15\": 1149, \"8\": 17, \"4\": 4, \"14\": 14, \"5\": 13, \"0\": 3}, \"8\": {\"8\": 1021, \"0\": 152, \"5\": 15, \"15\": 12}, \"2\": {\"2\": 1191, \"1\": 9}, \"13\": {\"13\": 1172, \"6\": 16, \"4\": 11, \"14\": 1}, \"4\": {\"4\": 1115, \"14\": 85}, \"0\": {\"0\": 923, \"8\": 275, \"15\": 1, \"5\": 1}, \"6\": {\"6\": 1185, \"7\": 4, \"13\": 10, \"9\": 1}, \"9\": {\"9\": 809, \"7\": 372, \"6\": 19}, \"11\": {\"11\": 1200}, \"10\": {\"10\": 1200}, \"14\": {\"14\": 1076, \"4\": 100, \"5\": 22, \"15\": 2}, \"1\": {\"1\": 1193, \"2\": 7}, \"3\": {\"3\": 1126, \"12\": 74}}}, \"per_domain_accuracy\": {\"ORACLE.run1_14\": {\"accuracy\": 0.8969791666666667, \"source?\": true}, \"ORACLE.run1_20\": {\"accuracy\": 0.8820833333333333, \"source?\": true}, \"ORACLE.run1_38\": {\"accuracy\": 0.9058333333333334, \"source?\": true}, \"ORACLE.run1_8\": {\"accuracy\": 0.8494270833333334, \"source?\": true}, \"ORACLE.run1_50\": {\"accuracy\": 0.9159895833333334, \"source?\": true}, \"ORACLE.run1_32\": {\"accuracy\": 0.87625, \"source?\": true}, \"ORACLE.run1_26\": {\"accuracy\": 0.8148958333333334, \"source?\": true}, \"ORACLE.run1_44\": {\"accuracy\": 0.85984375, \"source?\": true}, \"ORACLE.run2_14\": {\"accuracy\": 0.8711979166666667, \"source?\": false}, \"ORACLE.run2_20\": {\"accuracy\": 0.7888020833333333, \"source?\": false}, \"ORACLE.run2_38\": {\"accuracy\": 0.8797916666666666, \"source?\": false}, \"ORACLE.run2_8\": {\"accuracy\": 0.9094270833333333, \"source?\": false}, \"ORACLE.run2_50\": {\"accuracy\": 0.9440104166666666, \"source?\": false}, \"ORACLE.run2_32\": {\"accuracy\": 0.8834895833333334, \"source?\": false}, \"ORACLE.run2_26\": {\"accuracy\": 0.7809895833333333, \"source?\": false}, \"ORACLE.run2_44\": {\"accuracy\": 0.9091666666666667, \"source?\": false}}}, \"history\": {\"epoch_indices\": [1, 2, 3, 4, 5, 6, 7, 8], \"train_label_loss\": [0.6819661525896351, 0.4077862290000277, 0.33904211197724743, 0.3077471551869253, 0.27944217445933084, 0.2576112960910818, 0.238704950332564, 0.22178104175782037], \"source_val_label_loss\": [1.3289204835891724, 0.40303489565849304, 0.38278037309646606, 0.36694368720054626, 0.3432139754295349, 0.3313347101211548, 0.3315732181072235, 0.33040913939476013], \"target_val_label_loss\": [1.379804015159607, 0.4715372323989868, 0.48622462153434753, 0.467915415763855, 0.45008012652397156, 0.4504872262477875, 0.46626919507980347, 0.4837481677532196], \"source_val_acc_label\": [0.727265625, 0.86146484375, 0.86759765625, 0.8751627604166666, 0.8779557291666666, 0.8807356770833333, 0.88017578125, 0.8846354166666667], \"target_val_acc_label\": [0.7435481770833333, 0.8651106770833333, 0.8678125, 0.870859375, 0.8697916666666666, 0.8691861979166666, 0.8685221354166667, 0.8699739583333334]}, \"dataset_metrics\": {\"source\": {\"train\": {\"n_unique_x\": 896000, \"n_unique_y\": 16, \"n_batch/episode\": 33600}, \"val\": {\"n_unique_x\": 192000, \"n_unique_y\": 16, \"n_batch/episode\": 4800}, \"test\": {\"n_unique_x\": 192000, \"n_unique_y\": 16, \"n_batch/episode\": 4800}}, \"target\": {\"train\": {\"n_unique_x\": 896000, \"n_unique_y\": 16, \"n_batch/episode\": 33600}, \"val\": {\"n_unique_x\": 192000, \"n_unique_y\": 16, \"n_batch/episode\": 4800}, \"test\": {\"n_unique_x\": 192000, \"n_unique_y\": 16, \"n_batch/episode\": 4800}}}}'"
      ]
     },
     "execution_count": 29,
     "metadata": {},
     "output_type": "execute_result"
    }
   ],
   "source": [
    "json.dumps(experiment)"
   ]
  }
 ],
 "metadata": {
  "celltoolbar": "Tags",
  "kernelspec": {
   "display_name": "Python 3 (ipykernel)",
   "language": "python",
   "name": "python3"
  },
  "language_info": {
   "codemirror_mode": {
    "name": "ipython",
    "version": 3
   },
   "file_extension": ".py",
   "mimetype": "text/x-python",
   "name": "python",
   "nbconvert_exporter": "python",
   "pygments_lexer": "ipython3",
   "version": "3.8.10"
  },
  "papermill": {
   "default_parameters": {},
   "duration": 7857.006148,
   "end_time": "2022-03-23T12:42:46.445876",
   "environment_variables": {},
   "exception": null,
   "input_path": "/mnt/wd500GB/CSC500/csc500-main/csc500-notebooks/templates/tl_ptn_template.ipynb",
   "output_path": "trial.ipynb",
   "parameters": {
    "parameters": {
     "BEST_MODEL_PATH": "./best_model.pth",
     "NUM_LOGS_PER_EPOCH": 10,
     "criteria_for_best": "target_accuracy",
     "dataset_seed": 1337,
     "datasets": [
      {
       "domain_prefix": "ORACLE.run1_",
       "domains": [
        32,
        38,
        8,
        44,
        14,
        50,
        20,
        26
       ],
       "episode_transforms": [],
       "labels": [
        "3123D52",
        "3123D65",
        "3123D79",
        "3123D80",
        "3123D54",
        "3123D70",
        "3123D7B",
        "3123D89",
        "3123D58",
        "3123D76",
        "3123D7D",
        "3123EFE",
        "3123D64",
        "3123D78",
        "3123D7E",
        "3124E4A"
       ],
       "num_examples_per_domain_per_label": 10000,
       "pickle_path": "/mnt/wd500GB/CSC500/csc500-main/datasets/oracle.Run1_10kExamples_stratified_ds.2022A.pkl",
       "source_or_target_dataset": "source",
       "x_transforms": []
      },
      {
       "domain_prefix": "ORACLE.run2_",
       "domains": [
        32,
        38,
        8,
        44,
        14,
        50,
        20,
        26
       ],
       "episode_transforms": [],
       "labels": [
        "3123D52",
        "3123D65",
        "3123D79",
        "3123D80",
        "3123D54",
        "3123D70",
        "3123D7B",
        "3123D89",
        "3123D58",
        "3123D76",
        "3123D7D",
        "3123EFE",
        "3123D64",
        "3123D78",
        "3123D7E",
        "3124E4A"
       ],
       "num_examples_per_domain_per_label": 10000,
       "pickle_path": "/mnt/wd500GB/CSC500/csc500-main/datasets/oracle.Run2_10kExamples_stratified_ds.2022A.pkl",
       "source_or_target_dataset": "target",
       "x_transforms": []
      }
     ],
     "device": "cuda",
     "experiment_name": "tl_1v2:oracle.run1-oracle.run2",
     "lr": 0.0001,
     "n_epoch": 50,
     "n_query": 2,
     "n_shot": 3,
     "n_way": 16,
     "patience": 3,
     "seed": 1337,
     "test_k_factor": 2,
     "torch_default_dtype": "torch.float32",
     "train_k_factor": 3,
     "val_k_factor": 2,
     "x_net": [
      {
       "class": "nnReshape",
       "kargs": {
        "shape": [
         -1,
         1,
         2,
         256
        ]
       }
      },
      {
       "class": "Conv2d",
       "kargs": {
        "bias": false,
        "in_channels": 1,
        "kernel_size": [
         1,
         7
        ],
        "out_channels": 256,
        "padding": [
         0,
         3
        ]
       }
      },
      {
       "class": "ReLU",
       "kargs": {
        "inplace": true
       }
      },
      {
       "class": "BatchNorm2d",
       "kargs": {
        "num_features": 256
       }
      },
      {
       "class": "Conv2d",
       "kargs": {
        "bias": true,
        "in_channels": 256,
        "kernel_size": [
         2,
         7
        ],
        "out_channels": 80,
        "padding": [
         0,
         3
        ]
       }
      },
      {
       "class": "ReLU",
       "kargs": {
        "inplace": true
       }
      },
      {
       "class": "BatchNorm2d",
       "kargs": {
        "num_features": 80
       }
      },
      {
       "class": "Flatten",
       "kargs": {}
      },
      {
       "class": "Linear",
       "kargs": {
        "in_features": 20480,
        "out_features": 256
       }
      },
      {
       "class": "ReLU",
       "kargs": {
        "inplace": true
       }
      },
      {
       "class": "BatchNorm1d",
       "kargs": {
        "num_features": 256
       }
      },
      {
       "class": "Linear",
       "kargs": {
        "in_features": 256,
        "out_features": 256
       }
      }
     ]
    }
   },
   "start_time": "2022-03-23T10:31:49.439728",
   "version": "2.3.4"
  }
 },
 "nbformat": 4,
 "nbformat_minor": 5
}