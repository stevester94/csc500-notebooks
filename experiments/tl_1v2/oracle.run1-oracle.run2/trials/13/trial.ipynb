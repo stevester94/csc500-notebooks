{
 "cells": [
  {
   "cell_type": "markdown",
   "id": "9fea5f46",
   "metadata": {
    "papermill": {
     "duration": 0.016976,
     "end_time": "2022-03-24T18:07:29.026218",
     "exception": false,
     "start_time": "2022-03-24T18:07:29.009242",
     "status": "completed"
    },
    "tags": []
   },
   "source": [
    "# Transfer Learning Template"
   ]
  },
  {
   "cell_type": "code",
   "execution_count": 1,
   "id": "0902182a",
   "metadata": {
    "execution": {
     "iopub.execute_input": "2022-03-24T18:07:29.065790Z",
     "iopub.status.busy": "2022-03-24T18:07:29.065324Z",
     "iopub.status.idle": "2022-03-24T18:07:30.187841Z",
     "shell.execute_reply": "2022-03-24T18:07:30.187262Z"
    },
    "papermill": {
     "duration": 1.149431,
     "end_time": "2022-03-24T18:07:30.187954",
     "exception": false,
     "start_time": "2022-03-24T18:07:29.038523",
     "status": "completed"
    },
    "tags": []
   },
   "outputs": [],
   "source": [
    "%load_ext autoreload\n",
    "%autoreload 2\n",
    "%matplotlib inline\n",
    "\n",
    "    \n",
    "import os, json, sys, time, random\n",
    "import numpy as np\n",
    "import torch\n",
    "from torch.optim import Adam\n",
    "from  easydict import EasyDict\n",
    "import matplotlib.pyplot as plt\n",
    "\n",
    "from steves_models.steves_ptn import Steves_Prototypical_Network\n",
    "\n",
    "from steves_utils.lazy_iterable_wrapper import Lazy_Iterable_Wrapper\n",
    "from steves_utils.iterable_aggregator import Iterable_Aggregator\n",
    "from steves_utils.ptn_train_eval_test_jig import  PTN_Train_Eval_Test_Jig\n",
    "from steves_utils.torch_sequential_builder import build_sequential\n",
    "from steves_utils.torch_utils import get_dataset_metrics, ptn_confusion_by_domain_over_dataloader\n",
    "from steves_utils.utils_v2 import (per_domain_accuracy_from_confusion, get_datasets_base_path)\n",
    "from steves_utils.PTN.utils import independent_accuracy_assesment\n",
    "\n",
    "from torch.utils.data import DataLoader\n",
    "\n",
    "from steves_utils.stratified_dataset.episodic_accessor import Episodic_Accessor_Factory\n",
    "\n",
    "from steves_utils.ptn_do_report import (\n",
    "    get_loss_curve,\n",
    "    get_results_table,\n",
    "    get_parameters_table,\n",
    "    get_domain_accuracies,\n",
    ")\n",
    "\n",
    "from steves_utils.transforms import get_chained_transform"
   ]
  },
  {
   "cell_type": "markdown",
   "id": "41c840b4",
   "metadata": {
    "papermill": {
     "duration": 0.012444,
     "end_time": "2022-03-24T18:07:30.220336",
     "exception": false,
     "start_time": "2022-03-24T18:07:30.207892",
     "status": "completed"
    },
    "tags": []
   },
   "source": [
    "# Allowed Parameters\n",
    "These are allowed parameters, not defaults\n",
    "Each of these values need to be present in the injected parameters (the notebook will raise an exception if they are not present)\n",
    "\n",
    "Papermill uses the cell tag \"parameters\" to inject the real parameters below this cell.\n",
    "Enable tags to see what I mean"
   ]
  },
  {
   "cell_type": "code",
   "execution_count": 2,
   "id": "fd44eb83",
   "metadata": {
    "execution": {
     "iopub.execute_input": "2022-03-24T18:07:30.248164Z",
     "iopub.status.busy": "2022-03-24T18:07:30.247904Z",
     "iopub.status.idle": "2022-03-24T18:07:30.262544Z",
     "shell.execute_reply": "2022-03-24T18:07:30.262157Z"
    },
    "papermill": {
     "duration": 0.029999,
     "end_time": "2022-03-24T18:07:30.262632",
     "exception": false,
     "start_time": "2022-03-24T18:07:30.232633",
     "status": "completed"
    },
    "tags": []
   },
   "outputs": [],
   "source": [
    "required_parameters = {\n",
    "    \"experiment_name\",\n",
    "    \"lr\",\n",
    "    \"device\",\n",
    "    \"seed\",\n",
    "    \"dataset_seed\",\n",
    "    \"n_shot\",\n",
    "    \"n_query\",\n",
    "    \"n_way\",\n",
    "    \"train_k_factor\",\n",
    "    \"val_k_factor\",\n",
    "    \"test_k_factor\",\n",
    "    \"n_epoch\",\n",
    "    \"patience\",\n",
    "    \"criteria_for_best\",\n",
    "    \"x_net\",\n",
    "    \"datasets\",\n",
    "    \"torch_default_dtype\",\n",
    "    \"NUM_LOGS_PER_EPOCH\",\n",
    "    \"BEST_MODEL_PATH\",\n",
    "    \"x_shape\",\n",
    "}"
   ]
  },
  {
   "cell_type": "code",
   "execution_count": 3,
   "id": "fa3f0049",
   "metadata": {
    "execution": {
     "iopub.execute_input": "2022-03-24T18:07:30.303249Z",
     "iopub.status.busy": "2022-03-24T18:07:30.302946Z",
     "iopub.status.idle": "2022-03-24T18:07:30.315722Z",
     "shell.execute_reply": "2022-03-24T18:07:30.315282Z"
    },
    "papermill": {
     "duration": 0.035033,
     "end_time": "2022-03-24T18:07:30.315810",
     "exception": false,
     "start_time": "2022-03-24T18:07:30.280777",
     "status": "completed"
    },
    "tags": [
     "parameters"
    ]
   },
   "outputs": [],
   "source": [
    "from steves_utils.CORES.utils import (\n",
    "    ALL_NODES,\n",
    "    ALL_NODES_MINIMUM_1000_EXAMPLES,\n",
    "    ALL_DAYS\n",
    ")\n",
    "\n",
    "from steves_utils.ORACLE.utils_v2 import (\n",
    "    ALL_DISTANCES_FEET_NARROWED,\n",
    "    ALL_RUNS,\n",
    "    ALL_SERIAL_NUMBERS,\n",
    ")\n",
    "\n",
    "standalone_parameters = {}\n",
    "standalone_parameters[\"experiment_name\"] = \"STANDALONE PTN\"\n",
    "standalone_parameters[\"lr\"] = 0.001\n",
    "standalone_parameters[\"device\"] = \"cuda\"\n",
    "\n",
    "standalone_parameters[\"seed\"] = 1337\n",
    "standalone_parameters[\"dataset_seed\"] = 1337\n",
    "\n",
    "standalone_parameters[\"n_way\"] = 8\n",
    "standalone_parameters[\"n_shot\"] = 3\n",
    "standalone_parameters[\"n_query\"]  = 2\n",
    "standalone_parameters[\"train_k_factor\"] = 1\n",
    "standalone_parameters[\"val_k_factor\"] = 2\n",
    "standalone_parameters[\"test_k_factor\"] = 2\n",
    "\n",
    "\n",
    "standalone_parameters[\"n_epoch\"] = 50\n",
    "\n",
    "standalone_parameters[\"patience\"] = 10\n",
    "standalone_parameters[\"criteria_for_best\"] = \"source_loss\"\n",
    "\n",
    "standalone_parameters[\"datasets\"] = [\n",
    "    {\n",
    "        \"labels\": ALL_SERIAL_NUMBERS,\n",
    "        \"domains\": ALL_DISTANCES_FEET_NARROWED,\n",
    "        \"num_examples_per_domain_per_label\": 100,\n",
    "        \"pickle_path\": os.path.join(get_datasets_base_path(), \"oracle.Run1_framed_2000Examples_stratified_ds.2022A.pkl\"),\n",
    "        \"source_or_target_dataset\": \"source\",\n",
    "        \"x_transforms\": [\"unit_mag\", \"minus_two\"],\n",
    "        \"episode_transforms\": [],\n",
    "        \"domain_prefix\": \"ORACLE_\"\n",
    "    },\n",
    "    {\n",
    "        \"labels\": ALL_NODES,\n",
    "        \"domains\": ALL_DAYS,\n",
    "        \"num_examples_per_domain_per_label\": 100,\n",
    "        \"pickle_path\": os.path.join(get_datasets_base_path(), \"cores.stratified_ds.2022A.pkl\"),\n",
    "        \"source_or_target_dataset\": \"target\",\n",
    "        \"x_transforms\": [\"unit_power\", \"times_zero\"],\n",
    "        \"episode_transforms\": [],\n",
    "        \"domain_prefix\": \"CORES_\"\n",
    "    }   \n",
    "]\n",
    "\n",
    "standalone_parameters[\"torch_default_dtype\"] = \"torch.float32\" \n",
    "\n",
    "\n",
    "\n",
    "standalone_parameters[\"x_net\"] =     [\n",
    "    {\"class\": \"nnReshape\", \"kargs\": {\"shape\":[-1, 1, 2, 256]}},\n",
    "    {\"class\": \"Conv2d\", \"kargs\": { \"in_channels\":1, \"out_channels\":256, \"kernel_size\":(1,7), \"bias\":False, \"padding\":(0,3), },},\n",
    "    {\"class\": \"ReLU\", \"kargs\": {\"inplace\": True}},\n",
    "    {\"class\": \"BatchNorm2d\", \"kargs\": {\"num_features\":256}},\n",
    "\n",
    "    {\"class\": \"Conv2d\", \"kargs\": { \"in_channels\":256, \"out_channels\":80, \"kernel_size\":(2,7), \"bias\":True, \"padding\":(0,3), },},\n",
    "    {\"class\": \"ReLU\", \"kargs\": {\"inplace\": True}},\n",
    "    {\"class\": \"BatchNorm2d\", \"kargs\": {\"num_features\":80}},\n",
    "    {\"class\": \"Flatten\", \"kargs\": {}},\n",
    "\n",
    "    {\"class\": \"Linear\", \"kargs\": {\"in_features\": 80*256, \"out_features\": 256}}, # 80 units per IQ pair\n",
    "    {\"class\": \"ReLU\", \"kargs\": {\"inplace\": True}},\n",
    "    {\"class\": \"BatchNorm1d\", \"kargs\": {\"num_features\":256}},\n",
    "\n",
    "    {\"class\": \"Linear\", \"kargs\": {\"in_features\": 256, \"out_features\": 256}},\n",
    "]\n",
    "\n",
    "# Parameters relevant to results\n",
    "# These parameters will basically never need to change\n",
    "standalone_parameters[\"NUM_LOGS_PER_EPOCH\"] = 10\n",
    "standalone_parameters[\"BEST_MODEL_PATH\"] = \"./best_model.pth\"\n",
    "\n",
    "\n",
    "\n",
    "\n"
   ]
  },
  {
   "cell_type": "code",
   "execution_count": 4,
   "id": "a0b75ec1",
   "metadata": {
    "execution": {
     "iopub.execute_input": "2022-03-24T18:07:30.355357Z",
     "iopub.status.busy": "2022-03-24T18:07:30.354850Z",
     "iopub.status.idle": "2022-03-24T18:07:30.368516Z",
     "shell.execute_reply": "2022-03-24T18:07:30.368131Z"
    },
    "papermill": {
     "duration": 0.03506,
     "end_time": "2022-03-24T18:07:30.368603",
     "exception": false,
     "start_time": "2022-03-24T18:07:30.333543",
     "status": "completed"
    },
    "tags": [
     "injected-parameters"
    ]
   },
   "outputs": [],
   "source": [
    "# Parameters\n",
    "parameters = {\n",
    "    \"experiment_name\": \"tl_1v2:oracle.run1-oracle.run2\",\n",
    "    \"device\": \"cuda\",\n",
    "    \"lr\": 0.0001,\n",
    "    \"n_shot\": 3,\n",
    "    \"n_query\": 2,\n",
    "    \"train_k_factor\": 3,\n",
    "    \"val_k_factor\": 2,\n",
    "    \"test_k_factor\": 2,\n",
    "    \"torch_default_dtype\": \"torch.float32\",\n",
    "    \"n_epoch\": 50,\n",
    "    \"patience\": 3,\n",
    "    \"criteria_for_best\": \"target_accuracy\",\n",
    "    \"x_net\": [\n",
    "        {\"class\": \"nnReshape\", \"kargs\": {\"shape\": [-1, 1, 2, 256]}},\n",
    "        {\n",
    "            \"class\": \"Conv2d\",\n",
    "            \"kargs\": {\n",
    "                \"in_channels\": 1,\n",
    "                \"out_channels\": 256,\n",
    "                \"kernel_size\": [1, 7],\n",
    "                \"bias\": False,\n",
    "                \"padding\": [0, 3],\n",
    "            },\n",
    "        },\n",
    "        {\"class\": \"ReLU\", \"kargs\": {\"inplace\": True}},\n",
    "        {\"class\": \"BatchNorm2d\", \"kargs\": {\"num_features\": 256}},\n",
    "        {\n",
    "            \"class\": \"Conv2d\",\n",
    "            \"kargs\": {\n",
    "                \"in_channels\": 256,\n",
    "                \"out_channels\": 80,\n",
    "                \"kernel_size\": [2, 7],\n",
    "                \"bias\": True,\n",
    "                \"padding\": [0, 3],\n",
    "            },\n",
    "        },\n",
    "        {\"class\": \"ReLU\", \"kargs\": {\"inplace\": True}},\n",
    "        {\"class\": \"BatchNorm2d\", \"kargs\": {\"num_features\": 80}},\n",
    "        {\"class\": \"Flatten\", \"kargs\": {}},\n",
    "        {\"class\": \"Linear\", \"kargs\": {\"in_features\": 20480, \"out_features\": 256}},\n",
    "        {\"class\": \"ReLU\", \"kargs\": {\"inplace\": True}},\n",
    "        {\"class\": \"BatchNorm1d\", \"kargs\": {\"num_features\": 256}},\n",
    "        {\"class\": \"Linear\", \"kargs\": {\"in_features\": 256, \"out_features\": 256}},\n",
    "    ],\n",
    "    \"NUM_LOGS_PER_EPOCH\": 10,\n",
    "    \"BEST_MODEL_PATH\": \"./best_model.pth\",\n",
    "    \"n_way\": 16,\n",
    "    \"datasets\": [\n",
    "        {\n",
    "            \"labels\": [\n",
    "                \"3123D52\",\n",
    "                \"3123D65\",\n",
    "                \"3123D79\",\n",
    "                \"3123D80\",\n",
    "                \"3123D54\",\n",
    "                \"3123D70\",\n",
    "                \"3123D7B\",\n",
    "                \"3123D89\",\n",
    "                \"3123D58\",\n",
    "                \"3123D76\",\n",
    "                \"3123D7D\",\n",
    "                \"3123EFE\",\n",
    "                \"3123D64\",\n",
    "                \"3123D78\",\n",
    "                \"3123D7E\",\n",
    "                \"3124E4A\",\n",
    "            ],\n",
    "            \"domains\": [32, 38, 8, 44, 14, 50, 20, 26],\n",
    "            \"num_examples_per_domain_per_label\": 10000,\n",
    "            \"pickle_path\": \"/mnt/wd500GB/CSC500/csc500-main/datasets/oracle.Run1_10kExamples_stratified_ds.2022A.pkl\",\n",
    "            \"source_or_target_dataset\": \"source\",\n",
    "            \"x_transforms\": [\"unit_mag\"],\n",
    "            \"episode_transforms\": [],\n",
    "            \"domain_prefix\": \"ORACLE.run1_\",\n",
    "        },\n",
    "        {\n",
    "            \"labels\": [\n",
    "                \"3123D52\",\n",
    "                \"3123D65\",\n",
    "                \"3123D79\",\n",
    "                \"3123D80\",\n",
    "                \"3123D54\",\n",
    "                \"3123D70\",\n",
    "                \"3123D7B\",\n",
    "                \"3123D89\",\n",
    "                \"3123D58\",\n",
    "                \"3123D76\",\n",
    "                \"3123D7D\",\n",
    "                \"3123EFE\",\n",
    "                \"3123D64\",\n",
    "                \"3123D78\",\n",
    "                \"3123D7E\",\n",
    "                \"3124E4A\",\n",
    "            ],\n",
    "            \"domains\": [32, 38, 8, 44, 14, 50, 20, 26],\n",
    "            \"num_examples_per_domain_per_label\": 10000,\n",
    "            \"pickle_path\": \"/mnt/wd500GB/CSC500/csc500-main/datasets/oracle.Run2_10kExamples_stratified_ds.2022A.pkl\",\n",
    "            \"source_or_target_dataset\": \"target\",\n",
    "            \"x_transforms\": [\"unit_mag\"],\n",
    "            \"episode_transforms\": [],\n",
    "            \"domain_prefix\": \"ORACLE.run2_\",\n",
    "        },\n",
    "    ],\n",
    "    \"dataset_seed\": 154325,\n",
    "    \"seed\": 154325,\n",
    "}\n"
   ]
  },
  {
   "cell_type": "code",
   "execution_count": 5,
   "id": "8fa1cc33",
   "metadata": {
    "execution": {
     "iopub.execute_input": "2022-03-24T18:07:30.402726Z",
     "iopub.status.busy": "2022-03-24T18:07:30.402473Z",
     "iopub.status.idle": "2022-03-24T18:07:30.416018Z",
     "shell.execute_reply": "2022-03-24T18:07:30.415633Z"
    },
    "papermill": {
     "duration": 0.030467,
     "end_time": "2022-03-24T18:07:30.416106",
     "exception": false,
     "start_time": "2022-03-24T18:07:30.385639",
     "status": "completed"
    },
    "tags": []
   },
   "outputs": [],
   "source": [
    "# Set this to True if you want to run this template directly\n",
    "STANDALONE = False\n",
    "if STANDALONE:\n",
    "    print(\"parameters not injected, running with standalone_parameters\")\n",
    "    parameters = standalone_parameters\n",
    "\n",
    "if not 'parameters' in locals() and not 'parameters' in globals():\n",
    "    raise Exception(\"Parameter injection failed\")\n",
    "\n",
    "#Use an easy dict for all the parameters\n",
    "p = EasyDict(parameters)\n",
    "\n",
    "if \"x_shape\" not in p:\n",
    "    p.x_shape = [2,256] # Default to this if we dont supply x_shape\n",
    "\n",
    "\n",
    "supplied_keys = set(p.keys())\n",
    "\n",
    "if  supplied_keys != required_parameters:\n",
    "    print(\"Parameters are incorrect\")\n",
    "    if len(supplied_keys - required_parameters)>0: print(\"Shouldn't have:\", str(supplied_keys - required_parameters))\n",
    "    if len(required_parameters - supplied_keys)>0: print(\"Need to have:\", str(required_parameters - supplied_keys))\n",
    "    raise RuntimeError(\"Parameters are incorrect\")"
   ]
  },
  {
   "cell_type": "code",
   "execution_count": 6,
   "id": "3a028d58",
   "metadata": {
    "execution": {
     "iopub.execute_input": "2022-03-24T18:07:30.449411Z",
     "iopub.status.busy": "2022-03-24T18:07:30.449169Z",
     "iopub.status.idle": "2022-03-24T18:07:30.463822Z",
     "shell.execute_reply": "2022-03-24T18:07:30.463378Z"
    },
    "papermill": {
     "duration": 0.030215,
     "end_time": "2022-03-24T18:07:30.463911",
     "exception": false,
     "start_time": "2022-03-24T18:07:30.433696",
     "status": "completed"
    },
    "tags": []
   },
   "outputs": [],
   "source": [
    "###################################\n",
    "# Set the RNGs and make it all deterministic\n",
    "###################################\n",
    "np.random.seed(p.seed)\n",
    "random.seed(p.seed)\n",
    "torch.manual_seed(p.seed)\n",
    "\n",
    "torch.use_deterministic_algorithms(True) "
   ]
  },
  {
   "cell_type": "code",
   "execution_count": 7,
   "id": "b691acf6",
   "metadata": {
    "execution": {
     "iopub.execute_input": "2022-03-24T18:07:30.496320Z",
     "iopub.status.busy": "2022-03-24T18:07:30.496079Z",
     "iopub.status.idle": "2022-03-24T18:07:30.511362Z",
     "shell.execute_reply": "2022-03-24T18:07:30.510979Z"
    },
    "papermill": {
     "duration": 0.029977,
     "end_time": "2022-03-24T18:07:30.511449",
     "exception": false,
     "start_time": "2022-03-24T18:07:30.481472",
     "status": "completed"
    },
    "tags": []
   },
   "outputs": [],
   "source": [
    "###########################################\n",
    "# The stratified datasets honor this\n",
    "###########################################\n",
    "torch.set_default_dtype(eval(p.torch_default_dtype))"
   ]
  },
  {
   "cell_type": "code",
   "execution_count": 8,
   "id": "b5fba671",
   "metadata": {
    "execution": {
     "iopub.execute_input": "2022-03-24T18:07:30.544442Z",
     "iopub.status.busy": "2022-03-24T18:07:30.544202Z",
     "iopub.status.idle": "2022-03-24T18:07:30.584580Z",
     "shell.execute_reply": "2022-03-24T18:07:30.584134Z"
    },
    "papermill": {
     "duration": 0.055405,
     "end_time": "2022-03-24T18:07:30.584667",
     "exception": false,
     "start_time": "2022-03-24T18:07:30.529262",
     "status": "completed"
    },
    "tags": []
   },
   "outputs": [],
   "source": [
    "###################################\n",
    "# Build the network(s)\n",
    "# Note: It's critical to do this AFTER setting the RNG\n",
    "###################################\n",
    "x_net = build_sequential(p.x_net)"
   ]
  },
  {
   "cell_type": "code",
   "execution_count": 9,
   "id": "5d7e61cc",
   "metadata": {
    "execution": {
     "iopub.execute_input": "2022-03-24T18:07:30.619687Z",
     "iopub.status.busy": "2022-03-24T18:07:30.619447Z",
     "iopub.status.idle": "2022-03-24T18:07:30.633172Z",
     "shell.execute_reply": "2022-03-24T18:07:30.632782Z"
    },
    "papermill": {
     "duration": 0.028958,
     "end_time": "2022-03-24T18:07:30.633258",
     "exception": false,
     "start_time": "2022-03-24T18:07:30.604300",
     "status": "completed"
    },
    "tags": []
   },
   "outputs": [],
   "source": [
    "start_time_secs = time.time()"
   ]
  },
  {
   "cell_type": "code",
   "execution_count": 10,
   "id": "c6b67dfd",
   "metadata": {
    "execution": {
     "iopub.execute_input": "2022-03-24T18:07:30.665173Z",
     "iopub.status.busy": "2022-03-24T18:07:30.664932Z",
     "iopub.status.idle": "2022-03-24T18:07:30.680523Z",
     "shell.execute_reply": "2022-03-24T18:07:30.680866Z"
    },
    "papermill": {
     "duration": 0.031959,
     "end_time": "2022-03-24T18:07:30.680971",
     "exception": false,
     "start_time": "2022-03-24T18:07:30.649012",
     "status": "completed"
    },
    "tags": []
   },
   "outputs": [],
   "source": [
    "p.domains_source = []\n",
    "p.domains_target = []\n",
    "\n",
    "\n",
    "train_original_source = []\n",
    "val_original_source   = []\n",
    "test_original_source  = []\n",
    "\n",
    "train_original_target = []\n",
    "val_original_target   = []\n",
    "test_original_target  = []"
   ]
  },
  {
   "cell_type": "code",
   "execution_count": 11,
   "id": "e3d9c3d3",
   "metadata": {
    "execution": {
     "iopub.execute_input": "2022-03-24T18:07:30.713830Z",
     "iopub.status.busy": "2022-03-24T18:07:30.713319Z",
     "iopub.status.idle": "2022-03-24T18:07:30.724991Z",
     "shell.execute_reply": "2022-03-24T18:07:30.724540Z"
    },
    "papermill": {
     "duration": 0.026494,
     "end_time": "2022-03-24T18:07:30.725080",
     "exception": false,
     "start_time": "2022-03-24T18:07:30.698586",
     "status": "completed"
    },
    "tags": []
   },
   "outputs": [],
   "source": [
    "# global_x_transform_func = lambda x: normalize(x.to(torch.get_default_dtype()), \"unit_power\") # unit_power, unit_mag\n",
    "# global_x_transform_func = lambda x: normalize(x, \"unit_power\") # unit_power, unit_mag"
   ]
  },
  {
   "cell_type": "code",
   "execution_count": 12,
   "id": "acb78fd2",
   "metadata": {
    "execution": {
     "iopub.execute_input": "2022-03-24T18:07:30.764347Z",
     "iopub.status.busy": "2022-03-24T18:07:30.762110Z",
     "iopub.status.idle": "2022-03-24T18:07:30.776359Z",
     "shell.execute_reply": "2022-03-24T18:07:30.776710Z"
    },
    "papermill": {
     "duration": 0.034199,
     "end_time": "2022-03-24T18:07:30.776816",
     "exception": false,
     "start_time": "2022-03-24T18:07:30.742617",
     "status": "completed"
    },
    "tags": []
   },
   "outputs": [],
   "source": [
    "def add_dataset(\n",
    "    labels,\n",
    "    domains,\n",
    "    pickle_path,\n",
    "    x_transforms,\n",
    "    episode_transforms,\n",
    "    domain_prefix,\n",
    "    num_examples_per_domain_per_label,\n",
    "    source_or_target_dataset:str,\n",
    "    iterator_seed=p.seed,\n",
    "    dataset_seed=p.dataset_seed,\n",
    "    n_shot=p.n_shot,\n",
    "    n_way=p.n_way,\n",
    "    n_query=p.n_query,\n",
    "    train_val_test_k_factors=(p.train_k_factor,p.val_k_factor,p.test_k_factor),\n",
    "):\n",
    "   \n",
    "    if x_transforms == []: x_transform = None\n",
    "    else: x_transform = get_chained_transform(x_transforms)\n",
    "    \n",
    "    if episode_transforms == []: episode_transform = None\n",
    "    else: raise Exception(\"episode_transforms not implemented\")\n",
    "    \n",
    "    episode_transform = lambda tup, _prefix=domain_prefix: (_prefix + str(tup[0]), tup[1])\n",
    "\n",
    "\n",
    "    eaf = Episodic_Accessor_Factory(\n",
    "        labels=labels,\n",
    "        domains=domains,\n",
    "        num_examples_per_domain_per_label=num_examples_per_domain_per_label,\n",
    "        iterator_seed=iterator_seed,\n",
    "        dataset_seed=dataset_seed,\n",
    "        n_shot=n_shot,\n",
    "        n_way=n_way,\n",
    "        n_query=n_query,\n",
    "        train_val_test_k_factors=train_val_test_k_factors,\n",
    "        pickle_path=pickle_path,\n",
    "        x_transform_func=x_transform,\n",
    "    )\n",
    "\n",
    "    train, val, test = eaf.get_train(), eaf.get_val(), eaf.get_test()\n",
    "    train = Lazy_Iterable_Wrapper(train, episode_transform)\n",
    "    val = Lazy_Iterable_Wrapper(val, episode_transform)\n",
    "    test = Lazy_Iterable_Wrapper(test, episode_transform)\n",
    "\n",
    "    if source_or_target_dataset==\"source\":\n",
    "        train_original_source.append(train)\n",
    "        val_original_source.append(val)\n",
    "        test_original_source.append(test)\n",
    "\n",
    "        p.domains_source.extend(\n",
    "            [domain_prefix + str(u) for u in domains]\n",
    "        )\n",
    "    elif source_or_target_dataset==\"target\":\n",
    "        train_original_target.append(train)\n",
    "        val_original_target.append(val)\n",
    "        test_original_target.append(test)\n",
    "        p.domains_target.extend(\n",
    "            [domain_prefix + str(u) for u in domains]\n",
    "        )\n",
    "    else:\n",
    "        raise Exception(f\"invalid source_or_target_dataset: {source_or_target_dataset}\")\n",
    "    "
   ]
  },
  {
   "cell_type": "code",
   "execution_count": 13,
   "id": "fe266617",
   "metadata": {
    "execution": {
     "iopub.execute_input": "2022-03-24T18:07:30.810066Z",
     "iopub.status.busy": "2022-03-24T18:07:30.809801Z",
     "iopub.status.idle": "2022-03-24T18:10:08.470338Z",
     "shell.execute_reply": "2022-03-24T18:10:08.469833Z"
    },
    "papermill": {
     "duration": 157.675995,
     "end_time": "2022-03-24T18:10:08.470451",
     "exception": false,
     "start_time": "2022-03-24T18:07:30.794456",
     "status": "completed"
    },
    "tags": []
   },
   "outputs": [],
   "source": [
    "for ds in p.datasets:\n",
    "    add_dataset(**ds)"
   ]
  },
  {
   "cell_type": "code",
   "execution_count": 14,
   "id": "b90d65ac",
   "metadata": {
    "execution": {
     "iopub.execute_input": "2022-03-24T18:10:08.504184Z",
     "iopub.status.busy": "2022-03-24T18:10:08.503914Z",
     "iopub.status.idle": "2022-03-24T18:10:08.520093Z",
     "shell.execute_reply": "2022-03-24T18:10:08.520496Z"
    },
    "papermill": {
     "duration": 0.032523,
     "end_time": "2022-03-24T18:10:08.520621",
     "exception": false,
     "start_time": "2022-03-24T18:10:08.488098",
     "status": "completed"
    },
    "tags": []
   },
   "outputs": [],
   "source": [
    "# from steves_utils.CORES.utils import (\n",
    "#     ALL_NODES,\n",
    "#     ALL_NODES_MINIMUM_1000_EXAMPLES,\n",
    "#     ALL_DAYS\n",
    "# )\n",
    "\n",
    "# add_dataset(\n",
    "#     labels=ALL_NODES,\n",
    "#     domains = ALL_DAYS,\n",
    "#     num_examples_per_domain_per_label=100,\n",
    "#     pickle_path=os.path.join(get_datasets_base_path(), \"cores.stratified_ds.2022A.pkl\"),\n",
    "#     source_or_target_dataset=\"target\",\n",
    "#     x_transform_func=global_x_transform_func,\n",
    "#     domain_modifier=lambda u: f\"cores_{u}\"\n",
    "# )"
   ]
  },
  {
   "cell_type": "code",
   "execution_count": 15,
   "id": "76db484d",
   "metadata": {
    "execution": {
     "iopub.execute_input": "2022-03-24T18:10:08.552418Z",
     "iopub.status.busy": "2022-03-24T18:10:08.552159Z",
     "iopub.status.idle": "2022-03-24T18:10:08.568864Z",
     "shell.execute_reply": "2022-03-24T18:10:08.568433Z"
    },
    "papermill": {
     "duration": 0.031916,
     "end_time": "2022-03-24T18:10:08.568969",
     "exception": false,
     "start_time": "2022-03-24T18:10:08.537053",
     "status": "completed"
    },
    "tags": []
   },
   "outputs": [],
   "source": [
    "# from steves_utils.ORACLE.utils_v2 import (\n",
    "#     ALL_DISTANCES_FEET,\n",
    "#     ALL_RUNS,\n",
    "#     ALL_SERIAL_NUMBERS,\n",
    "# )\n",
    "\n",
    "\n",
    "# add_dataset(\n",
    "#     labels=ALL_SERIAL_NUMBERS,\n",
    "#     domains = list(set(ALL_DISTANCES_FEET) - {2,62}),\n",
    "#     num_examples_per_domain_per_label=100,\n",
    "#     pickle_path=os.path.join(get_datasets_base_path(), \"oracle.Run2_framed_2000Examples_stratified_ds.2022A.pkl\"),\n",
    "#     source_or_target_dataset=\"source\",\n",
    "#     x_transform_func=global_x_transform_func,\n",
    "#     domain_modifier=lambda u: f\"oracle1_{u}\"\n",
    "# )\n"
   ]
  },
  {
   "cell_type": "code",
   "execution_count": 16,
   "id": "97dea9d2",
   "metadata": {
    "execution": {
     "iopub.execute_input": "2022-03-24T18:10:08.602592Z",
     "iopub.status.busy": "2022-03-24T18:10:08.602195Z",
     "iopub.status.idle": "2022-03-24T18:10:08.617668Z",
     "shell.execute_reply": "2022-03-24T18:10:08.617242Z"
    },
    "papermill": {
     "duration": 0.030625,
     "end_time": "2022-03-24T18:10:08.617770",
     "exception": false,
     "start_time": "2022-03-24T18:10:08.587145",
     "status": "completed"
    },
    "tags": []
   },
   "outputs": [],
   "source": [
    "# from steves_utils.ORACLE.utils_v2 import (\n",
    "#     ALL_DISTANCES_FEET,\n",
    "#     ALL_RUNS,\n",
    "#     ALL_SERIAL_NUMBERS,\n",
    "# )\n",
    "\n",
    "\n",
    "# add_dataset(\n",
    "#     labels=ALL_SERIAL_NUMBERS,\n",
    "#     domains = list(set(ALL_DISTANCES_FEET) - {2,62,56}),\n",
    "#     num_examples_per_domain_per_label=100,\n",
    "#     pickle_path=os.path.join(get_datasets_base_path(), \"oracle.Run2_framed_2000Examples_stratified_ds.2022A.pkl\"),\n",
    "#     source_or_target_dataset=\"source\",\n",
    "#     x_transform_func=global_x_transform_func,\n",
    "#     domain_modifier=lambda u: f\"oracle2_{u}\"\n",
    "# )"
   ]
  },
  {
   "cell_type": "code",
   "execution_count": 17,
   "id": "6f289866",
   "metadata": {
    "execution": {
     "iopub.execute_input": "2022-03-24T18:10:08.651921Z",
     "iopub.status.busy": "2022-03-24T18:10:08.651662Z",
     "iopub.status.idle": "2022-03-24T18:10:08.667693Z",
     "shell.execute_reply": "2022-03-24T18:10:08.667288Z"
    },
    "papermill": {
     "duration": 0.031511,
     "end_time": "2022-03-24T18:10:08.667797",
     "exception": false,
     "start_time": "2022-03-24T18:10:08.636286",
     "status": "completed"
    },
    "tags": []
   },
   "outputs": [],
   "source": [
    "# add_dataset(\n",
    "#     labels=list(range(19)),\n",
    "#     domains = [0,1,2],\n",
    "#     num_examples_per_domain_per_label=100,\n",
    "#     pickle_path=os.path.join(get_datasets_base_path(), \"metehan.stratified_ds.2022A.pkl\"),\n",
    "#     source_or_target_dataset=\"target\",\n",
    "#     x_transform_func=global_x_transform_func,\n",
    "#     domain_modifier=lambda u: f\"met_{u}\"\n",
    "# )"
   ]
  },
  {
   "cell_type": "code",
   "execution_count": 18,
   "id": "86a863c3",
   "metadata": {
    "execution": {
     "iopub.execute_input": "2022-03-24T18:10:08.702747Z",
     "iopub.status.busy": "2022-03-24T18:10:08.701974Z",
     "iopub.status.idle": "2022-03-24T18:10:08.715415Z",
     "shell.execute_reply": "2022-03-24T18:10:08.715804Z"
    },
    "papermill": {
     "duration": 0.028933,
     "end_time": "2022-03-24T18:10:08.715927",
     "exception": false,
     "start_time": "2022-03-24T18:10:08.686994",
     "status": "completed"
    },
    "tags": []
   },
   "outputs": [],
   "source": [
    "# # from steves_utils.wisig.utils import (\n",
    "# #     ALL_NODES_MINIMUM_100_EXAMPLES,\n",
    "# #     ALL_NODES_MINIMUM_500_EXAMPLES,\n",
    "# #     ALL_NODES_MINIMUM_1000_EXAMPLES,\n",
    "# #     ALL_DAYS\n",
    "# # )\n",
    "\n",
    "# import steves_utils.wisig.utils as wisig\n",
    "\n",
    "\n",
    "# add_dataset(\n",
    "#     labels=wisig.ALL_NODES_MINIMUM_100_EXAMPLES,\n",
    "#     domains = wisig.ALL_DAYS,\n",
    "#     num_examples_per_domain_per_label=100,\n",
    "#     pickle_path=os.path.join(get_datasets_base_path(), \"wisig.node3-19.stratified_ds.2022A.pkl\"),\n",
    "#     source_or_target_dataset=\"target\",\n",
    "#     x_transform_func=global_x_transform_func,\n",
    "#     domain_modifier=lambda u: f\"wisig_{u}\"\n",
    "# )"
   ]
  },
  {
   "cell_type": "code",
   "execution_count": 19,
   "id": "fd5442bc",
   "metadata": {
    "execution": {
     "iopub.execute_input": "2022-03-24T18:10:08.753029Z",
     "iopub.status.busy": "2022-03-24T18:10:08.752730Z",
     "iopub.status.idle": "2022-03-24T18:10:08.767293Z",
     "shell.execute_reply": "2022-03-24T18:10:08.767675Z"
    },
    "papermill": {
     "duration": 0.032606,
     "end_time": "2022-03-24T18:10:08.767805",
     "exception": false,
     "start_time": "2022-03-24T18:10:08.735199",
     "status": "completed"
    },
    "tags": []
   },
   "outputs": [],
   "source": [
    "###################################\n",
    "# Build the dataset\n",
    "###################################\n",
    "train_original_source = Iterable_Aggregator(train_original_source, p.seed)\n",
    "val_original_source = Iterable_Aggregator(val_original_source, p.seed)\n",
    "test_original_source = Iterable_Aggregator(test_original_source, p.seed)\n",
    "\n",
    "\n",
    "train_original_target = Iterable_Aggregator(train_original_target, p.seed)\n",
    "val_original_target = Iterable_Aggregator(val_original_target, p.seed)\n",
    "test_original_target = Iterable_Aggregator(test_original_target, p.seed)\n",
    "\n",
    "# For CNN We only use X and Y. And we only train on the source.\n",
    "# Properly form the data using a transform lambda and Lazy_Iterable_Wrapper. Finally wrap them in a dataloader\n",
    "\n",
    "transform_lambda = lambda ex: ex[1] # Original is (<domain>, <episode>) so we strip down to episode only\n",
    "\n",
    "train_processed_source = Lazy_Iterable_Wrapper(train_original_source, transform_lambda)\n",
    "val_processed_source   = Lazy_Iterable_Wrapper(val_original_source, transform_lambda)\n",
    "test_processed_source  = Lazy_Iterable_Wrapper(test_original_source, transform_lambda)\n",
    "\n",
    "train_processed_target = Lazy_Iterable_Wrapper(train_original_target, transform_lambda)\n",
    "val_processed_target   = Lazy_Iterable_Wrapper(val_original_target, transform_lambda)\n",
    "test_processed_target  = Lazy_Iterable_Wrapper(test_original_target, transform_lambda)\n",
    "\n",
    "datasets = EasyDict({\n",
    "    \"source\": {\n",
    "        \"original\": {\"train\":train_original_source, \"val\":val_original_source, \"test\":test_original_source},\n",
    "        \"processed\": {\"train\":train_processed_source, \"val\":val_processed_source, \"test\":test_processed_source}\n",
    "    },\n",
    "    \"target\": {\n",
    "        \"original\": {\"train\":train_original_target, \"val\":val_original_target, \"test\":test_original_target},\n",
    "        \"processed\": {\"train\":train_processed_target, \"val\":val_processed_target, \"test\":test_processed_target}\n",
    "    },\n",
    "})"
   ]
  },
  {
   "cell_type": "code",
   "execution_count": 20,
   "id": "5b3c01fc",
   "metadata": {
    "execution": {
     "iopub.execute_input": "2022-03-24T18:10:08.803953Z",
     "iopub.status.busy": "2022-03-24T18:10:08.803692Z",
     "iopub.status.idle": "2022-03-24T18:10:33.929769Z",
     "shell.execute_reply": "2022-03-24T18:10:33.929380Z"
    },
    "papermill": {
     "duration": 25.142771,
     "end_time": "2022-03-24T18:10:33.929852",
     "exception": false,
     "start_time": "2022-03-24T18:10:08.787081",
     "status": "completed"
    },
    "tags": []
   },
   "outputs": [
    {
     "name": "stdout",
     "output_type": "stream",
     "text": [
      "{'ORACLE.run1_32', 'ORACLE.run1_44', 'ORACLE.run1_38', 'ORACLE.run1_14', 'ORACLE.run1_20', 'ORACLE.run1_8', 'ORACLE.run1_26', 'ORACLE.run1_50'}\n"
     ]
    },
    {
     "name": "stdout",
     "output_type": "stream",
     "text": [
      "{'ORACLE.run2_32', 'ORACLE.run2_50', 'ORACLE.run2_8', 'ORACLE.run2_20', 'ORACLE.run2_38', 'ORACLE.run2_14', 'ORACLE.run2_44', 'ORACLE.run2_26'}\n"
     ]
    },
    {
     "name": "stdout",
     "output_type": "stream",
     "text": [
      "tensor([[[ 0.6692, -0.3973, -0.7006,  ..., -0.0784,  0.4915, -1.2966],\n",
      "         [ 0.7267,  0.2039,  0.3764,  ...,  0.8470, -0.0157, -1.4691]],\n",
      "\n",
      "        [[ 1.2593,  1.0722, -0.8598,  ...,  0.3742,  0.0455, -1.1480],\n",
      "         [ 0.1720, -0.1720,  1.0722,  ...,  0.1416, -0.5917, -0.6018]],\n",
      "\n",
      "        [[-0.4634, -0.3004, -0.5347,  ..., -0.3208,  0.3310,  0.8911],\n",
      "         [ 1.0897, -0.2190, -0.6671,  ...,  1.0184, -0.1018, -0.5550]],\n",
      "\n",
      "        ...,\n",
      "\n",
      "        [[ 0.7662, -0.5005, -2.0328,  ..., -0.2595,  0.7353,  0.6426],\n",
      "         [-0.8094, -0.1298,  0.9330,  ...,  1.1492,  1.0071, -1.6868]],\n",
      "\n",
      "        [[-0.4735,  0.1686, -0.1492,  ..., -0.9923, -0.7848, -0.8042],\n",
      "         [-0.9729,  0.1751,  2.4711,  ...,  0.0389,  0.0973,  0.2270]],\n",
      "\n",
      "        [[ 0.4190,  0.3635, -0.5977,  ..., -1.1830, -0.7702,  1.5095],\n",
      "         [ 0.9119, -0.7763, -1.9470,  ..., -0.5853,  0.5360,  1.1029]]])\n"
     ]
    }
   ],
   "source": [
    "from steves_utils.transforms import get_average_magnitude, get_average_power\n",
    "\n",
    "print(set([u for u,_ in val_original_source]))\n",
    "print(set([u for u,_ in val_original_target]))\n",
    "\n",
    "s_x, s_y, q_x, q_y, _ = next(iter(train_processed_source))\n",
    "print(s_x)\n",
    "\n",
    "# for ds in [\n",
    "#     train_processed_source,\n",
    "#     val_processed_source,\n",
    "#     test_processed_source,\n",
    "#     train_processed_target,\n",
    "#     val_processed_target,\n",
    "#     test_processed_target\n",
    "# ]:\n",
    "#     for s_x, s_y, q_x, q_y, _ in ds:\n",
    "#         for X in (s_x, q_x):\n",
    "#             for x in X:\n",
    "#                 assert np.isclose(get_average_magnitude(x.numpy()), 1.0)\n",
    "#                 assert np.isclose(get_average_power(x.numpy()), 1.0)\n",
    "                "
   ]
  },
  {
   "cell_type": "code",
   "execution_count": 21,
   "id": "bbdacba1",
   "metadata": {
    "execution": {
     "iopub.execute_input": "2022-03-24T18:10:33.971505Z",
     "iopub.status.busy": "2022-03-24T18:10:33.971250Z",
     "iopub.status.idle": "2022-03-24T18:10:34.026622Z",
     "shell.execute_reply": "2022-03-24T18:10:34.026991Z"
    },
    "papermill": {
     "duration": 0.078473,
     "end_time": "2022-03-24T18:10:34.027100",
     "exception": false,
     "start_time": "2022-03-24T18:10:33.948627",
     "status": "completed"
    },
    "tags": []
   },
   "outputs": [
    {
     "name": "stdout",
     "output_type": "stream",
     "text": [
      "(2, 256)\n"
     ]
    }
   ],
   "source": [
    "###################################\n",
    "# Build the model\n",
    "###################################\n",
    "# easfsl only wants a tuple for the shape\n",
    "model = Steves_Prototypical_Network(x_net, device=p.device, x_shape=tuple(p.x_shape))\n",
    "optimizer = Adam(params=model.parameters(), lr=p.lr)"
   ]
  },
  {
   "cell_type": "code",
   "execution_count": 22,
   "id": "22b39ac5",
   "metadata": {
    "execution": {
     "iopub.execute_input": "2022-03-24T18:10:34.065148Z",
     "iopub.status.busy": "2022-03-24T18:10:34.064890Z",
     "iopub.status.idle": "2022-03-24T20:58:38.109139Z",
     "shell.execute_reply": "2022-03-24T20:58:38.108909Z"
    },
    "papermill": {
     "duration": 10084.062168,
     "end_time": "2022-03-24T20:58:38.109197",
     "exception": false,
     "start_time": "2022-03-24T18:10:34.047029",
     "status": "completed"
    },
    "tags": []
   },
   "outputs": [
    {
     "name": "stdout",
     "output_type": "stream",
     "text": [
      "epoch: 1, [batch: 1 / 33600], examples_per_second: 9.9851, train_label_loss: 2.7702, \n"
     ]
    },
    {
     "name": "stdout",
     "output_type": "stream",
     "text": [
      "epoch: 1, [batch: 3360 / 33600], examples_per_second: 3210.6708, train_label_loss: 1.3623, \n"
     ]
    },
    {
     "name": "stdout",
     "output_type": "stream",
     "text": [
      "epoch: 1, [batch: 6720 / 33600], examples_per_second: 3194.1192, train_label_loss: 0.9378, \n"
     ]
    },
    {
     "name": "stdout",
     "output_type": "stream",
     "text": [
      "epoch: 1, [batch: 10080 / 33600], examples_per_second: 3196.6455, train_label_loss: 1.2791, \n"
     ]
    },
    {
     "name": "stdout",
     "output_type": "stream",
     "text": [
      "epoch: 1, [batch: 13440 / 33600], examples_per_second: 3186.1920, train_label_loss: 0.8217, \n"
     ]
    },
    {
     "name": "stdout",
     "output_type": "stream",
     "text": [
      "epoch: 1, [batch: 16800 / 33600], examples_per_second: 3199.8587, train_label_loss: 0.8906, \n"
     ]
    },
    {
     "name": "stdout",
     "output_type": "stream",
     "text": [
      "epoch: 1, [batch: 20160 / 33600], examples_per_second: 3204.8645, train_label_loss: 0.6217, \n"
     ]
    },
    {
     "name": "stdout",
     "output_type": "stream",
     "text": [
      "epoch: 1, [batch: 23520 / 33600], examples_per_second: 3195.2074, train_label_loss: 0.4986, \n"
     ]
    },
    {
     "name": "stdout",
     "output_type": "stream",
     "text": [
      "epoch: 1, [batch: 26880 / 33600], examples_per_second: 3198.3446, train_label_loss: 0.6247, \n"
     ]
    },
    {
     "name": "stdout",
     "output_type": "stream",
     "text": [
      "epoch: 1, [batch: 30240 / 33600], examples_per_second: 3201.3204, train_label_loss: 1.1365, \n"
     ]
    },
    {
     "name": "stdout",
     "output_type": "stream",
     "text": [
      "=============================================================\n",
      "epoch: 1, source_val_acc_label: 0.6579, target_val_acc_label: 0.6413, source_val_label_loss: 0.9967, target_val_label_loss: 1.0504, \n",
      "=============================================================\n"
     ]
    },
    {
     "name": "stdout",
     "output_type": "stream",
     "text": [
      "New best\n"
     ]
    },
    {
     "name": "stdout",
     "output_type": "stream",
     "text": [
      "epoch: 2, [batch: 1 / 33600], examples_per_second: 0.9633, train_label_loss: 0.4549, \n"
     ]
    },
    {
     "name": "stdout",
     "output_type": "stream",
     "text": [
      "epoch: 2, [batch: 3360 / 33600], examples_per_second: 3214.9364, train_label_loss: 0.6326, \n"
     ]
    },
    {
     "name": "stdout",
     "output_type": "stream",
     "text": [
      "epoch: 2, [batch: 6720 / 33600], examples_per_second: 3220.8463, train_label_loss: 0.7024, \n"
     ]
    },
    {
     "name": "stdout",
     "output_type": "stream",
     "text": [
      "epoch: 2, [batch: 10080 / 33600], examples_per_second: 3225.2335, train_label_loss: 0.7030, \n"
     ]
    },
    {
     "name": "stdout",
     "output_type": "stream",
     "text": [
      "epoch: 2, [batch: 13440 / 33600], examples_per_second: 3219.5980, train_label_loss: 0.6099, \n"
     ]
    },
    {
     "name": "stdout",
     "output_type": "stream",
     "text": [
      "epoch: 2, [batch: 16800 / 33600], examples_per_second: 3229.5216, train_label_loss: 0.9697, \n"
     ]
    },
    {
     "name": "stdout",
     "output_type": "stream",
     "text": [
      "epoch: 2, [batch: 20160 / 33600], examples_per_second: 3231.4714, train_label_loss: 0.5507, \n"
     ]
    },
    {
     "name": "stdout",
     "output_type": "stream",
     "text": [
      "epoch: 2, [batch: 23520 / 33600], examples_per_second: 3222.8342, train_label_loss: 0.7814, \n"
     ]
    },
    {
     "name": "stdout",
     "output_type": "stream",
     "text": [
      "epoch: 2, [batch: 26880 / 33600], examples_per_second: 3224.2960, train_label_loss: 0.5252, \n"
     ]
    },
    {
     "name": "stdout",
     "output_type": "stream",
     "text": [
      "epoch: 2, [batch: 30240 / 33600], examples_per_second: 3232.6028, train_label_loss: 0.7247, \n"
     ]
    },
    {
     "name": "stdout",
     "output_type": "stream",
     "text": [
      "=============================================================\n",
      "epoch: 2, source_val_acc_label: 0.6743, target_val_acc_label: 0.6537, source_val_label_loss: 0.8580, target_val_label_loss: 0.9287, \n",
      "=============================================================\n"
     ]
    },
    {
     "name": "stdout",
     "output_type": "stream",
     "text": [
      "New best\n"
     ]
    },
    {
     "name": "stdout",
     "output_type": "stream",
     "text": [
      "epoch: 3, [batch: 1 / 33600], examples_per_second: 0.9617, train_label_loss: 1.2231, \n"
     ]
    },
    {
     "name": "stdout",
     "output_type": "stream",
     "text": [
      "epoch: 3, [batch: 3360 / 33600], examples_per_second: 3224.1049, train_label_loss: 0.6414, \n"
     ]
    },
    {
     "name": "stdout",
     "output_type": "stream",
     "text": [
      "epoch: 3, [batch: 6720 / 33600], examples_per_second: 3219.5031, train_label_loss: 0.9004, \n"
     ]
    },
    {
     "name": "stdout",
     "output_type": "stream",
     "text": [
      "epoch: 3, [batch: 10080 / 33600], examples_per_second: 3217.5914, train_label_loss: 1.3426, \n"
     ]
    },
    {
     "name": "stdout",
     "output_type": "stream",
     "text": [
      "epoch: 3, [batch: 13440 / 33600], examples_per_second: 3213.3984, train_label_loss: 0.6157, \n"
     ]
    },
    {
     "name": "stdout",
     "output_type": "stream",
     "text": [
      "epoch: 3, [batch: 16800 / 33600], examples_per_second: 3231.3329, train_label_loss: 0.5950, \n"
     ]
    },
    {
     "name": "stdout",
     "output_type": "stream",
     "text": [
      "epoch: 3, [batch: 20160 / 33600], examples_per_second: 3231.1355, train_label_loss: 0.6871, \n"
     ]
    },
    {
     "name": "stdout",
     "output_type": "stream",
     "text": [
      "epoch: 3, [batch: 23520 / 33600], examples_per_second: 3226.5079, train_label_loss: 0.9660, \n"
     ]
    },
    {
     "name": "stdout",
     "output_type": "stream",
     "text": [
      "epoch: 3, [batch: 26880 / 33600], examples_per_second: 3229.8944, train_label_loss: 0.8610, \n"
     ]
    },
    {
     "name": "stdout",
     "output_type": "stream",
     "text": [
      "epoch: 3, [batch: 30240 / 33600], examples_per_second: 3232.8967, train_label_loss: 0.6135, \n"
     ]
    },
    {
     "name": "stdout",
     "output_type": "stream",
     "text": [
      "=============================================================\n",
      "epoch: 3, source_val_acc_label: 0.7047, target_val_acc_label: 0.6862, source_val_label_loss: 0.8052, target_val_label_loss: 0.8844, \n",
      "=============================================================\n"
     ]
    },
    {
     "name": "stdout",
     "output_type": "stream",
     "text": [
      "New best\n"
     ]
    },
    {
     "name": "stdout",
     "output_type": "stream",
     "text": [
      "epoch: 4, [batch: 1 / 33600], examples_per_second: 0.9619, train_label_loss: 0.3174, \n"
     ]
    },
    {
     "name": "stdout",
     "output_type": "stream",
     "text": [
      "epoch: 4, [batch: 3360 / 33600], examples_per_second: 3213.2732, train_label_loss: 1.3743, \n"
     ]
    },
    {
     "name": "stdout",
     "output_type": "stream",
     "text": [
      "epoch: 4, [batch: 6720 / 33600], examples_per_second: 3220.8522, train_label_loss: 0.5150, \n"
     ]
    },
    {
     "name": "stdout",
     "output_type": "stream",
     "text": [
      "epoch: 4, [batch: 10080 / 33600], examples_per_second: 3222.0279, train_label_loss: 0.3138, \n"
     ]
    },
    {
     "name": "stdout",
     "output_type": "stream",
     "text": [
      "epoch: 4, [batch: 13440 / 33600], examples_per_second: 3220.8945, train_label_loss: 0.8767, \n"
     ]
    },
    {
     "name": "stdout",
     "output_type": "stream",
     "text": [
      "epoch: 4, [batch: 16800 / 33600], examples_per_second: 3234.0088, train_label_loss: 0.3760, \n"
     ]
    },
    {
     "name": "stdout",
     "output_type": "stream",
     "text": [
      "epoch: 4, [batch: 20160 / 33600], examples_per_second: 3238.3482, train_label_loss: 0.8864, \n"
     ]
    },
    {
     "name": "stdout",
     "output_type": "stream",
     "text": [
      "epoch: 4, [batch: 23520 / 33600], examples_per_second: 3221.0565, train_label_loss: 0.6119, \n"
     ]
    },
    {
     "name": "stdout",
     "output_type": "stream",
     "text": [
      "epoch: 4, [batch: 26880 / 33600], examples_per_second: 3230.0616, train_label_loss: 0.4293, \n"
     ]
    },
    {
     "name": "stdout",
     "output_type": "stream",
     "text": [
      "epoch: 4, [batch: 30240 / 33600], examples_per_second: 3229.4369, train_label_loss: 0.6827, \n"
     ]
    },
    {
     "name": "stdout",
     "output_type": "stream",
     "text": [
      "=============================================================\n",
      "epoch: 4, source_val_acc_label: 0.7318, target_val_acc_label: 0.7128, source_val_label_loss: 0.7350, target_val_label_loss: 0.8135, \n",
      "=============================================================\n"
     ]
    },
    {
     "name": "stdout",
     "output_type": "stream",
     "text": [
      "New best\n"
     ]
    },
    {
     "name": "stdout",
     "output_type": "stream",
     "text": [
      "epoch: 5, [batch: 1 / 33600], examples_per_second: 0.9658, train_label_loss: 0.7143, \n"
     ]
    },
    {
     "name": "stdout",
     "output_type": "stream",
     "text": [
      "epoch: 5, [batch: 3360 / 33600], examples_per_second: 3208.7492, train_label_loss: 0.4633, \n"
     ]
    },
    {
     "name": "stdout",
     "output_type": "stream",
     "text": [
      "epoch: 5, [batch: 6720 / 33600], examples_per_second: 3222.0165, train_label_loss: 0.4518, \n"
     ]
    },
    {
     "name": "stdout",
     "output_type": "stream",
     "text": [
      "epoch: 5, [batch: 10080 / 33600], examples_per_second: 3224.0238, train_label_loss: 0.7993, \n"
     ]
    },
    {
     "name": "stdout",
     "output_type": "stream",
     "text": [
      "epoch: 5, [batch: 13440 / 33600], examples_per_second: 3212.6241, train_label_loss: 0.8609, \n"
     ]
    },
    {
     "name": "stdout",
     "output_type": "stream",
     "text": [
      "epoch: 5, [batch: 16800 / 33600], examples_per_second: 3224.8326, train_label_loss: 0.2631, \n"
     ]
    },
    {
     "name": "stdout",
     "output_type": "stream",
     "text": [
      "epoch: 5, [batch: 20160 / 33600], examples_per_second: 3232.6147, train_label_loss: 0.7514, \n"
     ]
    },
    {
     "name": "stdout",
     "output_type": "stream",
     "text": [
      "epoch: 5, [batch: 23520 / 33600], examples_per_second: 3220.7972, train_label_loss: 0.5590, \n"
     ]
    },
    {
     "name": "stdout",
     "output_type": "stream",
     "text": [
      "epoch: 5, [batch: 26880 / 33600], examples_per_second: 3233.5581, train_label_loss: 0.3080, \n"
     ]
    },
    {
     "name": "stdout",
     "output_type": "stream",
     "text": [
      "epoch: 5, [batch: 30240 / 33600], examples_per_second: 3228.3975, train_label_loss: 0.5946, \n"
     ]
    },
    {
     "name": "stdout",
     "output_type": "stream",
     "text": [
      "=============================================================\n",
      "epoch: 5, source_val_acc_label: 0.7379, target_val_acc_label: 0.7206, source_val_label_loss: 0.7238, target_val_label_loss: 0.8024, \n",
      "=============================================================\n"
     ]
    },
    {
     "name": "stdout",
     "output_type": "stream",
     "text": [
      "New best\n"
     ]
    },
    {
     "name": "stdout",
     "output_type": "stream",
     "text": [
      "epoch: 6, [batch: 1 / 33600], examples_per_second: 0.9656, train_label_loss: 0.8245, \n"
     ]
    },
    {
     "name": "stdout",
     "output_type": "stream",
     "text": [
      "epoch: 6, [batch: 3360 / 33600], examples_per_second: 3213.7996, train_label_loss: 0.2976, \n"
     ]
    },
    {
     "name": "stdout",
     "output_type": "stream",
     "text": [
      "epoch: 6, [batch: 6720 / 33600], examples_per_second: 3224.5435, train_label_loss: 0.6724, \n"
     ]
    },
    {
     "name": "stdout",
     "output_type": "stream",
     "text": [
      "epoch: 6, [batch: 10080 / 33600], examples_per_second: 3230.8369, train_label_loss: 0.6797, \n"
     ]
    },
    {
     "name": "stdout",
     "output_type": "stream",
     "text": [
      "epoch: 6, [batch: 13440 / 33600], examples_per_second: 3216.3551, train_label_loss: 0.3813, \n"
     ]
    },
    {
     "name": "stdout",
     "output_type": "stream",
     "text": [
      "epoch: 6, [batch: 16800 / 33600], examples_per_second: 3228.4243, train_label_loss: 0.4393, \n"
     ]
    },
    {
     "name": "stdout",
     "output_type": "stream",
     "text": [
      "epoch: 6, [batch: 20160 / 33600], examples_per_second: 3235.1260, train_label_loss: 0.6120, \n"
     ]
    },
    {
     "name": "stdout",
     "output_type": "stream",
     "text": [
      "epoch: 6, [batch: 23520 / 33600], examples_per_second: 3218.8420, train_label_loss: 0.1388, \n"
     ]
    },
    {
     "name": "stdout",
     "output_type": "stream",
     "text": [
      "epoch: 6, [batch: 26880 / 33600], examples_per_second: 3229.2408, train_label_loss: 0.9398, \n"
     ]
    },
    {
     "name": "stdout",
     "output_type": "stream",
     "text": [
      "epoch: 6, [batch: 30240 / 33600], examples_per_second: 3231.1922, train_label_loss: 0.4454, \n"
     ]
    },
    {
     "name": "stdout",
     "output_type": "stream",
     "text": [
      "=============================================================\n",
      "epoch: 6, source_val_acc_label: 0.7295, target_val_acc_label: 0.7137, source_val_label_loss: 0.7282, target_val_label_loss: 0.8096, \n",
      "=============================================================\n"
     ]
    },
    {
     "name": "stdout",
     "output_type": "stream",
     "text": [
      "epoch: 7, [batch: 1 / 33600], examples_per_second: 0.9680, train_label_loss: 0.5218, \n"
     ]
    },
    {
     "name": "stdout",
     "output_type": "stream",
     "text": [
      "epoch: 7, [batch: 3360 / 33600], examples_per_second: 3219.5478, train_label_loss: 0.4594, \n"
     ]
    },
    {
     "name": "stdout",
     "output_type": "stream",
     "text": [
      "epoch: 7, [batch: 6720 / 33600], examples_per_second: 3218.1750, train_label_loss: 0.5914, \n"
     ]
    },
    {
     "name": "stdout",
     "output_type": "stream",
     "text": [
      "epoch: 7, [batch: 10080 / 33600], examples_per_second: 3215.6455, train_label_loss: 0.2202, \n"
     ]
    },
    {
     "name": "stdout",
     "output_type": "stream",
     "text": [
      "epoch: 7, [batch: 13440 / 33600], examples_per_second: 3212.9778, train_label_loss: 0.3296, \n"
     ]
    },
    {
     "name": "stdout",
     "output_type": "stream",
     "text": [
      "epoch: 7, [batch: 16800 / 33600], examples_per_second: 3225.2422, train_label_loss: 0.1032, \n"
     ]
    },
    {
     "name": "stdout",
     "output_type": "stream",
     "text": [
      "epoch: 7, [batch: 20160 / 33600], examples_per_second: 3227.9033, train_label_loss: 0.4922, \n"
     ]
    },
    {
     "name": "stdout",
     "output_type": "stream",
     "text": [
      "epoch: 7, [batch: 23520 / 33600], examples_per_second: 3222.1157, train_label_loss: 0.4407, \n"
     ]
    },
    {
     "name": "stdout",
     "output_type": "stream",
     "text": [
      "epoch: 7, [batch: 26880 / 33600], examples_per_second: 3227.9957, train_label_loss: 0.5472, \n"
     ]
    },
    {
     "name": "stdout",
     "output_type": "stream",
     "text": [
      "epoch: 7, [batch: 30240 / 33600], examples_per_second: 3228.6934, train_label_loss: 0.2709, \n"
     ]
    },
    {
     "name": "stdout",
     "output_type": "stream",
     "text": [
      "=============================================================\n",
      "epoch: 7, source_val_acc_label: 0.7393, target_val_acc_label: 0.7213, source_val_label_loss: 0.7420, target_val_label_loss: 0.8306, \n",
      "=============================================================\n"
     ]
    },
    {
     "name": "stdout",
     "output_type": "stream",
     "text": [
      "New best\n"
     ]
    },
    {
     "name": "stdout",
     "output_type": "stream",
     "text": [
      "epoch: 8, [batch: 1 / 33600], examples_per_second: 0.9645, train_label_loss: 0.4762, \n"
     ]
    },
    {
     "name": "stdout",
     "output_type": "stream",
     "text": [
      "epoch: 8, [batch: 3360 / 33600], examples_per_second: 3214.6616, train_label_loss: 0.1016, \n"
     ]
    },
    {
     "name": "stdout",
     "output_type": "stream",
     "text": [
      "epoch: 8, [batch: 6720 / 33600], examples_per_second: 3223.5504, train_label_loss: 0.2593, \n"
     ]
    },
    {
     "name": "stdout",
     "output_type": "stream",
     "text": [
      "epoch: 8, [batch: 10080 / 33600], examples_per_second: 3220.0480, train_label_loss: 0.4564, \n"
     ]
    },
    {
     "name": "stdout",
     "output_type": "stream",
     "text": [
      "epoch: 8, [batch: 13440 / 33600], examples_per_second: 3214.1628, train_label_loss: 0.1706, \n"
     ]
    },
    {
     "name": "stdout",
     "output_type": "stream",
     "text": [
      "epoch: 8, [batch: 16800 / 33600], examples_per_second: 3231.3828, train_label_loss: 0.2159, \n"
     ]
    },
    {
     "name": "stdout",
     "output_type": "stream",
     "text": [
      "epoch: 8, [batch: 20160 / 33600], examples_per_second: 3228.3958, train_label_loss: 0.4389, \n"
     ]
    },
    {
     "name": "stdout",
     "output_type": "stream",
     "text": [
      "epoch: 8, [batch: 23520 / 33600], examples_per_second: 3221.2606, train_label_loss: 0.6712, \n"
     ]
    },
    {
     "name": "stdout",
     "output_type": "stream",
     "text": [
      "epoch: 8, [batch: 26880 / 33600], examples_per_second: 3224.4100, train_label_loss: 0.4967, \n"
     ]
    },
    {
     "name": "stdout",
     "output_type": "stream",
     "text": [
      "epoch: 8, [batch: 30240 / 33600], examples_per_second: 3219.2570, train_label_loss: 0.3854, \n"
     ]
    },
    {
     "name": "stdout",
     "output_type": "stream",
     "text": [
      "=============================================================\n",
      "epoch: 8, source_val_acc_label: 0.7306, target_val_acc_label: 0.7113, source_val_label_loss: 0.7596, target_val_label_loss: 0.8488, \n",
      "=============================================================\n"
     ]
    },
    {
     "name": "stdout",
     "output_type": "stream",
     "text": [
      "epoch: 9, [batch: 1 / 33600], examples_per_second: 0.9626, train_label_loss: 0.2950, \n"
     ]
    },
    {
     "name": "stdout",
     "output_type": "stream",
     "text": [
      "epoch: 9, [batch: 3360 / 33600], examples_per_second: 3212.7426, train_label_loss: 0.0989, \n"
     ]
    },
    {
     "name": "stdout",
     "output_type": "stream",
     "text": [
      "epoch: 9, [batch: 6720 / 33600], examples_per_second: 3227.4830, train_label_loss: 0.2932, \n"
     ]
    },
    {
     "name": "stdout",
     "output_type": "stream",
     "text": [
      "epoch: 9, [batch: 10080 / 33600], examples_per_second: 3224.2883, train_label_loss: 0.8175, \n"
     ]
    },
    {
     "name": "stdout",
     "output_type": "stream",
     "text": [
      "epoch: 9, [batch: 13440 / 33600], examples_per_second: 3215.0421, train_label_loss: 0.2696, \n"
     ]
    },
    {
     "name": "stdout",
     "output_type": "stream",
     "text": [
      "epoch: 9, [batch: 16800 / 33600], examples_per_second: 3227.4644, train_label_loss: 0.4754, \n"
     ]
    },
    {
     "name": "stdout",
     "output_type": "stream",
     "text": [
      "epoch: 9, [batch: 20160 / 33600], examples_per_second: 3234.2561, train_label_loss: 0.1366, \n"
     ]
    },
    {
     "name": "stdout",
     "output_type": "stream",
     "text": [
      "epoch: 9, [batch: 23520 / 33600], examples_per_second: 3219.0393, train_label_loss: 0.3151, \n"
     ]
    },
    {
     "name": "stdout",
     "output_type": "stream",
     "text": [
      "epoch: 9, [batch: 26880 / 33600], examples_per_second: 3225.2118, train_label_loss: 0.8014, \n"
     ]
    },
    {
     "name": "stdout",
     "output_type": "stream",
     "text": [
      "epoch: 9, [batch: 30240 / 33600], examples_per_second: 3228.1294, train_label_loss: 0.6307, \n"
     ]
    },
    {
     "name": "stdout",
     "output_type": "stream",
     "text": [
      "=============================================================\n",
      "epoch: 9, source_val_acc_label: 0.7349, target_val_acc_label: 0.7180, source_val_label_loss: 0.7601, target_val_label_loss: 0.8505, \n",
      "=============================================================\n"
     ]
    },
    {
     "name": "stdout",
     "output_type": "stream",
     "text": [
      "epoch: 10, [batch: 1 / 33600], examples_per_second: 0.9631, train_label_loss: 0.4324, \n"
     ]
    },
    {
     "name": "stdout",
     "output_type": "stream",
     "text": [
      "epoch: 10, [batch: 3360 / 33600], examples_per_second: 3210.9264, train_label_loss: 0.4755, \n"
     ]
    },
    {
     "name": "stdout",
     "output_type": "stream",
     "text": [
      "epoch: 10, [batch: 6720 / 33600], examples_per_second: 3214.9769, train_label_loss: 0.4881, \n"
     ]
    },
    {
     "name": "stdout",
     "output_type": "stream",
     "text": [
      "epoch: 10, [batch: 10080 / 33600], examples_per_second: 3222.1736, train_label_loss: 0.5055, \n"
     ]
    },
    {
     "name": "stdout",
     "output_type": "stream",
     "text": [
      "epoch: 10, [batch: 13440 / 33600], examples_per_second: 3220.1103, train_label_loss: 0.3749, \n"
     ]
    },
    {
     "name": "stdout",
     "output_type": "stream",
     "text": [
      "epoch: 10, [batch: 16800 / 33600], examples_per_second: 3229.7688, train_label_loss: 0.5742, \n"
     ]
    },
    {
     "name": "stdout",
     "output_type": "stream",
     "text": [
      "epoch: 10, [batch: 20160 / 33600], examples_per_second: 3238.8990, train_label_loss: 0.3980, \n"
     ]
    },
    {
     "name": "stdout",
     "output_type": "stream",
     "text": [
      "epoch: 10, [batch: 23520 / 33600], examples_per_second: 3227.0573, train_label_loss: 0.3545, \n"
     ]
    },
    {
     "name": "stdout",
     "output_type": "stream",
     "text": [
      "epoch: 10, [batch: 26880 / 33600], examples_per_second: 3223.9505, train_label_loss: 0.2584, \n"
     ]
    },
    {
     "name": "stdout",
     "output_type": "stream",
     "text": [
      "epoch: 10, [batch: 30240 / 33600], examples_per_second: 3235.5032, train_label_loss: 0.6901, \n"
     ]
    },
    {
     "name": "stdout",
     "output_type": "stream",
     "text": [
      "=============================================================\n",
      "epoch: 10, source_val_acc_label: 0.7307, target_val_acc_label: 0.7104, source_val_label_loss: 0.7934, target_val_label_loss: 0.8882, \n",
      "=============================================================\n"
     ]
    },
    {
     "name": "stdout",
     "output_type": "stream",
     "text": [
      "epoch: 11, [batch: 1 / 33600], examples_per_second: 0.9659, train_label_loss: 0.2809, \n"
     ]
    },
    {
     "name": "stdout",
     "output_type": "stream",
     "text": [
      "epoch: 11, [batch: 3360 / 33600], examples_per_second: 3216.7097, train_label_loss: 0.6004, \n"
     ]
    },
    {
     "name": "stdout",
     "output_type": "stream",
     "text": [
      "epoch: 11, [batch: 6720 / 33600], examples_per_second: 3224.9913, train_label_loss: 0.3698, \n"
     ]
    },
    {
     "name": "stdout",
     "output_type": "stream",
     "text": [
      "epoch: 11, [batch: 10080 / 33600], examples_per_second: 3226.1094, train_label_loss: 0.2391, \n"
     ]
    },
    {
     "name": "stdout",
     "output_type": "stream",
     "text": [
      "epoch: 11, [batch: 13440 / 33600], examples_per_second: 3215.4361, train_label_loss: 0.6948, \n"
     ]
    },
    {
     "name": "stdout",
     "output_type": "stream",
     "text": [
      "epoch: 11, [batch: 16800 / 33600], examples_per_second: 3225.0654, train_label_loss: 0.1642, \n"
     ]
    },
    {
     "name": "stdout",
     "output_type": "stream",
     "text": [
      "epoch: 11, [batch: 20160 / 33600], examples_per_second: 3228.3328, train_label_loss: 0.1385, \n"
     ]
    },
    {
     "name": "stdout",
     "output_type": "stream",
     "text": [
      "epoch: 11, [batch: 23520 / 33600], examples_per_second: 3227.4599, train_label_loss: 0.3662, \n"
     ]
    },
    {
     "name": "stdout",
     "output_type": "stream",
     "text": [
      "epoch: 11, [batch: 26880 / 33600], examples_per_second: 3228.8169, train_label_loss: 0.3566, \n"
     ]
    },
    {
     "name": "stdout",
     "output_type": "stream",
     "text": [
      "epoch: 11, [batch: 30240 / 33600], examples_per_second: 3232.4157, train_label_loss: 0.1989, \n"
     ]
    },
    {
     "name": "stdout",
     "output_type": "stream",
     "text": [
      "=============================================================\n",
      "epoch: 11, source_val_acc_label: 0.7332, target_val_acc_label: 0.7134, source_val_label_loss: 0.8164, target_val_label_loss: 0.9167, \n",
      "=============================================================\n"
     ]
    },
    {
     "name": "stdout",
     "output_type": "stream",
     "text": [
      "Patience (3) exhausted\n"
     ]
    }
   ],
   "source": [
    "###################################\n",
    "# train\n",
    "###################################\n",
    "jig = PTN_Train_Eval_Test_Jig(model, p.BEST_MODEL_PATH, p.device)\n",
    "\n",
    "jig.train(\n",
    "    train_iterable=datasets.source.processed.train,\n",
    "    source_val_iterable=datasets.source.processed.val,\n",
    "    target_val_iterable=datasets.target.processed.val,\n",
    "    num_epochs=p.n_epoch,\n",
    "    num_logs_per_epoch=p.NUM_LOGS_PER_EPOCH,\n",
    "    patience=p.patience,\n",
    "    optimizer=optimizer,\n",
    "    criteria_for_best=p.criteria_for_best,\n",
    ")"
   ]
  },
  {
   "cell_type": "code",
   "execution_count": 23,
   "id": "31e8fabf",
   "metadata": {
    "execution": {
     "iopub.execute_input": "2022-03-24T20:58:38.184693Z",
     "iopub.status.busy": "2022-03-24T20:58:38.184441Z",
     "iopub.status.idle": "2022-03-24T20:58:38.202521Z",
     "shell.execute_reply": "2022-03-24T20:58:38.202093Z"
    },
    "papermill": {
     "duration": 0.056867,
     "end_time": "2022-03-24T20:58:38.202614",
     "exception": false,
     "start_time": "2022-03-24T20:58:38.145747",
     "status": "completed"
    },
    "tags": []
   },
   "outputs": [],
   "source": [
    "total_experiment_time_secs = time.time() - start_time_secs"
   ]
  },
  {
   "cell_type": "code",
   "execution_count": 24,
   "id": "87b9595b",
   "metadata": {
    "execution": {
     "iopub.execute_input": "2022-03-24T20:58:38.285838Z",
     "iopub.status.busy": "2022-03-24T20:58:38.285569Z",
     "iopub.status.idle": "2022-03-24T21:06:43.508006Z",
     "shell.execute_reply": "2022-03-24T21:06:43.507550Z"
    },
    "papermill": {
     "duration": 485.262521,
     "end_time": "2022-03-24T21:06:43.508117",
     "exception": false,
     "start_time": "2022-03-24T20:58:38.245596",
     "status": "completed"
    },
    "tags": []
   },
   "outputs": [],
   "source": [
    "###################################\n",
    "# Evaluate the model\n",
    "###################################\n",
    "source_test_label_accuracy, source_test_label_loss = jig.test(datasets.source.processed.test)\n",
    "target_test_label_accuracy, target_test_label_loss = jig.test(datasets.target.processed.test)\n",
    "\n",
    "source_val_label_accuracy, source_val_label_loss = jig.test(datasets.source.processed.val)\n",
    "target_val_label_accuracy, target_val_label_loss = jig.test(datasets.target.processed.val)\n",
    "\n",
    "history = jig.get_history()\n",
    "\n",
    "total_epochs_trained = len(history[\"epoch_indices\"])\n",
    "\n",
    "val_dl = Iterable_Aggregator((datasets.source.original.val,datasets.target.original.val))\n",
    "\n",
    "confusion = ptn_confusion_by_domain_over_dataloader(model, p.device, val_dl)\n",
    "per_domain_accuracy = per_domain_accuracy_from_confusion(confusion)\n",
    "\n",
    "# Add a key to per_domain_accuracy for if it was a source domain\n",
    "for domain, accuracy in per_domain_accuracy.items():\n",
    "    per_domain_accuracy[domain] = {\n",
    "        \"accuracy\": accuracy,\n",
    "        \"source?\": domain in p.domains_source\n",
    "    }\n",
    "\n",
    "# Do an independent accuracy assesment JUST TO BE SURE!\n",
    "# _source_test_label_accuracy = independent_accuracy_assesment(model, datasets.source.processed.test, p.device)\n",
    "# _target_test_label_accuracy = independent_accuracy_assesment(model, datasets.target.processed.test, p.device)\n",
    "# _source_val_label_accuracy = independent_accuracy_assesment(model, datasets.source.processed.val, p.device)\n",
    "# _target_val_label_accuracy = independent_accuracy_assesment(model, datasets.target.processed.val, p.device)\n",
    "\n",
    "# assert(_source_test_label_accuracy == source_test_label_accuracy)\n",
    "# assert(_target_test_label_accuracy == target_test_label_accuracy)\n",
    "# assert(_source_val_label_accuracy == source_val_label_accuracy)\n",
    "# assert(_target_val_label_accuracy == target_val_label_accuracy)\n",
    "\n",
    "experiment = {\n",
    "    \"experiment_name\": p.experiment_name,\n",
    "    \"parameters\": dict(p),\n",
    "    \"results\": {\n",
    "        \"source_test_label_accuracy\": source_test_label_accuracy,\n",
    "        \"source_test_label_loss\": source_test_label_loss,\n",
    "        \"target_test_label_accuracy\": target_test_label_accuracy,\n",
    "        \"target_test_label_loss\": target_test_label_loss,\n",
    "        \"source_val_label_accuracy\": source_val_label_accuracy,\n",
    "        \"source_val_label_loss\": source_val_label_loss,\n",
    "        \"target_val_label_accuracy\": target_val_label_accuracy,\n",
    "        \"target_val_label_loss\": target_val_label_loss,\n",
    "        \"total_epochs_trained\": total_epochs_trained,\n",
    "        \"total_experiment_time_secs\": total_experiment_time_secs,\n",
    "        \"confusion\": confusion,\n",
    "        \"per_domain_accuracy\": per_domain_accuracy,\n",
    "    },\n",
    "    \"history\": history,\n",
    "    \"dataset_metrics\": get_dataset_metrics(datasets, \"ptn\"),\n",
    "}"
   ]
  },
  {
   "cell_type": "code",
   "execution_count": 25,
   "id": "54a21829",
   "metadata": {
    "execution": {
     "iopub.execute_input": "2022-03-24T21:06:43.590599Z",
     "iopub.status.busy": "2022-03-24T21:06:43.590345Z",
     "iopub.status.idle": "2022-03-24T21:06:43.718236Z",
     "shell.execute_reply": "2022-03-24T21:06:43.717774Z"
    },
    "papermill": {
     "duration": 0.166453,
     "end_time": "2022-03-24T21:06:43.718340",
     "exception": false,
     "start_time": "2022-03-24T21:06:43.551887",
     "status": "completed"
    },
    "tags": []
   },
   "outputs": [
    {
     "data": {
      "image/png": "[encoded data removed]",
      "text/plain": [
       "<Figure size 1080x504 with 1 Axes>"
      ]
     },
     "metadata": {
      "needs_background": "light"
     },
     "output_type": "display_data"
    }
   ],
   "source": [
    "ax = get_loss_curve(experiment)\n",
    "plt.show()"
   ]
  },
  {
   "cell_type": "code",
   "execution_count": 26,
   "id": "fd8a0f60",
   "metadata": {
    "execution": {
     "iopub.execute_input": "2022-03-24T21:06:43.801344Z",
     "iopub.status.busy": "2022-03-24T21:06:43.801095Z",
     "iopub.status.idle": "2022-03-24T21:06:43.944984Z",
     "shell.execute_reply": "2022-03-24T21:06:43.945209Z"
    },
    "papermill": {
     "duration": 0.183643,
     "end_time": "2022-03-24T21:06:43.945291",
     "exception": false,
     "start_time": "2022-03-24T21:06:43.761648",
     "status": "completed"
    },
    "tags": []
   },
   "outputs": [
    {
     "data": {
      "text/plain": [
       "<AxesSubplot:title={'center':'Results'}>"
      ]
     },
     "execution_count": 26,
     "metadata": {},
     "output_type": "execute_result"
    },
    {
     "data": {
      "image/png": "[encoded data removed]",
      "text/plain": [
       "<Figure size 1080x504 with 1 Axes>"
      ]
     },
     "metadata": {
      "needs_background": "light"
     },
     "output_type": "display_data"
    }
   ],
   "source": [
    "get_results_table(experiment)"
   ]
  },
  {
   "cell_type": "code",
   "execution_count": 27,
   "id": "cf8dc689",
   "metadata": {
    "execution": {
     "iopub.execute_input": "2022-03-24T21:06:44.027574Z",
     "iopub.status.busy": "2022-03-24T21:06:44.027308Z",
     "iopub.status.idle": "2022-03-24T21:06:44.191392Z",
     "shell.execute_reply": "2022-03-24T21:06:44.191816Z"
    },
    "papermill": {
     "duration": 0.205753,
     "end_time": "2022-03-24T21:06:44.191948",
     "exception": false,
     "start_time": "2022-03-24T21:06:43.986195",
     "status": "completed"
    },
    "tags": []
   },
   "outputs": [
    {
     "data": {
      "text/plain": [
       "<AxesSubplot:title={'center':'Per Domain Validation Accuracy'}, xlabel='domain'>"
      ]
     },
     "execution_count": 27,
     "metadata": {},
     "output_type": "execute_result"
    },
    {
     "data": {
      "image/png": "[encoded data removed]",
      "text/plain": [
       "<Figure size 1080x504 with 1 Axes>"
      ]
     },
     "metadata": {
      "needs_background": "light"
     },
     "output_type": "display_data"
    }
   ],
   "source": [
    "get_domain_accuracies(experiment)"
   ]
  },
  {
   "cell_type": "code",
   "execution_count": 28,
   "id": "a74ae082",
   "metadata": {
    "execution": {
     "iopub.execute_input": "2022-03-24T21:06:44.276931Z",
     "iopub.status.busy": "2022-03-24T21:06:44.275868Z",
     "iopub.status.idle": "2022-03-24T21:06:44.293440Z",
     "shell.execute_reply": "2022-03-24T21:06:44.293818Z"
    },
    "papermill": {
     "duration": 0.058818,
     "end_time": "2022-03-24T21:06:44.293944",
     "exception": false,
     "start_time": "2022-03-24T21:06:44.235126",
     "status": "completed"
    },
    "tags": []
   },
   "outputs": [
    {
     "name": "stdout",
     "output_type": "stream",
     "text": [
      "Source Test Label Accuracy: 0.7390755208333334 Target Test Label Accuracy: 0.72185546875\n",
      "Source Val Label Accuracy: 0.7393359375 Target Val Label Accuracy: 0.7212825520833334\n"
     ]
    }
   ],
   "source": [
    "print(\"Source Test Label Accuracy:\", experiment[\"results\"][\"source_test_label_accuracy\"], \"Target Test Label Accuracy:\", experiment[\"results\"][\"target_test_label_accuracy\"])\n",
    "print(\"Source Val Label Accuracy:\", experiment[\"results\"][\"source_val_label_accuracy\"], \"Target Val Label Accuracy:\", experiment[\"results\"][\"target_val_label_accuracy\"])"
   ]
  },
  {
   "cell_type": "code",
   "execution_count": 29,
   "id": "dacca602",
   "metadata": {
    "execution": {
     "iopub.execute_input": "2022-03-24T21:06:44.378128Z",
     "iopub.status.busy": "2022-03-24T21:06:44.377842Z",
     "iopub.status.idle": "2022-03-24T21:06:44.390878Z",
     "shell.execute_reply": "2022-03-24T21:06:44.391284Z"
    },
    "papermill": {
     "duration": 0.054521,
     "end_time": "2022-03-24T21:06:44.391409",
     "exception": false,
     "start_time": "2022-03-24T21:06:44.336888",
     "status": "completed"
    },
    "tags": [
     "experiment_json"
    ]
   },
   "outputs": [
    {
     "data": {
      "text/plain": [
       "'{\"experiment_name\": \"tl_1v2:oracle.run1-oracle.run2\", \"parameters\": {\"experiment_name\": \"tl_1v2:oracle.run1-oracle.run2\", \"device\": \"cuda\", \"lr\": 0.0001, \"n_shot\": 3, \"n_query\": 2, \"train_k_factor\": 3, \"val_k_factor\": 2, \"test_k_factor\": 2, \"torch_default_dtype\": \"torch.float32\", \"n_epoch\": 50, \"patience\": 3, \"criteria_for_best\": \"target_accuracy\", \"x_net\": [{\"class\": \"nnReshape\", \"kargs\": {\"shape\": [-1, 1, 2, 256]}}, {\"class\": \"Conv2d\", \"kargs\": {\"in_channels\": 1, \"out_channels\": 256, \"kernel_size\": [1, 7], \"bias\": false, \"padding\": [0, 3]}}, {\"class\": \"ReLU\", \"kargs\": {\"inplace\": true}}, {\"class\": \"BatchNorm2d\", \"kargs\": {\"num_features\": 256}}, {\"class\": \"Conv2d\", \"kargs\": {\"in_channels\": 256, \"out_channels\": 80, \"kernel_size\": [2, 7], \"bias\": true, \"padding\": [0, 3]}}, {\"class\": \"ReLU\", \"kargs\": {\"inplace\": true}}, {\"class\": \"BatchNorm2d\", \"kargs\": {\"num_features\": 80}}, {\"class\": \"Flatten\", \"kargs\": {}}, {\"class\": \"Linear\", \"kargs\": {\"in_features\": 20480, \"out_features\": 256}}, {\"class\": \"ReLU\", \"kargs\": {\"inplace\": true}}, {\"class\": \"BatchNorm1d\", \"kargs\": {\"num_features\": 256}}, {\"class\": \"Linear\", \"kargs\": {\"in_features\": 256, \"out_features\": 256}}], \"NUM_LOGS_PER_EPOCH\": 10, \"BEST_MODEL_PATH\": \"./best_model.pth\", \"n_way\": 16, \"datasets\": [{\"labels\": [\"3123D52\", \"3123D65\", \"3123D79\", \"3123D80\", \"3123D54\", \"3123D70\", \"3123D7B\", \"3123D89\", \"3123D58\", \"3123D76\", \"3123D7D\", \"3123EFE\", \"3123D64\", \"3123D78\", \"3123D7E\", \"3124E4A\"], \"domains\": [32, 38, 8, 44, 14, 50, 20, 26], \"num_examples_per_domain_per_label\": 10000, \"pickle_path\": \"/mnt/wd500GB/CSC500/csc500-main/datasets/oracle.Run1_10kExamples_stratified_ds.2022A.pkl\", \"source_or_target_dataset\": \"source\", \"x_transforms\": [\"unit_mag\"], \"episode_transforms\": [], \"domain_prefix\": \"ORACLE.run1_\"}, {\"labels\": [\"3123D52\", \"3123D65\", \"3123D79\", \"3123D80\", \"3123D54\", \"3123D70\", \"3123D7B\", \"3123D89\", \"3123D58\", \"3123D76\", \"3123D7D\", \"3123EFE\", \"3123D64\", \"3123D78\", \"3123D7E\", \"3124E4A\"], \"domains\": [32, 38, 8, 44, 14, 50, 20, 26], \"num_examples_per_domain_per_label\": 10000, \"pickle_path\": \"/mnt/wd500GB/CSC500/csc500-main/datasets/oracle.Run2_10kExamples_stratified_ds.2022A.pkl\", \"source_or_target_dataset\": \"target\", \"x_transforms\": [\"unit_mag\"], \"episode_transforms\": [], \"domain_prefix\": \"ORACLE.run2_\"}], \"dataset_seed\": 154325, \"seed\": 154325, \"x_shape\": [2, 256], \"domains_source\": [\"ORACLE.run1_32\", \"ORACLE.run1_38\", \"ORACLE.run1_8\", \"ORACLE.run1_44\", \"ORACLE.run1_14\", \"ORACLE.run1_50\", \"ORACLE.run1_20\", \"ORACLE.run1_26\"], \"domains_target\": [\"ORACLE.run2_32\", \"ORACLE.run2_38\", \"ORACLE.run2_8\", \"ORACLE.run2_44\", \"ORACLE.run2_14\", \"ORACLE.run2_50\", \"ORACLE.run2_20\", \"ORACLE.run2_26\"]}, \"results\": {\"source_test_label_accuracy\": 0.7390755208333334, \"source_test_label_loss\": 0.741678774356842, \"target_test_label_accuracy\": 0.72185546875, \"target_test_label_loss\": 0.8357851505279541, \"source_val_label_accuracy\": 0.7393359375, \"source_val_label_loss\": 0.7420433759689331, \"target_val_label_accuracy\": 0.7212825520833334, \"target_val_label_loss\": 0.8305795192718506, \"total_epochs_trained\": 11, \"total_experiment_time_secs\": 10267.569986104965, \"confusion\": {\"ORACLE.run1_8\": {\"13\": {\"13\": 441, \"14\": 111, \"4\": 146, \"0\": 317, \"10\": 136, \"6\": 44, \"7\": 3, \"5\": 2}, \"9\": {\"9\": 1200}, \"15\": {\"15\": 905, \"12\": 238, \"8\": 46, \"2\": 7, \"3\": 4}, \"2\": {\"2\": 977, \"3\": 154, \"15\": 35, \"12\": 13, \"7\": 20, \"6\": 1}, \"3\": {\"3\": 1059, \"12\": 58, \"2\": 80, \"15\": 3}, \"8\": {\"8\": 1146, \"15\": 49, \"6\": 3, \"12\": 1, \"7\": 1}, \"5\": {\"5\": 1059, \"10\": 81, \"1\": 37, \"11\": 7, \"14\": 15, \"13\": 1}, \"14\": {\"14\": 679, \"10\": 195, \"4\": 198, \"13\": 67, \"1\": 48, \"11\": 9, \"0\": 2, \"6\": 1, \"5\": 1}, \"1\": {\"1\": 880, \"11\": 260, \"14\": 34, \"10\": 9, \"4\": 3, \"5\": 14}, \"0\": {\"6\": 63, \"0\": 754, \"13\": 254, \"7\": 70, \"4\": 51, \"10\": 5, \"14\": 3}, \"10\": {\"10\": 825, \"14\": 231, \"13\": 98, \"5\": 21, \"4\": 18, \"1\": 5, \"0\": 2}, \"6\": {\"6\": 717, \"4\": 130, \"7\": 256, \"14\": 3, \"0\": 65, \"13\": 28, \"8\": 1}, \"11\": {\"1\": 386, \"14\": 17, \"11\": 776, \"8\": 8, \"4\": 2, \"5\": 10, \"6\": 1}, \"7\": {\"7\": 925, \"6\": 230, \"0\": 37, \"4\": 4, \"13\": 4}, \"4\": {\"6\": 134, \"4\": 634, \"13\": 184, \"14\": 177, \"10\": 32, \"7\": 2, \"0\": 37}, \"12\": {\"15\": 346, \"12\": 671, \"3\": 159, \"2\": 10, \"8\": 14}}, \"ORACLE.run1_38\": {\"13\": {\"13\": 883, \"10\": 99, \"15\": 179, \"8\": 12, \"1\": 5, \"0\": 1, \"2\": 15, \"5\": 6}, \"12\": {\"12\": 1171, \"4\": 24, \"10\": 4, \"14\": 1}, \"2\": {\"2\": 1117, \"14\": 56, \"13\": 24, \"15\": 3}, \"9\": {\"6\": 319, \"9\": 843, \"5\": 17, \"3\": 19, \"7\": 2}, \"15\": {\"15\": 926, \"13\": 137, \"8\": 33, \"1\": 70, \"5\": 25, \"10\": 5, \"2\": 3, \"0\": 1}, \"5\": {\"5\": 529, \"8\": 329, \"0\": 68, \"7\": 93, \"9\": 35, \"15\": 56, \"6\": 62, \"3\": 9, \"10\": 6, \"13\": 7, \"1\": 6}, \"14\": {\"10\": 9, \"14\": 1108, \"2\": 54, \"11\": 24, \"13\": 4, \"12\": 1}, \"0\": {\"0\": 587, \"8\": 246, \"7\": 176, \"4\": 1, \"9\": 3, \"3\": 74, \"5\": 86, \"10\": 19, \"13\": 1, \"15\": 5, \"12\": 2}, \"3\": {\"3\": 1142, \"0\": 16, \"9\": 30, \"7\": 9, \"5\": 3}, \"1\": {\"1\": 1147, \"15\": 50, \"13\": 3}, \"11\": {\"11\": 1085, \"13\": 3, \"10\": 15, \"14\": 86, \"2\": 10, \"12\": 1}, \"7\": {\"8\": 38, \"7\": 998, \"0\": 106, \"5\": 57, \"9\": 1}, \"8\": {\"8\": 758, \"5\": 226, \"0\": 113, \"15\": 30, \"7\": 55, \"13\": 6, \"10\": 11, \"1\": 1}, \"4\": {\"4\": 1153, \"12\": 46, \"10\": 1}, \"10\": {\"10\": 955, \"7\": 10, \"8\": 52, \"0\": 20, \"13\": 114, \"15\": 8, \"5\": 3, \"12\": 13, \"14\": 17, \"11\": 3, \"4\": 2, \"2\": 3}, \"6\": {\"6\": 1044, \"9\": 152, \"5\": 4}}, \"ORACLE.run1_26\": {\"10\": {\"10\": 533, \"8\": 157, \"0\": 254, \"4\": 61, \"14\": 109, \"1\": 20, \"6\": 44, \"7\": 2, \"9\": 13, \"15\": 5, \"5\": 2}, \"12\": {\"12\": 1199, \"11\": 1}, \"1\": {\"1\": 744, \"14\": 243, \"4\": 141, \"0\": 32, \"10\": 26, \"7\": 11, \"8\": 2, \"3\": 1}, \"0\": {\"14\": 213, \"10\": 275, \"0\": 360, \"4\": 174, \"8\": 119, \"7\": 8, \"1\": 27, \"6\": 16, \"9\": 6, \"15\": 2}, \"15\": {\"13\": 52, \"10\": 8, \"8\": 92, \"15\": 503, \"9\": 342, \"14\": 1, \"5\": 111, \"0\": 9, \"2\": 22, \"7\": 25, \"6\": 33, \"4\": 2}, \"13\": {\"5\": 204, \"13\": 870, \"15\": 67, \"9\": 29, \"2\": 21, \"6\": 8, \"7\": 1}, \"8\": {\"1\": 4, \"4\": 96, \"7\": 110, \"9\": 84, \"8\": 455, \"5\": 19, \"10\": 164, \"0\": 112, \"2\": 20, \"15\": 73, \"3\": 1, \"14\": 28, \"6\": 34}, \"3\": {\"3\": 765, \"2\": 257, \"7\": 173, \"4\": 5}, \"11\": {\"11\": 1194, \"12\": 6}, \"4\": {\"10\": 56, \"1\": 117, \"4\": 498, \"8\": 85, \"14\": 216, \"0\": 157, \"7\": 69, \"9\": 1, \"3\": 1}, \"6\": {\"6\": 848, \"10\": 91, \"8\": 37, \"9\": 164, \"15\": 37, \"0\": 14, \"13\": 8, \"5\": 1}, \"7\": {\"7\": 678, \"4\": 125, \"3\": 153, \"8\": 76, \"2\": 125, \"14\": 9, \"0\": 15, \"15\": 8, \"1\": 5, \"9\": 2, \"10\": 2, \"5\": 2}, \"14\": {\"14\": 447, \"10\": 95, \"4\": 199, \"0\": 209, \"1\": 206, \"8\": 33, \"7\": 10, \"9\": 1}, \"2\": {\"2\": 470, \"3\": 376, \"7\": 123, \"5\": 105, \"8\": 40, \"0\": 3, \"15\": 55, \"9\": 19, \"4\": 2, \"13\": 6, \"6\": 1}, \"5\": {\"5\": 756, \"15\": 122, \"13\": 167, \"9\": 61, \"3\": 2, \"2\": 57, \"8\": 23, \"6\": 3, \"4\": 1, \"7\": 8}, \"9\": {\"9\": 528, \"5\": 29, \"6\": 125, \"15\": 341, \"10\": 31, \"8\": 109, \"13\": 21, \"2\": 7, \"7\": 3, \"0\": 6}}, \"ORACLE.run1_20\": {\"5\": {\"12\": 124, \"1\": 197, \"5\": 519, \"0\": 218, \"4\": 5, \"15\": 101, \"3\": 29, \"9\": 3, \"2\": 3, \"13\": 1}, \"15\": {\"0\": 82, \"15\": 780, \"1\": 187, \"12\": 28, \"5\": 91, \"2\": 3, \"9\": 3, \"13\": 24, \"3\": 2}, \"9\": {\"9\": 536, \"2\": 288, \"12\": 97, \"7\": 44, \"3\": 215, \"1\": 6, \"8\": 1, \"15\": 1, \"13\": 9, \"5\": 1, \"4\": 2}, \"7\": {\"7\": 916, \"2\": 138, \"9\": 44, \"3\": 28, \"8\": 62, \"6\": 7, \"13\": 1, \"10\": 2, \"14\": 1, \"5\": 1}, \"3\": {\"3\": 543, \"5\": 37, \"4\": 63, \"12\": 237, \"9\": 181, \"2\": 73, \"1\": 25, \"7\": 34, \"8\": 4, \"0\": 2, \"10\": 1}, \"8\": {\"14\": 30, \"8\": 966, \"6\": 5, \"4\": 111, \"10\": 19, \"7\": 62, \"3\": 5, \"2\": 1, \"0\": 1}, \"4\": {\"8\": 111, \"4\": 990, \"3\": 55, \"10\": 30, \"12\": 4, \"9\": 3, \"0\": 1, \"2\": 1, \"7\": 2, \"5\": 3}, \"6\": {\"6\": 1076, \"14\": 116, \"8\": 3, \"7\": 4, \"10\": 1}, \"2\": {\"13\": 43, \"2\": 610, \"12\": 41, \"7\": 116, \"9\": 308, \"3\": 71, \"1\": 5, \"5\": 2, \"4\": 2, \"0\": 1, \"15\": 1}, \"12\": {\"1\": 171, \"9\": 90, \"12\": 531, \"3\": 219, \"15\": 23, \"5\": 119, \"0\": 6, \"2\": 33, \"8\": 2, \"4\": 6}, \"0\": {\"0\": 693, \"2\": 6, \"5\": 299, \"15\": 131, \"1\": 25, \"12\": 16, \"4\": 9, \"13\": 4, \"3\": 14, \"9\": 1, \"7\": 1, \"8\": 1}, \"13\": {\"13\": 1116, \"2\": 54, \"15\": 18, \"9\": 5, \"1\": 5, \"3\": 1, \"12\": 1}, \"10\": {\"10\": 1095, \"14\": 67, \"4\": 20, \"8\": 15, \"7\": 1, \"6\": 2}, \"11\": {\"11\": 1200}, \"14\": {\"14\": 1010, \"6\": 108, \"10\": 68, \"8\": 14}, \"1\": {\"15\": 213, \"12\": 167, \"1\": 593, \"5\": 175, \"9\": 9, \"3\": 19, \"0\": 17, \"13\": 3, \"2\": 4}}, \"ORACLE.run1_50\": {\"1\": {\"15\": 206, \"1\": 800, \"4\": 92, \"6\": 87, \"14\": 2, \"5\": 8, \"11\": 2, \"2\": 2, \"0\": 1}, \"2\": {\"2\": 1127, \"0\": 72, \"4\": 1}, \"8\": {\"8\": 1163, \"10\": 21, \"3\": 16}, \"7\": {\"7\": 759, \"13\": 244, \"5\": 159, \"4\": 5, \"10\": 24, \"6\": 8, \"0\": 1}, \"14\": {\"14\": 1185, \"12\": 9, \"11\": 6}, \"6\": {\"6\": 870, \"1\": 91, \"5\": 41, \"15\": 21, \"4\": 95, \"13\": 74, \"7\": 6, \"0\": 2}, \"3\": {\"3\": 1179, \"8\": 21}, \"4\": {\"4\": 584, \"1\": 180, \"6\": 109, \"7\": 35, \"15\": 169, \"5\": 103, \"13\": 19, \"11\": 1}, \"12\": {\"12\": 1106, \"14\": 25, \"9\": 64, \"11\": 5}, \"15\": {\"15\": 908, \"1\": 175, \"11\": 15, \"4\": 84, \"6\": 18}, \"11\": {\"11\": 1083, \"9\": 85, \"1\": 2, \"12\": 3, \"15\": 22, \"14\": 5}, \"0\": {\"2\": 113, \"0\": 1043, \"10\": 43, \"13\": 1}, \"9\": {\"12\": 79, \"9\": 957, \"11\": 162, \"14\": 2}, \"10\": {\"10\": 1103, \"0\": 42, \"7\": 19, \"13\": 16, \"8\": 15, \"5\": 5}, \"5\": {\"13\": 196, \"6\": 83, \"5\": 495, \"4\": 143, \"7\": 226, \"1\": 51, \"10\": 3, \"15\": 1, \"0\": 2}, \"13\": {\"13\": 846, \"6\": 54, \"7\": 148, \"5\": 140, \"10\": 3, \"4\": 7, \"0\": 1, \"15\": 1}}, \"ORACLE.run1_32\": {\"2\": {\"2\": 989, \"4\": 168, \"0\": 24, \"14\": 1, \"7\": 18}, \"6\": {\"6\": 1200}, \"5\": {\"8\": 66, \"7\": 153, \"4\": 123, \"5\": 464, \"13\": 270, \"0\": 47, \"3\": 44, \"14\": 21, \"11\": 7, \"2\": 5}, \"12\": {\"12\": 1200}, \"13\": {\"13\": 603, \"4\": 86, \"0\": 10, \"8\": 65, \"14\": 19, \"3\": 98, \"7\": 79, \"5\": 220, \"11\": 18, \"2\": 2}, \"9\": {\"9\": 1197, \"12\": 3}, \"11\": {\"14\": 152, \"11\": 999, \"7\": 14, \"3\": 15, \"5\": 5, \"13\": 15}, \"1\": {\"1\": 1195, \"10\": 5}, \"3\": {\"3\": 1110, \"13\": 45, \"11\": 18, \"14\": 6, \"8\": 6, \"5\": 12, \"7\": 3}, \"7\": {\"4\": 123, \"7\": 583, \"14\": 149, \"5\": 178, \"2\": 29, \"0\": 18, \"13\": 86, \"11\": 28, \"8\": 5, \"3\": 1}, \"14\": {\"14\": 568, \"11\": 288, \"7\": 188, \"0\": 57, \"8\": 10, \"13\": 26, \"5\": 36, \"3\": 6, \"2\": 11, \"4\": 10}, \"8\": {\"8\": 959, \"5\": 62, \"13\": 67, \"0\": 95, \"4\": 4, \"7\": 3, \"3\": 6, \"14\": 4}, \"4\": {\"4\": 778, \"2\": 165, \"8\": 5, \"7\": 91, \"5\": 84, \"0\": 31, \"13\": 45, \"14\": 1}, \"0\": {\"0\": 918, \"8\": 101, \"2\": 31, \"7\": 31, \"5\": 33, \"14\": 17, \"4\": 55, \"13\": 14}, \"10\": {\"10\": 1195, \"1\": 5}, \"15\": {\"15\": 1192, \"8\": 5, \"3\": 3}}, \"ORACLE.run1_44\": {\"13\": {\"13\": 825, \"11\": 41, \"6\": 211, \"9\": 109, \"7\": 11, \"4\": 3}, \"4\": {\"4\": 891, \"14\": 301, \"15\": 8}, \"6\": {\"6\": 852, \"13\": 198, \"9\": 116, \"7\": 25, \"2\": 2, \"11\": 7}, \"0\": {\"0\": 779, \"8\": 304, \"5\": 70, \"15\": 47}, \"10\": {\"10\": 893, \"1\": 127, \"12\": 97, \"2\": 81, \"3\": 1, \"7\": 1}, \"7\": {\"7\": 806, \"6\": 35, \"9\": 222, \"2\": 134, \"3\": 1, \"10\": 1, \"1\": 1}, \"14\": {\"14\": 821, \"4\": 314, \"5\": 11, \"15\": 53, \"0\": 1}, \"15\": {\"15\": 977, \"0\": 73, \"14\": 75, \"5\": 45, \"4\": 10, \"8\": 20}, \"5\": {\"5\": 1034, \"0\": 84, \"14\": 38, \"8\": 12, \"15\": 31, \"4\": 1}, \"2\": {\"2\": 957, \"7\": 128, \"10\": 70, \"1\": 36, \"3\": 3, \"9\": 4, \"12\": 2}, \"9\": {\"13\": 105, \"9\": 707, \"7\": 264, \"6\": 115, \"2\": 9}, \"12\": {\"12\": 978, \"10\": 38, \"1\": 174, \"3\": 9, \"2\": 1}, \"8\": {\"8\": 737, \"0\": 415, \"15\": 34, \"5\": 14}, \"3\": {\"3\": 1065, \"1\": 118, \"12\": 13, \"2\": 3, \"7\": 1}, \"1\": {\"1\": 738, \"12\": 193, \"3\": 120, \"10\": 94, \"7\": 1, \"2\": 54}, \"11\": {\"11\": 1125, \"13\": 60, \"6\": 14, \"9\": 1}}, \"ORACLE.run1_14\": {\"1\": {\"1\": 1091, \"4\": 7, \"5\": 102}, \"15\": {\"15\": 1172, \"7\": 28}, \"10\": {\"10\": 1167, \"0\": 32, \"3\": 1}, \"2\": {\"2\": 621, \"5\": 116, \"4\": 69, \"14\": 163, \"13\": 63, \"6\": 88, \"3\": 59, \"15\": 21}, \"9\": {\"9\": 1197, \"11\": 3}, \"5\": {\"5\": 813, \"4\": 194, \"1\": 132, \"3\": 23, \"7\": 6, \"2\": 31, \"15\": 1}, \"7\": {\"7\": 1182, \"15\": 13, \"5\": 1, \"1\": 4}, \"13\": {\"14\": 153, \"6\": 494, \"13\": 427, \"2\": 109, \"3\": 2, \"5\": 12, \"4\": 3}, \"8\": {\"8\": 1200}, \"6\": {\"13\": 398, \"6\": 712, \"2\": 40, \"14\": 50}, \"3\": {\"3\": 1061, \"4\": 90, \"14\": 24, \"2\": 20, \"5\": 2, \"0\": 3}, \"12\": {\"12\": 1200}, \"0\": {\"0\": 1116, \"11\": 17, \"10\": 56, \"3\": 11}, \"4\": {\"4\": 878, \"2\": 52, \"1\": 23, \"3\": 109, \"14\": 1, \"5\": 134, \"13\": 2, \"6\": 1}, \"14\": {\"14\": 992, \"2\": 56, \"13\": 94, \"6\": 34, \"3\": 23, \"4\": 1}, \"11\": {\"11\": 1074, \"0\": 60, \"9\": 62, \"10\": 4}}, \"ORACLE.run2_8\": {\"13\": {\"14\": 173, \"13\": 853, \"0\": 5, \"1\": 98, \"6\": 17, \"10\": 39, \"4\": 3, \"5\": 7, \"8\": 3, \"7\": 2}, \"9\": {\"9\": 1200}, \"15\": {\"11\": 167, \"15\": 733, \"8\": 117, \"12\": 177, \"3\": 2, \"7\": 3, \"4\": 1}, \"2\": {\"2\": 939, \"7\": 152, \"4\": 89, \"6\": 20}, \"3\": {\"3\": 1115, \"12\": 79, \"15\": 6}, \"8\": {\"8\": 1003, \"11\": 109, \"15\": 78, \"7\": 6, \"6\": 2, \"13\": 2}, \"5\": {\"5\": 965, \"10\": 200, \"1\": 27, \"13\": 5, \"0\": 2, \"14\": 1}, \"14\": {\"10\": 50, \"14\": 780, \"4\": 11, \"13\": 143, \"0\": 167, \"6\": 46, \"1\": 2, \"7\": 1}, \"1\": {\"1\": 1071, \"5\": 26, \"13\": 90, \"10\": 10, \"14\": 3}, \"0\": {\"0\": 829, \"14\": 180, \"10\": 180, \"13\": 3, \"4\": 3, \"5\": 3, \"6\": 2}, \"10\": {\"5\": 169, \"10\": 710, \"14\": 79, \"0\": 208, \"13\": 27, \"1\": 7}, \"6\": {\"6\": 598, \"7\": 172, \"4\": 368, \"14\": 33, \"13\": 10, \"2\": 16, \"0\": 2, \"8\": 1}, \"11\": {\"15\": 190, \"12\": 131, \"11\": 599, \"8\": 277, \"4\": 1, \"7\": 2}, \"7\": {\"6\": 241, \"7\": 580, \"4\": 224, \"2\": 153, \"8\": 1, \"15\": 1}, \"4\": {\"6\": 379, \"4\": 482, \"7\": 221, \"2\": 102, \"14\": 10, \"8\": 2, \"0\": 3, \"13\": 1}, \"12\": {\"12\": 974, \"15\": 122, \"11\": 32, \"3\": 72}}, \"ORACLE.run2_38\": {\"13\": {\"3\": 151, \"13\": 663, \"10\": 34, \"1\": 41, \"5\": 71, \"15\": 51, \"8\": 132, \"6\": 7, \"7\": 25, \"2\": 7, \"9\": 7, \"0\": 7, \"14\": 4}, \"12\": {\"12\": 1174, \"4\": 15, \"14\": 10, \"7\": 1}, \"2\": {\"14\": 122, \"2\": 1078}, \"9\": {\"9\": 895, \"6\": 294, \"0\": 5, \"3\": 6}, \"15\": {\"15\": 649, \"8\": 208, \"5\": 174, \"1\": 115, \"6\": 6, \"0\": 22, \"13\": 8, \"9\": 3, \"7\": 6, \"3\": 8, \"10\": 1}, \"5\": {\"8\": 359, \"7\": 164, \"15\": 163, \"5\": 454, \"10\": 24, \"14\": 1, \"13\": 23, \"3\": 8, \"0\": 2, \"1\": 2}, \"14\": {\"12\": 93, \"14\": 769, \"2\": 260, \"13\": 3, \"7\": 14, \"4\": 5, \"11\": 22, \"10\": 8, \"8\": 13, \"5\": 13}, \"0\": {\"0\": 1026, \"3\": 128, \"8\": 2, \"7\": 12, \"9\": 9, \"13\": 1, \"10\": 20, \"5\": 1, \"15\": 1}, \"3\": {\"3\": 538, \"7\": 42, \"6\": 21, \"13\": 144, \"0\": 209, \"15\": 16, \"9\": 52, \"10\": 91, \"5\": 25, \"8\": 58, \"1\": 4}, \"1\": {\"1\": 1126, \"15\": 63, \"13\": 4, \"5\": 4, \"8\": 3}, \"11\": {\"11\": 1121, \"14\": 52, \"12\": 16, \"4\": 9, \"2\": 1, \"10\": 1}, \"7\": {\"10\": 303, \"7\": 634, \"5\": 140, \"13\": 19, \"3\": 7, \"8\": 89, \"15\": 7, \"0\": 1}, \"8\": {\"15\": 231, \"7\": 95, \"8\": 436, \"5\": 348, \"13\": 64, \"3\": 4, \"10\": 17, \"1\": 4, \"0\": 1}, \"4\": {\"4\": 1151, \"12\": 40, \"10\": 7, \"7\": 2}, \"10\": {\"10\": 716, \"7\": 360, \"8\": 34, \"3\": 38, \"0\": 7, \"13\": 17, \"5\": 24, \"15\": 2, \"4\": 2}, \"6\": {\"6\": 972, \"9\": 223, \"0\": 3, \"15\": 1, \"3\": 1}}, \"ORACLE.run2_26\": {\"10\": {\"14\": 197, \"0\": 229, \"1\": 70, \"6\": 97, \"10\": 405, \"8\": 88, \"4\": 75, \"9\": 11, \"2\": 10, \"7\": 11, \"15\": 3, \"3\": 2, \"5\": 1, \"12\": 1}, \"12\": {\"12\": 1199, \"11\": 1}, \"1\": {\"1\": 760, \"14\": 278, \"4\": 17, \"10\": 76, \"0\": 60, \"8\": 8, \"2\": 1}, \"0\": {\"0\": 457, \"1\": 74, \"4\": 126, \"8\": 86, \"10\": 184, \"14\": 237, \"7\": 10, \"2\": 14, \"15\": 8, \"3\": 2, \"6\": 1, \"9\": 1}, \"15\": {\"15\": 725, \"4\": 47, \"3\": 216, \"2\": 103, \"8\": 6, \"7\": 96, \"0\": 2, \"10\": 1, \"9\": 3, \"5\": 1}, \"13\": {\"5\": 205, \"13\": 883, \"9\": 90, \"8\": 1, \"6\": 18, \"7\": 2, \"2\": 1}, \"8\": {\"7\": 123, \"4\": 43, \"8\": 565, \"2\": 82, \"10\": 70, \"0\": 82, \"9\": 102, \"14\": 69, \"5\": 30, \"15\": 13, \"6\": 11, \"1\": 8, \"3\": 1, \"13\": 1}, \"3\": {\"4\": 65, \"15\": 180, \"3\": 759, \"2\": 112, \"7\": 80, \"5\": 1, \"8\": 2, \"0\": 1}, \"11\": {\"11\": 1198, \"12\": 2}, \"4\": {\"4\": 692, \"2\": 117, \"15\": 42, \"0\": 109, \"7\": 52, \"8\": 38, \"14\": 48, \"1\": 14, \"3\": 58, \"10\": 30}, \"6\": {\"6\": 935, \"9\": 148, \"10\": 47, \"13\": 29, \"5\": 21, \"8\": 18, \"14\": 2}, \"7\": {\"4\": 79, \"7\": 365, \"2\": 401, \"9\": 31, \"8\": 102, \"3\": 98, \"15\": 60, \"5\": 53, \"13\": 2, \"0\": 4, \"14\": 3, \"1\": 1, \"10\": 1}, \"14\": {\"14\": 408, \"0\": 218, \"10\": 175, \"8\": 75, \"1\": 260, \"4\": 50, \"7\": 8, \"2\": 4, \"6\": 2}, \"2\": {\"4\": 102, \"2\": 365, \"7\": 363, \"8\": 74, \"3\": 133, \"15\": 91, \"5\": 41, \"10\": 4, \"0\": 8, \"9\": 13, \"13\": 2, \"1\": 1, \"14\": 3}, \"5\": {\"7\": 117, \"5\": 467, \"10\": 12, \"13\": 266, \"6\": 116, \"8\": 59, \"2\": 60, \"9\": 83, \"15\": 3, \"3\": 11, \"14\": 4, \"1\": 2}, \"9\": {\"9\": 780, \"6\": 127, \"13\": 91, \"2\": 10, \"8\": 88, \"5\": 67, \"15\": 6, \"7\": 25, \"10\": 4, \"0\": 1, \"14\": 1}}, \"ORACLE.run2_20\": {\"5\": {\"5\": 449, \"3\": 157, \"15\": 76, \"2\": 149, \"12\": 104, \"4\": 48, \"0\": 79, \"9\": 63, \"1\": 23, \"7\": 39, \"13\": 5, \"8\": 8}, \"15\": {\"15\": 525, \"2\": 83, \"9\": 50, \"13\": 245, \"1\": 95, \"12\": 97, \"5\": 60, \"0\": 42, \"3\": 3}, \"9\": {\"4\": 6, \"2\": 301, \"3\": 131, \"9\": 506, \"15\": 55, \"12\": 116, \"1\": 32, \"5\": 45, \"13\": 6, \"7\": 2}, \"7\": {\"7\": 912, \"8\": 116, \"3\": 122, \"2\": 5, \"5\": 21, \"14\": 7, \"9\": 3, \"10\": 5, \"6\": 9}, \"3\": {\"7\": 156, \"3\": 522, \"2\": 182, \"9\": 146, \"5\": 107, \"4\": 19, \"12\": 30, \"15\": 7, \"0\": 1, \"13\": 1, \"10\": 11, \"8\": 16, \"1\": 2}, \"8\": {\"8\": 792, \"14\": 149, \"3\": 16, \"7\": 149, \"4\": 38, \"6\": 18, \"10\": 22, \"5\": 14, \"0\": 2}, \"4\": {\"5\": 36, \"4\": 1084, \"1\": 1, \"3\": 21, \"12\": 27, \"8\": 12, \"2\": 2, \"0\": 11, \"9\": 1, \"10\": 3, \"7\": 2}, \"6\": {\"6\": 1089, \"14\": 75, \"8\": 11, \"7\": 12, \"10\": 13}, \"2\": {\"13\": 21, \"2\": 405, \"3\": 163, \"9\": 275, \"12\": 57, \"15\": 112, \"4\": 3, \"5\": 149, \"7\": 8, \"1\": 6, \"0\": 1}, \"12\": {\"12\": 509, \"5\": 95, \"15\": 78, \"4\": 38, \"1\": 239, \"2\": 60, \"0\": 46, \"9\": 114, \"3\": 17, \"13\": 4}, \"0\": {\"0\": 902, \"1\": 67, \"15\": 56, \"5\": 76, \"12\": 67, \"2\": 4, \"13\": 9, \"4\": 18, \"9\": 1}, \"13\": {\"13\": 884, \"15\": 269, \"2\": 21, \"1\": 6, \"9\": 2, \"5\": 10, \"0\": 2, \"12\": 6}, \"10\": {\"10\": 1042, \"14\": 88, \"8\": 32, \"6\": 14, \"4\": 10, \"7\": 9, \"3\": 5}, \"11\": {\"11\": 1200}, \"14\": {\"6\": 111, \"14\": 828, \"8\": 159, \"10\": 95, \"4\": 3, \"7\": 4}, \"1\": {\"12\": 262, \"1\": 668, \"15\": 115, \"0\": 67, \"13\": 13, \"9\": 45, \"5\": 12, \"2\": 12, \"4\": 5, \"3\": 1}}, \"ORACLE.run2_50\": {\"1\": {\"1\": 972, \"6\": 138, \"15\": 43, \"4\": 39, \"5\": 6, \"0\": 1, \"2\": 1}, \"2\": {\"2\": 1138, \"0\": 62}, \"8\": {\"8\": 1173, \"3\": 26, \"10\": 1}, \"7\": {\"7\": 611, \"13\": 373, \"5\": 118, \"10\": 77, \"4\": 18, \"6\": 3}, \"14\": {\"14\": 1185, \"15\": 1, \"12\": 7, \"11\": 7}, \"6\": {\"6\": 800, \"1\": 181, \"4\": 148, \"5\": 61, \"15\": 10}, \"3\": {\"3\": 1149, \"8\": 51}, \"4\": {\"4\": 700, \"5\": 290, \"6\": 136, \"1\": 64, \"0\": 2, \"7\": 6, \"10\": 1, \"15\": 1}, \"12\": {\"12\": 1102, \"11\": 10, \"9\": 64, \"14\": 24}, \"15\": {\"15\": 1105, \"11\": 32, \"1\": 54, \"6\": 9}, \"11\": {\"11\": 1124, \"15\": 41, \"14\": 11, \"9\": 18, \"12\": 6}, \"0\": {\"0\": 1097, \"10\": 30, \"2\": 71, \"5\": 1, \"1\": 1}, \"9\": {\"11\": 14, \"9\": 1148, \"12\": 38}, \"10\": {\"10\": 898, \"13\": 201, \"7\": 51, \"5\": 37, \"0\": 12, \"4\": 1}, \"5\": {\"5\": 633, \"6\": 59, \"7\": 76, \"4\": 315, \"13\": 52, \"10\": 51, \"0\": 6, \"1\": 8}, \"13\": {\"13\": 683, \"7\": 256, \"10\": 206, \"5\": 49, \"4\": 6}}, \"ORACLE.run2_32\": {\"2\": {\"4\": 28, \"2\": 984, \"14\": 82, \"11\": 16, \"7\": 10, \"5\": 68, \"0\": 12}, \"6\": {\"6\": 1200}, \"5\": {\"2\": 134, \"5\": 515, \"14\": 84, \"4\": 153, \"0\": 126, \"8\": 118, \"13\": 44, \"3\": 4, \"7\": 15, \"11\": 6, \"15\": 1}, \"12\": {\"12\": 1200}, \"13\": {\"4\": 198, \"13\": 756, \"0\": 29, \"11\": 47, \"3\": 15, \"7\": 121, \"8\": 29, \"5\": 5}, \"9\": {\"9\": 1172, \"14\": 28}, \"11\": {\"7\": 207, \"11\": 675, \"0\": 156, \"14\": 2, \"13\": 80, \"4\": 56, \"5\": 11, \"2\": 8, \"8\": 5}, \"1\": {\"1\": 1194, \"10\": 6}, \"3\": {\"13\": 38, \"3\": 1142, \"11\": 3, \"8\": 14, \"7\": 3}, \"7\": {\"7\": 723, \"11\": 222, \"13\": 122, \"0\": 26, \"4\": 88, \"2\": 11, \"5\": 7, \"3\": 1}, \"14\": {\"14\": 981, \"2\": 109, \"7\": 2, \"0\": 47, \"4\": 7, \"5\": 40, \"11\": 14}, \"8\": {\"8\": 936, \"5\": 77, \"0\": 81, \"3\": 18, \"4\": 37, \"13\": 46, \"11\": 3, \"7\": 1, \"15\": 1}, \"4\": {\"5\": 118, \"4\": 613, \"11\": 42, \"13\": 225, \"8\": 25, \"0\": 94, \"2\": 22, \"7\": 61}, \"0\": {\"0\": 649, \"11\": 150, \"13\": 33, \"4\": 115, \"8\": 80, \"5\": 133, \"7\": 12, \"2\": 19, \"14\": 8, \"3\": 1}, \"10\": {\"10\": 1192, \"1\": 8}, \"15\": {\"15\": 1197, \"8\": 3}}, \"ORACLE.run2_44\": {\"13\": {\"13\": 1151, \"6\": 26, \"4\": 22, \"15\": 1}, \"4\": {\"4\": 1106, \"13\": 19, \"14\": 50, \"15\": 25}, \"6\": {\"6\": 1104, \"9\": 46, \"13\": 27, \"7\": 19, \"11\": 3, \"2\": 1}, \"0\": {\"0\": 667, \"8\": 525, \"5\": 4, \"15\": 4}, \"10\": {\"10\": 1156, \"12\": 24, \"1\": 19, \"7\": 1}, \"7\": {\"7\": 581, \"2\": 295, \"9\": 299, \"6\": 18, \"1\": 7}, \"14\": {\"14\": 925, \"5\": 72, \"4\": 71, \"15\": 130, \"13\": 2}, \"15\": {\"14\": 150, \"15\": 987, \"4\": 45, \"8\": 13, \"5\": 5}, \"5\": {\"5\": 1120, \"14\": 71, \"8\": 6, \"15\": 3}, \"2\": {\"7\": 243, \"2\": 670, \"9\": 282, \"3\": 3, \"6\": 1, \"1\": 1}, \"9\": {\"2\": 294, \"9\": 572, \"7\": 297, \"6\": 35, \"1\": 1, \"3\": 1}, \"12\": {\"12\": 837, \"1\": 281, \"3\": 75, \"10\": 7}, \"8\": {\"0\": 454, \"8\": 728, \"5\": 14, \"15\": 4}, \"3\": {\"3\": 1004, \"1\": 130, \"12\": 64, \"2\": 2}, \"1\": {\"1\": 759, \"12\": 294, \"3\": 135, \"2\": 3, \"9\": 2, \"10\": 3, \"7\": 4}, \"11\": {\"11\": 1179, \"6\": 21}}, \"ORACLE.run2_14\": {\"1\": {\"1\": 1104, \"4\": 20, \"5\": 76}, \"15\": {\"15\": 1192, \"7\": 6, \"2\": 1, \"13\": 1}, \"10\": {\"10\": 1137, \"0\": 60, \"11\": 1, \"14\": 2}, \"2\": {\"6\": 35, \"3\": 87, \"5\": 144, \"14\": 203, \"2\": 564, \"4\": 82, \"13\": 78, \"1\": 2, \"15\": 5}, \"9\": {\"9\": 1198, \"12\": 2}, \"5\": {\"5\": 603, \"1\": 84, \"4\": 308, \"3\": 106, \"2\": 96, \"14\": 3}, \"7\": {\"7\": 1192, \"15\": 8}, \"13\": {\"13\": 865, \"6\": 298, \"2\": 28, \"14\": 7, \"5\": 1, \"4\": 1}, \"8\": {\"8\": 1200}, \"6\": {\"13\": 273, \"6\": 830, \"2\": 26, \"14\": 70, \"4\": 1}, \"3\": {\"2\": 35, \"3\": 987, \"4\": 80, \"5\": 63, \"14\": 29, \"1\": 5, \"0\": 1}, \"12\": {\"12\": 627, \"11\": 325, \"0\": 75, \"9\": 118, \"8\": 40, \"10\": 15}, \"0\": {\"0\": 1189, \"10\": 6, \"12\": 3, \"2\": 1, \"3\": 1}, \"4\": {\"4\": 725, \"5\": 337, \"3\": 49, \"1\": 20, \"2\": 65, \"14\": 4}, \"14\": {\"2\": 170, \"14\": 895, \"13\": 12, \"6\": 92, \"3\": 23, \"4\": 5, \"0\": 3}, \"11\": {\"11\": 1175, \"12\": 22, \"0\": 1, \"9\": 2}}}, \"per_domain_accuracy\": {\"ORACLE.run1_8\": {\"accuracy\": 0.7108333333333333, \"source?\": true}, \"ORACLE.run1_38\": {\"accuracy\": 0.8044791666666666, \"source?\": true}, \"ORACLE.run1_26\": {\"accuracy\": 0.565, \"source?\": true}, \"ORACLE.run1_20\": {\"accuracy\": 0.6861458333333333, \"source?\": true}, \"ORACLE.run1_50\": {\"accuracy\": 0.7920833333333334, \"source?\": true}, \"ORACLE.run1_32\": {\"accuracy\": 0.7890625, \"source?\": true}, \"ORACLE.run1_44\": {\"accuracy\": 0.7388020833333333, \"source?\": true}, \"ORACLE.run1_14\": {\"accuracy\": 0.82828125, \"source?\": true}, \"ORACLE.run2_8\": {\"accuracy\": 0.69953125, \"source?\": false}, \"ORACLE.run2_38\": {\"accuracy\": 0.6980208333333333, \"source?\": false}, \"ORACLE.run2_26\": {\"accuracy\": 0.5709895833333334, \"source?\": false}, \"ORACLE.run2_20\": {\"accuracy\": 0.6415104166666666, \"source?\": false}, \"ORACLE.run2_50\": {\"accuracy\": 0.8082291666666667, \"source?\": false}, \"ORACLE.run2_32\": {\"accuracy\": 0.78796875, \"source?\": false}, \"ORACLE.run2_44\": {\"accuracy\": 0.7576041666666666, \"source?\": false}, \"ORACLE.run2_14\": {\"accuracy\": 0.80640625, \"source?\": false}}}, \"history\": {\"epoch_indices\": [1, 2, 3, 4, 5, 6, 7, 8, 9, 10, 11], \"train_label_loss\": [1.077132637969085, 0.8382191539382828, 0.7409281748001064, 0.6396426734408097, 0.5635656963683487, 0.5116471750454401, 0.46931161619833717, 0.4300057355209165, 0.3971730284170536, 0.3661595447053523, 0.3382986753007364], \"source_val_label_loss\": [0.9966750144958496, 0.8580011129379272, 0.8051701784133911, 0.7349890470504761, 0.7238311767578125, 0.7282108664512634, 0.7420433759689331, 0.7596469521522522, 0.7601121664047241, 0.7933840155601501, 0.8164243102073669], \"target_val_label_loss\": [1.0503559112548828, 0.9286867380142212, 0.8844398260116577, 0.8134838342666626, 0.8024020791053772, 0.809637188911438, 0.8305795192718506, 0.8488181233406067, 0.8504594564437866, 0.8881560564041138, 0.9166862964630127], \"source_val_acc_label\": [0.65791015625, 0.67427734375, 0.7046875, 0.7317708333333334, 0.7379166666666667, 0.7295442708333333, 0.7393359375, 0.7305794270833333, 0.7348893229166666, 0.7307486979166666, 0.7332356770833334], \"target_val_acc_label\": [0.6413346354166667, 0.6537434895833333, 0.6862434895833334, 0.7127669270833333, 0.7205859375, 0.7137044270833334, 0.7212825520833334, 0.7112890625, 0.71802734375, 0.71037109375, 0.7133528645833334]}, \"dataset_metrics\": {\"source\": {\"train\": {\"n_unique_x\": 896000, \"n_unique_y\": 16, \"n_batch/episode\": 33600}, \"val\": {\"n_unique_x\": 192000, \"n_unique_y\": 16, \"n_batch/episode\": 4800}, \"test\": {\"n_unique_x\": 192000, \"n_unique_y\": 16, \"n_batch/episode\": 4800}}, \"target\": {\"train\": {\"n_unique_x\": 896000, \"n_unique_y\": 16, \"n_batch/episode\": 33600}, \"val\": {\"n_unique_x\": 192000, \"n_unique_y\": 16, \"n_batch/episode\": 4800}, \"test\": {\"n_unique_x\": 192000, \"n_unique_y\": 16, \"n_batch/episode\": 4800}}}}'"
      ]
     },
     "execution_count": 29,
     "metadata": {},
     "output_type": "execute_result"
    }
   ],
   "source": [
    "json.dumps(experiment)"
   ]
  }
 ],
 "metadata": {
  "celltoolbar": "Tags",
  "kernelspec": {
   "display_name": "Python 3 (ipykernel)",
   "language": "python",
   "name": "python3"
  },
  "language_info": {
   "codemirror_mode": {
    "name": "ipython",
    "version": 3
   },
   "file_extension": ".py",
   "mimetype": "text/x-python",
   "name": "python",
   "nbconvert_exporter": "python",
   "pygments_lexer": "ipython3",
   "version": "3.8.10"
  },
  "papermill": {
   "default_parameters": {},
   "duration": 10759.373699,
   "end_time": "2022-03-24T21:06:47.563288",
   "environment_variables": {},
   "exception": null,
   "input_path": "/mnt/wd500GB/CSC500/csc500-main/csc500-notebooks/templates/tl_ptn_template.ipynb",
   "output_path": "trial.ipynb",
   "parameters": {
    "parameters": {
     "BEST_MODEL_PATH": "./best_model.pth",
     "NUM_LOGS_PER_EPOCH": 10,
     "criteria_for_best": "target_accuracy",
     "dataset_seed": 154325,
     "datasets": [
      {
       "domain_prefix": "ORACLE.run1_",
       "domains": [
        32,
        38,
        8,
        44,
        14,
        50,
        20,
        26
       ],
       "episode_transforms": [],
       "labels": [
        "3123D52",
        "3123D65",
        "3123D79",
        "3123D80",
        "3123D54",
        "3123D70",
        "3123D7B",
        "3123D89",
        "3123D58",
        "3123D76",
        "3123D7D",
        "3123EFE",
        "3123D64",
        "3123D78",
        "3123D7E",
        "3124E4A"
       ],
       "num_examples_per_domain_per_label": 10000,
       "pickle_path": "/mnt/wd500GB/CSC500/csc500-main/datasets/oracle.Run1_10kExamples_stratified_ds.2022A.pkl",
       "source_or_target_dataset": "source",
       "x_transforms": [
        "unit_mag"
       ]
      },
      {
       "domain_prefix": "ORACLE.run2_",
       "domains": [
        32,
        38,
        8,
        44,
        14,
        50,
        20,
        26
       ],
       "episode_transforms": [],
       "labels": [
        "3123D52",
        "3123D65",
        "3123D79",
        "3123D80",
        "3123D54",
        "3123D70",
        "3123D7B",
        "3123D89",
        "3123D58",
        "3123D76",
        "3123D7D",
        "3123EFE",
        "3123D64",
        "3123D78",
        "3123D7E",
        "3124E4A"
       ],
       "num_examples_per_domain_per_label": 10000,
       "pickle_path": "/mnt/wd500GB/CSC500/csc500-main/datasets/oracle.Run2_10kExamples_stratified_ds.2022A.pkl",
       "source_or_target_dataset": "target",
       "x_transforms": [
        "unit_mag"
       ]
      }
     ],
     "device": "cuda",
     "experiment_name": "tl_1v2:oracle.run1-oracle.run2",
     "lr": 0.0001,
     "n_epoch": 50,
     "n_query": 2,
     "n_shot": 3,
     "n_way": 16,
     "patience": 3,
     "seed": 154325,
     "test_k_factor": 2,
     "torch_default_dtype": "torch.float32",
     "train_k_factor": 3,
     "val_k_factor": 2,
     "x_net": [
      {
       "class": "nnReshape",
       "kargs": {
        "shape": [
         -1,
         1,
         2,
         256
        ]
       }
      },
      {
       "class": "Conv2d",
       "kargs": {
        "bias": false,
        "in_channels": 1,
        "kernel_size": [
         1,
         7
        ],
        "out_channels": 256,
        "padding": [
         0,
         3
        ]
       }
      },
      {
       "class": "ReLU",
       "kargs": {
        "inplace": true
       }
      },
      {
       "class": "BatchNorm2d",
       "kargs": {
        "num_features": 256
       }
      },
      {
       "class": "Conv2d",
       "kargs": {
        "bias": true,
        "in_channels": 256,
        "kernel_size": [
         2,
         7
        ],
        "out_channels": 80,
        "padding": [
         0,
         3
        ]
       }
      },
      {
       "class": "ReLU",
       "kargs": {
        "inplace": true
       }
      },
      {
       "class": "BatchNorm2d",
       "kargs": {
        "num_features": 80
       }
      },
      {
       "class": "Flatten",
       "kargs": {}
      },
      {
       "class": "Linear",
       "kargs": {
        "in_features": 20480,
        "out_features": 256
       }
      },
      {
       "class": "ReLU",
       "kargs": {
        "inplace": true
       }
      },
      {
       "class": "BatchNorm1d",
       "kargs": {
        "num_features": 256
       }
      },
      {
       "class": "Linear",
       "kargs": {
        "in_features": 256,
        "out_features": 256
       }
      }
     ]
    }
   },
   "start_time": "2022-03-24T18:07:28.189589",
   "version": "2.3.4"
  }
 },
 "nbformat": 4,
 "nbformat_minor": 5
}