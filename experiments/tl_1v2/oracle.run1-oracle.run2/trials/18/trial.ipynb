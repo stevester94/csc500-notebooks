{
 "cells": [
  {
   "cell_type": "markdown",
   "id": "9fea5f46",
   "metadata": {
    "papermill": {
     "duration": 0.018071,
     "end_time": "2022-03-27T12:37:35.677304",
     "exception": false,
     "start_time": "2022-03-27T12:37:35.659233",
     "status": "completed"
    },
    "tags": []
   },
   "source": [
    "# Transfer Learning Template"
   ]
  },
  {
   "cell_type": "code",
   "execution_count": 1,
   "id": "0902182a",
   "metadata": {
    "execution": {
     "iopub.execute_input": "2022-03-27T12:37:35.716574Z",
     "iopub.status.busy": "2022-03-27T12:37:35.714138Z",
     "iopub.status.idle": "2022-03-27T12:37:36.963243Z",
     "shell.execute_reply": "2022-03-27T12:37:36.962956Z"
    },
    "papermill": {
     "duration": 1.273631,
     "end_time": "2022-03-27T12:37:36.963309",
     "exception": false,
     "start_time": "2022-03-27T12:37:35.689678",
     "status": "completed"
    },
    "tags": []
   },
   "outputs": [],
   "source": [
    "%load_ext autoreload\n",
    "%autoreload 2\n",
    "%matplotlib inline\n",
    "\n",
    "    \n",
    "import os, json, sys, time, random\n",
    "import numpy as np\n",
    "import torch\n",
    "from torch.optim import Adam\n",
    "from  easydict import EasyDict\n",
    "import matplotlib.pyplot as plt\n",
    "\n",
    "from steves_models.steves_ptn import Steves_Prototypical_Network\n",
    "\n",
    "from steves_utils.lazy_iterable_wrapper import Lazy_Iterable_Wrapper\n",
    "from steves_utils.iterable_aggregator import Iterable_Aggregator\n",
    "from steves_utils.ptn_train_eval_test_jig import  PTN_Train_Eval_Test_Jig\n",
    "from steves_utils.torch_sequential_builder import build_sequential\n",
    "from steves_utils.torch_utils import get_dataset_metrics, ptn_confusion_by_domain_over_dataloader\n",
    "from steves_utils.utils_v2 import (per_domain_accuracy_from_confusion, get_datasets_base_path)\n",
    "from steves_utils.PTN.utils import independent_accuracy_assesment\n",
    "\n",
    "from torch.utils.data import DataLoader\n",
    "\n",
    "from steves_utils.stratified_dataset.episodic_accessor import Episodic_Accessor_Factory\n",
    "\n",
    "from steves_utils.ptn_do_report import (\n",
    "    get_loss_curve,\n",
    "    get_results_table,\n",
    "    get_parameters_table,\n",
    "    get_domain_accuracies,\n",
    ")\n",
    "\n",
    "from steves_utils.transforms import get_chained_transform"
   ]
  },
  {
   "cell_type": "markdown",
   "id": "41c840b4",
   "metadata": {
    "papermill": {
     "duration": 0.016858,
     "end_time": "2022-03-27T12:37:36.993921",
     "exception": false,
     "start_time": "2022-03-27T12:37:36.977063",
     "status": "completed"
    },
    "tags": []
   },
   "source": [
    "# Allowed Parameters\n",
    "These are allowed parameters, not defaults\n",
    "Each of these values need to be present in the injected parameters (the notebook will raise an exception if they are not present)\n",
    "\n",
    "Papermill uses the cell tag \"parameters\" to inject the real parameters below this cell.\n",
    "Enable tags to see what I mean"
   ]
  },
  {
   "cell_type": "code",
   "execution_count": 2,
   "id": "fd44eb83",
   "metadata": {
    "execution": {
     "iopub.execute_input": "2022-03-27T12:37:37.021400Z",
     "iopub.status.busy": "2022-03-27T12:37:37.021142Z",
     "iopub.status.idle": "2022-03-27T12:37:37.036902Z",
     "shell.execute_reply": "2022-03-27T12:37:37.036421Z"
    },
    "papermill": {
     "duration": 0.030831,
     "end_time": "2022-03-27T12:37:37.037002",
     "exception": false,
     "start_time": "2022-03-27T12:37:37.006171",
     "status": "completed"
    },
    "tags": []
   },
   "outputs": [],
   "source": [
    "required_parameters = {\n",
    "    \"experiment_name\",\n",
    "    \"lr\",\n",
    "    \"device\",\n",
    "    \"seed\",\n",
    "    \"dataset_seed\",\n",
    "    \"n_shot\",\n",
    "    \"n_query\",\n",
    "    \"n_way\",\n",
    "    \"train_k_factor\",\n",
    "    \"val_k_factor\",\n",
    "    \"test_k_factor\",\n",
    "    \"n_epoch\",\n",
    "    \"patience\",\n",
    "    \"criteria_for_best\",\n",
    "    \"x_net\",\n",
    "    \"datasets\",\n",
    "    \"torch_default_dtype\",\n",
    "    \"NUM_LOGS_PER_EPOCH\",\n",
    "    \"BEST_MODEL_PATH\",\n",
    "    \"x_shape\",\n",
    "}"
   ]
  },
  {
   "cell_type": "code",
   "execution_count": 3,
   "id": "fa3f0049",
   "metadata": {
    "execution": {
     "iopub.execute_input": "2022-03-27T12:37:37.072648Z",
     "iopub.status.busy": "2022-03-27T12:37:37.072302Z",
     "iopub.status.idle": "2022-03-27T12:37:37.085443Z",
     "shell.execute_reply": "2022-03-27T12:37:37.085015Z"
    },
    "papermill": {
     "duration": 0.031292,
     "end_time": "2022-03-27T12:37:37.085545",
     "exception": false,
     "start_time": "2022-03-27T12:37:37.054253",
     "status": "completed"
    },
    "tags": [
     "parameters"
    ]
   },
   "outputs": [],
   "source": [
    "from steves_utils.CORES.utils import (\n",
    "    ALL_NODES,\n",
    "    ALL_NODES_MINIMUM_1000_EXAMPLES,\n",
    "    ALL_DAYS\n",
    ")\n",
    "\n",
    "from steves_utils.ORACLE.utils_v2 import (\n",
    "    ALL_DISTANCES_FEET_NARROWED,\n",
    "    ALL_RUNS,\n",
    "    ALL_SERIAL_NUMBERS,\n",
    ")\n",
    "\n",
    "standalone_parameters = {}\n",
    "standalone_parameters[\"experiment_name\"] = \"STANDALONE PTN\"\n",
    "standalone_parameters[\"lr\"] = 0.001\n",
    "standalone_parameters[\"device\"] = \"cuda\"\n",
    "\n",
    "standalone_parameters[\"seed\"] = 1337\n",
    "standalone_parameters[\"dataset_seed\"] = 1337\n",
    "\n",
    "standalone_parameters[\"n_way\"] = 8\n",
    "standalone_parameters[\"n_shot\"] = 3\n",
    "standalone_parameters[\"n_query\"]  = 2\n",
    "standalone_parameters[\"train_k_factor\"] = 1\n",
    "standalone_parameters[\"val_k_factor\"] = 2\n",
    "standalone_parameters[\"test_k_factor\"] = 2\n",
    "\n",
    "\n",
    "standalone_parameters[\"n_epoch\"] = 50\n",
    "\n",
    "standalone_parameters[\"patience\"] = 10\n",
    "standalone_parameters[\"criteria_for_best\"] = \"source_loss\"\n",
    "\n",
    "standalone_parameters[\"datasets\"] = [\n",
    "    {\n",
    "        \"labels\": ALL_SERIAL_NUMBERS,\n",
    "        \"domains\": ALL_DISTANCES_FEET_NARROWED,\n",
    "        \"num_examples_per_domain_per_label\": 100,\n",
    "        \"pickle_path\": os.path.join(get_datasets_base_path(), \"oracle.Run1_framed_2000Examples_stratified_ds.2022A.pkl\"),\n",
    "        \"source_or_target_dataset\": \"source\",\n",
    "        \"x_transforms\": [\"unit_mag\", \"minus_two\"],\n",
    "        \"episode_transforms\": [],\n",
    "        \"domain_prefix\": \"ORACLE_\"\n",
    "    },\n",
    "    {\n",
    "        \"labels\": ALL_NODES,\n",
    "        \"domains\": ALL_DAYS,\n",
    "        \"num_examples_per_domain_per_label\": 100,\n",
    "        \"pickle_path\": os.path.join(get_datasets_base_path(), \"cores.stratified_ds.2022A.pkl\"),\n",
    "        \"source_or_target_dataset\": \"target\",\n",
    "        \"x_transforms\": [\"unit_power\", \"times_zero\"],\n",
    "        \"episode_transforms\": [],\n",
    "        \"domain_prefix\": \"CORES_\"\n",
    "    }   \n",
    "]\n",
    "\n",
    "standalone_parameters[\"torch_default_dtype\"] = \"torch.float32\" \n",
    "\n",
    "\n",
    "\n",
    "standalone_parameters[\"x_net\"] =     [\n",
    "    {\"class\": \"nnReshape\", \"kargs\": {\"shape\":[-1, 1, 2, 256]}},\n",
    "    {\"class\": \"Conv2d\", \"kargs\": { \"in_channels\":1, \"out_channels\":256, \"kernel_size\":(1,7), \"bias\":False, \"padding\":(0,3), },},\n",
    "    {\"class\": \"ReLU\", \"kargs\": {\"inplace\": True}},\n",
    "    {\"class\": \"BatchNorm2d\", \"kargs\": {\"num_features\":256}},\n",
    "\n",
    "    {\"class\": \"Conv2d\", \"kargs\": { \"in_channels\":256, \"out_channels\":80, \"kernel_size\":(2,7), \"bias\":True, \"padding\":(0,3), },},\n",
    "    {\"class\": \"ReLU\", \"kargs\": {\"inplace\": True}},\n",
    "    {\"class\": \"BatchNorm2d\", \"kargs\": {\"num_features\":80}},\n",
    "    {\"class\": \"Flatten\", \"kargs\": {}},\n",
    "\n",
    "    {\"class\": \"Linear\", \"kargs\": {\"in_features\": 80*256, \"out_features\": 256}}, # 80 units per IQ pair\n",
    "    {\"class\": \"ReLU\", \"kargs\": {\"inplace\": True}},\n",
    "    {\"class\": \"BatchNorm1d\", \"kargs\": {\"num_features\":256}},\n",
    "\n",
    "    {\"class\": \"Linear\", \"kargs\": {\"in_features\": 256, \"out_features\": 256}},\n",
    "]\n",
    "\n",
    "# Parameters relevant to results\n",
    "# These parameters will basically never need to change\n",
    "standalone_parameters[\"NUM_LOGS_PER_EPOCH\"] = 10\n",
    "standalone_parameters[\"BEST_MODEL_PATH\"] = \"./best_model.pth\"\n",
    "\n",
    "\n",
    "\n",
    "\n"
   ]
  },
  {
   "cell_type": "code",
   "execution_count": 4,
   "id": "004d0b62",
   "metadata": {
    "execution": {
     "iopub.execute_input": "2022-03-27T12:37:37.124013Z",
     "iopub.status.busy": "2022-03-27T12:37:37.123423Z",
     "iopub.status.idle": "2022-03-27T12:37:37.137181Z",
     "shell.execute_reply": "2022-03-27T12:37:37.136699Z"
    },
    "papermill": {
     "duration": 0.033937,
     "end_time": "2022-03-27T12:37:37.137282",
     "exception": false,
     "start_time": "2022-03-27T12:37:37.103345",
     "status": "completed"
    },
    "tags": [
     "injected-parameters"
    ]
   },
   "outputs": [],
   "source": [
    "# Parameters\n",
    "parameters = {\n",
    "    \"experiment_name\": \"tl_1v2:oracle.run1-oracle.run2\",\n",
    "    \"device\": \"cuda\",\n",
    "    \"lr\": 0.0001,\n",
    "    \"n_shot\": 3,\n",
    "    \"n_query\": 2,\n",
    "    \"train_k_factor\": 3,\n",
    "    \"val_k_factor\": 2,\n",
    "    \"test_k_factor\": 2,\n",
    "    \"torch_default_dtype\": \"torch.float32\",\n",
    "    \"n_epoch\": 50,\n",
    "    \"patience\": 3,\n",
    "    \"criteria_for_best\": \"target_accuracy\",\n",
    "    \"x_net\": [\n",
    "        {\"class\": \"nnReshape\", \"kargs\": {\"shape\": [-1, 1, 2, 256]}},\n",
    "        {\n",
    "            \"class\": \"Conv2d\",\n",
    "            \"kargs\": {\n",
    "                \"in_channels\": 1,\n",
    "                \"out_channels\": 256,\n",
    "                \"kernel_size\": [1, 7],\n",
    "                \"bias\": False,\n",
    "                \"padding\": [0, 3],\n",
    "            },\n",
    "        },\n",
    "        {\"class\": \"ReLU\", \"kargs\": {\"inplace\": True}},\n",
    "        {\"class\": \"BatchNorm2d\", \"kargs\": {\"num_features\": 256}},\n",
    "        {\n",
    "            \"class\": \"Conv2d\",\n",
    "            \"kargs\": {\n",
    "                \"in_channels\": 256,\n",
    "                \"out_channels\": 80,\n",
    "                \"kernel_size\": [2, 7],\n",
    "                \"bias\": True,\n",
    "                \"padding\": [0, 3],\n",
    "            },\n",
    "        },\n",
    "        {\"class\": \"ReLU\", \"kargs\": {\"inplace\": True}},\n",
    "        {\"class\": \"BatchNorm2d\", \"kargs\": {\"num_features\": 80}},\n",
    "        {\"class\": \"Flatten\", \"kargs\": {}},\n",
    "        {\"class\": \"Linear\", \"kargs\": {\"in_features\": 20480, \"out_features\": 256}},\n",
    "        {\"class\": \"ReLU\", \"kargs\": {\"inplace\": True}},\n",
    "        {\"class\": \"BatchNorm1d\", \"kargs\": {\"num_features\": 256}},\n",
    "        {\"class\": \"Linear\", \"kargs\": {\"in_features\": 256, \"out_features\": 256}},\n",
    "    ],\n",
    "    \"NUM_LOGS_PER_EPOCH\": 10,\n",
    "    \"BEST_MODEL_PATH\": \"./best_model.pth\",\n",
    "    \"n_way\": 16,\n",
    "    \"datasets\": [\n",
    "        {\n",
    "            \"labels\": [\n",
    "                \"3123D52\",\n",
    "                \"3123D65\",\n",
    "                \"3123D79\",\n",
    "                \"3123D80\",\n",
    "                \"3123D54\",\n",
    "                \"3123D70\",\n",
    "                \"3123D7B\",\n",
    "                \"3123D89\",\n",
    "                \"3123D58\",\n",
    "                \"3123D76\",\n",
    "                \"3123D7D\",\n",
    "                \"3123EFE\",\n",
    "                \"3123D64\",\n",
    "                \"3123D78\",\n",
    "                \"3123D7E\",\n",
    "                \"3124E4A\",\n",
    "            ],\n",
    "            \"domains\": [32, 38, 8, 44, 14, 50, 20, 26],\n",
    "            \"num_examples_per_domain_per_label\": 10000,\n",
    "            \"pickle_path\": \"/mnt/wd500GB/CSC500/csc500-main/datasets/oracle.Run1_10kExamples_stratified_ds.2022A.pkl\",\n",
    "            \"source_or_target_dataset\": \"source\",\n",
    "            \"x_transforms\": [\"unit_power\"],\n",
    "            \"episode_transforms\": [],\n",
    "            \"domain_prefix\": \"ORACLE.run1_\",\n",
    "        },\n",
    "        {\n",
    "            \"labels\": [\n",
    "                \"3123D52\",\n",
    "                \"3123D65\",\n",
    "                \"3123D79\",\n",
    "                \"3123D80\",\n",
    "                \"3123D54\",\n",
    "                \"3123D70\",\n",
    "                \"3123D7B\",\n",
    "                \"3123D89\",\n",
    "                \"3123D58\",\n",
    "                \"3123D76\",\n",
    "                \"3123D7D\",\n",
    "                \"3123EFE\",\n",
    "                \"3123D64\",\n",
    "                \"3123D78\",\n",
    "                \"3123D7E\",\n",
    "                \"3124E4A\",\n",
    "            ],\n",
    "            \"domains\": [32, 38, 8, 44, 14, 50, 20, 26],\n",
    "            \"num_examples_per_domain_per_label\": 10000,\n",
    "            \"pickle_path\": \"/mnt/wd500GB/CSC500/csc500-main/datasets/oracle.Run2_10kExamples_stratified_ds.2022A.pkl\",\n",
    "            \"source_or_target_dataset\": \"target\",\n",
    "            \"x_transforms\": [\"unit_power\"],\n",
    "            \"episode_transforms\": [],\n",
    "            \"domain_prefix\": \"ORACLE.run2_\",\n",
    "        },\n",
    "    ],\n",
    "    \"dataset_seed\": 7,\n",
    "    \"seed\": 7,\n",
    "}\n"
   ]
  },
  {
   "cell_type": "code",
   "execution_count": 5,
   "id": "8fa1cc33",
   "metadata": {
    "execution": {
     "iopub.execute_input": "2022-03-27T12:37:37.172250Z",
     "iopub.status.busy": "2022-03-27T12:37:37.171196Z",
     "iopub.status.idle": "2022-03-27T12:37:37.186663Z",
     "shell.execute_reply": "2022-03-27T12:37:37.186196Z"
    },
    "papermill": {
     "duration": 0.031869,
     "end_time": "2022-03-27T12:37:37.186761",
     "exception": false,
     "start_time": "2022-03-27T12:37:37.154892",
     "status": "completed"
    },
    "tags": []
   },
   "outputs": [],
   "source": [
    "# Set this to True if you want to run this template directly\n",
    "STANDALONE = False\n",
    "if STANDALONE:\n",
    "    print(\"parameters not injected, running with standalone_parameters\")\n",
    "    parameters = standalone_parameters\n",
    "\n",
    "if not 'parameters' in locals() and not 'parameters' in globals():\n",
    "    raise Exception(\"Parameter injection failed\")\n",
    "\n",
    "#Use an easy dict for all the parameters\n",
    "p = EasyDict(parameters)\n",
    "\n",
    "if \"x_shape\" not in p:\n",
    "    p.x_shape = [2,256] # Default to this if we dont supply x_shape\n",
    "\n",
    "\n",
    "supplied_keys = set(p.keys())\n",
    "\n",
    "if  supplied_keys != required_parameters:\n",
    "    print(\"Parameters are incorrect\")\n",
    "    if len(supplied_keys - required_parameters)>0: print(\"Shouldn't have:\", str(supplied_keys - required_parameters))\n",
    "    if len(required_parameters - supplied_keys)>0: print(\"Need to have:\", str(required_parameters - supplied_keys))\n",
    "    raise RuntimeError(\"Parameters are incorrect\")"
   ]
  },
  {
   "cell_type": "code",
   "execution_count": 6,
   "id": "3a028d58",
   "metadata": {
    "execution": {
     "iopub.execute_input": "2022-03-27T12:37:37.220888Z",
     "iopub.status.busy": "2022-03-27T12:37:37.220644Z",
     "iopub.status.idle": "2022-03-27T12:37:37.237155Z",
     "shell.execute_reply": "2022-03-27T12:37:37.236678Z"
    },
    "papermill": {
     "duration": 0.031587,
     "end_time": "2022-03-27T12:37:37.237256",
     "exception": false,
     "start_time": "2022-03-27T12:37:37.205669",
     "status": "completed"
    },
    "tags": []
   },
   "outputs": [],
   "source": [
    "###################################\n",
    "# Set the RNGs and make it all deterministic\n",
    "###################################\n",
    "np.random.seed(p.seed)\n",
    "random.seed(p.seed)\n",
    "torch.manual_seed(p.seed)\n",
    "\n",
    "torch.use_deterministic_algorithms(True) "
   ]
  },
  {
   "cell_type": "code",
   "execution_count": 7,
   "id": "b691acf6",
   "metadata": {
    "execution": {
     "iopub.execute_input": "2022-03-27T12:37:37.273240Z",
     "iopub.status.busy": "2022-03-27T12:37:37.269195Z",
     "iopub.status.idle": "2022-03-27T12:37:37.285156Z",
     "shell.execute_reply": "2022-03-27T12:37:37.284687Z"
    },
    "papermill": {
     "duration": 0.030508,
     "end_time": "2022-03-27T12:37:37.285255",
     "exception": false,
     "start_time": "2022-03-27T12:37:37.254747",
     "status": "completed"
    },
    "tags": []
   },
   "outputs": [],
   "source": [
    "###########################################\n",
    "# The stratified datasets honor this\n",
    "###########################################\n",
    "torch.set_default_dtype(eval(p.torch_default_dtype))"
   ]
  },
  {
   "cell_type": "code",
   "execution_count": 8,
   "id": "b5fba671",
   "metadata": {
    "execution": {
     "iopub.execute_input": "2022-03-27T12:37:37.315144Z",
     "iopub.status.busy": "2022-03-27T12:37:37.314899Z",
     "iopub.status.idle": "2022-03-27T12:37:37.351916Z",
     "shell.execute_reply": "2022-03-27T12:37:37.351476Z"
    },
    "papermill": {
     "duration": 0.051123,
     "end_time": "2022-03-27T12:37:37.352024",
     "exception": false,
     "start_time": "2022-03-27T12:37:37.300901",
     "status": "completed"
    },
    "tags": []
   },
   "outputs": [],
   "source": [
    "###################################\n",
    "# Build the network(s)\n",
    "# Note: It's critical to do this AFTER setting the RNG\n",
    "###################################\n",
    "x_net = build_sequential(p.x_net)"
   ]
  },
  {
   "cell_type": "code",
   "execution_count": 9,
   "id": "5d7e61cc",
   "metadata": {
    "execution": {
     "iopub.execute_input": "2022-03-27T12:37:37.387679Z",
     "iopub.status.busy": "2022-03-27T12:37:37.387361Z",
     "iopub.status.idle": "2022-03-27T12:37:37.403786Z",
     "shell.execute_reply": "2022-03-27T12:37:37.403307Z"
    },
    "papermill": {
     "duration": 0.031206,
     "end_time": "2022-03-27T12:37:37.403884",
     "exception": false,
     "start_time": "2022-03-27T12:37:37.372678",
     "status": "completed"
    },
    "tags": []
   },
   "outputs": [],
   "source": [
    "start_time_secs = time.time()"
   ]
  },
  {
   "cell_type": "code",
   "execution_count": 10,
   "id": "c6b67dfd",
   "metadata": {
    "execution": {
     "iopub.execute_input": "2022-03-27T12:37:37.444840Z",
     "iopub.status.busy": "2022-03-27T12:37:37.438466Z",
     "iopub.status.idle": "2022-03-27T12:37:37.450435Z",
     "shell.execute_reply": "2022-03-27T12:37:37.450802Z"
    },
    "papermill": {
     "duration": 0.029156,
     "end_time": "2022-03-27T12:37:37.450920",
     "exception": false,
     "start_time": "2022-03-27T12:37:37.421764",
     "status": "completed"
    },
    "tags": []
   },
   "outputs": [],
   "source": [
    "p.domains_source = []\n",
    "p.domains_target = []\n",
    "\n",
    "\n",
    "train_original_source = []\n",
    "val_original_source   = []\n",
    "test_original_source  = []\n",
    "\n",
    "train_original_target = []\n",
    "val_original_target   = []\n",
    "test_original_target  = []"
   ]
  },
  {
   "cell_type": "code",
   "execution_count": 11,
   "id": "e3d9c3d3",
   "metadata": {
    "execution": {
     "iopub.execute_input": "2022-03-27T12:37:37.483940Z",
     "iopub.status.busy": "2022-03-27T12:37:37.483697Z",
     "iopub.status.idle": "2022-03-27T12:37:37.494630Z",
     "shell.execute_reply": "2022-03-27T12:37:37.494153Z"
    },
    "papermill": {
     "duration": 0.024983,
     "end_time": "2022-03-27T12:37:37.494729",
     "exception": false,
     "start_time": "2022-03-27T12:37:37.469746",
     "status": "completed"
    },
    "tags": []
   },
   "outputs": [],
   "source": [
    "# global_x_transform_func = lambda x: normalize(x.to(torch.get_default_dtype()), \"unit_power\") # unit_power, unit_mag\n",
    "# global_x_transform_func = lambda x: normalize(x, \"unit_power\") # unit_power, unit_mag"
   ]
  },
  {
   "cell_type": "code",
   "execution_count": 12,
   "id": "acb78fd2",
   "metadata": {
    "execution": {
     "iopub.execute_input": "2022-03-27T12:37:37.535180Z",
     "iopub.status.busy": "2022-03-27T12:37:37.532058Z",
     "iopub.status.idle": "2022-03-27T12:37:37.545449Z",
     "shell.execute_reply": "2022-03-27T12:37:37.544968Z"
    },
    "papermill": {
     "duration": 0.033863,
     "end_time": "2022-03-27T12:37:37.545548",
     "exception": false,
     "start_time": "2022-03-27T12:37:37.511685",
     "status": "completed"
    },
    "tags": []
   },
   "outputs": [],
   "source": [
    "def add_dataset(\n",
    "    labels,\n",
    "    domains,\n",
    "    pickle_path,\n",
    "    x_transforms,\n",
    "    episode_transforms,\n",
    "    domain_prefix,\n",
    "    num_examples_per_domain_per_label,\n",
    "    source_or_target_dataset:str,\n",
    "    iterator_seed=p.seed,\n",
    "    dataset_seed=p.dataset_seed,\n",
    "    n_shot=p.n_shot,\n",
    "    n_way=p.n_way,\n",
    "    n_query=p.n_query,\n",
    "    train_val_test_k_factors=(p.train_k_factor,p.val_k_factor,p.test_k_factor),\n",
    "):\n",
    "   \n",
    "    if x_transforms == []: x_transform = None\n",
    "    else: x_transform = get_chained_transform(x_transforms)\n",
    "    \n",
    "    if episode_transforms == []: episode_transform = None\n",
    "    else: raise Exception(\"episode_transforms not implemented\")\n",
    "    \n",
    "    episode_transform = lambda tup, _prefix=domain_prefix: (_prefix + str(tup[0]), tup[1])\n",
    "\n",
    "\n",
    "    eaf = Episodic_Accessor_Factory(\n",
    "        labels=labels,\n",
    "        domains=domains,\n",
    "        num_examples_per_domain_per_label=num_examples_per_domain_per_label,\n",
    "        iterator_seed=iterator_seed,\n",
    "        dataset_seed=dataset_seed,\n",
    "        n_shot=n_shot,\n",
    "        n_way=n_way,\n",
    "        n_query=n_query,\n",
    "        train_val_test_k_factors=train_val_test_k_factors,\n",
    "        pickle_path=pickle_path,\n",
    "        x_transform_func=x_transform,\n",
    "    )\n",
    "\n",
    "    train, val, test = eaf.get_train(), eaf.get_val(), eaf.get_test()\n",
    "    train = Lazy_Iterable_Wrapper(train, episode_transform)\n",
    "    val = Lazy_Iterable_Wrapper(val, episode_transform)\n",
    "    test = Lazy_Iterable_Wrapper(test, episode_transform)\n",
    "\n",
    "    if source_or_target_dataset==\"source\":\n",
    "        train_original_source.append(train)\n",
    "        val_original_source.append(val)\n",
    "        test_original_source.append(test)\n",
    "\n",
    "        p.domains_source.extend(\n",
    "            [domain_prefix + str(u) for u in domains]\n",
    "        )\n",
    "    elif source_or_target_dataset==\"target\":\n",
    "        train_original_target.append(train)\n",
    "        val_original_target.append(val)\n",
    "        test_original_target.append(test)\n",
    "        p.domains_target.extend(\n",
    "            [domain_prefix + str(u) for u in domains]\n",
    "        )\n",
    "    else:\n",
    "        raise Exception(f\"invalid source_or_target_dataset: {source_or_target_dataset}\")\n",
    "    "
   ]
  },
  {
   "cell_type": "code",
   "execution_count": 13,
   "id": "fe266617",
   "metadata": {
    "execution": {
     "iopub.execute_input": "2022-03-27T12:37:37.579066Z",
     "iopub.status.busy": "2022-03-27T12:37:37.578825Z",
     "iopub.status.idle": "2022-03-27T12:40:18.341787Z",
     "shell.execute_reply": "2022-03-27T12:40:18.341360Z"
    },
    "papermill": {
     "duration": 160.778072,
     "end_time": "2022-03-27T12:40:18.341890",
     "exception": false,
     "start_time": "2022-03-27T12:37:37.563818",
     "status": "completed"
    },
    "tags": []
   },
   "outputs": [],
   "source": [
    "for ds in p.datasets:\n",
    "    add_dataset(**ds)"
   ]
  },
  {
   "cell_type": "code",
   "execution_count": 14,
   "id": "b90d65ac",
   "metadata": {
    "execution": {
     "iopub.execute_input": "2022-03-27T12:40:18.374857Z",
     "iopub.status.busy": "2022-03-27T12:40:18.374604Z",
     "iopub.status.idle": "2022-03-27T12:40:18.389030Z",
     "shell.execute_reply": "2022-03-27T12:40:18.388722Z"
    },
    "papermill": {
     "duration": 0.029698,
     "end_time": "2022-03-27T12:40:18.389100",
     "exception": false,
     "start_time": "2022-03-27T12:40:18.359402",
     "status": "completed"
    },
    "tags": []
   },
   "outputs": [],
   "source": [
    "# from steves_utils.CORES.utils import (\n",
    "#     ALL_NODES,\n",
    "#     ALL_NODES_MINIMUM_1000_EXAMPLES,\n",
    "#     ALL_DAYS\n",
    "# )\n",
    "\n",
    "# add_dataset(\n",
    "#     labels=ALL_NODES,\n",
    "#     domains = ALL_DAYS,\n",
    "#     num_examples_per_domain_per_label=100,\n",
    "#     pickle_path=os.path.join(get_datasets_base_path(), \"cores.stratified_ds.2022A.pkl\"),\n",
    "#     source_or_target_dataset=\"target\",\n",
    "#     x_transform_func=global_x_transform_func,\n",
    "#     domain_modifier=lambda u: f\"cores_{u}\"\n",
    "# )"
   ]
  },
  {
   "cell_type": "code",
   "execution_count": 15,
   "id": "76db484d",
   "metadata": {
    "execution": {
     "iopub.execute_input": "2022-03-27T12:40:18.421935Z",
     "iopub.status.busy": "2022-03-27T12:40:18.421684Z",
     "iopub.status.idle": "2022-03-27T12:40:18.435223Z",
     "shell.execute_reply": "2022-03-27T12:40:18.434915Z"
    },
    "papermill": {
     "duration": 0.028603,
     "end_time": "2022-03-27T12:40:18.435293",
     "exception": false,
     "start_time": "2022-03-27T12:40:18.406690",
     "status": "completed"
    },
    "tags": []
   },
   "outputs": [],
   "source": [
    "# from steves_utils.ORACLE.utils_v2 import (\n",
    "#     ALL_DISTANCES_FEET,\n",
    "#     ALL_RUNS,\n",
    "#     ALL_SERIAL_NUMBERS,\n",
    "# )\n",
    "\n",
    "\n",
    "# add_dataset(\n",
    "#     labels=ALL_SERIAL_NUMBERS,\n",
    "#     domains = list(set(ALL_DISTANCES_FEET) - {2,62}),\n",
    "#     num_examples_per_domain_per_label=100,\n",
    "#     pickle_path=os.path.join(get_datasets_base_path(), \"oracle.Run2_framed_2000Examples_stratified_ds.2022A.pkl\"),\n",
    "#     source_or_target_dataset=\"source\",\n",
    "#     x_transform_func=global_x_transform_func,\n",
    "#     domain_modifier=lambda u: f\"oracle1_{u}\"\n",
    "# )\n"
   ]
  },
  {
   "cell_type": "code",
   "execution_count": 16,
   "id": "97dea9d2",
   "metadata": {
    "execution": {
     "iopub.execute_input": "2022-03-27T12:40:18.468438Z",
     "iopub.status.busy": "2022-03-27T12:40:18.468186Z",
     "iopub.status.idle": "2022-03-27T12:40:18.481900Z",
     "shell.execute_reply": "2022-03-27T12:40:18.481496Z"
    },
    "papermill": {
     "duration": 0.028721,
     "end_time": "2022-03-27T12:40:18.481990",
     "exception": false,
     "start_time": "2022-03-27T12:40:18.453269",
     "status": "completed"
    },
    "tags": []
   },
   "outputs": [],
   "source": [
    "# from steves_utils.ORACLE.utils_v2 import (\n",
    "#     ALL_DISTANCES_FEET,\n",
    "#     ALL_RUNS,\n",
    "#     ALL_SERIAL_NUMBERS,\n",
    "# )\n",
    "\n",
    "\n",
    "# add_dataset(\n",
    "#     labels=ALL_SERIAL_NUMBERS,\n",
    "#     domains = list(set(ALL_DISTANCES_FEET) - {2,62,56}),\n",
    "#     num_examples_per_domain_per_label=100,\n",
    "#     pickle_path=os.path.join(get_datasets_base_path(), \"oracle.Run2_framed_2000Examples_stratified_ds.2022A.pkl\"),\n",
    "#     source_or_target_dataset=\"source\",\n",
    "#     x_transform_func=global_x_transform_func,\n",
    "#     domain_modifier=lambda u: f\"oracle2_{u}\"\n",
    "# )"
   ]
  },
  {
   "cell_type": "code",
   "execution_count": 17,
   "id": "6f289866",
   "metadata": {
    "execution": {
     "iopub.execute_input": "2022-03-27T12:40:18.512516Z",
     "iopub.status.busy": "2022-03-27T12:40:18.512268Z",
     "iopub.status.idle": "2022-03-27T12:40:18.525616Z",
     "shell.execute_reply": "2022-03-27T12:40:18.525310Z"
    },
    "papermill": {
     "duration": 0.028324,
     "end_time": "2022-03-27T12:40:18.525685",
     "exception": false,
     "start_time": "2022-03-27T12:40:18.497361",
     "status": "completed"
    },
    "tags": []
   },
   "outputs": [],
   "source": [
    "# add_dataset(\n",
    "#     labels=list(range(19)),\n",
    "#     domains = [0,1,2],\n",
    "#     num_examples_per_domain_per_label=100,\n",
    "#     pickle_path=os.path.join(get_datasets_base_path(), \"metehan.stratified_ds.2022A.pkl\"),\n",
    "#     source_or_target_dataset=\"target\",\n",
    "#     x_transform_func=global_x_transform_func,\n",
    "#     domain_modifier=lambda u: f\"met_{u}\"\n",
    "# )"
   ]
  },
  {
   "cell_type": "code",
   "execution_count": 18,
   "id": "86a863c3",
   "metadata": {
    "execution": {
     "iopub.execute_input": "2022-03-27T12:40:18.560200Z",
     "iopub.status.busy": "2022-03-27T12:40:18.559949Z",
     "iopub.status.idle": "2022-03-27T12:40:18.574664Z",
     "shell.execute_reply": "2022-03-27T12:40:18.574273Z"
    },
    "papermill": {
     "duration": 0.029897,
     "end_time": "2022-03-27T12:40:18.574752",
     "exception": false,
     "start_time": "2022-03-27T12:40:18.544855",
     "status": "completed"
    },
    "tags": []
   },
   "outputs": [],
   "source": [
    "# # from steves_utils.wisig.utils import (\n",
    "# #     ALL_NODES_MINIMUM_100_EXAMPLES,\n",
    "# #     ALL_NODES_MINIMUM_500_EXAMPLES,\n",
    "# #     ALL_NODES_MINIMUM_1000_EXAMPLES,\n",
    "# #     ALL_DAYS\n",
    "# # )\n",
    "\n",
    "# import steves_utils.wisig.utils as wisig\n",
    "\n",
    "\n",
    "# add_dataset(\n",
    "#     labels=wisig.ALL_NODES_MINIMUM_100_EXAMPLES,\n",
    "#     domains = wisig.ALL_DAYS,\n",
    "#     num_examples_per_domain_per_label=100,\n",
    "#     pickle_path=os.path.join(get_datasets_base_path(), \"wisig.node3-19.stratified_ds.2022A.pkl\"),\n",
    "#     source_or_target_dataset=\"target\",\n",
    "#     x_transform_func=global_x_transform_func,\n",
    "#     domain_modifier=lambda u: f\"wisig_{u}\"\n",
    "# )"
   ]
  },
  {
   "cell_type": "code",
   "execution_count": 19,
   "id": "fd5442bc",
   "metadata": {
    "execution": {
     "iopub.execute_input": "2022-03-27T12:40:18.611926Z",
     "iopub.status.busy": "2022-03-27T12:40:18.611670Z",
     "iopub.status.idle": "2022-03-27T12:40:18.625901Z",
     "shell.execute_reply": "2022-03-27T12:40:18.625499Z"
    },
    "papermill": {
     "duration": 0.032399,
     "end_time": "2022-03-27T12:40:18.625991",
     "exception": false,
     "start_time": "2022-03-27T12:40:18.593592",
     "status": "completed"
    },
    "tags": []
   },
   "outputs": [],
   "source": [
    "###################################\n",
    "# Build the dataset\n",
    "###################################\n",
    "train_original_source = Iterable_Aggregator(train_original_source, p.seed)\n",
    "val_original_source = Iterable_Aggregator(val_original_source, p.seed)\n",
    "test_original_source = Iterable_Aggregator(test_original_source, p.seed)\n",
    "\n",
    "\n",
    "train_original_target = Iterable_Aggregator(train_original_target, p.seed)\n",
    "val_original_target = Iterable_Aggregator(val_original_target, p.seed)\n",
    "test_original_target = Iterable_Aggregator(test_original_target, p.seed)\n",
    "\n",
    "# For CNN We only use X and Y. And we only train on the source.\n",
    "# Properly form the data using a transform lambda and Lazy_Iterable_Wrapper. Finally wrap them in a dataloader\n",
    "\n",
    "transform_lambda = lambda ex: ex[1] # Original is (<domain>, <episode>) so we strip down to episode only\n",
    "\n",
    "train_processed_source = Lazy_Iterable_Wrapper(train_original_source, transform_lambda)\n",
    "val_processed_source   = Lazy_Iterable_Wrapper(val_original_source, transform_lambda)\n",
    "test_processed_source  = Lazy_Iterable_Wrapper(test_original_source, transform_lambda)\n",
    "\n",
    "train_processed_target = Lazy_Iterable_Wrapper(train_original_target, transform_lambda)\n",
    "val_processed_target   = Lazy_Iterable_Wrapper(val_original_target, transform_lambda)\n",
    "test_processed_target  = Lazy_Iterable_Wrapper(test_original_target, transform_lambda)\n",
    "\n",
    "datasets = EasyDict({\n",
    "    \"source\": {\n",
    "        \"original\": {\"train\":train_original_source, \"val\":val_original_source, \"test\":test_original_source},\n",
    "        \"processed\": {\"train\":train_processed_source, \"val\":val_processed_source, \"test\":test_processed_source}\n",
    "    },\n",
    "    \"target\": {\n",
    "        \"original\": {\"train\":train_original_target, \"val\":val_original_target, \"test\":test_original_target},\n",
    "        \"processed\": {\"train\":train_processed_target, \"val\":val_processed_target, \"test\":test_processed_target}\n",
    "    },\n",
    "})"
   ]
  },
  {
   "cell_type": "code",
   "execution_count": 20,
   "id": "5b3c01fc",
   "metadata": {
    "execution": {
     "iopub.execute_input": "2022-03-27T12:40:18.658751Z",
     "iopub.status.busy": "2022-03-27T12:40:18.658497Z",
     "iopub.status.idle": "2022-03-27T12:40:43.872976Z",
     "shell.execute_reply": "2022-03-27T12:40:43.872531Z"
    },
    "papermill": {
     "duration": 25.229712,
     "end_time": "2022-03-27T12:40:43.873090",
     "exception": false,
     "start_time": "2022-03-27T12:40:18.643378",
     "status": "completed"
    },
    "tags": []
   },
   "outputs": [
    {
     "name": "stdout",
     "output_type": "stream",
     "text": [
      "{'ORACLE.run1_50', 'ORACLE.run1_20', 'ORACLE.run1_44', 'ORACLE.run1_26', 'ORACLE.run1_8', 'ORACLE.run1_38', 'ORACLE.run1_32', 'ORACLE.run1_14'}\n"
     ]
    },
    {
     "name": "stdout",
     "output_type": "stream",
     "text": [
      "{'ORACLE.run2_14', 'ORACLE.run2_20', 'ORACLE.run2_38', 'ORACLE.run2_8', 'ORACLE.run2_44', 'ORACLE.run2_50', 'ORACLE.run2_32', 'ORACLE.run2_26'}\n"
     ]
    },
    {
     "name": "stdout",
     "output_type": "stream",
     "text": [
      "tensor([[[ 1.2104,  0.2177,  0.8969,  ..., -0.2699, -0.8185, -0.2612],\n",
      "         [ 0.2786,  0.4093, -0.0348,  ...,  1.1146,  0.2264, -1.1320]],\n",
      "\n",
      "        [[ 0.5840,  0.9276, -1.2969,  ..., -1.5889, -0.4896,  0.9018],\n",
      "         [ 0.5239,  0.4810, -0.1460,  ..., -1.0478, -0.3693, -0.1975]],\n",
      "\n",
      "        [[-0.7359, -0.1692,  0.6852,  ...,  0.1607, -0.2538, -0.1776],\n",
      "         [ 0.4653,  0.5921,  0.7782,  ..., -0.2199,  0.7867, -1.1420]],\n",
      "\n",
      "        ...,\n",
      "\n",
      "        [[ 0.4953, -0.2030, -0.8931,  ..., -0.1055, -0.6739, -1.3234],\n",
      "         [ 0.0487,  0.1543,  0.7794,  ...,  0.7470, -0.1137,  1.1367]],\n",
      "\n",
      "        [[ 0.2961,  0.5757, -0.6086,  ...,  1.8504,  1.1596,  0.3948],\n",
      "         [ 0.6579,  0.1892, -0.2714,  ...,  0.9129,  0.4194,  0.5428]],\n",
      "\n",
      "        [[ 0.1823, -0.4915, -1.1098,  ..., -0.3171,  0.6341,  0.9512],\n",
      "         [ 0.3884, -0.6738, -1.2762,  ...,  0.3250, -0.6817,  1.4031]]])\n"
     ]
    }
   ],
   "source": [
    "from steves_utils.transforms import get_average_magnitude, get_average_power\n",
    "\n",
    "print(set([u for u,_ in val_original_source]))\n",
    "print(set([u for u,_ in val_original_target]))\n",
    "\n",
    "s_x, s_y, q_x, q_y, _ = next(iter(train_processed_source))\n",
    "print(s_x)\n",
    "\n",
    "# for ds in [\n",
    "#     train_processed_source,\n",
    "#     val_processed_source,\n",
    "#     test_processed_source,\n",
    "#     train_processed_target,\n",
    "#     val_processed_target,\n",
    "#     test_processed_target\n",
    "# ]:\n",
    "#     for s_x, s_y, q_x, q_y, _ in ds:\n",
    "#         for X in (s_x, q_x):\n",
    "#             for x in X:\n",
    "#                 assert np.isclose(get_average_magnitude(x.numpy()), 1.0)\n",
    "#                 assert np.isclose(get_average_power(x.numpy()), 1.0)\n",
    "                "
   ]
  },
  {
   "cell_type": "code",
   "execution_count": 21,
   "id": "bbdacba1",
   "metadata": {
    "execution": {
     "iopub.execute_input": "2022-03-27T12:40:43.916765Z",
     "iopub.status.busy": "2022-03-27T12:40:43.912243Z",
     "iopub.status.idle": "2022-03-27T12:40:43.981632Z",
     "shell.execute_reply": "2022-03-27T12:40:43.981122Z"
    },
    "papermill": {
     "duration": 0.087134,
     "end_time": "2022-03-27T12:40:43.981739",
     "exception": false,
     "start_time": "2022-03-27T12:40:43.894605",
     "status": "completed"
    },
    "tags": []
   },
   "outputs": [
    {
     "name": "stdout",
     "output_type": "stream",
     "text": [
      "(2, 256)\n"
     ]
    }
   ],
   "source": [
    "###################################\n",
    "# Build the model\n",
    "###################################\n",
    "# easfsl only wants a tuple for the shape\n",
    "model = Steves_Prototypical_Network(x_net, device=p.device, x_shape=tuple(p.x_shape))\n",
    "optimizer = Adam(params=model.parameters(), lr=p.lr)"
   ]
  },
  {
   "cell_type": "code",
   "execution_count": 22,
   "id": "22b39ac5",
   "metadata": {
    "execution": {
     "iopub.execute_input": "2022-03-27T12:40:44.018137Z",
     "iopub.status.busy": "2022-03-27T12:40:44.017873Z",
     "iopub.status.idle": "2022-03-27T15:42:45.399168Z",
     "shell.execute_reply": "2022-03-27T15:42:45.398933Z"
    },
    "papermill": {
     "duration": 10921.398031,
     "end_time": "2022-03-27T15:42:45.399224",
     "exception": false,
     "start_time": "2022-03-27T12:40:44.001193",
     "status": "completed"
    },
    "tags": []
   },
   "outputs": [
    {
     "name": "stdout",
     "output_type": "stream",
     "text": [
      "epoch: 1, [batch: 1 / 33600], examples_per_second: 9.9103, train_label_loss: 2.7614, \n"
     ]
    },
    {
     "name": "stdout",
     "output_type": "stream",
     "text": [
      "epoch: 1, [batch: 3360 / 33600], examples_per_second: 3221.9964, train_label_loss: 1.9458, \n"
     ]
    },
    {
     "name": "stdout",
     "output_type": "stream",
     "text": [
      "epoch: 1, [batch: 6720 / 33600], examples_per_second: 3226.9563, train_label_loss: 0.9373, \n"
     ]
    },
    {
     "name": "stdout",
     "output_type": "stream",
     "text": [
      "epoch: 1, [batch: 10080 / 33600], examples_per_second: 3224.8528, train_label_loss: 0.6753, \n"
     ]
    },
    {
     "name": "stdout",
     "output_type": "stream",
     "text": [
      "epoch: 1, [batch: 13440 / 33600], examples_per_second: 3213.4204, train_label_loss: 1.1637, \n"
     ]
    },
    {
     "name": "stdout",
     "output_type": "stream",
     "text": [
      "epoch: 1, [batch: 16800 / 33600], examples_per_second: 3214.6375, train_label_loss: 0.9224, \n"
     ]
    },
    {
     "name": "stdout",
     "output_type": "stream",
     "text": [
      "epoch: 1, [batch: 20160 / 33600], examples_per_second: 3224.6994, train_label_loss: 0.6124, \n"
     ]
    },
    {
     "name": "stdout",
     "output_type": "stream",
     "text": [
      "epoch: 1, [batch: 23520 / 33600], examples_per_second: 3211.2877, train_label_loss: 0.5836, \n"
     ]
    },
    {
     "name": "stdout",
     "output_type": "stream",
     "text": [
      "epoch: 1, [batch: 26880 / 33600], examples_per_second: 3221.5123, train_label_loss: 0.6331, \n"
     ]
    },
    {
     "name": "stdout",
     "output_type": "stream",
     "text": [
      "epoch: 1, [batch: 30240 / 33600], examples_per_second: 3220.2084, train_label_loss: 1.2989, \n"
     ]
    },
    {
     "name": "stdout",
     "output_type": "stream",
     "text": [
      "=============================================================\n",
      "epoch: 1, source_val_acc_label: 0.6359, target_val_acc_label: 0.6186, source_val_label_loss: 1.0042, target_val_label_loss: 1.0445, \n",
      "=============================================================\n"
     ]
    },
    {
     "name": "stdout",
     "output_type": "stream",
     "text": [
      "New best\n"
     ]
    },
    {
     "name": "stdout",
     "output_type": "stream",
     "text": [
      "epoch: 2, [batch: 1 / 33600], examples_per_second: 0.9673, train_label_loss: 0.7650, \n"
     ]
    },
    {
     "name": "stdout",
     "output_type": "stream",
     "text": [
      "epoch: 2, [batch: 3360 / 33600], examples_per_second: 3236.0045, train_label_loss: 0.5568, \n"
     ]
    },
    {
     "name": "stdout",
     "output_type": "stream",
     "text": [
      "epoch: 2, [batch: 6720 / 33600], examples_per_second: 3241.2663, train_label_loss: 1.4284, \n"
     ]
    },
    {
     "name": "stdout",
     "output_type": "stream",
     "text": [
      "epoch: 2, [batch: 10080 / 33600], examples_per_second: 3249.0148, train_label_loss: 0.5574, \n"
     ]
    },
    {
     "name": "stdout",
     "output_type": "stream",
     "text": [
      "epoch: 2, [batch: 13440 / 33600], examples_per_second: 3247.3214, train_label_loss: 0.4168, \n"
     ]
    },
    {
     "name": "stdout",
     "output_type": "stream",
     "text": [
      "epoch: 2, [batch: 16800 / 33600], examples_per_second: 3246.3159, train_label_loss: 0.8108, \n"
     ]
    },
    {
     "name": "stdout",
     "output_type": "stream",
     "text": [
      "epoch: 2, [batch: 20160 / 33600], examples_per_second: 3254.1790, train_label_loss: 1.2681, \n"
     ]
    },
    {
     "name": "stdout",
     "output_type": "stream",
     "text": [
      "epoch: 2, [batch: 23520 / 33600], examples_per_second: 3238.7032, train_label_loss: 1.2283, \n"
     ]
    },
    {
     "name": "stdout",
     "output_type": "stream",
     "text": [
      "epoch: 2, [batch: 26880 / 33600], examples_per_second: 3243.9131, train_label_loss: 1.0185, \n"
     ]
    },
    {
     "name": "stdout",
     "output_type": "stream",
     "text": [
      "epoch: 2, [batch: 30240 / 33600], examples_per_second: 3246.1356, train_label_loss: 1.0838, \n"
     ]
    },
    {
     "name": "stdout",
     "output_type": "stream",
     "text": [
      "=============================================================\n",
      "epoch: 2, source_val_acc_label: 0.6776, target_val_acc_label: 0.6581, source_val_label_loss: 0.8548, target_val_label_loss: 0.9157, \n",
      "=============================================================\n"
     ]
    },
    {
     "name": "stdout",
     "output_type": "stream",
     "text": [
      "New best\n"
     ]
    },
    {
     "name": "stdout",
     "output_type": "stream",
     "text": [
      "epoch: 3, [batch: 1 / 33600], examples_per_second: 0.9713, train_label_loss: 0.7063, \n"
     ]
    },
    {
     "name": "stdout",
     "output_type": "stream",
     "text": [
      "epoch: 3, [batch: 3360 / 33600], examples_per_second: 3235.2419, train_label_loss: 1.2382, \n"
     ]
    },
    {
     "name": "stdout",
     "output_type": "stream",
     "text": [
      "epoch: 3, [batch: 6720 / 33600], examples_per_second: 3250.4600, train_label_loss: 1.1811, \n"
     ]
    },
    {
     "name": "stdout",
     "output_type": "stream",
     "text": [
      "epoch: 3, [batch: 10080 / 33600], examples_per_second: 3256.5485, train_label_loss: 0.6851, \n"
     ]
    },
    {
     "name": "stdout",
     "output_type": "stream",
     "text": [
      "epoch: 3, [batch: 13440 / 33600], examples_per_second: 3244.3988, train_label_loss: 0.5813, \n"
     ]
    },
    {
     "name": "stdout",
     "output_type": "stream",
     "text": [
      "epoch: 3, [batch: 16800 / 33600], examples_per_second: 3256.9824, train_label_loss: 0.6381, \n"
     ]
    },
    {
     "name": "stdout",
     "output_type": "stream",
     "text": [
      "epoch: 3, [batch: 20160 / 33600], examples_per_second: 3255.4452, train_label_loss: 1.0172, \n"
     ]
    },
    {
     "name": "stdout",
     "output_type": "stream",
     "text": [
      "epoch: 3, [batch: 23520 / 33600], examples_per_second: 3247.9039, train_label_loss: 0.9266, \n"
     ]
    },
    {
     "name": "stdout",
     "output_type": "stream",
     "text": [
      "epoch: 3, [batch: 26880 / 33600], examples_per_second: 3245.5430, train_label_loss: 1.1076, \n"
     ]
    },
    {
     "name": "stdout",
     "output_type": "stream",
     "text": [
      "epoch: 3, [batch: 30240 / 33600], examples_per_second: 3259.4012, train_label_loss: 0.6908, \n"
     ]
    },
    {
     "name": "stdout",
     "output_type": "stream",
     "text": [
      "=============================================================\n",
      "epoch: 3, source_val_acc_label: 0.7025, target_val_acc_label: 0.6855, source_val_label_loss: 0.8041, target_val_label_loss: 0.8768, \n",
      "=============================================================\n"
     ]
    },
    {
     "name": "stdout",
     "output_type": "stream",
     "text": [
      "New best\n"
     ]
    },
    {
     "name": "stdout",
     "output_type": "stream",
     "text": [
      "epoch: 4, [batch: 1 / 33600], examples_per_second: 0.9693, train_label_loss: 0.4132, \n"
     ]
    },
    {
     "name": "stdout",
     "output_type": "stream",
     "text": [
      "epoch: 4, [batch: 3360 / 33600], examples_per_second: 3231.5324, train_label_loss: 0.4497, \n"
     ]
    },
    {
     "name": "stdout",
     "output_type": "stream",
     "text": [
      "epoch: 4, [batch: 6720 / 33600], examples_per_second: 3248.7504, train_label_loss: 0.9674, \n"
     ]
    },
    {
     "name": "stdout",
     "output_type": "stream",
     "text": [
      "epoch: 4, [batch: 10080 / 33600], examples_per_second: 3254.9858, train_label_loss: 0.8548, \n"
     ]
    },
    {
     "name": "stdout",
     "output_type": "stream",
     "text": [
      "epoch: 4, [batch: 13440 / 33600], examples_per_second: 3238.0941, train_label_loss: 0.5771, \n"
     ]
    },
    {
     "name": "stdout",
     "output_type": "stream",
     "text": [
      "epoch: 4, [batch: 16800 / 33600], examples_per_second: 3246.3075, train_label_loss: 1.0151, \n"
     ]
    },
    {
     "name": "stdout",
     "output_type": "stream",
     "text": [
      "epoch: 4, [batch: 20160 / 33600], examples_per_second: 3252.3387, train_label_loss: 1.2933, \n"
     ]
    },
    {
     "name": "stdout",
     "output_type": "stream",
     "text": [
      "epoch: 4, [batch: 23520 / 33600], examples_per_second: 3242.0731, train_label_loss: 0.3139, \n"
     ]
    },
    {
     "name": "stdout",
     "output_type": "stream",
     "text": [
      "epoch: 4, [batch: 26880 / 33600], examples_per_second: 3246.6589, train_label_loss: 0.4948, \n"
     ]
    },
    {
     "name": "stdout",
     "output_type": "stream",
     "text": [
      "epoch: 4, [batch: 30240 / 33600], examples_per_second: 3255.0736, train_label_loss: 0.6467, \n"
     ]
    },
    {
     "name": "stdout",
     "output_type": "stream",
     "text": [
      "=============================================================\n",
      "epoch: 4, source_val_acc_label: 0.7156, target_val_acc_label: 0.6980, source_val_label_loss: 0.7735, target_val_label_loss: 0.8513, \n",
      "=============================================================\n"
     ]
    },
    {
     "name": "stdout",
     "output_type": "stream",
     "text": [
      "New best\n"
     ]
    },
    {
     "name": "stdout",
     "output_type": "stream",
     "text": [
      "epoch: 5, [batch: 1 / 33600], examples_per_second: 0.9718, train_label_loss: 0.6625, \n"
     ]
    },
    {
     "name": "stdout",
     "output_type": "stream",
     "text": [
      "epoch: 5, [batch: 3360 / 33600], examples_per_second: 3236.3412, train_label_loss: 0.8386, \n"
     ]
    },
    {
     "name": "stdout",
     "output_type": "stream",
     "text": [
      "epoch: 5, [batch: 6720 / 33600], examples_per_second: 3246.1556, train_label_loss: 0.6453, \n"
     ]
    },
    {
     "name": "stdout",
     "output_type": "stream",
     "text": [
      "epoch: 5, [batch: 10080 / 33600], examples_per_second: 3259.6872, train_label_loss: 0.3313, \n"
     ]
    },
    {
     "name": "stdout",
     "output_type": "stream",
     "text": [
      "epoch: 5, [batch: 13440 / 33600], examples_per_second: 3239.1492, train_label_loss: 0.8496, \n"
     ]
    },
    {
     "name": "stdout",
     "output_type": "stream",
     "text": [
      "epoch: 5, [batch: 16800 / 33600], examples_per_second: 3253.2546, train_label_loss: 0.7743, \n"
     ]
    },
    {
     "name": "stdout",
     "output_type": "stream",
     "text": [
      "epoch: 5, [batch: 20160 / 33600], examples_per_second: 3243.7664, train_label_loss: 0.5847, \n"
     ]
    },
    {
     "name": "stdout",
     "output_type": "stream",
     "text": [
      "epoch: 5, [batch: 23520 / 33600], examples_per_second: 3230.4356, train_label_loss: 0.2718, \n"
     ]
    },
    {
     "name": "stdout",
     "output_type": "stream",
     "text": [
      "epoch: 5, [batch: 26880 / 33600], examples_per_second: 3248.2741, train_label_loss: 0.9240, \n"
     ]
    },
    {
     "name": "stdout",
     "output_type": "stream",
     "text": [
      "epoch: 5, [batch: 30240 / 33600], examples_per_second: 3252.4716, train_label_loss: 0.6654, \n"
     ]
    },
    {
     "name": "stdout",
     "output_type": "stream",
     "text": [
      "=============================================================\n",
      "epoch: 5, source_val_acc_label: 0.7228, target_val_acc_label: 0.7076, source_val_label_loss: 0.7573, target_val_label_loss: 0.8366, \n",
      "=============================================================\n"
     ]
    },
    {
     "name": "stdout",
     "output_type": "stream",
     "text": [
      "New best\n"
     ]
    },
    {
     "name": "stdout",
     "output_type": "stream",
     "text": [
      "epoch: 6, [batch: 1 / 33600], examples_per_second: 0.9714, train_label_loss: 0.5783, \n"
     ]
    },
    {
     "name": "stdout",
     "output_type": "stream",
     "text": [
      "epoch: 6, [batch: 3360 / 33600], examples_per_second: 3236.0386, train_label_loss: 0.5888, \n"
     ]
    },
    {
     "name": "stdout",
     "output_type": "stream",
     "text": [
      "epoch: 6, [batch: 6720 / 33600], examples_per_second: 3251.4002, train_label_loss: 0.5492, \n"
     ]
    },
    {
     "name": "stdout",
     "output_type": "stream",
     "text": [
      "epoch: 6, [batch: 10080 / 33600], examples_per_second: 3250.7824, train_label_loss: 0.9746, \n"
     ]
    },
    {
     "name": "stdout",
     "output_type": "stream",
     "text": [
      "epoch: 6, [batch: 13440 / 33600], examples_per_second: 3252.7125, train_label_loss: 0.4969, \n"
     ]
    },
    {
     "name": "stdout",
     "output_type": "stream",
     "text": [
      "epoch: 6, [batch: 16800 / 33600], examples_per_second: 3248.9714, train_label_loss: 0.7553, \n"
     ]
    },
    {
     "name": "stdout",
     "output_type": "stream",
     "text": [
      "epoch: 6, [batch: 20160 / 33600], examples_per_second: 3254.6706, train_label_loss: 0.6472, \n"
     ]
    },
    {
     "name": "stdout",
     "output_type": "stream",
     "text": [
      "epoch: 6, [batch: 23520 / 33600], examples_per_second: 3244.3085, train_label_loss: 0.2944, \n"
     ]
    },
    {
     "name": "stdout",
     "output_type": "stream",
     "text": [
      "epoch: 6, [batch: 26880 / 33600], examples_per_second: 3252.2343, train_label_loss: 0.4753, \n"
     ]
    },
    {
     "name": "stdout",
     "output_type": "stream",
     "text": [
      "epoch: 6, [batch: 30240 / 33600], examples_per_second: 3256.4419, train_label_loss: 0.5277, \n"
     ]
    },
    {
     "name": "stdout",
     "output_type": "stream",
     "text": [
      "=============================================================\n",
      "epoch: 6, source_val_acc_label: 0.7310, target_val_acc_label: 0.7155, source_val_label_loss: 0.7466, target_val_label_loss: 0.8192, \n",
      "=============================================================\n"
     ]
    },
    {
     "name": "stdout",
     "output_type": "stream",
     "text": [
      "New best\n"
     ]
    },
    {
     "name": "stdout",
     "output_type": "stream",
     "text": [
      "epoch: 7, [batch: 1 / 33600], examples_per_second: 0.9722, train_label_loss: 0.8425, \n"
     ]
    },
    {
     "name": "stdout",
     "output_type": "stream",
     "text": [
      "epoch: 7, [batch: 3360 / 33600], examples_per_second: 3236.5714, train_label_loss: 0.3594, \n"
     ]
    },
    {
     "name": "stdout",
     "output_type": "stream",
     "text": [
      "epoch: 7, [batch: 6720 / 33600], examples_per_second: 3257.2602, train_label_loss: 0.2718, \n"
     ]
    },
    {
     "name": "stdout",
     "output_type": "stream",
     "text": [
      "epoch: 7, [batch: 10080 / 33600], examples_per_second: 3258.6952, train_label_loss: 0.4891, \n"
     ]
    },
    {
     "name": "stdout",
     "output_type": "stream",
     "text": [
      "epoch: 7, [batch: 13440 / 33600], examples_per_second: 3242.6497, train_label_loss: 0.2344, \n"
     ]
    },
    {
     "name": "stdout",
     "output_type": "stream",
     "text": [
      "epoch: 7, [batch: 16800 / 33600], examples_per_second: 3252.6054, train_label_loss: 0.6123, \n"
     ]
    },
    {
     "name": "stdout",
     "output_type": "stream",
     "text": [
      "epoch: 7, [batch: 20160 / 33600], examples_per_second: 3241.8433, train_label_loss: 0.4680, \n"
     ]
    },
    {
     "name": "stdout",
     "output_type": "stream",
     "text": [
      "epoch: 7, [batch: 23520 / 33600], examples_per_second: 3243.4834, train_label_loss: 0.4374, \n"
     ]
    },
    {
     "name": "stdout",
     "output_type": "stream",
     "text": [
      "epoch: 7, [batch: 26880 / 33600], examples_per_second: 3249.7649, train_label_loss: 0.4794, \n"
     ]
    },
    {
     "name": "stdout",
     "output_type": "stream",
     "text": [
      "epoch: 7, [batch: 30240 / 33600], examples_per_second: 3247.1224, train_label_loss: 0.3928, \n"
     ]
    },
    {
     "name": "stdout",
     "output_type": "stream",
     "text": [
      "=============================================================\n",
      "epoch: 7, source_val_acc_label: 0.7330, target_val_acc_label: 0.7179, source_val_label_loss: 0.7308, target_val_label_loss: 0.8051, \n",
      "=============================================================\n"
     ]
    },
    {
     "name": "stdout",
     "output_type": "stream",
     "text": [
      "New best\n"
     ]
    },
    {
     "name": "stdout",
     "output_type": "stream",
     "text": [
      "epoch: 8, [batch: 1 / 33600], examples_per_second: 0.9688, train_label_loss: 0.1843, \n"
     ]
    },
    {
     "name": "stdout",
     "output_type": "stream",
     "text": [
      "epoch: 8, [batch: 3360 / 33600], examples_per_second: 3224.3881, train_label_loss: 0.3908, \n"
     ]
    },
    {
     "name": "stdout",
     "output_type": "stream",
     "text": [
      "epoch: 8, [batch: 6720 / 33600], examples_per_second: 3241.5108, train_label_loss: 0.3591, \n"
     ]
    },
    {
     "name": "stdout",
     "output_type": "stream",
     "text": [
      "epoch: 8, [batch: 10080 / 33600], examples_per_second: 3257.0022, train_label_loss: 0.7349, \n"
     ]
    },
    {
     "name": "stdout",
     "output_type": "stream",
     "text": [
      "epoch: 8, [batch: 13440 / 33600], examples_per_second: 3236.2522, train_label_loss: 0.5719, \n"
     ]
    },
    {
     "name": "stdout",
     "output_type": "stream",
     "text": [
      "epoch: 8, [batch: 16800 / 33600], examples_per_second: 3256.4984, train_label_loss: 0.3674, \n"
     ]
    },
    {
     "name": "stdout",
     "output_type": "stream",
     "text": [
      "epoch: 8, [batch: 20160 / 33600], examples_per_second: 3255.2920, train_label_loss: 0.5654, \n"
     ]
    },
    {
     "name": "stdout",
     "output_type": "stream",
     "text": [
      "epoch: 8, [batch: 23520 / 33600], examples_per_second: 3240.8045, train_label_loss: 0.3602, \n"
     ]
    },
    {
     "name": "stdout",
     "output_type": "stream",
     "text": [
      "epoch: 8, [batch: 26880 / 33600], examples_per_second: 3252.8763, train_label_loss: 0.6898, \n"
     ]
    },
    {
     "name": "stdout",
     "output_type": "stream",
     "text": [
      "epoch: 8, [batch: 30240 / 33600], examples_per_second: 3263.2056, train_label_loss: 0.3851, \n"
     ]
    },
    {
     "name": "stdout",
     "output_type": "stream",
     "text": [
      "=============================================================\n",
      "epoch: 8, source_val_acc_label: 0.7347, target_val_acc_label: 0.7205, source_val_label_loss: 0.7448, target_val_label_loss: 0.8246, \n",
      "=============================================================\n"
     ]
    },
    {
     "name": "stdout",
     "output_type": "stream",
     "text": [
      "New best\n"
     ]
    },
    {
     "name": "stdout",
     "output_type": "stream",
     "text": [
      "epoch: 9, [batch: 1 / 33600], examples_per_second: 0.9688, train_label_loss: 0.2760, \n"
     ]
    },
    {
     "name": "stdout",
     "output_type": "stream",
     "text": [
      "epoch: 9, [batch: 3360 / 33600], examples_per_second: 3232.5683, train_label_loss: 0.2846, \n"
     ]
    },
    {
     "name": "stdout",
     "output_type": "stream",
     "text": [
      "epoch: 9, [batch: 6720 / 33600], examples_per_second: 3257.3011, train_label_loss: 0.2804, \n"
     ]
    },
    {
     "name": "stdout",
     "output_type": "stream",
     "text": [
      "epoch: 9, [batch: 10080 / 33600], examples_per_second: 3257.5752, train_label_loss: 0.7574, \n"
     ]
    },
    {
     "name": "stdout",
     "output_type": "stream",
     "text": [
      "epoch: 9, [batch: 13440 / 33600], examples_per_second: 3234.8064, train_label_loss: 0.5845, \n"
     ]
    },
    {
     "name": "stdout",
     "output_type": "stream",
     "text": [
      "epoch: 9, [batch: 16800 / 33600], examples_per_second: 3249.4573, train_label_loss: 0.4154, \n"
     ]
    },
    {
     "name": "stdout",
     "output_type": "stream",
     "text": [
      "epoch: 9, [batch: 20160 / 33600], examples_per_second: 3254.8437, train_label_loss: 0.3390, \n"
     ]
    },
    {
     "name": "stdout",
     "output_type": "stream",
     "text": [
      "epoch: 9, [batch: 23520 / 33600], examples_per_second: 3244.3364, train_label_loss: 0.6794, \n"
     ]
    },
    {
     "name": "stdout",
     "output_type": "stream",
     "text": [
      "epoch: 9, [batch: 26880 / 33600], examples_per_second: 3245.8658, train_label_loss: 0.2967, \n"
     ]
    },
    {
     "name": "stdout",
     "output_type": "stream",
     "text": [
      "epoch: 9, [batch: 30240 / 33600], examples_per_second: 3253.9028, train_label_loss: 0.3939, \n"
     ]
    },
    {
     "name": "stdout",
     "output_type": "stream",
     "text": [
      "=============================================================\n",
      "epoch: 9, source_val_acc_label: 0.7328, target_val_acc_label: 0.7162, source_val_label_loss: 0.7628, target_val_label_loss: 0.8402, \n",
      "=============================================================\n"
     ]
    },
    {
     "name": "stdout",
     "output_type": "stream",
     "text": [
      "epoch: 10, [batch: 1 / 33600], examples_per_second: 0.9726, train_label_loss: 0.4233, \n"
     ]
    },
    {
     "name": "stdout",
     "output_type": "stream",
     "text": [
      "epoch: 10, [batch: 3360 / 33600], examples_per_second: 3235.8879, train_label_loss: 0.3695, \n"
     ]
    },
    {
     "name": "stdout",
     "output_type": "stream",
     "text": [
      "epoch: 10, [batch: 6720 / 33600], examples_per_second: 3248.2150, train_label_loss: 0.2500, \n"
     ]
    },
    {
     "name": "stdout",
     "output_type": "stream",
     "text": [
      "epoch: 10, [batch: 10080 / 33600], examples_per_second: 3256.7701, train_label_loss: 0.6586, \n"
     ]
    },
    {
     "name": "stdout",
     "output_type": "stream",
     "text": [
      "epoch: 10, [batch: 13440 / 33600], examples_per_second: 3232.2409, train_label_loss: 0.3172, \n"
     ]
    },
    {
     "name": "stdout",
     "output_type": "stream",
     "text": [
      "epoch: 10, [batch: 16800 / 33600], examples_per_second: 3251.8703, train_label_loss: 0.5558, \n"
     ]
    },
    {
     "name": "stdout",
     "output_type": "stream",
     "text": [
      "epoch: 10, [batch: 20160 / 33600], examples_per_second: 3250.6689, train_label_loss: 0.3160, \n"
     ]
    },
    {
     "name": "stdout",
     "output_type": "stream",
     "text": [
      "epoch: 10, [batch: 23520 / 33600], examples_per_second: 3244.6839, train_label_loss: 0.1627, \n"
     ]
    },
    {
     "name": "stdout",
     "output_type": "stream",
     "text": [
      "epoch: 10, [batch: 26880 / 33600], examples_per_second: 3254.6977, train_label_loss: 0.3090, \n"
     ]
    },
    {
     "name": "stdout",
     "output_type": "stream",
     "text": [
      "epoch: 10, [batch: 30240 / 33600], examples_per_second: 3248.6445, train_label_loss: 0.5640, \n"
     ]
    },
    {
     "name": "stdout",
     "output_type": "stream",
     "text": [
      "=============================================================\n",
      "epoch: 10, source_val_acc_label: 0.7342, target_val_acc_label: 0.7169, source_val_label_loss: 0.7747, target_val_label_loss: 0.8606, \n",
      "=============================================================\n"
     ]
    },
    {
     "name": "stdout",
     "output_type": "stream",
     "text": [
      "epoch: 11, [batch: 1 / 33600], examples_per_second: 0.9732, train_label_loss: 0.2212, \n"
     ]
    },
    {
     "name": "stdout",
     "output_type": "stream",
     "text": [
      "epoch: 11, [batch: 3360 / 33600], examples_per_second: 3235.5882, train_label_loss: 0.3058, \n"
     ]
    },
    {
     "name": "stdout",
     "output_type": "stream",
     "text": [
      "epoch: 11, [batch: 6720 / 33600], examples_per_second: 3254.0307, train_label_loss: 0.2721, \n"
     ]
    },
    {
     "name": "stdout",
     "output_type": "stream",
     "text": [
      "epoch: 11, [batch: 10080 / 33600], examples_per_second: 3255.1093, train_label_loss: 0.5083, \n"
     ]
    },
    {
     "name": "stdout",
     "output_type": "stream",
     "text": [
      "epoch: 11, [batch: 13440 / 33600], examples_per_second: 3242.4203, train_label_loss: 0.1209, \n"
     ]
    },
    {
     "name": "stdout",
     "output_type": "stream",
     "text": [
      "epoch: 11, [batch: 16800 / 33600], examples_per_second: 3259.9474, train_label_loss: 0.5266, \n"
     ]
    },
    {
     "name": "stdout",
     "output_type": "stream",
     "text": [
      "epoch: 11, [batch: 20160 / 33600], examples_per_second: 3259.7515, train_label_loss: 0.3376, \n"
     ]
    },
    {
     "name": "stdout",
     "output_type": "stream",
     "text": [
      "epoch: 11, [batch: 23520 / 33600], examples_per_second: 3246.0249, train_label_loss: 0.2482, \n"
     ]
    },
    {
     "name": "stdout",
     "output_type": "stream",
     "text": [
      "epoch: 11, [batch: 26880 / 33600], examples_per_second: 3252.5545, train_label_loss: 0.2162, \n"
     ]
    },
    {
     "name": "stdout",
     "output_type": "stream",
     "text": [
      "epoch: 11, [batch: 30240 / 33600], examples_per_second: 3258.4601, train_label_loss: 0.6766, \n"
     ]
    },
    {
     "name": "stdout",
     "output_type": "stream",
     "text": [
      "=============================================================\n",
      "epoch: 11, source_val_acc_label: 0.7296, target_val_acc_label: 0.7127, source_val_label_loss: 0.7896, target_val_label_loss: 0.8785, \n",
      "=============================================================\n"
     ]
    },
    {
     "name": "stdout",
     "output_type": "stream",
     "text": [
      "epoch: 12, [batch: 1 / 33600], examples_per_second: 0.9749, train_label_loss: 0.5508, \n"
     ]
    },
    {
     "name": "stdout",
     "output_type": "stream",
     "text": [
      "epoch: 12, [batch: 3360 / 33600], examples_per_second: 3231.2157, train_label_loss: 0.3612, \n"
     ]
    },
    {
     "name": "stdout",
     "output_type": "stream",
     "text": [
      "epoch: 12, [batch: 6720 / 33600], examples_per_second: 3253.7586, train_label_loss: 0.4361, \n"
     ]
    },
    {
     "name": "stdout",
     "output_type": "stream",
     "text": [
      "epoch: 12, [batch: 10080 / 33600], examples_per_second: 3255.0181, train_label_loss: 0.2652, \n"
     ]
    },
    {
     "name": "stdout",
     "output_type": "stream",
     "text": [
      "epoch: 12, [batch: 13440 / 33600], examples_per_second: 3237.1509, train_label_loss: 0.3084, \n"
     ]
    },
    {
     "name": "stdout",
     "output_type": "stream",
     "text": [
      "epoch: 12, [batch: 16800 / 33600], examples_per_second: 3245.6838, train_label_loss: 0.6004, \n"
     ]
    },
    {
     "name": "stdout",
     "output_type": "stream",
     "text": [
      "epoch: 12, [batch: 20160 / 33600], examples_per_second: 3255.0653, train_label_loss: 0.2227, \n"
     ]
    },
    {
     "name": "stdout",
     "output_type": "stream",
     "text": [
      "epoch: 12, [batch: 23520 / 33600], examples_per_second: 3237.3723, train_label_loss: 0.1589, \n"
     ]
    },
    {
     "name": "stdout",
     "output_type": "stream",
     "text": [
      "epoch: 12, [batch: 26880 / 33600], examples_per_second: 3255.5362, train_label_loss: 0.4835, \n"
     ]
    },
    {
     "name": "stdout",
     "output_type": "stream",
     "text": [
      "epoch: 12, [batch: 30240 / 33600], examples_per_second: 3252.9165, train_label_loss: 0.3277, \n"
     ]
    },
    {
     "name": "stdout",
     "output_type": "stream",
     "text": [
      "=============================================================\n",
      "epoch: 12, source_val_acc_label: 0.7292, target_val_acc_label: 0.7116, source_val_label_loss: 0.8158, target_val_label_loss: 0.9081, \n",
      "=============================================================\n"
     ]
    },
    {
     "name": "stdout",
     "output_type": "stream",
     "text": [
      "Patience (3) exhausted\n"
     ]
    }
   ],
   "source": [
    "###################################\n",
    "# train\n",
    "###################################\n",
    "jig = PTN_Train_Eval_Test_Jig(model, p.BEST_MODEL_PATH, p.device)\n",
    "\n",
    "jig.train(\n",
    "    train_iterable=datasets.source.processed.train,\n",
    "    source_val_iterable=datasets.source.processed.val,\n",
    "    target_val_iterable=datasets.target.processed.val,\n",
    "    num_epochs=p.n_epoch,\n",
    "    num_logs_per_epoch=p.NUM_LOGS_PER_EPOCH,\n",
    "    patience=p.patience,\n",
    "    optimizer=optimizer,\n",
    "    criteria_for_best=p.criteria_for_best,\n",
    ")"
   ]
  },
  {
   "cell_type": "code",
   "execution_count": 23,
   "id": "31e8fabf",
   "metadata": {
    "execution": {
     "iopub.execute_input": "2022-03-27T15:42:45.480510Z",
     "iopub.status.busy": "2022-03-27T15:42:45.480254Z",
     "iopub.status.idle": "2022-03-27T15:42:45.498106Z",
     "shell.execute_reply": "2022-03-27T15:42:45.497710Z"
    },
    "papermill": {
     "duration": 0.059443,
     "end_time": "2022-03-27T15:42:45.498196",
     "exception": false,
     "start_time": "2022-03-27T15:42:45.438753",
     "status": "completed"
    },
    "tags": []
   },
   "outputs": [],
   "source": [
    "total_experiment_time_secs = time.time() - start_time_secs"
   ]
  },
  {
   "cell_type": "code",
   "execution_count": 24,
   "id": "87b9595b",
   "metadata": {
    "execution": {
     "iopub.execute_input": "2022-03-27T15:42:45.586327Z",
     "iopub.status.busy": "2022-03-27T15:42:45.586023Z",
     "iopub.status.idle": "2022-03-27T15:50:46.083083Z",
     "shell.execute_reply": "2022-03-27T15:50:46.082621Z"
    },
    "papermill": {
     "duration": 480.541823,
     "end_time": "2022-03-27T15:50:46.083193",
     "exception": false,
     "start_time": "2022-03-27T15:42:45.541370",
     "status": "completed"
    },
    "tags": []
   },
   "outputs": [],
   "source": [
    "###################################\n",
    "# Evaluate the model\n",
    "###################################\n",
    "source_test_label_accuracy, source_test_label_loss = jig.test(datasets.source.processed.test)\n",
    "target_test_label_accuracy, target_test_label_loss = jig.test(datasets.target.processed.test)\n",
    "\n",
    "source_val_label_accuracy, source_val_label_loss = jig.test(datasets.source.processed.val)\n",
    "target_val_label_accuracy, target_val_label_loss = jig.test(datasets.target.processed.val)\n",
    "\n",
    "history = jig.get_history()\n",
    "\n",
    "total_epochs_trained = len(history[\"epoch_indices\"])\n",
    "\n",
    "val_dl = Iterable_Aggregator((datasets.source.original.val,datasets.target.original.val))\n",
    "\n",
    "confusion = ptn_confusion_by_domain_over_dataloader(model, p.device, val_dl)\n",
    "per_domain_accuracy = per_domain_accuracy_from_confusion(confusion)\n",
    "\n",
    "# Add a key to per_domain_accuracy for if it was a source domain\n",
    "for domain, accuracy in per_domain_accuracy.items():\n",
    "    per_domain_accuracy[domain] = {\n",
    "        \"accuracy\": accuracy,\n",
    "        \"source?\": domain in p.domains_source\n",
    "    }\n",
    "\n",
    "# Do an independent accuracy assesment JUST TO BE SURE!\n",
    "# _source_test_label_accuracy = independent_accuracy_assesment(model, datasets.source.processed.test, p.device)\n",
    "# _target_test_label_accuracy = independent_accuracy_assesment(model, datasets.target.processed.test, p.device)\n",
    "# _source_val_label_accuracy = independent_accuracy_assesment(model, datasets.source.processed.val, p.device)\n",
    "# _target_val_label_accuracy = independent_accuracy_assesment(model, datasets.target.processed.val, p.device)\n",
    "\n",
    "# assert(_source_test_label_accuracy == source_test_label_accuracy)\n",
    "# assert(_target_test_label_accuracy == target_test_label_accuracy)\n",
    "# assert(_source_val_label_accuracy == source_val_label_accuracy)\n",
    "# assert(_target_val_label_accuracy == target_val_label_accuracy)\n",
    "\n",
    "experiment = {\n",
    "    \"experiment_name\": p.experiment_name,\n",
    "    \"parameters\": dict(p),\n",
    "    \"results\": {\n",
    "        \"source_test_label_accuracy\": source_test_label_accuracy,\n",
    "        \"source_test_label_loss\": source_test_label_loss,\n",
    "        \"target_test_label_accuracy\": target_test_label_accuracy,\n",
    "        \"target_test_label_loss\": target_test_label_loss,\n",
    "        \"source_val_label_accuracy\": source_val_label_accuracy,\n",
    "        \"source_val_label_loss\": source_val_label_loss,\n",
    "        \"target_val_label_accuracy\": target_val_label_accuracy,\n",
    "        \"target_val_label_loss\": target_val_label_loss,\n",
    "        \"total_epochs_trained\": total_epochs_trained,\n",
    "        \"total_experiment_time_secs\": total_experiment_time_secs,\n",
    "        \"confusion\": confusion,\n",
    "        \"per_domain_accuracy\": per_domain_accuracy,\n",
    "    },\n",
    "    \"history\": history,\n",
    "    \"dataset_metrics\": get_dataset_metrics(datasets, \"ptn\"),\n",
    "}"
   ]
  },
  {
   "cell_type": "code",
   "execution_count": 25,
   "id": "54a21829",
   "metadata": {
    "execution": {
     "iopub.execute_input": "2022-03-27T15:50:46.169265Z",
     "iopub.status.busy": "2022-03-27T15:50:46.168748Z",
     "iopub.status.idle": "2022-03-27T15:50:46.299399Z",
     "shell.execute_reply": "2022-03-27T15:50:46.299775Z"
    },
    "papermill": {
     "duration": 0.170975,
     "end_time": "2022-03-27T15:50:46.299881",
     "exception": false,
     "start_time": "2022-03-27T15:50:46.128906",
     "status": "completed"
    },
    "tags": []
   },
   "outputs": [
    {
     "data": {
      "image/png": "[encoded data removed]",
      "text/plain": [
       "<Figure size 1080x504 with 1 Axes>"
      ]
     },
     "metadata": {
      "needs_background": "light"
     },
     "output_type": "display_data"
    }
   ],
   "source": [
    "ax = get_loss_curve(experiment)\n",
    "plt.show()"
   ]
  },
  {
   "cell_type": "code",
   "execution_count": 26,
   "id": "fd8a0f60",
   "metadata": {
    "execution": {
     "iopub.execute_input": "2022-03-27T15:50:46.394288Z",
     "iopub.status.busy": "2022-03-27T15:50:46.393904Z",
     "iopub.status.idle": "2022-03-27T15:50:46.528726Z",
     "shell.execute_reply": "2022-03-27T15:50:46.528498Z"
    },
    "papermill": {
     "duration": 0.184258,
     "end_time": "2022-03-27T15:50:46.528779",
     "exception": false,
     "start_time": "2022-03-27T15:50:46.344521",
     "status": "completed"
    },
    "tags": []
   },
   "outputs": [
    {
     "data": {
      "text/plain": [
       "<AxesSubplot:title={'center':'Results'}>"
      ]
     },
     "execution_count": 26,
     "metadata": {},
     "output_type": "execute_result"
    },
    {
     "data": {
      "image/png": "[encoded data removed]",
      "text/plain": [
       "<Figure size 1080x504 with 1 Axes>"
      ]
     },
     "metadata": {
      "needs_background": "light"
     },
     "output_type": "display_data"
    }
   ],
   "source": [
    "get_results_table(experiment)"
   ]
  },
  {
   "cell_type": "code",
   "execution_count": 27,
   "id": "cf8dc689",
   "metadata": {
    "execution": {
     "iopub.execute_input": "2022-03-27T15:50:46.647473Z",
     "iopub.status.busy": "2022-03-27T15:50:46.647203Z",
     "iopub.status.idle": "2022-03-27T15:50:46.815186Z",
     "shell.execute_reply": "2022-03-27T15:50:46.814765Z"
    },
    "papermill": {
     "duration": 0.212211,
     "end_time": "2022-03-27T15:50:46.815285",
     "exception": false,
     "start_time": "2022-03-27T15:50:46.603074",
     "status": "completed"
    },
    "tags": []
   },
   "outputs": [
    {
     "data": {
      "text/plain": [
       "<AxesSubplot:title={'center':'Per Domain Validation Accuracy'}, xlabel='domain'>"
      ]
     },
     "execution_count": 27,
     "metadata": {},
     "output_type": "execute_result"
    },
    {
     "data": {
      "image/png": "[encoded data removed]",
      "text/plain": [
       "<Figure size 1080x504 with 1 Axes>"
      ]
     },
     "metadata": {
      "needs_background": "light"
     },
     "output_type": "display_data"
    }
   ],
   "source": [
    "get_domain_accuracies(experiment)"
   ]
  },
  {
   "cell_type": "code",
   "execution_count": 28,
   "id": "a74ae082",
   "metadata": {
    "execution": {
     "iopub.execute_input": "2022-03-27T15:50:46.907363Z",
     "iopub.status.busy": "2022-03-27T15:50:46.907104Z",
     "iopub.status.idle": "2022-03-27T15:50:46.919533Z",
     "shell.execute_reply": "2022-03-27T15:50:46.919077Z"
    },
    "papermill": {
     "duration": 0.057647,
     "end_time": "2022-03-27T15:50:46.919625",
     "exception": false,
     "start_time": "2022-03-27T15:50:46.861978",
     "status": "completed"
    },
    "tags": []
   },
   "outputs": [
    {
     "name": "stdout",
     "output_type": "stream",
     "text": [
      "Source Test Label Accuracy: 0.7363346354166667 Target Test Label Accuracy: 0.719609375\n",
      "Source Val Label Accuracy: 0.7347200520833334 Target Val Label Accuracy: 0.72052734375\n"
     ]
    }
   ],
   "source": [
    "print(\"Source Test Label Accuracy:\", experiment[\"results\"][\"source_test_label_accuracy\"], \"Target Test Label Accuracy:\", experiment[\"results\"][\"target_test_label_accuracy\"])\n",
    "print(\"Source Val Label Accuracy:\", experiment[\"results\"][\"source_val_label_accuracy\"], \"Target Val Label Accuracy:\", experiment[\"results\"][\"target_val_label_accuracy\"])"
   ]
  },
  {
   "cell_type": "code",
   "execution_count": 29,
   "id": "dacca602",
   "metadata": {
    "execution": {
     "iopub.execute_input": "2022-03-27T15:50:47.011750Z",
     "iopub.status.busy": "2022-03-27T15:50:47.011493Z",
     "iopub.status.idle": "2022-03-27T15:50:47.023658Z",
     "shell.execute_reply": "2022-03-27T15:50:47.023260Z"
    },
    "papermill": {
     "duration": 0.057336,
     "end_time": "2022-03-27T15:50:47.023750",
     "exception": false,
     "start_time": "2022-03-27T15:50:46.966414",
     "status": "completed"
    },
    "tags": [
     "experiment_json"
    ]
   },
   "outputs": [
    {
     "data": {
      "text/plain": [
       "'{\"experiment_name\": \"tl_1v2:oracle.run1-oracle.run2\", \"parameters\": {\"experiment_name\": \"tl_1v2:oracle.run1-oracle.run2\", \"device\": \"cuda\", \"lr\": 0.0001, \"n_shot\": 3, \"n_query\": 2, \"train_k_factor\": 3, \"val_k_factor\": 2, \"test_k_factor\": 2, \"torch_default_dtype\": \"torch.float32\", \"n_epoch\": 50, \"patience\": 3, \"criteria_for_best\": \"target_accuracy\", \"x_net\": [{\"class\": \"nnReshape\", \"kargs\": {\"shape\": [-1, 1, 2, 256]}}, {\"class\": \"Conv2d\", \"kargs\": {\"in_channels\": 1, \"out_channels\": 256, \"kernel_size\": [1, 7], \"bias\": false, \"padding\": [0, 3]}}, {\"class\": \"ReLU\", \"kargs\": {\"inplace\": true}}, {\"class\": \"BatchNorm2d\", \"kargs\": {\"num_features\": 256}}, {\"class\": \"Conv2d\", \"kargs\": {\"in_channels\": 256, \"out_channels\": 80, \"kernel_size\": [2, 7], \"bias\": true, \"padding\": [0, 3]}}, {\"class\": \"ReLU\", \"kargs\": {\"inplace\": true}}, {\"class\": \"BatchNorm2d\", \"kargs\": {\"num_features\": 80}}, {\"class\": \"Flatten\", \"kargs\": {}}, {\"class\": \"Linear\", \"kargs\": {\"in_features\": 20480, \"out_features\": 256}}, {\"class\": \"ReLU\", \"kargs\": {\"inplace\": true}}, {\"class\": \"BatchNorm1d\", \"kargs\": {\"num_features\": 256}}, {\"class\": \"Linear\", \"kargs\": {\"in_features\": 256, \"out_features\": 256}}], \"NUM_LOGS_PER_EPOCH\": 10, \"BEST_MODEL_PATH\": \"./best_model.pth\", \"n_way\": 16, \"datasets\": [{\"labels\": [\"3123D52\", \"3123D65\", \"3123D79\", \"3123D80\", \"3123D54\", \"3123D70\", \"3123D7B\", \"3123D89\", \"3123D58\", \"3123D76\", \"3123D7D\", \"3123EFE\", \"3123D64\", \"3123D78\", \"3123D7E\", \"3124E4A\"], \"domains\": [32, 38, 8, 44, 14, 50, 20, 26], \"num_examples_per_domain_per_label\": 10000, \"pickle_path\": \"/mnt/wd500GB/CSC500/csc500-main/datasets/oracle.Run1_10kExamples_stratified_ds.2022A.pkl\", \"source_or_target_dataset\": \"source\", \"x_transforms\": [\"unit_power\"], \"episode_transforms\": [], \"domain_prefix\": \"ORACLE.run1_\"}, {\"labels\": [\"3123D52\", \"3123D65\", \"3123D79\", \"3123D80\", \"3123D54\", \"3123D70\", \"3123D7B\", \"3123D89\", \"3123D58\", \"3123D76\", \"3123D7D\", \"3123EFE\", \"3123D64\", \"3123D78\", \"3123D7E\", \"3124E4A\"], \"domains\": [32, 38, 8, 44, 14, 50, 20, 26], \"num_examples_per_domain_per_label\": 10000, \"pickle_path\": \"/mnt/wd500GB/CSC500/csc500-main/datasets/oracle.Run2_10kExamples_stratified_ds.2022A.pkl\", \"source_or_target_dataset\": \"target\", \"x_transforms\": [\"unit_power\"], \"episode_transforms\": [], \"domain_prefix\": \"ORACLE.run2_\"}], \"dataset_seed\": 7, \"seed\": 7, \"x_shape\": [2, 256], \"domains_source\": [\"ORACLE.run1_32\", \"ORACLE.run1_38\", \"ORACLE.run1_8\", \"ORACLE.run1_44\", \"ORACLE.run1_14\", \"ORACLE.run1_50\", \"ORACLE.run1_20\", \"ORACLE.run1_26\"], \"domains_target\": [\"ORACLE.run2_32\", \"ORACLE.run2_38\", \"ORACLE.run2_8\", \"ORACLE.run2_44\", \"ORACLE.run2_14\", \"ORACLE.run2_50\", \"ORACLE.run2_20\", \"ORACLE.run2_26\"]}, \"results\": {\"source_test_label_accuracy\": 0.7363346354166667, \"source_test_label_loss\": 0.7381810545921326, \"target_test_label_accuracy\": 0.719609375, \"target_test_label_loss\": 0.8284623622894287, \"source_val_label_accuracy\": 0.7347200520833334, \"source_val_label_loss\": 0.7447949647903442, \"target_val_label_accuracy\": 0.72052734375, \"target_val_label_loss\": 0.8246085047721863, \"total_epochs_trained\": 12, \"total_experiment_time_secs\": 11108.09450674057, \"confusion\": {\"ORACLE.run1_26\": {\"0\": {\"14\": 201, \"4\": 169, \"8\": 107, \"1\": 39, \"10\": 264, \"6\": 36, \"0\": 351, \"9\": 9, \"7\": 21, \"2\": 1, \"15\": 2}, \"4\": {\"1\": 105, \"4\": 500, \"10\": 65, \"0\": 164, \"14\": 200, \"8\": 83, \"7\": 77, \"2\": 4, \"9\": 1, \"3\": 1}, \"14\": {\"14\": 435, \"1\": 228, \"10\": 95, \"0\": 194, \"4\": 201, \"8\": 29, \"7\": 15, \"9\": 2, \"6\": 1}, \"12\": {\"12\": 1199, \"11\": 1}, \"8\": {\"7\": 121, \"0\": 116, \"8\": 442, \"4\": 102, \"15\": 68, \"6\": 40, \"10\": 171, \"14\": 26, \"9\": 83, \"2\": 18, \"5\": 11, \"3\": 2}, \"7\": {\"7\": 664, \"8\": 81, \"3\": 182, \"4\": 110, \"2\": 127, \"0\": 11, \"10\": 1, \"5\": 3, \"1\": 5, \"15\": 8, \"9\": 3, \"14\": 5}, \"13\": {\"13\": 877, \"5\": 227, \"15\": 57, \"2\": 13, \"9\": 15, \"6\": 9, \"8\": 1, \"3\": 1}, \"5\": {\"5\": 780, \"8\": 32, \"13\": 130, \"2\": 51, \"15\": 149, \"9\": 48, \"7\": 7, \"4\": 1, \"6\": 1, \"3\": 1}, \"15\": {\"9\": 355, \"15\": 481, \"6\": 29, \"13\": 53, \"8\": 86, \"2\": 33, \"5\": 124, \"7\": 18, \"10\": 12, \"4\": 1, \"0\": 6, \"3\": 2}, \"10\": {\"4\": 74, \"10\": 511, \"8\": 156, \"0\": 254, \"6\": 52, \"14\": 122, \"5\": 5, \"9\": 10, \"1\": 11, \"15\": 4, \"7\": 1}, \"3\": {\"3\": 737, \"2\": 277, \"7\": 178, \"8\": 2, \"0\": 1, \"4\": 2, \"14\": 1, \"15\": 1, \"5\": 1}, \"9\": {\"15\": 373, \"9\": 510, \"8\": 82, \"6\": 140, \"7\": 6, \"10\": 16, \"0\": 17, \"13\": 15, \"2\": 7, \"5\": 31, \"4\": 3}, \"6\": {\"6\": 873, \"10\": 77, \"9\": 156, \"8\": 34, \"0\": 21, \"14\": 2, \"15\": 30, \"5\": 2, \"13\": 5}, \"1\": {\"1\": 748, \"14\": 249, \"0\": 30, \"4\": 126, \"8\": 3, \"10\": 32, \"7\": 11, \"3\": 1}, \"11\": {\"11\": 1193, \"12\": 7}, \"2\": {\"2\": 447, \"7\": 132, \"3\": 378, \"5\": 131, \"15\": 63, \"8\": 25, \"9\": 5, \"13\": 8, \"6\": 1, \"4\": 7, \"0\": 3}}, \"ORACLE.run1_44\": {\"1\": {\"10\": 108, \"1\": 711, \"3\": 160, \"12\": 180, \"2\": 40, \"7\": 1}, \"11\": {\"11\": 1121, \"13\": 63, \"6\": 15, \"9\": 1}, \"3\": {\"1\": 91, \"3\": 1091, \"12\": 13, \"2\": 3, \"10\": 1, \"7\": 1}, \"6\": {\"6\": 832, \"13\": 217, \"9\": 104, \"7\": 38, \"11\": 8, \"2\": 1}, \"7\": {\"7\": 752, \"2\": 174, \"9\": 228, \"1\": 3, \"6\": 36, \"13\": 3, \"3\": 4}, \"5\": {\"8\": 12, \"5\": 1037, \"15\": 31, \"0\": 91, \"14\": 27, \"4\": 2}, \"2\": {\"2\": 920, \"10\": 75, \"1\": 37, \"7\": 156, \"9\": 3, \"3\": 8, \"6\": 1}, \"15\": {\"0\": 76, \"15\": 997, \"14\": 81, \"5\": 23, \"4\": 9, \"8\": 14}, \"10\": {\"10\": 873, \"12\": 87, \"1\": 138, \"2\": 101, \"7\": 1}, \"13\": {\"7\": 6, \"13\": 832, \"6\": 183, \"9\": 136, \"11\": 34, \"14\": 2, \"4\": 7}, \"8\": {\"8\": 760, \"0\": 392, \"5\": 17, \"15\": 31}, \"4\": {\"14\": 309, \"4\": 881, \"15\": 6, \"5\": 4}, \"9\": {\"9\": 725, \"7\": 252, \"6\": 84, \"13\": 129, \"2\": 9, \"11\": 1}, \"14\": {\"14\": 788, \"4\": 327, \"15\": 58, \"5\": 27}, \"0\": {\"8\": 327, \"5\": 68, \"0\": 746, \"15\": 59}, \"12\": {\"12\": 959, \"1\": 185, \"10\": 48, \"3\": 8}}, \"ORACLE.run1_50\": {\"15\": {\"1\": 157, \"15\": 926, \"6\": 30, \"4\": 69, \"11\": 18}, \"4\": {\"4\": 581, \"5\": 136, \"15\": 152, \"6\": 103, \"13\": 21, \"1\": 174, \"7\": 32, \"11\": 1}, \"6\": {\"6\": 912, \"13\": 77, \"4\": 78, \"15\": 28, \"5\": 35, \"1\": 62, \"7\": 7, \"0\": 1}, \"2\": {\"2\": 1114, \"0\": 86}, \"5\": {\"6\": 67, \"13\": 178, \"5\": 519, \"7\": 207, \"4\": 181, \"10\": 4, \"1\": 44}, \"9\": {\"9\": 959, \"11\": 164, \"12\": 75, \"14\": 2}, \"8\": {\"8\": 1166, \"10\": 22, \"3\": 12}, \"12\": {\"12\": 1107, \"9\": 62, \"14\": 26, \"11\": 5}, \"10\": {\"10\": 1108, \"13\": 22, \"0\": 37, \"8\": 21, \"7\": 12}, \"1\": {\"1\": 783, \"6\": 97, \"15\": 214, \"4\": 87, \"13\": 1, \"11\": 3, \"5\": 13, \"14\": 1, \"0\": 1}, \"0\": {\"0\": 1075, \"2\": 81, \"13\": 4, \"10\": 40}, \"3\": {\"3\": 1181, \"8\": 19}, \"13\": {\"13\": 826, \"7\": 162, \"5\": 134, \"6\": 58, \"10\": 11, \"4\": 8, \"1\": 1}, \"11\": {\"11\": 1037, \"9\": 116, \"15\": 34, \"12\": 4, \"14\": 5, \"1\": 3, \"4\": 1}, \"7\": {\"7\": 785, \"13\": 218, \"5\": 160, \"6\": 11, \"10\": 18, \"4\": 8}, \"14\": {\"14\": 1182, \"12\": 12, \"9\": 1, \"11\": 5}}, \"ORACLE.run1_38\": {\"15\": {\"15\": 937, \"13\": 125, \"8\": 40, \"5\": 13, \"1\": 76, \"2\": 5, \"0\": 2, \"10\": 2}, \"11\": {\"11\": 1071, \"14\": 112, \"10\": 11, \"13\": 1, \"2\": 4, \"4\": 1}, \"10\": {\"10\": 993, \"13\": 102, \"15\": 9, \"8\": 30, \"4\": 1, \"2\": 2, \"0\": 19, \"7\": 10, \"12\": 12, \"14\": 13, \"5\": 4, \"11\": 5}, \"14\": {\"14\": 1087, \"2\": 70, \"11\": 29, \"10\": 7, \"12\": 2, \"13\": 4, \"15\": 1}, \"6\": {\"6\": 1045, \"9\": 147, \"5\": 7, \"0\": 1}, \"4\": {\"4\": 1144, \"12\": 53, \"10\": 2, \"0\": 1}, \"13\": {\"15\": 159, \"13\": 890, \"10\": 106, \"1\": 6, \"5\": 4, \"0\": 2, \"14\": 1, \"2\": 23, \"8\": 9}, \"3\": {\"3\": 1123, \"0\": 25, \"9\": 43, \"7\": 7, \"5\": 2}, \"7\": {\"5\": 44, \"7\": 953, \"0\": 157, \"9\": 1, \"8\": 43, \"3\": 2}, \"8\": {\"8\": 755, \"5\": 226, \"0\": 137, \"10\": 10, \"7\": 46, \"13\": 4, \"15\": 20, \"1\": 1, \"12\": 1}, \"1\": {\"1\": 1162, \"5\": 1, \"15\": 37}, \"5\": {\"8\": 327, \"6\": 38, \"9\": 30, \"5\": 574, \"7\": 97, \"15\": 42, \"10\": 6, \"13\": 8, \"0\": 63, \"3\": 3, \"1\": 12}, \"0\": {\"5\": 75, \"7\": 192, \"8\": 232, \"0\": 608, \"3\": 62, \"10\": 26, \"4\": 2, \"9\": 1, \"12\": 1, \"13\": 1}, \"2\": {\"2\": 1115, \"14\": 57, \"13\": 24, \"15\": 2, \"10\": 2}, \"12\": {\"12\": 1169, \"4\": 27, \"10\": 2, \"8\": 1, \"14\": 1}, \"9\": {\"9\": 888, \"6\": 261, \"3\": 24, \"5\": 25, \"7\": 1, \"0\": 1}}, \"ORACLE.run1_20\": {\"10\": {\"10\": 1104, \"4\": 23, \"14\": 59, \"8\": 9, \"7\": 4, \"6\": 1}, \"7\": {\"7\": 889, \"8\": 57, \"2\": 159, \"9\": 44, \"3\": 33, \"10\": 2, \"6\": 8, \"4\": 5, \"12\": 2, \"5\": 1}, \"4\": {\"4\": 965, \"3\": 57, \"8\": 134, \"0\": 2, \"9\": 1, \"10\": 30, \"7\": 3, \"5\": 3, \"12\": 3, \"14\": 1, \"1\": 1}, \"13\": {\"2\": 49, \"13\": 1113, \"15\": 20, \"1\": 1, \"7\": 3, \"12\": 3, \"9\": 10, \"3\": 1}, \"1\": {\"12\": 170, \"5\": 180, \"1\": 590, \"15\": 195, \"13\": 5, \"0\": 19, \"2\": 4, \"3\": 25, \"9\": 12}, \"0\": {\"5\": 296, \"0\": 697, \"12\": 19, \"8\": 6, \"15\": 126, \"3\": 15, \"9\": 2, \"1\": 18, \"13\": 3, \"4\": 9, \"2\": 5, \"7\": 4}, \"12\": {\"12\": 478, \"3\": 258, \"1\": 168, \"5\": 99, \"15\": 13, \"2\": 55, \"9\": 107, \"0\": 4, \"4\": 6, \"8\": 4, \"13\": 7, \"7\": 1}, \"5\": {\"1\": 170, \"5\": 568, \"12\": 119, \"15\": 101, \"0\": 196, \"3\": 36, \"9\": 2, \"4\": 4, \"2\": 3, \"13\": 1}, \"6\": {\"6\": 1048, \"7\": 9, \"14\": 136, \"10\": 1, \"8\": 5, \"11\": 1}, \"2\": {\"9\": 280, \"7\": 136, \"2\": 605, \"12\": 52, \"13\": 51, \"3\": 61, \"4\": 1, \"1\": 5, \"5\": 7, \"15\": 1, \"8\": 1}, \"8\": {\"7\": 74, \"8\": 926, \"6\": 9, \"4\": 142, \"10\": 4, \"14\": 30, \"2\": 1, \"3\": 12, \"5\": 1, \"9\": 1}, \"11\": {\"11\": 1198, \"6\": 2}, \"9\": {\"9\": 545, \"2\": 306, \"3\": 192, \"12\": 104, \"13\": 6, \"7\": 34, \"1\": 11, \"5\": 1, \"4\": 1}, \"14\": {\"14\": 974, \"10\": 79, \"6\": 125, \"8\": 21, \"7\": 1}, \"15\": {\"15\": 769, \"1\": 183, \"12\": 24, \"5\": 102, \"13\": 25, \"0\": 84, \"2\": 7, \"9\": 3, \"3\": 3}, \"3\": {\"3\": 525, \"9\": 187, \"12\": 249, \"5\": 30, \"2\": 76, \"0\": 10, \"4\": 55, \"7\": 32, \"1\": 20, \"8\": 10, \"15\": 5, \"10\": 1}}, \"ORACLE.run1_14\": {\"14\": {\"14\": 1025, \"2\": 67, \"13\": 67, \"3\": 24, \"6\": 16, \"10\": 1}, \"0\": {\"0\": 1097, \"11\": 22, \"14\": 3, \"10\": 61, \"3\": 17}, \"4\": {\"3\": 101, \"4\": 903, \"2\": 39, \"5\": 142, \"14\": 2, \"1\": 12, \"6\": 1}, \"11\": {\"11\": 1084, \"9\": 67, \"0\": 48, \"10\": 1}, \"13\": {\"6\": 469, \"13\": 436, \"2\": 119, \"14\": 151, \"5\": 17, \"4\": 2, \"15\": 4, \"3\": 1, \"10\": 1}, \"9\": {\"9\": 1198, \"11\": 1, \"12\": 1}, \"3\": {\"3\": 1030, \"14\": 33, \"4\": 107, \"2\": 17, \"1\": 1, \"0\": 8, \"5\": 4}, \"6\": {\"14\": 37, \"13\": 428, \"6\": 686, \"2\": 49}, \"1\": {\"1\": 1080, \"5\": 107, \"4\": 12, \"7\": 1}, \"5\": {\"1\": 146, \"2\": 52, \"5\": 786, \"4\": 197, \"3\": 10, \"7\": 5, \"15\": 4}, \"12\": {\"12\": 1193, \"9\": 7}, \"10\": {\"10\": 1170, \"0\": 30}, \"8\": {\"8\": 1200}, \"7\": {\"7\": 1185, \"15\": 9, \"5\": 2, \"1\": 4}, \"15\": {\"15\": 1169, \"7\": 31}, \"2\": {\"2\": 648, \"13\": 62, \"5\": 118, \"14\": 157, \"3\": 48, \"4\": 83, \"6\": 68, \"15\": 15, \"1\": 1}}, \"ORACLE.run1_32\": {\"11\": {\"11\": 984, \"14\": 175, \"7\": 16, \"13\": 15, \"5\": 3, \"3\": 7}, \"1\": {\"1\": 1188, \"10\": 12}, \"2\": {\"2\": 981, \"4\": 170, \"0\": 32, \"7\": 11, \"5\": 2, \"14\": 3, \"13\": 1}, \"0\": {\"0\": 864, \"2\": 36, \"5\": 28, \"8\": 128, \"4\": 62, \"14\": 28, \"13\": 18, \"7\": 36}, \"3\": {\"3\": 1128, \"11\": 24, \"13\": 28, \"5\": 14, \"8\": 4, \"14\": 2}, \"8\": {\"8\": 928, \"5\": 59, \"0\": 97, \"13\": 89, \"14\": 8, \"3\": 12, \"7\": 5, \"4\": 2}, \"12\": {\"12\": 1200}, \"5\": {\"7\": 134, \"5\": 466, \"13\": 279, \"4\": 139, \"8\": 54, \"0\": 43, \"11\": 10, \"14\": 23, \"3\": 39, \"2\": 13}, \"15\": {\"15\": 1193, \"8\": 6, \"3\": 1}, \"7\": {\"7\": 579, \"13\": 79, \"14\": 140, \"11\": 23, \"5\": 198, \"4\": 122, \"0\": 22, \"2\": 34, \"8\": 3}, \"4\": {\"7\": 100, \"4\": 712, \"2\": 202, \"5\": 83, \"14\": 3, \"13\": 53, \"0\": 45, \"8\": 2}, \"14\": {\"14\": 548, \"7\": 179, \"11\": 317, \"13\": 53, \"5\": 33, \"8\": 8, \"3\": 10, \"0\": 33, \"4\": 8, \"2\": 11}, \"10\": {\"10\": 1195, \"1\": 5}, \"6\": {\"6\": 1200}, \"13\": {\"8\": 43, \"5\": 255, \"13\": 581, \"0\": 25, \"14\": 23, \"3\": 91, \"7\": 84, \"4\": 76, \"11\": 21, \"2\": 1}, \"9\": {\"9\": 1200}}, \"ORACLE.run1_8\": {\"9\": {\"9\": 1200}, \"11\": {\"11\": 823, \"1\": 343, \"14\": 6, \"10\": 1, \"8\": 10, \"6\": 1, \"4\": 1, \"5\": 15}, \"8\": {\"8\": 1140, \"15\": 46, \"12\": 7, \"11\": 1, \"6\": 5, \"7\": 1}, \"4\": {\"4\": 609, \"14\": 189, \"13\": 215, \"6\": 108, \"0\": 38, \"10\": 30, \"1\": 5, \"7\": 6}, \"13\": {\"13\": 409, \"10\": 121, \"14\": 104, \"4\": 186, \"0\": 339, \"6\": 29, \"7\": 5, \"1\": 6, \"5\": 1}, \"14\": {\"14\": 673, \"4\": 184, \"10\": 203, \"1\": 47, \"13\": 82, \"0\": 3, \"6\": 2, \"11\": 6}, \"2\": {\"2\": 973, \"3\": 143, \"7\": 28, \"12\": 16, \"15\": 39, \"6\": 1}, \"3\": {\"3\": 1019, \"2\": 97, \"12\": 79, \"15\": 5}, \"1\": {\"1\": 884, \"11\": 248, \"14\": 45, \"5\": 12, \"10\": 7, \"4\": 4}, \"0\": {\"13\": 282, \"6\": 44, \"0\": 762, \"4\": 40, \"7\": 65, \"10\": 5, \"14\": 2}, \"5\": {\"5\": 1050, \"10\": 84, \"14\": 9, \"1\": 51, \"13\": 2, \"11\": 4}, \"15\": {\"15\": 846, \"8\": 58, \"12\": 283, \"3\": 11, \"2\": 2}, \"10\": {\"13\": 107, \"14\": 221, \"10\": 801, \"5\": 25, \"1\": 10, \"4\": 31, \"0\": 5}, \"12\": {\"12\": 668, \"15\": 364, \"3\": 143, \"2\": 5, \"8\": 20}, \"6\": {\"4\": 107, \"6\": 743, \"7\": 264, \"14\": 7, \"0\": 45, \"13\": 31, \"8\": 3}, \"7\": {\"7\": 874, \"0\": 51, \"6\": 266, \"8\": 4, \"13\": 4, \"4\": 1}}, \"ORACLE.run2_26\": {\"0\": {\"8\": 105, \"14\": 223, \"0\": 438, \"10\": 187, \"1\": 69, \"7\": 17, \"15\": 6, \"4\": 139, \"9\": 3, \"2\": 8, \"3\": 2, \"6\": 3}, \"4\": {\"4\": 739, \"15\": 29, \"0\": 105, \"2\": 71, \"14\": 49, \"1\": 18, \"10\": 21, \"8\": 49, \"7\": 67, \"3\": 51, \"9\": 1}, \"14\": {\"10\": 151, \"14\": 426, \"0\": 182, \"1\": 304, \"8\": 72, \"4\": 47, \"15\": 1, \"2\": 3, \"7\": 8, \"5\": 4, \"6\": 2}, \"12\": {\"12\": 1200}, \"8\": {\"8\": 558, \"9\": 104, \"0\": 69, \"2\": 101, \"7\": 113, \"14\": 60, \"5\": 39, \"4\": 50, \"10\": 82, \"6\": 7, \"3\": 2, \"1\": 4, \"15\": 8, \"13\": 3}, \"7\": {\"7\": 403, \"2\": 376, \"9\": 20, \"3\": 87, \"4\": 80, \"8\": 112, \"0\": 9, \"5\": 39, \"15\": 70, \"10\": 3, \"14\": 1}, \"13\": {\"13\": 894, \"6\": 14, \"5\": 194, \"9\": 88, \"2\": 4, \"7\": 2, \"8\": 4}, \"5\": {\"13\": 266, \"5\": 456, \"6\": 102, \"9\": 73, \"4\": 3, \"2\": 90, \"3\": 16, \"7\": 113, \"8\": 57, \"15\": 11, \"1\": 1, \"14\": 4, \"0\": 2, \"10\": 6}, \"15\": {\"4\": 51, \"15\": 726, \"2\": 98, \"7\": 83, \"3\": 212, \"9\": 10, \"8\": 11, \"0\": 7, \"10\": 1, \"5\": 1}, \"10\": {\"14\": 189, \"10\": 405, \"1\": 70, \"0\": 219, \"8\": 107, \"6\": 92, \"9\": 7, \"2\": 12, \"4\": 76, \"5\": 2, \"7\": 14, \"12\": 2, \"3\": 1, \"15\": 4}, \"3\": {\"15\": 188, \"2\": 110, \"3\": 732, \"4\": 76, \"7\": 90, \"8\": 2, \"5\": 2}, \"9\": {\"15\": 5, \"6\": 157, \"9\": 738, \"13\": 98, \"8\": 96, \"7\": 26, \"5\": 55, \"10\": 7, \"3\": 1, \"2\": 12, \"0\": 5}, \"6\": {\"6\": 939, \"9\": 153, \"10\": 38, \"5\": 20, \"13\": 25, \"8\": 17, \"0\": 8}, \"1\": {\"14\": 274, \"1\": 788, \"0\": 77, \"10\": 40, \"2\": 2, \"8\": 7, \"4\": 12}, \"11\": {\"11\": 1200}, \"2\": {\"15\": 100, \"3\": 126, \"7\": 373, \"2\": 336, \"4\": 115, \"8\": 90, \"5\": 32, \"14\": 6, \"10\": 2, \"9\": 12, \"0\": 7, \"13\": 1}}, \"ORACLE.run2_44\": {\"1\": {\"12\": 292, \"1\": 785, \"2\": 5, \"3\": 107, \"10\": 5, \"7\": 5, \"9\": 1}, \"11\": {\"11\": 1177, \"6\": 18, \"7\": 4, \"9\": 1}, \"3\": {\"3\": 1035, \"12\": 60, \"1\": 105}, \"6\": {\"6\": 1107, \"13\": 15, \"9\": 57, \"7\": 16, \"2\": 5}, \"7\": {\"2\": 252, \"7\": 620, \"9\": 311, \"1\": 6, \"6\": 11}, \"5\": {\"5\": 1098, \"14\": 93, \"8\": 6, \"15\": 3}, \"2\": {\"7\": 218, \"2\": 706, \"9\": 274, \"3\": 1, \"1\": 1}, \"15\": {\"15\": 1014, \"4\": 47, \"14\": 132, \"8\": 6, \"5\": 1}, \"10\": {\"10\": 1173, \"1\": 12, \"12\": 15}, \"13\": {\"13\": 1137, \"4\": 32, \"6\": 29, \"14\": 2}, \"8\": {\"8\": 717, \"5\": 18, \"0\": 453, \"15\": 10, \"14\": 2}, \"4\": {\"4\": 1054, \"15\": 31, \"14\": 85, \"13\": 30}, \"9\": {\"7\": 324, \"2\": 302, \"9\": 535, \"6\": 38, \"13\": 1}, \"14\": {\"14\": 915, \"4\": 61, \"15\": 133, \"5\": 87, \"8\": 1, \"13\": 2, \"0\": 1}, \"0\": {\"0\": 676, \"8\": 519, \"5\": 4, \"15\": 1}, \"12\": {\"12\": 840, \"1\": 279, \"3\": 75, \"10\": 6}}, \"ORACLE.run2_50\": {\"15\": {\"15\": 1092, \"1\": 70, \"6\": 18, \"11\": 19, \"4\": 1}, \"4\": {\"4\": 653, \"5\": 339, \"1\": 72, \"6\": 121, \"10\": 3, \"7\": 11, \"13\": 1}, \"6\": {\"6\": 842, \"1\": 164, \"5\": 61, \"4\": 116, \"0\": 3, \"13\": 3, \"15\": 9, \"7\": 1, \"10\": 1}, \"2\": {\"2\": 1126, \"0\": 74}, \"5\": {\"5\": 620, \"4\": 337, \"6\": 50, \"10\": 46, \"13\": 57, \"7\": 79, \"0\": 5, \"1\": 6}, \"9\": {\"9\": 1154, \"12\": 30, \"11\": 16}, \"8\": {\"8\": 1159, \"3\": 41}, \"12\": {\"12\": 1110, \"14\": 30, \"9\": 48, \"11\": 12}, \"10\": {\"7\": 44, \"10\": 927, \"13\": 194, \"5\": 20, \"0\": 12, \"4\": 3}, \"1\": {\"1\": 934, \"4\": 49, \"6\": 172, \"15\": 37, \"5\": 7, \"2\": 1}, \"0\": {\"0\": 1118, \"2\": 53, \"10\": 25, \"5\": 4}, \"3\": {\"3\": 1148, \"8\": 52}, \"13\": {\"7\": 308, \"13\": 636, \"5\": 62, \"10\": 193, \"4\": 1}, \"11\": {\"11\": 1120, \"14\": 18, \"9\": 14, \"15\": 46, \"12\": 2}, \"7\": {\"7\": 641, \"13\": 368, \"10\": 75, \"5\": 108, \"4\": 6, \"6\": 2}, \"14\": {\"14\": 1186, \"12\": 8, \"11\": 6}}, \"ORACLE.run2_38\": {\"15\": {\"1\": 112, \"7\": 10, \"15\": 634, \"5\": 180, \"8\": 226, \"0\": 16, \"13\": 14, \"3\": 4, \"6\": 4}, \"11\": {\"11\": 1130, \"14\": 45, \"12\": 14, \"4\": 8, \"2\": 2, \"7\": 1}, \"10\": {\"10\": 718, \"7\": 376, \"8\": 33, \"5\": 28, \"13\": 10, \"3\": 24, \"0\": 8, \"4\": 3}, \"14\": {\"14\": 760, \"12\": 74, \"2\": 277, \"11\": 27, \"7\": 23, \"5\": 16, \"8\": 9, \"4\": 4, \"10\": 6, \"13\": 4}, \"6\": {\"6\": 975, \"9\": 222, \"1\": 2, \"3\": 1}, \"4\": {\"4\": 1151, \"12\": 41, \"10\": 7, \"7\": 1}, \"13\": {\"1\": 27, \"13\": 625, \"8\": 155, \"10\": 44, \"3\": 143, \"5\": 79, \"7\": 48, \"14\": 5, \"15\": 45, \"2\": 14, \"9\": 3, \"0\": 11, \"6\": 1}, \"3\": {\"7\": 45, \"3\": 527, \"13\": 141, \"0\": 257, \"10\": 70, \"8\": 65, \"9\": 38, \"5\": 18, \"6\": 21, \"15\": 16, \"1\": 2}, \"7\": {\"7\": 629, \"5\": 114, \"10\": 341, \"3\": 9, \"8\": 85, \"15\": 10, \"0\": 5, \"13\": 7}, \"8\": {\"15\": 168, \"8\": 461, \"5\": 374, \"13\": 67, \"7\": 89, \"10\": 15, \"3\": 20, \"1\": 4, \"0\": 2}, \"1\": {\"1\": 1132, \"13\": 4, \"15\": 52, \"8\": 6, \"5\": 6}, \"5\": {\"5\": 484, \"8\": 380, \"15\": 144, \"1\": 6, \"7\": 111, \"10\": 23, \"13\": 45, \"3\": 6, \"0\": 1}, \"0\": {\"0\": 1017, \"3\": 139, \"15\": 6, \"7\": 7, \"8\": 4, \"10\": 20, \"13\": 1, \"9\": 3, \"6\": 1, \"5\": 2}, \"2\": {\"2\": 1077, \"14\": 123}, \"12\": {\"12\": 1177, \"14\": 12, \"4\": 11}, \"9\": {\"9\": 941, \"6\": 234, \"3\": 14, \"0\": 10, \"13\": 1}}, \"ORACLE.run2_20\": {\"10\": {\"10\": 1064, \"14\": 73, \"4\": 8, \"6\": 15, \"3\": 4, \"8\": 22, \"7\": 14}, \"7\": {\"7\": 928, \"6\": 10, \"8\": 99, \"3\": 112, \"2\": 8, \"5\": 30, \"9\": 2, \"14\": 4, \"10\": 6, \"4\": 1}, \"4\": {\"4\": 1029, \"10\": 10, \"0\": 20, \"3\": 15, \"1\": 5, \"8\": 35, \"12\": 61, \"5\": 18, \"14\": 2, \"2\": 3, \"9\": 2}, \"13\": {\"13\": 911, \"15\": 246, \"0\": 10, \"5\": 11, \"2\": 13, \"9\": 4, \"1\": 2, \"12\": 3}, \"1\": {\"1\": 663, \"15\": 103, \"9\": 44, \"12\": 278, \"0\": 69, \"2\": 9, \"5\": 13, \"4\": 7, \"13\": 12, \"3\": 2}, \"0\": {\"0\": 935, \"1\": 58, \"12\": 46, \"5\": 73, \"2\": 2, \"4\": 33, \"15\": 49, \"13\": 4}, \"12\": {\"1\": 251, \"0\": 46, \"5\": 83, \"12\": 492, \"4\": 42, \"9\": 111, \"2\": 63, \"3\": 25, \"15\": 83, \"13\": 4}, \"5\": {\"5\": 464, \"2\": 185, \"3\": 145, \"13\": 5, \"4\": 44, \"0\": 89, \"1\": 22, \"9\": 43, \"12\": 86, \"7\": 44, \"15\": 56, \"8\": 17}, \"6\": {\"6\": 1047, \"10\": 13, \"7\": 11, \"14\": 106, \"8\": 23}, \"2\": {\"2\": 415, \"15\": 98, \"3\": 155, \"9\": 284, \"12\": 63, \"4\": 6, \"5\": 130, \"13\": 21, \"7\": 11, \"1\": 13, \"8\": 1, \"0\": 3}, \"8\": {\"8\": 774, \"14\": 171, \"5\": 12, \"6\": 29, \"10\": 23, \"7\": 124, \"3\": 10, \"4\": 56, \"2\": 1}, \"11\": {\"11\": 1200}, \"9\": {\"12\": 117, \"2\": 276, \"3\": 153, \"9\": 496, \"15\": 54, \"5\": 46, \"1\": 41, \"13\": 8, \"4\": 8, \"7\": 1}, \"14\": {\"10\": 82, \"6\": 144, \"14\": 803, \"8\": 168, \"4\": 1, \"7\": 2}, \"15\": {\"15\": 482, \"3\": 5, \"13\": 262, \"12\": 95, \"5\": 77, \"2\": 96, \"1\": 97, \"0\": 35, \"9\": 50, \"7\": 1}, \"3\": {\"5\": 114, \"9\": 145, \"4\": 30, \"7\": 165, \"12\": 37, \"3\": 496, \"2\": 170, \"10\": 12, \"8\": 17, \"6\": 2, \"15\": 9, \"1\": 1, \"0\": 2}}, \"ORACLE.run2_14\": {\"14\": {\"14\": 872, \"2\": 149, \"3\": 34, \"13\": 8, \"6\": 117, \"5\": 10, \"0\": 7, \"4\": 3}, \"0\": {\"0\": 1196, \"10\": 4}, \"4\": {\"5\": 280, \"4\": 787, \"3\": 49, \"2\": 56, \"1\": 27, \"6\": 1}, \"11\": {\"11\": 1181, \"12\": 19}, \"13\": {\"13\": 876, \"6\": 292, \"2\": 23, \"14\": 9}, \"9\": {\"9\": 1199, \"12\": 1}, \"3\": {\"3\": 994, \"14\": 18, \"5\": 77, \"4\": 68, \"2\": 37, \"0\": 1, \"1\": 5}, \"6\": {\"13\": 238, \"6\": 847, \"14\": 83, \"2\": 31, \"4\": 1}, \"1\": {\"1\": 1091, \"5\": 83, \"4\": 26}, \"5\": {\"5\": 670, \"1\": 87, \"4\": 286, \"2\": 78, \"3\": 79}, \"12\": {\"12\": 620, \"9\": 123, \"11\": 337, \"0\": 65, \"8\": 48, \"10\": 6, \"14\": 1}, \"10\": {\"10\": 1164, \"0\": 34, \"11\": 1, \"14\": 1}, \"8\": {\"8\": 1200}, \"7\": {\"7\": 1195, \"15\": 4, \"1\": 1}, \"15\": {\"15\": 1189, \"7\": 11}, \"2\": {\"14\": 238, \"2\": 527, \"5\": 130, \"3\": 91, \"13\": 82, \"4\": 94, \"6\": 29, \"15\": 4, \"1\": 3, \"0\": 1, \"7\": 1}}, \"ORACLE.run2_32\": {\"11\": {\"4\": 40, \"7\": 214, \"11\": 666, \"0\": 157, \"14\": 11, \"8\": 9, \"13\": 79, \"2\": 13, \"5\": 11}, \"1\": {\"1\": 1198, \"10\": 2}, \"2\": {\"2\": 1004, \"5\": 63, \"14\": 55, \"7\": 19, \"0\": 16, \"4\": 34, \"11\": 8, \"13\": 1}, \"0\": {\"0\": 637, \"13\": 54, \"5\": 137, \"8\": 78, \"11\": 146, \"7\": 17, \"14\": 15, \"4\": 106, \"2\": 10}, \"3\": {\"3\": 1138, \"13\": 44, \"5\": 2, \"8\": 13, \"7\": 3}, \"8\": {\"5\": 58, \"8\": 969, \"0\": 59, \"15\": 8, \"3\": 19, \"13\": 52, \"4\": 29, \"11\": 6}, \"12\": {\"12\": 1200}, \"5\": {\"5\": 530, \"7\": 16, \"13\": 59, \"0\": 110, \"14\": 92, \"4\": 135, \"8\": 135, \"2\": 107, \"11\": 11, \"3\": 5}, \"15\": {\"15\": 1189, \"8\": 9, \"5\": 2}, \"7\": {\"7\": 748, \"11\": 187, \"13\": 143, \"4\": 77, \"0\": 20, \"5\": 7, \"2\": 17, \"3\": 1}, \"4\": {\"8\": 21, \"13\": 217, \"4\": 581, \"7\": 72, \"0\": 99, \"5\": 140, \"2\": 25, \"11\": 43, \"14\": 1, \"3\": 1}, \"14\": {\"2\": 92, \"14\": 992, \"5\": 46, \"11\": 22, \"0\": 40, \"7\": 4, \"4\": 4}, \"10\": {\"10\": 1196, \"1\": 4}, \"6\": {\"6\": 1200}, \"13\": {\"4\": 225, \"13\": 685, \"8\": 36, \"11\": 60, \"0\": 46, \"5\": 17, \"7\": 107, \"3\": 24}, \"9\": {\"9\": 1180, \"14\": 18, \"2\": 1, \"12\": 1}}, \"ORACLE.run2_8\": {\"9\": {\"9\": 1200}, \"11\": {\"15\": 201, \"11\": 578, \"8\": 270, \"12\": 149, \"6\": 1, \"7\": 1}, \"8\": {\"8\": 977, \"11\": 119, \"7\": 7, \"15\": 91, \"6\": 3, \"13\": 3}, \"4\": {\"7\": 247, \"4\": 455, \"14\": 25, \"6\": 385, \"2\": 84, \"0\": 4}, \"13\": {\"14\": 154, \"6\": 22, \"13\": 873, \"1\": 107, \"10\": 26, \"0\": 11, \"7\": 1, \"5\": 5, \"4\": 1}, \"14\": {\"14\": 763, \"10\": 70, \"0\": 180, \"13\": 135, \"6\": 37, \"4\": 13, \"7\": 2}, \"2\": {\"2\": 940, \"4\": 95, \"7\": 147, \"6\": 18}, \"3\": {\"3\": 1113, \"12\": 85, \"15\": 2}, \"1\": {\"13\": 104, \"1\": 1070, \"5\": 18, \"0\": 2, \"10\": 4, \"14\": 2}, \"0\": {\"14\": 183, \"10\": 191, \"0\": 807, \"4\": 7, \"5\": 6, \"6\": 2, \"13\": 4}, \"5\": {\"5\": 983, \"10\": 177, \"0\": 8, \"1\": 27, \"13\": 3, \"14\": 2}, \"15\": {\"15\": 726, \"12\": 172, \"8\": 130, \"11\": 161, \"7\": 7, \"3\": 3, \"6\": 1}, \"10\": {\"10\": 706, \"0\": 209, \"14\": 76, \"5\": 172, \"13\": 29, \"1\": 8}, \"12\": {\"12\": 953, \"3\": 70, \"15\": 141, \"11\": 36}, \"6\": {\"6\": 526, \"7\": 233, \"4\": 348, \"14\": 51, \"2\": 23, \"8\": 2, \"0\": 7, \"13\": 10}, \"7\": {\"4\": 227, \"6\": 218, \"7\": 612, \"2\": 135, \"8\": 4, \"14\": 1, \"0\": 1, \"11\": 1, \"15\": 1}}}, \"per_domain_accuracy\": {\"ORACLE.run1_26\": {\"accuracy\": 0.5597916666666667, \"source?\": true}, \"ORACLE.run1_44\": {\"accuracy\": 0.73046875, \"source?\": true}, \"ORACLE.run1_50\": {\"accuracy\": 0.79484375, \"source?\": true}, \"ORACLE.run1_38\": {\"accuracy\": 0.8080208333333333, \"source?\": true}, \"ORACLE.run1_20\": {\"accuracy\": 0.6767708333333333, \"source?\": true}, \"ORACLE.run1_14\": {\"accuracy\": 0.8276041666666667, \"source?\": true}, \"ORACLE.run1_32\": {\"accuracy\": 0.7784895833333333, \"source?\": true}, \"ORACLE.run1_8\": {\"accuracy\": 0.7017708333333333, \"source?\": true}, \"ORACLE.run2_26\": {\"accuracy\": 0.5717708333333333, \"source?\": false}, \"ORACLE.run2_44\": {\"accuracy\": 0.75984375, \"source?\": false}, \"ORACLE.run2_50\": {\"accuracy\": 0.8055208333333334, \"source?\": false}, \"ORACLE.run2_38\": {\"accuracy\": 0.6998958333333334, \"source?\": false}, \"ORACLE.run2_20\": {\"accuracy\": 0.6353645833333333, \"source?\": false}, \"ORACLE.run2_14\": {\"accuracy\": 0.8129166666666666, \"source?\": false}, \"ORACLE.run2_32\": {\"accuracy\": 0.7871354166666666, \"source?\": false}, \"ORACLE.run2_8\": {\"accuracy\": 0.6917708333333333, \"source?\": false}}}, \"history\": {\"epoch_indices\": [1, 2, 3, 4, 5, 6, 7, 8, 9, 10, 11, 12], \"train_label_loss\": [1.0625812462327027, 0.8300703999196135, 0.7446344650640995, 0.6613431684331348, 0.5969240832594889, 0.5427347171613724, 0.49612120697308065, 0.45670029361638065, 0.4237072282619331, 0.39308411920348935, 0.3672176515562127, 0.3425036932387212], \"source_val_label_loss\": [1.0042285919189453, 0.854768693447113, 0.8040714263916016, 0.7735477089881897, 0.7572688460350037, 0.7465686798095703, 0.7307544350624084, 0.7447949647903442, 0.7628415822982788, 0.774726390838623, 0.7895922660827637, 0.8157588243484497], \"target_val_label_loss\": [1.0444763898849487, 0.9157495498657227, 0.8768067359924316, 0.851349413394928, 0.8366131782531738, 0.8192226886749268, 0.8051131367683411, 0.8246085047721863, 0.8401544690132141, 0.8606142401695251, 0.8784831762313843, 0.9080725312232971], \"source_val_acc_label\": [0.6359375, 0.6775651041666667, 0.7024739583333334, 0.7155794270833333, 0.72283203125, 0.7310091145833333, 0.73298828125, 0.7347200520833334, 0.7328255208333333, 0.7341666666666666, 0.7295703125, 0.7291731770833333], \"target_val_acc_label\": [0.6186328125, 0.6580989583333333, 0.68546875, 0.6979752604166667, 0.7076171875, 0.7155338541666667, 0.7179361979166666, 0.72052734375, 0.71615234375, 0.7168684895833334, 0.7127408854166667, 0.7115755208333333]}, \"dataset_metrics\": {\"source\": {\"train\": {\"n_unique_x\": 896000, \"n_unique_y\": 16, \"n_batch/episode\": 33600}, \"val\": {\"n_unique_x\": 192000, \"n_unique_y\": 16, \"n_batch/episode\": 4800}, \"test\": {\"n_unique_x\": 192000, \"n_unique_y\": 16, \"n_batch/episode\": 4800}}, \"target\": {\"train\": {\"n_unique_x\": 896000, \"n_unique_y\": 16, \"n_batch/episode\": 33600}, \"val\": {\"n_unique_x\": 192000, \"n_unique_y\": 16, \"n_batch/episode\": 4800}, \"test\": {\"n_unique_x\": 192000, \"n_unique_y\": 16, \"n_batch/episode\": 4800}}}}'"
      ]
     },
     "execution_count": 29,
     "metadata": {},
     "output_type": "execute_result"
    }
   ],
   "source": [
    "json.dumps(experiment)"
   ]
  }
 ],
 "metadata": {
  "celltoolbar": "Tags",
  "kernelspec": {
   "display_name": "Python 3 (ipykernel)",
   "language": "python",
   "name": "python3"
  },
  "language_info": {
   "codemirror_mode": {
    "name": "ipython",
    "version": 3
   },
   "file_extension": ".py",
   "mimetype": "text/x-python",
   "name": "python",
   "nbconvert_exporter": "python",
   "pygments_lexer": "ipython3",
   "version": "3.8.10"
  },
  "papermill": {
   "default_parameters": {},
   "duration": 11595.31928,
   "end_time": "2022-03-27T15:50:50.192585",
   "environment_variables": {},
   "exception": null,
   "input_path": "/mnt/wd500GB/CSC500/csc500-main/csc500-notebooks/templates/tl_ptn_template.ipynb",
   "output_path": "trial.ipynb",
   "parameters": {
    "parameters": {
     "BEST_MODEL_PATH": "./best_model.pth",
     "NUM_LOGS_PER_EPOCH": 10,
     "criteria_for_best": "target_accuracy",
     "dataset_seed": 7,
     "datasets": [
      {
       "domain_prefix": "ORACLE.run1_",
       "domains": [
        32,
        38,
        8,
        44,
        14,
        50,
        20,
        26
       ],
       "episode_transforms": [],
       "labels": [
        "3123D52",
        "3123D65",
        "3123D79",
        "3123D80",
        "3123D54",
        "3123D70",
        "3123D7B",
        "3123D89",
        "3123D58",
        "3123D76",
        "3123D7D",
        "3123EFE",
        "3123D64",
        "3123D78",
        "3123D7E",
        "3124E4A"
       ],
       "num_examples_per_domain_per_label": 10000,
       "pickle_path": "/mnt/wd500GB/CSC500/csc500-main/datasets/oracle.Run1_10kExamples_stratified_ds.2022A.pkl",
       "source_or_target_dataset": "source",
       "x_transforms": [
        "unit_power"
       ]
      },
      {
       "domain_prefix": "ORACLE.run2_",
       "domains": [
        32,
        38,
        8,
        44,
        14,
        50,
        20,
        26
       ],
       "episode_transforms": [],
       "labels": [
        "3123D52",
        "3123D65",
        "3123D79",
        "3123D80",
        "3123D54",
        "3123D70",
        "3123D7B",
        "3123D89",
        "3123D58",
        "3123D76",
        "3123D7D",
        "3123EFE",
        "3123D64",
        "3123D78",
        "3123D7E",
        "3124E4A"
       ],
       "num_examples_per_domain_per_label": 10000,
       "pickle_path": "/mnt/wd500GB/CSC500/csc500-main/datasets/oracle.Run2_10kExamples_stratified_ds.2022A.pkl",
       "source_or_target_dataset": "target",
       "x_transforms": [
        "unit_power"
       ]
      }
     ],
     "device": "cuda",
     "experiment_name": "tl_1v2:oracle.run1-oracle.run2",
     "lr": 0.0001,
     "n_epoch": 50,
     "n_query": 2,
     "n_shot": 3,
     "n_way": 16,
     "patience": 3,
     "seed": 7,
     "test_k_factor": 2,
     "torch_default_dtype": "torch.float32",
     "train_k_factor": 3,
     "val_k_factor": 2,
     "x_net": [
      {
       "class": "nnReshape",
       "kargs": {
        "shape": [
         -1,
         1,
         2,
         256
        ]
       }
      },
      {
       "class": "Conv2d",
       "kargs": {
        "bias": false,
        "in_channels": 1,
        "kernel_size": [
         1,
         7
        ],
        "out_channels": 256,
        "padding": [
         0,
         3
        ]
       }
      },
      {
       "class": "ReLU",
       "kargs": {
        "inplace": true
       }
      },
      {
       "class": "BatchNorm2d",
       "kargs": {
        "num_features": 256
       }
      },
      {
       "class": "Conv2d",
       "kargs": {
        "bias": true,
        "in_channels": 256,
        "kernel_size": [
         2,
         7
        ],
        "out_channels": 80,
        "padding": [
         0,
         3
        ]
       }
      },
      {
       "class": "ReLU",
       "kargs": {
        "inplace": true
       }
      },
      {
       "class": "BatchNorm2d",
       "kargs": {
        "num_features": 80
       }
      },
      {
       "class": "Flatten",
       "kargs": {}
      },
      {
       "class": "Linear",
       "kargs": {
        "in_features": 20480,
        "out_features": 256
       }
      },
      {
       "class": "ReLU",
       "kargs": {
        "inplace": true
       }
      },
      {
       "class": "BatchNorm1d",
       "kargs": {
        "num_features": 256
       }
      },
      {
       "class": "Linear",
       "kargs": {
        "in_features": 256,
        "out_features": 256
       }
      }
     ]
    }
   },
   "start_time": "2022-03-27T12:37:34.873305",
   "version": "2.3.4"
  }
 },
 "nbformat": 4,
 "nbformat_minor": 5
}