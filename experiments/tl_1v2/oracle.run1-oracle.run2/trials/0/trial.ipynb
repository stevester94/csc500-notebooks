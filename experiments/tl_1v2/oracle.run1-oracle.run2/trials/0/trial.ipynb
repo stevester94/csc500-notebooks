{
 "cells": [
  {
   "cell_type": "markdown",
   "id": "9fea5f46",
   "metadata": {
    "papermill": {
     "duration": 0.017583,
     "end_time": "2022-03-23T03:35:10.987552",
     "exception": false,
     "start_time": "2022-03-23T03:35:10.969969",
     "status": "completed"
    },
    "tags": []
   },
   "source": [
    "# Transfer Learning Template"
   ]
  },
  {
   "cell_type": "code",
   "execution_count": 1,
   "id": "0902182a",
   "metadata": {
    "execution": {
     "iopub.execute_input": "2022-03-23T03:35:11.030271Z",
     "iopub.status.busy": "2022-03-23T03:35:11.029685Z",
     "iopub.status.idle": "2022-03-23T03:35:12.069702Z",
     "shell.execute_reply": "2022-03-23T03:35:12.069181Z"
    },
    "papermill": {
     "duration": 1.067285,
     "end_time": "2022-03-23T03:35:12.069816",
     "exception": false,
     "start_time": "2022-03-23T03:35:11.002531",
     "status": "completed"
    },
    "tags": []
   },
   "outputs": [],
   "source": [
    "%load_ext autoreload\n",
    "%autoreload 2\n",
    "%matplotlib inline\n",
    "\n",
    "    \n",
    "import os, json, sys, time, random\n",
    "import numpy as np\n",
    "import torch\n",
    "from torch.optim import Adam\n",
    "from  easydict import EasyDict\n",
    "import matplotlib.pyplot as plt\n",
    "\n",
    "from steves_models.steves_ptn import Steves_Prototypical_Network\n",
    "\n",
    "from steves_utils.lazy_iterable_wrapper import Lazy_Iterable_Wrapper\n",
    "from steves_utils.iterable_aggregator import Iterable_Aggregator\n",
    "from steves_utils.ptn_train_eval_test_jig import  PTN_Train_Eval_Test_Jig\n",
    "from steves_utils.torch_sequential_builder import build_sequential\n",
    "from steves_utils.torch_utils import get_dataset_metrics, ptn_confusion_by_domain_over_dataloader\n",
    "from steves_utils.utils_v2 import (per_domain_accuracy_from_confusion, get_datasets_base_path)\n",
    "from steves_utils.PTN.utils import independent_accuracy_assesment\n",
    "\n",
    "from torch.utils.data import DataLoader\n",
    "\n",
    "from steves_utils.stratified_dataset.episodic_accessor import Episodic_Accessor_Factory\n",
    "\n",
    "from steves_utils.ptn_do_report import (\n",
    "    get_loss_curve,\n",
    "    get_results_table,\n",
    "    get_parameters_table,\n",
    "    get_domain_accuracies,\n",
    ")\n",
    "\n",
    "from steves_utils.transforms import get_chained_transform"
   ]
  },
  {
   "cell_type": "markdown",
   "id": "41c840b4",
   "metadata": {
    "papermill": {
     "duration": 0.013134,
     "end_time": "2022-03-23T03:35:12.101845",
     "exception": false,
     "start_time": "2022-03-23T03:35:12.088711",
     "status": "completed"
    },
    "tags": []
   },
   "source": [
    "# Allowed Parameters\n",
    "These are allowed parameters, not defaults\n",
    "Each of these values need to be present in the injected parameters (the notebook will raise an exception if they are not present)\n",
    "\n",
    "Papermill uses the cell tag \"parameters\" to inject the real parameters below this cell.\n",
    "Enable tags to see what I mean"
   ]
  },
  {
   "cell_type": "code",
   "execution_count": 2,
   "id": "fd44eb83",
   "metadata": {
    "execution": {
     "iopub.execute_input": "2022-03-23T03:35:12.134163Z",
     "iopub.status.busy": "2022-03-23T03:35:12.133837Z",
     "iopub.status.idle": "2022-03-23T03:35:12.148772Z",
     "shell.execute_reply": "2022-03-23T03:35:12.149084Z"
    },
    "papermill": {
     "duration": 0.032546,
     "end_time": "2022-03-23T03:35:12.149203",
     "exception": false,
     "start_time": "2022-03-23T03:35:12.116657",
     "status": "completed"
    },
    "tags": []
   },
   "outputs": [],
   "source": [
    "required_parameters = {\n",
    "    \"experiment_name\",\n",
    "    \"lr\",\n",
    "    \"device\",\n",
    "    \"seed\",\n",
    "    \"dataset_seed\",\n",
    "    \"n_shot\",\n",
    "    \"n_query\",\n",
    "    \"n_way\",\n",
    "    \"train_k_factor\",\n",
    "    \"val_k_factor\",\n",
    "    \"test_k_factor\",\n",
    "    \"n_epoch\",\n",
    "    \"patience\",\n",
    "    \"criteria_for_best\",\n",
    "    \"x_net\",\n",
    "    \"datasets\",\n",
    "    \"torch_default_dtype\",\n",
    "    \"NUM_LOGS_PER_EPOCH\",\n",
    "    \"BEST_MODEL_PATH\",\n",
    "    \"x_shape\",\n",
    "}"
   ]
  },
  {
   "cell_type": "code",
   "execution_count": 3,
   "id": "fa3f0049",
   "metadata": {
    "execution": {
     "iopub.execute_input": "2022-03-23T03:35:12.189596Z",
     "iopub.status.busy": "2022-03-23T03:35:12.187896Z",
     "iopub.status.idle": "2022-03-23T03:35:12.203015Z",
     "shell.execute_reply": "2022-03-23T03:35:12.202500Z"
    },
    "papermill": {
     "duration": 0.035649,
     "end_time": "2022-03-23T03:35:12.203131",
     "exception": false,
     "start_time": "2022-03-23T03:35:12.167482",
     "status": "completed"
    },
    "tags": [
     "parameters"
    ]
   },
   "outputs": [],
   "source": [
    "from steves_utils.CORES.utils import (\n",
    "    ALL_NODES,\n",
    "    ALL_NODES_MINIMUM_1000_EXAMPLES,\n",
    "    ALL_DAYS\n",
    ")\n",
    "\n",
    "from steves_utils.ORACLE.utils_v2 import (\n",
    "    ALL_DISTANCES_FEET_NARROWED,\n",
    "    ALL_RUNS,\n",
    "    ALL_SERIAL_NUMBERS,\n",
    ")\n",
    "\n",
    "standalone_parameters = {}\n",
    "standalone_parameters[\"experiment_name\"] = \"STANDALONE PTN\"\n",
    "standalone_parameters[\"lr\"] = 0.001\n",
    "standalone_parameters[\"device\"] = \"cuda\"\n",
    "\n",
    "standalone_parameters[\"seed\"] = 1337\n",
    "standalone_parameters[\"dataset_seed\"] = 1337\n",
    "\n",
    "standalone_parameters[\"n_way\"] = 8\n",
    "standalone_parameters[\"n_shot\"] = 3\n",
    "standalone_parameters[\"n_query\"]  = 2\n",
    "standalone_parameters[\"train_k_factor\"] = 1\n",
    "standalone_parameters[\"val_k_factor\"] = 2\n",
    "standalone_parameters[\"test_k_factor\"] = 2\n",
    "\n",
    "\n",
    "standalone_parameters[\"n_epoch\"] = 50\n",
    "\n",
    "standalone_parameters[\"patience\"] = 10\n",
    "standalone_parameters[\"criteria_for_best\"] = \"source_loss\"\n",
    "\n",
    "standalone_parameters[\"datasets\"] = [\n",
    "    {\n",
    "        \"labels\": ALL_SERIAL_NUMBERS,\n",
    "        \"domains\": ALL_DISTANCES_FEET_NARROWED,\n",
    "        \"num_examples_per_domain_per_label\": 100,\n",
    "        \"pickle_path\": os.path.join(get_datasets_base_path(), \"oracle.Run1_framed_2000Examples_stratified_ds.2022A.pkl\"),\n",
    "        \"source_or_target_dataset\": \"source\",\n",
    "        \"x_transforms\": [\"unit_mag\", \"minus_two\"],\n",
    "        \"episode_transforms\": [],\n",
    "        \"domain_prefix\": \"ORACLE_\"\n",
    "    },\n",
    "    {\n",
    "        \"labels\": ALL_NODES,\n",
    "        \"domains\": ALL_DAYS,\n",
    "        \"num_examples_per_domain_per_label\": 100,\n",
    "        \"pickle_path\": os.path.join(get_datasets_base_path(), \"cores.stratified_ds.2022A.pkl\"),\n",
    "        \"source_or_target_dataset\": \"target\",\n",
    "        \"x_transforms\": [\"unit_power\", \"times_zero\"],\n",
    "        \"episode_transforms\": [],\n",
    "        \"domain_prefix\": \"CORES_\"\n",
    "    }   \n",
    "]\n",
    "\n",
    "standalone_parameters[\"torch_default_dtype\"] = \"torch.float32\" \n",
    "\n",
    "\n",
    "\n",
    "standalone_parameters[\"x_net\"] =     [\n",
    "    {\"class\": \"nnReshape\", \"kargs\": {\"shape\":[-1, 1, 2, 256]}},\n",
    "    {\"class\": \"Conv2d\", \"kargs\": { \"in_channels\":1, \"out_channels\":256, \"kernel_size\":(1,7), \"bias\":False, \"padding\":(0,3), },},\n",
    "    {\"class\": \"ReLU\", \"kargs\": {\"inplace\": True}},\n",
    "    {\"class\": \"BatchNorm2d\", \"kargs\": {\"num_features\":256}},\n",
    "\n",
    "    {\"class\": \"Conv2d\", \"kargs\": { \"in_channels\":256, \"out_channels\":80, \"kernel_size\":(2,7), \"bias\":True, \"padding\":(0,3), },},\n",
    "    {\"class\": \"ReLU\", \"kargs\": {\"inplace\": True}},\n",
    "    {\"class\": \"BatchNorm2d\", \"kargs\": {\"num_features\":80}},\n",
    "    {\"class\": \"Flatten\", \"kargs\": {}},\n",
    "\n",
    "    {\"class\": \"Linear\", \"kargs\": {\"in_features\": 80*256, \"out_features\": 256}}, # 80 units per IQ pair\n",
    "    {\"class\": \"ReLU\", \"kargs\": {\"inplace\": True}},\n",
    "    {\"class\": \"BatchNorm1d\", \"kargs\": {\"num_features\":256}},\n",
    "\n",
    "    {\"class\": \"Linear\", \"kargs\": {\"in_features\": 256, \"out_features\": 256}},\n",
    "]\n",
    "\n",
    "# Parameters relevant to results\n",
    "# These parameters will basically never need to change\n",
    "standalone_parameters[\"NUM_LOGS_PER_EPOCH\"] = 10\n",
    "standalone_parameters[\"BEST_MODEL_PATH\"] = \"./best_model.pth\"\n",
    "\n",
    "\n",
    "\n",
    "\n"
   ]
  },
  {
   "cell_type": "code",
   "execution_count": 4,
   "id": "8870d687",
   "metadata": {
    "execution": {
     "iopub.execute_input": "2022-03-23T03:35:12.245795Z",
     "iopub.status.busy": "2022-03-23T03:35:12.245475Z",
     "iopub.status.idle": "2022-03-23T03:35:12.259247Z",
     "shell.execute_reply": "2022-03-23T03:35:12.258776Z"
    },
    "papermill": {
     "duration": 0.037459,
     "end_time": "2022-03-23T03:35:12.259359",
     "exception": false,
     "start_time": "2022-03-23T03:35:12.221900",
     "status": "completed"
    },
    "tags": [
     "injected-parameters"
    ]
   },
   "outputs": [],
   "source": [
    "# Parameters\n",
    "parameters = {\n",
    "    \"experiment_name\": \"tl_1v2:oracle.run1-oracle.run2\",\n",
    "    \"device\": \"cuda\",\n",
    "    \"lr\": 0.0001,\n",
    "    \"n_shot\": 3,\n",
    "    \"n_query\": 2,\n",
    "    \"train_k_factor\": 3,\n",
    "    \"val_k_factor\": 2,\n",
    "    \"test_k_factor\": 2,\n",
    "    \"torch_default_dtype\": \"torch.float32\",\n",
    "    \"n_epoch\": 50,\n",
    "    \"patience\": 3,\n",
    "    \"criteria_for_best\": \"target_accuracy\",\n",
    "    \"x_net\": [\n",
    "        {\"class\": \"nnReshape\", \"kargs\": {\"shape\": [-1, 1, 2, 256]}},\n",
    "        {\n",
    "            \"class\": \"Conv2d\",\n",
    "            \"kargs\": {\n",
    "                \"in_channels\": 1,\n",
    "                \"out_channels\": 256,\n",
    "                \"kernel_size\": [1, 7],\n",
    "                \"bias\": False,\n",
    "                \"padding\": [0, 3],\n",
    "            },\n",
    "        },\n",
    "        {\"class\": \"ReLU\", \"kargs\": {\"inplace\": True}},\n",
    "        {\"class\": \"BatchNorm2d\", \"kargs\": {\"num_features\": 256}},\n",
    "        {\n",
    "            \"class\": \"Conv2d\",\n",
    "            \"kargs\": {\n",
    "                \"in_channels\": 256,\n",
    "                \"out_channels\": 80,\n",
    "                \"kernel_size\": [2, 7],\n",
    "                \"bias\": True,\n",
    "                \"padding\": [0, 3],\n",
    "            },\n",
    "        },\n",
    "        {\"class\": \"ReLU\", \"kargs\": {\"inplace\": True}},\n",
    "        {\"class\": \"BatchNorm2d\", \"kargs\": {\"num_features\": 80}},\n",
    "        {\"class\": \"Flatten\", \"kargs\": {}},\n",
    "        {\"class\": \"Linear\", \"kargs\": {\"in_features\": 20480, \"out_features\": 256}},\n",
    "        {\"class\": \"ReLU\", \"kargs\": {\"inplace\": True}},\n",
    "        {\"class\": \"BatchNorm1d\", \"kargs\": {\"num_features\": 256}},\n",
    "        {\"class\": \"Linear\", \"kargs\": {\"in_features\": 256, \"out_features\": 256}},\n",
    "    ],\n",
    "    \"NUM_LOGS_PER_EPOCH\": 10,\n",
    "    \"BEST_MODEL_PATH\": \"./best_model.pth\",\n",
    "    \"n_way\": 16,\n",
    "    \"datasets\": [\n",
    "        {\n",
    "            \"labels\": [\n",
    "                \"3123D52\",\n",
    "                \"3123D65\",\n",
    "                \"3123D79\",\n",
    "                \"3123D80\",\n",
    "                \"3123D54\",\n",
    "                \"3123D70\",\n",
    "                \"3123D7B\",\n",
    "                \"3123D89\",\n",
    "                \"3123D58\",\n",
    "                \"3123D76\",\n",
    "                \"3123D7D\",\n",
    "                \"3123EFE\",\n",
    "                \"3123D64\",\n",
    "                \"3123D78\",\n",
    "                \"3123D7E\",\n",
    "                \"3124E4A\",\n",
    "            ],\n",
    "            \"domains\": [32, 38, 8, 44, 14, 50, 20, 26],\n",
    "            \"num_examples_per_domain_per_label\": 10000,\n",
    "            \"pickle_path\": \"/mnt/wd500GB/CSC500/csc500-main/datasets/oracle.Run1_10kExamples_stratified_ds.2022A.pkl\",\n",
    "            \"source_or_target_dataset\": \"source\",\n",
    "            \"x_transforms\": [\"unit_power\"],\n",
    "            \"episode_transforms\": [],\n",
    "            \"domain_prefix\": \"ORACLE.run1_\",\n",
    "        },\n",
    "        {\n",
    "            \"labels\": [\n",
    "                \"3123D52\",\n",
    "                \"3123D65\",\n",
    "                \"3123D79\",\n",
    "                \"3123D80\",\n",
    "                \"3123D54\",\n",
    "                \"3123D70\",\n",
    "                \"3123D7B\",\n",
    "                \"3123D89\",\n",
    "                \"3123D58\",\n",
    "                \"3123D76\",\n",
    "                \"3123D7D\",\n",
    "                \"3123EFE\",\n",
    "                \"3123D64\",\n",
    "                \"3123D78\",\n",
    "                \"3123D7E\",\n",
    "                \"3124E4A\",\n",
    "            ],\n",
    "            \"domains\": [32, 38, 8, 44, 14, 50, 20, 26],\n",
    "            \"num_examples_per_domain_per_label\": 10000,\n",
    "            \"pickle_path\": \"/mnt/wd500GB/CSC500/csc500-main/datasets/oracle.Run2_10kExamples_stratified_ds.2022A.pkl\",\n",
    "            \"source_or_target_dataset\": \"target\",\n",
    "            \"x_transforms\": [\"unit_power\"],\n",
    "            \"episode_transforms\": [],\n",
    "            \"domain_prefix\": \"ORACLE.run2_\",\n",
    "        },\n",
    "    ],\n",
    "    \"dataset_seed\": 1337,\n",
    "    \"seed\": 1337,\n",
    "}\n"
   ]
  },
  {
   "cell_type": "code",
   "execution_count": 5,
   "id": "8fa1cc33",
   "metadata": {
    "execution": {
     "iopub.execute_input": "2022-03-23T03:35:12.295695Z",
     "iopub.status.busy": "2022-03-23T03:35:12.295430Z",
     "iopub.status.idle": "2022-03-23T03:35:12.311122Z",
     "shell.execute_reply": "2022-03-23T03:35:12.310655Z"
    },
    "papermill": {
     "duration": 0.033481,
     "end_time": "2022-03-23T03:35:12.311229",
     "exception": false,
     "start_time": "2022-03-23T03:35:12.277748",
     "status": "completed"
    },
    "tags": []
   },
   "outputs": [],
   "source": [
    "# Set this to True if you want to run this template directly\n",
    "STANDALONE = False\n",
    "if STANDALONE:\n",
    "    print(\"parameters not injected, running with standalone_parameters\")\n",
    "    parameters = standalone_parameters\n",
    "\n",
    "if not 'parameters' in locals() and not 'parameters' in globals():\n",
    "    raise Exception(\"Parameter injection failed\")\n",
    "\n",
    "#Use an easy dict for all the parameters\n",
    "p = EasyDict(parameters)\n",
    "\n",
    "if \"x_shape\" not in p:\n",
    "    p.x_shape = [2,256] # Default to this if we dont supply x_shape\n",
    "\n",
    "\n",
    "supplied_keys = set(p.keys())\n",
    "\n",
    "if  supplied_keys != required_parameters:\n",
    "    print(\"Parameters are incorrect\")\n",
    "    if len(supplied_keys - required_parameters)>0: print(\"Shouldn't have:\", str(supplied_keys - required_parameters))\n",
    "    if len(required_parameters - supplied_keys)>0: print(\"Need to have:\", str(required_parameters - supplied_keys))\n",
    "    raise RuntimeError(\"Parameters are incorrect\")"
   ]
  },
  {
   "cell_type": "code",
   "execution_count": 6,
   "id": "3a028d58",
   "metadata": {
    "execution": {
     "iopub.execute_input": "2022-03-23T03:35:12.352929Z",
     "iopub.status.busy": "2022-03-23T03:35:12.352651Z",
     "iopub.status.idle": "2022-03-23T03:35:12.367780Z",
     "shell.execute_reply": "2022-03-23T03:35:12.368173Z"
    },
    "papermill": {
     "duration": 0.038475,
     "end_time": "2022-03-23T03:35:12.368318",
     "exception": false,
     "start_time": "2022-03-23T03:35:12.329843",
     "status": "completed"
    },
    "tags": []
   },
   "outputs": [],
   "source": [
    "###################################\n",
    "# Set the RNGs and make it all deterministic\n",
    "###################################\n",
    "np.random.seed(p.seed)\n",
    "random.seed(p.seed)\n",
    "torch.manual_seed(p.seed)\n",
    "\n",
    "torch.use_deterministic_algorithms(True) "
   ]
  },
  {
   "cell_type": "code",
   "execution_count": 7,
   "id": "b691acf6",
   "metadata": {
    "execution": {
     "iopub.execute_input": "2022-03-23T03:35:12.401899Z",
     "iopub.status.busy": "2022-03-23T03:35:12.401589Z",
     "iopub.status.idle": "2022-03-23T03:35:12.418347Z",
     "shell.execute_reply": "2022-03-23T03:35:12.418764Z"
    },
    "papermill": {
     "duration": 0.033942,
     "end_time": "2022-03-23T03:35:12.418898",
     "exception": false,
     "start_time": "2022-03-23T03:35:12.384956",
     "status": "completed"
    },
    "tags": []
   },
   "outputs": [],
   "source": [
    "###########################################\n",
    "# The stratified datasets honor this\n",
    "###########################################\n",
    "torch.set_default_dtype(eval(p.torch_default_dtype))"
   ]
  },
  {
   "cell_type": "code",
   "execution_count": 8,
   "id": "b5fba671",
   "metadata": {
    "execution": {
     "iopub.execute_input": "2022-03-23T03:35:12.451267Z",
     "iopub.status.busy": "2022-03-23T03:35:12.450988Z",
     "iopub.status.idle": "2022-03-23T03:35:12.492746Z",
     "shell.execute_reply": "2022-03-23T03:35:12.493082Z"
    },
    "papermill": {
     "duration": 0.057684,
     "end_time": "2022-03-23T03:35:12.493197",
     "exception": false,
     "start_time": "2022-03-23T03:35:12.435513",
     "status": "completed"
    },
    "tags": []
   },
   "outputs": [],
   "source": [
    "###################################\n",
    "# Build the network(s)\n",
    "# Note: It's critical to do this AFTER setting the RNG\n",
    "###################################\n",
    "x_net = build_sequential(p.x_net)"
   ]
  },
  {
   "cell_type": "code",
   "execution_count": 9,
   "id": "5d7e61cc",
   "metadata": {
    "execution": {
     "iopub.execute_input": "2022-03-23T03:35:12.524658Z",
     "iopub.status.busy": "2022-03-23T03:35:12.524390Z",
     "iopub.status.idle": "2022-03-23T03:35:12.540486Z",
     "shell.execute_reply": "2022-03-23T03:35:12.540865Z"
    },
    "papermill": {
     "duration": 0.032249,
     "end_time": "2022-03-23T03:35:12.540975",
     "exception": false,
     "start_time": "2022-03-23T03:35:12.508726",
     "status": "completed"
    },
    "tags": []
   },
   "outputs": [],
   "source": [
    "start_time_secs = time.time()"
   ]
  },
  {
   "cell_type": "code",
   "execution_count": 10,
   "id": "c6b67dfd",
   "metadata": {
    "execution": {
     "iopub.execute_input": "2022-03-23T03:35:12.574670Z",
     "iopub.status.busy": "2022-03-23T03:35:12.574412Z",
     "iopub.status.idle": "2022-03-23T03:35:12.588462Z",
     "shell.execute_reply": "2022-03-23T03:35:12.588841Z"
    },
    "papermill": {
     "duration": 0.030464,
     "end_time": "2022-03-23T03:35:12.588948",
     "exception": false,
     "start_time": "2022-03-23T03:35:12.558484",
     "status": "completed"
    },
    "tags": []
   },
   "outputs": [],
   "source": [
    "p.domains_source = []\n",
    "p.domains_target = []\n",
    "\n",
    "\n",
    "train_original_source = []\n",
    "val_original_source   = []\n",
    "test_original_source  = []\n",
    "\n",
    "train_original_target = []\n",
    "val_original_target   = []\n",
    "test_original_target  = []"
   ]
  },
  {
   "cell_type": "code",
   "execution_count": 11,
   "id": "e3d9c3d3",
   "metadata": {
    "execution": {
     "iopub.execute_input": "2022-03-23T03:35:12.623303Z",
     "iopub.status.busy": "2022-03-23T03:35:12.623043Z",
     "iopub.status.idle": "2022-03-23T03:35:12.640201Z",
     "shell.execute_reply": "2022-03-23T03:35:12.639744Z"
    },
    "papermill": {
     "duration": 0.033911,
     "end_time": "2022-03-23T03:35:12.640305",
     "exception": false,
     "start_time": "2022-03-23T03:35:12.606394",
     "status": "completed"
    },
    "tags": []
   },
   "outputs": [],
   "source": [
    "# global_x_transform_func = lambda x: normalize(x.to(torch.get_default_dtype()), \"unit_power\") # unit_power, unit_mag\n",
    "# global_x_transform_func = lambda x: normalize(x, \"unit_power\") # unit_power, unit_mag"
   ]
  },
  {
   "cell_type": "code",
   "execution_count": 12,
   "id": "acb78fd2",
   "metadata": {
    "execution": {
     "iopub.execute_input": "2022-03-23T03:35:12.679673Z",
     "iopub.status.busy": "2022-03-23T03:35:12.679399Z",
     "iopub.status.idle": "2022-03-23T03:35:12.693342Z",
     "shell.execute_reply": "2022-03-23T03:35:12.693553Z"
    },
    "papermill": {
     "duration": 0.035393,
     "end_time": "2022-03-23T03:35:12.693615",
     "exception": false,
     "start_time": "2022-03-23T03:35:12.658222",
     "status": "completed"
    },
    "tags": []
   },
   "outputs": [],
   "source": [
    "def add_dataset(\n",
    "    labels,\n",
    "    domains,\n",
    "    pickle_path,\n",
    "    x_transforms,\n",
    "    episode_transforms,\n",
    "    domain_prefix,\n",
    "    num_examples_per_domain_per_label,\n",
    "    source_or_target_dataset:str,\n",
    "    iterator_seed=p.seed,\n",
    "    dataset_seed=p.dataset_seed,\n",
    "    n_shot=p.n_shot,\n",
    "    n_way=p.n_way,\n",
    "    n_query=p.n_query,\n",
    "    train_val_test_k_factors=(p.train_k_factor,p.val_k_factor,p.test_k_factor),\n",
    "):\n",
    "   \n",
    "    if x_transforms == []: x_transform = None\n",
    "    else: x_transform = get_chained_transform(x_transforms)\n",
    "    \n",
    "    if episode_transforms == []: episode_transform = None\n",
    "    else: raise Exception(\"episode_transforms not implemented\")\n",
    "    \n",
    "    episode_transform = lambda tup, _prefix=domain_prefix: (_prefix + str(tup[0]), tup[1])\n",
    "\n",
    "\n",
    "    eaf = Episodic_Accessor_Factory(\n",
    "        labels=labels,\n",
    "        domains=domains,\n",
    "        num_examples_per_domain_per_label=num_examples_per_domain_per_label,\n",
    "        iterator_seed=iterator_seed,\n",
    "        dataset_seed=dataset_seed,\n",
    "        n_shot=n_shot,\n",
    "        n_way=n_way,\n",
    "        n_query=n_query,\n",
    "        train_val_test_k_factors=train_val_test_k_factors,\n",
    "        pickle_path=pickle_path,\n",
    "        x_transform_func=x_transform,\n",
    "    )\n",
    "\n",
    "    train, val, test = eaf.get_train(), eaf.get_val(), eaf.get_test()\n",
    "    train = Lazy_Iterable_Wrapper(train, episode_transform)\n",
    "    val = Lazy_Iterable_Wrapper(val, episode_transform)\n",
    "    test = Lazy_Iterable_Wrapper(test, episode_transform)\n",
    "\n",
    "    if source_or_target_dataset==\"source\":\n",
    "        train_original_source.append(train)\n",
    "        val_original_source.append(val)\n",
    "        test_original_source.append(test)\n",
    "\n",
    "        p.domains_source.extend(\n",
    "            [domain_prefix + str(u) for u in domains]\n",
    "        )\n",
    "    elif source_or_target_dataset==\"target\":\n",
    "        train_original_target.append(train)\n",
    "        val_original_target.append(val)\n",
    "        test_original_target.append(test)\n",
    "        p.domains_target.extend(\n",
    "            [domain_prefix + str(u) for u in domains]\n",
    "        )\n",
    "    else:\n",
    "        raise Exception(f\"invalid source_or_target_dataset: {source_or_target_dataset}\")\n",
    "    "
   ]
  },
  {
   "cell_type": "code",
   "execution_count": 13,
   "id": "fe266617",
   "metadata": {
    "execution": {
     "iopub.execute_input": "2022-03-23T03:35:12.723000Z",
     "iopub.status.busy": "2022-03-23T03:35:12.722747Z",
     "iopub.status.idle": "2022-03-23T03:38:09.138815Z",
     "shell.execute_reply": "2022-03-23T03:38:09.138359Z"
    },
    "papermill": {
     "duration": 176.43188,
     "end_time": "2022-03-23T03:38:09.138945",
     "exception": false,
     "start_time": "2022-03-23T03:35:12.707065",
     "status": "completed"
    },
    "tags": []
   },
   "outputs": [],
   "source": [
    "for ds in p.datasets:\n",
    "    add_dataset(**ds)"
   ]
  },
  {
   "cell_type": "code",
   "execution_count": 14,
   "id": "b90d65ac",
   "metadata": {
    "execution": {
     "iopub.execute_input": "2022-03-23T03:38:09.178815Z",
     "iopub.status.busy": "2022-03-23T03:38:09.173089Z",
     "iopub.status.idle": "2022-03-23T03:38:09.189377Z",
     "shell.execute_reply": "2022-03-23T03:38:09.188928Z"
    },
    "papermill": {
     "duration": 0.03236,
     "end_time": "2022-03-23T03:38:09.189475",
     "exception": false,
     "start_time": "2022-03-23T03:38:09.157115",
     "status": "completed"
    },
    "tags": []
   },
   "outputs": [],
   "source": [
    "# from steves_utils.CORES.utils import (\n",
    "#     ALL_NODES,\n",
    "#     ALL_NODES_MINIMUM_1000_EXAMPLES,\n",
    "#     ALL_DAYS\n",
    "# )\n",
    "\n",
    "# add_dataset(\n",
    "#     labels=ALL_NODES,\n",
    "#     domains = ALL_DAYS,\n",
    "#     num_examples_per_domain_per_label=100,\n",
    "#     pickle_path=os.path.join(get_datasets_base_path(), \"cores.stratified_ds.2022A.pkl\"),\n",
    "#     source_or_target_dataset=\"target\",\n",
    "#     x_transform_func=global_x_transform_func,\n",
    "#     domain_modifier=lambda u: f\"cores_{u}\"\n",
    "# )"
   ]
  },
  {
   "cell_type": "code",
   "execution_count": 15,
   "id": "76db484d",
   "metadata": {
    "execution": {
     "iopub.execute_input": "2022-03-23T03:38:09.227447Z",
     "iopub.status.busy": "2022-03-23T03:38:09.223279Z",
     "iopub.status.idle": "2022-03-23T03:38:09.238322Z",
     "shell.execute_reply": "2022-03-23T03:38:09.237964Z"
    },
    "papermill": {
     "duration": 0.030683,
     "end_time": "2022-03-23T03:38:09.238422",
     "exception": false,
     "start_time": "2022-03-23T03:38:09.207739",
     "status": "completed"
    },
    "tags": []
   },
   "outputs": [],
   "source": [
    "# from steves_utils.ORACLE.utils_v2 import (\n",
    "#     ALL_DISTANCES_FEET,\n",
    "#     ALL_RUNS,\n",
    "#     ALL_SERIAL_NUMBERS,\n",
    "# )\n",
    "\n",
    "\n",
    "# add_dataset(\n",
    "#     labels=ALL_SERIAL_NUMBERS,\n",
    "#     domains = list(set(ALL_DISTANCES_FEET) - {2,62}),\n",
    "#     num_examples_per_domain_per_label=100,\n",
    "#     pickle_path=os.path.join(get_datasets_base_path(), \"oracle.Run2_framed_2000Examples_stratified_ds.2022A.pkl\"),\n",
    "#     source_or_target_dataset=\"source\",\n",
    "#     x_transform_func=global_x_transform_func,\n",
    "#     domain_modifier=lambda u: f\"oracle1_{u}\"\n",
    "# )\n"
   ]
  },
  {
   "cell_type": "code",
   "execution_count": 16,
   "id": "97dea9d2",
   "metadata": {
    "execution": {
     "iopub.execute_input": "2022-03-23T03:38:09.277002Z",
     "iopub.status.busy": "2022-03-23T03:38:09.271635Z",
     "iopub.status.idle": "2022-03-23T03:38:09.286101Z",
     "shell.execute_reply": "2022-03-23T03:38:09.285725Z"
    },
    "papermill": {
     "duration": 0.030054,
     "end_time": "2022-03-23T03:38:09.286175",
     "exception": false,
     "start_time": "2022-03-23T03:38:09.256121",
     "status": "completed"
    },
    "tags": []
   },
   "outputs": [],
   "source": [
    "# from steves_utils.ORACLE.utils_v2 import (\n",
    "#     ALL_DISTANCES_FEET,\n",
    "#     ALL_RUNS,\n",
    "#     ALL_SERIAL_NUMBERS,\n",
    "# )\n",
    "\n",
    "\n",
    "# add_dataset(\n",
    "#     labels=ALL_SERIAL_NUMBERS,\n",
    "#     domains = list(set(ALL_DISTANCES_FEET) - {2,62,56}),\n",
    "#     num_examples_per_domain_per_label=100,\n",
    "#     pickle_path=os.path.join(get_datasets_base_path(), \"oracle.Run2_framed_2000Examples_stratified_ds.2022A.pkl\"),\n",
    "#     source_or_target_dataset=\"source\",\n",
    "#     x_transform_func=global_x_transform_func,\n",
    "#     domain_modifier=lambda u: f\"oracle2_{u}\"\n",
    "# )"
   ]
  },
  {
   "cell_type": "code",
   "execution_count": 17,
   "id": "6f289866",
   "metadata": {
    "execution": {
     "iopub.execute_input": "2022-03-23T03:38:09.327086Z",
     "iopub.status.busy": "2022-03-23T03:38:09.322053Z",
     "iopub.status.idle": "2022-03-23T03:38:09.333109Z",
     "shell.execute_reply": "2022-03-23T03:38:09.332675Z"
    },
    "papermill": {
     "duration": 0.029624,
     "end_time": "2022-03-23T03:38:09.333208",
     "exception": false,
     "start_time": "2022-03-23T03:38:09.303584",
     "status": "completed"
    },
    "tags": []
   },
   "outputs": [],
   "source": [
    "# add_dataset(\n",
    "#     labels=list(range(19)),\n",
    "#     domains = [0,1,2],\n",
    "#     num_examples_per_domain_per_label=100,\n",
    "#     pickle_path=os.path.join(get_datasets_base_path(), \"metehan.stratified_ds.2022A.pkl\"),\n",
    "#     source_or_target_dataset=\"target\",\n",
    "#     x_transform_func=global_x_transform_func,\n",
    "#     domain_modifier=lambda u: f\"met_{u}\"\n",
    "# )"
   ]
  },
  {
   "cell_type": "code",
   "execution_count": 18,
   "id": "86a863c3",
   "metadata": {
    "execution": {
     "iopub.execute_input": "2022-03-23T03:38:09.370377Z",
     "iopub.status.busy": "2022-03-23T03:38:09.365929Z",
     "iopub.status.idle": "2022-03-23T03:38:09.381542Z",
     "shell.execute_reply": "2022-03-23T03:38:09.381054Z"
    },
    "papermill": {
     "duration": 0.030404,
     "end_time": "2022-03-23T03:38:09.381640",
     "exception": false,
     "start_time": "2022-03-23T03:38:09.351236",
     "status": "completed"
    },
    "tags": []
   },
   "outputs": [],
   "source": [
    "# # from steves_utils.wisig.utils import (\n",
    "# #     ALL_NODES_MINIMUM_100_EXAMPLES,\n",
    "# #     ALL_NODES_MINIMUM_500_EXAMPLES,\n",
    "# #     ALL_NODES_MINIMUM_1000_EXAMPLES,\n",
    "# #     ALL_DAYS\n",
    "# # )\n",
    "\n",
    "# import steves_utils.wisig.utils as wisig\n",
    "\n",
    "\n",
    "# add_dataset(\n",
    "#     labels=wisig.ALL_NODES_MINIMUM_100_EXAMPLES,\n",
    "#     domains = wisig.ALL_DAYS,\n",
    "#     num_examples_per_domain_per_label=100,\n",
    "#     pickle_path=os.path.join(get_datasets_base_path(), \"wisig.node3-19.stratified_ds.2022A.pkl\"),\n",
    "#     source_or_target_dataset=\"target\",\n",
    "#     x_transform_func=global_x_transform_func,\n",
    "#     domain_modifier=lambda u: f\"wisig_{u}\"\n",
    "# )"
   ]
  },
  {
   "cell_type": "code",
   "execution_count": 19,
   "id": "fd5442bc",
   "metadata": {
    "execution": {
     "iopub.execute_input": "2022-03-23T03:38:09.426351Z",
     "iopub.status.busy": "2022-03-23T03:38:09.421232Z",
     "iopub.status.idle": "2022-03-23T03:38:09.434853Z",
     "shell.execute_reply": "2022-03-23T03:38:09.435238Z"
    },
    "papermill": {
     "duration": 0.035038,
     "end_time": "2022-03-23T03:38:09.435360",
     "exception": false,
     "start_time": "2022-03-23T03:38:09.400322",
     "status": "completed"
    },
    "tags": []
   },
   "outputs": [],
   "source": [
    "###################################\n",
    "# Build the dataset\n",
    "###################################\n",
    "train_original_source = Iterable_Aggregator(train_original_source, p.seed)\n",
    "val_original_source = Iterable_Aggregator(val_original_source, p.seed)\n",
    "test_original_source = Iterable_Aggregator(test_original_source, p.seed)\n",
    "\n",
    "\n",
    "train_original_target = Iterable_Aggregator(train_original_target, p.seed)\n",
    "val_original_target = Iterable_Aggregator(val_original_target, p.seed)\n",
    "test_original_target = Iterable_Aggregator(test_original_target, p.seed)\n",
    "\n",
    "# For CNN We only use X and Y. And we only train on the source.\n",
    "# Properly form the data using a transform lambda and Lazy_Iterable_Wrapper. Finally wrap them in a dataloader\n",
    "\n",
    "transform_lambda = lambda ex: ex[1] # Original is (<domain>, <episode>) so we strip down to episode only\n",
    "\n",
    "train_processed_source = Lazy_Iterable_Wrapper(train_original_source, transform_lambda)\n",
    "val_processed_source   = Lazy_Iterable_Wrapper(val_original_source, transform_lambda)\n",
    "test_processed_source  = Lazy_Iterable_Wrapper(test_original_source, transform_lambda)\n",
    "\n",
    "train_processed_target = Lazy_Iterable_Wrapper(train_original_target, transform_lambda)\n",
    "val_processed_target   = Lazy_Iterable_Wrapper(val_original_target, transform_lambda)\n",
    "test_processed_target  = Lazy_Iterable_Wrapper(test_original_target, transform_lambda)\n",
    "\n",
    "datasets = EasyDict({\n",
    "    \"source\": {\n",
    "        \"original\": {\"train\":train_original_source, \"val\":val_original_source, \"test\":test_original_source},\n",
    "        \"processed\": {\"train\":train_processed_source, \"val\":val_processed_source, \"test\":test_processed_source}\n",
    "    },\n",
    "    \"target\": {\n",
    "        \"original\": {\"train\":train_original_target, \"val\":val_original_target, \"test\":test_original_target},\n",
    "        \"processed\": {\"train\":train_processed_target, \"val\":val_processed_target, \"test\":test_processed_target}\n",
    "    },\n",
    "})"
   ]
  },
  {
   "cell_type": "code",
   "execution_count": 20,
   "id": "5b3c01fc",
   "metadata": {
    "execution": {
     "iopub.execute_input": "2022-03-23T03:38:09.479560Z",
     "iopub.status.busy": "2022-03-23T03:38:09.478699Z",
     "iopub.status.idle": "2022-03-23T03:38:34.474719Z",
     "shell.execute_reply": "2022-03-23T03:38:34.475166Z"
    },
    "papermill": {
     "duration": 25.02086,
     "end_time": "2022-03-23T03:38:34.475277",
     "exception": false,
     "start_time": "2022-03-23T03:38:09.454417",
     "status": "completed"
    },
    "tags": []
   },
   "outputs": [
    {
     "name": "stdout",
     "output_type": "stream",
     "text": [
      "{'ORACLE.run1_50', 'ORACLE.run1_38', 'ORACLE.run1_20', 'ORACLE.run1_8', 'ORACLE.run1_44', 'ORACLE.run1_26', 'ORACLE.run1_32', 'ORACLE.run1_14'}\n"
     ]
    },
    {
     "name": "stdout",
     "output_type": "stream",
     "text": [
      "{'ORACLE.run2_26', 'ORACLE.run2_50', 'ORACLE.run2_44', 'ORACLE.run2_38', 'ORACLE.run2_32', 'ORACLE.run2_14', 'ORACLE.run2_8', 'ORACLE.run2_20'}\n"
     ]
    },
    {
     "name": "stdout",
     "output_type": "stream",
     "text": [
      "tensor([[[-0.0194, -0.3495,  0.3592,  ..., -0.3301, -0.2816,  0.5631],\n",
      "         [-0.5922,  0.2330, -0.1262,  ...,  0.0680, -0.9709,  0.1359]],\n",
      "\n",
      "        [[ 0.4488, -0.7145, -1.3832,  ...,  0.4397,  0.0550, -0.3114],\n",
      "         [-0.1374, -0.4030, -1.4290,  ..., -0.4672,  0.3023, -0.5130]],\n",
      "\n",
      "        [[-0.8545, -0.4502,  0.1011,  ...,  0.1194,  1.3966,  1.0750],\n",
      "         [-0.1930,  0.3308, -0.3675,  ..., -1.4793,  0.0000, -0.0276]],\n",
      "\n",
      "        ...,\n",
      "\n",
      "        [[-0.0124,  0.6262, -0.0744,  ..., -0.8432, -1.3578,  0.8742],\n",
      "         [ 1.1904, -0.8556, -0.5270,  ..., -0.1364,  0.2046, -0.9238]],\n",
      "\n",
      "        [[-0.8808, -1.3658, -1.6402,  ..., -0.8488,  0.5489,  0.1979],\n",
      "         [ 1.1297,  0.0319,  1.1297,  ..., -0.3191,  0.7340, -0.1915]],\n",
      "\n",
      "        [[ 1.2980, -0.6931, -0.5860,  ..., -0.7876, -0.3907, -0.0063],\n",
      "         [-0.4600,  0.9704,  0.0063,  ...,  1.4997,  0.2205,  1.0460]]])\n"
     ]
    }
   ],
   "source": [
    "from steves_utils.transforms import get_average_magnitude, get_average_power\n",
    "\n",
    "print(set([u for u,_ in val_original_source]))\n",
    "print(set([u for u,_ in val_original_target]))\n",
    "\n",
    "s_x, s_y, q_x, q_y, _ = next(iter(train_processed_source))\n",
    "print(s_x)\n",
    "\n",
    "# for ds in [\n",
    "#     train_processed_source,\n",
    "#     val_processed_source,\n",
    "#     test_processed_source,\n",
    "#     train_processed_target,\n",
    "#     val_processed_target,\n",
    "#     test_processed_target\n",
    "# ]:\n",
    "#     for s_x, s_y, q_x, q_y, _ in ds:\n",
    "#         for X in (s_x, q_x):\n",
    "#             for x in X:\n",
    "#                 assert np.isclose(get_average_magnitude(x.numpy()), 1.0)\n",
    "#                 assert np.isclose(get_average_power(x.numpy()), 1.0)\n",
    "                "
   ]
  },
  {
   "cell_type": "code",
   "execution_count": 21,
   "id": "bbdacba1",
   "metadata": {
    "execution": {
     "iopub.execute_input": "2022-03-23T03:38:34.519186Z",
     "iopub.status.busy": "2022-03-23T03:38:34.518927Z",
     "iopub.status.idle": "2022-03-23T03:38:34.577265Z",
     "shell.execute_reply": "2022-03-23T03:38:34.577002Z"
    },
    "papermill": {
     "duration": 0.080504,
     "end_time": "2022-03-23T03:38:34.577325",
     "exception": false,
     "start_time": "2022-03-23T03:38:34.496821",
     "status": "completed"
    },
    "tags": []
   },
   "outputs": [
    {
     "name": "stdout",
     "output_type": "stream",
     "text": [
      "(2, 256)\n"
     ]
    }
   ],
   "source": [
    "###################################\n",
    "# Build the model\n",
    "###################################\n",
    "# easfsl only wants a tuple for the shape\n",
    "model = Steves_Prototypical_Network(x_net, device=p.device, x_shape=tuple(p.x_shape))\n",
    "optimizer = Adam(params=model.parameters(), lr=p.lr)"
   ]
  },
  {
   "cell_type": "code",
   "execution_count": 22,
   "id": "22b39ac5",
   "metadata": {
    "execution": {
     "iopub.execute_input": "2022-03-23T03:38:34.609898Z",
     "iopub.status.busy": "2022-03-23T03:38:34.609428Z",
     "iopub.status.idle": "2022-03-23T06:54:26.277105Z",
     "shell.execute_reply": "2022-03-23T06:54:26.276875Z"
    },
    "papermill": {
     "duration": 11751.685171,
     "end_time": "2022-03-23T06:54:26.277163",
     "exception": false,
     "start_time": "2022-03-23T03:38:34.591992",
     "status": "completed"
    },
    "tags": []
   },
   "outputs": [
    {
     "name": "stdout",
     "output_type": "stream",
     "text": [
      "epoch: 1, [batch: 1 / 33600], examples_per_second: 9.9708, train_label_loss: 2.8114, \n"
     ]
    },
    {
     "name": "stdout",
     "output_type": "stream",
     "text": [
      "epoch: 1, [batch: 3360 / 33600], examples_per_second: 3229.4926, train_label_loss: 1.1830, \n"
     ]
    },
    {
     "name": "stdout",
     "output_type": "stream",
     "text": [
      "epoch: 1, [batch: 6720 / 33600], examples_per_second: 3250.8487, train_label_loss: 1.8518, \n"
     ]
    },
    {
     "name": "stdout",
     "output_type": "stream",
     "text": [
      "epoch: 1, [batch: 10080 / 33600], examples_per_second: 3254.3933, train_label_loss: 0.7037, \n"
     ]
    },
    {
     "name": "stdout",
     "output_type": "stream",
     "text": [
      "epoch: 1, [batch: 13440 / 33600], examples_per_second: 3230.8079, train_label_loss: 0.9031, \n"
     ]
    },
    {
     "name": "stdout",
     "output_type": "stream",
     "text": [
      "epoch: 1, [batch: 16800 / 33600], examples_per_second: 3241.3553, train_label_loss: 0.8852, \n"
     ]
    },
    {
     "name": "stdout",
     "output_type": "stream",
     "text": [
      "epoch: 1, [batch: 20160 / 33600], examples_per_second: 3255.8015, train_label_loss: 0.7299, \n"
     ]
    },
    {
     "name": "stdout",
     "output_type": "stream",
     "text": [
      "epoch: 1, [batch: 23520 / 33600], examples_per_second: 3243.5727, train_label_loss: 0.6133, \n"
     ]
    },
    {
     "name": "stdout",
     "output_type": "stream",
     "text": [
      "epoch: 1, [batch: 26880 / 33600], examples_per_second: 3243.6803, train_label_loss: 0.7224, \n"
     ]
    },
    {
     "name": "stdout",
     "output_type": "stream",
     "text": [
      "epoch: 1, [batch: 30240 / 33600], examples_per_second: 3241.8780, train_label_loss: 1.1815, \n"
     ]
    },
    {
     "name": "stdout",
     "output_type": "stream",
     "text": [
      "=============================================================\n",
      "epoch: 1, source_val_acc_label: 0.6526, target_val_acc_label: 0.6357, source_val_label_loss: 0.9299, target_val_label_loss: 0.9817, \n",
      "=============================================================\n"
     ]
    },
    {
     "name": "stdout",
     "output_type": "stream",
     "text": [
      "New best\n"
     ]
    },
    {
     "name": "stdout",
     "output_type": "stream",
     "text": [
      "epoch: 2, [batch: 1 / 33600], examples_per_second: 0.9743, train_label_loss: 1.0649, \n"
     ]
    },
    {
     "name": "stdout",
     "output_type": "stream",
     "text": [
      "epoch: 2, [batch: 3360 / 33600], examples_per_second: 3268.5151, train_label_loss: 0.7250, \n"
     ]
    },
    {
     "name": "stdout",
     "output_type": "stream",
     "text": [
      "epoch: 2, [batch: 6720 / 33600], examples_per_second: 3307.0989, train_label_loss: 1.1099, \n"
     ]
    },
    {
     "name": "stdout",
     "output_type": "stream",
     "text": [
      "epoch: 2, [batch: 10080 / 33600], examples_per_second: 3306.4877, train_label_loss: 0.5441, \n"
     ]
    },
    {
     "name": "stdout",
     "output_type": "stream",
     "text": [
      "epoch: 2, [batch: 13440 / 33600], examples_per_second: 3287.2939, train_label_loss: 0.5475, \n"
     ]
    },
    {
     "name": "stdout",
     "output_type": "stream",
     "text": [
      "epoch: 2, [batch: 16800 / 33600], examples_per_second: 3305.0655, train_label_loss: 1.3139, \n"
     ]
    },
    {
     "name": "stdout",
     "output_type": "stream",
     "text": [
      "epoch: 2, [batch: 20160 / 33600], examples_per_second: 3308.1969, train_label_loss: 1.2138, \n"
     ]
    },
    {
     "name": "stdout",
     "output_type": "stream",
     "text": [
      "epoch: 2, [batch: 23520 / 33600], examples_per_second: 3293.6535, train_label_loss: 0.4660, \n"
     ]
    },
    {
     "name": "stdout",
     "output_type": "stream",
     "text": [
      "epoch: 2, [batch: 26880 / 33600], examples_per_second: 3308.0616, train_label_loss: 0.4186, \n"
     ]
    },
    {
     "name": "stdout",
     "output_type": "stream",
     "text": [
      "epoch: 2, [batch: 30240 / 33600], examples_per_second: 3307.1574, train_label_loss: 1.0162, \n"
     ]
    },
    {
     "name": "stdout",
     "output_type": "stream",
     "text": [
      "=============================================================\n",
      "epoch: 2, source_val_acc_label: 0.6649, target_val_acc_label: 0.6459, source_val_label_loss: 0.8809, target_val_label_loss: 0.9520, \n",
      "=============================================================\n"
     ]
    },
    {
     "name": "stdout",
     "output_type": "stream",
     "text": [
      "New best\n"
     ]
    },
    {
     "name": "stdout",
     "output_type": "stream",
     "text": [
      "epoch: 3, [batch: 1 / 33600], examples_per_second: 0.9519, train_label_loss: 0.5277, \n"
     ]
    },
    {
     "name": "stdout",
     "output_type": "stream",
     "text": [
      "epoch: 3, [batch: 3360 / 33600], examples_per_second: 3255.5030, train_label_loss: 0.7489, \n"
     ]
    },
    {
     "name": "stdout",
     "output_type": "stream",
     "text": [
      "epoch: 3, [batch: 6720 / 33600], examples_per_second: 3276.5729, train_label_loss: 0.7067, \n"
     ]
    },
    {
     "name": "stdout",
     "output_type": "stream",
     "text": [
      "epoch: 3, [batch: 10080 / 33600], examples_per_second: 3276.8268, train_label_loss: 0.6812, \n"
     ]
    },
    {
     "name": "stdout",
     "output_type": "stream",
     "text": [
      "epoch: 3, [batch: 13440 / 33600], examples_per_second: 3260.5043, train_label_loss: 0.4395, \n"
     ]
    },
    {
     "name": "stdout",
     "output_type": "stream",
     "text": [
      "epoch: 3, [batch: 16800 / 33600], examples_per_second: 3298.1228, train_label_loss: 0.9513, \n"
     ]
    },
    {
     "name": "stdout",
     "output_type": "stream",
     "text": [
      "epoch: 3, [batch: 20160 / 33600], examples_per_second: 3304.9168, train_label_loss: 1.3472, \n"
     ]
    },
    {
     "name": "stdout",
     "output_type": "stream",
     "text": [
      "epoch: 3, [batch: 23520 / 33600], examples_per_second: 3288.5074, train_label_loss: 0.8891, \n"
     ]
    },
    {
     "name": "stdout",
     "output_type": "stream",
     "text": [
      "epoch: 3, [batch: 26880 / 33600], examples_per_second: 3290.7942, train_label_loss: 0.5086, \n"
     ]
    },
    {
     "name": "stdout",
     "output_type": "stream",
     "text": [
      "epoch: 3, [batch: 30240 / 33600], examples_per_second: 3299.8973, train_label_loss: 0.9901, \n"
     ]
    },
    {
     "name": "stdout",
     "output_type": "stream",
     "text": [
      "=============================================================\n",
      "epoch: 3, source_val_acc_label: 0.6967, target_val_acc_label: 0.6777, source_val_label_loss: 0.8129, target_val_label_loss: 0.8971, \n",
      "=============================================================\n"
     ]
    },
    {
     "name": "stdout",
     "output_type": "stream",
     "text": [
      "New best\n"
     ]
    },
    {
     "name": "stdout",
     "output_type": "stream",
     "text": [
      "epoch: 4, [batch: 1 / 33600], examples_per_second: 0.9820, train_label_loss: 0.4077, \n"
     ]
    },
    {
     "name": "stdout",
     "output_type": "stream",
     "text": [
      "epoch: 4, [batch: 3360 / 33600], examples_per_second: 3271.8052, train_label_loss: 0.4859, \n"
     ]
    },
    {
     "name": "stdout",
     "output_type": "stream",
     "text": [
      "epoch: 4, [batch: 6720 / 33600], examples_per_second: 3295.1059, train_label_loss: 1.0973, \n"
     ]
    },
    {
     "name": "stdout",
     "output_type": "stream",
     "text": [
      "epoch: 4, [batch: 10080 / 33600], examples_per_second: 3305.7863, train_label_loss: 0.6902, \n"
     ]
    },
    {
     "name": "stdout",
     "output_type": "stream",
     "text": [
      "epoch: 4, [batch: 13440 / 33600], examples_per_second: 3288.8535, train_label_loss: 0.4539, \n"
     ]
    },
    {
     "name": "stdout",
     "output_type": "stream",
     "text": [
      "epoch: 4, [batch: 16800 / 33600], examples_per_second: 3298.4208, train_label_loss: 0.6778, \n"
     ]
    },
    {
     "name": "stdout",
     "output_type": "stream",
     "text": [
      "epoch: 4, [batch: 20160 / 33600], examples_per_second: 3293.0561, train_label_loss: 0.3741, \n"
     ]
    },
    {
     "name": "stdout",
     "output_type": "stream",
     "text": [
      "epoch: 4, [batch: 23520 / 33600], examples_per_second: 3289.8794, train_label_loss: 0.2362, \n"
     ]
    },
    {
     "name": "stdout",
     "output_type": "stream",
     "text": [
      "epoch: 4, [batch: 26880 / 33600], examples_per_second: 3287.5434, train_label_loss: 0.6725, \n"
     ]
    },
    {
     "name": "stdout",
     "output_type": "stream",
     "text": [
      "epoch: 4, [batch: 30240 / 33600], examples_per_second: 3303.0480, train_label_loss: 0.5103, \n"
     ]
    },
    {
     "name": "stdout",
     "output_type": "stream",
     "text": [
      "=============================================================\n",
      "epoch: 4, source_val_acc_label: 0.7180, target_val_acc_label: 0.6989, source_val_label_loss: 0.7707, target_val_label_loss: 0.8610, \n",
      "=============================================================\n"
     ]
    },
    {
     "name": "stdout",
     "output_type": "stream",
     "text": [
      "New best\n"
     ]
    },
    {
     "name": "stdout",
     "output_type": "stream",
     "text": [
      "epoch: 5, [batch: 1 / 33600], examples_per_second: 0.9820, train_label_loss: 1.0844, \n"
     ]
    },
    {
     "name": "stdout",
     "output_type": "stream",
     "text": [
      "epoch: 5, [batch: 3360 / 33600], examples_per_second: 3273.4335, train_label_loss: 0.4531, \n"
     ]
    },
    {
     "name": "stdout",
     "output_type": "stream",
     "text": [
      "epoch: 5, [batch: 6720 / 33600], examples_per_second: 3295.7285, train_label_loss: 0.2803, \n"
     ]
    },
    {
     "name": "stdout",
     "output_type": "stream",
     "text": [
      "epoch: 5, [batch: 10080 / 33600], examples_per_second: 3297.6984, train_label_loss: 0.7380, \n"
     ]
    },
    {
     "name": "stdout",
     "output_type": "stream",
     "text": [
      "epoch: 5, [batch: 13440 / 33600], examples_per_second: 3275.4755, train_label_loss: 0.7927, \n"
     ]
    },
    {
     "name": "stdout",
     "output_type": "stream",
     "text": [
      "epoch: 5, [batch: 16800 / 33600], examples_per_second: 3278.3415, train_label_loss: 0.6599, \n"
     ]
    },
    {
     "name": "stdout",
     "output_type": "stream",
     "text": [
      "epoch: 5, [batch: 20160 / 33600], examples_per_second: 3280.9181, train_label_loss: 0.8614, \n"
     ]
    },
    {
     "name": "stdout",
     "output_type": "stream",
     "text": [
      "epoch: 5, [batch: 23520 / 33600], examples_per_second: 3263.0588, train_label_loss: 0.5387, \n"
     ]
    },
    {
     "name": "stdout",
     "output_type": "stream",
     "text": [
      "epoch: 5, [batch: 26880 / 33600], examples_per_second: 3270.8090, train_label_loss: 0.2874, \n"
     ]
    },
    {
     "name": "stdout",
     "output_type": "stream",
     "text": [
      "epoch: 5, [batch: 30240 / 33600], examples_per_second: 3300.7256, train_label_loss: 0.8194, \n"
     ]
    },
    {
     "name": "stdout",
     "output_type": "stream",
     "text": [
      "=============================================================\n",
      "epoch: 5, source_val_acc_label: 0.7226, target_val_acc_label: 0.7047, source_val_label_loss: 0.7605, target_val_label_loss: 0.8492, \n",
      "=============================================================\n"
     ]
    },
    {
     "name": "stdout",
     "output_type": "stream",
     "text": [
      "New best\n"
     ]
    },
    {
     "name": "stdout",
     "output_type": "stream",
     "text": [
      "epoch: 6, [batch: 1 / 33600], examples_per_second: 0.9775, train_label_loss: 0.4057, \n"
     ]
    },
    {
     "name": "stdout",
     "output_type": "stream",
     "text": [
      "epoch: 6, [batch: 3360 / 33600], examples_per_second: 3250.1512, train_label_loss: 0.7142, \n"
     ]
    },
    {
     "name": "stdout",
     "output_type": "stream",
     "text": [
      "epoch: 6, [batch: 6720 / 33600], examples_per_second: 3273.8927, train_label_loss: 0.4431, \n"
     ]
    },
    {
     "name": "stdout",
     "output_type": "stream",
     "text": [
      "epoch: 6, [batch: 10080 / 33600], examples_per_second: 3139.8545, train_label_loss: 0.4750, \n"
     ]
    },
    {
     "name": "stdout",
     "output_type": "stream",
     "text": [
      "epoch: 6, [batch: 13440 / 33600], examples_per_second: 3041.3122, train_label_loss: 0.4557, \n"
     ]
    },
    {
     "name": "stdout",
     "output_type": "stream",
     "text": [
      "epoch: 6, [batch: 16800 / 33600], examples_per_second: 2972.5407, train_label_loss: 0.4081, \n"
     ]
    },
    {
     "name": "stdout",
     "output_type": "stream",
     "text": [
      "epoch: 6, [batch: 20160 / 33600], examples_per_second: 2961.9842, train_label_loss: 0.7037, \n"
     ]
    },
    {
     "name": "stdout",
     "output_type": "stream",
     "text": [
      "epoch: 6, [batch: 23520 / 33600], examples_per_second: 2889.0244, train_label_loss: 0.5271, \n"
     ]
    },
    {
     "name": "stdout",
     "output_type": "stream",
     "text": [
      "epoch: 6, [batch: 26880 / 33600], examples_per_second: 2846.7954, train_label_loss: 0.6632, \n"
     ]
    },
    {
     "name": "stdout",
     "output_type": "stream",
     "text": [
      "epoch: 6, [batch: 30240 / 33600], examples_per_second: 2842.7652, train_label_loss: 0.4740, \n"
     ]
    },
    {
     "name": "stdout",
     "output_type": "stream",
     "text": [
      "=============================================================\n",
      "epoch: 6, source_val_acc_label: 0.7254, target_val_acc_label: 0.7087, source_val_label_loss: 0.7565, target_val_label_loss: 0.8502, \n",
      "=============================================================\n"
     ]
    },
    {
     "name": "stdout",
     "output_type": "stream",
     "text": [
      "New best\n"
     ]
    },
    {
     "name": "stdout",
     "output_type": "stream",
     "text": [
      "epoch: 7, [batch: 1 / 33600], examples_per_second: 0.9675, train_label_loss: 0.5627, \n"
     ]
    },
    {
     "name": "stdout",
     "output_type": "stream",
     "text": [
      "epoch: 7, [batch: 3360 / 33600], examples_per_second: 3249.3258, train_label_loss: 1.0587, \n"
     ]
    },
    {
     "name": "stdout",
     "output_type": "stream",
     "text": [
      "epoch: 7, [batch: 6720 / 33600], examples_per_second: 3268.1082, train_label_loss: 0.2086, \n"
     ]
    },
    {
     "name": "stdout",
     "output_type": "stream",
     "text": [
      "epoch: 7, [batch: 10080 / 33600], examples_per_second: 3298.7387, train_label_loss: 0.2527, \n"
     ]
    },
    {
     "name": "stdout",
     "output_type": "stream",
     "text": [
      "epoch: 7, [batch: 13440 / 33600], examples_per_second: 3288.8938, train_label_loss: 0.2958, \n"
     ]
    },
    {
     "name": "stdout",
     "output_type": "stream",
     "text": [
      "epoch: 7, [batch: 16800 / 33600], examples_per_second: 3305.1335, train_label_loss: 0.5682, \n"
     ]
    },
    {
     "name": "stdout",
     "output_type": "stream",
     "text": [
      "epoch: 7, [batch: 20160 / 33600], examples_per_second: 3303.6835, train_label_loss: 0.3255, \n"
     ]
    },
    {
     "name": "stdout",
     "output_type": "stream",
     "text": [
      "epoch: 7, [batch: 23520 / 33600], examples_per_second: 3295.1452, train_label_loss: 0.4239, \n"
     ]
    },
    {
     "name": "stdout",
     "output_type": "stream",
     "text": [
      "epoch: 7, [batch: 26880 / 33600], examples_per_second: 3300.7850, train_label_loss: 0.3414, \n"
     ]
    },
    {
     "name": "stdout",
     "output_type": "stream",
     "text": [
      "epoch: 7, [batch: 30240 / 33600], examples_per_second: 3303.8809, train_label_loss: 0.3314, \n"
     ]
    },
    {
     "name": "stdout",
     "output_type": "stream",
     "text": [
      "=============================================================\n",
      "epoch: 7, source_val_acc_label: 0.7308, target_val_acc_label: 0.7140, source_val_label_loss: 0.7559, target_val_label_loss: 0.8460, \n",
      "=============================================================\n"
     ]
    },
    {
     "name": "stdout",
     "output_type": "stream",
     "text": [
      "New best\n"
     ]
    },
    {
     "name": "stdout",
     "output_type": "stream",
     "text": [
      "epoch: 8, [batch: 1 / 33600], examples_per_second: 0.9800, train_label_loss: 0.3897, \n"
     ]
    },
    {
     "name": "stdout",
     "output_type": "stream",
     "text": [
      "epoch: 8, [batch: 3360 / 33600], examples_per_second: 3286.7955, train_label_loss: 0.2632, \n"
     ]
    },
    {
     "name": "stdout",
     "output_type": "stream",
     "text": [
      "epoch: 8, [batch: 6720 / 33600], examples_per_second: 3301.4710, train_label_loss: 0.5218, \n"
     ]
    },
    {
     "name": "stdout",
     "output_type": "stream",
     "text": [
      "epoch: 8, [batch: 10080 / 33600], examples_per_second: 3298.1372, train_label_loss: 0.3436, \n"
     ]
    },
    {
     "name": "stdout",
     "output_type": "stream",
     "text": [
      "epoch: 8, [batch: 13440 / 33600], examples_per_second: 3290.6314, train_label_loss: 0.3439, \n"
     ]
    },
    {
     "name": "stdout",
     "output_type": "stream",
     "text": [
      "epoch: 8, [batch: 16800 / 33600], examples_per_second: 3306.9773, train_label_loss: 0.3089, \n"
     ]
    },
    {
     "name": "stdout",
     "output_type": "stream",
     "text": [
      "epoch: 8, [batch: 20160 / 33600], examples_per_second: 3300.9146, train_label_loss: 0.1477, \n"
     ]
    },
    {
     "name": "stdout",
     "output_type": "stream",
     "text": [
      "epoch: 8, [batch: 23520 / 33600], examples_per_second: 3288.7921, train_label_loss: 0.7567, \n"
     ]
    },
    {
     "name": "stdout",
     "output_type": "stream",
     "text": [
      "epoch: 8, [batch: 26880 / 33600], examples_per_second: 3302.4852, train_label_loss: 0.4534, \n"
     ]
    },
    {
     "name": "stdout",
     "output_type": "stream",
     "text": [
      "epoch: 8, [batch: 30240 / 33600], examples_per_second: 3293.2552, train_label_loss: 0.4682, \n"
     ]
    },
    {
     "name": "stdout",
     "output_type": "stream",
     "text": [
      "=============================================================\n",
      "epoch: 8, source_val_acc_label: 0.7293, target_val_acc_label: 0.7113, source_val_label_loss: 0.7635, target_val_label_loss: 0.8536, \n",
      "=============================================================\n"
     ]
    },
    {
     "name": "stdout",
     "output_type": "stream",
     "text": [
      "epoch: 9, [batch: 1 / 33600], examples_per_second: 0.9823, train_label_loss: 0.8638, \n"
     ]
    },
    {
     "name": "stdout",
     "output_type": "stream",
     "text": [
      "epoch: 9, [batch: 3360 / 33600], examples_per_second: 3284.0558, train_label_loss: 0.1594, \n"
     ]
    },
    {
     "name": "stdout",
     "output_type": "stream",
     "text": [
      "epoch: 9, [batch: 6720 / 33600], examples_per_second: 3301.0458, train_label_loss: 0.3663, \n"
     ]
    },
    {
     "name": "stdout",
     "output_type": "stream",
     "text": [
      "epoch: 9, [batch: 10080 / 33600], examples_per_second: 3311.0984, train_label_loss: 0.3496, \n"
     ]
    },
    {
     "name": "stdout",
     "output_type": "stream",
     "text": [
      "epoch: 9, [batch: 13440 / 33600], examples_per_second: 3293.0412, train_label_loss: 0.3971, \n"
     ]
    },
    {
     "name": "stdout",
     "output_type": "stream",
     "text": [
      "epoch: 9, [batch: 16800 / 33600], examples_per_second: 3306.2817, train_label_loss: 0.8692, \n"
     ]
    },
    {
     "name": "stdout",
     "output_type": "stream",
     "text": [
      "epoch: 9, [batch: 20160 / 33600], examples_per_second: 3309.7880, train_label_loss: 0.4043, \n"
     ]
    },
    {
     "name": "stdout",
     "output_type": "stream",
     "text": [
      "epoch: 9, [batch: 23520 / 33600], examples_per_second: 3292.8012, train_label_loss: 0.3942, \n"
     ]
    },
    {
     "name": "stdout",
     "output_type": "stream",
     "text": [
      "epoch: 9, [batch: 26880 / 33600], examples_per_second: 3300.0808, train_label_loss: 0.1804, \n"
     ]
    },
    {
     "name": "stdout",
     "output_type": "stream",
     "text": [
      "epoch: 9, [batch: 30240 / 33600], examples_per_second: 3307.1843, train_label_loss: 0.3448, \n"
     ]
    },
    {
     "name": "stdout",
     "output_type": "stream",
     "text": [
      "=============================================================\n",
      "epoch: 9, source_val_acc_label: 0.7334, target_val_acc_label: 0.7160, source_val_label_loss: 0.7624, target_val_label_loss: 0.8529, \n",
      "=============================================================\n"
     ]
    },
    {
     "name": "stdout",
     "output_type": "stream",
     "text": [
      "New best\n"
     ]
    },
    {
     "name": "stdout",
     "output_type": "stream",
     "text": [
      "epoch: 10, [batch: 1 / 33600], examples_per_second: 0.9858, train_label_loss: 0.4452, \n"
     ]
    },
    {
     "name": "stdout",
     "output_type": "stream",
     "text": [
      "epoch: 10, [batch: 3360 / 33600], examples_per_second: 3283.6408, train_label_loss: 0.2156, \n"
     ]
    },
    {
     "name": "stdout",
     "output_type": "stream",
     "text": [
      "epoch: 10, [batch: 6720 / 33600], examples_per_second: 3298.9343, train_label_loss: 0.3121, \n"
     ]
    },
    {
     "name": "stdout",
     "output_type": "stream",
     "text": [
      "epoch: 10, [batch: 10080 / 33600], examples_per_second: 3308.5556, train_label_loss: 0.5132, \n"
     ]
    },
    {
     "name": "stdout",
     "output_type": "stream",
     "text": [
      "epoch: 10, [batch: 13440 / 33600], examples_per_second: 3293.8338, train_label_loss: 0.6912, \n"
     ]
    },
    {
     "name": "stdout",
     "output_type": "stream",
     "text": [
      "epoch: 10, [batch: 16800 / 33600], examples_per_second: 3301.8674, train_label_loss: 0.3788, \n"
     ]
    },
    {
     "name": "stdout",
     "output_type": "stream",
     "text": [
      "epoch: 10, [batch: 20160 / 33600], examples_per_second: 3309.1682, train_label_loss: 1.0520, \n"
     ]
    },
    {
     "name": "stdout",
     "output_type": "stream",
     "text": [
      "epoch: 10, [batch: 23520 / 33600], examples_per_second: 3298.8956, train_label_loss: 0.3658, \n"
     ]
    },
    {
     "name": "stdout",
     "output_type": "stream",
     "text": [
      "epoch: 10, [batch: 26880 / 33600], examples_per_second: 3304.4498, train_label_loss: 0.4041, \n"
     ]
    },
    {
     "name": "stdout",
     "output_type": "stream",
     "text": [
      "epoch: 10, [batch: 30240 / 33600], examples_per_second: 3302.6218, train_label_loss: 0.4584, \n"
     ]
    },
    {
     "name": "stdout",
     "output_type": "stream",
     "text": [
      "=============================================================\n",
      "epoch: 10, source_val_acc_label: 0.7304, target_val_acc_label: 0.7132, source_val_label_loss: 0.7868, target_val_label_loss: 0.8809, \n",
      "=============================================================\n"
     ]
    },
    {
     "name": "stdout",
     "output_type": "stream",
     "text": [
      "epoch: 11, [batch: 1 / 33600], examples_per_second: 0.9831, train_label_loss: 0.2302, \n"
     ]
    },
    {
     "name": "stdout",
     "output_type": "stream",
     "text": [
      "epoch: 11, [batch: 3360 / 33600], examples_per_second: 3294.9803, train_label_loss: 0.3153, \n"
     ]
    },
    {
     "name": "stdout",
     "output_type": "stream",
     "text": [
      "epoch: 11, [batch: 6720 / 33600], examples_per_second: 3304.7023, train_label_loss: 0.4657, \n"
     ]
    },
    {
     "name": "stdout",
     "output_type": "stream",
     "text": [
      "epoch: 11, [batch: 10080 / 33600], examples_per_second: 3304.5107, train_label_loss: 0.3849, \n"
     ]
    },
    {
     "name": "stdout",
     "output_type": "stream",
     "text": [
      "epoch: 11, [batch: 13440 / 33600], examples_per_second: 3291.9214, train_label_loss: 0.1938, \n"
     ]
    },
    {
     "name": "stdout",
     "output_type": "stream",
     "text": [
      "epoch: 11, [batch: 16800 / 33600], examples_per_second: 3304.3577, train_label_loss: 0.1960, \n"
     ]
    },
    {
     "name": "stdout",
     "output_type": "stream",
     "text": [
      "epoch: 11, [batch: 20160 / 33600], examples_per_second: 3304.1007, train_label_loss: 0.3873, \n"
     ]
    },
    {
     "name": "stdout",
     "output_type": "stream",
     "text": [
      "epoch: 11, [batch: 23520 / 33600], examples_per_second: 3292.3021, train_label_loss: 0.7813, \n"
     ]
    },
    {
     "name": "stdout",
     "output_type": "stream",
     "text": [
      "epoch: 11, [batch: 26880 / 33600], examples_per_second: 3298.2968, train_label_loss: 0.6058, \n"
     ]
    },
    {
     "name": "stdout",
     "output_type": "stream",
     "text": [
      "epoch: 11, [batch: 30240 / 33600], examples_per_second: 3299.2587, train_label_loss: 0.5590, \n"
     ]
    },
    {
     "name": "stdout",
     "output_type": "stream",
     "text": [
      "=============================================================\n",
      "epoch: 11, source_val_acc_label: 0.7293, target_val_acc_label: 0.7131, source_val_label_loss: 0.8073, target_val_label_loss: 0.8983, \n",
      "=============================================================\n"
     ]
    },
    {
     "name": "stdout",
     "output_type": "stream",
     "text": [
      "epoch: 12, [batch: 1 / 33600], examples_per_second: 0.9814, train_label_loss: 0.4798, \n"
     ]
    },
    {
     "name": "stdout",
     "output_type": "stream",
     "text": [
      "epoch: 12, [batch: 3360 / 33600], examples_per_second: 3285.5817, train_label_loss: 0.2035, \n"
     ]
    },
    {
     "name": "stdout",
     "output_type": "stream",
     "text": [
      "epoch: 12, [batch: 6720 / 33600], examples_per_second: 3305.7461, train_label_loss: 0.3929, \n"
     ]
    },
    {
     "name": "stdout",
     "output_type": "stream",
     "text": [
      "epoch: 12, [batch: 10080 / 33600], examples_per_second: 3310.7669, train_label_loss: 0.4069, \n"
     ]
    },
    {
     "name": "stdout",
     "output_type": "stream",
     "text": [
      "epoch: 12, [batch: 13440 / 33600], examples_per_second: 3291.0612, train_label_loss: 0.2098, \n"
     ]
    },
    {
     "name": "stdout",
     "output_type": "stream",
     "text": [
      "epoch: 12, [batch: 16800 / 33600], examples_per_second: 3304.5059, train_label_loss: 0.3375, \n"
     ]
    },
    {
     "name": "stdout",
     "output_type": "stream",
     "text": [
      "epoch: 12, [batch: 20160 / 33600], examples_per_second: 3297.8227, train_label_loss: 0.2600, \n"
     ]
    },
    {
     "name": "stdout",
     "output_type": "stream",
     "text": [
      "epoch: 12, [batch: 23520 / 33600], examples_per_second: 3290.4854, train_label_loss: 0.4503, \n"
     ]
    },
    {
     "name": "stdout",
     "output_type": "stream",
     "text": [
      "epoch: 12, [batch: 26880 / 33600], examples_per_second: 3306.9492, train_label_loss: 0.4327, \n"
     ]
    },
    {
     "name": "stdout",
     "output_type": "stream",
     "text": [
      "epoch: 12, [batch: 30240 / 33600], examples_per_second: 3303.8480, train_label_loss: 0.6772, \n"
     ]
    },
    {
     "name": "stdout",
     "output_type": "stream",
     "text": [
      "=============================================================\n",
      "epoch: 12, source_val_acc_label: 0.7323, target_val_acc_label: 0.7159, source_val_label_loss: 0.8364, target_val_label_loss: 0.9401, \n",
      "=============================================================\n"
     ]
    },
    {
     "name": "stdout",
     "output_type": "stream",
     "text": [
      "epoch: 13, [batch: 1 / 33600], examples_per_second: 0.9804, train_label_loss: 0.4456, \n"
     ]
    },
    {
     "name": "stdout",
     "output_type": "stream",
     "text": [
      "epoch: 13, [batch: 3360 / 33600], examples_per_second: 3283.7320, train_label_loss: 0.4365, \n"
     ]
    },
    {
     "name": "stdout",
     "output_type": "stream",
     "text": [
      "epoch: 13, [batch: 6720 / 33600], examples_per_second: 3296.5206, train_label_loss: 0.7115, \n"
     ]
    },
    {
     "name": "stdout",
     "output_type": "stream",
     "text": [
      "epoch: 13, [batch: 10080 / 33600], examples_per_second: 3300.5063, train_label_loss: 0.2900, \n"
     ]
    },
    {
     "name": "stdout",
     "output_type": "stream",
     "text": [
      "epoch: 13, [batch: 13440 / 33600], examples_per_second: 3291.5921, train_label_loss: 0.5129, \n"
     ]
    },
    {
     "name": "stdout",
     "output_type": "stream",
     "text": [
      "epoch: 13, [batch: 16800 / 33600], examples_per_second: 3302.3278, train_label_loss: 0.5132, \n"
     ]
    },
    {
     "name": "stdout",
     "output_type": "stream",
     "text": [
      "epoch: 13, [batch: 20160 / 33600], examples_per_second: 3306.4999, train_label_loss: 0.7029, \n"
     ]
    },
    {
     "name": "stdout",
     "output_type": "stream",
     "text": [
      "epoch: 13, [batch: 23520 / 33600], examples_per_second: 3293.7581, train_label_loss: 0.2627, \n"
     ]
    },
    {
     "name": "stdout",
     "output_type": "stream",
     "text": [
      "epoch: 13, [batch: 26880 / 33600], examples_per_second: 3293.2662, train_label_loss: 0.2684, \n"
     ]
    },
    {
     "name": "stdout",
     "output_type": "stream",
     "text": [
      "epoch: 13, [batch: 30240 / 33600], examples_per_second: 3299.0015, train_label_loss: 0.0292, \n"
     ]
    },
    {
     "name": "stdout",
     "output_type": "stream",
     "text": [
      "=============================================================\n",
      "epoch: 13, source_val_acc_label: 0.7243, target_val_acc_label: 0.7073, source_val_label_loss: 0.8559, target_val_label_loss: 0.9553, \n",
      "=============================================================\n"
     ]
    },
    {
     "name": "stdout",
     "output_type": "stream",
     "text": [
      "Patience (3) exhausted\n"
     ]
    }
   ],
   "source": [
    "###################################\n",
    "# train\n",
    "###################################\n",
    "jig = PTN_Train_Eval_Test_Jig(model, p.BEST_MODEL_PATH, p.device)\n",
    "\n",
    "jig.train(\n",
    "    train_iterable=datasets.source.processed.train,\n",
    "    source_val_iterable=datasets.source.processed.val,\n",
    "    target_val_iterable=datasets.target.processed.val,\n",
    "    num_epochs=p.n_epoch,\n",
    "    num_logs_per_epoch=p.NUM_LOGS_PER_EPOCH,\n",
    "    patience=p.patience,\n",
    "    optimizer=optimizer,\n",
    "    criteria_for_best=p.criteria_for_best,\n",
    ")"
   ]
  },
  {
   "cell_type": "code",
   "execution_count": 23,
   "id": "31e8fabf",
   "metadata": {
    "execution": {
     "iopub.execute_input": "2022-03-23T06:54:26.359559Z",
     "iopub.status.busy": "2022-03-23T06:54:26.359310Z",
     "iopub.status.idle": "2022-03-23T06:54:26.379892Z",
     "shell.execute_reply": "2022-03-23T06:54:26.379404Z"
    },
    "papermill": {
     "duration": 0.063271,
     "end_time": "2022-03-23T06:54:26.379998",
     "exception": false,
     "start_time": "2022-03-23T06:54:26.316727",
     "status": "completed"
    },
    "tags": []
   },
   "outputs": [],
   "source": [
    "total_experiment_time_secs = time.time() - start_time_secs"
   ]
  },
  {
   "cell_type": "code",
   "execution_count": 24,
   "id": "87b9595b",
   "metadata": {
    "execution": {
     "iopub.execute_input": "2022-03-23T06:54:26.483773Z",
     "iopub.status.busy": "2022-03-23T06:54:26.483166Z",
     "iopub.status.idle": "2022-03-23T07:02:26.218727Z",
     "shell.execute_reply": "2022-03-23T07:02:26.218479Z"
    },
    "papermill": {
     "duration": 479.790102,
     "end_time": "2022-03-23T07:02:26.218790",
     "exception": false,
     "start_time": "2022-03-23T06:54:26.428688",
     "status": "completed"
    },
    "tags": []
   },
   "outputs": [],
   "source": [
    "###################################\n",
    "# Evaluate the model\n",
    "###################################\n",
    "source_test_label_accuracy, source_test_label_loss = jig.test(datasets.source.processed.test)\n",
    "target_test_label_accuracy, target_test_label_loss = jig.test(datasets.target.processed.test)\n",
    "\n",
    "source_val_label_accuracy, source_val_label_loss = jig.test(datasets.source.processed.val)\n",
    "target_val_label_accuracy, target_val_label_loss = jig.test(datasets.target.processed.val)\n",
    "\n",
    "history = jig.get_history()\n",
    "\n",
    "total_epochs_trained = len(history[\"epoch_indices\"])\n",
    "\n",
    "val_dl = Iterable_Aggregator((datasets.source.original.val,datasets.target.original.val))\n",
    "\n",
    "confusion = ptn_confusion_by_domain_over_dataloader(model, p.device, val_dl)\n",
    "per_domain_accuracy = per_domain_accuracy_from_confusion(confusion)\n",
    "\n",
    "# Add a key to per_domain_accuracy for if it was a source domain\n",
    "for domain, accuracy in per_domain_accuracy.items():\n",
    "    per_domain_accuracy[domain] = {\n",
    "        \"accuracy\": accuracy,\n",
    "        \"source?\": domain in p.domains_source\n",
    "    }\n",
    "\n",
    "# Do an independent accuracy assesment JUST TO BE SURE!\n",
    "# _source_test_label_accuracy = independent_accuracy_assesment(model, datasets.source.processed.test, p.device)\n",
    "# _target_test_label_accuracy = independent_accuracy_assesment(model, datasets.target.processed.test, p.device)\n",
    "# _source_val_label_accuracy = independent_accuracy_assesment(model, datasets.source.processed.val, p.device)\n",
    "# _target_val_label_accuracy = independent_accuracy_assesment(model, datasets.target.processed.val, p.device)\n",
    "\n",
    "# assert(_source_test_label_accuracy == source_test_label_accuracy)\n",
    "# assert(_target_test_label_accuracy == target_test_label_accuracy)\n",
    "# assert(_source_val_label_accuracy == source_val_label_accuracy)\n",
    "# assert(_target_val_label_accuracy == target_val_label_accuracy)\n",
    "\n",
    "experiment = {\n",
    "    \"experiment_name\": p.experiment_name,\n",
    "    \"parameters\": dict(p),\n",
    "    \"results\": {\n",
    "        \"source_test_label_accuracy\": source_test_label_accuracy,\n",
    "        \"source_test_label_loss\": source_test_label_loss,\n",
    "        \"target_test_label_accuracy\": target_test_label_accuracy,\n",
    "        \"target_test_label_loss\": target_test_label_loss,\n",
    "        \"source_val_label_accuracy\": source_val_label_accuracy,\n",
    "        \"source_val_label_loss\": source_val_label_loss,\n",
    "        \"target_val_label_accuracy\": target_val_label_accuracy,\n",
    "        \"target_val_label_loss\": target_val_label_loss,\n",
    "        \"total_epochs_trained\": total_epochs_trained,\n",
    "        \"total_experiment_time_secs\": total_experiment_time_secs,\n",
    "        \"confusion\": confusion,\n",
    "        \"per_domain_accuracy\": per_domain_accuracy,\n",
    "    },\n",
    "    \"history\": history,\n",
    "    \"dataset_metrics\": get_dataset_metrics(datasets, \"ptn\"),\n",
    "}"
   ]
  },
  {
   "cell_type": "code",
   "execution_count": 25,
   "id": "54a21829",
   "metadata": {
    "execution": {
     "iopub.execute_input": "2022-03-23T07:02:26.302233Z",
     "iopub.status.busy": "2022-03-23T07:02:26.301727Z",
     "iopub.status.idle": "2022-03-23T07:02:26.432030Z",
     "shell.execute_reply": "2022-03-23T07:02:26.432439Z"
    },
    "papermill": {
     "duration": 0.173381,
     "end_time": "2022-03-23T07:02:26.432565",
     "exception": false,
     "start_time": "2022-03-23T07:02:26.259184",
     "status": "completed"
    },
    "tags": []
   },
   "outputs": [
    {
     "data": {
      "image/png": "[encoded data removed]",
      "text/plain": [
       "<Figure size 1080x504 with 1 Axes>"
      ]
     },
     "metadata": {
      "needs_background": "light"
     },
     "output_type": "display_data"
    }
   ],
   "source": [
    "ax = get_loss_curve(experiment)\n",
    "plt.show()"
   ]
  },
  {
   "cell_type": "code",
   "execution_count": 26,
   "id": "fd8a0f60",
   "metadata": {
    "execution": {
     "iopub.execute_input": "2022-03-23T07:02:26.523118Z",
     "iopub.status.busy": "2022-03-23T07:02:26.522867Z",
     "iopub.status.idle": "2022-03-23T07:02:26.659735Z",
     "shell.execute_reply": "2022-03-23T07:02:26.659962Z"
    },
    "papermill": {
     "duration": 0.181456,
     "end_time": "2022-03-23T07:02:26.660038",
     "exception": false,
     "start_time": "2022-03-23T07:02:26.478582",
     "status": "completed"
    },
    "tags": []
   },
   "outputs": [
    {
     "data": {
      "text/plain": [
       "<AxesSubplot:title={'center':'Results'}>"
      ]
     },
     "execution_count": 26,
     "metadata": {},
     "output_type": "execute_result"
    },
    {
     "data": {
      "image/png": "[encoded data removed]",
      "text/plain": [
       "<Figure size 1080x504 with 1 Axes>"
      ]
     },
     "metadata": {
      "needs_background": "light"
     },
     "output_type": "display_data"
    }
   ],
   "source": [
    "get_results_table(experiment)"
   ]
  },
  {
   "cell_type": "code",
   "execution_count": 27,
   "id": "cf8dc689",
   "metadata": {
    "execution": {
     "iopub.execute_input": "2022-03-23T07:02:26.748204Z",
     "iopub.status.busy": "2022-03-23T07:02:26.747854Z",
     "iopub.status.idle": "2022-03-23T07:02:26.915936Z",
     "shell.execute_reply": "2022-03-23T07:02:26.915451Z"
    },
    "papermill": {
     "duration": 0.21269,
     "end_time": "2022-03-23T07:02:26.916040",
     "exception": false,
     "start_time": "2022-03-23T07:02:26.703350",
     "status": "completed"
    },
    "tags": []
   },
   "outputs": [
    {
     "data": {
      "text/plain": [
       "<AxesSubplot:title={'center':'Per Domain Validation Accuracy'}, xlabel='domain'>"
      ]
     },
     "execution_count": 27,
     "metadata": {},
     "output_type": "execute_result"
    },
    {
     "data": {
      "image/png": "[encoded data removed]",
      "text/plain": [
       "<Figure size 1080x504 with 1 Axes>"
      ]
     },
     "metadata": {
      "needs_background": "light"
     },
     "output_type": "display_data"
    }
   ],
   "source": [
    "get_domain_accuracies(experiment)"
   ]
  },
  {
   "cell_type": "code",
   "execution_count": 28,
   "id": "a74ae082",
   "metadata": {
    "execution": {
     "iopub.execute_input": "2022-03-23T07:02:27.010642Z",
     "iopub.status.busy": "2022-03-23T07:02:27.010392Z",
     "iopub.status.idle": "2022-03-23T07:02:27.026710Z",
     "shell.execute_reply": "2022-03-23T07:02:27.026343Z"
    },
    "papermill": {
     "duration": 0.061932,
     "end_time": "2022-03-23T07:02:27.026787",
     "exception": false,
     "start_time": "2022-03-23T07:02:26.964855",
     "status": "completed"
    },
    "tags": []
   },
   "outputs": [
    {
     "name": "stdout",
     "output_type": "stream",
     "text": [
      "Source Test Label Accuracy: 0.7327864583333333 Target Test Label Accuracy: 0.7137044270833334\n",
      "Source Val Label Accuracy: 0.73337890625 Target Val Label Accuracy: 0.71603515625\n"
     ]
    }
   ],
   "source": [
    "print(\"Source Test Label Accuracy:\", experiment[\"results\"][\"source_test_label_accuracy\"], \"Target Test Label Accuracy:\", experiment[\"results\"][\"target_test_label_accuracy\"])\n",
    "print(\"Source Val Label Accuracy:\", experiment[\"results\"][\"source_val_label_accuracy\"], \"Target Val Label Accuracy:\", experiment[\"results\"][\"target_val_label_accuracy\"])"
   ]
  },
  {
   "cell_type": "code",
   "execution_count": 29,
   "id": "dacca602",
   "metadata": {
    "execution": {
     "iopub.execute_input": "2022-03-23T07:02:27.121884Z",
     "iopub.status.busy": "2022-03-23T07:02:27.121637Z",
     "iopub.status.idle": "2022-03-23T07:02:27.134874Z",
     "shell.execute_reply": "2022-03-23T07:02:27.135266Z"
    },
    "papermill": {
     "duration": 0.059341,
     "end_time": "2022-03-23T07:02:27.135391",
     "exception": false,
     "start_time": "2022-03-23T07:02:27.076050",
     "status": "completed"
    },
    "tags": [
     "experiment_json"
    ]
   },
   "outputs": [
    {
     "data": {
      "text/plain": [
       "'{\"experiment_name\": \"tl_1v2:oracle.run1-oracle.run2\", \"parameters\": {\"experiment_name\": \"tl_1v2:oracle.run1-oracle.run2\", \"device\": \"cuda\", \"lr\": 0.0001, \"n_shot\": 3, \"n_query\": 2, \"train_k_factor\": 3, \"val_k_factor\": 2, \"test_k_factor\": 2, \"torch_default_dtype\": \"torch.float32\", \"n_epoch\": 50, \"patience\": 3, \"criteria_for_best\": \"target_accuracy\", \"x_net\": [{\"class\": \"nnReshape\", \"kargs\": {\"shape\": [-1, 1, 2, 256]}}, {\"class\": \"Conv2d\", \"kargs\": {\"in_channels\": 1, \"out_channels\": 256, \"kernel_size\": [1, 7], \"bias\": false, \"padding\": [0, 3]}}, {\"class\": \"ReLU\", \"kargs\": {\"inplace\": true}}, {\"class\": \"BatchNorm2d\", \"kargs\": {\"num_features\": 256}}, {\"class\": \"Conv2d\", \"kargs\": {\"in_channels\": 256, \"out_channels\": 80, \"kernel_size\": [2, 7], \"bias\": true, \"padding\": [0, 3]}}, {\"class\": \"ReLU\", \"kargs\": {\"inplace\": true}}, {\"class\": \"BatchNorm2d\", \"kargs\": {\"num_features\": 80}}, {\"class\": \"Flatten\", \"kargs\": {}}, {\"class\": \"Linear\", \"kargs\": {\"in_features\": 20480, \"out_features\": 256}}, {\"class\": \"ReLU\", \"kargs\": {\"inplace\": true}}, {\"class\": \"BatchNorm1d\", \"kargs\": {\"num_features\": 256}}, {\"class\": \"Linear\", \"kargs\": {\"in_features\": 256, \"out_features\": 256}}], \"NUM_LOGS_PER_EPOCH\": 10, \"BEST_MODEL_PATH\": \"./best_model.pth\", \"n_way\": 16, \"datasets\": [{\"labels\": [\"3123D52\", \"3123D65\", \"3123D79\", \"3123D80\", \"3123D54\", \"3123D70\", \"3123D7B\", \"3123D89\", \"3123D58\", \"3123D76\", \"3123D7D\", \"3123EFE\", \"3123D64\", \"3123D78\", \"3123D7E\", \"3124E4A\"], \"domains\": [32, 38, 8, 44, 14, 50, 20, 26], \"num_examples_per_domain_per_label\": 10000, \"pickle_path\": \"/mnt/wd500GB/CSC500/csc500-main/datasets/oracle.Run1_10kExamples_stratified_ds.2022A.pkl\", \"source_or_target_dataset\": \"source\", \"x_transforms\": [\"unit_power\"], \"episode_transforms\": [], \"domain_prefix\": \"ORACLE.run1_\"}, {\"labels\": [\"3123D52\", \"3123D65\", \"3123D79\", \"3123D80\", \"3123D54\", \"3123D70\", \"3123D7B\", \"3123D89\", \"3123D58\", \"3123D76\", \"3123D7D\", \"3123EFE\", \"3123D64\", \"3123D78\", \"3123D7E\", \"3124E4A\"], \"domains\": [32, 38, 8, 44, 14, 50, 20, 26], \"num_examples_per_domain_per_label\": 10000, \"pickle_path\": \"/mnt/wd500GB/CSC500/csc500-main/datasets/oracle.Run2_10kExamples_stratified_ds.2022A.pkl\", \"source_or_target_dataset\": \"target\", \"x_transforms\": [\"unit_power\"], \"episode_transforms\": [], \"domain_prefix\": \"ORACLE.run2_\"}], \"dataset_seed\": 1337, \"seed\": 1337, \"x_shape\": [2, 256], \"domains_source\": [\"ORACLE.run1_32\", \"ORACLE.run1_38\", \"ORACLE.run1_8\", \"ORACLE.run1_44\", \"ORACLE.run1_14\", \"ORACLE.run1_50\", \"ORACLE.run1_20\", \"ORACLE.run1_26\"], \"domains_target\": [\"ORACLE.run2_32\", \"ORACLE.run2_38\", \"ORACLE.run2_8\", \"ORACLE.run2_44\", \"ORACLE.run2_14\", \"ORACLE.run2_50\", \"ORACLE.run2_20\", \"ORACLE.run2_26\"]}, \"results\": {\"source_test_label_accuracy\": 0.7327864583333333, \"source_test_label_loss\": 0.7613471150398254, \"target_test_label_accuracy\": 0.7137044270833334, \"target_test_label_loss\": 0.8469606041908264, \"source_val_label_accuracy\": 0.73337890625, \"source_val_label_loss\": 0.7624140381813049, \"target_val_label_accuracy\": 0.71603515625, \"target_val_label_loss\": 0.8528973460197449, \"total_epochs_trained\": 13, \"total_experiment_time_secs\": 11953.838588953018, \"confusion\": {\"ORACLE.run1_14\": {\"15\": {\"15\": 1172, \"5\": 1, \"7\": 26, \"2\": 1}, \"3\": {\"3\": 1020, \"4\": 109, \"14\": 33, \"2\": 21, \"5\": 7, \"0\": 8, \"1\": 2}, \"6\": {\"6\": 669, \"13\": 447, \"2\": 35, \"4\": 2, \"14\": 47}, \"1\": {\"1\": 1087, \"5\": 106, \"4\": 7}, \"8\": {\"8\": 1200}, \"10\": {\"10\": 1157, \"0\": 42, \"3\": 1}, \"9\": {\"9\": 1193, \"12\": 5, \"11\": 2}, \"13\": {\"6\": 496, \"13\": 414, \"2\": 117, \"14\": 153, \"5\": 11, \"4\": 8, \"10\": 1}, \"12\": {\"12\": 1197, \"9\": 3}, \"5\": {\"4\": 195, \"5\": 788, \"2\": 56, \"1\": 142, \"15\": 7, \"3\": 9, \"7\": 3}, \"0\": {\"10\": 61, \"0\": 1099, \"11\": 21, \"8\": 1, \"3\": 18}, \"2\": {\"2\": 622, \"6\": 56, \"14\": 156, \"4\": 96, \"5\": 120, \"3\": 53, \"15\": 25, \"13\": 72}, \"11\": {\"11\": 1107, \"0\": 44, \"9\": 47, \"10\": 2}, \"14\": {\"14\": 990, \"13\": 83, \"6\": 29, \"2\": 71, \"3\": 24, \"4\": 2, \"5\": 1}, \"7\": {\"7\": 1185, \"15\": 8, \"1\": 4, \"5\": 3}, \"4\": {\"4\": 872, \"5\": 156, \"2\": 53, \"3\": 99, \"1\": 16, \"14\": 3, \"6\": 1}}, \"ORACLE.run1_20\": {\"3\": {\"12\": 271, \"2\": 80, \"9\": 185, \"3\": 509, \"4\": 60, \"1\": 21, \"7\": 27, \"8\": 6, \"5\": 31, \"0\": 5, \"10\": 3, \"13\": 1, \"15\": 1}, \"15\": {\"15\": 745, \"1\": 197, \"12\": 28, \"5\": 91, \"13\": 52, \"0\": 71, \"3\": 6, \"2\": 7, \"9\": 3}, \"8\": {\"8\": 921, \"14\": 43, \"4\": 137, \"7\": 70, \"10\": 11, \"6\": 6, \"3\": 10, \"12\": 1, \"9\": 1}, \"4\": {\"4\": 955, \"3\": 75, \"8\": 118, \"7\": 6, \"10\": 33, \"5\": 5, \"0\": 2, \"12\": 5, \"9\": 1}, \"14\": {\"14\": 983, \"10\": 59, \"6\": 139, \"4\": 1, \"8\": 16, \"7\": 2}, \"0\": {\"0\": 759, \"12\": 16, \"15\": 108, \"5\": 248, \"2\": 5, \"1\": 23, \"4\": 5, \"7\": 7, \"8\": 7, \"13\": 6, \"3\": 15, \"9\": 1}, \"7\": {\"7\": 901, \"2\": 126, \"3\": 31, \"8\": 72, \"9\": 42, \"6\": 13, \"5\": 1, \"10\": 3, \"14\": 1, \"4\": 6, \"12\": 2, \"13\": 2}, \"6\": {\"6\": 1059, \"8\": 6, \"14\": 123, \"7\": 11, \"10\": 1}, \"10\": {\"10\": 1088, \"4\": 19, \"14\": 80, \"8\": 11, \"6\": 1, \"3\": 1}, \"5\": {\"0\": 215, \"5\": 536, \"15\": 104, \"12\": 128, \"1\": 172, \"2\": 5, \"3\": 31, \"13\": 2, \"4\": 6, \"9\": 1}, \"2\": {\"9\": 270, \"2\": 614, \"7\": 153, \"12\": 49, \"13\": 45, \"3\": 54, \"15\": 6, \"1\": 6, \"8\": 1, \"0\": 1, \"5\": 1}, \"12\": {\"12\": 458, \"1\": 187, \"3\": 238, \"0\": 10, \"9\": 108, \"5\": 122, \"2\": 44, \"15\": 21, \"4\": 11, \"7\": 1}, \"9\": {\"3\": 184, \"9\": 521, \"12\": 119, \"2\": 303, \"7\": 39, \"13\": 8, \"4\": 4, \"1\": 12, \"8\": 2, \"15\": 4, \"5\": 4}, \"1\": {\"1\": 541, \"5\": 174, \"12\": 186, \"15\": 225, \"0\": 24, \"3\": 22, \"9\": 17, \"13\": 4, \"2\": 7}, \"11\": {\"11\": 1200}, \"13\": {\"13\": 1114, \"15\": 22, \"2\": 50, \"11\": 1, \"12\": 4, \"1\": 4, \"5\": 1, \"9\": 3, \"7\": 1}}, \"ORACLE.run1_38\": {\"5\": {\"7\": 112, \"8\": 313, \"0\": 61, \"5\": 567, \"15\": 50, \"9\": 44, \"10\": 7, \"6\": 36, \"1\": 6, \"13\": 2, \"3\": 2}, \"8\": {\"8\": 717, \"0\": 119, \"15\": 25, \"5\": 273, \"10\": 21, \"7\": 37, \"13\": 8}, \"11\": {\"11\": 1063, \"14\": 118, \"10\": 13, \"13\": 2, \"2\": 2, \"4\": 1, \"12\": 1}, \"1\": {\"1\": 1145, \"15\": 53, \"5\": 2}, \"10\": {\"10\": 956, \"13\": 138, \"8\": 36, \"7\": 8, \"0\": 22, \"12\": 10, \"11\": 8, \"14\": 11, \"5\": 4, \"15\": 4, \"4\": 2, \"2\": 1}, \"15\": {\"15\": 967, \"13\": 97, \"1\": 75, \"8\": 36, \"10\": 4, \"14\": 1, \"5\": 15, \"2\": 3, \"0\": 2}, \"3\": {\"3\": 1122, \"0\": 28, \"6\": 1, \"9\": 36, \"7\": 10, \"5\": 3}, \"7\": {\"5\": 61, \"7\": 963, \"0\": 122, \"3\": 1, \"8\": 49, \"10\": 1, \"9\": 2, \"4\": 1}, \"4\": {\"4\": 1130, \"12\": 64, \"0\": 1, \"10\": 3, \"7\": 2}, \"14\": {\"14\": 1065, \"2\": 74, \"11\": 45, \"10\": 10, \"12\": 3, \"13\": 3}, \"9\": {\"6\": 279, \"9\": 878, \"5\": 21, \"3\": 19, \"0\": 2, \"8\": 1}, \"12\": {\"12\": 1162, \"4\": 34, \"10\": 2, \"14\": 1, \"0\": 1}, \"6\": {\"6\": 1048, \"9\": 145, \"8\": 2, \"5\": 5}, \"2\": {\"2\": 1108, \"14\": 69, \"13\": 20, \"11\": 1, \"10\": 2}, \"0\": {\"8\": 219, \"0\": 618, \"3\": 70, \"7\": 186, \"5\": 80, \"10\": 23, \"15\": 1, \"9\": 1, \"4\": 2}, \"13\": {\"10\": 99, \"13\": 893, \"15\": 157, \"2\": 26, \"8\": 13, \"1\": 2, \"0\": 2, \"5\": 6, \"14\": 2}}, \"ORACLE.run1_8\": {\"9\": {\"9\": 1200}, \"10\": {\"10\": 788, \"13\": 106, \"5\": 27, \"14\": 227, \"4\": 47, \"0\": 3, \"1\": 2}, \"13\": {\"6\": 49, \"13\": 435, \"10\": 118, \"0\": 328, \"4\": 184, \"14\": 74, \"7\": 8, \"1\": 3, \"5\": 1}, \"0\": {\"0\": 731, \"13\": 265, \"6\": 78, \"7\": 82, \"4\": 35, \"10\": 8, \"14\": 1}, \"1\": {\"1\": 874, \"11\": 242, \"14\": 57, \"5\": 18, \"4\": 7, \"10\": 2}, \"15\": {\"15\": 874, \"12\": 263, \"8\": 53, \"2\": 3, \"3\": 6, \"7\": 1}, \"5\": {\"5\": 1069, \"10\": 58, \"1\": 53, \"14\": 17, \"13\": 1, \"11\": 2}, \"3\": {\"3\": 1036, \"2\": 107, \"12\": 54, \"15\": 3}, \"6\": {\"8\": 9, \"6\": 674, \"7\": 285, \"0\": 67, \"4\": 126, \"13\": 35, \"14\": 3, \"11\": 1}, \"11\": {\"11\": 859, \"1\": 311, \"10\": 1, \"8\": 4, \"5\": 13, \"6\": 1, \"14\": 11}, \"8\": {\"8\": 1130, \"15\": 61, \"7\": 2, \"12\": 4, \"6\": 3}, \"4\": {\"4\": 645, \"14\": 172, \"13\": 186, \"10\": 22, \"6\": 125, \"0\": 46, \"7\": 3, \"1\": 1}, \"12\": {\"12\": 644, \"15\": 374, \"8\": 26, \"3\": 144, \"2\": 12}, \"14\": {\"14\": 638, \"4\": 224, \"10\": 204, \"1\": 54, \"13\": 65, \"0\": 4, \"11\": 6, \"5\": 1, \"6\": 4}, \"2\": {\"2\": 995, \"3\": 137, \"7\": 18, \"15\": 31, \"8\": 2, \"12\": 15, \"6\": 2}, \"7\": {\"7\": 864, \"0\": 36, \"6\": 287, \"8\": 2, \"4\": 2, \"13\": 5, \"2\": 4}}, \"ORACLE.run1_50\": {\"7\": {\"7\": 798, \"13\": 216, \"5\": 153, \"10\": 17, \"6\": 11, \"4\": 5}, \"3\": {\"3\": 1183, \"8\": 17}, \"8\": {\"8\": 1173, \"3\": 15, \"10\": 12}, \"2\": {\"2\": 1108, \"0\": 92}, \"14\": {\"14\": 1181, \"12\": 12, \"11\": 7}, \"4\": {\"4\": 581, \"5\": 151, \"15\": 182, \"1\": 150, \"6\": 93, \"13\": 16, \"7\": 25, \"11\": 2}, \"6\": {\"6\": 903, \"1\": 71, \"13\": 62, \"5\": 25, \"4\": 110, \"15\": 22, \"7\": 6, \"0\": 1}, \"15\": {\"1\": 171, \"15\": 898, \"11\": 24, \"4\": 82, \"6\": 25}, \"10\": {\"10\": 1118, \"7\": 17, \"13\": 26, \"0\": 24, \"8\": 14, \"5\": 1}, \"11\": {\"11\": 1066, \"15\": 32, \"9\": 88, \"1\": 5, \"14\": 5, \"12\": 4}, \"13\": {\"7\": 166, \"13\": 805, \"5\": 148, \"0\": 2, \"6\": 49, \"10\": 20, \"4\": 10}, \"9\": {\"11\": 176, \"12\": 79, \"9\": 942, \"14\": 3}, \"0\": {\"0\": 1042, \"10\": 49, \"2\": 101, \"13\": 4, \"1\": 2, \"5\": 2}, \"1\": {\"1\": 828, \"6\": 88, \"15\": 187, \"4\": 84, \"5\": 9, \"11\": 1, \"13\": 2, \"14\": 1}, \"12\": {\"12\": 1089, \"9\": 83, \"11\": 6, \"14\": 22}, \"5\": {\"1\": 56, \"5\": 520, \"7\": 215, \"4\": 148, \"13\": 181, \"6\": 68, \"10\": 10, \"15\": 2}}, \"ORACLE.run1_32\": {\"8\": {\"13\": 76, \"8\": 909, \"5\": 90, \"0\": 113, \"4\": 3, \"3\": 6, \"14\": 1, \"7\": 1, \"15\": 1}, \"14\": {\"14\": 580, \"11\": 295, \"7\": 185, \"0\": 38, \"2\": 8, \"4\": 14, \"5\": 20, \"13\": 45, \"8\": 7, \"3\": 8}, \"2\": {\"4\": 175, \"2\": 979, \"0\": 26, \"7\": 18, \"5\": 1, \"13\": 1}, \"0\": {\"0\": 881, \"5\": 44, \"8\": 101, \"4\": 52, \"2\": 41, \"13\": 17, \"7\": 36, \"14\": 28}, \"1\": {\"1\": 1189, \"10\": 11}, \"10\": {\"10\": 1198, \"1\": 2}, \"11\": {\"11\": 959, \"14\": 178, \"13\": 28, \"3\": 13, \"5\": 6, \"7\": 15, \"8\": 1}, \"5\": {\"13\": 270, \"5\": 479, \"8\": 53, \"7\": 153, \"0\": 42, \"4\": 124, \"11\": 1, \"14\": 29, \"3\": 36, \"2\": 13}, \"15\": {\"15\": 1189, \"8\": 11}, \"3\": {\"3\": 1108, \"11\": 17, \"13\": 51, \"14\": 5, \"8\": 6, \"5\": 13}, \"12\": {\"12\": 1200}, \"7\": {\"7\": 564, \"13\": 84, \"5\": 166, \"4\": 159, \"14\": 137, \"2\": 21, \"11\": 38, \"0\": 26, \"8\": 5}, \"13\": {\"8\": 53, \"13\": 597, \"4\": 77, \"7\": 92, \"14\": 30, \"3\": 87, \"5\": 225, \"0\": 21, \"11\": 18}, \"6\": {\"6\": 1200}, \"4\": {\"4\": 731, \"13\": 47, \"2\": 168, \"7\": 134, \"5\": 82, \"0\": 33, \"8\": 3, \"14\": 2}, \"9\": {\"9\": 1199, \"12\": 1}}, \"ORACLE.run1_26\": {\"4\": {\"8\": 98, \"4\": 497, \"14\": 238, \"1\": 79, \"7\": 69, \"0\": 157, \"10\": 54, \"3\": 2, \"2\": 3, \"9\": 1, \"15\": 1, \"5\": 1}, \"12\": {\"12\": 1199, \"11\": 1}, \"10\": {\"10\": 492, \"4\": 81, \"6\": 48, \"8\": 154, \"9\": 16, \"14\": 115, \"0\": 267, \"1\": 19, \"15\": 5, \"7\": 3}, \"0\": {\"10\": 277, \"0\": 399, \"4\": 154, \"1\": 23, \"14\": 177, \"8\": 123, \"7\": 18, \"6\": 20, \"9\": 6, \"15\": 3}, \"13\": {\"13\": 878, \"5\": 200, \"9\": 24, \"6\": 11, \"15\": 69, \"2\": 17, \"3\": 1}, \"9\": {\"15\": 334, \"9\": 514, \"10\": 20, \"13\": 28, \"0\": 17, \"6\": 128, \"5\": 36, \"8\": 110, \"3\": 1, \"7\": 3, \"2\": 7, \"4\": 1, \"14\": 1}, \"3\": {\"3\": 748, \"2\": 260, \"7\": 185, \"15\": 4, \"4\": 2, \"9\": 1}, \"2\": {\"2\": 496, \"7\": 132, \"3\": 347, \"5\": 111, \"9\": 16, \"15\": 61, \"13\": 10, \"8\": 23, \"0\": 1, \"4\": 3}, \"5\": {\"5\": 780, \"2\": 75, \"13\": 130, \"9\": 50, \"15\": 137, \"8\": 21, \"3\": 1, \"7\": 5, \"6\": 1}, \"14\": {\"0\": 177, \"14\": 480, \"4\": 210, \"1\": 196, \"10\": 105, \"7\": 15, \"8\": 17}, \"8\": {\"10\": 153, \"4\": 121, \"9\": 102, \"8\": 455, \"0\": 117, \"15\": 64, \"6\": 40, \"7\": 77, \"14\": 34, \"3\": 4, \"2\": 21, \"5\": 10, \"1\": 2}, \"7\": {\"7\": 674, \"2\": 117, \"4\": 84, \"8\": 64, \"3\": 200, \"5\": 7, \"14\": 12, \"0\": 15, \"1\": 5, \"6\": 1, \"9\": 5, \"15\": 10, \"10\": 6}, \"6\": {\"6\": 897, \"15\": 49, \"9\": 134, \"10\": 65, \"8\": 26, \"13\": 6, \"0\": 18, \"5\": 5}, \"11\": {\"11\": 1193, \"12\": 7}, \"15\": {\"2\": 34, \"6\": 37, \"9\": 365, \"5\": 126, \"15\": 456, \"13\": 65, \"8\": 84, \"7\": 18, \"10\": 5, \"0\": 8, \"4\": 1, \"3\": 1}, \"1\": {\"14\": 239, \"1\": 756, \"0\": 23, \"8\": 6, \"3\": 4, \"4\": 121, \"10\": 38, \"7\": 13}}, \"ORACLE.run1_44\": {\"12\": {\"10\": 62, \"12\": 961, \"1\": 160, \"3\": 17}, \"7\": {\"7\": 766, \"2\": 175, \"6\": 32, \"9\": 222, \"1\": 2, \"13\": 2, \"10\": 1}, \"5\": {\"5\": 1054, \"14\": 32, \"15\": 29, \"0\": 76, \"8\": 7, \"4\": 2}, \"15\": {\"15\": 974, \"5\": 30, \"14\": 90, \"0\": 73, \"8\": 18, \"4\": 15}, \"8\": {\"8\": 733, \"0\": 412, \"15\": 37, \"5\": 18}, \"2\": {\"2\": 926, \"7\": 148, \"1\": 42, \"10\": 75, \"9\": 2, \"3\": 4, \"12\": 3}, \"13\": {\"13\": 797, \"9\": 147, \"6\": 207, \"11\": 39, \"4\": 7, \"7\": 3}, \"4\": {\"4\": 892, \"14\": 300, \"15\": 5, \"5\": 2, \"13\": 1}, \"0\": {\"0\": 759, \"5\": 69, \"8\": 320, \"15\": 52}, \"6\": {\"6\": 850, \"13\": 188, \"7\": 25, \"9\": 124, \"11\": 13}, \"9\": {\"13\": 137, \"9\": 671, \"7\": 285, \"6\": 100, \"2\": 6, \"4\": 1}, \"11\": {\"11\": 1115, \"13\": 72, \"6\": 12, \"9\": 1}, \"10\": {\"2\": 100, \"10\": 895, \"1\": 127, \"12\": 75, \"7\": 1, \"3\": 2}, \"14\": {\"14\": 781, \"4\": 317, \"15\": 64, \"5\": 38}, \"1\": {\"10\": 80, \"1\": 761, \"12\": 178, \"2\": 44, \"3\": 137}, \"3\": {\"3\": 1067, \"1\": 117, \"12\": 12, \"2\": 2, \"7\": 2}}, \"ORACLE.run2_14\": {\"15\": {\"15\": 1188, \"7\": 12}, \"3\": {\"4\": 71, \"3\": 996, \"14\": 19, \"5\": 74, \"2\": 32, \"1\": 4, \"0\": 4}, \"6\": {\"13\": 239, \"6\": 851, \"14\": 72, \"2\": 33, \"4\": 5}, \"1\": {\"1\": 1104, \"5\": 76, \"4\": 20}, \"8\": {\"8\": 1200}, \"10\": {\"10\": 1160, \"0\": 36, \"14\": 3, \"6\": 1}, \"9\": {\"9\": 1198, \"12\": 2}, \"13\": {\"13\": 888, \"6\": 281, \"2\": 20, \"15\": 1, \"14\": 10}, \"12\": {\"12\": 598, \"11\": 325, \"9\": 135, \"8\": 44, \"0\": 86, \"10\": 11, \"3\": 1}, \"5\": {\"5\": 640, \"2\": 94, \"1\": 75, \"4\": 275, \"3\": 114, \"14\": 2}, \"0\": {\"0\": 1192, \"10\": 6, \"3\": 2}, \"2\": {\"2\": 512, \"14\": 217, \"5\": 168, \"6\": 39, \"13\": 62, \"3\": 100, \"4\": 98, \"15\": 1, \"0\": 1, \"1\": 2}, \"11\": {\"11\": 1187, \"12\": 12, \"10\": 1}, \"14\": {\"14\": 890, \"6\": 83, \"2\": 166, \"4\": 8, \"5\": 3, \"3\": 33, \"13\": 12, \"0\": 5}, \"7\": {\"7\": 1190, \"1\": 5, \"15\": 5}, \"4\": {\"5\": 304, \"2\": 60, \"4\": 754, \"3\": 55, \"6\": 1, \"14\": 1, \"1\": 24, \"13\": 1}}, \"ORACLE.run2_20\": {\"3\": {\"2\": 183, \"3\": 505, \"9\": 130, \"5\": 107, \"7\": 186, \"4\": 26, \"8\": 10, \"12\": 33, \"15\": 10, \"10\": 8, \"1\": 1, \"0\": 1}, \"15\": {\"15\": 498, \"13\": 296, \"1\": 98, \"12\": 71, \"2\": 85, \"5\": 65, \"3\": 4, \"9\": 51, \"0\": 32}, \"8\": {\"14\": 148, \"6\": 26, \"8\": 793, \"4\": 61, \"10\": 17, \"7\": 132, \"3\": 11, \"5\": 12}, \"4\": {\"4\": 1048, \"3\": 13, \"12\": 45, \"5\": 39, \"8\": 18, \"7\": 2, \"0\": 15, \"9\": 7, \"1\": 5, \"10\": 3, \"2\": 2, \"14\": 3}, \"14\": {\"14\": 812, \"8\": 164, \"10\": 79, \"6\": 132, \"7\": 4, \"4\": 9}, \"0\": {\"0\": 957, \"1\": 63, \"15\": 43, \"5\": 71, \"12\": 32, \"13\": 10, \"4\": 21, \"3\": 1, \"2\": 2}, \"7\": {\"7\": 846, \"5\": 31, \"3\": 138, \"8\": 136, \"6\": 16, \"10\": 16, \"2\": 11, \"14\": 3, \"9\": 1, \"4\": 1, \"11\": 1}, \"6\": {\"6\": 1066, \"14\": 89, \"7\": 16, \"8\": 17, \"10\": 12}, \"10\": {\"10\": 1036, \"14\": 102, \"6\": 20, \"4\": 9, \"7\": 9, \"3\": 9, \"8\": 15}, \"5\": {\"7\": 50, \"3\": 150, \"5\": 471, \"0\": 87, \"15\": 83, \"4\": 34, \"1\": 24, \"9\": 39, \"12\": 111, \"2\": 135, \"8\": 14, \"13\": 2}, \"2\": {\"2\": 397, \"15\": 92, \"3\": 174, \"5\": 149, \"12\": 75, \"9\": 272, \"13\": 12, \"1\": 15, \"7\": 10, \"0\": 3, \"8\": 1}, \"12\": {\"12\": 470, \"5\": 97, \"2\": 65, \"9\": 124, \"1\": 249, \"4\": 31, \"15\": 76, \"3\": 37, \"0\": 43, \"13\": 7, \"7\": 1}, \"9\": {\"9\": 500, \"2\": 276, \"15\": 63, \"5\": 48, \"12\": 121, \"3\": 146, \"1\": 35, \"7\": 4, \"4\": 4, \"13\": 3}, \"1\": {\"1\": 710, \"5\": 14, \"15\": 100, \"12\": 247, \"2\": 15, \"0\": 53, \"9\": 43, \"13\": 10, \"3\": 1, \"4\": 7}, \"11\": {\"11\": 1199, \"3\": 1}, \"13\": {\"13\": 882, \"15\": 265, \"2\": 20, \"5\": 11, \"1\": 12, \"0\": 3, \"3\": 1, \"12\": 2, \"9\": 4}}, \"ORACLE.run2_38\": {\"5\": {\"7\": 138, \"15\": 142, \"8\": 360, \"5\": 495, \"10\": 18, \"3\": 4, \"13\": 39, \"0\": 4}, \"8\": {\"13\": 73, \"8\": 442, \"5\": 368, \"15\": 194, \"3\": 12, \"7\": 89, \"10\": 17, \"0\": 2, \"6\": 1, \"1\": 2}, \"11\": {\"14\": 56, \"11\": 1121, \"4\": 10, \"2\": 4, \"12\": 8, \"7\": 1}, \"1\": {\"1\": 1127, \"8\": 5, \"15\": 56, \"5\": 9, \"13\": 3}, \"10\": {\"10\": 705, \"7\": 347, \"8\": 45, \"13\": 31, \"3\": 27, \"5\": 34, \"4\": 3, \"0\": 6, \"15\": 2}, \"15\": {\"15\": 658, \"1\": 102, \"8\": 207, \"5\": 179, \"0\": 9, \"7\": 11, \"3\": 5, \"13\": 22, \"6\": 6, \"9\": 1}, \"3\": {\"13\": 147, \"5\": 19, \"3\": 513, \"0\": 283, \"10\": 69, \"8\": 63, \"6\": 13, \"7\": 36, \"9\": 43, \"15\": 11, \"1\": 3}, \"7\": {\"7\": 598, \"10\": 326, \"5\": 126, \"8\": 114, \"15\": 3, \"3\": 18, \"13\": 14, \"0\": 1}, \"4\": {\"4\": 1156, \"12\": 33, \"7\": 5, \"10\": 6}, \"14\": {\"14\": 730, \"2\": 309, \"11\": 30, \"12\": 69, \"7\": 19, \"13\": 7, \"8\": 10, \"5\": 20, \"4\": 3, \"10\": 3}, \"9\": {\"9\": 895, \"6\": 289, \"3\": 12, \"0\": 4}, \"12\": {\"12\": 1168, \"14\": 13, \"4\": 19}, \"6\": {\"6\": 983, \"9\": 212, \"15\": 2, \"0\": 1, \"3\": 2}, \"2\": {\"2\": 1051, \"14\": 149}, \"0\": {\"0\": 1012, \"3\": 144, \"6\": 2, \"8\": 11, \"10\": 12, \"5\": 1, \"9\": 7, \"7\": 9, \"15\": 2}, \"13\": {\"13\": 617, \"8\": 151, \"7\": 44, \"10\": 42, \"1\": 27, \"6\": 3, \"5\": 88, \"3\": 156, \"0\": 13, \"15\": 41, \"2\": 10, \"14\": 6, \"9\": 2}}, \"ORACLE.run2_8\": {\"9\": {\"9\": 1200}, \"10\": {\"10\": 695, \"14\": 58, \"5\": 187, \"0\": 218, \"13\": 28, \"1\": 14}, \"13\": {\"1\": 141, \"13\": 784, \"14\": 184, \"10\": 52, \"5\": 9, \"6\": 25, \"4\": 1, \"0\": 4}, \"0\": {\"0\": 806, \"10\": 177, \"14\": 201, \"5\": 6, \"4\": 4, \"13\": 2, \"6\": 4}, \"1\": {\"1\": 1083, \"13\": 88, \"10\": 4, \"5\": 25}, \"15\": {\"8\": 138, \"15\": 712, \"12\": 191, \"11\": 153, \"3\": 5, \"7\": 1}, \"5\": {\"5\": 929, \"10\": 227, \"1\": 37, \"0\": 3, \"13\": 3, \"14\": 1}, \"3\": {\"3\": 1111, \"12\": 85, \"15\": 4}, \"6\": {\"14\": 47, \"6\": 522, \"13\": 7, \"4\": 385, \"7\": 208, \"2\": 25, \"0\": 4, \"8\": 2}, \"11\": {\"12\": 140, \"11\": 598, \"8\": 266, \"15\": 195, \"6\": 1}, \"8\": {\"8\": 1010, \"11\": 103, \"15\": 78, \"6\": 1, \"13\": 2, \"7\": 5, \"4\": 1}, \"4\": {\"6\": 379, \"7\": 249, \"4\": 460, \"2\": 93, \"14\": 17, \"0\": 2}, \"12\": {\"12\": 950, \"3\": 75, \"15\": 142, \"11\": 33}, \"14\": {\"14\": 776, \"0\": 156, \"4\": 15, \"13\": 157, \"10\": 59, \"6\": 35, \"1\": 1, \"7\": 1}, \"2\": {\"2\": 904, \"4\": 104, \"7\": 164, \"6\": 26, \"8\": 1, \"14\": 1}, \"7\": {\"7\": 579, \"2\": 149, \"4\": 232, \"6\": 220, \"14\": 2, \"8\": 18}}, \"ORACLE.run2_50\": {\"7\": {\"7\": 678, \"13\": 348, \"5\": 98, \"10\": 57, \"6\": 5, \"4\": 14}, \"3\": {\"8\": 54, \"3\": 1146}, \"8\": {\"8\": 1171, \"3\": 29}, \"2\": {\"2\": 1141, \"0\": 59}, \"14\": {\"11\": 8, \"14\": 1185, \"12\": 7}, \"4\": {\"4\": 672, \"5\": 311, \"1\": 65, \"6\": 136, \"7\": 7, \"13\": 6, \"10\": 3}, \"6\": {\"4\": 121, \"6\": 803, \"1\": 188, \"15\": 20, \"5\": 62, \"7\": 1, \"10\": 2, \"0\": 3}, \"15\": {\"15\": 1095, \"1\": 58, \"6\": 15, \"11\": 30, \"14\": 1, \"4\": 1}, \"10\": {\"10\": 936, \"13\": 171, \"7\": 36, \"5\": 37, \"0\": 15, \"6\": 4, \"8\": 1}, \"11\": {\"11\": 1125, \"12\": 10, \"15\": 43, \"14\": 9, \"9\": 13}, \"13\": {\"7\": 282, \"13\": 700, \"10\": 170, \"5\": 43, \"4\": 5}, \"9\": {\"9\": 1131, \"11\": 19, \"12\": 50}, \"0\": {\"2\": 75, \"0\": 1093, \"10\": 30, \"5\": 1, \"6\": 1}, \"1\": {\"15\": 57, \"1\": 963, \"6\": 124, \"4\": 42, \"5\": 14}, \"12\": {\"12\": 1101, \"9\": 62, \"14\": 31, \"11\": 6}, \"5\": {\"5\": 611, \"10\": 41, \"1\": 9, \"4\": 303, \"6\": 62, \"7\": 104, \"13\": 66, \"0\": 4}}, \"ORACLE.run2_32\": {\"8\": {\"8\": 932, \"0\": 90, \"7\": 1, \"5\": 70, \"3\": 18, \"13\": 48, \"4\": 32, \"15\": 4, \"11\": 5}, \"14\": {\"14\": 996, \"2\": 95, \"0\": 57, \"11\": 11, \"5\": 38, \"8\": 1, \"4\": 2}, \"2\": {\"2\": 991, \"5\": 61, \"13\": 2, \"14\": 78, \"7\": 18, \"11\": 8, \"4\": 34, \"0\": 8}, \"0\": {\"0\": 667, \"5\": 104, \"4\": 110, \"11\": 162, \"7\": 15, \"13\": 32, \"14\": 15, \"8\": 84, \"2\": 11}, \"1\": {\"1\": 1192, \"10\": 8}, \"10\": {\"10\": 1195, \"1\": 5}, \"11\": {\"7\": 168, \"13\": 76, \"11\": 681, \"0\": 178, \"2\": 16, \"4\": 55, \"5\": 5, \"14\": 13, \"8\": 8}, \"5\": {\"2\": 130, \"13\": 49, \"14\": 93, \"5\": 520, \"4\": 142, \"0\": 114, \"7\": 14, \"8\": 120, \"11\": 11, \"3\": 7}, \"15\": {\"15\": 1194, \"8\": 6}, \"3\": {\"3\": 1150, \"8\": 12, \"13\": 33, \"4\": 2, \"11\": 2, \"7\": 1}, \"12\": {\"12\": 1200}, \"7\": {\"7\": 725, \"11\": 190, \"4\": 94, \"13\": 147, \"14\": 1, \"0\": 17, \"2\": 13, \"3\": 3, \"5\": 10}, \"13\": {\"3\": 28, \"13\": 668, \"7\": 111, \"4\": 243, \"8\": 41, \"11\": 59, \"5\": 18, \"0\": 32}, \"6\": {\"6\": 1200}, \"4\": {\"13\": 182, \"4\": 600, \"5\": 126, \"0\": 109, \"7\": 76, \"2\": 42, \"8\": 27, \"11\": 34, \"14\": 4}, \"9\": {\"9\": 1175, \"14\": 24, \"2\": 1}}, \"ORACLE.run2_26\": {\"4\": {\"4\": 668, \"7\": 65, \"8\": 58, \"14\": 43, \"1\": 14, \"3\": 71, \"0\": 127, \"10\": 25, \"2\": 82, \"15\": 47}, \"12\": {\"12\": 1200}, \"10\": {\"10\": 455, \"0\": 242, \"8\": 106, \"4\": 58, \"6\": 81, \"14\": 159, \"3\": 2, \"1\": 51, \"7\": 14, \"2\": 20, \"12\": 3, \"9\": 6, \"5\": 1, \"15\": 2}, \"0\": {\"0\": 430, \"8\": 94, \"10\": 206, \"14\": 219, \"4\": 139, \"6\": 2, \"2\": 17, \"7\": 13, \"1\": 70, \"15\": 6, \"5\": 1, \"3\": 1, \"9\": 2}, \"13\": {\"13\": 925, \"5\": 153, \"9\": 87, \"2\": 3, \"6\": 27, \"7\": 4, \"8\": 1}, \"9\": {\"13\": 86, \"9\": 737, \"2\": 19, \"6\": 151, \"5\": 61, \"8\": 98, \"15\": 10, \"7\": 24, \"10\": 10, \"0\": 4}, \"3\": {\"3\": 714, \"4\": 64, \"7\": 108, \"2\": 127, \"15\": 182, \"5\": 2, \"8\": 3}, \"2\": {\"9\": 12, \"3\": 137, \"2\": 335, \"7\": 354, \"15\": 104, \"8\": 84, \"4\": 121, \"13\": 1, \"5\": 39, \"14\": 1, \"0\": 9, \"10\": 2, \"1\": 1}, \"5\": {\"9\": 74, \"6\": 98, \"15\": 10, \"13\": 268, \"5\": 495, \"2\": 70, \"7\": 98, \"3\": 16, \"8\": 52, \"4\": 2, \"14\": 9, \"10\": 7, \"0\": 1}, \"14\": {\"4\": 60, \"8\": 79, \"1\": 256, \"10\": 157, \"0\": 226, \"14\": 410, \"2\": 4, \"7\": 5, \"5\": 2, \"6\": 1}, \"8\": {\"7\": 113, \"2\": 94, \"8\": 493, \"0\": 86, \"14\": 70, \"5\": 59, \"9\": 95, \"1\": 4, \"10\": 79, \"15\": 12, \"6\": 23, \"4\": 64, \"13\": 5, \"3\": 3}, \"7\": {\"7\": 402, \"9\": 18, \"15\": 64, \"2\": 340, \"8\": 116, \"5\": 50, \"10\": 3, \"3\": 98, \"4\": 93, \"0\": 10, \"1\": 1, \"14\": 2, \"13\": 2, \"6\": 1}, \"6\": {\"6\": 912, \"9\": 156, \"10\": 39, \"8\": 26, \"0\": 3, \"13\": 39, \"5\": 24, \"14\": 1}, \"11\": {\"11\": 1197, \"12\": 3}, \"15\": {\"3\": 232, \"15\": 692, \"7\": 105, \"5\": 5, \"2\": 103, \"4\": 33, \"8\": 16, \"9\": 6, \"0\": 8}, \"1\": {\"1\": 752, \"14\": 311, \"0\": 55, \"4\": 19, \"8\": 11, \"10\": 51, \"2\": 1}}, \"ORACLE.run2_44\": {\"12\": {\"1\": 293, \"12\": 849, \"3\": 56, \"10\": 2}, \"7\": {\"9\": 325, \"2\": 268, \"7\": 590, \"6\": 13, \"12\": 1, \"1\": 3}, \"5\": {\"5\": 1098, \"14\": 90, \"15\": 3, \"8\": 7, \"0\": 2}, \"15\": {\"15\": 998, \"14\": 143, \"0\": 2, \"4\": 40, \"8\": 12, \"5\": 5}, \"8\": {\"0\": 488, \"8\": 687, \"15\": 8, \"14\": 2, \"5\": 15}, \"2\": {\"7\": 211, \"2\": 696, \"9\": 287, \"1\": 3, \"6\": 2, \"3\": 1}, \"13\": {\"13\": 1126, \"4\": 45, \"6\": 27, \"14\": 2}, \"4\": {\"13\": 21, \"4\": 1092, \"15\": 26, \"14\": 60, \"5\": 1}, \"0\": {\"8\": 557, \"0\": 640, \"15\": 1, \"5\": 2}, \"6\": {\"6\": 1092, \"9\": 55, \"7\": 18, \"2\": 5, \"13\": 29, \"11\": 1}, \"9\": {\"9\": 564, \"2\": 303, \"7\": 295, \"6\": 36, \"1\": 2}, \"11\": {\"11\": 1183, \"6\": 15, \"7\": 2}, \"10\": {\"10\": 1144, \"1\": 27, \"12\": 29}, \"14\": {\"14\": 866, \"4\": 86, \"5\": 112, \"15\": 133, \"8\": 2, \"13\": 1}, \"1\": {\"1\": 761, \"12\": 277, \"3\": 152, \"2\": 7, \"9\": 1, \"7\": 2}, \"3\": {\"1\": 117, \"3\": 1015, \"2\": 2, \"12\": 66}}}, \"per_domain_accuracy\": {\"ORACLE.run1_14\": {\"accuracy\": 0.8214583333333333, \"source?\": true}, \"ORACLE.run1_20\": {\"accuracy\": 0.6720833333333334, \"source?\": true}, \"ORACLE.run1_38\": {\"accuracy\": 0.8021875, \"source?\": true}, \"ORACLE.run1_8\": {\"accuracy\": 0.7008333333333333, \"source?\": true}, \"ORACLE.run1_50\": {\"accuracy\": 0.7934895833333333, \"source?\": true}, \"ORACLE.run1_32\": {\"accuracy\": 0.7792708333333334, \"source?\": true}, \"ORACLE.run1_26\": {\"accuracy\": 0.5684375, \"source?\": true}, \"ORACLE.run1_44\": {\"accuracy\": 0.7292708333333333, \"source?\": true}, \"ORACLE.run2_14\": {\"accuracy\": 0.8097916666666667, \"source?\": false}, \"ORACLE.run2_20\": {\"accuracy\": 0.6348958333333333, \"source?\": false}, \"ORACLE.run2_38\": {\"accuracy\": 0.6911979166666666, \"source?\": false}, \"ORACLE.run2_8\": {\"accuracy\": 0.68328125, \"source?\": false}, \"ORACLE.run2_50\": {\"accuracy\": 0.8099479166666667, \"source?\": false}, \"ORACLE.run2_32\": {\"accuracy\": 0.7857291666666667, \"source?\": false}, \"ORACLE.run2_26\": {\"accuracy\": 0.5633854166666666, \"source?\": false}, \"ORACLE.run2_44\": {\"accuracy\": 0.7500520833333333, \"source?\": false}}}, \"history\": {\"epoch_indices\": [1, 2, 3, 4, 5, 6, 7, 8, 9, 10, 11, 12, 13], \"train_label_loss\": [1.0671254757915933, 0.8336309981989186, 0.7495120446024729, 0.6694050670816518, 0.60446778896553, 0.5513943583285436, 0.5014942290543002, 0.45982351913377423, 0.4246853985273767, 0.39436030918981746, 0.36591566182312646, 0.3399788774310755, 0.3159774855061412], \"source_val_label_loss\": [0.9299331903457642, 0.8808829188346863, 0.8129140138626099, 0.7707227468490601, 0.7604577541351318, 0.7564603090286255, 0.7558868527412415, 0.7635089755058289, 0.7624140381813049, 0.7868470549583435, 0.8073087930679321, 0.8364354968070984, 0.8558954000473022], \"target_val_label_loss\": [0.9817233681678772, 0.9519659876823425, 0.8971498012542725, 0.8610153198242188, 0.8492305874824524, 0.8502148389816284, 0.8459874391555786, 0.853575587272644, 0.8528973460197449, 0.8808823823928833, 0.8982799649238586, 0.9401386976242065, 0.9553350210189819], \"source_val_acc_label\": [0.6526106770833333, 0.664921875, 0.6966731770833333, 0.7179817708333334, 0.7225846354166666, 0.7253645833333333, 0.73083984375, 0.7292838541666666, 0.73337890625, 0.73041015625, 0.7292708333333333, 0.73232421875, 0.7242513020833333], \"target_val_acc_label\": [0.6357486979166667, 0.6458919270833333, 0.67765625, 0.6988932291666666, 0.7047005208333333, 0.7086653645833333, 0.7139908854166667, 0.71134765625, 0.71603515625, 0.7132096354166667, 0.7130794270833334, 0.7159114583333334, 0.7073111979166666]}, \"dataset_metrics\": {\"source\": {\"train\": {\"n_unique_x\": 896000, \"n_unique_y\": 16, \"n_batch/episode\": 33600}, \"val\": {\"n_unique_x\": 192000, \"n_unique_y\": 16, \"n_batch/episode\": 4800}, \"test\": {\"n_unique_x\": 192000, \"n_unique_y\": 16, \"n_batch/episode\": 4800}}, \"target\": {\"train\": {\"n_unique_x\": 896000, \"n_unique_y\": 16, \"n_batch/episode\": 33600}, \"val\": {\"n_unique_x\": 192000, \"n_unique_y\": 16, \"n_batch/episode\": 4800}, \"test\": {\"n_unique_x\": 192000, \"n_unique_y\": 16, \"n_batch/episode\": 4800}}}}'"
      ]
     },
     "execution_count": 29,
     "metadata": {},
     "output_type": "execute_result"
    }
   ],
   "source": [
    "json.dumps(experiment)"
   ]
  }
 ],
 "metadata": {
  "celltoolbar": "Tags",
  "kernelspec": {
   "display_name": "Python 3 (ipykernel)",
   "language": "python",
   "name": "python3"
  },
  "language_info": {
   "codemirror_mode": {
    "name": "ipython",
    "version": 3
   },
   "file_extension": ".py",
   "mimetype": "text/x-python",
   "name": "python",
   "nbconvert_exporter": "python",
   "pygments_lexer": "ipython3",
   "version": "3.8.10"
  },
  "papermill": {
   "default_parameters": {},
   "duration": 12440.073451,
   "end_time": "2022-03-23T07:02:30.300597",
   "environment_variables": {},
   "exception": null,
   "input_path": "/mnt/wd500GB/CSC500/csc500-main/csc500-notebooks/templates/tl_ptn_template.ipynb",
   "output_path": "trial.ipynb",
   "parameters": {
    "parameters": {
     "BEST_MODEL_PATH": "./best_model.pth",
     "NUM_LOGS_PER_EPOCH": 10,
     "criteria_for_best": "target_accuracy",
     "dataset_seed": 1337,
     "datasets": [
      {
       "domain_prefix": "ORACLE.run1_",
       "domains": [
        32,
        38,
        8,
        44,
        14,
        50,
        20,
        26
       ],
       "episode_transforms": [],
       "labels": [
        "3123D52",
        "3123D65",
        "3123D79",
        "3123D80",
        "3123D54",
        "3123D70",
        "3123D7B",
        "3123D89",
        "3123D58",
        "3123D76",
        "3123D7D",
        "3123EFE",
        "3123D64",
        "3123D78",
        "3123D7E",
        "3124E4A"
       ],
       "num_examples_per_domain_per_label": 10000,
       "pickle_path": "/mnt/wd500GB/CSC500/csc500-main/datasets/oracle.Run1_10kExamples_stratified_ds.2022A.pkl",
       "source_or_target_dataset": "source",
       "x_transforms": [
        "unit_power"
       ]
      },
      {
       "domain_prefix": "ORACLE.run2_",
       "domains": [
        32,
        38,
        8,
        44,
        14,
        50,
        20,
        26
       ],
       "episode_transforms": [],
       "labels": [
        "3123D52",
        "3123D65",
        "3123D79",
        "3123D80",
        "3123D54",
        "3123D70",
        "3123D7B",
        "3123D89",
        "3123D58",
        "3123D76",
        "3123D7D",
        "3123EFE",
        "3123D64",
        "3123D78",
        "3123D7E",
        "3124E4A"
       ],
       "num_examples_per_domain_per_label": 10000,
       "pickle_path": "/mnt/wd500GB/CSC500/csc500-main/datasets/oracle.Run2_10kExamples_stratified_ds.2022A.pkl",
       "source_or_target_dataset": "target",
       "x_transforms": [
        "unit_power"
       ]
      }
     ],
     "device": "cuda",
     "experiment_name": "tl_1v2:oracle.run1-oracle.run2",
     "lr": 0.0001,
     "n_epoch": 50,
     "n_query": 2,
     "n_shot": 3,
     "n_way": 16,
     "patience": 3,
     "seed": 1337,
     "test_k_factor": 2,
     "torch_default_dtype": "torch.float32",
     "train_k_factor": 3,
     "val_k_factor": 2,
     "x_net": [
      {
       "class": "nnReshape",
       "kargs": {
        "shape": [
         -1,
         1,
         2,
         256
        ]
       }
      },
      {
       "class": "Conv2d",
       "kargs": {
        "bias": false,
        "in_channels": 1,
        "kernel_size": [
         1,
         7
        ],
        "out_channels": 256,
        "padding": [
         0,
         3
        ]
       }
      },
      {
       "class": "ReLU",
       "kargs": {
        "inplace": true
       }
      },
      {
       "class": "BatchNorm2d",
       "kargs": {
        "num_features": 256
       }
      },
      {
       "class": "Conv2d",
       "kargs": {
        "bias": true,
        "in_channels": 256,
        "kernel_size": [
         2,
         7
        ],
        "out_channels": 80,
        "padding": [
         0,
         3
        ]
       }
      },
      {
       "class": "ReLU",
       "kargs": {
        "inplace": true
       }
      },
      {
       "class": "BatchNorm2d",
       "kargs": {
        "num_features": 80
       }
      },
      {
       "class": "Flatten",
       "kargs": {}
      },
      {
       "class": "Linear",
       "kargs": {
        "in_features": 20480,
        "out_features": 256
       }
      },
      {
       "class": "ReLU",
       "kargs": {
        "inplace": true
       }
      },
      {
       "class": "BatchNorm1d",
       "kargs": {
        "num_features": 256
       }
      },
      {
       "class": "Linear",
       "kargs": {
        "in_features": 256,
        "out_features": 256
       }
      }
     ]
    }
   },
   "start_time": "2022-03-23T03:35:10.227146",
   "version": "2.3.4"
  }
 },
 "nbformat": 4,
 "nbformat_minor": 5
}