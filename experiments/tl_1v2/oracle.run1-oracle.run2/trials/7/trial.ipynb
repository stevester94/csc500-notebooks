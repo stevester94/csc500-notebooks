{
 "cells": [
  {
   "cell_type": "markdown",
   "id": "9fea5f46",
   "metadata": {
    "papermill": {
     "duration": 0.023485,
     "end_time": "2022-03-24T01:35:38.161821",
     "exception": false,
     "start_time": "2022-03-24T01:35:38.138336",
     "status": "completed"
    },
    "tags": []
   },
   "source": [
    "# Transfer Learning Template"
   ]
  },
  {
   "cell_type": "code",
   "execution_count": 1,
   "id": "0902182a",
   "metadata": {
    "execution": {
     "iopub.execute_input": "2022-03-24T01:35:38.200953Z",
     "iopub.status.busy": "2022-03-24T01:35:38.200480Z",
     "iopub.status.idle": "2022-03-24T01:35:39.262017Z",
     "shell.execute_reply": "2022-03-24T01:35:39.262404Z"
    },
    "papermill": {
     "duration": 1.088442,
     "end_time": "2022-03-24T01:35:39.262570",
     "exception": false,
     "start_time": "2022-03-24T01:35:38.174128",
     "status": "completed"
    },
    "tags": []
   },
   "outputs": [],
   "source": [
    "%load_ext autoreload\n",
    "%autoreload 2\n",
    "%matplotlib inline\n",
    "\n",
    "    \n",
    "import os, json, sys, time, random\n",
    "import numpy as np\n",
    "import torch\n",
    "from torch.optim import Adam\n",
    "from  easydict import EasyDict\n",
    "import matplotlib.pyplot as plt\n",
    "\n",
    "from steves_models.steves_ptn import Steves_Prototypical_Network\n",
    "\n",
    "from steves_utils.lazy_iterable_wrapper import Lazy_Iterable_Wrapper\n",
    "from steves_utils.iterable_aggregator import Iterable_Aggregator\n",
    "from steves_utils.ptn_train_eval_test_jig import  PTN_Train_Eval_Test_Jig\n",
    "from steves_utils.torch_sequential_builder import build_sequential\n",
    "from steves_utils.torch_utils import get_dataset_metrics, ptn_confusion_by_domain_over_dataloader\n",
    "from steves_utils.utils_v2 import (per_domain_accuracy_from_confusion, get_datasets_base_path)\n",
    "from steves_utils.PTN.utils import independent_accuracy_assesment\n",
    "\n",
    "from torch.utils.data import DataLoader\n",
    "\n",
    "from steves_utils.stratified_dataset.episodic_accessor import Episodic_Accessor_Factory\n",
    "\n",
    "from steves_utils.ptn_do_report import (\n",
    "    get_loss_curve,\n",
    "    get_results_table,\n",
    "    get_parameters_table,\n",
    "    get_domain_accuracies,\n",
    ")\n",
    "\n",
    "from steves_utils.transforms import get_chained_transform"
   ]
  },
  {
   "cell_type": "markdown",
   "id": "41c840b4",
   "metadata": {
    "papermill": {
     "duration": 0.012237,
     "end_time": "2022-03-24T01:35:39.292772",
     "exception": false,
     "start_time": "2022-03-24T01:35:39.280535",
     "status": "completed"
    },
    "tags": []
   },
   "source": [
    "# Allowed Parameters\n",
    "These are allowed parameters, not defaults\n",
    "Each of these values need to be present in the injected parameters (the notebook will raise an exception if they are not present)\n",
    "\n",
    "Papermill uses the cell tag \"parameters\" to inject the real parameters below this cell.\n",
    "Enable tags to see what I mean"
   ]
  },
  {
   "cell_type": "code",
   "execution_count": 2,
   "id": "fd44eb83",
   "metadata": {
    "execution": {
     "iopub.execute_input": "2022-03-24T01:35:39.322454Z",
     "iopub.status.busy": "2022-03-24T01:35:39.322197Z",
     "iopub.status.idle": "2022-03-24T01:35:39.336664Z",
     "shell.execute_reply": "2022-03-24T01:35:39.336309Z"
    },
    "papermill": {
     "duration": 0.029734,
     "end_time": "2022-03-24T01:35:39.336734",
     "exception": false,
     "start_time": "2022-03-24T01:35:39.307000",
     "status": "completed"
    },
    "tags": []
   },
   "outputs": [],
   "source": [
    "required_parameters = {\n",
    "    \"experiment_name\",\n",
    "    \"lr\",\n",
    "    \"device\",\n",
    "    \"seed\",\n",
    "    \"dataset_seed\",\n",
    "    \"n_shot\",\n",
    "    \"n_query\",\n",
    "    \"n_way\",\n",
    "    \"train_k_factor\",\n",
    "    \"val_k_factor\",\n",
    "    \"test_k_factor\",\n",
    "    \"n_epoch\",\n",
    "    \"patience\",\n",
    "    \"criteria_for_best\",\n",
    "    \"x_net\",\n",
    "    \"datasets\",\n",
    "    \"torch_default_dtype\",\n",
    "    \"NUM_LOGS_PER_EPOCH\",\n",
    "    \"BEST_MODEL_PATH\",\n",
    "    \"x_shape\",\n",
    "}"
   ]
  },
  {
   "cell_type": "code",
   "execution_count": 3,
   "id": "fa3f0049",
   "metadata": {
    "execution": {
     "iopub.execute_input": "2022-03-24T01:35:39.375458Z",
     "iopub.status.busy": "2022-03-24T01:35:39.375063Z",
     "iopub.status.idle": "2022-03-24T01:35:39.389431Z",
     "shell.execute_reply": "2022-03-24T01:35:39.388987Z"
    },
    "papermill": {
     "duration": 0.036215,
     "end_time": "2022-03-24T01:35:39.389519",
     "exception": false,
     "start_time": "2022-03-24T01:35:39.353304",
     "status": "completed"
    },
    "tags": [
     "parameters"
    ]
   },
   "outputs": [],
   "source": [
    "from steves_utils.CORES.utils import (\n",
    "    ALL_NODES,\n",
    "    ALL_NODES_MINIMUM_1000_EXAMPLES,\n",
    "    ALL_DAYS\n",
    ")\n",
    "\n",
    "from steves_utils.ORACLE.utils_v2 import (\n",
    "    ALL_DISTANCES_FEET_NARROWED,\n",
    "    ALL_RUNS,\n",
    "    ALL_SERIAL_NUMBERS,\n",
    ")\n",
    "\n",
    "standalone_parameters = {}\n",
    "standalone_parameters[\"experiment_name\"] = \"STANDALONE PTN\"\n",
    "standalone_parameters[\"lr\"] = 0.001\n",
    "standalone_parameters[\"device\"] = \"cuda\"\n",
    "\n",
    "standalone_parameters[\"seed\"] = 1337\n",
    "standalone_parameters[\"dataset_seed\"] = 1337\n",
    "\n",
    "standalone_parameters[\"n_way\"] = 8\n",
    "standalone_parameters[\"n_shot\"] = 3\n",
    "standalone_parameters[\"n_query\"]  = 2\n",
    "standalone_parameters[\"train_k_factor\"] = 1\n",
    "standalone_parameters[\"val_k_factor\"] = 2\n",
    "standalone_parameters[\"test_k_factor\"] = 2\n",
    "\n",
    "\n",
    "standalone_parameters[\"n_epoch\"] = 50\n",
    "\n",
    "standalone_parameters[\"patience\"] = 10\n",
    "standalone_parameters[\"criteria_for_best\"] = \"source_loss\"\n",
    "\n",
    "standalone_parameters[\"datasets\"] = [\n",
    "    {\n",
    "        \"labels\": ALL_SERIAL_NUMBERS,\n",
    "        \"domains\": ALL_DISTANCES_FEET_NARROWED,\n",
    "        \"num_examples_per_domain_per_label\": 100,\n",
    "        \"pickle_path\": os.path.join(get_datasets_base_path(), \"oracle.Run1_framed_2000Examples_stratified_ds.2022A.pkl\"),\n",
    "        \"source_or_target_dataset\": \"source\",\n",
    "        \"x_transforms\": [\"unit_mag\", \"minus_two\"],\n",
    "        \"episode_transforms\": [],\n",
    "        \"domain_prefix\": \"ORACLE_\"\n",
    "    },\n",
    "    {\n",
    "        \"labels\": ALL_NODES,\n",
    "        \"domains\": ALL_DAYS,\n",
    "        \"num_examples_per_domain_per_label\": 100,\n",
    "        \"pickle_path\": os.path.join(get_datasets_base_path(), \"cores.stratified_ds.2022A.pkl\"),\n",
    "        \"source_or_target_dataset\": \"target\",\n",
    "        \"x_transforms\": [\"unit_power\", \"times_zero\"],\n",
    "        \"episode_transforms\": [],\n",
    "        \"domain_prefix\": \"CORES_\"\n",
    "    }   \n",
    "]\n",
    "\n",
    "standalone_parameters[\"torch_default_dtype\"] = \"torch.float32\" \n",
    "\n",
    "\n",
    "\n",
    "standalone_parameters[\"x_net\"] =     [\n",
    "    {\"class\": \"nnReshape\", \"kargs\": {\"shape\":[-1, 1, 2, 256]}},\n",
    "    {\"class\": \"Conv2d\", \"kargs\": { \"in_channels\":1, \"out_channels\":256, \"kernel_size\":(1,7), \"bias\":False, \"padding\":(0,3), },},\n",
    "    {\"class\": \"ReLU\", \"kargs\": {\"inplace\": True}},\n",
    "    {\"class\": \"BatchNorm2d\", \"kargs\": {\"num_features\":256}},\n",
    "\n",
    "    {\"class\": \"Conv2d\", \"kargs\": { \"in_channels\":256, \"out_channels\":80, \"kernel_size\":(2,7), \"bias\":True, \"padding\":(0,3), },},\n",
    "    {\"class\": \"ReLU\", \"kargs\": {\"inplace\": True}},\n",
    "    {\"class\": \"BatchNorm2d\", \"kargs\": {\"num_features\":80}},\n",
    "    {\"class\": \"Flatten\", \"kargs\": {}},\n",
    "\n",
    "    {\"class\": \"Linear\", \"kargs\": {\"in_features\": 80*256, \"out_features\": 256}}, # 80 units per IQ pair\n",
    "    {\"class\": \"ReLU\", \"kargs\": {\"inplace\": True}},\n",
    "    {\"class\": \"BatchNorm1d\", \"kargs\": {\"num_features\":256}},\n",
    "\n",
    "    {\"class\": \"Linear\", \"kargs\": {\"in_features\": 256, \"out_features\": 256}},\n",
    "]\n",
    "\n",
    "# Parameters relevant to results\n",
    "# These parameters will basically never need to change\n",
    "standalone_parameters[\"NUM_LOGS_PER_EPOCH\"] = 10\n",
    "standalone_parameters[\"BEST_MODEL_PATH\"] = \"./best_model.pth\"\n",
    "\n",
    "\n",
    "\n",
    "\n"
   ]
  },
  {
   "cell_type": "code",
   "execution_count": 4,
   "id": "16dcf79d",
   "metadata": {
    "execution": {
     "iopub.execute_input": "2022-03-24T01:35:39.427923Z",
     "iopub.status.busy": "2022-03-24T01:35:39.427642Z",
     "iopub.status.idle": "2022-03-24T01:35:39.440324Z",
     "shell.execute_reply": "2022-03-24T01:35:39.440672Z"
    },
    "papermill": {
     "duration": 0.034381,
     "end_time": "2022-03-24T01:35:39.440776",
     "exception": false,
     "start_time": "2022-03-24T01:35:39.406395",
     "status": "completed"
    },
    "tags": [
     "injected-parameters"
    ]
   },
   "outputs": [],
   "source": [
    "# Parameters\n",
    "parameters = {\n",
    "    \"experiment_name\": \"tl_1v2:oracle.run1-oracle.run2\",\n",
    "    \"device\": \"cuda\",\n",
    "    \"lr\": 0.0001,\n",
    "    \"n_shot\": 3,\n",
    "    \"n_query\": 2,\n",
    "    \"train_k_factor\": 3,\n",
    "    \"val_k_factor\": 2,\n",
    "    \"test_k_factor\": 2,\n",
    "    \"torch_default_dtype\": \"torch.float32\",\n",
    "    \"n_epoch\": 50,\n",
    "    \"patience\": 3,\n",
    "    \"criteria_for_best\": \"target_accuracy\",\n",
    "    \"x_net\": [\n",
    "        {\"class\": \"nnReshape\", \"kargs\": {\"shape\": [-1, 1, 2, 256]}},\n",
    "        {\n",
    "            \"class\": \"Conv2d\",\n",
    "            \"kargs\": {\n",
    "                \"in_channels\": 1,\n",
    "                \"out_channels\": 256,\n",
    "                \"kernel_size\": [1, 7],\n",
    "                \"bias\": False,\n",
    "                \"padding\": [0, 3],\n",
    "            },\n",
    "        },\n",
    "        {\"class\": \"ReLU\", \"kargs\": {\"inplace\": True}},\n",
    "        {\"class\": \"BatchNorm2d\", \"kargs\": {\"num_features\": 256}},\n",
    "        {\n",
    "            \"class\": \"Conv2d\",\n",
    "            \"kargs\": {\n",
    "                \"in_channels\": 256,\n",
    "                \"out_channels\": 80,\n",
    "                \"kernel_size\": [2, 7],\n",
    "                \"bias\": True,\n",
    "                \"padding\": [0, 3],\n",
    "            },\n",
    "        },\n",
    "        {\"class\": \"ReLU\", \"kargs\": {\"inplace\": True}},\n",
    "        {\"class\": \"BatchNorm2d\", \"kargs\": {\"num_features\": 80}},\n",
    "        {\"class\": \"Flatten\", \"kargs\": {}},\n",
    "        {\"class\": \"Linear\", \"kargs\": {\"in_features\": 20480, \"out_features\": 256}},\n",
    "        {\"class\": \"ReLU\", \"kargs\": {\"inplace\": True}},\n",
    "        {\"class\": \"BatchNorm1d\", \"kargs\": {\"num_features\": 256}},\n",
    "        {\"class\": \"Linear\", \"kargs\": {\"in_features\": 256, \"out_features\": 256}},\n",
    "    ],\n",
    "    \"NUM_LOGS_PER_EPOCH\": 10,\n",
    "    \"BEST_MODEL_PATH\": \"./best_model.pth\",\n",
    "    \"n_way\": 16,\n",
    "    \"datasets\": [\n",
    "        {\n",
    "            \"labels\": [\n",
    "                \"3123D52\",\n",
    "                \"3123D65\",\n",
    "                \"3123D79\",\n",
    "                \"3123D80\",\n",
    "                \"3123D54\",\n",
    "                \"3123D70\",\n",
    "                \"3123D7B\",\n",
    "                \"3123D89\",\n",
    "                \"3123D58\",\n",
    "                \"3123D76\",\n",
    "                \"3123D7D\",\n",
    "                \"3123EFE\",\n",
    "                \"3123D64\",\n",
    "                \"3123D78\",\n",
    "                \"3123D7E\",\n",
    "                \"3124E4A\",\n",
    "            ],\n",
    "            \"domains\": [32, 38, 8, 44, 14, 50, 20, 26],\n",
    "            \"num_examples_per_domain_per_label\": 10000,\n",
    "            \"pickle_path\": \"/mnt/wd500GB/CSC500/csc500-main/datasets/oracle.Run1_10kExamples_stratified_ds.2022A.pkl\",\n",
    "            \"source_or_target_dataset\": \"source\",\n",
    "            \"x_transforms\": [\"unit_mag\"],\n",
    "            \"episode_transforms\": [],\n",
    "            \"domain_prefix\": \"ORACLE.run1_\",\n",
    "        },\n",
    "        {\n",
    "            \"labels\": [\n",
    "                \"3123D52\",\n",
    "                \"3123D65\",\n",
    "                \"3123D79\",\n",
    "                \"3123D80\",\n",
    "                \"3123D54\",\n",
    "                \"3123D70\",\n",
    "                \"3123D7B\",\n",
    "                \"3123D89\",\n",
    "                \"3123D58\",\n",
    "                \"3123D76\",\n",
    "                \"3123D7D\",\n",
    "                \"3123EFE\",\n",
    "                \"3123D64\",\n",
    "                \"3123D78\",\n",
    "                \"3123D7E\",\n",
    "                \"3124E4A\",\n",
    "            ],\n",
    "            \"domains\": [32, 38, 8, 44, 14, 50, 20, 26],\n",
    "            \"num_examples_per_domain_per_label\": 10000,\n",
    "            \"pickle_path\": \"/mnt/wd500GB/CSC500/csc500-main/datasets/oracle.Run2_10kExamples_stratified_ds.2022A.pkl\",\n",
    "            \"source_or_target_dataset\": \"target\",\n",
    "            \"x_transforms\": [\"unit_mag\"],\n",
    "            \"episode_transforms\": [],\n",
    "            \"domain_prefix\": \"ORACLE.run2_\",\n",
    "        },\n",
    "    ],\n",
    "    \"dataset_seed\": 420,\n",
    "    \"seed\": 420,\n",
    "}\n"
   ]
  },
  {
   "cell_type": "code",
   "execution_count": 5,
   "id": "8fa1cc33",
   "metadata": {
    "execution": {
     "iopub.execute_input": "2022-03-24T01:35:39.474598Z",
     "iopub.status.busy": "2022-03-24T01:35:39.474351Z",
     "iopub.status.idle": "2022-03-24T01:35:39.488925Z",
     "shell.execute_reply": "2022-03-24T01:35:39.488479Z"
    },
    "papermill": {
     "duration": 0.031265,
     "end_time": "2022-03-24T01:35:39.489013",
     "exception": false,
     "start_time": "2022-03-24T01:35:39.457748",
     "status": "completed"
    },
    "tags": []
   },
   "outputs": [],
   "source": [
    "# Set this to True if you want to run this template directly\n",
    "STANDALONE = False\n",
    "if STANDALONE:\n",
    "    print(\"parameters not injected, running with standalone_parameters\")\n",
    "    parameters = standalone_parameters\n",
    "\n",
    "if not 'parameters' in locals() and not 'parameters' in globals():\n",
    "    raise Exception(\"Parameter injection failed\")\n",
    "\n",
    "#Use an easy dict for all the parameters\n",
    "p = EasyDict(parameters)\n",
    "\n",
    "if \"x_shape\" not in p:\n",
    "    p.x_shape = [2,256] # Default to this if we dont supply x_shape\n",
    "\n",
    "\n",
    "supplied_keys = set(p.keys())\n",
    "\n",
    "if  supplied_keys != required_parameters:\n",
    "    print(\"Parameters are incorrect\")\n",
    "    if len(supplied_keys - required_parameters)>0: print(\"Shouldn't have:\", str(supplied_keys - required_parameters))\n",
    "    if len(required_parameters - supplied_keys)>0: print(\"Need to have:\", str(required_parameters - supplied_keys))\n",
    "    raise RuntimeError(\"Parameters are incorrect\")"
   ]
  },
  {
   "cell_type": "code",
   "execution_count": 6,
   "id": "3a028d58",
   "metadata": {
    "execution": {
     "iopub.execute_input": "2022-03-24T01:35:39.521042Z",
     "iopub.status.busy": "2022-03-24T01:35:39.520781Z",
     "iopub.status.idle": "2022-03-24T01:35:39.536185Z",
     "shell.execute_reply": "2022-03-24T01:35:39.535801Z"
    },
    "papermill": {
     "duration": 0.030345,
     "end_time": "2022-03-24T01:35:39.536273",
     "exception": false,
     "start_time": "2022-03-24T01:35:39.505928",
     "status": "completed"
    },
    "tags": []
   },
   "outputs": [],
   "source": [
    "###################################\n",
    "# Set the RNGs and make it all deterministic\n",
    "###################################\n",
    "np.random.seed(p.seed)\n",
    "random.seed(p.seed)\n",
    "torch.manual_seed(p.seed)\n",
    "\n",
    "torch.use_deterministic_algorithms(True) "
   ]
  },
  {
   "cell_type": "code",
   "execution_count": 7,
   "id": "b691acf6",
   "metadata": {
    "execution": {
     "iopub.execute_input": "2022-03-24T01:35:39.568954Z",
     "iopub.status.busy": "2022-03-24T01:35:39.568710Z",
     "iopub.status.idle": "2022-03-24T01:35:39.583514Z",
     "shell.execute_reply": "2022-03-24T01:35:39.583076Z"
    },
    "papermill": {
     "duration": 0.0298,
     "end_time": "2022-03-24T01:35:39.583602",
     "exception": false,
     "start_time": "2022-03-24T01:35:39.553802",
     "status": "completed"
    },
    "tags": []
   },
   "outputs": [],
   "source": [
    "###########################################\n",
    "# The stratified datasets honor this\n",
    "###########################################\n",
    "torch.set_default_dtype(eval(p.torch_default_dtype))"
   ]
  },
  {
   "cell_type": "code",
   "execution_count": 8,
   "id": "b5fba671",
   "metadata": {
    "execution": {
     "iopub.execute_input": "2022-03-24T01:35:39.616156Z",
     "iopub.status.busy": "2022-03-24T01:35:39.615788Z",
     "iopub.status.idle": "2022-03-24T01:35:39.655423Z",
     "shell.execute_reply": "2022-03-24T01:35:39.654985Z"
    },
    "papermill": {
     "duration": 0.053972,
     "end_time": "2022-03-24T01:35:39.655510",
     "exception": false,
     "start_time": "2022-03-24T01:35:39.601538",
     "status": "completed"
    },
    "tags": []
   },
   "outputs": [],
   "source": [
    "###################################\n",
    "# Build the network(s)\n",
    "# Note: It's critical to do this AFTER setting the RNG\n",
    "###################################\n",
    "x_net = build_sequential(p.x_net)"
   ]
  },
  {
   "cell_type": "code",
   "execution_count": 9,
   "id": "5d7e61cc",
   "metadata": {
    "execution": {
     "iopub.execute_input": "2022-03-24T01:35:39.688845Z",
     "iopub.status.busy": "2022-03-24T01:35:39.688604Z",
     "iopub.status.idle": "2022-03-24T01:35:39.699932Z",
     "shell.execute_reply": "2022-03-24T01:35:39.699488Z"
    },
    "papermill": {
     "duration": 0.026124,
     "end_time": "2022-03-24T01:35:39.700020",
     "exception": false,
     "start_time": "2022-03-24T01:35:39.673896",
     "status": "completed"
    },
    "tags": []
   },
   "outputs": [],
   "source": [
    "start_time_secs = time.time()"
   ]
  },
  {
   "cell_type": "code",
   "execution_count": 10,
   "id": "c6b67dfd",
   "metadata": {
    "execution": {
     "iopub.execute_input": "2022-03-24T01:35:39.732976Z",
     "iopub.status.busy": "2022-03-24T01:35:39.732731Z",
     "iopub.status.idle": "2022-03-24T01:35:39.742991Z",
     "shell.execute_reply": "2022-03-24T01:35:39.742601Z"
    },
    "papermill": {
     "duration": 0.025194,
     "end_time": "2022-03-24T01:35:39.743078",
     "exception": false,
     "start_time": "2022-03-24T01:35:39.717884",
     "status": "completed"
    },
    "tags": []
   },
   "outputs": [],
   "source": [
    "p.domains_source = []\n",
    "p.domains_target = []\n",
    "\n",
    "\n",
    "train_original_source = []\n",
    "val_original_source   = []\n",
    "test_original_source  = []\n",
    "\n",
    "train_original_target = []\n",
    "val_original_target   = []\n",
    "test_original_target  = []"
   ]
  },
  {
   "cell_type": "code",
   "execution_count": 11,
   "id": "e3d9c3d3",
   "metadata": {
    "execution": {
     "iopub.execute_input": "2022-03-24T01:35:39.776145Z",
     "iopub.status.busy": "2022-03-24T01:35:39.775903Z",
     "iopub.status.idle": "2022-03-24T01:35:39.786206Z",
     "shell.execute_reply": "2022-03-24T01:35:39.785805Z"
    },
    "papermill": {
     "duration": 0.024689,
     "end_time": "2022-03-24T01:35:39.786293",
     "exception": false,
     "start_time": "2022-03-24T01:35:39.761604",
     "status": "completed"
    },
    "tags": []
   },
   "outputs": [],
   "source": [
    "# global_x_transform_func = lambda x: normalize(x.to(torch.get_default_dtype()), \"unit_power\") # unit_power, unit_mag\n",
    "# global_x_transform_func = lambda x: normalize(x, \"unit_power\") # unit_power, unit_mag"
   ]
  },
  {
   "cell_type": "code",
   "execution_count": 12,
   "id": "acb78fd2",
   "metadata": {
    "execution": {
     "iopub.execute_input": "2022-03-24T01:35:39.821119Z",
     "iopub.status.busy": "2022-03-24T01:35:39.820864Z",
     "iopub.status.idle": "2022-03-24T01:35:39.831992Z",
     "shell.execute_reply": "2022-03-24T01:35:39.831546Z"
    },
    "papermill": {
     "duration": 0.029029,
     "end_time": "2022-03-24T01:35:39.832080",
     "exception": false,
     "start_time": "2022-03-24T01:35:39.803051",
     "status": "completed"
    },
    "tags": []
   },
   "outputs": [],
   "source": [
    "def add_dataset(\n",
    "    labels,\n",
    "    domains,\n",
    "    pickle_path,\n",
    "    x_transforms,\n",
    "    episode_transforms,\n",
    "    domain_prefix,\n",
    "    num_examples_per_domain_per_label,\n",
    "    source_or_target_dataset:str,\n",
    "    iterator_seed=p.seed,\n",
    "    dataset_seed=p.dataset_seed,\n",
    "    n_shot=p.n_shot,\n",
    "    n_way=p.n_way,\n",
    "    n_query=p.n_query,\n",
    "    train_val_test_k_factors=(p.train_k_factor,p.val_k_factor,p.test_k_factor),\n",
    "):\n",
    "   \n",
    "    if x_transforms == []: x_transform = None\n",
    "    else: x_transform = get_chained_transform(x_transforms)\n",
    "    \n",
    "    if episode_transforms == []: episode_transform = None\n",
    "    else: raise Exception(\"episode_transforms not implemented\")\n",
    "    \n",
    "    episode_transform = lambda tup, _prefix=domain_prefix: (_prefix + str(tup[0]), tup[1])\n",
    "\n",
    "\n",
    "    eaf = Episodic_Accessor_Factory(\n",
    "        labels=labels,\n",
    "        domains=domains,\n",
    "        num_examples_per_domain_per_label=num_examples_per_domain_per_label,\n",
    "        iterator_seed=iterator_seed,\n",
    "        dataset_seed=dataset_seed,\n",
    "        n_shot=n_shot,\n",
    "        n_way=n_way,\n",
    "        n_query=n_query,\n",
    "        train_val_test_k_factors=train_val_test_k_factors,\n",
    "        pickle_path=pickle_path,\n",
    "        x_transform_func=x_transform,\n",
    "    )\n",
    "\n",
    "    train, val, test = eaf.get_train(), eaf.get_val(), eaf.get_test()\n",
    "    train = Lazy_Iterable_Wrapper(train, episode_transform)\n",
    "    val = Lazy_Iterable_Wrapper(val, episode_transform)\n",
    "    test = Lazy_Iterable_Wrapper(test, episode_transform)\n",
    "\n",
    "    if source_or_target_dataset==\"source\":\n",
    "        train_original_source.append(train)\n",
    "        val_original_source.append(val)\n",
    "        test_original_source.append(test)\n",
    "\n",
    "        p.domains_source.extend(\n",
    "            [domain_prefix + str(u) for u in domains]\n",
    "        )\n",
    "    elif source_or_target_dataset==\"target\":\n",
    "        train_original_target.append(train)\n",
    "        val_original_target.append(val)\n",
    "        test_original_target.append(test)\n",
    "        p.domains_target.extend(\n",
    "            [domain_prefix + str(u) for u in domains]\n",
    "        )\n",
    "    else:\n",
    "        raise Exception(f\"invalid source_or_target_dataset: {source_or_target_dataset}\")\n",
    "    "
   ]
  },
  {
   "cell_type": "code",
   "execution_count": 13,
   "id": "fe266617",
   "metadata": {
    "execution": {
     "iopub.execute_input": "2022-03-24T01:35:39.865322Z",
     "iopub.status.busy": "2022-03-24T01:35:39.865079Z",
     "iopub.status.idle": "2022-03-24T01:38:20.999596Z",
     "shell.execute_reply": "2022-03-24T01:38:20.999039Z"
    },
    "papermill": {
     "duration": 161.149942,
     "end_time": "2022-03-24T01:38:20.999709",
     "exception": false,
     "start_time": "2022-03-24T01:35:39.849767",
     "status": "completed"
    },
    "tags": []
   },
   "outputs": [],
   "source": [
    "for ds in p.datasets:\n",
    "    add_dataset(**ds)"
   ]
  },
  {
   "cell_type": "code",
   "execution_count": 14,
   "id": "b90d65ac",
   "metadata": {
    "execution": {
     "iopub.execute_input": "2022-03-24T01:38:21.034937Z",
     "iopub.status.busy": "2022-03-24T01:38:21.034686Z",
     "iopub.status.idle": "2022-03-24T01:38:21.050285Z",
     "shell.execute_reply": "2022-03-24T01:38:21.049739Z"
    },
    "papermill": {
     "duration": 0.031933,
     "end_time": "2022-03-24T01:38:21.050387",
     "exception": false,
     "start_time": "2022-03-24T01:38:21.018454",
     "status": "completed"
    },
    "tags": []
   },
   "outputs": [],
   "source": [
    "# from steves_utils.CORES.utils import (\n",
    "#     ALL_NODES,\n",
    "#     ALL_NODES_MINIMUM_1000_EXAMPLES,\n",
    "#     ALL_DAYS\n",
    "# )\n",
    "\n",
    "# add_dataset(\n",
    "#     labels=ALL_NODES,\n",
    "#     domains = ALL_DAYS,\n",
    "#     num_examples_per_domain_per_label=100,\n",
    "#     pickle_path=os.path.join(get_datasets_base_path(), \"cores.stratified_ds.2022A.pkl\"),\n",
    "#     source_or_target_dataset=\"target\",\n",
    "#     x_transform_func=global_x_transform_func,\n",
    "#     domain_modifier=lambda u: f\"cores_{u}\"\n",
    "# )"
   ]
  },
  {
   "cell_type": "code",
   "execution_count": 15,
   "id": "76db484d",
   "metadata": {
    "execution": {
     "iopub.execute_input": "2022-03-24T01:38:21.085523Z",
     "iopub.status.busy": "2022-03-24T01:38:21.085276Z",
     "iopub.status.idle": "2022-03-24T01:38:21.099904Z",
     "shell.execute_reply": "2022-03-24T01:38:21.099395Z"
    },
    "papermill": {
     "duration": 0.029892,
     "end_time": "2022-03-24T01:38:21.100005",
     "exception": false,
     "start_time": "2022-03-24T01:38:21.070113",
     "status": "completed"
    },
    "tags": []
   },
   "outputs": [],
   "source": [
    "# from steves_utils.ORACLE.utils_v2 import (\n",
    "#     ALL_DISTANCES_FEET,\n",
    "#     ALL_RUNS,\n",
    "#     ALL_SERIAL_NUMBERS,\n",
    "# )\n",
    "\n",
    "\n",
    "# add_dataset(\n",
    "#     labels=ALL_SERIAL_NUMBERS,\n",
    "#     domains = list(set(ALL_DISTANCES_FEET) - {2,62}),\n",
    "#     num_examples_per_domain_per_label=100,\n",
    "#     pickle_path=os.path.join(get_datasets_base_path(), \"oracle.Run2_framed_2000Examples_stratified_ds.2022A.pkl\"),\n",
    "#     source_or_target_dataset=\"source\",\n",
    "#     x_transform_func=global_x_transform_func,\n",
    "#     domain_modifier=lambda u: f\"oracle1_{u}\"\n",
    "# )\n"
   ]
  },
  {
   "cell_type": "code",
   "execution_count": 16,
   "id": "97dea9d2",
   "metadata": {
    "execution": {
     "iopub.execute_input": "2022-03-24T01:38:21.135088Z",
     "iopub.status.busy": "2022-03-24T01:38:21.134839Z",
     "iopub.status.idle": "2022-03-24T01:38:21.149309Z",
     "shell.execute_reply": "2022-03-24T01:38:21.149713Z"
    },
    "papermill": {
     "duration": 0.03073,
     "end_time": "2022-03-24T01:38:21.149836",
     "exception": false,
     "start_time": "2022-03-24T01:38:21.119106",
     "status": "completed"
    },
    "tags": []
   },
   "outputs": [],
   "source": [
    "# from steves_utils.ORACLE.utils_v2 import (\n",
    "#     ALL_DISTANCES_FEET,\n",
    "#     ALL_RUNS,\n",
    "#     ALL_SERIAL_NUMBERS,\n",
    "# )\n",
    "\n",
    "\n",
    "# add_dataset(\n",
    "#     labels=ALL_SERIAL_NUMBERS,\n",
    "#     domains = list(set(ALL_DISTANCES_FEET) - {2,62,56}),\n",
    "#     num_examples_per_domain_per_label=100,\n",
    "#     pickle_path=os.path.join(get_datasets_base_path(), \"oracle.Run2_framed_2000Examples_stratified_ds.2022A.pkl\"),\n",
    "#     source_or_target_dataset=\"source\",\n",
    "#     x_transform_func=global_x_transform_func,\n",
    "#     domain_modifier=lambda u: f\"oracle2_{u}\"\n",
    "# )"
   ]
  },
  {
   "cell_type": "code",
   "execution_count": 17,
   "id": "6f289866",
   "metadata": {
    "execution": {
     "iopub.execute_input": "2022-03-24T01:38:21.183391Z",
     "iopub.status.busy": "2022-03-24T01:38:21.183148Z",
     "iopub.status.idle": "2022-03-24T01:38:21.196985Z",
     "shell.execute_reply": "2022-03-24T01:38:21.196540Z"
    },
    "papermill": {
     "duration": 0.029211,
     "end_time": "2022-03-24T01:38:21.197084",
     "exception": false,
     "start_time": "2022-03-24T01:38:21.167873",
     "status": "completed"
    },
    "tags": []
   },
   "outputs": [],
   "source": [
    "# add_dataset(\n",
    "#     labels=list(range(19)),\n",
    "#     domains = [0,1,2],\n",
    "#     num_examples_per_domain_per_label=100,\n",
    "#     pickle_path=os.path.join(get_datasets_base_path(), \"metehan.stratified_ds.2022A.pkl\"),\n",
    "#     source_or_target_dataset=\"target\",\n",
    "#     x_transform_func=global_x_transform_func,\n",
    "#     domain_modifier=lambda u: f\"met_{u}\"\n",
    "# )"
   ]
  },
  {
   "cell_type": "code",
   "execution_count": 18,
   "id": "86a863c3",
   "metadata": {
    "execution": {
     "iopub.execute_input": "2022-03-24T01:38:21.231186Z",
     "iopub.status.busy": "2022-03-24T01:38:21.230940Z",
     "iopub.status.idle": "2022-03-24T01:38:21.244609Z",
     "shell.execute_reply": "2022-03-24T01:38:21.244185Z"
    },
    "papermill": {
     "duration": 0.029448,
     "end_time": "2022-03-24T01:38:21.244714",
     "exception": false,
     "start_time": "2022-03-24T01:38:21.215266",
     "status": "completed"
    },
    "tags": []
   },
   "outputs": [],
   "source": [
    "# # from steves_utils.wisig.utils import (\n",
    "# #     ALL_NODES_MINIMUM_100_EXAMPLES,\n",
    "# #     ALL_NODES_MINIMUM_500_EXAMPLES,\n",
    "# #     ALL_NODES_MINIMUM_1000_EXAMPLES,\n",
    "# #     ALL_DAYS\n",
    "# # )\n",
    "\n",
    "# import steves_utils.wisig.utils as wisig\n",
    "\n",
    "\n",
    "# add_dataset(\n",
    "#     labels=wisig.ALL_NODES_MINIMUM_100_EXAMPLES,\n",
    "#     domains = wisig.ALL_DAYS,\n",
    "#     num_examples_per_domain_per_label=100,\n",
    "#     pickle_path=os.path.join(get_datasets_base_path(), \"wisig.node3-19.stratified_ds.2022A.pkl\"),\n",
    "#     source_or_target_dataset=\"target\",\n",
    "#     x_transform_func=global_x_transform_func,\n",
    "#     domain_modifier=lambda u: f\"wisig_{u}\"\n",
    "# )"
   ]
  },
  {
   "cell_type": "code",
   "execution_count": 19,
   "id": "fd5442bc",
   "metadata": {
    "execution": {
     "iopub.execute_input": "2022-03-24T01:38:21.282043Z",
     "iopub.status.busy": "2022-03-24T01:38:21.281754Z",
     "iopub.status.idle": "2022-03-24T01:38:21.295607Z",
     "shell.execute_reply": "2022-03-24T01:38:21.295101Z"
    },
    "papermill": {
     "duration": 0.031949,
     "end_time": "2022-03-24T01:38:21.295705",
     "exception": false,
     "start_time": "2022-03-24T01:38:21.263756",
     "status": "completed"
    },
    "tags": []
   },
   "outputs": [],
   "source": [
    "###################################\n",
    "# Build the dataset\n",
    "###################################\n",
    "train_original_source = Iterable_Aggregator(train_original_source, p.seed)\n",
    "val_original_source = Iterable_Aggregator(val_original_source, p.seed)\n",
    "test_original_source = Iterable_Aggregator(test_original_source, p.seed)\n",
    "\n",
    "\n",
    "train_original_target = Iterable_Aggregator(train_original_target, p.seed)\n",
    "val_original_target = Iterable_Aggregator(val_original_target, p.seed)\n",
    "test_original_target = Iterable_Aggregator(test_original_target, p.seed)\n",
    "\n",
    "# For CNN We only use X and Y. And we only train on the source.\n",
    "# Properly form the data using a transform lambda and Lazy_Iterable_Wrapper. Finally wrap them in a dataloader\n",
    "\n",
    "transform_lambda = lambda ex: ex[1] # Original is (<domain>, <episode>) so we strip down to episode only\n",
    "\n",
    "train_processed_source = Lazy_Iterable_Wrapper(train_original_source, transform_lambda)\n",
    "val_processed_source   = Lazy_Iterable_Wrapper(val_original_source, transform_lambda)\n",
    "test_processed_source  = Lazy_Iterable_Wrapper(test_original_source, transform_lambda)\n",
    "\n",
    "train_processed_target = Lazy_Iterable_Wrapper(train_original_target, transform_lambda)\n",
    "val_processed_target   = Lazy_Iterable_Wrapper(val_original_target, transform_lambda)\n",
    "test_processed_target  = Lazy_Iterable_Wrapper(test_original_target, transform_lambda)\n",
    "\n",
    "datasets = EasyDict({\n",
    "    \"source\": {\n",
    "        \"original\": {\"train\":train_original_source, \"val\":val_original_source, \"test\":test_original_source},\n",
    "        \"processed\": {\"train\":train_processed_source, \"val\":val_processed_source, \"test\":test_processed_source}\n",
    "    },\n",
    "    \"target\": {\n",
    "        \"original\": {\"train\":train_original_target, \"val\":val_original_target, \"test\":test_original_target},\n",
    "        \"processed\": {\"train\":train_processed_target, \"val\":val_processed_target, \"test\":test_processed_target}\n",
    "    },\n",
    "})"
   ]
  },
  {
   "cell_type": "code",
   "execution_count": 20,
   "id": "5b3c01fc",
   "metadata": {
    "execution": {
     "iopub.execute_input": "2022-03-24T01:38:21.331286Z",
     "iopub.status.busy": "2022-03-24T01:38:21.331012Z",
     "iopub.status.idle": "2022-03-24T01:38:46.631713Z",
     "shell.execute_reply": "2022-03-24T01:38:46.632103Z"
    },
    "papermill": {
     "duration": 25.317745,
     "end_time": "2022-03-24T01:38:46.632234",
     "exception": false,
     "start_time": "2022-03-24T01:38:21.314489",
     "status": "completed"
    },
    "tags": []
   },
   "outputs": [
    {
     "name": "stdout",
     "output_type": "stream",
     "text": [
      "{'ORACLE.run1_8', 'ORACLE.run1_50', 'ORACLE.run1_38', 'ORACLE.run1_26', 'ORACLE.run1_44', 'ORACLE.run1_20', 'ORACLE.run1_14', 'ORACLE.run1_32'}\n"
     ]
    },
    {
     "name": "stdout",
     "output_type": "stream",
     "text": [
      "{'ORACLE.run2_50', 'ORACLE.run2_32', 'ORACLE.run2_14', 'ORACLE.run2_38', 'ORACLE.run2_26', 'ORACLE.run2_20', 'ORACLE.run2_8', 'ORACLE.run2_44'}\n"
     ]
    },
    {
     "name": "stdout",
     "output_type": "stream",
     "text": [
      "tensor([[[ 0.2251,  0.1944, -1.3508,  ..., -0.0614,  1.0131, -0.1228],\n",
      "         [ 0.2763,  0.3991, -0.4503,  ..., -1.1563, -0.6140,  0.2047]],\n",
      "\n",
      "        [[-1.0401, -1.1726,  0.4486,  ..., -1.0808,  0.1733,  1.2440],\n",
      "         [-1.1318,  0.4486, -0.8157,  ..., -1.2542, -0.8667, -0.6322]],\n",
      "\n",
      "        [[ 0.0426, -0.9148,  0.4787,  ...,  0.2021,  0.4361,  0.1702],\n",
      "         [ 1.5318, -0.6702, -0.0745,  ..., -0.0532, -0.2553, -0.9361]],\n",
      "\n",
      "        ...,\n",
      "\n",
      "        [[ 1.2497, -0.6951, -1.2275,  ...,  0.0887, -1.1609, -0.3106],\n",
      "         [ 1.1018, -0.3919, -0.6877,  ...,  1.1166,  0.7321,  0.2514]],\n",
      "\n",
      "        [[ 0.8424,  0.0572, -0.1881,  ..., -1.6520, -1.0305, -0.5888],\n",
      "         [-0.8178,  0.3926, -0.3026,  ...,  0.3599,  0.1881,  0.6706]],\n",
      "\n",
      "        [[ 0.1290,  1.3188,  0.5806,  ..., -0.4659, -1.8277, -0.7454],\n",
      "         [ 0.3870, -0.7741, -0.7167,  ..., -0.5089,  0.0215, -0.7741]]])\n"
     ]
    }
   ],
   "source": [
    "from steves_utils.transforms import get_average_magnitude, get_average_power\n",
    "\n",
    "print(set([u for u,_ in val_original_source]))\n",
    "print(set([u for u,_ in val_original_target]))\n",
    "\n",
    "s_x, s_y, q_x, q_y, _ = next(iter(train_processed_source))\n",
    "print(s_x)\n",
    "\n",
    "# for ds in [\n",
    "#     train_processed_source,\n",
    "#     val_processed_source,\n",
    "#     test_processed_source,\n",
    "#     train_processed_target,\n",
    "#     val_processed_target,\n",
    "#     test_processed_target\n",
    "# ]:\n",
    "#     for s_x, s_y, q_x, q_y, _ in ds:\n",
    "#         for X in (s_x, q_x):\n",
    "#             for x in X:\n",
    "#                 assert np.isclose(get_average_magnitude(x.numpy()), 1.0)\n",
    "#                 assert np.isclose(get_average_power(x.numpy()), 1.0)\n",
    "                "
   ]
  },
  {
   "cell_type": "code",
   "execution_count": 21,
   "id": "bbdacba1",
   "metadata": {
    "execution": {
     "iopub.execute_input": "2022-03-24T01:38:46.667946Z",
     "iopub.status.busy": "2022-03-24T01:38:46.667695Z",
     "iopub.status.idle": "2022-03-24T01:38:46.730537Z",
     "shell.execute_reply": "2022-03-24T01:38:46.730017Z"
    },
    "papermill": {
     "duration": 0.079855,
     "end_time": "2022-03-24T01:38:46.730651",
     "exception": false,
     "start_time": "2022-03-24T01:38:46.650796",
     "status": "completed"
    },
    "tags": []
   },
   "outputs": [
    {
     "name": "stdout",
     "output_type": "stream",
     "text": [
      "(2, 256)\n"
     ]
    }
   ],
   "source": [
    "###################################\n",
    "# Build the model\n",
    "###################################\n",
    "# easfsl only wants a tuple for the shape\n",
    "model = Steves_Prototypical_Network(x_net, device=p.device, x_shape=tuple(p.x_shape))\n",
    "optimizer = Adam(params=model.parameters(), lr=p.lr)"
   ]
  },
  {
   "cell_type": "code",
   "execution_count": 22,
   "id": "22b39ac5",
   "metadata": {
    "execution": {
     "iopub.execute_input": "2022-03-24T01:38:46.765451Z",
     "iopub.status.busy": "2022-03-24T01:38:46.765177Z",
     "iopub.status.idle": "2022-03-24T04:57:23.070565Z",
     "shell.execute_reply": "2022-03-24T04:57:23.070332Z"
    },
    "papermill": {
     "duration": 11916.322342,
     "end_time": "2022-03-24T04:57:23.070625",
     "exception": false,
     "start_time": "2022-03-24T01:38:46.748283",
     "status": "completed"
    },
    "tags": []
   },
   "outputs": [
    {
     "name": "stdout",
     "output_type": "stream",
     "text": [
      "epoch: 1, [batch: 1 / 33600], examples_per_second: 9.4217, train_label_loss: 2.7701, \n"
     ]
    },
    {
     "name": "stdout",
     "output_type": "stream",
     "text": [
      "epoch: 1, [batch: 3360 / 33600], examples_per_second: 3213.6942, train_label_loss: 1.2655, \n"
     ]
    },
    {
     "name": "stdout",
     "output_type": "stream",
     "text": [
      "epoch: 1, [batch: 6720 / 33600], examples_per_second: 3205.2819, train_label_loss: 1.0643, \n"
     ]
    },
    {
     "name": "stdout",
     "output_type": "stream",
     "text": [
      "epoch: 1, [batch: 10080 / 33600], examples_per_second: 3216.0104, train_label_loss: 0.6767, \n"
     ]
    },
    {
     "name": "stdout",
     "output_type": "stream",
     "text": [
      "epoch: 1, [batch: 13440 / 33600], examples_per_second: 3195.6482, train_label_loss: 0.9534, \n"
     ]
    },
    {
     "name": "stdout",
     "output_type": "stream",
     "text": [
      "epoch: 1, [batch: 16800 / 33600], examples_per_second: 3211.0100, train_label_loss: 0.9437, \n"
     ]
    },
    {
     "name": "stdout",
     "output_type": "stream",
     "text": [
      "epoch: 1, [batch: 20160 / 33600], examples_per_second: 3211.1732, train_label_loss: 1.2485, \n"
     ]
    },
    {
     "name": "stdout",
     "output_type": "stream",
     "text": [
      "epoch: 1, [batch: 23520 / 33600], examples_per_second: 3201.6767, train_label_loss: 0.7355, \n"
     ]
    },
    {
     "name": "stdout",
     "output_type": "stream",
     "text": [
      "epoch: 1, [batch: 26880 / 33600], examples_per_second: 3211.4085, train_label_loss: 0.7978, \n"
     ]
    },
    {
     "name": "stdout",
     "output_type": "stream",
     "text": [
      "epoch: 1, [batch: 30240 / 33600], examples_per_second: 3208.7093, train_label_loss: 0.6782, \n"
     ]
    },
    {
     "name": "stdout",
     "output_type": "stream",
     "text": [
      "=============================================================\n",
      "epoch: 1, source_val_acc_label: 0.6452, target_val_acc_label: 0.6312, source_val_label_loss: 0.9455, target_val_label_loss: 0.9919, \n",
      "=============================================================\n"
     ]
    },
    {
     "name": "stdout",
     "output_type": "stream",
     "text": [
      "New best\n"
     ]
    },
    {
     "name": "stdout",
     "output_type": "stream",
     "text": [
      "epoch: 2, [batch: 1 / 33600], examples_per_second: 0.9540, train_label_loss: 0.8728, \n"
     ]
    },
    {
     "name": "stdout",
     "output_type": "stream",
     "text": [
      "epoch: 2, [batch: 3360 / 33600], examples_per_second: 3231.3888, train_label_loss: 0.7239, \n"
     ]
    },
    {
     "name": "stdout",
     "output_type": "stream",
     "text": [
      "epoch: 2, [batch: 6720 / 33600], examples_per_second: 3237.1552, train_label_loss: 1.1378, \n"
     ]
    },
    {
     "name": "stdout",
     "output_type": "stream",
     "text": [
      "epoch: 2, [batch: 10080 / 33600], examples_per_second: 3236.3032, train_label_loss: 1.1162, \n"
     ]
    },
    {
     "name": "stdout",
     "output_type": "stream",
     "text": [
      "epoch: 2, [batch: 13440 / 33600], examples_per_second: 3227.2007, train_label_loss: 0.7341, \n"
     ]
    },
    {
     "name": "stdout",
     "output_type": "stream",
     "text": [
      "epoch: 2, [batch: 16800 / 33600], examples_per_second: 3247.3191, train_label_loss: 0.7236, \n"
     ]
    },
    {
     "name": "stdout",
     "output_type": "stream",
     "text": [
      "epoch: 2, [batch: 20160 / 33600], examples_per_second: 3245.1851, train_label_loss: 0.5466, \n"
     ]
    },
    {
     "name": "stdout",
     "output_type": "stream",
     "text": [
      "epoch: 2, [batch: 23520 / 33600], examples_per_second: 3234.2334, train_label_loss: 0.3798, \n"
     ]
    },
    {
     "name": "stdout",
     "output_type": "stream",
     "text": [
      "epoch: 2, [batch: 26880 / 33600], examples_per_second: 3243.0984, train_label_loss: 0.4293, \n"
     ]
    },
    {
     "name": "stdout",
     "output_type": "stream",
     "text": [
      "epoch: 2, [batch: 30240 / 33600], examples_per_second: 3245.9642, train_label_loss: 0.5781, \n"
     ]
    },
    {
     "name": "stdout",
     "output_type": "stream",
     "text": [
      "=============================================================\n",
      "epoch: 2, source_val_acc_label: 0.6767, target_val_acc_label: 0.6566, source_val_label_loss: 0.8550, target_val_label_loss: 0.9256, \n",
      "=============================================================\n"
     ]
    },
    {
     "name": "stdout",
     "output_type": "stream",
     "text": [
      "New best\n"
     ]
    },
    {
     "name": "stdout",
     "output_type": "stream",
     "text": [
      "epoch: 3, [batch: 1 / 33600], examples_per_second: 0.9603, train_label_loss: 0.5455, \n"
     ]
    },
    {
     "name": "stdout",
     "output_type": "stream",
     "text": [
      "epoch: 3, [batch: 3360 / 33600], examples_per_second: 3233.7475, train_label_loss: 1.5798, \n"
     ]
    },
    {
     "name": "stdout",
     "output_type": "stream",
     "text": [
      "epoch: 3, [batch: 6720 / 33600], examples_per_second: 3241.9895, train_label_loss: 0.6256, \n"
     ]
    },
    {
     "name": "stdout",
     "output_type": "stream",
     "text": [
      "epoch: 3, [batch: 10080 / 33600], examples_per_second: 3239.3541, train_label_loss: 1.0270, \n"
     ]
    },
    {
     "name": "stdout",
     "output_type": "stream",
     "text": [
      "epoch: 3, [batch: 13440 / 33600], examples_per_second: 3226.5120, train_label_loss: 0.4365, \n"
     ]
    },
    {
     "name": "stdout",
     "output_type": "stream",
     "text": [
      "epoch: 3, [batch: 16800 / 33600], examples_per_second: 3241.6520, train_label_loss: 1.0093, \n"
     ]
    },
    {
     "name": "stdout",
     "output_type": "stream",
     "text": [
      "epoch: 3, [batch: 20160 / 33600], examples_per_second: 3242.7256, train_label_loss: 0.9536, \n"
     ]
    },
    {
     "name": "stdout",
     "output_type": "stream",
     "text": [
      "epoch: 3, [batch: 23520 / 33600], examples_per_second: 3234.4273, train_label_loss: 0.6030, \n"
     ]
    },
    {
     "name": "stdout",
     "output_type": "stream",
     "text": [
      "epoch: 3, [batch: 26880 / 33600], examples_per_second: 3239.6545, train_label_loss: 0.4748, \n"
     ]
    },
    {
     "name": "stdout",
     "output_type": "stream",
     "text": [
      "epoch: 3, [batch: 30240 / 33600], examples_per_second: 3237.5660, train_label_loss: 0.7793, \n"
     ]
    },
    {
     "name": "stdout",
     "output_type": "stream",
     "text": [
      "=============================================================\n",
      "epoch: 3, source_val_acc_label: 0.7017, target_val_acc_label: 0.6840, source_val_label_loss: 0.7987, target_val_label_loss: 0.8793, \n",
      "=============================================================\n"
     ]
    },
    {
     "name": "stdout",
     "output_type": "stream",
     "text": [
      "New best\n"
     ]
    },
    {
     "name": "stdout",
     "output_type": "stream",
     "text": [
      "epoch: 4, [batch: 1 / 33600], examples_per_second: 0.9648, train_label_loss: 0.5426, \n"
     ]
    },
    {
     "name": "stdout",
     "output_type": "stream",
     "text": [
      "epoch: 4, [batch: 3360 / 33600], examples_per_second: 3228.9389, train_label_loss: 0.6623, \n"
     ]
    },
    {
     "name": "stdout",
     "output_type": "stream",
     "text": [
      "epoch: 4, [batch: 6720 / 33600], examples_per_second: 3236.3049, train_label_loss: 0.6493, \n"
     ]
    },
    {
     "name": "stdout",
     "output_type": "stream",
     "text": [
      "epoch: 4, [batch: 10080 / 33600], examples_per_second: 3237.2597, train_label_loss: 0.8585, \n"
     ]
    },
    {
     "name": "stdout",
     "output_type": "stream",
     "text": [
      "epoch: 4, [batch: 13440 / 33600], examples_per_second: 3232.4344, train_label_loss: 0.8903, \n"
     ]
    },
    {
     "name": "stdout",
     "output_type": "stream",
     "text": [
      "epoch: 4, [batch: 16800 / 33600], examples_per_second: 3244.6312, train_label_loss: 0.7650, \n"
     ]
    },
    {
     "name": "stdout",
     "output_type": "stream",
     "text": [
      "epoch: 4, [batch: 20160 / 33600], examples_per_second: 3243.8947, train_label_loss: 0.2287, \n"
     ]
    },
    {
     "name": "stdout",
     "output_type": "stream",
     "text": [
      "epoch: 4, [batch: 23520 / 33600], examples_per_second: 3235.3920, train_label_loss: 0.8127, \n"
     ]
    },
    {
     "name": "stdout",
     "output_type": "stream",
     "text": [
      "epoch: 4, [batch: 26880 / 33600], examples_per_second: 3242.3679, train_label_loss: 0.7220, \n"
     ]
    },
    {
     "name": "stdout",
     "output_type": "stream",
     "text": [
      "epoch: 4, [batch: 30240 / 33600], examples_per_second: 3232.6807, train_label_loss: 0.4797, \n"
     ]
    },
    {
     "name": "stdout",
     "output_type": "stream",
     "text": [
      "=============================================================\n",
      "epoch: 4, source_val_acc_label: 0.7137, target_val_acc_label: 0.6968, source_val_label_loss: 0.7695, target_val_label_loss: 0.8536, \n",
      "=============================================================\n"
     ]
    },
    {
     "name": "stdout",
     "output_type": "stream",
     "text": [
      "New best\n"
     ]
    },
    {
     "name": "stdout",
     "output_type": "stream",
     "text": [
      "epoch: 5, [batch: 1 / 33600], examples_per_second: 0.9632, train_label_loss: 0.7432, \n"
     ]
    },
    {
     "name": "stdout",
     "output_type": "stream",
     "text": [
      "epoch: 5, [batch: 3360 / 33600], examples_per_second: 3228.1159, train_label_loss: 0.3883, \n"
     ]
    },
    {
     "name": "stdout",
     "output_type": "stream",
     "text": [
      "epoch: 5, [batch: 6720 / 33600], examples_per_second: 3231.2525, train_label_loss: 0.6065, \n"
     ]
    },
    {
     "name": "stdout",
     "output_type": "stream",
     "text": [
      "epoch: 5, [batch: 10080 / 33600], examples_per_second: 3243.3913, train_label_loss: 0.9243, \n"
     ]
    },
    {
     "name": "stdout",
     "output_type": "stream",
     "text": [
      "epoch: 5, [batch: 13440 / 33600], examples_per_second: 3225.0762, train_label_loss: 0.9067, \n"
     ]
    },
    {
     "name": "stdout",
     "output_type": "stream",
     "text": [
      "epoch: 5, [batch: 16800 / 33600], examples_per_second: 3241.9218, train_label_loss: 0.7672, \n"
     ]
    },
    {
     "name": "stdout",
     "output_type": "stream",
     "text": [
      "epoch: 5, [batch: 20160 / 33600], examples_per_second: 3241.5212, train_label_loss: 0.6747, \n"
     ]
    },
    {
     "name": "stdout",
     "output_type": "stream",
     "text": [
      "epoch: 5, [batch: 23520 / 33600], examples_per_second: 3237.2993, train_label_loss: 0.4793, \n"
     ]
    },
    {
     "name": "stdout",
     "output_type": "stream",
     "text": [
      "epoch: 5, [batch: 26880 / 33600], examples_per_second: 3241.3336, train_label_loss: 0.4745, \n"
     ]
    },
    {
     "name": "stdout",
     "output_type": "stream",
     "text": [
      "epoch: 5, [batch: 30240 / 33600], examples_per_second: 3249.0596, train_label_loss: 0.6585, \n"
     ]
    },
    {
     "name": "stdout",
     "output_type": "stream",
     "text": [
      "=============================================================\n",
      "epoch: 5, source_val_acc_label: 0.7244, target_val_acc_label: 0.7060, source_val_label_loss: 0.7553, target_val_label_loss: 0.8442, \n",
      "=============================================================\n"
     ]
    },
    {
     "name": "stdout",
     "output_type": "stream",
     "text": [
      "New best\n"
     ]
    },
    {
     "name": "stdout",
     "output_type": "stream",
     "text": [
      "epoch: 6, [batch: 1 / 33600], examples_per_second: 0.9613, train_label_loss: 0.5613, \n"
     ]
    },
    {
     "name": "stdout",
     "output_type": "stream",
     "text": [
      "epoch: 6, [batch: 3360 / 33600], examples_per_second: 3234.7382, train_label_loss: 0.5354, \n"
     ]
    },
    {
     "name": "stdout",
     "output_type": "stream",
     "text": [
      "epoch: 6, [batch: 6720 / 33600], examples_per_second: 3237.8774, train_label_loss: 0.7518, \n"
     ]
    },
    {
     "name": "stdout",
     "output_type": "stream",
     "text": [
      "epoch: 6, [batch: 10080 / 33600], examples_per_second: 3235.6646, train_label_loss: 1.1672, \n"
     ]
    },
    {
     "name": "stdout",
     "output_type": "stream",
     "text": [
      "epoch: 6, [batch: 13440 / 33600], examples_per_second: 3227.3387, train_label_loss: 0.7378, \n"
     ]
    },
    {
     "name": "stdout",
     "output_type": "stream",
     "text": [
      "epoch: 6, [batch: 16800 / 33600], examples_per_second: 3235.0237, train_label_loss: 0.6078, \n"
     ]
    },
    {
     "name": "stdout",
     "output_type": "stream",
     "text": [
      "epoch: 6, [batch: 20160 / 33600], examples_per_second: 3237.7703, train_label_loss: 0.7692, \n"
     ]
    },
    {
     "name": "stdout",
     "output_type": "stream",
     "text": [
      "epoch: 6, [batch: 23520 / 33600], examples_per_second: 3234.0628, train_label_loss: 0.3442, \n"
     ]
    },
    {
     "name": "stdout",
     "output_type": "stream",
     "text": [
      "epoch: 6, [batch: 26880 / 33600], examples_per_second: 3241.4729, train_label_loss: 0.5753, \n"
     ]
    },
    {
     "name": "stdout",
     "output_type": "stream",
     "text": [
      "epoch: 6, [batch: 30240 / 33600], examples_per_second: 3244.5830, train_label_loss: 0.1716, \n"
     ]
    },
    {
     "name": "stdout",
     "output_type": "stream",
     "text": [
      "=============================================================\n",
      "epoch: 6, source_val_acc_label: 0.7279, target_val_acc_label: 0.7106, source_val_label_loss: 0.7610, target_val_label_loss: 0.8537, \n",
      "=============================================================\n"
     ]
    },
    {
     "name": "stdout",
     "output_type": "stream",
     "text": [
      "New best\n"
     ]
    },
    {
     "name": "stdout",
     "output_type": "stream",
     "text": [
      "epoch: 7, [batch: 1 / 33600], examples_per_second: 0.9663, train_label_loss: 0.3588, \n"
     ]
    },
    {
     "name": "stdout",
     "output_type": "stream",
     "text": [
      "epoch: 7, [batch: 3360 / 33600], examples_per_second: 3228.4315, train_label_loss: 0.5313, \n"
     ]
    },
    {
     "name": "stdout",
     "output_type": "stream",
     "text": [
      "epoch: 7, [batch: 6720 / 33600], examples_per_second: 3234.3769, train_label_loss: 0.9848, \n"
     ]
    },
    {
     "name": "stdout",
     "output_type": "stream",
     "text": [
      "epoch: 7, [batch: 10080 / 33600], examples_per_second: 3243.8074, train_label_loss: 0.5927, \n"
     ]
    },
    {
     "name": "stdout",
     "output_type": "stream",
     "text": [
      "epoch: 7, [batch: 13440 / 33600], examples_per_second: 3232.3257, train_label_loss: 0.4202, \n"
     ]
    },
    {
     "name": "stdout",
     "output_type": "stream",
     "text": [
      "epoch: 7, [batch: 16800 / 33600], examples_per_second: 3238.8163, train_label_loss: 0.8081, \n"
     ]
    },
    {
     "name": "stdout",
     "output_type": "stream",
     "text": [
      "epoch: 7, [batch: 20160 / 33600], examples_per_second: 3242.3161, train_label_loss: 0.3099, \n"
     ]
    },
    {
     "name": "stdout",
     "output_type": "stream",
     "text": [
      "epoch: 7, [batch: 23520 / 33600], examples_per_second: 3230.7973, train_label_loss: 0.5569, \n"
     ]
    },
    {
     "name": "stdout",
     "output_type": "stream",
     "text": [
      "epoch: 7, [batch: 26880 / 33600], examples_per_second: 3233.4551, train_label_loss: 0.4743, \n"
     ]
    },
    {
     "name": "stdout",
     "output_type": "stream",
     "text": [
      "epoch: 7, [batch: 30240 / 33600], examples_per_second: 3247.9383, train_label_loss: 0.6762, \n"
     ]
    },
    {
     "name": "stdout",
     "output_type": "stream",
     "text": [
      "=============================================================\n",
      "epoch: 7, source_val_acc_label: 0.7277, target_val_acc_label: 0.7124, source_val_label_loss: 0.7636, target_val_label_loss: 0.8558, \n",
      "=============================================================\n"
     ]
    },
    {
     "name": "stdout",
     "output_type": "stream",
     "text": [
      "New best\n"
     ]
    },
    {
     "name": "stdout",
     "output_type": "stream",
     "text": [
      "epoch: 8, [batch: 1 / 33600], examples_per_second: 0.9650, train_label_loss: 0.6476, \n"
     ]
    },
    {
     "name": "stdout",
     "output_type": "stream",
     "text": [
      "epoch: 8, [batch: 3360 / 33600], examples_per_second: 3215.0438, train_label_loss: 0.4348, \n"
     ]
    },
    {
     "name": "stdout",
     "output_type": "stream",
     "text": [
      "epoch: 8, [batch: 6720 / 33600], examples_per_second: 3190.1229, train_label_loss: 0.2458, \n"
     ]
    },
    {
     "name": "stdout",
     "output_type": "stream",
     "text": [
      "epoch: 8, [batch: 10080 / 33600], examples_per_second: 3164.9387, train_label_loss: 0.3415, \n"
     ]
    },
    {
     "name": "stdout",
     "output_type": "stream",
     "text": [
      "epoch: 8, [batch: 13440 / 33600], examples_per_second: 3126.5446, train_label_loss: 0.4364, \n"
     ]
    },
    {
     "name": "stdout",
     "output_type": "stream",
     "text": [
      "epoch: 8, [batch: 16800 / 33600], examples_per_second: 2987.1715, train_label_loss: 0.1825, \n"
     ]
    },
    {
     "name": "stdout",
     "output_type": "stream",
     "text": [
      "epoch: 8, [batch: 20160 / 33600], examples_per_second: 2963.2897, train_label_loss: 0.2025, \n"
     ]
    },
    {
     "name": "stdout",
     "output_type": "stream",
     "text": [
      "epoch: 8, [batch: 23520 / 33600], examples_per_second: 3041.3557, train_label_loss: 0.2749, \n"
     ]
    },
    {
     "name": "stdout",
     "output_type": "stream",
     "text": [
      "epoch: 8, [batch: 26880 / 33600], examples_per_second: 3208.3938, train_label_loss: 0.3810, \n"
     ]
    },
    {
     "name": "stdout",
     "output_type": "stream",
     "text": [
      "epoch: 8, [batch: 30240 / 33600], examples_per_second: 3209.0370, train_label_loss: 0.5139, \n"
     ]
    },
    {
     "name": "stdout",
     "output_type": "stream",
     "text": [
      "=============================================================\n",
      "epoch: 8, source_val_acc_label: 0.7310, target_val_acc_label: 0.7155, source_val_label_loss: 0.7699, target_val_label_loss: 0.8594, \n",
      "=============================================================\n"
     ]
    },
    {
     "name": "stdout",
     "output_type": "stream",
     "text": [
      "New best\n"
     ]
    },
    {
     "name": "stdout",
     "output_type": "stream",
     "text": [
      "epoch: 9, [batch: 1 / 33600], examples_per_second: 0.9538, train_label_loss: 0.3537, \n"
     ]
    },
    {
     "name": "stdout",
     "output_type": "stream",
     "text": [
      "epoch: 9, [batch: 3360 / 33600], examples_per_second: 3230.9863, train_label_loss: 0.4883, \n"
     ]
    },
    {
     "name": "stdout",
     "output_type": "stream",
     "text": [
      "epoch: 9, [batch: 6720 / 33600], examples_per_second: 3239.4226, train_label_loss: 0.4239, \n"
     ]
    },
    {
     "name": "stdout",
     "output_type": "stream",
     "text": [
      "epoch: 9, [batch: 10080 / 33600], examples_per_second: 3242.7946, train_label_loss: 0.3771, \n"
     ]
    },
    {
     "name": "stdout",
     "output_type": "stream",
     "text": [
      "epoch: 9, [batch: 13440 / 33600], examples_per_second: 3226.0912, train_label_loss: 0.5412, \n"
     ]
    },
    {
     "name": "stdout",
     "output_type": "stream",
     "text": [
      "epoch: 9, [batch: 16800 / 33600], examples_per_second: 3242.6592, train_label_loss: 0.3889, \n"
     ]
    },
    {
     "name": "stdout",
     "output_type": "stream",
     "text": [
      "epoch: 9, [batch: 20160 / 33600], examples_per_second: 3249.8933, train_label_loss: 0.2326, \n"
     ]
    },
    {
     "name": "stdout",
     "output_type": "stream",
     "text": [
      "epoch: 9, [batch: 23520 / 33600], examples_per_second: 3238.0141, train_label_loss: 0.3250, \n"
     ]
    },
    {
     "name": "stdout",
     "output_type": "stream",
     "text": [
      "epoch: 9, [batch: 26880 / 33600], examples_per_second: 3242.6665, train_label_loss: 0.3044, \n"
     ]
    },
    {
     "name": "stdout",
     "output_type": "stream",
     "text": [
      "epoch: 9, [batch: 30240 / 33600], examples_per_second: 3240.3089, train_label_loss: 0.1795, \n"
     ]
    },
    {
     "name": "stdout",
     "output_type": "stream",
     "text": [
      "=============================================================\n",
      "epoch: 9, source_val_acc_label: 0.7313, target_val_acc_label: 0.7157, source_val_label_loss: 0.7720, target_val_label_loss: 0.8567, \n",
      "=============================================================\n"
     ]
    },
    {
     "name": "stdout",
     "output_type": "stream",
     "text": [
      "New best\n"
     ]
    },
    {
     "name": "stdout",
     "output_type": "stream",
     "text": [
      "epoch: 10, [batch: 1 / 33600], examples_per_second: 0.9606, train_label_loss: 0.3694, \n"
     ]
    },
    {
     "name": "stdout",
     "output_type": "stream",
     "text": [
      "epoch: 10, [batch: 3360 / 33600], examples_per_second: 3226.2856, train_label_loss: 0.3733, \n"
     ]
    },
    {
     "name": "stdout",
     "output_type": "stream",
     "text": [
      "epoch: 10, [batch: 6720 / 33600], examples_per_second: 3238.5156, train_label_loss: 0.5129, \n"
     ]
    },
    {
     "name": "stdout",
     "output_type": "stream",
     "text": [
      "epoch: 10, [batch: 10080 / 33600], examples_per_second: 3242.5316, train_label_loss: 0.5778, \n"
     ]
    },
    {
     "name": "stdout",
     "output_type": "stream",
     "text": [
      "epoch: 10, [batch: 13440 / 33600], examples_per_second: 3234.9951, train_label_loss: 0.6131, \n"
     ]
    },
    {
     "name": "stdout",
     "output_type": "stream",
     "text": [
      "epoch: 10, [batch: 16800 / 33600], examples_per_second: 3238.2319, train_label_loss: 0.0785, \n"
     ]
    },
    {
     "name": "stdout",
     "output_type": "stream",
     "text": [
      "epoch: 10, [batch: 20160 / 33600], examples_per_second: 3250.2243, train_label_loss: 0.2358, \n"
     ]
    },
    {
     "name": "stdout",
     "output_type": "stream",
     "text": [
      "epoch: 10, [batch: 23520 / 33600], examples_per_second: 3230.7011, train_label_loss: 0.1792, \n"
     ]
    },
    {
     "name": "stdout",
     "output_type": "stream",
     "text": [
      "epoch: 10, [batch: 26880 / 33600], examples_per_second: 3237.3296, train_label_loss: 0.4073, \n"
     ]
    },
    {
     "name": "stdout",
     "output_type": "stream",
     "text": [
      "epoch: 10, [batch: 30240 / 33600], examples_per_second: 3245.5614, train_label_loss: 0.3160, \n"
     ]
    },
    {
     "name": "stdout",
     "output_type": "stream",
     "text": [
      "=============================================================\n",
      "epoch: 10, source_val_acc_label: 0.7257, target_val_acc_label: 0.7097, source_val_label_loss: 0.7953, target_val_label_loss: 0.8871, \n",
      "=============================================================\n"
     ]
    },
    {
     "name": "stdout",
     "output_type": "stream",
     "text": [
      "epoch: 11, [batch: 1 / 33600], examples_per_second: 0.9621, train_label_loss: 0.5100, \n"
     ]
    },
    {
     "name": "stdout",
     "output_type": "stream",
     "text": [
      "epoch: 11, [batch: 3360 / 33600], examples_per_second: 3159.3940, train_label_loss: 0.3943, \n"
     ]
    },
    {
     "name": "stdout",
     "output_type": "stream",
     "text": [
      "epoch: 11, [batch: 6720 / 33600], examples_per_second: 3208.7628, train_label_loss: 0.1678, \n"
     ]
    },
    {
     "name": "stdout",
     "output_type": "stream",
     "text": [
      "epoch: 11, [batch: 10080 / 33600], examples_per_second: 3213.3225, train_label_loss: 0.3774, \n"
     ]
    },
    {
     "name": "stdout",
     "output_type": "stream",
     "text": [
      "epoch: 11, [batch: 13440 / 33600], examples_per_second: 3199.0524, train_label_loss: 0.5175, \n"
     ]
    },
    {
     "name": "stdout",
     "output_type": "stream",
     "text": [
      "epoch: 11, [batch: 16800 / 33600], examples_per_second: 3222.9613, train_label_loss: 0.0915, \n"
     ]
    },
    {
     "name": "stdout",
     "output_type": "stream",
     "text": [
      "epoch: 11, [batch: 20160 / 33600], examples_per_second: 3251.2373, train_label_loss: 0.2250, \n"
     ]
    },
    {
     "name": "stdout",
     "output_type": "stream",
     "text": [
      "epoch: 11, [batch: 23520 / 33600], examples_per_second: 3233.3886, train_label_loss: 0.3444, \n"
     ]
    },
    {
     "name": "stdout",
     "output_type": "stream",
     "text": [
      "epoch: 11, [batch: 26880 / 33600], examples_per_second: 3244.0339, train_label_loss: 0.1829, \n"
     ]
    },
    {
     "name": "stdout",
     "output_type": "stream",
     "text": [
      "epoch: 11, [batch: 30240 / 33600], examples_per_second: 3243.3764, train_label_loss: 0.6767, \n"
     ]
    },
    {
     "name": "stdout",
     "output_type": "stream",
     "text": [
      "=============================================================\n",
      "epoch: 11, source_val_acc_label: 0.7295, target_val_acc_label: 0.7121, source_val_label_loss: 0.8126, target_val_label_loss: 0.9103, \n",
      "=============================================================\n"
     ]
    },
    {
     "name": "stdout",
     "output_type": "stream",
     "text": [
      "epoch: 12, [batch: 1 / 33600], examples_per_second: 0.9633, train_label_loss: 0.2921, \n"
     ]
    },
    {
     "name": "stdout",
     "output_type": "stream",
     "text": [
      "epoch: 12, [batch: 3360 / 33600], examples_per_second: 3232.2345, train_label_loss: 0.4869, \n"
     ]
    },
    {
     "name": "stdout",
     "output_type": "stream",
     "text": [
      "epoch: 12, [batch: 6720 / 33600], examples_per_second: 3241.1123, train_label_loss: 0.3302, \n"
     ]
    },
    {
     "name": "stdout",
     "output_type": "stream",
     "text": [
      "epoch: 12, [batch: 10080 / 33600], examples_per_second: 3242.6095, train_label_loss: 0.3175, \n"
     ]
    },
    {
     "name": "stdout",
     "output_type": "stream",
     "text": [
      "epoch: 12, [batch: 13440 / 33600], examples_per_second: 3231.1848, train_label_loss: 0.2368, \n"
     ]
    },
    {
     "name": "stdout",
     "output_type": "stream",
     "text": [
      "epoch: 12, [batch: 16800 / 33600], examples_per_second: 3245.3044, train_label_loss: 0.4165, \n"
     ]
    },
    {
     "name": "stdout",
     "output_type": "stream",
     "text": [
      "epoch: 12, [batch: 20160 / 33600], examples_per_second: 3242.8342, train_label_loss: 0.3078, \n"
     ]
    },
    {
     "name": "stdout",
     "output_type": "stream",
     "text": [
      "epoch: 12, [batch: 23520 / 33600], examples_per_second: 3230.1498, train_label_loss: 0.2486, \n"
     ]
    },
    {
     "name": "stdout",
     "output_type": "stream",
     "text": [
      "epoch: 12, [batch: 26880 / 33600], examples_per_second: 3243.2098, train_label_loss: 0.3612, \n"
     ]
    },
    {
     "name": "stdout",
     "output_type": "stream",
     "text": [
      "epoch: 12, [batch: 30240 / 33600], examples_per_second: 3239.4222, train_label_loss: 0.6169, \n"
     ]
    },
    {
     "name": "stdout",
     "output_type": "stream",
     "text": [
      "=============================================================\n",
      "epoch: 12, source_val_acc_label: 0.7280, target_val_acc_label: 0.7142, source_val_label_loss: 0.8409, target_val_label_loss: 0.9438, \n",
      "=============================================================\n"
     ]
    },
    {
     "name": "stdout",
     "output_type": "stream",
     "text": [
      "epoch: 13, [batch: 1 / 33600], examples_per_second: 0.9612, train_label_loss: 0.3149, \n"
     ]
    },
    {
     "name": "stdout",
     "output_type": "stream",
     "text": [
      "epoch: 13, [batch: 3360 / 33600], examples_per_second: 3223.4722, train_label_loss: 0.6751, \n"
     ]
    },
    {
     "name": "stdout",
     "output_type": "stream",
     "text": [
      "epoch: 13, [batch: 6720 / 33600], examples_per_second: 3237.0587, train_label_loss: 0.6053, \n"
     ]
    },
    {
     "name": "stdout",
     "output_type": "stream",
     "text": [
      "epoch: 13, [batch: 10080 / 33600], examples_per_second: 3238.3476, train_label_loss: 0.2156, \n"
     ]
    },
    {
     "name": "stdout",
     "output_type": "stream",
     "text": [
      "epoch: 13, [batch: 13440 / 33600], examples_per_second: 3225.4653, train_label_loss: 0.2069, \n"
     ]
    },
    {
     "name": "stdout",
     "output_type": "stream",
     "text": [
      "epoch: 13, [batch: 16800 / 33600], examples_per_second: 3244.5854, train_label_loss: 0.3038, \n"
     ]
    },
    {
     "name": "stdout",
     "output_type": "stream",
     "text": [
      "epoch: 13, [batch: 20160 / 33600], examples_per_second: 3241.2103, train_label_loss: 0.4842, \n"
     ]
    },
    {
     "name": "stdout",
     "output_type": "stream",
     "text": [
      "epoch: 13, [batch: 23520 / 33600], examples_per_second: 3223.6974, train_label_loss: 0.2545, \n"
     ]
    },
    {
     "name": "stdout",
     "output_type": "stream",
     "text": [
      "epoch: 13, [batch: 26880 / 33600], examples_per_second: 3241.3298, train_label_loss: 0.3541, \n"
     ]
    },
    {
     "name": "stdout",
     "output_type": "stream",
     "text": [
      "epoch: 13, [batch: 30240 / 33600], examples_per_second: 3242.9803, train_label_loss: 0.5820, \n"
     ]
    },
    {
     "name": "stdout",
     "output_type": "stream",
     "text": [
      "=============================================================\n",
      "epoch: 13, source_val_acc_label: 0.7283, target_val_acc_label: 0.7132, source_val_label_loss: 0.8636, target_val_label_loss: 0.9664, \n",
      "=============================================================\n"
     ]
    },
    {
     "name": "stdout",
     "output_type": "stream",
     "text": [
      "Patience (3) exhausted\n"
     ]
    }
   ],
   "source": [
    "###################################\n",
    "# train\n",
    "###################################\n",
    "jig = PTN_Train_Eval_Test_Jig(model, p.BEST_MODEL_PATH, p.device)\n",
    "\n",
    "jig.train(\n",
    "    train_iterable=datasets.source.processed.train,\n",
    "    source_val_iterable=datasets.source.processed.val,\n",
    "    target_val_iterable=datasets.target.processed.val,\n",
    "    num_epochs=p.n_epoch,\n",
    "    num_logs_per_epoch=p.NUM_LOGS_PER_EPOCH,\n",
    "    patience=p.patience,\n",
    "    optimizer=optimizer,\n",
    "    criteria_for_best=p.criteria_for_best,\n",
    ")"
   ]
  },
  {
   "cell_type": "code",
   "execution_count": 23,
   "id": "31e8fabf",
   "metadata": {
    "execution": {
     "iopub.execute_input": "2022-03-24T04:57:23.161992Z",
     "iopub.status.busy": "2022-03-24T04:57:23.154447Z",
     "iopub.status.idle": "2022-03-24T04:57:23.173903Z",
     "shell.execute_reply": "2022-03-24T04:57:23.173413Z"
    },
    "papermill": {
     "duration": 0.062901,
     "end_time": "2022-03-24T04:57:23.174017",
     "exception": false,
     "start_time": "2022-03-24T04:57:23.111116",
     "status": "completed"
    },
    "tags": []
   },
   "outputs": [],
   "source": [
    "total_experiment_time_secs = time.time() - start_time_secs"
   ]
  },
  {
   "cell_type": "code",
   "execution_count": 24,
   "id": "87b9595b",
   "metadata": {
    "execution": {
     "iopub.execute_input": "2022-03-24T04:57:23.265707Z",
     "iopub.status.busy": "2022-03-24T04:57:23.265414Z",
     "iopub.status.idle": "2022-03-24T05:05:29.640731Z",
     "shell.execute_reply": "2022-03-24T05:05:29.640483Z"
    },
    "papermill": {
     "duration": 486.421834,
     "end_time": "2022-03-24T05:05:29.640796",
     "exception": false,
     "start_time": "2022-03-24T04:57:23.218962",
     "status": "completed"
    },
    "tags": []
   },
   "outputs": [],
   "source": [
    "###################################\n",
    "# Evaluate the model\n",
    "###################################\n",
    "source_test_label_accuracy, source_test_label_loss = jig.test(datasets.source.processed.test)\n",
    "target_test_label_accuracy, target_test_label_loss = jig.test(datasets.target.processed.test)\n",
    "\n",
    "source_val_label_accuracy, source_val_label_loss = jig.test(datasets.source.processed.val)\n",
    "target_val_label_accuracy, target_val_label_loss = jig.test(datasets.target.processed.val)\n",
    "\n",
    "history = jig.get_history()\n",
    "\n",
    "total_epochs_trained = len(history[\"epoch_indices\"])\n",
    "\n",
    "val_dl = Iterable_Aggregator((datasets.source.original.val,datasets.target.original.val))\n",
    "\n",
    "confusion = ptn_confusion_by_domain_over_dataloader(model, p.device, val_dl)\n",
    "per_domain_accuracy = per_domain_accuracy_from_confusion(confusion)\n",
    "\n",
    "# Add a key to per_domain_accuracy for if it was a source domain\n",
    "for domain, accuracy in per_domain_accuracy.items():\n",
    "    per_domain_accuracy[domain] = {\n",
    "        \"accuracy\": accuracy,\n",
    "        \"source?\": domain in p.domains_source\n",
    "    }\n",
    "\n",
    "# Do an independent accuracy assesment JUST TO BE SURE!\n",
    "# _source_test_label_accuracy = independent_accuracy_assesment(model, datasets.source.processed.test, p.device)\n",
    "# _target_test_label_accuracy = independent_accuracy_assesment(model, datasets.target.processed.test, p.device)\n",
    "# _source_val_label_accuracy = independent_accuracy_assesment(model, datasets.source.processed.val, p.device)\n",
    "# _target_val_label_accuracy = independent_accuracy_assesment(model, datasets.target.processed.val, p.device)\n",
    "\n",
    "# assert(_source_test_label_accuracy == source_test_label_accuracy)\n",
    "# assert(_target_test_label_accuracy == target_test_label_accuracy)\n",
    "# assert(_source_val_label_accuracy == source_val_label_accuracy)\n",
    "# assert(_target_val_label_accuracy == target_val_label_accuracy)\n",
    "\n",
    "experiment = {\n",
    "    \"experiment_name\": p.experiment_name,\n",
    "    \"parameters\": dict(p),\n",
    "    \"results\": {\n",
    "        \"source_test_label_accuracy\": source_test_label_accuracy,\n",
    "        \"source_test_label_loss\": source_test_label_loss,\n",
    "        \"target_test_label_accuracy\": target_test_label_accuracy,\n",
    "        \"target_test_label_loss\": target_test_label_loss,\n",
    "        \"source_val_label_accuracy\": source_val_label_accuracy,\n",
    "        \"source_val_label_loss\": source_val_label_loss,\n",
    "        \"target_val_label_accuracy\": target_val_label_accuracy,\n",
    "        \"target_val_label_loss\": target_val_label_loss,\n",
    "        \"total_epochs_trained\": total_epochs_trained,\n",
    "        \"total_experiment_time_secs\": total_experiment_time_secs,\n",
    "        \"confusion\": confusion,\n",
    "        \"per_domain_accuracy\": per_domain_accuracy,\n",
    "    },\n",
    "    \"history\": history,\n",
    "    \"dataset_metrics\": get_dataset_metrics(datasets, \"ptn\"),\n",
    "}"
   ]
  },
  {
   "cell_type": "code",
   "execution_count": 25,
   "id": "54a21829",
   "metadata": {
    "execution": {
     "iopub.execute_input": "2022-03-24T05:05:29.727058Z",
     "iopub.status.busy": "2022-03-24T05:05:29.725439Z",
     "iopub.status.idle": "2022-03-24T05:05:29.882780Z",
     "shell.execute_reply": "2022-03-24T05:05:29.882454Z"
    },
    "papermill": {
     "duration": 0.200362,
     "end_time": "2022-03-24T05:05:29.882860",
     "exception": false,
     "start_time": "2022-03-24T05:05:29.682498",
     "status": "completed"
    },
    "tags": []
   },
   "outputs": [
    {
     "data": {
      "image/png": "[encoded data removed]",
      "text/plain": [
       "<Figure size 1080x504 with 1 Axes>"
      ]
     },
     "metadata": {
      "needs_background": "light"
     },
     "output_type": "display_data"
    }
   ],
   "source": [
    "ax = get_loss_curve(experiment)\n",
    "plt.show()"
   ]
  },
  {
   "cell_type": "code",
   "execution_count": 26,
   "id": "fd8a0f60",
   "metadata": {
    "execution": {
     "iopub.execute_input": "2022-03-24T05:05:29.971909Z",
     "iopub.status.busy": "2022-03-24T05:05:29.971662Z",
     "iopub.status.idle": "2022-03-24T05:05:30.112358Z",
     "shell.execute_reply": "2022-03-24T05:05:30.112570Z"
    },
    "papermill": {
     "duration": 0.184896,
     "end_time": "2022-03-24T05:05:30.112648",
     "exception": false,
     "start_time": "2022-03-24T05:05:29.927752",
     "status": "completed"
    },
    "tags": []
   },
   "outputs": [
    {
     "data": {
      "text/plain": [
       "<AxesSubplot:title={'center':'Results'}>"
      ]
     },
     "execution_count": 26,
     "metadata": {},
     "output_type": "execute_result"
    },
    {
     "data": {
      "image/png": "[encoded data removed]",
      "text/plain": [
       "<Figure size 1080x504 with 1 Axes>"
      ]
     },
     "metadata": {
      "needs_background": "light"
     },
     "output_type": "display_data"
    }
   ],
   "source": [
    "get_results_table(experiment)"
   ]
  },
  {
   "cell_type": "code",
   "execution_count": 27,
   "id": "cf8dc689",
   "metadata": {
    "execution": {
     "iopub.execute_input": "2022-03-24T05:05:30.202286Z",
     "iopub.status.busy": "2022-03-24T05:05:30.201295Z",
     "iopub.status.idle": "2022-03-24T05:05:30.364540Z",
     "shell.execute_reply": "2022-03-24T05:05:30.364042Z"
    },
    "papermill": {
     "duration": 0.208223,
     "end_time": "2022-03-24T05:05:30.364643",
     "exception": false,
     "start_time": "2022-03-24T05:05:30.156420",
     "status": "completed"
    },
    "tags": []
   },
   "outputs": [
    {
     "data": {
      "text/plain": [
       "<AxesSubplot:title={'center':'Per Domain Validation Accuracy'}, xlabel='domain'>"
      ]
     },
     "execution_count": 27,
     "metadata": {},
     "output_type": "execute_result"
    },
    {
     "data": {
      "image/png": "[encoded data removed]",
      "text/plain": [
       "<Figure size 1080x504 with 1 Axes>"
      ]
     },
     "metadata": {
      "needs_background": "light"
     },
     "output_type": "display_data"
    }
   ],
   "source": [
    "get_domain_accuracies(experiment)"
   ]
  },
  {
   "cell_type": "code",
   "execution_count": 28,
   "id": "a74ae082",
   "metadata": {
    "execution": {
     "iopub.execute_input": "2022-03-24T05:05:30.458752Z",
     "iopub.status.busy": "2022-03-24T05:05:30.458474Z",
     "iopub.status.idle": "2022-03-24T05:05:30.474107Z",
     "shell.execute_reply": "2022-03-24T05:05:30.473669Z"
    },
    "papermill": {
     "duration": 0.06115,
     "end_time": "2022-03-24T05:05:30.474207",
     "exception": false,
     "start_time": "2022-03-24T05:05:30.413057",
     "status": "completed"
    },
    "tags": []
   },
   "outputs": [
    {
     "name": "stdout",
     "output_type": "stream",
     "text": [
      "Source Test Label Accuracy: 0.7336783854166666 Target Test Label Accuracy: 0.7146809895833334\n",
      "Source Val Label Accuracy: 0.73134765625 Target Val Label Accuracy: 0.7157356770833333\n"
     ]
    }
   ],
   "source": [
    "print(\"Source Test Label Accuracy:\", experiment[\"results\"][\"source_test_label_accuracy\"], \"Target Test Label Accuracy:\", experiment[\"results\"][\"target_test_label_accuracy\"])\n",
    "print(\"Source Val Label Accuracy:\", experiment[\"results\"][\"source_val_label_accuracy\"], \"Target Val Label Accuracy:\", experiment[\"results\"][\"target_val_label_accuracy\"])"
   ]
  },
  {
   "cell_type": "code",
   "execution_count": 29,
   "id": "dacca602",
   "metadata": {
    "execution": {
     "iopub.execute_input": "2022-03-24T05:05:30.567822Z",
     "iopub.status.busy": "2022-03-24T05:05:30.567566Z",
     "iopub.status.idle": "2022-03-24T05:05:30.580493Z",
     "shell.execute_reply": "2022-03-24T05:05:30.580072Z"
    },
    "papermill": {
     "duration": 0.058371,
     "end_time": "2022-03-24T05:05:30.580594",
     "exception": false,
     "start_time": "2022-03-24T05:05:30.522223",
     "status": "completed"
    },
    "tags": [
     "experiment_json"
    ]
   },
   "outputs": [
    {
     "data": {
      "text/plain": [
       "'{\"experiment_name\": \"tl_1v2:oracle.run1-oracle.run2\", \"parameters\": {\"experiment_name\": \"tl_1v2:oracle.run1-oracle.run2\", \"device\": \"cuda\", \"lr\": 0.0001, \"n_shot\": 3, \"n_query\": 2, \"train_k_factor\": 3, \"val_k_factor\": 2, \"test_k_factor\": 2, \"torch_default_dtype\": \"torch.float32\", \"n_epoch\": 50, \"patience\": 3, \"criteria_for_best\": \"target_accuracy\", \"x_net\": [{\"class\": \"nnReshape\", \"kargs\": {\"shape\": [-1, 1, 2, 256]}}, {\"class\": \"Conv2d\", \"kargs\": {\"in_channels\": 1, \"out_channels\": 256, \"kernel_size\": [1, 7], \"bias\": false, \"padding\": [0, 3]}}, {\"class\": \"ReLU\", \"kargs\": {\"inplace\": true}}, {\"class\": \"BatchNorm2d\", \"kargs\": {\"num_features\": 256}}, {\"class\": \"Conv2d\", \"kargs\": {\"in_channels\": 256, \"out_channels\": 80, \"kernel_size\": [2, 7], \"bias\": true, \"padding\": [0, 3]}}, {\"class\": \"ReLU\", \"kargs\": {\"inplace\": true}}, {\"class\": \"BatchNorm2d\", \"kargs\": {\"num_features\": 80}}, {\"class\": \"Flatten\", \"kargs\": {}}, {\"class\": \"Linear\", \"kargs\": {\"in_features\": 20480, \"out_features\": 256}}, {\"class\": \"ReLU\", \"kargs\": {\"inplace\": true}}, {\"class\": \"BatchNorm1d\", \"kargs\": {\"num_features\": 256}}, {\"class\": \"Linear\", \"kargs\": {\"in_features\": 256, \"out_features\": 256}}], \"NUM_LOGS_PER_EPOCH\": 10, \"BEST_MODEL_PATH\": \"./best_model.pth\", \"n_way\": 16, \"datasets\": [{\"labels\": [\"3123D52\", \"3123D65\", \"3123D79\", \"3123D80\", \"3123D54\", \"3123D70\", \"3123D7B\", \"3123D89\", \"3123D58\", \"3123D76\", \"3123D7D\", \"3123EFE\", \"3123D64\", \"3123D78\", \"3123D7E\", \"3124E4A\"], \"domains\": [32, 38, 8, 44, 14, 50, 20, 26], \"num_examples_per_domain_per_label\": 10000, \"pickle_path\": \"/mnt/wd500GB/CSC500/csc500-main/datasets/oracle.Run1_10kExamples_stratified_ds.2022A.pkl\", \"source_or_target_dataset\": \"source\", \"x_transforms\": [\"unit_mag\"], \"episode_transforms\": [], \"domain_prefix\": \"ORACLE.run1_\"}, {\"labels\": [\"3123D52\", \"3123D65\", \"3123D79\", \"3123D80\", \"3123D54\", \"3123D70\", \"3123D7B\", \"3123D89\", \"3123D58\", \"3123D76\", \"3123D7D\", \"3123EFE\", \"3123D64\", \"3123D78\", \"3123D7E\", \"3124E4A\"], \"domains\": [32, 38, 8, 44, 14, 50, 20, 26], \"num_examples_per_domain_per_label\": 10000, \"pickle_path\": \"/mnt/wd500GB/CSC500/csc500-main/datasets/oracle.Run2_10kExamples_stratified_ds.2022A.pkl\", \"source_or_target_dataset\": \"target\", \"x_transforms\": [\"unit_mag\"], \"episode_transforms\": [], \"domain_prefix\": \"ORACLE.run2_\"}], \"dataset_seed\": 420, \"seed\": 420, \"x_shape\": [2, 256], \"domains_source\": [\"ORACLE.run1_32\", \"ORACLE.run1_38\", \"ORACLE.run1_8\", \"ORACLE.run1_44\", \"ORACLE.run1_14\", \"ORACLE.run1_50\", \"ORACLE.run1_20\", \"ORACLE.run1_26\"], \"domains_target\": [\"ORACLE.run2_32\", \"ORACLE.run2_38\", \"ORACLE.run2_8\", \"ORACLE.run2_44\", \"ORACLE.run2_14\", \"ORACLE.run2_50\", \"ORACLE.run2_20\", \"ORACLE.run2_26\"]}, \"results\": {\"source_test_label_accuracy\": 0.7336783854166666, \"source_test_label_loss\": 0.7651627063751221, \"target_test_label_accuracy\": 0.7146809895833334, \"target_test_label_loss\": 0.8575387001037598, \"source_val_label_accuracy\": 0.73134765625, \"source_val_label_loss\": 0.7720407247543335, \"target_val_label_accuracy\": 0.7157356770833333, \"target_val_label_loss\": 0.8566770553588867, \"total_epochs_trained\": 13, \"total_experiment_time_secs\": 12103.473786354065, \"confusion\": {\"ORACLE.run1_14\": {\"15\": {\"15\": 1173, \"7\": 24, \"5\": 3}, \"5\": {\"4\": 212, \"2\": 50, \"5\": 808, \"1\": 101, \"7\": 13, \"3\": 15, \"15\": 1}, \"7\": {\"7\": 1179, \"5\": 4, \"15\": 14, \"1\": 3}, \"4\": {\"5\": 130, \"4\": 922, \"3\": 78, \"2\": 51, \"1\": 14, \"14\": 4, \"13\": 1}, \"10\": {\"10\": 1166, \"0\": 32, \"14\": 1, \"3\": 1}, \"11\": {\"11\": 1077, \"0\": 65, \"9\": 54, \"10\": 4}, \"12\": {\"12\": 1196, \"9\": 4}, \"0\": {\"0\": 1110, \"10\": 65, \"11\": 14, \"3\": 10, \"14\": 1}, \"14\": {\"14\": 976, \"13\": 79, \"3\": 28, \"4\": 3, \"2\": 77, \"6\": 37}, \"8\": {\"8\": 1200}, \"13\": {\"14\": 168, \"13\": 437, \"6\": 486, \"2\": 100, \"5\": 8, \"15\": 1}, \"6\": {\"13\": 449, \"6\": 677, \"14\": 37, \"2\": 36, \"4\": 1}, \"1\": {\"1\": 1089, \"5\": 98, \"4\": 11, \"2\": 1, \"7\": 1}, \"3\": {\"3\": 1034, \"4\": 114, \"2\": 14, \"14\": 26, \"5\": 7, \"0\": 5}, \"9\": {\"9\": 1193, \"12\": 4, \"11\": 3}, \"2\": {\"14\": 161, \"4\": 74, \"5\": 117, \"13\": 72, \"2\": 625, \"15\": 19, \"6\": 65, \"3\": 67}}, \"ORACLE.run1_20\": {\"4\": {\"10\": 40, \"4\": 939, \"3\": 66, \"8\": 133, \"9\": 3, \"12\": 10, \"5\": 4, \"7\": 1, \"0\": 3, \"2\": 1}, \"10\": {\"10\": 1104, \"14\": 62, \"4\": 20, \"3\": 1, \"8\": 11, \"6\": 2}, \"15\": {\"15\": 757, \"1\": 192, \"12\": 24, \"5\": 108, \"0\": 71, \"13\": 42, \"2\": 3, \"3\": 2, \"9\": 1}, \"0\": {\"0\": 729, \"5\": 296, \"15\": 106, \"3\": 24, \"12\": 7, \"1\": 19, \"2\": 7, \"13\": 2, \"8\": 4, \"4\": 4, \"7\": 1, \"9\": 1}, \"6\": {\"6\": 1059, \"14\": 126, \"7\": 6, \"8\": 6, \"10\": 3}, \"3\": {\"4\": 60, \"3\": 502, \"7\": 38, \"9\": 185, \"5\": 39, \"2\": 86, \"12\": 251, \"1\": 26, \"8\": 5, \"0\": 3, \"10\": 3, \"15\": 2}, \"7\": {\"2\": 148, \"7\": 910, \"0\": 2, \"4\": 6, \"3\": 29, \"8\": 60, \"6\": 8, \"9\": 33, \"10\": 2, \"13\": 1, \"12\": 1}, \"2\": {\"9\": 286, \"2\": 552, \"1\": 10, \"7\": 129, \"12\": 54, \"13\": 59, \"3\": 102, \"5\": 5, \"8\": 1, \"15\": 2}, \"8\": {\"8\": 930, \"7\": 70, \"4\": 137, \"14\": 27, \"3\": 12, \"10\": 13, \"6\": 9, \"5\": 2}, \"11\": {\"11\": 1199, \"7\": 1}, \"14\": {\"14\": 1014, \"10\": 52, \"8\": 18, \"6\": 116}, \"12\": {\"1\": 164, \"12\": 454, \"3\": 262, \"2\": 52, \"9\": 114, \"5\": 114, \"15\": 18, \"0\": 9, \"7\": 2, \"4\": 8, \"13\": 3}, \"13\": {\"13\": 1114, \"2\": 52, \"15\": 14, \"9\": 7, \"12\": 3, \"5\": 2, \"0\": 2, \"1\": 4, \"7\": 2}, \"9\": {\"9\": 494, \"3\": 198, \"2\": 298, \"12\": 122, \"15\": 3, \"7\": 44, \"5\": 4, \"13\": 8, \"1\": 22, \"8\": 3, \"4\": 4}, \"5\": {\"15\": 100, \"3\": 43, \"1\": 153, \"5\": 560, \"0\": 236, \"12\": 89, \"2\": 8, \"4\": 8, \"9\": 2, \"13\": 1}, \"1\": {\"5\": 200, \"15\": 174, \"1\": 548, \"12\": 213, \"0\": 22, \"9\": 12, \"3\": 21, \"2\": 7, \"13\": 3}}, \"ORACLE.run1_50\": {\"5\": {\"4\": 169, \"5\": 510, \"13\": 157, \"7\": 238, \"6\": 71, \"1\": 54, \"10\": 1}, \"12\": {\"12\": 1102, \"11\": 10, \"9\": 62, \"14\": 26}, \"14\": {\"14\": 1175, \"12\": 17, \"11\": 8}, \"4\": {\"7\": 28, \"4\": 626, \"15\": 161, \"6\": 81, \"1\": 151, \"5\": 133, \"13\": 20}, \"13\": {\"7\": 183, \"13\": 757, \"5\": 167, \"6\": 67, \"4\": 9, \"10\": 14, \"1\": 3}, \"10\": {\"10\": 1106, \"13\": 26, \"0\": 41, \"7\": 11, \"8\": 15, \"5\": 1}, \"9\": {\"9\": 956, \"11\": 160, \"12\": 84}, \"15\": {\"15\": 928, \"1\": 158, \"6\": 14, \"4\": 78, \"11\": 22}, \"6\": {\"6\": 907, \"4\": 88, \"13\": 67, \"1\": 73, \"5\": 30, \"15\": 24, \"7\": 9, \"0\": 2}, \"2\": {\"2\": 1108, \"0\": 92}, \"0\": {\"0\": 1039, \"2\": 111, \"10\": 42, \"13\": 7, \"1\": 1}, \"11\": {\"9\": 109, \"11\": 1043, \"15\": 26, \"14\": 12, \"12\": 9, \"1\": 1}, \"3\": {\"3\": 1168, \"8\": 32}, \"8\": {\"8\": 1175, \"10\": 13, \"3\": 12}, \"7\": {\"7\": 773, \"13\": 219, \"10\": 32, \"5\": 159, \"6\": 12, \"4\": 5}, \"1\": {\"4\": 109, \"1\": 788, \"15\": 207, \"5\": 13, \"6\": 71, \"11\": 7, \"14\": 2, \"2\": 2, \"0\": 1}}, \"ORACLE.run1_26\": {\"7\": {\"7\": 621, \"1\": 8, \"2\": 132, \"3\": 190, \"4\": 113, \"15\": 12, \"8\": 86, \"10\": 4, \"0\": 13, \"14\": 11, \"9\": 6, \"5\": 4}, \"6\": {\"6\": 821, \"9\": 187, \"10\": 73, \"0\": 30, \"8\": 40, \"15\": 34, \"13\": 12, \"14\": 2, \"5\": 1}, \"14\": {\"0\": 165, \"14\": 469, \"1\": 216, \"4\": 222, \"10\": 91, \"8\": 26, \"7\": 9, \"6\": 2}, \"15\": {\"7\": 14, \"9\": 338, \"15\": 522, \"8\": 81, \"6\": 39, \"13\": 59, \"5\": 106, \"2\": 34, \"10\": 4, \"0\": 3}, \"5\": {\"5\": 779, \"15\": 151, \"9\": 41, \"13\": 117, \"2\": 71, \"7\": 7, \"8\": 24, \"3\": 5, \"0\": 2, \"6\": 2, \"10\": 1}, \"10\": {\"0\": 232, \"10\": 484, \"4\": 66, \"8\": 179, \"1\": 30, \"6\": 67, \"14\": 124, \"9\": 10, \"15\": 5, \"5\": 1, \"7\": 2}, \"4\": {\"4\": 503, \"1\": 110, \"7\": 93, \"14\": 211, \"0\": 138, \"10\": 46, \"8\": 95, \"3\": 1, \"2\": 3}, \"11\": {\"11\": 1195, \"12\": 5}, \"13\": {\"13\": 882, \"5\": 208, \"15\": 58, \"6\": 9, \"2\": 16, \"9\": 27}, \"2\": {\"3\": 396, \"15\": 51, \"8\": 41, \"2\": 438, \"7\": 141, \"5\": 111, \"9\": 10, \"4\": 9, \"13\": 3}, \"0\": {\"8\": 130, \"4\": 161, \"10\": 271, \"0\": 374, \"1\": 25, \"14\": 190, \"6\": 20, \"7\": 21, \"15\": 4, \"9\": 4}, \"12\": {\"12\": 1199, \"11\": 1}, \"3\": {\"7\": 189, \"3\": 738, \"2\": 270, \"15\": 1, \"8\": 1, \"5\": 1}, \"9\": {\"15\": 342, \"8\": 96, \"2\": 5, \"9\": 516, \"10\": 18, \"6\": 143, \"5\": 36, \"13\": 31, \"7\": 9, \"0\": 4}, \"8\": {\"15\": 79, \"9\": 111, \"7\": 88, \"8\": 482, \"4\": 79, \"10\": 141, \"0\": 107, \"6\": 30, \"14\": 24, \"2\": 28, \"5\": 20, \"3\": 4, \"1\": 7}, \"1\": {\"14\": 232, \"1\": 767, \"4\": 128, \"10\": 31, \"0\": 22, \"7\": 14, \"8\": 5, \"3\": 1}}, \"ORACLE.run1_32\": {\"7\": {\"7\": 590, \"5\": 167, \"13\": 79, \"4\": 142, \"2\": 33, \"14\": 130, \"0\": 26, \"11\": 31, \"3\": 1, \"8\": 1}, \"2\": {\"2\": 960, \"4\": 201, \"0\": 22, \"5\": 4, \"7\": 11, \"14\": 1, \"8\": 1}, \"5\": {\"5\": 446, \"13\": 277, \"4\": 115, \"7\": 158, \"3\": 47, \"8\": 74, \"2\": 22, \"14\": 23, \"0\": 33, \"11\": 5}, \"6\": {\"6\": 1200}, \"13\": {\"4\": 76, \"5\": 235, \"13\": 566, \"7\": 106, \"3\": 88, \"8\": 59, \"14\": 32, \"11\": 15, \"0\": 23}, \"4\": {\"4\": 712, \"7\": 111, \"2\": 202, \"5\": 93, \"14\": 5, \"13\": 31, \"0\": 40, \"8\": 6}, \"3\": {\"3\": 1112, \"13\": 38, \"11\": 16, \"7\": 2, \"5\": 20, \"8\": 10, \"14\": 2}, \"0\": {\"4\": 62, \"0\": 875, \"8\": 126, \"14\": 28, \"13\": 15, \"7\": 22, \"2\": 32, \"5\": 40}, \"9\": {\"9\": 1196, \"12\": 4}, \"12\": {\"12\": 1200}, \"8\": {\"8\": 973, \"0\": 91, \"5\": 51, \"13\": 71, \"3\": 7, \"7\": 2, \"14\": 2, \"4\": 3}, \"14\": {\"7\": 207, \"14\": 514, \"4\": 15, \"11\": 314, \"0\": 44, \"5\": 29, \"13\": 49, \"2\": 11, \"3\": 4, \"8\": 13}, \"15\": {\"15\": 1192, \"8\": 8}, \"11\": {\"11\": 939, \"14\": 207, \"5\": 2, \"7\": 14, \"13\": 20, \"3\": 18}, \"10\": {\"10\": 1194, \"1\": 6}, \"1\": {\"1\": 1190, \"10\": 10}}, \"ORACLE.run1_44\": {\"11\": {\"11\": 1125, \"9\": 2, \"13\": 61, \"6\": 12}, \"7\": {\"9\": 193, \"7\": 800, \"6\": 43, \"3\": 2, \"2\": 161, \"13\": 1}, \"6\": {\"6\": 838, \"7\": 36, \"9\": 112, \"13\": 199, \"11\": 14, \"2\": 1}, \"12\": {\"12\": 953, \"1\": 192, \"10\": 40, \"3\": 14, \"2\": 1}, \"4\": {\"14\": 326, \"4\": 865, \"15\": 8, \"9\": 1}, \"13\": {\"13\": 827, \"6\": 204, \"11\": 40, \"9\": 120, \"4\": 6, \"7\": 2, \"14\": 1}, \"8\": {\"0\": 404, \"8\": 751, \"15\": 29, \"5\": 16}, \"5\": {\"5\": 1052, \"0\": 74, \"15\": 33, \"14\": 35, \"8\": 5, \"4\": 1}, \"14\": {\"4\": 335, \"15\": 57, \"14\": 774, \"5\": 34}, \"3\": {\"3\": 1076, \"1\": 114, \"7\": 2, \"2\": 2, \"12\": 6}, \"10\": {\"10\": 909, \"12\": 90, \"2\": 94, \"1\": 105, \"3\": 2}, \"1\": {\"1\": 766, \"12\": 211, \"2\": 43, \"10\": 69, \"3\": 110, \"7\": 1}, \"2\": {\"2\": 892, \"10\": 97, \"7\": 157, \"1\": 45, \"3\": 3, \"9\": 6}, \"15\": {\"15\": 978, \"0\": 81, \"14\": 79, \"5\": 33, \"4\": 11, \"8\": 18}, \"9\": {\"9\": 702, \"6\": 116, \"7\": 246, \"13\": 122, \"2\": 14}, \"0\": {\"0\": 739, \"8\": 346, \"5\": 73, \"15\": 42}}, \"ORACLE.run1_8\": {\"10\": {\"10\": 810, \"14\": 228, \"4\": 34, \"13\": 98, \"5\": 19, \"1\": 7, \"0\": 4}, \"6\": {\"6\": 685, \"7\": 276, \"4\": 143, \"0\": 53, \"13\": 32, \"14\": 3, \"8\": 7, \"10\": 1}, \"13\": {\"0\": 283, \"13\": 429, \"4\": 189, \"10\": 138, \"6\": 39, \"14\": 107, \"7\": 10, \"5\": 2, \"1\": 3}, \"3\": {\"3\": 1059, \"2\": 85, \"12\": 50, \"15\": 6}, \"9\": {\"9\": 1200}, \"1\": {\"1\": 882, \"11\": 235, \"14\": 56, \"5\": 15, \"10\": 9, \"4\": 3}, \"5\": {\"5\": 1069, \"10\": 73, \"1\": 43, \"14\": 12, \"11\": 3}, \"11\": {\"1\": 337, \"11\": 819, \"5\": 19, \"8\": 13, \"14\": 9, \"4\": 2, \"6\": 1}, \"4\": {\"4\": 630, \"6\": 113, \"0\": 64, \"13\": 204, \"14\": 151, \"10\": 29, \"7\": 5, \"1\": 4}, \"14\": {\"4\": 191, \"14\": 640, \"10\": 189, \"11\": 11, \"13\": 84, \"1\": 73, \"5\": 7, \"0\": 3, \"6\": 2}, \"12\": {\"15\": 401, \"12\": 623, \"3\": 136, \"2\": 17, \"8\": 23}, \"7\": {\"6\": 245, \"7\": 909, \"0\": 35, \"13\": 4, \"8\": 5, \"4\": 2}, \"0\": {\"0\": 754, \"13\": 239, \"4\": 53, \"7\": 81, \"6\": 60, \"10\": 12, \"14\": 1}, \"15\": {\"12\": 267, \"15\": 854, \"8\": 65, \"3\": 5, \"2\": 6, \"7\": 3}, \"2\": {\"2\": 984, \"12\": 9, \"3\": 155, \"15\": 33, \"8\": 1, \"7\": 18}, \"8\": {\"8\": 1147, \"15\": 42, \"7\": 2, \"12\": 2, \"6\": 6, \"4\": 1}}, \"ORACLE.run1_38\": {\"4\": {\"4\": 1136, \"12\": 58, \"7\": 1, \"0\": 1, \"10\": 4}, \"7\": {\"7\": 966, \"0\": 138, \"5\": 48, \"8\": 43, \"3\": 4, \"10\": 1}, \"12\": {\"12\": 1169, \"4\": 29, \"10\": 1, \"0\": 1}, \"10\": {\"13\": 120, \"10\": 951, \"8\": 43, \"4\": 5, \"12\": 12, \"14\": 19, \"5\": 3, \"7\": 7, \"0\": 24, \"2\": 6, \"11\": 6, \"15\": 4}, \"0\": {\"7\": 158, \"8\": 243, \"0\": 604, \"3\": 66, \"5\": 94, \"10\": 27, \"12\": 3, \"4\": 1, \"13\": 3, \"15\": 1}, \"1\": {\"1\": 1155, \"15\": 45}, \"5\": {\"7\": 111, \"9\": 39, \"5\": 550, \"8\": 315, \"15\": 50, \"6\": 43, \"0\": 71, \"1\": 6, \"13\": 6, \"3\": 2, \"10\": 7}, \"15\": {\"15\": 913, \"13\": 140, \"5\": 24, \"1\": 68, \"8\": 38, \"2\": 5, \"10\": 11, \"0\": 1}, \"9\": {\"9\": 819, \"6\": 338, \"5\": 22, \"3\": 18, \"7\": 3}, \"11\": {\"11\": 1063, \"14\": 109, \"10\": 18, \"13\": 2, \"12\": 3, \"2\": 5}, \"14\": {\"14\": 1070, \"11\": 36, \"2\": 76, \"13\": 5, \"10\": 9, \"12\": 4}, \"6\": {\"6\": 1026, \"9\": 166, \"5\": 8}, \"8\": {\"8\": 754, \"5\": 251, \"0\": 112, \"10\": 16, \"7\": 40, \"15\": 22, \"13\": 5}, \"3\": {\"3\": 1143, \"6\": 1, \"7\": 10, \"0\": 18, \"9\": 26, \"5\": 2}, \"2\": {\"2\": 1089, \"14\": 75, \"13\": 33, \"11\": 2, \"15\": 1}, \"13\": {\"13\": 849, \"10\": 102, \"15\": 195, \"2\": 22, \"8\": 20, \"14\": 4, \"5\": 7, \"1\": 1}}, \"ORACLE.run2_14\": {\"15\": {\"15\": 1190, \"7\": 10}, \"5\": {\"1\": 92, \"5\": 637, \"4\": 290, \"2\": 75, \"3\": 104, \"14\": 2}, \"7\": {\"7\": 1193, \"15\": 7}, \"4\": {\"4\": 751, \"5\": 257, \"2\": 69, \"1\": 42, \"3\": 74, \"6\": 4, \"14\": 3}, \"10\": {\"10\": 1158, \"0\": 39, \"14\": 3}, \"11\": {\"11\": 1180, \"12\": 17, \"9\": 3}, \"12\": {\"11\": 307, \"12\": 602, \"9\": 140, \"3\": 5, \"10\": 13, \"0\": 90, \"8\": 43}, \"0\": {\"0\": 1196, \"10\": 2, \"3\": 1, \"14\": 1}, \"14\": {\"2\": 171, \"14\": 898, \"6\": 69, \"3\": 36, \"13\": 8, \"4\": 7, \"5\": 6, \"0\": 5}, \"8\": {\"8\": 1200}, \"13\": {\"2\": 29, \"13\": 858, \"6\": 298, \"14\": 13, \"4\": 1, \"5\": 1}, \"6\": {\"6\": 831, \"14\": 68, \"13\": 268, \"2\": 31, \"4\": 2}, \"1\": {\"1\": 1110, \"4\": 34, \"5\": 53, \"2\": 1, \"7\": 1, \"3\": 1}, \"3\": {\"3\": 994, \"2\": 33, \"4\": 77, \"14\": 22, \"5\": 63, \"1\": 10, \"0\": 1}, \"9\": {\"9\": 1199, \"12\": 1}, \"2\": {\"2\": 555, \"14\": 204, \"5\": 141, \"3\": 84, \"4\": 91, \"13\": 84, \"0\": 3, \"6\": 33, \"15\": 2, \"1\": 2, \"7\": 1}}, \"ORACLE.run2_20\": {\"4\": {\"4\": 1069, \"10\": 10, \"5\": 24, \"0\": 10, \"3\": 12, \"8\": 20, \"12\": 37, \"1\": 8, \"14\": 3, \"7\": 1, \"9\": 5, \"2\": 1}, \"10\": {\"10\": 1043, \"14\": 73, \"4\": 12, \"8\": 23, \"6\": 20, \"7\": 21, \"3\": 8}, \"15\": {\"15\": 502, \"13\": 261, \"5\": 76, \"1\": 118, \"9\": 47, \"2\": 88, \"12\": 69, \"0\": 36, \"3\": 2, \"4\": 1}, \"0\": {\"1\": 53, \"0\": 934, \"5\": 81, \"12\": 45, \"15\": 43, \"4\": 27, \"13\": 14, \"8\": 2, \"2\": 1}, \"6\": {\"6\": 1028, \"8\": 16, \"14\": 127, \"7\": 16, \"10\": 13}, \"3\": {\"9\": 174, \"10\": 11, \"3\": 498, \"5\": 111, \"7\": 155, \"4\": 17, \"2\": 170, \"12\": 38, \"15\": 8, \"8\": 12, \"1\": 4, \"6\": 1, \"13\": 1}, \"7\": {\"7\": 907, \"3\": 116, \"5\": 28, \"8\": 100, \"10\": 9, \"14\": 5, \"6\": 16, \"2\": 14, \"4\": 3, \"9\": 2}, \"2\": {\"3\": 162, \"5\": 136, \"9\": 305, \"1\": 16, \"15\": 99, \"2\": 380, \"12\": 69, \"7\": 11, \"13\": 17, \"4\": 4, \"0\": 1}, \"8\": {\"8\": 797, \"4\": 50, \"14\": 183, \"7\": 106, \"5\": 15, \"6\": 25, \"10\": 20, \"3\": 4}, \"11\": {\"11\": 1199, \"2\": 1}, \"14\": {\"14\": 855, \"8\": 138, \"10\": 73, \"6\": 129, \"7\": 3, \"4\": 2}, \"12\": {\"12\": 488, \"0\": 36, \"1\": 245, \"9\": 118, \"4\": 55, \"5\": 107, \"2\": 53, \"3\": 28, \"15\": 68, \"13\": 2}, \"13\": {\"13\": 903, \"15\": 240, \"2\": 30, \"0\": 8, \"5\": 9, \"12\": 4, \"1\": 5, \"9\": 1}, \"9\": {\"9\": 517, \"2\": 294, \"12\": 105, \"5\": 50, \"3\": 147, \"15\": 40, \"1\": 33, \"4\": 7, \"0\": 2, \"13\": 4, \"7\": 1}, \"5\": {\"3\": 138, \"15\": 71, \"2\": 134, \"0\": 82, \"8\": 12, \"12\": 114, \"5\": 495, \"4\": 38, \"7\": 43, \"13\": 7, \"9\": 43, \"1\": 23}, \"1\": {\"4\": 12, \"1\": 694, \"12\": 254, \"5\": 16, \"9\": 44, \"0\": 68, \"15\": 80, \"2\": 26, \"13\": 6}}, \"ORACLE.run2_50\": {\"5\": {\"6\": 66, \"4\": 312, \"5\": 605, \"7\": 88, \"13\": 63, \"10\": 54, \"1\": 11, \"0\": 1}, \"12\": {\"12\": 1106, \"14\": 24, \"9\": 57, \"11\": 13}, \"14\": {\"14\": 1179, \"12\": 14, \"2\": 1, \"11\": 6}, \"4\": {\"4\": 666, \"5\": 294, \"1\": 85, \"6\": 138, \"7\": 10, \"13\": 3, \"15\": 3, \"10\": 1}, \"13\": {\"13\": 657, \"7\": 319, \"10\": 175, \"5\": 45, \"4\": 4}, \"10\": {\"10\": 902, \"5\": 33, \"13\": 200, \"7\": 40, \"0\": 21, \"6\": 2, \"4\": 2}, \"9\": {\"9\": 1118, \"12\": 61, \"11\": 21}, \"15\": {\"15\": 1090, \"1\": 65, \"11\": 34, \"6\": 9, \"4\": 1, \"14\": 1}, \"6\": {\"6\": 812, \"1\": 155, \"5\": 71, \"4\": 136, \"13\": 2, \"15\": 23, \"7\": 1}, \"2\": {\"2\": 1125, \"0\": 75}, \"0\": {\"0\": 1096, \"2\": 83, \"1\": 3, \"10\": 15, \"5\": 2, \"6\": 1}, \"11\": {\"11\": 1131, \"15\": 32, \"12\": 6, \"9\": 24, \"14\": 6, \"1\": 1}, \"3\": {\"3\": 1161, \"8\": 39}, \"8\": {\"8\": 1168, \"3\": 32}, \"7\": {\"5\": 102, \"13\": 412, \"7\": 613, \"10\": 57, \"4\": 14, \"6\": 2}, \"1\": {\"1\": 930, \"6\": 148, \"4\": 53, \"15\": 60, \"2\": 1, \"5\": 6, \"11\": 2}}, \"ORACLE.run2_26\": {\"7\": {\"3\": 83, \"2\": 370, \"7\": 382, \"5\": 44, \"15\": 63, \"8\": 138, \"4\": 78, \"9\": 21, \"0\": 5, \"14\": 7, \"13\": 9}, \"6\": {\"10\": 48, \"6\": 898, \"9\": 174, \"8\": 30, \"5\": 18, \"13\": 27, \"0\": 3, \"14\": 2}, \"14\": {\"1\": 290, \"14\": 406, \"8\": 84, \"0\": 216, \"10\": 139, \"4\": 48, \"6\": 3, \"2\": 6, \"7\": 6, \"5\": 2}, \"15\": {\"15\": 726, \"3\": 201, \"2\": 105, \"7\": 88, \"4\": 46, \"8\": 13, \"9\": 11, \"5\": 5, \"0\": 3, \"13\": 1, \"10\": 1}, \"5\": {\"5\": 465, \"9\": 76, \"13\": 254, \"7\": 122, \"6\": 93, \"8\": 69, \"2\": 75, \"3\": 18, \"10\": 12, \"14\": 7, \"15\": 7, \"4\": 2}, \"10\": {\"0\": 241, \"10\": 430, \"6\": 68, \"4\": 66, \"14\": 182, \"8\": 108, \"15\": 6, \"1\": 62, \"7\": 5, \"5\": 5, \"9\": 11, \"2\": 10, \"12\": 3, \"3\": 3}, \"4\": {\"4\": 673, \"7\": 70, \"2\": 84, \"10\": 27, \"8\": 51, \"15\": 42, \"0\": 116, \"14\": 45, \"3\": 75, \"1\": 16, \"5\": 1}, \"11\": {\"11\": 1197, \"12\": 3}, \"13\": {\"5\": 182, \"13\": 895, \"9\": 94, \"8\": 1, \"6\": 23, \"7\": 4, \"15\": 1}, \"2\": {\"3\": 127, \"2\": 371, \"7\": 369, \"15\": 76, \"8\": 96, \"4\": 107, \"5\": 23, \"13\": 3, \"9\": 16, \"14\": 4, \"10\": 2, \"0\": 6}, \"0\": {\"4\": 143, \"10\": 219, \"0\": 428, \"2\": 11, \"1\": 65, \"14\": 203, \"8\": 111, \"9\": 4, \"15\": 3, \"7\": 11, \"6\": 2}, \"12\": {\"12\": 1198, \"11\": 2}, \"3\": {\"7\": 92, \"4\": 77, \"15\": 161, \"3\": 713, \"2\": 154, \"0\": 1, \"5\": 1, \"9\": 1}, \"9\": {\"15\": 7, \"9\": 735, \"6\": 157, \"8\": 105, \"13\": 92, \"5\": 56, \"10\": 7, \"7\": 20, \"2\": 17, \"0\": 3, \"4\": 1}, \"8\": {\"4\": 68, \"8\": 507, \"5\": 52, \"14\": 80, \"0\": 78, \"9\": 90, \"7\": 112, \"10\": 68, \"2\": 109, \"15\": 12, \"1\": 8, \"13\": 4, \"6\": 12}, \"1\": {\"1\": 783, \"4\": 29, \"14\": 268, \"0\": 68, \"10\": 46, \"8\": 5, \"7\": 1}}, \"ORACLE.run2_32\": {\"7\": {\"7\": 698, \"13\": 154, \"11\": 204, \"4\": 101, \"0\": 15, \"5\": 11, \"2\": 15, \"14\": 1, \"3\": 1}, \"2\": {\"2\": 991, \"5\": 63, \"14\": 66, \"4\": 42, \"11\": 11, \"0\": 8, \"7\": 17, \"13\": 2}, \"5\": {\"4\": 160, \"13\": 56, \"5\": 513, \"8\": 141, \"0\": 106, \"14\": 90, \"2\": 107, \"3\": 4, \"11\": 11, \"7\": 12}, \"6\": {\"6\": 1200}, \"13\": {\"13\": 674, \"0\": 43, \"11\": 81, \"7\": 102, \"4\": 220, \"3\": 19, \"8\": 40, \"5\": 21}, \"4\": {\"4\": 610, \"5\": 110, \"11\": 58, \"13\": 202, \"0\": 98, \"7\": 81, \"8\": 18, \"2\": 22, \"3\": 1}, \"3\": {\"3\": 1140, \"13\": 36, \"0\": 1, \"8\": 18, \"7\": 4, \"11\": 1}, \"0\": {\"0\": 636, \"4\": 114, \"11\": 166, \"5\": 123, \"13\": 40, \"14\": 19, \"8\": 77, \"7\": 16, \"2\": 9}, \"9\": {\"9\": 1177, \"14\": 21, \"2\": 1, \"12\": 1}, \"12\": {\"12\": 1200}, \"8\": {\"8\": 941, \"0\": 77, \"13\": 59, \"5\": 61, \"4\": 32, \"3\": 16, \"11\": 9, \"15\": 5}, \"14\": {\"14\": 1025, \"5\": 43, \"0\": 43, \"2\": 79, \"11\": 8, \"8\": 1, \"4\": 1}, \"15\": {\"15\": 1196, \"8\": 4}, \"11\": {\"11\": 691, \"0\": 166, \"2\": 14, \"13\": 74, \"7\": 195, \"4\": 34, \"14\": 12, \"3\": 1, \"5\": 6, \"8\": 7}, \"10\": {\"10\": 1196, \"1\": 4}, \"1\": {\"1\": 1195, \"10\": 5}}, \"ORACLE.run2_44\": {\"11\": {\"11\": 1172, \"6\": 25, \"7\": 3}, \"7\": {\"2\": 260, \"7\": 640, \"9\": 285, \"6\": 11, \"1\": 4}, \"6\": {\"6\": 1088, \"9\": 48, \"7\": 23, \"13\": 36, \"11\": 3, \"2\": 2}, \"12\": {\"12\": 825, \"1\": 318, \"10\": 5, \"3\": 52}, \"4\": {\"4\": 1087, \"14\": 58, \"15\": 32, \"13\": 23}, \"13\": {\"13\": 1133, \"6\": 24, \"4\": 42, \"11\": 1}, \"8\": {\"0\": 519, \"8\": 658, \"5\": 16, \"14\": 2, \"15\": 5}, \"5\": {\"5\": 1094, \"14\": 87, \"8\": 12, \"15\": 2, \"0\": 5}, \"14\": {\"14\": 887, \"5\": 100, \"4\": 79, \"15\": 131, \"8\": 2, \"13\": 1}, \"3\": {\"3\": 1040, \"1\": 104, \"12\": 56}, \"10\": {\"10\": 1153, \"12\": 31, \"1\": 16}, \"1\": {\"1\": 730, \"3\": 132, \"12\": 330, \"10\": 4, \"2\": 3, \"7\": 1}, \"2\": {\"2\": 693, \"7\": 205, \"9\": 296, \"1\": 4, \"3\": 1, \"6\": 1}, \"15\": {\"15\": 988, \"4\": 53, \"14\": 143, \"8\": 13, \"5\": 1, \"0\": 2}, \"9\": {\"9\": 545, \"2\": 317, \"6\": 33, \"7\": 301, \"1\": 3, \"3\": 1}, \"0\": {\"0\": 708, \"8\": 487, \"15\": 1, \"5\": 2, \"14\": 2}}, \"ORACLE.run2_8\": {\"10\": {\"10\": 679, \"0\": 221, \"13\": 33, \"5\": 178, \"14\": 74, \"1\": 15}, \"6\": {\"6\": 520, \"7\": 217, \"4\": 388, \"2\": 16, \"14\": 48, \"13\": 7, \"0\": 2, \"8\": 2}, \"13\": {\"13\": 842, \"1\": 112, \"14\": 182, \"6\": 18, \"5\": 4, \"10\": 32, \"0\": 5, \"4\": 1, \"8\": 4}, \"3\": {\"3\": 1117, \"12\": 80, \"15\": 3}, \"9\": {\"9\": 1200}, \"1\": {\"1\": 1050, \"5\": 26, \"13\": 116, \"10\": 5, \"14\": 3}, \"5\": {\"5\": 947, \"10\": 200, \"1\": 34, \"0\": 9, \"14\": 7, \"13\": 3}, \"11\": {\"8\": 261, \"11\": 626, \"15\": 173, \"12\": 140}, \"4\": {\"4\": 464, \"7\": 267, \"6\": 354, \"2\": 95, \"14\": 14, \"13\": 3, \"0\": 3}, \"14\": {\"0\": 184, \"14\": 749, \"4\": 16, \"13\": 139, \"10\": 71, \"6\": 31, \"1\": 6, \"7\": 2, \"2\": 1, \"5\": 1}, \"12\": {\"12\": 942, \"3\": 86, \"11\": 37, \"15\": 135}, \"7\": {\"7\": 579, \"2\": 148, \"6\": 212, \"4\": 252, \"8\": 5, \"13\": 1, \"15\": 2, \"14\": 1}, \"0\": {\"10\": 177, \"0\": 798, \"14\": 209, \"5\": 5, \"6\": 4, \"4\": 2, \"13\": 5}, \"15\": {\"11\": 176, \"15\": 718, \"12\": 187, \"8\": 111, \"7\": 2, \"3\": 6}, \"2\": {\"7\": 169, \"2\": 914, \"4\": 97, \"6\": 20}, \"8\": {\"8\": 986, \"13\": 6, \"11\": 122, \"15\": 78, \"6\": 3, \"7\": 4, \"14\": 1}}, \"ORACLE.run2_38\": {\"4\": {\"4\": 1136, \"12\": 50, \"7\": 5, \"10\": 8, \"11\": 1}, \"7\": {\"5\": 142, \"7\": 627, \"10\": 295, \"13\": 23, \"8\": 98, \"15\": 5, \"3\": 8, \"0\": 2}, \"12\": {\"14\": 12, \"12\": 1177, \"4\": 11}, \"10\": {\"7\": 356, \"5\": 27, \"10\": 709, \"13\": 27, \"3\": 47, \"8\": 24, \"0\": 6, \"4\": 3, \"15\": 1}, \"0\": {\"10\": 16, \"0\": 999, \"3\": 167, \"6\": 5, \"5\": 1, \"15\": 2, \"7\": 3, \"8\": 5, \"13\": 2}, \"1\": {\"1\": 1124, \"15\": 63, \"8\": 4, \"5\": 5, \"13\": 3, \"6\": 1}, \"5\": {\"8\": 368, \"5\": 493, \"7\": 142, \"10\": 22, \"13\": 43, \"15\": 126, \"3\": 5, \"0\": 1}, \"15\": {\"15\": 627, \"8\": 201, \"5\": 188, \"1\": 126, \"13\": 15, \"0\": 12, \"6\": 8, \"3\": 13, \"7\": 8, \"9\": 1, \"10\": 1}, \"9\": {\"6\": 273, \"9\": 915, \"0\": 9, \"3\": 3}, \"11\": {\"11\": 1129, \"14\": 39, \"12\": 11, \"4\": 16, \"2\": 5}, \"14\": {\"2\": 273, \"11\": 41, \"12\": 70, \"14\": 741, \"10\": 6, \"7\": 27, \"4\": 6, \"15\": 1, \"8\": 8, \"5\": 16, \"13\": 11}, \"6\": {\"9\": 237, \"6\": 957, \"15\": 1, \"3\": 4, \"0\": 1}, \"8\": {\"7\": 89, \"5\": 374, \"8\": 466, \"13\": 74, \"15\": 163, \"3\": 18, \"1\": 3, \"10\": 12, \"0\": 1}, \"3\": {\"8\": 57, \"3\": 508, \"15\": 19, \"7\": 33, \"0\": 284, \"13\": 136, \"10\": 88, \"5\": 24, \"9\": 37, \"6\": 14}, \"2\": {\"2\": 1067, \"14\": 131, \"8\": 1, \"12\": 1}, \"13\": {\"13\": 580, \"10\": 48, \"7\": 39, \"15\": 56, \"3\": 142, \"8\": 151, \"5\": 102, \"1\": 35, \"14\": 17, \"0\": 9, \"2\": 16, \"6\": 2, \"9\": 3}}}, \"per_domain_accuracy\": {\"ORACLE.run1_14\": {\"accuracy\": 0.8261458333333334, \"source?\": true}, \"ORACLE.run1_20\": {\"accuracy\": 0.6700520833333333, \"source?\": true}, \"ORACLE.run1_50\": {\"accuracy\": 0.7896354166666667, \"source?\": true}, \"ORACLE.run1_26\": {\"accuracy\": 0.5619791666666667, \"source?\": true}, \"ORACLE.run1_32\": {\"accuracy\": 0.77390625, \"source?\": true}, \"ORACLE.run1_44\": {\"accuracy\": 0.7316145833333333, \"source?\": true}, \"ORACLE.run1_8\": {\"accuracy\": 0.7028125, \"source?\": true}, \"ORACLE.run1_38\": {\"accuracy\": 0.7946354166666667, \"source?\": true}, \"ORACLE.run2_14\": {\"accuracy\": 0.81, \"source?\": false}, \"ORACLE.run2_20\": {\"accuracy\": 0.64109375, \"source?\": false}, \"ORACLE.run2_50\": {\"accuracy\": 0.7999479166666666, \"source?\": false}, \"ORACLE.run2_26\": {\"accuracy\": 0.5628645833333333, \"source?\": false}, \"ORACLE.run2_32\": {\"accuracy\": 0.7855729166666666, \"source?\": false}, \"ORACLE.run2_44\": {\"accuracy\": 0.7521354166666666, \"source?\": false}, \"ORACLE.run2_8\": {\"accuracy\": 0.68390625, \"source?\": false}, \"ORACLE.run2_38\": {\"accuracy\": 0.6903645833333333, \"source?\": false}}}, \"history\": {\"epoch_indices\": [1, 2, 3, 4, 5, 6, 7, 8, 9, 10, 11, 12, 13], \"train_label_loss\": [1.0728153426355371, 0.8340025863357421, 0.7457477894381044, 0.6631684468132222, 0.5999987777927891, 0.5515279147354886, 0.5107268184711713, 0.4676017114478496, 0.4291945821094504, 0.39782894515975686, 0.36870772979638006, 0.343155429117753, 0.3184529320167522], \"source_val_label_loss\": [0.9455384612083435, 0.8550270795822144, 0.7986763119697571, 0.7694802284240723, 0.7552652359008789, 0.7610477805137634, 0.7635889649391174, 0.7699296474456787, 0.7720407247543335, 0.7952924966812134, 0.8125635385513306, 0.8408597111701965, 0.8636211156845093], \"target_val_label_loss\": [0.9918528199195862, 0.9256399869918823, 0.8793268799781799, 0.8536165356636047, 0.8442108631134033, 0.8536768555641174, 0.8557700514793396, 0.8593886494636536, 0.8566770553588867, 0.8870731592178345, 0.9102955460548401, 0.9437811374664307, 0.9664449095726013], \"source_val_acc_label\": [0.6452473958333333, 0.6766861979166666, 0.7016536458333333, 0.7137044270833334, 0.7244075520833333, 0.72787109375, 0.7276888020833333, 0.73103515625, 0.73134765625, 0.72568359375, 0.72947265625, 0.728046875, 0.7283268229166666], \"target_val_acc_label\": [0.6311588541666666, 0.656640625, 0.6839518229166667, 0.6967708333333333, 0.7059700520833333, 0.7105859375, 0.71236328125, 0.71546875, 0.7157356770833333, 0.7096614583333334, 0.7121223958333334, 0.7141861979166667, 0.7132421875]}, \"dataset_metrics\": {\"source\": {\"train\": {\"n_unique_x\": 896000, \"n_unique_y\": 16, \"n_batch/episode\": 33600}, \"val\": {\"n_unique_x\": 192000, \"n_unique_y\": 16, \"n_batch/episode\": 4800}, \"test\": {\"n_unique_x\": 192000, \"n_unique_y\": 16, \"n_batch/episode\": 4800}}, \"target\": {\"train\": {\"n_unique_x\": 896000, \"n_unique_y\": 16, \"n_batch/episode\": 33600}, \"val\": {\"n_unique_x\": 192000, \"n_unique_y\": 16, \"n_batch/episode\": 4800}, \"test\": {\"n_unique_x\": 192000, \"n_unique_y\": 16, \"n_batch/episode\": 4800}}}}'"
      ]
     },
     "execution_count": 29,
     "metadata": {},
     "output_type": "execute_result"
    }
   ],
   "source": [
    "json.dumps(experiment)"
   ]
  }
 ],
 "metadata": {
  "celltoolbar": "Tags",
  "kernelspec": {
   "display_name": "Python 3 (ipykernel)",
   "language": "python",
   "name": "python3"
  },
  "language_info": {
   "codemirror_mode": {
    "name": "ipython",
    "version": 3
   },
   "file_extension": ".py",
   "mimetype": "text/x-python",
   "name": "python",
   "nbconvert_exporter": "python",
   "pygments_lexer": "ipython3",
   "version": "3.8.10"
  },
  "papermill": {
   "default_parameters": {},
   "duration": 12596.38361,
   "end_time": "2022-03-24T05:05:33.751699",
   "environment_variables": {},
   "exception": null,
   "input_path": "/mnt/wd500GB/CSC500/csc500-main/csc500-notebooks/templates/tl_ptn_template.ipynb",
   "output_path": "trial.ipynb",
   "parameters": {
    "parameters": {
     "BEST_MODEL_PATH": "./best_model.pth",
     "NUM_LOGS_PER_EPOCH": 10,
     "criteria_for_best": "target_accuracy",
     "dataset_seed": 420,
     "datasets": [
      {
       "domain_prefix": "ORACLE.run1_",
       "domains": [
        32,
        38,
        8,
        44,
        14,
        50,
        20,
        26
       ],
       "episode_transforms": [],
       "labels": [
        "3123D52",
        "3123D65",
        "3123D79",
        "3123D80",
        "3123D54",
        "3123D70",
        "3123D7B",
        "3123D89",
        "3123D58",
        "3123D76",
        "3123D7D",
        "3123EFE",
        "3123D64",
        "3123D78",
        "3123D7E",
        "3124E4A"
       ],
       "num_examples_per_domain_per_label": 10000,
       "pickle_path": "/mnt/wd500GB/CSC500/csc500-main/datasets/oracle.Run1_10kExamples_stratified_ds.2022A.pkl",
       "source_or_target_dataset": "source",
       "x_transforms": [
        "unit_mag"
       ]
      },
      {
       "domain_prefix": "ORACLE.run2_",
       "domains": [
        32,
        38,
        8,
        44,
        14,
        50,
        20,
        26
       ],
       "episode_transforms": [],
       "labels": [
        "3123D52",
        "3123D65",
        "3123D79",
        "3123D80",
        "3123D54",
        "3123D70",
        "3123D7B",
        "3123D89",
        "3123D58",
        "3123D76",
        "3123D7D",
        "3123EFE",
        "3123D64",
        "3123D78",
        "3123D7E",
        "3124E4A"
       ],
       "num_examples_per_domain_per_label": 10000,
       "pickle_path": "/mnt/wd500GB/CSC500/csc500-main/datasets/oracle.Run2_10kExamples_stratified_ds.2022A.pkl",
       "source_or_target_dataset": "target",
       "x_transforms": [
        "unit_mag"
       ]
      }
     ],
     "device": "cuda",
     "experiment_name": "tl_1v2:oracle.run1-oracle.run2",
     "lr": 0.0001,
     "n_epoch": 50,
     "n_query": 2,
     "n_shot": 3,
     "n_way": 16,
     "patience": 3,
     "seed": 420,
     "test_k_factor": 2,
     "torch_default_dtype": "torch.float32",
     "train_k_factor": 3,
     "val_k_factor": 2,
     "x_net": [
      {
       "class": "nnReshape",
       "kargs": {
        "shape": [
         -1,
         1,
         2,
         256
        ]
       }
      },
      {
       "class": "Conv2d",
       "kargs": {
        "bias": false,
        "in_channels": 1,
        "kernel_size": [
         1,
         7
        ],
        "out_channels": 256,
        "padding": [
         0,
         3
        ]
       }
      },
      {
       "class": "ReLU",
       "kargs": {
        "inplace": true
       }
      },
      {
       "class": "BatchNorm2d",
       "kargs": {
        "num_features": 256
       }
      },
      {
       "class": "Conv2d",
       "kargs": {
        "bias": true,
        "in_channels": 256,
        "kernel_size": [
         2,
         7
        ],
        "out_channels": 80,
        "padding": [
         0,
         3
        ]
       }
      },
      {
       "class": "ReLU",
       "kargs": {
        "inplace": true
       }
      },
      {
       "class": "BatchNorm2d",
       "kargs": {
        "num_features": 80
       }
      },
      {
       "class": "Flatten",
       "kargs": {}
      },
      {
       "class": "Linear",
       "kargs": {
        "in_features": 20480,
        "out_features": 256
       }
      },
      {
       "class": "ReLU",
       "kargs": {
        "inplace": true
       }
      },
      {
       "class": "BatchNorm1d",
       "kargs": {
        "num_features": 256
       }
      },
      {
       "class": "Linear",
       "kargs": {
        "in_features": 256,
        "out_features": 256
       }
      }
     ]
    }
   },
   "start_time": "2022-03-24T01:35:37.368089",
   "version": "2.3.4"
  }
 },
 "nbformat": 4,
 "nbformat_minor": 5
}