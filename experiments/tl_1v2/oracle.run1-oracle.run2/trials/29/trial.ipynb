{
 "cells": [
  {
   "cell_type": "markdown",
   "id": "9fea5f46",
   "metadata": {
    "papermill": {
     "duration": 0.017163,
     "end_time": "2022-03-29T23:48:44.230100",
     "exception": false,
     "start_time": "2022-03-29T23:48:44.212937",
     "status": "completed"
    },
    "tags": []
   },
   "source": [
    "# Transfer Learning Template"
   ]
  },
  {
   "cell_type": "code",
   "execution_count": 1,
   "id": "0902182a",
   "metadata": {
    "execution": {
     "iopub.execute_input": "2022-03-29T23:48:44.274122Z",
     "iopub.status.busy": "2022-03-29T23:48:44.273678Z",
     "iopub.status.idle": "2022-03-29T23:48:45.795688Z",
     "shell.execute_reply": "2022-03-29T23:48:45.795316Z"
    },
    "papermill": {
     "duration": 1.552761,
     "end_time": "2022-03-29T23:48:45.795766",
     "exception": false,
     "start_time": "2022-03-29T23:48:44.243005",
     "status": "completed"
    },
    "tags": []
   },
   "outputs": [],
   "source": [
    "%load_ext autoreload\n",
    "%autoreload 2\n",
    "%matplotlib inline\n",
    "\n",
    "    \n",
    "import os, json, sys, time, random\n",
    "import numpy as np\n",
    "import torch\n",
    "from torch.optim import Adam\n",
    "from  easydict import EasyDict\n",
    "import matplotlib.pyplot as plt\n",
    "\n",
    "from steves_models.steves_ptn import Steves_Prototypical_Network\n",
    "\n",
    "from steves_utils.lazy_iterable_wrapper import Lazy_Iterable_Wrapper\n",
    "from steves_utils.iterable_aggregator import Iterable_Aggregator\n",
    "from steves_utils.ptn_train_eval_test_jig import  PTN_Train_Eval_Test_Jig\n",
    "from steves_utils.torch_sequential_builder import build_sequential\n",
    "from steves_utils.torch_utils import get_dataset_metrics, ptn_confusion_by_domain_over_dataloader\n",
    "from steves_utils.utils_v2 import (per_domain_accuracy_from_confusion, get_datasets_base_path)\n",
    "from steves_utils.PTN.utils import independent_accuracy_assesment\n",
    "\n",
    "from torch.utils.data import DataLoader\n",
    "\n",
    "from steves_utils.stratified_dataset.episodic_accessor import Episodic_Accessor_Factory\n",
    "\n",
    "from steves_utils.ptn_do_report import (\n",
    "    get_loss_curve,\n",
    "    get_results_table,\n",
    "    get_parameters_table,\n",
    "    get_domain_accuracies,\n",
    ")\n",
    "\n",
    "from steves_utils.transforms import get_chained_transform"
   ]
  },
  {
   "cell_type": "markdown",
   "id": "41c840b4",
   "metadata": {
    "papermill": {
     "duration": 0.013003,
     "end_time": "2022-03-29T23:48:45.822021",
     "exception": false,
     "start_time": "2022-03-29T23:48:45.809018",
     "status": "completed"
    },
    "tags": []
   },
   "source": [
    "# Allowed Parameters\n",
    "These are allowed parameters, not defaults\n",
    "Each of these values need to be present in the injected parameters (the notebook will raise an exception if they are not present)\n",
    "\n",
    "Papermill uses the cell tag \"parameters\" to inject the real parameters below this cell.\n",
    "Enable tags to see what I mean"
   ]
  },
  {
   "cell_type": "code",
   "execution_count": 2,
   "id": "fd44eb83",
   "metadata": {
    "execution": {
     "iopub.execute_input": "2022-03-29T23:48:45.850337Z",
     "iopub.status.busy": "2022-03-29T23:48:45.849892Z",
     "iopub.status.idle": "2022-03-29T23:48:45.861315Z",
     "shell.execute_reply": "2022-03-29T23:48:45.861037Z"
    },
    "papermill": {
     "duration": 0.026229,
     "end_time": "2022-03-29T23:48:45.861373",
     "exception": false,
     "start_time": "2022-03-29T23:48:45.835144",
     "status": "completed"
    },
    "tags": []
   },
   "outputs": [],
   "source": [
    "required_parameters = {\n",
    "    \"experiment_name\",\n",
    "    \"lr\",\n",
    "    \"device\",\n",
    "    \"seed\",\n",
    "    \"dataset_seed\",\n",
    "    \"n_shot\",\n",
    "    \"n_query\",\n",
    "    \"n_way\",\n",
    "    \"train_k_factor\",\n",
    "    \"val_k_factor\",\n",
    "    \"test_k_factor\",\n",
    "    \"n_epoch\",\n",
    "    \"patience\",\n",
    "    \"criteria_for_best\",\n",
    "    \"x_net\",\n",
    "    \"datasets\",\n",
    "    \"torch_default_dtype\",\n",
    "    \"NUM_LOGS_PER_EPOCH\",\n",
    "    \"BEST_MODEL_PATH\",\n",
    "    \"x_shape\",\n",
    "}"
   ]
  },
  {
   "cell_type": "code",
   "execution_count": 3,
   "id": "fa3f0049",
   "metadata": {
    "execution": {
     "iopub.execute_input": "2022-03-29T23:48:45.894878Z",
     "iopub.status.busy": "2022-03-29T23:48:45.894422Z",
     "iopub.status.idle": "2022-03-29T23:48:45.907403Z",
     "shell.execute_reply": "2022-03-29T23:48:45.907616Z"
    },
    "papermill": {
     "duration": 0.032143,
     "end_time": "2022-03-29T23:48:45.907694",
     "exception": false,
     "start_time": "2022-03-29T23:48:45.875551",
     "status": "completed"
    },
    "tags": [
     "parameters"
    ]
   },
   "outputs": [],
   "source": [
    "from steves_utils.CORES.utils import (\n",
    "    ALL_NODES,\n",
    "    ALL_NODES_MINIMUM_1000_EXAMPLES,\n",
    "    ALL_DAYS\n",
    ")\n",
    "\n",
    "from steves_utils.ORACLE.utils_v2 import (\n",
    "    ALL_DISTANCES_FEET_NARROWED,\n",
    "    ALL_RUNS,\n",
    "    ALL_SERIAL_NUMBERS,\n",
    ")\n",
    "\n",
    "standalone_parameters = {}\n",
    "standalone_parameters[\"experiment_name\"] = \"STANDALONE PTN\"\n",
    "standalone_parameters[\"lr\"] = 0.001\n",
    "standalone_parameters[\"device\"] = \"cuda\"\n",
    "\n",
    "standalone_parameters[\"seed\"] = 1337\n",
    "standalone_parameters[\"dataset_seed\"] = 1337\n",
    "\n",
    "standalone_parameters[\"n_way\"] = 8\n",
    "standalone_parameters[\"n_shot\"] = 3\n",
    "standalone_parameters[\"n_query\"]  = 2\n",
    "standalone_parameters[\"train_k_factor\"] = 1\n",
    "standalone_parameters[\"val_k_factor\"] = 2\n",
    "standalone_parameters[\"test_k_factor\"] = 2\n",
    "\n",
    "\n",
    "standalone_parameters[\"n_epoch\"] = 50\n",
    "\n",
    "standalone_parameters[\"patience\"] = 10\n",
    "standalone_parameters[\"criteria_for_best\"] = \"source_loss\"\n",
    "\n",
    "standalone_parameters[\"datasets\"] = [\n",
    "    {\n",
    "        \"labels\": ALL_SERIAL_NUMBERS,\n",
    "        \"domains\": ALL_DISTANCES_FEET_NARROWED,\n",
    "        \"num_examples_per_domain_per_label\": 100,\n",
    "        \"pickle_path\": os.path.join(get_datasets_base_path(), \"oracle.Run1_framed_2000Examples_stratified_ds.2022A.pkl\"),\n",
    "        \"source_or_target_dataset\": \"source\",\n",
    "        \"x_transforms\": [\"unit_mag\", \"minus_two\"],\n",
    "        \"episode_transforms\": [],\n",
    "        \"domain_prefix\": \"ORACLE_\"\n",
    "    },\n",
    "    {\n",
    "        \"labels\": ALL_NODES,\n",
    "        \"domains\": ALL_DAYS,\n",
    "        \"num_examples_per_domain_per_label\": 100,\n",
    "        \"pickle_path\": os.path.join(get_datasets_base_path(), \"cores.stratified_ds.2022A.pkl\"),\n",
    "        \"source_or_target_dataset\": \"target\",\n",
    "        \"x_transforms\": [\"unit_power\", \"times_zero\"],\n",
    "        \"episode_transforms\": [],\n",
    "        \"domain_prefix\": \"CORES_\"\n",
    "    }   \n",
    "]\n",
    "\n",
    "standalone_parameters[\"torch_default_dtype\"] = \"torch.float32\" \n",
    "\n",
    "\n",
    "\n",
    "standalone_parameters[\"x_net\"] =     [\n",
    "    {\"class\": \"nnReshape\", \"kargs\": {\"shape\":[-1, 1, 2, 256]}},\n",
    "    {\"class\": \"Conv2d\", \"kargs\": { \"in_channels\":1, \"out_channels\":256, \"kernel_size\":(1,7), \"bias\":False, \"padding\":(0,3), },},\n",
    "    {\"class\": \"ReLU\", \"kargs\": {\"inplace\": True}},\n",
    "    {\"class\": \"BatchNorm2d\", \"kargs\": {\"num_features\":256}},\n",
    "\n",
    "    {\"class\": \"Conv2d\", \"kargs\": { \"in_channels\":256, \"out_channels\":80, \"kernel_size\":(2,7), \"bias\":True, \"padding\":(0,3), },},\n",
    "    {\"class\": \"ReLU\", \"kargs\": {\"inplace\": True}},\n",
    "    {\"class\": \"BatchNorm2d\", \"kargs\": {\"num_features\":80}},\n",
    "    {\"class\": \"Flatten\", \"kargs\": {}},\n",
    "\n",
    "    {\"class\": \"Linear\", \"kargs\": {\"in_features\": 80*256, \"out_features\": 256}}, # 80 units per IQ pair\n",
    "    {\"class\": \"ReLU\", \"kargs\": {\"inplace\": True}},\n",
    "    {\"class\": \"BatchNorm1d\", \"kargs\": {\"num_features\":256}},\n",
    "\n",
    "    {\"class\": \"Linear\", \"kargs\": {\"in_features\": 256, \"out_features\": 256}},\n",
    "]\n",
    "\n",
    "# Parameters relevant to results\n",
    "# These parameters will basically never need to change\n",
    "standalone_parameters[\"NUM_LOGS_PER_EPOCH\"] = 10\n",
    "standalone_parameters[\"BEST_MODEL_PATH\"] = \"./best_model.pth\"\n",
    "\n",
    "\n",
    "\n",
    "\n"
   ]
  },
  {
   "cell_type": "code",
   "execution_count": 4,
   "id": "28fc75ee",
   "metadata": {
    "execution": {
     "iopub.execute_input": "2022-03-29T23:48:45.941415Z",
     "iopub.status.busy": "2022-03-29T23:48:45.940944Z",
     "iopub.status.idle": "2022-03-29T23:48:45.954230Z",
     "shell.execute_reply": "2022-03-29T23:48:45.953951Z"
    },
    "papermill": {
     "duration": 0.032269,
     "end_time": "2022-03-29T23:48:45.954288",
     "exception": false,
     "start_time": "2022-03-29T23:48:45.922019",
     "status": "completed"
    },
    "tags": [
     "injected-parameters"
    ]
   },
   "outputs": [],
   "source": [
    "# Parameters\n",
    "parameters = {\n",
    "    \"experiment_name\": \"tl_1v2:oracle.run1-oracle.run2\",\n",
    "    \"device\": \"cuda\",\n",
    "    \"lr\": 0.0001,\n",
    "    \"n_shot\": 3,\n",
    "    \"n_query\": 2,\n",
    "    \"train_k_factor\": 3,\n",
    "    \"val_k_factor\": 2,\n",
    "    \"test_k_factor\": 2,\n",
    "    \"torch_default_dtype\": \"torch.float32\",\n",
    "    \"n_epoch\": 50,\n",
    "    \"patience\": 3,\n",
    "    \"criteria_for_best\": \"target_accuracy\",\n",
    "    \"x_net\": [\n",
    "        {\"class\": \"nnReshape\", \"kargs\": {\"shape\": [-1, 1, 2, 256]}},\n",
    "        {\n",
    "            \"class\": \"Conv2d\",\n",
    "            \"kargs\": {\n",
    "                \"in_channels\": 1,\n",
    "                \"out_channels\": 256,\n",
    "                \"kernel_size\": [1, 7],\n",
    "                \"bias\": False,\n",
    "                \"padding\": [0, 3],\n",
    "            },\n",
    "        },\n",
    "        {\"class\": \"ReLU\", \"kargs\": {\"inplace\": True}},\n",
    "        {\"class\": \"BatchNorm2d\", \"kargs\": {\"num_features\": 256}},\n",
    "        {\n",
    "            \"class\": \"Conv2d\",\n",
    "            \"kargs\": {\n",
    "                \"in_channels\": 256,\n",
    "                \"out_channels\": 80,\n",
    "                \"kernel_size\": [2, 7],\n",
    "                \"bias\": True,\n",
    "                \"padding\": [0, 3],\n",
    "            },\n",
    "        },\n",
    "        {\"class\": \"ReLU\", \"kargs\": {\"inplace\": True}},\n",
    "        {\"class\": \"BatchNorm2d\", \"kargs\": {\"num_features\": 80}},\n",
    "        {\"class\": \"Flatten\", \"kargs\": {}},\n",
    "        {\"class\": \"Linear\", \"kargs\": {\"in_features\": 20480, \"out_features\": 256}},\n",
    "        {\"class\": \"ReLU\", \"kargs\": {\"inplace\": True}},\n",
    "        {\"class\": \"BatchNorm1d\", \"kargs\": {\"num_features\": 256}},\n",
    "        {\"class\": \"Linear\", \"kargs\": {\"in_features\": 256, \"out_features\": 256}},\n",
    "    ],\n",
    "    \"NUM_LOGS_PER_EPOCH\": 10,\n",
    "    \"BEST_MODEL_PATH\": \"./best_model.pth\",\n",
    "    \"n_way\": 16,\n",
    "    \"datasets\": [\n",
    "        {\n",
    "            \"labels\": [\n",
    "                \"3123D52\",\n",
    "                \"3123D65\",\n",
    "                \"3123D79\",\n",
    "                \"3123D80\",\n",
    "                \"3123D54\",\n",
    "                \"3123D70\",\n",
    "                \"3123D7B\",\n",
    "                \"3123D89\",\n",
    "                \"3123D58\",\n",
    "                \"3123D76\",\n",
    "                \"3123D7D\",\n",
    "                \"3123EFE\",\n",
    "                \"3123D64\",\n",
    "                \"3123D78\",\n",
    "                \"3123D7E\",\n",
    "                \"3124E4A\",\n",
    "            ],\n",
    "            \"domains\": [32, 38, 8, 44, 14, 50, 20, 26],\n",
    "            \"num_examples_per_domain_per_label\": 10000,\n",
    "            \"pickle_path\": \"/mnt/wd500GB/CSC500/csc500-main/datasets/oracle.Run1_10kExamples_stratified_ds.2022A.pkl\",\n",
    "            \"source_or_target_dataset\": \"target\",\n",
    "            \"x_transforms\": [],\n",
    "            \"episode_transforms\": [],\n",
    "            \"domain_prefix\": \"ORACLE.run1_\",\n",
    "        },\n",
    "        {\n",
    "            \"labels\": [\n",
    "                \"3123D52\",\n",
    "                \"3123D65\",\n",
    "                \"3123D79\",\n",
    "                \"3123D80\",\n",
    "                \"3123D54\",\n",
    "                \"3123D70\",\n",
    "                \"3123D7B\",\n",
    "                \"3123D89\",\n",
    "                \"3123D58\",\n",
    "                \"3123D76\",\n",
    "                \"3123D7D\",\n",
    "                \"3123EFE\",\n",
    "                \"3123D64\",\n",
    "                \"3123D78\",\n",
    "                \"3123D7E\",\n",
    "                \"3124E4A\",\n",
    "            ],\n",
    "            \"domains\": [32, 38, 8, 44, 14, 50, 20, 26],\n",
    "            \"num_examples_per_domain_per_label\": 10000,\n",
    "            \"pickle_path\": \"/mnt/wd500GB/CSC500/csc500-main/datasets/oracle.Run2_10kExamples_stratified_ds.2022A.pkl\",\n",
    "            \"source_or_target_dataset\": \"source\",\n",
    "            \"x_transforms\": [],\n",
    "            \"episode_transforms\": [],\n",
    "            \"domain_prefix\": \"ORACLE.run2_\",\n",
    "        },\n",
    "    ],\n",
    "    \"dataset_seed\": 500,\n",
    "    \"seed\": 500,\n",
    "}\n"
   ]
  },
  {
   "cell_type": "code",
   "execution_count": 5,
   "id": "8fa1cc33",
   "metadata": {
    "execution": {
     "iopub.execute_input": "2022-03-29T23:48:45.983152Z",
     "iopub.status.busy": "2022-03-29T23:48:45.982738Z",
     "iopub.status.idle": "2022-03-29T23:48:45.994426Z",
     "shell.execute_reply": "2022-03-29T23:48:45.994190Z"
    },
    "papermill": {
     "duration": 0.027113,
     "end_time": "2022-03-29T23:48:45.994486",
     "exception": false,
     "start_time": "2022-03-29T23:48:45.967373",
     "status": "completed"
    },
    "tags": []
   },
   "outputs": [],
   "source": [
    "# Set this to True if you want to run this template directly\n",
    "STANDALONE = False\n",
    "if STANDALONE:\n",
    "    print(\"parameters not injected, running with standalone_parameters\")\n",
    "    parameters = standalone_parameters\n",
    "\n",
    "if not 'parameters' in locals() and not 'parameters' in globals():\n",
    "    raise Exception(\"Parameter injection failed\")\n",
    "\n",
    "#Use an easy dict for all the parameters\n",
    "p = EasyDict(parameters)\n",
    "\n",
    "if \"x_shape\" not in p:\n",
    "    p.x_shape = [2,256] # Default to this if we dont supply x_shape\n",
    "\n",
    "\n",
    "supplied_keys = set(p.keys())\n",
    "\n",
    "if  supplied_keys != required_parameters:\n",
    "    print(\"Parameters are incorrect\")\n",
    "    if len(supplied_keys - required_parameters)>0: print(\"Shouldn't have:\", str(supplied_keys - required_parameters))\n",
    "    if len(required_parameters - supplied_keys)>0: print(\"Need to have:\", str(required_parameters - supplied_keys))\n",
    "    raise RuntimeError(\"Parameters are incorrect\")"
   ]
  },
  {
   "cell_type": "code",
   "execution_count": 6,
   "id": "3a028d58",
   "metadata": {
    "execution": {
     "iopub.execute_input": "2022-03-29T23:48:46.024378Z",
     "iopub.status.busy": "2022-03-29T23:48:46.023969Z",
     "iopub.status.idle": "2022-03-29T23:48:46.036660Z",
     "shell.execute_reply": "2022-03-29T23:48:46.036383Z"
    },
    "papermill": {
     "duration": 0.027854,
     "end_time": "2022-03-29T23:48:46.036718",
     "exception": false,
     "start_time": "2022-03-29T23:48:46.008864",
     "status": "completed"
    },
    "tags": []
   },
   "outputs": [],
   "source": [
    "###################################\n",
    "# Set the RNGs and make it all deterministic\n",
    "###################################\n",
    "np.random.seed(p.seed)\n",
    "random.seed(p.seed)\n",
    "torch.manual_seed(p.seed)\n",
    "\n",
    "torch.use_deterministic_algorithms(True) "
   ]
  },
  {
   "cell_type": "code",
   "execution_count": 7,
   "id": "b691acf6",
   "metadata": {
    "execution": {
     "iopub.execute_input": "2022-03-29T23:48:46.066778Z",
     "iopub.status.busy": "2022-03-29T23:48:46.066375Z",
     "iopub.status.idle": "2022-03-29T23:48:46.078087Z",
     "shell.execute_reply": "2022-03-29T23:48:46.077840Z"
    },
    "papermill": {
     "duration": 0.026848,
     "end_time": "2022-03-29T23:48:46.078146",
     "exception": false,
     "start_time": "2022-03-29T23:48:46.051298",
     "status": "completed"
    },
    "tags": []
   },
   "outputs": [],
   "source": [
    "###########################################\n",
    "# The stratified datasets honor this\n",
    "###########################################\n",
    "torch.set_default_dtype(eval(p.torch_default_dtype))"
   ]
  },
  {
   "cell_type": "code",
   "execution_count": 8,
   "id": "b5fba671",
   "metadata": {
    "execution": {
     "iopub.execute_input": "2022-03-29T23:48:46.110280Z",
     "iopub.status.busy": "2022-03-29T23:48:46.110015Z",
     "iopub.status.idle": "2022-03-29T23:48:46.150963Z",
     "shell.execute_reply": "2022-03-29T23:48:46.150564Z"
    },
    "papermill": {
     "duration": 0.056207,
     "end_time": "2022-03-29T23:48:46.151055",
     "exception": false,
     "start_time": "2022-03-29T23:48:46.094848",
     "status": "completed"
    },
    "tags": []
   },
   "outputs": [],
   "source": [
    "###################################\n",
    "# Build the network(s)\n",
    "# Note: It's critical to do this AFTER setting the RNG\n",
    "###################################\n",
    "x_net = build_sequential(p.x_net)"
   ]
  },
  {
   "cell_type": "code",
   "execution_count": 9,
   "id": "5d7e61cc",
   "metadata": {
    "execution": {
     "iopub.execute_input": "2022-03-29T23:48:46.185196Z",
     "iopub.status.busy": "2022-03-29T23:48:46.184945Z",
     "iopub.status.idle": "2022-03-29T23:48:46.198523Z",
     "shell.execute_reply": "2022-03-29T23:48:46.198729Z"
    },
    "papermill": {
     "duration": 0.02907,
     "end_time": "2022-03-29T23:48:46.198785",
     "exception": false,
     "start_time": "2022-03-29T23:48:46.169715",
     "status": "completed"
    },
    "tags": []
   },
   "outputs": [],
   "source": [
    "start_time_secs = time.time()"
   ]
  },
  {
   "cell_type": "code",
   "execution_count": 10,
   "id": "c6b67dfd",
   "metadata": {
    "execution": {
     "iopub.execute_input": "2022-03-29T23:48:46.228405Z",
     "iopub.status.busy": "2022-03-29T23:48:46.228155Z",
     "iopub.status.idle": "2022-03-29T23:48:46.239945Z",
     "shell.execute_reply": "2022-03-29T23:48:46.239495Z"
    },
    "papermill": {
     "duration": 0.02813,
     "end_time": "2022-03-29T23:48:46.240033",
     "exception": false,
     "start_time": "2022-03-29T23:48:46.211903",
     "status": "completed"
    },
    "tags": []
   },
   "outputs": [],
   "source": [
    "p.domains_source = []\n",
    "p.domains_target = []\n",
    "\n",
    "\n",
    "train_original_source = []\n",
    "val_original_source   = []\n",
    "test_original_source  = []\n",
    "\n",
    "train_original_target = []\n",
    "val_original_target   = []\n",
    "test_original_target  = []"
   ]
  },
  {
   "cell_type": "code",
   "execution_count": 11,
   "id": "e3d9c3d3",
   "metadata": {
    "execution": {
     "iopub.execute_input": "2022-03-29T23:48:46.273521Z",
     "iopub.status.busy": "2022-03-29T23:48:46.273266Z",
     "iopub.status.idle": "2022-03-29T23:48:46.286557Z",
     "shell.execute_reply": "2022-03-29T23:48:46.286204Z"
    },
    "papermill": {
     "duration": 0.028573,
     "end_time": "2022-03-29T23:48:46.286642",
     "exception": false,
     "start_time": "2022-03-29T23:48:46.258069",
     "status": "completed"
    },
    "tags": []
   },
   "outputs": [],
   "source": [
    "# global_x_transform_func = lambda x: normalize(x.to(torch.get_default_dtype()), \"unit_power\") # unit_power, unit_mag\n",
    "# global_x_transform_func = lambda x: normalize(x, \"unit_power\") # unit_power, unit_mag"
   ]
  },
  {
   "cell_type": "code",
   "execution_count": 12,
   "id": "acb78fd2",
   "metadata": {
    "execution": {
     "iopub.execute_input": "2022-03-29T23:48:46.325938Z",
     "iopub.status.busy": "2022-03-29T23:48:46.325675Z",
     "iopub.status.idle": "2022-03-29T23:48:46.339055Z",
     "shell.execute_reply": "2022-03-29T23:48:46.338605Z"
    },
    "papermill": {
     "duration": 0.033842,
     "end_time": "2022-03-29T23:48:46.339144",
     "exception": false,
     "start_time": "2022-03-29T23:48:46.305302",
     "status": "completed"
    },
    "tags": []
   },
   "outputs": [],
   "source": [
    "def add_dataset(\n",
    "    labels,\n",
    "    domains,\n",
    "    pickle_path,\n",
    "    x_transforms,\n",
    "    episode_transforms,\n",
    "    domain_prefix,\n",
    "    num_examples_per_domain_per_label,\n",
    "    source_or_target_dataset:str,\n",
    "    iterator_seed=p.seed,\n",
    "    dataset_seed=p.dataset_seed,\n",
    "    n_shot=p.n_shot,\n",
    "    n_way=p.n_way,\n",
    "    n_query=p.n_query,\n",
    "    train_val_test_k_factors=(p.train_k_factor,p.val_k_factor,p.test_k_factor),\n",
    "):\n",
    "   \n",
    "    if x_transforms == []: x_transform = None\n",
    "    else: x_transform = get_chained_transform(x_transforms)\n",
    "    \n",
    "    if episode_transforms == []: episode_transform = None\n",
    "    else: raise Exception(\"episode_transforms not implemented\")\n",
    "    \n",
    "    episode_transform = lambda tup, _prefix=domain_prefix: (_prefix + str(tup[0]), tup[1])\n",
    "\n",
    "\n",
    "    eaf = Episodic_Accessor_Factory(\n",
    "        labels=labels,\n",
    "        domains=domains,\n",
    "        num_examples_per_domain_per_label=num_examples_per_domain_per_label,\n",
    "        iterator_seed=iterator_seed,\n",
    "        dataset_seed=dataset_seed,\n",
    "        n_shot=n_shot,\n",
    "        n_way=n_way,\n",
    "        n_query=n_query,\n",
    "        train_val_test_k_factors=train_val_test_k_factors,\n",
    "        pickle_path=pickle_path,\n",
    "        x_transform_func=x_transform,\n",
    "    )\n",
    "\n",
    "    train, val, test = eaf.get_train(), eaf.get_val(), eaf.get_test()\n",
    "    train = Lazy_Iterable_Wrapper(train, episode_transform)\n",
    "    val = Lazy_Iterable_Wrapper(val, episode_transform)\n",
    "    test = Lazy_Iterable_Wrapper(test, episode_transform)\n",
    "\n",
    "    if source_or_target_dataset==\"source\":\n",
    "        train_original_source.append(train)\n",
    "        val_original_source.append(val)\n",
    "        test_original_source.append(test)\n",
    "\n",
    "        p.domains_source.extend(\n",
    "            [domain_prefix + str(u) for u in domains]\n",
    "        )\n",
    "    elif source_or_target_dataset==\"target\":\n",
    "        train_original_target.append(train)\n",
    "        val_original_target.append(val)\n",
    "        test_original_target.append(test)\n",
    "        p.domains_target.extend(\n",
    "            [domain_prefix + str(u) for u in domains]\n",
    "        )\n",
    "    else:\n",
    "        raise Exception(f\"invalid source_or_target_dataset: {source_or_target_dataset}\")\n",
    "    "
   ]
  },
  {
   "cell_type": "code",
   "execution_count": 13,
   "id": "fe266617",
   "metadata": {
    "execution": {
     "iopub.execute_input": "2022-03-29T23:48:46.371571Z",
     "iopub.status.busy": "2022-03-29T23:48:46.371324Z",
     "iopub.status.idle": "2022-03-29T23:49:09.723974Z",
     "shell.execute_reply": "2022-03-29T23:49:09.723563Z"
    },
    "papermill": {
     "duration": 23.368226,
     "end_time": "2022-03-29T23:49:09.724079",
     "exception": false,
     "start_time": "2022-03-29T23:48:46.355853",
     "status": "completed"
    },
    "tags": []
   },
   "outputs": [],
   "source": [
    "for ds in p.datasets:\n",
    "    add_dataset(**ds)"
   ]
  },
  {
   "cell_type": "code",
   "execution_count": 14,
   "id": "b90d65ac",
   "metadata": {
    "execution": {
     "iopub.execute_input": "2022-03-29T23:49:09.759844Z",
     "iopub.status.busy": "2022-03-29T23:49:09.759586Z",
     "iopub.status.idle": "2022-03-29T23:49:09.772068Z",
     "shell.execute_reply": "2022-03-29T23:49:09.771674Z"
    },
    "papermill": {
     "duration": 0.027875,
     "end_time": "2022-03-29T23:49:09.772156",
     "exception": false,
     "start_time": "2022-03-29T23:49:09.744281",
     "status": "completed"
    },
    "tags": []
   },
   "outputs": [],
   "source": [
    "# from steves_utils.CORES.utils import (\n",
    "#     ALL_NODES,\n",
    "#     ALL_NODES_MINIMUM_1000_EXAMPLES,\n",
    "#     ALL_DAYS\n",
    "# )\n",
    "\n",
    "# add_dataset(\n",
    "#     labels=ALL_NODES,\n",
    "#     domains = ALL_DAYS,\n",
    "#     num_examples_per_domain_per_label=100,\n",
    "#     pickle_path=os.path.join(get_datasets_base_path(), \"cores.stratified_ds.2022A.pkl\"),\n",
    "#     source_or_target_dataset=\"target\",\n",
    "#     x_transform_func=global_x_transform_func,\n",
    "#     domain_modifier=lambda u: f\"cores_{u}\"\n",
    "# )"
   ]
  },
  {
   "cell_type": "code",
   "execution_count": 15,
   "id": "76db484d",
   "metadata": {
    "execution": {
     "iopub.execute_input": "2022-03-29T23:49:09.805032Z",
     "iopub.status.busy": "2022-03-29T23:49:09.804777Z",
     "iopub.status.idle": "2022-03-29T23:49:09.813919Z",
     "shell.execute_reply": "2022-03-29T23:49:09.814143Z"
    },
    "papermill": {
     "duration": 0.023946,
     "end_time": "2022-03-29T23:49:09.814199",
     "exception": false,
     "start_time": "2022-03-29T23:49:09.790253",
     "status": "completed"
    },
    "tags": []
   },
   "outputs": [],
   "source": [
    "# from steves_utils.ORACLE.utils_v2 import (\n",
    "#     ALL_DISTANCES_FEET,\n",
    "#     ALL_RUNS,\n",
    "#     ALL_SERIAL_NUMBERS,\n",
    "# )\n",
    "\n",
    "\n",
    "# add_dataset(\n",
    "#     labels=ALL_SERIAL_NUMBERS,\n",
    "#     domains = list(set(ALL_DISTANCES_FEET) - {2,62}),\n",
    "#     num_examples_per_domain_per_label=100,\n",
    "#     pickle_path=os.path.join(get_datasets_base_path(), \"oracle.Run2_framed_2000Examples_stratified_ds.2022A.pkl\"),\n",
    "#     source_or_target_dataset=\"source\",\n",
    "#     x_transform_func=global_x_transform_func,\n",
    "#     domain_modifier=lambda u: f\"oracle1_{u}\"\n",
    "# )\n"
   ]
  },
  {
   "cell_type": "code",
   "execution_count": 16,
   "id": "97dea9d2",
   "metadata": {
    "execution": {
     "iopub.execute_input": "2022-03-29T23:49:09.848589Z",
     "iopub.status.busy": "2022-03-29T23:49:09.848230Z",
     "iopub.status.idle": "2022-03-29T23:49:09.863009Z",
     "shell.execute_reply": "2022-03-29T23:49:09.862614Z"
    },
    "papermill": {
     "duration": 0.030076,
     "end_time": "2022-03-29T23:49:09.863096",
     "exception": false,
     "start_time": "2022-03-29T23:49:09.833020",
     "status": "completed"
    },
    "tags": []
   },
   "outputs": [],
   "source": [
    "# from steves_utils.ORACLE.utils_v2 import (\n",
    "#     ALL_DISTANCES_FEET,\n",
    "#     ALL_RUNS,\n",
    "#     ALL_SERIAL_NUMBERS,\n",
    "# )\n",
    "\n",
    "\n",
    "# add_dataset(\n",
    "#     labels=ALL_SERIAL_NUMBERS,\n",
    "#     domains = list(set(ALL_DISTANCES_FEET) - {2,62,56}),\n",
    "#     num_examples_per_domain_per_label=100,\n",
    "#     pickle_path=os.path.join(get_datasets_base_path(), \"oracle.Run2_framed_2000Examples_stratified_ds.2022A.pkl\"),\n",
    "#     source_or_target_dataset=\"source\",\n",
    "#     x_transform_func=global_x_transform_func,\n",
    "#     domain_modifier=lambda u: f\"oracle2_{u}\"\n",
    "# )"
   ]
  },
  {
   "cell_type": "code",
   "execution_count": 17,
   "id": "6f289866",
   "metadata": {
    "execution": {
     "iopub.execute_input": "2022-03-29T23:49:09.897846Z",
     "iopub.status.busy": "2022-03-29T23:49:09.897349Z",
     "iopub.status.idle": "2022-03-29T23:49:09.909257Z",
     "shell.execute_reply": "2022-03-29T23:49:09.909644Z"
    },
    "papermill": {
     "duration": 0.027683,
     "end_time": "2022-03-29T23:49:09.909749",
     "exception": false,
     "start_time": "2022-03-29T23:49:09.882066",
     "status": "completed"
    },
    "tags": []
   },
   "outputs": [],
   "source": [
    "# add_dataset(\n",
    "#     labels=list(range(19)),\n",
    "#     domains = [0,1,2],\n",
    "#     num_examples_per_domain_per_label=100,\n",
    "#     pickle_path=os.path.join(get_datasets_base_path(), \"metehan.stratified_ds.2022A.pkl\"),\n",
    "#     source_or_target_dataset=\"target\",\n",
    "#     x_transform_func=global_x_transform_func,\n",
    "#     domain_modifier=lambda u: f\"met_{u}\"\n",
    "# )"
   ]
  },
  {
   "cell_type": "code",
   "execution_count": 18,
   "id": "86a863c3",
   "metadata": {
    "execution": {
     "iopub.execute_input": "2022-03-29T23:49:09.943970Z",
     "iopub.status.busy": "2022-03-29T23:49:09.943247Z",
     "iopub.status.idle": "2022-03-29T23:49:09.958745Z",
     "shell.execute_reply": "2022-03-29T23:49:09.958352Z"
    },
    "papermill": {
     "duration": 0.029841,
     "end_time": "2022-03-29T23:49:09.958833",
     "exception": false,
     "start_time": "2022-03-29T23:49:09.928992",
     "status": "completed"
    },
    "tags": []
   },
   "outputs": [],
   "source": [
    "# # from steves_utils.wisig.utils import (\n",
    "# #     ALL_NODES_MINIMUM_100_EXAMPLES,\n",
    "# #     ALL_NODES_MINIMUM_500_EXAMPLES,\n",
    "# #     ALL_NODES_MINIMUM_1000_EXAMPLES,\n",
    "# #     ALL_DAYS\n",
    "# # )\n",
    "\n",
    "# import steves_utils.wisig.utils as wisig\n",
    "\n",
    "\n",
    "# add_dataset(\n",
    "#     labels=wisig.ALL_NODES_MINIMUM_100_EXAMPLES,\n",
    "#     domains = wisig.ALL_DAYS,\n",
    "#     num_examples_per_domain_per_label=100,\n",
    "#     pickle_path=os.path.join(get_datasets_base_path(), \"wisig.node3-19.stratified_ds.2022A.pkl\"),\n",
    "#     source_or_target_dataset=\"target\",\n",
    "#     x_transform_func=global_x_transform_func,\n",
    "#     domain_modifier=lambda u: f\"wisig_{u}\"\n",
    "# )"
   ]
  },
  {
   "cell_type": "code",
   "execution_count": 19,
   "id": "fd5442bc",
   "metadata": {
    "execution": {
     "iopub.execute_input": "2022-03-29T23:49:09.993109Z",
     "iopub.status.busy": "2022-03-29T23:49:09.992819Z",
     "iopub.status.idle": "2022-03-29T23:49:10.004191Z",
     "shell.execute_reply": "2022-03-29T23:49:10.004542Z"
    },
    "papermill": {
     "duration": 0.030488,
     "end_time": "2022-03-29T23:49:10.004646",
     "exception": false,
     "start_time": "2022-03-29T23:49:09.974158",
     "status": "completed"
    },
    "tags": []
   },
   "outputs": [],
   "source": [
    "###################################\n",
    "# Build the dataset\n",
    "###################################\n",
    "train_original_source = Iterable_Aggregator(train_original_source, p.seed)\n",
    "val_original_source = Iterable_Aggregator(val_original_source, p.seed)\n",
    "test_original_source = Iterable_Aggregator(test_original_source, p.seed)\n",
    "\n",
    "\n",
    "train_original_target = Iterable_Aggregator(train_original_target, p.seed)\n",
    "val_original_target = Iterable_Aggregator(val_original_target, p.seed)\n",
    "test_original_target = Iterable_Aggregator(test_original_target, p.seed)\n",
    "\n",
    "# For CNN We only use X and Y. And we only train on the source.\n",
    "# Properly form the data using a transform lambda and Lazy_Iterable_Wrapper. Finally wrap them in a dataloader\n",
    "\n",
    "transform_lambda = lambda ex: ex[1] # Original is (<domain>, <episode>) so we strip down to episode only\n",
    "\n",
    "train_processed_source = Lazy_Iterable_Wrapper(train_original_source, transform_lambda)\n",
    "val_processed_source   = Lazy_Iterable_Wrapper(val_original_source, transform_lambda)\n",
    "test_processed_source  = Lazy_Iterable_Wrapper(test_original_source, transform_lambda)\n",
    "\n",
    "train_processed_target = Lazy_Iterable_Wrapper(train_original_target, transform_lambda)\n",
    "val_processed_target   = Lazy_Iterable_Wrapper(val_original_target, transform_lambda)\n",
    "test_processed_target  = Lazy_Iterable_Wrapper(test_original_target, transform_lambda)\n",
    "\n",
    "datasets = EasyDict({\n",
    "    \"source\": {\n",
    "        \"original\": {\"train\":train_original_source, \"val\":val_original_source, \"test\":test_original_source},\n",
    "        \"processed\": {\"train\":train_processed_source, \"val\":val_processed_source, \"test\":test_processed_source}\n",
    "    },\n",
    "    \"target\": {\n",
    "        \"original\": {\"train\":train_original_target, \"val\":val_original_target, \"test\":test_original_target},\n",
    "        \"processed\": {\"train\":train_processed_target, \"val\":val_processed_target, \"test\":test_processed_target}\n",
    "    },\n",
    "})"
   ]
  },
  {
   "cell_type": "code",
   "execution_count": 20,
   "id": "5b3c01fc",
   "metadata": {
    "execution": {
     "iopub.execute_input": "2022-03-29T23:49:10.038637Z",
     "iopub.status.busy": "2022-03-29T23:49:10.038382Z",
     "iopub.status.idle": "2022-03-29T23:49:34.666935Z",
     "shell.execute_reply": "2022-03-29T23:49:34.667334Z"
    },
    "papermill": {
     "duration": 24.645619,
     "end_time": "2022-03-29T23:49:34.667462",
     "exception": false,
     "start_time": "2022-03-29T23:49:10.021843",
     "status": "completed"
    },
    "tags": []
   },
   "outputs": [
    {
     "name": "stdout",
     "output_type": "stream",
     "text": [
      "{'ORACLE.run2_50', 'ORACLE.run2_32', 'ORACLE.run2_14', 'ORACLE.run2_8', 'ORACLE.run2_44', 'ORACLE.run2_20', 'ORACLE.run2_26', 'ORACLE.run2_38'}\n"
     ]
    },
    {
     "name": "stdout",
     "output_type": "stream",
     "text": [
      "{'ORACLE.run1_14', 'ORACLE.run1_20', 'ORACLE.run1_38', 'ORACLE.run1_26', 'ORACLE.run1_44', 'ORACLE.run1_8', 'ORACLE.run1_50', 'ORACLE.run1_32'}\n"
     ]
    },
    {
     "name": "stdout",
     "output_type": "stream",
     "text": [
      "tensor([[[ 5.7985e-04, -7.3244e-04, -2.3194e-03,  ..., -1.6480e-03,\n",
      "          -4.8830e-04,  9.7659e-04],\n",
      "         [ 7.0193e-04, -3.3570e-04,  5.7985e-04,  ...,  8.5452e-04,\n",
      "           6.1037e-05,  1.3733e-03]],\n",
      "\n",
      "        [[ 1.6175e-03, -6.1037e-04, -6.7141e-04,  ..., -5.1881e-04,\n",
      "           9.1556e-04,  1.3733e-03],\n",
      "         [ 5.7985e-04,  3.9674e-04, -1.5259e-04,  ..., -9.1556e-05,\n",
      "          -9.7659e-04, -1.6785e-03]],\n",
      "\n",
      "        [[ 4.5778e-04,  1.8006e-03, -3.0519e-05,  ..., -3.9674e-04,\n",
      "           1.8921e-03,  2.1363e-04],\n",
      "         [-1.5259e-03, -5.7985e-04, -2.3194e-03,  ...,  1.9532e-03,\n",
      "          -5.4933e-04, -2.3194e-03]],\n",
      "\n",
      "        ...,\n",
      "\n",
      "        [[-3.9674e-04, -1.2207e-03, -3.0519e-05,  ...,  5.1881e-04,\n",
      "           1.5870e-03,  1.0071e-03],\n",
      "         [-4.5778e-04, -1.6480e-03,  1.6480e-03,  ...,  2.0447e-03,\n",
      "           2.6551e-03, -9.7659e-04]],\n",
      "\n",
      "        [[ 1.0376e-03,  3.0519e-05,  6.1037e-05,  ..., -1.9837e-03,\n",
      "          -1.3428e-03,  0.0000e+00],\n",
      "         [-2.3194e-03, -1.5259e-04,  1.5870e-03,  ...,  1.3428e-03,\n",
      "           7.6296e-04, -1.8006e-03]],\n",
      "\n",
      "        [[ 2.4415e-03,  7.6296e-04, -1.8616e-03,  ..., -3.0519e-04,\n",
      "          -3.9674e-04, -5.4933e-04],\n",
      "         [ 1.1292e-03,  3.5707e-03,  6.4089e-04,  ...,  7.0193e-04,\n",
      "          -7.0193e-04, -4.8830e-04]]])\n"
     ]
    }
   ],
   "source": [
    "from steves_utils.transforms import get_average_magnitude, get_average_power\n",
    "\n",
    "print(set([u for u,_ in val_original_source]))\n",
    "print(set([u for u,_ in val_original_target]))\n",
    "\n",
    "s_x, s_y, q_x, q_y, _ = next(iter(train_processed_source))\n",
    "print(s_x)\n",
    "\n",
    "# for ds in [\n",
    "#     train_processed_source,\n",
    "#     val_processed_source,\n",
    "#     test_processed_source,\n",
    "#     train_processed_target,\n",
    "#     val_processed_target,\n",
    "#     test_processed_target\n",
    "# ]:\n",
    "#     for s_x, s_y, q_x, q_y, _ in ds:\n",
    "#         for X in (s_x, q_x):\n",
    "#             for x in X:\n",
    "#                 assert np.isclose(get_average_magnitude(x.numpy()), 1.0)\n",
    "#                 assert np.isclose(get_average_power(x.numpy()), 1.0)\n",
    "                "
   ]
  },
  {
   "cell_type": "code",
   "execution_count": 21,
   "id": "bbdacba1",
   "metadata": {
    "execution": {
     "iopub.execute_input": "2022-03-29T23:49:34.704265Z",
     "iopub.status.busy": "2022-03-29T23:49:34.704010Z",
     "iopub.status.idle": "2022-03-29T23:49:34.762134Z",
     "shell.execute_reply": "2022-03-29T23:49:34.762511Z"
    },
    "papermill": {
     "duration": 0.07651,
     "end_time": "2022-03-29T23:49:34.762627",
     "exception": false,
     "start_time": "2022-03-29T23:49:34.686117",
     "status": "completed"
    },
    "tags": []
   },
   "outputs": [
    {
     "name": "stdout",
     "output_type": "stream",
     "text": [
      "(2, 256)\n"
     ]
    }
   ],
   "source": [
    "###################################\n",
    "# Build the model\n",
    "###################################\n",
    "# easfsl only wants a tuple for the shape\n",
    "model = Steves_Prototypical_Network(x_net, device=p.device, x_shape=tuple(p.x_shape))\n",
    "optimizer = Adam(params=model.parameters(), lr=p.lr)"
   ]
  },
  {
   "cell_type": "code",
   "execution_count": 22,
   "id": "22b39ac5",
   "metadata": {
    "execution": {
     "iopub.execute_input": "2022-03-29T23:49:34.799031Z",
     "iopub.status.busy": "2022-03-29T23:49:34.798739Z",
     "iopub.status.idle": "2022-03-30T02:06:14.814761Z",
     "shell.execute_reply": "2022-03-30T02:06:14.814526Z"
    },
    "papermill": {
     "duration": 8200.033237,
     "end_time": "2022-03-30T02:06:14.814822",
     "exception": false,
     "start_time": "2022-03-29T23:49:34.781585",
     "status": "completed"
    },
    "tags": []
   },
   "outputs": [
    {
     "name": "stdout",
     "output_type": "stream",
     "text": [
      "epoch: 1, [batch: 1 / 33600], examples_per_second: 9.9523, train_label_loss: 2.7011, \n"
     ]
    },
    {
     "name": "stdout",
     "output_type": "stream",
     "text": [
      "epoch: 1, [batch: 3360 / 33600], examples_per_second: 3220.2900, train_label_loss: 0.9562, \n"
     ]
    },
    {
     "name": "stdout",
     "output_type": "stream",
     "text": [
      "epoch: 1, [batch: 6720 / 33600], examples_per_second: 3226.3322, train_label_loss: 0.3141, \n"
     ]
    },
    {
     "name": "stdout",
     "output_type": "stream",
     "text": [
      "epoch: 1, [batch: 10080 / 33600], examples_per_second: 3223.2568, train_label_loss: 0.5325, \n"
     ]
    },
    {
     "name": "stdout",
     "output_type": "stream",
     "text": [
      "epoch: 1, [batch: 13440 / 33600], examples_per_second: 3201.9774, train_label_loss: 0.4128, \n"
     ]
    },
    {
     "name": "stdout",
     "output_type": "stream",
     "text": [
      "epoch: 1, [batch: 16800 / 33600], examples_per_second: 3214.0329, train_label_loss: 0.1160, \n"
     ]
    },
    {
     "name": "stdout",
     "output_type": "stream",
     "text": [
      "epoch: 1, [batch: 20160 / 33600], examples_per_second: 3218.6134, train_label_loss: 0.3446, \n"
     ]
    },
    {
     "name": "stdout",
     "output_type": "stream",
     "text": [
      "epoch: 1, [batch: 23520 / 33600], examples_per_second: 3209.4071, train_label_loss: 0.6790, \n"
     ]
    },
    {
     "name": "stdout",
     "output_type": "stream",
     "text": [
      "epoch: 1, [batch: 26880 / 33600], examples_per_second: 3204.6510, train_label_loss: 0.5012, \n"
     ]
    },
    {
     "name": "stdout",
     "output_type": "stream",
     "text": [
      "epoch: 1, [batch: 30240 / 33600], examples_per_second: 3213.1968, train_label_loss: 0.3699, \n"
     ]
    },
    {
     "name": "stdout",
     "output_type": "stream",
     "text": [
      "=============================================================\n",
      "epoch: 1, source_val_acc_label: 0.7892, target_val_acc_label: 0.7683, source_val_label_loss: 1.2561, target_val_label_loss: 1.2215, \n",
      "=============================================================\n"
     ]
    },
    {
     "name": "stdout",
     "output_type": "stream",
     "text": [
      "New best\n"
     ]
    },
    {
     "name": "stdout",
     "output_type": "stream",
     "text": [
      "epoch: 2, [batch: 1 / 33600], examples_per_second: 0.9648, train_label_loss: 2.2340, \n"
     ]
    },
    {
     "name": "stdout",
     "output_type": "stream",
     "text": [
      "epoch: 2, [batch: 3360 / 33600], examples_per_second: 3238.7815, train_label_loss: 0.1438, \n"
     ]
    },
    {
     "name": "stdout",
     "output_type": "stream",
     "text": [
      "epoch: 2, [batch: 6720 / 33600], examples_per_second: 3242.0469, train_label_loss: 0.2393, \n"
     ]
    },
    {
     "name": "stdout",
     "output_type": "stream",
     "text": [
      "epoch: 2, [batch: 10080 / 33600], examples_per_second: 3247.3439, train_label_loss: 0.6464, \n"
     ]
    },
    {
     "name": "stdout",
     "output_type": "stream",
     "text": [
      "epoch: 2, [batch: 13440 / 33600], examples_per_second: 3227.9041, train_label_loss: 0.1809, \n"
     ]
    },
    {
     "name": "stdout",
     "output_type": "stream",
     "text": [
      "epoch: 2, [batch: 16800 / 33600], examples_per_second: 3242.8309, train_label_loss: 0.7778, \n"
     ]
    },
    {
     "name": "stdout",
     "output_type": "stream",
     "text": [
      "epoch: 2, [batch: 20160 / 33600], examples_per_second: 3254.8573, train_label_loss: 0.3562, \n"
     ]
    },
    {
     "name": "stdout",
     "output_type": "stream",
     "text": [
      "epoch: 2, [batch: 23520 / 33600], examples_per_second: 3243.5190, train_label_loss: 0.3813, \n"
     ]
    },
    {
     "name": "stdout",
     "output_type": "stream",
     "text": [
      "epoch: 2, [batch: 26880 / 33600], examples_per_second: 3240.8153, train_label_loss: 0.5006, \n"
     ]
    },
    {
     "name": "stdout",
     "output_type": "stream",
     "text": [
      "epoch: 2, [batch: 30240 / 33600], examples_per_second: 3234.4229, train_label_loss: 0.2619, \n"
     ]
    },
    {
     "name": "stdout",
     "output_type": "stream",
     "text": [
      "=============================================================\n",
      "epoch: 2, source_val_acc_label: 0.8706, target_val_acc_label: 0.8472, source_val_label_loss: 0.3731, target_val_label_loss: 0.4560, \n",
      "=============================================================\n"
     ]
    },
    {
     "name": "stdout",
     "output_type": "stream",
     "text": [
      "New best\n"
     ]
    },
    {
     "name": "stdout",
     "output_type": "stream",
     "text": [
      "epoch: 3, [batch: 1 / 33600], examples_per_second: 0.9732, train_label_loss: 0.0841, \n"
     ]
    },
    {
     "name": "stdout",
     "output_type": "stream",
     "text": [
      "epoch: 3, [batch: 3360 / 33600], examples_per_second: 3236.9507, train_label_loss: 0.2359, \n"
     ]
    },
    {
     "name": "stdout",
     "output_type": "stream",
     "text": [
      "epoch: 3, [batch: 6720 / 33600], examples_per_second: 3240.2476, train_label_loss: 0.6937, \n"
     ]
    },
    {
     "name": "stdout",
     "output_type": "stream",
     "text": [
      "epoch: 3, [batch: 10080 / 33600], examples_per_second: 3250.0024, train_label_loss: 0.2282, \n"
     ]
    },
    {
     "name": "stdout",
     "output_type": "stream",
     "text": [
      "epoch: 3, [batch: 13440 / 33600], examples_per_second: 3234.7249, train_label_loss: 0.3021, \n"
     ]
    },
    {
     "name": "stdout",
     "output_type": "stream",
     "text": [
      "epoch: 3, [batch: 16800 / 33600], examples_per_second: 3242.7286, train_label_loss: 0.4074, \n"
     ]
    },
    {
     "name": "stdout",
     "output_type": "stream",
     "text": [
      "epoch: 3, [batch: 20160 / 33600], examples_per_second: 3251.8355, train_label_loss: 0.1178, \n"
     ]
    },
    {
     "name": "stdout",
     "output_type": "stream",
     "text": [
      "epoch: 3, [batch: 23520 / 33600], examples_per_second: 3238.2607, train_label_loss: 0.3974, \n"
     ]
    },
    {
     "name": "stdout",
     "output_type": "stream",
     "text": [
      "epoch: 3, [batch: 26880 / 33600], examples_per_second: 3248.1654, train_label_loss: 0.2665, \n"
     ]
    },
    {
     "name": "stdout",
     "output_type": "stream",
     "text": [
      "epoch: 3, [batch: 30240 / 33600], examples_per_second: 3247.8632, train_label_loss: 0.6206, \n"
     ]
    },
    {
     "name": "stdout",
     "output_type": "stream",
     "text": [
      "=============================================================\n",
      "epoch: 3, source_val_acc_label: 0.8816, target_val_acc_label: 0.8557, source_val_label_loss: 0.3357, target_val_label_loss: 0.4429, \n",
      "=============================================================\n"
     ]
    },
    {
     "name": "stdout",
     "output_type": "stream",
     "text": [
      "New best\n"
     ]
    },
    {
     "name": "stdout",
     "output_type": "stream",
     "text": [
      "epoch: 4, [batch: 1 / 33600], examples_per_second: 0.9751, train_label_loss: 0.4571, \n"
     ]
    },
    {
     "name": "stdout",
     "output_type": "stream",
     "text": [
      "epoch: 4, [batch: 3360 / 33600], examples_per_second: 3241.8025, train_label_loss: 0.3283, \n"
     ]
    },
    {
     "name": "stdout",
     "output_type": "stream",
     "text": [
      "epoch: 4, [batch: 6720 / 33600], examples_per_second: 3251.3553, train_label_loss: 0.5369, \n"
     ]
    },
    {
     "name": "stdout",
     "output_type": "stream",
     "text": [
      "epoch: 4, [batch: 10080 / 33600], examples_per_second: 3251.0519, train_label_loss: 0.3218, \n"
     ]
    },
    {
     "name": "stdout",
     "output_type": "stream",
     "text": [
      "epoch: 4, [batch: 13440 / 33600], examples_per_second: 3237.7198, train_label_loss: 0.1150, \n"
     ]
    },
    {
     "name": "stdout",
     "output_type": "stream",
     "text": [
      "epoch: 4, [batch: 16800 / 33600], examples_per_second: 3245.5283, train_label_loss: 0.2105, \n"
     ]
    },
    {
     "name": "stdout",
     "output_type": "stream",
     "text": [
      "epoch: 4, [batch: 20160 / 33600], examples_per_second: 3246.7857, train_label_loss: 0.1912, \n"
     ]
    },
    {
     "name": "stdout",
     "output_type": "stream",
     "text": [
      "epoch: 4, [batch: 23520 / 33600], examples_per_second: 3241.0256, train_label_loss: 0.4021, \n"
     ]
    },
    {
     "name": "stdout",
     "output_type": "stream",
     "text": [
      "epoch: 4, [batch: 26880 / 33600], examples_per_second: 3247.1066, train_label_loss: 0.0489, \n"
     ]
    },
    {
     "name": "stdout",
     "output_type": "stream",
     "text": [
      "epoch: 4, [batch: 30240 / 33600], examples_per_second: 3245.6982, train_label_loss: 0.1173, \n"
     ]
    },
    {
     "name": "stdout",
     "output_type": "stream",
     "text": [
      "=============================================================\n",
      "epoch: 4, source_val_acc_label: 0.8894, target_val_acc_label: 0.8579, source_val_label_loss: 0.3176, target_val_label_loss: 0.4435, \n",
      "=============================================================\n"
     ]
    },
    {
     "name": "stdout",
     "output_type": "stream",
     "text": [
      "New best\n"
     ]
    },
    {
     "name": "stdout",
     "output_type": "stream",
     "text": [
      "epoch: 5, [batch: 1 / 33600], examples_per_second: 0.9709, train_label_loss: 0.5096, \n"
     ]
    },
    {
     "name": "stdout",
     "output_type": "stream",
     "text": [
      "epoch: 5, [batch: 3360 / 33600], examples_per_second: 3231.4272, train_label_loss: 0.1165, \n"
     ]
    },
    {
     "name": "stdout",
     "output_type": "stream",
     "text": [
      "epoch: 5, [batch: 6720 / 33600], examples_per_second: 3241.5370, train_label_loss: 0.3386, \n"
     ]
    },
    {
     "name": "stdout",
     "output_type": "stream",
     "text": [
      "epoch: 5, [batch: 10080 / 33600], examples_per_second: 3250.5499, train_label_loss: 0.2996, \n"
     ]
    },
    {
     "name": "stdout",
     "output_type": "stream",
     "text": [
      "epoch: 5, [batch: 13440 / 33600], examples_per_second: 3235.3058, train_label_loss: 0.0974, \n"
     ]
    },
    {
     "name": "stdout",
     "output_type": "stream",
     "text": [
      "epoch: 5, [batch: 16800 / 33600], examples_per_second: 3251.5290, train_label_loss: 0.6289, \n"
     ]
    },
    {
     "name": "stdout",
     "output_type": "stream",
     "text": [
      "epoch: 5, [batch: 20160 / 33600], examples_per_second: 3254.5617, train_label_loss: 0.0695, \n"
     ]
    },
    {
     "name": "stdout",
     "output_type": "stream",
     "text": [
      "epoch: 5, [batch: 23520 / 33600], examples_per_second: 3237.0543, train_label_loss: 0.2828, \n"
     ]
    },
    {
     "name": "stdout",
     "output_type": "stream",
     "text": [
      "epoch: 5, [batch: 26880 / 33600], examples_per_second: 3244.9020, train_label_loss: 0.1558, \n"
     ]
    },
    {
     "name": "stdout",
     "output_type": "stream",
     "text": [
      "epoch: 5, [batch: 30240 / 33600], examples_per_second: 3247.1191, train_label_loss: 0.4469, \n"
     ]
    },
    {
     "name": "stdout",
     "output_type": "stream",
     "text": [
      "=============================================================\n",
      "epoch: 5, source_val_acc_label: 0.8887, target_val_acc_label: 0.8581, source_val_label_loss: 0.3142, target_val_label_loss: 0.4368, \n",
      "=============================================================\n"
     ]
    },
    {
     "name": "stdout",
     "output_type": "stream",
     "text": [
      "New best\n"
     ]
    },
    {
     "name": "stdout",
     "output_type": "stream",
     "text": [
      "epoch: 6, [batch: 1 / 33600], examples_per_second: 0.9704, train_label_loss: 0.1149, \n"
     ]
    },
    {
     "name": "stdout",
     "output_type": "stream",
     "text": [
      "epoch: 6, [batch: 3360 / 33600], examples_per_second: 3236.5649, train_label_loss: 0.3797, \n"
     ]
    },
    {
     "name": "stdout",
     "output_type": "stream",
     "text": [
      "epoch: 6, [batch: 6720 / 33600], examples_per_second: 3248.3979, train_label_loss: 0.0878, \n"
     ]
    },
    {
     "name": "stdout",
     "output_type": "stream",
     "text": [
      "epoch: 6, [batch: 10080 / 33600], examples_per_second: 3245.1427, train_label_loss: 0.3172, \n"
     ]
    },
    {
     "name": "stdout",
     "output_type": "stream",
     "text": [
      "epoch: 6, [batch: 13440 / 33600], examples_per_second: 3235.8484, train_label_loss: 0.3705, \n"
     ]
    },
    {
     "name": "stdout",
     "output_type": "stream",
     "text": [
      "epoch: 6, [batch: 16800 / 33600], examples_per_second: 3247.3909, train_label_loss: 0.1747, \n"
     ]
    },
    {
     "name": "stdout",
     "output_type": "stream",
     "text": [
      "epoch: 6, [batch: 20160 / 33600], examples_per_second: 3244.4048, train_label_loss: 0.4385, \n"
     ]
    },
    {
     "name": "stdout",
     "output_type": "stream",
     "text": [
      "epoch: 6, [batch: 23520 / 33600], examples_per_second: 3239.7628, train_label_loss: 0.1767, \n"
     ]
    },
    {
     "name": "stdout",
     "output_type": "stream",
     "text": [
      "epoch: 6, [batch: 26880 / 33600], examples_per_second: 3242.2547, train_label_loss: 0.1359, \n"
     ]
    },
    {
     "name": "stdout",
     "output_type": "stream",
     "text": [
      "epoch: 6, [batch: 30240 / 33600], examples_per_second: 3241.6696, train_label_loss: 0.1630, \n"
     ]
    },
    {
     "name": "stdout",
     "output_type": "stream",
     "text": [
      "=============================================================\n",
      "epoch: 6, source_val_acc_label: 0.8911, target_val_acc_label: 0.8536, source_val_label_loss: 0.3046, target_val_label_loss: 0.4598, \n",
      "=============================================================\n"
     ]
    },
    {
     "name": "stdout",
     "output_type": "stream",
     "text": [
      "epoch: 7, [batch: 1 / 33600], examples_per_second: 0.9752, train_label_loss: 0.0606, \n"
     ]
    },
    {
     "name": "stdout",
     "output_type": "stream",
     "text": [
      "epoch: 7, [batch: 3360 / 33600], examples_per_second: 3237.0703, train_label_loss: 0.1891, \n"
     ]
    },
    {
     "name": "stdout",
     "output_type": "stream",
     "text": [
      "epoch: 7, [batch: 6720 / 33600], examples_per_second: 3234.7073, train_label_loss: 0.2128, \n"
     ]
    },
    {
     "name": "stdout",
     "output_type": "stream",
     "text": [
      "epoch: 7, [batch: 10080 / 33600], examples_per_second: 3250.3259, train_label_loss: 0.2890, \n"
     ]
    },
    {
     "name": "stdout",
     "output_type": "stream",
     "text": [
      "epoch: 7, [batch: 13440 / 33600], examples_per_second: 3238.5264, train_label_loss: 0.2413, \n"
     ]
    },
    {
     "name": "stdout",
     "output_type": "stream",
     "text": [
      "epoch: 7, [batch: 16800 / 33600], examples_per_second: 3244.8314, train_label_loss: 0.0965, \n"
     ]
    },
    {
     "name": "stdout",
     "output_type": "stream",
     "text": [
      "epoch: 7, [batch: 20160 / 33600], examples_per_second: 3252.1522, train_label_loss: 0.1287, \n"
     ]
    },
    {
     "name": "stdout",
     "output_type": "stream",
     "text": [
      "epoch: 7, [batch: 23520 / 33600], examples_per_second: 3243.8448, train_label_loss: 0.2066, \n"
     ]
    },
    {
     "name": "stdout",
     "output_type": "stream",
     "text": [
      "epoch: 7, [batch: 26880 / 33600], examples_per_second: 3246.6271, train_label_loss: 0.1922, \n"
     ]
    },
    {
     "name": "stdout",
     "output_type": "stream",
     "text": [
      "epoch: 7, [batch: 30240 / 33600], examples_per_second: 3237.9832, train_label_loss: 0.1715, \n"
     ]
    },
    {
     "name": "stdout",
     "output_type": "stream",
     "text": [
      "=============================================================\n",
      "epoch: 7, source_val_acc_label: 0.8957, target_val_acc_label: 0.8547, source_val_label_loss: 0.3119, target_val_label_loss: 0.4939, \n",
      "=============================================================\n"
     ]
    },
    {
     "name": "stdout",
     "output_type": "stream",
     "text": [
      "epoch: 8, [batch: 1 / 33600], examples_per_second: 0.9750, train_label_loss: 0.0805, \n"
     ]
    },
    {
     "name": "stdout",
     "output_type": "stream",
     "text": [
      "epoch: 8, [batch: 3360 / 33600], examples_per_second: 3236.8991, train_label_loss: 0.0553, \n"
     ]
    },
    {
     "name": "stdout",
     "output_type": "stream",
     "text": [
      "epoch: 8, [batch: 6720 / 33600], examples_per_second: 3245.6986, train_label_loss: 0.0342, \n"
     ]
    },
    {
     "name": "stdout",
     "output_type": "stream",
     "text": [
      "epoch: 8, [batch: 10080 / 33600], examples_per_second: 3253.2398, train_label_loss: 0.1922, \n"
     ]
    },
    {
     "name": "stdout",
     "output_type": "stream",
     "text": [
      "epoch: 8, [batch: 13440 / 33600], examples_per_second: 3237.4658, train_label_loss: 0.1779, \n"
     ]
    },
    {
     "name": "stdout",
     "output_type": "stream",
     "text": [
      "epoch: 8, [batch: 16800 / 33600], examples_per_second: 3243.5967, train_label_loss: 0.2976, \n"
     ]
    },
    {
     "name": "stdout",
     "output_type": "stream",
     "text": [
      "epoch: 8, [batch: 20160 / 33600], examples_per_second: 3252.7650, train_label_loss: 0.0334, \n"
     ]
    },
    {
     "name": "stdout",
     "output_type": "stream",
     "text": [
      "epoch: 8, [batch: 23520 / 33600], examples_per_second: 3235.2071, train_label_loss: 0.2020, \n"
     ]
    },
    {
     "name": "stdout",
     "output_type": "stream",
     "text": [
      "epoch: 8, [batch: 26880 / 33600], examples_per_second: 3244.4581, train_label_loss: 0.2520, \n"
     ]
    },
    {
     "name": "stdout",
     "output_type": "stream",
     "text": [
      "epoch: 8, [batch: 30240 / 33600], examples_per_second: 3243.6619, train_label_loss: 0.0276, \n"
     ]
    },
    {
     "name": "stdout",
     "output_type": "stream",
     "text": [
      "=============================================================\n",
      "epoch: 8, source_val_acc_label: 0.8946, target_val_acc_label: 0.8538, source_val_label_loss: 0.3049, target_val_label_loss: 0.4896, \n",
      "=============================================================\n"
     ]
    },
    {
     "name": "stdout",
     "output_type": "stream",
     "text": [
      "epoch: 9, [batch: 1 / 33600], examples_per_second: 0.9739, train_label_loss: 0.1657, \n"
     ]
    },
    {
     "name": "stdout",
     "output_type": "stream",
     "text": [
      "epoch: 9, [batch: 3360 / 33600], examples_per_second: 3246.5035, train_label_loss: 0.0069, \n"
     ]
    },
    {
     "name": "stdout",
     "output_type": "stream",
     "text": [
      "epoch: 9, [batch: 6720 / 33600], examples_per_second: 3247.7761, train_label_loss: 0.4115, \n"
     ]
    },
    {
     "name": "stdout",
     "output_type": "stream",
     "text": [
      "epoch: 9, [batch: 10080 / 33600], examples_per_second: 3248.6651, train_label_loss: 0.0998, \n"
     ]
    },
    {
     "name": "stdout",
     "output_type": "stream",
     "text": [
      "epoch: 9, [batch: 13440 / 33600], examples_per_second: 3235.9702, train_label_loss: 0.4045, \n"
     ]
    },
    {
     "name": "stdout",
     "output_type": "stream",
     "text": [
      "epoch: 9, [batch: 16800 / 33600], examples_per_second: 3240.9231, train_label_loss: 0.1654, \n"
     ]
    },
    {
     "name": "stdout",
     "output_type": "stream",
     "text": [
      "epoch: 9, [batch: 20160 / 33600], examples_per_second: 3254.4885, train_label_loss: 0.1086, \n"
     ]
    },
    {
     "name": "stdout",
     "output_type": "stream",
     "text": [
      "epoch: 9, [batch: 23520 / 33600], examples_per_second: 3247.1766, train_label_loss: 0.2365, \n"
     ]
    },
    {
     "name": "stdout",
     "output_type": "stream",
     "text": [
      "epoch: 9, [batch: 26880 / 33600], examples_per_second: 3246.6649, train_label_loss: 0.1873, \n"
     ]
    },
    {
     "name": "stdout",
     "output_type": "stream",
     "text": [
      "epoch: 9, [batch: 30240 / 33600], examples_per_second: 3245.2394, train_label_loss: 0.1296, \n"
     ]
    },
    {
     "name": "stdout",
     "output_type": "stream",
     "text": [
      "=============================================================\n",
      "epoch: 9, source_val_acc_label: 0.8971, target_val_acc_label: 0.8535, source_val_label_loss: 0.3167, target_val_label_loss: 0.5317, \n",
      "=============================================================\n"
     ]
    },
    {
     "name": "stdout",
     "output_type": "stream",
     "text": [
      "Patience (3) exhausted\n"
     ]
    }
   ],
   "source": [
    "###################################\n",
    "# train\n",
    "###################################\n",
    "jig = PTN_Train_Eval_Test_Jig(model, p.BEST_MODEL_PATH, p.device)\n",
    "\n",
    "jig.train(\n",
    "    train_iterable=datasets.source.processed.train,\n",
    "    source_val_iterable=datasets.source.processed.val,\n",
    "    target_val_iterable=datasets.target.processed.val,\n",
    "    num_epochs=p.n_epoch,\n",
    "    num_logs_per_epoch=p.NUM_LOGS_PER_EPOCH,\n",
    "    patience=p.patience,\n",
    "    optimizer=optimizer,\n",
    "    criteria_for_best=p.criteria_for_best,\n",
    ")"
   ]
  },
  {
   "cell_type": "code",
   "execution_count": 23,
   "id": "31e8fabf",
   "metadata": {
    "execution": {
     "iopub.execute_input": "2022-03-30T02:06:14.885420Z",
     "iopub.status.busy": "2022-03-30T02:06:14.885080Z",
     "iopub.status.idle": "2022-03-30T02:06:14.905285Z",
     "shell.execute_reply": "2022-03-30T02:06:14.904814Z"
    },
    "papermill": {
     "duration": 0.057076,
     "end_time": "2022-03-30T02:06:14.905394",
     "exception": false,
     "start_time": "2022-03-30T02:06:14.848318",
     "status": "completed"
    },
    "tags": []
   },
   "outputs": [],
   "source": [
    "total_experiment_time_secs = time.time() - start_time_secs"
   ]
  },
  {
   "cell_type": "code",
   "execution_count": 24,
   "id": "87b9595b",
   "metadata": {
    "execution": {
     "iopub.execute_input": "2022-03-30T02:06:14.985000Z",
     "iopub.status.busy": "2022-03-30T02:06:14.980614Z",
     "iopub.status.idle": "2022-03-30T02:14:15.679317Z",
     "shell.execute_reply": "2022-03-30T02:14:15.679702Z"
    },
    "papermill": {
     "duration": 480.734325,
     "end_time": "2022-03-30T02:14:15.679836",
     "exception": false,
     "start_time": "2022-03-30T02:06:14.945511",
     "status": "completed"
    },
    "tags": []
   },
   "outputs": [],
   "source": [
    "###################################\n",
    "# Evaluate the model\n",
    "###################################\n",
    "source_test_label_accuracy, source_test_label_loss = jig.test(datasets.source.processed.test)\n",
    "target_test_label_accuracy, target_test_label_loss = jig.test(datasets.target.processed.test)\n",
    "\n",
    "source_val_label_accuracy, source_val_label_loss = jig.test(datasets.source.processed.val)\n",
    "target_val_label_accuracy, target_val_label_loss = jig.test(datasets.target.processed.val)\n",
    "\n",
    "history = jig.get_history()\n",
    "\n",
    "total_epochs_trained = len(history[\"epoch_indices\"])\n",
    "\n",
    "val_dl = Iterable_Aggregator((datasets.source.original.val,datasets.target.original.val))\n",
    "\n",
    "confusion = ptn_confusion_by_domain_over_dataloader(model, p.device, val_dl)\n",
    "per_domain_accuracy = per_domain_accuracy_from_confusion(confusion)\n",
    "\n",
    "# Add a key to per_domain_accuracy for if it was a source domain\n",
    "for domain, accuracy in per_domain_accuracy.items():\n",
    "    per_domain_accuracy[domain] = {\n",
    "        \"accuracy\": accuracy,\n",
    "        \"source?\": domain in p.domains_source\n",
    "    }\n",
    "\n",
    "# Do an independent accuracy assesment JUST TO BE SURE!\n",
    "# _source_test_label_accuracy = independent_accuracy_assesment(model, datasets.source.processed.test, p.device)\n",
    "# _target_test_label_accuracy = independent_accuracy_assesment(model, datasets.target.processed.test, p.device)\n",
    "# _source_val_label_accuracy = independent_accuracy_assesment(model, datasets.source.processed.val, p.device)\n",
    "# _target_val_label_accuracy = independent_accuracy_assesment(model, datasets.target.processed.val, p.device)\n",
    "\n",
    "# assert(_source_test_label_accuracy == source_test_label_accuracy)\n",
    "# assert(_target_test_label_accuracy == target_test_label_accuracy)\n",
    "# assert(_source_val_label_accuracy == source_val_label_accuracy)\n",
    "# assert(_target_val_label_accuracy == target_val_label_accuracy)\n",
    "\n",
    "experiment = {\n",
    "    \"experiment_name\": p.experiment_name,\n",
    "    \"parameters\": dict(p),\n",
    "    \"results\": {\n",
    "        \"source_test_label_accuracy\": source_test_label_accuracy,\n",
    "        \"source_test_label_loss\": source_test_label_loss,\n",
    "        \"target_test_label_accuracy\": target_test_label_accuracy,\n",
    "        \"target_test_label_loss\": target_test_label_loss,\n",
    "        \"source_val_label_accuracy\": source_val_label_accuracy,\n",
    "        \"source_val_label_loss\": source_val_label_loss,\n",
    "        \"target_val_label_accuracy\": target_val_label_accuracy,\n",
    "        \"target_val_label_loss\": target_val_label_loss,\n",
    "        \"total_epochs_trained\": total_epochs_trained,\n",
    "        \"total_experiment_time_secs\": total_experiment_time_secs,\n",
    "        \"confusion\": confusion,\n",
    "        \"per_domain_accuracy\": per_domain_accuracy,\n",
    "    },\n",
    "    \"history\": history,\n",
    "    \"dataset_metrics\": get_dataset_metrics(datasets, \"ptn\"),\n",
    "}"
   ]
  },
  {
   "cell_type": "code",
   "execution_count": 25,
   "id": "54a21829",
   "metadata": {
    "execution": {
     "iopub.execute_input": "2022-03-30T02:14:15.753147Z",
     "iopub.status.busy": "2022-03-30T02:14:15.752891Z",
     "iopub.status.idle": "2022-03-30T02:14:15.882109Z",
     "shell.execute_reply": "2022-03-30T02:14:15.882504Z"
    },
    "papermill": {
     "duration": 0.16468,
     "end_time": "2022-03-30T02:14:15.882615",
     "exception": false,
     "start_time": "2022-03-30T02:14:15.717935",
     "status": "completed"
    },
    "tags": []
   },
   "outputs": [
    {
     "data": {
      "image/png": "[encoded data removed]",
      "text/plain": [
       "<Figure size 1080x504 with 1 Axes>"
      ]
     },
     "metadata": {
      "needs_background": "light"
     },
     "output_type": "display_data"
    }
   ],
   "source": [
    "ax = get_loss_curve(experiment)\n",
    "plt.show()"
   ]
  },
  {
   "cell_type": "code",
   "execution_count": 26,
   "id": "fd8a0f60",
   "metadata": {
    "execution": {
     "iopub.execute_input": "2022-03-30T02:14:15.956367Z",
     "iopub.status.busy": "2022-03-30T02:14:15.956106Z",
     "iopub.status.idle": "2022-03-30T02:14:16.094508Z",
     "shell.execute_reply": "2022-03-30T02:14:16.094726Z"
    },
    "papermill": {
     "duration": 0.174605,
     "end_time": "2022-03-30T02:14:16.094800",
     "exception": false,
     "start_time": "2022-03-30T02:14:15.920195",
     "status": "completed"
    },
    "tags": []
   },
   "outputs": [
    {
     "data": {
      "text/plain": [
       "<AxesSubplot:title={'center':'Results'}>"
      ]
     },
     "execution_count": 26,
     "metadata": {},
     "output_type": "execute_result"
    },
    {
     "data": {
      "image/png": "[encoded data removed]",
      "text/plain": [
       "<Figure size 1080x504 with 1 Axes>"
      ]
     },
     "metadata": {
      "needs_background": "light"
     },
     "output_type": "display_data"
    }
   ],
   "source": [
    "get_results_table(experiment)"
   ]
  },
  {
   "cell_type": "code",
   "execution_count": 27,
   "id": "cf8dc689",
   "metadata": {
    "execution": {
     "iopub.execute_input": "2022-03-30T02:14:16.169371Z",
     "iopub.status.busy": "2022-03-30T02:14:16.169121Z",
     "iopub.status.idle": "2022-03-30T02:14:16.332564Z",
     "shell.execute_reply": "2022-03-30T02:14:16.332114Z"
    },
    "papermill": {
     "duration": 0.201267,
     "end_time": "2022-03-30T02:14:16.332657",
     "exception": false,
     "start_time": "2022-03-30T02:14:16.131390",
     "status": "completed"
    },
    "tags": []
   },
   "outputs": [
    {
     "data": {
      "text/plain": [
       "<AxesSubplot:title={'center':'Per Domain Validation Accuracy'}, xlabel='domain'>"
      ]
     },
     "execution_count": 27,
     "metadata": {},
     "output_type": "execute_result"
    },
    {
     "data": {
      "image/png": "[encoded data removed]",
      "text/plain": [
       "<Figure size 1080x504 with 1 Axes>"
      ]
     },
     "metadata": {
      "needs_background": "light"
     },
     "output_type": "display_data"
    }
   ],
   "source": [
    "get_domain_accuracies(experiment)"
   ]
  },
  {
   "cell_type": "code",
   "execution_count": 28,
   "id": "a74ae082",
   "metadata": {
    "execution": {
     "iopub.execute_input": "2022-03-30T02:14:16.414075Z",
     "iopub.status.busy": "2022-03-30T02:14:16.413811Z",
     "iopub.status.idle": "2022-03-30T02:14:16.429432Z",
     "shell.execute_reply": "2022-03-30T02:14:16.429811Z"
    },
    "papermill": {
     "duration": 0.056479,
     "end_time": "2022-03-30T02:14:16.429916",
     "exception": false,
     "start_time": "2022-03-30T02:14:16.373437",
     "status": "completed"
    },
    "tags": []
   },
   "outputs": [
    {
     "name": "stdout",
     "output_type": "stream",
     "text": [
      "Source Test Label Accuracy: 0.8887760416666667 Target Test Label Accuracy: 0.8583528645833334\n",
      "Source Val Label Accuracy: 0.888671875 Target Val Label Accuracy: 0.8580729166666666\n"
     ]
    }
   ],
   "source": [
    "print(\"Source Test Label Accuracy:\", experiment[\"results\"][\"source_test_label_accuracy\"], \"Target Test Label Accuracy:\", experiment[\"results\"][\"target_test_label_accuracy\"])\n",
    "print(\"Source Val Label Accuracy:\", experiment[\"results\"][\"source_val_label_accuracy\"], \"Target Val Label Accuracy:\", experiment[\"results\"][\"target_val_label_accuracy\"])"
   ]
  },
  {
   "cell_type": "code",
   "execution_count": 29,
   "id": "dacca602",
   "metadata": {
    "execution": {
     "iopub.execute_input": "2022-03-30T02:14:16.509457Z",
     "iopub.status.busy": "2022-03-30T02:14:16.509201Z",
     "iopub.status.idle": "2022-03-30T02:14:16.520693Z",
     "shell.execute_reply": "2022-03-30T02:14:16.520239Z"
    },
    "papermill": {
     "duration": 0.050242,
     "end_time": "2022-03-30T02:14:16.520781",
     "exception": false,
     "start_time": "2022-03-30T02:14:16.470539",
     "status": "completed"
    },
    "tags": [
     "experiment_json"
    ]
   },
   "outputs": [
    {
     "data": {
      "text/plain": [
       "'{\"experiment_name\": \"tl_1v2:oracle.run1-oracle.run2\", \"parameters\": {\"experiment_name\": \"tl_1v2:oracle.run1-oracle.run2\", \"device\": \"cuda\", \"lr\": 0.0001, \"n_shot\": 3, \"n_query\": 2, \"train_k_factor\": 3, \"val_k_factor\": 2, \"test_k_factor\": 2, \"torch_default_dtype\": \"torch.float32\", \"n_epoch\": 50, \"patience\": 3, \"criteria_for_best\": \"target_accuracy\", \"x_net\": [{\"class\": \"nnReshape\", \"kargs\": {\"shape\": [-1, 1, 2, 256]}}, {\"class\": \"Conv2d\", \"kargs\": {\"in_channels\": 1, \"out_channels\": 256, \"kernel_size\": [1, 7], \"bias\": false, \"padding\": [0, 3]}}, {\"class\": \"ReLU\", \"kargs\": {\"inplace\": true}}, {\"class\": \"BatchNorm2d\", \"kargs\": {\"num_features\": 256}}, {\"class\": \"Conv2d\", \"kargs\": {\"in_channels\": 256, \"out_channels\": 80, \"kernel_size\": [2, 7], \"bias\": true, \"padding\": [0, 3]}}, {\"class\": \"ReLU\", \"kargs\": {\"inplace\": true}}, {\"class\": \"BatchNorm2d\", \"kargs\": {\"num_features\": 80}}, {\"class\": \"Flatten\", \"kargs\": {}}, {\"class\": \"Linear\", \"kargs\": {\"in_features\": 20480, \"out_features\": 256}}, {\"class\": \"ReLU\", \"kargs\": {\"inplace\": true}}, {\"class\": \"BatchNorm1d\", \"kargs\": {\"num_features\": 256}}, {\"class\": \"Linear\", \"kargs\": {\"in_features\": 256, \"out_features\": 256}}], \"NUM_LOGS_PER_EPOCH\": 10, \"BEST_MODEL_PATH\": \"./best_model.pth\", \"n_way\": 16, \"datasets\": [{\"labels\": [\"3123D52\", \"3123D65\", \"3123D79\", \"3123D80\", \"3123D54\", \"3123D70\", \"3123D7B\", \"3123D89\", \"3123D58\", \"3123D76\", \"3123D7D\", \"3123EFE\", \"3123D64\", \"3123D78\", \"3123D7E\", \"3124E4A\"], \"domains\": [32, 38, 8, 44, 14, 50, 20, 26], \"num_examples_per_domain_per_label\": 10000, \"pickle_path\": \"/mnt/wd500GB/CSC500/csc500-main/datasets/oracle.Run1_10kExamples_stratified_ds.2022A.pkl\", \"source_or_target_dataset\": \"target\", \"x_transforms\": [], \"episode_transforms\": [], \"domain_prefix\": \"ORACLE.run1_\"}, {\"labels\": [\"3123D52\", \"3123D65\", \"3123D79\", \"3123D80\", \"3123D54\", \"3123D70\", \"3123D7B\", \"3123D89\", \"3123D58\", \"3123D76\", \"3123D7D\", \"3123EFE\", \"3123D64\", \"3123D78\", \"3123D7E\", \"3124E4A\"], \"domains\": [32, 38, 8, 44, 14, 50, 20, 26], \"num_examples_per_domain_per_label\": 10000, \"pickle_path\": \"/mnt/wd500GB/CSC500/csc500-main/datasets/oracle.Run2_10kExamples_stratified_ds.2022A.pkl\", \"source_or_target_dataset\": \"source\", \"x_transforms\": [], \"episode_transforms\": [], \"domain_prefix\": \"ORACLE.run2_\"}], \"dataset_seed\": 500, \"seed\": 500, \"x_shape\": [2, 256], \"domains_source\": [\"ORACLE.run2_32\", \"ORACLE.run2_38\", \"ORACLE.run2_8\", \"ORACLE.run2_44\", \"ORACLE.run2_14\", \"ORACLE.run2_50\", \"ORACLE.run2_20\", \"ORACLE.run2_26\"], \"domains_target\": [\"ORACLE.run1_32\", \"ORACLE.run1_38\", \"ORACLE.run1_8\", \"ORACLE.run1_44\", \"ORACLE.run1_14\", \"ORACLE.run1_50\", \"ORACLE.run1_20\", \"ORACLE.run1_26\"]}, \"results\": {\"source_test_label_accuracy\": 0.8887760416666667, \"source_test_label_loss\": 0.31443309783935547, \"target_test_label_accuracy\": 0.8583528645833334, \"target_test_label_loss\": 0.4330446422100067, \"source_val_label_accuracy\": 0.888671875, \"source_val_label_loss\": 0.31418749690055847, \"target_val_label_accuracy\": 0.8580729166666666, \"target_val_label_loss\": 0.4368295967578888, \"total_epochs_trained\": 9, \"total_experiment_time_secs\": 8248.70607161522, \"confusion\": {\"ORACLE.run2_50\": {\"7\": {\"7\": 1110, \"4\": 47, \"5\": 42, \"3\": 1}, \"10\": {\"10\": 1185, \"0\": 7, \"13\": 8}, \"0\": {\"0\": 1167, \"2\": 23, \"10\": 10}, \"11\": {\"11\": 1188, \"12\": 3, \"15\": 7, \"1\": 2}, \"2\": {\"2\": 1182, \"0\": 18}, \"14\": {\"14\": 1200}, \"9\": {\"9\": 1184, \"12\": 16}, \"13\": {\"13\": 1191, \"8\": 1, \"10\": 8}, \"8\": {\"8\": 1200}, \"15\": {\"15\": 1153, \"6\": 45, \"4\": 1, \"11\": 1}, \"4\": {\"4\": 843, \"5\": 312, \"6\": 13, \"7\": 31, \"15\": 1}, \"5\": {\"4\": 290, \"5\": 802, \"6\": 59, \"7\": 49}, \"3\": {\"3\": 1200}, \"1\": {\"1\": 1199, \"13\": 1}, \"6\": {\"6\": 1088, \"5\": 53, \"4\": 16, \"15\": 43}, \"12\": {\"12\": 1187, \"9\": 11, \"11\": 2}}, \"ORACLE.run2_14\": {\"14\": {\"14\": 1082, \"2\": 101, \"5\": 12, \"3\": 2, \"0\": 3}, \"6\": {\"13\": 184, \"6\": 1014, \"2\": 1, \"3\": 1}, \"5\": {\"5\": 1077, \"2\": 113, \"4\": 3, \"3\": 7}, \"15\": {\"15\": 1200}, \"11\": {\"11\": 1200}, \"8\": {\"8\": 1200}, \"12\": {\"12\": 803, \"10\": 123, \"9\": 142, \"0\": 59, \"3\": 7, \"11\": 49, \"1\": 14, \"8\": 3}, \"1\": {\"1\": 1200}, \"2\": {\"2\": 771, \"14\": 159, \"5\": 178, \"3\": 66, \"4\": 18, \"7\": 1, \"13\": 1, \"6\": 5, \"0\": 1}, \"13\": {\"13\": 987, \"6\": 213}, \"3\": {\"3\": 1192, \"2\": 6, \"5\": 1, \"14\": 1}, \"0\": {\"0\": 1192, \"10\": 7, \"12\": 1}, \"9\": {\"9\": 1200}, \"4\": {\"4\": 1192, \"5\": 5, \"2\": 2, \"14\": 1}, \"7\": {\"7\": 1199, \"5\": 1}, \"10\": {\"10\": 1144, \"0\": 46, \"14\": 9, \"12\": 1}}, \"ORACLE.run2_32\": {\"4\": {\"4\": 988, \"0\": 30, \"11\": 155, \"13\": 26, \"8\": 1}, \"14\": {\"2\": 169, \"14\": 1009, \"0\": 16, \"8\": 1, \"5\": 3, \"7\": 2}, \"5\": {\"5\": 1139, \"2\": 19, \"14\": 31, \"7\": 7, \"0\": 2, \"8\": 1, \"15\": 1}, \"10\": {\"10\": 1200}, \"13\": {\"13\": 1069, \"4\": 30, \"11\": 75, \"3\": 26}, \"9\": {\"9\": 1200}, \"6\": {\"6\": 1200}, \"3\": {\"3\": 1157, \"13\": 40, \"11\": 2, \"4\": 1}, \"15\": {\"15\": 1198, \"5\": 2}, \"7\": {\"2\": 32, \"7\": 1074, \"0\": 79, \"8\": 13, \"4\": 1, \"11\": 1}, \"12\": {\"12\": 1200}, \"8\": {\"8\": 1124, \"0\": 66, \"7\": 9, \"15\": 1}, \"11\": {\"11\": 878, \"4\": 184, \"0\": 17, \"13\": 114, \"7\": 7}, \"2\": {\"2\": 945, \"0\": 49, \"14\": 174, \"7\": 31, \"8\": 1}, \"1\": {\"1\": 1200}, \"0\": {\"4\": 52, \"0\": 918, \"7\": 56, \"8\": 100, \"14\": 8, \"2\": 62, \"11\": 4}}, \"ORACLE.run2_44\": {\"8\": {\"8\": 1013, \"0\": 158, \"5\": 17, \"15\": 12}, \"11\": {\"11\": 1200}, \"14\": {\"14\": 1069, \"5\": 50, \"4\": 77, \"15\": 3, \"8\": 1}, \"10\": {\"10\": 1183, \"7\": 14, \"9\": 3}, \"3\": {\"3\": 1117, \"12\": 83}, \"15\": {\"15\": 1128, \"5\": 23, \"8\": 38, \"0\": 4, \"14\": 6, \"4\": 1}, \"2\": {\"2\": 1198, \"1\": 2}, \"12\": {\"12\": 1095, \"3\": 105}, \"4\": {\"4\": 1121, \"14\": 79}, \"1\": {\"1\": 1192, \"2\": 7, \"3\": 1}, \"0\": {\"0\": 909, \"8\": 282, \"15\": 7, \"5\": 2}, \"9\": {\"6\": 12, \"9\": 837, \"7\": 350, \"13\": 1}, \"5\": {\"5\": 1148, \"15\": 7, \"14\": 24, \"8\": 21}, \"6\": {\"6\": 1179, \"7\": 6, \"13\": 15}, \"7\": {\"7\": 928, \"9\": 269, \"6\": 3}, \"13\": {\"13\": 1167, \"6\": 13, \"11\": 1, \"4\": 18, \"14\": 1}}, \"ORACLE.run2_8\": {\"13\": {\"13\": 1130, \"10\": 52, \"7\": 11, \"4\": 3, \"1\": 2, \"5\": 2}, \"3\": {\"3\": 1200}, \"15\": {\"15\": 1189, \"12\": 11}, \"4\": {\"4\": 957, \"7\": 234, \"6\": 8, \"1\": 1}, \"7\": {\"7\": 1061, \"4\": 137, \"13\": 2}, \"2\": {\"2\": 1200}, \"1\": {\"1\": 1105, \"13\": 49, \"5\": 38, \"14\": 5, \"10\": 3}, \"0\": {\"0\": 1200}, \"12\": {\"12\": 1189, \"15\": 11}, \"6\": {\"6\": 1098, \"14\": 99, \"8\": 3}, \"11\": {\"11\": 851, \"8\": 339, \"12\": 3, \"7\": 6, \"6\": 1}, \"9\": {\"9\": 1200}, \"5\": {\"5\": 985, \"10\": 188, \"1\": 23, \"13\": 3, \"14\": 1}, \"10\": {\"10\": 1047, \"5\": 115, \"13\": 36, \"1\": 2}, \"14\": {\"14\": 1102, \"6\": 95, \"1\": 3}, \"8\": {\"8\": 1122, \"11\": 69, \"6\": 7, \"14\": 2}}, \"ORACLE.run2_20\": {\"6\": {\"6\": 1173, \"10\": 14, \"7\": 13}, \"11\": {\"11\": 1200}, \"5\": {\"2\": 238, \"5\": 611, \"3\": 104, \"1\": 112, \"9\": 104, \"4\": 4, \"15\": 17, \"0\": 5, \"7\": 5}, \"14\": {\"14\": 1108, \"8\": 92}, \"2\": {\"2\": 476, \"5\": 227, \"9\": 297, \"3\": 96, \"15\": 91, \"1\": 10, \"4\": 3}, \"7\": {\"7\": 1054, \"3\": 117, \"4\": 8, \"9\": 4, \"6\": 11, \"10\": 3, \"5\": 2, \"15\": 1}, \"3\": {\"4\": 64, \"9\": 144, \"3\": 571, \"5\": 115, \"7\": 142, \"2\": 126, \"15\": 34, \"12\": 4}, \"4\": {\"4\": 1097, \"3\": 57, \"9\": 19, \"2\": 3, \"15\": 2, \"12\": 5, \"7\": 13, \"10\": 2, \"5\": 2}, \"9\": {\"5\": 71, \"9\": 478, \"2\": 328, \"15\": 185, \"3\": 121, \"4\": 10, \"1\": 7}, \"12\": {\"12\": 1141, \"15\": 1, \"13\": 54, \"4\": 3, \"3\": 1}, \"0\": {\"0\": 1184, \"1\": 11, \"8\": 5}, \"10\": {\"10\": 1150, \"6\": 35, \"4\": 6, \"12\": 2, \"7\": 7}, \"8\": {\"8\": 1092, \"14\": 102, \"0\": 6}, \"13\": {\"13\": 1119, \"12\": 71, \"15\": 9, \"3\": 1}, \"1\": {\"1\": 1127, \"5\": 58, \"15\": 4, \"9\": 6, \"2\": 5}, \"15\": {\"15\": 773, \"2\": 111, \"9\": 219, \"3\": 36, \"12\": 14, \"7\": 3, \"5\": 11, \"1\": 11, \"13\": 20, \"4\": 2}}, \"ORACLE.run2_38\": {\"3\": {\"13\": 270, \"3\": 877, \"10\": 52, \"11\": 1}, \"8\": {\"8\": 1042, \"5\": 152, \"7\": 3, \"9\": 1, \"0\": 2}, \"0\": {\"0\": 1175, \"7\": 21, \"9\": 1, \"8\": 2, \"3\": 1}, \"2\": {\"2\": 1102, \"14\": 98}, \"4\": {\"4\": 1191, \"10\": 8, \"7\": 1}, \"7\": {\"7\": 1165, \"8\": 9, \"5\": 1, \"14\": 6, \"0\": 13, \"4\": 2, \"10\": 2, \"12\": 2}, \"12\": {\"12\": 1196, \"4\": 1, \"14\": 1, \"5\": 1, \"7\": 1}, \"6\": {\"6\": 1195, \"15\": 5}, \"15\": {\"1\": 147, \"15\": 1028, \"6\": 21, \"5\": 4}, \"11\": {\"11\": 1200}, \"9\": {\"9\": 1200}, \"14\": {\"14\": 913, \"7\": 28, \"2\": 225, \"5\": 8, \"12\": 17, \"8\": 3, \"4\": 6}, \"10\": {\"10\": 1135, \"13\": 30, \"3\": 25, \"4\": 7, \"7\": 3}, \"5\": {\"5\": 867, \"8\": 326, \"14\": 3, \"1\": 1, \"7\": 2, \"12\": 1}, \"1\": {\"1\": 1129, \"15\": 71}, \"13\": {\"13\": 962, \"10\": 42, \"3\": 196}}, \"ORACLE.run2_26\": {\"5\": {\"5\": 908, \"6\": 256, \"15\": 22, \"14\": 3, \"1\": 7, \"10\": 4}, \"8\": {\"8\": 872, \"2\": 191, \"9\": 111, \"10\": 9, \"15\": 3, \"0\": 10, \"7\": 3, \"14\": 1}, \"4\": {\"4\": 1196, \"7\": 1, \"3\": 3}, \"12\": {\"12\": 1200}, \"6\": {\"5\": 144, \"6\": 1026, \"1\": 12, \"14\": 13, \"10\": 5}, \"7\": {\"2\": 117, \"7\": 810, \"9\": 58, \"3\": 186, \"13\": 24, \"8\": 5}, \"10\": {\"6\": 32, \"0\": 299, \"10\": 462, \"1\": 42, \"14\": 243, \"8\": 90, \"11\": 2, \"15\": 22, \"9\": 3, \"2\": 3, \"5\": 2}, \"0\": {\"0\": 778, \"15\": 36, \"10\": 229, \"14\": 135, \"8\": 20, \"2\": 2}, \"15\": {\"15\": 1121, \"0\": 32, \"2\": 19, \"8\": 15, \"14\": 3, \"10\": 8, \"5\": 2}, \"9\": {\"9\": 848, \"7\": 63, \"8\": 125, \"13\": 91, \"2\": 71, \"15\": 1, \"3\": 1}, \"11\": {\"11\": 1200}, \"14\": {\"14\": 836, \"1\": 65, \"0\": 150, \"10\": 139, \"6\": 7, \"5\": 2, \"15\": 1}, \"2\": {\"2\": 815, \"8\": 220, \"9\": 89, \"7\": 62, \"0\": 2, \"15\": 11, \"3\": 1}, \"13\": {\"13\": 1131, \"9\": 49, \"7\": 19, \"2\": 1}, \"3\": {\"7\": 140, \"3\": 1055, \"2\": 3, \"13\": 2}, \"1\": {\"1\": 1160, \"14\": 28, \"10\": 1, \"6\": 11}}, \"ORACLE.run1_50\": {\"7\": {\"7\": 1084, \"4\": 23, \"5\": 93}, \"10\": {\"10\": 1184, \"8\": 13, \"0\": 3}, \"0\": {\"0\": 1149, \"2\": 46, \"10\": 5}, \"11\": {\"11\": 1146, \"9\": 32, \"12\": 13, \"1\": 1, \"15\": 8}, \"2\": {\"0\": 38, \"2\": 1162}, \"14\": {\"14\": 1199, \"2\": 1}, \"9\": {\"9\": 1004, \"11\": 101, \"12\": 90, \"15\": 5}, \"13\": {\"13\": 1195, \"1\": 5}, \"8\": {\"8\": 1188, \"10\": 12}, \"15\": {\"11\": 15, \"15\": 1102, \"6\": 80, \"9\": 1, \"12\": 1, \"5\": 1}, \"4\": {\"4\": 946, \"5\": 81, \"7\": 139, \"15\": 20, \"6\": 14}, \"5\": {\"6\": 204, \"7\": 361, \"5\": 533, \"4\": 52, \"13\": 39, \"15\": 9, \"1\": 2}, \"3\": {\"3\": 1199, \"7\": 1}, \"1\": {\"1\": 1174, \"13\": 21, \"10\": 1, \"2\": 1, \"11\": 3}, \"6\": {\"5\": 76, \"6\": 1052, \"15\": 71, \"4\": 1}, \"12\": {\"12\": 1137, \"9\": 52, \"11\": 11}}, \"ORACLE.run1_14\": {\"14\": {\"14\": 1073, \"13\": 44, \"3\": 19, \"6\": 22, \"2\": 40, \"5\": 1, \"0\": 1}, \"6\": {\"6\": 706, \"14\": 140, \"13\": 313, \"2\": 33, \"3\": 8}, \"5\": {\"5\": 1107, \"14\": 5, \"7\": 5, \"2\": 57, \"3\": 7, \"4\": 19}, \"15\": {\"15\": 1200}, \"11\": {\"11\": 1200}, \"8\": {\"8\": 1200}, \"12\": {\"12\": 1200}, \"1\": {\"1\": 1200}, \"2\": {\"2\": 597, \"14\": 228, \"13\": 45, \"6\": 98, \"7\": 7, \"4\": 37, \"5\": 141, \"3\": 47}, \"13\": {\"13\": 262, \"14\": 363, \"6\": 397, \"2\": 64, \"15\": 108, \"3\": 1, \"4\": 4, \"5\": 1}, \"3\": {\"3\": 1180, \"0\": 6, \"14\": 10, \"5\": 1, \"6\": 2, \"2\": 1}, \"0\": {\"0\": 1100, \"3\": 61, \"10\": 35, \"8\": 1, \"14\": 3}, \"9\": {\"9\": 1200}, \"4\": {\"4\": 1153, \"2\": 6, \"5\": 40, \"10\": 1}, \"7\": {\"7\": 1199, \"5\": 1}, \"10\": {\"10\": 1200}}, \"ORACLE.run1_32\": {\"4\": {\"4\": 1046, \"13\": 25, \"2\": 128, \"8\": 1}, \"14\": {\"14\": 670, \"7\": 272, \"5\": 54, \"2\": 73, \"0\": 65, \"8\": 38, \"4\": 26, \"11\": 2}, \"5\": {\"5\": 694, \"7\": 256, \"14\": 67, \"8\": 110, \"0\": 71, \"4\": 1, \"2\": 1}, \"10\": {\"10\": 1200}, \"13\": {\"13\": 951, \"4\": 113, \"3\": 103, \"11\": 33}, \"9\": {\"9\": 1189, \"12\": 11}, \"6\": {\"6\": 1200}, \"3\": {\"3\": 1129, \"11\": 9, \"13\": 62}, \"15\": {\"15\": 1192, \"8\": 8}, \"7\": {\"7\": 822, \"5\": 183, \"14\": 127, \"0\": 62, \"8\": 5, \"2\": 1}, \"12\": {\"12\": 1200}, \"8\": {\"8\": 992, \"0\": 118, \"5\": 53, \"4\": 14, \"14\": 14, \"7\": 7, \"15\": 2}, \"11\": {\"11\": 1172, \"13\": 23, \"3\": 5}, \"2\": {\"2\": 1088, \"4\": 112}, \"1\": {\"1\": 1200}, \"0\": {\"0\": 951, \"7\": 90, \"14\": 23, \"8\": 82, \"5\": 45, \"2\": 9}}, \"ORACLE.run1_44\": {\"8\": {\"8\": 863, \"0\": 255, \"15\": 52, \"5\": 30}, \"11\": {\"11\": 1191, \"13\": 8, \"6\": 1}, \"14\": {\"14\": 896, \"15\": 58, \"5\": 67, \"4\": 179}, \"10\": {\"10\": 1111, \"2\": 39, \"7\": 19, \"1\": 31}, \"3\": {\"3\": 1174, \"12\": 26}, \"15\": {\"15\": 1030, \"8\": 47, \"14\": 76, \"5\": 37, \"0\": 7, \"4\": 3}, \"2\": {\"2\": 1156, \"1\": 41, \"9\": 1, \"10\": 2}, \"12\": {\"12\": 1176, \"3\": 24}, \"4\": {\"4\": 765, \"14\": 388, \"9\": 16, \"15\": 26, \"13\": 4, \"5\": 1}, \"1\": {\"1\": 1151, \"2\": 49}, \"0\": {\"0\": 1071, \"8\": 129}, \"9\": {\"9\": 535, \"6\": 191, \"13\": 118, \"7\": 328, \"4\": 8, \"2\": 17, \"11\": 3}, \"5\": {\"5\": 1063, \"15\": 66, \"14\": 63, \"8\": 6, \"4\": 2}, \"6\": {\"7\": 3, \"6\": 1019, \"13\": 143, \"9\": 35}, \"7\": {\"7\": 1082, \"9\": 107, \"10\": 10, \"6\": 1}, \"13\": {\"6\": 155, \"13\": 994, \"9\": 13, \"11\": 38}}, \"ORACLE.run1_8\": {\"13\": {\"13\": 944, \"7\": 45, \"6\": 20, \"10\": 174, \"5\": 16, \"1\": 1}, \"3\": {\"3\": 1197, \"2\": 3}, \"15\": {\"15\": 1055, \"12\": 139, \"2\": 6}, \"4\": {\"4\": 1141, \"14\": 31, \"1\": 2, \"6\": 22, \"11\": 3, \"10\": 1}, \"7\": {\"7\": 972, \"6\": 210, \"13\": 18}, \"2\": {\"2\": 906, \"15\": 25, \"3\": 198, \"12\": 71}, \"1\": {\"1\": 908, \"11\": 237, \"5\": 28, \"4\": 4, \"10\": 19, \"13\": 1, \"6\": 3}, \"0\": {\"0\": 1200}, \"12\": {\"12\": 912, \"15\": 286, \"2\": 2}, \"6\": {\"7\": 206, \"6\": 958, \"13\": 26, \"4\": 4, \"10\": 5, \"11\": 1}, \"11\": {\"11\": 667, \"4\": 13, \"1\": 452, \"5\": 8, \"14\": 29, \"6\": 7, \"8\": 21, \"10\": 3}, \"9\": {\"9\": 1200}, \"5\": {\"5\": 956, \"1\": 61, \"10\": 151, \"11\": 13, \"4\": 7, \"14\": 4, \"13\": 8}, \"10\": {\"10\": 943, \"13\": 162, \"5\": 71, \"4\": 6, \"1\": 11, \"6\": 5, \"11\": 2}, \"14\": {\"14\": 1095, \"4\": 96, \"11\": 6, \"1\": 3}, \"8\": {\"8\": 1185, \"4\": 2, \"1\": 1, \"6\": 7, \"11\": 4, \"7\": 1}}, \"ORACLE.run1_20\": {\"6\": {\"6\": 1184, \"7\": 14, \"14\": 2}, \"11\": {\"11\": 1200}, \"5\": {\"3\": 174, \"5\": 701, \"1\": 276, \"12\": 1, \"9\": 46, \"15\": 2}, \"14\": {\"14\": 1141, \"8\": 57, \"6\": 2}, \"2\": {\"2\": 842, \"7\": 121, \"12\": 134, \"13\": 26, \"9\": 47, \"15\": 28, \"4\": 2}, \"7\": {\"7\": 1041, \"9\": 49, \"2\": 94, \"6\": 5, \"3\": 1, \"4\": 6, \"12\": 3, \"8\": 1}, \"3\": {\"3\": 755, \"9\": 148, \"8\": 48, \"5\": 197, \"1\": 28, \"0\": 18, \"7\": 6}, \"4\": {\"4\": 1162, \"10\": 5, \"12\": 23, \"7\": 6, \"2\": 3, \"6\": 1}, \"9\": {\"9\": 911, \"2\": 33, \"1\": 74, \"3\": 84, \"7\": 49, \"12\": 12, \"5\": 34, \"15\": 3}, \"12\": {\"12\": 931, \"15\": 107, \"4\": 10, \"2\": 131, \"1\": 3, \"7\": 8, \"13\": 3, \"9\": 7}, \"0\": {\"0\": 1163, \"8\": 4, \"5\": 24, \"3\": 9}, \"10\": {\"10\": 1192, \"4\": 8}, \"8\": {\"8\": 1088, \"3\": 44, \"14\": 67, \"7\": 1}, \"13\": {\"13\": 1150, \"2\": 43, \"12\": 4, \"15\": 3}, \"1\": {\"1\": 846, \"5\": 241, \"15\": 47, \"9\": 49, \"12\": 8, \"3\": 9}, \"15\": {\"15\": 964, \"12\": 119, \"1\": 76, \"9\": 14, \"13\": 11, \"2\": 13, \"5\": 3}}, \"ORACLE.run1_38\": {\"3\": {\"3\": 1200}, \"8\": {\"5\": 385, \"8\": 689, \"13\": 13, \"7\": 78, \"9\": 4, \"2\": 2, \"0\": 6, \"15\": 21, \"12\": 2}, \"0\": {\"3\": 118, \"0\": 769, \"7\": 105, \"10\": 168, \"4\": 2, \"8\": 4, \"13\": 30, \"11\": 3, \"5\": 1}, \"2\": {\"2\": 1108, \"14\": 91, \"13\": 1}, \"4\": {\"4\": 1200}, \"7\": {\"7\": 1151, \"8\": 24, \"9\": 1, \"0\": 16, \"5\": 6, \"4\": 1, \"12\": 1}, \"12\": {\"12\": 1200}, \"6\": {\"6\": 1198, \"1\": 2}, \"15\": {\"15\": 1135, \"5\": 33, \"8\": 23, \"1\": 8, \"12\": 1}, \"11\": {\"11\": 1200}, \"9\": {\"9\": 1174, \"5\": 21, \"8\": 5}, \"14\": {\"14\": 1117, \"2\": 83}, \"10\": {\"10\": 1060, \"13\": 73, \"4\": 9, \"0\": 54, \"14\": 4}, \"5\": {\"8\": 393, \"5\": 641, \"7\": 63, \"15\": 50, \"9\": 44, \"13\": 1, \"12\": 2, \"6\": 1, \"2\": 2, \"0\": 3}, \"1\": {\"1\": 1198, \"6\": 2}, \"13\": {\"13\": 1048, \"10\": 81, \"2\": 40, \"14\": 20, \"0\": 10, \"8\": 1}}, \"ORACLE.run1_26\": {\"5\": {\"5\": 945, \"15\": 227, \"6\": 27, \"10\": 1}, \"8\": {\"7\": 169, \"9\": 155, \"8\": 821, \"2\": 48, \"0\": 6, \"3\": 1}, \"4\": {\"4\": 1199, \"3\": 1}, \"12\": {\"12\": 1200}, \"6\": {\"6\": 973, \"15\": 116, \"10\": 51, \"5\": 46, \"14\": 10, \"1\": 4}, \"7\": {\"7\": 920, \"8\": 132, \"3\": 56, \"2\": 68, \"9\": 24}, \"10\": {\"0\": 120, \"10\": 789, \"6\": 55, \"14\": 209, \"15\": 23, \"1\": 4}, \"0\": {\"0\": 832, \"10\": 231, \"14\": 119, \"8\": 7, \"2\": 4, \"6\": 5, \"15\": 2}, \"15\": {\"5\": 342, \"6\": 148, \"15\": 679, \"10\": 20, \"0\": 2, \"1\": 3, \"14\": 6}, \"9\": {\"9\": 692, \"13\": 209, \"8\": 194, \"7\": 22, \"2\": 72, \"3\": 9, \"0\": 2}, \"11\": {\"11\": 1200}, \"14\": {\"14\": 813, \"1\": 65, \"10\": 228, \"0\": 84, \"6\": 8, \"15\": 2}, \"2\": {\"2\": 787, \"3\": 59, \"8\": 86, \"9\": 71, \"7\": 139, \"0\": 35, \"15\": 13, \"13\": 5, \"10\": 5}, \"13\": {\"13\": 1091, \"9\": 67, \"3\": 6, \"15\": 1, \"2\": 30, \"8\": 3, \"4\": 2}, \"3\": {\"3\": 1079, \"7\": 102, \"4\": 1, \"2\": 12, \"8\": 2, \"13\": 3, \"9\": 1}, \"1\": {\"1\": 978, \"14\": 168, \"10\": 38, \"6\": 12, \"5\": 2, \"0\": 1, \"15\": 1}}}, \"per_domain_accuracy\": {\"ORACLE.run2_50\": {\"accuracy\": 0.9416145833333334, \"source?\": true}, \"ORACLE.run2_14\": {\"accuracy\": 0.9194270833333333, \"source?\": true}, \"ORACLE.run2_32\": {\"accuracy\": 0.91140625, \"source?\": true}, \"ORACLE.run2_44\": {\"accuracy\": 0.910625, \"source?\": true}, \"ORACLE.run2_8\": {\"accuracy\": 0.9185416666666667, \"source?\": true}, \"ORACLE.run2_20\": {\"accuracy\": 0.7996875, \"source?\": true}, \"ORACLE.run2_38\": {\"accuracy\": 0.9050520833333333, \"source?\": true}, \"ORACLE.run2_26\": {\"accuracy\": 0.8030208333333333, \"source?\": true}, \"ORACLE.run1_50\": {\"accuracy\": 0.9090625, \"source?\": false}, \"ORACLE.run1_14\": {\"accuracy\": 0.8738020833333333, \"source?\": false}, \"ORACLE.run1_32\": {\"accuracy\": 0.8695833333333334, \"source?\": false}, \"ORACLE.run1_44\": {\"accuracy\": 0.8477604166666667, \"source?\": false}, \"ORACLE.run1_8\": {\"accuracy\": 0.84578125, \"source?\": false}, \"ORACLE.run1_20\": {\"accuracy\": 0.8474479166666666, \"source?\": false}, \"ORACLE.run1_38\": {\"accuracy\": 0.89, \"source?\": false}, \"ORACLE.run1_26\": {\"accuracy\": 0.7811458333333333, \"source?\": false}}}, \"history\": {\"epoch_indices\": [1, 2, 3, 4, 5, 6, 7, 8, 9], \"train_label_loss\": [0.5796912848474347, 0.3948713377770591, 0.3169976499245136, 0.2726559443846678, 0.2409846760347552, 0.2130183560392193, 0.18955780235810032, 0.16912634197446183, 0.15226408300411312], \"source_val_label_loss\": [1.2561248540878296, 0.3731020987033844, 0.3357471227645874, 0.3176174461841583, 0.31418749690055847, 0.3046148419380188, 0.311903178691864, 0.3049337863922119, 0.3166717290878296], \"target_val_label_loss\": [1.2215112447738647, 0.4560389220714569, 0.4429270923137665, 0.4434547424316406, 0.4368295967578888, 0.45983293652534485, 0.49385514855384827, 0.4896339476108551, 0.5317185521125793], \"source_val_acc_label\": [0.7891666666666667, 0.8705859375, 0.8816341145833333, 0.8893684895833334, 0.888671875, 0.89107421875, 0.8957356770833333, 0.8946419270833333, 0.8970963541666667], \"target_val_acc_label\": [0.7683333333333333, 0.8472005208333333, 0.8557356770833333, 0.85791015625, 0.8580729166666666, 0.8536393229166667, 0.85474609375, 0.85376953125, 0.853515625]}, \"dataset_metrics\": {\"source\": {\"train\": {\"n_unique_x\": 896000, \"n_unique_y\": 16, \"n_batch/episode\": 33600}, \"val\": {\"n_unique_x\": 192000, \"n_unique_y\": 16, \"n_batch/episode\": 4800}, \"test\": {\"n_unique_x\": 192000, \"n_unique_y\": 16, \"n_batch/episode\": 4800}}, \"target\": {\"train\": {\"n_unique_x\": 896000, \"n_unique_y\": 16, \"n_batch/episode\": 33600}, \"val\": {\"n_unique_x\": 192000, \"n_unique_y\": 16, \"n_batch/episode\": 4800}, \"test\": {\"n_unique_x\": 192000, \"n_unique_y\": 16, \"n_batch/episode\": 4800}}}}'"
      ]
     },
     "execution_count": 29,
     "metadata": {},
     "output_type": "execute_result"
    }
   ],
   "source": [
    "json.dumps(experiment)"
   ]
  }
 ],
 "metadata": {
  "celltoolbar": "Tags",
  "kernelspec": {
   "display_name": "Python 3 (ipykernel)",
   "language": "python",
   "name": "python3"
  },
  "language_info": {
   "codemirror_mode": {
    "name": "ipython",
    "version": 3
   },
   "file_extension": ".py",
   "mimetype": "text/x-python",
   "name": "python",
   "nbconvert_exporter": "python",
   "pygments_lexer": "ipython3",
   "version": "3.8.10"
  },
  "papermill": {
   "default_parameters": {},
   "duration": 8735.460027,
   "end_time": "2022-03-30T02:14:18.883345",
   "environment_variables": {},
   "exception": null,
   "input_path": "/mnt/wd500GB/CSC500/csc500-main/csc500-notebooks/templates/tl_ptn_template.ipynb",
   "output_path": "trial.ipynb",
   "parameters": {
    "parameters": {
     "BEST_MODEL_PATH": "./best_model.pth",
     "NUM_LOGS_PER_EPOCH": 10,
     "criteria_for_best": "target_accuracy",
     "dataset_seed": 500,
     "datasets": [
      {
       "domain_prefix": "ORACLE.run1_",
       "domains": [
        32,
        38,
        8,
        44,
        14,
        50,
        20,
        26
       ],
       "episode_transforms": [],
       "labels": [
        "3123D52",
        "3123D65",
        "3123D79",
        "3123D80",
        "3123D54",
        "3123D70",
        "3123D7B",
        "3123D89",
        "3123D58",
        "3123D76",
        "3123D7D",
        "3123EFE",
        "3123D64",
        "3123D78",
        "3123D7E",
        "3124E4A"
       ],
       "num_examples_per_domain_per_label": 10000,
       "pickle_path": "/mnt/wd500GB/CSC500/csc500-main/datasets/oracle.Run1_10kExamples_stratified_ds.2022A.pkl",
       "source_or_target_dataset": "target",
       "x_transforms": []
      },
      {
       "domain_prefix": "ORACLE.run2_",
       "domains": [
        32,
        38,
        8,
        44,
        14,
        50,
        20,
        26
       ],
       "episode_transforms": [],
       "labels": [
        "3123D52",
        "3123D65",
        "3123D79",
        "3123D80",
        "3123D54",
        "3123D70",
        "3123D7B",
        "3123D89",
        "3123D58",
        "3123D76",
        "3123D7D",
        "3123EFE",
        "3123D64",
        "3123D78",
        "3123D7E",
        "3124E4A"
       ],
       "num_examples_per_domain_per_label": 10000,
       "pickle_path": "/mnt/wd500GB/CSC500/csc500-main/datasets/oracle.Run2_10kExamples_stratified_ds.2022A.pkl",
       "source_or_target_dataset": "source",
       "x_transforms": []
      }
     ],
     "device": "cuda",
     "experiment_name": "tl_1v2:oracle.run1-oracle.run2",
     "lr": 0.0001,
     "n_epoch": 50,
     "n_query": 2,
     "n_shot": 3,
     "n_way": 16,
     "patience": 3,
     "seed": 500,
     "test_k_factor": 2,
     "torch_default_dtype": "torch.float32",
     "train_k_factor": 3,
     "val_k_factor": 2,
     "x_net": [
      {
       "class": "nnReshape",
       "kargs": {
        "shape": [
         -1,
         1,
         2,
         256
        ]
       }
      },
      {
       "class": "Conv2d",
       "kargs": {
        "bias": false,
        "in_channels": 1,
        "kernel_size": [
         1,
         7
        ],
        "out_channels": 256,
        "padding": [
         0,
         3
        ]
       }
      },
      {
       "class": "ReLU",
       "kargs": {
        "inplace": true
       }
      },
      {
       "class": "BatchNorm2d",
       "kargs": {
        "num_features": 256
       }
      },
      {
       "class": "Conv2d",
       "kargs": {
        "bias": true,
        "in_channels": 256,
        "kernel_size": [
         2,
         7
        ],
        "out_channels": 80,
        "padding": [
         0,
         3
        ]
       }
      },
      {
       "class": "ReLU",
       "kargs": {
        "inplace": true
       }
      },
      {
       "class": "BatchNorm2d",
       "kargs": {
        "num_features": 80
       }
      },
      {
       "class": "Flatten",
       "kargs": {}
      },
      {
       "class": "Linear",
       "kargs": {
        "in_features": 20480,
        "out_features": 256
       }
      },
      {
       "class": "ReLU",
       "kargs": {
        "inplace": true
       }
      },
      {
       "class": "BatchNorm1d",
       "kargs": {
        "num_features": 256
       }
      },
      {
       "class": "Linear",
       "kargs": {
        "in_features": 256,
        "out_features": 256
       }
      }
     ]
    }
   },
   "start_time": "2022-03-29T23:48:43.423318",
   "version": "2.3.4"
  }
 },
 "nbformat": 4,
 "nbformat_minor": 5
}