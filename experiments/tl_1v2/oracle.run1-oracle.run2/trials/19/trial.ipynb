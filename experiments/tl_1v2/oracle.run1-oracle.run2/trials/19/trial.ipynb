{
 "cells": [
  {
   "cell_type": "markdown",
   "id": "9fea5f46",
   "metadata": {
    "papermill": {
     "duration": 0.022462,
     "end_time": "2022-03-28T16:28:09.692778",
     "exception": false,
     "start_time": "2022-03-28T16:28:09.670316",
     "status": "completed"
    },
    "tags": []
   },
   "source": [
    "# Transfer Learning Template"
   ]
  },
  {
   "cell_type": "code",
   "execution_count": 1,
   "id": "0902182a",
   "metadata": {
    "execution": {
     "iopub.execute_input": "2022-03-28T16:28:09.744220Z",
     "iopub.status.busy": "2022-03-28T16:28:09.743834Z",
     "iopub.status.idle": "2022-03-28T16:28:10.728599Z",
     "shell.execute_reply": "2022-03-28T16:28:10.728279Z"
    },
    "papermill": {
     "duration": 1.016753,
     "end_time": "2022-03-28T16:28:10.728670",
     "exception": false,
     "start_time": "2022-03-28T16:28:09.711917",
     "status": "completed"
    },
    "tags": []
   },
   "outputs": [],
   "source": [
    "%load_ext autoreload\n",
    "%autoreload 2\n",
    "%matplotlib inline\n",
    "\n",
    "    \n",
    "import os, json, sys, time, random\n",
    "import numpy as np\n",
    "import torch\n",
    "from torch.optim import Adam\n",
    "from  easydict import EasyDict\n",
    "import matplotlib.pyplot as plt\n",
    "\n",
    "from steves_models.steves_ptn import Steves_Prototypical_Network\n",
    "\n",
    "from steves_utils.lazy_iterable_wrapper import Lazy_Iterable_Wrapper\n",
    "from steves_utils.iterable_aggregator import Iterable_Aggregator\n",
    "from steves_utils.ptn_train_eval_test_jig import  PTN_Train_Eval_Test_Jig\n",
    "from steves_utils.torch_sequential_builder import build_sequential\n",
    "from steves_utils.torch_utils import get_dataset_metrics, ptn_confusion_by_domain_over_dataloader\n",
    "from steves_utils.utils_v2 import (per_domain_accuracy_from_confusion, get_datasets_base_path)\n",
    "from steves_utils.PTN.utils import independent_accuracy_assesment\n",
    "\n",
    "from torch.utils.data import DataLoader\n",
    "\n",
    "from steves_utils.stratified_dataset.episodic_accessor import Episodic_Accessor_Factory\n",
    "\n",
    "from steves_utils.ptn_do_report import (\n",
    "    get_loss_curve,\n",
    "    get_results_table,\n",
    "    get_parameters_table,\n",
    "    get_domain_accuracies,\n",
    ")\n",
    "\n",
    "from steves_utils.transforms import get_chained_transform"
   ]
  },
  {
   "cell_type": "markdown",
   "id": "41c840b4",
   "metadata": {
    "papermill": {
     "duration": 0.017157,
     "end_time": "2022-03-28T16:28:10.758900",
     "exception": false,
     "start_time": "2022-03-28T16:28:10.741743",
     "status": "completed"
    },
    "tags": []
   },
   "source": [
    "# Allowed Parameters\n",
    "These are allowed parameters, not defaults\n",
    "Each of these values need to be present in the injected parameters (the notebook will raise an exception if they are not present)\n",
    "\n",
    "Papermill uses the cell tag \"parameters\" to inject the real parameters below this cell.\n",
    "Enable tags to see what I mean"
   ]
  },
  {
   "cell_type": "code",
   "execution_count": 2,
   "id": "fd44eb83",
   "metadata": {
    "execution": {
     "iopub.execute_input": "2022-03-28T16:28:10.789164Z",
     "iopub.status.busy": "2022-03-28T16:28:10.788890Z",
     "iopub.status.idle": "2022-03-28T16:28:10.805050Z",
     "shell.execute_reply": "2022-03-28T16:28:10.804586Z"
    },
    "papermill": {
     "duration": 0.032957,
     "end_time": "2022-03-28T16:28:10.805144",
     "exception": false,
     "start_time": "2022-03-28T16:28:10.772187",
     "status": "completed"
    },
    "tags": []
   },
   "outputs": [],
   "source": [
    "required_parameters = {\n",
    "    \"experiment_name\",\n",
    "    \"lr\",\n",
    "    \"device\",\n",
    "    \"seed\",\n",
    "    \"dataset_seed\",\n",
    "    \"n_shot\",\n",
    "    \"n_query\",\n",
    "    \"n_way\",\n",
    "    \"train_k_factor\",\n",
    "    \"val_k_factor\",\n",
    "    \"test_k_factor\",\n",
    "    \"n_epoch\",\n",
    "    \"patience\",\n",
    "    \"criteria_for_best\",\n",
    "    \"x_net\",\n",
    "    \"datasets\",\n",
    "    \"torch_default_dtype\",\n",
    "    \"NUM_LOGS_PER_EPOCH\",\n",
    "    \"BEST_MODEL_PATH\",\n",
    "    \"x_shape\",\n",
    "}"
   ]
  },
  {
   "cell_type": "code",
   "execution_count": 3,
   "id": "fa3f0049",
   "metadata": {
    "execution": {
     "iopub.execute_input": "2022-03-28T16:28:10.846021Z",
     "iopub.status.busy": "2022-03-28T16:28:10.845455Z",
     "iopub.status.idle": "2022-03-28T16:28:10.861791Z",
     "shell.execute_reply": "2022-03-28T16:28:10.861325Z"
    },
    "papermill": {
     "duration": 0.039254,
     "end_time": "2022-03-28T16:28:10.861884",
     "exception": false,
     "start_time": "2022-03-28T16:28:10.822630",
     "status": "completed"
    },
    "tags": [
     "parameters"
    ]
   },
   "outputs": [],
   "source": [
    "from steves_utils.CORES.utils import (\n",
    "    ALL_NODES,\n",
    "    ALL_NODES_MINIMUM_1000_EXAMPLES,\n",
    "    ALL_DAYS\n",
    ")\n",
    "\n",
    "from steves_utils.ORACLE.utils_v2 import (\n",
    "    ALL_DISTANCES_FEET_NARROWED,\n",
    "    ALL_RUNS,\n",
    "    ALL_SERIAL_NUMBERS,\n",
    ")\n",
    "\n",
    "standalone_parameters = {}\n",
    "standalone_parameters[\"experiment_name\"] = \"STANDALONE PTN\"\n",
    "standalone_parameters[\"lr\"] = 0.001\n",
    "standalone_parameters[\"device\"] = \"cuda\"\n",
    "\n",
    "standalone_parameters[\"seed\"] = 1337\n",
    "standalone_parameters[\"dataset_seed\"] = 1337\n",
    "\n",
    "standalone_parameters[\"n_way\"] = 8\n",
    "standalone_parameters[\"n_shot\"] = 3\n",
    "standalone_parameters[\"n_query\"]  = 2\n",
    "standalone_parameters[\"train_k_factor\"] = 1\n",
    "standalone_parameters[\"val_k_factor\"] = 2\n",
    "standalone_parameters[\"test_k_factor\"] = 2\n",
    "\n",
    "\n",
    "standalone_parameters[\"n_epoch\"] = 50\n",
    "\n",
    "standalone_parameters[\"patience\"] = 10\n",
    "standalone_parameters[\"criteria_for_best\"] = \"source_loss\"\n",
    "\n",
    "standalone_parameters[\"datasets\"] = [\n",
    "    {\n",
    "        \"labels\": ALL_SERIAL_NUMBERS,\n",
    "        \"domains\": ALL_DISTANCES_FEET_NARROWED,\n",
    "        \"num_examples_per_domain_per_label\": 100,\n",
    "        \"pickle_path\": os.path.join(get_datasets_base_path(), \"oracle.Run1_framed_2000Examples_stratified_ds.2022A.pkl\"),\n",
    "        \"source_or_target_dataset\": \"source\",\n",
    "        \"x_transforms\": [\"unit_mag\", \"minus_two\"],\n",
    "        \"episode_transforms\": [],\n",
    "        \"domain_prefix\": \"ORACLE_\"\n",
    "    },\n",
    "    {\n",
    "        \"labels\": ALL_NODES,\n",
    "        \"domains\": ALL_DAYS,\n",
    "        \"num_examples_per_domain_per_label\": 100,\n",
    "        \"pickle_path\": os.path.join(get_datasets_base_path(), \"cores.stratified_ds.2022A.pkl\"),\n",
    "        \"source_or_target_dataset\": \"target\",\n",
    "        \"x_transforms\": [\"unit_power\", \"times_zero\"],\n",
    "        \"episode_transforms\": [],\n",
    "        \"domain_prefix\": \"CORES_\"\n",
    "    }   \n",
    "]\n",
    "\n",
    "standalone_parameters[\"torch_default_dtype\"] = \"torch.float32\" \n",
    "\n",
    "\n",
    "\n",
    "standalone_parameters[\"x_net\"] =     [\n",
    "    {\"class\": \"nnReshape\", \"kargs\": {\"shape\":[-1, 1, 2, 256]}},\n",
    "    {\"class\": \"Conv2d\", \"kargs\": { \"in_channels\":1, \"out_channels\":256, \"kernel_size\":(1,7), \"bias\":False, \"padding\":(0,3), },},\n",
    "    {\"class\": \"ReLU\", \"kargs\": {\"inplace\": True}},\n",
    "    {\"class\": \"BatchNorm2d\", \"kargs\": {\"num_features\":256}},\n",
    "\n",
    "    {\"class\": \"Conv2d\", \"kargs\": { \"in_channels\":256, \"out_channels\":80, \"kernel_size\":(2,7), \"bias\":True, \"padding\":(0,3), },},\n",
    "    {\"class\": \"ReLU\", \"kargs\": {\"inplace\": True}},\n",
    "    {\"class\": \"BatchNorm2d\", \"kargs\": {\"num_features\":80}},\n",
    "    {\"class\": \"Flatten\", \"kargs\": {}},\n",
    "\n",
    "    {\"class\": \"Linear\", \"kargs\": {\"in_features\": 80*256, \"out_features\": 256}}, # 80 units per IQ pair\n",
    "    {\"class\": \"ReLU\", \"kargs\": {\"inplace\": True}},\n",
    "    {\"class\": \"BatchNorm1d\", \"kargs\": {\"num_features\":256}},\n",
    "\n",
    "    {\"class\": \"Linear\", \"kargs\": {\"in_features\": 256, \"out_features\": 256}},\n",
    "]\n",
    "\n",
    "# Parameters relevant to results\n",
    "# These parameters will basically never need to change\n",
    "standalone_parameters[\"NUM_LOGS_PER_EPOCH\"] = 10\n",
    "standalone_parameters[\"BEST_MODEL_PATH\"] = \"./best_model.pth\"\n",
    "\n",
    "\n",
    "\n",
    "\n"
   ]
  },
  {
   "cell_type": "code",
   "execution_count": 4,
   "id": "3c4bbcfb",
   "metadata": {
    "execution": {
     "iopub.execute_input": "2022-03-28T16:28:10.901391Z",
     "iopub.status.busy": "2022-03-28T16:28:10.899670Z",
     "iopub.status.idle": "2022-03-28T16:28:10.913789Z",
     "shell.execute_reply": "2022-03-28T16:28:10.913321Z"
    },
    "papermill": {
     "duration": 0.033398,
     "end_time": "2022-03-28T16:28:10.913881",
     "exception": false,
     "start_time": "2022-03-28T16:28:10.880483",
     "status": "completed"
    },
    "tags": [
     "injected-parameters"
    ]
   },
   "outputs": [],
   "source": [
    "# Parameters\n",
    "parameters = {\n",
    "    \"experiment_name\": \"tl_1v2:oracle.run1-oracle.run2\",\n",
    "    \"device\": \"cuda\",\n",
    "    \"lr\": 0.0001,\n",
    "    \"n_shot\": 3,\n",
    "    \"n_query\": 2,\n",
    "    \"train_k_factor\": 3,\n",
    "    \"val_k_factor\": 2,\n",
    "    \"test_k_factor\": 2,\n",
    "    \"torch_default_dtype\": \"torch.float32\",\n",
    "    \"n_epoch\": 50,\n",
    "    \"patience\": 3,\n",
    "    \"criteria_for_best\": \"target_accuracy\",\n",
    "    \"x_net\": [\n",
    "        {\"class\": \"nnReshape\", \"kargs\": {\"shape\": [-1, 1, 2, 256]}},\n",
    "        {\n",
    "            \"class\": \"Conv2d\",\n",
    "            \"kargs\": {\n",
    "                \"in_channels\": 1,\n",
    "                \"out_channels\": 256,\n",
    "                \"kernel_size\": [1, 7],\n",
    "                \"bias\": False,\n",
    "                \"padding\": [0, 3],\n",
    "            },\n",
    "        },\n",
    "        {\"class\": \"ReLU\", \"kargs\": {\"inplace\": True}},\n",
    "        {\"class\": \"BatchNorm2d\", \"kargs\": {\"num_features\": 256}},\n",
    "        {\n",
    "            \"class\": \"Conv2d\",\n",
    "            \"kargs\": {\n",
    "                \"in_channels\": 256,\n",
    "                \"out_channels\": 80,\n",
    "                \"kernel_size\": [2, 7],\n",
    "                \"bias\": True,\n",
    "                \"padding\": [0, 3],\n",
    "            },\n",
    "        },\n",
    "        {\"class\": \"ReLU\", \"kargs\": {\"inplace\": True}},\n",
    "        {\"class\": \"BatchNorm2d\", \"kargs\": {\"num_features\": 80}},\n",
    "        {\"class\": \"Flatten\", \"kargs\": {}},\n",
    "        {\"class\": \"Linear\", \"kargs\": {\"in_features\": 20480, \"out_features\": 256}},\n",
    "        {\"class\": \"ReLU\", \"kargs\": {\"inplace\": True}},\n",
    "        {\"class\": \"BatchNorm1d\", \"kargs\": {\"num_features\": 256}},\n",
    "        {\"class\": \"Linear\", \"kargs\": {\"in_features\": 256, \"out_features\": 256}},\n",
    "    ],\n",
    "    \"NUM_LOGS_PER_EPOCH\": 10,\n",
    "    \"BEST_MODEL_PATH\": \"./best_model.pth\",\n",
    "    \"n_way\": 16,\n",
    "    \"datasets\": [\n",
    "        {\n",
    "            \"labels\": [\n",
    "                \"3123D52\",\n",
    "                \"3123D65\",\n",
    "                \"3123D79\",\n",
    "                \"3123D80\",\n",
    "                \"3123D54\",\n",
    "                \"3123D70\",\n",
    "                \"3123D7B\",\n",
    "                \"3123D89\",\n",
    "                \"3123D58\",\n",
    "                \"3123D76\",\n",
    "                \"3123D7D\",\n",
    "                \"3123EFE\",\n",
    "                \"3123D64\",\n",
    "                \"3123D78\",\n",
    "                \"3123D7E\",\n",
    "                \"3124E4A\",\n",
    "            ],\n",
    "            \"domains\": [32, 38, 8, 44, 14, 50, 20, 26],\n",
    "            \"num_examples_per_domain_per_label\": 10000,\n",
    "            \"pickle_path\": \"/mnt/wd500GB/CSC500/csc500-main/datasets/oracle.Run1_10kExamples_stratified_ds.2022A.pkl\",\n",
    "            \"source_or_target_dataset\": \"source\",\n",
    "            \"x_transforms\": [\"unit_mag\"],\n",
    "            \"episode_transforms\": [],\n",
    "            \"domain_prefix\": \"ORACLE.run1_\",\n",
    "        },\n",
    "        {\n",
    "            \"labels\": [\n",
    "                \"3123D52\",\n",
    "                \"3123D65\",\n",
    "                \"3123D79\",\n",
    "                \"3123D80\",\n",
    "                \"3123D54\",\n",
    "                \"3123D70\",\n",
    "                \"3123D7B\",\n",
    "                \"3123D89\",\n",
    "                \"3123D58\",\n",
    "                \"3123D76\",\n",
    "                \"3123D7D\",\n",
    "                \"3123EFE\",\n",
    "                \"3123D64\",\n",
    "                \"3123D78\",\n",
    "                \"3123D7E\",\n",
    "                \"3124E4A\",\n",
    "            ],\n",
    "            \"domains\": [32, 38, 8, 44, 14, 50, 20, 26],\n",
    "            \"num_examples_per_domain_per_label\": 10000,\n",
    "            \"pickle_path\": \"/mnt/wd500GB/CSC500/csc500-main/datasets/oracle.Run2_10kExamples_stratified_ds.2022A.pkl\",\n",
    "            \"source_or_target_dataset\": \"target\",\n",
    "            \"x_transforms\": [\"unit_mag\"],\n",
    "            \"episode_transforms\": [],\n",
    "            \"domain_prefix\": \"ORACLE.run2_\",\n",
    "        },\n",
    "    ],\n",
    "    \"dataset_seed\": 7,\n",
    "    \"seed\": 7,\n",
    "}\n"
   ]
  },
  {
   "cell_type": "code",
   "execution_count": 5,
   "id": "8fa1cc33",
   "metadata": {
    "execution": {
     "iopub.execute_input": "2022-03-28T16:28:10.949823Z",
     "iopub.status.busy": "2022-03-28T16:28:10.946591Z",
     "iopub.status.idle": "2022-03-28T16:28:10.960888Z",
     "shell.execute_reply": "2022-03-28T16:28:10.960429Z"
    },
    "papermill": {
     "duration": 0.030362,
     "end_time": "2022-03-28T16:28:10.960990",
     "exception": false,
     "start_time": "2022-03-28T16:28:10.930628",
     "status": "completed"
    },
    "tags": []
   },
   "outputs": [],
   "source": [
    "# Set this to True if you want to run this template directly\n",
    "STANDALONE = False\n",
    "if STANDALONE:\n",
    "    print(\"parameters not injected, running with standalone_parameters\")\n",
    "    parameters = standalone_parameters\n",
    "\n",
    "if not 'parameters' in locals() and not 'parameters' in globals():\n",
    "    raise Exception(\"Parameter injection failed\")\n",
    "\n",
    "#Use an easy dict for all the parameters\n",
    "p = EasyDict(parameters)\n",
    "\n",
    "if \"x_shape\" not in p:\n",
    "    p.x_shape = [2,256] # Default to this if we dont supply x_shape\n",
    "\n",
    "\n",
    "supplied_keys = set(p.keys())\n",
    "\n",
    "if  supplied_keys != required_parameters:\n",
    "    print(\"Parameters are incorrect\")\n",
    "    if len(supplied_keys - required_parameters)>0: print(\"Shouldn't have:\", str(supplied_keys - required_parameters))\n",
    "    if len(required_parameters - supplied_keys)>0: print(\"Need to have:\", str(required_parameters - supplied_keys))\n",
    "    raise RuntimeError(\"Parameters are incorrect\")"
   ]
  },
  {
   "cell_type": "code",
   "execution_count": 6,
   "id": "3a028d58",
   "metadata": {
    "execution": {
     "iopub.execute_input": "2022-03-28T16:28:11.001823Z",
     "iopub.status.busy": "2022-03-28T16:28:10.993979Z",
     "iopub.status.idle": "2022-03-28T16:28:11.009136Z",
     "shell.execute_reply": "2022-03-28T16:28:11.008712Z"
    },
    "papermill": {
     "duration": 0.030367,
     "end_time": "2022-03-28T16:28:11.009231",
     "exception": false,
     "start_time": "2022-03-28T16:28:10.978864",
     "status": "completed"
    },
    "tags": []
   },
   "outputs": [],
   "source": [
    "###################################\n",
    "# Set the RNGs and make it all deterministic\n",
    "###################################\n",
    "np.random.seed(p.seed)\n",
    "random.seed(p.seed)\n",
    "torch.manual_seed(p.seed)\n",
    "\n",
    "torch.use_deterministic_algorithms(True) "
   ]
  },
  {
   "cell_type": "code",
   "execution_count": 7,
   "id": "b691acf6",
   "metadata": {
    "execution": {
     "iopub.execute_input": "2022-03-28T16:28:11.042616Z",
     "iopub.status.busy": "2022-03-28T16:28:11.041831Z",
     "iopub.status.idle": "2022-03-28T16:28:11.056754Z",
     "shell.execute_reply": "2022-03-28T16:28:11.056263Z"
    },
    "papermill": {
     "duration": 0.029255,
     "end_time": "2022-03-28T16:28:11.056852",
     "exception": false,
     "start_time": "2022-03-28T16:28:11.027597",
     "status": "completed"
    },
    "tags": []
   },
   "outputs": [],
   "source": [
    "###########################################\n",
    "# The stratified datasets honor this\n",
    "###########################################\n",
    "torch.set_default_dtype(eval(p.torch_default_dtype))"
   ]
  },
  {
   "cell_type": "code",
   "execution_count": 8,
   "id": "b5fba671",
   "metadata": {
    "execution": {
     "iopub.execute_input": "2022-03-28T16:28:11.089958Z",
     "iopub.status.busy": "2022-03-28T16:28:11.089698Z",
     "iopub.status.idle": "2022-03-28T16:28:11.129294Z",
     "shell.execute_reply": "2022-03-28T16:28:11.128832Z"
    },
    "papermill": {
     "duration": 0.054596,
     "end_time": "2022-03-28T16:28:11.129386",
     "exception": false,
     "start_time": "2022-03-28T16:28:11.074790",
     "status": "completed"
    },
    "tags": []
   },
   "outputs": [],
   "source": [
    "###################################\n",
    "# Build the network(s)\n",
    "# Note: It's critical to do this AFTER setting the RNG\n",
    "###################################\n",
    "x_net = build_sequential(p.x_net)"
   ]
  },
  {
   "cell_type": "code",
   "execution_count": 9,
   "id": "5d7e61cc",
   "metadata": {
    "execution": {
     "iopub.execute_input": "2022-03-28T16:28:11.163430Z",
     "iopub.status.busy": "2022-03-28T16:28:11.162940Z",
     "iopub.status.idle": "2022-03-28T16:28:11.177207Z",
     "shell.execute_reply": "2022-03-28T16:28:11.176878Z"
    },
    "papermill": {
     "duration": 0.030493,
     "end_time": "2022-03-28T16:28:11.177282",
     "exception": false,
     "start_time": "2022-03-28T16:28:11.146789",
     "status": "completed"
    },
    "tags": []
   },
   "outputs": [],
   "source": [
    "start_time_secs = time.time()"
   ]
  },
  {
   "cell_type": "code",
   "execution_count": 10,
   "id": "c6b67dfd",
   "metadata": {
    "execution": {
     "iopub.execute_input": "2022-03-28T16:28:11.211614Z",
     "iopub.status.busy": "2022-03-28T16:28:11.211365Z",
     "iopub.status.idle": "2022-03-28T16:28:11.222470Z",
     "shell.execute_reply": "2022-03-28T16:28:11.222256Z"
    },
    "papermill": {
     "duration": 0.025777,
     "end_time": "2022-03-28T16:28:11.222519",
     "exception": false,
     "start_time": "2022-03-28T16:28:11.196742",
     "status": "completed"
    },
    "tags": []
   },
   "outputs": [],
   "source": [
    "p.domains_source = []\n",
    "p.domains_target = []\n",
    "\n",
    "\n",
    "train_original_source = []\n",
    "val_original_source   = []\n",
    "test_original_source  = []\n",
    "\n",
    "train_original_target = []\n",
    "val_original_target   = []\n",
    "test_original_target  = []"
   ]
  },
  {
   "cell_type": "code",
   "execution_count": 11,
   "id": "e3d9c3d3",
   "metadata": {
    "execution": {
     "iopub.execute_input": "2022-03-28T16:28:11.256589Z",
     "iopub.status.busy": "2022-03-28T16:28:11.256344Z",
     "iopub.status.idle": "2022-03-28T16:28:11.266719Z",
     "shell.execute_reply": "2022-03-28T16:28:11.266272Z"
    },
    "papermill": {
     "duration": 0.025413,
     "end_time": "2022-03-28T16:28:11.266807",
     "exception": false,
     "start_time": "2022-03-28T16:28:11.241394",
     "status": "completed"
    },
    "tags": []
   },
   "outputs": [],
   "source": [
    "# global_x_transform_func = lambda x: normalize(x.to(torch.get_default_dtype()), \"unit_power\") # unit_power, unit_mag\n",
    "# global_x_transform_func = lambda x: normalize(x, \"unit_power\") # unit_power, unit_mag"
   ]
  },
  {
   "cell_type": "code",
   "execution_count": 12,
   "id": "acb78fd2",
   "metadata": {
    "execution": {
     "iopub.execute_input": "2022-03-28T16:28:11.302069Z",
     "iopub.status.busy": "2022-03-28T16:28:11.301804Z",
     "iopub.status.idle": "2022-03-28T16:28:11.315713Z",
     "shell.execute_reply": "2022-03-28T16:28:11.316088Z"
    },
    "papermill": {
     "duration": 0.03227,
     "end_time": "2022-03-28T16:28:11.316193",
     "exception": false,
     "start_time": "2022-03-28T16:28:11.283923",
     "status": "completed"
    },
    "tags": []
   },
   "outputs": [],
   "source": [
    "def add_dataset(\n",
    "    labels,\n",
    "    domains,\n",
    "    pickle_path,\n",
    "    x_transforms,\n",
    "    episode_transforms,\n",
    "    domain_prefix,\n",
    "    num_examples_per_domain_per_label,\n",
    "    source_or_target_dataset:str,\n",
    "    iterator_seed=p.seed,\n",
    "    dataset_seed=p.dataset_seed,\n",
    "    n_shot=p.n_shot,\n",
    "    n_way=p.n_way,\n",
    "    n_query=p.n_query,\n",
    "    train_val_test_k_factors=(p.train_k_factor,p.val_k_factor,p.test_k_factor),\n",
    "):\n",
    "   \n",
    "    if x_transforms == []: x_transform = None\n",
    "    else: x_transform = get_chained_transform(x_transforms)\n",
    "    \n",
    "    if episode_transforms == []: episode_transform = None\n",
    "    else: raise Exception(\"episode_transforms not implemented\")\n",
    "    \n",
    "    episode_transform = lambda tup, _prefix=domain_prefix: (_prefix + str(tup[0]), tup[1])\n",
    "\n",
    "\n",
    "    eaf = Episodic_Accessor_Factory(\n",
    "        labels=labels,\n",
    "        domains=domains,\n",
    "        num_examples_per_domain_per_label=num_examples_per_domain_per_label,\n",
    "        iterator_seed=iterator_seed,\n",
    "        dataset_seed=dataset_seed,\n",
    "        n_shot=n_shot,\n",
    "        n_way=n_way,\n",
    "        n_query=n_query,\n",
    "        train_val_test_k_factors=train_val_test_k_factors,\n",
    "        pickle_path=pickle_path,\n",
    "        x_transform_func=x_transform,\n",
    "    )\n",
    "\n",
    "    train, val, test = eaf.get_train(), eaf.get_val(), eaf.get_test()\n",
    "    train = Lazy_Iterable_Wrapper(train, episode_transform)\n",
    "    val = Lazy_Iterable_Wrapper(val, episode_transform)\n",
    "    test = Lazy_Iterable_Wrapper(test, episode_transform)\n",
    "\n",
    "    if source_or_target_dataset==\"source\":\n",
    "        train_original_source.append(train)\n",
    "        val_original_source.append(val)\n",
    "        test_original_source.append(test)\n",
    "\n",
    "        p.domains_source.extend(\n",
    "            [domain_prefix + str(u) for u in domains]\n",
    "        )\n",
    "    elif source_or_target_dataset==\"target\":\n",
    "        train_original_target.append(train)\n",
    "        val_original_target.append(val)\n",
    "        test_original_target.append(test)\n",
    "        p.domains_target.extend(\n",
    "            [domain_prefix + str(u) for u in domains]\n",
    "        )\n",
    "    else:\n",
    "        raise Exception(f\"invalid source_or_target_dataset: {source_or_target_dataset}\")\n",
    "    "
   ]
  },
  {
   "cell_type": "code",
   "execution_count": 13,
   "id": "fe266617",
   "metadata": {
    "execution": {
     "iopub.execute_input": "2022-03-28T16:28:11.350274Z",
     "iopub.status.busy": "2022-03-28T16:28:11.350012Z",
     "iopub.status.idle": "2022-03-28T16:31:11.979807Z",
     "shell.execute_reply": "2022-03-28T16:31:11.979294Z"
    },
    "papermill": {
     "duration": 180.645473,
     "end_time": "2022-03-28T16:31:11.979918",
     "exception": false,
     "start_time": "2022-03-28T16:28:11.334445",
     "status": "completed"
    },
    "tags": []
   },
   "outputs": [],
   "source": [
    "for ds in p.datasets:\n",
    "    add_dataset(**ds)"
   ]
  },
  {
   "cell_type": "code",
   "execution_count": 14,
   "id": "b90d65ac",
   "metadata": {
    "execution": {
     "iopub.execute_input": "2022-03-28T16:31:12.022529Z",
     "iopub.status.busy": "2022-03-28T16:31:12.022246Z",
     "iopub.status.idle": "2022-03-28T16:31:12.123134Z",
     "shell.execute_reply": "2022-03-28T16:31:12.123513Z"
    },
    "papermill": {
     "duration": 0.11919,
     "end_time": "2022-03-28T16:31:12.123630",
     "exception": false,
     "start_time": "2022-03-28T16:31:12.004440",
     "status": "completed"
    },
    "tags": []
   },
   "outputs": [],
   "source": [
    "# from steves_utils.CORES.utils import (\n",
    "#     ALL_NODES,\n",
    "#     ALL_NODES_MINIMUM_1000_EXAMPLES,\n",
    "#     ALL_DAYS\n",
    "# )\n",
    "\n",
    "# add_dataset(\n",
    "#     labels=ALL_NODES,\n",
    "#     domains = ALL_DAYS,\n",
    "#     num_examples_per_domain_per_label=100,\n",
    "#     pickle_path=os.path.join(get_datasets_base_path(), \"cores.stratified_ds.2022A.pkl\"),\n",
    "#     source_or_target_dataset=\"target\",\n",
    "#     x_transform_func=global_x_transform_func,\n",
    "#     domain_modifier=lambda u: f\"cores_{u}\"\n",
    "# )"
   ]
  },
  {
   "cell_type": "code",
   "execution_count": 15,
   "id": "76db484d",
   "metadata": {
    "execution": {
     "iopub.execute_input": "2022-03-28T16:31:12.157553Z",
     "iopub.status.busy": "2022-03-28T16:31:12.157304Z",
     "iopub.status.idle": "2022-03-28T16:31:12.172346Z",
     "shell.execute_reply": "2022-03-28T16:31:12.171898Z"
    },
    "papermill": {
     "duration": 0.030155,
     "end_time": "2022-03-28T16:31:12.172435",
     "exception": false,
     "start_time": "2022-03-28T16:31:12.142280",
     "status": "completed"
    },
    "tags": []
   },
   "outputs": [],
   "source": [
    "# from steves_utils.ORACLE.utils_v2 import (\n",
    "#     ALL_DISTANCES_FEET,\n",
    "#     ALL_RUNS,\n",
    "#     ALL_SERIAL_NUMBERS,\n",
    "# )\n",
    "\n",
    "\n",
    "# add_dataset(\n",
    "#     labels=ALL_SERIAL_NUMBERS,\n",
    "#     domains = list(set(ALL_DISTANCES_FEET) - {2,62}),\n",
    "#     num_examples_per_domain_per_label=100,\n",
    "#     pickle_path=os.path.join(get_datasets_base_path(), \"oracle.Run2_framed_2000Examples_stratified_ds.2022A.pkl\"),\n",
    "#     source_or_target_dataset=\"source\",\n",
    "#     x_transform_func=global_x_transform_func,\n",
    "#     domain_modifier=lambda u: f\"oracle1_{u}\"\n",
    "# )\n"
   ]
  },
  {
   "cell_type": "code",
   "execution_count": 16,
   "id": "97dea9d2",
   "metadata": {
    "execution": {
     "iopub.execute_input": "2022-03-28T16:31:12.205814Z",
     "iopub.status.busy": "2022-03-28T16:31:12.205563Z",
     "iopub.status.idle": "2022-03-28T16:31:12.215068Z",
     "shell.execute_reply": "2022-03-28T16:31:12.214642Z"
    },
    "papermill": {
     "duration": 0.024599,
     "end_time": "2022-03-28T16:31:12.215158",
     "exception": false,
     "start_time": "2022-03-28T16:31:12.190559",
     "status": "completed"
    },
    "tags": []
   },
   "outputs": [],
   "source": [
    "# from steves_utils.ORACLE.utils_v2 import (\n",
    "#     ALL_DISTANCES_FEET,\n",
    "#     ALL_RUNS,\n",
    "#     ALL_SERIAL_NUMBERS,\n",
    "# )\n",
    "\n",
    "\n",
    "# add_dataset(\n",
    "#     labels=ALL_SERIAL_NUMBERS,\n",
    "#     domains = list(set(ALL_DISTANCES_FEET) - {2,62,56}),\n",
    "#     num_examples_per_domain_per_label=100,\n",
    "#     pickle_path=os.path.join(get_datasets_base_path(), \"oracle.Run2_framed_2000Examples_stratified_ds.2022A.pkl\"),\n",
    "#     source_or_target_dataset=\"source\",\n",
    "#     x_transform_func=global_x_transform_func,\n",
    "#     domain_modifier=lambda u: f\"oracle2_{u}\"\n",
    "# )"
   ]
  },
  {
   "cell_type": "code",
   "execution_count": 17,
   "id": "6f289866",
   "metadata": {
    "execution": {
     "iopub.execute_input": "2022-03-28T16:31:12.249756Z",
     "iopub.status.busy": "2022-03-28T16:31:12.249509Z",
     "iopub.status.idle": "2022-03-28T16:31:12.263402Z",
     "shell.execute_reply": "2022-03-28T16:31:12.263048Z"
    },
    "papermill": {
     "duration": 0.029513,
     "end_time": "2022-03-28T16:31:12.263471",
     "exception": false,
     "start_time": "2022-03-28T16:31:12.233958",
     "status": "completed"
    },
    "tags": []
   },
   "outputs": [],
   "source": [
    "# add_dataset(\n",
    "#     labels=list(range(19)),\n",
    "#     domains = [0,1,2],\n",
    "#     num_examples_per_domain_per_label=100,\n",
    "#     pickle_path=os.path.join(get_datasets_base_path(), \"metehan.stratified_ds.2022A.pkl\"),\n",
    "#     source_or_target_dataset=\"target\",\n",
    "#     x_transform_func=global_x_transform_func,\n",
    "#     domain_modifier=lambda u: f\"met_{u}\"\n",
    "# )"
   ]
  },
  {
   "cell_type": "code",
   "execution_count": 18,
   "id": "86a863c3",
   "metadata": {
    "execution": {
     "iopub.execute_input": "2022-03-28T16:31:12.297780Z",
     "iopub.status.busy": "2022-03-28T16:31:12.297530Z",
     "iopub.status.idle": "2022-03-28T16:31:12.310222Z",
     "shell.execute_reply": "2022-03-28T16:31:12.309753Z"
    },
    "papermill": {
     "duration": 0.02844,
     "end_time": "2022-03-28T16:31:12.310311",
     "exception": false,
     "start_time": "2022-03-28T16:31:12.281871",
     "status": "completed"
    },
    "tags": []
   },
   "outputs": [],
   "source": [
    "# # from steves_utils.wisig.utils import (\n",
    "# #     ALL_NODES_MINIMUM_100_EXAMPLES,\n",
    "# #     ALL_NODES_MINIMUM_500_EXAMPLES,\n",
    "# #     ALL_NODES_MINIMUM_1000_EXAMPLES,\n",
    "# #     ALL_DAYS\n",
    "# # )\n",
    "\n",
    "# import steves_utils.wisig.utils as wisig\n",
    "\n",
    "\n",
    "# add_dataset(\n",
    "#     labels=wisig.ALL_NODES_MINIMUM_100_EXAMPLES,\n",
    "#     domains = wisig.ALL_DAYS,\n",
    "#     num_examples_per_domain_per_label=100,\n",
    "#     pickle_path=os.path.join(get_datasets_base_path(), \"wisig.node3-19.stratified_ds.2022A.pkl\"),\n",
    "#     source_or_target_dataset=\"target\",\n",
    "#     x_transform_func=global_x_transform_func,\n",
    "#     domain_modifier=lambda u: f\"wisig_{u}\"\n",
    "# )"
   ]
  },
  {
   "cell_type": "code",
   "execution_count": 19,
   "id": "fd5442bc",
   "metadata": {
    "execution": {
     "iopub.execute_input": "2022-03-28T16:31:12.345034Z",
     "iopub.status.busy": "2022-03-28T16:31:12.344758Z",
     "iopub.status.idle": "2022-03-28T16:31:12.354836Z",
     "shell.execute_reply": "2022-03-28T16:31:12.355111Z"
    },
    "papermill": {
     "duration": 0.027294,
     "end_time": "2022-03-28T16:31:12.355216",
     "exception": false,
     "start_time": "2022-03-28T16:31:12.327922",
     "status": "completed"
    },
    "tags": []
   },
   "outputs": [],
   "source": [
    "###################################\n",
    "# Build the dataset\n",
    "###################################\n",
    "train_original_source = Iterable_Aggregator(train_original_source, p.seed)\n",
    "val_original_source = Iterable_Aggregator(val_original_source, p.seed)\n",
    "test_original_source = Iterable_Aggregator(test_original_source, p.seed)\n",
    "\n",
    "\n",
    "train_original_target = Iterable_Aggregator(train_original_target, p.seed)\n",
    "val_original_target = Iterable_Aggregator(val_original_target, p.seed)\n",
    "test_original_target = Iterable_Aggregator(test_original_target, p.seed)\n",
    "\n",
    "# For CNN We only use X and Y. And we only train on the source.\n",
    "# Properly form the data using a transform lambda and Lazy_Iterable_Wrapper. Finally wrap them in a dataloader\n",
    "\n",
    "transform_lambda = lambda ex: ex[1] # Original is (<domain>, <episode>) so we strip down to episode only\n",
    "\n",
    "train_processed_source = Lazy_Iterable_Wrapper(train_original_source, transform_lambda)\n",
    "val_processed_source   = Lazy_Iterable_Wrapper(val_original_source, transform_lambda)\n",
    "test_processed_source  = Lazy_Iterable_Wrapper(test_original_source, transform_lambda)\n",
    "\n",
    "train_processed_target = Lazy_Iterable_Wrapper(train_original_target, transform_lambda)\n",
    "val_processed_target   = Lazy_Iterable_Wrapper(val_original_target, transform_lambda)\n",
    "test_processed_target  = Lazy_Iterable_Wrapper(test_original_target, transform_lambda)\n",
    "\n",
    "datasets = EasyDict({\n",
    "    \"source\": {\n",
    "        \"original\": {\"train\":train_original_source, \"val\":val_original_source, \"test\":test_original_source},\n",
    "        \"processed\": {\"train\":train_processed_source, \"val\":val_processed_source, \"test\":test_processed_source}\n",
    "    },\n",
    "    \"target\": {\n",
    "        \"original\": {\"train\":train_original_target, \"val\":val_original_target, \"test\":test_original_target},\n",
    "        \"processed\": {\"train\":train_processed_target, \"val\":val_processed_target, \"test\":test_processed_target}\n",
    "    },\n",
    "})"
   ]
  },
  {
   "cell_type": "code",
   "execution_count": 20,
   "id": "5b3c01fc",
   "metadata": {
    "execution": {
     "iopub.execute_input": "2022-03-28T16:31:12.391373Z",
     "iopub.status.busy": "2022-03-28T16:31:12.391125Z",
     "iopub.status.idle": "2022-03-28T16:31:38.965738Z",
     "shell.execute_reply": "2022-03-28T16:31:38.966106Z"
    },
    "papermill": {
     "duration": 26.591974,
     "end_time": "2022-03-28T16:31:38.966215",
     "exception": false,
     "start_time": "2022-03-28T16:31:12.374241",
     "status": "completed"
    },
    "tags": []
   },
   "outputs": [
    {
     "name": "stdout",
     "output_type": "stream",
     "text": [
      "{'ORACLE.run1_32', 'ORACLE.run1_50', 'ORACLE.run1_38', 'ORACLE.run1_20', 'ORACLE.run1_44', 'ORACLE.run1_8', 'ORACLE.run1_14', 'ORACLE.run1_26'}\n"
     ]
    },
    {
     "name": "stdout",
     "output_type": "stream",
     "text": [
      "{'ORACLE.run2_44', 'ORACLE.run2_50', 'ORACLE.run2_8', 'ORACLE.run2_26', 'ORACLE.run2_20', 'ORACLE.run2_32', 'ORACLE.run2_14', 'ORACLE.run2_38'}\n"
     ]
    },
    {
     "name": "stdout",
     "output_type": "stream",
     "text": [
      "tensor([[[ 1.3646,  0.2454,  1.0112,  ..., -0.3043, -0.9228, -0.2945],\n",
      "         [ 0.3142,  0.4614, -0.0393,  ...,  1.2566,  0.2552, -1.2762]],\n",
      "\n",
      "        [[ 0.6683,  1.0614, -1.4840,  ..., -1.8182, -0.5602,  1.0319],\n",
      "         [ 0.5995,  0.5504, -0.1671,  ..., -1.1990, -0.4226, -0.2260]],\n",
      "\n",
      "        [[-0.8064, -0.1854,  0.7508,  ...,  0.1761, -0.2781, -0.1946],\n",
      "         [ 0.5098,  0.6488,  0.8527,  ..., -0.2410,  0.8620, -1.2513]],\n",
      "\n",
      "        ...,\n",
      "\n",
      "        [[ 0.5589, -0.2290, -1.0078,  ..., -0.1191, -0.7604, -1.4933],\n",
      "         [ 0.0550,  0.1741,  0.8795,  ...,  0.8429, -0.1283,  1.2826]],\n",
      "\n",
      "        [[ 0.3345,  0.6504, -0.6875,  ...,  2.0905,  1.3101,  0.4460],\n",
      "         [ 0.7433,  0.2137, -0.3066,  ...,  1.0313,  0.4738,  0.6132]],\n",
      "\n",
      "        [[ 0.2057, -0.5544, -1.2518,  ..., -0.3577,  0.7153,  1.0730],\n",
      "         [ 0.4381, -0.7600, -1.4396,  ...,  0.3666, -0.7690,  1.5826]]])\n"
     ]
    }
   ],
   "source": [
    "from steves_utils.transforms import get_average_magnitude, get_average_power\n",
    "\n",
    "print(set([u for u,_ in val_original_source]))\n",
    "print(set([u for u,_ in val_original_target]))\n",
    "\n",
    "s_x, s_y, q_x, q_y, _ = next(iter(train_processed_source))\n",
    "print(s_x)\n",
    "\n",
    "# for ds in [\n",
    "#     train_processed_source,\n",
    "#     val_processed_source,\n",
    "#     test_processed_source,\n",
    "#     train_processed_target,\n",
    "#     val_processed_target,\n",
    "#     test_processed_target\n",
    "# ]:\n",
    "#     for s_x, s_y, q_x, q_y, _ in ds:\n",
    "#         for X in (s_x, q_x):\n",
    "#             for x in X:\n",
    "#                 assert np.isclose(get_average_magnitude(x.numpy()), 1.0)\n",
    "#                 assert np.isclose(get_average_power(x.numpy()), 1.0)\n",
    "                "
   ]
  },
  {
   "cell_type": "code",
   "execution_count": 21,
   "id": "bbdacba1",
   "metadata": {
    "execution": {
     "iopub.execute_input": "2022-03-28T16:31:39.004630Z",
     "iopub.status.busy": "2022-03-28T16:31:39.002748Z",
     "iopub.status.idle": "2022-03-28T16:31:39.088936Z",
     "shell.execute_reply": "2022-03-28T16:31:39.088447Z"
    },
    "papermill": {
     "duration": 0.103262,
     "end_time": "2022-03-28T16:31:39.089040",
     "exception": false,
     "start_time": "2022-03-28T16:31:38.985778",
     "status": "completed"
    },
    "tags": []
   },
   "outputs": [
    {
     "name": "stdout",
     "output_type": "stream",
     "text": [
      "(2, 256)\n"
     ]
    }
   ],
   "source": [
    "###################################\n",
    "# Build the model\n",
    "###################################\n",
    "# easfsl only wants a tuple for the shape\n",
    "model = Steves_Prototypical_Network(x_net, device=p.device, x_shape=tuple(p.x_shape))\n",
    "optimizer = Adam(params=model.parameters(), lr=p.lr)"
   ]
  },
  {
   "cell_type": "code",
   "execution_count": 22,
   "id": "22b39ac5",
   "metadata": {
    "execution": {
     "iopub.execute_input": "2022-03-28T16:31:39.130271Z",
     "iopub.status.busy": "2022-03-28T16:31:39.129973Z",
     "iopub.status.idle": "2022-03-28T20:04:45.083772Z",
     "shell.execute_reply": "2022-03-28T20:04:45.083541Z"
    },
    "papermill": {
     "duration": 12785.974685,
     "end_time": "2022-03-28T20:04:45.083830",
     "exception": false,
     "start_time": "2022-03-28T16:31:39.109145",
     "status": "completed"
    },
    "tags": []
   },
   "outputs": [
    {
     "name": "stdout",
     "output_type": "stream",
     "text": [
      "epoch: 1, [batch: 1 / 33600], examples_per_second: 9.7975, train_label_loss: 2.7620, \n"
     ]
    },
    {
     "name": "stdout",
     "output_type": "stream",
     "text": [
      "epoch: 1, [batch: 3360 / 33600], examples_per_second: 3230.4944, train_label_loss: 2.0773, \n"
     ]
    },
    {
     "name": "stdout",
     "output_type": "stream",
     "text": [
      "epoch: 1, [batch: 6720 / 33600], examples_per_second: 3205.1267, train_label_loss: 0.8615, \n"
     ]
    },
    {
     "name": "stdout",
     "output_type": "stream",
     "text": [
      "epoch: 1, [batch: 10080 / 33600], examples_per_second: 3219.7394, train_label_loss: 0.7159, \n"
     ]
    },
    {
     "name": "stdout",
     "output_type": "stream",
     "text": [
      "epoch: 1, [batch: 13440 / 33600], examples_per_second: 3205.8116, train_label_loss: 1.2658, \n"
     ]
    },
    {
     "name": "stdout",
     "output_type": "stream",
     "text": [
      "epoch: 1, [batch: 16800 / 33600], examples_per_second: 3223.5730, train_label_loss: 0.8710, \n"
     ]
    },
    {
     "name": "stdout",
     "output_type": "stream",
     "text": [
      "epoch: 1, [batch: 20160 / 33600], examples_per_second: 3223.0761, train_label_loss: 0.6102, \n"
     ]
    },
    {
     "name": "stdout",
     "output_type": "stream",
     "text": [
      "epoch: 1, [batch: 23520 / 33600], examples_per_second: 3213.0965, train_label_loss: 0.5395, \n"
     ]
    },
    {
     "name": "stdout",
     "output_type": "stream",
     "text": [
      "epoch: 1, [batch: 26880 / 33600], examples_per_second: 3217.7417, train_label_loss: 0.5945, \n"
     ]
    },
    {
     "name": "stdout",
     "output_type": "stream",
     "text": [
      "epoch: 1, [batch: 30240 / 33600], examples_per_second: 3215.5386, train_label_loss: 1.3445, \n"
     ]
    },
    {
     "name": "stdout",
     "output_type": "stream",
     "text": [
      "=============================================================\n",
      "epoch: 1, source_val_acc_label: 0.6353, target_val_acc_label: 0.6199, source_val_label_loss: 1.0052, target_val_label_loss: 1.0421, \n",
      "=============================================================\n"
     ]
    },
    {
     "name": "stdout",
     "output_type": "stream",
     "text": [
      "New best\n"
     ]
    },
    {
     "name": "stdout",
     "output_type": "stream",
     "text": [
      "epoch: 2, [batch: 1 / 33600], examples_per_second: 0.9602, train_label_loss: 0.7960, \n"
     ]
    },
    {
     "name": "stdout",
     "output_type": "stream",
     "text": [
      "epoch: 2, [batch: 3360 / 33600], examples_per_second: 3231.4264, train_label_loss: 0.5356, \n"
     ]
    },
    {
     "name": "stdout",
     "output_type": "stream",
     "text": [
      "epoch: 2, [batch: 6720 / 33600], examples_per_second: 3234.3229, train_label_loss: 1.2724, \n"
     ]
    },
    {
     "name": "stdout",
     "output_type": "stream",
     "text": [
      "epoch: 2, [batch: 10080 / 33600], examples_per_second: 3240.6567, train_label_loss: 0.5480, \n"
     ]
    },
    {
     "name": "stdout",
     "output_type": "stream",
     "text": [
      "epoch: 2, [batch: 13440 / 33600], examples_per_second: 3234.2856, train_label_loss: 0.4301, \n"
     ]
    },
    {
     "name": "stdout",
     "output_type": "stream",
     "text": [
      "epoch: 2, [batch: 16800 / 33600], examples_per_second: 3245.9577, train_label_loss: 0.6925, \n"
     ]
    },
    {
     "name": "stdout",
     "output_type": "stream",
     "text": [
      "epoch: 2, [batch: 20160 / 33600], examples_per_second: 3244.8238, train_label_loss: 1.2004, \n"
     ]
    },
    {
     "name": "stdout",
     "output_type": "stream",
     "text": [
      "epoch: 2, [batch: 23520 / 33600], examples_per_second: 3236.5450, train_label_loss: 1.0665, \n"
     ]
    },
    {
     "name": "stdout",
     "output_type": "stream",
     "text": [
      "epoch: 2, [batch: 26880 / 33600], examples_per_second: 3245.2705, train_label_loss: 1.0791, \n"
     ]
    },
    {
     "name": "stdout",
     "output_type": "stream",
     "text": [
      "epoch: 2, [batch: 30240 / 33600], examples_per_second: 3253.3922, train_label_loss: 1.0957, \n"
     ]
    },
    {
     "name": "stdout",
     "output_type": "stream",
     "text": [
      "=============================================================\n",
      "epoch: 2, source_val_acc_label: 0.6755, target_val_acc_label: 0.6558, source_val_label_loss: 0.8588, target_val_label_loss: 0.9211, \n",
      "=============================================================\n"
     ]
    },
    {
     "name": "stdout",
     "output_type": "stream",
     "text": [
      "New best\n"
     ]
    },
    {
     "name": "stdout",
     "output_type": "stream",
     "text": [
      "epoch: 3, [batch: 1 / 33600], examples_per_second: 0.9677, train_label_loss: 0.7773, \n"
     ]
    },
    {
     "name": "stdout",
     "output_type": "stream",
     "text": [
      "epoch: 3, [batch: 3360 / 33600], examples_per_second: 3225.4431, train_label_loss: 1.3019, \n"
     ]
    },
    {
     "name": "stdout",
     "output_type": "stream",
     "text": [
      "epoch: 3, [batch: 6720 / 33600], examples_per_second: 3238.6201, train_label_loss: 1.2199, \n"
     ]
    },
    {
     "name": "stdout",
     "output_type": "stream",
     "text": [
      "epoch: 3, [batch: 10080 / 33600], examples_per_second: 3241.0639, train_label_loss: 0.7981, \n"
     ]
    },
    {
     "name": "stdout",
     "output_type": "stream",
     "text": [
      "epoch: 3, [batch: 13440 / 33600], examples_per_second: 3235.2631, train_label_loss: 0.4444, \n"
     ]
    },
    {
     "name": "stdout",
     "output_type": "stream",
     "text": [
      "epoch: 3, [batch: 16800 / 33600], examples_per_second: 3242.2271, train_label_loss: 0.6930, \n"
     ]
    },
    {
     "name": "stdout",
     "output_type": "stream",
     "text": [
      "epoch: 3, [batch: 20160 / 33600], examples_per_second: 3239.6436, train_label_loss: 1.0781, \n"
     ]
    },
    {
     "name": "stdout",
     "output_type": "stream",
     "text": [
      "epoch: 3, [batch: 23520 / 33600], examples_per_second: 3232.5536, train_label_loss: 0.9022, \n"
     ]
    },
    {
     "name": "stdout",
     "output_type": "stream",
     "text": [
      "epoch: 3, [batch: 26880 / 33600], examples_per_second: 3240.1152, train_label_loss: 1.1395, \n"
     ]
    },
    {
     "name": "stdout",
     "output_type": "stream",
     "text": [
      "epoch: 3, [batch: 30240 / 33600], examples_per_second: 3242.9763, train_label_loss: 0.5793, \n"
     ]
    },
    {
     "name": "stdout",
     "output_type": "stream",
     "text": [
      "=============================================================\n",
      "epoch: 3, source_val_acc_label: 0.6973, target_val_acc_label: 0.6775, source_val_label_loss: 0.8172, target_val_label_loss: 0.8895, \n",
      "=============================================================\n"
     ]
    },
    {
     "name": "stdout",
     "output_type": "stream",
     "text": [
      "New best\n"
     ]
    },
    {
     "name": "stdout",
     "output_type": "stream",
     "text": [
      "epoch: 4, [batch: 1 / 33600], examples_per_second: 0.9661, train_label_loss: 0.3962, \n"
     ]
    },
    {
     "name": "stdout",
     "output_type": "stream",
     "text": [
      "epoch: 4, [batch: 3360 / 33600], examples_per_second: 3231.2267, train_label_loss: 0.5542, \n"
     ]
    },
    {
     "name": "stdout",
     "output_type": "stream",
     "text": [
      "epoch: 4, [batch: 6720 / 33600], examples_per_second: 3236.9037, train_label_loss: 0.9631, \n"
     ]
    },
    {
     "name": "stdout",
     "output_type": "stream",
     "text": [
      "epoch: 4, [batch: 10080 / 33600], examples_per_second: 3245.0619, train_label_loss: 0.9359, \n"
     ]
    },
    {
     "name": "stdout",
     "output_type": "stream",
     "text": [
      "epoch: 4, [batch: 13440 / 33600], examples_per_second: 3230.2149, train_label_loss: 0.6050, \n"
     ]
    },
    {
     "name": "stdout",
     "output_type": "stream",
     "text": [
      "epoch: 4, [batch: 16800 / 33600], examples_per_second: 3242.1749, train_label_loss: 1.3224, \n"
     ]
    },
    {
     "name": "stdout",
     "output_type": "stream",
     "text": [
      "epoch: 4, [batch: 20160 / 33600], examples_per_second: 3246.5256, train_label_loss: 1.2423, \n"
     ]
    },
    {
     "name": "stdout",
     "output_type": "stream",
     "text": [
      "epoch: 4, [batch: 23520 / 33600], examples_per_second: 3231.4646, train_label_loss: 0.3641, \n"
     ]
    },
    {
     "name": "stdout",
     "output_type": "stream",
     "text": [
      "epoch: 4, [batch: 26880 / 33600], examples_per_second: 3236.9778, train_label_loss: 0.5549, \n"
     ]
    },
    {
     "name": "stdout",
     "output_type": "stream",
     "text": [
      "epoch: 4, [batch: 30240 / 33600], examples_per_second: 3248.9699, train_label_loss: 0.6672, \n"
     ]
    },
    {
     "name": "stdout",
     "output_type": "stream",
     "text": [
      "=============================================================\n",
      "epoch: 4, source_val_acc_label: 0.7111, target_val_acc_label: 0.6920, source_val_label_loss: 0.7847, target_val_label_loss: 0.8619, \n",
      "=============================================================\n"
     ]
    },
    {
     "name": "stdout",
     "output_type": "stream",
     "text": [
      "New best\n"
     ]
    },
    {
     "name": "stdout",
     "output_type": "stream",
     "text": [
      "epoch: 5, [batch: 1 / 33600], examples_per_second: 0.9621, train_label_loss: 0.4763, \n"
     ]
    },
    {
     "name": "stdout",
     "output_type": "stream",
     "text": [
      "epoch: 5, [batch: 3360 / 33600], examples_per_second: 3228.1868, train_label_loss: 0.8657, \n"
     ]
    },
    {
     "name": "stdout",
     "output_type": "stream",
     "text": [
      "epoch: 5, [batch: 6720 / 33600], examples_per_second: 3232.3002, train_label_loss: 0.6746, \n"
     ]
    },
    {
     "name": "stdout",
     "output_type": "stream",
     "text": [
      "epoch: 5, [batch: 10080 / 33600], examples_per_second: 3230.3999, train_label_loss: 0.4558, \n"
     ]
    },
    {
     "name": "stdout",
     "output_type": "stream",
     "text": [
      "epoch: 5, [batch: 13440 / 33600], examples_per_second: 3224.4521, train_label_loss: 0.6649, \n"
     ]
    },
    {
     "name": "stdout",
     "output_type": "stream",
     "text": [
      "epoch: 5, [batch: 16800 / 33600], examples_per_second: 3239.2027, train_label_loss: 0.8599, \n"
     ]
    },
    {
     "name": "stdout",
     "output_type": "stream",
     "text": [
      "epoch: 5, [batch: 20160 / 33600], examples_per_second: 3249.3804, train_label_loss: 0.6313, \n"
     ]
    },
    {
     "name": "stdout",
     "output_type": "stream",
     "text": [
      "epoch: 5, [batch: 23520 / 33600], examples_per_second: 3234.7009, train_label_loss: 0.3442, \n"
     ]
    },
    {
     "name": "stdout",
     "output_type": "stream",
     "text": [
      "epoch: 5, [batch: 26880 / 33600], examples_per_second: 3239.7961, train_label_loss: 0.8348, \n"
     ]
    },
    {
     "name": "stdout",
     "output_type": "stream",
     "text": [
      "epoch: 5, [batch: 30240 / 33600], examples_per_second: 3244.5869, train_label_loss: 0.6137, \n"
     ]
    },
    {
     "name": "stdout",
     "output_type": "stream",
     "text": [
      "=============================================================\n",
      "epoch: 5, source_val_acc_label: 0.7175, target_val_acc_label: 0.6990, source_val_label_loss: 0.7775, target_val_label_loss: 0.8592, \n",
      "=============================================================\n"
     ]
    },
    {
     "name": "stdout",
     "output_type": "stream",
     "text": [
      "New best\n"
     ]
    },
    {
     "name": "stdout",
     "output_type": "stream",
     "text": [
      "epoch: 6, [batch: 1 / 33600], examples_per_second: 0.9650, train_label_loss: 0.4723, \n"
     ]
    },
    {
     "name": "stdout",
     "output_type": "stream",
     "text": [
      "epoch: 6, [batch: 3360 / 33600], examples_per_second: 3233.0479, train_label_loss: 0.5720, \n"
     ]
    },
    {
     "name": "stdout",
     "output_type": "stream",
     "text": [
      "epoch: 6, [batch: 6720 / 33600], examples_per_second: 3235.9369, train_label_loss: 0.7730, \n"
     ]
    },
    {
     "name": "stdout",
     "output_type": "stream",
     "text": [
      "epoch: 6, [batch: 10080 / 33600], examples_per_second: 3240.5211, train_label_loss: 1.0976, \n"
     ]
    },
    {
     "name": "stdout",
     "output_type": "stream",
     "text": [
      "epoch: 6, [batch: 13440 / 33600], examples_per_second: 3237.5318, train_label_loss: 0.5222, \n"
     ]
    },
    {
     "name": "stdout",
     "output_type": "stream",
     "text": [
      "epoch: 6, [batch: 16800 / 33600], examples_per_second: 3247.7293, train_label_loss: 0.6334, \n"
     ]
    },
    {
     "name": "stdout",
     "output_type": "stream",
     "text": [
      "epoch: 6, [batch: 20160 / 33600], examples_per_second: 3250.6643, train_label_loss: 0.6157, \n"
     ]
    },
    {
     "name": "stdout",
     "output_type": "stream",
     "text": [
      "epoch: 6, [batch: 23520 / 33600], examples_per_second: 3234.6839, train_label_loss: 0.4490, \n"
     ]
    },
    {
     "name": "stdout",
     "output_type": "stream",
     "text": [
      "epoch: 6, [batch: 26880 / 33600], examples_per_second: 3246.5770, train_label_loss: 0.5956, \n"
     ]
    },
    {
     "name": "stdout",
     "output_type": "stream",
     "text": [
      "epoch: 6, [batch: 30240 / 33600], examples_per_second: 3251.2668, train_label_loss: 0.6600, \n"
     ]
    },
    {
     "name": "stdout",
     "output_type": "stream",
     "text": [
      "=============================================================\n",
      "epoch: 6, source_val_acc_label: 0.7210, target_val_acc_label: 0.7065, source_val_label_loss: 0.7791, target_val_label_loss: 0.8611, \n",
      "=============================================================\n"
     ]
    },
    {
     "name": "stdout",
     "output_type": "stream",
     "text": [
      "New best\n"
     ]
    },
    {
     "name": "stdout",
     "output_type": "stream",
     "text": [
      "epoch: 7, [batch: 1 / 33600], examples_per_second: 0.9648, train_label_loss: 0.9613, \n"
     ]
    },
    {
     "name": "stdout",
     "output_type": "stream",
     "text": [
      "epoch: 7, [batch: 3360 / 33600], examples_per_second: 3224.4768, train_label_loss: 0.4684, \n"
     ]
    },
    {
     "name": "stdout",
     "output_type": "stream",
     "text": [
      "epoch: 7, [batch: 6720 / 33600], examples_per_second: 3237.1998, train_label_loss: 0.3652, \n"
     ]
    },
    {
     "name": "stdout",
     "output_type": "stream",
     "text": [
      "epoch: 7, [batch: 10080 / 33600], examples_per_second: 3246.0133, train_label_loss: 0.3693, \n"
     ]
    },
    {
     "name": "stdout",
     "output_type": "stream",
     "text": [
      "epoch: 7, [batch: 13440 / 33600], examples_per_second: 3233.5318, train_label_loss: 0.2545, \n"
     ]
    },
    {
     "name": "stdout",
     "output_type": "stream",
     "text": [
      "epoch: 7, [batch: 16800 / 33600], examples_per_second: 3244.6630, train_label_loss: 0.6506, \n"
     ]
    },
    {
     "name": "stdout",
     "output_type": "stream",
     "text": [
      "epoch: 7, [batch: 20160 / 33600], examples_per_second: 3239.9344, train_label_loss: 0.5347, \n"
     ]
    },
    {
     "name": "stdout",
     "output_type": "stream",
     "text": [
      "epoch: 7, [batch: 23520 / 33600], examples_per_second: 3235.4549, train_label_loss: 0.3636, \n"
     ]
    },
    {
     "name": "stdout",
     "output_type": "stream",
     "text": [
      "epoch: 7, [batch: 26880 / 33600], examples_per_second: 3235.5009, train_label_loss: 0.3488, \n"
     ]
    },
    {
     "name": "stdout",
     "output_type": "stream",
     "text": [
      "epoch: 7, [batch: 30240 / 33600], examples_per_second: 3251.1654, train_label_loss: 0.6117, \n"
     ]
    },
    {
     "name": "stdout",
     "output_type": "stream",
     "text": [
      "=============================================================\n",
      "epoch: 7, source_val_acc_label: 0.7196, target_val_acc_label: 0.7035, source_val_label_loss: 0.7693, target_val_label_loss: 0.8488, \n",
      "=============================================================\n"
     ]
    },
    {
     "name": "stdout",
     "output_type": "stream",
     "text": [
      "epoch: 8, [batch: 1 / 33600], examples_per_second: 0.9688, train_label_loss: 0.1925, \n"
     ]
    },
    {
     "name": "stdout",
     "output_type": "stream",
     "text": [
      "epoch: 8, [batch: 3360 / 33600], examples_per_second: 3216.3122, train_label_loss: 0.4045, \n"
     ]
    },
    {
     "name": "stdout",
     "output_type": "stream",
     "text": [
      "epoch: 8, [batch: 6720 / 33600], examples_per_second: 3231.5194, train_label_loss: 0.3880, \n"
     ]
    },
    {
     "name": "stdout",
     "output_type": "stream",
     "text": [
      "epoch: 8, [batch: 10080 / 33600], examples_per_second: 3229.9176, train_label_loss: 0.7921, \n"
     ]
    },
    {
     "name": "stdout",
     "output_type": "stream",
     "text": [
      "epoch: 8, [batch: 13440 / 33600], examples_per_second: 3223.3625, train_label_loss: 0.6445, \n"
     ]
    },
    {
     "name": "stdout",
     "output_type": "stream",
     "text": [
      "epoch: 8, [batch: 16800 / 33600], examples_per_second: 3240.8112, train_label_loss: 0.4957, \n"
     ]
    },
    {
     "name": "stdout",
     "output_type": "stream",
     "text": [
      "epoch: 8, [batch: 20160 / 33600], examples_per_second: 3248.2778, train_label_loss: 0.6790, \n"
     ]
    },
    {
     "name": "stdout",
     "output_type": "stream",
     "text": [
      "epoch: 8, [batch: 23520 / 33600], examples_per_second: 3244.7548, train_label_loss: 0.4508, \n"
     ]
    },
    {
     "name": "stdout",
     "output_type": "stream",
     "text": [
      "epoch: 8, [batch: 26880 / 33600], examples_per_second: 3237.5014, train_label_loss: 0.5525, \n"
     ]
    },
    {
     "name": "stdout",
     "output_type": "stream",
     "text": [
      "epoch: 8, [batch: 30240 / 33600], examples_per_second: 3245.5639, train_label_loss: 0.3386, \n"
     ]
    },
    {
     "name": "stdout",
     "output_type": "stream",
     "text": [
      "=============================================================\n",
      "epoch: 8, source_val_acc_label: 0.7260, target_val_acc_label: 0.7093, source_val_label_loss: 0.7750, target_val_label_loss: 0.8555, \n",
      "=============================================================\n"
     ]
    },
    {
     "name": "stdout",
     "output_type": "stream",
     "text": [
      "New best\n"
     ]
    },
    {
     "name": "stdout",
     "output_type": "stream",
     "text": [
      "epoch: 9, [batch: 1 / 33600], examples_per_second: 0.9659, train_label_loss: 0.3358, \n"
     ]
    },
    {
     "name": "stdout",
     "output_type": "stream",
     "text": [
      "epoch: 9, [batch: 3360 / 33600], examples_per_second: 3236.0729, train_label_loss: 0.2518, \n"
     ]
    },
    {
     "name": "stdout",
     "output_type": "stream",
     "text": [
      "epoch: 9, [batch: 6720 / 33600], examples_per_second: 3235.4876, train_label_loss: 0.2231, \n"
     ]
    },
    {
     "name": "stdout",
     "output_type": "stream",
     "text": [
      "epoch: 9, [batch: 10080 / 33600], examples_per_second: 3245.0046, train_label_loss: 0.7401, \n"
     ]
    },
    {
     "name": "stdout",
     "output_type": "stream",
     "text": [
      "epoch: 9, [batch: 13440 / 33600], examples_per_second: 3230.0131, train_label_loss: 0.4376, \n"
     ]
    },
    {
     "name": "stdout",
     "output_type": "stream",
     "text": [
      "epoch: 9, [batch: 16800 / 33600], examples_per_second: 3250.1262, train_label_loss: 0.2928, \n"
     ]
    },
    {
     "name": "stdout",
     "output_type": "stream",
     "text": [
      "epoch: 9, [batch: 20160 / 33600], examples_per_second: 3248.0880, train_label_loss: 0.3550, \n"
     ]
    },
    {
     "name": "stdout",
     "output_type": "stream",
     "text": [
      "epoch: 9, [batch: 23520 / 33600], examples_per_second: 3242.5818, train_label_loss: 0.6466, \n"
     ]
    },
    {
     "name": "stdout",
     "output_type": "stream",
     "text": [
      "epoch: 9, [batch: 26880 / 33600], examples_per_second: 3239.2419, train_label_loss: 0.5618, \n"
     ]
    },
    {
     "name": "stdout",
     "output_type": "stream",
     "text": [
      "epoch: 9, [batch: 30240 / 33600], examples_per_second: 3246.6720, train_label_loss: 0.4788, \n"
     ]
    },
    {
     "name": "stdout",
     "output_type": "stream",
     "text": [
      "=============================================================\n",
      "epoch: 9, source_val_acc_label: 0.7233, target_val_acc_label: 0.7059, source_val_label_loss: 0.7851, target_val_label_loss: 0.8653, \n",
      "=============================================================\n"
     ]
    },
    {
     "name": "stdout",
     "output_type": "stream",
     "text": [
      "epoch: 10, [batch: 1 / 33600], examples_per_second: 0.9635, train_label_loss: 0.5357, \n"
     ]
    },
    {
     "name": "stdout",
     "output_type": "stream",
     "text": [
      "epoch: 10, [batch: 3360 / 33600], examples_per_second: 3226.6705, train_label_loss: 0.3337, \n"
     ]
    },
    {
     "name": "stdout",
     "output_type": "stream",
     "text": [
      "epoch: 10, [batch: 6720 / 33600], examples_per_second: 3245.8756, train_label_loss: 0.2690, \n"
     ]
    },
    {
     "name": "stdout",
     "output_type": "stream",
     "text": [
      "epoch: 10, [batch: 10080 / 33600], examples_per_second: 3227.0736, train_label_loss: 0.6892, \n"
     ]
    },
    {
     "name": "stdout",
     "output_type": "stream",
     "text": [
      "epoch: 10, [batch: 13440 / 33600], examples_per_second: 3230.4011, train_label_loss: 0.3808, \n"
     ]
    },
    {
     "name": "stdout",
     "output_type": "stream",
     "text": [
      "epoch: 10, [batch: 16800 / 33600], examples_per_second: 3242.5080, train_label_loss: 0.4539, \n"
     ]
    },
    {
     "name": "stdout",
     "output_type": "stream",
     "text": [
      "epoch: 10, [batch: 20160 / 33600], examples_per_second: 3247.3259, train_label_loss: 0.3609, \n"
     ]
    },
    {
     "name": "stdout",
     "output_type": "stream",
     "text": [
      "epoch: 10, [batch: 23520 / 33600], examples_per_second: 3236.3297, train_label_loss: 0.1484, \n"
     ]
    },
    {
     "name": "stdout",
     "output_type": "stream",
     "text": [
      "epoch: 10, [batch: 26880 / 33600], examples_per_second: 3231.6843, train_label_loss: 0.2253, \n"
     ]
    },
    {
     "name": "stdout",
     "output_type": "stream",
     "text": [
      "epoch: 10, [batch: 30240 / 33600], examples_per_second: 3245.1282, train_label_loss: 0.3016, \n"
     ]
    },
    {
     "name": "stdout",
     "output_type": "stream",
     "text": [
      "=============================================================\n",
      "epoch: 10, source_val_acc_label: 0.7277, target_val_acc_label: 0.7139, source_val_label_loss: 0.7922, target_val_label_loss: 0.8676, \n",
      "=============================================================\n"
     ]
    },
    {
     "name": "stdout",
     "output_type": "stream",
     "text": [
      "New best\n"
     ]
    },
    {
     "name": "stdout",
     "output_type": "stream",
     "text": [
      "epoch: 11, [batch: 1 / 33600], examples_per_second: 0.9621, train_label_loss: 0.2424, \n"
     ]
    },
    {
     "name": "stdout",
     "output_type": "stream",
     "text": [
      "epoch: 11, [batch: 3360 / 33600], examples_per_second: 3228.0242, train_label_loss: 0.2247, \n"
     ]
    },
    {
     "name": "stdout",
     "output_type": "stream",
     "text": [
      "epoch: 11, [batch: 6720 / 33600], examples_per_second: 3225.6133, train_label_loss: 0.2399, \n"
     ]
    },
    {
     "name": "stdout",
     "output_type": "stream",
     "text": [
      "epoch: 11, [batch: 10080 / 33600], examples_per_second: 3231.7902, train_label_loss: 0.2820, \n"
     ]
    },
    {
     "name": "stdout",
     "output_type": "stream",
     "text": [
      "epoch: 11, [batch: 13440 / 33600], examples_per_second: 3225.6408, train_label_loss: 0.1129, \n"
     ]
    },
    {
     "name": "stdout",
     "output_type": "stream",
     "text": [
      "epoch: 11, [batch: 16800 / 33600], examples_per_second: 3246.9825, train_label_loss: 0.5094, \n"
     ]
    },
    {
     "name": "stdout",
     "output_type": "stream",
     "text": [
      "epoch: 11, [batch: 20160 / 33600], examples_per_second: 3243.8713, train_label_loss: 0.2151, \n"
     ]
    },
    {
     "name": "stdout",
     "output_type": "stream",
     "text": [
      "epoch: 11, [batch: 23520 / 33600], examples_per_second: 3231.6921, train_label_loss: 0.2461, \n"
     ]
    },
    {
     "name": "stdout",
     "output_type": "stream",
     "text": [
      "epoch: 11, [batch: 26880 / 33600], examples_per_second: 3239.3196, train_label_loss: 0.2411, \n"
     ]
    },
    {
     "name": "stdout",
     "output_type": "stream",
     "text": [
      "epoch: 11, [batch: 30240 / 33600], examples_per_second: 3247.7766, train_label_loss: 0.5646, \n"
     ]
    },
    {
     "name": "stdout",
     "output_type": "stream",
     "text": [
      "=============================================================\n",
      "epoch: 11, source_val_acc_label: 0.7205, target_val_acc_label: 0.7063, source_val_label_loss: 0.8157, target_val_label_loss: 0.8943, \n",
      "=============================================================\n"
     ]
    },
    {
     "name": "stdout",
     "output_type": "stream",
     "text": [
      "epoch: 12, [batch: 1 / 33600], examples_per_second: 0.9600, train_label_loss: 0.4407, \n"
     ]
    },
    {
     "name": "stdout",
     "output_type": "stream",
     "text": [
      "epoch: 12, [batch: 3360 / 33600], examples_per_second: 3231.8280, train_label_loss: 0.2319, \n"
     ]
    },
    {
     "name": "stdout",
     "output_type": "stream",
     "text": [
      "epoch: 12, [batch: 6720 / 33600], examples_per_second: 3236.1465, train_label_loss: 0.4417, \n"
     ]
    },
    {
     "name": "stdout",
     "output_type": "stream",
     "text": [
      "epoch: 12, [batch: 10080 / 33600], examples_per_second: 3237.7783, train_label_loss: 0.2541, \n"
     ]
    },
    {
     "name": "stdout",
     "output_type": "stream",
     "text": [
      "epoch: 12, [batch: 13440 / 33600], examples_per_second: 3234.6950, train_label_loss: 0.2189, \n"
     ]
    },
    {
     "name": "stdout",
     "output_type": "stream",
     "text": [
      "epoch: 12, [batch: 16800 / 33600], examples_per_second: 3247.2904, train_label_loss: 0.5480, \n"
     ]
    },
    {
     "name": "stdout",
     "output_type": "stream",
     "text": [
      "epoch: 12, [batch: 20160 / 33600], examples_per_second: 3245.4005, train_label_loss: 0.3384, \n"
     ]
    },
    {
     "name": "stdout",
     "output_type": "stream",
     "text": [
      "epoch: 12, [batch: 23520 / 33600], examples_per_second: 3238.5766, train_label_loss: 0.1204, \n"
     ]
    },
    {
     "name": "stdout",
     "output_type": "stream",
     "text": [
      "epoch: 12, [batch: 26880 / 33600], examples_per_second: 3229.8236, train_label_loss: 0.3512, \n"
     ]
    },
    {
     "name": "stdout",
     "output_type": "stream",
     "text": [
      "epoch: 12, [batch: 30240 / 33600], examples_per_second: 3241.9368, train_label_loss: 0.3092, \n"
     ]
    },
    {
     "name": "stdout",
     "output_type": "stream",
     "text": [
      "=============================================================\n",
      "epoch: 12, source_val_acc_label: 0.7265, target_val_acc_label: 0.7107, source_val_label_loss: 0.8291, target_val_label_loss: 0.9108, \n",
      "=============================================================\n"
     ]
    },
    {
     "name": "stdout",
     "output_type": "stream",
     "text": [
      "epoch: 13, [batch: 1 / 33600], examples_per_second: 0.9648, train_label_loss: 0.2822, \n"
     ]
    },
    {
     "name": "stdout",
     "output_type": "stream",
     "text": [
      "epoch: 13, [batch: 3360 / 33600], examples_per_second: 3237.6987, train_label_loss: 0.4483, \n"
     ]
    },
    {
     "name": "stdout",
     "output_type": "stream",
     "text": [
      "epoch: 13, [batch: 6720 / 33600], examples_per_second: 3237.0223, train_label_loss: 0.4294, \n"
     ]
    },
    {
     "name": "stdout",
     "output_type": "stream",
     "text": [
      "epoch: 13, [batch: 10080 / 33600], examples_per_second: 3228.3711, train_label_loss: 0.7635, \n"
     ]
    },
    {
     "name": "stdout",
     "output_type": "stream",
     "text": [
      "epoch: 13, [batch: 13440 / 33600], examples_per_second: 3232.9900, train_label_loss: 0.4323, \n"
     ]
    },
    {
     "name": "stdout",
     "output_type": "stream",
     "text": [
      "epoch: 13, [batch: 16800 / 33600], examples_per_second: 3243.8833, train_label_loss: 0.2931, \n"
     ]
    },
    {
     "name": "stdout",
     "output_type": "stream",
     "text": [
      "epoch: 13, [batch: 20160 / 33600], examples_per_second: 3247.9825, train_label_loss: 0.3112, \n"
     ]
    },
    {
     "name": "stdout",
     "output_type": "stream",
     "text": [
      "epoch: 13, [batch: 23520 / 33600], examples_per_second: 3231.2625, train_label_loss: 0.3375, \n"
     ]
    },
    {
     "name": "stdout",
     "output_type": "stream",
     "text": [
      "epoch: 13, [batch: 26880 / 33600], examples_per_second: 3245.4351, train_label_loss: 0.5795, \n"
     ]
    },
    {
     "name": "stdout",
     "output_type": "stream",
     "text": [
      "epoch: 13, [batch: 30240 / 33600], examples_per_second: 3247.0199, train_label_loss: 0.3508, \n"
     ]
    },
    {
     "name": "stdout",
     "output_type": "stream",
     "text": [
      "=============================================================\n",
      "epoch: 13, source_val_acc_label: 0.7246, target_val_acc_label: 0.7084, source_val_label_loss: 0.8449, target_val_label_loss: 0.9295, \n",
      "=============================================================\n"
     ]
    },
    {
     "name": "stdout",
     "output_type": "stream",
     "text": [
      "epoch: 14, [batch: 1 / 33600], examples_per_second: 0.9646, train_label_loss: 0.2943, \n"
     ]
    },
    {
     "name": "stdout",
     "output_type": "stream",
     "text": [
      "epoch: 14, [batch: 3360 / 33600], examples_per_second: 3225.9264, train_label_loss: 0.1141, \n"
     ]
    },
    {
     "name": "stdout",
     "output_type": "stream",
     "text": [
      "epoch: 14, [batch: 6720 / 33600], examples_per_second: 3222.7893, train_label_loss: 0.2128, \n"
     ]
    },
    {
     "name": "stdout",
     "output_type": "stream",
     "text": [
      "epoch: 14, [batch: 10080 / 33600], examples_per_second: 3243.7938, train_label_loss: 0.7957, \n"
     ]
    },
    {
     "name": "stdout",
     "output_type": "stream",
     "text": [
      "epoch: 14, [batch: 13440 / 33600], examples_per_second: 3232.0528, train_label_loss: 0.2589, \n"
     ]
    },
    {
     "name": "stdout",
     "output_type": "stream",
     "text": [
      "epoch: 14, [batch: 16800 / 33600], examples_per_second: 3240.5384, train_label_loss: 0.0304, \n"
     ]
    },
    {
     "name": "stdout",
     "output_type": "stream",
     "text": [
      "epoch: 14, [batch: 20160 / 33600], examples_per_second: 3239.5800, train_label_loss: 0.3890, \n"
     ]
    },
    {
     "name": "stdout",
     "output_type": "stream",
     "text": [
      "epoch: 14, [batch: 23520 / 33600], examples_per_second: 3233.2385, train_label_loss: 0.2967, \n"
     ]
    },
    {
     "name": "stdout",
     "output_type": "stream",
     "text": [
      "epoch: 14, [batch: 26880 / 33600], examples_per_second: 3251.2119, train_label_loss: 0.1056, \n"
     ]
    },
    {
     "name": "stdout",
     "output_type": "stream",
     "text": [
      "epoch: 14, [batch: 30240 / 33600], examples_per_second: 3244.5130, train_label_loss: 0.6095, \n"
     ]
    },
    {
     "name": "stdout",
     "output_type": "stream",
     "text": [
      "=============================================================\n",
      "epoch: 14, source_val_acc_label: 0.7222, target_val_acc_label: 0.7068, source_val_label_loss: 0.8716, target_val_label_loss: 0.9576, \n",
      "=============================================================\n"
     ]
    },
    {
     "name": "stdout",
     "output_type": "stream",
     "text": [
      "Patience (3) exhausted\n"
     ]
    }
   ],
   "source": [
    "###################################\n",
    "# train\n",
    "###################################\n",
    "jig = PTN_Train_Eval_Test_Jig(model, p.BEST_MODEL_PATH, p.device)\n",
    "\n",
    "jig.train(\n",
    "    train_iterable=datasets.source.processed.train,\n",
    "    source_val_iterable=datasets.source.processed.val,\n",
    "    target_val_iterable=datasets.target.processed.val,\n",
    "    num_epochs=p.n_epoch,\n",
    "    num_logs_per_epoch=p.NUM_LOGS_PER_EPOCH,\n",
    "    patience=p.patience,\n",
    "    optimizer=optimizer,\n",
    "    criteria_for_best=p.criteria_for_best,\n",
    ")"
   ]
  },
  {
   "cell_type": "code",
   "execution_count": 23,
   "id": "31e8fabf",
   "metadata": {
    "execution": {
     "iopub.execute_input": "2022-03-28T20:04:45.172541Z",
     "iopub.status.busy": "2022-03-28T20:04:45.172292Z",
     "iopub.status.idle": "2022-03-28T20:04:45.192396Z",
     "shell.execute_reply": "2022-03-28T20:04:45.191953Z"
    },
    "papermill": {
     "duration": 0.065558,
     "end_time": "2022-03-28T20:04:45.192486",
     "exception": false,
     "start_time": "2022-03-28T20:04:45.126928",
     "status": "completed"
    },
    "tags": []
   },
   "outputs": [],
   "source": [
    "total_experiment_time_secs = time.time() - start_time_secs"
   ]
  },
  {
   "cell_type": "code",
   "execution_count": 24,
   "id": "87b9595b",
   "metadata": {
    "execution": {
     "iopub.execute_input": "2022-03-28T20:04:45.289813Z",
     "iopub.status.busy": "2022-03-28T20:04:45.289516Z",
     "iopub.status.idle": "2022-03-28T20:12:51.664778Z",
     "shell.execute_reply": "2022-03-28T20:12:51.664336Z"
    },
    "papermill": {
     "duration": 486.424621,
     "end_time": "2022-03-28T20:12:51.664892",
     "exception": false,
     "start_time": "2022-03-28T20:04:45.240271",
     "status": "completed"
    },
    "tags": []
   },
   "outputs": [],
   "source": [
    "###################################\n",
    "# Evaluate the model\n",
    "###################################\n",
    "source_test_label_accuracy, source_test_label_loss = jig.test(datasets.source.processed.test)\n",
    "target_test_label_accuracy, target_test_label_loss = jig.test(datasets.target.processed.test)\n",
    "\n",
    "source_val_label_accuracy, source_val_label_loss = jig.test(datasets.source.processed.val)\n",
    "target_val_label_accuracy, target_val_label_loss = jig.test(datasets.target.processed.val)\n",
    "\n",
    "history = jig.get_history()\n",
    "\n",
    "total_epochs_trained = len(history[\"epoch_indices\"])\n",
    "\n",
    "val_dl = Iterable_Aggregator((datasets.source.original.val,datasets.target.original.val))\n",
    "\n",
    "confusion = ptn_confusion_by_domain_over_dataloader(model, p.device, val_dl)\n",
    "per_domain_accuracy = per_domain_accuracy_from_confusion(confusion)\n",
    "\n",
    "# Add a key to per_domain_accuracy for if it was a source domain\n",
    "for domain, accuracy in per_domain_accuracy.items():\n",
    "    per_domain_accuracy[domain] = {\n",
    "        \"accuracy\": accuracy,\n",
    "        \"source?\": domain in p.domains_source\n",
    "    }\n",
    "\n",
    "# Do an independent accuracy assesment JUST TO BE SURE!\n",
    "# _source_test_label_accuracy = independent_accuracy_assesment(model, datasets.source.processed.test, p.device)\n",
    "# _target_test_label_accuracy = independent_accuracy_assesment(model, datasets.target.processed.test, p.device)\n",
    "# _source_val_label_accuracy = independent_accuracy_assesment(model, datasets.source.processed.val, p.device)\n",
    "# _target_val_label_accuracy = independent_accuracy_assesment(model, datasets.target.processed.val, p.device)\n",
    "\n",
    "# assert(_source_test_label_accuracy == source_test_label_accuracy)\n",
    "# assert(_target_test_label_accuracy == target_test_label_accuracy)\n",
    "# assert(_source_val_label_accuracy == source_val_label_accuracy)\n",
    "# assert(_target_val_label_accuracy == target_val_label_accuracy)\n",
    "\n",
    "experiment = {\n",
    "    \"experiment_name\": p.experiment_name,\n",
    "    \"parameters\": dict(p),\n",
    "    \"results\": {\n",
    "        \"source_test_label_accuracy\": source_test_label_accuracy,\n",
    "        \"source_test_label_loss\": source_test_label_loss,\n",
    "        \"target_test_label_accuracy\": target_test_label_accuracy,\n",
    "        \"target_test_label_loss\": target_test_label_loss,\n",
    "        \"source_val_label_accuracy\": source_val_label_accuracy,\n",
    "        \"source_val_label_loss\": source_val_label_loss,\n",
    "        \"target_val_label_accuracy\": target_val_label_accuracy,\n",
    "        \"target_val_label_loss\": target_val_label_loss,\n",
    "        \"total_epochs_trained\": total_epochs_trained,\n",
    "        \"total_experiment_time_secs\": total_experiment_time_secs,\n",
    "        \"confusion\": confusion,\n",
    "        \"per_domain_accuracy\": per_domain_accuracy,\n",
    "    },\n",
    "    \"history\": history,\n",
    "    \"dataset_metrics\": get_dataset_metrics(datasets, \"ptn\"),\n",
    "}"
   ]
  },
  {
   "cell_type": "code",
   "execution_count": 25,
   "id": "54a21829",
   "metadata": {
    "execution": {
     "iopub.execute_input": "2022-03-28T20:12:51.762740Z",
     "iopub.status.busy": "2022-03-28T20:12:51.761950Z",
     "iopub.status.idle": "2022-03-28T20:12:51.915158Z",
     "shell.execute_reply": "2022-03-28T20:12:51.915573Z"
    },
    "papermill": {
     "duration": 0.199175,
     "end_time": "2022-03-28T20:12:51.915700",
     "exception": false,
     "start_time": "2022-03-28T20:12:51.716525",
     "status": "completed"
    },
    "tags": []
   },
   "outputs": [
    {
     "data": {
      "image/png": "[encoded data removed]",
      "text/plain": [
       "<Figure size 1080x504 with 1 Axes>"
      ]
     },
     "metadata": {
      "needs_background": "light"
     },
     "output_type": "display_data"
    }
   ],
   "source": [
    "ax = get_loss_curve(experiment)\n",
    "plt.show()"
   ]
  },
  {
   "cell_type": "code",
   "execution_count": 26,
   "id": "fd8a0f60",
   "metadata": {
    "execution": {
     "iopub.execute_input": "2022-03-28T20:12:52.011009Z",
     "iopub.status.busy": "2022-03-28T20:12:52.010747Z",
     "iopub.status.idle": "2022-03-28T20:12:52.158823Z",
     "shell.execute_reply": "2022-03-28T20:12:52.159054Z"
    },
    "papermill": {
     "duration": 0.195109,
     "end_time": "2022-03-28T20:12:52.159135",
     "exception": false,
     "start_time": "2022-03-28T20:12:51.964026",
     "status": "completed"
    },
    "tags": []
   },
   "outputs": [
    {
     "data": {
      "text/plain": [
       "<AxesSubplot:title={'center':'Results'}>"
      ]
     },
     "execution_count": 26,
     "metadata": {},
     "output_type": "execute_result"
    },
    {
     "data": {
      "image/png": "[encoded data removed]",
      "text/plain": [
       "<Figure size 1080x504 with 1 Axes>"
      ]
     },
     "metadata": {
      "needs_background": "light"
     },
     "output_type": "display_data"
    }
   ],
   "source": [
    "get_results_table(experiment)"
   ]
  },
  {
   "cell_type": "code",
   "execution_count": 27,
   "id": "cf8dc689",
   "metadata": {
    "execution": {
     "iopub.execute_input": "2022-03-28T20:12:52.257490Z",
     "iopub.status.busy": "2022-03-28T20:12:52.257232Z",
     "iopub.status.idle": "2022-03-28T20:12:52.439565Z",
     "shell.execute_reply": "2022-03-28T20:12:52.439982Z"
    },
    "papermill": {
     "duration": 0.231316,
     "end_time": "2022-03-28T20:12:52.440109",
     "exception": false,
     "start_time": "2022-03-28T20:12:52.208793",
     "status": "completed"
    },
    "tags": []
   },
   "outputs": [
    {
     "data": {
      "text/plain": [
       "<AxesSubplot:title={'center':'Per Domain Validation Accuracy'}, xlabel='domain'>"
      ]
     },
     "execution_count": 27,
     "metadata": {},
     "output_type": "execute_result"
    },
    {
     "data": {
      "image/png": "[encoded data removed]",
      "text/plain": [
       "<Figure size 1080x504 with 1 Axes>"
      ]
     },
     "metadata": {
      "needs_background": "light"
     },
     "output_type": "display_data"
    }
   ],
   "source": [
    "get_domain_accuracies(experiment)"
   ]
  },
  {
   "cell_type": "code",
   "execution_count": 28,
   "id": "a74ae082",
   "metadata": {
    "execution": {
     "iopub.execute_input": "2022-03-28T20:12:52.539323Z",
     "iopub.status.busy": "2022-03-28T20:12:52.539056Z",
     "iopub.status.idle": "2022-03-28T20:12:52.556463Z",
     "shell.execute_reply": "2022-03-28T20:12:52.556687Z"
    },
    "papermill": {
     "duration": 0.066239,
     "end_time": "2022-03-28T20:12:52.556761",
     "exception": false,
     "start_time": "2022-03-28T20:12:52.490522",
     "status": "completed"
    },
    "tags": []
   },
   "outputs": [
    {
     "name": "stdout",
     "output_type": "stream",
     "text": [
      "Source Test Label Accuracy: 0.7298111979166667 Target Test Label Accuracy: 0.7121354166666667\n",
      "Source Val Label Accuracy: 0.7277408854166667 Target Val Label Accuracy: 0.7139127604166666\n"
     ]
    }
   ],
   "source": [
    "print(\"Source Test Label Accuracy:\", experiment[\"results\"][\"source_test_label_accuracy\"], \"Target Test Label Accuracy:\", experiment[\"results\"][\"target_test_label_accuracy\"])\n",
    "print(\"Source Val Label Accuracy:\", experiment[\"results\"][\"source_val_label_accuracy\"], \"Target Val Label Accuracy:\", experiment[\"results\"][\"target_val_label_accuracy\"])"
   ]
  },
  {
   "cell_type": "code",
   "execution_count": 29,
   "id": "dacca602",
   "metadata": {
    "execution": {
     "iopub.execute_input": "2022-03-28T20:12:52.659210Z",
     "iopub.status.busy": "2022-03-28T20:12:52.658802Z",
     "iopub.status.idle": "2022-03-28T20:12:52.672990Z",
     "shell.execute_reply": "2022-03-28T20:12:52.673215Z"
    },
    "papermill": {
     "duration": 0.064561,
     "end_time": "2022-03-28T20:12:52.673293",
     "exception": false,
     "start_time": "2022-03-28T20:12:52.608732",
     "status": "completed"
    },
    "tags": [
     "experiment_json"
    ]
   },
   "outputs": [
    {
     "data": {
      "text/plain": [
       "'{\"experiment_name\": \"tl_1v2:oracle.run1-oracle.run2\", \"parameters\": {\"experiment_name\": \"tl_1v2:oracle.run1-oracle.run2\", \"device\": \"cuda\", \"lr\": 0.0001, \"n_shot\": 3, \"n_query\": 2, \"train_k_factor\": 3, \"val_k_factor\": 2, \"test_k_factor\": 2, \"torch_default_dtype\": \"torch.float32\", \"n_epoch\": 50, \"patience\": 3, \"criteria_for_best\": \"target_accuracy\", \"x_net\": [{\"class\": \"nnReshape\", \"kargs\": {\"shape\": [-1, 1, 2, 256]}}, {\"class\": \"Conv2d\", \"kargs\": {\"in_channels\": 1, \"out_channels\": 256, \"kernel_size\": [1, 7], \"bias\": false, \"padding\": [0, 3]}}, {\"class\": \"ReLU\", \"kargs\": {\"inplace\": true}}, {\"class\": \"BatchNorm2d\", \"kargs\": {\"num_features\": 256}}, {\"class\": \"Conv2d\", \"kargs\": {\"in_channels\": 256, \"out_channels\": 80, \"kernel_size\": [2, 7], \"bias\": true, \"padding\": [0, 3]}}, {\"class\": \"ReLU\", \"kargs\": {\"inplace\": true}}, {\"class\": \"BatchNorm2d\", \"kargs\": {\"num_features\": 80}}, {\"class\": \"Flatten\", \"kargs\": {}}, {\"class\": \"Linear\", \"kargs\": {\"in_features\": 20480, \"out_features\": 256}}, {\"class\": \"ReLU\", \"kargs\": {\"inplace\": true}}, {\"class\": \"BatchNorm1d\", \"kargs\": {\"num_features\": 256}}, {\"class\": \"Linear\", \"kargs\": {\"in_features\": 256, \"out_features\": 256}}], \"NUM_LOGS_PER_EPOCH\": 10, \"BEST_MODEL_PATH\": \"./best_model.pth\", \"n_way\": 16, \"datasets\": [{\"labels\": [\"3123D52\", \"3123D65\", \"3123D79\", \"3123D80\", \"3123D54\", \"3123D70\", \"3123D7B\", \"3123D89\", \"3123D58\", \"3123D76\", \"3123D7D\", \"3123EFE\", \"3123D64\", \"3123D78\", \"3123D7E\", \"3124E4A\"], \"domains\": [32, 38, 8, 44, 14, 50, 20, 26], \"num_examples_per_domain_per_label\": 10000, \"pickle_path\": \"/mnt/wd500GB/CSC500/csc500-main/datasets/oracle.Run1_10kExamples_stratified_ds.2022A.pkl\", \"source_or_target_dataset\": \"source\", \"x_transforms\": [\"unit_mag\"], \"episode_transforms\": [], \"domain_prefix\": \"ORACLE.run1_\"}, {\"labels\": [\"3123D52\", \"3123D65\", \"3123D79\", \"3123D80\", \"3123D54\", \"3123D70\", \"3123D7B\", \"3123D89\", \"3123D58\", \"3123D76\", \"3123D7D\", \"3123EFE\", \"3123D64\", \"3123D78\", \"3123D7E\", \"3124E4A\"], \"domains\": [32, 38, 8, 44, 14, 50, 20, 26], \"num_examples_per_domain_per_label\": 10000, \"pickle_path\": \"/mnt/wd500GB/CSC500/csc500-main/datasets/oracle.Run2_10kExamples_stratified_ds.2022A.pkl\", \"source_or_target_dataset\": \"target\", \"x_transforms\": [\"unit_mag\"], \"episode_transforms\": [], \"domain_prefix\": \"ORACLE.run2_\"}], \"dataset_seed\": 7, \"seed\": 7, \"x_shape\": [2, 256], \"domains_source\": [\"ORACLE.run1_32\", \"ORACLE.run1_38\", \"ORACLE.run1_8\", \"ORACLE.run1_44\", \"ORACLE.run1_14\", \"ORACLE.run1_50\", \"ORACLE.run1_20\", \"ORACLE.run1_26\"], \"domains_target\": [\"ORACLE.run2_32\", \"ORACLE.run2_38\", \"ORACLE.run2_8\", \"ORACLE.run2_44\", \"ORACLE.run2_14\", \"ORACLE.run2_50\", \"ORACLE.run2_20\", \"ORACLE.run2_26\"]}, \"results\": {\"source_test_label_accuracy\": 0.7298111979166667, \"source_test_label_loss\": 0.783233106136322, \"target_test_label_accuracy\": 0.7121354166666667, \"target_test_label_loss\": 0.8738514184951782, \"source_val_label_accuracy\": 0.7277408854166667, \"source_val_label_loss\": 0.7922388315200806, \"target_val_label_accuracy\": 0.7139127604166666, \"target_val_label_loss\": 0.8676452040672302, \"total_epochs_trained\": 14, \"total_experiment_time_secs\": 12994.015016794205, \"confusion\": {\"ORACLE.run1_26\": {\"0\": {\"14\": 206, \"8\": 96, \"10\": 302, \"0\": 366, \"4\": 155, \"7\": 20, \"9\": 5, \"6\": 30, \"1\": 19, \"15\": 1}, \"4\": {\"4\": 497, \"7\": 91, \"10\": 65, \"14\": 221, \"1\": 91, \"8\": 84, \"0\": 145, \"15\": 2, \"2\": 2, \"3\": 1, \"5\": 1}, \"14\": {\"4\": 230, \"1\": 211, \"0\": 185, \"10\": 100, \"8\": 28, \"14\": 435, \"7\": 8, \"3\": 1, \"15\": 1, \"9\": 1}, \"12\": {\"12\": 1199, \"11\": 1}, \"8\": {\"7\": 90, \"0\": 106, \"8\": 440, \"10\": 157, \"2\": 23, \"3\": 6, \"4\": 103, \"15\": 86, \"9\": 103, \"14\": 21, \"6\": 39, \"5\": 22, \"1\": 4}, \"7\": {\"7\": 638, \"15\": 11, \"4\": 113, \"3\": 183, \"2\": 123, \"8\": 93, \"0\": 15, \"9\": 5, \"5\": 2, \"14\": 8, \"10\": 4, \"1\": 5}, \"13\": {\"13\": 904, \"5\": 193, \"9\": 19, \"15\": 60, \"2\": 14, \"6\": 9, \"7\": 1}, \"5\": {\"15\": 149, \"5\": 729, \"8\": 37, \"9\": 52, \"13\": 142, \"2\": 80, \"7\": 5, \"3\": 3, \"10\": 2, \"6\": 1}, \"15\": {\"15\": 444, \"9\": 355, \"5\": 124, \"8\": 116, \"13\": 57, \"6\": 34, \"2\": 40, \"10\": 10, \"7\": 12, \"0\": 4, \"14\": 1, \"4\": 2, \"3\": 1}, \"10\": {\"0\": 259, \"4\": 69, \"1\": 15, \"14\": 115, \"8\": 157, \"10\": 494, \"6\": 56, \"2\": 2, \"9\": 19, \"15\": 11, \"5\": 2, \"7\": 1}, \"3\": {\"3\": 708, \"7\": 196, \"4\": 8, \"2\": 282, \"1\": 1, \"15\": 2, \"14\": 1, \"8\": 2}, \"9\": {\"15\": 378, \"9\": 472, \"8\": 111, \"6\": 141, \"13\": 29, \"2\": 5, \"10\": 18, \"5\": 31, \"4\": 2, \"7\": 6, \"14\": 1, \"0\": 6}, \"6\": {\"9\": 158, \"6\": 850, \"8\": 33, \"15\": 45, \"10\": 83, \"13\": 10, \"0\": 19, \"5\": 1, \"14\": 1}, \"1\": {\"14\": 265, \"1\": 735, \"4\": 130, \"0\": 23, \"10\": 26, \"7\": 13, \"8\": 8}, \"11\": {\"11\": 1195, \"12\": 5}, \"2\": {\"2\": 464, \"7\": 130, \"3\": 363, \"5\": 118, \"15\": 62, \"8\": 38, \"10\": 1, \"9\": 12, \"4\": 7, \"13\": 4, \"0\": 1}}, \"ORACLE.run1_44\": {\"1\": {\"10\": 99, \"1\": 731, \"3\": 162, \"12\": 177, \"2\": 31}, \"11\": {\"11\": 1118, \"13\": 62, \"6\": 20}, \"3\": {\"1\": 106, \"3\": 1078, \"12\": 14, \"2\": 2}, \"6\": {\"6\": 805, \"13\": 233, \"9\": 128, \"2\": 2, \"7\": 24, \"11\": 8}, \"7\": {\"7\": 780, \"9\": 226, \"2\": 157, \"6\": 23, \"1\": 2, \"3\": 4, \"13\": 8}, \"5\": {\"8\": 15, \"5\": 1021, \"15\": 43, \"0\": 91, \"14\": 28, \"4\": 2}, \"2\": {\"2\": 894, \"10\": 89, \"7\": 174, \"1\": 35, \"3\": 4, \"6\": 1, \"9\": 2, \"12\": 1}, \"15\": {\"0\": 83, \"15\": 981, \"14\": 86, \"4\": 8, \"8\": 19, \"5\": 23}, \"10\": {\"10\": 863, \"12\": 84, \"2\": 109, \"1\": 144}, \"13\": {\"9\": 142, \"13\": 810, \"4\": 9, \"6\": 201, \"7\": 4, \"11\": 33, \"14\": 1}, \"8\": {\"8\": 724, \"0\": 422, \"5\": 21, \"15\": 33}, \"4\": {\"14\": 312, \"4\": 874, \"5\": 3, \"15\": 9, \"13\": 2}, \"9\": {\"9\": 682, \"7\": 267, \"6\": 102, \"13\": 140, \"2\": 9}, \"14\": {\"14\": 749, \"4\": 346, \"5\": 30, \"15\": 75}, \"0\": {\"8\": 333, \"0\": 743, \"5\": 61, \"15\": 62, \"14\": 1}, \"12\": {\"12\": 917, \"1\": 219, \"10\": 51, \"3\": 11, \"2\": 2}}, \"ORACLE.run1_50\": {\"15\": {\"1\": 161, \"15\": 907, \"4\": 77, \"6\": 26, \"11\": 29}, \"4\": {\"1\": 176, \"5\": 146, \"4\": 577, \"6\": 93, \"7\": 36, \"13\": 19, \"15\": 152, \"0\": 1}, \"6\": {\"6\": 870, \"13\": 99, \"4\": 80, \"1\": 72, \"5\": 38, \"7\": 12, \"15\": 29}, \"2\": {\"2\": 1104, \"0\": 96}, \"5\": {\"5\": 500, \"7\": 217, \"4\": 161, \"13\": 167, \"6\": 86, \"1\": 64, \"15\": 1, \"10\": 3, \"0\": 1}, \"9\": {\"9\": 947, \"11\": 158, \"12\": 92, \"14\": 2, \"15\": 1}, \"8\": {\"8\": 1163, \"10\": 24, \"3\": 13}, \"12\": {\"12\": 1087, \"9\": 68, \"14\": 37, \"11\": 8}, \"10\": {\"10\": 1100, \"13\": 23, \"0\": 36, \"7\": 21, \"8\": 20}, \"1\": {\"1\": 795, \"15\": 213, \"4\": 81, \"6\": 88, \"13\": 2, \"14\": 5, \"5\": 11, \"11\": 4, \"0\": 1}, \"0\": {\"0\": 1052, \"2\": 103, \"13\": 4, \"10\": 41}, \"3\": {\"3\": 1184, \"8\": 16}, \"13\": {\"13\": 780, \"7\": 184, \"5\": 140, \"6\": 68, \"4\": 6, \"10\": 21, \"1\": 1}, \"11\": {\"11\": 1049, \"9\": 106, \"15\": 32, \"12\": 5, \"14\": 5, \"1\": 3}, \"7\": {\"7\": 781, \"13\": 247, \"5\": 143, \"10\": 15, \"6\": 8, \"4\": 6}, \"14\": {\"14\": 1184, \"12\": 11, \"11\": 5}}, \"ORACLE.run1_38\": {\"15\": {\"15\": 910, \"1\": 74, \"5\": 19, \"13\": 149, \"8\": 39, \"2\": 7, \"10\": 2}, \"11\": {\"11\": 1041, \"14\": 145, \"10\": 11, \"12\": 2, \"2\": 1}, \"10\": {\"10\": 990, \"13\": 111, \"8\": 30, \"4\": 5, \"14\": 11, \"0\": 13, \"11\": 9, \"12\": 18, \"2\": 1, \"7\": 9, \"5\": 2, \"15\": 1}, \"14\": {\"14\": 1095, \"2\": 53, \"11\": 32, \"13\": 4, \"12\": 7, \"10\": 8, \"15\": 1}, \"6\": {\"6\": 1030, \"9\": 162, \"5\": 7, \"0\": 1}, \"4\": {\"4\": 1151, \"7\": 3, \"10\": 3, \"12\": 41, \"0\": 2}, \"13\": {\"15\": 173, \"13\": 875, \"8\": 14, \"0\": 4, \"10\": 104, \"2\": 20, \"1\": 4, \"5\": 4, \"14\": 2}, \"3\": {\"3\": 1126, \"9\": 43, \"7\": 8, \"0\": 17, \"5\": 5, \"6\": 1}, \"7\": {\"7\": 980, \"0\": 134, \"5\": 49, \"8\": 34, \"3\": 1, \"9\": 1, \"10\": 1}, \"8\": {\"8\": 748, \"5\": 231, \"7\": 45, \"0\": 134, \"10\": 12, \"15\": 23, \"13\": 5, \"9\": 1, \"1\": 1}, \"1\": {\"1\": 1142, \"15\": 56, \"5\": 2}, \"5\": {\"8\": 313, \"7\": 103, \"9\": 36, \"5\": 550, \"3\": 9, \"15\": 48, \"6\": 39, \"0\": 73, \"13\": 10, \"1\": 15, \"10\": 4}, \"0\": {\"5\": 69, \"10\": 23, \"7\": 200, \"8\": 259, \"0\": 566, \"3\": 70, \"4\": 5, \"12\": 6, \"9\": 1, \"15\": 1}, \"2\": {\"2\": 1094, \"14\": 72, \"11\": 1, \"13\": 30, \"15\": 2, \"10\": 1}, \"12\": {\"12\": 1161, \"4\": 29, \"0\": 4, \"10\": 6}, \"9\": {\"9\": 863, \"6\": 293, \"3\": 18, \"5\": 26}}, \"ORACLE.run1_20\": {\"10\": {\"10\": 1092, \"4\": 19, \"14\": 80, \"8\": 6, \"7\": 2, \"6\": 1}, \"7\": {\"7\": 881, \"6\": 11, \"2\": 151, \"3\": 33, \"4\": 8, \"8\": 52, \"9\": 55, \"14\": 1, \"10\": 1, \"12\": 3, \"13\": 4}, \"4\": {\"4\": 971, \"3\": 47, \"10\": 30, \"8\": 133, \"12\": 7, \"5\": 4, \"7\": 6, \"9\": 2}, \"13\": {\"13\": 1104, \"7\": 4, \"15\": 25, \"2\": 47, \"1\": 6, \"0\": 1, \"12\": 5, \"9\": 7, \"5\": 1}, \"1\": {\"5\": 202, \"15\": 192, \"1\": 560, \"3\": 22, \"12\": 175, \"0\": 22, \"2\": 8, \"9\": 16, \"13\": 3}, \"0\": {\"0\": 716, \"5\": 304, \"2\": 6, \"8\": 7, \"3\": 13, \"15\": 101, \"12\": 17, \"1\": 17, \"4\": 11, \"13\": 5, \"9\": 2, \"7\": 1}, \"12\": {\"5\": 117, \"12\": 465, \"3\": 219, \"9\": 126, \"2\": 56, \"1\": 182, \"15\": 14, \"0\": 9, \"7\": 7, \"4\": 4, \"13\": 1}, \"5\": {\"3\": 53, \"15\": 108, \"0\": 202, \"5\": 544, \"1\": 166, \"12\": 113, \"9\": 5, \"2\": 4, \"4\": 3, \"8\": 2}, \"6\": {\"6\": 1050, \"14\": 126, \"7\": 9, \"8\": 8, \"11\": 2, \"10\": 4, \"2\": 1}, \"2\": {\"3\": 71, \"9\": 269, \"2\": 593, \"7\": 138, \"13\": 56, \"12\": 49, \"5\": 7, \"4\": 2, \"1\": 8, \"15\": 6, \"0\": 1}, \"8\": {\"7\": 64, \"8\": 933, \"4\": 133, \"10\": 14, \"14\": 28, \"2\": 4, \"9\": 3, \"3\": 11, \"6\": 9, \"12\": 1}, \"11\": {\"11\": 1200}, \"9\": {\"3\": 193, \"9\": 535, \"2\": 281, \"12\": 102, \"7\": 61, \"1\": 11, \"4\": 7, \"13\": 6, \"8\": 2, \"5\": 1, \"15\": 1}, \"14\": {\"14\": 990, \"10\": 80, \"6\": 117, \"8\": 13}, \"15\": {\"15\": 767, \"1\": 200, \"2\": 8, \"5\": 107, \"13\": 27, \"0\": 66, \"12\": 20, \"9\": 4, \"3\": 1}, \"3\": {\"12\": 256, \"3\": 506, \"9\": 189, \"2\": 75, \"5\": 29, \"1\": 19, \"7\": 39, \"4\": 70, \"8\": 10, \"0\": 3, \"15\": 3, \"10\": 1}}, \"ORACLE.run1_14\": {\"14\": {\"14\": 984, \"3\": 37, \"13\": 78, \"2\": 71, \"6\": 27, \"4\": 2, \"10\": 1}, \"0\": {\"0\": 1073, \"10\": 81, \"11\": 21, \"3\": 24, \"14\": 1}, \"4\": {\"3\": 94, \"4\": 886, \"5\": 139, \"1\": 15, \"2\": 63, \"6\": 1, \"14\": 2}, \"11\": {\"11\": 1081, \"9\": 73, \"0\": 46}, \"13\": {\"6\": 502, \"13\": 403, \"2\": 121, \"14\": 155, \"5\": 9, \"15\": 4, \"4\": 4, \"3\": 1, \"10\": 1}, \"9\": {\"9\": 1195, \"11\": 2, \"12\": 3}, \"3\": {\"3\": 1048, \"4\": 97, \"14\": 31, \"5\": 2, \"2\": 17, \"0\": 3, \"1\": 1, \"10\": 1}, \"6\": {\"13\": 398, \"6\": 719, \"14\": 34, \"2\": 49}, \"1\": {\"1\": 1079, \"5\": 112, \"4\": 8, \"7\": 1}, \"5\": {\"5\": 792, \"1\": 151, \"2\": 51, \"4\": 184, \"7\": 14, \"15\": 1, \"3\": 6, \"13\": 1}, \"12\": {\"12\": 1196, \"9\": 4}, \"10\": {\"10\": 1154, \"0\": 45, \"14\": 1}, \"8\": {\"8\": 1200}, \"7\": {\"7\": 1175, \"1\": 5, \"15\": 18, \"5\": 2}, \"15\": {\"15\": 1173, \"7\": 25, \"2\": 1, \"5\": 1}, \"2\": {\"5\": 120, \"2\": 613, \"4\": 84, \"3\": 53, \"6\": 84, \"13\": 63, \"14\": 159, \"1\": 1, \"15\": 23}}, \"ORACLE.run1_32\": {\"11\": {\"11\": 976, \"14\": 186, \"7\": 19, \"13\": 10, \"3\": 7, \"5\": 2}, \"1\": {\"1\": 1191, \"10\": 9}, \"2\": {\"4\": 199, \"2\": 951, \"7\": 20, \"0\": 21, \"5\": 6, \"14\": 2, \"13\": 1}, \"0\": {\"0\": 862, \"2\": 29, \"8\": 113, \"4\": 88, \"13\": 20, \"7\": 31, \"5\": 26, \"14\": 30, \"11\": 1}, \"3\": {\"3\": 1123, \"13\": 39, \"11\": 19, \"5\": 7, \"8\": 9, \"7\": 1, \"14\": 2}, \"8\": {\"8\": 936, \"0\": 98, \"13\": 79, \"5\": 68, \"14\": 2, \"3\": 10, \"4\": 3, \"7\": 4}, \"12\": {\"12\": 1200}, \"5\": {\"13\": 306, \"3\": 50, \"5\": 438, \"4\": 122, \"7\": 144, \"14\": 20, \"8\": 67, \"11\": 6, \"0\": 40, \"2\": 7}, \"15\": {\"15\": 1194, \"8\": 3, \"3\": 3}, \"7\": {\"7\": 592, \"13\": 111, \"14\": 124, \"11\": 21, \"0\": 26, \"2\": 29, \"5\": 150, \"4\": 141, \"8\": 5, \"3\": 1}, \"4\": {\"4\": 712, \"13\": 39, \"7\": 112, \"14\": 2, \"2\": 205, \"5\": 96, \"0\": 32, \"8\": 2}, \"14\": {\"2\": 13, \"14\": 549, \"4\": 13, \"11\": 297, \"13\": 54, \"7\": 182, \"5\": 39, \"3\": 9, \"8\": 8, \"0\": 36}, \"10\": {\"10\": 1189, \"1\": 11}, \"6\": {\"6\": 1200}, \"13\": {\"8\": 47, \"5\": 259, \"4\": 69, \"13\": 555, \"14\": 31, \"7\": 116, \"3\": 85, \"11\": 8, \"0\": 30}, \"9\": {\"9\": 1199, \"12\": 1}}, \"ORACLE.run1_8\": {\"9\": {\"9\": 1200}, \"11\": {\"11\": 819, \"1\": 348, \"8\": 6, \"10\": 1, \"14\": 13, \"5\": 11, \"6\": 1, \"4\": 1}, \"8\": {\"8\": 1141, \"15\": 50, \"12\": 6, \"6\": 2, \"11\": 1}, \"4\": {\"4\": 624, \"13\": 208, \"0\": 51, \"14\": 158, \"6\": 118, \"10\": 29, \"1\": 8, \"7\": 4}, \"13\": {\"10\": 130, \"13\": 415, \"4\": 200, \"0\": 302, \"14\": 97, \"6\": 44, \"5\": 2, \"1\": 2, \"7\": 8}, \"14\": {\"10\": 215, \"14\": 636, \"4\": 190, \"1\": 44, \"13\": 92, \"6\": 5, \"5\": 4, \"11\": 11, \"0\": 3}, \"2\": {\"2\": 990, \"7\": 22, \"3\": 148, \"15\": 29, \"12\": 11}, \"3\": {\"3\": 1023, \"2\": 99, \"12\": 73, \"15\": 5}, \"1\": {\"1\": 864, \"11\": 247, \"14\": 57, \"5\": 17, \"10\": 9, \"4\": 5, \"13\": 1}, \"0\": {\"13\": 238, \"7\": 73, \"0\": 761, \"4\": 45, \"6\": 68, \"10\": 13, \"14\": 2}, \"5\": {\"5\": 1058, \"14\": 12, \"10\": 76, \"1\": 48, \"11\": 6}, \"15\": {\"15\": 838, \"8\": 69, \"12\": 277, \"3\": 9, \"2\": 7}, \"10\": {\"13\": 82, \"5\": 28, \"10\": 826, \"14\": 216, \"4\": 36, \"0\": 5, \"1\": 6, \"11\": 1}, \"12\": {\"3\": 157, \"15\": 371, \"12\": 647, \"8\": 16, \"2\": 9}, \"6\": {\"6\": 747, \"4\": 120, \"7\": 259, \"0\": 43, \"14\": 2, \"13\": 26, \"8\": 3}, \"7\": {\"7\": 905, \"6\": 240, \"0\": 39, \"8\": 5, \"4\": 5, \"13\": 5, \"2\": 1}}, \"ORACLE.run2_26\": {\"0\": {\"8\": 100, \"4\": 121, \"0\": 448, \"10\": 210, \"14\": 222, \"15\": 8, \"1\": 60, \"2\": 10, \"7\": 8, \"6\": 5, \"3\": 2, \"5\": 1, \"9\": 5}, \"4\": {\"4\": 699, \"15\": 32, \"1\": 16, \"2\": 85, \"7\": 63, \"10\": 20, \"0\": 98, \"14\": 63, \"3\": 83, \"8\": 41}, \"14\": {\"0\": 211, \"14\": 427, \"2\": 3, \"10\": 159, \"1\": 251, \"5\": 1, \"8\": 81, \"9\": 3, \"4\": 60, \"7\": 3, \"6\": 1}, \"12\": {\"12\": 1198, \"11\": 2}, \"8\": {\"8\": 538, \"7\": 104, \"2\": 91, \"0\": 67, \"10\": 93, \"5\": 43, \"9\": 98, \"14\": 68, \"4\": 53, \"15\": 10, \"6\": 24, \"13\": 4, \"1\": 7}, \"7\": {\"7\": 389, \"2\": 342, \"4\": 93, \"8\": 114, \"15\": 80, \"3\": 89, \"5\": 51, \"10\": 4, \"0\": 7, \"9\": 20, \"13\": 4, \"14\": 6, \"1\": 1}, \"13\": {\"13\": 904, \"7\": 4, \"5\": 188, \"9\": 74, \"6\": 18, \"8\": 6, \"2\": 6}, \"5\": {\"13\": 257, \"5\": 474, \"7\": 123, \"6\": 89, \"2\": 89, \"9\": 66, \"3\": 17, \"8\": 58, \"14\": 7, \"4\": 1, \"15\": 8, \"10\": 10, \"0\": 1}, \"15\": {\"4\": 69, \"15\": 687, \"2\": 96, \"3\": 208, \"7\": 102, \"9\": 14, \"10\": 1, \"5\": 2, \"8\": 16, \"0\": 4, \"14\": 1}, \"10\": {\"14\": 178, \"10\": 409, \"0\": 245, \"6\": 103, \"1\": 57, \"8\": 94, \"4\": 77, \"15\": 5, \"2\": 5, \"7\": 11, \"9\": 12, \"5\": 1, \"12\": 2, \"3\": 1}, \"3\": {\"15\": 211, \"3\": 706, \"7\": 89, \"4\": 71, \"2\": 119, \"0\": 1, \"8\": 1, \"5\": 2}, \"9\": {\"7\": 21, \"6\": 153, \"8\": 112, \"9\": 720, \"13\": 107, \"5\": 56, \"2\": 14, \"10\": 12, \"15\": 1, \"14\": 2, \"4\": 1, \"0\": 1}, \"6\": {\"6\": 927, \"9\": 153, \"10\": 44, \"5\": 16, \"8\": 19, \"13\": 31, \"14\": 4, \"0\": 4, \"2\": 1, \"7\": 1}, \"1\": {\"14\": 287, \"1\": 770, \"0\": 59, \"10\": 51, \"4\": 17, \"8\": 11, \"2\": 3, \"7\": 2}, \"11\": {\"11\": 1200}, \"2\": {\"7\": 334, \"2\": 337, \"3\": 129, \"4\": 134, \"0\": 11, \"15\": 105, \"8\": 85, \"5\": 44, \"14\": 6, \"9\": 12, \"1\": 1, \"13\": 1, \"10\": 1}}, \"ORACLE.run2_44\": {\"1\": {\"1\": 755, \"12\": 296, \"3\": 133, \"7\": 10, \"10\": 2, \"2\": 4}, \"11\": {\"11\": 1181, \"6\": 15, \"7\": 4}, \"3\": {\"3\": 1036, \"12\": 61, \"1\": 101, \"2\": 1, \"7\": 1}, \"6\": {\"6\": 1111, \"9\": 35, \"7\": 21, \"13\": 20, \"2\": 10, \"11\": 2, \"4\": 1}, \"7\": {\"7\": 615, \"6\": 9, \"2\": 241, \"9\": 329, \"1\": 6}, \"5\": {\"5\": 1100, \"14\": 89, \"8\": 6, \"0\": 1, \"15\": 4}, \"2\": {\"7\": 237, \"2\": 671, \"9\": 287, \"1\": 1, \"3\": 4}, \"15\": {\"15\": 1006, \"4\": 43, \"14\": 140, \"8\": 8, \"5\": 1, \"0\": 2}, \"10\": {\"10\": 1156, \"1\": 12, \"12\": 32}, \"13\": {\"13\": 1144, \"4\": 33, \"6\": 22, \"9\": 1}, \"8\": {\"0\": 448, \"8\": 715, \"5\": 26, \"15\": 8, \"14\": 3}, \"4\": {\"4\": 1049, \"14\": 91, \"15\": 31, \"13\": 28, \"5\": 1}, \"9\": {\"7\": 248, \"9\": 561, \"2\": 345, \"6\": 44, \"1\": 1, \"13\": 1}, \"14\": {\"14\": 890, \"4\": 70, \"15\": 139, \"5\": 97, \"8\": 2, \"13\": 2}, \"0\": {\"0\": 673, \"8\": 522, \"5\": 4, \"15\": 1}, \"12\": {\"12\": 847, \"1\": 272, \"3\": 73, \"10\": 8}}, \"ORACLE.run2_50\": {\"15\": {\"1\": 73, \"15\": 1085, \"11\": 25, \"6\": 15, \"4\": 2}, \"4\": {\"4\": 677, \"6\": 129, \"5\": 309, \"1\": 61, \"7\": 16, \"13\": 3, \"10\": 4, \"15\": 1}, \"6\": {\"6\": 831, \"5\": 55, \"1\": 159, \"4\": 132, \"0\": 3, \"13\": 2, \"15\": 16, \"10\": 2}, \"2\": {\"2\": 1132, \"0\": 68}, \"5\": {\"6\": 61, \"5\": 593, \"4\": 323, \"10\": 54, \"13\": 73, \"7\": 83, \"0\": 2, \"1\": 11}, \"9\": {\"9\": 1149, \"12\": 34, \"11\": 17}, \"8\": {\"8\": 1168, \"3\": 32}, \"12\": {\"12\": 1107, \"9\": 58, \"14\": 26, \"11\": 9}, \"10\": {\"10\": 946, \"7\": 48, \"13\": 164, \"5\": 20, \"0\": 22}, \"1\": {\"6\": 155, \"1\": 933, \"4\": 63, \"15\": 42, \"5\": 6, \"11\": 1}, \"0\": {\"0\": 1102, \"2\": 68, \"10\": 27, \"5\": 1, \"4\": 1, \"1\": 1}, \"3\": {\"3\": 1153, \"8\": 47}, \"13\": {\"7\": 350, \"5\": 68, \"10\": 183, \"13\": 599}, \"11\": {\"11\": 1119, \"12\": 7, \"9\": 10, \"15\": 47, \"14\": 17}, \"7\": {\"7\": 621, \"13\": 392, \"5\": 101, \"10\": 70, \"4\": 11, \"6\": 5}, \"14\": {\"14\": 1180, \"12\": 15, \"1\": 1, \"11\": 4}}, \"ORACLE.run2_38\": {\"15\": {\"15\": 619, \"1\": 118, \"7\": 9, \"5\": 176, \"8\": 214, \"6\": 7, \"13\": 30, \"0\": 16, \"3\": 11}, \"11\": {\"11\": 1108, \"12\": 30, \"4\": 19, \"14\": 37, \"2\": 6}, \"10\": {\"10\": 677, \"7\": 411, \"3\": 23, \"4\": 2, \"15\": 1, \"8\": 29, \"5\": 26, \"13\": 19, \"0\": 12}, \"14\": {\"14\": 737, \"12\": 85, \"2\": 294, \"7\": 19, \"11\": 29, \"8\": 7, \"5\": 17, \"13\": 4, \"10\": 6, \"4\": 2}, \"6\": {\"6\": 950, \"9\": 248, \"15\": 2}, \"4\": {\"4\": 1150, \"12\": 36, \"7\": 3, \"10\": 11}, \"13\": {\"1\": 26, \"8\": 161, \"5\": 119, \"3\": 128, \"13\": 535, \"2\": 13, \"15\": 70, \"7\": 66, \"0\": 16, \"10\": 52, \"14\": 7, \"6\": 6, \"9\": 1}, \"3\": {\"3\": 458, \"13\": 108, \"8\": 59, \"0\": 312, \"9\": 43, \"10\": 83, \"15\": 35, \"1\": 2, \"6\": 14, \"7\": 61, \"5\": 25}, \"7\": {\"7\": 636, \"5\": 110, \"10\": 328, \"3\": 14, \"8\": 85, \"13\": 16, \"0\": 2, \"15\": 9}, \"8\": {\"15\": 171, \"5\": 379, \"8\": 453, \"3\": 18, \"7\": 86, \"13\": 69, \"1\": 6, \"10\": 17, \"0\": 1}, \"1\": {\"1\": 1122, \"13\": 3, \"5\": 5, \"15\": 66, \"8\": 3, \"6\": 1}, \"5\": {\"7\": 122, \"8\": 368, \"13\": 53, \"5\": 469, \"15\": 152, \"10\": 18, \"3\": 14, \"1\": 2, \"0\": 2}, \"0\": {\"3\": 149, \"0\": 1015, \"8\": 4, \"7\": 10, \"15\": 6, \"10\": 13, \"5\": 1, \"9\": 2}, \"2\": {\"2\": 1055, \"14\": 145}, \"12\": {\"12\": 1181, \"4\": 10, \"14\": 9}, \"9\": {\"9\": 886, \"6\": 290, \"3\": 12, \"0\": 12}}, \"ORACLE.run2_20\": {\"10\": {\"10\": 1053, \"14\": 74, \"3\": 8, \"7\": 15, \"8\": 25, \"6\": 16, \"4\": 9}, \"7\": {\"7\": 902, \"8\": 120, \"4\": 4, \"3\": 117, \"5\": 23, \"10\": 9, \"14\": 4, \"2\": 14, \"6\": 6, \"9\": 1}, \"4\": {\"4\": 1017, \"14\": 5, \"5\": 32, \"10\": 5, \"7\": 5, \"8\": 36, \"12\": 37, \"0\": 26, \"3\": 22, \"9\": 7, \"2\": 6, \"1\": 2}, \"13\": {\"13\": 889, \"15\": 254, \"2\": 21, \"1\": 8, \"5\": 13, \"0\": 7, \"9\": 4, \"12\": 4}, \"1\": {\"1\": 659, \"12\": 286, \"15\": 88, \"0\": 67, \"9\": 41, \"5\": 16, \"13\": 20, \"2\": 18, \"4\": 4, \"3\": 1}, \"0\": {\"5\": 76, \"0\": 917, \"15\": 53, \"12\": 53, \"1\": 64, \"4\": 31, \"13\": 4, \"2\": 2}, \"12\": {\"12\": 469, \"1\": 264, \"5\": 104, \"15\": 80, \"9\": 96, \"2\": 84, \"0\": 40, \"4\": 30, \"3\": 31, \"13\": 2}, \"5\": {\"5\": 450, \"3\": 123, \"12\": 102, \"8\": 11, \"13\": 8, \"0\": 98, \"15\": 84, \"1\": 36, \"2\": 166, \"4\": 37, \"7\": 43, \"9\": 42}, \"6\": {\"6\": 1056, \"10\": 24, \"8\": 26, \"14\": 85, \"7\": 9}, \"2\": {\"5\": 133, \"9\": 262, \"15\": 107, \"2\": 408, \"3\": 181, \"12\": 61, \"13\": 17, \"1\": 18, \"7\": 10, \"0\": 2, \"8\": 1}, \"8\": {\"8\": 781, \"14\": 173, \"7\": 119, \"12\": 1, \"5\": 13, \"4\": 52, \"3\": 13, \"6\": 26, \"10\": 20, \"9\": 1, \"0\": 1}, \"11\": {\"11\": 1198, \"7\": 2}, \"9\": {\"5\": 50, \"9\": 459, \"15\": 52, \"2\": 294, \"12\": 111, \"3\": 164, \"1\": 49, \"13\": 7, \"7\": 7, \"4\": 4, \"0\": 2, \"8\": 1}, \"14\": {\"14\": 811, \"6\": 122, \"8\": 171, \"10\": 93, \"4\": 2, \"7\": 1}, \"15\": {\"15\": 499, \"0\": 26, \"13\": 281, \"12\": 83, \"2\": 94, \"3\": 7, \"5\": 71, \"1\": 95, \"9\": 44}, \"3\": {\"5\": 113, \"3\": 539, \"9\": 136, \"7\": 152, \"12\": 34, \"2\": 183, \"15\": 7, \"4\": 20, \"8\": 11, \"13\": 1, \"10\": 3, \"14\": 1}}, \"ORACLE.run2_14\": {\"14\": {\"14\": 870, \"3\": 31, \"5\": 7, \"6\": 92, \"2\": 184, \"13\": 11, \"0\": 1, \"4\": 4}, \"0\": {\"0\": 1188, \"10\": 7, \"3\": 4, \"14\": 1}, \"4\": {\"4\": 763, \"1\": 34, \"2\": 70, \"5\": 279, \"3\": 54}, \"11\": {\"11\": 1176, \"12\": 23, \"9\": 1}, \"13\": {\"13\": 889, \"6\": 282, \"2\": 21, \"14\": 6, \"4\": 2}, \"9\": {\"9\": 1196, \"12\": 4}, \"3\": {\"3\": 984, \"5\": 79, \"4\": 70, \"2\": 36, \"14\": 21, \"1\": 4, \"0\": 6}, \"6\": {\"6\": 846, \"2\": 31, \"13\": 258, \"14\": 62, \"3\": 1, \"4\": 2}, \"1\": {\"1\": 1107, \"5\": 66, \"4\": 27}, \"5\": {\"5\": 640, \"1\": 97, \"4\": 285, \"3\": 96, \"2\": 81, \"14\": 1}, \"12\": {\"12\": 619, \"9\": 129, \"11\": 343, \"0\": 61, \"8\": 43, \"10\": 3, \"14\": 2}, \"10\": {\"10\": 1151, \"0\": 45, \"11\": 4}, \"8\": {\"8\": 1200}, \"7\": {\"7\": 1192, \"15\": 7, \"1\": 1}, \"15\": {\"15\": 1191, \"7\": 9}, \"2\": {\"14\": 227, \"2\": 506, \"6\": 37, \"5\": 147, \"13\": 77, \"4\": 85, \"3\": 115, \"15\": 3, \"1\": 1, \"0\": 1, \"7\": 1}}, \"ORACLE.run2_32\": {\"11\": {\"14\": 15, \"13\": 70, \"7\": 183, \"11\": 691, \"0\": 168, \"4\": 50, \"8\": 4, \"2\": 13, \"5\": 6}, \"1\": {\"1\": 1192, \"10\": 8}, \"2\": {\"2\": 998, \"5\": 57, \"4\": 40, \"0\": 11, \"7\": 21, \"14\": 64, \"11\": 8, \"13\": 1}, \"0\": {\"4\": 110, \"0\": 677, \"7\": 27, \"5\": 107, \"11\": 138, \"13\": 39, \"8\": 73, \"14\": 17, \"2\": 11, \"3\": 1}, \"3\": {\"3\": 1122, \"7\": 2, \"8\": 16, \"13\": 57, \"4\": 2, \"11\": 1}, \"8\": {\"8\": 989, \"0\": 63, \"15\": 5, \"4\": 26, \"3\": 13, \"5\": 59, \"13\": 37, \"11\": 8}, \"12\": {\"12\": 1200}, \"5\": {\"0\": 102, \"5\": 574, \"4\": 125, \"13\": 55, \"8\": 115, \"2\": 100, \"14\": 103, \"11\": 8, \"7\": 11, \"3\": 6, \"15\": 1}, \"15\": {\"15\": 1193, \"8\": 7}, \"7\": {\"7\": 735, \"13\": 138, \"4\": 81, \"11\": 192, \"0\": 18, \"5\": 10, \"2\": 22, \"3\": 4}, \"4\": {\"4\": 591, \"8\": 24, \"5\": 140, \"7\": 79, \"0\": 91, \"11\": 38, \"13\": 210, \"2\": 26, \"14\": 1}, \"14\": {\"2\": 105, \"14\": 962, \"5\": 57, \"0\": 53, \"4\": 4, \"7\": 2, \"11\": 17}, \"10\": {\"10\": 1188, \"1\": 12}, \"6\": {\"6\": 1200}, \"13\": {\"13\": 645, \"4\": 245, \"11\": 80, \"7\": 112, \"0\": 49, \"5\": 18, \"8\": 26, \"2\": 2, \"3\": 23}, \"9\": {\"9\": 1179, \"14\": 18, \"2\": 3}}, \"ORACLE.run2_8\": {\"9\": {\"9\": 1200}, \"11\": {\"12\": 135, \"11\": 616, \"8\": 255, \"15\": 193, \"7\": 1}, \"8\": {\"15\": 106, \"8\": 983, \"11\": 97, \"13\": 2, \"7\": 4, \"6\": 7, \"4\": 1}, \"4\": {\"7\": 237, \"6\": 385, \"4\": 464, \"2\": 88, \"0\": 3, \"14\": 20, \"13\": 2, \"8\": 1}, \"13\": {\"14\": 148, \"13\": 875, \"6\": 14, \"1\": 107, \"10\": 37, \"0\": 14, \"4\": 1, \"5\": 4}, \"14\": {\"14\": 717, \"13\": 157, \"0\": 201, \"10\": 57, \"6\": 45, \"4\": 19, \"1\": 3, \"5\": 1}, \"2\": {\"7\": 168, \"2\": 889, \"4\": 124, \"6\": 19}, \"3\": {\"3\": 1106, \"12\": 88, \"15\": 6}, \"1\": {\"1\": 1068, \"13\": 96, \"5\": 32, \"14\": 2, \"10\": 2}, \"0\": {\"14\": 208, \"10\": 196, \"0\": 772, \"4\": 6, \"6\": 8, \"5\": 5, \"13\": 5}, \"5\": {\"10\": 194, \"5\": 945, \"14\": 3, \"13\": 7, \"1\": 43, \"0\": 8}, \"15\": {\"15\": 728, \"12\": 167, \"8\": 139, \"11\": 155, \"3\": 5, \"7\": 6}, \"10\": {\"5\": 189, \"10\": 666, \"0\": 232, \"14\": 67, \"13\": 36, \"1\": 10}, \"12\": {\"12\": 969, \"15\": 127, \"3\": 71, \"11\": 33}, \"6\": {\"6\": 543, \"4\": 346, \"7\": 224, \"14\": 47, \"2\": 21, \"0\": 6, \"8\": 2, \"13\": 11}, \"7\": {\"6\": 217, \"4\": 253, \"7\": 566, \"2\": 157, \"14\": 3, \"8\": 4}}}, \"per_domain_accuracy\": {\"ORACLE.run1_26\": {\"accuracy\": 0.5505208333333333, \"source?\": true}, \"ORACLE.run1_44\": {\"accuracy\": 0.7171875, \"source?\": true}, \"ORACLE.run1_50\": {\"accuracy\": 0.7854166666666667, \"source?\": true}, \"ORACLE.run1_38\": {\"accuracy\": 0.7980208333333333, \"source?\": true}, \"ORACLE.run1_20\": {\"accuracy\": 0.6722395833333333, \"source?\": true}, \"ORACLE.run1_14\": {\"accuracy\": 0.82140625, \"source?\": true}, \"ORACLE.run1_32\": {\"accuracy\": 0.7743229166666666, \"source?\": true}, \"ORACLE.run1_8\": {\"accuracy\": 0.7028125, \"source?\": true}, \"ORACLE.run2_26\": {\"accuracy\": 0.56421875, \"source?\": false}, \"ORACLE.run2_44\": {\"accuracy\": 0.7557291666666667, \"source?\": false}, \"ORACLE.run2_50\": {\"accuracy\": 0.8018229166666667, \"source?\": false}, \"ORACLE.run2_38\": {\"accuracy\": 0.6797395833333333, \"source?\": false}, \"ORACLE.run2_20\": {\"accuracy\": 0.6305729166666667, \"source?\": false}, \"ORACLE.run2_14\": {\"accuracy\": 0.8082291666666667, \"source?\": false}, \"ORACLE.run2_32\": {\"accuracy\": 0.7883333333333333, \"source?\": false}, \"ORACLE.run2_8\": {\"accuracy\": 0.68265625, \"source?\": false}}}, \"history\": {\"epoch_indices\": [1, 2, 3, 4, 5, 6, 7, 8, 9, 10, 11, 12, 13, 14], \"train_label_loss\": [1.0730204971205621, 0.8329151987781127, 0.7525005769796137, 0.6756567223068504, 0.6112611402726422, 0.562992298484536, 0.5219113204310027, 0.48228300826036413, 0.4461238143589747, 0.41288945736818106, 0.38344306502286124, 0.35654884615003885, 0.33229358047122204, 0.30896243430499454], \"source_val_label_loss\": [1.0051512718200684, 0.8588020205497742, 0.8172155022621155, 0.7846826910972595, 0.777541995048523, 0.7790961265563965, 0.7692544460296631, 0.7749636769294739, 0.7851240634918213, 0.7922388315200806, 0.815667986869812, 0.829059362411499, 0.8449288010597229, 0.871602475643158], \"target_val_label_loss\": [1.042136549949646, 0.9210693836212158, 0.8894768357276917, 0.8619242310523987, 0.8592157363891602, 0.8611007928848267, 0.8487800359725952, 0.8554894328117371, 0.865346372127533, 0.8676452040672302, 0.8943350315093994, 0.9108369946479797, 0.9294934272766113, 0.9576327800750732], \"source_val_acc_label\": [0.63529296875, 0.6754947916666667, 0.69732421875, 0.7110677083333333, 0.7175390625, 0.7210091145833334, 0.7196158854166667, 0.7260221354166667, 0.7233072916666666, 0.7277408854166667, 0.7204947916666666, 0.7265299479166667, 0.7246223958333333, 0.72220703125], \"target_val_acc_label\": [0.6199088541666666, 0.6558268229166667, 0.6774674479166667, 0.6920442708333333, 0.6989583333333333, 0.706484375, 0.7035221354166666, 0.709296875, 0.7059309895833333, 0.7139127604166666, 0.7063411458333333, 0.7107356770833333, 0.7083658854166667, 0.7067643229166667]}, \"dataset_metrics\": {\"source\": {\"train\": {\"n_unique_x\": 896000, \"n_unique_y\": 16, \"n_batch/episode\": 33600}, \"val\": {\"n_unique_x\": 192000, \"n_unique_y\": 16, \"n_batch/episode\": 4800}, \"test\": {\"n_unique_x\": 192000, \"n_unique_y\": 16, \"n_batch/episode\": 4800}}, \"target\": {\"train\": {\"n_unique_x\": 896000, \"n_unique_y\": 16, \"n_batch/episode\": 33600}, \"val\": {\"n_unique_x\": 192000, \"n_unique_y\": 16, \"n_batch/episode\": 4800}, \"test\": {\"n_unique_x\": 192000, \"n_unique_y\": 16, \"n_batch/episode\": 4800}}}}'"
      ]
     },
     "execution_count": 29,
     "metadata": {},
     "output_type": "execute_result"
    }
   ],
   "source": [
    "json.dumps(experiment)"
   ]
  }
 ],
 "metadata": {
  "celltoolbar": "Tags",
  "kernelspec": {
   "display_name": "Python 3 (ipykernel)",
   "language": "python",
   "name": "python3"
  },
  "language_info": {
   "codemirror_mode": {
    "name": "ipython",
    "version": 3
   },
   "file_extension": ".py",
   "mimetype": "text/x-python",
   "name": "python",
   "nbconvert_exporter": "python",
   "pygments_lexer": "ipython3",
   "version": "3.8.10"
  },
  "papermill": {
   "default_parameters": {},
   "duration": 13486.917745,
   "end_time": "2022-03-28T20:12:55.844610",
   "environment_variables": {},
   "exception": null,
   "input_path": "/mnt/wd500GB/CSC500/csc500-main/csc500-notebooks/templates/tl_ptn_template.ipynb",
   "output_path": "trial.ipynb",
   "parameters": {
    "parameters": {
     "BEST_MODEL_PATH": "./best_model.pth",
     "NUM_LOGS_PER_EPOCH": 10,
     "criteria_for_best": "target_accuracy",
     "dataset_seed": 7,
     "datasets": [
      {
       "domain_prefix": "ORACLE.run1_",
       "domains": [
        32,
        38,
        8,
        44,
        14,
        50,
        20,
        26
       ],
       "episode_transforms": [],
       "labels": [
        "3123D52",
        "3123D65",
        "3123D79",
        "3123D80",
        "3123D54",
        "3123D70",
        "3123D7B",
        "3123D89",
        "3123D58",
        "3123D76",
        "3123D7D",
        "3123EFE",
        "3123D64",
        "3123D78",
        "3123D7E",
        "3124E4A"
       ],
       "num_examples_per_domain_per_label": 10000,
       "pickle_path": "/mnt/wd500GB/CSC500/csc500-main/datasets/oracle.Run1_10kExamples_stratified_ds.2022A.pkl",
       "source_or_target_dataset": "source",
       "x_transforms": [
        "unit_mag"
       ]
      },
      {
       "domain_prefix": "ORACLE.run2_",
       "domains": [
        32,
        38,
        8,
        44,
        14,
        50,
        20,
        26
       ],
       "episode_transforms": [],
       "labels": [
        "3123D52",
        "3123D65",
        "3123D79",
        "3123D80",
        "3123D54",
        "3123D70",
        "3123D7B",
        "3123D89",
        "3123D58",
        "3123D76",
        "3123D7D",
        "3123EFE",
        "3123D64",
        "3123D78",
        "3123D7E",
        "3124E4A"
       ],
       "num_examples_per_domain_per_label": 10000,
       "pickle_path": "/mnt/wd500GB/CSC500/csc500-main/datasets/oracle.Run2_10kExamples_stratified_ds.2022A.pkl",
       "source_or_target_dataset": "target",
       "x_transforms": [
        "unit_mag"
       ]
      }
     ],
     "device": "cuda",
     "experiment_name": "tl_1v2:oracle.run1-oracle.run2",
     "lr": 0.0001,
     "n_epoch": 50,
     "n_query": 2,
     "n_shot": 3,
     "n_way": 16,
     "patience": 3,
     "seed": 7,
     "test_k_factor": 2,
     "torch_default_dtype": "torch.float32",
     "train_k_factor": 3,
     "val_k_factor": 2,
     "x_net": [
      {
       "class": "nnReshape",
       "kargs": {
        "shape": [
         -1,
         1,
         2,
         256
        ]
       }
      },
      {
       "class": "Conv2d",
       "kargs": {
        "bias": false,
        "in_channels": 1,
        "kernel_size": [
         1,
         7
        ],
        "out_channels": 256,
        "padding": [
         0,
         3
        ]
       }
      },
      {
       "class": "ReLU",
       "kargs": {
        "inplace": true
       }
      },
      {
       "class": "BatchNorm2d",
       "kargs": {
        "num_features": 256
       }
      },
      {
       "class": "Conv2d",
       "kargs": {
        "bias": true,
        "in_channels": 256,
        "kernel_size": [
         2,
         7
        ],
        "out_channels": 80,
        "padding": [
         0,
         3
        ]
       }
      },
      {
       "class": "ReLU",
       "kargs": {
        "inplace": true
       }
      },
      {
       "class": "BatchNorm2d",
       "kargs": {
        "num_features": 80
       }
      },
      {
       "class": "Flatten",
       "kargs": {}
      },
      {
       "class": "Linear",
       "kargs": {
        "in_features": 20480,
        "out_features": 256
       }
      },
      {
       "class": "ReLU",
       "kargs": {
        "inplace": true
       }
      },
      {
       "class": "BatchNorm1d",
       "kargs": {
        "num_features": 256
       }
      },
      {
       "class": "Linear",
       "kargs": {
        "in_features": 256,
        "out_features": 256
       }
      }
     ]
    }
   },
   "start_time": "2022-03-28T16:28:08.926865",
   "version": "2.3.4"
  }
 },
 "nbformat": 4,
 "nbformat_minor": 5
}