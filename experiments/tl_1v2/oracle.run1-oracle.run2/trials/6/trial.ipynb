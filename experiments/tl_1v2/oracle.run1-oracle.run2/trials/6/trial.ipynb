{
 "cells": [
  {
   "cell_type": "markdown",
   "id": "9fea5f46",
   "metadata": {
    "papermill": {
     "duration": 0.017444,
     "end_time": "2022-03-23T21:20:41.514285",
     "exception": false,
     "start_time": "2022-03-23T21:20:41.496841",
     "status": "completed"
    },
    "tags": []
   },
   "source": [
    "# Transfer Learning Template"
   ]
  },
  {
   "cell_type": "code",
   "execution_count": 1,
   "id": "0902182a",
   "metadata": {
    "execution": {
     "iopub.execute_input": "2022-03-23T21:20:41.554680Z",
     "iopub.status.busy": "2022-03-23T21:20:41.554209Z",
     "iopub.status.idle": "2022-03-23T21:20:42.463207Z",
     "shell.execute_reply": "2022-03-23T21:20:42.462903Z"
    },
    "papermill": {
     "duration": 0.936516,
     "end_time": "2022-03-23T21:20:42.463277",
     "exception": false,
     "start_time": "2022-03-23T21:20:41.526761",
     "status": "completed"
    },
    "tags": []
   },
   "outputs": [],
   "source": [
    "%load_ext autoreload\n",
    "%autoreload 2\n",
    "%matplotlib inline\n",
    "\n",
    "    \n",
    "import os, json, sys, time, random\n",
    "import numpy as np\n",
    "import torch\n",
    "from torch.optim import Adam\n",
    "from  easydict import EasyDict\n",
    "import matplotlib.pyplot as plt\n",
    "\n",
    "from steves_models.steves_ptn import Steves_Prototypical_Network\n",
    "\n",
    "from steves_utils.lazy_iterable_wrapper import Lazy_Iterable_Wrapper\n",
    "from steves_utils.iterable_aggregator import Iterable_Aggregator\n",
    "from steves_utils.ptn_train_eval_test_jig import  PTN_Train_Eval_Test_Jig\n",
    "from steves_utils.torch_sequential_builder import build_sequential\n",
    "from steves_utils.torch_utils import get_dataset_metrics, ptn_confusion_by_domain_over_dataloader\n",
    "from steves_utils.utils_v2 import (per_domain_accuracy_from_confusion, get_datasets_base_path)\n",
    "from steves_utils.PTN.utils import independent_accuracy_assesment\n",
    "\n",
    "from torch.utils.data import DataLoader\n",
    "\n",
    "from steves_utils.stratified_dataset.episodic_accessor import Episodic_Accessor_Factory\n",
    "\n",
    "from steves_utils.ptn_do_report import (\n",
    "    get_loss_curve,\n",
    "    get_results_table,\n",
    "    get_parameters_table,\n",
    "    get_domain_accuracies,\n",
    ")\n",
    "\n",
    "from steves_utils.transforms import get_chained_transform"
   ]
  },
  {
   "cell_type": "markdown",
   "id": "41c840b4",
   "metadata": {
    "papermill": {
     "duration": 0.01335,
     "end_time": "2022-03-23T21:20:42.490423",
     "exception": false,
     "start_time": "2022-03-23T21:20:42.477073",
     "status": "completed"
    },
    "tags": []
   },
   "source": [
    "# Allowed Parameters\n",
    "These are allowed parameters, not defaults\n",
    "Each of these values need to be present in the injected parameters (the notebook will raise an exception if they are not present)\n",
    "\n",
    "Papermill uses the cell tag \"parameters\" to inject the real parameters below this cell.\n",
    "Enable tags to see what I mean"
   ]
  },
  {
   "cell_type": "code",
   "execution_count": 2,
   "id": "fd44eb83",
   "metadata": {
    "execution": {
     "iopub.execute_input": "2022-03-23T21:20:42.519121Z",
     "iopub.status.busy": "2022-03-23T21:20:42.518711Z",
     "iopub.status.idle": "2022-03-23T21:20:42.530125Z",
     "shell.execute_reply": "2022-03-23T21:20:42.529824Z"
    },
    "papermill": {
     "duration": 0.026563,
     "end_time": "2022-03-23T21:20:42.530185",
     "exception": false,
     "start_time": "2022-03-23T21:20:42.503622",
     "status": "completed"
    },
    "tags": []
   },
   "outputs": [],
   "source": [
    "required_parameters = {\n",
    "    \"experiment_name\",\n",
    "    \"lr\",\n",
    "    \"device\",\n",
    "    \"seed\",\n",
    "    \"dataset_seed\",\n",
    "    \"n_shot\",\n",
    "    \"n_query\",\n",
    "    \"n_way\",\n",
    "    \"train_k_factor\",\n",
    "    \"val_k_factor\",\n",
    "    \"test_k_factor\",\n",
    "    \"n_epoch\",\n",
    "    \"patience\",\n",
    "    \"criteria_for_best\",\n",
    "    \"x_net\",\n",
    "    \"datasets\",\n",
    "    \"torch_default_dtype\",\n",
    "    \"NUM_LOGS_PER_EPOCH\",\n",
    "    \"BEST_MODEL_PATH\",\n",
    "    \"x_shape\",\n",
    "}"
   ]
  },
  {
   "cell_type": "code",
   "execution_count": 3,
   "id": "fa3f0049",
   "metadata": {
    "execution": {
     "iopub.execute_input": "2022-03-23T21:20:42.563422Z",
     "iopub.status.busy": "2022-03-23T21:20:42.562970Z",
     "iopub.status.idle": "2022-03-23T21:20:42.575934Z",
     "shell.execute_reply": "2022-03-23T21:20:42.575691Z"
    },
    "papermill": {
     "duration": 0.031558,
     "end_time": "2022-03-23T21:20:42.575996",
     "exception": false,
     "start_time": "2022-03-23T21:20:42.544438",
     "status": "completed"
    },
    "tags": [
     "parameters"
    ]
   },
   "outputs": [],
   "source": [
    "from steves_utils.CORES.utils import (\n",
    "    ALL_NODES,\n",
    "    ALL_NODES_MINIMUM_1000_EXAMPLES,\n",
    "    ALL_DAYS\n",
    ")\n",
    "\n",
    "from steves_utils.ORACLE.utils_v2 import (\n",
    "    ALL_DISTANCES_FEET_NARROWED,\n",
    "    ALL_RUNS,\n",
    "    ALL_SERIAL_NUMBERS,\n",
    ")\n",
    "\n",
    "standalone_parameters = {}\n",
    "standalone_parameters[\"experiment_name\"] = \"STANDALONE PTN\"\n",
    "standalone_parameters[\"lr\"] = 0.001\n",
    "standalone_parameters[\"device\"] = \"cuda\"\n",
    "\n",
    "standalone_parameters[\"seed\"] = 1337\n",
    "standalone_parameters[\"dataset_seed\"] = 1337\n",
    "\n",
    "standalone_parameters[\"n_way\"] = 8\n",
    "standalone_parameters[\"n_shot\"] = 3\n",
    "standalone_parameters[\"n_query\"]  = 2\n",
    "standalone_parameters[\"train_k_factor\"] = 1\n",
    "standalone_parameters[\"val_k_factor\"] = 2\n",
    "standalone_parameters[\"test_k_factor\"] = 2\n",
    "\n",
    "\n",
    "standalone_parameters[\"n_epoch\"] = 50\n",
    "\n",
    "standalone_parameters[\"patience\"] = 10\n",
    "standalone_parameters[\"criteria_for_best\"] = \"source_loss\"\n",
    "\n",
    "standalone_parameters[\"datasets\"] = [\n",
    "    {\n",
    "        \"labels\": ALL_SERIAL_NUMBERS,\n",
    "        \"domains\": ALL_DISTANCES_FEET_NARROWED,\n",
    "        \"num_examples_per_domain_per_label\": 100,\n",
    "        \"pickle_path\": os.path.join(get_datasets_base_path(), \"oracle.Run1_framed_2000Examples_stratified_ds.2022A.pkl\"),\n",
    "        \"source_or_target_dataset\": \"source\",\n",
    "        \"x_transforms\": [\"unit_mag\", \"minus_two\"],\n",
    "        \"episode_transforms\": [],\n",
    "        \"domain_prefix\": \"ORACLE_\"\n",
    "    },\n",
    "    {\n",
    "        \"labels\": ALL_NODES,\n",
    "        \"domains\": ALL_DAYS,\n",
    "        \"num_examples_per_domain_per_label\": 100,\n",
    "        \"pickle_path\": os.path.join(get_datasets_base_path(), \"cores.stratified_ds.2022A.pkl\"),\n",
    "        \"source_or_target_dataset\": \"target\",\n",
    "        \"x_transforms\": [\"unit_power\", \"times_zero\"],\n",
    "        \"episode_transforms\": [],\n",
    "        \"domain_prefix\": \"CORES_\"\n",
    "    }   \n",
    "]\n",
    "\n",
    "standalone_parameters[\"torch_default_dtype\"] = \"torch.float32\" \n",
    "\n",
    "\n",
    "\n",
    "standalone_parameters[\"x_net\"] =     [\n",
    "    {\"class\": \"nnReshape\", \"kargs\": {\"shape\":[-1, 1, 2, 256]}},\n",
    "    {\"class\": \"Conv2d\", \"kargs\": { \"in_channels\":1, \"out_channels\":256, \"kernel_size\":(1,7), \"bias\":False, \"padding\":(0,3), },},\n",
    "    {\"class\": \"ReLU\", \"kargs\": {\"inplace\": True}},\n",
    "    {\"class\": \"BatchNorm2d\", \"kargs\": {\"num_features\":256}},\n",
    "\n",
    "    {\"class\": \"Conv2d\", \"kargs\": { \"in_channels\":256, \"out_channels\":80, \"kernel_size\":(2,7), \"bias\":True, \"padding\":(0,3), },},\n",
    "    {\"class\": \"ReLU\", \"kargs\": {\"inplace\": True}},\n",
    "    {\"class\": \"BatchNorm2d\", \"kargs\": {\"num_features\":80}},\n",
    "    {\"class\": \"Flatten\", \"kargs\": {}},\n",
    "\n",
    "    {\"class\": \"Linear\", \"kargs\": {\"in_features\": 80*256, \"out_features\": 256}}, # 80 units per IQ pair\n",
    "    {\"class\": \"ReLU\", \"kargs\": {\"inplace\": True}},\n",
    "    {\"class\": \"BatchNorm1d\", \"kargs\": {\"num_features\":256}},\n",
    "\n",
    "    {\"class\": \"Linear\", \"kargs\": {\"in_features\": 256, \"out_features\": 256}},\n",
    "]\n",
    "\n",
    "# Parameters relevant to results\n",
    "# These parameters will basically never need to change\n",
    "standalone_parameters[\"NUM_LOGS_PER_EPOCH\"] = 10\n",
    "standalone_parameters[\"BEST_MODEL_PATH\"] = \"./best_model.pth\"\n",
    "\n",
    "\n",
    "\n",
    "\n"
   ]
  },
  {
   "cell_type": "code",
   "execution_count": 4,
   "id": "2757e31c",
   "metadata": {
    "execution": {
     "iopub.execute_input": "2022-03-23T21:20:42.608795Z",
     "iopub.status.busy": "2022-03-23T21:20:42.608340Z",
     "iopub.status.idle": "2022-03-23T21:20:42.620648Z",
     "shell.execute_reply": "2022-03-23T21:20:42.620364Z"
    },
    "papermill": {
     "duration": 0.030367,
     "end_time": "2022-03-23T21:20:42.620709",
     "exception": false,
     "start_time": "2022-03-23T21:20:42.590342",
     "status": "completed"
    },
    "tags": [
     "injected-parameters"
    ]
   },
   "outputs": [],
   "source": [
    "# Parameters\n",
    "parameters = {\n",
    "    \"experiment_name\": \"tl_1v2:oracle.run1-oracle.run2\",\n",
    "    \"device\": \"cuda\",\n",
    "    \"lr\": 0.0001,\n",
    "    \"n_shot\": 3,\n",
    "    \"n_query\": 2,\n",
    "    \"train_k_factor\": 3,\n",
    "    \"val_k_factor\": 2,\n",
    "    \"test_k_factor\": 2,\n",
    "    \"torch_default_dtype\": \"torch.float32\",\n",
    "    \"n_epoch\": 50,\n",
    "    \"patience\": 3,\n",
    "    \"criteria_for_best\": \"target_accuracy\",\n",
    "    \"x_net\": [\n",
    "        {\"class\": \"nnReshape\", \"kargs\": {\"shape\": [-1, 1, 2, 256]}},\n",
    "        {\n",
    "            \"class\": \"Conv2d\",\n",
    "            \"kargs\": {\n",
    "                \"in_channels\": 1,\n",
    "                \"out_channels\": 256,\n",
    "                \"kernel_size\": [1, 7],\n",
    "                \"bias\": False,\n",
    "                \"padding\": [0, 3],\n",
    "            },\n",
    "        },\n",
    "        {\"class\": \"ReLU\", \"kargs\": {\"inplace\": True}},\n",
    "        {\"class\": \"BatchNorm2d\", \"kargs\": {\"num_features\": 256}},\n",
    "        {\n",
    "            \"class\": \"Conv2d\",\n",
    "            \"kargs\": {\n",
    "                \"in_channels\": 256,\n",
    "                \"out_channels\": 80,\n",
    "                \"kernel_size\": [2, 7],\n",
    "                \"bias\": True,\n",
    "                \"padding\": [0, 3],\n",
    "            },\n",
    "        },\n",
    "        {\"class\": \"ReLU\", \"kargs\": {\"inplace\": True}},\n",
    "        {\"class\": \"BatchNorm2d\", \"kargs\": {\"num_features\": 80}},\n",
    "        {\"class\": \"Flatten\", \"kargs\": {}},\n",
    "        {\"class\": \"Linear\", \"kargs\": {\"in_features\": 20480, \"out_features\": 256}},\n",
    "        {\"class\": \"ReLU\", \"kargs\": {\"inplace\": True}},\n",
    "        {\"class\": \"BatchNorm1d\", \"kargs\": {\"num_features\": 256}},\n",
    "        {\"class\": \"Linear\", \"kargs\": {\"in_features\": 256, \"out_features\": 256}},\n",
    "    ],\n",
    "    \"NUM_LOGS_PER_EPOCH\": 10,\n",
    "    \"BEST_MODEL_PATH\": \"./best_model.pth\",\n",
    "    \"n_way\": 16,\n",
    "    \"datasets\": [\n",
    "        {\n",
    "            \"labels\": [\n",
    "                \"3123D52\",\n",
    "                \"3123D65\",\n",
    "                \"3123D79\",\n",
    "                \"3123D80\",\n",
    "                \"3123D54\",\n",
    "                \"3123D70\",\n",
    "                \"3123D7B\",\n",
    "                \"3123D89\",\n",
    "                \"3123D58\",\n",
    "                \"3123D76\",\n",
    "                \"3123D7D\",\n",
    "                \"3123EFE\",\n",
    "                \"3123D64\",\n",
    "                \"3123D78\",\n",
    "                \"3123D7E\",\n",
    "                \"3124E4A\",\n",
    "            ],\n",
    "            \"domains\": [32, 38, 8, 44, 14, 50, 20, 26],\n",
    "            \"num_examples_per_domain_per_label\": 10000,\n",
    "            \"pickle_path\": \"/mnt/wd500GB/CSC500/csc500-main/datasets/oracle.Run1_10kExamples_stratified_ds.2022A.pkl\",\n",
    "            \"source_or_target_dataset\": \"source\",\n",
    "            \"x_transforms\": [\"unit_power\"],\n",
    "            \"episode_transforms\": [],\n",
    "            \"domain_prefix\": \"ORACLE.run1_\",\n",
    "        },\n",
    "        {\n",
    "            \"labels\": [\n",
    "                \"3123D52\",\n",
    "                \"3123D65\",\n",
    "                \"3123D79\",\n",
    "                \"3123D80\",\n",
    "                \"3123D54\",\n",
    "                \"3123D70\",\n",
    "                \"3123D7B\",\n",
    "                \"3123D89\",\n",
    "                \"3123D58\",\n",
    "                \"3123D76\",\n",
    "                \"3123D7D\",\n",
    "                \"3123EFE\",\n",
    "                \"3123D64\",\n",
    "                \"3123D78\",\n",
    "                \"3123D7E\",\n",
    "                \"3124E4A\",\n",
    "            ],\n",
    "            \"domains\": [32, 38, 8, 44, 14, 50, 20, 26],\n",
    "            \"num_examples_per_domain_per_label\": 10000,\n",
    "            \"pickle_path\": \"/mnt/wd500GB/CSC500/csc500-main/datasets/oracle.Run2_10kExamples_stratified_ds.2022A.pkl\",\n",
    "            \"source_or_target_dataset\": \"target\",\n",
    "            \"x_transforms\": [\"unit_power\"],\n",
    "            \"episode_transforms\": [],\n",
    "            \"domain_prefix\": \"ORACLE.run2_\",\n",
    "        },\n",
    "    ],\n",
    "    \"dataset_seed\": 420,\n",
    "    \"seed\": 420,\n",
    "}\n"
   ]
  },
  {
   "cell_type": "code",
   "execution_count": 5,
   "id": "8fa1cc33",
   "metadata": {
    "execution": {
     "iopub.execute_input": "2022-03-23T21:20:42.649497Z",
     "iopub.status.busy": "2022-03-23T21:20:42.649091Z",
     "iopub.status.idle": "2022-03-23T21:20:42.662421Z",
     "shell.execute_reply": "2022-03-23T21:20:42.662173Z"
    },
    "papermill": {
     "duration": 0.028793,
     "end_time": "2022-03-23T21:20:42.662481",
     "exception": false,
     "start_time": "2022-03-23T21:20:42.633688",
     "status": "completed"
    },
    "tags": []
   },
   "outputs": [],
   "source": [
    "# Set this to True if you want to run this template directly\n",
    "STANDALONE = False\n",
    "if STANDALONE:\n",
    "    print(\"parameters not injected, running with standalone_parameters\")\n",
    "    parameters = standalone_parameters\n",
    "\n",
    "if not 'parameters' in locals() and not 'parameters' in globals():\n",
    "    raise Exception(\"Parameter injection failed\")\n",
    "\n",
    "#Use an easy dict for all the parameters\n",
    "p = EasyDict(parameters)\n",
    "\n",
    "if \"x_shape\" not in p:\n",
    "    p.x_shape = [2,256] # Default to this if we dont supply x_shape\n",
    "\n",
    "\n",
    "supplied_keys = set(p.keys())\n",
    "\n",
    "if  supplied_keys != required_parameters:\n",
    "    print(\"Parameters are incorrect\")\n",
    "    if len(supplied_keys - required_parameters)>0: print(\"Shouldn't have:\", str(supplied_keys - required_parameters))\n",
    "    if len(required_parameters - supplied_keys)>0: print(\"Need to have:\", str(required_parameters - supplied_keys))\n",
    "    raise RuntimeError(\"Parameters are incorrect\")"
   ]
  },
  {
   "cell_type": "code",
   "execution_count": 6,
   "id": "3a028d58",
   "metadata": {
    "execution": {
     "iopub.execute_input": "2022-03-23T21:20:42.693743Z",
     "iopub.status.busy": "2022-03-23T21:20:42.693493Z",
     "iopub.status.idle": "2022-03-23T21:20:42.708693Z",
     "shell.execute_reply": "2022-03-23T21:20:42.708984Z"
    },
    "papermill": {
     "duration": 0.031272,
     "end_time": "2022-03-23T21:20:42.709066",
     "exception": false,
     "start_time": "2022-03-23T21:20:42.677794",
     "status": "completed"
    },
    "tags": []
   },
   "outputs": [],
   "source": [
    "###################################\n",
    "# Set the RNGs and make it all deterministic\n",
    "###################################\n",
    "np.random.seed(p.seed)\n",
    "random.seed(p.seed)\n",
    "torch.manual_seed(p.seed)\n",
    "\n",
    "torch.use_deterministic_algorithms(True) "
   ]
  },
  {
   "cell_type": "code",
   "execution_count": 7,
   "id": "b691acf6",
   "metadata": {
    "execution": {
     "iopub.execute_input": "2022-03-23T21:20:42.740586Z",
     "iopub.status.busy": "2022-03-23T21:20:42.740333Z",
     "iopub.status.idle": "2022-03-23T21:20:42.752411Z",
     "shell.execute_reply": "2022-03-23T21:20:42.752760Z"
    },
    "papermill": {
     "duration": 0.028145,
     "end_time": "2022-03-23T21:20:42.752866",
     "exception": false,
     "start_time": "2022-03-23T21:20:42.724721",
     "status": "completed"
    },
    "tags": []
   },
   "outputs": [],
   "source": [
    "###########################################\n",
    "# The stratified datasets honor this\n",
    "###########################################\n",
    "torch.set_default_dtype(eval(p.torch_default_dtype))"
   ]
  },
  {
   "cell_type": "code",
   "execution_count": 8,
   "id": "b5fba671",
   "metadata": {
    "execution": {
     "iopub.execute_input": "2022-03-23T21:20:42.785833Z",
     "iopub.status.busy": "2022-03-23T21:20:42.785585Z",
     "iopub.status.idle": "2022-03-23T21:20:42.828773Z",
     "shell.execute_reply": "2022-03-23T21:20:42.828383Z"
    },
    "papermill": {
     "duration": 0.058645,
     "end_time": "2022-03-23T21:20:42.828861",
     "exception": false,
     "start_time": "2022-03-23T21:20:42.770216",
     "status": "completed"
    },
    "tags": []
   },
   "outputs": [],
   "source": [
    "###################################\n",
    "# Build the network(s)\n",
    "# Note: It's critical to do this AFTER setting the RNG\n",
    "###################################\n",
    "x_net = build_sequential(p.x_net)"
   ]
  },
  {
   "cell_type": "code",
   "execution_count": 9,
   "id": "5d7e61cc",
   "metadata": {
    "execution": {
     "iopub.execute_input": "2022-03-23T21:20:42.863936Z",
     "iopub.status.busy": "2022-03-23T21:20:42.863685Z",
     "iopub.status.idle": "2022-03-23T21:20:42.876831Z",
     "shell.execute_reply": "2022-03-23T21:20:42.877196Z"
    },
    "papermill": {
     "duration": 0.029025,
     "end_time": "2022-03-23T21:20:42.877300",
     "exception": false,
     "start_time": "2022-03-23T21:20:42.848275",
     "status": "completed"
    },
    "tags": []
   },
   "outputs": [],
   "source": [
    "start_time_secs = time.time()"
   ]
  },
  {
   "cell_type": "code",
   "execution_count": 10,
   "id": "c6b67dfd",
   "metadata": {
    "execution": {
     "iopub.execute_input": "2022-03-23T21:20:42.911052Z",
     "iopub.status.busy": "2022-03-23T21:20:42.910798Z",
     "iopub.status.idle": "2022-03-23T21:20:42.925107Z",
     "shell.execute_reply": "2022-03-23T21:20:42.924723Z"
    },
    "papermill": {
     "duration": 0.030576,
     "end_time": "2022-03-23T21:20:42.925195",
     "exception": false,
     "start_time": "2022-03-23T21:20:42.894619",
     "status": "completed"
    },
    "tags": []
   },
   "outputs": [],
   "source": [
    "p.domains_source = []\n",
    "p.domains_target = []\n",
    "\n",
    "\n",
    "train_original_source = []\n",
    "val_original_source   = []\n",
    "test_original_source  = []\n",
    "\n",
    "train_original_target = []\n",
    "val_original_target   = []\n",
    "test_original_target  = []"
   ]
  },
  {
   "cell_type": "code",
   "execution_count": 11,
   "id": "e3d9c3d3",
   "metadata": {
    "execution": {
     "iopub.execute_input": "2022-03-23T21:20:42.957901Z",
     "iopub.status.busy": "2022-03-23T21:20:42.957654Z",
     "iopub.status.idle": "2022-03-23T21:20:42.972357Z",
     "shell.execute_reply": "2022-03-23T21:20:42.971868Z"
    },
    "papermill": {
     "duration": 0.029714,
     "end_time": "2022-03-23T21:20:42.972457",
     "exception": false,
     "start_time": "2022-03-23T21:20:42.942743",
     "status": "completed"
    },
    "tags": []
   },
   "outputs": [],
   "source": [
    "# global_x_transform_func = lambda x: normalize(x.to(torch.get_default_dtype()), \"unit_power\") # unit_power, unit_mag\n",
    "# global_x_transform_func = lambda x: normalize(x, \"unit_power\") # unit_power, unit_mag"
   ]
  },
  {
   "cell_type": "code",
   "execution_count": 12,
   "id": "acb78fd2",
   "metadata": {
    "execution": {
     "iopub.execute_input": "2022-03-23T21:20:43.009090Z",
     "iopub.status.busy": "2022-03-23T21:20:43.008811Z",
     "iopub.status.idle": "2022-03-23T21:20:43.021412Z",
     "shell.execute_reply": "2022-03-23T21:20:43.021779Z"
    },
    "papermill": {
     "duration": 0.031031,
     "end_time": "2022-03-23T21:20:43.021886",
     "exception": false,
     "start_time": "2022-03-23T21:20:42.990855",
     "status": "completed"
    },
    "tags": []
   },
   "outputs": [],
   "source": [
    "def add_dataset(\n",
    "    labels,\n",
    "    domains,\n",
    "    pickle_path,\n",
    "    x_transforms,\n",
    "    episode_transforms,\n",
    "    domain_prefix,\n",
    "    num_examples_per_domain_per_label,\n",
    "    source_or_target_dataset:str,\n",
    "    iterator_seed=p.seed,\n",
    "    dataset_seed=p.dataset_seed,\n",
    "    n_shot=p.n_shot,\n",
    "    n_way=p.n_way,\n",
    "    n_query=p.n_query,\n",
    "    train_val_test_k_factors=(p.train_k_factor,p.val_k_factor,p.test_k_factor),\n",
    "):\n",
    "   \n",
    "    if x_transforms == []: x_transform = None\n",
    "    else: x_transform = get_chained_transform(x_transforms)\n",
    "    \n",
    "    if episode_transforms == []: episode_transform = None\n",
    "    else: raise Exception(\"episode_transforms not implemented\")\n",
    "    \n",
    "    episode_transform = lambda tup, _prefix=domain_prefix: (_prefix + str(tup[0]), tup[1])\n",
    "\n",
    "\n",
    "    eaf = Episodic_Accessor_Factory(\n",
    "        labels=labels,\n",
    "        domains=domains,\n",
    "        num_examples_per_domain_per_label=num_examples_per_domain_per_label,\n",
    "        iterator_seed=iterator_seed,\n",
    "        dataset_seed=dataset_seed,\n",
    "        n_shot=n_shot,\n",
    "        n_way=n_way,\n",
    "        n_query=n_query,\n",
    "        train_val_test_k_factors=train_val_test_k_factors,\n",
    "        pickle_path=pickle_path,\n",
    "        x_transform_func=x_transform,\n",
    "    )\n",
    "\n",
    "    train, val, test = eaf.get_train(), eaf.get_val(), eaf.get_test()\n",
    "    train = Lazy_Iterable_Wrapper(train, episode_transform)\n",
    "    val = Lazy_Iterable_Wrapper(val, episode_transform)\n",
    "    test = Lazy_Iterable_Wrapper(test, episode_transform)\n",
    "\n",
    "    if source_or_target_dataset==\"source\":\n",
    "        train_original_source.append(train)\n",
    "        val_original_source.append(val)\n",
    "        test_original_source.append(test)\n",
    "\n",
    "        p.domains_source.extend(\n",
    "            [domain_prefix + str(u) for u in domains]\n",
    "        )\n",
    "    elif source_or_target_dataset==\"target\":\n",
    "        train_original_target.append(train)\n",
    "        val_original_target.append(val)\n",
    "        test_original_target.append(test)\n",
    "        p.domains_target.extend(\n",
    "            [domain_prefix + str(u) for u in domains]\n",
    "        )\n",
    "    else:\n",
    "        raise Exception(f\"invalid source_or_target_dataset: {source_or_target_dataset}\")\n",
    "    "
   ]
  },
  {
   "cell_type": "code",
   "execution_count": 13,
   "id": "fe266617",
   "metadata": {
    "execution": {
     "iopub.execute_input": "2022-03-23T21:20:43.054670Z",
     "iopub.status.busy": "2022-03-23T21:20:43.054424Z",
     "iopub.status.idle": "2022-03-23T21:23:18.741216Z",
     "shell.execute_reply": "2022-03-23T21:23:18.740781Z"
    },
    "papermill": {
     "duration": 155.702102,
     "end_time": "2022-03-23T21:23:18.741321",
     "exception": false,
     "start_time": "2022-03-23T21:20:43.039219",
     "status": "completed"
    },
    "tags": []
   },
   "outputs": [],
   "source": [
    "for ds in p.datasets:\n",
    "    add_dataset(**ds)"
   ]
  },
  {
   "cell_type": "code",
   "execution_count": 14,
   "id": "b90d65ac",
   "metadata": {
    "execution": {
     "iopub.execute_input": "2022-03-23T21:23:18.774951Z",
     "iopub.status.busy": "2022-03-23T21:23:18.774696Z",
     "iopub.status.idle": "2022-03-23T21:23:18.789086Z",
     "shell.execute_reply": "2022-03-23T21:23:18.788779Z"
    },
    "papermill": {
     "duration": 0.029819,
     "end_time": "2022-03-23T21:23:18.789156",
     "exception": false,
     "start_time": "2022-03-23T21:23:18.759337",
     "status": "completed"
    },
    "tags": []
   },
   "outputs": [],
   "source": [
    "# from steves_utils.CORES.utils import (\n",
    "#     ALL_NODES,\n",
    "#     ALL_NODES_MINIMUM_1000_EXAMPLES,\n",
    "#     ALL_DAYS\n",
    "# )\n",
    "\n",
    "# add_dataset(\n",
    "#     labels=ALL_NODES,\n",
    "#     domains = ALL_DAYS,\n",
    "#     num_examples_per_domain_per_label=100,\n",
    "#     pickle_path=os.path.join(get_datasets_base_path(), \"cores.stratified_ds.2022A.pkl\"),\n",
    "#     source_or_target_dataset=\"target\",\n",
    "#     x_transform_func=global_x_transform_func,\n",
    "#     domain_modifier=lambda u: f\"cores_{u}\"\n",
    "# )"
   ]
  },
  {
   "cell_type": "code",
   "execution_count": 15,
   "id": "76db484d",
   "metadata": {
    "execution": {
     "iopub.execute_input": "2022-03-23T21:23:18.821870Z",
     "iopub.status.busy": "2022-03-23T21:23:18.821620Z",
     "iopub.status.idle": "2022-03-23T21:23:18.831585Z",
     "shell.execute_reply": "2022-03-23T21:23:18.831191Z"
    },
    "papermill": {
     "duration": 0.024807,
     "end_time": "2022-03-23T21:23:18.831673",
     "exception": false,
     "start_time": "2022-03-23T21:23:18.806866",
     "status": "completed"
    },
    "tags": []
   },
   "outputs": [],
   "source": [
    "# from steves_utils.ORACLE.utils_v2 import (\n",
    "#     ALL_DISTANCES_FEET,\n",
    "#     ALL_RUNS,\n",
    "#     ALL_SERIAL_NUMBERS,\n",
    "# )\n",
    "\n",
    "\n",
    "# add_dataset(\n",
    "#     labels=ALL_SERIAL_NUMBERS,\n",
    "#     domains = list(set(ALL_DISTANCES_FEET) - {2,62}),\n",
    "#     num_examples_per_domain_per_label=100,\n",
    "#     pickle_path=os.path.join(get_datasets_base_path(), \"oracle.Run2_framed_2000Examples_stratified_ds.2022A.pkl\"),\n",
    "#     source_or_target_dataset=\"source\",\n",
    "#     x_transform_func=global_x_transform_func,\n",
    "#     domain_modifier=lambda u: f\"oracle1_{u}\"\n",
    "# )\n"
   ]
  },
  {
   "cell_type": "code",
   "execution_count": 16,
   "id": "97dea9d2",
   "metadata": {
    "execution": {
     "iopub.execute_input": "2022-03-23T21:23:18.864850Z",
     "iopub.status.busy": "2022-03-23T21:23:18.864602Z",
     "iopub.status.idle": "2022-03-23T21:23:18.874350Z",
     "shell.execute_reply": "2022-03-23T21:23:18.874104Z"
    },
    "papermill": {
     "duration": 0.024403,
     "end_time": "2022-03-23T21:23:18.874398",
     "exception": false,
     "start_time": "2022-03-23T21:23:18.849995",
     "status": "completed"
    },
    "tags": []
   },
   "outputs": [],
   "source": [
    "# from steves_utils.ORACLE.utils_v2 import (\n",
    "#     ALL_DISTANCES_FEET,\n",
    "#     ALL_RUNS,\n",
    "#     ALL_SERIAL_NUMBERS,\n",
    "# )\n",
    "\n",
    "\n",
    "# add_dataset(\n",
    "#     labels=ALL_SERIAL_NUMBERS,\n",
    "#     domains = list(set(ALL_DISTANCES_FEET) - {2,62,56}),\n",
    "#     num_examples_per_domain_per_label=100,\n",
    "#     pickle_path=os.path.join(get_datasets_base_path(), \"oracle.Run2_framed_2000Examples_stratified_ds.2022A.pkl\"),\n",
    "#     source_or_target_dataset=\"source\",\n",
    "#     x_transform_func=global_x_transform_func,\n",
    "#     domain_modifier=lambda u: f\"oracle2_{u}\"\n",
    "# )"
   ]
  },
  {
   "cell_type": "code",
   "execution_count": 17,
   "id": "6f289866",
   "metadata": {
    "execution": {
     "iopub.execute_input": "2022-03-23T21:23:18.907516Z",
     "iopub.status.busy": "2022-03-23T21:23:18.907266Z",
     "iopub.status.idle": "2022-03-23T21:23:18.917015Z",
     "shell.execute_reply": "2022-03-23T21:23:18.916574Z"
    },
    "papermill": {
     "duration": 0.025552,
     "end_time": "2022-03-23T21:23:18.917103",
     "exception": false,
     "start_time": "2022-03-23T21:23:18.891551",
     "status": "completed"
    },
    "tags": []
   },
   "outputs": [],
   "source": [
    "# add_dataset(\n",
    "#     labels=list(range(19)),\n",
    "#     domains = [0,1,2],\n",
    "#     num_examples_per_domain_per_label=100,\n",
    "#     pickle_path=os.path.join(get_datasets_base_path(), \"metehan.stratified_ds.2022A.pkl\"),\n",
    "#     source_or_target_dataset=\"target\",\n",
    "#     x_transform_func=global_x_transform_func,\n",
    "#     domain_modifier=lambda u: f\"met_{u}\"\n",
    "# )"
   ]
  },
  {
   "cell_type": "code",
   "execution_count": 18,
   "id": "86a863c3",
   "metadata": {
    "execution": {
     "iopub.execute_input": "2022-03-23T21:23:18.950304Z",
     "iopub.status.busy": "2022-03-23T21:23:18.949391Z",
     "iopub.status.idle": "2022-03-23T21:23:18.963876Z",
     "shell.execute_reply": "2022-03-23T21:23:18.963441Z"
    },
    "papermill": {
     "duration": 0.02918,
     "end_time": "2022-03-23T21:23:18.963966",
     "exception": false,
     "start_time": "2022-03-23T21:23:18.934786",
     "status": "completed"
    },
    "tags": []
   },
   "outputs": [],
   "source": [
    "# # from steves_utils.wisig.utils import (\n",
    "# #     ALL_NODES_MINIMUM_100_EXAMPLES,\n",
    "# #     ALL_NODES_MINIMUM_500_EXAMPLES,\n",
    "# #     ALL_NODES_MINIMUM_1000_EXAMPLES,\n",
    "# #     ALL_DAYS\n",
    "# # )\n",
    "\n",
    "# import steves_utils.wisig.utils as wisig\n",
    "\n",
    "\n",
    "# add_dataset(\n",
    "#     labels=wisig.ALL_NODES_MINIMUM_100_EXAMPLES,\n",
    "#     domains = wisig.ALL_DAYS,\n",
    "#     num_examples_per_domain_per_label=100,\n",
    "#     pickle_path=os.path.join(get_datasets_base_path(), \"wisig.node3-19.stratified_ds.2022A.pkl\"),\n",
    "#     source_or_target_dataset=\"target\",\n",
    "#     x_transform_func=global_x_transform_func,\n",
    "#     domain_modifier=lambda u: f\"wisig_{u}\"\n",
    "# )"
   ]
  },
  {
   "cell_type": "code",
   "execution_count": 19,
   "id": "fd5442bc",
   "metadata": {
    "execution": {
     "iopub.execute_input": "2022-03-23T21:23:19.000654Z",
     "iopub.status.busy": "2022-03-23T21:23:19.000323Z",
     "iopub.status.idle": "2022-03-23T21:23:19.016083Z",
     "shell.execute_reply": "2022-03-23T21:23:19.015641Z"
    },
    "papermill": {
     "duration": 0.033837,
     "end_time": "2022-03-23T21:23:19.016171",
     "exception": false,
     "start_time": "2022-03-23T21:23:18.982334",
     "status": "completed"
    },
    "tags": []
   },
   "outputs": [],
   "source": [
    "###################################\n",
    "# Build the dataset\n",
    "###################################\n",
    "train_original_source = Iterable_Aggregator(train_original_source, p.seed)\n",
    "val_original_source = Iterable_Aggregator(val_original_source, p.seed)\n",
    "test_original_source = Iterable_Aggregator(test_original_source, p.seed)\n",
    "\n",
    "\n",
    "train_original_target = Iterable_Aggregator(train_original_target, p.seed)\n",
    "val_original_target = Iterable_Aggregator(val_original_target, p.seed)\n",
    "test_original_target = Iterable_Aggregator(test_original_target, p.seed)\n",
    "\n",
    "# For CNN We only use X and Y. And we only train on the source.\n",
    "# Properly form the data using a transform lambda and Lazy_Iterable_Wrapper. Finally wrap them in a dataloader\n",
    "\n",
    "transform_lambda = lambda ex: ex[1] # Original is (<domain>, <episode>) so we strip down to episode only\n",
    "\n",
    "train_processed_source = Lazy_Iterable_Wrapper(train_original_source, transform_lambda)\n",
    "val_processed_source   = Lazy_Iterable_Wrapper(val_original_source, transform_lambda)\n",
    "test_processed_source  = Lazy_Iterable_Wrapper(test_original_source, transform_lambda)\n",
    "\n",
    "train_processed_target = Lazy_Iterable_Wrapper(train_original_target, transform_lambda)\n",
    "val_processed_target   = Lazy_Iterable_Wrapper(val_original_target, transform_lambda)\n",
    "test_processed_target  = Lazy_Iterable_Wrapper(test_original_target, transform_lambda)\n",
    "\n",
    "datasets = EasyDict({\n",
    "    \"source\": {\n",
    "        \"original\": {\"train\":train_original_source, \"val\":val_original_source, \"test\":test_original_source},\n",
    "        \"processed\": {\"train\":train_processed_source, \"val\":val_processed_source, \"test\":test_processed_source}\n",
    "    },\n",
    "    \"target\": {\n",
    "        \"original\": {\"train\":train_original_target, \"val\":val_original_target, \"test\":test_original_target},\n",
    "        \"processed\": {\"train\":train_processed_target, \"val\":val_processed_target, \"test\":test_processed_target}\n",
    "    },\n",
    "})"
   ]
  },
  {
   "cell_type": "code",
   "execution_count": 20,
   "id": "5b3c01fc",
   "metadata": {
    "execution": {
     "iopub.execute_input": "2022-03-23T21:23:19.053289Z",
     "iopub.status.busy": "2022-03-23T21:23:19.052800Z",
     "iopub.status.idle": "2022-03-23T21:23:43.981713Z",
     "shell.execute_reply": "2022-03-23T21:23:43.982213Z"
    },
    "papermill": {
     "duration": 24.947783,
     "end_time": "2022-03-23T21:23:43.982341",
     "exception": false,
     "start_time": "2022-03-23T21:23:19.034558",
     "status": "completed"
    },
    "tags": []
   },
   "outputs": [
    {
     "name": "stdout",
     "output_type": "stream",
     "text": [
      "{'ORACLE.run1_32', 'ORACLE.run1_20', 'ORACLE.run1_38', 'ORACLE.run1_44', 'ORACLE.run1_8', 'ORACLE.run1_14', 'ORACLE.run1_26', 'ORACLE.run1_50'}\n"
     ]
    },
    {
     "name": "stdout",
     "output_type": "stream",
     "text": [
      "{'ORACLE.run2_20', 'ORACLE.run2_50', 'ORACLE.run2_44', 'ORACLE.run2_8', 'ORACLE.run2_32', 'ORACLE.run2_26', 'ORACLE.run2_14', 'ORACLE.run2_38'}\n"
     ]
    },
    {
     "name": "stdout",
     "output_type": "stream",
     "text": [
      "tensor([[[ 0.2037,  0.1759, -1.2224,  ..., -0.0556,  0.9168, -0.1111],\n",
      "         [ 0.2500,  0.3612, -0.4075,  ..., -1.0464, -0.5556,  0.1852]],\n",
      "\n",
      "        [[-0.9323, -1.0511,  0.4022,  ..., -0.9688,  0.1554,  1.1151],\n",
      "         [-1.0145,  0.4022, -0.7312,  ..., -1.1242, -0.7769, -0.5667]],\n",
      "\n",
      "        [[ 0.0381, -0.8183,  0.4282,  ...,  0.1808,  0.3901,  0.1522],\n",
      "         [ 1.3702, -0.5994, -0.0666,  ..., -0.0476, -0.2284, -0.8373]],\n",
      "\n",
      "        ...,\n",
      "\n",
      "        [[ 1.1086, -0.6166, -1.0890,  ...,  0.0787, -1.0299, -0.2755],\n",
      "         [ 0.9774, -0.3477, -0.6101,  ...,  0.9906,  0.6494,  0.2230]],\n",
      "\n",
      "        [[ 0.7334,  0.0498, -0.1638,  ..., -1.4384, -0.8972, -0.5127],\n",
      "         [-0.7121,  0.3418, -0.2635,  ...,  0.3133,  0.1638,  0.5839]],\n",
      "\n",
      "        [[ 0.1154,  1.1802,  0.5195,  ..., -0.4169, -1.6355, -0.6670],\n",
      "         [ 0.3463, -0.6927, -0.6414,  ..., -0.4554,  0.0192, -0.6927]]])\n"
     ]
    }
   ],
   "source": [
    "from steves_utils.transforms import get_average_magnitude, get_average_power\n",
    "\n",
    "print(set([u for u,_ in val_original_source]))\n",
    "print(set([u for u,_ in val_original_target]))\n",
    "\n",
    "s_x, s_y, q_x, q_y, _ = next(iter(train_processed_source))\n",
    "print(s_x)\n",
    "\n",
    "# for ds in [\n",
    "#     train_processed_source,\n",
    "#     val_processed_source,\n",
    "#     test_processed_source,\n",
    "#     train_processed_target,\n",
    "#     val_processed_target,\n",
    "#     test_processed_target\n",
    "# ]:\n",
    "#     for s_x, s_y, q_x, q_y, _ in ds:\n",
    "#         for X in (s_x, q_x):\n",
    "#             for x in X:\n",
    "#                 assert np.isclose(get_average_magnitude(x.numpy()), 1.0)\n",
    "#                 assert np.isclose(get_average_power(x.numpy()), 1.0)\n",
    "                "
   ]
  },
  {
   "cell_type": "code",
   "execution_count": 21,
   "id": "bbdacba1",
   "metadata": {
    "execution": {
     "iopub.execute_input": "2022-03-23T21:23:44.016384Z",
     "iopub.status.busy": "2022-03-23T21:23:44.016138Z",
     "iopub.status.idle": "2022-03-23T21:23:44.074961Z",
     "shell.execute_reply": "2022-03-23T21:23:44.075358Z"
    },
    "papermill": {
     "duration": 0.076476,
     "end_time": "2022-03-23T21:23:44.075484",
     "exception": false,
     "start_time": "2022-03-23T21:23:43.999008",
     "status": "completed"
    },
    "tags": []
   },
   "outputs": [
    {
     "name": "stdout",
     "output_type": "stream",
     "text": [
      "(2, 256)\n"
     ]
    }
   ],
   "source": [
    "###################################\n",
    "# Build the model\n",
    "###################################\n",
    "# easfsl only wants a tuple for the shape\n",
    "model = Steves_Prototypical_Network(x_net, device=p.device, x_shape=tuple(p.x_shape))\n",
    "optimizer = Adam(params=model.parameters(), lr=p.lr)"
   ]
  },
  {
   "cell_type": "code",
   "execution_count": 22,
   "id": "22b39ac5",
   "metadata": {
    "execution": {
     "iopub.execute_input": "2022-03-23T21:23:44.112967Z",
     "iopub.status.busy": "2022-03-23T21:23:44.112719Z",
     "iopub.status.idle": "2022-03-24T01:27:27.790877Z",
     "shell.execute_reply": "2022-03-24T01:27:27.790646Z"
    },
    "papermill": {
     "duration": 14623.69546,
     "end_time": "2022-03-24T01:27:27.790934",
     "exception": false,
     "start_time": "2022-03-23T21:23:44.095474",
     "status": "completed"
    },
    "tags": []
   },
   "outputs": [
    {
     "name": "stdout",
     "output_type": "stream",
     "text": [
      "epoch: 1, [batch: 1 / 33600], examples_per_second: 9.6657, train_label_loss: 2.7716, \n"
     ]
    },
    {
     "name": "stdout",
     "output_type": "stream",
     "text": [
      "epoch: 1, [batch: 3360 / 33600], examples_per_second: 3208.1640, train_label_loss: 1.3189, \n"
     ]
    },
    {
     "name": "stdout",
     "output_type": "stream",
     "text": [
      "epoch: 1, [batch: 6720 / 33600], examples_per_second: 3211.2831, train_label_loss: 1.0089, \n"
     ]
    },
    {
     "name": "stdout",
     "output_type": "stream",
     "text": [
      "epoch: 1, [batch: 10080 / 33600], examples_per_second: 3210.8132, train_label_loss: 0.6639, \n"
     ]
    },
    {
     "name": "stdout",
     "output_type": "stream",
     "text": [
      "epoch: 1, [batch: 13440 / 33600], examples_per_second: 3203.4746, train_label_loss: 0.9131, \n"
     ]
    },
    {
     "name": "stdout",
     "output_type": "stream",
     "text": [
      "epoch: 1, [batch: 16800 / 33600], examples_per_second: 3209.0808, train_label_loss: 1.0386, \n"
     ]
    },
    {
     "name": "stdout",
     "output_type": "stream",
     "text": [
      "epoch: 1, [batch: 20160 / 33600], examples_per_second: 3215.6520, train_label_loss: 1.2010, \n"
     ]
    },
    {
     "name": "stdout",
     "output_type": "stream",
     "text": [
      "epoch: 1, [batch: 23520 / 33600], examples_per_second: 3197.7616, train_label_loss: 0.6669, \n"
     ]
    },
    {
     "name": "stdout",
     "output_type": "stream",
     "text": [
      "epoch: 1, [batch: 26880 / 33600], examples_per_second: 3217.5246, train_label_loss: 0.7977, \n"
     ]
    },
    {
     "name": "stdout",
     "output_type": "stream",
     "text": [
      "epoch: 1, [batch: 30240 / 33600], examples_per_second: 3219.2394, train_label_loss: 0.6882, \n"
     ]
    },
    {
     "name": "stdout",
     "output_type": "stream",
     "text": [
      "=============================================================\n",
      "epoch: 1, source_val_acc_label: 0.6466, target_val_acc_label: 0.6319, source_val_label_loss: 0.9490, target_val_label_loss: 0.9921, \n",
      "=============================================================\n"
     ]
    },
    {
     "name": "stdout",
     "output_type": "stream",
     "text": [
      "New best\n"
     ]
    },
    {
     "name": "stdout",
     "output_type": "stream",
     "text": [
      "epoch: 2, [batch: 1 / 33600], examples_per_second: 0.9656, train_label_loss: 0.8723, \n"
     ]
    },
    {
     "name": "stdout",
     "output_type": "stream",
     "text": [
      "epoch: 2, [batch: 3360 / 33600], examples_per_second: 3202.6612, train_label_loss: 0.5765, \n"
     ]
    },
    {
     "name": "stdout",
     "output_type": "stream",
     "text": [
      "epoch: 2, [batch: 6720 / 33600], examples_per_second: 3195.3934, train_label_loss: 1.0893, \n"
     ]
    },
    {
     "name": "stdout",
     "output_type": "stream",
     "text": [
      "epoch: 2, [batch: 10080 / 33600], examples_per_second: 3194.8434, train_label_loss: 1.1621, \n"
     ]
    },
    {
     "name": "stdout",
     "output_type": "stream",
     "text": [
      "epoch: 2, [batch: 13440 / 33600], examples_per_second: 3186.4200, train_label_loss: 0.6900, \n"
     ]
    },
    {
     "name": "stdout",
     "output_type": "stream",
     "text": [
      "epoch: 2, [batch: 16800 / 33600], examples_per_second: 3214.7129, train_label_loss: 0.7294, \n"
     ]
    },
    {
     "name": "stdout",
     "output_type": "stream",
     "text": [
      "epoch: 2, [batch: 20160 / 33600], examples_per_second: 3221.8670, train_label_loss: 0.7114, \n"
     ]
    },
    {
     "name": "stdout",
     "output_type": "stream",
     "text": [
      "epoch: 2, [batch: 23520 / 33600], examples_per_second: 3227.4029, train_label_loss: 0.5950, \n"
     ]
    },
    {
     "name": "stdout",
     "output_type": "stream",
     "text": [
      "epoch: 2, [batch: 26880 / 33600], examples_per_second: 3235.1811, train_label_loss: 0.4242, \n"
     ]
    },
    {
     "name": "stdout",
     "output_type": "stream",
     "text": [
      "epoch: 2, [batch: 30240 / 33600], examples_per_second: 3232.2881, train_label_loss: 0.6680, \n"
     ]
    },
    {
     "name": "stdout",
     "output_type": "stream",
     "text": [
      "=============================================================\n",
      "epoch: 2, source_val_acc_label: 0.6761, target_val_acc_label: 0.6569, source_val_label_loss: 0.8596, target_val_label_loss: 0.9266, \n",
      "=============================================================\n"
     ]
    },
    {
     "name": "stdout",
     "output_type": "stream",
     "text": [
      "New best\n"
     ]
    },
    {
     "name": "stdout",
     "output_type": "stream",
     "text": [
      "epoch: 3, [batch: 1 / 33600], examples_per_second: 0.9679, train_label_loss: 0.5953, \n"
     ]
    },
    {
     "name": "stdout",
     "output_type": "stream",
     "text": [
      "epoch: 3, [batch: 3360 / 33600], examples_per_second: 3222.8688, train_label_loss: 1.4979, \n"
     ]
    },
    {
     "name": "stdout",
     "output_type": "stream",
     "text": [
      "epoch: 3, [batch: 6720 / 33600], examples_per_second: 3238.8996, train_label_loss: 0.7028, \n"
     ]
    },
    {
     "name": "stdout",
     "output_type": "stream",
     "text": [
      "epoch: 3, [batch: 10080 / 33600], examples_per_second: 3241.9081, train_label_loss: 0.9409, \n"
     ]
    },
    {
     "name": "stdout",
     "output_type": "stream",
     "text": [
      "epoch: 3, [batch: 13440 / 33600], examples_per_second: 3224.3568, train_label_loss: 0.5041, \n"
     ]
    },
    {
     "name": "stdout",
     "output_type": "stream",
     "text": [
      "epoch: 3, [batch: 16800 / 33600], examples_per_second: 3241.2021, train_label_loss: 0.7952, \n"
     ]
    },
    {
     "name": "stdout",
     "output_type": "stream",
     "text": [
      "epoch: 3, [batch: 20160 / 33600], examples_per_second: 3239.4425, train_label_loss: 1.0912, \n"
     ]
    },
    {
     "name": "stdout",
     "output_type": "stream",
     "text": [
      "epoch: 3, [batch: 23520 / 33600], examples_per_second: 3228.8304, train_label_loss: 0.8895, \n"
     ]
    },
    {
     "name": "stdout",
     "output_type": "stream",
     "text": [
      "epoch: 3, [batch: 26880 / 33600], examples_per_second: 3229.2246, train_label_loss: 0.5137, \n"
     ]
    },
    {
     "name": "stdout",
     "output_type": "stream",
     "text": [
      "epoch: 3, [batch: 30240 / 33600], examples_per_second: 3240.8296, train_label_loss: 0.6550, \n"
     ]
    },
    {
     "name": "stdout",
     "output_type": "stream",
     "text": [
      "=============================================================\n",
      "epoch: 3, source_val_acc_label: 0.6961, target_val_acc_label: 0.6773, source_val_label_loss: 0.8125, target_val_label_loss: 0.8916, \n",
      "=============================================================\n"
     ]
    },
    {
     "name": "stdout",
     "output_type": "stream",
     "text": [
      "New best\n"
     ]
    },
    {
     "name": "stdout",
     "output_type": "stream",
     "text": [
      "epoch: 4, [batch: 1 / 33600], examples_per_second: 0.9665, train_label_loss: 0.6395, \n"
     ]
    },
    {
     "name": "stdout",
     "output_type": "stream",
     "text": [
      "epoch: 4, [batch: 3360 / 33600], examples_per_second: 3219.3978, train_label_loss: 0.5178, \n"
     ]
    },
    {
     "name": "stdout",
     "output_type": "stream",
     "text": [
      "epoch: 4, [batch: 6720 / 33600], examples_per_second: 3243.4127, train_label_loss: 0.8665, \n"
     ]
    },
    {
     "name": "stdout",
     "output_type": "stream",
     "text": [
      "epoch: 4, [batch: 10080 / 33600], examples_per_second: 3248.8335, train_label_loss: 0.8099, \n"
     ]
    },
    {
     "name": "stdout",
     "output_type": "stream",
     "text": [
      "epoch: 4, [batch: 13440 / 33600], examples_per_second: 3226.5495, train_label_loss: 0.8567, \n"
     ]
    },
    {
     "name": "stdout",
     "output_type": "stream",
     "text": [
      "epoch: 4, [batch: 16800 / 33600], examples_per_second: 3240.6470, train_label_loss: 0.5476, \n"
     ]
    },
    {
     "name": "stdout",
     "output_type": "stream",
     "text": [
      "epoch: 4, [batch: 20160 / 33600], examples_per_second: 3243.3569, train_label_loss: 0.2583, \n"
     ]
    },
    {
     "name": "stdout",
     "output_type": "stream",
     "text": [
      "epoch: 4, [batch: 23520 / 33600], examples_per_second: 3231.0348, train_label_loss: 0.7968, \n"
     ]
    },
    {
     "name": "stdout",
     "output_type": "stream",
     "text": [
      "epoch: 4, [batch: 26880 / 33600], examples_per_second: 3242.9159, train_label_loss: 0.8204, \n"
     ]
    },
    {
     "name": "stdout",
     "output_type": "stream",
     "text": [
      "epoch: 4, [batch: 30240 / 33600], examples_per_second: 3237.9271, train_label_loss: 0.6474, \n"
     ]
    },
    {
     "name": "stdout",
     "output_type": "stream",
     "text": [
      "=============================================================\n",
      "epoch: 4, source_val_acc_label: 0.7110, target_val_acc_label: 0.6959, source_val_label_loss: 0.7796, target_val_label_loss: 0.8595, \n",
      "=============================================================\n"
     ]
    },
    {
     "name": "stdout",
     "output_type": "stream",
     "text": [
      "New best\n"
     ]
    },
    {
     "name": "stdout",
     "output_type": "stream",
     "text": [
      "epoch: 5, [batch: 1 / 33600], examples_per_second: 0.9650, train_label_loss: 0.7342, \n"
     ]
    },
    {
     "name": "stdout",
     "output_type": "stream",
     "text": [
      "epoch: 5, [batch: 3360 / 33600], examples_per_second: 3221.3195, train_label_loss: 0.5007, \n"
     ]
    },
    {
     "name": "stdout",
     "output_type": "stream",
     "text": [
      "epoch: 5, [batch: 6720 / 33600], examples_per_second: 3237.1294, train_label_loss: 0.5016, \n"
     ]
    },
    {
     "name": "stdout",
     "output_type": "stream",
     "text": [
      "epoch: 5, [batch: 10080 / 33600], examples_per_second: 3243.9324, train_label_loss: 0.9174, \n"
     ]
    },
    {
     "name": "stdout",
     "output_type": "stream",
     "text": [
      "epoch: 5, [batch: 13440 / 33600], examples_per_second: 3228.3668, train_label_loss: 0.8176, \n"
     ]
    },
    {
     "name": "stdout",
     "output_type": "stream",
     "text": [
      "epoch: 5, [batch: 16800 / 33600], examples_per_second: 3236.3758, train_label_loss: 0.7699, \n"
     ]
    },
    {
     "name": "stdout",
     "output_type": "stream",
     "text": [
      "epoch: 5, [batch: 20160 / 33600], examples_per_second: 3239.4069, train_label_loss: 0.6868, \n"
     ]
    },
    {
     "name": "stdout",
     "output_type": "stream",
     "text": [
      "epoch: 5, [batch: 23520 / 33600], examples_per_second: 3227.4664, train_label_loss: 0.4544, \n"
     ]
    },
    {
     "name": "stdout",
     "output_type": "stream",
     "text": [
      "epoch: 5, [batch: 26880 / 33600], examples_per_second: 3237.7628, train_label_loss: 0.4837, \n"
     ]
    },
    {
     "name": "stdout",
     "output_type": "stream",
     "text": [
      "epoch: 5, [batch: 30240 / 33600], examples_per_second: 3247.8341, train_label_loss: 0.6752, \n"
     ]
    },
    {
     "name": "stdout",
     "output_type": "stream",
     "text": [
      "=============================================================\n",
      "epoch: 5, source_val_acc_label: 0.7199, target_val_acc_label: 0.7029, source_val_label_loss: 0.7679, target_val_label_loss: 0.8529, \n",
      "=============================================================\n"
     ]
    },
    {
     "name": "stdout",
     "output_type": "stream",
     "text": [
      "New best\n"
     ]
    },
    {
     "name": "stdout",
     "output_type": "stream",
     "text": [
      "epoch: 6, [batch: 1 / 33600], examples_per_second: 0.9657, train_label_loss: 0.4367, \n"
     ]
    },
    {
     "name": "stdout",
     "output_type": "stream",
     "text": [
      "epoch: 6, [batch: 3360 / 33600], examples_per_second: 3219.5065, train_label_loss: 0.4978, \n"
     ]
    },
    {
     "name": "stdout",
     "output_type": "stream",
     "text": [
      "epoch: 6, [batch: 6720 / 33600], examples_per_second: 3237.2243, train_label_loss: 0.5877, \n"
     ]
    },
    {
     "name": "stdout",
     "output_type": "stream",
     "text": [
      "epoch: 6, [batch: 10080 / 33600], examples_per_second: 3243.4964, train_label_loss: 0.9251, \n"
     ]
    },
    {
     "name": "stdout",
     "output_type": "stream",
     "text": [
      "epoch: 6, [batch: 13440 / 33600], examples_per_second: 3226.1611, train_label_loss: 0.6566, \n"
     ]
    },
    {
     "name": "stdout",
     "output_type": "stream",
     "text": [
      "epoch: 6, [batch: 16800 / 33600], examples_per_second: 3239.4281, train_label_loss: 0.4945, \n"
     ]
    },
    {
     "name": "stdout",
     "output_type": "stream",
     "text": [
      "epoch: 6, [batch: 20160 / 33600], examples_per_second: 3230.1241, train_label_loss: 0.7879, \n"
     ]
    },
    {
     "name": "stdout",
     "output_type": "stream",
     "text": [
      "epoch: 6, [batch: 23520 / 33600], examples_per_second: 3222.2954, train_label_loss: 0.2021, \n"
     ]
    },
    {
     "name": "stdout",
     "output_type": "stream",
     "text": [
      "epoch: 6, [batch: 26880 / 33600], examples_per_second: 3240.4757, train_label_loss: 0.6849, \n"
     ]
    },
    {
     "name": "stdout",
     "output_type": "stream",
     "text": [
      "epoch: 6, [batch: 30240 / 33600], examples_per_second: 3236.1502, train_label_loss: 0.2694, \n"
     ]
    },
    {
     "name": "stdout",
     "output_type": "stream",
     "text": [
      "=============================================================\n",
      "epoch: 6, source_val_acc_label: 0.7277, target_val_acc_label: 0.7097, source_val_label_loss: 0.7666, target_val_label_loss: 0.8584, \n",
      "=============================================================\n"
     ]
    },
    {
     "name": "stdout",
     "output_type": "stream",
     "text": [
      "New best\n"
     ]
    },
    {
     "name": "stdout",
     "output_type": "stream",
     "text": [
      "epoch: 7, [batch: 1 / 33600], examples_per_second: 0.9708, train_label_loss: 0.4006, \n"
     ]
    },
    {
     "name": "stdout",
     "output_type": "stream",
     "text": [
      "epoch: 7, [batch: 3360 / 33600], examples_per_second: 3222.4405, train_label_loss: 0.5054, \n"
     ]
    },
    {
     "name": "stdout",
     "output_type": "stream",
     "text": [
      "epoch: 7, [batch: 6720 / 33600], examples_per_second: 3233.8021, train_label_loss: 1.0357, \n"
     ]
    },
    {
     "name": "stdout",
     "output_type": "stream",
     "text": [
      "epoch: 7, [batch: 10080 / 33600], examples_per_second: 3239.9081, train_label_loss: 0.5929, \n"
     ]
    },
    {
     "name": "stdout",
     "output_type": "stream",
     "text": [
      "epoch: 7, [batch: 13440 / 33600], examples_per_second: 3231.0721, train_label_loss: 0.6426, \n"
     ]
    },
    {
     "name": "stdout",
     "output_type": "stream",
     "text": [
      "epoch: 7, [batch: 16800 / 33600], examples_per_second: 3238.7414, train_label_loss: 0.6433, \n"
     ]
    },
    {
     "name": "stdout",
     "output_type": "stream",
     "text": [
      "epoch: 7, [batch: 20160 / 33600], examples_per_second: 3242.1578, train_label_loss: 0.4202, \n"
     ]
    },
    {
     "name": "stdout",
     "output_type": "stream",
     "text": [
      "epoch: 7, [batch: 23520 / 33600], examples_per_second: 3234.3406, train_label_loss: 0.4105, \n"
     ]
    },
    {
     "name": "stdout",
     "output_type": "stream",
     "text": [
      "epoch: 7, [batch: 26880 / 33600], examples_per_second: 3240.7979, train_label_loss: 0.6365, \n"
     ]
    },
    {
     "name": "stdout",
     "output_type": "stream",
     "text": [
      "epoch: 7, [batch: 30240 / 33600], examples_per_second: 3234.8800, train_label_loss: 0.7916, \n"
     ]
    },
    {
     "name": "stdout",
     "output_type": "stream",
     "text": [
      "=============================================================\n",
      "epoch: 7, source_val_acc_label: 0.7265, target_val_acc_label: 0.7114, source_val_label_loss: 0.7664, target_val_label_loss: 0.8548, \n",
      "=============================================================\n"
     ]
    },
    {
     "name": "stdout",
     "output_type": "stream",
     "text": [
      "New best\n"
     ]
    },
    {
     "name": "stdout",
     "output_type": "stream",
     "text": [
      "epoch: 8, [batch: 1 / 33600], examples_per_second: 0.9697, train_label_loss: 0.5803, \n"
     ]
    },
    {
     "name": "stdout",
     "output_type": "stream",
     "text": [
      "epoch: 8, [batch: 3360 / 33600], examples_per_second: 3214.8846, train_label_loss: 0.4506, \n"
     ]
    },
    {
     "name": "stdout",
     "output_type": "stream",
     "text": [
      "epoch: 8, [batch: 6720 / 33600], examples_per_second: 3234.2676, train_label_loss: 0.2748, \n"
     ]
    },
    {
     "name": "stdout",
     "output_type": "stream",
     "text": [
      "epoch: 8, [batch: 10080 / 33600], examples_per_second: 3236.2067, train_label_loss: 0.7626, \n"
     ]
    },
    {
     "name": "stdout",
     "output_type": "stream",
     "text": [
      "epoch: 8, [batch: 13440 / 33600], examples_per_second: 3222.9008, train_label_loss: 0.5483, \n"
     ]
    },
    {
     "name": "stdout",
     "output_type": "stream",
     "text": [
      "epoch: 8, [batch: 16800 / 33600], examples_per_second: 3241.0663, train_label_loss: 0.2814, \n"
     ]
    },
    {
     "name": "stdout",
     "output_type": "stream",
     "text": [
      "epoch: 8, [batch: 20160 / 33600], examples_per_second: 3241.2522, train_label_loss: 0.1891, \n"
     ]
    },
    {
     "name": "stdout",
     "output_type": "stream",
     "text": [
      "epoch: 8, [batch: 23520 / 33600], examples_per_second: 3237.3143, train_label_loss: 0.2655, \n"
     ]
    },
    {
     "name": "stdout",
     "output_type": "stream",
     "text": [
      "epoch: 8, [batch: 26880 / 33600], examples_per_second: 3239.1240, train_label_loss: 0.2963, \n"
     ]
    },
    {
     "name": "stdout",
     "output_type": "stream",
     "text": [
      "epoch: 8, [batch: 30240 / 33600], examples_per_second: 3245.3000, train_label_loss: 0.5713, \n"
     ]
    },
    {
     "name": "stdout",
     "output_type": "stream",
     "text": [
      "=============================================================\n",
      "epoch: 8, source_val_acc_label: 0.7255, target_val_acc_label: 0.7103, source_val_label_loss: 0.7890, target_val_label_loss: 0.8779, \n",
      "=============================================================\n"
     ]
    },
    {
     "name": "stdout",
     "output_type": "stream",
     "text": [
      "epoch: 9, [batch: 1 / 33600], examples_per_second: 0.9644, train_label_loss: 0.4081, \n"
     ]
    },
    {
     "name": "stdout",
     "output_type": "stream",
     "text": [
      "epoch: 9, [batch: 3360 / 33600], examples_per_second: 3216.7536, train_label_loss: 0.4738, \n"
     ]
    },
    {
     "name": "stdout",
     "output_type": "stream",
     "text": [
      "epoch: 9, [batch: 6720 / 33600], examples_per_second: 3241.4481, train_label_loss: 0.3550, \n"
     ]
    },
    {
     "name": "stdout",
     "output_type": "stream",
     "text": [
      "epoch: 9, [batch: 10080 / 33600], examples_per_second: 3251.3369, train_label_loss: 0.2390, \n"
     ]
    },
    {
     "name": "stdout",
     "output_type": "stream",
     "text": [
      "epoch: 9, [batch: 13440 / 33600], examples_per_second: 3227.3302, train_label_loss: 0.6412, \n"
     ]
    },
    {
     "name": "stdout",
     "output_type": "stream",
     "text": [
      "epoch: 9, [batch: 16800 / 33600], examples_per_second: 3239.6180, train_label_loss: 0.4093, \n"
     ]
    },
    {
     "name": "stdout",
     "output_type": "stream",
     "text": [
      "epoch: 9, [batch: 20160 / 33600], examples_per_second: 3243.2896, train_label_loss: 0.3127, \n"
     ]
    },
    {
     "name": "stdout",
     "output_type": "stream",
     "text": [
      "epoch: 9, [batch: 23520 / 33600], examples_per_second: 3231.5988, train_label_loss: 0.2527, \n"
     ]
    },
    {
     "name": "stdout",
     "output_type": "stream",
     "text": [
      "epoch: 9, [batch: 26880 / 33600], examples_per_second: 3237.7548, train_label_loss: 0.3898, \n"
     ]
    },
    {
     "name": "stdout",
     "output_type": "stream",
     "text": [
      "epoch: 9, [batch: 30240 / 33600], examples_per_second: 3239.5829, train_label_loss: 0.3842, \n"
     ]
    },
    {
     "name": "stdout",
     "output_type": "stream",
     "text": [
      "=============================================================\n",
      "epoch: 9, source_val_acc_label: 0.7271, target_val_acc_label: 0.7136, source_val_label_loss: 0.7822, target_val_label_loss: 0.8629, \n",
      "=============================================================\n"
     ]
    },
    {
     "name": "stdout",
     "output_type": "stream",
     "text": [
      "New best\n"
     ]
    },
    {
     "name": "stdout",
     "output_type": "stream",
     "text": [
      "epoch: 10, [batch: 1 / 33600], examples_per_second: 0.9660, train_label_loss: 0.2852, \n"
     ]
    },
    {
     "name": "stdout",
     "output_type": "stream",
     "text": [
      "epoch: 10, [batch: 3360 / 33600], examples_per_second: 3218.4852, train_label_loss: 0.3486, \n"
     ]
    },
    {
     "name": "stdout",
     "output_type": "stream",
     "text": [
      "epoch: 10, [batch: 6720 / 33600], examples_per_second: 3239.3040, train_label_loss: 0.3920, \n"
     ]
    },
    {
     "name": "stdout",
     "output_type": "stream",
     "text": [
      "epoch: 10, [batch: 10080 / 33600], examples_per_second: 3237.7265, train_label_loss: 0.4711, \n"
     ]
    },
    {
     "name": "stdout",
     "output_type": "stream",
     "text": [
      "epoch: 10, [batch: 13440 / 33600], examples_per_second: 3225.4198, train_label_loss: 0.5231, \n"
     ]
    },
    {
     "name": "stdout",
     "output_type": "stream",
     "text": [
      "epoch: 10, [batch: 16800 / 33600], examples_per_second: 3241.6089, train_label_loss: 0.1767, \n"
     ]
    },
    {
     "name": "stdout",
     "output_type": "stream",
     "text": [
      "epoch: 10, [batch: 20160 / 33600], examples_per_second: 3243.0513, train_label_loss: 0.2710, \n"
     ]
    },
    {
     "name": "stdout",
     "output_type": "stream",
     "text": [
      "epoch: 10, [batch: 23520 / 33600], examples_per_second: 3230.0050, train_label_loss: 0.2206, \n"
     ]
    },
    {
     "name": "stdout",
     "output_type": "stream",
     "text": [
      "epoch: 10, [batch: 26880 / 33600], examples_per_second: 3237.3112, train_label_loss: 0.3295, \n"
     ]
    },
    {
     "name": "stdout",
     "output_type": "stream",
     "text": [
      "epoch: 10, [batch: 30240 / 33600], examples_per_second: 3236.3945, train_label_loss: 0.4743, \n"
     ]
    },
    {
     "name": "stdout",
     "output_type": "stream",
     "text": [
      "=============================================================\n",
      "epoch: 10, source_val_acc_label: 0.7253, target_val_acc_label: 0.7108, source_val_label_loss: 0.7995, target_val_label_loss: 0.8882, \n",
      "=============================================================\n"
     ]
    },
    {
     "name": "stdout",
     "output_type": "stream",
     "text": [
      "epoch: 11, [batch: 1 / 33600], examples_per_second: 0.9681, train_label_loss: 0.5198, \n"
     ]
    },
    {
     "name": "stdout",
     "output_type": "stream",
     "text": [
      "epoch: 11, [batch: 3360 / 33600], examples_per_second: 3220.8005, train_label_loss: 0.6099, \n"
     ]
    },
    {
     "name": "stdout",
     "output_type": "stream",
     "text": [
      "epoch: 11, [batch: 6720 / 33600], examples_per_second: 3235.2438, train_label_loss: 0.1942, \n"
     ]
    },
    {
     "name": "stdout",
     "output_type": "stream",
     "text": [
      "epoch: 11, [batch: 10080 / 33600], examples_per_second: 3241.7708, train_label_loss: 0.6861, \n"
     ]
    },
    {
     "name": "stdout",
     "output_type": "stream",
     "text": [
      "epoch: 11, [batch: 13440 / 33600], examples_per_second: 3232.9996, train_label_loss: 0.3655, \n"
     ]
    },
    {
     "name": "stdout",
     "output_type": "stream",
     "text": [
      "epoch: 11, [batch: 16800 / 33600], examples_per_second: 3230.3556, train_label_loss: 0.1999, \n"
     ]
    },
    {
     "name": "stdout",
     "output_type": "stream",
     "text": [
      "epoch: 11, [batch: 20160 / 33600], examples_per_second: 3239.3570, train_label_loss: 0.1526, \n"
     ]
    },
    {
     "name": "stdout",
     "output_type": "stream",
     "text": [
      "epoch: 11, [batch: 23520 / 33600], examples_per_second: 3234.4365, train_label_loss: 0.4257, \n"
     ]
    },
    {
     "name": "stdout",
     "output_type": "stream",
     "text": [
      "epoch: 11, [batch: 26880 / 33600], examples_per_second: 3238.7956, train_label_loss: 0.1626, \n"
     ]
    },
    {
     "name": "stdout",
     "output_type": "stream",
     "text": [
      "epoch: 11, [batch: 30240 / 33600], examples_per_second: 3243.6488, train_label_loss: 0.6228, \n"
     ]
    },
    {
     "name": "stdout",
     "output_type": "stream",
     "text": [
      "=============================================================\n",
      "epoch: 11, source_val_acc_label: 0.7295, target_val_acc_label: 0.7128, source_val_label_loss: 0.8174, target_val_label_loss: 0.9091, \n",
      "=============================================================\n"
     ]
    },
    {
     "name": "stdout",
     "output_type": "stream",
     "text": [
      "epoch: 12, [batch: 1 / 33600], examples_per_second: 0.9671, train_label_loss: 0.3851, \n"
     ]
    },
    {
     "name": "stdout",
     "output_type": "stream",
     "text": [
      "epoch: 12, [batch: 3360 / 33600], examples_per_second: 3214.1408, train_label_loss: 0.3002, \n"
     ]
    },
    {
     "name": "stdout",
     "output_type": "stream",
     "text": [
      "epoch: 12, [batch: 6720 / 33600], examples_per_second: 3231.7245, train_label_loss: 0.3851, \n"
     ]
    },
    {
     "name": "stdout",
     "output_type": "stream",
     "text": [
      "epoch: 12, [batch: 10080 / 33600], examples_per_second: 3242.6099, train_label_loss: 0.2379, \n"
     ]
    },
    {
     "name": "stdout",
     "output_type": "stream",
     "text": [
      "epoch: 12, [batch: 13440 / 33600], examples_per_second: 3229.2098, train_label_loss: 0.3239, \n"
     ]
    },
    {
     "name": "stdout",
     "output_type": "stream",
     "text": [
      "epoch: 12, [batch: 16800 / 33600], examples_per_second: 3234.2357, train_label_loss: 0.3666, \n"
     ]
    },
    {
     "name": "stdout",
     "output_type": "stream",
     "text": [
      "epoch: 12, [batch: 20160 / 33600], examples_per_second: 3229.5494, train_label_loss: 0.2084, \n"
     ]
    },
    {
     "name": "stdout",
     "output_type": "stream",
     "text": [
      "epoch: 12, [batch: 23520 / 33600], examples_per_second: 3230.5943, train_label_loss: 0.1196, \n"
     ]
    },
    {
     "name": "stdout",
     "output_type": "stream",
     "text": [
      "epoch: 12, [batch: 26880 / 33600], examples_per_second: 3240.8147, train_label_loss: 0.4611, \n"
     ]
    },
    {
     "name": "stdout",
     "output_type": "stream",
     "text": [
      "epoch: 12, [batch: 30240 / 33600], examples_per_second: 3243.0745, train_label_loss: 0.6961, \n"
     ]
    },
    {
     "name": "stdout",
     "output_type": "stream",
     "text": [
      "=============================================================\n",
      "epoch: 12, source_val_acc_label: 0.7283, target_val_acc_label: 0.7145, source_val_label_loss: 0.8493, target_val_label_loss: 0.9418, \n",
      "=============================================================\n"
     ]
    },
    {
     "name": "stdout",
     "output_type": "stream",
     "text": [
      "New best\n"
     ]
    },
    {
     "name": "stdout",
     "output_type": "stream",
     "text": [
      "epoch: 13, [batch: 1 / 33600], examples_per_second: 0.9649, train_label_loss: 0.2121, \n"
     ]
    },
    {
     "name": "stdout",
     "output_type": "stream",
     "text": [
      "epoch: 13, [batch: 3360 / 33600], examples_per_second: 3221.5612, train_label_loss: 0.7161, \n"
     ]
    },
    {
     "name": "stdout",
     "output_type": "stream",
     "text": [
      "epoch: 13, [batch: 6720 / 33600], examples_per_second: 3236.7464, train_label_loss: 0.5331, \n"
     ]
    },
    {
     "name": "stdout",
     "output_type": "stream",
     "text": [
      "epoch: 13, [batch: 10080 / 33600], examples_per_second: 3242.7002, train_label_loss: 0.2514, \n"
     ]
    },
    {
     "name": "stdout",
     "output_type": "stream",
     "text": [
      "epoch: 13, [batch: 13440 / 33600], examples_per_second: 3221.6204, train_label_loss: 0.1469, \n"
     ]
    },
    {
     "name": "stdout",
     "output_type": "stream",
     "text": [
      "epoch: 13, [batch: 16800 / 33600], examples_per_second: 3243.4279, train_label_loss: 0.2265, \n"
     ]
    },
    {
     "name": "stdout",
     "output_type": "stream",
     "text": [
      "epoch: 13, [batch: 20160 / 33600], examples_per_second: 3243.3581, train_label_loss: 0.3035, \n"
     ]
    },
    {
     "name": "stdout",
     "output_type": "stream",
     "text": [
      "epoch: 13, [batch: 23520 / 33600], examples_per_second: 3229.6251, train_label_loss: 0.1280, \n"
     ]
    },
    {
     "name": "stdout",
     "output_type": "stream",
     "text": [
      "epoch: 13, [batch: 26880 / 33600], examples_per_second: 3226.1764, train_label_loss: 0.2633, \n"
     ]
    },
    {
     "name": "stdout",
     "output_type": "stream",
     "text": [
      "epoch: 13, [batch: 30240 / 33600], examples_per_second: 3237.9293, train_label_loss: 0.6137, \n"
     ]
    },
    {
     "name": "stdout",
     "output_type": "stream",
     "text": [
      "=============================================================\n",
      "epoch: 13, source_val_acc_label: 0.7292, target_val_acc_label: 0.7122, source_val_label_loss: 0.8697, target_val_label_loss: 0.9701, \n",
      "=============================================================\n"
     ]
    },
    {
     "name": "stdout",
     "output_type": "stream",
     "text": [
      "epoch: 14, [batch: 1 / 33600], examples_per_second: 0.9660, train_label_loss: 0.4195, \n"
     ]
    },
    {
     "name": "stdout",
     "output_type": "stream",
     "text": [
      "epoch: 14, [batch: 3360 / 33600], examples_per_second: 3220.5012, train_label_loss: 0.1062, \n"
     ]
    },
    {
     "name": "stdout",
     "output_type": "stream",
     "text": [
      "epoch: 14, [batch: 6720 / 33600], examples_per_second: 3241.0322, train_label_loss: 0.1923, \n"
     ]
    },
    {
     "name": "stdout",
     "output_type": "stream",
     "text": [
      "epoch: 14, [batch: 10080 / 33600], examples_per_second: 3244.4217, train_label_loss: 0.5531, \n"
     ]
    },
    {
     "name": "stdout",
     "output_type": "stream",
     "text": [
      "epoch: 14, [batch: 13440 / 33600], examples_per_second: 3229.2670, train_label_loss: 0.2800, \n"
     ]
    },
    {
     "name": "stdout",
     "output_type": "stream",
     "text": [
      "epoch: 14, [batch: 16800 / 33600], examples_per_second: 3244.0357, train_label_loss: 0.1783, \n"
     ]
    },
    {
     "name": "stdout",
     "output_type": "stream",
     "text": [
      "epoch: 14, [batch: 20160 / 33600], examples_per_second: 3235.5607, train_label_loss: 0.5688, \n"
     ]
    },
    {
     "name": "stdout",
     "output_type": "stream",
     "text": [
      "epoch: 14, [batch: 23520 / 33600], examples_per_second: 3235.3043, train_label_loss: 0.0978, \n"
     ]
    },
    {
     "name": "stdout",
     "output_type": "stream",
     "text": [
      "epoch: 14, [batch: 26880 / 33600], examples_per_second: 3239.3945, train_label_loss: 0.3358, \n"
     ]
    },
    {
     "name": "stdout",
     "output_type": "stream",
     "text": [
      "epoch: 14, [batch: 30240 / 33600], examples_per_second: 3242.9116, train_label_loss: 0.1517, \n"
     ]
    },
    {
     "name": "stdout",
     "output_type": "stream",
     "text": [
      "=============================================================\n",
      "epoch: 14, source_val_acc_label: 0.7227, target_val_acc_label: 0.7065, source_val_label_loss: 0.8833, target_val_label_loss: 0.9840, \n",
      "=============================================================\n"
     ]
    },
    {
     "name": "stdout",
     "output_type": "stream",
     "text": [
      "epoch: 15, [batch: 1 / 33600], examples_per_second: 0.9684, train_label_loss: 0.2092, \n"
     ]
    },
    {
     "name": "stdout",
     "output_type": "stream",
     "text": [
      "epoch: 15, [batch: 3360 / 33600], examples_per_second: 3216.3309, train_label_loss: 0.7462, \n"
     ]
    },
    {
     "name": "stdout",
     "output_type": "stream",
     "text": [
      "epoch: 15, [batch: 6720 / 33600], examples_per_second: 3233.2109, train_label_loss: 0.2651, \n"
     ]
    },
    {
     "name": "stdout",
     "output_type": "stream",
     "text": [
      "epoch: 15, [batch: 10080 / 33600], examples_per_second: 3249.4430, train_label_loss: 0.3716, \n"
     ]
    },
    {
     "name": "stdout",
     "output_type": "stream",
     "text": [
      "epoch: 15, [batch: 13440 / 33600], examples_per_second: 3229.7465, train_label_loss: 0.4093, \n"
     ]
    },
    {
     "name": "stdout",
     "output_type": "stream",
     "text": [
      "epoch: 15, [batch: 16800 / 33600], examples_per_second: 3242.3106, train_label_loss: 0.2971, \n"
     ]
    },
    {
     "name": "stdout",
     "output_type": "stream",
     "text": [
      "epoch: 15, [batch: 20160 / 33600], examples_per_second: 3242.0966, train_label_loss: 0.2256, \n"
     ]
    },
    {
     "name": "stdout",
     "output_type": "stream",
     "text": [
      "epoch: 15, [batch: 23520 / 33600], examples_per_second: 3227.7881, train_label_loss: 0.1950, \n"
     ]
    },
    {
     "name": "stdout",
     "output_type": "stream",
     "text": [
      "epoch: 15, [batch: 26880 / 33600], examples_per_second: 3239.7179, train_label_loss: 0.1807, \n"
     ]
    },
    {
     "name": "stdout",
     "output_type": "stream",
     "text": [
      "epoch: 15, [batch: 30240 / 33600], examples_per_second: 3235.1805, train_label_loss: 0.1003, \n"
     ]
    },
    {
     "name": "stdout",
     "output_type": "stream",
     "text": [
      "=============================================================\n",
      "epoch: 15, source_val_acc_label: 0.7237, target_val_acc_label: 0.7069, source_val_label_loss: 0.9259, target_val_label_loss: 1.0287, \n",
      "=============================================================\n"
     ]
    },
    {
     "name": "stdout",
     "output_type": "stream",
     "text": [
      "epoch: 16, [batch: 1 / 33600], examples_per_second: 0.9665, train_label_loss: 0.2387, \n"
     ]
    },
    {
     "name": "stdout",
     "output_type": "stream",
     "text": [
      "epoch: 16, [batch: 3360 / 33600], examples_per_second: 3219.0752, train_label_loss: 0.1675, \n"
     ]
    },
    {
     "name": "stdout",
     "output_type": "stream",
     "text": [
      "epoch: 16, [batch: 6720 / 33600], examples_per_second: 3235.5555, train_label_loss: 0.3951, \n"
     ]
    },
    {
     "name": "stdout",
     "output_type": "stream",
     "text": [
      "epoch: 16, [batch: 10080 / 33600], examples_per_second: 3244.2557, train_label_loss: 0.2759, \n"
     ]
    },
    {
     "name": "stdout",
     "output_type": "stream",
     "text": [
      "epoch: 16, [batch: 13440 / 33600], examples_per_second: 3230.4797, train_label_loss: 0.1640, \n"
     ]
    },
    {
     "name": "stdout",
     "output_type": "stream",
     "text": [
      "epoch: 16, [batch: 16800 / 33600], examples_per_second: 3240.0382, train_label_loss: 0.0888, \n"
     ]
    },
    {
     "name": "stdout",
     "output_type": "stream",
     "text": [
      "epoch: 16, [batch: 20160 / 33600], examples_per_second: 3243.4101, train_label_loss: 0.2749, \n"
     ]
    },
    {
     "name": "stdout",
     "output_type": "stream",
     "text": [
      "epoch: 16, [batch: 23520 / 33600], examples_per_second: 3226.7890, train_label_loss: 0.2038, \n"
     ]
    },
    {
     "name": "stdout",
     "output_type": "stream",
     "text": [
      "epoch: 16, [batch: 26880 / 33600], examples_per_second: 3235.1668, train_label_loss: 0.2455, \n"
     ]
    },
    {
     "name": "stdout",
     "output_type": "stream",
     "text": [
      "epoch: 16, [batch: 30240 / 33600], examples_per_second: 3240.8089, train_label_loss: 0.4235, \n"
     ]
    },
    {
     "name": "stdout",
     "output_type": "stream",
     "text": [
      "=============================================================\n",
      "epoch: 16, source_val_acc_label: 0.7181, target_val_acc_label: 0.7035, source_val_label_loss: 0.9430, target_val_label_loss: 1.0445, \n",
      "=============================================================\n"
     ]
    },
    {
     "name": "stdout",
     "output_type": "stream",
     "text": [
      "Patience (3) exhausted\n"
     ]
    }
   ],
   "source": [
    "###################################\n",
    "# train\n",
    "###################################\n",
    "jig = PTN_Train_Eval_Test_Jig(model, p.BEST_MODEL_PATH, p.device)\n",
    "\n",
    "jig.train(\n",
    "    train_iterable=datasets.source.processed.train,\n",
    "    source_val_iterable=datasets.source.processed.val,\n",
    "    target_val_iterable=datasets.target.processed.val,\n",
    "    num_epochs=p.n_epoch,\n",
    "    num_logs_per_epoch=p.NUM_LOGS_PER_EPOCH,\n",
    "    patience=p.patience,\n",
    "    optimizer=optimizer,\n",
    "    criteria_for_best=p.criteria_for_best,\n",
    ")"
   ]
  },
  {
   "cell_type": "code",
   "execution_count": 23,
   "id": "31e8fabf",
   "metadata": {
    "execution": {
     "iopub.execute_input": "2022-03-24T01:27:27.887103Z",
     "iopub.status.busy": "2022-03-24T01:27:27.886854Z",
     "iopub.status.idle": "2022-03-24T01:27:27.904804Z",
     "shell.execute_reply": "2022-03-24T01:27:27.904432Z"
    },
    "papermill": {
     "duration": 0.06761,
     "end_time": "2022-03-24T01:27:27.904895",
     "exception": false,
     "start_time": "2022-03-24T01:27:27.837285",
     "status": "completed"
    },
    "tags": []
   },
   "outputs": [],
   "source": [
    "total_experiment_time_secs = time.time() - start_time_secs"
   ]
  },
  {
   "cell_type": "code",
   "execution_count": 24,
   "id": "87b9595b",
   "metadata": {
    "execution": {
     "iopub.execute_input": "2022-03-24T01:27:28.006311Z",
     "iopub.status.busy": "2022-03-24T01:27:28.006044Z",
     "iopub.status.idle": "2022-03-24T01:35:33.070480Z",
     "shell.execute_reply": "2022-03-24T01:35:33.070023Z"
    },
    "papermill": {
     "duration": 485.11671,
     "end_time": "2022-03-24T01:35:33.070592",
     "exception": false,
     "start_time": "2022-03-24T01:27:27.953882",
     "status": "completed"
    },
    "tags": []
   },
   "outputs": [],
   "source": [
    "###################################\n",
    "# Evaluate the model\n",
    "###################################\n",
    "source_test_label_accuracy, source_test_label_loss = jig.test(datasets.source.processed.test)\n",
    "target_test_label_accuracy, target_test_label_loss = jig.test(datasets.target.processed.test)\n",
    "\n",
    "source_val_label_accuracy, source_val_label_loss = jig.test(datasets.source.processed.val)\n",
    "target_val_label_accuracy, target_val_label_loss = jig.test(datasets.target.processed.val)\n",
    "\n",
    "history = jig.get_history()\n",
    "\n",
    "total_epochs_trained = len(history[\"epoch_indices\"])\n",
    "\n",
    "val_dl = Iterable_Aggregator((datasets.source.original.val,datasets.target.original.val))\n",
    "\n",
    "confusion = ptn_confusion_by_domain_over_dataloader(model, p.device, val_dl)\n",
    "per_domain_accuracy = per_domain_accuracy_from_confusion(confusion)\n",
    "\n",
    "# Add a key to per_domain_accuracy for if it was a source domain\n",
    "for domain, accuracy in per_domain_accuracy.items():\n",
    "    per_domain_accuracy[domain] = {\n",
    "        \"accuracy\": accuracy,\n",
    "        \"source?\": domain in p.domains_source\n",
    "    }\n",
    "\n",
    "# Do an independent accuracy assesment JUST TO BE SURE!\n",
    "# _source_test_label_accuracy = independent_accuracy_assesment(model, datasets.source.processed.test, p.device)\n",
    "# _target_test_label_accuracy = independent_accuracy_assesment(model, datasets.target.processed.test, p.device)\n",
    "# _source_val_label_accuracy = independent_accuracy_assesment(model, datasets.source.processed.val, p.device)\n",
    "# _target_val_label_accuracy = independent_accuracy_assesment(model, datasets.target.processed.val, p.device)\n",
    "\n",
    "# assert(_source_test_label_accuracy == source_test_label_accuracy)\n",
    "# assert(_target_test_label_accuracy == target_test_label_accuracy)\n",
    "# assert(_source_val_label_accuracy == source_val_label_accuracy)\n",
    "# assert(_target_val_label_accuracy == target_val_label_accuracy)\n",
    "\n",
    "experiment = {\n",
    "    \"experiment_name\": p.experiment_name,\n",
    "    \"parameters\": dict(p),\n",
    "    \"results\": {\n",
    "        \"source_test_label_accuracy\": source_test_label_accuracy,\n",
    "        \"source_test_label_loss\": source_test_label_loss,\n",
    "        \"target_test_label_accuracy\": target_test_label_accuracy,\n",
    "        \"target_test_label_loss\": target_test_label_loss,\n",
    "        \"source_val_label_accuracy\": source_val_label_accuracy,\n",
    "        \"source_val_label_loss\": source_val_label_loss,\n",
    "        \"target_val_label_accuracy\": target_val_label_accuracy,\n",
    "        \"target_val_label_loss\": target_val_label_loss,\n",
    "        \"total_epochs_trained\": total_epochs_trained,\n",
    "        \"total_experiment_time_secs\": total_experiment_time_secs,\n",
    "        \"confusion\": confusion,\n",
    "        \"per_domain_accuracy\": per_domain_accuracy,\n",
    "    },\n",
    "    \"history\": history,\n",
    "    \"dataset_metrics\": get_dataset_metrics(datasets, \"ptn\"),\n",
    "}"
   ]
  },
  {
   "cell_type": "code",
   "execution_count": 25,
   "id": "54a21829",
   "metadata": {
    "execution": {
     "iopub.execute_input": "2022-03-24T01:35:33.167409Z",
     "iopub.status.busy": "2022-03-24T01:35:33.166914Z",
     "iopub.status.idle": "2022-03-24T01:35:33.289817Z",
     "shell.execute_reply": "2022-03-24T01:35:33.290244Z"
    },
    "papermill": {
     "duration": 0.171836,
     "end_time": "2022-03-24T01:35:33.290372",
     "exception": false,
     "start_time": "2022-03-24T01:35:33.118536",
     "status": "completed"
    },
    "tags": []
   },
   "outputs": [
    {
     "data": {
      "image/png": "[encoded data removed]",
      "text/plain": [
       "<Figure size 1080x504 with 1 Axes>"
      ]
     },
     "metadata": {
      "needs_background": "light"
     },
     "output_type": "display_data"
    }
   ],
   "source": [
    "ax = get_loss_curve(experiment)\n",
    "plt.show()"
   ]
  },
  {
   "cell_type": "code",
   "execution_count": 26,
   "id": "fd8a0f60",
   "metadata": {
    "execution": {
     "iopub.execute_input": "2022-03-24T01:35:33.393080Z",
     "iopub.status.busy": "2022-03-24T01:35:33.392825Z",
     "iopub.status.idle": "2022-03-24T01:35:33.535409Z",
     "shell.execute_reply": "2022-03-24T01:35:33.535819Z"
    },
    "papermill": {
     "duration": 0.193274,
     "end_time": "2022-03-24T01:35:33.535947",
     "exception": false,
     "start_time": "2022-03-24T01:35:33.342673",
     "status": "completed"
    },
    "tags": []
   },
   "outputs": [
    {
     "data": {
      "text/plain": [
       "<AxesSubplot:title={'center':'Results'}>"
      ]
     },
     "execution_count": 26,
     "metadata": {},
     "output_type": "execute_result"
    },
    {
     "data": {
      "image/png": "[encoded data removed]",
      "text/plain": [
       "<Figure size 1080x504 with 1 Axes>"
      ]
     },
     "metadata": {
      "needs_background": "light"
     },
     "output_type": "display_data"
    }
   ],
   "source": [
    "get_results_table(experiment)"
   ]
  },
  {
   "cell_type": "code",
   "execution_count": 27,
   "id": "cf8dc689",
   "metadata": {
    "execution": {
     "iopub.execute_input": "2022-03-24T01:35:33.639206Z",
     "iopub.status.busy": "2022-03-24T01:35:33.638932Z",
     "iopub.status.idle": "2022-03-24T01:35:33.803696Z",
     "shell.execute_reply": "2022-03-24T01:35:33.804104Z"
    },
    "papermill": {
     "duration": 0.215827,
     "end_time": "2022-03-24T01:35:33.804234",
     "exception": false,
     "start_time": "2022-03-24T01:35:33.588407",
     "status": "completed"
    },
    "tags": []
   },
   "outputs": [
    {
     "data": {
      "text/plain": [
       "<AxesSubplot:title={'center':'Per Domain Validation Accuracy'}, xlabel='domain'>"
      ]
     },
     "execution_count": 27,
     "metadata": {},
     "output_type": "execute_result"
    },
    {
     "data": {
      "image/png": "[encoded data removed]",
      "text/plain": [
       "<Figure size 1080x504 with 1 Axes>"
      ]
     },
     "metadata": {
      "needs_background": "light"
     },
     "output_type": "display_data"
    }
   ],
   "source": [
    "get_domain_accuracies(experiment)"
   ]
  },
  {
   "cell_type": "code",
   "execution_count": 28,
   "id": "a74ae082",
   "metadata": {
    "execution": {
     "iopub.execute_input": "2022-03-24T01:35:33.909225Z",
     "iopub.status.busy": "2022-03-24T01:35:33.908967Z",
     "iopub.status.idle": "2022-03-24T01:35:33.924685Z",
     "shell.execute_reply": "2022-03-24T01:35:33.924268Z"
    },
    "papermill": {
     "duration": 0.068048,
     "end_time": "2022-03-24T01:35:33.924785",
     "exception": false,
     "start_time": "2022-03-24T01:35:33.856737",
     "status": "completed"
    },
    "tags": []
   },
   "outputs": [
    {
     "name": "stdout",
     "output_type": "stream",
     "text": [
      "Source Test Label Accuracy: 0.7289127604166666 Target Test Label Accuracy: 0.71142578125\n",
      "Source Val Label Accuracy: 0.7282747395833333 Target Val Label Accuracy: 0.7144986979166666\n"
     ]
    }
   ],
   "source": [
    "print(\"Source Test Label Accuracy:\", experiment[\"results\"][\"source_test_label_accuracy\"], \"Target Test Label Accuracy:\", experiment[\"results\"][\"target_test_label_accuracy\"])\n",
    "print(\"Source Val Label Accuracy:\", experiment[\"results\"][\"source_val_label_accuracy\"], \"Target Val Label Accuracy:\", experiment[\"results\"][\"target_val_label_accuracy\"])"
   ]
  },
  {
   "cell_type": "code",
   "execution_count": 29,
   "id": "dacca602",
   "metadata": {
    "execution": {
     "iopub.execute_input": "2022-03-24T01:35:34.029688Z",
     "iopub.status.busy": "2022-03-24T01:35:34.029429Z",
     "iopub.status.idle": "2022-03-24T01:35:34.046744Z",
     "shell.execute_reply": "2022-03-24T01:35:34.047140Z"
    },
    "papermill": {
     "duration": 0.069726,
     "end_time": "2022-03-24T01:35:34.047262",
     "exception": false,
     "start_time": "2022-03-24T01:35:33.977536",
     "status": "completed"
    },
    "tags": [
     "experiment_json"
    ]
   },
   "outputs": [
    {
     "data": {
      "text/plain": [
       "'{\"experiment_name\": \"tl_1v2:oracle.run1-oracle.run2\", \"parameters\": {\"experiment_name\": \"tl_1v2:oracle.run1-oracle.run2\", \"device\": \"cuda\", \"lr\": 0.0001, \"n_shot\": 3, \"n_query\": 2, \"train_k_factor\": 3, \"val_k_factor\": 2, \"test_k_factor\": 2, \"torch_default_dtype\": \"torch.float32\", \"n_epoch\": 50, \"patience\": 3, \"criteria_for_best\": \"target_accuracy\", \"x_net\": [{\"class\": \"nnReshape\", \"kargs\": {\"shape\": [-1, 1, 2, 256]}}, {\"class\": \"Conv2d\", \"kargs\": {\"in_channels\": 1, \"out_channels\": 256, \"kernel_size\": [1, 7], \"bias\": false, \"padding\": [0, 3]}}, {\"class\": \"ReLU\", \"kargs\": {\"inplace\": true}}, {\"class\": \"BatchNorm2d\", \"kargs\": {\"num_features\": 256}}, {\"class\": \"Conv2d\", \"kargs\": {\"in_channels\": 256, \"out_channels\": 80, \"kernel_size\": [2, 7], \"bias\": true, \"padding\": [0, 3]}}, {\"class\": \"ReLU\", \"kargs\": {\"inplace\": true}}, {\"class\": \"BatchNorm2d\", \"kargs\": {\"num_features\": 80}}, {\"class\": \"Flatten\", \"kargs\": {}}, {\"class\": \"Linear\", \"kargs\": {\"in_features\": 20480, \"out_features\": 256}}, {\"class\": \"ReLU\", \"kargs\": {\"inplace\": true}}, {\"class\": \"BatchNorm1d\", \"kargs\": {\"num_features\": 256}}, {\"class\": \"Linear\", \"kargs\": {\"in_features\": 256, \"out_features\": 256}}], \"NUM_LOGS_PER_EPOCH\": 10, \"BEST_MODEL_PATH\": \"./best_model.pth\", \"n_way\": 16, \"datasets\": [{\"labels\": [\"3123D52\", \"3123D65\", \"3123D79\", \"3123D80\", \"3123D54\", \"3123D70\", \"3123D7B\", \"3123D89\", \"3123D58\", \"3123D76\", \"3123D7D\", \"3123EFE\", \"3123D64\", \"3123D78\", \"3123D7E\", \"3124E4A\"], \"domains\": [32, 38, 8, 44, 14, 50, 20, 26], \"num_examples_per_domain_per_label\": 10000, \"pickle_path\": \"/mnt/wd500GB/CSC500/csc500-main/datasets/oracle.Run1_10kExamples_stratified_ds.2022A.pkl\", \"source_or_target_dataset\": \"source\", \"x_transforms\": [\"unit_power\"], \"episode_transforms\": [], \"domain_prefix\": \"ORACLE.run1_\"}, {\"labels\": [\"3123D52\", \"3123D65\", \"3123D79\", \"3123D80\", \"3123D54\", \"3123D70\", \"3123D7B\", \"3123D89\", \"3123D58\", \"3123D76\", \"3123D7D\", \"3123EFE\", \"3123D64\", \"3123D78\", \"3123D7E\", \"3124E4A\"], \"domains\": [32, 38, 8, 44, 14, 50, 20, 26], \"num_examples_per_domain_per_label\": 10000, \"pickle_path\": \"/mnt/wd500GB/CSC500/csc500-main/datasets/oracle.Run2_10kExamples_stratified_ds.2022A.pkl\", \"source_or_target_dataset\": \"target\", \"x_transforms\": [\"unit_power\"], \"episode_transforms\": [], \"domain_prefix\": \"ORACLE.run2_\"}], \"dataset_seed\": 420, \"seed\": 420, \"x_shape\": [2, 256], \"domains_source\": [\"ORACLE.run1_32\", \"ORACLE.run1_38\", \"ORACLE.run1_8\", \"ORACLE.run1_44\", \"ORACLE.run1_14\", \"ORACLE.run1_50\", \"ORACLE.run1_20\", \"ORACLE.run1_26\"], \"domains_target\": [\"ORACLE.run2_32\", \"ORACLE.run2_38\", \"ORACLE.run2_8\", \"ORACLE.run2_44\", \"ORACLE.run2_14\", \"ORACLE.run2_50\", \"ORACLE.run2_20\", \"ORACLE.run2_26\"]}, \"results\": {\"source_test_label_accuracy\": 0.7289127604166666, \"source_test_label_loss\": 0.842953085899353, \"target_test_label_accuracy\": 0.71142578125, \"target_test_label_loss\": 0.9433645606040955, \"source_val_label_accuracy\": 0.7282747395833333, \"source_val_label_loss\": 0.8493332266807556, \"target_val_label_accuracy\": 0.7144986979166666, \"target_val_label_loss\": 0.9418401122093201, \"total_epochs_trained\": 16, \"total_experiment_time_secs\": 14805.027277946472, \"confusion\": {\"ORACLE.run1_14\": {\"15\": {\"15\": 1180, \"7\": 18, \"5\": 2}, \"5\": {\"5\": 810, \"4\": 190, \"2\": 52, \"1\": 110, \"3\": 24, \"7\": 11, \"6\": 1, \"15\": 2}, \"7\": {\"7\": 1179, \"15\": 14, \"1\": 5, \"5\": 2}, \"4\": {\"5\": 135, \"4\": 878, \"3\": 106, \"2\": 60, \"1\": 20, \"14\": 1}, \"10\": {\"10\": 1160, \"0\": 39, \"14\": 1}, \"11\": {\"11\": 1082, \"0\": 58, \"9\": 60}, \"12\": {\"12\": 1197, \"9\": 3}, \"0\": {\"0\": 1110, \"10\": 56, \"9\": 1, \"11\": 16, \"3\": 16, \"14\": 1}, \"14\": {\"14\": 1007, \"13\": 60, \"6\": 35, \"3\": 32, \"2\": 64, \"4\": 2}, \"8\": {\"8\": 1200}, \"13\": {\"14\": 168, \"13\": 418, \"2\": 96, \"6\": 504, \"5\": 7, \"4\": 4, \"3\": 1, \"10\": 2}, \"6\": {\"13\": 423, \"6\": 697, \"2\": 38, \"14\": 42}, \"1\": {\"1\": 1087, \"5\": 102, \"4\": 10, \"7\": 1}, \"3\": {\"3\": 1034, \"4\": 112, \"14\": 22, \"1\": 4, \"2\": 20, \"5\": 5, \"0\": 3}, \"9\": {\"9\": 1195, \"11\": 3, \"12\": 2}, \"2\": {\"5\": 111, \"6\": 77, \"14\": 196, \"2\": 597, \"4\": 84, \"13\": 56, \"3\": 60, \"15\": 19}}, \"ORACLE.run1_20\": {\"4\": {\"4\": 955, \"3\": 65, \"8\": 125, \"5\": 4, \"7\": 4, \"12\": 9, \"10\": 32, \"2\": 2, \"9\": 1, \"0\": 2, \"14\": 1}, \"10\": {\"10\": 1080, \"8\": 16, \"14\": 82, \"4\": 19, \"7\": 1, \"6\": 2}, \"15\": {\"15\": 722, \"5\": 131, \"12\": 19, \"1\": 202, \"13\": 37, \"0\": 76, \"9\": 6, \"2\": 7}, \"0\": {\"15\": 103, \"0\": 722, \"2\": 5, \"5\": 297, \"3\": 16, \"1\": 19, \"12\": 15, \"4\": 8, \"8\": 8, \"13\": 5, \"7\": 2}, \"6\": {\"6\": 1060, \"14\": 118, \"7\": 6, \"8\": 13, \"10\": 3}, \"3\": {\"3\": 503, \"9\": 180, \"7\": 36, \"12\": 266, \"2\": 80, \"4\": 72, \"1\": 23, \"5\": 27, \"0\": 3, \"8\": 7, \"15\": 2, \"10\": 1}, \"7\": {\"3\": 37, \"7\": 890, \"2\": 145, \"8\": 61, \"9\": 42, \"4\": 6, \"6\": 15, \"13\": 1, \"10\": 2, \"11\": 1}, \"2\": {\"3\": 87, \"2\": 562, \"12\": 58, \"9\": 273, \"7\": 147, \"13\": 54, \"1\": 13, \"5\": 3, \"0\": 1, \"15\": 2}, \"8\": {\"8\": 920, \"10\": 4, \"4\": 143, \"14\": 40, \"7\": 72, \"3\": 12, \"6\": 6, \"12\": 2, \"5\": 1}, \"11\": {\"11\": 1200}, \"14\": {\"14\": 986, \"6\": 121, \"10\": 62, \"8\": 31}, \"12\": {\"2\": 43, \"12\": 460, \"3\": 277, \"15\": 18, \"9\": 101, \"1\": 162, \"5\": 109, \"4\": 9, \"0\": 12, \"13\": 3, \"7\": 6}, \"13\": {\"13\": 1105, \"2\": 53, \"12\": 8, \"15\": 17, \"7\": 4, \"1\": 3, \"9\": 5, \"5\": 5}, \"9\": {\"3\": 189, \"9\": 536, \"2\": 279, \"12\": 105, \"7\": 51, \"4\": 4, \"1\": 18, \"5\": 5, \"0\": 1, \"13\": 10, \"15\": 2}, \"5\": {\"15\": 108, \"5\": 561, \"1\": 171, \"0\": 214, \"3\": 34, \"12\": 98, \"13\": 3, \"2\": 4, \"4\": 5, \"9\": 2}, \"1\": {\"15\": 185, \"12\": 193, \"1\": 566, \"0\": 20, \"5\": 180, \"3\": 33, \"2\": 13, \"9\": 8, \"13\": 2}}, \"ORACLE.run1_50\": {\"5\": {\"4\": 178, \"13\": 165, \"5\": 500, \"7\": 215, \"6\": 68, \"1\": 66, \"10\": 8}, \"12\": {\"12\": 1080, \"9\": 70, \"14\": 42, \"11\": 8}, \"14\": {\"14\": 1182, \"11\": 1, \"12\": 16, \"9\": 1}, \"4\": {\"7\": 25, \"4\": 607, \"15\": 167, \"1\": 176, \"6\": 78, \"5\": 128, \"11\": 2, \"13\": 17}, \"13\": {\"13\": 746, \"5\": 171, \"7\": 184, \"4\": 7, \"10\": 16, \"6\": 71, \"0\": 3, \"1\": 2}, \"10\": {\"10\": 1115, \"0\": 43, \"7\": 15, \"8\": 14, \"5\": 2, \"13\": 11}, \"9\": {\"9\": 951, \"11\": 154, \"12\": 93, \"14\": 2}, \"15\": {\"15\": 908, \"4\": 84, \"6\": 13, \"1\": 175, \"11\": 20}, \"6\": {\"6\": 917, \"4\": 81, \"0\": 3, \"5\": 24, \"13\": 60, \"1\": 75, \"15\": 31, \"7\": 9}, \"2\": {\"2\": 1103, \"0\": 97}, \"0\": {\"0\": 1050, \"2\": 101, \"10\": 44, \"5\": 1, \"13\": 4}, \"11\": {\"9\": 108, \"11\": 1032, \"15\": 33, \"12\": 11, \"14\": 14, \"4\": 1, \"1\": 1}, \"3\": {\"3\": 1178, \"8\": 22}, \"8\": {\"8\": 1164, \"10\": 21, \"3\": 15}, \"7\": {\"7\": 754, \"13\": 268, \"10\": 26, \"5\": 139, \"6\": 11, \"4\": 1, \"0\": 1}, \"1\": {\"4\": 119, \"15\": 231, \"1\": 740, \"6\": 95, \"5\": 9, \"11\": 4, \"14\": 2}}, \"ORACLE.run1_26\": {\"7\": {\"7\": 633, \"8\": 90, \"3\": 183, \"4\": 124, \"2\": 116, \"15\": 16, \"5\": 3, \"14\": 10, \"1\": 10, \"0\": 12, \"10\": 2, \"9\": 1}, \"6\": {\"6\": 860, \"9\": 187, \"8\": 29, \"10\": 65, \"0\": 24, \"15\": 27, \"13\": 6, \"5\": 2}, \"14\": {\"14\": 432, \"10\": 94, \"0\": 193, \"1\": 211, \"4\": 234, \"8\": 24, \"7\": 11, \"6\": 1}, \"15\": {\"15\": 524, \"9\": 311, \"13\": 67, \"6\": 29, \"5\": 130, \"8\": 73, \"2\": 33, \"0\": 3, \"7\": 21, \"3\": 1, \"10\": 7, \"4\": 1}, \"5\": {\"5\": 782, \"15\": 139, \"13\": 130, \"2\": 68, \"8\": 31, \"9\": 39, \"7\": 5, \"3\": 1, \"0\": 1, \"10\": 3, \"6\": 1}, \"10\": {\"4\": 63, \"14\": 102, \"10\": 495, \"0\": 270, \"8\": 152, \"6\": 69, \"7\": 3, \"9\": 18, \"1\": 19, \"15\": 7, \"5\": 2}, \"4\": {\"4\": 495, \"14\": 217, \"8\": 101, \"10\": 53, \"7\": 95, \"1\": 120, \"0\": 113, \"2\": 4, \"15\": 1, \"3\": 1}, \"11\": {\"11\": 1196, \"12\": 4}, \"13\": {\"13\": 885, \"5\": 223, \"9\": 23, \"6\": 13, \"2\": 12, \"15\": 44}, \"2\": {\"3\": 365, \"5\": 102, \"7\": 152, \"2\": 465, \"15\": 53, \"8\": 35, \"13\": 8, \"9\": 8, \"4\": 10, \"14\": 1, \"10\": 1}, \"0\": {\"7\": 37, \"4\": 172, \"10\": 286, \"0\": 385, \"1\": 20, \"14\": 157, \"8\": 106, \"6\": 18, \"9\": 9, \"15\": 8, \"2\": 1, \"5\": 1}, \"12\": {\"12\": 1198, \"11\": 2}, \"3\": {\"7\": 178, \"3\": 730, \"2\": 286, \"4\": 3, \"5\": 1, \"8\": 1, \"14\": 1}, \"9\": {\"8\": 97, \"9\": 498, \"15\": 344, \"10\": 19, \"13\": 25, \"6\": 149, \"5\": 49, \"7\": 6, \"0\": 10, \"4\": 1, \"2\": 2}, \"8\": {\"15\": 66, \"8\": 482, \"7\": 94, \"4\": 103, \"10\": 156, \"9\": 108, \"0\": 101, \"2\": 19, \"6\": 28, \"5\": 22, \"14\": 15, \"1\": 4, \"3\": 2}, \"1\": {\"14\": 212, \"1\": 784, \"4\": 135, \"7\": 12, \"10\": 26, \"0\": 23, \"8\": 6, \"3\": 2}}, \"ORACLE.run1_32\": {\"7\": {\"7\": 556, \"5\": 180, \"2\": 38, \"14\": 128, \"13\": 84, \"8\": 4, \"4\": 144, \"0\": 34, \"11\": 31, \"3\": 1}, \"2\": {\"2\": 971, \"4\": 196, \"7\": 20, \"14\": 2, \"0\": 7, \"5\": 2, \"8\": 2}, \"5\": {\"5\": 424, \"13\": 278, \"4\": 103, \"7\": 167, \"0\": 50, \"8\": 73, \"3\": 51, \"2\": 23, \"14\": 23, \"11\": 8}, \"6\": {\"6\": 1200}, \"13\": {\"4\": 70, \"3\": 90, \"5\": 237, \"7\": 92, \"13\": 588, \"8\": 53, \"14\": 33, \"0\": 22, \"11\": 14, \"2\": 1}, \"4\": {\"4\": 705, \"2\": 209, \"7\": 128, \"5\": 68, \"0\": 42, \"13\": 40, \"8\": 6, \"14\": 2}, \"3\": {\"3\": 1097, \"13\": 53, \"7\": 3, \"5\": 19, \"11\": 12, \"8\": 13, \"14\": 3}, \"0\": {\"4\": 76, \"0\": 870, \"8\": 136, \"5\": 33, \"2\": 21, \"14\": 26, \"13\": 13, \"7\": 25}, \"9\": {\"9\": 1199, \"12\": 1}, \"12\": {\"12\": 1200}, \"8\": {\"8\": 932, \"5\": 68, \"13\": 80, \"0\": 98, \"4\": 3, \"3\": 11, \"15\": 1, \"7\": 4, \"14\": 3}, \"14\": {\"11\": 303, \"14\": 571, \"7\": 170, \"0\": 45, \"3\": 14, \"13\": 39, \"5\": 22, \"2\": 12, \"4\": 8, \"8\": 16}, \"15\": {\"15\": 1193, \"8\": 7}, \"11\": {\"14\": 203, \"3\": 12, \"11\": 947, \"13\": 18, \"7\": 18, \"5\": 1, \"0\": 1}, \"10\": {\"10\": 1198, \"1\": 2}, \"1\": {\"1\": 1191, \"10\": 9}}, \"ORACLE.run1_44\": {\"11\": {\"11\": 1133, \"9\": 1, \"13\": 52, \"6\": 14}, \"7\": {\"9\": 196, \"6\": 38, \"7\": 764, \"2\": 194, \"13\": 4, \"3\": 4}, \"6\": {\"6\": 830, \"7\": 31, \"9\": 110, \"13\": 211, \"11\": 15, \"2\": 3}, \"12\": {\"12\": 931, \"3\": 18, \"1\": 197, \"10\": 52, \"2\": 2}, \"4\": {\"4\": 889, \"14\": 300, \"15\": 8, \"13\": 3}, \"13\": {\"6\": 220, \"4\": 9, \"13\": 808, \"11\": 33, \"9\": 120, \"7\": 10}, \"8\": {\"0\": 388, \"8\": 763, \"15\": 33, \"5\": 16}, \"5\": {\"5\": 1048, \"0\": 85, \"14\": 33, \"15\": 24, \"4\": 6, \"8\": 4}, \"14\": {\"4\": 310, \"14\": 800, \"15\": 63, \"5\": 27}, \"3\": {\"3\": 1073, \"1\": 113, \"12\": 11, \"7\": 1, \"2\": 1, \"10\": 1}, \"10\": {\"10\": 895, \"12\": 91, \"2\": 106, \"1\": 105, \"3\": 2, \"7\": 1}, \"1\": {\"1\": 727, \"12\": 207, \"3\": 152, \"10\": 79, \"2\": 34, \"7\": 1}, \"2\": {\"2\": 909, \"1\": 50, \"7\": 149, \"10\": 85, \"12\": 2, \"9\": 4, \"3\": 1}, \"15\": {\"15\": 991, \"0\": 84, \"8\": 17, \"4\": 13, \"14\": 72, \"5\": 23}, \"9\": {\"7\": 267, \"6\": 124, \"9\": 660, \"13\": 133, \"2\": 15, \"4\": 1}, \"0\": {\"0\": 738, \"8\": 347, \"5\": 68, \"15\": 47}}, \"ORACLE.run1_8\": {\"10\": {\"10\": 830, \"14\": 199, \"13\": 108, \"5\": 22, \"4\": 34, \"1\": 7}, \"6\": {\"6\": 673, \"4\": 123, \"7\": 293, \"13\": 25, \"0\": 72, \"14\": 4, \"8\": 9, \"12\": 1}, \"13\": {\"0\": 295, \"13\": 403, \"4\": 222, \"10\": 146, \"14\": 90, \"6\": 30, \"7\": 7, \"1\": 4, \"5\": 2, \"11\": 1}, \"3\": {\"3\": 1056, \"2\": 93, \"12\": 48, \"15\": 3}, \"9\": {\"9\": 1200}, \"1\": {\"1\": 878, \"11\": 243, \"14\": 48, \"5\": 17, \"10\": 7, \"4\": 4, \"8\": 1, \"13\": 1, \"6\": 1}, \"5\": {\"5\": 1080, \"10\": 57, \"1\": 47, \"14\": 10, \"11\": 6}, \"11\": {\"1\": 343, \"11\": 830, \"6\": 1, \"8\": 6, \"5\": 9, \"14\": 9, \"4\": 2}, \"4\": {\"6\": 133, \"4\": 610, \"0\": 36, \"13\": 224, \"14\": 169, \"10\": 27, \"7\": 1}, \"14\": {\"4\": 198, \"14\": 654, \"10\": 180, \"1\": 70, \"13\": 77, \"11\": 11, \"6\": 3, \"5\": 6, \"0\": 1}, \"12\": {\"12\": 684, \"15\": 353, \"3\": 118, \"2\": 17, \"8\": 28}, \"7\": {\"6\": 243, \"7\": 894, \"0\": 48, \"4\": 4, \"8\": 6, \"13\": 5}, \"0\": {\"0\": 732, \"13\": 265, \"7\": 73, \"10\": 8, \"4\": 42, \"6\": 77, \"14\": 3}, \"15\": {\"12\": 276, \"15\": 849, \"8\": 58, \"2\": 13, \"3\": 2, \"6\": 1, \"7\": 1}, \"2\": {\"2\": 969, \"3\": 169, \"15\": 32, \"7\": 17, \"12\": 9, \"6\": 3, \"8\": 1}, \"8\": {\"8\": 1130, \"6\": 7, \"15\": 58, \"12\": 5}}, \"ORACLE.run1_38\": {\"4\": {\"4\": 1127, \"12\": 70, \"10\": 1, \"0\": 2}, \"7\": {\"7\": 981, \"0\": 135, \"8\": 41, \"5\": 39, \"3\": 4}, \"12\": {\"12\": 1167, \"4\": 29, \"10\": 4}, \"10\": {\"13\": 114, \"10\": 948, \"7\": 8, \"8\": 46, \"4\": 5, \"12\": 14, \"11\": 7, \"5\": 7, \"15\": 8, \"14\": 18, \"0\": 22, \"2\": 3}, \"0\": {\"7\": 197, \"8\": 271, \"0\": 549, \"3\": 57, \"10\": 27, \"5\": 89, \"15\": 2, \"13\": 2, \"9\": 2, \"12\": 2, \"4\": 2}, \"1\": {\"1\": 1140, \"15\": 59, \"5\": 1}, \"5\": {\"8\": 319, \"9\": 29, \"5\": 542, \"7\": 117, \"15\": 56, \"0\": 66, \"6\": 41, \"1\": 11, \"13\": 7, \"3\": 5, \"10\": 7}, \"15\": {\"15\": 872, \"5\": 25, \"1\": 80, \"13\": 174, \"10\": 8, \"8\": 36, \"2\": 5}, \"9\": {\"9\": 820, \"6\": 342, \"3\": 25, \"5\": 13}, \"11\": {\"11\": 1036, \"14\": 131, \"10\": 15, \"2\": 8, \"12\": 7, \"13\": 2, \"4\": 1}, \"14\": {\"14\": 1058, \"11\": 45, \"2\": 81, \"13\": 5, \"10\": 8, \"12\": 3}, \"6\": {\"6\": 1020, \"9\": 170, \"5\": 9, \"8\": 1}, \"8\": {\"8\": 717, \"0\": 118, \"5\": 264, \"15\": 22, \"7\": 45, \"10\": 23, \"1\": 2, \"13\": 9}, \"3\": {\"3\": 1125, \"9\": 39, \"7\": 18, \"0\": 18}, \"2\": {\"2\": 1106, \"13\": 24, \"14\": 67, \"11\": 3}, \"13\": {\"13\": 852, \"15\": 202, \"8\": 12, \"10\": 102, \"2\": 18, \"5\": 6, \"14\": 1, \"1\": 7}}, \"ORACLE.run2_14\": {\"15\": {\"15\": 1183, \"7\": 16, \"2\": 1}, \"5\": {\"5\": 626, \"4\": 296, \"3\": 104, \"7\": 1, \"2\": 85, \"1\": 84, \"14\": 3, \"13\": 1}, \"7\": {\"7\": 1190, \"15\": 8, \"1\": 1, \"5\": 1}, \"4\": {\"4\": 775, \"3\": 64, \"5\": 279, \"2\": 48, \"14\": 4, \"1\": 25, \"6\": 3, \"13\": 2}, \"10\": {\"10\": 1157, \"0\": 38, \"14\": 3, \"3\": 1, \"11\": 1}, \"11\": {\"11\": 1183, \"10\": 1, \"12\": 15, \"0\": 1}, \"12\": {\"12\": 595, \"9\": 137, \"11\": 328, \"0\": 81, \"10\": 12, \"8\": 46, \"3\": 1}, \"0\": {\"0\": 1196, \"3\": 1, \"10\": 3}, \"14\": {\"2\": 160, \"14\": 895, \"3\": 34, \"6\": 86, \"5\": 7, \"13\": 10, \"4\": 4, \"0\": 4}, \"8\": {\"8\": 1200}, \"13\": {\"2\": 24, \"13\": 852, \"6\": 317, \"14\": 7}, \"6\": {\"6\": 856, \"13\": 256, \"14\": 54, \"2\": 31, \"4\": 3}, \"1\": {\"1\": 1109, \"4\": 25, \"5\": 64, \"3\": 2}, \"3\": {\"3\": 1005, \"4\": 56, \"5\": 76, \"14\": 22, \"1\": 8, \"2\": 31, \"0\": 2}, \"9\": {\"9\": 1197, \"12\": 3}, \"2\": {\"2\": 581, \"14\": 199, \"3\": 84, \"4\": 80, \"5\": 142, \"13\": 73, \"6\": 33, \"0\": 4, \"15\": 3, \"7\": 1}}, \"ORACLE.run2_20\": {\"4\": {\"4\": 1047, \"12\": 42, \"5\": 36, \"10\": 4, \"0\": 19, \"3\": 16, \"8\": 19, \"7\": 2, \"2\": 3, \"14\": 3, \"1\": 5, \"9\": 4}, \"10\": {\"10\": 1046, \"8\": 25, \"14\": 81, \"6\": 19, \"7\": 16, \"3\": 6, \"4\": 7}, \"15\": {\"1\": 116, \"15\": 510, \"0\": 47, \"12\": 75, \"13\": 252, \"2\": 79, \"5\": 74, \"9\": 41, \"3\": 4, \"4\": 1, \"7\": 1}, \"0\": {\"0\": 942, \"4\": 35, \"5\": 74, \"1\": 53, \"12\": 45, \"15\": 36, \"13\": 13, \"2\": 1, \"8\": 1}, \"6\": {\"6\": 1044, \"14\": 116, \"7\": 13, \"8\": 15, \"10\": 12}, \"3\": {\"3\": 532, \"7\": 165, \"2\": 175, \"12\": 42, \"5\": 107, \"9\": 143, \"10\": 7, \"4\": 13, \"8\": 6, \"13\": 1, \"15\": 6, \"1\": 2, \"0\": 1}, \"7\": {\"7\": 909, \"3\": 120, \"8\": 110, \"5\": 22, \"4\": 2, \"2\": 16, \"6\": 6, \"10\": 9, \"14\": 5, \"9\": 1}, \"2\": {\"3\": 185, \"9\": 298, \"5\": 119, \"2\": 376, \"15\": 114, \"12\": 66, \"1\": 11, \"7\": 9, \"13\": 21, \"4\": 1}, \"8\": {\"14\": 199, \"8\": 750, \"7\": 133, \"2\": 1, \"6\": 18, \"4\": 55, \"3\": 9, \"10\": 23, \"5\": 12}, \"11\": {\"11\": 1200}, \"14\": {\"14\": 819, \"8\": 148, \"10\": 77, \"6\": 145, \"4\": 4, \"7\": 7}, \"12\": {\"12\": 480, \"1\": 264, \"2\": 81, \"4\": 44, \"5\": 113, \"9\": 102, \"15\": 69, \"3\": 16, \"0\": 25, \"13\": 6}, \"13\": {\"13\": 893, \"15\": 253, \"5\": 7, \"0\": 12, \"1\": 11, \"2\": 17, \"9\": 4, \"12\": 3}, \"9\": {\"9\": 517, \"15\": 39, \"12\": 107, \"5\": 32, \"2\": 308, \"3\": 147, \"1\": 42, \"13\": 5, \"4\": 3}, \"5\": {\"12\": 113, \"13\": 8, \"5\": 447, \"15\": 70, \"1\": 22, \"7\": 53, \"4\": 42, \"2\": 131, \"3\": 155, \"0\": 97, \"8\": 12, \"9\": 50}, \"1\": {\"12\": 282, \"15\": 109, \"1\": 662, \"0\": 52, \"3\": 3, \"5\": 18, \"4\": 7, \"9\": 44, \"13\": 10, \"2\": 13}}, \"ORACLE.run2_50\": {\"5\": {\"6\": 71, \"5\": 614, \"4\": 304, \"7\": 90, \"13\": 47, \"10\": 63, \"1\": 10, \"0\": 1}, \"12\": {\"12\": 1119, \"14\": 28, \"9\": 43, \"11\": 10}, \"14\": {\"14\": 1185, \"11\": 7, \"12\": 8}, \"4\": {\"4\": 686, \"5\": 276, \"1\": 80, \"6\": 143, \"7\": 6, \"13\": 5, \"0\": 1, \"10\": 2, \"15\": 1}, \"13\": {\"13\": 651, \"7\": 331, \"5\": 42, \"10\": 173, \"4\": 3}, \"10\": {\"10\": 899, \"5\": 28, \"13\": 202, \"7\": 48, \"0\": 22, \"4\": 1}, \"9\": {\"9\": 1132, \"12\": 52, \"11\": 16}, \"15\": {\"15\": 1085, \"1\": 64, \"11\": 38, \"6\": 11, \"4\": 2}, \"6\": {\"5\": 69, \"6\": 816, \"1\": 171, \"4\": 124, \"15\": 15, \"7\": 2, \"13\": 1, \"0\": 2}, \"2\": {\"2\": 1125, \"0\": 75}, \"0\": {\"0\": 1103, \"2\": 69, \"10\": 26, \"1\": 1, \"6\": 1}, \"11\": {\"11\": 1120, \"9\": 17, \"15\": 36, \"12\": 11, \"14\": 16}, \"3\": {\"3\": 1146, \"8\": 54}, \"8\": {\"8\": 1158, \"3\": 42}, \"7\": {\"13\": 438, \"7\": 582, \"10\": 65, \"5\": 91, \"4\": 22, \"6\": 2}, \"1\": {\"1\": 903, \"15\": 54, \"4\": 54, \"6\": 183, \"5\": 4, \"11\": 2}}, \"ORACLE.run2_26\": {\"7\": {\"2\": 331, \"7\": 429, \"5\": 46, \"0\": 7, \"3\": 66, \"15\": 68, \"8\": 133, \"4\": 75, \"14\": 6, \"9\": 27, \"10\": 7, \"13\": 5}, \"6\": {\"6\": 914, \"9\": 156, \"5\": 20, \"10\": 53, \"13\": 32, \"8\": 18, \"14\": 3, \"0\": 4}, \"14\": {\"1\": 287, \"0\": 207, \"14\": 397, \"8\": 83, \"4\": 72, \"10\": 140, \"7\": 6, \"2\": 3, \"5\": 4, \"9\": 1}, \"15\": {\"15\": 761, \"2\": 97, \"3\": 169, \"7\": 96, \"4\": 37, \"8\": 18, \"5\": 6, \"9\": 8, \"0\": 6, \"13\": 2}, \"5\": {\"5\": 470, \"3\": 26, \"13\": 256, \"7\": 110, \"9\": 70, \"8\": 85, \"6\": 77, \"2\": 81, \"10\": 12, \"15\": 9, \"14\": 3, \"0\": 1}, \"10\": {\"0\": 236, \"6\": 78, \"8\": 105, \"4\": 63, \"10\": 408, \"14\": 206, \"1\": 60, \"7\": 11, \"12\": 3, \"5\": 4, \"2\": 8, \"3\": 2, \"15\": 4, \"9\": 12}, \"4\": {\"4\": 691, \"7\": 77, \"8\": 40, \"2\": 95, \"0\": 106, \"15\": 33, \"1\": 18, \"14\": 50, \"10\": 22, \"3\": 66, \"5\": 1, \"9\": 1}, \"11\": {\"11\": 1198, \"12\": 2}, \"13\": {\"9\": 99, \"13\": 907, \"5\": 168, \"8\": 2, \"6\": 17, \"7\": 6, \"15\": 1}, \"2\": {\"7\": 382, \"2\": 322, \"3\": 129, \"4\": 117, \"5\": 26, \"0\": 7, \"15\": 89, \"8\": 98, \"9\": 15, \"10\": 8, \"14\": 3, \"13\": 4}, \"0\": {\"4\": 141, \"10\": 206, \"0\": 443, \"1\": 52, \"14\": 204, \"8\": 109, \"7\": 19, \"2\": 9, \"15\": 7, \"3\": 4, \"6\": 1, \"5\": 1, \"9\": 4}, \"12\": {\"12\": 1198, \"11\": 2}, \"3\": {\"15\": 151, \"3\": 714, \"4\": 87, \"7\": 107, \"2\": 138, \"8\": 1, \"0\": 1, \"5\": 1}, \"9\": {\"9\": 754, \"5\": 51, \"6\": 164, \"8\": 85, \"0\": 5, \"13\": 99, \"7\": 19, \"15\": 2, \"2\": 13, \"10\": 8}, \"8\": {\"8\": 542, \"9\": 76, \"10\": 74, \"5\": 58, \"2\": 84, \"7\": 124, \"0\": 81, \"14\": 85, \"3\": 4, \"15\": 7, \"4\": 48, \"1\": 5, \"6\": 9, \"13\": 3}, \"1\": {\"1\": 751, \"0\": 70, \"14\": 303, \"8\": 10, \"4\": 20, \"10\": 44, \"7\": 2}}, \"ORACLE.run2_32\": {\"7\": {\"5\": 13, \"13\": 137, \"7\": 729, \"11\": 215, \"0\": 19, \"4\": 72, \"2\": 12, \"14\": 1, \"8\": 1, \"3\": 1}, \"2\": {\"2\": 992, \"7\": 16, \"14\": 75, \"11\": 11, \"0\": 7, \"5\": 55, \"4\": 42, \"13\": 2}, \"5\": {\"7\": 15, \"14\": 86, \"0\": 109, \"5\": 501, \"8\": 148, \"4\": 153, \"2\": 97, \"13\": 67, \"3\": 12, \"11\": 12}, \"6\": {\"6\": 1200}, \"13\": {\"13\": 681, \"7\": 100, \"4\": 221, \"11\": 57, \"0\": 57, \"3\": 20, \"8\": 42, \"5\": 21, \"2\": 1}, \"4\": {\"8\": 39, \"4\": 595, \"13\": 216, \"7\": 73, \"5\": 132, \"0\": 82, \"2\": 22, \"11\": 41}, \"3\": {\"3\": 1137, \"13\": 34, \"8\": 21, \"11\": 2, \"4\": 4, \"7\": 1, \"0\": 1}, \"0\": {\"0\": 645, \"4\": 130, \"8\": 102, \"11\": 160, \"5\": 94, \"2\": 8, \"13\": 34, \"7\": 13, \"14\": 13, \"3\": 1}, \"9\": {\"9\": 1173, \"14\": 25, \"2\": 2}, \"12\": {\"12\": 1200}, \"8\": {\"8\": 934, \"4\": 37, \"0\": 82, \"5\": 52, \"13\": 63, \"3\": 20, \"11\": 7, \"15\": 3, \"7\": 2}, \"14\": {\"14\": 984, \"2\": 100, \"0\": 49, \"5\": 48, \"11\": 8, \"4\": 7, \"7\": 2, \"8\": 2}, \"15\": {\"15\": 1190, \"8\": 10}, \"11\": {\"11\": 681, \"0\": 161, \"2\": 23, \"7\": 192, \"13\": 74, \"4\": 50, \"8\": 7, \"5\": 7, \"3\": 2, \"14\": 3}, \"10\": {\"10\": 1198, \"1\": 2}, \"1\": {\"1\": 1194, \"10\": 6}}, \"ORACLE.run2_44\": {\"11\": {\"11\": 1173, \"7\": 4, \"6\": 22, \"10\": 1}, \"7\": {\"2\": 259, \"7\": 635, \"9\": 290, \"6\": 15, \"1\": 1}, \"6\": {\"6\": 1091, \"13\": 27, \"9\": 54, \"7\": 21, \"2\": 3, \"11\": 3, \"4\": 1}, \"12\": {\"12\": 820, \"10\": 10, \"1\": 305, \"3\": 65}, \"4\": {\"4\": 1076, \"14\": 65, \"13\": 26, \"15\": 33}, \"13\": {\"13\": 1140, \"6\": 33, \"4\": 23, \"14\": 3, \"9\": 1}, \"8\": {\"8\": 688, \"0\": 488, \"5\": 18, \"14\": 3, \"15\": 3}, \"5\": {\"5\": 1091, \"14\": 85, \"8\": 14, \"15\": 4, \"0\": 6}, \"14\": {\"14\": 874, \"5\": 108, \"4\": 79, \"15\": 138, \"8\": 1}, \"3\": {\"3\": 1029, \"12\": 53, \"1\": 118}, \"10\": {\"10\": 1147, \"1\": 27, \"12\": 26}, \"1\": {\"1\": 736, \"12\": 329, \"3\": 125, \"7\": 4, \"10\": 4, \"2\": 2}, \"2\": {\"2\": 675, \"7\": 238, \"9\": 280, \"1\": 4, \"6\": 2, \"3\": 1}, \"15\": {\"15\": 1017, \"4\": 43, \"14\": 127, \"0\": 1, \"8\": 12}, \"9\": {\"9\": 537, \"2\": 325, \"7\": 297, \"6\": 41}, \"0\": {\"0\": 694, \"8\": 500, \"5\": 5, \"15\": 1}}, \"ORACLE.run2_8\": {\"10\": {\"10\": 673, \"5\": 179, \"0\": 233, \"14\": 80, \"13\": 27, \"1\": 8}, \"6\": {\"6\": 528, \"7\": 223, \"4\": 368, \"13\": 13, \"14\": 44, \"2\": 21, \"8\": 2, \"0\": 1}, \"13\": {\"13\": 816, \"1\": 117, \"10\": 38, \"14\": 191, \"4\": 3, \"0\": 7, \"5\": 11, \"6\": 13, \"8\": 3, \"7\": 1}, \"3\": {\"3\": 1128, \"12\": 67, \"15\": 5}, \"9\": {\"9\": 1200}, \"1\": {\"1\": 1069, \"5\": 29, \"13\": 93, \"10\": 8, \"14\": 1}, \"5\": {\"5\": 958, \"10\": 184, \"13\": 10, \"0\": 5, \"1\": 43}, \"11\": {\"8\": 258, \"11\": 650, \"12\": 132, \"15\": 159, \"6\": 1}, \"4\": {\"4\": 467, \"7\": 233, \"6\": 382, \"0\": 4, \"2\": 96, \"14\": 15, \"13\": 3}, \"14\": {\"14\": 701, \"13\": 172, \"6\": 52, \"0\": 190, \"10\": 69, \"4\": 13, \"1\": 3}, \"12\": {\"12\": 952, \"3\": 87, \"11\": 24, \"15\": 137}, \"7\": {\"7\": 585, \"2\": 163, \"6\": 200, \"4\": 245, \"8\": 6, \"14\": 1}, \"0\": {\"10\": 207, \"0\": 774, \"14\": 205, \"6\": 3, \"4\": 2, \"13\": 4, \"5\": 5}, \"15\": {\"11\": 152, \"15\": 711, \"8\": 131, \"12\": 198, \"3\": 7, \"7\": 1}, \"2\": {\"2\": 915, \"7\": 168, \"6\": 24, \"4\": 93}, \"8\": {\"11\": 99, \"8\": 1004, \"4\": 2, \"15\": 78, \"13\": 2, \"6\": 5, \"7\": 9, \"12\": 1}}, \"ORACLE.run2_38\": {\"4\": {\"4\": 1152, \"12\": 34, \"10\": 7, \"7\": 7}, \"7\": {\"5\": 132, \"7\": 617, \"10\": 334, \"8\": 87, \"13\": 9, \"3\": 10, \"0\": 7, \"14\": 1, \"15\": 3}, \"12\": {\"12\": 1178, \"4\": 14, \"14\": 7, \"7\": 1}, \"10\": {\"7\": 383, \"5\": 35, \"10\": 692, \"3\": 26, \"8\": 29, \"13\": 17, \"0\": 17, \"15\": 1}, \"0\": {\"10\": 26, \"0\": 1003, \"3\": 144, \"6\": 4, \"13\": 1, \"7\": 11, \"15\": 6, \"8\": 3, \"5\": 1, \"9\": 1}, \"1\": {\"1\": 1130, \"15\": 55, \"5\": 2, \"13\": 8, \"6\": 2, \"8\": 3}, \"5\": {\"5\": 488, \"15\": 126, \"8\": 353, \"7\": 152, \"13\": 48, \"3\": 11, \"10\": 20, \"0\": 1, \"14\": 1}, \"15\": {\"8\": 237, \"15\": 615, \"1\": 126, \"5\": 161, \"13\": 15, \"6\": 10, \"3\": 15, \"0\": 13, \"10\": 1, \"7\": 7}, \"9\": {\"6\": 272, \"9\": 919, \"3\": 4, \"0\": 5}, \"11\": {\"11\": 1104, \"14\": 53, \"12\": 21, \"4\": 18, \"2\": 4}, \"14\": {\"2\": 282, \"14\": 743, \"11\": 37, \"12\": 68, \"7\": 30, \"5\": 16, \"10\": 5, \"13\": 11, \"8\": 6, \"15\": 1, \"4\": 1}, \"6\": {\"6\": 983, \"9\": 209, \"15\": 5, \"3\": 3}, \"8\": {\"8\": 464, \"13\": 60, \"5\": 373, \"15\": 189, \"3\": 15, \"7\": 76, \"1\": 7, \"10\": 14, \"14\": 1, \"6\": 1}, \"3\": {\"5\": 29, \"7\": 45, \"8\": 68, \"3\": 468, \"0\": 288, \"13\": 127, \"1\": 3, \"9\": 36, \"10\": 92, \"6\": 19, \"15\": 25}, \"2\": {\"14\": 145, \"2\": 1055}, \"13\": {\"13\": 551, \"10\": 43, \"15\": 62, \"3\": 123, \"8\": 155, \"1\": 48, \"7\": 53, \"0\": 7, \"14\": 15, \"5\": 108, \"2\": 25, \"6\": 3, \"9\": 7}}}, \"per_domain_accuracy\": {\"ORACLE.run1_14\": {\"accuracy\": 0.82453125, \"source?\": true}, \"ORACLE.run1_20\": {\"accuracy\": 0.668125, \"source?\": true}, \"ORACLE.run1_50\": {\"accuracy\": 0.78265625, \"source?\": true}, \"ORACLE.run1_26\": {\"accuracy\": 0.5647916666666667, \"source?\": true}, \"ORACLE.run1_32\": {\"accuracy\": 0.7730208333333334, \"source?\": true}, \"ORACLE.run1_44\": {\"accuracy\": 0.72703125, \"source?\": true}, \"ORACLE.run1_8\": {\"accuracy\": 0.7016666666666667, \"source?\": true}, \"ORACLE.run1_38\": {\"accuracy\": 0.784375, \"source?\": true}, \"ORACLE.run2_14\": {\"accuracy\": 0.8125, \"source?\": false}, \"ORACLE.run2_20\": {\"accuracy\": 0.6340625, \"source?\": false}, \"ORACLE.run2_50\": {\"accuracy\": 0.798125, \"source?\": false}, \"ORACLE.run2_26\": {\"accuracy\": 0.56765625, \"source?\": false}, \"ORACLE.run2_32\": {\"accuracy\": 0.7830208333333334, \"source?\": false}, \"ORACLE.run2_44\": {\"accuracy\": 0.7511979166666667, \"source?\": false}, \"ORACLE.run2_8\": {\"accuracy\": 0.68390625, \"source?\": false}, \"ORACLE.run2_38\": {\"accuracy\": 0.6855208333333334, \"source?\": false}}}, \"history\": {\"epoch_indices\": [1, 2, 3, 4, 5, 6, 7, 8, 9, 10, 11, 12, 13, 14, 15, 16], \"train_label_loss\": [1.0781455755131764, 0.8343692330035958, 0.7498434533130023, 0.6668248492765373, 0.6015611569162104, 0.5534288464821432, 0.5129442186044928, 0.47171152859493826, 0.43386573848613935, 0.4010463199849307, 0.3704139437712452, 0.3447571143513085, 0.3202025435709705, 0.298453872421967, 0.27770525884886627, 0.2591179986284364], \"source_val_label_loss\": [0.9490389227867126, 0.8596139550209045, 0.8124881982803345, 0.7796081900596619, 0.7678852081298828, 0.7665619850158691, 0.766365110874176, 0.7890063524246216, 0.782230019569397, 0.7994877099990845, 0.817413866519928, 0.8493332266807556, 0.8697375655174255, 0.883331298828125, 0.9258657097816467, 0.9429646134376526], \"target_val_label_loss\": [0.9920522570610046, 0.9265827536582947, 0.8915557265281677, 0.8595108985900879, 0.852935791015625, 0.8583731055259705, 0.8548420667648315, 0.8778637051582336, 0.8628838062286377, 0.888155460357666, 0.9091495871543884, 0.9418401122093201, 0.9701186418533325, 0.9840139150619507, 1.0286945104599, 1.0445318222045898], \"source_val_acc_label\": [0.64662109375, 0.6761328125, 0.69609375, 0.7110026041666667, 0.7198958333333333, 0.7277083333333333, 0.7265104166666667, 0.7254557291666667, 0.7270963541666666, 0.7252604166666666, 0.72947265625, 0.7282747395833333, 0.7292252604166667, 0.7227083333333333, 0.7237109375, 0.7181184895833334], \"target_val_acc_label\": [0.6319140625, 0.65689453125, 0.6773046875, 0.6958723958333334, 0.7028971354166667, 0.7096809895833334, 0.7113802083333334, 0.71033203125, 0.7136002604166667, 0.7107682291666667, 0.7128450520833334, 0.7144986979166666, 0.7121875, 0.7065299479166667, 0.7069075520833333, 0.70345703125]}, \"dataset_metrics\": {\"source\": {\"train\": {\"n_unique_x\": 896000, \"n_unique_y\": 16, \"n_batch/episode\": 33600}, \"val\": {\"n_unique_x\": 192000, \"n_unique_y\": 16, \"n_batch/episode\": 4800}, \"test\": {\"n_unique_x\": 192000, \"n_unique_y\": 16, \"n_batch/episode\": 4800}}, \"target\": {\"train\": {\"n_unique_x\": 896000, \"n_unique_y\": 16, \"n_batch/episode\": 33600}, \"val\": {\"n_unique_x\": 192000, \"n_unique_y\": 16, \"n_batch/episode\": 4800}, \"test\": {\"n_unique_x\": 192000, \"n_unique_y\": 16, \"n_batch/episode\": 4800}}}}'"
      ]
     },
     "execution_count": 29,
     "metadata": {},
     "output_type": "execute_result"
    }
   ],
   "source": [
    "json.dumps(experiment)"
   ]
  }
 ],
 "metadata": {
  "celltoolbar": "Tags",
  "kernelspec": {
   "display_name": "Python 3 (ipykernel)",
   "language": "python",
   "name": "python3"
  },
  "language_info": {
   "codemirror_mode": {
    "name": "ipython",
    "version": 3
   },
   "file_extension": ".py",
   "mimetype": "text/x-python",
   "name": "python",
   "nbconvert_exporter": "python",
   "pygments_lexer": "ipython3",
   "version": "3.8.10"
  },
  "papermill": {
   "default_parameters": {},
   "duration": 15296.284137,
   "end_time": "2022-03-24T01:35:37.224815",
   "environment_variables": {},
   "exception": null,
   "input_path": "/mnt/wd500GB/CSC500/csc500-main/csc500-notebooks/templates/tl_ptn_template.ipynb",
   "output_path": "trial.ipynb",
   "parameters": {
    "parameters": {
     "BEST_MODEL_PATH": "./best_model.pth",
     "NUM_LOGS_PER_EPOCH": 10,
     "criteria_for_best": "target_accuracy",
     "dataset_seed": 420,
     "datasets": [
      {
       "domain_prefix": "ORACLE.run1_",
       "domains": [
        32,
        38,
        8,
        44,
        14,
        50,
        20,
        26
       ],
       "episode_transforms": [],
       "labels": [
        "3123D52",
        "3123D65",
        "3123D79",
        "3123D80",
        "3123D54",
        "3123D70",
        "3123D7B",
        "3123D89",
        "3123D58",
        "3123D76",
        "3123D7D",
        "3123EFE",
        "3123D64",
        "3123D78",
        "3123D7E",
        "3124E4A"
       ],
       "num_examples_per_domain_per_label": 10000,
       "pickle_path": "/mnt/wd500GB/CSC500/csc500-main/datasets/oracle.Run1_10kExamples_stratified_ds.2022A.pkl",
       "source_or_target_dataset": "source",
       "x_transforms": [
        "unit_power"
       ]
      },
      {
       "domain_prefix": "ORACLE.run2_",
       "domains": [
        32,
        38,
        8,
        44,
        14,
        50,
        20,
        26
       ],
       "episode_transforms": [],
       "labels": [
        "3123D52",
        "3123D65",
        "3123D79",
        "3123D80",
        "3123D54",
        "3123D70",
        "3123D7B",
        "3123D89",
        "3123D58",
        "3123D76",
        "3123D7D",
        "3123EFE",
        "3123D64",
        "3123D78",
        "3123D7E",
        "3124E4A"
       ],
       "num_examples_per_domain_per_label": 10000,
       "pickle_path": "/mnt/wd500GB/CSC500/csc500-main/datasets/oracle.Run2_10kExamples_stratified_ds.2022A.pkl",
       "source_or_target_dataset": "target",
       "x_transforms": [
        "unit_power"
       ]
      }
     ],
     "device": "cuda",
     "experiment_name": "tl_1v2:oracle.run1-oracle.run2",
     "lr": 0.0001,
     "n_epoch": 50,
     "n_query": 2,
     "n_shot": 3,
     "n_way": 16,
     "patience": 3,
     "seed": 420,
     "test_k_factor": 2,
     "torch_default_dtype": "torch.float32",
     "train_k_factor": 3,
     "val_k_factor": 2,
     "x_net": [
      {
       "class": "nnReshape",
       "kargs": {
        "shape": [
         -1,
         1,
         2,
         256
        ]
       }
      },
      {
       "class": "Conv2d",
       "kargs": {
        "bias": false,
        "in_channels": 1,
        "kernel_size": [
         1,
         7
        ],
        "out_channels": 256,
        "padding": [
         0,
         3
        ]
       }
      },
      {
       "class": "ReLU",
       "kargs": {
        "inplace": true
       }
      },
      {
       "class": "BatchNorm2d",
       "kargs": {
        "num_features": 256
       }
      },
      {
       "class": "Conv2d",
       "kargs": {
        "bias": true,
        "in_channels": 256,
        "kernel_size": [
         2,
         7
        ],
        "out_channels": 80,
        "padding": [
         0,
         3
        ]
       }
      },
      {
       "class": "ReLU",
       "kargs": {
        "inplace": true
       }
      },
      {
       "class": "BatchNorm2d",
       "kargs": {
        "num_features": 80
       }
      },
      {
       "class": "Flatten",
       "kargs": {}
      },
      {
       "class": "Linear",
       "kargs": {
        "in_features": 20480,
        "out_features": 256
       }
      },
      {
       "class": "ReLU",
       "kargs": {
        "inplace": true
       }
      },
      {
       "class": "BatchNorm1d",
       "kargs": {
        "num_features": 256
       }
      },
      {
       "class": "Linear",
       "kargs": {
        "in_features": 256,
        "out_features": 256
       }
      }
     ]
    }
   },
   "start_time": "2022-03-23T21:20:40.940678",
   "version": "2.3.4"
  }
 },
 "nbformat": 4,
 "nbformat_minor": 5
}