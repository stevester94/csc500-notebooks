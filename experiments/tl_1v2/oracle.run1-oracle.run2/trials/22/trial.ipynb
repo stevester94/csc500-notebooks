{
 "cells": [
  {
   "cell_type": "markdown",
   "id": "9fea5f46",
   "metadata": {
    "papermill": {
     "duration": 0.020346,
     "end_time": "2022-03-29T04:21:41.415655",
     "exception": false,
     "start_time": "2022-03-29T04:21:41.395309",
     "status": "completed"
    },
    "tags": []
   },
   "source": [
    "# Transfer Learning Template"
   ]
  },
  {
   "cell_type": "code",
   "execution_count": 1,
   "id": "0902182a",
   "metadata": {
    "execution": {
     "iopub.execute_input": "2022-03-29T04:21:41.464676Z",
     "iopub.status.busy": "2022-03-29T04:21:41.464342Z",
     "iopub.status.idle": "2022-03-29T04:21:42.657981Z",
     "shell.execute_reply": "2022-03-29T04:21:42.658418Z"
    },
    "papermill": {
     "duration": 1.226554,
     "end_time": "2022-03-29T04:21:42.658618",
     "exception": false,
     "start_time": "2022-03-29T04:21:41.432064",
     "status": "completed"
    },
    "tags": []
   },
   "outputs": [],
   "source": [
    "%load_ext autoreload\n",
    "%autoreload 2\n",
    "%matplotlib inline\n",
    "\n",
    "    \n",
    "import os, json, sys, time, random\n",
    "import numpy as np\n",
    "import torch\n",
    "from torch.optim import Adam\n",
    "from  easydict import EasyDict\n",
    "import matplotlib.pyplot as plt\n",
    "\n",
    "from steves_models.steves_ptn import Steves_Prototypical_Network\n",
    "\n",
    "from steves_utils.lazy_iterable_wrapper import Lazy_Iterable_Wrapper\n",
    "from steves_utils.iterable_aggregator import Iterable_Aggregator\n",
    "from steves_utils.ptn_train_eval_test_jig import  PTN_Train_Eval_Test_Jig\n",
    "from steves_utils.torch_sequential_builder import build_sequential\n",
    "from steves_utils.torch_utils import get_dataset_metrics, ptn_confusion_by_domain_over_dataloader\n",
    "from steves_utils.utils_v2 import (per_domain_accuracy_from_confusion, get_datasets_base_path)\n",
    "from steves_utils.PTN.utils import independent_accuracy_assesment\n",
    "\n",
    "from torch.utils.data import DataLoader\n",
    "\n",
    "from steves_utils.stratified_dataset.episodic_accessor import Episodic_Accessor_Factory\n",
    "\n",
    "from steves_utils.ptn_do_report import (\n",
    "    get_loss_curve,\n",
    "    get_results_table,\n",
    "    get_parameters_table,\n",
    "    get_domain_accuracies,\n",
    ")\n",
    "\n",
    "from steves_utils.transforms import get_chained_transform"
   ]
  },
  {
   "cell_type": "markdown",
   "id": "41c840b4",
   "metadata": {
    "papermill": {
     "duration": 0.012508,
     "end_time": "2022-03-29T04:21:42.688174",
     "exception": false,
     "start_time": "2022-03-29T04:21:42.675666",
     "status": "completed"
    },
    "tags": []
   },
   "source": [
    "# Allowed Parameters\n",
    "These are allowed parameters, not defaults\n",
    "Each of these values need to be present in the injected parameters (the notebook will raise an exception if they are not present)\n",
    "\n",
    "Papermill uses the cell tag \"parameters\" to inject the real parameters below this cell.\n",
    "Enable tags to see what I mean"
   ]
  },
  {
   "cell_type": "code",
   "execution_count": 2,
   "id": "fd44eb83",
   "metadata": {
    "execution": {
     "iopub.execute_input": "2022-03-29T04:21:42.717048Z",
     "iopub.status.busy": "2022-03-29T04:21:42.716784Z",
     "iopub.status.idle": "2022-03-29T04:21:42.732346Z",
     "shell.execute_reply": "2022-03-29T04:21:42.731941Z"
    },
    "papermill": {
     "duration": 0.03163,
     "end_time": "2022-03-29T04:21:42.732437",
     "exception": false,
     "start_time": "2022-03-29T04:21:42.700807",
     "status": "completed"
    },
    "tags": []
   },
   "outputs": [],
   "source": [
    "required_parameters = {\n",
    "    \"experiment_name\",\n",
    "    \"lr\",\n",
    "    \"device\",\n",
    "    \"seed\",\n",
    "    \"dataset_seed\",\n",
    "    \"n_shot\",\n",
    "    \"n_query\",\n",
    "    \"n_way\",\n",
    "    \"train_k_factor\",\n",
    "    \"val_k_factor\",\n",
    "    \"test_k_factor\",\n",
    "    \"n_epoch\",\n",
    "    \"patience\",\n",
    "    \"criteria_for_best\",\n",
    "    \"x_net\",\n",
    "    \"datasets\",\n",
    "    \"torch_default_dtype\",\n",
    "    \"NUM_LOGS_PER_EPOCH\",\n",
    "    \"BEST_MODEL_PATH\",\n",
    "    \"x_shape\",\n",
    "}"
   ]
  },
  {
   "cell_type": "code",
   "execution_count": 3,
   "id": "fa3f0049",
   "metadata": {
    "execution": {
     "iopub.execute_input": "2022-03-29T04:21:42.771902Z",
     "iopub.status.busy": "2022-03-29T04:21:42.764234Z",
     "iopub.status.idle": "2022-03-29T04:21:42.783975Z",
     "shell.execute_reply": "2022-03-29T04:21:42.784352Z"
    },
    "papermill": {
     "duration": 0.034306,
     "end_time": "2022-03-29T04:21:42.784457",
     "exception": false,
     "start_time": "2022-03-29T04:21:42.750151",
     "status": "completed"
    },
    "tags": [
     "parameters"
    ]
   },
   "outputs": [],
   "source": [
    "from steves_utils.CORES.utils import (\n",
    "    ALL_NODES,\n",
    "    ALL_NODES_MINIMUM_1000_EXAMPLES,\n",
    "    ALL_DAYS\n",
    ")\n",
    "\n",
    "from steves_utils.ORACLE.utils_v2 import (\n",
    "    ALL_DISTANCES_FEET_NARROWED,\n",
    "    ALL_RUNS,\n",
    "    ALL_SERIAL_NUMBERS,\n",
    ")\n",
    "\n",
    "standalone_parameters = {}\n",
    "standalone_parameters[\"experiment_name\"] = \"STANDALONE PTN\"\n",
    "standalone_parameters[\"lr\"] = 0.001\n",
    "standalone_parameters[\"device\"] = \"cuda\"\n",
    "\n",
    "standalone_parameters[\"seed\"] = 1337\n",
    "standalone_parameters[\"dataset_seed\"] = 1337\n",
    "\n",
    "standalone_parameters[\"n_way\"] = 8\n",
    "standalone_parameters[\"n_shot\"] = 3\n",
    "standalone_parameters[\"n_query\"]  = 2\n",
    "standalone_parameters[\"train_k_factor\"] = 1\n",
    "standalone_parameters[\"val_k_factor\"] = 2\n",
    "standalone_parameters[\"test_k_factor\"] = 2\n",
    "\n",
    "\n",
    "standalone_parameters[\"n_epoch\"] = 50\n",
    "\n",
    "standalone_parameters[\"patience\"] = 10\n",
    "standalone_parameters[\"criteria_for_best\"] = \"source_loss\"\n",
    "\n",
    "standalone_parameters[\"datasets\"] = [\n",
    "    {\n",
    "        \"labels\": ALL_SERIAL_NUMBERS,\n",
    "        \"domains\": ALL_DISTANCES_FEET_NARROWED,\n",
    "        \"num_examples_per_domain_per_label\": 100,\n",
    "        \"pickle_path\": os.path.join(get_datasets_base_path(), \"oracle.Run1_framed_2000Examples_stratified_ds.2022A.pkl\"),\n",
    "        \"source_or_target_dataset\": \"source\",\n",
    "        \"x_transforms\": [\"unit_mag\", \"minus_two\"],\n",
    "        \"episode_transforms\": [],\n",
    "        \"domain_prefix\": \"ORACLE_\"\n",
    "    },\n",
    "    {\n",
    "        \"labels\": ALL_NODES,\n",
    "        \"domains\": ALL_DAYS,\n",
    "        \"num_examples_per_domain_per_label\": 100,\n",
    "        \"pickle_path\": os.path.join(get_datasets_base_path(), \"cores.stratified_ds.2022A.pkl\"),\n",
    "        \"source_or_target_dataset\": \"target\",\n",
    "        \"x_transforms\": [\"unit_power\", \"times_zero\"],\n",
    "        \"episode_transforms\": [],\n",
    "        \"domain_prefix\": \"CORES_\"\n",
    "    }   \n",
    "]\n",
    "\n",
    "standalone_parameters[\"torch_default_dtype\"] = \"torch.float32\" \n",
    "\n",
    "\n",
    "\n",
    "standalone_parameters[\"x_net\"] =     [\n",
    "    {\"class\": \"nnReshape\", \"kargs\": {\"shape\":[-1, 1, 2, 256]}},\n",
    "    {\"class\": \"Conv2d\", \"kargs\": { \"in_channels\":1, \"out_channels\":256, \"kernel_size\":(1,7), \"bias\":False, \"padding\":(0,3), },},\n",
    "    {\"class\": \"ReLU\", \"kargs\": {\"inplace\": True}},\n",
    "    {\"class\": \"BatchNorm2d\", \"kargs\": {\"num_features\":256}},\n",
    "\n",
    "    {\"class\": \"Conv2d\", \"kargs\": { \"in_channels\":256, \"out_channels\":80, \"kernel_size\":(2,7), \"bias\":True, \"padding\":(0,3), },},\n",
    "    {\"class\": \"ReLU\", \"kargs\": {\"inplace\": True}},\n",
    "    {\"class\": \"BatchNorm2d\", \"kargs\": {\"num_features\":80}},\n",
    "    {\"class\": \"Flatten\", \"kargs\": {}},\n",
    "\n",
    "    {\"class\": \"Linear\", \"kargs\": {\"in_features\": 80*256, \"out_features\": 256}}, # 80 units per IQ pair\n",
    "    {\"class\": \"ReLU\", \"kargs\": {\"inplace\": True}},\n",
    "    {\"class\": \"BatchNorm1d\", \"kargs\": {\"num_features\":256}},\n",
    "\n",
    "    {\"class\": \"Linear\", \"kargs\": {\"in_features\": 256, \"out_features\": 256}},\n",
    "]\n",
    "\n",
    "# Parameters relevant to results\n",
    "# These parameters will basically never need to change\n",
    "standalone_parameters[\"NUM_LOGS_PER_EPOCH\"] = 10\n",
    "standalone_parameters[\"BEST_MODEL_PATH\"] = \"./best_model.pth\"\n",
    "\n",
    "\n",
    "\n",
    "\n"
   ]
  },
  {
   "cell_type": "code",
   "execution_count": 4,
   "id": "04232ae3",
   "metadata": {
    "execution": {
     "iopub.execute_input": "2022-03-29T04:21:42.822924Z",
     "iopub.status.busy": "2022-03-29T04:21:42.822483Z",
     "iopub.status.idle": "2022-03-29T04:21:42.834418Z",
     "shell.execute_reply": "2022-03-29T04:21:42.834804Z"
    },
    "papermill": {
     "duration": 0.033138,
     "end_time": "2022-03-29T04:21:42.834911",
     "exception": false,
     "start_time": "2022-03-29T04:21:42.801773",
     "status": "completed"
    },
    "tags": [
     "injected-parameters"
    ]
   },
   "outputs": [],
   "source": [
    "# Parameters\n",
    "parameters = {\n",
    "    \"experiment_name\": \"tl_1v2:oracle.run1-oracle.run2\",\n",
    "    \"device\": \"cuda\",\n",
    "    \"lr\": 0.0001,\n",
    "    \"n_shot\": 3,\n",
    "    \"n_query\": 2,\n",
    "    \"train_k_factor\": 3,\n",
    "    \"val_k_factor\": 2,\n",
    "    \"test_k_factor\": 2,\n",
    "    \"torch_default_dtype\": \"torch.float32\",\n",
    "    \"n_epoch\": 50,\n",
    "    \"patience\": 3,\n",
    "    \"criteria_for_best\": \"target_accuracy\",\n",
    "    \"x_net\": [\n",
    "        {\"class\": \"nnReshape\", \"kargs\": {\"shape\": [-1, 1, 2, 256]}},\n",
    "        {\n",
    "            \"class\": \"Conv2d\",\n",
    "            \"kargs\": {\n",
    "                \"in_channels\": 1,\n",
    "                \"out_channels\": 256,\n",
    "                \"kernel_size\": [1, 7],\n",
    "                \"bias\": False,\n",
    "                \"padding\": [0, 3],\n",
    "            },\n",
    "        },\n",
    "        {\"class\": \"ReLU\", \"kargs\": {\"inplace\": True}},\n",
    "        {\"class\": \"BatchNorm2d\", \"kargs\": {\"num_features\": 256}},\n",
    "        {\n",
    "            \"class\": \"Conv2d\",\n",
    "            \"kargs\": {\n",
    "                \"in_channels\": 256,\n",
    "                \"out_channels\": 80,\n",
    "                \"kernel_size\": [2, 7],\n",
    "                \"bias\": True,\n",
    "                \"padding\": [0, 3],\n",
    "            },\n",
    "        },\n",
    "        {\"class\": \"ReLU\", \"kargs\": {\"inplace\": True}},\n",
    "        {\"class\": \"BatchNorm2d\", \"kargs\": {\"num_features\": 80}},\n",
    "        {\"class\": \"Flatten\", \"kargs\": {}},\n",
    "        {\"class\": \"Linear\", \"kargs\": {\"in_features\": 20480, \"out_features\": 256}},\n",
    "        {\"class\": \"ReLU\", \"kargs\": {\"inplace\": True}},\n",
    "        {\"class\": \"BatchNorm1d\", \"kargs\": {\"num_features\": 256}},\n",
    "        {\"class\": \"Linear\", \"kargs\": {\"in_features\": 256, \"out_features\": 256}},\n",
    "    ],\n",
    "    \"NUM_LOGS_PER_EPOCH\": 10,\n",
    "    \"BEST_MODEL_PATH\": \"./best_model.pth\",\n",
    "    \"n_way\": 16,\n",
    "    \"datasets\": [\n",
    "        {\n",
    "            \"labels\": [\n",
    "                \"3123D52\",\n",
    "                \"3123D65\",\n",
    "                \"3123D79\",\n",
    "                \"3123D80\",\n",
    "                \"3123D54\",\n",
    "                \"3123D70\",\n",
    "                \"3123D7B\",\n",
    "                \"3123D89\",\n",
    "                \"3123D58\",\n",
    "                \"3123D76\",\n",
    "                \"3123D7D\",\n",
    "                \"3123EFE\",\n",
    "                \"3123D64\",\n",
    "                \"3123D78\",\n",
    "                \"3123D7E\",\n",
    "                \"3124E4A\",\n",
    "            ],\n",
    "            \"domains\": [32, 38, 8, 44, 14, 50, 20, 26],\n",
    "            \"num_examples_per_domain_per_label\": 10000,\n",
    "            \"pickle_path\": \"/mnt/wd500GB/CSC500/csc500-main/datasets/oracle.Run1_10kExamples_stratified_ds.2022A.pkl\",\n",
    "            \"source_or_target_dataset\": \"target\",\n",
    "            \"x_transforms\": [\"unit_mag\"],\n",
    "            \"episode_transforms\": [],\n",
    "            \"domain_prefix\": \"ORACLE.run1_\",\n",
    "        },\n",
    "        {\n",
    "            \"labels\": [\n",
    "                \"3123D52\",\n",
    "                \"3123D65\",\n",
    "                \"3123D79\",\n",
    "                \"3123D80\",\n",
    "                \"3123D54\",\n",
    "                \"3123D70\",\n",
    "                \"3123D7B\",\n",
    "                \"3123D89\",\n",
    "                \"3123D58\",\n",
    "                \"3123D76\",\n",
    "                \"3123D7D\",\n",
    "                \"3123EFE\",\n",
    "                \"3123D64\",\n",
    "                \"3123D78\",\n",
    "                \"3123D7E\",\n",
    "                \"3124E4A\",\n",
    "            ],\n",
    "            \"domains\": [32, 38, 8, 44, 14, 50, 20, 26],\n",
    "            \"num_examples_per_domain_per_label\": 10000,\n",
    "            \"pickle_path\": \"/mnt/wd500GB/CSC500/csc500-main/datasets/oracle.Run2_10kExamples_stratified_ds.2022A.pkl\",\n",
    "            \"source_or_target_dataset\": \"source\",\n",
    "            \"x_transforms\": [\"unit_mag\"],\n",
    "            \"episode_transforms\": [],\n",
    "            \"domain_prefix\": \"ORACLE.run2_\",\n",
    "        },\n",
    "    ],\n",
    "    \"dataset_seed\": 7,\n",
    "    \"seed\": 7,\n",
    "}\n"
   ]
  },
  {
   "cell_type": "code",
   "execution_count": 5,
   "id": "8fa1cc33",
   "metadata": {
    "execution": {
     "iopub.execute_input": "2022-03-29T04:21:42.867881Z",
     "iopub.status.busy": "2022-03-29T04:21:42.867623Z",
     "iopub.status.idle": "2022-03-29T04:21:42.881273Z",
     "shell.execute_reply": "2022-03-29T04:21:42.880814Z"
    },
    "papermill": {
     "duration": 0.030512,
     "end_time": "2022-03-29T04:21:42.881362",
     "exception": false,
     "start_time": "2022-03-29T04:21:42.850850",
     "status": "completed"
    },
    "tags": []
   },
   "outputs": [],
   "source": [
    "# Set this to True if you want to run this template directly\n",
    "STANDALONE = False\n",
    "if STANDALONE:\n",
    "    print(\"parameters not injected, running with standalone_parameters\")\n",
    "    parameters = standalone_parameters\n",
    "\n",
    "if not 'parameters' in locals() and not 'parameters' in globals():\n",
    "    raise Exception(\"Parameter injection failed\")\n",
    "\n",
    "#Use an easy dict for all the parameters\n",
    "p = EasyDict(parameters)\n",
    "\n",
    "if \"x_shape\" not in p:\n",
    "    p.x_shape = [2,256] # Default to this if we dont supply x_shape\n",
    "\n",
    "\n",
    "supplied_keys = set(p.keys())\n",
    "\n",
    "if  supplied_keys != required_parameters:\n",
    "    print(\"Parameters are incorrect\")\n",
    "    if len(supplied_keys - required_parameters)>0: print(\"Shouldn't have:\", str(supplied_keys - required_parameters))\n",
    "    if len(required_parameters - supplied_keys)>0: print(\"Need to have:\", str(required_parameters - supplied_keys))\n",
    "    raise RuntimeError(\"Parameters are incorrect\")"
   ]
  },
  {
   "cell_type": "code",
   "execution_count": 6,
   "id": "3a028d58",
   "metadata": {
    "execution": {
     "iopub.execute_input": "2022-03-29T04:21:42.912673Z",
     "iopub.status.busy": "2022-03-29T04:21:42.912421Z",
     "iopub.status.idle": "2022-03-29T04:21:42.922399Z",
     "shell.execute_reply": "2022-03-29T04:21:42.922603Z"
    },
    "papermill": {
     "duration": 0.024406,
     "end_time": "2022-03-29T04:21:42.922664",
     "exception": false,
     "start_time": "2022-03-29T04:21:42.898258",
     "status": "completed"
    },
    "tags": []
   },
   "outputs": [],
   "source": [
    "###################################\n",
    "# Set the RNGs and make it all deterministic\n",
    "###################################\n",
    "np.random.seed(p.seed)\n",
    "random.seed(p.seed)\n",
    "torch.manual_seed(p.seed)\n",
    "\n",
    "torch.use_deterministic_algorithms(True) "
   ]
  },
  {
   "cell_type": "code",
   "execution_count": 7,
   "id": "b691acf6",
   "metadata": {
    "execution": {
     "iopub.execute_input": "2022-03-29T04:21:42.953181Z",
     "iopub.status.busy": "2022-03-29T04:21:42.952233Z",
     "iopub.status.idle": "2022-03-29T04:21:42.969884Z",
     "shell.execute_reply": "2022-03-29T04:21:42.970271Z"
    },
    "papermill": {
     "duration": 0.032368,
     "end_time": "2022-03-29T04:21:42.970382",
     "exception": false,
     "start_time": "2022-03-29T04:21:42.938014",
     "status": "completed"
    },
    "tags": []
   },
   "outputs": [],
   "source": [
    "###########################################\n",
    "# The stratified datasets honor this\n",
    "###########################################\n",
    "torch.set_default_dtype(eval(p.torch_default_dtype))"
   ]
  },
  {
   "cell_type": "code",
   "execution_count": 8,
   "id": "b5fba671",
   "metadata": {
    "execution": {
     "iopub.execute_input": "2022-03-29T04:21:43.003799Z",
     "iopub.status.busy": "2022-03-29T04:21:43.003542Z",
     "iopub.status.idle": "2022-03-29T04:21:43.043476Z",
     "shell.execute_reply": "2022-03-29T04:21:43.043019Z"
    },
    "papermill": {
     "duration": 0.054778,
     "end_time": "2022-03-29T04:21:43.043566",
     "exception": false,
     "start_time": "2022-03-29T04:21:42.988788",
     "status": "completed"
    },
    "tags": []
   },
   "outputs": [],
   "source": [
    "###################################\n",
    "# Build the network(s)\n",
    "# Note: It's critical to do this AFTER setting the RNG\n",
    "###################################\n",
    "x_net = build_sequential(p.x_net)"
   ]
  },
  {
   "cell_type": "code",
   "execution_count": 9,
   "id": "5d7e61cc",
   "metadata": {
    "execution": {
     "iopub.execute_input": "2022-03-29T04:21:43.079353Z",
     "iopub.status.busy": "2022-03-29T04:21:43.079103Z",
     "iopub.status.idle": "2022-03-29T04:21:43.095041Z",
     "shell.execute_reply": "2022-03-29T04:21:43.094571Z"
    },
    "papermill": {
     "duration": 0.031166,
     "end_time": "2022-03-29T04:21:43.095134",
     "exception": false,
     "start_time": "2022-03-29T04:21:43.063968",
     "status": "completed"
    },
    "tags": []
   },
   "outputs": [],
   "source": [
    "start_time_secs = time.time()"
   ]
  },
  {
   "cell_type": "code",
   "execution_count": 10,
   "id": "c6b67dfd",
   "metadata": {
    "execution": {
     "iopub.execute_input": "2022-03-29T04:21:43.125975Z",
     "iopub.status.busy": "2022-03-29T04:21:43.125711Z",
     "iopub.status.idle": "2022-03-29T04:21:43.137417Z",
     "shell.execute_reply": "2022-03-29T04:21:43.137063Z"
    },
    "papermill": {
     "duration": 0.027792,
     "end_time": "2022-03-29T04:21:43.137488",
     "exception": false,
     "start_time": "2022-03-29T04:21:43.109696",
     "status": "completed"
    },
    "tags": []
   },
   "outputs": [],
   "source": [
    "p.domains_source = []\n",
    "p.domains_target = []\n",
    "\n",
    "\n",
    "train_original_source = []\n",
    "val_original_source   = []\n",
    "test_original_source  = []\n",
    "\n",
    "train_original_target = []\n",
    "val_original_target   = []\n",
    "test_original_target  = []"
   ]
  },
  {
   "cell_type": "code",
   "execution_count": 11,
   "id": "e3d9c3d3",
   "metadata": {
    "execution": {
     "iopub.execute_input": "2022-03-29T04:21:43.169979Z",
     "iopub.status.busy": "2022-03-29T04:21:43.169728Z",
     "iopub.status.idle": "2022-03-29T04:21:43.182847Z",
     "shell.execute_reply": "2022-03-29T04:21:43.182599Z"
    },
    "papermill": {
     "duration": 0.027934,
     "end_time": "2022-03-29T04:21:43.182896",
     "exception": false,
     "start_time": "2022-03-29T04:21:43.154962",
     "status": "completed"
    },
    "tags": []
   },
   "outputs": [],
   "source": [
    "# global_x_transform_func = lambda x: normalize(x.to(torch.get_default_dtype()), \"unit_power\") # unit_power, unit_mag\n",
    "# global_x_transform_func = lambda x: normalize(x, \"unit_power\") # unit_power, unit_mag"
   ]
  },
  {
   "cell_type": "code",
   "execution_count": 12,
   "id": "acb78fd2",
   "metadata": {
    "execution": {
     "iopub.execute_input": "2022-03-29T04:21:43.221590Z",
     "iopub.status.busy": "2022-03-29T04:21:43.221331Z",
     "iopub.status.idle": "2022-03-29T04:21:43.234917Z",
     "shell.execute_reply": "2022-03-29T04:21:43.234453Z"
    },
    "papermill": {
     "duration": 0.033204,
     "end_time": "2022-03-29T04:21:43.235008",
     "exception": false,
     "start_time": "2022-03-29T04:21:43.201804",
     "status": "completed"
    },
    "tags": []
   },
   "outputs": [],
   "source": [
    "def add_dataset(\n",
    "    labels,\n",
    "    domains,\n",
    "    pickle_path,\n",
    "    x_transforms,\n",
    "    episode_transforms,\n",
    "    domain_prefix,\n",
    "    num_examples_per_domain_per_label,\n",
    "    source_or_target_dataset:str,\n",
    "    iterator_seed=p.seed,\n",
    "    dataset_seed=p.dataset_seed,\n",
    "    n_shot=p.n_shot,\n",
    "    n_way=p.n_way,\n",
    "    n_query=p.n_query,\n",
    "    train_val_test_k_factors=(p.train_k_factor,p.val_k_factor,p.test_k_factor),\n",
    "):\n",
    "   \n",
    "    if x_transforms == []: x_transform = None\n",
    "    else: x_transform = get_chained_transform(x_transforms)\n",
    "    \n",
    "    if episode_transforms == []: episode_transform = None\n",
    "    else: raise Exception(\"episode_transforms not implemented\")\n",
    "    \n",
    "    episode_transform = lambda tup, _prefix=domain_prefix: (_prefix + str(tup[0]), tup[1])\n",
    "\n",
    "\n",
    "    eaf = Episodic_Accessor_Factory(\n",
    "        labels=labels,\n",
    "        domains=domains,\n",
    "        num_examples_per_domain_per_label=num_examples_per_domain_per_label,\n",
    "        iterator_seed=iterator_seed,\n",
    "        dataset_seed=dataset_seed,\n",
    "        n_shot=n_shot,\n",
    "        n_way=n_way,\n",
    "        n_query=n_query,\n",
    "        train_val_test_k_factors=train_val_test_k_factors,\n",
    "        pickle_path=pickle_path,\n",
    "        x_transform_func=x_transform,\n",
    "    )\n",
    "\n",
    "    train, val, test = eaf.get_train(), eaf.get_val(), eaf.get_test()\n",
    "    train = Lazy_Iterable_Wrapper(train, episode_transform)\n",
    "    val = Lazy_Iterable_Wrapper(val, episode_transform)\n",
    "    test = Lazy_Iterable_Wrapper(test, episode_transform)\n",
    "\n",
    "    if source_or_target_dataset==\"source\":\n",
    "        train_original_source.append(train)\n",
    "        val_original_source.append(val)\n",
    "        test_original_source.append(test)\n",
    "\n",
    "        p.domains_source.extend(\n",
    "            [domain_prefix + str(u) for u in domains]\n",
    "        )\n",
    "    elif source_or_target_dataset==\"target\":\n",
    "        train_original_target.append(train)\n",
    "        val_original_target.append(val)\n",
    "        test_original_target.append(test)\n",
    "        p.domains_target.extend(\n",
    "            [domain_prefix + str(u) for u in domains]\n",
    "        )\n",
    "    else:\n",
    "        raise Exception(f\"invalid source_or_target_dataset: {source_or_target_dataset}\")\n",
    "    "
   ]
  },
  {
   "cell_type": "code",
   "execution_count": 13,
   "id": "fe266617",
   "metadata": {
    "execution": {
     "iopub.execute_input": "2022-03-29T04:21:43.268880Z",
     "iopub.status.busy": "2022-03-29T04:21:43.268630Z",
     "iopub.status.idle": "2022-03-29T04:24:41.321455Z",
     "shell.execute_reply": "2022-03-29T04:24:41.321843Z"
    },
    "papermill": {
     "duration": 178.068183,
     "end_time": "2022-03-29T04:24:41.321978",
     "exception": false,
     "start_time": "2022-03-29T04:21:43.253795",
     "status": "completed"
    },
    "tags": []
   },
   "outputs": [],
   "source": [
    "for ds in p.datasets:\n",
    "    add_dataset(**ds)"
   ]
  },
  {
   "cell_type": "code",
   "execution_count": 14,
   "id": "b90d65ac",
   "metadata": {
    "execution": {
     "iopub.execute_input": "2022-03-29T04:24:41.377831Z",
     "iopub.status.busy": "2022-03-29T04:24:41.377365Z",
     "iopub.status.idle": "2022-03-29T04:24:41.395205Z",
     "shell.execute_reply": "2022-03-29T04:24:41.394826Z"
    },
    "papermill": {
     "duration": 0.050193,
     "end_time": "2022-03-29T04:24:41.395297",
     "exception": false,
     "start_time": "2022-03-29T04:24:41.345104",
     "status": "completed"
    },
    "tags": []
   },
   "outputs": [],
   "source": [
    "# from steves_utils.CORES.utils import (\n",
    "#     ALL_NODES,\n",
    "#     ALL_NODES_MINIMUM_1000_EXAMPLES,\n",
    "#     ALL_DAYS\n",
    "# )\n",
    "\n",
    "# add_dataset(\n",
    "#     labels=ALL_NODES,\n",
    "#     domains = ALL_DAYS,\n",
    "#     num_examples_per_domain_per_label=100,\n",
    "#     pickle_path=os.path.join(get_datasets_base_path(), \"cores.stratified_ds.2022A.pkl\"),\n",
    "#     source_or_target_dataset=\"target\",\n",
    "#     x_transform_func=global_x_transform_func,\n",
    "#     domain_modifier=lambda u: f\"cores_{u}\"\n",
    "# )"
   ]
  },
  {
   "cell_type": "code",
   "execution_count": 15,
   "id": "76db484d",
   "metadata": {
    "execution": {
     "iopub.execute_input": "2022-03-29T04:24:41.429300Z",
     "iopub.status.busy": "2022-03-29T04:24:41.429048Z",
     "iopub.status.idle": "2022-03-29T04:24:41.442395Z",
     "shell.execute_reply": "2022-03-29T04:24:41.442692Z"
    },
    "papermill": {
     "duration": 0.028852,
     "end_time": "2022-03-29T04:24:41.442775",
     "exception": false,
     "start_time": "2022-03-29T04:24:41.413923",
     "status": "completed"
    },
    "tags": []
   },
   "outputs": [],
   "source": [
    "# from steves_utils.ORACLE.utils_v2 import (\n",
    "#     ALL_DISTANCES_FEET,\n",
    "#     ALL_RUNS,\n",
    "#     ALL_SERIAL_NUMBERS,\n",
    "# )\n",
    "\n",
    "\n",
    "# add_dataset(\n",
    "#     labels=ALL_SERIAL_NUMBERS,\n",
    "#     domains = list(set(ALL_DISTANCES_FEET) - {2,62}),\n",
    "#     num_examples_per_domain_per_label=100,\n",
    "#     pickle_path=os.path.join(get_datasets_base_path(), \"oracle.Run2_framed_2000Examples_stratified_ds.2022A.pkl\"),\n",
    "#     source_or_target_dataset=\"source\",\n",
    "#     x_transform_func=global_x_transform_func,\n",
    "#     domain_modifier=lambda u: f\"oracle1_{u}\"\n",
    "# )\n"
   ]
  },
  {
   "cell_type": "code",
   "execution_count": 16,
   "id": "97dea9d2",
   "metadata": {
    "execution": {
     "iopub.execute_input": "2022-03-29T04:24:41.477884Z",
     "iopub.status.busy": "2022-03-29T04:24:41.477628Z",
     "iopub.status.idle": "2022-03-29T04:24:41.492345Z",
     "shell.execute_reply": "2022-03-29T04:24:41.492781Z"
    },
    "papermill": {
     "duration": 0.031075,
     "end_time": "2022-03-29T04:24:41.492906",
     "exception": false,
     "start_time": "2022-03-29T04:24:41.461831",
     "status": "completed"
    },
    "tags": []
   },
   "outputs": [],
   "source": [
    "# from steves_utils.ORACLE.utils_v2 import (\n",
    "#     ALL_DISTANCES_FEET,\n",
    "#     ALL_RUNS,\n",
    "#     ALL_SERIAL_NUMBERS,\n",
    "# )\n",
    "\n",
    "\n",
    "# add_dataset(\n",
    "#     labels=ALL_SERIAL_NUMBERS,\n",
    "#     domains = list(set(ALL_DISTANCES_FEET) - {2,62,56}),\n",
    "#     num_examples_per_domain_per_label=100,\n",
    "#     pickle_path=os.path.join(get_datasets_base_path(), \"oracle.Run2_framed_2000Examples_stratified_ds.2022A.pkl\"),\n",
    "#     source_or_target_dataset=\"source\",\n",
    "#     x_transform_func=global_x_transform_func,\n",
    "#     domain_modifier=lambda u: f\"oracle2_{u}\"\n",
    "# )"
   ]
  },
  {
   "cell_type": "code",
   "execution_count": 17,
   "id": "6f289866",
   "metadata": {
    "execution": {
     "iopub.execute_input": "2022-03-29T04:24:41.526889Z",
     "iopub.status.busy": "2022-03-29T04:24:41.526637Z",
     "iopub.status.idle": "2022-03-29T04:24:41.542352Z",
     "shell.execute_reply": "2022-03-29T04:24:41.542745Z"
    },
    "papermill": {
     "duration": 0.031396,
     "end_time": "2022-03-29T04:24:41.542867",
     "exception": false,
     "start_time": "2022-03-29T04:24:41.511471",
     "status": "completed"
    },
    "tags": []
   },
   "outputs": [],
   "source": [
    "# add_dataset(\n",
    "#     labels=list(range(19)),\n",
    "#     domains = [0,1,2],\n",
    "#     num_examples_per_domain_per_label=100,\n",
    "#     pickle_path=os.path.join(get_datasets_base_path(), \"metehan.stratified_ds.2022A.pkl\"),\n",
    "#     source_or_target_dataset=\"target\",\n",
    "#     x_transform_func=global_x_transform_func,\n",
    "#     domain_modifier=lambda u: f\"met_{u}\"\n",
    "# )"
   ]
  },
  {
   "cell_type": "code",
   "execution_count": 18,
   "id": "86a863c3",
   "metadata": {
    "execution": {
     "iopub.execute_input": "2022-03-29T04:24:41.577940Z",
     "iopub.status.busy": "2022-03-29T04:24:41.577668Z",
     "iopub.status.idle": "2022-03-29T04:24:41.592347Z",
     "shell.execute_reply": "2022-03-29T04:24:41.592766Z"
    },
    "papermill": {
     "duration": 0.030605,
     "end_time": "2022-03-29T04:24:41.592896",
     "exception": false,
     "start_time": "2022-03-29T04:24:41.562291",
     "status": "completed"
    },
    "tags": []
   },
   "outputs": [],
   "source": [
    "# # from steves_utils.wisig.utils import (\n",
    "# #     ALL_NODES_MINIMUM_100_EXAMPLES,\n",
    "# #     ALL_NODES_MINIMUM_500_EXAMPLES,\n",
    "# #     ALL_NODES_MINIMUM_1000_EXAMPLES,\n",
    "# #     ALL_DAYS\n",
    "# # )\n",
    "\n",
    "# import steves_utils.wisig.utils as wisig\n",
    "\n",
    "\n",
    "# add_dataset(\n",
    "#     labels=wisig.ALL_NODES_MINIMUM_100_EXAMPLES,\n",
    "#     domains = wisig.ALL_DAYS,\n",
    "#     num_examples_per_domain_per_label=100,\n",
    "#     pickle_path=os.path.join(get_datasets_base_path(), \"wisig.node3-19.stratified_ds.2022A.pkl\"),\n",
    "#     source_or_target_dataset=\"target\",\n",
    "#     x_transform_func=global_x_transform_func,\n",
    "#     domain_modifier=lambda u: f\"wisig_{u}\"\n",
    "# )"
   ]
  },
  {
   "cell_type": "code",
   "execution_count": 19,
   "id": "fd5442bc",
   "metadata": {
    "execution": {
     "iopub.execute_input": "2022-03-29T04:24:41.629721Z",
     "iopub.status.busy": "2022-03-29T04:24:41.629451Z",
     "iopub.status.idle": "2022-03-29T04:24:41.643416Z",
     "shell.execute_reply": "2022-03-29T04:24:41.643798Z"
    },
    "papermill": {
     "duration": 0.034572,
     "end_time": "2022-03-29T04:24:41.643904",
     "exception": false,
     "start_time": "2022-03-29T04:24:41.609332",
     "status": "completed"
    },
    "tags": []
   },
   "outputs": [],
   "source": [
    "###################################\n",
    "# Build the dataset\n",
    "###################################\n",
    "train_original_source = Iterable_Aggregator(train_original_source, p.seed)\n",
    "val_original_source = Iterable_Aggregator(val_original_source, p.seed)\n",
    "test_original_source = Iterable_Aggregator(test_original_source, p.seed)\n",
    "\n",
    "\n",
    "train_original_target = Iterable_Aggregator(train_original_target, p.seed)\n",
    "val_original_target = Iterable_Aggregator(val_original_target, p.seed)\n",
    "test_original_target = Iterable_Aggregator(test_original_target, p.seed)\n",
    "\n",
    "# For CNN We only use X and Y. And we only train on the source.\n",
    "# Properly form the data using a transform lambda and Lazy_Iterable_Wrapper. Finally wrap them in a dataloader\n",
    "\n",
    "transform_lambda = lambda ex: ex[1] # Original is (<domain>, <episode>) so we strip down to episode only\n",
    "\n",
    "train_processed_source = Lazy_Iterable_Wrapper(train_original_source, transform_lambda)\n",
    "val_processed_source   = Lazy_Iterable_Wrapper(val_original_source, transform_lambda)\n",
    "test_processed_source  = Lazy_Iterable_Wrapper(test_original_source, transform_lambda)\n",
    "\n",
    "train_processed_target = Lazy_Iterable_Wrapper(train_original_target, transform_lambda)\n",
    "val_processed_target   = Lazy_Iterable_Wrapper(val_original_target, transform_lambda)\n",
    "test_processed_target  = Lazy_Iterable_Wrapper(test_original_target, transform_lambda)\n",
    "\n",
    "datasets = EasyDict({\n",
    "    \"source\": {\n",
    "        \"original\": {\"train\":train_original_source, \"val\":val_original_source, \"test\":test_original_source},\n",
    "        \"processed\": {\"train\":train_processed_source, \"val\":val_processed_source, \"test\":test_processed_source}\n",
    "    },\n",
    "    \"target\": {\n",
    "        \"original\": {\"train\":train_original_target, \"val\":val_original_target, \"test\":test_original_target},\n",
    "        \"processed\": {\"train\":train_processed_target, \"val\":val_processed_target, \"test\":test_processed_target}\n",
    "    },\n",
    "})"
   ]
  },
  {
   "cell_type": "code",
   "execution_count": 20,
   "id": "5b3c01fc",
   "metadata": {
    "execution": {
     "iopub.execute_input": "2022-03-29T04:24:41.680640Z",
     "iopub.status.busy": "2022-03-29T04:24:41.680379Z",
     "iopub.status.idle": "2022-03-29T04:25:08.737240Z",
     "shell.execute_reply": "2022-03-29T04:25:08.737774Z"
    },
    "papermill": {
     "duration": 27.075281,
     "end_time": "2022-03-29T04:25:08.737911",
     "exception": false,
     "start_time": "2022-03-29T04:24:41.662630",
     "status": "completed"
    },
    "tags": []
   },
   "outputs": [
    {
     "name": "stdout",
     "output_type": "stream",
     "text": [
      "{'ORACLE.run2_32', 'ORACLE.run2_8', 'ORACLE.run2_50', 'ORACLE.run2_38', 'ORACLE.run2_14', 'ORACLE.run2_44', 'ORACLE.run2_26', 'ORACLE.run2_20'}\n"
     ]
    },
    {
     "name": "stdout",
     "output_type": "stream",
     "text": [
      "{'ORACLE.run1_20', 'ORACLE.run1_32', 'ORACLE.run1_50', 'ORACLE.run1_14', 'ORACLE.run1_38', 'ORACLE.run1_8', 'ORACLE.run1_26', 'ORACLE.run1_44'}\n"
     ]
    },
    {
     "name": "stdout",
     "output_type": "stream",
     "text": [
      "tensor([[[ 0.1882,  0.5447,  0.9805,  ...,  1.1290,  0.7725, -0.0495],\n",
      "         [-0.1089,  0.1585,  0.1981,  ..., -1.2974, -0.0396, -0.6735]],\n",
      "\n",
      "        [[-0.6413,  0.3254,  0.0670,  ..., -0.8136, -1.3783, -1.0529],\n",
      "         [-1.9430, -0.4403, -0.2393,  ..., -0.8136, -1.6367,  0.4977]],\n",
      "\n",
      "        [[ 0.6765, -1.1154, -0.6765,  ..., -0.0457,  0.4663,  0.9234],\n",
      "         [ 0.7771,  0.3748,  1.0605,  ..., -1.0788,  1.3622,  0.4571]],\n",
      "\n",
      "        ...,\n",
      "\n",
      "        [[-0.7689,  0.5275, -0.0983,  ..., -0.1162, -1.4483, -1.2963],\n",
      "         [-1.6450,  0.6437,  0.2235,  ...,  0.7242,  0.5990, -0.5006]],\n",
      "\n",
      "        [[-0.5383, -0.4379,  0.0639,  ...,  0.0274,  0.9032, -0.8394],\n",
      "         [-0.0456,  0.6934,  0.9580,  ...,  0.1004, -0.4744,  0.4379]],\n",
      "\n",
      "        [[ 0.0370,  0.7959, -1.1106,  ..., -0.6663, -0.5368,  0.2129],\n",
      "         [-1.1383, -0.5923,  0.6016,  ...,  0.8329,  0.7496,  0.6756]]])\n"
     ]
    }
   ],
   "source": [
    "from steves_utils.transforms import get_average_magnitude, get_average_power\n",
    "\n",
    "print(set([u for u,_ in val_original_source]))\n",
    "print(set([u for u,_ in val_original_target]))\n",
    "\n",
    "s_x, s_y, q_x, q_y, _ = next(iter(train_processed_source))\n",
    "print(s_x)\n",
    "\n",
    "# for ds in [\n",
    "#     train_processed_source,\n",
    "#     val_processed_source,\n",
    "#     test_processed_source,\n",
    "#     train_processed_target,\n",
    "#     val_processed_target,\n",
    "#     test_processed_target\n",
    "# ]:\n",
    "#     for s_x, s_y, q_x, q_y, _ in ds:\n",
    "#         for X in (s_x, q_x):\n",
    "#             for x in X:\n",
    "#                 assert np.isclose(get_average_magnitude(x.numpy()), 1.0)\n",
    "#                 assert np.isclose(get_average_power(x.numpy()), 1.0)\n",
    "                "
   ]
  },
  {
   "cell_type": "code",
   "execution_count": 21,
   "id": "bbdacba1",
   "metadata": {
    "execution": {
     "iopub.execute_input": "2022-03-29T04:25:08.774809Z",
     "iopub.status.busy": "2022-03-29T04:25:08.774480Z",
     "iopub.status.idle": "2022-03-29T04:25:08.836427Z",
     "shell.execute_reply": "2022-03-29T04:25:08.836858Z"
    },
    "papermill": {
     "duration": 0.079894,
     "end_time": "2022-03-29T04:25:08.836977",
     "exception": false,
     "start_time": "2022-03-29T04:25:08.757083",
     "status": "completed"
    },
    "tags": []
   },
   "outputs": [
    {
     "name": "stdout",
     "output_type": "stream",
     "text": [
      "(2, 256)\n"
     ]
    }
   ],
   "source": [
    "###################################\n",
    "# Build the model\n",
    "###################################\n",
    "# easfsl only wants a tuple for the shape\n",
    "model = Steves_Prototypical_Network(x_net, device=p.device, x_shape=tuple(p.x_shape))\n",
    "optimizer = Adam(params=model.parameters(), lr=p.lr)"
   ]
  },
  {
   "cell_type": "code",
   "execution_count": 22,
   "id": "22b39ac5",
   "metadata": {
    "execution": {
     "iopub.execute_input": "2022-03-29T04:25:08.873955Z",
     "iopub.status.busy": "2022-03-29T04:25:08.873702Z",
     "iopub.status.idle": "2022-03-29T06:53:55.155365Z",
     "shell.execute_reply": "2022-03-29T06:53:55.155132Z"
    },
    "papermill": {
     "duration": 8926.2989,
     "end_time": "2022-03-29T06:53:55.155424",
     "exception": false,
     "start_time": "2022-03-29T04:25:08.856524",
     "status": "completed"
    },
    "tags": []
   },
   "outputs": [
    {
     "name": "stdout",
     "output_type": "stream",
     "text": [
      "epoch: 1, [batch: 1 / 33600], examples_per_second: 9.6820, train_label_loss: 2.7662, \n"
     ]
    },
    {
     "name": "stdout",
     "output_type": "stream",
     "text": [
      "epoch: 1, [batch: 3360 / 33600], examples_per_second: 3286.5948, train_label_loss: 2.3179, \n"
     ]
    },
    {
     "name": "stdout",
     "output_type": "stream",
     "text": [
      "epoch: 1, [batch: 6720 / 33600], examples_per_second: 3287.0218, train_label_loss: 0.7470, \n"
     ]
    },
    {
     "name": "stdout",
     "output_type": "stream",
     "text": [
      "epoch: 1, [batch: 10080 / 33600], examples_per_second: 3293.2359, train_label_loss: 0.7465, \n"
     ]
    },
    {
     "name": "stdout",
     "output_type": "stream",
     "text": [
      "epoch: 1, [batch: 13440 / 33600], examples_per_second: 3272.8848, train_label_loss: 1.4966, \n"
     ]
    },
    {
     "name": "stdout",
     "output_type": "stream",
     "text": [
      "epoch: 1, [batch: 16800 / 33600], examples_per_second: 3292.5502, train_label_loss: 1.2326, \n"
     ]
    },
    {
     "name": "stdout",
     "output_type": "stream",
     "text": [
      "epoch: 1, [batch: 20160 / 33600], examples_per_second: 3290.0041, train_label_loss: 0.5538, \n"
     ]
    },
    {
     "name": "stdout",
     "output_type": "stream",
     "text": [
      "epoch: 1, [batch: 23520 / 33600], examples_per_second: 3291.7893, train_label_loss: 1.0894, \n"
     ]
    },
    {
     "name": "stdout",
     "output_type": "stream",
     "text": [
      "epoch: 1, [batch: 26880 / 33600], examples_per_second: 3301.2085, train_label_loss: 0.5749, \n"
     ]
    },
    {
     "name": "stdout",
     "output_type": "stream",
     "text": [
      "epoch: 1, [batch: 30240 / 33600], examples_per_second: 3289.3158, train_label_loss: 1.3404, \n"
     ]
    },
    {
     "name": "stdout",
     "output_type": "stream",
     "text": [
      "=============================================================\n",
      "epoch: 1, source_val_acc_label: 0.6236, target_val_acc_label: 0.6342, source_val_label_loss: 1.0453, target_val_label_loss: 1.0236, \n",
      "=============================================================\n"
     ]
    },
    {
     "name": "stdout",
     "output_type": "stream",
     "text": [
      "New best\n"
     ]
    },
    {
     "name": "stdout",
     "output_type": "stream",
     "text": [
      "epoch: 2, [batch: 1 / 33600], examples_per_second: 0.9752, train_label_loss: 0.7787, \n"
     ]
    },
    {
     "name": "stdout",
     "output_type": "stream",
     "text": [
      "epoch: 2, [batch: 3360 / 33600], examples_per_second: 3298.3647, train_label_loss: 0.6922, \n"
     ]
    },
    {
     "name": "stdout",
     "output_type": "stream",
     "text": [
      "epoch: 2, [batch: 6720 / 33600], examples_per_second: 3310.3083, train_label_loss: 1.1800, \n"
     ]
    },
    {
     "name": "stdout",
     "output_type": "stream",
     "text": [
      "epoch: 2, [batch: 10080 / 33600], examples_per_second: 3317.1187, train_label_loss: 0.8085, \n"
     ]
    },
    {
     "name": "stdout",
     "output_type": "stream",
     "text": [
      "epoch: 2, [batch: 13440 / 33600], examples_per_second: 3307.1070, train_label_loss: 0.7266, \n"
     ]
    },
    {
     "name": "stdout",
     "output_type": "stream",
     "text": [
      "epoch: 2, [batch: 16800 / 33600], examples_per_second: 3324.3074, train_label_loss: 0.5834, \n"
     ]
    },
    {
     "name": "stdout",
     "output_type": "stream",
     "text": [
      "epoch: 2, [batch: 20160 / 33600], examples_per_second: 3314.9081, train_label_loss: 1.1530, \n"
     ]
    },
    {
     "name": "stdout",
     "output_type": "stream",
     "text": [
      "epoch: 2, [batch: 23520 / 33600], examples_per_second: 3314.0959, train_label_loss: 1.3266, \n"
     ]
    },
    {
     "name": "stdout",
     "output_type": "stream",
     "text": [
      "epoch: 2, [batch: 26880 / 33600], examples_per_second: 3320.0020, train_label_loss: 1.3180, \n"
     ]
    },
    {
     "name": "stdout",
     "output_type": "stream",
     "text": [
      "epoch: 2, [batch: 30240 / 33600], examples_per_second: 3325.0955, train_label_loss: 0.9697, \n"
     ]
    },
    {
     "name": "stdout",
     "output_type": "stream",
     "text": [
      "=============================================================\n",
      "epoch: 2, source_val_acc_label: 0.6535, target_val_acc_label: 0.6660, source_val_label_loss: 0.9284, target_val_label_loss: 0.8901, \n",
      "=============================================================\n"
     ]
    },
    {
     "name": "stdout",
     "output_type": "stream",
     "text": [
      "New best\n"
     ]
    },
    {
     "name": "stdout",
     "output_type": "stream",
     "text": [
      "epoch: 3, [batch: 1 / 33600], examples_per_second: 0.9826, train_label_loss: 0.9828, \n"
     ]
    },
    {
     "name": "stdout",
     "output_type": "stream",
     "text": [
      "epoch: 3, [batch: 3360 / 33600], examples_per_second: 3311.1061, train_label_loss: 1.0811, \n"
     ]
    },
    {
     "name": "stdout",
     "output_type": "stream",
     "text": [
      "epoch: 3, [batch: 6720 / 33600], examples_per_second: 3307.2612, train_label_loss: 1.3279, \n"
     ]
    },
    {
     "name": "stdout",
     "output_type": "stream",
     "text": [
      "epoch: 3, [batch: 10080 / 33600], examples_per_second: 3314.4665, train_label_loss: 0.8789, \n"
     ]
    },
    {
     "name": "stdout",
     "output_type": "stream",
     "text": [
      "epoch: 3, [batch: 13440 / 33600], examples_per_second: 3308.8775, train_label_loss: 0.9264, \n"
     ]
    },
    {
     "name": "stdout",
     "output_type": "stream",
     "text": [
      "epoch: 3, [batch: 16800 / 33600], examples_per_second: 3322.6578, train_label_loss: 0.5360, \n"
     ]
    },
    {
     "name": "stdout",
     "output_type": "stream",
     "text": [
      "epoch: 3, [batch: 20160 / 33600], examples_per_second: 3331.0565, train_label_loss: 1.2253, \n"
     ]
    },
    {
     "name": "stdout",
     "output_type": "stream",
     "text": [
      "epoch: 3, [batch: 23520 / 33600], examples_per_second: 3312.7371, train_label_loss: 0.9470, \n"
     ]
    },
    {
     "name": "stdout",
     "output_type": "stream",
     "text": [
      "epoch: 3, [batch: 26880 / 33600], examples_per_second: 3319.1726, train_label_loss: 0.9902, \n"
     ]
    },
    {
     "name": "stdout",
     "output_type": "stream",
     "text": [
      "epoch: 3, [batch: 30240 / 33600], examples_per_second: 3320.6530, train_label_loss: 0.6273, \n"
     ]
    },
    {
     "name": "stdout",
     "output_type": "stream",
     "text": [
      "=============================================================\n",
      "epoch: 3, source_val_acc_label: 0.6814, target_val_acc_label: 0.6909, source_val_label_loss: 0.8687, target_val_label_loss: 0.8332, \n",
      "=============================================================\n"
     ]
    },
    {
     "name": "stdout",
     "output_type": "stream",
     "text": [
      "New best\n"
     ]
    },
    {
     "name": "stdout",
     "output_type": "stream",
     "text": [
      "epoch: 4, [batch: 1 / 33600], examples_per_second: 0.9821, train_label_loss: 0.8729, \n"
     ]
    },
    {
     "name": "stdout",
     "output_type": "stream",
     "text": [
      "epoch: 4, [batch: 3360 / 33600], examples_per_second: 3306.7889, train_label_loss: 0.4030, \n"
     ]
    },
    {
     "name": "stdout",
     "output_type": "stream",
     "text": [
      "epoch: 4, [batch: 6720 / 33600], examples_per_second: 3310.7941, train_label_loss: 1.2644, \n"
     ]
    },
    {
     "name": "stdout",
     "output_type": "stream",
     "text": [
      "epoch: 4, [batch: 10080 / 33600], examples_per_second: 3322.2314, train_label_loss: 0.9216, \n"
     ]
    },
    {
     "name": "stdout",
     "output_type": "stream",
     "text": [
      "epoch: 4, [batch: 13440 / 33600], examples_per_second: 3308.3544, train_label_loss: 0.4363, \n"
     ]
    },
    {
     "name": "stdout",
     "output_type": "stream",
     "text": [
      "epoch: 4, [batch: 16800 / 33600], examples_per_second: 3325.7453, train_label_loss: 1.2832, \n"
     ]
    },
    {
     "name": "stdout",
     "output_type": "stream",
     "text": [
      "epoch: 4, [batch: 20160 / 33600], examples_per_second: 3325.6351, train_label_loss: 1.1857, \n"
     ]
    },
    {
     "name": "stdout",
     "output_type": "stream",
     "text": [
      "epoch: 4, [batch: 23520 / 33600], examples_per_second: 3312.4981, train_label_loss: 0.9640, \n"
     ]
    },
    {
     "name": "stdout",
     "output_type": "stream",
     "text": [
      "epoch: 4, [batch: 26880 / 33600], examples_per_second: 3318.3344, train_label_loss: 0.6642, \n"
     ]
    },
    {
     "name": "stdout",
     "output_type": "stream",
     "text": [
      "epoch: 4, [batch: 30240 / 33600], examples_per_second: 3325.1477, train_label_loss: 0.5246, \n"
     ]
    },
    {
     "name": "stdout",
     "output_type": "stream",
     "text": [
      "=============================================================\n",
      "epoch: 4, source_val_acc_label: 0.7050, target_val_acc_label: 0.7108, source_val_label_loss: 0.8102, target_val_label_loss: 0.7800, \n",
      "=============================================================\n"
     ]
    },
    {
     "name": "stdout",
     "output_type": "stream",
     "text": [
      "New best\n"
     ]
    },
    {
     "name": "stdout",
     "output_type": "stream",
     "text": [
      "epoch: 5, [batch: 1 / 33600], examples_per_second: 0.9857, train_label_loss: 0.6950, \n"
     ]
    },
    {
     "name": "stdout",
     "output_type": "stream",
     "text": [
      "epoch: 5, [batch: 3360 / 33600], examples_per_second: 3312.2867, train_label_loss: 0.5367, \n"
     ]
    },
    {
     "name": "stdout",
     "output_type": "stream",
     "text": [
      "epoch: 5, [batch: 6720 / 33600], examples_per_second: 3319.6081, train_label_loss: 0.8011, \n"
     ]
    },
    {
     "name": "stdout",
     "output_type": "stream",
     "text": [
      "epoch: 5, [batch: 10080 / 33600], examples_per_second: 3322.0731, train_label_loss: 0.9493, \n"
     ]
    },
    {
     "name": "stdout",
     "output_type": "stream",
     "text": [
      "epoch: 5, [batch: 13440 / 33600], examples_per_second: 3308.4393, train_label_loss: 0.6335, \n"
     ]
    },
    {
     "name": "stdout",
     "output_type": "stream",
     "text": [
      "epoch: 5, [batch: 16800 / 33600], examples_per_second: 3323.3123, train_label_loss: 1.0370, \n"
     ]
    },
    {
     "name": "stdout",
     "output_type": "stream",
     "text": [
      "epoch: 5, [batch: 20160 / 33600], examples_per_second: 3319.3771, train_label_loss: 0.4738, \n"
     ]
    },
    {
     "name": "stdout",
     "output_type": "stream",
     "text": [
      "epoch: 5, [batch: 23520 / 33600], examples_per_second: 3311.7180, train_label_loss: 0.2866, \n"
     ]
    },
    {
     "name": "stdout",
     "output_type": "stream",
     "text": [
      "epoch: 5, [batch: 26880 / 33600], examples_per_second: 3328.8998, train_label_loss: 0.3123, \n"
     ]
    },
    {
     "name": "stdout",
     "output_type": "stream",
     "text": [
      "epoch: 5, [batch: 30240 / 33600], examples_per_second: 3320.8973, train_label_loss: 0.6131, \n"
     ]
    },
    {
     "name": "stdout",
     "output_type": "stream",
     "text": [
      "=============================================================\n",
      "epoch: 5, source_val_acc_label: 0.7219, target_val_acc_label: 0.7259, source_val_label_loss: 0.7720, target_val_label_loss: 0.7487, \n",
      "=============================================================\n"
     ]
    },
    {
     "name": "stdout",
     "output_type": "stream",
     "text": [
      "New best\n"
     ]
    },
    {
     "name": "stdout",
     "output_type": "stream",
     "text": [
      "epoch: 6, [batch: 1 / 33600], examples_per_second: 0.9850, train_label_loss: 0.6344, \n"
     ]
    },
    {
     "name": "stdout",
     "output_type": "stream",
     "text": [
      "epoch: 6, [batch: 3360 / 33600], examples_per_second: 3307.2286, train_label_loss: 0.5727, \n"
     ]
    },
    {
     "name": "stdout",
     "output_type": "stream",
     "text": [
      "epoch: 6, [batch: 6720 / 33600], examples_per_second: 3313.9170, train_label_loss: 0.2194, \n"
     ]
    },
    {
     "name": "stdout",
     "output_type": "stream",
     "text": [
      "epoch: 6, [batch: 10080 / 33600], examples_per_second: 3319.3967, train_label_loss: 1.0754, \n"
     ]
    },
    {
     "name": "stdout",
     "output_type": "stream",
     "text": [
      "epoch: 6, [batch: 13440 / 33600], examples_per_second: 3302.7643, train_label_loss: 0.6426, \n"
     ]
    },
    {
     "name": "stdout",
     "output_type": "stream",
     "text": [
      "epoch: 6, [batch: 16800 / 33600], examples_per_second: 3328.9066, train_label_loss: 0.7300, \n"
     ]
    },
    {
     "name": "stdout",
     "output_type": "stream",
     "text": [
      "epoch: 6, [batch: 20160 / 33600], examples_per_second: 3328.3602, train_label_loss: 1.1786, \n"
     ]
    },
    {
     "name": "stdout",
     "output_type": "stream",
     "text": [
      "epoch: 6, [batch: 23520 / 33600], examples_per_second: 3306.8618, train_label_loss: 0.3801, \n"
     ]
    },
    {
     "name": "stdout",
     "output_type": "stream",
     "text": [
      "epoch: 6, [batch: 26880 / 33600], examples_per_second: 3329.4639, train_label_loss: 0.7187, \n"
     ]
    },
    {
     "name": "stdout",
     "output_type": "stream",
     "text": [
      "epoch: 6, [batch: 30240 / 33600], examples_per_second: 3327.3154, train_label_loss: 0.7340, \n"
     ]
    },
    {
     "name": "stdout",
     "output_type": "stream",
     "text": [
      "=============================================================\n",
      "epoch: 6, source_val_acc_label: 0.7301, target_val_acc_label: 0.7345, source_val_label_loss: 0.7583, target_val_label_loss: 0.7352, \n",
      "=============================================================\n"
     ]
    },
    {
     "name": "stdout",
     "output_type": "stream",
     "text": [
      "New best\n"
     ]
    },
    {
     "name": "stdout",
     "output_type": "stream",
     "text": [
      "epoch: 7, [batch: 1 / 33600], examples_per_second: 0.9778, train_label_loss: 0.5419, \n"
     ]
    },
    {
     "name": "stdout",
     "output_type": "stream",
     "text": [
      "epoch: 7, [batch: 3360 / 33600], examples_per_second: 3306.6310, train_label_loss: 0.2876, \n"
     ]
    },
    {
     "name": "stdout",
     "output_type": "stream",
     "text": [
      "epoch: 7, [batch: 6720 / 33600], examples_per_second: 3315.7210, train_label_loss: 0.3282, \n"
     ]
    },
    {
     "name": "stdout",
     "output_type": "stream",
     "text": [
      "epoch: 7, [batch: 10080 / 33600], examples_per_second: 3317.0749, train_label_loss: 0.4075, \n"
     ]
    },
    {
     "name": "stdout",
     "output_type": "stream",
     "text": [
      "epoch: 7, [batch: 13440 / 33600], examples_per_second: 3314.4130, train_label_loss: 0.1986, \n"
     ]
    },
    {
     "name": "stdout",
     "output_type": "stream",
     "text": [
      "epoch: 7, [batch: 16800 / 33600], examples_per_second: 3329.2766, train_label_loss: 0.4033, \n"
     ]
    },
    {
     "name": "stdout",
     "output_type": "stream",
     "text": [
      "epoch: 7, [batch: 20160 / 33600], examples_per_second: 3327.6762, train_label_loss: 0.4218, \n"
     ]
    },
    {
     "name": "stdout",
     "output_type": "stream",
     "text": [
      "epoch: 7, [batch: 23520 / 33600], examples_per_second: 3312.9487, train_label_loss: 0.3948, \n"
     ]
    },
    {
     "name": "stdout",
     "output_type": "stream",
     "text": [
      "epoch: 7, [batch: 26880 / 33600], examples_per_second: 3326.7054, train_label_loss: 0.3419, \n"
     ]
    },
    {
     "name": "stdout",
     "output_type": "stream",
     "text": [
      "epoch: 7, [batch: 30240 / 33600], examples_per_second: 3326.7129, train_label_loss: 0.5538, \n"
     ]
    },
    {
     "name": "stdout",
     "output_type": "stream",
     "text": [
      "=============================================================\n",
      "epoch: 7, source_val_acc_label: 0.7257, target_val_acc_label: 0.7286, source_val_label_loss: 0.7676, target_val_label_loss: 0.7456, \n",
      "=============================================================\n"
     ]
    },
    {
     "name": "stdout",
     "output_type": "stream",
     "text": [
      "epoch: 8, [batch: 1 / 33600], examples_per_second: 0.9813, train_label_loss: 0.2947, \n"
     ]
    },
    {
     "name": "stdout",
     "output_type": "stream",
     "text": [
      "epoch: 8, [batch: 3360 / 33600], examples_per_second: 3312.6641, train_label_loss: 0.4349, \n"
     ]
    },
    {
     "name": "stdout",
     "output_type": "stream",
     "text": [
      "epoch: 8, [batch: 6720 / 33600], examples_per_second: 3318.3734, train_label_loss: 0.5175, \n"
     ]
    },
    {
     "name": "stdout",
     "output_type": "stream",
     "text": [
      "epoch: 8, [batch: 10080 / 33600], examples_per_second: 3321.3782, train_label_loss: 0.8710, \n"
     ]
    },
    {
     "name": "stdout",
     "output_type": "stream",
     "text": [
      "epoch: 8, [batch: 13440 / 33600], examples_per_second: 3311.4973, train_label_loss: 0.4945, \n"
     ]
    },
    {
     "name": "stdout",
     "output_type": "stream",
     "text": [
      "epoch: 8, [batch: 16800 / 33600], examples_per_second: 3320.3664, train_label_loss: 0.2535, \n"
     ]
    },
    {
     "name": "stdout",
     "output_type": "stream",
     "text": [
      "epoch: 8, [batch: 20160 / 33600], examples_per_second: 3319.4874, train_label_loss: 0.3494, \n"
     ]
    },
    {
     "name": "stdout",
     "output_type": "stream",
     "text": [
      "epoch: 8, [batch: 23520 / 33600], examples_per_second: 3312.8268, train_label_loss: 0.5307, \n"
     ]
    },
    {
     "name": "stdout",
     "output_type": "stream",
     "text": [
      "epoch: 8, [batch: 26880 / 33600], examples_per_second: 3322.9281, train_label_loss: 0.4423, \n"
     ]
    },
    {
     "name": "stdout",
     "output_type": "stream",
     "text": [
      "epoch: 8, [batch: 30240 / 33600], examples_per_second: 3323.5896, train_label_loss: 0.1373, \n"
     ]
    },
    {
     "name": "stdout",
     "output_type": "stream",
     "text": [
      "=============================================================\n",
      "epoch: 8, source_val_acc_label: 0.7289, target_val_acc_label: 0.7334, source_val_label_loss: 0.7795, target_val_label_loss: 0.7608, \n",
      "=============================================================\n"
     ]
    },
    {
     "name": "stdout",
     "output_type": "stream",
     "text": [
      "epoch: 9, [batch: 1 / 33600], examples_per_second: 0.9870, train_label_loss: 0.4425, \n"
     ]
    },
    {
     "name": "stdout",
     "output_type": "stream",
     "text": [
      "epoch: 9, [batch: 3360 / 33600], examples_per_second: 3310.1827, train_label_loss: 0.4585, \n"
     ]
    },
    {
     "name": "stdout",
     "output_type": "stream",
     "text": [
      "epoch: 9, [batch: 6720 / 33600], examples_per_second: 3322.2470, train_label_loss: 0.8731, \n"
     ]
    },
    {
     "name": "stdout",
     "output_type": "stream",
     "text": [
      "epoch: 9, [batch: 10080 / 33600], examples_per_second: 3321.8312, train_label_loss: 1.0628, \n"
     ]
    },
    {
     "name": "stdout",
     "output_type": "stream",
     "text": [
      "epoch: 9, [batch: 13440 / 33600], examples_per_second: 3311.8202, train_label_loss: 0.3277, \n"
     ]
    },
    {
     "name": "stdout",
     "output_type": "stream",
     "text": [
      "epoch: 9, [batch: 16800 / 33600], examples_per_second: 3322.2643, train_label_loss: 0.5844, \n"
     ]
    },
    {
     "name": "stdout",
     "output_type": "stream",
     "text": [
      "epoch: 9, [batch: 20160 / 33600], examples_per_second: 3326.6403, train_label_loss: 0.2809, \n"
     ]
    },
    {
     "name": "stdout",
     "output_type": "stream",
     "text": [
      "epoch: 9, [batch: 23520 / 33600], examples_per_second: 3310.6505, train_label_loss: 0.2882, \n"
     ]
    },
    {
     "name": "stdout",
     "output_type": "stream",
     "text": [
      "epoch: 9, [batch: 26880 / 33600], examples_per_second: 3318.0033, train_label_loss: 0.4289, \n"
     ]
    },
    {
     "name": "stdout",
     "output_type": "stream",
     "text": [
      "epoch: 9, [batch: 30240 / 33600], examples_per_second: 3328.3170, train_label_loss: 0.2491, \n"
     ]
    },
    {
     "name": "stdout",
     "output_type": "stream",
     "text": [
      "=============================================================\n",
      "epoch: 9, source_val_acc_label: 0.7259, target_val_acc_label: 0.7274, source_val_label_loss: 0.7869, target_val_label_loss: 0.7735, \n",
      "=============================================================\n"
     ]
    },
    {
     "name": "stdout",
     "output_type": "stream",
     "text": [
      "epoch: 10, [batch: 1 / 33600], examples_per_second: 0.9857, train_label_loss: 0.3854, \n"
     ]
    },
    {
     "name": "stdout",
     "output_type": "stream",
     "text": [
      "epoch: 10, [batch: 3360 / 33600], examples_per_second: 3293.1660, train_label_loss: 0.4593, \n"
     ]
    },
    {
     "name": "stdout",
     "output_type": "stream",
     "text": [
      "epoch: 10, [batch: 6720 / 33600], examples_per_second: 3315.9658, train_label_loss: 0.4407, \n"
     ]
    },
    {
     "name": "stdout",
     "output_type": "stream",
     "text": [
      "epoch: 10, [batch: 10080 / 33600], examples_per_second: 3318.6029, train_label_loss: 0.2308, \n"
     ]
    },
    {
     "name": "stdout",
     "output_type": "stream",
     "text": [
      "epoch: 10, [batch: 13440 / 33600], examples_per_second: 3310.5925, train_label_loss: 0.2912, \n"
     ]
    },
    {
     "name": "stdout",
     "output_type": "stream",
     "text": [
      "epoch: 10, [batch: 16800 / 33600], examples_per_second: 3317.1357, train_label_loss: 1.4783, \n"
     ]
    },
    {
     "name": "stdout",
     "output_type": "stream",
     "text": [
      "epoch: 10, [batch: 20160 / 33600], examples_per_second: 3320.4330, train_label_loss: 0.4990, \n"
     ]
    },
    {
     "name": "stdout",
     "output_type": "stream",
     "text": [
      "epoch: 10, [batch: 23520 / 33600], examples_per_second: 3316.3457, train_label_loss: 0.3436, \n"
     ]
    },
    {
     "name": "stdout",
     "output_type": "stream",
     "text": [
      "epoch: 10, [batch: 26880 / 33600], examples_per_second: 3317.5074, train_label_loss: 0.4389, \n"
     ]
    },
    {
     "name": "stdout",
     "output_type": "stream",
     "text": [
      "epoch: 10, [batch: 30240 / 33600], examples_per_second: 3324.7249, train_label_loss: 0.6261, \n"
     ]
    },
    {
     "name": "stdout",
     "output_type": "stream",
     "text": [
      "=============================================================\n",
      "epoch: 10, source_val_acc_label: 0.7241, target_val_acc_label: 0.7251, source_val_label_loss: 0.7887, target_val_label_loss: 0.7800, \n",
      "=============================================================\n"
     ]
    },
    {
     "name": "stdout",
     "output_type": "stream",
     "text": [
      "Patience (3) exhausted\n"
     ]
    }
   ],
   "source": [
    "###################################\n",
    "# train\n",
    "###################################\n",
    "jig = PTN_Train_Eval_Test_Jig(model, p.BEST_MODEL_PATH, p.device)\n",
    "\n",
    "jig.train(\n",
    "    train_iterable=datasets.source.processed.train,\n",
    "    source_val_iterable=datasets.source.processed.val,\n",
    "    target_val_iterable=datasets.target.processed.val,\n",
    "    num_epochs=p.n_epoch,\n",
    "    num_logs_per_epoch=p.NUM_LOGS_PER_EPOCH,\n",
    "    patience=p.patience,\n",
    "    optimizer=optimizer,\n",
    "    criteria_for_best=p.criteria_for_best,\n",
    ")"
   ]
  },
  {
   "cell_type": "code",
   "execution_count": 23,
   "id": "31e8fabf",
   "metadata": {
    "execution": {
     "iopub.execute_input": "2022-03-29T06:53:55.228671Z",
     "iopub.status.busy": "2022-03-29T06:53:55.228415Z",
     "iopub.status.idle": "2022-03-29T06:53:55.247796Z",
     "shell.execute_reply": "2022-03-29T06:53:55.247353Z"
    },
    "papermill": {
     "duration": 0.057408,
     "end_time": "2022-03-29T06:53:55.247885",
     "exception": false,
     "start_time": "2022-03-29T06:53:55.190477",
     "status": "completed"
    },
    "tags": []
   },
   "outputs": [],
   "source": [
    "total_experiment_time_secs = time.time() - start_time_secs"
   ]
  },
  {
   "cell_type": "code",
   "execution_count": 24,
   "id": "87b9595b",
   "metadata": {
    "execution": {
     "iopub.execute_input": "2022-03-29T06:53:55.328125Z",
     "iopub.status.busy": "2022-03-29T06:53:55.324230Z",
     "iopub.status.idle": "2022-03-29T07:01:54.597378Z",
     "shell.execute_reply": "2022-03-29T07:01:54.597758Z"
    },
    "papermill": {
     "duration": 479.309554,
     "end_time": "2022-03-29T07:01:54.597893",
     "exception": false,
     "start_time": "2022-03-29T06:53:55.288339",
     "status": "completed"
    },
    "tags": []
   },
   "outputs": [],
   "source": [
    "###################################\n",
    "# Evaluate the model\n",
    "###################################\n",
    "source_test_label_accuracy, source_test_label_loss = jig.test(datasets.source.processed.test)\n",
    "target_test_label_accuracy, target_test_label_loss = jig.test(datasets.target.processed.test)\n",
    "\n",
    "source_val_label_accuracy, source_val_label_loss = jig.test(datasets.source.processed.val)\n",
    "target_val_label_accuracy, target_val_label_loss = jig.test(datasets.target.processed.val)\n",
    "\n",
    "history = jig.get_history()\n",
    "\n",
    "total_epochs_trained = len(history[\"epoch_indices\"])\n",
    "\n",
    "val_dl = Iterable_Aggregator((datasets.source.original.val,datasets.target.original.val))\n",
    "\n",
    "confusion = ptn_confusion_by_domain_over_dataloader(model, p.device, val_dl)\n",
    "per_domain_accuracy = per_domain_accuracy_from_confusion(confusion)\n",
    "\n",
    "# Add a key to per_domain_accuracy for if it was a source domain\n",
    "for domain, accuracy in per_domain_accuracy.items():\n",
    "    per_domain_accuracy[domain] = {\n",
    "        \"accuracy\": accuracy,\n",
    "        \"source?\": domain in p.domains_source\n",
    "    }\n",
    "\n",
    "# Do an independent accuracy assesment JUST TO BE SURE!\n",
    "# _source_test_label_accuracy = independent_accuracy_assesment(model, datasets.source.processed.test, p.device)\n",
    "# _target_test_label_accuracy = independent_accuracy_assesment(model, datasets.target.processed.test, p.device)\n",
    "# _source_val_label_accuracy = independent_accuracy_assesment(model, datasets.source.processed.val, p.device)\n",
    "# _target_val_label_accuracy = independent_accuracy_assesment(model, datasets.target.processed.val, p.device)\n",
    "\n",
    "# assert(_source_test_label_accuracy == source_test_label_accuracy)\n",
    "# assert(_target_test_label_accuracy == target_test_label_accuracy)\n",
    "# assert(_source_val_label_accuracy == source_val_label_accuracy)\n",
    "# assert(_target_val_label_accuracy == target_val_label_accuracy)\n",
    "\n",
    "experiment = {\n",
    "    \"experiment_name\": p.experiment_name,\n",
    "    \"parameters\": dict(p),\n",
    "    \"results\": {\n",
    "        \"source_test_label_accuracy\": source_test_label_accuracy,\n",
    "        \"source_test_label_loss\": source_test_label_loss,\n",
    "        \"target_test_label_accuracy\": target_test_label_accuracy,\n",
    "        \"target_test_label_loss\": target_test_label_loss,\n",
    "        \"source_val_label_accuracy\": source_val_label_accuracy,\n",
    "        \"source_val_label_loss\": source_val_label_loss,\n",
    "        \"target_val_label_accuracy\": target_val_label_accuracy,\n",
    "        \"target_val_label_loss\": target_val_label_loss,\n",
    "        \"total_epochs_trained\": total_epochs_trained,\n",
    "        \"total_experiment_time_secs\": total_experiment_time_secs,\n",
    "        \"confusion\": confusion,\n",
    "        \"per_domain_accuracy\": per_domain_accuracy,\n",
    "    },\n",
    "    \"history\": history,\n",
    "    \"dataset_metrics\": get_dataset_metrics(datasets, \"ptn\"),\n",
    "}"
   ]
  },
  {
   "cell_type": "code",
   "execution_count": 25,
   "id": "54a21829",
   "metadata": {
    "execution": {
     "iopub.execute_input": "2022-03-29T07:01:54.675223Z",
     "iopub.status.busy": "2022-03-29T07:01:54.674968Z",
     "iopub.status.idle": "2022-03-29T07:01:54.800346Z",
     "shell.execute_reply": "2022-03-29T07:01:54.800560Z"
    },
    "papermill": {
     "duration": 0.162471,
     "end_time": "2022-03-29T07:01:54.800624",
     "exception": false,
     "start_time": "2022-03-29T07:01:54.638153",
     "status": "completed"
    },
    "tags": []
   },
   "outputs": [
    {
     "data": {
      "image/png": "[encoded data removed]",
      "text/plain": [
       "<Figure size 1080x504 with 1 Axes>"
      ]
     },
     "metadata": {
      "needs_background": "light"
     },
     "output_type": "display_data"
    }
   ],
   "source": [
    "ax = get_loss_curve(experiment)\n",
    "plt.show()"
   ]
  },
  {
   "cell_type": "code",
   "execution_count": 26,
   "id": "fd8a0f60",
   "metadata": {
    "execution": {
     "iopub.execute_input": "2022-03-29T07:01:54.874981Z",
     "iopub.status.busy": "2022-03-29T07:01:54.874719Z",
     "iopub.status.idle": "2022-03-29T07:01:55.018124Z",
     "shell.execute_reply": "2022-03-29T07:01:55.018414Z"
    },
    "papermill": {
     "duration": 0.181922,
     "end_time": "2022-03-29T07:01:55.018495",
     "exception": false,
     "start_time": "2022-03-29T07:01:54.836573",
     "status": "completed"
    },
    "tags": []
   },
   "outputs": [
    {
     "data": {
      "text/plain": [
       "<AxesSubplot:title={'center':'Results'}>"
      ]
     },
     "execution_count": 26,
     "metadata": {},
     "output_type": "execute_result"
    },
    {
     "data": {
      "image/png": "[encoded data removed]",
      "text/plain": [
       "<Figure size 1080x504 with 1 Axes>"
      ]
     },
     "metadata": {
      "needs_background": "light"
     },
     "output_type": "display_data"
    }
   ],
   "source": [
    "get_results_table(experiment)"
   ]
  },
  {
   "cell_type": "code",
   "execution_count": 27,
   "id": "cf8dc689",
   "metadata": {
    "execution": {
     "iopub.execute_input": "2022-03-29T07:01:55.110511Z",
     "iopub.status.busy": "2022-03-29T07:01:55.110255Z",
     "iopub.status.idle": "2022-03-29T07:01:55.274835Z",
     "shell.execute_reply": "2022-03-29T07:01:55.274568Z"
    },
    "papermill": {
     "duration": 0.203209,
     "end_time": "2022-03-29T07:01:55.274888",
     "exception": false,
     "start_time": "2022-03-29T07:01:55.071679",
     "status": "completed"
    },
    "tags": []
   },
   "outputs": [
    {
     "data": {
      "text/plain": [
       "<AxesSubplot:title={'center':'Per Domain Validation Accuracy'}, xlabel='domain'>"
      ]
     },
     "execution_count": 27,
     "metadata": {},
     "output_type": "execute_result"
    },
    {
     "data": {
      "image/png": "[encoded data removed]",
      "text/plain": [
       "<Figure size 1080x504 with 1 Axes>"
      ]
     },
     "metadata": {
      "needs_background": "light"
     },
     "output_type": "display_data"
    }
   ],
   "source": [
    "get_domain_accuracies(experiment)"
   ]
  },
  {
   "cell_type": "code",
   "execution_count": 28,
   "id": "a74ae082",
   "metadata": {
    "execution": {
     "iopub.execute_input": "2022-03-29T07:01:55.353517Z",
     "iopub.status.busy": "2022-03-29T07:01:55.353259Z",
     "iopub.status.idle": "2022-03-29T07:01:55.368720Z",
     "shell.execute_reply": "2022-03-29T07:01:55.369079Z"
    },
    "papermill": {
     "duration": 0.05627,
     "end_time": "2022-03-29T07:01:55.369186",
     "exception": false,
     "start_time": "2022-03-29T07:01:55.312916",
     "status": "completed"
    },
    "tags": []
   },
   "outputs": [
    {
     "name": "stdout",
     "output_type": "stream",
     "text": [
      "Source Test Label Accuracy: 0.7302473958333333 Target Test Label Accuracy: 0.7343880208333333\n",
      "Source Val Label Accuracy: 0.7300846354166667 Target Val Label Accuracy: 0.7344921875\n"
     ]
    }
   ],
   "source": [
    "print(\"Source Test Label Accuracy:\", experiment[\"results\"][\"source_test_label_accuracy\"], \"Target Test Label Accuracy:\", experiment[\"results\"][\"target_test_label_accuracy\"])\n",
    "print(\"Source Val Label Accuracy:\", experiment[\"results\"][\"source_val_label_accuracy\"], \"Target Val Label Accuracy:\", experiment[\"results\"][\"target_val_label_accuracy\"])"
   ]
  },
  {
   "cell_type": "code",
   "execution_count": 29,
   "id": "dacca602",
   "metadata": {
    "execution": {
     "iopub.execute_input": "2022-03-29T07:01:55.452361Z",
     "iopub.status.busy": "2022-03-29T07:01:55.452110Z",
     "iopub.status.idle": "2022-03-29T07:01:55.468818Z",
     "shell.execute_reply": "2022-03-29T07:01:55.469199Z"
    },
    "papermill": {
     "duration": 0.057508,
     "end_time": "2022-03-29T07:01:55.469305",
     "exception": false,
     "start_time": "2022-03-29T07:01:55.411797",
     "status": "completed"
    },
    "tags": [
     "experiment_json"
    ]
   },
   "outputs": [
    {
     "data": {
      "text/plain": [
       "'{\"experiment_name\": \"tl_1v2:oracle.run1-oracle.run2\", \"parameters\": {\"experiment_name\": \"tl_1v2:oracle.run1-oracle.run2\", \"device\": \"cuda\", \"lr\": 0.0001, \"n_shot\": 3, \"n_query\": 2, \"train_k_factor\": 3, \"val_k_factor\": 2, \"test_k_factor\": 2, \"torch_default_dtype\": \"torch.float32\", \"n_epoch\": 50, \"patience\": 3, \"criteria_for_best\": \"target_accuracy\", \"x_net\": [{\"class\": \"nnReshape\", \"kargs\": {\"shape\": [-1, 1, 2, 256]}}, {\"class\": \"Conv2d\", \"kargs\": {\"in_channels\": 1, \"out_channels\": 256, \"kernel_size\": [1, 7], \"bias\": false, \"padding\": [0, 3]}}, {\"class\": \"ReLU\", \"kargs\": {\"inplace\": true}}, {\"class\": \"BatchNorm2d\", \"kargs\": {\"num_features\": 256}}, {\"class\": \"Conv2d\", \"kargs\": {\"in_channels\": 256, \"out_channels\": 80, \"kernel_size\": [2, 7], \"bias\": true, \"padding\": [0, 3]}}, {\"class\": \"ReLU\", \"kargs\": {\"inplace\": true}}, {\"class\": \"BatchNorm2d\", \"kargs\": {\"num_features\": 80}}, {\"class\": \"Flatten\", \"kargs\": {}}, {\"class\": \"Linear\", \"kargs\": {\"in_features\": 20480, \"out_features\": 256}}, {\"class\": \"ReLU\", \"kargs\": {\"inplace\": true}}, {\"class\": \"BatchNorm1d\", \"kargs\": {\"num_features\": 256}}, {\"class\": \"Linear\", \"kargs\": {\"in_features\": 256, \"out_features\": 256}}], \"NUM_LOGS_PER_EPOCH\": 10, \"BEST_MODEL_PATH\": \"./best_model.pth\", \"n_way\": 16, \"datasets\": [{\"labels\": [\"3123D52\", \"3123D65\", \"3123D79\", \"3123D80\", \"3123D54\", \"3123D70\", \"3123D7B\", \"3123D89\", \"3123D58\", \"3123D76\", \"3123D7D\", \"3123EFE\", \"3123D64\", \"3123D78\", \"3123D7E\", \"3124E4A\"], \"domains\": [32, 38, 8, 44, 14, 50, 20, 26], \"num_examples_per_domain_per_label\": 10000, \"pickle_path\": \"/mnt/wd500GB/CSC500/csc500-main/datasets/oracle.Run1_10kExamples_stratified_ds.2022A.pkl\", \"source_or_target_dataset\": \"target\", \"x_transforms\": [\"unit_mag\"], \"episode_transforms\": [], \"domain_prefix\": \"ORACLE.run1_\"}, {\"labels\": [\"3123D52\", \"3123D65\", \"3123D79\", \"3123D80\", \"3123D54\", \"3123D70\", \"3123D7B\", \"3123D89\", \"3123D58\", \"3123D76\", \"3123D7D\", \"3123EFE\", \"3123D64\", \"3123D78\", \"3123D7E\", \"3124E4A\"], \"domains\": [32, 38, 8, 44, 14, 50, 20, 26], \"num_examples_per_domain_per_label\": 10000, \"pickle_path\": \"/mnt/wd500GB/CSC500/csc500-main/datasets/oracle.Run2_10kExamples_stratified_ds.2022A.pkl\", \"source_or_target_dataset\": \"source\", \"x_transforms\": [\"unit_mag\"], \"episode_transforms\": [], \"domain_prefix\": \"ORACLE.run2_\"}], \"dataset_seed\": 7, \"seed\": 7, \"x_shape\": [2, 256], \"domains_source\": [\"ORACLE.run2_32\", \"ORACLE.run2_38\", \"ORACLE.run2_8\", \"ORACLE.run2_44\", \"ORACLE.run2_14\", \"ORACLE.run2_50\", \"ORACLE.run2_20\", \"ORACLE.run2_26\"], \"domains_target\": [\"ORACLE.run1_32\", \"ORACLE.run1_38\", \"ORACLE.run1_8\", \"ORACLE.run1_44\", \"ORACLE.run1_14\", \"ORACLE.run1_50\", \"ORACLE.run1_20\", \"ORACLE.run1_26\"]}, \"results\": {\"source_test_label_accuracy\": 0.7302473958333333, \"source_test_label_loss\": 0.7618016600608826, \"target_test_label_accuracy\": 0.7343880208333333, \"target_test_label_loss\": 0.7348669171333313, \"source_val_label_accuracy\": 0.7300846354166667, \"source_val_label_loss\": 0.7582574486732483, \"target_val_label_accuracy\": 0.7344921875, \"target_val_label_loss\": 0.735157310962677, \"total_epochs_trained\": 10, \"total_experiment_time_secs\": 9132.152614593506, \"confusion\": {\"ORACLE.run2_26\": {\"0\": {\"14\": 215, \"4\": 154, \"0\": 407, \"8\": 97, \"10\": 205, \"1\": 92, \"9\": 2, \"2\": 6, \"3\": 3, \"15\": 7, \"7\": 9, \"6\": 3}, \"4\": {\"4\": 723, \"15\": 41, \"14\": 56, \"3\": 55, \"2\": 69, \"0\": 113, \"8\": 39, \"10\": 31, \"7\": 64, \"1\": 9}, \"14\": {\"10\": 156, \"0\": 209, \"8\": 72, \"14\": 426, \"1\": 282, \"4\": 42, \"2\": 5, \"7\": 4, \"9\": 2, \"3\": 1, \"6\": 1}, \"12\": {\"12\": 1198, \"11\": 2}, \"8\": {\"7\": 118, \"14\": 73, \"9\": 82, \"8\": 579, \"2\": 92, \"10\": 74, \"0\": 78, \"5\": 28, \"4\": 43, \"15\": 4, \"6\": 19, \"3\": 1, \"13\": 6, \"1\": 3}, \"7\": {\"5\": 37, \"15\": 65, \"2\": 373, \"7\": 400, \"8\": 129, \"3\": 85, \"4\": 66, \"13\": 2, \"9\": 29, \"0\": 8, \"14\": 5, \"10\": 1}, \"13\": {\"13\": 855, \"6\": 46, \"5\": 177, \"9\": 116, \"7\": 4, \"8\": 2}, \"5\": {\"13\": 254, \"7\": 112, \"5\": 511, \"6\": 95, \"2\": 74, \"4\": 1, \"8\": 55, \"3\": 10, \"9\": 75, \"14\": 4, \"10\": 5, \"0\": 1, \"15\": 3}, \"15\": {\"15\": 727, \"2\": 86, \"3\": 213, \"7\": 90, \"4\": 63, \"9\": 9, \"0\": 2, \"8\": 9, \"5\": 1}, \"10\": {\"14\": 162, \"4\": 92, \"1\": 70, \"10\": 428, \"6\": 93, \"0\": 214, \"7\": 9, \"8\": 110, \"15\": 3, \"9\": 2, \"5\": 4, \"2\": 12, \"12\": 1}, \"3\": {\"15\": 239, \"2\": 112, \"3\": 709, \"7\": 79, \"4\": 58, \"5\": 1, \"9\": 1, \"8\": 1}, \"9\": {\"7\": 25, \"9\": 737, \"5\": 66, \"13\": 114, \"8\": 103, \"6\": 134, \"2\": 13, \"10\": 4, \"0\": 3, \"15\": 1}, \"6\": {\"13\": 47, \"8\": 20, \"6\": 931, \"9\": 139, \"10\": 39, \"5\": 22, \"0\": 2}, \"1\": {\"0\": 71, \"14\": 298, \"1\": 741, \"10\": 62, \"4\": 19, \"8\": 8, \"2\": 1}, \"11\": {\"11\": 1200}, \"2\": {\"2\": 404, \"3\": 129, \"7\": 353, \"5\": 29, \"0\": 5, \"4\": 92, \"8\": 89, \"15\": 77, \"14\": 3, \"10\": 5, \"9\": 13, \"13\": 1}}, \"ORACLE.run2_44\": {\"1\": {\"12\": 290, \"1\": 772, \"3\": 124, \"10\": 6, \"7\": 8}, \"11\": {\"11\": 1181, \"6\": 17, \"9\": 1, \"7\": 1}, \"3\": {\"1\": 107, \"3\": 1032, \"12\": 60, \"2\": 1}, \"6\": {\"6\": 1105, \"13\": 17, \"9\": 54, \"7\": 21, \"2\": 3}, \"7\": {\"7\": 655, \"6\": 7, \"9\": 299, \"2\": 230, \"1\": 9}, \"5\": {\"5\": 1099, \"14\": 88, \"8\": 8, \"0\": 3, \"15\": 2}, \"2\": {\"7\": 171, \"9\": 281, \"2\": 746, \"6\": 2}, \"15\": {\"15\": 993, \"4\": 48, \"14\": 147, \"8\": 10, \"5\": 2}, \"10\": {\"10\": 1153, \"1\": 13, \"12\": 34}, \"13\": {\"13\": 1151, \"6\": 17, \"4\": 31, \"14\": 1}, \"8\": {\"8\": 711, \"5\": 15, \"0\": 462, \"15\": 10, \"14\": 2}, \"4\": {\"4\": 1078, \"15\": 35, \"14\": 76, \"13\": 11}, \"9\": {\"7\": 255, \"9\": 585, \"2\": 317, \"6\": 40, \"1\": 3}, \"14\": {\"14\": 922, \"4\": 47, \"15\": 131, \"5\": 94, \"8\": 3, \"13\": 2, \"0\": 1}, \"0\": {\"0\": 688, \"8\": 511, \"5\": 1}, \"12\": {\"12\": 858, \"1\": 283, \"3\": 56, \"10\": 3}}, \"ORACLE.run2_50\": {\"15\": {\"1\": 80, \"15\": 1077, \"11\": 31, \"6\": 11, \"4\": 1}, \"4\": {\"4\": 649, \"5\": 332, \"6\": 139, \"0\": 1, \"1\": 60, \"7\": 12, \"10\": 4, \"13\": 3}, \"6\": {\"6\": 813, \"5\": 62, \"4\": 143, \"1\": 167, \"15\": 12, \"0\": 2, \"10\": 1}, \"2\": {\"2\": 1136, \"0\": 64}, \"5\": {\"5\": 642, \"6\": 48, \"4\": 329, \"10\": 43, \"13\": 43, \"7\": 83, \"1\": 8, \"0\": 4}, \"9\": {\"9\": 1144, \"11\": 20, \"12\": 36}, \"8\": {\"8\": 1171, \"3\": 28, \"10\": 1}, \"12\": {\"12\": 1102, \"9\": 51, \"14\": 32, \"11\": 15}, \"10\": {\"10\": 918, \"13\": 203, \"7\": 31, \"5\": 35, \"0\": 12, \"4\": 1}, \"1\": {\"6\": 162, \"1\": 953, \"4\": 44, \"15\": 36, \"5\": 4, \"2\": 1}, \"0\": {\"0\": 1119, \"10\": 18, \"2\": 58, \"5\": 3, \"1\": 2}, \"3\": {\"3\": 1164, \"8\": 36}, \"13\": {\"13\": 750, \"10\": 171, \"7\": 240, \"5\": 38, \"4\": 1}, \"11\": {\"11\": 1102, \"15\": 49, \"12\": 15, \"9\": 17, \"14\": 17}, \"7\": {\"7\": 712, \"13\": 329, \"10\": 65, \"5\": 83, \"4\": 11}, \"14\": {\"14\": 1194, \"12\": 4, \"11\": 2}}, \"ORACLE.run2_38\": {\"15\": {\"1\": 117, \"7\": 6, \"15\": 645, \"8\": 232, \"5\": 179, \"6\": 8, \"0\": 4, \"13\": 5, \"9\": 2, \"2\": 1, \"3\": 1}, \"11\": {\"11\": 1137, \"14\": 44, \"12\": 12, \"2\": 5, \"4\": 2}, \"10\": {\"7\": 363, \"10\": 729, \"5\": 22, \"3\": 31, \"13\": 18, \"8\": 24, \"0\": 12, \"4\": 1}, \"14\": {\"14\": 766, \"12\": 72, \"2\": 306, \"11\": 18, \"5\": 14, \"7\": 8, \"8\": 5, \"10\": 5, \"4\": 1, \"13\": 4, \"15\": 1}, \"6\": {\"6\": 988, \"9\": 211, \"0\": 1}, \"4\": {\"4\": 1158, \"12\": 36, \"7\": 2, \"10\": 4}, \"13\": {\"1\": 24, \"8\": 129, \"13\": 697, \"7\": 31, \"3\": 160, \"2\": 12, \"5\": 62, \"15\": 27, \"0\": 11, \"10\": 34, \"14\": 6, \"9\": 4, \"6\": 3}, \"3\": {\"3\": 549, \"8\": 58, \"0\": 216, \"13\": 165, \"9\": 42, \"15\": 22, \"7\": 35, \"10\": 84, \"6\": 12, \"5\": 14, \"1\": 3}, \"7\": {\"7\": 639, \"5\": 130, \"10\": 307, \"3\": 14, \"8\": 84, \"0\": 3, \"13\": 15, \"15\": 8}, \"8\": {\"3\": 12, \"8\": 494, \"5\": 363, \"7\": 80, \"13\": 58, \"15\": 174, \"10\": 14, \"0\": 1, \"1\": 4}, \"1\": {\"1\": 1134, \"15\": 55, \"8\": 5, \"5\": 4, \"13\": 2}, \"5\": {\"15\": 148, \"8\": 367, \"5\": 540, \"7\": 100, \"10\": 16, \"13\": 19, \"3\": 4, \"0\": 1, \"1\": 4, \"12\": 1}, \"0\": {\"3\": 116, \"0\": 1046, \"7\": 9, \"15\": 3, \"8\": 6, \"5\": 4, \"10\": 14, \"9\": 2}, \"2\": {\"14\": 113, \"2\": 1087}, \"12\": {\"12\": 1182, \"14\": 9, \"4\": 8, \"2\": 1}, \"9\": {\"9\": 907, \"3\": 17, \"6\": 261, \"0\": 15}}, \"ORACLE.run2_20\": {\"10\": {\"10\": 1030, \"14\": 86, \"6\": 13, \"3\": 3, \"7\": 11, \"8\": 39, \"4\": 18}, \"7\": {\"7\": 954, \"8\": 118, \"2\": 10, \"5\": 20, \"15\": 1, \"3\": 86, \"9\": 1, \"14\": 1, \"6\": 5, \"10\": 3, \"4\": 1}, \"4\": {\"4\": 1063, \"10\": 9, \"3\": 30, \"12\": 23, \"14\": 1, \"1\": 4, \"5\": 37, \"0\": 19, \"8\": 11, \"9\": 2, \"7\": 1}, \"13\": {\"13\": 906, \"15\": 245, \"2\": 20, \"9\": 5, \"0\": 6, \"1\": 10, \"5\": 7, \"12\": 1}, \"1\": {\"1\": 683, \"0\": 80, \"12\": 258, \"9\": 47, \"15\": 96, \"13\": 11, \"2\": 12, \"4\": 3, \"5\": 10}, \"0\": {\"15\": 57, \"0\": 825, \"5\": 102, \"1\": 102, \"13\": 13, \"12\": 73, \"4\": 24, \"2\": 1, \"9\": 2, \"3\": 1}, \"12\": {\"1\": 249, \"0\": 54, \"12\": 503, \"5\": 96, \"9\": 116, \"4\": 24, \"15\": 79, \"2\": 50, \"13\": 3, \"3\": 25, \"8\": 1}, \"5\": {\"2\": 149, \"3\": 151, \"0\": 110, \"5\": 445, \"12\": 103, \"1\": 24, \"15\": 80, \"7\": 36, \"9\": 57, \"13\": 11, \"4\": 29, \"8\": 5}, \"6\": {\"6\": 1120, \"14\": 56, \"8\": 15, \"7\": 3, \"10\": 6}, \"2\": {\"13\": 17, \"2\": 393, \"7\": 9, \"15\": 87, \"3\": 192, \"5\": 135, \"9\": 304, \"12\": 53, \"1\": 8, \"4\": 1, \"0\": 1}, \"8\": {\"7\": 111, \"8\": 851, \"14\": 120, \"5\": 12, \"6\": 31, \"3\": 10, \"4\": 36, \"10\": 29}, \"11\": {\"11\": 1200}, \"9\": {\"2\": 291, \"9\": 472, \"1\": 41, \"15\": 57, \"12\": 138, \"3\": 127, \"13\": 6, \"5\": 65, \"0\": 2, \"4\": 1}, \"14\": {\"14\": 869, \"6\": 118, \"8\": 131, \"10\": 81, \"4\": 1}, \"15\": {\"2\": 82, \"13\": 253, \"9\": 54, \"15\": 512, \"1\": 104, \"12\": 82, \"0\": 46, \"5\": 62, \"3\": 5}, \"3\": {\"3\": 513, \"7\": 146, \"2\": 159, \"12\": 29, \"9\": 132, \"5\": 167, \"15\": 9, \"4\": 28, \"8\": 8, \"0\": 2, \"10\": 6, \"1\": 1}}, \"ORACLE.run2_14\": {\"14\": {\"14\": 942, \"2\": 119, \"3\": 39, \"6\": 85, \"5\": 7, \"4\": 3, \"0\": 2, \"13\": 3}, \"0\": {\"0\": 1194, \"3\": 1, \"10\": 4, \"12\": 1}, \"4\": {\"4\": 799, \"5\": 270, \"2\": 54, \"3\": 49, \"1\": 25, \"14\": 2, \"6\": 1}, \"11\": {\"11\": 1172, \"12\": 27, \"9\": 1}, \"13\": {\"13\": 871, \"6\": 286, \"2\": 34, \"14\": 8, \"4\": 1}, \"9\": {\"9\": 1195, \"12\": 5}, \"3\": {\"14\": 14, \"3\": 1030, \"5\": 53, \"4\": 76, \"2\": 22, \"1\": 3, \"0\": 2}, \"6\": {\"6\": 807, \"14\": 69, \"13\": 283, \"2\": 36, \"4\": 4, \"5\": 1}, \"1\": {\"1\": 1075, \"4\": 40, \"5\": 84, \"3\": 1}, \"5\": {\"5\": 653, \"4\": 298, \"1\": 105, \"3\": 66, \"2\": 78}, \"12\": {\"12\": 685, \"11\": 315, \"0\": 66, \"9\": 98, \"8\": 24, \"10\": 12}, \"10\": {\"10\": 1145, \"0\": 54, \"11\": 1}, \"8\": {\"8\": 1200}, \"7\": {\"7\": 1197, \"15\": 3}, \"15\": {\"15\": 1188, \"7\": 12}, \"2\": {\"14\": 208, \"4\": 86, \"2\": 522, \"6\": 28, \"5\": 167, \"13\": 86, \"3\": 91, \"15\": 7, \"0\": 2, \"1\": 3}}, \"ORACLE.run2_32\": {\"11\": {\"4\": 57, \"13\": 71, \"7\": 230, \"11\": 644, \"0\": 166, \"5\": 10, \"8\": 5, \"14\": 4, \"2\": 12, \"3\": 1}, \"1\": {\"1\": 1187, \"10\": 13}, \"2\": {\"2\": 1001, \"5\": 57, \"0\": 11, \"14\": 79, \"7\": 17, \"11\": 8, \"4\": 25, \"13\": 2}, \"0\": {\"0\": 655, \"11\": 142, \"4\": 114, \"2\": 23, \"5\": 133, \"8\": 77, \"13\": 34, \"7\": 14, \"14\": 8}, \"3\": {\"3\": 1146, \"13\": 34, \"4\": 2, \"8\": 15, \"11\": 1, \"7\": 2}, \"8\": {\"8\": 985, \"5\": 62, \"0\": 64, \"13\": 36, \"4\": 28, \"3\": 19, \"11\": 6}, \"12\": {\"12\": 1200}, \"5\": {\"5\": 555, \"4\": 120, \"13\": 45, \"8\": 109, \"0\": 147, \"2\": 111, \"14\": 86, \"3\": 4, \"11\": 10, \"7\": 13}, \"15\": {\"15\": 1194, \"8\": 6}, \"7\": {\"7\": 730, \"4\": 119, \"13\": 106, \"0\": 16, \"11\": 198, \"5\": 14, \"2\": 16, \"3\": 1}, \"4\": {\"4\": 566, \"3\": 1, \"5\": 121, \"7\": 85, \"11\": 50, \"0\": 90, \"8\": 26, \"2\": 24, \"13\": 236, \"14\": 1}, \"14\": {\"2\": 96, \"14\": 1032, \"0\": 32, \"5\": 27, \"11\": 11, \"4\": 2}, \"10\": {\"10\": 1193, \"1\": 7}, \"6\": {\"6\": 1200}, \"13\": {\"13\": 677, \"4\": 251, \"8\": 46, \"0\": 24, \"5\": 11, \"7\": 104, \"11\": 73, \"3\": 14}, \"9\": {\"9\": 1173, \"14\": 26, \"2\": 1}}, \"ORACLE.run2_8\": {\"9\": {\"9\": 1200}, \"11\": {\"15\": 173, \"11\": 640, \"12\": 112, \"8\": 272, \"6\": 2, \"13\": 1}, \"8\": {\"8\": 1018, \"15\": 77, \"11\": 102, \"13\": 2, \"6\": 1}, \"4\": {\"2\": 63, \"6\": 348, \"4\": 508, \"7\": 261, \"14\": 19, \"0\": 1}, \"13\": {\"13\": 922, \"14\": 132, \"6\": 6, \"10\": 39, \"1\": 93, \"4\": 1, \"5\": 3, \"0\": 2, \"8\": 2}, \"14\": {\"13\": 133, \"14\": 803, \"0\": 170, \"10\": 45, \"6\": 41, \"4\": 8}, \"2\": {\"2\": 980, \"4\": 83, \"7\": 128, \"6\": 9}, \"3\": {\"3\": 1107, \"12\": 88, \"15\": 5}, \"1\": {\"1\": 1118, \"13\": 64, \"5\": 17, \"10\": 1}, \"0\": {\"0\": 863, \"14\": 163, \"10\": 161, \"6\": 6, \"4\": 6, \"13\": 1}, \"5\": {\"5\": 994, \"1\": 30, \"10\": 170, \"13\": 5, \"0\": 1}, \"15\": {\"8\": 129, \"15\": 762, \"11\": 141, \"12\": 159, \"7\": 3, \"3\": 6}, \"10\": {\"10\": 789, \"5\": 143, \"0\": 174, \"13\": 32, \"14\": 61, \"1\": 1}, \"12\": {\"3\": 40, \"12\": 1013, \"15\": 129, \"11\": 18}, \"6\": {\"6\": 578, \"7\": 208, \"14\": 60, \"4\": 343, \"2\": 9, \"13\": 1, \"0\": 1}, \"7\": {\"4\": 225, \"6\": 219, \"7\": 645, \"2\": 106, \"8\": 3, \"14\": 1, \"15\": 1}}, \"ORACLE.run1_26\": {\"0\": {\"14\": 210, \"8\": 134, \"0\": 351, \"4\": 165, \"10\": 266, \"9\": 6, \"1\": 27, \"7\": 20, \"6\": 18, \"15\": 3}, \"4\": {\"4\": 496, \"1\": 91, \"7\": 85, \"8\": 91, \"14\": 210, \"0\": 175, \"10\": 48, \"2\": 3, \"3\": 1}, \"14\": {\"1\": 197, \"0\": 225, \"10\": 106, \"14\": 410, \"4\": 214, \"8\": 36, \"7\": 10, \"15\": 1, \"9\": 1}, \"12\": {\"12\": 1200}, \"8\": {\"4\": 83, \"0\": 110, \"8\": 462, \"15\": 67, \"3\": 2, \"10\": 154, \"7\": 100, \"14\": 25, \"6\": 45, \"5\": 16, \"9\": 111, \"2\": 22, \"13\": 2, \"1\": 1}, \"7\": {\"2\": 107, \"3\": 187, \"7\": 681, \"8\": 81, \"4\": 100, \"1\": 5, \"15\": 9, \"0\": 21, \"9\": 2, \"14\": 6, \"5\": 1}, \"13\": {\"13\": 843, \"9\": 37, \"5\": 209, \"15\": 72, \"2\": 26, \"6\": 11, \"7\": 1, \"3\": 1}, \"5\": {\"5\": 813, \"13\": 121, \"15\": 129, \"9\": 51, \"2\": 48, \"8\": 31, \"6\": 4, \"14\": 1, \"7\": 1, \"3\": 1}, \"15\": {\"15\": 485, \"9\": 340, \"8\": 97, \"3\": 1, \"13\": 59, \"5\": 121, \"2\": 29, \"10\": 11, \"7\": 16, \"6\": 36, \"0\": 4, \"14\": 1}, \"10\": {\"4\": 45, \"8\": 164, \"0\": 249, \"10\": 519, \"14\": 105, \"6\": 72, \"15\": 5, \"9\": 14, \"1\": 25, \"7\": 2}, \"3\": {\"3\": 758, \"2\": 271, \"7\": 169, \"4\": 2}, \"9\": {\"15\": 351, \"9\": 461, \"5\": 65, \"6\": 161, \"0\": 8, \"10\": 8, \"8\": 96, \"13\": 36, \"2\": 8, \"7\": 5, \"4\": 1}, \"6\": {\"6\": 896, \"9\": 142, \"13\": 10, \"10\": 76, \"5\": 3, \"8\": 31, \"15\": 24, \"0\": 18}, \"1\": {\"14\": 232, \"1\": 735, \"4\": 138, \"7\": 13, \"0\": 34, \"10\": 42, \"8\": 5, \"3\": 1}, \"11\": {\"11\": 1195, \"12\": 5}, \"2\": {\"2\": 475, \"3\": 351, \"7\": 135, \"4\": 7, \"5\": 114, \"8\": 33, \"15\": 63, \"9\": 13, \"13\": 4, \"0\": 3, \"10\": 2}}, \"ORACLE.run1_44\": {\"1\": {\"10\": 93, \"1\": 739, \"12\": 171, \"3\": 151, \"2\": 46}, \"11\": {\"11\": 1112, \"13\": 74, \"6\": 13, \"4\": 1}, \"3\": {\"3\": 1089, \"1\": 97, \"12\": 11, \"2\": 3}, \"6\": {\"6\": 878, \"7\": 30, \"13\": 190, \"9\": 86, \"11\": 14, \"2\": 2}, \"7\": {\"7\": 796, \"2\": 127, \"9\": 223, \"3\": 5, \"6\": 41, \"13\": 6, \"1\": 2}, \"5\": {\"8\": 17, \"5\": 1025, \"0\": 96, \"15\": 33, \"14\": 28, \"4\": 1}, \"2\": {\"2\": 929, \"7\": 141, \"10\": 73, \"1\": 47, \"3\": 6, \"9\": 2, \"6\": 2}, \"15\": {\"0\": 76, \"15\": 998, \"14\": 83, \"5\": 23, \"8\": 16, \"4\": 4}, \"10\": {\"10\": 846, \"12\": 104, \"1\": 142, \"2\": 107, \"7\": 1}, \"13\": {\"7\": 6, \"13\": 843, \"11\": 34, \"6\": 171, \"9\": 139, \"4\": 7}, \"8\": {\"8\": 720, \"0\": 427, \"5\": 16, \"15\": 37}, \"4\": {\"14\": 342, \"4\": 853, \"15\": 5}, \"9\": {\"9\": 686, \"7\": 257, \"6\": 97, \"13\": 145, \"2\": 12, \"4\": 3}, \"14\": {\"4\": 321, \"14\": 785, \"15\": 68, \"5\": 26}, \"0\": {\"8\": 342, \"5\": 53, \"0\": 760, \"15\": 45}, \"12\": {\"12\": 993, \"1\": 153, \"10\": 44, \"3\": 10}}, \"ORACLE.run1_50\": {\"15\": {\"1\": 175, \"6\": 13, \"15\": 917, \"4\": 71, \"11\": 24}, \"4\": {\"4\": 554, \"5\": 143, \"6\": 121, \"1\": 173, \"13\": 23, \"15\": 150, \"7\": 36}, \"6\": {\"6\": 903, \"5\": 40, \"13\": 71, \"4\": 78, \"1\": 89, \"15\": 16, \"7\": 2, \"0\": 1}, \"2\": {\"2\": 1133, \"0\": 67}, \"5\": {\"7\": 277, \"13\": 191, \"5\": 423, \"6\": 110, \"4\": 139, \"10\": 8, \"1\": 52}, \"9\": {\"9\": 936, \"11\": 163, \"12\": 97, \"14\": 4}, \"8\": {\"8\": 1166, \"10\": 24, \"3\": 10}, \"12\": {\"12\": 1088, \"9\": 62, \"14\": 45, \"11\": 5}, \"10\": {\"10\": 1115, \"13\": 23, \"0\": 33, \"7\": 11, \"8\": 18}, \"1\": {\"1\": 804, \"15\": 214, \"6\": 94, \"4\": 72, \"5\": 7, \"13\": 1, \"14\": 4, \"11\": 1, \"2\": 2, \"0\": 1}, \"0\": {\"0\": 1086, \"2\": 84, \"10\": 30}, \"3\": {\"3\": 1178, \"8\": 22}, \"13\": {\"13\": 849, \"5\": 128, \"7\": 144, \"0\": 4, \"6\": 53, \"4\": 5, \"10\": 15, \"1\": 2}, \"11\": {\"11\": 1046, \"9\": 101, \"15\": 32, \"12\": 10, \"14\": 9, \"1\": 1, \"4\": 1}, \"7\": {\"7\": 846, \"13\": 169, \"5\": 157, \"10\": 20, \"6\": 4, \"4\": 4}, \"14\": {\"14\": 1182, \"12\": 16, \"11\": 2}}, \"ORACLE.run1_38\": {\"15\": {\"15\": 928, \"5\": 19, \"13\": 127, \"1\": 77, \"8\": 37, \"2\": 9, \"10\": 3}, \"11\": {\"11\": 1067, \"14\": 115, \"2\": 6, \"10\": 10, \"13\": 2}, \"10\": {\"10\": 963, \"13\": 131, \"14\": 11, \"8\": 30, \"4\": 4, \"0\": 21, \"11\": 9, \"2\": 5, \"12\": 9, \"7\": 5, \"5\": 5, \"15\": 7}, \"14\": {\"14\": 1073, \"2\": 85, \"11\": 33, \"12\": 1, \"10\": 6, \"13\": 2}, \"6\": {\"6\": 1077, \"5\": 9, \"9\": 114}, \"4\": {\"4\": 1155, \"12\": 43, \"10\": 2}, \"13\": {\"15\": 157, \"13\": 933, \"1\": 5, \"10\": 73, \"2\": 18, \"0\": 1, \"8\": 11, \"5\": 2}, \"3\": {\"3\": 1131, \"9\": 44, \"5\": 2, \"0\": 14, \"7\": 9}, \"7\": {\"7\": 977, \"5\": 49, \"0\": 130, \"8\": 37, \"9\": 1, \"3\": 4, \"10\": 2}, \"8\": {\"8\": 730, \"5\": 275, \"0\": 102, \"15\": 32, \"10\": 7, \"7\": 40, \"13\": 12, \"1\": 2}, \"1\": {\"1\": 1160, \"15\": 38, \"5\": 2}, \"5\": {\"5\": 523, \"7\": 110, \"9\": 32, \"8\": 339, \"3\": 5, \"6\": 40, \"15\": 48, \"0\": 83, \"1\": 9, \"13\": 9, \"10\": 2}, \"0\": {\"8\": 220, \"10\": 23, \"7\": 186, \"0\": 586, \"3\": 76, \"5\": 104, \"6\": 1, \"9\": 1, \"13\": 2, \"12\": 1}, \"2\": {\"2\": 1138, \"14\": 49, \"13\": 10, \"10\": 2, \"15\": 1}, \"12\": {\"12\": 1159, \"4\": 36, \"0\": 2, \"10\": 3}, \"9\": {\"9\": 909, \"6\": 245, \"5\": 20, \"3\": 18, \"7\": 2, \"0\": 6}}, \"ORACLE.run1_20\": {\"10\": {\"10\": 1087, \"8\": 21, \"4\": 22, \"14\": 70}, \"7\": {\"2\": 136, \"7\": 960, \"8\": 36, \"9\": 25, \"3\": 33, \"4\": 3, \"13\": 3, \"6\": 3, \"0\": 1}, \"4\": {\"4\": 1054, \"8\": 76, \"3\": 40, \"10\": 15, \"12\": 6, \"5\": 4, \"7\": 1, \"9\": 2, \"0\": 2}, \"13\": {\"13\": 1110, \"2\": 56, \"0\": 3, \"9\": 9, \"15\": 15, \"12\": 4, \"7\": 2, \"5\": 1}, \"1\": {\"5\": 202, \"12\": 176, \"2\": 8, \"1\": 554, \"15\": 191, \"0\": 35, \"3\": 23, \"9\": 10, \"13\": 1}, \"0\": {\"0\": 667, \"5\": 272, \"12\": 25, \"3\": 25, \"7\": 2, \"2\": 6, \"13\": 9, \"8\": 3, \"15\": 144, \"1\": 39, \"4\": 7, \"9\": 1}, \"12\": {\"9\": 106, \"5\": 145, \"12\": 452, \"3\": 226, \"1\": 181, \"15\": 20, \"2\": 41, \"0\": 23, \"13\": 4, \"4\": 2}, \"5\": {\"5\": 490, \"15\": 87, \"12\": 143, \"0\": 223, \"3\": 43, \"1\": 206, \"8\": 1, \"2\": 3, \"9\": 2, \"13\": 2}, \"6\": {\"6\": 1075, \"14\": 114, \"8\": 6, \"7\": 5}, \"2\": {\"2\": 632, \"13\": 52, \"9\": 281, \"12\": 47, \"3\": 69, \"7\": 107, \"1\": 6, \"15\": 3, \"5\": 2, \"0\": 1}, \"8\": {\"14\": 34, \"7\": 57, \"8\": 954, \"3\": 13, \"4\": 118, \"6\": 4, \"2\": 2, \"10\": 18}, \"11\": {\"11\": 1200}, \"9\": {\"2\": 281, \"9\": 583, \"12\": 93, \"3\": 193, \"7\": 36, \"13\": 4, \"1\": 6, \"5\": 2, \"4\": 1, \"0\": 1}, \"14\": {\"14\": 972, \"6\": 124, \"8\": 30, \"10\": 74}, \"15\": {\"15\": 774, \"1\": 213, \"5\": 82, \"12\": 17, \"0\": 82, \"13\": 25, \"2\": 5, \"3\": 1, \"9\": 1}, \"3\": {\"3\": 535, \"9\": 186, \"1\": 17, \"12\": 248, \"2\": 69, \"4\": 56, \"0\": 12, \"7\": 28, \"5\": 42, \"10\": 2, \"8\": 4, \"15\": 1}}, \"ORACLE.run1_14\": {\"14\": {\"14\": 974, \"13\": 77, \"2\": 81, \"6\": 40, \"3\": 24, \"4\": 3, \"0\": 1}, \"0\": {\"0\": 1064, \"11\": 32, \"10\": 80, \"3\": 24}, \"4\": {\"4\": 903, \"3\": 105, \"2\": 34, \"5\": 140, \"14\": 5, \"1\": 11, \"13\": 1, \"6\": 1}, \"11\": {\"11\": 1035, \"9\": 93, \"0\": 70, \"10\": 2}, \"13\": {\"6\": 504, \"13\": 407, \"2\": 114, \"14\": 155, \"5\": 13, \"10\": 3, \"4\": 3, \"15\": 1}, \"9\": {\"9\": 1198, \"11\": 1, \"12\": 1}, \"3\": {\"4\": 113, \"3\": 1048, \"2\": 10, \"0\": 7, \"5\": 7, \"14\": 14, \"13\": 1}, \"6\": {\"13\": 435, \"6\": 671, \"2\": 31, \"14\": 62, \"4\": 1}, \"1\": {\"1\": 1063, \"5\": 125, \"4\": 11, \"7\": 1}, \"5\": {\"1\": 180, \"5\": 730, \"4\": 220, \"3\": 13, \"2\": 47, \"7\": 9, \"13\": 1}, \"12\": {\"12\": 1197, \"9\": 3}, \"10\": {\"10\": 1158, \"0\": 40, \"14\": 1, \"3\": 1}, \"8\": {\"8\": 1200}, \"7\": {\"7\": 1185, \"15\": 13, \"1\": 1, \"5\": 1}, \"15\": {\"15\": 1173, \"7\": 26, \"5\": 1}, \"2\": {\"5\": 130, \"2\": 569, \"14\": 185, \"3\": 61, \"6\": 70, \"4\": 92, \"13\": 66, \"15\": 22, \"1\": 4, \"7\": 1}}, \"ORACLE.run1_32\": {\"11\": {\"11\": 1018, \"14\": 145, \"7\": 14, \"13\": 12, \"5\": 4, \"3\": 7}, \"1\": {\"1\": 1188, \"10\": 12}, \"2\": {\"2\": 962, \"4\": 184, \"7\": 14, \"0\": 31, \"5\": 7, \"14\": 2}, \"0\": {\"0\": 894, \"4\": 53, \"8\": 99, \"2\": 36, \"5\": 31, \"14\": 32, \"7\": 39, \"13\": 16}, \"3\": {\"3\": 1141, \"8\": 3, \"13\": 32, \"11\": 16, \"5\": 7, \"14\": 1}, \"8\": {\"8\": 948, \"13\": 76, \"0\": 75, \"5\": 79, \"14\": 8, \"3\": 5, \"4\": 3, \"7\": 6}, \"12\": {\"12\": 1200}, \"5\": {\"5\": 420, \"8\": 72, \"4\": 149, \"7\": 139, \"13\": 257, \"0\": 46, \"2\": 17, \"14\": 46, \"3\": 44, \"11\": 10}, \"15\": {\"15\": 1195, \"8\": 4, \"3\": 1}, \"7\": {\"7\": 547, \"14\": 156, \"5\": 165, \"4\": 174, \"13\": 80, \"2\": 25, \"0\": 27, \"11\": 22, \"8\": 4}, \"4\": {\"0\": 54, \"4\": 708, \"5\": 81, \"2\": 183, \"7\": 128, \"8\": 3, \"13\": 38, \"14\": 5}, \"14\": {\"7\": 215, \"14\": 466, \"11\": 310, \"13\": 45, \"5\": 56, \"8\": 11, \"4\": 20, \"0\": 46, \"3\": 13, \"2\": 18}, \"10\": {\"10\": 1190, \"1\": 10}, \"6\": {\"6\": 1200}, \"13\": {\"8\": 45, \"5\": 248, \"7\": 112, \"13\": 544, \"0\": 17, \"3\": 101, \"14\": 31, \"4\": 81, \"11\": 19, \"2\": 2}, \"9\": {\"9\": 1194, \"12\": 6}}, \"ORACLE.run1_8\": {\"9\": {\"9\": 1200}, \"11\": {\"1\": 443, \"11\": 716, \"14\": 13, \"8\": 5, \"5\": 21, \"10\": 2}, \"8\": {\"8\": 1173, \"12\": 4, \"15\": 20, \"6\": 3}, \"4\": {\"4\": 685, \"13\": 211, \"6\": 98, \"14\": 164, \"0\": 17, \"10\": 22, \"7\": 3}, \"13\": {\"13\": 445, \"10\": 106, \"14\": 122, \"0\": 324, \"4\": 167, \"6\": 23, \"7\": 11, \"1\": 1, \"5\": 1}, \"14\": {\"14\": 638, \"10\": 268, \"13\": 80, \"4\": 161, \"1\": 37, \"11\": 6, \"6\": 2, \"5\": 7, \"0\": 1}, \"2\": {\"2\": 1002, \"7\": 24, \"3\": 146, \"15\": 20, \"12\": 8}, \"3\": {\"3\": 1049, \"2\": 96, \"12\": 50, \"15\": 5}, \"1\": {\"1\": 899, \"11\": 260, \"5\": 12, \"10\": 3, \"14\": 26}, \"0\": {\"13\": 239, \"0\": 817, \"10\": 3, \"4\": 31, \"7\": 59, \"6\": 50, \"14\": 1}, \"5\": {\"5\": 1059, \"10\": 70, \"14\": 17, \"1\": 51, \"11\": 3}, \"15\": {\"8\": 41, \"15\": 918, \"12\": 239, \"3\": 1, \"2\": 1}, \"10\": {\"10\": 814, \"13\": 75, \"14\": 269, \"4\": 31, \"0\": 1, \"5\": 10}, \"12\": {\"12\": 645, \"15\": 362, \"3\": 157, \"8\": 31, \"2\": 5}, \"6\": {\"13\": 38, \"6\": 768, \"4\": 112, \"7\": 234, \"0\": 39, \"14\": 5, \"8\": 4}, \"7\": {\"7\": 934, \"6\": 217, \"0\": 39, \"4\": 5, \"13\": 5}}}, \"per_domain_accuracy\": {\"ORACLE.run2_26\": {\"accuracy\": 0.5716666666666667, \"source?\": true}, \"ORACLE.run2_44\": {\"accuracy\": 0.7671354166666666, \"source?\": true}, \"ORACLE.run2_50\": {\"accuracy\": 0.8148958333333334, \"source?\": true}, \"ORACLE.run2_38\": {\"accuracy\": 0.7134375, \"source?\": true}, \"ORACLE.run2_20\": {\"accuracy\": 0.64265625, \"source?\": true}, \"ORACLE.run2_14\": {\"accuracy\": 0.81640625, \"source?\": true}, \"ORACLE.run2_32\": {\"accuracy\": 0.7884375, \"source?\": true}, \"ORACLE.run2_8\": {\"accuracy\": 0.7260416666666667, \"source?\": true}, \"ORACLE.run1_26\": {\"accuracy\": 0.5614583333333333, \"source?\": false}, \"ORACLE.run1_44\": {\"accuracy\": 0.731875, \"source?\": false}, \"ORACLE.run1_50\": {\"accuracy\": 0.7930208333333333, \"source?\": false}, \"ORACLE.run1_38\": {\"accuracy\": 0.8077604166666666, \"source?\": false}, \"ORACLE.run1_20\": {\"accuracy\": 0.6822395833333333, \"source?\": false}, \"ORACLE.run1_14\": {\"accuracy\": 0.8111979166666666, \"source?\": false}, \"ORACLE.run1_32\": {\"accuracy\": 0.7716145833333333, \"source?\": false}, \"ORACLE.run1_8\": {\"accuracy\": 0.7167708333333334, \"source?\": false}}}, \"history\": {\"epoch_indices\": [1, 2, 3, 4, 5, 6, 7, 8, 9, 10], \"train_label_loss\": [1.151985116104285, 0.8968067313965765, 0.8164384742866138, 0.7271351329558751, 0.6458054009966907, 0.5836946411699145, 0.5377954711236193, 0.5017873002950191, 0.4667985247993576, 0.4381562343953798], \"source_val_label_loss\": [1.0453230142593384, 0.9283533692359924, 0.8686819672584534, 0.8101685643196106, 0.7719693779945374, 0.7582574486732483, 0.7676311731338501, 0.7794978022575378, 0.786885678768158, 0.7887142896652222], \"target_val_label_loss\": [1.0235956907272339, 0.8901153802871704, 0.8332355618476868, 0.7800493836402893, 0.7486565113067627, 0.735157310962677, 0.7455673813819885, 0.7608226537704468, 0.7734991908073425, 0.7800204753875732], \"source_val_acc_label\": [0.6236067708333334, 0.6534830729166666, 0.6813736979166667, 0.70498046875, 0.7219401041666667, 0.7300846354166667, 0.7256705729166667, 0.7288932291666667, 0.7258919270833334, 0.7240885416666667], \"target_val_acc_label\": [0.6341796875, 0.6660221354166667, 0.6909244791666667, 0.71080078125, 0.7259440104166667, 0.7344921875, 0.72859375, 0.7334244791666666, 0.7273763020833334, 0.725078125]}, \"dataset_metrics\": {\"source\": {\"train\": {\"n_unique_x\": 896000, \"n_unique_y\": 16, \"n_batch/episode\": 33600}, \"val\": {\"n_unique_x\": 192000, \"n_unique_y\": 16, \"n_batch/episode\": 4800}, \"test\": {\"n_unique_x\": 192000, \"n_unique_y\": 16, \"n_batch/episode\": 4800}}, \"target\": {\"train\": {\"n_unique_x\": 896000, \"n_unique_y\": 16, \"n_batch/episode\": 33600}, \"val\": {\"n_unique_x\": 192000, \"n_unique_y\": 16, \"n_batch/episode\": 4800}, \"test\": {\"n_unique_x\": 192000, \"n_unique_y\": 16, \"n_batch/episode\": 4800}}}}'"
      ]
     },
     "execution_count": 29,
     "metadata": {},
     "output_type": "execute_result"
    }
   ],
   "source": [
    "json.dumps(experiment)"
   ]
  }
 ],
 "metadata": {
  "celltoolbar": "Tags",
  "kernelspec": {
   "display_name": "Python 3 (ipykernel)",
   "language": "python",
   "name": "python3"
  },
  "language_info": {
   "codemirror_mode": {
    "name": "ipython",
    "version": 3
   },
   "file_extension": ".py",
   "mimetype": "text/x-python",
   "name": "python",
   "nbconvert_exporter": "python",
   "pygments_lexer": "ipython3",
   "version": "3.8.10"
  },
  "papermill": {
   "default_parameters": {},
   "duration": 9617.966426,
   "end_time": "2022-03-29T07:01:58.626757",
   "environment_variables": {},
   "exception": null,
   "input_path": "/mnt/wd500GB/CSC500/csc500-main/csc500-notebooks/templates/tl_ptn_template.ipynb",
   "output_path": "trial.ipynb",
   "parameters": {
    "parameters": {
     "BEST_MODEL_PATH": "./best_model.pth",
     "NUM_LOGS_PER_EPOCH": 10,
     "criteria_for_best": "target_accuracy",
     "dataset_seed": 7,
     "datasets": [
      {
       "domain_prefix": "ORACLE.run1_",
       "domains": [
        32,
        38,
        8,
        44,
        14,
        50,
        20,
        26
       ],
       "episode_transforms": [],
       "labels": [
        "3123D52",
        "3123D65",
        "3123D79",
        "3123D80",
        "3123D54",
        "3123D70",
        "3123D7B",
        "3123D89",
        "3123D58",
        "3123D76",
        "3123D7D",
        "3123EFE",
        "3123D64",
        "3123D78",
        "3123D7E",
        "3124E4A"
       ],
       "num_examples_per_domain_per_label": 10000,
       "pickle_path": "/mnt/wd500GB/CSC500/csc500-main/datasets/oracle.Run1_10kExamples_stratified_ds.2022A.pkl",
       "source_or_target_dataset": "target",
       "x_transforms": [
        "unit_mag"
       ]
      },
      {
       "domain_prefix": "ORACLE.run2_",
       "domains": [
        32,
        38,
        8,
        44,
        14,
        50,
        20,
        26
       ],
       "episode_transforms": [],
       "labels": [
        "3123D52",
        "3123D65",
        "3123D79",
        "3123D80",
        "3123D54",
        "3123D70",
        "3123D7B",
        "3123D89",
        "3123D58",
        "3123D76",
        "3123D7D",
        "3123EFE",
        "3123D64",
        "3123D78",
        "3123D7E",
        "3124E4A"
       ],
       "num_examples_per_domain_per_label": 10000,
       "pickle_path": "/mnt/wd500GB/CSC500/csc500-main/datasets/oracle.Run2_10kExamples_stratified_ds.2022A.pkl",
       "source_or_target_dataset": "source",
       "x_transforms": [
        "unit_mag"
       ]
      }
     ],
     "device": "cuda",
     "experiment_name": "tl_1v2:oracle.run1-oracle.run2",
     "lr": 0.0001,
     "n_epoch": 50,
     "n_query": 2,
     "n_shot": 3,
     "n_way": 16,
     "patience": 3,
     "seed": 7,
     "test_k_factor": 2,
     "torch_default_dtype": "torch.float32",
     "train_k_factor": 3,
     "val_k_factor": 2,
     "x_net": [
      {
       "class": "nnReshape",
       "kargs": {
        "shape": [
         -1,
         1,
         2,
         256
        ]
       }
      },
      {
       "class": "Conv2d",
       "kargs": {
        "bias": false,
        "in_channels": 1,
        "kernel_size": [
         1,
         7
        ],
        "out_channels": 256,
        "padding": [
         0,
         3
        ]
       }
      },
      {
       "class": "ReLU",
       "kargs": {
        "inplace": true
       }
      },
      {
       "class": "BatchNorm2d",
       "kargs": {
        "num_features": 256
       }
      },
      {
       "class": "Conv2d",
       "kargs": {
        "bias": true,
        "in_channels": 256,
        "kernel_size": [
         2,
         7
        ],
        "out_channels": 80,
        "padding": [
         0,
         3
        ]
       }
      },
      {
       "class": "ReLU",
       "kargs": {
        "inplace": true
       }
      },
      {
       "class": "BatchNorm2d",
       "kargs": {
        "num_features": 80
       }
      },
      {
       "class": "Flatten",
       "kargs": {}
      },
      {
       "class": "Linear",
       "kargs": {
        "in_features": 20480,
        "out_features": 256
       }
      },
      {
       "class": "ReLU",
       "kargs": {
        "inplace": true
       }
      },
      {
       "class": "BatchNorm1d",
       "kargs": {
        "num_features": 256
       }
      },
      {
       "class": "Linear",
       "kargs": {
        "in_features": 256,
        "out_features": 256
       }
      }
     ]
    }
   },
   "start_time": "2022-03-29T04:21:40.660331",
   "version": "2.3.4"
  }
 },
 "nbformat": 4,
 "nbformat_minor": 5
}