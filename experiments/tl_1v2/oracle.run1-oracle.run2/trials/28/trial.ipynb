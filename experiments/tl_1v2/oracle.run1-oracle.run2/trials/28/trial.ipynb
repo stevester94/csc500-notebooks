{
 "cells": [
  {
   "cell_type": "markdown",
   "id": "9fea5f46",
   "metadata": {
    "papermill": {
     "duration": 0.021279,
     "end_time": "2022-03-29T20:49:52.990100",
     "exception": false,
     "start_time": "2022-03-29T20:49:52.968821",
     "status": "completed"
    },
    "tags": []
   },
   "source": [
    "# Transfer Learning Template"
   ]
  },
  {
   "cell_type": "code",
   "execution_count": 1,
   "id": "0902182a",
   "metadata": {
    "execution": {
     "iopub.execute_input": "2022-03-29T20:49:53.027758Z",
     "iopub.status.busy": "2022-03-29T20:49:53.027361Z",
     "iopub.status.idle": "2022-03-29T20:49:54.564908Z",
     "shell.execute_reply": "2022-03-29T20:49:54.564572Z"
    },
    "papermill": {
     "duration": 1.562259,
     "end_time": "2022-03-29T20:49:54.564972",
     "exception": false,
     "start_time": "2022-03-29T20:49:53.002713",
     "status": "completed"
    },
    "tags": []
   },
   "outputs": [],
   "source": [
    "%load_ext autoreload\n",
    "%autoreload 2\n",
    "%matplotlib inline\n",
    "\n",
    "    \n",
    "import os, json, sys, time, random\n",
    "import numpy as np\n",
    "import torch\n",
    "from torch.optim import Adam\n",
    "from  easydict import EasyDict\n",
    "import matplotlib.pyplot as plt\n",
    "\n",
    "from steves_models.steves_ptn import Steves_Prototypical_Network\n",
    "\n",
    "from steves_utils.lazy_iterable_wrapper import Lazy_Iterable_Wrapper\n",
    "from steves_utils.iterable_aggregator import Iterable_Aggregator\n",
    "from steves_utils.ptn_train_eval_test_jig import  PTN_Train_Eval_Test_Jig\n",
    "from steves_utils.torch_sequential_builder import build_sequential\n",
    "from steves_utils.torch_utils import get_dataset_metrics, ptn_confusion_by_domain_over_dataloader\n",
    "from steves_utils.utils_v2 import (per_domain_accuracy_from_confusion, get_datasets_base_path)\n",
    "from steves_utils.PTN.utils import independent_accuracy_assesment\n",
    "\n",
    "from torch.utils.data import DataLoader\n",
    "\n",
    "from steves_utils.stratified_dataset.episodic_accessor import Episodic_Accessor_Factory\n",
    "\n",
    "from steves_utils.ptn_do_report import (\n",
    "    get_loss_curve,\n",
    "    get_results_table,\n",
    "    get_parameters_table,\n",
    "    get_domain_accuracies,\n",
    ")\n",
    "\n",
    "from steves_utils.transforms import get_chained_transform"
   ]
  },
  {
   "cell_type": "markdown",
   "id": "41c840b4",
   "metadata": {
    "papermill": {
     "duration": 0.012266,
     "end_time": "2022-03-29T20:49:54.593097",
     "exception": false,
     "start_time": "2022-03-29T20:49:54.580831",
     "status": "completed"
    },
    "tags": []
   },
   "source": [
    "# Allowed Parameters\n",
    "These are allowed parameters, not defaults\n",
    "Each of these values need to be present in the injected parameters (the notebook will raise an exception if they are not present)\n",
    "\n",
    "Papermill uses the cell tag \"parameters\" to inject the real parameters below this cell.\n",
    "Enable tags to see what I mean"
   ]
  },
  {
   "cell_type": "code",
   "execution_count": 2,
   "id": "fd44eb83",
   "metadata": {
    "execution": {
     "iopub.execute_input": "2022-03-29T20:49:54.620427Z",
     "iopub.status.busy": "2022-03-29T20:49:54.620175Z",
     "iopub.status.idle": "2022-03-29T20:49:54.635198Z",
     "shell.execute_reply": "2022-03-29T20:49:54.635559Z"
    },
    "papermill": {
     "duration": 0.030435,
     "end_time": "2022-03-29T20:49:54.635667",
     "exception": false,
     "start_time": "2022-03-29T20:49:54.605232",
     "status": "completed"
    },
    "tags": []
   },
   "outputs": [],
   "source": [
    "required_parameters = {\n",
    "    \"experiment_name\",\n",
    "    \"lr\",\n",
    "    \"device\",\n",
    "    \"seed\",\n",
    "    \"dataset_seed\",\n",
    "    \"n_shot\",\n",
    "    \"n_query\",\n",
    "    \"n_way\",\n",
    "    \"train_k_factor\",\n",
    "    \"val_k_factor\",\n",
    "    \"test_k_factor\",\n",
    "    \"n_epoch\",\n",
    "    \"patience\",\n",
    "    \"criteria_for_best\",\n",
    "    \"x_net\",\n",
    "    \"datasets\",\n",
    "    \"torch_default_dtype\",\n",
    "    \"NUM_LOGS_PER_EPOCH\",\n",
    "    \"BEST_MODEL_PATH\",\n",
    "    \"x_shape\",\n",
    "}"
   ]
  },
  {
   "cell_type": "code",
   "execution_count": 3,
   "id": "fa3f0049",
   "metadata": {
    "execution": {
     "iopub.execute_input": "2022-03-29T20:49:54.673710Z",
     "iopub.status.busy": "2022-03-29T20:49:54.672133Z",
     "iopub.status.idle": "2022-03-29T20:49:54.686297Z",
     "shell.execute_reply": "2022-03-29T20:49:54.685865Z"
    },
    "papermill": {
     "duration": 0.03299,
     "end_time": "2022-03-29T20:49:54.686387",
     "exception": false,
     "start_time": "2022-03-29T20:49:54.653397",
     "status": "completed"
    },
    "tags": [
     "parameters"
    ]
   },
   "outputs": [],
   "source": [
    "from steves_utils.CORES.utils import (\n",
    "    ALL_NODES,\n",
    "    ALL_NODES_MINIMUM_1000_EXAMPLES,\n",
    "    ALL_DAYS\n",
    ")\n",
    "\n",
    "from steves_utils.ORACLE.utils_v2 import (\n",
    "    ALL_DISTANCES_FEET_NARROWED,\n",
    "    ALL_RUNS,\n",
    "    ALL_SERIAL_NUMBERS,\n",
    ")\n",
    "\n",
    "standalone_parameters = {}\n",
    "standalone_parameters[\"experiment_name\"] = \"STANDALONE PTN\"\n",
    "standalone_parameters[\"lr\"] = 0.001\n",
    "standalone_parameters[\"device\"] = \"cuda\"\n",
    "\n",
    "standalone_parameters[\"seed\"] = 1337\n",
    "standalone_parameters[\"dataset_seed\"] = 1337\n",
    "\n",
    "standalone_parameters[\"n_way\"] = 8\n",
    "standalone_parameters[\"n_shot\"] = 3\n",
    "standalone_parameters[\"n_query\"]  = 2\n",
    "standalone_parameters[\"train_k_factor\"] = 1\n",
    "standalone_parameters[\"val_k_factor\"] = 2\n",
    "standalone_parameters[\"test_k_factor\"] = 2\n",
    "\n",
    "\n",
    "standalone_parameters[\"n_epoch\"] = 50\n",
    "\n",
    "standalone_parameters[\"patience\"] = 10\n",
    "standalone_parameters[\"criteria_for_best\"] = \"source_loss\"\n",
    "\n",
    "standalone_parameters[\"datasets\"] = [\n",
    "    {\n",
    "        \"labels\": ALL_SERIAL_NUMBERS,\n",
    "        \"domains\": ALL_DISTANCES_FEET_NARROWED,\n",
    "        \"num_examples_per_domain_per_label\": 100,\n",
    "        \"pickle_path\": os.path.join(get_datasets_base_path(), \"oracle.Run1_framed_2000Examples_stratified_ds.2022A.pkl\"),\n",
    "        \"source_or_target_dataset\": \"source\",\n",
    "        \"x_transforms\": [\"unit_mag\", \"minus_two\"],\n",
    "        \"episode_transforms\": [],\n",
    "        \"domain_prefix\": \"ORACLE_\"\n",
    "    },\n",
    "    {\n",
    "        \"labels\": ALL_NODES,\n",
    "        \"domains\": ALL_DAYS,\n",
    "        \"num_examples_per_domain_per_label\": 100,\n",
    "        \"pickle_path\": os.path.join(get_datasets_base_path(), \"cores.stratified_ds.2022A.pkl\"),\n",
    "        \"source_or_target_dataset\": \"target\",\n",
    "        \"x_transforms\": [\"unit_power\", \"times_zero\"],\n",
    "        \"episode_transforms\": [],\n",
    "        \"domain_prefix\": \"CORES_\"\n",
    "    }   \n",
    "]\n",
    "\n",
    "standalone_parameters[\"torch_default_dtype\"] = \"torch.float32\" \n",
    "\n",
    "\n",
    "\n",
    "standalone_parameters[\"x_net\"] =     [\n",
    "    {\"class\": \"nnReshape\", \"kargs\": {\"shape\":[-1, 1, 2, 256]}},\n",
    "    {\"class\": \"Conv2d\", \"kargs\": { \"in_channels\":1, \"out_channels\":256, \"kernel_size\":(1,7), \"bias\":False, \"padding\":(0,3), },},\n",
    "    {\"class\": \"ReLU\", \"kargs\": {\"inplace\": True}},\n",
    "    {\"class\": \"BatchNorm2d\", \"kargs\": {\"num_features\":256}},\n",
    "\n",
    "    {\"class\": \"Conv2d\", \"kargs\": { \"in_channels\":256, \"out_channels\":80, \"kernel_size\":(2,7), \"bias\":True, \"padding\":(0,3), },},\n",
    "    {\"class\": \"ReLU\", \"kargs\": {\"inplace\": True}},\n",
    "    {\"class\": \"BatchNorm2d\", \"kargs\": {\"num_features\":80}},\n",
    "    {\"class\": \"Flatten\", \"kargs\": {}},\n",
    "\n",
    "    {\"class\": \"Linear\", \"kargs\": {\"in_features\": 80*256, \"out_features\": 256}}, # 80 units per IQ pair\n",
    "    {\"class\": \"ReLU\", \"kargs\": {\"inplace\": True}},\n",
    "    {\"class\": \"BatchNorm1d\", \"kargs\": {\"num_features\":256}},\n",
    "\n",
    "    {\"class\": \"Linear\", \"kargs\": {\"in_features\": 256, \"out_features\": 256}},\n",
    "]\n",
    "\n",
    "# Parameters relevant to results\n",
    "# These parameters will basically never need to change\n",
    "standalone_parameters[\"NUM_LOGS_PER_EPOCH\"] = 10\n",
    "standalone_parameters[\"BEST_MODEL_PATH\"] = \"./best_model.pth\"\n",
    "\n",
    "\n",
    "\n",
    "\n"
   ]
  },
  {
   "cell_type": "code",
   "execution_count": 4,
   "id": "d167486c",
   "metadata": {
    "execution": {
     "iopub.execute_input": "2022-03-29T20:49:54.726911Z",
     "iopub.status.busy": "2022-03-29T20:49:54.726592Z",
     "iopub.status.idle": "2022-03-29T20:49:54.738614Z",
     "shell.execute_reply": "2022-03-29T20:49:54.738155Z"
    },
    "papermill": {
     "duration": 0.033606,
     "end_time": "2022-03-29T20:49:54.738703",
     "exception": false,
     "start_time": "2022-03-29T20:49:54.705097",
     "status": "completed"
    },
    "tags": [
     "injected-parameters"
    ]
   },
   "outputs": [],
   "source": [
    "# Parameters\n",
    "parameters = {\n",
    "    \"experiment_name\": \"tl_1v2:oracle.run1-oracle.run2\",\n",
    "    \"device\": \"cuda\",\n",
    "    \"lr\": 0.0001,\n",
    "    \"n_shot\": 3,\n",
    "    \"n_query\": 2,\n",
    "    \"train_k_factor\": 3,\n",
    "    \"val_k_factor\": 2,\n",
    "    \"test_k_factor\": 2,\n",
    "    \"torch_default_dtype\": \"torch.float32\",\n",
    "    \"n_epoch\": 50,\n",
    "    \"patience\": 3,\n",
    "    \"criteria_for_best\": \"target_accuracy\",\n",
    "    \"x_net\": [\n",
    "        {\"class\": \"nnReshape\", \"kargs\": {\"shape\": [-1, 1, 2, 256]}},\n",
    "        {\n",
    "            \"class\": \"Conv2d\",\n",
    "            \"kargs\": {\n",
    "                \"in_channels\": 1,\n",
    "                \"out_channels\": 256,\n",
    "                \"kernel_size\": [1, 7],\n",
    "                \"bias\": False,\n",
    "                \"padding\": [0, 3],\n",
    "            },\n",
    "        },\n",
    "        {\"class\": \"ReLU\", \"kargs\": {\"inplace\": True}},\n",
    "        {\"class\": \"BatchNorm2d\", \"kargs\": {\"num_features\": 256}},\n",
    "        {\n",
    "            \"class\": \"Conv2d\",\n",
    "            \"kargs\": {\n",
    "                \"in_channels\": 256,\n",
    "                \"out_channels\": 80,\n",
    "                \"kernel_size\": [2, 7],\n",
    "                \"bias\": True,\n",
    "                \"padding\": [0, 3],\n",
    "            },\n",
    "        },\n",
    "        {\"class\": \"ReLU\", \"kargs\": {\"inplace\": True}},\n",
    "        {\"class\": \"BatchNorm2d\", \"kargs\": {\"num_features\": 80}},\n",
    "        {\"class\": \"Flatten\", \"kargs\": {}},\n",
    "        {\"class\": \"Linear\", \"kargs\": {\"in_features\": 20480, \"out_features\": 256}},\n",
    "        {\"class\": \"ReLU\", \"kargs\": {\"inplace\": True}},\n",
    "        {\"class\": \"BatchNorm1d\", \"kargs\": {\"num_features\": 256}},\n",
    "        {\"class\": \"Linear\", \"kargs\": {\"in_features\": 256, \"out_features\": 256}},\n",
    "    ],\n",
    "    \"NUM_LOGS_PER_EPOCH\": 10,\n",
    "    \"BEST_MODEL_PATH\": \"./best_model.pth\",\n",
    "    \"n_way\": 16,\n",
    "    \"datasets\": [\n",
    "        {\n",
    "            \"labels\": [\n",
    "                \"3123D52\",\n",
    "                \"3123D65\",\n",
    "                \"3123D79\",\n",
    "                \"3123D80\",\n",
    "                \"3123D54\",\n",
    "                \"3123D70\",\n",
    "                \"3123D7B\",\n",
    "                \"3123D89\",\n",
    "                \"3123D58\",\n",
    "                \"3123D76\",\n",
    "                \"3123D7D\",\n",
    "                \"3123EFE\",\n",
    "                \"3123D64\",\n",
    "                \"3123D78\",\n",
    "                \"3123D7E\",\n",
    "                \"3124E4A\",\n",
    "            ],\n",
    "            \"domains\": [32, 38, 8, 44, 14, 50, 20, 26],\n",
    "            \"num_examples_per_domain_per_label\": 10000,\n",
    "            \"pickle_path\": \"/mnt/wd500GB/CSC500/csc500-main/datasets/oracle.Run1_10kExamples_stratified_ds.2022A.pkl\",\n",
    "            \"source_or_target_dataset\": \"target\",\n",
    "            \"x_transforms\": [\"unit_mag\"],\n",
    "            \"episode_transforms\": [],\n",
    "            \"domain_prefix\": \"ORACLE.run1_\",\n",
    "        },\n",
    "        {\n",
    "            \"labels\": [\n",
    "                \"3123D52\",\n",
    "                \"3123D65\",\n",
    "                \"3123D79\",\n",
    "                \"3123D80\",\n",
    "                \"3123D54\",\n",
    "                \"3123D70\",\n",
    "                \"3123D7B\",\n",
    "                \"3123D89\",\n",
    "                \"3123D58\",\n",
    "                \"3123D76\",\n",
    "                \"3123D7D\",\n",
    "                \"3123EFE\",\n",
    "                \"3123D64\",\n",
    "                \"3123D78\",\n",
    "                \"3123D7E\",\n",
    "                \"3124E4A\",\n",
    "            ],\n",
    "            \"domains\": [32, 38, 8, 44, 14, 50, 20, 26],\n",
    "            \"num_examples_per_domain_per_label\": 10000,\n",
    "            \"pickle_path\": \"/mnt/wd500GB/CSC500/csc500-main/datasets/oracle.Run2_10kExamples_stratified_ds.2022A.pkl\",\n",
    "            \"source_or_target_dataset\": \"source\",\n",
    "            \"x_transforms\": [\"unit_mag\"],\n",
    "            \"episode_transforms\": [],\n",
    "            \"domain_prefix\": \"ORACLE.run2_\",\n",
    "        },\n",
    "    ],\n",
    "    \"dataset_seed\": 500,\n",
    "    \"seed\": 500,\n",
    "}\n"
   ]
  },
  {
   "cell_type": "code",
   "execution_count": 5,
   "id": "8fa1cc33",
   "metadata": {
    "execution": {
     "iopub.execute_input": "2022-03-29T20:49:54.770252Z",
     "iopub.status.busy": "2022-03-29T20:49:54.769986Z",
     "iopub.status.idle": "2022-03-29T20:49:54.780824Z",
     "shell.execute_reply": "2022-03-29T20:49:54.780429Z"
    },
    "papermill": {
     "duration": 0.025663,
     "end_time": "2022-03-29T20:49:54.780902",
     "exception": false,
     "start_time": "2022-03-29T20:49:54.755239",
     "status": "completed"
    },
    "tags": []
   },
   "outputs": [],
   "source": [
    "# Set this to True if you want to run this template directly\n",
    "STANDALONE = False\n",
    "if STANDALONE:\n",
    "    print(\"parameters not injected, running with standalone_parameters\")\n",
    "    parameters = standalone_parameters\n",
    "\n",
    "if not 'parameters' in locals() and not 'parameters' in globals():\n",
    "    raise Exception(\"Parameter injection failed\")\n",
    "\n",
    "#Use an easy dict for all the parameters\n",
    "p = EasyDict(parameters)\n",
    "\n",
    "if \"x_shape\" not in p:\n",
    "    p.x_shape = [2,256] # Default to this if we dont supply x_shape\n",
    "\n",
    "\n",
    "supplied_keys = set(p.keys())\n",
    "\n",
    "if  supplied_keys != required_parameters:\n",
    "    print(\"Parameters are incorrect\")\n",
    "    if len(supplied_keys - required_parameters)>0: print(\"Shouldn't have:\", str(supplied_keys - required_parameters))\n",
    "    if len(required_parameters - supplied_keys)>0: print(\"Need to have:\", str(required_parameters - supplied_keys))\n",
    "    raise RuntimeError(\"Parameters are incorrect\")"
   ]
  },
  {
   "cell_type": "code",
   "execution_count": 6,
   "id": "3a028d58",
   "metadata": {
    "execution": {
     "iopub.execute_input": "2022-03-29T20:49:54.814079Z",
     "iopub.status.busy": "2022-03-29T20:49:54.813818Z",
     "iopub.status.idle": "2022-03-29T20:49:54.830770Z",
     "shell.execute_reply": "2022-03-29T20:49:54.830349Z"
    },
    "papermill": {
     "duration": 0.03177,
     "end_time": "2022-03-29T20:49:54.830859",
     "exception": false,
     "start_time": "2022-03-29T20:49:54.799089",
     "status": "completed"
    },
    "tags": []
   },
   "outputs": [],
   "source": [
    "###################################\n",
    "# Set the RNGs and make it all deterministic\n",
    "###################################\n",
    "np.random.seed(p.seed)\n",
    "random.seed(p.seed)\n",
    "torch.manual_seed(p.seed)\n",
    "\n",
    "torch.use_deterministic_algorithms(True) "
   ]
  },
  {
   "cell_type": "code",
   "execution_count": 7,
   "id": "b691acf6",
   "metadata": {
    "execution": {
     "iopub.execute_input": "2022-03-29T20:49:54.860358Z",
     "iopub.status.busy": "2022-03-29T20:49:54.860110Z",
     "iopub.status.idle": "2022-03-29T20:49:54.875290Z",
     "shell.execute_reply": "2022-03-29T20:49:54.875668Z"
    },
    "papermill": {
     "duration": 0.030195,
     "end_time": "2022-03-29T20:49:54.875772",
     "exception": false,
     "start_time": "2022-03-29T20:49:54.845577",
     "status": "completed"
    },
    "tags": []
   },
   "outputs": [],
   "source": [
    "###########################################\n",
    "# The stratified datasets honor this\n",
    "###########################################\n",
    "torch.set_default_dtype(eval(p.torch_default_dtype))"
   ]
  },
  {
   "cell_type": "code",
   "execution_count": 8,
   "id": "b5fba671",
   "metadata": {
    "execution": {
     "iopub.execute_input": "2022-03-29T20:49:54.908828Z",
     "iopub.status.busy": "2022-03-29T20:49:54.908586Z",
     "iopub.status.idle": "2022-03-29T20:49:54.949765Z",
     "shell.execute_reply": "2022-03-29T20:49:54.949365Z"
    },
    "papermill": {
     "duration": 0.055783,
     "end_time": "2022-03-29T20:49:54.949854",
     "exception": false,
     "start_time": "2022-03-29T20:49:54.894071",
     "status": "completed"
    },
    "tags": []
   },
   "outputs": [],
   "source": [
    "###################################\n",
    "# Build the network(s)\n",
    "# Note: It's critical to do this AFTER setting the RNG\n",
    "###################################\n",
    "x_net = build_sequential(p.x_net)"
   ]
  },
  {
   "cell_type": "code",
   "execution_count": 9,
   "id": "5d7e61cc",
   "metadata": {
    "execution": {
     "iopub.execute_input": "2022-03-29T20:49:54.981820Z",
     "iopub.status.busy": "2022-03-29T20:49:54.981583Z",
     "iopub.status.idle": "2022-03-29T20:49:54.995325Z",
     "shell.execute_reply": "2022-03-29T20:49:54.994886Z"
    },
    "papermill": {
     "duration": 0.028328,
     "end_time": "2022-03-29T20:49:54.995411",
     "exception": false,
     "start_time": "2022-03-29T20:49:54.967083",
     "status": "completed"
    },
    "tags": []
   },
   "outputs": [],
   "source": [
    "start_time_secs = time.time()"
   ]
  },
  {
   "cell_type": "code",
   "execution_count": 10,
   "id": "c6b67dfd",
   "metadata": {
    "execution": {
     "iopub.execute_input": "2022-03-29T20:49:55.028581Z",
     "iopub.status.busy": "2022-03-29T20:49:55.028336Z",
     "iopub.status.idle": "2022-03-29T20:49:55.041863Z",
     "shell.execute_reply": "2022-03-29T20:49:55.041421Z"
    },
    "papermill": {
     "duration": 0.028651,
     "end_time": "2022-03-29T20:49:55.041949",
     "exception": false,
     "start_time": "2022-03-29T20:49:55.013298",
     "status": "completed"
    },
    "tags": []
   },
   "outputs": [],
   "source": [
    "p.domains_source = []\n",
    "p.domains_target = []\n",
    "\n",
    "\n",
    "train_original_source = []\n",
    "val_original_source   = []\n",
    "test_original_source  = []\n",
    "\n",
    "train_original_target = []\n",
    "val_original_target   = []\n",
    "test_original_target  = []"
   ]
  },
  {
   "cell_type": "code",
   "execution_count": 11,
   "id": "e3d9c3d3",
   "metadata": {
    "execution": {
     "iopub.execute_input": "2022-03-29T20:49:55.072667Z",
     "iopub.status.busy": "2022-03-29T20:49:55.071524Z",
     "iopub.status.idle": "2022-03-29T20:49:55.085062Z",
     "shell.execute_reply": "2022-03-29T20:49:55.084622Z"
    },
    "papermill": {
     "duration": 0.028164,
     "end_time": "2022-03-29T20:49:55.085150",
     "exception": false,
     "start_time": "2022-03-29T20:49:55.056986",
     "status": "completed"
    },
    "tags": []
   },
   "outputs": [],
   "source": [
    "# global_x_transform_func = lambda x: normalize(x.to(torch.get_default_dtype()), \"unit_power\") # unit_power, unit_mag\n",
    "# global_x_transform_func = lambda x: normalize(x, \"unit_power\") # unit_power, unit_mag"
   ]
  },
  {
   "cell_type": "code",
   "execution_count": 12,
   "id": "acb78fd2",
   "metadata": {
    "execution": {
     "iopub.execute_input": "2022-03-29T20:49:55.119725Z",
     "iopub.status.busy": "2022-03-29T20:49:55.119469Z",
     "iopub.status.idle": "2022-03-29T20:49:55.130498Z",
     "shell.execute_reply": "2022-03-29T20:49:55.130066Z"
    },
    "papermill": {
     "duration": 0.028115,
     "end_time": "2022-03-29T20:49:55.130585",
     "exception": false,
     "start_time": "2022-03-29T20:49:55.102470",
     "status": "completed"
    },
    "tags": []
   },
   "outputs": [],
   "source": [
    "def add_dataset(\n",
    "    labels,\n",
    "    domains,\n",
    "    pickle_path,\n",
    "    x_transforms,\n",
    "    episode_transforms,\n",
    "    domain_prefix,\n",
    "    num_examples_per_domain_per_label,\n",
    "    source_or_target_dataset:str,\n",
    "    iterator_seed=p.seed,\n",
    "    dataset_seed=p.dataset_seed,\n",
    "    n_shot=p.n_shot,\n",
    "    n_way=p.n_way,\n",
    "    n_query=p.n_query,\n",
    "    train_val_test_k_factors=(p.train_k_factor,p.val_k_factor,p.test_k_factor),\n",
    "):\n",
    "   \n",
    "    if x_transforms == []: x_transform = None\n",
    "    else: x_transform = get_chained_transform(x_transforms)\n",
    "    \n",
    "    if episode_transforms == []: episode_transform = None\n",
    "    else: raise Exception(\"episode_transforms not implemented\")\n",
    "    \n",
    "    episode_transform = lambda tup, _prefix=domain_prefix: (_prefix + str(tup[0]), tup[1])\n",
    "\n",
    "\n",
    "    eaf = Episodic_Accessor_Factory(\n",
    "        labels=labels,\n",
    "        domains=domains,\n",
    "        num_examples_per_domain_per_label=num_examples_per_domain_per_label,\n",
    "        iterator_seed=iterator_seed,\n",
    "        dataset_seed=dataset_seed,\n",
    "        n_shot=n_shot,\n",
    "        n_way=n_way,\n",
    "        n_query=n_query,\n",
    "        train_val_test_k_factors=train_val_test_k_factors,\n",
    "        pickle_path=pickle_path,\n",
    "        x_transform_func=x_transform,\n",
    "    )\n",
    "\n",
    "    train, val, test = eaf.get_train(), eaf.get_val(), eaf.get_test()\n",
    "    train = Lazy_Iterable_Wrapper(train, episode_transform)\n",
    "    val = Lazy_Iterable_Wrapper(val, episode_transform)\n",
    "    test = Lazy_Iterable_Wrapper(test, episode_transform)\n",
    "\n",
    "    if source_or_target_dataset==\"source\":\n",
    "        train_original_source.append(train)\n",
    "        val_original_source.append(val)\n",
    "        test_original_source.append(test)\n",
    "\n",
    "        p.domains_source.extend(\n",
    "            [domain_prefix + str(u) for u in domains]\n",
    "        )\n",
    "    elif source_or_target_dataset==\"target\":\n",
    "        train_original_target.append(train)\n",
    "        val_original_target.append(val)\n",
    "        test_original_target.append(test)\n",
    "        p.domains_target.extend(\n",
    "            [domain_prefix + str(u) for u in domains]\n",
    "        )\n",
    "    else:\n",
    "        raise Exception(f\"invalid source_or_target_dataset: {source_or_target_dataset}\")\n",
    "    "
   ]
  },
  {
   "cell_type": "code",
   "execution_count": 13,
   "id": "fe266617",
   "metadata": {
    "execution": {
     "iopub.execute_input": "2022-03-29T20:49:55.160578Z",
     "iopub.status.busy": "2022-03-29T20:49:55.160339Z",
     "iopub.status.idle": "2022-03-29T20:52:39.563711Z",
     "shell.execute_reply": "2022-03-29T20:52:39.563220Z"
    },
    "papermill": {
     "duration": 164.418323,
     "end_time": "2022-03-29T20:52:39.563812",
     "exception": false,
     "start_time": "2022-03-29T20:49:55.145489",
     "status": "completed"
    },
    "tags": []
   },
   "outputs": [],
   "source": [
    "for ds in p.datasets:\n",
    "    add_dataset(**ds)"
   ]
  },
  {
   "cell_type": "code",
   "execution_count": 14,
   "id": "b90d65ac",
   "metadata": {
    "execution": {
     "iopub.execute_input": "2022-03-29T20:52:39.597589Z",
     "iopub.status.busy": "2022-03-29T20:52:39.597341Z",
     "iopub.status.idle": "2022-03-29T20:52:39.612293Z",
     "shell.execute_reply": "2022-03-29T20:52:39.611941Z"
    },
    "papermill": {
     "duration": 0.030148,
     "end_time": "2022-03-29T20:52:39.612362",
     "exception": false,
     "start_time": "2022-03-29T20:52:39.582214",
     "status": "completed"
    },
    "tags": []
   },
   "outputs": [],
   "source": [
    "# from steves_utils.CORES.utils import (\n",
    "#     ALL_NODES,\n",
    "#     ALL_NODES_MINIMUM_1000_EXAMPLES,\n",
    "#     ALL_DAYS\n",
    "# )\n",
    "\n",
    "# add_dataset(\n",
    "#     labels=ALL_NODES,\n",
    "#     domains = ALL_DAYS,\n",
    "#     num_examples_per_domain_per_label=100,\n",
    "#     pickle_path=os.path.join(get_datasets_base_path(), \"cores.stratified_ds.2022A.pkl\"),\n",
    "#     source_or_target_dataset=\"target\",\n",
    "#     x_transform_func=global_x_transform_func,\n",
    "#     domain_modifier=lambda u: f\"cores_{u}\"\n",
    "# )"
   ]
  },
  {
   "cell_type": "code",
   "execution_count": 15,
   "id": "76db484d",
   "metadata": {
    "execution": {
     "iopub.execute_input": "2022-03-29T20:52:39.655143Z",
     "iopub.status.busy": "2022-03-29T20:52:39.654897Z",
     "iopub.status.idle": "2022-03-29T20:52:39.660060Z",
     "shell.execute_reply": "2022-03-29T20:52:39.659616Z"
    },
    "papermill": {
     "duration": 0.030037,
     "end_time": "2022-03-29T20:52:39.660159",
     "exception": false,
     "start_time": "2022-03-29T20:52:39.630122",
     "status": "completed"
    },
    "tags": []
   },
   "outputs": [],
   "source": [
    "# from steves_utils.ORACLE.utils_v2 import (\n",
    "#     ALL_DISTANCES_FEET,\n",
    "#     ALL_RUNS,\n",
    "#     ALL_SERIAL_NUMBERS,\n",
    "# )\n",
    "\n",
    "\n",
    "# add_dataset(\n",
    "#     labels=ALL_SERIAL_NUMBERS,\n",
    "#     domains = list(set(ALL_DISTANCES_FEET) - {2,62}),\n",
    "#     num_examples_per_domain_per_label=100,\n",
    "#     pickle_path=os.path.join(get_datasets_base_path(), \"oracle.Run2_framed_2000Examples_stratified_ds.2022A.pkl\"),\n",
    "#     source_or_target_dataset=\"source\",\n",
    "#     x_transform_func=global_x_transform_func,\n",
    "#     domain_modifier=lambda u: f\"oracle1_{u}\"\n",
    "# )\n"
   ]
  },
  {
   "cell_type": "code",
   "execution_count": 16,
   "id": "97dea9d2",
   "metadata": {
    "execution": {
     "iopub.execute_input": "2022-03-29T20:52:39.698753Z",
     "iopub.status.busy": "2022-03-29T20:52:39.692093Z",
     "iopub.status.idle": "2022-03-29T20:52:39.704937Z",
     "shell.execute_reply": "2022-03-29T20:52:39.705359Z"
    },
    "papermill": {
     "duration": 0.028419,
     "end_time": "2022-03-29T20:52:39.705476",
     "exception": false,
     "start_time": "2022-03-29T20:52:39.677057",
     "status": "completed"
    },
    "tags": []
   },
   "outputs": [],
   "source": [
    "# from steves_utils.ORACLE.utils_v2 import (\n",
    "#     ALL_DISTANCES_FEET,\n",
    "#     ALL_RUNS,\n",
    "#     ALL_SERIAL_NUMBERS,\n",
    "# )\n",
    "\n",
    "\n",
    "# add_dataset(\n",
    "#     labels=ALL_SERIAL_NUMBERS,\n",
    "#     domains = list(set(ALL_DISTANCES_FEET) - {2,62,56}),\n",
    "#     num_examples_per_domain_per_label=100,\n",
    "#     pickle_path=os.path.join(get_datasets_base_path(), \"oracle.Run2_framed_2000Examples_stratified_ds.2022A.pkl\"),\n",
    "#     source_or_target_dataset=\"source\",\n",
    "#     x_transform_func=global_x_transform_func,\n",
    "#     domain_modifier=lambda u: f\"oracle2_{u}\"\n",
    "# )"
   ]
  },
  {
   "cell_type": "code",
   "execution_count": 17,
   "id": "6f289866",
   "metadata": {
    "execution": {
     "iopub.execute_input": "2022-03-29T20:52:39.735907Z",
     "iopub.status.busy": "2022-03-29T20:52:39.735665Z",
     "iopub.status.idle": "2022-03-29T20:52:39.744986Z",
     "shell.execute_reply": "2022-03-29T20:52:39.744747Z"
    },
    "papermill": {
     "duration": 0.023729,
     "end_time": "2022-03-29T20:52:39.745033",
     "exception": false,
     "start_time": "2022-03-29T20:52:39.721304",
     "status": "completed"
    },
    "tags": []
   },
   "outputs": [],
   "source": [
    "# add_dataset(\n",
    "#     labels=list(range(19)),\n",
    "#     domains = [0,1,2],\n",
    "#     num_examples_per_domain_per_label=100,\n",
    "#     pickle_path=os.path.join(get_datasets_base_path(), \"metehan.stratified_ds.2022A.pkl\"),\n",
    "#     source_or_target_dataset=\"target\",\n",
    "#     x_transform_func=global_x_transform_func,\n",
    "#     domain_modifier=lambda u: f\"met_{u}\"\n",
    "# )"
   ]
  },
  {
   "cell_type": "code",
   "execution_count": 18,
   "id": "86a863c3",
   "metadata": {
    "execution": {
     "iopub.execute_input": "2022-03-29T20:52:39.775902Z",
     "iopub.status.busy": "2022-03-29T20:52:39.775648Z",
     "iopub.status.idle": "2022-03-29T20:52:39.785235Z",
     "shell.execute_reply": "2022-03-29T20:52:39.784989Z"
    },
    "papermill": {
     "duration": 0.02418,
     "end_time": "2022-03-29T20:52:39.785284",
     "exception": false,
     "start_time": "2022-03-29T20:52:39.761104",
     "status": "completed"
    },
    "tags": []
   },
   "outputs": [],
   "source": [
    "# # from steves_utils.wisig.utils import (\n",
    "# #     ALL_NODES_MINIMUM_100_EXAMPLES,\n",
    "# #     ALL_NODES_MINIMUM_500_EXAMPLES,\n",
    "# #     ALL_NODES_MINIMUM_1000_EXAMPLES,\n",
    "# #     ALL_DAYS\n",
    "# # )\n",
    "\n",
    "# import steves_utils.wisig.utils as wisig\n",
    "\n",
    "\n",
    "# add_dataset(\n",
    "#     labels=wisig.ALL_NODES_MINIMUM_100_EXAMPLES,\n",
    "#     domains = wisig.ALL_DAYS,\n",
    "#     num_examples_per_domain_per_label=100,\n",
    "#     pickle_path=os.path.join(get_datasets_base_path(), \"wisig.node3-19.stratified_ds.2022A.pkl\"),\n",
    "#     source_or_target_dataset=\"target\",\n",
    "#     x_transform_func=global_x_transform_func,\n",
    "#     domain_modifier=lambda u: f\"wisig_{u}\"\n",
    "# )"
   ]
  },
  {
   "cell_type": "code",
   "execution_count": 19,
   "id": "fd5442bc",
   "metadata": {
    "execution": {
     "iopub.execute_input": "2022-03-29T20:52:39.826576Z",
     "iopub.status.busy": "2022-03-29T20:52:39.826324Z",
     "iopub.status.idle": "2022-03-29T20:52:39.833660Z",
     "shell.execute_reply": "2022-03-29T20:52:39.834093Z"
    },
    "papermill": {
     "duration": 0.031803,
     "end_time": "2022-03-29T20:52:39.834212",
     "exception": false,
     "start_time": "2022-03-29T20:52:39.802409",
     "status": "completed"
    },
    "tags": []
   },
   "outputs": [],
   "source": [
    "###################################\n",
    "# Build the dataset\n",
    "###################################\n",
    "train_original_source = Iterable_Aggregator(train_original_source, p.seed)\n",
    "val_original_source = Iterable_Aggregator(val_original_source, p.seed)\n",
    "test_original_source = Iterable_Aggregator(test_original_source, p.seed)\n",
    "\n",
    "\n",
    "train_original_target = Iterable_Aggregator(train_original_target, p.seed)\n",
    "val_original_target = Iterable_Aggregator(val_original_target, p.seed)\n",
    "test_original_target = Iterable_Aggregator(test_original_target, p.seed)\n",
    "\n",
    "# For CNN We only use X and Y. And we only train on the source.\n",
    "# Properly form the data using a transform lambda and Lazy_Iterable_Wrapper. Finally wrap them in a dataloader\n",
    "\n",
    "transform_lambda = lambda ex: ex[1] # Original is (<domain>, <episode>) so we strip down to episode only\n",
    "\n",
    "train_processed_source = Lazy_Iterable_Wrapper(train_original_source, transform_lambda)\n",
    "val_processed_source   = Lazy_Iterable_Wrapper(val_original_source, transform_lambda)\n",
    "test_processed_source  = Lazy_Iterable_Wrapper(test_original_source, transform_lambda)\n",
    "\n",
    "train_processed_target = Lazy_Iterable_Wrapper(train_original_target, transform_lambda)\n",
    "val_processed_target   = Lazy_Iterable_Wrapper(val_original_target, transform_lambda)\n",
    "test_processed_target  = Lazy_Iterable_Wrapper(test_original_target, transform_lambda)\n",
    "\n",
    "datasets = EasyDict({\n",
    "    \"source\": {\n",
    "        \"original\": {\"train\":train_original_source, \"val\":val_original_source, \"test\":test_original_source},\n",
    "        \"processed\": {\"train\":train_processed_source, \"val\":val_processed_source, \"test\":test_processed_source}\n",
    "    },\n",
    "    \"target\": {\n",
    "        \"original\": {\"train\":train_original_target, \"val\":val_original_target, \"test\":test_original_target},\n",
    "        \"processed\": {\"train\":train_processed_target, \"val\":val_processed_target, \"test\":test_processed_target}\n",
    "    },\n",
    "})"
   ]
  },
  {
   "cell_type": "code",
   "execution_count": 20,
   "id": "5b3c01fc",
   "metadata": {
    "execution": {
     "iopub.execute_input": "2022-03-29T20:52:39.870360Z",
     "iopub.status.busy": "2022-03-29T20:52:39.870093Z",
     "iopub.status.idle": "2022-03-29T20:53:05.053500Z",
     "shell.execute_reply": "2022-03-29T20:53:05.053862Z"
    },
    "papermill": {
     "duration": 25.200213,
     "end_time": "2022-03-29T20:53:05.053968",
     "exception": false,
     "start_time": "2022-03-29T20:52:39.853755",
     "status": "completed"
    },
    "tags": []
   },
   "outputs": [
    {
     "name": "stdout",
     "output_type": "stream",
     "text": [
      "{'ORACLE.run2_50', 'ORACLE.run2_38', 'ORACLE.run2_20', 'ORACLE.run2_26', 'ORACLE.run2_14', 'ORACLE.run2_32', 'ORACLE.run2_44', 'ORACLE.run2_8'}\n"
     ]
    },
    {
     "name": "stdout",
     "output_type": "stream",
     "text": [
      "{'ORACLE.run1_14', 'ORACLE.run1_38', 'ORACLE.run1_20', 'ORACLE.run1_44', 'ORACLE.run1_26', 'ORACLE.run1_32', 'ORACLE.run1_8', 'ORACLE.run1_50'}\n"
     ]
    },
    {
     "name": "stdout",
     "output_type": "stream",
     "text": [
      "tensor([[[ 0.3782, -0.4778, -1.5129,  ..., -1.0750, -0.3185,  0.6370],\n",
      "         [ 0.4579, -0.2190,  0.3782,  ...,  0.5574,  0.0398,  0.8958]],\n",
      "\n",
      "        [[ 1.0162, -0.3835, -0.4218,  ..., -0.3260,  0.5752,  0.8628],\n",
      "         [ 0.3643,  0.2493, -0.0959,  ..., -0.0575, -0.6136, -1.0546]],\n",
      "\n",
      "        [[ 0.2806,  1.1037, -0.0187,  ..., -0.2432,  1.1599,  0.1310],\n",
      "         [-0.9354, -0.3554, -1.4218,  ...,  1.1973, -0.3367, -1.4218]],\n",
      "\n",
      "        ...,\n",
      "\n",
      "        [[-0.2163, -0.6655, -0.0166,  ...,  0.2828,  0.8652,  0.5490],\n",
      "         [-0.2496, -0.8984,  0.8984,  ...,  1.1147,  1.4475, -0.5324]],\n",
      "\n",
      "        [[ 0.5835,  0.0172,  0.0343,  ..., -1.1155, -0.7551,  0.0000],\n",
      "         [-1.3043, -0.0858,  0.8924,  ...,  0.7551,  0.4290, -1.0125]],\n",
      "\n",
      "        [[ 1.3633,  0.4260, -1.0395,  ..., -0.1704, -0.2215, -0.3067],\n",
      "         [ 0.6305,  1.9938,  0.3579,  ...,  0.3919, -0.3919, -0.2727]]])\n"
     ]
    }
   ],
   "source": [
    "from steves_utils.transforms import get_average_magnitude, get_average_power\n",
    "\n",
    "print(set([u for u,_ in val_original_source]))\n",
    "print(set([u for u,_ in val_original_target]))\n",
    "\n",
    "s_x, s_y, q_x, q_y, _ = next(iter(train_processed_source))\n",
    "print(s_x)\n",
    "\n",
    "# for ds in [\n",
    "#     train_processed_source,\n",
    "#     val_processed_source,\n",
    "#     test_processed_source,\n",
    "#     train_processed_target,\n",
    "#     val_processed_target,\n",
    "#     test_processed_target\n",
    "# ]:\n",
    "#     for s_x, s_y, q_x, q_y, _ in ds:\n",
    "#         for X in (s_x, q_x):\n",
    "#             for x in X:\n",
    "#                 assert np.isclose(get_average_magnitude(x.numpy()), 1.0)\n",
    "#                 assert np.isclose(get_average_power(x.numpy()), 1.0)\n",
    "                "
   ]
  },
  {
   "cell_type": "code",
   "execution_count": 21,
   "id": "bbdacba1",
   "metadata": {
    "execution": {
     "iopub.execute_input": "2022-03-29T20:53:05.095007Z",
     "iopub.status.busy": "2022-03-29T20:53:05.089123Z",
     "iopub.status.idle": "2022-03-29T20:53:05.146324Z",
     "shell.execute_reply": "2022-03-29T20:53:05.145900Z"
    },
    "papermill": {
     "duration": 0.075095,
     "end_time": "2022-03-29T20:53:05.146422",
     "exception": false,
     "start_time": "2022-03-29T20:53:05.071327",
     "status": "completed"
    },
    "tags": []
   },
   "outputs": [
    {
     "name": "stdout",
     "output_type": "stream",
     "text": [
      "(2, 256)\n"
     ]
    }
   ],
   "source": [
    "###################################\n",
    "# Build the model\n",
    "###################################\n",
    "# easfsl only wants a tuple for the shape\n",
    "model = Steves_Prototypical_Network(x_net, device=p.device, x_shape=tuple(p.x_shape))\n",
    "optimizer = Adam(params=model.parameters(), lr=p.lr)"
   ]
  },
  {
   "cell_type": "code",
   "execution_count": 22,
   "id": "22b39ac5",
   "metadata": {
    "execution": {
     "iopub.execute_input": "2022-03-29T20:53:05.180584Z",
     "iopub.status.busy": "2022-03-29T20:53:05.180341Z",
     "iopub.status.idle": "2022-03-29T23:40:37.047628Z",
     "shell.execute_reply": "2022-03-29T23:40:37.047395Z"
    },
    "papermill": {
     "duration": 10051.884538,
     "end_time": "2022-03-29T23:40:37.047689",
     "exception": false,
     "start_time": "2022-03-29T20:53:05.163151",
     "status": "completed"
    },
    "tags": []
   },
   "outputs": [
    {
     "name": "stdout",
     "output_type": "stream",
     "text": [
      "epoch: 1, [batch: 1 / 33600], examples_per_second: 9.9577, train_label_loss: 2.7575, \n"
     ]
    },
    {
     "name": "stdout",
     "output_type": "stream",
     "text": [
      "epoch: 1, [batch: 3360 / 33600], examples_per_second: 3211.3046, train_label_loss: 1.2853, \n"
     ]
    },
    {
     "name": "stdout",
     "output_type": "stream",
     "text": [
      "epoch: 1, [batch: 6720 / 33600], examples_per_second: 3205.6255, train_label_loss: 0.6931, \n"
     ]
    },
    {
     "name": "stdout",
     "output_type": "stream",
     "text": [
      "epoch: 1, [batch: 10080 / 33600], examples_per_second: 3207.3250, train_label_loss: 1.4642, \n"
     ]
    },
    {
     "name": "stdout",
     "output_type": "stream",
     "text": [
      "epoch: 1, [batch: 13440 / 33600], examples_per_second: 3199.5094, train_label_loss: 0.8293, \n"
     ]
    },
    {
     "name": "stdout",
     "output_type": "stream",
     "text": [
      "epoch: 1, [batch: 16800 / 33600], examples_per_second: 3210.7468, train_label_loss: 0.4868, \n"
     ]
    },
    {
     "name": "stdout",
     "output_type": "stream",
     "text": [
      "epoch: 1, [batch: 20160 / 33600], examples_per_second: 3210.2366, train_label_loss: 0.8174, \n"
     ]
    },
    {
     "name": "stdout",
     "output_type": "stream",
     "text": [
      "epoch: 1, [batch: 23520 / 33600], examples_per_second: 3207.3089, train_label_loss: 1.4877, \n"
     ]
    },
    {
     "name": "stdout",
     "output_type": "stream",
     "text": [
      "epoch: 1, [batch: 26880 / 33600], examples_per_second: 3208.0896, train_label_loss: 1.3999, \n"
     ]
    },
    {
     "name": "stdout",
     "output_type": "stream",
     "text": [
      "epoch: 1, [batch: 30240 / 33600], examples_per_second: 3206.3068, train_label_loss: 0.7905, \n"
     ]
    },
    {
     "name": "stdout",
     "output_type": "stream",
     "text": [
      "=============================================================\n",
      "epoch: 1, source_val_acc_label: 0.6381, target_val_acc_label: 0.6502, source_val_label_loss: 0.9795, target_val_label_loss: 0.9459, \n",
      "=============================================================\n"
     ]
    },
    {
     "name": "stdout",
     "output_type": "stream",
     "text": [
      "New best\n"
     ]
    },
    {
     "name": "stdout",
     "output_type": "stream",
     "text": [
      "epoch: 2, [batch: 1 / 33600], examples_per_second: 0.9631, train_label_loss: 1.3353, \n"
     ]
    },
    {
     "name": "stdout",
     "output_type": "stream",
     "text": [
      "epoch: 2, [batch: 3360 / 33600], examples_per_second: 3231.1013, train_label_loss: 0.6928, \n"
     ]
    },
    {
     "name": "stdout",
     "output_type": "stream",
     "text": [
      "epoch: 2, [batch: 6720 / 33600], examples_per_second: 3234.0986, train_label_loss: 0.7341, \n"
     ]
    },
    {
     "name": "stdout",
     "output_type": "stream",
     "text": [
      "epoch: 2, [batch: 10080 / 33600], examples_per_second: 3240.2359, train_label_loss: 1.3279, \n"
     ]
    },
    {
     "name": "stdout",
     "output_type": "stream",
     "text": [
      "epoch: 2, [batch: 13440 / 33600], examples_per_second: 3227.1321, train_label_loss: 0.4556, \n"
     ]
    },
    {
     "name": "stdout",
     "output_type": "stream",
     "text": [
      "epoch: 2, [batch: 16800 / 33600], examples_per_second: 3239.2878, train_label_loss: 0.7906, \n"
     ]
    },
    {
     "name": "stdout",
     "output_type": "stream",
     "text": [
      "epoch: 2, [batch: 20160 / 33600], examples_per_second: 3248.8991, train_label_loss: 0.8558, \n"
     ]
    },
    {
     "name": "stdout",
     "output_type": "stream",
     "text": [
      "epoch: 2, [batch: 23520 / 33600], examples_per_second: 3221.1930, train_label_loss: 0.8920, \n"
     ]
    },
    {
     "name": "stdout",
     "output_type": "stream",
     "text": [
      "epoch: 2, [batch: 26880 / 33600], examples_per_second: 3245.8968, train_label_loss: 1.4959, \n"
     ]
    },
    {
     "name": "stdout",
     "output_type": "stream",
     "text": [
      "epoch: 2, [batch: 30240 / 33600], examples_per_second: 3243.5802, train_label_loss: 0.4900, \n"
     ]
    },
    {
     "name": "stdout",
     "output_type": "stream",
     "text": [
      "=============================================================\n",
      "epoch: 2, source_val_acc_label: 0.6627, target_val_acc_label: 0.6710, source_val_label_loss: 0.8998, target_val_label_loss: 0.8669, \n",
      "=============================================================\n"
     ]
    },
    {
     "name": "stdout",
     "output_type": "stream",
     "text": [
      "New best\n"
     ]
    },
    {
     "name": "stdout",
     "output_type": "stream",
     "text": [
      "epoch: 3, [batch: 1 / 33600], examples_per_second: 0.9698, train_label_loss: 0.4173, \n"
     ]
    },
    {
     "name": "stdout",
     "output_type": "stream",
     "text": [
      "epoch: 3, [batch: 3360 / 33600], examples_per_second: 3233.5995, train_label_loss: 0.9274, \n"
     ]
    },
    {
     "name": "stdout",
     "output_type": "stream",
     "text": [
      "epoch: 3, [batch: 6720 / 33600], examples_per_second: 3240.9680, train_label_loss: 1.3473, \n"
     ]
    },
    {
     "name": "stdout",
     "output_type": "stream",
     "text": [
      "epoch: 3, [batch: 10080 / 33600], examples_per_second: 3226.8821, train_label_loss: 0.4772, \n"
     ]
    },
    {
     "name": "stdout",
     "output_type": "stream",
     "text": [
      "epoch: 3, [batch: 13440 / 33600], examples_per_second: 3230.1020, train_label_loss: 0.8237, \n"
     ]
    },
    {
     "name": "stdout",
     "output_type": "stream",
     "text": [
      "epoch: 3, [batch: 16800 / 33600], examples_per_second: 3246.7577, train_label_loss: 0.7215, \n"
     ]
    },
    {
     "name": "stdout",
     "output_type": "stream",
     "text": [
      "epoch: 3, [batch: 20160 / 33600], examples_per_second: 3242.3314, train_label_loss: 0.5102, \n"
     ]
    },
    {
     "name": "stdout",
     "output_type": "stream",
     "text": [
      "epoch: 3, [batch: 23520 / 33600], examples_per_second: 3231.8471, train_label_loss: 1.0796, \n"
     ]
    },
    {
     "name": "stdout",
     "output_type": "stream",
     "text": [
      "epoch: 3, [batch: 26880 / 33600], examples_per_second: 3237.7467, train_label_loss: 0.5731, \n"
     ]
    },
    {
     "name": "stdout",
     "output_type": "stream",
     "text": [
      "epoch: 3, [batch: 30240 / 33600], examples_per_second: 3239.4873, train_label_loss: 1.1813, \n"
     ]
    },
    {
     "name": "stdout",
     "output_type": "stream",
     "text": [
      "=============================================================\n",
      "epoch: 3, source_val_acc_label: 0.6905, target_val_acc_label: 0.7005, source_val_label_loss: 0.8309, target_val_label_loss: 0.8009, \n",
      "=============================================================\n"
     ]
    },
    {
     "name": "stdout",
     "output_type": "stream",
     "text": [
      "New best\n"
     ]
    },
    {
     "name": "stdout",
     "output_type": "stream",
     "text": [
      "epoch: 4, [batch: 1 / 33600], examples_per_second: 0.9672, train_label_loss: 0.9893, \n"
     ]
    },
    {
     "name": "stdout",
     "output_type": "stream",
     "text": [
      "epoch: 4, [batch: 3360 / 33600], examples_per_second: 3234.3702, train_label_loss: 0.5537, \n"
     ]
    },
    {
     "name": "stdout",
     "output_type": "stream",
     "text": [
      "epoch: 4, [batch: 6720 / 33600], examples_per_second: 3234.6698, train_label_loss: 1.1041, \n"
     ]
    },
    {
     "name": "stdout",
     "output_type": "stream",
     "text": [
      "epoch: 4, [batch: 10080 / 33600], examples_per_second: 3234.4702, train_label_loss: 0.9088, \n"
     ]
    },
    {
     "name": "stdout",
     "output_type": "stream",
     "text": [
      "epoch: 4, [batch: 13440 / 33600], examples_per_second: 3225.6441, train_label_loss: 0.5191, \n"
     ]
    },
    {
     "name": "stdout",
     "output_type": "stream",
     "text": [
      "epoch: 4, [batch: 16800 / 33600], examples_per_second: 3243.6665, train_label_loss: 0.6037, \n"
     ]
    },
    {
     "name": "stdout",
     "output_type": "stream",
     "text": [
      "epoch: 4, [batch: 20160 / 33600], examples_per_second: 3248.6514, train_label_loss: 0.7015, \n"
     ]
    },
    {
     "name": "stdout",
     "output_type": "stream",
     "text": [
      "epoch: 4, [batch: 23520 / 33600], examples_per_second: 3229.0300, train_label_loss: 1.0392, \n"
     ]
    },
    {
     "name": "stdout",
     "output_type": "stream",
     "text": [
      "epoch: 4, [batch: 26880 / 33600], examples_per_second: 3233.7329, train_label_loss: 0.3009, \n"
     ]
    },
    {
     "name": "stdout",
     "output_type": "stream",
     "text": [
      "epoch: 4, [batch: 30240 / 33600], examples_per_second: 3216.7478, train_label_loss: 0.8391, \n"
     ]
    },
    {
     "name": "stdout",
     "output_type": "stream",
     "text": [
      "=============================================================\n",
      "epoch: 4, source_val_acc_label: 0.7148, target_val_acc_label: 0.7197, source_val_label_loss: 0.7861, target_val_label_loss: 0.7591, \n",
      "=============================================================\n"
     ]
    },
    {
     "name": "stdout",
     "output_type": "stream",
     "text": [
      "New best\n"
     ]
    },
    {
     "name": "stdout",
     "output_type": "stream",
     "text": [
      "epoch: 5, [batch: 1 / 33600], examples_per_second: 0.9690, train_label_loss: 0.8809, \n"
     ]
    },
    {
     "name": "stdout",
     "output_type": "stream",
     "text": [
      "epoch: 5, [batch: 3360 / 33600], examples_per_second: 3227.6514, train_label_loss: 0.4496, \n"
     ]
    },
    {
     "name": "stdout",
     "output_type": "stream",
     "text": [
      "epoch: 5, [batch: 6720 / 33600], examples_per_second: 3235.5921, train_label_loss: 0.7595, \n"
     ]
    },
    {
     "name": "stdout",
     "output_type": "stream",
     "text": [
      "epoch: 5, [batch: 10080 / 33600], examples_per_second: 3239.4629, train_label_loss: 0.6538, \n"
     ]
    },
    {
     "name": "stdout",
     "output_type": "stream",
     "text": [
      "epoch: 5, [batch: 13440 / 33600], examples_per_second: 3229.4723, train_label_loss: 0.4815, \n"
     ]
    },
    {
     "name": "stdout",
     "output_type": "stream",
     "text": [
      "epoch: 5, [batch: 16800 / 33600], examples_per_second: 3240.2788, train_label_loss: 1.0133, \n"
     ]
    },
    {
     "name": "stdout",
     "output_type": "stream",
     "text": [
      "epoch: 5, [batch: 20160 / 33600], examples_per_second: 3244.4167, train_label_loss: 0.5097, \n"
     ]
    },
    {
     "name": "stdout",
     "output_type": "stream",
     "text": [
      "epoch: 5, [batch: 23520 / 33600], examples_per_second: 3233.7469, train_label_loss: 0.8784, \n"
     ]
    },
    {
     "name": "stdout",
     "output_type": "stream",
     "text": [
      "epoch: 5, [batch: 26880 / 33600], examples_per_second: 3238.8857, train_label_loss: 0.5217, \n"
     ]
    },
    {
     "name": "stdout",
     "output_type": "stream",
     "text": [
      "epoch: 5, [batch: 30240 / 33600], examples_per_second: 3244.6740, train_label_loss: 0.7075, \n"
     ]
    },
    {
     "name": "stdout",
     "output_type": "stream",
     "text": [
      "=============================================================\n",
      "epoch: 5, source_val_acc_label: 0.7209, target_val_acc_label: 0.7239, source_val_label_loss: 0.7703, target_val_label_loss: 0.7458, \n",
      "=============================================================\n"
     ]
    },
    {
     "name": "stdout",
     "output_type": "stream",
     "text": [
      "New best\n"
     ]
    },
    {
     "name": "stdout",
     "output_type": "stream",
     "text": [
      "epoch: 6, [batch: 1 / 33600], examples_per_second: 0.9685, train_label_loss: 0.2558, \n"
     ]
    },
    {
     "name": "stdout",
     "output_type": "stream",
     "text": [
      "epoch: 6, [batch: 3360 / 33600], examples_per_second: 3228.7640, train_label_loss: 0.9668, \n"
     ]
    },
    {
     "name": "stdout",
     "output_type": "stream",
     "text": [
      "epoch: 6, [batch: 6720 / 33600], examples_per_second: 3241.5522, train_label_loss: 0.5599, \n"
     ]
    },
    {
     "name": "stdout",
     "output_type": "stream",
     "text": [
      "epoch: 6, [batch: 10080 / 33600], examples_per_second: 3231.0025, train_label_loss: 0.6253, \n"
     ]
    },
    {
     "name": "stdout",
     "output_type": "stream",
     "text": [
      "epoch: 6, [batch: 13440 / 33600], examples_per_second: 3231.7424, train_label_loss: 0.4484, \n"
     ]
    },
    {
     "name": "stdout",
     "output_type": "stream",
     "text": [
      "epoch: 6, [batch: 16800 / 33600], examples_per_second: 3245.7775, train_label_loss: 0.3975, \n"
     ]
    },
    {
     "name": "stdout",
     "output_type": "stream",
     "text": [
      "epoch: 6, [batch: 20160 / 33600], examples_per_second: 3238.4064, train_label_loss: 1.0212, \n"
     ]
    },
    {
     "name": "stdout",
     "output_type": "stream",
     "text": [
      "epoch: 6, [batch: 23520 / 33600], examples_per_second: 3231.9620, train_label_loss: 0.5447, \n"
     ]
    },
    {
     "name": "stdout",
     "output_type": "stream",
     "text": [
      "epoch: 6, [batch: 26880 / 33600], examples_per_second: 3238.1356, train_label_loss: 0.5131, \n"
     ]
    },
    {
     "name": "stdout",
     "output_type": "stream",
     "text": [
      "epoch: 6, [batch: 30240 / 33600], examples_per_second: 3239.9869, train_label_loss: 0.4526, \n"
     ]
    },
    {
     "name": "stdout",
     "output_type": "stream",
     "text": [
      "=============================================================\n",
      "epoch: 6, source_val_acc_label: 0.7275, target_val_acc_label: 0.7294, source_val_label_loss: 0.7549, target_val_label_loss: 0.7338, \n",
      "=============================================================\n"
     ]
    },
    {
     "name": "stdout",
     "output_type": "stream",
     "text": [
      "New best\n"
     ]
    },
    {
     "name": "stdout",
     "output_type": "stream",
     "text": [
      "epoch: 7, [batch: 1 / 33600], examples_per_second: 0.9658, train_label_loss: 0.2627, \n"
     ]
    },
    {
     "name": "stdout",
     "output_type": "stream",
     "text": [
      "epoch: 7, [batch: 3360 / 33600], examples_per_second: 3233.2145, train_label_loss: 0.4170, \n"
     ]
    },
    {
     "name": "stdout",
     "output_type": "stream",
     "text": [
      "epoch: 7, [batch: 6720 / 33600], examples_per_second: 3227.9101, train_label_loss: 0.4446, \n"
     ]
    },
    {
     "name": "stdout",
     "output_type": "stream",
     "text": [
      "epoch: 7, [batch: 10080 / 33600], examples_per_second: 3224.7349, train_label_loss: 0.8189, \n"
     ]
    },
    {
     "name": "stdout",
     "output_type": "stream",
     "text": [
      "epoch: 7, [batch: 13440 / 33600], examples_per_second: 3233.5969, train_label_loss: 0.8152, \n"
     ]
    },
    {
     "name": "stdout",
     "output_type": "stream",
     "text": [
      "epoch: 7, [batch: 16800 / 33600], examples_per_second: 3242.0738, train_label_loss: 0.2945, \n"
     ]
    },
    {
     "name": "stdout",
     "output_type": "stream",
     "text": [
      "epoch: 7, [batch: 20160 / 33600], examples_per_second: 3234.6083, train_label_loss: 0.5583, \n"
     ]
    },
    {
     "name": "stdout",
     "output_type": "stream",
     "text": [
      "epoch: 7, [batch: 23520 / 33600], examples_per_second: 3232.5993, train_label_loss: 0.6134, \n"
     ]
    },
    {
     "name": "stdout",
     "output_type": "stream",
     "text": [
      "epoch: 7, [batch: 26880 / 33600], examples_per_second: 3237.4679, train_label_loss: 0.6462, \n"
     ]
    },
    {
     "name": "stdout",
     "output_type": "stream",
     "text": [
      "epoch: 7, [batch: 30240 / 33600], examples_per_second: 3242.8947, train_label_loss: 0.4414, \n"
     ]
    },
    {
     "name": "stdout",
     "output_type": "stream",
     "text": [
      "=============================================================\n",
      "epoch: 7, source_val_acc_label: 0.7327, target_val_acc_label: 0.7358, source_val_label_loss: 0.7713, target_val_label_loss: 0.7517, \n",
      "=============================================================\n"
     ]
    },
    {
     "name": "stdout",
     "output_type": "stream",
     "text": [
      "New best\n"
     ]
    },
    {
     "name": "stdout",
     "output_type": "stream",
     "text": [
      "epoch: 8, [batch: 1 / 33600], examples_per_second: 0.9683, train_label_loss: 0.4658, \n"
     ]
    },
    {
     "name": "stdout",
     "output_type": "stream",
     "text": [
      "epoch: 8, [batch: 3360 / 33600], examples_per_second: 3229.8007, train_label_loss: 0.3488, \n"
     ]
    },
    {
     "name": "stdout",
     "output_type": "stream",
     "text": [
      "epoch: 8, [batch: 6720 / 33600], examples_per_second: 3221.9145, train_label_loss: 0.3999, \n"
     ]
    },
    {
     "name": "stdout",
     "output_type": "stream",
     "text": [
      "epoch: 8, [batch: 10080 / 33600], examples_per_second: 3226.1475, train_label_loss: 0.3660, \n"
     ]
    },
    {
     "name": "stdout",
     "output_type": "stream",
     "text": [
      "epoch: 8, [batch: 13440 / 33600], examples_per_second: 3229.1259, train_label_loss: 0.3411, \n"
     ]
    },
    {
     "name": "stdout",
     "output_type": "stream",
     "text": [
      "epoch: 8, [batch: 16800 / 33600], examples_per_second: 3244.9068, train_label_loss: 0.6642, \n"
     ]
    },
    {
     "name": "stdout",
     "output_type": "stream",
     "text": [
      "epoch: 8, [batch: 20160 / 33600], examples_per_second: 3240.1925, train_label_loss: 0.3238, \n"
     ]
    },
    {
     "name": "stdout",
     "output_type": "stream",
     "text": [
      "epoch: 8, [batch: 23520 / 33600], examples_per_second: 3230.5507, train_label_loss: 0.3354, \n"
     ]
    },
    {
     "name": "stdout",
     "output_type": "stream",
     "text": [
      "epoch: 8, [batch: 26880 / 33600], examples_per_second: 3235.9473, train_label_loss: 0.7904, \n"
     ]
    },
    {
     "name": "stdout",
     "output_type": "stream",
     "text": [
      "epoch: 8, [batch: 30240 / 33600], examples_per_second: 3249.4168, train_label_loss: 0.2217, \n"
     ]
    },
    {
     "name": "stdout",
     "output_type": "stream",
     "text": [
      "=============================================================\n",
      "epoch: 8, source_val_acc_label: 0.7343, target_val_acc_label: 0.7353, source_val_label_loss: 0.7624, target_val_label_loss: 0.7469, \n",
      "=============================================================\n"
     ]
    },
    {
     "name": "stdout",
     "output_type": "stream",
     "text": [
      "epoch: 9, [batch: 1 / 33600], examples_per_second: 0.9657, train_label_loss: 0.3356, \n"
     ]
    },
    {
     "name": "stdout",
     "output_type": "stream",
     "text": [
      "epoch: 9, [batch: 3360 / 33600], examples_per_second: 3232.1646, train_label_loss: 0.5513, \n"
     ]
    },
    {
     "name": "stdout",
     "output_type": "stream",
     "text": [
      "epoch: 9, [batch: 6720 / 33600], examples_per_second: 3229.8834, train_label_loss: 0.4645, \n"
     ]
    },
    {
     "name": "stdout",
     "output_type": "stream",
     "text": [
      "epoch: 9, [batch: 10080 / 33600], examples_per_second: 3236.8477, train_label_loss: 0.3164, \n"
     ]
    },
    {
     "name": "stdout",
     "output_type": "stream",
     "text": [
      "epoch: 9, [batch: 13440 / 33600], examples_per_second: 3227.9573, train_label_loss: 0.4863, \n"
     ]
    },
    {
     "name": "stdout",
     "output_type": "stream",
     "text": [
      "epoch: 9, [batch: 16800 / 33600], examples_per_second: 3232.7867, train_label_loss: 0.3021, \n"
     ]
    },
    {
     "name": "stdout",
     "output_type": "stream",
     "text": [
      "epoch: 9, [batch: 20160 / 33600], examples_per_second: 3241.0867, train_label_loss: 0.1037, \n"
     ]
    },
    {
     "name": "stdout",
     "output_type": "stream",
     "text": [
      "epoch: 9, [batch: 23520 / 33600], examples_per_second: 3221.6877, train_label_loss: 0.3945, \n"
     ]
    },
    {
     "name": "stdout",
     "output_type": "stream",
     "text": [
      "epoch: 9, [batch: 26880 / 33600], examples_per_second: 3236.3828, train_label_loss: 0.7504, \n"
     ]
    },
    {
     "name": "stdout",
     "output_type": "stream",
     "text": [
      "epoch: 9, [batch: 30240 / 33600], examples_per_second: 3238.9136, train_label_loss: 0.4585, \n"
     ]
    },
    {
     "name": "stdout",
     "output_type": "stream",
     "text": [
      "=============================================================\n",
      "epoch: 9, source_val_acc_label: 0.7352, target_val_acc_label: 0.7351, source_val_label_loss: 0.7792, target_val_label_loss: 0.7685, \n",
      "=============================================================\n"
     ]
    },
    {
     "name": "stdout",
     "output_type": "stream",
     "text": [
      "epoch: 10, [batch: 1 / 33600], examples_per_second: 0.9657, train_label_loss: 0.3649, \n"
     ]
    },
    {
     "name": "stdout",
     "output_type": "stream",
     "text": [
      "epoch: 10, [batch: 3360 / 33600], examples_per_second: 3233.0701, train_label_loss: 0.1845, \n"
     ]
    },
    {
     "name": "stdout",
     "output_type": "stream",
     "text": [
      "epoch: 10, [batch: 6720 / 33600], examples_per_second: 3231.2199, train_label_loss: 0.4482, \n"
     ]
    },
    {
     "name": "stdout",
     "output_type": "stream",
     "text": [
      "epoch: 10, [batch: 10080 / 33600], examples_per_second: 3228.0343, train_label_loss: 0.5199, \n"
     ]
    },
    {
     "name": "stdout",
     "output_type": "stream",
     "text": [
      "epoch: 10, [batch: 13440 / 33600], examples_per_second: 3230.0472, train_label_loss: 0.1897, \n"
     ]
    },
    {
     "name": "stdout",
     "output_type": "stream",
     "text": [
      "epoch: 10, [batch: 16800 / 33600], examples_per_second: 3231.1172, train_label_loss: 0.1546, \n"
     ]
    },
    {
     "name": "stdout",
     "output_type": "stream",
     "text": [
      "epoch: 10, [batch: 20160 / 33600], examples_per_second: 3242.7192, train_label_loss: 0.2944, \n"
     ]
    },
    {
     "name": "stdout",
     "output_type": "stream",
     "text": [
      "epoch: 10, [batch: 23520 / 33600], examples_per_second: 3231.6478, train_label_loss: 0.2497, \n"
     ]
    },
    {
     "name": "stdout",
     "output_type": "stream",
     "text": [
      "epoch: 10, [batch: 26880 / 33600], examples_per_second: 3243.3964, train_label_loss: 0.2459, \n"
     ]
    },
    {
     "name": "stdout",
     "output_type": "stream",
     "text": [
      "epoch: 10, [batch: 30240 / 33600], examples_per_second: 3248.9053, train_label_loss: 0.3320, \n"
     ]
    },
    {
     "name": "stdout",
     "output_type": "stream",
     "text": [
      "=============================================================\n",
      "epoch: 10, source_val_acc_label: 0.7331, target_val_acc_label: 0.7309, source_val_label_loss: 0.7991, target_val_label_loss: 0.7863, \n",
      "=============================================================\n"
     ]
    },
    {
     "name": "stdout",
     "output_type": "stream",
     "text": [
      "epoch: 11, [batch: 1 / 33600], examples_per_second: 0.9621, train_label_loss: 0.3931, \n"
     ]
    },
    {
     "name": "stdout",
     "output_type": "stream",
     "text": [
      "epoch: 11, [batch: 3360 / 33600], examples_per_second: 3228.6614, train_label_loss: 0.4744, \n"
     ]
    },
    {
     "name": "stdout",
     "output_type": "stream",
     "text": [
      "epoch: 11, [batch: 6720 / 33600], examples_per_second: 3236.9373, train_label_loss: 0.3887, \n"
     ]
    },
    {
     "name": "stdout",
     "output_type": "stream",
     "text": [
      "epoch: 11, [batch: 10080 / 33600], examples_per_second: 3234.6479, train_label_loss: 0.3488, \n"
     ]
    },
    {
     "name": "stdout",
     "output_type": "stream",
     "text": [
      "epoch: 11, [batch: 13440 / 33600], examples_per_second: 3227.2170, train_label_loss: 0.3539, \n"
     ]
    },
    {
     "name": "stdout",
     "output_type": "stream",
     "text": [
      "epoch: 11, [batch: 16800 / 33600], examples_per_second: 3237.6723, train_label_loss: 0.1875, \n"
     ]
    },
    {
     "name": "stdout",
     "output_type": "stream",
     "text": [
      "epoch: 11, [batch: 20160 / 33600], examples_per_second: 3237.2022, train_label_loss: 0.3376, \n"
     ]
    },
    {
     "name": "stdout",
     "output_type": "stream",
     "text": [
      "epoch: 11, [batch: 23520 / 33600], examples_per_second: 3230.9298, train_label_loss: 0.4085, \n"
     ]
    },
    {
     "name": "stdout",
     "output_type": "stream",
     "text": [
      "epoch: 11, [batch: 26880 / 33600], examples_per_second: 3246.5918, train_label_loss: 0.2351, \n"
     ]
    },
    {
     "name": "stdout",
     "output_type": "stream",
     "text": [
      "epoch: 11, [batch: 30240 / 33600], examples_per_second: 3241.4290, train_label_loss: 0.5033, \n"
     ]
    },
    {
     "name": "stdout",
     "output_type": "stream",
     "text": [
      "=============================================================\n",
      "epoch: 11, source_val_acc_label: 0.7307, target_val_acc_label: 0.7285, source_val_label_loss: 0.8114, target_val_label_loss: 0.8082, \n",
      "=============================================================\n"
     ]
    },
    {
     "name": "stdout",
     "output_type": "stream",
     "text": [
      "Patience (3) exhausted\n"
     ]
    }
   ],
   "source": [
    "###################################\n",
    "# train\n",
    "###################################\n",
    "jig = PTN_Train_Eval_Test_Jig(model, p.BEST_MODEL_PATH, p.device)\n",
    "\n",
    "jig.train(\n",
    "    train_iterable=datasets.source.processed.train,\n",
    "    source_val_iterable=datasets.source.processed.val,\n",
    "    target_val_iterable=datasets.target.processed.val,\n",
    "    num_epochs=p.n_epoch,\n",
    "    num_logs_per_epoch=p.NUM_LOGS_PER_EPOCH,\n",
    "    patience=p.patience,\n",
    "    optimizer=optimizer,\n",
    "    criteria_for_best=p.criteria_for_best,\n",
    ")"
   ]
  },
  {
   "cell_type": "code",
   "execution_count": 23,
   "id": "31e8fabf",
   "metadata": {
    "execution": {
     "iopub.execute_input": "2022-03-29T23:40:37.126790Z",
     "iopub.status.busy": "2022-03-29T23:40:37.125774Z",
     "iopub.status.idle": "2022-03-29T23:40:37.145269Z",
     "shell.execute_reply": "2022-03-29T23:40:37.144730Z"
    },
    "papermill": {
     "duration": 0.060303,
     "end_time": "2022-03-29T23:40:37.145385",
     "exception": false,
     "start_time": "2022-03-29T23:40:37.085082",
     "status": "completed"
    },
    "tags": []
   },
   "outputs": [],
   "source": [
    "total_experiment_time_secs = time.time() - start_time_secs"
   ]
  },
  {
   "cell_type": "code",
   "execution_count": 24,
   "id": "87b9595b",
   "metadata": {
    "execution": {
     "iopub.execute_input": "2022-03-29T23:40:37.234344Z",
     "iopub.status.busy": "2022-03-29T23:40:37.233520Z",
     "iopub.status.idle": "2022-03-29T23:48:39.234029Z",
     "shell.execute_reply": "2022-03-29T23:48:39.234494Z"
    },
    "papermill": {
     "duration": 482.044441,
     "end_time": "2022-03-29T23:48:39.234634",
     "exception": false,
     "start_time": "2022-03-29T23:40:37.190193",
     "status": "completed"
    },
    "tags": []
   },
   "outputs": [],
   "source": [
    "###################################\n",
    "# Evaluate the model\n",
    "###################################\n",
    "source_test_label_accuracy, source_test_label_loss = jig.test(datasets.source.processed.test)\n",
    "target_test_label_accuracy, target_test_label_loss = jig.test(datasets.target.processed.test)\n",
    "\n",
    "source_val_label_accuracy, source_val_label_loss = jig.test(datasets.source.processed.val)\n",
    "target_val_label_accuracy, target_val_label_loss = jig.test(datasets.target.processed.val)\n",
    "\n",
    "history = jig.get_history()\n",
    "\n",
    "total_epochs_trained = len(history[\"epoch_indices\"])\n",
    "\n",
    "val_dl = Iterable_Aggregator((datasets.source.original.val,datasets.target.original.val))\n",
    "\n",
    "confusion = ptn_confusion_by_domain_over_dataloader(model, p.device, val_dl)\n",
    "per_domain_accuracy = per_domain_accuracy_from_confusion(confusion)\n",
    "\n",
    "# Add a key to per_domain_accuracy for if it was a source domain\n",
    "for domain, accuracy in per_domain_accuracy.items():\n",
    "    per_domain_accuracy[domain] = {\n",
    "        \"accuracy\": accuracy,\n",
    "        \"source?\": domain in p.domains_source\n",
    "    }\n",
    "\n",
    "# Do an independent accuracy assesment JUST TO BE SURE!\n",
    "# _source_test_label_accuracy = independent_accuracy_assesment(model, datasets.source.processed.test, p.device)\n",
    "# _target_test_label_accuracy = independent_accuracy_assesment(model, datasets.target.processed.test, p.device)\n",
    "# _source_val_label_accuracy = independent_accuracy_assesment(model, datasets.source.processed.val, p.device)\n",
    "# _target_val_label_accuracy = independent_accuracy_assesment(model, datasets.target.processed.val, p.device)\n",
    "\n",
    "# assert(_source_test_label_accuracy == source_test_label_accuracy)\n",
    "# assert(_target_test_label_accuracy == target_test_label_accuracy)\n",
    "# assert(_source_val_label_accuracy == source_val_label_accuracy)\n",
    "# assert(_target_val_label_accuracy == target_val_label_accuracy)\n",
    "\n",
    "experiment = {\n",
    "    \"experiment_name\": p.experiment_name,\n",
    "    \"parameters\": dict(p),\n",
    "    \"results\": {\n",
    "        \"source_test_label_accuracy\": source_test_label_accuracy,\n",
    "        \"source_test_label_loss\": source_test_label_loss,\n",
    "        \"target_test_label_accuracy\": target_test_label_accuracy,\n",
    "        \"target_test_label_loss\": target_test_label_loss,\n",
    "        \"source_val_label_accuracy\": source_val_label_accuracy,\n",
    "        \"source_val_label_loss\": source_val_label_loss,\n",
    "        \"target_val_label_accuracy\": target_val_label_accuracy,\n",
    "        \"target_val_label_loss\": target_val_label_loss,\n",
    "        \"total_epochs_trained\": total_epochs_trained,\n",
    "        \"total_experiment_time_secs\": total_experiment_time_secs,\n",
    "        \"confusion\": confusion,\n",
    "        \"per_domain_accuracy\": per_domain_accuracy,\n",
    "    },\n",
    "    \"history\": history,\n",
    "    \"dataset_metrics\": get_dataset_metrics(datasets, \"ptn\"),\n",
    "}"
   ]
  },
  {
   "cell_type": "code",
   "execution_count": 25,
   "id": "54a21829",
   "metadata": {
    "execution": {
     "iopub.execute_input": "2022-03-29T23:48:39.314958Z",
     "iopub.status.busy": "2022-03-29T23:48:39.314367Z",
     "iopub.status.idle": "2022-03-29T23:48:39.442822Z",
     "shell.execute_reply": "2022-03-29T23:48:39.443245Z"
    },
    "papermill": {
     "duration": 0.167691,
     "end_time": "2022-03-29T23:48:39.443375",
     "exception": false,
     "start_time": "2022-03-29T23:48:39.275684",
     "status": "completed"
    },
    "tags": []
   },
   "outputs": [
    {
     "data": {
      "image/png": "[encoded data removed]",
      "text/plain": [
       "<Figure size 1080x504 with 1 Axes>"
      ]
     },
     "metadata": {
      "needs_background": "light"
     },
     "output_type": "display_data"
    }
   ],
   "source": [
    "ax = get_loss_curve(experiment)\n",
    "plt.show()"
   ]
  },
  {
   "cell_type": "code",
   "execution_count": 26,
   "id": "fd8a0f60",
   "metadata": {
    "execution": {
     "iopub.execute_input": "2022-03-29T23:48:39.528816Z",
     "iopub.status.busy": "2022-03-29T23:48:39.528206Z",
     "iopub.status.idle": "2022-03-29T23:48:39.670274Z",
     "shell.execute_reply": "2022-03-29T23:48:39.669945Z"
    },
    "papermill": {
     "duration": 0.183016,
     "end_time": "2022-03-29T23:48:39.670352",
     "exception": false,
     "start_time": "2022-03-29T23:48:39.487336",
     "status": "completed"
    },
    "tags": []
   },
   "outputs": [
    {
     "data": {
      "text/plain": [
       "<AxesSubplot:title={'center':'Results'}>"
      ]
     },
     "execution_count": 26,
     "metadata": {},
     "output_type": "execute_result"
    },
    {
     "data": {
      "image/png": "[encoded data removed]",
      "text/plain": [
       "<Figure size 1080x504 with 1 Axes>"
      ]
     },
     "metadata": {
      "needs_background": "light"
     },
     "output_type": "display_data"
    }
   ],
   "source": [
    "get_results_table(experiment)"
   ]
  },
  {
   "cell_type": "code",
   "execution_count": 27,
   "id": "cf8dc689",
   "metadata": {
    "execution": {
     "iopub.execute_input": "2022-03-29T23:48:39.759568Z",
     "iopub.status.busy": "2022-03-29T23:48:39.758902Z",
     "iopub.status.idle": "2022-03-29T23:48:39.923868Z",
     "shell.execute_reply": "2022-03-29T23:48:39.924275Z"
    },
    "papermill": {
     "duration": 0.207484,
     "end_time": "2022-03-29T23:48:39.924402",
     "exception": false,
     "start_time": "2022-03-29T23:48:39.716918",
     "status": "completed"
    },
    "tags": []
   },
   "outputs": [
    {
     "data": {
      "text/plain": [
       "<AxesSubplot:title={'center':'Per Domain Validation Accuracy'}, xlabel='domain'>"
      ]
     },
     "execution_count": 27,
     "metadata": {},
     "output_type": "execute_result"
    },
    {
     "data": {
      "image/png": "[encoded data removed]",
      "text/plain": [
       "<Figure size 1080x504 with 1 Axes>"
      ]
     },
     "metadata": {
      "needs_background": "light"
     },
     "output_type": "display_data"
    }
   ],
   "source": [
    "get_domain_accuracies(experiment)"
   ]
  },
  {
   "cell_type": "code",
   "execution_count": 28,
   "id": "a74ae082",
   "metadata": {
    "execution": {
     "iopub.execute_input": "2022-03-29T23:48:40.016994Z",
     "iopub.status.busy": "2022-03-29T23:48:40.016291Z",
     "iopub.status.idle": "2022-03-29T23:48:40.033591Z",
     "shell.execute_reply": "2022-03-29T23:48:40.033108Z"
    },
    "papermill": {
     "duration": 0.061952,
     "end_time": "2022-03-29T23:48:40.033694",
     "exception": false,
     "start_time": "2022-03-29T23:48:39.971742",
     "status": "completed"
    },
    "tags": []
   },
   "outputs": [
    {
     "name": "stdout",
     "output_type": "stream",
     "text": [
      "Source Test Label Accuracy: 0.73095703125 Target Test Label Accuracy: 0.7348763020833333\n",
      "Source Val Label Accuracy: 0.7326888020833333 Target Val Label Accuracy: 0.7358463541666667\n"
     ]
    }
   ],
   "source": [
    "print(\"Source Test Label Accuracy:\", experiment[\"results\"][\"source_test_label_accuracy\"], \"Target Test Label Accuracy:\", experiment[\"results\"][\"target_test_label_accuracy\"])\n",
    "print(\"Source Val Label Accuracy:\", experiment[\"results\"][\"source_val_label_accuracy\"], \"Target Val Label Accuracy:\", experiment[\"results\"][\"target_val_label_accuracy\"])"
   ]
  },
  {
   "cell_type": "code",
   "execution_count": 29,
   "id": "dacca602",
   "metadata": {
    "execution": {
     "iopub.execute_input": "2022-03-29T23:48:40.123385Z",
     "iopub.status.busy": "2022-03-29T23:48:40.123123Z",
     "iopub.status.idle": "2022-03-29T23:48:40.135726Z",
     "shell.execute_reply": "2022-03-29T23:48:40.136033Z"
    },
    "papermill": {
     "duration": 0.056286,
     "end_time": "2022-03-29T23:48:40.136132",
     "exception": false,
     "start_time": "2022-03-29T23:48:40.079846",
     "status": "completed"
    },
    "tags": [
     "experiment_json"
    ]
   },
   "outputs": [
    {
     "data": {
      "text/plain": [
       "'{\"experiment_name\": \"tl_1v2:oracle.run1-oracle.run2\", \"parameters\": {\"experiment_name\": \"tl_1v2:oracle.run1-oracle.run2\", \"device\": \"cuda\", \"lr\": 0.0001, \"n_shot\": 3, \"n_query\": 2, \"train_k_factor\": 3, \"val_k_factor\": 2, \"test_k_factor\": 2, \"torch_default_dtype\": \"torch.float32\", \"n_epoch\": 50, \"patience\": 3, \"criteria_for_best\": \"target_accuracy\", \"x_net\": [{\"class\": \"nnReshape\", \"kargs\": {\"shape\": [-1, 1, 2, 256]}}, {\"class\": \"Conv2d\", \"kargs\": {\"in_channels\": 1, \"out_channels\": 256, \"kernel_size\": [1, 7], \"bias\": false, \"padding\": [0, 3]}}, {\"class\": \"ReLU\", \"kargs\": {\"inplace\": true}}, {\"class\": \"BatchNorm2d\", \"kargs\": {\"num_features\": 256}}, {\"class\": \"Conv2d\", \"kargs\": {\"in_channels\": 256, \"out_channels\": 80, \"kernel_size\": [2, 7], \"bias\": true, \"padding\": [0, 3]}}, {\"class\": \"ReLU\", \"kargs\": {\"inplace\": true}}, {\"class\": \"BatchNorm2d\", \"kargs\": {\"num_features\": 80}}, {\"class\": \"Flatten\", \"kargs\": {}}, {\"class\": \"Linear\", \"kargs\": {\"in_features\": 20480, \"out_features\": 256}}, {\"class\": \"ReLU\", \"kargs\": {\"inplace\": true}}, {\"class\": \"BatchNorm1d\", \"kargs\": {\"num_features\": 256}}, {\"class\": \"Linear\", \"kargs\": {\"in_features\": 256, \"out_features\": 256}}], \"NUM_LOGS_PER_EPOCH\": 10, \"BEST_MODEL_PATH\": \"./best_model.pth\", \"n_way\": 16, \"datasets\": [{\"labels\": [\"3123D52\", \"3123D65\", \"3123D79\", \"3123D80\", \"3123D54\", \"3123D70\", \"3123D7B\", \"3123D89\", \"3123D58\", \"3123D76\", \"3123D7D\", \"3123EFE\", \"3123D64\", \"3123D78\", \"3123D7E\", \"3124E4A\"], \"domains\": [32, 38, 8, 44, 14, 50, 20, 26], \"num_examples_per_domain_per_label\": 10000, \"pickle_path\": \"/mnt/wd500GB/CSC500/csc500-main/datasets/oracle.Run1_10kExamples_stratified_ds.2022A.pkl\", \"source_or_target_dataset\": \"target\", \"x_transforms\": [\"unit_mag\"], \"episode_transforms\": [], \"domain_prefix\": \"ORACLE.run1_\"}, {\"labels\": [\"3123D52\", \"3123D65\", \"3123D79\", \"3123D80\", \"3123D54\", \"3123D70\", \"3123D7B\", \"3123D89\", \"3123D58\", \"3123D76\", \"3123D7D\", \"3123EFE\", \"3123D64\", \"3123D78\", \"3123D7E\", \"3124E4A\"], \"domains\": [32, 38, 8, 44, 14, 50, 20, 26], \"num_examples_per_domain_per_label\": 10000, \"pickle_path\": \"/mnt/wd500GB/CSC500/csc500-main/datasets/oracle.Run2_10kExamples_stratified_ds.2022A.pkl\", \"source_or_target_dataset\": \"source\", \"x_transforms\": [\"unit_mag\"], \"episode_transforms\": [], \"domain_prefix\": \"ORACLE.run2_\"}], \"dataset_seed\": 500, \"seed\": 500, \"x_shape\": [2, 256], \"domains_source\": [\"ORACLE.run2_32\", \"ORACLE.run2_38\", \"ORACLE.run2_8\", \"ORACLE.run2_44\", \"ORACLE.run2_14\", \"ORACLE.run2_50\", \"ORACLE.run2_20\", \"ORACLE.run2_26\"], \"domains_target\": [\"ORACLE.run1_32\", \"ORACLE.run1_38\", \"ORACLE.run1_8\", \"ORACLE.run1_44\", \"ORACLE.run1_14\", \"ORACLE.run1_50\", \"ORACLE.run1_20\", \"ORACLE.run1_26\"]}, \"results\": {\"source_test_label_accuracy\": 0.73095703125, \"source_test_label_loss\": 0.7759470343589783, \"target_test_label_accuracy\": 0.7348763020833333, \"target_test_label_loss\": 0.7524130940437317, \"source_val_label_accuracy\": 0.7326888020833333, \"source_val_label_loss\": 0.77134108543396, \"target_val_label_accuracy\": 0.7358463541666667, \"target_val_label_loss\": 0.7517365217208862, \"total_epochs_trained\": 11, \"total_experiment_time_secs\": 10242.149382591248, \"confusion\": {\"ORACLE.run2_50\": {\"7\": {\"7\": 628, \"5\": 127, \"13\": 354, \"10\": 83, \"4\": 7, \"0\": 1}, \"10\": {\"10\": 910, \"13\": 186, \"7\": 40, \"5\": 41, \"0\": 19, \"4\": 4}, \"0\": {\"0\": 1098, \"2\": 76, \"10\": 20, \"5\": 4, \"6\": 1, \"1\": 1}, \"11\": {\"11\": 1134, \"15\": 34, \"9\": 6, \"14\": 12, \"12\": 14}, \"2\": {\"2\": 1145, \"0\": 55}, \"14\": {\"14\": 1189, \"12\": 9, \"11\": 2}, \"9\": {\"9\": 1146, \"12\": 40, \"11\": 14}, \"13\": {\"13\": 735, \"10\": 190, \"7\": 237, \"5\": 36, \"4\": 1, \"8\": 1}, \"8\": {\"8\": 1186, \"3\": 14}, \"15\": {\"15\": 1104, \"1\": 43, \"6\": 15, \"11\": 38}, \"4\": {\"4\": 672, \"6\": 135, \"1\": 68, \"5\": 317, \"10\": 2, \"7\": 3, \"13\": 2, \"0\": 1}, \"5\": {\"5\": 616, \"4\": 318, \"1\": 15, \"10\": 52, \"6\": 60, \"7\": 91, \"13\": 42, \"0\": 6}, \"3\": {\"3\": 1155, \"8\": 45}, \"1\": {\"1\": 941, \"15\": 42, \"6\": 178, \"11\": 1, \"4\": 34, \"5\": 3, \"0\": 1}, \"6\": {\"1\": 224, \"6\": 785, \"4\": 135, \"5\": 44, \"15\": 11, \"7\": 1}, \"12\": {\"12\": 1112, \"9\": 46, \"14\": 36, \"11\": 6}}, \"ORACLE.run2_14\": {\"14\": {\"3\": 37, \"6\": 87, \"14\": 933, \"2\": 128, \"13\": 4, \"4\": 4, \"0\": 5, \"5\": 2}, \"6\": {\"6\": 866, \"13\": 247, \"14\": 55, \"2\": 31, \"4\": 1}, \"5\": {\"5\": 683, \"4\": 264, \"1\": 86, \"2\": 101, \"3\": 64, \"13\": 1, \"14\": 1}, \"15\": {\"15\": 1190, \"7\": 9, \"2\": 1}, \"11\": {\"11\": 1173, \"12\": 24, \"9\": 2, \"10\": 1}, \"8\": {\"8\": 1200}, \"12\": {\"12\": 656, \"11\": 290, \"9\": 122, \"0\": 97, \"3\": 1, \"10\": 10, \"8\": 24}, \"1\": {\"1\": 1107, \"5\": 67, \"4\": 24, \"7\": 1, \"3\": 1}, \"2\": {\"6\": 28, \"2\": 594, \"14\": 188, \"7\": 1, \"3\": 62, \"4\": 71, \"15\": 4, \"5\": 149, \"13\": 102, \"0\": 1}, \"13\": {\"13\": 841, \"6\": 320, \"2\": 33, \"14\": 6}, \"3\": {\"3\": 1025, \"4\": 70, \"1\": 7, \"5\": 56, \"2\": 27, \"14\": 14, \"0\": 1}, \"0\": {\"0\": 1191, \"10\": 5, \"14\": 1, \"3\": 1, \"12\": 1, \"11\": 1}, \"9\": {\"9\": 1197, \"12\": 3}, \"4\": {\"5\": 299, \"4\": 781, \"2\": 52, \"3\": 49, \"1\": 17, \"14\": 1, \"13\": 1}, \"7\": {\"7\": 1192, \"15\": 7, \"1\": 1}, \"10\": {\"10\": 1159, \"0\": 37, \"11\": 2, \"12\": 1, \"3\": 1}}, \"ORACLE.run2_32\": {\"4\": {\"0\": 91, \"4\": 607, \"13\": 243, \"5\": 100, \"11\": 37, \"8\": 37, \"7\": 60, \"2\": 25}, \"14\": {\"2\": 87, \"14\": 1040, \"11\": 10, \"5\": 29, \"0\": 31, \"9\": 3}, \"5\": {\"8\": 115, \"2\": 131, \"4\": 106, \"14\": 75, \"5\": 546, \"0\": 143, \"13\": 54, \"7\": 13, \"3\": 4, \"11\": 13}, \"10\": {\"10\": 1197, \"1\": 3}, \"13\": {\"4\": 233, \"3\": 23, \"13\": 737, \"11\": 45, \"0\": 18, \"8\": 42, \"7\": 89, \"5\": 12, \"2\": 1}, \"9\": {\"9\": 1171, \"14\": 25, \"2\": 2, \"12\": 2}, \"6\": {\"6\": 1200}, \"3\": {\"3\": 1153, \"13\": 33, \"8\": 11, \"7\": 1, \"11\": 2}, \"15\": {\"15\": 1194, \"8\": 5, \"5\": 1}, \"7\": {\"7\": 763, \"11\": 208, \"2\": 12, \"13\": 107, \"4\": 85, \"5\": 5, \"0\": 19, \"3\": 1}, \"12\": {\"12\": 1200}, \"8\": {\"8\": 981, \"4\": 32, \"0\": 57, \"13\": 56, \"5\": 52, \"3\": 15, \"15\": 4, \"11\": 3}, \"11\": {\"4\": 43, \"11\": 689, \"7\": 216, \"13\": 67, \"0\": 165, \"2\": 13, \"5\": 6, \"8\": 1}, \"2\": {\"2\": 1022, \"11\": 10, \"0\": 15, \"14\": 46, \"5\": 73, \"7\": 14, \"4\": 20}, \"1\": {\"1\": 1188, \"10\": 12}, \"0\": {\"11\": 139, \"0\": 651, \"4\": 124, \"5\": 129, \"8\": 81, \"2\": 16, \"14\": 8, \"7\": 18, \"13\": 34}}, \"ORACLE.run2_44\": {\"8\": {\"8\": 722, \"0\": 462, \"5\": 8, \"15\": 7, \"14\": 1}, \"11\": {\"11\": 1175, \"7\": 2, \"9\": 2, \"6\": 21}, \"14\": {\"14\": 904, \"5\": 110, \"4\": 55, \"15\": 130, \"8\": 1}, \"10\": {\"10\": 1149, \"12\": 30, \"1\": 21}, \"3\": {\"3\": 1018, \"12\": 63, \"1\": 118, \"2\": 1}, \"15\": {\"15\": 1008, \"14\": 127, \"4\": 44, \"8\": 18, \"5\": 3}, \"2\": {\"2\": 749, \"9\": 255, \"7\": 195, \"3\": 1}, \"12\": {\"1\": 298, \"12\": 847, \"3\": 53, \"10\": 2}, \"4\": {\"4\": 1106, \"14\": 62, \"15\": 22, \"13\": 10}, \"1\": {\"12\": 326, \"1\": 746, \"3\": 121, \"7\": 3, \"10\": 2, \"9\": 1, \"2\": 1}, \"0\": {\"0\": 657, \"8\": 538, \"15\": 3, \"5\": 2}, \"9\": {\"2\": 316, \"9\": 553, \"7\": 311, \"6\": 19, \"13\": 1}, \"5\": {\"5\": 1089, \"14\": 92, \"8\": 15, \"15\": 2, \"0\": 2}, \"6\": {\"6\": 1102, \"13\": 25, \"2\": 4, \"9\": 42, \"7\": 20, \"11\": 7}, \"7\": {\"7\": 644, \"2\": 231, \"9\": 308, \"6\": 13, \"1\": 3, \"3\": 1}, \"13\": {\"13\": 1168, \"4\": 20, \"6\": 12}}, \"ORACLE.run2_8\": {\"13\": {\"13\": 915, \"10\": 37, \"14\": 149, \"1\": 79, \"6\": 8, \"5\": 6, \"0\": 4, \"8\": 1, \"4\": 1}, \"3\": {\"3\": 1111, \"12\": 82, \"15\": 7}, \"15\": {\"15\": 766, \"12\": 155, \"11\": 128, \"8\": 138, \"7\": 4, \"3\": 6, \"6\": 3}, \"4\": {\"4\": 506, \"6\": 323, \"7\": 288, \"2\": 70, \"14\": 11, \"0\": 2}, \"7\": {\"7\": 621, \"6\": 206, \"4\": 271, \"2\": 98, \"8\": 4}, \"2\": {\"2\": 988, \"4\": 79, \"7\": 124, \"6\": 9}, \"1\": {\"5\": 16, \"1\": 1110, \"10\": 7, \"13\": 67}, \"0\": {\"0\": 871, \"14\": 164, \"10\": 153, \"13\": 4, \"4\": 5, \"6\": 3}, \"12\": {\"15\": 106, \"12\": 1024, \"3\": 57, \"11\": 13}, \"6\": {\"4\": 358, \"6\": 590, \"2\": 7, \"13\": 7, \"14\": 49, \"7\": 187, \"0\": 2}, \"11\": {\"11\": 676, \"15\": 157, \"8\": 268, \"12\": 98, \"6\": 1}, \"9\": {\"9\": 1200}, \"5\": {\"5\": 1025, \"10\": 141, \"0\": 3, \"1\": 21, \"14\": 1, \"13\": 9}, \"10\": {\"14\": 58, \"10\": 772, \"0\": 197, \"5\": 125, \"13\": 41, \"1\": 7}, \"14\": {\"14\": 822, \"13\": 96, \"0\": 181, \"10\": 42, \"6\": 41, \"4\": 17, \"7\": 1}, \"8\": {\"8\": 1013, \"15\": 73, \"13\": 5, \"11\": 107, \"7\": 2}}, \"ORACLE.run2_20\": {\"6\": {\"6\": 1108, \"14\": 62, \"10\": 8, \"8\": 19, \"7\": 3}, \"11\": {\"11\": 1200}, \"5\": {\"5\": 483, \"2\": 149, \"7\": 35, \"12\": 98, \"15\": 75, \"0\": 85, \"3\": 165, \"9\": 44, \"4\": 28, \"13\": 13, \"1\": 21, \"10\": 1, \"8\": 3}, \"14\": {\"14\": 914, \"10\": 69, \"8\": 102, \"6\": 112, \"7\": 3}, \"2\": {\"15\": 86, \"9\": 310, \"3\": 158, \"5\": 143, \"2\": 396, \"12\": 72, \"4\": 1, \"1\": 11, \"13\": 17, \"0\": 3, \"7\": 3}, \"7\": {\"7\": 923, \"8\": 109, \"5\": 30, \"3\": 110, \"6\": 9, \"10\": 8, \"2\": 6, \"9\": 2, \"14\": 2, \"4\": 1}, \"3\": {\"3\": 545, \"5\": 133, \"9\": 111, \"12\": 42, \"2\": 196, \"7\": 134, \"10\": 3, \"4\": 18, \"8\": 6, \"15\": 10, \"0\": 1, \"1\": 1}, \"4\": {\"4\": 1091, \"3\": 12, \"0\": 22, \"8\": 18, \"12\": 22, \"5\": 23, \"10\": 6, \"7\": 2, \"1\": 3, \"2\": 1}, \"9\": {\"15\": 63, \"9\": 497, \"2\": 298, \"13\": 10, \"12\": 129, \"3\": 114, \"1\": 37, \"5\": 42, \"4\": 8, \"0\": 1, \"7\": 1}, \"12\": {\"12\": 511, \"5\": 91, \"1\": 232, \"0\": 65, \"9\": 119, \"2\": 68, \"15\": 71, \"3\": 26, \"4\": 16, \"13\": 1}, \"0\": {\"12\": 64, \"0\": 824, \"5\": 107, \"15\": 58, \"1\": 84, \"13\": 19, \"4\": 39, \"2\": 4, \"8\": 1}, \"10\": {\"10\": 1037, \"7\": 8, \"14\": 77, \"6\": 17, \"8\": 28, \"4\": 28, \"3\": 5}, \"8\": {\"8\": 808, \"4\": 39, \"14\": 123, \"10\": 39, \"7\": 148, \"6\": 33, \"3\": 2, \"5\": 8}, \"13\": {\"13\": 883, \"15\": 269, \"2\": 22, \"12\": 6, \"9\": 5, \"0\": 4, \"5\": 4, \"1\": 7}, \"1\": {\"9\": 31, \"1\": 689, \"15\": 93, \"13\": 13, \"2\": 12, \"12\": 275, \"0\": 72, \"4\": 7, \"5\": 8}, \"15\": {\"0\": 38, \"5\": 62, \"2\": 97, \"13\": 269, \"15\": 508, \"12\": 76, \"1\": 89, \"9\": 50, \"3\": 11}}, \"ORACLE.run2_38\": {\"3\": {\"13\": 167, \"0\": 213, \"10\": 56, \"3\": 612, \"9\": 33, \"7\": 29, \"8\": 48, \"15\": 15, \"6\": 13, \"5\": 12, \"1\": 2}, \"8\": {\"5\": 347, \"15\": 203, \"8\": 473, \"7\": 83, \"13\": 59, \"1\": 4, \"3\": 17, \"10\": 13, \"0\": 1}, \"0\": {\"0\": 1022, \"3\": 120, \"10\": 27, \"8\": 3, \"7\": 7, \"6\": 4, \"5\": 2, \"9\": 8, \"15\": 5, \"13\": 2}, \"2\": {\"2\": 1089, \"14\": 111}, \"4\": {\"4\": 1148, \"12\": 46, \"10\": 4, \"7\": 1, \"11\": 1}, \"7\": {\"10\": 310, \"8\": 79, \"7\": 648, \"5\": 133, \"13\": 13, \"15\": 4, \"3\": 9, \"0\": 3, \"12\": 1}, \"12\": {\"14\": 14, \"12\": 1170, \"4\": 15, \"11\": 1}, \"6\": {\"6\": 1023, \"9\": 173, \"0\": 3, \"15\": 1}, \"15\": {\"15\": 660, \"8\": 190, \"5\": 186, \"13\": 4, \"1\": 126, \"7\": 7, \"3\": 5, \"0\": 7, \"6\": 14, \"10\": 1}, \"11\": {\"11\": 1113, \"14\": 60, \"4\": 9, \"2\": 8, \"12\": 10}, \"9\": {\"9\": 887, \"6\": 299, \"13\": 1, \"3\": 10, \"0\": 3}, \"14\": {\"14\": 778, \"2\": 270, \"5\": 12, \"12\": 68, \"11\": 37, \"4\": 2, \"8\": 4, \"10\": 7, \"13\": 1, \"7\": 21}, \"10\": {\"10\": 698, \"7\": 395, \"8\": 21, \"0\": 24, \"13\": 18, \"5\": 16, \"3\": 27, \"4\": 1}, \"5\": {\"8\": 362, \"15\": 137, \"10\": 19, \"5\": 552, \"7\": 105, \"13\": 20, \"3\": 3, \"1\": 2}, \"1\": {\"1\": 1127, \"15\": 65, \"5\": 3, \"13\": 4, \"8\": 1}, \"13\": {\"13\": 735, \"1\": 40, \"3\": 137, \"7\": 22, \"15\": 35, \"10\": 27, \"5\": 45, \"8\": 130, \"2\": 13, \"14\": 6, \"0\": 5, \"6\": 2, \"9\": 3}}, \"ORACLE.run2_26\": {\"5\": {\"13\": 285, \"2\": 64, \"5\": 537, \"6\": 80, \"7\": 84, \"9\": 77, \"3\": 11, \"10\": 6, \"8\": 49, \"15\": 5, \"14\": 1, \"0\": 1}, \"8\": {\"0\": 62, \"8\": 605, \"2\": 80, \"7\": 89, \"14\": 64, \"4\": 53, \"5\": 39, \"6\": 17, \"10\": 82, \"9\": 90, \"15\": 10, \"3\": 1, \"1\": 6, \"13\": 2}, \"4\": {\"4\": 714, \"10\": 19, \"8\": 43, \"0\": 128, \"3\": 50, \"15\": 49, \"7\": 72, \"14\": 43, \"2\": 66, \"1\": 15, \"9\": 1}, \"12\": {\"12\": 1198, \"11\": 2}, \"6\": {\"8\": 38, \"9\": 168, \"6\": 884, \"10\": 51, \"13\": 35, \"5\": 23, \"0\": 1}, \"7\": {\"8\": 101, \"7\": 404, \"5\": 38, \"9\": 31, \"2\": 378, \"3\": 92, \"4\": 71, \"15\": 69, \"13\": 3, \"0\": 7, \"14\": 5, \"10\": 1}, \"10\": {\"6\": 73, \"14\": 161, \"10\": 442, \"1\": 70, \"0\": 243, \"8\": 111, \"9\": 5, \"4\": 74, \"12\": 6, \"15\": 4, \"2\": 6, \"7\": 4, \"5\": 1}, \"0\": {\"10\": 168, \"14\": 243, \"7\": 11, \"8\": 92, \"4\": 128, \"0\": 474, \"1\": 66, \"2\": 8, \"15\": 5, \"9\": 1, \"3\": 2, \"6\": 2}, \"15\": {\"15\": 727, \"3\": 202, \"2\": 123, \"4\": 47, \"7\": 72, \"5\": 4, \"9\": 10, \"8\": 9, \"0\": 4, \"10\": 1, \"14\": 1}, \"9\": {\"13\": 105, \"8\": 91, \"9\": 722, \"6\": 159, \"2\": 22, \"5\": 67, \"7\": 16, \"10\": 6, \"15\": 10, \"0\": 1, \"3\": 1}, \"11\": {\"11\": 1198, \"12\": 2}, \"14\": {\"14\": 431, \"10\": 160, \"1\": 266, \"0\": 203, \"8\": 69, \"4\": 63, \"7\": 4, \"2\": 3, \"5\": 1}, \"2\": {\"7\": 374, \"5\": 36, \"1\": 1, \"8\": 92, \"4\": 82, \"2\": 369, \"9\": 19, \"3\": 113, \"15\": 96, \"0\": 8, \"13\": 2, \"10\": 2, \"14\": 6}, \"13\": {\"13\": 908, \"9\": 83, \"5\": 188, \"6\": 16, \"2\": 3, \"8\": 1, \"7\": 1}, \"3\": {\"8\": 3, \"2\": 136, \"3\": 721, \"15\": 195, \"4\": 57, \"7\": 85, \"5\": 2, \"0\": 1}, \"1\": {\"14\": 329, \"0\": 63, \"1\": 725, \"10\": 60, \"4\": 16, \"8\": 6, \"7\": 1}}, \"ORACLE.run1_50\": {\"7\": {\"7\": 798, \"10\": 31, \"13\": 210, \"5\": 151, \"4\": 5, \"6\": 4, \"8\": 1}, \"10\": {\"10\": 1117, \"7\": 15, \"8\": 16, \"13\": 12, \"0\": 37, \"5\": 3}, \"0\": {\"0\": 1069, \"2\": 88, \"10\": 36, \"13\": 5, \"6\": 2}, \"11\": {\"11\": 1058, \"9\": 105, \"12\": 6, \"15\": 26, \"14\": 5}, \"2\": {\"0\": 59, \"2\": 1141}, \"14\": {\"14\": 1177, \"12\": 19, \"11\": 4}, \"9\": {\"9\": 945, \"12\": 78, \"11\": 172, \"14\": 5}, \"13\": {\"13\": 817, \"5\": 176, \"7\": 144, \"10\": 16, \"0\": 4, \"6\": 40, \"4\": 3}, \"8\": {\"8\": 1172, \"10\": 22, \"3\": 6}, \"15\": {\"15\": 923, \"1\": 165, \"4\": 76, \"6\": 16, \"11\": 18, \"5\": 1, \"14\": 1}, \"4\": {\"4\": 590, \"1\": 172, \"6\": 112, \"5\": 112, \"15\": 157, \"13\": 21, \"7\": 35, \"11\": 1}, \"5\": {\"6\": 100, \"7\": 317, \"13\": 167, \"4\": 152, \"5\": 419, \"10\": 7, \"1\": 35, \"0\": 2, \"15\": 1}, \"3\": {\"3\": 1162, \"8\": 38}, \"1\": {\"6\": 114, \"1\": 789, \"15\": 202, \"4\": 81, \"11\": 2, \"5\": 7, \"14\": 3, \"13\": 1, \"2\": 1}, \"6\": {\"6\": 896, \"13\": 55, \"4\": 105, \"1\": 87, \"0\": 2, \"15\": 17, \"5\": 36, \"7\": 2}, \"12\": {\"12\": 1107, \"11\": 4, \"9\": 59, \"14\": 30}}, \"ORACLE.run1_14\": {\"14\": {\"14\": 981, \"13\": 69, \"2\": 74, \"3\": 22, \"6\": 52, \"4\": 1, \"10\": 1}, \"6\": {\"6\": 676, \"13\": 419, \"14\": 58, \"2\": 45, \"4\": 2}, \"5\": {\"4\": 203, \"5\": 802, \"1\": 149, \"2\": 36, \"7\": 4, \"3\": 4, \"15\": 2}, \"15\": {\"15\": 1176, \"7\": 22, \"5\": 2}, \"11\": {\"11\": 1044, \"0\": 65, \"9\": 88, \"10\": 3}, \"8\": {\"8\": 1200}, \"12\": {\"12\": 1198, \"9\": 2}, \"1\": {\"1\": 1105, \"5\": 87, \"7\": 1, \"4\": 5, \"3\": 2}, \"2\": {\"2\": 615, \"14\": 178, \"13\": 58, \"15\": 21, \"5\": 136, \"6\": 66, \"3\": 59, \"4\": 65, \"1\": 2}, \"13\": {\"13\": 417, \"14\": 161, \"6\": 494, \"5\": 15, \"2\": 105, \"4\": 3, \"3\": 2, \"10\": 2, \"15\": 1}, \"3\": {\"3\": 1068, \"5\": 3, \"4\": 94, \"2\": 10, \"14\": 18, \"0\": 6, \"10\": 1}, \"0\": {\"0\": 1059, \"10\": 83, \"11\": 35, \"3\": 22, \"8\": 1}, \"9\": {\"9\": 1195, \"11\": 1, \"12\": 4}, \"4\": {\"4\": 947, \"3\": 75, \"5\": 138, \"2\": 30, \"1\": 7, \"14\": 2, \"13\": 1}, \"7\": {\"7\": 1182, \"15\": 13, \"5\": 3, \"1\": 2}, \"10\": {\"10\": 1155, \"0\": 43, \"3\": 1, \"14\": 1}}, \"ORACLE.run1_32\": {\"4\": {\"4\": 737, \"7\": 133, \"5\": 82, \"13\": 27, \"2\": 171, \"0\": 39, \"8\": 3, \"14\": 8}, \"14\": {\"11\": 286, \"7\": 203, \"14\": 515, \"13\": 46, \"5\": 49, \"2\": 8, \"0\": 59, \"4\": 17, \"8\": 8, \"3\": 9}, \"5\": {\"13\": 264, \"0\": 57, \"5\": 438, \"4\": 123, \"7\": 130, \"2\": 16, \"3\": 56, \"14\": 27, \"8\": 80, \"11\": 9}, \"10\": {\"10\": 1194, \"1\": 6}, \"13\": {\"5\": 238, \"13\": 596, \"7\": 78, \"8\": 60, \"14\": 29, \"3\": 72, \"0\": 21, \"4\": 97, \"11\": 7, \"2\": 2}, \"9\": {\"9\": 1199, \"12\": 1}, \"6\": {\"6\": 1200}, \"3\": {\"13\": 44, \"3\": 1128, \"14\": 1, \"5\": 15, \"11\": 9, \"8\": 3}, \"15\": {\"15\": 1190, \"8\": 10}, \"7\": {\"7\": 583, \"5\": 156, \"13\": 70, \"14\": 162, \"2\": 30, \"4\": 143, \"11\": 26, \"0\": 25, \"8\": 5}, \"12\": {\"12\": 1200}, \"8\": {\"8\": 945, \"0\": 101, \"5\": 72, \"13\": 66, \"14\": 3, \"4\": 4, \"7\": 3, \"15\": 1, \"3\": 4, \"11\": 1}, \"11\": {\"11\": 973, \"14\": 177, \"7\": 21, \"13\": 11, \"3\": 15, \"5\": 3}, \"2\": {\"2\": 996, \"4\": 158, \"7\": 19, \"0\": 23, \"5\": 2, \"14\": 2}, \"1\": {\"1\": 1191, \"10\": 9}, \"0\": {\"0\": 906, \"4\": 48, \"5\": 32, \"7\": 41, \"8\": 88, \"2\": 46, \"14\": 26, \"13\": 13}}, \"ORACLE.run1_44\": {\"8\": {\"8\": 755, \"0\": 399, \"5\": 11, \"15\": 35}, \"11\": {\"11\": 1098, \"13\": 84, \"6\": 18}, \"14\": {\"14\": 779, \"15\": 71, \"4\": 316, \"5\": 34}, \"10\": {\"10\": 919, \"1\": 117, \"12\": 89, \"2\": 75}, \"3\": {\"3\": 1104, \"1\": 84, \"12\": 9, \"2\": 2, \"10\": 1}, \"15\": {\"15\": 992, \"14\": 76, \"0\": 83, \"8\": 18, \"5\": 21, \"4\": 10}, \"2\": {\"7\": 155, \"2\": 906, \"10\": 82, \"1\": 50, \"12\": 3, \"6\": 1, \"3\": 1, \"9\": 2}, \"12\": {\"12\": 994, \"1\": 154, \"10\": 42, \"3\": 9, \"2\": 1}, \"4\": {\"4\": 839, \"14\": 352, \"15\": 7, \"13\": 2}, \"1\": {\"1\": 752, \"3\": 128, \"12\": 196, \"2\": 37, \"10\": 86, \"7\": 1}, \"0\": {\"8\": 321, \"0\": 751, \"5\": 71, \"15\": 57}, \"9\": {\"9\": 679, \"7\": 275, \"13\": 133, \"2\": 12, \"6\": 97, \"11\": 1, \"4\": 2, \"3\": 1}, \"5\": {\"5\": 1032, \"0\": 70, \"4\": 3, \"15\": 39, \"8\": 13, \"14\": 43}, \"6\": {\"7\": 21, \"6\": 861, \"13\": 196, \"9\": 106, \"11\": 16}, \"7\": {\"7\": 814, \"9\": 194, \"2\": 162, \"6\": 28, \"13\": 2}, \"13\": {\"9\": 143, \"13\": 802, \"11\": 55, \"6\": 192, \"7\": 6, \"14\": 1, \"4\": 1}}, \"ORACLE.run1_8\": {\"13\": {\"0\": 326, \"13\": 429, \"6\": 61, \"10\": 109, \"14\": 93, \"4\": 168, \"5\": 1, \"7\": 11, \"1\": 2}, \"3\": {\"3\": 1037, \"12\": 51, \"2\": 110, \"15\": 2}, \"15\": {\"15\": 940, \"12\": 217, \"8\": 36, \"6\": 1, \"3\": 4, \"2\": 2}, \"4\": {\"14\": 151, \"4\": 675, \"13\": 206, \"0\": 16, \"6\": 121, \"10\": 26, \"7\": 5}, \"7\": {\"7\": 899, \"6\": 248, \"0\": 43, \"13\": 4, \"4\": 2, \"15\": 1, \"8\": 3}, \"2\": {\"2\": 966, \"3\": 178, \"7\": 31, \"15\": 21, \"12\": 4}, \"1\": {\"11\": 256, \"1\": 896, \"5\": 15, \"14\": 30, \"10\": 3}, \"0\": {\"0\": 831, \"13\": 228, \"7\": 69, \"4\": 29, \"6\": 39, \"10\": 4}, \"12\": {\"3\": 156, \"15\": 384, \"12\": 614, \"8\": 36, \"2\": 10}, \"6\": {\"0\": 52, \"6\": 762, \"7\": 213, \"4\": 128, \"13\": 38, \"8\": 6, \"14\": 1}, \"11\": {\"11\": 756, \"1\": 419, \"5\": 11, \"14\": 6, \"8\": 8}, \"9\": {\"9\": 1200}, \"5\": {\"5\": 1059, \"10\": 61, \"1\": 47, \"14\": 24, \"11\": 9}, \"10\": {\"10\": 834, \"14\": 234, \"4\": 31, \"13\": 82, \"5\": 18, \"1\": 1}, \"14\": {\"14\": 630, \"10\": 255, \"4\": 181, \"6\": 1, \"13\": 66, \"1\": 51, \"5\": 6, \"11\": 8, \"0\": 2}, \"8\": {\"8\": 1166, \"6\": 3, \"15\": 30, \"11\": 1}}, \"ORACLE.run1_20\": {\"6\": {\"6\": 1075, \"14\": 113, \"7\": 4, \"8\": 7, \"10\": 1}, \"11\": {\"11\": 1197, \"13\": 1, \"6\": 1, \"7\": 1}, \"5\": {\"5\": 502, \"12\": 144, \"3\": 36, \"0\": 231, \"1\": 193, \"2\": 5, \"15\": 79, \"9\": 5, \"4\": 5}, \"14\": {\"14\": 998, \"4\": 1, \"6\": 112, \"8\": 24, \"10\": 65}, \"2\": {\"2\": 592, \"13\": 57, \"9\": 320, \"5\": 7, \"3\": 53, \"12\": 40, \"7\": 119, \"1\": 5, \"0\": 1, \"15\": 5, \"8\": 1}, \"7\": {\"8\": 56, \"7\": 965, \"3\": 22, \"2\": 117, \"4\": 3, \"13\": 5, \"0\": 1, \"9\": 23, \"6\": 7, \"12\": 1}, \"3\": {\"3\": 538, \"9\": 167, \"2\": 71, \"5\": 63, \"4\": 48, \"12\": 238, \"7\": 33, \"0\": 6, \"8\": 8, \"1\": 24, \"13\": 3, \"15\": 1}, \"4\": {\"4\": 1013, \"8\": 103, \"3\": 41, \"10\": 36, \"5\": 3, \"12\": 2, \"7\": 1, \"9\": 1}, \"9\": {\"2\": 331, \"9\": 519, \"1\": 13, \"3\": 184, \"12\": 104, \"7\": 33, \"5\": 8, \"0\": 1, \"13\": 5, \"4\": 2}, \"12\": {\"5\": 111, \"12\": 463, \"1\": 205, \"3\": 247, \"2\": 36, \"9\": 109, \"0\": 9, \"4\": 5, \"15\": 13, \"7\": 2}, \"0\": {\"5\": 302, \"15\": 115, \"0\": 670, \"8\": 6, \"1\": 32, \"2\": 8, \"9\": 5, \"3\": 21, \"7\": 9, \"12\": 19, \"13\": 8, \"4\": 5}, \"10\": {\"10\": 1069, \"14\": 75, \"4\": 34, \"8\": 18, \"7\": 2, \"3\": 1, \"6\": 1}, \"8\": {\"8\": 963, \"7\": 59, \"14\": 47, \"4\": 93, \"10\": 20, \"6\": 9, \"9\": 1, \"3\": 7, \"5\": 1}, \"13\": {\"13\": 1113, \"2\": 57, \"1\": 2, \"15\": 19, \"9\": 8, \"0\": 1}, \"1\": {\"1\": 598, \"12\": 181, \"15\": 171, \"2\": 6, \"5\": 185, \"0\": 27, \"3\": 19, \"9\": 12, \"13\": 1}, \"15\": {\"15\": 764, \"1\": 206, \"0\": 89, \"5\": 79, \"13\": 32, \"12\": 23, \"2\": 4, \"9\": 3}}, \"ORACLE.run1_38\": {\"3\": {\"3\": 1149, \"9\": 32, \"7\": 6, \"0\": 11, \"6\": 1, \"5\": 1}, \"8\": {\"0\": 95, \"8\": 756, \"10\": 14, \"5\": 270, \"15\": 28, \"7\": 32, \"1\": 2, \"13\": 3}, \"0\": {\"3\": 79, \"0\": 559, \"8\": 246, \"7\": 207, \"5\": 89, \"10\": 16, \"15\": 2, \"13\": 2}, \"2\": {\"2\": 1126, \"14\": 52, \"13\": 20, \"15\": 1, \"10\": 1}, \"4\": {\"4\": 1121, \"12\": 78, \"7\": 1}, \"7\": {\"0\": 139, \"7\": 969, \"8\": 37, \"5\": 52, \"3\": 3}, \"12\": {\"12\": 1165, \"4\": 29, \"10\": 5, \"14\": 1}, \"6\": {\"6\": 1065, \"9\": 123, \"5\": 11, \"8\": 1}, \"15\": {\"13\": 135, \"1\": 101, \"8\": 35, \"15\": 897, \"5\": 28, \"10\": 2, \"0\": 1, \"2\": 1}, \"11\": {\"11\": 1062, \"14\": 114, \"2\": 9, \"10\": 10, \"12\": 2, \"13\": 3}, \"9\": {\"9\": 907, \"6\": 259, \"3\": 25, \"7\": 1, \"5\": 8}, \"14\": {\"14\": 1094, \"2\": 66, \"11\": 28, \"12\": 3, \"10\": 7, \"13\": 2}, \"10\": {\"13\": 124, \"10\": 957, \"8\": 36, \"0\": 21, \"14\": 15, \"7\": 10, \"11\": 12, \"15\": 7, \"4\": 2, \"2\": 4, \"5\": 6, \"12\": 6}, \"5\": {\"5\": 561, \"8\": 303, \"6\": 42, \"9\": 35, \"0\": 74, \"15\": 66, \"7\": 90, \"3\": 3, \"1\": 11, \"10\": 7, \"13\": 8}, \"1\": {\"1\": 1149, \"15\": 48, \"5\": 2, \"13\": 1}, \"13\": {\"15\": 185, \"13\": 864, \"2\": 27, \"1\": 9, \"5\": 7, \"10\": 91, \"8\": 16, \"0\": 1}}, \"ORACLE.run1_26\": {\"5\": {\"5\": 793, \"8\": 30, \"13\": 175, \"9\": 57, \"15\": 103, \"2\": 35, \"3\": 2, \"6\": 3, \"7\": 2}, \"8\": {\"7\": 98, \"10\": 156, \"8\": 513, \"0\": 94, \"3\": 2, \"9\": 97, \"6\": 41, \"4\": 83, \"14\": 22, \"15\": 58, \"2\": 23, \"5\": 12, \"1\": 1}, \"4\": {\"1\": 93, \"0\": 144, \"4\": 481, \"14\": 248, \"10\": 53, \"8\": 99, \"7\": 79, \"3\": 1, \"2\": 1, \"6\": 1}, \"12\": {\"12\": 1198, \"11\": 2}, \"6\": {\"6\": 863, \"8\": 48, \"9\": 154, \"15\": 35, \"10\": 72, \"0\": 19, \"13\": 6, \"5\": 3}, \"7\": {\"7\": 639, \"8\": 76, \"3\": 176, \"4\": 128, \"2\": 115, \"10\": 5, \"0\": 18, \"15\": 18, \"14\": 13, \"9\": 5, \"5\": 3, \"1\": 4}, \"10\": {\"0\": 240, \"8\": 176, \"10\": 519, \"1\": 28, \"4\": 62, \"14\": 97, \"7\": 3, \"6\": 56, \"15\": 5, \"9\": 13, \"5\": 1}, \"0\": {\"10\": 264, \"0\": 370, \"9\": 4, \"7\": 13, \"14\": 214, \"4\": 174, \"8\": 109, \"1\": 32, \"6\": 18, \"15\": 2}, \"15\": {\"15\": 498, \"9\": 342, \"13\": 58, \"6\": 42, \"5\": 126, \"7\": 12, \"2\": 31, \"8\": 76, \"10\": 8, \"3\": 4, \"14\": 1, \"0\": 2}, \"9\": {\"9\": 485, \"13\": 35, \"15\": 385, \"6\": 119, \"8\": 95, \"7\": 9, \"5\": 51, \"10\": 7, \"2\": 7, \"0\": 4, \"3\": 1, \"4\": 2}, \"11\": {\"11\": 1197, \"12\": 3}, \"14\": {\"1\": 207, \"14\": 425, \"4\": 227, \"0\": 204, \"7\": 16, \"10\": 92, \"8\": 28, \"3\": 1}, \"2\": {\"3\": 341, \"2\": 488, \"9\": 19, \"5\": 113, \"15\": 80, \"7\": 120, \"10\": 2, \"8\": 32, \"13\": 3, \"4\": 2}, \"13\": {\"13\": 886, \"5\": 209, \"2\": 21, \"15\": 55, \"6\": 9, \"9\": 19, \"3\": 1}, \"3\": {\"2\": 278, \"3\": 755, \"7\": 163, \"15\": 1, \"5\": 1, \"4\": 2}, \"1\": {\"1\": 714, \"14\": 224, \"4\": 155, \"7\": 14, \"10\": 53, \"0\": 34, \"8\": 4, \"3\": 1, \"2\": 1}}}, \"per_domain_accuracy\": {\"ORACLE.run2_50\": {\"accuracy\": 0.8102083333333333, \"source?\": true}, \"ORACLE.run2_14\": {\"accuracy\": 0.8222916666666666, \"source?\": true}, \"ORACLE.run2_32\": {\"accuracy\": 0.79890625, \"source?\": true}, \"ORACLE.run2_44\": {\"accuracy\": 0.76234375, \"source?\": true}, \"ORACLE.run2_8\": {\"accuracy\": 0.7296875, \"source?\": true}, \"ORACLE.run2_20\": {\"accuracy\": 0.64671875, \"source?\": true}, \"ORACLE.run2_38\": {\"accuracy\": 0.7153645833333333, \"source?\": true}, \"ORACLE.run2_26\": {\"accuracy\": 0.5759895833333334, \"source?\": true}, \"ORACLE.run1_50\": {\"accuracy\": 0.790625, \"source?\": false}, \"ORACLE.run1_14\": {\"accuracy\": 0.8239583333333333, \"source?\": false}, \"ORACLE.run1_32\": {\"accuracy\": 0.78078125, \"source?\": false}, \"ORACLE.run1_44\": {\"accuracy\": 0.7331770833333333, \"source?\": false}, \"ORACLE.run1_8\": {\"accuracy\": 0.7132291666666667, \"source?\": false}, \"ORACLE.run1_20\": {\"accuracy\": 0.6791145833333333, \"source?\": false}, \"ORACLE.run1_38\": {\"accuracy\": 0.8021354166666667, \"source?\": false}, \"ORACLE.run1_26\": {\"accuracy\": 0.56375, \"source?\": false}}}, \"history\": {\"epoch_indices\": [1, 2, 3, 4, 5, 6, 7, 8, 9, 10, 11], \"train_label_loss\": [1.1270913243639682, 0.8874768634863375, 0.7825957131660766, 0.6933434505308314, 0.6208717287440474, 0.5670338394727913, 0.5241344522978623, 0.4877105569602212, 0.4550741136345702, 0.42654626089591713, 0.3972318536327553], \"source_val_label_loss\": [0.9794697165489197, 0.8998104929924011, 0.8309063911437988, 0.7860789895057678, 0.7703313827514648, 0.7548550367355347, 0.77134108543396, 0.762361466884613, 0.7792481184005737, 0.7990637421607971, 0.8114495277404785], \"target_val_label_loss\": [0.9459137916564941, 0.866925060749054, 0.8009299039840698, 0.7590630054473877, 0.7458321452140808, 0.7338073253631592, 0.7517365217208862, 0.7469022274017334, 0.7685191631317139, 0.7862752676010132, 0.8082008361816406], \"source_val_acc_label\": [0.6381380208333334, 0.6627278645833333, 0.69046875, 0.7148111979166667, 0.720859375, 0.7275455729166667, 0.7326888020833333, 0.7342513020833333, 0.7352083333333334, 0.73310546875, 0.7307356770833333], \"target_val_acc_label\": [0.6502278645833334, 0.6710026041666667, 0.70048828125, 0.71966796875, 0.7238802083333333, 0.7293880208333333, 0.7358463541666667, 0.7352734375, 0.73509765625, 0.7309244791666667, 0.72853515625]}, \"dataset_metrics\": {\"source\": {\"train\": {\"n_unique_x\": 896000, \"n_unique_y\": 16, \"n_batch/episode\": 33600}, \"val\": {\"n_unique_x\": 192000, \"n_unique_y\": 16, \"n_batch/episode\": 4800}, \"test\": {\"n_unique_x\": 192000, \"n_unique_y\": 16, \"n_batch/episode\": 4800}}, \"target\": {\"train\": {\"n_unique_x\": 896000, \"n_unique_y\": 16, \"n_batch/episode\": 33600}, \"val\": {\"n_unique_x\": 192000, \"n_unique_y\": 16, \"n_batch/episode\": 4800}, \"test\": {\"n_unique_x\": 192000, \"n_unique_y\": 16, \"n_batch/episode\": 4800}}}}'"
      ]
     },
     "execution_count": 29,
     "metadata": {},
     "output_type": "execute_result"
    }
   ],
   "source": [
    "json.dumps(experiment)"
   ]
  }
 ],
 "metadata": {
  "celltoolbar": "Tags",
  "kernelspec": {
   "display_name": "Python 3 (ipykernel)",
   "language": "python",
   "name": "python3"
  },
  "language_info": {
   "codemirror_mode": {
    "name": "ipython",
    "version": 3
   },
   "file_extension": ".py",
   "mimetype": "text/x-python",
   "name": "python",
   "nbconvert_exporter": "python",
   "pygments_lexer": "ipython3",
   "version": "3.8.10"
  },
  "papermill": {
   "default_parameters": {},
   "duration": 10731.322929,
   "end_time": "2022-03-29T23:48:43.303771",
   "environment_variables": {},
   "exception": null,
   "input_path": "/mnt/wd500GB/CSC500/csc500-main/csc500-notebooks/templates/tl_ptn_template.ipynb",
   "output_path": "trial.ipynb",
   "parameters": {
    "parameters": {
     "BEST_MODEL_PATH": "./best_model.pth",
     "NUM_LOGS_PER_EPOCH": 10,
     "criteria_for_best": "target_accuracy",
     "dataset_seed": 500,
     "datasets": [
      {
       "domain_prefix": "ORACLE.run1_",
       "domains": [
        32,
        38,
        8,
        44,
        14,
        50,
        20,
        26
       ],
       "episode_transforms": [],
       "labels": [
        "3123D52",
        "3123D65",
        "3123D79",
        "3123D80",
        "3123D54",
        "3123D70",
        "3123D7B",
        "3123D89",
        "3123D58",
        "3123D76",
        "3123D7D",
        "3123EFE",
        "3123D64",
        "3123D78",
        "3123D7E",
        "3124E4A"
       ],
       "num_examples_per_domain_per_label": 10000,
       "pickle_path": "/mnt/wd500GB/CSC500/csc500-main/datasets/oracle.Run1_10kExamples_stratified_ds.2022A.pkl",
       "source_or_target_dataset": "target",
       "x_transforms": [
        "unit_mag"
       ]
      },
      {
       "domain_prefix": "ORACLE.run2_",
       "domains": [
        32,
        38,
        8,
        44,
        14,
        50,
        20,
        26
       ],
       "episode_transforms": [],
       "labels": [
        "3123D52",
        "3123D65",
        "3123D79",
        "3123D80",
        "3123D54",
        "3123D70",
        "3123D7B",
        "3123D89",
        "3123D58",
        "3123D76",
        "3123D7D",
        "3123EFE",
        "3123D64",
        "3123D78",
        "3123D7E",
        "3124E4A"
       ],
       "num_examples_per_domain_per_label": 10000,
       "pickle_path": "/mnt/wd500GB/CSC500/csc500-main/datasets/oracle.Run2_10kExamples_stratified_ds.2022A.pkl",
       "source_or_target_dataset": "source",
       "x_transforms": [
        "unit_mag"
       ]
      }
     ],
     "device": "cuda",
     "experiment_name": "tl_1v2:oracle.run1-oracle.run2",
     "lr": 0.0001,
     "n_epoch": 50,
     "n_query": 2,
     "n_shot": 3,
     "n_way": 16,
     "patience": 3,
     "seed": 500,
     "test_k_factor": 2,
     "torch_default_dtype": "torch.float32",
     "train_k_factor": 3,
     "val_k_factor": 2,
     "x_net": [
      {
       "class": "nnReshape",
       "kargs": {
        "shape": [
         -1,
         1,
         2,
         256
        ]
       }
      },
      {
       "class": "Conv2d",
       "kargs": {
        "bias": false,
        "in_channels": 1,
        "kernel_size": [
         1,
         7
        ],
        "out_channels": 256,
        "padding": [
         0,
         3
        ]
       }
      },
      {
       "class": "ReLU",
       "kargs": {
        "inplace": true
       }
      },
      {
       "class": "BatchNorm2d",
       "kargs": {
        "num_features": 256
       }
      },
      {
       "class": "Conv2d",
       "kargs": {
        "bias": true,
        "in_channels": 256,
        "kernel_size": [
         2,
         7
        ],
        "out_channels": 80,
        "padding": [
         0,
         3
        ]
       }
      },
      {
       "class": "ReLU",
       "kargs": {
        "inplace": true
       }
      },
      {
       "class": "BatchNorm2d",
       "kargs": {
        "num_features": 80
       }
      },
      {
       "class": "Flatten",
       "kargs": {}
      },
      {
       "class": "Linear",
       "kargs": {
        "in_features": 20480,
        "out_features": 256
       }
      },
      {
       "class": "ReLU",
       "kargs": {
        "inplace": true
       }
      },
      {
       "class": "BatchNorm1d",
       "kargs": {
        "num_features": 256
       }
      },
      {
       "class": "Linear",
       "kargs": {
        "in_features": 256,
        "out_features": 256
       }
      }
     ]
    }
   },
   "start_time": "2022-03-29T20:49:51.980842",
   "version": "2.3.4"
  }
 },
 "nbformat": 4,
 "nbformat_minor": 5
}