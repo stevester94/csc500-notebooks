{
 "cells": [
  {
   "cell_type": "markdown",
   "id": "9fea5f46",
   "metadata": {
    "papermill": {
     "duration": 0.019043,
     "end_time": "2022-03-29T12:41:34.330002",
     "exception": false,
     "start_time": "2022-03-29T12:41:34.310959",
     "status": "completed"
    },
    "tags": []
   },
   "source": [
    "# Transfer Learning Template"
   ]
  },
  {
   "cell_type": "code",
   "execution_count": 1,
   "id": "0902182a",
   "metadata": {
    "execution": {
     "iopub.execute_input": "2022-03-29T12:41:34.372719Z",
     "iopub.status.busy": "2022-03-29T12:41:34.372270Z",
     "iopub.status.idle": "2022-03-29T12:41:35.906263Z",
     "shell.execute_reply": "2022-03-29T12:41:35.905954Z"
    },
    "papermill": {
     "duration": 1.560604,
     "end_time": "2022-03-29T12:41:35.906331",
     "exception": false,
     "start_time": "2022-03-29T12:41:34.345727",
     "status": "completed"
    },
    "tags": []
   },
   "outputs": [],
   "source": [
    "%load_ext autoreload\n",
    "%autoreload 2\n",
    "%matplotlib inline\n",
    "\n",
    "    \n",
    "import os, json, sys, time, random\n",
    "import numpy as np\n",
    "import torch\n",
    "from torch.optim import Adam\n",
    "from  easydict import EasyDict\n",
    "import matplotlib.pyplot as plt\n",
    "\n",
    "from steves_models.steves_ptn import Steves_Prototypical_Network\n",
    "\n",
    "from steves_utils.lazy_iterable_wrapper import Lazy_Iterable_Wrapper\n",
    "from steves_utils.iterable_aggregator import Iterable_Aggregator\n",
    "from steves_utils.ptn_train_eval_test_jig import  PTN_Train_Eval_Test_Jig\n",
    "from steves_utils.torch_sequential_builder import build_sequential\n",
    "from steves_utils.torch_utils import get_dataset_metrics, ptn_confusion_by_domain_over_dataloader\n",
    "from steves_utils.utils_v2 import (per_domain_accuracy_from_confusion, get_datasets_base_path)\n",
    "from steves_utils.PTN.utils import independent_accuracy_assesment\n",
    "\n",
    "from torch.utils.data import DataLoader\n",
    "\n",
    "from steves_utils.stratified_dataset.episodic_accessor import Episodic_Accessor_Factory\n",
    "\n",
    "from steves_utils.ptn_do_report import (\n",
    "    get_loss_curve,\n",
    "    get_results_table,\n",
    "    get_parameters_table,\n",
    "    get_domain_accuracies,\n",
    ")\n",
    "\n",
    "from steves_utils.transforms import get_chained_transform"
   ]
  },
  {
   "cell_type": "markdown",
   "id": "41c840b4",
   "metadata": {
    "papermill": {
     "duration": 0.01238,
     "end_time": "2022-03-29T12:41:35.937374",
     "exception": false,
     "start_time": "2022-03-29T12:41:35.924994",
     "status": "completed"
    },
    "tags": []
   },
   "source": [
    "# Allowed Parameters\n",
    "These are allowed parameters, not defaults\n",
    "Each of these values need to be present in the injected parameters (the notebook will raise an exception if they are not present)\n",
    "\n",
    "Papermill uses the cell tag \"parameters\" to inject the real parameters below this cell.\n",
    "Enable tags to see what I mean"
   ]
  },
  {
   "cell_type": "code",
   "execution_count": 2,
   "id": "fd44eb83",
   "metadata": {
    "execution": {
     "iopub.execute_input": "2022-03-29T12:41:35.964820Z",
     "iopub.status.busy": "2022-03-29T12:41:35.964561Z",
     "iopub.status.idle": "2022-03-29T12:41:35.979067Z",
     "shell.execute_reply": "2022-03-29T12:41:35.978636Z"
    },
    "papermill": {
     "duration": 0.029284,
     "end_time": "2022-03-29T12:41:35.979166",
     "exception": false,
     "start_time": "2022-03-29T12:41:35.949882",
     "status": "completed"
    },
    "tags": []
   },
   "outputs": [],
   "source": [
    "required_parameters = {\n",
    "    \"experiment_name\",\n",
    "    \"lr\",\n",
    "    \"device\",\n",
    "    \"seed\",\n",
    "    \"dataset_seed\",\n",
    "    \"n_shot\",\n",
    "    \"n_query\",\n",
    "    \"n_way\",\n",
    "    \"train_k_factor\",\n",
    "    \"val_k_factor\",\n",
    "    \"test_k_factor\",\n",
    "    \"n_epoch\",\n",
    "    \"patience\",\n",
    "    \"criteria_for_best\",\n",
    "    \"x_net\",\n",
    "    \"datasets\",\n",
    "    \"torch_default_dtype\",\n",
    "    \"NUM_LOGS_PER_EPOCH\",\n",
    "    \"BEST_MODEL_PATH\",\n",
    "    \"x_shape\",\n",
    "}"
   ]
  },
  {
   "cell_type": "code",
   "execution_count": 3,
   "id": "fa3f0049",
   "metadata": {
    "execution": {
     "iopub.execute_input": "2022-03-29T12:41:36.018624Z",
     "iopub.status.busy": "2022-03-29T12:41:36.018339Z",
     "iopub.status.idle": "2022-03-29T12:41:36.033933Z",
     "shell.execute_reply": "2022-03-29T12:41:36.033499Z"
    },
    "papermill": {
     "duration": 0.036216,
     "end_time": "2022-03-29T12:41:36.034040",
     "exception": false,
     "start_time": "2022-03-29T12:41:35.997824",
     "status": "completed"
    },
    "tags": [
     "parameters"
    ]
   },
   "outputs": [],
   "source": [
    "from steves_utils.CORES.utils import (\n",
    "    ALL_NODES,\n",
    "    ALL_NODES_MINIMUM_1000_EXAMPLES,\n",
    "    ALL_DAYS\n",
    ")\n",
    "\n",
    "from steves_utils.ORACLE.utils_v2 import (\n",
    "    ALL_DISTANCES_FEET_NARROWED,\n",
    "    ALL_RUNS,\n",
    "    ALL_SERIAL_NUMBERS,\n",
    ")\n",
    "\n",
    "standalone_parameters = {}\n",
    "standalone_parameters[\"experiment_name\"] = \"STANDALONE PTN\"\n",
    "standalone_parameters[\"lr\"] = 0.001\n",
    "standalone_parameters[\"device\"] = \"cuda\"\n",
    "\n",
    "standalone_parameters[\"seed\"] = 1337\n",
    "standalone_parameters[\"dataset_seed\"] = 1337\n",
    "\n",
    "standalone_parameters[\"n_way\"] = 8\n",
    "standalone_parameters[\"n_shot\"] = 3\n",
    "standalone_parameters[\"n_query\"]  = 2\n",
    "standalone_parameters[\"train_k_factor\"] = 1\n",
    "standalone_parameters[\"val_k_factor\"] = 2\n",
    "standalone_parameters[\"test_k_factor\"] = 2\n",
    "\n",
    "\n",
    "standalone_parameters[\"n_epoch\"] = 50\n",
    "\n",
    "standalone_parameters[\"patience\"] = 10\n",
    "standalone_parameters[\"criteria_for_best\"] = \"source_loss\"\n",
    "\n",
    "standalone_parameters[\"datasets\"] = [\n",
    "    {\n",
    "        \"labels\": ALL_SERIAL_NUMBERS,\n",
    "        \"domains\": ALL_DISTANCES_FEET_NARROWED,\n",
    "        \"num_examples_per_domain_per_label\": 100,\n",
    "        \"pickle_path\": os.path.join(get_datasets_base_path(), \"oracle.Run1_framed_2000Examples_stratified_ds.2022A.pkl\"),\n",
    "        \"source_or_target_dataset\": \"source\",\n",
    "        \"x_transforms\": [\"unit_mag\", \"minus_two\"],\n",
    "        \"episode_transforms\": [],\n",
    "        \"domain_prefix\": \"ORACLE_\"\n",
    "    },\n",
    "    {\n",
    "        \"labels\": ALL_NODES,\n",
    "        \"domains\": ALL_DAYS,\n",
    "        \"num_examples_per_domain_per_label\": 100,\n",
    "        \"pickle_path\": os.path.join(get_datasets_base_path(), \"cores.stratified_ds.2022A.pkl\"),\n",
    "        \"source_or_target_dataset\": \"target\",\n",
    "        \"x_transforms\": [\"unit_power\", \"times_zero\"],\n",
    "        \"episode_transforms\": [],\n",
    "        \"domain_prefix\": \"CORES_\"\n",
    "    }   \n",
    "]\n",
    "\n",
    "standalone_parameters[\"torch_default_dtype\"] = \"torch.float32\" \n",
    "\n",
    "\n",
    "\n",
    "standalone_parameters[\"x_net\"] =     [\n",
    "    {\"class\": \"nnReshape\", \"kargs\": {\"shape\":[-1, 1, 2, 256]}},\n",
    "    {\"class\": \"Conv2d\", \"kargs\": { \"in_channels\":1, \"out_channels\":256, \"kernel_size\":(1,7), \"bias\":False, \"padding\":(0,3), },},\n",
    "    {\"class\": \"ReLU\", \"kargs\": {\"inplace\": True}},\n",
    "    {\"class\": \"BatchNorm2d\", \"kargs\": {\"num_features\":256}},\n",
    "\n",
    "    {\"class\": \"Conv2d\", \"kargs\": { \"in_channels\":256, \"out_channels\":80, \"kernel_size\":(2,7), \"bias\":True, \"padding\":(0,3), },},\n",
    "    {\"class\": \"ReLU\", \"kargs\": {\"inplace\": True}},\n",
    "    {\"class\": \"BatchNorm2d\", \"kargs\": {\"num_features\":80}},\n",
    "    {\"class\": \"Flatten\", \"kargs\": {}},\n",
    "\n",
    "    {\"class\": \"Linear\", \"kargs\": {\"in_features\": 80*256, \"out_features\": 256}}, # 80 units per IQ pair\n",
    "    {\"class\": \"ReLU\", \"kargs\": {\"inplace\": True}},\n",
    "    {\"class\": \"BatchNorm1d\", \"kargs\": {\"num_features\":256}},\n",
    "\n",
    "    {\"class\": \"Linear\", \"kargs\": {\"in_features\": 256, \"out_features\": 256}},\n",
    "]\n",
    "\n",
    "# Parameters relevant to results\n",
    "# These parameters will basically never need to change\n",
    "standalone_parameters[\"NUM_LOGS_PER_EPOCH\"] = 10\n",
    "standalone_parameters[\"BEST_MODEL_PATH\"] = \"./best_model.pth\"\n",
    "\n",
    "\n",
    "\n",
    "\n"
   ]
  },
  {
   "cell_type": "code",
   "execution_count": 4,
   "id": "28175f31",
   "metadata": {
    "execution": {
     "iopub.execute_input": "2022-03-29T12:41:36.075185Z",
     "iopub.status.busy": "2022-03-29T12:41:36.074863Z",
     "iopub.status.idle": "2022-03-29T12:41:36.088182Z",
     "shell.execute_reply": "2022-03-29T12:41:36.088579Z"
    },
    "papermill": {
     "duration": 0.034975,
     "end_time": "2022-03-29T12:41:36.088698",
     "exception": false,
     "start_time": "2022-03-29T12:41:36.053723",
     "status": "completed"
    },
    "tags": [
     "injected-parameters"
    ]
   },
   "outputs": [],
   "source": [
    "# Parameters\n",
    "parameters = {\n",
    "    \"experiment_name\": \"tl_1v2:oracle.run1-oracle.run2\",\n",
    "    \"device\": \"cuda\",\n",
    "    \"lr\": 0.0001,\n",
    "    \"n_shot\": 3,\n",
    "    \"n_query\": 2,\n",
    "    \"train_k_factor\": 3,\n",
    "    \"val_k_factor\": 2,\n",
    "    \"test_k_factor\": 2,\n",
    "    \"torch_default_dtype\": \"torch.float32\",\n",
    "    \"n_epoch\": 50,\n",
    "    \"patience\": 3,\n",
    "    \"criteria_for_best\": \"target_accuracy\",\n",
    "    \"x_net\": [\n",
    "        {\"class\": \"nnReshape\", \"kargs\": {\"shape\": [-1, 1, 2, 256]}},\n",
    "        {\n",
    "            \"class\": \"Conv2d\",\n",
    "            \"kargs\": {\n",
    "                \"in_channels\": 1,\n",
    "                \"out_channels\": 256,\n",
    "                \"kernel_size\": [1, 7],\n",
    "                \"bias\": False,\n",
    "                \"padding\": [0, 3],\n",
    "            },\n",
    "        },\n",
    "        {\"class\": \"ReLU\", \"kargs\": {\"inplace\": True}},\n",
    "        {\"class\": \"BatchNorm2d\", \"kargs\": {\"num_features\": 256}},\n",
    "        {\n",
    "            \"class\": \"Conv2d\",\n",
    "            \"kargs\": {\n",
    "                \"in_channels\": 256,\n",
    "                \"out_channels\": 80,\n",
    "                \"kernel_size\": [2, 7],\n",
    "                \"bias\": True,\n",
    "                \"padding\": [0, 3],\n",
    "            },\n",
    "        },\n",
    "        {\"class\": \"ReLU\", \"kargs\": {\"inplace\": True}},\n",
    "        {\"class\": \"BatchNorm2d\", \"kargs\": {\"num_features\": 80}},\n",
    "        {\"class\": \"Flatten\", \"kargs\": {}},\n",
    "        {\"class\": \"Linear\", \"kargs\": {\"in_features\": 20480, \"out_features\": 256}},\n",
    "        {\"class\": \"ReLU\", \"kargs\": {\"inplace\": True}},\n",
    "        {\"class\": \"BatchNorm1d\", \"kargs\": {\"num_features\": 256}},\n",
    "        {\"class\": \"Linear\", \"kargs\": {\"in_features\": 256, \"out_features\": 256}},\n",
    "    ],\n",
    "    \"NUM_LOGS_PER_EPOCH\": 10,\n",
    "    \"BEST_MODEL_PATH\": \"./best_model.pth\",\n",
    "    \"n_way\": 16,\n",
    "    \"datasets\": [\n",
    "        {\n",
    "            \"labels\": [\n",
    "                \"3123D52\",\n",
    "                \"3123D65\",\n",
    "                \"3123D79\",\n",
    "                \"3123D80\",\n",
    "                \"3123D54\",\n",
    "                \"3123D70\",\n",
    "                \"3123D7B\",\n",
    "                \"3123D89\",\n",
    "                \"3123D58\",\n",
    "                \"3123D76\",\n",
    "                \"3123D7D\",\n",
    "                \"3123EFE\",\n",
    "                \"3123D64\",\n",
    "                \"3123D78\",\n",
    "                \"3123D7E\",\n",
    "                \"3124E4A\",\n",
    "            ],\n",
    "            \"domains\": [32, 38, 8, 44, 14, 50, 20, 26],\n",
    "            \"num_examples_per_domain_per_label\": 10000,\n",
    "            \"pickle_path\": \"/mnt/wd500GB/CSC500/csc500-main/datasets/oracle.Run1_10kExamples_stratified_ds.2022A.pkl\",\n",
    "            \"source_or_target_dataset\": \"source\",\n",
    "            \"x_transforms\": [\"unit_mag\"],\n",
    "            \"episode_transforms\": [],\n",
    "            \"domain_prefix\": \"ORACLE.run1_\",\n",
    "        },\n",
    "        {\n",
    "            \"labels\": [\n",
    "                \"3123D52\",\n",
    "                \"3123D65\",\n",
    "                \"3123D79\",\n",
    "                \"3123D80\",\n",
    "                \"3123D54\",\n",
    "                \"3123D70\",\n",
    "                \"3123D7B\",\n",
    "                \"3123D89\",\n",
    "                \"3123D58\",\n",
    "                \"3123D76\",\n",
    "                \"3123D7D\",\n",
    "                \"3123EFE\",\n",
    "                \"3123D64\",\n",
    "                \"3123D78\",\n",
    "                \"3123D7E\",\n",
    "                \"3124E4A\",\n",
    "            ],\n",
    "            \"domains\": [32, 38, 8, 44, 14, 50, 20, 26],\n",
    "            \"num_examples_per_domain_per_label\": 10000,\n",
    "            \"pickle_path\": \"/mnt/wd500GB/CSC500/csc500-main/datasets/oracle.Run2_10kExamples_stratified_ds.2022A.pkl\",\n",
    "            \"source_or_target_dataset\": \"target\",\n",
    "            \"x_transforms\": [\"unit_mag\"],\n",
    "            \"episode_transforms\": [],\n",
    "            \"domain_prefix\": \"ORACLE.run2_\",\n",
    "        },\n",
    "    ],\n",
    "    \"dataset_seed\": 500,\n",
    "    \"seed\": 500,\n",
    "}\n"
   ]
  },
  {
   "cell_type": "code",
   "execution_count": 5,
   "id": "8fa1cc33",
   "metadata": {
    "execution": {
     "iopub.execute_input": "2022-03-29T12:41:36.123402Z",
     "iopub.status.busy": "2022-03-29T12:41:36.123147Z",
     "iopub.status.idle": "2022-03-29T12:41:36.140273Z",
     "shell.execute_reply": "2022-03-29T12:41:36.139790Z"
    },
    "papermill": {
     "duration": 0.033534,
     "end_time": "2022-03-29T12:41:36.140372",
     "exception": false,
     "start_time": "2022-03-29T12:41:36.106838",
     "status": "completed"
    },
    "tags": []
   },
   "outputs": [],
   "source": [
    "# Set this to True if you want to run this template directly\n",
    "STANDALONE = False\n",
    "if STANDALONE:\n",
    "    print(\"parameters not injected, running with standalone_parameters\")\n",
    "    parameters = standalone_parameters\n",
    "\n",
    "if not 'parameters' in locals() and not 'parameters' in globals():\n",
    "    raise Exception(\"Parameter injection failed\")\n",
    "\n",
    "#Use an easy dict for all the parameters\n",
    "p = EasyDict(parameters)\n",
    "\n",
    "if \"x_shape\" not in p:\n",
    "    p.x_shape = [2,256] # Default to this if we dont supply x_shape\n",
    "\n",
    "\n",
    "supplied_keys = set(p.keys())\n",
    "\n",
    "if  supplied_keys != required_parameters:\n",
    "    print(\"Parameters are incorrect\")\n",
    "    if len(supplied_keys - required_parameters)>0: print(\"Shouldn't have:\", str(supplied_keys - required_parameters))\n",
    "    if len(required_parameters - supplied_keys)>0: print(\"Need to have:\", str(required_parameters - supplied_keys))\n",
    "    raise RuntimeError(\"Parameters are incorrect\")"
   ]
  },
  {
   "cell_type": "code",
   "execution_count": 6,
   "id": "3a028d58",
   "metadata": {
    "execution": {
     "iopub.execute_input": "2022-03-29T12:41:36.173531Z",
     "iopub.status.busy": "2022-03-29T12:41:36.173280Z",
     "iopub.status.idle": "2022-03-29T12:41:36.187982Z",
     "shell.execute_reply": "2022-03-29T12:41:36.188376Z"
    },
    "papermill": {
     "duration": 0.029862,
     "end_time": "2022-03-29T12:41:36.188494",
     "exception": false,
     "start_time": "2022-03-29T12:41:36.158632",
     "status": "completed"
    },
    "tags": []
   },
   "outputs": [],
   "source": [
    "###################################\n",
    "# Set the RNGs and make it all deterministic\n",
    "###################################\n",
    "np.random.seed(p.seed)\n",
    "random.seed(p.seed)\n",
    "torch.manual_seed(p.seed)\n",
    "\n",
    "torch.use_deterministic_algorithms(True) "
   ]
  },
  {
   "cell_type": "code",
   "execution_count": 7,
   "id": "b691acf6",
   "metadata": {
    "execution": {
     "iopub.execute_input": "2022-03-29T12:41:36.220416Z",
     "iopub.status.busy": "2022-03-29T12:41:36.220163Z",
     "iopub.status.idle": "2022-03-29T12:41:36.235775Z",
     "shell.execute_reply": "2022-03-29T12:41:36.235282Z"
    },
    "papermill": {
     "duration": 0.030149,
     "end_time": "2022-03-29T12:41:36.235876",
     "exception": false,
     "start_time": "2022-03-29T12:41:36.205727",
     "status": "completed"
    },
    "tags": []
   },
   "outputs": [],
   "source": [
    "###########################################\n",
    "# The stratified datasets honor this\n",
    "###########################################\n",
    "torch.set_default_dtype(eval(p.torch_default_dtype))"
   ]
  },
  {
   "cell_type": "code",
   "execution_count": 8,
   "id": "b5fba671",
   "metadata": {
    "execution": {
     "iopub.execute_input": "2022-03-29T12:41:36.268753Z",
     "iopub.status.busy": "2022-03-29T12:41:36.268506Z",
     "iopub.status.idle": "2022-03-29T12:41:36.308284Z",
     "shell.execute_reply": "2022-03-29T12:41:36.307829Z"
    },
    "papermill": {
     "duration": 0.054601,
     "end_time": "2022-03-29T12:41:36.308393",
     "exception": false,
     "start_time": "2022-03-29T12:41:36.253792",
     "status": "completed"
    },
    "tags": []
   },
   "outputs": [],
   "source": [
    "###################################\n",
    "# Build the network(s)\n",
    "# Note: It's critical to do this AFTER setting the RNG\n",
    "###################################\n",
    "x_net = build_sequential(p.x_net)"
   ]
  },
  {
   "cell_type": "code",
   "execution_count": 9,
   "id": "5d7e61cc",
   "metadata": {
    "execution": {
     "iopub.execute_input": "2022-03-29T12:41:36.342021Z",
     "iopub.status.busy": "2022-03-29T12:41:36.341773Z",
     "iopub.status.idle": "2022-03-29T12:41:36.356809Z",
     "shell.execute_reply": "2022-03-29T12:41:36.357209Z"
    },
    "papermill": {
     "duration": 0.030617,
     "end_time": "2022-03-29T12:41:36.357328",
     "exception": false,
     "start_time": "2022-03-29T12:41:36.326711",
     "status": "completed"
    },
    "tags": []
   },
   "outputs": [],
   "source": [
    "start_time_secs = time.time()"
   ]
  },
  {
   "cell_type": "code",
   "execution_count": 10,
   "id": "c6b67dfd",
   "metadata": {
    "execution": {
     "iopub.execute_input": "2022-03-29T12:41:36.390183Z",
     "iopub.status.busy": "2022-03-29T12:41:36.389675Z",
     "iopub.status.idle": "2022-03-29T12:41:36.400124Z",
     "shell.execute_reply": "2022-03-29T12:41:36.400537Z"
    },
    "papermill": {
     "duration": 0.025694,
     "end_time": "2022-03-29T12:41:36.400657",
     "exception": false,
     "start_time": "2022-03-29T12:41:36.374963",
     "status": "completed"
    },
    "tags": []
   },
   "outputs": [],
   "source": [
    "p.domains_source = []\n",
    "p.domains_target = []\n",
    "\n",
    "\n",
    "train_original_source = []\n",
    "val_original_source   = []\n",
    "test_original_source  = []\n",
    "\n",
    "train_original_target = []\n",
    "val_original_target   = []\n",
    "test_original_target  = []"
   ]
  },
  {
   "cell_type": "code",
   "execution_count": 11,
   "id": "e3d9c3d3",
   "metadata": {
    "execution": {
     "iopub.execute_input": "2022-03-29T12:41:36.433179Z",
     "iopub.status.busy": "2022-03-29T12:41:36.432927Z",
     "iopub.status.idle": "2022-03-29T12:41:36.445836Z",
     "shell.execute_reply": "2022-03-29T12:41:36.446137Z"
    },
    "papermill": {
     "duration": 0.027757,
     "end_time": "2022-03-29T12:41:36.446228",
     "exception": false,
     "start_time": "2022-03-29T12:41:36.418471",
     "status": "completed"
    },
    "tags": []
   },
   "outputs": [],
   "source": [
    "# global_x_transform_func = lambda x: normalize(x.to(torch.get_default_dtype()), \"unit_power\") # unit_power, unit_mag\n",
    "# global_x_transform_func = lambda x: normalize(x, \"unit_power\") # unit_power, unit_mag"
   ]
  },
  {
   "cell_type": "code",
   "execution_count": 12,
   "id": "acb78fd2",
   "metadata": {
    "execution": {
     "iopub.execute_input": "2022-03-29T12:41:36.484808Z",
     "iopub.status.busy": "2022-03-29T12:41:36.479341Z",
     "iopub.status.idle": "2022-03-29T12:41:36.499220Z",
     "shell.execute_reply": "2022-03-29T12:41:36.499612Z"
    },
    "papermill": {
     "duration": 0.034677,
     "end_time": "2022-03-29T12:41:36.499732",
     "exception": false,
     "start_time": "2022-03-29T12:41:36.465055",
     "status": "completed"
    },
    "tags": []
   },
   "outputs": [],
   "source": [
    "def add_dataset(\n",
    "    labels,\n",
    "    domains,\n",
    "    pickle_path,\n",
    "    x_transforms,\n",
    "    episode_transforms,\n",
    "    domain_prefix,\n",
    "    num_examples_per_domain_per_label,\n",
    "    source_or_target_dataset:str,\n",
    "    iterator_seed=p.seed,\n",
    "    dataset_seed=p.dataset_seed,\n",
    "    n_shot=p.n_shot,\n",
    "    n_way=p.n_way,\n",
    "    n_query=p.n_query,\n",
    "    train_val_test_k_factors=(p.train_k_factor,p.val_k_factor,p.test_k_factor),\n",
    "):\n",
    "   \n",
    "    if x_transforms == []: x_transform = None\n",
    "    else: x_transform = get_chained_transform(x_transforms)\n",
    "    \n",
    "    if episode_transforms == []: episode_transform = None\n",
    "    else: raise Exception(\"episode_transforms not implemented\")\n",
    "    \n",
    "    episode_transform = lambda tup, _prefix=domain_prefix: (_prefix + str(tup[0]), tup[1])\n",
    "\n",
    "\n",
    "    eaf = Episodic_Accessor_Factory(\n",
    "        labels=labels,\n",
    "        domains=domains,\n",
    "        num_examples_per_domain_per_label=num_examples_per_domain_per_label,\n",
    "        iterator_seed=iterator_seed,\n",
    "        dataset_seed=dataset_seed,\n",
    "        n_shot=n_shot,\n",
    "        n_way=n_way,\n",
    "        n_query=n_query,\n",
    "        train_val_test_k_factors=train_val_test_k_factors,\n",
    "        pickle_path=pickle_path,\n",
    "        x_transform_func=x_transform,\n",
    "    )\n",
    "\n",
    "    train, val, test = eaf.get_train(), eaf.get_val(), eaf.get_test()\n",
    "    train = Lazy_Iterable_Wrapper(train, episode_transform)\n",
    "    val = Lazy_Iterable_Wrapper(val, episode_transform)\n",
    "    test = Lazy_Iterable_Wrapper(test, episode_transform)\n",
    "\n",
    "    if source_or_target_dataset==\"source\":\n",
    "        train_original_source.append(train)\n",
    "        val_original_source.append(val)\n",
    "        test_original_source.append(test)\n",
    "\n",
    "        p.domains_source.extend(\n",
    "            [domain_prefix + str(u) for u in domains]\n",
    "        )\n",
    "    elif source_or_target_dataset==\"target\":\n",
    "        train_original_target.append(train)\n",
    "        val_original_target.append(val)\n",
    "        test_original_target.append(test)\n",
    "        p.domains_target.extend(\n",
    "            [domain_prefix + str(u) for u in domains]\n",
    "        )\n",
    "    else:\n",
    "        raise Exception(f\"invalid source_or_target_dataset: {source_or_target_dataset}\")\n",
    "    "
   ]
  },
  {
   "cell_type": "code",
   "execution_count": 13,
   "id": "fe266617",
   "metadata": {
    "execution": {
     "iopub.execute_input": "2022-03-29T12:41:36.533200Z",
     "iopub.status.busy": "2022-03-29T12:41:36.532941Z",
     "iopub.status.idle": "2022-03-29T12:44:24.786451Z",
     "shell.execute_reply": "2022-03-29T12:44:24.786015Z"
    },
    "papermill": {
     "duration": 168.26847,
     "end_time": "2022-03-29T12:44:24.786564",
     "exception": false,
     "start_time": "2022-03-29T12:41:36.518094",
     "status": "completed"
    },
    "tags": []
   },
   "outputs": [],
   "source": [
    "for ds in p.datasets:\n",
    "    add_dataset(**ds)"
   ]
  },
  {
   "cell_type": "code",
   "execution_count": 14,
   "id": "b90d65ac",
   "metadata": {
    "execution": {
     "iopub.execute_input": "2022-03-29T12:44:24.819322Z",
     "iopub.status.busy": "2022-03-29T12:44:24.819066Z",
     "iopub.status.idle": "2022-03-29T12:44:24.833553Z",
     "shell.execute_reply": "2022-03-29T12:44:24.833141Z"
    },
    "papermill": {
     "duration": 0.029803,
     "end_time": "2022-03-29T12:44:24.833648",
     "exception": false,
     "start_time": "2022-03-29T12:44:24.803845",
     "status": "completed"
    },
    "tags": []
   },
   "outputs": [],
   "source": [
    "# from steves_utils.CORES.utils import (\n",
    "#     ALL_NODES,\n",
    "#     ALL_NODES_MINIMUM_1000_EXAMPLES,\n",
    "#     ALL_DAYS\n",
    "# )\n",
    "\n",
    "# add_dataset(\n",
    "#     labels=ALL_NODES,\n",
    "#     domains = ALL_DAYS,\n",
    "#     num_examples_per_domain_per_label=100,\n",
    "#     pickle_path=os.path.join(get_datasets_base_path(), \"cores.stratified_ds.2022A.pkl\"),\n",
    "#     source_or_target_dataset=\"target\",\n",
    "#     x_transform_func=global_x_transform_func,\n",
    "#     domain_modifier=lambda u: f\"cores_{u}\"\n",
    "# )"
   ]
  },
  {
   "cell_type": "code",
   "execution_count": 15,
   "id": "76db484d",
   "metadata": {
    "execution": {
     "iopub.execute_input": "2022-03-29T12:44:24.867569Z",
     "iopub.status.busy": "2022-03-29T12:44:24.867317Z",
     "iopub.status.idle": "2022-03-29T12:44:24.882993Z",
     "shell.execute_reply": "2022-03-29T12:44:24.882579Z"
    },
    "papermill": {
     "duration": 0.031048,
     "end_time": "2022-03-29T12:44:24.883089",
     "exception": false,
     "start_time": "2022-03-29T12:44:24.852041",
     "status": "completed"
    },
    "tags": []
   },
   "outputs": [],
   "source": [
    "# from steves_utils.ORACLE.utils_v2 import (\n",
    "#     ALL_DISTANCES_FEET,\n",
    "#     ALL_RUNS,\n",
    "#     ALL_SERIAL_NUMBERS,\n",
    "# )\n",
    "\n",
    "\n",
    "# add_dataset(\n",
    "#     labels=ALL_SERIAL_NUMBERS,\n",
    "#     domains = list(set(ALL_DISTANCES_FEET) - {2,62}),\n",
    "#     num_examples_per_domain_per_label=100,\n",
    "#     pickle_path=os.path.join(get_datasets_base_path(), \"oracle.Run2_framed_2000Examples_stratified_ds.2022A.pkl\"),\n",
    "#     source_or_target_dataset=\"source\",\n",
    "#     x_transform_func=global_x_transform_func,\n",
    "#     domain_modifier=lambda u: f\"oracle1_{u}\"\n",
    "# )\n"
   ]
  },
  {
   "cell_type": "code",
   "execution_count": 16,
   "id": "97dea9d2",
   "metadata": {
    "execution": {
     "iopub.execute_input": "2022-03-29T12:44:24.916699Z",
     "iopub.status.busy": "2022-03-29T12:44:24.916446Z",
     "iopub.status.idle": "2022-03-29T12:44:24.931403Z",
     "shell.execute_reply": "2022-03-29T12:44:24.930991Z"
    },
    "papermill": {
     "duration": 0.029804,
     "end_time": "2022-03-29T12:44:24.931498",
     "exception": false,
     "start_time": "2022-03-29T12:44:24.901694",
     "status": "completed"
    },
    "tags": []
   },
   "outputs": [],
   "source": [
    "# from steves_utils.ORACLE.utils_v2 import (\n",
    "#     ALL_DISTANCES_FEET,\n",
    "#     ALL_RUNS,\n",
    "#     ALL_SERIAL_NUMBERS,\n",
    "# )\n",
    "\n",
    "\n",
    "# add_dataset(\n",
    "#     labels=ALL_SERIAL_NUMBERS,\n",
    "#     domains = list(set(ALL_DISTANCES_FEET) - {2,62,56}),\n",
    "#     num_examples_per_domain_per_label=100,\n",
    "#     pickle_path=os.path.join(get_datasets_base_path(), \"oracle.Run2_framed_2000Examples_stratified_ds.2022A.pkl\"),\n",
    "#     source_or_target_dataset=\"source\",\n",
    "#     x_transform_func=global_x_transform_func,\n",
    "#     domain_modifier=lambda u: f\"oracle2_{u}\"\n",
    "# )"
   ]
  },
  {
   "cell_type": "code",
   "execution_count": 17,
   "id": "6f289866",
   "metadata": {
    "execution": {
     "iopub.execute_input": "2022-03-29T12:44:24.966800Z",
     "iopub.status.busy": "2022-03-29T12:44:24.966549Z",
     "iopub.status.idle": "2022-03-29T12:44:24.982746Z",
     "shell.execute_reply": "2022-03-29T12:44:24.982337Z"
    },
    "papermill": {
     "duration": 0.032144,
     "end_time": "2022-03-29T12:44:24.982842",
     "exception": false,
     "start_time": "2022-03-29T12:44:24.950698",
     "status": "completed"
    },
    "tags": []
   },
   "outputs": [],
   "source": [
    "# add_dataset(\n",
    "#     labels=list(range(19)),\n",
    "#     domains = [0,1,2],\n",
    "#     num_examples_per_domain_per_label=100,\n",
    "#     pickle_path=os.path.join(get_datasets_base_path(), \"metehan.stratified_ds.2022A.pkl\"),\n",
    "#     source_or_target_dataset=\"target\",\n",
    "#     x_transform_func=global_x_transform_func,\n",
    "#     domain_modifier=lambda u: f\"met_{u}\"\n",
    "# )"
   ]
  },
  {
   "cell_type": "code",
   "execution_count": 18,
   "id": "86a863c3",
   "metadata": {
    "execution": {
     "iopub.execute_input": "2022-03-29T12:44:25.015987Z",
     "iopub.status.busy": "2022-03-29T12:44:25.015727Z",
     "iopub.status.idle": "2022-03-29T12:44:25.029139Z",
     "shell.execute_reply": "2022-03-29T12:44:25.029508Z"
    },
    "papermill": {
     "duration": 0.029503,
     "end_time": "2022-03-29T12:44:25.029625",
     "exception": false,
     "start_time": "2022-03-29T12:44:25.000122",
     "status": "completed"
    },
    "tags": []
   },
   "outputs": [],
   "source": [
    "# # from steves_utils.wisig.utils import (\n",
    "# #     ALL_NODES_MINIMUM_100_EXAMPLES,\n",
    "# #     ALL_NODES_MINIMUM_500_EXAMPLES,\n",
    "# #     ALL_NODES_MINIMUM_1000_EXAMPLES,\n",
    "# #     ALL_DAYS\n",
    "# # )\n",
    "\n",
    "# import steves_utils.wisig.utils as wisig\n",
    "\n",
    "\n",
    "# add_dataset(\n",
    "#     labels=wisig.ALL_NODES_MINIMUM_100_EXAMPLES,\n",
    "#     domains = wisig.ALL_DAYS,\n",
    "#     num_examples_per_domain_per_label=100,\n",
    "#     pickle_path=os.path.join(get_datasets_base_path(), \"wisig.node3-19.stratified_ds.2022A.pkl\"),\n",
    "#     source_or_target_dataset=\"target\",\n",
    "#     x_transform_func=global_x_transform_func,\n",
    "#     domain_modifier=lambda u: f\"wisig_{u}\"\n",
    "# )"
   ]
  },
  {
   "cell_type": "code",
   "execution_count": 19,
   "id": "fd5442bc",
   "metadata": {
    "execution": {
     "iopub.execute_input": "2022-03-29T12:44:25.067121Z",
     "iopub.status.busy": "2022-03-29T12:44:25.066859Z",
     "iopub.status.idle": "2022-03-29T12:44:25.080041Z",
     "shell.execute_reply": "2022-03-29T12:44:25.080407Z"
    },
    "papermill": {
     "duration": 0.032113,
     "end_time": "2022-03-29T12:44:25.080525",
     "exception": false,
     "start_time": "2022-03-29T12:44:25.048412",
     "status": "completed"
    },
    "tags": []
   },
   "outputs": [],
   "source": [
    "###################################\n",
    "# Build the dataset\n",
    "###################################\n",
    "train_original_source = Iterable_Aggregator(train_original_source, p.seed)\n",
    "val_original_source = Iterable_Aggregator(val_original_source, p.seed)\n",
    "test_original_source = Iterable_Aggregator(test_original_source, p.seed)\n",
    "\n",
    "\n",
    "train_original_target = Iterable_Aggregator(train_original_target, p.seed)\n",
    "val_original_target = Iterable_Aggregator(val_original_target, p.seed)\n",
    "test_original_target = Iterable_Aggregator(test_original_target, p.seed)\n",
    "\n",
    "# For CNN We only use X and Y. And we only train on the source.\n",
    "# Properly form the data using a transform lambda and Lazy_Iterable_Wrapper. Finally wrap them in a dataloader\n",
    "\n",
    "transform_lambda = lambda ex: ex[1] # Original is (<domain>, <episode>) so we strip down to episode only\n",
    "\n",
    "train_processed_source = Lazy_Iterable_Wrapper(train_original_source, transform_lambda)\n",
    "val_processed_source   = Lazy_Iterable_Wrapper(val_original_source, transform_lambda)\n",
    "test_processed_source  = Lazy_Iterable_Wrapper(test_original_source, transform_lambda)\n",
    "\n",
    "train_processed_target = Lazy_Iterable_Wrapper(train_original_target, transform_lambda)\n",
    "val_processed_target   = Lazy_Iterable_Wrapper(val_original_target, transform_lambda)\n",
    "test_processed_target  = Lazy_Iterable_Wrapper(test_original_target, transform_lambda)\n",
    "\n",
    "datasets = EasyDict({\n",
    "    \"source\": {\n",
    "        \"original\": {\"train\":train_original_source, \"val\":val_original_source, \"test\":test_original_source},\n",
    "        \"processed\": {\"train\":train_processed_source, \"val\":val_processed_source, \"test\":test_processed_source}\n",
    "    },\n",
    "    \"target\": {\n",
    "        \"original\": {\"train\":train_original_target, \"val\":val_original_target, \"test\":test_original_target},\n",
    "        \"processed\": {\"train\":train_processed_target, \"val\":val_processed_target, \"test\":test_processed_target}\n",
    "    },\n",
    "})"
   ]
  },
  {
   "cell_type": "code",
   "execution_count": 20,
   "id": "5b3c01fc",
   "metadata": {
    "execution": {
     "iopub.execute_input": "2022-03-29T12:44:25.116719Z",
     "iopub.status.busy": "2022-03-29T12:44:25.116465Z",
     "iopub.status.idle": "2022-03-29T12:44:49.913989Z",
     "shell.execute_reply": "2022-03-29T12:44:49.913748Z"
    },
    "papermill": {
     "duration": 24.814271,
     "end_time": "2022-03-29T12:44:49.914057",
     "exception": false,
     "start_time": "2022-03-29T12:44:25.099786",
     "status": "completed"
    },
    "tags": []
   },
   "outputs": [
    {
     "name": "stdout",
     "output_type": "stream",
     "text": [
      "{'ORACLE.run1_44', 'ORACLE.run1_26', 'ORACLE.run1_32', 'ORACLE.run1_20', 'ORACLE.run1_8', 'ORACLE.run1_50', 'ORACLE.run1_14', 'ORACLE.run1_38'}\n"
     ]
    },
    {
     "name": "stdout",
     "output_type": "stream",
     "text": [
      "{'ORACLE.run2_38', 'ORACLE.run2_50', 'ORACLE.run2_32', 'ORACLE.run2_26', 'ORACLE.run2_14', 'ORACLE.run2_20', 'ORACLE.run2_44', 'ORACLE.run2_8'}\n"
     ]
    },
    {
     "name": "stdout",
     "output_type": "stream",
     "text": [
      "tensor([[[-1.5184,  0.4536, -0.1972,  ...,  1.0057, -0.0789, -0.4141],\n",
      "         [-0.4141,  0.8085,  0.0592,  ...,  1.8931,  0.3352,  1.4395]],\n",
      "\n",
      "        [[-0.0573,  1.6054, -0.1720,  ..., -0.9174, -0.4969,  0.7071],\n",
      "         [ 0.4396, -2.2552, -1.3570,  ...,  0.1147, -1.2232,  0.9174]],\n",
      "\n",
      "        [[ 0.3796,  0.2797, -0.2198,  ...,  0.3196,  0.1998, -0.2397],\n",
      "         [-1.2985, -1.3585,  0.6792,  ...,  0.0599,  0.2597,  0.1398]],\n",
      "\n",
      "        ...,\n",
      "\n",
      "        [[ 1.4444, -0.2015,  0.4703,  ..., -1.1085, -0.1344,  1.3772],\n",
      "         [ 0.2351,  1.9315,  0.1680,  ...,  0.3863, -0.5543, -1.2429]],\n",
      "\n",
      "        [[ 0.7070, -0.8080, -0.2357,  ...,  0.3367,  0.3872,  0.1178],\n",
      "         [ 0.4882, -1.1447,  0.7407,  ..., -1.8517, -0.9763,  0.1178]],\n",
      "\n",
      "        [[ 0.9297,  0.7776, -0.7099,  ...,  0.5747,  0.5747,  1.0818],\n",
      "         [-0.1014, -0.5578, -0.3381,  ...,  0.1521, -0.0169, -0.4733]]])\n"
     ]
    }
   ],
   "source": [
    "from steves_utils.transforms import get_average_magnitude, get_average_power\n",
    "\n",
    "print(set([u for u,_ in val_original_source]))\n",
    "print(set([u for u,_ in val_original_target]))\n",
    "\n",
    "s_x, s_y, q_x, q_y, _ = next(iter(train_processed_source))\n",
    "print(s_x)\n",
    "\n",
    "# for ds in [\n",
    "#     train_processed_source,\n",
    "#     val_processed_source,\n",
    "#     test_processed_source,\n",
    "#     train_processed_target,\n",
    "#     val_processed_target,\n",
    "#     test_processed_target\n",
    "# ]:\n",
    "#     for s_x, s_y, q_x, q_y, _ in ds:\n",
    "#         for X in (s_x, q_x):\n",
    "#             for x in X:\n",
    "#                 assert np.isclose(get_average_magnitude(x.numpy()), 1.0)\n",
    "#                 assert np.isclose(get_average_power(x.numpy()), 1.0)\n",
    "                "
   ]
  },
  {
   "cell_type": "code",
   "execution_count": 21,
   "id": "bbdacba1",
   "metadata": {
    "execution": {
     "iopub.execute_input": "2022-03-29T12:44:49.945780Z",
     "iopub.status.busy": "2022-03-29T12:44:49.945375Z",
     "iopub.status.idle": "2022-03-29T12:44:50.000297Z",
     "shell.execute_reply": "2022-03-29T12:44:50.000054Z"
    },
    "papermill": {
     "duration": 0.071616,
     "end_time": "2022-03-29T12:44:50.000359",
     "exception": false,
     "start_time": "2022-03-29T12:44:49.928743",
     "status": "completed"
    },
    "tags": []
   },
   "outputs": [
    {
     "name": "stdout",
     "output_type": "stream",
     "text": [
      "(2, 256)\n"
     ]
    }
   ],
   "source": [
    "###################################\n",
    "# Build the model\n",
    "###################################\n",
    "# easfsl only wants a tuple for the shape\n",
    "model = Steves_Prototypical_Network(x_net, device=p.device, x_shape=tuple(p.x_shape))\n",
    "optimizer = Adam(params=model.parameters(), lr=p.lr)"
   ]
  },
  {
   "cell_type": "code",
   "execution_count": 22,
   "id": "22b39ac5",
   "metadata": {
    "execution": {
     "iopub.execute_input": "2022-03-29T12:44:50.031815Z",
     "iopub.status.busy": "2022-03-29T12:44:50.031561Z",
     "iopub.status.idle": "2022-03-29T15:32:06.076784Z",
     "shell.execute_reply": "2022-03-29T15:32:06.076557Z"
    },
    "papermill": {
     "duration": 10036.061623,
     "end_time": "2022-03-29T15:32:06.076842",
     "exception": false,
     "start_time": "2022-03-29T12:44:50.015219",
     "status": "completed"
    },
    "tags": []
   },
   "outputs": [
    {
     "name": "stdout",
     "output_type": "stream",
     "text": [
      "epoch: 1, [batch: 1 / 33600], examples_per_second: 9.8352, train_label_loss: 2.8093, \n"
     ]
    },
    {
     "name": "stdout",
     "output_type": "stream",
     "text": [
      "epoch: 1, [batch: 3360 / 33600], examples_per_second: 3220.7193, train_label_loss: 1.4172, \n"
     ]
    },
    {
     "name": "stdout",
     "output_type": "stream",
     "text": [
      "epoch: 1, [batch: 6720 / 33600], examples_per_second: 3212.2851, train_label_loss: 0.6206, \n"
     ]
    },
    {
     "name": "stdout",
     "output_type": "stream",
     "text": [
      "epoch: 1, [batch: 10080 / 33600], examples_per_second: 3217.5945, train_label_loss: 1.6019, \n"
     ]
    },
    {
     "name": "stdout",
     "output_type": "stream",
     "text": [
      "epoch: 1, [batch: 13440 / 33600], examples_per_second: 3204.0787, train_label_loss: 0.9967, \n"
     ]
    },
    {
     "name": "stdout",
     "output_type": "stream",
     "text": [
      "epoch: 1, [batch: 16800 / 33600], examples_per_second: 3215.3395, train_label_loss: 0.7256, \n"
     ]
    },
    {
     "name": "stdout",
     "output_type": "stream",
     "text": [
      "epoch: 1, [batch: 20160 / 33600], examples_per_second: 3212.5061, train_label_loss: 0.9206, \n"
     ]
    },
    {
     "name": "stdout",
     "output_type": "stream",
     "text": [
      "epoch: 1, [batch: 23520 / 33600], examples_per_second: 3208.2863, train_label_loss: 1.0891, \n"
     ]
    },
    {
     "name": "stdout",
     "output_type": "stream",
     "text": [
      "epoch: 1, [batch: 26880 / 33600], examples_per_second: 3210.9008, train_label_loss: 0.4618, \n"
     ]
    },
    {
     "name": "stdout",
     "output_type": "stream",
     "text": [
      "epoch: 1, [batch: 30240 / 33600], examples_per_second: 3214.8414, train_label_loss: 0.6985, \n"
     ]
    },
    {
     "name": "stdout",
     "output_type": "stream",
     "text": [
      "=============================================================\n",
      "epoch: 1, source_val_acc_label: 0.6423, target_val_acc_label: 0.6287, source_val_label_loss: 0.9507, target_val_label_loss: 0.9945, \n",
      "=============================================================\n"
     ]
    },
    {
     "name": "stdout",
     "output_type": "stream",
     "text": [
      "New best\n"
     ]
    },
    {
     "name": "stdout",
     "output_type": "stream",
     "text": [
      "epoch: 2, [batch: 1 / 33600], examples_per_second: 0.9673, train_label_loss: 1.3002, \n"
     ]
    },
    {
     "name": "stdout",
     "output_type": "stream",
     "text": [
      "epoch: 2, [batch: 3360 / 33600], examples_per_second: 3240.4735, train_label_loss: 0.8028, \n"
     ]
    },
    {
     "name": "stdout",
     "output_type": "stream",
     "text": [
      "epoch: 2, [batch: 6720 / 33600], examples_per_second: 3235.8681, train_label_loss: 1.1024, \n"
     ]
    },
    {
     "name": "stdout",
     "output_type": "stream",
     "text": [
      "epoch: 2, [batch: 10080 / 33600], examples_per_second: 3232.8329, train_label_loss: 0.7374, \n"
     ]
    },
    {
     "name": "stdout",
     "output_type": "stream",
     "text": [
      "epoch: 2, [batch: 13440 / 33600], examples_per_second: 3229.9932, train_label_loss: 0.6698, \n"
     ]
    },
    {
     "name": "stdout",
     "output_type": "stream",
     "text": [
      "epoch: 2, [batch: 16800 / 33600], examples_per_second: 3241.7773, train_label_loss: 0.8053, \n"
     ]
    },
    {
     "name": "stdout",
     "output_type": "stream",
     "text": [
      "epoch: 2, [batch: 20160 / 33600], examples_per_second: 3236.9981, train_label_loss: 0.5209, \n"
     ]
    },
    {
     "name": "stdout",
     "output_type": "stream",
     "text": [
      "epoch: 2, [batch: 23520 / 33600], examples_per_second: 3231.3785, train_label_loss: 0.4882, \n"
     ]
    },
    {
     "name": "stdout",
     "output_type": "stream",
     "text": [
      "epoch: 2, [batch: 26880 / 33600], examples_per_second: 3238.6937, train_label_loss: 1.3829, \n"
     ]
    },
    {
     "name": "stdout",
     "output_type": "stream",
     "text": [
      "epoch: 2, [batch: 30240 / 33600], examples_per_second: 3248.2581, train_label_loss: 0.5129, \n"
     ]
    },
    {
     "name": "stdout",
     "output_type": "stream",
     "text": [
      "=============================================================\n",
      "epoch: 2, source_val_acc_label: 0.6700, target_val_acc_label: 0.6472, source_val_label_loss: 0.8705, target_val_label_loss: 0.9376, \n",
      "=============================================================\n"
     ]
    },
    {
     "name": "stdout",
     "output_type": "stream",
     "text": [
      "New best\n"
     ]
    },
    {
     "name": "stdout",
     "output_type": "stream",
     "text": [
      "epoch: 3, [batch: 1 / 33600], examples_per_second: 0.9704, train_label_loss: 0.5684, \n"
     ]
    },
    {
     "name": "stdout",
     "output_type": "stream",
     "text": [
      "epoch: 3, [batch: 3360 / 33600], examples_per_second: 3230.6220, train_label_loss: 0.5043, \n"
     ]
    },
    {
     "name": "stdout",
     "output_type": "stream",
     "text": [
      "epoch: 3, [batch: 6720 / 33600], examples_per_second: 3244.9335, train_label_loss: 1.3123, \n"
     ]
    },
    {
     "name": "stdout",
     "output_type": "stream",
     "text": [
      "epoch: 3, [batch: 10080 / 33600], examples_per_second: 3249.0526, train_label_loss: 0.5455, \n"
     ]
    },
    {
     "name": "stdout",
     "output_type": "stream",
     "text": [
      "epoch: 3, [batch: 13440 / 33600], examples_per_second: 3234.2680, train_label_loss: 0.7125, \n"
     ]
    },
    {
     "name": "stdout",
     "output_type": "stream",
     "text": [
      "epoch: 3, [batch: 16800 / 33600], examples_per_second: 3245.3364, train_label_loss: 0.6935, \n"
     ]
    },
    {
     "name": "stdout",
     "output_type": "stream",
     "text": [
      "epoch: 3, [batch: 20160 / 33600], examples_per_second: 3244.1384, train_label_loss: 0.5921, \n"
     ]
    },
    {
     "name": "stdout",
     "output_type": "stream",
     "text": [
      "epoch: 3, [batch: 23520 / 33600], examples_per_second: 3233.0403, train_label_loss: 1.0462, \n"
     ]
    },
    {
     "name": "stdout",
     "output_type": "stream",
     "text": [
      "epoch: 3, [batch: 26880 / 33600], examples_per_second: 3247.3462, train_label_loss: 0.5178, \n"
     ]
    },
    {
     "name": "stdout",
     "output_type": "stream",
     "text": [
      "epoch: 3, [batch: 30240 / 33600], examples_per_second: 3251.5540, train_label_loss: 0.9439, \n"
     ]
    },
    {
     "name": "stdout",
     "output_type": "stream",
     "text": [
      "=============================================================\n",
      "epoch: 3, source_val_acc_label: 0.6993, target_val_acc_label: 0.6806, source_val_label_loss: 0.8068, target_val_label_loss: 0.8764, \n",
      "=============================================================\n"
     ]
    },
    {
     "name": "stdout",
     "output_type": "stream",
     "text": [
      "New best\n"
     ]
    },
    {
     "name": "stdout",
     "output_type": "stream",
     "text": [
      "epoch: 4, [batch: 1 / 33600], examples_per_second: 0.9693, train_label_loss: 1.0146, \n"
     ]
    },
    {
     "name": "stdout",
     "output_type": "stream",
     "text": [
      "epoch: 4, [batch: 3360 / 33600], examples_per_second: 3224.1144, train_label_loss: 0.5530, \n"
     ]
    },
    {
     "name": "stdout",
     "output_type": "stream",
     "text": [
      "epoch: 4, [batch: 6720 / 33600], examples_per_second: 3233.2893, train_label_loss: 0.9743, \n"
     ]
    },
    {
     "name": "stdout",
     "output_type": "stream",
     "text": [
      "epoch: 4, [batch: 10080 / 33600], examples_per_second: 3244.2906, train_label_loss: 0.3736, \n"
     ]
    },
    {
     "name": "stdout",
     "output_type": "stream",
     "text": [
      "epoch: 4, [batch: 13440 / 33600], examples_per_second: 3234.4355, train_label_loss: 0.5892, \n"
     ]
    },
    {
     "name": "stdout",
     "output_type": "stream",
     "text": [
      "epoch: 4, [batch: 16800 / 33600], examples_per_second: 3251.2196, train_label_loss: 0.5367, \n"
     ]
    },
    {
     "name": "stdout",
     "output_type": "stream",
     "text": [
      "epoch: 4, [batch: 20160 / 33600], examples_per_second: 3250.3015, train_label_loss: 0.7587, \n"
     ]
    },
    {
     "name": "stdout",
     "output_type": "stream",
     "text": [
      "epoch: 4, [batch: 23520 / 33600], examples_per_second: 3236.1065, train_label_loss: 0.8567, \n"
     ]
    },
    {
     "name": "stdout",
     "output_type": "stream",
     "text": [
      "epoch: 4, [batch: 26880 / 33600], examples_per_second: 3244.2486, train_label_loss: 0.3789, \n"
     ]
    },
    {
     "name": "stdout",
     "output_type": "stream",
     "text": [
      "epoch: 4, [batch: 30240 / 33600], examples_per_second: 3238.5839, train_label_loss: 0.4507, \n"
     ]
    },
    {
     "name": "stdout",
     "output_type": "stream",
     "text": [
      "=============================================================\n",
      "epoch: 4, source_val_acc_label: 0.7186, target_val_acc_label: 0.7027, source_val_label_loss: 0.7643, target_val_label_loss: 0.8352, \n",
      "=============================================================\n"
     ]
    },
    {
     "name": "stdout",
     "output_type": "stream",
     "text": [
      "New best\n"
     ]
    },
    {
     "name": "stdout",
     "output_type": "stream",
     "text": [
      "epoch: 5, [batch: 1 / 33600], examples_per_second: 0.9642, train_label_loss: 0.7150, \n"
     ]
    },
    {
     "name": "stdout",
     "output_type": "stream",
     "text": [
      "epoch: 5, [batch: 3360 / 33600], examples_per_second: 3228.2102, train_label_loss: 0.4745, \n"
     ]
    },
    {
     "name": "stdout",
     "output_type": "stream",
     "text": [
      "epoch: 5, [batch: 6720 / 33600], examples_per_second: 3235.8522, train_label_loss: 0.3931, \n"
     ]
    },
    {
     "name": "stdout",
     "output_type": "stream",
     "text": [
      "epoch: 5, [batch: 10080 / 33600], examples_per_second: 3240.0183, train_label_loss: 0.7479, \n"
     ]
    },
    {
     "name": "stdout",
     "output_type": "stream",
     "text": [
      "epoch: 5, [batch: 13440 / 33600], examples_per_second: 3237.5744, train_label_loss: 0.5444, \n"
     ]
    },
    {
     "name": "stdout",
     "output_type": "stream",
     "text": [
      "epoch: 5, [batch: 16800 / 33600], examples_per_second: 3239.9312, train_label_loss: 0.9049, \n"
     ]
    },
    {
     "name": "stdout",
     "output_type": "stream",
     "text": [
      "epoch: 5, [batch: 20160 / 33600], examples_per_second: 3249.7702, train_label_loss: 0.6733, \n"
     ]
    },
    {
     "name": "stdout",
     "output_type": "stream",
     "text": [
      "epoch: 5, [batch: 23520 / 33600], examples_per_second: 3234.7705, train_label_loss: 0.6043, \n"
     ]
    },
    {
     "name": "stdout",
     "output_type": "stream",
     "text": [
      "epoch: 5, [batch: 26880 / 33600], examples_per_second: 3246.0442, train_label_loss: 0.3597, \n"
     ]
    },
    {
     "name": "stdout",
     "output_type": "stream",
     "text": [
      "epoch: 5, [batch: 30240 / 33600], examples_per_second: 3252.0921, train_label_loss: 0.1829, \n"
     ]
    },
    {
     "name": "stdout",
     "output_type": "stream",
     "text": [
      "=============================================================\n",
      "epoch: 5, source_val_acc_label: 0.7284, target_val_acc_label: 0.7124, source_val_label_loss: 0.7407, target_val_label_loss: 0.8156, \n",
      "=============================================================\n"
     ]
    },
    {
     "name": "stdout",
     "output_type": "stream",
     "text": [
      "New best\n"
     ]
    },
    {
     "name": "stdout",
     "output_type": "stream",
     "text": [
      "epoch: 6, [batch: 1 / 33600], examples_per_second: 0.9697, train_label_loss: 0.3397, \n"
     ]
    },
    {
     "name": "stdout",
     "output_type": "stream",
     "text": [
      "epoch: 6, [batch: 3360 / 33600], examples_per_second: 3231.3450, train_label_loss: 0.7803, \n"
     ]
    },
    {
     "name": "stdout",
     "output_type": "stream",
     "text": [
      "epoch: 6, [batch: 6720 / 33600], examples_per_second: 3233.0531, train_label_loss: 0.5819, \n"
     ]
    },
    {
     "name": "stdout",
     "output_type": "stream",
     "text": [
      "epoch: 6, [batch: 10080 / 33600], examples_per_second: 3242.2524, train_label_loss: 0.7838, \n"
     ]
    },
    {
     "name": "stdout",
     "output_type": "stream",
     "text": [
      "epoch: 6, [batch: 13440 / 33600], examples_per_second: 3232.8036, train_label_loss: 0.6076, \n"
     ]
    },
    {
     "name": "stdout",
     "output_type": "stream",
     "text": [
      "epoch: 6, [batch: 16800 / 33600], examples_per_second: 3241.2893, train_label_loss: 0.3833, \n"
     ]
    },
    {
     "name": "stdout",
     "output_type": "stream",
     "text": [
      "epoch: 6, [batch: 20160 / 33600], examples_per_second: 3237.9628, train_label_loss: 0.6688, \n"
     ]
    },
    {
     "name": "stdout",
     "output_type": "stream",
     "text": [
      "epoch: 6, [batch: 23520 / 33600], examples_per_second: 3235.3030, train_label_loss: 0.2635, \n"
     ]
    },
    {
     "name": "stdout",
     "output_type": "stream",
     "text": [
      "epoch: 6, [batch: 26880 / 33600], examples_per_second: 3242.3115, train_label_loss: 0.8076, \n"
     ]
    },
    {
     "name": "stdout",
     "output_type": "stream",
     "text": [
      "epoch: 6, [batch: 30240 / 33600], examples_per_second: 3247.0184, train_label_loss: 0.7772, \n"
     ]
    },
    {
     "name": "stdout",
     "output_type": "stream",
     "text": [
      "=============================================================\n",
      "epoch: 6, source_val_acc_label: 0.7328, target_val_acc_label: 0.7180, source_val_label_loss: 0.7337, target_val_label_loss: 0.8077, \n",
      "=============================================================\n"
     ]
    },
    {
     "name": "stdout",
     "output_type": "stream",
     "text": [
      "New best\n"
     ]
    },
    {
     "name": "stdout",
     "output_type": "stream",
     "text": [
      "epoch: 7, [batch: 1 / 33600], examples_per_second: 0.9696, train_label_loss: 0.4073, \n"
     ]
    },
    {
     "name": "stdout",
     "output_type": "stream",
     "text": [
      "epoch: 7, [batch: 3360 / 33600], examples_per_second: 3235.6094, train_label_loss: 0.3951, \n"
     ]
    },
    {
     "name": "stdout",
     "output_type": "stream",
     "text": [
      "epoch: 7, [batch: 6720 / 33600], examples_per_second: 3240.7286, train_label_loss: 0.2642, \n"
     ]
    },
    {
     "name": "stdout",
     "output_type": "stream",
     "text": [
      "epoch: 7, [batch: 10080 / 33600], examples_per_second: 3234.2456, train_label_loss: 0.6919, \n"
     ]
    },
    {
     "name": "stdout",
     "output_type": "stream",
     "text": [
      "epoch: 7, [batch: 13440 / 33600], examples_per_second: 3236.5030, train_label_loss: 0.2824, \n"
     ]
    },
    {
     "name": "stdout",
     "output_type": "stream",
     "text": [
      "epoch: 7, [batch: 16800 / 33600], examples_per_second: 3248.9995, train_label_loss: 0.4772, \n"
     ]
    },
    {
     "name": "stdout",
     "output_type": "stream",
     "text": [
      "epoch: 7, [batch: 20160 / 33600], examples_per_second: 3247.8743, train_label_loss: 0.5148, \n"
     ]
    },
    {
     "name": "stdout",
     "output_type": "stream",
     "text": [
      "epoch: 7, [batch: 23520 / 33600], examples_per_second: 3236.8675, train_label_loss: 0.7996, \n"
     ]
    },
    {
     "name": "stdout",
     "output_type": "stream",
     "text": [
      "epoch: 7, [batch: 26880 / 33600], examples_per_second: 3243.4263, train_label_loss: 0.5248, \n"
     ]
    },
    {
     "name": "stdout",
     "output_type": "stream",
     "text": [
      "epoch: 7, [batch: 30240 / 33600], examples_per_second: 3248.6648, train_label_loss: 0.4690, \n"
     ]
    },
    {
     "name": "stdout",
     "output_type": "stream",
     "text": [
      "=============================================================\n",
      "epoch: 7, source_val_acc_label: 0.7381, target_val_acc_label: 0.7241, source_val_label_loss: 0.7438, target_val_label_loss: 0.8195, \n",
      "=============================================================\n"
     ]
    },
    {
     "name": "stdout",
     "output_type": "stream",
     "text": [
      "New best\n"
     ]
    },
    {
     "name": "stdout",
     "output_type": "stream",
     "text": [
      "epoch: 8, [batch: 1 / 33600], examples_per_second: 0.9691, train_label_loss: 0.1431, \n"
     ]
    },
    {
     "name": "stdout",
     "output_type": "stream",
     "text": [
      "epoch: 8, [batch: 3360 / 33600], examples_per_second: 3231.7164, train_label_loss: 0.2355, \n"
     ]
    },
    {
     "name": "stdout",
     "output_type": "stream",
     "text": [
      "epoch: 8, [batch: 6720 / 33600], examples_per_second: 3234.3333, train_label_loss: 0.1901, \n"
     ]
    },
    {
     "name": "stdout",
     "output_type": "stream",
     "text": [
      "epoch: 8, [batch: 10080 / 33600], examples_per_second: 3226.8235, train_label_loss: 0.3786, \n"
     ]
    },
    {
     "name": "stdout",
     "output_type": "stream",
     "text": [
      "epoch: 8, [batch: 13440 / 33600], examples_per_second: 3232.3710, train_label_loss: 0.3774, \n"
     ]
    },
    {
     "name": "stdout",
     "output_type": "stream",
     "text": [
      "epoch: 8, [batch: 16800 / 33600], examples_per_second: 3244.3242, train_label_loss: 0.6689, \n"
     ]
    },
    {
     "name": "stdout",
     "output_type": "stream",
     "text": [
      "epoch: 8, [batch: 20160 / 33600], examples_per_second: 3250.1885, train_label_loss: 0.5189, \n"
     ]
    },
    {
     "name": "stdout",
     "output_type": "stream",
     "text": [
      "epoch: 8, [batch: 23520 / 33600], examples_per_second: 3234.7687, train_label_loss: 0.1763, \n"
     ]
    },
    {
     "name": "stdout",
     "output_type": "stream",
     "text": [
      "epoch: 8, [batch: 26880 / 33600], examples_per_second: 3246.0276, train_label_loss: 0.3118, \n"
     ]
    },
    {
     "name": "stdout",
     "output_type": "stream",
     "text": [
      "epoch: 8, [batch: 30240 / 33600], examples_per_second: 3244.4373, train_label_loss: 0.2636, \n"
     ]
    },
    {
     "name": "stdout",
     "output_type": "stream",
     "text": [
      "=============================================================\n",
      "epoch: 8, source_val_acc_label: 0.7375, target_val_acc_label: 0.7225, source_val_label_loss: 0.7466, target_val_label_loss: 0.8286, \n",
      "=============================================================\n"
     ]
    },
    {
     "name": "stdout",
     "output_type": "stream",
     "text": [
      "epoch: 9, [batch: 1 / 33600], examples_per_second: 0.9677, train_label_loss: 0.1927, \n"
     ]
    },
    {
     "name": "stdout",
     "output_type": "stream",
     "text": [
      "epoch: 9, [batch: 3360 / 33600], examples_per_second: 3228.7931, train_label_loss: 0.3861, \n"
     ]
    },
    {
     "name": "stdout",
     "output_type": "stream",
     "text": [
      "epoch: 9, [batch: 6720 / 33600], examples_per_second: 3244.9121, train_label_loss: 0.3628, \n"
     ]
    },
    {
     "name": "stdout",
     "output_type": "stream",
     "text": [
      "epoch: 9, [batch: 10080 / 33600], examples_per_second: 3245.9372, train_label_loss: 0.4822, \n"
     ]
    },
    {
     "name": "stdout",
     "output_type": "stream",
     "text": [
      "epoch: 9, [batch: 13440 / 33600], examples_per_second: 3235.7656, train_label_loss: 0.3949, \n"
     ]
    },
    {
     "name": "stdout",
     "output_type": "stream",
     "text": [
      "epoch: 9, [batch: 16800 / 33600], examples_per_second: 3247.3708, train_label_loss: 0.5460, \n"
     ]
    },
    {
     "name": "stdout",
     "output_type": "stream",
     "text": [
      "epoch: 9, [batch: 20160 / 33600], examples_per_second: 3255.3587, train_label_loss: 0.2311, \n"
     ]
    },
    {
     "name": "stdout",
     "output_type": "stream",
     "text": [
      "epoch: 9, [batch: 23520 / 33600], examples_per_second: 3237.6416, train_label_loss: 0.2627, \n"
     ]
    },
    {
     "name": "stdout",
     "output_type": "stream",
     "text": [
      "epoch: 9, [batch: 26880 / 33600], examples_per_second: 3244.5099, train_label_loss: 0.7039, \n"
     ]
    },
    {
     "name": "stdout",
     "output_type": "stream",
     "text": [
      "epoch: 9, [batch: 30240 / 33600], examples_per_second: 3252.8673, train_label_loss: 0.3813, \n"
     ]
    },
    {
     "name": "stdout",
     "output_type": "stream",
     "text": [
      "=============================================================\n",
      "epoch: 9, source_val_acc_label: 0.7364, target_val_acc_label: 0.7214, source_val_label_loss: 0.7684, target_val_label_loss: 0.8495, \n",
      "=============================================================\n"
     ]
    },
    {
     "name": "stdout",
     "output_type": "stream",
     "text": [
      "epoch: 10, [batch: 1 / 33600], examples_per_second: 0.9655, train_label_loss: 0.3864, \n"
     ]
    },
    {
     "name": "stdout",
     "output_type": "stream",
     "text": [
      "epoch: 10, [batch: 3360 / 33600], examples_per_second: 3229.8271, train_label_loss: 0.3124, \n"
     ]
    },
    {
     "name": "stdout",
     "output_type": "stream",
     "text": [
      "epoch: 10, [batch: 6720 / 33600], examples_per_second: 3232.3472, train_label_loss: 0.6733, \n"
     ]
    },
    {
     "name": "stdout",
     "output_type": "stream",
     "text": [
      "epoch: 10, [batch: 10080 / 33600], examples_per_second: 3241.3870, train_label_loss: 0.4093, \n"
     ]
    },
    {
     "name": "stdout",
     "output_type": "stream",
     "text": [
      "epoch: 10, [batch: 13440 / 33600], examples_per_second: 3237.3232, train_label_loss: 0.2234, \n"
     ]
    },
    {
     "name": "stdout",
     "output_type": "stream",
     "text": [
      "epoch: 10, [batch: 16800 / 33600], examples_per_second: 3250.1504, train_label_loss: 0.2299, \n"
     ]
    },
    {
     "name": "stdout",
     "output_type": "stream",
     "text": [
      "epoch: 10, [batch: 20160 / 33600], examples_per_second: 3247.1421, train_label_loss: 0.5487, \n"
     ]
    },
    {
     "name": "stdout",
     "output_type": "stream",
     "text": [
      "epoch: 10, [batch: 23520 / 33600], examples_per_second: 3235.5065, train_label_loss: 0.3502, \n"
     ]
    },
    {
     "name": "stdout",
     "output_type": "stream",
     "text": [
      "epoch: 10, [batch: 26880 / 33600], examples_per_second: 3252.5940, train_label_loss: 0.3086, \n"
     ]
    },
    {
     "name": "stdout",
     "output_type": "stream",
     "text": [
      "epoch: 10, [batch: 30240 / 33600], examples_per_second: 3246.7667, train_label_loss: 0.6474, \n"
     ]
    },
    {
     "name": "stdout",
     "output_type": "stream",
     "text": [
      "=============================================================\n",
      "epoch: 10, source_val_acc_label: 0.7336, target_val_acc_label: 0.7194, source_val_label_loss: 0.7854, target_val_label_loss: 0.8681, \n",
      "=============================================================\n"
     ]
    },
    {
     "name": "stdout",
     "output_type": "stream",
     "text": [
      "epoch: 11, [batch: 1 / 33600], examples_per_second: 0.9683, train_label_loss: 0.2857, \n"
     ]
    },
    {
     "name": "stdout",
     "output_type": "stream",
     "text": [
      "epoch: 11, [batch: 3360 / 33600], examples_per_second: 3230.4251, train_label_loss: 0.5375, \n"
     ]
    },
    {
     "name": "stdout",
     "output_type": "stream",
     "text": [
      "epoch: 11, [batch: 6720 / 33600], examples_per_second: 3233.8767, train_label_loss: 0.1547, \n"
     ]
    },
    {
     "name": "stdout",
     "output_type": "stream",
     "text": [
      "epoch: 11, [batch: 10080 / 33600], examples_per_second: 3237.5169, train_label_loss: 0.3342, \n"
     ]
    },
    {
     "name": "stdout",
     "output_type": "stream",
     "text": [
      "epoch: 11, [batch: 13440 / 33600], examples_per_second: 3238.2454, train_label_loss: 0.3262, \n"
     ]
    },
    {
     "name": "stdout",
     "output_type": "stream",
     "text": [
      "epoch: 11, [batch: 16800 / 33600], examples_per_second: 3247.6449, train_label_loss: 0.4953, \n"
     ]
    },
    {
     "name": "stdout",
     "output_type": "stream",
     "text": [
      "epoch: 11, [batch: 20160 / 33600], examples_per_second: 3253.5680, train_label_loss: 0.3020, \n"
     ]
    },
    {
     "name": "stdout",
     "output_type": "stream",
     "text": [
      "epoch: 11, [batch: 23520 / 33600], examples_per_second: 3232.8731, train_label_loss: 0.4005, \n"
     ]
    },
    {
     "name": "stdout",
     "output_type": "stream",
     "text": [
      "epoch: 11, [batch: 26880 / 33600], examples_per_second: 3245.2272, train_label_loss: 0.2353, \n"
     ]
    },
    {
     "name": "stdout",
     "output_type": "stream",
     "text": [
      "epoch: 11, [batch: 30240 / 33600], examples_per_second: 3243.8599, train_label_loss: 0.5248, \n"
     ]
    },
    {
     "name": "stdout",
     "output_type": "stream",
     "text": [
      "=============================================================\n",
      "epoch: 11, source_val_acc_label: 0.7312, target_val_acc_label: 0.7142, source_val_label_loss: 0.8145, target_val_label_loss: 0.9038, \n",
      "=============================================================\n"
     ]
    },
    {
     "name": "stdout",
     "output_type": "stream",
     "text": [
      "Patience (3) exhausted\n"
     ]
    }
   ],
   "source": [
    "###################################\n",
    "# train\n",
    "###################################\n",
    "jig = PTN_Train_Eval_Test_Jig(model, p.BEST_MODEL_PATH, p.device)\n",
    "\n",
    "jig.train(\n",
    "    train_iterable=datasets.source.processed.train,\n",
    "    source_val_iterable=datasets.source.processed.val,\n",
    "    target_val_iterable=datasets.target.processed.val,\n",
    "    num_epochs=p.n_epoch,\n",
    "    num_logs_per_epoch=p.NUM_LOGS_PER_EPOCH,\n",
    "    patience=p.patience,\n",
    "    optimizer=optimizer,\n",
    "    criteria_for_best=p.criteria_for_best,\n",
    ")"
   ]
  },
  {
   "cell_type": "code",
   "execution_count": 23,
   "id": "31e8fabf",
   "metadata": {
    "execution": {
     "iopub.execute_input": "2022-03-29T15:32:06.156114Z",
     "iopub.status.busy": "2022-03-29T15:32:06.155858Z",
     "iopub.status.idle": "2022-03-29T15:32:06.174137Z",
     "shell.execute_reply": "2022-03-29T15:32:06.173622Z"
    },
    "papermill": {
     "duration": 0.059771,
     "end_time": "2022-03-29T15:32:06.174242",
     "exception": false,
     "start_time": "2022-03-29T15:32:06.114471",
     "status": "completed"
    },
    "tags": []
   },
   "outputs": [],
   "source": [
    "total_experiment_time_secs = time.time() - start_time_secs"
   ]
  },
  {
   "cell_type": "code",
   "execution_count": 24,
   "id": "87b9595b",
   "metadata": {
    "execution": {
     "iopub.execute_input": "2022-03-29T15:32:06.258981Z",
     "iopub.status.busy": "2022-03-29T15:32:06.258685Z",
     "iopub.status.idle": "2022-03-29T15:40:07.890003Z",
     "shell.execute_reply": "2022-03-29T15:40:07.889532Z"
    },
    "papermill": {
     "duration": 481.675686,
     "end_time": "2022-03-29T15:40:07.890184",
     "exception": false,
     "start_time": "2022-03-29T15:32:06.214498",
     "status": "completed"
    },
    "tags": []
   },
   "outputs": [],
   "source": [
    "###################################\n",
    "# Evaluate the model\n",
    "###################################\n",
    "source_test_label_accuracy, source_test_label_loss = jig.test(datasets.source.processed.test)\n",
    "target_test_label_accuracy, target_test_label_loss = jig.test(datasets.target.processed.test)\n",
    "\n",
    "source_val_label_accuracy, source_val_label_loss = jig.test(datasets.source.processed.val)\n",
    "target_val_label_accuracy, target_val_label_loss = jig.test(datasets.target.processed.val)\n",
    "\n",
    "history = jig.get_history()\n",
    "\n",
    "total_epochs_trained = len(history[\"epoch_indices\"])\n",
    "\n",
    "val_dl = Iterable_Aggregator((datasets.source.original.val,datasets.target.original.val))\n",
    "\n",
    "confusion = ptn_confusion_by_domain_over_dataloader(model, p.device, val_dl)\n",
    "per_domain_accuracy = per_domain_accuracy_from_confusion(confusion)\n",
    "\n",
    "# Add a key to per_domain_accuracy for if it was a source domain\n",
    "for domain, accuracy in per_domain_accuracy.items():\n",
    "    per_domain_accuracy[domain] = {\n",
    "        \"accuracy\": accuracy,\n",
    "        \"source?\": domain in p.domains_source\n",
    "    }\n",
    "\n",
    "# Do an independent accuracy assesment JUST TO BE SURE!\n",
    "# _source_test_label_accuracy = independent_accuracy_assesment(model, datasets.source.processed.test, p.device)\n",
    "# _target_test_label_accuracy = independent_accuracy_assesment(model, datasets.target.processed.test, p.device)\n",
    "# _source_val_label_accuracy = independent_accuracy_assesment(model, datasets.source.processed.val, p.device)\n",
    "# _target_val_label_accuracy = independent_accuracy_assesment(model, datasets.target.processed.val, p.device)\n",
    "\n",
    "# assert(_source_test_label_accuracy == source_test_label_accuracy)\n",
    "# assert(_target_test_label_accuracy == target_test_label_accuracy)\n",
    "# assert(_source_val_label_accuracy == source_val_label_accuracy)\n",
    "# assert(_target_val_label_accuracy == target_val_label_accuracy)\n",
    "\n",
    "experiment = {\n",
    "    \"experiment_name\": p.experiment_name,\n",
    "    \"parameters\": dict(p),\n",
    "    \"results\": {\n",
    "        \"source_test_label_accuracy\": source_test_label_accuracy,\n",
    "        \"source_test_label_loss\": source_test_label_loss,\n",
    "        \"target_test_label_accuracy\": target_test_label_accuracy,\n",
    "        \"target_test_label_loss\": target_test_label_loss,\n",
    "        \"source_val_label_accuracy\": source_val_label_accuracy,\n",
    "        \"source_val_label_loss\": source_val_label_loss,\n",
    "        \"target_val_label_accuracy\": target_val_label_accuracy,\n",
    "        \"target_val_label_loss\": target_val_label_loss,\n",
    "        \"total_epochs_trained\": total_epochs_trained,\n",
    "        \"total_experiment_time_secs\": total_experiment_time_secs,\n",
    "        \"confusion\": confusion,\n",
    "        \"per_domain_accuracy\": per_domain_accuracy,\n",
    "    },\n",
    "    \"history\": history,\n",
    "    \"dataset_metrics\": get_dataset_metrics(datasets, \"ptn\"),\n",
    "}"
   ]
  },
  {
   "cell_type": "code",
   "execution_count": 25,
   "id": "54a21829",
   "metadata": {
    "execution": {
     "iopub.execute_input": "2022-03-29T15:40:07.970384Z",
     "iopub.status.busy": "2022-03-29T15:40:07.969862Z",
     "iopub.status.idle": "2022-03-29T15:40:08.100934Z",
     "shell.execute_reply": "2022-03-29T15:40:08.100554Z"
    },
    "papermill": {
     "duration": 0.170369,
     "end_time": "2022-03-29T15:40:08.101030",
     "exception": false,
     "start_time": "2022-03-29T15:40:07.930661",
     "status": "completed"
    },
    "tags": []
   },
   "outputs": [
    {
     "data": {
      "image/png": "[encoded data removed]",
      "text/plain": [
       "<Figure size 1080x504 with 1 Axes>"
      ]
     },
     "metadata": {
      "needs_background": "light"
     },
     "output_type": "display_data"
    }
   ],
   "source": [
    "ax = get_loss_curve(experiment)\n",
    "plt.show()"
   ]
  },
  {
   "cell_type": "code",
   "execution_count": 26,
   "id": "fd8a0f60",
   "metadata": {
    "execution": {
     "iopub.execute_input": "2022-03-29T15:40:08.190582Z",
     "iopub.status.busy": "2022-03-29T15:40:08.186455Z",
     "iopub.status.idle": "2022-03-29T15:40:08.329132Z",
     "shell.execute_reply": "2022-03-29T15:40:08.328916Z"
    },
    "papermill": {
     "duration": 0.183605,
     "end_time": "2022-03-29T15:40:08.329188",
     "exception": false,
     "start_time": "2022-03-29T15:40:08.145583",
     "status": "completed"
    },
    "tags": []
   },
   "outputs": [
    {
     "data": {
      "text/plain": [
       "<AxesSubplot:title={'center':'Results'}>"
      ]
     },
     "execution_count": 26,
     "metadata": {},
     "output_type": "execute_result"
    },
    {
     "data": {
      "image/png": "[encoded data removed]",
      "text/plain": [
       "<Figure size 1080x504 with 1 Axes>"
      ]
     },
     "metadata": {
      "needs_background": "light"
     },
     "output_type": "display_data"
    }
   ],
   "source": [
    "get_results_table(experiment)"
   ]
  },
  {
   "cell_type": "code",
   "execution_count": 27,
   "id": "cf8dc689",
   "metadata": {
    "execution": {
     "iopub.execute_input": "2022-03-29T15:40:08.411555Z",
     "iopub.status.busy": "2022-03-29T15:40:08.411291Z",
     "iopub.status.idle": "2022-03-29T15:40:08.582788Z",
     "shell.execute_reply": "2022-03-29T15:40:08.582367Z"
    },
    "papermill": {
     "duration": 0.212896,
     "end_time": "2022-03-29T15:40:08.582879",
     "exception": false,
     "start_time": "2022-03-29T15:40:08.369983",
     "status": "completed"
    },
    "tags": []
   },
   "outputs": [
    {
     "data": {
      "text/plain": [
       "<AxesSubplot:title={'center':'Per Domain Validation Accuracy'}, xlabel='domain'>"
      ]
     },
     "execution_count": 27,
     "metadata": {},
     "output_type": "execute_result"
    },
    {
     "data": {
      "image/png": "[encoded data removed]",
      "text/plain": [
       "<Figure size 1080x504 with 1 Axes>"
      ]
     },
     "metadata": {
      "needs_background": "light"
     },
     "output_type": "display_data"
    }
   ],
   "source": [
    "get_domain_accuracies(experiment)"
   ]
  },
  {
   "cell_type": "code",
   "execution_count": 28,
   "id": "a74ae082",
   "metadata": {
    "execution": {
     "iopub.execute_input": "2022-03-29T15:40:08.670924Z",
     "iopub.status.busy": "2022-03-29T15:40:08.670671Z",
     "iopub.status.idle": "2022-03-29T15:40:08.682580Z",
     "shell.execute_reply": "2022-03-29T15:40:08.682335Z"
    },
    "papermill": {
     "duration": 0.053811,
     "end_time": "2022-03-29T15:40:08.682630",
     "exception": false,
     "start_time": "2022-03-29T15:40:08.628819",
     "status": "completed"
    },
    "tags": []
   },
   "outputs": [
    {
     "name": "stdout",
     "output_type": "stream",
     "text": [
      "Source Test Label Accuracy: 0.7375520833333333 Target Test Label Accuracy: 0.7212044270833333\n",
      "Source Val Label Accuracy: 0.7381119791666667 Target Val Label Accuracy: 0.7240885416666667\n"
     ]
    }
   ],
   "source": [
    "print(\"Source Test Label Accuracy:\", experiment[\"results\"][\"source_test_label_accuracy\"], \"Target Test Label Accuracy:\", experiment[\"results\"][\"target_test_label_accuracy\"])\n",
    "print(\"Source Val Label Accuracy:\", experiment[\"results\"][\"source_val_label_accuracy\"], \"Target Val Label Accuracy:\", experiment[\"results\"][\"target_val_label_accuracy\"])"
   ]
  },
  {
   "cell_type": "code",
   "execution_count": 29,
   "id": "dacca602",
   "metadata": {
    "execution": {
     "iopub.execute_input": "2022-03-29T15:40:08.769240Z",
     "iopub.status.busy": "2022-03-29T15:40:08.768990Z",
     "iopub.status.idle": "2022-03-29T15:40:08.781142Z",
     "shell.execute_reply": "2022-03-29T15:40:08.781522Z"
    },
    "papermill": {
     "duration": 0.054388,
     "end_time": "2022-03-29T15:40:08.781627",
     "exception": false,
     "start_time": "2022-03-29T15:40:08.727239",
     "status": "completed"
    },
    "tags": [
     "experiment_json"
    ]
   },
   "outputs": [
    {
     "data": {
      "text/plain": [
       "'{\"experiment_name\": \"tl_1v2:oracle.run1-oracle.run2\", \"parameters\": {\"experiment_name\": \"tl_1v2:oracle.run1-oracle.run2\", \"device\": \"cuda\", \"lr\": 0.0001, \"n_shot\": 3, \"n_query\": 2, \"train_k_factor\": 3, \"val_k_factor\": 2, \"test_k_factor\": 2, \"torch_default_dtype\": \"torch.float32\", \"n_epoch\": 50, \"patience\": 3, \"criteria_for_best\": \"target_accuracy\", \"x_net\": [{\"class\": \"nnReshape\", \"kargs\": {\"shape\": [-1, 1, 2, 256]}}, {\"class\": \"Conv2d\", \"kargs\": {\"in_channels\": 1, \"out_channels\": 256, \"kernel_size\": [1, 7], \"bias\": false, \"padding\": [0, 3]}}, {\"class\": \"ReLU\", \"kargs\": {\"inplace\": true}}, {\"class\": \"BatchNorm2d\", \"kargs\": {\"num_features\": 256}}, {\"class\": \"Conv2d\", \"kargs\": {\"in_channels\": 256, \"out_channels\": 80, \"kernel_size\": [2, 7], \"bias\": true, \"padding\": [0, 3]}}, {\"class\": \"ReLU\", \"kargs\": {\"inplace\": true}}, {\"class\": \"BatchNorm2d\", \"kargs\": {\"num_features\": 80}}, {\"class\": \"Flatten\", \"kargs\": {}}, {\"class\": \"Linear\", \"kargs\": {\"in_features\": 20480, \"out_features\": 256}}, {\"class\": \"ReLU\", \"kargs\": {\"inplace\": true}}, {\"class\": \"BatchNorm1d\", \"kargs\": {\"num_features\": 256}}, {\"class\": \"Linear\", \"kargs\": {\"in_features\": 256, \"out_features\": 256}}], \"NUM_LOGS_PER_EPOCH\": 10, \"BEST_MODEL_PATH\": \"./best_model.pth\", \"n_way\": 16, \"datasets\": [{\"labels\": [\"3123D52\", \"3123D65\", \"3123D79\", \"3123D80\", \"3123D54\", \"3123D70\", \"3123D7B\", \"3123D89\", \"3123D58\", \"3123D76\", \"3123D7D\", \"3123EFE\", \"3123D64\", \"3123D78\", \"3123D7E\", \"3124E4A\"], \"domains\": [32, 38, 8, 44, 14, 50, 20, 26], \"num_examples_per_domain_per_label\": 10000, \"pickle_path\": \"/mnt/wd500GB/CSC500/csc500-main/datasets/oracle.Run1_10kExamples_stratified_ds.2022A.pkl\", \"source_or_target_dataset\": \"source\", \"x_transforms\": [\"unit_mag\"], \"episode_transforms\": [], \"domain_prefix\": \"ORACLE.run1_\"}, {\"labels\": [\"3123D52\", \"3123D65\", \"3123D79\", \"3123D80\", \"3123D54\", \"3123D70\", \"3123D7B\", \"3123D89\", \"3123D58\", \"3123D76\", \"3123D7D\", \"3123EFE\", \"3123D64\", \"3123D78\", \"3123D7E\", \"3124E4A\"], \"domains\": [32, 38, 8, 44, 14, 50, 20, 26], \"num_examples_per_domain_per_label\": 10000, \"pickle_path\": \"/mnt/wd500GB/CSC500/csc500-main/datasets/oracle.Run2_10kExamples_stratified_ds.2022A.pkl\", \"source_or_target_dataset\": \"target\", \"x_transforms\": [\"unit_mag\"], \"episode_transforms\": [], \"domain_prefix\": \"ORACLE.run2_\"}], \"dataset_seed\": 500, \"seed\": 500, \"x_shape\": [2, 256], \"domains_source\": [\"ORACLE.run1_32\", \"ORACLE.run1_38\", \"ORACLE.run1_8\", \"ORACLE.run1_44\", \"ORACLE.run1_14\", \"ORACLE.run1_50\", \"ORACLE.run1_20\", \"ORACLE.run1_26\"], \"domains_target\": [\"ORACLE.run2_32\", \"ORACLE.run2_38\", \"ORACLE.run2_8\", \"ORACLE.run2_44\", \"ORACLE.run2_14\", \"ORACLE.run2_50\", \"ORACLE.run2_20\", \"ORACLE.run2_26\"]}, \"results\": {\"source_test_label_accuracy\": 0.7375520833333333, \"source_test_label_loss\": 0.7427757978439331, \"target_test_label_accuracy\": 0.7212044270833333, \"target_test_label_loss\": 0.8225155472755432, \"source_val_label_accuracy\": 0.7381119791666667, \"source_val_label_loss\": 0.7438470721244812, \"target_val_label_accuracy\": 0.7240885416666667, \"target_val_label_loss\": 0.8194730281829834, \"total_epochs_trained\": 11, \"total_experiment_time_secs\": 10229.81658411026, \"confusion\": {\"ORACLE.run1_50\": {\"7\": {\"7\": 789, \"13\": 231, \"10\": 30, \"5\": 140, \"6\": 7, \"4\": 3}, \"10\": {\"10\": 1121, \"0\": 35, \"8\": 13, \"13\": 18, \"7\": 13}, \"0\": {\"0\": 1059, \"10\": 47, \"2\": 91, \"13\": 3}, \"11\": {\"9\": 96, \"11\": 1073, \"12\": 4, \"15\": 20, \"14\": 5, \"4\": 1, \"1\": 1}, \"2\": {\"0\": 65, \"2\": 1135}, \"14\": {\"14\": 1191, \"12\": 4, \"11\": 5}, \"9\": {\"9\": 946, \"11\": 178, \"12\": 71, \"14\": 5}, \"13\": {\"13\": 787, \"5\": 180, \"7\": 162, \"6\": 48, \"10\": 15, \"4\": 6, \"1\": 1, \"0\": 1}, \"8\": {\"8\": 1169, \"10\": 20, \"3\": 11}, \"15\": {\"11\": 21, \"1\": 169, \"15\": 931, \"4\": 64, \"6\": 14, \"5\": 1}, \"4\": {\"4\": 634, \"15\": 176, \"1\": 147, \"6\": 96, \"5\": 105, \"13\": 20, \"11\": 1, \"7\": 21}, \"5\": {\"6\": 78, \"5\": 505, \"10\": 9, \"4\": 164, \"7\": 233, \"13\": 159, \"1\": 50, \"15\": 1, \"0\": 1}, \"3\": {\"3\": 1172, \"8\": 28}, \"1\": {\"15\": 217, \"1\": 766, \"6\": 104, \"4\": 90, \"5\": 12, \"11\": 5, \"2\": 1, \"14\": 3, \"13\": 1, \"0\": 1}, \"6\": {\"5\": 41, \"6\": 906, \"13\": 63, \"15\": 15, \"4\": 102, \"1\": 66, \"7\": 6, \"2\": 1}, \"12\": {\"12\": 1104, \"14\": 24, \"9\": 63, \"11\": 9}}, \"ORACLE.run1_14\": {\"14\": {\"14\": 988, \"13\": 67, \"2\": 90, \"3\": 16, \"4\": 1, \"6\": 38}, \"6\": {\"6\": 722, \"14\": 41, \"2\": 48, \"13\": 386, \"4\": 2, \"3\": 1}, \"5\": {\"5\": 823, \"1\": 106, \"4\": 207, \"2\": 48, \"7\": 6, \"3\": 6, \"15\": 4}, \"15\": {\"15\": 1167, \"2\": 3, \"7\": 28, \"5\": 2}, \"11\": {\"11\": 1075, \"9\": 70, \"0\": 51, \"10\": 4}, \"8\": {\"8\": 1200}, \"12\": {\"12\": 1199, \"9\": 1}, \"1\": {\"1\": 1112, \"5\": 85, \"4\": 3}, \"2\": {\"2\": 606, \"14\": 177, \"13\": 66, \"5\": 132, \"4\": 79, \"6\": 71, \"3\": 50, \"15\": 19}, \"13\": {\"13\": 422, \"6\": 494, \"14\": 168, \"2\": 102, \"5\": 11, \"3\": 1, \"15\": 2}, \"3\": {\"3\": 1043, \"4\": 106, \"0\": 4, \"2\": 17, \"1\": 1, \"14\": 23, \"5\": 6}, \"0\": {\"0\": 1066, \"10\": 79, \"3\": 30, \"11\": 24, \"14\": 1}, \"9\": {\"9\": 1198, \"12\": 1, \"11\": 1}, \"4\": {\"4\": 886, \"3\": 95, \"5\": 162, \"2\": 47, \"1\": 9, \"14\": 1}, \"7\": {\"7\": 1180, \"15\": 11, \"1\": 6, \"5\": 3}, \"10\": {\"10\": 1162, \"0\": 35, \"3\": 1, \"14\": 1, \"11\": 1}}, \"ORACLE.run1_32\": {\"4\": {\"4\": 723, \"7\": 102, \"2\": 206, \"5\": 72, \"0\": 40, \"13\": 48, \"8\": 5, \"14\": 4}, \"14\": {\"14\": 550, \"11\": 264, \"7\": 194, \"5\": 46, \"13\": 64, \"2\": 7, \"3\": 5, \"0\": 48, \"4\": 14, \"8\": 8}, \"5\": {\"13\": 277, \"4\": 127, \"5\": 443, \"7\": 135, \"8\": 69, \"0\": 61, \"11\": 9, \"3\": 42, \"14\": 27, \"2\": 10}, \"10\": {\"10\": 1195, \"1\": 5}, \"13\": {\"5\": 225, \"13\": 611, \"4\": 84, \"7\": 85, \"3\": 58, \"8\": 67, \"11\": 21, \"0\": 25, \"14\": 24}, \"9\": {\"9\": 1199, \"12\": 1}, \"6\": {\"6\": 1200}, \"3\": {\"13\": 41, \"3\": 1114, \"5\": 18, \"14\": 3, \"11\": 19, \"8\": 4, \"7\": 1}, \"15\": {\"15\": 1196, \"8\": 4}, \"7\": {\"7\": 604, \"14\": 144, \"13\": 80, \"5\": 151, \"4\": 142, \"11\": 26, \"2\": 21, \"0\": 26, \"8\": 5, \"3\": 1}, \"12\": {\"12\": 1200}, \"8\": {\"8\": 907, \"0\": 97, \"13\": 91, \"5\": 88, \"3\": 10, \"4\": 3, \"7\": 1, \"14\": 3}, \"11\": {\"11\": 1004, \"14\": 159, \"13\": 12, \"3\": 3, \"7\": 14, \"8\": 1, \"4\": 1, \"5\": 6}, \"2\": {\"2\": 993, \"4\": 168, \"0\": 25, \"7\": 11, \"5\": 3}, \"1\": {\"1\": 1196, \"10\": 4}, \"0\": {\"0\": 904, \"4\": 74, \"7\": 33, \"13\": 14, \"5\": 37, \"8\": 95, \"2\": 30, \"14\": 13}}, \"ORACLE.run1_44\": {\"8\": {\"0\": 405, \"8\": 751, \"15\": 36, \"5\": 8}, \"11\": {\"11\": 1110, \"6\": 21, \"13\": 69}, \"14\": {\"14\": 767, \"4\": 336, \"15\": 68, \"5\": 28, \"13\": 1}, \"10\": {\"10\": 919, \"2\": 99, \"1\": 122, \"12\": 59, \"3\": 1}, \"3\": {\"3\": 1085, \"1\": 99, \"12\": 13, \"2\": 2, \"7\": 1}, \"15\": {\"15\": 966, \"14\": 86, \"0\": 89, \"5\": 29, \"8\": 20, \"4\": 10}, \"2\": {\"2\": 934, \"10\": 74, \"7\": 139, \"1\": 46, \"9\": 1, \"3\": 5, \"12\": 1}, \"12\": {\"12\": 958, \"1\": 175, \"10\": 53, \"3\": 13, \"2\": 1}, \"4\": {\"4\": 877, \"14\": 314, \"15\": 8, \"9\": 1}, \"1\": {\"3\": 132, \"12\": 199, \"1\": 744, \"10\": 86, \"2\": 38, \"7\": 1}, \"0\": {\"15\": 47, \"0\": 756, \"8\": 317, \"5\": 80}, \"9\": {\"9\": 682, \"7\": 262, \"13\": 131, \"6\": 114, \"2\": 5, \"11\": 2, \"4\": 4}, \"5\": {\"5\": 1043, \"8\": 6, \"0\": 77, \"14\": 36, \"15\": 33, \"4\": 5}, \"6\": {\"6\": 847, \"9\": 118, \"13\": 200, \"7\": 27, \"11\": 7, \"2\": 1}, \"7\": {\"7\": 782, \"9\": 208, \"2\": 180, \"6\": 28, \"1\": 1, \"3\": 1}, \"13\": {\"7\": 6, \"13\": 814, \"6\": 207, \"9\": 132, \"11\": 38, \"4\": 3}}, \"ORACLE.run1_8\": {\"13\": {\"4\": 184, \"13\": 449, \"0\": 313, \"6\": 41, \"10\": 121, \"14\": 79, \"7\": 8, \"5\": 3, \"1\": 2}, \"3\": {\"3\": 1056, \"2\": 89, \"12\": 55}, \"15\": {\"15\": 947, \"12\": 210, \"8\": 36, \"3\": 3, \"2\": 4}, \"4\": {\"4\": 631, \"13\": 204, \"14\": 167, \"6\": 129, \"10\": 25, \"0\": 39, \"7\": 3, \"1\": 2}, \"7\": {\"7\": 879, \"6\": 271, \"0\": 40, \"13\": 2, \"8\": 4, \"4\": 3, \"2\": 1}, \"2\": {\"2\": 958, \"3\": 177, \"7\": 19, \"15\": 35, \"12\": 9, \"8\": 2}, \"1\": {\"1\": 883, \"11\": 238, \"14\": 50, \"5\": 12, \"10\": 11, \"4\": 4, \"13\": 2}, \"0\": {\"0\": 777, \"6\": 61, \"13\": 242, \"7\": 70, \"4\": 36, \"10\": 14}, \"12\": {\"3\": 162, \"15\": 363, \"12\": 648, \"8\": 21, \"2\": 6}, \"6\": {\"6\": 724, \"0\": 60, \"4\": 117, \"7\": 263, \"13\": 22, \"8\": 7, \"14\": 6, \"1\": 1}, \"11\": {\"11\": 829, \"1\": 344, \"14\": 12, \"8\": 9, \"4\": 2, \"5\": 3, \"10\": 1}, \"9\": {\"9\": 1200}, \"5\": {\"5\": 1088, \"1\": 38, \"10\": 63, \"11\": 2, \"14\": 9}, \"10\": {\"10\": 843, \"13\": 101, \"14\": 195, \"1\": 3, \"5\": 21, \"4\": 32, \"0\": 5}, \"14\": {\"14\": 695, \"10\": 193, \"4\": 174, \"13\": 70, \"1\": 55, \"11\": 5, \"6\": 3, \"0\": 2, \"5\": 3}, \"8\": {\"8\": 1144, \"15\": 45, \"12\": 4, \"6\": 3, \"4\": 1, \"7\": 2, \"1\": 1}}, \"ORACLE.run1_20\": {\"6\": {\"6\": 1116, \"14\": 71, \"8\": 7, \"10\": 3, \"7\": 3}, \"11\": {\"11\": 1200}, \"5\": {\"5\": 567, \"0\": 214, \"1\": 174, \"2\": 5, \"12\": 119, \"9\": 5, \"3\": 30, \"15\": 77, \"4\": 7, \"13\": 2}, \"14\": {\"14\": 1007, \"6\": 95, \"10\": 80, \"8\": 18}, \"2\": {\"2\": 593, \"9\": 283, \"12\": 38, \"13\": 60, \"7\": 136, \"3\": 68, \"1\": 10, \"5\": 6, \"8\": 1, \"15\": 4, \"0\": 1}, \"7\": {\"7\": 943, \"8\": 53, \"2\": 115, \"12\": 5, \"3\": 40, \"9\": 31, \"6\": 8, \"13\": 2, \"4\": 3}, \"3\": {\"7\": 23, \"2\": 79, \"3\": 517, \"12\": 252, \"9\": 204, \"1\": 19, \"4\": 62, \"5\": 35, \"0\": 2, \"13\": 1, \"8\": 6}, \"4\": {\"4\": 986, \"12\": 7, \"3\": 41, \"8\": 132, \"7\": 3, \"10\": 22, \"0\": 1, \"5\": 4, \"9\": 4}, \"9\": {\"2\": 326, \"3\": 199, \"9\": 492, \"12\": 107, \"7\": 46, \"13\": 8, \"1\": 16, \"8\": 2, \"5\": 2, \"15\": 1, \"4\": 1}, \"12\": {\"3\": 265, \"9\": 107, \"1\": 172, \"12\": 476, \"5\": 119, \"2\": 42, \"15\": 12, \"0\": 4, \"13\": 2, \"7\": 1}, \"0\": {\"5\": 303, \"0\": 692, \"8\": 4, \"15\": 117, \"1\": 27, \"12\": 19, \"2\": 6, \"7\": 5, \"3\": 19, \"4\": 7, \"9\": 1}, \"10\": {\"10\": 1081, \"4\": 20, \"8\": 20, \"14\": 77, \"6\": 1, \"3\": 1}, \"8\": {\"8\": 965, \"4\": 115, \"3\": 14, \"7\": 62, \"6\": 12, \"14\": 22, \"10\": 9, \"0\": 1}, \"13\": {\"13\": 1126, \"2\": 46, \"15\": 17, \"9\": 5, \"1\": 2, \"12\": 2, \"0\": 1, \"7\": 1}, \"1\": {\"1\": 568, \"5\": 183, \"15\": 194, \"12\": 190, \"0\": 26, \"9\": 13, \"3\": 18, \"13\": 3, \"2\": 5}, \"15\": {\"15\": 752, \"1\": 195, \"5\": 123, \"13\": 33, \"0\": 80, \"12\": 14, \"9\": 2, \"2\": 1}}, \"ORACLE.run1_38\": {\"3\": {\"3\": 1141, \"6\": 2, \"9\": 36, \"0\": 12, \"5\": 2, \"7\": 7}, \"8\": {\"8\": 783, \"10\": 22, \"5\": 230, \"15\": 25, \"0\": 109, \"7\": 26, \"1\": 1, \"13\": 4}, \"0\": {\"3\": 63, \"7\": 189, \"8\": 250, \"0\": 592, \"5\": 67, \"10\": 31, \"15\": 3, \"12\": 2, \"6\": 1, \"9\": 1, \"13\": 1}, \"2\": {\"2\": 1094, \"14\": 75, \"13\": 30, \"11\": 1}, \"4\": {\"4\": 1151, \"12\": 49}, \"7\": {\"0\": 133, \"7\": 978, \"8\": 34, \"5\": 52, \"3\": 2, \"4\": 1}, \"12\": {\"12\": 1179, \"4\": 19, \"10\": 2}, \"6\": {\"6\": 1050, \"9\": 141, \"5\": 8, \"8\": 1}, \"15\": {\"15\": 937, \"1\": 102, \"13\": 109, \"5\": 18, \"8\": 29, \"0\": 1, \"10\": 4}, \"11\": {\"11\": 1072, \"14\": 101, \"10\": 14, \"2\": 9, \"12\": 2, \"13\": 2}, \"9\": {\"9\": 891, \"6\": 275, \"3\": 21, \"0\": 1, \"5\": 12}, \"14\": {\"14\": 1099, \"2\": 64, \"11\": 19, \"10\": 9, \"13\": 5, \"12\": 4}, \"10\": {\"10\": 964, \"2\": 2, \"13\": 126, \"5\": 4, \"8\": 41, \"0\": 20, \"15\": 7, \"14\": 12, \"12\": 6, \"4\": 3, \"7\": 5, \"11\": 10}, \"5\": {\"5\": 577, \"8\": 303, \"15\": 46, \"0\": 65, \"7\": 105, \"6\": 44, \"9\": 35, \"1\": 7, \"10\": 9, \"13\": 9}, \"1\": {\"1\": 1139, \"15\": 60, \"5\": 1}, \"13\": {\"13\": 877, \"15\": 157, \"2\": 29, \"10\": 105, \"5\": 6, \"8\": 14, \"1\": 6, \"14\": 1, \"0\": 4, \"11\": 1}}, \"ORACLE.run1_26\": {\"5\": {\"5\": 781, \"13\": 120, \"8\": 26, \"15\": 169, \"2\": 44, \"9\": 49, \"7\": 4, \"6\": 4, \"3\": 2, \"0\": 1}, \"8\": {\"7\": 89, \"8\": 503, \"10\": 162, \"15\": 79, \"4\": 84, \"3\": 6, \"9\": 84, \"0\": 95, \"14\": 16, \"5\": 13, \"6\": 51, \"2\": 13, \"1\": 4, \"13\": 1}, \"4\": {\"1\": 107, \"4\": 491, \"0\": 147, \"7\": 90, \"14\": 216, \"8\": 88, \"10\": 57, \"9\": 1, \"3\": 2, \"15\": 1}, \"12\": {\"12\": 1199, \"11\": 1}, \"6\": {\"15\": 39, \"6\": 872, \"10\": 69, \"9\": 163, \"14\": 1, \"5\": 1, \"8\": 28, \"13\": 10, \"0\": 17}, \"7\": {\"2\": 115, \"7\": 642, \"8\": 85, \"3\": 179, \"0\": 21, \"4\": 114, \"10\": 2, \"15\": 10, \"14\": 14, \"9\": 4, \"1\": 8, \"5\": 6}, \"10\": {\"0\": 267, \"10\": 486, \"8\": 167, \"14\": 115, \"1\": 21, \"6\": 52, \"4\": 71, \"9\": 12, \"15\": 5, \"7\": 4}, \"0\": {\"10\": 281, \"0\": 364, \"6\": 17, \"7\": 16, \"14\": 197, \"4\": 172, \"8\": 123, \"9\": 5, \"1\": 22, \"15\": 2, \"2\": 1}, \"15\": {\"5\": 161, \"15\": 485, \"2\": 37, \"13\": 60, \"9\": 303, \"6\": 33, \"7\": 7, \"0\": 4, \"8\": 95, \"10\": 8, \"3\": 3, \"4\": 2, \"14\": 2}, \"9\": {\"15\": 332, \"9\": 524, \"6\": 153, \"8\": 94, \"5\": 50, \"0\": 9, \"10\": 8, \"13\": 24, \"7\": 4, \"14\": 1, \"2\": 1}, \"11\": {\"11\": 1192, \"12\": 8}, \"14\": {\"14\": 443, \"1\": 243, \"4\": 209, \"7\": 10, \"0\": 182, \"10\": 88, \"8\": 23, \"6\": 2}, \"2\": {\"7\": 116, \"2\": 491, \"3\": 359, \"8\": 34, \"5\": 111, \"13\": 6, \"10\": 1, \"9\": 15, \"15\": 62, \"1\": 1, \"4\": 3, \"14\": 1}, \"13\": {\"13\": 857, \"5\": 225, \"2\": 20, \"15\": 64, \"6\": 11, \"9\": 23}, \"3\": {\"2\": 289, \"3\": 742, \"7\": 161, \"4\": 4, \"8\": 1, \"15\": 1, \"5\": 1, \"0\": 1}, \"1\": {\"1\": 735, \"14\": 236, \"4\": 128, \"0\": 38, \"7\": 14, \"8\": 7, \"10\": 41, \"6\": 1}}, \"ORACLE.run2_50\": {\"7\": {\"7\": 620, \"13\": 356, \"5\": 137, \"10\": 73, \"4\": 12, \"6\": 1, \"0\": 1}, \"10\": {\"10\": 917, \"13\": 186, \"0\": 28, \"7\": 46, \"5\": 22, \"4\": 1}, \"0\": {\"0\": 1095, \"2\": 78, \"10\": 24, \"5\": 3}, \"11\": {\"11\": 1144, \"15\": 36, \"12\": 6, \"14\": 11, \"9\": 3}, \"2\": {\"2\": 1134, \"0\": 66}, \"14\": {\"14\": 1182, \"12\": 16, \"11\": 2}, \"9\": {\"9\": 1145, \"12\": 44, \"11\": 11}, \"13\": {\"13\": 706, \"10\": 200, \"7\": 256, \"5\": 36, \"4\": 2}, \"8\": {\"8\": 1176, \"3\": 24}, \"15\": {\"15\": 1106, \"1\": 52, \"6\": 11, \"11\": 30, \"4\": 1}, \"4\": {\"4\": 681, \"6\": 150, \"1\": 80, \"5\": 278, \"13\": 1, \"10\": 6, \"7\": 2, \"0\": 2}, \"5\": {\"4\": 304, \"5\": 626, \"10\": 57, \"13\": 52, \"6\": 66, \"7\": 80, \"0\": 5, \"1\": 10}, \"3\": {\"3\": 1143, \"8\": 57}, \"1\": {\"6\": 167, \"1\": 920, \"15\": 65, \"4\": 39, \"5\": 8, \"11\": 1}, \"6\": {\"6\": 821, \"4\": 125, \"1\": 183, \"15\": 16, \"5\": 52, \"10\": 1, \"7\": 1, \"0\": 1}, \"12\": {\"12\": 1113, \"14\": 29, \"9\": 48, \"11\": 10}}, \"ORACLE.run2_14\": {\"14\": {\"2\": 147, \"14\": 882, \"6\": 114, \"13\": 8, \"3\": 30, \"0\": 7, \"4\": 8, \"5\": 4}, \"6\": {\"6\": 844, \"13\": 256, \"14\": 72, \"2\": 27, \"4\": 1}, \"5\": {\"1\": 77, \"5\": 613, \"4\": 321, \"3\": 85, \"2\": 102, \"14\": 2}, \"15\": {\"15\": 1190, \"7\": 10}, \"11\": {\"11\": 1176, \"12\": 23, \"0\": 1}, \"8\": {\"8\": 1200}, \"12\": {\"12\": 626, \"10\": 12, \"11\": 314, \"0\": 98, \"9\": 107, \"3\": 1, \"8\": 42}, \"1\": {\"1\": 1096, \"5\": 83, \"4\": 20, \"3\": 1}, \"2\": {\"14\": 196, \"2\": 563, \"1\": 3, \"13\": 84, \"3\": 95, \"4\": 97, \"5\": 125, \"0\": 1, \"6\": 34, \"15\": 2}, \"13\": {\"13\": 894, \"6\": 265, \"2\": 29, \"14\": 12}, \"3\": {\"3\": 1010, \"5\": 76, \"4\": 62, \"14\": 18, \"2\": 26, \"1\": 7, \"0\": 1}, \"0\": {\"0\": 1196, \"3\": 3, \"14\": 1}, \"9\": {\"9\": 1197, \"12\": 3}, \"4\": {\"4\": 721, \"5\": 306, \"3\": 61, \"2\": 79, \"1\": 29, \"14\": 3, \"6\": 1}, \"7\": {\"7\": 1194, \"15\": 5, \"1\": 1}, \"10\": {\"10\": 1148, \"0\": 49, \"3\": 1, \"11\": 1, \"14\": 1}}, \"ORACLE.run2_32\": {\"4\": {\"0\": 117, \"4\": 592, \"13\": 209, \"8\": 45, \"7\": 60, \"11\": 52, \"5\": 102, \"2\": 23}, \"14\": {\"2\": 109, \"14\": 988, \"0\": 45, \"7\": 1, \"5\": 40, \"11\": 14, \"4\": 2, \"9\": 1}, \"5\": {\"8\": 106, \"5\": 553, \"2\": 135, \"4\": 111, \"14\": 102, \"0\": 116, \"7\": 19, \"13\": 48, \"11\": 5, \"3\": 5}, \"10\": {\"10\": 1199, \"1\": 1}, \"13\": {\"4\": 228, \"13\": 719, \"11\": 57, \"7\": 90, \"8\": 43, \"3\": 23, \"0\": 28, \"5\": 12}, \"9\": {\"9\": 1171, \"14\": 25, \"12\": 2, \"2\": 2}, \"6\": {\"6\": 1200}, \"3\": {\"3\": 1147, \"8\": 15, \"13\": 36, \"4\": 2}, \"15\": {\"15\": 1197, \"5\": 1, \"8\": 2}, \"7\": {\"7\": 743, \"11\": 215, \"4\": 87, \"13\": 113, \"5\": 8, \"0\": 20, \"2\": 14}, \"12\": {\"12\": 1200}, \"8\": {\"8\": 968, \"13\": 53, \"5\": 57, \"0\": 61, \"11\": 3, \"4\": 38, \"3\": 19, \"15\": 1}, \"11\": {\"11\": 630, \"4\": 65, \"13\": 90, \"0\": 183, \"7\": 200, \"2\": 15, \"5\": 11, \"8\": 1, \"14\": 4, \"3\": 1}, \"2\": {\"2\": 997, \"14\": 87, \"0\": 14, \"5\": 56, \"4\": 25, \"7\": 11, \"11\": 10}, \"1\": {\"1\": 1194, \"10\": 6}, \"0\": {\"0\": 646, \"7\": 20, \"5\": 113, \"4\": 127, \"8\": 79, \"11\": 144, \"13\": 44, \"3\": 1, \"14\": 16, \"2\": 10}}, \"ORACLE.run2_44\": {\"8\": {\"8\": 706, \"0\": 474, \"5\": 11, \"15\": 9}, \"11\": {\"11\": 1179, \"6\": 19, \"7\": 2}, \"14\": {\"14\": 869, \"5\": 120, \"4\": 69, \"15\": 142}, \"10\": {\"10\": 1154, \"12\": 25, \"1\": 21}, \"3\": {\"3\": 1046, \"12\": 43, \"1\": 108, \"2\": 2, \"7\": 1}, \"15\": {\"15\": 1002, \"14\": 134, \"4\": 45, \"8\": 14, \"5\": 4, \"0\": 1}, \"2\": {\"2\": 668, \"9\": 293, \"7\": 235, \"1\": 3, \"3\": 1}, \"12\": {\"12\": 844, \"1\": 297, \"3\": 56, \"10\": 3}, \"4\": {\"4\": 1069, \"15\": 41, \"14\": 62, \"13\": 27, \"9\": 1}, \"1\": {\"12\": 303, \"1\": 753, \"3\": 136, \"7\": 2, \"10\": 3, \"2\": 3}, \"0\": {\"0\": 684, \"8\": 509, \"15\": 4, \"5\": 3}, \"9\": {\"2\": 308, \"9\": 543, \"7\": 322, \"6\": 26, \"13\": 1}, \"5\": {\"5\": 1089, \"14\": 103, \"8\": 6, \"0\": 1, \"15\": 1}, \"6\": {\"13\": 26, \"6\": 1109, \"9\": 43, \"2\": 4, \"7\": 14, \"11\": 4}, \"7\": {\"7\": 604, \"2\": 264, \"9\": 316, \"6\": 13, \"3\": 1, \"1\": 2}, \"13\": {\"13\": 1168, \"4\": 17, \"6\": 12, \"14\": 3}}, \"ORACLE.run2_8\": {\"13\": {\"13\": 910, \"14\": 161, \"1\": 88, \"10\": 18, \"5\": 6, \"0\": 4, \"6\": 11, \"8\": 2}, \"3\": {\"3\": 1097, \"12\": 101, \"15\": 2}, \"15\": {\"15\": 718, \"11\": 160, \"12\": 173, \"8\": 141, \"7\": 2, \"3\": 6}, \"4\": {\"4\": 548, \"2\": 84, \"7\": 235, \"6\": 322, \"14\": 9, \"0\": 1, \"8\": 1}, \"7\": {\"4\": 239, \"7\": 632, \"2\": 128, \"6\": 198, \"14\": 1, \"8\": 2}, \"2\": {\"2\": 932, \"6\": 21, \"4\": 86, \"7\": 159, \"15\": 1, \"8\": 1}, \"1\": {\"1\": 1090, \"13\": 86, \"5\": 21, \"10\": 3}, \"0\": {\"0\": 851, \"10\": 151, \"14\": 188, \"4\": 4, \"13\": 3, \"6\": 3}, \"12\": {\"15\": 122, \"12\": 971, \"11\": 26, \"3\": 81}, \"6\": {\"6\": 585, \"7\": 178, \"4\": 378, \"14\": 37, \"2\": 12, \"0\": 5, \"8\": 1, \"13\": 4}, \"11\": {\"11\": 616, \"12\": 150, \"8\": 254, \"15\": 178, \"13\": 1, \"1\": 1}, \"9\": {\"9\": 1200}, \"5\": {\"5\": 961, \"10\": 207, \"1\": 24, \"13\": 4, \"0\": 4}, \"10\": {\"14\": 75, \"10\": 713, \"0\": 204, \"5\": 169, \"1\": 11, \"13\": 28}, \"14\": {\"10\": 64, \"14\": 797, \"0\": 158, \"13\": 137, \"6\": 30, \"4\": 13, \"7\": 1}, \"8\": {\"8\": 1016, \"15\": 77, \"11\": 103, \"7\": 1, \"6\": 2, \"13\": 1}}, \"ORACLE.run2_20\": {\"6\": {\"6\": 1091, \"14\": 83, \"10\": 10, \"7\": 7, \"8\": 9}, \"11\": {\"11\": 1200}, \"5\": {\"2\": 183, \"15\": 88, \"7\": 33, \"4\": 35, \"13\": 7, \"3\": 127, \"5\": 463, \"9\": 31, \"0\": 75, \"1\": 31, \"12\": 115, \"8\": 12}, \"14\": {\"14\": 860, \"10\": 87, \"8\": 138, \"6\": 113, \"4\": 1, \"7\": 1}, \"2\": {\"15\": 85, \"2\": 382, \"3\": 174, \"9\": 335, \"5\": 129, \"1\": 9, \"12\": 64, \"7\": 5, \"4\": 4, \"0\": 2, \"13\": 11}, \"7\": {\"7\": 893, \"3\": 105, \"5\": 20, \"8\": 124, \"10\": 13, \"2\": 18, \"6\": 16, \"14\": 6, \"4\": 3, \"12\": 1, \"9\": 1}, \"3\": {\"4\": 12, \"2\": 174, \"3\": 515, \"7\": 191, \"5\": 123, \"12\": 24, \"9\": 128, \"8\": 23, \"15\": 5, \"10\": 4, \"13\": 1}, \"4\": {\"4\": 1071, \"5\": 30, \"8\": 16, \"12\": 41, \"3\": 17, \"10\": 4, \"0\": 11, \"9\": 4, \"2\": 1, \"7\": 1, \"1\": 2, \"14\": 2}, \"9\": {\"9\": 538, \"12\": 104, \"2\": 283, \"3\": 119, \"1\": 34, \"15\": 64, \"5\": 47, \"13\": 8, \"7\": 1, \"4\": 1, \"0\": 1}, \"12\": {\"5\": 108, \"4\": 37, \"1\": 238, \"12\": 519, \"9\": 103, \"0\": 36, \"15\": 65, \"3\": 20, \"2\": 71, \"13\": 3}, \"0\": {\"0\": 903, \"13\": 6, \"5\": 73, \"15\": 62, \"1\": 68, \"12\": 53, \"4\": 28, \"2\": 4, \"8\": 1, \"9\": 2}, \"10\": {\"14\": 84, \"10\": 1040, \"6\": 17, \"8\": 33, \"7\": 12, \"4\": 11, \"3\": 3}, \"8\": {\"14\": 161, \"4\": 48, \"8\": 778, \"7\": 142, \"10\": 18, \"5\": 12, \"6\": 21, \"3\": 18, \"12\": 1, \"2\": 1}, \"13\": {\"15\": 249, \"13\": 904, \"0\": 8, \"5\": 8, \"2\": 22, \"1\": 6, \"12\": 2, \"9\": 1}, \"1\": {\"9\": 30, \"12\": 269, \"1\": 697, \"0\": 67, \"15\": 105, \"13\": 9, \"2\": 14, \"5\": 8, \"4\": 1}, \"15\": {\"15\": 556, \"5\": 72, \"2\": 76, \"13\": 261, \"1\": 93, \"9\": 53, \"3\": 4, \"12\": 65, \"0\": 20}}, \"ORACLE.run2_38\": {\"3\": {\"13\": 153, \"0\": 239, \"10\": 84, \"3\": 528, \"7\": 22, \"8\": 54, \"9\": 52, \"5\": 31, \"6\": 13, \"15\": 24}, \"8\": {\"8\": 482, \"15\": 192, \"5\": 338, \"10\": 26, \"7\": 86, \"13\": 63, \"3\": 10, \"0\": 2, \"1\": 1}, \"0\": {\"0\": 1013, \"10\": 15, \"15\": 7, \"3\": 134, \"9\": 9, \"6\": 5, \"7\": 9, \"8\": 1, \"5\": 4, \"13\": 3}, \"2\": {\"2\": 1076, \"14\": 124}, \"4\": {\"4\": 1147, \"7\": 6, \"12\": 42, \"10\": 5}, \"7\": {\"10\": 312, \"8\": 97, \"7\": 632, \"5\": 135, \"13\": 10, \"3\": 6, \"15\": 5, \"0\": 3}, \"12\": {\"12\": 1177, \"14\": 9, \"4\": 13, \"7\": 1}, \"6\": {\"6\": 986, \"9\": 212, \"15\": 2}, \"15\": {\"15\": 633, \"5\": 168, \"8\": 221, \"13\": 11, \"1\": 127, \"0\": 11, \"3\": 8, \"6\": 13, \"7\": 8}, \"11\": {\"11\": 1097, \"14\": 56, \"12\": 31, \"2\": 6, \"4\": 10}, \"9\": {\"6\": 287, \"9\": 905, \"13\": 1, \"3\": 3, \"0\": 4}, \"14\": {\"14\": 742, \"2\": 285, \"7\": 24, \"13\": 9, \"12\": 75, \"11\": 27, \"5\": 18, \"10\": 7, \"8\": 9, \"4\": 4}, \"10\": {\"10\": 698, \"7\": 371, \"8\": 36, \"13\": 15, \"0\": 20, \"3\": 27, \"5\": 30, \"4\": 3}, \"5\": {\"8\": 387, \"15\": 123, \"1\": 2, \"7\": 131, \"10\": 30, \"5\": 491, \"13\": 33, \"3\": 3}, \"1\": {\"1\": 1123, \"13\": 4, \"15\": 70, \"8\": 3}, \"13\": {\"13\": 686, \"1\": 38, \"3\": 139, \"7\": 34, \"0\": 10, \"5\": 63, \"15\": 31, \"8\": 123, \"2\": 20, \"10\": 45, \"14\": 7, \"9\": 2, \"6\": 2}}, \"ORACLE.run2_26\": {\"5\": {\"13\": 264, \"5\": 452, \"7\": 123, \"2\": 70, \"9\": 85, \"6\": 112, \"8\": 53, \"10\": 10, \"3\": 15, \"14\": 6, \"15\": 6, \"4\": 2, \"1\": 1, \"0\": 1}, \"8\": {\"8\": 578, \"5\": 42, \"4\": 65, \"7\": 108, \"0\": 67, \"6\": 9, \"9\": 87, \"2\": 91, \"10\": 75, \"14\": 56, \"1\": 12, \"15\": 3, \"13\": 6, \"3\": 1}, \"4\": {\"2\": 85, \"0\": 87, \"4\": 722, \"14\": 61, \"7\": 63, \"15\": 33, \"3\": 71, \"8\": 46, \"1\": 19, \"10\": 13}, \"12\": {\"12\": 1200}, \"6\": {\"6\": 917, \"13\": 32, \"9\": 159, \"5\": 17, \"8\": 20, \"10\": 54, \"14\": 1}, \"7\": {\"2\": 348, \"7\": 424, \"5\": 38, \"14\": 3, \"3\": 94, \"8\": 116, \"4\": 72, \"10\": 4, \"15\": 76, \"9\": 21, \"13\": 1, \"0\": 3}, \"10\": {\"6\": 79, \"8\": 100, \"14\": 203, \"0\": 236, \"1\": 61, \"10\": 417, \"4\": 61, \"9\": 11, \"2\": 11, \"7\": 13, \"15\": 6, \"12\": 2}, \"0\": {\"10\": 164, \"1\": 76, \"2\": 9, \"4\": 149, \"0\": 451, \"8\": 104, \"14\": 227, \"7\": 11, \"9\": 3, \"15\": 4, \"3\": 1, \"6\": 1}, \"15\": {\"15\": 700, \"2\": 95, \"7\": 109, \"4\": 60, \"3\": 210, \"9\": 10, \"8\": 10, \"5\": 5, \"0\": 1}, \"9\": {\"13\": 99, \"6\": 152, \"9\": 757, \"5\": 62, \"8\": 84, \"0\": 1, \"7\": 22, \"15\": 3, \"10\": 9, \"2\": 9, \"14\": 1, \"4\": 1}, \"11\": {\"11\": 1200}, \"14\": {\"14\": 427, \"10\": 182, \"1\": 241, \"0\": 213, \"8\": 81, \"4\": 45, \"7\": 2, \"5\": 2, \"2\": 5, \"9\": 1, \"6\": 1}, \"2\": {\"3\": 95, \"7\": 329, \"4\": 113, \"2\": 381, \"5\": 43, \"8\": 105, \"15\": 99, \"9\": 18, \"10\": 5, \"0\": 9, \"14\": 3}, \"13\": {\"13\": 917, \"5\": 170, \"9\": 86, \"6\": 20, \"8\": 4, \"2\": 2, \"7\": 1}, \"3\": {\"2\": 120, \"3\": 716, \"7\": 91, \"15\": 201, \"4\": 71, \"9\": 1}, \"1\": {\"14\": 284, \"1\": 788, \"8\": 8, \"0\": 74, \"4\": 12, \"10\": 31, \"2\": 2, \"7\": 1}}}, \"per_domain_accuracy\": {\"ORACLE.run1_50\": {\"accuracy\": 0.79625, \"source?\": true}, \"ORACLE.run1_14\": {\"accuracy\": 0.82546875, \"source?\": true}, \"ORACLE.run1_32\": {\"accuracy\": 0.78328125, \"source?\": true}, \"ORACLE.run1_44\": {\"accuracy\": 0.7309895833333333, \"source?\": true}, \"ORACLE.run1_8\": {\"accuracy\": 0.7161979166666667, \"source?\": true}, \"ORACLE.run1_20\": {\"accuracy\": 0.6813020833333333, \"source?\": true}, \"ORACLE.run1_38\": {\"accuracy\": 0.8085416666666667, \"source?\": true}, \"ORACLE.run1_26\": {\"accuracy\": 0.5628645833333333, \"source?\": true}, \"ORACLE.run2_50\": {\"accuracy\": 0.8088020833333334, \"source?\": false}, \"ORACLE.run2_14\": {\"accuracy\": 0.8098958333333334, \"source?\": false}, \"ORACLE.run2_32\": {\"accuracy\": 0.78875, \"source?\": false}, \"ORACLE.run2_44\": {\"accuracy\": 0.75453125, \"source?\": false}, \"ORACLE.run2_8\": {\"accuracy\": 0.7102604166666666, \"source?\": false}, \"ORACLE.run2_20\": {\"accuracy\": 0.6463541666666667, \"source?\": false}, \"ORACLE.run2_38\": {\"accuracy\": 0.69875, \"source?\": false}, \"ORACLE.run2_26\": {\"accuracy\": 0.5753645833333333, \"source?\": false}}}, \"history\": {\"epoch_indices\": [1, 2, 3, 4, 5, 6, 7, 8, 9, 10, 11], \"train_label_loss\": [1.0727942832337605, 0.8342603648476126, 0.7457839790656275, 0.6540803738208931, 0.5786404925093631, 0.5247214018009115, 0.4825595672382042, 0.44426200616156813, 0.41134026941106033, 0.38264316861451203, 0.3545285861837467], \"source_val_label_loss\": [0.9507043957710266, 0.8704944849014282, 0.806770920753479, 0.7642847299575806, 0.7406807541847229, 0.7337357997894287, 0.7438470721244812, 0.7465846538543701, 0.7683860659599304, 0.785364031791687, 0.814530074596405], \"target_val_label_loss\": [0.9945322871208191, 0.9376293420791626, 0.8764376044273376, 0.8352265954017639, 0.8155854940414429, 0.8077130913734436, 0.8194730281829834, 0.8285958170890808, 0.8495473861694336, 0.8680815100669861, 0.9037830829620361], \"source_val_acc_label\": [0.6423177083333333, 0.6700260416666667, 0.6993489583333333, 0.71861328125, 0.7284440104166666, 0.7328125, 0.7381119791666667, 0.7375325520833333, 0.7364192708333334, 0.7335546875, 0.7312044270833333], \"target_val_acc_label\": [0.628671875, 0.64724609375, 0.6806380208333334, 0.7027213541666667, 0.71240234375, 0.71802734375, 0.7240885416666667, 0.7225260416666667, 0.7213541666666666, 0.7194140625, 0.7142057291666667]}, \"dataset_metrics\": {\"source\": {\"train\": {\"n_unique_x\": 896000, \"n_unique_y\": 16, \"n_batch/episode\": 33600}, \"val\": {\"n_unique_x\": 192000, \"n_unique_y\": 16, \"n_batch/episode\": 4800}, \"test\": {\"n_unique_x\": 192000, \"n_unique_y\": 16, \"n_batch/episode\": 4800}}, \"target\": {\"train\": {\"n_unique_x\": 896000, \"n_unique_y\": 16, \"n_batch/episode\": 33600}, \"val\": {\"n_unique_x\": 192000, \"n_unique_y\": 16, \"n_batch/episode\": 4800}, \"test\": {\"n_unique_x\": 192000, \"n_unique_y\": 16, \"n_batch/episode\": 4800}}}}'"
      ]
     },
     "execution_count": 29,
     "metadata": {},
     "output_type": "execute_result"
    }
   ],
   "source": [
    "json.dumps(experiment)"
   ]
  }
 ],
 "metadata": {
  "celltoolbar": "Tags",
  "kernelspec": {
   "display_name": "Python 3 (ipykernel)",
   "language": "python",
   "name": "python3"
  },
  "language_info": {
   "codemirror_mode": {
    "name": "ipython",
    "version": 3
   },
   "file_extension": ".py",
   "mimetype": "text/x-python",
   "name": "python",
   "nbconvert_exporter": "python",
   "pygments_lexer": "ipython3",
   "version": "3.8.10"
  },
  "papermill": {
   "default_parameters": {},
   "duration": 10718.687514,
   "end_time": "2022-03-29T15:40:11.948156",
   "environment_variables": {},
   "exception": null,
   "input_path": "/mnt/wd500GB/CSC500/csc500-main/csc500-notebooks/templates/tl_ptn_template.ipynb",
   "output_path": "trial.ipynb",
   "parameters": {
    "parameters": {
     "BEST_MODEL_PATH": "./best_model.pth",
     "NUM_LOGS_PER_EPOCH": 10,
     "criteria_for_best": "target_accuracy",
     "dataset_seed": 500,
     "datasets": [
      {
       "domain_prefix": "ORACLE.run1_",
       "domains": [
        32,
        38,
        8,
        44,
        14,
        50,
        20,
        26
       ],
       "episode_transforms": [],
       "labels": [
        "3123D52",
        "3123D65",
        "3123D79",
        "3123D80",
        "3123D54",
        "3123D70",
        "3123D7B",
        "3123D89",
        "3123D58",
        "3123D76",
        "3123D7D",
        "3123EFE",
        "3123D64",
        "3123D78",
        "3123D7E",
        "3124E4A"
       ],
       "num_examples_per_domain_per_label": 10000,
       "pickle_path": "/mnt/wd500GB/CSC500/csc500-main/datasets/oracle.Run1_10kExamples_stratified_ds.2022A.pkl",
       "source_or_target_dataset": "source",
       "x_transforms": [
        "unit_mag"
       ]
      },
      {
       "domain_prefix": "ORACLE.run2_",
       "domains": [
        32,
        38,
        8,
        44,
        14,
        50,
        20,
        26
       ],
       "episode_transforms": [],
       "labels": [
        "3123D52",
        "3123D65",
        "3123D79",
        "3123D80",
        "3123D54",
        "3123D70",
        "3123D7B",
        "3123D89",
        "3123D58",
        "3123D76",
        "3123D7D",
        "3123EFE",
        "3123D64",
        "3123D78",
        "3123D7E",
        "3124E4A"
       ],
       "num_examples_per_domain_per_label": 10000,
       "pickle_path": "/mnt/wd500GB/CSC500/csc500-main/datasets/oracle.Run2_10kExamples_stratified_ds.2022A.pkl",
       "source_or_target_dataset": "target",
       "x_transforms": [
        "unit_mag"
       ]
      }
     ],
     "device": "cuda",
     "experiment_name": "tl_1v2:oracle.run1-oracle.run2",
     "lr": 0.0001,
     "n_epoch": 50,
     "n_query": 2,
     "n_shot": 3,
     "n_way": 16,
     "patience": 3,
     "seed": 500,
     "test_k_factor": 2,
     "torch_default_dtype": "torch.float32",
     "train_k_factor": 3,
     "val_k_factor": 2,
     "x_net": [
      {
       "class": "nnReshape",
       "kargs": {
        "shape": [
         -1,
         1,
         2,
         256
        ]
       }
      },
      {
       "class": "Conv2d",
       "kargs": {
        "bias": false,
        "in_channels": 1,
        "kernel_size": [
         1,
         7
        ],
        "out_channels": 256,
        "padding": [
         0,
         3
        ]
       }
      },
      {
       "class": "ReLU",
       "kargs": {
        "inplace": true
       }
      },
      {
       "class": "BatchNorm2d",
       "kargs": {
        "num_features": 256
       }
      },
      {
       "class": "Conv2d",
       "kargs": {
        "bias": true,
        "in_channels": 256,
        "kernel_size": [
         2,
         7
        ],
        "out_channels": 80,
        "padding": [
         0,
         3
        ]
       }
      },
      {
       "class": "ReLU",
       "kargs": {
        "inplace": true
       }
      },
      {
       "class": "BatchNorm2d",
       "kargs": {
        "num_features": 80
       }
      },
      {
       "class": "Flatten",
       "kargs": {}
      },
      {
       "class": "Linear",
       "kargs": {
        "in_features": 20480,
        "out_features": 256
       }
      },
      {
       "class": "ReLU",
       "kargs": {
        "inplace": true
       }
      },
      {
       "class": "BatchNorm1d",
       "kargs": {
        "num_features": 256
       }
      },
      {
       "class": "Linear",
       "kargs": {
        "in_features": 256,
        "out_features": 256
       }
      }
     ]
    }
   },
   "start_time": "2022-03-29T12:41:33.260642",
   "version": "2.3.4"
  }
 },
 "nbformat": 4,
 "nbformat_minor": 5
}