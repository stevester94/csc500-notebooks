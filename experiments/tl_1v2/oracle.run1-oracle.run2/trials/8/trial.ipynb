{
 "cells": [
  {
   "cell_type": "markdown",
   "id": "9fea5f46",
   "metadata": {
    "papermill": {
     "duration": 0.018058,
     "end_time": "2022-03-24T05:05:34.568388",
     "exception": false,
     "start_time": "2022-03-24T05:05:34.550330",
     "status": "completed"
    },
    "tags": []
   },
   "source": [
    "# Transfer Learning Template"
   ]
  },
  {
   "cell_type": "code",
   "execution_count": 1,
   "id": "0902182a",
   "metadata": {
    "execution": {
     "iopub.execute_input": "2022-03-24T05:05:34.606019Z",
     "iopub.status.busy": "2022-03-24T05:05:34.599549Z",
     "iopub.status.idle": "2022-03-24T05:05:35.663748Z",
     "shell.execute_reply": "2022-03-24T05:05:35.663230Z"
    },
    "papermill": {
     "duration": 1.083174,
     "end_time": "2022-03-24T05:05:35.663850",
     "exception": false,
     "start_time": "2022-03-24T05:05:34.580676",
     "status": "completed"
    },
    "tags": []
   },
   "outputs": [],
   "source": [
    "%load_ext autoreload\n",
    "%autoreload 2\n",
    "%matplotlib inline\n",
    "\n",
    "    \n",
    "import os, json, sys, time, random\n",
    "import numpy as np\n",
    "import torch\n",
    "from torch.optim import Adam\n",
    "from  easydict import EasyDict\n",
    "import matplotlib.pyplot as plt\n",
    "\n",
    "from steves_models.steves_ptn import Steves_Prototypical_Network\n",
    "\n",
    "from steves_utils.lazy_iterable_wrapper import Lazy_Iterable_Wrapper\n",
    "from steves_utils.iterable_aggregator import Iterable_Aggregator\n",
    "from steves_utils.ptn_train_eval_test_jig import  PTN_Train_Eval_Test_Jig\n",
    "from steves_utils.torch_sequential_builder import build_sequential\n",
    "from steves_utils.torch_utils import get_dataset_metrics, ptn_confusion_by_domain_over_dataloader\n",
    "from steves_utils.utils_v2 import (per_domain_accuracy_from_confusion, get_datasets_base_path)\n",
    "from steves_utils.PTN.utils import independent_accuracy_assesment\n",
    "\n",
    "from torch.utils.data import DataLoader\n",
    "\n",
    "from steves_utils.stratified_dataset.episodic_accessor import Episodic_Accessor_Factory\n",
    "\n",
    "from steves_utils.ptn_do_report import (\n",
    "    get_loss_curve,\n",
    "    get_results_table,\n",
    "    get_parameters_table,\n",
    "    get_domain_accuracies,\n",
    ")\n",
    "\n",
    "from steves_utils.transforms import get_chained_transform"
   ]
  },
  {
   "cell_type": "markdown",
   "id": "41c840b4",
   "metadata": {
    "papermill": {
     "duration": 0.012174,
     "end_time": "2022-03-24T05:05:35.695145",
     "exception": false,
     "start_time": "2022-03-24T05:05:35.682971",
     "status": "completed"
    },
    "tags": []
   },
   "source": [
    "# Allowed Parameters\n",
    "These are allowed parameters, not defaults\n",
    "Each of these values need to be present in the injected parameters (the notebook will raise an exception if they are not present)\n",
    "\n",
    "Papermill uses the cell tag \"parameters\" to inject the real parameters below this cell.\n",
    "Enable tags to see what I mean"
   ]
  },
  {
   "cell_type": "code",
   "execution_count": 2,
   "id": "fd44eb83",
   "metadata": {
    "execution": {
     "iopub.execute_input": "2022-03-24T05:05:35.722372Z",
     "iopub.status.busy": "2022-03-24T05:05:35.722105Z",
     "iopub.status.idle": "2022-03-24T05:05:35.737066Z",
     "shell.execute_reply": "2022-03-24T05:05:35.736556Z"
    },
    "papermill": {
     "duration": 0.029764,
     "end_time": "2022-03-24T05:05:35.737181",
     "exception": false,
     "start_time": "2022-03-24T05:05:35.707417",
     "status": "completed"
    },
    "tags": []
   },
   "outputs": [],
   "source": [
    "required_parameters = {\n",
    "    \"experiment_name\",\n",
    "    \"lr\",\n",
    "    \"device\",\n",
    "    \"seed\",\n",
    "    \"dataset_seed\",\n",
    "    \"n_shot\",\n",
    "    \"n_query\",\n",
    "    \"n_way\",\n",
    "    \"train_k_factor\",\n",
    "    \"val_k_factor\",\n",
    "    \"test_k_factor\",\n",
    "    \"n_epoch\",\n",
    "    \"patience\",\n",
    "    \"criteria_for_best\",\n",
    "    \"x_net\",\n",
    "    \"datasets\",\n",
    "    \"torch_default_dtype\",\n",
    "    \"NUM_LOGS_PER_EPOCH\",\n",
    "    \"BEST_MODEL_PATH\",\n",
    "    \"x_shape\",\n",
    "}"
   ]
  },
  {
   "cell_type": "code",
   "execution_count": 3,
   "id": "fa3f0049",
   "metadata": {
    "execution": {
     "iopub.execute_input": "2022-03-24T05:05:35.776584Z",
     "iopub.status.busy": "2022-03-24T05:05:35.775663Z",
     "iopub.status.idle": "2022-03-24T05:05:35.789205Z",
     "shell.execute_reply": "2022-03-24T05:05:35.788827Z"
    },
    "papermill": {
     "duration": 0.034754,
     "end_time": "2022-03-24T05:05:35.789298",
     "exception": false,
     "start_time": "2022-03-24T05:05:35.754544",
     "status": "completed"
    },
    "tags": [
     "parameters"
    ]
   },
   "outputs": [],
   "source": [
    "from steves_utils.CORES.utils import (\n",
    "    ALL_NODES,\n",
    "    ALL_NODES_MINIMUM_1000_EXAMPLES,\n",
    "    ALL_DAYS\n",
    ")\n",
    "\n",
    "from steves_utils.ORACLE.utils_v2 import (\n",
    "    ALL_DISTANCES_FEET_NARROWED,\n",
    "    ALL_RUNS,\n",
    "    ALL_SERIAL_NUMBERS,\n",
    ")\n",
    "\n",
    "standalone_parameters = {}\n",
    "standalone_parameters[\"experiment_name\"] = \"STANDALONE PTN\"\n",
    "standalone_parameters[\"lr\"] = 0.001\n",
    "standalone_parameters[\"device\"] = \"cuda\"\n",
    "\n",
    "standalone_parameters[\"seed\"] = 1337\n",
    "standalone_parameters[\"dataset_seed\"] = 1337\n",
    "\n",
    "standalone_parameters[\"n_way\"] = 8\n",
    "standalone_parameters[\"n_shot\"] = 3\n",
    "standalone_parameters[\"n_query\"]  = 2\n",
    "standalone_parameters[\"train_k_factor\"] = 1\n",
    "standalone_parameters[\"val_k_factor\"] = 2\n",
    "standalone_parameters[\"test_k_factor\"] = 2\n",
    "\n",
    "\n",
    "standalone_parameters[\"n_epoch\"] = 50\n",
    "\n",
    "standalone_parameters[\"patience\"] = 10\n",
    "standalone_parameters[\"criteria_for_best\"] = \"source_loss\"\n",
    "\n",
    "standalone_parameters[\"datasets\"] = [\n",
    "    {\n",
    "        \"labels\": ALL_SERIAL_NUMBERS,\n",
    "        \"domains\": ALL_DISTANCES_FEET_NARROWED,\n",
    "        \"num_examples_per_domain_per_label\": 100,\n",
    "        \"pickle_path\": os.path.join(get_datasets_base_path(), \"oracle.Run1_framed_2000Examples_stratified_ds.2022A.pkl\"),\n",
    "        \"source_or_target_dataset\": \"source\",\n",
    "        \"x_transforms\": [\"unit_mag\", \"minus_two\"],\n",
    "        \"episode_transforms\": [],\n",
    "        \"domain_prefix\": \"ORACLE_\"\n",
    "    },\n",
    "    {\n",
    "        \"labels\": ALL_NODES,\n",
    "        \"domains\": ALL_DAYS,\n",
    "        \"num_examples_per_domain_per_label\": 100,\n",
    "        \"pickle_path\": os.path.join(get_datasets_base_path(), \"cores.stratified_ds.2022A.pkl\"),\n",
    "        \"source_or_target_dataset\": \"target\",\n",
    "        \"x_transforms\": [\"unit_power\", \"times_zero\"],\n",
    "        \"episode_transforms\": [],\n",
    "        \"domain_prefix\": \"CORES_\"\n",
    "    }   \n",
    "]\n",
    "\n",
    "standalone_parameters[\"torch_default_dtype\"] = \"torch.float32\" \n",
    "\n",
    "\n",
    "\n",
    "standalone_parameters[\"x_net\"] =     [\n",
    "    {\"class\": \"nnReshape\", \"kargs\": {\"shape\":[-1, 1, 2, 256]}},\n",
    "    {\"class\": \"Conv2d\", \"kargs\": { \"in_channels\":1, \"out_channels\":256, \"kernel_size\":(1,7), \"bias\":False, \"padding\":(0,3), },},\n",
    "    {\"class\": \"ReLU\", \"kargs\": {\"inplace\": True}},\n",
    "    {\"class\": \"BatchNorm2d\", \"kargs\": {\"num_features\":256}},\n",
    "\n",
    "    {\"class\": \"Conv2d\", \"kargs\": { \"in_channels\":256, \"out_channels\":80, \"kernel_size\":(2,7), \"bias\":True, \"padding\":(0,3), },},\n",
    "    {\"class\": \"ReLU\", \"kargs\": {\"inplace\": True}},\n",
    "    {\"class\": \"BatchNorm2d\", \"kargs\": {\"num_features\":80}},\n",
    "    {\"class\": \"Flatten\", \"kargs\": {}},\n",
    "\n",
    "    {\"class\": \"Linear\", \"kargs\": {\"in_features\": 80*256, \"out_features\": 256}}, # 80 units per IQ pair\n",
    "    {\"class\": \"ReLU\", \"kargs\": {\"inplace\": True}},\n",
    "    {\"class\": \"BatchNorm1d\", \"kargs\": {\"num_features\":256}},\n",
    "\n",
    "    {\"class\": \"Linear\", \"kargs\": {\"in_features\": 256, \"out_features\": 256}},\n",
    "]\n",
    "\n",
    "# Parameters relevant to results\n",
    "# These parameters will basically never need to change\n",
    "standalone_parameters[\"NUM_LOGS_PER_EPOCH\"] = 10\n",
    "standalone_parameters[\"BEST_MODEL_PATH\"] = \"./best_model.pth\"\n",
    "\n",
    "\n",
    "\n",
    "\n"
   ]
  },
  {
   "cell_type": "code",
   "execution_count": 4,
   "id": "4d675a0b",
   "metadata": {
    "execution": {
     "iopub.execute_input": "2022-03-24T05:05:35.827252Z",
     "iopub.status.busy": "2022-03-24T05:05:35.820134Z",
     "iopub.status.idle": "2022-03-24T05:05:35.840465Z",
     "shell.execute_reply": "2022-03-24T05:05:35.840011Z"
    },
    "papermill": {
     "duration": 0.034388,
     "end_time": "2022-03-24T05:05:35.840553",
     "exception": false,
     "start_time": "2022-03-24T05:05:35.806165",
     "status": "completed"
    },
    "tags": [
     "injected-parameters"
    ]
   },
   "outputs": [],
   "source": [
    "# Parameters\n",
    "parameters = {\n",
    "    \"experiment_name\": \"tl_1v2:oracle.run1-oracle.run2\",\n",
    "    \"device\": \"cuda\",\n",
    "    \"lr\": 0.0001,\n",
    "    \"n_shot\": 3,\n",
    "    \"n_query\": 2,\n",
    "    \"train_k_factor\": 3,\n",
    "    \"val_k_factor\": 2,\n",
    "    \"test_k_factor\": 2,\n",
    "    \"torch_default_dtype\": \"torch.float32\",\n",
    "    \"n_epoch\": 50,\n",
    "    \"patience\": 3,\n",
    "    \"criteria_for_best\": \"target_accuracy\",\n",
    "    \"x_net\": [\n",
    "        {\"class\": \"nnReshape\", \"kargs\": {\"shape\": [-1, 1, 2, 256]}},\n",
    "        {\n",
    "            \"class\": \"Conv2d\",\n",
    "            \"kargs\": {\n",
    "                \"in_channels\": 1,\n",
    "                \"out_channels\": 256,\n",
    "                \"kernel_size\": [1, 7],\n",
    "                \"bias\": False,\n",
    "                \"padding\": [0, 3],\n",
    "            },\n",
    "        },\n",
    "        {\"class\": \"ReLU\", \"kargs\": {\"inplace\": True}},\n",
    "        {\"class\": \"BatchNorm2d\", \"kargs\": {\"num_features\": 256}},\n",
    "        {\n",
    "            \"class\": \"Conv2d\",\n",
    "            \"kargs\": {\n",
    "                \"in_channels\": 256,\n",
    "                \"out_channels\": 80,\n",
    "                \"kernel_size\": [2, 7],\n",
    "                \"bias\": True,\n",
    "                \"padding\": [0, 3],\n",
    "            },\n",
    "        },\n",
    "        {\"class\": \"ReLU\", \"kargs\": {\"inplace\": True}},\n",
    "        {\"class\": \"BatchNorm2d\", \"kargs\": {\"num_features\": 80}},\n",
    "        {\"class\": \"Flatten\", \"kargs\": {}},\n",
    "        {\"class\": \"Linear\", \"kargs\": {\"in_features\": 20480, \"out_features\": 256}},\n",
    "        {\"class\": \"ReLU\", \"kargs\": {\"inplace\": True}},\n",
    "        {\"class\": \"BatchNorm1d\", \"kargs\": {\"num_features\": 256}},\n",
    "        {\"class\": \"Linear\", \"kargs\": {\"in_features\": 256, \"out_features\": 256}},\n",
    "    ],\n",
    "    \"NUM_LOGS_PER_EPOCH\": 10,\n",
    "    \"BEST_MODEL_PATH\": \"./best_model.pth\",\n",
    "    \"n_way\": 16,\n",
    "    \"datasets\": [\n",
    "        {\n",
    "            \"labels\": [\n",
    "                \"3123D52\",\n",
    "                \"3123D65\",\n",
    "                \"3123D79\",\n",
    "                \"3123D80\",\n",
    "                \"3123D54\",\n",
    "                \"3123D70\",\n",
    "                \"3123D7B\",\n",
    "                \"3123D89\",\n",
    "                \"3123D58\",\n",
    "                \"3123D76\",\n",
    "                \"3123D7D\",\n",
    "                \"3123EFE\",\n",
    "                \"3123D64\",\n",
    "                \"3123D78\",\n",
    "                \"3123D7E\",\n",
    "                \"3124E4A\",\n",
    "            ],\n",
    "            \"domains\": [32, 38, 8, 44, 14, 50, 20, 26],\n",
    "            \"num_examples_per_domain_per_label\": 10000,\n",
    "            \"pickle_path\": \"/mnt/wd500GB/CSC500/csc500-main/datasets/oracle.Run1_10kExamples_stratified_ds.2022A.pkl\",\n",
    "            \"source_or_target_dataset\": \"source\",\n",
    "            \"x_transforms\": [],\n",
    "            \"episode_transforms\": [],\n",
    "            \"domain_prefix\": \"ORACLE.run1_\",\n",
    "        },\n",
    "        {\n",
    "            \"labels\": [\n",
    "                \"3123D52\",\n",
    "                \"3123D65\",\n",
    "                \"3123D79\",\n",
    "                \"3123D80\",\n",
    "                \"3123D54\",\n",
    "                \"3123D70\",\n",
    "                \"3123D7B\",\n",
    "                \"3123D89\",\n",
    "                \"3123D58\",\n",
    "                \"3123D76\",\n",
    "                \"3123D7D\",\n",
    "                \"3123EFE\",\n",
    "                \"3123D64\",\n",
    "                \"3123D78\",\n",
    "                \"3123D7E\",\n",
    "                \"3124E4A\",\n",
    "            ],\n",
    "            \"domains\": [32, 38, 8, 44, 14, 50, 20, 26],\n",
    "            \"num_examples_per_domain_per_label\": 10000,\n",
    "            \"pickle_path\": \"/mnt/wd500GB/CSC500/csc500-main/datasets/oracle.Run2_10kExamples_stratified_ds.2022A.pkl\",\n",
    "            \"source_or_target_dataset\": \"target\",\n",
    "            \"x_transforms\": [],\n",
    "            \"episode_transforms\": [],\n",
    "            \"domain_prefix\": \"ORACLE.run2_\",\n",
    "        },\n",
    "    ],\n",
    "    \"dataset_seed\": 420,\n",
    "    \"seed\": 420,\n",
    "}\n"
   ]
  },
  {
   "cell_type": "code",
   "execution_count": 5,
   "id": "8fa1cc33",
   "metadata": {
    "execution": {
     "iopub.execute_input": "2022-03-24T05:05:35.874251Z",
     "iopub.status.busy": "2022-03-24T05:05:35.873977Z",
     "iopub.status.idle": "2022-03-24T05:05:35.888820Z",
     "shell.execute_reply": "2022-03-24T05:05:35.888405Z"
    },
    "papermill": {
     "duration": 0.031054,
     "end_time": "2022-03-24T05:05:35.888908",
     "exception": false,
     "start_time": "2022-03-24T05:05:35.857854",
     "status": "completed"
    },
    "tags": []
   },
   "outputs": [],
   "source": [
    "# Set this to True if you want to run this template directly\n",
    "STANDALONE = False\n",
    "if STANDALONE:\n",
    "    print(\"parameters not injected, running with standalone_parameters\")\n",
    "    parameters = standalone_parameters\n",
    "\n",
    "if not 'parameters' in locals() and not 'parameters' in globals():\n",
    "    raise Exception(\"Parameter injection failed\")\n",
    "\n",
    "#Use an easy dict for all the parameters\n",
    "p = EasyDict(parameters)\n",
    "\n",
    "if \"x_shape\" not in p:\n",
    "    p.x_shape = [2,256] # Default to this if we dont supply x_shape\n",
    "\n",
    "\n",
    "supplied_keys = set(p.keys())\n",
    "\n",
    "if  supplied_keys != required_parameters:\n",
    "    print(\"Parameters are incorrect\")\n",
    "    if len(supplied_keys - required_parameters)>0: print(\"Shouldn't have:\", str(supplied_keys - required_parameters))\n",
    "    if len(required_parameters - supplied_keys)>0: print(\"Need to have:\", str(required_parameters - supplied_keys))\n",
    "    raise RuntimeError(\"Parameters are incorrect\")"
   ]
  },
  {
   "cell_type": "code",
   "execution_count": 6,
   "id": "3a028d58",
   "metadata": {
    "execution": {
     "iopub.execute_input": "2022-03-24T05:05:35.921035Z",
     "iopub.status.busy": "2022-03-24T05:05:35.920783Z",
     "iopub.status.idle": "2022-03-24T05:05:35.935916Z",
     "shell.execute_reply": "2022-03-24T05:05:35.935510Z"
    },
    "papermill": {
     "duration": 0.030039,
     "end_time": "2022-03-24T05:05:35.936006",
     "exception": false,
     "start_time": "2022-03-24T05:05:35.905967",
     "status": "completed"
    },
    "tags": []
   },
   "outputs": [],
   "source": [
    "###################################\n",
    "# Set the RNGs and make it all deterministic\n",
    "###################################\n",
    "np.random.seed(p.seed)\n",
    "random.seed(p.seed)\n",
    "torch.manual_seed(p.seed)\n",
    "\n",
    "torch.use_deterministic_algorithms(True) "
   ]
  },
  {
   "cell_type": "code",
   "execution_count": 7,
   "id": "b691acf6",
   "metadata": {
    "execution": {
     "iopub.execute_input": "2022-03-24T05:05:35.968191Z",
     "iopub.status.busy": "2022-03-24T05:05:35.967489Z",
     "iopub.status.idle": "2022-03-24T05:05:35.983430Z",
     "shell.execute_reply": "2022-03-24T05:05:35.982964Z"
    },
    "papermill": {
     "duration": 0.029882,
     "end_time": "2022-03-24T05:05:35.983519",
     "exception": false,
     "start_time": "2022-03-24T05:05:35.953637",
     "status": "completed"
    },
    "tags": []
   },
   "outputs": [],
   "source": [
    "###########################################\n",
    "# The stratified datasets honor this\n",
    "###########################################\n",
    "torch.set_default_dtype(eval(p.torch_default_dtype))"
   ]
  },
  {
   "cell_type": "code",
   "execution_count": 8,
   "id": "b5fba671",
   "metadata": {
    "execution": {
     "iopub.execute_input": "2022-03-24T05:05:36.015688Z",
     "iopub.status.busy": "2022-03-24T05:05:36.015444Z",
     "iopub.status.idle": "2022-03-24T05:05:36.054658Z",
     "shell.execute_reply": "2022-03-24T05:05:36.054265Z"
    },
    "papermill": {
     "duration": 0.053363,
     "end_time": "2022-03-24T05:05:36.054745",
     "exception": false,
     "start_time": "2022-03-24T05:05:36.001382",
     "status": "completed"
    },
    "tags": []
   },
   "outputs": [],
   "source": [
    "###################################\n",
    "# Build the network(s)\n",
    "# Note: It's critical to do this AFTER setting the RNG\n",
    "###################################\n",
    "x_net = build_sequential(p.x_net)"
   ]
  },
  {
   "cell_type": "code",
   "execution_count": 9,
   "id": "5d7e61cc",
   "metadata": {
    "execution": {
     "iopub.execute_input": "2022-03-24T05:05:36.088298Z",
     "iopub.status.busy": "2022-03-24T05:05:36.088046Z",
     "iopub.status.idle": "2022-03-24T05:05:36.101346Z",
     "shell.execute_reply": "2022-03-24T05:05:36.101542Z"
    },
    "papermill": {
     "duration": 0.028281,
     "end_time": "2022-03-24T05:05:36.101602",
     "exception": false,
     "start_time": "2022-03-24T05:05:36.073321",
     "status": "completed"
    },
    "tags": []
   },
   "outputs": [],
   "source": [
    "start_time_secs = time.time()"
   ]
  },
  {
   "cell_type": "code",
   "execution_count": 10,
   "id": "c6b67dfd",
   "metadata": {
    "execution": {
     "iopub.execute_input": "2022-03-24T05:05:36.132999Z",
     "iopub.status.busy": "2022-03-24T05:05:36.132755Z",
     "iopub.status.idle": "2022-03-24T05:05:36.146070Z",
     "shell.execute_reply": "2022-03-24T05:05:36.145654Z"
    },
    "papermill": {
     "duration": 0.028124,
     "end_time": "2022-03-24T05:05:36.146161",
     "exception": false,
     "start_time": "2022-03-24T05:05:36.118037",
     "status": "completed"
    },
    "tags": []
   },
   "outputs": [],
   "source": [
    "p.domains_source = []\n",
    "p.domains_target = []\n",
    "\n",
    "\n",
    "train_original_source = []\n",
    "val_original_source   = []\n",
    "test_original_source  = []\n",
    "\n",
    "train_original_target = []\n",
    "val_original_target   = []\n",
    "test_original_target  = []"
   ]
  },
  {
   "cell_type": "code",
   "execution_count": 11,
   "id": "e3d9c3d3",
   "metadata": {
    "execution": {
     "iopub.execute_input": "2022-03-24T05:05:36.177075Z",
     "iopub.status.busy": "2022-03-24T05:05:36.176652Z",
     "iopub.status.idle": "2022-03-24T05:05:36.191152Z",
     "shell.execute_reply": "2022-03-24T05:05:36.190750Z"
    },
    "papermill": {
     "duration": 0.029343,
     "end_time": "2022-03-24T05:05:36.191240",
     "exception": false,
     "start_time": "2022-03-24T05:05:36.161897",
     "status": "completed"
    },
    "tags": []
   },
   "outputs": [],
   "source": [
    "# global_x_transform_func = lambda x: normalize(x.to(torch.get_default_dtype()), \"unit_power\") # unit_power, unit_mag\n",
    "# global_x_transform_func = lambda x: normalize(x, \"unit_power\") # unit_power, unit_mag"
   ]
  },
  {
   "cell_type": "code",
   "execution_count": 12,
   "id": "acb78fd2",
   "metadata": {
    "execution": {
     "iopub.execute_input": "2022-03-24T05:05:36.229204Z",
     "iopub.status.busy": "2022-03-24T05:05:36.228952Z",
     "iopub.status.idle": "2022-03-24T05:05:36.242945Z",
     "shell.execute_reply": "2022-03-24T05:05:36.242513Z"
    },
    "papermill": {
     "duration": 0.033629,
     "end_time": "2022-03-24T05:05:36.243033",
     "exception": false,
     "start_time": "2022-03-24T05:05:36.209404",
     "status": "completed"
    },
    "tags": []
   },
   "outputs": [],
   "source": [
    "def add_dataset(\n",
    "    labels,\n",
    "    domains,\n",
    "    pickle_path,\n",
    "    x_transforms,\n",
    "    episode_transforms,\n",
    "    domain_prefix,\n",
    "    num_examples_per_domain_per_label,\n",
    "    source_or_target_dataset:str,\n",
    "    iterator_seed=p.seed,\n",
    "    dataset_seed=p.dataset_seed,\n",
    "    n_shot=p.n_shot,\n",
    "    n_way=p.n_way,\n",
    "    n_query=p.n_query,\n",
    "    train_val_test_k_factors=(p.train_k_factor,p.val_k_factor,p.test_k_factor),\n",
    "):\n",
    "   \n",
    "    if x_transforms == []: x_transform = None\n",
    "    else: x_transform = get_chained_transform(x_transforms)\n",
    "    \n",
    "    if episode_transforms == []: episode_transform = None\n",
    "    else: raise Exception(\"episode_transforms not implemented\")\n",
    "    \n",
    "    episode_transform = lambda tup, _prefix=domain_prefix: (_prefix + str(tup[0]), tup[1])\n",
    "\n",
    "\n",
    "    eaf = Episodic_Accessor_Factory(\n",
    "        labels=labels,\n",
    "        domains=domains,\n",
    "        num_examples_per_domain_per_label=num_examples_per_domain_per_label,\n",
    "        iterator_seed=iterator_seed,\n",
    "        dataset_seed=dataset_seed,\n",
    "        n_shot=n_shot,\n",
    "        n_way=n_way,\n",
    "        n_query=n_query,\n",
    "        train_val_test_k_factors=train_val_test_k_factors,\n",
    "        pickle_path=pickle_path,\n",
    "        x_transform_func=x_transform,\n",
    "    )\n",
    "\n",
    "    train, val, test = eaf.get_train(), eaf.get_val(), eaf.get_test()\n",
    "    train = Lazy_Iterable_Wrapper(train, episode_transform)\n",
    "    val = Lazy_Iterable_Wrapper(val, episode_transform)\n",
    "    test = Lazy_Iterable_Wrapper(test, episode_transform)\n",
    "\n",
    "    if source_or_target_dataset==\"source\":\n",
    "        train_original_source.append(train)\n",
    "        val_original_source.append(val)\n",
    "        test_original_source.append(test)\n",
    "\n",
    "        p.domains_source.extend(\n",
    "            [domain_prefix + str(u) for u in domains]\n",
    "        )\n",
    "    elif source_or_target_dataset==\"target\":\n",
    "        train_original_target.append(train)\n",
    "        val_original_target.append(val)\n",
    "        test_original_target.append(test)\n",
    "        p.domains_target.extend(\n",
    "            [domain_prefix + str(u) for u in domains]\n",
    "        )\n",
    "    else:\n",
    "        raise Exception(f\"invalid source_or_target_dataset: {source_or_target_dataset}\")\n",
    "    "
   ]
  },
  {
   "cell_type": "code",
   "execution_count": 13,
   "id": "fe266617",
   "metadata": {
    "execution": {
     "iopub.execute_input": "2022-03-24T05:05:36.284878Z",
     "iopub.status.busy": "2022-03-24T05:05:36.280952Z",
     "iopub.status.idle": "2022-03-24T05:05:54.249845Z",
     "shell.execute_reply": "2022-03-24T05:05:54.250268Z"
    },
    "papermill": {
     "duration": 17.989234,
     "end_time": "2022-03-24T05:05:54.250409",
     "exception": false,
     "start_time": "2022-03-24T05:05:36.261175",
     "status": "completed"
    },
    "tags": []
   },
   "outputs": [],
   "source": [
    "for ds in p.datasets:\n",
    "    add_dataset(**ds)"
   ]
  },
  {
   "cell_type": "code",
   "execution_count": 14,
   "id": "b90d65ac",
   "metadata": {
    "execution": {
     "iopub.execute_input": "2022-03-24T05:05:54.283564Z",
     "iopub.status.busy": "2022-03-24T05:05:54.283316Z",
     "iopub.status.idle": "2022-03-24T05:05:54.298042Z",
     "shell.execute_reply": "2022-03-24T05:05:54.297629Z"
    },
    "papermill": {
     "duration": 0.030346,
     "end_time": "2022-03-24T05:05:54.298142",
     "exception": false,
     "start_time": "2022-03-24T05:05:54.267796",
     "status": "completed"
    },
    "tags": []
   },
   "outputs": [],
   "source": [
    "# from steves_utils.CORES.utils import (\n",
    "#     ALL_NODES,\n",
    "#     ALL_NODES_MINIMUM_1000_EXAMPLES,\n",
    "#     ALL_DAYS\n",
    "# )\n",
    "\n",
    "# add_dataset(\n",
    "#     labels=ALL_NODES,\n",
    "#     domains = ALL_DAYS,\n",
    "#     num_examples_per_domain_per_label=100,\n",
    "#     pickle_path=os.path.join(get_datasets_base_path(), \"cores.stratified_ds.2022A.pkl\"),\n",
    "#     source_or_target_dataset=\"target\",\n",
    "#     x_transform_func=global_x_transform_func,\n",
    "#     domain_modifier=lambda u: f\"cores_{u}\"\n",
    "# )"
   ]
  },
  {
   "cell_type": "code",
   "execution_count": 15,
   "id": "76db484d",
   "metadata": {
    "execution": {
     "iopub.execute_input": "2022-03-24T05:05:54.356874Z",
     "iopub.status.busy": "2022-03-24T05:05:54.356625Z",
     "iopub.status.idle": "2022-03-24T05:05:54.368029Z",
     "shell.execute_reply": "2022-03-24T05:05:54.367628Z"
    },
    "papermill": {
     "duration": 0.027116,
     "end_time": "2022-03-24T05:05:54.368130",
     "exception": false,
     "start_time": "2022-03-24T05:05:54.341014",
     "status": "completed"
    },
    "tags": []
   },
   "outputs": [],
   "source": [
    "# from steves_utils.ORACLE.utils_v2 import (\n",
    "#     ALL_DISTANCES_FEET,\n",
    "#     ALL_RUNS,\n",
    "#     ALL_SERIAL_NUMBERS,\n",
    "# )\n",
    "\n",
    "\n",
    "# add_dataset(\n",
    "#     labels=ALL_SERIAL_NUMBERS,\n",
    "#     domains = list(set(ALL_DISTANCES_FEET) - {2,62}),\n",
    "#     num_examples_per_domain_per_label=100,\n",
    "#     pickle_path=os.path.join(get_datasets_base_path(), \"oracle.Run2_framed_2000Examples_stratified_ds.2022A.pkl\"),\n",
    "#     source_or_target_dataset=\"source\",\n",
    "#     x_transform_func=global_x_transform_func,\n",
    "#     domain_modifier=lambda u: f\"oracle1_{u}\"\n",
    "# )\n"
   ]
  },
  {
   "cell_type": "code",
   "execution_count": 16,
   "id": "97dea9d2",
   "metadata": {
    "execution": {
     "iopub.execute_input": "2022-03-24T05:05:54.403246Z",
     "iopub.status.busy": "2022-03-24T05:05:54.402991Z",
     "iopub.status.idle": "2022-03-24T05:05:54.419074Z",
     "shell.execute_reply": "2022-03-24T05:05:54.419441Z"
    },
    "papermill": {
     "duration": 0.032163,
     "end_time": "2022-03-24T05:05:54.419560",
     "exception": false,
     "start_time": "2022-03-24T05:05:54.387397",
     "status": "completed"
    },
    "tags": []
   },
   "outputs": [],
   "source": [
    "# from steves_utils.ORACLE.utils_v2 import (\n",
    "#     ALL_DISTANCES_FEET,\n",
    "#     ALL_RUNS,\n",
    "#     ALL_SERIAL_NUMBERS,\n",
    "# )\n",
    "\n",
    "\n",
    "# add_dataset(\n",
    "#     labels=ALL_SERIAL_NUMBERS,\n",
    "#     domains = list(set(ALL_DISTANCES_FEET) - {2,62,56}),\n",
    "#     num_examples_per_domain_per_label=100,\n",
    "#     pickle_path=os.path.join(get_datasets_base_path(), \"oracle.Run2_framed_2000Examples_stratified_ds.2022A.pkl\"),\n",
    "#     source_or_target_dataset=\"source\",\n",
    "#     x_transform_func=global_x_transform_func,\n",
    "#     domain_modifier=lambda u: f\"oracle2_{u}\"\n",
    "# )"
   ]
  },
  {
   "cell_type": "code",
   "execution_count": 17,
   "id": "6f289866",
   "metadata": {
    "execution": {
     "iopub.execute_input": "2022-03-24T05:05:54.453825Z",
     "iopub.status.busy": "2022-03-24T05:05:54.453580Z",
     "iopub.status.idle": "2022-03-24T05:05:54.468138Z",
     "shell.execute_reply": "2022-03-24T05:05:54.467728Z"
    },
    "papermill": {
     "duration": 0.029921,
     "end_time": "2022-03-24T05:05:54.468235",
     "exception": false,
     "start_time": "2022-03-24T05:05:54.438314",
     "status": "completed"
    },
    "tags": []
   },
   "outputs": [],
   "source": [
    "# add_dataset(\n",
    "#     labels=list(range(19)),\n",
    "#     domains = [0,1,2],\n",
    "#     num_examples_per_domain_per_label=100,\n",
    "#     pickle_path=os.path.join(get_datasets_base_path(), \"metehan.stratified_ds.2022A.pkl\"),\n",
    "#     source_or_target_dataset=\"target\",\n",
    "#     x_transform_func=global_x_transform_func,\n",
    "#     domain_modifier=lambda u: f\"met_{u}\"\n",
    "# )"
   ]
  },
  {
   "cell_type": "code",
   "execution_count": 18,
   "id": "86a863c3",
   "metadata": {
    "execution": {
     "iopub.execute_input": "2022-03-24T05:05:54.502391Z",
     "iopub.status.busy": "2022-03-24T05:05:54.502145Z",
     "iopub.status.idle": "2022-03-24T05:05:54.512490Z",
     "shell.execute_reply": "2022-03-24T05:05:54.512771Z"
    },
    "papermill": {
     "duration": 0.025769,
     "end_time": "2022-03-24T05:05:54.512867",
     "exception": false,
     "start_time": "2022-03-24T05:05:54.487098",
     "status": "completed"
    },
    "tags": []
   },
   "outputs": [],
   "source": [
    "# # from steves_utils.wisig.utils import (\n",
    "# #     ALL_NODES_MINIMUM_100_EXAMPLES,\n",
    "# #     ALL_NODES_MINIMUM_500_EXAMPLES,\n",
    "# #     ALL_NODES_MINIMUM_1000_EXAMPLES,\n",
    "# #     ALL_DAYS\n",
    "# # )\n",
    "\n",
    "# import steves_utils.wisig.utils as wisig\n",
    "\n",
    "\n",
    "# add_dataset(\n",
    "#     labels=wisig.ALL_NODES_MINIMUM_100_EXAMPLES,\n",
    "#     domains = wisig.ALL_DAYS,\n",
    "#     num_examples_per_domain_per_label=100,\n",
    "#     pickle_path=os.path.join(get_datasets_base_path(), \"wisig.node3-19.stratified_ds.2022A.pkl\"),\n",
    "#     source_or_target_dataset=\"target\",\n",
    "#     x_transform_func=global_x_transform_func,\n",
    "#     domain_modifier=lambda u: f\"wisig_{u}\"\n",
    "# )"
   ]
  },
  {
   "cell_type": "code",
   "execution_count": 19,
   "id": "fd5442bc",
   "metadata": {
    "execution": {
     "iopub.execute_input": "2022-03-24T05:05:54.551076Z",
     "iopub.status.busy": "2022-03-24T05:05:54.546573Z",
     "iopub.status.idle": "2022-03-24T05:05:54.564430Z",
     "shell.execute_reply": "2022-03-24T05:05:54.564812Z"
    },
    "papermill": {
     "duration": 0.03346,
     "end_time": "2022-03-24T05:05:54.564940",
     "exception": false,
     "start_time": "2022-03-24T05:05:54.531480",
     "status": "completed"
    },
    "tags": []
   },
   "outputs": [],
   "source": [
    "###################################\n",
    "# Build the dataset\n",
    "###################################\n",
    "train_original_source = Iterable_Aggregator(train_original_source, p.seed)\n",
    "val_original_source = Iterable_Aggregator(val_original_source, p.seed)\n",
    "test_original_source = Iterable_Aggregator(test_original_source, p.seed)\n",
    "\n",
    "\n",
    "train_original_target = Iterable_Aggregator(train_original_target, p.seed)\n",
    "val_original_target = Iterable_Aggregator(val_original_target, p.seed)\n",
    "test_original_target = Iterable_Aggregator(test_original_target, p.seed)\n",
    "\n",
    "# For CNN We only use X and Y. And we only train on the source.\n",
    "# Properly form the data using a transform lambda and Lazy_Iterable_Wrapper. Finally wrap them in a dataloader\n",
    "\n",
    "transform_lambda = lambda ex: ex[1] # Original is (<domain>, <episode>) so we strip down to episode only\n",
    "\n",
    "train_processed_source = Lazy_Iterable_Wrapper(train_original_source, transform_lambda)\n",
    "val_processed_source   = Lazy_Iterable_Wrapper(val_original_source, transform_lambda)\n",
    "test_processed_source  = Lazy_Iterable_Wrapper(test_original_source, transform_lambda)\n",
    "\n",
    "train_processed_target = Lazy_Iterable_Wrapper(train_original_target, transform_lambda)\n",
    "val_processed_target   = Lazy_Iterable_Wrapper(val_original_target, transform_lambda)\n",
    "test_processed_target  = Lazy_Iterable_Wrapper(test_original_target, transform_lambda)\n",
    "\n",
    "datasets = EasyDict({\n",
    "    \"source\": {\n",
    "        \"original\": {\"train\":train_original_source, \"val\":val_original_source, \"test\":test_original_source},\n",
    "        \"processed\": {\"train\":train_processed_source, \"val\":val_processed_source, \"test\":test_processed_source}\n",
    "    },\n",
    "    \"target\": {\n",
    "        \"original\": {\"train\":train_original_target, \"val\":val_original_target, \"test\":test_original_target},\n",
    "        \"processed\": {\"train\":train_processed_target, \"val\":val_processed_target, \"test\":test_processed_target}\n",
    "    },\n",
    "})"
   ]
  },
  {
   "cell_type": "code",
   "execution_count": 20,
   "id": "5b3c01fc",
   "metadata": {
    "execution": {
     "iopub.execute_input": "2022-03-24T05:05:54.601118Z",
     "iopub.status.busy": "2022-03-24T05:05:54.600862Z",
     "iopub.status.idle": "2022-03-24T05:06:19.449318Z",
     "shell.execute_reply": "2022-03-24T05:06:19.449560Z"
    },
    "papermill": {
     "duration": 24.865903,
     "end_time": "2022-03-24T05:06:19.449639",
     "exception": false,
     "start_time": "2022-03-24T05:05:54.583736",
     "status": "completed"
    },
    "tags": []
   },
   "outputs": [
    {
     "name": "stdout",
     "output_type": "stream",
     "text": [
      "{'ORACLE.run1_26', 'ORACLE.run1_20', 'ORACLE.run1_32', 'ORACLE.run1_38', 'ORACLE.run1_14', 'ORACLE.run1_8', 'ORACLE.run1_50', 'ORACLE.run1_44'}\n"
     ]
    },
    {
     "name": "stdout",
     "output_type": "stream",
     "text": [
      "{'ORACLE.run2_50', 'ORACLE.run2_32', 'ORACLE.run2_8', 'ORACLE.run2_26', 'ORACLE.run2_20', 'ORACLE.run2_38', 'ORACLE.run2_44', 'ORACLE.run2_14'}\n"
     ]
    },
    {
     "name": "stdout",
     "output_type": "stream",
     "text": [
      "tensor([[[ 6.7141e-04,  5.7985e-04, -4.0284e-03,  ..., -1.8311e-04,\n",
      "           3.0213e-03, -3.6622e-04],\n",
      "         [ 8.2400e-04,  1.1902e-03, -1.3428e-03,  ..., -3.4486e-03,\n",
      "          -1.8311e-03,  6.1037e-04]],\n",
      "\n",
      "        [[-3.1129e-03, -3.5096e-03,  1.3428e-03,  ..., -3.2350e-03,\n",
      "           5.1881e-04,  3.7233e-03],\n",
      "         [-3.3876e-03,  1.3428e-03, -2.4415e-03,  ..., -3.7538e-03,\n",
      "          -2.5941e-03, -1.8921e-03]],\n",
      "\n",
      "        [[ 1.2207e-04, -2.6246e-03,  1.3733e-03,  ...,  5.7985e-04,\n",
      "           1.2513e-03,  4.8830e-04],\n",
      "         [ 4.3947e-03, -1.9227e-03, -2.1363e-04,  ..., -1.5259e-04,\n",
      "          -7.3244e-04, -2.6856e-03]],\n",
      "\n",
      "        ...,\n",
      "\n",
      "        [[ 5.1576e-03, -2.8687e-03, -5.0661e-03,  ...,  3.6622e-04,\n",
      "          -4.7914e-03, -1.2818e-03],\n",
      "         [ 4.5473e-03, -1.6175e-03, -2.8382e-03,  ...,  4.6083e-03,\n",
      "           3.0213e-03,  1.0376e-03]],\n",
      "\n",
      "        [[ 3.1434e-03,  2.1363e-04, -7.0193e-04,  ..., -6.1647e-03,\n",
      "          -3.8453e-03, -2.1973e-03],\n",
      "         [-3.0519e-03,  1.4649e-03, -1.1292e-03,  ...,  1.3428e-03,\n",
      "           7.0193e-04,  2.5025e-03]],\n",
      "\n",
      "        [[ 5.4933e-04,  5.6154e-03,  2.4720e-03,  ..., -1.9837e-03,\n",
      "          -7.7822e-03, -3.1739e-03],\n",
      "         [ 1.6480e-03, -3.2960e-03, -3.0519e-03,  ..., -2.1668e-03,\n",
      "           9.1556e-05, -3.2960e-03]]])\n"
     ]
    }
   ],
   "source": [
    "from steves_utils.transforms import get_average_magnitude, get_average_power\n",
    "\n",
    "print(set([u for u,_ in val_original_source]))\n",
    "print(set([u for u,_ in val_original_target]))\n",
    "\n",
    "s_x, s_y, q_x, q_y, _ = next(iter(train_processed_source))\n",
    "print(s_x)\n",
    "\n",
    "# for ds in [\n",
    "#     train_processed_source,\n",
    "#     val_processed_source,\n",
    "#     test_processed_source,\n",
    "#     train_processed_target,\n",
    "#     val_processed_target,\n",
    "#     test_processed_target\n",
    "# ]:\n",
    "#     for s_x, s_y, q_x, q_y, _ in ds:\n",
    "#         for X in (s_x, q_x):\n",
    "#             for x in X:\n",
    "#                 assert np.isclose(get_average_magnitude(x.numpy()), 1.0)\n",
    "#                 assert np.isclose(get_average_power(x.numpy()), 1.0)\n",
    "                "
   ]
  },
  {
   "cell_type": "code",
   "execution_count": 21,
   "id": "bbdacba1",
   "metadata": {
    "execution": {
     "iopub.execute_input": "2022-03-24T05:06:19.482432Z",
     "iopub.status.busy": "2022-03-24T05:06:19.482179Z",
     "iopub.status.idle": "2022-03-24T05:06:19.548234Z",
     "shell.execute_reply": "2022-03-24T05:06:19.547809Z"
    },
    "papermill": {
     "duration": 0.083841,
     "end_time": "2022-03-24T05:06:19.548337",
     "exception": false,
     "start_time": "2022-03-24T05:06:19.464496",
     "status": "completed"
    },
    "tags": []
   },
   "outputs": [
    {
     "name": "stdout",
     "output_type": "stream",
     "text": [
      "(2, 256)\n"
     ]
    }
   ],
   "source": [
    "###################################\n",
    "# Build the model\n",
    "###################################\n",
    "# easfsl only wants a tuple for the shape\n",
    "model = Steves_Prototypical_Network(x_net, device=p.device, x_shape=tuple(p.x_shape))\n",
    "optimizer = Adam(params=model.parameters(), lr=p.lr)"
   ]
  },
  {
   "cell_type": "code",
   "execution_count": 22,
   "id": "22b39ac5",
   "metadata": {
    "execution": {
     "iopub.execute_input": "2022-03-24T05:06:19.585895Z",
     "iopub.status.busy": "2022-03-24T05:06:19.585645Z",
     "iopub.status.idle": "2022-03-24T07:08:10.421206Z",
     "shell.execute_reply": "2022-03-24T07:08:10.420972Z"
    },
    "papermill": {
     "duration": 7310.852817,
     "end_time": "2022-03-24T07:08:10.421265",
     "exception": false,
     "start_time": "2022-03-24T05:06:19.568448",
     "status": "completed"
    },
    "tags": []
   },
   "outputs": [
    {
     "name": "stdout",
     "output_type": "stream",
     "text": [
      "epoch: 1, [batch: 1 / 33600], examples_per_second: 9.9886, train_label_loss: 2.7101, \n"
     ]
    },
    {
     "name": "stdout",
     "output_type": "stream",
     "text": [
      "epoch: 1, [batch: 3360 / 33600], examples_per_second: 3212.5410, train_label_loss: 1.5916, \n"
     ]
    },
    {
     "name": "stdout",
     "output_type": "stream",
     "text": [
      "epoch: 1, [batch: 6720 / 33600], examples_per_second: 3207.2133, train_label_loss: 1.0724, \n"
     ]
    },
    {
     "name": "stdout",
     "output_type": "stream",
     "text": [
      "epoch: 1, [batch: 10080 / 33600], examples_per_second: 3212.6670, train_label_loss: 0.6538, \n"
     ]
    },
    {
     "name": "stdout",
     "output_type": "stream",
     "text": [
      "epoch: 1, [batch: 13440 / 33600], examples_per_second: 3196.0692, train_label_loss: 0.6508, \n"
     ]
    },
    {
     "name": "stdout",
     "output_type": "stream",
     "text": [
      "epoch: 1, [batch: 16800 / 33600], examples_per_second: 3203.6783, train_label_loss: 0.4461, \n"
     ]
    },
    {
     "name": "stdout",
     "output_type": "stream",
     "text": [
      "epoch: 1, [batch: 20160 / 33600], examples_per_second: 3207.0989, train_label_loss: 1.0826, \n"
     ]
    },
    {
     "name": "stdout",
     "output_type": "stream",
     "text": [
      "epoch: 1, [batch: 23520 / 33600], examples_per_second: 3194.5477, train_label_loss: 0.3722, \n"
     ]
    },
    {
     "name": "stdout",
     "output_type": "stream",
     "text": [
      "epoch: 1, [batch: 26880 / 33600], examples_per_second: 3201.4398, train_label_loss: 0.2960, \n"
     ]
    },
    {
     "name": "stdout",
     "output_type": "stream",
     "text": [
      "epoch: 1, [batch: 30240 / 33600], examples_per_second: 3208.8015, train_label_loss: 0.1619, \n"
     ]
    },
    {
     "name": "stdout",
     "output_type": "stream",
     "text": [
      "=============================================================\n",
      "epoch: 1, source_val_acc_label: 0.7518, target_val_acc_label: 0.7654, source_val_label_loss: 1.4940, target_val_label_loss: 1.6665, \n",
      "=============================================================\n"
     ]
    },
    {
     "name": "stdout",
     "output_type": "stream",
     "text": [
      "New best\n"
     ]
    },
    {
     "name": "stdout",
     "output_type": "stream",
     "text": [
      "epoch: 2, [batch: 1 / 33600], examples_per_second: 0.9666, train_label_loss: 0.2931, \n"
     ]
    },
    {
     "name": "stdout",
     "output_type": "stream",
     "text": [
      "epoch: 2, [batch: 3360 / 33600], examples_per_second: 3234.0685, train_label_loss: 0.5075, \n"
     ]
    },
    {
     "name": "stdout",
     "output_type": "stream",
     "text": [
      "epoch: 2, [batch: 6720 / 33600], examples_per_second: 3241.2919, train_label_loss: 0.4774, \n"
     ]
    },
    {
     "name": "stdout",
     "output_type": "stream",
     "text": [
      "epoch: 2, [batch: 10080 / 33600], examples_per_second: 3245.5632, train_label_loss: 0.7390, \n"
     ]
    },
    {
     "name": "stdout",
     "output_type": "stream",
     "text": [
      "epoch: 2, [batch: 13440 / 33600], examples_per_second: 3233.1417, train_label_loss: 0.5186, \n"
     ]
    },
    {
     "name": "stdout",
     "output_type": "stream",
     "text": [
      "epoch: 2, [batch: 16800 / 33600], examples_per_second: 3235.8747, train_label_loss: 0.3057, \n"
     ]
    },
    {
     "name": "stdout",
     "output_type": "stream",
     "text": [
      "epoch: 2, [batch: 20160 / 33600], examples_per_second: 3246.4942, train_label_loss: 0.4277, \n"
     ]
    },
    {
     "name": "stdout",
     "output_type": "stream",
     "text": [
      "epoch: 2, [batch: 23520 / 33600], examples_per_second: 3234.9503, train_label_loss: 0.1100, \n"
     ]
    },
    {
     "name": "stdout",
     "output_type": "stream",
     "text": [
      "epoch: 2, [batch: 26880 / 33600], examples_per_second: 3236.3400, train_label_loss: 0.1693, \n"
     ]
    },
    {
     "name": "stdout",
     "output_type": "stream",
     "text": [
      "epoch: 2, [batch: 30240 / 33600], examples_per_second: 3226.3083, train_label_loss: 0.3171, \n"
     ]
    },
    {
     "name": "stdout",
     "output_type": "stream",
     "text": [
      "=============================================================\n",
      "epoch: 2, source_val_acc_label: 0.8583, target_val_acc_label: 0.8652, source_val_label_loss: 0.3942, target_val_label_loss: 0.4565, \n",
      "=============================================================\n"
     ]
    },
    {
     "name": "stdout",
     "output_type": "stream",
     "text": [
      "New best\n"
     ]
    },
    {
     "name": "stdout",
     "output_type": "stream",
     "text": [
      "epoch: 3, [batch: 1 / 33600], examples_per_second: 0.9669, train_label_loss: 0.5778, \n"
     ]
    },
    {
     "name": "stdout",
     "output_type": "stream",
     "text": [
      "epoch: 3, [batch: 3360 / 33600], examples_per_second: 3229.2415, train_label_loss: 0.6487, \n"
     ]
    },
    {
     "name": "stdout",
     "output_type": "stream",
     "text": [
      "epoch: 3, [batch: 6720 / 33600], examples_per_second: 3228.8408, train_label_loss: 0.3736, \n"
     ]
    },
    {
     "name": "stdout",
     "output_type": "stream",
     "text": [
      "epoch: 3, [batch: 10080 / 33600], examples_per_second: 3240.9767, train_label_loss: 0.4549, \n"
     ]
    },
    {
     "name": "stdout",
     "output_type": "stream",
     "text": [
      "epoch: 3, [batch: 13440 / 33600], examples_per_second: 3221.5661, train_label_loss: 0.1657, \n"
     ]
    },
    {
     "name": "stdout",
     "output_type": "stream",
     "text": [
      "epoch: 3, [batch: 16800 / 33600], examples_per_second: 3230.3586, train_label_loss: 0.2338, \n"
     ]
    },
    {
     "name": "stdout",
     "output_type": "stream",
     "text": [
      "epoch: 3, [batch: 20160 / 33600], examples_per_second: 3243.8104, train_label_loss: 0.2960, \n"
     ]
    },
    {
     "name": "stdout",
     "output_type": "stream",
     "text": [
      "epoch: 3, [batch: 23520 / 33600], examples_per_second: 3229.4758, train_label_loss: 0.1015, \n"
     ]
    },
    {
     "name": "stdout",
     "output_type": "stream",
     "text": [
      "epoch: 3, [batch: 26880 / 33600], examples_per_second: 3221.1385, train_label_loss: 0.3558, \n"
     ]
    },
    {
     "name": "stdout",
     "output_type": "stream",
     "text": [
      "epoch: 3, [batch: 30240 / 33600], examples_per_second: 3244.9863, train_label_loss: 0.5202, \n"
     ]
    },
    {
     "name": "stdout",
     "output_type": "stream",
     "text": [
      "=============================================================\n",
      "epoch: 3, source_val_acc_label: 0.8639, target_val_acc_label: 0.8635, source_val_label_loss: 0.3705, target_val_label_loss: 0.4384, \n",
      "=============================================================\n"
     ]
    },
    {
     "name": "stdout",
     "output_type": "stream",
     "text": [
      "epoch: 4, [batch: 1 / 33600], examples_per_second: 0.9689, train_label_loss: 0.0880, \n"
     ]
    },
    {
     "name": "stdout",
     "output_type": "stream",
     "text": [
      "epoch: 4, [batch: 3360 / 33600], examples_per_second: 3232.3126, train_label_loss: 0.3009, \n"
     ]
    },
    {
     "name": "stdout",
     "output_type": "stream",
     "text": [
      "epoch: 4, [batch: 6720 / 33600], examples_per_second: 3230.7507, train_label_loss: 0.3828, \n"
     ]
    },
    {
     "name": "stdout",
     "output_type": "stream",
     "text": [
      "epoch: 4, [batch: 10080 / 33600], examples_per_second: 3234.9089, train_label_loss: 0.2719, \n"
     ]
    },
    {
     "name": "stdout",
     "output_type": "stream",
     "text": [
      "epoch: 4, [batch: 13440 / 33600], examples_per_second: 3223.5391, train_label_loss: 0.3974, \n"
     ]
    },
    {
     "name": "stdout",
     "output_type": "stream",
     "text": [
      "epoch: 4, [batch: 16800 / 33600], examples_per_second: 3238.9301, train_label_loss: 0.2250, \n"
     ]
    },
    {
     "name": "stdout",
     "output_type": "stream",
     "text": [
      "epoch: 4, [batch: 20160 / 33600], examples_per_second: 3237.4898, train_label_loss: 0.5355, \n"
     ]
    },
    {
     "name": "stdout",
     "output_type": "stream",
     "text": [
      "epoch: 4, [batch: 23520 / 33600], examples_per_second: 3222.0718, train_label_loss: 0.3190, \n"
     ]
    },
    {
     "name": "stdout",
     "output_type": "stream",
     "text": [
      "epoch: 4, [batch: 26880 / 33600], examples_per_second: 3232.6255, train_label_loss: 0.3469, \n"
     ]
    },
    {
     "name": "stdout",
     "output_type": "stream",
     "text": [
      "epoch: 4, [batch: 30240 / 33600], examples_per_second: 3227.8123, train_label_loss: 0.0620, \n"
     ]
    },
    {
     "name": "stdout",
     "output_type": "stream",
     "text": [
      "=============================================================\n",
      "epoch: 4, source_val_acc_label: 0.8756, target_val_acc_label: 0.8712, source_val_label_loss: 0.3389, target_val_label_loss: 0.4205, \n",
      "=============================================================\n"
     ]
    },
    {
     "name": "stdout",
     "output_type": "stream",
     "text": [
      "New best\n"
     ]
    },
    {
     "name": "stdout",
     "output_type": "stream",
     "text": [
      "epoch: 5, [batch: 1 / 33600], examples_per_second: 0.9726, train_label_loss: 0.1766, \n"
     ]
    },
    {
     "name": "stdout",
     "output_type": "stream",
     "text": [
      "epoch: 5, [batch: 3360 / 33600], examples_per_second: 3235.0203, train_label_loss: 0.1701, \n"
     ]
    },
    {
     "name": "stdout",
     "output_type": "stream",
     "text": [
      "epoch: 5, [batch: 6720 / 33600], examples_per_second: 3241.4056, train_label_loss: 0.1164, \n"
     ]
    },
    {
     "name": "stdout",
     "output_type": "stream",
     "text": [
      "epoch: 5, [batch: 10080 / 33600], examples_per_second: 3239.9866, train_label_loss: 0.2965, \n"
     ]
    },
    {
     "name": "stdout",
     "output_type": "stream",
     "text": [
      "epoch: 5, [batch: 13440 / 33600], examples_per_second: 3232.0942, train_label_loss: 0.1462, \n"
     ]
    },
    {
     "name": "stdout",
     "output_type": "stream",
     "text": [
      "epoch: 5, [batch: 16800 / 33600], examples_per_second: 3234.8426, train_label_loss: 0.1697, \n"
     ]
    },
    {
     "name": "stdout",
     "output_type": "stream",
     "text": [
      "epoch: 5, [batch: 20160 / 33600], examples_per_second: 3239.5805, train_label_loss: 0.1481, \n"
     ]
    },
    {
     "name": "stdout",
     "output_type": "stream",
     "text": [
      "epoch: 5, [batch: 23520 / 33600], examples_per_second: 3232.9641, train_label_loss: 0.2272, \n"
     ]
    },
    {
     "name": "stdout",
     "output_type": "stream",
     "text": [
      "epoch: 5, [batch: 26880 / 33600], examples_per_second: 3239.6347, train_label_loss: 0.2576, \n"
     ]
    },
    {
     "name": "stdout",
     "output_type": "stream",
     "text": [
      "epoch: 5, [batch: 30240 / 33600], examples_per_second: 3239.3506, train_label_loss: 0.2777, \n"
     ]
    },
    {
     "name": "stdout",
     "output_type": "stream",
     "text": [
      "=============================================================\n",
      "epoch: 5, source_val_acc_label: 0.8784, target_val_acc_label: 0.8696, source_val_label_loss: 0.3334, target_val_label_loss: 0.4313, \n",
      "=============================================================\n"
     ]
    },
    {
     "name": "stdout",
     "output_type": "stream",
     "text": [
      "epoch: 6, [batch: 1 / 33600], examples_per_second: 0.9717, train_label_loss: 0.2208, \n"
     ]
    },
    {
     "name": "stdout",
     "output_type": "stream",
     "text": [
      "epoch: 6, [batch: 3360 / 33600], examples_per_second: 3237.8773, train_label_loss: 0.2307, \n"
     ]
    },
    {
     "name": "stdout",
     "output_type": "stream",
     "text": [
      "epoch: 6, [batch: 6720 / 33600], examples_per_second: 3239.2375, train_label_loss: 0.3007, \n"
     ]
    },
    {
     "name": "stdout",
     "output_type": "stream",
     "text": [
      "epoch: 6, [batch: 10080 / 33600], examples_per_second: 3232.2303, train_label_loss: 0.4896, \n"
     ]
    },
    {
     "name": "stdout",
     "output_type": "stream",
     "text": [
      "epoch: 6, [batch: 13440 / 33600], examples_per_second: 3222.8566, train_label_loss: 0.1863, \n"
     ]
    },
    {
     "name": "stdout",
     "output_type": "stream",
     "text": [
      "epoch: 6, [batch: 16800 / 33600], examples_per_second: 3234.8548, train_label_loss: 0.1449, \n"
     ]
    },
    {
     "name": "stdout",
     "output_type": "stream",
     "text": [
      "epoch: 6, [batch: 20160 / 33600], examples_per_second: 3244.8209, train_label_loss: 0.2146, \n"
     ]
    },
    {
     "name": "stdout",
     "output_type": "stream",
     "text": [
      "epoch: 6, [batch: 23520 / 33600], examples_per_second: 3232.7969, train_label_loss: 0.1647, \n"
     ]
    },
    {
     "name": "stdout",
     "output_type": "stream",
     "text": [
      "epoch: 6, [batch: 26880 / 33600], examples_per_second: 3235.6372, train_label_loss: 0.4154, \n"
     ]
    },
    {
     "name": "stdout",
     "output_type": "stream",
     "text": [
      "epoch: 6, [batch: 30240 / 33600], examples_per_second: 3239.0074, train_label_loss: 0.1034, \n"
     ]
    },
    {
     "name": "stdout",
     "output_type": "stream",
     "text": [
      "=============================================================\n",
      "epoch: 6, source_val_acc_label: 0.8829, target_val_acc_label: 0.8680, source_val_label_loss: 0.3250, target_val_label_loss: 0.4420, \n",
      "=============================================================\n"
     ]
    },
    {
     "name": "stdout",
     "output_type": "stream",
     "text": [
      "epoch: 7, [batch: 1 / 33600], examples_per_second: 0.9736, train_label_loss: 0.0267, \n"
     ]
    },
    {
     "name": "stdout",
     "output_type": "stream",
     "text": [
      "epoch: 7, [batch: 3360 / 33600], examples_per_second: 3233.6598, train_label_loss: 0.4253, \n"
     ]
    },
    {
     "name": "stdout",
     "output_type": "stream",
     "text": [
      "epoch: 7, [batch: 6720 / 33600], examples_per_second: 3240.6922, train_label_loss: 0.2656, \n"
     ]
    },
    {
     "name": "stdout",
     "output_type": "stream",
     "text": [
      "epoch: 7, [batch: 10080 / 33600], examples_per_second: 3236.4676, train_label_loss: 0.0829, \n"
     ]
    },
    {
     "name": "stdout",
     "output_type": "stream",
     "text": [
      "epoch: 7, [batch: 13440 / 33600], examples_per_second: 3227.4165, train_label_loss: 0.2728, \n"
     ]
    },
    {
     "name": "stdout",
     "output_type": "stream",
     "text": [
      "epoch: 7, [batch: 16800 / 33600], examples_per_second: 3236.2507, train_label_loss: 0.3639, \n"
     ]
    },
    {
     "name": "stdout",
     "output_type": "stream",
     "text": [
      "epoch: 7, [batch: 20160 / 33600], examples_per_second: 3235.6727, train_label_loss: 0.0445, \n"
     ]
    },
    {
     "name": "stdout",
     "output_type": "stream",
     "text": [
      "epoch: 7, [batch: 23520 / 33600], examples_per_second: 3211.6911, train_label_loss: 0.0827, \n"
     ]
    },
    {
     "name": "stdout",
     "output_type": "stream",
     "text": [
      "epoch: 7, [batch: 26880 / 33600], examples_per_second: 3230.5545, train_label_loss: 0.2701, \n"
     ]
    },
    {
     "name": "stdout",
     "output_type": "stream",
     "text": [
      "epoch: 7, [batch: 30240 / 33600], examples_per_second: 3229.6402, train_label_loss: 0.1958, \n"
     ]
    },
    {
     "name": "stdout",
     "output_type": "stream",
     "text": [
      "=============================================================\n",
      "epoch: 7, source_val_acc_label: 0.8838, target_val_acc_label: 0.8685, source_val_label_loss: 0.3224, target_val_label_loss: 0.4422, \n",
      "=============================================================\n"
     ]
    },
    {
     "name": "stdout",
     "output_type": "stream",
     "text": [
      "epoch: 8, [batch: 1 / 33600], examples_per_second: 0.9706, train_label_loss: 0.2432, \n"
     ]
    },
    {
     "name": "stdout",
     "output_type": "stream",
     "text": [
      "epoch: 8, [batch: 3360 / 33600], examples_per_second: 3236.8469, train_label_loss: 0.2656, \n"
     ]
    },
    {
     "name": "stdout",
     "output_type": "stream",
     "text": [
      "epoch: 8, [batch: 6720 / 33600], examples_per_second: 3242.3122, train_label_loss: 0.1650, \n"
     ]
    },
    {
     "name": "stdout",
     "output_type": "stream",
     "text": [
      "epoch: 8, [batch: 10080 / 33600], examples_per_second: 3239.4235, train_label_loss: 0.1685, \n"
     ]
    },
    {
     "name": "stdout",
     "output_type": "stream",
     "text": [
      "epoch: 8, [batch: 13440 / 33600], examples_per_second: 3218.4834, train_label_loss: 0.1209, \n"
     ]
    },
    {
     "name": "stdout",
     "output_type": "stream",
     "text": [
      "epoch: 8, [batch: 16800 / 33600], examples_per_second: 3223.9534, train_label_loss: 0.1440, \n"
     ]
    },
    {
     "name": "stdout",
     "output_type": "stream",
     "text": [
      "epoch: 8, [batch: 20160 / 33600], examples_per_second: 3232.3930, train_label_loss: 0.0758, \n"
     ]
    },
    {
     "name": "stdout",
     "output_type": "stream",
     "text": [
      "epoch: 8, [batch: 23520 / 33600], examples_per_second: 3221.3224, train_label_loss: 0.2963, \n"
     ]
    },
    {
     "name": "stdout",
     "output_type": "stream",
     "text": [
      "epoch: 8, [batch: 26880 / 33600], examples_per_second: 3233.1934, train_label_loss: 0.1190, \n"
     ]
    },
    {
     "name": "stdout",
     "output_type": "stream",
     "text": [
      "epoch: 8, [batch: 30240 / 33600], examples_per_second: 3233.3931, train_label_loss: 0.1150, \n"
     ]
    },
    {
     "name": "stdout",
     "output_type": "stream",
     "text": [
      "=============================================================\n",
      "epoch: 8, source_val_acc_label: 0.8853, target_val_acc_label: 0.8648, source_val_label_loss: 0.3250, target_val_label_loss: 0.4626, \n",
      "=============================================================\n"
     ]
    },
    {
     "name": "stdout",
     "output_type": "stream",
     "text": [
      "Patience (3) exhausted\n"
     ]
    }
   ],
   "source": [
    "###################################\n",
    "# train\n",
    "###################################\n",
    "jig = PTN_Train_Eval_Test_Jig(model, p.BEST_MODEL_PATH, p.device)\n",
    "\n",
    "jig.train(\n",
    "    train_iterable=datasets.source.processed.train,\n",
    "    source_val_iterable=datasets.source.processed.val,\n",
    "    target_val_iterable=datasets.target.processed.val,\n",
    "    num_epochs=p.n_epoch,\n",
    "    num_logs_per_epoch=p.NUM_LOGS_PER_EPOCH,\n",
    "    patience=p.patience,\n",
    "    optimizer=optimizer,\n",
    "    criteria_for_best=p.criteria_for_best,\n",
    ")"
   ]
  },
  {
   "cell_type": "code",
   "execution_count": 23,
   "id": "31e8fabf",
   "metadata": {
    "execution": {
     "iopub.execute_input": "2022-03-24T07:08:10.485823Z",
     "iopub.status.busy": "2022-03-24T07:08:10.485322Z",
     "iopub.status.idle": "2022-03-24T07:08:10.499843Z",
     "shell.execute_reply": "2022-03-24T07:08:10.500239Z"
    },
    "papermill": {
     "duration": 0.048352,
     "end_time": "2022-03-24T07:08:10.500377",
     "exception": false,
     "start_time": "2022-03-24T07:08:10.452025",
     "status": "completed"
    },
    "tags": []
   },
   "outputs": [],
   "source": [
    "total_experiment_time_secs = time.time() - start_time_secs"
   ]
  },
  {
   "cell_type": "code",
   "execution_count": 24,
   "id": "87b9595b",
   "metadata": {
    "execution": {
     "iopub.execute_input": "2022-03-24T07:08:10.571735Z",
     "iopub.status.busy": "2022-03-24T07:08:10.571470Z",
     "iopub.status.idle": "2022-03-24T07:16:13.716006Z",
     "shell.execute_reply": "2022-03-24T07:16:13.716221Z"
    },
    "papermill": {
     "duration": 483.180907,
     "end_time": "2022-03-24T07:16:13.716307",
     "exception": false,
     "start_time": "2022-03-24T07:08:10.535400",
     "status": "completed"
    },
    "tags": []
   },
   "outputs": [],
   "source": [
    "###################################\n",
    "# Evaluate the model\n",
    "###################################\n",
    "source_test_label_accuracy, source_test_label_loss = jig.test(datasets.source.processed.test)\n",
    "target_test_label_accuracy, target_test_label_loss = jig.test(datasets.target.processed.test)\n",
    "\n",
    "source_val_label_accuracy, source_val_label_loss = jig.test(datasets.source.processed.val)\n",
    "target_val_label_accuracy, target_val_label_loss = jig.test(datasets.target.processed.val)\n",
    "\n",
    "history = jig.get_history()\n",
    "\n",
    "total_epochs_trained = len(history[\"epoch_indices\"])\n",
    "\n",
    "val_dl = Iterable_Aggregator((datasets.source.original.val,datasets.target.original.val))\n",
    "\n",
    "confusion = ptn_confusion_by_domain_over_dataloader(model, p.device, val_dl)\n",
    "per_domain_accuracy = per_domain_accuracy_from_confusion(confusion)\n",
    "\n",
    "# Add a key to per_domain_accuracy for if it was a source domain\n",
    "for domain, accuracy in per_domain_accuracy.items():\n",
    "    per_domain_accuracy[domain] = {\n",
    "        \"accuracy\": accuracy,\n",
    "        \"source?\": domain in p.domains_source\n",
    "    }\n",
    "\n",
    "# Do an independent accuracy assesment JUST TO BE SURE!\n",
    "# _source_test_label_accuracy = independent_accuracy_assesment(model, datasets.source.processed.test, p.device)\n",
    "# _target_test_label_accuracy = independent_accuracy_assesment(model, datasets.target.processed.test, p.device)\n",
    "# _source_val_label_accuracy = independent_accuracy_assesment(model, datasets.source.processed.val, p.device)\n",
    "# _target_val_label_accuracy = independent_accuracy_assesment(model, datasets.target.processed.val, p.device)\n",
    "\n",
    "# assert(_source_test_label_accuracy == source_test_label_accuracy)\n",
    "# assert(_target_test_label_accuracy == target_test_label_accuracy)\n",
    "# assert(_source_val_label_accuracy == source_val_label_accuracy)\n",
    "# assert(_target_val_label_accuracy == target_val_label_accuracy)\n",
    "\n",
    "experiment = {\n",
    "    \"experiment_name\": p.experiment_name,\n",
    "    \"parameters\": dict(p),\n",
    "    \"results\": {\n",
    "        \"source_test_label_accuracy\": source_test_label_accuracy,\n",
    "        \"source_test_label_loss\": source_test_label_loss,\n",
    "        \"target_test_label_accuracy\": target_test_label_accuracy,\n",
    "        \"target_test_label_loss\": target_test_label_loss,\n",
    "        \"source_val_label_accuracy\": source_val_label_accuracy,\n",
    "        \"source_val_label_loss\": source_val_label_loss,\n",
    "        \"target_val_label_accuracy\": target_val_label_accuracy,\n",
    "        \"target_val_label_loss\": target_val_label_loss,\n",
    "        \"total_epochs_trained\": total_epochs_trained,\n",
    "        \"total_experiment_time_secs\": total_experiment_time_secs,\n",
    "        \"confusion\": confusion,\n",
    "        \"per_domain_accuracy\": per_domain_accuracy,\n",
    "    },\n",
    "    \"history\": history,\n",
    "    \"dataset_metrics\": get_dataset_metrics(datasets, \"ptn\"),\n",
    "}"
   ]
  },
  {
   "cell_type": "code",
   "execution_count": 25,
   "id": "54a21829",
   "metadata": {
    "execution": {
     "iopub.execute_input": "2022-03-24T07:16:13.792921Z",
     "iopub.status.busy": "2022-03-24T07:16:13.792665Z",
     "iopub.status.idle": "2022-03-24T07:16:13.923035Z",
     "shell.execute_reply": "2022-03-24T07:16:13.923455Z"
    },
    "papermill": {
     "duration": 0.173668,
     "end_time": "2022-03-24T07:16:13.923584",
     "exception": false,
     "start_time": "2022-03-24T07:16:13.749916",
     "status": "completed"
    },
    "tags": []
   },
   "outputs": [
    {
     "data": {
      "image/png": "[encoded data removed]",
      "text/plain": [
       "<Figure size 1080x504 with 1 Axes>"
      ]
     },
     "metadata": {
      "needs_background": "light"
     },
     "output_type": "display_data"
    }
   ],
   "source": [
    "ax = get_loss_curve(experiment)\n",
    "plt.show()"
   ]
  },
  {
   "cell_type": "code",
   "execution_count": 26,
   "id": "fd8a0f60",
   "metadata": {
    "execution": {
     "iopub.execute_input": "2022-03-24T07:16:13.994261Z",
     "iopub.status.busy": "2022-03-24T07:16:13.993695Z",
     "iopub.status.idle": "2022-03-24T07:16:14.131078Z",
     "shell.execute_reply": "2022-03-24T07:16:14.131303Z"
    },
    "papermill": {
     "duration": 0.170921,
     "end_time": "2022-03-24T07:16:14.131382",
     "exception": false,
     "start_time": "2022-03-24T07:16:13.960461",
     "status": "completed"
    },
    "tags": []
   },
   "outputs": [
    {
     "data": {
      "text/plain": [
       "<AxesSubplot:title={'center':'Results'}>"
      ]
     },
     "execution_count": 26,
     "metadata": {},
     "output_type": "execute_result"
    },
    {
     "data": {
      "image/png": "[encoded data removed]",
      "text/plain": [
       "<Figure size 1080x504 with 1 Axes>"
      ]
     },
     "metadata": {
      "needs_background": "light"
     },
     "output_type": "display_data"
    }
   ],
   "source": [
    "get_results_table(experiment)"
   ]
  },
  {
   "cell_type": "code",
   "execution_count": 27,
   "id": "cf8dc689",
   "metadata": {
    "execution": {
     "iopub.execute_input": "2022-03-24T07:16:14.200072Z",
     "iopub.status.busy": "2022-03-24T07:16:14.199802Z",
     "iopub.status.idle": "2022-03-24T07:16:14.360313Z",
     "shell.execute_reply": "2022-03-24T07:16:14.360727Z"
    },
    "papermill": {
     "duration": 0.195442,
     "end_time": "2022-03-24T07:16:14.360858",
     "exception": false,
     "start_time": "2022-03-24T07:16:14.165416",
     "status": "completed"
    },
    "tags": []
   },
   "outputs": [
    {
     "data": {
      "text/plain": [
       "<AxesSubplot:title={'center':'Per Domain Validation Accuracy'}, xlabel='domain'>"
      ]
     },
     "execution_count": 27,
     "metadata": {},
     "output_type": "execute_result"
    },
    {
     "data": {
      "image/png": "[encoded data removed]",
      "text/plain": [
       "<Figure size 1080x504 with 1 Axes>"
      ]
     },
     "metadata": {
      "needs_background": "light"
     },
     "output_type": "display_data"
    }
   ],
   "source": [
    "get_domain_accuracies(experiment)"
   ]
  },
  {
   "cell_type": "code",
   "execution_count": 28,
   "id": "a74ae082",
   "metadata": {
    "execution": {
     "iopub.execute_input": "2022-03-24T07:16:14.437680Z",
     "iopub.status.busy": "2022-03-24T07:16:14.437146Z",
     "iopub.status.idle": "2022-03-24T07:16:14.453668Z",
     "shell.execute_reply": "2022-03-24T07:16:14.454098Z"
    },
    "papermill": {
     "duration": 0.053819,
     "end_time": "2022-03-24T07:16:14.454225",
     "exception": false,
     "start_time": "2022-03-24T07:16:14.400406",
     "status": "completed"
    },
    "tags": []
   },
   "outputs": [
    {
     "name": "stdout",
     "output_type": "stream",
     "text": [
      "Source Test Label Accuracy: 0.8770052083333333 Target Test Label Accuracy: 0.8692903645833333\n",
      "Source Val Label Accuracy: 0.87564453125 Target Val Label Accuracy: 0.87123046875\n"
     ]
    }
   ],
   "source": [
    "print(\"Source Test Label Accuracy:\", experiment[\"results\"][\"source_test_label_accuracy\"], \"Target Test Label Accuracy:\", experiment[\"results\"][\"target_test_label_accuracy\"])\n",
    "print(\"Source Val Label Accuracy:\", experiment[\"results\"][\"source_val_label_accuracy\"], \"Target Val Label Accuracy:\", experiment[\"results\"][\"target_val_label_accuracy\"])"
   ]
  },
  {
   "cell_type": "code",
   "execution_count": 29,
   "id": "dacca602",
   "metadata": {
    "execution": {
     "iopub.execute_input": "2022-03-24T07:16:14.527400Z",
     "iopub.status.busy": "2022-03-24T07:16:14.527141Z",
     "iopub.status.idle": "2022-03-24T07:16:14.541672Z",
     "shell.execute_reply": "2022-03-24T07:16:14.542109Z"
    },
    "papermill": {
     "duration": 0.050441,
     "end_time": "2022-03-24T07:16:14.542236",
     "exception": false,
     "start_time": "2022-03-24T07:16:14.491795",
     "status": "completed"
    },
    "tags": [
     "experiment_json"
    ]
   },
   "outputs": [
    {
     "data": {
      "text/plain": [
       "'{\"experiment_name\": \"tl_1v2:oracle.run1-oracle.run2\", \"parameters\": {\"experiment_name\": \"tl_1v2:oracle.run1-oracle.run2\", \"device\": \"cuda\", \"lr\": 0.0001, \"n_shot\": 3, \"n_query\": 2, \"train_k_factor\": 3, \"val_k_factor\": 2, \"test_k_factor\": 2, \"torch_default_dtype\": \"torch.float32\", \"n_epoch\": 50, \"patience\": 3, \"criteria_for_best\": \"target_accuracy\", \"x_net\": [{\"class\": \"nnReshape\", \"kargs\": {\"shape\": [-1, 1, 2, 256]}}, {\"class\": \"Conv2d\", \"kargs\": {\"in_channels\": 1, \"out_channels\": 256, \"kernel_size\": [1, 7], \"bias\": false, \"padding\": [0, 3]}}, {\"class\": \"ReLU\", \"kargs\": {\"inplace\": true}}, {\"class\": \"BatchNorm2d\", \"kargs\": {\"num_features\": 256}}, {\"class\": \"Conv2d\", \"kargs\": {\"in_channels\": 256, \"out_channels\": 80, \"kernel_size\": [2, 7], \"bias\": true, \"padding\": [0, 3]}}, {\"class\": \"ReLU\", \"kargs\": {\"inplace\": true}}, {\"class\": \"BatchNorm2d\", \"kargs\": {\"num_features\": 80}}, {\"class\": \"Flatten\", \"kargs\": {}}, {\"class\": \"Linear\", \"kargs\": {\"in_features\": 20480, \"out_features\": 256}}, {\"class\": \"ReLU\", \"kargs\": {\"inplace\": true}}, {\"class\": \"BatchNorm1d\", \"kargs\": {\"num_features\": 256}}, {\"class\": \"Linear\", \"kargs\": {\"in_features\": 256, \"out_features\": 256}}], \"NUM_LOGS_PER_EPOCH\": 10, \"BEST_MODEL_PATH\": \"./best_model.pth\", \"n_way\": 16, \"datasets\": [{\"labels\": [\"3123D52\", \"3123D65\", \"3123D79\", \"3123D80\", \"3123D54\", \"3123D70\", \"3123D7B\", \"3123D89\", \"3123D58\", \"3123D76\", \"3123D7D\", \"3123EFE\", \"3123D64\", \"3123D78\", \"3123D7E\", \"3124E4A\"], \"domains\": [32, 38, 8, 44, 14, 50, 20, 26], \"num_examples_per_domain_per_label\": 10000, \"pickle_path\": \"/mnt/wd500GB/CSC500/csc500-main/datasets/oracle.Run1_10kExamples_stratified_ds.2022A.pkl\", \"source_or_target_dataset\": \"source\", \"x_transforms\": [], \"episode_transforms\": [], \"domain_prefix\": \"ORACLE.run1_\"}, {\"labels\": [\"3123D52\", \"3123D65\", \"3123D79\", \"3123D80\", \"3123D54\", \"3123D70\", \"3123D7B\", \"3123D89\", \"3123D58\", \"3123D76\", \"3123D7D\", \"3123EFE\", \"3123D64\", \"3123D78\", \"3123D7E\", \"3124E4A\"], \"domains\": [32, 38, 8, 44, 14, 50, 20, 26], \"num_examples_per_domain_per_label\": 10000, \"pickle_path\": \"/mnt/wd500GB/CSC500/csc500-main/datasets/oracle.Run2_10kExamples_stratified_ds.2022A.pkl\", \"source_or_target_dataset\": \"target\", \"x_transforms\": [], \"episode_transforms\": [], \"domain_prefix\": \"ORACLE.run2_\"}], \"dataset_seed\": 420, \"seed\": 420, \"x_shape\": [2, 256], \"domains_source\": [\"ORACLE.run1_32\", \"ORACLE.run1_38\", \"ORACLE.run1_8\", \"ORACLE.run1_44\", \"ORACLE.run1_14\", \"ORACLE.run1_50\", \"ORACLE.run1_20\", \"ORACLE.run1_26\"], \"domains_target\": [\"ORACLE.run2_32\", \"ORACLE.run2_38\", \"ORACLE.run2_8\", \"ORACLE.run2_44\", \"ORACLE.run2_14\", \"ORACLE.run2_50\", \"ORACLE.run2_20\", \"ORACLE.run2_26\"]}, \"results\": {\"source_test_label_accuracy\": 0.8770052083333333, \"source_test_label_loss\": 0.3388915956020355, \"target_test_label_accuracy\": 0.8692903645833333, \"target_test_label_loss\": 0.4198235869407654, \"source_val_label_accuracy\": 0.87564453125, \"source_val_label_loss\": 0.33890804648399353, \"target_val_label_accuracy\": 0.87123046875, \"target_val_label_loss\": 0.4205116033554077, \"total_epochs_trained\": 8, \"total_experiment_time_secs\": 7354.397889852524, \"confusion\": {\"ORACLE.run1_14\": {\"15\": {\"15\": 1200}, \"5\": {\"5\": 1102, \"2\": 77, \"7\": 8, \"4\": 8, \"3\": 5}, \"7\": {\"7\": 1189, \"5\": 11}, \"4\": {\"4\": 1170, \"2\": 10, \"5\": 20}, \"10\": {\"10\": 1199, \"0\": 1}, \"11\": {\"11\": 1200}, \"12\": {\"12\": 1200}, \"0\": {\"0\": 1158, \"3\": 35, \"10\": 5, \"14\": 2}, \"14\": {\"14\": 936, \"13\": 119, \"2\": 43, \"6\": 70, \"3\": 32}, \"8\": {\"8\": 1200}, \"13\": {\"14\": 285, \"6\": 486, \"2\": 76, \"13\": 351, \"3\": 1, \"4\": 1}, \"6\": {\"13\": 256, \"6\": 811, \"14\": 98, \"2\": 35}, \"1\": {\"1\": 1200}, \"3\": {\"3\": 1149, \"14\": 28, \"6\": 3, \"2\": 6, \"0\": 14}, \"9\": {\"9\": 1200}, \"2\": {\"2\": 783, \"5\": 145, \"14\": 129, \"4\": 41, \"13\": 43, \"6\": 39, \"3\": 19, \"7\": 1}}, \"ORACLE.run1_20\": {\"4\": {\"4\": 1131, \"10\": 18, \"12\": 32, \"7\": 10, \"2\": 8, \"6\": 1}, \"10\": {\"10\": 1190, \"4\": 10}, \"15\": {\"15\": 991, \"12\": 103, \"1\": 84, \"2\": 9, \"13\": 3, \"5\": 4, \"9\": 6}, \"0\": {\"0\": 1158, \"3\": 14, \"5\": 21, \"8\": 7}, \"6\": {\"6\": 1194, \"7\": 5, \"14\": 1}, \"3\": {\"5\": 131, \"3\": 791, \"7\": 6, \"9\": 160, \"8\": 75, \"1\": 24, \"0\": 13}, \"7\": {\"7\": 1007, \"2\": 107, \"9\": 59, \"12\": 5, \"6\": 14, \"4\": 7, \"3\": 1}, \"2\": {\"7\": 106, \"2\": 886, \"12\": 159, \"15\": 7, \"9\": 25, \"13\": 14, \"4\": 3}, \"8\": {\"8\": 1129, \"3\": 36, \"14\": 34, \"0\": 1}, \"11\": {\"11\": 1200}, \"14\": {\"14\": 1158, \"8\": 42}, \"12\": {\"2\": 149, \"12\": 948, \"15\": 72, \"4\": 14, \"13\": 7, \"7\": 5, \"9\": 3, \"1\": 2}, \"13\": {\"13\": 1163, \"2\": 26, \"12\": 8, \"15\": 3}, \"9\": {\"9\": 942, \"2\": 17, \"12\": 11, \"1\": 47, \"3\": 88, \"15\": 2, \"7\": 70, \"5\": 21, \"8\": 2}, \"5\": {\"1\": 269, \"5\": 816, \"3\": 101, \"9\": 13, \"12\": 1}, \"1\": {\"1\": 873, \"9\": 38, \"5\": 250, \"15\": 21, \"3\": 13, \"12\": 5}}, \"ORACLE.run1_50\": {\"5\": {\"5\": 554, \"6\": 237, \"7\": 286, \"13\": 50, \"1\": 7, \"4\": 61, \"15\": 5}, \"12\": {\"12\": 1134, \"9\": 52, \"11\": 14}, \"14\": {\"14\": 1200}, \"4\": {\"7\": 88, \"4\": 1014, \"15\": 41, \"5\": 39, \"6\": 18}, \"13\": {\"13\": 1194, \"5\": 1, \"1\": 5}, \"10\": {\"10\": 1191, \"0\": 3, \"8\": 6}, \"9\": {\"9\": 1040, \"11\": 90, \"12\": 70}, \"15\": {\"15\": 1148, \"6\": 37, \"4\": 4, \"11\": 9, \"5\": 1, \"9\": 1}, \"6\": {\"6\": 1062, \"5\": 87, \"15\": 50, \"4\": 1}, \"2\": {\"2\": 1166, \"0\": 34}, \"0\": {\"0\": 1145, \"2\": 49, \"10\": 6}, \"11\": {\"9\": 31, \"11\": 1133, \"12\": 24, \"15\": 12}, \"3\": {\"3\": 1200}, \"8\": {\"8\": 1200}, \"7\": {\"7\": 1101, \"5\": 91, \"4\": 8}, \"1\": {\"1\": 1189, \"13\": 8, \"11\": 1, \"10\": 2}}, \"ORACLE.run1_26\": {\"7\": {\"7\": 939, \"2\": 86, \"3\": 49, \"8\": 109, \"9\": 17}, \"6\": {\"6\": 1048, \"15\": 73, \"10\": 45, \"5\": 23, \"14\": 3, \"1\": 8}, \"14\": {\"14\": 873, \"1\": 62, \"10\": 198, \"0\": 67}, \"15\": {\"15\": 816, \"5\": 228, \"10\": 40, \"6\": 97, \"1\": 8, \"14\": 7, \"0\": 3, \"2\": 1}, \"5\": {\"15\": 165, \"5\": 1018, \"6\": 16, \"1\": 1}, \"10\": {\"14\": 177, \"10\": 850, \"0\": 100, \"6\": 44, \"15\": 24, \"1\": 5}, \"4\": {\"4\": 1192, \"3\": 8}, \"11\": {\"11\": 1200}, \"13\": {\"13\": 1073, \"9\": 81, \"2\": 30, \"3\": 15, \"4\": 1}, \"2\": {\"2\": 680, \"8\": 82, \"3\": 141, \"7\": 207, \"9\": 64, \"0\": 18, \"13\": 6, \"14\": 2}, \"0\": {\"8\": 44, \"0\": 866, \"14\": 91, \"10\": 191, \"2\": 5, \"15\": 2, \"7\": 1}, \"12\": {\"12\": 1200}, \"3\": {\"3\": 1101, \"7\": 56, \"2\": 40, \"4\": 3}, \"9\": {\"9\": 910, \"8\": 218, \"7\": 16, \"13\": 29, \"2\": 26, \"0\": 1}, \"8\": {\"9\": 179, \"8\": 825, \"7\": 168, \"2\": 19, \"0\": 9}, \"1\": {\"1\": 1042, \"14\": 115, \"10\": 24, \"6\": 14, \"15\": 4, \"5\": 1}}, \"ORACLE.run1_32\": {\"7\": {\"7\": 856, \"5\": 180, \"14\": 101, \"0\": 55, \"8\": 8}, \"2\": {\"2\": 1104, \"4\": 96}, \"5\": {\"5\": 698, \"8\": 135, \"0\": 88, \"7\": 235, \"14\": 44}, \"6\": {\"6\": 1200}, \"13\": {\"13\": 969, \"3\": 101, \"4\": 114, \"11\": 16}, \"4\": {\"4\": 1049, \"2\": 133, \"13\": 18}, \"3\": {\"3\": 1168, \"13\": 32}, \"0\": {\"0\": 971, \"5\": 46, \"7\": 78, \"8\": 86, \"14\": 19}, \"9\": {\"9\": 1186, \"12\": 13, \"4\": 1}, \"12\": {\"12\": 1200}, \"8\": {\"8\": 1026, \"0\": 97, \"5\": 60, \"13\": 1, \"7\": 6, \"14\": 9, \"4\": 1}, \"14\": {\"7\": 290, \"14\": 784, \"0\": 48, \"5\": 22, \"8\": 20, \"2\": 28, \"4\": 8}, \"15\": {\"15\": 1190, \"8\": 10}, \"11\": {\"11\": 1199, \"13\": 1}, \"10\": {\"10\": 1200}, \"1\": {\"1\": 1200}}, \"ORACLE.run1_44\": {\"11\": {\"11\": 1200}, \"7\": {\"7\": 1029, \"9\": 161, \"2\": 1, \"10\": 4, \"6\": 5}, \"6\": {\"6\": 1010, \"9\": 54, \"13\": 128, \"7\": 8}, \"12\": {\"12\": 1184, \"3\": 16}, \"4\": {\"14\": 370, \"4\": 819, \"15\": 9, \"9\": 1, \"5\": 1}, \"13\": {\"13\": 1007, \"6\": 171, \"9\": 16, \"11\": 6}, \"8\": {\"8\": 905, \"0\": 237, \"15\": 38, \"5\": 20}, \"5\": {\"5\": 1104, \"15\": 53, \"14\": 35, \"8\": 7, \"0\": 1}, \"14\": {\"4\": 220, \"15\": 47, \"14\": 897, \"5\": 36}, \"3\": {\"3\": 1182, \"12\": 18}, \"10\": {\"10\": 1105, \"2\": 26, \"1\": 50, \"7\": 19}, \"1\": {\"1\": 1133, \"2\": 63, \"10\": 4}, \"2\": {\"2\": 1152, \"1\": 34, \"7\": 4, \"10\": 9, \"9\": 1}, \"15\": {\"15\": 1041, \"5\": 44, \"0\": 8, \"14\": 75, \"8\": 28, \"4\": 4}, \"9\": {\"9\": 624, \"6\": 175, \"7\": 309, \"13\": 92}, \"0\": {\"0\": 1066, \"8\": 133, \"15\": 1}}, \"ORACLE.run1_8\": {\"10\": {\"10\": 1010, \"13\": 125, \"4\": 4, \"1\": 25, \"5\": 34, \"6\": 2}, \"6\": {\"6\": 949, \"13\": 19, \"7\": 220, \"4\": 7, \"11\": 1, \"10\": 3, \"8\": 1}, \"13\": {\"13\": 1004, \"10\": 137, \"6\": 18, \"5\": 1, \"7\": 40}, \"3\": {\"3\": 1196, \"2\": 4}, \"9\": {\"9\": 1200}, \"1\": {\"11\": 193, \"1\": 979, \"10\": 12, \"5\": 12, \"4\": 2, \"6\": 2}, \"5\": {\"5\": 1058, \"10\": 78, \"1\": 49, \"13\": 2, \"11\": 10, \"14\": 3}, \"11\": {\"1\": 399, \"11\": 760, \"6\": 6, \"8\": 4, \"5\": 6, \"4\": 8, \"14\": 17}, \"4\": {\"4\": 1165, \"1\": 2, \"14\": 15, \"11\": 2, \"10\": 1, \"6\": 13, \"8\": 2}, \"14\": {\"14\": 1113, \"4\": 77, \"1\": 1, \"11\": 9}, \"12\": {\"12\": 867, \"15\": 329, \"2\": 4}, \"7\": {\"7\": 1050, \"6\": 144, \"13\": 6}, \"0\": {\"0\": 1200}, \"15\": {\"15\": 1036, \"12\": 153, \"2\": 11}, \"2\": {\"2\": 926, \"3\": 178, \"12\": 67, \"15\": 29}, \"8\": {\"8\": 1192, \"6\": 6, \"7\": 1, \"11\": 1}}, \"ORACLE.run1_38\": {\"4\": {\"4\": 1195, \"10\": 5}, \"7\": {\"7\": 1185, \"5\": 2, \"9\": 1, \"0\": 11, \"8\": 1}, \"12\": {\"12\": 1198, \"14\": 2}, \"10\": {\"10\": 1113, \"0\": 35, \"4\": 4, \"13\": 47, \"14\": 1}, \"0\": {\"0\": 920, \"7\": 123, \"10\": 94, \"3\": 36, \"13\": 22, \"9\": 2, \"8\": 2, \"4\": 1}, \"1\": {\"1\": 1200}, \"5\": {\"8\": 386, \"9\": 71, \"5\": 599, \"15\": 43, \"7\": 94, \"0\": 4, \"2\": 1, \"13\": 2}, \"15\": {\"5\": 20, \"15\": 1153, \"1\": 11, \"8\": 15, \"2\": 1}, \"9\": {\"9\": 1182, \"5\": 13, \"8\": 3, \"7\": 2}, \"11\": {\"11\": 1200}, \"14\": {\"14\": 1110, \"2\": 81, \"13\": 7, \"10\": 2}, \"6\": {\"6\": 1200}, \"8\": {\"8\": 685, \"5\": 405, \"7\": 72, \"15\": 9, \"0\": 16, \"13\": 11, \"12\": 2}, \"3\": {\"3\": 1200}, \"2\": {\"2\": 1137, \"14\": 63}, \"13\": {\"13\": 1130, \"0\": 5, \"10\": 63, \"2\": 2}}, \"ORACLE.run2_14\": {\"15\": {\"15\": 1200}, \"5\": {\"5\": 1086, \"4\": 7, \"2\": 104, \"14\": 3}, \"7\": {\"7\": 1199, \"5\": 1}, \"4\": {\"4\": 1194, \"2\": 4, \"5\": 2}, \"10\": {\"14\": 8, \"10\": 1050, \"0\": 139, \"3\": 2, \"12\": 1}, \"11\": {\"11\": 1200}, \"12\": {\"11\": 45, \"12\": 581, \"9\": 362, \"10\": 116, \"14\": 2, \"0\": 50, \"1\": 17, \"15\": 19, \"8\": 5, \"3\": 2, \"4\": 1}, \"0\": {\"0\": 1180, \"10\": 18, \"4\": 1, \"14\": 1}, \"14\": {\"2\": 187, \"6\": 59, \"14\": 909, \"3\": 27, \"5\": 5, \"13\": 12, \"10\": 1}, \"8\": {\"8\": 1200}, \"13\": {\"6\": 341, \"13\": 851, \"2\": 4, \"14\": 4}, \"6\": {\"6\": 853, \"13\": 319, \"2\": 7, \"14\": 20, \"3\": 1}, \"1\": {\"1\": 1200}, \"3\": {\"3\": 1168, \"14\": 8, \"2\": 14, \"5\": 4, \"6\": 6}, \"9\": {\"9\": 1199, \"12\": 1}, \"2\": {\"2\": 612, \"14\": 213, \"13\": 26, \"3\": 57, \"5\": 256, \"6\": 22, \"4\": 13, \"7\": 1}}, \"ORACLE.run2_20\": {\"4\": {\"4\": 1126, \"5\": 8, \"3\": 37, \"15\": 5, \"9\": 15, \"7\": 4, \"2\": 3, \"10\": 1, \"12\": 1}, \"10\": {\"6\": 97, \"10\": 1076, \"7\": 22, \"3\": 1, \"4\": 1, \"12\": 3}, \"15\": {\"15\": 778, \"2\": 93, \"9\": 236, \"12\": 23, \"5\": 15, \"3\": 22, \"1\": 14, \"13\": 12, \"4\": 6, \"7\": 1}, \"0\": {\"0\": 1174, \"1\": 15, \"8\": 11}, \"6\": {\"6\": 1159, \"7\": 7, \"10\": 34}, \"3\": {\"9\": 151, \"7\": 161, \"3\": 631, \"15\": 26, \"5\": 75, \"2\": 104, \"4\": 49, \"12\": 1, \"13\": 2}, \"7\": {\"7\": 1032, \"10\": 7, \"3\": 142, \"4\": 5, \"6\": 7, \"9\": 3, \"2\": 4}, \"2\": {\"2\": 494, \"9\": 307, \"5\": 202, \"3\": 114, \"15\": 71, \"4\": 4, \"1\": 6, \"7\": 2}, \"8\": {\"8\": 1052, \"14\": 146, \"0\": 2}, \"11\": {\"11\": 1200}, \"14\": {\"14\": 1058, \"8\": 142}, \"12\": {\"12\": 1106, \"13\": 79, \"4\": 8, \"3\": 1, \"15\": 5, \"7\": 1}, \"13\": {\"13\": 1102, \"15\": 6, \"12\": 90, \"9\": 2}, \"9\": {\"5\": 91, \"3\": 157, \"2\": 308, \"15\": 176, \"9\": 454, \"1\": 4, \"4\": 7, \"12\": 1, \"7\": 2}, \"5\": {\"3\": 77, \"9\": 103, \"2\": 272, \"5\": 569, \"1\": 123, \"4\": 19, \"8\": 1, \"15\": 31, \"0\": 4, \"7\": 1}, \"1\": {\"1\": 1127, \"5\": 57, \"0\": 4, \"2\": 8, \"15\": 2, \"9\": 2}}, \"ORACLE.run2_50\": {\"5\": {\"4\": 254, \"5\": 805, \"6\": 61, \"7\": 80}, \"12\": {\"12\": 1165, \"9\": 26, \"11\": 9}, \"14\": {\"14\": 1199, \"2\": 1}, \"4\": {\"4\": 919, \"5\": 239, \"6\": 18, \"15\": 4, \"7\": 20}, \"13\": {\"13\": 1199, \"10\": 1}, \"10\": {\"10\": 1183, \"0\": 8, \"13\": 7, \"1\": 2}, \"9\": {\"9\": 1175, \"12\": 25}, \"15\": {\"15\": 1174, \"6\": 21, \"4\": 4, \"11\": 1}, \"6\": {\"5\": 100, \"6\": 1044, \"4\": 24, \"15\": 32}, \"2\": {\"2\": 1193, \"0\": 7}, \"0\": {\"0\": 1176, \"2\": 21, \"10\": 3}, \"11\": {\"11\": 1190, \"12\": 8, \"6\": 1, \"15\": 1}, \"3\": {\"3\": 1200}, \"8\": {\"8\": 1199, \"13\": 1}, \"7\": {\"7\": 1091, \"4\": 54, \"5\": 55}, \"1\": {\"1\": 1199, \"13\": 1}}, \"ORACLE.run2_26\": {\"7\": {\"3\": 140, \"7\": 748, \"2\": 236, \"9\": 33, \"8\": 30, \"13\": 12, \"15\": 1}, \"6\": {\"6\": 1053, \"5\": 115, \"14\": 22, \"1\": 6, \"10\": 4}, \"14\": {\"14\": 752, \"1\": 92, \"10\": 169, \"6\": 20, \"0\": 163, \"15\": 2, \"5\": 2}, \"15\": {\"15\": 1057, \"8\": 36, \"2\": 84, \"0\": 17, \"9\": 1, \"3\": 2, \"10\": 3}, \"5\": {\"5\": 797, \"6\": 319, \"15\": 48, \"1\": 8, \"14\": 20, \"10\": 5, \"0\": 3}, \"10\": {\"1\": 36, \"6\": 33, \"10\": 425, \"0\": 343, \"15\": 26, \"8\": 76, \"14\": 245, \"5\": 3, \"9\": 6, \"2\": 7}, \"4\": {\"4\": 1191, \"3\": 8, \"7\": 1}, \"11\": {\"11\": 1200}, \"13\": {\"13\": 1027, \"9\": 148, \"7\": 19, \"2\": 6}, \"2\": {\"2\": 737, \"7\": 207, \"8\": 163, \"15\": 27, \"9\": 51, \"3\": 10, \"13\": 5}, \"0\": {\"15\": 57, \"10\": 235, \"0\": 744, \"8\": 48, \"14\": 109, \"2\": 7}, \"12\": {\"12\": 1200}, \"3\": {\"7\": 125, \"3\": 1043, \"2\": 10, \"4\": 22}, \"9\": {\"9\": 884, \"13\": 106, \"2\": 48, \"8\": 145, \"7\": 17}, \"8\": {\"8\": 878, \"9\": 129, \"15\": 10, \"2\": 148, \"0\": 16, \"10\": 9, \"7\": 10}, \"1\": {\"1\": 1174, \"6\": 7, \"5\": 1, \"14\": 18}}, \"ORACLE.run2_32\": {\"7\": {\"7\": 1097, \"0\": 69, \"2\": 16, \"5\": 4, \"8\": 13, \"14\": 1}, \"2\": {\"2\": 940, \"14\": 206, \"7\": 32, \"0\": 21, \"5\": 1}, \"5\": {\"5\": 1090, \"7\": 6, \"2\": 63, \"14\": 31, \"15\": 7, \"8\": 3}, \"6\": {\"6\": 1200}, \"13\": {\"13\": 1031, \"11\": 116, \"4\": 31, \"3\": 22}, \"4\": {\"4\": 1095, \"11\": 82, \"0\": 20, \"13\": 2, \"3\": 1}, \"3\": {\"3\": 1182, \"11\": 6, \"13\": 10, \"4\": 2}, \"0\": {\"0\": 897, \"2\": 40, \"4\": 46, \"8\": 113, \"7\": 84, \"14\": 19, \"11\": 1}, \"9\": {\"9\": 1200}, \"12\": {\"12\": 1200}, \"8\": {\"8\": 1100, \"0\": 86, \"7\": 13, \"15\": 1}, \"14\": {\"14\": 883, \"2\": 294, \"0\": 14, \"5\": 6, \"7\": 3}, \"15\": {\"15\": 1199, \"5\": 1}, \"11\": {\"11\": 652, \"13\": 214, \"4\": 291, \"3\": 4, \"0\": 27, \"7\": 11, \"2\": 1}, \"10\": {\"10\": 1200}, \"1\": {\"1\": 1200}}, \"ORACLE.run2_44\": {\"11\": {\"11\": 1200}, \"7\": {\"9\": 375, \"7\": 821, \"6\": 4}, \"6\": {\"6\": 1182, \"13\": 12, \"7\": 4, \"9\": 2}, \"12\": {\"12\": 1116, \"3\": 84}, \"4\": {\"4\": 1136, \"14\": 63, \"5\": 1}, \"13\": {\"13\": 1159, \"6\": 17, \"4\": 24}, \"8\": {\"8\": 960, \"0\": 210, \"5\": 21, \"15\": 9}, \"5\": {\"5\": 1113, \"8\": 26, \"14\": 50, \"15\": 8, \"0\": 3}, \"14\": {\"14\": 1079, \"4\": 91, \"5\": 24, \"8\": 1, \"15\": 5}, \"3\": {\"3\": 1120, \"12\": 80}, \"10\": {\"10\": 1195, \"7\": 5}, \"1\": {\"1\": 1190, \"2\": 9, \"3\": 1}, \"2\": {\"2\": 1192, \"1\": 8}, \"15\": {\"15\": 1130, \"8\": 27, \"14\": 22, \"5\": 12, \"4\": 9}, \"9\": {\"9\": 762, \"7\": 424, \"6\": 14}, \"0\": {\"8\": 265, \"0\": 931, \"15\": 2, \"5\": 2}}, \"ORACLE.run2_8\": {\"10\": {\"10\": 1055, \"5\": 85, \"13\": 59, \"1\": 1}, \"6\": {\"6\": 1124, \"8\": 11, \"14\": 59, \"4\": 6}, \"13\": {\"13\": 1126, \"10\": 66, \"7\": 5, \"4\": 2, \"5\": 1}, \"3\": {\"3\": 1200}, \"9\": {\"9\": 1200}, \"1\": {\"1\": 1135, \"10\": 7, \"5\": 35, \"13\": 18, \"14\": 5}, \"5\": {\"5\": 1004, \"10\": 150, \"1\": 44, \"13\": 2}, \"11\": {\"8\": 399, \"11\": 733, \"12\": 50, \"7\": 16, \"6\": 2}, \"4\": {\"4\": 956, \"7\": 224, \"14\": 3, \"6\": 15, \"8\": 1, \"10\": 1}, \"14\": {\"14\": 1125, \"6\": 73, \"1\": 2}, \"12\": {\"12\": 1179, \"15\": 21}, \"7\": {\"7\": 1034, \"4\": 166}, \"0\": {\"0\": 1200}, \"15\": {\"15\": 1177, \"12\": 23}, \"2\": {\"2\": 1200}, \"8\": {\"8\": 1085, \"6\": 15, \"11\": 99, \"14\": 1}}, \"ORACLE.run2_38\": {\"4\": {\"4\": 1194, \"10\": 6}, \"7\": {\"8\": 17, \"7\": 1170, \"0\": 11, \"4\": 1, \"14\": 1}, \"12\": {\"12\": 1193, \"5\": 2, \"14\": 5}, \"10\": {\"10\": 1131, \"13\": 32, \"3\": 36, \"4\": 1}, \"0\": {\"0\": 1176, \"7\": 21, \"8\": 3}, \"1\": {\"1\": 1165, \"15\": 35}, \"5\": {\"5\": 810, \"8\": 375, \"7\": 11, \"14\": 1, \"12\": 2, \"0\": 1}, \"15\": {\"15\": 916, \"6\": 50, \"1\": 213, \"5\": 21}, \"9\": {\"9\": 1199, \"0\": 1}, \"11\": {\"11\": 1200}, \"14\": {\"2\": 347, \"14\": 725, \"12\": 28, \"7\": 64, \"8\": 8, \"5\": 3, \"4\": 23, \"13\": 2}, \"6\": {\"6\": 1197, \"15\": 3}, \"8\": {\"7\": 29, \"8\": 1036, \"5\": 134, \"0\": 1}, \"3\": {\"3\": 833, \"13\": 281, \"10\": 76, \"0\": 10}, \"2\": {\"2\": 1108, \"14\": 92}, \"13\": {\"13\": 942, \"10\": 64, \"3\": 194}}}, \"per_domain_accuracy\": {\"ORACLE.run1_14\": {\"accuracy\": 0.8879166666666667, \"source?\": true}, \"ORACLE.run1_20\": {\"accuracy\": 0.8633854166666667, \"source?\": true}, \"ORACLE.run1_50\": {\"accuracy\": 0.9203645833333334, \"source?\": true}, \"ORACLE.run1_26\": {\"accuracy\": 0.81421875, \"source?\": true}, \"ORACLE.run1_32\": {\"accuracy\": 0.8854166666666666, \"source?\": true}, \"ORACLE.run1_44\": {\"accuracy\": 0.8571875, \"source?\": true}, \"ORACLE.run1_8\": {\"accuracy\": 0.8700520833333333, \"source?\": true}, \"ORACLE.run1_38\": {\"accuracy\": 0.9066145833333333, \"source?\": true}, \"ORACLE.run2_14\": {\"accuracy\": 0.8688541666666667, \"source?\": false}, \"ORACLE.run2_20\": {\"accuracy\": 0.7884375, \"source?\": false}, \"ORACLE.run2_50\": {\"accuracy\": 0.94328125, \"source?\": false}, \"ORACLE.run2_26\": {\"accuracy\": 0.7765625, \"source?\": false}, \"ORACLE.run2_32\": {\"accuracy\": 0.8940625, \"source?\": false}, \"ORACLE.run2_44\": {\"accuracy\": 0.9003125, \"source?\": false}, \"ORACLE.run2_8\": {\"accuracy\": 0.9131770833333334, \"source?\": false}, \"ORACLE.run2_38\": {\"accuracy\": 0.88515625, \"source?\": false}}}, \"history\": {\"epoch_indices\": [1, 2, 3, 4, 5, 6, 7, 8], \"train_label_loss\": [0.6753582313440607, 0.4145780588366047, 0.3404814883655802, 0.2967937643291606, 0.263579631595695, 0.23672224260109942, 0.21423173258591088, 0.19471105926548174], \"source_val_label_loss\": [1.4939814805984497, 0.3942163586616516, 0.37053182721138, 0.33890804648399353, 0.3334423005580902, 0.32501184940338135, 0.3224431574344635, 0.3249531686306], \"target_val_label_loss\": [1.6664667129516602, 0.4564720690250397, 0.4383739233016968, 0.4205116033554077, 0.431340754032135, 0.4420146942138672, 0.44221997261047363, 0.4625670909881592], \"source_val_acc_label\": [0.7518424479166667, 0.8583138020833333, 0.8639127604166666, 0.87564453125, 0.87841796875, 0.8829296875, 0.88375, 0.88525390625], \"target_val_acc_label\": [0.76537109375, 0.86521484375, 0.8634505208333333, 0.87123046875, 0.8695638020833333, 0.8680208333333334, 0.8685286458333333, 0.86482421875]}, \"dataset_metrics\": {\"source\": {\"train\": {\"n_unique_x\": 896000, \"n_unique_y\": 16, \"n_batch/episode\": 33600}, \"val\": {\"n_unique_x\": 192000, \"n_unique_y\": 16, \"n_batch/episode\": 4800}, \"test\": {\"n_unique_x\": 192000, \"n_unique_y\": 16, \"n_batch/episode\": 4800}}, \"target\": {\"train\": {\"n_unique_x\": 896000, \"n_unique_y\": 16, \"n_batch/episode\": 33600}, \"val\": {\"n_unique_x\": 192000, \"n_unique_y\": 16, \"n_batch/episode\": 4800}, \"test\": {\"n_unique_x\": 192000, \"n_unique_y\": 16, \"n_batch/episode\": 4800}}}}'"
      ]
     },
     "execution_count": 29,
     "metadata": {},
     "output_type": "execute_result"
    }
   ],
   "source": [
    "json.dumps(experiment)"
   ]
  }
 ],
 "metadata": {
  "celltoolbar": "Tags",
  "kernelspec": {
   "display_name": "Python 3 (ipykernel)",
   "language": "python",
   "name": "python3"
  },
  "language_info": {
   "codemirror_mode": {
    "name": "ipython",
    "version": 3
   },
   "file_extension": ".py",
   "mimetype": "text/x-python",
   "name": "python",
   "nbconvert_exporter": "python",
   "pygments_lexer": "ipython3",
   "version": "3.8.10"
  },
  "papermill": {
   "default_parameters": {},
   "duration": 7843.057864,
   "end_time": "2022-03-24T07:16:16.936345",
   "environment_variables": {},
   "exception": null,
   "input_path": "/mnt/wd500GB/CSC500/csc500-main/csc500-notebooks/templates/tl_ptn_template.ipynb",
   "output_path": "trial.ipynb",
   "parameters": {
    "parameters": {
     "BEST_MODEL_PATH": "./best_model.pth",
     "NUM_LOGS_PER_EPOCH": 10,
     "criteria_for_best": "target_accuracy",
     "dataset_seed": 420,
     "datasets": [
      {
       "domain_prefix": "ORACLE.run1_",
       "domains": [
        32,
        38,
        8,
        44,
        14,
        50,
        20,
        26
       ],
       "episode_transforms": [],
       "labels": [
        "3123D52",
        "3123D65",
        "3123D79",
        "3123D80",
        "3123D54",
        "3123D70",
        "3123D7B",
        "3123D89",
        "3123D58",
        "3123D76",
        "3123D7D",
        "3123EFE",
        "3123D64",
        "3123D78",
        "3123D7E",
        "3124E4A"
       ],
       "num_examples_per_domain_per_label": 10000,
       "pickle_path": "/mnt/wd500GB/CSC500/csc500-main/datasets/oracle.Run1_10kExamples_stratified_ds.2022A.pkl",
       "source_or_target_dataset": "source",
       "x_transforms": []
      },
      {
       "domain_prefix": "ORACLE.run2_",
       "domains": [
        32,
        38,
        8,
        44,
        14,
        50,
        20,
        26
       ],
       "episode_transforms": [],
       "labels": [
        "3123D52",
        "3123D65",
        "3123D79",
        "3123D80",
        "3123D54",
        "3123D70",
        "3123D7B",
        "3123D89",
        "3123D58",
        "3123D76",
        "3123D7D",
        "3123EFE",
        "3123D64",
        "3123D78",
        "3123D7E",
        "3124E4A"
       ],
       "num_examples_per_domain_per_label": 10000,
       "pickle_path": "/mnt/wd500GB/CSC500/csc500-main/datasets/oracle.Run2_10kExamples_stratified_ds.2022A.pkl",
       "source_or_target_dataset": "target",
       "x_transforms": []
      }
     ],
     "device": "cuda",
     "experiment_name": "tl_1v2:oracle.run1-oracle.run2",
     "lr": 0.0001,
     "n_epoch": 50,
     "n_query": 2,
     "n_shot": 3,
     "n_way": 16,
     "patience": 3,
     "seed": 420,
     "test_k_factor": 2,
     "torch_default_dtype": "torch.float32",
     "train_k_factor": 3,
     "val_k_factor": 2,
     "x_net": [
      {
       "class": "nnReshape",
       "kargs": {
        "shape": [
         -1,
         1,
         2,
         256
        ]
       }
      },
      {
       "class": "Conv2d",
       "kargs": {
        "bias": false,
        "in_channels": 1,
        "kernel_size": [
         1,
         7
        ],
        "out_channels": 256,
        "padding": [
         0,
         3
        ]
       }
      },
      {
       "class": "ReLU",
       "kargs": {
        "inplace": true
       }
      },
      {
       "class": "BatchNorm2d",
       "kargs": {
        "num_features": 256
       }
      },
      {
       "class": "Conv2d",
       "kargs": {
        "bias": true,
        "in_channels": 256,
        "kernel_size": [
         2,
         7
        ],
        "out_channels": 80,
        "padding": [
         0,
         3
        ]
       }
      },
      {
       "class": "ReLU",
       "kargs": {
        "inplace": true
       }
      },
      {
       "class": "BatchNorm2d",
       "kargs": {
        "num_features": 80
       }
      },
      {
       "class": "Flatten",
       "kargs": {}
      },
      {
       "class": "Linear",
       "kargs": {
        "in_features": 20480,
        "out_features": 256
       }
      },
      {
       "class": "ReLU",
       "kargs": {
        "inplace": true
       }
      },
      {
       "class": "BatchNorm1d",
       "kargs": {
        "num_features": 256
       }
      },
      {
       "class": "Linear",
       "kargs": {
        "in_features": 256,
        "out_features": 256
       }
      }
     ]
    }
   },
   "start_time": "2022-03-24T05:05:33.878481",
   "version": "2.3.4"
  }
 },
 "nbformat": 4,
 "nbformat_minor": 5
}