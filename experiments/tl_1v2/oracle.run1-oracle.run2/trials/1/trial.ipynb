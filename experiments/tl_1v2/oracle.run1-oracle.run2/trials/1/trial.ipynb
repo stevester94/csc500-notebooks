{
 "cells": [
  {
   "cell_type": "markdown",
   "id": "9fea5f46",
   "metadata": {
    "papermill": {
     "duration": 0.022332,
     "end_time": "2022-03-23T07:02:31.516427",
     "exception": false,
     "start_time": "2022-03-23T07:02:31.494095",
     "status": "completed"
    },
    "tags": []
   },
   "source": [
    "# Transfer Learning Template"
   ]
  },
  {
   "cell_type": "code",
   "execution_count": 1,
   "id": "0902182a",
   "metadata": {
    "execution": {
     "iopub.execute_input": "2022-03-23T07:02:31.562067Z",
     "iopub.status.busy": "2022-03-23T07:02:31.561709Z",
     "iopub.status.idle": "2022-03-23T07:02:32.877244Z",
     "shell.execute_reply": "2022-03-23T07:02:32.876960Z"
    },
    "papermill": {
     "duration": 1.342085,
     "end_time": "2022-03-23T07:02:32.877309",
     "exception": false,
     "start_time": "2022-03-23T07:02:31.535224",
     "status": "completed"
    },
    "tags": []
   },
   "outputs": [],
   "source": [
    "%load_ext autoreload\n",
    "%autoreload 2\n",
    "%matplotlib inline\n",
    "\n",
    "    \n",
    "import os, json, sys, time, random\n",
    "import numpy as np\n",
    "import torch\n",
    "from torch.optim import Adam\n",
    "from  easydict import EasyDict\n",
    "import matplotlib.pyplot as plt\n",
    "\n",
    "from steves_models.steves_ptn import Steves_Prototypical_Network\n",
    "\n",
    "from steves_utils.lazy_iterable_wrapper import Lazy_Iterable_Wrapper\n",
    "from steves_utils.iterable_aggregator import Iterable_Aggregator\n",
    "from steves_utils.ptn_train_eval_test_jig import  PTN_Train_Eval_Test_Jig\n",
    "from steves_utils.torch_sequential_builder import build_sequential\n",
    "from steves_utils.torch_utils import get_dataset_metrics, ptn_confusion_by_domain_over_dataloader\n",
    "from steves_utils.utils_v2 import (per_domain_accuracy_from_confusion, get_datasets_base_path)\n",
    "from steves_utils.PTN.utils import independent_accuracy_assesment\n",
    "\n",
    "from torch.utils.data import DataLoader\n",
    "\n",
    "from steves_utils.stratified_dataset.episodic_accessor import Episodic_Accessor_Factory\n",
    "\n",
    "from steves_utils.ptn_do_report import (\n",
    "    get_loss_curve,\n",
    "    get_results_table,\n",
    "    get_parameters_table,\n",
    "    get_domain_accuracies,\n",
    ")\n",
    "\n",
    "from steves_utils.transforms import get_chained_transform"
   ]
  },
  {
   "cell_type": "markdown",
   "id": "41c840b4",
   "metadata": {
    "papermill": {
     "duration": 0.012175,
     "end_time": "2022-03-23T07:02:32.902115",
     "exception": false,
     "start_time": "2022-03-23T07:02:32.889940",
     "status": "completed"
    },
    "tags": []
   },
   "source": [
    "# Allowed Parameters\n",
    "These are allowed parameters, not defaults\n",
    "Each of these values need to be present in the injected parameters (the notebook will raise an exception if they are not present)\n",
    "\n",
    "Papermill uses the cell tag \"parameters\" to inject the real parameters below this cell.\n",
    "Enable tags to see what I mean"
   ]
  },
  {
   "cell_type": "code",
   "execution_count": 2,
   "id": "fd44eb83",
   "metadata": {
    "execution": {
     "iopub.execute_input": "2022-03-23T07:02:32.929381Z",
     "iopub.status.busy": "2022-03-23T07:02:32.929131Z",
     "iopub.status.idle": "2022-03-23T07:02:32.944551Z",
     "shell.execute_reply": "2022-03-23T07:02:32.944144Z"
    },
    "papermill": {
     "duration": 0.030284,
     "end_time": "2022-03-23T07:02:32.944642",
     "exception": false,
     "start_time": "2022-03-23T07:02:32.914358",
     "status": "completed"
    },
    "tags": []
   },
   "outputs": [],
   "source": [
    "required_parameters = {\n",
    "    \"experiment_name\",\n",
    "    \"lr\",\n",
    "    \"device\",\n",
    "    \"seed\",\n",
    "    \"dataset_seed\",\n",
    "    \"n_shot\",\n",
    "    \"n_query\",\n",
    "    \"n_way\",\n",
    "    \"train_k_factor\",\n",
    "    \"val_k_factor\",\n",
    "    \"test_k_factor\",\n",
    "    \"n_epoch\",\n",
    "    \"patience\",\n",
    "    \"criteria_for_best\",\n",
    "    \"x_net\",\n",
    "    \"datasets\",\n",
    "    \"torch_default_dtype\",\n",
    "    \"NUM_LOGS_PER_EPOCH\",\n",
    "    \"BEST_MODEL_PATH\",\n",
    "    \"x_shape\",\n",
    "}"
   ]
  },
  {
   "cell_type": "code",
   "execution_count": 3,
   "id": "fa3f0049",
   "metadata": {
    "execution": {
     "iopub.execute_input": "2022-03-23T07:02:32.984598Z",
     "iopub.status.busy": "2022-03-23T07:02:32.984323Z",
     "iopub.status.idle": "2022-03-23T07:02:32.998520Z",
     "shell.execute_reply": "2022-03-23T07:02:32.998091Z"
    },
    "papermill": {
     "duration": 0.03647,
     "end_time": "2022-03-23T07:02:32.998610",
     "exception": false,
     "start_time": "2022-03-23T07:02:32.962140",
     "status": "completed"
    },
    "tags": [
     "parameters"
    ]
   },
   "outputs": [],
   "source": [
    "from steves_utils.CORES.utils import (\n",
    "    ALL_NODES,\n",
    "    ALL_NODES_MINIMUM_1000_EXAMPLES,\n",
    "    ALL_DAYS\n",
    ")\n",
    "\n",
    "from steves_utils.ORACLE.utils_v2 import (\n",
    "    ALL_DISTANCES_FEET_NARROWED,\n",
    "    ALL_RUNS,\n",
    "    ALL_SERIAL_NUMBERS,\n",
    ")\n",
    "\n",
    "standalone_parameters = {}\n",
    "standalone_parameters[\"experiment_name\"] = \"STANDALONE PTN\"\n",
    "standalone_parameters[\"lr\"] = 0.001\n",
    "standalone_parameters[\"device\"] = \"cuda\"\n",
    "\n",
    "standalone_parameters[\"seed\"] = 1337\n",
    "standalone_parameters[\"dataset_seed\"] = 1337\n",
    "\n",
    "standalone_parameters[\"n_way\"] = 8\n",
    "standalone_parameters[\"n_shot\"] = 3\n",
    "standalone_parameters[\"n_query\"]  = 2\n",
    "standalone_parameters[\"train_k_factor\"] = 1\n",
    "standalone_parameters[\"val_k_factor\"] = 2\n",
    "standalone_parameters[\"test_k_factor\"] = 2\n",
    "\n",
    "\n",
    "standalone_parameters[\"n_epoch\"] = 50\n",
    "\n",
    "standalone_parameters[\"patience\"] = 10\n",
    "standalone_parameters[\"criteria_for_best\"] = \"source_loss\"\n",
    "\n",
    "standalone_parameters[\"datasets\"] = [\n",
    "    {\n",
    "        \"labels\": ALL_SERIAL_NUMBERS,\n",
    "        \"domains\": ALL_DISTANCES_FEET_NARROWED,\n",
    "        \"num_examples_per_domain_per_label\": 100,\n",
    "        \"pickle_path\": os.path.join(get_datasets_base_path(), \"oracle.Run1_framed_2000Examples_stratified_ds.2022A.pkl\"),\n",
    "        \"source_or_target_dataset\": \"source\",\n",
    "        \"x_transforms\": [\"unit_mag\", \"minus_two\"],\n",
    "        \"episode_transforms\": [],\n",
    "        \"domain_prefix\": \"ORACLE_\"\n",
    "    },\n",
    "    {\n",
    "        \"labels\": ALL_NODES,\n",
    "        \"domains\": ALL_DAYS,\n",
    "        \"num_examples_per_domain_per_label\": 100,\n",
    "        \"pickle_path\": os.path.join(get_datasets_base_path(), \"cores.stratified_ds.2022A.pkl\"),\n",
    "        \"source_or_target_dataset\": \"target\",\n",
    "        \"x_transforms\": [\"unit_power\", \"times_zero\"],\n",
    "        \"episode_transforms\": [],\n",
    "        \"domain_prefix\": \"CORES_\"\n",
    "    }   \n",
    "]\n",
    "\n",
    "standalone_parameters[\"torch_default_dtype\"] = \"torch.float32\" \n",
    "\n",
    "\n",
    "\n",
    "standalone_parameters[\"x_net\"] =     [\n",
    "    {\"class\": \"nnReshape\", \"kargs\": {\"shape\":[-1, 1, 2, 256]}},\n",
    "    {\"class\": \"Conv2d\", \"kargs\": { \"in_channels\":1, \"out_channels\":256, \"kernel_size\":(1,7), \"bias\":False, \"padding\":(0,3), },},\n",
    "    {\"class\": \"ReLU\", \"kargs\": {\"inplace\": True}},\n",
    "    {\"class\": \"BatchNorm2d\", \"kargs\": {\"num_features\":256}},\n",
    "\n",
    "    {\"class\": \"Conv2d\", \"kargs\": { \"in_channels\":256, \"out_channels\":80, \"kernel_size\":(2,7), \"bias\":True, \"padding\":(0,3), },},\n",
    "    {\"class\": \"ReLU\", \"kargs\": {\"inplace\": True}},\n",
    "    {\"class\": \"BatchNorm2d\", \"kargs\": {\"num_features\":80}},\n",
    "    {\"class\": \"Flatten\", \"kargs\": {}},\n",
    "\n",
    "    {\"class\": \"Linear\", \"kargs\": {\"in_features\": 80*256, \"out_features\": 256}}, # 80 units per IQ pair\n",
    "    {\"class\": \"ReLU\", \"kargs\": {\"inplace\": True}},\n",
    "    {\"class\": \"BatchNorm1d\", \"kargs\": {\"num_features\":256}},\n",
    "\n",
    "    {\"class\": \"Linear\", \"kargs\": {\"in_features\": 256, \"out_features\": 256}},\n",
    "]\n",
    "\n",
    "# Parameters relevant to results\n",
    "# These parameters will basically never need to change\n",
    "standalone_parameters[\"NUM_LOGS_PER_EPOCH\"] = 10\n",
    "standalone_parameters[\"BEST_MODEL_PATH\"] = \"./best_model.pth\"\n",
    "\n",
    "\n",
    "\n",
    "\n"
   ]
  },
  {
   "cell_type": "code",
   "execution_count": 4,
   "id": "0a8572ed",
   "metadata": {
    "execution": {
     "iopub.execute_input": "2022-03-23T07:02:33.036266Z",
     "iopub.status.busy": "2022-03-23T07:02:33.035975Z",
     "iopub.status.idle": "2022-03-23T07:02:33.048864Z",
     "shell.execute_reply": "2022-03-23T07:02:33.048403Z"
    },
    "papermill": {
     "duration": 0.032278,
     "end_time": "2022-03-23T07:02:33.048955",
     "exception": false,
     "start_time": "2022-03-23T07:02:33.016677",
     "status": "completed"
    },
    "tags": [
     "injected-parameters"
    ]
   },
   "outputs": [],
   "source": [
    "# Parameters\n",
    "parameters = {\n",
    "    \"experiment_name\": \"tl_1v2:oracle.run1-oracle.run2\",\n",
    "    \"device\": \"cuda\",\n",
    "    \"lr\": 0.0001,\n",
    "    \"n_shot\": 3,\n",
    "    \"n_query\": 2,\n",
    "    \"train_k_factor\": 3,\n",
    "    \"val_k_factor\": 2,\n",
    "    \"test_k_factor\": 2,\n",
    "    \"torch_default_dtype\": \"torch.float32\",\n",
    "    \"n_epoch\": 50,\n",
    "    \"patience\": 3,\n",
    "    \"criteria_for_best\": \"target_accuracy\",\n",
    "    \"x_net\": [\n",
    "        {\"class\": \"nnReshape\", \"kargs\": {\"shape\": [-1, 1, 2, 256]}},\n",
    "        {\n",
    "            \"class\": \"Conv2d\",\n",
    "            \"kargs\": {\n",
    "                \"in_channels\": 1,\n",
    "                \"out_channels\": 256,\n",
    "                \"kernel_size\": [1, 7],\n",
    "                \"bias\": False,\n",
    "                \"padding\": [0, 3],\n",
    "            },\n",
    "        },\n",
    "        {\"class\": \"ReLU\", \"kargs\": {\"inplace\": True}},\n",
    "        {\"class\": \"BatchNorm2d\", \"kargs\": {\"num_features\": 256}},\n",
    "        {\n",
    "            \"class\": \"Conv2d\",\n",
    "            \"kargs\": {\n",
    "                \"in_channels\": 256,\n",
    "                \"out_channels\": 80,\n",
    "                \"kernel_size\": [2, 7],\n",
    "                \"bias\": True,\n",
    "                \"padding\": [0, 3],\n",
    "            },\n",
    "        },\n",
    "        {\"class\": \"ReLU\", \"kargs\": {\"inplace\": True}},\n",
    "        {\"class\": \"BatchNorm2d\", \"kargs\": {\"num_features\": 80}},\n",
    "        {\"class\": \"Flatten\", \"kargs\": {}},\n",
    "        {\"class\": \"Linear\", \"kargs\": {\"in_features\": 20480, \"out_features\": 256}},\n",
    "        {\"class\": \"ReLU\", \"kargs\": {\"inplace\": True}},\n",
    "        {\"class\": \"BatchNorm1d\", \"kargs\": {\"num_features\": 256}},\n",
    "        {\"class\": \"Linear\", \"kargs\": {\"in_features\": 256, \"out_features\": 256}},\n",
    "    ],\n",
    "    \"NUM_LOGS_PER_EPOCH\": 10,\n",
    "    \"BEST_MODEL_PATH\": \"./best_model.pth\",\n",
    "    \"n_way\": 16,\n",
    "    \"datasets\": [\n",
    "        {\n",
    "            \"labels\": [\n",
    "                \"3123D52\",\n",
    "                \"3123D65\",\n",
    "                \"3123D79\",\n",
    "                \"3123D80\",\n",
    "                \"3123D54\",\n",
    "                \"3123D70\",\n",
    "                \"3123D7B\",\n",
    "                \"3123D89\",\n",
    "                \"3123D58\",\n",
    "                \"3123D76\",\n",
    "                \"3123D7D\",\n",
    "                \"3123EFE\",\n",
    "                \"3123D64\",\n",
    "                \"3123D78\",\n",
    "                \"3123D7E\",\n",
    "                \"3124E4A\",\n",
    "            ],\n",
    "            \"domains\": [32, 38, 8, 44, 14, 50, 20, 26],\n",
    "            \"num_examples_per_domain_per_label\": 10000,\n",
    "            \"pickle_path\": \"/mnt/wd500GB/CSC500/csc500-main/datasets/oracle.Run1_10kExamples_stratified_ds.2022A.pkl\",\n",
    "            \"source_or_target_dataset\": \"source\",\n",
    "            \"x_transforms\": [\"unit_mag\"],\n",
    "            \"episode_transforms\": [],\n",
    "            \"domain_prefix\": \"ORACLE.run1_\",\n",
    "        },\n",
    "        {\n",
    "            \"labels\": [\n",
    "                \"3123D52\",\n",
    "                \"3123D65\",\n",
    "                \"3123D79\",\n",
    "                \"3123D80\",\n",
    "                \"3123D54\",\n",
    "                \"3123D70\",\n",
    "                \"3123D7B\",\n",
    "                \"3123D89\",\n",
    "                \"3123D58\",\n",
    "                \"3123D76\",\n",
    "                \"3123D7D\",\n",
    "                \"3123EFE\",\n",
    "                \"3123D64\",\n",
    "                \"3123D78\",\n",
    "                \"3123D7E\",\n",
    "                \"3124E4A\",\n",
    "            ],\n",
    "            \"domains\": [32, 38, 8, 44, 14, 50, 20, 26],\n",
    "            \"num_examples_per_domain_per_label\": 10000,\n",
    "            \"pickle_path\": \"/mnt/wd500GB/CSC500/csc500-main/datasets/oracle.Run2_10kExamples_stratified_ds.2022A.pkl\",\n",
    "            \"source_or_target_dataset\": \"target\",\n",
    "            \"x_transforms\": [\"unit_mag\"],\n",
    "            \"episode_transforms\": [],\n",
    "            \"domain_prefix\": \"ORACLE.run2_\",\n",
    "        },\n",
    "    ],\n",
    "    \"dataset_seed\": 1337,\n",
    "    \"seed\": 1337,\n",
    "}\n"
   ]
  },
  {
   "cell_type": "code",
   "execution_count": 5,
   "id": "8fa1cc33",
   "metadata": {
    "execution": {
     "iopub.execute_input": "2022-03-23T07:02:33.083613Z",
     "iopub.status.busy": "2022-03-23T07:02:33.083320Z",
     "iopub.status.idle": "2022-03-23T07:02:33.097562Z",
     "shell.execute_reply": "2022-03-23T07:02:33.097113Z"
    },
    "papermill": {
     "duration": 0.030673,
     "end_time": "2022-03-23T07:02:33.097652",
     "exception": false,
     "start_time": "2022-03-23T07:02:33.066979",
     "status": "completed"
    },
    "tags": []
   },
   "outputs": [],
   "source": [
    "# Set this to True if you want to run this template directly\n",
    "STANDALONE = False\n",
    "if STANDALONE:\n",
    "    print(\"parameters not injected, running with standalone_parameters\")\n",
    "    parameters = standalone_parameters\n",
    "\n",
    "if not 'parameters' in locals() and not 'parameters' in globals():\n",
    "    raise Exception(\"Parameter injection failed\")\n",
    "\n",
    "#Use an easy dict for all the parameters\n",
    "p = EasyDict(parameters)\n",
    "\n",
    "if \"x_shape\" not in p:\n",
    "    p.x_shape = [2,256] # Default to this if we dont supply x_shape\n",
    "\n",
    "\n",
    "supplied_keys = set(p.keys())\n",
    "\n",
    "if  supplied_keys != required_parameters:\n",
    "    print(\"Parameters are incorrect\")\n",
    "    if len(supplied_keys - required_parameters)>0: print(\"Shouldn't have:\", str(supplied_keys - required_parameters))\n",
    "    if len(required_parameters - supplied_keys)>0: print(\"Need to have:\", str(required_parameters - supplied_keys))\n",
    "    raise RuntimeError(\"Parameters are incorrect\")"
   ]
  },
  {
   "cell_type": "code",
   "execution_count": 6,
   "id": "3a028d58",
   "metadata": {
    "execution": {
     "iopub.execute_input": "2022-03-23T07:02:33.129253Z",
     "iopub.status.busy": "2022-03-23T07:02:33.129010Z",
     "iopub.status.idle": "2022-03-23T07:02:33.144183Z",
     "shell.execute_reply": "2022-03-23T07:02:33.143796Z"
    },
    "papermill": {
     "duration": 0.029893,
     "end_time": "2022-03-23T07:02:33.144261",
     "exception": false,
     "start_time": "2022-03-23T07:02:33.114368",
     "status": "completed"
    },
    "tags": []
   },
   "outputs": [],
   "source": [
    "###################################\n",
    "# Set the RNGs and make it all deterministic\n",
    "###################################\n",
    "np.random.seed(p.seed)\n",
    "random.seed(p.seed)\n",
    "torch.manual_seed(p.seed)\n",
    "\n",
    "torch.use_deterministic_algorithms(True) "
   ]
  },
  {
   "cell_type": "code",
   "execution_count": 7,
   "id": "b691acf6",
   "metadata": {
    "execution": {
     "iopub.execute_input": "2022-03-23T07:02:33.176556Z",
     "iopub.status.busy": "2022-03-23T07:02:33.176315Z",
     "iopub.status.idle": "2022-03-23T07:02:33.191520Z",
     "shell.execute_reply": "2022-03-23T07:02:33.191060Z"
    },
    "papermill": {
     "duration": 0.029673,
     "end_time": "2022-03-23T07:02:33.191610",
     "exception": false,
     "start_time": "2022-03-23T07:02:33.161937",
     "status": "completed"
    },
    "tags": []
   },
   "outputs": [],
   "source": [
    "###########################################\n",
    "# The stratified datasets honor this\n",
    "###########################################\n",
    "torch.set_default_dtype(eval(p.torch_default_dtype))"
   ]
  },
  {
   "cell_type": "code",
   "execution_count": 8,
   "id": "b5fba671",
   "metadata": {
    "execution": {
     "iopub.execute_input": "2022-03-23T07:02:33.224475Z",
     "iopub.status.busy": "2022-03-23T07:02:33.224234Z",
     "iopub.status.idle": "2022-03-23T07:02:33.267973Z",
     "shell.execute_reply": "2022-03-23T07:02:33.267465Z"
    },
    "papermill": {
     "duration": 0.058556,
     "end_time": "2022-03-23T07:02:33.268081",
     "exception": false,
     "start_time": "2022-03-23T07:02:33.209525",
     "status": "completed"
    },
    "tags": []
   },
   "outputs": [],
   "source": [
    "###################################\n",
    "# Build the network(s)\n",
    "# Note: It's critical to do this AFTER setting the RNG\n",
    "###################################\n",
    "x_net = build_sequential(p.x_net)"
   ]
  },
  {
   "cell_type": "code",
   "execution_count": 9,
   "id": "5d7e61cc",
   "metadata": {
    "execution": {
     "iopub.execute_input": "2022-03-23T07:02:33.301607Z",
     "iopub.status.busy": "2022-03-23T07:02:33.301359Z",
     "iopub.status.idle": "2022-03-23T07:02:33.315842Z",
     "shell.execute_reply": "2022-03-23T07:02:33.316212Z"
    },
    "papermill": {
     "duration": 0.029906,
     "end_time": "2022-03-23T07:02:33.316322",
     "exception": false,
     "start_time": "2022-03-23T07:02:33.286416",
     "status": "completed"
    },
    "tags": []
   },
   "outputs": [],
   "source": [
    "start_time_secs = time.time()"
   ]
  },
  {
   "cell_type": "code",
   "execution_count": 10,
   "id": "c6b67dfd",
   "metadata": {
    "execution": {
     "iopub.execute_input": "2022-03-23T07:02:33.349008Z",
     "iopub.status.busy": "2022-03-23T07:02:33.348759Z",
     "iopub.status.idle": "2022-03-23T07:02:33.363586Z",
     "shell.execute_reply": "2022-03-23T07:02:33.363195Z"
    },
    "papermill": {
     "duration": 0.029775,
     "end_time": "2022-03-23T07:02:33.363674",
     "exception": false,
     "start_time": "2022-03-23T07:02:33.333899",
     "status": "completed"
    },
    "tags": []
   },
   "outputs": [],
   "source": [
    "p.domains_source = []\n",
    "p.domains_target = []\n",
    "\n",
    "\n",
    "train_original_source = []\n",
    "val_original_source   = []\n",
    "test_original_source  = []\n",
    "\n",
    "train_original_target = []\n",
    "val_original_target   = []\n",
    "test_original_target  = []"
   ]
  },
  {
   "cell_type": "code",
   "execution_count": 11,
   "id": "e3d9c3d3",
   "metadata": {
    "execution": {
     "iopub.execute_input": "2022-03-23T07:02:33.396633Z",
     "iopub.status.busy": "2022-03-23T07:02:33.396389Z",
     "iopub.status.idle": "2022-03-23T07:02:33.409684Z",
     "shell.execute_reply": "2022-03-23T07:02:33.410065Z"
    },
    "papermill": {
     "duration": 0.02848,
     "end_time": "2022-03-23T07:02:33.410172",
     "exception": false,
     "start_time": "2022-03-23T07:02:33.381692",
     "status": "completed"
    },
    "tags": []
   },
   "outputs": [],
   "source": [
    "# global_x_transform_func = lambda x: normalize(x.to(torch.get_default_dtype()), \"unit_power\") # unit_power, unit_mag\n",
    "# global_x_transform_func = lambda x: normalize(x, \"unit_power\") # unit_power, unit_mag"
   ]
  },
  {
   "cell_type": "code",
   "execution_count": 12,
   "id": "acb78fd2",
   "metadata": {
    "execution": {
     "iopub.execute_input": "2022-03-23T07:02:33.447610Z",
     "iopub.status.busy": "2022-03-23T07:02:33.447357Z",
     "iopub.status.idle": "2022-03-23T07:02:33.458080Z",
     "shell.execute_reply": "2022-03-23T07:02:33.457667Z"
    },
    "papermill": {
     "duration": 0.029166,
     "end_time": "2022-03-23T07:02:33.458169",
     "exception": false,
     "start_time": "2022-03-23T07:02:33.429003",
     "status": "completed"
    },
    "tags": []
   },
   "outputs": [],
   "source": [
    "def add_dataset(\n",
    "    labels,\n",
    "    domains,\n",
    "    pickle_path,\n",
    "    x_transforms,\n",
    "    episode_transforms,\n",
    "    domain_prefix,\n",
    "    num_examples_per_domain_per_label,\n",
    "    source_or_target_dataset:str,\n",
    "    iterator_seed=p.seed,\n",
    "    dataset_seed=p.dataset_seed,\n",
    "    n_shot=p.n_shot,\n",
    "    n_way=p.n_way,\n",
    "    n_query=p.n_query,\n",
    "    train_val_test_k_factors=(p.train_k_factor,p.val_k_factor,p.test_k_factor),\n",
    "):\n",
    "   \n",
    "    if x_transforms == []: x_transform = None\n",
    "    else: x_transform = get_chained_transform(x_transforms)\n",
    "    \n",
    "    if episode_transforms == []: episode_transform = None\n",
    "    else: raise Exception(\"episode_transforms not implemented\")\n",
    "    \n",
    "    episode_transform = lambda tup, _prefix=domain_prefix: (_prefix + str(tup[0]), tup[1])\n",
    "\n",
    "\n",
    "    eaf = Episodic_Accessor_Factory(\n",
    "        labels=labels,\n",
    "        domains=domains,\n",
    "        num_examples_per_domain_per_label=num_examples_per_domain_per_label,\n",
    "        iterator_seed=iterator_seed,\n",
    "        dataset_seed=dataset_seed,\n",
    "        n_shot=n_shot,\n",
    "        n_way=n_way,\n",
    "        n_query=n_query,\n",
    "        train_val_test_k_factors=train_val_test_k_factors,\n",
    "        pickle_path=pickle_path,\n",
    "        x_transform_func=x_transform,\n",
    "    )\n",
    "\n",
    "    train, val, test = eaf.get_train(), eaf.get_val(), eaf.get_test()\n",
    "    train = Lazy_Iterable_Wrapper(train, episode_transform)\n",
    "    val = Lazy_Iterable_Wrapper(val, episode_transform)\n",
    "    test = Lazy_Iterable_Wrapper(test, episode_transform)\n",
    "\n",
    "    if source_or_target_dataset==\"source\":\n",
    "        train_original_source.append(train)\n",
    "        val_original_source.append(val)\n",
    "        test_original_source.append(test)\n",
    "\n",
    "        p.domains_source.extend(\n",
    "            [domain_prefix + str(u) for u in domains]\n",
    "        )\n",
    "    elif source_or_target_dataset==\"target\":\n",
    "        train_original_target.append(train)\n",
    "        val_original_target.append(val)\n",
    "        test_original_target.append(test)\n",
    "        p.domains_target.extend(\n",
    "            [domain_prefix + str(u) for u in domains]\n",
    "        )\n",
    "    else:\n",
    "        raise Exception(f\"invalid source_or_target_dataset: {source_or_target_dataset}\")\n",
    "    "
   ]
  },
  {
   "cell_type": "code",
   "execution_count": 13,
   "id": "fe266617",
   "metadata": {
    "execution": {
     "iopub.execute_input": "2022-03-23T07:02:33.492014Z",
     "iopub.status.busy": "2022-03-23T07:02:33.491769Z",
     "iopub.status.idle": "2022-03-23T07:05:23.262595Z",
     "shell.execute_reply": "2022-03-23T07:05:23.262188Z"
    },
    "papermill": {
     "duration": 169.78567,
     "end_time": "2022-03-23T07:05:23.262698",
     "exception": false,
     "start_time": "2022-03-23T07:02:33.477028",
     "status": "completed"
    },
    "tags": []
   },
   "outputs": [],
   "source": [
    "for ds in p.datasets:\n",
    "    add_dataset(**ds)"
   ]
  },
  {
   "cell_type": "code",
   "execution_count": 14,
   "id": "b90d65ac",
   "metadata": {
    "execution": {
     "iopub.execute_input": "2022-03-23T07:05:23.304337Z",
     "iopub.status.busy": "2022-03-23T07:05:23.304081Z",
     "iopub.status.idle": "2022-03-23T07:05:23.319795Z",
     "shell.execute_reply": "2022-03-23T07:05:23.319344Z"
    },
    "papermill": {
     "duration": 0.038354,
     "end_time": "2022-03-23T07:05:23.319887",
     "exception": false,
     "start_time": "2022-03-23T07:05:23.281533",
     "status": "completed"
    },
    "tags": []
   },
   "outputs": [],
   "source": [
    "# from steves_utils.CORES.utils import (\n",
    "#     ALL_NODES,\n",
    "#     ALL_NODES_MINIMUM_1000_EXAMPLES,\n",
    "#     ALL_DAYS\n",
    "# )\n",
    "\n",
    "# add_dataset(\n",
    "#     labels=ALL_NODES,\n",
    "#     domains = ALL_DAYS,\n",
    "#     num_examples_per_domain_per_label=100,\n",
    "#     pickle_path=os.path.join(get_datasets_base_path(), \"cores.stratified_ds.2022A.pkl\"),\n",
    "#     source_or_target_dataset=\"target\",\n",
    "#     x_transform_func=global_x_transform_func,\n",
    "#     domain_modifier=lambda u: f\"cores_{u}\"\n",
    "# )"
   ]
  },
  {
   "cell_type": "code",
   "execution_count": 15,
   "id": "76db484d",
   "metadata": {
    "execution": {
     "iopub.execute_input": "2022-03-23T07:05:23.353790Z",
     "iopub.status.busy": "2022-03-23T07:05:23.353544Z",
     "iopub.status.idle": "2022-03-23T07:05:23.367114Z",
     "shell.execute_reply": "2022-03-23T07:05:23.366719Z"
    },
    "papermill": {
     "duration": 0.029136,
     "end_time": "2022-03-23T07:05:23.367203",
     "exception": false,
     "start_time": "2022-03-23T07:05:23.338067",
     "status": "completed"
    },
    "tags": []
   },
   "outputs": [],
   "source": [
    "# from steves_utils.ORACLE.utils_v2 import (\n",
    "#     ALL_DISTANCES_FEET,\n",
    "#     ALL_RUNS,\n",
    "#     ALL_SERIAL_NUMBERS,\n",
    "# )\n",
    "\n",
    "\n",
    "# add_dataset(\n",
    "#     labels=ALL_SERIAL_NUMBERS,\n",
    "#     domains = list(set(ALL_DISTANCES_FEET) - {2,62}),\n",
    "#     num_examples_per_domain_per_label=100,\n",
    "#     pickle_path=os.path.join(get_datasets_base_path(), \"oracle.Run2_framed_2000Examples_stratified_ds.2022A.pkl\"),\n",
    "#     source_or_target_dataset=\"source\",\n",
    "#     x_transform_func=global_x_transform_func,\n",
    "#     domain_modifier=lambda u: f\"oracle1_{u}\"\n",
    "# )\n"
   ]
  },
  {
   "cell_type": "code",
   "execution_count": 16,
   "id": "97dea9d2",
   "metadata": {
    "execution": {
     "iopub.execute_input": "2022-03-23T07:05:23.400799Z",
     "iopub.status.busy": "2022-03-23T07:05:23.400548Z",
     "iopub.status.idle": "2022-03-23T07:05:23.410942Z",
     "shell.execute_reply": "2022-03-23T07:05:23.410729Z"
    },
    "papermill": {
     "duration": 0.025015,
     "end_time": "2022-03-23T07:05:23.410993",
     "exception": false,
     "start_time": "2022-03-23T07:05:23.385978",
     "status": "completed"
    },
    "tags": []
   },
   "outputs": [],
   "source": [
    "# from steves_utils.ORACLE.utils_v2 import (\n",
    "#     ALL_DISTANCES_FEET,\n",
    "#     ALL_RUNS,\n",
    "#     ALL_SERIAL_NUMBERS,\n",
    "# )\n",
    "\n",
    "\n",
    "# add_dataset(\n",
    "#     labels=ALL_SERIAL_NUMBERS,\n",
    "#     domains = list(set(ALL_DISTANCES_FEET) - {2,62,56}),\n",
    "#     num_examples_per_domain_per_label=100,\n",
    "#     pickle_path=os.path.join(get_datasets_base_path(), \"oracle.Run2_framed_2000Examples_stratified_ds.2022A.pkl\"),\n",
    "#     source_or_target_dataset=\"source\",\n",
    "#     x_transform_func=global_x_transform_func,\n",
    "#     domain_modifier=lambda u: f\"oracle2_{u}\"\n",
    "# )"
   ]
  },
  {
   "cell_type": "code",
   "execution_count": 17,
   "id": "6f289866",
   "metadata": {
    "execution": {
     "iopub.execute_input": "2022-03-23T07:05:23.441959Z",
     "iopub.status.busy": "2022-03-23T07:05:23.441716Z",
     "iopub.status.idle": "2022-03-23T07:05:23.456141Z",
     "shell.execute_reply": "2022-03-23T07:05:23.455695Z"
    },
    "papermill": {
     "duration": 0.029701,
     "end_time": "2022-03-23T07:05:23.456229",
     "exception": false,
     "start_time": "2022-03-23T07:05:23.426528",
     "status": "completed"
    },
    "tags": []
   },
   "outputs": [],
   "source": [
    "# add_dataset(\n",
    "#     labels=list(range(19)),\n",
    "#     domains = [0,1,2],\n",
    "#     num_examples_per_domain_per_label=100,\n",
    "#     pickle_path=os.path.join(get_datasets_base_path(), \"metehan.stratified_ds.2022A.pkl\"),\n",
    "#     source_or_target_dataset=\"target\",\n",
    "#     x_transform_func=global_x_transform_func,\n",
    "#     domain_modifier=lambda u: f\"met_{u}\"\n",
    "# )"
   ]
  },
  {
   "cell_type": "code",
   "execution_count": 18,
   "id": "86a863c3",
   "metadata": {
    "execution": {
     "iopub.execute_input": "2022-03-23T07:05:23.488271Z",
     "iopub.status.busy": "2022-03-23T07:05:23.488027Z",
     "iopub.status.idle": "2022-03-23T07:05:23.501217Z",
     "shell.execute_reply": "2022-03-23T07:05:23.500768Z"
    },
    "papermill": {
     "duration": 0.028769,
     "end_time": "2022-03-23T07:05:23.501305",
     "exception": false,
     "start_time": "2022-03-23T07:05:23.472536",
     "status": "completed"
    },
    "tags": []
   },
   "outputs": [],
   "source": [
    "# # from steves_utils.wisig.utils import (\n",
    "# #     ALL_NODES_MINIMUM_100_EXAMPLES,\n",
    "# #     ALL_NODES_MINIMUM_500_EXAMPLES,\n",
    "# #     ALL_NODES_MINIMUM_1000_EXAMPLES,\n",
    "# #     ALL_DAYS\n",
    "# # )\n",
    "\n",
    "# import steves_utils.wisig.utils as wisig\n",
    "\n",
    "\n",
    "# add_dataset(\n",
    "#     labels=wisig.ALL_NODES_MINIMUM_100_EXAMPLES,\n",
    "#     domains = wisig.ALL_DAYS,\n",
    "#     num_examples_per_domain_per_label=100,\n",
    "#     pickle_path=os.path.join(get_datasets_base_path(), \"wisig.node3-19.stratified_ds.2022A.pkl\"),\n",
    "#     source_or_target_dataset=\"target\",\n",
    "#     x_transform_func=global_x_transform_func,\n",
    "#     domain_modifier=lambda u: f\"wisig_{u}\"\n",
    "# )"
   ]
  },
  {
   "cell_type": "code",
   "execution_count": 19,
   "id": "fd5442bc",
   "metadata": {
    "execution": {
     "iopub.execute_input": "2022-03-23T07:05:23.537609Z",
     "iopub.status.busy": "2022-03-23T07:05:23.537352Z",
     "iopub.status.idle": "2022-03-23T07:05:23.551264Z",
     "shell.execute_reply": "2022-03-23T07:05:23.550817Z"
    },
    "papermill": {
     "duration": 0.032054,
     "end_time": "2022-03-23T07:05:23.551351",
     "exception": false,
     "start_time": "2022-03-23T07:05:23.519297",
     "status": "completed"
    },
    "tags": []
   },
   "outputs": [],
   "source": [
    "###################################\n",
    "# Build the dataset\n",
    "###################################\n",
    "train_original_source = Iterable_Aggregator(train_original_source, p.seed)\n",
    "val_original_source = Iterable_Aggregator(val_original_source, p.seed)\n",
    "test_original_source = Iterable_Aggregator(test_original_source, p.seed)\n",
    "\n",
    "\n",
    "train_original_target = Iterable_Aggregator(train_original_target, p.seed)\n",
    "val_original_target = Iterable_Aggregator(val_original_target, p.seed)\n",
    "test_original_target = Iterable_Aggregator(test_original_target, p.seed)\n",
    "\n",
    "# For CNN We only use X and Y. And we only train on the source.\n",
    "# Properly form the data using a transform lambda and Lazy_Iterable_Wrapper. Finally wrap them in a dataloader\n",
    "\n",
    "transform_lambda = lambda ex: ex[1] # Original is (<domain>, <episode>) so we strip down to episode only\n",
    "\n",
    "train_processed_source = Lazy_Iterable_Wrapper(train_original_source, transform_lambda)\n",
    "val_processed_source   = Lazy_Iterable_Wrapper(val_original_source, transform_lambda)\n",
    "test_processed_source  = Lazy_Iterable_Wrapper(test_original_source, transform_lambda)\n",
    "\n",
    "train_processed_target = Lazy_Iterable_Wrapper(train_original_target, transform_lambda)\n",
    "val_processed_target   = Lazy_Iterable_Wrapper(val_original_target, transform_lambda)\n",
    "test_processed_target  = Lazy_Iterable_Wrapper(test_original_target, transform_lambda)\n",
    "\n",
    "datasets = EasyDict({\n",
    "    \"source\": {\n",
    "        \"original\": {\"train\":train_original_source, \"val\":val_original_source, \"test\":test_original_source},\n",
    "        \"processed\": {\"train\":train_processed_source, \"val\":val_processed_source, \"test\":test_processed_source}\n",
    "    },\n",
    "    \"target\": {\n",
    "        \"original\": {\"train\":train_original_target, \"val\":val_original_target, \"test\":test_original_target},\n",
    "        \"processed\": {\"train\":train_processed_target, \"val\":val_processed_target, \"test\":test_processed_target}\n",
    "    },\n",
    "})"
   ]
  },
  {
   "cell_type": "code",
   "execution_count": 20,
   "id": "5b3c01fc",
   "metadata": {
    "execution": {
     "iopub.execute_input": "2022-03-23T07:05:23.586782Z",
     "iopub.status.busy": "2022-03-23T07:05:23.586537Z",
     "iopub.status.idle": "2022-03-23T07:05:48.201148Z",
     "shell.execute_reply": "2022-03-23T07:05:48.200686Z"
    },
    "papermill": {
     "duration": 24.63121,
     "end_time": "2022-03-23T07:05:48.201266",
     "exception": false,
     "start_time": "2022-03-23T07:05:23.570056",
     "status": "completed"
    },
    "tags": []
   },
   "outputs": [
    {
     "name": "stdout",
     "output_type": "stream",
     "text": [
      "{'ORACLE.run1_44', 'ORACLE.run1_50', 'ORACLE.run1_26', 'ORACLE.run1_8', 'ORACLE.run1_14', 'ORACLE.run1_32', 'ORACLE.run1_20', 'ORACLE.run1_38'}\n"
     ]
    },
    {
     "name": "stdout",
     "output_type": "stream",
     "text": [
      "{'ORACLE.run2_20', 'ORACLE.run2_26', 'ORACLE.run2_50', 'ORACLE.run2_14', 'ORACLE.run2_38', 'ORACLE.run2_8', 'ORACLE.run2_44', 'ORACLE.run2_32'}\n"
     ]
    },
    {
     "name": "stdout",
     "output_type": "stream",
     "text": [
      "tensor([[[-0.0219, -0.3946,  0.4055,  ..., -0.3726, -0.3178,  0.6357],\n",
      "         [-0.6685,  0.2630, -0.1425,  ...,  0.0767, -1.0960,  0.1534]],\n",
      "\n",
      "        [[ 0.4965, -0.7904, -1.5302,  ...,  0.4864,  0.0608, -0.3445],\n",
      "         [-0.1520, -0.4459, -1.5808,  ..., -0.5168,  0.3344, -0.5675]],\n",
      "\n",
      "        [[-0.9659, -0.5089,  0.1142,  ...,  0.1350,  1.5786,  1.2151],\n",
      "         [-0.2181,  0.3739, -0.4154,  ..., -1.6721,  0.0000, -0.0312]],\n",
      "\n",
      "        ...,\n",
      "\n",
      "        [[-0.0140,  0.7067, -0.0840,  ..., -0.9517, -1.5324,  0.9866],\n",
      "         [ 1.3435, -0.9656, -0.5948,  ..., -0.1539,  0.2309, -1.0426]],\n",
      "\n",
      "        [[-0.9809, -1.5211, -1.8267,  ..., -0.9454,  0.6113,  0.2203],\n",
      "         [ 1.2581,  0.0355,  1.2581,  ..., -0.3554,  0.8174, -0.2132]],\n",
      "\n",
      "        [[ 1.4691, -0.7845, -0.6632,  ..., -0.8915, -0.4422, -0.0071],\n",
      "         [-0.5206,  1.0983,  0.0071,  ...,  1.6973,  0.2496,  1.1839]]])\n"
     ]
    }
   ],
   "source": [
    "from steves_utils.transforms import get_average_magnitude, get_average_power\n",
    "\n",
    "print(set([u for u,_ in val_original_source]))\n",
    "print(set([u for u,_ in val_original_target]))\n",
    "\n",
    "s_x, s_y, q_x, q_y, _ = next(iter(train_processed_source))\n",
    "print(s_x)\n",
    "\n",
    "# for ds in [\n",
    "#     train_processed_source,\n",
    "#     val_processed_source,\n",
    "#     test_processed_source,\n",
    "#     train_processed_target,\n",
    "#     val_processed_target,\n",
    "#     test_processed_target\n",
    "# ]:\n",
    "#     for s_x, s_y, q_x, q_y, _ in ds:\n",
    "#         for X in (s_x, q_x):\n",
    "#             for x in X:\n",
    "#                 assert np.isclose(get_average_magnitude(x.numpy()), 1.0)\n",
    "#                 assert np.isclose(get_average_power(x.numpy()), 1.0)\n",
    "                "
   ]
  },
  {
   "cell_type": "code",
   "execution_count": 21,
   "id": "bbdacba1",
   "metadata": {
    "execution": {
     "iopub.execute_input": "2022-03-23T07:05:48.237742Z",
     "iopub.status.busy": "2022-03-23T07:05:48.237489Z",
     "iopub.status.idle": "2022-03-23T07:05:48.294178Z",
     "shell.execute_reply": "2022-03-23T07:05:48.293717Z"
    },
    "papermill": {
     "duration": 0.073641,
     "end_time": "2022-03-23T07:05:48.294283",
     "exception": false,
     "start_time": "2022-03-23T07:05:48.220642",
     "status": "completed"
    },
    "tags": []
   },
   "outputs": [
    {
     "name": "stdout",
     "output_type": "stream",
     "text": [
      "(2, 256)\n"
     ]
    }
   ],
   "source": [
    "###################################\n",
    "# Build the model\n",
    "###################################\n",
    "# easfsl only wants a tuple for the shape\n",
    "model = Steves_Prototypical_Network(x_net, device=p.device, x_shape=tuple(p.x_shape))\n",
    "optimizer = Adam(params=model.parameters(), lr=p.lr)"
   ]
  },
  {
   "cell_type": "code",
   "execution_count": 22,
   "id": "22b39ac5",
   "metadata": {
    "execution": {
     "iopub.execute_input": "2022-03-23T07:05:48.330208Z",
     "iopub.status.busy": "2022-03-23T07:05:48.329955Z",
     "iopub.status.idle": "2022-03-23T10:23:43.562368Z",
     "shell.execute_reply": "2022-03-23T10:23:43.562137Z"
    },
    "papermill": {
     "duration": 11875.249344,
     "end_time": "2022-03-23T10:23:43.562425",
     "exception": false,
     "start_time": "2022-03-23T07:05:48.313081",
     "status": "completed"
    },
    "tags": []
   },
   "outputs": [
    {
     "name": "stdout",
     "output_type": "stream",
     "text": [
      "epoch: 1, [batch: 1 / 33600], examples_per_second: 9.6993, train_label_loss: 2.8103, \n"
     ]
    },
    {
     "name": "stdout",
     "output_type": "stream",
     "text": [
      "epoch: 1, [batch: 3360 / 33600], examples_per_second: 3212.3791, train_label_loss: 1.1389, \n"
     ]
    },
    {
     "name": "stdout",
     "output_type": "stream",
     "text": [
      "epoch: 1, [batch: 6720 / 33600], examples_per_second: 3209.6854, train_label_loss: 1.8669, \n"
     ]
    },
    {
     "name": "stdout",
     "output_type": "stream",
     "text": [
      "epoch: 1, [batch: 10080 / 33600], examples_per_second: 3211.1833, train_label_loss: 0.8126, \n"
     ]
    },
    {
     "name": "stdout",
     "output_type": "stream",
     "text": [
      "epoch: 1, [batch: 13440 / 33600], examples_per_second: 3189.4027, train_label_loss: 0.9829, \n"
     ]
    },
    {
     "name": "stdout",
     "output_type": "stream",
     "text": [
      "epoch: 1, [batch: 16800 / 33600], examples_per_second: 3210.7620, train_label_loss: 0.7889, \n"
     ]
    },
    {
     "name": "stdout",
     "output_type": "stream",
     "text": [
      "epoch: 1, [batch: 20160 / 33600], examples_per_second: 3211.2227, train_label_loss: 0.7259, \n"
     ]
    },
    {
     "name": "stdout",
     "output_type": "stream",
     "text": [
      "epoch: 1, [batch: 23520 / 33600], examples_per_second: 3200.8243, train_label_loss: 0.6682, \n"
     ]
    },
    {
     "name": "stdout",
     "output_type": "stream",
     "text": [
      "epoch: 1, [batch: 26880 / 33600], examples_per_second: 3210.6478, train_label_loss: 0.6889, \n"
     ]
    },
    {
     "name": "stdout",
     "output_type": "stream",
     "text": [
      "epoch: 1, [batch: 30240 / 33600], examples_per_second: 3215.5573, train_label_loss: 1.1859, \n"
     ]
    },
    {
     "name": "stdout",
     "output_type": "stream",
     "text": [
      "=============================================================\n",
      "epoch: 1, source_val_acc_label: 0.6515, target_val_acc_label: 0.6334, source_val_label_loss: 0.9315, target_val_label_loss: 0.9862, \n",
      "=============================================================\n"
     ]
    },
    {
     "name": "stdout",
     "output_type": "stream",
     "text": [
      "New best\n"
     ]
    },
    {
     "name": "stdout",
     "output_type": "stream",
     "text": [
      "epoch: 2, [batch: 1 / 33600], examples_per_second: 0.9617, train_label_loss: 1.0796, \n"
     ]
    },
    {
     "name": "stdout",
     "output_type": "stream",
     "text": [
      "epoch: 2, [batch: 3360 / 33600], examples_per_second: 3227.7678, train_label_loss: 0.7541, \n"
     ]
    },
    {
     "name": "stdout",
     "output_type": "stream",
     "text": [
      "epoch: 2, [batch: 6720 / 33600], examples_per_second: 3231.1940, train_label_loss: 1.0456, \n"
     ]
    },
    {
     "name": "stdout",
     "output_type": "stream",
     "text": [
      "epoch: 2, [batch: 10080 / 33600], examples_per_second: 3227.4940, train_label_loss: 0.5596, \n"
     ]
    },
    {
     "name": "stdout",
     "output_type": "stream",
     "text": [
      "epoch: 2, [batch: 13440 / 33600], examples_per_second: 3226.8272, train_label_loss: 0.6265, \n"
     ]
    },
    {
     "name": "stdout",
     "output_type": "stream",
     "text": [
      "epoch: 2, [batch: 16800 / 33600], examples_per_second: 3235.1436, train_label_loss: 1.1364, \n"
     ]
    },
    {
     "name": "stdout",
     "output_type": "stream",
     "text": [
      "epoch: 2, [batch: 20160 / 33600], examples_per_second: 3242.1806, train_label_loss: 1.2867, \n"
     ]
    },
    {
     "name": "stdout",
     "output_type": "stream",
     "text": [
      "epoch: 2, [batch: 23520 / 33600], examples_per_second: 3225.7826, train_label_loss: 0.4065, \n"
     ]
    },
    {
     "name": "stdout",
     "output_type": "stream",
     "text": [
      "epoch: 2, [batch: 26880 / 33600], examples_per_second: 3241.5341, train_label_loss: 0.2899, \n"
     ]
    },
    {
     "name": "stdout",
     "output_type": "stream",
     "text": [
      "epoch: 2, [batch: 30240 / 33600], examples_per_second: 3239.9850, train_label_loss: 1.0756, \n"
     ]
    },
    {
     "name": "stdout",
     "output_type": "stream",
     "text": [
      "=============================================================\n",
      "epoch: 2, source_val_acc_label: 0.6733, target_val_acc_label: 0.6524, source_val_label_loss: 0.8620, target_val_label_loss: 0.9361, \n",
      "=============================================================\n"
     ]
    },
    {
     "name": "stdout",
     "output_type": "stream",
     "text": [
      "New best\n"
     ]
    },
    {
     "name": "stdout",
     "output_type": "stream",
     "text": [
      "epoch: 3, [batch: 1 / 33600], examples_per_second: 0.9674, train_label_loss: 0.5941, \n"
     ]
    },
    {
     "name": "stdout",
     "output_type": "stream",
     "text": [
      "epoch: 3, [batch: 3360 / 33600], examples_per_second: 3231.9708, train_label_loss: 0.6445, \n"
     ]
    },
    {
     "name": "stdout",
     "output_type": "stream",
     "text": [
      "epoch: 3, [batch: 6720 / 33600], examples_per_second: 3239.2920, train_label_loss: 0.6093, \n"
     ]
    },
    {
     "name": "stdout",
     "output_type": "stream",
     "text": [
      "epoch: 3, [batch: 10080 / 33600], examples_per_second: 3244.2784, train_label_loss: 0.5843, \n"
     ]
    },
    {
     "name": "stdout",
     "output_type": "stream",
     "text": [
      "epoch: 3, [batch: 13440 / 33600], examples_per_second: 3227.1233, train_label_loss: 0.5320, \n"
     ]
    },
    {
     "name": "stdout",
     "output_type": "stream",
     "text": [
      "epoch: 3, [batch: 16800 / 33600], examples_per_second: 3237.7653, train_label_loss: 1.0200, \n"
     ]
    },
    {
     "name": "stdout",
     "output_type": "stream",
     "text": [
      "epoch: 3, [batch: 20160 / 33600], examples_per_second: 3238.7423, train_label_loss: 1.2312, \n"
     ]
    },
    {
     "name": "stdout",
     "output_type": "stream",
     "text": [
      "epoch: 3, [batch: 23520 / 33600], examples_per_second: 3231.4728, train_label_loss: 0.9540, \n"
     ]
    },
    {
     "name": "stdout",
     "output_type": "stream",
     "text": [
      "epoch: 3, [batch: 26880 / 33600], examples_per_second: 3233.9453, train_label_loss: 0.5128, \n"
     ]
    },
    {
     "name": "stdout",
     "output_type": "stream",
     "text": [
      "epoch: 3, [batch: 30240 / 33600], examples_per_second: 3245.6819, train_label_loss: 0.7300, \n"
     ]
    },
    {
     "name": "stdout",
     "output_type": "stream",
     "text": [
      "=============================================================\n",
      "epoch: 3, source_val_acc_label: 0.7024, target_val_acc_label: 0.6804, source_val_label_loss: 0.8009, target_val_label_loss: 0.8873, \n",
      "=============================================================\n"
     ]
    },
    {
     "name": "stdout",
     "output_type": "stream",
     "text": [
      "New best\n"
     ]
    },
    {
     "name": "stdout",
     "output_type": "stream",
     "text": [
      "epoch: 4, [batch: 1 / 33600], examples_per_second: 0.9707, train_label_loss: 0.3366, \n"
     ]
    },
    {
     "name": "stdout",
     "output_type": "stream",
     "text": [
      "epoch: 4, [batch: 3360 / 33600], examples_per_second: 3227.1650, train_label_loss: 0.5983, \n"
     ]
    },
    {
     "name": "stdout",
     "output_type": "stream",
     "text": [
      "epoch: 4, [batch: 6720 / 33600], examples_per_second: 3236.4600, train_label_loss: 1.0982, \n"
     ]
    },
    {
     "name": "stdout",
     "output_type": "stream",
     "text": [
      "epoch: 4, [batch: 10080 / 33600], examples_per_second: 3232.6776, train_label_loss: 0.5523, \n"
     ]
    },
    {
     "name": "stdout",
     "output_type": "stream",
     "text": [
      "epoch: 4, [batch: 13440 / 33600], examples_per_second: 3218.8597, train_label_loss: 0.4250, \n"
     ]
    },
    {
     "name": "stdout",
     "output_type": "stream",
     "text": [
      "epoch: 4, [batch: 16800 / 33600], examples_per_second: 3241.4357, train_label_loss: 0.7232, \n"
     ]
    },
    {
     "name": "stdout",
     "output_type": "stream",
     "text": [
      "epoch: 4, [batch: 20160 / 33600], examples_per_second: 3240.0348, train_label_loss: 0.4910, \n"
     ]
    },
    {
     "name": "stdout",
     "output_type": "stream",
     "text": [
      "epoch: 4, [batch: 23520 / 33600], examples_per_second: 3230.1914, train_label_loss: 0.2647, \n"
     ]
    },
    {
     "name": "stdout",
     "output_type": "stream",
     "text": [
      "epoch: 4, [batch: 26880 / 33600], examples_per_second: 3239.1073, train_label_loss: 0.7497, \n"
     ]
    },
    {
     "name": "stdout",
     "output_type": "stream",
     "text": [
      "epoch: 4, [batch: 30240 / 33600], examples_per_second: 3244.0422, train_label_loss: 0.4597, \n"
     ]
    },
    {
     "name": "stdout",
     "output_type": "stream",
     "text": [
      "=============================================================\n",
      "epoch: 4, source_val_acc_label: 0.7233, target_val_acc_label: 0.7054, source_val_label_loss: 0.7552, target_val_label_loss: 0.8404, \n",
      "=============================================================\n"
     ]
    },
    {
     "name": "stdout",
     "output_type": "stream",
     "text": [
      "New best\n"
     ]
    },
    {
     "name": "stdout",
     "output_type": "stream",
     "text": [
      "epoch: 5, [batch: 1 / 33600], examples_per_second: 0.9672, train_label_loss: 0.9184, \n"
     ]
    },
    {
     "name": "stdout",
     "output_type": "stream",
     "text": [
      "epoch: 5, [batch: 3360 / 33600], examples_per_second: 3238.0859, train_label_loss: 0.4999, \n"
     ]
    },
    {
     "name": "stdout",
     "output_type": "stream",
     "text": [
      "epoch: 5, [batch: 6720 / 33600], examples_per_second: 3235.2819, train_label_loss: 0.3235, \n"
     ]
    },
    {
     "name": "stdout",
     "output_type": "stream",
     "text": [
      "epoch: 5, [batch: 10080 / 33600], examples_per_second: 3244.5580, train_label_loss: 0.5013, \n"
     ]
    },
    {
     "name": "stdout",
     "output_type": "stream",
     "text": [
      "epoch: 5, [batch: 13440 / 33600], examples_per_second: 3230.0846, train_label_loss: 0.8438, \n"
     ]
    },
    {
     "name": "stdout",
     "output_type": "stream",
     "text": [
      "epoch: 5, [batch: 16800 / 33600], examples_per_second: 3236.7946, train_label_loss: 0.7919, \n"
     ]
    },
    {
     "name": "stdout",
     "output_type": "stream",
     "text": [
      "epoch: 5, [batch: 20160 / 33600], examples_per_second: 3232.1795, train_label_loss: 0.6541, \n"
     ]
    },
    {
     "name": "stdout",
     "output_type": "stream",
     "text": [
      "epoch: 5, [batch: 23520 / 33600], examples_per_second: 3233.4692, train_label_loss: 0.6273, \n"
     ]
    },
    {
     "name": "stdout",
     "output_type": "stream",
     "text": [
      "epoch: 5, [batch: 26880 / 33600], examples_per_second: 3241.4050, train_label_loss: 0.2865, \n"
     ]
    },
    {
     "name": "stdout",
     "output_type": "stream",
     "text": [
      "epoch: 5, [batch: 30240 / 33600], examples_per_second: 3245.9453, train_label_loss: 0.6864, \n"
     ]
    },
    {
     "name": "stdout",
     "output_type": "stream",
     "text": [
      "=============================================================\n",
      "epoch: 5, source_val_acc_label: 0.7316, target_val_acc_label: 0.7156, source_val_label_loss: 0.7369, target_val_label_loss: 0.8195, \n",
      "=============================================================\n"
     ]
    },
    {
     "name": "stdout",
     "output_type": "stream",
     "text": [
      "New best\n"
     ]
    },
    {
     "name": "stdout",
     "output_type": "stream",
     "text": [
      "epoch: 6, [batch: 1 / 33600], examples_per_second: 0.9677, train_label_loss: 0.4085, \n"
     ]
    },
    {
     "name": "stdout",
     "output_type": "stream",
     "text": [
      "epoch: 6, [batch: 3360 / 33600], examples_per_second: 3235.9243, train_label_loss: 0.7117, \n"
     ]
    },
    {
     "name": "stdout",
     "output_type": "stream",
     "text": [
      "epoch: 6, [batch: 6720 / 33600], examples_per_second: 3228.4552, train_label_loss: 0.6797, \n"
     ]
    },
    {
     "name": "stdout",
     "output_type": "stream",
     "text": [
      "epoch: 6, [batch: 10080 / 33600], examples_per_second: 3240.3544, train_label_loss: 0.4770, \n"
     ]
    },
    {
     "name": "stdout",
     "output_type": "stream",
     "text": [
      "epoch: 6, [batch: 13440 / 33600], examples_per_second: 3231.3521, train_label_loss: 0.5089, \n"
     ]
    },
    {
     "name": "stdout",
     "output_type": "stream",
     "text": [
      "epoch: 6, [batch: 16800 / 33600], examples_per_second: 3243.0841, train_label_loss: 0.3915, \n"
     ]
    },
    {
     "name": "stdout",
     "output_type": "stream",
     "text": [
      "epoch: 6, [batch: 20160 / 33600], examples_per_second: 3241.5929, train_label_loss: 0.7471, \n"
     ]
    },
    {
     "name": "stdout",
     "output_type": "stream",
     "text": [
      "epoch: 6, [batch: 23520 / 33600], examples_per_second: 3236.6204, train_label_loss: 0.5348, \n"
     ]
    },
    {
     "name": "stdout",
     "output_type": "stream",
     "text": [
      "epoch: 6, [batch: 26880 / 33600], examples_per_second: 3240.3189, train_label_loss: 0.5271, \n"
     ]
    },
    {
     "name": "stdout",
     "output_type": "stream",
     "text": [
      "epoch: 6, [batch: 30240 / 33600], examples_per_second: 3239.6684, train_label_loss: 0.4431, \n"
     ]
    },
    {
     "name": "stdout",
     "output_type": "stream",
     "text": [
      "=============================================================\n",
      "epoch: 6, source_val_acc_label: 0.7349, target_val_acc_label: 0.7183, source_val_label_loss: 0.7295, target_val_label_loss: 0.8126, \n",
      "=============================================================\n"
     ]
    },
    {
     "name": "stdout",
     "output_type": "stream",
     "text": [
      "New best\n"
     ]
    },
    {
     "name": "stdout",
     "output_type": "stream",
     "text": [
      "epoch: 7, [batch: 1 / 33600], examples_per_second: 0.9735, train_label_loss: 0.7033, \n"
     ]
    },
    {
     "name": "stdout",
     "output_type": "stream",
     "text": [
      "epoch: 7, [batch: 3360 / 33600], examples_per_second: 3234.1100, train_label_loss: 0.9870, \n"
     ]
    },
    {
     "name": "stdout",
     "output_type": "stream",
     "text": [
      "epoch: 7, [batch: 6720 / 33600], examples_per_second: 3233.2786, train_label_loss: 0.2287, \n"
     ]
    },
    {
     "name": "stdout",
     "output_type": "stream",
     "text": [
      "epoch: 7, [batch: 10080 / 33600], examples_per_second: 3239.3068, train_label_loss: 0.2965, \n"
     ]
    },
    {
     "name": "stdout",
     "output_type": "stream",
     "text": [
      "epoch: 7, [batch: 13440 / 33600], examples_per_second: 3225.7292, train_label_loss: 0.2164, \n"
     ]
    },
    {
     "name": "stdout",
     "output_type": "stream",
     "text": [
      "epoch: 7, [batch: 16800 / 33600], examples_per_second: 3243.9057, train_label_loss: 0.6078, \n"
     ]
    },
    {
     "name": "stdout",
     "output_type": "stream",
     "text": [
      "epoch: 7, [batch: 20160 / 33600], examples_per_second: 3240.8475, train_label_loss: 0.3938, \n"
     ]
    },
    {
     "name": "stdout",
     "output_type": "stream",
     "text": [
      "epoch: 7, [batch: 23520 / 33600], examples_per_second: 3233.5320, train_label_loss: 0.2249, \n"
     ]
    },
    {
     "name": "stdout",
     "output_type": "stream",
     "text": [
      "epoch: 7, [batch: 26880 / 33600], examples_per_second: 3235.5201, train_label_loss: 0.3369, \n"
     ]
    },
    {
     "name": "stdout",
     "output_type": "stream",
     "text": [
      "epoch: 7, [batch: 30240 / 33600], examples_per_second: 3247.3693, train_label_loss: 0.5060, \n"
     ]
    },
    {
     "name": "stdout",
     "output_type": "stream",
     "text": [
      "=============================================================\n",
      "epoch: 7, source_val_acc_label: 0.7346, target_val_acc_label: 0.7191, source_val_label_loss: 0.7442, target_val_label_loss: 0.8292, \n",
      "=============================================================\n"
     ]
    },
    {
     "name": "stdout",
     "output_type": "stream",
     "text": [
      "New best\n"
     ]
    },
    {
     "name": "stdout",
     "output_type": "stream",
     "text": [
      "epoch: 8, [batch: 1 / 33600], examples_per_second: 0.9641, train_label_loss: 0.4250, \n"
     ]
    },
    {
     "name": "stdout",
     "output_type": "stream",
     "text": [
      "epoch: 8, [batch: 3360 / 33600], examples_per_second: 3235.1298, train_label_loss: 0.2960, \n"
     ]
    },
    {
     "name": "stdout",
     "output_type": "stream",
     "text": [
      "epoch: 8, [batch: 6720 / 33600], examples_per_second: 3232.2799, train_label_loss: 0.3612, \n"
     ]
    },
    {
     "name": "stdout",
     "output_type": "stream",
     "text": [
      "epoch: 8, [batch: 10080 / 33600], examples_per_second: 3237.3952, train_label_loss: 0.2194, \n"
     ]
    },
    {
     "name": "stdout",
     "output_type": "stream",
     "text": [
      "epoch: 8, [batch: 13440 / 33600], examples_per_second: 3217.5410, train_label_loss: 0.4538, \n"
     ]
    },
    {
     "name": "stdout",
     "output_type": "stream",
     "text": [
      "epoch: 8, [batch: 16800 / 33600], examples_per_second: 3234.4259, train_label_loss: 0.1619, \n"
     ]
    },
    {
     "name": "stdout",
     "output_type": "stream",
     "text": [
      "epoch: 8, [batch: 20160 / 33600], examples_per_second: 3245.3231, train_label_loss: 0.1697, \n"
     ]
    },
    {
     "name": "stdout",
     "output_type": "stream",
     "text": [
      "epoch: 8, [batch: 23520 / 33600], examples_per_second: 3229.9730, train_label_loss: 0.6304, \n"
     ]
    },
    {
     "name": "stdout",
     "output_type": "stream",
     "text": [
      "epoch: 8, [batch: 26880 / 33600], examples_per_second: 3236.1536, train_label_loss: 0.5386, \n"
     ]
    },
    {
     "name": "stdout",
     "output_type": "stream",
     "text": [
      "epoch: 8, [batch: 30240 / 33600], examples_per_second: 3236.1971, train_label_loss: 0.4688, \n"
     ]
    },
    {
     "name": "stdout",
     "output_type": "stream",
     "text": [
      "=============================================================\n",
      "epoch: 8, source_val_acc_label: 0.7321, target_val_acc_label: 0.7159, source_val_label_loss: 0.7597, target_val_label_loss: 0.8461, \n",
      "=============================================================\n"
     ]
    },
    {
     "name": "stdout",
     "output_type": "stream",
     "text": [
      "epoch: 9, [batch: 1 / 33600], examples_per_second: 0.9703, train_label_loss: 0.8369, \n"
     ]
    },
    {
     "name": "stdout",
     "output_type": "stream",
     "text": [
      "epoch: 9, [batch: 3360 / 33600], examples_per_second: 3228.2946, train_label_loss: 0.2049, \n"
     ]
    },
    {
     "name": "stdout",
     "output_type": "stream",
     "text": [
      "epoch: 9, [batch: 6720 / 33600], examples_per_second: 3233.4232, train_label_loss: 0.4238, \n"
     ]
    },
    {
     "name": "stdout",
     "output_type": "stream",
     "text": [
      "epoch: 9, [batch: 10080 / 33600], examples_per_second: 3234.2115, train_label_loss: 0.4073, \n"
     ]
    },
    {
     "name": "stdout",
     "output_type": "stream",
     "text": [
      "epoch: 9, [batch: 13440 / 33600], examples_per_second: 3224.9945, train_label_loss: 0.4634, \n"
     ]
    },
    {
     "name": "stdout",
     "output_type": "stream",
     "text": [
      "epoch: 9, [batch: 16800 / 33600], examples_per_second: 3238.3697, train_label_loss: 0.6844, \n"
     ]
    },
    {
     "name": "stdout",
     "output_type": "stream",
     "text": [
      "epoch: 9, [batch: 20160 / 33600], examples_per_second: 3244.9947, train_label_loss: 0.2918, \n"
     ]
    },
    {
     "name": "stdout",
     "output_type": "stream",
     "text": [
      "epoch: 9, [batch: 23520 / 33600], examples_per_second: 3232.1568, train_label_loss: 0.3695, \n"
     ]
    },
    {
     "name": "stdout",
     "output_type": "stream",
     "text": [
      "epoch: 9, [batch: 26880 / 33600], examples_per_second: 3234.1219, train_label_loss: 0.1945, \n"
     ]
    },
    {
     "name": "stdout",
     "output_type": "stream",
     "text": [
      "epoch: 9, [batch: 30240 / 33600], examples_per_second: 3241.4597, train_label_loss: 0.1821, \n"
     ]
    },
    {
     "name": "stdout",
     "output_type": "stream",
     "text": [
      "=============================================================\n",
      "epoch: 9, source_val_acc_label: 0.7361, target_val_acc_label: 0.7201, source_val_label_loss: 0.7588, target_val_label_loss: 0.8477, \n",
      "=============================================================\n"
     ]
    },
    {
     "name": "stdout",
     "output_type": "stream",
     "text": [
      "New best\n"
     ]
    },
    {
     "name": "stdout",
     "output_type": "stream",
     "text": [
      "epoch: 10, [batch: 1 / 33600], examples_per_second: 0.9688, train_label_loss: 0.1623, \n"
     ]
    },
    {
     "name": "stdout",
     "output_type": "stream",
     "text": [
      "epoch: 10, [batch: 3360 / 33600], examples_per_second: 3224.7777, train_label_loss: 0.2526, \n"
     ]
    },
    {
     "name": "stdout",
     "output_type": "stream",
     "text": [
      "epoch: 10, [batch: 6720 / 33600], examples_per_second: 3236.2511, train_label_loss: 0.3608, \n"
     ]
    },
    {
     "name": "stdout",
     "output_type": "stream",
     "text": [
      "epoch: 10, [batch: 10080 / 33600], examples_per_second: 3230.3366, train_label_loss: 0.5657, \n"
     ]
    },
    {
     "name": "stdout",
     "output_type": "stream",
     "text": [
      "epoch: 10, [batch: 13440 / 33600], examples_per_second: 3218.0877, train_label_loss: 0.6069, \n"
     ]
    },
    {
     "name": "stdout",
     "output_type": "stream",
     "text": [
      "epoch: 10, [batch: 16800 / 33600], examples_per_second: 3238.3193, train_label_loss: 0.2946, \n"
     ]
    },
    {
     "name": "stdout",
     "output_type": "stream",
     "text": [
      "epoch: 10, [batch: 20160 / 33600], examples_per_second: 3239.7338, train_label_loss: 0.8667, \n"
     ]
    },
    {
     "name": "stdout",
     "output_type": "stream",
     "text": [
      "epoch: 10, [batch: 23520 / 33600], examples_per_second: 3229.8117, train_label_loss: 0.3322, \n"
     ]
    },
    {
     "name": "stdout",
     "output_type": "stream",
     "text": [
      "epoch: 10, [batch: 26880 / 33600], examples_per_second: 3236.3092, train_label_loss: 0.3450, \n"
     ]
    },
    {
     "name": "stdout",
     "output_type": "stream",
     "text": [
      "epoch: 10, [batch: 30240 / 33600], examples_per_second: 3236.3364, train_label_loss: 0.4694, \n"
     ]
    },
    {
     "name": "stdout",
     "output_type": "stream",
     "text": [
      "=============================================================\n",
      "epoch: 10, source_val_acc_label: 0.7311, target_val_acc_label: 0.7134, source_val_label_loss: 0.7859, target_val_label_loss: 0.8799, \n",
      "=============================================================\n"
     ]
    },
    {
     "name": "stdout",
     "output_type": "stream",
     "text": [
      "epoch: 11, [batch: 1 / 33600], examples_per_second: 0.9706, train_label_loss: 0.1759, \n"
     ]
    },
    {
     "name": "stdout",
     "output_type": "stream",
     "text": [
      "epoch: 11, [batch: 3360 / 33600], examples_per_second: 3237.3845, train_label_loss: 0.3740, \n"
     ]
    },
    {
     "name": "stdout",
     "output_type": "stream",
     "text": [
      "epoch: 11, [batch: 6720 / 33600], examples_per_second: 3230.2978, train_label_loss: 0.2448, \n"
     ]
    },
    {
     "name": "stdout",
     "output_type": "stream",
     "text": [
      "epoch: 11, [batch: 10080 / 33600], examples_per_second: 3239.6753, train_label_loss: 0.2783, \n"
     ]
    },
    {
     "name": "stdout",
     "output_type": "stream",
     "text": [
      "epoch: 11, [batch: 13440 / 33600], examples_per_second: 3226.3603, train_label_loss: 0.1413, \n"
     ]
    },
    {
     "name": "stdout",
     "output_type": "stream",
     "text": [
      "epoch: 11, [batch: 16800 / 33600], examples_per_second: 3237.4217, train_label_loss: 0.1482, \n"
     ]
    },
    {
     "name": "stdout",
     "output_type": "stream",
     "text": [
      "epoch: 11, [batch: 20160 / 33600], examples_per_second: 3240.5339, train_label_loss: 0.3573, \n"
     ]
    },
    {
     "name": "stdout",
     "output_type": "stream",
     "text": [
      "epoch: 11, [batch: 23520 / 33600], examples_per_second: 3231.4306, train_label_loss: 0.5490, \n"
     ]
    },
    {
     "name": "stdout",
     "output_type": "stream",
     "text": [
      "epoch: 11, [batch: 26880 / 33600], examples_per_second: 3238.2795, train_label_loss: 0.3122, \n"
     ]
    },
    {
     "name": "stdout",
     "output_type": "stream",
     "text": [
      "epoch: 11, [batch: 30240 / 33600], examples_per_second: 3244.9057, train_label_loss: 0.7015, \n"
     ]
    },
    {
     "name": "stdout",
     "output_type": "stream",
     "text": [
      "=============================================================\n",
      "epoch: 11, source_val_acc_label: 0.7304, target_val_acc_label: 0.7141, source_val_label_loss: 0.8080, target_val_label_loss: 0.9029, \n",
      "=============================================================\n"
     ]
    },
    {
     "name": "stdout",
     "output_type": "stream",
     "text": [
      "epoch: 12, [batch: 1 / 33600], examples_per_second: 0.9700, train_label_loss: 0.2890, \n"
     ]
    },
    {
     "name": "stdout",
     "output_type": "stream",
     "text": [
      "epoch: 12, [batch: 3360 / 33600], examples_per_second: 3233.9365, train_label_loss: 0.3086, \n"
     ]
    },
    {
     "name": "stdout",
     "output_type": "stream",
     "text": [
      "epoch: 12, [batch: 6720 / 33600], examples_per_second: 3240.8962, train_label_loss: 0.3897, \n"
     ]
    },
    {
     "name": "stdout",
     "output_type": "stream",
     "text": [
      "epoch: 12, [batch: 10080 / 33600], examples_per_second: 3231.4488, train_label_loss: 0.2561, \n"
     ]
    },
    {
     "name": "stdout",
     "output_type": "stream",
     "text": [
      "epoch: 12, [batch: 13440 / 33600], examples_per_second: 3227.8989, train_label_loss: 0.3159, \n"
     ]
    },
    {
     "name": "stdout",
     "output_type": "stream",
     "text": [
      "epoch: 12, [batch: 16800 / 33600], examples_per_second: 3238.4437, train_label_loss: 0.2100, \n"
     ]
    },
    {
     "name": "stdout",
     "output_type": "stream",
     "text": [
      "epoch: 12, [batch: 20160 / 33600], examples_per_second: 3245.0012, train_label_loss: 0.2532, \n"
     ]
    },
    {
     "name": "stdout",
     "output_type": "stream",
     "text": [
      "epoch: 12, [batch: 23520 / 33600], examples_per_second: 3233.9762, train_label_loss: 0.4237, \n"
     ]
    },
    {
     "name": "stdout",
     "output_type": "stream",
     "text": [
      "epoch: 12, [batch: 26880 / 33600], examples_per_second: 3239.9164, train_label_loss: 0.4771, \n"
     ]
    },
    {
     "name": "stdout",
     "output_type": "stream",
     "text": [
      "epoch: 12, [batch: 30240 / 33600], examples_per_second: 3237.0152, train_label_loss: 0.7545, \n"
     ]
    },
    {
     "name": "stdout",
     "output_type": "stream",
     "text": [
      "=============================================================\n",
      "epoch: 12, source_val_acc_label: 0.7324, target_val_acc_label: 0.7168, source_val_label_loss: 0.8470, target_val_label_loss: 0.9473, \n",
      "=============================================================\n"
     ]
    },
    {
     "name": "stdout",
     "output_type": "stream",
     "text": [
      "epoch: 13, [batch: 1 / 33600], examples_per_second: 0.9690, train_label_loss: 0.5653, \n"
     ]
    },
    {
     "name": "stdout",
     "output_type": "stream",
     "text": [
      "epoch: 13, [batch: 3360 / 33600], examples_per_second: 3232.6129, train_label_loss: 0.1937, \n"
     ]
    },
    {
     "name": "stdout",
     "output_type": "stream",
     "text": [
      "epoch: 13, [batch: 6720 / 33600], examples_per_second: 3234.6375, train_label_loss: 0.3420, \n"
     ]
    },
    {
     "name": "stdout",
     "output_type": "stream",
     "text": [
      "epoch: 13, [batch: 10080 / 33600], examples_per_second: 3228.9205, train_label_loss: 0.4606, \n"
     ]
    },
    {
     "name": "stdout",
     "output_type": "stream",
     "text": [
      "epoch: 13, [batch: 13440 / 33600], examples_per_second: 3224.6244, train_label_loss: 0.3561, \n"
     ]
    },
    {
     "name": "stdout",
     "output_type": "stream",
     "text": [
      "epoch: 13, [batch: 16800 / 33600], examples_per_second: 3232.5476, train_label_loss: 0.3589, \n"
     ]
    },
    {
     "name": "stdout",
     "output_type": "stream",
     "text": [
      "epoch: 13, [batch: 20160 / 33600], examples_per_second: 3235.9732, train_label_loss: 0.5610, \n"
     ]
    },
    {
     "name": "stdout",
     "output_type": "stream",
     "text": [
      "epoch: 13, [batch: 23520 / 33600], examples_per_second: 3238.7457, train_label_loss: 0.2885, \n"
     ]
    },
    {
     "name": "stdout",
     "output_type": "stream",
     "text": [
      "epoch: 13, [batch: 26880 / 33600], examples_per_second: 3240.6366, train_label_loss: 0.0834, \n"
     ]
    },
    {
     "name": "stdout",
     "output_type": "stream",
     "text": [
      "epoch: 13, [batch: 30240 / 33600], examples_per_second: 3242.9626, train_label_loss: 0.1031, \n"
     ]
    },
    {
     "name": "stdout",
     "output_type": "stream",
     "text": [
      "=============================================================\n",
      "epoch: 13, source_val_acc_label: 0.7271, target_val_acc_label: 0.7117, source_val_label_loss: 0.8580, target_val_label_loss: 0.9560, \n",
      "=============================================================\n"
     ]
    },
    {
     "name": "stdout",
     "output_type": "stream",
     "text": [
      "Patience (3) exhausted\n"
     ]
    }
   ],
   "source": [
    "###################################\n",
    "# train\n",
    "###################################\n",
    "jig = PTN_Train_Eval_Test_Jig(model, p.BEST_MODEL_PATH, p.device)\n",
    "\n",
    "jig.train(\n",
    "    train_iterable=datasets.source.processed.train,\n",
    "    source_val_iterable=datasets.source.processed.val,\n",
    "    target_val_iterable=datasets.target.processed.val,\n",
    "    num_epochs=p.n_epoch,\n",
    "    num_logs_per_epoch=p.NUM_LOGS_PER_EPOCH,\n",
    "    patience=p.patience,\n",
    "    optimizer=optimizer,\n",
    "    criteria_for_best=p.criteria_for_best,\n",
    ")"
   ]
  },
  {
   "cell_type": "code",
   "execution_count": 23,
   "id": "31e8fabf",
   "metadata": {
    "execution": {
     "iopub.execute_input": "2022-03-23T10:23:43.645451Z",
     "iopub.status.busy": "2022-03-23T10:23:43.645200Z",
     "iopub.status.idle": "2022-03-23T10:23:43.663045Z",
     "shell.execute_reply": "2022-03-23T10:23:43.663394Z"
    },
    "papermill": {
     "duration": 0.06103,
     "end_time": "2022-03-23T10:23:43.663508",
     "exception": false,
     "start_time": "2022-03-23T10:23:43.602478",
     "status": "completed"
    },
    "tags": []
   },
   "outputs": [],
   "source": [
    "total_experiment_time_secs = time.time() - start_time_secs"
   ]
  },
  {
   "cell_type": "code",
   "execution_count": 24,
   "id": "87b9595b",
   "metadata": {
    "execution": {
     "iopub.execute_input": "2022-03-23T10:23:43.754231Z",
     "iopub.status.busy": "2022-03-23T10:23:43.750109Z",
     "iopub.status.idle": "2022-03-23T10:31:45.301044Z",
     "shell.execute_reply": "2022-03-23T10:31:45.300598Z"
    },
    "papermill": {
     "duration": 481.592534,
     "end_time": "2022-03-23T10:31:45.301150",
     "exception": false,
     "start_time": "2022-03-23T10:23:43.708616",
     "status": "completed"
    },
    "tags": []
   },
   "outputs": [],
   "source": [
    "###################################\n",
    "# Evaluate the model\n",
    "###################################\n",
    "source_test_label_accuracy, source_test_label_loss = jig.test(datasets.source.processed.test)\n",
    "target_test_label_accuracy, target_test_label_loss = jig.test(datasets.target.processed.test)\n",
    "\n",
    "source_val_label_accuracy, source_val_label_loss = jig.test(datasets.source.processed.val)\n",
    "target_val_label_accuracy, target_val_label_loss = jig.test(datasets.target.processed.val)\n",
    "\n",
    "history = jig.get_history()\n",
    "\n",
    "total_epochs_trained = len(history[\"epoch_indices\"])\n",
    "\n",
    "val_dl = Iterable_Aggregator((datasets.source.original.val,datasets.target.original.val))\n",
    "\n",
    "confusion = ptn_confusion_by_domain_over_dataloader(model, p.device, val_dl)\n",
    "per_domain_accuracy = per_domain_accuracy_from_confusion(confusion)\n",
    "\n",
    "# Add a key to per_domain_accuracy for if it was a source domain\n",
    "for domain, accuracy in per_domain_accuracy.items():\n",
    "    per_domain_accuracy[domain] = {\n",
    "        \"accuracy\": accuracy,\n",
    "        \"source?\": domain in p.domains_source\n",
    "    }\n",
    "\n",
    "# Do an independent accuracy assesment JUST TO BE SURE!\n",
    "# _source_test_label_accuracy = independent_accuracy_assesment(model, datasets.source.processed.test, p.device)\n",
    "# _target_test_label_accuracy = independent_accuracy_assesment(model, datasets.target.processed.test, p.device)\n",
    "# _source_val_label_accuracy = independent_accuracy_assesment(model, datasets.source.processed.val, p.device)\n",
    "# _target_val_label_accuracy = independent_accuracy_assesment(model, datasets.target.processed.val, p.device)\n",
    "\n",
    "# assert(_source_test_label_accuracy == source_test_label_accuracy)\n",
    "# assert(_target_test_label_accuracy == target_test_label_accuracy)\n",
    "# assert(_source_val_label_accuracy == source_val_label_accuracy)\n",
    "# assert(_target_val_label_accuracy == target_val_label_accuracy)\n",
    "\n",
    "experiment = {\n",
    "    \"experiment_name\": p.experiment_name,\n",
    "    \"parameters\": dict(p),\n",
    "    \"results\": {\n",
    "        \"source_test_label_accuracy\": source_test_label_accuracy,\n",
    "        \"source_test_label_loss\": source_test_label_loss,\n",
    "        \"target_test_label_accuracy\": target_test_label_accuracy,\n",
    "        \"target_test_label_loss\": target_test_label_loss,\n",
    "        \"source_val_label_accuracy\": source_val_label_accuracy,\n",
    "        \"source_val_label_loss\": source_val_label_loss,\n",
    "        \"target_val_label_accuracy\": target_val_label_accuracy,\n",
    "        \"target_val_label_loss\": target_val_label_loss,\n",
    "        \"total_epochs_trained\": total_epochs_trained,\n",
    "        \"total_experiment_time_secs\": total_experiment_time_secs,\n",
    "        \"confusion\": confusion,\n",
    "        \"per_domain_accuracy\": per_domain_accuracy,\n",
    "    },\n",
    "    \"history\": history,\n",
    "    \"dataset_metrics\": get_dataset_metrics(datasets, \"ptn\"),\n",
    "}"
   ]
  },
  {
   "cell_type": "code",
   "execution_count": 25,
   "id": "54a21829",
   "metadata": {
    "execution": {
     "iopub.execute_input": "2022-03-23T10:31:45.392517Z",
     "iopub.status.busy": "2022-03-23T10:31:45.392263Z",
     "iopub.status.idle": "2022-03-23T10:31:45.527170Z",
     "shell.execute_reply": "2022-03-23T10:31:45.527570Z"
    },
    "papermill": {
     "duration": 0.178878,
     "end_time": "2022-03-23T10:31:45.527699",
     "exception": false,
     "start_time": "2022-03-23T10:31:45.348821",
     "status": "completed"
    },
    "tags": []
   },
   "outputs": [
    {
     "data": {
      "image/png": "[encoded data removed]",
      "text/plain": [
       "<Figure size 1080x504 with 1 Axes>"
      ]
     },
     "metadata": {
      "needs_background": "light"
     },
     "output_type": "display_data"
    }
   ],
   "source": [
    "ax = get_loss_curve(experiment)\n",
    "plt.show()"
   ]
  },
  {
   "cell_type": "code",
   "execution_count": 26,
   "id": "fd8a0f60",
   "metadata": {
    "execution": {
     "iopub.execute_input": "2022-03-23T10:31:45.617404Z",
     "iopub.status.busy": "2022-03-23T10:31:45.617149Z",
     "iopub.status.idle": "2022-03-23T10:31:45.765006Z",
     "shell.execute_reply": "2022-03-23T10:31:45.764773Z"
    },
    "papermill": {
     "duration": 0.191836,
     "end_time": "2022-03-23T10:31:45.765067",
     "exception": false,
     "start_time": "2022-03-23T10:31:45.573231",
     "status": "completed"
    },
    "tags": []
   },
   "outputs": [
    {
     "data": {
      "text/plain": [
       "<AxesSubplot:title={'center':'Results'}>"
      ]
     },
     "execution_count": 26,
     "metadata": {},
     "output_type": "execute_result"
    },
    {
     "data": {
      "image/png": "[encoded data removed]",
      "text/plain": [
       "<Figure size 1080x504 with 1 Axes>"
      ]
     },
     "metadata": {
      "needs_background": "light"
     },
     "output_type": "display_data"
    }
   ],
   "source": [
    "get_results_table(experiment)"
   ]
  },
  {
   "cell_type": "code",
   "execution_count": 27,
   "id": "cf8dc689",
   "metadata": {
    "execution": {
     "iopub.execute_input": "2022-03-23T10:31:45.854876Z",
     "iopub.status.busy": "2022-03-23T10:31:45.854218Z",
     "iopub.status.idle": "2022-03-23T10:31:46.021568Z",
     "shell.execute_reply": "2022-03-23T10:31:46.021989Z"
    },
    "papermill": {
     "duration": 0.212261,
     "end_time": "2022-03-23T10:31:46.022136",
     "exception": false,
     "start_time": "2022-03-23T10:31:45.809875",
     "status": "completed"
    },
    "tags": []
   },
   "outputs": [
    {
     "data": {
      "text/plain": [
       "<AxesSubplot:title={'center':'Per Domain Validation Accuracy'}, xlabel='domain'>"
      ]
     },
     "execution_count": 27,
     "metadata": {},
     "output_type": "execute_result"
    },
    {
     "data": {
      "image/png": "[encoded data removed]",
      "text/plain": [
       "<Figure size 1080x504 with 1 Axes>"
      ]
     },
     "metadata": {
      "needs_background": "light"
     },
     "output_type": "display_data"
    }
   ],
   "source": [
    "get_domain_accuracies(experiment)"
   ]
  },
  {
   "cell_type": "code",
   "execution_count": 28,
   "id": "a74ae082",
   "metadata": {
    "execution": {
     "iopub.execute_input": "2022-03-23T10:31:46.116852Z",
     "iopub.status.busy": "2022-03-23T10:31:46.115586Z",
     "iopub.status.idle": "2022-03-23T10:31:46.135361Z",
     "shell.execute_reply": "2022-03-23T10:31:46.135747Z"
    },
    "papermill": {
     "duration": 0.065445,
     "end_time": "2022-03-23T10:31:46.135877",
     "exception": false,
     "start_time": "2022-03-23T10:31:46.070432",
     "status": "completed"
    },
    "tags": []
   },
   "outputs": [
    {
     "name": "stdout",
     "output_type": "stream",
     "text": [
      "Source Test Label Accuracy: 0.73640625 Target Test Label Accuracy: 0.7199544270833333\n",
      "Source Val Label Accuracy: 0.7361002604166667 Target Val Label Accuracy: 0.7200911458333333\n"
     ]
    }
   ],
   "source": [
    "print(\"Source Test Label Accuracy:\", experiment[\"results\"][\"source_test_label_accuracy\"], \"Target Test Label Accuracy:\", experiment[\"results\"][\"target_test_label_accuracy\"])\n",
    "print(\"Source Val Label Accuracy:\", experiment[\"results\"][\"source_val_label_accuracy\"], \"Target Val Label Accuracy:\", experiment[\"results\"][\"target_val_label_accuracy\"])"
   ]
  },
  {
   "cell_type": "code",
   "execution_count": 29,
   "id": "dacca602",
   "metadata": {
    "execution": {
     "iopub.execute_input": "2022-03-23T10:31:46.227971Z",
     "iopub.status.busy": "2022-03-23T10:31:46.227318Z",
     "iopub.status.idle": "2022-03-23T10:31:46.245691Z",
     "shell.execute_reply": "2022-03-23T10:31:46.246127Z"
    },
    "papermill": {
     "duration": 0.064624,
     "end_time": "2022-03-23T10:31:46.246253",
     "exception": false,
     "start_time": "2022-03-23T10:31:46.181629",
     "status": "completed"
    },
    "tags": [
     "experiment_json"
    ]
   },
   "outputs": [
    {
     "data": {
      "text/plain": [
       "'{\"experiment_name\": \"tl_1v2:oracle.run1-oracle.run2\", \"parameters\": {\"experiment_name\": \"tl_1v2:oracle.run1-oracle.run2\", \"device\": \"cuda\", \"lr\": 0.0001, \"n_shot\": 3, \"n_query\": 2, \"train_k_factor\": 3, \"val_k_factor\": 2, \"test_k_factor\": 2, \"torch_default_dtype\": \"torch.float32\", \"n_epoch\": 50, \"patience\": 3, \"criteria_for_best\": \"target_accuracy\", \"x_net\": [{\"class\": \"nnReshape\", \"kargs\": {\"shape\": [-1, 1, 2, 256]}}, {\"class\": \"Conv2d\", \"kargs\": {\"in_channels\": 1, \"out_channels\": 256, \"kernel_size\": [1, 7], \"bias\": false, \"padding\": [0, 3]}}, {\"class\": \"ReLU\", \"kargs\": {\"inplace\": true}}, {\"class\": \"BatchNorm2d\", \"kargs\": {\"num_features\": 256}}, {\"class\": \"Conv2d\", \"kargs\": {\"in_channels\": 256, \"out_channels\": 80, \"kernel_size\": [2, 7], \"bias\": true, \"padding\": [0, 3]}}, {\"class\": \"ReLU\", \"kargs\": {\"inplace\": true}}, {\"class\": \"BatchNorm2d\", \"kargs\": {\"num_features\": 80}}, {\"class\": \"Flatten\", \"kargs\": {}}, {\"class\": \"Linear\", \"kargs\": {\"in_features\": 20480, \"out_features\": 256}}, {\"class\": \"ReLU\", \"kargs\": {\"inplace\": true}}, {\"class\": \"BatchNorm1d\", \"kargs\": {\"num_features\": 256}}, {\"class\": \"Linear\", \"kargs\": {\"in_features\": 256, \"out_features\": 256}}], \"NUM_LOGS_PER_EPOCH\": 10, \"BEST_MODEL_PATH\": \"./best_model.pth\", \"n_way\": 16, \"datasets\": [{\"labels\": [\"3123D52\", \"3123D65\", \"3123D79\", \"3123D80\", \"3123D54\", \"3123D70\", \"3123D7B\", \"3123D89\", \"3123D58\", \"3123D76\", \"3123D7D\", \"3123EFE\", \"3123D64\", \"3123D78\", \"3123D7E\", \"3124E4A\"], \"domains\": [32, 38, 8, 44, 14, 50, 20, 26], \"num_examples_per_domain_per_label\": 10000, \"pickle_path\": \"/mnt/wd500GB/CSC500/csc500-main/datasets/oracle.Run1_10kExamples_stratified_ds.2022A.pkl\", \"source_or_target_dataset\": \"source\", \"x_transforms\": [\"unit_mag\"], \"episode_transforms\": [], \"domain_prefix\": \"ORACLE.run1_\"}, {\"labels\": [\"3123D52\", \"3123D65\", \"3123D79\", \"3123D80\", \"3123D54\", \"3123D70\", \"3123D7B\", \"3123D89\", \"3123D58\", \"3123D76\", \"3123D7D\", \"3123EFE\", \"3123D64\", \"3123D78\", \"3123D7E\", \"3124E4A\"], \"domains\": [32, 38, 8, 44, 14, 50, 20, 26], \"num_examples_per_domain_per_label\": 10000, \"pickle_path\": \"/mnt/wd500GB/CSC500/csc500-main/datasets/oracle.Run2_10kExamples_stratified_ds.2022A.pkl\", \"source_or_target_dataset\": \"target\", \"x_transforms\": [\"unit_mag\"], \"episode_transforms\": [], \"domain_prefix\": \"ORACLE.run2_\"}], \"dataset_seed\": 1337, \"seed\": 1337, \"x_shape\": [2, 256], \"domains_source\": [\"ORACLE.run1_32\", \"ORACLE.run1_38\", \"ORACLE.run1_8\", \"ORACLE.run1_44\", \"ORACLE.run1_14\", \"ORACLE.run1_50\", \"ORACLE.run1_20\", \"ORACLE.run1_26\"], \"domains_target\": [\"ORACLE.run2_32\", \"ORACLE.run2_38\", \"ORACLE.run2_8\", \"ORACLE.run2_44\", \"ORACLE.run2_14\", \"ORACLE.run2_50\", \"ORACLE.run2_20\", \"ORACLE.run2_26\"]}, \"results\": {\"source_test_label_accuracy\": 0.73640625, \"source_test_label_loss\": 0.7576264142990112, \"target_test_label_accuracy\": 0.7199544270833333, \"target_test_label_loss\": 0.8428669571876526, \"source_val_label_accuracy\": 0.7361002604166667, \"source_val_label_loss\": 0.758840024471283, \"target_val_label_accuracy\": 0.7200911458333333, \"target_val_label_loss\": 0.8477479815483093, \"total_epochs_trained\": 13, \"total_experiment_time_secs\": 12070.347101449966, \"confusion\": {\"ORACLE.run1_14\": {\"15\": {\"15\": 1165, \"7\": 34, \"5\": 1}, \"3\": {\"3\": 1039, \"4\": 107, \"14\": 32, \"2\": 17, \"10\": 1, \"0\": 2, \"5\": 1, \"1\": 1}, \"6\": {\"13\": 450, \"6\": 676, \"2\": 43, \"14\": 30, \"4\": 1}, \"1\": {\"1\": 1081, \"5\": 108, \"4\": 10, \"7\": 1}, \"8\": {\"8\": 1200}, \"10\": {\"10\": 1170, \"0\": 30}, \"9\": {\"9\": 1194, \"11\": 2, \"12\": 4}, \"13\": {\"6\": 500, \"2\": 121, \"13\": 409, \"14\": 152, \"5\": 9, \"4\": 8, \"3\": 1}, \"12\": {\"12\": 1196, \"9\": 4}, \"5\": {\"5\": 793, \"2\": 58, \"4\": 193, \"1\": 139, \"7\": 1, \"3\": 11, \"15\": 4, \"14\": 1}, \"0\": {\"3\": 22, \"10\": 60, \"0\": 1094, \"11\": 22, \"14\": 2}, \"2\": {\"2\": 632, \"13\": 70, \"3\": 47, \"14\": 174, \"4\": 85, \"5\": 105, \"7\": 1, \"6\": 58, \"15\": 28}, \"11\": {\"11\": 1099, \"0\": 48, \"9\": 51, \"10\": 2}, \"14\": {\"14\": 1027, \"13\": 66, \"2\": 62, \"6\": 29, \"3\": 15, \"4\": 1}, \"7\": {\"7\": 1167, \"15\": 22, \"5\": 5, \"1\": 6}, \"4\": {\"4\": 899, \"5\": 135, \"2\": 44, \"3\": 94, \"1\": 23, \"14\": 2, \"6\": 2, \"13\": 1}}, \"ORACLE.run1_20\": {\"3\": {\"12\": 264, \"9\": 197, \"2\": 67, \"3\": 499, \"5\": 29, \"15\": 1, \"1\": 26, \"4\": 68, \"7\": 36, \"0\": 4, \"8\": 7, \"10\": 2}, \"15\": {\"15\": 736, \"1\": 235, \"5\": 90, \"0\": 65, \"13\": 44, \"2\": 6, \"12\": 16, \"9\": 5, \"3\": 3}, \"8\": {\"4\": 123, \"14\": 40, \"8\": 925, \"7\": 69, \"10\": 13, \"3\": 18, \"6\": 6, \"5\": 1, \"12\": 2, \"0\": 2, \"2\": 1}, \"4\": {\"4\": 990, \"3\": 50, \"8\": 115, \"10\": 27, \"12\": 10, \"5\": 4, \"0\": 1, \"2\": 1, \"9\": 2}, \"14\": {\"14\": 982, \"6\": 128, \"8\": 23, \"10\": 67}, \"0\": {\"0\": 741, \"12\": 15, \"5\": 274, \"13\": 8, \"3\": 12, \"15\": 103, \"4\": 8, \"7\": 8, \"1\": 21, \"8\": 5, \"2\": 4, \"9\": 1}, \"7\": {\"7\": 911, \"6\": 12, \"2\": 129, \"8\": 68, \"9\": 40, \"3\": 26, \"10\": 3, \"4\": 4, \"5\": 1, \"11\": 1, \"14\": 2, \"13\": 1, \"12\": 2}, \"6\": {\"6\": 1055, \"7\": 14, \"14\": 123, \"8\": 6, \"10\": 2}, \"10\": {\"10\": 1100, \"4\": 16, \"14\": 72, \"7\": 1, \"8\": 10, \"3\": 1}, \"5\": {\"5\": 585, \"15\": 103, \"12\": 100, \"3\": 34, \"0\": 202, \"1\": 164, \"13\": 5, \"4\": 4, \"2\": 1, \"9\": 2}, \"2\": {\"7\": 170, \"9\": 279, \"2\": 586, \"12\": 46, \"13\": 44, \"3\": 65, \"5\": 3, \"15\": 2, \"1\": 3, \"4\": 1, \"8\": 1}, \"12\": {\"12\": 475, \"1\": 188, \"3\": 247, \"15\": 22, \"5\": 99, \"2\": 39, \"9\": 112, \"0\": 11, \"4\": 5, \"13\": 1, \"7\": 1}, \"9\": {\"3\": 203, \"9\": 510, \"2\": 289, \"12\": 125, \"1\": 16, \"7\": 42, \"13\": 7, \"4\": 2, \"8\": 2, \"15\": 3, \"5\": 1}, \"1\": {\"1\": 573, \"5\": 196, \"12\": 185, \"15\": 197, \"0\": 19, \"9\": 7, \"3\": 17, \"13\": 1, \"2\": 5}, \"11\": {\"11\": 1200}, \"13\": {\"13\": 1106, \"2\": 61, \"12\": 3, \"1\": 6, \"15\": 19, \"7\": 1, \"9\": 3, \"3\": 1}}, \"ORACLE.run1_38\": {\"5\": {\"5\": 550, \"8\": 317, \"6\": 42, \"13\": 6, \"9\": 44, \"7\": 122, \"0\": 53, \"15\": 53, \"1\": 7, \"10\": 5, \"3\": 1}, \"8\": {\"8\": 723, \"5\": 254, \"7\": 42, \"15\": 28, \"10\": 32, \"0\": 115, \"13\": 6}, \"11\": {\"11\": 1059, \"14\": 112, \"10\": 15, \"2\": 8, \"13\": 3, \"12\": 3}, \"1\": {\"15\": 49, \"1\": 1148, \"8\": 1, \"5\": 2}, \"10\": {\"10\": 972, \"13\": 119, \"7\": 12, \"8\": 40, \"0\": 20, \"15\": 9, \"14\": 10, \"11\": 4, \"12\": 10, \"5\": 2, \"2\": 1, \"4\": 1}, \"15\": {\"15\": 964, \"13\": 88, \"8\": 38, \"1\": 82, \"5\": 20, \"10\": 3, \"2\": 4, \"0\": 1}, \"3\": {\"3\": 1130, \"0\": 27, \"9\": 31, \"7\": 10, \"6\": 1, \"5\": 1}, \"7\": {\"5\": 52, \"0\": 112, \"7\": 982, \"3\": 1, \"8\": 47, \"10\": 1, \"9\": 5}, \"4\": {\"4\": 1142, \"12\": 52, \"7\": 2, \"10\": 3, \"0\": 1}, \"14\": {\"14\": 1106, \"11\": 20, \"2\": 58, \"10\": 8, \"13\": 5, \"12\": 3}, \"9\": {\"6\": 269, \"9\": 892, \"5\": 17, \"3\": 19, \"0\": 3}, \"12\": {\"12\": 1169, \"4\": 29, \"10\": 2}, \"6\": {\"6\": 1061, \"9\": 133, \"5\": 5, \"8\": 1}, \"2\": {\"2\": 1114, \"14\": 61, \"13\": 24, \"10\": 1}, \"0\": {\"8\": 224, \"0\": 623, \"7\": 182, \"3\": 65, \"5\": 78, \"10\": 21, \"15\": 1, \"12\": 3, \"6\": 2, \"13\": 1}, \"13\": {\"10\": 103, \"13\": 885, \"8\": 15, \"15\": 162, \"2\": 26, \"5\": 5, \"14\": 1, \"0\": 2, \"1\": 1}}, \"ORACLE.run1_8\": {\"9\": {\"9\": 1200}, \"10\": {\"10\": 814, \"14\": 222, \"5\": 22, \"13\": 111, \"4\": 27, \"0\": 3, \"1\": 1}, \"13\": {\"6\": 42, \"13\": 450, \"14\": 81, \"0\": 314, \"4\": 179, \"10\": 126, \"7\": 7, \"5\": 1}, \"0\": {\"0\": 759, \"13\": 232, \"7\": 87, \"4\": 39, \"6\": 68, \"10\": 13, \"14\": 2}, \"1\": {\"1\": 870, \"5\": 12, \"11\": 268, \"14\": 43, \"4\": 2, \"10\": 5}, \"15\": {\"15\": 896, \"12\": 255, \"8\": 36, \"3\": 8, \"2\": 3, \"7\": 2}, \"5\": {\"5\": 1067, \"1\": 59, \"10\": 53, \"11\": 6, \"14\": 15}, \"3\": {\"3\": 1039, \"2\": 99, \"12\": 60, \"15\": 2}, \"6\": {\"8\": 5, \"6\": 665, \"0\": 66, \"7\": 284, \"4\": 136, \"13\": 41, \"14\": 3}, \"11\": {\"11\": 869, \"1\": 305, \"14\": 7, \"8\": 7, \"5\": 11, \"4\": 1}, \"8\": {\"8\": 1144, \"15\": 49, \"6\": 4, \"12\": 3}, \"4\": {\"0\": 59, \"4\": 605, \"13\": 223, \"10\": 24, \"14\": 181, \"6\": 106, \"7\": 2}, \"12\": {\"12\": 637, \"15\": 396, \"8\": 23, \"3\": 135, \"2\": 7, \"7\": 1, \"6\": 1}, \"14\": {\"4\": 194, \"14\": 683, \"10\": 191, \"11\": 2, \"13\": 69, \"1\": 47, \"0\": 5, \"6\": 7, \"5\": 2}, \"2\": {\"2\": 1005, \"3\": 131, \"15\": 31, \"12\": 13, \"7\": 20}, \"7\": {\"7\": 869, \"6\": 292, \"0\": 35, \"4\": 2, \"13\": 1, \"2\": 1}}, \"ORACLE.run1_50\": {\"7\": {\"7\": 775, \"5\": 157, \"13\": 234, \"10\": 16, \"4\": 6, \"6\": 12}, \"3\": {\"3\": 1185, \"8\": 15}, \"8\": {\"8\": 1166, \"3\": 14, \"10\": 20}, \"2\": {\"2\": 1111, \"0\": 89}, \"14\": {\"14\": 1193, \"12\": 3, \"11\": 4}, \"4\": {\"4\": 605, \"5\": 126, \"15\": 175, \"6\": 92, \"1\": 148, \"13\": 26, \"7\": 27, \"11\": 1}, \"6\": {\"6\": 913, \"1\": 60, \"13\": 62, \"5\": 37, \"7\": 6, \"4\": 96, \"15\": 23, \"0\": 3}, \"15\": {\"15\": 932, \"4\": 75, \"1\": 165, \"6\": 17, \"11\": 10, \"5\": 1}, \"10\": {\"10\": 1103, \"0\": 33, \"7\": 16, \"13\": 24, \"8\": 23, \"5\": 1}, \"11\": {\"11\": 1072, \"15\": 29, \"9\": 86, \"14\": 9, \"12\": 2, \"1\": 2}, \"13\": {\"7\": 182, \"13\": 786, \"6\": 57, \"10\": 18, \"5\": 148, \"4\": 9}, \"9\": {\"9\": 950, \"11\": 167, \"12\": 82, \"14\": 1}, \"0\": {\"0\": 1055, \"2\": 90, \"10\": 50, \"13\": 5}, \"1\": {\"15\": 183, \"1\": 845, \"13\": 3, \"4\": 82, \"6\": 73, \"2\": 1, \"14\": 1, \"5\": 10, \"11\": 2}, \"12\": {\"12\": 1087, \"9\": 88, \"14\": 20, \"11\": 5}, \"5\": {\"1\": 59, \"5\": 501, \"7\": 229, \"4\": 136, \"13\": 200, \"6\": 65, \"10\": 9, \"0\": 1}}, \"ORACLE.run1_32\": {\"8\": {\"8\": 897, \"5\": 78, \"13\": 85, \"0\": 115, \"4\": 8, \"3\": 10, \"7\": 5, \"14\": 2}, \"14\": {\"14\": 596, \"11\": 291, \"7\": 185, \"5\": 19, \"13\": 42, \"0\": 34, \"3\": 6, \"4\": 10, \"2\": 9, \"8\": 8}, \"2\": {\"4\": 192, \"2\": 966, \"0\": 25, \"7\": 14, \"14\": 1, \"5\": 2}, \"0\": {\"0\": 877, \"5\": 35, \"8\": 101, \"7\": 41, \"2\": 36, \"13\": 15, \"4\": 75, \"14\": 20}, \"1\": {\"1\": 1188, \"10\": 12}, \"10\": {\"10\": 1193, \"1\": 7}, \"11\": {\"11\": 951, \"14\": 201, \"3\": 12, \"13\": 17, \"7\": 16, \"5\": 3}, \"5\": {\"7\": 169, \"13\": 239, \"5\": 479, \"8\": 79, \"3\": 36, \"4\": 117, \"11\": 5, \"0\": 40, \"14\": 23, \"2\": 13}, \"15\": {\"15\": 1190, \"8\": 10}, \"3\": {\"3\": 1112, \"13\": 51, \"11\": 13, \"5\": 12, \"14\": 4, \"8\": 8}, \"12\": {\"12\": 1200}, \"7\": {\"7\": 583, \"14\": 140, \"4\": 131, \"5\": 190, \"13\": 73, \"11\": 28, \"0\": 22, \"2\": 27, \"8\": 6}, \"13\": {\"8\": 60, \"13\": 608, \"5\": 210, \"4\": 88, \"3\": 87, \"11\": 26, \"7\": 82, \"0\": 21, \"14\": 18}, \"6\": {\"6\": 1200}, \"4\": {\"4\": 734, \"13\": 59, \"7\": 96, \"2\": 198, \"5\": 77, \"14\": 4, \"0\": 32}, \"9\": {\"9\": 1198, \"12\": 2}}, \"ORACLE.run1_26\": {\"4\": {\"7\": 65, \"4\": 497, \"1\": 94, \"0\": 147, \"14\": 232, \"8\": 95, \"10\": 68, \"2\": 1, \"9\": 1}, \"12\": {\"12\": 1199, \"11\": 1}, \"10\": {\"0\": 254, \"8\": 168, \"10\": 505, \"9\": 15, \"14\": 109, \"6\": 49, \"1\": 16, \"4\": 77, \"15\": 4, \"7\": 2, \"5\": 1}, \"0\": {\"10\": 288, \"0\": 385, \"4\": 154, \"1\": 25, \"14\": 183, \"7\": 18, \"8\": 112, \"6\": 18, \"9\": 11, \"15\": 6}, \"13\": {\"13\": 876, \"5\": 204, \"15\": 68, \"6\": 9, \"2\": 16, \"9\": 27}, \"9\": {\"5\": 43, \"9\": 516, \"15\": 347, \"6\": 141, \"0\": 14, \"8\": 84, \"2\": 9, \"10\": 15, \"13\": 23, \"7\": 5, \"4\": 3}, \"3\": {\"2\": 280, \"3\": 735, \"7\": 181, \"8\": 1, \"0\": 1, \"4\": 2}, \"2\": {\"3\": 358, \"2\": 492, \"7\": 107, \"5\": 126, \"15\": 57, \"13\": 10, \"8\": 37, \"0\": 1, \"9\": 10, \"14\": 1, \"4\": 1}, \"5\": {\"5\": 790, \"15\": 133, \"13\": 134, \"2\": 68, \"8\": 26, \"9\": 40, \"6\": 2, \"7\": 6, \"3\": 1}, \"14\": {\"4\": 217, \"14\": 441, \"10\": 107, \"0\": 184, \"1\": 220, \"8\": 22, \"7\": 9}, \"8\": {\"0\": 99, \"8\": 472, \"6\": 29, \"4\": 115, \"9\": 95, \"14\": 41, \"15\": 68, \"10\": 166, \"2\": 17, \"7\": 84, \"5\": 9, \"3\": 4, \"1\": 1}, \"7\": {\"2\": 128, \"8\": 76, \"7\": 646, \"4\": 100, \"0\": 25, \"3\": 181, \"15\": 13, \"10\": 1, \"14\": 13, \"5\": 3, \"9\": 7, \"1\": 7}, \"6\": {\"6\": 918, \"15\": 34, \"9\": 134, \"10\": 54, \"0\": 23, \"8\": 30, \"13\": 5, \"5\": 2}, \"11\": {\"11\": 1196, \"12\": 4}, \"15\": {\"8\": 87, \"6\": 38, \"9\": 354, \"15\": 487, \"7\": 12, \"13\": 59, \"5\": 118, \"2\": 37, \"3\": 1, \"0\": 2, \"10\": 3, \"4\": 2}, \"1\": {\"14\": 229, \"1\": 766, \"8\": 5, \"3\": 4, \"4\": 125, \"0\": 27, \"10\": 36, \"7\": 7, \"2\": 1}}, \"ORACLE.run1_44\": {\"12\": {\"10\": 56, \"12\": 941, \"1\": 186, \"3\": 17}, \"7\": {\"7\": 768, \"2\": 174, \"9\": 220, \"6\": 35, \"13\": 1, \"3\": 1, \"1\": 1}, \"5\": {\"5\": 1047, \"14\": 28, \"0\": 88, \"15\": 23, \"4\": 6, \"8\": 8}, \"15\": {\"15\": 994, \"14\": 84, \"5\": 33, \"0\": 68, \"8\": 14, \"4\": 7}, \"8\": {\"8\": 733, \"0\": 422, \"15\": 29, \"5\": 16}, \"2\": {\"2\": 912, \"7\": 170, \"1\": 39, \"10\": 76, \"3\": 1, \"9\": 2}, \"13\": {\"13\": 797, \"6\": 217, \"9\": 138, \"11\": 38, \"7\": 3, \"4\": 7}, \"4\": {\"4\": 882, \"14\": 312, \"15\": 5, \"13\": 1}, \"0\": {\"0\": 783, \"5\": 66, \"8\": 301, \"15\": 50}, \"6\": {\"6\": 840, \"13\": 206, \"7\": 26, \"9\": 119, \"11\": 8, \"2\": 1}, \"9\": {\"13\": 125, \"9\": 687, \"7\": 274, \"6\": 107, \"2\": 5, \"4\": 2}, \"11\": {\"11\": 1131, \"13\": 59, \"6\": 10}, \"10\": {\"10\": 938, \"12\": 67, \"2\": 91, \"1\": 103, \"7\": 1}, \"14\": {\"14\": 754, \"4\": 336, \"15\": 72, \"5\": 38}, \"1\": {\"10\": 83, \"1\": 717, \"12\": 203, \"3\": 145, \"2\": 50, \"7\": 2}, \"3\": {\"3\": 1062, \"1\": 123, \"12\": 12, \"10\": 1, \"7\": 2}}, \"ORACLE.run2_14\": {\"15\": {\"15\": 1189, \"7\": 11}, \"3\": {\"4\": 69, \"3\": 994, \"14\": 26, \"5\": 75, \"0\": 3, \"2\": 32, \"1\": 1}, \"6\": {\"13\": 280, \"6\": 825, \"2\": 19, \"14\": 72, \"3\": 1, \"4\": 3}, \"1\": {\"1\": 1105, \"5\": 62, \"4\": 32, \"3\": 1}, \"8\": {\"8\": 1200}, \"10\": {\"10\": 1166, \"0\": 31, \"14\": 3}, \"9\": {\"9\": 1199, \"12\": 1}, \"13\": {\"13\": 890, \"6\": 282, \"2\": 23, \"14\": 5}, \"12\": {\"12\": 591, \"11\": 337, \"9\": 135, \"8\": 48, \"0\": 85, \"10\": 4}, \"5\": {\"3\": 121, \"5\": 631, \"2\": 94, \"4\": 290, \"1\": 63, \"13\": 1}, \"0\": {\"0\": 1195, \"10\": 4, \"3\": 1}, \"2\": {\"2\": 533, \"3\": 101, \"13\": 77, \"5\": 162, \"14\": 213, \"4\": 74, \"6\": 38, \"1\": 1, \"0\": 1}, \"11\": {\"11\": 1186, \"12\": 13, \"9\": 1}, \"14\": {\"14\": 901, \"2\": 164, \"6\": 74, \"4\": 10, \"13\": 10, \"0\": 5, \"3\": 31, \"5\": 5}, \"7\": {\"7\": 1194, \"15\": 6}, \"4\": {\"5\": 291, \"4\": 784, \"2\": 47, \"3\": 51, \"6\": 1, \"1\": 25, \"14\": 1}}, \"ORACLE.run2_20\": {\"3\": {\"2\": 163, \"3\": 555, \"9\": 136, \"5\": 106, \"7\": 160, \"4\": 27, \"12\": 33, \"10\": 7, \"8\": 6, \"15\": 6, \"1\": 1}, \"15\": {\"15\": 500, \"13\": 299, \"9\": 40, \"1\": 80, \"12\": 71, \"5\": 67, \"2\": 102, \"0\": 36, \"3\": 5}, \"8\": {\"8\": 829, \"7\": 123, \"4\": 56, \"14\": 138, \"10\": 13, \"3\": 7, \"6\": 22, \"5\": 11, \"12\": 1}, \"4\": {\"4\": 1087, \"3\": 14, \"12\": 33, \"8\": 16, \"5\": 21, \"9\": 2, \"10\": 5, \"0\": 17, \"1\": 2, \"2\": 2, \"7\": 1}, \"14\": {\"8\": 171, \"14\": 819, \"10\": 83, \"6\": 120, \"7\": 5, \"4\": 2}, \"0\": {\"0\": 969, \"5\": 69, \"12\": 38, \"4\": 23, \"15\": 42, \"1\": 50, \"13\": 7, \"2\": 2}, \"7\": {\"7\": 901, \"3\": 126, \"8\": 98, \"14\": 8, \"6\": 12, \"10\": 9, \"2\": 12, \"5\": 32, \"4\": 1, \"9\": 1}, \"6\": {\"6\": 1067, \"14\": 86, \"10\": 16, \"8\": 14, \"7\": 17}, \"10\": {\"10\": 1046, \"14\": 92, \"4\": 8, \"8\": 20, \"7\": 9, \"3\": 5, \"6\": 20}, \"5\": {\"5\": 525, \"0\": 82, \"12\": 101, \"3\": 139, \"15\": 67, \"2\": 140, \"7\": 36, \"1\": 23, \"4\": 35, \"13\": 9, \"9\": 31, \"8\": 12}, \"2\": {\"2\": 408, \"15\": 92, \"3\": 168, \"9\": 274, \"1\": 18, \"7\": 11, \"5\": 146, \"12\": 64, \"13\": 14, \"4\": 3, \"0\": 2}, \"12\": {\"1\": 231, \"2\": 72, \"12\": 489, \"3\": 34, \"15\": 75, \"9\": 112, \"4\": 38, \"5\": 105, \"0\": 41, \"13\": 3}, \"9\": {\"2\": 295, \"3\": 118, \"9\": 500, \"12\": 131, \"15\": 59, \"4\": 6, \"1\": 32, \"5\": 48, \"13\": 9, \"7\": 2}, \"1\": {\"1\": 680, \"12\": 295, \"3\": 1, \"2\": 17, \"0\": 37, \"15\": 108, \"5\": 14, \"13\": 14, \"9\": 30, \"4\": 4}, \"11\": {\"11\": 1200}, \"13\": {\"13\": 903, \"9\": 3, \"15\": 258, \"1\": 8, \"2\": 15, \"5\": 6, \"12\": 4, \"0\": 3}}, \"ORACLE.run2_38\": {\"5\": {\"7\": 165, \"8\": 352, \"15\": 149, \"5\": 476, \"10\": 17, \"13\": 32, \"0\": 3, \"3\": 5, \"9\": 1}, \"8\": {\"8\": 473, \"5\": 354, \"15\": 194, \"1\": 3, \"7\": 87, \"13\": 63, \"3\": 13, \"10\": 13}, \"11\": {\"14\": 50, \"11\": 1128, \"2\": 4, \"4\": 6, \"12\": 12}, \"1\": {\"1\": 1133, \"15\": 58, \"13\": 3, \"5\": 2, \"8\": 4}, \"10\": {\"10\": 663, \"3\": 25, \"7\": 393, \"8\": 35, \"13\": 32, \"15\": 1, \"0\": 6, \"5\": 44, \"4\": 1}, \"15\": {\"15\": 658, \"1\": 117, \"8\": 200, \"5\": 180, \"0\": 16, \"13\": 8, \"6\": 9, \"3\": 2, \"7\": 9, \"9\": 1}, \"3\": {\"13\": 159, \"3\": 533, \"0\": 252, \"7\": 32, \"10\": 78, \"8\": 53, \"9\": 40, \"15\": 17, \"6\": 15, \"5\": 20, \"1\": 1}, \"7\": {\"7\": 619, \"10\": 311, \"5\": 113, \"8\": 117, \"3\": 13, \"15\": 9, \"0\": 4, \"4\": 1, \"13\": 12, \"14\": 1}, \"4\": {\"4\": 1157, \"12\": 29, \"7\": 8, \"10\": 6}, \"14\": {\"14\": 740, \"2\": 309, \"11\": 31, \"12\": 65, \"7\": 22, \"13\": 3, \"8\": 9, \"4\": 2, \"5\": 14, \"10\": 5}, \"9\": {\"9\": 925, \"6\": 260, \"0\": 2, \"3\": 13}, \"12\": {\"12\": 1174, \"14\": 10, \"4\": 15, \"7\": 1}, \"6\": {\"6\": 1001, \"9\": 197, \"3\": 2}, \"2\": {\"2\": 1065, \"14\": 135}, \"0\": {\"0\": 1043, \"3\": 112, \"10\": 17, \"7\": 9, \"8\": 8, \"15\": 4, \"6\": 3, \"9\": 3, \"5\": 1}, \"13\": {\"13\": 652, \"7\": 35, \"8\": 125, \"10\": 49, \"6\": 2, \"15\": 37, \"5\": 73, \"1\": 22, \"3\": 174, \"0\": 10, \"2\": 14, \"14\": 5, \"9\": 2}}, \"ORACLE.run2_8\": {\"9\": {\"9\": 1200}, \"10\": {\"0\": 209, \"14\": 67, \"10\": 699, \"5\": 197, \"13\": 25, \"1\": 3}, \"13\": {\"13\": 816, \"14\": 204, \"0\": 5, \"1\": 112, \"10\": 35, \"6\": 17, \"5\": 7, \"4\": 3, \"8\": 1}, \"0\": {\"0\": 808, \"10\": 192, \"14\": 188, \"13\": 8, \"5\": 1, \"2\": 1, \"4\": 1, \"6\": 1}, \"1\": {\"1\": 1073, \"13\": 101, \"5\": 18, \"14\": 4, \"10\": 4}, \"15\": {\"15\": 707, \"8\": 132, \"12\": 192, \"11\": 157, \"3\": 9, \"6\": 1, \"7\": 2}, \"5\": {\"5\": 922, \"10\": 228, \"1\": 35, \"13\": 10, \"14\": 2, \"0\": 3}, \"3\": {\"3\": 1114, \"12\": 78, \"15\": 8}, \"6\": {\"14\": 34, \"6\": 569, \"13\": 10, \"4\": 364, \"7\": 203, \"0\": 5, \"8\": 2, \"2\": 13}, \"11\": {\"15\": 191, \"12\": 118, \"11\": 602, \"8\": 288, \"1\": 1}, \"8\": {\"8\": 1016, \"11\": 107, \"15\": 69, \"13\": 3, \"4\": 2, \"7\": 3}, \"4\": {\"6\": 409, \"7\": 242, \"14\": 19, \"4\": 459, \"2\": 64, \"0\": 5, \"13\": 1, \"8\": 1}, \"12\": {\"12\": 977, \"3\": 58, \"15\": 133, \"11\": 32}, \"14\": {\"14\": 781, \"13\": 157, \"4\": 17, \"0\": 163, \"6\": 29, \"10\": 53}, \"2\": {\"2\": 918, \"6\": 22, \"7\": 169, \"4\": 91}, \"7\": {\"6\": 213, \"7\": 604, \"2\": 144, \"4\": 236, \"8\": 3}}, \"ORACLE.run2_50\": {\"7\": {\"7\": 673, \"5\": 105, \"13\": 345, \"10\": 60, \"6\": 5, \"4\": 12}, \"3\": {\"8\": 51, \"3\": 1149}, \"8\": {\"8\": 1164, \"3\": 36}, \"2\": {\"2\": 1129, \"0\": 70, \"14\": 1}, \"14\": {\"11\": 5, \"14\": 1191, \"12\": 4}, \"4\": {\"4\": 684, \"6\": 141, \"5\": 289, \"7\": 8, \"1\": 62, \"13\": 4, \"10\": 8, \"15\": 3, \"0\": 1}, \"6\": {\"6\": 831, \"4\": 121, \"1\": 168, \"15\": 21, \"5\": 53, \"10\": 4, \"0\": 2}, \"15\": {\"15\": 1103, \"1\": 62, \"6\": 9, \"11\": 25, \"4\": 1}, \"10\": {\"5\": 36, \"13\": 165, \"10\": 938, \"7\": 42, \"0\": 16, \"6\": 3}, \"11\": {\"11\": 1128, \"12\": 10, \"15\": 31, \"9\": 19, \"14\": 12}, \"13\": {\"13\": 684, \"10\": 166, \"7\": 304, \"5\": 45, \"4\": 1}, \"9\": {\"9\": 1138, \"12\": 43, \"11\": 19}, \"0\": {\"0\": 1109, \"2\": 66, \"10\": 23, \"1\": 1, \"5\": 1}, \"1\": {\"1\": 986, \"6\": 117, \"15\": 47, \"4\": 37, \"5\": 13}, \"12\": {\"12\": 1082, \"9\": 70, \"14\": 37, \"11\": 11}, \"5\": {\"4\": 299, \"5\": 598, \"7\": 114, \"10\": 42, \"6\": 59, \"13\": 69, \"1\": 15, \"0\": 4}}, \"ORACLE.run2_32\": {\"8\": {\"8\": 901, \"0\": 108, \"7\": 1, \"4\": 38, \"3\": 21, \"13\": 51, \"5\": 67, \"15\": 7, \"11\": 6}, \"14\": {\"14\": 993, \"2\": 89, \"11\": 14, \"0\": 61, \"5\": 36, \"8\": 2, \"4\": 4, \"7\": 1}, \"2\": {\"2\": 991, \"14\": 81, \"13\": 5, \"5\": 52, \"7\": 16, \"4\": 29, \"0\": 16, \"11\": 10}, \"0\": {\"0\": 640, \"4\": 104, \"5\": 110, \"8\": 93, \"11\": 164, \"14\": 14, \"13\": 41, \"2\": 17, \"7\": 17}, \"1\": {\"1\": 1191, \"10\": 9}, \"10\": {\"10\": 1197, \"1\": 3}, \"11\": {\"11\": 701, \"7\": 183, \"0\": 143, \"4\": 48, \"13\": 78, \"14\": 16, \"2\": 21, \"5\": 6, \"8\": 4}, \"5\": {\"4\": 130, \"5\": 537, \"13\": 42, \"14\": 92, \"2\": 117, \"7\": 22, \"0\": 118, \"8\": 125, \"11\": 11, \"3\": 6}, \"15\": {\"15\": 1197, \"8\": 3}, \"3\": {\"3\": 1137, \"8\": 13, \"13\": 46, \"4\": 2, \"11\": 1, \"5\": 1}, \"12\": {\"12\": 1200}, \"7\": {\"11\": 197, \"7\": 722, \"5\": 12, \"13\": 140, \"4\": 92, \"2\": 18, \"3\": 2, \"0\": 15, \"8\": 1, \"14\": 1}, \"13\": {\"13\": 699, \"11\": 60, \"4\": 239, \"7\": 95, \"5\": 20, \"8\": 39, \"3\": 29, \"0\": 19}, \"6\": {\"6\": 1200}, \"4\": {\"13\": 211, \"4\": 590, \"5\": 127, \"2\": 33, \"0\": 112, \"7\": 64, \"8\": 27, \"11\": 36}, \"9\": {\"9\": 1177, \"14\": 21, \"12\": 1, \"2\": 1}}, \"ORACLE.run2_26\": {\"4\": {\"4\": 706, \"15\": 49, \"8\": 43, \"3\": 73, \"0\": 103, \"7\": 57, \"10\": 19, \"2\": 83, \"14\": 51, \"1\": 15, \"9\": 1}, \"12\": {\"12\": 1200}, \"10\": {\"10\": 420, \"14\": 168, \"0\": 274, \"4\": 74, \"6\": 84, \"8\": 93, \"7\": 11, \"2\": 12, \"1\": 50, \"12\": 3, \"9\": 6, \"5\": 4, \"3\": 1}, \"0\": {\"0\": 414, \"1\": 71, \"10\": 230, \"8\": 112, \"4\": 131, \"14\": 211, \"7\": 15, \"6\": 4, \"2\": 7, \"3\": 2, \"15\": 3}, \"13\": {\"13\": 917, \"6\": 30, \"5\": 166, \"9\": 76, \"7\": 4, \"8\": 6, \"2\": 1}, \"9\": {\"6\": 136, \"9\": 741, \"7\": 31, \"8\": 107, \"15\": 11, \"5\": 65, \"10\": 8, \"13\": 86, \"2\": 11, \"0\": 4}, \"3\": {\"7\": 96, \"4\": 75, \"3\": 707, \"2\": 130, \"15\": 185, \"5\": 5, \"8\": 2}, \"2\": {\"9\": 16, \"3\": 146, \"4\": 89, \"8\": 68, \"7\": 388, \"15\": 105, \"2\": 327, \"5\": 40, \"0\": 10, \"13\": 2, \"14\": 4, \"10\": 4, \"1\": 1}, \"5\": {\"9\": 77, \"6\": 87, \"5\": 470, \"13\": 277, \"8\": 55, \"7\": 96, \"2\": 85, \"3\": 20, \"10\": 10, \"4\": 2, \"14\": 7, \"15\": 12, \"0\": 2}, \"14\": {\"4\": 54, \"8\": 78, \"14\": 426, \"10\": 167, \"0\": 224, \"1\": 231, \"7\": 7, \"5\": 4, \"2\": 7, \"6\": 2}, \"8\": {\"2\": 97, \"8\": 508, \"10\": 75, \"0\": 76, \"14\": 88, \"7\": 123, \"9\": 99, \"4\": 55, \"5\": 43, \"6\": 18, \"15\": 7, \"1\": 7, \"13\": 2, \"3\": 2}, \"7\": {\"3\": 85, \"4\": 100, \"7\": 364, \"9\": 28, \"8\": 108, \"2\": 375, \"5\": 51, \"15\": 74, \"10\": 4, \"0\": 5, \"13\": 2, \"14\": 3, \"1\": 1}, \"6\": {\"9\": 178, \"10\": 50, \"6\": 896, \"8\": 15, \"13\": 35, \"5\": 23, \"0\": 3}, \"11\": {\"11\": 1199, \"12\": 1}, \"15\": {\"3\": 207, \"15\": 696, \"5\": 3, \"2\": 127, \"9\": 10, \"0\": 7, \"7\": 81, \"8\": 11, \"4\": 57, \"10\": 1}, \"1\": {\"1\": 778, \"14\": 302, \"0\": 62, \"8\": 7, \"10\": 39, \"4\": 10, \"5\": 1, \"7\": 1}}, \"ORACLE.run2_44\": {\"12\": {\"1\": 296, \"12\": 827, \"3\": 73, \"10\": 4}, \"7\": {\"2\": 266, \"7\": 597, \"9\": 314, \"6\": 13, \"1\": 8, \"12\": 2}, \"5\": {\"5\": 1090, \"14\": 95, \"15\": 4, \"8\": 10, \"0\": 1}, \"15\": {\"15\": 1013, \"14\": 125, \"4\": 45, \"8\": 11, \"5\": 6}, \"8\": {\"0\": 483, \"8\": 703, \"5\": 8, \"15\": 5, \"14\": 1}, \"2\": {\"7\": 250, \"2\": 665, \"9\": 280, \"1\": 2, \"3\": 2, \"6\": 1}, \"13\": {\"13\": 1153, \"4\": 29, \"6\": 18}, \"4\": {\"4\": 1081, \"14\": 68, \"13\": 20, \"15\": 31}, \"0\": {\"0\": 671, \"8\": 524, \"5\": 3, \"15\": 1, \"14\": 1}, \"6\": {\"6\": 1093, \"9\": 50, \"7\": 19, \"13\": 34, \"11\": 3, \"2\": 1}, \"9\": {\"9\": 570, \"7\": 286, \"2\": 307, \"6\": 35, \"1\": 2}, \"11\": {\"11\": 1184, \"6\": 13, \"7\": 3}, \"10\": {\"10\": 1157, \"12\": 24, \"1\": 19}, \"14\": {\"15\": 140, \"14\": 862, \"4\": 86, \"5\": 110, \"8\": 1, \"13\": 1}, \"1\": {\"1\": 747, \"12\": 303, \"3\": 136, \"10\": 4, \"2\": 6, \"7\": 4}, \"3\": {\"3\": 998, \"1\": 140, \"12\": 62}}}, \"per_domain_accuracy\": {\"ORACLE.run1_14\": {\"accuracy\": 0.8250520833333334, \"source?\": true}, \"ORACLE.run1_20\": {\"accuracy\": 0.6757291666666667, \"source?\": true}, \"ORACLE.run1_38\": {\"accuracy\": 0.8083333333333333, \"source?\": true}, \"ORACLE.run1_8\": {\"accuracy\": 0.706875, \"source?\": true}, \"ORACLE.run1_50\": {\"accuracy\": 0.79578125, \"source?\": true}, \"ORACLE.run1_32\": {\"accuracy\": 0.7797916666666667, \"source?\": true}, \"ORACLE.run1_26\": {\"accuracy\": 0.5688020833333334, \"source?\": true}, \"ORACLE.run1_44\": {\"accuracy\": 0.7284375, \"source?\": true}, \"ORACLE.run2_14\": {\"accuracy\": 0.8116145833333334, \"source?\": false}, \"ORACLE.run2_20\": {\"accuracy\": 0.6498958333333333, \"source?\": false}, \"ORACLE.run2_38\": {\"accuracy\": 0.7, \"source?\": false}, \"ORACLE.run2_8\": {\"accuracy\": 0.6908854166666667, \"source?\": false}, \"ORACLE.run2_50\": {\"accuracy\": 0.8118229166666666, \"source?\": false}, \"ORACLE.run2_32\": {\"accuracy\": 0.7850520833333333, \"source?\": false}, \"ORACLE.run2_26\": {\"accuracy\": 0.5608854166666667, \"source?\": false}, \"ORACLE.run2_44\": {\"accuracy\": 0.7505729166666667, \"source?\": false}}}, \"history\": {\"epoch_indices\": [1, 2, 3, 4, 5, 6, 7, 8, 9, 10, 11, 12, 13], \"train_label_loss\": [1.0679674870973186, 0.8334746734713692, 0.7442379247084526, 0.6585973623295182, 0.5858931906281838, 0.5278665494656057, 0.48228647575480865, 0.4437331745088921, 0.4101774318795651, 0.3795684388822632, 0.3523767995998164, 0.3265783353336017, 0.30275058360756485], \"source_val_label_loss\": [0.9315232634544373, 0.8619771599769592, 0.800878643989563, 0.7552134394645691, 0.7369424700737, 0.7294972538948059, 0.7442082166671753, 0.7597336769104004, 0.758840024471283, 0.7858947515487671, 0.8080464005470276, 0.8470460772514343, 0.8579640984535217], \"target_val_label_loss\": [0.9862041473388672, 0.936071515083313, 0.8873007297515869, 0.8404391407966614, 0.8195331692695618, 0.8125787377357483, 0.829175591468811, 0.8460648059844971, 0.8477479815483093, 0.879946231842041, 0.90286785364151, 0.9472847580909729, 0.9560436010360718], \"source_val_acc_label\": [0.6514908854166667, 0.6732747395833333, 0.702421875, 0.72330078125, 0.7315559895833333, 0.7348567708333333, 0.73462890625, 0.7321419270833334, 0.7361002604166667, 0.7310807291666667, 0.7303971354166666, 0.73236328125, 0.7271484375], \"target_val_acc_label\": [0.6334114583333333, 0.652421875, 0.6804036458333333, 0.7054036458333334, 0.7155533854166667, 0.71828125, 0.71912109375, 0.71587890625, 0.7200911458333333, 0.7134049479166666, 0.7140690104166667, 0.7167578125, 0.7116666666666667]}, \"dataset_metrics\": {\"source\": {\"train\": {\"n_unique_x\": 896000, \"n_unique_y\": 16, \"n_batch/episode\": 33600}, \"val\": {\"n_unique_x\": 192000, \"n_unique_y\": 16, \"n_batch/episode\": 4800}, \"test\": {\"n_unique_x\": 192000, \"n_unique_y\": 16, \"n_batch/episode\": 4800}}, \"target\": {\"train\": {\"n_unique_x\": 896000, \"n_unique_y\": 16, \"n_batch/episode\": 33600}, \"val\": {\"n_unique_x\": 192000, \"n_unique_y\": 16, \"n_batch/episode\": 4800}, \"test\": {\"n_unique_x\": 192000, \"n_unique_y\": 16, \"n_batch/episode\": 4800}}}}'"
      ]
     },
     "execution_count": 29,
     "metadata": {},
     "output_type": "execute_result"
    }
   ],
   "source": [
    "json.dumps(experiment)"
   ]
  }
 ],
 "metadata": {
  "celltoolbar": "Tags",
  "kernelspec": {
   "display_name": "Python 3 (ipykernel)",
   "language": "python",
   "name": "python3"
  },
  "language_info": {
   "codemirror_mode": {
    "name": "ipython",
    "version": 3
   },
   "file_extension": ".py",
   "mimetype": "text/x-python",
   "name": "python",
   "nbconvert_exporter": "python",
   "pygments_lexer": "ipython3",
   "version": "3.8.10"
  },
  "papermill": {
   "default_parameters": {},
   "duration": 12558.880177,
   "end_time": "2022-03-23T10:31:49.310724",
   "environment_variables": {},
   "exception": null,
   "input_path": "/mnt/wd500GB/CSC500/csc500-main/csc500-notebooks/templates/tl_ptn_template.ipynb",
   "output_path": "trial.ipynb",
   "parameters": {
    "parameters": {
     "BEST_MODEL_PATH": "./best_model.pth",
     "NUM_LOGS_PER_EPOCH": 10,
     "criteria_for_best": "target_accuracy",
     "dataset_seed": 1337,
     "datasets": [
      {
       "domain_prefix": "ORACLE.run1_",
       "domains": [
        32,
        38,
        8,
        44,
        14,
        50,
        20,
        26
       ],
       "episode_transforms": [],
       "labels": [
        "3123D52",
        "3123D65",
        "3123D79",
        "3123D80",
        "3123D54",
        "3123D70",
        "3123D7B",
        "3123D89",
        "3123D58",
        "3123D76",
        "3123D7D",
        "3123EFE",
        "3123D64",
        "3123D78",
        "3123D7E",
        "3124E4A"
       ],
       "num_examples_per_domain_per_label": 10000,
       "pickle_path": "/mnt/wd500GB/CSC500/csc500-main/datasets/oracle.Run1_10kExamples_stratified_ds.2022A.pkl",
       "source_or_target_dataset": "source",
       "x_transforms": [
        "unit_mag"
       ]
      },
      {
       "domain_prefix": "ORACLE.run2_",
       "domains": [
        32,
        38,
        8,
        44,
        14,
        50,
        20,
        26
       ],
       "episode_transforms": [],
       "labels": [
        "3123D52",
        "3123D65",
        "3123D79",
        "3123D80",
        "3123D54",
        "3123D70",
        "3123D7B",
        "3123D89",
        "3123D58",
        "3123D76",
        "3123D7D",
        "3123EFE",
        "3123D64",
        "3123D78",
        "3123D7E",
        "3124E4A"
       ],
       "num_examples_per_domain_per_label": 10000,
       "pickle_path": "/mnt/wd500GB/CSC500/csc500-main/datasets/oracle.Run2_10kExamples_stratified_ds.2022A.pkl",
       "source_or_target_dataset": "target",
       "x_transforms": [
        "unit_mag"
       ]
      }
     ],
     "device": "cuda",
     "experiment_name": "tl_1v2:oracle.run1-oracle.run2",
     "lr": 0.0001,
     "n_epoch": 50,
     "n_query": 2,
     "n_shot": 3,
     "n_way": 16,
     "patience": 3,
     "seed": 1337,
     "test_k_factor": 2,
     "torch_default_dtype": "torch.float32",
     "train_k_factor": 3,
     "val_k_factor": 2,
     "x_net": [
      {
       "class": "nnReshape",
       "kargs": {
        "shape": [
         -1,
         1,
         2,
         256
        ]
       }
      },
      {
       "class": "Conv2d",
       "kargs": {
        "bias": false,
        "in_channels": 1,
        "kernel_size": [
         1,
         7
        ],
        "out_channels": 256,
        "padding": [
         0,
         3
        ]
       }
      },
      {
       "class": "ReLU",
       "kargs": {
        "inplace": true
       }
      },
      {
       "class": "BatchNorm2d",
       "kargs": {
        "num_features": 256
       }
      },
      {
       "class": "Conv2d",
       "kargs": {
        "bias": true,
        "in_channels": 256,
        "kernel_size": [
         2,
         7
        ],
        "out_channels": 80,
        "padding": [
         0,
         3
        ]
       }
      },
      {
       "class": "ReLU",
       "kargs": {
        "inplace": true
       }
      },
      {
       "class": "BatchNorm2d",
       "kargs": {
        "num_features": 80
       }
      },
      {
       "class": "Flatten",
       "kargs": {}
      },
      {
       "class": "Linear",
       "kargs": {
        "in_features": 20480,
        "out_features": 256
       }
      },
      {
       "class": "ReLU",
       "kargs": {
        "inplace": true
       }
      },
      {
       "class": "BatchNorm1d",
       "kargs": {
        "num_features": 256
       }
      },
      {
       "class": "Linear",
       "kargs": {
        "in_features": 256,
        "out_features": 256
       }
      }
     ]
    }
   },
   "start_time": "2022-03-23T07:02:30.430547",
   "version": "2.3.4"
  }
 },
 "nbformat": 4,
 "nbformat_minor": 5
}