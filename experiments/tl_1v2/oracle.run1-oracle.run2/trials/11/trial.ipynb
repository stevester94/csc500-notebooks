{
 "cells": [
  {
   "cell_type": "markdown",
   "id": "9fea5f46",
   "metadata": {
    "papermill": {
     "duration": 0.017392,
     "end_time": "2022-03-24T12:42:51.133475",
     "exception": false,
     "start_time": "2022-03-24T12:42:51.116083",
     "status": "completed"
    },
    "tags": []
   },
   "source": [
    "# Transfer Learning Template"
   ]
  },
  {
   "cell_type": "code",
   "execution_count": 1,
   "id": "0902182a",
   "metadata": {
    "execution": {
     "iopub.execute_input": "2022-03-24T12:42:51.173261Z",
     "iopub.status.busy": "2022-03-24T12:42:51.172770Z",
     "iopub.status.idle": "2022-03-24T12:42:52.225623Z",
     "shell.execute_reply": "2022-03-24T12:42:52.225138Z"
    },
    "papermill": {
     "duration": 1.080035,
     "end_time": "2022-03-24T12:42:52.225734",
     "exception": false,
     "start_time": "2022-03-24T12:42:51.145699",
     "status": "completed"
    },
    "tags": []
   },
   "outputs": [],
   "source": [
    "%load_ext autoreload\n",
    "%autoreload 2\n",
    "%matplotlib inline\n",
    "\n",
    "    \n",
    "import os, json, sys, time, random\n",
    "import numpy as np\n",
    "import torch\n",
    "from torch.optim import Adam\n",
    "from  easydict import EasyDict\n",
    "import matplotlib.pyplot as plt\n",
    "\n",
    "from steves_models.steves_ptn import Steves_Prototypical_Network\n",
    "\n",
    "from steves_utils.lazy_iterable_wrapper import Lazy_Iterable_Wrapper\n",
    "from steves_utils.iterable_aggregator import Iterable_Aggregator\n",
    "from steves_utils.ptn_train_eval_test_jig import  PTN_Train_Eval_Test_Jig\n",
    "from steves_utils.torch_sequential_builder import build_sequential\n",
    "from steves_utils.torch_utils import get_dataset_metrics, ptn_confusion_by_domain_over_dataloader\n",
    "from steves_utils.utils_v2 import (per_domain_accuracy_from_confusion, get_datasets_base_path)\n",
    "from steves_utils.PTN.utils import independent_accuracy_assesment\n",
    "\n",
    "from torch.utils.data import DataLoader\n",
    "\n",
    "from steves_utils.stratified_dataset.episodic_accessor import Episodic_Accessor_Factory\n",
    "\n",
    "from steves_utils.ptn_do_report import (\n",
    "    get_loss_curve,\n",
    "    get_results_table,\n",
    "    get_parameters_table,\n",
    "    get_domain_accuracies,\n",
    ")\n",
    "\n",
    "from steves_utils.transforms import get_chained_transform"
   ]
  },
  {
   "cell_type": "markdown",
   "id": "41c840b4",
   "metadata": {
    "papermill": {
     "duration": 0.012816,
     "end_time": "2022-03-24T12:42:52.255765",
     "exception": false,
     "start_time": "2022-03-24T12:42:52.242949",
     "status": "completed"
    },
    "tags": []
   },
   "source": [
    "# Allowed Parameters\n",
    "These are allowed parameters, not defaults\n",
    "Each of these values need to be present in the injected parameters (the notebook will raise an exception if they are not present)\n",
    "\n",
    "Papermill uses the cell tag \"parameters\" to inject the real parameters below this cell.\n",
    "Enable tags to see what I mean"
   ]
  },
  {
   "cell_type": "code",
   "execution_count": 2,
   "id": "fd44eb83",
   "metadata": {
    "execution": {
     "iopub.execute_input": "2022-03-24T12:42:52.291553Z",
     "iopub.status.busy": "2022-03-24T12:42:52.284419Z",
     "iopub.status.idle": "2022-03-24T12:42:52.298281Z",
     "shell.execute_reply": "2022-03-24T12:42:52.298498Z"
    },
    "papermill": {
     "duration": 0.029968,
     "end_time": "2022-03-24T12:42:52.298575",
     "exception": false,
     "start_time": "2022-03-24T12:42:52.268607",
     "status": "completed"
    },
    "tags": []
   },
   "outputs": [],
   "source": [
    "required_parameters = {\n",
    "    \"experiment_name\",\n",
    "    \"lr\",\n",
    "    \"device\",\n",
    "    \"seed\",\n",
    "    \"dataset_seed\",\n",
    "    \"n_shot\",\n",
    "    \"n_query\",\n",
    "    \"n_way\",\n",
    "    \"train_k_factor\",\n",
    "    \"val_k_factor\",\n",
    "    \"test_k_factor\",\n",
    "    \"n_epoch\",\n",
    "    \"patience\",\n",
    "    \"criteria_for_best\",\n",
    "    \"x_net\",\n",
    "    \"datasets\",\n",
    "    \"torch_default_dtype\",\n",
    "    \"NUM_LOGS_PER_EPOCH\",\n",
    "    \"BEST_MODEL_PATH\",\n",
    "    \"x_shape\",\n",
    "}"
   ]
  },
  {
   "cell_type": "code",
   "execution_count": 3,
   "id": "fa3f0049",
   "metadata": {
    "execution": {
     "iopub.execute_input": "2022-03-24T12:42:52.339031Z",
     "iopub.status.busy": "2022-03-24T12:42:52.338427Z",
     "iopub.status.idle": "2022-03-24T12:42:52.350567Z",
     "shell.execute_reply": "2022-03-24T12:42:52.350211Z"
    },
    "papermill": {
     "duration": 0.034897,
     "end_time": "2022-03-24T12:42:52.350641",
     "exception": false,
     "start_time": "2022-03-24T12:42:52.315744",
     "status": "completed"
    },
    "tags": [
     "parameters"
    ]
   },
   "outputs": [],
   "source": [
    "from steves_utils.CORES.utils import (\n",
    "    ALL_NODES,\n",
    "    ALL_NODES_MINIMUM_1000_EXAMPLES,\n",
    "    ALL_DAYS\n",
    ")\n",
    "\n",
    "from steves_utils.ORACLE.utils_v2 import (\n",
    "    ALL_DISTANCES_FEET_NARROWED,\n",
    "    ALL_RUNS,\n",
    "    ALL_SERIAL_NUMBERS,\n",
    ")\n",
    "\n",
    "standalone_parameters = {}\n",
    "standalone_parameters[\"experiment_name\"] = \"STANDALONE PTN\"\n",
    "standalone_parameters[\"lr\"] = 0.001\n",
    "standalone_parameters[\"device\"] = \"cuda\"\n",
    "\n",
    "standalone_parameters[\"seed\"] = 1337\n",
    "standalone_parameters[\"dataset_seed\"] = 1337\n",
    "\n",
    "standalone_parameters[\"n_way\"] = 8\n",
    "standalone_parameters[\"n_shot\"] = 3\n",
    "standalone_parameters[\"n_query\"]  = 2\n",
    "standalone_parameters[\"train_k_factor\"] = 1\n",
    "standalone_parameters[\"val_k_factor\"] = 2\n",
    "standalone_parameters[\"test_k_factor\"] = 2\n",
    "\n",
    "\n",
    "standalone_parameters[\"n_epoch\"] = 50\n",
    "\n",
    "standalone_parameters[\"patience\"] = 10\n",
    "standalone_parameters[\"criteria_for_best\"] = \"source_loss\"\n",
    "\n",
    "standalone_parameters[\"datasets\"] = [\n",
    "    {\n",
    "        \"labels\": ALL_SERIAL_NUMBERS,\n",
    "        \"domains\": ALL_DISTANCES_FEET_NARROWED,\n",
    "        \"num_examples_per_domain_per_label\": 100,\n",
    "        \"pickle_path\": os.path.join(get_datasets_base_path(), \"oracle.Run1_framed_2000Examples_stratified_ds.2022A.pkl\"),\n",
    "        \"source_or_target_dataset\": \"source\",\n",
    "        \"x_transforms\": [\"unit_mag\", \"minus_two\"],\n",
    "        \"episode_transforms\": [],\n",
    "        \"domain_prefix\": \"ORACLE_\"\n",
    "    },\n",
    "    {\n",
    "        \"labels\": ALL_NODES,\n",
    "        \"domains\": ALL_DAYS,\n",
    "        \"num_examples_per_domain_per_label\": 100,\n",
    "        \"pickle_path\": os.path.join(get_datasets_base_path(), \"cores.stratified_ds.2022A.pkl\"),\n",
    "        \"source_or_target_dataset\": \"target\",\n",
    "        \"x_transforms\": [\"unit_power\", \"times_zero\"],\n",
    "        \"episode_transforms\": [],\n",
    "        \"domain_prefix\": \"CORES_\"\n",
    "    }   \n",
    "]\n",
    "\n",
    "standalone_parameters[\"torch_default_dtype\"] = \"torch.float32\" \n",
    "\n",
    "\n",
    "\n",
    "standalone_parameters[\"x_net\"] =     [\n",
    "    {\"class\": \"nnReshape\", \"kargs\": {\"shape\":[-1, 1, 2, 256]}},\n",
    "    {\"class\": \"Conv2d\", \"kargs\": { \"in_channels\":1, \"out_channels\":256, \"kernel_size\":(1,7), \"bias\":False, \"padding\":(0,3), },},\n",
    "    {\"class\": \"ReLU\", \"kargs\": {\"inplace\": True}},\n",
    "    {\"class\": \"BatchNorm2d\", \"kargs\": {\"num_features\":256}},\n",
    "\n",
    "    {\"class\": \"Conv2d\", \"kargs\": { \"in_channels\":256, \"out_channels\":80, \"kernel_size\":(2,7), \"bias\":True, \"padding\":(0,3), },},\n",
    "    {\"class\": \"ReLU\", \"kargs\": {\"inplace\": True}},\n",
    "    {\"class\": \"BatchNorm2d\", \"kargs\": {\"num_features\":80}},\n",
    "    {\"class\": \"Flatten\", \"kargs\": {}},\n",
    "\n",
    "    {\"class\": \"Linear\", \"kargs\": {\"in_features\": 80*256, \"out_features\": 256}}, # 80 units per IQ pair\n",
    "    {\"class\": \"ReLU\", \"kargs\": {\"inplace\": True}},\n",
    "    {\"class\": \"BatchNorm1d\", \"kargs\": {\"num_features\":256}},\n",
    "\n",
    "    {\"class\": \"Linear\", \"kargs\": {\"in_features\": 256, \"out_features\": 256}},\n",
    "]\n",
    "\n",
    "# Parameters relevant to results\n",
    "# These parameters will basically never need to change\n",
    "standalone_parameters[\"NUM_LOGS_PER_EPOCH\"] = 10\n",
    "standalone_parameters[\"BEST_MODEL_PATH\"] = \"./best_model.pth\"\n",
    "\n",
    "\n",
    "\n",
    "\n"
   ]
  },
  {
   "cell_type": "code",
   "execution_count": 4,
   "id": "67520fb7",
   "metadata": {
    "execution": {
     "iopub.execute_input": "2022-03-24T12:42:52.391422Z",
     "iopub.status.busy": "2022-03-24T12:42:52.390915Z",
     "iopub.status.idle": "2022-03-24T12:42:52.404710Z",
     "shell.execute_reply": "2022-03-24T12:42:52.404338Z"
    },
    "papermill": {
     "duration": 0.036175,
     "end_time": "2022-03-24T12:42:52.404800",
     "exception": false,
     "start_time": "2022-03-24T12:42:52.368625",
     "status": "completed"
    },
    "tags": [
     "injected-parameters"
    ]
   },
   "outputs": [],
   "source": [
    "# Parameters\n",
    "parameters = {\n",
    "    \"experiment_name\": \"tl_1v2:oracle.run1-oracle.run2\",\n",
    "    \"device\": \"cuda\",\n",
    "    \"lr\": 0.0001,\n",
    "    \"n_shot\": 3,\n",
    "    \"n_query\": 2,\n",
    "    \"train_k_factor\": 3,\n",
    "    \"val_k_factor\": 2,\n",
    "    \"test_k_factor\": 2,\n",
    "    \"torch_default_dtype\": \"torch.float32\",\n",
    "    \"n_epoch\": 50,\n",
    "    \"patience\": 3,\n",
    "    \"criteria_for_best\": \"target_accuracy\",\n",
    "    \"x_net\": [\n",
    "        {\"class\": \"nnReshape\", \"kargs\": {\"shape\": [-1, 1, 2, 256]}},\n",
    "        {\n",
    "            \"class\": \"Conv2d\",\n",
    "            \"kargs\": {\n",
    "                \"in_channels\": 1,\n",
    "                \"out_channels\": 256,\n",
    "                \"kernel_size\": [1, 7],\n",
    "                \"bias\": False,\n",
    "                \"padding\": [0, 3],\n",
    "            },\n",
    "        },\n",
    "        {\"class\": \"ReLU\", \"kargs\": {\"inplace\": True}},\n",
    "        {\"class\": \"BatchNorm2d\", \"kargs\": {\"num_features\": 256}},\n",
    "        {\n",
    "            \"class\": \"Conv2d\",\n",
    "            \"kargs\": {\n",
    "                \"in_channels\": 256,\n",
    "                \"out_channels\": 80,\n",
    "                \"kernel_size\": [2, 7],\n",
    "                \"bias\": True,\n",
    "                \"padding\": [0, 3],\n",
    "            },\n",
    "        },\n",
    "        {\"class\": \"ReLU\", \"kargs\": {\"inplace\": True}},\n",
    "        {\"class\": \"BatchNorm2d\", \"kargs\": {\"num_features\": 80}},\n",
    "        {\"class\": \"Flatten\", \"kargs\": {}},\n",
    "        {\"class\": \"Linear\", \"kargs\": {\"in_features\": 20480, \"out_features\": 256}},\n",
    "        {\"class\": \"ReLU\", \"kargs\": {\"inplace\": True}},\n",
    "        {\"class\": \"BatchNorm1d\", \"kargs\": {\"num_features\": 256}},\n",
    "        {\"class\": \"Linear\", \"kargs\": {\"in_features\": 256, \"out_features\": 256}},\n",
    "    ],\n",
    "    \"NUM_LOGS_PER_EPOCH\": 10,\n",
    "    \"BEST_MODEL_PATH\": \"./best_model.pth\",\n",
    "    \"n_way\": 16,\n",
    "    \"datasets\": [\n",
    "        {\n",
    "            \"labels\": [\n",
    "                \"3123D52\",\n",
    "                \"3123D65\",\n",
    "                \"3123D79\",\n",
    "                \"3123D80\",\n",
    "                \"3123D54\",\n",
    "                \"3123D70\",\n",
    "                \"3123D7B\",\n",
    "                \"3123D89\",\n",
    "                \"3123D58\",\n",
    "                \"3123D76\",\n",
    "                \"3123D7D\",\n",
    "                \"3123EFE\",\n",
    "                \"3123D64\",\n",
    "                \"3123D78\",\n",
    "                \"3123D7E\",\n",
    "                \"3124E4A\",\n",
    "            ],\n",
    "            \"domains\": [32, 38, 8, 44, 14, 50, 20, 26],\n",
    "            \"num_examples_per_domain_per_label\": 10000,\n",
    "            \"pickle_path\": \"/mnt/wd500GB/CSC500/csc500-main/datasets/oracle.Run1_10kExamples_stratified_ds.2022A.pkl\",\n",
    "            \"source_or_target_dataset\": \"target\",\n",
    "            \"x_transforms\": [],\n",
    "            \"episode_transforms\": [],\n",
    "            \"domain_prefix\": \"ORACLE.run1_\",\n",
    "        },\n",
    "        {\n",
    "            \"labels\": [\n",
    "                \"3123D52\",\n",
    "                \"3123D65\",\n",
    "                \"3123D79\",\n",
    "                \"3123D80\",\n",
    "                \"3123D54\",\n",
    "                \"3123D70\",\n",
    "                \"3123D7B\",\n",
    "                \"3123D89\",\n",
    "                \"3123D58\",\n",
    "                \"3123D76\",\n",
    "                \"3123D7D\",\n",
    "                \"3123EFE\",\n",
    "                \"3123D64\",\n",
    "                \"3123D78\",\n",
    "                \"3123D7E\",\n",
    "                \"3124E4A\",\n",
    "            ],\n",
    "            \"domains\": [32, 38, 8, 44, 14, 50, 20, 26],\n",
    "            \"num_examples_per_domain_per_label\": 10000,\n",
    "            \"pickle_path\": \"/mnt/wd500GB/CSC500/csc500-main/datasets/oracle.Run2_10kExamples_stratified_ds.2022A.pkl\",\n",
    "            \"source_or_target_dataset\": \"source\",\n",
    "            \"x_transforms\": [],\n",
    "            \"episode_transforms\": [],\n",
    "            \"domain_prefix\": \"ORACLE.run2_\",\n",
    "        },\n",
    "    ],\n",
    "    \"dataset_seed\": 420,\n",
    "    \"seed\": 420,\n",
    "}\n"
   ]
  },
  {
   "cell_type": "code",
   "execution_count": 5,
   "id": "8fa1cc33",
   "metadata": {
    "execution": {
     "iopub.execute_input": "2022-03-24T12:42:52.438441Z",
     "iopub.status.busy": "2022-03-24T12:42:52.438183Z",
     "iopub.status.idle": "2022-03-24T12:42:52.453243Z",
     "shell.execute_reply": "2022-03-24T12:42:52.453645Z"
    },
    "papermill": {
     "duration": 0.031668,
     "end_time": "2022-03-24T12:42:52.453766",
     "exception": false,
     "start_time": "2022-03-24T12:42:52.422098",
     "status": "completed"
    },
    "tags": []
   },
   "outputs": [],
   "source": [
    "# Set this to True if you want to run this template directly\n",
    "STANDALONE = False\n",
    "if STANDALONE:\n",
    "    print(\"parameters not injected, running with standalone_parameters\")\n",
    "    parameters = standalone_parameters\n",
    "\n",
    "if not 'parameters' in locals() and not 'parameters' in globals():\n",
    "    raise Exception(\"Parameter injection failed\")\n",
    "\n",
    "#Use an easy dict for all the parameters\n",
    "p = EasyDict(parameters)\n",
    "\n",
    "if \"x_shape\" not in p:\n",
    "    p.x_shape = [2,256] # Default to this if we dont supply x_shape\n",
    "\n",
    "\n",
    "supplied_keys = set(p.keys())\n",
    "\n",
    "if  supplied_keys != required_parameters:\n",
    "    print(\"Parameters are incorrect\")\n",
    "    if len(supplied_keys - required_parameters)>0: print(\"Shouldn't have:\", str(supplied_keys - required_parameters))\n",
    "    if len(required_parameters - supplied_keys)>0: print(\"Need to have:\", str(required_parameters - supplied_keys))\n",
    "    raise RuntimeError(\"Parameters are incorrect\")"
   ]
  },
  {
   "cell_type": "code",
   "execution_count": 6,
   "id": "3a028d58",
   "metadata": {
    "execution": {
     "iopub.execute_input": "2022-03-24T12:42:52.485813Z",
     "iopub.status.busy": "2022-03-24T12:42:52.485566Z",
     "iopub.status.idle": "2022-03-24T12:42:52.496091Z",
     "shell.execute_reply": "2022-03-24T12:42:52.495740Z"
    },
    "papermill": {
     "duration": 0.024746,
     "end_time": "2022-03-24T12:42:52.496159",
     "exception": false,
     "start_time": "2022-03-24T12:42:52.471413",
     "status": "completed"
    },
    "tags": []
   },
   "outputs": [],
   "source": [
    "###################################\n",
    "# Set the RNGs and make it all deterministic\n",
    "###################################\n",
    "np.random.seed(p.seed)\n",
    "random.seed(p.seed)\n",
    "torch.manual_seed(p.seed)\n",
    "\n",
    "torch.use_deterministic_algorithms(True) "
   ]
  },
  {
   "cell_type": "code",
   "execution_count": 7,
   "id": "b691acf6",
   "metadata": {
    "execution": {
     "iopub.execute_input": "2022-03-24T12:42:52.528588Z",
     "iopub.status.busy": "2022-03-24T12:42:52.528344Z",
     "iopub.status.idle": "2022-03-24T12:42:52.541137Z",
     "shell.execute_reply": "2022-03-24T12:42:52.540936Z"
    },
    "papermill": {
     "duration": 0.028063,
     "end_time": "2022-03-24T12:42:52.541186",
     "exception": false,
     "start_time": "2022-03-24T12:42:52.513123",
     "status": "completed"
    },
    "tags": []
   },
   "outputs": [],
   "source": [
    "###########################################\n",
    "# The stratified datasets honor this\n",
    "###########################################\n",
    "torch.set_default_dtype(eval(p.torch_default_dtype))"
   ]
  },
  {
   "cell_type": "code",
   "execution_count": 8,
   "id": "b5fba671",
   "metadata": {
    "execution": {
     "iopub.execute_input": "2022-03-24T12:42:52.573104Z",
     "iopub.status.busy": "2022-03-24T12:42:52.572861Z",
     "iopub.status.idle": "2022-03-24T12:42:52.608857Z",
     "shell.execute_reply": "2022-03-24T12:42:52.608411Z"
    },
    "papermill": {
     "duration": 0.050154,
     "end_time": "2022-03-24T12:42:52.608945",
     "exception": false,
     "start_time": "2022-03-24T12:42:52.558791",
     "status": "completed"
    },
    "tags": []
   },
   "outputs": [],
   "source": [
    "###################################\n",
    "# Build the network(s)\n",
    "# Note: It's critical to do this AFTER setting the RNG\n",
    "###################################\n",
    "x_net = build_sequential(p.x_net)"
   ]
  },
  {
   "cell_type": "code",
   "execution_count": 9,
   "id": "5d7e61cc",
   "metadata": {
    "execution": {
     "iopub.execute_input": "2022-03-24T12:42:52.641257Z",
     "iopub.status.busy": "2022-03-24T12:42:52.641007Z",
     "iopub.status.idle": "2022-03-24T12:42:52.652227Z",
     "shell.execute_reply": "2022-03-24T12:42:52.651875Z"
    },
    "papermill": {
     "duration": 0.025679,
     "end_time": "2022-03-24T12:42:52.652297",
     "exception": false,
     "start_time": "2022-03-24T12:42:52.626618",
     "status": "completed"
    },
    "tags": []
   },
   "outputs": [],
   "source": [
    "start_time_secs = time.time()"
   ]
  },
  {
   "cell_type": "code",
   "execution_count": 10,
   "id": "c6b67dfd",
   "metadata": {
    "execution": {
     "iopub.execute_input": "2022-03-24T12:42:52.682683Z",
     "iopub.status.busy": "2022-03-24T12:42:52.682435Z",
     "iopub.status.idle": "2022-03-24T12:42:52.694710Z",
     "shell.execute_reply": "2022-03-24T12:42:52.694363Z"
    },
    "papermill": {
     "duration": 0.027656,
     "end_time": "2022-03-24T12:42:52.694779",
     "exception": false,
     "start_time": "2022-03-24T12:42:52.667123",
     "status": "completed"
    },
    "tags": []
   },
   "outputs": [],
   "source": [
    "p.domains_source = []\n",
    "p.domains_target = []\n",
    "\n",
    "\n",
    "train_original_source = []\n",
    "val_original_source   = []\n",
    "test_original_source  = []\n",
    "\n",
    "train_original_target = []\n",
    "val_original_target   = []\n",
    "test_original_target  = []"
   ]
  },
  {
   "cell_type": "code",
   "execution_count": 11,
   "id": "e3d9c3d3",
   "metadata": {
    "execution": {
     "iopub.execute_input": "2022-03-24T12:42:52.728525Z",
     "iopub.status.busy": "2022-03-24T12:42:52.728204Z",
     "iopub.status.idle": "2022-03-24T12:42:52.741964Z",
     "shell.execute_reply": "2022-03-24T12:42:52.741719Z"
    },
    "papermill": {
     "duration": 0.028517,
     "end_time": "2022-03-24T12:42:52.742016",
     "exception": false,
     "start_time": "2022-03-24T12:42:52.713499",
     "status": "completed"
    },
    "tags": []
   },
   "outputs": [],
   "source": [
    "# global_x_transform_func = lambda x: normalize(x.to(torch.get_default_dtype()), \"unit_power\") # unit_power, unit_mag\n",
    "# global_x_transform_func = lambda x: normalize(x, \"unit_power\") # unit_power, unit_mag"
   ]
  },
  {
   "cell_type": "code",
   "execution_count": 12,
   "id": "acb78fd2",
   "metadata": {
    "execution": {
     "iopub.execute_input": "2022-03-24T12:42:52.779671Z",
     "iopub.status.busy": "2022-03-24T12:42:52.779416Z",
     "iopub.status.idle": "2022-03-24T12:42:52.794147Z",
     "shell.execute_reply": "2022-03-24T12:42:52.794535Z"
    },
    "papermill": {
     "duration": 0.035934,
     "end_time": "2022-03-24T12:42:52.794654",
     "exception": false,
     "start_time": "2022-03-24T12:42:52.758720",
     "status": "completed"
    },
    "tags": []
   },
   "outputs": [],
   "source": [
    "def add_dataset(\n",
    "    labels,\n",
    "    domains,\n",
    "    pickle_path,\n",
    "    x_transforms,\n",
    "    episode_transforms,\n",
    "    domain_prefix,\n",
    "    num_examples_per_domain_per_label,\n",
    "    source_or_target_dataset:str,\n",
    "    iterator_seed=p.seed,\n",
    "    dataset_seed=p.dataset_seed,\n",
    "    n_shot=p.n_shot,\n",
    "    n_way=p.n_way,\n",
    "    n_query=p.n_query,\n",
    "    train_val_test_k_factors=(p.train_k_factor,p.val_k_factor,p.test_k_factor),\n",
    "):\n",
    "   \n",
    "    if x_transforms == []: x_transform = None\n",
    "    else: x_transform = get_chained_transform(x_transforms)\n",
    "    \n",
    "    if episode_transforms == []: episode_transform = None\n",
    "    else: raise Exception(\"episode_transforms not implemented\")\n",
    "    \n",
    "    episode_transform = lambda tup, _prefix=domain_prefix: (_prefix + str(tup[0]), tup[1])\n",
    "\n",
    "\n",
    "    eaf = Episodic_Accessor_Factory(\n",
    "        labels=labels,\n",
    "        domains=domains,\n",
    "        num_examples_per_domain_per_label=num_examples_per_domain_per_label,\n",
    "        iterator_seed=iterator_seed,\n",
    "        dataset_seed=dataset_seed,\n",
    "        n_shot=n_shot,\n",
    "        n_way=n_way,\n",
    "        n_query=n_query,\n",
    "        train_val_test_k_factors=train_val_test_k_factors,\n",
    "        pickle_path=pickle_path,\n",
    "        x_transform_func=x_transform,\n",
    "    )\n",
    "\n",
    "    train, val, test = eaf.get_train(), eaf.get_val(), eaf.get_test()\n",
    "    train = Lazy_Iterable_Wrapper(train, episode_transform)\n",
    "    val = Lazy_Iterable_Wrapper(val, episode_transform)\n",
    "    test = Lazy_Iterable_Wrapper(test, episode_transform)\n",
    "\n",
    "    if source_or_target_dataset==\"source\":\n",
    "        train_original_source.append(train)\n",
    "        val_original_source.append(val)\n",
    "        test_original_source.append(test)\n",
    "\n",
    "        p.domains_source.extend(\n",
    "            [domain_prefix + str(u) for u in domains]\n",
    "        )\n",
    "    elif source_or_target_dataset==\"target\":\n",
    "        train_original_target.append(train)\n",
    "        val_original_target.append(val)\n",
    "        test_original_target.append(test)\n",
    "        p.domains_target.extend(\n",
    "            [domain_prefix + str(u) for u in domains]\n",
    "        )\n",
    "    else:\n",
    "        raise Exception(f\"invalid source_or_target_dataset: {source_or_target_dataset}\")\n",
    "    "
   ]
  },
  {
   "cell_type": "code",
   "execution_count": 13,
   "id": "fe266617",
   "metadata": {
    "execution": {
     "iopub.execute_input": "2022-03-24T12:42:52.827474Z",
     "iopub.status.busy": "2022-03-24T12:42:52.827230Z",
     "iopub.status.idle": "2022-03-24T12:43:08.037687Z",
     "shell.execute_reply": "2022-03-24T12:43:08.037214Z"
    },
    "papermill": {
     "duration": 15.225911,
     "end_time": "2022-03-24T12:43:08.037794",
     "exception": false,
     "start_time": "2022-03-24T12:42:52.811883",
     "status": "completed"
    },
    "tags": []
   },
   "outputs": [],
   "source": [
    "for ds in p.datasets:\n",
    "    add_dataset(**ds)"
   ]
  },
  {
   "cell_type": "code",
   "execution_count": 14,
   "id": "b90d65ac",
   "metadata": {
    "execution": {
     "iopub.execute_input": "2022-03-24T12:43:08.070940Z",
     "iopub.status.busy": "2022-03-24T12:43:08.070677Z",
     "iopub.status.idle": "2022-03-24T12:43:08.082847Z",
     "shell.execute_reply": "2022-03-24T12:43:08.082443Z"
    },
    "papermill": {
     "duration": 0.027362,
     "end_time": "2022-03-24T12:43:08.082948",
     "exception": false,
     "start_time": "2022-03-24T12:43:08.055586",
     "status": "completed"
    },
    "tags": []
   },
   "outputs": [],
   "source": [
    "# from steves_utils.CORES.utils import (\n",
    "#     ALL_NODES,\n",
    "#     ALL_NODES_MINIMUM_1000_EXAMPLES,\n",
    "#     ALL_DAYS\n",
    "# )\n",
    "\n",
    "# add_dataset(\n",
    "#     labels=ALL_NODES,\n",
    "#     domains = ALL_DAYS,\n",
    "#     num_examples_per_domain_per_label=100,\n",
    "#     pickle_path=os.path.join(get_datasets_base_path(), \"cores.stratified_ds.2022A.pkl\"),\n",
    "#     source_or_target_dataset=\"target\",\n",
    "#     x_transform_func=global_x_transform_func,\n",
    "#     domain_modifier=lambda u: f\"cores_{u}\"\n",
    "# )"
   ]
  },
  {
   "cell_type": "code",
   "execution_count": 15,
   "id": "76db484d",
   "metadata": {
    "execution": {
     "iopub.execute_input": "2022-03-24T12:43:08.115457Z",
     "iopub.status.busy": "2022-03-24T12:43:08.115207Z",
     "iopub.status.idle": "2022-03-24T12:43:08.130387Z",
     "shell.execute_reply": "2022-03-24T12:43:08.129676Z"
    },
    "papermill": {
     "duration": 0.030428,
     "end_time": "2022-03-24T12:43:08.130532",
     "exception": false,
     "start_time": "2022-03-24T12:43:08.100104",
     "status": "completed"
    },
    "tags": []
   },
   "outputs": [],
   "source": [
    "# from steves_utils.ORACLE.utils_v2 import (\n",
    "#     ALL_DISTANCES_FEET,\n",
    "#     ALL_RUNS,\n",
    "#     ALL_SERIAL_NUMBERS,\n",
    "# )\n",
    "\n",
    "\n",
    "# add_dataset(\n",
    "#     labels=ALL_SERIAL_NUMBERS,\n",
    "#     domains = list(set(ALL_DISTANCES_FEET) - {2,62}),\n",
    "#     num_examples_per_domain_per_label=100,\n",
    "#     pickle_path=os.path.join(get_datasets_base_path(), \"oracle.Run2_framed_2000Examples_stratified_ds.2022A.pkl\"),\n",
    "#     source_or_target_dataset=\"source\",\n",
    "#     x_transform_func=global_x_transform_func,\n",
    "#     domain_modifier=lambda u: f\"oracle1_{u}\"\n",
    "# )\n"
   ]
  },
  {
   "cell_type": "code",
   "execution_count": 16,
   "id": "97dea9d2",
   "metadata": {
    "execution": {
     "iopub.execute_input": "2022-03-24T12:43:08.164681Z",
     "iopub.status.busy": "2022-03-24T12:43:08.164433Z",
     "iopub.status.idle": "2022-03-24T12:43:08.174493Z",
     "shell.execute_reply": "2022-03-24T12:43:08.174132Z"
    },
    "papermill": {
     "duration": 0.025022,
     "end_time": "2022-03-24T12:43:08.174564",
     "exception": false,
     "start_time": "2022-03-24T12:43:08.149542",
     "status": "completed"
    },
    "tags": []
   },
   "outputs": [],
   "source": [
    "# from steves_utils.ORACLE.utils_v2 import (\n",
    "#     ALL_DISTANCES_FEET,\n",
    "#     ALL_RUNS,\n",
    "#     ALL_SERIAL_NUMBERS,\n",
    "# )\n",
    "\n",
    "\n",
    "# add_dataset(\n",
    "#     labels=ALL_SERIAL_NUMBERS,\n",
    "#     domains = list(set(ALL_DISTANCES_FEET) - {2,62,56}),\n",
    "#     num_examples_per_domain_per_label=100,\n",
    "#     pickle_path=os.path.join(get_datasets_base_path(), \"oracle.Run2_framed_2000Examples_stratified_ds.2022A.pkl\"),\n",
    "#     source_or_target_dataset=\"source\",\n",
    "#     x_transform_func=global_x_transform_func,\n",
    "#     domain_modifier=lambda u: f\"oracle2_{u}\"\n",
    "# )"
   ]
  },
  {
   "cell_type": "code",
   "execution_count": 17,
   "id": "6f289866",
   "metadata": {
    "execution": {
     "iopub.execute_input": "2022-03-24T12:43:08.205929Z",
     "iopub.status.busy": "2022-03-24T12:43:08.205679Z",
     "iopub.status.idle": "2022-03-24T12:43:08.219251Z",
     "shell.execute_reply": "2022-03-24T12:43:08.218862Z"
    },
    "papermill": {
     "duration": 0.028775,
     "end_time": "2022-03-24T12:43:08.219339",
     "exception": false,
     "start_time": "2022-03-24T12:43:08.190564",
     "status": "completed"
    },
    "tags": []
   },
   "outputs": [],
   "source": [
    "# add_dataset(\n",
    "#     labels=list(range(19)),\n",
    "#     domains = [0,1,2],\n",
    "#     num_examples_per_domain_per_label=100,\n",
    "#     pickle_path=os.path.join(get_datasets_base_path(), \"metehan.stratified_ds.2022A.pkl\"),\n",
    "#     source_or_target_dataset=\"target\",\n",
    "#     x_transform_func=global_x_transform_func,\n",
    "#     domain_modifier=lambda u: f\"met_{u}\"\n",
    "# )"
   ]
  },
  {
   "cell_type": "code",
   "execution_count": 18,
   "id": "86a863c3",
   "metadata": {
    "execution": {
     "iopub.execute_input": "2022-03-24T12:43:08.253831Z",
     "iopub.status.busy": "2022-03-24T12:43:08.253587Z",
     "iopub.status.idle": "2022-03-24T12:43:08.265754Z",
     "shell.execute_reply": "2022-03-24T12:43:08.265545Z"
    },
    "papermill": {
     "duration": 0.02766,
     "end_time": "2022-03-24T12:43:08.265802",
     "exception": false,
     "start_time": "2022-03-24T12:43:08.238142",
     "status": "completed"
    },
    "tags": []
   },
   "outputs": [],
   "source": [
    "# # from steves_utils.wisig.utils import (\n",
    "# #     ALL_NODES_MINIMUM_100_EXAMPLES,\n",
    "# #     ALL_NODES_MINIMUM_500_EXAMPLES,\n",
    "# #     ALL_NODES_MINIMUM_1000_EXAMPLES,\n",
    "# #     ALL_DAYS\n",
    "# # )\n",
    "\n",
    "# import steves_utils.wisig.utils as wisig\n",
    "\n",
    "\n",
    "# add_dataset(\n",
    "#     labels=wisig.ALL_NODES_MINIMUM_100_EXAMPLES,\n",
    "#     domains = wisig.ALL_DAYS,\n",
    "#     num_examples_per_domain_per_label=100,\n",
    "#     pickle_path=os.path.join(get_datasets_base_path(), \"wisig.node3-19.stratified_ds.2022A.pkl\"),\n",
    "#     source_or_target_dataset=\"target\",\n",
    "#     x_transform_func=global_x_transform_func,\n",
    "#     domain_modifier=lambda u: f\"wisig_{u}\"\n",
    "# )"
   ]
  },
  {
   "cell_type": "code",
   "execution_count": 19,
   "id": "fd5442bc",
   "metadata": {
    "execution": {
     "iopub.execute_input": "2022-03-24T12:43:08.301879Z",
     "iopub.status.busy": "2022-03-24T12:43:08.301627Z",
     "iopub.status.idle": "2022-03-24T12:43:08.313412Z",
     "shell.execute_reply": "2022-03-24T12:43:08.313027Z"
    },
    "papermill": {
     "duration": 0.030594,
     "end_time": "2022-03-24T12:43:08.313501",
     "exception": false,
     "start_time": "2022-03-24T12:43:08.282907",
     "status": "completed"
    },
    "tags": []
   },
   "outputs": [],
   "source": [
    "###################################\n",
    "# Build the dataset\n",
    "###################################\n",
    "train_original_source = Iterable_Aggregator(train_original_source, p.seed)\n",
    "val_original_source = Iterable_Aggregator(val_original_source, p.seed)\n",
    "test_original_source = Iterable_Aggregator(test_original_source, p.seed)\n",
    "\n",
    "\n",
    "train_original_target = Iterable_Aggregator(train_original_target, p.seed)\n",
    "val_original_target = Iterable_Aggregator(val_original_target, p.seed)\n",
    "test_original_target = Iterable_Aggregator(test_original_target, p.seed)\n",
    "\n",
    "# For CNN We only use X and Y. And we only train on the source.\n",
    "# Properly form the data using a transform lambda and Lazy_Iterable_Wrapper. Finally wrap them in a dataloader\n",
    "\n",
    "transform_lambda = lambda ex: ex[1] # Original is (<domain>, <episode>) so we strip down to episode only\n",
    "\n",
    "train_processed_source = Lazy_Iterable_Wrapper(train_original_source, transform_lambda)\n",
    "val_processed_source   = Lazy_Iterable_Wrapper(val_original_source, transform_lambda)\n",
    "test_processed_source  = Lazy_Iterable_Wrapper(test_original_source, transform_lambda)\n",
    "\n",
    "train_processed_target = Lazy_Iterable_Wrapper(train_original_target, transform_lambda)\n",
    "val_processed_target   = Lazy_Iterable_Wrapper(val_original_target, transform_lambda)\n",
    "test_processed_target  = Lazy_Iterable_Wrapper(test_original_target, transform_lambda)\n",
    "\n",
    "datasets = EasyDict({\n",
    "    \"source\": {\n",
    "        \"original\": {\"train\":train_original_source, \"val\":val_original_source, \"test\":test_original_source},\n",
    "        \"processed\": {\"train\":train_processed_source, \"val\":val_processed_source, \"test\":test_processed_source}\n",
    "    },\n",
    "    \"target\": {\n",
    "        \"original\": {\"train\":train_original_target, \"val\":val_original_target, \"test\":test_original_target},\n",
    "        \"processed\": {\"train\":train_processed_target, \"val\":val_processed_target, \"test\":test_processed_target}\n",
    "    },\n",
    "})"
   ]
  },
  {
   "cell_type": "code",
   "execution_count": 20,
   "id": "5b3c01fc",
   "metadata": {
    "execution": {
     "iopub.execute_input": "2022-03-24T12:43:08.347749Z",
     "iopub.status.busy": "2022-03-24T12:43:08.347503Z",
     "iopub.status.idle": "2022-03-24T12:43:33.044658Z",
     "shell.execute_reply": "2022-03-24T12:43:33.045128Z"
    },
    "papermill": {
     "duration": 24.713902,
     "end_time": "2022-03-24T12:43:33.045251",
     "exception": false,
     "start_time": "2022-03-24T12:43:08.331349",
     "status": "completed"
    },
    "tags": []
   },
   "outputs": [
    {
     "name": "stdout",
     "output_type": "stream",
     "text": [
      "{'ORACLE.run2_26', 'ORACLE.run2_8', 'ORACLE.run2_32', 'ORACLE.run2_20', 'ORACLE.run2_38', 'ORACLE.run2_44', 'ORACLE.run2_50', 'ORACLE.run2_14'}\n"
     ]
    },
    {
     "name": "stdout",
     "output_type": "stream",
     "text": [
      "{'ORACLE.run1_8', 'ORACLE.run1_14', 'ORACLE.run1_26', 'ORACLE.run1_20', 'ORACLE.run1_44', 'ORACLE.run1_32', 'ORACLE.run1_38', 'ORACLE.run1_50'}\n"
     ]
    },
    {
     "name": "stdout",
     "output_type": "stream",
     "text": [
      "tensor([[[-1.6785e-03, -1.4649e-03,  5.7985e-04,  ...,  1.2513e-03,\n",
      "           4.8830e-04, -3.0519e-04],\n",
      "         [-1.5259e-04,  4.2726e-04, -1.3123e-03,  ..., -2.0447e-03,\n",
      "           1.1597e-03, -3.7538e-03]],\n",
      "\n",
      "        [[ 1.6785e-03,  2.0753e-03, -1.1597e-03,  ..., -3.0519e-05,\n",
      "           6.1647e-03,  3.3265e-03],\n",
      "         [ 1.5870e-03,  4.1810e-03, -7.0193e-04,  ..., -3.4486e-03,\n",
      "          -4.9135e-03, -4.1810e-03]],\n",
      "\n",
      "        [[ 1.6175e-03, -1.0681e-03, -1.6785e-03,  ...,  4.8830e-04,\n",
      "           1.1597e-03,  7.3244e-04],\n",
      "         [ 1.9532e-03,  7.3244e-04, -7.9348e-04,  ..., -3.5401e-03,\n",
      "          -2.2889e-03, -5.7985e-04]],\n",
      "\n",
      "        ...,\n",
      "\n",
      "        [[ 6.7141e-04,  5.7985e-04,  3.9674e-04,  ..., -4.1505e-03,\n",
      "          -6.7141e-03, -1.0376e-03],\n",
      "         [ 1.2207e-03,  8.8504e-04, -1.9227e-03,  ..., -3.9369e-03,\n",
      "           3.8148e-03, -5.7070e-03]],\n",
      "\n",
      "        [[ 6.7141e-04,  4.6388e-03, -1.2207e-03,  ..., -4.0284e-03,\n",
      "           2.2889e-03,  3.6622e-04],\n",
      "         [-3.7233e-03, -1.6480e-03,  2.8687e-03,  ...,  1.8311e-03,\n",
      "          -3.9979e-03, -3.8453e-03]],\n",
      "\n",
      "        [[-1.5259e-04, -1.0987e-03, -1.4649e-03,  ...,  7.9043e-03,\n",
      "           3.2655e-03,  7.0193e-04],\n",
      "         [ 5.3713e-03, -5.2187e-03, -4.2421e-03,  ..., -4.5167e-03,\n",
      "          -1.4344e-03,  1.8921e-03]]])\n"
     ]
    }
   ],
   "source": [
    "from steves_utils.transforms import get_average_magnitude, get_average_power\n",
    "\n",
    "print(set([u for u,_ in val_original_source]))\n",
    "print(set([u for u,_ in val_original_target]))\n",
    "\n",
    "s_x, s_y, q_x, q_y, _ = next(iter(train_processed_source))\n",
    "print(s_x)\n",
    "\n",
    "# for ds in [\n",
    "#     train_processed_source,\n",
    "#     val_processed_source,\n",
    "#     test_processed_source,\n",
    "#     train_processed_target,\n",
    "#     val_processed_target,\n",
    "#     test_processed_target\n",
    "# ]:\n",
    "#     for s_x, s_y, q_x, q_y, _ in ds:\n",
    "#         for X in (s_x, q_x):\n",
    "#             for x in X:\n",
    "#                 assert np.isclose(get_average_magnitude(x.numpy()), 1.0)\n",
    "#                 assert np.isclose(get_average_power(x.numpy()), 1.0)\n",
    "                "
   ]
  },
  {
   "cell_type": "code",
   "execution_count": 21,
   "id": "bbdacba1",
   "metadata": {
    "execution": {
     "iopub.execute_input": "2022-03-24T12:43:33.084489Z",
     "iopub.status.busy": "2022-03-24T12:43:33.084224Z",
     "iopub.status.idle": "2022-03-24T12:43:33.148892Z",
     "shell.execute_reply": "2022-03-24T12:43:33.148435Z"
    },
    "papermill": {
     "duration": 0.082915,
     "end_time": "2022-03-24T12:43:33.148989",
     "exception": false,
     "start_time": "2022-03-24T12:43:33.066074",
     "status": "completed"
    },
    "tags": []
   },
   "outputs": [
    {
     "name": "stdout",
     "output_type": "stream",
     "text": [
      "(2, 256)\n"
     ]
    }
   ],
   "source": [
    "###################################\n",
    "# Build the model\n",
    "###################################\n",
    "# easfsl only wants a tuple for the shape\n",
    "model = Steves_Prototypical_Network(x_net, device=p.device, x_shape=tuple(p.x_shape))\n",
    "optimizer = Adam(params=model.parameters(), lr=p.lr)"
   ]
  },
  {
   "cell_type": "code",
   "execution_count": 22,
   "id": "22b39ac5",
   "metadata": {
    "execution": {
     "iopub.execute_input": "2022-03-24T12:43:33.187397Z",
     "iopub.status.busy": "2022-03-24T12:43:33.187143Z",
     "iopub.status.idle": "2022-03-24T15:00:46.237896Z",
     "shell.execute_reply": "2022-03-24T15:00:46.237662Z"
    },
    "papermill": {
     "duration": 8233.067659,
     "end_time": "2022-03-24T15:00:46.237955",
     "exception": false,
     "start_time": "2022-03-24T12:43:33.170296",
     "status": "completed"
    },
    "tags": []
   },
   "outputs": [
    {
     "name": "stdout",
     "output_type": "stream",
     "text": [
      "epoch: 1, [batch: 1 / 33600], examples_per_second: 10.1407, train_label_loss: 2.7331, \n"
     ]
    },
    {
     "name": "stdout",
     "output_type": "stream",
     "text": [
      "epoch: 1, [batch: 3360 / 33600], examples_per_second: 3208.6080, train_label_loss: 1.1353, \n"
     ]
    },
    {
     "name": "stdout",
     "output_type": "stream",
     "text": [
      "epoch: 1, [batch: 6720 / 33600], examples_per_second: 3196.6155, train_label_loss: 0.3837, \n"
     ]
    },
    {
     "name": "stdout",
     "output_type": "stream",
     "text": [
      "epoch: 1, [batch: 10080 / 33600], examples_per_second: 3202.7174, train_label_loss: 0.4193, \n"
     ]
    },
    {
     "name": "stdout",
     "output_type": "stream",
     "text": [
      "epoch: 1, [batch: 13440 / 33600], examples_per_second: 3188.8016, train_label_loss: 0.6218, \n"
     ]
    },
    {
     "name": "stdout",
     "output_type": "stream",
     "text": [
      "epoch: 1, [batch: 16800 / 33600], examples_per_second: 3200.4900, train_label_loss: 0.2264, \n"
     ]
    },
    {
     "name": "stdout",
     "output_type": "stream",
     "text": [
      "epoch: 1, [batch: 20160 / 33600], examples_per_second: 3198.4417, train_label_loss: 0.7762, \n"
     ]
    },
    {
     "name": "stdout",
     "output_type": "stream",
     "text": [
      "epoch: 1, [batch: 23520 / 33600], examples_per_second: 3187.3504, train_label_loss: 0.3190, \n"
     ]
    },
    {
     "name": "stdout",
     "output_type": "stream",
     "text": [
      "epoch: 1, [batch: 26880 / 33600], examples_per_second: 3200.7475, train_label_loss: 0.3052, \n"
     ]
    },
    {
     "name": "stdout",
     "output_type": "stream",
     "text": [
      "epoch: 1, [batch: 30240 / 33600], examples_per_second: 3202.1199, train_label_loss: 0.2685, \n"
     ]
    },
    {
     "name": "stdout",
     "output_type": "stream",
     "text": [
      "=============================================================\n",
      "epoch: 1, source_val_acc_label: 0.7471, target_val_acc_label: 0.7314, source_val_label_loss: 1.6512, target_val_label_loss: 1.4918, \n",
      "=============================================================\n"
     ]
    },
    {
     "name": "stdout",
     "output_type": "stream",
     "text": [
      "New best\n"
     ]
    },
    {
     "name": "stdout",
     "output_type": "stream",
     "text": [
      "epoch: 2, [batch: 1 / 33600], examples_per_second: 0.9693, train_label_loss: 0.5622, \n"
     ]
    },
    {
     "name": "stdout",
     "output_type": "stream",
     "text": [
      "epoch: 2, [batch: 3360 / 33600], examples_per_second: 3232.5139, train_label_loss: 0.2915, \n"
     ]
    },
    {
     "name": "stdout",
     "output_type": "stream",
     "text": [
      "epoch: 2, [batch: 6720 / 33600], examples_per_second: 3226.9316, train_label_loss: 0.5922, \n"
     ]
    },
    {
     "name": "stdout",
     "output_type": "stream",
     "text": [
      "epoch: 2, [batch: 10080 / 33600], examples_per_second: 3230.7903, train_label_loss: 0.7230, \n"
     ]
    },
    {
     "name": "stdout",
     "output_type": "stream",
     "text": [
      "epoch: 2, [batch: 13440 / 33600], examples_per_second: 3220.1637, train_label_loss: 0.0988, \n"
     ]
    },
    {
     "name": "stdout",
     "output_type": "stream",
     "text": [
      "epoch: 2, [batch: 16800 / 33600], examples_per_second: 3221.6151, train_label_loss: 0.1758, \n"
     ]
    },
    {
     "name": "stdout",
     "output_type": "stream",
     "text": [
      "epoch: 2, [batch: 20160 / 33600], examples_per_second: 3231.6831, train_label_loss: 0.1942, \n"
     ]
    },
    {
     "name": "stdout",
     "output_type": "stream",
     "text": [
      "epoch: 2, [batch: 23520 / 33600], examples_per_second: 3219.2646, train_label_loss: 0.1435, \n"
     ]
    },
    {
     "name": "stdout",
     "output_type": "stream",
     "text": [
      "epoch: 2, [batch: 26880 / 33600], examples_per_second: 3229.7391, train_label_loss: 0.1798, \n"
     ]
    },
    {
     "name": "stdout",
     "output_type": "stream",
     "text": [
      "epoch: 2, [batch: 30240 / 33600], examples_per_second: 3237.2145, train_label_loss: 0.1861, \n"
     ]
    },
    {
     "name": "stdout",
     "output_type": "stream",
     "text": [
      "=============================================================\n",
      "epoch: 2, source_val_acc_label: 0.8624, target_val_acc_label: 0.8392, source_val_label_loss: 0.3877, target_val_label_loss: 0.4705, \n",
      "=============================================================\n"
     ]
    },
    {
     "name": "stdout",
     "output_type": "stream",
     "text": [
      "New best\n"
     ]
    },
    {
     "name": "stdout",
     "output_type": "stream",
     "text": [
      "epoch: 3, [batch: 1 / 33600], examples_per_second: 0.9712, train_label_loss: 0.5054, \n"
     ]
    },
    {
     "name": "stdout",
     "output_type": "stream",
     "text": [
      "epoch: 3, [batch: 3360 / 33600], examples_per_second: 3220.1801, train_label_loss: 0.3425, \n"
     ]
    },
    {
     "name": "stdout",
     "output_type": "stream",
     "text": [
      "epoch: 3, [batch: 6720 / 33600], examples_per_second: 3233.3424, train_label_loss: 0.3520, \n"
     ]
    },
    {
     "name": "stdout",
     "output_type": "stream",
     "text": [
      "epoch: 3, [batch: 10080 / 33600], examples_per_second: 3234.7012, train_label_loss: 0.5377, \n"
     ]
    },
    {
     "name": "stdout",
     "output_type": "stream",
     "text": [
      "epoch: 3, [batch: 13440 / 33600], examples_per_second: 3221.1657, train_label_loss: 0.1112, \n"
     ]
    },
    {
     "name": "stdout",
     "output_type": "stream",
     "text": [
      "epoch: 3, [batch: 16800 / 33600], examples_per_second: 3234.3113, train_label_loss: 0.0776, \n"
     ]
    },
    {
     "name": "stdout",
     "output_type": "stream",
     "text": [
      "epoch: 3, [batch: 20160 / 33600], examples_per_second: 3239.7346, train_label_loss: 0.4228, \n"
     ]
    },
    {
     "name": "stdout",
     "output_type": "stream",
     "text": [
      "epoch: 3, [batch: 23520 / 33600], examples_per_second: 3226.7215, train_label_loss: 0.3320, \n"
     ]
    },
    {
     "name": "stdout",
     "output_type": "stream",
     "text": [
      "epoch: 3, [batch: 26880 / 33600], examples_per_second: 3233.5120, train_label_loss: 0.1555, \n"
     ]
    },
    {
     "name": "stdout",
     "output_type": "stream",
     "text": [
      "epoch: 3, [batch: 30240 / 33600], examples_per_second: 3236.9374, train_label_loss: 0.2364, \n"
     ]
    },
    {
     "name": "stdout",
     "output_type": "stream",
     "text": [
      "=============================================================\n",
      "epoch: 3, source_val_acc_label: 0.8798, target_val_acc_label: 0.8531, source_val_label_loss: 0.3429, target_val_label_loss: 0.4565, \n",
      "=============================================================\n"
     ]
    },
    {
     "name": "stdout",
     "output_type": "stream",
     "text": [
      "New best\n"
     ]
    },
    {
     "name": "stdout",
     "output_type": "stream",
     "text": [
      "epoch: 4, [batch: 1 / 33600], examples_per_second: 0.9729, train_label_loss: 0.1279, \n"
     ]
    },
    {
     "name": "stdout",
     "output_type": "stream",
     "text": [
      "epoch: 4, [batch: 3360 / 33600], examples_per_second: 3224.7560, train_label_loss: 0.1438, \n"
     ]
    },
    {
     "name": "stdout",
     "output_type": "stream",
     "text": [
      "epoch: 4, [batch: 6720 / 33600], examples_per_second: 3228.8850, train_label_loss: 0.3750, \n"
     ]
    },
    {
     "name": "stdout",
     "output_type": "stream",
     "text": [
      "epoch: 4, [batch: 10080 / 33600], examples_per_second: 3240.3284, train_label_loss: 0.2032, \n"
     ]
    },
    {
     "name": "stdout",
     "output_type": "stream",
     "text": [
      "epoch: 4, [batch: 13440 / 33600], examples_per_second: 3226.4538, train_label_loss: 0.1448, \n"
     ]
    },
    {
     "name": "stdout",
     "output_type": "stream",
     "text": [
      "epoch: 4, [batch: 16800 / 33600], examples_per_second: 3235.7658, train_label_loss: 0.0977, \n"
     ]
    },
    {
     "name": "stdout",
     "output_type": "stream",
     "text": [
      "epoch: 4, [batch: 20160 / 33600], examples_per_second: 3236.6826, train_label_loss: 0.7495, \n"
     ]
    },
    {
     "name": "stdout",
     "output_type": "stream",
     "text": [
      "epoch: 4, [batch: 23520 / 33600], examples_per_second: 3225.1463, train_label_loss: 0.5062, \n"
     ]
    },
    {
     "name": "stdout",
     "output_type": "stream",
     "text": [
      "epoch: 4, [batch: 26880 / 33600], examples_per_second: 3232.7518, train_label_loss: 0.4226, \n"
     ]
    },
    {
     "name": "stdout",
     "output_type": "stream",
     "text": [
      "epoch: 4, [batch: 30240 / 33600], examples_per_second: 3233.5038, train_label_loss: 0.0663, \n"
     ]
    },
    {
     "name": "stdout",
     "output_type": "stream",
     "text": [
      "=============================================================\n",
      "epoch: 4, source_val_acc_label: 0.8785, target_val_acc_label: 0.8470, source_val_label_loss: 0.3427, target_val_label_loss: 0.4613, \n",
      "=============================================================\n"
     ]
    },
    {
     "name": "stdout",
     "output_type": "stream",
     "text": [
      "epoch: 5, [batch: 1 / 33600], examples_per_second: 0.9740, train_label_loss: 0.2977, \n"
     ]
    },
    {
     "name": "stdout",
     "output_type": "stream",
     "text": [
      "epoch: 5, [batch: 3360 / 33600], examples_per_second: 3219.1276, train_label_loss: 0.2189, \n"
     ]
    },
    {
     "name": "stdout",
     "output_type": "stream",
     "text": [
      "epoch: 5, [batch: 6720 / 33600], examples_per_second: 3230.8665, train_label_loss: 0.1112, \n"
     ]
    },
    {
     "name": "stdout",
     "output_type": "stream",
     "text": [
      "epoch: 5, [batch: 10080 / 33600], examples_per_second: 3237.9841, train_label_loss: 0.4038, \n"
     ]
    },
    {
     "name": "stdout",
     "output_type": "stream",
     "text": [
      "epoch: 5, [batch: 13440 / 33600], examples_per_second: 3213.2180, train_label_loss: 0.1929, \n"
     ]
    },
    {
     "name": "stdout",
     "output_type": "stream",
     "text": [
      "epoch: 5, [batch: 16800 / 33600], examples_per_second: 3223.2628, train_label_loss: 0.3837, \n"
     ]
    },
    {
     "name": "stdout",
     "output_type": "stream",
     "text": [
      "epoch: 5, [batch: 20160 / 33600], examples_per_second: 3234.0258, train_label_loss: 0.4121, \n"
     ]
    },
    {
     "name": "stdout",
     "output_type": "stream",
     "text": [
      "epoch: 5, [batch: 23520 / 33600], examples_per_second: 3210.9395, train_label_loss: 0.0845, \n"
     ]
    },
    {
     "name": "stdout",
     "output_type": "stream",
     "text": [
      "epoch: 5, [batch: 26880 / 33600], examples_per_second: 3228.3747, train_label_loss: 0.2224, \n"
     ]
    },
    {
     "name": "stdout",
     "output_type": "stream",
     "text": [
      "epoch: 5, [batch: 30240 / 33600], examples_per_second: 3225.8572, train_label_loss: 0.3461, \n"
     ]
    },
    {
     "name": "stdout",
     "output_type": "stream",
     "text": [
      "=============================================================\n",
      "epoch: 5, source_val_acc_label: 0.8860, target_val_acc_label: 0.8533, source_val_label_loss: 0.3140, target_val_label_loss: 0.4679, \n",
      "=============================================================\n"
     ]
    },
    {
     "name": "stdout",
     "output_type": "stream",
     "text": [
      "New best\n"
     ]
    },
    {
     "name": "stdout",
     "output_type": "stream",
     "text": [
      "epoch: 6, [batch: 1 / 33600], examples_per_second: 0.9737, train_label_loss: 0.0573, \n"
     ]
    },
    {
     "name": "stdout",
     "output_type": "stream",
     "text": [
      "epoch: 6, [batch: 3360 / 33600], examples_per_second: 3222.6701, train_label_loss: 0.0320, \n"
     ]
    },
    {
     "name": "stdout",
     "output_type": "stream",
     "text": [
      "epoch: 6, [batch: 6720 / 33600], examples_per_second: 3232.4148, train_label_loss: 0.1553, \n"
     ]
    },
    {
     "name": "stdout",
     "output_type": "stream",
     "text": [
      "epoch: 6, [batch: 10080 / 33600], examples_per_second: 3233.4246, train_label_loss: 0.4711, \n"
     ]
    },
    {
     "name": "stdout",
     "output_type": "stream",
     "text": [
      "epoch: 6, [batch: 13440 / 33600], examples_per_second: 3222.5599, train_label_loss: 0.1887, \n"
     ]
    },
    {
     "name": "stdout",
     "output_type": "stream",
     "text": [
      "epoch: 6, [batch: 16800 / 33600], examples_per_second: 3224.1818, train_label_loss: 0.0940, \n"
     ]
    },
    {
     "name": "stdout",
     "output_type": "stream",
     "text": [
      "epoch: 6, [batch: 20160 / 33600], examples_per_second: 3232.2744, train_label_loss: 0.0425, \n"
     ]
    },
    {
     "name": "stdout",
     "output_type": "stream",
     "text": [
      "epoch: 6, [batch: 23520 / 33600], examples_per_second: 3223.1788, train_label_loss: 0.2690, \n"
     ]
    },
    {
     "name": "stdout",
     "output_type": "stream",
     "text": [
      "epoch: 6, [batch: 26880 / 33600], examples_per_second: 3229.3820, train_label_loss: 0.4550, \n"
     ]
    },
    {
     "name": "stdout",
     "output_type": "stream",
     "text": [
      "epoch: 6, [batch: 30240 / 33600], examples_per_second: 3235.3414, train_label_loss: 0.1092, \n"
     ]
    },
    {
     "name": "stdout",
     "output_type": "stream",
     "text": [
      "=============================================================\n",
      "epoch: 6, source_val_acc_label: 0.8845, target_val_acc_label: 0.8497, source_val_label_loss: 0.3194, target_val_label_loss: 0.4816, \n",
      "=============================================================\n"
     ]
    },
    {
     "name": "stdout",
     "output_type": "stream",
     "text": [
      "epoch: 7, [batch: 1 / 33600], examples_per_second: 0.9724, train_label_loss: 0.2480, \n"
     ]
    },
    {
     "name": "stdout",
     "output_type": "stream",
     "text": [
      "epoch: 7, [batch: 3360 / 33600], examples_per_second: 3218.6654, train_label_loss: 0.2674, \n"
     ]
    },
    {
     "name": "stdout",
     "output_type": "stream",
     "text": [
      "epoch: 7, [batch: 6720 / 33600], examples_per_second: 3228.4103, train_label_loss: 0.2277, \n"
     ]
    },
    {
     "name": "stdout",
     "output_type": "stream",
     "text": [
      "epoch: 7, [batch: 10080 / 33600], examples_per_second: 3230.7139, train_label_loss: 0.0392, \n"
     ]
    },
    {
     "name": "stdout",
     "output_type": "stream",
     "text": [
      "epoch: 7, [batch: 13440 / 33600], examples_per_second: 3223.6686, train_label_loss: 0.0300, \n"
     ]
    },
    {
     "name": "stdout",
     "output_type": "stream",
     "text": [
      "epoch: 7, [batch: 16800 / 33600], examples_per_second: 3232.3290, train_label_loss: 0.2650, \n"
     ]
    },
    {
     "name": "stdout",
     "output_type": "stream",
     "text": [
      "epoch: 7, [batch: 20160 / 33600], examples_per_second: 3234.9368, train_label_loss: 0.2591, \n"
     ]
    },
    {
     "name": "stdout",
     "output_type": "stream",
     "text": [
      "epoch: 7, [batch: 23520 / 33600], examples_per_second: 3216.5547, train_label_loss: 0.1062, \n"
     ]
    },
    {
     "name": "stdout",
     "output_type": "stream",
     "text": [
      "epoch: 7, [batch: 26880 / 33600], examples_per_second: 3225.4106, train_label_loss: 0.1900, \n"
     ]
    },
    {
     "name": "stdout",
     "output_type": "stream",
     "text": [
      "epoch: 7, [batch: 30240 / 33600], examples_per_second: 3227.9258, train_label_loss: 0.3495, \n"
     ]
    },
    {
     "name": "stdout",
     "output_type": "stream",
     "text": [
      "=============================================================\n",
      "epoch: 7, source_val_acc_label: 0.8868, target_val_acc_label: 0.8469, source_val_label_loss: 0.3157, target_val_label_loss: 0.4869, \n",
      "=============================================================\n"
     ]
    },
    {
     "name": "stdout",
     "output_type": "stream",
     "text": [
      "epoch: 8, [batch: 1 / 33600], examples_per_second: 0.9744, train_label_loss: 0.6827, \n"
     ]
    },
    {
     "name": "stdout",
     "output_type": "stream",
     "text": [
      "epoch: 8, [batch: 3360 / 33600], examples_per_second: 3218.6284, train_label_loss: 0.5133, \n"
     ]
    },
    {
     "name": "stdout",
     "output_type": "stream",
     "text": [
      "epoch: 8, [batch: 6720 / 33600], examples_per_second: 3228.4561, train_label_loss: 0.0152, \n"
     ]
    },
    {
     "name": "stdout",
     "output_type": "stream",
     "text": [
      "epoch: 8, [batch: 10080 / 33600], examples_per_second: 3230.9262, train_label_loss: 0.1670, \n"
     ]
    },
    {
     "name": "stdout",
     "output_type": "stream",
     "text": [
      "epoch: 8, [batch: 13440 / 33600], examples_per_second: 3213.6319, train_label_loss: 0.1112, \n"
     ]
    },
    {
     "name": "stdout",
     "output_type": "stream",
     "text": [
      "epoch: 8, [batch: 16800 / 33600], examples_per_second: 3223.9910, train_label_loss: 0.0184, \n"
     ]
    },
    {
     "name": "stdout",
     "output_type": "stream",
     "text": [
      "epoch: 8, [batch: 20160 / 33600], examples_per_second: 3233.7501, train_label_loss: 0.0464, \n"
     ]
    },
    {
     "name": "stdout",
     "output_type": "stream",
     "text": [
      "epoch: 8, [batch: 23520 / 33600], examples_per_second: 3225.5755, train_label_loss: 0.2293, \n"
     ]
    },
    {
     "name": "stdout",
     "output_type": "stream",
     "text": [
      "epoch: 8, [batch: 26880 / 33600], examples_per_second: 3229.3256, train_label_loss: 0.1285, \n"
     ]
    },
    {
     "name": "stdout",
     "output_type": "stream",
     "text": [
      "epoch: 8, [batch: 30240 / 33600], examples_per_second: 3233.1902, train_label_loss: 0.1585, \n"
     ]
    },
    {
     "name": "stdout",
     "output_type": "stream",
     "text": [
      "=============================================================\n",
      "epoch: 8, source_val_acc_label: 0.8881, target_val_acc_label: 0.8443, source_val_label_loss: 0.3176, target_val_label_loss: 0.5251, \n",
      "=============================================================\n"
     ]
    },
    {
     "name": "stdout",
     "output_type": "stream",
     "text": [
      "epoch: 9, [batch: 1 / 33600], examples_per_second: 0.9704, train_label_loss: 0.1371, \n"
     ]
    },
    {
     "name": "stdout",
     "output_type": "stream",
     "text": [
      "epoch: 9, [batch: 3360 / 33600], examples_per_second: 3215.4215, train_label_loss: 0.1079, \n"
     ]
    },
    {
     "name": "stdout",
     "output_type": "stream",
     "text": [
      "epoch: 9, [batch: 6720 / 33600], examples_per_second: 3229.8074, train_label_loss: 0.1009, \n"
     ]
    },
    {
     "name": "stdout",
     "output_type": "stream",
     "text": [
      "epoch: 9, [batch: 10080 / 33600], examples_per_second: 3229.9456, train_label_loss: 0.0179, \n"
     ]
    },
    {
     "name": "stdout",
     "output_type": "stream",
     "text": [
      "epoch: 9, [batch: 13440 / 33600], examples_per_second: 3212.1572, train_label_loss: 0.2300, \n"
     ]
    },
    {
     "name": "stdout",
     "output_type": "stream",
     "text": [
      "epoch: 9, [batch: 16800 / 33600], examples_per_second: 3226.6402, train_label_loss: 0.1981, \n"
     ]
    },
    {
     "name": "stdout",
     "output_type": "stream",
     "text": [
      "epoch: 9, [batch: 20160 / 33600], examples_per_second: 3232.5432, train_label_loss: 0.1215, \n"
     ]
    },
    {
     "name": "stdout",
     "output_type": "stream",
     "text": [
      "epoch: 9, [batch: 23520 / 33600], examples_per_second: 3225.9186, train_label_loss: 0.0607, \n"
     ]
    },
    {
     "name": "stdout",
     "output_type": "stream",
     "text": [
      "epoch: 9, [batch: 26880 / 33600], examples_per_second: 3229.0681, train_label_loss: 0.1257, \n"
     ]
    },
    {
     "name": "stdout",
     "output_type": "stream",
     "text": [
      "epoch: 9, [batch: 30240 / 33600], examples_per_second: 3227.6970, train_label_loss: 0.1602, \n"
     ]
    },
    {
     "name": "stdout",
     "output_type": "stream",
     "text": [
      "=============================================================\n",
      "epoch: 9, source_val_acc_label: 0.8955, target_val_acc_label: 0.8506, source_val_label_loss: 0.3086, target_val_label_loss: 0.5377, \n",
      "=============================================================\n"
     ]
    },
    {
     "name": "stdout",
     "output_type": "stream",
     "text": [
      "Patience (3) exhausted\n"
     ]
    }
   ],
   "source": [
    "###################################\n",
    "# train\n",
    "###################################\n",
    "jig = PTN_Train_Eval_Test_Jig(model, p.BEST_MODEL_PATH, p.device)\n",
    "\n",
    "jig.train(\n",
    "    train_iterable=datasets.source.processed.train,\n",
    "    source_val_iterable=datasets.source.processed.val,\n",
    "    target_val_iterable=datasets.target.processed.val,\n",
    "    num_epochs=p.n_epoch,\n",
    "    num_logs_per_epoch=p.NUM_LOGS_PER_EPOCH,\n",
    "    patience=p.patience,\n",
    "    optimizer=optimizer,\n",
    "    criteria_for_best=p.criteria_for_best,\n",
    ")"
   ]
  },
  {
   "cell_type": "code",
   "execution_count": 23,
   "id": "31e8fabf",
   "metadata": {
    "execution": {
     "iopub.execute_input": "2022-03-24T15:00:46.306977Z",
     "iopub.status.busy": "2022-03-24T15:00:46.306729Z",
     "iopub.status.idle": "2022-03-24T15:00:46.324749Z",
     "shell.execute_reply": "2022-03-24T15:00:46.324298Z"
    },
    "papermill": {
     "duration": 0.054067,
     "end_time": "2022-03-24T15:00:46.324838",
     "exception": false,
     "start_time": "2022-03-24T15:00:46.270771",
     "status": "completed"
    },
    "tags": []
   },
   "outputs": [],
   "source": [
    "total_experiment_time_secs = time.time() - start_time_secs"
   ]
  },
  {
   "cell_type": "code",
   "execution_count": 24,
   "id": "87b9595b",
   "metadata": {
    "execution": {
     "iopub.execute_input": "2022-03-24T15:00:46.399749Z",
     "iopub.status.busy": "2022-03-24T15:00:46.399478Z",
     "iopub.status.idle": "2022-03-24T15:08:48.178625Z",
     "shell.execute_reply": "2022-03-24T15:08:48.178942Z"
    },
    "papermill": {
     "duration": 481.818392,
     "end_time": "2022-03-24T15:08:48.179050",
     "exception": false,
     "start_time": "2022-03-24T15:00:46.360658",
     "status": "completed"
    },
    "tags": []
   },
   "outputs": [],
   "source": [
    "###################################\n",
    "# Evaluate the model\n",
    "###################################\n",
    "source_test_label_accuracy, source_test_label_loss = jig.test(datasets.source.processed.test)\n",
    "target_test_label_accuracy, target_test_label_loss = jig.test(datasets.target.processed.test)\n",
    "\n",
    "source_val_label_accuracy, source_val_label_loss = jig.test(datasets.source.processed.val)\n",
    "target_val_label_accuracy, target_val_label_loss = jig.test(datasets.target.processed.val)\n",
    "\n",
    "history = jig.get_history()\n",
    "\n",
    "total_epochs_trained = len(history[\"epoch_indices\"])\n",
    "\n",
    "val_dl = Iterable_Aggregator((datasets.source.original.val,datasets.target.original.val))\n",
    "\n",
    "confusion = ptn_confusion_by_domain_over_dataloader(model, p.device, val_dl)\n",
    "per_domain_accuracy = per_domain_accuracy_from_confusion(confusion)\n",
    "\n",
    "# Add a key to per_domain_accuracy for if it was a source domain\n",
    "for domain, accuracy in per_domain_accuracy.items():\n",
    "    per_domain_accuracy[domain] = {\n",
    "        \"accuracy\": accuracy,\n",
    "        \"source?\": domain in p.domains_source\n",
    "    }\n",
    "\n",
    "# Do an independent accuracy assesment JUST TO BE SURE!\n",
    "# _source_test_label_accuracy = independent_accuracy_assesment(model, datasets.source.processed.test, p.device)\n",
    "# _target_test_label_accuracy = independent_accuracy_assesment(model, datasets.target.processed.test, p.device)\n",
    "# _source_val_label_accuracy = independent_accuracy_assesment(model, datasets.source.processed.val, p.device)\n",
    "# _target_val_label_accuracy = independent_accuracy_assesment(model, datasets.target.processed.val, p.device)\n",
    "\n",
    "# assert(_source_test_label_accuracy == source_test_label_accuracy)\n",
    "# assert(_target_test_label_accuracy == target_test_label_accuracy)\n",
    "# assert(_source_val_label_accuracy == source_val_label_accuracy)\n",
    "# assert(_target_val_label_accuracy == target_val_label_accuracy)\n",
    "\n",
    "experiment = {\n",
    "    \"experiment_name\": p.experiment_name,\n",
    "    \"parameters\": dict(p),\n",
    "    \"results\": {\n",
    "        \"source_test_label_accuracy\": source_test_label_accuracy,\n",
    "        \"source_test_label_loss\": source_test_label_loss,\n",
    "        \"target_test_label_accuracy\": target_test_label_accuracy,\n",
    "        \"target_test_label_loss\": target_test_label_loss,\n",
    "        \"source_val_label_accuracy\": source_val_label_accuracy,\n",
    "        \"source_val_label_loss\": source_val_label_loss,\n",
    "        \"target_val_label_accuracy\": target_val_label_accuracy,\n",
    "        \"target_val_label_loss\": target_val_label_loss,\n",
    "        \"total_epochs_trained\": total_epochs_trained,\n",
    "        \"total_experiment_time_secs\": total_experiment_time_secs,\n",
    "        \"confusion\": confusion,\n",
    "        \"per_domain_accuracy\": per_domain_accuracy,\n",
    "    },\n",
    "    \"history\": history,\n",
    "    \"dataset_metrics\": get_dataset_metrics(datasets, \"ptn\"),\n",
    "}"
   ]
  },
  {
   "cell_type": "code",
   "execution_count": 25,
   "id": "54a21829",
   "metadata": {
    "execution": {
     "iopub.execute_input": "2022-03-24T15:08:48.252427Z",
     "iopub.status.busy": "2022-03-24T15:08:48.252168Z",
     "iopub.status.idle": "2022-03-24T15:08:48.382106Z",
     "shell.execute_reply": "2022-03-24T15:08:48.382512Z"
    },
    "papermill": {
     "duration": 0.165444,
     "end_time": "2022-03-24T15:08:48.382640",
     "exception": false,
     "start_time": "2022-03-24T15:08:48.217196",
     "status": "completed"
    },
    "tags": []
   },
   "outputs": [
    {
     "data": {
      "image/png": "[encoded data removed]",
      "text/plain": [
       "<Figure size 1080x504 with 1 Axes>"
      ]
     },
     "metadata": {
      "needs_background": "light"
     },
     "output_type": "display_data"
    }
   ],
   "source": [
    "ax = get_loss_curve(experiment)\n",
    "plt.show()"
   ]
  },
  {
   "cell_type": "code",
   "execution_count": 26,
   "id": "fd8a0f60",
   "metadata": {
    "execution": {
     "iopub.execute_input": "2022-03-24T15:08:48.460355Z",
     "iopub.status.busy": "2022-03-24T15:08:48.456614Z",
     "iopub.status.idle": "2022-03-24T15:08:48.597699Z",
     "shell.execute_reply": "2022-03-24T15:08:48.597313Z"
    },
    "papermill": {
     "duration": 0.177599,
     "end_time": "2022-03-24T15:08:48.597781",
     "exception": false,
     "start_time": "2022-03-24T15:08:48.420182",
     "status": "completed"
    },
    "tags": []
   },
   "outputs": [
    {
     "data": {
      "text/plain": [
       "<AxesSubplot:title={'center':'Results'}>"
      ]
     },
     "execution_count": 26,
     "metadata": {},
     "output_type": "execute_result"
    },
    {
     "data": {
      "image/png": "[encoded data removed]",
      "text/plain": [
       "<Figure size 1080x504 with 1 Axes>"
      ]
     },
     "metadata": {
      "needs_background": "light"
     },
     "output_type": "display_data"
    }
   ],
   "source": [
    "get_results_table(experiment)"
   ]
  },
  {
   "cell_type": "code",
   "execution_count": 27,
   "id": "cf8dc689",
   "metadata": {
    "execution": {
     "iopub.execute_input": "2022-03-24T15:08:48.673515Z",
     "iopub.status.busy": "2022-03-24T15:08:48.673253Z",
     "iopub.status.idle": "2022-03-24T15:08:48.835255Z",
     "shell.execute_reply": "2022-03-24T15:08:48.835657Z"
    },
    "papermill": {
     "duration": 0.199548,
     "end_time": "2022-03-24T15:08:48.835784",
     "exception": false,
     "start_time": "2022-03-24T15:08:48.636236",
     "status": "completed"
    },
    "tags": []
   },
   "outputs": [
    {
     "data": {
      "text/plain": [
       "<AxesSubplot:title={'center':'Per Domain Validation Accuracy'}, xlabel='domain'>"
      ]
     },
     "execution_count": 27,
     "metadata": {},
     "output_type": "execute_result"
    },
    {
     "data": {
      "image/png": "[encoded data removed]",
      "text/plain": [
       "<Figure size 1080x504 with 1 Axes>"
      ]
     },
     "metadata": {
      "needs_background": "light"
     },
     "output_type": "display_data"
    }
   ],
   "source": [
    "get_domain_accuracies(experiment)"
   ]
  },
  {
   "cell_type": "code",
   "execution_count": 28,
   "id": "a74ae082",
   "metadata": {
    "execution": {
     "iopub.execute_input": "2022-03-24T15:08:48.912353Z",
     "iopub.status.busy": "2022-03-24T15:08:48.912098Z",
     "iopub.status.idle": "2022-03-24T15:08:48.929116Z",
     "shell.execute_reply": "2022-03-24T15:08:48.929321Z"
    },
    "papermill": {
     "duration": 0.054981,
     "end_time": "2022-03-24T15:08:48.929393",
     "exception": false,
     "start_time": "2022-03-24T15:08:48.874412",
     "status": "completed"
    },
    "tags": []
   },
   "outputs": [
    {
     "name": "stdout",
     "output_type": "stream",
     "text": [
      "Source Test Label Accuracy: 0.88431640625 Target Test Label Accuracy: 0.85451171875\n",
      "Source Val Label Accuracy: 0.8860481770833334 Target Val Label Accuracy: 0.8533333333333334\n"
     ]
    }
   ],
   "source": [
    "print(\"Source Test Label Accuracy:\", experiment[\"results\"][\"source_test_label_accuracy\"], \"Target Test Label Accuracy:\", experiment[\"results\"][\"target_test_label_accuracy\"])\n",
    "print(\"Source Val Label Accuracy:\", experiment[\"results\"][\"source_val_label_accuracy\"], \"Target Val Label Accuracy:\", experiment[\"results\"][\"target_val_label_accuracy\"])"
   ]
  },
  {
   "cell_type": "code",
   "execution_count": 29,
   "id": "dacca602",
   "metadata": {
    "execution": {
     "iopub.execute_input": "2022-03-24T15:08:49.003842Z",
     "iopub.status.busy": "2022-03-24T15:08:49.003449Z",
     "iopub.status.idle": "2022-03-24T15:08:49.015987Z",
     "shell.execute_reply": "2022-03-24T15:08:49.016202Z"
    },
    "papermill": {
     "duration": 0.050923,
     "end_time": "2022-03-24T15:08:49.016279",
     "exception": false,
     "start_time": "2022-03-24T15:08:48.965356",
     "status": "completed"
    },
    "tags": [
     "experiment_json"
    ]
   },
   "outputs": [
    {
     "data": {
      "text/plain": [
       "'{\"experiment_name\": \"tl_1v2:oracle.run1-oracle.run2\", \"parameters\": {\"experiment_name\": \"tl_1v2:oracle.run1-oracle.run2\", \"device\": \"cuda\", \"lr\": 0.0001, \"n_shot\": 3, \"n_query\": 2, \"train_k_factor\": 3, \"val_k_factor\": 2, \"test_k_factor\": 2, \"torch_default_dtype\": \"torch.float32\", \"n_epoch\": 50, \"patience\": 3, \"criteria_for_best\": \"target_accuracy\", \"x_net\": [{\"class\": \"nnReshape\", \"kargs\": {\"shape\": [-1, 1, 2, 256]}}, {\"class\": \"Conv2d\", \"kargs\": {\"in_channels\": 1, \"out_channels\": 256, \"kernel_size\": [1, 7], \"bias\": false, \"padding\": [0, 3]}}, {\"class\": \"ReLU\", \"kargs\": {\"inplace\": true}}, {\"class\": \"BatchNorm2d\", \"kargs\": {\"num_features\": 256}}, {\"class\": \"Conv2d\", \"kargs\": {\"in_channels\": 256, \"out_channels\": 80, \"kernel_size\": [2, 7], \"bias\": true, \"padding\": [0, 3]}}, {\"class\": \"ReLU\", \"kargs\": {\"inplace\": true}}, {\"class\": \"BatchNorm2d\", \"kargs\": {\"num_features\": 80}}, {\"class\": \"Flatten\", \"kargs\": {}}, {\"class\": \"Linear\", \"kargs\": {\"in_features\": 20480, \"out_features\": 256}}, {\"class\": \"ReLU\", \"kargs\": {\"inplace\": true}}, {\"class\": \"BatchNorm1d\", \"kargs\": {\"num_features\": 256}}, {\"class\": \"Linear\", \"kargs\": {\"in_features\": 256, \"out_features\": 256}}], \"NUM_LOGS_PER_EPOCH\": 10, \"BEST_MODEL_PATH\": \"./best_model.pth\", \"n_way\": 16, \"datasets\": [{\"labels\": [\"3123D52\", \"3123D65\", \"3123D79\", \"3123D80\", \"3123D54\", \"3123D70\", \"3123D7B\", \"3123D89\", \"3123D58\", \"3123D76\", \"3123D7D\", \"3123EFE\", \"3123D64\", \"3123D78\", \"3123D7E\", \"3124E4A\"], \"domains\": [32, 38, 8, 44, 14, 50, 20, 26], \"num_examples_per_domain_per_label\": 10000, \"pickle_path\": \"/mnt/wd500GB/CSC500/csc500-main/datasets/oracle.Run1_10kExamples_stratified_ds.2022A.pkl\", \"source_or_target_dataset\": \"target\", \"x_transforms\": [], \"episode_transforms\": [], \"domain_prefix\": \"ORACLE.run1_\"}, {\"labels\": [\"3123D52\", \"3123D65\", \"3123D79\", \"3123D80\", \"3123D54\", \"3123D70\", \"3123D7B\", \"3123D89\", \"3123D58\", \"3123D76\", \"3123D7D\", \"3123EFE\", \"3123D64\", \"3123D78\", \"3123D7E\", \"3124E4A\"], \"domains\": [32, 38, 8, 44, 14, 50, 20, 26], \"num_examples_per_domain_per_label\": 10000, \"pickle_path\": \"/mnt/wd500GB/CSC500/csc500-main/datasets/oracle.Run2_10kExamples_stratified_ds.2022A.pkl\", \"source_or_target_dataset\": \"source\", \"x_transforms\": [], \"episode_transforms\": [], \"domain_prefix\": \"ORACLE.run2_\"}], \"dataset_seed\": 420, \"seed\": 420, \"x_shape\": [2, 256], \"domains_source\": [\"ORACLE.run2_32\", \"ORACLE.run2_38\", \"ORACLE.run2_8\", \"ORACLE.run2_44\", \"ORACLE.run2_14\", \"ORACLE.run2_50\", \"ORACLE.run2_20\", \"ORACLE.run2_26\"], \"domains_target\": [\"ORACLE.run1_32\", \"ORACLE.run1_38\", \"ORACLE.run1_8\", \"ORACLE.run1_44\", \"ORACLE.run1_14\", \"ORACLE.run1_50\", \"ORACLE.run1_20\", \"ORACLE.run1_26\"]}, \"results\": {\"source_test_label_accuracy\": 0.88431640625, \"source_test_label_loss\": 0.315993994474411, \"target_test_label_accuracy\": 0.85451171875, \"target_test_label_loss\": 0.46465566754341125, \"source_val_label_accuracy\": 0.8860481770833334, \"source_val_label_loss\": 0.314005970954895, \"target_val_label_accuracy\": 0.8533333333333334, \"target_val_label_loss\": 0.46792080998420715, \"total_epochs_trained\": 9, \"total_experiment_time_secs\": 8273.672241449356, \"confusion\": {\"ORACLE.run2_14\": {\"15\": {\"15\": 1200}, \"5\": {\"5\": 1079, \"2\": 95, \"3\": 14, \"14\": 8, \"4\": 4}, \"7\": {\"7\": 1200}, \"4\": {\"4\": 1196, \"5\": 4}, \"10\": {\"0\": 125, \"10\": 1058, \"14\": 7, \"12\": 7, \"9\": 3}, \"11\": {\"11\": 1200}, \"12\": {\"11\": 36, \"12\": 755, \"9\": 253, \"10\": 82, \"0\": 56, \"3\": 7, \"1\": 7, \"8\": 3, \"4\": 1}, \"0\": {\"0\": 1177, \"10\": 23}, \"14\": {\"14\": 1079, \"0\": 15, \"2\": 92, \"5\": 8, \"3\": 3, \"10\": 3}, \"8\": {\"8\": 1200}, \"13\": {\"6\": 207, \"13\": 993}, \"6\": {\"6\": 1069, \"3\": 1, \"13\": 130}, \"1\": {\"1\": 1200}, \"3\": {\"3\": 1184, \"2\": 11, \"5\": 4, \"14\": 1}, \"9\": {\"9\": 1200}, \"2\": {\"2\": 734, \"14\": 184, \"5\": 215, \"4\": 11, \"3\": 54, \"0\": 2}}, \"ORACLE.run2_20\": {\"4\": {\"4\": 1120, \"12\": 3, \"3\": 44, \"9\": 18, \"7\": 7, \"2\": 3, \"15\": 2, \"5\": 1, \"10\": 2}, \"10\": {\"10\": 1152, \"6\": 35, \"7\": 7, \"4\": 5, \"12\": 1}, \"15\": {\"15\": 759, \"9\": 257, \"3\": 14, \"2\": 113, \"12\": 12, \"13\": 17, \"4\": 4, \"1\": 12, \"5\": 12}, \"0\": {\"0\": 1179, \"1\": 15, \"8\": 5, \"5\": 1}, \"6\": {\"6\": 1171, \"10\": 16, \"7\": 13}, \"3\": {\"2\": 112, \"7\": 124, \"3\": 632, \"9\": 152, \"5\": 96, \"4\": 58, \"15\": 25, \"12\": 1}, \"7\": {\"7\": 1054, \"3\": 120, \"2\": 4, \"6\": 4, \"4\": 14, \"10\": 3, \"12\": 1}, \"2\": {\"2\": 461, \"5\": 262, \"9\": 300, \"15\": 76, \"3\": 89, \"1\": 9, \"4\": 2, \"7\": 1}, \"8\": {\"8\": 1114, \"14\": 83, \"0\": 3}, \"11\": {\"11\": 1200}, \"14\": {\"14\": 1089, \"8\": 111}, \"12\": {\"12\": 1139, \"13\": 53, \"4\": 4, \"15\": 2, \"7\": 1, \"2\": 1}, \"13\": {\"13\": 1095, \"12\": 87, \"15\": 17, \"3\": 1}, \"9\": {\"3\": 136, \"15\": 170, \"9\": 490, \"5\": 80, \"2\": 298, \"7\": 5, \"13\": 1, \"1\": 10, \"4\": 10}, \"5\": {\"5\": 571, \"1\": 102, \"3\": 98, \"9\": 124, \"2\": 270, \"15\": 26, \"0\": 4, \"4\": 4, \"7\": 1}, \"1\": {\"1\": 1116, \"5\": 60, \"9\": 7, \"2\": 13, \"15\": 4}}, \"ORACLE.run2_50\": {\"5\": {\"4\": 274, \"5\": 841, \"6\": 50, \"7\": 35}, \"12\": {\"12\": 1177, \"11\": 11, \"9\": 12}, \"14\": {\"14\": 1198, \"2\": 2}, \"4\": {\"5\": 259, \"4\": 899, \"7\": 37, \"6\": 3, \"15\": 2}, \"13\": {\"13\": 1195, \"10\": 5}, \"10\": {\"10\": 1179, \"0\": 9, \"13\": 12}, \"9\": {\"9\": 1196, \"12\": 4}, \"15\": {\"15\": 1160, \"6\": 34, \"4\": 2, \"11\": 4}, \"6\": {\"6\": 1121, \"15\": 35, \"5\": 41, \"4\": 3}, \"2\": {\"2\": 1174, \"0\": 26}, \"0\": {\"0\": 1159, \"2\": 34, \"10\": 7}, \"11\": {\"11\": 1188, \"12\": 9, \"15\": 2, \"1\": 1}, \"3\": {\"3\": 1200}, \"8\": {\"8\": 1199, \"13\": 1}, \"7\": {\"7\": 1150, \"5\": 23, \"4\": 27}, \"1\": {\"1\": 1199, \"10\": 1}}, \"ORACLE.run2_26\": {\"7\": {\"3\": 148, \"7\": 850, \"2\": 109, \"9\": 54, \"13\": 28, \"8\": 11}, \"6\": {\"6\": 983, \"5\": 177, \"10\": 15, \"14\": 12, \"1\": 13}, \"14\": {\"0\": 190, \"1\": 55, \"14\": 754, \"10\": 179, \"15\": 5, \"6\": 10, \"5\": 7}, \"15\": {\"15\": 1105, \"2\": 33, \"0\": 28, \"8\": 19, \"10\": 10, \"14\": 3, \"5\": 2}, \"5\": {\"5\": 882, \"6\": 282, \"14\": 6, \"10\": 3, \"15\": 19, \"1\": 7, \"9\": 1}, \"10\": {\"1\": 43, \"10\": 477, \"0\": 291, \"15\": 24, \"8\": 90, \"14\": 236, \"2\": 7, \"6\": 28, \"5\": 2, \"9\": 2}, \"4\": {\"4\": 1200}, \"11\": {\"11\": 1200}, \"13\": {\"13\": 1110, \"9\": 66, \"7\": 24}, \"2\": {\"2\": 831, \"9\": 87, \"8\": 213, \"7\": 53, \"15\": 14, \"0\": 2}, \"0\": {\"0\": 770, \"10\": 237, \"14\": 132, \"8\": 14, \"15\": 42, \"2\": 5}, \"12\": {\"12\": 1200}, \"3\": {\"3\": 1055, \"7\": 140, \"2\": 4, \"4\": 1}, \"9\": {\"9\": 863, \"2\": 74, \"8\": 145, \"7\": 72, \"13\": 46}, \"8\": {\"8\": 865, \"9\": 112, \"2\": 184, \"10\": 16, \"0\": 11, \"15\": 8, \"7\": 4}, \"1\": {\"1\": 1154, \"6\": 20, \"5\": 8, \"14\": 16, \"10\": 1, \"0\": 1}}, \"ORACLE.run2_32\": {\"7\": {\"7\": 1047, \"0\": 99, \"8\": 31, \"2\": 21, \"11\": 2}, \"2\": {\"2\": 981, \"14\": 160, \"0\": 36, \"7\": 22, \"8\": 1}, \"5\": {\"5\": 1105, \"14\": 53, \"2\": 20, \"15\": 13, \"8\": 6, \"7\": 3}, \"6\": {\"6\": 1200}, \"13\": {\"13\": 1066, \"4\": 27, \"11\": 82, \"3\": 25}, \"4\": {\"4\": 1034, \"11\": 130, \"0\": 24, \"13\": 9, \"3\": 2, \"8\": 1}, \"3\": {\"3\": 1166, \"13\": 30, \"11\": 3, \"4\": 1}, \"0\": {\"0\": 932, \"4\": 45, \"7\": 65, \"2\": 65, \"8\": 82, \"14\": 10, \"11\": 1}, \"9\": {\"9\": 1197, \"14\": 2, \"12\": 1}, \"12\": {\"12\": 1200}, \"8\": {\"8\": 1108, \"0\": 76, \"7\": 14, \"2\": 2}, \"14\": {\"14\": 966, \"2\": 218, \"0\": 14, \"8\": 1, \"5\": 1}, \"15\": {\"15\": 1200}, \"11\": {\"11\": 833, \"13\": 133, \"4\": 216, \"7\": 8, \"0\": 10}, \"10\": {\"10\": 1200}, \"1\": {\"1\": 1200}}, \"ORACLE.run2_44\": {\"11\": {\"11\": 1200}, \"7\": {\"7\": 906, \"9\": 291, \"6\": 3}, \"6\": {\"6\": 1188, \"13\": 9, \"7\": 3}, \"12\": {\"12\": 1121, \"3\": 79}, \"4\": {\"4\": 1112, \"14\": 87, \"5\": 1}, \"13\": {\"13\": 1154, \"6\": 21, \"4\": 24, \"11\": 1}, \"8\": {\"8\": 987, \"0\": 178, \"5\": 20, \"15\": 15}, \"5\": {\"5\": 1132, \"8\": 24, \"14\": 29, \"15\": 14, \"0\": 1}, \"14\": {\"14\": 1108, \"4\": 72, \"5\": 18, \"15\": 1, \"8\": 1}, \"3\": {\"3\": 1137, \"12\": 62, \"1\": 1}, \"10\": {\"10\": 1193, \"7\": 5, \"9\": 2}, \"1\": {\"1\": 1187, \"2\": 12, \"3\": 1}, \"2\": {\"2\": 1193, \"1\": 7}, \"15\": {\"15\": 1142, \"5\": 23, \"8\": 26, \"0\": 6, \"14\": 2, \"4\": 1}, \"9\": {\"9\": 837, \"7\": 349, \"6\": 13, \"13\": 1}, \"0\": {\"0\": 934, \"8\": 263, \"15\": 2, \"5\": 1}}, \"ORACLE.run2_8\": {\"10\": {\"10\": 1035, \"5\": 112, \"13\": 49, \"1\": 4}, \"6\": {\"6\": 1060, \"4\": 32, \"14\": 95, \"7\": 4, \"8\": 9}, \"13\": {\"13\": 1100, \"10\": 68, \"1\": 12, \"4\": 4, \"7\": 15, \"5\": 1}, \"3\": {\"3\": 1200}, \"9\": {\"9\": 1200}, \"1\": {\"1\": 1116, \"5\": 28, \"10\": 11, \"14\": 16, \"13\": 29}, \"5\": {\"10\": 190, \"5\": 963, \"1\": 43, \"13\": 4}, \"11\": {\"8\": 338, \"11\": 861, \"7\": 1}, \"4\": {\"4\": 978, \"7\": 191, \"6\": 29, \"14\": 2}, \"14\": {\"14\": 1064, \"6\": 118, \"4\": 5, \"1\": 13}, \"12\": {\"12\": 1188, \"15\": 12}, \"7\": {\"7\": 1041, \"4\": 155, \"13\": 4}, \"0\": {\"0\": 1200}, \"15\": {\"15\": 1184, \"12\": 14, \"2\": 2}, \"2\": {\"2\": 1200}, \"8\": {\"8\": 1058, \"6\": 24, \"11\": 118}}, \"ORACLE.run2_38\": {\"4\": {\"4\": 1194, \"10\": 4, \"7\": 1, \"14\": 1}, \"7\": {\"8\": 4, \"7\": 1179, \"0\": 10, \"14\": 6, \"10\": 1}, \"12\": {\"12\": 1198, \"5\": 1, \"14\": 1}, \"10\": {\"10\": 1112, \"3\": 35, \"13\": 44, \"7\": 8, \"4\": 1}, \"0\": {\"0\": 1165, \"7\": 28, \"8\": 7}, \"1\": {\"1\": 1140, \"15\": 59, \"6\": 1}, \"5\": {\"5\": 843, \"8\": 354, \"7\": 2, \"12\": 1}, \"15\": {\"15\": 1008, \"6\": 34, \"5\": 6, \"1\": 152}, \"9\": {\"9\": 1200}, \"11\": {\"11\": 1200}, \"14\": {\"2\": 262, \"14\": 851, \"12\": 34, \"7\": 38, \"4\": 6, \"5\": 4, \"8\": 5}, \"6\": {\"6\": 1195, \"15\": 5}, \"8\": {\"8\": 1050, \"5\": 135, \"7\": 9, \"2\": 3, \"14\": 2, \"0\": 1}, \"3\": {\"3\": 890, \"13\": 250, \"10\": 55, \"11\": 2, \"0\": 3}, \"2\": {\"2\": 1105, \"14\": 95}, \"13\": {\"13\": 953, \"3\": 190, \"10\": 52, \"11\": 5}}, \"ORACLE.run1_14\": {\"15\": {\"15\": 1200}, \"5\": {\"5\": 1089, \"2\": 61, \"4\": 23, \"14\": 9, \"7\": 5, \"3\": 13}, \"7\": {\"7\": 1199, \"5\": 1}, \"4\": {\"4\": 1143, \"5\": 36, \"2\": 20, \"13\": 1}, \"10\": {\"10\": 1195, \"0\": 5}, \"11\": {\"11\": 1200}, \"12\": {\"12\": 1197, \"9\": 3}, \"0\": {\"0\": 1118, \"3\": 60, \"10\": 14, \"14\": 2, \"2\": 1, \"8\": 5}, \"14\": {\"14\": 1041, \"0\": 1, \"3\": 20, \"2\": 66, \"13\": 57, \"6\": 15}, \"8\": {\"8\": 1200}, \"13\": {\"14\": 386, \"2\": 75, \"6\": 377, \"13\": 275, \"15\": 82, \"4\": 2, \"10\": 1, \"3\": 2}, \"6\": {\"6\": 664, \"13\": 338, \"14\": 145, \"2\": 53}, \"1\": {\"1\": 1199, \"4\": 1}, \"3\": {\"3\": 1168, \"0\": 21, \"14\": 9, \"13\": 1, \"5\": 1}, \"9\": {\"9\": 1198, \"12\": 2}, \"2\": {\"2\": 557, \"3\": 35, \"14\": 265, \"4\": 87, \"5\": 144, \"6\": 78, \"13\": 23, \"7\": 11}}, \"ORACLE.run1_20\": {\"4\": {\"4\": 1157, \"2\": 6, \"10\": 8, \"12\": 24, \"7\": 5}, \"10\": {\"10\": 1196, \"4\": 4}, \"15\": {\"15\": 924, \"2\": 13, \"9\": 16, \"1\": 130, \"12\": 102, \"13\": 11, \"5\": 4}, \"0\": {\"0\": 1162, \"5\": 17, \"8\": 7, \"3\": 14}, \"6\": {\"6\": 1192, \"7\": 8}, \"3\": {\"3\": 763, \"9\": 181, \"5\": 152, \"8\": 58, \"0\": 19, \"1\": 21, \"7\": 6}, \"7\": {\"7\": 1019, \"2\": 112, \"9\": 55, \"4\": 4, \"12\": 2, \"6\": 7, \"3\": 1}, \"2\": {\"2\": 866, \"15\": 13, \"12\": 146, \"7\": 102, \"9\": 45, \"1\": 3, \"13\": 23, \"4\": 2}, \"8\": {\"8\": 1097, \"3\": 38, \"14\": 64, \"9\": 1}, \"11\": {\"11\": 1200}, \"14\": {\"14\": 1145, \"8\": 55}, \"12\": {\"2\": 141, \"12\": 942, \"15\": 84, \"4\": 12, \"9\": 10, \"1\": 2, \"7\": 4, \"13\": 5}, \"13\": {\"13\": 1142, \"12\": 14, \"2\": 35, \"15\": 9}, \"9\": {\"9\": 870, \"2\": 23, \"3\": 108, \"1\": 80, \"7\": 58, \"5\": 49, \"12\": 9, \"15\": 2, \"8\": 1}, \"5\": {\"5\": 711, \"1\": 301, \"9\": 48, \"3\": 135, \"15\": 3, \"12\": 2}, \"1\": {\"1\": 806, \"5\": 278, \"12\": 6, \"15\": 38, \"9\": 52, \"3\": 20}}, \"ORACLE.run1_50\": {\"5\": {\"13\": 60, \"7\": 335, \"5\": 488, \"6\": 232, \"4\": 71, \"15\": 11, \"1\": 3}, \"12\": {\"12\": 1141, \"9\": 42, \"11\": 17}, \"14\": {\"14\": 1200}, \"4\": {\"7\": 112, \"4\": 969, \"5\": 85, \"15\": 23, \"6\": 11}, \"13\": {\"13\": 1196, \"1\": 4}, \"10\": {\"10\": 1175, \"0\": 11, \"8\": 14}, \"9\": {\"9\": 1019, \"11\": 97, \"12\": 79, \"15\": 5}, \"15\": {\"15\": 1137, \"6\": 54, \"11\": 7, \"5\": 1, \"9\": 1}, \"6\": {\"6\": 1060, \"5\": 73, \"15\": 66, \"4\": 1}, \"2\": {\"2\": 1147, \"0\": 53}, \"0\": {\"0\": 1129, \"2\": 62, \"10\": 9}, \"11\": {\"9\": 11, \"11\": 1171, \"12\": 14, \"15\": 4}, \"3\": {\"3\": 1200}, \"8\": {\"8\": 1194, \"10\": 6}, \"7\": {\"7\": 1110, \"5\": 84, \"4\": 6}, \"1\": {\"1\": 1185, \"10\": 3, \"13\": 10, \"0\": 2}}, \"ORACLE.run1_26\": {\"7\": {\"7\": 929, \"8\": 115, \"2\": 75, \"3\": 56, \"9\": 24, \"13\": 1}, \"6\": {\"6\": 903, \"10\": 68, \"15\": 159, \"5\": 51, \"1\": 15, \"14\": 4}, \"14\": {\"14\": 785, \"10\": 239, \"1\": 63, \"0\": 104, \"6\": 7, \"15\": 2}, \"15\": {\"15\": 700, \"5\": 289, \"6\": 171, \"10\": 35, \"0\": 3, \"1\": 2}, \"5\": {\"5\": 923, \"15\": 242, \"6\": 34, \"14\": 1}, \"10\": {\"14\": 216, \"0\": 128, \"10\": 751, \"6\": 75, \"1\": 10, \"15\": 20}, \"4\": {\"4\": 1200}, \"11\": {\"11\": 1200}, \"13\": {\"13\": 1080, \"9\": 71, \"2\": 31, \"8\": 5, \"4\": 1, \"7\": 2, \"3\": 9, \"12\": 1}, \"2\": {\"2\": 747, \"8\": 73, \"3\": 52, \"7\": 183, \"9\": 58, \"10\": 11, \"0\": 67, \"14\": 4, \"13\": 1, \"15\": 4}, \"0\": {\"0\": 836, \"10\": 209, \"14\": 134, \"15\": 3, \"8\": 7, \"6\": 5, \"1\": 4, \"2\": 2}, \"12\": {\"12\": 1200}, \"3\": {\"3\": 1094, \"7\": 87, \"2\": 13, \"13\": 1, \"4\": 2, \"9\": 3}, \"9\": {\"9\": 623, \"8\": 270, \"2\": 80, \"13\": 197, \"7\": 20, \"4\": 1, \"3\": 9}, \"8\": {\"8\": 817, \"7\": 182, \"2\": 36, \"9\": 147, \"3\": 5, \"0\": 12, \"10\": 1}, \"1\": {\"1\": 942, \"10\": 39, \"14\": 185, \"6\": 22, \"5\": 3, \"15\": 8, \"0\": 1}}, \"ORACLE.run1_32\": {\"7\": {\"7\": 785, \"0\": 114, \"5\": 147, \"14\": 132, \"8\": 21, \"2\": 1}, \"2\": {\"2\": 1102, \"4\": 94, \"0\": 3, \"14\": 1}, \"5\": {\"5\": 678, \"7\": 228, \"0\": 105, \"8\": 131, \"14\": 56, \"15\": 2}, \"6\": {\"6\": 1200}, \"13\": {\"13\": 900, \"3\": 123, \"4\": 116, \"11\": 61}, \"4\": {\"4\": 1048, \"13\": 26, \"2\": 126}, \"3\": {\"3\": 1130, \"13\": 60, \"11\": 10}, \"0\": {\"0\": 972, \"5\": 39, \"14\": 18, \"7\": 89, \"8\": 79, \"2\": 3}, \"9\": {\"9\": 1195, \"12\": 5}, \"12\": {\"12\": 1200}, \"8\": {\"0\": 88, \"8\": 1010, \"5\": 52, \"4\": 11, \"14\": 23, \"7\": 16}, \"14\": {\"7\": 296, \"14\": 670, \"0\": 63, \"5\": 45, \"2\": 71, \"4\": 23, \"8\": 31, \"13\": 1}, \"15\": {\"15\": 1192, \"8\": 6, \"5\": 2}, \"11\": {\"11\": 1187, \"13\": 11, \"3\": 2}, \"10\": {\"10\": 1200}, \"1\": {\"1\": 1200}}, \"ORACLE.run1_44\": {\"11\": {\"11\": 1199, \"13\": 1}, \"7\": {\"7\": 1083, \"9\": 105, \"6\": 3, \"10\": 9}, \"6\": {\"6\": 1027, \"9\": 44, \"13\": 129}, \"12\": {\"12\": 1176, \"3\": 24}, \"4\": {\"14\": 410, \"4\": 727, \"15\": 44, \"13\": 11, \"5\": 7, \"9\": 1}, \"13\": {\"13\": 979, \"6\": 168, \"9\": 15, \"11\": 37, \"4\": 1}, \"8\": {\"0\": 292, \"8\": 822, \"15\": 50, \"5\": 36}, \"5\": {\"15\": 98, \"5\": 1036, \"14\": 56, \"8\": 9, \"4\": 1}, \"14\": {\"14\": 885, \"4\": 208, \"5\": 71, \"15\": 36}, \"3\": {\"3\": 1188, \"12\": 12}, \"10\": {\"10\": 1101, \"2\": 36, \"1\": 33, \"7\": 30}, \"1\": {\"1\": 1146, \"2\": 53, \"10\": 1}, \"2\": {\"2\": 1148, \"1\": 41, \"10\": 11}, \"15\": {\"15\": 1028, \"8\": 34, \"5\": 43, \"14\": 72, \"0\": 17, \"4\": 6}, \"9\": {\"9\": 526, \"6\": 205, \"7\": 316, \"13\": 138, \"2\": 14, \"4\": 1}, \"0\": {\"0\": 1065, \"8\": 133, \"15\": 2}}, \"ORACLE.run1_8\": {\"10\": {\"10\": 953, \"5\": 63, \"13\": 144, \"1\": 35, \"6\": 3, \"4\": 2}, \"6\": {\"6\": 998, \"13\": 9, \"4\": 11, \"7\": 177, \"10\": 4, \"11\": 1}, \"13\": {\"13\": 973, \"10\": 156, \"7\": 40, \"6\": 22, \"5\": 7, \"1\": 2}, \"3\": {\"3\": 1192, \"2\": 8}, \"9\": {\"9\": 1200}, \"1\": {\"11\": 232, \"1\": 919, \"10\": 27, \"13\": 2, \"4\": 3, \"5\": 17}, \"5\": {\"5\": 971, \"13\": 13, \"1\": 45, \"10\": 154, \"4\": 2, \"14\": 7, \"11\": 8}, \"11\": {\"1\": 405, \"6\": 20, \"11\": 680, \"8\": 28, \"5\": 10, \"4\": 14, \"14\": 40, \"10\": 2, \"7\": 1}, \"4\": {\"4\": 1059, \"14\": 66, \"6\": 54, \"11\": 6, \"10\": 3, \"5\": 1, \"1\": 9, \"7\": 2}, \"14\": {\"4\": 225, \"14\": 931, \"1\": 7, \"11\": 28, \"8\": 8, \"5\": 1}, \"12\": {\"12\": 912, \"15\": 287, \"2\": 1}, \"7\": {\"7\": 1012, \"13\": 8, \"6\": 180}, \"0\": {\"0\": 1199, \"14\": 1}, \"15\": {\"15\": 1069, \"12\": 123, \"2\": 8}, \"2\": {\"2\": 883, \"3\": 214, \"12\": 52, \"15\": 51}, \"8\": {\"8\": 1183, \"11\": 8, \"7\": 1, \"6\": 7, \"4\": 1}}, \"ORACLE.run1_38\": {\"4\": {\"4\": 1193, \"14\": 2, \"10\": 5}, \"7\": {\"7\": 1181, \"8\": 8, \"0\": 7, \"5\": 3, \"4\": 1}, \"12\": {\"12\": 1199, \"8\": 1}, \"10\": {\"10\": 1050, \"13\": 83, \"0\": 53, \"4\": 3, \"11\": 6, \"14\": 5}, \"0\": {\"0\": 832, \"7\": 112, \"3\": 104, \"10\": 115, \"13\": 31, \"5\": 1, \"11\": 2, \"9\": 1, \"8\": 2}, \"1\": {\"1\": 1199, \"6\": 1}, \"5\": {\"7\": 91, \"9\": 64, \"5\": 583, \"8\": 380, \"15\": 74, \"13\": 4, \"12\": 2, \"0\": 1, \"6\": 1}, \"15\": {\"15\": 1143, \"5\": 28, \"1\": 11, \"8\": 18}, \"9\": {\"9\": 1158, \"5\": 28, \"8\": 8, \"7\": 6}, \"11\": {\"11\": 1199, \"10\": 1}, \"14\": {\"14\": 1117, \"2\": 82, \"13\": 1}, \"6\": {\"6\": 1198, \"1\": 2}, \"8\": {\"7\": 133, \"5\": 419, \"8\": 583, \"15\": 30, \"0\": 7, \"13\": 22, \"10\": 1, \"14\": 1, \"12\": 3, \"9\": 1}, \"3\": {\"3\": 1199, \"0\": 1}, \"2\": {\"2\": 1135, \"14\": 64, \"13\": 1}, \"13\": {\"13\": 1078, \"10\": 73, \"2\": 31, \"0\": 8, \"14\": 10}}}, \"per_domain_accuracy\": {\"ORACLE.run2_14\": {\"accuracy\": 0.9127083333333333, \"source?\": true}, \"ORACLE.run2_20\": {\"accuracy\": 0.7990625, \"source?\": true}, \"ORACLE.run2_50\": {\"accuracy\": 0.9497395833333333, \"source?\": true}, \"ORACLE.run2_26\": {\"accuracy\": 0.7968229166666667, \"source?\": true}, \"ORACLE.run2_32\": {\"accuracy\": 0.9080729166666667, \"source?\": true}, \"ORACLE.run2_44\": {\"accuracy\": 0.9130729166666667, \"source?\": true}, \"ORACLE.run2_8\": {\"accuracy\": 0.90875, \"source?\": true}, \"ORACLE.run2_38\": {\"accuracy\": 0.90015625, \"source?\": true}, \"ORACLE.run1_14\": {\"accuracy\": 0.8668229166666667, \"source?\": false}, \"ORACLE.run1_20\": {\"accuracy\": 0.8433333333333334, \"source?\": false}, \"ORACLE.run1_50\": {\"accuracy\": 0.9125520833333334, \"source?\": false}, \"ORACLE.run1_26\": {\"accuracy\": 0.7671875, \"source?\": false}, \"ORACLE.run1_32\": {\"accuracy\": 0.8681770833333333, \"source?\": false}, \"ORACLE.run1_44\": {\"accuracy\": 0.8404166666666667, \"source?\": false}, \"ORACLE.run1_8\": {\"accuracy\": 0.8403125, \"source?\": false}, \"ORACLE.run1_38\": {\"accuracy\": 0.8878645833333333, \"source?\": false}}}, \"history\": {\"epoch_indices\": [1, 2, 3, 4, 5, 6, 7, 8, 9], \"train_label_loss\": [0.6330935240153311, 0.4052301108446859, 0.3278108468984941, 0.2867555527048396, 0.25265442638847857, 0.22228541613758784, 0.19546651782680002, 0.1729404576308575, 0.15395143543724857], \"source_val_label_loss\": [1.651229977607727, 0.38773271441459656, 0.3428957760334015, 0.3426983952522278, 0.314005970954895, 0.3194222152233124, 0.3157441020011902, 0.31755489110946655, 0.3086341619491577], \"target_val_label_loss\": [1.491750717163086, 0.4704764783382416, 0.4564947485923767, 0.46125149726867676, 0.46792080998420715, 0.4815635681152344, 0.4868856966495514, 0.5251361727714539, 0.5377418398857117], \"source_val_acc_label\": [0.7471354166666667, 0.8624283854166667, 0.8798046875, 0.8784830729166667, 0.8860481770833334, 0.8844791666666667, 0.8867903645833334, 0.8880924479166666, 0.8954557291666667], \"target_val_acc_label\": [0.7313671875, 0.83919921875, 0.85314453125, 0.84697265625, 0.8533333333333334, 0.8497200520833333, 0.8469466145833333, 0.8442838541666666, 0.8505598958333334]}, \"dataset_metrics\": {\"source\": {\"train\": {\"n_unique_x\": 896000, \"n_unique_y\": 16, \"n_batch/episode\": 33600}, \"val\": {\"n_unique_x\": 192000, \"n_unique_y\": 16, \"n_batch/episode\": 4800}, \"test\": {\"n_unique_x\": 192000, \"n_unique_y\": 16, \"n_batch/episode\": 4800}}, \"target\": {\"train\": {\"n_unique_x\": 896000, \"n_unique_y\": 16, \"n_batch/episode\": 33600}, \"val\": {\"n_unique_x\": 192000, \"n_unique_y\": 16, \"n_batch/episode\": 4800}, \"test\": {\"n_unique_x\": 192000, \"n_unique_y\": 16, \"n_batch/episode\": 4800}}}}'"
      ]
     },
     "execution_count": 29,
     "metadata": {},
     "output_type": "execute_result"
    }
   ],
   "source": [
    "json.dumps(experiment)"
   ]
  }
 ],
 "metadata": {
  "celltoolbar": "Tags",
  "kernelspec": {
   "display_name": "Python 3 (ipykernel)",
   "language": "python",
   "name": "python3"
  },
  "language_info": {
   "codemirror_mode": {
    "name": "ipython",
    "version": 3
   },
   "file_extension": ".py",
   "mimetype": "text/x-python",
   "name": "python",
   "nbconvert_exporter": "python",
   "pygments_lexer": "ipython3",
   "version": "3.8.10"
  },
  "papermill": {
   "default_parameters": {},
   "duration": 8761.032362,
   "end_time": "2022-03-24T15:08:51.276172",
   "environment_variables": {},
   "exception": null,
   "input_path": "/mnt/wd500GB/CSC500/csc500-main/csc500-notebooks/templates/tl_ptn_template.ipynb",
   "output_path": "trial.ipynb",
   "parameters": {
    "parameters": {
     "BEST_MODEL_PATH": "./best_model.pth",
     "NUM_LOGS_PER_EPOCH": 10,
     "criteria_for_best": "target_accuracy",
     "dataset_seed": 420,
     "datasets": [
      {
       "domain_prefix": "ORACLE.run1_",
       "domains": [
        32,
        38,
        8,
        44,
        14,
        50,
        20,
        26
       ],
       "episode_transforms": [],
       "labels": [
        "3123D52",
        "3123D65",
        "3123D79",
        "3123D80",
        "3123D54",
        "3123D70",
        "3123D7B",
        "3123D89",
        "3123D58",
        "3123D76",
        "3123D7D",
        "3123EFE",
        "3123D64",
        "3123D78",
        "3123D7E",
        "3124E4A"
       ],
       "num_examples_per_domain_per_label": 10000,
       "pickle_path": "/mnt/wd500GB/CSC500/csc500-main/datasets/oracle.Run1_10kExamples_stratified_ds.2022A.pkl",
       "source_or_target_dataset": "target",
       "x_transforms": []
      },
      {
       "domain_prefix": "ORACLE.run2_",
       "domains": [
        32,
        38,
        8,
        44,
        14,
        50,
        20,
        26
       ],
       "episode_transforms": [],
       "labels": [
        "3123D52",
        "3123D65",
        "3123D79",
        "3123D80",
        "3123D54",
        "3123D70",
        "3123D7B",
        "3123D89",
        "3123D58",
        "3123D76",
        "3123D7D",
        "3123EFE",
        "3123D64",
        "3123D78",
        "3123D7E",
        "3124E4A"
       ],
       "num_examples_per_domain_per_label": 10000,
       "pickle_path": "/mnt/wd500GB/CSC500/csc500-main/datasets/oracle.Run2_10kExamples_stratified_ds.2022A.pkl",
       "source_or_target_dataset": "source",
       "x_transforms": []
      }
     ],
     "device": "cuda",
     "experiment_name": "tl_1v2:oracle.run1-oracle.run2",
     "lr": 0.0001,
     "n_epoch": 50,
     "n_query": 2,
     "n_shot": 3,
     "n_way": 16,
     "patience": 3,
     "seed": 420,
     "test_k_factor": 2,
     "torch_default_dtype": "torch.float32",
     "train_k_factor": 3,
     "val_k_factor": 2,
     "x_net": [
      {
       "class": "nnReshape",
       "kargs": {
        "shape": [
         -1,
         1,
         2,
         256
        ]
       }
      },
      {
       "class": "Conv2d",
       "kargs": {
        "bias": false,
        "in_channels": 1,
        "kernel_size": [
         1,
         7
        ],
        "out_channels": 256,
        "padding": [
         0,
         3
        ]
       }
      },
      {
       "class": "ReLU",
       "kargs": {
        "inplace": true
       }
      },
      {
       "class": "BatchNorm2d",
       "kargs": {
        "num_features": 256
       }
      },
      {
       "class": "Conv2d",
       "kargs": {
        "bias": true,
        "in_channels": 256,
        "kernel_size": [
         2,
         7
        ],
        "out_channels": 80,
        "padding": [
         0,
         3
        ]
       }
      },
      {
       "class": "ReLU",
       "kargs": {
        "inplace": true
       }
      },
      {
       "class": "BatchNorm2d",
       "kargs": {
        "num_features": 80
       }
      },
      {
       "class": "Flatten",
       "kargs": {}
      },
      {
       "class": "Linear",
       "kargs": {
        "in_features": 20480,
        "out_features": 256
       }
      },
      {
       "class": "ReLU",
       "kargs": {
        "inplace": true
       }
      },
      {
       "class": "BatchNorm1d",
       "kargs": {
        "num_features": 256
       }
      },
      {
       "class": "Linear",
       "kargs": {
        "in_features": 256,
        "out_features": 256
       }
      }
     ]
    }
   },
   "start_time": "2022-03-24T12:42:50.243810",
   "version": "2.3.4"
  }
 },
 "nbformat": 4,
 "nbformat_minor": 5
}