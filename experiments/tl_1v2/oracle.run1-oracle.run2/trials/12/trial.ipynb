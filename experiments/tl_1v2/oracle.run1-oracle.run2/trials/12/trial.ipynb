{
 "cells": [
  {
   "cell_type": "markdown",
   "id": "9fea5f46",
   "metadata": {
    "papermill": {
     "duration": 0.0171,
     "end_time": "2022-03-24T15:08:52.046372",
     "exception": false,
     "start_time": "2022-03-24T15:08:52.029272",
     "status": "completed"
    },
    "tags": []
   },
   "source": [
    "# Transfer Learning Template"
   ]
  },
  {
   "cell_type": "code",
   "execution_count": 1,
   "id": "0902182a",
   "metadata": {
    "execution": {
     "iopub.execute_input": "2022-03-24T15:08:52.085838Z",
     "iopub.status.busy": "2022-03-24T15:08:52.085466Z",
     "iopub.status.idle": "2022-03-24T15:08:52.981403Z",
     "shell.execute_reply": "2022-03-24T15:08:52.981716Z"
    },
    "papermill": {
     "duration": 0.923071,
     "end_time": "2022-03-24T15:08:52.981874",
     "exception": false,
     "start_time": "2022-03-24T15:08:52.058803",
     "status": "completed"
    },
    "tags": []
   },
   "outputs": [],
   "source": [
    "%load_ext autoreload\n",
    "%autoreload 2\n",
    "%matplotlib inline\n",
    "\n",
    "    \n",
    "import os, json, sys, time, random\n",
    "import numpy as np\n",
    "import torch\n",
    "from torch.optim import Adam\n",
    "from  easydict import EasyDict\n",
    "import matplotlib.pyplot as plt\n",
    "\n",
    "from steves_models.steves_ptn import Steves_Prototypical_Network\n",
    "\n",
    "from steves_utils.lazy_iterable_wrapper import Lazy_Iterable_Wrapper\n",
    "from steves_utils.iterable_aggregator import Iterable_Aggregator\n",
    "from steves_utils.ptn_train_eval_test_jig import  PTN_Train_Eval_Test_Jig\n",
    "from steves_utils.torch_sequential_builder import build_sequential\n",
    "from steves_utils.torch_utils import get_dataset_metrics, ptn_confusion_by_domain_over_dataloader\n",
    "from steves_utils.utils_v2 import (per_domain_accuracy_from_confusion, get_datasets_base_path)\n",
    "from steves_utils.PTN.utils import independent_accuracy_assesment\n",
    "\n",
    "from torch.utils.data import DataLoader\n",
    "\n",
    "from steves_utils.stratified_dataset.episodic_accessor import Episodic_Accessor_Factory\n",
    "\n",
    "from steves_utils.ptn_do_report import (\n",
    "    get_loss_curve,\n",
    "    get_results_table,\n",
    "    get_parameters_table,\n",
    "    get_domain_accuracies,\n",
    ")\n",
    "\n",
    "from steves_utils.transforms import get_chained_transform"
   ]
  },
  {
   "cell_type": "markdown",
   "id": "41c840b4",
   "metadata": {
    "papermill": {
     "duration": 0.012421,
     "end_time": "2022-03-24T15:08:53.011359",
     "exception": false,
     "start_time": "2022-03-24T15:08:52.998938",
     "status": "completed"
    },
    "tags": []
   },
   "source": [
    "# Allowed Parameters\n",
    "These are allowed parameters, not defaults\n",
    "Each of these values need to be present in the injected parameters (the notebook will raise an exception if they are not present)\n",
    "\n",
    "Papermill uses the cell tag \"parameters\" to inject the real parameters below this cell.\n",
    "Enable tags to see what I mean"
   ]
  },
  {
   "cell_type": "code",
   "execution_count": 2,
   "id": "fd44eb83",
   "metadata": {
    "execution": {
     "iopub.execute_input": "2022-03-24T15:08:53.038372Z",
     "iopub.status.busy": "2022-03-24T15:08:53.038111Z",
     "iopub.status.idle": "2022-03-24T15:08:53.048629Z",
     "shell.execute_reply": "2022-03-24T15:08:53.048831Z"
    },
    "papermill": {
     "duration": 0.025129,
     "end_time": "2022-03-24T15:08:53.048888",
     "exception": false,
     "start_time": "2022-03-24T15:08:53.023759",
     "status": "completed"
    },
    "tags": []
   },
   "outputs": [],
   "source": [
    "required_parameters = {\n",
    "    \"experiment_name\",\n",
    "    \"lr\",\n",
    "    \"device\",\n",
    "    \"seed\",\n",
    "    \"dataset_seed\",\n",
    "    \"n_shot\",\n",
    "    \"n_query\",\n",
    "    \"n_way\",\n",
    "    \"train_k_factor\",\n",
    "    \"val_k_factor\",\n",
    "    \"test_k_factor\",\n",
    "    \"n_epoch\",\n",
    "    \"patience\",\n",
    "    \"criteria_for_best\",\n",
    "    \"x_net\",\n",
    "    \"datasets\",\n",
    "    \"torch_default_dtype\",\n",
    "    \"NUM_LOGS_PER_EPOCH\",\n",
    "    \"BEST_MODEL_PATH\",\n",
    "    \"x_shape\",\n",
    "}"
   ]
  },
  {
   "cell_type": "code",
   "execution_count": 3,
   "id": "fa3f0049",
   "metadata": {
    "execution": {
     "iopub.execute_input": "2022-03-24T15:08:53.087984Z",
     "iopub.status.busy": "2022-03-24T15:08:53.087550Z",
     "iopub.status.idle": "2022-03-24T15:08:53.099481Z",
     "shell.execute_reply": "2022-03-24T15:08:53.099040Z"
    },
    "papermill": {
     "duration": 0.034077,
     "end_time": "2022-03-24T15:08:53.099569",
     "exception": false,
     "start_time": "2022-03-24T15:08:53.065492",
     "status": "completed"
    },
    "tags": [
     "parameters"
    ]
   },
   "outputs": [],
   "source": [
    "from steves_utils.CORES.utils import (\n",
    "    ALL_NODES,\n",
    "    ALL_NODES_MINIMUM_1000_EXAMPLES,\n",
    "    ALL_DAYS\n",
    ")\n",
    "\n",
    "from steves_utils.ORACLE.utils_v2 import (\n",
    "    ALL_DISTANCES_FEET_NARROWED,\n",
    "    ALL_RUNS,\n",
    "    ALL_SERIAL_NUMBERS,\n",
    ")\n",
    "\n",
    "standalone_parameters = {}\n",
    "standalone_parameters[\"experiment_name\"] = \"STANDALONE PTN\"\n",
    "standalone_parameters[\"lr\"] = 0.001\n",
    "standalone_parameters[\"device\"] = \"cuda\"\n",
    "\n",
    "standalone_parameters[\"seed\"] = 1337\n",
    "standalone_parameters[\"dataset_seed\"] = 1337\n",
    "\n",
    "standalone_parameters[\"n_way\"] = 8\n",
    "standalone_parameters[\"n_shot\"] = 3\n",
    "standalone_parameters[\"n_query\"]  = 2\n",
    "standalone_parameters[\"train_k_factor\"] = 1\n",
    "standalone_parameters[\"val_k_factor\"] = 2\n",
    "standalone_parameters[\"test_k_factor\"] = 2\n",
    "\n",
    "\n",
    "standalone_parameters[\"n_epoch\"] = 50\n",
    "\n",
    "standalone_parameters[\"patience\"] = 10\n",
    "standalone_parameters[\"criteria_for_best\"] = \"source_loss\"\n",
    "\n",
    "standalone_parameters[\"datasets\"] = [\n",
    "    {\n",
    "        \"labels\": ALL_SERIAL_NUMBERS,\n",
    "        \"domains\": ALL_DISTANCES_FEET_NARROWED,\n",
    "        \"num_examples_per_domain_per_label\": 100,\n",
    "        \"pickle_path\": os.path.join(get_datasets_base_path(), \"oracle.Run1_framed_2000Examples_stratified_ds.2022A.pkl\"),\n",
    "        \"source_or_target_dataset\": \"source\",\n",
    "        \"x_transforms\": [\"unit_mag\", \"minus_two\"],\n",
    "        \"episode_transforms\": [],\n",
    "        \"domain_prefix\": \"ORACLE_\"\n",
    "    },\n",
    "    {\n",
    "        \"labels\": ALL_NODES,\n",
    "        \"domains\": ALL_DAYS,\n",
    "        \"num_examples_per_domain_per_label\": 100,\n",
    "        \"pickle_path\": os.path.join(get_datasets_base_path(), \"cores.stratified_ds.2022A.pkl\"),\n",
    "        \"source_or_target_dataset\": \"target\",\n",
    "        \"x_transforms\": [\"unit_power\", \"times_zero\"],\n",
    "        \"episode_transforms\": [],\n",
    "        \"domain_prefix\": \"CORES_\"\n",
    "    }   \n",
    "]\n",
    "\n",
    "standalone_parameters[\"torch_default_dtype\"] = \"torch.float32\" \n",
    "\n",
    "\n",
    "\n",
    "standalone_parameters[\"x_net\"] =     [\n",
    "    {\"class\": \"nnReshape\", \"kargs\": {\"shape\":[-1, 1, 2, 256]}},\n",
    "    {\"class\": \"Conv2d\", \"kargs\": { \"in_channels\":1, \"out_channels\":256, \"kernel_size\":(1,7), \"bias\":False, \"padding\":(0,3), },},\n",
    "    {\"class\": \"ReLU\", \"kargs\": {\"inplace\": True}},\n",
    "    {\"class\": \"BatchNorm2d\", \"kargs\": {\"num_features\":256}},\n",
    "\n",
    "    {\"class\": \"Conv2d\", \"kargs\": { \"in_channels\":256, \"out_channels\":80, \"kernel_size\":(2,7), \"bias\":True, \"padding\":(0,3), },},\n",
    "    {\"class\": \"ReLU\", \"kargs\": {\"inplace\": True}},\n",
    "    {\"class\": \"BatchNorm2d\", \"kargs\": {\"num_features\":80}},\n",
    "    {\"class\": \"Flatten\", \"kargs\": {}},\n",
    "\n",
    "    {\"class\": \"Linear\", \"kargs\": {\"in_features\": 80*256, \"out_features\": 256}}, # 80 units per IQ pair\n",
    "    {\"class\": \"ReLU\", \"kargs\": {\"inplace\": True}},\n",
    "    {\"class\": \"BatchNorm1d\", \"kargs\": {\"num_features\":256}},\n",
    "\n",
    "    {\"class\": \"Linear\", \"kargs\": {\"in_features\": 256, \"out_features\": 256}},\n",
    "]\n",
    "\n",
    "# Parameters relevant to results\n",
    "# These parameters will basically never need to change\n",
    "standalone_parameters[\"NUM_LOGS_PER_EPOCH\"] = 10\n",
    "standalone_parameters[\"BEST_MODEL_PATH\"] = \"./best_model.pth\"\n",
    "\n",
    "\n",
    "\n",
    "\n"
   ]
  },
  {
   "cell_type": "code",
   "execution_count": 4,
   "id": "791babed",
   "metadata": {
    "execution": {
     "iopub.execute_input": "2022-03-24T15:08:53.136867Z",
     "iopub.status.busy": "2022-03-24T15:08:53.136447Z",
     "iopub.status.idle": "2022-03-24T15:08:53.149389Z",
     "shell.execute_reply": "2022-03-24T15:08:53.148946Z"
    },
    "papermill": {
     "duration": 0.032469,
     "end_time": "2022-03-24T15:08:53.149477",
     "exception": false,
     "start_time": "2022-03-24T15:08:53.117008",
     "status": "completed"
    },
    "tags": [
     "injected-parameters"
    ]
   },
   "outputs": [],
   "source": [
    "# Parameters\n",
    "parameters = {\n",
    "    \"experiment_name\": \"tl_1v2:oracle.run1-oracle.run2\",\n",
    "    \"device\": \"cuda\",\n",
    "    \"lr\": 0.0001,\n",
    "    \"n_shot\": 3,\n",
    "    \"n_query\": 2,\n",
    "    \"train_k_factor\": 3,\n",
    "    \"val_k_factor\": 2,\n",
    "    \"test_k_factor\": 2,\n",
    "    \"torch_default_dtype\": \"torch.float32\",\n",
    "    \"n_epoch\": 50,\n",
    "    \"patience\": 3,\n",
    "    \"criteria_for_best\": \"target_accuracy\",\n",
    "    \"x_net\": [\n",
    "        {\"class\": \"nnReshape\", \"kargs\": {\"shape\": [-1, 1, 2, 256]}},\n",
    "        {\n",
    "            \"class\": \"Conv2d\",\n",
    "            \"kargs\": {\n",
    "                \"in_channels\": 1,\n",
    "                \"out_channels\": 256,\n",
    "                \"kernel_size\": [1, 7],\n",
    "                \"bias\": False,\n",
    "                \"padding\": [0, 3],\n",
    "            },\n",
    "        },\n",
    "        {\"class\": \"ReLU\", \"kargs\": {\"inplace\": True}},\n",
    "        {\"class\": \"BatchNorm2d\", \"kargs\": {\"num_features\": 256}},\n",
    "        {\n",
    "            \"class\": \"Conv2d\",\n",
    "            \"kargs\": {\n",
    "                \"in_channels\": 256,\n",
    "                \"out_channels\": 80,\n",
    "                \"kernel_size\": [2, 7],\n",
    "                \"bias\": True,\n",
    "                \"padding\": [0, 3],\n",
    "            },\n",
    "        },\n",
    "        {\"class\": \"ReLU\", \"kargs\": {\"inplace\": True}},\n",
    "        {\"class\": \"BatchNorm2d\", \"kargs\": {\"num_features\": 80}},\n",
    "        {\"class\": \"Flatten\", \"kargs\": {}},\n",
    "        {\"class\": \"Linear\", \"kargs\": {\"in_features\": 20480, \"out_features\": 256}},\n",
    "        {\"class\": \"ReLU\", \"kargs\": {\"inplace\": True}},\n",
    "        {\"class\": \"BatchNorm1d\", \"kargs\": {\"num_features\": 256}},\n",
    "        {\"class\": \"Linear\", \"kargs\": {\"in_features\": 256, \"out_features\": 256}},\n",
    "    ],\n",
    "    \"NUM_LOGS_PER_EPOCH\": 10,\n",
    "    \"BEST_MODEL_PATH\": \"./best_model.pth\",\n",
    "    \"n_way\": 16,\n",
    "    \"datasets\": [\n",
    "        {\n",
    "            \"labels\": [\n",
    "                \"3123D52\",\n",
    "                \"3123D65\",\n",
    "                \"3123D79\",\n",
    "                \"3123D80\",\n",
    "                \"3123D54\",\n",
    "                \"3123D70\",\n",
    "                \"3123D7B\",\n",
    "                \"3123D89\",\n",
    "                \"3123D58\",\n",
    "                \"3123D76\",\n",
    "                \"3123D7D\",\n",
    "                \"3123EFE\",\n",
    "                \"3123D64\",\n",
    "                \"3123D78\",\n",
    "                \"3123D7E\",\n",
    "                \"3124E4A\",\n",
    "            ],\n",
    "            \"domains\": [32, 38, 8, 44, 14, 50, 20, 26],\n",
    "            \"num_examples_per_domain_per_label\": 10000,\n",
    "            \"pickle_path\": \"/mnt/wd500GB/CSC500/csc500-main/datasets/oracle.Run1_10kExamples_stratified_ds.2022A.pkl\",\n",
    "            \"source_or_target_dataset\": \"source\",\n",
    "            \"x_transforms\": [\"unit_power\"],\n",
    "            \"episode_transforms\": [],\n",
    "            \"domain_prefix\": \"ORACLE.run1_\",\n",
    "        },\n",
    "        {\n",
    "            \"labels\": [\n",
    "                \"3123D52\",\n",
    "                \"3123D65\",\n",
    "                \"3123D79\",\n",
    "                \"3123D80\",\n",
    "                \"3123D54\",\n",
    "                \"3123D70\",\n",
    "                \"3123D7B\",\n",
    "                \"3123D89\",\n",
    "                \"3123D58\",\n",
    "                \"3123D76\",\n",
    "                \"3123D7D\",\n",
    "                \"3123EFE\",\n",
    "                \"3123D64\",\n",
    "                \"3123D78\",\n",
    "                \"3123D7E\",\n",
    "                \"3124E4A\",\n",
    "            ],\n",
    "            \"domains\": [32, 38, 8, 44, 14, 50, 20, 26],\n",
    "            \"num_examples_per_domain_per_label\": 10000,\n",
    "            \"pickle_path\": \"/mnt/wd500GB/CSC500/csc500-main/datasets/oracle.Run2_10kExamples_stratified_ds.2022A.pkl\",\n",
    "            \"source_or_target_dataset\": \"target\",\n",
    "            \"x_transforms\": [\"unit_power\"],\n",
    "            \"episode_transforms\": [],\n",
    "            \"domain_prefix\": \"ORACLE.run2_\",\n",
    "        },\n",
    "    ],\n",
    "    \"dataset_seed\": 154325,\n",
    "    \"seed\": 154325,\n",
    "}\n"
   ]
  },
  {
   "cell_type": "code",
   "execution_count": 5,
   "id": "8fa1cc33",
   "metadata": {
    "execution": {
     "iopub.execute_input": "2022-03-24T15:08:53.181638Z",
     "iopub.status.busy": "2022-03-24T15:08:53.181390Z",
     "iopub.status.idle": "2022-03-24T15:08:53.192037Z",
     "shell.execute_reply": "2022-03-24T15:08:53.191688Z"
    },
    "papermill": {
     "duration": 0.025812,
     "end_time": "2022-03-24T15:08:53.192107",
     "exception": false,
     "start_time": "2022-03-24T15:08:53.166295",
     "status": "completed"
    },
    "tags": []
   },
   "outputs": [],
   "source": [
    "# Set this to True if you want to run this template directly\n",
    "STANDALONE = False\n",
    "if STANDALONE:\n",
    "    print(\"parameters not injected, running with standalone_parameters\")\n",
    "    parameters = standalone_parameters\n",
    "\n",
    "if not 'parameters' in locals() and not 'parameters' in globals():\n",
    "    raise Exception(\"Parameter injection failed\")\n",
    "\n",
    "#Use an easy dict for all the parameters\n",
    "p = EasyDict(parameters)\n",
    "\n",
    "if \"x_shape\" not in p:\n",
    "    p.x_shape = [2,256] # Default to this if we dont supply x_shape\n",
    "\n",
    "\n",
    "supplied_keys = set(p.keys())\n",
    "\n",
    "if  supplied_keys != required_parameters:\n",
    "    print(\"Parameters are incorrect\")\n",
    "    if len(supplied_keys - required_parameters)>0: print(\"Shouldn't have:\", str(supplied_keys - required_parameters))\n",
    "    if len(required_parameters - supplied_keys)>0: print(\"Need to have:\", str(required_parameters - supplied_keys))\n",
    "    raise RuntimeError(\"Parameters are incorrect\")"
   ]
  },
  {
   "cell_type": "code",
   "execution_count": 6,
   "id": "3a028d58",
   "metadata": {
    "execution": {
     "iopub.execute_input": "2022-03-24T15:08:53.224624Z",
     "iopub.status.busy": "2022-03-24T15:08:53.224382Z",
     "iopub.status.idle": "2022-03-24T15:08:53.239831Z",
     "shell.execute_reply": "2022-03-24T15:08:53.239392Z"
    },
    "papermill": {
     "duration": 0.030687,
     "end_time": "2022-03-24T15:08:53.239923",
     "exception": false,
     "start_time": "2022-03-24T15:08:53.209236",
     "status": "completed"
    },
    "tags": []
   },
   "outputs": [],
   "source": [
    "###################################\n",
    "# Set the RNGs and make it all deterministic\n",
    "###################################\n",
    "np.random.seed(p.seed)\n",
    "random.seed(p.seed)\n",
    "torch.manual_seed(p.seed)\n",
    "\n",
    "torch.use_deterministic_algorithms(True) "
   ]
  },
  {
   "cell_type": "code",
   "execution_count": 7,
   "id": "b691acf6",
   "metadata": {
    "execution": {
     "iopub.execute_input": "2022-03-24T15:08:53.270844Z",
     "iopub.status.busy": "2022-03-24T15:08:53.270601Z",
     "iopub.status.idle": "2022-03-24T15:08:53.284512Z",
     "shell.execute_reply": "2022-03-24T15:08:53.284877Z"
    },
    "papermill": {
     "duration": 0.029238,
     "end_time": "2022-03-24T15:08:53.284980",
     "exception": false,
     "start_time": "2022-03-24T15:08:53.255742",
     "status": "completed"
    },
    "tags": []
   },
   "outputs": [],
   "source": [
    "###########################################\n",
    "# The stratified datasets honor this\n",
    "###########################################\n",
    "torch.set_default_dtype(eval(p.torch_default_dtype))"
   ]
  },
  {
   "cell_type": "code",
   "execution_count": 8,
   "id": "b5fba671",
   "metadata": {
    "execution": {
     "iopub.execute_input": "2022-03-24T15:08:53.317372Z",
     "iopub.status.busy": "2022-03-24T15:08:53.317037Z",
     "iopub.status.idle": "2022-03-24T15:08:53.357870Z",
     "shell.execute_reply": "2022-03-24T15:08:53.357487Z"
    },
    "papermill": {
     "duration": 0.05559,
     "end_time": "2022-03-24T15:08:53.357955",
     "exception": false,
     "start_time": "2022-03-24T15:08:53.302365",
     "status": "completed"
    },
    "tags": []
   },
   "outputs": [],
   "source": [
    "###################################\n",
    "# Build the network(s)\n",
    "# Note: It's critical to do this AFTER setting the RNG\n",
    "###################################\n",
    "x_net = build_sequential(p.x_net)"
   ]
  },
  {
   "cell_type": "code",
   "execution_count": 9,
   "id": "5d7e61cc",
   "metadata": {
    "execution": {
     "iopub.execute_input": "2022-03-24T15:08:53.390331Z",
     "iopub.status.busy": "2022-03-24T15:08:53.390089Z",
     "iopub.status.idle": "2022-03-24T15:08:53.404540Z",
     "shell.execute_reply": "2022-03-24T15:08:53.404814Z"
    },
    "papermill": {
     "duration": 0.029967,
     "end_time": "2022-03-24T15:08:53.404895",
     "exception": false,
     "start_time": "2022-03-24T15:08:53.374928",
     "status": "completed"
    },
    "tags": []
   },
   "outputs": [],
   "source": [
    "start_time_secs = time.time()"
   ]
  },
  {
   "cell_type": "code",
   "execution_count": 10,
   "id": "c6b67dfd",
   "metadata": {
    "execution": {
     "iopub.execute_input": "2022-03-24T15:08:53.438230Z",
     "iopub.status.busy": "2022-03-24T15:08:53.437971Z",
     "iopub.status.idle": "2022-03-24T15:08:53.452621Z",
     "shell.execute_reply": "2022-03-24T15:08:53.452237Z"
    },
    "papermill": {
     "duration": 0.030244,
     "end_time": "2022-03-24T15:08:53.452708",
     "exception": false,
     "start_time": "2022-03-24T15:08:53.422464",
     "status": "completed"
    },
    "tags": []
   },
   "outputs": [],
   "source": [
    "p.domains_source = []\n",
    "p.domains_target = []\n",
    "\n",
    "\n",
    "train_original_source = []\n",
    "val_original_source   = []\n",
    "test_original_source  = []\n",
    "\n",
    "train_original_target = []\n",
    "val_original_target   = []\n",
    "test_original_target  = []"
   ]
  },
  {
   "cell_type": "code",
   "execution_count": 11,
   "id": "e3d9c3d3",
   "metadata": {
    "execution": {
     "iopub.execute_input": "2022-03-24T15:08:53.485296Z",
     "iopub.status.busy": "2022-03-24T15:08:53.485052Z",
     "iopub.status.idle": "2022-03-24T15:08:53.500105Z",
     "shell.execute_reply": "2022-03-24T15:08:53.499688Z"
    },
    "papermill": {
     "duration": 0.030058,
     "end_time": "2022-03-24T15:08:53.500197",
     "exception": false,
     "start_time": "2022-03-24T15:08:53.470139",
     "status": "completed"
    },
    "tags": []
   },
   "outputs": [],
   "source": [
    "# global_x_transform_func = lambda x: normalize(x.to(torch.get_default_dtype()), \"unit_power\") # unit_power, unit_mag\n",
    "# global_x_transform_func = lambda x: normalize(x, \"unit_power\") # unit_power, unit_mag"
   ]
  },
  {
   "cell_type": "code",
   "execution_count": 12,
   "id": "acb78fd2",
   "metadata": {
    "execution": {
     "iopub.execute_input": "2022-03-24T15:08:53.538500Z",
     "iopub.status.busy": "2022-03-24T15:08:53.538242Z",
     "iopub.status.idle": "2022-03-24T15:08:53.551203Z",
     "shell.execute_reply": "2022-03-24T15:08:53.550815Z"
    },
    "papermill": {
     "duration": 0.033235,
     "end_time": "2022-03-24T15:08:53.551291",
     "exception": false,
     "start_time": "2022-03-24T15:08:53.518056",
     "status": "completed"
    },
    "tags": []
   },
   "outputs": [],
   "source": [
    "def add_dataset(\n",
    "    labels,\n",
    "    domains,\n",
    "    pickle_path,\n",
    "    x_transforms,\n",
    "    episode_transforms,\n",
    "    domain_prefix,\n",
    "    num_examples_per_domain_per_label,\n",
    "    source_or_target_dataset:str,\n",
    "    iterator_seed=p.seed,\n",
    "    dataset_seed=p.dataset_seed,\n",
    "    n_shot=p.n_shot,\n",
    "    n_way=p.n_way,\n",
    "    n_query=p.n_query,\n",
    "    train_val_test_k_factors=(p.train_k_factor,p.val_k_factor,p.test_k_factor),\n",
    "):\n",
    "   \n",
    "    if x_transforms == []: x_transform = None\n",
    "    else: x_transform = get_chained_transform(x_transforms)\n",
    "    \n",
    "    if episode_transforms == []: episode_transform = None\n",
    "    else: raise Exception(\"episode_transforms not implemented\")\n",
    "    \n",
    "    episode_transform = lambda tup, _prefix=domain_prefix: (_prefix + str(tup[0]), tup[1])\n",
    "\n",
    "\n",
    "    eaf = Episodic_Accessor_Factory(\n",
    "        labels=labels,\n",
    "        domains=domains,\n",
    "        num_examples_per_domain_per_label=num_examples_per_domain_per_label,\n",
    "        iterator_seed=iterator_seed,\n",
    "        dataset_seed=dataset_seed,\n",
    "        n_shot=n_shot,\n",
    "        n_way=n_way,\n",
    "        n_query=n_query,\n",
    "        train_val_test_k_factors=train_val_test_k_factors,\n",
    "        pickle_path=pickle_path,\n",
    "        x_transform_func=x_transform,\n",
    "    )\n",
    "\n",
    "    train, val, test = eaf.get_train(), eaf.get_val(), eaf.get_test()\n",
    "    train = Lazy_Iterable_Wrapper(train, episode_transform)\n",
    "    val = Lazy_Iterable_Wrapper(val, episode_transform)\n",
    "    test = Lazy_Iterable_Wrapper(test, episode_transform)\n",
    "\n",
    "    if source_or_target_dataset==\"source\":\n",
    "        train_original_source.append(train)\n",
    "        val_original_source.append(val)\n",
    "        test_original_source.append(test)\n",
    "\n",
    "        p.domains_source.extend(\n",
    "            [domain_prefix + str(u) for u in domains]\n",
    "        )\n",
    "    elif source_or_target_dataset==\"target\":\n",
    "        train_original_target.append(train)\n",
    "        val_original_target.append(val)\n",
    "        test_original_target.append(test)\n",
    "        p.domains_target.extend(\n",
    "            [domain_prefix + str(u) for u in domains]\n",
    "        )\n",
    "    else:\n",
    "        raise Exception(f\"invalid source_or_target_dataset: {source_or_target_dataset}\")\n",
    "    "
   ]
  },
  {
   "cell_type": "code",
   "execution_count": 13,
   "id": "fe266617",
   "metadata": {
    "execution": {
     "iopub.execute_input": "2022-03-24T15:08:53.584697Z",
     "iopub.status.busy": "2022-03-24T15:08:53.584445Z",
     "iopub.status.idle": "2022-03-24T15:11:30.109960Z",
     "shell.execute_reply": "2022-03-24T15:11:30.109506Z"
    },
    "papermill": {
     "duration": 156.540104,
     "end_time": "2022-03-24T15:11:30.110085",
     "exception": false,
     "start_time": "2022-03-24T15:08:53.569981",
     "status": "completed"
    },
    "tags": []
   },
   "outputs": [],
   "source": [
    "for ds in p.datasets:\n",
    "    add_dataset(**ds)"
   ]
  },
  {
   "cell_type": "code",
   "execution_count": 14,
   "id": "b90d65ac",
   "metadata": {
    "execution": {
     "iopub.execute_input": "2022-03-24T15:11:30.144524Z",
     "iopub.status.busy": "2022-03-24T15:11:30.144264Z",
     "iopub.status.idle": "2022-03-24T15:11:30.156271Z",
     "shell.execute_reply": "2022-03-24T15:11:30.155805Z"
    },
    "papermill": {
     "duration": 0.026977,
     "end_time": "2022-03-24T15:11:30.156362",
     "exception": false,
     "start_time": "2022-03-24T15:11:30.129385",
     "status": "completed"
    },
    "tags": []
   },
   "outputs": [],
   "source": [
    "# from steves_utils.CORES.utils import (\n",
    "#     ALL_NODES,\n",
    "#     ALL_NODES_MINIMUM_1000_EXAMPLES,\n",
    "#     ALL_DAYS\n",
    "# )\n",
    "\n",
    "# add_dataset(\n",
    "#     labels=ALL_NODES,\n",
    "#     domains = ALL_DAYS,\n",
    "#     num_examples_per_domain_per_label=100,\n",
    "#     pickle_path=os.path.join(get_datasets_base_path(), \"cores.stratified_ds.2022A.pkl\"),\n",
    "#     source_or_target_dataset=\"target\",\n",
    "#     x_transform_func=global_x_transform_func,\n",
    "#     domain_modifier=lambda u: f\"cores_{u}\"\n",
    "# )"
   ]
  },
  {
   "cell_type": "code",
   "execution_count": 15,
   "id": "76db484d",
   "metadata": {
    "execution": {
     "iopub.execute_input": "2022-03-24T15:11:30.188651Z",
     "iopub.status.busy": "2022-03-24T15:11:30.188404Z",
     "iopub.status.idle": "2022-03-24T15:11:30.203201Z",
     "shell.execute_reply": "2022-03-24T15:11:30.202849Z"
    },
    "papermill": {
     "duration": 0.030336,
     "end_time": "2022-03-24T15:11:30.203270",
     "exception": false,
     "start_time": "2022-03-24T15:11:30.172934",
     "status": "completed"
    },
    "tags": []
   },
   "outputs": [],
   "source": [
    "# from steves_utils.ORACLE.utils_v2 import (\n",
    "#     ALL_DISTANCES_FEET,\n",
    "#     ALL_RUNS,\n",
    "#     ALL_SERIAL_NUMBERS,\n",
    "# )\n",
    "\n",
    "\n",
    "# add_dataset(\n",
    "#     labels=ALL_SERIAL_NUMBERS,\n",
    "#     domains = list(set(ALL_DISTANCES_FEET) - {2,62}),\n",
    "#     num_examples_per_domain_per_label=100,\n",
    "#     pickle_path=os.path.join(get_datasets_base_path(), \"oracle.Run2_framed_2000Examples_stratified_ds.2022A.pkl\"),\n",
    "#     source_or_target_dataset=\"source\",\n",
    "#     x_transform_func=global_x_transform_func,\n",
    "#     domain_modifier=lambda u: f\"oracle1_{u}\"\n",
    "# )\n"
   ]
  },
  {
   "cell_type": "code",
   "execution_count": 16,
   "id": "97dea9d2",
   "metadata": {
    "execution": {
     "iopub.execute_input": "2022-03-24T15:11:30.236477Z",
     "iopub.status.busy": "2022-03-24T15:11:30.236225Z",
     "iopub.status.idle": "2022-03-24T15:11:30.249599Z",
     "shell.execute_reply": "2022-03-24T15:11:30.249206Z"
    },
    "papermill": {
     "duration": 0.028341,
     "end_time": "2022-03-24T15:11:30.249687",
     "exception": false,
     "start_time": "2022-03-24T15:11:30.221346",
     "status": "completed"
    },
    "tags": []
   },
   "outputs": [],
   "source": [
    "# from steves_utils.ORACLE.utils_v2 import (\n",
    "#     ALL_DISTANCES_FEET,\n",
    "#     ALL_RUNS,\n",
    "#     ALL_SERIAL_NUMBERS,\n",
    "# )\n",
    "\n",
    "\n",
    "# add_dataset(\n",
    "#     labels=ALL_SERIAL_NUMBERS,\n",
    "#     domains = list(set(ALL_DISTANCES_FEET) - {2,62,56}),\n",
    "#     num_examples_per_domain_per_label=100,\n",
    "#     pickle_path=os.path.join(get_datasets_base_path(), \"oracle.Run2_framed_2000Examples_stratified_ds.2022A.pkl\"),\n",
    "#     source_or_target_dataset=\"source\",\n",
    "#     x_transform_func=global_x_transform_func,\n",
    "#     domain_modifier=lambda u: f\"oracle2_{u}\"\n",
    "# )"
   ]
  },
  {
   "cell_type": "code",
   "execution_count": 17,
   "id": "6f289866",
   "metadata": {
    "execution": {
     "iopub.execute_input": "2022-03-24T15:11:30.283356Z",
     "iopub.status.busy": "2022-03-24T15:11:30.283113Z",
     "iopub.status.idle": "2022-03-24T15:11:30.296932Z",
     "shell.execute_reply": "2022-03-24T15:11:30.297300Z"
    },
    "papermill": {
     "duration": 0.030022,
     "end_time": "2022-03-24T15:11:30.297404",
     "exception": false,
     "start_time": "2022-03-24T15:11:30.267382",
     "status": "completed"
    },
    "tags": []
   },
   "outputs": [],
   "source": [
    "# add_dataset(\n",
    "#     labels=list(range(19)),\n",
    "#     domains = [0,1,2],\n",
    "#     num_examples_per_domain_per_label=100,\n",
    "#     pickle_path=os.path.join(get_datasets_base_path(), \"metehan.stratified_ds.2022A.pkl\"),\n",
    "#     source_or_target_dataset=\"target\",\n",
    "#     x_transform_func=global_x_transform_func,\n",
    "#     domain_modifier=lambda u: f\"met_{u}\"\n",
    "# )"
   ]
  },
  {
   "cell_type": "code",
   "execution_count": 18,
   "id": "86a863c3",
   "metadata": {
    "execution": {
     "iopub.execute_input": "2022-03-24T15:11:30.330459Z",
     "iopub.status.busy": "2022-03-24T15:11:30.330109Z",
     "iopub.status.idle": "2022-03-24T15:11:30.343665Z",
     "shell.execute_reply": "2022-03-24T15:11:30.343955Z"
    },
    "papermill": {
     "duration": 0.029412,
     "end_time": "2022-03-24T15:11:30.344038",
     "exception": false,
     "start_time": "2022-03-24T15:11:30.314626",
     "status": "completed"
    },
    "tags": []
   },
   "outputs": [],
   "source": [
    "# # from steves_utils.wisig.utils import (\n",
    "# #     ALL_NODES_MINIMUM_100_EXAMPLES,\n",
    "# #     ALL_NODES_MINIMUM_500_EXAMPLES,\n",
    "# #     ALL_NODES_MINIMUM_1000_EXAMPLES,\n",
    "# #     ALL_DAYS\n",
    "# # )\n",
    "\n",
    "# import steves_utils.wisig.utils as wisig\n",
    "\n",
    "\n",
    "# add_dataset(\n",
    "#     labels=wisig.ALL_NODES_MINIMUM_100_EXAMPLES,\n",
    "#     domains = wisig.ALL_DAYS,\n",
    "#     num_examples_per_domain_per_label=100,\n",
    "#     pickle_path=os.path.join(get_datasets_base_path(), \"wisig.node3-19.stratified_ds.2022A.pkl\"),\n",
    "#     source_or_target_dataset=\"target\",\n",
    "#     x_transform_func=global_x_transform_func,\n",
    "#     domain_modifier=lambda u: f\"wisig_{u}\"\n",
    "# )"
   ]
  },
  {
   "cell_type": "code",
   "execution_count": 19,
   "id": "fd5442bc",
   "metadata": {
    "execution": {
     "iopub.execute_input": "2022-03-24T15:11:30.380493Z",
     "iopub.status.busy": "2022-03-24T15:11:30.380237Z",
     "iopub.status.idle": "2022-03-24T15:11:30.394138Z",
     "shell.execute_reply": "2022-03-24T15:11:30.393674Z"
    },
    "papermill": {
     "duration": 0.032383,
     "end_time": "2022-03-24T15:11:30.394226",
     "exception": false,
     "start_time": "2022-03-24T15:11:30.361843",
     "status": "completed"
    },
    "tags": []
   },
   "outputs": [],
   "source": [
    "###################################\n",
    "# Build the dataset\n",
    "###################################\n",
    "train_original_source = Iterable_Aggregator(train_original_source, p.seed)\n",
    "val_original_source = Iterable_Aggregator(val_original_source, p.seed)\n",
    "test_original_source = Iterable_Aggregator(test_original_source, p.seed)\n",
    "\n",
    "\n",
    "train_original_target = Iterable_Aggregator(train_original_target, p.seed)\n",
    "val_original_target = Iterable_Aggregator(val_original_target, p.seed)\n",
    "test_original_target = Iterable_Aggregator(test_original_target, p.seed)\n",
    "\n",
    "# For CNN We only use X and Y. And we only train on the source.\n",
    "# Properly form the data using a transform lambda and Lazy_Iterable_Wrapper. Finally wrap them in a dataloader\n",
    "\n",
    "transform_lambda = lambda ex: ex[1] # Original is (<domain>, <episode>) so we strip down to episode only\n",
    "\n",
    "train_processed_source = Lazy_Iterable_Wrapper(train_original_source, transform_lambda)\n",
    "val_processed_source   = Lazy_Iterable_Wrapper(val_original_source, transform_lambda)\n",
    "test_processed_source  = Lazy_Iterable_Wrapper(test_original_source, transform_lambda)\n",
    "\n",
    "train_processed_target = Lazy_Iterable_Wrapper(train_original_target, transform_lambda)\n",
    "val_processed_target   = Lazy_Iterable_Wrapper(val_original_target, transform_lambda)\n",
    "test_processed_target  = Lazy_Iterable_Wrapper(test_original_target, transform_lambda)\n",
    "\n",
    "datasets = EasyDict({\n",
    "    \"source\": {\n",
    "        \"original\": {\"train\":train_original_source, \"val\":val_original_source, \"test\":test_original_source},\n",
    "        \"processed\": {\"train\":train_processed_source, \"val\":val_processed_source, \"test\":test_processed_source}\n",
    "    },\n",
    "    \"target\": {\n",
    "        \"original\": {\"train\":train_original_target, \"val\":val_original_target, \"test\":test_original_target},\n",
    "        \"processed\": {\"train\":train_processed_target, \"val\":val_processed_target, \"test\":test_processed_target}\n",
    "    },\n",
    "})"
   ]
  },
  {
   "cell_type": "code",
   "execution_count": 20,
   "id": "5b3c01fc",
   "metadata": {
    "execution": {
     "iopub.execute_input": "2022-03-24T15:11:30.429628Z",
     "iopub.status.busy": "2022-03-24T15:11:30.429370Z",
     "iopub.status.idle": "2022-03-24T15:11:55.198064Z",
     "shell.execute_reply": "2022-03-24T15:11:55.197566Z"
    },
    "papermill": {
     "duration": 24.784931,
     "end_time": "2022-03-24T15:11:55.198192",
     "exception": false,
     "start_time": "2022-03-24T15:11:30.413261",
     "status": "completed"
    },
    "tags": []
   },
   "outputs": [
    {
     "name": "stdout",
     "output_type": "stream",
     "text": [
      "{'ORACLE.run1_8', 'ORACLE.run1_20', 'ORACLE.run1_26', 'ORACLE.run1_50', 'ORACLE.run1_38', 'ORACLE.run1_14', 'ORACLE.run1_32', 'ORACLE.run1_44'}\n"
     ]
    },
    {
     "name": "stdout",
     "output_type": "stream",
     "text": [
      "{'ORACLE.run2_38', 'ORACLE.run2_32', 'ORACLE.run2_50', 'ORACLE.run2_20', 'ORACLE.run2_26', 'ORACLE.run2_14', 'ORACLE.run2_8', 'ORACLE.run2_44'}\n"
     ]
    },
    {
     "name": "stdout",
     "output_type": "stream",
     "text": [
      "tensor([[[ 0.5885, -0.3494, -0.6160,  ..., -0.0690,  0.4321, -1.1401],\n",
      "         [ 0.6390,  0.1793,  0.3310,  ...,  0.7448, -0.0138, -1.2918]],\n",
      "\n",
      "        [[ 1.1379,  0.9688, -0.7769,  ...,  0.3382,  0.0411, -1.0373],\n",
      "         [ 0.1554, -0.1554,  0.9688,  ...,  0.1280, -0.5347, -0.5438]],\n",
      "\n",
      "        [[-0.4306, -0.2792, -0.4968,  ..., -0.2981,  0.3076,  0.8281],\n",
      "         [ 1.0126, -0.2035, -0.6199,  ...,  0.9464, -0.0946, -0.5158]],\n",
      "\n",
      "        ...,\n",
      "\n",
      "        [[ 0.6796, -0.4440, -1.8032,  ..., -0.2302,  0.6522,  0.5700],\n",
      "         [-0.7180, -0.1151,  0.8276,  ...,  1.0195,  0.8934, -1.4963]],\n",
      "\n",
      "        [[-0.4151,  0.1479, -0.1308,  ..., -0.8701, -0.6881, -0.7051],\n",
      "         [-0.8530,  0.1535,  2.1666,  ...,  0.0341,  0.0853,  0.1990]],\n",
      "\n",
      "        [[ 0.3724,  0.3231, -0.5312,  ..., -1.0515, -0.6846,  1.3417],\n",
      "         [ 0.8105, -0.6900, -1.7305,  ..., -0.5203,  0.4764,  0.9803]]])\n"
     ]
    }
   ],
   "source": [
    "from steves_utils.transforms import get_average_magnitude, get_average_power\n",
    "\n",
    "print(set([u for u,_ in val_original_source]))\n",
    "print(set([u for u,_ in val_original_target]))\n",
    "\n",
    "s_x, s_y, q_x, q_y, _ = next(iter(train_processed_source))\n",
    "print(s_x)\n",
    "\n",
    "# for ds in [\n",
    "#     train_processed_source,\n",
    "#     val_processed_source,\n",
    "#     test_processed_source,\n",
    "#     train_processed_target,\n",
    "#     val_processed_target,\n",
    "#     test_processed_target\n",
    "# ]:\n",
    "#     for s_x, s_y, q_x, q_y, _ in ds:\n",
    "#         for X in (s_x, q_x):\n",
    "#             for x in X:\n",
    "#                 assert np.isclose(get_average_magnitude(x.numpy()), 1.0)\n",
    "#                 assert np.isclose(get_average_power(x.numpy()), 1.0)\n",
    "                "
   ]
  },
  {
   "cell_type": "code",
   "execution_count": 21,
   "id": "bbdacba1",
   "metadata": {
    "execution": {
     "iopub.execute_input": "2022-03-24T15:11:55.233930Z",
     "iopub.status.busy": "2022-03-24T15:11:55.232735Z",
     "iopub.status.idle": "2022-03-24T15:11:55.293212Z",
     "shell.execute_reply": "2022-03-24T15:11:55.293605Z"
    },
    "papermill": {
     "duration": 0.077296,
     "end_time": "2022-03-24T15:11:55.293741",
     "exception": false,
     "start_time": "2022-03-24T15:11:55.216445",
     "status": "completed"
    },
    "tags": []
   },
   "outputs": [
    {
     "name": "stdout",
     "output_type": "stream",
     "text": [
      "(2, 256)\n"
     ]
    }
   ],
   "source": [
    "###################################\n",
    "# Build the model\n",
    "###################################\n",
    "# easfsl only wants a tuple for the shape\n",
    "model = Steves_Prototypical_Network(x_net, device=p.device, x_shape=tuple(p.x_shape))\n",
    "optimizer = Adam(params=model.parameters(), lr=p.lr)"
   ]
  },
  {
   "cell_type": "code",
   "execution_count": 22,
   "id": "22b39ac5",
   "metadata": {
    "execution": {
     "iopub.execute_input": "2022-03-24T15:11:55.330739Z",
     "iopub.status.busy": "2022-03-24T15:11:55.330240Z",
     "iopub.status.idle": "2022-03-24T17:59:18.998007Z",
     "shell.execute_reply": "2022-03-24T17:59:18.997769Z"
    },
    "papermill": {
     "duration": 10043.685364,
     "end_time": "2022-03-24T17:59:18.998066",
     "exception": false,
     "start_time": "2022-03-24T15:11:55.312702",
     "status": "completed"
    },
    "tags": []
   },
   "outputs": [
    {
     "name": "stdout",
     "output_type": "stream",
     "text": [
      "epoch: 1, [batch: 1 / 33600], examples_per_second: 9.9269, train_label_loss: 2.7696, \n"
     ]
    },
    {
     "name": "stdout",
     "output_type": "stream",
     "text": [
      "epoch: 1, [batch: 3360 / 33600], examples_per_second: 3216.4999, train_label_loss: 1.3809, \n"
     ]
    },
    {
     "name": "stdout",
     "output_type": "stream",
     "text": [
      "epoch: 1, [batch: 6720 / 33600], examples_per_second: 3214.6974, train_label_loss: 0.7000, \n"
     ]
    },
    {
     "name": "stdout",
     "output_type": "stream",
     "text": [
      "epoch: 1, [batch: 10080 / 33600], examples_per_second: 3200.7609, train_label_loss: 1.2993, \n"
     ]
    },
    {
     "name": "stdout",
     "output_type": "stream",
     "text": [
      "epoch: 1, [batch: 13440 / 33600], examples_per_second: 3153.2516, train_label_loss: 0.6496, \n"
     ]
    },
    {
     "name": "stdout",
     "output_type": "stream",
     "text": [
      "epoch: 1, [batch: 16800 / 33600], examples_per_second: 3158.9084, train_label_loss: 0.8384, \n"
     ]
    },
    {
     "name": "stdout",
     "output_type": "stream",
     "text": [
      "epoch: 1, [batch: 20160 / 33600], examples_per_second: 3181.2367, train_label_loss: 0.6604, \n"
     ]
    },
    {
     "name": "stdout",
     "output_type": "stream",
     "text": [
      "epoch: 1, [batch: 23520 / 33600], examples_per_second: 3173.2428, train_label_loss: 0.5129, \n"
     ]
    },
    {
     "name": "stdout",
     "output_type": "stream",
     "text": [
      "epoch: 1, [batch: 26880 / 33600], examples_per_second: 3189.7224, train_label_loss: 0.5687, \n"
     ]
    },
    {
     "name": "stdout",
     "output_type": "stream",
     "text": [
      "epoch: 1, [batch: 30240 / 33600], examples_per_second: 3190.1374, train_label_loss: 1.2551, \n"
     ]
    },
    {
     "name": "stdout",
     "output_type": "stream",
     "text": [
      "=============================================================\n",
      "epoch: 1, source_val_acc_label: 0.6563, target_val_acc_label: 0.6397, source_val_label_loss: 0.9921, target_val_label_loss: 1.0464, \n",
      "=============================================================\n"
     ]
    },
    {
     "name": "stdout",
     "output_type": "stream",
     "text": [
      "New best\n"
     ]
    },
    {
     "name": "stdout",
     "output_type": "stream",
     "text": [
      "epoch: 2, [batch: 1 / 33600], examples_per_second: 0.9583, train_label_loss: 0.5814, \n"
     ]
    },
    {
     "name": "stdout",
     "output_type": "stream",
     "text": [
      "epoch: 2, [batch: 3360 / 33600], examples_per_second: 3201.1192, train_label_loss: 0.6847, \n"
     ]
    },
    {
     "name": "stdout",
     "output_type": "stream",
     "text": [
      "epoch: 2, [batch: 6720 / 33600], examples_per_second: 3216.8128, train_label_loss: 0.6943, \n"
     ]
    },
    {
     "name": "stdout",
     "output_type": "stream",
     "text": [
      "epoch: 2, [batch: 10080 / 33600], examples_per_second: 3220.3433, train_label_loss: 0.5270, \n"
     ]
    },
    {
     "name": "stdout",
     "output_type": "stream",
     "text": [
      "epoch: 2, [batch: 13440 / 33600], examples_per_second: 3235.4251, train_label_loss: 0.7313, \n"
     ]
    },
    {
     "name": "stdout",
     "output_type": "stream",
     "text": [
      "epoch: 2, [batch: 16800 / 33600], examples_per_second: 3251.0455, train_label_loss: 0.9978, \n"
     ]
    },
    {
     "name": "stdout",
     "output_type": "stream",
     "text": [
      "epoch: 2, [batch: 20160 / 33600], examples_per_second: 3253.6671, train_label_loss: 0.5586, \n"
     ]
    },
    {
     "name": "stdout",
     "output_type": "stream",
     "text": [
      "epoch: 2, [batch: 23520 / 33600], examples_per_second: 3240.7115, train_label_loss: 0.7999, \n"
     ]
    },
    {
     "name": "stdout",
     "output_type": "stream",
     "text": [
      "epoch: 2, [batch: 26880 / 33600], examples_per_second: 3243.3038, train_label_loss: 0.5703, \n"
     ]
    },
    {
     "name": "stdout",
     "output_type": "stream",
     "text": [
      "epoch: 2, [batch: 30240 / 33600], examples_per_second: 3252.2727, train_label_loss: 0.6820, \n"
     ]
    },
    {
     "name": "stdout",
     "output_type": "stream",
     "text": [
      "=============================================================\n",
      "epoch: 2, source_val_acc_label: 0.6721, target_val_acc_label: 0.6531, source_val_label_loss: 0.8602, target_val_label_loss: 0.9289, \n",
      "=============================================================\n"
     ]
    },
    {
     "name": "stdout",
     "output_type": "stream",
     "text": [
      "New best\n"
     ]
    },
    {
     "name": "stdout",
     "output_type": "stream",
     "text": [
      "epoch: 3, [batch: 1 / 33600], examples_per_second: 0.9695, train_label_loss: 1.1745, \n"
     ]
    },
    {
     "name": "stdout",
     "output_type": "stream",
     "text": [
      "epoch: 3, [batch: 3360 / 33600], examples_per_second: 3202.7492, train_label_loss: 0.7902, \n"
     ]
    },
    {
     "name": "stdout",
     "output_type": "stream",
     "text": [
      "epoch: 3, [batch: 6720 / 33600], examples_per_second: 3229.9162, train_label_loss: 0.9127, \n"
     ]
    },
    {
     "name": "stdout",
     "output_type": "stream",
     "text": [
      "epoch: 3, [batch: 10080 / 33600], examples_per_second: 3255.5838, train_label_loss: 1.2602, \n"
     ]
    },
    {
     "name": "stdout",
     "output_type": "stream",
     "text": [
      "epoch: 3, [batch: 13440 / 33600], examples_per_second: 3233.5107, train_label_loss: 0.5902, \n"
     ]
    },
    {
     "name": "stdout",
     "output_type": "stream",
     "text": [
      "epoch: 3, [batch: 16800 / 33600], examples_per_second: 3247.7550, train_label_loss: 0.5117, \n"
     ]
    },
    {
     "name": "stdout",
     "output_type": "stream",
     "text": [
      "epoch: 3, [batch: 20160 / 33600], examples_per_second: 3252.1369, train_label_loss: 0.8427, \n"
     ]
    },
    {
     "name": "stdout",
     "output_type": "stream",
     "text": [
      "epoch: 3, [batch: 23520 / 33600], examples_per_second: 3234.5108, train_label_loss: 0.7922, \n"
     ]
    },
    {
     "name": "stdout",
     "output_type": "stream",
     "text": [
      "epoch: 3, [batch: 26880 / 33600], examples_per_second: 3245.9287, train_label_loss: 0.7625, \n"
     ]
    },
    {
     "name": "stdout",
     "output_type": "stream",
     "text": [
      "epoch: 3, [batch: 30240 / 33600], examples_per_second: 3249.8935, train_label_loss: 0.6064, \n"
     ]
    },
    {
     "name": "stdout",
     "output_type": "stream",
     "text": [
      "=============================================================\n",
      "epoch: 3, source_val_acc_label: 0.7062, target_val_acc_label: 0.6864, source_val_label_loss: 0.7987, target_val_label_loss: 0.8722, \n",
      "=============================================================\n"
     ]
    },
    {
     "name": "stdout",
     "output_type": "stream",
     "text": [
      "New best\n"
     ]
    },
    {
     "name": "stdout",
     "output_type": "stream",
     "text": [
      "epoch: 4, [batch: 1 / 33600], examples_per_second: 0.9695, train_label_loss: 0.3265, \n"
     ]
    },
    {
     "name": "stdout",
     "output_type": "stream",
     "text": [
      "epoch: 4, [batch: 3360 / 33600], examples_per_second: 3227.2587, train_label_loss: 1.3478, \n"
     ]
    },
    {
     "name": "stdout",
     "output_type": "stream",
     "text": [
      "epoch: 4, [batch: 6720 / 33600], examples_per_second: 3246.9156, train_label_loss: 0.4817, \n"
     ]
    },
    {
     "name": "stdout",
     "output_type": "stream",
     "text": [
      "epoch: 4, [batch: 10080 / 33600], examples_per_second: 3255.1293, train_label_loss: 0.3853, \n"
     ]
    },
    {
     "name": "stdout",
     "output_type": "stream",
     "text": [
      "epoch: 4, [batch: 13440 / 33600], examples_per_second: 3238.2581, train_label_loss: 0.9388, \n"
     ]
    },
    {
     "name": "stdout",
     "output_type": "stream",
     "text": [
      "epoch: 4, [batch: 16800 / 33600], examples_per_second: 3238.9529, train_label_loss: 0.5236, \n"
     ]
    },
    {
     "name": "stdout",
     "output_type": "stream",
     "text": [
      "epoch: 4, [batch: 20160 / 33600], examples_per_second: 3249.0250, train_label_loss: 0.7628, \n"
     ]
    },
    {
     "name": "stdout",
     "output_type": "stream",
     "text": [
      "epoch: 4, [batch: 23520 / 33600], examples_per_second: 3233.7013, train_label_loss: 0.5015, \n"
     ]
    },
    {
     "name": "stdout",
     "output_type": "stream",
     "text": [
      "epoch: 4, [batch: 26880 / 33600], examples_per_second: 3242.9389, train_label_loss: 0.6095, \n"
     ]
    },
    {
     "name": "stdout",
     "output_type": "stream",
     "text": [
      "epoch: 4, [batch: 30240 / 33600], examples_per_second: 3253.3858, train_label_loss: 0.8023, \n"
     ]
    },
    {
     "name": "stdout",
     "output_type": "stream",
     "text": [
      "=============================================================\n",
      "epoch: 4, source_val_acc_label: 0.7245, target_val_acc_label: 0.7054, source_val_label_loss: 0.7466, target_val_label_loss: 0.8262, \n",
      "=============================================================\n"
     ]
    },
    {
     "name": "stdout",
     "output_type": "stream",
     "text": [
      "New best\n"
     ]
    },
    {
     "name": "stdout",
     "output_type": "stream",
     "text": [
      "epoch: 5, [batch: 1 / 33600], examples_per_second: 0.9701, train_label_loss: 0.5994, \n"
     ]
    },
    {
     "name": "stdout",
     "output_type": "stream",
     "text": [
      "epoch: 5, [batch: 3360 / 33600], examples_per_second: 3221.3491, train_label_loss: 0.4660, \n"
     ]
    },
    {
     "name": "stdout",
     "output_type": "stream",
     "text": [
      "epoch: 5, [batch: 6720 / 33600], examples_per_second: 3243.0691, train_label_loss: 0.4551, \n"
     ]
    },
    {
     "name": "stdout",
     "output_type": "stream",
     "text": [
      "epoch: 5, [batch: 10080 / 33600], examples_per_second: 3242.9050, train_label_loss: 0.9861, \n"
     ]
    },
    {
     "name": "stdout",
     "output_type": "stream",
     "text": [
      "epoch: 5, [batch: 13440 / 33600], examples_per_second: 3230.2706, train_label_loss: 0.8261, \n"
     ]
    },
    {
     "name": "stdout",
     "output_type": "stream",
     "text": [
      "epoch: 5, [batch: 16800 / 33600], examples_per_second: 3247.8762, train_label_loss: 0.2561, \n"
     ]
    },
    {
     "name": "stdout",
     "output_type": "stream",
     "text": [
      "epoch: 5, [batch: 20160 / 33600], examples_per_second: 3243.3197, train_label_loss: 0.6292, \n"
     ]
    },
    {
     "name": "stdout",
     "output_type": "stream",
     "text": [
      "epoch: 5, [batch: 23520 / 33600], examples_per_second: 3238.8527, train_label_loss: 0.7474, \n"
     ]
    },
    {
     "name": "stdout",
     "output_type": "stream",
     "text": [
      "epoch: 5, [batch: 26880 / 33600], examples_per_second: 3243.5570, train_label_loss: 0.3308, \n"
     ]
    },
    {
     "name": "stdout",
     "output_type": "stream",
     "text": [
      "epoch: 5, [batch: 30240 / 33600], examples_per_second: 3247.5238, train_label_loss: 0.6096, \n"
     ]
    },
    {
     "name": "stdout",
     "output_type": "stream",
     "text": [
      "=============================================================\n",
      "epoch: 5, source_val_acc_label: 0.7353, target_val_acc_label: 0.7164, source_val_label_loss: 0.7283, target_val_label_loss: 0.8108, \n",
      "=============================================================\n"
     ]
    },
    {
     "name": "stdout",
     "output_type": "stream",
     "text": [
      "New best\n"
     ]
    },
    {
     "name": "stdout",
     "output_type": "stream",
     "text": [
      "epoch: 6, [batch: 1 / 33600], examples_per_second: 0.9696, train_label_loss: 0.9664, \n"
     ]
    },
    {
     "name": "stdout",
     "output_type": "stream",
     "text": [
      "epoch: 6, [batch: 3360 / 33600], examples_per_second: 3229.8326, train_label_loss: 0.3396, \n"
     ]
    },
    {
     "name": "stdout",
     "output_type": "stream",
     "text": [
      "epoch: 6, [batch: 6720 / 33600], examples_per_second: 3249.7432, train_label_loss: 0.5513, \n"
     ]
    },
    {
     "name": "stdout",
     "output_type": "stream",
     "text": [
      "epoch: 6, [batch: 10080 / 33600], examples_per_second: 3250.5613, train_label_loss: 0.6393, \n"
     ]
    },
    {
     "name": "stdout",
     "output_type": "stream",
     "text": [
      "epoch: 6, [batch: 13440 / 33600], examples_per_second: 3236.4754, train_label_loss: 0.5073, \n"
     ]
    },
    {
     "name": "stdout",
     "output_type": "stream",
     "text": [
      "epoch: 6, [batch: 16800 / 33600], examples_per_second: 3242.9118, train_label_loss: 0.3979, \n"
     ]
    },
    {
     "name": "stdout",
     "output_type": "stream",
     "text": [
      "epoch: 6, [batch: 20160 / 33600], examples_per_second: 3249.4882, train_label_loss: 0.7090, \n"
     ]
    },
    {
     "name": "stdout",
     "output_type": "stream",
     "text": [
      "epoch: 6, [batch: 23520 / 33600], examples_per_second: 3239.3737, train_label_loss: 0.1603, \n"
     ]
    },
    {
     "name": "stdout",
     "output_type": "stream",
     "text": [
      "epoch: 6, [batch: 26880 / 33600], examples_per_second: 3243.3789, train_label_loss: 0.7818, \n"
     ]
    },
    {
     "name": "stdout",
     "output_type": "stream",
     "text": [
      "epoch: 6, [batch: 30240 / 33600], examples_per_second: 3245.9633, train_label_loss: 0.7467, \n"
     ]
    },
    {
     "name": "stdout",
     "output_type": "stream",
     "text": [
      "=============================================================\n",
      "epoch: 6, source_val_acc_label: 0.7294, target_val_acc_label: 0.7104, source_val_label_loss: 0.7299, target_val_label_loss: 0.8096, \n",
      "=============================================================\n"
     ]
    },
    {
     "name": "stdout",
     "output_type": "stream",
     "text": [
      "epoch: 7, [batch: 1 / 33600], examples_per_second: 0.9712, train_label_loss: 0.5752, \n"
     ]
    },
    {
     "name": "stdout",
     "output_type": "stream",
     "text": [
      "epoch: 7, [batch: 3360 / 33600], examples_per_second: 3214.5794, train_label_loss: 0.3798, \n"
     ]
    },
    {
     "name": "stdout",
     "output_type": "stream",
     "text": [
      "epoch: 7, [batch: 6720 / 33600], examples_per_second: 3244.0058, train_label_loss: 0.4459, \n"
     ]
    },
    {
     "name": "stdout",
     "output_type": "stream",
     "text": [
      "epoch: 7, [batch: 10080 / 33600], examples_per_second: 3245.6110, train_label_loss: 0.2395, \n"
     ]
    },
    {
     "name": "stdout",
     "output_type": "stream",
     "text": [
      "epoch: 7, [batch: 13440 / 33600], examples_per_second: 3230.8038, train_label_loss: 0.3348, \n"
     ]
    },
    {
     "name": "stdout",
     "output_type": "stream",
     "text": [
      "epoch: 7, [batch: 16800 / 33600], examples_per_second: 3243.8827, train_label_loss: 0.2357, \n"
     ]
    },
    {
     "name": "stdout",
     "output_type": "stream",
     "text": [
      "epoch: 7, [batch: 20160 / 33600], examples_per_second: 3252.3516, train_label_loss: 0.2125, \n"
     ]
    },
    {
     "name": "stdout",
     "output_type": "stream",
     "text": [
      "epoch: 7, [batch: 23520 / 33600], examples_per_second: 3238.3750, train_label_loss: 0.3872, \n"
     ]
    },
    {
     "name": "stdout",
     "output_type": "stream",
     "text": [
      "epoch: 7, [batch: 26880 / 33600], examples_per_second: 3237.1049, train_label_loss: 0.5926, \n"
     ]
    },
    {
     "name": "stdout",
     "output_type": "stream",
     "text": [
      "epoch: 7, [batch: 30240 / 33600], examples_per_second: 3249.6862, train_label_loss: 0.2317, \n"
     ]
    },
    {
     "name": "stdout",
     "output_type": "stream",
     "text": [
      "=============================================================\n",
      "epoch: 7, source_val_acc_label: 0.7336, target_val_acc_label: 0.7177, source_val_label_loss: 0.7514, target_val_label_loss: 0.8356, \n",
      "=============================================================\n"
     ]
    },
    {
     "name": "stdout",
     "output_type": "stream",
     "text": [
      "New best\n"
     ]
    },
    {
     "name": "stdout",
     "output_type": "stream",
     "text": [
      "epoch: 8, [batch: 1 / 33600], examples_per_second: 0.9690, train_label_loss: 0.3756, \n"
     ]
    },
    {
     "name": "stdout",
     "output_type": "stream",
     "text": [
      "epoch: 8, [batch: 3360 / 33600], examples_per_second: 3225.3850, train_label_loss: 0.1194, \n"
     ]
    },
    {
     "name": "stdout",
     "output_type": "stream",
     "text": [
      "epoch: 8, [batch: 6720 / 33600], examples_per_second: 3245.4061, train_label_loss: 0.5837, \n"
     ]
    },
    {
     "name": "stdout",
     "output_type": "stream",
     "text": [
      "epoch: 8, [batch: 10080 / 33600], examples_per_second: 3251.5618, train_label_loss: 0.3644, \n"
     ]
    },
    {
     "name": "stdout",
     "output_type": "stream",
     "text": [
      "epoch: 8, [batch: 13440 / 33600], examples_per_second: 3236.8581, train_label_loss: 0.1805, \n"
     ]
    },
    {
     "name": "stdout",
     "output_type": "stream",
     "text": [
      "epoch: 8, [batch: 16800 / 33600], examples_per_second: 3240.8549, train_label_loss: 0.5278, \n"
     ]
    },
    {
     "name": "stdout",
     "output_type": "stream",
     "text": [
      "epoch: 8, [batch: 20160 / 33600], examples_per_second: 3243.2420, train_label_loss: 0.3702, \n"
     ]
    },
    {
     "name": "stdout",
     "output_type": "stream",
     "text": [
      "epoch: 8, [batch: 23520 / 33600], examples_per_second: 3236.1852, train_label_loss: 0.8214, \n"
     ]
    },
    {
     "name": "stdout",
     "output_type": "stream",
     "text": [
      "epoch: 8, [batch: 26880 / 33600], examples_per_second: 3237.3219, train_label_loss: 0.5992, \n"
     ]
    },
    {
     "name": "stdout",
     "output_type": "stream",
     "text": [
      "epoch: 8, [batch: 30240 / 33600], examples_per_second: 3244.2571, train_label_loss: 0.6096, \n"
     ]
    },
    {
     "name": "stdout",
     "output_type": "stream",
     "text": [
      "=============================================================\n",
      "epoch: 8, source_val_acc_label: 0.7297, target_val_acc_label: 0.7123, source_val_label_loss: 0.7591, target_val_label_loss: 0.8435, \n",
      "=============================================================\n"
     ]
    },
    {
     "name": "stdout",
     "output_type": "stream",
     "text": [
      "epoch: 9, [batch: 1 / 33600], examples_per_second: 0.9709, train_label_loss: 0.3875, \n"
     ]
    },
    {
     "name": "stdout",
     "output_type": "stream",
     "text": [
      "epoch: 9, [batch: 3360 / 33600], examples_per_second: 3211.7700, train_label_loss: 0.0575, \n"
     ]
    },
    {
     "name": "stdout",
     "output_type": "stream",
     "text": [
      "epoch: 9, [batch: 6720 / 33600], examples_per_second: 3247.6775, train_label_loss: 0.4199, \n"
     ]
    },
    {
     "name": "stdout",
     "output_type": "stream",
     "text": [
      "epoch: 9, [batch: 10080 / 33600], examples_per_second: 3250.6842, train_label_loss: 0.8331, \n"
     ]
    },
    {
     "name": "stdout",
     "output_type": "stream",
     "text": [
      "epoch: 9, [batch: 13440 / 33600], examples_per_second: 3236.6155, train_label_loss: 0.3640, \n"
     ]
    },
    {
     "name": "stdout",
     "output_type": "stream",
     "text": [
      "epoch: 9, [batch: 16800 / 33600], examples_per_second: 3239.5752, train_label_loss: 0.5754, \n"
     ]
    },
    {
     "name": "stdout",
     "output_type": "stream",
     "text": [
      "epoch: 9, [batch: 20160 / 33600], examples_per_second: 3236.9347, train_label_loss: 0.4187, \n"
     ]
    },
    {
     "name": "stdout",
     "output_type": "stream",
     "text": [
      "epoch: 9, [batch: 23520 / 33600], examples_per_second: 3226.9585, train_label_loss: 0.3729, \n"
     ]
    },
    {
     "name": "stdout",
     "output_type": "stream",
     "text": [
      "epoch: 9, [batch: 26880 / 33600], examples_per_second: 3244.4191, train_label_loss: 0.7186, \n"
     ]
    },
    {
     "name": "stdout",
     "output_type": "stream",
     "text": [
      "epoch: 9, [batch: 30240 / 33600], examples_per_second: 3243.6533, train_label_loss: 0.7137, \n"
     ]
    },
    {
     "name": "stdout",
     "output_type": "stream",
     "text": [
      "=============================================================\n",
      "epoch: 9, source_val_acc_label: 0.7337, target_val_acc_label: 0.7164, source_val_label_loss: 0.7690, target_val_label_loss: 0.8531, \n",
      "=============================================================\n"
     ]
    },
    {
     "name": "stdout",
     "output_type": "stream",
     "text": [
      "epoch: 10, [batch: 1 / 33600], examples_per_second: 0.9665, train_label_loss: 0.3581, \n"
     ]
    },
    {
     "name": "stdout",
     "output_type": "stream",
     "text": [
      "epoch: 10, [batch: 3360 / 33600], examples_per_second: 3226.9023, train_label_loss: 0.3110, \n"
     ]
    },
    {
     "name": "stdout",
     "output_type": "stream",
     "text": [
      "epoch: 10, [batch: 6720 / 33600], examples_per_second: 3248.0966, train_label_loss: 0.4853, \n"
     ]
    },
    {
     "name": "stdout",
     "output_type": "stream",
     "text": [
      "epoch: 10, [batch: 10080 / 33600], examples_per_second: 3251.1983, train_label_loss: 0.2940, \n"
     ]
    },
    {
     "name": "stdout",
     "output_type": "stream",
     "text": [
      "epoch: 10, [batch: 13440 / 33600], examples_per_second: 3229.7454, train_label_loss: 0.5294, \n"
     ]
    },
    {
     "name": "stdout",
     "output_type": "stream",
     "text": [
      "epoch: 10, [batch: 16800 / 33600], examples_per_second: 3247.5808, train_label_loss: 0.7029, \n"
     ]
    },
    {
     "name": "stdout",
     "output_type": "stream",
     "text": [
      "epoch: 10, [batch: 20160 / 33600], examples_per_second: 3246.4000, train_label_loss: 0.4178, \n"
     ]
    },
    {
     "name": "stdout",
     "output_type": "stream",
     "text": [
      "epoch: 10, [batch: 23520 / 33600], examples_per_second: 3236.5042, train_label_loss: 0.4381, \n"
     ]
    },
    {
     "name": "stdout",
     "output_type": "stream",
     "text": [
      "epoch: 10, [batch: 26880 / 33600], examples_per_second: 3243.4445, train_label_loss: 0.1907, \n"
     ]
    },
    {
     "name": "stdout",
     "output_type": "stream",
     "text": [
      "epoch: 10, [batch: 30240 / 33600], examples_per_second: 3245.1849, train_label_loss: 0.5391, \n"
     ]
    },
    {
     "name": "stdout",
     "output_type": "stream",
     "text": [
      "=============================================================\n",
      "epoch: 10, source_val_acc_label: 0.7308, target_val_acc_label: 0.7127, source_val_label_loss: 0.7818, target_val_label_loss: 0.8702, \n",
      "=============================================================\n"
     ]
    },
    {
     "name": "stdout",
     "output_type": "stream",
     "text": [
      "epoch: 11, [batch: 1 / 33600], examples_per_second: 0.9639, train_label_loss: 0.2646, \n"
     ]
    },
    {
     "name": "stdout",
     "output_type": "stream",
     "text": [
      "epoch: 11, [batch: 3360 / 33600], examples_per_second: 3219.5440, train_label_loss: 0.4296, \n"
     ]
    },
    {
     "name": "stdout",
     "output_type": "stream",
     "text": [
      "epoch: 11, [batch: 6720 / 33600], examples_per_second: 3243.3010, train_label_loss: 0.2847, \n"
     ]
    },
    {
     "name": "stdout",
     "output_type": "stream",
     "text": [
      "epoch: 11, [batch: 10080 / 33600], examples_per_second: 3248.0130, train_label_loss: 0.4204, \n"
     ]
    },
    {
     "name": "stdout",
     "output_type": "stream",
     "text": [
      "epoch: 11, [batch: 13440 / 33600], examples_per_second: 3239.1954, train_label_loss: 0.6059, \n"
     ]
    },
    {
     "name": "stdout",
     "output_type": "stream",
     "text": [
      "epoch: 11, [batch: 16800 / 33600], examples_per_second: 3242.8983, train_label_loss: 0.2476, \n"
     ]
    },
    {
     "name": "stdout",
     "output_type": "stream",
     "text": [
      "epoch: 11, [batch: 20160 / 33600], examples_per_second: 3250.4326, train_label_loss: 0.1792, \n"
     ]
    },
    {
     "name": "stdout",
     "output_type": "stream",
     "text": [
      "epoch: 11, [batch: 23520 / 33600], examples_per_second: 3230.0508, train_label_loss: 0.3645, \n"
     ]
    },
    {
     "name": "stdout",
     "output_type": "stream",
     "text": [
      "epoch: 11, [batch: 26880 / 33600], examples_per_second: 3242.9665, train_label_loss: 0.2876, \n"
     ]
    },
    {
     "name": "stdout",
     "output_type": "stream",
     "text": [
      "epoch: 11, [batch: 30240 / 33600], examples_per_second: 3246.8796, train_label_loss: 0.3354, \n"
     ]
    },
    {
     "name": "stdout",
     "output_type": "stream",
     "text": [
      "=============================================================\n",
      "epoch: 11, source_val_acc_label: 0.7347, target_val_acc_label: 0.7152, source_val_label_loss: 0.8079, target_val_label_loss: 0.9071, \n",
      "=============================================================\n"
     ]
    },
    {
     "name": "stdout",
     "output_type": "stream",
     "text": [
      "Patience (3) exhausted\n"
     ]
    }
   ],
   "source": [
    "###################################\n",
    "# train\n",
    "###################################\n",
    "jig = PTN_Train_Eval_Test_Jig(model, p.BEST_MODEL_PATH, p.device)\n",
    "\n",
    "jig.train(\n",
    "    train_iterable=datasets.source.processed.train,\n",
    "    source_val_iterable=datasets.source.processed.val,\n",
    "    target_val_iterable=datasets.target.processed.val,\n",
    "    num_epochs=p.n_epoch,\n",
    "    num_logs_per_epoch=p.NUM_LOGS_PER_EPOCH,\n",
    "    patience=p.patience,\n",
    "    optimizer=optimizer,\n",
    "    criteria_for_best=p.criteria_for_best,\n",
    ")"
   ]
  },
  {
   "cell_type": "code",
   "execution_count": 23,
   "id": "31e8fabf",
   "metadata": {
    "execution": {
     "iopub.execute_input": "2022-03-24T17:59:19.074958Z",
     "iopub.status.busy": "2022-03-24T17:59:19.074579Z",
     "iopub.status.idle": "2022-03-24T17:59:19.092966Z",
     "shell.execute_reply": "2022-03-24T17:59:19.092594Z"
    },
    "papermill": {
     "duration": 0.058155,
     "end_time": "2022-03-24T17:59:19.093060",
     "exception": false,
     "start_time": "2022-03-24T17:59:19.034905",
     "status": "completed"
    },
    "tags": []
   },
   "outputs": [],
   "source": [
    "total_experiment_time_secs = time.time() - start_time_secs"
   ]
  },
  {
   "cell_type": "code",
   "execution_count": 24,
   "id": "87b9595b",
   "metadata": {
    "execution": {
     "iopub.execute_input": "2022-03-24T17:59:19.176178Z",
     "iopub.status.busy": "2022-03-24T17:59:19.175907Z",
     "iopub.status.idle": "2022-03-24T18:07:24.032855Z",
     "shell.execute_reply": "2022-03-24T18:07:24.032424Z"
    },
    "papermill": {
     "duration": 484.899017,
     "end_time": "2022-03-24T18:07:24.032961",
     "exception": false,
     "start_time": "2022-03-24T17:59:19.133944",
     "status": "completed"
    },
    "tags": []
   },
   "outputs": [],
   "source": [
    "###################################\n",
    "# Evaluate the model\n",
    "###################################\n",
    "source_test_label_accuracy, source_test_label_loss = jig.test(datasets.source.processed.test)\n",
    "target_test_label_accuracy, target_test_label_loss = jig.test(datasets.target.processed.test)\n",
    "\n",
    "source_val_label_accuracy, source_val_label_loss = jig.test(datasets.source.processed.val)\n",
    "target_val_label_accuracy, target_val_label_loss = jig.test(datasets.target.processed.val)\n",
    "\n",
    "history = jig.get_history()\n",
    "\n",
    "total_epochs_trained = len(history[\"epoch_indices\"])\n",
    "\n",
    "val_dl = Iterable_Aggregator((datasets.source.original.val,datasets.target.original.val))\n",
    "\n",
    "confusion = ptn_confusion_by_domain_over_dataloader(model, p.device, val_dl)\n",
    "per_domain_accuracy = per_domain_accuracy_from_confusion(confusion)\n",
    "\n",
    "# Add a key to per_domain_accuracy for if it was a source domain\n",
    "for domain, accuracy in per_domain_accuracy.items():\n",
    "    per_domain_accuracy[domain] = {\n",
    "        \"accuracy\": accuracy,\n",
    "        \"source?\": domain in p.domains_source\n",
    "    }\n",
    "\n",
    "# Do an independent accuracy assesment JUST TO BE SURE!\n",
    "# _source_test_label_accuracy = independent_accuracy_assesment(model, datasets.source.processed.test, p.device)\n",
    "# _target_test_label_accuracy = independent_accuracy_assesment(model, datasets.target.processed.test, p.device)\n",
    "# _source_val_label_accuracy = independent_accuracy_assesment(model, datasets.source.processed.val, p.device)\n",
    "# _target_val_label_accuracy = independent_accuracy_assesment(model, datasets.target.processed.val, p.device)\n",
    "\n",
    "# assert(_source_test_label_accuracy == source_test_label_accuracy)\n",
    "# assert(_target_test_label_accuracy == target_test_label_accuracy)\n",
    "# assert(_source_val_label_accuracy == source_val_label_accuracy)\n",
    "# assert(_target_val_label_accuracy == target_val_label_accuracy)\n",
    "\n",
    "experiment = {\n",
    "    \"experiment_name\": p.experiment_name,\n",
    "    \"parameters\": dict(p),\n",
    "    \"results\": {\n",
    "        \"source_test_label_accuracy\": source_test_label_accuracy,\n",
    "        \"source_test_label_loss\": source_test_label_loss,\n",
    "        \"target_test_label_accuracy\": target_test_label_accuracy,\n",
    "        \"target_test_label_loss\": target_test_label_loss,\n",
    "        \"source_val_label_accuracy\": source_val_label_accuracy,\n",
    "        \"source_val_label_loss\": source_val_label_loss,\n",
    "        \"target_val_label_accuracy\": target_val_label_accuracy,\n",
    "        \"target_val_label_loss\": target_val_label_loss,\n",
    "        \"total_epochs_trained\": total_epochs_trained,\n",
    "        \"total_experiment_time_secs\": total_experiment_time_secs,\n",
    "        \"confusion\": confusion,\n",
    "        \"per_domain_accuracy\": per_domain_accuracy,\n",
    "    },\n",
    "    \"history\": history,\n",
    "    \"dataset_metrics\": get_dataset_metrics(datasets, \"ptn\"),\n",
    "}"
   ]
  },
  {
   "cell_type": "code",
   "execution_count": 25,
   "id": "54a21829",
   "metadata": {
    "execution": {
     "iopub.execute_input": "2022-03-24T18:07:24.114475Z",
     "iopub.status.busy": "2022-03-24T18:07:24.114229Z",
     "iopub.status.idle": "2022-03-24T18:07:24.237569Z",
     "shell.execute_reply": "2022-03-24T18:07:24.237120Z"
    },
    "papermill": {
     "duration": 0.161671,
     "end_time": "2022-03-24T18:07:24.237659",
     "exception": false,
     "start_time": "2022-03-24T18:07:24.075988",
     "status": "completed"
    },
    "tags": []
   },
   "outputs": [
    {
     "data": {
      "image/png": "[encoded data removed]",
      "text/plain": [
       "<Figure size 1080x504 with 1 Axes>"
      ]
     },
     "metadata": {
      "needs_background": "light"
     },
     "output_type": "display_data"
    }
   ],
   "source": [
    "ax = get_loss_curve(experiment)\n",
    "plt.show()"
   ]
  },
  {
   "cell_type": "code",
   "execution_count": 26,
   "id": "fd8a0f60",
   "metadata": {
    "execution": {
     "iopub.execute_input": "2022-03-24T18:07:24.318807Z",
     "iopub.status.busy": "2022-03-24T18:07:24.318564Z",
     "iopub.status.idle": "2022-03-24T18:07:24.459266Z",
     "shell.execute_reply": "2022-03-24T18:07:24.459478Z"
    },
    "papermill": {
     "duration": 0.180306,
     "end_time": "2022-03-24T18:07:24.459542",
     "exception": false,
     "start_time": "2022-03-24T18:07:24.279236",
     "status": "completed"
    },
    "tags": []
   },
   "outputs": [
    {
     "data": {
      "text/plain": [
       "<AxesSubplot:title={'center':'Results'}>"
      ]
     },
     "execution_count": 26,
     "metadata": {},
     "output_type": "execute_result"
    },
    {
     "data": {
      "image/png": "[encoded data removed]",
      "text/plain": [
       "<Figure size 1080x504 with 1 Axes>"
      ]
     },
     "metadata": {
      "needs_background": "light"
     },
     "output_type": "display_data"
    }
   ],
   "source": [
    "get_results_table(experiment)"
   ]
  },
  {
   "cell_type": "code",
   "execution_count": 27,
   "id": "cf8dc689",
   "metadata": {
    "execution": {
     "iopub.execute_input": "2022-03-24T18:07:24.542688Z",
     "iopub.status.busy": "2022-03-24T18:07:24.542439Z",
     "iopub.status.idle": "2022-03-24T18:07:24.708700Z",
     "shell.execute_reply": "2022-03-24T18:07:24.709053Z"
    },
    "papermill": {
     "duration": 0.208144,
     "end_time": "2022-03-24T18:07:24.709163",
     "exception": false,
     "start_time": "2022-03-24T18:07:24.501019",
     "status": "completed"
    },
    "tags": []
   },
   "outputs": [
    {
     "data": {
      "text/plain": [
       "<AxesSubplot:title={'center':'Per Domain Validation Accuracy'}, xlabel='domain'>"
      ]
     },
     "execution_count": 27,
     "metadata": {},
     "output_type": "execute_result"
    },
    {
     "data": {
      "image/png": "[encoded data removed]",
      "text/plain": [
       "<Figure size 1080x504 with 1 Axes>"
      ]
     },
     "metadata": {
      "needs_background": "light"
     },
     "output_type": "display_data"
    }
   ],
   "source": [
    "get_domain_accuracies(experiment)"
   ]
  },
  {
   "cell_type": "code",
   "execution_count": 28,
   "id": "a74ae082",
   "metadata": {
    "execution": {
     "iopub.execute_input": "2022-03-24T18:07:24.795330Z",
     "iopub.status.busy": "2022-03-24T18:07:24.795079Z",
     "iopub.status.idle": "2022-03-24T18:07:24.807103Z",
     "shell.execute_reply": "2022-03-24T18:07:24.807470Z"
    },
    "papermill": {
     "duration": 0.054328,
     "end_time": "2022-03-24T18:07:24.807576",
     "exception": false,
     "start_time": "2022-03-24T18:07:24.753248",
     "status": "completed"
    },
    "tags": []
   },
   "outputs": [
    {
     "name": "stdout",
     "output_type": "stream",
     "text": [
      "Source Test Label Accuracy: 0.7337955729166666 Target Test Label Accuracy: 0.7175911458333334\n",
      "Source Val Label Accuracy: 0.7335872395833334 Target Val Label Accuracy: 0.7176822916666666\n"
     ]
    }
   ],
   "source": [
    "print(\"Source Test Label Accuracy:\", experiment[\"results\"][\"source_test_label_accuracy\"], \"Target Test Label Accuracy:\", experiment[\"results\"][\"target_test_label_accuracy\"])\n",
    "print(\"Source Val Label Accuracy:\", experiment[\"results\"][\"source_val_label_accuracy\"], \"Target Val Label Accuracy:\", experiment[\"results\"][\"target_val_label_accuracy\"])"
   ]
  },
  {
   "cell_type": "code",
   "execution_count": 29,
   "id": "dacca602",
   "metadata": {
    "execution": {
     "iopub.execute_input": "2022-03-24T18:07:24.895034Z",
     "iopub.status.busy": "2022-03-24T18:07:24.894790Z",
     "iopub.status.idle": "2022-03-24T18:07:24.909886Z",
     "shell.execute_reply": "2022-03-24T18:07:24.910305Z"
    },
    "papermill": {
     "duration": 0.05754,
     "end_time": "2022-03-24T18:07:24.910434",
     "exception": false,
     "start_time": "2022-03-24T18:07:24.852894",
     "status": "completed"
    },
    "tags": [
     "experiment_json"
    ]
   },
   "outputs": [
    {
     "data": {
      "text/plain": [
       "'{\"experiment_name\": \"tl_1v2:oracle.run1-oracle.run2\", \"parameters\": {\"experiment_name\": \"tl_1v2:oracle.run1-oracle.run2\", \"device\": \"cuda\", \"lr\": 0.0001, \"n_shot\": 3, \"n_query\": 2, \"train_k_factor\": 3, \"val_k_factor\": 2, \"test_k_factor\": 2, \"torch_default_dtype\": \"torch.float32\", \"n_epoch\": 50, \"patience\": 3, \"criteria_for_best\": \"target_accuracy\", \"x_net\": [{\"class\": \"nnReshape\", \"kargs\": {\"shape\": [-1, 1, 2, 256]}}, {\"class\": \"Conv2d\", \"kargs\": {\"in_channels\": 1, \"out_channels\": 256, \"kernel_size\": [1, 7], \"bias\": false, \"padding\": [0, 3]}}, {\"class\": \"ReLU\", \"kargs\": {\"inplace\": true}}, {\"class\": \"BatchNorm2d\", \"kargs\": {\"num_features\": 256}}, {\"class\": \"Conv2d\", \"kargs\": {\"in_channels\": 256, \"out_channels\": 80, \"kernel_size\": [2, 7], \"bias\": true, \"padding\": [0, 3]}}, {\"class\": \"ReLU\", \"kargs\": {\"inplace\": true}}, {\"class\": \"BatchNorm2d\", \"kargs\": {\"num_features\": 80}}, {\"class\": \"Flatten\", \"kargs\": {}}, {\"class\": \"Linear\", \"kargs\": {\"in_features\": 20480, \"out_features\": 256}}, {\"class\": \"ReLU\", \"kargs\": {\"inplace\": true}}, {\"class\": \"BatchNorm1d\", \"kargs\": {\"num_features\": 256}}, {\"class\": \"Linear\", \"kargs\": {\"in_features\": 256, \"out_features\": 256}}], \"NUM_LOGS_PER_EPOCH\": 10, \"BEST_MODEL_PATH\": \"./best_model.pth\", \"n_way\": 16, \"datasets\": [{\"labels\": [\"3123D52\", \"3123D65\", \"3123D79\", \"3123D80\", \"3123D54\", \"3123D70\", \"3123D7B\", \"3123D89\", \"3123D58\", \"3123D76\", \"3123D7D\", \"3123EFE\", \"3123D64\", \"3123D78\", \"3123D7E\", \"3124E4A\"], \"domains\": [32, 38, 8, 44, 14, 50, 20, 26], \"num_examples_per_domain_per_label\": 10000, \"pickle_path\": \"/mnt/wd500GB/CSC500/csc500-main/datasets/oracle.Run1_10kExamples_stratified_ds.2022A.pkl\", \"source_or_target_dataset\": \"source\", \"x_transforms\": [\"unit_power\"], \"episode_transforms\": [], \"domain_prefix\": \"ORACLE.run1_\"}, {\"labels\": [\"3123D52\", \"3123D65\", \"3123D79\", \"3123D80\", \"3123D54\", \"3123D70\", \"3123D7B\", \"3123D89\", \"3123D58\", \"3123D76\", \"3123D7D\", \"3123EFE\", \"3123D64\", \"3123D78\", \"3123D7E\", \"3124E4A\"], \"domains\": [32, 38, 8, 44, 14, 50, 20, 26], \"num_examples_per_domain_per_label\": 10000, \"pickle_path\": \"/mnt/wd500GB/CSC500/csc500-main/datasets/oracle.Run2_10kExamples_stratified_ds.2022A.pkl\", \"source_or_target_dataset\": \"target\", \"x_transforms\": [\"unit_power\"], \"episode_transforms\": [], \"domain_prefix\": \"ORACLE.run2_\"}], \"dataset_seed\": 154325, \"seed\": 154325, \"x_shape\": [2, 256], \"domains_source\": [\"ORACLE.run1_32\", \"ORACLE.run1_38\", \"ORACLE.run1_8\", \"ORACLE.run1_44\", \"ORACLE.run1_14\", \"ORACLE.run1_50\", \"ORACLE.run1_20\", \"ORACLE.run1_26\"], \"domains_target\": [\"ORACLE.run2_32\", \"ORACLE.run2_38\", \"ORACLE.run2_8\", \"ORACLE.run2_44\", \"ORACLE.run2_14\", \"ORACLE.run2_50\", \"ORACLE.run2_20\", \"ORACLE.run2_26\"]}, \"results\": {\"source_test_label_accuracy\": 0.7337955729166666, \"source_test_label_loss\": 0.7527792453765869, \"target_test_label_accuracy\": 0.7175911458333334, \"target_test_label_loss\": 0.8414413332939148, \"source_val_label_accuracy\": 0.7335872395833334, \"source_val_label_loss\": 0.7514476776123047, \"target_val_label_accuracy\": 0.7176822916666666, \"target_val_label_loss\": 0.8355886340141296, \"total_epochs_trained\": 11, \"total_experiment_time_secs\": 10225.688048124313, \"confusion\": {\"ORACLE.run1_8\": {\"13\": {\"13\": 425, \"14\": 114, \"0\": 310, \"10\": 132, \"6\": 50, \"4\": 157, \"7\": 9, \"5\": 1, \"1\": 2}, \"9\": {\"9\": 1200}, \"15\": {\"15\": 884, \"12\": 249, \"8\": 52, \"3\": 4, \"2\": 11}, \"2\": {\"2\": 958, \"3\": 164, \"6\": 1, \"15\": 35, \"12\": 17, \"7\": 24, \"8\": 1}, \"3\": {\"3\": 1047, \"2\": 99, \"12\": 50, \"15\": 4}, \"8\": {\"8\": 1148, \"15\": 39, \"6\": 7, \"7\": 6}, \"5\": {\"5\": 1040, \"10\": 91, \"14\": 15, \"1\": 51, \"11\": 3}, \"14\": {\"14\": 662, \"4\": 192, \"10\": 202, \"13\": 66, \"11\": 9, \"1\": 52, \"6\": 11, \"5\": 4, \"0\": 2}, \"1\": {\"1\": 878, \"14\": 43, \"5\": 17, \"11\": 255, \"10\": 6, \"4\": 1}, \"0\": {\"7\": 64, \"0\": 768, \"6\": 60, \"13\": 252, \"4\": 48, \"10\": 5, \"14\": 3}, \"10\": {\"10\": 797, \"13\": 99, \"14\": 242, \"5\": 25, \"4\": 32, \"1\": 5}, \"6\": {\"6\": 726, \"0\": 57, \"7\": 250, \"13\": 28, \"4\": 126, \"14\": 8, \"8\": 5}, \"11\": {\"11\": 781, \"1\": 388, \"8\": 8, \"14\": 12, \"5\": 7, \"6\": 3, \"10\": 1}, \"7\": {\"7\": 901, \"6\": 253, \"0\": 41, \"8\": 1, \"13\": 3, \"4\": 1}, \"4\": {\"4\": 577, \"6\": 142, \"14\": 195, \"13\": 219, \"0\": 42, \"10\": 22, \"1\": 3}, \"12\": {\"15\": 373, \"3\": 167, \"2\": 11, \"12\": 636, \"8\": 13}}, \"ORACLE.run1_38\": {\"13\": {\"13\": 882, \"10\": 98, \"15\": 187, \"2\": 16, \"1\": 3, \"8\": 10, \"5\": 4}, \"12\": {\"12\": 1168, \"4\": 30, \"14\": 1, \"10\": 1}, \"2\": {\"2\": 1116, \"14\": 57, \"13\": 23, \"15\": 3, \"11\": 1}, \"9\": {\"9\": 857, \"6\": 301, \"5\": 22, \"3\": 18, \"7\": 2}, \"15\": {\"15\": 956, \"13\": 114, \"5\": 19, \"8\": 33, \"1\": 70, \"2\": 5, \"0\": 1, \"10\": 2}, \"5\": {\"5\": 541, \"0\": 69, \"7\": 103, \"8\": 336, \"9\": 36, \"15\": 52, \"6\": 44, \"3\": 9, \"10\": 3, \"1\": 4, \"13\": 3}, \"14\": {\"14\": 1117, \"13\": 3, \"11\": 22, \"2\": 55, \"10\": 3}, \"0\": {\"0\": 571, \"8\": 247, \"7\": 194, \"10\": 19, \"3\": 68, \"5\": 90, \"15\": 4, \"13\": 2, \"9\": 3, \"12\": 1, \"4\": 1}, \"3\": {\"3\": 1151, \"0\": 10, \"7\": 6, \"9\": 31, \"5\": 2}, \"1\": {\"1\": 1152, \"15\": 46, \"5\": 1, \"13\": 1}, \"11\": {\"11\": 1078, \"13\": 2, \"14\": 99, \"10\": 10, \"2\": 8, \"12\": 3}, \"7\": {\"5\": 52, \"7\": 1010, \"8\": 35, \"0\": 102, \"9\": 1}, \"8\": {\"8\": 753, \"5\": 238, \"0\": 103, \"15\": 34, \"7\": 56, \"10\": 11, \"13\": 4, \"1\": 1}, \"4\": {\"4\": 1138, \"12\": 59, \"7\": 1, \"10\": 2}, \"10\": {\"10\": 928, \"8\": 65, \"0\": 24, \"15\": 14, \"2\": 4, \"13\": 133, \"12\": 8, \"14\": 12, \"5\": 6, \"7\": 4, \"4\": 1, \"11\": 1}, \"6\": {\"6\": 1069, \"9\": 125, \"5\": 6}}, \"ORACLE.run1_26\": {\"10\": {\"10\": 521, \"8\": 156, \"0\": 255, \"1\": 19, \"14\": 127, \"6\": 48, \"4\": 51, \"7\": 3, \"9\": 14, \"15\": 6}, \"12\": {\"12\": 1196, \"11\": 4}, \"1\": {\"1\": 726, \"4\": 142, \"14\": 248, \"0\": 25, \"10\": 38, \"8\": 6, \"3\": 4, \"7\": 11}, \"0\": {\"14\": 203, \"10\": 294, \"0\": 348, \"4\": 156, \"8\": 115, \"7\": 15, \"15\": 4, \"6\": 23, \"1\": 32, \"9\": 10}, \"15\": {\"15\": 469, \"10\": 13, \"8\": 92, \"9\": 390, \"5\": 126, \"0\": 9, \"6\": 25, \"2\": 22, \"13\": 40, \"7\": 13, \"4\": 1}, \"13\": {\"5\": 211, \"13\": 866, \"15\": 57, \"2\": 23, \"9\": 31, \"6\": 11, \"7\": 1}, \"8\": {\"14\": 31, \"4\": 85, \"8\": 508, \"10\": 149, \"7\": 85, \"0\": 110, \"9\": 100, \"6\": 29, \"3\": 2, \"2\": 18, \"15\": 66, \"5\": 14, \"1\": 3}, \"3\": {\"3\": 763, \"7\": 166, \"2\": 267, \"4\": 3, \"5\": 1}, \"11\": {\"11\": 1195, \"12\": 5}, \"4\": {\"0\": 152, \"1\": 111, \"4\": 453, \"14\": 233, \"7\": 80, \"10\": 57, \"8\": 112, \"2\": 1, \"3\": 1}, \"6\": {\"6\": 847, \"8\": 36, \"10\": 84, \"9\": 176, \"15\": 32, \"13\": 5, \"0\": 20}, \"7\": {\"7\": 685, \"4\": 123, \"2\": 119, \"3\": 163, \"14\": 11, \"8\": 67, \"10\": 2, \"1\": 8, \"0\": 11, \"15\": 6, \"9\": 4, \"5\": 1}, \"14\": {\"0\": 195, \"14\": 416, \"10\": 111, \"4\": 222, \"1\": 206, \"9\": 1, \"7\": 14, \"8\": 33, \"6\": 1, \"15\": 1}, \"2\": {\"2\": 480, \"3\": 380, \"5\": 98, \"7\": 116, \"15\": 60, \"8\": 34, \"0\": 1, \"9\": 19, \"4\": 6, \"13\": 6}, \"5\": {\"5\": 737, \"15\": 141, \"13\": 172, \"2\": 59, \"9\": 55, \"8\": 23, \"7\": 8, \"6\": 3, \"0\": 1, \"3\": 1}, \"9\": {\"6\": 139, \"9\": 533, \"5\": 30, \"15\": 328, \"10\": 25, \"2\": 9, \"8\": 99, \"13\": 20, \"0\": 9, \"7\": 6, \"14\": 1, \"4\": 1}}, \"ORACLE.run1_20\": {\"5\": {\"1\": 181, \"5\": 543, \"0\": 223, \"12\": 131, \"15\": 85, \"3\": 32, \"13\": 1, \"9\": 2, \"2\": 1, \"4\": 1}, \"15\": {\"0\": 79, \"15\": 744, \"5\": 98, \"1\": 215, \"13\": 29, \"2\": 5, \"12\": 26, \"9\": 4}, \"9\": {\"2\": 329, \"9\": 491, \"3\": 209, \"7\": 44, \"12\": 100, \"1\": 12, \"13\": 12, \"4\": 2, \"8\": 1}, \"7\": {\"7\": 895, \"2\": 149, \"8\": 76, \"3\": 33, \"9\": 27, \"6\": 7, \"10\": 4, \"13\": 4, \"4\": 4, \"14\": 1}, \"3\": {\"3\": 536, \"1\": 23, \"5\": 40, \"12\": 239, \"2\": 77, \"9\": 182, \"7\": 32, \"4\": 58, \"8\": 10, \"0\": 3}, \"8\": {\"8\": 918, \"4\": 147, \"14\": 27, \"7\": 74, \"3\": 12, \"9\": 1, \"10\": 17, \"6\": 3, \"2\": 1}, \"4\": {\"4\": 981, \"10\": 26, \"8\": 112, \"3\": 57, \"7\": 5, \"12\": 10, \"0\": 2, \"2\": 1, \"9\": 2, \"5\": 3, \"6\": 1}, \"6\": {\"6\": 1061, \"14\": 129, \"8\": 2, \"7\": 7, \"10\": 1}, \"2\": {\"13\": 67, \"2\": 576, \"7\": 151, \"8\": 2, \"9\": 269, \"3\": 67, \"12\": 54, \"1\": 6, \"5\": 6, \"4\": 1, \"15\": 1}, \"12\": {\"1\": 183, \"9\": 108, \"5\": 124, \"12\": 510, \"3\": 220, \"2\": 27, \"0\": 7, \"15\": 14, \"13\": 1, \"4\": 5, \"7\": 1}, \"0\": {\"0\": 680, \"5\": 292, \"1\": 36, \"15\": 128, \"3\": 15, \"4\": 10, \"13\": 3, \"12\": 27, \"7\": 3, \"9\": 2, \"8\": 3, \"2\": 1}, \"13\": {\"13\": 1110, \"15\": 22, \"2\": 45, \"12\": 4, \"1\": 6, \"9\": 8, \"5\": 1, \"3\": 2, \"0\": 1, \"7\": 1}, \"10\": {\"10\": 1103, \"14\": 63, \"8\": 13, \"4\": 18, \"6\": 2, \"7\": 1}, \"11\": {\"11\": 1198, \"7\": 1, \"2\": 1}, \"14\": {\"14\": 973, \"10\": 83, \"6\": 129, \"4\": 1, \"8\": 14}, \"1\": {\"9\": 20, \"5\": 195, \"1\": 553, \"15\": 202, \"12\": 179, \"3\": 17, \"0\": 27, \"13\": 4, \"2\": 3}}, \"ORACLE.run1_50\": {\"1\": {\"1\": 789, \"15\": 217, \"4\": 79, \"6\": 100, \"5\": 10, \"11\": 2, \"2\": 1, \"0\": 1, \"13\": 1}, \"2\": {\"2\": 1128, \"0\": 72}, \"8\": {\"8\": 1164, \"3\": 15, \"10\": 21}, \"7\": {\"7\": 759, \"5\": 150, \"13\": 246, \"4\": 7, \"6\": 7, \"10\": 30, \"0\": 1}, \"14\": {\"14\": 1183, \"11\": 5, \"12\": 11, \"1\": 1}, \"6\": {\"6\": 862, \"1\": 89, \"5\": 41, \"15\": 21, \"13\": 83, \"4\": 99, \"7\": 3, \"0\": 2}, \"3\": {\"3\": 1175, \"8\": 25}, \"4\": {\"4\": 586, \"6\": 102, \"5\": 111, \"7\": 38, \"15\": 179, \"1\": 167, \"13\": 16, \"11\": 1}, \"12\": {\"12\": 1103, \"11\": 5, \"9\": 65, \"14\": 27}, \"15\": {\"15\": 922, \"1\": 165, \"4\": 83, \"11\": 14, \"6\": 16}, \"11\": {\"11\": 1091, \"15\": 26, \"9\": 74, \"14\": 7, \"4\": 1, \"12\": 1}, \"0\": {\"2\": 118, \"0\": 1041, \"10\": 37, \"13\": 2, \"5\": 2}, \"9\": {\"12\": 82, \"9\": 959, \"11\": 158, \"14\": 1}, \"10\": {\"10\": 1102, \"0\": 42, \"8\": 17, \"7\": 21, \"13\": 14, \"5\": 4}, \"5\": {\"7\": 228, \"6\": 86, \"13\": 212, \"5\": 461, \"1\": 50, \"4\": 146, \"10\": 15, \"15\": 1, \"0\": 1}, \"13\": {\"13\": 822, \"6\": 57, \"7\": 159, \"5\": 141, \"4\": 6, \"10\": 15}}, \"ORACLE.run1_32\": {\"2\": {\"2\": 979, \"0\": 25, \"5\": 2, \"4\": 180, \"7\": 14}, \"6\": {\"6\": 1200}, \"5\": {\"8\": 91, \"7\": 171, \"4\": 103, \"5\": 458, \"13\": 250, \"0\": 50, \"3\": 37, \"2\": 6, \"14\": 23, \"11\": 11}, \"12\": {\"12\": 1200}, \"13\": {\"7\": 84, \"13\": 602, \"4\": 74, \"11\": 18, \"5\": 215, \"3\": 97, \"8\": 69, \"0\": 14, \"14\": 22, \"2\": 5}, \"9\": {\"9\": 1196, \"12\": 4}, \"11\": {\"11\": 1010, \"14\": 146, \"13\": 13, \"5\": 4, \"7\": 16, \"3\": 11}, \"1\": {\"1\": 1195, \"10\": 5}, \"3\": {\"3\": 1104, \"5\": 8, \"13\": 50, \"11\": 24, \"14\": 7, \"8\": 4, \"7\": 3}, \"7\": {\"4\": 135, \"7\": 586, \"13\": 90, \"5\": 164, \"11\": 25, \"2\": 25, \"0\": 19, \"14\": 148, \"8\": 5, \"3\": 3}, \"14\": {\"14\": 538, \"0\": 55, \"7\": 208, \"13\": 39, \"11\": 276, \"2\": 9, \"8\": 9, \"5\": 39, \"4\": 18, \"3\": 9}, \"8\": {\"8\": 935, \"4\": 6, \"13\": 78, \"5\": 84, \"0\": 88, \"15\": 1, \"3\": 4, \"14\": 3, \"7\": 1}, \"4\": {\"4\": 748, \"2\": 181, \"13\": 37, \"5\": 79, \"7\": 104, \"0\": 41, \"14\": 5, \"8\": 5}, \"0\": {\"0\": 906, \"8\": 110, \"5\": 30, \"4\": 57, \"2\": 28, \"7\": 38, \"14\": 20, \"13\": 11}, \"10\": {\"10\": 1196, \"1\": 4}, \"15\": {\"15\": 1190, \"8\": 8, \"3\": 2}}, \"ORACLE.run1_44\": {\"13\": {\"11\": 41, \"13\": 826, \"6\": 205, \"4\": 6, \"9\": 113, \"7\": 9}, \"4\": {\"4\": 852, \"14\": 334, \"15\": 12, \"13\": 2}, \"6\": {\"7\": 26, \"6\": 837, \"13\": 215, \"9\": 111, \"11\": 11}, \"0\": {\"0\": 757, \"8\": 319, \"15\": 52, \"5\": 72}, \"10\": {\"10\": 897, \"2\": 78, \"1\": 110, \"12\": 113, \"3\": 1, \"7\": 1}, \"7\": {\"7\": 816, \"9\": 209, \"6\": 31, \"2\": 142, \"13\": 1, \"1\": 1}, \"14\": {\"14\": 810, \"4\": 305, \"15\": 66, \"5\": 18, \"0\": 1}, \"15\": {\"15\": 957, \"8\": 23, \"4\": 11, \"14\": 90, \"5\": 38, \"0\": 81}, \"5\": {\"5\": 1045, \"0\": 90, \"8\": 12, \"14\": 26, \"15\": 27}, \"2\": {\"2\": 958, \"7\": 133, \"1\": 40, \"10\": 62, \"3\": 3, \"9\": 4}, \"9\": {\"13\": 119, \"9\": 691, \"7\": 262, \"6\": 119, \"2\": 9}, \"12\": {\"12\": 1006, \"1\": 154, \"10\": 31, \"3\": 9}, \"8\": {\"8\": 759, \"0\": 392, \"15\": 36, \"5\": 12, \"14\": 1}, \"3\": {\"3\": 1060, \"1\": 119, \"2\": 8, \"12\": 13}, \"1\": {\"3\": 136, \"1\": 748, \"2\": 46, \"12\": 173, \"10\": 97}, \"11\": {\"11\": 1119, \"13\": 73, \"6\": 8}}, \"ORACLE.run1_14\": {\"1\": {\"1\": 1101, \"7\": 2, \"5\": 90, \"4\": 7}, \"15\": {\"15\": 1172, \"7\": 28}, \"10\": {\"10\": 1160, \"0\": 40}, \"2\": {\"2\": 595, \"5\": 131, \"14\": 164, \"13\": 54, \"4\": 87, \"3\": 61, \"6\": 87, \"15\": 18, \"1\": 3}, \"9\": {\"9\": 1195, \"11\": 2, \"12\": 3}, \"5\": {\"4\": 204, \"5\": 807, \"3\": 13, \"7\": 5, \"1\": 137, \"2\": 33, \"15\": 1}, \"7\": {\"7\": 1187, \"1\": 2, \"15\": 10, \"5\": 1}, \"13\": {\"14\": 186, \"6\": 491, \"13\": 402, \"10\": 1, \"2\": 107, \"5\": 10, \"4\": 3}, \"8\": {\"8\": 1200}, \"6\": {\"13\": 388, \"6\": 718, \"2\": 48, \"14\": 46}, \"3\": {\"3\": 1050, \"4\": 94, \"5\": 6, \"14\": 32, \"2\": 15, \"0\": 2, \"13\": 1}, \"12\": {\"12\": 1200}, \"0\": {\"0\": 1095, \"10\": 66, \"3\": 15, \"11\": 24}, \"4\": {\"4\": 899, \"3\": 92, \"5\": 146, \"1\": 11, \"2\": 47, \"14\": 2, \"13\": 2, \"6\": 1}, \"14\": {\"14\": 953, \"13\": 108, \"2\": 67, \"6\": 39, \"3\": 29, \"4\": 4}, \"11\": {\"11\": 1087, \"0\": 44, \"10\": 3, \"9\": 66}}, \"ORACLE.run2_8\": {\"13\": {\"14\": 192, \"13\": 821, \"1\": 122, \"0\": 5, \"10\": 33, \"6\": 21, \"5\": 3, \"8\": 2, \"7\": 1}, \"9\": {\"9\": 1200}, \"15\": {\"11\": 183, \"15\": 729, \"12\": 159, \"8\": 120, \"3\": 6, \"7\": 3}, \"2\": {\"2\": 947, \"7\": 149, \"4\": 83, \"6\": 21}, \"3\": {\"3\": 1104, \"12\": 90, \"15\": 6}, \"8\": {\"8\": 993, \"15\": 76, \"11\": 113, \"6\": 5, \"13\": 8, \"4\": 1, \"7\": 4}, \"5\": {\"5\": 950, \"10\": 206, \"1\": 31, \"13\": 4, \"14\": 2, \"0\": 7}, \"14\": {\"14\": 734, \"13\": 185, \"10\": 61, \"6\": 42, \"0\": 159, \"4\": 16, \"5\": 2, \"7\": 1}, \"1\": {\"1\": 1051, \"5\": 26, \"13\": 110, \"14\": 7, \"10\": 6}, \"0\": {\"4\": 5, \"0\": 821, \"10\": 187, \"14\": 170, \"13\": 9, \"6\": 6, \"5\": 2}, \"10\": {\"5\": 174, \"10\": 708, \"0\": 203, \"14\": 69, \"13\": 38, \"1\": 8}, \"6\": {\"6\": 580, \"7\": 172, \"4\": 384, \"14\": 29, \"13\": 8, \"2\": 16, \"8\": 5, \"0\": 6}, \"11\": {\"15\": 203, \"11\": 600, \"12\": 123, \"8\": 274}, \"7\": {\"7\": 592, \"6\": 219, \"2\": 152, \"4\": 222, \"14\": 1, \"8\": 12, \"0\": 1, \"11\": 1}, \"4\": {\"7\": 240, \"4\": 479, \"6\": 362, \"2\": 93, \"14\": 20, \"13\": 3, \"0\": 2, \"8\": 1}, \"12\": {\"12\": 945, \"15\": 139, \"3\": 80, \"11\": 36}}, \"ORACLE.run2_38\": {\"13\": {\"13\": 697, \"3\": 150, \"5\": 72, \"14\": 5, \"1\": 40, \"8\": 119, \"10\": 28, \"15\": 38, \"7\": 30, \"2\": 7, \"9\": 4, \"6\": 2, \"0\": 8}, \"12\": {\"12\": 1181, \"4\": 9, \"14\": 10}, \"2\": {\"14\": 116, \"2\": 1084}, \"9\": {\"9\": 909, \"6\": 282, \"0\": 5, \"3\": 4}, \"15\": {\"15\": 637, \"8\": 209, \"5\": 194, \"1\": 103, \"13\": 11, \"6\": 5, \"0\": 19, \"3\": 10, \"7\": 9, \"9\": 1, \"10\": 2}, \"5\": {\"8\": 375, \"7\": 151, \"5\": 459, \"15\": 152, \"10\": 23, \"13\": 32, \"3\": 5, \"1\": 1, \"0\": 2}, \"14\": {\"14\": 771, \"2\": 255, \"12\": 84, \"13\": 2, \"8\": 15, \"11\": 26, \"7\": 15, \"4\": 5, \"5\": 19, \"10\": 6, \"3\": 1, \"15\": 1}, \"0\": {\"0\": 1011, \"3\": 132, \"13\": 2, \"9\": 8, \"7\": 12, \"10\": 28, \"15\": 5, \"6\": 1, \"8\": 1}, \"3\": {\"3\": 545, \"7\": 50, \"6\": 18, \"13\": 136, \"0\": 209, \"15\": 25, \"9\": 52, \"8\": 62, \"10\": 74, \"5\": 28, \"1\": 1}, \"1\": {\"1\": 1131, \"15\": 58, \"13\": 2, \"8\": 6, \"5\": 3}, \"11\": {\"11\": 1119, \"14\": 55, \"12\": 13, \"4\": 5, \"2\": 8}, \"7\": {\"10\": 304, \"7\": 625, \"5\": 135, \"3\": 7, \"8\": 106, \"13\": 14, \"15\": 5, \"0\": 4}, \"8\": {\"15\": 220, \"7\": 99, \"8\": 443, \"5\": 362, \"13\": 48, \"10\": 19, \"0\": 1, \"1\": 2, \"3\": 6}, \"4\": {\"4\": 1130, \"10\": 9, \"12\": 51, \"7\": 10}, \"10\": {\"7\": 358, \"10\": 717, \"8\": 29, \"3\": 33, \"13\": 17, \"5\": 29, \"0\": 15, \"15\": 1, \"4\": 1}, \"6\": {\"6\": 977, \"9\": 220, \"0\": 2, \"15\": 1}}, \"ORACLE.run2_26\": {\"10\": {\"14\": 185, \"1\": 52, \"0\": 237, \"6\": 108, \"10\": 412, \"8\": 89, \"4\": 82, \"9\": 12, \"15\": 3, \"2\": 6, \"7\": 11, \"12\": 2, \"5\": 1}, \"12\": {\"12\": 1198, \"11\": 2}, \"1\": {\"1\": 741, \"14\": 304, \"0\": 67, \"10\": 61, \"4\": 14, \"8\": 12, \"2\": 1}, \"0\": {\"10\": 219, \"14\": 247, \"0\": 412, \"8\": 90, \"4\": 121, \"1\": 72, \"2\": 11, \"7\": 16, \"15\": 7, \"9\": 2, \"3\": 2, \"5\": 1}, \"15\": {\"15\": 693, \"4\": 52, \"3\": 234, \"7\": 95, \"8\": 14, \"5\": 7, \"9\": 2, \"2\": 99, \"0\": 3, \"10\": 1}, \"13\": {\"5\": 218, \"13\": 871, \"9\": 83, \"8\": 2, \"6\": 24, \"7\": 2}, \"8\": {\"0\": 79, \"4\": 46, \"8\": 539, \"2\": 80, \"9\": 104, \"10\": 67, \"5\": 39, \"14\": 86, \"7\": 115, \"1\": 6, \"6\": 16, \"13\": 6, \"15\": 15, \"3\": 2}, \"3\": {\"4\": 77, \"3\": 701, \"15\": 206, \"2\": 117, \"8\": 2, \"7\": 95, \"10\": 1, \"0\": 1}, \"11\": {\"11\": 1199, \"12\": 1}, \"4\": {\"4\": 667, \"15\": 35, \"8\": 37, \"0\": 126, \"3\": 86, \"2\": 96, \"14\": 43, \"1\": 16, \"10\": 29, \"7\": 64, \"9\": 1}, \"6\": {\"6\": 945, \"9\": 149, \"5\": 21, \"8\": 16, \"10\": 37, \"0\": 2, \"13\": 28, \"14\": 2}, \"7\": {\"4\": 69, \"2\": 369, \"3\": 86, \"7\": 406, \"15\": 67, \"9\": 20, \"5\": 56, \"8\": 116, \"13\": 1, \"10\": 4, \"0\": 4, \"14\": 2}, \"14\": {\"10\": 191, \"0\": 204, \"14\": 411, \"8\": 70, \"1\": 263, \"4\": 43, \"5\": 1, \"6\": 5, \"7\": 7, \"2\": 3, \"9\": 2}, \"2\": {\"4\": 113, \"2\": 377, \"7\": 368, \"8\": 67, \"3\": 131, \"5\": 27, \"15\": 89, \"10\": 5, \"13\": 4, \"0\": 5, \"9\": 8, \"14\": 4, \"1\": 2}, \"5\": {\"7\": 92, \"5\": 454, \"6\": 126, \"13\": 277, \"9\": 92, \"8\": 50, \"2\": 72, \"3\": 17, \"0\": 1, \"15\": 6, \"10\": 10, \"14\": 2, \"4\": 1}, \"9\": {\"9\": 769, \"5\": 76, \"13\": 92, \"6\": 133, \"2\": 15, \"8\": 82, \"7\": 24, \"15\": 5, \"10\": 1, \"0\": 2, \"14\": 1}}, \"ORACLE.run2_20\": {\"5\": {\"5\": 437, \"3\": 160, \"15\": 80, \"2\": 159, \"4\": 45, \"12\": 103, \"0\": 83, \"9\": 56, \"1\": 22, \"7\": 39, \"8\": 9, \"13\": 7}, \"15\": {\"2\": 94, \"15\": 498, \"9\": 71, \"1\": 114, \"13\": 242, \"5\": 56, \"12\": 86, \"0\": 36, \"3\": 3}, \"9\": {\"4\": 8, \"9\": 479, \"3\": 121, \"2\": 314, \"1\": 41, \"12\": 111, \"15\": 56, \"13\": 8, \"5\": 58, \"7\": 4}, \"7\": {\"7\": 923, \"8\": 99, \"3\": 125, \"2\": 6, \"9\": 4, \"14\": 2, \"5\": 19, \"10\": 9, \"6\": 13}, \"3\": {\"3\": 534, \"8\": 17, \"9\": 136, \"2\": 168, \"12\": 38, \"7\": 158, \"5\": 108, \"10\": 14, \"4\": 21, \"15\": 4, \"1\": 2}, \"8\": {\"14\": 143, \"8\": 782, \"7\": 149, \"4\": 51, \"3\": 17, \"6\": 16, \"10\": 17, \"5\": 24, \"2\": 1}, \"4\": {\"5\": 37, \"4\": 1047, \"12\": 34, \"8\": 29, \"3\": 21, \"0\": 18, \"10\": 5, \"1\": 3, \"14\": 2, \"2\": 2, \"9\": 2}, \"6\": {\"6\": 1076, \"14\": 81, \"10\": 20, \"7\": 13, \"8\": 10}, \"2\": {\"13\": 24, \"2\": 396, \"7\": 8, \"9\": 301, \"5\": 122, \"3\": 176, \"12\": 73, \"15\": 87, \"1\": 9, \"0\": 3, \"4\": 1}, \"12\": {\"1\": 260, \"5\": 123, \"3\": 20, \"4\": 33, \"12\": 471, \"13\": 4, \"0\": 52, \"2\": 59, \"9\": 101, \"15\": 77}, \"0\": {\"5\": 92, \"0\": 876, \"1\": 81, \"15\": 45, \"12\": 68, \"4\": 26, \"13\": 9, \"2\": 3}, \"13\": {\"13\": 901, \"15\": 249, \"2\": 16, \"9\": 6, \"1\": 10, \"5\": 11, \"12\": 6, \"0\": 1}, \"10\": {\"10\": 1009, \"14\": 119, \"8\": 37, \"7\": 11, \"4\": 5, \"6\": 16, \"3\": 3}, \"11\": {\"11\": 1200}, \"14\": {\"6\": 100, \"14\": 845, \"8\": 149, \"10\": 97, \"4\": 3, \"7\": 6}, \"1\": {\"1\": 687, \"9\": 36, \"12\": 244, \"15\": 113, \"13\": 13, \"5\": 20, \"0\": 70, \"2\": 12, \"4\": 4, \"3\": 1}}, \"ORACLE.run2_50\": {\"1\": {\"1\": 926, \"6\": 171, \"4\": 44, \"15\": 43, \"5\": 12, \"0\": 2, \"2\": 2}, \"2\": {\"2\": 1149, \"0\": 51}, \"8\": {\"8\": 1159, \"3\": 40, \"13\": 1}, \"7\": {\"13\": 378, \"7\": 615, \"5\": 111, \"10\": 78, \"4\": 15, \"6\": 3}, \"14\": {\"14\": 1181, \"11\": 9, \"12\": 10}, \"6\": {\"6\": 805, \"1\": 171, \"4\": 154, \"5\": 62, \"15\": 8}, \"3\": {\"3\": 1147, \"8\": 53}, \"4\": {\"5\": 279, \"4\": 685, \"6\": 148, \"1\": 74, \"7\": 9, \"10\": 2, \"0\": 1, \"15\": 2}, \"12\": {\"12\": 1110, \"9\": 53, \"11\": 9, \"14\": 28}, \"15\": {\"15\": 1103, \"1\": 63, \"11\": 24, \"6\": 10}, \"11\": {\"11\": 1119, \"15\": 50, \"14\": 9, \"9\": 15, \"12\": 7}, \"0\": {\"0\": 1096, \"2\": 72, \"10\": 29, \"5\": 3}, \"9\": {\"11\": 18, \"9\": 1136, \"12\": 46}, \"10\": {\"10\": 931, \"13\": 173, \"7\": 44, \"0\": 13, \"5\": 36, \"4\": 3}, \"5\": {\"4\": 296, \"5\": 628, \"6\": 63, \"7\": 93, \"13\": 50, \"10\": 50, \"1\": 11, \"0\": 9}, \"13\": {\"7\": 268, \"13\": 675, \"10\": 208, \"5\": 41, \"4\": 8}}, \"ORACLE.run2_32\": {\"2\": {\"4\": 32, \"2\": 991, \"14\": 91, \"7\": 11, \"5\": 57, \"11\": 9, \"0\": 8, \"13\": 1}, \"6\": {\"6\": 1200}, \"5\": {\"2\": 124, \"5\": 503, \"14\": 108, \"0\": 132, \"8\": 135, \"7\": 12, \"4\": 134, \"13\": 37, \"11\": 11, \"15\": 2, \"3\": 2}, \"12\": {\"12\": 1200}, \"13\": {\"4\": 220, \"13\": 732, \"7\": 89, \"11\": 67, \"3\": 14, \"5\": 12, \"8\": 37, \"0\": 28, \"2\": 1}, \"9\": {\"9\": 1172, \"14\": 26, \"12\": 1, \"2\": 1}, \"11\": {\"7\": 213, \"11\": 662, \"14\": 2, \"13\": 93, \"0\": 149, \"4\": 46, \"2\": 19, \"5\": 10, \"8\": 5, \"3\": 1}, \"1\": {\"1\": 1188, \"10\": 12}, \"3\": {\"13\": 32, \"3\": 1151, \"8\": 15, \"7\": 1, \"4\": 1}, \"7\": {\"7\": 704, \"11\": 245, \"13\": 132, \"8\": 2, \"4\": 72, \"0\": 24, \"2\": 13, \"5\": 6, \"3\": 2}, \"14\": {\"14\": 965, \"2\": 113, \"7\": 2, \"5\": 53, \"0\": 42, \"4\": 8, \"11\": 17}, \"8\": {\"8\": 939, \"0\": 88, \"3\": 20, \"5\": 66, \"13\": 49, \"15\": 4, \"4\": 33, \"11\": 1}, \"4\": {\"4\": 634, \"11\": 50, \"5\": 115, \"13\": 195, \"0\": 87, \"7\": 68, \"8\": 29, \"2\": 21, \"14\": 1}, \"0\": {\"0\": 618, \"11\": 159, \"5\": 136, \"14\": 15, \"13\": 34, \"4\": 122, \"3\": 2, \"8\": 77, \"7\": 25, \"2\": 12}, \"10\": {\"10\": 1196, \"1\": 4}, \"15\": {\"15\": 1188, \"8\": 12}}, \"ORACLE.run2_44\": {\"13\": {\"13\": 1147, \"6\": 24, \"4\": 27, \"14\": 2}, \"4\": {\"4\": 1100, \"15\": 19, \"13\": 19, \"14\": 62}, \"6\": {\"6\": 1117, \"9\": 39, \"13\": 25, \"7\": 19}, \"0\": {\"0\": 691, \"8\": 503, \"5\": 5, \"15\": 1}, \"10\": {\"10\": 1163, \"12\": 22, \"1\": 15}, \"7\": {\"7\": 570, \"2\": 278, \"9\": 336, \"6\": 10, \"1\": 5, \"10\": 1}, \"14\": {\"14\": 919, \"15\": 124, \"5\": 80, \"4\": 74, \"8\": 2, \"13\": 1}, \"15\": {\"15\": 1001, \"14\": 139, \"4\": 44, \"8\": 9, \"0\": 4, \"5\": 3}, \"5\": {\"5\": 1109, \"14\": 81, \"8\": 9, \"15\": 1}, \"2\": {\"7\": 240, \"9\": 269, \"2\": 679, \"3\": 7, \"6\": 2, \"1\": 3}, \"9\": {\"2\": 315, \"9\": 572, \"7\": 266, \"6\": 45, \"1\": 1, \"3\": 1}, \"12\": {\"12\": 820, \"1\": 299, \"3\": 73, \"10\": 8}, \"8\": {\"8\": 717, \"0\": 464, \"5\": 14, \"15\": 3, \"14\": 2}, \"3\": {\"3\": 978, \"1\": 145, \"12\": 75, \"2\": 2}, \"1\": {\"1\": 740, \"12\": 308, \"3\": 142, \"2\": 3, \"9\": 1, \"7\": 4, \"10\": 2}, \"11\": {\"11\": 1176, \"6\": 23, \"7\": 1}}, \"ORACLE.run2_14\": {\"1\": {\"1\": 1115, \"4\": 23, \"5\": 62}, \"15\": {\"15\": 1189, \"7\": 9, \"2\": 1, \"13\": 1}, \"10\": {\"10\": 1150, \"0\": 47, \"14\": 3}, \"2\": {\"13\": 86, \"3\": 102, \"5\": 130, \"14\": 196, \"2\": 547, \"4\": 93, \"6\": 40, \"0\": 2, \"1\": 3, \"15\": 1}, \"9\": {\"9\": 1198, \"12\": 2}, \"5\": {\"5\": 638, \"1\": 90, \"3\": 74, \"4\": 318, \"2\": 80}, \"7\": {\"7\": 1191, \"1\": 1, \"15\": 8}, \"13\": {\"6\": 296, \"13\": 874, \"2\": 24, \"14\": 3, \"4\": 3}, \"8\": {\"8\": 1200}, \"6\": {\"6\": 865, \"13\": 252, \"14\": 55, \"2\": 27, \"5\": 1}, \"3\": {\"2\": 31, \"3\": 1019, \"1\": 6, \"5\": 66, \"14\": 28, \"4\": 48, \"6\": 1, \"0\": 1}, \"12\": {\"12\": 615, \"11\": 342, \"0\": 75, \"9\": 114, \"8\": 44, \"10\": 10}, \"0\": {\"0\": 1190, \"10\": 7, \"14\": 3}, \"4\": {\"4\": 726, \"3\": 55, \"5\": 325, \"2\": 55, \"1\": 37, \"14\": 2}, \"14\": {\"2\": 155, \"14\": 896, \"6\": 96, \"13\": 16, \"3\": 26, \"4\": 3, \"0\": 5, \"5\": 3}, \"11\": {\"11\": 1170, \"12\": 29, \"9\": 1}}}, \"per_domain_accuracy\": {\"ORACLE.run1_8\": {\"accuracy\": 0.699375, \"source?\": true}, \"ORACLE.run1_38\": {\"accuracy\": 0.8066145833333334, \"source?\": true}, \"ORACLE.run1_26\": {\"accuracy\": 0.55953125, \"source?\": true}, \"ORACLE.run1_20\": {\"accuracy\": 0.6704166666666667, \"source?\": true}, \"ORACLE.run1_50\": {\"accuracy\": 0.78890625, \"source?\": true}, \"ORACLE.run1_32\": {\"accuracy\": 0.7834895833333333, \"source?\": true}, \"ORACLE.run1_44\": {\"accuracy\": 0.7363541666666666, \"source?\": true}, \"ORACLE.run1_14\": {\"accuracy\": 0.8240104166666666, \"source?\": true}, \"ORACLE.run2_8\": {\"accuracy\": 0.6903125, \"source?\": false}, \"ORACLE.run2_38\": {\"accuracy\": 0.6997916666666667, \"source?\": false}, \"ORACLE.run2_26\": {\"accuracy\": 0.5622395833333333, \"source?\": false}, \"ORACLE.run2_20\": {\"accuracy\": 0.6333854166666667, \"source?\": false}, \"ORACLE.run2_50\": {\"accuracy\": 0.80546875, \"source?\": false}, \"ORACLE.run2_32\": {\"accuracy\": 0.7834895833333333, \"source?\": false}, \"ORACLE.run2_44\": {\"accuracy\": 0.75515625, \"source?\": false}, \"ORACLE.run2_14\": {\"accuracy\": 0.8116145833333334, \"source?\": false}}}, \"history\": {\"epoch_indices\": [1, 2, 3, 4, 5, 6, 7, 8, 9, 10, 11], \"train_label_loss\": [1.0716182025628431, 0.8361124080339712, 0.7359183410963133, 0.6440270888803172, 0.5706825197139932, 0.5176005393277765, 0.47457773185401625, 0.4370098163351594, 0.40527458588321075, 0.37645075015124996, 0.34793883143918636], \"source_val_label_loss\": [0.9921018481254578, 0.8601722121238708, 0.7987412810325623, 0.7465634942054749, 0.7282582521438599, 0.7298729419708252, 0.7514476776123047, 0.7591447234153748, 0.7689822912216187, 0.7817929983139038, 0.8078937530517578], \"target_val_label_loss\": [1.046373724937439, 0.9288981556892395, 0.8722214102745056, 0.8262309432029724, 0.8108100891113281, 0.8096430897712708, 0.8355886340141296, 0.8435003161430359, 0.8531246185302734, 0.8702334761619568, 0.9070984125137329], \"source_val_acc_label\": [0.6563216145833334, 0.6721223958333333, 0.7061588541666667, 0.7245442708333333, 0.7353190104166667, 0.7294270833333333, 0.7335872395833334, 0.7297330729166667, 0.7337109375, 0.7308203125, 0.7346744791666666], \"target_val_acc_label\": [0.6397395833333334, 0.6530598958333333, 0.68640625, 0.7053645833333333, 0.7163671875, 0.7103971354166667, 0.7176822916666666, 0.7122786458333333, 0.7164388020833333, 0.712734375, 0.7151953125]}, \"dataset_metrics\": {\"source\": {\"train\": {\"n_unique_x\": 896000, \"n_unique_y\": 16, \"n_batch/episode\": 33600}, \"val\": {\"n_unique_x\": 192000, \"n_unique_y\": 16, \"n_batch/episode\": 4800}, \"test\": {\"n_unique_x\": 192000, \"n_unique_y\": 16, \"n_batch/episode\": 4800}}, \"target\": {\"train\": {\"n_unique_x\": 896000, \"n_unique_y\": 16, \"n_batch/episode\": 33600}, \"val\": {\"n_unique_x\": 192000, \"n_unique_y\": 16, \"n_batch/episode\": 4800}, \"test\": {\"n_unique_x\": 192000, \"n_unique_y\": 16, \"n_batch/episode\": 4800}}}}'"
      ]
     },
     "execution_count": 29,
     "metadata": {},
     "output_type": "execute_result"
    }
   ],
   "source": [
    "json.dumps(experiment)"
   ]
  }
 ],
 "metadata": {
  "celltoolbar": "Tags",
  "kernelspec": {
   "display_name": "Python 3 (ipykernel)",
   "language": "python",
   "name": "python3"
  },
  "language_info": {
   "codemirror_mode": {
    "name": "ipython",
    "version": 3
   },
   "file_extension": ".py",
   "mimetype": "text/x-python",
   "name": "python",
   "nbconvert_exporter": "python",
   "pygments_lexer": "ipython3",
   "version": "3.8.10"
  },
  "papermill": {
   "default_parameters": {},
   "duration": 10716.68474,
   "end_time": "2022-03-24T18:07:28.074807",
   "environment_variables": {},
   "exception": null,
   "input_path": "/mnt/wd500GB/CSC500/csc500-main/csc500-notebooks/templates/tl_ptn_template.ipynb",
   "output_path": "trial.ipynb",
   "parameters": {
    "parameters": {
     "BEST_MODEL_PATH": "./best_model.pth",
     "NUM_LOGS_PER_EPOCH": 10,
     "criteria_for_best": "target_accuracy",
     "dataset_seed": 154325,
     "datasets": [
      {
       "domain_prefix": "ORACLE.run1_",
       "domains": [
        32,
        38,
        8,
        44,
        14,
        50,
        20,
        26
       ],
       "episode_transforms": [],
       "labels": [
        "3123D52",
        "3123D65",
        "3123D79",
        "3123D80",
        "3123D54",
        "3123D70",
        "3123D7B",
        "3123D89",
        "3123D58",
        "3123D76",
        "3123D7D",
        "3123EFE",
        "3123D64",
        "3123D78",
        "3123D7E",
        "3124E4A"
       ],
       "num_examples_per_domain_per_label": 10000,
       "pickle_path": "/mnt/wd500GB/CSC500/csc500-main/datasets/oracle.Run1_10kExamples_stratified_ds.2022A.pkl",
       "source_or_target_dataset": "source",
       "x_transforms": [
        "unit_power"
       ]
      },
      {
       "domain_prefix": "ORACLE.run2_",
       "domains": [
        32,
        38,
        8,
        44,
        14,
        50,
        20,
        26
       ],
       "episode_transforms": [],
       "labels": [
        "3123D52",
        "3123D65",
        "3123D79",
        "3123D80",
        "3123D54",
        "3123D70",
        "3123D7B",
        "3123D89",
        "3123D58",
        "3123D76",
        "3123D7D",
        "3123EFE",
        "3123D64",
        "3123D78",
        "3123D7E",
        "3124E4A"
       ],
       "num_examples_per_domain_per_label": 10000,
       "pickle_path": "/mnt/wd500GB/CSC500/csc500-main/datasets/oracle.Run2_10kExamples_stratified_ds.2022A.pkl",
       "source_or_target_dataset": "target",
       "x_transforms": [
        "unit_power"
       ]
      }
     ],
     "device": "cuda",
     "experiment_name": "tl_1v2:oracle.run1-oracle.run2",
     "lr": 0.0001,
     "n_epoch": 50,
     "n_query": 2,
     "n_shot": 3,
     "n_way": 16,
     "patience": 3,
     "seed": 154325,
     "test_k_factor": 2,
     "torch_default_dtype": "torch.float32",
     "train_k_factor": 3,
     "val_k_factor": 2,
     "x_net": [
      {
       "class": "nnReshape",
       "kargs": {
        "shape": [
         -1,
         1,
         2,
         256
        ]
       }
      },
      {
       "class": "Conv2d",
       "kargs": {
        "bias": false,
        "in_channels": 1,
        "kernel_size": [
         1,
         7
        ],
        "out_channels": 256,
        "padding": [
         0,
         3
        ]
       }
      },
      {
       "class": "ReLU",
       "kargs": {
        "inplace": true
       }
      },
      {
       "class": "BatchNorm2d",
       "kargs": {
        "num_features": 256
       }
      },
      {
       "class": "Conv2d",
       "kargs": {
        "bias": true,
        "in_channels": 256,
        "kernel_size": [
         2,
         7
        ],
        "out_channels": 80,
        "padding": [
         0,
         3
        ]
       }
      },
      {
       "class": "ReLU",
       "kargs": {
        "inplace": true
       }
      },
      {
       "class": "BatchNorm2d",
       "kargs": {
        "num_features": 80
       }
      },
      {
       "class": "Flatten",
       "kargs": {}
      },
      {
       "class": "Linear",
       "kargs": {
        "in_features": 20480,
        "out_features": 256
       }
      },
      {
       "class": "ReLU",
       "kargs": {
        "inplace": true
       }
      },
      {
       "class": "BatchNorm1d",
       "kargs": {
        "num_features": 256
       }
      },
      {
       "class": "Linear",
       "kargs": {
        "in_features": 256,
        "out_features": 256
       }
      }
     ]
    }
   },
   "start_time": "2022-03-24T15:08:51.390067",
   "version": "2.3.4"
  }
 },
 "nbformat": 4,
 "nbformat_minor": 5
}