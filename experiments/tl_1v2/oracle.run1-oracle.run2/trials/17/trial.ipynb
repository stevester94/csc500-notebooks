{
 "cells": [
  {
   "cell_type": "markdown",
   "id": "9fea5f46",
   "metadata": {
    "papermill": {
     "duration": 0.018193,
     "end_time": "2022-03-27T09:41:36.602367",
     "exception": false,
     "start_time": "2022-03-27T09:41:36.584174",
     "status": "completed"
    },
    "tags": []
   },
   "source": [
    "# Transfer Learning Template"
   ]
  },
  {
   "cell_type": "code",
   "execution_count": 1,
   "id": "0902182a",
   "metadata": {
    "execution": {
     "iopub.execute_input": "2022-03-27T09:41:36.636657Z",
     "iopub.status.busy": "2022-03-27T09:41:36.636284Z",
     "iopub.status.idle": "2022-03-27T09:41:37.929273Z",
     "shell.execute_reply": "2022-03-27T09:41:37.928691Z"
    },
    "papermill": {
     "duration": 1.314644,
     "end_time": "2022-03-27T09:41:37.929388",
     "exception": false,
     "start_time": "2022-03-27T09:41:36.614744",
     "status": "completed"
    },
    "tags": []
   },
   "outputs": [],
   "source": [
    "%load_ext autoreload\n",
    "%autoreload 2\n",
    "%matplotlib inline\n",
    "\n",
    "    \n",
    "import os, json, sys, time, random\n",
    "import numpy as np\n",
    "import torch\n",
    "from torch.optim import Adam\n",
    "from  easydict import EasyDict\n",
    "import matplotlib.pyplot as plt\n",
    "\n",
    "from steves_models.steves_ptn import Steves_Prototypical_Network\n",
    "\n",
    "from steves_utils.lazy_iterable_wrapper import Lazy_Iterable_Wrapper\n",
    "from steves_utils.iterable_aggregator import Iterable_Aggregator\n",
    "from steves_utils.ptn_train_eval_test_jig import  PTN_Train_Eval_Test_Jig\n",
    "from steves_utils.torch_sequential_builder import build_sequential\n",
    "from steves_utils.torch_utils import get_dataset_metrics, ptn_confusion_by_domain_over_dataloader\n",
    "from steves_utils.utils_v2 import (per_domain_accuracy_from_confusion, get_datasets_base_path)\n",
    "from steves_utils.PTN.utils import independent_accuracy_assesment\n",
    "\n",
    "from torch.utils.data import DataLoader\n",
    "\n",
    "from steves_utils.stratified_dataset.episodic_accessor import Episodic_Accessor_Factory\n",
    "\n",
    "from steves_utils.ptn_do_report import (\n",
    "    get_loss_curve,\n",
    "    get_results_table,\n",
    "    get_parameters_table,\n",
    "    get_domain_accuracies,\n",
    ")\n",
    "\n",
    "from steves_utils.transforms import get_chained_transform"
   ]
  },
  {
   "cell_type": "markdown",
   "id": "41c840b4",
   "metadata": {
    "papermill": {
     "duration": 0.012259,
     "end_time": "2022-03-27T09:41:37.959502",
     "exception": false,
     "start_time": "2022-03-27T09:41:37.947243",
     "status": "completed"
    },
    "tags": []
   },
   "source": [
    "# Allowed Parameters\n",
    "These are allowed parameters, not defaults\n",
    "Each of these values need to be present in the injected parameters (the notebook will raise an exception if they are not present)\n",
    "\n",
    "Papermill uses the cell tag \"parameters\" to inject the real parameters below this cell.\n",
    "Enable tags to see what I mean"
   ]
  },
  {
   "cell_type": "code",
   "execution_count": 2,
   "id": "fd44eb83",
   "metadata": {
    "execution": {
     "iopub.execute_input": "2022-03-27T09:41:37.987443Z",
     "iopub.status.busy": "2022-03-27T09:41:37.987185Z",
     "iopub.status.idle": "2022-03-27T09:41:38.002490Z",
     "shell.execute_reply": "2022-03-27T09:41:38.002083Z"
    },
    "papermill": {
     "duration": 0.030731,
     "end_time": "2022-03-27T09:41:38.002593",
     "exception": false,
     "start_time": "2022-03-27T09:41:37.971862",
     "status": "completed"
    },
    "tags": []
   },
   "outputs": [],
   "source": [
    "required_parameters = {\n",
    "    \"experiment_name\",\n",
    "    \"lr\",\n",
    "    \"device\",\n",
    "    \"seed\",\n",
    "    \"dataset_seed\",\n",
    "    \"n_shot\",\n",
    "    \"n_query\",\n",
    "    \"n_way\",\n",
    "    \"train_k_factor\",\n",
    "    \"val_k_factor\",\n",
    "    \"test_k_factor\",\n",
    "    \"n_epoch\",\n",
    "    \"patience\",\n",
    "    \"criteria_for_best\",\n",
    "    \"x_net\",\n",
    "    \"datasets\",\n",
    "    \"torch_default_dtype\",\n",
    "    \"NUM_LOGS_PER_EPOCH\",\n",
    "    \"BEST_MODEL_PATH\",\n",
    "    \"x_shape\",\n",
    "}"
   ]
  },
  {
   "cell_type": "code",
   "execution_count": 3,
   "id": "fa3f0049",
   "metadata": {
    "execution": {
     "iopub.execute_input": "2022-03-27T09:41:38.044359Z",
     "iopub.status.busy": "2022-03-27T09:41:38.043994Z",
     "iopub.status.idle": "2022-03-27T09:41:38.057029Z",
     "shell.execute_reply": "2022-03-27T09:41:38.056625Z"
    },
    "papermill": {
     "duration": 0.03581,
     "end_time": "2022-03-27T09:41:38.057134",
     "exception": false,
     "start_time": "2022-03-27T09:41:38.021324",
     "status": "completed"
    },
    "tags": [
     "parameters"
    ]
   },
   "outputs": [],
   "source": [
    "from steves_utils.CORES.utils import (\n",
    "    ALL_NODES,\n",
    "    ALL_NODES_MINIMUM_1000_EXAMPLES,\n",
    "    ALL_DAYS\n",
    ")\n",
    "\n",
    "from steves_utils.ORACLE.utils_v2 import (\n",
    "    ALL_DISTANCES_FEET_NARROWED,\n",
    "    ALL_RUNS,\n",
    "    ALL_SERIAL_NUMBERS,\n",
    ")\n",
    "\n",
    "standalone_parameters = {}\n",
    "standalone_parameters[\"experiment_name\"] = \"STANDALONE PTN\"\n",
    "standalone_parameters[\"lr\"] = 0.001\n",
    "standalone_parameters[\"device\"] = \"cuda\"\n",
    "\n",
    "standalone_parameters[\"seed\"] = 1337\n",
    "standalone_parameters[\"dataset_seed\"] = 1337\n",
    "\n",
    "standalone_parameters[\"n_way\"] = 8\n",
    "standalone_parameters[\"n_shot\"] = 3\n",
    "standalone_parameters[\"n_query\"]  = 2\n",
    "standalone_parameters[\"train_k_factor\"] = 1\n",
    "standalone_parameters[\"val_k_factor\"] = 2\n",
    "standalone_parameters[\"test_k_factor\"] = 2\n",
    "\n",
    "\n",
    "standalone_parameters[\"n_epoch\"] = 50\n",
    "\n",
    "standalone_parameters[\"patience\"] = 10\n",
    "standalone_parameters[\"criteria_for_best\"] = \"source_loss\"\n",
    "\n",
    "standalone_parameters[\"datasets\"] = [\n",
    "    {\n",
    "        \"labels\": ALL_SERIAL_NUMBERS,\n",
    "        \"domains\": ALL_DISTANCES_FEET_NARROWED,\n",
    "        \"num_examples_per_domain_per_label\": 100,\n",
    "        \"pickle_path\": os.path.join(get_datasets_base_path(), \"oracle.Run1_framed_2000Examples_stratified_ds.2022A.pkl\"),\n",
    "        \"source_or_target_dataset\": \"source\",\n",
    "        \"x_transforms\": [\"unit_mag\", \"minus_two\"],\n",
    "        \"episode_transforms\": [],\n",
    "        \"domain_prefix\": \"ORACLE_\"\n",
    "    },\n",
    "    {\n",
    "        \"labels\": ALL_NODES,\n",
    "        \"domains\": ALL_DAYS,\n",
    "        \"num_examples_per_domain_per_label\": 100,\n",
    "        \"pickle_path\": os.path.join(get_datasets_base_path(), \"cores.stratified_ds.2022A.pkl\"),\n",
    "        \"source_or_target_dataset\": \"target\",\n",
    "        \"x_transforms\": [\"unit_power\", \"times_zero\"],\n",
    "        \"episode_transforms\": [],\n",
    "        \"domain_prefix\": \"CORES_\"\n",
    "    }   \n",
    "]\n",
    "\n",
    "standalone_parameters[\"torch_default_dtype\"] = \"torch.float32\" \n",
    "\n",
    "\n",
    "\n",
    "standalone_parameters[\"x_net\"] =     [\n",
    "    {\"class\": \"nnReshape\", \"kargs\": {\"shape\":[-1, 1, 2, 256]}},\n",
    "    {\"class\": \"Conv2d\", \"kargs\": { \"in_channels\":1, \"out_channels\":256, \"kernel_size\":(1,7), \"bias\":False, \"padding\":(0,3), },},\n",
    "    {\"class\": \"ReLU\", \"kargs\": {\"inplace\": True}},\n",
    "    {\"class\": \"BatchNorm2d\", \"kargs\": {\"num_features\":256}},\n",
    "\n",
    "    {\"class\": \"Conv2d\", \"kargs\": { \"in_channels\":256, \"out_channels\":80, \"kernel_size\":(2,7), \"bias\":True, \"padding\":(0,3), },},\n",
    "    {\"class\": \"ReLU\", \"kargs\": {\"inplace\": True}},\n",
    "    {\"class\": \"BatchNorm2d\", \"kargs\": {\"num_features\":80}},\n",
    "    {\"class\": \"Flatten\", \"kargs\": {}},\n",
    "\n",
    "    {\"class\": \"Linear\", \"kargs\": {\"in_features\": 80*256, \"out_features\": 256}}, # 80 units per IQ pair\n",
    "    {\"class\": \"ReLU\", \"kargs\": {\"inplace\": True}},\n",
    "    {\"class\": \"BatchNorm1d\", \"kargs\": {\"num_features\":256}},\n",
    "\n",
    "    {\"class\": \"Linear\", \"kargs\": {\"in_features\": 256, \"out_features\": 256}},\n",
    "]\n",
    "\n",
    "# Parameters relevant to results\n",
    "# These parameters will basically never need to change\n",
    "standalone_parameters[\"NUM_LOGS_PER_EPOCH\"] = 10\n",
    "standalone_parameters[\"BEST_MODEL_PATH\"] = \"./best_model.pth\"\n",
    "\n",
    "\n",
    "\n",
    "\n"
   ]
  },
  {
   "cell_type": "code",
   "execution_count": 4,
   "id": "e549c868",
   "metadata": {
    "execution": {
     "iopub.execute_input": "2022-03-27T09:41:38.096339Z",
     "iopub.status.busy": "2022-03-27T09:41:38.095930Z",
     "iopub.status.idle": "2022-03-27T09:41:38.108955Z",
     "shell.execute_reply": "2022-03-27T09:41:38.108538Z"
    },
    "papermill": {
     "duration": 0.034112,
     "end_time": "2022-03-27T09:41:38.109054",
     "exception": false,
     "start_time": "2022-03-27T09:41:38.074942",
     "status": "completed"
    },
    "tags": [
     "injected-parameters"
    ]
   },
   "outputs": [],
   "source": [
    "# Parameters\n",
    "parameters = {\n",
    "    \"experiment_name\": \"tl_1v2:oracle.run1-oracle.run2\",\n",
    "    \"device\": \"cuda\",\n",
    "    \"lr\": 0.0001,\n",
    "    \"n_shot\": 3,\n",
    "    \"n_query\": 2,\n",
    "    \"train_k_factor\": 3,\n",
    "    \"val_k_factor\": 2,\n",
    "    \"test_k_factor\": 2,\n",
    "    \"torch_default_dtype\": \"torch.float32\",\n",
    "    \"n_epoch\": 50,\n",
    "    \"patience\": 3,\n",
    "    \"criteria_for_best\": \"target_accuracy\",\n",
    "    \"x_net\": [\n",
    "        {\"class\": \"nnReshape\", \"kargs\": {\"shape\": [-1, 1, 2, 256]}},\n",
    "        {\n",
    "            \"class\": \"Conv2d\",\n",
    "            \"kargs\": {\n",
    "                \"in_channels\": 1,\n",
    "                \"out_channels\": 256,\n",
    "                \"kernel_size\": [1, 7],\n",
    "                \"bias\": False,\n",
    "                \"padding\": [0, 3],\n",
    "            },\n",
    "        },\n",
    "        {\"class\": \"ReLU\", \"kargs\": {\"inplace\": True}},\n",
    "        {\"class\": \"BatchNorm2d\", \"kargs\": {\"num_features\": 256}},\n",
    "        {\n",
    "            \"class\": \"Conv2d\",\n",
    "            \"kargs\": {\n",
    "                \"in_channels\": 256,\n",
    "                \"out_channels\": 80,\n",
    "                \"kernel_size\": [2, 7],\n",
    "                \"bias\": True,\n",
    "                \"padding\": [0, 3],\n",
    "            },\n",
    "        },\n",
    "        {\"class\": \"ReLU\", \"kargs\": {\"inplace\": True}},\n",
    "        {\"class\": \"BatchNorm2d\", \"kargs\": {\"num_features\": 80}},\n",
    "        {\"class\": \"Flatten\", \"kargs\": {}},\n",
    "        {\"class\": \"Linear\", \"kargs\": {\"in_features\": 20480, \"out_features\": 256}},\n",
    "        {\"class\": \"ReLU\", \"kargs\": {\"inplace\": True}},\n",
    "        {\"class\": \"BatchNorm1d\", \"kargs\": {\"num_features\": 256}},\n",
    "        {\"class\": \"Linear\", \"kargs\": {\"in_features\": 256, \"out_features\": 256}},\n",
    "    ],\n",
    "    \"NUM_LOGS_PER_EPOCH\": 10,\n",
    "    \"BEST_MODEL_PATH\": \"./best_model.pth\",\n",
    "    \"n_way\": 16,\n",
    "    \"datasets\": [\n",
    "        {\n",
    "            \"labels\": [\n",
    "                \"3123D52\",\n",
    "                \"3123D65\",\n",
    "                \"3123D79\",\n",
    "                \"3123D80\",\n",
    "                \"3123D54\",\n",
    "                \"3123D70\",\n",
    "                \"3123D7B\",\n",
    "                \"3123D89\",\n",
    "                \"3123D58\",\n",
    "                \"3123D76\",\n",
    "                \"3123D7D\",\n",
    "                \"3123EFE\",\n",
    "                \"3123D64\",\n",
    "                \"3123D78\",\n",
    "                \"3123D7E\",\n",
    "                \"3124E4A\",\n",
    "            ],\n",
    "            \"domains\": [32, 38, 8, 44, 14, 50, 20, 26],\n",
    "            \"num_examples_per_domain_per_label\": 10000,\n",
    "            \"pickle_path\": \"/mnt/wd500GB/CSC500/csc500-main/datasets/oracle.Run1_10kExamples_stratified_ds.2022A.pkl\",\n",
    "            \"source_or_target_dataset\": \"target\",\n",
    "            \"x_transforms\": [],\n",
    "            \"episode_transforms\": [],\n",
    "            \"domain_prefix\": \"ORACLE.run1_\",\n",
    "        },\n",
    "        {\n",
    "            \"labels\": [\n",
    "                \"3123D52\",\n",
    "                \"3123D65\",\n",
    "                \"3123D79\",\n",
    "                \"3123D80\",\n",
    "                \"3123D54\",\n",
    "                \"3123D70\",\n",
    "                \"3123D7B\",\n",
    "                \"3123D89\",\n",
    "                \"3123D58\",\n",
    "                \"3123D76\",\n",
    "                \"3123D7D\",\n",
    "                \"3123EFE\",\n",
    "                \"3123D64\",\n",
    "                \"3123D78\",\n",
    "                \"3123D7E\",\n",
    "                \"3124E4A\",\n",
    "            ],\n",
    "            \"domains\": [32, 38, 8, 44, 14, 50, 20, 26],\n",
    "            \"num_examples_per_domain_per_label\": 10000,\n",
    "            \"pickle_path\": \"/mnt/wd500GB/CSC500/csc500-main/datasets/oracle.Run2_10kExamples_stratified_ds.2022A.pkl\",\n",
    "            \"source_or_target_dataset\": \"source\",\n",
    "            \"x_transforms\": [],\n",
    "            \"episode_transforms\": [],\n",
    "            \"domain_prefix\": \"ORACLE.run2_\",\n",
    "        },\n",
    "    ],\n",
    "    \"dataset_seed\": 154325,\n",
    "    \"seed\": 154325,\n",
    "}\n"
   ]
  },
  {
   "cell_type": "code",
   "execution_count": 5,
   "id": "8fa1cc33",
   "metadata": {
    "execution": {
     "iopub.execute_input": "2022-03-27T09:41:38.143259Z",
     "iopub.status.busy": "2022-03-27T09:41:38.142950Z",
     "iopub.status.idle": "2022-03-27T09:41:38.157831Z",
     "shell.execute_reply": "2022-03-27T09:41:38.157419Z"
    },
    "papermill": {
     "duration": 0.031566,
     "end_time": "2022-03-27T09:41:38.157928",
     "exception": false,
     "start_time": "2022-03-27T09:41:38.126362",
     "status": "completed"
    },
    "tags": []
   },
   "outputs": [],
   "source": [
    "# Set this to True if you want to run this template directly\n",
    "STANDALONE = False\n",
    "if STANDALONE:\n",
    "    print(\"parameters not injected, running with standalone_parameters\")\n",
    "    parameters = standalone_parameters\n",
    "\n",
    "if not 'parameters' in locals() and not 'parameters' in globals():\n",
    "    raise Exception(\"Parameter injection failed\")\n",
    "\n",
    "#Use an easy dict for all the parameters\n",
    "p = EasyDict(parameters)\n",
    "\n",
    "if \"x_shape\" not in p:\n",
    "    p.x_shape = [2,256] # Default to this if we dont supply x_shape\n",
    "\n",
    "\n",
    "supplied_keys = set(p.keys())\n",
    "\n",
    "if  supplied_keys != required_parameters:\n",
    "    print(\"Parameters are incorrect\")\n",
    "    if len(supplied_keys - required_parameters)>0: print(\"Shouldn't have:\", str(supplied_keys - required_parameters))\n",
    "    if len(required_parameters - supplied_keys)>0: print(\"Need to have:\", str(required_parameters - supplied_keys))\n",
    "    raise RuntimeError(\"Parameters are incorrect\")"
   ]
  },
  {
   "cell_type": "code",
   "execution_count": 6,
   "id": "3a028d58",
   "metadata": {
    "execution": {
     "iopub.execute_input": "2022-03-27T09:41:38.190653Z",
     "iopub.status.busy": "2022-03-27T09:41:38.190398Z",
     "iopub.status.idle": "2022-03-27T09:41:38.205991Z",
     "shell.execute_reply": "2022-03-27T09:41:38.205579Z"
    },
    "papermill": {
     "duration": 0.03109,
     "end_time": "2022-03-27T09:41:38.206108",
     "exception": false,
     "start_time": "2022-03-27T09:41:38.175018",
     "status": "completed"
    },
    "tags": []
   },
   "outputs": [],
   "source": [
    "###################################\n",
    "# Set the RNGs and make it all deterministic\n",
    "###################################\n",
    "np.random.seed(p.seed)\n",
    "random.seed(p.seed)\n",
    "torch.manual_seed(p.seed)\n",
    "\n",
    "torch.use_deterministic_algorithms(True) "
   ]
  },
  {
   "cell_type": "code",
   "execution_count": 7,
   "id": "b691acf6",
   "metadata": {
    "execution": {
     "iopub.execute_input": "2022-03-27T09:41:38.239735Z",
     "iopub.status.busy": "2022-03-27T09:41:38.239489Z",
     "iopub.status.idle": "2022-03-27T09:41:38.255557Z",
     "shell.execute_reply": "2022-03-27T09:41:38.255087Z"
    },
    "papermill": {
     "duration": 0.030879,
     "end_time": "2022-03-27T09:41:38.255653",
     "exception": false,
     "start_time": "2022-03-27T09:41:38.224774",
     "status": "completed"
    },
    "tags": []
   },
   "outputs": [],
   "source": [
    "###########################################\n",
    "# The stratified datasets honor this\n",
    "###########################################\n",
    "torch.set_default_dtype(eval(p.torch_default_dtype))"
   ]
  },
  {
   "cell_type": "code",
   "execution_count": 8,
   "id": "b5fba671",
   "metadata": {
    "execution": {
     "iopub.execute_input": "2022-03-27T09:41:38.289060Z",
     "iopub.status.busy": "2022-03-27T09:41:38.288811Z",
     "iopub.status.idle": "2022-03-27T09:41:38.329411Z",
     "shell.execute_reply": "2022-03-27T09:41:38.328907Z"
    },
    "papermill": {
     "duration": 0.055882,
     "end_time": "2022-03-27T09:41:38.329518",
     "exception": false,
     "start_time": "2022-03-27T09:41:38.273636",
     "status": "completed"
    },
    "tags": []
   },
   "outputs": [],
   "source": [
    "###################################\n",
    "# Build the network(s)\n",
    "# Note: It's critical to do this AFTER setting the RNG\n",
    "###################################\n",
    "x_net = build_sequential(p.x_net)"
   ]
  },
  {
   "cell_type": "code",
   "execution_count": 9,
   "id": "5d7e61cc",
   "metadata": {
    "execution": {
     "iopub.execute_input": "2022-03-27T09:41:38.362411Z",
     "iopub.status.busy": "2022-03-27T09:41:38.362164Z",
     "iopub.status.idle": "2022-03-27T09:41:38.373268Z",
     "shell.execute_reply": "2022-03-27T09:41:38.372951Z"
    },
    "papermill": {
     "duration": 0.02607,
     "end_time": "2022-03-27T09:41:38.373342",
     "exception": false,
     "start_time": "2022-03-27T09:41:38.347272",
     "status": "completed"
    },
    "tags": []
   },
   "outputs": [],
   "source": [
    "start_time_secs = time.time()"
   ]
  },
  {
   "cell_type": "code",
   "execution_count": 10,
   "id": "c6b67dfd",
   "metadata": {
    "execution": {
     "iopub.execute_input": "2022-03-27T09:41:38.406561Z",
     "iopub.status.busy": "2022-03-27T09:41:38.406313Z",
     "iopub.status.idle": "2022-03-27T09:41:38.422381Z",
     "shell.execute_reply": "2022-03-27T09:41:38.422751Z"
    },
    "papermill": {
     "duration": 0.032179,
     "end_time": "2022-03-27T09:41:38.422869",
     "exception": false,
     "start_time": "2022-03-27T09:41:38.390690",
     "status": "completed"
    },
    "tags": []
   },
   "outputs": [],
   "source": [
    "p.domains_source = []\n",
    "p.domains_target = []\n",
    "\n",
    "\n",
    "train_original_source = []\n",
    "val_original_source   = []\n",
    "test_original_source  = []\n",
    "\n",
    "train_original_target = []\n",
    "val_original_target   = []\n",
    "test_original_target  = []"
   ]
  },
  {
   "cell_type": "code",
   "execution_count": 11,
   "id": "e3d9c3d3",
   "metadata": {
    "execution": {
     "iopub.execute_input": "2022-03-27T09:41:38.455404Z",
     "iopub.status.busy": "2022-03-27T09:41:38.455155Z",
     "iopub.status.idle": "2022-03-27T09:41:38.468184Z",
     "shell.execute_reply": "2022-03-27T09:41:38.467708Z"
    },
    "papermill": {
     "duration": 0.028201,
     "end_time": "2022-03-27T09:41:38.468281",
     "exception": false,
     "start_time": "2022-03-27T09:41:38.440080",
     "status": "completed"
    },
    "tags": []
   },
   "outputs": [],
   "source": [
    "# global_x_transform_func = lambda x: normalize(x.to(torch.get_default_dtype()), \"unit_power\") # unit_power, unit_mag\n",
    "# global_x_transform_func = lambda x: normalize(x, \"unit_power\") # unit_power, unit_mag"
   ]
  },
  {
   "cell_type": "code",
   "execution_count": 12,
   "id": "acb78fd2",
   "metadata": {
    "execution": {
     "iopub.execute_input": "2022-03-27T09:41:38.507423Z",
     "iopub.status.busy": "2022-03-27T09:41:38.507072Z",
     "iopub.status.idle": "2022-03-27T09:41:38.521347Z",
     "shell.execute_reply": "2022-03-27T09:41:38.520922Z"
    },
    "papermill": {
     "duration": 0.034286,
     "end_time": "2022-03-27T09:41:38.521446",
     "exception": false,
     "start_time": "2022-03-27T09:41:38.487160",
     "status": "completed"
    },
    "tags": []
   },
   "outputs": [],
   "source": [
    "def add_dataset(\n",
    "    labels,\n",
    "    domains,\n",
    "    pickle_path,\n",
    "    x_transforms,\n",
    "    episode_transforms,\n",
    "    domain_prefix,\n",
    "    num_examples_per_domain_per_label,\n",
    "    source_or_target_dataset:str,\n",
    "    iterator_seed=p.seed,\n",
    "    dataset_seed=p.dataset_seed,\n",
    "    n_shot=p.n_shot,\n",
    "    n_way=p.n_way,\n",
    "    n_query=p.n_query,\n",
    "    train_val_test_k_factors=(p.train_k_factor,p.val_k_factor,p.test_k_factor),\n",
    "):\n",
    "   \n",
    "    if x_transforms == []: x_transform = None\n",
    "    else: x_transform = get_chained_transform(x_transforms)\n",
    "    \n",
    "    if episode_transforms == []: episode_transform = None\n",
    "    else: raise Exception(\"episode_transforms not implemented\")\n",
    "    \n",
    "    episode_transform = lambda tup, _prefix=domain_prefix: (_prefix + str(tup[0]), tup[1])\n",
    "\n",
    "\n",
    "    eaf = Episodic_Accessor_Factory(\n",
    "        labels=labels,\n",
    "        domains=domains,\n",
    "        num_examples_per_domain_per_label=num_examples_per_domain_per_label,\n",
    "        iterator_seed=iterator_seed,\n",
    "        dataset_seed=dataset_seed,\n",
    "        n_shot=n_shot,\n",
    "        n_way=n_way,\n",
    "        n_query=n_query,\n",
    "        train_val_test_k_factors=train_val_test_k_factors,\n",
    "        pickle_path=pickle_path,\n",
    "        x_transform_func=x_transform,\n",
    "    )\n",
    "\n",
    "    train, val, test = eaf.get_train(), eaf.get_val(), eaf.get_test()\n",
    "    train = Lazy_Iterable_Wrapper(train, episode_transform)\n",
    "    val = Lazy_Iterable_Wrapper(val, episode_transform)\n",
    "    test = Lazy_Iterable_Wrapper(test, episode_transform)\n",
    "\n",
    "    if source_or_target_dataset==\"source\":\n",
    "        train_original_source.append(train)\n",
    "        val_original_source.append(val)\n",
    "        test_original_source.append(test)\n",
    "\n",
    "        p.domains_source.extend(\n",
    "            [domain_prefix + str(u) for u in domains]\n",
    "        )\n",
    "    elif source_or_target_dataset==\"target\":\n",
    "        train_original_target.append(train)\n",
    "        val_original_target.append(val)\n",
    "        test_original_target.append(test)\n",
    "        p.domains_target.extend(\n",
    "            [domain_prefix + str(u) for u in domains]\n",
    "        )\n",
    "    else:\n",
    "        raise Exception(f\"invalid source_or_target_dataset: {source_or_target_dataset}\")\n",
    "    "
   ]
  },
  {
   "cell_type": "code",
   "execution_count": 13,
   "id": "fe266617",
   "metadata": {
    "execution": {
     "iopub.execute_input": "2022-03-27T09:41:38.556804Z",
     "iopub.status.busy": "2022-03-27T09:41:38.556557Z",
     "iopub.status.idle": "2022-03-27T09:42:06.892091Z",
     "shell.execute_reply": "2022-03-27T09:42:06.891583Z"
    },
    "papermill": {
     "duration": 28.351506,
     "end_time": "2022-03-27T09:42:06.892199",
     "exception": false,
     "start_time": "2022-03-27T09:41:38.540693",
     "status": "completed"
    },
    "tags": []
   },
   "outputs": [],
   "source": [
    "for ds in p.datasets:\n",
    "    add_dataset(**ds)"
   ]
  },
  {
   "cell_type": "code",
   "execution_count": 14,
   "id": "b90d65ac",
   "metadata": {
    "execution": {
     "iopub.execute_input": "2022-03-27T09:42:06.928840Z",
     "iopub.status.busy": "2022-03-27T09:42:06.928586Z",
     "iopub.status.idle": "2022-03-27T09:42:06.944991Z",
     "shell.execute_reply": "2022-03-27T09:42:06.944754Z"
    },
    "papermill": {
     "duration": 0.031706,
     "end_time": "2022-03-27T09:42:06.945051",
     "exception": false,
     "start_time": "2022-03-27T09:42:06.913345",
     "status": "completed"
    },
    "tags": []
   },
   "outputs": [],
   "source": [
    "# from steves_utils.CORES.utils import (\n",
    "#     ALL_NODES,\n",
    "#     ALL_NODES_MINIMUM_1000_EXAMPLES,\n",
    "#     ALL_DAYS\n",
    "# )\n",
    "\n",
    "# add_dataset(\n",
    "#     labels=ALL_NODES,\n",
    "#     domains = ALL_DAYS,\n",
    "#     num_examples_per_domain_per_label=100,\n",
    "#     pickle_path=os.path.join(get_datasets_base_path(), \"cores.stratified_ds.2022A.pkl\"),\n",
    "#     source_or_target_dataset=\"target\",\n",
    "#     x_transform_func=global_x_transform_func,\n",
    "#     domain_modifier=lambda u: f\"cores_{u}\"\n",
    "# )"
   ]
  },
  {
   "cell_type": "code",
   "execution_count": 15,
   "id": "76db484d",
   "metadata": {
    "execution": {
     "iopub.execute_input": "2022-03-27T09:42:06.974236Z",
     "iopub.status.busy": "2022-03-27T09:42:06.973801Z",
     "iopub.status.idle": "2022-03-27T09:42:06.984691Z",
     "shell.execute_reply": "2022-03-27T09:42:06.984907Z"
    },
    "papermill": {
     "duration": 0.026551,
     "end_time": "2022-03-27T09:42:06.984979",
     "exception": false,
     "start_time": "2022-03-27T09:42:06.958428",
     "status": "completed"
    },
    "tags": []
   },
   "outputs": [],
   "source": [
    "# from steves_utils.ORACLE.utils_v2 import (\n",
    "#     ALL_DISTANCES_FEET,\n",
    "#     ALL_RUNS,\n",
    "#     ALL_SERIAL_NUMBERS,\n",
    "# )\n",
    "\n",
    "\n",
    "# add_dataset(\n",
    "#     labels=ALL_SERIAL_NUMBERS,\n",
    "#     domains = list(set(ALL_DISTANCES_FEET) - {2,62}),\n",
    "#     num_examples_per_domain_per_label=100,\n",
    "#     pickle_path=os.path.join(get_datasets_base_path(), \"oracle.Run2_framed_2000Examples_stratified_ds.2022A.pkl\"),\n",
    "#     source_or_target_dataset=\"source\",\n",
    "#     x_transform_func=global_x_transform_func,\n",
    "#     domain_modifier=lambda u: f\"oracle1_{u}\"\n",
    "# )\n"
   ]
  },
  {
   "cell_type": "code",
   "execution_count": 16,
   "id": "97dea9d2",
   "metadata": {
    "execution": {
     "iopub.execute_input": "2022-03-27T09:42:07.014453Z",
     "iopub.status.busy": "2022-03-27T09:42:07.014017Z",
     "iopub.status.idle": "2022-03-27T09:42:07.025010Z",
     "shell.execute_reply": "2022-03-27T09:42:07.024758Z"
    },
    "papermill": {
     "duration": 0.026536,
     "end_time": "2022-03-27T09:42:07.025071",
     "exception": false,
     "start_time": "2022-03-27T09:42:06.998535",
     "status": "completed"
    },
    "tags": []
   },
   "outputs": [],
   "source": [
    "# from steves_utils.ORACLE.utils_v2 import (\n",
    "#     ALL_DISTANCES_FEET,\n",
    "#     ALL_RUNS,\n",
    "#     ALL_SERIAL_NUMBERS,\n",
    "# )\n",
    "\n",
    "\n",
    "# add_dataset(\n",
    "#     labels=ALL_SERIAL_NUMBERS,\n",
    "#     domains = list(set(ALL_DISTANCES_FEET) - {2,62,56}),\n",
    "#     num_examples_per_domain_per_label=100,\n",
    "#     pickle_path=os.path.join(get_datasets_base_path(), \"oracle.Run2_framed_2000Examples_stratified_ds.2022A.pkl\"),\n",
    "#     source_or_target_dataset=\"source\",\n",
    "#     x_transform_func=global_x_transform_func,\n",
    "#     domain_modifier=lambda u: f\"oracle2_{u}\"\n",
    "# )"
   ]
  },
  {
   "cell_type": "code",
   "execution_count": 17,
   "id": "6f289866",
   "metadata": {
    "execution": {
     "iopub.execute_input": "2022-03-27T09:42:07.054376Z",
     "iopub.status.busy": "2022-03-27T09:42:07.053949Z",
     "iopub.status.idle": "2022-03-27T09:42:07.064200Z",
     "shell.execute_reply": "2022-03-27T09:42:07.064415Z"
    },
    "papermill": {
     "duration": 0.025706,
     "end_time": "2022-03-27T09:42:07.064484",
     "exception": false,
     "start_time": "2022-03-27T09:42:07.038778",
     "status": "completed"
    },
    "tags": []
   },
   "outputs": [],
   "source": [
    "# add_dataset(\n",
    "#     labels=list(range(19)),\n",
    "#     domains = [0,1,2],\n",
    "#     num_examples_per_domain_per_label=100,\n",
    "#     pickle_path=os.path.join(get_datasets_base_path(), \"metehan.stratified_ds.2022A.pkl\"),\n",
    "#     source_or_target_dataset=\"target\",\n",
    "#     x_transform_func=global_x_transform_func,\n",
    "#     domain_modifier=lambda u: f\"met_{u}\"\n",
    "# )"
   ]
  },
  {
   "cell_type": "code",
   "execution_count": 18,
   "id": "86a863c3",
   "metadata": {
    "execution": {
     "iopub.execute_input": "2022-03-27T09:42:07.095919Z",
     "iopub.status.busy": "2022-03-27T09:42:07.095513Z",
     "iopub.status.idle": "2022-03-27T09:42:07.105974Z",
     "shell.execute_reply": "2022-03-27T09:42:07.106208Z"
    },
    "papermill": {
     "duration": 0.026114,
     "end_time": "2022-03-27T09:42:07.106279",
     "exception": false,
     "start_time": "2022-03-27T09:42:07.080165",
     "status": "completed"
    },
    "tags": []
   },
   "outputs": [],
   "source": [
    "# # from steves_utils.wisig.utils import (\n",
    "# #     ALL_NODES_MINIMUM_100_EXAMPLES,\n",
    "# #     ALL_NODES_MINIMUM_500_EXAMPLES,\n",
    "# #     ALL_NODES_MINIMUM_1000_EXAMPLES,\n",
    "# #     ALL_DAYS\n",
    "# # )\n",
    "\n",
    "# import steves_utils.wisig.utils as wisig\n",
    "\n",
    "\n",
    "# add_dataset(\n",
    "#     labels=wisig.ALL_NODES_MINIMUM_100_EXAMPLES,\n",
    "#     domains = wisig.ALL_DAYS,\n",
    "#     num_examples_per_domain_per_label=100,\n",
    "#     pickle_path=os.path.join(get_datasets_base_path(), \"wisig.node3-19.stratified_ds.2022A.pkl\"),\n",
    "#     source_or_target_dataset=\"target\",\n",
    "#     x_transform_func=global_x_transform_func,\n",
    "#     domain_modifier=lambda u: f\"wisig_{u}\"\n",
    "# )"
   ]
  },
  {
   "cell_type": "code",
   "execution_count": 19,
   "id": "fd5442bc",
   "metadata": {
    "execution": {
     "iopub.execute_input": "2022-03-27T09:42:07.140873Z",
     "iopub.status.busy": "2022-03-27T09:42:07.140458Z",
     "iopub.status.idle": "2022-03-27T09:42:07.152357Z",
     "shell.execute_reply": "2022-03-27T09:42:07.152087Z"
    },
    "papermill": {
     "duration": 0.029284,
     "end_time": "2022-03-27T09:42:07.152417",
     "exception": false,
     "start_time": "2022-03-27T09:42:07.123133",
     "status": "completed"
    },
    "tags": []
   },
   "outputs": [],
   "source": [
    "###################################\n",
    "# Build the dataset\n",
    "###################################\n",
    "train_original_source = Iterable_Aggregator(train_original_source, p.seed)\n",
    "val_original_source = Iterable_Aggregator(val_original_source, p.seed)\n",
    "test_original_source = Iterable_Aggregator(test_original_source, p.seed)\n",
    "\n",
    "\n",
    "train_original_target = Iterable_Aggregator(train_original_target, p.seed)\n",
    "val_original_target = Iterable_Aggregator(val_original_target, p.seed)\n",
    "test_original_target = Iterable_Aggregator(test_original_target, p.seed)\n",
    "\n",
    "# For CNN We only use X and Y. And we only train on the source.\n",
    "# Properly form the data using a transform lambda and Lazy_Iterable_Wrapper. Finally wrap them in a dataloader\n",
    "\n",
    "transform_lambda = lambda ex: ex[1] # Original is (<domain>, <episode>) so we strip down to episode only\n",
    "\n",
    "train_processed_source = Lazy_Iterable_Wrapper(train_original_source, transform_lambda)\n",
    "val_processed_source   = Lazy_Iterable_Wrapper(val_original_source, transform_lambda)\n",
    "test_processed_source  = Lazy_Iterable_Wrapper(test_original_source, transform_lambda)\n",
    "\n",
    "train_processed_target = Lazy_Iterable_Wrapper(train_original_target, transform_lambda)\n",
    "val_processed_target   = Lazy_Iterable_Wrapper(val_original_target, transform_lambda)\n",
    "test_processed_target  = Lazy_Iterable_Wrapper(test_original_target, transform_lambda)\n",
    "\n",
    "datasets = EasyDict({\n",
    "    \"source\": {\n",
    "        \"original\": {\"train\":train_original_source, \"val\":val_original_source, \"test\":test_original_source},\n",
    "        \"processed\": {\"train\":train_processed_source, \"val\":val_processed_source, \"test\":test_processed_source}\n",
    "    },\n",
    "    \"target\": {\n",
    "        \"original\": {\"train\":train_original_target, \"val\":val_original_target, \"test\":test_original_target},\n",
    "        \"processed\": {\"train\":train_processed_target, \"val\":val_processed_target, \"test\":test_processed_target}\n",
    "    },\n",
    "})"
   ]
  },
  {
   "cell_type": "code",
   "execution_count": 20,
   "id": "5b3c01fc",
   "metadata": {
    "execution": {
     "iopub.execute_input": "2022-03-27T09:42:07.182564Z",
     "iopub.status.busy": "2022-03-27T09:42:07.182161Z",
     "iopub.status.idle": "2022-03-27T09:42:31.932253Z",
     "shell.execute_reply": "2022-03-27T09:42:31.931870Z"
    },
    "papermill": {
     "duration": 24.76575,
     "end_time": "2022-03-27T09:42:31.932337",
     "exception": false,
     "start_time": "2022-03-27T09:42:07.166587",
     "status": "completed"
    },
    "tags": []
   },
   "outputs": [
    {
     "name": "stdout",
     "output_type": "stream",
     "text": [
      "{'ORACLE.run2_14', 'ORACLE.run2_44', 'ORACLE.run2_26', 'ORACLE.run2_20', 'ORACLE.run2_8', 'ORACLE.run2_32', 'ORACLE.run2_38', 'ORACLE.run2_50'}\n"
     ]
    },
    {
     "name": "stdout",
     "output_type": "stream",
     "text": [
      "{'ORACLE.run1_32', 'ORACLE.run1_14', 'ORACLE.run1_50', 'ORACLE.run1_44', 'ORACLE.run1_20', 'ORACLE.run1_8', 'ORACLE.run1_26', 'ORACLE.run1_38'}\n"
     ]
    },
    {
     "name": "stdout",
     "output_type": "stream",
     "text": [
      "tensor([[[ 0.0039, -0.0026, -0.0022,  ...,  0.0041,  0.0007, -0.0061],\n",
      "         [-0.0043, -0.0015,  0.0005,  ...,  0.0031, -0.0024,  0.0023]],\n",
      "\n",
      "        [[ 0.0039,  0.0014,  0.0010,  ...,  0.0007,  0.0043,  0.0006],\n",
      "         [ 0.0016,  0.0002, -0.0029,  ...,  0.0007,  0.0061, -0.0020]],\n",
      "\n",
      "        [[ 0.0086,  0.0069, -0.0014,  ..., -0.0019,  0.0007, -0.0069],\n",
      "         [ 0.0013, -0.0049, -0.0014,  ...,  0.0016,  0.0018, -0.0003]],\n",
      "\n",
      "        ...,\n",
      "\n",
      "        [[ 0.0025, -0.0071, -0.0038,  ...,  0.0018,  0.0061,  0.0025],\n",
      "         [ 0.0033, -0.0023, -0.0027,  ..., -0.0008, -0.0046, -0.0021]],\n",
      "\n",
      "        [[-0.0010,  0.0014,  0.0057,  ..., -0.0029,  0.0086,  0.0024],\n",
      "         [ 0.0005, -0.0007,  0.0042,  ..., -0.0060, -0.0021, -0.0052]],\n",
      "\n",
      "        [[-0.0022,  0.0008,  0.0023,  ...,  0.0016,  0.0066,  0.0021],\n",
      "         [ 0.0024, -0.0081, -0.0030,  ...,  0.0024,  0.0040,  0.0010]]])\n"
     ]
    }
   ],
   "source": [
    "from steves_utils.transforms import get_average_magnitude, get_average_power\n",
    "\n",
    "print(set([u for u,_ in val_original_source]))\n",
    "print(set([u for u,_ in val_original_target]))\n",
    "\n",
    "s_x, s_y, q_x, q_y, _ = next(iter(train_processed_source))\n",
    "print(s_x)\n",
    "\n",
    "# for ds in [\n",
    "#     train_processed_source,\n",
    "#     val_processed_source,\n",
    "#     test_processed_source,\n",
    "#     train_processed_target,\n",
    "#     val_processed_target,\n",
    "#     test_processed_target\n",
    "# ]:\n",
    "#     for s_x, s_y, q_x, q_y, _ in ds:\n",
    "#         for X in (s_x, q_x):\n",
    "#             for x in X:\n",
    "#                 assert np.isclose(get_average_magnitude(x.numpy()), 1.0)\n",
    "#                 assert np.isclose(get_average_power(x.numpy()), 1.0)\n",
    "                "
   ]
  },
  {
   "cell_type": "code",
   "execution_count": 21,
   "id": "bbdacba1",
   "metadata": {
    "execution": {
     "iopub.execute_input": "2022-03-27T09:42:31.966009Z",
     "iopub.status.busy": "2022-03-27T09:42:31.965755Z",
     "iopub.status.idle": "2022-03-27T09:42:32.023062Z",
     "shell.execute_reply": "2022-03-27T09:42:32.022592Z"
    },
    "papermill": {
     "duration": 0.075156,
     "end_time": "2022-03-27T09:42:32.023157",
     "exception": false,
     "start_time": "2022-03-27T09:42:31.948001",
     "status": "completed"
    },
    "tags": []
   },
   "outputs": [
    {
     "name": "stdout",
     "output_type": "stream",
     "text": [
      "(2, 256)\n"
     ]
    }
   ],
   "source": [
    "###################################\n",
    "# Build the model\n",
    "###################################\n",
    "# easfsl only wants a tuple for the shape\n",
    "model = Steves_Prototypical_Network(x_net, device=p.device, x_shape=tuple(p.x_shape))\n",
    "optimizer = Adam(params=model.parameters(), lr=p.lr)"
   ]
  },
  {
   "cell_type": "code",
   "execution_count": 22,
   "id": "22b39ac5",
   "metadata": {
    "execution": {
     "iopub.execute_input": "2022-03-27T09:42:32.060653Z",
     "iopub.status.busy": "2022-03-27T09:42:32.060391Z",
     "iopub.status.idle": "2022-03-27T12:29:32.452676Z",
     "shell.execute_reply": "2022-03-27T12:29:32.452443Z"
    },
    "papermill": {
     "duration": 10020.409773,
     "end_time": "2022-03-27T12:29:32.452737",
     "exception": false,
     "start_time": "2022-03-27T09:42:32.042964",
     "status": "completed"
    },
    "tags": []
   },
   "outputs": [
    {
     "name": "stdout",
     "output_type": "stream",
     "text": [
      "epoch: 1, [batch: 1 / 33600], examples_per_second: 9.6535, train_label_loss: 2.7461, \n"
     ]
    },
    {
     "name": "stdout",
     "output_type": "stream",
     "text": [
      "epoch: 1, [batch: 3360 / 33600], examples_per_second: 3220.1253, train_label_loss: 1.3002, \n"
     ]
    },
    {
     "name": "stdout",
     "output_type": "stream",
     "text": [
      "epoch: 1, [batch: 6720 / 33600], examples_per_second: 3215.7140, train_label_loss: 0.2923, \n"
     ]
    },
    {
     "name": "stdout",
     "output_type": "stream",
     "text": [
      "epoch: 1, [batch: 10080 / 33600], examples_per_second: 3222.4664, train_label_loss: 0.3881, \n"
     ]
    },
    {
     "name": "stdout",
     "output_type": "stream",
     "text": [
      "epoch: 1, [batch: 13440 / 33600], examples_per_second: 3202.7469, train_label_loss: 0.6317, \n"
     ]
    },
    {
     "name": "stdout",
     "output_type": "stream",
     "text": [
      "epoch: 1, [batch: 16800 / 33600], examples_per_second: 3213.0182, train_label_loss: 0.3392, \n"
     ]
    },
    {
     "name": "stdout",
     "output_type": "stream",
     "text": [
      "epoch: 1, [batch: 20160 / 33600], examples_per_second: 3217.6882, train_label_loss: 0.5004, \n"
     ]
    },
    {
     "name": "stdout",
     "output_type": "stream",
     "text": [
      "epoch: 1, [batch: 23520 / 33600], examples_per_second: 3200.2226, train_label_loss: 1.2263, \n"
     ]
    },
    {
     "name": "stdout",
     "output_type": "stream",
     "text": [
      "epoch: 1, [batch: 26880 / 33600], examples_per_second: 3210.9256, train_label_loss: 0.5642, \n"
     ]
    },
    {
     "name": "stdout",
     "output_type": "stream",
     "text": [
      "epoch: 1, [batch: 30240 / 33600], examples_per_second: 3216.4214, train_label_loss: 1.2207, \n"
     ]
    },
    {
     "name": "stdout",
     "output_type": "stream",
     "text": [
      "=============================================================\n",
      "epoch: 1, source_val_acc_label: 0.7192, target_val_acc_label: 0.7087, source_val_label_loss: 0.8843, target_val_label_loss: 0.8943, \n",
      "=============================================================\n"
     ]
    },
    {
     "name": "stdout",
     "output_type": "stream",
     "text": [
      "New best\n"
     ]
    },
    {
     "name": "stdout",
     "output_type": "stream",
     "text": [
      "epoch: 2, [batch: 1 / 33600], examples_per_second: 0.9673, train_label_loss: 0.2889, \n"
     ]
    },
    {
     "name": "stdout",
     "output_type": "stream",
     "text": [
      "epoch: 2, [batch: 3360 / 33600], examples_per_second: 3250.4037, train_label_loss: 0.3282, \n"
     ]
    },
    {
     "name": "stdout",
     "output_type": "stream",
     "text": [
      "epoch: 2, [batch: 6720 / 33600], examples_per_second: 3251.1988, train_label_loss: 0.3212, \n"
     ]
    },
    {
     "name": "stdout",
     "output_type": "stream",
     "text": [
      "epoch: 2, [batch: 10080 / 33600], examples_per_second: 3241.5874, train_label_loss: 0.1996, \n"
     ]
    },
    {
     "name": "stdout",
     "output_type": "stream",
     "text": [
      "epoch: 2, [batch: 13440 / 33600], examples_per_second: 3234.5036, train_label_loss: 0.1788, \n"
     ]
    },
    {
     "name": "stdout",
     "output_type": "stream",
     "text": [
      "epoch: 2, [batch: 16800 / 33600], examples_per_second: 3243.2277, train_label_loss: 0.3633, \n"
     ]
    },
    {
     "name": "stdout",
     "output_type": "stream",
     "text": [
      "epoch: 2, [batch: 20160 / 33600], examples_per_second: 3240.3657, train_label_loss: 0.3349, \n"
     ]
    },
    {
     "name": "stdout",
     "output_type": "stream",
     "text": [
      "epoch: 2, [batch: 23520 / 33600], examples_per_second: 3239.8271, train_label_loss: 0.1295, \n"
     ]
    },
    {
     "name": "stdout",
     "output_type": "stream",
     "text": [
      "epoch: 2, [batch: 26880 / 33600], examples_per_second: 3239.1640, train_label_loss: 0.1742, \n"
     ]
    },
    {
     "name": "stdout",
     "output_type": "stream",
     "text": [
      "epoch: 2, [batch: 30240 / 33600], examples_per_second: 3246.8103, train_label_loss: 0.1495, \n"
     ]
    },
    {
     "name": "stdout",
     "output_type": "stream",
     "text": [
      "=============================================================\n",
      "epoch: 2, source_val_acc_label: 0.8708, target_val_acc_label: 0.8472, source_val_label_loss: 0.3617, target_val_label_loss: 0.4454, \n",
      "=============================================================\n"
     ]
    },
    {
     "name": "stdout",
     "output_type": "stream",
     "text": [
      "New best\n"
     ]
    },
    {
     "name": "stdout",
     "output_type": "stream",
     "text": [
      "epoch: 3, [batch: 1 / 33600], examples_per_second: 0.9750, train_label_loss: 0.6030, \n"
     ]
    },
    {
     "name": "stdout",
     "output_type": "stream",
     "text": [
      "epoch: 3, [batch: 3360 / 33600], examples_per_second: 3239.9311, train_label_loss: 0.1302, \n"
     ]
    },
    {
     "name": "stdout",
     "output_type": "stream",
     "text": [
      "epoch: 3, [batch: 6720 / 33600], examples_per_second: 3249.8515, train_label_loss: 0.1401, \n"
     ]
    },
    {
     "name": "stdout",
     "output_type": "stream",
     "text": [
      "epoch: 3, [batch: 10080 / 33600], examples_per_second: 3258.0956, train_label_loss: 0.5813, \n"
     ]
    },
    {
     "name": "stdout",
     "output_type": "stream",
     "text": [
      "epoch: 3, [batch: 13440 / 33600], examples_per_second: 3234.3770, train_label_loss: 0.1810, \n"
     ]
    },
    {
     "name": "stdout",
     "output_type": "stream",
     "text": [
      "epoch: 3, [batch: 16800 / 33600], examples_per_second: 3239.7827, train_label_loss: 0.1858, \n"
     ]
    },
    {
     "name": "stdout",
     "output_type": "stream",
     "text": [
      "epoch: 3, [batch: 20160 / 33600], examples_per_second: 3243.9746, train_label_loss: 0.2037, \n"
     ]
    },
    {
     "name": "stdout",
     "output_type": "stream",
     "text": [
      "epoch: 3, [batch: 23520 / 33600], examples_per_second: 3237.0579, train_label_loss: 0.1526, \n"
     ]
    },
    {
     "name": "stdout",
     "output_type": "stream",
     "text": [
      "epoch: 3, [batch: 26880 / 33600], examples_per_second: 3249.6243, train_label_loss: 0.2583, \n"
     ]
    },
    {
     "name": "stdout",
     "output_type": "stream",
     "text": [
      "epoch: 3, [batch: 30240 / 33600], examples_per_second: 3249.5483, train_label_loss: 0.4198, \n"
     ]
    },
    {
     "name": "stdout",
     "output_type": "stream",
     "text": [
      "=============================================================\n",
      "epoch: 3, source_val_acc_label: 0.8819, target_val_acc_label: 0.8561, source_val_label_loss: 0.3369, target_val_label_loss: 0.4521, \n",
      "=============================================================\n"
     ]
    },
    {
     "name": "stdout",
     "output_type": "stream",
     "text": [
      "New best\n"
     ]
    },
    {
     "name": "stdout",
     "output_type": "stream",
     "text": [
      "epoch: 4, [batch: 1 / 33600], examples_per_second: 0.9722, train_label_loss: 0.9180, \n"
     ]
    },
    {
     "name": "stdout",
     "output_type": "stream",
     "text": [
      "epoch: 4, [batch: 3360 / 33600], examples_per_second: 3237.2383, train_label_loss: 0.3972, \n"
     ]
    },
    {
     "name": "stdout",
     "output_type": "stream",
     "text": [
      "epoch: 4, [batch: 6720 / 33600], examples_per_second: 3246.6390, train_label_loss: 0.1728, \n"
     ]
    },
    {
     "name": "stdout",
     "output_type": "stream",
     "text": [
      "epoch: 4, [batch: 10080 / 33600], examples_per_second: 3244.6521, train_label_loss: 0.2056, \n"
     ]
    },
    {
     "name": "stdout",
     "output_type": "stream",
     "text": [
      "epoch: 4, [batch: 13440 / 33600], examples_per_second: 3233.9697, train_label_loss: 0.4051, \n"
     ]
    },
    {
     "name": "stdout",
     "output_type": "stream",
     "text": [
      "epoch: 4, [batch: 16800 / 33600], examples_per_second: 3250.5943, train_label_loss: 0.2002, \n"
     ]
    },
    {
     "name": "stdout",
     "output_type": "stream",
     "text": [
      "epoch: 4, [batch: 20160 / 33600], examples_per_second: 3253.9259, train_label_loss: 0.2980, \n"
     ]
    },
    {
     "name": "stdout",
     "output_type": "stream",
     "text": [
      "epoch: 4, [batch: 23520 / 33600], examples_per_second: 3238.0810, train_label_loss: 0.2886, \n"
     ]
    },
    {
     "name": "stdout",
     "output_type": "stream",
     "text": [
      "epoch: 4, [batch: 26880 / 33600], examples_per_second: 3250.3575, train_label_loss: 0.1590, \n"
     ]
    },
    {
     "name": "stdout",
     "output_type": "stream",
     "text": [
      "epoch: 4, [batch: 30240 / 33600], examples_per_second: 3250.7489, train_label_loss: 0.4754, \n"
     ]
    },
    {
     "name": "stdout",
     "output_type": "stream",
     "text": [
      "=============================================================\n",
      "epoch: 4, source_val_acc_label: 0.8789, target_val_acc_label: 0.8488, source_val_label_loss: 0.3382, target_val_label_loss: 0.4801, \n",
      "=============================================================\n"
     ]
    },
    {
     "name": "stdout",
     "output_type": "stream",
     "text": [
      "epoch: 5, [batch: 1 / 33600], examples_per_second: 0.9723, train_label_loss: 0.4526, \n"
     ]
    },
    {
     "name": "stdout",
     "output_type": "stream",
     "text": [
      "epoch: 5, [batch: 3360 / 33600], examples_per_second: 3239.2947, train_label_loss: 0.1865, \n"
     ]
    },
    {
     "name": "stdout",
     "output_type": "stream",
     "text": [
      "epoch: 5, [batch: 6720 / 33600], examples_per_second: 3243.4147, train_label_loss: 0.0838, \n"
     ]
    },
    {
     "name": "stdout",
     "output_type": "stream",
     "text": [
      "epoch: 5, [batch: 10080 / 33600], examples_per_second: 3246.5386, train_label_loss: 0.3607, \n"
     ]
    },
    {
     "name": "stdout",
     "output_type": "stream",
     "text": [
      "epoch: 5, [batch: 13440 / 33600], examples_per_second: 3239.5416, train_label_loss: 0.1258, \n"
     ]
    },
    {
     "name": "stdout",
     "output_type": "stream",
     "text": [
      "epoch: 5, [batch: 16800 / 33600], examples_per_second: 3248.3194, train_label_loss: 0.2106, \n"
     ]
    },
    {
     "name": "stdout",
     "output_type": "stream",
     "text": [
      "epoch: 5, [batch: 20160 / 33600], examples_per_second: 3252.3908, train_label_loss: 0.1112, \n"
     ]
    },
    {
     "name": "stdout",
     "output_type": "stream",
     "text": [
      "epoch: 5, [batch: 23520 / 33600], examples_per_second: 3235.2588, train_label_loss: 0.2917, \n"
     ]
    },
    {
     "name": "stdout",
     "output_type": "stream",
     "text": [
      "epoch: 5, [batch: 26880 / 33600], examples_per_second: 3244.8388, train_label_loss: 0.1268, \n"
     ]
    },
    {
     "name": "stdout",
     "output_type": "stream",
     "text": [
      "epoch: 5, [batch: 30240 / 33600], examples_per_second: 3244.5236, train_label_loss: 0.1838, \n"
     ]
    },
    {
     "name": "stdout",
     "output_type": "stream",
     "text": [
      "=============================================================\n",
      "epoch: 5, source_val_acc_label: 0.8917, target_val_acc_label: 0.8588, source_val_label_loss: 0.3118, target_val_label_loss: 0.4663, \n",
      "=============================================================\n"
     ]
    },
    {
     "name": "stdout",
     "output_type": "stream",
     "text": [
      "New best\n"
     ]
    },
    {
     "name": "stdout",
     "output_type": "stream",
     "text": [
      "epoch: 6, [batch: 1 / 33600], examples_per_second: 0.9723, train_label_loss: 0.1825, \n"
     ]
    },
    {
     "name": "stdout",
     "output_type": "stream",
     "text": [
      "epoch: 6, [batch: 3360 / 33600], examples_per_second: 3235.2434, train_label_loss: 0.1471, \n"
     ]
    },
    {
     "name": "stdout",
     "output_type": "stream",
     "text": [
      "epoch: 6, [batch: 6720 / 33600], examples_per_second: 3248.2367, train_label_loss: 0.0154, \n"
     ]
    },
    {
     "name": "stdout",
     "output_type": "stream",
     "text": [
      "epoch: 6, [batch: 10080 / 33600], examples_per_second: 3255.0119, train_label_loss: 0.4423, \n"
     ]
    },
    {
     "name": "stdout",
     "output_type": "stream",
     "text": [
      "epoch: 6, [batch: 13440 / 33600], examples_per_second: 3231.9615, train_label_loss: 0.1908, \n"
     ]
    },
    {
     "name": "stdout",
     "output_type": "stream",
     "text": [
      "epoch: 6, [batch: 16800 / 33600], examples_per_second: 3251.5412, train_label_loss: 0.1300, \n"
     ]
    },
    {
     "name": "stdout",
     "output_type": "stream",
     "text": [
      "epoch: 6, [batch: 20160 / 33600], examples_per_second: 3251.6860, train_label_loss: 0.4137, \n"
     ]
    },
    {
     "name": "stdout",
     "output_type": "stream",
     "text": [
      "epoch: 6, [batch: 23520 / 33600], examples_per_second: 3243.5869, train_label_loss: 0.4715, \n"
     ]
    },
    {
     "name": "stdout",
     "output_type": "stream",
     "text": [
      "epoch: 6, [batch: 26880 / 33600], examples_per_second: 3247.8752, train_label_loss: 0.4178, \n"
     ]
    },
    {
     "name": "stdout",
     "output_type": "stream",
     "text": [
      "epoch: 6, [batch: 30240 / 33600], examples_per_second: 3248.9072, train_label_loss: 0.0517, \n"
     ]
    },
    {
     "name": "stdout",
     "output_type": "stream",
     "text": [
      "=============================================================\n",
      "epoch: 6, source_val_acc_label: 0.8916, target_val_acc_label: 0.8564, source_val_label_loss: 0.3277, target_val_label_loss: 0.4813, \n",
      "=============================================================\n"
     ]
    },
    {
     "name": "stdout",
     "output_type": "stream",
     "text": [
      "epoch: 7, [batch: 1 / 33600], examples_per_second: 0.9709, train_label_loss: 0.1907, \n"
     ]
    },
    {
     "name": "stdout",
     "output_type": "stream",
     "text": [
      "epoch: 7, [batch: 3360 / 33600], examples_per_second: 3239.4435, train_label_loss: 0.1222, \n"
     ]
    },
    {
     "name": "stdout",
     "output_type": "stream",
     "text": [
      "epoch: 7, [batch: 6720 / 33600], examples_per_second: 3247.0269, train_label_loss: 0.2131, \n"
     ]
    },
    {
     "name": "stdout",
     "output_type": "stream",
     "text": [
      "epoch: 7, [batch: 10080 / 33600], examples_per_second: 3244.7895, train_label_loss: 0.1666, \n"
     ]
    },
    {
     "name": "stdout",
     "output_type": "stream",
     "text": [
      "epoch: 7, [batch: 13440 / 33600], examples_per_second: 3236.1002, train_label_loss: 0.0078, \n"
     ]
    },
    {
     "name": "stdout",
     "output_type": "stream",
     "text": [
      "epoch: 7, [batch: 16800 / 33600], examples_per_second: 3247.6257, train_label_loss: 0.1255, \n"
     ]
    },
    {
     "name": "stdout",
     "output_type": "stream",
     "text": [
      "epoch: 7, [batch: 20160 / 33600], examples_per_second: 3253.1354, train_label_loss: 0.2718, \n"
     ]
    },
    {
     "name": "stdout",
     "output_type": "stream",
     "text": [
      "epoch: 7, [batch: 23520 / 33600], examples_per_second: 3237.4403, train_label_loss: 0.4100, \n"
     ]
    },
    {
     "name": "stdout",
     "output_type": "stream",
     "text": [
      "epoch: 7, [batch: 26880 / 33600], examples_per_second: 3245.0302, train_label_loss: 0.1752, \n"
     ]
    },
    {
     "name": "stdout",
     "output_type": "stream",
     "text": [
      "epoch: 7, [batch: 30240 / 33600], examples_per_second: 3251.7822, train_label_loss: 0.1393, \n"
     ]
    },
    {
     "name": "stdout",
     "output_type": "stream",
     "text": [
      "=============================================================\n",
      "epoch: 7, source_val_acc_label: 0.8945, target_val_acc_label: 0.8594, source_val_label_loss: 0.3109, target_val_label_loss: 0.4783, \n",
      "=============================================================\n"
     ]
    },
    {
     "name": "stdout",
     "output_type": "stream",
     "text": [
      "New best\n"
     ]
    },
    {
     "name": "stdout",
     "output_type": "stream",
     "text": [
      "epoch: 8, [batch: 1 / 33600], examples_per_second: 0.9747, train_label_loss: 0.0065, \n"
     ]
    },
    {
     "name": "stdout",
     "output_type": "stream",
     "text": [
      "epoch: 8, [batch: 3360 / 33600], examples_per_second: 3241.2095, train_label_loss: 0.1741, \n"
     ]
    },
    {
     "name": "stdout",
     "output_type": "stream",
     "text": [
      "epoch: 8, [batch: 6720 / 33600], examples_per_second: 3252.7915, train_label_loss: 0.1074, \n"
     ]
    },
    {
     "name": "stdout",
     "output_type": "stream",
     "text": [
      "epoch: 8, [batch: 10080 / 33600], examples_per_second: 3244.4156, train_label_loss: 0.4308, \n"
     ]
    },
    {
     "name": "stdout",
     "output_type": "stream",
     "text": [
      "epoch: 8, [batch: 13440 / 33600], examples_per_second: 3233.9065, train_label_loss: 0.1035, \n"
     ]
    },
    {
     "name": "stdout",
     "output_type": "stream",
     "text": [
      "epoch: 8, [batch: 16800 / 33600], examples_per_second: 3248.4070, train_label_loss: 0.2271, \n"
     ]
    },
    {
     "name": "stdout",
     "output_type": "stream",
     "text": [
      "epoch: 8, [batch: 20160 / 33600], examples_per_second: 3253.1137, train_label_loss: 0.0549, \n"
     ]
    },
    {
     "name": "stdout",
     "output_type": "stream",
     "text": [
      "epoch: 8, [batch: 23520 / 33600], examples_per_second: 3246.3964, train_label_loss: 0.2195, \n"
     ]
    },
    {
     "name": "stdout",
     "output_type": "stream",
     "text": [
      "epoch: 8, [batch: 26880 / 33600], examples_per_second: 3249.2174, train_label_loss: 0.3262, \n"
     ]
    },
    {
     "name": "stdout",
     "output_type": "stream",
     "text": [
      "epoch: 8, [batch: 30240 / 33600], examples_per_second: 3251.1873, train_label_loss: 0.3349, \n"
     ]
    },
    {
     "name": "stdout",
     "output_type": "stream",
     "text": [
      "=============================================================\n",
      "epoch: 8, source_val_acc_label: 0.8928, target_val_acc_label: 0.8560, source_val_label_loss: 0.3096, target_val_label_loss: 0.4721, \n",
      "=============================================================\n"
     ]
    },
    {
     "name": "stdout",
     "output_type": "stream",
     "text": [
      "epoch: 9, [batch: 1 / 33600], examples_per_second: 0.9714, train_label_loss: 0.0991, \n"
     ]
    },
    {
     "name": "stdout",
     "output_type": "stream",
     "text": [
      "epoch: 9, [batch: 3360 / 33600], examples_per_second: 3246.7938, train_label_loss: 0.0985, \n"
     ]
    },
    {
     "name": "stdout",
     "output_type": "stream",
     "text": [
      "epoch: 9, [batch: 6720 / 33600], examples_per_second: 3252.6584, train_label_loss: 0.0458, \n"
     ]
    },
    {
     "name": "stdout",
     "output_type": "stream",
     "text": [
      "epoch: 9, [batch: 10080 / 33600], examples_per_second: 3250.7473, train_label_loss: 0.0816, \n"
     ]
    },
    {
     "name": "stdout",
     "output_type": "stream",
     "text": [
      "epoch: 9, [batch: 13440 / 33600], examples_per_second: 3241.1218, train_label_loss: 0.0110, \n"
     ]
    },
    {
     "name": "stdout",
     "output_type": "stream",
     "text": [
      "epoch: 9, [batch: 16800 / 33600], examples_per_second: 3248.1790, train_label_loss: 0.0538, \n"
     ]
    },
    {
     "name": "stdout",
     "output_type": "stream",
     "text": [
      "epoch: 9, [batch: 20160 / 33600], examples_per_second: 3238.6202, train_label_loss: 0.0744, \n"
     ]
    },
    {
     "name": "stdout",
     "output_type": "stream",
     "text": [
      "epoch: 9, [batch: 23520 / 33600], examples_per_second: 3237.4891, train_label_loss: 0.1017, \n"
     ]
    },
    {
     "name": "stdout",
     "output_type": "stream",
     "text": [
      "epoch: 9, [batch: 26880 / 33600], examples_per_second: 3253.2629, train_label_loss: 0.6111, \n"
     ]
    },
    {
     "name": "stdout",
     "output_type": "stream",
     "text": [
      "epoch: 9, [batch: 30240 / 33600], examples_per_second: 3254.1287, train_label_loss: 0.2476, \n"
     ]
    },
    {
     "name": "stdout",
     "output_type": "stream",
     "text": [
      "=============================================================\n",
      "epoch: 9, source_val_acc_label: 0.8886, target_val_acc_label: 0.8521, source_val_label_loss: 0.3174, target_val_label_loss: 0.4888, \n",
      "=============================================================\n"
     ]
    },
    {
     "name": "stdout",
     "output_type": "stream",
     "text": [
      "epoch: 10, [batch: 1 / 33600], examples_per_second: 0.9697, train_label_loss: 0.2156, \n"
     ]
    },
    {
     "name": "stdout",
     "output_type": "stream",
     "text": [
      "epoch: 10, [batch: 3360 / 33600], examples_per_second: 3232.0720, train_label_loss: 0.2128, \n"
     ]
    },
    {
     "name": "stdout",
     "output_type": "stream",
     "text": [
      "epoch: 10, [batch: 6720 / 33600], examples_per_second: 3249.8103, train_label_loss: 0.4257, \n"
     ]
    },
    {
     "name": "stdout",
     "output_type": "stream",
     "text": [
      "epoch: 10, [batch: 10080 / 33600], examples_per_second: 3246.2771, train_label_loss: 0.5447, \n"
     ]
    },
    {
     "name": "stdout",
     "output_type": "stream",
     "text": [
      "epoch: 10, [batch: 13440 / 33600], examples_per_second: 3233.0681, train_label_loss: 0.3409, \n"
     ]
    },
    {
     "name": "stdout",
     "output_type": "stream",
     "text": [
      "epoch: 10, [batch: 16800 / 33600], examples_per_second: 3243.7511, train_label_loss: 0.2367, \n"
     ]
    },
    {
     "name": "stdout",
     "output_type": "stream",
     "text": [
      "epoch: 10, [batch: 20160 / 33600], examples_per_second: 3246.6353, train_label_loss: 0.2224, \n"
     ]
    },
    {
     "name": "stdout",
     "output_type": "stream",
     "text": [
      "epoch: 10, [batch: 23520 / 33600], examples_per_second: 3233.1086, train_label_loss: 0.3178, \n"
     ]
    },
    {
     "name": "stdout",
     "output_type": "stream",
     "text": [
      "epoch: 10, [batch: 26880 / 33600], examples_per_second: 3250.2091, train_label_loss: 0.3486, \n"
     ]
    },
    {
     "name": "stdout",
     "output_type": "stream",
     "text": [
      "epoch: 10, [batch: 30240 / 33600], examples_per_second: 3251.7837, train_label_loss: 0.3172, \n"
     ]
    },
    {
     "name": "stdout",
     "output_type": "stream",
     "text": [
      "=============================================================\n",
      "epoch: 10, source_val_acc_label: 0.8964, target_val_acc_label: 0.8567, source_val_label_loss: 0.3218, target_val_label_loss: 0.5369, \n",
      "=============================================================\n"
     ]
    },
    {
     "name": "stdout",
     "output_type": "stream",
     "text": [
      "epoch: 11, [batch: 1 / 33600], examples_per_second: 0.9693, train_label_loss: 0.1600, \n"
     ]
    },
    {
     "name": "stdout",
     "output_type": "stream",
     "text": [
      "epoch: 11, [batch: 3360 / 33600], examples_per_second: 3242.7095, train_label_loss: 0.7902, \n"
     ]
    },
    {
     "name": "stdout",
     "output_type": "stream",
     "text": [
      "epoch: 11, [batch: 6720 / 33600], examples_per_second: 3241.3002, train_label_loss: 0.0947, \n"
     ]
    },
    {
     "name": "stdout",
     "output_type": "stream",
     "text": [
      "epoch: 11, [batch: 10080 / 33600], examples_per_second: 3248.8558, train_label_loss: 0.1616, \n"
     ]
    },
    {
     "name": "stdout",
     "output_type": "stream",
     "text": [
      "epoch: 11, [batch: 13440 / 33600], examples_per_second: 3242.0478, train_label_loss: 0.1624, \n"
     ]
    },
    {
     "name": "stdout",
     "output_type": "stream",
     "text": [
      "epoch: 11, [batch: 16800 / 33600], examples_per_second: 3241.4994, train_label_loss: 0.0053, \n"
     ]
    },
    {
     "name": "stdout",
     "output_type": "stream",
     "text": [
      "epoch: 11, [batch: 20160 / 33600], examples_per_second: 3246.2446, train_label_loss: 0.0332, \n"
     ]
    },
    {
     "name": "stdout",
     "output_type": "stream",
     "text": [
      "epoch: 11, [batch: 23520 / 33600], examples_per_second: 3237.8760, train_label_loss: 0.0012, \n"
     ]
    },
    {
     "name": "stdout",
     "output_type": "stream",
     "text": [
      "epoch: 11, [batch: 26880 / 33600], examples_per_second: 3247.7641, train_label_loss: 0.0025, \n"
     ]
    },
    {
     "name": "stdout",
     "output_type": "stream",
     "text": [
      "epoch: 11, [batch: 30240 / 33600], examples_per_second: 3244.8438, train_label_loss: 0.4284, \n"
     ]
    },
    {
     "name": "stdout",
     "output_type": "stream",
     "text": [
      "=============================================================\n",
      "epoch: 11, source_val_acc_label: 0.8934, target_val_acc_label: 0.8561, source_val_label_loss: 0.3170, target_val_label_loss: 0.4999, \n",
      "=============================================================\n"
     ]
    },
    {
     "name": "stdout",
     "output_type": "stream",
     "text": [
      "Patience (3) exhausted\n"
     ]
    }
   ],
   "source": [
    "###################################\n",
    "# train\n",
    "###################################\n",
    "jig = PTN_Train_Eval_Test_Jig(model, p.BEST_MODEL_PATH, p.device)\n",
    "\n",
    "jig.train(\n",
    "    train_iterable=datasets.source.processed.train,\n",
    "    source_val_iterable=datasets.source.processed.val,\n",
    "    target_val_iterable=datasets.target.processed.val,\n",
    "    num_epochs=p.n_epoch,\n",
    "    num_logs_per_epoch=p.NUM_LOGS_PER_EPOCH,\n",
    "    patience=p.patience,\n",
    "    optimizer=optimizer,\n",
    "    criteria_for_best=p.criteria_for_best,\n",
    ")"
   ]
  },
  {
   "cell_type": "code",
   "execution_count": 23,
   "id": "31e8fabf",
   "metadata": {
    "execution": {
     "iopub.execute_input": "2022-03-27T12:29:32.528523Z",
     "iopub.status.busy": "2022-03-27T12:29:32.528159Z",
     "iopub.status.idle": "2022-03-27T12:29:32.545027Z",
     "shell.execute_reply": "2022-03-27T12:29:32.544739Z"
    },
    "papermill": {
     "duration": 0.05575,
     "end_time": "2022-03-27T12:29:32.545092",
     "exception": false,
     "start_time": "2022-03-27T12:29:32.489342",
     "status": "completed"
    },
    "tags": []
   },
   "outputs": [],
   "source": [
    "total_experiment_time_secs = time.time() - start_time_secs"
   ]
  },
  {
   "cell_type": "code",
   "execution_count": 24,
   "id": "87b9595b",
   "metadata": {
    "execution": {
     "iopub.execute_input": "2022-03-27T12:29:32.623278Z",
     "iopub.status.busy": "2022-03-27T12:29:32.622851Z",
     "iopub.status.idle": "2022-03-27T12:37:31.614244Z",
     "shell.execute_reply": "2022-03-27T12:37:31.614646Z"
    },
    "papermill": {
     "duration": 479.032544,
     "end_time": "2022-03-27T12:37:31.614776",
     "exception": false,
     "start_time": "2022-03-27T12:29:32.582232",
     "status": "completed"
    },
    "tags": []
   },
   "outputs": [],
   "source": [
    "###################################\n",
    "# Evaluate the model\n",
    "###################################\n",
    "source_test_label_accuracy, source_test_label_loss = jig.test(datasets.source.processed.test)\n",
    "target_test_label_accuracy, target_test_label_loss = jig.test(datasets.target.processed.test)\n",
    "\n",
    "source_val_label_accuracy, source_val_label_loss = jig.test(datasets.source.processed.val)\n",
    "target_val_label_accuracy, target_val_label_loss = jig.test(datasets.target.processed.val)\n",
    "\n",
    "history = jig.get_history()\n",
    "\n",
    "total_epochs_trained = len(history[\"epoch_indices\"])\n",
    "\n",
    "val_dl = Iterable_Aggregator((datasets.source.original.val,datasets.target.original.val))\n",
    "\n",
    "confusion = ptn_confusion_by_domain_over_dataloader(model, p.device, val_dl)\n",
    "per_domain_accuracy = per_domain_accuracy_from_confusion(confusion)\n",
    "\n",
    "# Add a key to per_domain_accuracy for if it was a source domain\n",
    "for domain, accuracy in per_domain_accuracy.items():\n",
    "    per_domain_accuracy[domain] = {\n",
    "        \"accuracy\": accuracy,\n",
    "        \"source?\": domain in p.domains_source\n",
    "    }\n",
    "\n",
    "# Do an independent accuracy assesment JUST TO BE SURE!\n",
    "# _source_test_label_accuracy = independent_accuracy_assesment(model, datasets.source.processed.test, p.device)\n",
    "# _target_test_label_accuracy = independent_accuracy_assesment(model, datasets.target.processed.test, p.device)\n",
    "# _source_val_label_accuracy = independent_accuracy_assesment(model, datasets.source.processed.val, p.device)\n",
    "# _target_val_label_accuracy = independent_accuracy_assesment(model, datasets.target.processed.val, p.device)\n",
    "\n",
    "# assert(_source_test_label_accuracy == source_test_label_accuracy)\n",
    "# assert(_target_test_label_accuracy == target_test_label_accuracy)\n",
    "# assert(_source_val_label_accuracy == source_val_label_accuracy)\n",
    "# assert(_target_val_label_accuracy == target_val_label_accuracy)\n",
    "\n",
    "experiment = {\n",
    "    \"experiment_name\": p.experiment_name,\n",
    "    \"parameters\": dict(p),\n",
    "    \"results\": {\n",
    "        \"source_test_label_accuracy\": source_test_label_accuracy,\n",
    "        \"source_test_label_loss\": source_test_label_loss,\n",
    "        \"target_test_label_accuracy\": target_test_label_accuracy,\n",
    "        \"target_test_label_loss\": target_test_label_loss,\n",
    "        \"source_val_label_accuracy\": source_val_label_accuracy,\n",
    "        \"source_val_label_loss\": source_val_label_loss,\n",
    "        \"target_val_label_accuracy\": target_val_label_accuracy,\n",
    "        \"target_val_label_loss\": target_val_label_loss,\n",
    "        \"total_epochs_trained\": total_epochs_trained,\n",
    "        \"total_experiment_time_secs\": total_experiment_time_secs,\n",
    "        \"confusion\": confusion,\n",
    "        \"per_domain_accuracy\": per_domain_accuracy,\n",
    "    },\n",
    "    \"history\": history,\n",
    "    \"dataset_metrics\": get_dataset_metrics(datasets, \"ptn\"),\n",
    "}"
   ]
  },
  {
   "cell_type": "code",
   "execution_count": 25,
   "id": "54a21829",
   "metadata": {
    "execution": {
     "iopub.execute_input": "2022-03-27T12:37:31.694978Z",
     "iopub.status.busy": "2022-03-27T12:37:31.694726Z",
     "iopub.status.idle": "2022-03-27T12:37:31.818989Z",
     "shell.execute_reply": "2022-03-27T12:37:31.818528Z"
    },
    "papermill": {
     "duration": 0.162719,
     "end_time": "2022-03-27T12:37:31.819079",
     "exception": false,
     "start_time": "2022-03-27T12:37:31.656360",
     "status": "completed"
    },
    "tags": []
   },
   "outputs": [
    {
     "data": {
      "image/png": "[encoded data removed]",
      "text/plain": [
       "<Figure size 1080x504 with 1 Axes>"
      ]
     },
     "metadata": {
      "needs_background": "light"
     },
     "output_type": "display_data"
    }
   ],
   "source": [
    "ax = get_loss_curve(experiment)\n",
    "plt.show()"
   ]
  },
  {
   "cell_type": "code",
   "execution_count": 26,
   "id": "fd8a0f60",
   "metadata": {
    "execution": {
     "iopub.execute_input": "2022-03-27T12:37:31.901425Z",
     "iopub.status.busy": "2022-03-27T12:37:31.901177Z",
     "iopub.status.idle": "2022-03-27T12:37:32.043051Z",
     "shell.execute_reply": "2022-03-27T12:37:32.042825Z"
    },
    "papermill": {
     "duration": 0.181521,
     "end_time": "2022-03-27T12:37:32.043102",
     "exception": false,
     "start_time": "2022-03-27T12:37:31.861581",
     "status": "completed"
    },
    "tags": []
   },
   "outputs": [
    {
     "data": {
      "text/plain": [
       "<AxesSubplot:title={'center':'Results'}>"
      ]
     },
     "execution_count": 26,
     "metadata": {},
     "output_type": "execute_result"
    },
    {
     "data": {
      "image/png": "[encoded data removed]",
      "text/plain": [
       "<Figure size 1080x504 with 1 Axes>"
      ]
     },
     "metadata": {
      "needs_background": "light"
     },
     "output_type": "display_data"
    }
   ],
   "source": [
    "get_results_table(experiment)"
   ]
  },
  {
   "cell_type": "code",
   "execution_count": 27,
   "id": "cf8dc689",
   "metadata": {
    "execution": {
     "iopub.execute_input": "2022-03-27T12:37:32.124222Z",
     "iopub.status.busy": "2022-03-27T12:37:32.123968Z",
     "iopub.status.idle": "2022-03-27T12:37:32.282473Z",
     "shell.execute_reply": "2022-03-27T12:37:32.282055Z"
    },
    "papermill": {
     "duration": 0.199565,
     "end_time": "2022-03-27T12:37:32.282563",
     "exception": false,
     "start_time": "2022-03-27T12:37:32.082998",
     "status": "completed"
    },
    "tags": []
   },
   "outputs": [
    {
     "data": {
      "text/plain": [
       "<AxesSubplot:title={'center':'Per Domain Validation Accuracy'}, xlabel='domain'>"
      ]
     },
     "execution_count": 27,
     "metadata": {},
     "output_type": "execute_result"
    },
    {
     "data": {
      "image/png": "[encoded data removed]",
      "text/plain": [
       "<Figure size 1080x504 with 1 Axes>"
      ]
     },
     "metadata": {
      "needs_background": "light"
     },
     "output_type": "display_data"
    }
   ],
   "source": [
    "get_domain_accuracies(experiment)"
   ]
  },
  {
   "cell_type": "code",
   "execution_count": 28,
   "id": "a74ae082",
   "metadata": {
    "execution": {
     "iopub.execute_input": "2022-03-27T12:37:32.368270Z",
     "iopub.status.busy": "2022-03-27T12:37:32.368017Z",
     "iopub.status.idle": "2022-03-27T12:37:32.384210Z",
     "shell.execute_reply": "2022-03-27T12:37:32.384411Z"
    },
    "papermill": {
     "duration": 0.05866,
     "end_time": "2022-03-27T12:37:32.384468",
     "exception": false,
     "start_time": "2022-03-27T12:37:32.325808",
     "status": "completed"
    },
    "tags": []
   },
   "outputs": [
    {
     "name": "stdout",
     "output_type": "stream",
     "text": [
      "Source Test Label Accuracy: 0.8953385416666667 Target Test Label Accuracy: 0.8602278645833333\n",
      "Source Val Label Accuracy: 0.8944856770833334 Target Val Label Accuracy: 0.8594401041666667\n"
     ]
    }
   ],
   "source": [
    "print(\"Source Test Label Accuracy:\", experiment[\"results\"][\"source_test_label_accuracy\"], \"Target Test Label Accuracy:\", experiment[\"results\"][\"target_test_label_accuracy\"])\n",
    "print(\"Source Val Label Accuracy:\", experiment[\"results\"][\"source_val_label_accuracy\"], \"Target Val Label Accuracy:\", experiment[\"results\"][\"target_val_label_accuracy\"])"
   ]
  },
  {
   "cell_type": "code",
   "execution_count": 29,
   "id": "dacca602",
   "metadata": {
    "execution": {
     "iopub.execute_input": "2022-03-27T12:37:32.468580Z",
     "iopub.status.busy": "2022-03-27T12:37:32.468332Z",
     "iopub.status.idle": "2022-03-27T12:37:32.480276Z",
     "shell.execute_reply": "2022-03-27T12:37:32.479855Z"
    },
    "papermill": {
     "duration": 0.05349,
     "end_time": "2022-03-27T12:37:32.480366",
     "exception": false,
     "start_time": "2022-03-27T12:37:32.426876",
     "status": "completed"
    },
    "tags": [
     "experiment_json"
    ]
   },
   "outputs": [
    {
     "data": {
      "text/plain": [
       "'{\"experiment_name\": \"tl_1v2:oracle.run1-oracle.run2\", \"parameters\": {\"experiment_name\": \"tl_1v2:oracle.run1-oracle.run2\", \"device\": \"cuda\", \"lr\": 0.0001, \"n_shot\": 3, \"n_query\": 2, \"train_k_factor\": 3, \"val_k_factor\": 2, \"test_k_factor\": 2, \"torch_default_dtype\": \"torch.float32\", \"n_epoch\": 50, \"patience\": 3, \"criteria_for_best\": \"target_accuracy\", \"x_net\": [{\"class\": \"nnReshape\", \"kargs\": {\"shape\": [-1, 1, 2, 256]}}, {\"class\": \"Conv2d\", \"kargs\": {\"in_channels\": 1, \"out_channels\": 256, \"kernel_size\": [1, 7], \"bias\": false, \"padding\": [0, 3]}}, {\"class\": \"ReLU\", \"kargs\": {\"inplace\": true}}, {\"class\": \"BatchNorm2d\", \"kargs\": {\"num_features\": 256}}, {\"class\": \"Conv2d\", \"kargs\": {\"in_channels\": 256, \"out_channels\": 80, \"kernel_size\": [2, 7], \"bias\": true, \"padding\": [0, 3]}}, {\"class\": \"ReLU\", \"kargs\": {\"inplace\": true}}, {\"class\": \"BatchNorm2d\", \"kargs\": {\"num_features\": 80}}, {\"class\": \"Flatten\", \"kargs\": {}}, {\"class\": \"Linear\", \"kargs\": {\"in_features\": 20480, \"out_features\": 256}}, {\"class\": \"ReLU\", \"kargs\": {\"inplace\": true}}, {\"class\": \"BatchNorm1d\", \"kargs\": {\"num_features\": 256}}, {\"class\": \"Linear\", \"kargs\": {\"in_features\": 256, \"out_features\": 256}}], \"NUM_LOGS_PER_EPOCH\": 10, \"BEST_MODEL_PATH\": \"./best_model.pth\", \"n_way\": 16, \"datasets\": [{\"labels\": [\"3123D52\", \"3123D65\", \"3123D79\", \"3123D80\", \"3123D54\", \"3123D70\", \"3123D7B\", \"3123D89\", \"3123D58\", \"3123D76\", \"3123D7D\", \"3123EFE\", \"3123D64\", \"3123D78\", \"3123D7E\", \"3124E4A\"], \"domains\": [32, 38, 8, 44, 14, 50, 20, 26], \"num_examples_per_domain_per_label\": 10000, \"pickle_path\": \"/mnt/wd500GB/CSC500/csc500-main/datasets/oracle.Run1_10kExamples_stratified_ds.2022A.pkl\", \"source_or_target_dataset\": \"target\", \"x_transforms\": [], \"episode_transforms\": [], \"domain_prefix\": \"ORACLE.run1_\"}, {\"labels\": [\"3123D52\", \"3123D65\", \"3123D79\", \"3123D80\", \"3123D54\", \"3123D70\", \"3123D7B\", \"3123D89\", \"3123D58\", \"3123D76\", \"3123D7D\", \"3123EFE\", \"3123D64\", \"3123D78\", \"3123D7E\", \"3124E4A\"], \"domains\": [32, 38, 8, 44, 14, 50, 20, 26], \"num_examples_per_domain_per_label\": 10000, \"pickle_path\": \"/mnt/wd500GB/CSC500/csc500-main/datasets/oracle.Run2_10kExamples_stratified_ds.2022A.pkl\", \"source_or_target_dataset\": \"source\", \"x_transforms\": [], \"episode_transforms\": [], \"domain_prefix\": \"ORACLE.run2_\"}], \"dataset_seed\": 154325, \"seed\": 154325, \"x_shape\": [2, 256], \"domains_source\": [\"ORACLE.run2_32\", \"ORACLE.run2_38\", \"ORACLE.run2_8\", \"ORACLE.run2_44\", \"ORACLE.run2_14\", \"ORACLE.run2_50\", \"ORACLE.run2_20\", \"ORACLE.run2_26\"], \"domains_target\": [\"ORACLE.run1_32\", \"ORACLE.run1_38\", \"ORACLE.run1_8\", \"ORACLE.run1_44\", \"ORACLE.run1_14\", \"ORACLE.run1_50\", \"ORACLE.run1_20\", \"ORACLE.run1_26\"]}, \"results\": {\"source_test_label_accuracy\": 0.8953385416666667, \"source_test_label_loss\": 0.31209006905555725, \"target_test_label_accuracy\": 0.8602278645833333, \"target_test_label_loss\": 0.48013606667518616, \"source_val_label_accuracy\": 0.8944856770833334, \"source_val_label_loss\": 0.3109188377857208, \"target_val_label_accuracy\": 0.8594401041666667, \"target_val_label_loss\": 0.47832414507865906, \"total_epochs_trained\": 11, \"total_experiment_time_secs\": 10074.171733617783, \"confusion\": {\"ORACLE.run2_8\": {\"13\": {\"13\": 1146, \"10\": 44, \"7\": 7, \"1\": 3}, \"9\": {\"9\": 1200}, \"15\": {\"15\": 1184, \"12\": 16}, \"2\": {\"2\": 1199, \"15\": 1}, \"3\": {\"3\": 1200}, \"8\": {\"8\": 1063, \"11\": 107, \"6\": 27, \"14\": 1, \"4\": 2}, \"5\": {\"5\": 1066, \"10\": 112, \"1\": 22}, \"14\": {\"14\": 1116, \"6\": 79, \"1\": 4, \"4\": 1}, \"1\": {\"1\": 1144, \"5\": 31, \"13\": 15, \"10\": 8, \"14\": 2}, \"0\": {\"0\": 1200}, \"10\": {\"10\": 1063, \"5\": 90, \"13\": 46, \"1\": 1}, \"6\": {\"6\": 1077, \"8\": 14, \"4\": 16, \"14\": 92, \"11\": 1}, \"11\": {\"8\": 236, \"11\": 964}, \"7\": {\"7\": 1090, \"10\": 1, \"4\": 106, \"13\": 2, \"8\": 1}, \"4\": {\"4\": 996, \"7\": 192, \"10\": 1, \"6\": 8, \"14\": 1, \"13\": 2}, \"12\": {\"12\": 1193, \"15\": 7}}, \"ORACLE.run2_38\": {\"13\": {\"13\": 971, \"3\": 173, \"10\": 56}, \"12\": {\"12\": 1199, \"2\": 1}, \"2\": {\"2\": 1149, \"14\": 51}, \"9\": {\"9\": 1200}, \"15\": {\"15\": 940, \"5\": 5, \"6\": 46, \"1\": 209}, \"5\": {\"5\": 784, \"8\": 406, \"12\": 3, \"7\": 1, \"15\": 3, \"9\": 1, \"1\": 1, \"14\": 1}, \"14\": {\"14\": 749, \"4\": 35, \"2\": 306, \"10\": 3, \"7\": 52, \"12\": 43, \"8\": 7, \"5\": 4, \"13\": 1}, \"0\": {\"0\": 1172, \"7\": 28}, \"3\": {\"3\": 881, \"13\": 245, \"10\": 74}, \"1\": {\"1\": 1134, \"15\": 66}, \"11\": {\"11\": 1200}, \"7\": {\"7\": 1185, \"0\": 9, \"8\": 5, \"14\": 1}, \"8\": {\"8\": 1117, \"5\": 77, \"7\": 6}, \"4\": {\"4\": 1190, \"10\": 10}, \"10\": {\"10\": 1134, \"13\": 45, \"3\": 19, \"4\": 2}, \"6\": {\"6\": 1195, \"15\": 4, \"1\": 1}}, \"ORACLE.run2_26\": {\"10\": {\"14\": 240, \"0\": 287, \"6\": 43, \"10\": 477, \"1\": 43, \"8\": 67, \"15\": 25, \"2\": 4, \"9\": 9, \"5\": 5}, \"12\": {\"12\": 1200}, \"1\": {\"1\": 1172, \"14\": 14, \"5\": 5, \"6\": 6, \"10\": 3}, \"0\": {\"10\": 239, \"14\": 163, \"0\": 748, \"15\": 36, \"8\": 10, \"2\": 4}, \"15\": {\"15\": 1106, \"0\": 32, \"8\": 18, \"2\": 29, \"14\": 5, \"10\": 7, \"5\": 3}, \"13\": {\"13\": 1132, \"9\": 49, \"7\": 19}, \"8\": {\"8\": 908, \"0\": 4, \"2\": 173, \"15\": 3, \"9\": 101, \"10\": 9, \"7\": 2}, \"3\": {\"3\": 1072, \"7\": 126, \"4\": 1, \"2\": 1}, \"11\": {\"11\": 1200}, \"4\": {\"4\": 1197, \"3\": 3}, \"6\": {\"6\": 1062, \"5\": 129, \"14\": 4, \"1\": 4, \"10\": 1}, \"7\": {\"2\": 98, \"7\": 863, \"3\": 156, \"13\": 30, \"9\": 45, \"8\": 8}, \"14\": {\"14\": 842, \"10\": 136, \"5\": 9, \"0\": 147, \"1\": 52, \"15\": 2, \"6\": 12}, \"2\": {\"2\": 895, \"3\": 1, \"8\": 192, \"9\": 68, \"15\": 7, \"7\": 37}, \"5\": {\"5\": 870, \"6\": 293, \"15\": 14, \"14\": 7, \"1\": 14, \"10\": 2}, \"9\": {\"9\": 874, \"13\": 59, \"2\": 65, \"7\": 68, \"8\": 133, \"3\": 1}}, \"ORACLE.run2_20\": {\"5\": {\"5\": 616, \"3\": 97, \"2\": 245, \"9\": 114, \"1\": 100, \"0\": 6, \"15\": 16, \"8\": 1, \"4\": 5}, \"15\": {\"15\": 792, \"9\": 226, \"2\": 91, \"5\": 18, \"3\": 23, \"12\": 21, \"4\": 6, \"13\": 16, \"1\": 7}, \"9\": {\"4\": 11, \"2\": 320, \"3\": 132, \"9\": 453, \"15\": 200, \"5\": 81, \"1\": 3}, \"7\": {\"7\": 1074, \"4\": 3, \"3\": 103, \"9\": 4, \"6\": 6, \"2\": 5, \"10\": 4, \"5\": 1}, \"3\": {\"4\": 67, \"3\": 657, \"7\": 116, \"15\": 44, \"9\": 133, \"5\": 77, \"2\": 104, \"12\": 2}, \"8\": {\"14\": 76, \"8\": 1115, \"0\": 9}, \"4\": {\"4\": 1091, \"2\": 4, \"7\": 11, \"3\": 64, \"9\": 12, \"12\": 8, \"10\": 6, \"15\": 3, \"5\": 1}, \"6\": {\"6\": 1171, \"7\": 13, \"10\": 16}, \"2\": {\"2\": 517, \"5\": 207, \"9\": 293, \"3\": 98, \"15\": 76, \"7\": 1, \"1\": 7, \"4\": 1}, \"12\": {\"12\": 1139, \"13\": 59, \"4\": 2}, \"0\": {\"0\": 1191, \"1\": 5, \"8\": 3, \"5\": 1}, \"13\": {\"13\": 1105, \"12\": 90, \"15\": 5}, \"10\": {\"10\": 1143, \"6\": 40, \"7\": 12, \"4\": 5}, \"11\": {\"11\": 1200}, \"14\": {\"14\": 1084, \"8\": 115, \"7\": 1}, \"1\": {\"1\": 1143, \"2\": 8, \"5\": 43, \"0\": 2, \"15\": 2, \"9\": 2}}, \"ORACLE.run2_50\": {\"1\": {\"1\": 1198, \"13\": 2}, \"2\": {\"2\": 1193, \"0\": 7}, \"8\": {\"8\": 1200}, \"7\": {\"7\": 1121, \"5\": 20, \"4\": 59}, \"14\": {\"14\": 1200}, \"6\": {\"6\": 1133, \"5\": 36, \"4\": 6, \"15\": 25}, \"3\": {\"3\": 1200}, \"4\": {\"4\": 998, \"5\": 165, \"6\": 4, \"7\": 31, \"15\": 2}, \"12\": {\"12\": 1184, \"11\": 8, \"9\": 8}, \"15\": {\"15\": 1184, \"6\": 14, \"4\": 1, \"11\": 1}, \"11\": {\"11\": 1191, \"1\": 1, \"12\": 8}, \"0\": {\"0\": 1155, \"2\": 36, \"10\": 9}, \"9\": {\"9\": 1193, \"12\": 7}, \"10\": {\"10\": 1189, \"13\": 6, \"0\": 5}, \"5\": {\"5\": 880, \"6\": 47, \"4\": 240, \"7\": 33}, \"13\": {\"13\": 1195, \"10\": 4, \"8\": 1}}, \"ORACLE.run2_32\": {\"2\": {\"2\": 1005, \"0\": 36, \"14\": 136, \"8\": 3, \"7\": 20}, \"6\": {\"6\": 1200}, \"5\": {\"5\": 1114, \"2\": 59, \"14\": 7, \"15\": 7, \"7\": 10, \"0\": 1, \"8\": 2}, \"12\": {\"12\": 1200}, \"13\": {\"13\": 1043, \"11\": 104, \"3\": 28, \"4\": 25}, \"9\": {\"9\": 1198, \"12\": 2}, \"11\": {\"11\": 758, \"13\": 141, \"4\": 272, \"0\": 23, \"7\": 6}, \"1\": {\"1\": 1200}, \"3\": {\"3\": 1176, \"13\": 23, \"11\": 1}, \"7\": {\"7\": 1105, \"8\": 25, \"0\": 49, \"2\": 20, \"4\": 1}, \"14\": {\"14\": 936, \"2\": 257, \"5\": 3, \"0\": 4}, \"8\": {\"8\": 1091, \"0\": 86, \"7\": 23}, \"4\": {\"4\": 1026, \"11\": 131, \"0\": 23, \"13\": 20}, \"0\": {\"0\": 895, \"2\": 76, \"7\": 89, \"14\": 8, \"4\": 58, \"8\": 72, \"11\": 2}, \"10\": {\"10\": 1200}, \"15\": {\"15\": 1199, \"5\": 1}}, \"ORACLE.run2_44\": {\"13\": {\"13\": 1164, \"4\": 27, \"6\": 9}, \"4\": {\"4\": 1122, \"14\": 78}, \"6\": {\"6\": 1190, \"13\": 8, \"7\": 2}, \"0\": {\"0\": 955, \"8\": 240, \"15\": 4, \"5\": 1}, \"10\": {\"10\": 1184, \"7\": 12, \"9\": 4}, \"7\": {\"7\": 932, \"9\": 265, \"6\": 3}, \"14\": {\"14\": 1111, \"5\": 6, \"4\": 83}, \"15\": {\"15\": 1149, \"8\": 26, \"0\": 4, \"14\": 9, \"5\": 12}, \"5\": {\"5\": 1149, \"15\": 6, \"8\": 25, \"14\": 19, \"0\": 1}, \"2\": {\"2\": 1193, \"1\": 7}, \"9\": {\"9\": 843, \"7\": 350, \"6\": 7}, \"12\": {\"12\": 1106, \"3\": 94}, \"8\": {\"0\": 154, \"8\": 1016, \"15\": 13, \"5\": 17}, \"3\": {\"3\": 1123, \"12\": 77}, \"1\": {\"1\": 1192, \"2\": 8}, \"11\": {\"11\": 1200}}, \"ORACLE.run2_14\": {\"1\": {\"1\": 1200}, \"15\": {\"15\": 1200}, \"10\": {\"10\": 1124, \"0\": 62, \"14\": 8, \"12\": 6}, \"2\": {\"2\": 750, \"5\": 210, \"14\": 154, \"7\": 3, \"4\": 18, \"3\": 61, \"6\": 4}, \"9\": {\"9\": 1200}, \"5\": {\"5\": 1103, \"14\": 6, \"2\": 90, \"4\": 1}, \"7\": {\"7\": 1200}, \"13\": {\"13\": 986, \"6\": 214}, \"8\": {\"8\": 1200}, \"6\": {\"6\": 1014, \"13\": 183, \"2\": 3}, \"3\": {\"3\": 1181, \"2\": 10, \"5\": 6, \"14\": 3}, \"12\": {\"12\": 950, \"11\": 27, \"0\": 37, \"9\": 80, \"1\": 11, \"10\": 83, \"8\": 1, \"14\": 4, \"3\": 7}, \"0\": {\"0\": 1193, \"10\": 6, \"2\": 1}, \"4\": {\"4\": 1198, \"5\": 1, \"14\": 1}, \"14\": {\"14\": 1095, \"5\": 9, \"2\": 94, \"3\": 2}, \"11\": {\"11\": 1200}}, \"ORACLE.run1_8\": {\"13\": {\"13\": 1001, \"6\": 16, \"10\": 142, \"7\": 39, \"1\": 2}, \"9\": {\"9\": 1200}, \"15\": {\"15\": 1078, \"12\": 113, \"2\": 9}, \"2\": {\"2\": 956, \"3\": 117, \"12\": 78, \"15\": 49}, \"3\": {\"3\": 1200}, \"8\": {\"8\": 1179, \"6\": 13, \"7\": 1, \"11\": 6, \"1\": 1}, \"5\": {\"5\": 1009, \"10\": 119, \"13\": 3, \"11\": 10, \"1\": 57, \"14\": 2}, \"14\": {\"14\": 963, \"4\": 206, \"11\": 26, \"1\": 3, \"8\": 2}, \"1\": {\"11\": 230, \"1\": 921, \"5\": 25, \"4\": 4, \"13\": 2, \"10\": 17, \"6\": 1}, \"0\": {\"0\": 1196, \"14\": 4}, \"10\": {\"10\": 978, \"13\": 132, \"5\": 62, \"1\": 26, \"11\": 1, \"4\": 1}, \"6\": {\"7\": 164, \"6\": 1001, \"13\": 18, \"8\": 3, \"4\": 9, \"10\": 3, \"11\": 1, \"1\": 1}, \"11\": {\"14\": 45, \"4\": 35, \"11\": 643, \"1\": 432, \"8\": 11, \"5\": 18, \"10\": 2, \"6\": 14}, \"7\": {\"7\": 1039, \"6\": 149, \"13\": 12}, \"4\": {\"4\": 1134, \"14\": 33, \"1\": 2, \"10\": 2, \"6\": 24, \"11\": 4, \"7\": 1}, \"12\": {\"12\": 958, \"15\": 237, \"2\": 5}}, \"ORACLE.run1_38\": {\"13\": {\"13\": 1125, \"10\": 65, \"0\": 7, \"14\": 2, \"2\": 1}, \"12\": {\"12\": 1199, \"8\": 1}, \"2\": {\"2\": 1141, \"14\": 58, \"13\": 1}, \"9\": {\"9\": 1173, \"5\": 22, \"8\": 2, \"7\": 3}, \"15\": {\"15\": 1154, \"5\": 15, \"8\": 13, \"1\": 17, \"12\": 1}, \"5\": {\"5\": 557, \"15\": 76, \"9\": 76, \"7\": 74, \"8\": 412, \"12\": 2, \"0\": 2, \"6\": 1}, \"14\": {\"14\": 1105, \"13\": 4, \"2\": 91}, \"0\": {\"0\": 852, \"10\": 91, \"3\": 109, \"7\": 121, \"13\": 21, \"11\": 3, \"4\": 2, \"8\": 1}, \"3\": {\"3\": 1200}, \"1\": {\"1\": 1199, \"6\": 1}, \"11\": {\"11\": 1200}, \"7\": {\"7\": 1188, \"0\": 6, \"8\": 3, \"5\": 3}, \"8\": {\"8\": 580, \"15\": 53, \"5\": 385, \"7\": 170, \"9\": 3, \"12\": 2, \"13\": 6, \"0\": 1}, \"4\": {\"4\": 1199, \"10\": 1}, \"10\": {\"10\": 1110, \"0\": 27, \"13\": 58, \"4\": 4, \"11\": 1}, \"6\": {\"6\": 1199, \"1\": 1}}, \"ORACLE.run1_26\": {\"10\": {\"10\": 752, \"14\": 228, \"15\": 35, \"0\": 123, \"6\": 50, \"1\": 12}, \"12\": {\"12\": 1200}, \"1\": {\"1\": 960, \"14\": 182, \"10\": 42, \"6\": 7, \"0\": 3, \"5\": 2, \"15\": 4}, \"0\": {\"0\": 797, \"10\": 238, \"14\": 140, \"15\": 5, \"6\": 6, \"1\": 7, \"8\": 4, \"2\": 3}, \"15\": {\"15\": 679, \"6\": 165, \"14\": 4, \"5\": 317, \"10\": 27, \"1\": 6, \"2\": 1, \"0\": 1}, \"13\": {\"13\": 1063, \"2\": 31, \"9\": 77, \"3\": 15, \"4\": 5, \"7\": 5, \"8\": 4}, \"8\": {\"8\": 871, \"7\": 133, \"2\": 30, \"9\": 154, \"0\": 11, \"3\": 1}, \"3\": {\"3\": 1096, \"7\": 85, \"9\": 6, \"2\": 10, \"8\": 1, \"13\": 1, \"4\": 1}, \"11\": {\"11\": 1200}, \"4\": {\"4\": 1200}, \"6\": {\"6\": 958, \"15\": 122, \"5\": 46, \"10\": 61, \"14\": 5, \"1\": 8}, \"7\": {\"7\": 925, \"3\": 39, \"2\": 83, \"8\": 132, \"9\": 21}, \"14\": {\"10\": 261, \"0\": 82, \"1\": 71, \"14\": 779, \"6\": 5, \"15\": 2}, \"2\": {\"7\": 169, \"0\": 48, \"2\": 729, \"9\": 54, \"15\": 22, \"8\": 92, \"10\": 6, \"14\": 3, \"3\": 73, \"13\": 3, \"5\": 1}, \"5\": {\"6\": 43, \"5\": 927, \"15\": 230}, \"9\": {\"9\": 685, \"13\": 178, \"8\": 260, \"2\": 53, \"7\": 14, \"3\": 6, \"0\": 4}}, \"ORACLE.run1_20\": {\"5\": {\"5\": 748, \"1\": 254, \"3\": 173, \"9\": 25}, \"15\": {\"15\": 977, \"1\": 91, \"9\": 12, \"12\": 106, \"2\": 6, \"13\": 8}, \"9\": {\"9\": 952, \"1\": 65, \"5\": 26, \"3\": 85, \"7\": 48, \"2\": 17, \"15\": 4, \"12\": 3}, \"7\": {\"7\": 1014, \"9\": 52, \"2\": 118, \"6\": 6, \"14\": 1, \"3\": 2, \"12\": 3, \"4\": 4}, \"3\": {\"5\": 181, \"3\": 756, \"0\": 37, \"9\": 158, \"8\": 47, \"1\": 19, \"7\": 2}, \"8\": {\"14\": 54, \"3\": 32, \"8\": 1113, \"9\": 1}, \"4\": {\"4\": 1151, \"2\": 6, \"12\": 26, \"7\": 3, \"10\": 14}, \"6\": {\"6\": 1190, \"7\": 9, \"14\": 1}, \"2\": {\"7\": 136, \"2\": 820, \"12\": 142, \"9\": 46, \"15\": 18, \"13\": 28, \"1\": 4, \"4\": 6}, \"12\": {\"12\": 944, \"2\": 156, \"15\": 72, \"9\": 7, \"4\": 9, \"13\": 7, \"1\": 2, \"7\": 3}, \"0\": {\"0\": 1166, \"5\": 21, \"3\": 12, \"8\": 1}, \"13\": {\"13\": 1153, \"2\": 33, \"15\": 8, \"12\": 6}, \"10\": {\"10\": 1183, \"4\": 17}, \"11\": {\"11\": 1200}, \"14\": {\"14\": 1142, \"8\": 58}, \"1\": {\"1\": 865, \"5\": 250, \"15\": 27, \"9\": 48, \"3\": 10}}, \"ORACLE.run1_50\": {\"1\": {\"1\": 1185, \"13\": 8, \"10\": 1, \"14\": 1, \"0\": 5}, \"2\": {\"2\": 1163, \"0\": 37}, \"8\": {\"8\": 1195, \"10\": 5}, \"7\": {\"7\": 1123, \"5\": 61, \"4\": 16}, \"14\": {\"14\": 1200}, \"6\": {\"6\": 1060, \"15\": 65, \"5\": 75}, \"3\": {\"3\": 1200}, \"4\": {\"4\": 1007, \"7\": 125, \"5\": 33, \"15\": 24, \"6\": 11}, \"12\": {\"12\": 1136, \"11\": 18, \"9\": 46}, \"15\": {\"15\": 1120, \"6\": 68, \"11\": 7, \"5\": 2, \"4\": 1, \"9\": 2}, \"11\": {\"11\": 1162, \"9\": 20, \"12\": 15, \"15\": 3}, \"0\": {\"0\": 1139, \"2\": 49, \"10\": 12}, \"9\": {\"9\": 1028, \"12\": 77, \"11\": 94, \"15\": 1}, \"10\": {\"10\": 1183, \"0\": 8, \"8\": 9}, \"5\": {\"5\": 567, \"6\": 202, \"7\": 295, \"13\": 63, \"4\": 64, \"15\": 8, \"1\": 1}, \"13\": {\"13\": 1197, \"1\": 2, \"5\": 1}}, \"ORACLE.run1_32\": {\"2\": {\"2\": 1106, \"4\": 92, \"14\": 2}, \"6\": {\"6\": 1200}, \"5\": {\"8\": 110, \"5\": 701, \"7\": 270, \"14\": 52, \"0\": 66, \"15\": 1}, \"12\": {\"12\": 1200}, \"13\": {\"13\": 898, \"4\": 118, \"3\": 136, \"11\": 48}, \"9\": {\"9\": 1198, \"12\": 2}, \"11\": {\"11\": 1170, \"13\": 23, \"3\": 7}, \"1\": {\"1\": 1200}, \"3\": {\"3\": 1144, \"13\": 52, \"11\": 4}, \"7\": {\"5\": 193, \"7\": 793, \"14\": 111, \"8\": 21, \"0\": 82}, \"14\": {\"14\": 691, \"2\": 48, \"7\": 289, \"8\": 35, \"0\": 54, \"5\": 48, \"4\": 35}, \"8\": {\"8\": 964, \"5\": 76, \"4\": 18, \"0\": 98, \"14\": 14, \"7\": 26, \"13\": 2, \"2\": 2}, \"4\": {\"4\": 1044, \"2\": 117, \"13\": 37, \"14\": 2}, \"0\": {\"0\": 993, \"8\": 63, \"5\": 40, \"7\": 87, \"14\": 13, \"2\": 4}, \"10\": {\"10\": 1200}, \"15\": {\"15\": 1191, \"5\": 2, \"8\": 7}}, \"ORACLE.run1_44\": {\"13\": {\"13\": 979, \"9\": 11, \"6\": 178, \"11\": 32}, \"4\": {\"4\": 738, \"14\": 406, \"15\": 44, \"9\": 8, \"5\": 2, \"13\": 2}, \"6\": {\"6\": 1042, \"13\": 118, \"9\": 40}, \"0\": {\"0\": 1083, \"8\": 117}, \"10\": {\"10\": 1113, \"1\": 29, \"2\": 36, \"7\": 22}, \"7\": {\"7\": 1075, \"9\": 119, \"10\": 6}, \"14\": {\"14\": 919, \"15\": 30, \"4\": 206, \"5\": 45}, \"15\": {\"15\": 1023, \"5\": 46, \"8\": 49, \"14\": 69, \"0\": 10, \"4\": 3}, \"5\": {\"5\": 1056, \"15\": 69, \"14\": 58, \"8\": 16, \"4\": 1}, \"2\": {\"2\": 1165, \"10\": 5, \"1\": 30}, \"9\": {\"13\": 69, \"7\": 376, \"9\": 521, \"6\": 223, \"4\": 3, \"2\": 7, \"14\": 1}, \"12\": {\"12\": 1185, \"3\": 15}, \"8\": {\"8\": 829, \"5\": 34, \"0\": 287, \"15\": 50}, \"3\": {\"3\": 1176, \"12\": 24}, \"1\": {\"1\": 1146, \"2\": 54}, \"11\": {\"11\": 1200}}, \"ORACLE.run1_14\": {\"1\": {\"1\": 1200}, \"15\": {\"15\": 1200}, \"10\": {\"10\": 1184, \"0\": 16}, \"2\": {\"2\": 490, \"5\": 146, \"4\": 57, \"13\": 57, \"3\": 53, \"14\": 293, \"6\": 90, \"7\": 14}, \"9\": {\"9\": 1200}, \"5\": {\"5\": 1125, \"2\": 60, \"7\": 9, \"4\": 2, \"14\": 4}, \"7\": {\"7\": 1193, \"5\": 7}, \"13\": {\"14\": 405, \"6\": 393, \"13\": 244, \"15\": 105, \"2\": 44, \"3\": 6, \"0\": 1, \"4\": 2}, \"8\": {\"8\": 1200}, \"6\": {\"6\": 682, \"13\": 308, \"14\": 165, \"2\": 35, \"3\": 10}, \"3\": {\"3\": 1184, \"6\": 4, \"2\": 2, \"0\": 6, \"5\": 1, \"14\": 3}, \"12\": {\"12\": 1200}, \"0\": {\"0\": 1137, \"3\": 49, \"2\": 2, \"10\": 5, \"14\": 4, \"4\": 1, \"8\": 1, \"13\": 1}, \"4\": {\"4\": 1131, \"5\": 45, \"10\": 1, \"2\": 14, \"3\": 4, \"14\": 5}, \"14\": {\"14\": 1000, \"3\": 15, \"2\": 101, \"13\": 56, \"6\": 22, \"5\": 6}, \"11\": {\"11\": 1200}}}, \"per_domain_accuracy\": {\"ORACLE.run2_8\": {\"accuracy\": 0.93234375, \"source?\": true}, \"ORACLE.run2_38\": {\"accuracy\": 0.8958333333333334, \"source?\": true}, \"ORACLE.run2_26\": {\"accuracy\": 0.8134375, \"source?\": true}, \"ORACLE.run2_20\": {\"accuracy\": 0.8068229166666666, \"source?\": true}, \"ORACLE.run2_50\": {\"accuracy\": 0.9590625, \"source?\": true}, \"ORACLE.run2_32\": {\"accuracy\": 0.9034375, \"source?\": true}, \"ORACLE.run2_44\": {\"accuracy\": 0.9181770833333334, \"source?\": true}, \"ORACLE.run2_14\": {\"accuracy\": 0.9267708333333333, \"source?\": true}, \"ORACLE.run1_8\": {\"accuracy\": 0.8570833333333333, \"source?\": false}, \"ORACLE.run1_38\": {\"accuracy\": 0.89484375, \"source?\": false}, \"ORACLE.run1_26\": {\"accuracy\": 0.7719270833333334, \"source?\": false}, \"ORACLE.run1_20\": {\"accuracy\": 0.8528125, \"source?\": false}, \"ORACLE.run1_50\": {\"accuracy\": 0.9200520833333333, \"source?\": false}, \"ORACLE.run1_32\": {\"accuracy\": 0.8694270833333333, \"source?\": false}, \"ORACLE.run1_44\": {\"accuracy\": 0.8463541666666666, \"source?\": false}, \"ORACLE.run1_14\": {\"accuracy\": 0.8630208333333333, \"source?\": false}}}, \"history\": {\"epoch_indices\": [1, 2, 3, 4, 5, 6, 7, 8, 9, 10, 11], \"train_label_loss\": [0.614447634955979, 0.3928998168910454, 0.3170950050360712, 0.2816989018255706, 0.25770872545306617, 0.23632468425863842, 0.21926019903654204, 0.2014686893333003, 0.18727122459706672, 0.17284032571851987, 0.15955500410956422], \"source_val_label_loss\": [0.884250283241272, 0.3617080748081207, 0.33688727021217346, 0.3381730318069458, 0.31179535388946533, 0.3276762366294861, 0.3109188377857208, 0.3096489906311035, 0.3174251616001129, 0.3218303322792053, 0.3169861435890198], \"target_val_label_loss\": [0.8943010568618774, 0.4454052746295929, 0.45206743478775024, 0.48010697960853577, 0.4663183093070984, 0.48132386803627014, 0.47832414507865906, 0.4720880687236786, 0.4887803792953491, 0.536870002746582, 0.49986767768859863], \"source_val_acc_label\": [0.7192057291666667, 0.8707682291666666, 0.8819466145833333, 0.87890625, 0.8917057291666667, 0.8916145833333333, 0.8944856770833334, 0.8928125, 0.8885872395833333, 0.8964453125, 0.8934375], \"target_val_acc_label\": [0.70873046875, 0.8471744791666667, 0.8561393229166666, 0.84876953125, 0.8588151041666666, 0.8563932291666667, 0.8594401041666667, 0.856015625, 0.8521484375, 0.8566731770833333, 0.8561328125]}, \"dataset_metrics\": {\"source\": {\"train\": {\"n_unique_x\": 896000, \"n_unique_y\": 16, \"n_batch/episode\": 33600}, \"val\": {\"n_unique_x\": 192000, \"n_unique_y\": 16, \"n_batch/episode\": 4800}, \"test\": {\"n_unique_x\": 192000, \"n_unique_y\": 16, \"n_batch/episode\": 4800}}, \"target\": {\"train\": {\"n_unique_x\": 896000, \"n_unique_y\": 16, \"n_batch/episode\": 33600}, \"val\": {\"n_unique_x\": 192000, \"n_unique_y\": 16, \"n_batch/episode\": 4800}, \"test\": {\"n_unique_x\": 192000, \"n_unique_y\": 16, \"n_batch/episode\": 4800}}}}'"
      ]
     },
     "execution_count": 29,
     "metadata": {},
     "output_type": "execute_result"
    }
   ],
   "source": [
    "json.dumps(experiment)"
   ]
  }
 ],
 "metadata": {
  "celltoolbar": "Tags",
  "kernelspec": {
   "display_name": "Python 3 (ipykernel)",
   "language": "python",
   "name": "python3"
  },
  "language_info": {
   "codemirror_mode": {
    "name": "ipython",
    "version": 3
   },
   "file_extension": ".py",
   "mimetype": "text/x-python",
   "name": "python",
   "nbconvert_exporter": "python",
   "pygments_lexer": "ipython3",
   "version": "3.8.10"
  },
  "papermill": {
   "default_parameters": {},
   "duration": 10558.909768,
   "end_time": "2022-03-27T12:37:34.748175",
   "environment_variables": {},
   "exception": null,
   "input_path": "/mnt/wd500GB/CSC500/csc500-main/csc500-notebooks/templates/tl_ptn_template.ipynb",
   "output_path": "trial.ipynb",
   "parameters": {
    "parameters": {
     "BEST_MODEL_PATH": "./best_model.pth",
     "NUM_LOGS_PER_EPOCH": 10,
     "criteria_for_best": "target_accuracy",
     "dataset_seed": 154325,
     "datasets": [
      {
       "domain_prefix": "ORACLE.run1_",
       "domains": [
        32,
        38,
        8,
        44,
        14,
        50,
        20,
        26
       ],
       "episode_transforms": [],
       "labels": [
        "3123D52",
        "3123D65",
        "3123D79",
        "3123D80",
        "3123D54",
        "3123D70",
        "3123D7B",
        "3123D89",
        "3123D58",
        "3123D76",
        "3123D7D",
        "3123EFE",
        "3123D64",
        "3123D78",
        "3123D7E",
        "3124E4A"
       ],
       "num_examples_per_domain_per_label": 10000,
       "pickle_path": "/mnt/wd500GB/CSC500/csc500-main/datasets/oracle.Run1_10kExamples_stratified_ds.2022A.pkl",
       "source_or_target_dataset": "target",
       "x_transforms": []
      },
      {
       "domain_prefix": "ORACLE.run2_",
       "domains": [
        32,
        38,
        8,
        44,
        14,
        50,
        20,
        26
       ],
       "episode_transforms": [],
       "labels": [
        "3123D52",
        "3123D65",
        "3123D79",
        "3123D80",
        "3123D54",
        "3123D70",
        "3123D7B",
        "3123D89",
        "3123D58",
        "3123D76",
        "3123D7D",
        "3123EFE",
        "3123D64",
        "3123D78",
        "3123D7E",
        "3124E4A"
       ],
       "num_examples_per_domain_per_label": 10000,
       "pickle_path": "/mnt/wd500GB/CSC500/csc500-main/datasets/oracle.Run2_10kExamples_stratified_ds.2022A.pkl",
       "source_or_target_dataset": "source",
       "x_transforms": []
      }
     ],
     "device": "cuda",
     "experiment_name": "tl_1v2:oracle.run1-oracle.run2",
     "lr": 0.0001,
     "n_epoch": 50,
     "n_query": 2,
     "n_shot": 3,
     "n_way": 16,
     "patience": 3,
     "seed": 154325,
     "test_k_factor": 2,
     "torch_default_dtype": "torch.float32",
     "train_k_factor": 3,
     "val_k_factor": 2,
     "x_net": [
      {
       "class": "nnReshape",
       "kargs": {
        "shape": [
         -1,
         1,
         2,
         256
        ]
       }
      },
      {
       "class": "Conv2d",
       "kargs": {
        "bias": false,
        "in_channels": 1,
        "kernel_size": [
         1,
         7
        ],
        "out_channels": 256,
        "padding": [
         0,
         3
        ]
       }
      },
      {
       "class": "ReLU",
       "kargs": {
        "inplace": true
       }
      },
      {
       "class": "BatchNorm2d",
       "kargs": {
        "num_features": 256
       }
      },
      {
       "class": "Conv2d",
       "kargs": {
        "bias": true,
        "in_channels": 256,
        "kernel_size": [
         2,
         7
        ],
        "out_channels": 80,
        "padding": [
         0,
         3
        ]
       }
      },
      {
       "class": "ReLU",
       "kargs": {
        "inplace": true
       }
      },
      {
       "class": "BatchNorm2d",
       "kargs": {
        "num_features": 80
       }
      },
      {
       "class": "Flatten",
       "kargs": {}
      },
      {
       "class": "Linear",
       "kargs": {
        "in_features": 20480,
        "out_features": 256
       }
      },
      {
       "class": "ReLU",
       "kargs": {
        "inplace": true
       }
      },
      {
       "class": "BatchNorm1d",
       "kargs": {
        "num_features": 256
       }
      },
      {
       "class": "Linear",
       "kargs": {
        "in_features": 256,
        "out_features": 256
       }
      }
     ]
    }
   },
   "start_time": "2022-03-27T09:41:35.838407",
   "version": "2.3.4"
  }
 },
 "nbformat": 4,
 "nbformat_minor": 5
}