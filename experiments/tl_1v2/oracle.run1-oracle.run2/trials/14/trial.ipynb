{
 "cells": [
  {
   "cell_type": "markdown",
   "id": "9fea5f46",
   "metadata": {
    "papermill": {
     "duration": 0.018392,
     "end_time": "2022-03-24T21:06:48.705156",
     "exception": false,
     "start_time": "2022-03-24T21:06:48.686764",
     "status": "completed"
    },
    "tags": []
   },
   "source": [
    "# Transfer Learning Template"
   ]
  },
  {
   "cell_type": "code",
   "execution_count": 1,
   "id": "0902182a",
   "metadata": {
    "execution": {
     "iopub.execute_input": "2022-03-24T21:06:48.743291Z",
     "iopub.status.busy": "2022-03-24T21:06:48.742795Z",
     "iopub.status.idle": "2022-03-24T21:06:49.912767Z",
     "shell.execute_reply": "2022-03-24T21:06:49.913165Z"
    },
    "papermill": {
     "duration": 1.195909,
     "end_time": "2022-03-24T21:06:49.913355",
     "exception": false,
     "start_time": "2022-03-24T21:06:48.717446",
     "status": "completed"
    },
    "tags": []
   },
   "outputs": [],
   "source": [
    "%load_ext autoreload\n",
    "%autoreload 2\n",
    "%matplotlib inline\n",
    "\n",
    "    \n",
    "import os, json, sys, time, random\n",
    "import numpy as np\n",
    "import torch\n",
    "from torch.optim import Adam\n",
    "from  easydict import EasyDict\n",
    "import matplotlib.pyplot as plt\n",
    "\n",
    "from steves_models.steves_ptn import Steves_Prototypical_Network\n",
    "\n",
    "from steves_utils.lazy_iterable_wrapper import Lazy_Iterable_Wrapper\n",
    "from steves_utils.iterable_aggregator import Iterable_Aggregator\n",
    "from steves_utils.ptn_train_eval_test_jig import  PTN_Train_Eval_Test_Jig\n",
    "from steves_utils.torch_sequential_builder import build_sequential\n",
    "from steves_utils.torch_utils import get_dataset_metrics, ptn_confusion_by_domain_over_dataloader\n",
    "from steves_utils.utils_v2 import (per_domain_accuracy_from_confusion, get_datasets_base_path)\n",
    "from steves_utils.PTN.utils import independent_accuracy_assesment\n",
    "\n",
    "from torch.utils.data import DataLoader\n",
    "\n",
    "from steves_utils.stratified_dataset.episodic_accessor import Episodic_Accessor_Factory\n",
    "\n",
    "from steves_utils.ptn_do_report import (\n",
    "    get_loss_curve,\n",
    "    get_results_table,\n",
    "    get_parameters_table,\n",
    "    get_domain_accuracies,\n",
    ")\n",
    "\n",
    "from steves_utils.transforms import get_chained_transform"
   ]
  },
  {
   "cell_type": "markdown",
   "id": "41c840b4",
   "metadata": {
    "papermill": {
     "duration": 0.012247,
     "end_time": "2022-03-24T21:06:49.942734",
     "exception": false,
     "start_time": "2022-03-24T21:06:49.930487",
     "status": "completed"
    },
    "tags": []
   },
   "source": [
    "# Allowed Parameters\n",
    "These are allowed parameters, not defaults\n",
    "Each of these values need to be present in the injected parameters (the notebook will raise an exception if they are not present)\n",
    "\n",
    "Papermill uses the cell tag \"parameters\" to inject the real parameters below this cell.\n",
    "Enable tags to see what I mean"
   ]
  },
  {
   "cell_type": "code",
   "execution_count": 2,
   "id": "fd44eb83",
   "metadata": {
    "execution": {
     "iopub.execute_input": "2022-03-24T21:06:49.970287Z",
     "iopub.status.busy": "2022-03-24T21:06:49.970033Z",
     "iopub.status.idle": "2022-03-24T21:06:49.984140Z",
     "shell.execute_reply": "2022-03-24T21:06:49.984452Z"
    },
    "papermill": {
     "duration": 0.029584,
     "end_time": "2022-03-24T21:06:49.984546",
     "exception": false,
     "start_time": "2022-03-24T21:06:49.954962",
     "status": "completed"
    },
    "tags": []
   },
   "outputs": [],
   "source": [
    "required_parameters = {\n",
    "    \"experiment_name\",\n",
    "    \"lr\",\n",
    "    \"device\",\n",
    "    \"seed\",\n",
    "    \"dataset_seed\",\n",
    "    \"n_shot\",\n",
    "    \"n_query\",\n",
    "    \"n_way\",\n",
    "    \"train_k_factor\",\n",
    "    \"val_k_factor\",\n",
    "    \"test_k_factor\",\n",
    "    \"n_epoch\",\n",
    "    \"patience\",\n",
    "    \"criteria_for_best\",\n",
    "    \"x_net\",\n",
    "    \"datasets\",\n",
    "    \"torch_default_dtype\",\n",
    "    \"NUM_LOGS_PER_EPOCH\",\n",
    "    \"BEST_MODEL_PATH\",\n",
    "    \"x_shape\",\n",
    "}"
   ]
  },
  {
   "cell_type": "code",
   "execution_count": 3,
   "id": "fa3f0049",
   "metadata": {
    "execution": {
     "iopub.execute_input": "2022-03-24T21:06:50.024674Z",
     "iopub.status.busy": "2022-03-24T21:06:50.024177Z",
     "iopub.status.idle": "2022-03-24T21:06:50.036198Z",
     "shell.execute_reply": "2022-03-24T21:06:50.036550Z"
    },
    "papermill": {
     "duration": 0.034757,
     "end_time": "2022-03-24T21:06:50.036657",
     "exception": false,
     "start_time": "2022-03-24T21:06:50.001900",
     "status": "completed"
    },
    "tags": [
     "parameters"
    ]
   },
   "outputs": [],
   "source": [
    "from steves_utils.CORES.utils import (\n",
    "    ALL_NODES,\n",
    "    ALL_NODES_MINIMUM_1000_EXAMPLES,\n",
    "    ALL_DAYS\n",
    ")\n",
    "\n",
    "from steves_utils.ORACLE.utils_v2 import (\n",
    "    ALL_DISTANCES_FEET_NARROWED,\n",
    "    ALL_RUNS,\n",
    "    ALL_SERIAL_NUMBERS,\n",
    ")\n",
    "\n",
    "standalone_parameters = {}\n",
    "standalone_parameters[\"experiment_name\"] = \"STANDALONE PTN\"\n",
    "standalone_parameters[\"lr\"] = 0.001\n",
    "standalone_parameters[\"device\"] = \"cuda\"\n",
    "\n",
    "standalone_parameters[\"seed\"] = 1337\n",
    "standalone_parameters[\"dataset_seed\"] = 1337\n",
    "\n",
    "standalone_parameters[\"n_way\"] = 8\n",
    "standalone_parameters[\"n_shot\"] = 3\n",
    "standalone_parameters[\"n_query\"]  = 2\n",
    "standalone_parameters[\"train_k_factor\"] = 1\n",
    "standalone_parameters[\"val_k_factor\"] = 2\n",
    "standalone_parameters[\"test_k_factor\"] = 2\n",
    "\n",
    "\n",
    "standalone_parameters[\"n_epoch\"] = 50\n",
    "\n",
    "standalone_parameters[\"patience\"] = 10\n",
    "standalone_parameters[\"criteria_for_best\"] = \"source_loss\"\n",
    "\n",
    "standalone_parameters[\"datasets\"] = [\n",
    "    {\n",
    "        \"labels\": ALL_SERIAL_NUMBERS,\n",
    "        \"domains\": ALL_DISTANCES_FEET_NARROWED,\n",
    "        \"num_examples_per_domain_per_label\": 100,\n",
    "        \"pickle_path\": os.path.join(get_datasets_base_path(), \"oracle.Run1_framed_2000Examples_stratified_ds.2022A.pkl\"),\n",
    "        \"source_or_target_dataset\": \"source\",\n",
    "        \"x_transforms\": [\"unit_mag\", \"minus_two\"],\n",
    "        \"episode_transforms\": [],\n",
    "        \"domain_prefix\": \"ORACLE_\"\n",
    "    },\n",
    "    {\n",
    "        \"labels\": ALL_NODES,\n",
    "        \"domains\": ALL_DAYS,\n",
    "        \"num_examples_per_domain_per_label\": 100,\n",
    "        \"pickle_path\": os.path.join(get_datasets_base_path(), \"cores.stratified_ds.2022A.pkl\"),\n",
    "        \"source_or_target_dataset\": \"target\",\n",
    "        \"x_transforms\": [\"unit_power\", \"times_zero\"],\n",
    "        \"episode_transforms\": [],\n",
    "        \"domain_prefix\": \"CORES_\"\n",
    "    }   \n",
    "]\n",
    "\n",
    "standalone_parameters[\"torch_default_dtype\"] = \"torch.float32\" \n",
    "\n",
    "\n",
    "\n",
    "standalone_parameters[\"x_net\"] =     [\n",
    "    {\"class\": \"nnReshape\", \"kargs\": {\"shape\":[-1, 1, 2, 256]}},\n",
    "    {\"class\": \"Conv2d\", \"kargs\": { \"in_channels\":1, \"out_channels\":256, \"kernel_size\":(1,7), \"bias\":False, \"padding\":(0,3), },},\n",
    "    {\"class\": \"ReLU\", \"kargs\": {\"inplace\": True}},\n",
    "    {\"class\": \"BatchNorm2d\", \"kargs\": {\"num_features\":256}},\n",
    "\n",
    "    {\"class\": \"Conv2d\", \"kargs\": { \"in_channels\":256, \"out_channels\":80, \"kernel_size\":(2,7), \"bias\":True, \"padding\":(0,3), },},\n",
    "    {\"class\": \"ReLU\", \"kargs\": {\"inplace\": True}},\n",
    "    {\"class\": \"BatchNorm2d\", \"kargs\": {\"num_features\":80}},\n",
    "    {\"class\": \"Flatten\", \"kargs\": {}},\n",
    "\n",
    "    {\"class\": \"Linear\", \"kargs\": {\"in_features\": 80*256, \"out_features\": 256}}, # 80 units per IQ pair\n",
    "    {\"class\": \"ReLU\", \"kargs\": {\"inplace\": True}},\n",
    "    {\"class\": \"BatchNorm1d\", \"kargs\": {\"num_features\":256}},\n",
    "\n",
    "    {\"class\": \"Linear\", \"kargs\": {\"in_features\": 256, \"out_features\": 256}},\n",
    "]\n",
    "\n",
    "# Parameters relevant to results\n",
    "# These parameters will basically never need to change\n",
    "standalone_parameters[\"NUM_LOGS_PER_EPOCH\"] = 10\n",
    "standalone_parameters[\"BEST_MODEL_PATH\"] = \"./best_model.pth\"\n",
    "\n",
    "\n",
    "\n",
    "\n"
   ]
  },
  {
   "cell_type": "code",
   "execution_count": 4,
   "id": "300b5ffa",
   "metadata": {
    "execution": {
     "iopub.execute_input": "2022-03-24T21:06:50.075236Z",
     "iopub.status.busy": "2022-03-24T21:06:50.072749Z",
     "iopub.status.idle": "2022-03-24T21:06:50.086614Z",
     "shell.execute_reply": "2022-03-24T21:06:50.086169Z"
    },
    "papermill": {
     "duration": 0.032928,
     "end_time": "2022-03-24T21:06:50.086702",
     "exception": false,
     "start_time": "2022-03-24T21:06:50.053774",
     "status": "completed"
    },
    "tags": [
     "injected-parameters"
    ]
   },
   "outputs": [],
   "source": [
    "# Parameters\n",
    "parameters = {\n",
    "    \"experiment_name\": \"tl_1v2:oracle.run1-oracle.run2\",\n",
    "    \"device\": \"cuda\",\n",
    "    \"lr\": 0.0001,\n",
    "    \"n_shot\": 3,\n",
    "    \"n_query\": 2,\n",
    "    \"train_k_factor\": 3,\n",
    "    \"val_k_factor\": 2,\n",
    "    \"test_k_factor\": 2,\n",
    "    \"torch_default_dtype\": \"torch.float32\",\n",
    "    \"n_epoch\": 50,\n",
    "    \"patience\": 3,\n",
    "    \"criteria_for_best\": \"target_accuracy\",\n",
    "    \"x_net\": [\n",
    "        {\"class\": \"nnReshape\", \"kargs\": {\"shape\": [-1, 1, 2, 256]}},\n",
    "        {\n",
    "            \"class\": \"Conv2d\",\n",
    "            \"kargs\": {\n",
    "                \"in_channels\": 1,\n",
    "                \"out_channels\": 256,\n",
    "                \"kernel_size\": [1, 7],\n",
    "                \"bias\": False,\n",
    "                \"padding\": [0, 3],\n",
    "            },\n",
    "        },\n",
    "        {\"class\": \"ReLU\", \"kargs\": {\"inplace\": True}},\n",
    "        {\"class\": \"BatchNorm2d\", \"kargs\": {\"num_features\": 256}},\n",
    "        {\n",
    "            \"class\": \"Conv2d\",\n",
    "            \"kargs\": {\n",
    "                \"in_channels\": 256,\n",
    "                \"out_channels\": 80,\n",
    "                \"kernel_size\": [2, 7],\n",
    "                \"bias\": True,\n",
    "                \"padding\": [0, 3],\n",
    "            },\n",
    "        },\n",
    "        {\"class\": \"ReLU\", \"kargs\": {\"inplace\": True}},\n",
    "        {\"class\": \"BatchNorm2d\", \"kargs\": {\"num_features\": 80}},\n",
    "        {\"class\": \"Flatten\", \"kargs\": {}},\n",
    "        {\"class\": \"Linear\", \"kargs\": {\"in_features\": 20480, \"out_features\": 256}},\n",
    "        {\"class\": \"ReLU\", \"kargs\": {\"inplace\": True}},\n",
    "        {\"class\": \"BatchNorm1d\", \"kargs\": {\"num_features\": 256}},\n",
    "        {\"class\": \"Linear\", \"kargs\": {\"in_features\": 256, \"out_features\": 256}},\n",
    "    ],\n",
    "    \"NUM_LOGS_PER_EPOCH\": 10,\n",
    "    \"BEST_MODEL_PATH\": \"./best_model.pth\",\n",
    "    \"n_way\": 16,\n",
    "    \"datasets\": [\n",
    "        {\n",
    "            \"labels\": [\n",
    "                \"3123D52\",\n",
    "                \"3123D65\",\n",
    "                \"3123D79\",\n",
    "                \"3123D80\",\n",
    "                \"3123D54\",\n",
    "                \"3123D70\",\n",
    "                \"3123D7B\",\n",
    "                \"3123D89\",\n",
    "                \"3123D58\",\n",
    "                \"3123D76\",\n",
    "                \"3123D7D\",\n",
    "                \"3123EFE\",\n",
    "                \"3123D64\",\n",
    "                \"3123D78\",\n",
    "                \"3123D7E\",\n",
    "                \"3124E4A\",\n",
    "            ],\n",
    "            \"domains\": [32, 38, 8, 44, 14, 50, 20, 26],\n",
    "            \"num_examples_per_domain_per_label\": 10000,\n",
    "            \"pickle_path\": \"/mnt/wd500GB/CSC500/csc500-main/datasets/oracle.Run1_10kExamples_stratified_ds.2022A.pkl\",\n",
    "            \"source_or_target_dataset\": \"source\",\n",
    "            \"x_transforms\": [],\n",
    "            \"episode_transforms\": [],\n",
    "            \"domain_prefix\": \"ORACLE.run1_\",\n",
    "        },\n",
    "        {\n",
    "            \"labels\": [\n",
    "                \"3123D52\",\n",
    "                \"3123D65\",\n",
    "                \"3123D79\",\n",
    "                \"3123D80\",\n",
    "                \"3123D54\",\n",
    "                \"3123D70\",\n",
    "                \"3123D7B\",\n",
    "                \"3123D89\",\n",
    "                \"3123D58\",\n",
    "                \"3123D76\",\n",
    "                \"3123D7D\",\n",
    "                \"3123EFE\",\n",
    "                \"3123D64\",\n",
    "                \"3123D78\",\n",
    "                \"3123D7E\",\n",
    "                \"3124E4A\",\n",
    "            ],\n",
    "            \"domains\": [32, 38, 8, 44, 14, 50, 20, 26],\n",
    "            \"num_examples_per_domain_per_label\": 10000,\n",
    "            \"pickle_path\": \"/mnt/wd500GB/CSC500/csc500-main/datasets/oracle.Run2_10kExamples_stratified_ds.2022A.pkl\",\n",
    "            \"source_or_target_dataset\": \"target\",\n",
    "            \"x_transforms\": [],\n",
    "            \"episode_transforms\": [],\n",
    "            \"domain_prefix\": \"ORACLE.run2_\",\n",
    "        },\n",
    "    ],\n",
    "    \"dataset_seed\": 154325,\n",
    "    \"seed\": 154325,\n",
    "}\n"
   ]
  },
  {
   "cell_type": "code",
   "execution_count": 5,
   "id": "8fa1cc33",
   "metadata": {
    "execution": {
     "iopub.execute_input": "2022-03-24T21:06:50.119148Z",
     "iopub.status.busy": "2022-03-24T21:06:50.118890Z",
     "iopub.status.idle": "2022-03-24T21:06:50.133554Z",
     "shell.execute_reply": "2022-03-24T21:06:50.133166Z"
    },
    "papermill": {
     "duration": 0.030699,
     "end_time": "2022-03-24T21:06:50.133641",
     "exception": false,
     "start_time": "2022-03-24T21:06:50.102942",
     "status": "completed"
    },
    "tags": []
   },
   "outputs": [],
   "source": [
    "# Set this to True if you want to run this template directly\n",
    "STANDALONE = False\n",
    "if STANDALONE:\n",
    "    print(\"parameters not injected, running with standalone_parameters\")\n",
    "    parameters = standalone_parameters\n",
    "\n",
    "if not 'parameters' in locals() and not 'parameters' in globals():\n",
    "    raise Exception(\"Parameter injection failed\")\n",
    "\n",
    "#Use an easy dict for all the parameters\n",
    "p = EasyDict(parameters)\n",
    "\n",
    "if \"x_shape\" not in p:\n",
    "    p.x_shape = [2,256] # Default to this if we dont supply x_shape\n",
    "\n",
    "\n",
    "supplied_keys = set(p.keys())\n",
    "\n",
    "if  supplied_keys != required_parameters:\n",
    "    print(\"Parameters are incorrect\")\n",
    "    if len(supplied_keys - required_parameters)>0: print(\"Shouldn't have:\", str(supplied_keys - required_parameters))\n",
    "    if len(required_parameters - supplied_keys)>0: print(\"Need to have:\", str(required_parameters - supplied_keys))\n",
    "    raise RuntimeError(\"Parameters are incorrect\")"
   ]
  },
  {
   "cell_type": "code",
   "execution_count": 6,
   "id": "3a028d58",
   "metadata": {
    "execution": {
     "iopub.execute_input": "2022-03-24T21:06:50.165372Z",
     "iopub.status.busy": "2022-03-24T21:06:50.165075Z",
     "iopub.status.idle": "2022-03-24T21:06:50.180456Z",
     "shell.execute_reply": "2022-03-24T21:06:50.180025Z"
    },
    "papermill": {
     "duration": 0.030167,
     "end_time": "2022-03-24T21:06:50.180543",
     "exception": false,
     "start_time": "2022-03-24T21:06:50.150376",
     "status": "completed"
    },
    "tags": []
   },
   "outputs": [],
   "source": [
    "###################################\n",
    "# Set the RNGs and make it all deterministic\n",
    "###################################\n",
    "np.random.seed(p.seed)\n",
    "random.seed(p.seed)\n",
    "torch.manual_seed(p.seed)\n",
    "\n",
    "torch.use_deterministic_algorithms(True) "
   ]
  },
  {
   "cell_type": "code",
   "execution_count": 7,
   "id": "b691acf6",
   "metadata": {
    "execution": {
     "iopub.execute_input": "2022-03-24T21:06:50.212793Z",
     "iopub.status.busy": "2022-03-24T21:06:50.212552Z",
     "iopub.status.idle": "2022-03-24T21:06:50.227486Z",
     "shell.execute_reply": "2022-03-24T21:06:50.227856Z"
    },
    "papermill": {
     "duration": 0.029931,
     "end_time": "2022-03-24T21:06:50.227958",
     "exception": false,
     "start_time": "2022-03-24T21:06:50.198027",
     "status": "completed"
    },
    "tags": []
   },
   "outputs": [],
   "source": [
    "###########################################\n",
    "# The stratified datasets honor this\n",
    "###########################################\n",
    "torch.set_default_dtype(eval(p.torch_default_dtype))"
   ]
  },
  {
   "cell_type": "code",
   "execution_count": 8,
   "id": "b5fba671",
   "metadata": {
    "execution": {
     "iopub.execute_input": "2022-03-24T21:06:50.260908Z",
     "iopub.status.busy": "2022-03-24T21:06:50.260561Z",
     "iopub.status.idle": "2022-03-24T21:06:50.300406Z",
     "shell.execute_reply": "2022-03-24T21:06:50.299966Z"
    },
    "papermill": {
     "duration": 0.054618,
     "end_time": "2022-03-24T21:06:50.300495",
     "exception": false,
     "start_time": "2022-03-24T21:06:50.245877",
     "status": "completed"
    },
    "tags": []
   },
   "outputs": [],
   "source": [
    "###################################\n",
    "# Build the network(s)\n",
    "# Note: It's critical to do this AFTER setting the RNG\n",
    "###################################\n",
    "x_net = build_sequential(p.x_net)"
   ]
  },
  {
   "cell_type": "code",
   "execution_count": 9,
   "id": "5d7e61cc",
   "metadata": {
    "execution": {
     "iopub.execute_input": "2022-03-24T21:06:50.334290Z",
     "iopub.status.busy": "2022-03-24T21:06:50.334032Z",
     "iopub.status.idle": "2022-03-24T21:06:50.348058Z",
     "shell.execute_reply": "2022-03-24T21:06:50.348429Z"
    },
    "papermill": {
     "duration": 0.030225,
     "end_time": "2022-03-24T21:06:50.348533",
     "exception": false,
     "start_time": "2022-03-24T21:06:50.318308",
     "status": "completed"
    },
    "tags": []
   },
   "outputs": [],
   "source": [
    "start_time_secs = time.time()"
   ]
  },
  {
   "cell_type": "code",
   "execution_count": 10,
   "id": "c6b67dfd",
   "metadata": {
    "execution": {
     "iopub.execute_input": "2022-03-24T21:06:50.380672Z",
     "iopub.status.busy": "2022-03-24T21:06:50.380430Z",
     "iopub.status.idle": "2022-03-24T21:06:50.390603Z",
     "shell.execute_reply": "2022-03-24T21:06:50.390393Z"
    },
    "papermill": {
     "duration": 0.024821,
     "end_time": "2022-03-24T21:06:50.390695",
     "exception": false,
     "start_time": "2022-03-24T21:06:50.365874",
     "status": "completed"
    },
    "tags": []
   },
   "outputs": [],
   "source": [
    "p.domains_source = []\n",
    "p.domains_target = []\n",
    "\n",
    "\n",
    "train_original_source = []\n",
    "val_original_source   = []\n",
    "test_original_source  = []\n",
    "\n",
    "train_original_target = []\n",
    "val_original_target   = []\n",
    "test_original_target  = []"
   ]
  },
  {
   "cell_type": "code",
   "execution_count": 11,
   "id": "e3d9c3d3",
   "metadata": {
    "execution": {
     "iopub.execute_input": "2022-03-24T21:06:50.424128Z",
     "iopub.status.busy": "2022-03-24T21:06:50.423432Z",
     "iopub.status.idle": "2022-03-24T21:06:50.438556Z",
     "shell.execute_reply": "2022-03-24T21:06:50.438149Z"
    },
    "papermill": {
     "duration": 0.02962,
     "end_time": "2022-03-24T21:06:50.438643",
     "exception": false,
     "start_time": "2022-03-24T21:06:50.409023",
     "status": "completed"
    },
    "tags": []
   },
   "outputs": [],
   "source": [
    "# global_x_transform_func = lambda x: normalize(x.to(torch.get_default_dtype()), \"unit_power\") # unit_power, unit_mag\n",
    "# global_x_transform_func = lambda x: normalize(x, \"unit_power\") # unit_power, unit_mag"
   ]
  },
  {
   "cell_type": "code",
   "execution_count": 12,
   "id": "acb78fd2",
   "metadata": {
    "execution": {
     "iopub.execute_input": "2022-03-24T21:06:50.473585Z",
     "iopub.status.busy": "2022-03-24T21:06:50.473329Z",
     "iopub.status.idle": "2022-03-24T21:06:50.486529Z",
     "shell.execute_reply": "2022-03-24T21:06:50.486087Z"
    },
    "papermill": {
     "duration": 0.033194,
     "end_time": "2022-03-24T21:06:50.486616",
     "exception": false,
     "start_time": "2022-03-24T21:06:50.453422",
     "status": "completed"
    },
    "tags": []
   },
   "outputs": [],
   "source": [
    "def add_dataset(\n",
    "    labels,\n",
    "    domains,\n",
    "    pickle_path,\n",
    "    x_transforms,\n",
    "    episode_transforms,\n",
    "    domain_prefix,\n",
    "    num_examples_per_domain_per_label,\n",
    "    source_or_target_dataset:str,\n",
    "    iterator_seed=p.seed,\n",
    "    dataset_seed=p.dataset_seed,\n",
    "    n_shot=p.n_shot,\n",
    "    n_way=p.n_way,\n",
    "    n_query=p.n_query,\n",
    "    train_val_test_k_factors=(p.train_k_factor,p.val_k_factor,p.test_k_factor),\n",
    "):\n",
    "   \n",
    "    if x_transforms == []: x_transform = None\n",
    "    else: x_transform = get_chained_transform(x_transforms)\n",
    "    \n",
    "    if episode_transforms == []: episode_transform = None\n",
    "    else: raise Exception(\"episode_transforms not implemented\")\n",
    "    \n",
    "    episode_transform = lambda tup, _prefix=domain_prefix: (_prefix + str(tup[0]), tup[1])\n",
    "\n",
    "\n",
    "    eaf = Episodic_Accessor_Factory(\n",
    "        labels=labels,\n",
    "        domains=domains,\n",
    "        num_examples_per_domain_per_label=num_examples_per_domain_per_label,\n",
    "        iterator_seed=iterator_seed,\n",
    "        dataset_seed=dataset_seed,\n",
    "        n_shot=n_shot,\n",
    "        n_way=n_way,\n",
    "        n_query=n_query,\n",
    "        train_val_test_k_factors=train_val_test_k_factors,\n",
    "        pickle_path=pickle_path,\n",
    "        x_transform_func=x_transform,\n",
    "    )\n",
    "\n",
    "    train, val, test = eaf.get_train(), eaf.get_val(), eaf.get_test()\n",
    "    train = Lazy_Iterable_Wrapper(train, episode_transform)\n",
    "    val = Lazy_Iterable_Wrapper(val, episode_transform)\n",
    "    test = Lazy_Iterable_Wrapper(test, episode_transform)\n",
    "\n",
    "    if source_or_target_dataset==\"source\":\n",
    "        train_original_source.append(train)\n",
    "        val_original_source.append(val)\n",
    "        test_original_source.append(test)\n",
    "\n",
    "        p.domains_source.extend(\n",
    "            [domain_prefix + str(u) for u in domains]\n",
    "        )\n",
    "    elif source_or_target_dataset==\"target\":\n",
    "        train_original_target.append(train)\n",
    "        val_original_target.append(val)\n",
    "        test_original_target.append(test)\n",
    "        p.domains_target.extend(\n",
    "            [domain_prefix + str(u) for u in domains]\n",
    "        )\n",
    "    else:\n",
    "        raise Exception(f\"invalid source_or_target_dataset: {source_or_target_dataset}\")\n",
    "    "
   ]
  },
  {
   "cell_type": "code",
   "execution_count": 13,
   "id": "fe266617",
   "metadata": {
    "execution": {
     "iopub.execute_input": "2022-03-24T21:06:50.518588Z",
     "iopub.status.busy": "2022-03-24T21:06:50.518347Z",
     "iopub.status.idle": "2022-03-24T21:07:06.959939Z",
     "shell.execute_reply": "2022-03-24T21:07:06.959480Z"
    },
    "papermill": {
     "duration": 16.456775,
     "end_time": "2022-03-24T21:07:06.960047",
     "exception": false,
     "start_time": "2022-03-24T21:06:50.503272",
     "status": "completed"
    },
    "tags": []
   },
   "outputs": [],
   "source": [
    "for ds in p.datasets:\n",
    "    add_dataset(**ds)"
   ]
  },
  {
   "cell_type": "code",
   "execution_count": 14,
   "id": "b90d65ac",
   "metadata": {
    "execution": {
     "iopub.execute_input": "2022-03-24T21:07:06.994582Z",
     "iopub.status.busy": "2022-03-24T21:07:06.994078Z",
     "iopub.status.idle": "2022-03-24T21:07:07.009602Z",
     "shell.execute_reply": "2022-03-24T21:07:07.009126Z"
    },
    "papermill": {
     "duration": 0.030699,
     "end_time": "2022-03-24T21:07:07.009701",
     "exception": false,
     "start_time": "2022-03-24T21:07:06.979002",
     "status": "completed"
    },
    "tags": []
   },
   "outputs": [],
   "source": [
    "# from steves_utils.CORES.utils import (\n",
    "#     ALL_NODES,\n",
    "#     ALL_NODES_MINIMUM_1000_EXAMPLES,\n",
    "#     ALL_DAYS\n",
    "# )\n",
    "\n",
    "# add_dataset(\n",
    "#     labels=ALL_NODES,\n",
    "#     domains = ALL_DAYS,\n",
    "#     num_examples_per_domain_per_label=100,\n",
    "#     pickle_path=os.path.join(get_datasets_base_path(), \"cores.stratified_ds.2022A.pkl\"),\n",
    "#     source_or_target_dataset=\"target\",\n",
    "#     x_transform_func=global_x_transform_func,\n",
    "#     domain_modifier=lambda u: f\"cores_{u}\"\n",
    "# )"
   ]
  },
  {
   "cell_type": "code",
   "execution_count": 15,
   "id": "76db484d",
   "metadata": {
    "execution": {
     "iopub.execute_input": "2022-03-24T21:07:07.043297Z",
     "iopub.status.busy": "2022-03-24T21:07:07.043049Z",
     "iopub.status.idle": "2022-03-24T21:07:07.053973Z",
     "shell.execute_reply": "2022-03-24T21:07:07.053712Z"
    },
    "papermill": {
     "duration": 0.025485,
     "end_time": "2022-03-24T21:07:07.054049",
     "exception": false,
     "start_time": "2022-03-24T21:07:07.028564",
     "status": "completed"
    },
    "tags": []
   },
   "outputs": [],
   "source": [
    "# from steves_utils.ORACLE.utils_v2 import (\n",
    "#     ALL_DISTANCES_FEET,\n",
    "#     ALL_RUNS,\n",
    "#     ALL_SERIAL_NUMBERS,\n",
    "# )\n",
    "\n",
    "\n",
    "# add_dataset(\n",
    "#     labels=ALL_SERIAL_NUMBERS,\n",
    "#     domains = list(set(ALL_DISTANCES_FEET) - {2,62}),\n",
    "#     num_examples_per_domain_per_label=100,\n",
    "#     pickle_path=os.path.join(get_datasets_base_path(), \"oracle.Run2_framed_2000Examples_stratified_ds.2022A.pkl\"),\n",
    "#     source_or_target_dataset=\"source\",\n",
    "#     x_transform_func=global_x_transform_func,\n",
    "#     domain_modifier=lambda u: f\"oracle1_{u}\"\n",
    "# )\n"
   ]
  },
  {
   "cell_type": "code",
   "execution_count": 16,
   "id": "97dea9d2",
   "metadata": {
    "execution": {
     "iopub.execute_input": "2022-03-24T21:07:07.093871Z",
     "iopub.status.busy": "2022-03-24T21:07:07.088356Z",
     "iopub.status.idle": "2022-03-24T21:07:07.104663Z",
     "shell.execute_reply": "2022-03-24T21:07:07.104228Z"
    },
    "papermill": {
     "duration": 0.031505,
     "end_time": "2022-03-24T21:07:07.104759",
     "exception": false,
     "start_time": "2022-03-24T21:07:07.073254",
     "status": "completed"
    },
    "tags": []
   },
   "outputs": [],
   "source": [
    "# from steves_utils.ORACLE.utils_v2 import (\n",
    "#     ALL_DISTANCES_FEET,\n",
    "#     ALL_RUNS,\n",
    "#     ALL_SERIAL_NUMBERS,\n",
    "# )\n",
    "\n",
    "\n",
    "# add_dataset(\n",
    "#     labels=ALL_SERIAL_NUMBERS,\n",
    "#     domains = list(set(ALL_DISTANCES_FEET) - {2,62,56}),\n",
    "#     num_examples_per_domain_per_label=100,\n",
    "#     pickle_path=os.path.join(get_datasets_base_path(), \"oracle.Run2_framed_2000Examples_stratified_ds.2022A.pkl\"),\n",
    "#     source_or_target_dataset=\"source\",\n",
    "#     x_transform_func=global_x_transform_func,\n",
    "#     domain_modifier=lambda u: f\"oracle2_{u}\"\n",
    "# )"
   ]
  },
  {
   "cell_type": "code",
   "execution_count": 17,
   "id": "6f289866",
   "metadata": {
    "execution": {
     "iopub.execute_input": "2022-03-24T21:07:07.138841Z",
     "iopub.status.busy": "2022-03-24T21:07:07.138597Z",
     "iopub.status.idle": "2022-03-24T21:07:07.153526Z",
     "shell.execute_reply": "2022-03-24T21:07:07.153057Z"
    },
    "papermill": {
     "duration": 0.030522,
     "end_time": "2022-03-24T21:07:07.153623",
     "exception": false,
     "start_time": "2022-03-24T21:07:07.123101",
     "status": "completed"
    },
    "tags": []
   },
   "outputs": [],
   "source": [
    "# add_dataset(\n",
    "#     labels=list(range(19)),\n",
    "#     domains = [0,1,2],\n",
    "#     num_examples_per_domain_per_label=100,\n",
    "#     pickle_path=os.path.join(get_datasets_base_path(), \"metehan.stratified_ds.2022A.pkl\"),\n",
    "#     source_or_target_dataset=\"target\",\n",
    "#     x_transform_func=global_x_transform_func,\n",
    "#     domain_modifier=lambda u: f\"met_{u}\"\n",
    "# )"
   ]
  },
  {
   "cell_type": "code",
   "execution_count": 18,
   "id": "86a863c3",
   "metadata": {
    "execution": {
     "iopub.execute_input": "2022-03-24T21:07:07.187922Z",
     "iopub.status.busy": "2022-03-24T21:07:07.187566Z",
     "iopub.status.idle": "2022-03-24T21:07:07.202485Z",
     "shell.execute_reply": "2022-03-24T21:07:07.202071Z"
    },
    "papermill": {
     "duration": 0.030343,
     "end_time": "2022-03-24T21:07:07.202583",
     "exception": false,
     "start_time": "2022-03-24T21:07:07.172240",
     "status": "completed"
    },
    "tags": []
   },
   "outputs": [],
   "source": [
    "# # from steves_utils.wisig.utils import (\n",
    "# #     ALL_NODES_MINIMUM_100_EXAMPLES,\n",
    "# #     ALL_NODES_MINIMUM_500_EXAMPLES,\n",
    "# #     ALL_NODES_MINIMUM_1000_EXAMPLES,\n",
    "# #     ALL_DAYS\n",
    "# # )\n",
    "\n",
    "# import steves_utils.wisig.utils as wisig\n",
    "\n",
    "\n",
    "# add_dataset(\n",
    "#     labels=wisig.ALL_NODES_MINIMUM_100_EXAMPLES,\n",
    "#     domains = wisig.ALL_DAYS,\n",
    "#     num_examples_per_domain_per_label=100,\n",
    "#     pickle_path=os.path.join(get_datasets_base_path(), \"wisig.node3-19.stratified_ds.2022A.pkl\"),\n",
    "#     source_or_target_dataset=\"target\",\n",
    "#     x_transform_func=global_x_transform_func,\n",
    "#     domain_modifier=lambda u: f\"wisig_{u}\"\n",
    "# )"
   ]
  },
  {
   "cell_type": "code",
   "execution_count": 19,
   "id": "fd5442bc",
   "metadata": {
    "execution": {
     "iopub.execute_input": "2022-03-24T21:07:07.239362Z",
     "iopub.status.busy": "2022-03-24T21:07:07.239027Z",
     "iopub.status.idle": "2022-03-24T21:07:07.251657Z",
     "shell.execute_reply": "2022-03-24T21:07:07.251223Z"
    },
    "papermill": {
     "duration": 0.031387,
     "end_time": "2022-03-24T21:07:07.251761",
     "exception": false,
     "start_time": "2022-03-24T21:07:07.220374",
     "status": "completed"
    },
    "tags": []
   },
   "outputs": [],
   "source": [
    "###################################\n",
    "# Build the dataset\n",
    "###################################\n",
    "train_original_source = Iterable_Aggregator(train_original_source, p.seed)\n",
    "val_original_source = Iterable_Aggregator(val_original_source, p.seed)\n",
    "test_original_source = Iterable_Aggregator(test_original_source, p.seed)\n",
    "\n",
    "\n",
    "train_original_target = Iterable_Aggregator(train_original_target, p.seed)\n",
    "val_original_target = Iterable_Aggregator(val_original_target, p.seed)\n",
    "test_original_target = Iterable_Aggregator(test_original_target, p.seed)\n",
    "\n",
    "# For CNN We only use X and Y. And we only train on the source.\n",
    "# Properly form the data using a transform lambda and Lazy_Iterable_Wrapper. Finally wrap them in a dataloader\n",
    "\n",
    "transform_lambda = lambda ex: ex[1] # Original is (<domain>, <episode>) so we strip down to episode only\n",
    "\n",
    "train_processed_source = Lazy_Iterable_Wrapper(train_original_source, transform_lambda)\n",
    "val_processed_source   = Lazy_Iterable_Wrapper(val_original_source, transform_lambda)\n",
    "test_processed_source  = Lazy_Iterable_Wrapper(test_original_source, transform_lambda)\n",
    "\n",
    "train_processed_target = Lazy_Iterable_Wrapper(train_original_target, transform_lambda)\n",
    "val_processed_target   = Lazy_Iterable_Wrapper(val_original_target, transform_lambda)\n",
    "test_processed_target  = Lazy_Iterable_Wrapper(test_original_target, transform_lambda)\n",
    "\n",
    "datasets = EasyDict({\n",
    "    \"source\": {\n",
    "        \"original\": {\"train\":train_original_source, \"val\":val_original_source, \"test\":test_original_source},\n",
    "        \"processed\": {\"train\":train_processed_source, \"val\":val_processed_source, \"test\":test_processed_source}\n",
    "    },\n",
    "    \"target\": {\n",
    "        \"original\": {\"train\":train_original_target, \"val\":val_original_target, \"test\":test_original_target},\n",
    "        \"processed\": {\"train\":train_processed_target, \"val\":val_processed_target, \"test\":test_processed_target}\n",
    "    },\n",
    "})"
   ]
  },
  {
   "cell_type": "code",
   "execution_count": 20,
   "id": "5b3c01fc",
   "metadata": {
    "execution": {
     "iopub.execute_input": "2022-03-24T21:07:07.294740Z",
     "iopub.status.busy": "2022-03-24T21:07:07.288009Z",
     "iopub.status.idle": "2022-03-24T21:07:32.098229Z",
     "shell.execute_reply": "2022-03-24T21:07:32.097922Z"
    },
    "papermill": {
     "duration": 24.827133,
     "end_time": "2022-03-24T21:07:32.098293",
     "exception": false,
     "start_time": "2022-03-24T21:07:07.271160",
     "status": "completed"
    },
    "tags": []
   },
   "outputs": [
    {
     "name": "stdout",
     "output_type": "stream",
     "text": [
      "{'ORACLE.run1_50', 'ORACLE.run1_26', 'ORACLE.run1_44', 'ORACLE.run1_38', 'ORACLE.run1_32', 'ORACLE.run1_8', 'ORACLE.run1_14', 'ORACLE.run1_20'}\n"
     ]
    },
    {
     "name": "stdout",
     "output_type": "stream",
     "text": [
      "{'ORACLE.run2_50', 'ORACLE.run2_38', 'ORACLE.run2_20', 'ORACLE.run2_14', 'ORACLE.run2_26', 'ORACLE.run2_32', 'ORACLE.run2_44', 'ORACLE.run2_8'}\n"
     ]
    },
    {
     "name": "stdout",
     "output_type": "stream",
     "text": [
      "tensor([[[ 3.9064e-03, -2.3194e-03, -4.0895e-03,  ..., -4.5778e-04,\n",
      "           2.8687e-03, -7.5686e-03],\n",
      "         [ 4.2421e-03,  1.1902e-03,  2.1973e-03,  ...,  4.9440e-03,\n",
      "          -9.1556e-05, -8.5757e-03]],\n",
      "\n",
      "        [[ 7.5991e-03,  6.4699e-03, -5.1881e-03,  ...,  2.2584e-03,\n",
      "           2.7467e-04, -6.9277e-03],\n",
      "         [ 1.0376e-03, -1.0376e-03,  6.4699e-03,  ...,  8.5452e-04,\n",
      "          -3.5707e-03, -3.6317e-03]],\n",
      "\n",
      "        [[-2.7772e-03, -1.8006e-03, -3.2044e-03,  ..., -1.9227e-03,\n",
      "           1.9837e-03,  5.3407e-03],\n",
      "         [ 6.5310e-03, -1.3123e-03, -3.9979e-03,  ...,  6.1037e-03,\n",
      "          -6.1037e-04, -3.3265e-03]],\n",
      "\n",
      "        ...,\n",
      "\n",
      "        [[ 3.7843e-03, -2.4720e-03, -1.0041e-02,  ..., -1.2818e-03,\n",
      "           3.6317e-03,  3.1739e-03],\n",
      "         [-3.9979e-03, -6.4089e-04,  4.6083e-03,  ...,  5.6764e-03,\n",
      "           4.9745e-03, -8.3316e-03]],\n",
      "\n",
      "        [[-2.2279e-03,  7.9348e-04, -7.0193e-04,  ..., -4.6693e-03,\n",
      "          -3.6927e-03, -3.7843e-03],\n",
      "         [-4.5778e-03,  8.2400e-04,  1.1628e-02,  ...,  1.8311e-04,\n",
      "           4.5778e-04,  1.0681e-03]],\n",
      "\n",
      "        [[ 2.0753e-03,  1.8006e-03, -2.9603e-03,  ..., -5.8596e-03,\n",
      "          -3.8148e-03,  7.4770e-03],\n",
      "         [ 4.5167e-03, -3.8453e-03, -9.6438e-03,  ..., -2.8993e-03,\n",
      "           2.6551e-03,  5.4628e-03]]])\n"
     ]
    }
   ],
   "source": [
    "from steves_utils.transforms import get_average_magnitude, get_average_power\n",
    "\n",
    "print(set([u for u,_ in val_original_source]))\n",
    "print(set([u for u,_ in val_original_target]))\n",
    "\n",
    "s_x, s_y, q_x, q_y, _ = next(iter(train_processed_source))\n",
    "print(s_x)\n",
    "\n",
    "# for ds in [\n",
    "#     train_processed_source,\n",
    "#     val_processed_source,\n",
    "#     test_processed_source,\n",
    "#     train_processed_target,\n",
    "#     val_processed_target,\n",
    "#     test_processed_target\n",
    "# ]:\n",
    "#     for s_x, s_y, q_x, q_y, _ in ds:\n",
    "#         for X in (s_x, q_x):\n",
    "#             for x in X:\n",
    "#                 assert np.isclose(get_average_magnitude(x.numpy()), 1.0)\n",
    "#                 assert np.isclose(get_average_power(x.numpy()), 1.0)\n",
    "                "
   ]
  },
  {
   "cell_type": "code",
   "execution_count": 21,
   "id": "bbdacba1",
   "metadata": {
    "execution": {
     "iopub.execute_input": "2022-03-24T21:07:32.135033Z",
     "iopub.status.busy": "2022-03-24T21:07:32.134769Z",
     "iopub.status.idle": "2022-03-24T21:07:32.194146Z",
     "shell.execute_reply": "2022-03-24T21:07:32.193685Z"
    },
    "papermill": {
     "duration": 0.078324,
     "end_time": "2022-03-24T21:07:32.194242",
     "exception": false,
     "start_time": "2022-03-24T21:07:32.115918",
     "status": "completed"
    },
    "tags": []
   },
   "outputs": [
    {
     "name": "stdout",
     "output_type": "stream",
     "text": [
      "(2, 256)\n"
     ]
    }
   ],
   "source": [
    "###################################\n",
    "# Build the model\n",
    "###################################\n",
    "# easfsl only wants a tuple for the shape\n",
    "model = Steves_Prototypical_Network(x_net, device=p.device, x_shape=tuple(p.x_shape))\n",
    "optimizer = Adam(params=model.parameters(), lr=p.lr)"
   ]
  },
  {
   "cell_type": "code",
   "execution_count": 22,
   "id": "22b39ac5",
   "metadata": {
    "execution": {
     "iopub.execute_input": "2022-03-24T21:07:32.230553Z",
     "iopub.status.busy": "2022-03-24T21:07:32.230303Z",
     "iopub.status.idle": "2022-03-24T23:24:26.026844Z",
     "shell.execute_reply": "2022-03-24T23:24:26.026610Z"
    },
    "papermill": {
     "duration": 8213.814054,
     "end_time": "2022-03-24T23:24:26.026903",
     "exception": false,
     "start_time": "2022-03-24T21:07:32.212849",
     "status": "completed"
    },
    "tags": []
   },
   "outputs": [
    {
     "name": "stdout",
     "output_type": "stream",
     "text": [
      "epoch: 1, [batch: 1 / 33600], examples_per_second: 9.8803, train_label_loss: 2.7090, \n"
     ]
    },
    {
     "name": "stdout",
     "output_type": "stream",
     "text": [
      "epoch: 1, [batch: 3360 / 33600], examples_per_second: 3218.6786, train_label_loss: 1.1932, \n"
     ]
    },
    {
     "name": "stdout",
     "output_type": "stream",
     "text": [
      "epoch: 1, [batch: 6720 / 33600], examples_per_second: 3215.2313, train_label_loss: 0.7396, \n"
     ]
    },
    {
     "name": "stdout",
     "output_type": "stream",
     "text": [
      "epoch: 1, [batch: 10080 / 33600], examples_per_second: 3215.0931, train_label_loss: 0.8886, \n"
     ]
    },
    {
     "name": "stdout",
     "output_type": "stream",
     "text": [
      "epoch: 1, [batch: 13440 / 33600], examples_per_second: 3194.2716, train_label_loss: 0.4174, \n"
     ]
    },
    {
     "name": "stdout",
     "output_type": "stream",
     "text": [
      "epoch: 1, [batch: 16800 / 33600], examples_per_second: 3211.4919, train_label_loss: 0.5290, \n"
     ]
    },
    {
     "name": "stdout",
     "output_type": "stream",
     "text": [
      "epoch: 1, [batch: 20160 / 33600], examples_per_second: 3212.3954, train_label_loss: 0.3495, \n"
     ]
    },
    {
     "name": "stdout",
     "output_type": "stream",
     "text": [
      "epoch: 1, [batch: 23520 / 33600], examples_per_second: 3202.7365, train_label_loss: 0.6126, \n"
     ]
    },
    {
     "name": "stdout",
     "output_type": "stream",
     "text": [
      "epoch: 1, [batch: 26880 / 33600], examples_per_second: 3211.1724, train_label_loss: 0.3918, \n"
     ]
    },
    {
     "name": "stdout",
     "output_type": "stream",
     "text": [
      "epoch: 1, [batch: 30240 / 33600], examples_per_second: 3214.3547, train_label_loss: 0.3942, \n"
     ]
    },
    {
     "name": "stdout",
     "output_type": "stream",
     "text": [
      "=============================================================\n",
      "epoch: 1, source_val_acc_label: 0.7681, target_val_acc_label: 0.7735, source_val_label_loss: 0.8205, target_val_label_loss: 0.8846, \n",
      "=============================================================\n"
     ]
    },
    {
     "name": "stdout",
     "output_type": "stream",
     "text": [
      "New best\n"
     ]
    },
    {
     "name": "stdout",
     "output_type": "stream",
     "text": [
      "epoch: 2, [batch: 1 / 33600], examples_per_second: 0.9600, train_label_loss: 0.3629, \n"
     ]
    },
    {
     "name": "stdout",
     "output_type": "stream",
     "text": [
      "epoch: 2, [batch: 3360 / 33600], examples_per_second: 3231.5442, train_label_loss: 0.4829, \n"
     ]
    },
    {
     "name": "stdout",
     "output_type": "stream",
     "text": [
      "epoch: 2, [batch: 6720 / 33600], examples_per_second: 3238.3306, train_label_loss: 0.2831, \n"
     ]
    },
    {
     "name": "stdout",
     "output_type": "stream",
     "text": [
      "epoch: 2, [batch: 10080 / 33600], examples_per_second: 3243.1730, train_label_loss: 0.4009, \n"
     ]
    },
    {
     "name": "stdout",
     "output_type": "stream",
     "text": [
      "epoch: 2, [batch: 13440 / 33600], examples_per_second: 3231.3008, train_label_loss: 0.2180, \n"
     ]
    },
    {
     "name": "stdout",
     "output_type": "stream",
     "text": [
      "epoch: 2, [batch: 16800 / 33600], examples_per_second: 3243.0603, train_label_loss: 0.1525, \n"
     ]
    },
    {
     "name": "stdout",
     "output_type": "stream",
     "text": [
      "epoch: 2, [batch: 20160 / 33600], examples_per_second: 3250.7328, train_label_loss: 0.2754, \n"
     ]
    },
    {
     "name": "stdout",
     "output_type": "stream",
     "text": [
      "epoch: 2, [batch: 23520 / 33600], examples_per_second: 3232.0314, train_label_loss: 0.2727, \n"
     ]
    },
    {
     "name": "stdout",
     "output_type": "stream",
     "text": [
      "epoch: 2, [batch: 26880 / 33600], examples_per_second: 3239.3203, train_label_loss: 0.5176, \n"
     ]
    },
    {
     "name": "stdout",
     "output_type": "stream",
     "text": [
      "epoch: 2, [batch: 30240 / 33600], examples_per_second: 3246.8055, train_label_loss: 0.3173, \n"
     ]
    },
    {
     "name": "stdout",
     "output_type": "stream",
     "text": [
      "=============================================================\n",
      "epoch: 2, source_val_acc_label: 0.8541, target_val_acc_label: 0.8566, source_val_label_loss: 0.4039, target_val_label_loss: 0.4448, \n",
      "=============================================================\n"
     ]
    },
    {
     "name": "stdout",
     "output_type": "stream",
     "text": [
      "New best\n"
     ]
    },
    {
     "name": "stdout",
     "output_type": "stream",
     "text": [
      "epoch: 3, [batch: 1 / 33600], examples_per_second: 0.9750, train_label_loss: 0.5915, \n"
     ]
    },
    {
     "name": "stdout",
     "output_type": "stream",
     "text": [
      "epoch: 3, [batch: 3360 / 33600], examples_per_second: 3231.5240, train_label_loss: 0.3154, \n"
     ]
    },
    {
     "name": "stdout",
     "output_type": "stream",
     "text": [
      "epoch: 3, [batch: 6720 / 33600], examples_per_second: 3236.6322, train_label_loss: 0.3330, \n"
     ]
    },
    {
     "name": "stdout",
     "output_type": "stream",
     "text": [
      "epoch: 3, [batch: 10080 / 33600], examples_per_second: 3249.4542, train_label_loss: 0.5959, \n"
     ]
    },
    {
     "name": "stdout",
     "output_type": "stream",
     "text": [
      "epoch: 3, [batch: 13440 / 33600], examples_per_second: 3229.7767, train_label_loss: 0.2998, \n"
     ]
    },
    {
     "name": "stdout",
     "output_type": "stream",
     "text": [
      "epoch: 3, [batch: 16800 / 33600], examples_per_second: 3241.0943, train_label_loss: 0.5021, \n"
     ]
    },
    {
     "name": "stdout",
     "output_type": "stream",
     "text": [
      "epoch: 3, [batch: 20160 / 33600], examples_per_second: 3241.0760, train_label_loss: 0.3664, \n"
     ]
    },
    {
     "name": "stdout",
     "output_type": "stream",
     "text": [
      "epoch: 3, [batch: 23520 / 33600], examples_per_second: 3223.4501, train_label_loss: 0.4461, \n"
     ]
    },
    {
     "name": "stdout",
     "output_type": "stream",
     "text": [
      "epoch: 3, [batch: 26880 / 33600], examples_per_second: 3236.7614, train_label_loss: 0.3739, \n"
     ]
    },
    {
     "name": "stdout",
     "output_type": "stream",
     "text": [
      "epoch: 3, [batch: 30240 / 33600], examples_per_second: 3243.9036, train_label_loss: 0.1478, \n"
     ]
    },
    {
     "name": "stdout",
     "output_type": "stream",
     "text": [
      "=============================================================\n",
      "epoch: 3, source_val_acc_label: 0.8631, target_val_acc_label: 0.8667, source_val_label_loss: 0.3894, target_val_label_loss: 0.4491, \n",
      "=============================================================\n"
     ]
    },
    {
     "name": "stdout",
     "output_type": "stream",
     "text": [
      "New best\n"
     ]
    },
    {
     "name": "stdout",
     "output_type": "stream",
     "text": [
      "epoch: 4, [batch: 1 / 33600], examples_per_second: 0.9724, train_label_loss: 0.4721, \n"
     ]
    },
    {
     "name": "stdout",
     "output_type": "stream",
     "text": [
      "epoch: 4, [batch: 3360 / 33600], examples_per_second: 3230.7869, train_label_loss: 0.9242, \n"
     ]
    },
    {
     "name": "stdout",
     "output_type": "stream",
     "text": [
      "epoch: 4, [batch: 6720 / 33600], examples_per_second: 3233.4544, train_label_loss: 0.3004, \n"
     ]
    },
    {
     "name": "stdout",
     "output_type": "stream",
     "text": [
      "epoch: 4, [batch: 10080 / 33600], examples_per_second: 3238.9374, train_label_loss: 0.1001, \n"
     ]
    },
    {
     "name": "stdout",
     "output_type": "stream",
     "text": [
      "epoch: 4, [batch: 13440 / 33600], examples_per_second: 3225.6467, train_label_loss: 0.2047, \n"
     ]
    },
    {
     "name": "stdout",
     "output_type": "stream",
     "text": [
      "epoch: 4, [batch: 16800 / 33600], examples_per_second: 3240.5548, train_label_loss: 0.4518, \n"
     ]
    },
    {
     "name": "stdout",
     "output_type": "stream",
     "text": [
      "epoch: 4, [batch: 20160 / 33600], examples_per_second: 3244.5634, train_label_loss: 0.7996, \n"
     ]
    },
    {
     "name": "stdout",
     "output_type": "stream",
     "text": [
      "epoch: 4, [batch: 23520 / 33600], examples_per_second: 3232.4654, train_label_loss: 0.7342, \n"
     ]
    },
    {
     "name": "stdout",
     "output_type": "stream",
     "text": [
      "epoch: 4, [batch: 26880 / 33600], examples_per_second: 3236.2083, train_label_loss: 0.3716, \n"
     ]
    },
    {
     "name": "stdout",
     "output_type": "stream",
     "text": [
      "epoch: 4, [batch: 30240 / 33600], examples_per_second: 3242.6164, train_label_loss: 0.1871, \n"
     ]
    },
    {
     "name": "stdout",
     "output_type": "stream",
     "text": [
      "=============================================================\n",
      "epoch: 4, source_val_acc_label: 0.8670, target_val_acc_label: 0.8674, source_val_label_loss: 0.3669, target_val_label_loss: 0.4343, \n",
      "=============================================================\n"
     ]
    },
    {
     "name": "stdout",
     "output_type": "stream",
     "text": [
      "New best\n"
     ]
    },
    {
     "name": "stdout",
     "output_type": "stream",
     "text": [
      "epoch: 5, [batch: 1 / 33600], examples_per_second: 0.9742, train_label_loss: 0.4896, \n"
     ]
    },
    {
     "name": "stdout",
     "output_type": "stream",
     "text": [
      "epoch: 5, [batch: 3360 / 33600], examples_per_second: 3238.2777, train_label_loss: 0.4442, \n"
     ]
    },
    {
     "name": "stdout",
     "output_type": "stream",
     "text": [
      "epoch: 5, [batch: 6720 / 33600], examples_per_second: 3244.7803, train_label_loss: 0.2984, \n"
     ]
    },
    {
     "name": "stdout",
     "output_type": "stream",
     "text": [
      "epoch: 5, [batch: 10080 / 33600], examples_per_second: 3246.7370, train_label_loss: 0.6263, \n"
     ]
    },
    {
     "name": "stdout",
     "output_type": "stream",
     "text": [
      "epoch: 5, [batch: 13440 / 33600], examples_per_second: 3234.4901, train_label_loss: 0.2917, \n"
     ]
    },
    {
     "name": "stdout",
     "output_type": "stream",
     "text": [
      "epoch: 5, [batch: 16800 / 33600], examples_per_second: 3240.8084, train_label_loss: 0.2707, \n"
     ]
    },
    {
     "name": "stdout",
     "output_type": "stream",
     "text": [
      "epoch: 5, [batch: 20160 / 33600], examples_per_second: 3243.7422, train_label_loss: 0.0525, \n"
     ]
    },
    {
     "name": "stdout",
     "output_type": "stream",
     "text": [
      "epoch: 5, [batch: 23520 / 33600], examples_per_second: 3234.2728, train_label_loss: 0.1742, \n"
     ]
    },
    {
     "name": "stdout",
     "output_type": "stream",
     "text": [
      "epoch: 5, [batch: 26880 / 33600], examples_per_second: 3239.8124, train_label_loss: 0.2318, \n"
     ]
    },
    {
     "name": "stdout",
     "output_type": "stream",
     "text": [
      "epoch: 5, [batch: 30240 / 33600], examples_per_second: 3247.3955, train_label_loss: 0.3413, \n"
     ]
    },
    {
     "name": "stdout",
     "output_type": "stream",
     "text": [
      "=============================================================\n",
      "epoch: 5, source_val_acc_label: 0.8759, target_val_acc_label: 0.8758, source_val_label_loss: 0.3616, target_val_label_loss: 0.4655, \n",
      "=============================================================\n"
     ]
    },
    {
     "name": "stdout",
     "output_type": "stream",
     "text": [
      "New best\n"
     ]
    },
    {
     "name": "stdout",
     "output_type": "stream",
     "text": [
      "epoch: 6, [batch: 1 / 33600], examples_per_second: 0.9687, train_label_loss: 0.2908, \n"
     ]
    },
    {
     "name": "stdout",
     "output_type": "stream",
     "text": [
      "epoch: 6, [batch: 3360 / 33600], examples_per_second: 3228.4601, train_label_loss: 0.4899, \n"
     ]
    },
    {
     "name": "stdout",
     "output_type": "stream",
     "text": [
      "epoch: 6, [batch: 6720 / 33600], examples_per_second: 3243.6860, train_label_loss: 0.1962, \n"
     ]
    },
    {
     "name": "stdout",
     "output_type": "stream",
     "text": [
      "epoch: 6, [batch: 10080 / 33600], examples_per_second: 3249.0203, train_label_loss: 0.5779, \n"
     ]
    },
    {
     "name": "stdout",
     "output_type": "stream",
     "text": [
      "epoch: 6, [batch: 13440 / 33600], examples_per_second: 3230.2059, train_label_loss: 0.3320, \n"
     ]
    },
    {
     "name": "stdout",
     "output_type": "stream",
     "text": [
      "epoch: 6, [batch: 16800 / 33600], examples_per_second: 3236.8414, train_label_loss: 0.1822, \n"
     ]
    },
    {
     "name": "stdout",
     "output_type": "stream",
     "text": [
      "epoch: 6, [batch: 20160 / 33600], examples_per_second: 3246.4236, train_label_loss: 0.1426, \n"
     ]
    },
    {
     "name": "stdout",
     "output_type": "stream",
     "text": [
      "epoch: 6, [batch: 23520 / 33600], examples_per_second: 3226.3999, train_label_loss: 0.1966, \n"
     ]
    },
    {
     "name": "stdout",
     "output_type": "stream",
     "text": [
      "epoch: 6, [batch: 26880 / 33600], examples_per_second: 3239.8011, train_label_loss: 0.5444, \n"
     ]
    },
    {
     "name": "stdout",
     "output_type": "stream",
     "text": [
      "epoch: 6, [batch: 30240 / 33600], examples_per_second: 3241.1621, train_label_loss: 0.2197, \n"
     ]
    },
    {
     "name": "stdout",
     "output_type": "stream",
     "text": [
      "=============================================================\n",
      "epoch: 6, source_val_acc_label: 0.8776, target_val_acc_label: 0.8713, source_val_label_loss: 0.3462, target_val_label_loss: 0.4745, \n",
      "=============================================================\n"
     ]
    },
    {
     "name": "stdout",
     "output_type": "stream",
     "text": [
      "epoch: 7, [batch: 1 / 33600], examples_per_second: 0.9678, train_label_loss: 0.3836, \n"
     ]
    },
    {
     "name": "stdout",
     "output_type": "stream",
     "text": [
      "epoch: 7, [batch: 3360 / 33600], examples_per_second: 3230.3071, train_label_loss: 0.2837, \n"
     ]
    },
    {
     "name": "stdout",
     "output_type": "stream",
     "text": [
      "epoch: 7, [batch: 6720 / 33600], examples_per_second: 3238.3085, train_label_loss: 0.1194, \n"
     ]
    },
    {
     "name": "stdout",
     "output_type": "stream",
     "text": [
      "epoch: 7, [batch: 10080 / 33600], examples_per_second: 3244.4691, train_label_loss: 0.2128, \n"
     ]
    },
    {
     "name": "stdout",
     "output_type": "stream",
     "text": [
      "epoch: 7, [batch: 13440 / 33600], examples_per_second: 3224.1529, train_label_loss: 0.2494, \n"
     ]
    },
    {
     "name": "stdout",
     "output_type": "stream",
     "text": [
      "epoch: 7, [batch: 16800 / 33600], examples_per_second: 3242.4272, train_label_loss: 0.2450, \n"
     ]
    },
    {
     "name": "stdout",
     "output_type": "stream",
     "text": [
      "epoch: 7, [batch: 20160 / 33600], examples_per_second: 3234.8201, train_label_loss: 0.3395, \n"
     ]
    },
    {
     "name": "stdout",
     "output_type": "stream",
     "text": [
      "epoch: 7, [batch: 23520 / 33600], examples_per_second: 3235.1093, train_label_loss: 0.1363, \n"
     ]
    },
    {
     "name": "stdout",
     "output_type": "stream",
     "text": [
      "epoch: 7, [batch: 26880 / 33600], examples_per_second: 3229.6214, train_label_loss: 0.1619, \n"
     ]
    },
    {
     "name": "stdout",
     "output_type": "stream",
     "text": [
      "epoch: 7, [batch: 30240 / 33600], examples_per_second: 3246.2989, train_label_loss: 0.2114, \n"
     ]
    },
    {
     "name": "stdout",
     "output_type": "stream",
     "text": [
      "=============================================================\n",
      "epoch: 7, source_val_acc_label: 0.8787, target_val_acc_label: 0.8741, source_val_label_loss: 0.3407, target_val_label_loss: 0.4397, \n",
      "=============================================================\n"
     ]
    },
    {
     "name": "stdout",
     "output_type": "stream",
     "text": [
      "epoch: 8, [batch: 1 / 33600], examples_per_second: 0.9739, train_label_loss: 0.0821, \n"
     ]
    },
    {
     "name": "stdout",
     "output_type": "stream",
     "text": [
      "epoch: 8, [batch: 3360 / 33600], examples_per_second: 3229.7120, train_label_loss: 0.3064, \n"
     ]
    },
    {
     "name": "stdout",
     "output_type": "stream",
     "text": [
      "epoch: 8, [batch: 6720 / 33600], examples_per_second: 3243.2001, train_label_loss: 0.1709, \n"
     ]
    },
    {
     "name": "stdout",
     "output_type": "stream",
     "text": [
      "epoch: 8, [batch: 10080 / 33600], examples_per_second: 3249.3626, train_label_loss: 0.0533, \n"
     ]
    },
    {
     "name": "stdout",
     "output_type": "stream",
     "text": [
      "epoch: 8, [batch: 13440 / 33600], examples_per_second: 3235.1941, train_label_loss: 0.2460, \n"
     ]
    },
    {
     "name": "stdout",
     "output_type": "stream",
     "text": [
      "epoch: 8, [batch: 16800 / 33600], examples_per_second: 3242.4264, train_label_loss: 0.2965, \n"
     ]
    },
    {
     "name": "stdout",
     "output_type": "stream",
     "text": [
      "epoch: 8, [batch: 20160 / 33600], examples_per_second: 3243.3653, train_label_loss: 0.1912, \n"
     ]
    },
    {
     "name": "stdout",
     "output_type": "stream",
     "text": [
      "epoch: 8, [batch: 23520 / 33600], examples_per_second: 3231.6799, train_label_loss: 0.3946, \n"
     ]
    },
    {
     "name": "stdout",
     "output_type": "stream",
     "text": [
      "epoch: 8, [batch: 26880 / 33600], examples_per_second: 3244.0301, train_label_loss: 0.1824, \n"
     ]
    },
    {
     "name": "stdout",
     "output_type": "stream",
     "text": [
      "epoch: 8, [batch: 30240 / 33600], examples_per_second: 3244.8842, train_label_loss: 0.2721, \n"
     ]
    },
    {
     "name": "stdout",
     "output_type": "stream",
     "text": [
      "=============================================================\n",
      "epoch: 8, source_val_acc_label: 0.8816, target_val_acc_label: 0.8716, source_val_label_loss: 0.3344, target_val_label_loss: 0.4526, \n",
      "=============================================================\n"
     ]
    },
    {
     "name": "stdout",
     "output_type": "stream",
     "text": [
      "epoch: 9, [batch: 1 / 33600], examples_per_second: 0.9684, train_label_loss: 0.0217, \n"
     ]
    },
    {
     "name": "stdout",
     "output_type": "stream",
     "text": [
      "epoch: 9, [batch: 3360 / 33600], examples_per_second: 3227.1004, train_label_loss: 0.2227, \n"
     ]
    },
    {
     "name": "stdout",
     "output_type": "stream",
     "text": [
      "epoch: 9, [batch: 6720 / 33600], examples_per_second: 3244.1334, train_label_loss: 0.2382, \n"
     ]
    },
    {
     "name": "stdout",
     "output_type": "stream",
     "text": [
      "epoch: 9, [batch: 10080 / 33600], examples_per_second: 3243.3354, train_label_loss: 0.3829, \n"
     ]
    },
    {
     "name": "stdout",
     "output_type": "stream",
     "text": [
      "epoch: 9, [batch: 13440 / 33600], examples_per_second: 3230.0564, train_label_loss: 0.1979, \n"
     ]
    },
    {
     "name": "stdout",
     "output_type": "stream",
     "text": [
      "epoch: 9, [batch: 16800 / 33600], examples_per_second: 3240.7077, train_label_loss: 0.5226, \n"
     ]
    },
    {
     "name": "stdout",
     "output_type": "stream",
     "text": [
      "epoch: 9, [batch: 20160 / 33600], examples_per_second: 3247.7113, train_label_loss: 0.2334, \n"
     ]
    },
    {
     "name": "stdout",
     "output_type": "stream",
     "text": [
      "epoch: 9, [batch: 23520 / 33600], examples_per_second: 3235.5631, train_label_loss: 0.0633, \n"
     ]
    },
    {
     "name": "stdout",
     "output_type": "stream",
     "text": [
      "epoch: 9, [batch: 26880 / 33600], examples_per_second: 3241.2481, train_label_loss: 0.3482, \n"
     ]
    },
    {
     "name": "stdout",
     "output_type": "stream",
     "text": [
      "epoch: 9, [batch: 30240 / 33600], examples_per_second: 3243.5166, train_label_loss: 0.0480, \n"
     ]
    },
    {
     "name": "stdout",
     "output_type": "stream",
     "text": [
      "=============================================================\n",
      "epoch: 9, source_val_acc_label: 0.8820, target_val_acc_label: 0.8686, source_val_label_loss: 0.3298, target_val_label_loss: 0.4682, \n",
      "=============================================================\n"
     ]
    },
    {
     "name": "stdout",
     "output_type": "stream",
     "text": [
      "Patience (3) exhausted\n"
     ]
    }
   ],
   "source": [
    "###################################\n",
    "# train\n",
    "###################################\n",
    "jig = PTN_Train_Eval_Test_Jig(model, p.BEST_MODEL_PATH, p.device)\n",
    "\n",
    "jig.train(\n",
    "    train_iterable=datasets.source.processed.train,\n",
    "    source_val_iterable=datasets.source.processed.val,\n",
    "    target_val_iterable=datasets.target.processed.val,\n",
    "    num_epochs=p.n_epoch,\n",
    "    num_logs_per_epoch=p.NUM_LOGS_PER_EPOCH,\n",
    "    patience=p.patience,\n",
    "    optimizer=optimizer,\n",
    "    criteria_for_best=p.criteria_for_best,\n",
    ")"
   ]
  },
  {
   "cell_type": "code",
   "execution_count": 23,
   "id": "31e8fabf",
   "metadata": {
    "execution": {
     "iopub.execute_input": "2022-03-24T23:24:26.095745Z",
     "iopub.status.busy": "2022-03-24T23:24:26.095493Z",
     "iopub.status.idle": "2022-03-24T23:24:26.114440Z",
     "shell.execute_reply": "2022-03-24T23:24:26.114826Z"
    },
    "papermill": {
     "duration": 0.05528,
     "end_time": "2022-03-24T23:24:26.114963",
     "exception": false,
     "start_time": "2022-03-24T23:24:26.059683",
     "status": "completed"
    },
    "tags": []
   },
   "outputs": [],
   "source": [
    "total_experiment_time_secs = time.time() - start_time_secs"
   ]
  },
  {
   "cell_type": "code",
   "execution_count": 24,
   "id": "87b9595b",
   "metadata": {
    "execution": {
     "iopub.execute_input": "2022-03-24T23:24:26.191792Z",
     "iopub.status.busy": "2022-03-24T23:24:26.191517Z",
     "iopub.status.idle": "2022-03-24T23:32:28.830896Z",
     "shell.execute_reply": "2022-03-24T23:32:28.831295Z"
    },
    "papermill": {
     "duration": 482.678219,
     "end_time": "2022-03-24T23:32:28.831433",
     "exception": false,
     "start_time": "2022-03-24T23:24:26.153214",
     "status": "completed"
    },
    "tags": []
   },
   "outputs": [],
   "source": [
    "###################################\n",
    "# Evaluate the model\n",
    "###################################\n",
    "source_test_label_accuracy, source_test_label_loss = jig.test(datasets.source.processed.test)\n",
    "target_test_label_accuracy, target_test_label_loss = jig.test(datasets.target.processed.test)\n",
    "\n",
    "source_val_label_accuracy, source_val_label_loss = jig.test(datasets.source.processed.val)\n",
    "target_val_label_accuracy, target_val_label_loss = jig.test(datasets.target.processed.val)\n",
    "\n",
    "history = jig.get_history()\n",
    "\n",
    "total_epochs_trained = len(history[\"epoch_indices\"])\n",
    "\n",
    "val_dl = Iterable_Aggregator((datasets.source.original.val,datasets.target.original.val))\n",
    "\n",
    "confusion = ptn_confusion_by_domain_over_dataloader(model, p.device, val_dl)\n",
    "per_domain_accuracy = per_domain_accuracy_from_confusion(confusion)\n",
    "\n",
    "# Add a key to per_domain_accuracy for if it was a source domain\n",
    "for domain, accuracy in per_domain_accuracy.items():\n",
    "    per_domain_accuracy[domain] = {\n",
    "        \"accuracy\": accuracy,\n",
    "        \"source?\": domain in p.domains_source\n",
    "    }\n",
    "\n",
    "# Do an independent accuracy assesment JUST TO BE SURE!\n",
    "# _source_test_label_accuracy = independent_accuracy_assesment(model, datasets.source.processed.test, p.device)\n",
    "# _target_test_label_accuracy = independent_accuracy_assesment(model, datasets.target.processed.test, p.device)\n",
    "# _source_val_label_accuracy = independent_accuracy_assesment(model, datasets.source.processed.val, p.device)\n",
    "# _target_val_label_accuracy = independent_accuracy_assesment(model, datasets.target.processed.val, p.device)\n",
    "\n",
    "# assert(_source_test_label_accuracy == source_test_label_accuracy)\n",
    "# assert(_target_test_label_accuracy == target_test_label_accuracy)\n",
    "# assert(_source_val_label_accuracy == source_val_label_accuracy)\n",
    "# assert(_target_val_label_accuracy == target_val_label_accuracy)\n",
    "\n",
    "experiment = {\n",
    "    \"experiment_name\": p.experiment_name,\n",
    "    \"parameters\": dict(p),\n",
    "    \"results\": {\n",
    "        \"source_test_label_accuracy\": source_test_label_accuracy,\n",
    "        \"source_test_label_loss\": source_test_label_loss,\n",
    "        \"target_test_label_accuracy\": target_test_label_accuracy,\n",
    "        \"target_test_label_loss\": target_test_label_loss,\n",
    "        \"source_val_label_accuracy\": source_val_label_accuracy,\n",
    "        \"source_val_label_loss\": source_val_label_loss,\n",
    "        \"target_val_label_accuracy\": target_val_label_accuracy,\n",
    "        \"target_val_label_loss\": target_val_label_loss,\n",
    "        \"total_epochs_trained\": total_epochs_trained,\n",
    "        \"total_experiment_time_secs\": total_experiment_time_secs,\n",
    "        \"confusion\": confusion,\n",
    "        \"per_domain_accuracy\": per_domain_accuracy,\n",
    "    },\n",
    "    \"history\": history,\n",
    "    \"dataset_metrics\": get_dataset_metrics(datasets, \"ptn\"),\n",
    "}"
   ]
  },
  {
   "cell_type": "code",
   "execution_count": 25,
   "id": "54a21829",
   "metadata": {
    "execution": {
     "iopub.execute_input": "2022-03-24T23:32:28.904890Z",
     "iopub.status.busy": "2022-03-24T23:32:28.904632Z",
     "iopub.status.idle": "2022-03-24T23:32:29.032432Z",
     "shell.execute_reply": "2022-03-24T23:32:29.032836Z"
    },
    "papermill": {
     "duration": 0.16261,
     "end_time": "2022-03-24T23:32:29.032962",
     "exception": false,
     "start_time": "2022-03-24T23:32:28.870352",
     "status": "completed"
    },
    "tags": []
   },
   "outputs": [
    {
     "data": {
      "image/png": "[encoded data removed]",
      "text/plain": [
       "<Figure size 1080x504 with 1 Axes>"
      ]
     },
     "metadata": {
      "needs_background": "light"
     },
     "output_type": "display_data"
    }
   ],
   "source": [
    "ax = get_loss_curve(experiment)\n",
    "plt.show()"
   ]
  },
  {
   "cell_type": "code",
   "execution_count": 26,
   "id": "fd8a0f60",
   "metadata": {
    "execution": {
     "iopub.execute_input": "2022-03-24T23:32:29.107884Z",
     "iopub.status.busy": "2022-03-24T23:32:29.107623Z",
     "iopub.status.idle": "2022-03-24T23:32:29.249052Z",
     "shell.execute_reply": "2022-03-24T23:32:29.248810Z"
    },
    "papermill": {
     "duration": 0.177143,
     "end_time": "2022-03-24T23:32:29.249113",
     "exception": false,
     "start_time": "2022-03-24T23:32:29.071970",
     "status": "completed"
    },
    "tags": []
   },
   "outputs": [
    {
     "data": {
      "text/plain": [
       "<AxesSubplot:title={'center':'Results'}>"
      ]
     },
     "execution_count": 26,
     "metadata": {},
     "output_type": "execute_result"
    },
    {
     "data": {
      "image/png": "[encoded data removed]",
      "text/plain": [
       "<Figure size 1080x504 with 1 Axes>"
      ]
     },
     "metadata": {
      "needs_background": "light"
     },
     "output_type": "display_data"
    }
   ],
   "source": [
    "get_results_table(experiment)"
   ]
  },
  {
   "cell_type": "code",
   "execution_count": 27,
   "id": "cf8dc689",
   "metadata": {
    "execution": {
     "iopub.execute_input": "2022-03-24T23:32:29.323289Z",
     "iopub.status.busy": "2022-03-24T23:32:29.323034Z",
     "iopub.status.idle": "2022-03-24T23:32:29.476986Z",
     "shell.execute_reply": "2022-03-24T23:32:29.477338Z"
    },
    "papermill": {
     "duration": 0.192166,
     "end_time": "2022-03-24T23:32:29.477455",
     "exception": false,
     "start_time": "2022-03-24T23:32:29.285289",
     "status": "completed"
    },
    "tags": []
   },
   "outputs": [
    {
     "data": {
      "text/plain": [
       "<AxesSubplot:title={'center':'Per Domain Validation Accuracy'}, xlabel='domain'>"
      ]
     },
     "execution_count": 27,
     "metadata": {},
     "output_type": "execute_result"
    },
    {
     "data": {
      "image/png": "[encoded data removed]",
      "text/plain": [
       "<Figure size 1080x504 with 1 Axes>"
      ]
     },
     "metadata": {
      "needs_background": "light"
     },
     "output_type": "display_data"
    }
   ],
   "source": [
    "get_domain_accuracies(experiment)"
   ]
  },
  {
   "cell_type": "code",
   "execution_count": 28,
   "id": "a74ae082",
   "metadata": {
    "execution": {
     "iopub.execute_input": "2022-03-24T23:32:29.557236Z",
     "iopub.status.busy": "2022-03-24T23:32:29.556976Z",
     "iopub.status.idle": "2022-03-24T23:32:29.569167Z",
     "shell.execute_reply": "2022-03-24T23:32:29.568815Z"
    },
    "papermill": {
     "duration": 0.051246,
     "end_time": "2022-03-24T23:32:29.569238",
     "exception": false,
     "start_time": "2022-03-24T23:32:29.517992",
     "status": "completed"
    },
    "tags": []
   },
   "outputs": [
    {
     "name": "stdout",
     "output_type": "stream",
     "text": [
      "Source Test Label Accuracy: 0.8779752604166666 Target Test Label Accuracy: 0.8763802083333333\n",
      "Source Val Label Accuracy: 0.8758658854166667 Target Val Label Accuracy: 0.8757877604166666\n"
     ]
    }
   ],
   "source": [
    "print(\"Source Test Label Accuracy:\", experiment[\"results\"][\"source_test_label_accuracy\"], \"Target Test Label Accuracy:\", experiment[\"results\"][\"target_test_label_accuracy\"])\n",
    "print(\"Source Val Label Accuracy:\", experiment[\"results\"][\"source_val_label_accuracy\"], \"Target Val Label Accuracy:\", experiment[\"results\"][\"target_val_label_accuracy\"])"
   ]
  },
  {
   "cell_type": "code",
   "execution_count": 29,
   "id": "dacca602",
   "metadata": {
    "execution": {
     "iopub.execute_input": "2022-03-24T23:32:29.649339Z",
     "iopub.status.busy": "2022-03-24T23:32:29.649087Z",
     "iopub.status.idle": "2022-03-24T23:32:29.665567Z",
     "shell.execute_reply": "2022-03-24T23:32:29.665123Z"
    },
    "papermill": {
     "duration": 0.055515,
     "end_time": "2022-03-24T23:32:29.665664",
     "exception": false,
     "start_time": "2022-03-24T23:32:29.610149",
     "status": "completed"
    },
    "tags": [
     "experiment_json"
    ]
   },
   "outputs": [
    {
     "data": {
      "text/plain": [
       "'{\"experiment_name\": \"tl_1v2:oracle.run1-oracle.run2\", \"parameters\": {\"experiment_name\": \"tl_1v2:oracle.run1-oracle.run2\", \"device\": \"cuda\", \"lr\": 0.0001, \"n_shot\": 3, \"n_query\": 2, \"train_k_factor\": 3, \"val_k_factor\": 2, \"test_k_factor\": 2, \"torch_default_dtype\": \"torch.float32\", \"n_epoch\": 50, \"patience\": 3, \"criteria_for_best\": \"target_accuracy\", \"x_net\": [{\"class\": \"nnReshape\", \"kargs\": {\"shape\": [-1, 1, 2, 256]}}, {\"class\": \"Conv2d\", \"kargs\": {\"in_channels\": 1, \"out_channels\": 256, \"kernel_size\": [1, 7], \"bias\": false, \"padding\": [0, 3]}}, {\"class\": \"ReLU\", \"kargs\": {\"inplace\": true}}, {\"class\": \"BatchNorm2d\", \"kargs\": {\"num_features\": 256}}, {\"class\": \"Conv2d\", \"kargs\": {\"in_channels\": 256, \"out_channels\": 80, \"kernel_size\": [2, 7], \"bias\": true, \"padding\": [0, 3]}}, {\"class\": \"ReLU\", \"kargs\": {\"inplace\": true}}, {\"class\": \"BatchNorm2d\", \"kargs\": {\"num_features\": 80}}, {\"class\": \"Flatten\", \"kargs\": {}}, {\"class\": \"Linear\", \"kargs\": {\"in_features\": 20480, \"out_features\": 256}}, {\"class\": \"ReLU\", \"kargs\": {\"inplace\": true}}, {\"class\": \"BatchNorm1d\", \"kargs\": {\"num_features\": 256}}, {\"class\": \"Linear\", \"kargs\": {\"in_features\": 256, \"out_features\": 256}}], \"NUM_LOGS_PER_EPOCH\": 10, \"BEST_MODEL_PATH\": \"./best_model.pth\", \"n_way\": 16, \"datasets\": [{\"labels\": [\"3123D52\", \"3123D65\", \"3123D79\", \"3123D80\", \"3123D54\", \"3123D70\", \"3123D7B\", \"3123D89\", \"3123D58\", \"3123D76\", \"3123D7D\", \"3123EFE\", \"3123D64\", \"3123D78\", \"3123D7E\", \"3124E4A\"], \"domains\": [32, 38, 8, 44, 14, 50, 20, 26], \"num_examples_per_domain_per_label\": 10000, \"pickle_path\": \"/mnt/wd500GB/CSC500/csc500-main/datasets/oracle.Run1_10kExamples_stratified_ds.2022A.pkl\", \"source_or_target_dataset\": \"source\", \"x_transforms\": [], \"episode_transforms\": [], \"domain_prefix\": \"ORACLE.run1_\"}, {\"labels\": [\"3123D52\", \"3123D65\", \"3123D79\", \"3123D80\", \"3123D54\", \"3123D70\", \"3123D7B\", \"3123D89\", \"3123D58\", \"3123D76\", \"3123D7D\", \"3123EFE\", \"3123D64\", \"3123D78\", \"3123D7E\", \"3124E4A\"], \"domains\": [32, 38, 8, 44, 14, 50, 20, 26], \"num_examples_per_domain_per_label\": 10000, \"pickle_path\": \"/mnt/wd500GB/CSC500/csc500-main/datasets/oracle.Run2_10kExamples_stratified_ds.2022A.pkl\", \"source_or_target_dataset\": \"target\", \"x_transforms\": [], \"episode_transforms\": [], \"domain_prefix\": \"ORACLE.run2_\"}], \"dataset_seed\": 154325, \"seed\": 154325, \"x_shape\": [2, 256], \"domains_source\": [\"ORACLE.run1_32\", \"ORACLE.run1_38\", \"ORACLE.run1_8\", \"ORACLE.run1_44\", \"ORACLE.run1_14\", \"ORACLE.run1_50\", \"ORACLE.run1_20\", \"ORACLE.run1_26\"], \"domains_target\": [\"ORACLE.run2_32\", \"ORACLE.run2_38\", \"ORACLE.run2_8\", \"ORACLE.run2_44\", \"ORACLE.run2_14\", \"ORACLE.run2_50\", \"ORACLE.run2_20\", \"ORACLE.run2_26\"]}, \"results\": {\"source_test_label_accuracy\": 0.8779752604166666, \"source_test_label_loss\": 0.35921192169189453, \"target_test_label_accuracy\": 0.8763802083333333, \"target_test_label_loss\": 0.48661941289901733, \"source_val_label_accuracy\": 0.8758658854166667, \"source_val_label_loss\": 0.36160188913345337, \"target_val_label_accuracy\": 0.8757877604166666, \"target_val_label_loss\": 0.46546220779418945, \"total_epochs_trained\": 9, \"total_experiment_time_secs\": 8255.765706539154, \"confusion\": {\"ORACLE.run1_8\": {\"13\": {\"13\": 1014, \"7\": 34, \"10\": 142, \"6\": 10}, \"9\": {\"9\": 1200}, \"15\": {\"15\": 1074, \"12\": 120, \"2\": 6}, \"2\": {\"2\": 970, \"3\": 128, \"12\": 71, \"15\": 28, \"13\": 1, \"7\": 2}, \"3\": {\"3\": 1199, \"2\": 1}, \"8\": {\"8\": 1182, \"6\": 17, \"11\": 1}, \"5\": {\"5\": 1031, \"10\": 97, \"1\": 46, \"11\": 19, \"4\": 2, \"14\": 5}, \"14\": {\"14\": 1139, \"4\": 58, \"11\": 3}, \"1\": {\"1\": 983, \"11\": 181, \"5\": 10, \"13\": 1, \"10\": 25}, \"0\": {\"0\": 1200}, \"10\": {\"10\": 1017, \"6\": 5, \"13\": 112, \"5\": 37, \"1\": 24, \"4\": 5}, \"6\": {\"6\": 998, \"7\": 178, \"8\": 5, \"4\": 4, \"10\": 7, \"13\": 7, \"1\": 1}, \"11\": {\"11\": 770, \"4\": 10, \"1\": 368, \"14\": 40, \"8\": 6, \"5\": 3, \"6\": 2, \"10\": 1}, \"7\": {\"7\": 1005, \"6\": 186, \"13\": 9}, \"4\": {\"4\": 1153, \"6\": 23, \"14\": 19, \"11\": 2, \"10\": 2, \"1\": 1}, \"12\": {\"15\": 275, \"12\": 917, \"2\": 8}}, \"ORACLE.run1_38\": {\"13\": {\"13\": 1144, \"10\": 45, \"0\": 9, \"14\": 1, \"2\": 1}, \"12\": {\"12\": 1199, \"8\": 1}, \"2\": {\"2\": 1138, \"14\": 61, \"13\": 1}, \"9\": {\"9\": 1169, \"7\": 4, \"5\": 26, \"8\": 1}, \"15\": {\"15\": 1103, \"1\": 45, \"5\": 25, \"8\": 27}, \"5\": {\"5\": 554, \"15\": 47, \"7\": 76, \"8\": 452, \"9\": 69, \"12\": 1, \"0\": 1}, \"14\": {\"13\": 4, \"14\": 1116, \"2\": 80}, \"0\": {\"0\": 805, \"10\": 126, \"3\": 75, \"7\": 142, \"13\": 48, \"5\": 1, \"9\": 2, \"8\": 1}, \"3\": {\"3\": 1200}, \"1\": {\"1\": 1200}, \"11\": {\"11\": 1200}, \"7\": {\"7\": 1188, \"8\": 4, \"0\": 6, \"5\": 2}, \"8\": {\"8\": 629, \"15\": 18, \"5\": 415, \"7\": 121, \"13\": 8, \"9\": 3, \"0\": 4, \"12\": 2}, \"4\": {\"4\": 1197, \"10\": 3}, \"10\": {\"10\": 1107, \"0\": 44, \"13\": 47, \"4\": 2}, \"6\": {\"6\": 1200}}, \"ORACLE.run1_26\": {\"10\": {\"10\": 828, \"14\": 195, \"0\": 113, \"15\": 35, \"6\": 24, \"1\": 5}, \"12\": {\"12\": 1200}, \"1\": {\"1\": 967, \"14\": 167, \"0\": 5, \"10\": 43, \"6\": 15, \"15\": 1, \"5\": 2}, \"0\": {\"0\": 855, \"10\": 193, \"14\": 108, \"8\": 31, \"15\": 6, \"1\": 5, \"2\": 1, \"7\": 1}, \"15\": {\"15\": 737, \"6\": 126, \"14\": 6, \"5\": 276, \"10\": 38, \"1\": 9, \"0\": 8}, \"13\": {\"3\": 11, \"13\": 1093, \"9\": 57, \"2\": 37, \"7\": 1, \"8\": 1}, \"8\": {\"8\": 848, \"9\": 167, \"7\": 153, \"0\": 5, \"2\": 26, \"3\": 1}, \"3\": {\"3\": 1084, \"7\": 92, \"2\": 19, \"4\": 2, \"13\": 2, \"9\": 1}, \"11\": {\"11\": 1200}, \"4\": {\"4\": 1200}, \"6\": {\"6\": 1076, \"15\": 67, \"10\": 17, \"5\": 31, \"1\": 5, \"14\": 4}, \"7\": {\"3\": 54, \"7\": 927, \"2\": 93, \"8\": 113, \"9\": 13}, \"14\": {\"0\": 73, \"10\": 216, \"14\": 857, \"1\": 43, \"15\": 7, \"6\": 4}, \"2\": {\"2\": 730, \"7\": 179, \"9\": 77, \"8\": 71, \"3\": 115, \"13\": 3, \"0\": 20, \"15\": 2, \"10\": 1, \"14\": 2}, \"5\": {\"5\": 965, \"15\": 202, \"6\": 30, \"1\": 1, \"10\": 2}, \"9\": {\"13\": 85, \"9\": 864, \"8\": 205, \"2\": 30, \"7\": 14, \"0\": 2}}, \"ORACLE.run1_20\": {\"5\": {\"5\": 905, \"3\": 89, \"1\": 192, \"9\": 13, \"0\": 1}, \"15\": {\"15\": 1035, \"2\": 10, \"1\": 62, \"13\": 10, \"12\": 76, \"9\": 6, \"5\": 1}, \"9\": {\"7\": 62, \"9\": 1004, \"5\": 12, \"3\": 61, \"1\": 53, \"2\": 6, \"15\": 2}, \"7\": {\"7\": 1060, \"2\": 52, \"9\": 74, \"6\": 6, \"4\": 7, \"12\": 1}, \"3\": {\"3\": 907, \"5\": 103, \"9\": 119, \"8\": 49, \"0\": 13, \"1\": 9}, \"8\": {\"14\": 35, \"8\": 1130, \"3\": 35}, \"4\": {\"4\": 1144, \"2\": 12, \"12\": 33, \"7\": 5, \"10\": 6}, \"6\": {\"6\": 1187, \"7\": 13}, \"2\": {\"2\": 943, \"12\": 163, \"7\": 58, \"13\": 9, \"9\": 11, \"15\": 14, \"4\": 1, \"1\": 1}, \"12\": {\"12\": 951, \"13\": 5, \"15\": 87, \"2\": 133, \"9\": 2, \"4\": 17, \"1\": 3, \"7\": 2}, \"0\": {\"0\": 1164, \"3\": 18, \"5\": 15, \"8\": 3}, \"13\": {\"13\": 1182, \"15\": 10, \"2\": 6, \"12\": 2}, \"10\": {\"10\": 1200}, \"11\": {\"11\": 1200}, \"14\": {\"14\": 1160, \"8\": 40}, \"1\": {\"5\": 171, \"1\": 967, \"9\": 40, \"15\": 16, \"3\": 5, \"12\": 1}}, \"ORACLE.run1_50\": {\"1\": {\"1\": 1176, \"11\": 2, \"13\": 16, \"0\": 3, \"10\": 3}, \"2\": {\"2\": 1164, \"0\": 36}, \"8\": {\"8\": 1200}, \"7\": {\"7\": 1125, \"5\": 58, \"4\": 17}, \"14\": {\"14\": 1200}, \"6\": {\"6\": 1056, \"5\": 104, \"15\": 40}, \"3\": {\"3\": 1200}, \"4\": {\"4\": 1035, \"7\": 100, \"5\": 29, \"15\": 27, \"6\": 9}, \"12\": {\"12\": 1141, \"11\": 16, \"9\": 43}, \"15\": {\"15\": 1156, \"6\": 33, \"5\": 2, \"11\": 7, \"9\": 1, \"4\": 1}, \"11\": {\"11\": 1163, \"12\": 21, \"9\": 14, \"15\": 2}, \"0\": {\"2\": 52, \"0\": 1142, \"10\": 6}, \"9\": {\"12\": 73, \"9\": 1038, \"11\": 89}, \"10\": {\"10\": 1192, \"8\": 4, \"0\": 4}, \"5\": {\"5\": 525, \"6\": 242, \"7\": 308, \"1\": 6, \"13\": 40, \"4\": 73, \"15\": 6}, \"13\": {\"13\": 1196, \"1\": 4}}, \"ORACLE.run1_32\": {\"2\": {\"2\": 1106, \"4\": 94}, \"6\": {\"6\": 1200}, \"5\": {\"7\": 239, \"8\": 128, \"5\": 700, \"0\": 91, \"14\": 42}, \"12\": {\"12\": 1200}, \"13\": {\"13\": 958, \"4\": 123, \"3\": 96, \"11\": 23}, \"9\": {\"9\": 1170, \"12\": 29, \"2\": 1}, \"11\": {\"11\": 1199, \"13\": 1}, \"1\": {\"1\": 1200}, \"3\": {\"3\": 1168, \"13\": 32}, \"7\": {\"7\": 796, \"5\": 185, \"14\": 112, \"0\": 91, \"8\": 16}, \"14\": {\"14\": 757, \"7\": 260, \"2\": 45, \"8\": 39, \"5\": 39, \"0\": 49, \"4\": 11}, \"8\": {\"8\": 996, \"0\": 75, \"5\": 87, \"14\": 17, \"7\": 15, \"4\": 7, \"2\": 1, \"15\": 2}, \"4\": {\"4\": 1087, \"13\": 13, \"2\": 100}, \"0\": {\"0\": 965, \"8\": 65, \"5\": 65, \"7\": 91, \"14\": 14}, \"10\": {\"10\": 1200}, \"15\": {\"15\": 1195, \"8\": 5}}, \"ORACLE.run1_44\": {\"13\": {\"13\": 1016, \"6\": 175, \"9\": 9}, \"4\": {\"4\": 787, \"14\": 401, \"15\": 11, \"9\": 1}, \"6\": {\"6\": 1032, \"9\": 39, \"13\": 127, \"7\": 2}, \"0\": {\"8\": 126, \"0\": 1073, \"15\": 1}, \"10\": {\"10\": 1116, \"1\": 35, \"7\": 18, \"2\": 31}, \"7\": {\"7\": 1061, \"9\": 133, \"10\": 6}, \"14\": {\"14\": 921, \"4\": 225, \"5\": 28, \"15\": 26}, \"15\": {\"15\": 1042, \"0\": 9, \"8\": 25, \"14\": 69, \"5\": 52, \"4\": 3}, \"5\": {\"5\": 1061, \"8\": 12, \"14\": 46, \"15\": 79, \"4\": 2}, \"2\": {\"2\": 1167, \"1\": 32, \"10\": 1}, \"9\": {\"9\": 568, \"7\": 343, \"6\": 188, \"13\": 97, \"4\": 2, \"2\": 2}, \"12\": {\"12\": 1188, \"3\": 12}, \"8\": {\"8\": 853, \"5\": 38, \"0\": 266, \"15\": 43}, \"3\": {\"3\": 1174, \"12\": 26}, \"1\": {\"1\": 1158, \"2\": 42}, \"11\": {\"11\": 1200}}, \"ORACLE.run1_14\": {\"1\": {\"1\": 1200}, \"15\": {\"15\": 1200}, \"10\": {\"10\": 1200}, \"2\": {\"2\": 660, \"5\": 158, \"13\": 42, \"14\": 171, \"6\": 83, \"4\": 36, \"3\": 47, \"7\": 3}, \"9\": {\"9\": 1200}, \"5\": {\"5\": 1122, \"4\": 4, \"3\": 7, \"7\": 18, \"2\": 48, \"14\": 1}, \"7\": {\"7\": 1190, \"2\": 1, \"5\": 9}, \"13\": {\"14\": 308, \"6\": 468, \"13\": 297, \"15\": 71, \"2\": 51, \"3\": 3, \"4\": 2}, \"8\": {\"8\": 1200}, \"6\": {\"6\": 752, \"13\": 356, \"2\": 27, \"14\": 62, \"3\": 3}, \"3\": {\"3\": 1192, \"14\": 6, \"5\": 1, \"0\": 1}, \"12\": {\"12\": 1200}, \"0\": {\"0\": 1137, \"3\": 43, \"10\": 18, \"14\": 1, \"8\": 1}, \"4\": {\"4\": 1173, \"5\": 23, \"2\": 4}, \"14\": {\"14\": 1016, \"3\": 23, \"13\": 92, \"2\": 44, \"6\": 24, \"5\": 1}, \"11\": {\"11\": 1200}}, \"ORACLE.run2_8\": {\"13\": {\"13\": 1145, \"10\": 50, \"7\": 5}, \"9\": {\"9\": 1200}, \"15\": {\"15\": 1190, \"12\": 10}, \"2\": {\"2\": 1199, \"15\": 1}, \"3\": {\"3\": 1200}, \"8\": {\"8\": 1075, \"11\": 103, \"6\": 19, \"1\": 1, \"4\": 2}, \"5\": {\"5\": 995, \"10\": 162, \"1\": 42, \"14\": 1}, \"14\": {\"14\": 1111, \"6\": 86, \"1\": 3}, \"1\": {\"1\": 1096, \"13\": 44, \"5\": 47, \"14\": 7, \"10\": 6}, \"0\": {\"0\": 1200}, \"10\": {\"10\": 1080, \"5\": 71, \"13\": 49}, \"6\": {\"4\": 13, \"6\": 1090, \"14\": 90, \"8\": 7}, \"11\": {\"11\": 739, \"8\": 408, \"6\": 10, \"7\": 35, \"12\": 8}, \"7\": {\"7\": 1062, \"4\": 137, \"13\": 1}, \"4\": {\"4\": 939, \"7\": 224, \"8\": 5, \"6\": 31, \"14\": 1}, \"12\": {\"12\": 1193, \"15\": 7}}, \"ORACLE.run2_38\": {\"13\": {\"13\": 908, \"3\": 217, \"10\": 75}, \"12\": {\"12\": 1199, \"14\": 1}, \"2\": {\"14\": 76, \"2\": 1124}, \"9\": {\"9\": 1200}, \"15\": {\"15\": 897, \"5\": 22, \"6\": 45, \"1\": 236}, \"5\": {\"5\": 741, \"8\": 452, \"7\": 1, \"12\": 4, \"15\": 1, \"0\": 1}, \"14\": {\"14\": 694, \"4\": 28, \"2\": 358, \"7\": 68, \"12\": 39, \"8\": 10, \"5\": 2, \"13\": 1}, \"0\": {\"7\": 40, \"0\": 1159, \"8\": 1}, \"3\": {\"3\": 743, \"13\": 325, \"10\": 131, \"11\": 1}, \"1\": {\"1\": 1138, \"15\": 61, \"6\": 1}, \"11\": {\"11\": 1200}, \"7\": {\"7\": 1176, \"0\": 19, \"8\": 5}, \"8\": {\"5\": 79, \"8\": 1114, \"7\": 5, \"0\": 1, \"14\": 1}, \"4\": {\"4\": 1190, \"10\": 7, \"7\": 3}, \"10\": {\"10\": 1136, \"13\": 31, \"3\": 31, \"4\": 2}, \"6\": {\"6\": 1200}}, \"ORACLE.run2_26\": {\"10\": {\"14\": 264, \"0\": 339, \"10\": 392, \"1\": 41, \"6\": 45, \"9\": 14, \"8\": 75, \"15\": 17, \"5\": 6, \"2\": 7}, \"12\": {\"12\": 1200}, \"1\": {\"1\": 1192, \"14\": 2, \"6\": 4, \"5\": 2}, \"0\": {\"10\": 247, \"14\": 152, \"0\": 718, \"15\": 52, \"2\": 6, \"8\": 25}, \"15\": {\"15\": 1091, \"8\": 19, \"10\": 5, \"2\": 60, \"0\": 16, \"9\": 3, \"14\": 5, \"5\": 1}, \"13\": {\"13\": 1086, \"9\": 97, \"7\": 17}, \"8\": {\"8\": 872, \"2\": 162, \"9\": 134, \"0\": 13, \"10\": 10, \"15\": 2, \"7\": 7}, \"3\": {\"3\": 1068, \"7\": 128, \"2\": 3, \"13\": 1}, \"11\": {\"11\": 1200}, \"4\": {\"4\": 1194, \"3\": 6}, \"6\": {\"6\": 1086, \"5\": 99, \"1\": 6, \"14\": 9}, \"7\": {\"9\": 37, \"13\": 18, \"7\": 782, \"3\": 176, \"2\": 172, \"8\": 15}, \"14\": {\"14\": 754, \"0\": 179, \"10\": 175, \"6\": 23, \"1\": 62, \"15\": 3, \"5\": 4}, \"2\": {\"2\": 839, \"8\": 156, \"7\": 119, \"13\": 5, \"9\": 54, \"15\": 21, \"10\": 1, \"3\": 5}, \"5\": {\"5\": 780, \"6\": 323, \"15\": 43, \"0\": 4, \"14\": 16, \"10\": 8, \"1\": 24, \"9\": 1, \"8\": 1}, \"9\": {\"9\": 893, \"13\": 94, \"7\": 29, \"2\": 46, \"8\": 138}}, \"ORACLE.run2_20\": {\"5\": {\"5\": 598, \"3\": 61, \"2\": 290, \"9\": 82, \"0\": 16, \"1\": 112, \"15\": 28, \"7\": 3, \"8\": 3, \"4\": 7}, \"15\": {\"12\": 14, \"15\": 855, \"2\": 71, \"9\": 209, \"5\": 11, \"3\": 18, \"4\": 2, \"13\": 13, \"1\": 6, \"7\": 1}, \"9\": {\"9\": 521, \"5\": 63, \"2\": 305, \"15\": 173, \"3\": 123, \"4\": 14, \"7\": 1}, \"7\": {\"7\": 1033, \"3\": 138, \"9\": 7, \"6\": 7, \"4\": 13, \"2\": 1, \"10\": 1}, \"3\": {\"9\": 151, \"3\": 540, \"5\": 125, \"15\": 56, \"7\": 158, \"2\": 112, \"4\": 58}, \"8\": {\"14\": 105, \"8\": 1083, \"0\": 12}, \"4\": {\"4\": 1118, \"7\": 8, \"3\": 46, \"15\": 4, \"9\": 15, \"5\": 6, \"2\": 3}, \"6\": {\"6\": 1166, \"7\": 17, \"10\": 17}, \"2\": {\"2\": 535, \"9\": 293, \"5\": 239, \"3\": 79, \"15\": 45, \"1\": 7, \"4\": 1, \"7\": 1}, \"12\": {\"12\": 1104, \"13\": 95, \"15\": 1}, \"0\": {\"0\": 1191, \"8\": 4, \"1\": 5}, \"13\": {\"13\": 1097, \"12\": 101, \"15\": 2}, \"10\": {\"10\": 1153, \"7\": 11, \"6\": 32, \"12\": 2, \"4\": 2}, \"11\": {\"11\": 1200}, \"14\": {\"14\": 1047, \"8\": 153}, \"1\": {\"1\": 1129, \"5\": 56, \"2\": 9, \"0\": 3, \"9\": 2, \"15\": 1}}, \"ORACLE.run2_50\": {\"1\": {\"1\": 1200}, \"2\": {\"2\": 1192, \"0\": 8}, \"8\": {\"8\": 1200}, \"7\": {\"7\": 1128, \"5\": 33, \"4\": 39}, \"14\": {\"14\": 1200}, \"6\": {\"6\": 1108, \"5\": 63, \"15\": 13, \"4\": 16}, \"3\": {\"3\": 1200}, \"4\": {\"4\": 1020, \"5\": 159, \"15\": 5, \"6\": 6, \"7\": 10}, \"12\": {\"12\": 1179, \"11\": 4, \"9\": 17}, \"15\": {\"15\": 1188, \"4\": 3, \"6\": 9}, \"11\": {\"11\": 1195, \"12\": 5}, \"0\": {\"0\": 1161, \"2\": 34, \"10\": 5}, \"9\": {\"9\": 1191, \"12\": 9}, \"10\": {\"10\": 1193, \"0\": 5, \"13\": 2}, \"5\": {\"5\": 877, \"6\": 50, \"7\": 49, \"4\": 224}, \"13\": {\"13\": 1195, \"1\": 3, \"8\": 2}}, \"ORACLE.run2_32\": {\"2\": {\"2\": 914, \"14\": 247, \"7\": 19, \"8\": 2, \"0\": 18}, \"6\": {\"6\": 1200}, \"5\": {\"5\": 1109, \"14\": 22, \"2\": 50, \"15\": 9, \"7\": 10}, \"12\": {\"12\": 1200}, \"13\": {\"13\": 979, \"3\": 32, \"4\": 34, \"11\": 155}, \"9\": {\"9\": 1200}, \"11\": {\"11\": 599, \"13\": 199, \"4\": 368, \"0\": 27, \"3\": 1, \"7\": 6}, \"1\": {\"1\": 1200}, \"3\": {\"3\": 1185, \"13\": 9, \"11\": 4, \"4\": 2}, \"7\": {\"0\": 102, \"7\": 1045, \"8\": 23, \"2\": 28, \"14\": 1, \"5\": 1}, \"14\": {\"2\": 425, \"14\": 750, \"0\": 13, \"5\": 6, \"7\": 6}, \"8\": {\"8\": 1117, \"0\": 65, \"7\": 18}, \"4\": {\"4\": 1107, \"11\": 82, \"0\": 10, \"8\": 1}, \"0\": {\"0\": 874, \"7\": 143, \"14\": 13, \"4\": 37, \"8\": 82, \"2\": 48, \"11\": 3}, \"10\": {\"10\": 1200}, \"15\": {\"15\": 1200}}, \"ORACLE.run2_44\": {\"13\": {\"13\": 1157, \"4\": 32, \"6\": 10, \"14\": 1}, \"4\": {\"4\": 1110, \"14\": 90}, \"6\": {\"6\": 1185, \"13\": 9, \"7\": 6}, \"0\": {\"0\": 933, \"8\": 263, \"15\": 4}, \"10\": {\"10\": 1196, \"7\": 4}, \"7\": {\"7\": 899, \"9\": 301}, \"14\": {\"14\": 1106, \"5\": 9, \"4\": 85}, \"15\": {\"15\": 1141, \"5\": 16, \"8\": 25, \"14\": 15, \"4\": 3}, \"5\": {\"5\": 1143, \"15\": 7, \"14\": 26, \"8\": 24}, \"2\": {\"2\": 1196, \"1\": 4}, \"9\": {\"7\": 383, \"9\": 803, \"6\": 14}, \"12\": {\"12\": 1106, \"3\": 94}, \"8\": {\"0\": 132, \"8\": 1047, \"5\": 16, \"15\": 5}, \"3\": {\"3\": 1103, \"12\": 97}, \"1\": {\"1\": 1195, \"2\": 5}, \"11\": {\"11\": 1200}}, \"ORACLE.run2_14\": {\"1\": {\"1\": 1200}, \"15\": {\"15\": 1200}, \"10\": {\"10\": 1000, \"14\": 17, \"0\": 148, \"3\": 25, \"12\": 7, \"6\": 3}, \"2\": {\"2\": 596, \"3\": 88, \"5\": 208, \"14\": 254, \"4\": 19, \"13\": 2, \"6\": 29, \"7\": 4}, \"9\": {\"9\": 1200}, \"5\": {\"5\": 1083, \"4\": 6, \"2\": 101, \"3\": 2, \"14\": 8}, \"7\": {\"7\": 1198, \"2\": 1, \"5\": 1}, \"13\": {\"13\": 947, \"6\": 253}, \"8\": {\"8\": 1200}, \"6\": {\"13\": 236, \"6\": 964}, \"3\": {\"14\": 6, \"3\": 1190, \"2\": 3, \"6\": 1}, \"12\": {\"12\": 515, \"15\": 144, \"10\": 128, \"9\": 275, \"1\": 4, \"3\": 22, \"11\": 56, \"0\": 39, \"14\": 1, \"6\": 4, \"8\": 12}, \"0\": {\"0\": 1186, \"10\": 14}, \"4\": {\"4\": 1194, \"5\": 6}, \"14\": {\"2\": 191, \"14\": 972, \"6\": 9, \"3\": 15, \"5\": 13}, \"11\": {\"11\": 1200}}}, \"per_domain_accuracy\": {\"ORACLE.run1_8\": {\"accuracy\": 0.8777083333333333, \"source?\": true}, \"ORACLE.run1_38\": {\"accuracy\": 0.8931770833333333, \"source?\": true}, \"ORACLE.run1_26\": {\"accuracy\": 0.8036979166666667, \"source?\": true}, \"ORACLE.run1_20\": {\"accuracy\": 0.89265625, \"source?\": true}, \"ORACLE.run1_50\": {\"accuracy\": 0.92234375, \"source?\": true}, \"ORACLE.run1_32\": {\"accuracy\": 0.8800520833333333, \"source?\": true}, \"ORACLE.run1_44\": {\"accuracy\": 0.8550520833333334, \"source?\": true}, \"ORACLE.run1_14\": {\"accuracy\": 0.8822395833333333, \"source?\": true}, \"ORACLE.run2_8\": {\"accuracy\": 0.9121875, \"source?\": false}, \"ORACLE.run2_38\": {\"accuracy\": 0.8759895833333333, \"source?\": false}, \"ORACLE.run2_26\": {\"accuracy\": 0.78890625, \"source?\": false}, \"ORACLE.run2_20\": {\"accuracy\": 0.8005208333333333, \"source?\": false}, \"ORACLE.run2_50\": {\"accuracy\": 0.9597395833333333, \"source?\": false}, \"ORACLE.run2_32\": {\"accuracy\": 0.8791145833333334, \"source?\": false}, \"ORACLE.run2_44\": {\"accuracy\": 0.9125, \"source?\": false}, \"ORACLE.run2_14\": {\"accuracy\": 0.87734375, \"source?\": false}}}, \"history\": {\"epoch_indices\": [1, 2, 3, 4, 5, 6, 7, 8, 9], \"train_label_loss\": [0.6688068181060122, 0.4221172042140028, 0.35983513716037296, 0.32937600707269404, 0.30521009302570573, 0.2822331214287052, 0.2623367806396952, 0.24736423985219083, 0.23139917550516353], \"source_val_label_loss\": [0.8204591274261475, 0.4038909375667572, 0.3894234597682953, 0.36687514185905457, 0.36160188913345337, 0.34624603390693665, 0.3407256007194519, 0.33440473675727844, 0.32975125312805176], \"target_val_label_loss\": [0.8846191763877869, 0.44478899240493774, 0.4490765929222107, 0.43429943919181824, 0.46546220779418945, 0.47445401549339294, 0.4396809935569763, 0.4525724947452545, 0.46824321150779724], \"source_val_acc_label\": [0.76810546875, 0.8540625, 0.8631380208333334, 0.8670182291666667, 0.8758658854166667, 0.8775520833333333, 0.8787369791666667, 0.8816015625, 0.8819856770833333], \"target_val_acc_label\": [0.7735091145833334, 0.85662109375, 0.86669921875, 0.8673567708333333, 0.8757877604166666, 0.8712760416666666, 0.874140625, 0.8715690104166667, 0.86857421875]}, \"dataset_metrics\": {\"source\": {\"train\": {\"n_unique_x\": 896000, \"n_unique_y\": 16, \"n_batch/episode\": 33600}, \"val\": {\"n_unique_x\": 192000, \"n_unique_y\": 16, \"n_batch/episode\": 4800}, \"test\": {\"n_unique_x\": 192000, \"n_unique_y\": 16, \"n_batch/episode\": 4800}}, \"target\": {\"train\": {\"n_unique_x\": 896000, \"n_unique_y\": 16, \"n_batch/episode\": 33600}, \"val\": {\"n_unique_x\": 192000, \"n_unique_y\": 16, \"n_batch/episode\": 4800}, \"test\": {\"n_unique_x\": 192000, \"n_unique_y\": 16, \"n_batch/episode\": 4800}}}}'"
      ]
     },
     "execution_count": 29,
     "metadata": {},
     "output_type": "execute_result"
    }
   ],
   "source": [
    "json.dumps(experiment)"
   ]
  }
 ],
 "metadata": {
  "celltoolbar": "Tags",
  "kernelspec": {
   "display_name": "Python 3 (ipykernel)",
   "language": "python",
   "name": "python3"
  },
  "language_info": {
   "codemirror_mode": {
    "name": "ipython",
    "version": 3
   },
   "file_extension": ".py",
   "mimetype": "text/x-python",
   "name": "python",
   "nbconvert_exporter": "python",
   "pygments_lexer": "ipython3",
   "version": "3.8.10"
  },
  "papermill": {
   "default_parameters": {},
   "duration": 8744.243459,
   "end_time": "2022-03-24T23:32:31.926045",
   "environment_variables": {},
   "exception": null,
   "input_path": "/mnt/wd500GB/CSC500/csc500-main/csc500-notebooks/templates/tl_ptn_template.ipynb",
   "output_path": "trial.ipynb",
   "parameters": {
    "parameters": {
     "BEST_MODEL_PATH": "./best_model.pth",
     "NUM_LOGS_PER_EPOCH": 10,
     "criteria_for_best": "target_accuracy",
     "dataset_seed": 154325,
     "datasets": [
      {
       "domain_prefix": "ORACLE.run1_",
       "domains": [
        32,
        38,
        8,
        44,
        14,
        50,
        20,
        26
       ],
       "episode_transforms": [],
       "labels": [
        "3123D52",
        "3123D65",
        "3123D79",
        "3123D80",
        "3123D54",
        "3123D70",
        "3123D7B",
        "3123D89",
        "3123D58",
        "3123D76",
        "3123D7D",
        "3123EFE",
        "3123D64",
        "3123D78",
        "3123D7E",
        "3124E4A"
       ],
       "num_examples_per_domain_per_label": 10000,
       "pickle_path": "/mnt/wd500GB/CSC500/csc500-main/datasets/oracle.Run1_10kExamples_stratified_ds.2022A.pkl",
       "source_or_target_dataset": "source",
       "x_transforms": []
      },
      {
       "domain_prefix": "ORACLE.run2_",
       "domains": [
        32,
        38,
        8,
        44,
        14,
        50,
        20,
        26
       ],
       "episode_transforms": [],
       "labels": [
        "3123D52",
        "3123D65",
        "3123D79",
        "3123D80",
        "3123D54",
        "3123D70",
        "3123D7B",
        "3123D89",
        "3123D58",
        "3123D76",
        "3123D7D",
        "3123EFE",
        "3123D64",
        "3123D78",
        "3123D7E",
        "3124E4A"
       ],
       "num_examples_per_domain_per_label": 10000,
       "pickle_path": "/mnt/wd500GB/CSC500/csc500-main/datasets/oracle.Run2_10kExamples_stratified_ds.2022A.pkl",
       "source_or_target_dataset": "target",
       "x_transforms": []
      }
     ],
     "device": "cuda",
     "experiment_name": "tl_1v2:oracle.run1-oracle.run2",
     "lr": 0.0001,
     "n_epoch": 50,
     "n_query": 2,
     "n_shot": 3,
     "n_way": 16,
     "patience": 3,
     "seed": 154325,
     "test_k_factor": 2,
     "torch_default_dtype": "torch.float32",
     "train_k_factor": 3,
     "val_k_factor": 2,
     "x_net": [
      {
       "class": "nnReshape",
       "kargs": {
        "shape": [
         -1,
         1,
         2,
         256
        ]
       }
      },
      {
       "class": "Conv2d",
       "kargs": {
        "bias": false,
        "in_channels": 1,
        "kernel_size": [
         1,
         7
        ],
        "out_channels": 256,
        "padding": [
         0,
         3
        ]
       }
      },
      {
       "class": "ReLU",
       "kargs": {
        "inplace": true
       }
      },
      {
       "class": "BatchNorm2d",
       "kargs": {
        "num_features": 256
       }
      },
      {
       "class": "Conv2d",
       "kargs": {
        "bias": true,
        "in_channels": 256,
        "kernel_size": [
         2,
         7
        ],
        "out_channels": 80,
        "padding": [
         0,
         3
        ]
       }
      },
      {
       "class": "ReLU",
       "kargs": {
        "inplace": true
       }
      },
      {
       "class": "BatchNorm2d",
       "kargs": {
        "num_features": 80
       }
      },
      {
       "class": "Flatten",
       "kargs": {}
      },
      {
       "class": "Linear",
       "kargs": {
        "in_features": 20480,
        "out_features": 256
       }
      },
      {
       "class": "ReLU",
       "kargs": {
        "inplace": true
       }
      },
      {
       "class": "BatchNorm1d",
       "kargs": {
        "num_features": 256
       }
      },
      {
       "class": "Linear",
       "kargs": {
        "in_features": 256,
        "out_features": 256
       }
      }
     ]
    }
   },
   "start_time": "2022-03-24T21:06:47.682586",
   "version": "2.3.4"
  }
 },
 "nbformat": 4,
 "nbformat_minor": 5
}