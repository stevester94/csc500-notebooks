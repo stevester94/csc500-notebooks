{
 "cells": [
  {
   "cell_type": "markdown",
   "id": "9fea5f46",
   "metadata": {
    "papermill": {
     "duration": 0.016525,
     "end_time": "2022-03-23T12:42:47.326603",
     "exception": false,
     "start_time": "2022-03-23T12:42:47.310078",
     "status": "completed"
    },
    "tags": []
   },
   "source": [
    "# Transfer Learning Template"
   ]
  },
  {
   "cell_type": "code",
   "execution_count": 1,
   "id": "0902182a",
   "metadata": {
    "execution": {
     "iopub.execute_input": "2022-03-23T12:42:47.367327Z",
     "iopub.status.busy": "2022-03-23T12:42:47.366804Z",
     "iopub.status.idle": "2022-03-23T12:42:48.255909Z",
     "shell.execute_reply": "2022-03-23T12:42:48.255618Z"
    },
    "papermill": {
     "duration": 0.917084,
     "end_time": "2022-03-23T12:42:48.255977",
     "exception": false,
     "start_time": "2022-03-23T12:42:47.338893",
     "status": "completed"
    },
    "tags": []
   },
   "outputs": [],
   "source": [
    "%load_ext autoreload\n",
    "%autoreload 2\n",
    "%matplotlib inline\n",
    "\n",
    "    \n",
    "import os, json, sys, time, random\n",
    "import numpy as np\n",
    "import torch\n",
    "from torch.optim import Adam\n",
    "from  easydict import EasyDict\n",
    "import matplotlib.pyplot as plt\n",
    "\n",
    "from steves_models.steves_ptn import Steves_Prototypical_Network\n",
    "\n",
    "from steves_utils.lazy_iterable_wrapper import Lazy_Iterable_Wrapper\n",
    "from steves_utils.iterable_aggregator import Iterable_Aggregator\n",
    "from steves_utils.ptn_train_eval_test_jig import  PTN_Train_Eval_Test_Jig\n",
    "from steves_utils.torch_sequential_builder import build_sequential\n",
    "from steves_utils.torch_utils import get_dataset_metrics, ptn_confusion_by_domain_over_dataloader\n",
    "from steves_utils.utils_v2 import (per_domain_accuracy_from_confusion, get_datasets_base_path)\n",
    "from steves_utils.PTN.utils import independent_accuracy_assesment\n",
    "\n",
    "from torch.utils.data import DataLoader\n",
    "\n",
    "from steves_utils.stratified_dataset.episodic_accessor import Episodic_Accessor_Factory\n",
    "\n",
    "from steves_utils.ptn_do_report import (\n",
    "    get_loss_curve,\n",
    "    get_results_table,\n",
    "    get_parameters_table,\n",
    "    get_domain_accuracies,\n",
    ")\n",
    "\n",
    "from steves_utils.transforms import get_chained_transform"
   ]
  },
  {
   "cell_type": "markdown",
   "id": "41c840b4",
   "metadata": {
    "papermill": {
     "duration": 0.013031,
     "end_time": "2022-03-23T12:42:48.282534",
     "exception": false,
     "start_time": "2022-03-23T12:42:48.269503",
     "status": "completed"
    },
    "tags": []
   },
   "source": [
    "# Allowed Parameters\n",
    "These are allowed parameters, not defaults\n",
    "Each of these values need to be present in the injected parameters (the notebook will raise an exception if they are not present)\n",
    "\n",
    "Papermill uses the cell tag \"parameters\" to inject the real parameters below this cell.\n",
    "Enable tags to see what I mean"
   ]
  },
  {
   "cell_type": "code",
   "execution_count": 2,
   "id": "fd44eb83",
   "metadata": {
    "execution": {
     "iopub.execute_input": "2022-03-23T12:42:48.311015Z",
     "iopub.status.busy": "2022-03-23T12:42:48.310757Z",
     "iopub.status.idle": "2022-03-23T12:42:48.324520Z",
     "shell.execute_reply": "2022-03-23T12:42:48.324031Z"
    },
    "papermill": {
     "duration": 0.029132,
     "end_time": "2022-03-23T12:42:48.324623",
     "exception": false,
     "start_time": "2022-03-23T12:42:48.295491",
     "status": "completed"
    },
    "tags": []
   },
   "outputs": [],
   "source": [
    "required_parameters = {\n",
    "    \"experiment_name\",\n",
    "    \"lr\",\n",
    "    \"device\",\n",
    "    \"seed\",\n",
    "    \"dataset_seed\",\n",
    "    \"n_shot\",\n",
    "    \"n_query\",\n",
    "    \"n_way\",\n",
    "    \"train_k_factor\",\n",
    "    \"val_k_factor\",\n",
    "    \"test_k_factor\",\n",
    "    \"n_epoch\",\n",
    "    \"patience\",\n",
    "    \"criteria_for_best\",\n",
    "    \"x_net\",\n",
    "    \"datasets\",\n",
    "    \"torch_default_dtype\",\n",
    "    \"NUM_LOGS_PER_EPOCH\",\n",
    "    \"BEST_MODEL_PATH\",\n",
    "    \"x_shape\",\n",
    "}"
   ]
  },
  {
   "cell_type": "code",
   "execution_count": 3,
   "id": "fa3f0049",
   "metadata": {
    "execution": {
     "iopub.execute_input": "2022-03-23T12:42:48.363177Z",
     "iopub.status.busy": "2022-03-23T12:42:48.362767Z",
     "iopub.status.idle": "2022-03-23T12:42:48.376057Z",
     "shell.execute_reply": "2022-03-23T12:42:48.375603Z"
    },
    "papermill": {
     "duration": 0.032074,
     "end_time": "2022-03-23T12:42:48.376157",
     "exception": false,
     "start_time": "2022-03-23T12:42:48.344083",
     "status": "completed"
    },
    "tags": [
     "parameters"
    ]
   },
   "outputs": [],
   "source": [
    "from steves_utils.CORES.utils import (\n",
    "    ALL_NODES,\n",
    "    ALL_NODES_MINIMUM_1000_EXAMPLES,\n",
    "    ALL_DAYS\n",
    ")\n",
    "\n",
    "from steves_utils.ORACLE.utils_v2 import (\n",
    "    ALL_DISTANCES_FEET_NARROWED,\n",
    "    ALL_RUNS,\n",
    "    ALL_SERIAL_NUMBERS,\n",
    ")\n",
    "\n",
    "standalone_parameters = {}\n",
    "standalone_parameters[\"experiment_name\"] = \"STANDALONE PTN\"\n",
    "standalone_parameters[\"lr\"] = 0.001\n",
    "standalone_parameters[\"device\"] = \"cuda\"\n",
    "\n",
    "standalone_parameters[\"seed\"] = 1337\n",
    "standalone_parameters[\"dataset_seed\"] = 1337\n",
    "\n",
    "standalone_parameters[\"n_way\"] = 8\n",
    "standalone_parameters[\"n_shot\"] = 3\n",
    "standalone_parameters[\"n_query\"]  = 2\n",
    "standalone_parameters[\"train_k_factor\"] = 1\n",
    "standalone_parameters[\"val_k_factor\"] = 2\n",
    "standalone_parameters[\"test_k_factor\"] = 2\n",
    "\n",
    "\n",
    "standalone_parameters[\"n_epoch\"] = 50\n",
    "\n",
    "standalone_parameters[\"patience\"] = 10\n",
    "standalone_parameters[\"criteria_for_best\"] = \"source_loss\"\n",
    "\n",
    "standalone_parameters[\"datasets\"] = [\n",
    "    {\n",
    "        \"labels\": ALL_SERIAL_NUMBERS,\n",
    "        \"domains\": ALL_DISTANCES_FEET_NARROWED,\n",
    "        \"num_examples_per_domain_per_label\": 100,\n",
    "        \"pickle_path\": os.path.join(get_datasets_base_path(), \"oracle.Run1_framed_2000Examples_stratified_ds.2022A.pkl\"),\n",
    "        \"source_or_target_dataset\": \"source\",\n",
    "        \"x_transforms\": [\"unit_mag\", \"minus_two\"],\n",
    "        \"episode_transforms\": [],\n",
    "        \"domain_prefix\": \"ORACLE_\"\n",
    "    },\n",
    "    {\n",
    "        \"labels\": ALL_NODES,\n",
    "        \"domains\": ALL_DAYS,\n",
    "        \"num_examples_per_domain_per_label\": 100,\n",
    "        \"pickle_path\": os.path.join(get_datasets_base_path(), \"cores.stratified_ds.2022A.pkl\"),\n",
    "        \"source_or_target_dataset\": \"target\",\n",
    "        \"x_transforms\": [\"unit_power\", \"times_zero\"],\n",
    "        \"episode_transforms\": [],\n",
    "        \"domain_prefix\": \"CORES_\"\n",
    "    }   \n",
    "]\n",
    "\n",
    "standalone_parameters[\"torch_default_dtype\"] = \"torch.float32\" \n",
    "\n",
    "\n",
    "\n",
    "standalone_parameters[\"x_net\"] =     [\n",
    "    {\"class\": \"nnReshape\", \"kargs\": {\"shape\":[-1, 1, 2, 256]}},\n",
    "    {\"class\": \"Conv2d\", \"kargs\": { \"in_channels\":1, \"out_channels\":256, \"kernel_size\":(1,7), \"bias\":False, \"padding\":(0,3), },},\n",
    "    {\"class\": \"ReLU\", \"kargs\": {\"inplace\": True}},\n",
    "    {\"class\": \"BatchNorm2d\", \"kargs\": {\"num_features\":256}},\n",
    "\n",
    "    {\"class\": \"Conv2d\", \"kargs\": { \"in_channels\":256, \"out_channels\":80, \"kernel_size\":(2,7), \"bias\":True, \"padding\":(0,3), },},\n",
    "    {\"class\": \"ReLU\", \"kargs\": {\"inplace\": True}},\n",
    "    {\"class\": \"BatchNorm2d\", \"kargs\": {\"num_features\":80}},\n",
    "    {\"class\": \"Flatten\", \"kargs\": {}},\n",
    "\n",
    "    {\"class\": \"Linear\", \"kargs\": {\"in_features\": 80*256, \"out_features\": 256}}, # 80 units per IQ pair\n",
    "    {\"class\": \"ReLU\", \"kargs\": {\"inplace\": True}},\n",
    "    {\"class\": \"BatchNorm1d\", \"kargs\": {\"num_features\":256}},\n",
    "\n",
    "    {\"class\": \"Linear\", \"kargs\": {\"in_features\": 256, \"out_features\": 256}},\n",
    "]\n",
    "\n",
    "# Parameters relevant to results\n",
    "# These parameters will basically never need to change\n",
    "standalone_parameters[\"NUM_LOGS_PER_EPOCH\"] = 10\n",
    "standalone_parameters[\"BEST_MODEL_PATH\"] = \"./best_model.pth\"\n",
    "\n",
    "\n",
    "\n",
    "\n"
   ]
  },
  {
   "cell_type": "code",
   "execution_count": 4,
   "id": "86d87145",
   "metadata": {
    "execution": {
     "iopub.execute_input": "2022-03-23T12:42:48.416504Z",
     "iopub.status.busy": "2022-03-23T12:42:48.416077Z",
     "iopub.status.idle": "2022-03-23T12:42:48.430242Z",
     "shell.execute_reply": "2022-03-23T12:42:48.429994Z"
    },
    "papermill": {
     "duration": 0.035914,
     "end_time": "2022-03-23T12:42:48.430300",
     "exception": false,
     "start_time": "2022-03-23T12:42:48.394386",
     "status": "completed"
    },
    "tags": [
     "injected-parameters"
    ]
   },
   "outputs": [],
   "source": [
    "# Parameters\n",
    "parameters = {\n",
    "    \"experiment_name\": \"tl_1v2:oracle.run1-oracle.run2\",\n",
    "    \"device\": \"cuda\",\n",
    "    \"lr\": 0.0001,\n",
    "    \"n_shot\": 3,\n",
    "    \"n_query\": 2,\n",
    "    \"train_k_factor\": 3,\n",
    "    \"val_k_factor\": 2,\n",
    "    \"test_k_factor\": 2,\n",
    "    \"torch_default_dtype\": \"torch.float32\",\n",
    "    \"n_epoch\": 50,\n",
    "    \"patience\": 3,\n",
    "    \"criteria_for_best\": \"target_accuracy\",\n",
    "    \"x_net\": [\n",
    "        {\"class\": \"nnReshape\", \"kargs\": {\"shape\": [-1, 1, 2, 256]}},\n",
    "        {\n",
    "            \"class\": \"Conv2d\",\n",
    "            \"kargs\": {\n",
    "                \"in_channels\": 1,\n",
    "                \"out_channels\": 256,\n",
    "                \"kernel_size\": [1, 7],\n",
    "                \"bias\": False,\n",
    "                \"padding\": [0, 3],\n",
    "            },\n",
    "        },\n",
    "        {\"class\": \"ReLU\", \"kargs\": {\"inplace\": True}},\n",
    "        {\"class\": \"BatchNorm2d\", \"kargs\": {\"num_features\": 256}},\n",
    "        {\n",
    "            \"class\": \"Conv2d\",\n",
    "            \"kargs\": {\n",
    "                \"in_channels\": 256,\n",
    "                \"out_channels\": 80,\n",
    "                \"kernel_size\": [2, 7],\n",
    "                \"bias\": True,\n",
    "                \"padding\": [0, 3],\n",
    "            },\n",
    "        },\n",
    "        {\"class\": \"ReLU\", \"kargs\": {\"inplace\": True}},\n",
    "        {\"class\": \"BatchNorm2d\", \"kargs\": {\"num_features\": 80}},\n",
    "        {\"class\": \"Flatten\", \"kargs\": {}},\n",
    "        {\"class\": \"Linear\", \"kargs\": {\"in_features\": 20480, \"out_features\": 256}},\n",
    "        {\"class\": \"ReLU\", \"kargs\": {\"inplace\": True}},\n",
    "        {\"class\": \"BatchNorm1d\", \"kargs\": {\"num_features\": 256}},\n",
    "        {\"class\": \"Linear\", \"kargs\": {\"in_features\": 256, \"out_features\": 256}},\n",
    "    ],\n",
    "    \"NUM_LOGS_PER_EPOCH\": 10,\n",
    "    \"BEST_MODEL_PATH\": \"./best_model.pth\",\n",
    "    \"n_way\": 16,\n",
    "    \"datasets\": [\n",
    "        {\n",
    "            \"labels\": [\n",
    "                \"3123D52\",\n",
    "                \"3123D65\",\n",
    "                \"3123D79\",\n",
    "                \"3123D80\",\n",
    "                \"3123D54\",\n",
    "                \"3123D70\",\n",
    "                \"3123D7B\",\n",
    "                \"3123D89\",\n",
    "                \"3123D58\",\n",
    "                \"3123D76\",\n",
    "                \"3123D7D\",\n",
    "                \"3123EFE\",\n",
    "                \"3123D64\",\n",
    "                \"3123D78\",\n",
    "                \"3123D7E\",\n",
    "                \"3124E4A\",\n",
    "            ],\n",
    "            \"domains\": [32, 38, 8, 44, 14, 50, 20, 26],\n",
    "            \"num_examples_per_domain_per_label\": 10000,\n",
    "            \"pickle_path\": \"/mnt/wd500GB/CSC500/csc500-main/datasets/oracle.Run1_10kExamples_stratified_ds.2022A.pkl\",\n",
    "            \"source_or_target_dataset\": \"target\",\n",
    "            \"x_transforms\": [\"unit_power\"],\n",
    "            \"episode_transforms\": [],\n",
    "            \"domain_prefix\": \"ORACLE.run1_\",\n",
    "        },\n",
    "        {\n",
    "            \"labels\": [\n",
    "                \"3123D52\",\n",
    "                \"3123D65\",\n",
    "                \"3123D79\",\n",
    "                \"3123D80\",\n",
    "                \"3123D54\",\n",
    "                \"3123D70\",\n",
    "                \"3123D7B\",\n",
    "                \"3123D89\",\n",
    "                \"3123D58\",\n",
    "                \"3123D76\",\n",
    "                \"3123D7D\",\n",
    "                \"3123EFE\",\n",
    "                \"3123D64\",\n",
    "                \"3123D78\",\n",
    "                \"3123D7E\",\n",
    "                \"3124E4A\",\n",
    "            ],\n",
    "            \"domains\": [32, 38, 8, 44, 14, 50, 20, 26],\n",
    "            \"num_examples_per_domain_per_label\": 10000,\n",
    "            \"pickle_path\": \"/mnt/wd500GB/CSC500/csc500-main/datasets/oracle.Run2_10kExamples_stratified_ds.2022A.pkl\",\n",
    "            \"source_or_target_dataset\": \"source\",\n",
    "            \"x_transforms\": [\"unit_power\"],\n",
    "            \"episode_transforms\": [],\n",
    "            \"domain_prefix\": \"ORACLE.run2_\",\n",
    "        },\n",
    "    ],\n",
    "    \"dataset_seed\": 1337,\n",
    "    \"seed\": 1337,\n",
    "}\n"
   ]
  },
  {
   "cell_type": "code",
   "execution_count": 5,
   "id": "8fa1cc33",
   "metadata": {
    "execution": {
     "iopub.execute_input": "2022-03-23T12:42:48.462492Z",
     "iopub.status.busy": "2022-03-23T12:42:48.462088Z",
     "iopub.status.idle": "2022-03-23T12:42:48.473609Z",
     "shell.execute_reply": "2022-03-23T12:42:48.473371Z"
    },
    "papermill": {
     "duration": 0.027522,
     "end_time": "2022-03-23T12:42:48.473670",
     "exception": false,
     "start_time": "2022-03-23T12:42:48.446148",
     "status": "completed"
    },
    "tags": []
   },
   "outputs": [],
   "source": [
    "# Set this to True if you want to run this template directly\n",
    "STANDALONE = False\n",
    "if STANDALONE:\n",
    "    print(\"parameters not injected, running with standalone_parameters\")\n",
    "    parameters = standalone_parameters\n",
    "\n",
    "if not 'parameters' in locals() and not 'parameters' in globals():\n",
    "    raise Exception(\"Parameter injection failed\")\n",
    "\n",
    "#Use an easy dict for all the parameters\n",
    "p = EasyDict(parameters)\n",
    "\n",
    "if \"x_shape\" not in p:\n",
    "    p.x_shape = [2,256] # Default to this if we dont supply x_shape\n",
    "\n",
    "\n",
    "supplied_keys = set(p.keys())\n",
    "\n",
    "if  supplied_keys != required_parameters:\n",
    "    print(\"Parameters are incorrect\")\n",
    "    if len(supplied_keys - required_parameters)>0: print(\"Shouldn't have:\", str(supplied_keys - required_parameters))\n",
    "    if len(required_parameters - supplied_keys)>0: print(\"Need to have:\", str(required_parameters - supplied_keys))\n",
    "    raise RuntimeError(\"Parameters are incorrect\")"
   ]
  },
  {
   "cell_type": "code",
   "execution_count": 6,
   "id": "3a028d58",
   "metadata": {
    "execution": {
     "iopub.execute_input": "2022-03-23T12:42:48.501770Z",
     "iopub.status.busy": "2022-03-23T12:42:48.501388Z",
     "iopub.status.idle": "2022-03-23T12:42:48.512665Z",
     "shell.execute_reply": "2022-03-23T12:42:48.512415Z"
    },
    "papermill": {
     "duration": 0.025898,
     "end_time": "2022-03-23T12:42:48.512723",
     "exception": false,
     "start_time": "2022-03-23T12:42:48.486825",
     "status": "completed"
    },
    "tags": []
   },
   "outputs": [],
   "source": [
    "###################################\n",
    "# Set the RNGs and make it all deterministic\n",
    "###################################\n",
    "np.random.seed(p.seed)\n",
    "random.seed(p.seed)\n",
    "torch.manual_seed(p.seed)\n",
    "\n",
    "torch.use_deterministic_algorithms(True) "
   ]
  },
  {
   "cell_type": "code",
   "execution_count": 7,
   "id": "b691acf6",
   "metadata": {
    "execution": {
     "iopub.execute_input": "2022-03-23T12:42:48.543883Z",
     "iopub.status.busy": "2022-03-23T12:42:48.543483Z",
     "iopub.status.idle": "2022-03-23T12:42:48.554315Z",
     "shell.execute_reply": "2022-03-23T12:42:48.554074Z"
    },
    "papermill": {
     "duration": 0.026025,
     "end_time": "2022-03-23T12:42:48.554373",
     "exception": false,
     "start_time": "2022-03-23T12:42:48.528348",
     "status": "completed"
    },
    "tags": []
   },
   "outputs": [],
   "source": [
    "###########################################\n",
    "# The stratified datasets honor this\n",
    "###########################################\n",
    "torch.set_default_dtype(eval(p.torch_default_dtype))"
   ]
  },
  {
   "cell_type": "code",
   "execution_count": 8,
   "id": "b5fba671",
   "metadata": {
    "execution": {
     "iopub.execute_input": "2022-03-23T12:42:48.584336Z",
     "iopub.status.busy": "2022-03-23T12:42:48.583957Z",
     "iopub.status.idle": "2022-03-23T12:42:48.622712Z",
     "shell.execute_reply": "2022-03-23T12:42:48.622462Z"
    },
    "papermill": {
     "duration": 0.053918,
     "end_time": "2022-03-23T12:42:48.622777",
     "exception": false,
     "start_time": "2022-03-23T12:42:48.568859",
     "status": "completed"
    },
    "tags": []
   },
   "outputs": [],
   "source": [
    "###################################\n",
    "# Build the network(s)\n",
    "# Note: It's critical to do this AFTER setting the RNG\n",
    "###################################\n",
    "x_net = build_sequential(p.x_net)"
   ]
  },
  {
   "cell_type": "code",
   "execution_count": 9,
   "id": "5d7e61cc",
   "metadata": {
    "execution": {
     "iopub.execute_input": "2022-03-23T12:42:48.651685Z",
     "iopub.status.busy": "2022-03-23T12:42:48.651321Z",
     "iopub.status.idle": "2022-03-23T12:42:48.662209Z",
     "shell.execute_reply": "2022-03-23T12:42:48.661966Z"
    },
    "papermill": {
     "duration": 0.025807,
     "end_time": "2022-03-23T12:42:48.662269",
     "exception": false,
     "start_time": "2022-03-23T12:42:48.636462",
     "status": "completed"
    },
    "tags": []
   },
   "outputs": [],
   "source": [
    "start_time_secs = time.time()"
   ]
  },
  {
   "cell_type": "code",
   "execution_count": 10,
   "id": "c6b67dfd",
   "metadata": {
    "execution": {
     "iopub.execute_input": "2022-03-23T12:42:48.692390Z",
     "iopub.status.busy": "2022-03-23T12:42:48.692015Z",
     "iopub.status.idle": "2022-03-23T12:42:48.702855Z",
     "shell.execute_reply": "2022-03-23T12:42:48.702623Z"
    },
    "papermill": {
     "duration": 0.025968,
     "end_time": "2022-03-23T12:42:48.702913",
     "exception": false,
     "start_time": "2022-03-23T12:42:48.676945",
     "status": "completed"
    },
    "tags": []
   },
   "outputs": [],
   "source": [
    "p.domains_source = []\n",
    "p.domains_target = []\n",
    "\n",
    "\n",
    "train_original_source = []\n",
    "val_original_source   = []\n",
    "test_original_source  = []\n",
    "\n",
    "train_original_target = []\n",
    "val_original_target   = []\n",
    "test_original_target  = []"
   ]
  },
  {
   "cell_type": "code",
   "execution_count": 11,
   "id": "e3d9c3d3",
   "metadata": {
    "execution": {
     "iopub.execute_input": "2022-03-23T12:42:48.732807Z",
     "iopub.status.busy": "2022-03-23T12:42:48.732419Z",
     "iopub.status.idle": "2022-03-23T12:42:48.743813Z",
     "shell.execute_reply": "2022-03-23T12:42:48.743552Z"
    },
    "papermill": {
     "duration": 0.026047,
     "end_time": "2022-03-23T12:42:48.743868",
     "exception": false,
     "start_time": "2022-03-23T12:42:48.717821",
     "status": "completed"
    },
    "tags": []
   },
   "outputs": [],
   "source": [
    "# global_x_transform_func = lambda x: normalize(x.to(torch.get_default_dtype()), \"unit_power\") # unit_power, unit_mag\n",
    "# global_x_transform_func = lambda x: normalize(x, \"unit_power\") # unit_power, unit_mag"
   ]
  },
  {
   "cell_type": "code",
   "execution_count": 12,
   "id": "acb78fd2",
   "metadata": {
    "execution": {
     "iopub.execute_input": "2022-03-23T12:42:48.778898Z",
     "iopub.status.busy": "2022-03-23T12:42:48.778376Z",
     "iopub.status.idle": "2022-03-23T12:42:48.791232Z",
     "shell.execute_reply": "2022-03-23T12:42:48.790989Z"
    },
    "papermill": {
     "duration": 0.030933,
     "end_time": "2022-03-23T12:42:48.791290",
     "exception": false,
     "start_time": "2022-03-23T12:42:48.760357",
     "status": "completed"
    },
    "tags": []
   },
   "outputs": [],
   "source": [
    "def add_dataset(\n",
    "    labels,\n",
    "    domains,\n",
    "    pickle_path,\n",
    "    x_transforms,\n",
    "    episode_transforms,\n",
    "    domain_prefix,\n",
    "    num_examples_per_domain_per_label,\n",
    "    source_or_target_dataset:str,\n",
    "    iterator_seed=p.seed,\n",
    "    dataset_seed=p.dataset_seed,\n",
    "    n_shot=p.n_shot,\n",
    "    n_way=p.n_way,\n",
    "    n_query=p.n_query,\n",
    "    train_val_test_k_factors=(p.train_k_factor,p.val_k_factor,p.test_k_factor),\n",
    "):\n",
    "   \n",
    "    if x_transforms == []: x_transform = None\n",
    "    else: x_transform = get_chained_transform(x_transforms)\n",
    "    \n",
    "    if episode_transforms == []: episode_transform = None\n",
    "    else: raise Exception(\"episode_transforms not implemented\")\n",
    "    \n",
    "    episode_transform = lambda tup, _prefix=domain_prefix: (_prefix + str(tup[0]), tup[1])\n",
    "\n",
    "\n",
    "    eaf = Episodic_Accessor_Factory(\n",
    "        labels=labels,\n",
    "        domains=domains,\n",
    "        num_examples_per_domain_per_label=num_examples_per_domain_per_label,\n",
    "        iterator_seed=iterator_seed,\n",
    "        dataset_seed=dataset_seed,\n",
    "        n_shot=n_shot,\n",
    "        n_way=n_way,\n",
    "        n_query=n_query,\n",
    "        train_val_test_k_factors=train_val_test_k_factors,\n",
    "        pickle_path=pickle_path,\n",
    "        x_transform_func=x_transform,\n",
    "    )\n",
    "\n",
    "    train, val, test = eaf.get_train(), eaf.get_val(), eaf.get_test()\n",
    "    train = Lazy_Iterable_Wrapper(train, episode_transform)\n",
    "    val = Lazy_Iterable_Wrapper(val, episode_transform)\n",
    "    test = Lazy_Iterable_Wrapper(test, episode_transform)\n",
    "\n",
    "    if source_or_target_dataset==\"source\":\n",
    "        train_original_source.append(train)\n",
    "        val_original_source.append(val)\n",
    "        test_original_source.append(test)\n",
    "\n",
    "        p.domains_source.extend(\n",
    "            [domain_prefix + str(u) for u in domains]\n",
    "        )\n",
    "    elif source_or_target_dataset==\"target\":\n",
    "        train_original_target.append(train)\n",
    "        val_original_target.append(val)\n",
    "        test_original_target.append(test)\n",
    "        p.domains_target.extend(\n",
    "            [domain_prefix + str(u) for u in domains]\n",
    "        )\n",
    "    else:\n",
    "        raise Exception(f\"invalid source_or_target_dataset: {source_or_target_dataset}\")\n",
    "    "
   ]
  },
  {
   "cell_type": "code",
   "execution_count": 13,
   "id": "fe266617",
   "metadata": {
    "execution": {
     "iopub.execute_input": "2022-03-23T12:42:48.821686Z",
     "iopub.status.busy": "2022-03-23T12:42:48.821328Z",
     "iopub.status.idle": "2022-03-23T12:45:27.512237Z",
     "shell.execute_reply": "2022-03-23T12:45:27.511725Z"
    },
    "papermill": {
     "duration": 158.7058,
     "end_time": "2022-03-23T12:45:27.512346",
     "exception": false,
     "start_time": "2022-03-23T12:42:48.806546",
     "status": "completed"
    },
    "tags": []
   },
   "outputs": [],
   "source": [
    "for ds in p.datasets:\n",
    "    add_dataset(**ds)"
   ]
  },
  {
   "cell_type": "code",
   "execution_count": 14,
   "id": "b90d65ac",
   "metadata": {
    "execution": {
     "iopub.execute_input": "2022-03-23T12:45:27.546608Z",
     "iopub.status.busy": "2022-03-23T12:45:27.546360Z",
     "iopub.status.idle": "2022-03-23T12:45:27.562269Z",
     "shell.execute_reply": "2022-03-23T12:45:27.561857Z"
    },
    "papermill": {
     "duration": 0.031463,
     "end_time": "2022-03-23T12:45:27.562371",
     "exception": false,
     "start_time": "2022-03-23T12:45:27.530908",
     "status": "completed"
    },
    "tags": []
   },
   "outputs": [],
   "source": [
    "# from steves_utils.CORES.utils import (\n",
    "#     ALL_NODES,\n",
    "#     ALL_NODES_MINIMUM_1000_EXAMPLES,\n",
    "#     ALL_DAYS\n",
    "# )\n",
    "\n",
    "# add_dataset(\n",
    "#     labels=ALL_NODES,\n",
    "#     domains = ALL_DAYS,\n",
    "#     num_examples_per_domain_per_label=100,\n",
    "#     pickle_path=os.path.join(get_datasets_base_path(), \"cores.stratified_ds.2022A.pkl\"),\n",
    "#     source_or_target_dataset=\"target\",\n",
    "#     x_transform_func=global_x_transform_func,\n",
    "#     domain_modifier=lambda u: f\"cores_{u}\"\n",
    "# )"
   ]
  },
  {
   "cell_type": "code",
   "execution_count": 15,
   "id": "76db484d",
   "metadata": {
    "execution": {
     "iopub.execute_input": "2022-03-23T12:45:27.602409Z",
     "iopub.status.busy": "2022-03-23T12:45:27.597347Z",
     "iopub.status.idle": "2022-03-23T12:45:27.611072Z",
     "shell.execute_reply": "2022-03-23T12:45:27.610653Z"
    },
    "papermill": {
     "duration": 0.029318,
     "end_time": "2022-03-23T12:45:27.611170",
     "exception": false,
     "start_time": "2022-03-23T12:45:27.581852",
     "status": "completed"
    },
    "tags": []
   },
   "outputs": [],
   "source": [
    "# from steves_utils.ORACLE.utils_v2 import (\n",
    "#     ALL_DISTANCES_FEET,\n",
    "#     ALL_RUNS,\n",
    "#     ALL_SERIAL_NUMBERS,\n",
    "# )\n",
    "\n",
    "\n",
    "# add_dataset(\n",
    "#     labels=ALL_SERIAL_NUMBERS,\n",
    "#     domains = list(set(ALL_DISTANCES_FEET) - {2,62}),\n",
    "#     num_examples_per_domain_per_label=100,\n",
    "#     pickle_path=os.path.join(get_datasets_base_path(), \"oracle.Run2_framed_2000Examples_stratified_ds.2022A.pkl\"),\n",
    "#     source_or_target_dataset=\"source\",\n",
    "#     x_transform_func=global_x_transform_func,\n",
    "#     domain_modifier=lambda u: f\"oracle1_{u}\"\n",
    "# )\n"
   ]
  },
  {
   "cell_type": "code",
   "execution_count": 16,
   "id": "97dea9d2",
   "metadata": {
    "execution": {
     "iopub.execute_input": "2022-03-23T12:45:27.646197Z",
     "iopub.status.busy": "2022-03-23T12:45:27.645942Z",
     "iopub.status.idle": "2022-03-23T12:45:27.657622Z",
     "shell.execute_reply": "2022-03-23T12:45:27.657215Z"
    },
    "papermill": {
     "duration": 0.026411,
     "end_time": "2022-03-23T12:45:27.657725",
     "exception": false,
     "start_time": "2022-03-23T12:45:27.631314",
     "status": "completed"
    },
    "tags": []
   },
   "outputs": [],
   "source": [
    "# from steves_utils.ORACLE.utils_v2 import (\n",
    "#     ALL_DISTANCES_FEET,\n",
    "#     ALL_RUNS,\n",
    "#     ALL_SERIAL_NUMBERS,\n",
    "# )\n",
    "\n",
    "\n",
    "# add_dataset(\n",
    "#     labels=ALL_SERIAL_NUMBERS,\n",
    "#     domains = list(set(ALL_DISTANCES_FEET) - {2,62,56}),\n",
    "#     num_examples_per_domain_per_label=100,\n",
    "#     pickle_path=os.path.join(get_datasets_base_path(), \"oracle.Run2_framed_2000Examples_stratified_ds.2022A.pkl\"),\n",
    "#     source_or_target_dataset=\"source\",\n",
    "#     x_transform_func=global_x_transform_func,\n",
    "#     domain_modifier=lambda u: f\"oracle2_{u}\"\n",
    "# )"
   ]
  },
  {
   "cell_type": "code",
   "execution_count": 17,
   "id": "6f289866",
   "metadata": {
    "execution": {
     "iopub.execute_input": "2022-03-23T12:45:27.692175Z",
     "iopub.status.busy": "2022-03-23T12:45:27.691924Z",
     "iopub.status.idle": "2022-03-23T12:45:27.702815Z",
     "shell.execute_reply": "2022-03-23T12:45:27.702328Z"
    },
    "papermill": {
     "duration": 0.026689,
     "end_time": "2022-03-23T12:45:27.702915",
     "exception": false,
     "start_time": "2022-03-23T12:45:27.676226",
     "status": "completed"
    },
    "tags": []
   },
   "outputs": [],
   "source": [
    "# add_dataset(\n",
    "#     labels=list(range(19)),\n",
    "#     domains = [0,1,2],\n",
    "#     num_examples_per_domain_per_label=100,\n",
    "#     pickle_path=os.path.join(get_datasets_base_path(), \"metehan.stratified_ds.2022A.pkl\"),\n",
    "#     source_or_target_dataset=\"target\",\n",
    "#     x_transform_func=global_x_transform_func,\n",
    "#     domain_modifier=lambda u: f\"met_{u}\"\n",
    "# )"
   ]
  },
  {
   "cell_type": "code",
   "execution_count": 18,
   "id": "86a863c3",
   "metadata": {
    "execution": {
     "iopub.execute_input": "2022-03-23T12:45:27.735013Z",
     "iopub.status.busy": "2022-03-23T12:45:27.734759Z",
     "iopub.status.idle": "2022-03-23T12:45:27.749301Z",
     "shell.execute_reply": "2022-03-23T12:45:27.748816Z"
    },
    "papermill": {
     "duration": 0.030424,
     "end_time": "2022-03-23T12:45:27.749400",
     "exception": false,
     "start_time": "2022-03-23T12:45:27.718976",
     "status": "completed"
    },
    "tags": []
   },
   "outputs": [],
   "source": [
    "# # from steves_utils.wisig.utils import (\n",
    "# #     ALL_NODES_MINIMUM_100_EXAMPLES,\n",
    "# #     ALL_NODES_MINIMUM_500_EXAMPLES,\n",
    "# #     ALL_NODES_MINIMUM_1000_EXAMPLES,\n",
    "# #     ALL_DAYS\n",
    "# # )\n",
    "\n",
    "# import steves_utils.wisig.utils as wisig\n",
    "\n",
    "\n",
    "# add_dataset(\n",
    "#     labels=wisig.ALL_NODES_MINIMUM_100_EXAMPLES,\n",
    "#     domains = wisig.ALL_DAYS,\n",
    "#     num_examples_per_domain_per_label=100,\n",
    "#     pickle_path=os.path.join(get_datasets_base_path(), \"wisig.node3-19.stratified_ds.2022A.pkl\"),\n",
    "#     source_or_target_dataset=\"target\",\n",
    "#     x_transform_func=global_x_transform_func,\n",
    "#     domain_modifier=lambda u: f\"wisig_{u}\"\n",
    "# )"
   ]
  },
  {
   "cell_type": "code",
   "execution_count": 19,
   "id": "fd5442bc",
   "metadata": {
    "execution": {
     "iopub.execute_input": "2022-03-23T12:45:27.790945Z",
     "iopub.status.busy": "2022-03-23T12:45:27.785220Z",
     "iopub.status.idle": "2022-03-23T12:45:27.801049Z",
     "shell.execute_reply": "2022-03-23T12:45:27.800599Z"
    },
    "papermill": {
     "duration": 0.035181,
     "end_time": "2022-03-23T12:45:27.801153",
     "exception": false,
     "start_time": "2022-03-23T12:45:27.765972",
     "status": "completed"
    },
    "tags": []
   },
   "outputs": [],
   "source": [
    "###################################\n",
    "# Build the dataset\n",
    "###################################\n",
    "train_original_source = Iterable_Aggregator(train_original_source, p.seed)\n",
    "val_original_source = Iterable_Aggregator(val_original_source, p.seed)\n",
    "test_original_source = Iterable_Aggregator(test_original_source, p.seed)\n",
    "\n",
    "\n",
    "train_original_target = Iterable_Aggregator(train_original_target, p.seed)\n",
    "val_original_target = Iterable_Aggregator(val_original_target, p.seed)\n",
    "test_original_target = Iterable_Aggregator(test_original_target, p.seed)\n",
    "\n",
    "# For CNN We only use X and Y. And we only train on the source.\n",
    "# Properly form the data using a transform lambda and Lazy_Iterable_Wrapper. Finally wrap them in a dataloader\n",
    "\n",
    "transform_lambda = lambda ex: ex[1] # Original is (<domain>, <episode>) so we strip down to episode only\n",
    "\n",
    "train_processed_source = Lazy_Iterable_Wrapper(train_original_source, transform_lambda)\n",
    "val_processed_source   = Lazy_Iterable_Wrapper(val_original_source, transform_lambda)\n",
    "test_processed_source  = Lazy_Iterable_Wrapper(test_original_source, transform_lambda)\n",
    "\n",
    "train_processed_target = Lazy_Iterable_Wrapper(train_original_target, transform_lambda)\n",
    "val_processed_target   = Lazy_Iterable_Wrapper(val_original_target, transform_lambda)\n",
    "test_processed_target  = Lazy_Iterable_Wrapper(test_original_target, transform_lambda)\n",
    "\n",
    "datasets = EasyDict({\n",
    "    \"source\": {\n",
    "        \"original\": {\"train\":train_original_source, \"val\":val_original_source, \"test\":test_original_source},\n",
    "        \"processed\": {\"train\":train_processed_source, \"val\":val_processed_source, \"test\":test_processed_source}\n",
    "    },\n",
    "    \"target\": {\n",
    "        \"original\": {\"train\":train_original_target, \"val\":val_original_target, \"test\":test_original_target},\n",
    "        \"processed\": {\"train\":train_processed_target, \"val\":val_processed_target, \"test\":test_processed_target}\n",
    "    },\n",
    "})"
   ]
  },
  {
   "cell_type": "code",
   "execution_count": 20,
   "id": "5b3c01fc",
   "metadata": {
    "execution": {
     "iopub.execute_input": "2022-03-23T12:45:27.836539Z",
     "iopub.status.busy": "2022-03-23T12:45:27.836248Z",
     "iopub.status.idle": "2022-03-23T12:45:52.662528Z",
     "shell.execute_reply": "2022-03-23T12:45:52.662895Z"
    },
    "papermill": {
     "duration": 24.843675,
     "end_time": "2022-03-23T12:45:52.662998",
     "exception": false,
     "start_time": "2022-03-23T12:45:27.819323",
     "status": "completed"
    },
    "tags": []
   },
   "outputs": [
    {
     "name": "stdout",
     "output_type": "stream",
     "text": [
      "{'ORACLE.run2_50', 'ORACLE.run2_32', 'ORACLE.run2_8', 'ORACLE.run2_44', 'ORACLE.run2_20', 'ORACLE.run2_14', 'ORACLE.run2_26', 'ORACLE.run2_38'}\n"
     ]
    },
    {
     "name": "stdout",
     "output_type": "stream",
     "text": [
      "{'ORACLE.run1_44', 'ORACLE.run1_8', 'ORACLE.run1_38', 'ORACLE.run1_32', 'ORACLE.run1_26', 'ORACLE.run1_14', 'ORACLE.run1_20', 'ORACLE.run1_50'}\n"
     ]
    },
    {
     "name": "stdout",
     "output_type": "stream",
     "text": [
      "tensor([[[-0.5406,  0.2613,  0.4415,  ..., -1.2615, -1.8472, -0.5496],\n",
      "         [-0.4235,  0.0901, -0.4235,  ..., -0.2883,  0.1802,  0.7569]],\n",
      "\n",
      "        [[ 0.7988, -0.2161,  0.6203,  ..., -0.5921,  0.9586,  0.0188],\n",
      "         [-1.2499, -0.5733, -0.1786,  ..., -0.6766, -0.0752,  0.2161]],\n",
      "\n",
      "        [[ 0.1743, -0.4404,  0.6331,  ...,  0.0917,  0.1193, -0.7248],\n",
      "         [ 1.1652, -0.3578,  0.6606,  ...,  0.5872, -0.0917,  0.3486]],\n",
      "\n",
      "        ...,\n",
      "\n",
      "        [[-0.3499, -0.4873, -0.8872,  ..., -0.3186, -0.1937,  1.0559],\n",
      "         [-0.1375, -0.9247,  0.4249,  ..., -0.3311, -0.9497, -0.1187]],\n",
      "\n",
      "        [[-0.4288,  0.3720,  0.6936,  ...,  0.8891, -0.1829, -1.4756],\n",
      "         [-0.0946,  0.4666, -0.3027,  ...,  0.0315,  0.3027, -0.6180]],\n",
      "\n",
      "        [[-0.9615, -0.0126, -0.8107,  ..., -0.5656, -0.4399, -1.1124],\n",
      "         [-0.9678, -0.3394, -1.0558,  ...,  0.0503,  0.4462,  0.0126]]])\n"
     ]
    }
   ],
   "source": [
    "from steves_utils.transforms import get_average_magnitude, get_average_power\n",
    "\n",
    "print(set([u for u,_ in val_original_source]))\n",
    "print(set([u for u,_ in val_original_target]))\n",
    "\n",
    "s_x, s_y, q_x, q_y, _ = next(iter(train_processed_source))\n",
    "print(s_x)\n",
    "\n",
    "# for ds in [\n",
    "#     train_processed_source,\n",
    "#     val_processed_source,\n",
    "#     test_processed_source,\n",
    "#     train_processed_target,\n",
    "#     val_processed_target,\n",
    "#     test_processed_target\n",
    "# ]:\n",
    "#     for s_x, s_y, q_x, q_y, _ in ds:\n",
    "#         for X in (s_x, q_x):\n",
    "#             for x in X:\n",
    "#                 assert np.isclose(get_average_magnitude(x.numpy()), 1.0)\n",
    "#                 assert np.isclose(get_average_power(x.numpy()), 1.0)\n",
    "                "
   ]
  },
  {
   "cell_type": "code",
   "execution_count": 21,
   "id": "bbdacba1",
   "metadata": {
    "execution": {
     "iopub.execute_input": "2022-03-23T12:45:52.697453Z",
     "iopub.status.busy": "2022-03-23T12:45:52.697201Z",
     "iopub.status.idle": "2022-03-23T12:45:52.769977Z",
     "shell.execute_reply": "2022-03-23T12:45:52.769525Z"
    },
    "papermill": {
     "duration": 0.089458,
     "end_time": "2022-03-23T12:45:52.770079",
     "exception": false,
     "start_time": "2022-03-23T12:45:52.680621",
     "status": "completed"
    },
    "tags": []
   },
   "outputs": [
    {
     "name": "stdout",
     "output_type": "stream",
     "text": [
      "(2, 256)\n"
     ]
    }
   ],
   "source": [
    "###################################\n",
    "# Build the model\n",
    "###################################\n",
    "# easfsl only wants a tuple for the shape\n",
    "model = Steves_Prototypical_Network(x_net, device=p.device, x_shape=tuple(p.x_shape))\n",
    "optimizer = Adam(params=model.parameters(), lr=p.lr)"
   ]
  },
  {
   "cell_type": "code",
   "execution_count": 22,
   "id": "22b39ac5",
   "metadata": {
    "execution": {
     "iopub.execute_input": "2022-03-23T12:45:52.806468Z",
     "iopub.status.busy": "2022-03-23T12:45:52.806216Z",
     "iopub.status.idle": "2022-03-23T15:18:46.296056Z",
     "shell.execute_reply": "2022-03-23T15:18:46.295825Z"
    },
    "papermill": {
     "duration": 9173.507177,
     "end_time": "2022-03-23T15:18:46.296114",
     "exception": false,
     "start_time": "2022-03-23T12:45:52.788937",
     "status": "completed"
    },
    "tags": []
   },
   "outputs": [
    {
     "name": "stdout",
     "output_type": "stream",
     "text": [
      "epoch: 1, [batch: 1 / 33600], examples_per_second: 9.9203, train_label_loss: 2.7855, \n"
     ]
    },
    {
     "name": "stdout",
     "output_type": "stream",
     "text": [
      "epoch: 1, [batch: 3360 / 33600], examples_per_second: 3189.3968, train_label_loss: 1.3081, \n"
     ]
    },
    {
     "name": "stdout",
     "output_type": "stream",
     "text": [
      "epoch: 1, [batch: 6720 / 33600], examples_per_second: 3197.4522, train_label_loss: 1.9213, \n"
     ]
    },
    {
     "name": "stdout",
     "output_type": "stream",
     "text": [
      "epoch: 1, [batch: 10080 / 33600], examples_per_second: 3198.6663, train_label_loss: 0.7470, \n"
     ]
    },
    {
     "name": "stdout",
     "output_type": "stream",
     "text": [
      "epoch: 1, [batch: 13440 / 33600], examples_per_second: 3185.1574, train_label_loss: 0.9661, \n"
     ]
    },
    {
     "name": "stdout",
     "output_type": "stream",
     "text": [
      "epoch: 1, [batch: 16800 / 33600], examples_per_second: 3200.4833, train_label_loss: 0.9705, \n"
     ]
    },
    {
     "name": "stdout",
     "output_type": "stream",
     "text": [
      "epoch: 1, [batch: 20160 / 33600], examples_per_second: 3198.8525, train_label_loss: 0.5879, \n"
     ]
    },
    {
     "name": "stdout",
     "output_type": "stream",
     "text": [
      "epoch: 1, [batch: 23520 / 33600], examples_per_second: 3184.0964, train_label_loss: 0.6371, \n"
     ]
    },
    {
     "name": "stdout",
     "output_type": "stream",
     "text": [
      "epoch: 1, [batch: 26880 / 33600], examples_per_second: 3193.9824, train_label_loss: 0.5798, \n"
     ]
    },
    {
     "name": "stdout",
     "output_type": "stream",
     "text": [
      "epoch: 1, [batch: 30240 / 33600], examples_per_second: 3200.1624, train_label_loss: 1.3486, \n"
     ]
    },
    {
     "name": "stdout",
     "output_type": "stream",
     "text": [
      "=============================================================\n",
      "epoch: 1, source_val_acc_label: 0.6376, target_val_acc_label: 0.6479, source_val_label_loss: 0.9802, target_val_label_loss: 0.9475, \n",
      "=============================================================\n"
     ]
    },
    {
     "name": "stdout",
     "output_type": "stream",
     "text": [
      "New best\n"
     ]
    },
    {
     "name": "stdout",
     "output_type": "stream",
     "text": [
      "epoch: 2, [batch: 1 / 33600], examples_per_second: 0.9615, train_label_loss: 0.7990, \n"
     ]
    },
    {
     "name": "stdout",
     "output_type": "stream",
     "text": [
      "epoch: 2, [batch: 3360 / 33600], examples_per_second: 3206.8873, train_label_loss: 0.6193, \n"
     ]
    },
    {
     "name": "stdout",
     "output_type": "stream",
     "text": [
      "epoch: 2, [batch: 6720 / 33600], examples_per_second: 3224.1491, train_label_loss: 1.4215, \n"
     ]
    },
    {
     "name": "stdout",
     "output_type": "stream",
     "text": [
      "epoch: 2, [batch: 10080 / 33600], examples_per_second: 3223.7403, train_label_loss: 1.1507, \n"
     ]
    },
    {
     "name": "stdout",
     "output_type": "stream",
     "text": [
      "epoch: 2, [batch: 13440 / 33600], examples_per_second: 3218.2016, train_label_loss: 0.6128, \n"
     ]
    },
    {
     "name": "stdout",
     "output_type": "stream",
     "text": [
      "epoch: 2, [batch: 16800 / 33600], examples_per_second: 3218.2517, train_label_loss: 1.2488, \n"
     ]
    },
    {
     "name": "stdout",
     "output_type": "stream",
     "text": [
      "epoch: 2, [batch: 20160 / 33600], examples_per_second: 3224.1436, train_label_loss: 1.2275, \n"
     ]
    },
    {
     "name": "stdout",
     "output_type": "stream",
     "text": [
      "epoch: 2, [batch: 23520 / 33600], examples_per_second: 3219.1139, train_label_loss: 0.4720, \n"
     ]
    },
    {
     "name": "stdout",
     "output_type": "stream",
     "text": [
      "epoch: 2, [batch: 26880 / 33600], examples_per_second: 3226.2880, train_label_loss: 1.1219, \n"
     ]
    },
    {
     "name": "stdout",
     "output_type": "stream",
     "text": [
      "epoch: 2, [batch: 30240 / 33600], examples_per_second: 3230.4611, train_label_loss: 1.0951, \n"
     ]
    },
    {
     "name": "stdout",
     "output_type": "stream",
     "text": [
      "=============================================================\n",
      "epoch: 2, source_val_acc_label: 0.6600, target_val_acc_label: 0.6717, source_val_label_loss: 0.9136, target_val_label_loss: 0.8718, \n",
      "=============================================================\n"
     ]
    },
    {
     "name": "stdout",
     "output_type": "stream",
     "text": [
      "New best\n"
     ]
    },
    {
     "name": "stdout",
     "output_type": "stream",
     "text": [
      "epoch: 3, [batch: 1 / 33600], examples_per_second: 0.9683, train_label_loss: 0.4848, \n"
     ]
    },
    {
     "name": "stdout",
     "output_type": "stream",
     "text": [
      "epoch: 3, [batch: 3360 / 33600], examples_per_second: 3204.7586, train_label_loss: 0.6919, \n"
     ]
    },
    {
     "name": "stdout",
     "output_type": "stream",
     "text": [
      "epoch: 3, [batch: 6720 / 33600], examples_per_second: 3228.0709, train_label_loss: 1.0498, \n"
     ]
    },
    {
     "name": "stdout",
     "output_type": "stream",
     "text": [
      "epoch: 3, [batch: 10080 / 33600], examples_per_second: 3218.3759, train_label_loss: 0.8957, \n"
     ]
    },
    {
     "name": "stdout",
     "output_type": "stream",
     "text": [
      "epoch: 3, [batch: 13440 / 33600], examples_per_second: 3210.1465, train_label_loss: 0.4483, \n"
     ]
    },
    {
     "name": "stdout",
     "output_type": "stream",
     "text": [
      "epoch: 3, [batch: 16800 / 33600], examples_per_second: 3222.4433, train_label_loss: 1.0506, \n"
     ]
    },
    {
     "name": "stdout",
     "output_type": "stream",
     "text": [
      "epoch: 3, [batch: 20160 / 33600], examples_per_second: 3226.7616, train_label_loss: 1.2622, \n"
     ]
    },
    {
     "name": "stdout",
     "output_type": "stream",
     "text": [
      "epoch: 3, [batch: 23520 / 33600], examples_per_second: 3222.4241, train_label_loss: 1.0166, \n"
     ]
    },
    {
     "name": "stdout",
     "output_type": "stream",
     "text": [
      "epoch: 3, [batch: 26880 / 33600], examples_per_second: 3228.9441, train_label_loss: 1.0502, \n"
     ]
    },
    {
     "name": "stdout",
     "output_type": "stream",
     "text": [
      "epoch: 3, [batch: 30240 / 33600], examples_per_second: 3220.1372, train_label_loss: 0.4398, \n"
     ]
    },
    {
     "name": "stdout",
     "output_type": "stream",
     "text": [
      "=============================================================\n",
      "epoch: 3, source_val_acc_label: 0.6843, target_val_acc_label: 0.6941, source_val_label_loss: 0.8523, target_val_label_loss: 0.8169, \n",
      "=============================================================\n"
     ]
    },
    {
     "name": "stdout",
     "output_type": "stream",
     "text": [
      "New best\n"
     ]
    },
    {
     "name": "stdout",
     "output_type": "stream",
     "text": [
      "epoch: 4, [batch: 1 / 33600], examples_per_second: 0.9658, train_label_loss: 0.8891, \n"
     ]
    },
    {
     "name": "stdout",
     "output_type": "stream",
     "text": [
      "epoch: 4, [batch: 3360 / 33600], examples_per_second: 3210.4329, train_label_loss: 0.5580, \n"
     ]
    },
    {
     "name": "stdout",
     "output_type": "stream",
     "text": [
      "epoch: 4, [batch: 6720 / 33600], examples_per_second: 3214.4018, train_label_loss: 1.2892, \n"
     ]
    },
    {
     "name": "stdout",
     "output_type": "stream",
     "text": [
      "epoch: 4, [batch: 10080 / 33600], examples_per_second: 3230.6941, train_label_loss: 0.7726, \n"
     ]
    },
    {
     "name": "stdout",
     "output_type": "stream",
     "text": [
      "epoch: 4, [batch: 13440 / 33600], examples_per_second: 3213.0585, train_label_loss: 0.5464, \n"
     ]
    },
    {
     "name": "stdout",
     "output_type": "stream",
     "text": [
      "epoch: 4, [batch: 16800 / 33600], examples_per_second: 3227.3397, train_label_loss: 0.8633, \n"
     ]
    },
    {
     "name": "stdout",
     "output_type": "stream",
     "text": [
      "epoch: 4, [batch: 20160 / 33600], examples_per_second: 3228.5479, train_label_loss: 0.4608, \n"
     ]
    },
    {
     "name": "stdout",
     "output_type": "stream",
     "text": [
      "epoch: 4, [batch: 23520 / 33600], examples_per_second: 3214.8025, train_label_loss: 0.4471, \n"
     ]
    },
    {
     "name": "stdout",
     "output_type": "stream",
     "text": [
      "epoch: 4, [batch: 26880 / 33600], examples_per_second: 3225.7306, train_label_loss: 0.9308, \n"
     ]
    },
    {
     "name": "stdout",
     "output_type": "stream",
     "text": [
      "epoch: 4, [batch: 30240 / 33600], examples_per_second: 3231.0573, train_label_loss: 0.4749, \n"
     ]
    },
    {
     "name": "stdout",
     "output_type": "stream",
     "text": [
      "=============================================================\n",
      "epoch: 4, source_val_acc_label: 0.7108, target_val_acc_label: 0.7157, source_val_label_loss: 0.8030, target_val_label_loss: 0.7723, \n",
      "=============================================================\n"
     ]
    },
    {
     "name": "stdout",
     "output_type": "stream",
     "text": [
      "New best\n"
     ]
    },
    {
     "name": "stdout",
     "output_type": "stream",
     "text": [
      "epoch: 5, [batch: 1 / 33600], examples_per_second: 0.9682, train_label_loss: 1.1910, \n"
     ]
    },
    {
     "name": "stdout",
     "output_type": "stream",
     "text": [
      "epoch: 5, [batch: 3360 / 33600], examples_per_second: 3200.0884, train_label_loss: 1.2160, \n"
     ]
    },
    {
     "name": "stdout",
     "output_type": "stream",
     "text": [
      "epoch: 5, [batch: 6720 / 33600], examples_per_second: 3223.5167, train_label_loss: 0.4822, \n"
     ]
    },
    {
     "name": "stdout",
     "output_type": "stream",
     "text": [
      "epoch: 5, [batch: 10080 / 33600], examples_per_second: 3227.3665, train_label_loss: 0.6459, \n"
     ]
    },
    {
     "name": "stdout",
     "output_type": "stream",
     "text": [
      "epoch: 5, [batch: 13440 / 33600], examples_per_second: 3206.4777, train_label_loss: 0.8935, \n"
     ]
    },
    {
     "name": "stdout",
     "output_type": "stream",
     "text": [
      "epoch: 5, [batch: 16800 / 33600], examples_per_second: 3228.8344, train_label_loss: 0.6240, \n"
     ]
    },
    {
     "name": "stdout",
     "output_type": "stream",
     "text": [
      "epoch: 5, [batch: 20160 / 33600], examples_per_second: 3229.3372, train_label_loss: 0.9398, \n"
     ]
    },
    {
     "name": "stdout",
     "output_type": "stream",
     "text": [
      "epoch: 5, [batch: 23520 / 33600], examples_per_second: 3216.3373, train_label_loss: 0.6789, \n"
     ]
    },
    {
     "name": "stdout",
     "output_type": "stream",
     "text": [
      "epoch: 5, [batch: 26880 / 33600], examples_per_second: 3223.8003, train_label_loss: 0.3720, \n"
     ]
    },
    {
     "name": "stdout",
     "output_type": "stream",
     "text": [
      "epoch: 5, [batch: 30240 / 33600], examples_per_second: 3225.4181, train_label_loss: 0.7540, \n"
     ]
    },
    {
     "name": "stdout",
     "output_type": "stream",
     "text": [
      "=============================================================\n",
      "epoch: 5, source_val_acc_label: 0.7234, target_val_acc_label: 0.7281, source_val_label_loss: 0.7782, target_val_label_loss: 0.7503, \n",
      "=============================================================\n"
     ]
    },
    {
     "name": "stdout",
     "output_type": "stream",
     "text": [
      "New best\n"
     ]
    },
    {
     "name": "stdout",
     "output_type": "stream",
     "text": [
      "epoch: 6, [batch: 1 / 33600], examples_per_second: 0.9667, train_label_loss: 0.3714, \n"
     ]
    },
    {
     "name": "stdout",
     "output_type": "stream",
     "text": [
      "epoch: 6, [batch: 3360 / 33600], examples_per_second: 3204.3996, train_label_loss: 0.9634, \n"
     ]
    },
    {
     "name": "stdout",
     "output_type": "stream",
     "text": [
      "epoch: 6, [batch: 6720 / 33600], examples_per_second: 3221.5774, train_label_loss: 0.3343, \n"
     ]
    },
    {
     "name": "stdout",
     "output_type": "stream",
     "text": [
      "epoch: 6, [batch: 10080 / 33600], examples_per_second: 3223.9428, train_label_loss: 0.2295, \n"
     ]
    },
    {
     "name": "stdout",
     "output_type": "stream",
     "text": [
      "epoch: 6, [batch: 13440 / 33600], examples_per_second: 3212.0400, train_label_loss: 0.5491, \n"
     ]
    },
    {
     "name": "stdout",
     "output_type": "stream",
     "text": [
      "epoch: 6, [batch: 16800 / 33600], examples_per_second: 3229.8389, train_label_loss: 0.4390, \n"
     ]
    },
    {
     "name": "stdout",
     "output_type": "stream",
     "text": [
      "epoch: 6, [batch: 20160 / 33600], examples_per_second: 3228.9372, train_label_loss: 0.7742, \n"
     ]
    },
    {
     "name": "stdout",
     "output_type": "stream",
     "text": [
      "epoch: 6, [batch: 23520 / 33600], examples_per_second: 3220.7499, train_label_loss: 0.4374, \n"
     ]
    },
    {
     "name": "stdout",
     "output_type": "stream",
     "text": [
      "epoch: 6, [batch: 26880 / 33600], examples_per_second: 3226.6136, train_label_loss: 0.4494, \n"
     ]
    },
    {
     "name": "stdout",
     "output_type": "stream",
     "text": [
      "epoch: 6, [batch: 30240 / 33600], examples_per_second: 3226.6039, train_label_loss: 0.5158, \n"
     ]
    },
    {
     "name": "stdout",
     "output_type": "stream",
     "text": [
      "=============================================================\n",
      "epoch: 6, source_val_acc_label: 0.7291, target_val_acc_label: 0.7314, source_val_label_loss: 0.7690, target_val_label_loss: 0.7452, \n",
      "=============================================================\n"
     ]
    },
    {
     "name": "stdout",
     "output_type": "stream",
     "text": [
      "New best\n"
     ]
    },
    {
     "name": "stdout",
     "output_type": "stream",
     "text": [
      "epoch: 7, [batch: 1 / 33600], examples_per_second: 0.9657, train_label_loss: 0.2089, \n"
     ]
    },
    {
     "name": "stdout",
     "output_type": "stream",
     "text": [
      "epoch: 7, [batch: 3360 / 33600], examples_per_second: 3208.5741, train_label_loss: 0.6942, \n"
     ]
    },
    {
     "name": "stdout",
     "output_type": "stream",
     "text": [
      "epoch: 7, [batch: 6720 / 33600], examples_per_second: 3223.3800, train_label_loss: 0.5397, \n"
     ]
    },
    {
     "name": "stdout",
     "output_type": "stream",
     "text": [
      "epoch: 7, [batch: 10080 / 33600], examples_per_second: 3212.4409, train_label_loss: 1.1027, \n"
     ]
    },
    {
     "name": "stdout",
     "output_type": "stream",
     "text": [
      "epoch: 7, [batch: 13440 / 33600], examples_per_second: 3211.1452, train_label_loss: 0.1982, \n"
     ]
    },
    {
     "name": "stdout",
     "output_type": "stream",
     "text": [
      "epoch: 7, [batch: 16800 / 33600], examples_per_second: 3224.9803, train_label_loss: 0.4229, \n"
     ]
    },
    {
     "name": "stdout",
     "output_type": "stream",
     "text": [
      "epoch: 7, [batch: 20160 / 33600], examples_per_second: 3224.5300, train_label_loss: 0.5970, \n"
     ]
    },
    {
     "name": "stdout",
     "output_type": "stream",
     "text": [
      "epoch: 7, [batch: 23520 / 33600], examples_per_second: 3214.7529, train_label_loss: 0.3490, \n"
     ]
    },
    {
     "name": "stdout",
     "output_type": "stream",
     "text": [
      "epoch: 7, [batch: 26880 / 33600], examples_per_second: 3226.9062, train_label_loss: 0.4154, \n"
     ]
    },
    {
     "name": "stdout",
     "output_type": "stream",
     "text": [
      "epoch: 7, [batch: 30240 / 33600], examples_per_second: 3227.0673, train_label_loss: 0.4381, \n"
     ]
    },
    {
     "name": "stdout",
     "output_type": "stream",
     "text": [
      "=============================================================\n",
      "epoch: 7, source_val_acc_label: 0.7275, target_val_acc_label: 0.7301, source_val_label_loss: 0.7647, target_val_label_loss: 0.7432, \n",
      "=============================================================\n"
     ]
    },
    {
     "name": "stdout",
     "output_type": "stream",
     "text": [
      "epoch: 8, [batch: 1 / 33600], examples_per_second: 0.9685, train_label_loss: 0.5072, \n"
     ]
    },
    {
     "name": "stdout",
     "output_type": "stream",
     "text": [
      "epoch: 8, [batch: 3360 / 33600], examples_per_second: 3207.1169, train_label_loss: 0.3509, \n"
     ]
    },
    {
     "name": "stdout",
     "output_type": "stream",
     "text": [
      "epoch: 8, [batch: 6720 / 33600], examples_per_second: 3225.2340, train_label_loss: 0.5753, \n"
     ]
    },
    {
     "name": "stdout",
     "output_type": "stream",
     "text": [
      "epoch: 8, [batch: 10080 / 33600], examples_per_second: 3229.0833, train_label_loss: 0.6257, \n"
     ]
    },
    {
     "name": "stdout",
     "output_type": "stream",
     "text": [
      "epoch: 8, [batch: 13440 / 33600], examples_per_second: 3209.1031, train_label_loss: 0.4853, \n"
     ]
    },
    {
     "name": "stdout",
     "output_type": "stream",
     "text": [
      "epoch: 8, [batch: 16800 / 33600], examples_per_second: 3229.2854, train_label_loss: 0.2525, \n"
     ]
    },
    {
     "name": "stdout",
     "output_type": "stream",
     "text": [
      "epoch: 8, [batch: 20160 / 33600], examples_per_second: 3234.0595, train_label_loss: 0.1946, \n"
     ]
    },
    {
     "name": "stdout",
     "output_type": "stream",
     "text": [
      "epoch: 8, [batch: 23520 / 33600], examples_per_second: 3215.5319, train_label_loss: 0.5306, \n"
     ]
    },
    {
     "name": "stdout",
     "output_type": "stream",
     "text": [
      "epoch: 8, [batch: 26880 / 33600], examples_per_second: 3226.5393, train_label_loss: 0.4591, \n"
     ]
    },
    {
     "name": "stdout",
     "output_type": "stream",
     "text": [
      "epoch: 8, [batch: 30240 / 33600], examples_per_second: 3230.5677, train_label_loss: 0.4206, \n"
     ]
    },
    {
     "name": "stdout",
     "output_type": "stream",
     "text": [
      "=============================================================\n",
      "epoch: 8, source_val_acc_label: 0.7280, target_val_acc_label: 0.7307, source_val_label_loss: 0.7799, target_val_label_loss: 0.7586, \n",
      "=============================================================\n"
     ]
    },
    {
     "name": "stdout",
     "output_type": "stream",
     "text": [
      "epoch: 9, [batch: 1 / 33600], examples_per_second: 0.9652, train_label_loss: 0.6408, \n"
     ]
    },
    {
     "name": "stdout",
     "output_type": "stream",
     "text": [
      "epoch: 9, [batch: 3360 / 33600], examples_per_second: 3197.3685, train_label_loss: 0.3150, \n"
     ]
    },
    {
     "name": "stdout",
     "output_type": "stream",
     "text": [
      "epoch: 9, [batch: 6720 / 33600], examples_per_second: 3213.2477, train_label_loss: 0.4697, \n"
     ]
    },
    {
     "name": "stdout",
     "output_type": "stream",
     "text": [
      "epoch: 9, [batch: 10080 / 33600], examples_per_second: 3231.6688, train_label_loss: 0.1656, \n"
     ]
    },
    {
     "name": "stdout",
     "output_type": "stream",
     "text": [
      "epoch: 9, [batch: 13440 / 33600], examples_per_second: 3209.1675, train_label_loss: 0.5082, \n"
     ]
    },
    {
     "name": "stdout",
     "output_type": "stream",
     "text": [
      "epoch: 9, [batch: 16800 / 33600], examples_per_second: 3224.8589, train_label_loss: 0.9303, \n"
     ]
    },
    {
     "name": "stdout",
     "output_type": "stream",
     "text": [
      "epoch: 9, [batch: 20160 / 33600], examples_per_second: 3232.1841, train_label_loss: 0.4305, \n"
     ]
    },
    {
     "name": "stdout",
     "output_type": "stream",
     "text": [
      "epoch: 9, [batch: 23520 / 33600], examples_per_second: 3213.3381, train_label_loss: 0.4006, \n"
     ]
    },
    {
     "name": "stdout",
     "output_type": "stream",
     "text": [
      "epoch: 9, [batch: 26880 / 33600], examples_per_second: 3229.5852, train_label_loss: 0.3423, \n"
     ]
    },
    {
     "name": "stdout",
     "output_type": "stream",
     "text": [
      "epoch: 9, [batch: 30240 / 33600], examples_per_second: 3223.7056, train_label_loss: 0.1501, \n"
     ]
    },
    {
     "name": "stdout",
     "output_type": "stream",
     "text": [
      "=============================================================\n",
      "epoch: 9, source_val_acc_label: 0.7288, target_val_acc_label: 0.7312, source_val_label_loss: 0.7989, target_val_label_loss: 0.7784, \n",
      "=============================================================\n"
     ]
    },
    {
     "name": "stdout",
     "output_type": "stream",
     "text": [
      "epoch: 10, [batch: 1 / 33600], examples_per_second: 0.9632, train_label_loss: 0.1501, \n"
     ]
    },
    {
     "name": "stdout",
     "output_type": "stream",
     "text": [
      "epoch: 10, [batch: 3360 / 33600], examples_per_second: 3211.0554, train_label_loss: 0.2845, \n"
     ]
    },
    {
     "name": "stdout",
     "output_type": "stream",
     "text": [
      "epoch: 10, [batch: 6720 / 33600], examples_per_second: 3224.5449, train_label_loss: 0.3254, \n"
     ]
    },
    {
     "name": "stdout",
     "output_type": "stream",
     "text": [
      "epoch: 10, [batch: 10080 / 33600], examples_per_second: 3224.0665, train_label_loss: 0.5572, \n"
     ]
    },
    {
     "name": "stdout",
     "output_type": "stream",
     "text": [
      "epoch: 10, [batch: 13440 / 33600], examples_per_second: 3210.4053, train_label_loss: 0.3117, \n"
     ]
    },
    {
     "name": "stdout",
     "output_type": "stream",
     "text": [
      "epoch: 10, [batch: 16800 / 33600], examples_per_second: 3224.6675, train_label_loss: 0.1846, \n"
     ]
    },
    {
     "name": "stdout",
     "output_type": "stream",
     "text": [
      "epoch: 10, [batch: 20160 / 33600], examples_per_second: 3226.0437, train_label_loss: 0.5560, \n"
     ]
    },
    {
     "name": "stdout",
     "output_type": "stream",
     "text": [
      "epoch: 10, [batch: 23520 / 33600], examples_per_second: 3210.2420, train_label_loss: 0.1984, \n"
     ]
    },
    {
     "name": "stdout",
     "output_type": "stream",
     "text": [
      "epoch: 10, [batch: 26880 / 33600], examples_per_second: 3221.1887, train_label_loss: 0.4201, \n"
     ]
    },
    {
     "name": "stdout",
     "output_type": "stream",
     "text": [
      "epoch: 10, [batch: 30240 / 33600], examples_per_second: 3228.1969, train_label_loss: 0.3993, \n"
     ]
    },
    {
     "name": "stdout",
     "output_type": "stream",
     "text": [
      "=============================================================\n",
      "epoch: 10, source_val_acc_label: 0.7238, target_val_acc_label: 0.7273, source_val_label_loss: 0.8128, target_val_label_loss: 0.7942, \n",
      "=============================================================\n"
     ]
    },
    {
     "name": "stdout",
     "output_type": "stream",
     "text": [
      "Patience (3) exhausted\n"
     ]
    }
   ],
   "source": [
    "###################################\n",
    "# train\n",
    "###################################\n",
    "jig = PTN_Train_Eval_Test_Jig(model, p.BEST_MODEL_PATH, p.device)\n",
    "\n",
    "jig.train(\n",
    "    train_iterable=datasets.source.processed.train,\n",
    "    source_val_iterable=datasets.source.processed.val,\n",
    "    target_val_iterable=datasets.target.processed.val,\n",
    "    num_epochs=p.n_epoch,\n",
    "    num_logs_per_epoch=p.NUM_LOGS_PER_EPOCH,\n",
    "    patience=p.patience,\n",
    "    optimizer=optimizer,\n",
    "    criteria_for_best=p.criteria_for_best,\n",
    ")"
   ]
  },
  {
   "cell_type": "code",
   "execution_count": 23,
   "id": "31e8fabf",
   "metadata": {
    "execution": {
     "iopub.execute_input": "2022-03-23T15:18:46.374375Z",
     "iopub.status.busy": "2022-03-23T15:18:46.374007Z",
     "iopub.status.idle": "2022-03-23T15:18:46.385537Z",
     "shell.execute_reply": "2022-03-23T15:18:46.385303Z"
    },
    "papermill": {
     "duration": 0.055127,
     "end_time": "2022-03-23T15:18:46.385599",
     "exception": false,
     "start_time": "2022-03-23T15:18:46.330472",
     "status": "completed"
    },
    "tags": []
   },
   "outputs": [],
   "source": [
    "total_experiment_time_secs = time.time() - start_time_secs"
   ]
  },
  {
   "cell_type": "code",
   "execution_count": 24,
   "id": "87b9595b",
   "metadata": {
    "execution": {
     "iopub.execute_input": "2022-03-23T15:18:46.464145Z",
     "iopub.status.busy": "2022-03-23T15:18:46.462825Z",
     "iopub.status.idle": "2022-03-23T15:26:55.539582Z",
     "shell.execute_reply": "2022-03-23T15:26:55.539116Z"
    },
    "papermill": {
     "duration": 489.119306,
     "end_time": "2022-03-23T15:26:55.539692",
     "exception": false,
     "start_time": "2022-03-23T15:18:46.420386",
     "status": "completed"
    },
    "tags": []
   },
   "outputs": [],
   "source": [
    "###################################\n",
    "# Evaluate the model\n",
    "###################################\n",
    "source_test_label_accuracy, source_test_label_loss = jig.test(datasets.source.processed.test)\n",
    "target_test_label_accuracy, target_test_label_loss = jig.test(datasets.target.processed.test)\n",
    "\n",
    "source_val_label_accuracy, source_val_label_loss = jig.test(datasets.source.processed.val)\n",
    "target_val_label_accuracy, target_val_label_loss = jig.test(datasets.target.processed.val)\n",
    "\n",
    "history = jig.get_history()\n",
    "\n",
    "total_epochs_trained = len(history[\"epoch_indices\"])\n",
    "\n",
    "val_dl = Iterable_Aggregator((datasets.source.original.val,datasets.target.original.val))\n",
    "\n",
    "confusion = ptn_confusion_by_domain_over_dataloader(model, p.device, val_dl)\n",
    "per_domain_accuracy = per_domain_accuracy_from_confusion(confusion)\n",
    "\n",
    "# Add a key to per_domain_accuracy for if it was a source domain\n",
    "for domain, accuracy in per_domain_accuracy.items():\n",
    "    per_domain_accuracy[domain] = {\n",
    "        \"accuracy\": accuracy,\n",
    "        \"source?\": domain in p.domains_source\n",
    "    }\n",
    "\n",
    "# Do an independent accuracy assesment JUST TO BE SURE!\n",
    "# _source_test_label_accuracy = independent_accuracy_assesment(model, datasets.source.processed.test, p.device)\n",
    "# _target_test_label_accuracy = independent_accuracy_assesment(model, datasets.target.processed.test, p.device)\n",
    "# _source_val_label_accuracy = independent_accuracy_assesment(model, datasets.source.processed.val, p.device)\n",
    "# _target_val_label_accuracy = independent_accuracy_assesment(model, datasets.target.processed.val, p.device)\n",
    "\n",
    "# assert(_source_test_label_accuracy == source_test_label_accuracy)\n",
    "# assert(_target_test_label_accuracy == target_test_label_accuracy)\n",
    "# assert(_source_val_label_accuracy == source_val_label_accuracy)\n",
    "# assert(_target_val_label_accuracy == target_val_label_accuracy)\n",
    "\n",
    "experiment = {\n",
    "    \"experiment_name\": p.experiment_name,\n",
    "    \"parameters\": dict(p),\n",
    "    \"results\": {\n",
    "        \"source_test_label_accuracy\": source_test_label_accuracy,\n",
    "        \"source_test_label_loss\": source_test_label_loss,\n",
    "        \"target_test_label_accuracy\": target_test_label_accuracy,\n",
    "        \"target_test_label_loss\": target_test_label_loss,\n",
    "        \"source_val_label_accuracy\": source_val_label_accuracy,\n",
    "        \"source_val_label_loss\": source_val_label_loss,\n",
    "        \"target_val_label_accuracy\": target_val_label_accuracy,\n",
    "        \"target_val_label_loss\": target_val_label_loss,\n",
    "        \"total_epochs_trained\": total_epochs_trained,\n",
    "        \"total_experiment_time_secs\": total_experiment_time_secs,\n",
    "        \"confusion\": confusion,\n",
    "        \"per_domain_accuracy\": per_domain_accuracy,\n",
    "    },\n",
    "    \"history\": history,\n",
    "    \"dataset_metrics\": get_dataset_metrics(datasets, \"ptn\"),\n",
    "}"
   ]
  },
  {
   "cell_type": "code",
   "execution_count": 25,
   "id": "54a21829",
   "metadata": {
    "execution": {
     "iopub.execute_input": "2022-03-23T15:26:55.615334Z",
     "iopub.status.busy": "2022-03-23T15:26:55.614514Z",
     "iopub.status.idle": "2022-03-23T15:26:55.749165Z",
     "shell.execute_reply": "2022-03-23T15:26:55.749553Z"
    },
    "papermill": {
     "duration": 0.171785,
     "end_time": "2022-03-23T15:26:55.749678",
     "exception": false,
     "start_time": "2022-03-23T15:26:55.577893",
     "status": "completed"
    },
    "tags": []
   },
   "outputs": [
    {
     "data": {
      "image/png": "[encoded data removed]",
      "text/plain": [
       "<Figure size 1080x504 with 1 Axes>"
      ]
     },
     "metadata": {
      "needs_background": "light"
     },
     "output_type": "display_data"
    }
   ],
   "source": [
    "ax = get_loss_curve(experiment)\n",
    "plt.show()"
   ]
  },
  {
   "cell_type": "code",
   "execution_count": 26,
   "id": "fd8a0f60",
   "metadata": {
    "execution": {
     "iopub.execute_input": "2022-03-23T15:26:55.834689Z",
     "iopub.status.busy": "2022-03-23T15:26:55.829420Z",
     "iopub.status.idle": "2022-03-23T15:26:55.970816Z",
     "shell.execute_reply": "2022-03-23T15:26:55.970578Z"
    },
    "papermill": {
     "duration": 0.180816,
     "end_time": "2022-03-23T15:26:55.970877",
     "exception": false,
     "start_time": "2022-03-23T15:26:55.790061",
     "status": "completed"
    },
    "tags": []
   },
   "outputs": [
    {
     "data": {
      "text/plain": [
       "<AxesSubplot:title={'center':'Results'}>"
      ]
     },
     "execution_count": 26,
     "metadata": {},
     "output_type": "execute_result"
    },
    {
     "data": {
      "image/png": "[encoded data removed]",
      "text/plain": [
       "<Figure size 1080x504 with 1 Axes>"
      ]
     },
     "metadata": {
      "needs_background": "light"
     },
     "output_type": "display_data"
    }
   ],
   "source": [
    "get_results_table(experiment)"
   ]
  },
  {
   "cell_type": "code",
   "execution_count": 27,
   "id": "cf8dc689",
   "metadata": {
    "execution": {
     "iopub.execute_input": "2022-03-23T15:26:56.049743Z",
     "iopub.status.busy": "2022-03-23T15:26:56.049155Z",
     "iopub.status.idle": "2022-03-23T15:26:56.207226Z",
     "shell.execute_reply": "2022-03-23T15:26:56.206766Z"
    },
    "papermill": {
     "duration": 0.196153,
     "end_time": "2022-03-23T15:26:56.207325",
     "exception": false,
     "start_time": "2022-03-23T15:26:56.011172",
     "status": "completed"
    },
    "tags": []
   },
   "outputs": [
    {
     "data": {
      "text/plain": [
       "<AxesSubplot:title={'center':'Per Domain Validation Accuracy'}, xlabel='domain'>"
      ]
     },
     "execution_count": 27,
     "metadata": {},
     "output_type": "execute_result"
    },
    {
     "data": {
      "image/png": "[encoded data removed]",
      "text/plain": [
       "<Figure size 1080x504 with 1 Axes>"
      ]
     },
     "metadata": {
      "needs_background": "light"
     },
     "output_type": "display_data"
    }
   ],
   "source": [
    "get_domain_accuracies(experiment)"
   ]
  },
  {
   "cell_type": "code",
   "execution_count": 28,
   "id": "a74ae082",
   "metadata": {
    "execution": {
     "iopub.execute_input": "2022-03-23T15:26:56.287703Z",
     "iopub.status.busy": "2022-03-23T15:26:56.287442Z",
     "iopub.status.idle": "2022-03-23T15:26:56.303344Z",
     "shell.execute_reply": "2022-03-23T15:26:56.302950Z"
    },
    "papermill": {
     "duration": 0.056199,
     "end_time": "2022-03-23T15:26:56.303434",
     "exception": false,
     "start_time": "2022-03-23T15:26:56.247235",
     "status": "completed"
    },
    "tags": []
   },
   "outputs": [
    {
     "name": "stdout",
     "output_type": "stream",
     "text": [
      "Source Test Label Accuracy: 0.7280078125 Target Test Label Accuracy: 0.7324934895833334\n",
      "Source Val Label Accuracy: 0.7291471354166666 Target Val Label Accuracy: 0.7313997395833334\n"
     ]
    }
   ],
   "source": [
    "print(\"Source Test Label Accuracy:\", experiment[\"results\"][\"source_test_label_accuracy\"], \"Target Test Label Accuracy:\", experiment[\"results\"][\"target_test_label_accuracy\"])\n",
    "print(\"Source Val Label Accuracy:\", experiment[\"results\"][\"source_val_label_accuracy\"], \"Target Val Label Accuracy:\", experiment[\"results\"][\"target_val_label_accuracy\"])"
   ]
  },
  {
   "cell_type": "code",
   "execution_count": 29,
   "id": "dacca602",
   "metadata": {
    "execution": {
     "iopub.execute_input": "2022-03-23T15:26:56.388932Z",
     "iopub.status.busy": "2022-03-23T15:26:56.388680Z",
     "iopub.status.idle": "2022-03-23T15:26:56.405814Z",
     "shell.execute_reply": "2022-03-23T15:26:56.405360Z"
    },
    "papermill": {
     "duration": 0.057965,
     "end_time": "2022-03-23T15:26:56.405907",
     "exception": false,
     "start_time": "2022-03-23T15:26:56.347942",
     "status": "completed"
    },
    "tags": [
     "experiment_json"
    ]
   },
   "outputs": [
    {
     "data": {
      "text/plain": [
       "'{\"experiment_name\": \"tl_1v2:oracle.run1-oracle.run2\", \"parameters\": {\"experiment_name\": \"tl_1v2:oracle.run1-oracle.run2\", \"device\": \"cuda\", \"lr\": 0.0001, \"n_shot\": 3, \"n_query\": 2, \"train_k_factor\": 3, \"val_k_factor\": 2, \"test_k_factor\": 2, \"torch_default_dtype\": \"torch.float32\", \"n_epoch\": 50, \"patience\": 3, \"criteria_for_best\": \"target_accuracy\", \"x_net\": [{\"class\": \"nnReshape\", \"kargs\": {\"shape\": [-1, 1, 2, 256]}}, {\"class\": \"Conv2d\", \"kargs\": {\"in_channels\": 1, \"out_channels\": 256, \"kernel_size\": [1, 7], \"bias\": false, \"padding\": [0, 3]}}, {\"class\": \"ReLU\", \"kargs\": {\"inplace\": true}}, {\"class\": \"BatchNorm2d\", \"kargs\": {\"num_features\": 256}}, {\"class\": \"Conv2d\", \"kargs\": {\"in_channels\": 256, \"out_channels\": 80, \"kernel_size\": [2, 7], \"bias\": true, \"padding\": [0, 3]}}, {\"class\": \"ReLU\", \"kargs\": {\"inplace\": true}}, {\"class\": \"BatchNorm2d\", \"kargs\": {\"num_features\": 80}}, {\"class\": \"Flatten\", \"kargs\": {}}, {\"class\": \"Linear\", \"kargs\": {\"in_features\": 20480, \"out_features\": 256}}, {\"class\": \"ReLU\", \"kargs\": {\"inplace\": true}}, {\"class\": \"BatchNorm1d\", \"kargs\": {\"num_features\": 256}}, {\"class\": \"Linear\", \"kargs\": {\"in_features\": 256, \"out_features\": 256}}], \"NUM_LOGS_PER_EPOCH\": 10, \"BEST_MODEL_PATH\": \"./best_model.pth\", \"n_way\": 16, \"datasets\": [{\"labels\": [\"3123D52\", \"3123D65\", \"3123D79\", \"3123D80\", \"3123D54\", \"3123D70\", \"3123D7B\", \"3123D89\", \"3123D58\", \"3123D76\", \"3123D7D\", \"3123EFE\", \"3123D64\", \"3123D78\", \"3123D7E\", \"3124E4A\"], \"domains\": [32, 38, 8, 44, 14, 50, 20, 26], \"num_examples_per_domain_per_label\": 10000, \"pickle_path\": \"/mnt/wd500GB/CSC500/csc500-main/datasets/oracle.Run1_10kExamples_stratified_ds.2022A.pkl\", \"source_or_target_dataset\": \"target\", \"x_transforms\": [\"unit_power\"], \"episode_transforms\": [], \"domain_prefix\": \"ORACLE.run1_\"}, {\"labels\": [\"3123D52\", \"3123D65\", \"3123D79\", \"3123D80\", \"3123D54\", \"3123D70\", \"3123D7B\", \"3123D89\", \"3123D58\", \"3123D76\", \"3123D7D\", \"3123EFE\", \"3123D64\", \"3123D78\", \"3123D7E\", \"3124E4A\"], \"domains\": [32, 38, 8, 44, 14, 50, 20, 26], \"num_examples_per_domain_per_label\": 10000, \"pickle_path\": \"/mnt/wd500GB/CSC500/csc500-main/datasets/oracle.Run2_10kExamples_stratified_ds.2022A.pkl\", \"source_or_target_dataset\": \"source\", \"x_transforms\": [\"unit_power\"], \"episode_transforms\": [], \"domain_prefix\": \"ORACLE.run2_\"}], \"dataset_seed\": 1337, \"seed\": 1337, \"x_shape\": [2, 256], \"domains_source\": [\"ORACLE.run2_32\", \"ORACLE.run2_38\", \"ORACLE.run2_8\", \"ORACLE.run2_44\", \"ORACLE.run2_14\", \"ORACLE.run2_50\", \"ORACLE.run2_20\", \"ORACLE.run2_26\"], \"domains_target\": [\"ORACLE.run1_32\", \"ORACLE.run1_38\", \"ORACLE.run1_8\", \"ORACLE.run1_44\", \"ORACLE.run1_14\", \"ORACLE.run1_50\", \"ORACLE.run1_20\", \"ORACLE.run1_26\"]}, \"results\": {\"source_test_label_accuracy\": 0.7280078125, \"source_test_label_loss\": 0.7651098966598511, \"target_test_label_accuracy\": 0.7324934895833334, \"target_test_label_loss\": 0.7428025603294373, \"source_val_label_accuracy\": 0.7291471354166666, \"source_val_label_loss\": 0.7690249085426331, \"target_val_label_accuracy\": 0.7313997395833334, \"target_val_label_loss\": 0.7451847791671753, \"total_epochs_trained\": 10, \"total_experiment_time_secs\": 9357.723325490952, \"confusion\": {\"ORACLE.run2_14\": {\"15\": {\"15\": 1194, \"7\": 6}, \"3\": {\"5\": 51, \"3\": 1026, \"14\": 20, \"4\": 68, \"2\": 33, \"1\": 1, \"0\": 1}, \"6\": {\"6\": 866, \"13\": 256, \"2\": 28, \"14\": 49, \"4\": 1}, \"1\": {\"1\": 1093, \"5\": 83, \"4\": 23, \"2\": 1}, \"8\": {\"8\": 1200}, \"10\": {\"10\": 1142, \"0\": 55, \"11\": 2, \"14\": 1}, \"9\": {\"9\": 1197, \"12\": 3}, \"13\": {\"13\": 900, \"6\": 276, \"15\": 1, \"2\": 19, \"4\": 2, \"14\": 2}, \"12\": {\"12\": 640, \"11\": 309, \"9\": 136, \"10\": 15, \"0\": 74, \"8\": 25, \"3\": 1}, \"5\": {\"5\": 634, \"4\": 328, \"1\": 109, \"3\": 67, \"2\": 62}, \"0\": {\"0\": 1190, \"10\": 4, \"3\": 5, \"14\": 1}, \"2\": {\"2\": 547, \"14\": 186, \"13\": 85, \"3\": 94, \"5\": 156, \"15\": 7, \"1\": 3, \"4\": 83, \"6\": 38, \"7\": 1}, \"11\": {\"11\": 1179, \"12\": 19, \"10\": 1, \"9\": 1}, \"14\": {\"14\": 920, \"6\": 82, \"2\": 140, \"5\": 6, \"4\": 5, \"3\": 38, \"13\": 5, \"0\": 4}, \"7\": {\"7\": 1198, \"15\": 2}, \"4\": {\"4\": 793, \"5\": 290, \"2\": 33, \"1\": 21, \"3\": 60, \"14\": 2, \"6\": 1}}, \"ORACLE.run2_20\": {\"3\": {\"9\": 108, \"5\": 148, \"2\": 198, \"3\": 505, \"12\": 44, \"7\": 149, \"8\": 13, \"10\": 6, \"4\": 12, \"1\": 1, \"13\": 1, \"15\": 13, \"0\": 2}, \"15\": {\"2\": 63, \"13\": 287, \"9\": 48, \"5\": 59, \"15\": 535, \"1\": 98, \"12\": 72, \"0\": 35, \"3\": 3}, \"8\": {\"14\": 142, \"8\": 816, \"4\": 41, \"7\": 113, \"3\": 16, \"6\": 31, \"5\": 8, \"10\": 33}, \"4\": {\"4\": 1094, \"3\": 12, \"12\": 29, \"5\": 25, \"0\": 13, \"8\": 12, \"10\": 10, \"7\": 1, \"2\": 1, \"14\": 1, \"15\": 1, \"1\": 1}, \"14\": {\"14\": 894, \"10\": 62, \"6\": 91, \"8\": 152, \"7\": 1}, \"0\": {\"15\": 63, \"12\": 58, \"0\": 851, \"1\": 86, \"5\": 97, \"4\": 29, \"3\": 2, \"13\": 12, \"9\": 1, \"2\": 1}, \"7\": {\"7\": 949, \"5\": 27, \"8\": 88, \"3\": 116, \"10\": 11, \"9\": 3, \"6\": 5, \"2\": 1}, \"6\": {\"6\": 1094, \"10\": 19, \"14\": 65, \"8\": 17, \"7\": 5}, \"10\": {\"10\": 1046, \"14\": 70, \"8\": 46, \"4\": 13, \"6\": 14, \"7\": 8, \"3\": 3}, \"5\": {\"3\": 165, \"5\": 469, \"0\": 103, \"12\": 102, \"4\": 27, \"2\": 155, \"9\": 43, \"15\": 82, \"1\": 17, \"7\": 29, \"13\": 7, \"8\": 1}, \"2\": {\"9\": 274, \"5\": 151, \"2\": 438, \"15\": 79, \"3\": 162, \"1\": 13, \"0\": 2, \"13\": 17, \"7\": 8, \"12\": 55, \"4\": 1}, \"12\": {\"12\": 492, \"3\": 27, \"2\": 61, \"5\": 94, \"1\": 232, \"0\": 67, \"9\": 126, \"15\": 69, \"4\": 30, \"13\": 2}, \"9\": {\"2\": 295, \"9\": 520, \"1\": 38, \"3\": 100, \"5\": 55, \"12\": 127, \"4\": 2, \"15\": 55, \"13\": 7, \"0\": 1}, \"1\": {\"1\": 693, \"12\": 244, \"15\": 89, \"9\": 47, \"0\": 87, \"5\": 9, \"2\": 13, \"13\": 11, \"3\": 2, \"4\": 5}, \"11\": {\"11\": 1197, \"13\": 3}, \"13\": {\"9\": 10, \"13\": 861, \"15\": 288, \"2\": 18, \"1\": 5, \"5\": 11, \"0\": 5, \"12\": 2}}, \"ORACLE.run2_38\": {\"5\": {\"10\": 9, \"15\": 130, \"5\": 502, \"8\": 399, \"7\": 127, \"1\": 1, \"13\": 30, \"3\": 2}, \"8\": {\"8\": 478, \"13\": 63, \"5\": 368, \"15\": 193, \"7\": 76, \"10\": 14, \"3\": 7, \"1\": 1}, \"11\": {\"14\": 56, \"11\": 1125, \"2\": 10, \"4\": 3, \"12\": 6}, \"1\": {\"1\": 1135, \"8\": 4, \"15\": 54, \"13\": 5, \"5\": 2}, \"10\": {\"10\": 702, \"8\": 35, \"7\": 348, \"15\": 2, \"3\": 31, \"13\": 42, \"5\": 25, \"0\": 12, \"4\": 3}, \"15\": {\"15\": 662, \"1\": 120, \"8\": 206, \"5\": 172, \"0\": 11, \"7\": 14, \"6\": 11, \"13\": 4}, \"3\": {\"0\": 221, \"13\": 164, \"3\": 565, \"10\": 60, \"8\": 67, \"9\": 48, \"7\": 28, \"15\": 14, \"5\": 21, \"1\": 1, \"6\": 11}, \"7\": {\"10\": 300, \"7\": 598, \"5\": 130, \"8\": 132, \"3\": 10, \"13\": 21, \"0\": 5, \"15\": 3, \"14\": 1}, \"4\": {\"4\": 1140, \"10\": 3, \"12\": 48, \"7\": 9}, \"14\": {\"14\": 750, \"11\": 39, \"2\": 320, \"12\": 53, \"13\": 2, \"5\": 7, \"7\": 21, \"8\": 6, \"10\": 2}, \"9\": {\"9\": 952, \"6\": 226, \"3\": 17, \"13\": 1, \"0\": 4}, \"12\": {\"12\": 1173, \"14\": 13, \"4\": 14}, \"6\": {\"6\": 1003, \"9\": 194, \"3\": 1, \"1\": 1, \"13\": 1}, \"2\": {\"2\": 1081, \"14\": 119}, \"0\": {\"0\": 1025, \"3\": 120, \"10\": 29, \"13\": 3, \"15\": 2, \"7\": 9, \"6\": 2, \"9\": 3, \"8\": 7}, \"13\": {\"13\": 704, \"7\": 24, \"8\": 137, \"6\": 3, \"3\": 175, \"1\": 22, \"5\": 58, \"10\": 25, \"0\": 11, \"15\": 26, \"2\": 9, \"14\": 3, \"9\": 3}}, \"ORACLE.run2_8\": {\"9\": {\"9\": 1200}, \"10\": {\"10\": 792, \"5\": 131, \"0\": 186, \"14\": 57, \"13\": 31, \"1\": 3}, \"13\": {\"13\": 912, \"1\": 96, \"10\": 43, \"14\": 131, \"5\": 7, \"6\": 7, \"0\": 4}, \"0\": {\"0\": 845, \"10\": 155, \"14\": 184, \"5\": 2, \"4\": 7, \"13\": 2, \"6\": 5}, \"1\": {\"1\": 1097, \"13\": 84, \"5\": 18, \"10\": 1}, \"15\": {\"15\": 760, \"8\": 122, \"12\": 171, \"11\": 132, \"3\": 10, \"4\": 1, \"7\": 3, \"6\": 1}, \"5\": {\"5\": 984, \"10\": 179, \"13\": 6, \"1\": 28, \"0\": 3}, \"3\": {\"3\": 1127, \"12\": 71, \"15\": 2}, \"6\": {\"6\": 600, \"4\": 345, \"7\": 181, \"14\": 56, \"2\": 10, \"0\": 4, \"13\": 3, \"8\": 1}, \"11\": {\"11\": 649, \"12\": 72, \"8\": 290, \"15\": 188, \"13\": 1}, \"8\": {\"8\": 1019, \"11\": 104, \"15\": 70, \"7\": 3, \"6\": 1, \"13\": 3}, \"4\": {\"7\": 266, \"6\": 340, \"4\": 501, \"2\": 63, \"14\": 27, \"0\": 2, \"13\": 1}, \"12\": {\"12\": 1030, \"15\": 101, \"3\": 54, \"11\": 15}, \"14\": {\"0\": 164, \"14\": 803, \"13\": 122, \"10\": 56, \"4\": 8, \"6\": 46, \"7\": 1}, \"2\": {\"4\": 98, \"2\": 970, \"7\": 123, \"6\": 9}, \"7\": {\"6\": 217, \"7\": 602, \"4\": 270, \"2\": 103, \"15\": 1, \"8\": 5, \"14\": 2}}, \"ORACLE.run2_50\": {\"7\": {\"7\": 669, \"13\": 353, \"5\": 97, \"10\": 71, \"4\": 8, \"6\": 2}, \"3\": {\"3\": 1153, \"8\": 47}, \"8\": {\"8\": 1165, \"3\": 35}, \"2\": {\"2\": 1153, \"0\": 47}, \"14\": {\"14\": 1187, \"12\": 11, \"11\": 2}, \"4\": {\"4\": 651, \"5\": 320, \"1\": 61, \"7\": 8, \"6\": 153, \"10\": 4, \"15\": 2, \"13\": 1}, \"6\": {\"4\": 139, \"6\": 783, \"1\": 189, \"5\": 70, \"15\": 11, \"10\": 4, \"0\": 4}, \"15\": {\"15\": 1091, \"6\": 13, \"1\": 65, \"11\": 29, \"4\": 1, \"14\": 1}, \"10\": {\"10\": 926, \"13\": 171, \"5\": 42, \"7\": 44, \"0\": 15, \"6\": 2}, \"11\": {\"11\": 1127, \"12\": 15, \"14\": 10, \"15\": 38, \"9\": 10}, \"13\": {\"13\": 763, \"7\": 252, \"10\": 151, \"5\": 30, \"4\": 4}, \"9\": {\"9\": 1129, \"12\": 53, \"11\": 18}, \"0\": {\"0\": 1101, \"2\": 72, \"5\": 4, \"10\": 22, \"4\": 1}, \"1\": {\"15\": 47, \"1\": 952, \"6\": 159, \"4\": 40, \"5\": 2}, \"12\": {\"12\": 1109, \"14\": 33, \"9\": 52, \"11\": 6}, \"5\": {\"4\": 287, \"5\": 616, \"7\": 91, \"10\": 61, \"6\": 64, \"0\": 5, \"13\": 67, \"1\": 9}}, \"ORACLE.run2_32\": {\"8\": {\"8\": 938, \"4\": 41, \"0\": 103, \"7\": 3, \"5\": 56, \"3\": 11, \"13\": 43, \"11\": 5}, \"14\": {\"14\": 1064, \"2\": 73, \"0\": 33, \"5\": 28, \"11\": 2}, \"2\": {\"2\": 1015, \"14\": 67, \"5\": 56, \"7\": 9, \"11\": 9, \"4\": 32, \"13\": 1, \"0\": 11}, \"0\": {\"0\": 672, \"5\": 117, \"4\": 108, \"2\": 15, \"8\": 75, \"11\": 153, \"13\": 26, \"14\": 13, \"7\": 21}, \"1\": {\"1\": 1190, \"10\": 10}, \"10\": {\"10\": 1193, \"1\": 7}, \"11\": {\"11\": 714, \"7\": 181, \"0\": 144, \"13\": 73, \"4\": 57, \"5\": 7, \"2\": 19, \"14\": 3, \"8\": 2}, \"5\": {\"2\": 148, \"3\": 3, \"13\": 36, \"8\": 126, \"14\": 66, \"5\": 521, \"7\": 20, \"0\": 154, \"4\": 115, \"11\": 11}, \"15\": {\"15\": 1196, \"8\": 4}, \"3\": {\"3\": 1159, \"13\": 30, \"8\": 8, \"4\": 2, \"11\": 1}, \"12\": {\"12\": 1200}, \"7\": {\"11\": 216, \"5\": 6, \"7\": 724, \"13\": 114, \"4\": 90, \"2\": 25, \"0\": 23, \"3\": 1, \"8\": 1}, \"13\": {\"13\": 679, \"7\": 111, \"4\": 242, \"0\": 31, \"8\": 33, \"11\": 56, \"3\": 24, \"5\": 24}, \"6\": {\"6\": 1200}, \"4\": {\"4\": 582, \"5\": 109, \"7\": 87, \"0\": 107, \"2\": 33, \"13\": 224, \"8\": 24, \"11\": 33, \"14\": 1}, \"9\": {\"9\": 1173, \"14\": 25, \"12\": 2}}, \"ORACLE.run2_26\": {\"4\": {\"4\": 709, \"8\": 58, \"14\": 48, \"1\": 16, \"2\": 71, \"0\": 116, \"7\": 57, \"10\": 25, \"15\": 38, \"3\": 62}, \"12\": {\"12\": 1200}, \"10\": {\"10\": 449, \"0\": 252, \"8\": 107, \"6\": 89, \"4\": 60, \"14\": 163, \"1\": 53, \"2\": 10, \"12\": 5, \"9\": 4, \"7\": 6, \"15\": 2}, \"0\": {\"4\": 137, \"14\": 209, \"0\": 443, \"10\": 201, \"1\": 88, \"8\": 98, \"6\": 1, \"7\": 9, \"2\": 9, \"3\": 1, \"15\": 3, \"9\": 1}, \"13\": {\"13\": 931, \"9\": 86, \"5\": 143, \"7\": 5, \"8\": 5, \"6\": 28, \"2\": 2}, \"9\": {\"9\": 726, \"13\": 93, \"5\": 50, \"6\": 141, \"8\": 113, \"7\": 43, \"15\": 7, \"2\": 20, \"10\": 5, \"14\": 1, \"4\": 1}, \"3\": {\"7\": 87, \"15\": 201, \"3\": 724, \"2\": 132, \"4\": 55, \"5\": 1}, \"2\": {\"4\": 110, \"15\": 90, \"3\": 135, \"8\": 77, \"2\": 351, \"7\": 383, \"5\": 32, \"0\": 4, \"9\": 11, \"14\": 2, \"10\": 4, \"13\": 1}, \"5\": {\"9\": 77, \"6\": 66, \"5\": 554, \"13\": 250, \"7\": 96, \"3\": 9, \"2\": 83, \"4\": 2, \"8\": 46, \"10\": 9, \"14\": 5, \"15\": 3}, \"14\": {\"14\": 404, \"8\": 75, \"10\": 174, \"1\": 273, \"0\": 200, \"7\": 4, \"4\": 63, \"2\": 3, \"5\": 3, \"6\": 1}, \"8\": {\"2\": 70, \"4\": 50, \"10\": 84, \"8\": 560, \"9\": 109, \"14\": 51, \"7\": 122, \"0\": 68, \"5\": 40, \"15\": 15, \"6\": 23, \"13\": 3, \"1\": 4, \"3\": 1}, \"7\": {\"3\": 67, \"7\": 427, \"8\": 119, \"9\": 36, \"2\": 360, \"5\": 47, \"15\": 61, \"4\": 78, \"10\": 2, \"0\": 1, \"13\": 2}, \"6\": {\"6\": 901, \"10\": 54, \"13\": 50, \"9\": 154, \"8\": 24, \"5\": 15, \"14\": 2}, \"11\": {\"11\": 1197, \"12\": 3}, \"15\": {\"3\": 233, \"15\": 690, \"2\": 113, \"4\": 50, \"7\": 90, \"9\": 5, \"8\": 10, \"0\": 6, \"5\": 3}, \"1\": {\"1\": 747, \"14\": 312, \"10\": 55, \"0\": 62, \"4\": 9, \"8\": 14, \"2\": 1}}, \"ORACLE.run2_44\": {\"12\": {\"1\": 290, \"12\": 857, \"3\": 53}, \"7\": {\"7\": 639, \"2\": 227, \"9\": 306, \"6\": 24, \"1\": 4}, \"5\": {\"5\": 1094, \"14\": 88, \"0\": 3, \"8\": 13, \"15\": 2}, \"15\": {\"15\": 1023, \"5\": 2, \"14\": 115, \"0\": 3, \"4\": 44, \"8\": 13}, \"8\": {\"0\": 478, \"8\": 703, \"15\": 5, \"5\": 11, \"14\": 3}, \"2\": {\"2\": 699, \"9\": 317, \"7\": 177, \"3\": 2, \"6\": 2, \"1\": 3}, \"13\": {\"13\": 1140, \"4\": 35, \"6\": 21, \"7\": 1, \"14\": 2, \"9\": 1}, \"4\": {\"4\": 1089, \"14\": 69, \"13\": 13, \"15\": 29}, \"0\": {\"0\": 671, \"8\": 525, \"15\": 1, \"5\": 3}, \"6\": {\"6\": 1107, \"7\": 23, \"9\": 41, \"13\": 22, \"2\": 5, \"11\": 2}, \"9\": {\"9\": 510, \"2\": 346, \"7\": 299, \"6\": 40, \"1\": 4, \"3\": 1}, \"11\": {\"11\": 1187, \"6\": 12, \"9\": 1}, \"10\": {\"10\": 1145, \"12\": 36, \"1\": 19}, \"14\": {\"15\": 138, \"14\": 859, \"4\": 71, \"5\": 127, \"8\": 5}, \"1\": {\"1\": 763, \"3\": 115, \"12\": 305, \"10\": 7, \"2\": 5, \"9\": 3, \"7\": 2}, \"3\": {\"3\": 1044, \"1\": 114, \"12\": 42}}, \"ORACLE.run1_14\": {\"15\": {\"15\": 1175, \"7\": 23, \"5\": 1, \"2\": 1}, \"3\": {\"4\": 128, \"3\": 1019, \"14\": 19, \"2\": 19, \"0\": 5, \"5\": 8, \"10\": 2}, \"6\": {\"14\": 55, \"13\": 428, \"6\": 683, \"2\": 33, \"4\": 1}, \"1\": {\"5\": 114, \"1\": 1072, \"4\": 12, \"3\": 1, \"7\": 1}, \"8\": {\"8\": 1200}, \"10\": {\"10\": 1166, \"0\": 34}, \"9\": {\"9\": 1198, \"11\": 1, \"12\": 1}, \"13\": {\"13\": 388, \"5\": 15, \"2\": 116, \"4\": 6, \"6\": 502, \"14\": 170, \"15\": 2, \"10\": 1}, \"12\": {\"12\": 1200}, \"5\": {\"5\": 764, \"4\": 213, \"1\": 159, \"2\": 39, \"3\": 22, \"7\": 1, \"15\": 2}, \"0\": {\"0\": 1084, \"10\": 75, \"11\": 25, \"3\": 13, \"14\": 3}, \"2\": {\"14\": 162, \"2\": 626, \"6\": 63, \"5\": 134, \"15\": 25, \"3\": 49, \"4\": 87, \"13\": 54}, \"11\": {\"9\": 69, \"11\": 1054, \"0\": 74, \"10\": 3}, \"14\": {\"14\": 971, \"13\": 83, \"6\": 38, \"2\": 82, \"3\": 24, \"4\": 2}, \"7\": {\"7\": 1184, \"1\": 6, \"15\": 10}, \"4\": {\"2\": 40, \"4\": 888, \"3\": 94, \"5\": 151, \"1\": 26, \"14\": 1}}, \"ORACLE.run1_20\": {\"3\": {\"3\": 554, \"5\": 66, \"12\": 219, \"7\": 31, \"2\": 70, \"9\": 167, \"0\": 16, \"1\": 23, \"4\": 48, \"8\": 4, \"15\": 1, \"10\": 1}, \"15\": {\"1\": 205, \"15\": 767, \"12\": 30, \"0\": 73, \"13\": 35, \"5\": 83, \"9\": 3, \"2\": 4}, \"8\": {\"8\": 938, \"6\": 7, \"7\": 59, \"4\": 120, \"10\": 22, \"14\": 40, \"3\": 12, \"9\": 1, \"2\": 1}, \"4\": {\"4\": 1015, \"10\": 24, \"8\": 96, \"3\": 50, \"12\": 2, \"5\": 3, \"0\": 3, \"9\": 2, \"7\": 5}, \"14\": {\"14\": 986, \"6\": 105, \"10\": 72, \"8\": 36, \"7\": 1}, \"0\": {\"0\": 670, \"5\": 301, \"3\": 21, \"15\": 130, \"12\": 21, \"8\": 2, \"1\": 26, \"7\": 9, \"4\": 3, \"2\": 11, \"13\": 4, \"9\": 2}, \"7\": {\"7\": 928, \"8\": 53, \"2\": 133, \"9\": 45, \"3\": 27, \"6\": 4, \"10\": 2, \"12\": 2, \"4\": 4, \"13\": 1, \"0\": 1}, \"6\": {\"6\": 1052, \"14\": 129, \"8\": 7, \"11\": 2, \"7\": 10}, \"10\": {\"10\": 1076, \"14\": 72, \"4\": 29, \"8\": 19, \"6\": 3, \"7\": 1}, \"5\": {\"0\": 275, \"15\": 75, \"3\": 31, \"5\": 472, \"12\": 129, \"1\": 201, \"9\": 9, \"2\": 3, \"4\": 3, \"13\": 2}, \"2\": {\"9\": 293, \"2\": 576, \"12\": 46, \"7\": 130, \"0\": 2, \"3\": 75, \"13\": 63, \"1\": 3, \"15\": 5, \"5\": 6, \"8\": 1}, \"12\": {\"3\": 226, \"1\": 181, \"12\": 444, \"9\": 115, \"5\": 157, \"15\": 23, \"2\": 35, \"4\": 3, \"0\": 12, \"7\": 1, \"13\": 3}, \"9\": {\"3\": 176, \"9\": 538, \"2\": 308, \"12\": 112, \"7\": 32, \"1\": 16, \"13\": 9, \"15\": 3, \"5\": 5, \"0\": 1}, \"1\": {\"12\": 187, \"5\": 194, \"1\": 532, \"0\": 34, \"15\": 219, \"3\": 18, \"9\": 13, \"2\": 3}, \"11\": {\"11\": 1199, \"7\": 1}, \"13\": {\"13\": 1108, \"9\": 9, \"12\": 3, \"2\": 62, \"15\": 13, \"0\": 1, \"1\": 3, \"7\": 1}}, \"ORACLE.run1_38\": {\"5\": {\"5\": 506, \"8\": 359, \"0\": 81, \"15\": 42, \"9\": 38, \"6\": 44, \"10\": 2, \"7\": 104, \"1\": 16, \"3\": 3, \"13\": 5}, \"8\": {\"8\": 741, \"0\": 102, \"15\": 30, \"5\": 288, \"7\": 27, \"13\": 3, \"10\": 9}, \"11\": {\"11\": 1064, \"14\": 108, \"2\": 12, \"10\": 15, \"13\": 1}, \"1\": {\"1\": 1149, \"15\": 47, \"13\": 2, \"5\": 1, \"8\": 1}, \"10\": {\"10\": 938, \"13\": 142, \"0\": 19, \"7\": 8, \"8\": 40, \"15\": 9, \"14\": 21, \"2\": 8, \"12\": 6, \"11\": 6, \"5\": 3}, \"15\": {\"15\": 953, \"5\": 26, \"8\": 37, \"1\": 85, \"13\": 90, \"2\": 5, \"10\": 2, \"0\": 2}, \"3\": {\"0\": 24, \"3\": 1130, \"9\": 33, \"7\": 11, \"6\": 1, \"5\": 1}, \"7\": {\"5\": 51, \"0\": 166, \"7\": 937, \"3\": 2, \"8\": 41, \"9\": 3}, \"4\": {\"4\": 1130, \"12\": 70}, \"14\": {\"14\": 1070, \"2\": 83, \"11\": 34, \"10\": 11, \"12\": 2}, \"9\": {\"6\": 254, \"9\": 911, \"5\": 15, \"3\": 15, \"1\": 1, \"0\": 3, \"7\": 1}, \"12\": {\"12\": 1159, \"4\": 37, \"14\": 3, \"10\": 1}, \"6\": {\"6\": 1070, \"9\": 118, \"5\": 10, \"8\": 2}, \"2\": {\"2\": 1140, \"13\": 19, \"14\": 37, \"10\": 3, \"15\": 1}, \"0\": {\"8\": 206, \"5\": 120, \"0\": 542, \"3\": 78, \"7\": 224, \"10\": 23, \"9\": 3, \"15\": 1, \"13\": 3}, \"13\": {\"13\": 914, \"10\": 90, \"15\": 150, \"2\": 19, \"5\": 8, \"8\": 17, \"0\": 1, \"7\": 1}}, \"ORACLE.run1_8\": {\"9\": {\"9\": 1200}, \"10\": {\"10\": 800, \"13\": 80, \"14\": 270, \"5\": 19, \"4\": 23, \"1\": 4, \"0\": 4}, \"13\": {\"7\": 11, \"4\": 198, \"14\": 89, \"13\": 402, \"0\": 306, \"10\": 128, \"6\": 60, \"5\": 5, \"11\": 1}, \"0\": {\"0\": 823, \"13\": 209, \"6\": 46, \"4\": 34, \"7\": 82, \"10\": 6}, \"1\": {\"1\": 840, \"11\": 315, \"14\": 27, \"5\": 17, \"10\": 1}, \"15\": {\"12\": 244, \"15\": 895, \"8\": 50, \"2\": 6, \"7\": 2, \"3\": 3}, \"5\": {\"5\": 1097, \"10\": 38, \"14\": 17, \"1\": 44, \"11\": 4}, \"3\": {\"3\": 1036, \"2\": 120, \"12\": 43, \"15\": 1}, \"6\": {\"6\": 772, \"4\": 134, \"0\": 51, \"7\": 190, \"8\": 2, \"13\": 49, \"14\": 2}, \"11\": {\"11\": 729, \"1\": 424, \"5\": 27, \"8\": 8, \"14\": 10, \"4\": 2}, \"8\": {\"8\": 1153, \"15\": 42, \"12\": 1, \"6\": 4}, \"4\": {\"4\": 666, \"13\": 238, \"14\": 151, \"0\": 23, \"6\": 100, \"10\": 21, \"7\": 1}, \"12\": {\"12\": 634, \"15\": 377, \"8\": 41, \"3\": 140, \"2\": 8}, \"14\": {\"4\": 170, \"10\": 240, \"14\": 641, \"13\": 78, \"1\": 47, \"5\": 11, \"11\": 6, \"0\": 4, \"6\": 3}, \"2\": {\"2\": 988, \"3\": 148, \"15\": 25, \"7\": 33, \"12\": 6}, \"7\": {\"7\": 911, \"0\": 37, \"6\": 239, \"4\": 5, \"13\": 5, \"8\": 3}}, \"ORACLE.run1_50\": {\"7\": {\"7\": 772, \"10\": 19, \"5\": 187, \"13\": 214, \"4\": 5, \"6\": 3}, \"3\": {\"3\": 1167, \"8\": 33}, \"8\": {\"8\": 1167, \"10\": 15, \"3\": 18}, \"2\": {\"2\": 1129, \"0\": 71}, \"14\": {\"14\": 1187, \"12\": 9, \"11\": 4}, \"4\": {\"4\": 563, \"1\": 153, \"5\": 135, \"15\": 181, \"6\": 112, \"7\": 35, \"13\": 19, \"11\": 2}, \"6\": {\"6\": 871, \"13\": 57, \"5\": 42, \"1\": 87, \"4\": 125, \"15\": 11, \"7\": 5, \"2\": 2}, \"15\": {\"15\": 899, \"4\": 75, \"1\": 183, \"6\": 21, \"11\": 22}, \"10\": {\"10\": 1107, \"0\": 33, \"7\": 14, \"13\": 25, \"8\": 19, \"5\": 2}, \"11\": {\"11\": 1063, \"1\": 5, \"9\": 91, \"14\": 9, \"4\": 1, \"15\": 26, \"12\": 5}, \"13\": {\"7\": 164, \"13\": 801, \"5\": 174, \"6\": 42, \"10\": 14, \"4\": 3, \"0\": 2}, \"9\": {\"9\": 929, \"11\": 178, \"12\": 92, \"14\": 1}, \"0\": {\"0\": 1062, \"2\": 94, \"10\": 41, \"13\": 2, \"5\": 1}, \"1\": {\"1\": 837, \"13\": 2, \"15\": 188, \"4\": 76, \"5\": 7, \"6\": 87, \"14\": 2, \"11\": 1}, \"12\": {\"12\": 1097, \"9\": 75, \"11\": 3, \"14\": 25}, \"5\": {\"1\": 42, \"5\": 411, \"13\": 206, \"7\": 287, \"4\": 135, \"6\": 111, \"0\": 1, \"10\": 6, \"15\": 1}}, \"ORACLE.run1_32\": {\"8\": {\"13\": 64, \"8\": 970, \"5\": 74, \"0\": 83, \"4\": 2, \"3\": 4, \"14\": 2, \"7\": 1}, \"14\": {\"14\": 505, \"11\": 318, \"7\": 209, \"13\": 36, \"0\": 66, \"5\": 34, \"2\": 7, \"4\": 11, \"3\": 7, \"8\": 7}, \"2\": {\"4\": 176, \"2\": 989, \"7\": 12, \"5\": 3, \"0\": 20}, \"0\": {\"0\": 882, \"5\": 26, \"8\": 90, \"14\": 24, \"2\": 57, \"7\": 47, \"4\": 64, \"13\": 10}, \"1\": {\"1\": 1189, \"10\": 11}, \"10\": {\"10\": 1197, \"1\": 3}, \"11\": {\"11\": 987, \"7\": 18, \"14\": 174, \"13\": 9, \"5\": 3, \"3\": 9}, \"5\": {\"5\": 423, \"7\": 160, \"13\": 261, \"4\": 130, \"3\": 47, \"11\": 11, \"0\": 57, \"14\": 35, \"8\": 59, \"2\": 17}, \"15\": {\"15\": 1193, \"8\": 7}, \"3\": {\"3\": 1130, \"11\": 12, \"13\": 40, \"14\": 5, \"5\": 6, \"8\": 7}, \"12\": {\"12\": 1200}, \"7\": {\"14\": 166, \"7\": 578, \"0\": 33, \"11\": 31, \"5\": 147, \"13\": 63, \"4\": 166, \"2\": 15, \"8\": 1}, \"13\": {\"13\": 586, \"5\": 241, \"7\": 89, \"14\": 24, \"3\": 92, \"8\": 41, \"0\": 17, \"4\": 92, \"11\": 17, \"2\": 1}, \"6\": {\"6\": 1200}, \"4\": {\"4\": 732, \"7\": 104, \"2\": 196, \"5\": 79, \"0\": 39, \"14\": 5, \"13\": 42, \"8\": 3}, \"9\": {\"9\": 1199, \"12\": 1}}, \"ORACLE.run1_26\": {\"4\": {\"8\": 98, \"4\": 505, \"0\": 144, \"7\": 67, \"10\": 48, \"14\": 238, \"1\": 97, \"6\": 2, \"2\": 1}, \"12\": {\"12\": 1199, \"11\": 1}, \"10\": {\"10\": 529, \"4\": 62, \"6\": 60, \"8\": 156, \"14\": 94, \"0\": 251, \"9\": 16, \"7\": 4, \"1\": 22, \"15\": 4, \"5\": 2}, \"0\": {\"10\": 281, \"4\": 149, \"0\": 358, \"1\": 27, \"14\": 217, \"8\": 127, \"7\": 7, \"6\": 22, \"9\": 11, \"15\": 1}, \"13\": {\"13\": 852, \"5\": 232, \"9\": 27, \"2\": 19, \"15\": 63, \"6\": 7}, \"9\": {\"9\": 456, \"6\": 153, \"13\": 29, \"8\": 108, \"15\": 355, \"5\": 55, \"4\": 4, \"2\": 12, \"10\": 17, \"0\": 6, \"7\": 5}, \"3\": {\"3\": 796, \"2\": 236, \"7\": 164, \"5\": 2, \"14\": 1, \"1\": 1}, \"2\": {\"3\": 388, \"2\": 460, \"7\": 119, \"5\": 105, \"4\": 3, \"15\": 75, \"8\": 18, \"9\": 22, \"13\": 9, \"10\": 1}, \"5\": {\"5\": 794, \"2\": 49, \"15\": 120, \"13\": 160, \"9\": 53, \"6\": 1, \"8\": 14, \"7\": 6, \"3\": 2, \"10\": 1}, \"14\": {\"4\": 245, \"14\": 413, \"1\": 201, \"0\": 186, \"8\": 37, \"10\": 104, \"7\": 14}, \"8\": {\"10\": 166, \"8\": 498, \"4\": 91, \"15\": 71, \"0\": 87, \"7\": 94, \"14\": 30, \"6\": 31, \"9\": 92, \"5\": 11, \"2\": 18, \"1\": 5, \"3\": 6}, \"7\": {\"2\": 130, \"8\": 73, \"7\": 685, \"4\": 94, \"3\": 163, \"14\": 12, \"0\": 19, \"5\": 4, \"10\": 1, \"1\": 6, \"15\": 9, \"9\": 4}, \"6\": {\"6\": 913, \"8\": 28, \"13\": 2, \"10\": 69, \"15\": 31, \"0\": 11, \"9\": 141, \"5\": 5}, \"11\": {\"11\": 1195, \"12\": 5}, \"15\": {\"15\": 473, \"13\": 56, \"9\": 365, \"6\": 45, \"5\": 123, \"8\": 87, \"7\": 14, \"2\": 26, \"10\": 8, \"0\": 2, \"4\": 1}, \"1\": {\"1\": 744, \"14\": 241, \"0\": 33, \"8\": 9, \"3\": 2, \"4\": 126, \"10\": 29, \"7\": 16}}, \"ORACLE.run1_44\": {\"12\": {\"12\": 958, \"10\": 53, \"1\": 176, \"3\": 13}, \"7\": {\"7\": 797, \"2\": 138, \"9\": 234, \"6\": 25, \"13\": 3, \"3\": 2, \"1\": 1}, \"5\": {\"5\": 1051, \"14\": 32, \"0\": 73, \"15\": 32, \"8\": 11, \"4\": 1}, \"15\": {\"15\": 996, \"5\": 29, \"0\": 71, \"8\": 15, \"14\": 84, \"4\": 5}, \"8\": {\"8\": 729, \"0\": 413, \"15\": 37, \"5\": 21}, \"2\": {\"2\": 902, \"7\": 178, \"1\": 44, \"10\": 67, \"3\": 4, \"9\": 4, \"12\": 1}, \"13\": {\"13\": 801, \"6\": 202, \"9\": 149, \"11\": 39, \"7\": 4, \"4\": 4, \"14\": 1}, \"4\": {\"4\": 869, \"14\": 321, \"15\": 8, \"13\": 1, \"5\": 1}, \"0\": {\"8\": 320, \"0\": 753, \"5\": 64, \"15\": 63}, \"6\": {\"9\": 89, \"6\": 855, \"7\": 33, \"13\": 205, \"11\": 17, \"2\": 1}, \"9\": {\"13\": 140, \"9\": 702, \"6\": 91, \"7\": 256, \"2\": 7, \"4\": 4}, \"11\": {\"11\": 1107, \"13\": 77, \"6\": 16}, \"10\": {\"10\": 908, \"12\": 76, \"2\": 99, \"1\": 116, \"3\": 1}, \"14\": {\"14\": 743, \"4\": 349, \"15\": 69, \"5\": 39}, \"1\": {\"10\": 93, \"1\": 735, \"12\": 196, \"2\": 44, \"3\": 130, \"7\": 2}, \"3\": {\"3\": 1077, \"1\": 109, \"12\": 10, \"2\": 4}}}, \"per_domain_accuracy\": {\"ORACLE.run2_14\": {\"accuracy\": 0.8186979166666667, \"source?\": true}, \"ORACLE.run2_20\": {\"accuracy\": 0.6486458333333334, \"source?\": true}, \"ORACLE.run2_38\": {\"accuracy\": 0.7080729166666667, \"source?\": true}, \"ORACLE.run2_8\": {\"accuracy\": 0.7234895833333334, \"source?\": true}, \"ORACLE.run2_50\": {\"accuracy\": 0.8111979166666666, \"source?\": true}, \"ORACLE.run2_32\": {\"accuracy\": 0.7927083333333333, \"source?\": true}, \"ORACLE.run2_26\": {\"accuracy\": 0.57359375, \"source?\": true}, \"ORACLE.run2_44\": {\"accuracy\": 0.7567708333333333, \"source?\": true}, \"ORACLE.run1_14\": {\"accuracy\": 0.81625, \"source?\": false}, \"ORACLE.run1_20\": {\"accuracy\": 0.66953125, \"source?\": false}, \"ORACLE.run1_38\": {\"accuracy\": 0.7996875, \"source?\": false}, \"ORACLE.run1_8\": {\"accuracy\": 0.70765625, \"source?\": false}, \"ORACLE.run1_50\": {\"accuracy\": 0.7844791666666666, \"source?\": false}, \"ORACLE.run1_32\": {\"accuracy\": 0.7791666666666667, \"source?\": false}, \"ORACLE.run1_26\": {\"accuracy\": 0.5661458333333333, \"source?\": false}, \"ORACLE.run1_44\": {\"accuracy\": 0.72828125, \"source?\": false}}}, \"history\": {\"epoch_indices\": [1, 2, 3, 4, 5, 6, 7, 8, 9, 10], \"train_label_loss\": [1.1118628672767608, 0.8936722113444869, 0.8027548633919408, 0.7087891154155312, 0.6279821410207521, 0.5703874310955317, 0.5286883345888262, 0.49004301941898165, 0.4568298325907173, 0.4295584495417729], \"source_val_label_loss\": [0.9801772236824036, 0.9136045575141907, 0.8522669076919556, 0.8030188679695129, 0.7781804203987122, 0.7690249085426331, 0.764697253704071, 0.7798547744750977, 0.7988757491111755, 0.8127634525299072], \"target_val_label_loss\": [0.9474557638168335, 0.8718493580818176, 0.8168705701828003, 0.7723168134689331, 0.7503119111061096, 0.7451847791671753, 0.7432076930999756, 0.7585956454277039, 0.7783564925193787, 0.794178307056427], \"source_val_acc_label\": [0.6376171875, 0.6599934895833334, 0.684296875, 0.71078125, 0.7234244791666666, 0.7291471354166666, 0.7275390625, 0.7280078125, 0.7288020833333333, 0.7238151041666666], \"target_val_acc_label\": [0.6478645833333333, 0.6717122395833334, 0.6941276041666666, 0.7157161458333333, 0.7280989583333334, 0.7313997395833334, 0.73013671875, 0.7307161458333333, 0.7312044270833333, 0.7273307291666666]}, \"dataset_metrics\": {\"source\": {\"train\": {\"n_unique_x\": 896000, \"n_unique_y\": 16, \"n_batch/episode\": 33600}, \"val\": {\"n_unique_x\": 192000, \"n_unique_y\": 16, \"n_batch/episode\": 4800}, \"test\": {\"n_unique_x\": 192000, \"n_unique_y\": 16, \"n_batch/episode\": 4800}}, \"target\": {\"train\": {\"n_unique_x\": 896000, \"n_unique_y\": 16, \"n_batch/episode\": 33600}, \"val\": {\"n_unique_x\": 192000, \"n_unique_y\": 16, \"n_batch/episode\": 4800}, \"test\": {\"n_unique_x\": 192000, \"n_unique_y\": 16, \"n_batch/episode\": 4800}}}}'"
      ]
     },
     "execution_count": 29,
     "metadata": {},
     "output_type": "execute_result"
    }
   ],
   "source": [
    "json.dumps(experiment)"
   ]
  }
 ],
 "metadata": {
  "celltoolbar": "Tags",
  "kernelspec": {
   "display_name": "Python 3 (ipykernel)",
   "language": "python",
   "name": "python3"
  },
  "language_info": {
   "codemirror_mode": {
    "name": "ipython",
    "version": 3
   },
   "file_extension": ".py",
   "mimetype": "text/x-python",
   "name": "python",
   "nbconvert_exporter": "python",
   "pygments_lexer": "ipython3",
   "version": "3.8.10"
  },
  "papermill": {
   "default_parameters": {},
   "duration": 9853.018464,
   "end_time": "2022-03-23T15:26:59.571193",
   "environment_variables": {},
   "exception": null,
   "input_path": "/mnt/wd500GB/CSC500/csc500-main/csc500-notebooks/templates/tl_ptn_template.ipynb",
   "output_path": "trial.ipynb",
   "parameters": {
    "parameters": {
     "BEST_MODEL_PATH": "./best_model.pth",
     "NUM_LOGS_PER_EPOCH": 10,
     "criteria_for_best": "target_accuracy",
     "dataset_seed": 1337,
     "datasets": [
      {
       "domain_prefix": "ORACLE.run1_",
       "domains": [
        32,
        38,
        8,
        44,
        14,
        50,
        20,
        26
       ],
       "episode_transforms": [],
       "labels": [
        "3123D52",
        "3123D65",
        "3123D79",
        "3123D80",
        "3123D54",
        "3123D70",
        "3123D7B",
        "3123D89",
        "3123D58",
        "3123D76",
        "3123D7D",
        "3123EFE",
        "3123D64",
        "3123D78",
        "3123D7E",
        "3124E4A"
       ],
       "num_examples_per_domain_per_label": 10000,
       "pickle_path": "/mnt/wd500GB/CSC500/csc500-main/datasets/oracle.Run1_10kExamples_stratified_ds.2022A.pkl",
       "source_or_target_dataset": "target",
       "x_transforms": [
        "unit_power"
       ]
      },
      {
       "domain_prefix": "ORACLE.run2_",
       "domains": [
        32,
        38,
        8,
        44,
        14,
        50,
        20,
        26
       ],
       "episode_transforms": [],
       "labels": [
        "3123D52",
        "3123D65",
        "3123D79",
        "3123D80",
        "3123D54",
        "3123D70",
        "3123D7B",
        "3123D89",
        "3123D58",
        "3123D76",
        "3123D7D",
        "3123EFE",
        "3123D64",
        "3123D78",
        "3123D7E",
        "3124E4A"
       ],
       "num_examples_per_domain_per_label": 10000,
       "pickle_path": "/mnt/wd500GB/CSC500/csc500-main/datasets/oracle.Run2_10kExamples_stratified_ds.2022A.pkl",
       "source_or_target_dataset": "source",
       "x_transforms": [
        "unit_power"
       ]
      }
     ],
     "device": "cuda",
     "experiment_name": "tl_1v2:oracle.run1-oracle.run2",
     "lr": 0.0001,
     "n_epoch": 50,
     "n_query": 2,
     "n_shot": 3,
     "n_way": 16,
     "patience": 3,
     "seed": 1337,
     "test_k_factor": 2,
     "torch_default_dtype": "torch.float32",
     "train_k_factor": 3,
     "val_k_factor": 2,
     "x_net": [
      {
       "class": "nnReshape",
       "kargs": {
        "shape": [
         -1,
         1,
         2,
         256
        ]
       }
      },
      {
       "class": "Conv2d",
       "kargs": {
        "bias": false,
        "in_channels": 1,
        "kernel_size": [
         1,
         7
        ],
        "out_channels": 256,
        "padding": [
         0,
         3
        ]
       }
      },
      {
       "class": "ReLU",
       "kargs": {
        "inplace": true
       }
      },
      {
       "class": "BatchNorm2d",
       "kargs": {
        "num_features": 256
       }
      },
      {
       "class": "Conv2d",
       "kargs": {
        "bias": true,
        "in_channels": 256,
        "kernel_size": [
         2,
         7
        ],
        "out_channels": 80,
        "padding": [
         0,
         3
        ]
       }
      },
      {
       "class": "ReLU",
       "kargs": {
        "inplace": true
       }
      },
      {
       "class": "BatchNorm2d",
       "kargs": {
        "num_features": 80
       }
      },
      {
       "class": "Flatten",
       "kargs": {}
      },
      {
       "class": "Linear",
       "kargs": {
        "in_features": 20480,
        "out_features": 256
       }
      },
      {
       "class": "ReLU",
       "kargs": {
        "inplace": true
       }
      },
      {
       "class": "BatchNorm1d",
       "kargs": {
        "num_features": 256
       }
      },
      {
       "class": "Linear",
       "kargs": {
        "in_features": 256,
        "out_features": 256
       }
      }
     ]
    }
   },
   "start_time": "2022-03-23T12:42:46.552729",
   "version": "2.3.4"
  }
 },
 "nbformat": 4,
 "nbformat_minor": 5
}