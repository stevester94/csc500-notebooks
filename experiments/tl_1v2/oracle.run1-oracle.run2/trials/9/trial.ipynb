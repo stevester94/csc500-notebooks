{
 "cells": [
  {
   "cell_type": "markdown",
   "id": "9fea5f46",
   "metadata": {
    "papermill": {
     "duration": 0.018239,
     "end_time": "2022-03-24T07:16:17.604967",
     "exception": false,
     "start_time": "2022-03-24T07:16:17.586728",
     "status": "completed"
    },
    "tags": []
   },
   "source": [
    "# Transfer Learning Template"
   ]
  },
  {
   "cell_type": "code",
   "execution_count": 1,
   "id": "0902182a",
   "metadata": {
    "execution": {
     "iopub.execute_input": "2022-03-24T07:16:17.639883Z",
     "iopub.status.busy": "2022-03-24T07:16:17.639380Z",
     "iopub.status.idle": "2022-03-24T07:16:18.537057Z",
     "shell.execute_reply": "2022-03-24T07:16:18.536534Z"
    },
    "papermill": {
     "duration": 0.919748,
     "end_time": "2022-03-24T07:16:18.537173",
     "exception": false,
     "start_time": "2022-03-24T07:16:17.617425",
     "status": "completed"
    },
    "tags": []
   },
   "outputs": [],
   "source": [
    "%load_ext autoreload\n",
    "%autoreload 2\n",
    "%matplotlib inline\n",
    "\n",
    "    \n",
    "import os, json, sys, time, random\n",
    "import numpy as np\n",
    "import torch\n",
    "from torch.optim import Adam\n",
    "from  easydict import EasyDict\n",
    "import matplotlib.pyplot as plt\n",
    "\n",
    "from steves_models.steves_ptn import Steves_Prototypical_Network\n",
    "\n",
    "from steves_utils.lazy_iterable_wrapper import Lazy_Iterable_Wrapper\n",
    "from steves_utils.iterable_aggregator import Iterable_Aggregator\n",
    "from steves_utils.ptn_train_eval_test_jig import  PTN_Train_Eval_Test_Jig\n",
    "from steves_utils.torch_sequential_builder import build_sequential\n",
    "from steves_utils.torch_utils import get_dataset_metrics, ptn_confusion_by_domain_over_dataloader\n",
    "from steves_utils.utils_v2 import (per_domain_accuracy_from_confusion, get_datasets_base_path)\n",
    "from steves_utils.PTN.utils import independent_accuracy_assesment\n",
    "\n",
    "from torch.utils.data import DataLoader\n",
    "\n",
    "from steves_utils.stratified_dataset.episodic_accessor import Episodic_Accessor_Factory\n",
    "\n",
    "from steves_utils.ptn_do_report import (\n",
    "    get_loss_curve,\n",
    "    get_results_table,\n",
    "    get_parameters_table,\n",
    "    get_domain_accuracies,\n",
    ")\n",
    "\n",
    "from steves_utils.transforms import get_chained_transform"
   ]
  },
  {
   "cell_type": "markdown",
   "id": "41c840b4",
   "metadata": {
    "papermill": {
     "duration": 0.012303,
     "end_time": "2022-03-24T07:16:18.567019",
     "exception": false,
     "start_time": "2022-03-24T07:16:18.554716",
     "status": "completed"
    },
    "tags": []
   },
   "source": [
    "# Allowed Parameters\n",
    "These are allowed parameters, not defaults\n",
    "Each of these values need to be present in the injected parameters (the notebook will raise an exception if they are not present)\n",
    "\n",
    "Papermill uses the cell tag \"parameters\" to inject the real parameters below this cell.\n",
    "Enable tags to see what I mean"
   ]
  },
  {
   "cell_type": "code",
   "execution_count": 2,
   "id": "fd44eb83",
   "metadata": {
    "execution": {
     "iopub.execute_input": "2022-03-24T07:16:18.594775Z",
     "iopub.status.busy": "2022-03-24T07:16:18.593212Z",
     "iopub.status.idle": "2022-03-24T07:16:18.609227Z",
     "shell.execute_reply": "2022-03-24T07:16:18.608852Z"
    },
    "papermill": {
     "duration": 0.030018,
     "end_time": "2022-03-24T07:16:18.609318",
     "exception": false,
     "start_time": "2022-03-24T07:16:18.579300",
     "status": "completed"
    },
    "tags": []
   },
   "outputs": [],
   "source": [
    "required_parameters = {\n",
    "    \"experiment_name\",\n",
    "    \"lr\",\n",
    "    \"device\",\n",
    "    \"seed\",\n",
    "    \"dataset_seed\",\n",
    "    \"n_shot\",\n",
    "    \"n_query\",\n",
    "    \"n_way\",\n",
    "    \"train_k_factor\",\n",
    "    \"val_k_factor\",\n",
    "    \"test_k_factor\",\n",
    "    \"n_epoch\",\n",
    "    \"patience\",\n",
    "    \"criteria_for_best\",\n",
    "    \"x_net\",\n",
    "    \"datasets\",\n",
    "    \"torch_default_dtype\",\n",
    "    \"NUM_LOGS_PER_EPOCH\",\n",
    "    \"BEST_MODEL_PATH\",\n",
    "    \"x_shape\",\n",
    "}"
   ]
  },
  {
   "cell_type": "code",
   "execution_count": 3,
   "id": "fa3f0049",
   "metadata": {
    "execution": {
     "iopub.execute_input": "2022-03-24T07:16:18.647927Z",
     "iopub.status.busy": "2022-03-24T07:16:18.647427Z",
     "iopub.status.idle": "2022-03-24T07:16:18.663301Z",
     "shell.execute_reply": "2022-03-24T07:16:18.662918Z"
    },
    "papermill": {
     "duration": 0.03727,
     "end_time": "2022-03-24T07:16:18.663391",
     "exception": false,
     "start_time": "2022-03-24T07:16:18.626121",
     "status": "completed"
    },
    "tags": [
     "parameters"
    ]
   },
   "outputs": [],
   "source": [
    "from steves_utils.CORES.utils import (\n",
    "    ALL_NODES,\n",
    "    ALL_NODES_MINIMUM_1000_EXAMPLES,\n",
    "    ALL_DAYS\n",
    ")\n",
    "\n",
    "from steves_utils.ORACLE.utils_v2 import (\n",
    "    ALL_DISTANCES_FEET_NARROWED,\n",
    "    ALL_RUNS,\n",
    "    ALL_SERIAL_NUMBERS,\n",
    ")\n",
    "\n",
    "standalone_parameters = {}\n",
    "standalone_parameters[\"experiment_name\"] = \"STANDALONE PTN\"\n",
    "standalone_parameters[\"lr\"] = 0.001\n",
    "standalone_parameters[\"device\"] = \"cuda\"\n",
    "\n",
    "standalone_parameters[\"seed\"] = 1337\n",
    "standalone_parameters[\"dataset_seed\"] = 1337\n",
    "\n",
    "standalone_parameters[\"n_way\"] = 8\n",
    "standalone_parameters[\"n_shot\"] = 3\n",
    "standalone_parameters[\"n_query\"]  = 2\n",
    "standalone_parameters[\"train_k_factor\"] = 1\n",
    "standalone_parameters[\"val_k_factor\"] = 2\n",
    "standalone_parameters[\"test_k_factor\"] = 2\n",
    "\n",
    "\n",
    "standalone_parameters[\"n_epoch\"] = 50\n",
    "\n",
    "standalone_parameters[\"patience\"] = 10\n",
    "standalone_parameters[\"criteria_for_best\"] = \"source_loss\"\n",
    "\n",
    "standalone_parameters[\"datasets\"] = [\n",
    "    {\n",
    "        \"labels\": ALL_SERIAL_NUMBERS,\n",
    "        \"domains\": ALL_DISTANCES_FEET_NARROWED,\n",
    "        \"num_examples_per_domain_per_label\": 100,\n",
    "        \"pickle_path\": os.path.join(get_datasets_base_path(), \"oracle.Run1_framed_2000Examples_stratified_ds.2022A.pkl\"),\n",
    "        \"source_or_target_dataset\": \"source\",\n",
    "        \"x_transforms\": [\"unit_mag\", \"minus_two\"],\n",
    "        \"episode_transforms\": [],\n",
    "        \"domain_prefix\": \"ORACLE_\"\n",
    "    },\n",
    "    {\n",
    "        \"labels\": ALL_NODES,\n",
    "        \"domains\": ALL_DAYS,\n",
    "        \"num_examples_per_domain_per_label\": 100,\n",
    "        \"pickle_path\": os.path.join(get_datasets_base_path(), \"cores.stratified_ds.2022A.pkl\"),\n",
    "        \"source_or_target_dataset\": \"target\",\n",
    "        \"x_transforms\": [\"unit_power\", \"times_zero\"],\n",
    "        \"episode_transforms\": [],\n",
    "        \"domain_prefix\": \"CORES_\"\n",
    "    }   \n",
    "]\n",
    "\n",
    "standalone_parameters[\"torch_default_dtype\"] = \"torch.float32\" \n",
    "\n",
    "\n",
    "\n",
    "standalone_parameters[\"x_net\"] =     [\n",
    "    {\"class\": \"nnReshape\", \"kargs\": {\"shape\":[-1, 1, 2, 256]}},\n",
    "    {\"class\": \"Conv2d\", \"kargs\": { \"in_channels\":1, \"out_channels\":256, \"kernel_size\":(1,7), \"bias\":False, \"padding\":(0,3), },},\n",
    "    {\"class\": \"ReLU\", \"kargs\": {\"inplace\": True}},\n",
    "    {\"class\": \"BatchNorm2d\", \"kargs\": {\"num_features\":256}},\n",
    "\n",
    "    {\"class\": \"Conv2d\", \"kargs\": { \"in_channels\":256, \"out_channels\":80, \"kernel_size\":(2,7), \"bias\":True, \"padding\":(0,3), },},\n",
    "    {\"class\": \"ReLU\", \"kargs\": {\"inplace\": True}},\n",
    "    {\"class\": \"BatchNorm2d\", \"kargs\": {\"num_features\":80}},\n",
    "    {\"class\": \"Flatten\", \"kargs\": {}},\n",
    "\n",
    "    {\"class\": \"Linear\", \"kargs\": {\"in_features\": 80*256, \"out_features\": 256}}, # 80 units per IQ pair\n",
    "    {\"class\": \"ReLU\", \"kargs\": {\"inplace\": True}},\n",
    "    {\"class\": \"BatchNorm1d\", \"kargs\": {\"num_features\":256}},\n",
    "\n",
    "    {\"class\": \"Linear\", \"kargs\": {\"in_features\": 256, \"out_features\": 256}},\n",
    "]\n",
    "\n",
    "# Parameters relevant to results\n",
    "# These parameters will basically never need to change\n",
    "standalone_parameters[\"NUM_LOGS_PER_EPOCH\"] = 10\n",
    "standalone_parameters[\"BEST_MODEL_PATH\"] = \"./best_model.pth\"\n",
    "\n",
    "\n",
    "\n",
    "\n"
   ]
  },
  {
   "cell_type": "code",
   "execution_count": 4,
   "id": "1a8b3bc5",
   "metadata": {
    "execution": {
     "iopub.execute_input": "2022-03-24T07:16:18.701015Z",
     "iopub.status.busy": "2022-03-24T07:16:18.700610Z",
     "iopub.status.idle": "2022-03-24T07:16:18.714183Z",
     "shell.execute_reply": "2022-03-24T07:16:18.713747Z"
    },
    "papermill": {
     "duration": 0.032939,
     "end_time": "2022-03-24T07:16:18.714272",
     "exception": false,
     "start_time": "2022-03-24T07:16:18.681333",
     "status": "completed"
    },
    "tags": [
     "injected-parameters"
    ]
   },
   "outputs": [],
   "source": [
    "# Parameters\n",
    "parameters = {\n",
    "    \"experiment_name\": \"tl_1v2:oracle.run1-oracle.run2\",\n",
    "    \"device\": \"cuda\",\n",
    "    \"lr\": 0.0001,\n",
    "    \"n_shot\": 3,\n",
    "    \"n_query\": 2,\n",
    "    \"train_k_factor\": 3,\n",
    "    \"val_k_factor\": 2,\n",
    "    \"test_k_factor\": 2,\n",
    "    \"torch_default_dtype\": \"torch.float32\",\n",
    "    \"n_epoch\": 50,\n",
    "    \"patience\": 3,\n",
    "    \"criteria_for_best\": \"target_accuracy\",\n",
    "    \"x_net\": [\n",
    "        {\"class\": \"nnReshape\", \"kargs\": {\"shape\": [-1, 1, 2, 256]}},\n",
    "        {\n",
    "            \"class\": \"Conv2d\",\n",
    "            \"kargs\": {\n",
    "                \"in_channels\": 1,\n",
    "                \"out_channels\": 256,\n",
    "                \"kernel_size\": [1, 7],\n",
    "                \"bias\": False,\n",
    "                \"padding\": [0, 3],\n",
    "            },\n",
    "        },\n",
    "        {\"class\": \"ReLU\", \"kargs\": {\"inplace\": True}},\n",
    "        {\"class\": \"BatchNorm2d\", \"kargs\": {\"num_features\": 256}},\n",
    "        {\n",
    "            \"class\": \"Conv2d\",\n",
    "            \"kargs\": {\n",
    "                \"in_channels\": 256,\n",
    "                \"out_channels\": 80,\n",
    "                \"kernel_size\": [2, 7],\n",
    "                \"bias\": True,\n",
    "                \"padding\": [0, 3],\n",
    "            },\n",
    "        },\n",
    "        {\"class\": \"ReLU\", \"kargs\": {\"inplace\": True}},\n",
    "        {\"class\": \"BatchNorm2d\", \"kargs\": {\"num_features\": 80}},\n",
    "        {\"class\": \"Flatten\", \"kargs\": {}},\n",
    "        {\"class\": \"Linear\", \"kargs\": {\"in_features\": 20480, \"out_features\": 256}},\n",
    "        {\"class\": \"ReLU\", \"kargs\": {\"inplace\": True}},\n",
    "        {\"class\": \"BatchNorm1d\", \"kargs\": {\"num_features\": 256}},\n",
    "        {\"class\": \"Linear\", \"kargs\": {\"in_features\": 256, \"out_features\": 256}},\n",
    "    ],\n",
    "    \"NUM_LOGS_PER_EPOCH\": 10,\n",
    "    \"BEST_MODEL_PATH\": \"./best_model.pth\",\n",
    "    \"n_way\": 16,\n",
    "    \"datasets\": [\n",
    "        {\n",
    "            \"labels\": [\n",
    "                \"3123D52\",\n",
    "                \"3123D65\",\n",
    "                \"3123D79\",\n",
    "                \"3123D80\",\n",
    "                \"3123D54\",\n",
    "                \"3123D70\",\n",
    "                \"3123D7B\",\n",
    "                \"3123D89\",\n",
    "                \"3123D58\",\n",
    "                \"3123D76\",\n",
    "                \"3123D7D\",\n",
    "                \"3123EFE\",\n",
    "                \"3123D64\",\n",
    "                \"3123D78\",\n",
    "                \"3123D7E\",\n",
    "                \"3124E4A\",\n",
    "            ],\n",
    "            \"domains\": [32, 38, 8, 44, 14, 50, 20, 26],\n",
    "            \"num_examples_per_domain_per_label\": 10000,\n",
    "            \"pickle_path\": \"/mnt/wd500GB/CSC500/csc500-main/datasets/oracle.Run1_10kExamples_stratified_ds.2022A.pkl\",\n",
    "            \"source_or_target_dataset\": \"target\",\n",
    "            \"x_transforms\": [\"unit_power\"],\n",
    "            \"episode_transforms\": [],\n",
    "            \"domain_prefix\": \"ORACLE.run1_\",\n",
    "        },\n",
    "        {\n",
    "            \"labels\": [\n",
    "                \"3123D52\",\n",
    "                \"3123D65\",\n",
    "                \"3123D79\",\n",
    "                \"3123D80\",\n",
    "                \"3123D54\",\n",
    "                \"3123D70\",\n",
    "                \"3123D7B\",\n",
    "                \"3123D89\",\n",
    "                \"3123D58\",\n",
    "                \"3123D76\",\n",
    "                \"3123D7D\",\n",
    "                \"3123EFE\",\n",
    "                \"3123D64\",\n",
    "                \"3123D78\",\n",
    "                \"3123D7E\",\n",
    "                \"3124E4A\",\n",
    "            ],\n",
    "            \"domains\": [32, 38, 8, 44, 14, 50, 20, 26],\n",
    "            \"num_examples_per_domain_per_label\": 10000,\n",
    "            \"pickle_path\": \"/mnt/wd500GB/CSC500/csc500-main/datasets/oracle.Run2_10kExamples_stratified_ds.2022A.pkl\",\n",
    "            \"source_or_target_dataset\": \"source\",\n",
    "            \"x_transforms\": [\"unit_power\"],\n",
    "            \"episode_transforms\": [],\n",
    "            \"domain_prefix\": \"ORACLE.run2_\",\n",
    "        },\n",
    "    ],\n",
    "    \"dataset_seed\": 420,\n",
    "    \"seed\": 420,\n",
    "}\n"
   ]
  },
  {
   "cell_type": "code",
   "execution_count": 5,
   "id": "8fa1cc33",
   "metadata": {
    "execution": {
     "iopub.execute_input": "2022-03-24T07:16:18.748620Z",
     "iopub.status.busy": "2022-03-24T07:16:18.748372Z",
     "iopub.status.idle": "2022-03-24T07:16:18.761045Z",
     "shell.execute_reply": "2022-03-24T07:16:18.760658Z"
    },
    "papermill": {
     "duration": 0.028849,
     "end_time": "2022-03-24T07:16:18.761133",
     "exception": false,
     "start_time": "2022-03-24T07:16:18.732284",
     "status": "completed"
    },
    "tags": []
   },
   "outputs": [],
   "source": [
    "# Set this to True if you want to run this template directly\n",
    "STANDALONE = False\n",
    "if STANDALONE:\n",
    "    print(\"parameters not injected, running with standalone_parameters\")\n",
    "    parameters = standalone_parameters\n",
    "\n",
    "if not 'parameters' in locals() and not 'parameters' in globals():\n",
    "    raise Exception(\"Parameter injection failed\")\n",
    "\n",
    "#Use an easy dict for all the parameters\n",
    "p = EasyDict(parameters)\n",
    "\n",
    "if \"x_shape\" not in p:\n",
    "    p.x_shape = [2,256] # Default to this if we dont supply x_shape\n",
    "\n",
    "\n",
    "supplied_keys = set(p.keys())\n",
    "\n",
    "if  supplied_keys != required_parameters:\n",
    "    print(\"Parameters are incorrect\")\n",
    "    if len(supplied_keys - required_parameters)>0: print(\"Shouldn't have:\", str(supplied_keys - required_parameters))\n",
    "    if len(required_parameters - supplied_keys)>0: print(\"Need to have:\", str(required_parameters - supplied_keys))\n",
    "    raise RuntimeError(\"Parameters are incorrect\")"
   ]
  },
  {
   "cell_type": "code",
   "execution_count": 6,
   "id": "3a028d58",
   "metadata": {
    "execution": {
     "iopub.execute_input": "2022-03-24T07:16:18.793127Z",
     "iopub.status.busy": "2022-03-24T07:16:18.792712Z",
     "iopub.status.idle": "2022-03-24T07:16:18.806820Z",
     "shell.execute_reply": "2022-03-24T07:16:18.806426Z"
    },
    "papermill": {
     "duration": 0.028764,
     "end_time": "2022-03-24T07:16:18.806910",
     "exception": false,
     "start_time": "2022-03-24T07:16:18.778146",
     "status": "completed"
    },
    "tags": []
   },
   "outputs": [],
   "source": [
    "###################################\n",
    "# Set the RNGs and make it all deterministic\n",
    "###################################\n",
    "np.random.seed(p.seed)\n",
    "random.seed(p.seed)\n",
    "torch.manual_seed(p.seed)\n",
    "\n",
    "torch.use_deterministic_algorithms(True) "
   ]
  },
  {
   "cell_type": "code",
   "execution_count": 7,
   "id": "b691acf6",
   "metadata": {
    "execution": {
     "iopub.execute_input": "2022-03-24T07:16:18.842473Z",
     "iopub.status.busy": "2022-03-24T07:16:18.837479Z",
     "iopub.status.idle": "2022-03-24T07:16:18.852282Z",
     "shell.execute_reply": "2022-03-24T07:16:18.852688Z"
    },
    "papermill": {
     "duration": 0.029849,
     "end_time": "2022-03-24T07:16:18.852808",
     "exception": false,
     "start_time": "2022-03-24T07:16:18.822959",
     "status": "completed"
    },
    "tags": []
   },
   "outputs": [],
   "source": [
    "###########################################\n",
    "# The stratified datasets honor this\n",
    "###########################################\n",
    "torch.set_default_dtype(eval(p.torch_default_dtype))"
   ]
  },
  {
   "cell_type": "code",
   "execution_count": 8,
   "id": "b5fba671",
   "metadata": {
    "execution": {
     "iopub.execute_input": "2022-03-24T07:16:18.887308Z",
     "iopub.status.busy": "2022-03-24T07:16:18.884890Z",
     "iopub.status.idle": "2022-03-24T07:16:18.925152Z",
     "shell.execute_reply": "2022-03-24T07:16:18.924704Z"
    },
    "papermill": {
     "duration": 0.055181,
     "end_time": "2022-03-24T07:16:18.925239",
     "exception": false,
     "start_time": "2022-03-24T07:16:18.870058",
     "status": "completed"
    },
    "tags": []
   },
   "outputs": [],
   "source": [
    "###################################\n",
    "# Build the network(s)\n",
    "# Note: It's critical to do this AFTER setting the RNG\n",
    "###################################\n",
    "x_net = build_sequential(p.x_net)"
   ]
  },
  {
   "cell_type": "code",
   "execution_count": 9,
   "id": "5d7e61cc",
   "metadata": {
    "execution": {
     "iopub.execute_input": "2022-03-24T07:16:18.957727Z",
     "iopub.status.busy": "2022-03-24T07:16:18.957483Z",
     "iopub.status.idle": "2022-03-24T07:16:18.968595Z",
     "shell.execute_reply": "2022-03-24T07:16:18.968092Z"
    },
    "papermill": {
     "duration": 0.026295,
     "end_time": "2022-03-24T07:16:18.968696",
     "exception": false,
     "start_time": "2022-03-24T07:16:18.942401",
     "status": "completed"
    },
    "tags": []
   },
   "outputs": [],
   "source": [
    "start_time_secs = time.time()"
   ]
  },
  {
   "cell_type": "code",
   "execution_count": 10,
   "id": "c6b67dfd",
   "metadata": {
    "execution": {
     "iopub.execute_input": "2022-03-24T07:16:19.014852Z",
     "iopub.status.busy": "2022-03-24T07:16:19.002050Z",
     "iopub.status.idle": "2022-03-24T07:16:19.017455Z",
     "shell.execute_reply": "2022-03-24T07:16:19.017844Z"
    },
    "papermill": {
     "duration": 0.031239,
     "end_time": "2022-03-24T07:16:19.017957",
     "exception": false,
     "start_time": "2022-03-24T07:16:18.986718",
     "status": "completed"
    },
    "tags": []
   },
   "outputs": [],
   "source": [
    "p.domains_source = []\n",
    "p.domains_target = []\n",
    "\n",
    "\n",
    "train_original_source = []\n",
    "val_original_source   = []\n",
    "test_original_source  = []\n",
    "\n",
    "train_original_target = []\n",
    "val_original_target   = []\n",
    "test_original_target  = []"
   ]
  },
  {
   "cell_type": "code",
   "execution_count": 11,
   "id": "e3d9c3d3",
   "metadata": {
    "execution": {
     "iopub.execute_input": "2022-03-24T07:16:19.051761Z",
     "iopub.status.busy": "2022-03-24T07:16:19.051514Z",
     "iopub.status.idle": "2022-03-24T07:16:19.061413Z",
     "shell.execute_reply": "2022-03-24T07:16:19.061035Z"
    },
    "papermill": {
     "duration": 0.026362,
     "end_time": "2022-03-24T07:16:19.061500",
     "exception": false,
     "start_time": "2022-03-24T07:16:19.035138",
     "status": "completed"
    },
    "tags": []
   },
   "outputs": [],
   "source": [
    "# global_x_transform_func = lambda x: normalize(x.to(torch.get_default_dtype()), \"unit_power\") # unit_power, unit_mag\n",
    "# global_x_transform_func = lambda x: normalize(x, \"unit_power\") # unit_power, unit_mag"
   ]
  },
  {
   "cell_type": "code",
   "execution_count": 12,
   "id": "acb78fd2",
   "metadata": {
    "execution": {
     "iopub.execute_input": "2022-03-24T07:16:19.103590Z",
     "iopub.status.busy": "2022-03-24T07:16:19.100898Z",
     "iopub.status.idle": "2022-03-24T07:16:19.112016Z",
     "shell.execute_reply": "2022-03-24T07:16:19.111520Z"
    },
    "papermill": {
     "duration": 0.033544,
     "end_time": "2022-03-24T07:16:19.112118",
     "exception": false,
     "start_time": "2022-03-24T07:16:19.078574",
     "status": "completed"
    },
    "tags": []
   },
   "outputs": [],
   "source": [
    "def add_dataset(\n",
    "    labels,\n",
    "    domains,\n",
    "    pickle_path,\n",
    "    x_transforms,\n",
    "    episode_transforms,\n",
    "    domain_prefix,\n",
    "    num_examples_per_domain_per_label,\n",
    "    source_or_target_dataset:str,\n",
    "    iterator_seed=p.seed,\n",
    "    dataset_seed=p.dataset_seed,\n",
    "    n_shot=p.n_shot,\n",
    "    n_way=p.n_way,\n",
    "    n_query=p.n_query,\n",
    "    train_val_test_k_factors=(p.train_k_factor,p.val_k_factor,p.test_k_factor),\n",
    "):\n",
    "   \n",
    "    if x_transforms == []: x_transform = None\n",
    "    else: x_transform = get_chained_transform(x_transforms)\n",
    "    \n",
    "    if episode_transforms == []: episode_transform = None\n",
    "    else: raise Exception(\"episode_transforms not implemented\")\n",
    "    \n",
    "    episode_transform = lambda tup, _prefix=domain_prefix: (_prefix + str(tup[0]), tup[1])\n",
    "\n",
    "\n",
    "    eaf = Episodic_Accessor_Factory(\n",
    "        labels=labels,\n",
    "        domains=domains,\n",
    "        num_examples_per_domain_per_label=num_examples_per_domain_per_label,\n",
    "        iterator_seed=iterator_seed,\n",
    "        dataset_seed=dataset_seed,\n",
    "        n_shot=n_shot,\n",
    "        n_way=n_way,\n",
    "        n_query=n_query,\n",
    "        train_val_test_k_factors=train_val_test_k_factors,\n",
    "        pickle_path=pickle_path,\n",
    "        x_transform_func=x_transform,\n",
    "    )\n",
    "\n",
    "    train, val, test = eaf.get_train(), eaf.get_val(), eaf.get_test()\n",
    "    train = Lazy_Iterable_Wrapper(train, episode_transform)\n",
    "    val = Lazy_Iterable_Wrapper(val, episode_transform)\n",
    "    test = Lazy_Iterable_Wrapper(test, episode_transform)\n",
    "\n",
    "    if source_or_target_dataset==\"source\":\n",
    "        train_original_source.append(train)\n",
    "        val_original_source.append(val)\n",
    "        test_original_source.append(test)\n",
    "\n",
    "        p.domains_source.extend(\n",
    "            [domain_prefix + str(u) for u in domains]\n",
    "        )\n",
    "    elif source_or_target_dataset==\"target\":\n",
    "        train_original_target.append(train)\n",
    "        val_original_target.append(val)\n",
    "        test_original_target.append(test)\n",
    "        p.domains_target.extend(\n",
    "            [domain_prefix + str(u) for u in domains]\n",
    "        )\n",
    "    else:\n",
    "        raise Exception(f\"invalid source_or_target_dataset: {source_or_target_dataset}\")\n",
    "    "
   ]
  },
  {
   "cell_type": "code",
   "execution_count": 13,
   "id": "fe266617",
   "metadata": {
    "execution": {
     "iopub.execute_input": "2022-03-24T07:16:19.152508Z",
     "iopub.status.busy": "2022-03-24T07:16:19.145334Z",
     "iopub.status.idle": "2022-03-24T07:18:56.520163Z",
     "shell.execute_reply": "2022-03-24T07:18:56.519771Z"
    },
    "papermill": {
     "duration": 157.389749,
     "end_time": "2022-03-24T07:18:56.520252",
     "exception": false,
     "start_time": "2022-03-24T07:16:19.130503",
     "status": "completed"
    },
    "tags": []
   },
   "outputs": [],
   "source": [
    "for ds in p.datasets:\n",
    "    add_dataset(**ds)"
   ]
  },
  {
   "cell_type": "code",
   "execution_count": 14,
   "id": "b90d65ac",
   "metadata": {
    "execution": {
     "iopub.execute_input": "2022-03-24T07:18:56.560788Z",
     "iopub.status.busy": "2022-03-24T07:18:56.560523Z",
     "iopub.status.idle": "2022-03-24T07:18:56.571630Z",
     "shell.execute_reply": "2022-03-24T07:18:56.571146Z"
    },
    "papermill": {
     "duration": 0.029586,
     "end_time": "2022-03-24T07:18:56.571737",
     "exception": false,
     "start_time": "2022-03-24T07:18:56.542151",
     "status": "completed"
    },
    "tags": []
   },
   "outputs": [],
   "source": [
    "# from steves_utils.CORES.utils import (\n",
    "#     ALL_NODES,\n",
    "#     ALL_NODES_MINIMUM_1000_EXAMPLES,\n",
    "#     ALL_DAYS\n",
    "# )\n",
    "\n",
    "# add_dataset(\n",
    "#     labels=ALL_NODES,\n",
    "#     domains = ALL_DAYS,\n",
    "#     num_examples_per_domain_per_label=100,\n",
    "#     pickle_path=os.path.join(get_datasets_base_path(), \"cores.stratified_ds.2022A.pkl\"),\n",
    "#     source_or_target_dataset=\"target\",\n",
    "#     x_transform_func=global_x_transform_func,\n",
    "#     domain_modifier=lambda u: f\"cores_{u}\"\n",
    "# )"
   ]
  },
  {
   "cell_type": "code",
   "execution_count": 15,
   "id": "76db484d",
   "metadata": {
    "execution": {
     "iopub.execute_input": "2022-03-24T07:18:56.606365Z",
     "iopub.status.busy": "2022-03-24T07:18:56.606109Z",
     "iopub.status.idle": "2022-03-24T07:18:56.620510Z",
     "shell.execute_reply": "2022-03-24T07:18:56.620064Z"
    },
    "papermill": {
     "duration": 0.029916,
     "end_time": "2022-03-24T07:18:56.620601",
     "exception": false,
     "start_time": "2022-03-24T07:18:56.590685",
     "status": "completed"
    },
    "tags": []
   },
   "outputs": [],
   "source": [
    "# from steves_utils.ORACLE.utils_v2 import (\n",
    "#     ALL_DISTANCES_FEET,\n",
    "#     ALL_RUNS,\n",
    "#     ALL_SERIAL_NUMBERS,\n",
    "# )\n",
    "\n",
    "\n",
    "# add_dataset(\n",
    "#     labels=ALL_SERIAL_NUMBERS,\n",
    "#     domains = list(set(ALL_DISTANCES_FEET) - {2,62}),\n",
    "#     num_examples_per_domain_per_label=100,\n",
    "#     pickle_path=os.path.join(get_datasets_base_path(), \"oracle.Run2_framed_2000Examples_stratified_ds.2022A.pkl\"),\n",
    "#     source_or_target_dataset=\"source\",\n",
    "#     x_transform_func=global_x_transform_func,\n",
    "#     domain_modifier=lambda u: f\"oracle1_{u}\"\n",
    "# )\n"
   ]
  },
  {
   "cell_type": "code",
   "execution_count": 16,
   "id": "97dea9d2",
   "metadata": {
    "execution": {
     "iopub.execute_input": "2022-03-24T07:18:56.654066Z",
     "iopub.status.busy": "2022-03-24T07:18:56.653808Z",
     "iopub.status.idle": "2022-03-24T07:18:56.663393Z",
     "shell.execute_reply": "2022-03-24T07:18:56.663042Z"
    },
    "papermill": {
     "duration": 0.02458,
     "end_time": "2022-03-24T07:18:56.663465",
     "exception": false,
     "start_time": "2022-03-24T07:18:56.638885",
     "status": "completed"
    },
    "tags": []
   },
   "outputs": [],
   "source": [
    "# from steves_utils.ORACLE.utils_v2 import (\n",
    "#     ALL_DISTANCES_FEET,\n",
    "#     ALL_RUNS,\n",
    "#     ALL_SERIAL_NUMBERS,\n",
    "# )\n",
    "\n",
    "\n",
    "# add_dataset(\n",
    "#     labels=ALL_SERIAL_NUMBERS,\n",
    "#     domains = list(set(ALL_DISTANCES_FEET) - {2,62,56}),\n",
    "#     num_examples_per_domain_per_label=100,\n",
    "#     pickle_path=os.path.join(get_datasets_base_path(), \"oracle.Run2_framed_2000Examples_stratified_ds.2022A.pkl\"),\n",
    "#     source_or_target_dataset=\"source\",\n",
    "#     x_transform_func=global_x_transform_func,\n",
    "#     domain_modifier=lambda u: f\"oracle2_{u}\"\n",
    "# )"
   ]
  },
  {
   "cell_type": "code",
   "execution_count": 17,
   "id": "6f289866",
   "metadata": {
    "execution": {
     "iopub.execute_input": "2022-03-24T07:18:56.698338Z",
     "iopub.status.busy": "2022-03-24T07:18:56.698079Z",
     "iopub.status.idle": "2022-03-24T07:18:56.707855Z",
     "shell.execute_reply": "2022-03-24T07:18:56.707474Z"
    },
    "papermill": {
     "duration": 0.026447,
     "end_time": "2022-03-24T07:18:56.707931",
     "exception": false,
     "start_time": "2022-03-24T07:18:56.681484",
     "status": "completed"
    },
    "tags": []
   },
   "outputs": [],
   "source": [
    "# add_dataset(\n",
    "#     labels=list(range(19)),\n",
    "#     domains = [0,1,2],\n",
    "#     num_examples_per_domain_per_label=100,\n",
    "#     pickle_path=os.path.join(get_datasets_base_path(), \"metehan.stratified_ds.2022A.pkl\"),\n",
    "#     source_or_target_dataset=\"target\",\n",
    "#     x_transform_func=global_x_transform_func,\n",
    "#     domain_modifier=lambda u: f\"met_{u}\"\n",
    "# )"
   ]
  },
  {
   "cell_type": "code",
   "execution_count": 18,
   "id": "86a863c3",
   "metadata": {
    "execution": {
     "iopub.execute_input": "2022-03-24T07:18:56.741858Z",
     "iopub.status.busy": "2022-03-24T07:18:56.741596Z",
     "iopub.status.idle": "2022-03-24T07:18:56.752978Z",
     "shell.execute_reply": "2022-03-24T07:18:56.752627Z"
    },
    "papermill": {
     "duration": 0.027098,
     "end_time": "2022-03-24T07:18:56.753069",
     "exception": false,
     "start_time": "2022-03-24T07:18:56.725971",
     "status": "completed"
    },
    "tags": []
   },
   "outputs": [],
   "source": [
    "# # from steves_utils.wisig.utils import (\n",
    "# #     ALL_NODES_MINIMUM_100_EXAMPLES,\n",
    "# #     ALL_NODES_MINIMUM_500_EXAMPLES,\n",
    "# #     ALL_NODES_MINIMUM_1000_EXAMPLES,\n",
    "# #     ALL_DAYS\n",
    "# # )\n",
    "\n",
    "# import steves_utils.wisig.utils as wisig\n",
    "\n",
    "\n",
    "# add_dataset(\n",
    "#     labels=wisig.ALL_NODES_MINIMUM_100_EXAMPLES,\n",
    "#     domains = wisig.ALL_DAYS,\n",
    "#     num_examples_per_domain_per_label=100,\n",
    "#     pickle_path=os.path.join(get_datasets_base_path(), \"wisig.node3-19.stratified_ds.2022A.pkl\"),\n",
    "#     source_or_target_dataset=\"target\",\n",
    "#     x_transform_func=global_x_transform_func,\n",
    "#     domain_modifier=lambda u: f\"wisig_{u}\"\n",
    "# )"
   ]
  },
  {
   "cell_type": "code",
   "execution_count": 19,
   "id": "fd5442bc",
   "metadata": {
    "execution": {
     "iopub.execute_input": "2022-03-24T07:18:56.787955Z",
     "iopub.status.busy": "2022-03-24T07:18:56.787699Z",
     "iopub.status.idle": "2022-03-24T07:18:56.800957Z",
     "shell.execute_reply": "2022-03-24T07:18:56.800565Z"
    },
    "papermill": {
     "duration": 0.030043,
     "end_time": "2022-03-24T07:18:56.801046",
     "exception": false,
     "start_time": "2022-03-24T07:18:56.771003",
     "status": "completed"
    },
    "tags": []
   },
   "outputs": [],
   "source": [
    "###################################\n",
    "# Build the dataset\n",
    "###################################\n",
    "train_original_source = Iterable_Aggregator(train_original_source, p.seed)\n",
    "val_original_source = Iterable_Aggregator(val_original_source, p.seed)\n",
    "test_original_source = Iterable_Aggregator(test_original_source, p.seed)\n",
    "\n",
    "\n",
    "train_original_target = Iterable_Aggregator(train_original_target, p.seed)\n",
    "val_original_target = Iterable_Aggregator(val_original_target, p.seed)\n",
    "test_original_target = Iterable_Aggregator(test_original_target, p.seed)\n",
    "\n",
    "# For CNN We only use X and Y. And we only train on the source.\n",
    "# Properly form the data using a transform lambda and Lazy_Iterable_Wrapper. Finally wrap them in a dataloader\n",
    "\n",
    "transform_lambda = lambda ex: ex[1] # Original is (<domain>, <episode>) so we strip down to episode only\n",
    "\n",
    "train_processed_source = Lazy_Iterable_Wrapper(train_original_source, transform_lambda)\n",
    "val_processed_source   = Lazy_Iterable_Wrapper(val_original_source, transform_lambda)\n",
    "test_processed_source  = Lazy_Iterable_Wrapper(test_original_source, transform_lambda)\n",
    "\n",
    "train_processed_target = Lazy_Iterable_Wrapper(train_original_target, transform_lambda)\n",
    "val_processed_target   = Lazy_Iterable_Wrapper(val_original_target, transform_lambda)\n",
    "test_processed_target  = Lazy_Iterable_Wrapper(test_original_target, transform_lambda)\n",
    "\n",
    "datasets = EasyDict({\n",
    "    \"source\": {\n",
    "        \"original\": {\"train\":train_original_source, \"val\":val_original_source, \"test\":test_original_source},\n",
    "        \"processed\": {\"train\":train_processed_source, \"val\":val_processed_source, \"test\":test_processed_source}\n",
    "    },\n",
    "    \"target\": {\n",
    "        \"original\": {\"train\":train_original_target, \"val\":val_original_target, \"test\":test_original_target},\n",
    "        \"processed\": {\"train\":train_processed_target, \"val\":val_processed_target, \"test\":test_processed_target}\n",
    "    },\n",
    "})"
   ]
  },
  {
   "cell_type": "code",
   "execution_count": 20,
   "id": "5b3c01fc",
   "metadata": {
    "execution": {
     "iopub.execute_input": "2022-03-24T07:18:56.859394Z",
     "iopub.status.busy": "2022-03-24T07:18:56.859139Z",
     "iopub.status.idle": "2022-03-24T07:19:22.068498Z",
     "shell.execute_reply": "2022-03-24T07:19:22.068967Z"
    },
    "papermill": {
     "duration": 25.226005,
     "end_time": "2022-03-24T07:19:22.069096",
     "exception": false,
     "start_time": "2022-03-24T07:18:56.843091",
     "status": "completed"
    },
    "tags": []
   },
   "outputs": [
    {
     "name": "stdout",
     "output_type": "stream",
     "text": [
      "{'ORACLE.run2_20', 'ORACLE.run2_26', 'ORACLE.run2_50', 'ORACLE.run2_32', 'ORACLE.run2_38', 'ORACLE.run2_8', 'ORACLE.run2_14', 'ORACLE.run2_44'}\n"
     ]
    },
    {
     "name": "stdout",
     "output_type": "stream",
     "text": [
      "{'ORACLE.run1_38', 'ORACLE.run1_32', 'ORACLE.run1_50', 'ORACLE.run1_26', 'ORACLE.run1_44', 'ORACLE.run1_8', 'ORACLE.run1_20', 'ORACLE.run1_14'}\n"
     ]
    },
    {
     "name": "stdout",
     "output_type": "stream",
     "text": [
      "tensor([[[-0.5113, -0.4462,  0.1766,  ...,  0.3811,  0.1487, -0.0930],\n",
      "         [-0.0465,  0.1301, -0.3997,  ..., -0.6228,  0.3532, -1.1434]],\n",
      "\n",
      "        [[ 0.4977,  0.6153, -0.3438,  ..., -0.0090,  1.8278,  0.9863],\n",
      "         [ 0.4705,  1.2396, -0.2081,  ..., -1.0225, -1.4568, -1.2396]],\n",
      "\n",
      "        [[ 0.4930, -0.3256, -0.5117,  ...,  0.1488,  0.3535,  0.2233],\n",
      "         [ 0.5954,  0.2233, -0.2419,  ..., -1.0791, -0.6977, -0.1768]],\n",
      "\n",
      "        ...,\n",
      "\n",
      "        [[ 0.1458,  0.1259,  0.0862,  ..., -0.9015, -1.4583, -0.2254],\n",
      "         [ 0.2652,  0.1922, -0.4176,  ..., -0.8551,  0.8286, -1.2396]],\n",
      "\n",
      "        [[ 0.1540,  1.0640, -0.2800,  ..., -0.9240,  0.5250,  0.0840],\n",
      "         [-0.8540, -0.3780,  0.6580,  ...,  0.4200, -0.9170, -0.8820]],\n",
      "\n",
      "        [[-0.0325, -0.2338, -0.3118,  ...,  1.6823,  0.6950,  0.1494],\n",
      "         [ 1.1432, -1.1107, -0.9029,  ..., -0.9613, -0.3053,  0.4027]]])\n"
     ]
    }
   ],
   "source": [
    "from steves_utils.transforms import get_average_magnitude, get_average_power\n",
    "\n",
    "print(set([u for u,_ in val_original_source]))\n",
    "print(set([u for u,_ in val_original_target]))\n",
    "\n",
    "s_x, s_y, q_x, q_y, _ = next(iter(train_processed_source))\n",
    "print(s_x)\n",
    "\n",
    "# for ds in [\n",
    "#     train_processed_source,\n",
    "#     val_processed_source,\n",
    "#     test_processed_source,\n",
    "#     train_processed_target,\n",
    "#     val_processed_target,\n",
    "#     test_processed_target\n",
    "# ]:\n",
    "#     for s_x, s_y, q_x, q_y, _ in ds:\n",
    "#         for X in (s_x, q_x):\n",
    "#             for x in X:\n",
    "#                 assert np.isclose(get_average_magnitude(x.numpy()), 1.0)\n",
    "#                 assert np.isclose(get_average_power(x.numpy()), 1.0)\n",
    "                "
   ]
  },
  {
   "cell_type": "code",
   "execution_count": 21,
   "id": "bbdacba1",
   "metadata": {
    "execution": {
     "iopub.execute_input": "2022-03-24T07:19:22.114357Z",
     "iopub.status.busy": "2022-03-24T07:19:22.106397Z",
     "iopub.status.idle": "2022-03-24T07:19:22.171804Z",
     "shell.execute_reply": "2022-03-24T07:19:22.171354Z"
    },
    "papermill": {
     "duration": 0.084461,
     "end_time": "2022-03-24T07:19:22.171898",
     "exception": false,
     "start_time": "2022-03-24T07:19:22.087437",
     "status": "completed"
    },
    "tags": []
   },
   "outputs": [
    {
     "name": "stdout",
     "output_type": "stream",
     "text": [
      "(2, 256)\n"
     ]
    }
   ],
   "source": [
    "###################################\n",
    "# Build the model\n",
    "###################################\n",
    "# easfsl only wants a tuple for the shape\n",
    "model = Steves_Prototypical_Network(x_net, device=p.device, x_shape=tuple(p.x_shape))\n",
    "optimizer = Adam(params=model.parameters(), lr=p.lr)"
   ]
  },
  {
   "cell_type": "code",
   "execution_count": 22,
   "id": "22b39ac5",
   "metadata": {
    "execution": {
     "iopub.execute_input": "2022-03-24T07:19:22.209599Z",
     "iopub.status.busy": "2022-03-24T07:19:22.209268Z",
     "iopub.status.idle": "2022-03-24T09:51:28.212952Z",
     "shell.execute_reply": "2022-03-24T09:51:28.212724Z"
    },
    "papermill": {
     "duration": 9126.021814,
     "end_time": "2022-03-24T09:51:28.213010",
     "exception": false,
     "start_time": "2022-03-24T07:19:22.191196",
     "status": "completed"
    },
    "tags": []
   },
   "outputs": [
    {
     "name": "stdout",
     "output_type": "stream",
     "text": [
      "epoch: 1, [batch: 1 / 33600], examples_per_second: 9.7888, train_label_loss: 2.7685, \n"
     ]
    },
    {
     "name": "stdout",
     "output_type": "stream",
     "text": [
      "epoch: 1, [batch: 3360 / 33600], examples_per_second: 3217.6225, train_label_loss: 1.5624, \n"
     ]
    },
    {
     "name": "stdout",
     "output_type": "stream",
     "text": [
      "epoch: 1, [batch: 6720 / 33600], examples_per_second: 3212.8726, train_label_loss: 0.6146, \n"
     ]
    },
    {
     "name": "stdout",
     "output_type": "stream",
     "text": [
      "epoch: 1, [batch: 10080 / 33600], examples_per_second: 3215.5094, train_label_loss: 0.8352, \n"
     ]
    },
    {
     "name": "stdout",
     "output_type": "stream",
     "text": [
      "epoch: 1, [batch: 13440 / 33600], examples_per_second: 3196.8287, train_label_loss: 0.8808, \n"
     ]
    },
    {
     "name": "stdout",
     "output_type": "stream",
     "text": [
      "epoch: 1, [batch: 16800 / 33600], examples_per_second: 3209.6309, train_label_loss: 0.6655, \n"
     ]
    },
    {
     "name": "stdout",
     "output_type": "stream",
     "text": [
      "epoch: 1, [batch: 20160 / 33600], examples_per_second: 3213.2213, train_label_loss: 1.2244, \n"
     ]
    },
    {
     "name": "stdout",
     "output_type": "stream",
     "text": [
      "epoch: 1, [batch: 23520 / 33600], examples_per_second: 3203.2172, train_label_loss: 0.7775, \n"
     ]
    },
    {
     "name": "stdout",
     "output_type": "stream",
     "text": [
      "epoch: 1, [batch: 26880 / 33600], examples_per_second: 3210.7966, train_label_loss: 0.6618, \n"
     ]
    },
    {
     "name": "stdout",
     "output_type": "stream",
     "text": [
      "epoch: 1, [batch: 30240 / 33600], examples_per_second: 3216.9729, train_label_loss: 0.7911, \n"
     ]
    },
    {
     "name": "stdout",
     "output_type": "stream",
     "text": [
      "=============================================================\n",
      "epoch: 1, source_val_acc_label: 0.6304, target_val_acc_label: 0.6410, source_val_label_loss: 1.0025, target_val_label_loss: 0.9723, \n",
      "=============================================================\n"
     ]
    },
    {
     "name": "stdout",
     "output_type": "stream",
     "text": [
      "New best\n"
     ]
    },
    {
     "name": "stdout",
     "output_type": "stream",
     "text": [
      "epoch: 2, [batch: 1 / 33600], examples_per_second: 0.9648, train_label_loss: 0.9598, \n"
     ]
    },
    {
     "name": "stdout",
     "output_type": "stream",
     "text": [
      "epoch: 2, [batch: 3360 / 33600], examples_per_second: 3228.1795, train_label_loss: 0.6144, \n"
     ]
    },
    {
     "name": "stdout",
     "output_type": "stream",
     "text": [
      "epoch: 2, [batch: 6720 / 33600], examples_per_second: 3244.7707, train_label_loss: 1.3393, \n"
     ]
    },
    {
     "name": "stdout",
     "output_type": "stream",
     "text": [
      "epoch: 2, [batch: 10080 / 33600], examples_per_second: 3243.5070, train_label_loss: 1.3080, \n"
     ]
    },
    {
     "name": "stdout",
     "output_type": "stream",
     "text": [
      "epoch: 2, [batch: 13440 / 33600], examples_per_second: 3233.8968, train_label_loss: 0.4287, \n"
     ]
    },
    {
     "name": "stdout",
     "output_type": "stream",
     "text": [
      "epoch: 2, [batch: 16800 / 33600], examples_per_second: 3247.2683, train_label_loss: 0.6862, \n"
     ]
    },
    {
     "name": "stdout",
     "output_type": "stream",
     "text": [
      "epoch: 2, [batch: 20160 / 33600], examples_per_second: 3247.3565, train_label_loss: 0.5933, \n"
     ]
    },
    {
     "name": "stdout",
     "output_type": "stream",
     "text": [
      "epoch: 2, [batch: 23520 / 33600], examples_per_second: 3236.5551, train_label_loss: 0.5055, \n"
     ]
    },
    {
     "name": "stdout",
     "output_type": "stream",
     "text": [
      "epoch: 2, [batch: 26880 / 33600], examples_per_second: 3242.4825, train_label_loss: 0.8859, \n"
     ]
    },
    {
     "name": "stdout",
     "output_type": "stream",
     "text": [
      "epoch: 2, [batch: 30240 / 33600], examples_per_second: 3244.2620, train_label_loss: 0.6220, \n"
     ]
    },
    {
     "name": "stdout",
     "output_type": "stream",
     "text": [
      "=============================================================\n",
      "epoch: 2, source_val_acc_label: 0.6614, target_val_acc_label: 0.6738, source_val_label_loss: 0.9094, target_val_label_loss: 0.8700, \n",
      "=============================================================\n"
     ]
    },
    {
     "name": "stdout",
     "output_type": "stream",
     "text": [
      "New best\n"
     ]
    },
    {
     "name": "stdout",
     "output_type": "stream",
     "text": [
      "epoch: 3, [batch: 1 / 33600], examples_per_second: 0.9695, train_label_loss: 0.3735, \n"
     ]
    },
    {
     "name": "stdout",
     "output_type": "stream",
     "text": [
      "epoch: 3, [batch: 3360 / 33600], examples_per_second: 3215.1271, train_label_loss: 1.1516, \n"
     ]
    },
    {
     "name": "stdout",
     "output_type": "stream",
     "text": [
      "epoch: 3, [batch: 6720 / 33600], examples_per_second: 3244.7115, train_label_loss: 0.7004, \n"
     ]
    },
    {
     "name": "stdout",
     "output_type": "stream",
     "text": [
      "epoch: 3, [batch: 10080 / 33600], examples_per_second: 3236.2300, train_label_loss: 1.4174, \n"
     ]
    },
    {
     "name": "stdout",
     "output_type": "stream",
     "text": [
      "epoch: 3, [batch: 13440 / 33600], examples_per_second: 3232.9145, train_label_loss: 0.3110, \n"
     ]
    },
    {
     "name": "stdout",
     "output_type": "stream",
     "text": [
      "epoch: 3, [batch: 16800 / 33600], examples_per_second: 3247.3430, train_label_loss: 0.5225, \n"
     ]
    },
    {
     "name": "stdout",
     "output_type": "stream",
     "text": [
      "epoch: 3, [batch: 20160 / 33600], examples_per_second: 3236.0177, train_label_loss: 1.0262, \n"
     ]
    },
    {
     "name": "stdout",
     "output_type": "stream",
     "text": [
      "epoch: 3, [batch: 23520 / 33600], examples_per_second: 3236.7352, train_label_loss: 1.2639, \n"
     ]
    },
    {
     "name": "stdout",
     "output_type": "stream",
     "text": [
      "epoch: 3, [batch: 26880 / 33600], examples_per_second: 3241.3060, train_label_loss: 0.4396, \n"
     ]
    },
    {
     "name": "stdout",
     "output_type": "stream",
     "text": [
      "epoch: 3, [batch: 30240 / 33600], examples_per_second: 3247.3978, train_label_loss: 0.4492, \n"
     ]
    },
    {
     "name": "stdout",
     "output_type": "stream",
     "text": [
      "=============================================================\n",
      "epoch: 3, source_val_acc_label: 0.6814, target_val_acc_label: 0.6898, source_val_label_loss: 0.8772, target_val_label_loss: 0.8381, \n",
      "=============================================================\n"
     ]
    },
    {
     "name": "stdout",
     "output_type": "stream",
     "text": [
      "New best\n"
     ]
    },
    {
     "name": "stdout",
     "output_type": "stream",
     "text": [
      "epoch: 4, [batch: 1 / 33600], examples_per_second: 0.9689, train_label_loss: 0.3975, \n"
     ]
    },
    {
     "name": "stdout",
     "output_type": "stream",
     "text": [
      "epoch: 4, [batch: 3360 / 33600], examples_per_second: 3225.2921, train_label_loss: 0.5888, \n"
     ]
    },
    {
     "name": "stdout",
     "output_type": "stream",
     "text": [
      "epoch: 4, [batch: 6720 / 33600], examples_per_second: 3233.5607, train_label_loss: 0.9667, \n"
     ]
    },
    {
     "name": "stdout",
     "output_type": "stream",
     "text": [
      "epoch: 4, [batch: 10080 / 33600], examples_per_second: 3245.2662, train_label_loss: 0.2755, \n"
     ]
    },
    {
     "name": "stdout",
     "output_type": "stream",
     "text": [
      "epoch: 4, [batch: 13440 / 33600], examples_per_second: 3236.5256, train_label_loss: 0.5601, \n"
     ]
    },
    {
     "name": "stdout",
     "output_type": "stream",
     "text": [
      "epoch: 4, [batch: 16800 / 33600], examples_per_second: 3241.5004, train_label_loss: 0.3009, \n"
     ]
    },
    {
     "name": "stdout",
     "output_type": "stream",
     "text": [
      "epoch: 4, [batch: 20160 / 33600], examples_per_second: 3250.5915, train_label_loss: 0.9364, \n"
     ]
    },
    {
     "name": "stdout",
     "output_type": "stream",
     "text": [
      "epoch: 4, [batch: 23520 / 33600], examples_per_second: 3234.1456, train_label_loss: 0.9865, \n"
     ]
    },
    {
     "name": "stdout",
     "output_type": "stream",
     "text": [
      "epoch: 4, [batch: 26880 / 33600], examples_per_second: 3236.3027, train_label_loss: 1.0204, \n"
     ]
    },
    {
     "name": "stdout",
     "output_type": "stream",
     "text": [
      "epoch: 4, [batch: 30240 / 33600], examples_per_second: 3248.8943, train_label_loss: 0.1814, \n"
     ]
    },
    {
     "name": "stdout",
     "output_type": "stream",
     "text": [
      "=============================================================\n",
      "epoch: 4, source_val_acc_label: 0.7046, target_val_acc_label: 0.7115, source_val_label_loss: 0.8143, target_val_label_loss: 0.7822, \n",
      "=============================================================\n"
     ]
    },
    {
     "name": "stdout",
     "output_type": "stream",
     "text": [
      "New best\n"
     ]
    },
    {
     "name": "stdout",
     "output_type": "stream",
     "text": [
      "epoch: 5, [batch: 1 / 33600], examples_per_second: 0.9715, train_label_loss: 0.5709, \n"
     ]
    },
    {
     "name": "stdout",
     "output_type": "stream",
     "text": [
      "epoch: 5, [batch: 3360 / 33600], examples_per_second: 3230.3086, train_label_loss: 0.6921, \n"
     ]
    },
    {
     "name": "stdout",
     "output_type": "stream",
     "text": [
      "epoch: 5, [batch: 6720 / 33600], examples_per_second: 3241.7509, train_label_loss: 0.5882, \n"
     ]
    },
    {
     "name": "stdout",
     "output_type": "stream",
     "text": [
      "epoch: 5, [batch: 10080 / 33600], examples_per_second: 3237.1453, train_label_loss: 1.0825, \n"
     ]
    },
    {
     "name": "stdout",
     "output_type": "stream",
     "text": [
      "epoch: 5, [batch: 13440 / 33600], examples_per_second: 3224.2751, train_label_loss: 1.1423, \n"
     ]
    },
    {
     "name": "stdout",
     "output_type": "stream",
     "text": [
      "epoch: 5, [batch: 16800 / 33600], examples_per_second: 3238.0227, train_label_loss: 0.7039, \n"
     ]
    },
    {
     "name": "stdout",
     "output_type": "stream",
     "text": [
      "epoch: 5, [batch: 20160 / 33600], examples_per_second: 3244.9984, train_label_loss: 1.0688, \n"
     ]
    },
    {
     "name": "stdout",
     "output_type": "stream",
     "text": [
      "epoch: 5, [batch: 23520 / 33600], examples_per_second: 3238.1345, train_label_loss: 0.3865, \n"
     ]
    },
    {
     "name": "stdout",
     "output_type": "stream",
     "text": [
      "epoch: 5, [batch: 26880 / 33600], examples_per_second: 3242.8751, train_label_loss: 0.4828, \n"
     ]
    },
    {
     "name": "stdout",
     "output_type": "stream",
     "text": [
      "epoch: 5, [batch: 30240 / 33600], examples_per_second: 3243.8160, train_label_loss: 0.6850, \n"
     ]
    },
    {
     "name": "stdout",
     "output_type": "stream",
     "text": [
      "=============================================================\n",
      "epoch: 5, source_val_acc_label: 0.7207, target_val_acc_label: 0.7250, source_val_label_loss: 0.7799, target_val_label_loss: 0.7497, \n",
      "=============================================================\n"
     ]
    },
    {
     "name": "stdout",
     "output_type": "stream",
     "text": [
      "New best\n"
     ]
    },
    {
     "name": "stdout",
     "output_type": "stream",
     "text": [
      "epoch: 6, [batch: 1 / 33600], examples_per_second: 0.9702, train_label_loss: 0.5443, \n"
     ]
    },
    {
     "name": "stdout",
     "output_type": "stream",
     "text": [
      "epoch: 6, [batch: 3360 / 33600], examples_per_second: 3229.0006, train_label_loss: 0.4707, \n"
     ]
    },
    {
     "name": "stdout",
     "output_type": "stream",
     "text": [
      "epoch: 6, [batch: 6720 / 33600], examples_per_second: 3239.6598, train_label_loss: 0.4638, \n"
     ]
    },
    {
     "name": "stdout",
     "output_type": "stream",
     "text": [
      "epoch: 6, [batch: 10080 / 33600], examples_per_second: 3245.2023, train_label_loss: 0.9471, \n"
     ]
    },
    {
     "name": "stdout",
     "output_type": "stream",
     "text": [
      "epoch: 6, [batch: 13440 / 33600], examples_per_second: 3232.3317, train_label_loss: 0.7375, \n"
     ]
    },
    {
     "name": "stdout",
     "output_type": "stream",
     "text": [
      "epoch: 6, [batch: 16800 / 33600], examples_per_second: 3239.8359, train_label_loss: 0.4634, \n"
     ]
    },
    {
     "name": "stdout",
     "output_type": "stream",
     "text": [
      "epoch: 6, [batch: 20160 / 33600], examples_per_second: 3248.2782, train_label_loss: 0.4944, \n"
     ]
    },
    {
     "name": "stdout",
     "output_type": "stream",
     "text": [
      "epoch: 6, [batch: 23520 / 33600], examples_per_second: 3233.9829, train_label_loss: 0.4763, \n"
     ]
    },
    {
     "name": "stdout",
     "output_type": "stream",
     "text": [
      "epoch: 6, [batch: 26880 / 33600], examples_per_second: 3243.6200, train_label_loss: 0.6098, \n"
     ]
    },
    {
     "name": "stdout",
     "output_type": "stream",
     "text": [
      "epoch: 6, [batch: 30240 / 33600], examples_per_second: 3246.4823, train_label_loss: 0.5923, \n"
     ]
    },
    {
     "name": "stdout",
     "output_type": "stream",
     "text": [
      "=============================================================\n",
      "epoch: 6, source_val_acc_label: 0.7297, target_val_acc_label: 0.7347, source_val_label_loss: 0.7695, target_val_label_loss: 0.7396, \n",
      "=============================================================\n"
     ]
    },
    {
     "name": "stdout",
     "output_type": "stream",
     "text": [
      "New best\n"
     ]
    },
    {
     "name": "stdout",
     "output_type": "stream",
     "text": [
      "epoch: 7, [batch: 1 / 33600], examples_per_second: 0.9699, train_label_loss: 0.4599, \n"
     ]
    },
    {
     "name": "stdout",
     "output_type": "stream",
     "text": [
      "epoch: 7, [batch: 3360 / 33600], examples_per_second: 3227.2187, train_label_loss: 0.7364, \n"
     ]
    },
    {
     "name": "stdout",
     "output_type": "stream",
     "text": [
      "epoch: 7, [batch: 6720 / 33600], examples_per_second: 3241.6924, train_label_loss: 0.8346, \n"
     ]
    },
    {
     "name": "stdout",
     "output_type": "stream",
     "text": [
      "epoch: 7, [batch: 10080 / 33600], examples_per_second: 3237.4005, train_label_loss: 0.5788, \n"
     ]
    },
    {
     "name": "stdout",
     "output_type": "stream",
     "text": [
      "epoch: 7, [batch: 13440 / 33600], examples_per_second: 3232.2154, train_label_loss: 0.4054, \n"
     ]
    },
    {
     "name": "stdout",
     "output_type": "stream",
     "text": [
      "epoch: 7, [batch: 16800 / 33600], examples_per_second: 3242.4581, train_label_loss: 0.5235, \n"
     ]
    },
    {
     "name": "stdout",
     "output_type": "stream",
     "text": [
      "epoch: 7, [batch: 20160 / 33600], examples_per_second: 3244.5180, train_label_loss: 1.1091, \n"
     ]
    },
    {
     "name": "stdout",
     "output_type": "stream",
     "text": [
      "epoch: 7, [batch: 23520 / 33600], examples_per_second: 3228.4692, train_label_loss: 0.4271, \n"
     ]
    },
    {
     "name": "stdout",
     "output_type": "stream",
     "text": [
      "epoch: 7, [batch: 26880 / 33600], examples_per_second: 3241.0075, train_label_loss: 0.4902, \n"
     ]
    },
    {
     "name": "stdout",
     "output_type": "stream",
     "text": [
      "epoch: 7, [batch: 30240 / 33600], examples_per_second: 3242.5040, train_label_loss: 0.7443, \n"
     ]
    },
    {
     "name": "stdout",
     "output_type": "stream",
     "text": [
      "=============================================================\n",
      "epoch: 7, source_val_acc_label: 0.7257, target_val_acc_label: 0.7291, source_val_label_loss: 0.7689, target_val_label_loss: 0.7469, \n",
      "=============================================================\n"
     ]
    },
    {
     "name": "stdout",
     "output_type": "stream",
     "text": [
      "epoch: 8, [batch: 1 / 33600], examples_per_second: 0.9705, train_label_loss: 0.5565, \n"
     ]
    },
    {
     "name": "stdout",
     "output_type": "stream",
     "text": [
      "epoch: 8, [batch: 3360 / 33600], examples_per_second: 3227.7467, train_label_loss: 0.7309, \n"
     ]
    },
    {
     "name": "stdout",
     "output_type": "stream",
     "text": [
      "epoch: 8, [batch: 6720 / 33600], examples_per_second: 3231.1878, train_label_loss: 0.1857, \n"
     ]
    },
    {
     "name": "stdout",
     "output_type": "stream",
     "text": [
      "epoch: 8, [batch: 10080 / 33600], examples_per_second: 3238.5158, train_label_loss: 0.4283, \n"
     ]
    },
    {
     "name": "stdout",
     "output_type": "stream",
     "text": [
      "epoch: 8, [batch: 13440 / 33600], examples_per_second: 3234.7110, train_label_loss: 0.2864, \n"
     ]
    },
    {
     "name": "stdout",
     "output_type": "stream",
     "text": [
      "epoch: 8, [batch: 16800 / 33600], examples_per_second: 3235.6236, train_label_loss: 0.5292, \n"
     ]
    },
    {
     "name": "stdout",
     "output_type": "stream",
     "text": [
      "epoch: 8, [batch: 20160 / 33600], examples_per_second: 3246.7365, train_label_loss: 0.1604, \n"
     ]
    },
    {
     "name": "stdout",
     "output_type": "stream",
     "text": [
      "epoch: 8, [batch: 23520 / 33600], examples_per_second: 3234.9245, train_label_loss: 0.6793, \n"
     ]
    },
    {
     "name": "stdout",
     "output_type": "stream",
     "text": [
      "epoch: 8, [batch: 26880 / 33600], examples_per_second: 3240.5709, train_label_loss: 0.4769, \n"
     ]
    },
    {
     "name": "stdout",
     "output_type": "stream",
     "text": [
      "epoch: 8, [batch: 30240 / 33600], examples_per_second: 3242.8478, train_label_loss: 0.5448, \n"
     ]
    },
    {
     "name": "stdout",
     "output_type": "stream",
     "text": [
      "=============================================================\n",
      "epoch: 8, source_val_acc_label: 0.7257, target_val_acc_label: 0.7296, source_val_label_loss: 0.7773, target_val_label_loss: 0.7565, \n",
      "=============================================================\n"
     ]
    },
    {
     "name": "stdout",
     "output_type": "stream",
     "text": [
      "epoch: 9, [batch: 1 / 33600], examples_per_second: 0.9665, train_label_loss: 0.6223, \n"
     ]
    },
    {
     "name": "stdout",
     "output_type": "stream",
     "text": [
      "epoch: 9, [batch: 3360 / 33600], examples_per_second: 3234.3898, train_label_loss: 0.2779, \n"
     ]
    },
    {
     "name": "stdout",
     "output_type": "stream",
     "text": [
      "epoch: 9, [batch: 6720 / 33600], examples_per_second: 3249.6726, train_label_loss: 0.4004, \n"
     ]
    },
    {
     "name": "stdout",
     "output_type": "stream",
     "text": [
      "epoch: 9, [batch: 10080 / 33600], examples_per_second: 3254.6520, train_label_loss: 0.2156, \n"
     ]
    },
    {
     "name": "stdout",
     "output_type": "stream",
     "text": [
      "epoch: 9, [batch: 13440 / 33600], examples_per_second: 3231.9890, train_label_loss: 0.6272, \n"
     ]
    },
    {
     "name": "stdout",
     "output_type": "stream",
     "text": [
      "epoch: 9, [batch: 16800 / 33600], examples_per_second: 3248.1473, train_label_loss: 0.6084, \n"
     ]
    },
    {
     "name": "stdout",
     "output_type": "stream",
     "text": [
      "epoch: 9, [batch: 20160 / 33600], examples_per_second: 3250.9672, train_label_loss: 0.5300, \n"
     ]
    },
    {
     "name": "stdout",
     "output_type": "stream",
     "text": [
      "epoch: 9, [batch: 23520 / 33600], examples_per_second: 3241.2099, train_label_loss: 0.2916, \n"
     ]
    },
    {
     "name": "stdout",
     "output_type": "stream",
     "text": [
      "epoch: 9, [batch: 26880 / 33600], examples_per_second: 3244.4869, train_label_loss: 0.7659, \n"
     ]
    },
    {
     "name": "stdout",
     "output_type": "stream",
     "text": [
      "epoch: 9, [batch: 30240 / 33600], examples_per_second: 3244.1099, train_label_loss: 0.7685, \n"
     ]
    },
    {
     "name": "stdout",
     "output_type": "stream",
     "text": [
      "=============================================================\n",
      "epoch: 9, source_val_acc_label: 0.7290, target_val_acc_label: 0.7327, source_val_label_loss: 0.7835, target_val_label_loss: 0.7625, \n",
      "=============================================================\n"
     ]
    },
    {
     "name": "stdout",
     "output_type": "stream",
     "text": [
      "epoch: 10, [batch: 1 / 33600], examples_per_second: 0.9697, train_label_loss: 0.1410, \n"
     ]
    },
    {
     "name": "stdout",
     "output_type": "stream",
     "text": [
      "epoch: 10, [batch: 3360 / 33600], examples_per_second: 3228.2626, train_label_loss: 0.4569, \n"
     ]
    },
    {
     "name": "stdout",
     "output_type": "stream",
     "text": [
      "epoch: 10, [batch: 6720 / 33600], examples_per_second: 3241.8442, train_label_loss: 0.5670, \n"
     ]
    },
    {
     "name": "stdout",
     "output_type": "stream",
     "text": [
      "epoch: 10, [batch: 10080 / 33600], examples_per_second: 3243.7214, train_label_loss: 0.7605, \n"
     ]
    },
    {
     "name": "stdout",
     "output_type": "stream",
     "text": [
      "epoch: 10, [batch: 13440 / 33600], examples_per_second: 3235.6605, train_label_loss: 0.3688, \n"
     ]
    },
    {
     "name": "stdout",
     "output_type": "stream",
     "text": [
      "epoch: 10, [batch: 16800 / 33600], examples_per_second: 3244.8308, train_label_loss: 0.1423, \n"
     ]
    },
    {
     "name": "stdout",
     "output_type": "stream",
     "text": [
      "epoch: 10, [batch: 20160 / 33600], examples_per_second: 3244.5881, train_label_loss: 0.3067, \n"
     ]
    },
    {
     "name": "stdout",
     "output_type": "stream",
     "text": [
      "epoch: 10, [batch: 23520 / 33600], examples_per_second: 3233.5168, train_label_loss: 0.2401, \n"
     ]
    },
    {
     "name": "stdout",
     "output_type": "stream",
     "text": [
      "epoch: 10, [batch: 26880 / 33600], examples_per_second: 3240.7618, train_label_loss: 0.6660, \n"
     ]
    },
    {
     "name": "stdout",
     "output_type": "stream",
     "text": [
      "epoch: 10, [batch: 30240 / 33600], examples_per_second: 3244.8407, train_label_loss: 0.3881, \n"
     ]
    },
    {
     "name": "stdout",
     "output_type": "stream",
     "text": [
      "=============================================================\n",
      "epoch: 10, source_val_acc_label: 0.7204, target_val_acc_label: 0.7232, source_val_label_loss: 0.8088, target_val_label_loss: 0.7922, \n",
      "=============================================================\n"
     ]
    },
    {
     "name": "stdout",
     "output_type": "stream",
     "text": [
      "Patience (3) exhausted\n"
     ]
    }
   ],
   "source": [
    "###################################\n",
    "# train\n",
    "###################################\n",
    "jig = PTN_Train_Eval_Test_Jig(model, p.BEST_MODEL_PATH, p.device)\n",
    "\n",
    "jig.train(\n",
    "    train_iterable=datasets.source.processed.train,\n",
    "    source_val_iterable=datasets.source.processed.val,\n",
    "    target_val_iterable=datasets.target.processed.val,\n",
    "    num_epochs=p.n_epoch,\n",
    "    num_logs_per_epoch=p.NUM_LOGS_PER_EPOCH,\n",
    "    patience=p.patience,\n",
    "    optimizer=optimizer,\n",
    "    criteria_for_best=p.criteria_for_best,\n",
    ")"
   ]
  },
  {
   "cell_type": "code",
   "execution_count": 23,
   "id": "31e8fabf",
   "metadata": {
    "execution": {
     "iopub.execute_input": "2022-03-24T09:51:28.283803Z",
     "iopub.status.busy": "2022-03-24T09:51:28.283545Z",
     "iopub.status.idle": "2022-03-24T09:51:28.300225Z",
     "shell.execute_reply": "2022-03-24T09:51:28.300611Z"
    },
    "papermill": {
     "duration": 0.05349,
     "end_time": "2022-03-24T09:51:28.300753",
     "exception": false,
     "start_time": "2022-03-24T09:51:28.247263",
     "status": "completed"
    },
    "tags": []
   },
   "outputs": [],
   "source": [
    "total_experiment_time_secs = time.time() - start_time_secs"
   ]
  },
  {
   "cell_type": "code",
   "execution_count": 24,
   "id": "87b9595b",
   "metadata": {
    "execution": {
     "iopub.execute_input": "2022-03-24T09:51:28.379268Z",
     "iopub.status.busy": "2022-03-24T09:51:28.375223Z",
     "iopub.status.idle": "2022-03-24T09:59:32.624502Z",
     "shell.execute_reply": "2022-03-24T09:59:32.624050Z"
    },
    "papermill": {
     "duration": 484.284894,
     "end_time": "2022-03-24T09:59:32.624611",
     "exception": false,
     "start_time": "2022-03-24T09:51:28.339717",
     "status": "completed"
    },
    "tags": []
   },
   "outputs": [],
   "source": [
    "###################################\n",
    "# Evaluate the model\n",
    "###################################\n",
    "source_test_label_accuracy, source_test_label_loss = jig.test(datasets.source.processed.test)\n",
    "target_test_label_accuracy, target_test_label_loss = jig.test(datasets.target.processed.test)\n",
    "\n",
    "source_val_label_accuracy, source_val_label_loss = jig.test(datasets.source.processed.val)\n",
    "target_val_label_accuracy, target_val_label_loss = jig.test(datasets.target.processed.val)\n",
    "\n",
    "history = jig.get_history()\n",
    "\n",
    "total_epochs_trained = len(history[\"epoch_indices\"])\n",
    "\n",
    "val_dl = Iterable_Aggregator((datasets.source.original.val,datasets.target.original.val))\n",
    "\n",
    "confusion = ptn_confusion_by_domain_over_dataloader(model, p.device, val_dl)\n",
    "per_domain_accuracy = per_domain_accuracy_from_confusion(confusion)\n",
    "\n",
    "# Add a key to per_domain_accuracy for if it was a source domain\n",
    "for domain, accuracy in per_domain_accuracy.items():\n",
    "    per_domain_accuracy[domain] = {\n",
    "        \"accuracy\": accuracy,\n",
    "        \"source?\": domain in p.domains_source\n",
    "    }\n",
    "\n",
    "# Do an independent accuracy assesment JUST TO BE SURE!\n",
    "# _source_test_label_accuracy = independent_accuracy_assesment(model, datasets.source.processed.test, p.device)\n",
    "# _target_test_label_accuracy = independent_accuracy_assesment(model, datasets.target.processed.test, p.device)\n",
    "# _source_val_label_accuracy = independent_accuracy_assesment(model, datasets.source.processed.val, p.device)\n",
    "# _target_val_label_accuracy = independent_accuracy_assesment(model, datasets.target.processed.val, p.device)\n",
    "\n",
    "# assert(_source_test_label_accuracy == source_test_label_accuracy)\n",
    "# assert(_target_test_label_accuracy == target_test_label_accuracy)\n",
    "# assert(_source_val_label_accuracy == source_val_label_accuracy)\n",
    "# assert(_target_val_label_accuracy == target_val_label_accuracy)\n",
    "\n",
    "experiment = {\n",
    "    \"experiment_name\": p.experiment_name,\n",
    "    \"parameters\": dict(p),\n",
    "    \"results\": {\n",
    "        \"source_test_label_accuracy\": source_test_label_accuracy,\n",
    "        \"source_test_label_loss\": source_test_label_loss,\n",
    "        \"target_test_label_accuracy\": target_test_label_accuracy,\n",
    "        \"target_test_label_loss\": target_test_label_loss,\n",
    "        \"source_val_label_accuracy\": source_val_label_accuracy,\n",
    "        \"source_val_label_loss\": source_val_label_loss,\n",
    "        \"target_val_label_accuracy\": target_val_label_accuracy,\n",
    "        \"target_val_label_loss\": target_val_label_loss,\n",
    "        \"total_epochs_trained\": total_epochs_trained,\n",
    "        \"total_experiment_time_secs\": total_experiment_time_secs,\n",
    "        \"confusion\": confusion,\n",
    "        \"per_domain_accuracy\": per_domain_accuracy,\n",
    "    },\n",
    "    \"history\": history,\n",
    "    \"dataset_metrics\": get_dataset_metrics(datasets, \"ptn\"),\n",
    "}"
   ]
  },
  {
   "cell_type": "code",
   "execution_count": 25,
   "id": "54a21829",
   "metadata": {
    "execution": {
     "iopub.execute_input": "2022-03-24T09:59:32.703563Z",
     "iopub.status.busy": "2022-03-24T09:59:32.703310Z",
     "iopub.status.idle": "2022-03-24T09:59:32.827376Z",
     "shell.execute_reply": "2022-03-24T09:59:32.826942Z"
    },
    "papermill": {
     "duration": 0.16247,
     "end_time": "2022-03-24T09:59:32.827479",
     "exception": false,
     "start_time": "2022-03-24T09:59:32.665009",
     "status": "completed"
    },
    "tags": []
   },
   "outputs": [
    {
     "data": {
      "image/png": "[encoded data removed]",
      "text/plain": [
       "<Figure size 1080x504 with 1 Axes>"
      ]
     },
     "metadata": {
      "needs_background": "light"
     },
     "output_type": "display_data"
    }
   ],
   "source": [
    "ax = get_loss_curve(experiment)\n",
    "plt.show()"
   ]
  },
  {
   "cell_type": "code",
   "execution_count": 26,
   "id": "fd8a0f60",
   "metadata": {
    "execution": {
     "iopub.execute_input": "2022-03-24T09:59:32.907992Z",
     "iopub.status.busy": "2022-03-24T09:59:32.907742Z",
     "iopub.status.idle": "2022-03-24T09:59:33.049248Z",
     "shell.execute_reply": "2022-03-24T09:59:33.049014Z"
    },
    "papermill": {
     "duration": 0.180636,
     "end_time": "2022-03-24T09:59:33.049310",
     "exception": false,
     "start_time": "2022-03-24T09:59:32.868674",
     "status": "completed"
    },
    "tags": []
   },
   "outputs": [
    {
     "data": {
      "text/plain": [
       "<AxesSubplot:title={'center':'Results'}>"
      ]
     },
     "execution_count": 26,
     "metadata": {},
     "output_type": "execute_result"
    },
    {
     "data": {
      "image/png": "[encoded data removed]",
      "text/plain": [
       "<Figure size 1080x504 with 1 Axes>"
      ]
     },
     "metadata": {
      "needs_background": "light"
     },
     "output_type": "display_data"
    }
   ],
   "source": [
    "get_results_table(experiment)"
   ]
  },
  {
   "cell_type": "code",
   "execution_count": 27,
   "id": "cf8dc689",
   "metadata": {
    "execution": {
     "iopub.execute_input": "2022-03-24T09:59:33.126415Z",
     "iopub.status.busy": "2022-03-24T09:59:33.126164Z",
     "iopub.status.idle": "2022-03-24T09:59:33.284549Z",
     "shell.execute_reply": "2022-03-24T09:59:33.284097Z"
    },
    "papermill": {
     "duration": 0.197782,
     "end_time": "2022-03-24T09:59:33.284653",
     "exception": false,
     "start_time": "2022-03-24T09:59:33.086871",
     "status": "completed"
    },
    "tags": []
   },
   "outputs": [
    {
     "data": {
      "text/plain": [
       "<AxesSubplot:title={'center':'Per Domain Validation Accuracy'}, xlabel='domain'>"
      ]
     },
     "execution_count": 27,
     "metadata": {},
     "output_type": "execute_result"
    },
    {
     "data": {
      "image/png": "[encoded data removed]",
      "text/plain": [
       "<Figure size 1080x504 with 1 Axes>"
      ]
     },
     "metadata": {
      "needs_background": "light"
     },
     "output_type": "display_data"
    }
   ],
   "source": [
    "get_domain_accuracies(experiment)"
   ]
  },
  {
   "cell_type": "code",
   "execution_count": 28,
   "id": "a74ae082",
   "metadata": {
    "execution": {
     "iopub.execute_input": "2022-03-24T09:59:33.368689Z",
     "iopub.status.busy": "2022-03-24T09:59:33.368430Z",
     "iopub.status.idle": "2022-03-24T09:59:33.384310Z",
     "shell.execute_reply": "2022-03-24T09:59:33.383836Z"
    },
    "papermill": {
     "duration": 0.057045,
     "end_time": "2022-03-24T09:59:33.384409",
     "exception": false,
     "start_time": "2022-03-24T09:59:33.327364",
     "status": "completed"
    },
    "tags": []
   },
   "outputs": [
    {
     "name": "stdout",
     "output_type": "stream",
     "text": [
      "Source Test Label Accuracy: 0.72876953125 Target Test Label Accuracy: 0.73337890625\n",
      "Source Val Label Accuracy: 0.7296809895833334 Target Val Label Accuracy: 0.7347005208333334\n"
     ]
    }
   ],
   "source": [
    "print(\"Source Test Label Accuracy:\", experiment[\"results\"][\"source_test_label_accuracy\"], \"Target Test Label Accuracy:\", experiment[\"results\"][\"target_test_label_accuracy\"])\n",
    "print(\"Source Val Label Accuracy:\", experiment[\"results\"][\"source_val_label_accuracy\"], \"Target Val Label Accuracy:\", experiment[\"results\"][\"target_val_label_accuracy\"])"
   ]
  },
  {
   "cell_type": "code",
   "execution_count": 29,
   "id": "dacca602",
   "metadata": {
    "execution": {
     "iopub.execute_input": "2022-03-24T09:59:33.470295Z",
     "iopub.status.busy": "2022-03-24T09:59:33.469759Z",
     "iopub.status.idle": "2022-03-24T09:59:33.486354Z",
     "shell.execute_reply": "2022-03-24T09:59:33.486653Z"
    },
    "papermill": {
     "duration": 0.057956,
     "end_time": "2022-03-24T09:59:33.486752",
     "exception": false,
     "start_time": "2022-03-24T09:59:33.428796",
     "status": "completed"
    },
    "tags": [
     "experiment_json"
    ]
   },
   "outputs": [
    {
     "data": {
      "text/plain": [
       "'{\"experiment_name\": \"tl_1v2:oracle.run1-oracle.run2\", \"parameters\": {\"experiment_name\": \"tl_1v2:oracle.run1-oracle.run2\", \"device\": \"cuda\", \"lr\": 0.0001, \"n_shot\": 3, \"n_query\": 2, \"train_k_factor\": 3, \"val_k_factor\": 2, \"test_k_factor\": 2, \"torch_default_dtype\": \"torch.float32\", \"n_epoch\": 50, \"patience\": 3, \"criteria_for_best\": \"target_accuracy\", \"x_net\": [{\"class\": \"nnReshape\", \"kargs\": {\"shape\": [-1, 1, 2, 256]}}, {\"class\": \"Conv2d\", \"kargs\": {\"in_channels\": 1, \"out_channels\": 256, \"kernel_size\": [1, 7], \"bias\": false, \"padding\": [0, 3]}}, {\"class\": \"ReLU\", \"kargs\": {\"inplace\": true}}, {\"class\": \"BatchNorm2d\", \"kargs\": {\"num_features\": 256}}, {\"class\": \"Conv2d\", \"kargs\": {\"in_channels\": 256, \"out_channels\": 80, \"kernel_size\": [2, 7], \"bias\": true, \"padding\": [0, 3]}}, {\"class\": \"ReLU\", \"kargs\": {\"inplace\": true}}, {\"class\": \"BatchNorm2d\", \"kargs\": {\"num_features\": 80}}, {\"class\": \"Flatten\", \"kargs\": {}}, {\"class\": \"Linear\", \"kargs\": {\"in_features\": 20480, \"out_features\": 256}}, {\"class\": \"ReLU\", \"kargs\": {\"inplace\": true}}, {\"class\": \"BatchNorm1d\", \"kargs\": {\"num_features\": 256}}, {\"class\": \"Linear\", \"kargs\": {\"in_features\": 256, \"out_features\": 256}}], \"NUM_LOGS_PER_EPOCH\": 10, \"BEST_MODEL_PATH\": \"./best_model.pth\", \"n_way\": 16, \"datasets\": [{\"labels\": [\"3123D52\", \"3123D65\", \"3123D79\", \"3123D80\", \"3123D54\", \"3123D70\", \"3123D7B\", \"3123D89\", \"3123D58\", \"3123D76\", \"3123D7D\", \"3123EFE\", \"3123D64\", \"3123D78\", \"3123D7E\", \"3124E4A\"], \"domains\": [32, 38, 8, 44, 14, 50, 20, 26], \"num_examples_per_domain_per_label\": 10000, \"pickle_path\": \"/mnt/wd500GB/CSC500/csc500-main/datasets/oracle.Run1_10kExamples_stratified_ds.2022A.pkl\", \"source_or_target_dataset\": \"target\", \"x_transforms\": [\"unit_power\"], \"episode_transforms\": [], \"domain_prefix\": \"ORACLE.run1_\"}, {\"labels\": [\"3123D52\", \"3123D65\", \"3123D79\", \"3123D80\", \"3123D54\", \"3123D70\", \"3123D7B\", \"3123D89\", \"3123D58\", \"3123D76\", \"3123D7D\", \"3123EFE\", \"3123D64\", \"3123D78\", \"3123D7E\", \"3124E4A\"], \"domains\": [32, 38, 8, 44, 14, 50, 20, 26], \"num_examples_per_domain_per_label\": 10000, \"pickle_path\": \"/mnt/wd500GB/CSC500/csc500-main/datasets/oracle.Run2_10kExamples_stratified_ds.2022A.pkl\", \"source_or_target_dataset\": \"source\", \"x_transforms\": [\"unit_power\"], \"episode_transforms\": [], \"domain_prefix\": \"ORACLE.run2_\"}], \"dataset_seed\": 420, \"seed\": 420, \"x_shape\": [2, 256], \"domains_source\": [\"ORACLE.run2_32\", \"ORACLE.run2_38\", \"ORACLE.run2_8\", \"ORACLE.run2_44\", \"ORACLE.run2_14\", \"ORACLE.run2_50\", \"ORACLE.run2_20\", \"ORACLE.run2_26\"], \"domains_target\": [\"ORACLE.run1_32\", \"ORACLE.run1_38\", \"ORACLE.run1_8\", \"ORACLE.run1_44\", \"ORACLE.run1_14\", \"ORACLE.run1_50\", \"ORACLE.run1_20\", \"ORACLE.run1_26\"]}, \"results\": {\"source_test_label_accuracy\": 0.72876953125, \"source_test_label_loss\": 0.7696966528892517, \"target_test_label_accuracy\": 0.73337890625, \"target_test_label_loss\": 0.7406643629074097, \"source_val_label_accuracy\": 0.7296809895833334, \"source_val_label_loss\": 0.7694934606552124, \"target_val_label_accuracy\": 0.7347005208333334, \"target_val_label_loss\": 0.7395917177200317, \"total_epochs_trained\": 10, \"total_experiment_time_secs\": 9309.33184337616, \"confusion\": {\"ORACLE.run2_14\": {\"15\": {\"15\": 1188, \"7\": 12}, \"5\": {\"5\": 696, \"4\": 278, \"2\": 69, \"1\": 87, \"3\": 68, \"14\": 2}, \"7\": {\"7\": 1196, \"15\": 3, \"1\": 1}, \"4\": {\"4\": 786, \"5\": 270, \"2\": 51, \"3\": 60, \"1\": 31, \"14\": 2}, \"10\": {\"10\": 1170, \"0\": 30}, \"11\": {\"11\": 1179, \"12\": 20, \"10\": 1}, \"12\": {\"12\": 645, \"9\": 143, \"10\": 23, \"11\": 280, \"14\": 1, \"0\": 80, \"8\": 27, \"3\": 1}, \"0\": {\"0\": 1190, \"3\": 3, \"10\": 6, \"14\": 1}, \"14\": {\"14\": 918, \"6\": 72, \"2\": 148, \"4\": 9, \"3\": 35, \"5\": 8, \"13\": 6, \"0\": 4}, \"8\": {\"8\": 1200}, \"13\": {\"13\": 853, \"6\": 313, \"2\": 30, \"4\": 1, \"14\": 3}, \"6\": {\"6\": 897, \"2\": 29, \"13\": 229, \"14\": 44, \"5\": 1}, \"1\": {\"1\": 1103, \"4\": 28, \"5\": 68, \"3\": 1}, \"3\": {\"3\": 1039, \"4\": 83, \"5\": 49, \"2\": 11, \"14\": 16, \"1\": 2}, \"9\": {\"9\": 1197, \"12\": 3}, \"2\": {\"2\": 587, \"14\": 182, \"3\": 71, \"5\": 163, \"13\": 81, \"4\": 76, \"6\": 33, \"0\": 1, \"15\": 4, \"1\": 2}}, \"ORACLE.run2_20\": {\"4\": {\"4\": 1067, \"5\": 27, \"10\": 8, \"12\": 37, \"8\": 20, \"3\": 25, \"7\": 2, \"0\": 8, \"2\": 2, \"9\": 1, \"1\": 3}, \"10\": {\"10\": 1035, \"14\": 92, \"3\": 6, \"8\": 33, \"6\": 11, \"7\": 9, \"4\": 14}, \"15\": {\"15\": 531, \"13\": 251, \"5\": 61, \"2\": 74, \"1\": 96, \"9\": 58, \"0\": 56, \"12\": 69, \"3\": 3, \"4\": 1}, \"0\": {\"0\": 867, \"5\": 94, \"1\": 68, \"12\": 68, \"13\": 7, \"4\": 35, \"15\": 54, \"9\": 2, \"3\": 2, \"2\": 3}, \"6\": {\"6\": 1113, \"14\": 61, \"7\": 6, \"8\": 11, \"10\": 9}, \"3\": {\"9\": 136, \"7\": 142, \"3\": 541, \"5\": 134, \"4\": 20, \"2\": 174, \"10\": 6, \"12\": 34, \"15\": 7, \"1\": 2, \"8\": 3, \"6\": 1}, \"7\": {\"7\": 942, \"5\": 19, \"8\": 100, \"3\": 115, \"14\": 3, \"10\": 10, \"2\": 5, \"6\": 4, \"9\": 1, \"4\": 1}, \"2\": {\"2\": 382, \"9\": 298, \"3\": 164, \"5\": 163, \"13\": 19, \"12\": 63, \"15\": 97, \"1\": 8, \"4\": 2, \"7\": 4}, \"8\": {\"8\": 826, \"7\": 127, \"14\": 131, \"10\": 51, \"6\": 19, \"4\": 33, \"5\": 5, \"3\": 8}, \"11\": {\"11\": 1200}, \"14\": {\"14\": 883, \"8\": 135, \"6\": 109, \"10\": 71, \"7\": 2}, \"12\": {\"12\": 507, \"15\": 71, \"1\": 211, \"4\": 31, \"9\": 148, \"5\": 90, \"2\": 58, \"0\": 59, \"3\": 22, \"13\": 3}, \"13\": {\"13\": 897, \"5\": 5, \"15\": 265, \"9\": 4, \"0\": 9, \"12\": 4, \"2\": 10, \"1\": 5, \"11\": 1}, \"9\": {\"3\": 123, \"9\": 502, \"0\": 1, \"5\": 62, \"2\": 303, \"12\": 111, \"4\": 7, \"15\": 54, \"1\": 30, \"7\": 1, \"13\": 6}, \"5\": {\"5\": 480, \"1\": 19, \"2\": 168, \"12\": 89, \"13\": 8, \"9\": 50, \"3\": 165, \"15\": 67, \"8\": 3, \"4\": 35, \"7\": 37, \"0\": 79}, \"1\": {\"1\": 711, \"0\": 61, \"12\": 243, \"5\": 12, \"15\": 102, \"4\": 4, \"9\": 43, \"2\": 16, \"13\": 5, \"3\": 3}}, \"ORACLE.run2_50\": {\"5\": {\"6\": 59, \"4\": 315, \"5\": 644, \"7\": 70, \"13\": 44, \"10\": 49, \"0\": 3, \"1\": 16}, \"12\": {\"12\": 1115, \"9\": 43, \"14\": 30, \"11\": 12}, \"14\": {\"14\": 1185, \"12\": 15}, \"4\": {\"4\": 690, \"5\": 283, \"1\": 66, \"6\": 144, \"10\": 4, \"7\": 6, \"13\": 5, \"0\": 1, \"15\": 1}, \"13\": {\"13\": 729, \"5\": 35, \"7\": 282, \"10\": 153, \"4\": 1}, \"10\": {\"10\": 900, \"5\": 35, \"13\": 205, \"0\": 16, \"7\": 40, \"4\": 4}, \"9\": {\"9\": 1143, \"12\": 44, \"11\": 13}, \"15\": {\"15\": 1092, \"11\": 39, \"6\": 12, \"1\": 57}, \"6\": {\"6\": 809, \"1\": 179, \"5\": 57, \"15\": 12, \"4\": 138, \"7\": 1, \"2\": 1, \"0\": 1, \"10\": 2}, \"2\": {\"2\": 1139, \"0\": 61}, \"0\": {\"0\": 1087, \"2\": 88, \"10\": 21, \"6\": 2, \"5\": 1, \"7\": 1}, \"11\": {\"11\": 1104, \"15\": 43, \"12\": 13, \"9\": 24, \"14\": 15, \"1\": 1}, \"3\": {\"3\": 1158, \"8\": 42}, \"8\": {\"8\": 1166, \"3\": 33, \"10\": 1}, \"7\": {\"13\": 360, \"4\": 23, \"7\": 637, \"10\": 82, \"5\": 97, \"6\": 1}, \"1\": {\"1\": 910, \"4\": 56, \"6\": 187, \"15\": 33, \"5\": 9, \"0\": 3, \"11\": 1, \"2\": 1}}, \"ORACLE.run2_26\": {\"7\": {\"2\": 376, \"7\": 396, \"3\": 61, \"8\": 120, \"5\": 53, \"15\": 73, \"9\": 37, \"4\": 71, \"13\": 1, \"1\": 1, \"10\": 5, \"14\": 3, \"0\": 3}, \"6\": {\"6\": 914, \"9\": 158, \"8\": 19, \"10\": 34, \"13\": 41, \"0\": 3, \"5\": 28, \"14\": 3}, \"14\": {\"14\": 415, \"1\": 274, \"0\": 209, \"10\": 151, \"4\": 60, \"8\": 74, \"6\": 2, \"7\": 8, \"2\": 4, \"5\": 2, \"9\": 1}, \"15\": {\"9\": 15, \"15\": 746, \"3\": 190, \"2\": 95, \"7\": 92, \"4\": 47, \"8\": 12, \"5\": 2, \"0\": 1}, \"5\": {\"5\": 552, \"7\": 89, \"13\": 252, \"9\": 74, \"2\": 69, \"8\": 58, \"3\": 10, \"6\": 82, \"10\": 2, \"14\": 3, \"15\": 9}, \"10\": {\"10\": 433, \"6\": 77, \"0\": 255, \"15\": 11, \"1\": 64, \"8\": 87, \"14\": 170, \"4\": 71, \"9\": 9, \"7\": 4, \"2\": 8, \"5\": 5, \"12\": 4, \"3\": 2}, \"4\": {\"4\": 692, \"0\": 139, \"15\": 38, \"3\": 64, \"2\": 94, \"14\": 51, \"8\": 30, \"10\": 18, \"7\": 58, \"1\": 16}, \"11\": {\"11\": 1200}, \"13\": {\"6\": 31, \"13\": 907, \"5\": 161, \"9\": 95, \"8\": 4, \"7\": 2}, \"2\": {\"7\": 353, \"15\": 99, \"3\": 122, \"2\": 396, \"8\": 79, \"4\": 88, \"0\": 5, \"5\": 33, \"9\": 21, \"10\": 1, \"14\": 3}, \"0\": {\"4\": 139, \"10\": 201, \"14\": 221, \"2\": 12, \"0\": 442, \"1\": 75, \"8\": 85, \"3\": 2, \"7\": 14, \"15\": 6, \"6\": 1, \"9\": 2}, \"12\": {\"12\": 1198, \"11\": 2}, \"3\": {\"3\": 729, \"7\": 75, \"4\": 62, \"2\": 166, \"15\": 165, \"5\": 2, \"14\": 1}, \"9\": {\"9\": 733, \"13\": 107, \"5\": 53, \"6\": 124, \"8\": 98, \"2\": 22, \"10\": 9, \"7\": 43, \"15\": 7, \"14\": 1, \"0\": 2, \"4\": 1}, \"8\": {\"4\": 38, \"8\": 550, \"9\": 111, \"14\": 64, \"0\": 78, \"2\": 81, \"7\": 130, \"5\": 32, \"1\": 4, \"10\": 83, \"15\": 7, \"6\": 19, \"13\": 3}, \"1\": {\"1\": 758, \"14\": 272, \"0\": 73, \"8\": 13, \"10\": 58, \"4\": 23, \"7\": 1, \"2\": 2}}, \"ORACLE.run2_32\": {\"7\": {\"0\": 18, \"7\": 699, \"4\": 103, \"11\": 225, \"13\": 133, \"2\": 13, \"5\": 6, \"3\": 1, \"8\": 2}, \"2\": {\"2\": 1016, \"7\": 18, \"14\": 71, \"5\": 52, \"4\": 25, \"0\": 13, \"11\": 4, \"13\": 1}, \"5\": {\"5\": 515, \"4\": 133, \"8\": 128, \"0\": 169, \"2\": 103, \"7\": 13, \"14\": 74, \"13\": 52, \"11\": 11, \"3\": 2}, \"6\": {\"6\": 1200}, \"13\": {\"13\": 693, \"11\": 41, \"4\": 266, \"7\": 104, \"3\": 19, \"0\": 27, \"5\": 16, \"8\": 34}, \"4\": {\"5\": 100, \"4\": 610, \"7\": 89, \"13\": 225, \"0\": 93, \"11\": 45, \"8\": 25, \"2\": 12, \"3\": 1}, \"3\": {\"3\": 1170, \"13\": 17, \"8\": 12, \"4\": 1}, \"0\": {\"0\": 691, \"4\": 93, \"8\": 58, \"11\": 142, \"5\": 159, \"2\": 11, \"13\": 23, \"14\": 8, \"7\": 15}, \"9\": {\"9\": 1178, \"2\": 3, \"14\": 19}, \"12\": {\"12\": 1200}, \"8\": {\"8\": 952, \"13\": 61, \"5\": 64, \"0\": 64, \"4\": 30, \"3\": 15, \"15\": 5, \"11\": 8, \"7\": 1}, \"14\": {\"14\": 1053, \"2\": 75, \"5\": 34, \"0\": 32, \"11\": 5, \"4\": 1}, \"15\": {\"15\": 1196, \"8\": 4}, \"11\": {\"11\": 691, \"0\": 167, \"2\": 16, \"7\": 192, \"13\": 62, \"4\": 56, \"14\": 3, \"5\": 12, \"8\": 1}, \"10\": {\"10\": 1198, \"1\": 2}, \"1\": {\"1\": 1190, \"10\": 10}}, \"ORACLE.run2_44\": {\"11\": {\"11\": 1179, \"6\": 19, \"7\": 2}, \"7\": {\"7\": 662, \"9\": 287, \"2\": 234, \"6\": 13, \"1\": 4}, \"6\": {\"6\": 1105, \"7\": 20, \"9\": 42, \"13\": 28, \"2\": 4, \"11\": 1}, \"12\": {\"12\": 854, \"1\": 291, \"3\": 49, \"10\": 6}, \"4\": {\"4\": 1110, \"13\": 21, \"15\": 18, \"14\": 51}, \"13\": {\"13\": 1157, \"6\": 16, \"4\": 26, \"14\": 1}, \"8\": {\"0\": 498, \"8\": 677, \"5\": 15, \"15\": 9, \"14\": 1}, \"5\": {\"5\": 1091, \"14\": 90, \"8\": 9, \"15\": 3, \"0\": 7}, \"14\": {\"15\": 145, \"14\": 865, \"5\": 119, \"4\": 70, \"8\": 1}, \"3\": {\"3\": 1055, \"1\": 102, \"12\": 43}, \"10\": {\"10\": 1145, \"12\": 32, \"1\": 23}, \"1\": {\"1\": 776, \"10\": 4, \"12\": 297, \"3\": 119, \"7\": 1, \"2\": 3}, \"2\": {\"2\": 696, \"7\": 200, \"9\": 297, \"1\": 3, \"3\": 4}, \"15\": {\"15\": 1017, \"4\": 41, \"14\": 121, \"0\": 3, \"8\": 17, \"5\": 1}, \"9\": {\"9\": 553, \"2\": 330, \"7\": 286, \"6\": 28, \"1\": 1, \"13\": 2}, \"0\": {\"0\": 688, \"8\": 508, \"5\": 3, \"14\": 1}}, \"ORACLE.run2_8\": {\"10\": {\"10\": 758, \"5\": 134, \"0\": 207, \"14\": 61, \"13\": 36, \"1\": 4}, \"6\": {\"6\": 594, \"4\": 356, \"7\": 194, \"14\": 42, \"0\": 2, \"2\": 11, \"13\": 1}, \"13\": {\"13\": 904, \"10\": 40, \"1\": 88, \"14\": 144, \"6\": 8, \"0\": 5, \"5\": 7, \"4\": 1, \"8\": 3}, \"3\": {\"3\": 1117, \"12\": 78, \"15\": 5}, \"9\": {\"9\": 1200}, \"1\": {\"1\": 1112, \"13\": 69, \"5\": 18, \"10\": 1}, \"5\": {\"5\": 1015, \"10\": 141, \"1\": 34, \"13\": 6, \"14\": 2, \"0\": 2}, \"11\": {\"8\": 260, \"11\": 700, \"12\": 99, \"15\": 140, \"13\": 1}, \"4\": {\"2\": 81, \"6\": 362, \"7\": 258, \"4\": 482, \"14\": 13, \"0\": 4}, \"14\": {\"14\": 785, \"13\": 118, \"0\": 175, \"10\": 50, \"6\": 57, \"4\": 12, \"7\": 1, \"5\": 2}, \"12\": {\"12\": 985, \"3\": 72, \"15\": 122, \"11\": 21}, \"7\": {\"7\": 583, \"2\": 130, \"6\": 199, \"4\": 284, \"8\": 3, \"14\": 1}, \"0\": {\"0\": 835, \"14\": 196, \"10\": 160, \"4\": 3, \"5\": 1, \"2\": 1, \"13\": 4}, \"15\": {\"15\": 718, \"12\": 182, \"11\": 140, \"8\": 141, \"3\": 11, \"4\": 1, \"7\": 7}, \"2\": {\"2\": 965, \"4\": 99, \"7\": 128, \"6\": 8}, \"8\": {\"8\": 1046, \"15\": 62, \"11\": 89, \"4\": 1, \"14\": 1, \"7\": 1}}, \"ORACLE.run2_38\": {\"4\": {\"4\": 1148, \"12\": 42, \"10\": 4, \"7\": 6}, \"7\": {\"5\": 128, \"7\": 651, \"10\": 298, \"8\": 93, \"13\": 16, \"0\": 3, \"3\": 6, \"15\": 5}, \"12\": {\"12\": 1178, \"14\": 11, \"4\": 11}, \"10\": {\"10\": 709, \"5\": 19, \"7\": 377, \"3\": 45, \"8\": 23, \"13\": 17, \"0\": 9, \"4\": 1}, \"0\": {\"0\": 1031, \"10\": 19, \"3\": 135, \"9\": 2, \"6\": 4, \"15\": 3, \"5\": 1, \"7\": 4, \"8\": 1}, \"1\": {\"1\": 1145, \"15\": 44, \"5\": 4, \"13\": 3, \"6\": 1, \"8\": 3}, \"5\": {\"15\": 131, \"8\": 353, \"5\": 533, \"7\": 138, \"13\": 26, \"3\": 6, \"1\": 1, \"0\": 2, \"10\": 10}, \"15\": {\"8\": 242, \"15\": 593, \"5\": 167, \"1\": 144, \"13\": 14, \"0\": 12, \"3\": 12, \"10\": 1, \"6\": 9, \"7\": 5, \"9\": 1}, \"9\": {\"6\": 277, \"9\": 903, \"0\": 8, \"3\": 11, \"13\": 1}, \"11\": {\"11\": 1124, \"12\": 13, \"14\": 49, \"2\": 5, \"4\": 8, \"13\": 1}, \"14\": {\"2\": 260, \"11\": 40, \"14\": 781, \"12\": 63, \"10\": 7, \"5\": 16, \"8\": 5, \"7\": 22, \"13\": 6}, \"6\": {\"6\": 989, \"9\": 208, \"0\": 1, \"15\": 2}, \"8\": {\"7\": 83, \"5\": 395, \"8\": 459, \"13\": 54, \"15\": 186, \"10\": 12, \"3\": 6, \"1\": 5}, \"3\": {\"8\": 59, \"10\": 85, \"7\": 33, \"3\": 514, \"13\": 147, \"15\": 26, \"0\": 254, \"5\": 25, \"9\": 38, \"6\": 17, \"1\": 2}, \"2\": {\"14\": 107, \"2\": 1092, \"13\": 1}, \"13\": {\"13\": 651, \"3\": 138, \"5\": 84, \"8\": 124, \"1\": 46, \"15\": 51, \"10\": 38, \"2\": 23, \"7\": 24, \"14\": 6, \"0\": 9, \"9\": 5, \"6\": 1}}, \"ORACLE.run1_14\": {\"15\": {\"15\": 1180, \"7\": 20}, \"5\": {\"4\": 222, \"5\": 783, \"1\": 134, \"13\": 1, \"2\": 39, \"3\": 14, \"7\": 5, \"14\": 1, \"15\": 1}, \"7\": {\"7\": 1185, \"15\": 10, \"1\": 4, \"5\": 1}, \"4\": {\"4\": 903, \"1\": 15, \"2\": 31, \"5\": 144, \"3\": 107}, \"10\": {\"10\": 1155, \"0\": 44, \"3\": 1}, \"11\": {\"11\": 1020, \"9\": 90, \"0\": 87, \"10\": 3}, \"12\": {\"12\": 1198, \"9\": 2}, \"0\": {\"0\": 1089, \"10\": 71, \"11\": 29, \"3\": 11}, \"14\": {\"14\": 994, \"6\": 36, \"3\": 12, \"13\": 78, \"2\": 78, \"10\": 1, \"4\": 1}, \"8\": {\"8\": 1200}, \"13\": {\"13\": 424, \"2\": 98, \"14\": 151, \"6\": 519, \"5\": 7, \"4\": 1}, \"6\": {\"13\": 442, \"6\": 672, \"2\": 40, \"14\": 46}, \"1\": {\"1\": 1060, \"5\": 119, \"4\": 20, \"7\": 1}, \"3\": {\"3\": 1033, \"5\": 8, \"4\": 128, \"14\": 11, \"2\": 17, \"10\": 1, \"13\": 1, \"0\": 1}, \"9\": {\"9\": 1196, \"11\": 2, \"12\": 2}, \"2\": {\"3\": 70, \"2\": 608, \"15\": 21, \"4\": 68, \"6\": 62, \"5\": 135, \"14\": 173, \"13\": 60, \"1\": 2, \"7\": 1}}, \"ORACLE.run1_20\": {\"4\": {\"4\": 1012, \"8\": 90, \"12\": 7, \"3\": 52, \"10\": 32, \"7\": 6, \"0\": 1}, \"10\": {\"10\": 1066, \"4\": 32, \"14\": 76, \"8\": 24, \"6\": 1, \"7\": 1}, \"15\": {\"15\": 766, \"5\": 92, \"13\": 43, \"1\": 196, \"12\": 21, \"0\": 73, \"9\": 4, \"3\": 1, \"2\": 4}, \"0\": {\"15\": 112, \"0\": 691, \"3\": 23, \"5\": 292, \"2\": 7, \"1\": 35, \"12\": 20, \"13\": 7, \"4\": 4, \"8\": 3, \"7\": 4, \"9\": 2}, \"6\": {\"6\": 1082, \"14\": 110, \"7\": 5, \"8\": 3}, \"3\": {\"3\": 555, \"12\": 231, \"9\": 192, \"0\": 9, \"7\": 34, \"5\": 39, \"4\": 35, \"2\": 75, \"1\": 22, \"8\": 5, \"15\": 2, \"10\": 1}, \"7\": {\"3\": 33, \"2\": 126, \"7\": 952, \"4\": 7, \"8\": 42, \"9\": 33, \"10\": 2, \"6\": 2, \"0\": 1, \"13\": 2}, \"2\": {\"9\": 300, \"2\": 603, \"3\": 64, \"7\": 112, \"12\": 47, \"15\": 5, \"13\": 48, \"1\": 12, \"5\": 7, \"0\": 2}, \"8\": {\"8\": 972, \"4\": 98, \"7\": 62, \"3\": 13, \"14\": 35, \"10\": 12, \"6\": 5, \"12\": 1, \"2\": 1, \"9\": 1}, \"11\": {\"11\": 1200}, \"14\": {\"14\": 995, \"6\": 115, \"8\": 24, \"10\": 66}, \"12\": {\"5\": 136, \"12\": 468, \"2\": 51, \"1\": 149, \"9\": 116, \"3\": 234, \"4\": 5, \"7\": 3, \"15\": 21, \"13\": 5, \"0\": 12}, \"13\": {\"13\": 1111, \"2\": 48, \"15\": 18, \"12\": 5, \"9\": 9, \"1\": 4, \"0\": 2, \"3\": 2, \"5\": 1}, \"9\": {\"2\": 310, \"3\": 178, \"9\": 546, \"1\": 19, \"13\": 5, \"7\": 25, \"12\": 105, \"4\": 3, \"5\": 3, \"0\": 4, \"15\": 2}, \"5\": {\"15\": 81, \"5\": 522, \"1\": 186, \"0\": 226, \"3\": 36, \"12\": 134, \"4\": 4, \"13\": 4, \"9\": 4, \"2\": 3}, \"1\": {\"15\": 188, \"1\": 576, \"5\": 211, \"12\": 163, \"3\": 20, \"9\": 16, \"0\": 21, \"13\": 1, \"2\": 4}}, \"ORACLE.run1_50\": {\"5\": {\"4\": 173, \"5\": 448, \"13\": 166, \"7\": 269, \"6\": 83, \"1\": 56, \"10\": 5}, \"12\": {\"12\": 1068, \"11\": 9, \"9\": 67, \"14\": 56}, \"14\": {\"14\": 1176, \"9\": 1, \"12\": 20, \"11\": 3}, \"4\": {\"7\": 37, \"4\": 624, \"15\": 147, \"6\": 78, \"1\": 168, \"5\": 126, \"13\": 19, \"11\": 1}, \"13\": {\"7\": 167, \"13\": 794, \"5\": 164, \"6\": 50, \"4\": 8, \"10\": 14, \"0\": 3}, \"10\": {\"10\": 1113, \"13\": 17, \"7\": 18, \"0\": 32, \"5\": 2, \"8\": 18}, \"9\": {\"9\": 945, \"11\": 171, \"12\": 84}, \"15\": {\"15\": 915, \"1\": 163, \"4\": 80, \"6\": 19, \"11\": 23}, \"6\": {\"6\": 900, \"4\": 83, \"13\": 63, \"5\": 38, \"0\": 3, \"15\": 25, \"1\": 82, \"7\": 6}, \"2\": {\"2\": 1124, \"0\": 76}, \"0\": {\"0\": 1054, \"10\": 33, \"2\": 108, \"5\": 2, \"13\": 3}, \"11\": {\"9\": 120, \"11\": 1023, \"15\": 29, \"12\": 15, \"14\": 9, \"1\": 4}, \"3\": {\"3\": 1186, \"8\": 14}, \"8\": {\"8\": 1173, \"10\": 17, \"3\": 10}, \"7\": {\"7\": 772, \"13\": 223, \"5\": 169, \"10\": 26, \"4\": 2, \"6\": 8}, \"1\": {\"4\": 105, \"1\": 755, \"15\": 225, \"6\": 97, \"11\": 6, \"14\": 4, \"5\": 5, \"0\": 1, \"13\": 2}}, \"ORACLE.run1_26\": {\"7\": {\"7\": 642, \"8\": 74, \"3\": 181, \"2\": 142, \"14\": 9, \"4\": 112, \"5\": 4, \"0\": 16, \"15\": 11, \"10\": 2, \"1\": 4, \"9\": 3}, \"6\": {\"6\": 879, \"9\": 145, \"10\": 69, \"13\": 12, \"8\": 20, \"0\": 18, \"15\": 51, \"14\": 2, \"5\": 4}, \"14\": {\"4\": 224, \"14\": 451, \"1\": 211, \"0\": 185, \"8\": 25, \"10\": 84, \"7\": 20}, \"15\": {\"9\": 378, \"5\": 124, \"15\": 488, \"8\": 73, \"6\": 35, \"13\": 58, \"2\": 30, \"7\": 6, \"10\": 6, \"4\": 2}, \"5\": {\"15\": 138, \"5\": 793, \"8\": 30, \"13\": 144, \"9\": 46, \"2\": 39, \"7\": 4, \"6\": 3, \"10\": 2, \"3\": 1}, \"10\": {\"14\": 87, \"0\": 243, \"10\": 544, \"15\": 5, \"8\": 158, \"4\": 55, \"6\": 61, \"9\": 22, \"1\": 20, \"7\": 3, \"2\": 2}, \"4\": {\"7\": 92, \"1\": 90, \"4\": 476, \"0\": 156, \"14\": 234, \"10\": 58, \"3\": 2, \"8\": 89, \"2\": 2, \"15\": 1}, \"11\": {\"11\": 1196, \"12\": 4}, \"13\": {\"13\": 875, \"5\": 198, \"15\": 71, \"2\": 15, \"9\": 30, \"6\": 10, \"3\": 1}, \"2\": {\"2\": 420, \"15\": 62, \"3\": 401, \"5\": 105, \"7\": 145, \"8\": 45, \"9\": 11, \"10\": 1, \"0\": 2, \"14\": 2, \"4\": 5, \"13\": 1}, \"0\": {\"4\": 177, \"10\": 270, \"14\": 210, \"0\": 351, \"8\": 111, \"6\": 18, \"7\": 22, \"1\": 28, \"15\": 4, \"9\": 8, \"2\": 1}, \"12\": {\"12\": 1200}, \"3\": {\"7\": 169, \"3\": 738, \"2\": 285, \"4\": 4, \"15\": 3, \"1\": 1}, \"9\": {\"9\": 484, \"8\": 89, \"15\": 370, \"6\": 126, \"2\": 10, \"13\": 42, \"10\": 17, \"5\": 47, \"3\": 1, \"7\": 6, \"0\": 8}, \"8\": {\"9\": 91, \"8\": 480, \"7\": 83, \"14\": 20, \"4\": 82, \"15\": 85, \"0\": 117, \"2\": 22, \"10\": 144, \"3\": 3, \"5\": 25, \"6\": 46, \"1\": 2}, \"1\": {\"14\": 202, \"1\": 788, \"4\": 136, \"10\": 24, \"7\": 14, \"3\": 1, \"0\": 27, \"8\": 8}}, \"ORACLE.run1_32\": {\"7\": {\"7\": 578, \"5\": 168, \"4\": 150, \"13\": 72, \"14\": 156, \"2\": 25, \"0\": 24, \"11\": 23, \"8\": 3, \"3\": 1}, \"2\": {\"2\": 983, \"4\": 176, \"0\": 30, \"7\": 8, \"14\": 1, \"5\": 2}, \"5\": {\"5\": 387, \"7\": 168, \"8\": 70, \"13\": 295, \"2\": 17, \"0\": 59, \"3\": 63, \"4\": 107, \"14\": 30, \"11\": 4}, \"6\": {\"6\": 1200}, \"13\": {\"7\": 85, \"3\": 108, \"5\": 267, \"13\": 570, \"8\": 51, \"14\": 27, \"0\": 12, \"4\": 66, \"11\": 14}, \"4\": {\"4\": 755, \"5\": 87, \"7\": 129, \"13\": 36, \"2\": 151, \"0\": 36, \"14\": 4, \"8\": 2}, \"3\": {\"3\": 1127, \"13\": 44, \"11\": 12, \"8\": 7, \"5\": 9, \"7\": 1}, \"0\": {\"4\": 45, \"0\": 946, \"8\": 90, \"5\": 40, \"14\": 25, \"13\": 7, \"2\": 20, \"7\": 27}, \"9\": {\"9\": 1198, \"12\": 2}, \"12\": {\"12\": 1200}, \"8\": {\"8\": 965, \"5\": 66, \"13\": 77, \"14\": 7, \"0\": 70, \"4\": 4, \"3\": 7, \"7\": 4}, \"14\": {\"7\": 201, \"14\": 486, \"11\": 323, \"5\": 33, \"0\": 64, \"13\": 46, \"2\": 13, \"4\": 16, \"8\": 10, \"3\": 8}, \"15\": {\"15\": 1190, \"8\": 10}, \"11\": {\"11\": 983, \"14\": 169, \"3\": 14, \"13\": 13, \"7\": 15, \"5\": 5, \"8\": 1}, \"10\": {\"10\": 1196, \"1\": 4}, \"1\": {\"1\": 1183, \"10\": 17}}, \"ORACLE.run1_44\": {\"11\": {\"11\": 1119, \"13\": 66, \"6\": 15}, \"7\": {\"7\": 784, \"6\": 34, \"9\": 206, \"2\": 175, \"3\": 1}, \"6\": {\"6\": 865, \"9\": 96, \"7\": 32, \"13\": 186, \"11\": 21}, \"12\": {\"12\": 955, \"10\": 49, \"3\": 12, \"1\": 184}, \"4\": {\"14\": 312, \"4\": 882, \"15\": 6}, \"13\": {\"13\": 821, \"9\": 136, \"6\": 207, \"11\": 29, \"4\": 3, \"7\": 3, \"14\": 1}, \"8\": {\"15\": 38, \"8\": 781, \"0\": 370, \"5\": 11}, \"5\": {\"5\": 1040, \"0\": 95, \"15\": 33, \"8\": 10, \"14\": 21, \"4\": 1}, \"14\": {\"4\": 312, \"15\": 72, \"14\": 781, \"5\": 35}, \"3\": {\"3\": 1093, \"1\": 98, \"7\": 2, \"2\": 1, \"12\": 6}, \"10\": {\"10\": 888, \"1\": 126, \"12\": 86, \"2\": 95, \"7\": 3, \"3\": 2}, \"1\": {\"10\": 99, \"12\": 164, \"1\": 760, \"3\": 134, \"2\": 43}, \"2\": {\"9\": 3, \"10\": 82, \"2\": 927, \"7\": 137, \"1\": 47, \"3\": 4}, \"15\": {\"15\": 973, \"0\": 98, \"5\": 34, \"14\": 73, \"4\": 8, \"8\": 14}, \"9\": {\"7\": 274, \"6\": 83, \"9\": 692, \"13\": 141, \"2\": 10}, \"0\": {\"0\": 746, \"8\": 345, \"5\": 63, \"15\": 46}}, \"ORACLE.run1_8\": {\"10\": {\"5\": 19, \"14\": 240, \"10\": 847, \"13\": 62, \"0\": 3, \"4\": 27, \"1\": 2}, \"6\": {\"6\": 764, \"7\": 228, \"4\": 126, \"0\": 50, \"13\": 26, \"8\": 4, \"14\": 2}, \"13\": {\"13\": 437, \"4\": 181, \"0\": 293, \"14\": 102, \"6\": 50, \"10\": 123, \"7\": 10, \"1\": 2, \"11\": 1, \"5\": 1}, \"3\": {\"3\": 1053, \"2\": 82, \"12\": 59, \"15\": 6}, \"9\": {\"9\": 1200}, \"1\": {\"1\": 906, \"11\": 239, \"14\": 32, \"5\": 15, \"10\": 8}, \"5\": {\"5\": 1067, \"1\": 55, \"10\": 55, \"14\": 21, \"11\": 2}, \"11\": {\"1\": 376, \"11\": 797, \"5\": 16, \"8\": 6, \"14\": 4, \"4\": 1}, \"4\": {\"4\": 681, \"14\": 144, \"6\": 107, \"13\": 212, \"10\": 28, \"0\": 23, \"8\": 2, \"7\": 2, \"1\": 1}, \"14\": {\"14\": 618, \"10\": 265, \"4\": 178, \"1\": 46, \"13\": 82, \"11\": 3, \"5\": 6, \"0\": 1, \"6\": 1}, \"12\": {\"12\": 648, \"15\": 373, \"3\": 136, \"8\": 34, \"2\": 9}, \"7\": {\"7\": 952, \"6\": 199, \"0\": 43, \"13\": 3, \"4\": 3}, \"0\": {\"0\": 825, \"6\": 50, \"7\": 72, \"13\": 216, \"4\": 33, \"10\": 4}, \"15\": {\"12\": 229, \"15\": 904, \"8\": 56, \"3\": 4, \"7\": 1, \"2\": 6}, \"2\": {\"2\": 1011, \"3\": 152, \"7\": 19, \"15\": 11, \"12\": 7}, \"8\": {\"8\": 1163, \"15\": 30, \"6\": 5, \"12\": 1, \"11\": 1}}, \"ORACLE.run1_38\": {\"4\": {\"4\": 1132, \"12\": 65, \"10\": 2, \"7\": 1}, \"7\": {\"8\": 28, \"7\": 997, \"0\": 132, \"5\": 40, \"3\": 2, \"9\": 1}, \"12\": {\"12\": 1165, \"4\": 32, \"2\": 1, \"10\": 2}, \"10\": {\"13\": 111, \"10\": 967, \"8\": 41, \"4\": 2, \"5\": 5, \"7\": 4, \"11\": 7, \"0\": 21, \"14\": 21, \"15\": 6, \"2\": 6, \"12\": 9}, \"0\": {\"7\": 190, \"8\": 250, \"3\": 74, \"0\": 539, \"5\": 118, \"10\": 25, \"13\": 2, \"4\": 2}, \"1\": {\"1\": 1164, \"15\": 35, \"5\": 1}, \"5\": {\"8\": 334, \"3\": 9, \"5\": 507, \"7\": 93, \"15\": 74, \"0\": 77, \"1\": 8, \"6\": 47, \"13\": 9, \"9\": 36, \"10\": 6}, \"15\": {\"8\": 28, \"13\": 150, \"15\": 892, \"1\": 92, \"10\": 6, \"5\": 23, \"2\": 9}, \"9\": {\"9\": 811, \"6\": 339, \"3\": 32, \"5\": 17, \"8\": 1}, \"11\": {\"14\": 131, \"11\": 1041, \"12\": 2, \"10\": 20, \"2\": 6}, \"14\": {\"14\": 1083, \"11\": 38, \"2\": 70, \"10\": 7, \"12\": 1, \"13\": 1}, \"6\": {\"6\": 1029, \"9\": 163, \"5\": 8}, \"8\": {\"8\": 736, \"0\": 106, \"5\": 276, \"15\": 19, \"7\": 38, \"10\": 18, \"13\": 6, \"6\": 1}, \"3\": {\"3\": 1136, \"9\": 39, \"7\": 8, \"0\": 14, \"5\": 1, \"6\": 1, \"8\": 1}, \"2\": {\"2\": 1141, \"14\": 45, \"13\": 11, \"11\": 2, \"15\": 1}, \"13\": {\"13\": 891, \"10\": 84, \"1\": 7, \"8\": 11, \"15\": 183, \"2\": 18, \"5\": 5, \"14\": 1}}}, \"per_domain_accuracy\": {\"ORACLE.run2_14\": {\"accuracy\": 0.8252083333333333, \"source?\": true}, \"ORACLE.run2_20\": {\"accuracy\": 0.6502083333333334, \"source?\": true}, \"ORACLE.run2_50\": {\"accuracy\": 0.8077083333333334, \"source?\": true}, \"ORACLE.run2_26\": {\"accuracy\": 0.57609375, \"source?\": true}, \"ORACLE.run2_32\": {\"accuracy\": 0.794375, \"source?\": true}, \"ORACLE.run2_44\": {\"accuracy\": 0.7619791666666667, \"source?\": true}, \"ORACLE.run2_8\": {\"accuracy\": 0.7186979166666667, \"source?\": true}, \"ORACLE.run2_38\": {\"accuracy\": 0.7031770833333333, \"source?\": true}, \"ORACLE.run1_14\": {\"accuracy\": 0.8177083333333334, \"source?\": false}, \"ORACLE.run1_20\": {\"accuracy\": 0.6831770833333334, \"source?\": false}, \"ORACLE.run1_50\": {\"accuracy\": 0.7848958333333333, \"source?\": false}, \"ORACLE.run1_26\": {\"accuracy\": 0.5627604166666667, \"source?\": false}, \"ORACLE.run1_32\": {\"accuracy\": 0.7784895833333333, \"source?\": false}, \"ORACLE.run1_44\": {\"accuracy\": 0.7347395833333333, \"source?\": false}, \"ORACLE.run1_8\": {\"accuracy\": 0.7225520833333333, \"source?\": false}, \"ORACLE.run1_38\": {\"accuracy\": 0.79328125, \"source?\": false}}}, \"history\": {\"epoch_indices\": [1, 2, 3, 4, 5, 6, 7, 8, 9, 10], \"train_label_loss\": [1.1359432414333734, 0.8918342291093653, 0.8128109025054921, 0.7271609425950529, 0.6460556610842191, 0.5818668589279765, 0.5346837024512656, 0.49497974223157926, 0.4632901555163387, 0.43264273129303804], \"source_val_label_loss\": [1.0024789571762085, 0.9094331860542297, 0.8771566152572632, 0.8142828345298767, 0.7799152731895447, 0.7694934606552124, 0.7688511610031128, 0.7772620320320129, 0.7835183143615723, 0.8087740540504456], \"target_val_label_loss\": [0.972338080406189, 0.8700140714645386, 0.8381235003471375, 0.7821810841560364, 0.749722421169281, 0.7395917177200317, 0.7469358444213867, 0.7565438747406006, 0.7624536156654358, 0.7921813130378723], \"source_val_acc_label\": [0.6304036458333333, 0.6613802083333333, 0.6813671875, 0.7045768229166667, 0.7206901041666667, 0.7296809895833334, 0.7256966145833333, 0.725703125, 0.7289583333333334, 0.7204166666666667], \"target_val_acc_label\": [0.6409635416666667, 0.67376953125, 0.689765625, 0.7114908854166667, 0.7250455729166667, 0.7347005208333334, 0.7291080729166667, 0.729609375, 0.7326888020833333, 0.7232291666666667]}, \"dataset_metrics\": {\"source\": {\"train\": {\"n_unique_x\": 896000, \"n_unique_y\": 16, \"n_batch/episode\": 33600}, \"val\": {\"n_unique_x\": 192000, \"n_unique_y\": 16, \"n_batch/episode\": 4800}, \"test\": {\"n_unique_x\": 192000, \"n_unique_y\": 16, \"n_batch/episode\": 4800}}, \"target\": {\"train\": {\"n_unique_x\": 896000, \"n_unique_y\": 16, \"n_batch/episode\": 33600}, \"val\": {\"n_unique_x\": 192000, \"n_unique_y\": 16, \"n_batch/episode\": 4800}, \"test\": {\"n_unique_x\": 192000, \"n_unique_y\": 16, \"n_batch/episode\": 4800}}}}'"
      ]
     },
     "execution_count": 29,
     "metadata": {},
     "output_type": "execute_result"
    }
   ],
   "source": [
    "json.dumps(experiment)"
   ]
  }
 ],
 "metadata": {
  "celltoolbar": "Tags",
  "kernelspec": {
   "display_name": "Python 3 (ipykernel)",
   "language": "python",
   "name": "python3"
  },
  "language_info": {
   "codemirror_mode": {
    "name": "ipython",
    "version": 3
   },
   "file_extension": ".py",
   "mimetype": "text/x-python",
   "name": "python",
   "nbconvert_exporter": "python",
   "pygments_lexer": "ipython3",
   "version": "3.8.10"
  },
  "papermill": {
   "default_parameters": {},
   "duration": 9799.639908,
   "end_time": "2022-03-24T09:59:36.682044",
   "environment_variables": {},
   "exception": null,
   "input_path": "/mnt/wd500GB/CSC500/csc500-main/csc500-notebooks/templates/tl_ptn_template.ipynb",
   "output_path": "trial.ipynb",
   "parameters": {
    "parameters": {
     "BEST_MODEL_PATH": "./best_model.pth",
     "NUM_LOGS_PER_EPOCH": 10,
     "criteria_for_best": "target_accuracy",
     "dataset_seed": 420,
     "datasets": [
      {
       "domain_prefix": "ORACLE.run1_",
       "domains": [
        32,
        38,
        8,
        44,
        14,
        50,
        20,
        26
       ],
       "episode_transforms": [],
       "labels": [
        "3123D52",
        "3123D65",
        "3123D79",
        "3123D80",
        "3123D54",
        "3123D70",
        "3123D7B",
        "3123D89",
        "3123D58",
        "3123D76",
        "3123D7D",
        "3123EFE",
        "3123D64",
        "3123D78",
        "3123D7E",
        "3124E4A"
       ],
       "num_examples_per_domain_per_label": 10000,
       "pickle_path": "/mnt/wd500GB/CSC500/csc500-main/datasets/oracle.Run1_10kExamples_stratified_ds.2022A.pkl",
       "source_or_target_dataset": "target",
       "x_transforms": [
        "unit_power"
       ]
      },
      {
       "domain_prefix": "ORACLE.run2_",
       "domains": [
        32,
        38,
        8,
        44,
        14,
        50,
        20,
        26
       ],
       "episode_transforms": [],
       "labels": [
        "3123D52",
        "3123D65",
        "3123D79",
        "3123D80",
        "3123D54",
        "3123D70",
        "3123D7B",
        "3123D89",
        "3123D58",
        "3123D76",
        "3123D7D",
        "3123EFE",
        "3123D64",
        "3123D78",
        "3123D7E",
        "3124E4A"
       ],
       "num_examples_per_domain_per_label": 10000,
       "pickle_path": "/mnt/wd500GB/CSC500/csc500-main/datasets/oracle.Run2_10kExamples_stratified_ds.2022A.pkl",
       "source_or_target_dataset": "source",
       "x_transforms": [
        "unit_power"
       ]
      }
     ],
     "device": "cuda",
     "experiment_name": "tl_1v2:oracle.run1-oracle.run2",
     "lr": 0.0001,
     "n_epoch": 50,
     "n_query": 2,
     "n_shot": 3,
     "n_way": 16,
     "patience": 3,
     "seed": 420,
     "test_k_factor": 2,
     "torch_default_dtype": "torch.float32",
     "train_k_factor": 3,
     "val_k_factor": 2,
     "x_net": [
      {
       "class": "nnReshape",
       "kargs": {
        "shape": [
         -1,
         1,
         2,
         256
        ]
       }
      },
      {
       "class": "Conv2d",
       "kargs": {
        "bias": false,
        "in_channels": 1,
        "kernel_size": [
         1,
         7
        ],
        "out_channels": 256,
        "padding": [
         0,
         3
        ]
       }
      },
      {
       "class": "ReLU",
       "kargs": {
        "inplace": true
       }
      },
      {
       "class": "BatchNorm2d",
       "kargs": {
        "num_features": 256
       }
      },
      {
       "class": "Conv2d",
       "kargs": {
        "bias": true,
        "in_channels": 256,
        "kernel_size": [
         2,
         7
        ],
        "out_channels": 80,
        "padding": [
         0,
         3
        ]
       }
      },
      {
       "class": "ReLU",
       "kargs": {
        "inplace": true
       }
      },
      {
       "class": "BatchNorm2d",
       "kargs": {
        "num_features": 80
       }
      },
      {
       "class": "Flatten",
       "kargs": {}
      },
      {
       "class": "Linear",
       "kargs": {
        "in_features": 20480,
        "out_features": 256
       }
      },
      {
       "class": "ReLU",
       "kargs": {
        "inplace": true
       }
      },
      {
       "class": "BatchNorm1d",
       "kargs": {
        "num_features": 256
       }
      },
      {
       "class": "Linear",
       "kargs": {
        "in_features": 256,
        "out_features": 256
       }
      }
     ]
    }
   },
   "start_time": "2022-03-24T07:16:17.042136",
   "version": "2.3.4"
  }
 },
 "nbformat": 4,
 "nbformat_minor": 5
}