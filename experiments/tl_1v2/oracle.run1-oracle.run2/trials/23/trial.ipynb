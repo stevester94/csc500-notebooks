{
 "cells": [
  {
   "cell_type": "markdown",
   "id": "9fea5f46",
   "metadata": {
    "papermill": {
     "duration": 0.021752,
     "end_time": "2022-03-29T07:01:59.487362",
     "exception": false,
     "start_time": "2022-03-29T07:01:59.465610",
     "status": "completed"
    },
    "tags": []
   },
   "source": [
    "# Transfer Learning Template"
   ]
  },
  {
   "cell_type": "code",
   "execution_count": 1,
   "id": "0902182a",
   "metadata": {
    "execution": {
     "iopub.execute_input": "2022-03-29T07:01:59.542991Z",
     "iopub.status.busy": "2022-03-29T07:01:59.542548Z",
     "iopub.status.idle": "2022-03-29T07:02:00.879672Z",
     "shell.execute_reply": "2022-03-29T07:02:00.880102Z"
    },
    "papermill": {
     "duration": 1.371756,
     "end_time": "2022-03-29T07:02:00.880294",
     "exception": false,
     "start_time": "2022-03-29T07:01:59.508538",
     "status": "completed"
    },
    "tags": []
   },
   "outputs": [],
   "source": [
    "%load_ext autoreload\n",
    "%autoreload 2\n",
    "%matplotlib inline\n",
    "\n",
    "    \n",
    "import os, json, sys, time, random\n",
    "import numpy as np\n",
    "import torch\n",
    "from torch.optim import Adam\n",
    "from  easydict import EasyDict\n",
    "import matplotlib.pyplot as plt\n",
    "\n",
    "from steves_models.steves_ptn import Steves_Prototypical_Network\n",
    "\n",
    "from steves_utils.lazy_iterable_wrapper import Lazy_Iterable_Wrapper\n",
    "from steves_utils.iterable_aggregator import Iterable_Aggregator\n",
    "from steves_utils.ptn_train_eval_test_jig import  PTN_Train_Eval_Test_Jig\n",
    "from steves_utils.torch_sequential_builder import build_sequential\n",
    "from steves_utils.torch_utils import get_dataset_metrics, ptn_confusion_by_domain_over_dataloader\n",
    "from steves_utils.utils_v2 import (per_domain_accuracy_from_confusion, get_datasets_base_path)\n",
    "from steves_utils.PTN.utils import independent_accuracy_assesment\n",
    "\n",
    "from torch.utils.data import DataLoader\n",
    "\n",
    "from steves_utils.stratified_dataset.episodic_accessor import Episodic_Accessor_Factory\n",
    "\n",
    "from steves_utils.ptn_do_report import (\n",
    "    get_loss_curve,\n",
    "    get_results_table,\n",
    "    get_parameters_table,\n",
    "    get_domain_accuracies,\n",
    ")\n",
    "\n",
    "from steves_utils.transforms import get_chained_transform"
   ]
  },
  {
   "cell_type": "markdown",
   "id": "41c840b4",
   "metadata": {
    "papermill": {
     "duration": 0.012227,
     "end_time": "2022-03-29T07:02:00.910796",
     "exception": false,
     "start_time": "2022-03-29T07:02:00.898569",
     "status": "completed"
    },
    "tags": []
   },
   "source": [
    "# Allowed Parameters\n",
    "These are allowed parameters, not defaults\n",
    "Each of these values need to be present in the injected parameters (the notebook will raise an exception if they are not present)\n",
    "\n",
    "Papermill uses the cell tag \"parameters\" to inject the real parameters below this cell.\n",
    "Enable tags to see what I mean"
   ]
  },
  {
   "cell_type": "code",
   "execution_count": 2,
   "id": "fd44eb83",
   "metadata": {
    "execution": {
     "iopub.execute_input": "2022-03-29T07:02:00.938139Z",
     "iopub.status.busy": "2022-03-29T07:02:00.937847Z",
     "iopub.status.idle": "2022-03-29T07:02:00.952157Z",
     "shell.execute_reply": "2022-03-29T07:02:00.952551Z"
    },
    "papermill": {
     "duration": 0.029597,
     "end_time": "2022-03-29T07:02:00.952660",
     "exception": false,
     "start_time": "2022-03-29T07:02:00.923063",
     "status": "completed"
    },
    "tags": []
   },
   "outputs": [],
   "source": [
    "required_parameters = {\n",
    "    \"experiment_name\",\n",
    "    \"lr\",\n",
    "    \"device\",\n",
    "    \"seed\",\n",
    "    \"dataset_seed\",\n",
    "    \"n_shot\",\n",
    "    \"n_query\",\n",
    "    \"n_way\",\n",
    "    \"train_k_factor\",\n",
    "    \"val_k_factor\",\n",
    "    \"test_k_factor\",\n",
    "    \"n_epoch\",\n",
    "    \"patience\",\n",
    "    \"criteria_for_best\",\n",
    "    \"x_net\",\n",
    "    \"datasets\",\n",
    "    \"torch_default_dtype\",\n",
    "    \"NUM_LOGS_PER_EPOCH\",\n",
    "    \"BEST_MODEL_PATH\",\n",
    "    \"x_shape\",\n",
    "}"
   ]
  },
  {
   "cell_type": "code",
   "execution_count": 3,
   "id": "fa3f0049",
   "metadata": {
    "execution": {
     "iopub.execute_input": "2022-03-29T07:02:00.991922Z",
     "iopub.status.busy": "2022-03-29T07:02:00.991646Z",
     "iopub.status.idle": "2022-03-29T07:02:01.004780Z",
     "shell.execute_reply": "2022-03-29T07:02:01.004312Z"
    },
    "papermill": {
     "duration": 0.033865,
     "end_time": "2022-03-29T07:02:01.004870",
     "exception": false,
     "start_time": "2022-03-29T07:02:00.971005",
     "status": "completed"
    },
    "tags": [
     "parameters"
    ]
   },
   "outputs": [],
   "source": [
    "from steves_utils.CORES.utils import (\n",
    "    ALL_NODES,\n",
    "    ALL_NODES_MINIMUM_1000_EXAMPLES,\n",
    "    ALL_DAYS\n",
    ")\n",
    "\n",
    "from steves_utils.ORACLE.utils_v2 import (\n",
    "    ALL_DISTANCES_FEET_NARROWED,\n",
    "    ALL_RUNS,\n",
    "    ALL_SERIAL_NUMBERS,\n",
    ")\n",
    "\n",
    "standalone_parameters = {}\n",
    "standalone_parameters[\"experiment_name\"] = \"STANDALONE PTN\"\n",
    "standalone_parameters[\"lr\"] = 0.001\n",
    "standalone_parameters[\"device\"] = \"cuda\"\n",
    "\n",
    "standalone_parameters[\"seed\"] = 1337\n",
    "standalone_parameters[\"dataset_seed\"] = 1337\n",
    "\n",
    "standalone_parameters[\"n_way\"] = 8\n",
    "standalone_parameters[\"n_shot\"] = 3\n",
    "standalone_parameters[\"n_query\"]  = 2\n",
    "standalone_parameters[\"train_k_factor\"] = 1\n",
    "standalone_parameters[\"val_k_factor\"] = 2\n",
    "standalone_parameters[\"test_k_factor\"] = 2\n",
    "\n",
    "\n",
    "standalone_parameters[\"n_epoch\"] = 50\n",
    "\n",
    "standalone_parameters[\"patience\"] = 10\n",
    "standalone_parameters[\"criteria_for_best\"] = \"source_loss\"\n",
    "\n",
    "standalone_parameters[\"datasets\"] = [\n",
    "    {\n",
    "        \"labels\": ALL_SERIAL_NUMBERS,\n",
    "        \"domains\": ALL_DISTANCES_FEET_NARROWED,\n",
    "        \"num_examples_per_domain_per_label\": 100,\n",
    "        \"pickle_path\": os.path.join(get_datasets_base_path(), \"oracle.Run1_framed_2000Examples_stratified_ds.2022A.pkl\"),\n",
    "        \"source_or_target_dataset\": \"source\",\n",
    "        \"x_transforms\": [\"unit_mag\", \"minus_two\"],\n",
    "        \"episode_transforms\": [],\n",
    "        \"domain_prefix\": \"ORACLE_\"\n",
    "    },\n",
    "    {\n",
    "        \"labels\": ALL_NODES,\n",
    "        \"domains\": ALL_DAYS,\n",
    "        \"num_examples_per_domain_per_label\": 100,\n",
    "        \"pickle_path\": os.path.join(get_datasets_base_path(), \"cores.stratified_ds.2022A.pkl\"),\n",
    "        \"source_or_target_dataset\": \"target\",\n",
    "        \"x_transforms\": [\"unit_power\", \"times_zero\"],\n",
    "        \"episode_transforms\": [],\n",
    "        \"domain_prefix\": \"CORES_\"\n",
    "    }   \n",
    "]\n",
    "\n",
    "standalone_parameters[\"torch_default_dtype\"] = \"torch.float32\" \n",
    "\n",
    "\n",
    "\n",
    "standalone_parameters[\"x_net\"] =     [\n",
    "    {\"class\": \"nnReshape\", \"kargs\": {\"shape\":[-1, 1, 2, 256]}},\n",
    "    {\"class\": \"Conv2d\", \"kargs\": { \"in_channels\":1, \"out_channels\":256, \"kernel_size\":(1,7), \"bias\":False, \"padding\":(0,3), },},\n",
    "    {\"class\": \"ReLU\", \"kargs\": {\"inplace\": True}},\n",
    "    {\"class\": \"BatchNorm2d\", \"kargs\": {\"num_features\":256}},\n",
    "\n",
    "    {\"class\": \"Conv2d\", \"kargs\": { \"in_channels\":256, \"out_channels\":80, \"kernel_size\":(2,7), \"bias\":True, \"padding\":(0,3), },},\n",
    "    {\"class\": \"ReLU\", \"kargs\": {\"inplace\": True}},\n",
    "    {\"class\": \"BatchNorm2d\", \"kargs\": {\"num_features\":80}},\n",
    "    {\"class\": \"Flatten\", \"kargs\": {}},\n",
    "\n",
    "    {\"class\": \"Linear\", \"kargs\": {\"in_features\": 80*256, \"out_features\": 256}}, # 80 units per IQ pair\n",
    "    {\"class\": \"ReLU\", \"kargs\": {\"inplace\": True}},\n",
    "    {\"class\": \"BatchNorm1d\", \"kargs\": {\"num_features\":256}},\n",
    "\n",
    "    {\"class\": \"Linear\", \"kargs\": {\"in_features\": 256, \"out_features\": 256}},\n",
    "]\n",
    "\n",
    "# Parameters relevant to results\n",
    "# These parameters will basically never need to change\n",
    "standalone_parameters[\"NUM_LOGS_PER_EPOCH\"] = 10\n",
    "standalone_parameters[\"BEST_MODEL_PATH\"] = \"./best_model.pth\"\n",
    "\n",
    "\n",
    "\n",
    "\n"
   ]
  },
  {
   "cell_type": "code",
   "execution_count": 4,
   "id": "bca11bf8",
   "metadata": {
    "execution": {
     "iopub.execute_input": "2022-03-29T07:02:01.043488Z",
     "iopub.status.busy": "2022-03-29T07:02:01.043021Z",
     "iopub.status.idle": "2022-03-29T07:02:01.054833Z",
     "shell.execute_reply": "2022-03-29T07:02:01.054372Z"
    },
    "papermill": {
     "duration": 0.032546,
     "end_time": "2022-03-29T07:02:01.054924",
     "exception": false,
     "start_time": "2022-03-29T07:02:01.022378",
     "status": "completed"
    },
    "tags": [
     "injected-parameters"
    ]
   },
   "outputs": [],
   "source": [
    "# Parameters\n",
    "parameters = {\n",
    "    \"experiment_name\": \"tl_1v2:oracle.run1-oracle.run2\",\n",
    "    \"device\": \"cuda\",\n",
    "    \"lr\": 0.0001,\n",
    "    \"n_shot\": 3,\n",
    "    \"n_query\": 2,\n",
    "    \"train_k_factor\": 3,\n",
    "    \"val_k_factor\": 2,\n",
    "    \"test_k_factor\": 2,\n",
    "    \"torch_default_dtype\": \"torch.float32\",\n",
    "    \"n_epoch\": 50,\n",
    "    \"patience\": 3,\n",
    "    \"criteria_for_best\": \"target_accuracy\",\n",
    "    \"x_net\": [\n",
    "        {\"class\": \"nnReshape\", \"kargs\": {\"shape\": [-1, 1, 2, 256]}},\n",
    "        {\n",
    "            \"class\": \"Conv2d\",\n",
    "            \"kargs\": {\n",
    "                \"in_channels\": 1,\n",
    "                \"out_channels\": 256,\n",
    "                \"kernel_size\": [1, 7],\n",
    "                \"bias\": False,\n",
    "                \"padding\": [0, 3],\n",
    "            },\n",
    "        },\n",
    "        {\"class\": \"ReLU\", \"kargs\": {\"inplace\": True}},\n",
    "        {\"class\": \"BatchNorm2d\", \"kargs\": {\"num_features\": 256}},\n",
    "        {\n",
    "            \"class\": \"Conv2d\",\n",
    "            \"kargs\": {\n",
    "                \"in_channels\": 256,\n",
    "                \"out_channels\": 80,\n",
    "                \"kernel_size\": [2, 7],\n",
    "                \"bias\": True,\n",
    "                \"padding\": [0, 3],\n",
    "            },\n",
    "        },\n",
    "        {\"class\": \"ReLU\", \"kargs\": {\"inplace\": True}},\n",
    "        {\"class\": \"BatchNorm2d\", \"kargs\": {\"num_features\": 80}},\n",
    "        {\"class\": \"Flatten\", \"kargs\": {}},\n",
    "        {\"class\": \"Linear\", \"kargs\": {\"in_features\": 20480, \"out_features\": 256}},\n",
    "        {\"class\": \"ReLU\", \"kargs\": {\"inplace\": True}},\n",
    "        {\"class\": \"BatchNorm1d\", \"kargs\": {\"num_features\": 256}},\n",
    "        {\"class\": \"Linear\", \"kargs\": {\"in_features\": 256, \"out_features\": 256}},\n",
    "    ],\n",
    "    \"NUM_LOGS_PER_EPOCH\": 10,\n",
    "    \"BEST_MODEL_PATH\": \"./best_model.pth\",\n",
    "    \"n_way\": 16,\n",
    "    \"datasets\": [\n",
    "        {\n",
    "            \"labels\": [\n",
    "                \"3123D52\",\n",
    "                \"3123D65\",\n",
    "                \"3123D79\",\n",
    "                \"3123D80\",\n",
    "                \"3123D54\",\n",
    "                \"3123D70\",\n",
    "                \"3123D7B\",\n",
    "                \"3123D89\",\n",
    "                \"3123D58\",\n",
    "                \"3123D76\",\n",
    "                \"3123D7D\",\n",
    "                \"3123EFE\",\n",
    "                \"3123D64\",\n",
    "                \"3123D78\",\n",
    "                \"3123D7E\",\n",
    "                \"3124E4A\",\n",
    "            ],\n",
    "            \"domains\": [32, 38, 8, 44, 14, 50, 20, 26],\n",
    "            \"num_examples_per_domain_per_label\": 10000,\n",
    "            \"pickle_path\": \"/mnt/wd500GB/CSC500/csc500-main/datasets/oracle.Run1_10kExamples_stratified_ds.2022A.pkl\",\n",
    "            \"source_or_target_dataset\": \"target\",\n",
    "            \"x_transforms\": [],\n",
    "            \"episode_transforms\": [],\n",
    "            \"domain_prefix\": \"ORACLE.run1_\",\n",
    "        },\n",
    "        {\n",
    "            \"labels\": [\n",
    "                \"3123D52\",\n",
    "                \"3123D65\",\n",
    "                \"3123D79\",\n",
    "                \"3123D80\",\n",
    "                \"3123D54\",\n",
    "                \"3123D70\",\n",
    "                \"3123D7B\",\n",
    "                \"3123D89\",\n",
    "                \"3123D58\",\n",
    "                \"3123D76\",\n",
    "                \"3123D7D\",\n",
    "                \"3123EFE\",\n",
    "                \"3123D64\",\n",
    "                \"3123D78\",\n",
    "                \"3123D7E\",\n",
    "                \"3124E4A\",\n",
    "            ],\n",
    "            \"domains\": [32, 38, 8, 44, 14, 50, 20, 26],\n",
    "            \"num_examples_per_domain_per_label\": 10000,\n",
    "            \"pickle_path\": \"/mnt/wd500GB/CSC500/csc500-main/datasets/oracle.Run2_10kExamples_stratified_ds.2022A.pkl\",\n",
    "            \"source_or_target_dataset\": \"source\",\n",
    "            \"x_transforms\": [],\n",
    "            \"episode_transforms\": [],\n",
    "            \"domain_prefix\": \"ORACLE.run2_\",\n",
    "        },\n",
    "    ],\n",
    "    \"dataset_seed\": 7,\n",
    "    \"seed\": 7,\n",
    "}\n"
   ]
  },
  {
   "cell_type": "code",
   "execution_count": 5,
   "id": "8fa1cc33",
   "metadata": {
    "execution": {
     "iopub.execute_input": "2022-03-29T07:02:01.088061Z",
     "iopub.status.busy": "2022-03-29T07:02:01.087811Z",
     "iopub.status.idle": "2022-03-29T07:02:01.101312Z",
     "shell.execute_reply": "2022-03-29T07:02:01.101708Z"
    },
    "papermill": {
     "duration": 0.030284,
     "end_time": "2022-03-29T07:02:01.101816",
     "exception": false,
     "start_time": "2022-03-29T07:02:01.071532",
     "status": "completed"
    },
    "tags": []
   },
   "outputs": [],
   "source": [
    "# Set this to True if you want to run this template directly\n",
    "STANDALONE = False\n",
    "if STANDALONE:\n",
    "    print(\"parameters not injected, running with standalone_parameters\")\n",
    "    parameters = standalone_parameters\n",
    "\n",
    "if not 'parameters' in locals() and not 'parameters' in globals():\n",
    "    raise Exception(\"Parameter injection failed\")\n",
    "\n",
    "#Use an easy dict for all the parameters\n",
    "p = EasyDict(parameters)\n",
    "\n",
    "if \"x_shape\" not in p:\n",
    "    p.x_shape = [2,256] # Default to this if we dont supply x_shape\n",
    "\n",
    "\n",
    "supplied_keys = set(p.keys())\n",
    "\n",
    "if  supplied_keys != required_parameters:\n",
    "    print(\"Parameters are incorrect\")\n",
    "    if len(supplied_keys - required_parameters)>0: print(\"Shouldn't have:\", str(supplied_keys - required_parameters))\n",
    "    if len(required_parameters - supplied_keys)>0: print(\"Need to have:\", str(required_parameters - supplied_keys))\n",
    "    raise RuntimeError(\"Parameters are incorrect\")"
   ]
  },
  {
   "cell_type": "code",
   "execution_count": 6,
   "id": "3a028d58",
   "metadata": {
    "execution": {
     "iopub.execute_input": "2022-03-29T07:02:01.135077Z",
     "iopub.status.busy": "2022-03-29T07:02:01.134828Z",
     "iopub.status.idle": "2022-03-29T07:02:01.148837Z",
     "shell.execute_reply": "2022-03-29T07:02:01.148367Z"
    },
    "papermill": {
     "duration": 0.029014,
     "end_time": "2022-03-29T07:02:01.148928",
     "exception": false,
     "start_time": "2022-03-29T07:02:01.119914",
     "status": "completed"
    },
    "tags": []
   },
   "outputs": [],
   "source": [
    "###################################\n",
    "# Set the RNGs and make it all deterministic\n",
    "###################################\n",
    "np.random.seed(p.seed)\n",
    "random.seed(p.seed)\n",
    "torch.manual_seed(p.seed)\n",
    "\n",
    "torch.use_deterministic_algorithms(True) "
   ]
  },
  {
   "cell_type": "code",
   "execution_count": 7,
   "id": "b691acf6",
   "metadata": {
    "execution": {
     "iopub.execute_input": "2022-03-29T07:02:01.181153Z",
     "iopub.status.busy": "2022-03-29T07:02:01.180898Z",
     "iopub.status.idle": "2022-03-29T07:02:01.195190Z",
     "shell.execute_reply": "2022-03-29T07:02:01.194719Z"
    },
    "papermill": {
     "duration": 0.02892,
     "end_time": "2022-03-29T07:02:01.195281",
     "exception": false,
     "start_time": "2022-03-29T07:02:01.166361",
     "status": "completed"
    },
    "tags": []
   },
   "outputs": [],
   "source": [
    "###########################################\n",
    "# The stratified datasets honor this\n",
    "###########################################\n",
    "torch.set_default_dtype(eval(p.torch_default_dtype))"
   ]
  },
  {
   "cell_type": "code",
   "execution_count": 8,
   "id": "b5fba671",
   "metadata": {
    "execution": {
     "iopub.execute_input": "2022-03-29T07:02:01.227687Z",
     "iopub.status.busy": "2022-03-29T07:02:01.227438Z",
     "iopub.status.idle": "2022-03-29T07:02:01.265252Z",
     "shell.execute_reply": "2022-03-29T07:02:01.264733Z"
    },
    "papermill": {
     "duration": 0.052148,
     "end_time": "2022-03-29T07:02:01.265353",
     "exception": false,
     "start_time": "2022-03-29T07:02:01.213205",
     "status": "completed"
    },
    "tags": []
   },
   "outputs": [],
   "source": [
    "###################################\n",
    "# Build the network(s)\n",
    "# Note: It's critical to do this AFTER setting the RNG\n",
    "###################################\n",
    "x_net = build_sequential(p.x_net)"
   ]
  },
  {
   "cell_type": "code",
   "execution_count": 9,
   "id": "5d7e61cc",
   "metadata": {
    "execution": {
     "iopub.execute_input": "2022-03-29T07:02:01.300888Z",
     "iopub.status.busy": "2022-03-29T07:02:01.300626Z",
     "iopub.status.idle": "2022-03-29T07:02:01.315127Z",
     "shell.execute_reply": "2022-03-29T07:02:01.314673Z"
    },
    "papermill": {
     "duration": 0.029539,
     "end_time": "2022-03-29T07:02:01.315217",
     "exception": false,
     "start_time": "2022-03-29T07:02:01.285678",
     "status": "completed"
    },
    "tags": []
   },
   "outputs": [],
   "source": [
    "start_time_secs = time.time()"
   ]
  },
  {
   "cell_type": "code",
   "execution_count": 10,
   "id": "c6b67dfd",
   "metadata": {
    "execution": {
     "iopub.execute_input": "2022-03-29T07:02:01.349285Z",
     "iopub.status.busy": "2022-03-29T07:02:01.349037Z",
     "iopub.status.idle": "2022-03-29T07:02:01.364210Z",
     "shell.execute_reply": "2022-03-29T07:02:01.364642Z"
    },
    "papermill": {
     "duration": 0.031372,
     "end_time": "2022-03-29T07:02:01.364758",
     "exception": false,
     "start_time": "2022-03-29T07:02:01.333386",
     "status": "completed"
    },
    "tags": []
   },
   "outputs": [],
   "source": [
    "p.domains_source = []\n",
    "p.domains_target = []\n",
    "\n",
    "\n",
    "train_original_source = []\n",
    "val_original_source   = []\n",
    "test_original_source  = []\n",
    "\n",
    "train_original_target = []\n",
    "val_original_target   = []\n",
    "test_original_target  = []"
   ]
  },
  {
   "cell_type": "code",
   "execution_count": 11,
   "id": "e3d9c3d3",
   "metadata": {
    "execution": {
     "iopub.execute_input": "2022-03-29T07:02:01.397347Z",
     "iopub.status.busy": "2022-03-29T07:02:01.397088Z",
     "iopub.status.idle": "2022-03-29T07:02:01.411080Z",
     "shell.execute_reply": "2022-03-29T07:02:01.411450Z"
    },
    "papermill": {
     "duration": 0.02877,
     "end_time": "2022-03-29T07:02:01.411551",
     "exception": false,
     "start_time": "2022-03-29T07:02:01.382781",
     "status": "completed"
    },
    "tags": []
   },
   "outputs": [],
   "source": [
    "# global_x_transform_func = lambda x: normalize(x.to(torch.get_default_dtype()), \"unit_power\") # unit_power, unit_mag\n",
    "# global_x_transform_func = lambda x: normalize(x, \"unit_power\") # unit_power, unit_mag"
   ]
  },
  {
   "cell_type": "code",
   "execution_count": 12,
   "id": "acb78fd2",
   "metadata": {
    "execution": {
     "iopub.execute_input": "2022-03-29T07:02:01.450150Z",
     "iopub.status.busy": "2022-03-29T07:02:01.449829Z",
     "iopub.status.idle": "2022-03-29T07:02:01.462786Z",
     "shell.execute_reply": "2022-03-29T07:02:01.462390Z"
    },
    "papermill": {
     "duration": 0.033124,
     "end_time": "2022-03-29T07:02:01.462875",
     "exception": false,
     "start_time": "2022-03-29T07:02:01.429751",
     "status": "completed"
    },
    "tags": []
   },
   "outputs": [],
   "source": [
    "def add_dataset(\n",
    "    labels,\n",
    "    domains,\n",
    "    pickle_path,\n",
    "    x_transforms,\n",
    "    episode_transforms,\n",
    "    domain_prefix,\n",
    "    num_examples_per_domain_per_label,\n",
    "    source_or_target_dataset:str,\n",
    "    iterator_seed=p.seed,\n",
    "    dataset_seed=p.dataset_seed,\n",
    "    n_shot=p.n_shot,\n",
    "    n_way=p.n_way,\n",
    "    n_query=p.n_query,\n",
    "    train_val_test_k_factors=(p.train_k_factor,p.val_k_factor,p.test_k_factor),\n",
    "):\n",
    "   \n",
    "    if x_transforms == []: x_transform = None\n",
    "    else: x_transform = get_chained_transform(x_transforms)\n",
    "    \n",
    "    if episode_transforms == []: episode_transform = None\n",
    "    else: raise Exception(\"episode_transforms not implemented\")\n",
    "    \n",
    "    episode_transform = lambda tup, _prefix=domain_prefix: (_prefix + str(tup[0]), tup[1])\n",
    "\n",
    "\n",
    "    eaf = Episodic_Accessor_Factory(\n",
    "        labels=labels,\n",
    "        domains=domains,\n",
    "        num_examples_per_domain_per_label=num_examples_per_domain_per_label,\n",
    "        iterator_seed=iterator_seed,\n",
    "        dataset_seed=dataset_seed,\n",
    "        n_shot=n_shot,\n",
    "        n_way=n_way,\n",
    "        n_query=n_query,\n",
    "        train_val_test_k_factors=train_val_test_k_factors,\n",
    "        pickle_path=pickle_path,\n",
    "        x_transform_func=x_transform,\n",
    "    )\n",
    "\n",
    "    train, val, test = eaf.get_train(), eaf.get_val(), eaf.get_test()\n",
    "    train = Lazy_Iterable_Wrapper(train, episode_transform)\n",
    "    val = Lazy_Iterable_Wrapper(val, episode_transform)\n",
    "    test = Lazy_Iterable_Wrapper(test, episode_transform)\n",
    "\n",
    "    if source_or_target_dataset==\"source\":\n",
    "        train_original_source.append(train)\n",
    "        val_original_source.append(val)\n",
    "        test_original_source.append(test)\n",
    "\n",
    "        p.domains_source.extend(\n",
    "            [domain_prefix + str(u) for u in domains]\n",
    "        )\n",
    "    elif source_or_target_dataset==\"target\":\n",
    "        train_original_target.append(train)\n",
    "        val_original_target.append(val)\n",
    "        test_original_target.append(test)\n",
    "        p.domains_target.extend(\n",
    "            [domain_prefix + str(u) for u in domains]\n",
    "        )\n",
    "    else:\n",
    "        raise Exception(f\"invalid source_or_target_dataset: {source_or_target_dataset}\")\n",
    "    "
   ]
  },
  {
   "cell_type": "code",
   "execution_count": 13,
   "id": "fe266617",
   "metadata": {
    "execution": {
     "iopub.execute_input": "2022-03-29T07:02:01.494924Z",
     "iopub.status.busy": "2022-03-29T07:02:01.494670Z",
     "iopub.status.idle": "2022-03-29T07:02:28.746767Z",
     "shell.execute_reply": "2022-03-29T07:02:28.746334Z"
    },
    "papermill": {
     "duration": 27.2674,
     "end_time": "2022-03-29T07:02:28.746869",
     "exception": false,
     "start_time": "2022-03-29T07:02:01.479469",
     "status": "completed"
    },
    "tags": []
   },
   "outputs": [],
   "source": [
    "for ds in p.datasets:\n",
    "    add_dataset(**ds)"
   ]
  },
  {
   "cell_type": "code",
   "execution_count": 14,
   "id": "b90d65ac",
   "metadata": {
    "execution": {
     "iopub.execute_input": "2022-03-29T07:02:28.781492Z",
     "iopub.status.busy": "2022-03-29T07:02:28.781232Z",
     "iopub.status.idle": "2022-03-29T07:02:28.795882Z",
     "shell.execute_reply": "2022-03-29T07:02:28.795576Z"
    },
    "papermill": {
     "duration": 0.030011,
     "end_time": "2022-03-29T07:02:28.795951",
     "exception": false,
     "start_time": "2022-03-29T07:02:28.765940",
     "status": "completed"
    },
    "tags": []
   },
   "outputs": [],
   "source": [
    "# from steves_utils.CORES.utils import (\n",
    "#     ALL_NODES,\n",
    "#     ALL_NODES_MINIMUM_1000_EXAMPLES,\n",
    "#     ALL_DAYS\n",
    "# )\n",
    "\n",
    "# add_dataset(\n",
    "#     labels=ALL_NODES,\n",
    "#     domains = ALL_DAYS,\n",
    "#     num_examples_per_domain_per_label=100,\n",
    "#     pickle_path=os.path.join(get_datasets_base_path(), \"cores.stratified_ds.2022A.pkl\"),\n",
    "#     source_or_target_dataset=\"target\",\n",
    "#     x_transform_func=global_x_transform_func,\n",
    "#     domain_modifier=lambda u: f\"cores_{u}\"\n",
    "# )"
   ]
  },
  {
   "cell_type": "code",
   "execution_count": 15,
   "id": "76db484d",
   "metadata": {
    "execution": {
     "iopub.execute_input": "2022-03-29T07:02:28.827844Z",
     "iopub.status.busy": "2022-03-29T07:02:28.827596Z",
     "iopub.status.idle": "2022-03-29T07:02:28.836906Z",
     "shell.execute_reply": "2022-03-29T07:02:28.836693Z"
    },
    "papermill": {
     "duration": 0.023579,
     "end_time": "2022-03-29T07:02:28.836954",
     "exception": false,
     "start_time": "2022-03-29T07:02:28.813375",
     "status": "completed"
    },
    "tags": []
   },
   "outputs": [],
   "source": [
    "# from steves_utils.ORACLE.utils_v2 import (\n",
    "#     ALL_DISTANCES_FEET,\n",
    "#     ALL_RUNS,\n",
    "#     ALL_SERIAL_NUMBERS,\n",
    "# )\n",
    "\n",
    "\n",
    "# add_dataset(\n",
    "#     labels=ALL_SERIAL_NUMBERS,\n",
    "#     domains = list(set(ALL_DISTANCES_FEET) - {2,62}),\n",
    "#     num_examples_per_domain_per_label=100,\n",
    "#     pickle_path=os.path.join(get_datasets_base_path(), \"oracle.Run2_framed_2000Examples_stratified_ds.2022A.pkl\"),\n",
    "#     source_or_target_dataset=\"source\",\n",
    "#     x_transform_func=global_x_transform_func,\n",
    "#     domain_modifier=lambda u: f\"oracle1_{u}\"\n",
    "# )\n"
   ]
  },
  {
   "cell_type": "code",
   "execution_count": 16,
   "id": "97dea9d2",
   "metadata": {
    "execution": {
     "iopub.execute_input": "2022-03-29T07:02:28.868047Z",
     "iopub.status.busy": "2022-03-29T07:02:28.867796Z",
     "iopub.status.idle": "2022-03-29T07:02:28.881735Z",
     "shell.execute_reply": "2022-03-29T07:02:28.881478Z"
    },
    "papermill": {
     "duration": 0.029156,
     "end_time": "2022-03-29T07:02:28.881790",
     "exception": false,
     "start_time": "2022-03-29T07:02:28.852634",
     "status": "completed"
    },
    "tags": []
   },
   "outputs": [],
   "source": [
    "# from steves_utils.ORACLE.utils_v2 import (\n",
    "#     ALL_DISTANCES_FEET,\n",
    "#     ALL_RUNS,\n",
    "#     ALL_SERIAL_NUMBERS,\n",
    "# )\n",
    "\n",
    "\n",
    "# add_dataset(\n",
    "#     labels=ALL_SERIAL_NUMBERS,\n",
    "#     domains = list(set(ALL_DISTANCES_FEET) - {2,62,56}),\n",
    "#     num_examples_per_domain_per_label=100,\n",
    "#     pickle_path=os.path.join(get_datasets_base_path(), \"oracle.Run2_framed_2000Examples_stratified_ds.2022A.pkl\"),\n",
    "#     source_or_target_dataset=\"source\",\n",
    "#     x_transform_func=global_x_transform_func,\n",
    "#     domain_modifier=lambda u: f\"oracle2_{u}\"\n",
    "# )"
   ]
  },
  {
   "cell_type": "code",
   "execution_count": 17,
   "id": "6f289866",
   "metadata": {
    "execution": {
     "iopub.execute_input": "2022-03-29T07:02:28.914746Z",
     "iopub.status.busy": "2022-03-29T07:02:28.914495Z",
     "iopub.status.idle": "2022-03-29T07:02:28.929062Z",
     "shell.execute_reply": "2022-03-29T07:02:28.928703Z"
    },
    "papermill": {
     "duration": 0.029922,
     "end_time": "2022-03-29T07:02:28.929136",
     "exception": false,
     "start_time": "2022-03-29T07:02:28.899214",
     "status": "completed"
    },
    "tags": []
   },
   "outputs": [],
   "source": [
    "# add_dataset(\n",
    "#     labels=list(range(19)),\n",
    "#     domains = [0,1,2],\n",
    "#     num_examples_per_domain_per_label=100,\n",
    "#     pickle_path=os.path.join(get_datasets_base_path(), \"metehan.stratified_ds.2022A.pkl\"),\n",
    "#     source_or_target_dataset=\"target\",\n",
    "#     x_transform_func=global_x_transform_func,\n",
    "#     domain_modifier=lambda u: f\"met_{u}\"\n",
    "# )"
   ]
  },
  {
   "cell_type": "code",
   "execution_count": 18,
   "id": "86a863c3",
   "metadata": {
    "execution": {
     "iopub.execute_input": "2022-03-29T07:02:28.968534Z",
     "iopub.status.busy": "2022-03-29T07:02:28.962946Z",
     "iopub.status.idle": "2022-03-29T07:02:28.977207Z",
     "shell.execute_reply": "2022-03-29T07:02:28.977598Z"
    },
    "papermill": {
     "duration": 0.030589,
     "end_time": "2022-03-29T07:02:28.977721",
     "exception": false,
     "start_time": "2022-03-29T07:02:28.947132",
     "status": "completed"
    },
    "tags": []
   },
   "outputs": [],
   "source": [
    "# # from steves_utils.wisig.utils import (\n",
    "# #     ALL_NODES_MINIMUM_100_EXAMPLES,\n",
    "# #     ALL_NODES_MINIMUM_500_EXAMPLES,\n",
    "# #     ALL_NODES_MINIMUM_1000_EXAMPLES,\n",
    "# #     ALL_DAYS\n",
    "# # )\n",
    "\n",
    "# import steves_utils.wisig.utils as wisig\n",
    "\n",
    "\n",
    "# add_dataset(\n",
    "#     labels=wisig.ALL_NODES_MINIMUM_100_EXAMPLES,\n",
    "#     domains = wisig.ALL_DAYS,\n",
    "#     num_examples_per_domain_per_label=100,\n",
    "#     pickle_path=os.path.join(get_datasets_base_path(), \"wisig.node3-19.stratified_ds.2022A.pkl\"),\n",
    "#     source_or_target_dataset=\"target\",\n",
    "#     x_transform_func=global_x_transform_func,\n",
    "#     domain_modifier=lambda u: f\"wisig_{u}\"\n",
    "# )"
   ]
  },
  {
   "cell_type": "code",
   "execution_count": 19,
   "id": "fd5442bc",
   "metadata": {
    "execution": {
     "iopub.execute_input": "2022-03-29T07:02:29.019432Z",
     "iopub.status.busy": "2022-03-29T07:02:29.015645Z",
     "iopub.status.idle": "2022-03-29T07:02:29.029026Z",
     "shell.execute_reply": "2022-03-29T07:02:29.029422Z"
    },
    "papermill": {
     "duration": 0.03347,
     "end_time": "2022-03-29T07:02:29.029541",
     "exception": false,
     "start_time": "2022-03-29T07:02:28.996071",
     "status": "completed"
    },
    "tags": []
   },
   "outputs": [],
   "source": [
    "###################################\n",
    "# Build the dataset\n",
    "###################################\n",
    "train_original_source = Iterable_Aggregator(train_original_source, p.seed)\n",
    "val_original_source = Iterable_Aggregator(val_original_source, p.seed)\n",
    "test_original_source = Iterable_Aggregator(test_original_source, p.seed)\n",
    "\n",
    "\n",
    "train_original_target = Iterable_Aggregator(train_original_target, p.seed)\n",
    "val_original_target = Iterable_Aggregator(val_original_target, p.seed)\n",
    "test_original_target = Iterable_Aggregator(test_original_target, p.seed)\n",
    "\n",
    "# For CNN We only use X and Y. And we only train on the source.\n",
    "# Properly form the data using a transform lambda and Lazy_Iterable_Wrapper. Finally wrap them in a dataloader\n",
    "\n",
    "transform_lambda = lambda ex: ex[1] # Original is (<domain>, <episode>) so we strip down to episode only\n",
    "\n",
    "train_processed_source = Lazy_Iterable_Wrapper(train_original_source, transform_lambda)\n",
    "val_processed_source   = Lazy_Iterable_Wrapper(val_original_source, transform_lambda)\n",
    "test_processed_source  = Lazy_Iterable_Wrapper(test_original_source, transform_lambda)\n",
    "\n",
    "train_processed_target = Lazy_Iterable_Wrapper(train_original_target, transform_lambda)\n",
    "val_processed_target   = Lazy_Iterable_Wrapper(val_original_target, transform_lambda)\n",
    "test_processed_target  = Lazy_Iterable_Wrapper(test_original_target, transform_lambda)\n",
    "\n",
    "datasets = EasyDict({\n",
    "    \"source\": {\n",
    "        \"original\": {\"train\":train_original_source, \"val\":val_original_source, \"test\":test_original_source},\n",
    "        \"processed\": {\"train\":train_processed_source, \"val\":val_processed_source, \"test\":test_processed_source}\n",
    "    },\n",
    "    \"target\": {\n",
    "        \"original\": {\"train\":train_original_target, \"val\":val_original_target, \"test\":test_original_target},\n",
    "        \"processed\": {\"train\":train_processed_target, \"val\":val_processed_target, \"test\":test_processed_target}\n",
    "    },\n",
    "})"
   ]
  },
  {
   "cell_type": "code",
   "execution_count": 20,
   "id": "5b3c01fc",
   "metadata": {
    "execution": {
     "iopub.execute_input": "2022-03-29T07:02:29.066362Z",
     "iopub.status.busy": "2022-03-29T07:02:29.066073Z",
     "iopub.status.idle": "2022-03-29T07:02:53.693368Z",
     "shell.execute_reply": "2022-03-29T07:02:53.693880Z"
    },
    "papermill": {
     "duration": 24.645656,
     "end_time": "2022-03-29T07:02:53.694017",
     "exception": false,
     "start_time": "2022-03-29T07:02:29.048361",
     "status": "completed"
    },
    "tags": []
   },
   "outputs": [
    {
     "name": "stdout",
     "output_type": "stream",
     "text": [
      "{'ORACLE.run2_20', 'ORACLE.run2_44', 'ORACLE.run2_32', 'ORACLE.run2_50', 'ORACLE.run2_8', 'ORACLE.run2_38', 'ORACLE.run2_14', 'ORACLE.run2_26'}\n"
     ]
    },
    {
     "name": "stdout",
     "output_type": "stream",
     "text": [
      "{'ORACLE.run1_26', 'ORACLE.run1_32', 'ORACLE.run1_50', 'ORACLE.run1_8', 'ORACLE.run1_20', 'ORACLE.run1_44', 'ORACLE.run1_38', 'ORACLE.run1_14'}\n"
     ]
    },
    {
     "name": "stdout",
     "output_type": "stream",
     "text": [
      "tensor([[[ 5.7985e-04,  1.6785e-03,  3.0213e-03,  ...,  3.4791e-03,\n",
      "           2.3804e-03, -1.5259e-04],\n",
      "         [-3.3570e-04,  4.8830e-04,  6.1037e-04,  ..., -3.9979e-03,\n",
      "          -1.2207e-04, -2.0753e-03]],\n",
      "\n",
      "        [[-2.0447e-03,  1.0376e-03,  2.1363e-04,  ..., -2.5941e-03,\n",
      "          -4.3947e-03, -3.3570e-03],\n",
      "         [-6.1953e-03, -1.4039e-03, -7.6296e-04,  ..., -2.5941e-03,\n",
      "          -5.2187e-03,  1.5870e-03]],\n",
      "\n",
      "        [[ 2.2584e-03, -3.7233e-03, -2.2584e-03,  ..., -1.5259e-04,\n",
      "           1.5564e-03,  3.0824e-03],\n",
      "         [ 2.5941e-03,  1.2513e-03,  3.5401e-03,  ..., -3.6012e-03,\n",
      "           4.5473e-03,  1.5259e-03]],\n",
      "\n",
      "        ...,\n",
      "\n",
      "        [[-2.6246e-03,  1.8006e-03, -3.3570e-04,  ..., -3.9674e-04,\n",
      "          -4.9440e-03, -4.4252e-03],\n",
      "         [-5.6154e-03,  2.1973e-03,  7.6296e-04,  ...,  2.4720e-03,\n",
      "           2.0447e-03, -1.7090e-03]],\n",
      "\n",
      "        [[-1.8006e-03, -1.4649e-03,  2.1363e-04,  ...,  9.1556e-05,\n",
      "           3.0213e-03, -2.8077e-03],\n",
      "         [-1.5259e-04,  2.3194e-03,  3.2044e-03,  ...,  3.3570e-04,\n",
      "          -1.5870e-03,  1.4649e-03]],\n",
      "\n",
      "        [[ 1.2207e-04,  2.6246e-03, -3.6622e-03,  ..., -2.1973e-03,\n",
      "          -1.7701e-03,  7.0193e-04],\n",
      "         [-3.7538e-03, -1.9532e-03,  1.9837e-03,  ...,  2.7467e-03,\n",
      "           2.4720e-03,  2.2279e-03]]])\n"
     ]
    }
   ],
   "source": [
    "from steves_utils.transforms import get_average_magnitude, get_average_power\n",
    "\n",
    "print(set([u for u,_ in val_original_source]))\n",
    "print(set([u for u,_ in val_original_target]))\n",
    "\n",
    "s_x, s_y, q_x, q_y, _ = next(iter(train_processed_source))\n",
    "print(s_x)\n",
    "\n",
    "# for ds in [\n",
    "#     train_processed_source,\n",
    "#     val_processed_source,\n",
    "#     test_processed_source,\n",
    "#     train_processed_target,\n",
    "#     val_processed_target,\n",
    "#     test_processed_target\n",
    "# ]:\n",
    "#     for s_x, s_y, q_x, q_y, _ in ds:\n",
    "#         for X in (s_x, q_x):\n",
    "#             for x in X:\n",
    "#                 assert np.isclose(get_average_magnitude(x.numpy()), 1.0)\n",
    "#                 assert np.isclose(get_average_power(x.numpy()), 1.0)\n",
    "                "
   ]
  },
  {
   "cell_type": "code",
   "execution_count": 21,
   "id": "bbdacba1",
   "metadata": {
    "execution": {
     "iopub.execute_input": "2022-03-29T07:02:53.728896Z",
     "iopub.status.busy": "2022-03-29T07:02:53.728644Z",
     "iopub.status.idle": "2022-03-29T07:02:53.796640Z",
     "shell.execute_reply": "2022-03-29T07:02:53.796176Z"
    },
    "papermill": {
     "duration": 0.085367,
     "end_time": "2022-03-29T07:02:53.796749",
     "exception": false,
     "start_time": "2022-03-29T07:02:53.711382",
     "status": "completed"
    },
    "tags": []
   },
   "outputs": [
    {
     "name": "stdout",
     "output_type": "stream",
     "text": [
      "(2, 256)\n"
     ]
    }
   ],
   "source": [
    "###################################\n",
    "# Build the model\n",
    "###################################\n",
    "# easfsl only wants a tuple for the shape\n",
    "model = Steves_Prototypical_Network(x_net, device=p.device, x_shape=tuple(p.x_shape))\n",
    "optimizer = Adam(params=model.parameters(), lr=p.lr)"
   ]
  },
  {
   "cell_type": "code",
   "execution_count": 22,
   "id": "22b39ac5",
   "metadata": {
    "execution": {
     "iopub.execute_input": "2022-03-29T07:02:53.841636Z",
     "iopub.status.busy": "2022-03-29T07:02:53.836828Z",
     "iopub.status.idle": "2022-03-29T09:04:22.504576Z",
     "shell.execute_reply": "2022-03-29T09:04:22.504345Z"
    },
    "papermill": {
     "duration": 7288.686348,
     "end_time": "2022-03-29T09:04:22.504635",
     "exception": false,
     "start_time": "2022-03-29T07:02:53.818287",
     "status": "completed"
    },
    "tags": []
   },
   "outputs": [
    {
     "name": "stdout",
     "output_type": "stream",
     "text": [
      "epoch: 1, [batch: 1 / 33600], examples_per_second: 10.0720, train_label_loss: 2.6956, \n"
     ]
    },
    {
     "name": "stdout",
     "output_type": "stream",
     "text": [
      "epoch: 1, [batch: 3360 / 33600], examples_per_second: 3217.8355, train_label_loss: 1.3560, \n"
     ]
    },
    {
     "name": "stdout",
     "output_type": "stream",
     "text": [
      "epoch: 1, [batch: 6720 / 33600], examples_per_second: 3209.5548, train_label_loss: 0.1910, \n"
     ]
    },
    {
     "name": "stdout",
     "output_type": "stream",
     "text": [
      "epoch: 1, [batch: 10080 / 33600], examples_per_second: 3225.7778, train_label_loss: 0.9313, \n"
     ]
    },
    {
     "name": "stdout",
     "output_type": "stream",
     "text": [
      "epoch: 1, [batch: 13440 / 33600], examples_per_second: 3206.2741, train_label_loss: 0.9691, \n"
     ]
    },
    {
     "name": "stdout",
     "output_type": "stream",
     "text": [
      "epoch: 1, [batch: 16800 / 33600], examples_per_second: 3210.7741, train_label_loss: 0.4436, \n"
     ]
    },
    {
     "name": "stdout",
     "output_type": "stream",
     "text": [
      "epoch: 1, [batch: 20160 / 33600], examples_per_second: 3215.9739, train_label_loss: 0.4093, \n"
     ]
    },
    {
     "name": "stdout",
     "output_type": "stream",
     "text": [
      "epoch: 1, [batch: 23520 / 33600], examples_per_second: 3208.4584, train_label_loss: 0.3138, \n"
     ]
    },
    {
     "name": "stdout",
     "output_type": "stream",
     "text": [
      "epoch: 1, [batch: 26880 / 33600], examples_per_second: 3209.0005, train_label_loss: 0.0779, \n"
     ]
    },
    {
     "name": "stdout",
     "output_type": "stream",
     "text": [
      "epoch: 1, [batch: 30240 / 33600], examples_per_second: 3208.8869, train_label_loss: 0.7079, \n"
     ]
    },
    {
     "name": "stdout",
     "output_type": "stream",
     "text": [
      "=============================================================\n",
      "epoch: 1, source_val_acc_label: 0.7251, target_val_acc_label: 0.7106, source_val_label_loss: 2.5677, target_val_label_loss: 2.4184, \n",
      "=============================================================\n"
     ]
    },
    {
     "name": "stdout",
     "output_type": "stream",
     "text": [
      "New best\n"
     ]
    },
    {
     "name": "stdout",
     "output_type": "stream",
     "text": [
      "epoch: 2, [batch: 1 / 33600], examples_per_second: 0.9708, train_label_loss: 0.3639, \n"
     ]
    },
    {
     "name": "stdout",
     "output_type": "stream",
     "text": [
      "epoch: 2, [batch: 3360 / 33600], examples_per_second: 3239.1749, train_label_loss: 0.1799, \n"
     ]
    },
    {
     "name": "stdout",
     "output_type": "stream",
     "text": [
      "epoch: 2, [batch: 6720 / 33600], examples_per_second: 3251.3310, train_label_loss: 0.7579, \n"
     ]
    },
    {
     "name": "stdout",
     "output_type": "stream",
     "text": [
      "epoch: 2, [batch: 10080 / 33600], examples_per_second: 3254.6758, train_label_loss: 1.2143, \n"
     ]
    },
    {
     "name": "stdout",
     "output_type": "stream",
     "text": [
      "epoch: 2, [batch: 13440 / 33600], examples_per_second: 3234.6582, train_label_loss: 0.3549, \n"
     ]
    },
    {
     "name": "stdout",
     "output_type": "stream",
     "text": [
      "epoch: 2, [batch: 16800 / 33600], examples_per_second: 3249.7742, train_label_loss: 0.2213, \n"
     ]
    },
    {
     "name": "stdout",
     "output_type": "stream",
     "text": [
      "epoch: 2, [batch: 20160 / 33600], examples_per_second: 3254.3465, train_label_loss: 0.7184, \n"
     ]
    },
    {
     "name": "stdout",
     "output_type": "stream",
     "text": [
      "epoch: 2, [batch: 23520 / 33600], examples_per_second: 3240.3000, train_label_loss: 0.6203, \n"
     ]
    },
    {
     "name": "stdout",
     "output_type": "stream",
     "text": [
      "epoch: 2, [batch: 26880 / 33600], examples_per_second: 3246.1251, train_label_loss: 0.8256, \n"
     ]
    },
    {
     "name": "stdout",
     "output_type": "stream",
     "text": [
      "epoch: 2, [batch: 30240 / 33600], examples_per_second: 3247.0815, train_label_loss: 0.4891, \n"
     ]
    },
    {
     "name": "stdout",
     "output_type": "stream",
     "text": [
      "=============================================================\n",
      "epoch: 2, source_val_acc_label: 0.8666, target_val_acc_label: 0.8403, source_val_label_loss: 0.3941, target_val_label_loss: 0.4921, \n",
      "=============================================================\n"
     ]
    },
    {
     "name": "stdout",
     "output_type": "stream",
     "text": [
      "New best\n"
     ]
    },
    {
     "name": "stdout",
     "output_type": "stream",
     "text": [
      "epoch: 3, [batch: 1 / 33600], examples_per_second: 0.9702, train_label_loss: 0.2573, \n"
     ]
    },
    {
     "name": "stdout",
     "output_type": "stream",
     "text": [
      "epoch: 3, [batch: 3360 / 33600], examples_per_second: 3240.4304, train_label_loss: 0.4322, \n"
     ]
    },
    {
     "name": "stdout",
     "output_type": "stream",
     "text": [
      "epoch: 3, [batch: 6720 / 33600], examples_per_second: 3244.5469, train_label_loss: 0.5239, \n"
     ]
    },
    {
     "name": "stdout",
     "output_type": "stream",
     "text": [
      "epoch: 3, [batch: 10080 / 33600], examples_per_second: 3250.1415, train_label_loss: 0.3058, \n"
     ]
    },
    {
     "name": "stdout",
     "output_type": "stream",
     "text": [
      "epoch: 3, [batch: 13440 / 33600], examples_per_second: 3234.3231, train_label_loss: 0.2000, \n"
     ]
    },
    {
     "name": "stdout",
     "output_type": "stream",
     "text": [
      "epoch: 3, [batch: 16800 / 33600], examples_per_second: 3252.0230, train_label_loss: 0.2242, \n"
     ]
    },
    {
     "name": "stdout",
     "output_type": "stream",
     "text": [
      "epoch: 3, [batch: 20160 / 33600], examples_per_second: 3254.2352, train_label_loss: 0.3295, \n"
     ]
    },
    {
     "name": "stdout",
     "output_type": "stream",
     "text": [
      "epoch: 3, [batch: 23520 / 33600], examples_per_second: 3240.8828, train_label_loss: 0.5533, \n"
     ]
    },
    {
     "name": "stdout",
     "output_type": "stream",
     "text": [
      "epoch: 3, [batch: 26880 / 33600], examples_per_second: 3239.8493, train_label_loss: 0.5451, \n"
     ]
    },
    {
     "name": "stdout",
     "output_type": "stream",
     "text": [
      "epoch: 3, [batch: 30240 / 33600], examples_per_second: 3241.4791, train_label_loss: 0.2572, \n"
     ]
    },
    {
     "name": "stdout",
     "output_type": "stream",
     "text": [
      "=============================================================\n",
      "epoch: 3, source_val_acc_label: 0.8781, target_val_acc_label: 0.8517, source_val_label_loss: 0.3472, target_val_label_loss: 0.4652, \n",
      "=============================================================\n"
     ]
    },
    {
     "name": "stdout",
     "output_type": "stream",
     "text": [
      "New best\n"
     ]
    },
    {
     "name": "stdout",
     "output_type": "stream",
     "text": [
      "epoch: 4, [batch: 1 / 33600], examples_per_second: 0.9734, train_label_loss: 0.3322, \n"
     ]
    },
    {
     "name": "stdout",
     "output_type": "stream",
     "text": [
      "epoch: 4, [batch: 3360 / 33600], examples_per_second: 3238.9529, train_label_loss: 0.0618, \n"
     ]
    },
    {
     "name": "stdout",
     "output_type": "stream",
     "text": [
      "epoch: 4, [batch: 6720 / 33600], examples_per_second: 3255.8872, train_label_loss: 0.6272, \n"
     ]
    },
    {
     "name": "stdout",
     "output_type": "stream",
     "text": [
      "epoch: 4, [batch: 10080 / 33600], examples_per_second: 3246.7528, train_label_loss: 0.4051, \n"
     ]
    },
    {
     "name": "stdout",
     "output_type": "stream",
     "text": [
      "epoch: 4, [batch: 13440 / 33600], examples_per_second: 3235.8620, train_label_loss: 0.0579, \n"
     ]
    },
    {
     "name": "stdout",
     "output_type": "stream",
     "text": [
      "epoch: 4, [batch: 16800 / 33600], examples_per_second: 3248.8378, train_label_loss: 0.5027, \n"
     ]
    },
    {
     "name": "stdout",
     "output_type": "stream",
     "text": [
      "epoch: 4, [batch: 20160 / 33600], examples_per_second: 3248.7820, train_label_loss: 0.6516, \n"
     ]
    },
    {
     "name": "stdout",
     "output_type": "stream",
     "text": [
      "epoch: 4, [batch: 23520 / 33600], examples_per_second: 3239.2008, train_label_loss: 0.3794, \n"
     ]
    },
    {
     "name": "stdout",
     "output_type": "stream",
     "text": [
      "epoch: 4, [batch: 26880 / 33600], examples_per_second: 3246.1205, train_label_loss: 0.1548, \n"
     ]
    },
    {
     "name": "stdout",
     "output_type": "stream",
     "text": [
      "epoch: 4, [batch: 30240 / 33600], examples_per_second: 3246.4728, train_label_loss: 0.2150, \n"
     ]
    },
    {
     "name": "stdout",
     "output_type": "stream",
     "text": [
      "=============================================================\n",
      "epoch: 4, source_val_acc_label: 0.8826, target_val_acc_label: 0.8578, source_val_label_loss: 0.3275, target_val_label_loss: 0.4251, \n",
      "=============================================================\n"
     ]
    },
    {
     "name": "stdout",
     "output_type": "stream",
     "text": [
      "New best\n"
     ]
    },
    {
     "name": "stdout",
     "output_type": "stream",
     "text": [
      "epoch: 5, [batch: 1 / 33600], examples_per_second: 0.9738, train_label_loss: 0.1180, \n"
     ]
    },
    {
     "name": "stdout",
     "output_type": "stream",
     "text": [
      "epoch: 5, [batch: 3360 / 33600], examples_per_second: 3239.8236, train_label_loss: 0.0931, \n"
     ]
    },
    {
     "name": "stdout",
     "output_type": "stream",
     "text": [
      "epoch: 5, [batch: 6720 / 33600], examples_per_second: 3250.8174, train_label_loss: 0.4071, \n"
     ]
    },
    {
     "name": "stdout",
     "output_type": "stream",
     "text": [
      "epoch: 5, [batch: 10080 / 33600], examples_per_second: 3251.5051, train_label_loss: 0.2906, \n"
     ]
    },
    {
     "name": "stdout",
     "output_type": "stream",
     "text": [
      "epoch: 5, [batch: 13440 / 33600], examples_per_second: 3226.3450, train_label_loss: 0.4235, \n"
     ]
    },
    {
     "name": "stdout",
     "output_type": "stream",
     "text": [
      "epoch: 5, [batch: 16800 / 33600], examples_per_second: 3244.2305, train_label_loss: 0.3737, \n"
     ]
    },
    {
     "name": "stdout",
     "output_type": "stream",
     "text": [
      "epoch: 5, [batch: 20160 / 33600], examples_per_second: 3245.9830, train_label_loss: 0.1857, \n"
     ]
    },
    {
     "name": "stdout",
     "output_type": "stream",
     "text": [
      "epoch: 5, [batch: 23520 / 33600], examples_per_second: 3235.5522, train_label_loss: 0.1476, \n"
     ]
    },
    {
     "name": "stdout",
     "output_type": "stream",
     "text": [
      "epoch: 5, [batch: 26880 / 33600], examples_per_second: 3245.9322, train_label_loss: 0.0712, \n"
     ]
    },
    {
     "name": "stdout",
     "output_type": "stream",
     "text": [
      "epoch: 5, [batch: 30240 / 33600], examples_per_second: 3242.6612, train_label_loss: 0.5135, \n"
     ]
    },
    {
     "name": "stdout",
     "output_type": "stream",
     "text": [
      "=============================================================\n",
      "epoch: 5, source_val_acc_label: 0.8900, target_val_acc_label: 0.8565, source_val_label_loss: 0.3084, target_val_label_loss: 0.4666, \n",
      "=============================================================\n"
     ]
    },
    {
     "name": "stdout",
     "output_type": "stream",
     "text": [
      "epoch: 6, [batch: 1 / 33600], examples_per_second: 0.9728, train_label_loss: 0.1514, \n"
     ]
    },
    {
     "name": "stdout",
     "output_type": "stream",
     "text": [
      "epoch: 6, [batch: 3360 / 33600], examples_per_second: 3244.2992, train_label_loss: 0.0378, \n"
     ]
    },
    {
     "name": "stdout",
     "output_type": "stream",
     "text": [
      "epoch: 6, [batch: 6720 / 33600], examples_per_second: 3246.9341, train_label_loss: 0.0657, \n"
     ]
    },
    {
     "name": "stdout",
     "output_type": "stream",
     "text": [
      "epoch: 6, [batch: 10080 / 33600], examples_per_second: 3249.9583, train_label_loss: 0.5337, \n"
     ]
    },
    {
     "name": "stdout",
     "output_type": "stream",
     "text": [
      "epoch: 6, [batch: 13440 / 33600], examples_per_second: 3246.0864, train_label_loss: 0.2589, \n"
     ]
    },
    {
     "name": "stdout",
     "output_type": "stream",
     "text": [
      "epoch: 6, [batch: 16800 / 33600], examples_per_second: 3245.7706, train_label_loss: 0.1037, \n"
     ]
    },
    {
     "name": "stdout",
     "output_type": "stream",
     "text": [
      "epoch: 6, [batch: 20160 / 33600], examples_per_second: 3247.1044, train_label_loss: 0.5440, \n"
     ]
    },
    {
     "name": "stdout",
     "output_type": "stream",
     "text": [
      "epoch: 6, [batch: 23520 / 33600], examples_per_second: 3235.4995, train_label_loss: 0.0561, \n"
     ]
    },
    {
     "name": "stdout",
     "output_type": "stream",
     "text": [
      "epoch: 6, [batch: 26880 / 33600], examples_per_second: 3243.8690, train_label_loss: 0.5073, \n"
     ]
    },
    {
     "name": "stdout",
     "output_type": "stream",
     "text": [
      "epoch: 6, [batch: 30240 / 33600], examples_per_second: 3242.8318, train_label_loss: 0.3193, \n"
     ]
    },
    {
     "name": "stdout",
     "output_type": "stream",
     "text": [
      "=============================================================\n",
      "epoch: 6, source_val_acc_label: 0.8926, target_val_acc_label: 0.8564, source_val_label_loss: 0.3172, target_val_label_loss: 0.5041, \n",
      "=============================================================\n"
     ]
    },
    {
     "name": "stdout",
     "output_type": "stream",
     "text": [
      "epoch: 7, [batch: 1 / 33600], examples_per_second: 0.9727, train_label_loss: 0.1521, \n"
     ]
    },
    {
     "name": "stdout",
     "output_type": "stream",
     "text": [
      "epoch: 7, [batch: 3360 / 33600], examples_per_second: 3245.0532, train_label_loss: 0.0724, \n"
     ]
    },
    {
     "name": "stdout",
     "output_type": "stream",
     "text": [
      "epoch: 7, [batch: 6720 / 33600], examples_per_second: 3244.2345, train_label_loss: 0.0607, \n"
     ]
    },
    {
     "name": "stdout",
     "output_type": "stream",
     "text": [
      "epoch: 7, [batch: 10080 / 33600], examples_per_second: 3249.5763, train_label_loss: 0.1270, \n"
     ]
    },
    {
     "name": "stdout",
     "output_type": "stream",
     "text": [
      "epoch: 7, [batch: 13440 / 33600], examples_per_second: 3233.5176, train_label_loss: 0.0539, \n"
     ]
    },
    {
     "name": "stdout",
     "output_type": "stream",
     "text": [
      "epoch: 7, [batch: 16800 / 33600], examples_per_second: 3247.2444, train_label_loss: 0.1506, \n"
     ]
    },
    {
     "name": "stdout",
     "output_type": "stream",
     "text": [
      "epoch: 7, [batch: 20160 / 33600], examples_per_second: 3245.7551, train_label_loss: 0.1788, \n"
     ]
    },
    {
     "name": "stdout",
     "output_type": "stream",
     "text": [
      "epoch: 7, [batch: 23520 / 33600], examples_per_second: 3234.7886, train_label_loss: 0.1212, \n"
     ]
    },
    {
     "name": "stdout",
     "output_type": "stream",
     "text": [
      "epoch: 7, [batch: 26880 / 33600], examples_per_second: 3253.8907, train_label_loss: 0.0231, \n"
     ]
    },
    {
     "name": "stdout",
     "output_type": "stream",
     "text": [
      "epoch: 7, [batch: 30240 / 33600], examples_per_second: 3245.4653, train_label_loss: 0.1548, \n"
     ]
    },
    {
     "name": "stdout",
     "output_type": "stream",
     "text": [
      "=============================================================\n",
      "epoch: 7, source_val_acc_label: 0.8950, target_val_acc_label: 0.8548, source_val_label_loss: 0.3041, target_val_label_loss: 0.4998, \n",
      "=============================================================\n"
     ]
    },
    {
     "name": "stdout",
     "output_type": "stream",
     "text": [
      "epoch: 8, [batch: 1 / 33600], examples_per_second: 0.9702, train_label_loss: 0.0799, \n"
     ]
    },
    {
     "name": "stdout",
     "output_type": "stream",
     "text": [
      "epoch: 8, [batch: 3360 / 33600], examples_per_second: 3230.5753, train_label_loss: 0.1378, \n"
     ]
    },
    {
     "name": "stdout",
     "output_type": "stream",
     "text": [
      "epoch: 8, [batch: 6720 / 33600], examples_per_second: 3245.9574, train_label_loss: 0.0357, \n"
     ]
    },
    {
     "name": "stdout",
     "output_type": "stream",
     "text": [
      "epoch: 8, [batch: 10080 / 33600], examples_per_second: 3255.2961, train_label_loss: 0.3681, \n"
     ]
    },
    {
     "name": "stdout",
     "output_type": "stream",
     "text": [
      "epoch: 8, [batch: 13440 / 33600], examples_per_second: 3235.1880, train_label_loss: 0.1408, \n"
     ]
    },
    {
     "name": "stdout",
     "output_type": "stream",
     "text": [
      "epoch: 8, [batch: 16800 / 33600], examples_per_second: 3242.4481, train_label_loss: 0.1307, \n"
     ]
    },
    {
     "name": "stdout",
     "output_type": "stream",
     "text": [
      "epoch: 8, [batch: 20160 / 33600], examples_per_second: 3245.9922, train_label_loss: 0.0897, \n"
     ]
    },
    {
     "name": "stdout",
     "output_type": "stream",
     "text": [
      "epoch: 8, [batch: 23520 / 33600], examples_per_second: 3241.2198, train_label_loss: 0.1388, \n"
     ]
    },
    {
     "name": "stdout",
     "output_type": "stream",
     "text": [
      "epoch: 8, [batch: 26880 / 33600], examples_per_second: 3250.4073, train_label_loss: 0.0313, \n"
     ]
    },
    {
     "name": "stdout",
     "output_type": "stream",
     "text": [
      "epoch: 8, [batch: 30240 / 33600], examples_per_second: 3250.5898, train_label_loss: 0.0597, \n"
     ]
    },
    {
     "name": "stdout",
     "output_type": "stream",
     "text": [
      "=============================================================\n",
      "epoch: 8, source_val_acc_label: 0.8951, target_val_acc_label: 0.8533, source_val_label_loss: 0.3088, target_val_label_loss: 0.5063, \n",
      "=============================================================\n"
     ]
    },
    {
     "name": "stdout",
     "output_type": "stream",
     "text": [
      "Patience (3) exhausted\n"
     ]
    }
   ],
   "source": [
    "###################################\n",
    "# train\n",
    "###################################\n",
    "jig = PTN_Train_Eval_Test_Jig(model, p.BEST_MODEL_PATH, p.device)\n",
    "\n",
    "jig.train(\n",
    "    train_iterable=datasets.source.processed.train,\n",
    "    source_val_iterable=datasets.source.processed.val,\n",
    "    target_val_iterable=datasets.target.processed.val,\n",
    "    num_epochs=p.n_epoch,\n",
    "    num_logs_per_epoch=p.NUM_LOGS_PER_EPOCH,\n",
    "    patience=p.patience,\n",
    "    optimizer=optimizer,\n",
    "    criteria_for_best=p.criteria_for_best,\n",
    ")"
   ]
  },
  {
   "cell_type": "code",
   "execution_count": 23,
   "id": "31e8fabf",
   "metadata": {
    "execution": {
     "iopub.execute_input": "2022-03-29T09:04:22.569637Z",
     "iopub.status.busy": "2022-03-29T09:04:22.569382Z",
     "iopub.status.idle": "2022-03-29T09:04:22.588213Z",
     "shell.execute_reply": "2022-03-29T09:04:22.587835Z"
    },
    "papermill": {
     "duration": 0.052603,
     "end_time": "2022-03-29T09:04:22.588305",
     "exception": false,
     "start_time": "2022-03-29T09:04:22.535702",
     "status": "completed"
    },
    "tags": []
   },
   "outputs": [],
   "source": [
    "total_experiment_time_secs = time.time() - start_time_secs"
   ]
  },
  {
   "cell_type": "code",
   "execution_count": 24,
   "id": "87b9595b",
   "metadata": {
    "execution": {
     "iopub.execute_input": "2022-03-29T09:04:22.659017Z",
     "iopub.status.busy": "2022-03-29T09:04:22.658725Z",
     "iopub.status.idle": "2022-03-29T09:12:24.023998Z",
     "shell.execute_reply": "2022-03-29T09:12:24.024413Z"
    },
    "papermill": {
     "duration": 481.401827,
     "end_time": "2022-03-29T09:12:24.024542",
     "exception": false,
     "start_time": "2022-03-29T09:04:22.622715",
     "status": "completed"
    },
    "tags": []
   },
   "outputs": [],
   "source": [
    "###################################\n",
    "# Evaluate the model\n",
    "###################################\n",
    "source_test_label_accuracy, source_test_label_loss = jig.test(datasets.source.processed.test)\n",
    "target_test_label_accuracy, target_test_label_loss = jig.test(datasets.target.processed.test)\n",
    "\n",
    "source_val_label_accuracy, source_val_label_loss = jig.test(datasets.source.processed.val)\n",
    "target_val_label_accuracy, target_val_label_loss = jig.test(datasets.target.processed.val)\n",
    "\n",
    "history = jig.get_history()\n",
    "\n",
    "total_epochs_trained = len(history[\"epoch_indices\"])\n",
    "\n",
    "val_dl = Iterable_Aggregator((datasets.source.original.val,datasets.target.original.val))\n",
    "\n",
    "confusion = ptn_confusion_by_domain_over_dataloader(model, p.device, val_dl)\n",
    "per_domain_accuracy = per_domain_accuracy_from_confusion(confusion)\n",
    "\n",
    "# Add a key to per_domain_accuracy for if it was a source domain\n",
    "for domain, accuracy in per_domain_accuracy.items():\n",
    "    per_domain_accuracy[domain] = {\n",
    "        \"accuracy\": accuracy,\n",
    "        \"source?\": domain in p.domains_source\n",
    "    }\n",
    "\n",
    "# Do an independent accuracy assesment JUST TO BE SURE!\n",
    "# _source_test_label_accuracy = independent_accuracy_assesment(model, datasets.source.processed.test, p.device)\n",
    "# _target_test_label_accuracy = independent_accuracy_assesment(model, datasets.target.processed.test, p.device)\n",
    "# _source_val_label_accuracy = independent_accuracy_assesment(model, datasets.source.processed.val, p.device)\n",
    "# _target_val_label_accuracy = independent_accuracy_assesment(model, datasets.target.processed.val, p.device)\n",
    "\n",
    "# assert(_source_test_label_accuracy == source_test_label_accuracy)\n",
    "# assert(_target_test_label_accuracy == target_test_label_accuracy)\n",
    "# assert(_source_val_label_accuracy == source_val_label_accuracy)\n",
    "# assert(_target_val_label_accuracy == target_val_label_accuracy)\n",
    "\n",
    "experiment = {\n",
    "    \"experiment_name\": p.experiment_name,\n",
    "    \"parameters\": dict(p),\n",
    "    \"results\": {\n",
    "        \"source_test_label_accuracy\": source_test_label_accuracy,\n",
    "        \"source_test_label_loss\": source_test_label_loss,\n",
    "        \"target_test_label_accuracy\": target_test_label_accuracy,\n",
    "        \"target_test_label_loss\": target_test_label_loss,\n",
    "        \"source_val_label_accuracy\": source_val_label_accuracy,\n",
    "        \"source_val_label_loss\": source_val_label_loss,\n",
    "        \"target_val_label_accuracy\": target_val_label_accuracy,\n",
    "        \"target_val_label_loss\": target_val_label_loss,\n",
    "        \"total_epochs_trained\": total_epochs_trained,\n",
    "        \"total_experiment_time_secs\": total_experiment_time_secs,\n",
    "        \"confusion\": confusion,\n",
    "        \"per_domain_accuracy\": per_domain_accuracy,\n",
    "    },\n",
    "    \"history\": history,\n",
    "    \"dataset_metrics\": get_dataset_metrics(datasets, \"ptn\"),\n",
    "}"
   ]
  },
  {
   "cell_type": "code",
   "execution_count": 25,
   "id": "54a21829",
   "metadata": {
    "execution": {
     "iopub.execute_input": "2022-03-29T09:12:24.093527Z",
     "iopub.status.busy": "2022-03-29T09:12:24.093268Z",
     "iopub.status.idle": "2022-03-29T09:12:24.214535Z",
     "shell.execute_reply": "2022-03-29T09:12:24.214982Z"
    },
    "papermill": {
     "duration": 0.154727,
     "end_time": "2022-03-29T09:12:24.215089",
     "exception": false,
     "start_time": "2022-03-29T09:12:24.060362",
     "status": "completed"
    },
    "tags": []
   },
   "outputs": [
    {
     "data": {
      "image/png": "[encoded data removed]",
      "text/plain": [
       "<Figure size 1080x504 with 1 Axes>"
      ]
     },
     "metadata": {
      "needs_background": "light"
     },
     "output_type": "display_data"
    }
   ],
   "source": [
    "ax = get_loss_curve(experiment)\n",
    "plt.show()"
   ]
  },
  {
   "cell_type": "code",
   "execution_count": 26,
   "id": "fd8a0f60",
   "metadata": {
    "execution": {
     "iopub.execute_input": "2022-03-29T09:12:24.283778Z",
     "iopub.status.busy": "2022-03-29T09:12:24.283520Z",
     "iopub.status.idle": "2022-03-29T09:12:24.423719Z",
     "shell.execute_reply": "2022-03-29T09:12:24.423944Z"
    },
    "papermill": {
     "duration": 0.174359,
     "end_time": "2022-03-29T09:12:24.424020",
     "exception": false,
     "start_time": "2022-03-29T09:12:24.249661",
     "status": "completed"
    },
    "tags": []
   },
   "outputs": [
    {
     "data": {
      "text/plain": [
       "<AxesSubplot:title={'center':'Results'}>"
      ]
     },
     "execution_count": 26,
     "metadata": {},
     "output_type": "execute_result"
    },
    {
     "data": {
      "image/png": "[encoded data removed]",
      "text/plain": [
       "<Figure size 1080x504 with 1 Axes>"
      ]
     },
     "metadata": {
      "needs_background": "light"
     },
     "output_type": "display_data"
    }
   ],
   "source": [
    "get_results_table(experiment)"
   ]
  },
  {
   "cell_type": "code",
   "execution_count": 27,
   "id": "cf8dc689",
   "metadata": {
    "execution": {
     "iopub.execute_input": "2022-03-29T09:12:24.497757Z",
     "iopub.status.busy": "2022-03-29T09:12:24.496936Z",
     "iopub.status.idle": "2022-03-29T09:12:24.663222Z",
     "shell.execute_reply": "2022-03-29T09:12:24.663647Z"
    },
    "papermill": {
     "duration": 0.201664,
     "end_time": "2022-03-29T09:12:24.663776",
     "exception": false,
     "start_time": "2022-03-29T09:12:24.462112",
     "status": "completed"
    },
    "tags": []
   },
   "outputs": [
    {
     "data": {
      "text/plain": [
       "<AxesSubplot:title={'center':'Per Domain Validation Accuracy'}, xlabel='domain'>"
      ]
     },
     "execution_count": 27,
     "metadata": {},
     "output_type": "execute_result"
    },
    {
     "data": {
      "image/png": "[encoded data removed]",
      "text/plain": [
       "<Figure size 1080x504 with 1 Axes>"
      ]
     },
     "metadata": {
      "needs_background": "light"
     },
     "output_type": "display_data"
    }
   ],
   "source": [
    "get_domain_accuracies(experiment)"
   ]
  },
  {
   "cell_type": "code",
   "execution_count": 28,
   "id": "a74ae082",
   "metadata": {
    "execution": {
     "iopub.execute_input": "2022-03-29T09:12:24.740415Z",
     "iopub.status.busy": "2022-03-29T09:12:24.740142Z",
     "iopub.status.idle": "2022-03-29T09:12:24.753176Z",
     "shell.execute_reply": "2022-03-29T09:12:24.753586Z"
    },
    "papermill": {
     "duration": 0.049615,
     "end_time": "2022-03-29T09:12:24.753709",
     "exception": false,
     "start_time": "2022-03-29T09:12:24.704094",
     "status": "completed"
    },
    "tags": []
   },
   "outputs": [
    {
     "name": "stdout",
     "output_type": "stream",
     "text": [
      "Source Test Label Accuracy: 0.8818098958333334 Target Test Label Accuracy: 0.855546875\n",
      "Source Val Label Accuracy: 0.882578125 Target Val Label Accuracy: 0.85779296875\n"
     ]
    }
   ],
   "source": [
    "print(\"Source Test Label Accuracy:\", experiment[\"results\"][\"source_test_label_accuracy\"], \"Target Test Label Accuracy:\", experiment[\"results\"][\"target_test_label_accuracy\"])\n",
    "print(\"Source Val Label Accuracy:\", experiment[\"results\"][\"source_val_label_accuracy\"], \"Target Val Label Accuracy:\", experiment[\"results\"][\"target_val_label_accuracy\"])"
   ]
  },
  {
   "cell_type": "code",
   "execution_count": 29,
   "id": "dacca602",
   "metadata": {
    "execution": {
     "iopub.execute_input": "2022-03-29T09:12:24.826307Z",
     "iopub.status.busy": "2022-03-29T09:12:24.826037Z",
     "iopub.status.idle": "2022-03-29T09:12:24.838496Z",
     "shell.execute_reply": "2022-03-29T09:12:24.838812Z"
    },
    "papermill": {
     "duration": 0.048848,
     "end_time": "2022-03-29T09:12:24.838908",
     "exception": false,
     "start_time": "2022-03-29T09:12:24.790060",
     "status": "completed"
    },
    "tags": [
     "experiment_json"
    ]
   },
   "outputs": [
    {
     "data": {
      "text/plain": [
       "'{\"experiment_name\": \"tl_1v2:oracle.run1-oracle.run2\", \"parameters\": {\"experiment_name\": \"tl_1v2:oracle.run1-oracle.run2\", \"device\": \"cuda\", \"lr\": 0.0001, \"n_shot\": 3, \"n_query\": 2, \"train_k_factor\": 3, \"val_k_factor\": 2, \"test_k_factor\": 2, \"torch_default_dtype\": \"torch.float32\", \"n_epoch\": 50, \"patience\": 3, \"criteria_for_best\": \"target_accuracy\", \"x_net\": [{\"class\": \"nnReshape\", \"kargs\": {\"shape\": [-1, 1, 2, 256]}}, {\"class\": \"Conv2d\", \"kargs\": {\"in_channels\": 1, \"out_channels\": 256, \"kernel_size\": [1, 7], \"bias\": false, \"padding\": [0, 3]}}, {\"class\": \"ReLU\", \"kargs\": {\"inplace\": true}}, {\"class\": \"BatchNorm2d\", \"kargs\": {\"num_features\": 256}}, {\"class\": \"Conv2d\", \"kargs\": {\"in_channels\": 256, \"out_channels\": 80, \"kernel_size\": [2, 7], \"bias\": true, \"padding\": [0, 3]}}, {\"class\": \"ReLU\", \"kargs\": {\"inplace\": true}}, {\"class\": \"BatchNorm2d\", \"kargs\": {\"num_features\": 80}}, {\"class\": \"Flatten\", \"kargs\": {}}, {\"class\": \"Linear\", \"kargs\": {\"in_features\": 20480, \"out_features\": 256}}, {\"class\": \"ReLU\", \"kargs\": {\"inplace\": true}}, {\"class\": \"BatchNorm1d\", \"kargs\": {\"num_features\": 256}}, {\"class\": \"Linear\", \"kargs\": {\"in_features\": 256, \"out_features\": 256}}], \"NUM_LOGS_PER_EPOCH\": 10, \"BEST_MODEL_PATH\": \"./best_model.pth\", \"n_way\": 16, \"datasets\": [{\"labels\": [\"3123D52\", \"3123D65\", \"3123D79\", \"3123D80\", \"3123D54\", \"3123D70\", \"3123D7B\", \"3123D89\", \"3123D58\", \"3123D76\", \"3123D7D\", \"3123EFE\", \"3123D64\", \"3123D78\", \"3123D7E\", \"3124E4A\"], \"domains\": [32, 38, 8, 44, 14, 50, 20, 26], \"num_examples_per_domain_per_label\": 10000, \"pickle_path\": \"/mnt/wd500GB/CSC500/csc500-main/datasets/oracle.Run1_10kExamples_stratified_ds.2022A.pkl\", \"source_or_target_dataset\": \"target\", \"x_transforms\": [], \"episode_transforms\": [], \"domain_prefix\": \"ORACLE.run1_\"}, {\"labels\": [\"3123D52\", \"3123D65\", \"3123D79\", \"3123D80\", \"3123D54\", \"3123D70\", \"3123D7B\", \"3123D89\", \"3123D58\", \"3123D76\", \"3123D7D\", \"3123EFE\", \"3123D64\", \"3123D78\", \"3123D7E\", \"3124E4A\"], \"domains\": [32, 38, 8, 44, 14, 50, 20, 26], \"num_examples_per_domain_per_label\": 10000, \"pickle_path\": \"/mnt/wd500GB/CSC500/csc500-main/datasets/oracle.Run2_10kExamples_stratified_ds.2022A.pkl\", \"source_or_target_dataset\": \"source\", \"x_transforms\": [], \"episode_transforms\": [], \"domain_prefix\": \"ORACLE.run2_\"}], \"dataset_seed\": 7, \"seed\": 7, \"x_shape\": [2, 256], \"domains_source\": [\"ORACLE.run2_32\", \"ORACLE.run2_38\", \"ORACLE.run2_8\", \"ORACLE.run2_44\", \"ORACLE.run2_14\", \"ORACLE.run2_50\", \"ORACLE.run2_20\", \"ORACLE.run2_26\"], \"domains_target\": [\"ORACLE.run1_32\", \"ORACLE.run1_38\", \"ORACLE.run1_8\", \"ORACLE.run1_44\", \"ORACLE.run1_14\", \"ORACLE.run1_50\", \"ORACLE.run1_20\", \"ORACLE.run1_26\"]}, \"results\": {\"source_test_label_accuracy\": 0.8818098958333334, \"source_test_label_loss\": 0.3294435739517212, \"target_test_label_accuracy\": 0.855546875, \"target_test_label_loss\": 0.4250667095184326, \"source_val_label_accuracy\": 0.882578125, \"source_val_label_loss\": 0.3275463283061981, \"target_val_label_accuracy\": 0.85779296875, \"target_val_label_loss\": 0.42506492137908936, \"total_epochs_trained\": 8, \"total_experiment_time_secs\": 7341.273357629776, \"confusion\": {\"ORACLE.run2_26\": {\"0\": {\"0\": 739, \"10\": 242, \"14\": 146, \"15\": 44, \"2\": 5, \"8\": 24}, \"4\": {\"4\": 1195, \"3\": 5}, \"14\": {\"0\": 149, \"14\": 790, \"1\": 94, \"10\": 149, \"6\": 10, \"5\": 6, \"15\": 2}, \"12\": {\"12\": 1199, \"11\": 1}, \"8\": {\"8\": 888, \"2\": 172, \"9\": 110, \"15\": 8, \"10\": 10, \"0\": 10, \"7\": 2}, \"7\": {\"7\": 874, \"3\": 161, \"2\": 84, \"9\": 46, \"13\": 22, \"8\": 13}, \"13\": {\"13\": 1100, \"9\": 63, \"7\": 37}, \"5\": {\"6\": 335, \"5\": 814, \"15\": 28, \"14\": 7, \"1\": 13, \"10\": 1, \"0\": 1, \"8\": 1}, \"15\": {\"15\": 1106, \"0\": 27, \"2\": 31, \"8\": 24, \"10\": 7, \"5\": 4, \"14\": 1}, \"10\": {\"0\": 303, \"1\": 47, \"10\": 465, \"14\": 222, \"8\": 89, \"15\": 24, \"6\": 39, \"2\": 5, \"5\": 2, \"9\": 4}, \"3\": {\"3\": 1069, \"7\": 125, \"4\": 3, \"2\": 3}, \"9\": {\"2\": 68, \"9\": 883, \"8\": 141, \"13\": 63, \"7\": 45}, \"6\": {\"5\": 188, \"6\": 988, \"14\": 9, \"10\": 9, \"1\": 6}, \"1\": {\"1\": 1156, \"6\": 13, \"14\": 27, \"5\": 1, \"10\": 3}, \"11\": {\"11\": 1200}, \"2\": {\"2\": 863, \"7\": 55, \"8\": 200, \"9\": 66, \"15\": 15, \"10\": 1}}, \"ORACLE.run2_44\": {\"1\": {\"1\": 1190, \"2\": 10}, \"11\": {\"11\": 1200}, \"3\": {\"3\": 1134, \"12\": 66}, \"6\": {\"6\": 1180, \"13\": 10, \"7\": 7, \"9\": 3}, \"7\": {\"7\": 912, \"9\": 283, \"6\": 5}, \"5\": {\"5\": 1127, \"15\": 8, \"14\": 42, \"8\": 23}, \"2\": {\"2\": 1197, \"1\": 3}, \"15\": {\"15\": 1126, \"8\": 26, \"5\": 27, \"14\": 15, \"4\": 4, \"0\": 2}, \"10\": {\"10\": 1192, \"7\": 6, \"9\": 1, \"1\": 1}, \"13\": {\"13\": 1146, \"6\": 23, \"4\": 29, \"11\": 1, \"14\": 1}, \"8\": {\"8\": 962, \"5\": 33, \"0\": 198, \"15\": 7}, \"4\": {\"4\": 1080, \"14\": 120}, \"9\": {\"7\": 351, \"9\": 833, \"6\": 14, \"4\": 1, \"13\": 1}, \"14\": {\"14\": 1080, \"4\": 99, \"5\": 18, \"15\": 3}, \"0\": {\"0\": 946, \"8\": 250, \"5\": 3, \"15\": 1}, \"12\": {\"12\": 1116, \"3\": 84}}, \"ORACLE.run2_50\": {\"15\": {\"15\": 1161, \"6\": 38, \"4\": 1}, \"4\": {\"4\": 779, \"5\": 361, \"7\": 41, \"15\": 2, \"6\": 17}, \"6\": {\"6\": 1088, \"4\": 32, \"5\": 54, \"15\": 26}, \"2\": {\"2\": 1180, \"0\": 20}, \"5\": {\"5\": 695, \"4\": 365, \"7\": 70, \"6\": 69, \"15\": 1}, \"9\": {\"9\": 1179, \"12\": 20, \"15\": 1}, \"8\": {\"8\": 1199, \"13\": 1}, \"12\": {\"12\": 1177, \"9\": 17, \"11\": 6}, \"10\": {\"10\": 1170, \"13\": 25, \"0\": 3, \"1\": 1, \"8\": 1}, \"1\": {\"1\": 1199, \"13\": 1}, \"0\": {\"0\": 1155, \"2\": 29, \"10\": 16}, \"3\": {\"3\": 1200}, \"13\": {\"13\": 1193, \"10\": 7}, \"11\": {\"11\": 1191, \"12\": 6, \"1\": 2, \"15\": 1}, \"7\": {\"7\": 1111, \"5\": 62, \"4\": 27}, \"14\": {\"14\": 1199, \"2\": 1}}, \"ORACLE.run2_38\": {\"15\": {\"1\": 161, \"15\": 997, \"6\": 38, \"5\": 4}, \"11\": {\"11\": 1200}, \"10\": {\"10\": 1152, \"13\": 27, \"3\": 20, \"4\": 1}, \"14\": {\"14\": 818, \"2\": 285, \"7\": 49, \"12\": 24, \"8\": 5, \"5\": 3, \"10\": 2, \"4\": 14}, \"6\": {\"6\": 1199, \"15\": 1}, \"4\": {\"4\": 1191, \"10\": 7, \"7\": 2}, \"13\": {\"13\": 933, \"3\": 203, \"10\": 64}, \"3\": {\"10\": 55, \"3\": 889, \"13\": 254, \"0\": 1, \"11\": 1}, \"7\": {\"7\": 1170, \"8\": 16, \"0\": 10, \"14\": 3, \"4\": 1}, \"8\": {\"8\": 1082, \"5\": 97, \"7\": 18, \"14\": 2, \"0\": 1}, \"1\": {\"1\": 1140, \"15\": 58, \"6\": 2}, \"5\": {\"8\": 352, \"5\": 837, \"15\": 2, \"7\": 6, \"0\": 2, \"14\": 1}, \"0\": {\"0\": 1158, \"7\": 36, \"8\": 5, \"5\": 1}, \"2\": {\"14\": 90, \"2\": 1110}, \"12\": {\"12\": 1197, \"5\": 1, \"14\": 2}, \"9\": {\"9\": 1200}}, \"ORACLE.run2_20\": {\"10\": {\"10\": 1151, \"7\": 8, \"6\": 33, \"4\": 5, \"12\": 3}, \"7\": {\"7\": 1044, \"3\": 137, \"4\": 6, \"2\": 4, \"10\": 1, \"9\": 2, \"6\": 5, \"5\": 1}, \"4\": {\"4\": 1095, \"2\": 4, \"10\": 1, \"7\": 18, \"3\": 55, \"9\": 12, \"12\": 5, \"15\": 5, \"5\": 5}, \"13\": {\"13\": 1071, \"12\": 107, \"15\": 20, \"3\": 1, \"9\": 1}, \"1\": {\"1\": 1114, \"5\": 57, \"2\": 13, \"9\": 10, \"15\": 5, \"0\": 1}, \"0\": {\"0\": 1184, \"1\": 11, \"8\": 5}, \"12\": {\"12\": 1126, \"13\": 64, \"4\": 6, \"15\": 4}, \"5\": {\"9\": 107, \"5\": 519, \"2\": 321, \"1\": 126, \"3\": 92, \"15\": 23, \"8\": 2, \"7\": 3, \"4\": 7}, \"6\": {\"6\": 1168, \"10\": 12, \"7\": 20}, \"2\": {\"9\": 272, \"15\": 75, \"5\": 253, \"2\": 485, \"3\": 94, \"1\": 17, \"4\": 2, \"7\": 2}, \"8\": {\"8\": 1071, \"14\": 119, \"0\": 8, \"5\": 2}, \"11\": {\"11\": 1200}, \"9\": {\"9\": 454, \"15\": 225, \"2\": 284, \"3\": 141, \"5\": 76, \"4\": 13, \"1\": 6, \"13\": 1}, \"14\": {\"14\": 1092, \"8\": 108}, \"15\": {\"15\": 778, \"9\": 225, \"3\": 24, \"2\": 101, \"13\": 22, \"5\": 16, \"1\": 15, \"12\": 17, \"4\": 2}, \"3\": {\"3\": 601, \"7\": 131, \"9\": 162, \"2\": 109, \"15\": 30, \"4\": 70, \"5\": 96, \"12\": 1}}, \"ORACLE.run2_14\": {\"14\": {\"14\": 1082, \"2\": 97, \"0\": 2, \"3\": 4, \"5\": 13, \"10\": 2}, \"0\": {\"0\": 1183, \"10\": 17}, \"4\": {\"4\": 1196, \"2\": 1, \"5\": 3}, \"11\": {\"11\": 1200}, \"13\": {\"13\": 1007, \"6\": 193}, \"9\": {\"9\": 1200}, \"3\": {\"3\": 1189, \"14\": 2, \"2\": 8, \"5\": 1}, \"6\": {\"6\": 1062, \"13\": 136, \"3\": 1, \"2\": 1}, \"1\": {\"1\": 1200}, \"5\": {\"5\": 1078, \"2\": 95, \"4\": 19, \"3\": 4, \"14\": 4}, \"12\": {\"12\": 896, \"9\": 127, \"11\": 24, \"10\": 94, \"0\": 44, \"8\": 7, \"1\": 5, \"14\": 1, \"3\": 2}, \"10\": {\"10\": 1109, \"0\": 82, \"12\": 5, \"14\": 4}, \"8\": {\"8\": 1200}, \"7\": {\"7\": 1199, \"2\": 1}, \"15\": {\"15\": 1200}, \"2\": {\"3\": 87, \"5\": 223, \"14\": 221, \"2\": 641, \"6\": 10, \"4\": 15, \"0\": 1, \"7\": 2}}, \"ORACLE.run2_32\": {\"11\": {\"4\": 211, \"13\": 150, \"11\": 826, \"0\": 10, \"8\": 1, \"7\": 2}, \"1\": {\"1\": 1200}, \"2\": {\"2\": 994, \"7\": 31, \"14\": 137, \"0\": 35, \"5\": 3}, \"0\": {\"0\": 912, \"2\": 51, \"8\": 88, \"4\": 58, \"7\": 80, \"14\": 8, \"11\": 3}, \"3\": {\"3\": 1158, \"13\": 39, \"11\": 2, \"4\": 1}, \"8\": {\"8\": 1116, \"0\": 73, \"2\": 3, \"7\": 8}, \"12\": {\"12\": 1200}, \"5\": {\"5\": 1110, \"14\": 31, \"2\": 54, \"0\": 1, \"15\": 1, \"7\": 3}, \"15\": {\"15\": 1199, \"5\": 1}, \"7\": {\"7\": 1057, \"0\": 87, \"4\": 1, \"2\": 35, \"5\": 1, \"8\": 17, \"14\": 2}, \"4\": {\"4\": 1019, \"13\": 30, \"11\": 125, \"0\": 24, \"3\": 1, \"8\": 1}, \"14\": {\"2\": 283, \"14\": 907, \"5\": 3, \"0\": 6, \"7\": 1}, \"10\": {\"10\": 1200}, \"6\": {\"6\": 1200}, \"13\": {\"13\": 1075, \"11\": 85, \"4\": 16, \"3\": 24}, \"9\": {\"9\": 1199, \"14\": 1}}, \"ORACLE.run2_8\": {\"9\": {\"9\": 1200}, \"11\": {\"11\": 875, \"8\": 320, \"7\": 5}, \"8\": {\"11\": 90, \"8\": 1099, \"6\": 11}, \"4\": {\"4\": 927, \"7\": 250, \"6\": 20, \"14\": 3}, \"13\": {\"13\": 1141, \"7\": 10, \"10\": 46, \"1\": 3}, \"14\": {\"14\": 1094, \"6\": 95, \"1\": 10, \"4\": 1}, \"2\": {\"2\": 1200}, \"3\": {\"3\": 1200}, \"1\": {\"1\": 1068, \"13\": 75, \"10\": 14, \"5\": 30, \"14\": 13}, \"0\": {\"0\": 1200}, \"5\": {\"5\": 956, \"10\": 202, \"1\": 39, \"13\": 3}, \"15\": {\"15\": 1180, \"12\": 16, \"2\": 4}, \"10\": {\"10\": 1029, \"5\": 114, \"13\": 53, \"1\": 3, \"7\": 1}, \"12\": {\"12\": 1193, \"15\": 7}, \"6\": {\"14\": 87, \"6\": 1084, \"4\": 13, \"8\": 16}, \"7\": {\"7\": 1052, \"4\": 146, \"13\": 2}}, \"ORACLE.run1_26\": {\"0\": {\"0\": 815, \"10\": 226, \"6\": 5, \"14\": 125, \"1\": 9, \"2\": 6, \"8\": 11, \"15\": 3}, \"4\": {\"4\": 1199, \"3\": 1}, \"14\": {\"14\": 855, \"10\": 195, \"15\": 7, \"0\": 68, \"1\": 71, \"6\": 4}, \"12\": {\"12\": 1200}, \"8\": {\"8\": 824, \"9\": 153, \"2\": 27, \"7\": 182, \"0\": 14}, \"7\": {\"7\": 936, \"2\": 76, \"3\": 46, \"8\": 124, \"9\": 17, \"13\": 1}, \"13\": {\"13\": 1059, \"9\": 87, \"3\": 9, \"2\": 40, \"7\": 2, \"8\": 3}, \"5\": {\"5\": 876, \"15\": 277, \"6\": 44, \"10\": 2, \"1\": 1}, \"15\": {\"5\": 309, \"15\": 694, \"6\": 146, \"10\": 41, \"0\": 4, \"1\": 2, \"14\": 4}, \"10\": {\"0\": 127, \"10\": 753, \"15\": 25, \"14\": 227, \"6\": 64, \"1\": 3, \"5\": 1}, \"3\": {\"3\": 1094, \"7\": 82, \"2\": 15, \"9\": 8, \"8\": 1}, \"9\": {\"9\": 720, \"8\": 250, \"2\": 68, \"13\": 134, \"3\": 7, \"7\": 17, \"10\": 1, \"0\": 2, \"4\": 1}, \"6\": {\"6\": 918, \"15\": 125, \"10\": 88, \"5\": 65, \"0\": 1, \"1\": 1, \"14\": 2}, \"1\": {\"1\": 970, \"14\": 162, \"0\": 5, \"10\": 46, \"5\": 1, \"6\": 10, \"15\": 6}, \"11\": {\"11\": 1200}, \"2\": {\"2\": 744, \"8\": 64, \"7\": 177, \"9\": 82, \"3\": 70, \"0\": 38, \"10\": 5, \"13\": 5, \"15\": 14, \"14\": 1}}, \"ORACLE.run1_44\": {\"1\": {\"1\": 1135, \"2\": 64, \"10\": 1}, \"11\": {\"11\": 1199, \"13\": 1}, \"3\": {\"3\": 1186, \"12\": 14}, \"6\": {\"6\": 1023, \"13\": 141, \"9\": 36}, \"7\": {\"9\": 123, \"7\": 1067, \"10\": 9, \"2\": 1}, \"5\": {\"8\": 12, \"5\": 1088, \"15\": 63, \"14\": 36, \"0\": 1}, \"2\": {\"2\": 1159, \"1\": 35, \"10\": 5, \"7\": 1}, \"15\": {\"0\": 16, \"5\": 50, \"15\": 1022, \"8\": 53, \"14\": 58, \"4\": 1}, \"10\": {\"10\": 1124, \"1\": 34, \"7\": 19, \"2\": 23}, \"13\": {\"13\": 1014, \"6\": 161, \"9\": 10, \"11\": 15}, \"8\": {\"8\": 825, \"0\": 285, \"5\": 41, \"15\": 49}, \"4\": {\"4\": 826, \"14\": 360, \"15\": 11, \"5\": 2, \"9\": 1}, \"9\": {\"7\": 379, \"9\": 515, \"2\": 7, \"6\": 182, \"13\": 109, \"4\": 8}, \"14\": {\"14\": 990, \"4\": 136, \"15\": 29, \"5\": 45}, \"0\": {\"0\": 1036, \"8\": 161, \"15\": 3}, \"12\": {\"12\": 1176, \"3\": 24}}, \"ORACLE.run1_50\": {\"15\": {\"15\": 1115, \"6\": 75, \"9\": 4, \"11\": 5, \"5\": 1}, \"4\": {\"4\": 909, \"5\": 82, \"6\": 42, \"7\": 124, \"15\": 43}, \"6\": {\"6\": 1040, \"15\": 68, \"5\": 88, \"4\": 4}, \"2\": {\"2\": 1152, \"0\": 47, \"14\": 1}, \"5\": {\"5\": 517, \"6\": 209, \"7\": 325, \"4\": 66, \"13\": 64, \"15\": 11, \"1\": 8}, \"9\": {\"9\": 1041, \"12\": 86, \"11\": 67, \"15\": 6}, \"8\": {\"8\": 1197, \"10\": 3}, \"12\": {\"12\": 1147, \"9\": 45, \"11\": 8}, \"10\": {\"10\": 1180, \"8\": 13, \"0\": 6, \"13\": 1}, \"1\": {\"1\": 1183, \"13\": 13, \"10\": 1, \"11\": 1, \"0\": 2}, \"0\": {\"0\": 1139, \"2\": 50, \"10\": 11}, \"3\": {\"3\": 1200}, \"13\": {\"13\": 1195, \"1\": 4, \"5\": 1}, \"11\": {\"11\": 1151, \"9\": 31, \"15\": 8, \"12\": 10}, \"7\": {\"7\": 1097, \"5\": 79, \"4\": 24}, \"14\": {\"14\": 1200}}, \"ORACLE.run1_38\": {\"15\": {\"15\": 1160, \"5\": 17, \"8\": 20, \"1\": 3}, \"11\": {\"11\": 1200}, \"10\": {\"10\": 1142, \"13\": 34, \"0\": 22, \"11\": 1, \"4\": 1}, \"14\": {\"14\": 1101, \"2\": 97, \"13\": 2}, \"6\": {\"6\": 1198, \"1\": 2}, \"4\": {\"4\": 1197, \"10\": 3}, \"13\": {\"13\": 1139, \"10\": 49, \"2\": 6, \"14\": 2, \"0\": 4}, \"3\": {\"3\": 1200}, \"7\": {\"7\": 1181, \"8\": 10, \"0\": 5, \"5\": 4}, \"8\": {\"8\": 632, \"5\": 399, \"12\": 2, \"7\": 120, \"2\": 4, \"15\": 34, \"13\": 4, \"9\": 3, \"0\": 2}, \"1\": {\"1\": 1200}, \"5\": {\"15\": 77, \"5\": 574, \"8\": 411, \"7\": 68, \"9\": 70}, \"0\": {\"10\": 115, \"0\": 813, \"3\": 104, \"13\": 32, \"7\": 125, \"4\": 3, \"11\": 2, \"8\": 4, \"5\": 2}, \"2\": {\"2\": 1147, \"14\": 53}, \"12\": {\"12\": 1199, \"8\": 1}, \"9\": {\"9\": 1166, \"5\": 24, \"8\": 7, \"7\": 3}}, \"ORACLE.run1_20\": {\"10\": {\"10\": 1193, \"4\": 7}, \"7\": {\"7\": 1028, \"2\": 88, \"9\": 70, \"6\": 4, \"12\": 4, \"3\": 2, \"4\": 4}, \"4\": {\"4\": 1158, \"12\": 21, \"10\": 8, \"2\": 10, \"7\": 3}, \"13\": {\"13\": 1150, \"2\": 32, \"12\": 15, \"15\": 3}, \"1\": {\"1\": 831, \"5\": 281, \"15\": 24, \"9\": 48, \"3\": 13, \"12\": 3}, \"0\": {\"0\": 1180, \"3\": 9, \"5\": 11}, \"12\": {\"12\": 922, \"15\": 110, \"2\": 133, \"4\": 15, \"13\": 5, \"9\": 11, \"7\": 3, \"1\": 1}, \"5\": {\"5\": 732, \"1\": 299, \"3\": 129, \"9\": 40}, \"6\": {\"6\": 1192, \"7\": 7, \"4\": 1}, \"2\": {\"2\": 825, \"12\": 153, \"13\": 27, \"7\": 111, \"15\": 19, \"9\": 56, \"1\": 4, \"4\": 5}, \"8\": {\"8\": 1079, \"3\": 41, \"14\": 80}, \"11\": {\"11\": 1200}, \"9\": {\"9\": 906, \"5\": 39, \"7\": 57, \"3\": 94, \"1\": 53, \"2\": 41, \"12\": 6, \"15\": 3, \"8\": 1}, \"14\": {\"8\": 43, \"14\": 1155, \"6\": 2}, \"15\": {\"15\": 963, \"9\": 13, \"1\": 98, \"12\": 107, \"2\": 10, \"13\": 5, \"5\": 4}, \"3\": {\"3\": 771, \"9\": 150, \"5\": 192, \"0\": 22, \"1\": 20, \"8\": 44, \"7\": 1}}, \"ORACLE.run1_14\": {\"14\": {\"6\": 49, \"14\": 982, \"2\": 68, \"13\": 82, \"3\": 19}, \"0\": {\"0\": 1101, \"10\": 64, \"3\": 32, \"8\": 1, \"14\": 1, \"2\": 1}, \"4\": {\"4\": 1154, \"5\": 41, \"2\": 5}, \"11\": {\"11\": 1200}, \"13\": {\"13\": 307, \"6\": 356, \"15\": 103, \"14\": 372, \"2\": 52, \"3\": 2, \"4\": 6, \"10\": 1, \"5\": 1}, \"9\": {\"9\": 1200}, \"3\": {\"3\": 1178, \"14\": 17, \"0\": 4, \"2\": 1}, \"6\": {\"6\": 692, \"13\": 268, \"14\": 193, \"2\": 40, \"3\": 7}, \"1\": {\"1\": 1200}, \"5\": {\"5\": 1075, \"4\": 43, \"2\": 71, \"7\": 3, \"3\": 7, \"14\": 1}, \"12\": {\"12\": 1200}, \"10\": {\"10\": 1192, \"0\": 8}, \"8\": {\"8\": 1200}, \"7\": {\"7\": 1198, \"5\": 2}, \"15\": {\"15\": 1200}, \"2\": {\"5\": 141, \"2\": 593, \"14\": 210, \"4\": 71, \"13\": 48, \"6\": 87, \"7\": 11, \"3\": 39}}, \"ORACLE.run1_32\": {\"11\": {\"11\": 1189, \"13\": 9, \"3\": 2}, \"1\": {\"1\": 1200}, \"2\": {\"2\": 1099, \"4\": 99, \"0\": 1, \"14\": 1}, \"0\": {\"0\": 951, \"7\": 108, \"8\": 64, \"5\": 64, \"14\": 13}, \"3\": {\"3\": 1151, \"13\": 45, \"11\": 4}, \"8\": {\"8\": 989, \"5\": 61, \"0\": 92, \"14\": 19, \"7\": 17, \"4\": 15, \"2\": 4, \"13\": 3}, \"12\": {\"12\": 1200}, \"5\": {\"7\": 209, \"5\": 680, \"8\": 125, \"0\": 132, \"14\": 54}, \"15\": {\"15\": 1194, \"8\": 5, \"5\": 1}, \"7\": {\"7\": 820, \"5\": 148, \"14\": 122, \"0\": 97, \"8\": 13}, \"4\": {\"4\": 1051, \"2\": 118, \"13\": 31}, \"14\": {\"14\": 703, \"2\": 51, \"8\": 33, \"7\": 295, \"5\": 45, \"4\": 40, \"0\": 33}, \"10\": {\"10\": 1199, \"6\": 1}, \"6\": {\"6\": 1200}, \"13\": {\"13\": 934, \"11\": 13, \"4\": 110, \"3\": 143}, \"9\": {\"9\": 1191, \"2\": 3, \"12\": 6}}, \"ORACLE.run1_8\": {\"9\": {\"9\": 1200}, \"11\": {\"11\": 663, \"4\": 11, \"14\": 47, \"1\": 437, \"5\": 7, \"6\": 10, \"7\": 1, \"8\": 16, \"10\": 7, \"13\": 1}, \"8\": {\"8\": 1192, \"11\": 4, \"6\": 3, \"4\": 1}, \"4\": {\"4\": 1104, \"6\": 28, \"10\": 2, \"14\": 53, \"11\": 11, \"1\": 2}, \"13\": {\"13\": 951, \"10\": 164, \"7\": 38, \"6\": 33, \"1\": 5, \"5\": 9}, \"14\": {\"14\": 1023, \"4\": 156, \"11\": 19, \"1\": 1, \"10\": 1}, \"2\": {\"15\": 73, \"2\": 875, \"3\": 180, \"12\": 72}, \"3\": {\"3\": 1191, \"2\": 9}, \"1\": {\"1\": 897, \"11\": 243, \"10\": 31, \"13\": 4, \"5\": 17, \"4\": 8}, \"0\": {\"0\": 1200}, \"5\": {\"10\": 158, \"1\": 59, \"5\": 953, \"4\": 3, \"14\": 13, \"11\": 14}, \"15\": {\"15\": 1041, \"12\": 146, \"2\": 13}, \"10\": {\"10\": 896, \"1\": 28, \"13\": 171, \"5\": 96, \"4\": 6, \"6\": 2, \"11\": 1}, \"12\": {\"12\": 973, \"15\": 226, \"2\": 1}, \"6\": {\"6\": 956, \"7\": 228, \"1\": 2, \"4\": 6, \"13\": 6, \"11\": 1, \"10\": 1}, \"7\": {\"6\": 213, \"7\": 980, \"13\": 7}}}, \"per_domain_accuracy\": {\"ORACLE.run2_26\": {\"accuracy\": 0.7983854166666666, \"source?\": true}, \"ORACLE.run2_44\": {\"accuracy\": 0.90734375, \"source?\": true}, \"ORACLE.run2_50\": {\"accuracy\": 0.9310416666666667, \"source?\": true}, \"ORACLE.run2_38\": {\"accuracy\": 0.8996354166666667, \"source?\": true}, \"ORACLE.run2_20\": {\"accuracy\": 0.78921875, \"source?\": true}, \"ORACLE.run2_14\": {\"accuracy\": 0.9188541666666666, \"source?\": true}, \"ORACLE.run2_32\": {\"accuracy\": 0.9047916666666667, \"source?\": true}, \"ORACLE.run2_8\": {\"accuracy\": 0.9113541666666667, \"source?\": true}, \"ORACLE.run1_26\": {\"accuracy\": 0.7738020833333333, \"source?\": false}, \"ORACLE.run1_44\": {\"accuracy\": 0.8533854166666667, \"source?\": false}, \"ORACLE.run1_50\": {\"accuracy\": 0.90953125, \"source?\": false}, \"ORACLE.run1_38\": {\"accuracy\": 0.8983854166666667, \"source?\": false}, \"ORACLE.run1_20\": {\"accuracy\": 0.8481770833333333, \"source?\": false}, \"ORACLE.run1_14\": {\"accuracy\": 0.8683333333333333, \"source?\": false}, \"ORACLE.run1_32\": {\"accuracy\": 0.8724479166666667, \"source?\": false}, \"ORACLE.run1_8\": {\"accuracy\": 0.83828125, \"source?\": false}}}, \"history\": {\"epoch_indices\": [1, 2, 3, 4, 5, 6, 7, 8], \"train_label_loss\": [0.6252526220678174, 0.41089001752269855, 0.32610327717892473, 0.28294543472842115, 0.25042975660305405, 0.2246503415524369, 0.20423790910435075, 0.18530045833062364], \"source_val_label_loss\": [2.567732095718384, 0.39405882358551025, 0.34724801778793335, 0.3275463283061981, 0.30840185284614563, 0.3172204792499542, 0.30413731932640076, 0.3088425397872925], \"target_val_label_loss\": [2.418360948562622, 0.49211594462394714, 0.46516504883766174, 0.42506492137908936, 0.4665828049182892, 0.504055917263031, 0.49984076619148254, 0.5063456296920776], \"source_val_acc_label\": [0.7251171875, 0.8666471354166667, 0.87806640625, 0.882578125, 0.8900325520833333, 0.8925651041666667, 0.89498046875, 0.89505859375], \"target_val_acc_label\": [0.7105794270833333, 0.8403255208333333, 0.85171875, 0.85779296875, 0.8565364583333334, 0.8564192708333334, 0.85478515625, 0.8532877604166667]}, \"dataset_metrics\": {\"source\": {\"train\": {\"n_unique_x\": 896000, \"n_unique_y\": 16, \"n_batch/episode\": 33600}, \"val\": {\"n_unique_x\": 192000, \"n_unique_y\": 16, \"n_batch/episode\": 4800}, \"test\": {\"n_unique_x\": 192000, \"n_unique_y\": 16, \"n_batch/episode\": 4800}}, \"target\": {\"train\": {\"n_unique_x\": 896000, \"n_unique_y\": 16, \"n_batch/episode\": 33600}, \"val\": {\"n_unique_x\": 192000, \"n_unique_y\": 16, \"n_batch/episode\": 4800}, \"test\": {\"n_unique_x\": 192000, \"n_unique_y\": 16, \"n_batch/episode\": 4800}}}}'"
      ]
     },
     "execution_count": 29,
     "metadata": {},
     "output_type": "execute_result"
    }
   ],
   "source": [
    "json.dumps(experiment)"
   ]
  }
 ],
 "metadata": {
  "celltoolbar": "Tags",
  "kernelspec": {
   "display_name": "Python 3 (ipykernel)",
   "language": "python",
   "name": "python3"
  },
  "language_info": {
   "codemirror_mode": {
    "name": "ipython",
    "version": 3
   },
   "file_extension": ".py",
   "mimetype": "text/x-python",
   "name": "python",
   "nbconvert_exporter": "python",
   "pygments_lexer": "ipython3",
   "version": "3.8.10"
  },
  "papermill": {
   "default_parameters": {},
   "duration": 7828.456163,
   "end_time": "2022-03-29T09:12:27.199839",
   "environment_variables": {},
   "exception": null,
   "input_path": "/mnt/wd500GB/CSC500/csc500-main/csc500-notebooks/templates/tl_ptn_template.ipynb",
   "output_path": "trial.ipynb",
   "parameters": {
    "parameters": {
     "BEST_MODEL_PATH": "./best_model.pth",
     "NUM_LOGS_PER_EPOCH": 10,
     "criteria_for_best": "target_accuracy",
     "dataset_seed": 7,
     "datasets": [
      {
       "domain_prefix": "ORACLE.run1_",
       "domains": [
        32,
        38,
        8,
        44,
        14,
        50,
        20,
        26
       ],
       "episode_transforms": [],
       "labels": [
        "3123D52",
        "3123D65",
        "3123D79",
        "3123D80",
        "3123D54",
        "3123D70",
        "3123D7B",
        "3123D89",
        "3123D58",
        "3123D76",
        "3123D7D",
        "3123EFE",
        "3123D64",
        "3123D78",
        "3123D7E",
        "3124E4A"
       ],
       "num_examples_per_domain_per_label": 10000,
       "pickle_path": "/mnt/wd500GB/CSC500/csc500-main/datasets/oracle.Run1_10kExamples_stratified_ds.2022A.pkl",
       "source_or_target_dataset": "target",
       "x_transforms": []
      },
      {
       "domain_prefix": "ORACLE.run2_",
       "domains": [
        32,
        38,
        8,
        44,
        14,
        50,
        20,
        26
       ],
       "episode_transforms": [],
       "labels": [
        "3123D52",
        "3123D65",
        "3123D79",
        "3123D80",
        "3123D54",
        "3123D70",
        "3123D7B",
        "3123D89",
        "3123D58",
        "3123D76",
        "3123D7D",
        "3123EFE",
        "3123D64",
        "3123D78",
        "3123D7E",
        "3124E4A"
       ],
       "num_examples_per_domain_per_label": 10000,
       "pickle_path": "/mnt/wd500GB/CSC500/csc500-main/datasets/oracle.Run2_10kExamples_stratified_ds.2022A.pkl",
       "source_or_target_dataset": "source",
       "x_transforms": []
      }
     ],
     "device": "cuda",
     "experiment_name": "tl_1v2:oracle.run1-oracle.run2",
     "lr": 0.0001,
     "n_epoch": 50,
     "n_query": 2,
     "n_shot": 3,
     "n_way": 16,
     "patience": 3,
     "seed": 7,
     "test_k_factor": 2,
     "torch_default_dtype": "torch.float32",
     "train_k_factor": 3,
     "val_k_factor": 2,
     "x_net": [
      {
       "class": "nnReshape",
       "kargs": {
        "shape": [
         -1,
         1,
         2,
         256
        ]
       }
      },
      {
       "class": "Conv2d",
       "kargs": {
        "bias": false,
        "in_channels": 1,
        "kernel_size": [
         1,
         7
        ],
        "out_channels": 256,
        "padding": [
         0,
         3
        ]
       }
      },
      {
       "class": "ReLU",
       "kargs": {
        "inplace": true
       }
      },
      {
       "class": "BatchNorm2d",
       "kargs": {
        "num_features": 256
       }
      },
      {
       "class": "Conv2d",
       "kargs": {
        "bias": true,
        "in_channels": 256,
        "kernel_size": [
         2,
         7
        ],
        "out_channels": 80,
        "padding": [
         0,
         3
        ]
       }
      },
      {
       "class": "ReLU",
       "kargs": {
        "inplace": true
       }
      },
      {
       "class": "BatchNorm2d",
       "kargs": {
        "num_features": 80
       }
      },
      {
       "class": "Flatten",
       "kargs": {}
      },
      {
       "class": "Linear",
       "kargs": {
        "in_features": 20480,
        "out_features": 256
       }
      },
      {
       "class": "ReLU",
       "kargs": {
        "inplace": true
       }
      },
      {
       "class": "BatchNorm1d",
       "kargs": {
        "num_features": 256
       }
      },
      {
       "class": "Linear",
       "kargs": {
        "in_features": 256,
        "out_features": 256
       }
      }
     ]
    }
   },
   "start_time": "2022-03-29T07:01:58.743676",
   "version": "2.3.4"
  }
 },
 "nbformat": 4,
 "nbformat_minor": 5
}