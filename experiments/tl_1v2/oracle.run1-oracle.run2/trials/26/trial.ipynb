{
 "cells": [
  {
   "cell_type": "markdown",
   "id": "9fea5f46",
   "metadata": {
    "papermill": {
     "duration": 0.02527,
     "end_time": "2022-03-29T15:40:13.029907",
     "exception": false,
     "start_time": "2022-03-29T15:40:13.004637",
     "status": "completed"
    },
    "tags": []
   },
   "source": [
    "# Transfer Learning Template"
   ]
  },
  {
   "cell_type": "code",
   "execution_count": 1,
   "id": "0902182a",
   "metadata": {
    "execution": {
     "iopub.execute_input": "2022-03-29T15:40:13.085206Z",
     "iopub.status.busy": "2022-03-29T15:40:13.078858Z",
     "iopub.status.idle": "2022-03-29T15:40:14.546811Z",
     "shell.execute_reply": "2022-03-29T15:40:14.547212Z"
    },
    "papermill": {
     "duration": 1.496246,
     "end_time": "2022-03-29T15:40:14.547399",
     "exception": false,
     "start_time": "2022-03-29T15:40:13.051153",
     "status": "completed"
    },
    "tags": []
   },
   "outputs": [],
   "source": [
    "%load_ext autoreload\n",
    "%autoreload 2\n",
    "%matplotlib inline\n",
    "\n",
    "    \n",
    "import os, json, sys, time, random\n",
    "import numpy as np\n",
    "import torch\n",
    "from torch.optim import Adam\n",
    "from  easydict import EasyDict\n",
    "import matplotlib.pyplot as plt\n",
    "\n",
    "from steves_models.steves_ptn import Steves_Prototypical_Network\n",
    "\n",
    "from steves_utils.lazy_iterable_wrapper import Lazy_Iterable_Wrapper\n",
    "from steves_utils.iterable_aggregator import Iterable_Aggregator\n",
    "from steves_utils.ptn_train_eval_test_jig import  PTN_Train_Eval_Test_Jig\n",
    "from steves_utils.torch_sequential_builder import build_sequential\n",
    "from steves_utils.torch_utils import get_dataset_metrics, ptn_confusion_by_domain_over_dataloader\n",
    "from steves_utils.utils_v2 import (per_domain_accuracy_from_confusion, get_datasets_base_path)\n",
    "from steves_utils.PTN.utils import independent_accuracy_assesment\n",
    "\n",
    "from torch.utils.data import DataLoader\n",
    "\n",
    "from steves_utils.stratified_dataset.episodic_accessor import Episodic_Accessor_Factory\n",
    "\n",
    "from steves_utils.ptn_do_report import (\n",
    "    get_loss_curve,\n",
    "    get_results_table,\n",
    "    get_parameters_table,\n",
    "    get_domain_accuracies,\n",
    ")\n",
    "\n",
    "from steves_utils.transforms import get_chained_transform"
   ]
  },
  {
   "cell_type": "markdown",
   "id": "41c840b4",
   "metadata": {
    "papermill": {
     "duration": 0.012176,
     "end_time": "2022-03-29T15:40:14.577826",
     "exception": false,
     "start_time": "2022-03-29T15:40:14.565650",
     "status": "completed"
    },
    "tags": []
   },
   "source": [
    "# Allowed Parameters\n",
    "These are allowed parameters, not defaults\n",
    "Each of these values need to be present in the injected parameters (the notebook will raise an exception if they are not present)\n",
    "\n",
    "Papermill uses the cell tag \"parameters\" to inject the real parameters below this cell.\n",
    "Enable tags to see what I mean"
   ]
  },
  {
   "cell_type": "code",
   "execution_count": 2,
   "id": "fd44eb83",
   "metadata": {
    "execution": {
     "iopub.execute_input": "2022-03-29T15:40:14.606177Z",
     "iopub.status.busy": "2022-03-29T15:40:14.605903Z",
     "iopub.status.idle": "2022-03-29T15:40:14.619821Z",
     "shell.execute_reply": "2022-03-29T15:40:14.620170Z"
    },
    "papermill": {
     "duration": 0.030207,
     "end_time": "2022-03-29T15:40:14.620275",
     "exception": false,
     "start_time": "2022-03-29T15:40:14.590068",
     "status": "completed"
    },
    "tags": []
   },
   "outputs": [],
   "source": [
    "required_parameters = {\n",
    "    \"experiment_name\",\n",
    "    \"lr\",\n",
    "    \"device\",\n",
    "    \"seed\",\n",
    "    \"dataset_seed\",\n",
    "    \"n_shot\",\n",
    "    \"n_query\",\n",
    "    \"n_way\",\n",
    "    \"train_k_factor\",\n",
    "    \"val_k_factor\",\n",
    "    \"test_k_factor\",\n",
    "    \"n_epoch\",\n",
    "    \"patience\",\n",
    "    \"criteria_for_best\",\n",
    "    \"x_net\",\n",
    "    \"datasets\",\n",
    "    \"torch_default_dtype\",\n",
    "    \"NUM_LOGS_PER_EPOCH\",\n",
    "    \"BEST_MODEL_PATH\",\n",
    "    \"x_shape\",\n",
    "}"
   ]
  },
  {
   "cell_type": "code",
   "execution_count": 3,
   "id": "fa3f0049",
   "metadata": {
    "execution": {
     "iopub.execute_input": "2022-03-29T15:40:14.656015Z",
     "iopub.status.busy": "2022-03-29T15:40:14.655738Z",
     "iopub.status.idle": "2022-03-29T15:40:14.667525Z",
     "shell.execute_reply": "2022-03-29T15:40:14.667892Z"
    },
    "papermill": {
     "duration": 0.030313,
     "end_time": "2022-03-29T15:40:14.667996",
     "exception": false,
     "start_time": "2022-03-29T15:40:14.637683",
     "status": "completed"
    },
    "tags": [
     "parameters"
    ]
   },
   "outputs": [],
   "source": [
    "from steves_utils.CORES.utils import (\n",
    "    ALL_NODES,\n",
    "    ALL_NODES_MINIMUM_1000_EXAMPLES,\n",
    "    ALL_DAYS\n",
    ")\n",
    "\n",
    "from steves_utils.ORACLE.utils_v2 import (\n",
    "    ALL_DISTANCES_FEET_NARROWED,\n",
    "    ALL_RUNS,\n",
    "    ALL_SERIAL_NUMBERS,\n",
    ")\n",
    "\n",
    "standalone_parameters = {}\n",
    "standalone_parameters[\"experiment_name\"] = \"STANDALONE PTN\"\n",
    "standalone_parameters[\"lr\"] = 0.001\n",
    "standalone_parameters[\"device\"] = \"cuda\"\n",
    "\n",
    "standalone_parameters[\"seed\"] = 1337\n",
    "standalone_parameters[\"dataset_seed\"] = 1337\n",
    "\n",
    "standalone_parameters[\"n_way\"] = 8\n",
    "standalone_parameters[\"n_shot\"] = 3\n",
    "standalone_parameters[\"n_query\"]  = 2\n",
    "standalone_parameters[\"train_k_factor\"] = 1\n",
    "standalone_parameters[\"val_k_factor\"] = 2\n",
    "standalone_parameters[\"test_k_factor\"] = 2\n",
    "\n",
    "\n",
    "standalone_parameters[\"n_epoch\"] = 50\n",
    "\n",
    "standalone_parameters[\"patience\"] = 10\n",
    "standalone_parameters[\"criteria_for_best\"] = \"source_loss\"\n",
    "\n",
    "standalone_parameters[\"datasets\"] = [\n",
    "    {\n",
    "        \"labels\": ALL_SERIAL_NUMBERS,\n",
    "        \"domains\": ALL_DISTANCES_FEET_NARROWED,\n",
    "        \"num_examples_per_domain_per_label\": 100,\n",
    "        \"pickle_path\": os.path.join(get_datasets_base_path(), \"oracle.Run1_framed_2000Examples_stratified_ds.2022A.pkl\"),\n",
    "        \"source_or_target_dataset\": \"source\",\n",
    "        \"x_transforms\": [\"unit_mag\", \"minus_two\"],\n",
    "        \"episode_transforms\": [],\n",
    "        \"domain_prefix\": \"ORACLE_\"\n",
    "    },\n",
    "    {\n",
    "        \"labels\": ALL_NODES,\n",
    "        \"domains\": ALL_DAYS,\n",
    "        \"num_examples_per_domain_per_label\": 100,\n",
    "        \"pickle_path\": os.path.join(get_datasets_base_path(), \"cores.stratified_ds.2022A.pkl\"),\n",
    "        \"source_or_target_dataset\": \"target\",\n",
    "        \"x_transforms\": [\"unit_power\", \"times_zero\"],\n",
    "        \"episode_transforms\": [],\n",
    "        \"domain_prefix\": \"CORES_\"\n",
    "    }   \n",
    "]\n",
    "\n",
    "standalone_parameters[\"torch_default_dtype\"] = \"torch.float32\" \n",
    "\n",
    "\n",
    "\n",
    "standalone_parameters[\"x_net\"] =     [\n",
    "    {\"class\": \"nnReshape\", \"kargs\": {\"shape\":[-1, 1, 2, 256]}},\n",
    "    {\"class\": \"Conv2d\", \"kargs\": { \"in_channels\":1, \"out_channels\":256, \"kernel_size\":(1,7), \"bias\":False, \"padding\":(0,3), },},\n",
    "    {\"class\": \"ReLU\", \"kargs\": {\"inplace\": True}},\n",
    "    {\"class\": \"BatchNorm2d\", \"kargs\": {\"num_features\":256}},\n",
    "\n",
    "    {\"class\": \"Conv2d\", \"kargs\": { \"in_channels\":256, \"out_channels\":80, \"kernel_size\":(2,7), \"bias\":True, \"padding\":(0,3), },},\n",
    "    {\"class\": \"ReLU\", \"kargs\": {\"inplace\": True}},\n",
    "    {\"class\": \"BatchNorm2d\", \"kargs\": {\"num_features\":80}},\n",
    "    {\"class\": \"Flatten\", \"kargs\": {}},\n",
    "\n",
    "    {\"class\": \"Linear\", \"kargs\": {\"in_features\": 80*256, \"out_features\": 256}}, # 80 units per IQ pair\n",
    "    {\"class\": \"ReLU\", \"kargs\": {\"inplace\": True}},\n",
    "    {\"class\": \"BatchNorm1d\", \"kargs\": {\"num_features\":256}},\n",
    "\n",
    "    {\"class\": \"Linear\", \"kargs\": {\"in_features\": 256, \"out_features\": 256}},\n",
    "]\n",
    "\n",
    "# Parameters relevant to results\n",
    "# These parameters will basically never need to change\n",
    "standalone_parameters[\"NUM_LOGS_PER_EPOCH\"] = 10\n",
    "standalone_parameters[\"BEST_MODEL_PATH\"] = \"./best_model.pth\"\n",
    "\n",
    "\n",
    "\n",
    "\n"
   ]
  },
  {
   "cell_type": "code",
   "execution_count": 4,
   "id": "4b9ee769",
   "metadata": {
    "execution": {
     "iopub.execute_input": "2022-03-29T15:40:14.706101Z",
     "iopub.status.busy": "2022-03-29T15:40:14.705781Z",
     "iopub.status.idle": "2022-03-29T15:40:14.717557Z",
     "shell.execute_reply": "2022-03-29T15:40:14.717111Z"
    },
    "papermill": {
     "duration": 0.032524,
     "end_time": "2022-03-29T15:40:14.717644",
     "exception": false,
     "start_time": "2022-03-29T15:40:14.685120",
     "status": "completed"
    },
    "tags": [
     "injected-parameters"
    ]
   },
   "outputs": [],
   "source": [
    "# Parameters\n",
    "parameters = {\n",
    "    \"experiment_name\": \"tl_1v2:oracle.run1-oracle.run2\",\n",
    "    \"device\": \"cuda\",\n",
    "    \"lr\": 0.0001,\n",
    "    \"n_shot\": 3,\n",
    "    \"n_query\": 2,\n",
    "    \"train_k_factor\": 3,\n",
    "    \"val_k_factor\": 2,\n",
    "    \"test_k_factor\": 2,\n",
    "    \"torch_default_dtype\": \"torch.float32\",\n",
    "    \"n_epoch\": 50,\n",
    "    \"patience\": 3,\n",
    "    \"criteria_for_best\": \"target_accuracy\",\n",
    "    \"x_net\": [\n",
    "        {\"class\": \"nnReshape\", \"kargs\": {\"shape\": [-1, 1, 2, 256]}},\n",
    "        {\n",
    "            \"class\": \"Conv2d\",\n",
    "            \"kargs\": {\n",
    "                \"in_channels\": 1,\n",
    "                \"out_channels\": 256,\n",
    "                \"kernel_size\": [1, 7],\n",
    "                \"bias\": False,\n",
    "                \"padding\": [0, 3],\n",
    "            },\n",
    "        },\n",
    "        {\"class\": \"ReLU\", \"kargs\": {\"inplace\": True}},\n",
    "        {\"class\": \"BatchNorm2d\", \"kargs\": {\"num_features\": 256}},\n",
    "        {\n",
    "            \"class\": \"Conv2d\",\n",
    "            \"kargs\": {\n",
    "                \"in_channels\": 256,\n",
    "                \"out_channels\": 80,\n",
    "                \"kernel_size\": [2, 7],\n",
    "                \"bias\": True,\n",
    "                \"padding\": [0, 3],\n",
    "            },\n",
    "        },\n",
    "        {\"class\": \"ReLU\", \"kargs\": {\"inplace\": True}},\n",
    "        {\"class\": \"BatchNorm2d\", \"kargs\": {\"num_features\": 80}},\n",
    "        {\"class\": \"Flatten\", \"kargs\": {}},\n",
    "        {\"class\": \"Linear\", \"kargs\": {\"in_features\": 20480, \"out_features\": 256}},\n",
    "        {\"class\": \"ReLU\", \"kargs\": {\"inplace\": True}},\n",
    "        {\"class\": \"BatchNorm1d\", \"kargs\": {\"num_features\": 256}},\n",
    "        {\"class\": \"Linear\", \"kargs\": {\"in_features\": 256, \"out_features\": 256}},\n",
    "    ],\n",
    "    \"NUM_LOGS_PER_EPOCH\": 10,\n",
    "    \"BEST_MODEL_PATH\": \"./best_model.pth\",\n",
    "    \"n_way\": 16,\n",
    "    \"datasets\": [\n",
    "        {\n",
    "            \"labels\": [\n",
    "                \"3123D52\",\n",
    "                \"3123D65\",\n",
    "                \"3123D79\",\n",
    "                \"3123D80\",\n",
    "                \"3123D54\",\n",
    "                \"3123D70\",\n",
    "                \"3123D7B\",\n",
    "                \"3123D89\",\n",
    "                \"3123D58\",\n",
    "                \"3123D76\",\n",
    "                \"3123D7D\",\n",
    "                \"3123EFE\",\n",
    "                \"3123D64\",\n",
    "                \"3123D78\",\n",
    "                \"3123D7E\",\n",
    "                \"3124E4A\",\n",
    "            ],\n",
    "            \"domains\": [32, 38, 8, 44, 14, 50, 20, 26],\n",
    "            \"num_examples_per_domain_per_label\": 10000,\n",
    "            \"pickle_path\": \"/mnt/wd500GB/CSC500/csc500-main/datasets/oracle.Run1_10kExamples_stratified_ds.2022A.pkl\",\n",
    "            \"source_or_target_dataset\": \"source\",\n",
    "            \"x_transforms\": [],\n",
    "            \"episode_transforms\": [],\n",
    "            \"domain_prefix\": \"ORACLE.run1_\",\n",
    "        },\n",
    "        {\n",
    "            \"labels\": [\n",
    "                \"3123D52\",\n",
    "                \"3123D65\",\n",
    "                \"3123D79\",\n",
    "                \"3123D80\",\n",
    "                \"3123D54\",\n",
    "                \"3123D70\",\n",
    "                \"3123D7B\",\n",
    "                \"3123D89\",\n",
    "                \"3123D58\",\n",
    "                \"3123D76\",\n",
    "                \"3123D7D\",\n",
    "                \"3123EFE\",\n",
    "                \"3123D64\",\n",
    "                \"3123D78\",\n",
    "                \"3123D7E\",\n",
    "                \"3124E4A\",\n",
    "            ],\n",
    "            \"domains\": [32, 38, 8, 44, 14, 50, 20, 26],\n",
    "            \"num_examples_per_domain_per_label\": 10000,\n",
    "            \"pickle_path\": \"/mnt/wd500GB/CSC500/csc500-main/datasets/oracle.Run2_10kExamples_stratified_ds.2022A.pkl\",\n",
    "            \"source_or_target_dataset\": \"target\",\n",
    "            \"x_transforms\": [],\n",
    "            \"episode_transforms\": [],\n",
    "            \"domain_prefix\": \"ORACLE.run2_\",\n",
    "        },\n",
    "    ],\n",
    "    \"dataset_seed\": 500,\n",
    "    \"seed\": 500,\n",
    "}\n"
   ]
  },
  {
   "cell_type": "code",
   "execution_count": 5,
   "id": "8fa1cc33",
   "metadata": {
    "execution": {
     "iopub.execute_input": "2022-03-29T15:40:14.750083Z",
     "iopub.status.busy": "2022-03-29T15:40:14.749815Z",
     "iopub.status.idle": "2022-03-29T15:40:14.764731Z",
     "shell.execute_reply": "2022-03-29T15:40:14.764285Z"
    },
    "papermill": {
     "duration": 0.030453,
     "end_time": "2022-03-29T15:40:14.764819",
     "exception": false,
     "start_time": "2022-03-29T15:40:14.734366",
     "status": "completed"
    },
    "tags": []
   },
   "outputs": [],
   "source": [
    "# Set this to True if you want to run this template directly\n",
    "STANDALONE = False\n",
    "if STANDALONE:\n",
    "    print(\"parameters not injected, running with standalone_parameters\")\n",
    "    parameters = standalone_parameters\n",
    "\n",
    "if not 'parameters' in locals() and not 'parameters' in globals():\n",
    "    raise Exception(\"Parameter injection failed\")\n",
    "\n",
    "#Use an easy dict for all the parameters\n",
    "p = EasyDict(parameters)\n",
    "\n",
    "if \"x_shape\" not in p:\n",
    "    p.x_shape = [2,256] # Default to this if we dont supply x_shape\n",
    "\n",
    "\n",
    "supplied_keys = set(p.keys())\n",
    "\n",
    "if  supplied_keys != required_parameters:\n",
    "    print(\"Parameters are incorrect\")\n",
    "    if len(supplied_keys - required_parameters)>0: print(\"Shouldn't have:\", str(supplied_keys - required_parameters))\n",
    "    if len(required_parameters - supplied_keys)>0: print(\"Need to have:\", str(required_parameters - supplied_keys))\n",
    "    raise RuntimeError(\"Parameters are incorrect\")"
   ]
  },
  {
   "cell_type": "code",
   "execution_count": 6,
   "id": "3a028d58",
   "metadata": {
    "execution": {
     "iopub.execute_input": "2022-03-29T15:40:14.796974Z",
     "iopub.status.busy": "2022-03-29T15:40:14.796731Z",
     "iopub.status.idle": "2022-03-29T15:40:14.811985Z",
     "shell.execute_reply": "2022-03-29T15:40:14.811542Z"
    },
    "papermill": {
     "duration": 0.030251,
     "end_time": "2022-03-29T15:40:14.812071",
     "exception": false,
     "start_time": "2022-03-29T15:40:14.781820",
     "status": "completed"
    },
    "tags": []
   },
   "outputs": [],
   "source": [
    "###################################\n",
    "# Set the RNGs and make it all deterministic\n",
    "###################################\n",
    "np.random.seed(p.seed)\n",
    "random.seed(p.seed)\n",
    "torch.manual_seed(p.seed)\n",
    "\n",
    "torch.use_deterministic_algorithms(True) "
   ]
  },
  {
   "cell_type": "code",
   "execution_count": 7,
   "id": "b691acf6",
   "metadata": {
    "execution": {
     "iopub.execute_input": "2022-03-29T15:40:14.844450Z",
     "iopub.status.busy": "2022-03-29T15:40:14.844206Z",
     "iopub.status.idle": "2022-03-29T15:40:14.858626Z",
     "shell.execute_reply": "2022-03-29T15:40:14.858966Z"
    },
    "papermill": {
     "duration": 0.029418,
     "end_time": "2022-03-29T15:40:14.859069",
     "exception": false,
     "start_time": "2022-03-29T15:40:14.829651",
     "status": "completed"
    },
    "tags": []
   },
   "outputs": [],
   "source": [
    "###########################################\n",
    "# The stratified datasets honor this\n",
    "###########################################\n",
    "torch.set_default_dtype(eval(p.torch_default_dtype))"
   ]
  },
  {
   "cell_type": "code",
   "execution_count": 8,
   "id": "b5fba671",
   "metadata": {
    "execution": {
     "iopub.execute_input": "2022-03-29T15:40:14.892600Z",
     "iopub.status.busy": "2022-03-29T15:40:14.892359Z",
     "iopub.status.idle": "2022-03-29T15:40:14.930674Z",
     "shell.execute_reply": "2022-03-29T15:40:14.930289Z"
    },
    "papermill": {
     "duration": 0.053658,
     "end_time": "2022-03-29T15:40:14.930761",
     "exception": false,
     "start_time": "2022-03-29T15:40:14.877103",
     "status": "completed"
    },
    "tags": []
   },
   "outputs": [],
   "source": [
    "###################################\n",
    "# Build the network(s)\n",
    "# Note: It's critical to do this AFTER setting the RNG\n",
    "###################################\n",
    "x_net = build_sequential(p.x_net)"
   ]
  },
  {
   "cell_type": "code",
   "execution_count": 9,
   "id": "5d7e61cc",
   "metadata": {
    "execution": {
     "iopub.execute_input": "2022-03-29T15:40:14.962626Z",
     "iopub.status.busy": "2022-03-29T15:40:14.962384Z",
     "iopub.status.idle": "2022-03-29T15:40:14.977266Z",
     "shell.execute_reply": "2022-03-29T15:40:14.976834Z"
    },
    "papermill": {
     "duration": 0.029982,
     "end_time": "2022-03-29T15:40:14.977354",
     "exception": false,
     "start_time": "2022-03-29T15:40:14.947372",
     "status": "completed"
    },
    "tags": []
   },
   "outputs": [],
   "source": [
    "start_time_secs = time.time()"
   ]
  },
  {
   "cell_type": "code",
   "execution_count": 10,
   "id": "c6b67dfd",
   "metadata": {
    "execution": {
     "iopub.execute_input": "2022-03-29T15:40:15.009161Z",
     "iopub.status.busy": "2022-03-29T15:40:15.008920Z",
     "iopub.status.idle": "2022-03-29T15:40:15.018551Z",
     "shell.execute_reply": "2022-03-29T15:40:15.018752Z"
    },
    "papermill": {
     "duration": 0.024292,
     "end_time": "2022-03-29T15:40:15.018807",
     "exception": false,
     "start_time": "2022-03-29T15:40:14.994515",
     "status": "completed"
    },
    "tags": []
   },
   "outputs": [],
   "source": [
    "p.domains_source = []\n",
    "p.domains_target = []\n",
    "\n",
    "\n",
    "train_original_source = []\n",
    "val_original_source   = []\n",
    "test_original_source  = []\n",
    "\n",
    "train_original_target = []\n",
    "val_original_target   = []\n",
    "test_original_target  = []"
   ]
  },
  {
   "cell_type": "code",
   "execution_count": 11,
   "id": "e3d9c3d3",
   "metadata": {
    "execution": {
     "iopub.execute_input": "2022-03-29T15:40:15.052141Z",
     "iopub.status.busy": "2022-03-29T15:40:15.051894Z",
     "iopub.status.idle": "2022-03-29T15:40:15.065681Z",
     "shell.execute_reply": "2022-03-29T15:40:15.065242Z"
    },
    "papermill": {
     "duration": 0.028505,
     "end_time": "2022-03-29T15:40:15.065769",
     "exception": false,
     "start_time": "2022-03-29T15:40:15.037264",
     "status": "completed"
    },
    "tags": []
   },
   "outputs": [],
   "source": [
    "# global_x_transform_func = lambda x: normalize(x.to(torch.get_default_dtype()), \"unit_power\") # unit_power, unit_mag\n",
    "# global_x_transform_func = lambda x: normalize(x, \"unit_power\") # unit_power, unit_mag"
   ]
  },
  {
   "cell_type": "code",
   "execution_count": 12,
   "id": "acb78fd2",
   "metadata": {
    "execution": {
     "iopub.execute_input": "2022-03-29T15:40:15.103378Z",
     "iopub.status.busy": "2022-03-29T15:40:15.103113Z",
     "iopub.status.idle": "2022-03-29T15:40:15.116430Z",
     "shell.execute_reply": "2022-03-29T15:40:15.115988Z"
    },
    "papermill": {
     "duration": 0.033532,
     "end_time": "2022-03-29T15:40:15.116518",
     "exception": false,
     "start_time": "2022-03-29T15:40:15.082986",
     "status": "completed"
    },
    "tags": []
   },
   "outputs": [],
   "source": [
    "def add_dataset(\n",
    "    labels,\n",
    "    domains,\n",
    "    pickle_path,\n",
    "    x_transforms,\n",
    "    episode_transforms,\n",
    "    domain_prefix,\n",
    "    num_examples_per_domain_per_label,\n",
    "    source_or_target_dataset:str,\n",
    "    iterator_seed=p.seed,\n",
    "    dataset_seed=p.dataset_seed,\n",
    "    n_shot=p.n_shot,\n",
    "    n_way=p.n_way,\n",
    "    n_query=p.n_query,\n",
    "    train_val_test_k_factors=(p.train_k_factor,p.val_k_factor,p.test_k_factor),\n",
    "):\n",
    "   \n",
    "    if x_transforms == []: x_transform = None\n",
    "    else: x_transform = get_chained_transform(x_transforms)\n",
    "    \n",
    "    if episode_transforms == []: episode_transform = None\n",
    "    else: raise Exception(\"episode_transforms not implemented\")\n",
    "    \n",
    "    episode_transform = lambda tup, _prefix=domain_prefix: (_prefix + str(tup[0]), tup[1])\n",
    "\n",
    "\n",
    "    eaf = Episodic_Accessor_Factory(\n",
    "        labels=labels,\n",
    "        domains=domains,\n",
    "        num_examples_per_domain_per_label=num_examples_per_domain_per_label,\n",
    "        iterator_seed=iterator_seed,\n",
    "        dataset_seed=dataset_seed,\n",
    "        n_shot=n_shot,\n",
    "        n_way=n_way,\n",
    "        n_query=n_query,\n",
    "        train_val_test_k_factors=train_val_test_k_factors,\n",
    "        pickle_path=pickle_path,\n",
    "        x_transform_func=x_transform,\n",
    "    )\n",
    "\n",
    "    train, val, test = eaf.get_train(), eaf.get_val(), eaf.get_test()\n",
    "    train = Lazy_Iterable_Wrapper(train, episode_transform)\n",
    "    val = Lazy_Iterable_Wrapper(val, episode_transform)\n",
    "    test = Lazy_Iterable_Wrapper(test, episode_transform)\n",
    "\n",
    "    if source_or_target_dataset==\"source\":\n",
    "        train_original_source.append(train)\n",
    "        val_original_source.append(val)\n",
    "        test_original_source.append(test)\n",
    "\n",
    "        p.domains_source.extend(\n",
    "            [domain_prefix + str(u) for u in domains]\n",
    "        )\n",
    "    elif source_or_target_dataset==\"target\":\n",
    "        train_original_target.append(train)\n",
    "        val_original_target.append(val)\n",
    "        test_original_target.append(test)\n",
    "        p.domains_target.extend(\n",
    "            [domain_prefix + str(u) for u in domains]\n",
    "        )\n",
    "    else:\n",
    "        raise Exception(f\"invalid source_or_target_dataset: {source_or_target_dataset}\")\n",
    "    "
   ]
  },
  {
   "cell_type": "code",
   "execution_count": 13,
   "id": "fe266617",
   "metadata": {
    "execution": {
     "iopub.execute_input": "2022-03-29T15:40:15.149192Z",
     "iopub.status.busy": "2022-03-29T15:40:15.148951Z",
     "iopub.status.idle": "2022-03-29T15:40:38.911701Z",
     "shell.execute_reply": "2022-03-29T15:40:38.911272Z"
    },
    "papermill": {
     "duration": 23.777361,
     "end_time": "2022-03-29T15:40:38.911811",
     "exception": false,
     "start_time": "2022-03-29T15:40:15.134450",
     "status": "completed"
    },
    "tags": []
   },
   "outputs": [],
   "source": [
    "for ds in p.datasets:\n",
    "    add_dataset(**ds)"
   ]
  },
  {
   "cell_type": "code",
   "execution_count": 14,
   "id": "b90d65ac",
   "metadata": {
    "execution": {
     "iopub.execute_input": "2022-03-29T15:40:38.946321Z",
     "iopub.status.busy": "2022-03-29T15:40:38.946043Z",
     "iopub.status.idle": "2022-03-29T15:40:38.957591Z",
     "shell.execute_reply": "2022-03-29T15:40:38.957177Z"
    },
    "papermill": {
     "duration": 0.026404,
     "end_time": "2022-03-29T15:40:38.957685",
     "exception": false,
     "start_time": "2022-03-29T15:40:38.931281",
     "status": "completed"
    },
    "tags": []
   },
   "outputs": [],
   "source": [
    "# from steves_utils.CORES.utils import (\n",
    "#     ALL_NODES,\n",
    "#     ALL_NODES_MINIMUM_1000_EXAMPLES,\n",
    "#     ALL_DAYS\n",
    "# )\n",
    "\n",
    "# add_dataset(\n",
    "#     labels=ALL_NODES,\n",
    "#     domains = ALL_DAYS,\n",
    "#     num_examples_per_domain_per_label=100,\n",
    "#     pickle_path=os.path.join(get_datasets_base_path(), \"cores.stratified_ds.2022A.pkl\"),\n",
    "#     source_or_target_dataset=\"target\",\n",
    "#     x_transform_func=global_x_transform_func,\n",
    "#     domain_modifier=lambda u: f\"cores_{u}\"\n",
    "# )"
   ]
  },
  {
   "cell_type": "code",
   "execution_count": 15,
   "id": "76db484d",
   "metadata": {
    "execution": {
     "iopub.execute_input": "2022-03-29T15:40:38.990181Z",
     "iopub.status.busy": "2022-03-29T15:40:38.989904Z",
     "iopub.status.idle": "2022-03-29T15:40:39.000777Z",
     "shell.execute_reply": "2022-03-29T15:40:39.000302Z"
    },
    "papermill": {
     "duration": 0.025549,
     "end_time": "2022-03-29T15:40:39.000873",
     "exception": false,
     "start_time": "2022-03-29T15:40:38.975324",
     "status": "completed"
    },
    "tags": []
   },
   "outputs": [],
   "source": [
    "# from steves_utils.ORACLE.utils_v2 import (\n",
    "#     ALL_DISTANCES_FEET,\n",
    "#     ALL_RUNS,\n",
    "#     ALL_SERIAL_NUMBERS,\n",
    "# )\n",
    "\n",
    "\n",
    "# add_dataset(\n",
    "#     labels=ALL_SERIAL_NUMBERS,\n",
    "#     domains = list(set(ALL_DISTANCES_FEET) - {2,62}),\n",
    "#     num_examples_per_domain_per_label=100,\n",
    "#     pickle_path=os.path.join(get_datasets_base_path(), \"oracle.Run2_framed_2000Examples_stratified_ds.2022A.pkl\"),\n",
    "#     source_or_target_dataset=\"source\",\n",
    "#     x_transform_func=global_x_transform_func,\n",
    "#     domain_modifier=lambda u: f\"oracle1_{u}\"\n",
    "# )\n"
   ]
  },
  {
   "cell_type": "code",
   "execution_count": 16,
   "id": "97dea9d2",
   "metadata": {
    "execution": {
     "iopub.execute_input": "2022-03-29T15:40:39.033090Z",
     "iopub.status.busy": "2022-03-29T15:40:39.032733Z",
     "iopub.status.idle": "2022-03-29T15:40:39.049437Z",
     "shell.execute_reply": "2022-03-29T15:40:39.049023Z"
    },
    "papermill": {
     "duration": 0.03203,
     "end_time": "2022-03-29T15:40:39.049533",
     "exception": false,
     "start_time": "2022-03-29T15:40:39.017503",
     "status": "completed"
    },
    "tags": []
   },
   "outputs": [],
   "source": [
    "# from steves_utils.ORACLE.utils_v2 import (\n",
    "#     ALL_DISTANCES_FEET,\n",
    "#     ALL_RUNS,\n",
    "#     ALL_SERIAL_NUMBERS,\n",
    "# )\n",
    "\n",
    "\n",
    "# add_dataset(\n",
    "#     labels=ALL_SERIAL_NUMBERS,\n",
    "#     domains = list(set(ALL_DISTANCES_FEET) - {2,62,56}),\n",
    "#     num_examples_per_domain_per_label=100,\n",
    "#     pickle_path=os.path.join(get_datasets_base_path(), \"oracle.Run2_framed_2000Examples_stratified_ds.2022A.pkl\"),\n",
    "#     source_or_target_dataset=\"source\",\n",
    "#     x_transform_func=global_x_transform_func,\n",
    "#     domain_modifier=lambda u: f\"oracle2_{u}\"\n",
    "# )"
   ]
  },
  {
   "cell_type": "code",
   "execution_count": 17,
   "id": "6f289866",
   "metadata": {
    "execution": {
     "iopub.execute_input": "2022-03-29T15:40:39.082621Z",
     "iopub.status.busy": "2022-03-29T15:40:39.082373Z",
     "iopub.status.idle": "2022-03-29T15:40:39.093275Z",
     "shell.execute_reply": "2022-03-29T15:40:39.092961Z"
    },
    "papermill": {
     "duration": 0.025708,
     "end_time": "2022-03-29T15:40:39.093348",
     "exception": false,
     "start_time": "2022-03-29T15:40:39.067640",
     "status": "completed"
    },
    "tags": []
   },
   "outputs": [],
   "source": [
    "# add_dataset(\n",
    "#     labels=list(range(19)),\n",
    "#     domains = [0,1,2],\n",
    "#     num_examples_per_domain_per_label=100,\n",
    "#     pickle_path=os.path.join(get_datasets_base_path(), \"metehan.stratified_ds.2022A.pkl\"),\n",
    "#     source_or_target_dataset=\"target\",\n",
    "#     x_transform_func=global_x_transform_func,\n",
    "#     domain_modifier=lambda u: f\"met_{u}\"\n",
    "# )"
   ]
  },
  {
   "cell_type": "code",
   "execution_count": 18,
   "id": "86a863c3",
   "metadata": {
    "execution": {
     "iopub.execute_input": "2022-03-29T15:40:39.134498Z",
     "iopub.status.busy": "2022-03-29T15:40:39.128031Z",
     "iopub.status.idle": "2022-03-29T15:40:39.142263Z",
     "shell.execute_reply": "2022-03-29T15:40:39.141850Z"
    },
    "papermill": {
     "duration": 0.030083,
     "end_time": "2022-03-29T15:40:39.142361",
     "exception": false,
     "start_time": "2022-03-29T15:40:39.112278",
     "status": "completed"
    },
    "tags": []
   },
   "outputs": [],
   "source": [
    "# # from steves_utils.wisig.utils import (\n",
    "# #     ALL_NODES_MINIMUM_100_EXAMPLES,\n",
    "# #     ALL_NODES_MINIMUM_500_EXAMPLES,\n",
    "# #     ALL_NODES_MINIMUM_1000_EXAMPLES,\n",
    "# #     ALL_DAYS\n",
    "# # )\n",
    "\n",
    "# import steves_utils.wisig.utils as wisig\n",
    "\n",
    "\n",
    "# add_dataset(\n",
    "#     labels=wisig.ALL_NODES_MINIMUM_100_EXAMPLES,\n",
    "#     domains = wisig.ALL_DAYS,\n",
    "#     num_examples_per_domain_per_label=100,\n",
    "#     pickle_path=os.path.join(get_datasets_base_path(), \"wisig.node3-19.stratified_ds.2022A.pkl\"),\n",
    "#     source_or_target_dataset=\"target\",\n",
    "#     x_transform_func=global_x_transform_func,\n",
    "#     domain_modifier=lambda u: f\"wisig_{u}\"\n",
    "# )"
   ]
  },
  {
   "cell_type": "code",
   "execution_count": 19,
   "id": "fd5442bc",
   "metadata": {
    "execution": {
     "iopub.execute_input": "2022-03-29T15:40:39.182853Z",
     "iopub.status.busy": "2022-03-29T15:40:39.182228Z",
     "iopub.status.idle": "2022-03-29T15:40:39.196216Z",
     "shell.execute_reply": "2022-03-29T15:40:39.195795Z"
    },
    "papermill": {
     "duration": 0.034035,
     "end_time": "2022-03-29T15:40:39.196313",
     "exception": false,
     "start_time": "2022-03-29T15:40:39.162278",
     "status": "completed"
    },
    "tags": []
   },
   "outputs": [],
   "source": [
    "###################################\n",
    "# Build the dataset\n",
    "###################################\n",
    "train_original_source = Iterable_Aggregator(train_original_source, p.seed)\n",
    "val_original_source = Iterable_Aggregator(val_original_source, p.seed)\n",
    "test_original_source = Iterable_Aggregator(test_original_source, p.seed)\n",
    "\n",
    "\n",
    "train_original_target = Iterable_Aggregator(train_original_target, p.seed)\n",
    "val_original_target = Iterable_Aggregator(val_original_target, p.seed)\n",
    "test_original_target = Iterable_Aggregator(test_original_target, p.seed)\n",
    "\n",
    "# For CNN We only use X and Y. And we only train on the source.\n",
    "# Properly form the data using a transform lambda and Lazy_Iterable_Wrapper. Finally wrap them in a dataloader\n",
    "\n",
    "transform_lambda = lambda ex: ex[1] # Original is (<domain>, <episode>) so we strip down to episode only\n",
    "\n",
    "train_processed_source = Lazy_Iterable_Wrapper(train_original_source, transform_lambda)\n",
    "val_processed_source   = Lazy_Iterable_Wrapper(val_original_source, transform_lambda)\n",
    "test_processed_source  = Lazy_Iterable_Wrapper(test_original_source, transform_lambda)\n",
    "\n",
    "train_processed_target = Lazy_Iterable_Wrapper(train_original_target, transform_lambda)\n",
    "val_processed_target   = Lazy_Iterable_Wrapper(val_original_target, transform_lambda)\n",
    "test_processed_target  = Lazy_Iterable_Wrapper(test_original_target, transform_lambda)\n",
    "\n",
    "datasets = EasyDict({\n",
    "    \"source\": {\n",
    "        \"original\": {\"train\":train_original_source, \"val\":val_original_source, \"test\":test_original_source},\n",
    "        \"processed\": {\"train\":train_processed_source, \"val\":val_processed_source, \"test\":test_processed_source}\n",
    "    },\n",
    "    \"target\": {\n",
    "        \"original\": {\"train\":train_original_target, \"val\":val_original_target, \"test\":test_original_target},\n",
    "        \"processed\": {\"train\":train_processed_target, \"val\":val_processed_target, \"test\":test_processed_target}\n",
    "    },\n",
    "})"
   ]
  },
  {
   "cell_type": "code",
   "execution_count": 20,
   "id": "5b3c01fc",
   "metadata": {
    "execution": {
     "iopub.execute_input": "2022-03-29T15:40:39.232059Z",
     "iopub.status.busy": "2022-03-29T15:40:39.231809Z",
     "iopub.status.idle": "2022-03-29T15:41:03.765937Z",
     "shell.execute_reply": "2022-03-29T15:41:03.766180Z"
    },
    "papermill": {
     "duration": 24.551113,
     "end_time": "2022-03-29T15:41:03.766258",
     "exception": false,
     "start_time": "2022-03-29T15:40:39.215145",
     "status": "completed"
    },
    "tags": []
   },
   "outputs": [
    {
     "name": "stdout",
     "output_type": "stream",
     "text": [
      "{'ORACLE.run1_38', 'ORACLE.run1_20', 'ORACLE.run1_8', 'ORACLE.run1_26', 'ORACLE.run1_14', 'ORACLE.run1_44', 'ORACLE.run1_50', 'ORACLE.run1_32'}\n"
     ]
    },
    {
     "name": "stdout",
     "output_type": "stream",
     "text": [
      "{'ORACLE.run2_38', 'ORACLE.run2_44', 'ORACLE.run2_50', 'ORACLE.run2_8', 'ORACLE.run2_14', 'ORACLE.run2_20', 'ORACLE.run2_32', 'ORACLE.run2_26'}\n"
     ]
    },
    {
     "name": "stdout",
     "output_type": "stream",
     "text": [
      "tensor([[[-2.3499e-03,  7.0193e-04, -3.0519e-04,  ...,  1.5564e-03,\n",
      "          -1.2207e-04, -6.4089e-04],\n",
      "         [-6.4089e-04,  1.2513e-03,  9.1556e-05,  ...,  2.9298e-03,\n",
      "           5.1881e-04,  2.2279e-03]],\n",
      "\n",
      "        [[-9.1556e-05,  2.5636e-03, -2.7467e-04,  ..., -1.4649e-03,\n",
      "          -7.9348e-04,  1.1292e-03],\n",
      "         [ 7.0193e-04, -3.6012e-03, -2.1668e-03,  ...,  1.8311e-04,\n",
      "          -1.9532e-03,  1.4649e-03]],\n",
      "\n",
      "        [[ 5.7985e-04,  4.2726e-04, -3.3570e-04,  ...,  4.8830e-04,\n",
      "           3.0519e-04, -3.6622e-04],\n",
      "         [-1.9837e-03, -2.0753e-03,  1.0376e-03,  ...,  9.1556e-05,\n",
      "           3.9674e-04,  2.1363e-04]],\n",
      "\n",
      "        ...,\n",
      "\n",
      "        [[ 2.6246e-03, -3.6622e-04,  8.5452e-04,  ..., -2.0142e-03,\n",
      "          -2.4415e-04,  2.5025e-03],\n",
      "         [ 4.2726e-04,  3.5096e-03,  3.0519e-04,  ...,  7.0193e-04,\n",
      "          -1.0071e-03, -2.2584e-03]],\n",
      "\n",
      "        [[ 1.2818e-03, -1.4649e-03, -4.2726e-04,  ...,  6.1037e-04,\n",
      "           7.0193e-04,  2.1363e-04],\n",
      "         [ 8.8504e-04, -2.0753e-03,  1.3428e-03,  ..., -3.3570e-03,\n",
      "          -1.7701e-03,  2.1363e-04]],\n",
      "\n",
      "        [[ 1.6785e-03,  1.4039e-03, -1.2818e-03,  ...,  1.0376e-03,\n",
      "           1.0376e-03,  1.9532e-03],\n",
      "         [-1.8311e-04, -1.0071e-03, -6.1037e-04,  ...,  2.7467e-04,\n",
      "          -3.0519e-05, -8.5452e-04]]])\n"
     ]
    }
   ],
   "source": [
    "from steves_utils.transforms import get_average_magnitude, get_average_power\n",
    "\n",
    "print(set([u for u,_ in val_original_source]))\n",
    "print(set([u for u,_ in val_original_target]))\n",
    "\n",
    "s_x, s_y, q_x, q_y, _ = next(iter(train_processed_source))\n",
    "print(s_x)\n",
    "\n",
    "# for ds in [\n",
    "#     train_processed_source,\n",
    "#     val_processed_source,\n",
    "#     test_processed_source,\n",
    "#     train_processed_target,\n",
    "#     val_processed_target,\n",
    "#     test_processed_target\n",
    "# ]:\n",
    "#     for s_x, s_y, q_x, q_y, _ in ds:\n",
    "#         for X in (s_x, q_x):\n",
    "#             for x in X:\n",
    "#                 assert np.isclose(get_average_magnitude(x.numpy()), 1.0)\n",
    "#                 assert np.isclose(get_average_power(x.numpy()), 1.0)\n",
    "                "
   ]
  },
  {
   "cell_type": "code",
   "execution_count": 21,
   "id": "bbdacba1",
   "metadata": {
    "execution": {
     "iopub.execute_input": "2022-03-29T15:41:03.800764Z",
     "iopub.status.busy": "2022-03-29T15:41:03.800357Z",
     "iopub.status.idle": "2022-03-29T15:41:03.863714Z",
     "shell.execute_reply": "2022-03-29T15:41:03.863440Z"
    },
    "papermill": {
     "duration": 0.080651,
     "end_time": "2022-03-29T15:41:03.863776",
     "exception": false,
     "start_time": "2022-03-29T15:41:03.783125",
     "status": "completed"
    },
    "tags": []
   },
   "outputs": [
    {
     "name": "stdout",
     "output_type": "stream",
     "text": [
      "(2, 256)\n"
     ]
    }
   ],
   "source": [
    "###################################\n",
    "# Build the model\n",
    "###################################\n",
    "# easfsl only wants a tuple for the shape\n",
    "model = Steves_Prototypical_Network(x_net, device=p.device, x_shape=tuple(p.x_shape))\n",
    "optimizer = Adam(params=model.parameters(), lr=p.lr)"
   ]
  },
  {
   "cell_type": "code",
   "execution_count": 22,
   "id": "22b39ac5",
   "metadata": {
    "execution": {
     "iopub.execute_input": "2022-03-29T15:41:03.895933Z",
     "iopub.status.busy": "2022-03-29T15:41:03.895540Z",
     "iopub.status.idle": "2022-03-29T17:42:33.458174Z",
     "shell.execute_reply": "2022-03-29T17:42:33.457933Z"
    },
    "papermill": {
     "duration": 7289.579808,
     "end_time": "2022-03-29T17:42:33.458234",
     "exception": false,
     "start_time": "2022-03-29T15:41:03.878426",
     "status": "completed"
    },
    "tags": []
   },
   "outputs": [
    {
     "name": "stdout",
     "output_type": "stream",
     "text": [
      "epoch: 1, [batch: 1 / 33600], examples_per_second: 10.1581, train_label_loss: 2.7633, \n"
     ]
    },
    {
     "name": "stdout",
     "output_type": "stream",
     "text": [
      "epoch: 1, [batch: 3360 / 33600], examples_per_second: 3220.5541, train_label_loss: 1.2493, \n"
     ]
    },
    {
     "name": "stdout",
     "output_type": "stream",
     "text": [
      "epoch: 1, [batch: 6720 / 33600], examples_per_second: 3212.9432, train_label_loss: 0.6613, \n"
     ]
    },
    {
     "name": "stdout",
     "output_type": "stream",
     "text": [
      "epoch: 1, [batch: 10080 / 33600], examples_per_second: 3218.3622, train_label_loss: 0.9201, \n"
     ]
    },
    {
     "name": "stdout",
     "output_type": "stream",
     "text": [
      "epoch: 1, [batch: 13440 / 33600], examples_per_second: 3203.3750, train_label_loss: 0.6772, \n"
     ]
    },
    {
     "name": "stdout",
     "output_type": "stream",
     "text": [
      "epoch: 1, [batch: 16800 / 33600], examples_per_second: 3208.9139, train_label_loss: 0.3045, \n"
     ]
    },
    {
     "name": "stdout",
     "output_type": "stream",
     "text": [
      "epoch: 1, [batch: 20160 / 33600], examples_per_second: 3224.0977, train_label_loss: 0.4950, \n"
     ]
    },
    {
     "name": "stdout",
     "output_type": "stream",
     "text": [
      "epoch: 1, [batch: 23520 / 33600], examples_per_second: 3209.1274, train_label_loss: 0.7010, \n"
     ]
    },
    {
     "name": "stdout",
     "output_type": "stream",
     "text": [
      "epoch: 1, [batch: 26880 / 33600], examples_per_second: 3190.8697, train_label_loss: 0.4379, \n"
     ]
    },
    {
     "name": "stdout",
     "output_type": "stream",
     "text": [
      "epoch: 1, [batch: 30240 / 33600], examples_per_second: 3215.4341, train_label_loss: 0.2839, \n"
     ]
    },
    {
     "name": "stdout",
     "output_type": "stream",
     "text": [
      "=============================================================\n",
      "epoch: 1, source_val_acc_label: 0.7441, target_val_acc_label: 0.7576, source_val_label_loss: 1.3676, target_val_label_loss: 1.4893, \n",
      "=============================================================\n"
     ]
    },
    {
     "name": "stdout",
     "output_type": "stream",
     "text": [
      "New best\n"
     ]
    },
    {
     "name": "stdout",
     "output_type": "stream",
     "text": [
      "epoch: 2, [batch: 1 / 33600], examples_per_second: 0.9714, train_label_loss: 2.4413, \n"
     ]
    },
    {
     "name": "stdout",
     "output_type": "stream",
     "text": [
      "epoch: 2, [batch: 3360 / 33600], examples_per_second: 3234.6863, train_label_loss: 0.4280, \n"
     ]
    },
    {
     "name": "stdout",
     "output_type": "stream",
     "text": [
      "epoch: 2, [batch: 6720 / 33600], examples_per_second: 3235.7737, train_label_loss: 0.2855, \n"
     ]
    },
    {
     "name": "stdout",
     "output_type": "stream",
     "text": [
      "epoch: 2, [batch: 10080 / 33600], examples_per_second: 3243.7964, train_label_loss: 0.3385, \n"
     ]
    },
    {
     "name": "stdout",
     "output_type": "stream",
     "text": [
      "epoch: 2, [batch: 13440 / 33600], examples_per_second: 3234.6559, train_label_loss: 0.3632, \n"
     ]
    },
    {
     "name": "stdout",
     "output_type": "stream",
     "text": [
      "epoch: 2, [batch: 16800 / 33600], examples_per_second: 3247.2868, train_label_loss: 0.2620, \n"
     ]
    },
    {
     "name": "stdout",
     "output_type": "stream",
     "text": [
      "epoch: 2, [batch: 20160 / 33600], examples_per_second: 3250.5988, train_label_loss: 0.2423, \n"
     ]
    },
    {
     "name": "stdout",
     "output_type": "stream",
     "text": [
      "epoch: 2, [batch: 23520 / 33600], examples_per_second: 3238.3550, train_label_loss: 0.1985, \n"
     ]
    },
    {
     "name": "stdout",
     "output_type": "stream",
     "text": [
      "epoch: 2, [batch: 26880 / 33600], examples_per_second: 3244.7055, train_label_loss: 0.3907, \n"
     ]
    },
    {
     "name": "stdout",
     "output_type": "stream",
     "text": [
      "epoch: 2, [batch: 30240 / 33600], examples_per_second: 3248.0613, train_label_loss: 0.2542, \n"
     ]
    },
    {
     "name": "stdout",
     "output_type": "stream",
     "text": [
      "=============================================================\n",
      "epoch: 2, source_val_acc_label: 0.8555, target_val_acc_label: 0.8611, source_val_label_loss: 0.4035, target_val_label_loss: 0.4674, \n",
      "=============================================================\n"
     ]
    },
    {
     "name": "stdout",
     "output_type": "stream",
     "text": [
      "New best\n"
     ]
    },
    {
     "name": "stdout",
     "output_type": "stream",
     "text": [
      "epoch: 3, [batch: 1 / 33600], examples_per_second: 0.9735, train_label_loss: 0.1935, \n"
     ]
    },
    {
     "name": "stdout",
     "output_type": "stream",
     "text": [
      "epoch: 3, [batch: 3360 / 33600], examples_per_second: 3235.5322, train_label_loss: 0.4283, \n"
     ]
    },
    {
     "name": "stdout",
     "output_type": "stream",
     "text": [
      "epoch: 3, [batch: 6720 / 33600], examples_per_second: 3245.3468, train_label_loss: 0.4511, \n"
     ]
    },
    {
     "name": "stdout",
     "output_type": "stream",
     "text": [
      "epoch: 3, [batch: 10080 / 33600], examples_per_second: 3257.2940, train_label_loss: 0.2838, \n"
     ]
    },
    {
     "name": "stdout",
     "output_type": "stream",
     "text": [
      "epoch: 3, [batch: 13440 / 33600], examples_per_second: 3242.5834, train_label_loss: 0.2751, \n"
     ]
    },
    {
     "name": "stdout",
     "output_type": "stream",
     "text": [
      "epoch: 3, [batch: 16800 / 33600], examples_per_second: 3250.3453, train_label_loss: 0.3529, \n"
     ]
    },
    {
     "name": "stdout",
     "output_type": "stream",
     "text": [
      "epoch: 3, [batch: 20160 / 33600], examples_per_second: 3249.1615, train_label_loss: 0.1930, \n"
     ]
    },
    {
     "name": "stdout",
     "output_type": "stream",
     "text": [
      "epoch: 3, [batch: 23520 / 33600], examples_per_second: 3241.9413, train_label_loss: 0.3736, \n"
     ]
    },
    {
     "name": "stdout",
     "output_type": "stream",
     "text": [
      "epoch: 3, [batch: 26880 / 33600], examples_per_second: 3247.8335, train_label_loss: 0.4465, \n"
     ]
    },
    {
     "name": "stdout",
     "output_type": "stream",
     "text": [
      "epoch: 3, [batch: 30240 / 33600], examples_per_second: 3249.9286, train_label_loss: 0.5432, \n"
     ]
    },
    {
     "name": "stdout",
     "output_type": "stream",
     "text": [
      "=============================================================\n",
      "epoch: 3, source_val_acc_label: 0.8650, target_val_acc_label: 0.8657, source_val_label_loss: 0.3765, target_val_label_loss: 0.4361, \n",
      "=============================================================\n"
     ]
    },
    {
     "name": "stdout",
     "output_type": "stream",
     "text": [
      "New best\n"
     ]
    },
    {
     "name": "stdout",
     "output_type": "stream",
     "text": [
      "epoch: 4, [batch: 1 / 33600], examples_per_second: 0.9721, train_label_loss: 0.3196, \n"
     ]
    },
    {
     "name": "stdout",
     "output_type": "stream",
     "text": [
      "epoch: 4, [batch: 3360 / 33600], examples_per_second: 3222.5407, train_label_loss: 0.3656, \n"
     ]
    },
    {
     "name": "stdout",
     "output_type": "stream",
     "text": [
      "epoch: 4, [batch: 6720 / 33600], examples_per_second: 3246.4647, train_label_loss: 0.3612, \n"
     ]
    },
    {
     "name": "stdout",
     "output_type": "stream",
     "text": [
      "epoch: 4, [batch: 10080 / 33600], examples_per_second: 3252.0469, train_label_loss: 0.1822, \n"
     ]
    },
    {
     "name": "stdout",
     "output_type": "stream",
     "text": [
      "epoch: 4, [batch: 13440 / 33600], examples_per_second: 3230.8690, train_label_loss: 0.1459, \n"
     ]
    },
    {
     "name": "stdout",
     "output_type": "stream",
     "text": [
      "epoch: 4, [batch: 16800 / 33600], examples_per_second: 3245.3846, train_label_loss: 0.4032, \n"
     ]
    },
    {
     "name": "stdout",
     "output_type": "stream",
     "text": [
      "epoch: 4, [batch: 20160 / 33600], examples_per_second: 3246.1513, train_label_loss: 0.2185, \n"
     ]
    },
    {
     "name": "stdout",
     "output_type": "stream",
     "text": [
      "epoch: 4, [batch: 23520 / 33600], examples_per_second: 3234.7273, train_label_loss: 0.2685, \n"
     ]
    },
    {
     "name": "stdout",
     "output_type": "stream",
     "text": [
      "epoch: 4, [batch: 26880 / 33600], examples_per_second: 3238.0113, train_label_loss: 0.2079, \n"
     ]
    },
    {
     "name": "stdout",
     "output_type": "stream",
     "text": [
      "epoch: 4, [batch: 30240 / 33600], examples_per_second: 3248.6579, train_label_loss: 0.2501, \n"
     ]
    },
    {
     "name": "stdout",
     "output_type": "stream",
     "text": [
      "=============================================================\n",
      "epoch: 4, source_val_acc_label: 0.8749, target_val_acc_label: 0.8718, source_val_label_loss: 0.3512, target_val_label_loss: 0.4451, \n",
      "=============================================================\n"
     ]
    },
    {
     "name": "stdout",
     "output_type": "stream",
     "text": [
      "New best\n"
     ]
    },
    {
     "name": "stdout",
     "output_type": "stream",
     "text": [
      "epoch: 5, [batch: 1 / 33600], examples_per_second: 0.9778, train_label_loss: 0.2391, \n"
     ]
    },
    {
     "name": "stdout",
     "output_type": "stream",
     "text": [
      "epoch: 5, [batch: 3360 / 33600], examples_per_second: 3236.2245, train_label_loss: 0.2082, \n"
     ]
    },
    {
     "name": "stdout",
     "output_type": "stream",
     "text": [
      "epoch: 5, [batch: 6720 / 33600], examples_per_second: 3236.8140, train_label_loss: 0.0987, \n"
     ]
    },
    {
     "name": "stdout",
     "output_type": "stream",
     "text": [
      "epoch: 5, [batch: 10080 / 33600], examples_per_second: 3252.5619, train_label_loss: 0.5230, \n"
     ]
    },
    {
     "name": "stdout",
     "output_type": "stream",
     "text": [
      "epoch: 5, [batch: 13440 / 33600], examples_per_second: 3233.9582, train_label_loss: 0.2127, \n"
     ]
    },
    {
     "name": "stdout",
     "output_type": "stream",
     "text": [
      "epoch: 5, [batch: 16800 / 33600], examples_per_second: 3232.1784, train_label_loss: 0.4374, \n"
     ]
    },
    {
     "name": "stdout",
     "output_type": "stream",
     "text": [
      "epoch: 5, [batch: 20160 / 33600], examples_per_second: 3245.9866, train_label_loss: 0.1338, \n"
     ]
    },
    {
     "name": "stdout",
     "output_type": "stream",
     "text": [
      "epoch: 5, [batch: 23520 / 33600], examples_per_second: 3238.2401, train_label_loss: 0.3284, \n"
     ]
    },
    {
     "name": "stdout",
     "output_type": "stream",
     "text": [
      "epoch: 5, [batch: 26880 / 33600], examples_per_second: 3245.4275, train_label_loss: 0.1650, \n"
     ]
    },
    {
     "name": "stdout",
     "output_type": "stream",
     "text": [
      "epoch: 5, [batch: 30240 / 33600], examples_per_second: 3245.3444, train_label_loss: 0.1118, \n"
     ]
    },
    {
     "name": "stdout",
     "output_type": "stream",
     "text": [
      "=============================================================\n",
      "epoch: 5, source_val_acc_label: 0.8748, target_val_acc_label: 0.8640, source_val_label_loss: 0.3507, target_val_label_loss: 0.4548, \n",
      "=============================================================\n"
     ]
    },
    {
     "name": "stdout",
     "output_type": "stream",
     "text": [
      "epoch: 6, [batch: 1 / 33600], examples_per_second: 0.9734, train_label_loss: 0.2318, \n"
     ]
    },
    {
     "name": "stdout",
     "output_type": "stream",
     "text": [
      "epoch: 6, [batch: 3360 / 33600], examples_per_second: 3235.0267, train_label_loss: 0.2257, \n"
     ]
    },
    {
     "name": "stdout",
     "output_type": "stream",
     "text": [
      "epoch: 6, [batch: 6720 / 33600], examples_per_second: 3247.3688, train_label_loss: 0.3286, \n"
     ]
    },
    {
     "name": "stdout",
     "output_type": "stream",
     "text": [
      "epoch: 6, [batch: 10080 / 33600], examples_per_second: 3237.1535, train_label_loss: 0.3517, \n"
     ]
    },
    {
     "name": "stdout",
     "output_type": "stream",
     "text": [
      "epoch: 6, [batch: 13440 / 33600], examples_per_second: 3237.2240, train_label_loss: 0.3387, \n"
     ]
    },
    {
     "name": "stdout",
     "output_type": "stream",
     "text": [
      "epoch: 6, [batch: 16800 / 33600], examples_per_second: 3242.3177, train_label_loss: 0.3890, \n"
     ]
    },
    {
     "name": "stdout",
     "output_type": "stream",
     "text": [
      "epoch: 6, [batch: 20160 / 33600], examples_per_second: 3247.4787, train_label_loss: 0.2161, \n"
     ]
    },
    {
     "name": "stdout",
     "output_type": "stream",
     "text": [
      "epoch: 6, [batch: 23520 / 33600], examples_per_second: 3238.7351, train_label_loss: 0.1439, \n"
     ]
    },
    {
     "name": "stdout",
     "output_type": "stream",
     "text": [
      "epoch: 6, [batch: 26880 / 33600], examples_per_second: 3243.4740, train_label_loss: 0.5034, \n"
     ]
    },
    {
     "name": "stdout",
     "output_type": "stream",
     "text": [
      "epoch: 6, [batch: 30240 / 33600], examples_per_second: 3244.5888, train_label_loss: 0.5259, \n"
     ]
    },
    {
     "name": "stdout",
     "output_type": "stream",
     "text": [
      "=============================================================\n",
      "epoch: 6, source_val_acc_label: 0.8737, target_val_acc_label: 0.8648, source_val_label_loss: 0.3483, target_val_label_loss: 0.4406, \n",
      "=============================================================\n"
     ]
    },
    {
     "name": "stdout",
     "output_type": "stream",
     "text": [
      "epoch: 7, [batch: 1 / 33600], examples_per_second: 0.9748, train_label_loss: 0.1289, \n"
     ]
    },
    {
     "name": "stdout",
     "output_type": "stream",
     "text": [
      "epoch: 7, [batch: 3360 / 33600], examples_per_second: 3241.0160, train_label_loss: 0.2508, \n"
     ]
    },
    {
     "name": "stdout",
     "output_type": "stream",
     "text": [
      "epoch: 7, [batch: 6720 / 33600], examples_per_second: 3250.4087, train_label_loss: 0.1374, \n"
     ]
    },
    {
     "name": "stdout",
     "output_type": "stream",
     "text": [
      "epoch: 7, [batch: 10080 / 33600], examples_per_second: 3254.9748, train_label_loss: 0.2838, \n"
     ]
    },
    {
     "name": "stdout",
     "output_type": "stream",
     "text": [
      "epoch: 7, [batch: 13440 / 33600], examples_per_second: 3241.3109, train_label_loss: 0.1105, \n"
     ]
    },
    {
     "name": "stdout",
     "output_type": "stream",
     "text": [
      "epoch: 7, [batch: 16800 / 33600], examples_per_second: 3252.7033, train_label_loss: 0.3630, \n"
     ]
    },
    {
     "name": "stdout",
     "output_type": "stream",
     "text": [
      "epoch: 7, [batch: 20160 / 33600], examples_per_second: 3241.4729, train_label_loss: 0.1781, \n"
     ]
    },
    {
     "name": "stdout",
     "output_type": "stream",
     "text": [
      "epoch: 7, [batch: 23520 / 33600], examples_per_second: 3233.9414, train_label_loss: 0.3666, \n"
     ]
    },
    {
     "name": "stdout",
     "output_type": "stream",
     "text": [
      "epoch: 7, [batch: 26880 / 33600], examples_per_second: 3241.2807, train_label_loss: 0.3263, \n"
     ]
    },
    {
     "name": "stdout",
     "output_type": "stream",
     "text": [
      "epoch: 7, [batch: 30240 / 33600], examples_per_second: 3246.9050, train_label_loss: 0.2423, \n"
     ]
    },
    {
     "name": "stdout",
     "output_type": "stream",
     "text": [
      "=============================================================\n",
      "epoch: 7, source_val_acc_label: 0.8817, target_val_acc_label: 0.8664, source_val_label_loss: 0.3310, target_val_label_loss: 0.4471, \n",
      "=============================================================\n"
     ]
    },
    {
     "name": "stdout",
     "output_type": "stream",
     "text": [
      "epoch: 8, [batch: 1 / 33600], examples_per_second: 0.9742, train_label_loss: 0.1173, \n"
     ]
    },
    {
     "name": "stdout",
     "output_type": "stream",
     "text": [
      "epoch: 8, [batch: 3360 / 33600], examples_per_second: 3242.5980, train_label_loss: 0.0956, \n"
     ]
    },
    {
     "name": "stdout",
     "output_type": "stream",
     "text": [
      "epoch: 8, [batch: 6720 / 33600], examples_per_second: 3246.7660, train_label_loss: 0.1900, \n"
     ]
    },
    {
     "name": "stdout",
     "output_type": "stream",
     "text": [
      "epoch: 8, [batch: 10080 / 33600], examples_per_second: 3247.9130, train_label_loss: 0.2434, \n"
     ]
    },
    {
     "name": "stdout",
     "output_type": "stream",
     "text": [
      "epoch: 8, [batch: 13440 / 33600], examples_per_second: 3232.9999, train_label_loss: 0.1029, \n"
     ]
    },
    {
     "name": "stdout",
     "output_type": "stream",
     "text": [
      "epoch: 8, [batch: 16800 / 33600], examples_per_second: 3241.9124, train_label_loss: 0.3279, \n"
     ]
    },
    {
     "name": "stdout",
     "output_type": "stream",
     "text": [
      "epoch: 8, [batch: 20160 / 33600], examples_per_second: 3249.6587, train_label_loss: 0.1426, \n"
     ]
    },
    {
     "name": "stdout",
     "output_type": "stream",
     "text": [
      "epoch: 8, [batch: 23520 / 33600], examples_per_second: 3238.0241, train_label_loss: 0.1010, \n"
     ]
    },
    {
     "name": "stdout",
     "output_type": "stream",
     "text": [
      "epoch: 8, [batch: 26880 / 33600], examples_per_second: 3243.8345, train_label_loss: 0.2507, \n"
     ]
    },
    {
     "name": "stdout",
     "output_type": "stream",
     "text": [
      "epoch: 8, [batch: 30240 / 33600], examples_per_second: 3241.5457, train_label_loss: 0.0777, \n"
     ]
    },
    {
     "name": "stdout",
     "output_type": "stream",
     "text": [
      "=============================================================\n",
      "epoch: 8, source_val_acc_label: 0.8784, target_val_acc_label: 0.8638, source_val_label_loss: 0.3480, target_val_label_loss: 0.4610, \n",
      "=============================================================\n"
     ]
    },
    {
     "name": "stdout",
     "output_type": "stream",
     "text": [
      "Patience (3) exhausted\n"
     ]
    }
   ],
   "source": [
    "###################################\n",
    "# train\n",
    "###################################\n",
    "jig = PTN_Train_Eval_Test_Jig(model, p.BEST_MODEL_PATH, p.device)\n",
    "\n",
    "jig.train(\n",
    "    train_iterable=datasets.source.processed.train,\n",
    "    source_val_iterable=datasets.source.processed.val,\n",
    "    target_val_iterable=datasets.target.processed.val,\n",
    "    num_epochs=p.n_epoch,\n",
    "    num_logs_per_epoch=p.NUM_LOGS_PER_EPOCH,\n",
    "    patience=p.patience,\n",
    "    optimizer=optimizer,\n",
    "    criteria_for_best=p.criteria_for_best,\n",
    ")"
   ]
  },
  {
   "cell_type": "code",
   "execution_count": 23,
   "id": "31e8fabf",
   "metadata": {
    "execution": {
     "iopub.execute_input": "2022-03-29T17:42:33.529708Z",
     "iopub.status.busy": "2022-03-29T17:42:33.523814Z",
     "iopub.status.idle": "2022-03-29T17:42:33.545900Z",
     "shell.execute_reply": "2022-03-29T17:42:33.545444Z"
    },
    "papermill": {
     "duration": 0.056791,
     "end_time": "2022-03-29T17:42:33.546009",
     "exception": false,
     "start_time": "2022-03-29T17:42:33.489218",
     "status": "completed"
    },
    "tags": []
   },
   "outputs": [],
   "source": [
    "total_experiment_time_secs = time.time() - start_time_secs"
   ]
  },
  {
   "cell_type": "code",
   "execution_count": 24,
   "id": "87b9595b",
   "metadata": {
    "execution": {
     "iopub.execute_input": "2022-03-29T17:42:33.619275Z",
     "iopub.status.busy": "2022-03-29T17:42:33.618999Z",
     "iopub.status.idle": "2022-03-29T17:50:35.083141Z",
     "shell.execute_reply": "2022-03-29T17:50:35.082844Z"
    },
    "papermill": {
     "duration": 481.501565,
     "end_time": "2022-03-29T17:50:35.083211",
     "exception": false,
     "start_time": "2022-03-29T17:42:33.581646",
     "status": "completed"
    },
    "tags": []
   },
   "outputs": [],
   "source": [
    "###################################\n",
    "# Evaluate the model\n",
    "###################################\n",
    "source_test_label_accuracy, source_test_label_loss = jig.test(datasets.source.processed.test)\n",
    "target_test_label_accuracy, target_test_label_loss = jig.test(datasets.target.processed.test)\n",
    "\n",
    "source_val_label_accuracy, source_val_label_loss = jig.test(datasets.source.processed.val)\n",
    "target_val_label_accuracy, target_val_label_loss = jig.test(datasets.target.processed.val)\n",
    "\n",
    "history = jig.get_history()\n",
    "\n",
    "total_epochs_trained = len(history[\"epoch_indices\"])\n",
    "\n",
    "val_dl = Iterable_Aggregator((datasets.source.original.val,datasets.target.original.val))\n",
    "\n",
    "confusion = ptn_confusion_by_domain_over_dataloader(model, p.device, val_dl)\n",
    "per_domain_accuracy = per_domain_accuracy_from_confusion(confusion)\n",
    "\n",
    "# Add a key to per_domain_accuracy for if it was a source domain\n",
    "for domain, accuracy in per_domain_accuracy.items():\n",
    "    per_domain_accuracy[domain] = {\n",
    "        \"accuracy\": accuracy,\n",
    "        \"source?\": domain in p.domains_source\n",
    "    }\n",
    "\n",
    "# Do an independent accuracy assesment JUST TO BE SURE!\n",
    "# _source_test_label_accuracy = independent_accuracy_assesment(model, datasets.source.processed.test, p.device)\n",
    "# _target_test_label_accuracy = independent_accuracy_assesment(model, datasets.target.processed.test, p.device)\n",
    "# _source_val_label_accuracy = independent_accuracy_assesment(model, datasets.source.processed.val, p.device)\n",
    "# _target_val_label_accuracy = independent_accuracy_assesment(model, datasets.target.processed.val, p.device)\n",
    "\n",
    "# assert(_source_test_label_accuracy == source_test_label_accuracy)\n",
    "# assert(_target_test_label_accuracy == target_test_label_accuracy)\n",
    "# assert(_source_val_label_accuracy == source_val_label_accuracy)\n",
    "# assert(_target_val_label_accuracy == target_val_label_accuracy)\n",
    "\n",
    "experiment = {\n",
    "    \"experiment_name\": p.experiment_name,\n",
    "    \"parameters\": dict(p),\n",
    "    \"results\": {\n",
    "        \"source_test_label_accuracy\": source_test_label_accuracy,\n",
    "        \"source_test_label_loss\": source_test_label_loss,\n",
    "        \"target_test_label_accuracy\": target_test_label_accuracy,\n",
    "        \"target_test_label_loss\": target_test_label_loss,\n",
    "        \"source_val_label_accuracy\": source_val_label_accuracy,\n",
    "        \"source_val_label_loss\": source_val_label_loss,\n",
    "        \"target_val_label_accuracy\": target_val_label_accuracy,\n",
    "        \"target_val_label_loss\": target_val_label_loss,\n",
    "        \"total_epochs_trained\": total_epochs_trained,\n",
    "        \"total_experiment_time_secs\": total_experiment_time_secs,\n",
    "        \"confusion\": confusion,\n",
    "        \"per_domain_accuracy\": per_domain_accuracy,\n",
    "    },\n",
    "    \"history\": history,\n",
    "    \"dataset_metrics\": get_dataset_metrics(datasets, \"ptn\"),\n",
    "}"
   ]
  },
  {
   "cell_type": "code",
   "execution_count": 25,
   "id": "54a21829",
   "metadata": {
    "execution": {
     "iopub.execute_input": "2022-03-29T17:50:35.148034Z",
     "iopub.status.busy": "2022-03-29T17:50:35.147774Z",
     "iopub.status.idle": "2022-03-29T17:50:35.277097Z",
     "shell.execute_reply": "2022-03-29T17:50:35.276626Z"
    },
    "papermill": {
     "duration": 0.162369,
     "end_time": "2022-03-29T17:50:35.277190",
     "exception": false,
     "start_time": "2022-03-29T17:50:35.114821",
     "status": "completed"
    },
    "tags": []
   },
   "outputs": [
    {
     "data": {
      "image/png": "[encoded data removed]",
      "text/plain": [
       "<Figure size 1080x504 with 1 Axes>"
      ]
     },
     "metadata": {
      "needs_background": "light"
     },
     "output_type": "display_data"
    }
   ],
   "source": [
    "ax = get_loss_curve(experiment)\n",
    "plt.show()"
   ]
  },
  {
   "cell_type": "code",
   "execution_count": 26,
   "id": "fd8a0f60",
   "metadata": {
    "execution": {
     "iopub.execute_input": "2022-03-29T17:50:35.346385Z",
     "iopub.status.busy": "2022-03-29T17:50:35.344613Z",
     "iopub.status.idle": "2022-03-29T17:50:35.486934Z",
     "shell.execute_reply": "2022-03-29T17:50:35.487158Z"
    },
    "papermill": {
     "duration": 0.176251,
     "end_time": "2022-03-29T17:50:35.487223",
     "exception": false,
     "start_time": "2022-03-29T17:50:35.310972",
     "status": "completed"
    },
    "tags": []
   },
   "outputs": [
    {
     "data": {
      "text/plain": [
       "<AxesSubplot:title={'center':'Results'}>"
      ]
     },
     "execution_count": 26,
     "metadata": {},
     "output_type": "execute_result"
    },
    {
     "data": {
      "image/png": "[encoded data removed]",
      "text/plain": [
       "<Figure size 1080x504 with 1 Axes>"
      ]
     },
     "metadata": {
      "needs_background": "light"
     },
     "output_type": "display_data"
    }
   ],
   "source": [
    "get_results_table(experiment)"
   ]
  },
  {
   "cell_type": "code",
   "execution_count": 27,
   "id": "cf8dc689",
   "metadata": {
    "execution": {
     "iopub.execute_input": "2022-03-29T17:50:35.556124Z",
     "iopub.status.busy": "2022-03-29T17:50:35.555871Z",
     "iopub.status.idle": "2022-03-29T17:50:35.722039Z",
     "shell.execute_reply": "2022-03-29T17:50:35.721788Z"
    },
    "papermill": {
     "duration": 0.201143,
     "end_time": "2022-03-29T17:50:35.722096",
     "exception": false,
     "start_time": "2022-03-29T17:50:35.520953",
     "status": "completed"
    },
    "tags": []
   },
   "outputs": [
    {
     "data": {
      "text/plain": [
       "<AxesSubplot:title={'center':'Per Domain Validation Accuracy'}, xlabel='domain'>"
      ]
     },
     "execution_count": 27,
     "metadata": {},
     "output_type": "execute_result"
    },
    {
     "data": {
      "image/png": "[encoded data removed]",
      "text/plain": [
       "<Figure size 1080x504 with 1 Axes>"
      ]
     },
     "metadata": {
      "needs_background": "light"
     },
     "output_type": "display_data"
    }
   ],
   "source": [
    "get_domain_accuracies(experiment)"
   ]
  },
  {
   "cell_type": "code",
   "execution_count": 28,
   "id": "a74ae082",
   "metadata": {
    "execution": {
     "iopub.execute_input": "2022-03-29T17:50:35.793129Z",
     "iopub.status.busy": "2022-03-29T17:50:35.792878Z",
     "iopub.status.idle": "2022-03-29T17:50:35.809037Z",
     "shell.execute_reply": "2022-03-29T17:50:35.809242Z"
    },
    "papermill": {
     "duration": 0.053167,
     "end_time": "2022-03-29T17:50:35.809301",
     "exception": false,
     "start_time": "2022-03-29T17:50:35.756134",
     "status": "completed"
    },
    "tags": []
   },
   "outputs": [
    {
     "name": "stdout",
     "output_type": "stream",
     "text": [
      "Source Test Label Accuracy: 0.87595703125 Target Test Label Accuracy: 0.8715885416666667\n",
      "Source Val Label Accuracy: 0.87494140625 Target Val Label Accuracy: 0.8717643229166666\n"
     ]
    }
   ],
   "source": [
    "print(\"Source Test Label Accuracy:\", experiment[\"results\"][\"source_test_label_accuracy\"], \"Target Test Label Accuracy:\", experiment[\"results\"][\"target_test_label_accuracy\"])\n",
    "print(\"Source Val Label Accuracy:\", experiment[\"results\"][\"source_val_label_accuracy\"], \"Target Val Label Accuracy:\", experiment[\"results\"][\"target_val_label_accuracy\"])"
   ]
  },
  {
   "cell_type": "code",
   "execution_count": 29,
   "id": "dacca602",
   "metadata": {
    "execution": {
     "iopub.execute_input": "2022-03-29T17:50:35.879090Z",
     "iopub.status.busy": "2022-03-29T17:50:35.878841Z",
     "iopub.status.idle": "2022-03-29T17:50:35.890312Z",
     "shell.execute_reply": "2022-03-29T17:50:35.890055Z"
    },
    "papermill": {
     "duration": 0.047081,
     "end_time": "2022-03-29T17:50:35.890362",
     "exception": false,
     "start_time": "2022-03-29T17:50:35.843281",
     "status": "completed"
    },
    "tags": [
     "experiment_json"
    ]
   },
   "outputs": [
    {
     "data": {
      "text/plain": [
       "'{\"experiment_name\": \"tl_1v2:oracle.run1-oracle.run2\", \"parameters\": {\"experiment_name\": \"tl_1v2:oracle.run1-oracle.run2\", \"device\": \"cuda\", \"lr\": 0.0001, \"n_shot\": 3, \"n_query\": 2, \"train_k_factor\": 3, \"val_k_factor\": 2, \"test_k_factor\": 2, \"torch_default_dtype\": \"torch.float32\", \"n_epoch\": 50, \"patience\": 3, \"criteria_for_best\": \"target_accuracy\", \"x_net\": [{\"class\": \"nnReshape\", \"kargs\": {\"shape\": [-1, 1, 2, 256]}}, {\"class\": \"Conv2d\", \"kargs\": {\"in_channels\": 1, \"out_channels\": 256, \"kernel_size\": [1, 7], \"bias\": false, \"padding\": [0, 3]}}, {\"class\": \"ReLU\", \"kargs\": {\"inplace\": true}}, {\"class\": \"BatchNorm2d\", \"kargs\": {\"num_features\": 256}}, {\"class\": \"Conv2d\", \"kargs\": {\"in_channels\": 256, \"out_channels\": 80, \"kernel_size\": [2, 7], \"bias\": true, \"padding\": [0, 3]}}, {\"class\": \"ReLU\", \"kargs\": {\"inplace\": true}}, {\"class\": \"BatchNorm2d\", \"kargs\": {\"num_features\": 80}}, {\"class\": \"Flatten\", \"kargs\": {}}, {\"class\": \"Linear\", \"kargs\": {\"in_features\": 20480, \"out_features\": 256}}, {\"class\": \"ReLU\", \"kargs\": {\"inplace\": true}}, {\"class\": \"BatchNorm1d\", \"kargs\": {\"num_features\": 256}}, {\"class\": \"Linear\", \"kargs\": {\"in_features\": 256, \"out_features\": 256}}], \"NUM_LOGS_PER_EPOCH\": 10, \"BEST_MODEL_PATH\": \"./best_model.pth\", \"n_way\": 16, \"datasets\": [{\"labels\": [\"3123D52\", \"3123D65\", \"3123D79\", \"3123D80\", \"3123D54\", \"3123D70\", \"3123D7B\", \"3123D89\", \"3123D58\", \"3123D76\", \"3123D7D\", \"3123EFE\", \"3123D64\", \"3123D78\", \"3123D7E\", \"3124E4A\"], \"domains\": [32, 38, 8, 44, 14, 50, 20, 26], \"num_examples_per_domain_per_label\": 10000, \"pickle_path\": \"/mnt/wd500GB/CSC500/csc500-main/datasets/oracle.Run1_10kExamples_stratified_ds.2022A.pkl\", \"source_or_target_dataset\": \"source\", \"x_transforms\": [], \"episode_transforms\": [], \"domain_prefix\": \"ORACLE.run1_\"}, {\"labels\": [\"3123D52\", \"3123D65\", \"3123D79\", \"3123D80\", \"3123D54\", \"3123D70\", \"3123D7B\", \"3123D89\", \"3123D58\", \"3123D76\", \"3123D7D\", \"3123EFE\", \"3123D64\", \"3123D78\", \"3123D7E\", \"3124E4A\"], \"domains\": [32, 38, 8, 44, 14, 50, 20, 26], \"num_examples_per_domain_per_label\": 10000, \"pickle_path\": \"/mnt/wd500GB/CSC500/csc500-main/datasets/oracle.Run2_10kExamples_stratified_ds.2022A.pkl\", \"source_or_target_dataset\": \"target\", \"x_transforms\": [], \"episode_transforms\": [], \"domain_prefix\": \"ORACLE.run2_\"}], \"dataset_seed\": 500, \"seed\": 500, \"x_shape\": [2, 256], \"domains_source\": [\"ORACLE.run1_32\", \"ORACLE.run1_38\", \"ORACLE.run1_8\", \"ORACLE.run1_44\", \"ORACLE.run1_14\", \"ORACLE.run1_50\", \"ORACLE.run1_20\", \"ORACLE.run1_26\"], \"domains_target\": [\"ORACLE.run2_32\", \"ORACLE.run2_38\", \"ORACLE.run2_8\", \"ORACLE.run2_44\", \"ORACLE.run2_14\", \"ORACLE.run2_50\", \"ORACLE.run2_20\", \"ORACLE.run2_26\"]}, \"results\": {\"source_test_label_accuracy\": 0.87595703125, \"source_test_label_loss\": 0.3489953279495239, \"target_test_label_accuracy\": 0.8715885416666667, \"target_test_label_loss\": 0.4474063813686371, \"source_val_label_accuracy\": 0.87494140625, \"source_val_label_loss\": 0.351156085729599, \"target_val_label_accuracy\": 0.8717643229166666, \"target_val_label_loss\": 0.445149689912796, \"total_epochs_trained\": 8, \"total_experiment_time_secs\": 7338.567617177963, \"confusion\": {\"ORACLE.run1_50\": {\"7\": {\"7\": 1119, \"5\": 69, \"4\": 12}, \"10\": {\"10\": 1184, \"8\": 11, \"0\": 5}, \"0\": {\"0\": 1152, \"10\": 4, \"2\": 44}, \"11\": {\"11\": 1150, \"9\": 21, \"12\": 22, \"15\": 7}, \"2\": {\"2\": 1170, \"0\": 30}, \"14\": {\"14\": 1200}, \"9\": {\"9\": 1034, \"11\": 83, \"12\": 80, \"15\": 3}, \"13\": {\"13\": 1199, \"1\": 1}, \"8\": {\"8\": 1197, \"10\": 3}, \"15\": {\"11\": 12, \"15\": 1141, \"6\": 44, \"9\": 1, \"4\": 2}, \"4\": {\"4\": 1001, \"15\": 45, \"5\": 45, \"7\": 98, \"6\": 11}, \"5\": {\"6\": 230, \"7\": 303, \"5\": 550, \"4\": 72, \"13\": 30, \"15\": 10, \"1\": 5}, \"3\": {\"3\": 1200}, \"1\": {\"1\": 1180, \"11\": 3, \"13\": 14, \"6\": 2, \"0\": 1}, \"6\": {\"6\": 1034, \"5\": 113, \"15\": 53}, \"12\": {\"12\": 1147, \"9\": 43, \"11\": 10}}, \"ORACLE.run1_14\": {\"14\": {\"13\": 115, \"14\": 936, \"2\": 84, \"3\": 22, \"6\": 43}, \"6\": {\"13\": 309, \"14\": 77, \"6\": 797, \"2\": 16, \"3\": 1}, \"5\": {\"5\": 1124, \"2\": 50, \"7\": 16, \"3\": 7, \"14\": 1, \"4\": 2}, \"15\": {\"15\": 1200}, \"11\": {\"11\": 1200}, \"8\": {\"8\": 1200}, \"12\": {\"12\": 1200}, \"1\": {\"1\": 1200}, \"2\": {\"2\": 695, \"6\": 66, \"14\": 187, \"13\": 43, \"5\": 135, \"4\": 30, \"3\": 40, \"7\": 4}, \"13\": {\"13\": 298, \"14\": 299, \"6\": 539, \"2\": 46, \"15\": 14, \"3\": 4}, \"3\": {\"3\": 1179, \"14\": 14, \"2\": 4, \"0\": 3}, \"0\": {\"0\": 1157, \"3\": 37, \"10\": 6}, \"9\": {\"9\": 1200}, \"4\": {\"4\": 1182, \"2\": 8, \"5\": 10}, \"7\": {\"7\": 1199, \"5\": 1}, \"10\": {\"10\": 1200}}, \"ORACLE.run1_32\": {\"4\": {\"4\": 1091, \"13\": 15, \"2\": 94}, \"14\": {\"14\": 799, \"7\": 252, \"5\": 34, \"2\": 34, \"0\": 50, \"8\": 20, \"4\": 11}, \"5\": {\"5\": 711, \"7\": 221, \"8\": 118, \"0\": 105, \"14\": 45}, \"10\": {\"10\": 1200}, \"13\": {\"13\": 1025, \"3\": 79, \"11\": 19, \"4\": 77}, \"9\": {\"9\": 1191, \"12\": 8, \"2\": 1}, \"6\": {\"6\": 1200}, \"3\": {\"3\": 1163, \"13\": 37}, \"15\": {\"15\": 1192, \"8\": 7, \"5\": 1}, \"7\": {\"7\": 903, \"5\": 134, \"14\": 81, \"0\": 79, \"8\": 3}, \"12\": {\"12\": 1200}, \"8\": {\"8\": 978, \"7\": 11, \"14\": 20, \"4\": 11, \"5\": 82, \"0\": 96, \"15\": 2}, \"11\": {\"11\": 1200}, \"2\": {\"2\": 1124, \"4\": 76}, \"1\": {\"1\": 1200}, \"0\": {\"0\": 948, \"7\": 120, \"14\": 17, \"5\": 52, \"8\": 63}}, \"ORACLE.run1_44\": {\"8\": {\"8\": 904, \"0\": 232, \"15\": 43, \"5\": 21}, \"11\": {\"11\": 1200}, \"14\": {\"14\": 882, \"4\": 243, \"15\": 38, \"5\": 37}, \"10\": {\"10\": 1116, \"2\": 34, \"1\": 35, \"7\": 14, \"9\": 1}, \"3\": {\"3\": 1173, \"12\": 27}, \"15\": {\"15\": 1069, \"5\": 35, \"14\": 54, \"8\": 32, \"0\": 8, \"4\": 2}, \"2\": {\"2\": 1151, \"1\": 37, \"10\": 9, \"7\": 1, \"9\": 2}, \"12\": {\"12\": 1183, \"3\": 17}, \"4\": {\"4\": 775, \"14\": 412, \"15\": 8, \"9\": 2, \"13\": 3}, \"1\": {\"1\": 1156, \"2\": 39, \"10\": 5}, \"0\": {\"8\": 127, \"0\": 1070, \"15\": 3}, \"9\": {\"9\": 598, \"7\": 321, \"13\": 103, \"6\": 175, \"2\": 2, \"4\": 1}, \"5\": {\"5\": 1086, \"15\": 63, \"14\": 40, \"8\": 8, \"0\": 2, \"4\": 1}, \"6\": {\"7\": 3, \"9\": 54, \"6\": 1007, \"13\": 136}, \"7\": {\"7\": 1024, \"9\": 166, \"6\": 2, \"10\": 6, \"2\": 2}, \"13\": {\"6\": 171, \"13\": 1005, \"9\": 24}}, \"ORACLE.run1_8\": {\"13\": {\"13\": 1022, \"7\": 44, \"10\": 115, \"5\": 4, \"6\": 15}, \"3\": {\"3\": 1196, \"2\": 4}, \"15\": {\"15\": 1050, \"12\": 146, \"2\": 4}, \"4\": {\"4\": 1184, \"14\": 6, \"11\": 2, \"6\": 7, \"1\": 1}, \"7\": {\"7\": 1061, \"6\": 126, \"13\": 13}, \"2\": {\"2\": 936, \"12\": 58, \"3\": 172, \"15\": 34}, \"1\": {\"1\": 983, \"11\": 176, \"6\": 1, \"5\": 23, \"10\": 16, \"13\": 1}, \"0\": {\"0\": 1200}, \"12\": {\"12\": 854, \"15\": 345, \"2\": 1}, \"6\": {\"6\": 1066, \"7\": 123, \"4\": 2, \"10\": 5, \"13\": 4}, \"11\": {\"11\": 725, \"1\": 414, \"5\": 9, \"14\": 34, \"4\": 6, \"8\": 8, \"10\": 2, \"6\": 2}, \"9\": {\"9\": 1200}, \"5\": {\"5\": 999, \"10\": 115, \"1\": 55, \"11\": 21, \"14\": 4, \"13\": 4, \"4\": 2}, \"10\": {\"10\": 1001, \"13\": 132, \"1\": 22, \"6\": 5, \"5\": 33, \"4\": 6, \"11\": 1}, \"14\": {\"14\": 1136, \"4\": 57, \"11\": 6, \"1\": 1}, \"8\": {\"8\": 1188, \"1\": 1, \"4\": 1, \"11\": 3, \"6\": 7}}, \"ORACLE.run1_20\": {\"6\": {\"6\": 1182, \"14\": 4, \"7\": 14}, \"11\": {\"11\": 1200}, \"5\": {\"5\": 759, \"3\": 96, \"1\": 320, \"12\": 4, \"9\": 20, \"0\": 1}, \"14\": {\"14\": 1138, \"8\": 55, \"6\": 7}, \"2\": {\"2\": 830, \"12\": 130, \"9\": 52, \"13\": 33, \"7\": 144, \"15\": 6, \"4\": 3, \"1\": 2}, \"7\": {\"7\": 1022, \"9\": 56, \"2\": 98, \"6\": 8, \"4\": 9, \"3\": 4, \"8\": 2, \"12\": 1}, \"3\": {\"7\": 4, \"9\": 172, \"3\": 812, \"8\": 57, \"5\": 117, \"12\": 1, \"1\": 21, \"0\": 13, \"2\": 1, \"4\": 2}, \"4\": {\"4\": 1147, \"12\": 34, \"7\": 6, \"10\": 9, \"2\": 4}, \"9\": {\"9\": 871, \"3\": 114, \"2\": 52, \"1\": 53, \"7\": 77, \"5\": 19, \"12\": 11, \"15\": 3}, \"12\": {\"12\": 928, \"2\": 131, \"15\": 77, \"4\": 18, \"9\": 12, \"5\": 3, \"1\": 16, \"13\": 10, \"7\": 5}, \"0\": {\"0\": 1136, \"3\": 14, \"8\": 2, \"1\": 8, \"5\": 40}, \"10\": {\"10\": 1183, \"4\": 16, \"7\": 1}, \"8\": {\"8\": 1100, \"14\": 54, \"3\": 45, \"7\": 1}, \"13\": {\"13\": 1150, \"2\": 31, \"15\": 12, \"12\": 7}, \"1\": {\"5\": 283, \"1\": 803, \"12\": 10, \"15\": 61, \"3\": 15, \"9\": 28}, \"15\": {\"15\": 992, \"13\": 6, \"1\": 88, \"12\": 101, \"2\": 4, \"9\": 5, \"5\": 4}}, \"ORACLE.run1_38\": {\"3\": {\"3\": 1200}, \"8\": {\"7\": 80, \"8\": 673, \"5\": 388, \"13\": 11, \"0\": 32, \"15\": 15, \"12\": 1}, \"0\": {\"0\": 916, \"10\": 118, \"7\": 102, \"13\": 38, \"3\": 15, \"8\": 5, \"9\": 3, \"5\": 2, \"4\": 1}, \"2\": {\"2\": 1129, \"14\": 68, \"13\": 3}, \"4\": {\"4\": 1199, \"10\": 1}, \"7\": {\"7\": 1168, \"0\": 14, \"5\": 4, \"9\": 2, \"8\": 11, \"4\": 1}, \"12\": {\"12\": 1200}, \"6\": {\"6\": 1199, \"1\": 1}, \"15\": {\"15\": 1153, \"5\": 25, \"8\": 17, \"1\": 5}, \"11\": {\"11\": 1200}, \"9\": {\"9\": 1190, \"5\": 7, \"8\": 2, \"7\": 1}, \"14\": {\"14\": 1124, \"2\": 74, \"13\": 2}, \"10\": {\"10\": 1112, \"13\": 61, \"4\": 7, \"0\": 20}, \"5\": {\"5\": 612, \"8\": 403, \"0\": 6, \"9\": 65, \"15\": 38, \"7\": 75, \"13\": 1}, \"1\": {\"1\": 1200}, \"13\": {\"13\": 1121, \"10\": 65, \"0\": 12, \"2\": 2}}, \"ORACLE.run1_26\": {\"5\": {\"5\": 1036, \"15\": 151, \"6\": 11, \"14\": 1, \"1\": 1}, \"8\": {\"2\": 25, \"8\": 864, \"9\": 165, \"7\": 142, \"0\": 4}, \"4\": {\"4\": 1200}, \"12\": {\"12\": 1200}, \"6\": {\"6\": 1033, \"10\": 34, \"15\": 93, \"5\": 39, \"1\": 1}, \"7\": {\"7\": 970, \"8\": 89, \"3\": 51, \"2\": 74, \"9\": 14, \"13\": 1, \"4\": 1}, \"10\": {\"0\": 145, \"10\": 799, \"14\": 186, \"15\": 31, \"6\": 35, \"1\": 4}, \"0\": {\"0\": 897, \"8\": 33, \"10\": 164, \"14\": 94, \"2\": 2, \"6\": 1, \"15\": 5, \"9\": 2, \"7\": 2}, \"15\": {\"5\": 222, \"15\": 829, \"6\": 106, \"10\": 36, \"1\": 3, \"0\": 1, \"14\": 3}, \"9\": {\"9\": 894, \"8\": 196, \"7\": 22, \"13\": 49, \"2\": 37, \"3\": 2}, \"11\": {\"11\": 1199, \"6\": 1}, \"14\": {\"0\": 74, \"14\": 890, \"10\": 197, \"1\": 34, \"6\": 1, \"15\": 4}, \"2\": {\"2\": 780, \"3\": 99, \"8\": 75, \"9\": 73, \"7\": 145, \"0\": 20, \"13\": 4, \"10\": 3, \"15\": 1}, \"13\": {\"13\": 1068, \"2\": 46, \"3\": 15, \"9\": 68, \"4\": 2, \"7\": 1}, \"3\": {\"3\": 1111, \"7\": 66, \"4\": 1, \"2\": 22}, \"1\": {\"1\": 1022, \"14\": 119, \"6\": 17, \"10\": 33, \"15\": 5, \"5\": 3, \"0\": 1}}, \"ORACLE.run2_50\": {\"7\": {\"7\": 1086, \"5\": 73, \"4\": 41}, \"10\": {\"10\": 1180, \"0\": 12, \"13\": 8}, \"0\": {\"0\": 1173, \"2\": 20, \"10\": 7}, \"11\": {\"11\": 1193, \"12\": 6, \"9\": 1}, \"2\": {\"2\": 1185, \"0\": 15}, \"14\": {\"14\": 1200}, \"9\": {\"9\": 1187, \"12\": 13}, \"13\": {\"13\": 1200}, \"8\": {\"8\": 1199, \"13\": 1}, \"15\": {\"15\": 1175, \"6\": 14, \"11\": 3, \"5\": 1, \"4\": 7}, \"4\": {\"4\": 947, \"5\": 213, \"6\": 21, \"7\": 16, \"15\": 3}, \"5\": {\"4\": 248, \"5\": 790, \"7\": 75, \"6\": 86, \"15\": 1}, \"3\": {\"3\": 1200}, \"1\": {\"1\": 1200}, \"6\": {\"6\": 1057, \"5\": 96, \"4\": 22, \"15\": 25}, \"12\": {\"12\": 1170, \"9\": 27, \"11\": 3}}, \"ORACLE.run2_14\": {\"14\": {\"14\": 978, \"6\": 17, \"2\": 180, \"3\": 14, \"5\": 9, \"13\": 2}, \"6\": {\"6\": 930, \"13\": 265, \"2\": 3, \"14\": 1, \"3\": 1}, \"5\": {\"2\": 104, \"5\": 1090, \"14\": 1, \"3\": 5}, \"15\": {\"15\": 1200}, \"11\": {\"11\": 1200}, \"8\": {\"8\": 1200}, \"12\": {\"12\": 497, \"10\": 99, \"9\": 355, \"0\": 53, \"15\": 99, \"3\": 6, \"11\": 59, \"14\": 1, \"8\": 16, \"1\": 14, \"13\": 1}, \"1\": {\"1\": 1200}, \"2\": {\"14\": 218, \"2\": 642, \"5\": 198, \"4\": 16, \"6\": 45, \"13\": 13, \"3\": 67, \"7\": 1}, \"13\": {\"13\": 903, \"6\": 297}, \"3\": {\"3\": 1178, \"2\": 10, \"14\": 6, \"5\": 6}, \"0\": {\"0\": 1177, \"10\": 23}, \"9\": {\"9\": 1200}, \"4\": {\"4\": 1199, \"14\": 1}, \"7\": {\"7\": 1200}, \"10\": {\"10\": 1040, \"0\": 155, \"3\": 1, \"14\": 4}}, \"ORACLE.run2_32\": {\"4\": {\"4\": 1070, \"8\": 1, \"11\": 103, \"0\": 21, \"13\": 4, \"3\": 1}, \"14\": {\"2\": 393, \"14\": 790, \"0\": 10, \"5\": 2, \"7\": 5}, \"5\": {\"5\": 1097, \"14\": 35, \"15\": 4, \"2\": 51, \"0\": 1, \"7\": 11, \"8\": 1}, \"10\": {\"10\": 1200}, \"13\": {\"13\": 1060, \"4\": 27, \"3\": 34, \"11\": 79}, \"9\": {\"9\": 1197, \"11\": 2, \"12\": 1}, \"6\": {\"6\": 1200}, \"3\": {\"3\": 1182, \"13\": 14, \"11\": 2, \"4\": 2}, \"15\": {\"15\": 1199, \"5\": 1}, \"7\": {\"7\": 1084, \"0\": 74, \"2\": 32, \"8\": 8, \"14\": 2}, \"12\": {\"12\": 1200}, \"8\": {\"8\": 1101, \"0\": 90, \"7\": 9}, \"11\": {\"13\": 225, \"11\": 643, \"4\": 293, \"7\": 11, \"3\": 3, \"0\": 25}, \"2\": {\"2\": 922, \"14\": 239, \"7\": 18, \"0\": 20, \"8\": 1}, \"1\": {\"1\": 1200}, \"0\": {\"0\": 903, \"2\": 30, \"7\": 122, \"8\": 111, \"4\": 24, \"14\": 9, \"11\": 1}}, \"ORACLE.run2_44\": {\"8\": {\"8\": 1014, \"15\": 10, \"0\": 172, \"5\": 4}, \"11\": {\"11\": 1200}, \"14\": {\"14\": 1086, \"4\": 74, \"5\": 28, \"15\": 11, \"8\": 1}, \"10\": {\"10\": 1193, \"7\": 7}, \"3\": {\"3\": 1120, \"12\": 79, \"1\": 1}, \"15\": {\"15\": 1149, \"14\": 22, \"8\": 15, \"5\": 13, \"0\": 1}, \"2\": {\"2\": 1197, \"1\": 3}, \"12\": {\"12\": 1115, \"3\": 85}, \"4\": {\"14\": 97, \"4\": 1102, \"13\": 1}, \"1\": {\"1\": 1190, \"2\": 10}, \"0\": {\"0\": 905, \"8\": 288, \"5\": 3, \"15\": 4}, \"9\": {\"6\": 25, \"9\": 685, \"7\": 489, \"10\": 1}, \"5\": {\"5\": 1135, \"8\": 21, \"14\": 37, \"15\": 6, \"0\": 1}, \"6\": {\"6\": 1178, \"13\": 12, \"7\": 7, \"9\": 3}, \"7\": {\"7\": 831, \"9\": 366, \"6\": 3}, \"13\": {\"13\": 1181, \"4\": 11, \"6\": 7, \"14\": 1}}, \"ORACLE.run2_8\": {\"13\": {\"13\": 1148, \"10\": 43, \"7\": 8, \"4\": 1}, \"3\": {\"3\": 1200}, \"15\": {\"15\": 1162, \"12\": 33, \"2\": 5}, \"4\": {\"4\": 1002, \"7\": 189, \"6\": 9}, \"7\": {\"7\": 1115, \"4\": 84, \"13\": 1}, \"2\": {\"2\": 1200}, \"1\": {\"1\": 1104, \"14\": 11, \"5\": 44, \"13\": 27, \"10\": 14}, \"0\": {\"0\": 1200}, \"12\": {\"12\": 1170, \"15\": 30}, \"6\": {\"6\": 1115, \"14\": 76, \"8\": 9}, \"11\": {\"11\": 720, \"8\": 414, \"7\": 17, \"12\": 44, \"13\": 1, \"6\": 4}, \"9\": {\"9\": 1200}, \"5\": {\"10\": 150, \"5\": 1009, \"1\": 41}, \"10\": {\"10\": 1047, \"13\": 59, \"5\": 93, \"1\": 1}, \"14\": {\"14\": 1144, \"6\": 56}, \"8\": {\"8\": 1110, \"11\": 74, \"6\": 15, \"4\": 1}}, \"ORACLE.run2_20\": {\"6\": {\"6\": 1165, \"7\": 20, \"10\": 15}, \"11\": {\"11\": 1200}, \"5\": {\"5\": 539, \"15\": 25, \"2\": 280, \"3\": 117, \"9\": 120, \"7\": 5, \"4\": 12, \"1\": 96, \"0\": 6}, \"14\": {\"14\": 1051, \"8\": 149}, \"2\": {\"9\": 360, \"3\": 113, \"2\": 414, \"5\": 216, \"15\": 74, \"1\": 19, \"4\": 2, \"7\": 2}, \"7\": {\"7\": 996, \"2\": 5, \"3\": 168, \"10\": 9, \"6\": 14, \"5\": 2, \"9\": 1, \"4\": 5}, \"3\": {\"3\": 566, \"9\": 146, \"2\": 112, \"5\": 99, \"7\": 195, \"4\": 50, \"15\": 30, \"12\": 2}, \"4\": {\"4\": 1132, \"10\": 2, \"7\": 5, \"15\": 4, \"9\": 6, \"3\": 27, \"5\": 11, \"2\": 4, \"12\": 9}, \"9\": {\"5\": 97, \"9\": 477, \"2\": 304, \"15\": 193, \"3\": 112, \"4\": 11, \"1\": 5, \"12\": 1}, \"12\": {\"12\": 1090, \"13\": 94, \"15\": 4, \"3\": 2, \"10\": 1, \"4\": 7, \"9\": 2}, \"0\": {\"0\": 1168, \"1\": 26, \"5\": 4, \"8\": 2}, \"10\": {\"10\": 1112, \"6\": 60, \"7\": 21, \"4\": 7}, \"8\": {\"8\": 1057, \"14\": 141, \"0\": 2}, \"13\": {\"12\": 80, \"13\": 1107, \"3\": 1, \"15\": 11, \"9\": 1}, \"1\": {\"1\": 1098, \"9\": 5, \"5\": 73, \"0\": 4, \"2\": 14, \"15\": 6}, \"15\": {\"15\": 790, \"3\": 28, \"2\": 82, \"9\": 225, \"12\": 30, \"5\": 14, \"13\": 19, \"1\": 9, \"4\": 3}}, \"ORACLE.run2_38\": {\"3\": {\"3\": 704, \"10\": 84, \"13\": 343, \"0\": 67, \"11\": 2}, \"8\": {\"8\": 1062, \"5\": 121, \"7\": 14, \"0\": 3}, \"0\": {\"0\": 1165, \"7\": 33, \"8\": 2}, \"2\": {\"2\": 1112, \"14\": 88}, \"4\": {\"4\": 1193, \"10\": 6, \"7\": 1}, \"7\": {\"7\": 1171, \"0\": 16, \"8\": 13}, \"12\": {\"12\": 1192, \"14\": 8}, \"6\": {\"6\": 1200}, \"15\": {\"15\": 932, \"1\": 191, \"5\": 20, \"6\": 56, \"9\": 1}, \"11\": {\"11\": 1200}, \"9\": {\"9\": 1200}, \"14\": {\"14\": 726, \"2\": 335, \"7\": 78, \"10\": 8, \"8\": 4, \"4\": 17, \"12\": 28, \"5\": 3, \"13\": 1}, \"10\": {\"10\": 1151, \"13\": 23, \"3\": 21, \"7\": 1, \"4\": 4}, \"5\": {\"5\": 825, \"8\": 363, \"7\": 11, \"0\": 1}, \"1\": {\"1\": 1148, \"15\": 52}, \"13\": {\"3\": 217, \"13\": 922, \"10\": 61}}, \"ORACLE.run2_26\": {\"5\": {\"5\": 812, \"6\": 314, \"14\": 7, \"15\": 49, \"1\": 13, \"10\": 4, \"0\": 1}, \"8\": {\"2\": 166, \"8\": 859, \"9\": 147, \"10\": 4, \"0\": 10, \"15\": 8, \"7\": 6}, \"4\": {\"4\": 1189, \"3\": 11}, \"12\": {\"12\": 1200}, \"6\": {\"6\": 1034, \"5\": 133, \"10\": 5, \"14\": 20, \"1\": 8}, \"7\": {\"2\": 198, \"3\": 172, \"7\": 774, \"8\": 20, \"9\": 30, \"13\": 5, \"4\": 1}, \"10\": {\"6\": 39, \"0\": 322, \"10\": 410, \"1\": 29, \"14\": 257, \"2\": 6, \"8\": 107, \"15\": 24, \"9\": 4, \"5\": 2}, \"0\": {\"0\": 786, \"2\": 14, \"10\": 227, \"14\": 94, \"8\": 41, \"15\": 38}, \"15\": {\"15\": 1074, \"2\": 68, \"8\": 24, \"10\": 9, \"0\": 24, \"5\": 1}, \"9\": {\"9\": 875, \"8\": 149, \"2\": 64, \"13\": 93, \"7\": 19}, \"11\": {\"11\": 1200}, \"14\": {\"14\": 763, \"0\": 172, \"10\": 159, \"1\": 82, \"6\": 15, \"15\": 6, \"5\": 3}, \"2\": {\"2\": 810, \"8\": 182, \"7\": 127, \"9\": 56, \"15\": 20, \"13\": 1, \"3\": 3, \"0\": 1}, \"13\": {\"13\": 1047, \"9\": 136, \"7\": 15, \"3\": 1, \"8\": 1}, \"3\": {\"3\": 1074, \"7\": 113, \"4\": 8, \"2\": 5}, \"1\": {\"1\": 1180, \"5\": 5, \"14\": 11, \"6\": 4}}}, \"per_domain_accuracy\": {\"ORACLE.run1_50\": {\"accuracy\": 0.9196875, \"source?\": true}, \"ORACLE.run1_14\": {\"accuracy\": 0.8836979166666666, \"source?\": true}, \"ORACLE.run1_32\": {\"accuracy\": 0.8919270833333334, \"source?\": true}, \"ORACLE.run1_44\": {\"accuracy\": 0.8541145833333333, \"source?\": true}, \"ORACLE.run1_8\": {\"accuracy\": 0.8750520833333333, \"source?\": true}, \"ORACLE.run1_20\": {\"accuracy\": 0.8465104166666667, \"source?\": true}, \"ORACLE.run1_38\": {\"accuracy\": 0.9060416666666666, \"source?\": true}, \"ORACLE.run1_26\": {\"accuracy\": 0.8225, \"source?\": true}, \"ORACLE.run2_50\": {\"accuracy\": 0.9448958333333334, \"source?\": false}, \"ORACLE.run2_14\": {\"accuracy\": 0.8767708333333334, \"source?\": false}, \"ORACLE.run2_32\": {\"accuracy\": 0.8879166666666667, \"source?\": false}, \"ORACLE.run2_44\": {\"accuracy\": 0.9000520833333333, \"source?\": false}, \"ORACLE.run2_8\": {\"accuracy\": 0.9190625, \"source?\": false}, \"ORACLE.run2_20\": {\"accuracy\": 0.7792708333333334, \"source?\": false}, \"ORACLE.run2_38\": {\"accuracy\": 0.8803645833333333, \"source?\": false}, \"ORACLE.run2_26\": {\"accuracy\": 0.78578125, \"source?\": false}}}, \"history\": {\"epoch_indices\": [1, 2, 3, 4, 5, 6, 7, 8], \"train_label_loss\": [0.7002913321982626, 0.42214420726256713, 0.34668265141286175, 0.30722693409122126, 0.2759965820157889, 0.24914962219157522, 0.22558184624797875, 0.203973129774053], \"source_val_label_loss\": [1.367627501487732, 0.40346020460128784, 0.37646201252937317, 0.351156085729599, 0.35068273544311523, 0.34827297925949097, 0.3309614062309265, 0.34797075390815735], \"target_val_label_loss\": [1.489292860031128, 0.4673711657524109, 0.4360724091529846, 0.445149689912796, 0.4547697603702545, 0.4405786097049713, 0.4471142292022705, 0.46104198694229126], \"source_val_acc_label\": [0.7441471354166667, 0.855546875, 0.86501953125, 0.87494140625, 0.8748177083333334, 0.873671875, 0.88169921875, 0.8783854166666667], \"target_val_acc_label\": [0.7576432291666667, 0.8610611979166667, 0.8656640625, 0.8717643229166666, 0.8640364583333333, 0.86482421875, 0.8663736979166666, 0.8637890625]}, \"dataset_metrics\": {\"source\": {\"train\": {\"n_unique_x\": 896000, \"n_unique_y\": 16, \"n_batch/episode\": 33600}, \"val\": {\"n_unique_x\": 192000, \"n_unique_y\": 16, \"n_batch/episode\": 4800}, \"test\": {\"n_unique_x\": 192000, \"n_unique_y\": 16, \"n_batch/episode\": 4800}}, \"target\": {\"train\": {\"n_unique_x\": 896000, \"n_unique_y\": 16, \"n_batch/episode\": 33600}, \"val\": {\"n_unique_x\": 192000, \"n_unique_y\": 16, \"n_batch/episode\": 4800}, \"test\": {\"n_unique_x\": 192000, \"n_unique_y\": 16, \"n_batch/episode\": 4800}}}}'"
      ]
     },
     "execution_count": 29,
     "metadata": {},
     "output_type": "execute_result"
    }
   ],
   "source": [
    "json.dumps(experiment)"
   ]
  }
 ],
 "metadata": {
  "celltoolbar": "Tags",
  "kernelspec": {
   "display_name": "Python 3 (ipykernel)",
   "language": "python",
   "name": "python3"
  },
  "language_info": {
   "codemirror_mode": {
    "name": "ipython",
    "version": 3
   },
   "file_extension": ".py",
   "mimetype": "text/x-python",
   "name": "python",
   "nbconvert_exporter": "python",
   "pygments_lexer": "ipython3",
   "version": "3.8.10"
  },
  "papermill": {
   "default_parameters": {},
   "duration": 7826.175963,
   "end_time": "2022-03-29T17:50:38.244054",
   "environment_variables": {},
   "exception": null,
   "input_path": "/mnt/wd500GB/CSC500/csc500-main/csc500-notebooks/templates/tl_ptn_template.ipynb",
   "output_path": "trial.ipynb",
   "parameters": {
    "parameters": {
     "BEST_MODEL_PATH": "./best_model.pth",
     "NUM_LOGS_PER_EPOCH": 10,
     "criteria_for_best": "target_accuracy",
     "dataset_seed": 500,
     "datasets": [
      {
       "domain_prefix": "ORACLE.run1_",
       "domains": [
        32,
        38,
        8,
        44,
        14,
        50,
        20,
        26
       ],
       "episode_transforms": [],
       "labels": [
        "3123D52",
        "3123D65",
        "3123D79",
        "3123D80",
        "3123D54",
        "3123D70",
        "3123D7B",
        "3123D89",
        "3123D58",
        "3123D76",
        "3123D7D",
        "3123EFE",
        "3123D64",
        "3123D78",
        "3123D7E",
        "3124E4A"
       ],
       "num_examples_per_domain_per_label": 10000,
       "pickle_path": "/mnt/wd500GB/CSC500/csc500-main/datasets/oracle.Run1_10kExamples_stratified_ds.2022A.pkl",
       "source_or_target_dataset": "source",
       "x_transforms": []
      },
      {
       "domain_prefix": "ORACLE.run2_",
       "domains": [
        32,
        38,
        8,
        44,
        14,
        50,
        20,
        26
       ],
       "episode_transforms": [],
       "labels": [
        "3123D52",
        "3123D65",
        "3123D79",
        "3123D80",
        "3123D54",
        "3123D70",
        "3123D7B",
        "3123D89",
        "3123D58",
        "3123D76",
        "3123D7D",
        "3123EFE",
        "3123D64",
        "3123D78",
        "3123D7E",
        "3124E4A"
       ],
       "num_examples_per_domain_per_label": 10000,
       "pickle_path": "/mnt/wd500GB/CSC500/csc500-main/datasets/oracle.Run2_10kExamples_stratified_ds.2022A.pkl",
       "source_or_target_dataset": "target",
       "x_transforms": []
      }
     ],
     "device": "cuda",
     "experiment_name": "tl_1v2:oracle.run1-oracle.run2",
     "lr": 0.0001,
     "n_epoch": 50,
     "n_query": 2,
     "n_shot": 3,
     "n_way": 16,
     "patience": 3,
     "seed": 500,
     "test_k_factor": 2,
     "torch_default_dtype": "torch.float32",
     "train_k_factor": 3,
     "val_k_factor": 2,
     "x_net": [
      {
       "class": "nnReshape",
       "kargs": {
        "shape": [
         -1,
         1,
         2,
         256
        ]
       }
      },
      {
       "class": "Conv2d",
       "kargs": {
        "bias": false,
        "in_channels": 1,
        "kernel_size": [
         1,
         7
        ],
        "out_channels": 256,
        "padding": [
         0,
         3
        ]
       }
      },
      {
       "class": "ReLU",
       "kargs": {
        "inplace": true
       }
      },
      {
       "class": "BatchNorm2d",
       "kargs": {
        "num_features": 256
       }
      },
      {
       "class": "Conv2d",
       "kargs": {
        "bias": true,
        "in_channels": 256,
        "kernel_size": [
         2,
         7
        ],
        "out_channels": 80,
        "padding": [
         0,
         3
        ]
       }
      },
      {
       "class": "ReLU",
       "kargs": {
        "inplace": true
       }
      },
      {
       "class": "BatchNorm2d",
       "kargs": {
        "num_features": 80
       }
      },
      {
       "class": "Flatten",
       "kargs": {}
      },
      {
       "class": "Linear",
       "kargs": {
        "in_features": 20480,
        "out_features": 256
       }
      },
      {
       "class": "ReLU",
       "kargs": {
        "inplace": true
       }
      },
      {
       "class": "BatchNorm1d",
       "kargs": {
        "num_features": 256
       }
      },
      {
       "class": "Linear",
       "kargs": {
        "in_features": 256,
        "out_features": 256
       }
      }
     ]
    }
   },
   "start_time": "2022-03-29T15:40:12.068091",
   "version": "2.3.4"
  }
 },
 "nbformat": 4,
 "nbformat_minor": 5
}