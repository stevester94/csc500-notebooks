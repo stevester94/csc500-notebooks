{
 "cells": [
  {
   "cell_type": "markdown",
   "id": "9fea5f46",
   "metadata": {
    "papermill": {
     "duration": 0.017512,
     "end_time": "2022-03-27T06:58:18.941768",
     "exception": false,
     "start_time": "2022-03-27T06:58:18.924256",
     "status": "completed"
    },
    "tags": []
   },
   "source": [
    "# Transfer Learning Template"
   ]
  },
  {
   "cell_type": "code",
   "execution_count": 1,
   "id": "0902182a",
   "metadata": {
    "execution": {
     "iopub.execute_input": "2022-03-27T06:58:18.982214Z",
     "iopub.status.busy": "2022-03-27T06:58:18.973030Z",
     "iopub.status.idle": "2022-03-27T06:58:20.241152Z",
     "shell.execute_reply": "2022-03-27T06:58:20.240679Z"
    },
    "papermill": {
     "duration": 1.287161,
     "end_time": "2022-03-27T06:58:20.241263",
     "exception": false,
     "start_time": "2022-03-27T06:58:18.954102",
     "status": "completed"
    },
    "tags": []
   },
   "outputs": [],
   "source": [
    "%load_ext autoreload\n",
    "%autoreload 2\n",
    "%matplotlib inline\n",
    "\n",
    "    \n",
    "import os, json, sys, time, random\n",
    "import numpy as np\n",
    "import torch\n",
    "from torch.optim import Adam\n",
    "from  easydict import EasyDict\n",
    "import matplotlib.pyplot as plt\n",
    "\n",
    "from steves_models.steves_ptn import Steves_Prototypical_Network\n",
    "\n",
    "from steves_utils.lazy_iterable_wrapper import Lazy_Iterable_Wrapper\n",
    "from steves_utils.iterable_aggregator import Iterable_Aggregator\n",
    "from steves_utils.ptn_train_eval_test_jig import  PTN_Train_Eval_Test_Jig\n",
    "from steves_utils.torch_sequential_builder import build_sequential\n",
    "from steves_utils.torch_utils import get_dataset_metrics, ptn_confusion_by_domain_over_dataloader\n",
    "from steves_utils.utils_v2 import (per_domain_accuracy_from_confusion, get_datasets_base_path)\n",
    "from steves_utils.PTN.utils import independent_accuracy_assesment\n",
    "\n",
    "from torch.utils.data import DataLoader\n",
    "\n",
    "from steves_utils.stratified_dataset.episodic_accessor import Episodic_Accessor_Factory\n",
    "\n",
    "from steves_utils.ptn_do_report import (\n",
    "    get_loss_curve,\n",
    "    get_results_table,\n",
    "    get_parameters_table,\n",
    "    get_domain_accuracies,\n",
    ")\n",
    "\n",
    "from steves_utils.transforms import get_chained_transform"
   ]
  },
  {
   "cell_type": "markdown",
   "id": "41c840b4",
   "metadata": {
    "papermill": {
     "duration": 0.012722,
     "end_time": "2022-03-27T06:58:20.273503",
     "exception": false,
     "start_time": "2022-03-27T06:58:20.260781",
     "status": "completed"
    },
    "tags": []
   },
   "source": [
    "# Allowed Parameters\n",
    "These are allowed parameters, not defaults\n",
    "Each of these values need to be present in the injected parameters (the notebook will raise an exception if they are not present)\n",
    "\n",
    "Papermill uses the cell tag \"parameters\" to inject the real parameters below this cell.\n",
    "Enable tags to see what I mean"
   ]
  },
  {
   "cell_type": "code",
   "execution_count": 2,
   "id": "fd44eb83",
   "metadata": {
    "execution": {
     "iopub.execute_input": "2022-03-27T06:58:20.300713Z",
     "iopub.status.busy": "2022-03-27T06:58:20.300455Z",
     "iopub.status.idle": "2022-03-27T06:58:20.314192Z",
     "shell.execute_reply": "2022-03-27T06:58:20.314633Z"
    },
    "papermill": {
     "duration": 0.02906,
     "end_time": "2022-03-27T06:58:20.314754",
     "exception": false,
     "start_time": "2022-03-27T06:58:20.285694",
     "status": "completed"
    },
    "tags": []
   },
   "outputs": [],
   "source": [
    "required_parameters = {\n",
    "    \"experiment_name\",\n",
    "    \"lr\",\n",
    "    \"device\",\n",
    "    \"seed\",\n",
    "    \"dataset_seed\",\n",
    "    \"n_shot\",\n",
    "    \"n_query\",\n",
    "    \"n_way\",\n",
    "    \"train_k_factor\",\n",
    "    \"val_k_factor\",\n",
    "    \"test_k_factor\",\n",
    "    \"n_epoch\",\n",
    "    \"patience\",\n",
    "    \"criteria_for_best\",\n",
    "    \"x_net\",\n",
    "    \"datasets\",\n",
    "    \"torch_default_dtype\",\n",
    "    \"NUM_LOGS_PER_EPOCH\",\n",
    "    \"BEST_MODEL_PATH\",\n",
    "    \"x_shape\",\n",
    "}"
   ]
  },
  {
   "cell_type": "code",
   "execution_count": 3,
   "id": "fa3f0049",
   "metadata": {
    "execution": {
     "iopub.execute_input": "2022-03-27T06:58:20.353663Z",
     "iopub.status.busy": "2022-03-27T06:58:20.353384Z",
     "iopub.status.idle": "2022-03-27T06:58:20.365859Z",
     "shell.execute_reply": "2022-03-27T06:58:20.365404Z"
    },
    "papermill": {
     "duration": 0.032687,
     "end_time": "2022-03-27T06:58:20.365949",
     "exception": false,
     "start_time": "2022-03-27T06:58:20.333262",
     "status": "completed"
    },
    "tags": [
     "parameters"
    ]
   },
   "outputs": [],
   "source": [
    "from steves_utils.CORES.utils import (\n",
    "    ALL_NODES,\n",
    "    ALL_NODES_MINIMUM_1000_EXAMPLES,\n",
    "    ALL_DAYS\n",
    ")\n",
    "\n",
    "from steves_utils.ORACLE.utils_v2 import (\n",
    "    ALL_DISTANCES_FEET_NARROWED,\n",
    "    ALL_RUNS,\n",
    "    ALL_SERIAL_NUMBERS,\n",
    ")\n",
    "\n",
    "standalone_parameters = {}\n",
    "standalone_parameters[\"experiment_name\"] = \"STANDALONE PTN\"\n",
    "standalone_parameters[\"lr\"] = 0.001\n",
    "standalone_parameters[\"device\"] = \"cuda\"\n",
    "\n",
    "standalone_parameters[\"seed\"] = 1337\n",
    "standalone_parameters[\"dataset_seed\"] = 1337\n",
    "\n",
    "standalone_parameters[\"n_way\"] = 8\n",
    "standalone_parameters[\"n_shot\"] = 3\n",
    "standalone_parameters[\"n_query\"]  = 2\n",
    "standalone_parameters[\"train_k_factor\"] = 1\n",
    "standalone_parameters[\"val_k_factor\"] = 2\n",
    "standalone_parameters[\"test_k_factor\"] = 2\n",
    "\n",
    "\n",
    "standalone_parameters[\"n_epoch\"] = 50\n",
    "\n",
    "standalone_parameters[\"patience\"] = 10\n",
    "standalone_parameters[\"criteria_for_best\"] = \"source_loss\"\n",
    "\n",
    "standalone_parameters[\"datasets\"] = [\n",
    "    {\n",
    "        \"labels\": ALL_SERIAL_NUMBERS,\n",
    "        \"domains\": ALL_DISTANCES_FEET_NARROWED,\n",
    "        \"num_examples_per_domain_per_label\": 100,\n",
    "        \"pickle_path\": os.path.join(get_datasets_base_path(), \"oracle.Run1_framed_2000Examples_stratified_ds.2022A.pkl\"),\n",
    "        \"source_or_target_dataset\": \"source\",\n",
    "        \"x_transforms\": [\"unit_mag\", \"minus_two\"],\n",
    "        \"episode_transforms\": [],\n",
    "        \"domain_prefix\": \"ORACLE_\"\n",
    "    },\n",
    "    {\n",
    "        \"labels\": ALL_NODES,\n",
    "        \"domains\": ALL_DAYS,\n",
    "        \"num_examples_per_domain_per_label\": 100,\n",
    "        \"pickle_path\": os.path.join(get_datasets_base_path(), \"cores.stratified_ds.2022A.pkl\"),\n",
    "        \"source_or_target_dataset\": \"target\",\n",
    "        \"x_transforms\": [\"unit_power\", \"times_zero\"],\n",
    "        \"episode_transforms\": [],\n",
    "        \"domain_prefix\": \"CORES_\"\n",
    "    }   \n",
    "]\n",
    "\n",
    "standalone_parameters[\"torch_default_dtype\"] = \"torch.float32\" \n",
    "\n",
    "\n",
    "\n",
    "standalone_parameters[\"x_net\"] =     [\n",
    "    {\"class\": \"nnReshape\", \"kargs\": {\"shape\":[-1, 1, 2, 256]}},\n",
    "    {\"class\": \"Conv2d\", \"kargs\": { \"in_channels\":1, \"out_channels\":256, \"kernel_size\":(1,7), \"bias\":False, \"padding\":(0,3), },},\n",
    "    {\"class\": \"ReLU\", \"kargs\": {\"inplace\": True}},\n",
    "    {\"class\": \"BatchNorm2d\", \"kargs\": {\"num_features\":256}},\n",
    "\n",
    "    {\"class\": \"Conv2d\", \"kargs\": { \"in_channels\":256, \"out_channels\":80, \"kernel_size\":(2,7), \"bias\":True, \"padding\":(0,3), },},\n",
    "    {\"class\": \"ReLU\", \"kargs\": {\"inplace\": True}},\n",
    "    {\"class\": \"BatchNorm2d\", \"kargs\": {\"num_features\":80}},\n",
    "    {\"class\": \"Flatten\", \"kargs\": {}},\n",
    "\n",
    "    {\"class\": \"Linear\", \"kargs\": {\"in_features\": 80*256, \"out_features\": 256}}, # 80 units per IQ pair\n",
    "    {\"class\": \"ReLU\", \"kargs\": {\"inplace\": True}},\n",
    "    {\"class\": \"BatchNorm1d\", \"kargs\": {\"num_features\":256}},\n",
    "\n",
    "    {\"class\": \"Linear\", \"kargs\": {\"in_features\": 256, \"out_features\": 256}},\n",
    "]\n",
    "\n",
    "# Parameters relevant to results\n",
    "# These parameters will basically never need to change\n",
    "standalone_parameters[\"NUM_LOGS_PER_EPOCH\"] = 10\n",
    "standalone_parameters[\"BEST_MODEL_PATH\"] = \"./best_model.pth\"\n",
    "\n",
    "\n",
    "\n",
    "\n"
   ]
  },
  {
   "cell_type": "code",
   "execution_count": 4,
   "id": "9cad6f64",
   "metadata": {
    "execution": {
     "iopub.execute_input": "2022-03-27T06:58:20.404245Z",
     "iopub.status.busy": "2022-03-27T06:58:20.398014Z",
     "iopub.status.idle": "2022-03-27T06:58:20.416143Z",
     "shell.execute_reply": "2022-03-27T06:58:20.415693Z"
    },
    "papermill": {
     "duration": 0.031967,
     "end_time": "2022-03-27T06:58:20.416232",
     "exception": false,
     "start_time": "2022-03-27T06:58:20.384265",
     "status": "completed"
    },
    "tags": [
     "injected-parameters"
    ]
   },
   "outputs": [],
   "source": [
    "# Parameters\n",
    "parameters = {\n",
    "    \"experiment_name\": \"tl_1v2:oracle.run1-oracle.run2\",\n",
    "    \"device\": \"cuda\",\n",
    "    \"lr\": 0.0001,\n",
    "    \"n_shot\": 3,\n",
    "    \"n_query\": 2,\n",
    "    \"train_k_factor\": 3,\n",
    "    \"val_k_factor\": 2,\n",
    "    \"test_k_factor\": 2,\n",
    "    \"torch_default_dtype\": \"torch.float32\",\n",
    "    \"n_epoch\": 50,\n",
    "    \"patience\": 3,\n",
    "    \"criteria_for_best\": \"target_accuracy\",\n",
    "    \"x_net\": [\n",
    "        {\"class\": \"nnReshape\", \"kargs\": {\"shape\": [-1, 1, 2, 256]}},\n",
    "        {\n",
    "            \"class\": \"Conv2d\",\n",
    "            \"kargs\": {\n",
    "                \"in_channels\": 1,\n",
    "                \"out_channels\": 256,\n",
    "                \"kernel_size\": [1, 7],\n",
    "                \"bias\": False,\n",
    "                \"padding\": [0, 3],\n",
    "            },\n",
    "        },\n",
    "        {\"class\": \"ReLU\", \"kargs\": {\"inplace\": True}},\n",
    "        {\"class\": \"BatchNorm2d\", \"kargs\": {\"num_features\": 256}},\n",
    "        {\n",
    "            \"class\": \"Conv2d\",\n",
    "            \"kargs\": {\n",
    "                \"in_channels\": 256,\n",
    "                \"out_channels\": 80,\n",
    "                \"kernel_size\": [2, 7],\n",
    "                \"bias\": True,\n",
    "                \"padding\": [0, 3],\n",
    "            },\n",
    "        },\n",
    "        {\"class\": \"ReLU\", \"kargs\": {\"inplace\": True}},\n",
    "        {\"class\": \"BatchNorm2d\", \"kargs\": {\"num_features\": 80}},\n",
    "        {\"class\": \"Flatten\", \"kargs\": {}},\n",
    "        {\"class\": \"Linear\", \"kargs\": {\"in_features\": 20480, \"out_features\": 256}},\n",
    "        {\"class\": \"ReLU\", \"kargs\": {\"inplace\": True}},\n",
    "        {\"class\": \"BatchNorm1d\", \"kargs\": {\"num_features\": 256}},\n",
    "        {\"class\": \"Linear\", \"kargs\": {\"in_features\": 256, \"out_features\": 256}},\n",
    "    ],\n",
    "    \"NUM_LOGS_PER_EPOCH\": 10,\n",
    "    \"BEST_MODEL_PATH\": \"./best_model.pth\",\n",
    "    \"n_way\": 16,\n",
    "    \"datasets\": [\n",
    "        {\n",
    "            \"labels\": [\n",
    "                \"3123D52\",\n",
    "                \"3123D65\",\n",
    "                \"3123D79\",\n",
    "                \"3123D80\",\n",
    "                \"3123D54\",\n",
    "                \"3123D70\",\n",
    "                \"3123D7B\",\n",
    "                \"3123D89\",\n",
    "                \"3123D58\",\n",
    "                \"3123D76\",\n",
    "                \"3123D7D\",\n",
    "                \"3123EFE\",\n",
    "                \"3123D64\",\n",
    "                \"3123D78\",\n",
    "                \"3123D7E\",\n",
    "                \"3124E4A\",\n",
    "            ],\n",
    "            \"domains\": [32, 38, 8, 44, 14, 50, 20, 26],\n",
    "            \"num_examples_per_domain_per_label\": 10000,\n",
    "            \"pickle_path\": \"/mnt/wd500GB/CSC500/csc500-main/datasets/oracle.Run1_10kExamples_stratified_ds.2022A.pkl\",\n",
    "            \"source_or_target_dataset\": \"target\",\n",
    "            \"x_transforms\": [\"unit_mag\"],\n",
    "            \"episode_transforms\": [],\n",
    "            \"domain_prefix\": \"ORACLE.run1_\",\n",
    "        },\n",
    "        {\n",
    "            \"labels\": [\n",
    "                \"3123D52\",\n",
    "                \"3123D65\",\n",
    "                \"3123D79\",\n",
    "                \"3123D80\",\n",
    "                \"3123D54\",\n",
    "                \"3123D70\",\n",
    "                \"3123D7B\",\n",
    "                \"3123D89\",\n",
    "                \"3123D58\",\n",
    "                \"3123D76\",\n",
    "                \"3123D7D\",\n",
    "                \"3123EFE\",\n",
    "                \"3123D64\",\n",
    "                \"3123D78\",\n",
    "                \"3123D7E\",\n",
    "                \"3124E4A\",\n",
    "            ],\n",
    "            \"domains\": [32, 38, 8, 44, 14, 50, 20, 26],\n",
    "            \"num_examples_per_domain_per_label\": 10000,\n",
    "            \"pickle_path\": \"/mnt/wd500GB/CSC500/csc500-main/datasets/oracle.Run2_10kExamples_stratified_ds.2022A.pkl\",\n",
    "            \"source_or_target_dataset\": \"source\",\n",
    "            \"x_transforms\": [\"unit_mag\"],\n",
    "            \"episode_transforms\": [],\n",
    "            \"domain_prefix\": \"ORACLE.run2_\",\n",
    "        },\n",
    "    ],\n",
    "    \"dataset_seed\": 154325,\n",
    "    \"seed\": 154325,\n",
    "}\n"
   ]
  },
  {
   "cell_type": "code",
   "execution_count": 5,
   "id": "8fa1cc33",
   "metadata": {
    "execution": {
     "iopub.execute_input": "2022-03-27T06:58:20.448525Z",
     "iopub.status.busy": "2022-03-27T06:58:20.448270Z",
     "iopub.status.idle": "2022-03-27T06:58:20.463933Z",
     "shell.execute_reply": "2022-03-27T06:58:20.463486Z"
    },
    "papermill": {
     "duration": 0.031721,
     "end_time": "2022-03-27T06:58:20.464022",
     "exception": false,
     "start_time": "2022-03-27T06:58:20.432301",
     "status": "completed"
    },
    "tags": []
   },
   "outputs": [],
   "source": [
    "# Set this to True if you want to run this template directly\n",
    "STANDALONE = False\n",
    "if STANDALONE:\n",
    "    print(\"parameters not injected, running with standalone_parameters\")\n",
    "    parameters = standalone_parameters\n",
    "\n",
    "if not 'parameters' in locals() and not 'parameters' in globals():\n",
    "    raise Exception(\"Parameter injection failed\")\n",
    "\n",
    "#Use an easy dict for all the parameters\n",
    "p = EasyDict(parameters)\n",
    "\n",
    "if \"x_shape\" not in p:\n",
    "    p.x_shape = [2,256] # Default to this if we dont supply x_shape\n",
    "\n",
    "\n",
    "supplied_keys = set(p.keys())\n",
    "\n",
    "if  supplied_keys != required_parameters:\n",
    "    print(\"Parameters are incorrect\")\n",
    "    if len(supplied_keys - required_parameters)>0: print(\"Shouldn't have:\", str(supplied_keys - required_parameters))\n",
    "    if len(required_parameters - supplied_keys)>0: print(\"Need to have:\", str(required_parameters - supplied_keys))\n",
    "    raise RuntimeError(\"Parameters are incorrect\")"
   ]
  },
  {
   "cell_type": "code",
   "execution_count": 6,
   "id": "3a028d58",
   "metadata": {
    "execution": {
     "iopub.execute_input": "2022-03-27T06:58:20.495684Z",
     "iopub.status.busy": "2022-03-27T06:58:20.495434Z",
     "iopub.status.idle": "2022-03-27T06:58:20.506302Z",
     "shell.execute_reply": "2022-03-27T06:58:20.506043Z"
    },
    "papermill": {
     "duration": 0.024896,
     "end_time": "2022-03-27T06:58:20.506350",
     "exception": false,
     "start_time": "2022-03-27T06:58:20.481454",
     "status": "completed"
    },
    "tags": []
   },
   "outputs": [],
   "source": [
    "###################################\n",
    "# Set the RNGs and make it all deterministic\n",
    "###################################\n",
    "np.random.seed(p.seed)\n",
    "random.seed(p.seed)\n",
    "torch.manual_seed(p.seed)\n",
    "\n",
    "torch.use_deterministic_algorithms(True) "
   ]
  },
  {
   "cell_type": "code",
   "execution_count": 7,
   "id": "b691acf6",
   "metadata": {
    "execution": {
     "iopub.execute_input": "2022-03-27T06:58:20.537652Z",
     "iopub.status.busy": "2022-03-27T06:58:20.537403Z",
     "iopub.status.idle": "2022-03-27T06:58:20.551729Z",
     "shell.execute_reply": "2022-03-27T06:58:20.551278Z"
    },
    "papermill": {
     "duration": 0.029092,
     "end_time": "2022-03-27T06:58:20.551816",
     "exception": false,
     "start_time": "2022-03-27T06:58:20.522724",
     "status": "completed"
    },
    "tags": []
   },
   "outputs": [],
   "source": [
    "###########################################\n",
    "# The stratified datasets honor this\n",
    "###########################################\n",
    "torch.set_default_dtype(eval(p.torch_default_dtype))"
   ]
  },
  {
   "cell_type": "code",
   "execution_count": 8,
   "id": "b5fba671",
   "metadata": {
    "execution": {
     "iopub.execute_input": "2022-03-27T06:58:20.584252Z",
     "iopub.status.busy": "2022-03-27T06:58:20.584002Z",
     "iopub.status.idle": "2022-03-27T06:58:20.624773Z",
     "shell.execute_reply": "2022-03-27T06:58:20.624381Z"
    },
    "papermill": {
     "duration": 0.055358,
     "end_time": "2022-03-27T06:58:20.624861",
     "exception": false,
     "start_time": "2022-03-27T06:58:20.569503",
     "status": "completed"
    },
    "tags": []
   },
   "outputs": [],
   "source": [
    "###################################\n",
    "# Build the network(s)\n",
    "# Note: It's critical to do this AFTER setting the RNG\n",
    "###################################\n",
    "x_net = build_sequential(p.x_net)"
   ]
  },
  {
   "cell_type": "code",
   "execution_count": 9,
   "id": "5d7e61cc",
   "metadata": {
    "execution": {
     "iopub.execute_input": "2022-03-27T06:58:20.659031Z",
     "iopub.status.busy": "2022-03-27T06:58:20.658159Z",
     "iopub.status.idle": "2022-03-27T06:58:20.675499Z",
     "shell.execute_reply": "2022-03-27T06:58:20.675051Z"
    },
    "papermill": {
     "duration": 0.031455,
     "end_time": "2022-03-27T06:58:20.675587",
     "exception": false,
     "start_time": "2022-03-27T06:58:20.644132",
     "status": "completed"
    },
    "tags": []
   },
   "outputs": [],
   "source": [
    "start_time_secs = time.time()"
   ]
  },
  {
   "cell_type": "code",
   "execution_count": 10,
   "id": "c6b67dfd",
   "metadata": {
    "execution": {
     "iopub.execute_input": "2022-03-27T06:58:20.708599Z",
     "iopub.status.busy": "2022-03-27T06:58:20.708166Z",
     "iopub.status.idle": "2022-03-27T06:58:20.721787Z",
     "shell.execute_reply": "2022-03-27T06:58:20.722193Z"
    },
    "papermill": {
     "duration": 0.028748,
     "end_time": "2022-03-27T06:58:20.722298",
     "exception": false,
     "start_time": "2022-03-27T06:58:20.693550",
     "status": "completed"
    },
    "tags": []
   },
   "outputs": [],
   "source": [
    "p.domains_source = []\n",
    "p.domains_target = []\n",
    "\n",
    "\n",
    "train_original_source = []\n",
    "val_original_source   = []\n",
    "test_original_source  = []\n",
    "\n",
    "train_original_target = []\n",
    "val_original_target   = []\n",
    "test_original_target  = []"
   ]
  },
  {
   "cell_type": "code",
   "execution_count": 11,
   "id": "e3d9c3d3",
   "metadata": {
    "execution": {
     "iopub.execute_input": "2022-03-27T06:58:20.753055Z",
     "iopub.status.busy": "2022-03-27T06:58:20.752808Z",
     "iopub.status.idle": "2022-03-27T06:58:20.766906Z",
     "shell.execute_reply": "2022-03-27T06:58:20.767260Z"
    },
    "papermill": {
     "duration": 0.029789,
     "end_time": "2022-03-27T06:58:20.767365",
     "exception": false,
     "start_time": "2022-03-27T06:58:20.737576",
     "status": "completed"
    },
    "tags": []
   },
   "outputs": [],
   "source": [
    "# global_x_transform_func = lambda x: normalize(x.to(torch.get_default_dtype()), \"unit_power\") # unit_power, unit_mag\n",
    "# global_x_transform_func = lambda x: normalize(x, \"unit_power\") # unit_power, unit_mag"
   ]
  },
  {
   "cell_type": "code",
   "execution_count": 12,
   "id": "acb78fd2",
   "metadata": {
    "execution": {
     "iopub.execute_input": "2022-03-27T06:58:20.806901Z",
     "iopub.status.busy": "2022-03-27T06:58:20.806645Z",
     "iopub.status.idle": "2022-03-27T06:58:20.817341Z",
     "shell.execute_reply": "2022-03-27T06:58:20.816895Z"
    },
    "papermill": {
     "duration": 0.031526,
     "end_time": "2022-03-27T06:58:20.817429",
     "exception": false,
     "start_time": "2022-03-27T06:58:20.785903",
     "status": "completed"
    },
    "tags": []
   },
   "outputs": [],
   "source": [
    "def add_dataset(\n",
    "    labels,\n",
    "    domains,\n",
    "    pickle_path,\n",
    "    x_transforms,\n",
    "    episode_transforms,\n",
    "    domain_prefix,\n",
    "    num_examples_per_domain_per_label,\n",
    "    source_or_target_dataset:str,\n",
    "    iterator_seed=p.seed,\n",
    "    dataset_seed=p.dataset_seed,\n",
    "    n_shot=p.n_shot,\n",
    "    n_way=p.n_way,\n",
    "    n_query=p.n_query,\n",
    "    train_val_test_k_factors=(p.train_k_factor,p.val_k_factor,p.test_k_factor),\n",
    "):\n",
    "   \n",
    "    if x_transforms == []: x_transform = None\n",
    "    else: x_transform = get_chained_transform(x_transforms)\n",
    "    \n",
    "    if episode_transforms == []: episode_transform = None\n",
    "    else: raise Exception(\"episode_transforms not implemented\")\n",
    "    \n",
    "    episode_transform = lambda tup, _prefix=domain_prefix: (_prefix + str(tup[0]), tup[1])\n",
    "\n",
    "\n",
    "    eaf = Episodic_Accessor_Factory(\n",
    "        labels=labels,\n",
    "        domains=domains,\n",
    "        num_examples_per_domain_per_label=num_examples_per_domain_per_label,\n",
    "        iterator_seed=iterator_seed,\n",
    "        dataset_seed=dataset_seed,\n",
    "        n_shot=n_shot,\n",
    "        n_way=n_way,\n",
    "        n_query=n_query,\n",
    "        train_val_test_k_factors=train_val_test_k_factors,\n",
    "        pickle_path=pickle_path,\n",
    "        x_transform_func=x_transform,\n",
    "    )\n",
    "\n",
    "    train, val, test = eaf.get_train(), eaf.get_val(), eaf.get_test()\n",
    "    train = Lazy_Iterable_Wrapper(train, episode_transform)\n",
    "    val = Lazy_Iterable_Wrapper(val, episode_transform)\n",
    "    test = Lazy_Iterable_Wrapper(test, episode_transform)\n",
    "\n",
    "    if source_or_target_dataset==\"source\":\n",
    "        train_original_source.append(train)\n",
    "        val_original_source.append(val)\n",
    "        test_original_source.append(test)\n",
    "\n",
    "        p.domains_source.extend(\n",
    "            [domain_prefix + str(u) for u in domains]\n",
    "        )\n",
    "    elif source_or_target_dataset==\"target\":\n",
    "        train_original_target.append(train)\n",
    "        val_original_target.append(val)\n",
    "        test_original_target.append(test)\n",
    "        p.domains_target.extend(\n",
    "            [domain_prefix + str(u) for u in domains]\n",
    "        )\n",
    "    else:\n",
    "        raise Exception(f\"invalid source_or_target_dataset: {source_or_target_dataset}\")\n",
    "    "
   ]
  },
  {
   "cell_type": "code",
   "execution_count": 13,
   "id": "fe266617",
   "metadata": {
    "execution": {
     "iopub.execute_input": "2022-03-27T06:58:20.849815Z",
     "iopub.status.busy": "2022-03-27T06:58:20.849562Z",
     "iopub.status.idle": "2022-03-27T07:01:09.791659Z",
     "shell.execute_reply": "2022-03-27T07:01:09.791150Z"
    },
    "papermill": {
     "duration": 168.957162,
     "end_time": "2022-03-27T07:01:09.791770",
     "exception": false,
     "start_time": "2022-03-27T06:58:20.834608",
     "status": "completed"
    },
    "tags": []
   },
   "outputs": [],
   "source": [
    "for ds in p.datasets:\n",
    "    add_dataset(**ds)"
   ]
  },
  {
   "cell_type": "code",
   "execution_count": 14,
   "id": "b90d65ac",
   "metadata": {
    "execution": {
     "iopub.execute_input": "2022-03-27T07:01:09.827742Z",
     "iopub.status.busy": "2022-03-27T07:01:09.827484Z",
     "iopub.status.idle": "2022-03-27T07:01:09.838684Z",
     "shell.execute_reply": "2022-03-27T07:01:09.838431Z"
    },
    "papermill": {
     "duration": 0.026185,
     "end_time": "2022-03-27T07:01:09.838739",
     "exception": false,
     "start_time": "2022-03-27T07:01:09.812554",
     "status": "completed"
    },
    "tags": []
   },
   "outputs": [],
   "source": [
    "# from steves_utils.CORES.utils import (\n",
    "#     ALL_NODES,\n",
    "#     ALL_NODES_MINIMUM_1000_EXAMPLES,\n",
    "#     ALL_DAYS\n",
    "# )\n",
    "\n",
    "# add_dataset(\n",
    "#     labels=ALL_NODES,\n",
    "#     domains = ALL_DAYS,\n",
    "#     num_examples_per_domain_per_label=100,\n",
    "#     pickle_path=os.path.join(get_datasets_base_path(), \"cores.stratified_ds.2022A.pkl\"),\n",
    "#     source_or_target_dataset=\"target\",\n",
    "#     x_transform_func=global_x_transform_func,\n",
    "#     domain_modifier=lambda u: f\"cores_{u}\"\n",
    "# )"
   ]
  },
  {
   "cell_type": "code",
   "execution_count": 15,
   "id": "76db484d",
   "metadata": {
    "execution": {
     "iopub.execute_input": "2022-03-27T07:01:09.873319Z",
     "iopub.status.busy": "2022-03-27T07:01:09.872981Z",
     "iopub.status.idle": "2022-03-27T07:01:09.888796Z",
     "shell.execute_reply": "2022-03-27T07:01:09.888380Z"
    },
    "papermill": {
     "duration": 0.030926,
     "end_time": "2022-03-27T07:01:09.888894",
     "exception": false,
     "start_time": "2022-03-27T07:01:09.857968",
     "status": "completed"
    },
    "tags": []
   },
   "outputs": [],
   "source": [
    "# from steves_utils.ORACLE.utils_v2 import (\n",
    "#     ALL_DISTANCES_FEET,\n",
    "#     ALL_RUNS,\n",
    "#     ALL_SERIAL_NUMBERS,\n",
    "# )\n",
    "\n",
    "\n",
    "# add_dataset(\n",
    "#     labels=ALL_SERIAL_NUMBERS,\n",
    "#     domains = list(set(ALL_DISTANCES_FEET) - {2,62}),\n",
    "#     num_examples_per_domain_per_label=100,\n",
    "#     pickle_path=os.path.join(get_datasets_base_path(), \"oracle.Run2_framed_2000Examples_stratified_ds.2022A.pkl\"),\n",
    "#     source_or_target_dataset=\"source\",\n",
    "#     x_transform_func=global_x_transform_func,\n",
    "#     domain_modifier=lambda u: f\"oracle1_{u}\"\n",
    "# )\n"
   ]
  },
  {
   "cell_type": "code",
   "execution_count": 16,
   "id": "97dea9d2",
   "metadata": {
    "execution": {
     "iopub.execute_input": "2022-03-27T07:01:09.926365Z",
     "iopub.status.busy": "2022-03-27T07:01:09.922967Z",
     "iopub.status.idle": "2022-03-27T07:01:09.935609Z",
     "shell.execute_reply": "2022-03-27T07:01:09.935131Z"
    },
    "papermill": {
     "duration": 0.027949,
     "end_time": "2022-03-27T07:01:09.935705",
     "exception": false,
     "start_time": "2022-03-27T07:01:09.907756",
     "status": "completed"
    },
    "tags": []
   },
   "outputs": [],
   "source": [
    "# from steves_utils.ORACLE.utils_v2 import (\n",
    "#     ALL_DISTANCES_FEET,\n",
    "#     ALL_RUNS,\n",
    "#     ALL_SERIAL_NUMBERS,\n",
    "# )\n",
    "\n",
    "\n",
    "# add_dataset(\n",
    "#     labels=ALL_SERIAL_NUMBERS,\n",
    "#     domains = list(set(ALL_DISTANCES_FEET) - {2,62,56}),\n",
    "#     num_examples_per_domain_per_label=100,\n",
    "#     pickle_path=os.path.join(get_datasets_base_path(), \"oracle.Run2_framed_2000Examples_stratified_ds.2022A.pkl\"),\n",
    "#     source_or_target_dataset=\"source\",\n",
    "#     x_transform_func=global_x_transform_func,\n",
    "#     domain_modifier=lambda u: f\"oracle2_{u}\"\n",
    "# )"
   ]
  },
  {
   "cell_type": "code",
   "execution_count": 17,
   "id": "6f289866",
   "metadata": {
    "execution": {
     "iopub.execute_input": "2022-03-27T07:01:09.970208Z",
     "iopub.status.busy": "2022-03-27T07:01:09.969950Z",
     "iopub.status.idle": "2022-03-27T07:01:09.984866Z",
     "shell.execute_reply": "2022-03-27T07:01:09.984450Z"
    },
    "papermill": {
     "duration": 0.030335,
     "end_time": "2022-03-27T07:01:09.984962",
     "exception": false,
     "start_time": "2022-03-27T07:01:09.954627",
     "status": "completed"
    },
    "tags": []
   },
   "outputs": [],
   "source": [
    "# add_dataset(\n",
    "#     labels=list(range(19)),\n",
    "#     domains = [0,1,2],\n",
    "#     num_examples_per_domain_per_label=100,\n",
    "#     pickle_path=os.path.join(get_datasets_base_path(), \"metehan.stratified_ds.2022A.pkl\"),\n",
    "#     source_or_target_dataset=\"target\",\n",
    "#     x_transform_func=global_x_transform_func,\n",
    "#     domain_modifier=lambda u: f\"met_{u}\"\n",
    "# )"
   ]
  },
  {
   "cell_type": "code",
   "execution_count": 18,
   "id": "86a863c3",
   "metadata": {
    "execution": {
     "iopub.execute_input": "2022-03-27T07:01:10.019152Z",
     "iopub.status.busy": "2022-03-27T07:01:10.018898Z",
     "iopub.status.idle": "2022-03-27T07:01:10.029417Z",
     "shell.execute_reply": "2022-03-27T07:01:10.029161Z"
    },
    "papermill": {
     "duration": 0.025432,
     "end_time": "2022-03-27T07:01:10.029471",
     "exception": false,
     "start_time": "2022-03-27T07:01:10.004039",
     "status": "completed"
    },
    "tags": []
   },
   "outputs": [],
   "source": [
    "# # from steves_utils.wisig.utils import (\n",
    "# #     ALL_NODES_MINIMUM_100_EXAMPLES,\n",
    "# #     ALL_NODES_MINIMUM_500_EXAMPLES,\n",
    "# #     ALL_NODES_MINIMUM_1000_EXAMPLES,\n",
    "# #     ALL_DAYS\n",
    "# # )\n",
    "\n",
    "# import steves_utils.wisig.utils as wisig\n",
    "\n",
    "\n",
    "# add_dataset(\n",
    "#     labels=wisig.ALL_NODES_MINIMUM_100_EXAMPLES,\n",
    "#     domains = wisig.ALL_DAYS,\n",
    "#     num_examples_per_domain_per_label=100,\n",
    "#     pickle_path=os.path.join(get_datasets_base_path(), \"wisig.node3-19.stratified_ds.2022A.pkl\"),\n",
    "#     source_or_target_dataset=\"target\",\n",
    "#     x_transform_func=global_x_transform_func,\n",
    "#     domain_modifier=lambda u: f\"wisig_{u}\"\n",
    "# )"
   ]
  },
  {
   "cell_type": "code",
   "execution_count": 19,
   "id": "fd5442bc",
   "metadata": {
    "execution": {
     "iopub.execute_input": "2022-03-27T07:01:10.071841Z",
     "iopub.status.busy": "2022-03-27T07:01:10.065503Z",
     "iopub.status.idle": "2022-03-27T07:01:10.080468Z",
     "shell.execute_reply": "2022-03-27T07:01:10.080049Z"
    },
    "papermill": {
     "duration": 0.033605,
     "end_time": "2022-03-27T07:01:10.080567",
     "exception": false,
     "start_time": "2022-03-27T07:01:10.046962",
     "status": "completed"
    },
    "tags": []
   },
   "outputs": [],
   "source": [
    "###################################\n",
    "# Build the dataset\n",
    "###################################\n",
    "train_original_source = Iterable_Aggregator(train_original_source, p.seed)\n",
    "val_original_source = Iterable_Aggregator(val_original_source, p.seed)\n",
    "test_original_source = Iterable_Aggregator(test_original_source, p.seed)\n",
    "\n",
    "\n",
    "train_original_target = Iterable_Aggregator(train_original_target, p.seed)\n",
    "val_original_target = Iterable_Aggregator(val_original_target, p.seed)\n",
    "test_original_target = Iterable_Aggregator(test_original_target, p.seed)\n",
    "\n",
    "# For CNN We only use X and Y. And we only train on the source.\n",
    "# Properly form the data using a transform lambda and Lazy_Iterable_Wrapper. Finally wrap them in a dataloader\n",
    "\n",
    "transform_lambda = lambda ex: ex[1] # Original is (<domain>, <episode>) so we strip down to episode only\n",
    "\n",
    "train_processed_source = Lazy_Iterable_Wrapper(train_original_source, transform_lambda)\n",
    "val_processed_source   = Lazy_Iterable_Wrapper(val_original_source, transform_lambda)\n",
    "test_processed_source  = Lazy_Iterable_Wrapper(test_original_source, transform_lambda)\n",
    "\n",
    "train_processed_target = Lazy_Iterable_Wrapper(train_original_target, transform_lambda)\n",
    "val_processed_target   = Lazy_Iterable_Wrapper(val_original_target, transform_lambda)\n",
    "test_processed_target  = Lazy_Iterable_Wrapper(test_original_target, transform_lambda)\n",
    "\n",
    "datasets = EasyDict({\n",
    "    \"source\": {\n",
    "        \"original\": {\"train\":train_original_source, \"val\":val_original_source, \"test\":test_original_source},\n",
    "        \"processed\": {\"train\":train_processed_source, \"val\":val_processed_source, \"test\":test_processed_source}\n",
    "    },\n",
    "    \"target\": {\n",
    "        \"original\": {\"train\":train_original_target, \"val\":val_original_target, \"test\":test_original_target},\n",
    "        \"processed\": {\"train\":train_processed_target, \"val\":val_processed_target, \"test\":test_processed_target}\n",
    "    },\n",
    "})"
   ]
  },
  {
   "cell_type": "code",
   "execution_count": 20,
   "id": "5b3c01fc",
   "metadata": {
    "execution": {
     "iopub.execute_input": "2022-03-27T07:01:10.119483Z",
     "iopub.status.busy": "2022-03-27T07:01:10.115946Z",
     "iopub.status.idle": "2022-03-27T07:01:34.570826Z",
     "shell.execute_reply": "2022-03-27T07:01:34.570406Z"
    },
    "papermill": {
     "duration": 24.471436,
     "end_time": "2022-03-27T07:01:34.570935",
     "exception": false,
     "start_time": "2022-03-27T07:01:10.099499",
     "status": "completed"
    },
    "tags": []
   },
   "outputs": [
    {
     "name": "stdout",
     "output_type": "stream",
     "text": [
      "{'ORACLE.run2_50', 'ORACLE.run2_8', 'ORACLE.run2_20', 'ORACLE.run2_32', 'ORACLE.run2_44', 'ORACLE.run2_38', 'ORACLE.run2_14', 'ORACLE.run2_26'}\n"
     ]
    },
    {
     "name": "stdout",
     "output_type": "stream",
     "text": [
      "{'ORACLE.run1_38', 'ORACLE.run1_20', 'ORACLE.run1_8', 'ORACLE.run1_50', 'ORACLE.run1_32', 'ORACLE.run1_14', 'ORACLE.run1_26', 'ORACLE.run1_44'}\n"
     ]
    },
    {
     "name": "stdout",
     "output_type": "stream",
     "text": [
      "tensor([[[ 0.7038, -0.4583, -0.3928,  ...,  0.7310,  0.1255, -1.0911],\n",
      "         [-0.7638, -0.2673,  0.0982,  ...,  0.5456, -0.4310,  0.4201]],\n",
      "\n",
      "        [[ 0.6789,  0.2421,  0.1737,  ...,  0.1158,  0.7421,  0.1105],\n",
      "         [ 0.2789,  0.0316, -0.5052,  ...,  0.1210,  1.0473, -0.3421]],\n",
      "\n",
      "        [[ 1.4708,  1.1777, -0.2355,  ..., -0.3245,  0.1256, -1.1829],\n",
      "         [ 0.2303, -0.8479, -0.2408,  ...,  0.2826,  0.3036, -0.0523]],\n",
      "\n",
      "        ...,\n",
      "\n",
      "        [[ 0.4976, -1.4252, -0.7618,  ...,  0.3563,  1.2348,  0.4976],\n",
      "         [ 0.6696, -0.4607, -0.5529,  ..., -0.1597, -0.9215, -0.4300]],\n",
      "\n",
      "        [[-0.2017,  0.2729,  1.1034,  ..., -0.5576,  1.6788,  0.4627],\n",
      "         [ 0.0890, -0.1424,  0.8068,  ..., -1.1686, -0.4153, -1.0025]],\n",
      "\n",
      "        [[-0.4430,  0.1538,  0.4553,  ...,  0.3261,  1.3290,  0.4307],\n",
      "         [ 0.4799, -1.6243, -0.6091,  ...,  0.4922,  0.7999,  0.2092]]])\n"
     ]
    }
   ],
   "source": [
    "from steves_utils.transforms import get_average_magnitude, get_average_power\n",
    "\n",
    "print(set([u for u,_ in val_original_source]))\n",
    "print(set([u for u,_ in val_original_target]))\n",
    "\n",
    "s_x, s_y, q_x, q_y, _ = next(iter(train_processed_source))\n",
    "print(s_x)\n",
    "\n",
    "# for ds in [\n",
    "#     train_processed_source,\n",
    "#     val_processed_source,\n",
    "#     test_processed_source,\n",
    "#     train_processed_target,\n",
    "#     val_processed_target,\n",
    "#     test_processed_target\n",
    "# ]:\n",
    "#     for s_x, s_y, q_x, q_y, _ in ds:\n",
    "#         for X in (s_x, q_x):\n",
    "#             for x in X:\n",
    "#                 assert np.isclose(get_average_magnitude(x.numpy()), 1.0)\n",
    "#                 assert np.isclose(get_average_power(x.numpy()), 1.0)\n",
    "                "
   ]
  },
  {
   "cell_type": "code",
   "execution_count": 21,
   "id": "bbdacba1",
   "metadata": {
    "execution": {
     "iopub.execute_input": "2022-03-27T07:01:34.611825Z",
     "iopub.status.busy": "2022-03-27T07:01:34.607343Z",
     "iopub.status.idle": "2022-03-27T07:01:34.663717Z",
     "shell.execute_reply": "2022-03-27T07:01:34.663289Z"
    },
    "papermill": {
     "duration": 0.074357,
     "end_time": "2022-03-27T07:01:34.663821",
     "exception": false,
     "start_time": "2022-03-27T07:01:34.589464",
     "status": "completed"
    },
    "tags": []
   },
   "outputs": [
    {
     "name": "stdout",
     "output_type": "stream",
     "text": [
      "(2, 256)\n"
     ]
    }
   ],
   "source": [
    "###################################\n",
    "# Build the model\n",
    "###################################\n",
    "# easfsl only wants a tuple for the shape\n",
    "model = Steves_Prototypical_Network(x_net, device=p.device, x_shape=tuple(p.x_shape))\n",
    "optimizer = Adam(params=model.parameters(), lr=p.lr)"
   ]
  },
  {
   "cell_type": "code",
   "execution_count": 22,
   "id": "22b39ac5",
   "metadata": {
    "execution": {
     "iopub.execute_input": "2022-03-27T07:01:34.701818Z",
     "iopub.status.busy": "2022-03-27T07:01:34.701565Z",
     "iopub.status.idle": "2022-03-27T09:33:33.952139Z",
     "shell.execute_reply": "2022-03-27T09:33:33.951907Z"
    },
    "papermill": {
     "duration": 9119.268183,
     "end_time": "2022-03-27T09:33:33.952197",
     "exception": false,
     "start_time": "2022-03-27T07:01:34.684014",
     "status": "completed"
    },
    "tags": []
   },
   "outputs": [
    {
     "name": "stdout",
     "output_type": "stream",
     "text": [
      "epoch: 1, [batch: 1 / 33600], examples_per_second: 9.9642, train_label_loss: 2.8012, \n"
     ]
    },
    {
     "name": "stdout",
     "output_type": "stream",
     "text": [
      "epoch: 1, [batch: 3360 / 33600], examples_per_second: 3222.3429, train_label_loss: 1.5691, \n"
     ]
    },
    {
     "name": "stdout",
     "output_type": "stream",
     "text": [
      "epoch: 1, [batch: 6720 / 33600], examples_per_second: 3211.3464, train_label_loss: 0.7209, \n"
     ]
    },
    {
     "name": "stdout",
     "output_type": "stream",
     "text": [
      "epoch: 1, [batch: 10080 / 33600], examples_per_second: 3209.6527, train_label_loss: 1.0287, \n"
     ]
    },
    {
     "name": "stdout",
     "output_type": "stream",
     "text": [
      "epoch: 1, [batch: 13440 / 33600], examples_per_second: 3195.0352, train_label_loss: 1.2075, \n"
     ]
    },
    {
     "name": "stdout",
     "output_type": "stream",
     "text": [
      "epoch: 1, [batch: 16800 / 33600], examples_per_second: 3215.8740, train_label_loss: 0.7143, \n"
     ]
    },
    {
     "name": "stdout",
     "output_type": "stream",
     "text": [
      "epoch: 1, [batch: 20160 / 33600], examples_per_second: 3217.8376, train_label_loss: 0.8845, \n"
     ]
    },
    {
     "name": "stdout",
     "output_type": "stream",
     "text": [
      "epoch: 1, [batch: 23520 / 33600], examples_per_second: 3208.0603, train_label_loss: 1.0256, \n"
     ]
    },
    {
     "name": "stdout",
     "output_type": "stream",
     "text": [
      "epoch: 1, [batch: 26880 / 33600], examples_per_second: 3210.3773, train_label_loss: 0.7255, \n"
     ]
    },
    {
     "name": "stdout",
     "output_type": "stream",
     "text": [
      "epoch: 1, [batch: 30240 / 33600], examples_per_second: 3215.4263, train_label_loss: 1.6408, \n"
     ]
    },
    {
     "name": "stdout",
     "output_type": "stream",
     "text": [
      "=============================================================\n",
      "epoch: 1, source_val_acc_label: 0.6403, target_val_acc_label: 0.6515, source_val_label_loss: 1.0270, target_val_label_loss: 0.9964, \n",
      "=============================================================\n"
     ]
    },
    {
     "name": "stdout",
     "output_type": "stream",
     "text": [
      "New best\n"
     ]
    },
    {
     "name": "stdout",
     "output_type": "stream",
     "text": [
      "epoch: 2, [batch: 1 / 33600], examples_per_second: 0.9665, train_label_loss: 0.4299, \n"
     ]
    },
    {
     "name": "stdout",
     "output_type": "stream",
     "text": [
      "epoch: 2, [batch: 3360 / 33600], examples_per_second: 3232.5923, train_label_loss: 0.6604, \n"
     ]
    },
    {
     "name": "stdout",
     "output_type": "stream",
     "text": [
      "epoch: 2, [batch: 6720 / 33600], examples_per_second: 3226.7684, train_label_loss: 0.7115, \n"
     ]
    },
    {
     "name": "stdout",
     "output_type": "stream",
     "text": [
      "epoch: 2, [batch: 10080 / 33600], examples_per_second: 3245.4098, train_label_loss: 0.5981, \n"
     ]
    },
    {
     "name": "stdout",
     "output_type": "stream",
     "text": [
      "epoch: 2, [batch: 13440 / 33600], examples_per_second: 3235.0732, train_label_loss: 0.6721, \n"
     ]
    },
    {
     "name": "stdout",
     "output_type": "stream",
     "text": [
      "epoch: 2, [batch: 16800 / 33600], examples_per_second: 3245.0000, train_label_loss: 0.9205, \n"
     ]
    },
    {
     "name": "stdout",
     "output_type": "stream",
     "text": [
      "epoch: 2, [batch: 20160 / 33600], examples_per_second: 3242.9411, train_label_loss: 0.8236, \n"
     ]
    },
    {
     "name": "stdout",
     "output_type": "stream",
     "text": [
      "epoch: 2, [batch: 23520 / 33600], examples_per_second: 3243.1592, train_label_loss: 0.7095, \n"
     ]
    },
    {
     "name": "stdout",
     "output_type": "stream",
     "text": [
      "epoch: 2, [batch: 26880 / 33600], examples_per_second: 3242.0171, train_label_loss: 0.5993, \n"
     ]
    },
    {
     "name": "stdout",
     "output_type": "stream",
     "text": [
      "epoch: 2, [batch: 30240 / 33600], examples_per_second: 3246.2652, train_label_loss: 0.4318, \n"
     ]
    },
    {
     "name": "stdout",
     "output_type": "stream",
     "text": [
      "=============================================================\n",
      "epoch: 2, source_val_acc_label: 0.6496, target_val_acc_label: 0.6646, source_val_label_loss: 0.9308, target_val_label_loss: 0.8907, \n",
      "=============================================================\n"
     ]
    },
    {
     "name": "stdout",
     "output_type": "stream",
     "text": [
      "New best\n"
     ]
    },
    {
     "name": "stdout",
     "output_type": "stream",
     "text": [
      "epoch: 3, [batch: 1 / 33600], examples_per_second: 0.9711, train_label_loss: 1.2369, \n"
     ]
    },
    {
     "name": "stdout",
     "output_type": "stream",
     "text": [
      "epoch: 3, [batch: 3360 / 33600], examples_per_second: 3231.3495, train_label_loss: 0.4613, \n"
     ]
    },
    {
     "name": "stdout",
     "output_type": "stream",
     "text": [
      "epoch: 3, [batch: 6720 / 33600], examples_per_second: 3245.4255, train_label_loss: 1.0784, \n"
     ]
    },
    {
     "name": "stdout",
     "output_type": "stream",
     "text": [
      "epoch: 3, [batch: 10080 / 33600], examples_per_second: 3242.4250, train_label_loss: 1.0907, \n"
     ]
    },
    {
     "name": "stdout",
     "output_type": "stream",
     "text": [
      "epoch: 3, [batch: 13440 / 33600], examples_per_second: 3232.0459, train_label_loss: 0.5053, \n"
     ]
    },
    {
     "name": "stdout",
     "output_type": "stream",
     "text": [
      "epoch: 3, [batch: 16800 / 33600], examples_per_second: 3240.0776, train_label_loss: 0.9128, \n"
     ]
    },
    {
     "name": "stdout",
     "output_type": "stream",
     "text": [
      "epoch: 3, [batch: 20160 / 33600], examples_per_second: 3260.8417, train_label_loss: 0.4194, \n"
     ]
    },
    {
     "name": "stdout",
     "output_type": "stream",
     "text": [
      "epoch: 3, [batch: 23520 / 33600], examples_per_second: 3237.0430, train_label_loss: 0.4326, \n"
     ]
    },
    {
     "name": "stdout",
     "output_type": "stream",
     "text": [
      "epoch: 3, [batch: 26880 / 33600], examples_per_second: 3241.7467, train_label_loss: 0.8861, \n"
     ]
    },
    {
     "name": "stdout",
     "output_type": "stream",
     "text": [
      "epoch: 3, [batch: 30240 / 33600], examples_per_second: 3242.2172, train_label_loss: 0.7237, \n"
     ]
    },
    {
     "name": "stdout",
     "output_type": "stream",
     "text": [
      "=============================================================\n",
      "epoch: 3, source_val_acc_label: 0.6863, target_val_acc_label: 0.6964, source_val_label_loss: 0.8598, target_val_label_loss: 0.8279, \n",
      "=============================================================\n"
     ]
    },
    {
     "name": "stdout",
     "output_type": "stream",
     "text": [
      "New best\n"
     ]
    },
    {
     "name": "stdout",
     "output_type": "stream",
     "text": [
      "epoch: 4, [batch: 1 / 33600], examples_per_second: 0.9690, train_label_loss: 1.0765, \n"
     ]
    },
    {
     "name": "stdout",
     "output_type": "stream",
     "text": [
      "epoch: 4, [batch: 3360 / 33600], examples_per_second: 3212.3229, train_label_loss: 1.0225, \n"
     ]
    },
    {
     "name": "stdout",
     "output_type": "stream",
     "text": [
      "epoch: 4, [batch: 6720 / 33600], examples_per_second: 3238.0710, train_label_loss: 0.6336, \n"
     ]
    },
    {
     "name": "stdout",
     "output_type": "stream",
     "text": [
      "epoch: 4, [batch: 10080 / 33600], examples_per_second: 3247.1441, train_label_loss: 0.7756, \n"
     ]
    },
    {
     "name": "stdout",
     "output_type": "stream",
     "text": [
      "epoch: 4, [batch: 13440 / 33600], examples_per_second: 3232.3964, train_label_loss: 0.8239, \n"
     ]
    },
    {
     "name": "stdout",
     "output_type": "stream",
     "text": [
      "epoch: 4, [batch: 16800 / 33600], examples_per_second: 3250.2564, train_label_loss: 0.4998, \n"
     ]
    },
    {
     "name": "stdout",
     "output_type": "stream",
     "text": [
      "epoch: 4, [batch: 20160 / 33600], examples_per_second: 3245.9212, train_label_loss: 0.4438, \n"
     ]
    },
    {
     "name": "stdout",
     "output_type": "stream",
     "text": [
      "epoch: 4, [batch: 23520 / 33600], examples_per_second: 3237.0089, train_label_loss: 0.4666, \n"
     ]
    },
    {
     "name": "stdout",
     "output_type": "stream",
     "text": [
      "epoch: 4, [batch: 26880 / 33600], examples_per_second: 3240.1096, train_label_loss: 0.8004, \n"
     ]
    },
    {
     "name": "stdout",
     "output_type": "stream",
     "text": [
      "epoch: 4, [batch: 30240 / 33600], examples_per_second: 3247.1867, train_label_loss: 1.0617, \n"
     ]
    },
    {
     "name": "stdout",
     "output_type": "stream",
     "text": [
      "=============================================================\n",
      "epoch: 4, source_val_acc_label: 0.7110, target_val_acc_label: 0.7168, source_val_label_loss: 0.7940, target_val_label_loss: 0.7662, \n",
      "=============================================================\n"
     ]
    },
    {
     "name": "stdout",
     "output_type": "stream",
     "text": [
      "New best\n"
     ]
    },
    {
     "name": "stdout",
     "output_type": "stream",
     "text": [
      "epoch: 5, [batch: 1 / 33600], examples_per_second: 0.9730, train_label_loss: 1.0938, \n"
     ]
    },
    {
     "name": "stdout",
     "output_type": "stream",
     "text": [
      "epoch: 5, [batch: 3360 / 33600], examples_per_second: 3228.7683, train_label_loss: 0.4528, \n"
     ]
    },
    {
     "name": "stdout",
     "output_type": "stream",
     "text": [
      "epoch: 5, [batch: 6720 / 33600], examples_per_second: 3248.8820, train_label_loss: 0.4959, \n"
     ]
    },
    {
     "name": "stdout",
     "output_type": "stream",
     "text": [
      "epoch: 5, [batch: 10080 / 33600], examples_per_second: 3247.6786, train_label_loss: 1.0819, \n"
     ]
    },
    {
     "name": "stdout",
     "output_type": "stream",
     "text": [
      "epoch: 5, [batch: 13440 / 33600], examples_per_second: 3236.7885, train_label_loss: 0.4154, \n"
     ]
    },
    {
     "name": "stdout",
     "output_type": "stream",
     "text": [
      "epoch: 5, [batch: 16800 / 33600], examples_per_second: 3249.0318, train_label_loss: 0.3289, \n"
     ]
    },
    {
     "name": "stdout",
     "output_type": "stream",
     "text": [
      "epoch: 5, [batch: 20160 / 33600], examples_per_second: 3237.9879, train_label_loss: 0.5998, \n"
     ]
    },
    {
     "name": "stdout",
     "output_type": "stream",
     "text": [
      "epoch: 5, [batch: 23520 / 33600], examples_per_second: 3224.1861, train_label_loss: 0.5681, \n"
     ]
    },
    {
     "name": "stdout",
     "output_type": "stream",
     "text": [
      "epoch: 5, [batch: 26880 / 33600], examples_per_second: 3240.4528, train_label_loss: 0.1997, \n"
     ]
    },
    {
     "name": "stdout",
     "output_type": "stream",
     "text": [
      "epoch: 5, [batch: 30240 / 33600], examples_per_second: 3251.1842, train_label_loss: 0.5420, \n"
     ]
    },
    {
     "name": "stdout",
     "output_type": "stream",
     "text": [
      "=============================================================\n",
      "epoch: 5, source_val_acc_label: 0.7273, target_val_acc_label: 0.7292, source_val_label_loss: 0.7712, target_val_label_loss: 0.7519, \n",
      "=============================================================\n"
     ]
    },
    {
     "name": "stdout",
     "output_type": "stream",
     "text": [
      "New best\n"
     ]
    },
    {
     "name": "stdout",
     "output_type": "stream",
     "text": [
      "epoch: 6, [batch: 1 / 33600], examples_per_second: 0.9702, train_label_loss: 0.4168, \n"
     ]
    },
    {
     "name": "stdout",
     "output_type": "stream",
     "text": [
      "epoch: 6, [batch: 3360 / 33600], examples_per_second: 3233.7453, train_label_loss: 0.3530, \n"
     ]
    },
    {
     "name": "stdout",
     "output_type": "stream",
     "text": [
      "epoch: 6, [batch: 6720 / 33600], examples_per_second: 3246.6861, train_label_loss: 0.5369, \n"
     ]
    },
    {
     "name": "stdout",
     "output_type": "stream",
     "text": [
      "epoch: 6, [batch: 10080 / 33600], examples_per_second: 3244.9290, train_label_loss: 1.0222, \n"
     ]
    },
    {
     "name": "stdout",
     "output_type": "stream",
     "text": [
      "epoch: 6, [batch: 13440 / 33600], examples_per_second: 3232.1853, train_label_loss: 0.4661, \n"
     ]
    },
    {
     "name": "stdout",
     "output_type": "stream",
     "text": [
      "epoch: 6, [batch: 16800 / 33600], examples_per_second: 3249.7531, train_label_loss: 0.3494, \n"
     ]
    },
    {
     "name": "stdout",
     "output_type": "stream",
     "text": [
      "epoch: 6, [batch: 20160 / 33600], examples_per_second: 3252.1143, train_label_loss: 0.5808, \n"
     ]
    },
    {
     "name": "stdout",
     "output_type": "stream",
     "text": [
      "epoch: 6, [batch: 23520 / 33600], examples_per_second: 3242.5859, train_label_loss: 0.2825, \n"
     ]
    },
    {
     "name": "stdout",
     "output_type": "stream",
     "text": [
      "epoch: 6, [batch: 26880 / 33600], examples_per_second: 3247.4524, train_label_loss: 0.7702, \n"
     ]
    },
    {
     "name": "stdout",
     "output_type": "stream",
     "text": [
      "epoch: 6, [batch: 30240 / 33600], examples_per_second: 3251.9901, train_label_loss: 0.4235, \n"
     ]
    },
    {
     "name": "stdout",
     "output_type": "stream",
     "text": [
      "=============================================================\n",
      "epoch: 6, source_val_acc_label: 0.7289, target_val_acc_label: 0.7301, source_val_label_loss: 0.7597, target_val_label_loss: 0.7406, \n",
      "=============================================================\n"
     ]
    },
    {
     "name": "stdout",
     "output_type": "stream",
     "text": [
      "New best\n"
     ]
    },
    {
     "name": "stdout",
     "output_type": "stream",
     "text": [
      "epoch: 7, [batch: 1 / 33600], examples_per_second: 0.9696, train_label_loss: 0.4053, \n"
     ]
    },
    {
     "name": "stdout",
     "output_type": "stream",
     "text": [
      "epoch: 7, [batch: 3360 / 33600], examples_per_second: 3218.2562, train_label_loss: 0.5486, \n"
     ]
    },
    {
     "name": "stdout",
     "output_type": "stream",
     "text": [
      "epoch: 7, [batch: 6720 / 33600], examples_per_second: 3243.4140, train_label_loss: 0.6553, \n"
     ]
    },
    {
     "name": "stdout",
     "output_type": "stream",
     "text": [
      "epoch: 7, [batch: 10080 / 33600], examples_per_second: 3236.3337, train_label_loss: 0.5211, \n"
     ]
    },
    {
     "name": "stdout",
     "output_type": "stream",
     "text": [
      "epoch: 7, [batch: 13440 / 33600], examples_per_second: 3234.8582, train_label_loss: 0.2207, \n"
     ]
    },
    {
     "name": "stdout",
     "output_type": "stream",
     "text": [
      "epoch: 7, [batch: 16800 / 33600], examples_per_second: 3247.0925, train_label_loss: 0.5709, \n"
     ]
    },
    {
     "name": "stdout",
     "output_type": "stream",
     "text": [
      "epoch: 7, [batch: 20160 / 33600], examples_per_second: 3249.2145, train_label_loss: 0.5736, \n"
     ]
    },
    {
     "name": "stdout",
     "output_type": "stream",
     "text": [
      "epoch: 7, [batch: 23520 / 33600], examples_per_second: 3241.7101, train_label_loss: 0.5798, \n"
     ]
    },
    {
     "name": "stdout",
     "output_type": "stream",
     "text": [
      "epoch: 7, [batch: 26880 / 33600], examples_per_second: 3243.1016, train_label_loss: 0.6910, \n"
     ]
    },
    {
     "name": "stdout",
     "output_type": "stream",
     "text": [
      "epoch: 7, [batch: 30240 / 33600], examples_per_second: 3244.2023, train_label_loss: 0.2922, \n"
     ]
    },
    {
     "name": "stdout",
     "output_type": "stream",
     "text": [
      "=============================================================\n",
      "epoch: 7, source_val_acc_label: 0.7287, target_val_acc_label: 0.7293, source_val_label_loss: 0.7814, target_val_label_loss: 0.7713, \n",
      "=============================================================\n"
     ]
    },
    {
     "name": "stdout",
     "output_type": "stream",
     "text": [
      "epoch: 8, [batch: 1 / 33600], examples_per_second: 0.9726, train_label_loss: 0.5287, \n"
     ]
    },
    {
     "name": "stdout",
     "output_type": "stream",
     "text": [
      "epoch: 8, [batch: 3360 / 33600], examples_per_second: 3236.3987, train_label_loss: 0.4948, \n"
     ]
    },
    {
     "name": "stdout",
     "output_type": "stream",
     "text": [
      "epoch: 8, [batch: 6720 / 33600], examples_per_second: 3243.6437, train_label_loss: 0.1877, \n"
     ]
    },
    {
     "name": "stdout",
     "output_type": "stream",
     "text": [
      "epoch: 8, [batch: 10080 / 33600], examples_per_second: 3243.9315, train_label_loss: 0.7386, \n"
     ]
    },
    {
     "name": "stdout",
     "output_type": "stream",
     "text": [
      "epoch: 8, [batch: 13440 / 33600], examples_per_second: 3230.0450, train_label_loss: 0.3471, \n"
     ]
    },
    {
     "name": "stdout",
     "output_type": "stream",
     "text": [
      "epoch: 8, [batch: 16800 / 33600], examples_per_second: 3244.0986, train_label_loss: 0.8471, \n"
     ]
    },
    {
     "name": "stdout",
     "output_type": "stream",
     "text": [
      "epoch: 8, [batch: 20160 / 33600], examples_per_second: 3250.3897, train_label_loss: 0.3624, \n"
     ]
    },
    {
     "name": "stdout",
     "output_type": "stream",
     "text": [
      "epoch: 8, [batch: 23520 / 33600], examples_per_second: 3244.0272, train_label_loss: 0.3944, \n"
     ]
    },
    {
     "name": "stdout",
     "output_type": "stream",
     "text": [
      "epoch: 8, [batch: 26880 / 33600], examples_per_second: 3244.9876, train_label_loss: 0.6924, \n"
     ]
    },
    {
     "name": "stdout",
     "output_type": "stream",
     "text": [
      "epoch: 8, [batch: 30240 / 33600], examples_per_second: 3250.4360, train_label_loss: 0.4649, \n"
     ]
    },
    {
     "name": "stdout",
     "output_type": "stream",
     "text": [
      "=============================================================\n",
      "epoch: 8, source_val_acc_label: 0.7237, target_val_acc_label: 0.7262, source_val_label_loss: 0.7787, target_val_label_loss: 0.7643, \n",
      "=============================================================\n"
     ]
    },
    {
     "name": "stdout",
     "output_type": "stream",
     "text": [
      "epoch: 9, [batch: 1 / 33600], examples_per_second: 0.9751, train_label_loss: 0.6255, \n"
     ]
    },
    {
     "name": "stdout",
     "output_type": "stream",
     "text": [
      "epoch: 9, [batch: 3360 / 33600], examples_per_second: 3222.2876, train_label_loss: 0.2325, \n"
     ]
    },
    {
     "name": "stdout",
     "output_type": "stream",
     "text": [
      "epoch: 9, [batch: 6720 / 33600], examples_per_second: 3234.9536, train_label_loss: 0.4794, \n"
     ]
    },
    {
     "name": "stdout",
     "output_type": "stream",
     "text": [
      "epoch: 9, [batch: 10080 / 33600], examples_per_second: 3239.8932, train_label_loss: 0.3701, \n"
     ]
    },
    {
     "name": "stdout",
     "output_type": "stream",
     "text": [
      "epoch: 9, [batch: 13440 / 33600], examples_per_second: 3231.0424, train_label_loss: 0.2998, \n"
     ]
    },
    {
     "name": "stdout",
     "output_type": "stream",
     "text": [
      "epoch: 9, [batch: 16800 / 33600], examples_per_second: 3246.0692, train_label_loss: 0.3173, \n"
     ]
    },
    {
     "name": "stdout",
     "output_type": "stream",
     "text": [
      "epoch: 9, [batch: 20160 / 33600], examples_per_second: 3253.1061, train_label_loss: 0.2609, \n"
     ]
    },
    {
     "name": "stdout",
     "output_type": "stream",
     "text": [
      "epoch: 9, [batch: 23520 / 33600], examples_per_second: 3232.6957, train_label_loss: 0.3098, \n"
     ]
    },
    {
     "name": "stdout",
     "output_type": "stream",
     "text": [
      "epoch: 9, [batch: 26880 / 33600], examples_per_second: 3245.3963, train_label_loss: 0.8561, \n"
     ]
    },
    {
     "name": "stdout",
     "output_type": "stream",
     "text": [
      "epoch: 9, [batch: 30240 / 33600], examples_per_second: 3255.5553, train_label_loss: 0.4655, \n"
     ]
    },
    {
     "name": "stdout",
     "output_type": "stream",
     "text": [
      "=============================================================\n",
      "epoch: 9, source_val_acc_label: 0.7253, target_val_acc_label: 0.7262, source_val_label_loss: 0.7859, target_val_label_loss: 0.7744, \n",
      "=============================================================\n"
     ]
    },
    {
     "name": "stdout",
     "output_type": "stream",
     "text": [
      "epoch: 10, [batch: 1 / 33600], examples_per_second: 0.9716, train_label_loss: 0.5463, \n"
     ]
    },
    {
     "name": "stdout",
     "output_type": "stream",
     "text": [
      "epoch: 10, [batch: 3360 / 33600], examples_per_second: 3218.8485, train_label_loss: 0.1961, \n"
     ]
    },
    {
     "name": "stdout",
     "output_type": "stream",
     "text": [
      "epoch: 10, [batch: 6720 / 33600], examples_per_second: 3234.8495, train_label_loss: 0.6717, \n"
     ]
    },
    {
     "name": "stdout",
     "output_type": "stream",
     "text": [
      "epoch: 10, [batch: 10080 / 33600], examples_per_second: 3240.6239, train_label_loss: 0.5556, \n"
     ]
    },
    {
     "name": "stdout",
     "output_type": "stream",
     "text": [
      "epoch: 10, [batch: 13440 / 33600], examples_per_second: 3228.1929, train_label_loss: 0.5672, \n"
     ]
    },
    {
     "name": "stdout",
     "output_type": "stream",
     "text": [
      "epoch: 10, [batch: 16800 / 33600], examples_per_second: 3244.1511, train_label_loss: 0.5100, \n"
     ]
    },
    {
     "name": "stdout",
     "output_type": "stream",
     "text": [
      "epoch: 10, [batch: 20160 / 33600], examples_per_second: 3249.6166, train_label_loss: 0.4705, \n"
     ]
    },
    {
     "name": "stdout",
     "output_type": "stream",
     "text": [
      "epoch: 10, [batch: 23520 / 33600], examples_per_second: 3239.2925, train_label_loss: 0.5345, \n"
     ]
    },
    {
     "name": "stdout",
     "output_type": "stream",
     "text": [
      "epoch: 10, [batch: 26880 / 33600], examples_per_second: 3248.2830, train_label_loss: 0.7588, \n"
     ]
    },
    {
     "name": "stdout",
     "output_type": "stream",
     "text": [
      "epoch: 10, [batch: 30240 / 33600], examples_per_second: 3247.1746, train_label_loss: 0.6216, \n"
     ]
    },
    {
     "name": "stdout",
     "output_type": "stream",
     "text": [
      "=============================================================\n",
      "epoch: 10, source_val_acc_label: 0.7285, target_val_acc_label: 0.7288, source_val_label_loss: 0.8078, target_val_label_loss: 0.8028, \n",
      "=============================================================\n"
     ]
    },
    {
     "name": "stdout",
     "output_type": "stream",
     "text": [
      "Patience (3) exhausted\n"
     ]
    }
   ],
   "source": [
    "###################################\n",
    "# train\n",
    "###################################\n",
    "jig = PTN_Train_Eval_Test_Jig(model, p.BEST_MODEL_PATH, p.device)\n",
    "\n",
    "jig.train(\n",
    "    train_iterable=datasets.source.processed.train,\n",
    "    source_val_iterable=datasets.source.processed.val,\n",
    "    target_val_iterable=datasets.target.processed.val,\n",
    "    num_epochs=p.n_epoch,\n",
    "    num_logs_per_epoch=p.NUM_LOGS_PER_EPOCH,\n",
    "    patience=p.patience,\n",
    "    optimizer=optimizer,\n",
    "    criteria_for_best=p.criteria_for_best,\n",
    ")"
   ]
  },
  {
   "cell_type": "code",
   "execution_count": 23,
   "id": "31e8fabf",
   "metadata": {
    "execution": {
     "iopub.execute_input": "2022-03-27T09:33:34.024832Z",
     "iopub.status.busy": "2022-03-27T09:33:34.024577Z",
     "iopub.status.idle": "2022-03-27T09:33:34.044127Z",
     "shell.execute_reply": "2022-03-27T09:33:34.043746Z"
    },
    "papermill": {
     "duration": 0.057382,
     "end_time": "2022-03-27T09:33:34.044220",
     "exception": false,
     "start_time": "2022-03-27T09:33:33.986838",
     "status": "completed"
    },
    "tags": []
   },
   "outputs": [],
   "source": [
    "total_experiment_time_secs = time.time() - start_time_secs"
   ]
  },
  {
   "cell_type": "code",
   "execution_count": 24,
   "id": "87b9595b",
   "metadata": {
    "execution": {
     "iopub.execute_input": "2022-03-27T09:33:34.124751Z",
     "iopub.status.busy": "2022-03-27T09:33:34.124484Z",
     "iopub.status.idle": "2022-03-27T09:41:31.699761Z",
     "shell.execute_reply": "2022-03-27T09:41:31.699351Z"
    },
    "papermill": {
     "duration": 477.616431,
     "end_time": "2022-03-27T09:41:31.699868",
     "exception": false,
     "start_time": "2022-03-27T09:33:34.083437",
     "status": "completed"
    },
    "tags": []
   },
   "outputs": [],
   "source": [
    "###################################\n",
    "# Evaluate the model\n",
    "###################################\n",
    "source_test_label_accuracy, source_test_label_loss = jig.test(datasets.source.processed.test)\n",
    "target_test_label_accuracy, target_test_label_loss = jig.test(datasets.target.processed.test)\n",
    "\n",
    "source_val_label_accuracy, source_val_label_loss = jig.test(datasets.source.processed.val)\n",
    "target_val_label_accuracy, target_val_label_loss = jig.test(datasets.target.processed.val)\n",
    "\n",
    "history = jig.get_history()\n",
    "\n",
    "total_epochs_trained = len(history[\"epoch_indices\"])\n",
    "\n",
    "val_dl = Iterable_Aggregator((datasets.source.original.val,datasets.target.original.val))\n",
    "\n",
    "confusion = ptn_confusion_by_domain_over_dataloader(model, p.device, val_dl)\n",
    "per_domain_accuracy = per_domain_accuracy_from_confusion(confusion)\n",
    "\n",
    "# Add a key to per_domain_accuracy for if it was a source domain\n",
    "for domain, accuracy in per_domain_accuracy.items():\n",
    "    per_domain_accuracy[domain] = {\n",
    "        \"accuracy\": accuracy,\n",
    "        \"source?\": domain in p.domains_source\n",
    "    }\n",
    "\n",
    "# Do an independent accuracy assesment JUST TO BE SURE!\n",
    "# _source_test_label_accuracy = independent_accuracy_assesment(model, datasets.source.processed.test, p.device)\n",
    "# _target_test_label_accuracy = independent_accuracy_assesment(model, datasets.target.processed.test, p.device)\n",
    "# _source_val_label_accuracy = independent_accuracy_assesment(model, datasets.source.processed.val, p.device)\n",
    "# _target_val_label_accuracy = independent_accuracy_assesment(model, datasets.target.processed.val, p.device)\n",
    "\n",
    "# assert(_source_test_label_accuracy == source_test_label_accuracy)\n",
    "# assert(_target_test_label_accuracy == target_test_label_accuracy)\n",
    "# assert(_source_val_label_accuracy == source_val_label_accuracy)\n",
    "# assert(_target_val_label_accuracy == target_val_label_accuracy)\n",
    "\n",
    "experiment = {\n",
    "    \"experiment_name\": p.experiment_name,\n",
    "    \"parameters\": dict(p),\n",
    "    \"results\": {\n",
    "        \"source_test_label_accuracy\": source_test_label_accuracy,\n",
    "        \"source_test_label_loss\": source_test_label_loss,\n",
    "        \"target_test_label_accuracy\": target_test_label_accuracy,\n",
    "        \"target_test_label_loss\": target_test_label_loss,\n",
    "        \"source_val_label_accuracy\": source_val_label_accuracy,\n",
    "        \"source_val_label_loss\": source_val_label_loss,\n",
    "        \"target_val_label_accuracy\": target_val_label_accuracy,\n",
    "        \"target_val_label_loss\": target_val_label_loss,\n",
    "        \"total_epochs_trained\": total_epochs_trained,\n",
    "        \"total_experiment_time_secs\": total_experiment_time_secs,\n",
    "        \"confusion\": confusion,\n",
    "        \"per_domain_accuracy\": per_domain_accuracy,\n",
    "    },\n",
    "    \"history\": history,\n",
    "    \"dataset_metrics\": get_dataset_metrics(datasets, \"ptn\"),\n",
    "}"
   ]
  },
  {
   "cell_type": "code",
   "execution_count": 25,
   "id": "54a21829",
   "metadata": {
    "execution": {
     "iopub.execute_input": "2022-03-27T09:41:31.777480Z",
     "iopub.status.busy": "2022-03-27T09:41:31.777230Z",
     "iopub.status.idle": "2022-03-27T09:41:31.902327Z",
     "shell.execute_reply": "2022-03-27T09:41:31.901831Z"
    },
    "papermill": {
     "duration": 0.162766,
     "end_time": "2022-03-27T09:41:31.902422",
     "exception": false,
     "start_time": "2022-03-27T09:41:31.739656",
     "status": "completed"
    },
    "tags": []
   },
   "outputs": [
    {
     "data": {
      "image/png": "[encoded data removed]",
      "text/plain": [
       "<Figure size 1080x504 with 1 Axes>"
      ]
     },
     "metadata": {
      "needs_background": "light"
     },
     "output_type": "display_data"
    }
   ],
   "source": [
    "ax = get_loss_curve(experiment)\n",
    "plt.show()"
   ]
  },
  {
   "cell_type": "code",
   "execution_count": 26,
   "id": "fd8a0f60",
   "metadata": {
    "execution": {
     "iopub.execute_input": "2022-03-27T09:41:31.979905Z",
     "iopub.status.busy": "2022-03-27T09:41:31.979657Z",
     "iopub.status.idle": "2022-03-27T09:41:32.121463Z",
     "shell.execute_reply": "2022-03-27T09:41:32.121203Z"
    },
    "papermill": {
     "duration": 0.179654,
     "end_time": "2022-03-27T09:41:32.121516",
     "exception": false,
     "start_time": "2022-03-27T09:41:31.941862",
     "status": "completed"
    },
    "tags": []
   },
   "outputs": [
    {
     "data": {
      "text/plain": [
       "<AxesSubplot:title={'center':'Results'}>"
      ]
     },
     "execution_count": 26,
     "metadata": {},
     "output_type": "execute_result"
    },
    {
     "data": {
      "image/png": "[encoded data removed]",
      "text/plain": [
       "<Figure size 1080x504 with 1 Axes>"
      ]
     },
     "metadata": {
      "needs_background": "light"
     },
     "output_type": "display_data"
    }
   ],
   "source": [
    "get_results_table(experiment)"
   ]
  },
  {
   "cell_type": "code",
   "execution_count": 27,
   "id": "cf8dc689",
   "metadata": {
    "execution": {
     "iopub.execute_input": "2022-03-27T09:41:32.201820Z",
     "iopub.status.busy": "2022-03-27T09:41:32.201569Z",
     "iopub.status.idle": "2022-03-27T09:41:32.360842Z",
     "shell.execute_reply": "2022-03-27T09:41:32.360461Z"
    },
    "papermill": {
     "duration": 0.199788,
     "end_time": "2022-03-27T09:41:32.360937",
     "exception": false,
     "start_time": "2022-03-27T09:41:32.161149",
     "status": "completed"
    },
    "tags": []
   },
   "outputs": [
    {
     "data": {
      "text/plain": [
       "<AxesSubplot:title={'center':'Per Domain Validation Accuracy'}, xlabel='domain'>"
      ]
     },
     "execution_count": 27,
     "metadata": {},
     "output_type": "execute_result"
    },
    {
     "data": {
      "image/png": "[encoded data removed]",
      "text/plain": [
       "<Figure size 1080x504 with 1 Axes>"
      ]
     },
     "metadata": {
      "needs_background": "light"
     },
     "output_type": "display_data"
    }
   ],
   "source": [
    "get_domain_accuracies(experiment)"
   ]
  },
  {
   "cell_type": "code",
   "execution_count": 28,
   "id": "a74ae082",
   "metadata": {
    "execution": {
     "iopub.execute_input": "2022-03-27T09:41:32.450512Z",
     "iopub.status.busy": "2022-03-27T09:41:32.444757Z",
     "iopub.status.idle": "2022-03-27T09:41:32.460777Z",
     "shell.execute_reply": "2022-03-27T09:41:32.461190Z"
    },
    "papermill": {
     "duration": 0.057917,
     "end_time": "2022-03-27T09:41:32.461316",
     "exception": false,
     "start_time": "2022-03-27T09:41:32.403399",
     "status": "completed"
    },
    "tags": []
   },
   "outputs": [
    {
     "name": "stdout",
     "output_type": "stream",
     "text": [
      "Source Test Label Accuracy: 0.728828125 Target Test Label Accuracy: 0.7319661458333333\n",
      "Source Val Label Accuracy: 0.72892578125 Target Val Label Accuracy: 0.7301236979166666\n"
     ]
    }
   ],
   "source": [
    "print(\"Source Test Label Accuracy:\", experiment[\"results\"][\"source_test_label_accuracy\"], \"Target Test Label Accuracy:\", experiment[\"results\"][\"target_test_label_accuracy\"])\n",
    "print(\"Source Val Label Accuracy:\", experiment[\"results\"][\"source_val_label_accuracy\"], \"Target Val Label Accuracy:\", experiment[\"results\"][\"target_val_label_accuracy\"])"
   ]
  },
  {
   "cell_type": "code",
   "execution_count": 29,
   "id": "dacca602",
   "metadata": {
    "execution": {
     "iopub.execute_input": "2022-03-27T09:41:32.549607Z",
     "iopub.status.busy": "2022-03-27T09:41:32.546215Z",
     "iopub.status.idle": "2022-03-27T09:41:32.559972Z",
     "shell.execute_reply": "2022-03-27T09:41:32.559536Z"
    },
    "papermill": {
     "duration": 0.055007,
     "end_time": "2022-03-27T09:41:32.560081",
     "exception": false,
     "start_time": "2022-03-27T09:41:32.505074",
     "status": "completed"
    },
    "tags": [
     "experiment_json"
    ]
   },
   "outputs": [
    {
     "data": {
      "text/plain": [
       "'{\"experiment_name\": \"tl_1v2:oracle.run1-oracle.run2\", \"parameters\": {\"experiment_name\": \"tl_1v2:oracle.run1-oracle.run2\", \"device\": \"cuda\", \"lr\": 0.0001, \"n_shot\": 3, \"n_query\": 2, \"train_k_factor\": 3, \"val_k_factor\": 2, \"test_k_factor\": 2, \"torch_default_dtype\": \"torch.float32\", \"n_epoch\": 50, \"patience\": 3, \"criteria_for_best\": \"target_accuracy\", \"x_net\": [{\"class\": \"nnReshape\", \"kargs\": {\"shape\": [-1, 1, 2, 256]}}, {\"class\": \"Conv2d\", \"kargs\": {\"in_channels\": 1, \"out_channels\": 256, \"kernel_size\": [1, 7], \"bias\": false, \"padding\": [0, 3]}}, {\"class\": \"ReLU\", \"kargs\": {\"inplace\": true}}, {\"class\": \"BatchNorm2d\", \"kargs\": {\"num_features\": 256}}, {\"class\": \"Conv2d\", \"kargs\": {\"in_channels\": 256, \"out_channels\": 80, \"kernel_size\": [2, 7], \"bias\": true, \"padding\": [0, 3]}}, {\"class\": \"ReLU\", \"kargs\": {\"inplace\": true}}, {\"class\": \"BatchNorm2d\", \"kargs\": {\"num_features\": 80}}, {\"class\": \"Flatten\", \"kargs\": {}}, {\"class\": \"Linear\", \"kargs\": {\"in_features\": 20480, \"out_features\": 256}}, {\"class\": \"ReLU\", \"kargs\": {\"inplace\": true}}, {\"class\": \"BatchNorm1d\", \"kargs\": {\"num_features\": 256}}, {\"class\": \"Linear\", \"kargs\": {\"in_features\": 256, \"out_features\": 256}}], \"NUM_LOGS_PER_EPOCH\": 10, \"BEST_MODEL_PATH\": \"./best_model.pth\", \"n_way\": 16, \"datasets\": [{\"labels\": [\"3123D52\", \"3123D65\", \"3123D79\", \"3123D80\", \"3123D54\", \"3123D70\", \"3123D7B\", \"3123D89\", \"3123D58\", \"3123D76\", \"3123D7D\", \"3123EFE\", \"3123D64\", \"3123D78\", \"3123D7E\", \"3124E4A\"], \"domains\": [32, 38, 8, 44, 14, 50, 20, 26], \"num_examples_per_domain_per_label\": 10000, \"pickle_path\": \"/mnt/wd500GB/CSC500/csc500-main/datasets/oracle.Run1_10kExamples_stratified_ds.2022A.pkl\", \"source_or_target_dataset\": \"target\", \"x_transforms\": [\"unit_mag\"], \"episode_transforms\": [], \"domain_prefix\": \"ORACLE.run1_\"}, {\"labels\": [\"3123D52\", \"3123D65\", \"3123D79\", \"3123D80\", \"3123D54\", \"3123D70\", \"3123D7B\", \"3123D89\", \"3123D58\", \"3123D76\", \"3123D7D\", \"3123EFE\", \"3123D64\", \"3123D78\", \"3123D7E\", \"3124E4A\"], \"domains\": [32, 38, 8, 44, 14, 50, 20, 26], \"num_examples_per_domain_per_label\": 10000, \"pickle_path\": \"/mnt/wd500GB/CSC500/csc500-main/datasets/oracle.Run2_10kExamples_stratified_ds.2022A.pkl\", \"source_or_target_dataset\": \"source\", \"x_transforms\": [\"unit_mag\"], \"episode_transforms\": [], \"domain_prefix\": \"ORACLE.run2_\"}], \"dataset_seed\": 154325, \"seed\": 154325, \"x_shape\": [2, 256], \"domains_source\": [\"ORACLE.run2_32\", \"ORACLE.run2_38\", \"ORACLE.run2_8\", \"ORACLE.run2_44\", \"ORACLE.run2_14\", \"ORACLE.run2_50\", \"ORACLE.run2_20\", \"ORACLE.run2_26\"], \"domains_target\": [\"ORACLE.run1_32\", \"ORACLE.run1_38\", \"ORACLE.run1_8\", \"ORACLE.run1_44\", \"ORACLE.run1_14\", \"ORACLE.run1_50\", \"ORACLE.run1_20\", \"ORACLE.run1_26\"]}, \"results\": {\"source_test_label_accuracy\": 0.728828125, \"source_test_label_loss\": 0.7616870999336243, \"target_test_label_accuracy\": 0.7319661458333333, \"target_test_label_loss\": 0.7375312447547913, \"source_val_label_accuracy\": 0.72892578125, \"source_val_label_loss\": 0.7597090005874634, \"target_val_label_accuracy\": 0.7301236979166666, \"target_val_label_loss\": 0.7406331300735474, \"total_epochs_trained\": 10, \"total_experiment_time_secs\": 9313.368448495865, \"confusion\": {\"ORACLE.run2_8\": {\"13\": {\"13\": 937, \"14\": 128, \"0\": 4, \"1\": 82, \"5\": 7, \"10\": 30, \"6\": 11, \"8\": 1}, \"9\": {\"9\": 1199, \"5\": 1}, \"15\": {\"8\": 116, \"12\": 166, \"11\": 138, \"15\": 766, \"3\": 11, \"7\": 3}, \"2\": {\"7\": 137, \"2\": 972, \"4\": 83, \"6\": 8}, \"3\": {\"3\": 1128, \"15\": 7, \"12\": 65}, \"8\": {\"8\": 1016, \"11\": 102, \"15\": 74, \"6\": 3, \"13\": 3, \"4\": 2}, \"5\": {\"5\": 982, \"10\": 185, \"13\": 8, \"0\": 4, \"1\": 20, \"14\": 1}, \"14\": {\"14\": 831, \"13\": 105, \"10\": 45, \"0\": 166, \"6\": 45, \"4\": 7, \"7\": 1}, \"1\": {\"1\": 1099, \"13\": 80, \"5\": 18, \"10\": 2, \"14\": 1}, \"0\": {\"0\": 846, \"14\": 176, \"10\": 161, \"6\": 9, \"13\": 2, \"5\": 1, \"4\": 4, \"2\": 1}, \"10\": {\"10\": 773, \"5\": 142, \"0\": 181, \"13\": 37, \"14\": 66, \"1\": 1}, \"6\": {\"6\": 564, \"7\": 211, \"0\": 2, \"4\": 370, \"14\": 44, \"2\": 6, \"8\": 1, \"13\": 2}, \"11\": {\"11\": 665, \"12\": 88, \"8\": 270, \"15\": 176, \"13\": 1}, \"7\": {\"7\": 625, \"6\": 202, \"4\": 267, \"2\": 105, \"8\": 1}, \"4\": {\"6\": 357, \"7\": 278, \"4\": 481, \"2\": 69, \"0\": 3, \"14\": 12}, \"12\": {\"12\": 1003, \"15\": 111, \"11\": 19, \"3\": 66, \"8\": 1}}, \"ORACLE.run2_38\": {\"13\": {\"3\": 182, \"13\": 754, \"8\": 99, \"5\": 41, \"10\": 24, \"6\": 4, \"7\": 20, \"1\": 29, \"2\": 10, \"15\": 27, \"0\": 5, \"9\": 2, \"14\": 3}, \"12\": {\"12\": 1173, \"4\": 11, \"14\": 16}, \"2\": {\"2\": 1083, \"14\": 117}, \"9\": {\"9\": 915, \"6\": 269, \"0\": 4, \"3\": 12}, \"15\": {\"15\": 660, \"8\": 211, \"5\": 162, \"1\": 126, \"3\": 7, \"13\": 4, \"0\": 6, \"9\": 3, \"6\": 13, \"7\": 6, \"10\": 2}, \"5\": {\"5\": 476, \"7\": 129, \"15\": 147, \"8\": 393, \"10\": 18, \"13\": 27, \"3\": 4, \"0\": 2, \"1\": 4}, \"14\": {\"12\": 66, \"14\": 803, \"2\": 271, \"13\": 1, \"10\": 8, \"7\": 15, \"11\": 20, \"8\": 8, \"5\": 7, \"4\": 1}, \"0\": {\"0\": 1027, \"3\": 121, \"9\": 5, \"10\": 31, \"13\": 3, \"7\": 9, \"5\": 1, \"8\": 2, \"6\": 1}, \"3\": {\"3\": 600, \"13\": 165, \"9\": 42, \"0\": 184, \"7\": 24, \"15\": 15, \"10\": 83, \"5\": 15, \"8\": 58, \"6\": 13, \"1\": 1}, \"1\": {\"1\": 1145, \"15\": 48, \"8\": 3, \"13\": 2, \"5\": 2}, \"11\": {\"11\": 1141, \"14\": 42, \"12\": 11, \"3\": 1, \"2\": 3, \"4\": 2}, \"7\": {\"7\": 652, \"5\": 125, \"8\": 110, \"10\": 291, \"13\": 14, \"15\": 2, \"3\": 4, \"0\": 2}, \"8\": {\"5\": 383, \"15\": 205, \"7\": 75, \"8\": 459, \"13\": 51, \"10\": 17, \"3\": 8, \"9\": 1, \"1\": 1}, \"4\": {\"4\": 1146, \"12\": 43, \"7\": 6, \"10\": 5}, \"10\": {\"7\": 360, \"10\": 716, \"8\": 24, \"3\": 43, \"0\": 8, \"5\": 21, \"13\": 28}, \"6\": {\"6\": 993, \"9\": 202, \"0\": 1, \"15\": 3, \"3\": 1}}, \"ORACLE.run2_26\": {\"10\": {\"6\": 93, \"0\": 241, \"14\": 171, \"4\": 66, \"10\": 406, \"1\": 73, \"8\": 101, \"9\": 10, \"3\": 3, \"2\": 9, \"12\": 4, \"7\": 17, \"15\": 5, \"5\": 1}, \"12\": {\"12\": 1200}, \"1\": {\"1\": 721, \"14\": 316, \"10\": 80, \"4\": 5, \"8\": 8, \"0\": 68, \"7\": 2}, \"0\": {\"10\": 179, \"1\": 85, \"0\": 482, \"6\": 3, \"14\": 220, \"4\": 110, \"15\": 7, \"8\": 93, \"2\": 12, \"7\": 6, \"3\": 2, \"9\": 1}, \"15\": {\"15\": 715, \"2\": 92, \"3\": 213, \"7\": 103, \"4\": 54, \"8\": 13, \"13\": 1, \"9\": 6, \"10\": 2, \"5\": 1}, \"13\": {\"13\": 894, \"5\": 181, \"9\": 91, \"8\": 2, \"6\": 29, \"2\": 1, \"0\": 1, \"7\": 1}, \"8\": {\"2\": 102, \"8\": 530, \"9\": 93, \"14\": 59, \"7\": 153, \"10\": 69, \"5\": 41, \"0\": 77, \"6\": 21, \"4\": 37, \"13\": 2, \"1\": 7, \"15\": 9}, \"3\": {\"3\": 751, \"4\": 65, \"15\": 165, \"2\": 132, \"7\": 83, \"8\": 2, \"5\": 1, \"0\": 1}, \"11\": {\"11\": 1199, \"12\": 1}, \"4\": {\"0\": 117, \"4\": 707, \"8\": 43, \"2\": 75, \"15\": 38, \"7\": 56, \"14\": 54, \"3\": 81, \"1\": 11, \"10\": 18}, \"6\": {\"6\": 954, \"9\": 140, \"10\": 27, \"13\": 32, \"5\": 19, \"8\": 26, \"7\": 1, \"14\": 1}, \"7\": {\"4\": 79, \"2\": 353, \"7\": 403, \"9\": 32, \"8\": 116, \"3\": 67, \"15\": 88, \"5\": 51, \"0\": 2, \"13\": 2, \"10\": 5, \"14\": 2}, \"14\": {\"14\": 406, \"4\": 53, \"0\": 214, \"1\": 265, \"8\": 70, \"10\": 170, \"7\": 12, \"3\": 1, \"6\": 4, \"2\": 5}, \"2\": {\"0\": 10, \"2\": 368, \"7\": 367, \"8\": 100, \"4\": 87, \"3\": 111, \"15\": 92, \"10\": 6, \"5\": 34, \"14\": 11, \"9\": 11, \"13\": 2, \"1\": 1}, \"5\": {\"9\": 80, \"13\": 250, \"5\": 542, \"8\": 46, \"7\": 104, \"6\": 94, \"2\": 58, \"3\": 12, \"10\": 7, \"14\": 2, \"15\": 5}, \"9\": {\"5\": 86, \"9\": 730, \"7\": 37, \"8\": 95, \"13\": 98, \"2\": 15, \"6\": 131, \"15\": 5, \"10\": 3}}, \"ORACLE.run2_20\": {\"5\": {\"3\": 181, \"5\": 445, \"8\": 12, \"12\": 94, \"15\": 78, \"0\": 101, \"4\": 23, \"2\": 144, \"9\": 52, \"1\": 27, \"7\": 37, \"13\": 6}, \"15\": {\"15\": 560, \"0\": 65, \"13\": 236, \"5\": 45, \"1\": 84, \"2\": 83, \"12\": 67, \"3\": 7, \"9\": 53}, \"9\": {\"12\": 139, \"9\": 477, \"3\": 115, \"2\": 293, \"15\": 58, \"5\": 54, \"1\": 43, \"4\": 5, \"13\": 11, \"0\": 4, \"7\": 1}, \"7\": {\"7\": 961, \"8\": 88, \"3\": 111, \"5\": 19, \"10\": 9, \"2\": 7, \"9\": 2, \"11\": 1, \"15\": 1, \"6\": 1}, \"3\": {\"4\": 32, \"3\": 481, \"9\": 124, \"2\": 174, \"7\": 161, \"12\": 45, \"0\": 4, \"5\": 166, \"15\": 6, \"10\": 4, \"8\": 3}, \"8\": {\"14\": 113, \"8\": 839, \"6\": 25, \"7\": 136, \"4\": 43, \"5\": 8, \"10\": 31, \"3\": 5}, \"4\": {\"4\": 1065, \"12\": 42, \"0\": 14, \"5\": 30, \"9\": 3, \"3\": 23, \"1\": 4, \"2\": 2, \"10\": 6, \"7\": 1, \"8\": 10}, \"6\": {\"6\": 1094, \"14\": 78, \"8\": 14, \"10\": 8, \"7\": 6}, \"2\": {\"13\": 24, \"9\": 289, \"5\": 126, \"2\": 390, \"3\": 173, \"15\": 122, \"12\": 54, \"0\": 5, \"7\": 6, \"1\": 8, \"4\": 3}, \"12\": {\"1\": 233, \"12\": 473, \"2\": 69, \"4\": 25, \"0\": 66, \"15\": 83, \"9\": 122, \"3\": 23, \"5\": 104, \"13\": 2}, \"0\": {\"0\": 867, \"5\": 100, \"1\": 65, \"4\": 20, \"12\": 60, \"3\": 1, \"15\": 62, \"2\": 8, \"8\": 1, \"13\": 15, \"9\": 1}, \"13\": {\"13\": 870, \"15\": 283, \"1\": 14, \"2\": 15, \"9\": 3, \"5\": 8, \"0\": 4, \"12\": 3}, \"10\": {\"10\": 1028, \"14\": 87, \"8\": 34, \"7\": 12, \"3\": 3, \"4\": 14, \"6\": 22}, \"11\": {\"11\": 1200}, \"14\": {\"14\": 909, \"8\": 108, \"10\": 81, \"6\": 101, \"7\": 1}, \"1\": {\"1\": 674, \"12\": 272, \"2\": 15, \"0\": 67, \"15\": 91, \"9\": 53, \"13\": 11, \"5\": 11, \"3\": 2, \"4\": 4}}, \"ORACLE.run2_50\": {\"1\": {\"1\": 947, \"14\": 1, \"6\": 160, \"15\": 46, \"4\": 37, \"5\": 6, \"2\": 2, \"0\": 1}, \"2\": {\"2\": 1138, \"0\": 62}, \"8\": {\"8\": 1176, \"3\": 23, \"7\": 1}, \"7\": {\"5\": 97, \"7\": 676, \"13\": 346, \"4\": 9, \"10\": 67, \"6\": 5}, \"14\": {\"14\": 1187, \"12\": 7, \"15\": 1, \"11\": 5}, \"6\": {\"6\": 815, \"4\": 137, \"1\": 172, \"5\": 66, \"15\": 6, \"7\": 2, \"10\": 1, \"2\": 1}, \"3\": {\"3\": 1161, \"8\": 39}, \"4\": {\"5\": 297, \"4\": 691, \"6\": 138, \"15\": 1, \"1\": 59, \"10\": 3, \"7\": 9, \"13\": 2}, \"12\": {\"12\": 1107, \"9\": 53, \"14\": 25, \"11\": 15}, \"15\": {\"15\": 1088, \"1\": 65, \"11\": 38, \"6\": 9}, \"11\": {\"11\": 1109, \"15\": 45, \"9\": 21, \"14\": 12, \"12\": 13}, \"0\": {\"0\": 1122, \"2\": 65, \"10\": 12, \"5\": 1}, \"9\": {\"9\": 1136, \"12\": 47, \"11\": 17}, \"10\": {\"10\": 940, \"13\": 179, \"0\": 16, \"7\": 38, \"5\": 26, \"4\": 1}, \"5\": {\"5\": 639, \"6\": 53, \"7\": 88, \"10\": 47, \"4\": 302, \"13\": 59, \"1\": 7, \"0\": 5}, \"13\": {\"7\": 246, \"13\": 735, \"10\": 182, \"5\": 33, \"4\": 4}}, \"ORACLE.run2_32\": {\"2\": {\"11\": 10, \"2\": 1004, \"14\": 74, \"4\": 26, \"7\": 15, \"5\": 58, \"0\": 13}, \"6\": {\"6\": 1200}, \"5\": {\"2\": 143, \"14\": 71, \"11\": 4, \"8\": 105, \"0\": 155, \"5\": 526, \"13\": 39, \"4\": 146, \"7\": 10, \"3\": 1}, \"12\": {\"12\": 1200}, \"13\": {\"13\": 694, \"4\": 234, \"0\": 29, \"7\": 113, \"11\": 57, \"8\": 49, \"3\": 14, \"5\": 9, \"2\": 1}, \"9\": {\"9\": 1179, \"14\": 19, \"2\": 2}, \"11\": {\"7\": 196, \"11\": 689, \"5\": 11, \"13\": 61, \"4\": 56, \"0\": 165, \"8\": 6, \"2\": 15, \"14\": 1}, \"1\": {\"1\": 1192, \"10\": 8}, \"3\": {\"3\": 1156, \"8\": 16, \"13\": 26, \"11\": 2}, \"7\": {\"7\": 731, \"11\": 210, \"13\": 115, \"4\": 102, \"0\": 19, \"2\": 14, \"5\": 8, \"3\": 1}, \"14\": {\"14\": 1036, \"11\": 14, \"5\": 21, \"4\": 4, \"2\": 98, \"0\": 27}, \"8\": {\"8\": 958, \"11\": 6, \"3\": 14, \"5\": 56, \"13\": 48, \"0\": 73, \"4\": 41, \"15\": 4}, \"4\": {\"5\": 133, \"11\": 50, \"13\": 210, \"4\": 578, \"7\": 91, \"0\": 92, \"2\": 26, \"8\": 20}, \"0\": {\"11\": 176, \"0\": 642, \"2\": 17, \"8\": 71, \"13\": 31, \"4\": 103, \"5\": 129, \"7\": 21, \"14\": 10}, \"10\": {\"10\": 1189, \"1\": 11}, \"15\": {\"15\": 1197, \"8\": 3}}, \"ORACLE.run2_44\": {\"13\": {\"13\": 1149, \"4\": 30, \"6\": 18, \"14\": 2, \"15\": 1}, \"4\": {\"4\": 1078, \"13\": 10, \"14\": 83, \"5\": 1, \"15\": 28}, \"6\": {\"6\": 1109, \"2\": 1, \"7\": 27, \"9\": 39, \"13\": 21, \"11\": 3}, \"0\": {\"0\": 648, \"8\": 544, \"5\": 3, \"15\": 5}, \"10\": {\"10\": 1150, \"12\": 33, \"1\": 16, \"7\": 1}, \"7\": {\"7\": 625, \"2\": 236, \"9\": 311, \"6\": 18, \"1\": 9, \"3\": 1}, \"14\": {\"14\": 903, \"15\": 137, \"5\": 87, \"4\": 70, \"0\": 1, \"8\": 2}, \"15\": {\"15\": 985, \"14\": 152, \"4\": 38, \"8\": 19, \"5\": 4, \"0\": 2}, \"5\": {\"5\": 1098, \"14\": 82, \"8\": 14, \"15\": 5, \"0\": 1}, \"2\": {\"9\": 305, \"7\": 223, \"2\": 666, \"1\": 3, \"6\": 1, \"3\": 2}, \"9\": {\"9\": 553, \"2\": 340, \"7\": 268, \"6\": 34, \"1\": 5}, \"12\": {\"12\": 859, \"3\": 65, \"1\": 273, \"10\": 3}, \"8\": {\"8\": 721, \"0\": 460, \"5\": 12, \"14\": 1, \"15\": 6}, \"3\": {\"3\": 1001, \"1\": 132, \"12\": 66, \"2\": 1}, \"1\": {\"12\": 293, \"1\": 778, \"3\": 119, \"7\": 7, \"10\": 1, \"2\": 2}, \"11\": {\"11\": 1177, \"6\": 21, \"9\": 1, \"7\": 1}}, \"ORACLE.run2_14\": {\"1\": {\"1\": 1086, \"4\": 30, \"5\": 81, \"3\": 2, \"7\": 1}, \"15\": {\"15\": 1180, \"7\": 20}, \"10\": {\"10\": 1145, \"0\": 51, \"11\": 3, \"14\": 1}, \"2\": {\"4\": 90, \"2\": 554, \"5\": 141, \"6\": 51, \"14\": 189, \"3\": 80, \"13\": 85, \"15\": 3, \"1\": 4, \"7\": 3}, \"9\": {\"9\": 1199, \"11\": 1}, \"5\": {\"5\": 641, \"4\": 296, \"1\": 105, \"3\": 83, \"2\": 75}, \"7\": {\"7\": 1197, \"15\": 3}, \"13\": {\"13\": 883, \"6\": 284, \"2\": 31, \"4\": 1, \"14\": 1}, \"8\": {\"8\": 1200}, \"6\": {\"6\": 843, \"13\": 260, \"2\": 46, \"14\": 49, \"4\": 2}, \"3\": {\"2\": 17, \"3\": 1017, \"5\": 60, \"4\": 69, \"14\": 32, \"1\": 3, \"0\": 2}, \"12\": {\"12\": 665, \"11\": 309, \"0\": 71, \"9\": 105, \"10\": 18, \"8\": 31, \"2\": 1}, \"0\": {\"0\": 1190, \"10\": 8, \"3\": 1, \"12\": 1}, \"4\": {\"4\": 758, \"5\": 303, \"2\": 48, \"1\": 37, \"3\": 49, \"6\": 2, \"14\": 3}, \"14\": {\"14\": 929, \"2\": 128, \"6\": 76, \"4\": 10, \"3\": 46, \"0\": 1, \"5\": 5, \"13\": 5}, \"11\": {\"11\": 1167, \"0\": 3, \"12\": 29, \"9\": 1}}, \"ORACLE.run1_8\": {\"13\": {\"0\": 314, \"10\": 108, \"13\": 426, \"4\": 173, \"14\": 111, \"6\": 59, \"1\": 1, \"7\": 7, \"5\": 1}, \"9\": {\"9\": 1200}, \"15\": {\"15\": 890, \"12\": 245, \"8\": 49, \"3\": 7, \"2\": 7, \"6\": 1, \"7\": 1}, \"2\": {\"2\": 985, \"3\": 159, \"7\": 30, \"15\": 22, \"6\": 1, \"12\": 3}, \"3\": {\"3\": 1060, \"2\": 93, \"12\": 46, \"15\": 1}, \"8\": {\"8\": 1160, \"15\": 34, \"12\": 3, \"7\": 2, \"6\": 1}, \"5\": {\"5\": 1052, \"10\": 82, \"14\": 15, \"1\": 47, \"11\": 4}, \"14\": {\"14\": 635, \"1\": 36, \"10\": 258, \"4\": 173, \"13\": 87, \"11\": 5, \"5\": 4, \"0\": 2}, \"1\": {\"1\": 876, \"11\": 280, \"14\": 23, \"5\": 17, \"10\": 4}, \"0\": {\"7\": 69, \"0\": 776, \"13\": 249, \"6\": 65, \"4\": 37, \"10\": 2, \"14\": 2}, \"10\": {\"10\": 793, \"14\": 263, \"4\": 28, \"13\": 88, \"5\": 26, \"1\": 2}, \"6\": {\"6\": 748, \"7\": 223, \"4\": 117, \"13\": 40, \"0\": 63, \"14\": 5, \"8\": 4}, \"11\": {\"11\": 760, \"1\": 415, \"5\": 16, \"14\": 5, \"10\": 3, \"8\": 1}, \"7\": {\"7\": 900, \"6\": 248, \"0\": 45, \"13\": 4, \"8\": 2, \"4\": 1}, \"4\": {\"4\": 663, \"14\": 143, \"13\": 219, \"10\": 30, \"6\": 108, \"0\": 37}, \"12\": {\"15\": 363, \"12\": 639, \"3\": 165, \"8\": 25, \"2\": 7, \"7\": 1}}, \"ORACLE.run1_38\": {\"13\": {\"10\": 88, \"15\": 165, \"13\": 905, \"2\": 18, \"1\": 6, \"8\": 11, \"5\": 6, \"0\": 1}, \"12\": {\"12\": 1160, \"4\": 39, \"10\": 1}, \"2\": {\"2\": 1134, \"14\": 49, \"13\": 13, \"10\": 1, \"15\": 3}, \"9\": {\"6\": 231, \"9\": 936, \"5\": 16, \"3\": 15, \"0\": 1, \"7\": 1}, \"15\": {\"15\": 911, \"13\": 128, \"5\": 26, \"8\": 41, \"1\": 85, \"2\": 4, \"0\": 2, \"6\": 1, \"10\": 2}, \"5\": {\"5\": 503, \"6\": 48, \"8\": 353, \"3\": 9, \"0\": 90, \"7\": 63, \"9\": 44, \"15\": 66, \"10\": 6, \"1\": 12, \"13\": 6}, \"14\": {\"14\": 1081, \"2\": 86, \"11\": 27, \"10\": 4, \"12\": 1, \"13\": 1}, \"0\": {\"0\": 547, \"3\": 80, \"8\": 230, \"7\": 199, \"5\": 114, \"10\": 20, \"9\": 6, \"12\": 2, \"15\": 1, \"13\": 1}, \"3\": {\"3\": 1152, \"0\": 13, \"9\": 30, \"5\": 3, \"7\": 1, \"6\": 1}, \"1\": {\"1\": 1160, \"15\": 40}, \"11\": {\"11\": 1065, \"13\": 1, \"14\": 120, \"10\": 10, \"2\": 4}, \"7\": {\"8\": 38, \"7\": 969, \"0\": 129, \"5\": 57, \"9\": 2, \"3\": 4, \"10\": 1}, \"8\": {\"8\": 754, \"0\": 91, \"10\": 21, \"5\": 252, \"7\": 38, \"15\": 36, \"13\": 7, \"1\": 1}, \"4\": {\"4\": 1144, \"12\": 56}, \"10\": {\"13\": 127, \"10\": 945, \"8\": 38, \"14\": 23, \"12\": 10, \"0\": 22, \"2\": 7, \"5\": 10, \"4\": 2, \"11\": 5, \"15\": 7, \"7\": 4}, \"6\": {\"6\": 1081, \"9\": 114, \"5\": 4, \"8\": 1}}, \"ORACLE.run1_26\": {\"10\": {\"10\": 490, \"8\": 171, \"14\": 104, \"1\": 25, \"0\": 269, \"6\": 65, \"4\": 52, \"9\": 16, \"5\": 2, \"15\": 5, \"7\": 1}, \"12\": {\"12\": 1196, \"11\": 4}, \"1\": {\"1\": 753, \"14\": 228, \"0\": 38, \"4\": 136, \"7\": 6, \"8\": 4, \"3\": 3, \"10\": 32}, \"0\": {\"14\": 235, \"8\": 117, \"10\": 248, \"0\": 374, \"6\": 16, \"4\": 154, \"1\": 35, \"15\": 3, \"7\": 13, \"9\": 5}, \"15\": {\"15\": 461, \"10\": 7, \"5\": 129, \"8\": 75, \"9\": 396, \"13\": 55, \"7\": 11, \"2\": 27, \"6\": 32, \"0\": 6, \"3\": 1}, \"13\": {\"5\": 193, \"13\": 873, \"9\": 34, \"15\": 74, \"2\": 21, \"6\": 5}, \"8\": {\"1\": 1, \"10\": 169, \"7\": 90, \"15\": 73, \"4\": 85, \"0\": 105, \"8\": 477, \"9\": 103, \"6\": 42, \"5\": 21, \"14\": 19, \"2\": 13, \"3\": 2}, \"3\": {\"3\": 723, \"7\": 187, \"2\": 283, \"4\": 3, \"5\": 2, \"8\": 1, \"0\": 1}, \"11\": {\"11\": 1193, \"12\": 7}, \"4\": {\"0\": 156, \"1\": 103, \"4\": 489, \"8\": 78, \"14\": 226, \"7\": 92, \"10\": 55, \"3\": 1}, \"6\": {\"6\": 866, \"10\": 84, \"9\": 161, \"8\": 30, \"13\": 9, \"15\": 36, \"0\": 10, \"5\": 3, \"4\": 1}, \"7\": {\"3\": 150, \"0\": 22, \"8\": 81, \"7\": 652, \"4\": 130, \"9\": 8, \"2\": 129, \"15\": 15, \"14\": 11, \"10\": 2}, \"14\": {\"8\": 29, \"1\": 177, \"0\": 212, \"4\": 240, \"14\": 421, \"10\": 111, \"7\": 9, \"9\": 1}, \"2\": {\"2\": 455, \"7\": 134, \"3\": 373, \"5\": 112, \"4\": 5, \"8\": 34, \"15\": 62, \"9\": 19, \"13\": 5, \"0\": 1}, \"5\": {\"5\": 773, \"13\": 165, \"15\": 123, \"9\": 57, \"8\": 24, \"2\": 48, \"10\": 1, \"6\": 4, \"7\": 4, \"3\": 1}, \"9\": {\"9\": 476, \"5\": 42, \"6\": 151, \"15\": 366, \"8\": 93, \"10\": 12, \"13\": 48, \"7\": 1, \"0\": 4, \"2\": 7}}, \"ORACLE.run1_20\": {\"5\": {\"5\": 468, \"3\": 46, \"12\": 137, \"0\": 235, \"1\": 205, \"15\": 95, \"9\": 5, \"4\": 6, \"2\": 2, \"13\": 1}, \"15\": {\"15\": 781, \"1\": 201, \"5\": 80, \"9\": 4, \"0\": 78, \"12\": 22, \"13\": 32, \"2\": 1, \"3\": 1}, \"9\": {\"2\": 276, \"3\": 204, \"9\": 540, \"12\": 115, \"1\": 14, \"5\": 6, \"15\": 5, \"7\": 28, \"13\": 11, \"4\": 1}, \"7\": {\"7\": 932, \"6\": 3, \"2\": 128, \"3\": 33, \"9\": 46, \"8\": 51, \"13\": 3, \"11\": 1, \"10\": 1, \"4\": 2}, \"3\": {\"3\": 530, \"12\": 265, \"2\": 73, \"9\": 189, \"4\": 45, \"5\": 46, \"7\": 22, \"8\": 4, \"0\": 11, \"1\": 15}, \"8\": {\"8\": 937, \"3\": 8, \"4\": 116, \"10\": 19, \"14\": 41, \"7\": 70, \"6\": 7, \"0\": 2}, \"4\": {\"4\": 1019, \"8\": 94, \"10\": 22, \"3\": 52, \"7\": 3, \"5\": 4, \"9\": 1, \"14\": 2, \"12\": 2, \"0\": 1}, \"6\": {\"6\": 1066, \"14\": 118, \"8\": 9, \"7\": 6, \"10\": 1}, \"2\": {\"13\": 56, \"2\": 576, \"12\": 50, \"9\": 314, \"7\": 118, \"3\": 66, \"1\": 7, \"0\": 5, \"15\": 3, \"5\": 4, \"4\": 1}, \"12\": {\"1\": 151, \"9\": 119, \"3\": 235, \"5\": 133, \"12\": 463, \"0\": 27, \"2\": 46, \"15\": 23, \"4\": 3}, \"0\": {\"5\": 285, \"0\": 682, \"2\": 9, \"12\": 27, \"15\": 113, \"1\": 40, \"13\": 6, \"4\": 5, \"3\": 19, \"8\": 4, \"7\": 8, \"9\": 2}, \"13\": {\"13\": 1106, \"15\": 24, \"2\": 58, \"9\": 6, \"5\": 1, \"12\": 2, \"1\": 2, \"0\": 1}, \"10\": {\"10\": 1095, \"14\": 70, \"8\": 17, \"4\": 13, \"6\": 4, \"3\": 1}, \"11\": {\"11\": 1199, \"7\": 1}, \"14\": {\"14\": 958, \"10\": 87, \"8\": 37, \"6\": 117, \"7\": 1}, \"1\": {\"1\": 556, \"3\": 19, \"0\": 27, \"12\": 190, \"15\": 198, \"5\": 184, \"9\": 20, \"13\": 4, \"2\": 2}}, \"ORACLE.run1_50\": {\"1\": {\"1\": 796, \"15\": 210, \"6\": 92, \"4\": 84, \"5\": 9, \"14\": 3, \"11\": 2, \"0\": 3, \"2\": 1}, \"2\": {\"2\": 1125, \"0\": 75}, \"8\": {\"8\": 1171, \"3\": 9, \"10\": 20}, \"7\": {\"7\": 772, \"5\": 167, \"13\": 222, \"10\": 24, \"4\": 7, \"6\": 8}, \"14\": {\"14\": 1190, \"11\": 3, \"12\": 7}, \"6\": {\"6\": 870, \"1\": 93, \"5\": 45, \"4\": 100, \"13\": 70, \"15\": 14, \"7\": 5, \"0\": 2, \"10\": 1}, \"3\": {\"3\": 1183, \"8\": 17}, \"4\": {\"4\": 597, \"6\": 112, \"5\": 111, \"7\": 37, \"15\": 154, \"1\": 158, \"13\": 29, \"11\": 2}, \"12\": {\"12\": 1107, \"14\": 37, \"9\": 50, \"11\": 6}, \"15\": {\"15\": 890, \"1\": 191, \"11\": 25, \"6\": 19, \"4\": 75}, \"11\": {\"11\": 1044, \"15\": 33, \"9\": 107, \"14\": 11, \"12\": 2, \"1\": 2, \"4\": 1}, \"0\": {\"2\": 108, \"0\": 1061, \"10\": 30, \"13\": 1}, \"9\": {\"12\": 77, \"9\": 941, \"11\": 181, \"14\": 1}, \"10\": {\"10\": 1098, \"0\": 40, \"8\": 16, \"13\": 26, \"7\": 18, \"5\": 2}, \"5\": {\"5\": 414, \"4\": 134, \"7\": 294, \"1\": 46, \"6\": 86, \"13\": 218, \"10\": 6, \"0\": 1, \"15\": 1}, \"13\": {\"6\": 47, \"13\": 838, \"0\": 4, \"7\": 140, \"5\": 154, \"4\": 8, \"10\": 8, \"1\": 1}}, \"ORACLE.run1_32\": {\"2\": {\"2\": 1023, \"0\": 15, \"4\": 150, \"7\": 11, \"5\": 1}, \"6\": {\"6\": 1200}, \"5\": {\"13\": 258, \"4\": 136, \"5\": 429, \"7\": 155, \"8\": 85, \"14\": 36, \"3\": 39, \"2\": 16, \"0\": 36, \"11\": 10}, \"12\": {\"12\": 1200}, \"13\": {\"13\": 556, \"11\": 26, \"4\": 80, \"3\": 102, \"5\": 238, \"7\": 88, \"14\": 29, \"8\": 67, \"0\": 13, \"2\": 1}, \"9\": {\"9\": 1200}, \"11\": {\"14\": 171, \"11\": 992, \"3\": 10, \"5\": 3, \"13\": 11, \"7\": 13}, \"1\": {\"1\": 1190, \"10\": 10}, \"3\": {\"3\": 1118, \"11\": 17, \"5\": 12, \"13\": 42, \"8\": 8, \"14\": 3}, \"7\": {\"7\": 565, \"5\": 163, \"4\": 152, \"14\": 155, \"8\": 8, \"11\": 23, \"2\": 28, \"0\": 19, \"13\": 87}, \"14\": {\"14\": 484, \"11\": 283, \"0\": 76, \"5\": 48, \"13\": 32, \"7\": 219, \"2\": 21, \"8\": 9, \"4\": 19, \"3\": 9}, \"8\": {\"8\": 944, \"13\": 88, \"5\": 71, \"0\": 75, \"3\": 7, \"4\": 6, \"7\": 5, \"14\": 4}, \"4\": {\"2\": 170, \"4\": 726, \"7\": 129, \"5\": 91, \"8\": 3, \"0\": 36, \"13\": 36, \"14\": 9}, \"0\": {\"0\": 906, \"8\": 100, \"7\": 31, \"4\": 54, \"5\": 36, \"13\": 10, \"14\": 24, \"2\": 39}, \"10\": {\"10\": 1193, \"1\": 7}, \"15\": {\"15\": 1193, \"8\": 7}}, \"ORACLE.run1_44\": {\"13\": {\"13\": 792, \"9\": 126, \"6\": 221, \"11\": 45, \"7\": 11, \"4\": 5}, \"4\": {\"4\": 822, \"14\": 372, \"15\": 6}, \"6\": {\"6\": 855, \"13\": 223, \"9\": 82, \"2\": 1, \"7\": 30, \"11\": 9}, \"0\": {\"0\": 769, \"8\": 326, \"15\": 53, \"5\": 52}, \"10\": {\"10\": 879, \"2\": 92, \"1\": 126, \"12\": 102, \"7\": 1}, \"7\": {\"7\": 784, \"6\": 31, \"2\": 153, \"9\": 225, \"3\": 2, \"13\": 3, \"1\": 2}, \"14\": {\"4\": 310, \"14\": 788, \"5\": 30, \"15\": 72}, \"15\": {\"15\": 972, \"0\": 87, \"8\": 22, \"4\": 8, \"5\": 33, \"14\": 78}, \"5\": {\"5\": 1019, \"0\": 88, \"8\": 18, \"14\": 47, \"15\": 27, \"4\": 1}, \"2\": {\"2\": 901, \"7\": 173, \"10\": 81, \"1\": 37, \"9\": 5, \"3\": 3}, \"9\": {\"13\": 108, \"9\": 703, \"7\": 278, \"6\": 95, \"4\": 3, \"2\": 13}, \"12\": {\"1\": 201, \"12\": 946, \"10\": 44, \"3\": 8, \"2\": 1}, \"8\": {\"8\": 724, \"0\": 427, \"5\": 14, \"15\": 35}, \"3\": {\"3\": 1089, \"1\": 97, \"12\": 11, \"2\": 3}, \"1\": {\"1\": 737, \"3\": 137, \"12\": 191, \"10\": 92, \"2\": 42, \"7\": 1}, \"11\": {\"11\": 1114, \"6\": 14, \"13\": 72}}, \"ORACLE.run1_14\": {\"1\": {\"1\": 1048, \"5\": 135, \"3\": 1, \"4\": 15, \"7\": 1}, \"15\": {\"15\": 1171, \"7\": 27, \"5\": 2}, \"10\": {\"10\": 1164, \"0\": 36}, \"2\": {\"2\": 594, \"5\": 129, \"14\": 168, \"4\": 80, \"6\": 78, \"13\": 68, \"3\": 60, \"15\": 22, \"1\": 1}, \"9\": {\"9\": 1195, \"12\": 4, \"11\": 1}, \"5\": {\"2\": 31, \"5\": 784, \"1\": 177, \"4\": 189, \"3\": 13, \"15\": 3, \"7\": 3}, \"7\": {\"7\": 1180, \"15\": 15, \"1\": 3, \"5\": 2}, \"13\": {\"13\": 410, \"6\": 486, \"2\": 100, \"14\": 188, \"5\": 11, \"4\": 4, \"15\": 1}, \"8\": {\"8\": 1200}, \"6\": {\"13\": 424, \"6\": 666, \"14\": 65, \"2\": 44, \"4\": 1}, \"3\": {\"3\": 1067, \"4\": 97, \"5\": 4, \"0\": 4, \"2\": 13, \"14\": 14, \"6\": 1}, \"12\": {\"12\": 1197, \"9\": 3}, \"0\": {\"0\": 1089, \"11\": 29, \"10\": 65, \"3\": 16, \"8\": 1}, \"4\": {\"5\": 177, \"2\": 35, \"4\": 859, \"3\": 112, \"1\": 16, \"14\": 1}, \"14\": {\"14\": 987, \"13\": 78, \"2\": 69, \"6\": 40, \"3\": 23, \"4\": 3}, \"11\": {\"11\": 1036, \"9\": 86, \"10\": 5, \"0\": 73}}}, \"per_domain_accuracy\": {\"ORACLE.run2_8\": {\"accuracy\": 0.72328125, \"source?\": true}, \"ORACLE.run2_38\": {\"accuracy\": 0.71578125, \"source?\": true}, \"ORACLE.run2_26\": {\"accuracy\": 0.5733333333333334, \"source?\": true}, \"ORACLE.run2_20\": {\"accuracy\": 0.64234375, \"source?\": true}, \"ORACLE.run2_50\": {\"accuracy\": 0.8159895833333334, \"source?\": true}, \"ORACLE.run2_32\": {\"accuracy\": 0.79015625, \"source?\": true}, \"ORACLE.run2_44\": {\"accuracy\": 0.7552083333333334, \"source?\": true}, \"ORACLE.run2_14\": {\"accuracy\": 0.8153125, \"source?\": true}, \"ORACLE.run1_8\": {\"accuracy\": 0.70640625, \"source?\": false}, \"ORACLE.run1_38\": {\"accuracy\": 0.80453125, \"source?\": false}, \"ORACLE.run1_26\": {\"accuracy\": 0.5558333333333333, \"source?\": false}, \"ORACLE.run1_20\": {\"accuracy\": 0.6722916666666666, \"source?\": false}, \"ORACLE.run1_50\": {\"accuracy\": 0.7863020833333333, \"source?\": false}, \"ORACLE.run1_32\": {\"accuracy\": 0.77703125, \"source?\": false}, \"ORACLE.run1_44\": {\"accuracy\": 0.7236458333333333, \"source?\": false}, \"ORACLE.run1_14\": {\"accuracy\": 0.8149479166666667, \"source?\": false}}}, \"history\": {\"epoch_indices\": [1, 2, 3, 4, 5, 6, 7, 8, 9, 10], \"train_label_loss\": [1.1276625647431329, 0.8953239782190039, 0.8033538769260936, 0.700481760561067, 0.6212535314419351, 0.5641873202366489, 0.5222004949042042, 0.48299617713073356, 0.44816875150416136, 0.41578131917786476], \"source_val_label_loss\": [1.0269780158996582, 0.9307897090911865, 0.8597973585128784, 0.7940254807472229, 0.7712173461914062, 0.7597090005874634, 0.7814329266548157, 0.7786597013473511, 0.7859246730804443, 0.8078390955924988], \"target_val_label_loss\": [0.9963799118995667, 0.8907395601272583, 0.8278971910476685, 0.7662050127983093, 0.7518888711929321, 0.7406331300735474, 0.7713383436203003, 0.764328122138977, 0.7743847966194153, 0.8028265833854675], \"source_val_acc_label\": [0.6402734375, 0.6495768229166666, 0.686328125, 0.71095703125, 0.72734375, 0.72892578125, 0.7287369791666667, 0.7236848958333333, 0.7253125, 0.7285026041666667], \"target_val_acc_label\": [0.6514908854166667, 0.6645638020833333, 0.6963541666666667, 0.7167513020833334, 0.72923828125, 0.7301236979166666, 0.7292578125, 0.72623046875, 0.7261979166666667, 0.7287825520833333]}, \"dataset_metrics\": {\"source\": {\"train\": {\"n_unique_x\": 896000, \"n_unique_y\": 16, \"n_batch/episode\": 33600}, \"val\": {\"n_unique_x\": 192000, \"n_unique_y\": 16, \"n_batch/episode\": 4800}, \"test\": {\"n_unique_x\": 192000, \"n_unique_y\": 16, \"n_batch/episode\": 4800}}, \"target\": {\"train\": {\"n_unique_x\": 896000, \"n_unique_y\": 16, \"n_batch/episode\": 33600}, \"val\": {\"n_unique_x\": 192000, \"n_unique_y\": 16, \"n_batch/episode\": 4800}, \"test\": {\"n_unique_x\": 192000, \"n_unique_y\": 16, \"n_batch/episode\": 4800}}}}'"
      ]
     },
     "execution_count": 29,
     "metadata": {},
     "output_type": "execute_result"
    }
   ],
   "source": [
    "json.dumps(experiment)"
   ]
  }
 ],
 "metadata": {
  "celltoolbar": "Tags",
  "kernelspec": {
   "display_name": "Python 3 (ipykernel)",
   "language": "python",
   "name": "python3"
  },
  "language_info": {
   "codemirror_mode": {
    "name": "ipython",
    "version": 3
   },
   "file_extension": ".py",
   "mimetype": "text/x-python",
   "name": "python",
   "nbconvert_exporter": "python",
   "pygments_lexer": "ipython3",
   "version": "3.8.10"
  },
  "papermill": {
   "default_parameters": {},
   "duration": 9797.338833,
   "end_time": "2022-03-27T09:41:35.724310",
   "environment_variables": {},
   "exception": null,
   "input_path": "/mnt/wd500GB/CSC500/csc500-main/csc500-notebooks/templates/tl_ptn_template.ipynb",
   "output_path": "trial.ipynb",
   "parameters": {
    "parameters": {
     "BEST_MODEL_PATH": "./best_model.pth",
     "NUM_LOGS_PER_EPOCH": 10,
     "criteria_for_best": "target_accuracy",
     "dataset_seed": 154325,
     "datasets": [
      {
       "domain_prefix": "ORACLE.run1_",
       "domains": [
        32,
        38,
        8,
        44,
        14,
        50,
        20,
        26
       ],
       "episode_transforms": [],
       "labels": [
        "3123D52",
        "3123D65",
        "3123D79",
        "3123D80",
        "3123D54",
        "3123D70",
        "3123D7B",
        "3123D89",
        "3123D58",
        "3123D76",
        "3123D7D",
        "3123EFE",
        "3123D64",
        "3123D78",
        "3123D7E",
        "3124E4A"
       ],
       "num_examples_per_domain_per_label": 10000,
       "pickle_path": "/mnt/wd500GB/CSC500/csc500-main/datasets/oracle.Run1_10kExamples_stratified_ds.2022A.pkl",
       "source_or_target_dataset": "target",
       "x_transforms": [
        "unit_mag"
       ]
      },
      {
       "domain_prefix": "ORACLE.run2_",
       "domains": [
        32,
        38,
        8,
        44,
        14,
        50,
        20,
        26
       ],
       "episode_transforms": [],
       "labels": [
        "3123D52",
        "3123D65",
        "3123D79",
        "3123D80",
        "3123D54",
        "3123D70",
        "3123D7B",
        "3123D89",
        "3123D58",
        "3123D76",
        "3123D7D",
        "3123EFE",
        "3123D64",
        "3123D78",
        "3123D7E",
        "3124E4A"
       ],
       "num_examples_per_domain_per_label": 10000,
       "pickle_path": "/mnt/wd500GB/CSC500/csc500-main/datasets/oracle.Run2_10kExamples_stratified_ds.2022A.pkl",
       "source_or_target_dataset": "source",
       "x_transforms": [
        "unit_mag"
       ]
      }
     ],
     "device": "cuda",
     "experiment_name": "tl_1v2:oracle.run1-oracle.run2",
     "lr": 0.0001,
     "n_epoch": 50,
     "n_query": 2,
     "n_shot": 3,
     "n_way": 16,
     "patience": 3,
     "seed": 154325,
     "test_k_factor": 2,
     "torch_default_dtype": "torch.float32",
     "train_k_factor": 3,
     "val_k_factor": 2,
     "x_net": [
      {
       "class": "nnReshape",
       "kargs": {
        "shape": [
         -1,
         1,
         2,
         256
        ]
       }
      },
      {
       "class": "Conv2d",
       "kargs": {
        "bias": false,
        "in_channels": 1,
        "kernel_size": [
         1,
         7
        ],
        "out_channels": 256,
        "padding": [
         0,
         3
        ]
       }
      },
      {
       "class": "ReLU",
       "kargs": {
        "inplace": true
       }
      },
      {
       "class": "BatchNorm2d",
       "kargs": {
        "num_features": 256
       }
      },
      {
       "class": "Conv2d",
       "kargs": {
        "bias": true,
        "in_channels": 256,
        "kernel_size": [
         2,
         7
        ],
        "out_channels": 80,
        "padding": [
         0,
         3
        ]
       }
      },
      {
       "class": "ReLU",
       "kargs": {
        "inplace": true
       }
      },
      {
       "class": "BatchNorm2d",
       "kargs": {
        "num_features": 80
       }
      },
      {
       "class": "Flatten",
       "kargs": {}
      },
      {
       "class": "Linear",
       "kargs": {
        "in_features": 20480,
        "out_features": 256
       }
      },
      {
       "class": "ReLU",
       "kargs": {
        "inplace": true
       }
      },
      {
       "class": "BatchNorm1d",
       "kargs": {
        "num_features": 256
       }
      },
      {
       "class": "Linear",
       "kargs": {
        "in_features": 256,
        "out_features": 256
       }
      }
     ]
    }
   },
   "start_time": "2022-03-27T06:58:18.385477",
   "version": "2.3.4"
  }
 },
 "nbformat": 4,
 "nbformat_minor": 5
}