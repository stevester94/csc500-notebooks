{
 "cells": [
  {
   "cell_type": "markdown",
   "id": "9fea5f46",
   "metadata": {
    "papermill": {
     "duration": 0.021917,
     "end_time": "2022-03-28T20:12:56.929523",
     "exception": false,
     "start_time": "2022-03-28T20:12:56.907606",
     "status": "completed"
    },
    "tags": []
   },
   "source": [
    "# Transfer Learning Template"
   ]
  },
  {
   "cell_type": "code",
   "execution_count": 1,
   "id": "0902182a",
   "metadata": {
    "execution": {
     "iopub.execute_input": "2022-03-28T20:12:56.989566Z",
     "iopub.status.busy": "2022-03-28T20:12:56.974659Z",
     "iopub.status.idle": "2022-03-28T20:12:58.938789Z",
     "shell.execute_reply": "2022-03-28T20:12:58.938211Z"
    },
    "papermill": {
     "duration": 1.987781,
     "end_time": "2022-03-28T20:12:58.938903",
     "exception": false,
     "start_time": "2022-03-28T20:12:56.951122",
     "status": "completed"
    },
    "tags": []
   },
   "outputs": [],
   "source": [
    "%load_ext autoreload\n",
    "%autoreload 2\n",
    "%matplotlib inline\n",
    "\n",
    "    \n",
    "import os, json, sys, time, random\n",
    "import numpy as np\n",
    "import torch\n",
    "from torch.optim import Adam\n",
    "from  easydict import EasyDict\n",
    "import matplotlib.pyplot as plt\n",
    "\n",
    "from steves_models.steves_ptn import Steves_Prototypical_Network\n",
    "\n",
    "from steves_utils.lazy_iterable_wrapper import Lazy_Iterable_Wrapper\n",
    "from steves_utils.iterable_aggregator import Iterable_Aggregator\n",
    "from steves_utils.ptn_train_eval_test_jig import  PTN_Train_Eval_Test_Jig\n",
    "from steves_utils.torch_sequential_builder import build_sequential\n",
    "from steves_utils.torch_utils import get_dataset_metrics, ptn_confusion_by_domain_over_dataloader\n",
    "from steves_utils.utils_v2 import (per_domain_accuracy_from_confusion, get_datasets_base_path)\n",
    "from steves_utils.PTN.utils import independent_accuracy_assesment\n",
    "\n",
    "from torch.utils.data import DataLoader\n",
    "\n",
    "from steves_utils.stratified_dataset.episodic_accessor import Episodic_Accessor_Factory\n",
    "\n",
    "from steves_utils.ptn_do_report import (\n",
    "    get_loss_curve,\n",
    "    get_results_table,\n",
    "    get_parameters_table,\n",
    "    get_domain_accuracies,\n",
    ")\n",
    "\n",
    "from steves_utils.transforms import get_chained_transform"
   ]
  },
  {
   "cell_type": "markdown",
   "id": "41c840b4",
   "metadata": {
    "papermill": {
     "duration": 0.012572,
     "end_time": "2022-03-28T20:12:58.968352",
     "exception": false,
     "start_time": "2022-03-28T20:12:58.955780",
     "status": "completed"
    },
    "tags": []
   },
   "source": [
    "# Allowed Parameters\n",
    "These are allowed parameters, not defaults\n",
    "Each of these values need to be present in the injected parameters (the notebook will raise an exception if they are not present)\n",
    "\n",
    "Papermill uses the cell tag \"parameters\" to inject the real parameters below this cell.\n",
    "Enable tags to see what I mean"
   ]
  },
  {
   "cell_type": "code",
   "execution_count": 2,
   "id": "fd44eb83",
   "metadata": {
    "execution": {
     "iopub.execute_input": "2022-03-28T20:12:58.997560Z",
     "iopub.status.busy": "2022-03-28T20:12:58.997304Z",
     "iopub.status.idle": "2022-03-28T20:12:59.012430Z",
     "shell.execute_reply": "2022-03-28T20:12:59.012798Z"
    },
    "papermill": {
     "duration": 0.0311,
     "end_time": "2022-03-28T20:12:59.012907",
     "exception": false,
     "start_time": "2022-03-28T20:12:58.981807",
     "status": "completed"
    },
    "tags": []
   },
   "outputs": [],
   "source": [
    "required_parameters = {\n",
    "    \"experiment_name\",\n",
    "    \"lr\",\n",
    "    \"device\",\n",
    "    \"seed\",\n",
    "    \"dataset_seed\",\n",
    "    \"n_shot\",\n",
    "    \"n_query\",\n",
    "    \"n_way\",\n",
    "    \"train_k_factor\",\n",
    "    \"val_k_factor\",\n",
    "    \"test_k_factor\",\n",
    "    \"n_epoch\",\n",
    "    \"patience\",\n",
    "    \"criteria_for_best\",\n",
    "    \"x_net\",\n",
    "    \"datasets\",\n",
    "    \"torch_default_dtype\",\n",
    "    \"NUM_LOGS_PER_EPOCH\",\n",
    "    \"BEST_MODEL_PATH\",\n",
    "    \"x_shape\",\n",
    "}"
   ]
  },
  {
   "cell_type": "code",
   "execution_count": 3,
   "id": "fa3f0049",
   "metadata": {
    "execution": {
     "iopub.execute_input": "2022-03-28T20:12:59.054577Z",
     "iopub.status.busy": "2022-03-28T20:12:59.054277Z",
     "iopub.status.idle": "2022-03-28T20:12:59.070102Z",
     "shell.execute_reply": "2022-03-28T20:12:59.070501Z"
    },
    "papermill": {
     "duration": 0.039003,
     "end_time": "2022-03-28T20:12:59.070610",
     "exception": false,
     "start_time": "2022-03-28T20:12:59.031607",
     "status": "completed"
    },
    "tags": [
     "parameters"
    ]
   },
   "outputs": [],
   "source": [
    "from steves_utils.CORES.utils import (\n",
    "    ALL_NODES,\n",
    "    ALL_NODES_MINIMUM_1000_EXAMPLES,\n",
    "    ALL_DAYS\n",
    ")\n",
    "\n",
    "from steves_utils.ORACLE.utils_v2 import (\n",
    "    ALL_DISTANCES_FEET_NARROWED,\n",
    "    ALL_RUNS,\n",
    "    ALL_SERIAL_NUMBERS,\n",
    ")\n",
    "\n",
    "standalone_parameters = {}\n",
    "standalone_parameters[\"experiment_name\"] = \"STANDALONE PTN\"\n",
    "standalone_parameters[\"lr\"] = 0.001\n",
    "standalone_parameters[\"device\"] = \"cuda\"\n",
    "\n",
    "standalone_parameters[\"seed\"] = 1337\n",
    "standalone_parameters[\"dataset_seed\"] = 1337\n",
    "\n",
    "standalone_parameters[\"n_way\"] = 8\n",
    "standalone_parameters[\"n_shot\"] = 3\n",
    "standalone_parameters[\"n_query\"]  = 2\n",
    "standalone_parameters[\"train_k_factor\"] = 1\n",
    "standalone_parameters[\"val_k_factor\"] = 2\n",
    "standalone_parameters[\"test_k_factor\"] = 2\n",
    "\n",
    "\n",
    "standalone_parameters[\"n_epoch\"] = 50\n",
    "\n",
    "standalone_parameters[\"patience\"] = 10\n",
    "standalone_parameters[\"criteria_for_best\"] = \"source_loss\"\n",
    "\n",
    "standalone_parameters[\"datasets\"] = [\n",
    "    {\n",
    "        \"labels\": ALL_SERIAL_NUMBERS,\n",
    "        \"domains\": ALL_DISTANCES_FEET_NARROWED,\n",
    "        \"num_examples_per_domain_per_label\": 100,\n",
    "        \"pickle_path\": os.path.join(get_datasets_base_path(), \"oracle.Run1_framed_2000Examples_stratified_ds.2022A.pkl\"),\n",
    "        \"source_or_target_dataset\": \"source\",\n",
    "        \"x_transforms\": [\"unit_mag\", \"minus_two\"],\n",
    "        \"episode_transforms\": [],\n",
    "        \"domain_prefix\": \"ORACLE_\"\n",
    "    },\n",
    "    {\n",
    "        \"labels\": ALL_NODES,\n",
    "        \"domains\": ALL_DAYS,\n",
    "        \"num_examples_per_domain_per_label\": 100,\n",
    "        \"pickle_path\": os.path.join(get_datasets_base_path(), \"cores.stratified_ds.2022A.pkl\"),\n",
    "        \"source_or_target_dataset\": \"target\",\n",
    "        \"x_transforms\": [\"unit_power\", \"times_zero\"],\n",
    "        \"episode_transforms\": [],\n",
    "        \"domain_prefix\": \"CORES_\"\n",
    "    }   \n",
    "]\n",
    "\n",
    "standalone_parameters[\"torch_default_dtype\"] = \"torch.float32\" \n",
    "\n",
    "\n",
    "\n",
    "standalone_parameters[\"x_net\"] =     [\n",
    "    {\"class\": \"nnReshape\", \"kargs\": {\"shape\":[-1, 1, 2, 256]}},\n",
    "    {\"class\": \"Conv2d\", \"kargs\": { \"in_channels\":1, \"out_channels\":256, \"kernel_size\":(1,7), \"bias\":False, \"padding\":(0,3), },},\n",
    "    {\"class\": \"ReLU\", \"kargs\": {\"inplace\": True}},\n",
    "    {\"class\": \"BatchNorm2d\", \"kargs\": {\"num_features\":256}},\n",
    "\n",
    "    {\"class\": \"Conv2d\", \"kargs\": { \"in_channels\":256, \"out_channels\":80, \"kernel_size\":(2,7), \"bias\":True, \"padding\":(0,3), },},\n",
    "    {\"class\": \"ReLU\", \"kargs\": {\"inplace\": True}},\n",
    "    {\"class\": \"BatchNorm2d\", \"kargs\": {\"num_features\":80}},\n",
    "    {\"class\": \"Flatten\", \"kargs\": {}},\n",
    "\n",
    "    {\"class\": \"Linear\", \"kargs\": {\"in_features\": 80*256, \"out_features\": 256}}, # 80 units per IQ pair\n",
    "    {\"class\": \"ReLU\", \"kargs\": {\"inplace\": True}},\n",
    "    {\"class\": \"BatchNorm1d\", \"kargs\": {\"num_features\":256}},\n",
    "\n",
    "    {\"class\": \"Linear\", \"kargs\": {\"in_features\": 256, \"out_features\": 256}},\n",
    "]\n",
    "\n",
    "# Parameters relevant to results\n",
    "# These parameters will basically never need to change\n",
    "standalone_parameters[\"NUM_LOGS_PER_EPOCH\"] = 10\n",
    "standalone_parameters[\"BEST_MODEL_PATH\"] = \"./best_model.pth\"\n",
    "\n",
    "\n",
    "\n",
    "\n"
   ]
  },
  {
   "cell_type": "code",
   "execution_count": 4,
   "id": "7829eea5",
   "metadata": {
    "execution": {
     "iopub.execute_input": "2022-03-28T20:12:59.109416Z",
     "iopub.status.busy": "2022-03-28T20:12:59.106821Z",
     "iopub.status.idle": "2022-03-28T20:12:59.120912Z",
     "shell.execute_reply": "2022-03-28T20:12:59.120514Z"
    },
    "papermill": {
     "duration": 0.033991,
     "end_time": "2022-03-28T20:12:59.121009",
     "exception": false,
     "start_time": "2022-03-28T20:12:59.087018",
     "status": "completed"
    },
    "tags": [
     "injected-parameters"
    ]
   },
   "outputs": [],
   "source": [
    "# Parameters\n",
    "parameters = {\n",
    "    \"experiment_name\": \"tl_1v2:oracle.run1-oracle.run2\",\n",
    "    \"device\": \"cuda\",\n",
    "    \"lr\": 0.0001,\n",
    "    \"n_shot\": 3,\n",
    "    \"n_query\": 2,\n",
    "    \"train_k_factor\": 3,\n",
    "    \"val_k_factor\": 2,\n",
    "    \"test_k_factor\": 2,\n",
    "    \"torch_default_dtype\": \"torch.float32\",\n",
    "    \"n_epoch\": 50,\n",
    "    \"patience\": 3,\n",
    "    \"criteria_for_best\": \"target_accuracy\",\n",
    "    \"x_net\": [\n",
    "        {\"class\": \"nnReshape\", \"kargs\": {\"shape\": [-1, 1, 2, 256]}},\n",
    "        {\n",
    "            \"class\": \"Conv2d\",\n",
    "            \"kargs\": {\n",
    "                \"in_channels\": 1,\n",
    "                \"out_channels\": 256,\n",
    "                \"kernel_size\": [1, 7],\n",
    "                \"bias\": False,\n",
    "                \"padding\": [0, 3],\n",
    "            },\n",
    "        },\n",
    "        {\"class\": \"ReLU\", \"kargs\": {\"inplace\": True}},\n",
    "        {\"class\": \"BatchNorm2d\", \"kargs\": {\"num_features\": 256}},\n",
    "        {\n",
    "            \"class\": \"Conv2d\",\n",
    "            \"kargs\": {\n",
    "                \"in_channels\": 256,\n",
    "                \"out_channels\": 80,\n",
    "                \"kernel_size\": [2, 7],\n",
    "                \"bias\": True,\n",
    "                \"padding\": [0, 3],\n",
    "            },\n",
    "        },\n",
    "        {\"class\": \"ReLU\", \"kargs\": {\"inplace\": True}},\n",
    "        {\"class\": \"BatchNorm2d\", \"kargs\": {\"num_features\": 80}},\n",
    "        {\"class\": \"Flatten\", \"kargs\": {}},\n",
    "        {\"class\": \"Linear\", \"kargs\": {\"in_features\": 20480, \"out_features\": 256}},\n",
    "        {\"class\": \"ReLU\", \"kargs\": {\"inplace\": True}},\n",
    "        {\"class\": \"BatchNorm1d\", \"kargs\": {\"num_features\": 256}},\n",
    "        {\"class\": \"Linear\", \"kargs\": {\"in_features\": 256, \"out_features\": 256}},\n",
    "    ],\n",
    "    \"NUM_LOGS_PER_EPOCH\": 10,\n",
    "    \"BEST_MODEL_PATH\": \"./best_model.pth\",\n",
    "    \"n_way\": 16,\n",
    "    \"datasets\": [\n",
    "        {\n",
    "            \"labels\": [\n",
    "                \"3123D52\",\n",
    "                \"3123D65\",\n",
    "                \"3123D79\",\n",
    "                \"3123D80\",\n",
    "                \"3123D54\",\n",
    "                \"3123D70\",\n",
    "                \"3123D7B\",\n",
    "                \"3123D89\",\n",
    "                \"3123D58\",\n",
    "                \"3123D76\",\n",
    "                \"3123D7D\",\n",
    "                \"3123EFE\",\n",
    "                \"3123D64\",\n",
    "                \"3123D78\",\n",
    "                \"3123D7E\",\n",
    "                \"3124E4A\",\n",
    "            ],\n",
    "            \"domains\": [32, 38, 8, 44, 14, 50, 20, 26],\n",
    "            \"num_examples_per_domain_per_label\": 10000,\n",
    "            \"pickle_path\": \"/mnt/wd500GB/CSC500/csc500-main/datasets/oracle.Run1_10kExamples_stratified_ds.2022A.pkl\",\n",
    "            \"source_or_target_dataset\": \"source\",\n",
    "            \"x_transforms\": [],\n",
    "            \"episode_transforms\": [],\n",
    "            \"domain_prefix\": \"ORACLE.run1_\",\n",
    "        },\n",
    "        {\n",
    "            \"labels\": [\n",
    "                \"3123D52\",\n",
    "                \"3123D65\",\n",
    "                \"3123D79\",\n",
    "                \"3123D80\",\n",
    "                \"3123D54\",\n",
    "                \"3123D70\",\n",
    "                \"3123D7B\",\n",
    "                \"3123D89\",\n",
    "                \"3123D58\",\n",
    "                \"3123D76\",\n",
    "                \"3123D7D\",\n",
    "                \"3123EFE\",\n",
    "                \"3123D64\",\n",
    "                \"3123D78\",\n",
    "                \"3123D7E\",\n",
    "                \"3124E4A\",\n",
    "            ],\n",
    "            \"domains\": [32, 38, 8, 44, 14, 50, 20, 26],\n",
    "            \"num_examples_per_domain_per_label\": 10000,\n",
    "            \"pickle_path\": \"/mnt/wd500GB/CSC500/csc500-main/datasets/oracle.Run2_10kExamples_stratified_ds.2022A.pkl\",\n",
    "            \"source_or_target_dataset\": \"target\",\n",
    "            \"x_transforms\": [],\n",
    "            \"episode_transforms\": [],\n",
    "            \"domain_prefix\": \"ORACLE.run2_\",\n",
    "        },\n",
    "    ],\n",
    "    \"dataset_seed\": 7,\n",
    "    \"seed\": 7,\n",
    "}\n"
   ]
  },
  {
   "cell_type": "code",
   "execution_count": 5,
   "id": "8fa1cc33",
   "metadata": {
    "execution": {
     "iopub.execute_input": "2022-03-28T20:12:59.156692Z",
     "iopub.status.busy": "2022-03-28T20:12:59.156418Z",
     "iopub.status.idle": "2022-03-28T20:12:59.169956Z",
     "shell.execute_reply": "2022-03-28T20:12:59.169552Z"
    },
    "papermill": {
     "duration": 0.030654,
     "end_time": "2022-03-28T20:12:59.170063",
     "exception": false,
     "start_time": "2022-03-28T20:12:59.139409",
     "status": "completed"
    },
    "tags": []
   },
   "outputs": [],
   "source": [
    "# Set this to True if you want to run this template directly\n",
    "STANDALONE = False\n",
    "if STANDALONE:\n",
    "    print(\"parameters not injected, running with standalone_parameters\")\n",
    "    parameters = standalone_parameters\n",
    "\n",
    "if not 'parameters' in locals() and not 'parameters' in globals():\n",
    "    raise Exception(\"Parameter injection failed\")\n",
    "\n",
    "#Use an easy dict for all the parameters\n",
    "p = EasyDict(parameters)\n",
    "\n",
    "if \"x_shape\" not in p:\n",
    "    p.x_shape = [2,256] # Default to this if we dont supply x_shape\n",
    "\n",
    "\n",
    "supplied_keys = set(p.keys())\n",
    "\n",
    "if  supplied_keys != required_parameters:\n",
    "    print(\"Parameters are incorrect\")\n",
    "    if len(supplied_keys - required_parameters)>0: print(\"Shouldn't have:\", str(supplied_keys - required_parameters))\n",
    "    if len(required_parameters - supplied_keys)>0: print(\"Need to have:\", str(required_parameters - supplied_keys))\n",
    "    raise RuntimeError(\"Parameters are incorrect\")"
   ]
  },
  {
   "cell_type": "code",
   "execution_count": 6,
   "id": "3a028d58",
   "metadata": {
    "execution": {
     "iopub.execute_input": "2022-03-28T20:12:59.200671Z",
     "iopub.status.busy": "2022-03-28T20:12:59.200418Z",
     "iopub.status.idle": "2022-03-28T20:12:59.213509Z",
     "shell.execute_reply": "2022-03-28T20:12:59.213262Z"
    },
    "papermill": {
     "duration": 0.028766,
     "end_time": "2022-03-28T20:12:59.213558",
     "exception": false,
     "start_time": "2022-03-28T20:12:59.184792",
     "status": "completed"
    },
    "tags": []
   },
   "outputs": [],
   "source": [
    "###################################\n",
    "# Set the RNGs and make it all deterministic\n",
    "###################################\n",
    "np.random.seed(p.seed)\n",
    "random.seed(p.seed)\n",
    "torch.manual_seed(p.seed)\n",
    "\n",
    "torch.use_deterministic_algorithms(True) "
   ]
  },
  {
   "cell_type": "code",
   "execution_count": 7,
   "id": "b691acf6",
   "metadata": {
    "execution": {
     "iopub.execute_input": "2022-03-28T20:12:59.241896Z",
     "iopub.status.busy": "2022-03-28T20:12:59.241646Z",
     "iopub.status.idle": "2022-03-28T20:12:59.255864Z",
     "shell.execute_reply": "2022-03-28T20:12:59.255615Z"
    },
    "papermill": {
     "duration": 0.029188,
     "end_time": "2022-03-28T20:12:59.255912",
     "exception": false,
     "start_time": "2022-03-28T20:12:59.226724",
     "status": "completed"
    },
    "tags": []
   },
   "outputs": [],
   "source": [
    "###########################################\n",
    "# The stratified datasets honor this\n",
    "###########################################\n",
    "torch.set_default_dtype(eval(p.torch_default_dtype))"
   ]
  },
  {
   "cell_type": "code",
   "execution_count": 8,
   "id": "b5fba671",
   "metadata": {
    "execution": {
     "iopub.execute_input": "2022-03-28T20:12:59.285153Z",
     "iopub.status.busy": "2022-03-28T20:12:59.284906Z",
     "iopub.status.idle": "2022-03-28T20:12:59.324867Z",
     "shell.execute_reply": "2022-03-28T20:12:59.324422Z"
    },
    "papermill": {
     "duration": 0.05569,
     "end_time": "2022-03-28T20:12:59.324956",
     "exception": false,
     "start_time": "2022-03-28T20:12:59.269266",
     "status": "completed"
    },
    "tags": []
   },
   "outputs": [],
   "source": [
    "###################################\n",
    "# Build the network(s)\n",
    "# Note: It's critical to do this AFTER setting the RNG\n",
    "###################################\n",
    "x_net = build_sequential(p.x_net)"
   ]
  },
  {
   "cell_type": "code",
   "execution_count": 9,
   "id": "5d7e61cc",
   "metadata": {
    "execution": {
     "iopub.execute_input": "2022-03-28T20:12:59.358350Z",
     "iopub.status.busy": "2022-03-28T20:12:59.358104Z",
     "iopub.status.idle": "2022-03-28T20:12:59.373060Z",
     "shell.execute_reply": "2022-03-28T20:12:59.372664Z"
    },
    "papermill": {
     "duration": 0.030149,
     "end_time": "2022-03-28T20:12:59.373149",
     "exception": false,
     "start_time": "2022-03-28T20:12:59.343000",
     "status": "completed"
    },
    "tags": []
   },
   "outputs": [],
   "source": [
    "start_time_secs = time.time()"
   ]
  },
  {
   "cell_type": "code",
   "execution_count": 10,
   "id": "c6b67dfd",
   "metadata": {
    "execution": {
     "iopub.execute_input": "2022-03-28T20:12:59.406203Z",
     "iopub.status.busy": "2022-03-28T20:12:59.405926Z",
     "iopub.status.idle": "2022-03-28T20:12:59.415703Z",
     "shell.execute_reply": "2022-03-28T20:12:59.415491Z"
    },
    "papermill": {
     "duration": 0.024723,
     "end_time": "2022-03-28T20:12:59.415751",
     "exception": false,
     "start_time": "2022-03-28T20:12:59.391028",
     "status": "completed"
    },
    "tags": []
   },
   "outputs": [],
   "source": [
    "p.domains_source = []\n",
    "p.domains_target = []\n",
    "\n",
    "\n",
    "train_original_source = []\n",
    "val_original_source   = []\n",
    "test_original_source  = []\n",
    "\n",
    "train_original_target = []\n",
    "val_original_target   = []\n",
    "test_original_target  = []"
   ]
  },
  {
   "cell_type": "code",
   "execution_count": 11,
   "id": "e3d9c3d3",
   "metadata": {
    "execution": {
     "iopub.execute_input": "2022-03-28T20:12:59.447937Z",
     "iopub.status.busy": "2022-03-28T20:12:59.447640Z",
     "iopub.status.idle": "2022-03-28T20:12:59.462874Z",
     "shell.execute_reply": "2022-03-28T20:12:59.462422Z"
    },
    "papermill": {
     "duration": 0.030237,
     "end_time": "2022-03-28T20:12:59.462963",
     "exception": false,
     "start_time": "2022-03-28T20:12:59.432726",
     "status": "completed"
    },
    "tags": []
   },
   "outputs": [],
   "source": [
    "# global_x_transform_func = lambda x: normalize(x.to(torch.get_default_dtype()), \"unit_power\") # unit_power, unit_mag\n",
    "# global_x_transform_func = lambda x: normalize(x, \"unit_power\") # unit_power, unit_mag"
   ]
  },
  {
   "cell_type": "code",
   "execution_count": 12,
   "id": "acb78fd2",
   "metadata": {
    "execution": {
     "iopub.execute_input": "2022-03-28T20:12:59.498962Z",
     "iopub.status.busy": "2022-03-28T20:12:59.493116Z",
     "iopub.status.idle": "2022-03-28T20:12:59.511668Z",
     "shell.execute_reply": "2022-03-28T20:12:59.511223Z"
    },
    "papermill": {
     "duration": 0.033366,
     "end_time": "2022-03-28T20:12:59.511757",
     "exception": false,
     "start_time": "2022-03-28T20:12:59.478391",
     "status": "completed"
    },
    "tags": []
   },
   "outputs": [],
   "source": [
    "def add_dataset(\n",
    "    labels,\n",
    "    domains,\n",
    "    pickle_path,\n",
    "    x_transforms,\n",
    "    episode_transforms,\n",
    "    domain_prefix,\n",
    "    num_examples_per_domain_per_label,\n",
    "    source_or_target_dataset:str,\n",
    "    iterator_seed=p.seed,\n",
    "    dataset_seed=p.dataset_seed,\n",
    "    n_shot=p.n_shot,\n",
    "    n_way=p.n_way,\n",
    "    n_query=p.n_query,\n",
    "    train_val_test_k_factors=(p.train_k_factor,p.val_k_factor,p.test_k_factor),\n",
    "):\n",
    "   \n",
    "    if x_transforms == []: x_transform = None\n",
    "    else: x_transform = get_chained_transform(x_transforms)\n",
    "    \n",
    "    if episode_transforms == []: episode_transform = None\n",
    "    else: raise Exception(\"episode_transforms not implemented\")\n",
    "    \n",
    "    episode_transform = lambda tup, _prefix=domain_prefix: (_prefix + str(tup[0]), tup[1])\n",
    "\n",
    "\n",
    "    eaf = Episodic_Accessor_Factory(\n",
    "        labels=labels,\n",
    "        domains=domains,\n",
    "        num_examples_per_domain_per_label=num_examples_per_domain_per_label,\n",
    "        iterator_seed=iterator_seed,\n",
    "        dataset_seed=dataset_seed,\n",
    "        n_shot=n_shot,\n",
    "        n_way=n_way,\n",
    "        n_query=n_query,\n",
    "        train_val_test_k_factors=train_val_test_k_factors,\n",
    "        pickle_path=pickle_path,\n",
    "        x_transform_func=x_transform,\n",
    "    )\n",
    "\n",
    "    train, val, test = eaf.get_train(), eaf.get_val(), eaf.get_test()\n",
    "    train = Lazy_Iterable_Wrapper(train, episode_transform)\n",
    "    val = Lazy_Iterable_Wrapper(val, episode_transform)\n",
    "    test = Lazy_Iterable_Wrapper(test, episode_transform)\n",
    "\n",
    "    if source_or_target_dataset==\"source\":\n",
    "        train_original_source.append(train)\n",
    "        val_original_source.append(val)\n",
    "        test_original_source.append(test)\n",
    "\n",
    "        p.domains_source.extend(\n",
    "            [domain_prefix + str(u) for u in domains]\n",
    "        )\n",
    "    elif source_or_target_dataset==\"target\":\n",
    "        train_original_target.append(train)\n",
    "        val_original_target.append(val)\n",
    "        test_original_target.append(test)\n",
    "        p.domains_target.extend(\n",
    "            [domain_prefix + str(u) for u in domains]\n",
    "        )\n",
    "    else:\n",
    "        raise Exception(f\"invalid source_or_target_dataset: {source_or_target_dataset}\")\n",
    "    "
   ]
  },
  {
   "cell_type": "code",
   "execution_count": 13,
   "id": "fe266617",
   "metadata": {
    "execution": {
     "iopub.execute_input": "2022-03-28T20:12:59.545834Z",
     "iopub.status.busy": "2022-03-28T20:12:59.545591Z",
     "iopub.status.idle": "2022-03-28T20:13:26.914977Z",
     "shell.execute_reply": "2022-03-28T20:13:26.914519Z"
    },
    "papermill": {
     "duration": 27.384461,
     "end_time": "2022-03-28T20:13:26.915092",
     "exception": false,
     "start_time": "2022-03-28T20:12:59.530631",
     "status": "completed"
    },
    "tags": []
   },
   "outputs": [],
   "source": [
    "for ds in p.datasets:\n",
    "    add_dataset(**ds)"
   ]
  },
  {
   "cell_type": "code",
   "execution_count": 14,
   "id": "b90d65ac",
   "metadata": {
    "execution": {
     "iopub.execute_input": "2022-03-28T20:13:26.949116Z",
     "iopub.status.busy": "2022-03-28T20:13:26.948862Z",
     "iopub.status.idle": "2022-03-28T20:13:26.964919Z",
     "shell.execute_reply": "2022-03-28T20:13:26.964479Z"
    },
    "papermill": {
     "duration": 0.032062,
     "end_time": "2022-03-28T20:13:26.965018",
     "exception": false,
     "start_time": "2022-03-28T20:13:26.932956",
     "status": "completed"
    },
    "tags": []
   },
   "outputs": [],
   "source": [
    "# from steves_utils.CORES.utils import (\n",
    "#     ALL_NODES,\n",
    "#     ALL_NODES_MINIMUM_1000_EXAMPLES,\n",
    "#     ALL_DAYS\n",
    "# )\n",
    "\n",
    "# add_dataset(\n",
    "#     labels=ALL_NODES,\n",
    "#     domains = ALL_DAYS,\n",
    "#     num_examples_per_domain_per_label=100,\n",
    "#     pickle_path=os.path.join(get_datasets_base_path(), \"cores.stratified_ds.2022A.pkl\"),\n",
    "#     source_or_target_dataset=\"target\",\n",
    "#     x_transform_func=global_x_transform_func,\n",
    "#     domain_modifier=lambda u: f\"cores_{u}\"\n",
    "# )"
   ]
  },
  {
   "cell_type": "code",
   "execution_count": 15,
   "id": "76db484d",
   "metadata": {
    "execution": {
     "iopub.execute_input": "2022-03-28T20:13:26.999765Z",
     "iopub.status.busy": "2022-03-28T20:13:26.999174Z",
     "iopub.status.idle": "2022-03-28T20:13:27.015478Z",
     "shell.execute_reply": "2022-03-28T20:13:27.014989Z"
    },
    "papermill": {
     "duration": 0.032139,
     "end_time": "2022-03-28T20:13:27.015585",
     "exception": false,
     "start_time": "2022-03-28T20:13:26.983446",
     "status": "completed"
    },
    "tags": []
   },
   "outputs": [],
   "source": [
    "# from steves_utils.ORACLE.utils_v2 import (\n",
    "#     ALL_DISTANCES_FEET,\n",
    "#     ALL_RUNS,\n",
    "#     ALL_SERIAL_NUMBERS,\n",
    "# )\n",
    "\n",
    "\n",
    "# add_dataset(\n",
    "#     labels=ALL_SERIAL_NUMBERS,\n",
    "#     domains = list(set(ALL_DISTANCES_FEET) - {2,62}),\n",
    "#     num_examples_per_domain_per_label=100,\n",
    "#     pickle_path=os.path.join(get_datasets_base_path(), \"oracle.Run2_framed_2000Examples_stratified_ds.2022A.pkl\"),\n",
    "#     source_or_target_dataset=\"source\",\n",
    "#     x_transform_func=global_x_transform_func,\n",
    "#     domain_modifier=lambda u: f\"oracle1_{u}\"\n",
    "# )\n"
   ]
  },
  {
   "cell_type": "code",
   "execution_count": 16,
   "id": "97dea9d2",
   "metadata": {
    "execution": {
     "iopub.execute_input": "2022-03-28T20:13:27.049106Z",
     "iopub.status.busy": "2022-03-28T20:13:27.048853Z",
     "iopub.status.idle": "2022-03-28T20:13:27.062699Z",
     "shell.execute_reply": "2022-03-28T20:13:27.062993Z"
    },
    "papermill": {
     "duration": 0.030163,
     "end_time": "2022-03-28T20:13:27.063091",
     "exception": false,
     "start_time": "2022-03-28T20:13:27.032928",
     "status": "completed"
    },
    "tags": []
   },
   "outputs": [],
   "source": [
    "# from steves_utils.ORACLE.utils_v2 import (\n",
    "#     ALL_DISTANCES_FEET,\n",
    "#     ALL_RUNS,\n",
    "#     ALL_SERIAL_NUMBERS,\n",
    "# )\n",
    "\n",
    "\n",
    "# add_dataset(\n",
    "#     labels=ALL_SERIAL_NUMBERS,\n",
    "#     domains = list(set(ALL_DISTANCES_FEET) - {2,62,56}),\n",
    "#     num_examples_per_domain_per_label=100,\n",
    "#     pickle_path=os.path.join(get_datasets_base_path(), \"oracle.Run2_framed_2000Examples_stratified_ds.2022A.pkl\"),\n",
    "#     source_or_target_dataset=\"source\",\n",
    "#     x_transform_func=global_x_transform_func,\n",
    "#     domain_modifier=lambda u: f\"oracle2_{u}\"\n",
    "# )"
   ]
  },
  {
   "cell_type": "code",
   "execution_count": 17,
   "id": "6f289866",
   "metadata": {
    "execution": {
     "iopub.execute_input": "2022-03-28T20:13:27.098315Z",
     "iopub.status.busy": "2022-03-28T20:13:27.098041Z",
     "iopub.status.idle": "2022-03-28T20:13:27.111847Z",
     "shell.execute_reply": "2022-03-28T20:13:27.111405Z"
    },
    "papermill": {
     "duration": 0.029809,
     "end_time": "2022-03-28T20:13:27.111935",
     "exception": false,
     "start_time": "2022-03-28T20:13:27.082126",
     "status": "completed"
    },
    "tags": []
   },
   "outputs": [],
   "source": [
    "# add_dataset(\n",
    "#     labels=list(range(19)),\n",
    "#     domains = [0,1,2],\n",
    "#     num_examples_per_domain_per_label=100,\n",
    "#     pickle_path=os.path.join(get_datasets_base_path(), \"metehan.stratified_ds.2022A.pkl\"),\n",
    "#     source_or_target_dataset=\"target\",\n",
    "#     x_transform_func=global_x_transform_func,\n",
    "#     domain_modifier=lambda u: f\"met_{u}\"\n",
    "# )"
   ]
  },
  {
   "cell_type": "code",
   "execution_count": 18,
   "id": "86a863c3",
   "metadata": {
    "execution": {
     "iopub.execute_input": "2022-03-28T20:13:27.147146Z",
     "iopub.status.busy": "2022-03-28T20:13:27.146895Z",
     "iopub.status.idle": "2022-03-28T20:13:27.160516Z",
     "shell.execute_reply": "2022-03-28T20:13:27.160885Z"
    },
    "papermill": {
     "duration": 0.030327,
     "end_time": "2022-03-28T20:13:27.160995",
     "exception": false,
     "start_time": "2022-03-28T20:13:27.130668",
     "status": "completed"
    },
    "tags": []
   },
   "outputs": [],
   "source": [
    "# # from steves_utils.wisig.utils import (\n",
    "# #     ALL_NODES_MINIMUM_100_EXAMPLES,\n",
    "# #     ALL_NODES_MINIMUM_500_EXAMPLES,\n",
    "# #     ALL_NODES_MINIMUM_1000_EXAMPLES,\n",
    "# #     ALL_DAYS\n",
    "# # )\n",
    "\n",
    "# import steves_utils.wisig.utils as wisig\n",
    "\n",
    "\n",
    "# add_dataset(\n",
    "#     labels=wisig.ALL_NODES_MINIMUM_100_EXAMPLES,\n",
    "#     domains = wisig.ALL_DAYS,\n",
    "#     num_examples_per_domain_per_label=100,\n",
    "#     pickle_path=os.path.join(get_datasets_base_path(), \"wisig.node3-19.stratified_ds.2022A.pkl\"),\n",
    "#     source_or_target_dataset=\"target\",\n",
    "#     x_transform_func=global_x_transform_func,\n",
    "#     domain_modifier=lambda u: f\"wisig_{u}\"\n",
    "# )"
   ]
  },
  {
   "cell_type": "code",
   "execution_count": 19,
   "id": "fd5442bc",
   "metadata": {
    "execution": {
     "iopub.execute_input": "2022-03-28T20:13:27.197668Z",
     "iopub.status.busy": "2022-03-28T20:13:27.197249Z",
     "iopub.status.idle": "2022-03-28T20:13:27.210490Z",
     "shell.execute_reply": "2022-03-28T20:13:27.210220Z"
    },
    "papermill": {
     "duration": 0.031308,
     "end_time": "2022-03-28T20:13:27.210550",
     "exception": false,
     "start_time": "2022-03-28T20:13:27.179242",
     "status": "completed"
    },
    "tags": []
   },
   "outputs": [],
   "source": [
    "###################################\n",
    "# Build the dataset\n",
    "###################################\n",
    "train_original_source = Iterable_Aggregator(train_original_source, p.seed)\n",
    "val_original_source = Iterable_Aggregator(val_original_source, p.seed)\n",
    "test_original_source = Iterable_Aggregator(test_original_source, p.seed)\n",
    "\n",
    "\n",
    "train_original_target = Iterable_Aggregator(train_original_target, p.seed)\n",
    "val_original_target = Iterable_Aggregator(val_original_target, p.seed)\n",
    "test_original_target = Iterable_Aggregator(test_original_target, p.seed)\n",
    "\n",
    "# For CNN We only use X and Y. And we only train on the source.\n",
    "# Properly form the data using a transform lambda and Lazy_Iterable_Wrapper. Finally wrap them in a dataloader\n",
    "\n",
    "transform_lambda = lambda ex: ex[1] # Original is (<domain>, <episode>) so we strip down to episode only\n",
    "\n",
    "train_processed_source = Lazy_Iterable_Wrapper(train_original_source, transform_lambda)\n",
    "val_processed_source   = Lazy_Iterable_Wrapper(val_original_source, transform_lambda)\n",
    "test_processed_source  = Lazy_Iterable_Wrapper(test_original_source, transform_lambda)\n",
    "\n",
    "train_processed_target = Lazy_Iterable_Wrapper(train_original_target, transform_lambda)\n",
    "val_processed_target   = Lazy_Iterable_Wrapper(val_original_target, transform_lambda)\n",
    "test_processed_target  = Lazy_Iterable_Wrapper(test_original_target, transform_lambda)\n",
    "\n",
    "datasets = EasyDict({\n",
    "    \"source\": {\n",
    "        \"original\": {\"train\":train_original_source, \"val\":val_original_source, \"test\":test_original_source},\n",
    "        \"processed\": {\"train\":train_processed_source, \"val\":val_processed_source, \"test\":test_processed_source}\n",
    "    },\n",
    "    \"target\": {\n",
    "        \"original\": {\"train\":train_original_target, \"val\":val_original_target, \"test\":test_original_target},\n",
    "        \"processed\": {\"train\":train_processed_target, \"val\":val_processed_target, \"test\":test_processed_target}\n",
    "    },\n",
    "})"
   ]
  },
  {
   "cell_type": "code",
   "execution_count": 20,
   "id": "5b3c01fc",
   "metadata": {
    "execution": {
     "iopub.execute_input": "2022-03-28T20:13:27.241654Z",
     "iopub.status.busy": "2022-03-28T20:13:27.241243Z",
     "iopub.status.idle": "2022-03-28T20:13:52.271724Z",
     "shell.execute_reply": "2022-03-28T20:13:52.271945Z"
    },
    "papermill": {
     "duration": 25.04746,
     "end_time": "2022-03-28T20:13:52.272021",
     "exception": false,
     "start_time": "2022-03-28T20:13:27.224561",
     "status": "completed"
    },
    "tags": []
   },
   "outputs": [
    {
     "name": "stdout",
     "output_type": "stream",
     "text": [
      "{'ORACLE.run1_38', 'ORACLE.run1_50', 'ORACLE.run1_32', 'ORACLE.run1_44', 'ORACLE.run1_26', 'ORACLE.run1_20', 'ORACLE.run1_14', 'ORACLE.run1_8'}\n"
     ]
    },
    {
     "name": "stdout",
     "output_type": "stream",
     "text": [
      "{'ORACLE.run2_50', 'ORACLE.run2_20', 'ORACLE.run2_14', 'ORACLE.run2_32', 'ORACLE.run2_26', 'ORACLE.run2_44', 'ORACLE.run2_38', 'ORACLE.run2_8'}\n"
     ]
    },
    {
     "name": "stdout",
     "output_type": "stream",
     "text": [
      "tensor([[[ 0.0042,  0.0008,  0.0031,  ..., -0.0009, -0.0029, -0.0009],\n",
      "         [ 0.0010,  0.0014, -0.0001,  ...,  0.0039,  0.0008, -0.0040]],\n",
      "\n",
      "        [[ 0.0021,  0.0033, -0.0046,  ..., -0.0056, -0.0017,  0.0032],\n",
      "         [ 0.0019,  0.0017, -0.0005,  ..., -0.0037, -0.0013, -0.0007]],\n",
      "\n",
      "        [[-0.0027, -0.0006,  0.0025,  ...,  0.0006, -0.0009, -0.0006],\n",
      "         [ 0.0017,  0.0021,  0.0028,  ..., -0.0008,  0.0028, -0.0041]],\n",
      "\n",
      "        ...,\n",
      "\n",
      "        [[ 0.0019, -0.0008, -0.0034,  ..., -0.0004, -0.0025, -0.0050],\n",
      "         [ 0.0002,  0.0006,  0.0029,  ...,  0.0028, -0.0004,  0.0043]],\n",
      "\n",
      "        [[ 0.0011,  0.0021, -0.0023,  ...,  0.0069,  0.0043,  0.0015],\n",
      "         [ 0.0024,  0.0007, -0.0010,  ...,  0.0034,  0.0016,  0.0020]],\n",
      "\n",
      "        [[ 0.0007, -0.0019, -0.0043,  ..., -0.0012,  0.0024,  0.0037],\n",
      "         [ 0.0015, -0.0026, -0.0049,  ...,  0.0013, -0.0026,  0.0054]]])\n"
     ]
    }
   ],
   "source": [
    "from steves_utils.transforms import get_average_magnitude, get_average_power\n",
    "\n",
    "print(set([u for u,_ in val_original_source]))\n",
    "print(set([u for u,_ in val_original_target]))\n",
    "\n",
    "s_x, s_y, q_x, q_y, _ = next(iter(train_processed_source))\n",
    "print(s_x)\n",
    "\n",
    "# for ds in [\n",
    "#     train_processed_source,\n",
    "#     val_processed_source,\n",
    "#     test_processed_source,\n",
    "#     train_processed_target,\n",
    "#     val_processed_target,\n",
    "#     test_processed_target\n",
    "# ]:\n",
    "#     for s_x, s_y, q_x, q_y, _ in ds:\n",
    "#         for X in (s_x, q_x):\n",
    "#             for x in X:\n",
    "#                 assert np.isclose(get_average_magnitude(x.numpy()), 1.0)\n",
    "#                 assert np.isclose(get_average_power(x.numpy()), 1.0)\n",
    "                "
   ]
  },
  {
   "cell_type": "code",
   "execution_count": 21,
   "id": "bbdacba1",
   "metadata": {
    "execution": {
     "iopub.execute_input": "2022-03-28T20:13:52.304579Z",
     "iopub.status.busy": "2022-03-28T20:13:52.304088Z",
     "iopub.status.idle": "2022-03-28T20:13:52.359258Z",
     "shell.execute_reply": "2022-03-28T20:13:52.358986Z"
    },
    "papermill": {
     "duration": 0.072634,
     "end_time": "2022-03-28T20:13:52.359321",
     "exception": false,
     "start_time": "2022-03-28T20:13:52.286687",
     "status": "completed"
    },
    "tags": []
   },
   "outputs": [
    {
     "name": "stdout",
     "output_type": "stream",
     "text": [
      "(2, 256)\n"
     ]
    }
   ],
   "source": [
    "###################################\n",
    "# Build the model\n",
    "###################################\n",
    "# easfsl only wants a tuple for the shape\n",
    "model = Steves_Prototypical_Network(x_net, device=p.device, x_shape=tuple(p.x_shape))\n",
    "optimizer = Adam(params=model.parameters(), lr=p.lr)"
   ]
  },
  {
   "cell_type": "code",
   "execution_count": 22,
   "id": "22b39ac5",
   "metadata": {
    "execution": {
     "iopub.execute_input": "2022-03-28T20:13:52.393323Z",
     "iopub.status.busy": "2022-03-28T20:13:52.392785Z",
     "iopub.status.idle": "2022-03-28T23:17:10.959148Z",
     "shell.execute_reply": "2022-03-28T23:17:10.958914Z"
    },
    "papermill": {
     "duration": 10998.582986,
     "end_time": "2022-03-28T23:17:10.959207",
     "exception": false,
     "start_time": "2022-03-28T20:13:52.376221",
     "status": "completed"
    },
    "tags": []
   },
   "outputs": [
    {
     "name": "stdout",
     "output_type": "stream",
     "text": [
      "epoch: 1, [batch: 1 / 33600], examples_per_second: 9.6991, train_label_loss: 2.7183, \n"
     ]
    },
    {
     "name": "stdout",
     "output_type": "stream",
     "text": [
      "epoch: 1, [batch: 3360 / 33600], examples_per_second: 3208.3203, train_label_loss: 1.3323, \n"
     ]
    },
    {
     "name": "stdout",
     "output_type": "stream",
     "text": [
      "epoch: 1, [batch: 6720 / 33600], examples_per_second: 3203.2628, train_label_loss: 0.3295, \n"
     ]
    },
    {
     "name": "stdout",
     "output_type": "stream",
     "text": [
      "epoch: 1, [batch: 10080 / 33600], examples_per_second: 3198.5880, train_label_loss: 0.5666, \n"
     ]
    },
    {
     "name": "stdout",
     "output_type": "stream",
     "text": [
      "epoch: 1, [batch: 13440 / 33600], examples_per_second: 3189.9617, train_label_loss: 0.5721, \n"
     ]
    },
    {
     "name": "stdout",
     "output_type": "stream",
     "text": [
      "epoch: 1, [batch: 16800 / 33600], examples_per_second: 3195.0810, train_label_loss: 0.5224, \n"
     ]
    },
    {
     "name": "stdout",
     "output_type": "stream",
     "text": [
      "epoch: 1, [batch: 20160 / 33600], examples_per_second: 3197.5324, train_label_loss: 0.4695, \n"
     ]
    },
    {
     "name": "stdout",
     "output_type": "stream",
     "text": [
      "epoch: 1, [batch: 23520 / 33600], examples_per_second: 3188.9334, train_label_loss: 0.3453, \n"
     ]
    },
    {
     "name": "stdout",
     "output_type": "stream",
     "text": [
      "epoch: 1, [batch: 26880 / 33600], examples_per_second: 3197.6612, train_label_loss: 0.2202, \n"
     ]
    },
    {
     "name": "stdout",
     "output_type": "stream",
     "text": [
      "epoch: 1, [batch: 30240 / 33600], examples_per_second: 3201.5593, train_label_loss: 0.5937, \n"
     ]
    },
    {
     "name": "stdout",
     "output_type": "stream",
     "text": [
      "=============================================================\n",
      "epoch: 1, source_val_acc_label: 0.6990, target_val_acc_label: 0.7125, source_val_label_loss: 3.0387, target_val_label_loss: 3.3070, \n",
      "=============================================================\n"
     ]
    },
    {
     "name": "stdout",
     "output_type": "stream",
     "text": [
      "New best\n"
     ]
    },
    {
     "name": "stdout",
     "output_type": "stream",
     "text": [
      "epoch: 2, [batch: 1 / 33600], examples_per_second: 0.9588, train_label_loss: 0.3298, \n"
     ]
    },
    {
     "name": "stdout",
     "output_type": "stream",
     "text": [
      "epoch: 2, [batch: 3360 / 33600], examples_per_second: 3229.5972, train_label_loss: 0.3262, \n"
     ]
    },
    {
     "name": "stdout",
     "output_type": "stream",
     "text": [
      "epoch: 2, [batch: 6720 / 33600], examples_per_second: 3229.6719, train_label_loss: 0.8268, \n"
     ]
    },
    {
     "name": "stdout",
     "output_type": "stream",
     "text": [
      "epoch: 2, [batch: 10080 / 33600], examples_per_second: 3226.3390, train_label_loss: 0.7097, \n"
     ]
    },
    {
     "name": "stdout",
     "output_type": "stream",
     "text": [
      "epoch: 2, [batch: 13440 / 33600], examples_per_second: 3217.1732, train_label_loss: 0.1049, \n"
     ]
    },
    {
     "name": "stdout",
     "output_type": "stream",
     "text": [
      "epoch: 2, [batch: 16800 / 33600], examples_per_second: 3233.1504, train_label_loss: 0.2649, \n"
     ]
    },
    {
     "name": "stdout",
     "output_type": "stream",
     "text": [
      "epoch: 2, [batch: 20160 / 33600], examples_per_second: 3227.3622, train_label_loss: 0.5811, \n"
     ]
    },
    {
     "name": "stdout",
     "output_type": "stream",
     "text": [
      "epoch: 2, [batch: 23520 / 33600], examples_per_second: 3218.3901, train_label_loss: 0.5272, \n"
     ]
    },
    {
     "name": "stdout",
     "output_type": "stream",
     "text": [
      "epoch: 2, [batch: 26880 / 33600], examples_per_second: 3227.9284, train_label_loss: 0.4075, \n"
     ]
    },
    {
     "name": "stdout",
     "output_type": "stream",
     "text": [
      "epoch: 2, [batch: 30240 / 33600], examples_per_second: 3235.9784, train_label_loss: 0.5246, \n"
     ]
    },
    {
     "name": "stdout",
     "output_type": "stream",
     "text": [
      "=============================================================\n",
      "epoch: 2, source_val_acc_label: 0.8556, target_val_acc_label: 0.8626, source_val_label_loss: 0.4067, target_val_label_loss: 0.4792, \n",
      "=============================================================\n"
     ]
    },
    {
     "name": "stdout",
     "output_type": "stream",
     "text": [
      "New best\n"
     ]
    },
    {
     "name": "stdout",
     "output_type": "stream",
     "text": [
      "epoch: 3, [batch: 1 / 33600], examples_per_second: 0.9613, train_label_loss: 0.2637, \n"
     ]
    },
    {
     "name": "stdout",
     "output_type": "stream",
     "text": [
      "epoch: 3, [batch: 3360 / 33600], examples_per_second: 3210.3668, train_label_loss: 0.6061, \n"
     ]
    },
    {
     "name": "stdout",
     "output_type": "stream",
     "text": [
      "epoch: 3, [batch: 6720 / 33600], examples_per_second: 3233.9299, train_label_loss: 0.5912, \n"
     ]
    },
    {
     "name": "stdout",
     "output_type": "stream",
     "text": [
      "epoch: 3, [batch: 10080 / 33600], examples_per_second: 3234.8721, train_label_loss: 0.2571, \n"
     ]
    },
    {
     "name": "stdout",
     "output_type": "stream",
     "text": [
      "epoch: 3, [batch: 13440 / 33600], examples_per_second: 3225.0683, train_label_loss: 0.3991, \n"
     ]
    },
    {
     "name": "stdout",
     "output_type": "stream",
     "text": [
      "epoch: 3, [batch: 16800 / 33600], examples_per_second: 3230.1285, train_label_loss: 0.4559, \n"
     ]
    },
    {
     "name": "stdout",
     "output_type": "stream",
     "text": [
      "epoch: 3, [batch: 20160 / 33600], examples_per_second: 3231.2426, train_label_loss: 0.5127, \n"
     ]
    },
    {
     "name": "stdout",
     "output_type": "stream",
     "text": [
      "epoch: 3, [batch: 23520 / 33600], examples_per_second: 3218.8739, train_label_loss: 0.3846, \n"
     ]
    },
    {
     "name": "stdout",
     "output_type": "stream",
     "text": [
      "epoch: 3, [batch: 26880 / 33600], examples_per_second: 3227.2122, train_label_loss: 0.5862, \n"
     ]
    },
    {
     "name": "stdout",
     "output_type": "stream",
     "text": [
      "epoch: 3, [batch: 30240 / 33600], examples_per_second: 3225.1484, train_label_loss: 0.3116, \n"
     ]
    },
    {
     "name": "stdout",
     "output_type": "stream",
     "text": [
      "=============================================================\n",
      "epoch: 3, source_val_acc_label: 0.8675, target_val_acc_label: 0.8678, source_val_label_loss: 0.3697, target_val_label_loss: 0.4546, \n",
      "=============================================================\n"
     ]
    },
    {
     "name": "stdout",
     "output_type": "stream",
     "text": [
      "New best\n"
     ]
    },
    {
     "name": "stdout",
     "output_type": "stream",
     "text": [
      "epoch: 4, [batch: 1 / 33600], examples_per_second: 0.9636, train_label_loss: 0.2191, \n"
     ]
    },
    {
     "name": "stdout",
     "output_type": "stream",
     "text": [
      "epoch: 4, [batch: 3360 / 33600], examples_per_second: 3226.2869, train_label_loss: 0.2254, \n"
     ]
    },
    {
     "name": "stdout",
     "output_type": "stream",
     "text": [
      "epoch: 4, [batch: 6720 / 33600], examples_per_second: 3227.6705, train_label_loss: 0.5343, \n"
     ]
    },
    {
     "name": "stdout",
     "output_type": "stream",
     "text": [
      "epoch: 4, [batch: 10080 / 33600], examples_per_second: 3230.9036, train_label_loss: 0.5580, \n"
     ]
    },
    {
     "name": "stdout",
     "output_type": "stream",
     "text": [
      "epoch: 4, [batch: 13440 / 33600], examples_per_second: 3217.4204, train_label_loss: 0.1471, \n"
     ]
    },
    {
     "name": "stdout",
     "output_type": "stream",
     "text": [
      "epoch: 4, [batch: 16800 / 33600], examples_per_second: 3226.2036, train_label_loss: 0.3342, \n"
     ]
    },
    {
     "name": "stdout",
     "output_type": "stream",
     "text": [
      "epoch: 4, [batch: 20160 / 33600], examples_per_second: 3231.7307, train_label_loss: 0.2098, \n"
     ]
    },
    {
     "name": "stdout",
     "output_type": "stream",
     "text": [
      "epoch: 4, [batch: 23520 / 33600], examples_per_second: 3220.1012, train_label_loss: 0.2636, \n"
     ]
    },
    {
     "name": "stdout",
     "output_type": "stream",
     "text": [
      "epoch: 4, [batch: 26880 / 33600], examples_per_second: 3226.5161, train_label_loss: 0.4107, \n"
     ]
    },
    {
     "name": "stdout",
     "output_type": "stream",
     "text": [
      "epoch: 4, [batch: 30240 / 33600], examples_per_second: 3230.6768, train_label_loss: 0.2444, \n"
     ]
    },
    {
     "name": "stdout",
     "output_type": "stream",
     "text": [
      "=============================================================\n",
      "epoch: 4, source_val_acc_label: 0.8721, target_val_acc_label: 0.8664, source_val_label_loss: 0.3712, target_val_label_loss: 0.4797, \n",
      "=============================================================\n"
     ]
    },
    {
     "name": "stdout",
     "output_type": "stream",
     "text": [
      "epoch: 5, [batch: 1 / 33600], examples_per_second: 0.9622, train_label_loss: 0.1567, \n"
     ]
    },
    {
     "name": "stdout",
     "output_type": "stream",
     "text": [
      "epoch: 5, [batch: 3360 / 33600], examples_per_second: 3226.1376, train_label_loss: 0.2228, \n"
     ]
    },
    {
     "name": "stdout",
     "output_type": "stream",
     "text": [
      "epoch: 5, [batch: 6720 / 33600], examples_per_second: 3237.0803, train_label_loss: 0.3897, \n"
     ]
    },
    {
     "name": "stdout",
     "output_type": "stream",
     "text": [
      "epoch: 5, [batch: 10080 / 33600], examples_per_second: 3232.1193, train_label_loss: 0.2126, \n"
     ]
    },
    {
     "name": "stdout",
     "output_type": "stream",
     "text": [
      "epoch: 5, [batch: 13440 / 33600], examples_per_second: 3219.9075, train_label_loss: 0.3180, \n"
     ]
    },
    {
     "name": "stdout",
     "output_type": "stream",
     "text": [
      "epoch: 5, [batch: 16800 / 33600], examples_per_second: 3231.3416, train_label_loss: 0.4117, \n"
     ]
    },
    {
     "name": "stdout",
     "output_type": "stream",
     "text": [
      "epoch: 5, [batch: 20160 / 33600], examples_per_second: 3231.1335, train_label_loss: 0.1528, \n"
     ]
    },
    {
     "name": "stdout",
     "output_type": "stream",
     "text": [
      "epoch: 5, [batch: 23520 / 33600], examples_per_second: 3221.4077, train_label_loss: 0.0587, \n"
     ]
    },
    {
     "name": "stdout",
     "output_type": "stream",
     "text": [
      "epoch: 5, [batch: 26880 / 33600], examples_per_second: 3213.8119, train_label_loss: 0.1392, \n"
     ]
    },
    {
     "name": "stdout",
     "output_type": "stream",
     "text": [
      "epoch: 5, [batch: 30240 / 33600], examples_per_second: 3227.1030, train_label_loss: 0.2200, \n"
     ]
    },
    {
     "name": "stdout",
     "output_type": "stream",
     "text": [
      "=============================================================\n",
      "epoch: 5, source_val_acc_label: 0.8793, target_val_acc_label: 0.8680, source_val_label_loss: 0.3389, target_val_label_loss: 0.4562, \n",
      "=============================================================\n"
     ]
    },
    {
     "name": "stdout",
     "output_type": "stream",
     "text": [
      "New best\n"
     ]
    },
    {
     "name": "stdout",
     "output_type": "stream",
     "text": [
      "epoch: 6, [batch: 1 / 33600], examples_per_second: 0.9645, train_label_loss: 0.2534, \n"
     ]
    },
    {
     "name": "stdout",
     "output_type": "stream",
     "text": [
      "epoch: 6, [batch: 3360 / 33600], examples_per_second: 3214.4081, train_label_loss: 0.2974, \n"
     ]
    },
    {
     "name": "stdout",
     "output_type": "stream",
     "text": [
      "epoch: 6, [batch: 6720 / 33600], examples_per_second: 3228.0784, train_label_loss: 0.6137, \n"
     ]
    },
    {
     "name": "stdout",
     "output_type": "stream",
     "text": [
      "epoch: 6, [batch: 10080 / 33600], examples_per_second: 3231.3304, train_label_loss: 0.3647, \n"
     ]
    },
    {
     "name": "stdout",
     "output_type": "stream",
     "text": [
      "epoch: 6, [batch: 13440 / 33600], examples_per_second: 3218.5977, train_label_loss: 0.1556, \n"
     ]
    },
    {
     "name": "stdout",
     "output_type": "stream",
     "text": [
      "epoch: 6, [batch: 16800 / 33600], examples_per_second: 3231.1088, train_label_loss: 0.1959, \n"
     ]
    },
    {
     "name": "stdout",
     "output_type": "stream",
     "text": [
      "epoch: 6, [batch: 20160 / 33600], examples_per_second: 3233.5577, train_label_loss: 0.3729, \n"
     ]
    },
    {
     "name": "stdout",
     "output_type": "stream",
     "text": [
      "epoch: 6, [batch: 23520 / 33600], examples_per_second: 3224.0894, train_label_loss: 0.3381, \n"
     ]
    },
    {
     "name": "stdout",
     "output_type": "stream",
     "text": [
      "epoch: 6, [batch: 26880 / 33600], examples_per_second: 3230.6316, train_label_loss: 0.2268, \n"
     ]
    },
    {
     "name": "stdout",
     "output_type": "stream",
     "text": [
      "epoch: 6, [batch: 30240 / 33600], examples_per_second: 3232.8019, train_label_loss: 0.1481, \n"
     ]
    },
    {
     "name": "stdout",
     "output_type": "stream",
     "text": [
      "=============================================================\n",
      "epoch: 6, source_val_acc_label: 0.8836, target_val_acc_label: 0.8697, source_val_label_loss: 0.3350, target_val_label_loss: 0.4716, \n",
      "=============================================================\n"
     ]
    },
    {
     "name": "stdout",
     "output_type": "stream",
     "text": [
      "New best\n"
     ]
    },
    {
     "name": "stdout",
     "output_type": "stream",
     "text": [
      "epoch: 7, [batch: 1 / 33600], examples_per_second: 0.9653, train_label_loss: 0.2898, \n"
     ]
    },
    {
     "name": "stdout",
     "output_type": "stream",
     "text": [
      "epoch: 7, [batch: 3360 / 33600], examples_per_second: 3222.8187, train_label_loss: 0.1979, \n"
     ]
    },
    {
     "name": "stdout",
     "output_type": "stream",
     "text": [
      "epoch: 7, [batch: 6720 / 33600], examples_per_second: 3227.5737, train_label_loss: 0.1558, \n"
     ]
    },
    {
     "name": "stdout",
     "output_type": "stream",
     "text": [
      "epoch: 7, [batch: 10080 / 33600], examples_per_second: 3233.3082, train_label_loss: 0.1490, \n"
     ]
    },
    {
     "name": "stdout",
     "output_type": "stream",
     "text": [
      "epoch: 7, [batch: 13440 / 33600], examples_per_second: 3216.3149, train_label_loss: 0.1308, \n"
     ]
    },
    {
     "name": "stdout",
     "output_type": "stream",
     "text": [
      "epoch: 7, [batch: 16800 / 33600], examples_per_second: 3221.6794, train_label_loss: 0.1778, \n"
     ]
    },
    {
     "name": "stdout",
     "output_type": "stream",
     "text": [
      "epoch: 7, [batch: 20160 / 33600], examples_per_second: 3228.2307, train_label_loss: 0.2817, \n"
     ]
    },
    {
     "name": "stdout",
     "output_type": "stream",
     "text": [
      "epoch: 7, [batch: 23520 / 33600], examples_per_second: 3221.3170, train_label_loss: 0.0436, \n"
     ]
    },
    {
     "name": "stdout",
     "output_type": "stream",
     "text": [
      "epoch: 7, [batch: 26880 / 33600], examples_per_second: 3223.8175, train_label_loss: 0.2132, \n"
     ]
    },
    {
     "name": "stdout",
     "output_type": "stream",
     "text": [
      "epoch: 7, [batch: 30240 / 33600], examples_per_second: 3230.3646, train_label_loss: 0.2218, \n"
     ]
    },
    {
     "name": "stdout",
     "output_type": "stream",
     "text": [
      "=============================================================\n",
      "epoch: 7, source_val_acc_label: 0.8831, target_val_acc_label: 0.8660, source_val_label_loss: 0.3293, target_val_label_loss: 0.4586, \n",
      "=============================================================\n"
     ]
    },
    {
     "name": "stdout",
     "output_type": "stream",
     "text": [
      "epoch: 8, [batch: 1 / 33600], examples_per_second: 0.9667, train_label_loss: 0.0408, \n"
     ]
    },
    {
     "name": "stdout",
     "output_type": "stream",
     "text": [
      "epoch: 8, [batch: 3360 / 33600], examples_per_second: 3228.2648, train_label_loss: 0.0536, \n"
     ]
    },
    {
     "name": "stdout",
     "output_type": "stream",
     "text": [
      "epoch: 8, [batch: 6720 / 33600], examples_per_second: 3229.5162, train_label_loss: 0.1329, \n"
     ]
    },
    {
     "name": "stdout",
     "output_type": "stream",
     "text": [
      "epoch: 8, [batch: 10080 / 33600], examples_per_second: 3227.4837, train_label_loss: 0.4960, \n"
     ]
    },
    {
     "name": "stdout",
     "output_type": "stream",
     "text": [
      "epoch: 8, [batch: 13440 / 33600], examples_per_second: 3225.8275, train_label_loss: 0.0756, \n"
     ]
    },
    {
     "name": "stdout",
     "output_type": "stream",
     "text": [
      "epoch: 8, [batch: 16800 / 33600], examples_per_second: 3225.4148, train_label_loss: 0.0930, \n"
     ]
    },
    {
     "name": "stdout",
     "output_type": "stream",
     "text": [
      "epoch: 8, [batch: 20160 / 33600], examples_per_second: 3232.1226, train_label_loss: 0.1293, \n"
     ]
    },
    {
     "name": "stdout",
     "output_type": "stream",
     "text": [
      "epoch: 8, [batch: 23520 / 33600], examples_per_second: 3225.7828, train_label_loss: 0.2560, \n"
     ]
    },
    {
     "name": "stdout",
     "output_type": "stream",
     "text": [
      "epoch: 8, [batch: 26880 / 33600], examples_per_second: 3227.7388, train_label_loss: 0.3910, \n"
     ]
    },
    {
     "name": "stdout",
     "output_type": "stream",
     "text": [
      "epoch: 8, [batch: 30240 / 33600], examples_per_second: 3223.0963, train_label_loss: 0.2099, \n"
     ]
    },
    {
     "name": "stdout",
     "output_type": "stream",
     "text": [
      "=============================================================\n",
      "epoch: 8, source_val_acc_label: 0.8923, target_val_acc_label: 0.8701, source_val_label_loss: 0.3167, target_val_label_loss: 0.4765, \n",
      "=============================================================\n"
     ]
    },
    {
     "name": "stdout",
     "output_type": "stream",
     "text": [
      "New best\n"
     ]
    },
    {
     "name": "stdout",
     "output_type": "stream",
     "text": [
      "epoch: 9, [batch: 1 / 33600], examples_per_second: 0.9640, train_label_loss: 0.1915, \n"
     ]
    },
    {
     "name": "stdout",
     "output_type": "stream",
     "text": [
      "epoch: 9, [batch: 3360 / 33600], examples_per_second: 3224.8976, train_label_loss: 0.2390, \n"
     ]
    },
    {
     "name": "stdout",
     "output_type": "stream",
     "text": [
      "epoch: 9, [batch: 6720 / 33600], examples_per_second: 3226.6027, train_label_loss: 0.0849, \n"
     ]
    },
    {
     "name": "stdout",
     "output_type": "stream",
     "text": [
      "epoch: 9, [batch: 10080 / 33600], examples_per_second: 3228.5768, train_label_loss: 0.4284, \n"
     ]
    },
    {
     "name": "stdout",
     "output_type": "stream",
     "text": [
      "epoch: 9, [batch: 13440 / 33600], examples_per_second: 3217.2105, train_label_loss: 0.1451, \n"
     ]
    },
    {
     "name": "stdout",
     "output_type": "stream",
     "text": [
      "epoch: 9, [batch: 16800 / 33600], examples_per_second: 3226.4034, train_label_loss: 0.1959, \n"
     ]
    },
    {
     "name": "stdout",
     "output_type": "stream",
     "text": [
      "epoch: 9, [batch: 20160 / 33600], examples_per_second: 3233.3940, train_label_loss: 0.0915, \n"
     ]
    },
    {
     "name": "stdout",
     "output_type": "stream",
     "text": [
      "epoch: 9, [batch: 23520 / 33600], examples_per_second: 3216.8730, train_label_loss: 0.1424, \n"
     ]
    },
    {
     "name": "stdout",
     "output_type": "stream",
     "text": [
      "epoch: 9, [batch: 26880 / 33600], examples_per_second: 3220.5824, train_label_loss: 0.1312, \n"
     ]
    },
    {
     "name": "stdout",
     "output_type": "stream",
     "text": [
      "epoch: 9, [batch: 30240 / 33600], examples_per_second: 3221.4973, train_label_loss: 0.1663, \n"
     ]
    },
    {
     "name": "stdout",
     "output_type": "stream",
     "text": [
      "=============================================================\n",
      "epoch: 9, source_val_acc_label: 0.8902, target_val_acc_label: 0.8678, source_val_label_loss: 0.3268, target_val_label_loss: 0.4786, \n",
      "=============================================================\n"
     ]
    },
    {
     "name": "stdout",
     "output_type": "stream",
     "text": [
      "epoch: 10, [batch: 1 / 33600], examples_per_second: 0.9622, train_label_loss: 0.1566, \n"
     ]
    },
    {
     "name": "stdout",
     "output_type": "stream",
     "text": [
      "epoch: 10, [batch: 3360 / 33600], examples_per_second: 3220.1503, train_label_loss: 0.0987, \n"
     ]
    },
    {
     "name": "stdout",
     "output_type": "stream",
     "text": [
      "epoch: 10, [batch: 6720 / 33600], examples_per_second: 3227.0613, train_label_loss: 0.1314, \n"
     ]
    },
    {
     "name": "stdout",
     "output_type": "stream",
     "text": [
      "epoch: 10, [batch: 10080 / 33600], examples_per_second: 3233.5187, train_label_loss: 0.1468, \n"
     ]
    },
    {
     "name": "stdout",
     "output_type": "stream",
     "text": [
      "epoch: 10, [batch: 13440 / 33600], examples_per_second: 3219.0308, train_label_loss: 0.3008, \n"
     ]
    },
    {
     "name": "stdout",
     "output_type": "stream",
     "text": [
      "epoch: 10, [batch: 16800 / 33600], examples_per_second: 3227.5755, train_label_loss: 0.0994, \n"
     ]
    },
    {
     "name": "stdout",
     "output_type": "stream",
     "text": [
      "epoch: 10, [batch: 20160 / 33600], examples_per_second: 3228.8916, train_label_loss: 0.0757, \n"
     ]
    },
    {
     "name": "stdout",
     "output_type": "stream",
     "text": [
      "epoch: 10, [batch: 23520 / 33600], examples_per_second: 3217.1257, train_label_loss: 0.0693, \n"
     ]
    },
    {
     "name": "stdout",
     "output_type": "stream",
     "text": [
      "epoch: 10, [batch: 26880 / 33600], examples_per_second: 3227.5236, train_label_loss: 0.0485, \n"
     ]
    },
    {
     "name": "stdout",
     "output_type": "stream",
     "text": [
      "epoch: 10, [batch: 30240 / 33600], examples_per_second: 3227.2218, train_label_loss: 0.0850, \n"
     ]
    },
    {
     "name": "stdout",
     "output_type": "stream",
     "text": [
      "=============================================================\n",
      "epoch: 10, source_val_acc_label: 0.8919, target_val_acc_label: 0.8683, source_val_label_loss: 0.3199, target_val_label_loss: 0.4804, \n",
      "=============================================================\n"
     ]
    },
    {
     "name": "stdout",
     "output_type": "stream",
     "text": [
      "epoch: 11, [batch: 1 / 33600], examples_per_second: 0.9648, train_label_loss: 0.2420, \n"
     ]
    },
    {
     "name": "stdout",
     "output_type": "stream",
     "text": [
      "epoch: 11, [batch: 3360 / 33600], examples_per_second: 3221.3933, train_label_loss: 0.1854, \n"
     ]
    },
    {
     "name": "stdout",
     "output_type": "stream",
     "text": [
      "epoch: 11, [batch: 6720 / 33600], examples_per_second: 3226.7282, train_label_loss: 0.0922, \n"
     ]
    },
    {
     "name": "stdout",
     "output_type": "stream",
     "text": [
      "epoch: 11, [batch: 10080 / 33600], examples_per_second: 3233.0011, train_label_loss: 0.2638, \n"
     ]
    },
    {
     "name": "stdout",
     "output_type": "stream",
     "text": [
      "epoch: 11, [batch: 13440 / 33600], examples_per_second: 3221.3234, train_label_loss: 0.0696, \n"
     ]
    },
    {
     "name": "stdout",
     "output_type": "stream",
     "text": [
      "epoch: 11, [batch: 16800 / 33600], examples_per_second: 3228.9732, train_label_loss: 0.1933, \n"
     ]
    },
    {
     "name": "stdout",
     "output_type": "stream",
     "text": [
      "epoch: 11, [batch: 20160 / 33600], examples_per_second: 3228.5853, train_label_loss: 0.3134, \n"
     ]
    },
    {
     "name": "stdout",
     "output_type": "stream",
     "text": [
      "epoch: 11, [batch: 23520 / 33600], examples_per_second: 3218.4634, train_label_loss: 0.0756, \n"
     ]
    },
    {
     "name": "stdout",
     "output_type": "stream",
     "text": [
      "epoch: 11, [batch: 26880 / 33600], examples_per_second: 3224.0850, train_label_loss: 0.0743, \n"
     ]
    },
    {
     "name": "stdout",
     "output_type": "stream",
     "text": [
      "epoch: 11, [batch: 30240 / 33600], examples_per_second: 3225.3273, train_label_loss: 0.1624, \n"
     ]
    },
    {
     "name": "stdout",
     "output_type": "stream",
     "text": [
      "=============================================================\n",
      "epoch: 11, source_val_acc_label: 0.8899, target_val_acc_label: 0.8639, source_val_label_loss: 0.3301, target_val_label_loss: 0.5017, \n",
      "=============================================================\n"
     ]
    },
    {
     "name": "stdout",
     "output_type": "stream",
     "text": [
      "epoch: 12, [batch: 1 / 33600], examples_per_second: 0.9623, train_label_loss: 0.1619, \n"
     ]
    },
    {
     "name": "stdout",
     "output_type": "stream",
     "text": [
      "epoch: 12, [batch: 3360 / 33600], examples_per_second: 3212.1669, train_label_loss: 0.1650, \n"
     ]
    },
    {
     "name": "stdout",
     "output_type": "stream",
     "text": [
      "epoch: 12, [batch: 6720 / 33600], examples_per_second: 3231.1796, train_label_loss: 0.1187, \n"
     ]
    },
    {
     "name": "stdout",
     "output_type": "stream",
     "text": [
      "epoch: 12, [batch: 10080 / 33600], examples_per_second: 3234.8464, train_label_loss: 0.0563, \n"
     ]
    },
    {
     "name": "stdout",
     "output_type": "stream",
     "text": [
      "epoch: 12, [batch: 13440 / 33600], examples_per_second: 3214.7732, train_label_loss: 0.2964, \n"
     ]
    },
    {
     "name": "stdout",
     "output_type": "stream",
     "text": [
      "epoch: 12, [batch: 16800 / 33600], examples_per_second: 3225.7097, train_label_loss: 0.3623, \n"
     ]
    },
    {
     "name": "stdout",
     "output_type": "stream",
     "text": [
      "epoch: 12, [batch: 20160 / 33600], examples_per_second: 3225.8669, train_label_loss: 0.0373, \n"
     ]
    },
    {
     "name": "stdout",
     "output_type": "stream",
     "text": [
      "epoch: 12, [batch: 23520 / 33600], examples_per_second: 3219.7147, train_label_loss: 0.0383, \n"
     ]
    },
    {
     "name": "stdout",
     "output_type": "stream",
     "text": [
      "epoch: 12, [batch: 26880 / 33600], examples_per_second: 3226.6793, train_label_loss: 0.0736, \n"
     ]
    },
    {
     "name": "stdout",
     "output_type": "stream",
     "text": [
      "epoch: 12, [batch: 30240 / 33600], examples_per_second: 3232.5219, train_label_loss: 0.2869, \n"
     ]
    },
    {
     "name": "stdout",
     "output_type": "stream",
     "text": [
      "=============================================================\n",
      "epoch: 12, source_val_acc_label: 0.8858, target_val_acc_label: 0.8634, source_val_label_loss: 0.3525, target_val_label_loss: 0.5143, \n",
      "=============================================================\n"
     ]
    },
    {
     "name": "stdout",
     "output_type": "stream",
     "text": [
      "Patience (3) exhausted\n"
     ]
    }
   ],
   "source": [
    "###################################\n",
    "# train\n",
    "###################################\n",
    "jig = PTN_Train_Eval_Test_Jig(model, p.BEST_MODEL_PATH, p.device)\n",
    "\n",
    "jig.train(\n",
    "    train_iterable=datasets.source.processed.train,\n",
    "    source_val_iterable=datasets.source.processed.val,\n",
    "    target_val_iterable=datasets.target.processed.val,\n",
    "    num_epochs=p.n_epoch,\n",
    "    num_logs_per_epoch=p.NUM_LOGS_PER_EPOCH,\n",
    "    patience=p.patience,\n",
    "    optimizer=optimizer,\n",
    "    criteria_for_best=p.criteria_for_best,\n",
    ")"
   ]
  },
  {
   "cell_type": "code",
   "execution_count": 23,
   "id": "31e8fabf",
   "metadata": {
    "execution": {
     "iopub.execute_input": "2022-03-28T23:17:11.042063Z",
     "iopub.status.busy": "2022-03-28T23:17:11.041795Z",
     "iopub.status.idle": "2022-03-28T23:17:11.060368Z",
     "shell.execute_reply": "2022-03-28T23:17:11.059925Z"
    },
    "papermill": {
     "duration": 0.061643,
     "end_time": "2022-03-28T23:17:11.060457",
     "exception": false,
     "start_time": "2022-03-28T23:17:10.998814",
     "status": "completed"
    },
    "tags": []
   },
   "outputs": [],
   "source": [
    "total_experiment_time_secs = time.time() - start_time_secs"
   ]
  },
  {
   "cell_type": "code",
   "execution_count": 24,
   "id": "87b9595b",
   "metadata": {
    "execution": {
     "iopub.execute_input": "2022-03-28T23:17:11.151177Z",
     "iopub.status.busy": "2022-03-28T23:17:11.150905Z",
     "iopub.status.idle": "2022-03-28T23:25:17.401647Z",
     "shell.execute_reply": "2022-03-28T23:25:17.401393Z"
    },
    "papermill": {
     "duration": 486.296478,
     "end_time": "2022-03-28T23:25:17.401715",
     "exception": false,
     "start_time": "2022-03-28T23:17:11.105237",
     "status": "completed"
    },
    "tags": []
   },
   "outputs": [],
   "source": [
    "###################################\n",
    "# Evaluate the model\n",
    "###################################\n",
    "source_test_label_accuracy, source_test_label_loss = jig.test(datasets.source.processed.test)\n",
    "target_test_label_accuracy, target_test_label_loss = jig.test(datasets.target.processed.test)\n",
    "\n",
    "source_val_label_accuracy, source_val_label_loss = jig.test(datasets.source.processed.val)\n",
    "target_val_label_accuracy, target_val_label_loss = jig.test(datasets.target.processed.val)\n",
    "\n",
    "history = jig.get_history()\n",
    "\n",
    "total_epochs_trained = len(history[\"epoch_indices\"])\n",
    "\n",
    "val_dl = Iterable_Aggregator((datasets.source.original.val,datasets.target.original.val))\n",
    "\n",
    "confusion = ptn_confusion_by_domain_over_dataloader(model, p.device, val_dl)\n",
    "per_domain_accuracy = per_domain_accuracy_from_confusion(confusion)\n",
    "\n",
    "# Add a key to per_domain_accuracy for if it was a source domain\n",
    "for domain, accuracy in per_domain_accuracy.items():\n",
    "    per_domain_accuracy[domain] = {\n",
    "        \"accuracy\": accuracy,\n",
    "        \"source?\": domain in p.domains_source\n",
    "    }\n",
    "\n",
    "# Do an independent accuracy assesment JUST TO BE SURE!\n",
    "# _source_test_label_accuracy = independent_accuracy_assesment(model, datasets.source.processed.test, p.device)\n",
    "# _target_test_label_accuracy = independent_accuracy_assesment(model, datasets.target.processed.test, p.device)\n",
    "# _source_val_label_accuracy = independent_accuracy_assesment(model, datasets.source.processed.val, p.device)\n",
    "# _target_val_label_accuracy = independent_accuracy_assesment(model, datasets.target.processed.val, p.device)\n",
    "\n",
    "# assert(_source_test_label_accuracy == source_test_label_accuracy)\n",
    "# assert(_target_test_label_accuracy == target_test_label_accuracy)\n",
    "# assert(_source_val_label_accuracy == source_val_label_accuracy)\n",
    "# assert(_target_val_label_accuracy == target_val_label_accuracy)\n",
    "\n",
    "experiment = {\n",
    "    \"experiment_name\": p.experiment_name,\n",
    "    \"parameters\": dict(p),\n",
    "    \"results\": {\n",
    "        \"source_test_label_accuracy\": source_test_label_accuracy,\n",
    "        \"source_test_label_loss\": source_test_label_loss,\n",
    "        \"target_test_label_accuracy\": target_test_label_accuracy,\n",
    "        \"target_test_label_loss\": target_test_label_loss,\n",
    "        \"source_val_label_accuracy\": source_val_label_accuracy,\n",
    "        \"source_val_label_loss\": source_val_label_loss,\n",
    "        \"target_val_label_accuracy\": target_val_label_accuracy,\n",
    "        \"target_val_label_loss\": target_val_label_loss,\n",
    "        \"total_epochs_trained\": total_epochs_trained,\n",
    "        \"total_experiment_time_secs\": total_experiment_time_secs,\n",
    "        \"confusion\": confusion,\n",
    "        \"per_domain_accuracy\": per_domain_accuracy,\n",
    "    },\n",
    "    \"history\": history,\n",
    "    \"dataset_metrics\": get_dataset_metrics(datasets, \"ptn\"),\n",
    "}"
   ]
  },
  {
   "cell_type": "code",
   "execution_count": 25,
   "id": "54a21829",
   "metadata": {
    "execution": {
     "iopub.execute_input": "2022-03-28T23:25:17.483392Z",
     "iopub.status.busy": "2022-03-28T23:25:17.483133Z",
     "iopub.status.idle": "2022-03-28T23:25:17.615108Z",
     "shell.execute_reply": "2022-03-28T23:25:17.614706Z"
    },
    "papermill": {
     "duration": 0.173355,
     "end_time": "2022-03-28T23:25:17.615201",
     "exception": false,
     "start_time": "2022-03-28T23:25:17.441846",
     "status": "completed"
    },
    "tags": []
   },
   "outputs": [
    {
     "data": {
      "image/png": "[encoded data removed]",
      "text/plain": [
       "<Figure size 1080x504 with 1 Axes>"
      ]
     },
     "metadata": {
      "needs_background": "light"
     },
     "output_type": "display_data"
    }
   ],
   "source": [
    "ax = get_loss_curve(experiment)\n",
    "plt.show()"
   ]
  },
  {
   "cell_type": "code",
   "execution_count": 26,
   "id": "fd8a0f60",
   "metadata": {
    "execution": {
     "iopub.execute_input": "2022-03-28T23:25:17.701543Z",
     "iopub.status.busy": "2022-03-28T23:25:17.701292Z",
     "iopub.status.idle": "2022-03-28T23:25:17.845836Z",
     "shell.execute_reply": "2022-03-28T23:25:17.845579Z"
    },
    "papermill": {
     "duration": 0.187069,
     "end_time": "2022-03-28T23:25:17.845895",
     "exception": false,
     "start_time": "2022-03-28T23:25:17.658826",
     "status": "completed"
    },
    "tags": []
   },
   "outputs": [
    {
     "data": {
      "text/plain": [
       "<AxesSubplot:title={'center':'Results'}>"
      ]
     },
     "execution_count": 26,
     "metadata": {},
     "output_type": "execute_result"
    },
    {
     "data": {
      "image/png": "[encoded data removed]",
      "text/plain": [
       "<Figure size 1080x504 with 1 Axes>"
      ]
     },
     "metadata": {
      "needs_background": "light"
     },
     "output_type": "display_data"
    }
   ],
   "source": [
    "get_results_table(experiment)"
   ]
  },
  {
   "cell_type": "code",
   "execution_count": 27,
   "id": "cf8dc689",
   "metadata": {
    "execution": {
     "iopub.execute_input": "2022-03-28T23:25:17.932299Z",
     "iopub.status.busy": "2022-03-28T23:25:17.932049Z",
     "iopub.status.idle": "2022-03-28T23:25:18.108885Z",
     "shell.execute_reply": "2022-03-28T23:25:18.109239Z"
    },
    "papermill": {
     "duration": 0.221271,
     "end_time": "2022-03-28T23:25:18.109353",
     "exception": false,
     "start_time": "2022-03-28T23:25:17.888082",
     "status": "completed"
    },
    "tags": []
   },
   "outputs": [
    {
     "data": {
      "text/plain": [
       "<AxesSubplot:title={'center':'Per Domain Validation Accuracy'}, xlabel='domain'>"
      ]
     },
     "execution_count": 27,
     "metadata": {},
     "output_type": "execute_result"
    },
    {
     "data": {
      "image/png": "[encoded data removed]",
      "text/plain": [
       "<Figure size 1080x504 with 1 Axes>"
      ]
     },
     "metadata": {
      "needs_background": "light"
     },
     "output_type": "display_data"
    }
   ],
   "source": [
    "get_domain_accuracies(experiment)"
   ]
  },
  {
   "cell_type": "code",
   "execution_count": 28,
   "id": "a74ae082",
   "metadata": {
    "execution": {
     "iopub.execute_input": "2022-03-28T23:25:18.202071Z",
     "iopub.status.busy": "2022-03-28T23:25:18.201814Z",
     "iopub.status.idle": "2022-03-28T23:25:18.217445Z",
     "shell.execute_reply": "2022-03-28T23:25:18.217074Z"
    },
    "papermill": {
     "duration": 0.060967,
     "end_time": "2022-03-28T23:25:18.217536",
     "exception": false,
     "start_time": "2022-03-28T23:25:18.156569",
     "status": "completed"
    },
    "tags": []
   },
   "outputs": [
    {
     "name": "stdout",
     "output_type": "stream",
     "text": [
      "Source Test Label Accuracy: 0.8917057291666667 Target Test Label Accuracy: 0.8681575520833333\n",
      "Source Val Label Accuracy: 0.8922916666666667 Target Val Label Accuracy: 0.87005859375\n"
     ]
    }
   ],
   "source": [
    "print(\"Source Test Label Accuracy:\", experiment[\"results\"][\"source_test_label_accuracy\"], \"Target Test Label Accuracy:\", experiment[\"results\"][\"target_test_label_accuracy\"])\n",
    "print(\"Source Val Label Accuracy:\", experiment[\"results\"][\"source_val_label_accuracy\"], \"Target Val Label Accuracy:\", experiment[\"results\"][\"target_val_label_accuracy\"])"
   ]
  },
  {
   "cell_type": "code",
   "execution_count": 29,
   "id": "dacca602",
   "metadata": {
    "execution": {
     "iopub.execute_input": "2022-03-28T23:25:18.309121Z",
     "iopub.status.busy": "2022-03-28T23:25:18.308876Z",
     "iopub.status.idle": "2022-03-28T23:25:18.324645Z",
     "shell.execute_reply": "2022-03-28T23:25:18.325017Z"
    },
    "papermill": {
     "duration": 0.060649,
     "end_time": "2022-03-28T23:25:18.325123",
     "exception": false,
     "start_time": "2022-03-28T23:25:18.264474",
     "status": "completed"
    },
    "tags": [
     "experiment_json"
    ]
   },
   "outputs": [
    {
     "data": {
      "text/plain": [
       "'{\"experiment_name\": \"tl_1v2:oracle.run1-oracle.run2\", \"parameters\": {\"experiment_name\": \"tl_1v2:oracle.run1-oracle.run2\", \"device\": \"cuda\", \"lr\": 0.0001, \"n_shot\": 3, \"n_query\": 2, \"train_k_factor\": 3, \"val_k_factor\": 2, \"test_k_factor\": 2, \"torch_default_dtype\": \"torch.float32\", \"n_epoch\": 50, \"patience\": 3, \"criteria_for_best\": \"target_accuracy\", \"x_net\": [{\"class\": \"nnReshape\", \"kargs\": {\"shape\": [-1, 1, 2, 256]}}, {\"class\": \"Conv2d\", \"kargs\": {\"in_channels\": 1, \"out_channels\": 256, \"kernel_size\": [1, 7], \"bias\": false, \"padding\": [0, 3]}}, {\"class\": \"ReLU\", \"kargs\": {\"inplace\": true}}, {\"class\": \"BatchNorm2d\", \"kargs\": {\"num_features\": 256}}, {\"class\": \"Conv2d\", \"kargs\": {\"in_channels\": 256, \"out_channels\": 80, \"kernel_size\": [2, 7], \"bias\": true, \"padding\": [0, 3]}}, {\"class\": \"ReLU\", \"kargs\": {\"inplace\": true}}, {\"class\": \"BatchNorm2d\", \"kargs\": {\"num_features\": 80}}, {\"class\": \"Flatten\", \"kargs\": {}}, {\"class\": \"Linear\", \"kargs\": {\"in_features\": 20480, \"out_features\": 256}}, {\"class\": \"ReLU\", \"kargs\": {\"inplace\": true}}, {\"class\": \"BatchNorm1d\", \"kargs\": {\"num_features\": 256}}, {\"class\": \"Linear\", \"kargs\": {\"in_features\": 256, \"out_features\": 256}}], \"NUM_LOGS_PER_EPOCH\": 10, \"BEST_MODEL_PATH\": \"./best_model.pth\", \"n_way\": 16, \"datasets\": [{\"labels\": [\"3123D52\", \"3123D65\", \"3123D79\", \"3123D80\", \"3123D54\", \"3123D70\", \"3123D7B\", \"3123D89\", \"3123D58\", \"3123D76\", \"3123D7D\", \"3123EFE\", \"3123D64\", \"3123D78\", \"3123D7E\", \"3124E4A\"], \"domains\": [32, 38, 8, 44, 14, 50, 20, 26], \"num_examples_per_domain_per_label\": 10000, \"pickle_path\": \"/mnt/wd500GB/CSC500/csc500-main/datasets/oracle.Run1_10kExamples_stratified_ds.2022A.pkl\", \"source_or_target_dataset\": \"source\", \"x_transforms\": [], \"episode_transforms\": [], \"domain_prefix\": \"ORACLE.run1_\"}, {\"labels\": [\"3123D52\", \"3123D65\", \"3123D79\", \"3123D80\", \"3123D54\", \"3123D70\", \"3123D7B\", \"3123D89\", \"3123D58\", \"3123D76\", \"3123D7D\", \"3123EFE\", \"3123D64\", \"3123D78\", \"3123D7E\", \"3124E4A\"], \"domains\": [32, 38, 8, 44, 14, 50, 20, 26], \"num_examples_per_domain_per_label\": 10000, \"pickle_path\": \"/mnt/wd500GB/CSC500/csc500-main/datasets/oracle.Run2_10kExamples_stratified_ds.2022A.pkl\", \"source_or_target_dataset\": \"target\", \"x_transforms\": [], \"episode_transforms\": [], \"domain_prefix\": \"ORACLE.run2_\"}], \"dataset_seed\": 7, \"seed\": 7, \"x_shape\": [2, 256], \"domains_source\": [\"ORACLE.run1_32\", \"ORACLE.run1_38\", \"ORACLE.run1_8\", \"ORACLE.run1_44\", \"ORACLE.run1_14\", \"ORACLE.run1_50\", \"ORACLE.run1_20\", \"ORACLE.run1_26\"], \"domains_target\": [\"ORACLE.run2_32\", \"ORACLE.run2_38\", \"ORACLE.run2_8\", \"ORACLE.run2_44\", \"ORACLE.run2_14\", \"ORACLE.run2_50\", \"ORACLE.run2_20\", \"ORACLE.run2_26\"]}, \"results\": {\"source_test_label_accuracy\": 0.8917057291666667, \"source_test_label_loss\": 0.3171478807926178, \"target_test_label_accuracy\": 0.8681575520833333, \"target_test_label_loss\": 0.4792787432670593, \"source_val_label_accuracy\": 0.8922916666666667, \"source_val_label_loss\": 0.3166874051094055, \"target_val_label_accuracy\": 0.87005859375, \"target_val_label_loss\": 0.47652146220207214, \"total_epochs_trained\": 12, \"total_experiment_time_secs\": 11051.68715929985, \"confusion\": {\"ORACLE.run1_26\": {\"0\": {\"0\": 872, \"10\": 174, \"14\": 94, \"8\": 49, \"7\": 2, \"1\": 3, \"15\": 2, \"2\": 3, \"6\": 1}, \"4\": {\"4\": 1198, \"3\": 2}, \"14\": {\"14\": 858, \"10\": 201, \"0\": 73, \"1\": 55, \"15\": 11, \"6\": 2}, \"12\": {\"12\": 1200}, \"8\": {\"8\": 875, \"7\": 163, \"9\": 136, \"2\": 18, \"0\": 7, \"3\": 1}, \"7\": {\"7\": 971, \"3\": 56, \"2\": 75, \"8\": 87, \"9\": 11}, \"13\": {\"13\": 1086, \"9\": 63, \"2\": 43, \"3\": 6, \"8\": 2}, \"5\": {\"5\": 1033, \"6\": 25, \"15\": 142}, \"15\": {\"5\": 185, \"15\": 851, \"6\": 112, \"10\": 38, \"14\": 5, \"1\": 5, \"0\": 4}, \"10\": {\"10\": 848, \"0\": 109, \"14\": 162, \"1\": 8, \"6\": 34, \"15\": 39}, \"3\": {\"3\": 1126, \"2\": 23, \"7\": 51}, \"9\": {\"9\": 914, \"13\": 40, \"8\": 209, \"2\": 22, \"3\": 2, \"7\": 13}, \"6\": {\"6\": 1052, \"15\": 71, \"5\": 23, \"10\": 48, \"1\": 3, \"14\": 3}, \"1\": {\"1\": 1063, \"14\": 97, \"10\": 15, \"6\": 12, \"15\": 8, \"5\": 4, \"0\": 1}, \"11\": {\"11\": 1200}, \"2\": {\"2\": 771, \"7\": 182, \"3\": 102, \"9\": 65, \"8\": 54, \"0\": 18, \"13\": 5, \"15\": 2, \"14\": 1}}, \"ORACLE.run1_44\": {\"1\": {\"2\": 52, \"1\": 1146, \"10\": 2}, \"11\": {\"11\": 1199, \"13\": 1}, \"3\": {\"3\": 1179, \"12\": 21}, \"6\": {\"6\": 1011, \"13\": 108, \"9\": 78, \"7\": 3}, \"7\": {\"7\": 1076, \"9\": 106, \"2\": 5, \"6\": 5, \"10\": 8}, \"5\": {\"5\": 1089, \"15\": 62, \"8\": 14, \"14\": 33, \"4\": 1, \"0\": 1}, \"2\": {\"2\": 1162, \"1\": 26, \"10\": 6, \"7\": 6}, \"15\": {\"8\": 36, \"15\": 1036, \"14\": 73, \"5\": 48, \"4\": 3, \"0\": 4}, \"10\": {\"10\": 1145, \"1\": 21, \"2\": 24, \"7\": 10}, \"13\": {\"13\": 1038, \"6\": 136, \"9\": 25, \"4\": 1}, \"8\": {\"8\": 900, \"0\": 237, \"15\": 31, \"5\": 32}, \"4\": {\"4\": 939, \"14\": 240, \"9\": 4, \"13\": 3, \"15\": 9, \"5\": 5}, \"9\": {\"7\": 228, \"9\": 766, \"6\": 122, \"13\": 77, \"2\": 6, \"4\": 1}, \"14\": {\"14\": 1051, \"4\": 96, \"15\": 28, \"5\": 25}, \"0\": {\"0\": 1054, \"8\": 144, \"15\": 2}, \"12\": {\"12\": 1168, \"3\": 32}}, \"ORACLE.run1_50\": {\"15\": {\"15\": 1137, \"6\": 53, \"5\": 3, \"11\": 4, \"4\": 3}, \"4\": {\"4\": 989, \"7\": 100, \"6\": 8, \"15\": 44, \"5\": 59}, \"6\": {\"6\": 1089, \"5\": 51, \"15\": 56, \"7\": 2, \"4\": 2}, \"2\": {\"2\": 1178, \"0\": 22}, \"5\": {\"5\": 761, \"6\": 170, \"7\": 150, \"4\": 71, \"13\": 26, \"1\": 5, \"15\": 17}, \"9\": {\"9\": 1045, \"12\": 73, \"11\": 81, \"15\": 1}, \"8\": {\"8\": 1199, \"10\": 1}, \"12\": {\"12\": 1143, \"9\": 44, \"11\": 13}, \"10\": {\"10\": 1184, \"0\": 3, \"8\": 13}, \"1\": {\"1\": 1186, \"0\": 1, \"13\": 9, \"5\": 2, \"4\": 1, \"10\": 1}, \"0\": {\"0\": 1170, \"2\": 28, \"10\": 2}, \"3\": {\"3\": 1200}, \"13\": {\"13\": 1192, \"1\": 2, \"5\": 6}, \"11\": {\"11\": 1150, \"9\": 12, \"15\": 17, \"12\": 21}, \"7\": {\"7\": 1099, \"4\": 36, \"5\": 64, \"6\": 1}, \"14\": {\"14\": 1200}}, \"ORACLE.run1_38\": {\"15\": {\"15\": 1152, \"8\": 35, \"5\": 5, \"2\": 8}, \"11\": {\"11\": 1200}, \"10\": {\"10\": 1136, \"13\": 31, \"0\": 27, \"4\": 6}, \"14\": {\"14\": 1094, \"2\": 101, \"13\": 4, \"8\": 1}, \"6\": {\"6\": 1198, \"1\": 2}, \"4\": {\"4\": 1198, \"10\": 2}, \"13\": {\"13\": 1134, \"2\": 2, \"0\": 9, \"10\": 55}, \"3\": {\"3\": 1200}, \"7\": {\"7\": 1169, \"8\": 13, \"9\": 1, \"5\": 7, \"0\": 10}, \"8\": {\"8\": 811, \"5\": 325, \"7\": 51, \"0\": 5, \"15\": 6, \"9\": 1, \"13\": 1}, \"1\": {\"1\": 1200}, \"5\": {\"15\": 29, \"5\": 605, \"8\": 435, \"9\": 76, \"7\": 53, \"2\": 1, \"0\": 1}, \"0\": {\"0\": 1032, \"10\": 58, \"3\": 4, \"8\": 9, \"9\": 1, \"13\": 27, \"7\": 65, \"4\": 2, \"5\": 2}, \"2\": {\"2\": 1145, \"14\": 54, \"13\": 1}, \"12\": {\"12\": 1199, \"8\": 1}, \"9\": {\"9\": 1170, \"5\": 24, \"7\": 4, \"8\": 2}}, \"ORACLE.run1_20\": {\"10\": {\"10\": 1195, \"4\": 5}, \"7\": {\"7\": 1030, \"6\": 11, \"2\": 74, \"9\": 75, \"14\": 1, \"4\": 6, \"8\": 1, \"3\": 2}, \"4\": {\"4\": 1152, \"7\": 3, \"2\": 6, \"12\": 34, \"6\": 1, \"10\": 4}, \"13\": {\"13\": 1172, \"2\": 18, \"15\": 4, \"12\": 6}, \"1\": {\"1\": 940, \"5\": 207, \"9\": 29, \"15\": 14, \"3\": 7, \"12\": 2, \"2\": 1}, \"0\": {\"0\": 1174, \"8\": 4, \"5\": 13, \"3\": 9}, \"12\": {\"12\": 998, \"15\": 79, \"2\": 98, \"1\": 2, \"9\": 3, \"4\": 18, \"13\": 1, \"7\": 1}, \"5\": {\"5\": 859, \"1\": 244, \"3\": 83, \"9\": 14}, \"6\": {\"6\": 1193, \"7\": 6, \"10\": 1}, \"2\": {\"2\": 920, \"12\": 133, \"7\": 98, \"13\": 15, \"9\": 23, \"15\": 7, \"4\": 4}, \"8\": {\"8\": 1128, \"3\": 38, \"14\": 33, \"9\": 1}, \"11\": {\"11\": 1200}, \"9\": {\"9\": 1011, \"3\": 76, \"1\": 40, \"2\": 5, \"7\": 53, \"15\": 1, \"5\": 13, \"8\": 1}, \"14\": {\"14\": 1168, \"8\": 32}, \"15\": {\"15\": 1025, \"1\": 75, \"12\": 89, \"9\": 5, \"13\": 2, \"2\": 3, \"5\": 1}, \"3\": {\"3\": 865, \"9\": 138, \"5\": 102, \"1\": 19, \"8\": 62, \"0\": 13, \"7\": 1}}, \"ORACLE.run1_14\": {\"14\": {\"14\": 1051, \"13\": 75, \"2\": 29, \"6\": 35, \"3\": 10}, \"0\": {\"0\": 1162, \"10\": 6, \"3\": 29, \"14\": 3}, \"4\": {\"4\": 1183, \"5\": 12, \"2\": 5}, \"11\": {\"11\": 1200}, \"13\": {\"13\": 470, \"6\": 451, \"14\": 191, \"2\": 83, \"15\": 1, \"4\": 3, \"5\": 1}, \"9\": {\"9\": 1200}, \"3\": {\"3\": 1181, \"14\": 13, \"0\": 3, \"2\": 2, \"6\": 1}, \"6\": {\"6\": 850, \"13\": 256, \"2\": 24, \"14\": 67, \"3\": 3}, \"1\": {\"1\": 1200}, \"5\": {\"5\": 1103, \"2\": 71, \"4\": 6, \"3\": 5, \"7\": 15}, \"12\": {\"12\": 1200}, \"10\": {\"10\": 1200}, \"8\": {\"8\": 1200}, \"7\": {\"7\": 1187, \"5\": 13}, \"15\": {\"15\": 1200}, \"2\": {\"2\": 720, \"4\": 46, \"5\": 156, \"14\": 120, \"6\": 60, \"3\": 33, \"13\": 60, \"7\": 5}}, \"ORACLE.run1_32\": {\"11\": {\"11\": 1195, \"13\": 5}, \"1\": {\"1\": 1200}, \"2\": {\"2\": 1137, \"4\": 62, \"14\": 1}, \"0\": {\"0\": 991, \"5\": 51, \"7\": 61, \"8\": 75, \"14\": 22}, \"3\": {\"3\": 1163, \"13\": 37}, \"8\": {\"8\": 994, \"0\": 96, \"5\": 71, \"14\": 22, \"4\": 5, \"7\": 7, \"2\": 3, \"15\": 2}, \"12\": {\"12\": 1198, \"9\": 2}, \"5\": {\"14\": 24, \"5\": 768, \"8\": 124, \"7\": 216, \"0\": 68}, \"15\": {\"15\": 1189, \"8\": 11}, \"7\": {\"7\": 838, \"5\": 186, \"14\": 103, \"0\": 63, \"8\": 10}, \"4\": {\"4\": 1093, \"13\": 27, \"2\": 80}, \"14\": {\"14\": 893, \"7\": 203, \"2\": 11, \"8\": 20, \"5\": 25, \"0\": 48}, \"10\": {\"10\": 1200}, \"6\": {\"6\": 1200}, \"13\": {\"13\": 1072, \"3\": 73, \"4\": 48, \"11\": 7}, \"9\": {\"9\": 1196, \"2\": 2, \"12\": 2}}, \"ORACLE.run1_8\": {\"9\": {\"9\": 1200}, \"11\": {\"11\": 762, \"1\": 368, \"14\": 39, \"8\": 11, \"5\": 7, \"6\": 7, \"10\": 2, \"4\": 4}, \"8\": {\"8\": 1190, \"6\": 7, \"4\": 2, \"11\": 1}, \"4\": {\"4\": 1179, \"14\": 14, \"8\": 1, \"6\": 4, \"11\": 2}, \"13\": {\"13\": 1040, \"10\": 108, \"6\": 21, \"7\": 31}, \"14\": {\"14\": 1138, \"4\": 54, \"11\": 6, \"1\": 2}, \"2\": {\"12\": 79, \"2\": 928, \"15\": 50, \"3\": 143}, \"3\": {\"3\": 1199, \"2\": 1}, \"1\": {\"1\": 1001, \"11\": 165, \"5\": 13, \"10\": 16, \"4\": 2, \"6\": 2, \"13\": 1}, \"0\": {\"0\": 1200}, \"5\": {\"1\": 50, \"5\": 1024, \"10\": 109, \"11\": 12, \"14\": 4, \"4\": 1}, \"15\": {\"15\": 1031, \"12\": 149, \"2\": 19, \"3\": 1}, \"10\": {\"10\": 988, \"5\": 40, \"13\": 129, \"4\": 14, \"1\": 26, \"6\": 3}, \"12\": {\"12\": 942, \"15\": 256, \"2\": 2}, \"6\": {\"6\": 1043, \"7\": 142, \"10\": 1, \"13\": 11, \"4\": 3}, \"7\": {\"7\": 1085, \"6\": 106, \"13\": 9}}, \"ORACLE.run2_26\": {\"0\": {\"0\": 736, \"2\": 15, \"10\": 249, \"14\": 86, \"15\": 56, \"8\": 58}, \"4\": {\"4\": 1192, \"3\": 8}, \"14\": {\"14\": 795, \"1\": 99, \"0\": 151, \"10\": 134, \"6\": 11, \"15\": 5, \"5\": 5}, \"12\": {\"12\": 1200}, \"8\": {\"2\": 166, \"8\": 851, \"9\": 138, \"7\": 9, \"10\": 15, \"13\": 3, \"15\": 3, \"0\": 15}, \"7\": {\"7\": 787, \"9\": 32, \"3\": 146, \"2\": 187, \"8\": 36, \"13\": 11, \"4\": 1}, \"13\": {\"13\": 1018, \"9\": 161, \"7\": 15, \"3\": 1, \"2\": 4, \"8\": 1}, \"5\": {\"5\": 841, \"6\": 277, \"14\": 20, \"1\": 14, \"15\": 44, \"10\": 4}, \"15\": {\"15\": 1045, \"0\": 31, \"8\": 33, \"2\": 83, \"10\": 5, \"9\": 2, \"7\": 1}, \"10\": {\"0\": 331, \"1\": 37, \"10\": 390, \"8\": 139, \"14\": 202, \"2\": 6, \"6\": 53, \"9\": 14, \"15\": 26, \"5\": 2}, \"3\": {\"3\": 1102, \"2\": 4, \"7\": 87, \"4\": 7}, \"9\": {\"8\": 149, \"9\": 887, \"13\": 102, \"7\": 27, \"2\": 34, \"15\": 1}, \"6\": {\"6\": 1079, \"5\": 107, \"14\": 8, \"10\": 5, \"1\": 1}, \"1\": {\"1\": 1177, \"14\": 14, \"5\": 3, \"6\": 6}, \"11\": {\"11\": 1200}, \"2\": {\"15\": 35, \"2\": 773, \"7\": 147, \"8\": 175, \"9\": 55, \"3\": 9, \"13\": 4, \"10\": 1, \"4\": 1}}, \"ORACLE.run2_44\": {\"1\": {\"1\": 1190, \"2\": 8, \"3\": 2}, \"11\": {\"11\": 1200}, \"3\": {\"3\": 1133, \"12\": 64, \"1\": 3}, \"6\": {\"6\": 1169, \"13\": 16, \"7\": 5, \"9\": 10}, \"7\": {\"9\": 316, \"7\": 879, \"10\": 3, \"6\": 2}, \"5\": {\"5\": 1124, \"14\": 45, \"8\": 18, \"15\": 10, \"0\": 3}, \"2\": {\"2\": 1197, \"1\": 3}, \"15\": {\"15\": 1139, \"8\": 18, \"5\": 22, \"4\": 4, \"14\": 17}, \"10\": {\"10\": 1151, \"9\": 8, \"7\": 41}, \"13\": {\"13\": 1152, \"4\": 28, \"6\": 20}, \"8\": {\"8\": 988, \"0\": 187, \"5\": 14, \"15\": 11}, \"4\": {\"4\": 1106, \"15\": 1, \"14\": 93}, \"9\": {\"7\": 383, \"9\": 794, \"6\": 23}, \"14\": {\"14\": 1096, \"5\": 32, \"4\": 66, \"8\": 1, \"15\": 5}, \"0\": {\"0\": 930, \"8\": 265, \"5\": 3, \"15\": 2}, \"12\": {\"12\": 1119, \"3\": 81}}, \"ORACLE.run2_50\": {\"15\": {\"15\": 1174, \"6\": 20, \"4\": 5, \"11\": 1}, \"4\": {\"4\": 894, \"5\": 244, \"7\": 31, \"15\": 8, \"6\": 23}, \"6\": {\"6\": 1032, \"4\": 32, \"5\": 106, \"15\": 30}, \"2\": {\"2\": 1188, \"0\": 12}, \"5\": {\"5\": 806, \"4\": 233, \"6\": 95, \"7\": 66}, \"9\": {\"9\": 1193, \"12\": 6, \"15\": 1}, \"8\": {\"8\": 1200}, \"12\": {\"12\": 1184, \"9\": 10, \"11\": 6}, \"10\": {\"10\": 1176, \"13\": 17, \"0\": 6, \"1\": 1}, \"1\": {\"1\": 1200}, \"0\": {\"0\": 1172, \"2\": 16, \"10\": 12}, \"3\": {\"3\": 1200}, \"13\": {\"13\": 1199, \"10\": 1}, \"11\": {\"11\": 1183, \"15\": 7, \"12\": 10}, \"7\": {\"7\": 1090, \"5\": 72, \"4\": 38}, \"14\": {\"14\": 1200}}, \"ORACLE.run2_38\": {\"15\": {\"1\": 190, \"15\": 936, \"6\": 58, \"5\": 16}, \"11\": {\"11\": 1200}, \"10\": {\"10\": 1135, \"13\": 36, \"3\": 25, \"7\": 1, \"4\": 3}, \"14\": {\"14\": 727, \"2\": 324, \"7\": 62, \"12\": 29, \"10\": 15, \"8\": 7, \"13\": 5, \"5\": 13, \"4\": 18}, \"6\": {\"6\": 1200}, \"4\": {\"4\": 1193, \"10\": 7}, \"13\": {\"10\": 150, \"13\": 835, \"3\": 215}, \"3\": {\"10\": 74, \"3\": 752, \"13\": 304, \"0\": 53, \"11\": 14, \"9\": 1, \"7\": 2}, \"7\": {\"7\": 1170, \"0\": 15, \"5\": 4, \"8\": 9, \"13\": 1, \"10\": 1}, \"8\": {\"8\": 868, \"5\": 326, \"7\": 4, \"0\": 2}, \"1\": {\"1\": 1148, \"15\": 51, \"6\": 1}, \"5\": {\"5\": 791, \"8\": 405, \"0\": 2, \"7\": 1, \"14\": 1}, \"0\": {\"0\": 1152, \"7\": 46, \"8\": 2}, \"2\": {\"14\": 73, \"2\": 1125, \"8\": 1, \"5\": 1}, \"12\": {\"12\": 1193, \"14\": 7}, \"9\": {\"9\": 1198, \"0\": 2}}, \"ORACLE.run2_20\": {\"10\": {\"10\": 1102, \"7\": 24, \"6\": 70, \"4\": 3, \"12\": 1}, \"7\": {\"7\": 1060, \"3\": 119, \"9\": 1, \"10\": 8, \"5\": 2, \"6\": 5, \"4\": 2, \"2\": 3}, \"4\": {\"4\": 1140, \"5\": 6, \"3\": 22, \"9\": 17, \"2\": 4, \"15\": 7, \"7\": 3, \"10\": 1}, \"13\": {\"13\": 1074, \"12\": 124, \"15\": 2}, \"1\": {\"1\": 1132, \"5\": 55, \"15\": 4, \"2\": 6, \"9\": 3}, \"0\": {\"0\": 1187, \"1\": 7, \"8\": 6}, \"12\": {\"12\": 1112, \"13\": 87, \"7\": 1}, \"5\": {\"3\": 70, \"5\": 570, \"2\": 261, \"9\": 121, \"1\": 143, \"15\": 23, \"4\": 6, \"8\": 1, \"7\": 1, \"0\": 3, \"13\": 1}, \"6\": {\"6\": 1168, \"7\": 14, \"10\": 18}, \"2\": {\"5\": 249, \"9\": 333, \"2\": 461, \"15\": 49, \"3\": 93, \"4\": 2, \"1\": 12, \"7\": 1}, \"8\": {\"8\": 1065, \"14\": 127, \"0\": 7, \"11\": 1}, \"11\": {\"11\": 1200}, \"9\": {\"9\": 486, \"2\": 300, \"15\": 179, \"3\": 153, \"5\": 75, \"4\": 7}, \"14\": {\"14\": 1035, \"8\": 165}, \"15\": {\"12\": 32, \"9\": 202, \"15\": 814, \"3\": 26, \"13\": 17, \"1\": 9, \"2\": 78, \"5\": 18, \"4\": 4}, \"3\": {\"2\": 114, \"7\": 157, \"3\": 592, \"9\": 173, \"4\": 39, \"15\": 45, \"5\": 80}}, \"ORACLE.run2_14\": {\"14\": {\"2\": 192, \"14\": 829, \"6\": 100, \"3\": 10, \"13\": 59, \"5\": 10}, \"0\": {\"0\": 1183, \"10\": 17}, \"4\": {\"4\": 1197, \"2\": 1, \"5\": 2}, \"11\": {\"11\": 1200}, \"13\": {\"6\": 282, \"13\": 879, \"2\": 12, \"14\": 27}, \"9\": {\"9\": 1200}, \"3\": {\"3\": 1176, \"2\": 13, \"5\": 5, \"6\": 5, \"14\": 1}, \"6\": {\"6\": 837, \"13\": 288, \"14\": 63, \"2\": 12}, \"1\": {\"1\": 1200}, \"5\": {\"5\": 1086, \"2\": 105, \"3\": 2, \"14\": 5, \"4\": 2}, \"12\": {\"10\": 101, \"9\": 367, \"12\": 561, \"15\": 67, \"11\": 41, \"0\": 42, \"8\": 4, \"1\": 9, \"3\": 4, \"4\": 2, \"14\": 1, \"5\": 1}, \"10\": {\"10\": 1067, \"0\": 123, \"14\": 8, \"12\": 2}, \"8\": {\"8\": 1200}, \"7\": {\"7\": 1200}, \"15\": {\"15\": 1200}, \"2\": {\"14\": 271, \"13\": 54, \"5\": 220, \"2\": 538, \"6\": 48, \"3\": 57, \"4\": 11, \"7\": 1}}, \"ORACLE.run2_32\": {\"11\": {\"4\": 279, \"11\": 663, \"13\": 220, \"0\": 26, \"8\": 2, \"7\": 10}, \"1\": {\"1\": 1200}, \"2\": {\"2\": 909, \"7\": 28, \"14\": 232, \"0\": 31}, \"0\": {\"0\": 968, \"7\": 77, \"5\": 1, \"2\": 44, \"8\": 86, \"4\": 14, \"11\": 1, \"14\": 9}, \"3\": {\"3\": 1177, \"13\": 19, \"11\": 3, \"4\": 1}, \"8\": {\"8\": 1108, \"0\": 86, \"7\": 5, \"14\": 1}, \"12\": {\"12\": 1200}, \"5\": {\"5\": 1063, \"2\": 84, \"14\": 23, \"7\": 15, \"15\": 11, \"8\": 4}, \"15\": {\"15\": 1198, \"5\": 2}, \"7\": {\"7\": 1041, \"2\": 31, \"0\": 116, \"8\": 10, \"14\": 1, \"5\": 1}, \"4\": {\"4\": 1090, \"13\": 6, \"11\": 90, \"0\": 13, \"3\": 1}, \"14\": {\"2\": 330, \"14\": 852, \"5\": 1, \"0\": 10, \"7\": 7}, \"10\": {\"10\": 1200}, \"6\": {\"6\": 1200}, \"13\": {\"13\": 1067, \"11\": 104, \"4\": 12, \"3\": 17}, \"9\": {\"9\": 1200}}, \"ORACLE.run2_8\": {\"9\": {\"9\": 1200}, \"11\": {\"11\": 741, \"8\": 405, \"6\": 1, \"12\": 20, \"7\": 32, \"14\": 1}, \"8\": {\"8\": 1087, \"11\": 85, \"6\": 24, \"14\": 2, \"4\": 2}, \"4\": {\"4\": 960, \"7\": 213, \"6\": 24, \"14\": 2, \"13\": 1}, \"13\": {\"13\": 1137, \"10\": 57, \"4\": 2, \"7\": 3, \"1\": 1}, \"14\": {\"14\": 1136, \"6\": 58, \"1\": 6}, \"2\": {\"2\": 1200}, \"3\": {\"3\": 1200}, \"1\": {\"1\": 1073, \"13\": 43, \"10\": 21, \"5\": 44, \"14\": 19}, \"0\": {\"0\": 1200}, \"5\": {\"5\": 1032, \"10\": 132, \"1\": 36}, \"15\": {\"15\": 1189, \"12\": 11}, \"10\": {\"10\": 1043, \"5\": 79, \"13\": 73, \"1\": 5}, \"12\": {\"12\": 1192, \"15\": 8}, \"6\": {\"6\": 1138, \"14\": 52, \"8\": 5, \"4\": 5}, \"7\": {\"4\": 128, \"7\": 1072}}}, \"per_domain_accuracy\": {\"ORACLE.run1_26\": {\"accuracy\": 0.8290625, \"source?\": true}, \"ORACLE.run1_44\": {\"accuracy\": 0.88328125, \"source?\": true}, \"ORACLE.run1_50\": {\"accuracy\": 0.9334375, \"source?\": true}, \"ORACLE.run1_38\": {\"accuracy\": 0.91890625, \"source?\": true}, \"ORACLE.run1_20\": {\"accuracy\": 0.8869791666666667, \"source?\": true}, \"ORACLE.run1_14\": {\"accuracy\": 0.90140625, \"source?\": true}, \"ORACLE.run1_32\": {\"accuracy\": 0.9024479166666667, \"source?\": true}, \"ORACLE.run1_8\": {\"accuracy\": 0.8828125, \"source?\": true}, \"ORACLE.run2_26\": {\"accuracy\": 0.7850520833333333, \"source?\": false}, \"ORACLE.run2_44\": {\"accuracy\": 0.90453125, \"source?\": false}, \"ORACLE.run2_50\": {\"accuracy\": 0.9422395833333334, \"source?\": false}, \"ORACLE.run2_38\": {\"accuracy\": 0.86578125, \"source?\": false}, \"ORACLE.run2_20\": {\"accuracy\": 0.7915625, \"source?\": false}, \"ORACLE.run2_14\": {\"accuracy\": 0.8621354166666667, \"source?\": false}, \"ORACLE.run2_32\": {\"accuracy\": 0.8925, \"source?\": false}, \"ORACLE.run2_8\": {\"accuracy\": 0.9166666666666666, \"source?\": false}}}, \"history\": {\"epoch_indices\": [1, 2, 3, 4, 5, 6, 7, 8, 9, 10, 11, 12], \"train_label_loss\": [0.6996358515560582, 0.42363393849582365, 0.3420634742877779, 0.29828567981442794, 0.2638877084090685, 0.23461070227664008, 0.20992386364225588, 0.18994509102017176, 0.1727631172613543, 0.15756289460277045, 0.14452017433182585, 0.13329699309108298], \"source_val_label_loss\": [3.0387349128723145, 0.4067092835903168, 0.36968937516212463, 0.3712347149848938, 0.33892175555229187, 0.335014671087265, 0.32930272817611694, 0.3166874051094055, 0.3267805576324463, 0.3199121057987213, 0.33013126254081726, 0.3525407612323761], \"target_val_label_loss\": [3.3070149421691895, 0.47915372252464294, 0.4546276926994324, 0.47973695397377014, 0.4562174081802368, 0.47155484557151794, 0.4585937559604645, 0.47652146220207214, 0.4786134362220764, 0.4803525507450104, 0.5017472505569458, 0.5143319368362427], \"source_val_acc_label\": [0.6989583333333333, 0.8555794270833333, 0.86751953125, 0.87208984375, 0.87931640625, 0.8835677083333333, 0.8831184895833334, 0.8922916666666667, 0.89021484375, 0.891875, 0.8898763020833333, 0.88583984375], \"target_val_acc_label\": [0.7124869791666667, 0.8626106770833334, 0.8678125, 0.8664453125, 0.868046875, 0.86966796875, 0.8660091145833333, 0.87005859375, 0.8677799479166667, 0.86826171875, 0.8638932291666667, 0.8633854166666667]}, \"dataset_metrics\": {\"source\": {\"train\": {\"n_unique_x\": 896000, \"n_unique_y\": 16, \"n_batch/episode\": 33600}, \"val\": {\"n_unique_x\": 192000, \"n_unique_y\": 16, \"n_batch/episode\": 4800}, \"test\": {\"n_unique_x\": 192000, \"n_unique_y\": 16, \"n_batch/episode\": 4800}}, \"target\": {\"train\": {\"n_unique_x\": 896000, \"n_unique_y\": 16, \"n_batch/episode\": 33600}, \"val\": {\"n_unique_x\": 192000, \"n_unique_y\": 16, \"n_batch/episode\": 4800}, \"test\": {\"n_unique_x\": 192000, \"n_unique_y\": 16, \"n_batch/episode\": 4800}}}}'"
      ]
     },
     "execution_count": 29,
     "metadata": {},
     "output_type": "execute_result"
    }
   ],
   "source": [
    "json.dumps(experiment)"
   ]
  }
 ],
 "metadata": {
  "celltoolbar": "Tags",
  "kernelspec": {
   "display_name": "Python 3 (ipykernel)",
   "language": "python",
   "name": "python3"
  },
  "language_info": {
   "codemirror_mode": {
    "name": "ipython",
    "version": 3
   },
   "file_extension": ".py",
   "mimetype": "text/x-python",
   "name": "python",
   "nbconvert_exporter": "python",
   "pygments_lexer": "ipython3",
   "version": "3.8.10"
  },
  "papermill": {
   "default_parameters": {},
   "duration": 11544.875968,
   "end_time": "2022-03-28T23:25:20.890676",
   "environment_variables": {},
   "exception": null,
   "input_path": "/mnt/wd500GB/CSC500/csc500-main/csc500-notebooks/templates/tl_ptn_template.ipynb",
   "output_path": "trial.ipynb",
   "parameters": {
    "parameters": {
     "BEST_MODEL_PATH": "./best_model.pth",
     "NUM_LOGS_PER_EPOCH": 10,
     "criteria_for_best": "target_accuracy",
     "dataset_seed": 7,
     "datasets": [
      {
       "domain_prefix": "ORACLE.run1_",
       "domains": [
        32,
        38,
        8,
        44,
        14,
        50,
        20,
        26
       ],
       "episode_transforms": [],
       "labels": [
        "3123D52",
        "3123D65",
        "3123D79",
        "3123D80",
        "3123D54",
        "3123D70",
        "3123D7B",
        "3123D89",
        "3123D58",
        "3123D76",
        "3123D7D",
        "3123EFE",
        "3123D64",
        "3123D78",
        "3123D7E",
        "3124E4A"
       ],
       "num_examples_per_domain_per_label": 10000,
       "pickle_path": "/mnt/wd500GB/CSC500/csc500-main/datasets/oracle.Run1_10kExamples_stratified_ds.2022A.pkl",
       "source_or_target_dataset": "source",
       "x_transforms": []
      },
      {
       "domain_prefix": "ORACLE.run2_",
       "domains": [
        32,
        38,
        8,
        44,
        14,
        50,
        20,
        26
       ],
       "episode_transforms": [],
       "labels": [
        "3123D52",
        "3123D65",
        "3123D79",
        "3123D80",
        "3123D54",
        "3123D70",
        "3123D7B",
        "3123D89",
        "3123D58",
        "3123D76",
        "3123D7D",
        "3123EFE",
        "3123D64",
        "3123D78",
        "3123D7E",
        "3124E4A"
       ],
       "num_examples_per_domain_per_label": 10000,
       "pickle_path": "/mnt/wd500GB/CSC500/csc500-main/datasets/oracle.Run2_10kExamples_stratified_ds.2022A.pkl",
       "source_or_target_dataset": "target",
       "x_transforms": []
      }
     ],
     "device": "cuda",
     "experiment_name": "tl_1v2:oracle.run1-oracle.run2",
     "lr": 0.0001,
     "n_epoch": 50,
     "n_query": 2,
     "n_shot": 3,
     "n_way": 16,
     "patience": 3,
     "seed": 7,
     "test_k_factor": 2,
     "torch_default_dtype": "torch.float32",
     "train_k_factor": 3,
     "val_k_factor": 2,
     "x_net": [
      {
       "class": "nnReshape",
       "kargs": {
        "shape": [
         -1,
         1,
         2,
         256
        ]
       }
      },
      {
       "class": "Conv2d",
       "kargs": {
        "bias": false,
        "in_channels": 1,
        "kernel_size": [
         1,
         7
        ],
        "out_channels": 256,
        "padding": [
         0,
         3
        ]
       }
      },
      {
       "class": "ReLU",
       "kargs": {
        "inplace": true
       }
      },
      {
       "class": "BatchNorm2d",
       "kargs": {
        "num_features": 256
       }
      },
      {
       "class": "Conv2d",
       "kargs": {
        "bias": true,
        "in_channels": 256,
        "kernel_size": [
         2,
         7
        ],
        "out_channels": 80,
        "padding": [
         0,
         3
        ]
       }
      },
      {
       "class": "ReLU",
       "kargs": {
        "inplace": true
       }
      },
      {
       "class": "BatchNorm2d",
       "kargs": {
        "num_features": 80
       }
      },
      {
       "class": "Flatten",
       "kargs": {}
      },
      {
       "class": "Linear",
       "kargs": {
        "in_features": 20480,
        "out_features": 256
       }
      },
      {
       "class": "ReLU",
       "kargs": {
        "inplace": true
       }
      },
      {
       "class": "BatchNorm1d",
       "kargs": {
        "num_features": 256
       }
      },
      {
       "class": "Linear",
       "kargs": {
        "in_features": 256,
        "out_features": 256
       }
      }
     ]
    }
   },
   "start_time": "2022-03-28T20:12:56.014708",
   "version": "2.3.4"
  }
 },
 "nbformat": 4,
 "nbformat_minor": 5
}