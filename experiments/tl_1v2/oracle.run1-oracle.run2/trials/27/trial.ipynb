{
 "cells": [
  {
   "cell_type": "markdown",
   "id": "9fea5f46",
   "metadata": {
    "papermill": {
     "duration": 0.019991,
     "end_time": "2022-03-29T17:50:39.390765",
     "exception": false,
     "start_time": "2022-03-29T17:50:39.370774",
     "status": "completed"
    },
    "tags": []
   },
   "source": [
    "# Transfer Learning Template"
   ]
  },
  {
   "cell_type": "code",
   "execution_count": 1,
   "id": "0902182a",
   "metadata": {
    "execution": {
     "iopub.execute_input": "2022-03-29T17:50:39.431038Z",
     "iopub.status.busy": "2022-03-29T17:50:39.423631Z",
     "iopub.status.idle": "2022-03-29T17:50:40.796721Z",
     "shell.execute_reply": "2022-03-29T17:50:40.796955Z"
    },
    "papermill": {
     "duration": 1.393479,
     "end_time": "2022-03-29T17:50:40.797070",
     "exception": false,
     "start_time": "2022-03-29T17:50:39.403591",
     "status": "completed"
    },
    "tags": []
   },
   "outputs": [],
   "source": [
    "%load_ext autoreload\n",
    "%autoreload 2\n",
    "%matplotlib inline\n",
    "\n",
    "    \n",
    "import os, json, sys, time, random\n",
    "import numpy as np\n",
    "import torch\n",
    "from torch.optim import Adam\n",
    "from  easydict import EasyDict\n",
    "import matplotlib.pyplot as plt\n",
    "\n",
    "from steves_models.steves_ptn import Steves_Prototypical_Network\n",
    "\n",
    "from steves_utils.lazy_iterable_wrapper import Lazy_Iterable_Wrapper\n",
    "from steves_utils.iterable_aggregator import Iterable_Aggregator\n",
    "from steves_utils.ptn_train_eval_test_jig import  PTN_Train_Eval_Test_Jig\n",
    "from steves_utils.torch_sequential_builder import build_sequential\n",
    "from steves_utils.torch_utils import get_dataset_metrics, ptn_confusion_by_domain_over_dataloader\n",
    "from steves_utils.utils_v2 import (per_domain_accuracy_from_confusion, get_datasets_base_path)\n",
    "from steves_utils.PTN.utils import independent_accuracy_assesment\n",
    "\n",
    "from torch.utils.data import DataLoader\n",
    "\n",
    "from steves_utils.stratified_dataset.episodic_accessor import Episodic_Accessor_Factory\n",
    "\n",
    "from steves_utils.ptn_do_report import (\n",
    "    get_loss_curve,\n",
    "    get_results_table,\n",
    "    get_parameters_table,\n",
    "    get_domain_accuracies,\n",
    ")\n",
    "\n",
    "from steves_utils.transforms import get_chained_transform"
   ]
  },
  {
   "cell_type": "markdown",
   "id": "41c840b4",
   "metadata": {
    "papermill": {
     "duration": 0.012235,
     "end_time": "2022-03-29T17:50:40.822670",
     "exception": false,
     "start_time": "2022-03-29T17:50:40.810435",
     "status": "completed"
    },
    "tags": []
   },
   "source": [
    "# Allowed Parameters\n",
    "These are allowed parameters, not defaults\n",
    "Each of these values need to be present in the injected parameters (the notebook will raise an exception if they are not present)\n",
    "\n",
    "Papermill uses the cell tag \"parameters\" to inject the real parameters below this cell.\n",
    "Enable tags to see what I mean"
   ]
  },
  {
   "cell_type": "code",
   "execution_count": 2,
   "id": "fd44eb83",
   "metadata": {
    "execution": {
     "iopub.execute_input": "2022-03-29T17:50:40.850280Z",
     "iopub.status.busy": "2022-03-29T17:50:40.850003Z",
     "iopub.status.idle": "2022-03-29T17:50:40.864462Z",
     "shell.execute_reply": "2022-03-29T17:50:40.864070Z"
    },
    "papermill": {
     "duration": 0.029563,
     "end_time": "2022-03-29T17:50:40.864550",
     "exception": false,
     "start_time": "2022-03-29T17:50:40.834987",
     "status": "completed"
    },
    "tags": []
   },
   "outputs": [],
   "source": [
    "required_parameters = {\n",
    "    \"experiment_name\",\n",
    "    \"lr\",\n",
    "    \"device\",\n",
    "    \"seed\",\n",
    "    \"dataset_seed\",\n",
    "    \"n_shot\",\n",
    "    \"n_query\",\n",
    "    \"n_way\",\n",
    "    \"train_k_factor\",\n",
    "    \"val_k_factor\",\n",
    "    \"test_k_factor\",\n",
    "    \"n_epoch\",\n",
    "    \"patience\",\n",
    "    \"criteria_for_best\",\n",
    "    \"x_net\",\n",
    "    \"datasets\",\n",
    "    \"torch_default_dtype\",\n",
    "    \"NUM_LOGS_PER_EPOCH\",\n",
    "    \"BEST_MODEL_PATH\",\n",
    "    \"x_shape\",\n",
    "}"
   ]
  },
  {
   "cell_type": "code",
   "execution_count": 3,
   "id": "fa3f0049",
   "metadata": {
    "execution": {
     "iopub.execute_input": "2022-03-29T17:50:40.904728Z",
     "iopub.status.busy": "2022-03-29T17:50:40.904454Z",
     "iopub.status.idle": "2022-03-29T17:50:40.918262Z",
     "shell.execute_reply": "2022-03-29T17:50:40.918631Z"
    },
    "papermill": {
     "duration": 0.036961,
     "end_time": "2022-03-29T17:50:40.918731",
     "exception": false,
     "start_time": "2022-03-29T17:50:40.881770",
     "status": "completed"
    },
    "tags": [
     "parameters"
    ]
   },
   "outputs": [],
   "source": [
    "from steves_utils.CORES.utils import (\n",
    "    ALL_NODES,\n",
    "    ALL_NODES_MINIMUM_1000_EXAMPLES,\n",
    "    ALL_DAYS\n",
    ")\n",
    "\n",
    "from steves_utils.ORACLE.utils_v2 import (\n",
    "    ALL_DISTANCES_FEET_NARROWED,\n",
    "    ALL_RUNS,\n",
    "    ALL_SERIAL_NUMBERS,\n",
    ")\n",
    "\n",
    "standalone_parameters = {}\n",
    "standalone_parameters[\"experiment_name\"] = \"STANDALONE PTN\"\n",
    "standalone_parameters[\"lr\"] = 0.001\n",
    "standalone_parameters[\"device\"] = \"cuda\"\n",
    "\n",
    "standalone_parameters[\"seed\"] = 1337\n",
    "standalone_parameters[\"dataset_seed\"] = 1337\n",
    "\n",
    "standalone_parameters[\"n_way\"] = 8\n",
    "standalone_parameters[\"n_shot\"] = 3\n",
    "standalone_parameters[\"n_query\"]  = 2\n",
    "standalone_parameters[\"train_k_factor\"] = 1\n",
    "standalone_parameters[\"val_k_factor\"] = 2\n",
    "standalone_parameters[\"test_k_factor\"] = 2\n",
    "\n",
    "\n",
    "standalone_parameters[\"n_epoch\"] = 50\n",
    "\n",
    "standalone_parameters[\"patience\"] = 10\n",
    "standalone_parameters[\"criteria_for_best\"] = \"source_loss\"\n",
    "\n",
    "standalone_parameters[\"datasets\"] = [\n",
    "    {\n",
    "        \"labels\": ALL_SERIAL_NUMBERS,\n",
    "        \"domains\": ALL_DISTANCES_FEET_NARROWED,\n",
    "        \"num_examples_per_domain_per_label\": 100,\n",
    "        \"pickle_path\": os.path.join(get_datasets_base_path(), \"oracle.Run1_framed_2000Examples_stratified_ds.2022A.pkl\"),\n",
    "        \"source_or_target_dataset\": \"source\",\n",
    "        \"x_transforms\": [\"unit_mag\", \"minus_two\"],\n",
    "        \"episode_transforms\": [],\n",
    "        \"domain_prefix\": \"ORACLE_\"\n",
    "    },\n",
    "    {\n",
    "        \"labels\": ALL_NODES,\n",
    "        \"domains\": ALL_DAYS,\n",
    "        \"num_examples_per_domain_per_label\": 100,\n",
    "        \"pickle_path\": os.path.join(get_datasets_base_path(), \"cores.stratified_ds.2022A.pkl\"),\n",
    "        \"source_or_target_dataset\": \"target\",\n",
    "        \"x_transforms\": [\"unit_power\", \"times_zero\"],\n",
    "        \"episode_transforms\": [],\n",
    "        \"domain_prefix\": \"CORES_\"\n",
    "    }   \n",
    "]\n",
    "\n",
    "standalone_parameters[\"torch_default_dtype\"] = \"torch.float32\" \n",
    "\n",
    "\n",
    "\n",
    "standalone_parameters[\"x_net\"] =     [\n",
    "    {\"class\": \"nnReshape\", \"kargs\": {\"shape\":[-1, 1, 2, 256]}},\n",
    "    {\"class\": \"Conv2d\", \"kargs\": { \"in_channels\":1, \"out_channels\":256, \"kernel_size\":(1,7), \"bias\":False, \"padding\":(0,3), },},\n",
    "    {\"class\": \"ReLU\", \"kargs\": {\"inplace\": True}},\n",
    "    {\"class\": \"BatchNorm2d\", \"kargs\": {\"num_features\":256}},\n",
    "\n",
    "    {\"class\": \"Conv2d\", \"kargs\": { \"in_channels\":256, \"out_channels\":80, \"kernel_size\":(2,7), \"bias\":True, \"padding\":(0,3), },},\n",
    "    {\"class\": \"ReLU\", \"kargs\": {\"inplace\": True}},\n",
    "    {\"class\": \"BatchNorm2d\", \"kargs\": {\"num_features\":80}},\n",
    "    {\"class\": \"Flatten\", \"kargs\": {}},\n",
    "\n",
    "    {\"class\": \"Linear\", \"kargs\": {\"in_features\": 80*256, \"out_features\": 256}}, # 80 units per IQ pair\n",
    "    {\"class\": \"ReLU\", \"kargs\": {\"inplace\": True}},\n",
    "    {\"class\": \"BatchNorm1d\", \"kargs\": {\"num_features\":256}},\n",
    "\n",
    "    {\"class\": \"Linear\", \"kargs\": {\"in_features\": 256, \"out_features\": 256}},\n",
    "]\n",
    "\n",
    "# Parameters relevant to results\n",
    "# These parameters will basically never need to change\n",
    "standalone_parameters[\"NUM_LOGS_PER_EPOCH\"] = 10\n",
    "standalone_parameters[\"BEST_MODEL_PATH\"] = \"./best_model.pth\"\n",
    "\n",
    "\n",
    "\n",
    "\n"
   ]
  },
  {
   "cell_type": "code",
   "execution_count": 4,
   "id": "26014d79",
   "metadata": {
    "execution": {
     "iopub.execute_input": "2022-03-29T17:50:40.956742Z",
     "iopub.status.busy": "2022-03-29T17:50:40.956430Z",
     "iopub.status.idle": "2022-03-29T17:50:40.969721Z",
     "shell.execute_reply": "2022-03-29T17:50:40.969276Z"
    },
    "papermill": {
     "duration": 0.034706,
     "end_time": "2022-03-29T17:50:40.969809",
     "exception": false,
     "start_time": "2022-03-29T17:50:40.935103",
     "status": "completed"
    },
    "tags": [
     "injected-parameters"
    ]
   },
   "outputs": [],
   "source": [
    "# Parameters\n",
    "parameters = {\n",
    "    \"experiment_name\": \"tl_1v2:oracle.run1-oracle.run2\",\n",
    "    \"device\": \"cuda\",\n",
    "    \"lr\": 0.0001,\n",
    "    \"n_shot\": 3,\n",
    "    \"n_query\": 2,\n",
    "    \"train_k_factor\": 3,\n",
    "    \"val_k_factor\": 2,\n",
    "    \"test_k_factor\": 2,\n",
    "    \"torch_default_dtype\": \"torch.float32\",\n",
    "    \"n_epoch\": 50,\n",
    "    \"patience\": 3,\n",
    "    \"criteria_for_best\": \"target_accuracy\",\n",
    "    \"x_net\": [\n",
    "        {\"class\": \"nnReshape\", \"kargs\": {\"shape\": [-1, 1, 2, 256]}},\n",
    "        {\n",
    "            \"class\": \"Conv2d\",\n",
    "            \"kargs\": {\n",
    "                \"in_channels\": 1,\n",
    "                \"out_channels\": 256,\n",
    "                \"kernel_size\": [1, 7],\n",
    "                \"bias\": False,\n",
    "                \"padding\": [0, 3],\n",
    "            },\n",
    "        },\n",
    "        {\"class\": \"ReLU\", \"kargs\": {\"inplace\": True}},\n",
    "        {\"class\": \"BatchNorm2d\", \"kargs\": {\"num_features\": 256}},\n",
    "        {\n",
    "            \"class\": \"Conv2d\",\n",
    "            \"kargs\": {\n",
    "                \"in_channels\": 256,\n",
    "                \"out_channels\": 80,\n",
    "                \"kernel_size\": [2, 7],\n",
    "                \"bias\": True,\n",
    "                \"padding\": [0, 3],\n",
    "            },\n",
    "        },\n",
    "        {\"class\": \"ReLU\", \"kargs\": {\"inplace\": True}},\n",
    "        {\"class\": \"BatchNorm2d\", \"kargs\": {\"num_features\": 80}},\n",
    "        {\"class\": \"Flatten\", \"kargs\": {}},\n",
    "        {\"class\": \"Linear\", \"kargs\": {\"in_features\": 20480, \"out_features\": 256}},\n",
    "        {\"class\": \"ReLU\", \"kargs\": {\"inplace\": True}},\n",
    "        {\"class\": \"BatchNorm1d\", \"kargs\": {\"num_features\": 256}},\n",
    "        {\"class\": \"Linear\", \"kargs\": {\"in_features\": 256, \"out_features\": 256}},\n",
    "    ],\n",
    "    \"NUM_LOGS_PER_EPOCH\": 10,\n",
    "    \"BEST_MODEL_PATH\": \"./best_model.pth\",\n",
    "    \"n_way\": 16,\n",
    "    \"datasets\": [\n",
    "        {\n",
    "            \"labels\": [\n",
    "                \"3123D52\",\n",
    "                \"3123D65\",\n",
    "                \"3123D79\",\n",
    "                \"3123D80\",\n",
    "                \"3123D54\",\n",
    "                \"3123D70\",\n",
    "                \"3123D7B\",\n",
    "                \"3123D89\",\n",
    "                \"3123D58\",\n",
    "                \"3123D76\",\n",
    "                \"3123D7D\",\n",
    "                \"3123EFE\",\n",
    "                \"3123D64\",\n",
    "                \"3123D78\",\n",
    "                \"3123D7E\",\n",
    "                \"3124E4A\",\n",
    "            ],\n",
    "            \"domains\": [32, 38, 8, 44, 14, 50, 20, 26],\n",
    "            \"num_examples_per_domain_per_label\": 10000,\n",
    "            \"pickle_path\": \"/mnt/wd500GB/CSC500/csc500-main/datasets/oracle.Run1_10kExamples_stratified_ds.2022A.pkl\",\n",
    "            \"source_or_target_dataset\": \"target\",\n",
    "            \"x_transforms\": [\"unit_power\"],\n",
    "            \"episode_transforms\": [],\n",
    "            \"domain_prefix\": \"ORACLE.run1_\",\n",
    "        },\n",
    "        {\n",
    "            \"labels\": [\n",
    "                \"3123D52\",\n",
    "                \"3123D65\",\n",
    "                \"3123D79\",\n",
    "                \"3123D80\",\n",
    "                \"3123D54\",\n",
    "                \"3123D70\",\n",
    "                \"3123D7B\",\n",
    "                \"3123D89\",\n",
    "                \"3123D58\",\n",
    "                \"3123D76\",\n",
    "                \"3123D7D\",\n",
    "                \"3123EFE\",\n",
    "                \"3123D64\",\n",
    "                \"3123D78\",\n",
    "                \"3123D7E\",\n",
    "                \"3124E4A\",\n",
    "            ],\n",
    "            \"domains\": [32, 38, 8, 44, 14, 50, 20, 26],\n",
    "            \"num_examples_per_domain_per_label\": 10000,\n",
    "            \"pickle_path\": \"/mnt/wd500GB/CSC500/csc500-main/datasets/oracle.Run2_10kExamples_stratified_ds.2022A.pkl\",\n",
    "            \"source_or_target_dataset\": \"source\",\n",
    "            \"x_transforms\": [\"unit_power\"],\n",
    "            \"episode_transforms\": [],\n",
    "            \"domain_prefix\": \"ORACLE.run2_\",\n",
    "        },\n",
    "    ],\n",
    "    \"dataset_seed\": 500,\n",
    "    \"seed\": 500,\n",
    "}\n"
   ]
  },
  {
   "cell_type": "code",
   "execution_count": 5,
   "id": "8fa1cc33",
   "metadata": {
    "execution": {
     "iopub.execute_input": "2022-03-29T17:50:41.001612Z",
     "iopub.status.busy": "2022-03-29T17:50:41.001364Z",
     "iopub.status.idle": "2022-03-29T17:50:41.011582Z",
     "shell.execute_reply": "2022-03-29T17:50:41.011951Z"
    },
    "papermill": {
     "duration": 0.025336,
     "end_time": "2022-03-29T17:50:41.012053",
     "exception": false,
     "start_time": "2022-03-29T17:50:40.986717",
     "status": "completed"
    },
    "tags": []
   },
   "outputs": [],
   "source": [
    "# Set this to True if you want to run this template directly\n",
    "STANDALONE = False\n",
    "if STANDALONE:\n",
    "    print(\"parameters not injected, running with standalone_parameters\")\n",
    "    parameters = standalone_parameters\n",
    "\n",
    "if not 'parameters' in locals() and not 'parameters' in globals():\n",
    "    raise Exception(\"Parameter injection failed\")\n",
    "\n",
    "#Use an easy dict for all the parameters\n",
    "p = EasyDict(parameters)\n",
    "\n",
    "if \"x_shape\" not in p:\n",
    "    p.x_shape = [2,256] # Default to this if we dont supply x_shape\n",
    "\n",
    "\n",
    "supplied_keys = set(p.keys())\n",
    "\n",
    "if  supplied_keys != required_parameters:\n",
    "    print(\"Parameters are incorrect\")\n",
    "    if len(supplied_keys - required_parameters)>0: print(\"Shouldn't have:\", str(supplied_keys - required_parameters))\n",
    "    if len(required_parameters - supplied_keys)>0: print(\"Need to have:\", str(required_parameters - supplied_keys))\n",
    "    raise RuntimeError(\"Parameters are incorrect\")"
   ]
  },
  {
   "cell_type": "code",
   "execution_count": 6,
   "id": "3a028d58",
   "metadata": {
    "execution": {
     "iopub.execute_input": "2022-03-29T17:50:41.044160Z",
     "iopub.status.busy": "2022-03-29T17:50:41.043918Z",
     "iopub.status.idle": "2022-03-29T17:50:41.059012Z",
     "shell.execute_reply": "2022-03-29T17:50:41.059382Z"
    },
    "papermill": {
     "duration": 0.030167,
     "end_time": "2022-03-29T17:50:41.059483",
     "exception": false,
     "start_time": "2022-03-29T17:50:41.029316",
     "status": "completed"
    },
    "tags": []
   },
   "outputs": [],
   "source": [
    "###################################\n",
    "# Set the RNGs and make it all deterministic\n",
    "###################################\n",
    "np.random.seed(p.seed)\n",
    "random.seed(p.seed)\n",
    "torch.manual_seed(p.seed)\n",
    "\n",
    "torch.use_deterministic_algorithms(True) "
   ]
  },
  {
   "cell_type": "code",
   "execution_count": 7,
   "id": "b691acf6",
   "metadata": {
    "execution": {
     "iopub.execute_input": "2022-03-29T17:50:41.091959Z",
     "iopub.status.busy": "2022-03-29T17:50:41.091717Z",
     "iopub.status.idle": "2022-03-29T17:50:41.106805Z",
     "shell.execute_reply": "2022-03-29T17:50:41.106356Z"
    },
    "papermill": {
     "duration": 0.029873,
     "end_time": "2022-03-29T17:50:41.106893",
     "exception": false,
     "start_time": "2022-03-29T17:50:41.077020",
     "status": "completed"
    },
    "tags": []
   },
   "outputs": [],
   "source": [
    "###########################################\n",
    "# The stratified datasets honor this\n",
    "###########################################\n",
    "torch.set_default_dtype(eval(p.torch_default_dtype))"
   ]
  },
  {
   "cell_type": "code",
   "execution_count": 8,
   "id": "b5fba671",
   "metadata": {
    "execution": {
     "iopub.execute_input": "2022-03-29T17:50:41.137312Z",
     "iopub.status.busy": "2022-03-29T17:50:41.137071Z",
     "iopub.status.idle": "2022-03-29T17:50:41.172841Z",
     "shell.execute_reply": "2022-03-29T17:50:41.172396Z"
    },
    "papermill": {
     "duration": 0.049892,
     "end_time": "2022-03-29T17:50:41.172928",
     "exception": false,
     "start_time": "2022-03-29T17:50:41.123036",
     "status": "completed"
    },
    "tags": []
   },
   "outputs": [],
   "source": [
    "###################################\n",
    "# Build the network(s)\n",
    "# Note: It's critical to do this AFTER setting the RNG\n",
    "###################################\n",
    "x_net = build_sequential(p.x_net)"
   ]
  },
  {
   "cell_type": "code",
   "execution_count": 9,
   "id": "5d7e61cc",
   "metadata": {
    "execution": {
     "iopub.execute_input": "2022-03-29T17:50:41.205532Z",
     "iopub.status.busy": "2022-03-29T17:50:41.205292Z",
     "iopub.status.idle": "2022-03-29T17:50:41.219821Z",
     "shell.execute_reply": "2022-03-29T17:50:41.220190Z"
    },
    "papermill": {
     "duration": 0.029785,
     "end_time": "2022-03-29T17:50:41.220292",
     "exception": false,
     "start_time": "2022-03-29T17:50:41.190507",
     "status": "completed"
    },
    "tags": []
   },
   "outputs": [],
   "source": [
    "start_time_secs = time.time()"
   ]
  },
  {
   "cell_type": "code",
   "execution_count": 10,
   "id": "c6b67dfd",
   "metadata": {
    "execution": {
     "iopub.execute_input": "2022-03-29T17:50:41.253261Z",
     "iopub.status.busy": "2022-03-29T17:50:41.252918Z",
     "iopub.status.idle": "2022-03-29T17:50:41.267519Z",
     "shell.execute_reply": "2022-03-29T17:50:41.267075Z"
    },
    "papermill": {
     "duration": 0.029517,
     "end_time": "2022-03-29T17:50:41.267605",
     "exception": false,
     "start_time": "2022-03-29T17:50:41.238088",
     "status": "completed"
    },
    "tags": []
   },
   "outputs": [],
   "source": [
    "p.domains_source = []\n",
    "p.domains_target = []\n",
    "\n",
    "\n",
    "train_original_source = []\n",
    "val_original_source   = []\n",
    "test_original_source  = []\n",
    "\n",
    "train_original_target = []\n",
    "val_original_target   = []\n",
    "test_original_target  = []"
   ]
  },
  {
   "cell_type": "code",
   "execution_count": 11,
   "id": "e3d9c3d3",
   "metadata": {
    "execution": {
     "iopub.execute_input": "2022-03-29T17:50:41.300943Z",
     "iopub.status.busy": "2022-03-29T17:50:41.300702Z",
     "iopub.status.idle": "2022-03-29T17:50:41.310329Z",
     "shell.execute_reply": "2022-03-29T17:50:41.309972Z"
    },
    "papermill": {
     "duration": 0.023788,
     "end_time": "2022-03-29T17:50:41.310397",
     "exception": false,
     "start_time": "2022-03-29T17:50:41.286609",
     "status": "completed"
    },
    "tags": []
   },
   "outputs": [],
   "source": [
    "# global_x_transform_func = lambda x: normalize(x.to(torch.get_default_dtype()), \"unit_power\") # unit_power, unit_mag\n",
    "# global_x_transform_func = lambda x: normalize(x, \"unit_power\") # unit_power, unit_mag"
   ]
  },
  {
   "cell_type": "code",
   "execution_count": 12,
   "id": "acb78fd2",
   "metadata": {
    "execution": {
     "iopub.execute_input": "2022-03-29T17:50:41.346130Z",
     "iopub.status.busy": "2022-03-29T17:50:41.345492Z",
     "iopub.status.idle": "2022-03-29T17:50:41.358779Z",
     "shell.execute_reply": "2022-03-29T17:50:41.359145Z"
    },
    "papermill": {
     "duration": 0.033151,
     "end_time": "2022-03-29T17:50:41.359246",
     "exception": false,
     "start_time": "2022-03-29T17:50:41.326095",
     "status": "completed"
    },
    "tags": []
   },
   "outputs": [],
   "source": [
    "def add_dataset(\n",
    "    labels,\n",
    "    domains,\n",
    "    pickle_path,\n",
    "    x_transforms,\n",
    "    episode_transforms,\n",
    "    domain_prefix,\n",
    "    num_examples_per_domain_per_label,\n",
    "    source_or_target_dataset:str,\n",
    "    iterator_seed=p.seed,\n",
    "    dataset_seed=p.dataset_seed,\n",
    "    n_shot=p.n_shot,\n",
    "    n_way=p.n_way,\n",
    "    n_query=p.n_query,\n",
    "    train_val_test_k_factors=(p.train_k_factor,p.val_k_factor,p.test_k_factor),\n",
    "):\n",
    "   \n",
    "    if x_transforms == []: x_transform = None\n",
    "    else: x_transform = get_chained_transform(x_transforms)\n",
    "    \n",
    "    if episode_transforms == []: episode_transform = None\n",
    "    else: raise Exception(\"episode_transforms not implemented\")\n",
    "    \n",
    "    episode_transform = lambda tup, _prefix=domain_prefix: (_prefix + str(tup[0]), tup[1])\n",
    "\n",
    "\n",
    "    eaf = Episodic_Accessor_Factory(\n",
    "        labels=labels,\n",
    "        domains=domains,\n",
    "        num_examples_per_domain_per_label=num_examples_per_domain_per_label,\n",
    "        iterator_seed=iterator_seed,\n",
    "        dataset_seed=dataset_seed,\n",
    "        n_shot=n_shot,\n",
    "        n_way=n_way,\n",
    "        n_query=n_query,\n",
    "        train_val_test_k_factors=train_val_test_k_factors,\n",
    "        pickle_path=pickle_path,\n",
    "        x_transform_func=x_transform,\n",
    "    )\n",
    "\n",
    "    train, val, test = eaf.get_train(), eaf.get_val(), eaf.get_test()\n",
    "    train = Lazy_Iterable_Wrapper(train, episode_transform)\n",
    "    val = Lazy_Iterable_Wrapper(val, episode_transform)\n",
    "    test = Lazy_Iterable_Wrapper(test, episode_transform)\n",
    "\n",
    "    if source_or_target_dataset==\"source\":\n",
    "        train_original_source.append(train)\n",
    "        val_original_source.append(val)\n",
    "        test_original_source.append(test)\n",
    "\n",
    "        p.domains_source.extend(\n",
    "            [domain_prefix + str(u) for u in domains]\n",
    "        )\n",
    "    elif source_or_target_dataset==\"target\":\n",
    "        train_original_target.append(train)\n",
    "        val_original_target.append(val)\n",
    "        test_original_target.append(test)\n",
    "        p.domains_target.extend(\n",
    "            [domain_prefix + str(u) for u in domains]\n",
    "        )\n",
    "    else:\n",
    "        raise Exception(f\"invalid source_or_target_dataset: {source_or_target_dataset}\")\n",
    "    "
   ]
  },
  {
   "cell_type": "code",
   "execution_count": 13,
   "id": "fe266617",
   "metadata": {
    "execution": {
     "iopub.execute_input": "2022-03-29T17:50:41.392794Z",
     "iopub.status.busy": "2022-03-29T17:50:41.392432Z",
     "iopub.status.idle": "2022-03-29T17:53:25.169564Z",
     "shell.execute_reply": "2022-03-29T17:53:25.169071Z"
    },
    "papermill": {
     "duration": 163.792033,
     "end_time": "2022-03-29T17:53:25.169666",
     "exception": false,
     "start_time": "2022-03-29T17:50:41.377633",
     "status": "completed"
    },
    "tags": []
   },
   "outputs": [],
   "source": [
    "for ds in p.datasets:\n",
    "    add_dataset(**ds)"
   ]
  },
  {
   "cell_type": "code",
   "execution_count": 14,
   "id": "b90d65ac",
   "metadata": {
    "execution": {
     "iopub.execute_input": "2022-03-29T17:53:25.202822Z",
     "iopub.status.busy": "2022-03-29T17:53:25.202567Z",
     "iopub.status.idle": "2022-03-29T17:53:25.213122Z",
     "shell.execute_reply": "2022-03-29T17:53:25.212879Z"
    },
    "papermill": {
     "duration": 0.025803,
     "end_time": "2022-03-29T17:53:25.213171",
     "exception": false,
     "start_time": "2022-03-29T17:53:25.187368",
     "status": "completed"
    },
    "tags": []
   },
   "outputs": [],
   "source": [
    "# from steves_utils.CORES.utils import (\n",
    "#     ALL_NODES,\n",
    "#     ALL_NODES_MINIMUM_1000_EXAMPLES,\n",
    "#     ALL_DAYS\n",
    "# )\n",
    "\n",
    "# add_dataset(\n",
    "#     labels=ALL_NODES,\n",
    "#     domains = ALL_DAYS,\n",
    "#     num_examples_per_domain_per_label=100,\n",
    "#     pickle_path=os.path.join(get_datasets_base_path(), \"cores.stratified_ds.2022A.pkl\"),\n",
    "#     source_or_target_dataset=\"target\",\n",
    "#     x_transform_func=global_x_transform_func,\n",
    "#     domain_modifier=lambda u: f\"cores_{u}\"\n",
    "# )"
   ]
  },
  {
   "cell_type": "code",
   "execution_count": 15,
   "id": "76db484d",
   "metadata": {
    "execution": {
     "iopub.execute_input": "2022-03-29T17:53:25.246066Z",
     "iopub.status.busy": "2022-03-29T17:53:25.245801Z",
     "iopub.status.idle": "2022-03-29T17:53:25.255378Z",
     "shell.execute_reply": "2022-03-29T17:53:25.255731Z"
    },
    "papermill": {
     "duration": 0.024718,
     "end_time": "2022-03-29T17:53:25.255837",
     "exception": false,
     "start_time": "2022-03-29T17:53:25.231119",
     "status": "completed"
    },
    "tags": []
   },
   "outputs": [],
   "source": [
    "# from steves_utils.ORACLE.utils_v2 import (\n",
    "#     ALL_DISTANCES_FEET,\n",
    "#     ALL_RUNS,\n",
    "#     ALL_SERIAL_NUMBERS,\n",
    "# )\n",
    "\n",
    "\n",
    "# add_dataset(\n",
    "#     labels=ALL_SERIAL_NUMBERS,\n",
    "#     domains = list(set(ALL_DISTANCES_FEET) - {2,62}),\n",
    "#     num_examples_per_domain_per_label=100,\n",
    "#     pickle_path=os.path.join(get_datasets_base_path(), \"oracle.Run2_framed_2000Examples_stratified_ds.2022A.pkl\"),\n",
    "#     source_or_target_dataset=\"source\",\n",
    "#     x_transform_func=global_x_transform_func,\n",
    "#     domain_modifier=lambda u: f\"oracle1_{u}\"\n",
    "# )\n"
   ]
  },
  {
   "cell_type": "code",
   "execution_count": 16,
   "id": "97dea9d2",
   "metadata": {
    "execution": {
     "iopub.execute_input": "2022-03-29T17:53:25.289581Z",
     "iopub.status.busy": "2022-03-29T17:53:25.289331Z",
     "iopub.status.idle": "2022-03-29T17:53:25.303327Z",
     "shell.execute_reply": "2022-03-29T17:53:25.302959Z"
    },
    "papermill": {
     "duration": 0.029306,
     "end_time": "2022-03-29T17:53:25.303418",
     "exception": false,
     "start_time": "2022-03-29T17:53:25.274112",
     "status": "completed"
    },
    "tags": []
   },
   "outputs": [],
   "source": [
    "# from steves_utils.ORACLE.utils_v2 import (\n",
    "#     ALL_DISTANCES_FEET,\n",
    "#     ALL_RUNS,\n",
    "#     ALL_SERIAL_NUMBERS,\n",
    "# )\n",
    "\n",
    "\n",
    "# add_dataset(\n",
    "#     labels=ALL_SERIAL_NUMBERS,\n",
    "#     domains = list(set(ALL_DISTANCES_FEET) - {2,62,56}),\n",
    "#     num_examples_per_domain_per_label=100,\n",
    "#     pickle_path=os.path.join(get_datasets_base_path(), \"oracle.Run2_framed_2000Examples_stratified_ds.2022A.pkl\"),\n",
    "#     source_or_target_dataset=\"source\",\n",
    "#     x_transform_func=global_x_transform_func,\n",
    "#     domain_modifier=lambda u: f\"oracle2_{u}\"\n",
    "# )"
   ]
  },
  {
   "cell_type": "code",
   "execution_count": 17,
   "id": "6f289866",
   "metadata": {
    "execution": {
     "iopub.execute_input": "2022-03-29T17:53:25.337279Z",
     "iopub.status.busy": "2022-03-29T17:53:25.337037Z",
     "iopub.status.idle": "2022-03-29T17:53:25.350170Z",
     "shell.execute_reply": "2022-03-29T17:53:25.349963Z"
    },
    "papermill": {
     "duration": 0.02826,
     "end_time": "2022-03-29T17:53:25.350219",
     "exception": false,
     "start_time": "2022-03-29T17:53:25.321959",
     "status": "completed"
    },
    "tags": []
   },
   "outputs": [],
   "source": [
    "# add_dataset(\n",
    "#     labels=list(range(19)),\n",
    "#     domains = [0,1,2],\n",
    "#     num_examples_per_domain_per_label=100,\n",
    "#     pickle_path=os.path.join(get_datasets_base_path(), \"metehan.stratified_ds.2022A.pkl\"),\n",
    "#     source_or_target_dataset=\"target\",\n",
    "#     x_transform_func=global_x_transform_func,\n",
    "#     domain_modifier=lambda u: f\"met_{u}\"\n",
    "# )"
   ]
  },
  {
   "cell_type": "code",
   "execution_count": 18,
   "id": "86a863c3",
   "metadata": {
    "execution": {
     "iopub.execute_input": "2022-03-29T17:53:25.382804Z",
     "iopub.status.busy": "2022-03-29T17:53:25.382560Z",
     "iopub.status.idle": "2022-03-29T17:53:25.396786Z",
     "shell.execute_reply": "2022-03-29T17:53:25.396418Z"
    },
    "papermill": {
     "duration": 0.029574,
     "end_time": "2022-03-29T17:53:25.396876",
     "exception": false,
     "start_time": "2022-03-29T17:53:25.367302",
     "status": "completed"
    },
    "tags": []
   },
   "outputs": [],
   "source": [
    "# # from steves_utils.wisig.utils import (\n",
    "# #     ALL_NODES_MINIMUM_100_EXAMPLES,\n",
    "# #     ALL_NODES_MINIMUM_500_EXAMPLES,\n",
    "# #     ALL_NODES_MINIMUM_1000_EXAMPLES,\n",
    "# #     ALL_DAYS\n",
    "# # )\n",
    "\n",
    "# import steves_utils.wisig.utils as wisig\n",
    "\n",
    "\n",
    "# add_dataset(\n",
    "#     labels=wisig.ALL_NODES_MINIMUM_100_EXAMPLES,\n",
    "#     domains = wisig.ALL_DAYS,\n",
    "#     num_examples_per_domain_per_label=100,\n",
    "#     pickle_path=os.path.join(get_datasets_base_path(), \"wisig.node3-19.stratified_ds.2022A.pkl\"),\n",
    "#     source_or_target_dataset=\"target\",\n",
    "#     x_transform_func=global_x_transform_func,\n",
    "#     domain_modifier=lambda u: f\"wisig_{u}\"\n",
    "# )"
   ]
  },
  {
   "cell_type": "code",
   "execution_count": 19,
   "id": "fd5442bc",
   "metadata": {
    "execution": {
     "iopub.execute_input": "2022-03-29T17:53:25.431482Z",
     "iopub.status.busy": "2022-03-29T17:53:25.431229Z",
     "iopub.status.idle": "2022-03-29T17:53:25.442152Z",
     "shell.execute_reply": "2022-03-29T17:53:25.441696Z"
    },
    "papermill": {
     "duration": 0.027435,
     "end_time": "2022-03-29T17:53:25.442238",
     "exception": false,
     "start_time": "2022-03-29T17:53:25.414803",
     "status": "completed"
    },
    "tags": []
   },
   "outputs": [],
   "source": [
    "###################################\n",
    "# Build the dataset\n",
    "###################################\n",
    "train_original_source = Iterable_Aggregator(train_original_source, p.seed)\n",
    "val_original_source = Iterable_Aggregator(val_original_source, p.seed)\n",
    "test_original_source = Iterable_Aggregator(test_original_source, p.seed)\n",
    "\n",
    "\n",
    "train_original_target = Iterable_Aggregator(train_original_target, p.seed)\n",
    "val_original_target = Iterable_Aggregator(val_original_target, p.seed)\n",
    "test_original_target = Iterable_Aggregator(test_original_target, p.seed)\n",
    "\n",
    "# For CNN We only use X and Y. And we only train on the source.\n",
    "# Properly form the data using a transform lambda and Lazy_Iterable_Wrapper. Finally wrap them in a dataloader\n",
    "\n",
    "transform_lambda = lambda ex: ex[1] # Original is (<domain>, <episode>) so we strip down to episode only\n",
    "\n",
    "train_processed_source = Lazy_Iterable_Wrapper(train_original_source, transform_lambda)\n",
    "val_processed_source   = Lazy_Iterable_Wrapper(val_original_source, transform_lambda)\n",
    "test_processed_source  = Lazy_Iterable_Wrapper(test_original_source, transform_lambda)\n",
    "\n",
    "train_processed_target = Lazy_Iterable_Wrapper(train_original_target, transform_lambda)\n",
    "val_processed_target   = Lazy_Iterable_Wrapper(val_original_target, transform_lambda)\n",
    "test_processed_target  = Lazy_Iterable_Wrapper(test_original_target, transform_lambda)\n",
    "\n",
    "datasets = EasyDict({\n",
    "    \"source\": {\n",
    "        \"original\": {\"train\":train_original_source, \"val\":val_original_source, \"test\":test_original_source},\n",
    "        \"processed\": {\"train\":train_processed_source, \"val\":val_processed_source, \"test\":test_processed_source}\n",
    "    },\n",
    "    \"target\": {\n",
    "        \"original\": {\"train\":train_original_target, \"val\":val_original_target, \"test\":test_original_target},\n",
    "        \"processed\": {\"train\":train_processed_target, \"val\":val_processed_target, \"test\":test_processed_target}\n",
    "    },\n",
    "})"
   ]
  },
  {
   "cell_type": "code",
   "execution_count": 20,
   "id": "5b3c01fc",
   "metadata": {
    "execution": {
     "iopub.execute_input": "2022-03-29T17:53:25.475724Z",
     "iopub.status.busy": "2022-03-29T17:53:25.475474Z",
     "iopub.status.idle": "2022-03-29T17:53:50.119394Z",
     "shell.execute_reply": "2022-03-29T17:53:50.119002Z"
    },
    "papermill": {
     "duration": 24.659666,
     "end_time": "2022-03-29T17:53:50.119479",
     "exception": false,
     "start_time": "2022-03-29T17:53:25.459813",
     "status": "completed"
    },
    "tags": []
   },
   "outputs": [
    {
     "name": "stdout",
     "output_type": "stream",
     "text": [
      "{'ORACLE.run2_14', 'ORACLE.run2_32', 'ORACLE.run2_26', 'ORACLE.run2_38', 'ORACLE.run2_20', 'ORACLE.run2_8', 'ORACLE.run2_50', 'ORACLE.run2_44'}\n"
     ]
    },
    {
     "name": "stdout",
     "output_type": "stream",
     "text": [
      "{'ORACLE.run1_14', 'ORACLE.run1_50', 'ORACLE.run1_20', 'ORACLE.run1_38', 'ORACLE.run1_32', 'ORACLE.run1_26', 'ORACLE.run1_8', 'ORACLE.run1_44'}\n"
     ]
    },
    {
     "name": "stdout",
     "output_type": "stream",
     "text": [
      "tensor([[[ 0.3274, -0.4136, -1.3096,  ..., -0.9305, -0.2757,  0.5514],\n",
      "         [ 0.3963, -0.1896,  0.3274,  ...,  0.4825,  0.0345,  0.7754]],\n",
      "\n",
      "        [[ 0.9010, -0.3400, -0.3740,  ..., -0.2890,  0.5100,  0.7650],\n",
      "         [ 0.3230,  0.2210, -0.0850,  ..., -0.0510, -0.5440, -0.9350]],\n",
      "\n",
      "        [[ 0.2512,  0.9882, -0.0167,  ..., -0.2177,  1.0384,  0.1172],\n",
      "         [-0.8374, -0.3182, -1.2729,  ...,  1.0719, -0.3015, -1.2729]],\n",
      "\n",
      "        ...,\n",
      "\n",
      "        [[-0.1919, -0.5905, -0.0148,  ...,  0.2510,  0.7676,  0.4872],\n",
      "         [-0.2214, -0.7972,  0.7972,  ...,  0.9891,  1.2843, -0.4724]],\n",
      "\n",
      "        [[ 0.5114,  0.0150,  0.0301,  ..., -0.9778, -0.6619,  0.0000],\n",
      "         [-1.1432, -0.0752,  0.7822,  ...,  0.6619,  0.3761, -0.8875]],\n",
      "\n",
      "        [[ 1.1993,  0.3748, -0.9145,  ..., -0.1499, -0.1949, -0.2698],\n",
      "         [ 0.5547,  1.7540,  0.3148,  ...,  0.3448, -0.3448, -0.2399]]])\n"
     ]
    }
   ],
   "source": [
    "from steves_utils.transforms import get_average_magnitude, get_average_power\n",
    "\n",
    "print(set([u for u,_ in val_original_source]))\n",
    "print(set([u for u,_ in val_original_target]))\n",
    "\n",
    "s_x, s_y, q_x, q_y, _ = next(iter(train_processed_source))\n",
    "print(s_x)\n",
    "\n",
    "# for ds in [\n",
    "#     train_processed_source,\n",
    "#     val_processed_source,\n",
    "#     test_processed_source,\n",
    "#     train_processed_target,\n",
    "#     val_processed_target,\n",
    "#     test_processed_target\n",
    "# ]:\n",
    "#     for s_x, s_y, q_x, q_y, _ in ds:\n",
    "#         for X in (s_x, q_x):\n",
    "#             for x in X:\n",
    "#                 assert np.isclose(get_average_magnitude(x.numpy()), 1.0)\n",
    "#                 assert np.isclose(get_average_power(x.numpy()), 1.0)\n",
    "                "
   ]
  },
  {
   "cell_type": "code",
   "execution_count": 21,
   "id": "bbdacba1",
   "metadata": {
    "execution": {
     "iopub.execute_input": "2022-03-29T17:53:50.157078Z",
     "iopub.status.busy": "2022-03-29T17:53:50.156820Z",
     "iopub.status.idle": "2022-03-29T17:53:50.223781Z",
     "shell.execute_reply": "2022-03-29T17:53:50.224130Z"
    },
    "papermill": {
     "duration": 0.085361,
     "end_time": "2022-03-29T17:53:50.224245",
     "exception": false,
     "start_time": "2022-03-29T17:53:50.138884",
     "status": "completed"
    },
    "tags": []
   },
   "outputs": [
    {
     "name": "stdout",
     "output_type": "stream",
     "text": [
      "(2, 256)\n"
     ]
    }
   ],
   "source": [
    "###################################\n",
    "# Build the model\n",
    "###################################\n",
    "# easfsl only wants a tuple for the shape\n",
    "model = Steves_Prototypical_Network(x_net, device=p.device, x_shape=tuple(p.x_shape))\n",
    "optimizer = Adam(params=model.parameters(), lr=p.lr)"
   ]
  },
  {
   "cell_type": "code",
   "execution_count": 22,
   "id": "22b39ac5",
   "metadata": {
    "execution": {
     "iopub.execute_input": "2022-03-29T17:53:50.261364Z",
     "iopub.status.busy": "2022-03-29T17:53:50.261115Z",
     "iopub.status.idle": "2022-03-29T20:41:45.401431Z",
     "shell.execute_reply": "2022-03-29T20:41:45.401201Z"
    },
    "papermill": {
     "duration": 10075.158177,
     "end_time": "2022-03-29T20:41:45.401492",
     "exception": false,
     "start_time": "2022-03-29T17:53:50.243315",
     "status": "completed"
    },
    "tags": []
   },
   "outputs": [
    {
     "name": "stdout",
     "output_type": "stream",
     "text": [
      "epoch: 1, [batch: 1 / 33600], examples_per_second: 9.6266, train_label_loss: 2.7554, \n"
     ]
    },
    {
     "name": "stdout",
     "output_type": "stream",
     "text": [
      "epoch: 1, [batch: 3360 / 33600], examples_per_second: 3199.6733, train_label_loss: 1.2205, \n"
     ]
    },
    {
     "name": "stdout",
     "output_type": "stream",
     "text": [
      "epoch: 1, [batch: 6720 / 33600], examples_per_second: 3201.0331, train_label_loss: 0.7259, \n"
     ]
    },
    {
     "name": "stdout",
     "output_type": "stream",
     "text": [
      "epoch: 1, [batch: 10080 / 33600], examples_per_second: 3200.6698, train_label_loss: 1.6015, \n"
     ]
    },
    {
     "name": "stdout",
     "output_type": "stream",
     "text": [
      "epoch: 1, [batch: 13440 / 33600], examples_per_second: 3188.5953, train_label_loss: 0.7754, \n"
     ]
    },
    {
     "name": "stdout",
     "output_type": "stream",
     "text": [
      "epoch: 1, [batch: 16800 / 33600], examples_per_second: 3199.2965, train_label_loss: 0.4175, \n"
     ]
    },
    {
     "name": "stdout",
     "output_type": "stream",
     "text": [
      "epoch: 1, [batch: 20160 / 33600], examples_per_second: 3202.1151, train_label_loss: 0.7832, \n"
     ]
    },
    {
     "name": "stdout",
     "output_type": "stream",
     "text": [
      "epoch: 1, [batch: 23520 / 33600], examples_per_second: 3193.5786, train_label_loss: 1.5291, \n"
     ]
    },
    {
     "name": "stdout",
     "output_type": "stream",
     "text": [
      "epoch: 1, [batch: 26880 / 33600], examples_per_second: 3196.9731, train_label_loss: 1.4190, \n"
     ]
    },
    {
     "name": "stdout",
     "output_type": "stream",
     "text": [
      "epoch: 1, [batch: 30240 / 33600], examples_per_second: 3199.2238, train_label_loss: 0.8627, \n"
     ]
    },
    {
     "name": "stdout",
     "output_type": "stream",
     "text": [
      "=============================================================\n",
      "epoch: 1, source_val_acc_label: 0.6366, target_val_acc_label: 0.6474, source_val_label_loss: 0.9841, target_val_label_loss: 0.9501, \n",
      "=============================================================\n"
     ]
    },
    {
     "name": "stdout",
     "output_type": "stream",
     "text": [
      "New best\n"
     ]
    },
    {
     "name": "stdout",
     "output_type": "stream",
     "text": [
      "epoch: 2, [batch: 1 / 33600], examples_per_second: 0.9640, train_label_loss: 1.3685, \n"
     ]
    },
    {
     "name": "stdout",
     "output_type": "stream",
     "text": [
      "epoch: 2, [batch: 3360 / 33600], examples_per_second: 3207.2532, train_label_loss: 0.7555, \n"
     ]
    },
    {
     "name": "stdout",
     "output_type": "stream",
     "text": [
      "epoch: 2, [batch: 6720 / 33600], examples_per_second: 3226.5349, train_label_loss: 0.7908, \n"
     ]
    },
    {
     "name": "stdout",
     "output_type": "stream",
     "text": [
      "epoch: 2, [batch: 10080 / 33600], examples_per_second: 3230.1220, train_label_loss: 1.3916, \n"
     ]
    },
    {
     "name": "stdout",
     "output_type": "stream",
     "text": [
      "epoch: 2, [batch: 13440 / 33600], examples_per_second: 3215.7285, train_label_loss: 0.4671, \n"
     ]
    },
    {
     "name": "stdout",
     "output_type": "stream",
     "text": [
      "epoch: 2, [batch: 16800 / 33600], examples_per_second: 3231.0473, train_label_loss: 0.7623, \n"
     ]
    },
    {
     "name": "stdout",
     "output_type": "stream",
     "text": [
      "epoch: 2, [batch: 20160 / 33600], examples_per_second: 3230.5234, train_label_loss: 0.9757, \n"
     ]
    },
    {
     "name": "stdout",
     "output_type": "stream",
     "text": [
      "epoch: 2, [batch: 23520 / 33600], examples_per_second: 3220.0363, train_label_loss: 0.7856, \n"
     ]
    },
    {
     "name": "stdout",
     "output_type": "stream",
     "text": [
      "epoch: 2, [batch: 26880 / 33600], examples_per_second: 3233.0634, train_label_loss: 1.3604, \n"
     ]
    },
    {
     "name": "stdout",
     "output_type": "stream",
     "text": [
      "epoch: 2, [batch: 30240 / 33600], examples_per_second: 3237.6965, train_label_loss: 0.4630, \n"
     ]
    },
    {
     "name": "stdout",
     "output_type": "stream",
     "text": [
      "=============================================================\n",
      "epoch: 2, source_val_acc_label: 0.6590, target_val_acc_label: 0.6682, source_val_label_loss: 0.9149, target_val_label_loss: 0.8787, \n",
      "=============================================================\n"
     ]
    },
    {
     "name": "stdout",
     "output_type": "stream",
     "text": [
      "New best\n"
     ]
    },
    {
     "name": "stdout",
     "output_type": "stream",
     "text": [
      "epoch: 3, [batch: 1 / 33600], examples_per_second: 0.9673, train_label_loss: 0.4436, \n"
     ]
    },
    {
     "name": "stdout",
     "output_type": "stream",
     "text": [
      "epoch: 3, [batch: 3360 / 33600], examples_per_second: 3218.0831, train_label_loss: 1.0264, \n"
     ]
    },
    {
     "name": "stdout",
     "output_type": "stream",
     "text": [
      "epoch: 3, [batch: 6720 / 33600], examples_per_second: 3232.5748, train_label_loss: 1.2133, \n"
     ]
    },
    {
     "name": "stdout",
     "output_type": "stream",
     "text": [
      "epoch: 3, [batch: 10080 / 33600], examples_per_second: 3234.7082, train_label_loss: 0.5218, \n"
     ]
    },
    {
     "name": "stdout",
     "output_type": "stream",
     "text": [
      "epoch: 3, [batch: 13440 / 33600], examples_per_second: 3213.4414, train_label_loss: 0.8376, \n"
     ]
    },
    {
     "name": "stdout",
     "output_type": "stream",
     "text": [
      "epoch: 3, [batch: 16800 / 33600], examples_per_second: 3224.1263, train_label_loss: 0.8217, \n"
     ]
    },
    {
     "name": "stdout",
     "output_type": "stream",
     "text": [
      "epoch: 3, [batch: 20160 / 33600], examples_per_second: 3231.2154, train_label_loss: 0.3793, \n"
     ]
    },
    {
     "name": "stdout",
     "output_type": "stream",
     "text": [
      "epoch: 3, [batch: 23520 / 33600], examples_per_second: 3224.3641, train_label_loss: 1.1029, \n"
     ]
    },
    {
     "name": "stdout",
     "output_type": "stream",
     "text": [
      "epoch: 3, [batch: 26880 / 33600], examples_per_second: 3230.6362, train_label_loss: 0.5764, \n"
     ]
    },
    {
     "name": "stdout",
     "output_type": "stream",
     "text": [
      "epoch: 3, [batch: 30240 / 33600], examples_per_second: 3231.5944, train_label_loss: 1.2053, \n"
     ]
    },
    {
     "name": "stdout",
     "output_type": "stream",
     "text": [
      "=============================================================\n",
      "epoch: 3, source_val_acc_label: 0.6878, target_val_acc_label: 0.6955, source_val_label_loss: 0.8515, target_val_label_loss: 0.8159, \n",
      "=============================================================\n"
     ]
    },
    {
     "name": "stdout",
     "output_type": "stream",
     "text": [
      "New best\n"
     ]
    },
    {
     "name": "stdout",
     "output_type": "stream",
     "text": [
      "epoch: 4, [batch: 1 / 33600], examples_per_second: 0.9673, train_label_loss: 1.1447, \n"
     ]
    },
    {
     "name": "stdout",
     "output_type": "stream",
     "text": [
      "epoch: 4, [batch: 3360 / 33600], examples_per_second: 3203.8041, train_label_loss: 0.6205, \n"
     ]
    },
    {
     "name": "stdout",
     "output_type": "stream",
     "text": [
      "epoch: 4, [batch: 6720 / 33600], examples_per_second: 3226.2814, train_label_loss: 0.9055, \n"
     ]
    },
    {
     "name": "stdout",
     "output_type": "stream",
     "text": [
      "epoch: 4, [batch: 10080 / 33600], examples_per_second: 3231.6386, train_label_loss: 0.8263, \n"
     ]
    },
    {
     "name": "stdout",
     "output_type": "stream",
     "text": [
      "epoch: 4, [batch: 13440 / 33600], examples_per_second: 3229.6640, train_label_loss: 0.4878, \n"
     ]
    },
    {
     "name": "stdout",
     "output_type": "stream",
     "text": [
      "epoch: 4, [batch: 16800 / 33600], examples_per_second: 3228.1500, train_label_loss: 0.7431, \n"
     ]
    },
    {
     "name": "stdout",
     "output_type": "stream",
     "text": [
      "epoch: 4, [batch: 20160 / 33600], examples_per_second: 3236.8611, train_label_loss: 0.6854, \n"
     ]
    },
    {
     "name": "stdout",
     "output_type": "stream",
     "text": [
      "epoch: 4, [batch: 23520 / 33600], examples_per_second: 3224.4623, train_label_loss: 1.0692, \n"
     ]
    },
    {
     "name": "stdout",
     "output_type": "stream",
     "text": [
      "epoch: 4, [batch: 26880 / 33600], examples_per_second: 3226.4167, train_label_loss: 0.3325, \n"
     ]
    },
    {
     "name": "stdout",
     "output_type": "stream",
     "text": [
      "epoch: 4, [batch: 30240 / 33600], examples_per_second: 3238.1192, train_label_loss: 0.9391, \n"
     ]
    },
    {
     "name": "stdout",
     "output_type": "stream",
     "text": [
      "=============================================================\n",
      "epoch: 4, source_val_acc_label: 0.7119, target_val_acc_label: 0.7171, source_val_label_loss: 0.7983, target_val_label_loss: 0.7711, \n",
      "=============================================================\n"
     ]
    },
    {
     "name": "stdout",
     "output_type": "stream",
     "text": [
      "New best\n"
     ]
    },
    {
     "name": "stdout",
     "output_type": "stream",
     "text": [
      "epoch: 5, [batch: 1 / 33600], examples_per_second: 0.9668, train_label_loss: 0.8276, \n"
     ]
    },
    {
     "name": "stdout",
     "output_type": "stream",
     "text": [
      "epoch: 5, [batch: 3360 / 33600], examples_per_second: 3214.1790, train_label_loss: 0.3399, \n"
     ]
    },
    {
     "name": "stdout",
     "output_type": "stream",
     "text": [
      "epoch: 5, [batch: 6720 / 33600], examples_per_second: 3233.1635, train_label_loss: 0.5436, \n"
     ]
    },
    {
     "name": "stdout",
     "output_type": "stream",
     "text": [
      "epoch: 5, [batch: 10080 / 33600], examples_per_second: 3235.9106, train_label_loss: 0.5481, \n"
     ]
    },
    {
     "name": "stdout",
     "output_type": "stream",
     "text": [
      "epoch: 5, [batch: 13440 / 33600], examples_per_second: 3220.6223, train_label_loss: 0.4963, \n"
     ]
    },
    {
     "name": "stdout",
     "output_type": "stream",
     "text": [
      "epoch: 5, [batch: 16800 / 33600], examples_per_second: 3239.0823, train_label_loss: 1.1640, \n"
     ]
    },
    {
     "name": "stdout",
     "output_type": "stream",
     "text": [
      "epoch: 5, [batch: 20160 / 33600], examples_per_second: 3230.0700, train_label_loss: 0.5472, \n"
     ]
    },
    {
     "name": "stdout",
     "output_type": "stream",
     "text": [
      "epoch: 5, [batch: 23520 / 33600], examples_per_second: 3225.4600, train_label_loss: 0.8595, \n"
     ]
    },
    {
     "name": "stdout",
     "output_type": "stream",
     "text": [
      "epoch: 5, [batch: 26880 / 33600], examples_per_second: 3232.0242, train_label_loss: 0.8599, \n"
     ]
    },
    {
     "name": "stdout",
     "output_type": "stream",
     "text": [
      "epoch: 5, [batch: 30240 / 33600], examples_per_second: 3237.6429, train_label_loss: 0.7542, \n"
     ]
    },
    {
     "name": "stdout",
     "output_type": "stream",
     "text": [
      "=============================================================\n",
      "epoch: 5, source_val_acc_label: 0.7188, target_val_acc_label: 0.7223, source_val_label_loss: 0.7736, target_val_label_loss: 0.7521, \n",
      "=============================================================\n"
     ]
    },
    {
     "name": "stdout",
     "output_type": "stream",
     "text": [
      "New best\n"
     ]
    },
    {
     "name": "stdout",
     "output_type": "stream",
     "text": [
      "epoch: 6, [batch: 1 / 33600], examples_per_second: 0.9673, train_label_loss: 0.2378, \n"
     ]
    },
    {
     "name": "stdout",
     "output_type": "stream",
     "text": [
      "epoch: 6, [batch: 3360 / 33600], examples_per_second: 3213.5407, train_label_loss: 1.1342, \n"
     ]
    },
    {
     "name": "stdout",
     "output_type": "stream",
     "text": [
      "epoch: 6, [batch: 6720 / 33600], examples_per_second: 3233.0012, train_label_loss: 0.4775, \n"
     ]
    },
    {
     "name": "stdout",
     "output_type": "stream",
     "text": [
      "epoch: 6, [batch: 10080 / 33600], examples_per_second: 3233.9591, train_label_loss: 0.5640, \n"
     ]
    },
    {
     "name": "stdout",
     "output_type": "stream",
     "text": [
      "epoch: 6, [batch: 13440 / 33600], examples_per_second: 3226.5221, train_label_loss: 0.4637, \n"
     ]
    },
    {
     "name": "stdout",
     "output_type": "stream",
     "text": [
      "epoch: 6, [batch: 16800 / 33600], examples_per_second: 3227.9984, train_label_loss: 0.3966, \n"
     ]
    },
    {
     "name": "stdout",
     "output_type": "stream",
     "text": [
      "epoch: 6, [batch: 20160 / 33600], examples_per_second: 3235.6015, train_label_loss: 0.8535, \n"
     ]
    },
    {
     "name": "stdout",
     "output_type": "stream",
     "text": [
      "epoch: 6, [batch: 23520 / 33600], examples_per_second: 3218.9622, train_label_loss: 0.6820, \n"
     ]
    },
    {
     "name": "stdout",
     "output_type": "stream",
     "text": [
      "epoch: 6, [batch: 26880 / 33600], examples_per_second: 3227.0333, train_label_loss: 0.5447, \n"
     ]
    },
    {
     "name": "stdout",
     "output_type": "stream",
     "text": [
      "epoch: 6, [batch: 30240 / 33600], examples_per_second: 3238.5488, train_label_loss: 0.6047, \n"
     ]
    },
    {
     "name": "stdout",
     "output_type": "stream",
     "text": [
      "=============================================================\n",
      "epoch: 6, source_val_acc_label: 0.7282, target_val_acc_label: 0.7311, source_val_label_loss: 0.7553, target_val_label_loss: 0.7352, \n",
      "=============================================================\n"
     ]
    },
    {
     "name": "stdout",
     "output_type": "stream",
     "text": [
      "New best\n"
     ]
    },
    {
     "name": "stdout",
     "output_type": "stream",
     "text": [
      "epoch: 7, [batch: 1 / 33600], examples_per_second: 0.9624, train_label_loss: 0.1597, \n"
     ]
    },
    {
     "name": "stdout",
     "output_type": "stream",
     "text": [
      "epoch: 7, [batch: 3360 / 33600], examples_per_second: 3205.1841, train_label_loss: 0.4303, \n"
     ]
    },
    {
     "name": "stdout",
     "output_type": "stream",
     "text": [
      "epoch: 7, [batch: 6720 / 33600], examples_per_second: 3228.5615, train_label_loss: 0.3833, \n"
     ]
    },
    {
     "name": "stdout",
     "output_type": "stream",
     "text": [
      "epoch: 7, [batch: 10080 / 33600], examples_per_second: 3235.3362, train_label_loss: 0.6550, \n"
     ]
    },
    {
     "name": "stdout",
     "output_type": "stream",
     "text": [
      "epoch: 7, [batch: 13440 / 33600], examples_per_second: 3222.1920, train_label_loss: 0.7796, \n"
     ]
    },
    {
     "name": "stdout",
     "output_type": "stream",
     "text": [
      "epoch: 7, [batch: 16800 / 33600], examples_per_second: 3228.0052, train_label_loss: 0.3216, \n"
     ]
    },
    {
     "name": "stdout",
     "output_type": "stream",
     "text": [
      "epoch: 7, [batch: 20160 / 33600], examples_per_second: 3231.0138, train_label_loss: 0.4129, \n"
     ]
    },
    {
     "name": "stdout",
     "output_type": "stream",
     "text": [
      "epoch: 7, [batch: 23520 / 33600], examples_per_second: 3226.5808, train_label_loss: 0.8039, \n"
     ]
    },
    {
     "name": "stdout",
     "output_type": "stream",
     "text": [
      "epoch: 7, [batch: 26880 / 33600], examples_per_second: 3231.2968, train_label_loss: 0.5398, \n"
     ]
    },
    {
     "name": "stdout",
     "output_type": "stream",
     "text": [
      "epoch: 7, [batch: 30240 / 33600], examples_per_second: 3228.6499, train_label_loss: 0.3871, \n"
     ]
    },
    {
     "name": "stdout",
     "output_type": "stream",
     "text": [
      "=============================================================\n",
      "epoch: 7, source_val_acc_label: 0.7340, target_val_acc_label: 0.7363, source_val_label_loss: 0.7679, target_val_label_loss: 0.7502, \n",
      "=============================================================\n"
     ]
    },
    {
     "name": "stdout",
     "output_type": "stream",
     "text": [
      "New best\n"
     ]
    },
    {
     "name": "stdout",
     "output_type": "stream",
     "text": [
      "epoch: 8, [batch: 1 / 33600], examples_per_second: 0.9656, train_label_loss: 0.4051, \n"
     ]
    },
    {
     "name": "stdout",
     "output_type": "stream",
     "text": [
      "epoch: 8, [batch: 3360 / 33600], examples_per_second: 3206.5167, train_label_loss: 0.3362, \n"
     ]
    },
    {
     "name": "stdout",
     "output_type": "stream",
     "text": [
      "epoch: 8, [batch: 6720 / 33600], examples_per_second: 3230.6075, train_label_loss: 0.3133, \n"
     ]
    },
    {
     "name": "stdout",
     "output_type": "stream",
     "text": [
      "epoch: 8, [batch: 10080 / 33600], examples_per_second: 3233.2539, train_label_loss: 0.5936, \n"
     ]
    },
    {
     "name": "stdout",
     "output_type": "stream",
     "text": [
      "epoch: 8, [batch: 13440 / 33600], examples_per_second: 3215.6192, train_label_loss: 0.3637, \n"
     ]
    },
    {
     "name": "stdout",
     "output_type": "stream",
     "text": [
      "epoch: 8, [batch: 16800 / 33600], examples_per_second: 3223.8141, train_label_loss: 0.5655, \n"
     ]
    },
    {
     "name": "stdout",
     "output_type": "stream",
     "text": [
      "epoch: 8, [batch: 20160 / 33600], examples_per_second: 3232.3787, train_label_loss: 0.3802, \n"
     ]
    },
    {
     "name": "stdout",
     "output_type": "stream",
     "text": [
      "epoch: 8, [batch: 23520 / 33600], examples_per_second: 3213.9433, train_label_loss: 0.2147, \n"
     ]
    },
    {
     "name": "stdout",
     "output_type": "stream",
     "text": [
      "epoch: 8, [batch: 26880 / 33600], examples_per_second: 3225.5938, train_label_loss: 0.8292, \n"
     ]
    },
    {
     "name": "stdout",
     "output_type": "stream",
     "text": [
      "epoch: 8, [batch: 30240 / 33600], examples_per_second: 3235.3788, train_label_loss: 0.2513, \n"
     ]
    },
    {
     "name": "stdout",
     "output_type": "stream",
     "text": [
      "=============================================================\n",
      "epoch: 8, source_val_acc_label: 0.7338, target_val_acc_label: 0.7354, source_val_label_loss: 0.7647, target_val_label_loss: 0.7508, \n",
      "=============================================================\n"
     ]
    },
    {
     "name": "stdout",
     "output_type": "stream",
     "text": [
      "epoch: 9, [batch: 1 / 33600], examples_per_second: 0.9670, train_label_loss: 0.3746, \n"
     ]
    },
    {
     "name": "stdout",
     "output_type": "stream",
     "text": [
      "epoch: 9, [batch: 3360 / 33600], examples_per_second: 3205.3667, train_label_loss: 0.3557, \n"
     ]
    },
    {
     "name": "stdout",
     "output_type": "stream",
     "text": [
      "epoch: 9, [batch: 6720 / 33600], examples_per_second: 3224.1396, train_label_loss: 0.4418, \n"
     ]
    },
    {
     "name": "stdout",
     "output_type": "stream",
     "text": [
      "epoch: 9, [batch: 10080 / 33600], examples_per_second: 3235.4780, train_label_loss: 0.3300, \n"
     ]
    },
    {
     "name": "stdout",
     "output_type": "stream",
     "text": [
      "epoch: 9, [batch: 13440 / 33600], examples_per_second: 3216.9222, train_label_loss: 0.6186, \n"
     ]
    },
    {
     "name": "stdout",
     "output_type": "stream",
     "text": [
      "epoch: 9, [batch: 16800 / 33600], examples_per_second: 3229.0141, train_label_loss: 0.4213, \n"
     ]
    },
    {
     "name": "stdout",
     "output_type": "stream",
     "text": [
      "epoch: 9, [batch: 20160 / 33600], examples_per_second: 3235.0645, train_label_loss: 0.1507, \n"
     ]
    },
    {
     "name": "stdout",
     "output_type": "stream",
     "text": [
      "epoch: 9, [batch: 23520 / 33600], examples_per_second: 3224.7018, train_label_loss: 0.3739, \n"
     ]
    },
    {
     "name": "stdout",
     "output_type": "stream",
     "text": [
      "epoch: 9, [batch: 26880 / 33600], examples_per_second: 3231.6845, train_label_loss: 0.6489, \n"
     ]
    },
    {
     "name": "stdout",
     "output_type": "stream",
     "text": [
      "epoch: 9, [batch: 30240 / 33600], examples_per_second: 3230.5676, train_label_loss: 0.2666, \n"
     ]
    },
    {
     "name": "stdout",
     "output_type": "stream",
     "text": [
      "=============================================================\n",
      "epoch: 9, source_val_acc_label: 0.7341, target_val_acc_label: 0.7349, source_val_label_loss: 0.7875, target_val_label_loss: 0.7767, \n",
      "=============================================================\n"
     ]
    },
    {
     "name": "stdout",
     "output_type": "stream",
     "text": [
      "epoch: 10, [batch: 1 / 33600], examples_per_second: 0.9713, train_label_loss: 0.4983, \n"
     ]
    },
    {
     "name": "stdout",
     "output_type": "stream",
     "text": [
      "epoch: 10, [batch: 3360 / 33600], examples_per_second: 3208.5721, train_label_loss: 0.2174, \n"
     ]
    },
    {
     "name": "stdout",
     "output_type": "stream",
     "text": [
      "epoch: 10, [batch: 6720 / 33600], examples_per_second: 3226.7837, train_label_loss: 0.3761, \n"
     ]
    },
    {
     "name": "stdout",
     "output_type": "stream",
     "text": [
      "epoch: 10, [batch: 10080 / 33600], examples_per_second: 3227.7291, train_label_loss: 0.7381, \n"
     ]
    },
    {
     "name": "stdout",
     "output_type": "stream",
     "text": [
      "epoch: 10, [batch: 13440 / 33600], examples_per_second: 3219.0770, train_label_loss: 0.4079, \n"
     ]
    },
    {
     "name": "stdout",
     "output_type": "stream",
     "text": [
      "epoch: 10, [batch: 16800 / 33600], examples_per_second: 3223.8127, train_label_loss: 0.2084, \n"
     ]
    },
    {
     "name": "stdout",
     "output_type": "stream",
     "text": [
      "epoch: 10, [batch: 20160 / 33600], examples_per_second: 3229.0984, train_label_loss: 0.2361, \n"
     ]
    },
    {
     "name": "stdout",
     "output_type": "stream",
     "text": [
      "epoch: 10, [batch: 23520 / 33600], examples_per_second: 3216.8914, train_label_loss: 0.2594, \n"
     ]
    },
    {
     "name": "stdout",
     "output_type": "stream",
     "text": [
      "epoch: 10, [batch: 26880 / 33600], examples_per_second: 3230.3940, train_label_loss: 0.3275, \n"
     ]
    },
    {
     "name": "stdout",
     "output_type": "stream",
     "text": [
      "epoch: 10, [batch: 30240 / 33600], examples_per_second: 3234.6169, train_label_loss: 0.5228, \n"
     ]
    },
    {
     "name": "stdout",
     "output_type": "stream",
     "text": [
      "=============================================================\n",
      "epoch: 10, source_val_acc_label: 0.7320, target_val_acc_label: 0.7307, source_val_label_loss: 0.7939, target_val_label_loss: 0.7843, \n",
      "=============================================================\n"
     ]
    },
    {
     "name": "stdout",
     "output_type": "stream",
     "text": [
      "epoch: 11, [batch: 1 / 33600], examples_per_second: 0.9695, train_label_loss: 0.4655, \n"
     ]
    },
    {
     "name": "stdout",
     "output_type": "stream",
     "text": [
      "epoch: 11, [batch: 3360 / 33600], examples_per_second: 3206.0024, train_label_loss: 0.4129, \n"
     ]
    },
    {
     "name": "stdout",
     "output_type": "stream",
     "text": [
      "epoch: 11, [batch: 6720 / 33600], examples_per_second: 3225.2169, train_label_loss: 0.3038, \n"
     ]
    },
    {
     "name": "stdout",
     "output_type": "stream",
     "text": [
      "epoch: 11, [batch: 10080 / 33600], examples_per_second: 3231.1206, train_label_loss: 0.3119, \n"
     ]
    },
    {
     "name": "stdout",
     "output_type": "stream",
     "text": [
      "epoch: 11, [batch: 13440 / 33600], examples_per_second: 3217.6391, train_label_loss: 0.2802, \n"
     ]
    },
    {
     "name": "stdout",
     "output_type": "stream",
     "text": [
      "epoch: 11, [batch: 16800 / 33600], examples_per_second: 3232.7332, train_label_loss: 0.2410, \n"
     ]
    },
    {
     "name": "stdout",
     "output_type": "stream",
     "text": [
      "epoch: 11, [batch: 20160 / 33600], examples_per_second: 3235.8357, train_label_loss: 0.3605, \n"
     ]
    },
    {
     "name": "stdout",
     "output_type": "stream",
     "text": [
      "epoch: 11, [batch: 23520 / 33600], examples_per_second: 3218.8756, train_label_loss: 0.3847, \n"
     ]
    },
    {
     "name": "stdout",
     "output_type": "stream",
     "text": [
      "epoch: 11, [batch: 26880 / 33600], examples_per_second: 3223.4693, train_label_loss: 0.3344, \n"
     ]
    },
    {
     "name": "stdout",
     "output_type": "stream",
     "text": [
      "epoch: 11, [batch: 30240 / 33600], examples_per_second: 3232.2921, train_label_loss: 0.4487, \n"
     ]
    },
    {
     "name": "stdout",
     "output_type": "stream",
     "text": [
      "=============================================================\n",
      "epoch: 11, source_val_acc_label: 0.7270, target_val_acc_label: 0.7271, source_val_label_loss: 0.8270, target_val_label_loss: 0.8190, \n",
      "=============================================================\n"
     ]
    },
    {
     "name": "stdout",
     "output_type": "stream",
     "text": [
      "Patience (3) exhausted\n"
     ]
    }
   ],
   "source": [
    "###################################\n",
    "# train\n",
    "###################################\n",
    "jig = PTN_Train_Eval_Test_Jig(model, p.BEST_MODEL_PATH, p.device)\n",
    "\n",
    "jig.train(\n",
    "    train_iterable=datasets.source.processed.train,\n",
    "    source_val_iterable=datasets.source.processed.val,\n",
    "    target_val_iterable=datasets.target.processed.val,\n",
    "    num_epochs=p.n_epoch,\n",
    "    num_logs_per_epoch=p.NUM_LOGS_PER_EPOCH,\n",
    "    patience=p.patience,\n",
    "    optimizer=optimizer,\n",
    "    criteria_for_best=p.criteria_for_best,\n",
    ")"
   ]
  },
  {
   "cell_type": "code",
   "execution_count": 23,
   "id": "31e8fabf",
   "metadata": {
    "execution": {
     "iopub.execute_input": "2022-03-29T20:41:45.489796Z",
     "iopub.status.busy": "2022-03-29T20:41:45.485951Z",
     "iopub.status.idle": "2022-03-29T20:41:45.498619Z",
     "shell.execute_reply": "2022-03-29T20:41:45.498169Z"
    },
    "papermill": {
     "duration": 0.059761,
     "end_time": "2022-03-29T20:41:45.498721",
     "exception": false,
     "start_time": "2022-03-29T20:41:45.438960",
     "status": "completed"
    },
    "tags": []
   },
   "outputs": [],
   "source": [
    "total_experiment_time_secs = time.time() - start_time_secs"
   ]
  },
  {
   "cell_type": "code",
   "execution_count": 24,
   "id": "87b9595b",
   "metadata": {
    "execution": {
     "iopub.execute_input": "2022-03-29T20:41:45.585281Z",
     "iopub.status.busy": "2022-03-29T20:41:45.580957Z",
     "iopub.status.idle": "2022-03-29T20:49:47.787942Z",
     "shell.execute_reply": "2022-03-29T20:49:47.788374Z"
    },
    "papermill": {
     "duration": 482.25057,
     "end_time": "2022-03-29T20:49:47.788520",
     "exception": false,
     "start_time": "2022-03-29T20:41:45.537950",
     "status": "completed"
    },
    "tags": []
   },
   "outputs": [],
   "source": [
    "###################################\n",
    "# Evaluate the model\n",
    "###################################\n",
    "source_test_label_accuracy, source_test_label_loss = jig.test(datasets.source.processed.test)\n",
    "target_test_label_accuracy, target_test_label_loss = jig.test(datasets.target.processed.test)\n",
    "\n",
    "source_val_label_accuracy, source_val_label_loss = jig.test(datasets.source.processed.val)\n",
    "target_val_label_accuracy, target_val_label_loss = jig.test(datasets.target.processed.val)\n",
    "\n",
    "history = jig.get_history()\n",
    "\n",
    "total_epochs_trained = len(history[\"epoch_indices\"])\n",
    "\n",
    "val_dl = Iterable_Aggregator((datasets.source.original.val,datasets.target.original.val))\n",
    "\n",
    "confusion = ptn_confusion_by_domain_over_dataloader(model, p.device, val_dl)\n",
    "per_domain_accuracy = per_domain_accuracy_from_confusion(confusion)\n",
    "\n",
    "# Add a key to per_domain_accuracy for if it was a source domain\n",
    "for domain, accuracy in per_domain_accuracy.items():\n",
    "    per_domain_accuracy[domain] = {\n",
    "        \"accuracy\": accuracy,\n",
    "        \"source?\": domain in p.domains_source\n",
    "    }\n",
    "\n",
    "# Do an independent accuracy assesment JUST TO BE SURE!\n",
    "# _source_test_label_accuracy = independent_accuracy_assesment(model, datasets.source.processed.test, p.device)\n",
    "# _target_test_label_accuracy = independent_accuracy_assesment(model, datasets.target.processed.test, p.device)\n",
    "# _source_val_label_accuracy = independent_accuracy_assesment(model, datasets.source.processed.val, p.device)\n",
    "# _target_val_label_accuracy = independent_accuracy_assesment(model, datasets.target.processed.val, p.device)\n",
    "\n",
    "# assert(_source_test_label_accuracy == source_test_label_accuracy)\n",
    "# assert(_target_test_label_accuracy == target_test_label_accuracy)\n",
    "# assert(_source_val_label_accuracy == source_val_label_accuracy)\n",
    "# assert(_target_val_label_accuracy == target_val_label_accuracy)\n",
    "\n",
    "experiment = {\n",
    "    \"experiment_name\": p.experiment_name,\n",
    "    \"parameters\": dict(p),\n",
    "    \"results\": {\n",
    "        \"source_test_label_accuracy\": source_test_label_accuracy,\n",
    "        \"source_test_label_loss\": source_test_label_loss,\n",
    "        \"target_test_label_accuracy\": target_test_label_accuracy,\n",
    "        \"target_test_label_loss\": target_test_label_loss,\n",
    "        \"source_val_label_accuracy\": source_val_label_accuracy,\n",
    "        \"source_val_label_loss\": source_val_label_loss,\n",
    "        \"target_val_label_accuracy\": target_val_label_accuracy,\n",
    "        \"target_val_label_loss\": target_val_label_loss,\n",
    "        \"total_epochs_trained\": total_epochs_trained,\n",
    "        \"total_experiment_time_secs\": total_experiment_time_secs,\n",
    "        \"confusion\": confusion,\n",
    "        \"per_domain_accuracy\": per_domain_accuracy,\n",
    "    },\n",
    "    \"history\": history,\n",
    "    \"dataset_metrics\": get_dataset_metrics(datasets, \"ptn\"),\n",
    "}"
   ]
  },
  {
   "cell_type": "code",
   "execution_count": 25,
   "id": "54a21829",
   "metadata": {
    "execution": {
     "iopub.execute_input": "2022-03-29T20:49:47.871105Z",
     "iopub.status.busy": "2022-03-29T20:49:47.870849Z",
     "iopub.status.idle": "2022-03-29T20:49:47.998001Z",
     "shell.execute_reply": "2022-03-29T20:49:47.997551Z"
    },
    "papermill": {
     "duration": 0.167259,
     "end_time": "2022-03-29T20:49:47.998116",
     "exception": false,
     "start_time": "2022-03-29T20:49:47.830857",
     "status": "completed"
    },
    "tags": []
   },
   "outputs": [
    {
     "data": {
      "image/png": "[encoded data removed]",
      "text/plain": [
       "<Figure size 1080x504 with 1 Axes>"
      ]
     },
     "metadata": {
      "needs_background": "light"
     },
     "output_type": "display_data"
    }
   ],
   "source": [
    "ax = get_loss_curve(experiment)\n",
    "plt.show()"
   ]
  },
  {
   "cell_type": "code",
   "execution_count": 26,
   "id": "fd8a0f60",
   "metadata": {
    "execution": {
     "iopub.execute_input": "2022-03-29T20:49:48.083360Z",
     "iopub.status.busy": "2022-03-29T20:49:48.083109Z",
     "iopub.status.idle": "2022-03-29T20:49:48.226248Z",
     "shell.execute_reply": "2022-03-29T20:49:48.226452Z"
    },
    "papermill": {
     "duration": 0.183605,
     "end_time": "2022-03-29T20:49:48.226531",
     "exception": false,
     "start_time": "2022-03-29T20:49:48.042926",
     "status": "completed"
    },
    "tags": []
   },
   "outputs": [
    {
     "data": {
      "text/plain": [
       "<AxesSubplot:title={'center':'Results'}>"
      ]
     },
     "execution_count": 26,
     "metadata": {},
     "output_type": "execute_result"
    },
    {
     "data": {
      "image/png": "[encoded data removed]",
      "text/plain": [
       "<Figure size 1080x504 with 1 Axes>"
      ]
     },
     "metadata": {
      "needs_background": "light"
     },
     "output_type": "display_data"
    }
   ],
   "source": [
    "get_results_table(experiment)"
   ]
  },
  {
   "cell_type": "code",
   "execution_count": 27,
   "id": "cf8dc689",
   "metadata": {
    "execution": {
     "iopub.execute_input": "2022-03-29T20:49:48.308555Z",
     "iopub.status.busy": "2022-03-29T20:49:48.308301Z",
     "iopub.status.idle": "2022-03-29T20:49:48.480858Z",
     "shell.execute_reply": "2022-03-29T20:49:48.481273Z"
    },
    "papermill": {
     "duration": 0.21496,
     "end_time": "2022-03-29T20:49:48.481402",
     "exception": false,
     "start_time": "2022-03-29T20:49:48.266442",
     "status": "completed"
    },
    "tags": []
   },
   "outputs": [
    {
     "data": {
      "text/plain": [
       "<AxesSubplot:title={'center':'Per Domain Validation Accuracy'}, xlabel='domain'>"
      ]
     },
     "execution_count": 27,
     "metadata": {},
     "output_type": "execute_result"
    },
    {
     "data": {
      "image/png": "[encoded data removed]",
      "text/plain": [
       "<Figure size 1080x504 with 1 Axes>"
      ]
     },
     "metadata": {
      "needs_background": "light"
     },
     "output_type": "display_data"
    }
   ],
   "source": [
    "get_domain_accuracies(experiment)"
   ]
  },
  {
   "cell_type": "code",
   "execution_count": 28,
   "id": "a74ae082",
   "metadata": {
    "execution": {
     "iopub.execute_input": "2022-03-29T20:49:48.570034Z",
     "iopub.status.busy": "2022-03-29T20:49:48.569782Z",
     "iopub.status.idle": "2022-03-29T20:49:48.586950Z",
     "shell.execute_reply": "2022-03-29T20:49:48.587321Z"
    },
    "papermill": {
     "duration": 0.060525,
     "end_time": "2022-03-29T20:49:48.587444",
     "exception": false,
     "start_time": "2022-03-29T20:49:48.526919",
     "status": "completed"
    },
    "tags": []
   },
   "outputs": [
    {
     "name": "stdout",
     "output_type": "stream",
     "text": [
      "Source Test Label Accuracy: 0.7333203125 Target Test Label Accuracy: 0.73576171875\n",
      "Source Val Label Accuracy: 0.73400390625 Target Val Label Accuracy: 0.7363151041666667\n"
     ]
    }
   ],
   "source": [
    "print(\"Source Test Label Accuracy:\", experiment[\"results\"][\"source_test_label_accuracy\"], \"Target Test Label Accuracy:\", experiment[\"results\"][\"target_test_label_accuracy\"])\n",
    "print(\"Source Val Label Accuracy:\", experiment[\"results\"][\"source_val_label_accuracy\"], \"Target Val Label Accuracy:\", experiment[\"results\"][\"target_val_label_accuracy\"])"
   ]
  },
  {
   "cell_type": "code",
   "execution_count": 29,
   "id": "dacca602",
   "metadata": {
    "execution": {
     "iopub.execute_input": "2022-03-29T20:49:48.675990Z",
     "iopub.status.busy": "2022-03-29T20:49:48.675732Z",
     "iopub.status.idle": "2022-03-29T20:49:48.693218Z",
     "shell.execute_reply": "2022-03-29T20:49:48.693619Z"
    },
    "papermill": {
     "duration": 0.060283,
     "end_time": "2022-03-29T20:49:48.693741",
     "exception": false,
     "start_time": "2022-03-29T20:49:48.633458",
     "status": "completed"
    },
    "tags": [
     "experiment_json"
    ]
   },
   "outputs": [
    {
     "data": {
      "text/plain": [
       "'{\"experiment_name\": \"tl_1v2:oracle.run1-oracle.run2\", \"parameters\": {\"experiment_name\": \"tl_1v2:oracle.run1-oracle.run2\", \"device\": \"cuda\", \"lr\": 0.0001, \"n_shot\": 3, \"n_query\": 2, \"train_k_factor\": 3, \"val_k_factor\": 2, \"test_k_factor\": 2, \"torch_default_dtype\": \"torch.float32\", \"n_epoch\": 50, \"patience\": 3, \"criteria_for_best\": \"target_accuracy\", \"x_net\": [{\"class\": \"nnReshape\", \"kargs\": {\"shape\": [-1, 1, 2, 256]}}, {\"class\": \"Conv2d\", \"kargs\": {\"in_channels\": 1, \"out_channels\": 256, \"kernel_size\": [1, 7], \"bias\": false, \"padding\": [0, 3]}}, {\"class\": \"ReLU\", \"kargs\": {\"inplace\": true}}, {\"class\": \"BatchNorm2d\", \"kargs\": {\"num_features\": 256}}, {\"class\": \"Conv2d\", \"kargs\": {\"in_channels\": 256, \"out_channels\": 80, \"kernel_size\": [2, 7], \"bias\": true, \"padding\": [0, 3]}}, {\"class\": \"ReLU\", \"kargs\": {\"inplace\": true}}, {\"class\": \"BatchNorm2d\", \"kargs\": {\"num_features\": 80}}, {\"class\": \"Flatten\", \"kargs\": {}}, {\"class\": \"Linear\", \"kargs\": {\"in_features\": 20480, \"out_features\": 256}}, {\"class\": \"ReLU\", \"kargs\": {\"inplace\": true}}, {\"class\": \"BatchNorm1d\", \"kargs\": {\"num_features\": 256}}, {\"class\": \"Linear\", \"kargs\": {\"in_features\": 256, \"out_features\": 256}}], \"NUM_LOGS_PER_EPOCH\": 10, \"BEST_MODEL_PATH\": \"./best_model.pth\", \"n_way\": 16, \"datasets\": [{\"labels\": [\"3123D52\", \"3123D65\", \"3123D79\", \"3123D80\", \"3123D54\", \"3123D70\", \"3123D7B\", \"3123D89\", \"3123D58\", \"3123D76\", \"3123D7D\", \"3123EFE\", \"3123D64\", \"3123D78\", \"3123D7E\", \"3124E4A\"], \"domains\": [32, 38, 8, 44, 14, 50, 20, 26], \"num_examples_per_domain_per_label\": 10000, \"pickle_path\": \"/mnt/wd500GB/CSC500/csc500-main/datasets/oracle.Run1_10kExamples_stratified_ds.2022A.pkl\", \"source_or_target_dataset\": \"target\", \"x_transforms\": [\"unit_power\"], \"episode_transforms\": [], \"domain_prefix\": \"ORACLE.run1_\"}, {\"labels\": [\"3123D52\", \"3123D65\", \"3123D79\", \"3123D80\", \"3123D54\", \"3123D70\", \"3123D7B\", \"3123D89\", \"3123D58\", \"3123D76\", \"3123D7D\", \"3123EFE\", \"3123D64\", \"3123D78\", \"3123D7E\", \"3124E4A\"], \"domains\": [32, 38, 8, 44, 14, 50, 20, 26], \"num_examples_per_domain_per_label\": 10000, \"pickle_path\": \"/mnt/wd500GB/CSC500/csc500-main/datasets/oracle.Run2_10kExamples_stratified_ds.2022A.pkl\", \"source_or_target_dataset\": \"source\", \"x_transforms\": [\"unit_power\"], \"episode_transforms\": [], \"domain_prefix\": \"ORACLE.run2_\"}], \"dataset_seed\": 500, \"seed\": 500, \"x_shape\": [2, 256], \"domains_source\": [\"ORACLE.run2_32\", \"ORACLE.run2_38\", \"ORACLE.run2_8\", \"ORACLE.run2_44\", \"ORACLE.run2_14\", \"ORACLE.run2_50\", \"ORACLE.run2_20\", \"ORACLE.run2_26\"], \"domains_target\": [\"ORACLE.run1_32\", \"ORACLE.run1_38\", \"ORACLE.run1_8\", \"ORACLE.run1_44\", \"ORACLE.run1_14\", \"ORACLE.run1_50\", \"ORACLE.run1_20\", \"ORACLE.run1_26\"]}, \"results\": {\"source_test_label_accuracy\": 0.7333203125, \"source_test_label_loss\": 0.7675129175186157, \"target_test_label_accuracy\": 0.73576171875, \"target_test_label_loss\": 0.7489206790924072, \"source_val_label_accuracy\": 0.73400390625, \"source_val_label_loss\": 0.767910897731781, \"target_val_label_accuracy\": 0.7363151041666667, \"target_val_label_loss\": 0.7502059936523438, \"total_epochs_trained\": 11, \"total_experiment_time_secs\": 10264.278079271317, \"confusion\": {\"ORACLE.run2_50\": {\"7\": {\"7\": 643, \"5\": 123, \"13\": 348, \"10\": 78, \"4\": 7, \"0\": 1}, \"10\": {\"10\": 890, \"5\": 47, \"13\": 188, \"7\": 59, \"0\": 13, \"6\": 1, \"4\": 2}, \"0\": {\"0\": 1106, \"2\": 73, \"10\": 19, \"6\": 1, \"5\": 1}, \"11\": {\"11\": 1127, \"9\": 7, \"15\": 37, \"12\": 17, \"14\": 12}, \"2\": {\"2\": 1137, \"0\": 63}, \"14\": {\"14\": 1183, \"12\": 14, \"11\": 2, \"1\": 1}, \"9\": {\"9\": 1145, \"12\": 41, \"11\": 14}, \"13\": {\"13\": 734, \"7\": 252, \"10\": 179, \"5\": 32, \"4\": 3}, \"8\": {\"8\": 1175, \"3\": 25}, \"15\": {\"15\": 1093, \"6\": 11, \"1\": 55, \"11\": 38, \"4\": 2, \"14\": 1}, \"4\": {\"4\": 659, \"1\": 65, \"6\": 142, \"5\": 320, \"7\": 8, \"10\": 2, \"13\": 3, \"0\": 1}, \"5\": {\"4\": 333, \"5\": 627, \"1\": 14, \"7\": 83, \"6\": 50, \"10\": 48, \"13\": 41, \"0\": 4}, \"3\": {\"3\": 1151, \"8\": 49}, \"1\": {\"1\": 926, \"6\": 172, \"15\": 57, \"4\": 41, \"5\": 3, \"0\": 1}, \"6\": {\"6\": 803, \"1\": 200, \"5\": 52, \"0\": 1, \"4\": 128, \"15\": 15, \"7\": 1}, \"12\": {\"12\": 1103, \"9\": 45, \"14\": 38, \"11\": 14}}, \"ORACLE.run2_14\": {\"14\": {\"3\": 32, \"6\": 86, \"14\": 948, \"13\": 6, \"2\": 121, \"4\": 4, \"5\": 1, \"0\": 2}, \"6\": {\"6\": 877, \"13\": 250, \"14\": 49, \"2\": 21, \"4\": 3}, \"5\": {\"5\": 723, \"4\": 253, \"2\": 83, \"3\": 57, \"1\": 83, \"14\": 1}, \"15\": {\"15\": 1188, \"7\": 10, \"13\": 1, \"2\": 1}, \"11\": {\"11\": 1178, \"12\": 20, \"0\": 1, \"9\": 1}, \"8\": {\"8\": 1200}, \"12\": {\"12\": 662, \"11\": 290, \"0\": 99, \"9\": 117, \"3\": 2, \"8\": 22, \"10\": 8}, \"1\": {\"1\": 1096, \"5\": 83, \"4\": 21}, \"2\": {\"2\": 571, \"14\": 173, \"3\": 70, \"5\": 154, \"13\": 108, \"6\": 39, \"4\": 80, \"15\": 3, \"1\": 1, \"7\": 1}, \"13\": {\"13\": 857, \"6\": 313, \"2\": 24, \"14\": 6}, \"3\": {\"3\": 1053, \"14\": 15, \"5\": 53, \"0\": 6, \"4\": 50, \"2\": 21, \"1\": 2}, \"0\": {\"0\": 1188, \"10\": 9, \"11\": 2, \"12\": 1}, \"9\": {\"9\": 1198, \"12\": 2}, \"4\": {\"4\": 802, \"2\": 49, \"3\": 39, \"5\": 285, \"1\": 24, \"14\": 1}, \"7\": {\"7\": 1196, \"15\": 4}, \"10\": {\"10\": 1169, \"0\": 28, \"11\": 3}}, \"ORACLE.run2_32\": {\"4\": {\"0\": 91, \"4\": 565, \"13\": 229, \"8\": 49, \"5\": 111, \"7\": 84, \"11\": 51, \"2\": 20}, \"14\": {\"2\": 82, \"14\": 1038, \"7\": 1, \"5\": 26, \"0\": 43, \"11\": 9, \"9\": 1}, \"5\": {\"8\": 118, \"2\": 125, \"4\": 112, \"14\": 84, \"5\": 539, \"0\": 143, \"13\": 57, \"7\": 10, \"11\": 9, \"3\": 3}, \"10\": {\"10\": 1198, \"1\": 2}, \"13\": {\"13\": 719, \"7\": 102, \"11\": 60, \"8\": 33, \"4\": 234, \"0\": 19, \"3\": 22, \"2\": 2, \"5\": 9}, \"9\": {\"9\": 1178, \"14\": 19, \"12\": 2, \"2\": 1}, \"6\": {\"6\": 1200}, \"3\": {\"3\": 1159, \"13\": 26, \"7\": 2, \"8\": 12, \"11\": 1}, \"15\": {\"15\": 1195, \"8\": 4, \"5\": 1}, \"7\": {\"7\": 730, \"11\": 214, \"13\": 125, \"4\": 92, \"0\": 18, \"5\": 8, \"2\": 12, \"8\": 1}, \"12\": {\"12\": 1200}, \"8\": {\"8\": 961, \"5\": 59, \"0\": 62, \"13\": 60, \"4\": 37, \"3\": 15, \"15\": 3, \"2\": 1, \"11\": 2}, \"11\": {\"4\": 52, \"11\": 676, \"7\": 238, \"0\": 152, \"2\": 15, \"13\": 58, \"5\": 2, \"8\": 6, \"14\": 1}, \"2\": {\"2\": 1026, \"14\": 62, \"0\": 10, \"5\": 62, \"11\": 8, \"7\": 11, \"4\": 20, \"13\": 1}, \"1\": {\"1\": 1192, \"10\": 8}, \"0\": {\"11\": 139, \"0\": 650, \"7\": 22, \"4\": 122, \"8\": 71, \"5\": 127, \"14\": 14, \"13\": 44, \"2\": 11}}, \"ORACLE.run2_44\": {\"8\": {\"8\": 674, \"0\": 503, \"5\": 9, \"15\": 13, \"14\": 1}, \"11\": {\"11\": 1175, \"6\": 24, \"7\": 1}, \"14\": {\"14\": 873, \"5\": 128, \"4\": 56, \"15\": 142, \"8\": 1}, \"10\": {\"10\": 1144, \"1\": 24, \"12\": 32}, \"3\": {\"3\": 1041, \"12\": 53, \"1\": 106}, \"15\": {\"15\": 1015, \"14\": 127, \"5\": 4, \"4\": 36, \"8\": 17, \"0\": 1}, \"2\": {\"2\": 736, \"7\": 184, \"9\": 276, \"1\": 3, \"3\": 1}, \"12\": {\"1\": 296, \"12\": 848, \"3\": 54, \"10\": 2}, \"4\": {\"4\": 1087, \"14\": 65, \"15\": 32, \"13\": 16}, \"1\": {\"12\": 308, \"1\": 757, \"3\": 128, \"7\": 4, \"9\": 2, \"10\": 1}, \"0\": {\"0\": 693, \"8\": 498, \"5\": 5, \"15\": 3, \"14\": 1}, \"9\": {\"2\": 297, \"9\": 578, \"7\": 307, \"6\": 17, \"1\": 1}, \"5\": {\"5\": 1084, \"14\": 99, \"8\": 13, \"15\": 1, \"0\": 3}, \"6\": {\"6\": 1108, \"7\": 16, \"9\": 45, \"13\": 25, \"2\": 2, \"11\": 4}, \"7\": {\"9\": 310, \"2\": 230, \"7\": 645, \"6\": 13, \"1\": 2}, \"13\": {\"13\": 1165, \"4\": 21, \"6\": 10, \"9\": 1, \"14\": 3}}, \"ORACLE.run2_8\": {\"13\": {\"13\": 930, \"14\": 124, \"10\": 46, \"1\": 85, \"0\": 4, \"5\": 5, \"6\": 3, \"7\": 1, \"4\": 1, \"8\": 1}, \"3\": {\"3\": 1104, \"12\": 92, \"15\": 4}, \"15\": {\"15\": 754, \"12\": 157, \"8\": 146, \"11\": 136, \"7\": 4, \"6\": 2, \"3\": 1}, \"4\": {\"4\": 489, \"7\": 269, \"2\": 85, \"6\": 340, \"14\": 15, \"0\": 2}, \"7\": {\"7\": 613, \"6\": 190, \"2\": 111, \"4\": 282, \"8\": 4}, \"2\": {\"2\": 975, \"4\": 94, \"7\": 123, \"0\": 1, \"6\": 7}, \"1\": {\"5\": 11, \"1\": 1132, \"13\": 53, \"10\": 2, \"0\": 1, \"14\": 1}, \"0\": {\"0\": 856, \"14\": 168, \"10\": 169, \"6\": 4, \"4\": 2, \"13\": 1}, \"12\": {\"15\": 102, \"12\": 1039, \"3\": 45, \"11\": 13, \"8\": 1}, \"6\": {\"4\": 350, \"6\": 605, \"7\": 182, \"2\": 6, \"14\": 50, \"13\": 4, \"0\": 2, \"8\": 1}, \"11\": {\"11\": 667, \"8\": 272, \"15\": 166, \"12\": 95}, \"9\": {\"9\": 1200}, \"5\": {\"5\": 1013, \"10\": 153, \"13\": 9, \"1\": 22, \"0\": 3}, \"10\": {\"14\": 65, \"10\": 776, \"0\": 193, \"5\": 119, \"13\": 45, \"1\": 2}, \"14\": {\"14\": 825, \"0\": 173, \"6\": 43, \"4\": 16, \"10\": 52, \"13\": 90, \"7\": 1}, \"8\": {\"8\": 1042, \"15\": 76, \"11\": 77, \"13\": 3, \"6\": 2}}, \"ORACLE.run2_20\": {\"6\": {\"6\": 1120, \"14\": 50, \"8\": 16, \"10\": 9, \"7\": 5}, \"11\": {\"11\": 1199, \"7\": 1}, \"5\": {\"5\": 495, \"3\": 156, \"4\": 34, \"7\": 36, \"0\": 89, \"2\": 153, \"9\": 20, \"15\": 77, \"12\": 100, \"1\": 22, \"13\": 12, \"8\": 6}, \"14\": {\"14\": 949, \"8\": 111, \"6\": 89, \"10\": 50, \"7\": 1}, \"2\": {\"1\": 11, \"9\": 281, \"2\": 414, \"12\": 68, \"5\": 117, \"3\": 193, \"15\": 93, \"13\": 16, \"4\": 2, \"0\": 2, \"7\": 3}, \"7\": {\"7\": 933, \"8\": 89, \"3\": 118, \"2\": 8, \"5\": 25, \"6\": 12, \"10\": 12, \"9\": 2, \"14\": 1}, \"3\": {\"5\": 135, \"2\": 190, \"3\": 545, \"9\": 116, \"7\": 122, \"12\": 52, \"1\": 4, \"4\": 23, \"15\": 8, \"0\": 2, \"8\": 3}, \"4\": {\"4\": 1085, \"12\": 29, \"8\": 19, \"5\": 26, \"0\": 18, \"2\": 2, \"1\": 4, \"3\": 12, \"10\": 2, \"9\": 1, \"7\": 1, \"14\": 1}, \"9\": {\"9\": 511, \"2\": 285, \"13\": 6, \"12\": 132, \"1\": 38, \"3\": 127, \"15\": 60, \"5\": 33, \"4\": 5, \"7\": 1, \"0\": 2}, \"12\": {\"1\": 233, \"5\": 78, \"9\": 118, \"4\": 24, \"12\": 525, \"0\": 47, \"15\": 76, \"2\": 66, \"3\": 33}, \"0\": {\"5\": 91, \"0\": 871, \"12\": 45, \"15\": 60, \"2\": 2, \"1\": 80, \"13\": 13, \"4\": 35, \"3\": 1, \"7\": 1, \"8\": 1}, \"10\": {\"10\": 1070, \"14\": 62, \"7\": 9, \"8\": 27, \"4\": 14, \"6\": 10, \"3\": 7, \"9\": 1}, \"8\": {\"8\": 814, \"4\": 32, \"14\": 144, \"7\": 138, \"6\": 28, \"10\": 26, \"5\": 12, \"3\": 5, \"0\": 1}, \"13\": {\"13\": 906, \"15\": 252, \"1\": 6, \"5\": 7, \"2\": 16, \"9\": 6, \"12\": 2, \"0\": 5}, \"1\": {\"9\": 37, \"12\": 263, \"1\": 698, \"2\": 12, \"0\": 61, \"15\": 92, \"5\": 11, \"4\": 7, \"13\": 16, \"3\": 3}, \"15\": {\"15\": 521, \"5\": 80, \"2\": 96, \"13\": 267, \"1\": 87, \"12\": 71, \"0\": 33, \"9\": 36, \"4\": 2, \"3\": 7}}, \"ORACLE.run2_38\": {\"3\": {\"3\": 571, \"0\": 220, \"9\": 42, \"13\": 160, \"8\": 50, \"10\": 61, \"5\": 23, \"6\": 20, \"7\": 32, \"15\": 18, \"1\": 3}, \"8\": {\"5\": 349, \"15\": 212, \"8\": 461, \"13\": 61, \"7\": 79, \"10\": 19, \"3\": 15, \"0\": 2, \"1\": 2}, \"0\": {\"0\": 1014, \"3\": 128, \"15\": 2, \"10\": 29, \"8\": 9, \"7\": 8, \"9\": 4, \"5\": 3, \"6\": 3}, \"2\": {\"2\": 1084, \"14\": 116}, \"4\": {\"4\": 1155, \"12\": 44, \"10\": 1}, \"7\": {\"10\": 295, \"8\": 76, \"7\": 688, \"5\": 110, \"15\": 6, \"0\": 4, \"13\": 11, \"3\": 7, \"4\": 2, \"12\": 1}, \"12\": {\"12\": 1168, \"4\": 13, \"2\": 1, \"14\": 17, \"11\": 1}, \"6\": {\"6\": 1026, \"9\": 169, \"0\": 3, \"15\": 1, \"3\": 1}, \"15\": {\"15\": 680, \"8\": 184, \"5\": 175, \"1\": 122, \"7\": 9, \"6\": 15, \"3\": 8, \"13\": 3, \"0\": 3, \"9\": 1}, \"11\": {\"11\": 1109, \"14\": 66, \"12\": 13, \"4\": 6, \"2\": 6}, \"9\": {\"9\": 891, \"6\": 300, \"13\": 1, \"0\": 3, \"3\": 5}, \"14\": {\"14\": 760, \"2\": 300, \"10\": 8, \"12\": 57, \"11\": 35, \"7\": 19, \"5\": 15, \"13\": 2, \"8\": 3, \"4\": 1}, \"10\": {\"7\": 388, \"10\": 694, \"8\": 25, \"5\": 12, \"13\": 31, \"0\": 22, \"3\": 26, \"4\": 2}, \"5\": {\"8\": 372, \"15\": 139, \"7\": 96, \"5\": 552, \"1\": 4, \"13\": 24, \"10\": 11, \"3\": 2}, \"1\": {\"1\": 1152, \"5\": 2, \"15\": 45, \"8\": 1}, \"13\": {\"13\": 710, \"1\": 40, \"3\": 138, \"10\": 29, \"7\": 23, \"5\": 56, \"8\": 131, \"0\": 9, \"15\": 37, \"2\": 18, \"9\": 4, \"6\": 3, \"14\": 2}}, \"ORACLE.run2_26\": {\"5\": {\"13\": 278, \"2\": 72, \"5\": 525, \"7\": 83, \"9\": 77, \"6\": 74, \"8\": 63, \"14\": 2, \"15\": 7, \"3\": 14, \"10\": 4, \"0\": 1}, \"8\": {\"8\": 571, \"7\": 109, \"0\": 62, \"2\": 71, \"9\": 122, \"10\": 72, \"4\": 59, \"5\": 38, \"14\": 70, \"6\": 15, \"15\": 3, \"1\": 3, \"13\": 4, \"3\": 1}, \"4\": {\"3\": 60, \"4\": 711, \"0\": 103, \"10\": 26, \"8\": 51, \"2\": 73, \"15\": 50, \"14\": 53, \"1\": 14, \"7\": 58, \"5\": 1}, \"12\": {\"12\": 1199, \"11\": 1}, \"6\": {\"6\": 912, \"9\": 155, \"13\": 39, \"10\": 40, \"8\": 34, \"14\": 3, \"5\": 16, \"0\": 1}, \"7\": {\"8\": 103, \"7\": 432, \"2\": 359, \"14\": 7, \"4\": 73, \"15\": 75, \"0\": 10, \"5\": 42, \"13\": 2, \"3\": 64, \"9\": 32, \"10\": 1}, \"10\": {\"6\": 73, \"14\": 183, \"10\": 434, \"1\": 68, \"8\": 116, \"0\": 229, \"5\": 4, \"4\": 66, \"9\": 4, \"15\": 4, \"7\": 7, \"3\": 1, \"12\": 6, \"2\": 5}, \"0\": {\"10\": 168, \"14\": 239, \"7\": 14, \"8\": 81, \"0\": 476, \"1\": 73, \"4\": 128, \"6\": 3, \"2\": 9, \"15\": 7, \"3\": 1, \"9\": 1}, \"15\": {\"15\": 739, \"3\": 197, \"4\": 60, \"2\": 103, \"9\": 10, \"7\": 76, \"8\": 10, \"0\": 3, \"5\": 2}, \"9\": {\"9\": 730, \"8\": 81, \"6\": 152, \"13\": 121, \"5\": 67, \"7\": 18, \"2\": 17, \"15\": 8, \"0\": 2, \"10\": 4}, \"11\": {\"11\": 1199, \"12\": 1}, \"14\": {\"14\": 420, \"1\": 288, \"10\": 153, \"0\": 209, \"8\": 67, \"4\": 48, \"7\": 10, \"2\": 4, \"5\": 1}, \"2\": {\"4\": 103, \"2\": 360, \"7\": 364, \"1\": 1, \"15\": 85, \"9\": 16, \"8\": 94, \"3\": 131, \"0\": 8, \"5\": 28, \"10\": 4, \"14\": 4, \"13\": 2}, \"13\": {\"13\": 909, \"9\": 88, \"5\": 178, \"7\": 3, \"6\": 19, \"8\": 1, \"2\": 2}, \"3\": {\"15\": 164, \"3\": 734, \"7\": 97, \"2\": 135, \"4\": 66, \"9\": 1, \"5\": 3}, \"1\": {\"14\": 318, \"0\": 73, \"1\": 744, \"10\": 46, \"4\": 11, \"8\": 4, \"2\": 1, \"7\": 3}}, \"ORACLE.run1_50\": {\"7\": {\"7\": 786, \"10\": 30, \"13\": 217, \"5\": 159, \"6\": 3, \"4\": 4, \"8\": 1}, \"10\": {\"10\": 1128, \"7\": 16, \"0\": 29, \"8\": 16, \"13\": 11}, \"0\": {\"0\": 1087, \"10\": 28, \"2\": 82, \"13\": 3}, \"11\": {\"11\": 1050, \"15\": 23, \"9\": 112, \"12\": 7, \"14\": 7, \"1\": 1}, \"2\": {\"0\": 53, \"2\": 1147}, \"14\": {\"14\": 1182, \"12\": 13, \"11\": 5}, \"9\": {\"9\": 925, \"11\": 185, \"12\": 87, \"14\": 3}, \"13\": {\"7\": 162, \"5\": 179, \"13\": 801, \"6\": 35, \"4\": 4, \"10\": 12, \"0\": 7}, \"8\": {\"8\": 1169, \"10\": 18, \"3\": 13}, \"15\": {\"11\": 17, \"15\": 939, \"1\": 167, \"4\": 60, \"6\": 15, \"14\": 1, \"5\": 1}, \"4\": {\"4\": 606, \"1\": 159, \"6\": 121, \"15\": 133, \"13\": 30, \"5\": 114, \"7\": 36, \"11\": 1}, \"5\": {\"6\": 97, \"5\": 417, \"13\": 151, \"7\": 329, \"4\": 155, \"1\": 36, \"10\": 11, \"15\": 1, \"0\": 3}, \"3\": {\"3\": 1168, \"8\": 32}, \"1\": {\"6\": 106, \"1\": 780, \"15\": 218, \"4\": 78, \"13\": 3, \"0\": 2, \"5\": 9, \"11\": 3, \"14\": 1}, \"6\": {\"6\": 907, \"13\": 50, \"4\": 96, \"5\": 43, \"1\": 88, \"15\": 10, \"2\": 1, \"7\": 5}, \"12\": {\"12\": 1092, \"9\": 72, \"11\": 5, \"14\": 31}}, \"ORACLE.run1_14\": {\"14\": {\"14\": 975, \"13\": 75, \"2\": 78, \"3\": 15, \"6\": 54, \"5\": 1, \"4\": 2}, \"6\": {\"6\": 703, \"14\": 56, \"13\": 397, \"2\": 43, \"4\": 1}, \"5\": {\"5\": 770, \"1\": 171, \"4\": 197, \"2\": 47, \"3\": 10, \"15\": 2, \"7\": 3}, \"15\": {\"15\": 1174, \"7\": 25, \"5\": 1}, \"11\": {\"11\": 1048, \"0\": 58, \"9\": 90, \"10\": 4}, \"8\": {\"8\": 1199, \"9\": 1}, \"12\": {\"12\": 1197, \"9\": 3}, \"1\": {\"1\": 1079, \"5\": 111, \"3\": 1, \"4\": 8, \"7\": 1}, \"2\": {\"2\": 604, \"14\": 183, \"13\": 71, \"15\": 29, \"5\": 145, \"4\": 59, \"3\": 56, \"6\": 52, \"1\": 1}, \"13\": {\"13\": 414, \"6\": 521, \"14\": 155, \"5\": 15, \"2\": 91, \"15\": 1, \"3\": 1, \"4\": 2}, \"3\": {\"3\": 1060, \"4\": 111, \"14\": 10, \"2\": 9, \"0\": 6, \"5\": 4}, \"0\": {\"0\": 1073, \"10\": 78, \"3\": 20, \"11\": 26, \"14\": 1, \"8\": 2}, \"9\": {\"9\": 1195, \"11\": 4, \"12\": 1}, \"4\": {\"4\": 947, \"3\": 79, \"5\": 147, \"1\": 5, \"2\": 19, \"13\": 1, \"14\": 2}, \"7\": {\"7\": 1187, \"15\": 11, \"5\": 2}, \"10\": {\"10\": 1162, \"0\": 38}}, \"ORACLE.run1_32\": {\"4\": {\"4\": 743, \"7\": 132, \"2\": 181, \"13\": 32, \"5\": 68, \"0\": 31, \"8\": 3, \"14\": 10}, \"14\": {\"13\": 53, \"14\": 507, \"7\": 198, \"11\": 289, \"0\": 65, \"5\": 40, \"3\": 11, \"8\": 10, \"4\": 17, \"2\": 10}, \"5\": {\"13\": 263, \"7\": 133, \"5\": 401, \"4\": 136, \"2\": 15, \"14\": 34, \"0\": 61, \"8\": 94, \"3\": 59, \"11\": 4}, \"10\": {\"10\": 1199, \"1\": 1}, \"13\": {\"5\": 242, \"13\": 586, \"14\": 39, \"7\": 78, \"4\": 98, \"11\": 14, \"3\": 72, \"8\": 47, \"0\": 23, \"2\": 1}, \"9\": {\"9\": 1199, \"12\": 1}, \"6\": {\"6\": 1200}, \"3\": {\"13\": 44, \"3\": 1115, \"14\": 6, \"5\": 15, \"11\": 18, \"8\": 2}, \"15\": {\"15\": 1192, \"8\": 8}, \"7\": {\"7\": 554, \"5\": 164, \"13\": 89, \"14\": 174, \"4\": 153, \"2\": 20, \"11\": 15, \"8\": 5, \"0\": 26}, \"12\": {\"12\": 1200}, \"8\": {\"8\": 944, \"5\": 74, \"13\": 76, \"0\": 82, \"14\": 2, \"4\": 11, \"7\": 9, \"3\": 2}, \"11\": {\"11\": 976, \"14\": 180, \"7\": 17, \"3\": 11, \"13\": 9, \"5\": 6, \"4\": 1}, \"2\": {\"2\": 995, \"4\": 158, \"7\": 13, \"0\": 28, \"14\": 2, \"5\": 4}, \"1\": {\"1\": 1190, \"10\": 10}, \"0\": {\"0\": 907, \"7\": 47, \"5\": 35, \"13\": 13, \"4\": 46, \"8\": 96, \"14\": 30, \"2\": 26}}, \"ORACLE.run1_44\": {\"8\": {\"0\": 401, \"8\": 747, \"15\": 39, \"5\": 13}, \"11\": {\"11\": 1091, \"6\": 19, \"13\": 89, \"7\": 1}, \"14\": {\"14\": 762, \"4\": 332, \"15\": 78, \"5\": 28}, \"10\": {\"10\": 911, \"1\": 118, \"12\": 88, \"2\": 82, \"7\": 1}, \"3\": {\"3\": 1092, \"1\": 93, \"2\": 3, \"12\": 11, \"10\": 1}, \"15\": {\"15\": 962, \"0\": 102, \"14\": 82, \"5\": 28, \"8\": 19, \"4\": 7}, \"2\": {\"2\": 929, \"10\": 87, \"7\": 131, \"1\": 47, \"6\": 2, \"3\": 1, \"9\": 3}, \"12\": {\"12\": 989, \"1\": 140, \"10\": 61, \"3\": 9, \"2\": 1}, \"4\": {\"4\": 855, \"14\": 335, \"15\": 8, \"9\": 1, \"13\": 1}, \"1\": {\"3\": 122, \"1\": 754, \"10\": 90, \"12\": 198, \"2\": 35, \"7\": 1}, \"0\": {\"8\": 313, \"0\": 755, \"15\": 58, \"5\": 74}, \"9\": {\"9\": 691, \"7\": 265, \"13\": 135, \"6\": 97, \"2\": 9, \"4\": 3}, \"5\": {\"5\": 1037, \"0\": 79, \"14\": 37, \"15\": 35, \"8\": 10, \"4\": 2}, \"6\": {\"7\": 32, \"9\": 115, \"6\": 847, \"13\": 188, \"11\": 17, \"2\": 1}, \"7\": {\"2\": 155, \"7\": 787, \"9\": 220, \"6\": 33, \"1\": 1, \"13\": 4}, \"13\": {\"7\": 8, \"6\": 173, \"13\": 835, \"9\": 138, \"11\": 42, \"4\": 3, \"14\": 1}}, \"ORACLE.run1_8\": {\"13\": {\"4\": 167, \"13\": 473, \"0\": 306, \"10\": 107, \"6\": 44, \"14\": 89, \"7\": 11, \"1\": 1, \"5\": 2}, \"3\": {\"3\": 1047, \"12\": 39, \"2\": 111, \"15\": 3}, \"15\": {\"15\": 972, \"12\": 191, \"8\": 31, \"2\": 4, \"3\": 2}, \"4\": {\"13\": 217, \"4\": 693, \"6\": 114, \"14\": 143, \"10\": 15, \"0\": 16, \"7\": 1, \"8\": 1}, \"7\": {\"7\": 890, \"6\": 251, \"0\": 55, \"13\": 4}, \"2\": {\"2\": 975, \"3\": 167, \"7\": 30, \"12\": 6, \"15\": 21, \"6\": 1}, \"1\": {\"11\": 250, \"1\": 901, \"5\": 17, \"10\": 3, \"14\": 28, \"13\": 1}, \"0\": {\"0\": 817, \"4\": 26, \"6\": 54, \"13\": 227, \"7\": 74, \"14\": 1, \"10\": 1}, \"12\": {\"12\": 623, \"15\": 377, \"3\": 152, \"8\": 39, \"2\": 8, \"6\": 1}, \"6\": {\"7\": 205, \"4\": 110, \"6\": 784, \"0\": 62, \"13\": 35, \"14\": 2, \"8\": 2}, \"11\": {\"11\": 794, \"1\": 378, \"5\": 13, \"8\": 8, \"14\": 6, \"4\": 1}, \"9\": {\"9\": 1200}, \"5\": {\"5\": 1073, \"10\": 54, \"11\": 6, \"1\": 44, \"14\": 23}, \"10\": {\"10\": 830, \"14\": 247, \"5\": 15, \"4\": 35, \"13\": 67, \"1\": 3, \"0\": 3}, \"14\": {\"14\": 649, \"10\": 267, \"4\": 177, \"13\": 68, \"1\": 32, \"5\": 3, \"11\": 4}, \"8\": {\"8\": 1163, \"15\": 34, \"1\": 1, \"6\": 2}}, \"ORACLE.run1_20\": {\"6\": {\"6\": 1071, \"14\": 119, \"8\": 8, \"7\": 2}, \"11\": {\"11\": 1200}, \"5\": {\"5\": 515, \"0\": 221, \"3\": 35, \"15\": 94, \"1\": 182, \"12\": 138, \"2\": 4, \"9\": 6, \"13\": 1, \"4\": 3, \"7\": 1}, \"14\": {\"14\": 963, \"6\": 122, \"10\": 77, \"8\": 37, \"4\": 1}, \"2\": {\"2\": 614, \"9\": 287, \"7\": 107, \"12\": 41, \"13\": 67, \"3\": 70, \"15\": 5, \"1\": 4, \"5\": 3, \"8\": 1, \"0\": 1}, \"7\": {\"8\": 49, \"7\": 955, \"2\": 120, \"9\": 26, \"3\": 32, \"4\": 7, \"6\": 3, \"13\": 3, \"12\": 1, \"14\": 2, \"10\": 1, \"0\": 1}, \"3\": {\"3\": 549, \"4\": 60, \"9\": 192, \"2\": 69, \"7\": 33, \"12\": 228, \"5\": 41, \"15\": 2, \"1\": 18, \"8\": 4, \"13\": 2, \"0\": 2}, \"4\": {\"8\": 91, \"4\": 1032, \"3\": 40, \"5\": 3, \"10\": 28, \"9\": 1, \"12\": 3, \"0\": 1, \"14\": 1}, \"9\": {\"9\": 506, \"1\": 18, \"3\": 211, \"2\": 321, \"12\": 101, \"13\": 9, \"5\": 4, \"7\": 25, \"15\": 2, \"4\": 2, \"0\": 1}, \"12\": {\"5\": 117, \"15\": 13, \"12\": 474, \"3\": 252, \"1\": 174, \"2\": 30, \"9\": 120, \"13\": 4, \"0\": 10, \"4\": 4, \"7\": 2}, \"0\": {\"5\": 285, \"0\": 709, \"15\": 106, \"8\": 6, \"2\": 7, \"1\": 20, \"12\": 22, \"3\": 14, \"13\": 7, \"7\": 13, \"9\": 6, \"4\": 5}, \"10\": {\"10\": 1083, \"4\": 28, \"14\": 68, \"8\": 17, \"7\": 1, \"6\": 1, \"3\": 2}, \"8\": {\"8\": 972, \"7\": 58, \"4\": 107, \"10\": 10, \"14\": 38, \"3\": 8, \"6\": 7}, \"13\": {\"13\": 1117, \"2\": 53, \"15\": 18, \"12\": 2, \"0\": 1, \"9\": 5, \"1\": 3, \"3\": 1}, \"1\": {\"1\": 550, \"5\": 183, \"12\": 190, \"15\": 230, \"0\": 22, \"3\": 10, \"2\": 6, \"9\": 9}, \"15\": {\"15\": 783, \"1\": 193, \"13\": 26, \"5\": 115, \"0\": 62, \"12\": 16, \"2\": 1, \"9\": 3, \"3\": 1}}, \"ORACLE.run1_38\": {\"3\": {\"3\": 1138, \"0\": 14, \"9\": 36, \"7\": 10, \"5\": 2}, \"8\": {\"10\": 21, \"8\": 783, \"5\": 238, \"15\": 24, \"0\": 102, \"7\": 26, \"13\": 5, \"1\": 1}, \"0\": {\"3\": 68, \"7\": 237, \"0\": 522, \"8\": 241, \"5\": 101, \"10\": 27, \"9\": 2, \"6\": 1, \"15\": 1}, \"2\": {\"2\": 1132, \"14\": 50, \"13\": 15, \"10\": 2, \"15\": 1}, \"4\": {\"4\": 1136, \"12\": 62, \"0\": 1, \"10\": 1}, \"7\": {\"0\": 129, \"7\": 983, \"8\": 34, \"5\": 50, \"3\": 4}, \"12\": {\"12\": 1167, \"10\": 2, \"14\": 4, \"4\": 27}, \"6\": {\"5\": 11, \"6\": 1075, \"9\": 114}, \"15\": {\"15\": 901, \"1\": 106, \"13\": 142, \"8\": 29, \"5\": 18, \"2\": 2, \"10\": 2}, \"11\": {\"11\": 1053, \"14\": 125, \"2\": 9, \"10\": 8, \"12\": 2, \"13\": 3}, \"9\": {\"9\": 891, \"3\": 20, \"6\": 278, \"0\": 1, \"5\": 10}, \"14\": {\"14\": 1091, \"2\": 73, \"11\": 23, \"13\": 2, \"10\": 8, \"12\": 3}, \"10\": {\"10\": 951, \"13\": 133, \"12\": 7, \"8\": 33, \"14\": 22, \"0\": 19, \"7\": 7, \"11\": 14, \"15\": 5, \"5\": 3, \"2\": 5, \"4\": 1}, \"5\": {\"8\": 320, \"5\": 548, \"15\": 58, \"1\": 18, \"0\": 85, \"7\": 87, \"6\": 41, \"9\": 27, \"10\": 6, \"13\": 8, \"3\": 2}, \"1\": {\"1\": 1143, \"15\": 53, \"5\": 3, \"13\": 1}, \"13\": {\"15\": 191, \"13\": 862, \"10\": 95, \"2\": 20, \"1\": 10, \"5\": 3, \"8\": 17, \"0\": 2}}, \"ORACLE.run1_26\": {\"5\": {\"5\": 788, \"7\": 3, \"8\": 28, \"9\": 54, \"13\": 154, \"15\": 136, \"2\": 30, \"3\": 2, \"6\": 4, \"10\": 1}, \"8\": {\"8\": 514, \"7\": 86, \"10\": 156, \"0\": 109, \"3\": 1, \"9\": 100, \"6\": 33, \"4\": 77, \"15\": 73, \"14\": 12, \"1\": 6, \"2\": 10, \"5\": 23}, \"4\": {\"14\": 215, \"4\": 493, \"0\": 170, \"10\": 63, \"7\": 73, \"1\": 98, \"8\": 87, \"2\": 1}, \"12\": {\"12\": 1198, \"11\": 2}, \"6\": {\"6\": 874, \"8\": 42, \"10\": 64, \"9\": 150, \"15\": 43, \"0\": 18, \"13\": 6, \"5\": 3}, \"7\": {\"2\": 110, \"7\": 696, \"3\": 164, \"4\": 116, \"10\": 6, \"8\": 57, \"14\": 8, \"15\": 16, \"9\": 2, \"0\": 21, \"1\": 3, \"5\": 1}, \"10\": {\"0\": 265, \"8\": 168, \"10\": 525, \"14\": 82, \"6\": 49, \"9\": 14, \"4\": 55, \"1\": 31, \"15\": 5, \"7\": 5, \"5\": 1}, \"0\": {\"10\": 267, \"0\": 339, \"9\": 5, \"4\": 183, \"14\": 222, \"6\": 22, \"7\": 13, \"8\": 119, \"1\": 26, \"15\": 3, \"2\": 1}, \"15\": {\"15\": 466, \"5\": 134, \"13\": 59, \"9\": 365, \"7\": 13, \"8\": 89, \"6\": 40, \"2\": 23, \"10\": 5, \"4\": 1, \"3\": 2, \"14\": 1, \"0\": 2}, \"9\": {\"15\": 402, \"9\": 477, \"13\": 32, \"6\": 112, \"8\": 87, \"5\": 59, \"7\": 6, \"0\": 6, \"10\": 12, \"2\": 7}, \"11\": {\"11\": 1194, \"12\": 6}, \"14\": {\"4\": 215, \"14\": 451, \"10\": 92, \"0\": 199, \"7\": 15, \"1\": 201, \"8\": 27}, \"2\": {\"3\": 343, \"2\": 478, \"9\": 22, \"5\": 113, \"7\": 123, \"8\": 36, \"15\": 75, \"0\": 2, \"13\": 2, \"4\": 3, \"10\": 3}, \"13\": {\"13\": 871, \"5\": 210, \"2\": 30, \"15\": 58, \"6\": 12, \"9\": 19}, \"3\": {\"2\": 287, \"3\": 725, \"7\": 183, \"8\": 1, \"15\": 1, \"4\": 3}, \"1\": {\"1\": 733, \"4\": 141, \"14\": 230, \"7\": 11, \"0\": 33, \"10\": 44, \"8\": 7, \"2\": 1}}}, \"per_domain_accuracy\": {\"ORACLE.run2_50\": {\"accuracy\": 0.8073958333333333, \"source?\": true}, \"ORACLE.run2_14\": {\"accuracy\": 0.8284375, \"source?\": true}, \"ORACLE.run2_32\": {\"accuracy\": 0.7930208333333333, \"source?\": true}, \"ORACLE.run2_44\": {\"accuracy\": 0.7616145833333333, \"source?\": true}, \"ORACLE.run2_8\": {\"accuracy\": 0.7302083333333333, \"source?\": true}, \"ORACLE.run2_20\": {\"accuracy\": 0.6591666666666667, \"source?\": true}, \"ORACLE.run2_38\": {\"accuracy\": 0.7143229166666667, \"source?\": true}, \"ORACLE.run2_26\": {\"accuracy\": 0.5778645833333333, \"source?\": true}, \"ORACLE.run1_50\": {\"accuracy\": 0.7908333333333334, \"source?\": false}, \"ORACLE.run1_14\": {\"accuracy\": 0.8222395833333334, \"source?\": false}, \"ORACLE.run1_32\": {\"accuracy\": 0.7764583333333334, \"source?\": false}, \"ORACLE.run1_44\": {\"accuracy\": 0.7314583333333333, \"source?\": false}, \"ORACLE.run1_8\": {\"accuracy\": 0.723125, \"source?\": false}, \"ORACLE.run1_20\": {\"accuracy\": 0.6819270833333333, \"source?\": false}, \"ORACLE.run1_38\": {\"accuracy\": 0.8008333333333333, \"source?\": false}, \"ORACLE.run1_26\": {\"accuracy\": 0.5636458333333333, \"source?\": false}}}, \"history\": {\"epoch_indices\": [1, 2, 3, 4, 5, 6, 7, 8, 9, 10, 11], \"train_label_loss\": [1.1495195693735565, 0.8916452494773659, 0.8054293547586228, 0.708008813234933, 0.6320920778660193, 0.5705559203558646, 0.5261989087453999, 0.48881553712810966, 0.455577923127317, 0.4262384334122319, 0.3982231486539379], \"source_val_label_loss\": [0.9841086268424988, 0.9149450063705444, 0.8515032529830933, 0.7983403205871582, 0.7736412286758423, 0.7553406953811646, 0.767910897731781, 0.7646964192390442, 0.7875209450721741, 0.7939382195472717, 0.8270436525344849], \"target_val_label_loss\": [0.9500662684440613, 0.8787097334861755, 0.8159455060958862, 0.771101713180542, 0.7521340847015381, 0.7351666688919067, 0.7502059936523438, 0.75083988904953, 0.7766814827919006, 0.7842504382133484, 0.8189787268638611], \"source_val_acc_label\": [0.6366080729166667, 0.6589713541666666, 0.6878385416666667, 0.7119140625, 0.7188020833333333, 0.7282356770833334, 0.73400390625, 0.7337565104166667, 0.7341080729166667, 0.73201171875, 0.7269596354166666], \"target_val_acc_label\": [0.6473893229166666, 0.668203125, 0.6955403645833333, 0.7170638020833333, 0.7222591145833334, 0.73107421875, 0.7363151041666667, 0.7354427083333334, 0.7348697916666667, 0.7306966145833333, 0.727109375]}, \"dataset_metrics\": {\"source\": {\"train\": {\"n_unique_x\": 896000, \"n_unique_y\": 16, \"n_batch/episode\": 33600}, \"val\": {\"n_unique_x\": 192000, \"n_unique_y\": 16, \"n_batch/episode\": 4800}, \"test\": {\"n_unique_x\": 192000, \"n_unique_y\": 16, \"n_batch/episode\": 4800}}, \"target\": {\"train\": {\"n_unique_x\": 896000, \"n_unique_y\": 16, \"n_batch/episode\": 33600}, \"val\": {\"n_unique_x\": 192000, \"n_unique_y\": 16, \"n_batch/episode\": 4800}, \"test\": {\"n_unique_x\": 192000, \"n_unique_y\": 16, \"n_batch/episode\": 4800}}}}'"
      ]
     },
     "execution_count": 29,
     "metadata": {},
     "output_type": "execute_result"
    }
   ],
   "source": [
    "json.dumps(experiment)"
   ]
  }
 ],
 "metadata": {
  "celltoolbar": "Tags",
  "kernelspec": {
   "display_name": "Python 3 (ipykernel)",
   "language": "python",
   "name": "python3"
  },
  "language_info": {
   "codemirror_mode": {
    "name": "ipython",
    "version": 3
   },
   "file_extension": ".py",
   "mimetype": "text/x-python",
   "name": "python",
   "nbconvert_exporter": "python",
   "pygments_lexer": "ipython3",
   "version": "3.8.10"
  },
  "papermill": {
   "default_parameters": {},
   "duration": 10753.505856,
   "end_time": "2022-03-29T20:49:51.858155",
   "environment_variables": {},
   "exception": null,
   "input_path": "/mnt/wd500GB/CSC500/csc500-main/csc500-notebooks/templates/tl_ptn_template.ipynb",
   "output_path": "trial.ipynb",
   "parameters": {
    "parameters": {
     "BEST_MODEL_PATH": "./best_model.pth",
     "NUM_LOGS_PER_EPOCH": 10,
     "criteria_for_best": "target_accuracy",
     "dataset_seed": 500,
     "datasets": [
      {
       "domain_prefix": "ORACLE.run1_",
       "domains": [
        32,
        38,
        8,
        44,
        14,
        50,
        20,
        26
       ],
       "episode_transforms": [],
       "labels": [
        "3123D52",
        "3123D65",
        "3123D79",
        "3123D80",
        "3123D54",
        "3123D70",
        "3123D7B",
        "3123D89",
        "3123D58",
        "3123D76",
        "3123D7D",
        "3123EFE",
        "3123D64",
        "3123D78",
        "3123D7E",
        "3124E4A"
       ],
       "num_examples_per_domain_per_label": 10000,
       "pickle_path": "/mnt/wd500GB/CSC500/csc500-main/datasets/oracle.Run1_10kExamples_stratified_ds.2022A.pkl",
       "source_or_target_dataset": "target",
       "x_transforms": [
        "unit_power"
       ]
      },
      {
       "domain_prefix": "ORACLE.run2_",
       "domains": [
        32,
        38,
        8,
        44,
        14,
        50,
        20,
        26
       ],
       "episode_transforms": [],
       "labels": [
        "3123D52",
        "3123D65",
        "3123D79",
        "3123D80",
        "3123D54",
        "3123D70",
        "3123D7B",
        "3123D89",
        "3123D58",
        "3123D76",
        "3123D7D",
        "3123EFE",
        "3123D64",
        "3123D78",
        "3123D7E",
        "3124E4A"
       ],
       "num_examples_per_domain_per_label": 10000,
       "pickle_path": "/mnt/wd500GB/CSC500/csc500-main/datasets/oracle.Run2_10kExamples_stratified_ds.2022A.pkl",
       "source_or_target_dataset": "source",
       "x_transforms": [
        "unit_power"
       ]
      }
     ],
     "device": "cuda",
     "experiment_name": "tl_1v2:oracle.run1-oracle.run2",
     "lr": 0.0001,
     "n_epoch": 50,
     "n_query": 2,
     "n_shot": 3,
     "n_way": 16,
     "patience": 3,
     "seed": 500,
     "test_k_factor": 2,
     "torch_default_dtype": "torch.float32",
     "train_k_factor": 3,
     "val_k_factor": 2,
     "x_net": [
      {
       "class": "nnReshape",
       "kargs": {
        "shape": [
         -1,
         1,
         2,
         256
        ]
       }
      },
      {
       "class": "Conv2d",
       "kargs": {
        "bias": false,
        "in_channels": 1,
        "kernel_size": [
         1,
         7
        ],
        "out_channels": 256,
        "padding": [
         0,
         3
        ]
       }
      },
      {
       "class": "ReLU",
       "kargs": {
        "inplace": true
       }
      },
      {
       "class": "BatchNorm2d",
       "kargs": {
        "num_features": 256
       }
      },
      {
       "class": "Conv2d",
       "kargs": {
        "bias": true,
        "in_channels": 256,
        "kernel_size": [
         2,
         7
        ],
        "out_channels": 80,
        "padding": [
         0,
         3
        ]
       }
      },
      {
       "class": "ReLU",
       "kargs": {
        "inplace": true
       }
      },
      {
       "class": "BatchNorm2d",
       "kargs": {
        "num_features": 80
       }
      },
      {
       "class": "Flatten",
       "kargs": {}
      },
      {
       "class": "Linear",
       "kargs": {
        "in_features": 20480,
        "out_features": 256
       }
      },
      {
       "class": "ReLU",
       "kargs": {
        "inplace": true
       }
      },
      {
       "class": "BatchNorm1d",
       "kargs": {
        "num_features": 256
       }
      },
      {
       "class": "Linear",
       "kargs": {
        "in_features": 256,
        "out_features": 256
       }
      }
     ]
    }
   },
   "start_time": "2022-03-29T17:50:38.352299",
   "version": "2.3.4"
  }
 },
 "nbformat": 4,
 "nbformat_minor": 5
}