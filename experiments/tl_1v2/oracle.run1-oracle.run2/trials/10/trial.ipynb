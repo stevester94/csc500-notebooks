{
 "cells": [
  {
   "cell_type": "markdown",
   "id": "9fea5f46",
   "metadata": {
    "papermill": {
     "duration": 0.018272,
     "end_time": "2022-03-24T09:59:37.592955",
     "exception": false,
     "start_time": "2022-03-24T09:59:37.574683",
     "status": "completed"
    },
    "tags": []
   },
   "source": [
    "# Transfer Learning Template"
   ]
  },
  {
   "cell_type": "code",
   "execution_count": 1,
   "id": "0902182a",
   "metadata": {
    "execution": {
     "iopub.execute_input": "2022-03-24T09:59:37.629269Z",
     "iopub.status.busy": "2022-03-24T09:59:37.624061Z",
     "iopub.status.idle": "2022-03-24T09:59:38.708747Z",
     "shell.execute_reply": "2022-03-24T09:59:38.708976Z"
    },
    "papermill": {
     "duration": 1.103881,
     "end_time": "2022-03-24T09:59:38.709099",
     "exception": false,
     "start_time": "2022-03-24T09:59:37.605218",
     "status": "completed"
    },
    "tags": []
   },
   "outputs": [],
   "source": [
    "%load_ext autoreload\n",
    "%autoreload 2\n",
    "%matplotlib inline\n",
    "\n",
    "    \n",
    "import os, json, sys, time, random\n",
    "import numpy as np\n",
    "import torch\n",
    "from torch.optim import Adam\n",
    "from  easydict import EasyDict\n",
    "import matplotlib.pyplot as plt\n",
    "\n",
    "from steves_models.steves_ptn import Steves_Prototypical_Network\n",
    "\n",
    "from steves_utils.lazy_iterable_wrapper import Lazy_Iterable_Wrapper\n",
    "from steves_utils.iterable_aggregator import Iterable_Aggregator\n",
    "from steves_utils.ptn_train_eval_test_jig import  PTN_Train_Eval_Test_Jig\n",
    "from steves_utils.torch_sequential_builder import build_sequential\n",
    "from steves_utils.torch_utils import get_dataset_metrics, ptn_confusion_by_domain_over_dataloader\n",
    "from steves_utils.utils_v2 import (per_domain_accuracy_from_confusion, get_datasets_base_path)\n",
    "from steves_utils.PTN.utils import independent_accuracy_assesment\n",
    "\n",
    "from torch.utils.data import DataLoader\n",
    "\n",
    "from steves_utils.stratified_dataset.episodic_accessor import Episodic_Accessor_Factory\n",
    "\n",
    "from steves_utils.ptn_do_report import (\n",
    "    get_loss_curve,\n",
    "    get_results_table,\n",
    "    get_parameters_table,\n",
    "    get_domain_accuracies,\n",
    ")\n",
    "\n",
    "from steves_utils.transforms import get_chained_transform"
   ]
  },
  {
   "cell_type": "markdown",
   "id": "41c840b4",
   "metadata": {
    "papermill": {
     "duration": 0.012263,
     "end_time": "2022-03-24T09:59:38.734594",
     "exception": false,
     "start_time": "2022-03-24T09:59:38.722331",
     "status": "completed"
    },
    "tags": []
   },
   "source": [
    "# Allowed Parameters\n",
    "These are allowed parameters, not defaults\n",
    "Each of these values need to be present in the injected parameters (the notebook will raise an exception if they are not present)\n",
    "\n",
    "Papermill uses the cell tag \"parameters\" to inject the real parameters below this cell.\n",
    "Enable tags to see what I mean"
   ]
  },
  {
   "cell_type": "code",
   "execution_count": 2,
   "id": "fd44eb83",
   "metadata": {
    "execution": {
     "iopub.execute_input": "2022-03-24T09:59:38.762772Z",
     "iopub.status.busy": "2022-03-24T09:59:38.762519Z",
     "iopub.status.idle": "2022-03-24T09:59:38.776003Z",
     "shell.execute_reply": "2022-03-24T09:59:38.776299Z"
    },
    "papermill": {
     "duration": 0.02803,
     "end_time": "2022-03-24T09:59:38.776408",
     "exception": false,
     "start_time": "2022-03-24T09:59:38.748378",
     "status": "completed"
    },
    "tags": []
   },
   "outputs": [],
   "source": [
    "required_parameters = {\n",
    "    \"experiment_name\",\n",
    "    \"lr\",\n",
    "    \"device\",\n",
    "    \"seed\",\n",
    "    \"dataset_seed\",\n",
    "    \"n_shot\",\n",
    "    \"n_query\",\n",
    "    \"n_way\",\n",
    "    \"train_k_factor\",\n",
    "    \"val_k_factor\",\n",
    "    \"test_k_factor\",\n",
    "    \"n_epoch\",\n",
    "    \"patience\",\n",
    "    \"criteria_for_best\",\n",
    "    \"x_net\",\n",
    "    \"datasets\",\n",
    "    \"torch_default_dtype\",\n",
    "    \"NUM_LOGS_PER_EPOCH\",\n",
    "    \"BEST_MODEL_PATH\",\n",
    "    \"x_shape\",\n",
    "}"
   ]
  },
  {
   "cell_type": "code",
   "execution_count": 3,
   "id": "fa3f0049",
   "metadata": {
    "execution": {
     "iopub.execute_input": "2022-03-24T09:59:38.812704Z",
     "iopub.status.busy": "2022-03-24T09:59:38.812426Z",
     "iopub.status.idle": "2022-03-24T09:59:38.824216Z",
     "shell.execute_reply": "2022-03-24T09:59:38.824608Z"
    },
    "papermill": {
     "duration": 0.03119,
     "end_time": "2022-03-24T09:59:38.824716",
     "exception": false,
     "start_time": "2022-03-24T09:59:38.793526",
     "status": "completed"
    },
    "tags": [
     "parameters"
    ]
   },
   "outputs": [],
   "source": [
    "from steves_utils.CORES.utils import (\n",
    "    ALL_NODES,\n",
    "    ALL_NODES_MINIMUM_1000_EXAMPLES,\n",
    "    ALL_DAYS\n",
    ")\n",
    "\n",
    "from steves_utils.ORACLE.utils_v2 import (\n",
    "    ALL_DISTANCES_FEET_NARROWED,\n",
    "    ALL_RUNS,\n",
    "    ALL_SERIAL_NUMBERS,\n",
    ")\n",
    "\n",
    "standalone_parameters = {}\n",
    "standalone_parameters[\"experiment_name\"] = \"STANDALONE PTN\"\n",
    "standalone_parameters[\"lr\"] = 0.001\n",
    "standalone_parameters[\"device\"] = \"cuda\"\n",
    "\n",
    "standalone_parameters[\"seed\"] = 1337\n",
    "standalone_parameters[\"dataset_seed\"] = 1337\n",
    "\n",
    "standalone_parameters[\"n_way\"] = 8\n",
    "standalone_parameters[\"n_shot\"] = 3\n",
    "standalone_parameters[\"n_query\"]  = 2\n",
    "standalone_parameters[\"train_k_factor\"] = 1\n",
    "standalone_parameters[\"val_k_factor\"] = 2\n",
    "standalone_parameters[\"test_k_factor\"] = 2\n",
    "\n",
    "\n",
    "standalone_parameters[\"n_epoch\"] = 50\n",
    "\n",
    "standalone_parameters[\"patience\"] = 10\n",
    "standalone_parameters[\"criteria_for_best\"] = \"source_loss\"\n",
    "\n",
    "standalone_parameters[\"datasets\"] = [\n",
    "    {\n",
    "        \"labels\": ALL_SERIAL_NUMBERS,\n",
    "        \"domains\": ALL_DISTANCES_FEET_NARROWED,\n",
    "        \"num_examples_per_domain_per_label\": 100,\n",
    "        \"pickle_path\": os.path.join(get_datasets_base_path(), \"oracle.Run1_framed_2000Examples_stratified_ds.2022A.pkl\"),\n",
    "        \"source_or_target_dataset\": \"source\",\n",
    "        \"x_transforms\": [\"unit_mag\", \"minus_two\"],\n",
    "        \"episode_transforms\": [],\n",
    "        \"domain_prefix\": \"ORACLE_\"\n",
    "    },\n",
    "    {\n",
    "        \"labels\": ALL_NODES,\n",
    "        \"domains\": ALL_DAYS,\n",
    "        \"num_examples_per_domain_per_label\": 100,\n",
    "        \"pickle_path\": os.path.join(get_datasets_base_path(), \"cores.stratified_ds.2022A.pkl\"),\n",
    "        \"source_or_target_dataset\": \"target\",\n",
    "        \"x_transforms\": [\"unit_power\", \"times_zero\"],\n",
    "        \"episode_transforms\": [],\n",
    "        \"domain_prefix\": \"CORES_\"\n",
    "    }   \n",
    "]\n",
    "\n",
    "standalone_parameters[\"torch_default_dtype\"] = \"torch.float32\" \n",
    "\n",
    "\n",
    "\n",
    "standalone_parameters[\"x_net\"] =     [\n",
    "    {\"class\": \"nnReshape\", \"kargs\": {\"shape\":[-1, 1, 2, 256]}},\n",
    "    {\"class\": \"Conv2d\", \"kargs\": { \"in_channels\":1, \"out_channels\":256, \"kernel_size\":(1,7), \"bias\":False, \"padding\":(0,3), },},\n",
    "    {\"class\": \"ReLU\", \"kargs\": {\"inplace\": True}},\n",
    "    {\"class\": \"BatchNorm2d\", \"kargs\": {\"num_features\":256}},\n",
    "\n",
    "    {\"class\": \"Conv2d\", \"kargs\": { \"in_channels\":256, \"out_channels\":80, \"kernel_size\":(2,7), \"bias\":True, \"padding\":(0,3), },},\n",
    "    {\"class\": \"ReLU\", \"kargs\": {\"inplace\": True}},\n",
    "    {\"class\": \"BatchNorm2d\", \"kargs\": {\"num_features\":80}},\n",
    "    {\"class\": \"Flatten\", \"kargs\": {}},\n",
    "\n",
    "    {\"class\": \"Linear\", \"kargs\": {\"in_features\": 80*256, \"out_features\": 256}}, # 80 units per IQ pair\n",
    "    {\"class\": \"ReLU\", \"kargs\": {\"inplace\": True}},\n",
    "    {\"class\": \"BatchNorm1d\", \"kargs\": {\"num_features\":256}},\n",
    "\n",
    "    {\"class\": \"Linear\", \"kargs\": {\"in_features\": 256, \"out_features\": 256}},\n",
    "]\n",
    "\n",
    "# Parameters relevant to results\n",
    "# These parameters will basically never need to change\n",
    "standalone_parameters[\"NUM_LOGS_PER_EPOCH\"] = 10\n",
    "standalone_parameters[\"BEST_MODEL_PATH\"] = \"./best_model.pth\"\n",
    "\n",
    "\n",
    "\n",
    "\n"
   ]
  },
  {
   "cell_type": "code",
   "execution_count": 4,
   "id": "1ec2f117",
   "metadata": {
    "execution": {
     "iopub.execute_input": "2022-03-24T09:59:38.863789Z",
     "iopub.status.busy": "2022-03-24T09:59:38.861852Z",
     "iopub.status.idle": "2022-03-24T09:59:38.878094Z",
     "shell.execute_reply": "2022-03-24T09:59:38.878457Z"
    },
    "papermill": {
     "duration": 0.035831,
     "end_time": "2022-03-24T09:59:38.878563",
     "exception": false,
     "start_time": "2022-03-24T09:59:38.842732",
     "status": "completed"
    },
    "tags": [
     "injected-parameters"
    ]
   },
   "outputs": [],
   "source": [
    "# Parameters\n",
    "parameters = {\n",
    "    \"experiment_name\": \"tl_1v2:oracle.run1-oracle.run2\",\n",
    "    \"device\": \"cuda\",\n",
    "    \"lr\": 0.0001,\n",
    "    \"n_shot\": 3,\n",
    "    \"n_query\": 2,\n",
    "    \"train_k_factor\": 3,\n",
    "    \"val_k_factor\": 2,\n",
    "    \"test_k_factor\": 2,\n",
    "    \"torch_default_dtype\": \"torch.float32\",\n",
    "    \"n_epoch\": 50,\n",
    "    \"patience\": 3,\n",
    "    \"criteria_for_best\": \"target_accuracy\",\n",
    "    \"x_net\": [\n",
    "        {\"class\": \"nnReshape\", \"kargs\": {\"shape\": [-1, 1, 2, 256]}},\n",
    "        {\n",
    "            \"class\": \"Conv2d\",\n",
    "            \"kargs\": {\n",
    "                \"in_channels\": 1,\n",
    "                \"out_channels\": 256,\n",
    "                \"kernel_size\": [1, 7],\n",
    "                \"bias\": False,\n",
    "                \"padding\": [0, 3],\n",
    "            },\n",
    "        },\n",
    "        {\"class\": \"ReLU\", \"kargs\": {\"inplace\": True}},\n",
    "        {\"class\": \"BatchNorm2d\", \"kargs\": {\"num_features\": 256}},\n",
    "        {\n",
    "            \"class\": \"Conv2d\",\n",
    "            \"kargs\": {\n",
    "                \"in_channels\": 256,\n",
    "                \"out_channels\": 80,\n",
    "                \"kernel_size\": [2, 7],\n",
    "                \"bias\": True,\n",
    "                \"padding\": [0, 3],\n",
    "            },\n",
    "        },\n",
    "        {\"class\": \"ReLU\", \"kargs\": {\"inplace\": True}},\n",
    "        {\"class\": \"BatchNorm2d\", \"kargs\": {\"num_features\": 80}},\n",
    "        {\"class\": \"Flatten\", \"kargs\": {}},\n",
    "        {\"class\": \"Linear\", \"kargs\": {\"in_features\": 20480, \"out_features\": 256}},\n",
    "        {\"class\": \"ReLU\", \"kargs\": {\"inplace\": True}},\n",
    "        {\"class\": \"BatchNorm1d\", \"kargs\": {\"num_features\": 256}},\n",
    "        {\"class\": \"Linear\", \"kargs\": {\"in_features\": 256, \"out_features\": 256}},\n",
    "    ],\n",
    "    \"NUM_LOGS_PER_EPOCH\": 10,\n",
    "    \"BEST_MODEL_PATH\": \"./best_model.pth\",\n",
    "    \"n_way\": 16,\n",
    "    \"datasets\": [\n",
    "        {\n",
    "            \"labels\": [\n",
    "                \"3123D52\",\n",
    "                \"3123D65\",\n",
    "                \"3123D79\",\n",
    "                \"3123D80\",\n",
    "                \"3123D54\",\n",
    "                \"3123D70\",\n",
    "                \"3123D7B\",\n",
    "                \"3123D89\",\n",
    "                \"3123D58\",\n",
    "                \"3123D76\",\n",
    "                \"3123D7D\",\n",
    "                \"3123EFE\",\n",
    "                \"3123D64\",\n",
    "                \"3123D78\",\n",
    "                \"3123D7E\",\n",
    "                \"3124E4A\",\n",
    "            ],\n",
    "            \"domains\": [32, 38, 8, 44, 14, 50, 20, 26],\n",
    "            \"num_examples_per_domain_per_label\": 10000,\n",
    "            \"pickle_path\": \"/mnt/wd500GB/CSC500/csc500-main/datasets/oracle.Run1_10kExamples_stratified_ds.2022A.pkl\",\n",
    "            \"source_or_target_dataset\": \"target\",\n",
    "            \"x_transforms\": [\"unit_mag\"],\n",
    "            \"episode_transforms\": [],\n",
    "            \"domain_prefix\": \"ORACLE.run1_\",\n",
    "        },\n",
    "        {\n",
    "            \"labels\": [\n",
    "                \"3123D52\",\n",
    "                \"3123D65\",\n",
    "                \"3123D79\",\n",
    "                \"3123D80\",\n",
    "                \"3123D54\",\n",
    "                \"3123D70\",\n",
    "                \"3123D7B\",\n",
    "                \"3123D89\",\n",
    "                \"3123D58\",\n",
    "                \"3123D76\",\n",
    "                \"3123D7D\",\n",
    "                \"3123EFE\",\n",
    "                \"3123D64\",\n",
    "                \"3123D78\",\n",
    "                \"3123D7E\",\n",
    "                \"3124E4A\",\n",
    "            ],\n",
    "            \"domains\": [32, 38, 8, 44, 14, 50, 20, 26],\n",
    "            \"num_examples_per_domain_per_label\": 10000,\n",
    "            \"pickle_path\": \"/mnt/wd500GB/CSC500/csc500-main/datasets/oracle.Run2_10kExamples_stratified_ds.2022A.pkl\",\n",
    "            \"source_or_target_dataset\": \"source\",\n",
    "            \"x_transforms\": [\"unit_mag\"],\n",
    "            \"episode_transforms\": [],\n",
    "            \"domain_prefix\": \"ORACLE.run2_\",\n",
    "        },\n",
    "    ],\n",
    "    \"dataset_seed\": 420,\n",
    "    \"seed\": 420,\n",
    "}\n"
   ]
  },
  {
   "cell_type": "code",
   "execution_count": 5,
   "id": "8fa1cc33",
   "metadata": {
    "execution": {
     "iopub.execute_input": "2022-03-24T09:59:38.913006Z",
     "iopub.status.busy": "2022-03-24T09:59:38.912760Z",
     "iopub.status.idle": "2022-03-24T09:59:38.926123Z",
     "shell.execute_reply": "2022-03-24T09:59:38.925732Z"
    },
    "papermill": {
     "duration": 0.029435,
     "end_time": "2022-03-24T09:59:38.926216",
     "exception": false,
     "start_time": "2022-03-24T09:59:38.896781",
     "status": "completed"
    },
    "tags": []
   },
   "outputs": [],
   "source": [
    "# Set this to True if you want to run this template directly\n",
    "STANDALONE = False\n",
    "if STANDALONE:\n",
    "    print(\"parameters not injected, running with standalone_parameters\")\n",
    "    parameters = standalone_parameters\n",
    "\n",
    "if not 'parameters' in locals() and not 'parameters' in globals():\n",
    "    raise Exception(\"Parameter injection failed\")\n",
    "\n",
    "#Use an easy dict for all the parameters\n",
    "p = EasyDict(parameters)\n",
    "\n",
    "if \"x_shape\" not in p:\n",
    "    p.x_shape = [2,256] # Default to this if we dont supply x_shape\n",
    "\n",
    "\n",
    "supplied_keys = set(p.keys())\n",
    "\n",
    "if  supplied_keys != required_parameters:\n",
    "    print(\"Parameters are incorrect\")\n",
    "    if len(supplied_keys - required_parameters)>0: print(\"Shouldn't have:\", str(supplied_keys - required_parameters))\n",
    "    if len(required_parameters - supplied_keys)>0: print(\"Need to have:\", str(required_parameters - supplied_keys))\n",
    "    raise RuntimeError(\"Parameters are incorrect\")"
   ]
  },
  {
   "cell_type": "code",
   "execution_count": 6,
   "id": "3a028d58",
   "metadata": {
    "execution": {
     "iopub.execute_input": "2022-03-24T09:59:38.957755Z",
     "iopub.status.busy": "2022-03-24T09:59:38.957511Z",
     "iopub.status.idle": "2022-03-24T09:59:38.972124Z",
     "shell.execute_reply": "2022-03-24T09:59:38.971776Z"
    },
    "papermill": {
     "duration": 0.029349,
     "end_time": "2022-03-24T09:59:38.972192",
     "exception": false,
     "start_time": "2022-03-24T09:59:38.942843",
     "status": "completed"
    },
    "tags": []
   },
   "outputs": [],
   "source": [
    "###################################\n",
    "# Set the RNGs and make it all deterministic\n",
    "###################################\n",
    "np.random.seed(p.seed)\n",
    "random.seed(p.seed)\n",
    "torch.manual_seed(p.seed)\n",
    "\n",
    "torch.use_deterministic_algorithms(True) "
   ]
  },
  {
   "cell_type": "code",
   "execution_count": 7,
   "id": "b691acf6",
   "metadata": {
    "execution": {
     "iopub.execute_input": "2022-03-24T09:59:39.004656Z",
     "iopub.status.busy": "2022-03-24T09:59:39.004415Z",
     "iopub.status.idle": "2022-03-24T09:59:39.018249Z",
     "shell.execute_reply": "2022-03-24T09:59:39.017811Z"
    },
    "papermill": {
     "duration": 0.028511,
     "end_time": "2022-03-24T09:59:39.018341",
     "exception": false,
     "start_time": "2022-03-24T09:59:38.989830",
     "status": "completed"
    },
    "tags": []
   },
   "outputs": [],
   "source": [
    "###########################################\n",
    "# The stratified datasets honor this\n",
    "###########################################\n",
    "torch.set_default_dtype(eval(p.torch_default_dtype))"
   ]
  },
  {
   "cell_type": "code",
   "execution_count": 8,
   "id": "b5fba671",
   "metadata": {
    "execution": {
     "iopub.execute_input": "2022-03-24T09:59:39.051830Z",
     "iopub.status.busy": "2022-03-24T09:59:39.051588Z",
     "iopub.status.idle": "2022-03-24T09:59:39.090457Z",
     "shell.execute_reply": "2022-03-24T09:59:39.090051Z"
    },
    "papermill": {
     "duration": 0.053505,
     "end_time": "2022-03-24T09:59:39.090548",
     "exception": false,
     "start_time": "2022-03-24T09:59:39.037043",
     "status": "completed"
    },
    "tags": []
   },
   "outputs": [],
   "source": [
    "###################################\n",
    "# Build the network(s)\n",
    "# Note: It's critical to do this AFTER setting the RNG\n",
    "###################################\n",
    "x_net = build_sequential(p.x_net)"
   ]
  },
  {
   "cell_type": "code",
   "execution_count": 9,
   "id": "5d7e61cc",
   "metadata": {
    "execution": {
     "iopub.execute_input": "2022-03-24T09:59:39.124207Z",
     "iopub.status.busy": "2022-03-24T09:59:39.123968Z",
     "iopub.status.idle": "2022-03-24T09:59:39.138137Z",
     "shell.execute_reply": "2022-03-24T09:59:39.137634Z"
    },
    "papermill": {
     "duration": 0.028977,
     "end_time": "2022-03-24T09:59:39.138230",
     "exception": false,
     "start_time": "2022-03-24T09:59:39.109253",
     "status": "completed"
    },
    "tags": []
   },
   "outputs": [],
   "source": [
    "start_time_secs = time.time()"
   ]
  },
  {
   "cell_type": "code",
   "execution_count": 10,
   "id": "c6b67dfd",
   "metadata": {
    "execution": {
     "iopub.execute_input": "2022-03-24T09:59:39.172589Z",
     "iopub.status.busy": "2022-03-24T09:59:39.172348Z",
     "iopub.status.idle": "2022-03-24T09:59:39.187639Z",
     "shell.execute_reply": "2022-03-24T09:59:39.187181Z"
    },
    "papermill": {
     "duration": 0.030497,
     "end_time": "2022-03-24T09:59:39.187729",
     "exception": false,
     "start_time": "2022-03-24T09:59:39.157232",
     "status": "completed"
    },
    "tags": []
   },
   "outputs": [],
   "source": [
    "p.domains_source = []\n",
    "p.domains_target = []\n",
    "\n",
    "\n",
    "train_original_source = []\n",
    "val_original_source   = []\n",
    "test_original_source  = []\n",
    "\n",
    "train_original_target = []\n",
    "val_original_target   = []\n",
    "test_original_target  = []"
   ]
  },
  {
   "cell_type": "code",
   "execution_count": 11,
   "id": "e3d9c3d3",
   "metadata": {
    "execution": {
     "iopub.execute_input": "2022-03-24T09:59:39.220784Z",
     "iopub.status.busy": "2022-03-24T09:59:39.220468Z",
     "iopub.status.idle": "2022-03-24T09:59:39.235557Z",
     "shell.execute_reply": "2022-03-24T09:59:39.235128Z"
    },
    "papermill": {
     "duration": 0.029316,
     "end_time": "2022-03-24T09:59:39.235644",
     "exception": false,
     "start_time": "2022-03-24T09:59:39.206328",
     "status": "completed"
    },
    "tags": []
   },
   "outputs": [],
   "source": [
    "# global_x_transform_func = lambda x: normalize(x.to(torch.get_default_dtype()), \"unit_power\") # unit_power, unit_mag\n",
    "# global_x_transform_func = lambda x: normalize(x, \"unit_power\") # unit_power, unit_mag"
   ]
  },
  {
   "cell_type": "code",
   "execution_count": 12,
   "id": "acb78fd2",
   "metadata": {
    "execution": {
     "iopub.execute_input": "2022-03-24T09:59:39.274372Z",
     "iopub.status.busy": "2022-03-24T09:59:39.273792Z",
     "iopub.status.idle": "2022-03-24T09:59:39.287499Z",
     "shell.execute_reply": "2022-03-24T09:59:39.287058Z"
    },
    "papermill": {
     "duration": 0.033681,
     "end_time": "2022-03-24T09:59:39.287586",
     "exception": false,
     "start_time": "2022-03-24T09:59:39.253905",
     "status": "completed"
    },
    "tags": []
   },
   "outputs": [],
   "source": [
    "def add_dataset(\n",
    "    labels,\n",
    "    domains,\n",
    "    pickle_path,\n",
    "    x_transforms,\n",
    "    episode_transforms,\n",
    "    domain_prefix,\n",
    "    num_examples_per_domain_per_label,\n",
    "    source_or_target_dataset:str,\n",
    "    iterator_seed=p.seed,\n",
    "    dataset_seed=p.dataset_seed,\n",
    "    n_shot=p.n_shot,\n",
    "    n_way=p.n_way,\n",
    "    n_query=p.n_query,\n",
    "    train_val_test_k_factors=(p.train_k_factor,p.val_k_factor,p.test_k_factor),\n",
    "):\n",
    "   \n",
    "    if x_transforms == []: x_transform = None\n",
    "    else: x_transform = get_chained_transform(x_transforms)\n",
    "    \n",
    "    if episode_transforms == []: episode_transform = None\n",
    "    else: raise Exception(\"episode_transforms not implemented\")\n",
    "    \n",
    "    episode_transform = lambda tup, _prefix=domain_prefix: (_prefix + str(tup[0]), tup[1])\n",
    "\n",
    "\n",
    "    eaf = Episodic_Accessor_Factory(\n",
    "        labels=labels,\n",
    "        domains=domains,\n",
    "        num_examples_per_domain_per_label=num_examples_per_domain_per_label,\n",
    "        iterator_seed=iterator_seed,\n",
    "        dataset_seed=dataset_seed,\n",
    "        n_shot=n_shot,\n",
    "        n_way=n_way,\n",
    "        n_query=n_query,\n",
    "        train_val_test_k_factors=train_val_test_k_factors,\n",
    "        pickle_path=pickle_path,\n",
    "        x_transform_func=x_transform,\n",
    "    )\n",
    "\n",
    "    train, val, test = eaf.get_train(), eaf.get_val(), eaf.get_test()\n",
    "    train = Lazy_Iterable_Wrapper(train, episode_transform)\n",
    "    val = Lazy_Iterable_Wrapper(val, episode_transform)\n",
    "    test = Lazy_Iterable_Wrapper(test, episode_transform)\n",
    "\n",
    "    if source_or_target_dataset==\"source\":\n",
    "        train_original_source.append(train)\n",
    "        val_original_source.append(val)\n",
    "        test_original_source.append(test)\n",
    "\n",
    "        p.domains_source.extend(\n",
    "            [domain_prefix + str(u) for u in domains]\n",
    "        )\n",
    "    elif source_or_target_dataset==\"target\":\n",
    "        train_original_target.append(train)\n",
    "        val_original_target.append(val)\n",
    "        test_original_target.append(test)\n",
    "        p.domains_target.extend(\n",
    "            [domain_prefix + str(u) for u in domains]\n",
    "        )\n",
    "    else:\n",
    "        raise Exception(f\"invalid source_or_target_dataset: {source_or_target_dataset}\")\n",
    "    "
   ]
  },
  {
   "cell_type": "code",
   "execution_count": 13,
   "id": "fe266617",
   "metadata": {
    "execution": {
     "iopub.execute_input": "2022-03-24T09:59:39.318844Z",
     "iopub.status.busy": "2022-03-24T09:59:39.318603Z",
     "iopub.status.idle": "2022-03-24T10:02:13.994943Z",
     "shell.execute_reply": "2022-03-24T10:02:13.994540Z"
    },
    "papermill": {
     "duration": 154.691488,
     "end_time": "2022-03-24T10:02:13.995047",
     "exception": false,
     "start_time": "2022-03-24T09:59:39.303559",
     "status": "completed"
    },
    "tags": []
   },
   "outputs": [],
   "source": [
    "for ds in p.datasets:\n",
    "    add_dataset(**ds)"
   ]
  },
  {
   "cell_type": "code",
   "execution_count": 14,
   "id": "b90d65ac",
   "metadata": {
    "execution": {
     "iopub.execute_input": "2022-03-24T10:02:14.029036Z",
     "iopub.status.busy": "2022-03-24T10:02:14.028788Z",
     "iopub.status.idle": "2022-03-24T10:02:14.044259Z",
     "shell.execute_reply": "2022-03-24T10:02:14.043871Z"
    },
    "papermill": {
     "duration": 0.030836,
     "end_time": "2022-03-24T10:02:14.044347",
     "exception": false,
     "start_time": "2022-03-24T10:02:14.013511",
     "status": "completed"
    },
    "tags": []
   },
   "outputs": [],
   "source": [
    "# from steves_utils.CORES.utils import (\n",
    "#     ALL_NODES,\n",
    "#     ALL_NODES_MINIMUM_1000_EXAMPLES,\n",
    "#     ALL_DAYS\n",
    "# )\n",
    "\n",
    "# add_dataset(\n",
    "#     labels=ALL_NODES,\n",
    "#     domains = ALL_DAYS,\n",
    "#     num_examples_per_domain_per_label=100,\n",
    "#     pickle_path=os.path.join(get_datasets_base_path(), \"cores.stratified_ds.2022A.pkl\"),\n",
    "#     source_or_target_dataset=\"target\",\n",
    "#     x_transform_func=global_x_transform_func,\n",
    "#     domain_modifier=lambda u: f\"cores_{u}\"\n",
    "# )"
   ]
  },
  {
   "cell_type": "code",
   "execution_count": 15,
   "id": "76db484d",
   "metadata": {
    "execution": {
     "iopub.execute_input": "2022-03-24T10:02:14.076769Z",
     "iopub.status.busy": "2022-03-24T10:02:14.076523Z",
     "iopub.status.idle": "2022-03-24T10:02:14.086820Z",
     "shell.execute_reply": "2022-03-24T10:02:14.086607Z"
    },
    "papermill": {
     "duration": 0.024695,
     "end_time": "2022-03-24T10:02:14.086867",
     "exception": false,
     "start_time": "2022-03-24T10:02:14.062172",
     "status": "completed"
    },
    "tags": []
   },
   "outputs": [],
   "source": [
    "# from steves_utils.ORACLE.utils_v2 import (\n",
    "#     ALL_DISTANCES_FEET,\n",
    "#     ALL_RUNS,\n",
    "#     ALL_SERIAL_NUMBERS,\n",
    "# )\n",
    "\n",
    "\n",
    "# add_dataset(\n",
    "#     labels=ALL_SERIAL_NUMBERS,\n",
    "#     domains = list(set(ALL_DISTANCES_FEET) - {2,62}),\n",
    "#     num_examples_per_domain_per_label=100,\n",
    "#     pickle_path=os.path.join(get_datasets_base_path(), \"oracle.Run2_framed_2000Examples_stratified_ds.2022A.pkl\"),\n",
    "#     source_or_target_dataset=\"source\",\n",
    "#     x_transform_func=global_x_transform_func,\n",
    "#     domain_modifier=lambda u: f\"oracle1_{u}\"\n",
    "# )\n"
   ]
  },
  {
   "cell_type": "code",
   "execution_count": 16,
   "id": "97dea9d2",
   "metadata": {
    "execution": {
     "iopub.execute_input": "2022-03-24T10:02:14.118400Z",
     "iopub.status.busy": "2022-03-24T10:02:14.118155Z",
     "iopub.status.idle": "2022-03-24T10:02:14.131813Z",
     "shell.execute_reply": "2022-03-24T10:02:14.131370Z"
    },
    "papermill": {
     "duration": 0.029253,
     "end_time": "2022-03-24T10:02:14.131901",
     "exception": false,
     "start_time": "2022-03-24T10:02:14.102648",
     "status": "completed"
    },
    "tags": []
   },
   "outputs": [],
   "source": [
    "# from steves_utils.ORACLE.utils_v2 import (\n",
    "#     ALL_DISTANCES_FEET,\n",
    "#     ALL_RUNS,\n",
    "#     ALL_SERIAL_NUMBERS,\n",
    "# )\n",
    "\n",
    "\n",
    "# add_dataset(\n",
    "#     labels=ALL_SERIAL_NUMBERS,\n",
    "#     domains = list(set(ALL_DISTANCES_FEET) - {2,62,56}),\n",
    "#     num_examples_per_domain_per_label=100,\n",
    "#     pickle_path=os.path.join(get_datasets_base_path(), \"oracle.Run2_framed_2000Examples_stratified_ds.2022A.pkl\"),\n",
    "#     source_or_target_dataset=\"source\",\n",
    "#     x_transform_func=global_x_transform_func,\n",
    "#     domain_modifier=lambda u: f\"oracle2_{u}\"\n",
    "# )"
   ]
  },
  {
   "cell_type": "code",
   "execution_count": 17,
   "id": "6f289866",
   "metadata": {
    "execution": {
     "iopub.execute_input": "2022-03-24T10:02:14.165057Z",
     "iopub.status.busy": "2022-03-24T10:02:14.164810Z",
     "iopub.status.idle": "2022-03-24T10:02:14.174643Z",
     "shell.execute_reply": "2022-03-24T10:02:14.174401Z"
    },
    "papermill": {
     "duration": 0.024484,
     "end_time": "2022-03-24T10:02:14.174690",
     "exception": false,
     "start_time": "2022-03-24T10:02:14.150206",
     "status": "completed"
    },
    "tags": []
   },
   "outputs": [],
   "source": [
    "# add_dataset(\n",
    "#     labels=list(range(19)),\n",
    "#     domains = [0,1,2],\n",
    "#     num_examples_per_domain_per_label=100,\n",
    "#     pickle_path=os.path.join(get_datasets_base_path(), \"metehan.stratified_ds.2022A.pkl\"),\n",
    "#     source_or_target_dataset=\"target\",\n",
    "#     x_transform_func=global_x_transform_func,\n",
    "#     domain_modifier=lambda u: f\"met_{u}\"\n",
    "# )"
   ]
  },
  {
   "cell_type": "code",
   "execution_count": 18,
   "id": "86a863c3",
   "metadata": {
    "execution": {
     "iopub.execute_input": "2022-03-24T10:02:14.205824Z",
     "iopub.status.busy": "2022-03-24T10:02:14.205575Z",
     "iopub.status.idle": "2022-03-24T10:02:14.214994Z",
     "shell.execute_reply": "2022-03-24T10:02:14.214761Z"
    },
    "papermill": {
     "duration": 0.024511,
     "end_time": "2022-03-24T10:02:14.215084",
     "exception": false,
     "start_time": "2022-03-24T10:02:14.190573",
     "status": "completed"
    },
    "tags": []
   },
   "outputs": [],
   "source": [
    "# # from steves_utils.wisig.utils import (\n",
    "# #     ALL_NODES_MINIMUM_100_EXAMPLES,\n",
    "# #     ALL_NODES_MINIMUM_500_EXAMPLES,\n",
    "# #     ALL_NODES_MINIMUM_1000_EXAMPLES,\n",
    "# #     ALL_DAYS\n",
    "# # )\n",
    "\n",
    "# import steves_utils.wisig.utils as wisig\n",
    "\n",
    "\n",
    "# add_dataset(\n",
    "#     labels=wisig.ALL_NODES_MINIMUM_100_EXAMPLES,\n",
    "#     domains = wisig.ALL_DAYS,\n",
    "#     num_examples_per_domain_per_label=100,\n",
    "#     pickle_path=os.path.join(get_datasets_base_path(), \"wisig.node3-19.stratified_ds.2022A.pkl\"),\n",
    "#     source_or_target_dataset=\"target\",\n",
    "#     x_transform_func=global_x_transform_func,\n",
    "#     domain_modifier=lambda u: f\"wisig_{u}\"\n",
    "# )"
   ]
  },
  {
   "cell_type": "code",
   "execution_count": 19,
   "id": "fd5442bc",
   "metadata": {
    "execution": {
     "iopub.execute_input": "2022-03-24T10:02:14.250531Z",
     "iopub.status.busy": "2022-03-24T10:02:14.249979Z",
     "iopub.status.idle": "2022-03-24T10:02:14.261039Z",
     "shell.execute_reply": "2022-03-24T10:02:14.260681Z"
    },
    "papermill": {
     "duration": 0.027302,
     "end_time": "2022-03-24T10:02:14.261109",
     "exception": false,
     "start_time": "2022-03-24T10:02:14.233807",
     "status": "completed"
    },
    "tags": []
   },
   "outputs": [],
   "source": [
    "###################################\n",
    "# Build the dataset\n",
    "###################################\n",
    "train_original_source = Iterable_Aggregator(train_original_source, p.seed)\n",
    "val_original_source = Iterable_Aggregator(val_original_source, p.seed)\n",
    "test_original_source = Iterable_Aggregator(test_original_source, p.seed)\n",
    "\n",
    "\n",
    "train_original_target = Iterable_Aggregator(train_original_target, p.seed)\n",
    "val_original_target = Iterable_Aggregator(val_original_target, p.seed)\n",
    "test_original_target = Iterable_Aggregator(test_original_target, p.seed)\n",
    "\n",
    "# For CNN We only use X and Y. And we only train on the source.\n",
    "# Properly form the data using a transform lambda and Lazy_Iterable_Wrapper. Finally wrap them in a dataloader\n",
    "\n",
    "transform_lambda = lambda ex: ex[1] # Original is (<domain>, <episode>) so we strip down to episode only\n",
    "\n",
    "train_processed_source = Lazy_Iterable_Wrapper(train_original_source, transform_lambda)\n",
    "val_processed_source   = Lazy_Iterable_Wrapper(val_original_source, transform_lambda)\n",
    "test_processed_source  = Lazy_Iterable_Wrapper(test_original_source, transform_lambda)\n",
    "\n",
    "train_processed_target = Lazy_Iterable_Wrapper(train_original_target, transform_lambda)\n",
    "val_processed_target   = Lazy_Iterable_Wrapper(val_original_target, transform_lambda)\n",
    "test_processed_target  = Lazy_Iterable_Wrapper(test_original_target, transform_lambda)\n",
    "\n",
    "datasets = EasyDict({\n",
    "    \"source\": {\n",
    "        \"original\": {\"train\":train_original_source, \"val\":val_original_source, \"test\":test_original_source},\n",
    "        \"processed\": {\"train\":train_processed_source, \"val\":val_processed_source, \"test\":test_processed_source}\n",
    "    },\n",
    "    \"target\": {\n",
    "        \"original\": {\"train\":train_original_target, \"val\":val_original_target, \"test\":test_original_target},\n",
    "        \"processed\": {\"train\":train_processed_target, \"val\":val_processed_target, \"test\":test_processed_target}\n",
    "    },\n",
    "})"
   ]
  },
  {
   "cell_type": "code",
   "execution_count": 20,
   "id": "5b3c01fc",
   "metadata": {
    "execution": {
     "iopub.execute_input": "2022-03-24T10:02:14.295857Z",
     "iopub.status.busy": "2022-03-24T10:02:14.295608Z",
     "iopub.status.idle": "2022-03-24T10:02:39.257960Z",
     "shell.execute_reply": "2022-03-24T10:02:39.258241Z"
    },
    "papermill": {
     "duration": 24.97803,
     "end_time": "2022-03-24T10:02:39.258331",
     "exception": false,
     "start_time": "2022-03-24T10:02:14.280301",
     "status": "completed"
    },
    "tags": []
   },
   "outputs": [
    {
     "name": "stdout",
     "output_type": "stream",
     "text": [
      "{'ORACLE.run2_26', 'ORACLE.run2_20', 'ORACLE.run2_14', 'ORACLE.run2_8', 'ORACLE.run2_32', 'ORACLE.run2_50', 'ORACLE.run2_44', 'ORACLE.run2_38'}\n"
     ]
    },
    {
     "name": "stdout",
     "output_type": "stream",
     "text": [
      "{'ORACLE.run1_8', 'ORACLE.run1_44', 'ORACLE.run1_32', 'ORACLE.run1_26', 'ORACLE.run1_38', 'ORACLE.run1_50', 'ORACLE.run1_14', 'ORACLE.run1_20'}\n"
     ]
    },
    {
     "name": "stdout",
     "output_type": "stream",
     "text": [
      "tensor([[[-0.5777, -0.5041,  0.1996,  ...,  0.4306,  0.1680, -0.1050],\n",
      "         [-0.0525,  0.1470, -0.4516,  ..., -0.7037,  0.3991, -1.2919]],\n",
      "\n",
      "        [[ 0.5635,  0.6967, -0.3893,  ..., -0.0102,  2.0696,  1.1168],\n",
      "         [ 0.5328,  1.4037, -0.2357,  ..., -1.1578, -1.6496, -1.4037]],\n",
      "\n",
      "        [[ 0.5561, -0.3672, -0.5771,  ...,  0.1679,  0.3987,  0.2518],\n",
      "         [ 0.6715,  0.2518, -0.2728,  ..., -1.2171, -0.7869, -0.1993]],\n",
      "\n",
      "        ...,\n",
      "\n",
      "        [[ 0.1694,  0.1463,  0.1001,  ..., -1.0473, -1.6942, -0.2618],\n",
      "         [ 0.3080,  0.2233, -0.4851,  ..., -0.9934,  0.9626, -1.4400]],\n",
      "\n",
      "        [[ 0.1751,  1.2101, -0.3184,  ..., -1.0509,  0.5971,  0.0955],\n",
      "         [-0.9712, -0.4299,  0.7483,  ...,  0.4777, -1.0429, -1.0031]],\n",
      "\n",
      "        [[-0.0370, -0.2665, -0.3554,  ...,  1.9175,  0.7922,  0.1703],\n",
      "         [ 1.3030, -1.2660, -1.0291,  ..., -1.0957, -0.3480,  0.4590]]])\n"
     ]
    }
   ],
   "source": [
    "from steves_utils.transforms import get_average_magnitude, get_average_power\n",
    "\n",
    "print(set([u for u,_ in val_original_source]))\n",
    "print(set([u for u,_ in val_original_target]))\n",
    "\n",
    "s_x, s_y, q_x, q_y, _ = next(iter(train_processed_source))\n",
    "print(s_x)\n",
    "\n",
    "# for ds in [\n",
    "#     train_processed_source,\n",
    "#     val_processed_source,\n",
    "#     test_processed_source,\n",
    "#     train_processed_target,\n",
    "#     val_processed_target,\n",
    "#     test_processed_target\n",
    "# ]:\n",
    "#     for s_x, s_y, q_x, q_y, _ in ds:\n",
    "#         for X in (s_x, q_x):\n",
    "#             for x in X:\n",
    "#                 assert np.isclose(get_average_magnitude(x.numpy()), 1.0)\n",
    "#                 assert np.isclose(get_average_power(x.numpy()), 1.0)\n",
    "                "
   ]
  },
  {
   "cell_type": "code",
   "execution_count": 21,
   "id": "bbdacba1",
   "metadata": {
    "execution": {
     "iopub.execute_input": "2022-03-24T10:02:39.294517Z",
     "iopub.status.busy": "2022-03-24T10:02:39.294261Z",
     "iopub.status.idle": "2022-03-24T10:02:39.361708Z",
     "shell.execute_reply": "2022-03-24T10:02:39.361209Z"
    },
    "papermill": {
     "duration": 0.085124,
     "end_time": "2022-03-24T10:02:39.361815",
     "exception": false,
     "start_time": "2022-03-24T10:02:39.276691",
     "status": "completed"
    },
    "tags": []
   },
   "outputs": [
    {
     "name": "stdout",
     "output_type": "stream",
     "text": [
      "(2, 256)\n"
     ]
    }
   ],
   "source": [
    "###################################\n",
    "# Build the model\n",
    "###################################\n",
    "# easfsl only wants a tuple for the shape\n",
    "model = Steves_Prototypical_Network(x_net, device=p.device, x_shape=tuple(p.x_shape))\n",
    "optimizer = Adam(params=model.parameters(), lr=p.lr)"
   ]
  },
  {
   "cell_type": "code",
   "execution_count": 22,
   "id": "22b39ac5",
   "metadata": {
    "execution": {
     "iopub.execute_input": "2022-03-24T10:02:39.397943Z",
     "iopub.status.busy": "2022-03-24T10:02:39.397685Z",
     "iopub.status.idle": "2022-03-24T12:34:44.396342Z",
     "shell.execute_reply": "2022-03-24T12:34:44.396108Z"
    },
    "papermill": {
     "duration": 9125.01507,
     "end_time": "2022-03-24T12:34:44.396402",
     "exception": false,
     "start_time": "2022-03-24T10:02:39.381332",
     "status": "completed"
    },
    "tags": []
   },
   "outputs": [
    {
     "name": "stdout",
     "output_type": "stream",
     "text": [
      "epoch: 1, [batch: 1 / 33600], examples_per_second: 9.9720, train_label_loss: 2.7660, \n"
     ]
    },
    {
     "name": "stdout",
     "output_type": "stream",
     "text": [
      "epoch: 1, [batch: 3360 / 33600], examples_per_second: 3220.7201, train_label_loss: 1.5998, \n"
     ]
    },
    {
     "name": "stdout",
     "output_type": "stream",
     "text": [
      "epoch: 1, [batch: 6720 / 33600], examples_per_second: 3203.4996, train_label_loss: 0.7543, \n"
     ]
    },
    {
     "name": "stdout",
     "output_type": "stream",
     "text": [
      "epoch: 1, [batch: 10080 / 33600], examples_per_second: 3212.4867, train_label_loss: 0.9473, \n"
     ]
    },
    {
     "name": "stdout",
     "output_type": "stream",
     "text": [
      "epoch: 1, [batch: 13440 / 33600], examples_per_second: 3198.6346, train_label_loss: 0.9587, \n"
     ]
    },
    {
     "name": "stdout",
     "output_type": "stream",
     "text": [
      "epoch: 1, [batch: 16800 / 33600], examples_per_second: 3213.0954, train_label_loss: 0.6819, \n"
     ]
    },
    {
     "name": "stdout",
     "output_type": "stream",
     "text": [
      "epoch: 1, [batch: 20160 / 33600], examples_per_second: 3216.7039, train_label_loss: 1.4138, \n"
     ]
    },
    {
     "name": "stdout",
     "output_type": "stream",
     "text": [
      "epoch: 1, [batch: 23520 / 33600], examples_per_second: 3199.4728, train_label_loss: 0.8670, \n"
     ]
    },
    {
     "name": "stdout",
     "output_type": "stream",
     "text": [
      "epoch: 1, [batch: 26880 / 33600], examples_per_second: 3208.2527, train_label_loss: 0.6621, \n"
     ]
    },
    {
     "name": "stdout",
     "output_type": "stream",
     "text": [
      "epoch: 1, [batch: 30240 / 33600], examples_per_second: 3212.3157, train_label_loss: 0.8189, \n"
     ]
    },
    {
     "name": "stdout",
     "output_type": "stream",
     "text": [
      "=============================================================\n",
      "epoch: 1, source_val_acc_label: 0.6313, target_val_acc_label: 0.6403, source_val_label_loss: 1.0011, target_val_label_loss: 0.9755, \n",
      "=============================================================\n"
     ]
    },
    {
     "name": "stdout",
     "output_type": "stream",
     "text": [
      "New best\n"
     ]
    },
    {
     "name": "stdout",
     "output_type": "stream",
     "text": [
      "epoch: 2, [batch: 1 / 33600], examples_per_second: 0.9650, train_label_loss: 0.8352, \n"
     ]
    },
    {
     "name": "stdout",
     "output_type": "stream",
     "text": [
      "epoch: 2, [batch: 3360 / 33600], examples_per_second: 3236.9278, train_label_loss: 0.6213, \n"
     ]
    },
    {
     "name": "stdout",
     "output_type": "stream",
     "text": [
      "epoch: 2, [batch: 6720 / 33600], examples_per_second: 3236.4711, train_label_loss: 1.1538, \n"
     ]
    },
    {
     "name": "stdout",
     "output_type": "stream",
     "text": [
      "epoch: 2, [batch: 10080 / 33600], examples_per_second: 3241.9424, train_label_loss: 1.3152, \n"
     ]
    },
    {
     "name": "stdout",
     "output_type": "stream",
     "text": [
      "epoch: 2, [batch: 13440 / 33600], examples_per_second: 3231.2588, train_label_loss: 0.4576, \n"
     ]
    },
    {
     "name": "stdout",
     "output_type": "stream",
     "text": [
      "epoch: 2, [batch: 16800 / 33600], examples_per_second: 3245.1644, train_label_loss: 0.6084, \n"
     ]
    },
    {
     "name": "stdout",
     "output_type": "stream",
     "text": [
      "epoch: 2, [batch: 20160 / 33600], examples_per_second: 3248.9161, train_label_loss: 0.5824, \n"
     ]
    },
    {
     "name": "stdout",
     "output_type": "stream",
     "text": [
      "epoch: 2, [batch: 23520 / 33600], examples_per_second: 3232.4221, train_label_loss: 0.4032, \n"
     ]
    },
    {
     "name": "stdout",
     "output_type": "stream",
     "text": [
      "epoch: 2, [batch: 26880 / 33600], examples_per_second: 3236.5359, train_label_loss: 0.8247, \n"
     ]
    },
    {
     "name": "stdout",
     "output_type": "stream",
     "text": [
      "epoch: 2, [batch: 30240 / 33600], examples_per_second: 3245.3126, train_label_loss: 0.6803, \n"
     ]
    },
    {
     "name": "stdout",
     "output_type": "stream",
     "text": [
      "=============================================================\n",
      "epoch: 2, source_val_acc_label: 0.6583, target_val_acc_label: 0.6725, source_val_label_loss: 0.9164, target_val_label_loss: 0.8733, \n",
      "=============================================================\n"
     ]
    },
    {
     "name": "stdout",
     "output_type": "stream",
     "text": [
      "New best\n"
     ]
    },
    {
     "name": "stdout",
     "output_type": "stream",
     "text": [
      "epoch: 3, [batch: 1 / 33600], examples_per_second: 0.9667, train_label_loss: 0.3732, \n"
     ]
    },
    {
     "name": "stdout",
     "output_type": "stream",
     "text": [
      "epoch: 3, [batch: 3360 / 33600], examples_per_second: 3236.2689, train_label_loss: 1.1694, \n"
     ]
    },
    {
     "name": "stdout",
     "output_type": "stream",
     "text": [
      "epoch: 3, [batch: 6720 / 33600], examples_per_second: 3240.9808, train_label_loss: 0.7893, \n"
     ]
    },
    {
     "name": "stdout",
     "output_type": "stream",
     "text": [
      "epoch: 3, [batch: 10080 / 33600], examples_per_second: 3241.0854, train_label_loss: 1.5194, \n"
     ]
    },
    {
     "name": "stdout",
     "output_type": "stream",
     "text": [
      "epoch: 3, [batch: 13440 / 33600], examples_per_second: 3227.4079, train_label_loss: 0.3435, \n"
     ]
    },
    {
     "name": "stdout",
     "output_type": "stream",
     "text": [
      "epoch: 3, [batch: 16800 / 33600], examples_per_second: 3247.0000, train_label_loss: 0.5117, \n"
     ]
    },
    {
     "name": "stdout",
     "output_type": "stream",
     "text": [
      "epoch: 3, [batch: 20160 / 33600], examples_per_second: 3249.6886, train_label_loss: 1.0631, \n"
     ]
    },
    {
     "name": "stdout",
     "output_type": "stream",
     "text": [
      "epoch: 3, [batch: 23520 / 33600], examples_per_second: 3236.9373, train_label_loss: 1.1706, \n"
     ]
    },
    {
     "name": "stdout",
     "output_type": "stream",
     "text": [
      "epoch: 3, [batch: 26880 / 33600], examples_per_second: 3243.1588, train_label_loss: 0.5032, \n"
     ]
    },
    {
     "name": "stdout",
     "output_type": "stream",
     "text": [
      "epoch: 3, [batch: 30240 / 33600], examples_per_second: 3243.2924, train_label_loss: 0.4570, \n"
     ]
    },
    {
     "name": "stdout",
     "output_type": "stream",
     "text": [
      "=============================================================\n",
      "epoch: 3, source_val_acc_label: 0.6799, target_val_acc_label: 0.6871, source_val_label_loss: 0.8724, target_val_label_loss: 0.8377, \n",
      "=============================================================\n"
     ]
    },
    {
     "name": "stdout",
     "output_type": "stream",
     "text": [
      "New best\n"
     ]
    },
    {
     "name": "stdout",
     "output_type": "stream",
     "text": [
      "epoch: 4, [batch: 1 / 33600], examples_per_second: 0.9680, train_label_loss: 0.4413, \n"
     ]
    },
    {
     "name": "stdout",
     "output_type": "stream",
     "text": [
      "epoch: 4, [batch: 3360 / 33600], examples_per_second: 3241.8348, train_label_loss: 0.5575, \n"
     ]
    },
    {
     "name": "stdout",
     "output_type": "stream",
     "text": [
      "epoch: 4, [batch: 6720 / 33600], examples_per_second: 3239.3291, train_label_loss: 0.9010, \n"
     ]
    },
    {
     "name": "stdout",
     "output_type": "stream",
     "text": [
      "epoch: 4, [batch: 10080 / 33600], examples_per_second: 3240.3072, train_label_loss: 0.3612, \n"
     ]
    },
    {
     "name": "stdout",
     "output_type": "stream",
     "text": [
      "epoch: 4, [batch: 13440 / 33600], examples_per_second: 3236.7138, train_label_loss: 0.4692, \n"
     ]
    },
    {
     "name": "stdout",
     "output_type": "stream",
     "text": [
      "epoch: 4, [batch: 16800 / 33600], examples_per_second: 3248.2521, train_label_loss: 0.3204, \n"
     ]
    },
    {
     "name": "stdout",
     "output_type": "stream",
     "text": [
      "epoch: 4, [batch: 20160 / 33600], examples_per_second: 3255.0769, train_label_loss: 0.8809, \n"
     ]
    },
    {
     "name": "stdout",
     "output_type": "stream",
     "text": [
      "epoch: 4, [batch: 23520 / 33600], examples_per_second: 3239.7811, train_label_loss: 0.9519, \n"
     ]
    },
    {
     "name": "stdout",
     "output_type": "stream",
     "text": [
      "epoch: 4, [batch: 26880 / 33600], examples_per_second: 3238.2486, train_label_loss: 1.0094, \n"
     ]
    },
    {
     "name": "stdout",
     "output_type": "stream",
     "text": [
      "epoch: 4, [batch: 30240 / 33600], examples_per_second: 3239.3508, train_label_loss: 0.2042, \n"
     ]
    },
    {
     "name": "stdout",
     "output_type": "stream",
     "text": [
      "=============================================================\n",
      "epoch: 4, source_val_acc_label: 0.7024, target_val_acc_label: 0.7081, source_val_label_loss: 0.8171, target_val_label_loss: 0.7889, \n",
      "=============================================================\n"
     ]
    },
    {
     "name": "stdout",
     "output_type": "stream",
     "text": [
      "New best\n"
     ]
    },
    {
     "name": "stdout",
     "output_type": "stream",
     "text": [
      "epoch: 5, [batch: 1 / 33600], examples_per_second: 0.9691, train_label_loss: 0.6024, \n"
     ]
    },
    {
     "name": "stdout",
     "output_type": "stream",
     "text": [
      "epoch: 5, [batch: 3360 / 33600], examples_per_second: 3243.8721, train_label_loss: 0.7538, \n"
     ]
    },
    {
     "name": "stdout",
     "output_type": "stream",
     "text": [
      "epoch: 5, [batch: 6720 / 33600], examples_per_second: 3241.0421, train_label_loss: 0.6057, \n"
     ]
    },
    {
     "name": "stdout",
     "output_type": "stream",
     "text": [
      "epoch: 5, [batch: 10080 / 33600], examples_per_second: 3235.0048, train_label_loss: 0.9971, \n"
     ]
    },
    {
     "name": "stdout",
     "output_type": "stream",
     "text": [
      "epoch: 5, [batch: 13440 / 33600], examples_per_second: 3228.3157, train_label_loss: 1.0911, \n"
     ]
    },
    {
     "name": "stdout",
     "output_type": "stream",
     "text": [
      "epoch: 5, [batch: 16800 / 33600], examples_per_second: 3248.0654, train_label_loss: 1.0051, \n"
     ]
    },
    {
     "name": "stdout",
     "output_type": "stream",
     "text": [
      "epoch: 5, [batch: 20160 / 33600], examples_per_second: 3245.1997, train_label_loss: 0.7904, \n"
     ]
    },
    {
     "name": "stdout",
     "output_type": "stream",
     "text": [
      "epoch: 5, [batch: 23520 / 33600], examples_per_second: 3235.0516, train_label_loss: 0.4241, \n"
     ]
    },
    {
     "name": "stdout",
     "output_type": "stream",
     "text": [
      "epoch: 5, [batch: 26880 / 33600], examples_per_second: 3230.5302, train_label_loss: 0.4205, \n"
     ]
    },
    {
     "name": "stdout",
     "output_type": "stream",
     "text": [
      "epoch: 5, [batch: 30240 / 33600], examples_per_second: 3235.9831, train_label_loss: 0.8093, \n"
     ]
    },
    {
     "name": "stdout",
     "output_type": "stream",
     "text": [
      "=============================================================\n",
      "epoch: 5, source_val_acc_label: 0.7238, target_val_acc_label: 0.7284, source_val_label_loss: 0.7691, target_val_label_loss: 0.7438, \n",
      "=============================================================\n"
     ]
    },
    {
     "name": "stdout",
     "output_type": "stream",
     "text": [
      "New best\n"
     ]
    },
    {
     "name": "stdout",
     "output_type": "stream",
     "text": [
      "epoch: 6, [batch: 1 / 33600], examples_per_second: 0.9688, train_label_loss: 0.7426, \n"
     ]
    },
    {
     "name": "stdout",
     "output_type": "stream",
     "text": [
      "epoch: 6, [batch: 3360 / 33600], examples_per_second: 3232.6374, train_label_loss: 0.3702, \n"
     ]
    },
    {
     "name": "stdout",
     "output_type": "stream",
     "text": [
      "epoch: 6, [batch: 6720 / 33600], examples_per_second: 3236.1584, train_label_loss: 0.4615, \n"
     ]
    },
    {
     "name": "stdout",
     "output_type": "stream",
     "text": [
      "epoch: 6, [batch: 10080 / 33600], examples_per_second: 3240.4845, train_label_loss: 0.8832, \n"
     ]
    },
    {
     "name": "stdout",
     "output_type": "stream",
     "text": [
      "epoch: 6, [batch: 13440 / 33600], examples_per_second: 3227.6804, train_label_loss: 0.7435, \n"
     ]
    },
    {
     "name": "stdout",
     "output_type": "stream",
     "text": [
      "epoch: 6, [batch: 16800 / 33600], examples_per_second: 3243.9044, train_label_loss: 0.5364, \n"
     ]
    },
    {
     "name": "stdout",
     "output_type": "stream",
     "text": [
      "epoch: 6, [batch: 20160 / 33600], examples_per_second: 3249.4702, train_label_loss: 0.4990, \n"
     ]
    },
    {
     "name": "stdout",
     "output_type": "stream",
     "text": [
      "epoch: 6, [batch: 23520 / 33600], examples_per_second: 3239.5082, train_label_loss: 0.5541, \n"
     ]
    },
    {
     "name": "stdout",
     "output_type": "stream",
     "text": [
      "epoch: 6, [batch: 26880 / 33600], examples_per_second: 3236.8299, train_label_loss: 0.6599, \n"
     ]
    },
    {
     "name": "stdout",
     "output_type": "stream",
     "text": [
      "epoch: 6, [batch: 30240 / 33600], examples_per_second: 3241.4526, train_label_loss: 0.6255, \n"
     ]
    },
    {
     "name": "stdout",
     "output_type": "stream",
     "text": [
      "=============================================================\n",
      "epoch: 6, source_val_acc_label: 0.7305, target_val_acc_label: 0.7336, source_val_label_loss: 0.7673, target_val_label_loss: 0.7423, \n",
      "=============================================================\n"
     ]
    },
    {
     "name": "stdout",
     "output_type": "stream",
     "text": [
      "New best\n"
     ]
    },
    {
     "name": "stdout",
     "output_type": "stream",
     "text": [
      "epoch: 7, [batch: 1 / 33600], examples_per_second: 0.9707, train_label_loss: 0.3009, \n"
     ]
    },
    {
     "name": "stdout",
     "output_type": "stream",
     "text": [
      "epoch: 7, [batch: 3360 / 33600], examples_per_second: 3237.3597, train_label_loss: 0.9080, \n"
     ]
    },
    {
     "name": "stdout",
     "output_type": "stream",
     "text": [
      "epoch: 7, [batch: 6720 / 33600], examples_per_second: 3243.5673, train_label_loss: 0.7012, \n"
     ]
    },
    {
     "name": "stdout",
     "output_type": "stream",
     "text": [
      "epoch: 7, [batch: 10080 / 33600], examples_per_second: 3247.0759, train_label_loss: 0.4887, \n"
     ]
    },
    {
     "name": "stdout",
     "output_type": "stream",
     "text": [
      "epoch: 7, [batch: 13440 / 33600], examples_per_second: 3234.8197, train_label_loss: 0.5083, \n"
     ]
    },
    {
     "name": "stdout",
     "output_type": "stream",
     "text": [
      "epoch: 7, [batch: 16800 / 33600], examples_per_second: 3240.6816, train_label_loss: 0.5769, \n"
     ]
    },
    {
     "name": "stdout",
     "output_type": "stream",
     "text": [
      "epoch: 7, [batch: 20160 / 33600], examples_per_second: 3250.8647, train_label_loss: 1.2700, \n"
     ]
    },
    {
     "name": "stdout",
     "output_type": "stream",
     "text": [
      "epoch: 7, [batch: 23520 / 33600], examples_per_second: 3237.3221, train_label_loss: 0.3233, \n"
     ]
    },
    {
     "name": "stdout",
     "output_type": "stream",
     "text": [
      "epoch: 7, [batch: 26880 / 33600], examples_per_second: 3244.9407, train_label_loss: 0.3884, \n"
     ]
    },
    {
     "name": "stdout",
     "output_type": "stream",
     "text": [
      "epoch: 7, [batch: 30240 / 33600], examples_per_second: 3244.1270, train_label_loss: 0.8787, \n"
     ]
    },
    {
     "name": "stdout",
     "output_type": "stream",
     "text": [
      "=============================================================\n",
      "epoch: 7, source_val_acc_label: 0.7269, target_val_acc_label: 0.7287, source_val_label_loss: 0.7658, target_val_label_loss: 0.7475, \n",
      "=============================================================\n"
     ]
    },
    {
     "name": "stdout",
     "output_type": "stream",
     "text": [
      "epoch: 8, [batch: 1 / 33600], examples_per_second: 0.9667, train_label_loss: 0.5513, \n"
     ]
    },
    {
     "name": "stdout",
     "output_type": "stream",
     "text": [
      "epoch: 8, [batch: 3360 / 33600], examples_per_second: 3240.7774, train_label_loss: 0.5788, \n"
     ]
    },
    {
     "name": "stdout",
     "output_type": "stream",
     "text": [
      "epoch: 8, [batch: 6720 / 33600], examples_per_second: 3232.4242, train_label_loss: 0.2653, \n"
     ]
    },
    {
     "name": "stdout",
     "output_type": "stream",
     "text": [
      "epoch: 8, [batch: 10080 / 33600], examples_per_second: 3236.1510, train_label_loss: 0.4235, \n"
     ]
    },
    {
     "name": "stdout",
     "output_type": "stream",
     "text": [
      "epoch: 8, [batch: 13440 / 33600], examples_per_second: 3233.4764, train_label_loss: 0.1887, \n"
     ]
    },
    {
     "name": "stdout",
     "output_type": "stream",
     "text": [
      "epoch: 8, [batch: 16800 / 33600], examples_per_second: 3248.8290, train_label_loss: 0.3591, \n"
     ]
    },
    {
     "name": "stdout",
     "output_type": "stream",
     "text": [
      "epoch: 8, [batch: 20160 / 33600], examples_per_second: 3252.8076, train_label_loss: 0.3942, \n"
     ]
    },
    {
     "name": "stdout",
     "output_type": "stream",
     "text": [
      "epoch: 8, [batch: 23520 / 33600], examples_per_second: 3234.1676, train_label_loss: 0.7673, \n"
     ]
    },
    {
     "name": "stdout",
     "output_type": "stream",
     "text": [
      "epoch: 8, [batch: 26880 / 33600], examples_per_second: 3242.4955, train_label_loss: 0.5283, \n"
     ]
    },
    {
     "name": "stdout",
     "output_type": "stream",
     "text": [
      "epoch: 8, [batch: 30240 / 33600], examples_per_second: 3249.0650, train_label_loss: 0.6669, \n"
     ]
    },
    {
     "name": "stdout",
     "output_type": "stream",
     "text": [
      "=============================================================\n",
      "epoch: 8, source_val_acc_label: 0.7283, target_val_acc_label: 0.7304, source_val_label_loss: 0.7736, target_val_label_loss: 0.7560, \n",
      "=============================================================\n"
     ]
    },
    {
     "name": "stdout",
     "output_type": "stream",
     "text": [
      "epoch: 9, [batch: 1 / 33600], examples_per_second: 0.9703, train_label_loss: 0.4129, \n"
     ]
    },
    {
     "name": "stdout",
     "output_type": "stream",
     "text": [
      "epoch: 9, [batch: 3360 / 33600], examples_per_second: 3228.7894, train_label_loss: 0.2662, \n"
     ]
    },
    {
     "name": "stdout",
     "output_type": "stream",
     "text": [
      "epoch: 9, [batch: 6720 / 33600], examples_per_second: 3232.3955, train_label_loss: 0.3961, \n"
     ]
    },
    {
     "name": "stdout",
     "output_type": "stream",
     "text": [
      "epoch: 9, [batch: 10080 / 33600], examples_per_second: 3245.1501, train_label_loss: 0.2507, \n"
     ]
    },
    {
     "name": "stdout",
     "output_type": "stream",
     "text": [
      "epoch: 9, [batch: 13440 / 33600], examples_per_second: 3237.0794, train_label_loss: 0.4509, \n"
     ]
    },
    {
     "name": "stdout",
     "output_type": "stream",
     "text": [
      "epoch: 9, [batch: 16800 / 33600], examples_per_second: 3249.0655, train_label_loss: 0.4076, \n"
     ]
    },
    {
     "name": "stdout",
     "output_type": "stream",
     "text": [
      "epoch: 9, [batch: 20160 / 33600], examples_per_second: 3251.3713, train_label_loss: 0.4064, \n"
     ]
    },
    {
     "name": "stdout",
     "output_type": "stream",
     "text": [
      "epoch: 9, [batch: 23520 / 33600], examples_per_second: 3232.9706, train_label_loss: 0.3497, \n"
     ]
    },
    {
     "name": "stdout",
     "output_type": "stream",
     "text": [
      "epoch: 9, [batch: 26880 / 33600], examples_per_second: 3239.6524, train_label_loss: 0.9176, \n"
     ]
    },
    {
     "name": "stdout",
     "output_type": "stream",
     "text": [
      "epoch: 9, [batch: 30240 / 33600], examples_per_second: 3248.0049, train_label_loss: 0.9313, \n"
     ]
    },
    {
     "name": "stdout",
     "output_type": "stream",
     "text": [
      "=============================================================\n",
      "epoch: 9, source_val_acc_label: 0.7334, target_val_acc_label: 0.7330, source_val_label_loss: 0.7783, target_val_label_loss: 0.7640, \n",
      "=============================================================\n"
     ]
    },
    {
     "name": "stdout",
     "output_type": "stream",
     "text": [
      "epoch: 10, [batch: 1 / 33600], examples_per_second: 0.9701, train_label_loss: 0.1104, \n"
     ]
    },
    {
     "name": "stdout",
     "output_type": "stream",
     "text": [
      "epoch: 10, [batch: 3360 / 33600], examples_per_second: 3236.0600, train_label_loss: 0.6098, \n"
     ]
    },
    {
     "name": "stdout",
     "output_type": "stream",
     "text": [
      "epoch: 10, [batch: 6720 / 33600], examples_per_second: 3243.8841, train_label_loss: 0.5429, \n"
     ]
    },
    {
     "name": "stdout",
     "output_type": "stream",
     "text": [
      "epoch: 10, [batch: 10080 / 33600], examples_per_second: 3243.3467, train_label_loss: 0.6165, \n"
     ]
    },
    {
     "name": "stdout",
     "output_type": "stream",
     "text": [
      "epoch: 10, [batch: 13440 / 33600], examples_per_second: 3226.9856, train_label_loss: 0.3211, \n"
     ]
    },
    {
     "name": "stdout",
     "output_type": "stream",
     "text": [
      "epoch: 10, [batch: 16800 / 33600], examples_per_second: 3237.2595, train_label_loss: 0.1648, \n"
     ]
    },
    {
     "name": "stdout",
     "output_type": "stream",
     "text": [
      "epoch: 10, [batch: 20160 / 33600], examples_per_second: 3243.7451, train_label_loss: 0.3418, \n"
     ]
    },
    {
     "name": "stdout",
     "output_type": "stream",
     "text": [
      "epoch: 10, [batch: 23520 / 33600], examples_per_second: 3232.5565, train_label_loss: 0.3045, \n"
     ]
    },
    {
     "name": "stdout",
     "output_type": "stream",
     "text": [
      "epoch: 10, [batch: 26880 / 33600], examples_per_second: 3245.6355, train_label_loss: 0.7261, \n"
     ]
    },
    {
     "name": "stdout",
     "output_type": "stream",
     "text": [
      "epoch: 10, [batch: 30240 / 33600], examples_per_second: 3241.3150, train_label_loss: 0.4059, \n"
     ]
    },
    {
     "name": "stdout",
     "output_type": "stream",
     "text": [
      "=============================================================\n",
      "epoch: 10, source_val_acc_label: 0.7240, target_val_acc_label: 0.7253, source_val_label_loss: 0.8016, target_val_label_loss: 0.7869, \n",
      "=============================================================\n"
     ]
    },
    {
     "name": "stdout",
     "output_type": "stream",
     "text": [
      "Patience (3) exhausted\n"
     ]
    }
   ],
   "source": [
    "###################################\n",
    "# train\n",
    "###################################\n",
    "jig = PTN_Train_Eval_Test_Jig(model, p.BEST_MODEL_PATH, p.device)\n",
    "\n",
    "jig.train(\n",
    "    train_iterable=datasets.source.processed.train,\n",
    "    source_val_iterable=datasets.source.processed.val,\n",
    "    target_val_iterable=datasets.target.processed.val,\n",
    "    num_epochs=p.n_epoch,\n",
    "    num_logs_per_epoch=p.NUM_LOGS_PER_EPOCH,\n",
    "    patience=p.patience,\n",
    "    optimizer=optimizer,\n",
    "    criteria_for_best=p.criteria_for_best,\n",
    ")"
   ]
  },
  {
   "cell_type": "code",
   "execution_count": 23,
   "id": "31e8fabf",
   "metadata": {
    "execution": {
     "iopub.execute_input": "2022-03-24T12:34:44.470392Z",
     "iopub.status.busy": "2022-03-24T12:34:44.470131Z",
     "iopub.status.idle": "2022-03-24T12:34:44.489704Z",
     "shell.execute_reply": "2022-03-24T12:34:44.489191Z"
    },
    "papermill": {
     "duration": 0.058204,
     "end_time": "2022-03-24T12:34:44.489814",
     "exception": false,
     "start_time": "2022-03-24T12:34:44.431610",
     "status": "completed"
    },
    "tags": []
   },
   "outputs": [],
   "source": [
    "total_experiment_time_secs = time.time() - start_time_secs"
   ]
  },
  {
   "cell_type": "code",
   "execution_count": 24,
   "id": "87b9595b",
   "metadata": {
    "execution": {
     "iopub.execute_input": "2022-03-24T12:34:44.574254Z",
     "iopub.status.busy": "2022-03-24T12:34:44.571260Z",
     "iopub.status.idle": "2022-03-24T12:42:46.221426Z",
     "shell.execute_reply": "2022-03-24T12:42:46.220986Z"
    },
    "papermill": {
     "duration": 481.692022,
     "end_time": "2022-03-24T12:42:46.221545",
     "exception": false,
     "start_time": "2022-03-24T12:34:44.529523",
     "status": "completed"
    },
    "tags": []
   },
   "outputs": [],
   "source": [
    "###################################\n",
    "# Evaluate the model\n",
    "###################################\n",
    "source_test_label_accuracy, source_test_label_loss = jig.test(datasets.source.processed.test)\n",
    "target_test_label_accuracy, target_test_label_loss = jig.test(datasets.target.processed.test)\n",
    "\n",
    "source_val_label_accuracy, source_val_label_loss = jig.test(datasets.source.processed.val)\n",
    "target_val_label_accuracy, target_val_label_loss = jig.test(datasets.target.processed.val)\n",
    "\n",
    "history = jig.get_history()\n",
    "\n",
    "total_epochs_trained = len(history[\"epoch_indices\"])\n",
    "\n",
    "val_dl = Iterable_Aggregator((datasets.source.original.val,datasets.target.original.val))\n",
    "\n",
    "confusion = ptn_confusion_by_domain_over_dataloader(model, p.device, val_dl)\n",
    "per_domain_accuracy = per_domain_accuracy_from_confusion(confusion)\n",
    "\n",
    "# Add a key to per_domain_accuracy for if it was a source domain\n",
    "for domain, accuracy in per_domain_accuracy.items():\n",
    "    per_domain_accuracy[domain] = {\n",
    "        \"accuracy\": accuracy,\n",
    "        \"source?\": domain in p.domains_source\n",
    "    }\n",
    "\n",
    "# Do an independent accuracy assesment JUST TO BE SURE!\n",
    "# _source_test_label_accuracy = independent_accuracy_assesment(model, datasets.source.processed.test, p.device)\n",
    "# _target_test_label_accuracy = independent_accuracy_assesment(model, datasets.target.processed.test, p.device)\n",
    "# _source_val_label_accuracy = independent_accuracy_assesment(model, datasets.source.processed.val, p.device)\n",
    "# _target_val_label_accuracy = independent_accuracy_assesment(model, datasets.target.processed.val, p.device)\n",
    "\n",
    "# assert(_source_test_label_accuracy == source_test_label_accuracy)\n",
    "# assert(_target_test_label_accuracy == target_test_label_accuracy)\n",
    "# assert(_source_val_label_accuracy == source_val_label_accuracy)\n",
    "# assert(_target_val_label_accuracy == target_val_label_accuracy)\n",
    "\n",
    "experiment = {\n",
    "    \"experiment_name\": p.experiment_name,\n",
    "    \"parameters\": dict(p),\n",
    "    \"results\": {\n",
    "        \"source_test_label_accuracy\": source_test_label_accuracy,\n",
    "        \"source_test_label_loss\": source_test_label_loss,\n",
    "        \"target_test_label_accuracy\": target_test_label_accuracy,\n",
    "        \"target_test_label_loss\": target_test_label_loss,\n",
    "        \"source_val_label_accuracy\": source_val_label_accuracy,\n",
    "        \"source_val_label_loss\": source_val_label_loss,\n",
    "        \"target_val_label_accuracy\": target_val_label_accuracy,\n",
    "        \"target_val_label_loss\": target_val_label_loss,\n",
    "        \"total_epochs_trained\": total_epochs_trained,\n",
    "        \"total_experiment_time_secs\": total_experiment_time_secs,\n",
    "        \"confusion\": confusion,\n",
    "        \"per_domain_accuracy\": per_domain_accuracy,\n",
    "    },\n",
    "    \"history\": history,\n",
    "    \"dataset_metrics\": get_dataset_metrics(datasets, \"ptn\"),\n",
    "}"
   ]
  },
  {
   "cell_type": "code",
   "execution_count": 25,
   "id": "54a21829",
   "metadata": {
    "execution": {
     "iopub.execute_input": "2022-03-24T12:42:46.300045Z",
     "iopub.status.busy": "2022-03-24T12:42:46.299595Z",
     "iopub.status.idle": "2022-03-24T12:42:46.422532Z",
     "shell.execute_reply": "2022-03-24T12:42:46.422907Z"
    },
    "papermill": {
     "duration": 0.159864,
     "end_time": "2022-03-24T12:42:46.423017",
     "exception": false,
     "start_time": "2022-03-24T12:42:46.263153",
     "status": "completed"
    },
    "tags": []
   },
   "outputs": [
    {
     "data": {
      "image/png": "[encoded data removed]",
      "text/plain": [
       "<Figure size 1080x504 with 1 Axes>"
      ]
     },
     "metadata": {
      "needs_background": "light"
     },
     "output_type": "display_data"
    }
   ],
   "source": [
    "ax = get_loss_curve(experiment)\n",
    "plt.show()"
   ]
  },
  {
   "cell_type": "code",
   "execution_count": 26,
   "id": "fd8a0f60",
   "metadata": {
    "execution": {
     "iopub.execute_input": "2022-03-24T12:42:46.501916Z",
     "iopub.status.busy": "2022-03-24T12:42:46.500699Z",
     "iopub.status.idle": "2022-03-24T12:42:46.640000Z",
     "shell.execute_reply": "2022-03-24T12:42:46.639727Z"
    },
    "papermill": {
     "duration": 0.178091,
     "end_time": "2022-03-24T12:42:46.640057",
     "exception": false,
     "start_time": "2022-03-24T12:42:46.461966",
     "status": "completed"
    },
    "tags": []
   },
   "outputs": [
    {
     "data": {
      "text/plain": [
       "<AxesSubplot:title={'center':'Results'}>"
      ]
     },
     "execution_count": 26,
     "metadata": {},
     "output_type": "execute_result"
    },
    {
     "data": {
      "image/png": "[encoded data removed]",
      "text/plain": [
       "<Figure size 1080x504 with 1 Axes>"
      ]
     },
     "metadata": {
      "needs_background": "light"
     },
     "output_type": "display_data"
    }
   ],
   "source": [
    "get_results_table(experiment)"
   ]
  },
  {
   "cell_type": "code",
   "execution_count": 27,
   "id": "cf8dc689",
   "metadata": {
    "execution": {
     "iopub.execute_input": "2022-03-24T12:42:46.718292Z",
     "iopub.status.busy": "2022-03-24T12:42:46.718023Z",
     "iopub.status.idle": "2022-03-24T12:42:46.874913Z",
     "shell.execute_reply": "2022-03-24T12:42:46.875289Z"
    },
    "papermill": {
     "duration": 0.197002,
     "end_time": "2022-03-24T12:42:46.875398",
     "exception": false,
     "start_time": "2022-03-24T12:42:46.678396",
     "status": "completed"
    },
    "tags": []
   },
   "outputs": [
    {
     "data": {
      "text/plain": [
       "<AxesSubplot:title={'center':'Per Domain Validation Accuracy'}, xlabel='domain'>"
      ]
     },
     "execution_count": 27,
     "metadata": {},
     "output_type": "execute_result"
    },
    {
     "data": {
      "image/png": "[encoded data removed]",
      "text/plain": [
       "<Figure size 1080x504 with 1 Axes>"
      ]
     },
     "metadata": {
      "needs_background": "light"
     },
     "output_type": "display_data"
    }
   ],
   "source": [
    "get_domain_accuracies(experiment)"
   ]
  },
  {
   "cell_type": "code",
   "execution_count": 28,
   "id": "a74ae082",
   "metadata": {
    "execution": {
     "iopub.execute_input": "2022-03-24T12:42:46.958475Z",
     "iopub.status.busy": "2022-03-24T12:42:46.957927Z",
     "iopub.status.idle": "2022-03-24T12:42:46.973911Z",
     "shell.execute_reply": "2022-03-24T12:42:46.973483Z"
    },
    "papermill": {
     "duration": 0.056684,
     "end_time": "2022-03-24T12:42:46.974012",
     "exception": false,
     "start_time": "2022-03-24T12:42:46.917328",
     "status": "completed"
    },
    "tags": []
   },
   "outputs": [
    {
     "name": "stdout",
     "output_type": "stream",
     "text": [
      "Source Test Label Accuracy: 0.7276822916666666 Target Test Label Accuracy: 0.73419921875\n",
      "Source Val Label Accuracy: 0.7305403645833334 Target Val Label Accuracy: 0.7335807291666666\n"
     ]
    }
   ],
   "source": [
    "print(\"Source Test Label Accuracy:\", experiment[\"results\"][\"source_test_label_accuracy\"], \"Target Test Label Accuracy:\", experiment[\"results\"][\"target_test_label_accuracy\"])\n",
    "print(\"Source Val Label Accuracy:\", experiment[\"results\"][\"source_val_label_accuracy\"], \"Target Val Label Accuracy:\", experiment[\"results\"][\"target_val_label_accuracy\"])"
   ]
  },
  {
   "cell_type": "code",
   "execution_count": 29,
   "id": "dacca602",
   "metadata": {
    "execution": {
     "iopub.execute_input": "2022-03-24T12:42:47.055160Z",
     "iopub.status.busy": "2022-03-24T12:42:47.054910Z",
     "iopub.status.idle": "2022-03-24T12:42:47.066942Z",
     "shell.execute_reply": "2022-03-24T12:42:47.066693Z"
    },
    "papermill": {
     "duration": 0.051194,
     "end_time": "2022-03-24T12:42:47.066991",
     "exception": false,
     "start_time": "2022-03-24T12:42:47.015797",
     "status": "completed"
    },
    "tags": [
     "experiment_json"
    ]
   },
   "outputs": [
    {
     "data": {
      "text/plain": [
       "'{\"experiment_name\": \"tl_1v2:oracle.run1-oracle.run2\", \"parameters\": {\"experiment_name\": \"tl_1v2:oracle.run1-oracle.run2\", \"device\": \"cuda\", \"lr\": 0.0001, \"n_shot\": 3, \"n_query\": 2, \"train_k_factor\": 3, \"val_k_factor\": 2, \"test_k_factor\": 2, \"torch_default_dtype\": \"torch.float32\", \"n_epoch\": 50, \"patience\": 3, \"criteria_for_best\": \"target_accuracy\", \"x_net\": [{\"class\": \"nnReshape\", \"kargs\": {\"shape\": [-1, 1, 2, 256]}}, {\"class\": \"Conv2d\", \"kargs\": {\"in_channels\": 1, \"out_channels\": 256, \"kernel_size\": [1, 7], \"bias\": false, \"padding\": [0, 3]}}, {\"class\": \"ReLU\", \"kargs\": {\"inplace\": true}}, {\"class\": \"BatchNorm2d\", \"kargs\": {\"num_features\": 256}}, {\"class\": \"Conv2d\", \"kargs\": {\"in_channels\": 256, \"out_channels\": 80, \"kernel_size\": [2, 7], \"bias\": true, \"padding\": [0, 3]}}, {\"class\": \"ReLU\", \"kargs\": {\"inplace\": true}}, {\"class\": \"BatchNorm2d\", \"kargs\": {\"num_features\": 80}}, {\"class\": \"Flatten\", \"kargs\": {}}, {\"class\": \"Linear\", \"kargs\": {\"in_features\": 20480, \"out_features\": 256}}, {\"class\": \"ReLU\", \"kargs\": {\"inplace\": true}}, {\"class\": \"BatchNorm1d\", \"kargs\": {\"num_features\": 256}}, {\"class\": \"Linear\", \"kargs\": {\"in_features\": 256, \"out_features\": 256}}], \"NUM_LOGS_PER_EPOCH\": 10, \"BEST_MODEL_PATH\": \"./best_model.pth\", \"n_way\": 16, \"datasets\": [{\"labels\": [\"3123D52\", \"3123D65\", \"3123D79\", \"3123D80\", \"3123D54\", \"3123D70\", \"3123D7B\", \"3123D89\", \"3123D58\", \"3123D76\", \"3123D7D\", \"3123EFE\", \"3123D64\", \"3123D78\", \"3123D7E\", \"3124E4A\"], \"domains\": [32, 38, 8, 44, 14, 50, 20, 26], \"num_examples_per_domain_per_label\": 10000, \"pickle_path\": \"/mnt/wd500GB/CSC500/csc500-main/datasets/oracle.Run1_10kExamples_stratified_ds.2022A.pkl\", \"source_or_target_dataset\": \"target\", \"x_transforms\": [\"unit_mag\"], \"episode_transforms\": [], \"domain_prefix\": \"ORACLE.run1_\"}, {\"labels\": [\"3123D52\", \"3123D65\", \"3123D79\", \"3123D80\", \"3123D54\", \"3123D70\", \"3123D7B\", \"3123D89\", \"3123D58\", \"3123D76\", \"3123D7D\", \"3123EFE\", \"3123D64\", \"3123D78\", \"3123D7E\", \"3124E4A\"], \"domains\": [32, 38, 8, 44, 14, 50, 20, 26], \"num_examples_per_domain_per_label\": 10000, \"pickle_path\": \"/mnt/wd500GB/CSC500/csc500-main/datasets/oracle.Run2_10kExamples_stratified_ds.2022A.pkl\", \"source_or_target_dataset\": \"source\", \"x_transforms\": [\"unit_mag\"], \"episode_transforms\": [], \"domain_prefix\": \"ORACLE.run2_\"}], \"dataset_seed\": 420, \"seed\": 420, \"x_shape\": [2, 256], \"domains_source\": [\"ORACLE.run2_32\", \"ORACLE.run2_38\", \"ORACLE.run2_8\", \"ORACLE.run2_44\", \"ORACLE.run2_14\", \"ORACLE.run2_50\", \"ORACLE.run2_20\", \"ORACLE.run2_26\"], \"domains_target\": [\"ORACLE.run1_32\", \"ORACLE.run1_38\", \"ORACLE.run1_8\", \"ORACLE.run1_44\", \"ORACLE.run1_14\", \"ORACLE.run1_50\", \"ORACLE.run1_20\", \"ORACLE.run1_26\"]}, \"results\": {\"source_test_label_accuracy\": 0.7276822916666666, \"source_test_label_loss\": 0.7708064317703247, \"target_test_label_accuracy\": 0.73419921875, \"target_test_label_loss\": 0.7392659187316895, \"source_val_label_accuracy\": 0.7305403645833334, \"source_val_label_loss\": 0.7672650218009949, \"target_val_label_accuracy\": 0.7335807291666666, \"target_val_label_loss\": 0.7422654628753662, \"total_epochs_trained\": 10, \"total_experiment_time_secs\": 9305.351177453995, \"confusion\": {\"ORACLE.run2_14\": {\"15\": {\"15\": 1192, \"7\": 8}, \"5\": {\"5\": 712, \"4\": 266, \"3\": 67, \"2\": 63, \"14\": 3, \"1\": 89}, \"7\": {\"7\": 1196, \"15\": 3, \"1\": 1}, \"4\": {\"4\": 779, \"5\": 284, \"2\": 51, \"1\": 27, \"3\": 56, \"14\": 3}, \"10\": {\"10\": 1159, \"0\": 41}, \"11\": {\"11\": 1181, \"12\": 19}, \"12\": {\"12\": 626, \"9\": 143, \"10\": 30, \"11\": 279, \"0\": 88, \"3\": 3, \"8\": 31}, \"0\": {\"0\": 1194, \"3\": 1, \"10\": 5}, \"14\": {\"2\": 170, \"6\": 87, \"14\": 894, \"3\": 34, \"4\": 6, \"5\": 5, \"13\": 3, \"0\": 1}, \"8\": {\"8\": 1199, \"9\": 1}, \"13\": {\"13\": 851, \"6\": 320, \"2\": 27, \"14\": 2}, \"6\": {\"6\": 853, \"14\": 58, \"13\": 255, \"2\": 31, \"4\": 3}, \"1\": {\"1\": 1092, \"5\": 78, \"4\": 29, \"3\": 1}, \"3\": {\"3\": 1043, \"5\": 58, \"4\": 66, \"14\": 16, \"2\": 15, \"1\": 2}, \"9\": {\"9\": 1195, \"12\": 4, \"11\": 1}, \"2\": {\"2\": 616, \"14\": 175, \"6\": 48, \"3\": 71, \"5\": 136, \"4\": 70, \"13\": 77, \"1\": 1, \"15\": 5, \"7\": 1}}, \"ORACLE.run2_20\": {\"4\": {\"4\": 1094, \"0\": 12, \"2\": 6, \"10\": 4, \"12\": 27, \"8\": 14, \"5\": 17, \"3\": 15, \"9\": 6, \"7\": 3, \"14\": 1, \"1\": 1}, \"10\": {\"10\": 1067, \"14\": 67, \"8\": 32, \"7\": 6, \"6\": 14, \"4\": 13, \"3\": 1}, \"15\": {\"15\": 532, \"5\": 43, \"12\": 80, \"13\": 249, \"2\": 76, \"1\": 108, \"9\": 62, \"0\": 47, \"4\": 1, \"3\": 2}, \"0\": {\"0\": 806, \"1\": 78, \"13\": 7, \"4\": 40, \"12\": 78, \"5\": 104, \"15\": 78, \"9\": 3, \"2\": 3, \"3\": 3}, \"6\": {\"6\": 1100, \"8\": 12, \"14\": 72, \"7\": 4, \"10\": 12}, \"3\": {\"3\": 567, \"7\": 133, \"12\": 31, \"2\": 174, \"9\": 111, \"5\": 146, \"10\": 6, \"8\": 6, \"4\": 16, \"1\": 3, \"15\": 7}, \"7\": {\"7\": 994, \"5\": 18, \"3\": 84, \"8\": 85, \"2\": 6, \"10\": 5, \"9\": 1, \"6\": 5, \"4\": 1, \"14\": 1}, \"2\": {\"3\": 172, \"9\": 290, \"5\": 176, \"2\": 384, \"15\": 91, \"12\": 45, \"13\": 20, \"1\": 13, \"7\": 3, \"4\": 3, \"0\": 3}, \"8\": {\"7\": 130, \"8\": 832, \"14\": 134, \"10\": 43, \"3\": 8, \"4\": 29, \"6\": 21, \"5\": 3}, \"11\": {\"11\": 1199, \"2\": 1}, \"14\": {\"14\": 882, \"10\": 87, \"8\": 122, \"6\": 108, \"7\": 1}, \"12\": {\"2\": 54, \"12\": 517, \"4\": 25, \"1\": 215, \"9\": 138, \"15\": 69, \"5\": 98, \"0\": 56, \"3\": 25, \"13\": 3}, \"13\": {\"13\": 909, \"5\": 4, \"15\": 252, \"2\": 19, \"1\": 7, \"12\": 1, \"0\": 2, \"9\": 6}, \"9\": {\"2\": 302, \"9\": 473, \"15\": 63, \"12\": 130, \"5\": 63, \"3\": 122, \"1\": 31, \"4\": 5, \"13\": 8, \"0\": 2, \"8\": 1}, \"5\": {\"2\": 158, \"5\": 483, \"3\": 182, \"12\": 87, \"15\": 64, \"4\": 27, \"13\": 12, \"1\": 17, \"0\": 95, \"9\": 36, \"7\": 36, \"8\": 3}, \"1\": {\"1\": 683, \"0\": 71, \"12\": 251, \"5\": 8, \"15\": 109, \"9\": 43, \"4\": 5, \"2\": 18, \"13\": 11, \"3\": 1}}, \"ORACLE.run2_50\": {\"5\": {\"6\": 63, \"4\": 308, \"5\": 640, \"7\": 82, \"13\": 48, \"10\": 49, \"1\": 7, \"0\": 3}, \"12\": {\"12\": 1115, \"9\": 39, \"11\": 10, \"14\": 36}, \"14\": {\"14\": 1180, \"12\": 19, \"11\": 1}, \"4\": {\"4\": 656, \"5\": 303, \"6\": 159, \"1\": 61, \"7\": 12, \"10\": 5, \"13\": 2, \"15\": 2}, \"13\": {\"13\": 709, \"7\": 302, \"10\": 149, \"5\": 39, \"4\": 1}, \"10\": {\"10\": 918, \"5\": 29, \"0\": 18, \"13\": 183, \"7\": 49, \"4\": 3}, \"9\": {\"9\": 1139, \"12\": 46, \"11\": 15}, \"15\": {\"15\": 1092, \"6\": 13, \"11\": 46, \"1\": 49}, \"6\": {\"6\": 800, \"0\": 2, \"1\": 193, \"5\": 47, \"15\": 13, \"4\": 142, \"7\": 1, \"10\": 2}, \"2\": {\"2\": 1143, \"0\": 57}, \"0\": {\"0\": 1093, \"10\": 17, \"2\": 86, \"4\": 1, \"5\": 2, \"6\": 1}, \"11\": {\"11\": 1109, \"15\": 44, \"12\": 13, \"9\": 21, \"14\": 13}, \"3\": {\"3\": 1158, \"8\": 42}, \"8\": {\"8\": 1162, \"3\": 38}, \"7\": {\"13\": 384, \"7\": 630, \"10\": 77, \"5\": 88, \"4\": 20, \"6\": 1}, \"1\": {\"1\": 915, \"6\": 200, \"15\": 35, \"4\": 41, \"5\": 7, \"11\": 1, \"0\": 1}}, \"ORACLE.run2_26\": {\"7\": {\"3\": 72, \"2\": 390, \"7\": 393, \"8\": 123, \"15\": 58, \"5\": 49, \"9\": 38, \"4\": 70, \"0\": 3, \"13\": 2, \"10\": 2}, \"6\": {\"6\": 906, \"9\": 137, \"10\": 35, \"14\": 4, \"8\": 29, \"13\": 56, \"5\": 29, \"0\": 4}, \"14\": {\"14\": 406, \"0\": 207, \"1\": 280, \"10\": 156, \"2\": 5, \"8\": 88, \"4\": 50, \"6\": 2, \"7\": 4, \"5\": 1, \"9\": 1}, \"15\": {\"2\": 89, \"15\": 716, \"7\": 110, \"3\": 213, \"10\": 1, \"4\": 46, \"0\": 1, \"9\": 10, \"8\": 12, \"13\": 2}, \"5\": {\"5\": 534, \"13\": 277, \"7\": 86, \"9\": 86, \"2\": 62, \"6\": 82, \"15\": 2, \"8\": 51, \"10\": 9, \"4\": 1, \"3\": 10}, \"10\": {\"0\": 235, \"10\": 421, \"14\": 171, \"4\": 83, \"2\": 8, \"1\": 74, \"8\": 107, \"6\": 75, \"15\": 5, \"12\": 4, \"9\": 9, \"5\": 4, \"7\": 3, \"3\": 1}, \"4\": {\"15\": 45, \"8\": 45, \"4\": 714, \"2\": 67, \"14\": 50, \"7\": 52, \"0\": 134, \"3\": 56, \"10\": 19, \"1\": 18}, \"11\": {\"11\": 1199, \"12\": 1}, \"13\": {\"13\": 878, \"5\": 182, \"9\": 105, \"7\": 3, \"6\": 29, \"8\": 2, \"2\": 1}, \"2\": {\"7\": 376, \"2\": 358, \"3\": 114, \"15\": 96, \"8\": 94, \"4\": 92, \"5\": 33, \"9\": 25, \"10\": 2, \"14\": 3, \"0\": 6, \"1\": 1}, \"0\": {\"4\": 139, \"8\": 93, \"14\": 226, \"0\": 445, \"10\": 189, \"1\": 72, \"3\": 2, \"9\": 5, \"15\": 7, \"2\": 13, \"7\": 8, \"6\": 1}, \"12\": {\"12\": 1197, \"11\": 3}, \"3\": {\"3\": 701, \"15\": 187, \"2\": 136, \"4\": 70, \"7\": 104, \"5\": 2}, \"9\": {\"2\": 21, \"9\": 701, \"5\": 76, \"7\": 38, \"6\": 140, \"8\": 104, \"13\": 111, \"15\": 6, \"10\": 3}, \"8\": {\"8\": 530, \"7\": 111, \"14\": 84, \"10\": 84, \"9\": 117, \"2\": 88, \"0\": 77, \"5\": 40, \"4\": 37, \"6\": 20, \"1\": 2, \"13\": 2, \"15\": 8}, \"1\": {\"1\": 763, \"14\": 297, \"0\": 54, \"10\": 58, \"4\": 18, \"8\": 7, \"2\": 2, \"7\": 1}}, \"ORACLE.run2_32\": {\"7\": {\"7\": 727, \"4\": 99, \"11\": 223, \"13\": 122, \"0\": 12, \"2\": 14, \"5\": 3}, \"2\": {\"2\": 1004, \"7\": 17, \"5\": 58, \"14\": 68, \"0\": 19, \"4\": 21, \"11\": 12, \"13\": 1}, \"5\": {\"4\": 123, \"5\": 523, \"8\": 147, \"0\": 161, \"2\": 94, \"13\": 52, \"7\": 15, \"14\": 73, \"11\": 9, \"3\": 3}, \"6\": {\"6\": 1200}, \"13\": {\"13\": 711, \"7\": 99, \"5\": 20, \"4\": 252, \"0\": 25, \"11\": 39, \"3\": 18, \"8\": 36}, \"4\": {\"13\": 239, \"4\": 607, \"7\": 84, \"8\": 27, \"5\": 100, \"0\": 81, \"11\": 40, \"2\": 22}, \"3\": {\"3\": 1157, \"8\": 13, \"13\": 29, \"11\": 1}, \"0\": {\"8\": 67, \"0\": 678, \"4\": 98, \"5\": 164, \"11\": 130, \"2\": 17, \"13\": 23, \"14\": 10, \"7\": 13}, \"9\": {\"9\": 1171, \"2\": 3, \"14\": 23, \"12\": 3}, \"12\": {\"12\": 1200}, \"8\": {\"8\": 972, \"13\": 48, \"0\": 58, \"5\": 62, \"3\": 18, \"4\": 34, \"15\": 4, \"11\": 4}, \"14\": {\"14\": 1057, \"2\": 76, \"5\": 35, \"0\": 27, \"11\": 5}, \"15\": {\"15\": 1196, \"8\": 4}, \"11\": {\"11\": 697, \"0\": 150, \"2\": 21, \"7\": 212, \"4\": 47, \"13\": 57, \"14\": 3, \"5\": 10, \"8\": 3}, \"10\": {\"10\": 1193, \"1\": 7}, \"1\": {\"1\": 1184, \"10\": 16}}, \"ORACLE.run2_44\": {\"11\": {\"11\": 1175, \"6\": 21, \"7\": 3, \"9\": 1}, \"7\": {\"9\": 308, \"2\": 222, \"7\": 652, \"6\": 15, \"1\": 3}, \"6\": {\"6\": 1108, \"9\": 39, \"7\": 27, \"11\": 4, \"13\": 19, \"2\": 3}, \"12\": {\"12\": 857, \"1\": 293, \"10\": 3, \"3\": 47}, \"4\": {\"4\": 1121, \"13\": 10, \"15\": 21, \"14\": 48}, \"13\": {\"13\": 1157, \"6\": 13, \"4\": 29, \"9\": 1}, \"8\": {\"0\": 471, \"8\": 709, \"5\": 13, \"15\": 5, \"14\": 2}, \"5\": {\"5\": 1094, \"8\": 12, \"14\": 85, \"15\": 3, \"0\": 6}, \"14\": {\"14\": 878, \"5\": 115, \"15\": 135, \"4\": 71, \"8\": 1}, \"3\": {\"3\": 1046, \"1\": 100, \"12\": 54}, \"10\": {\"10\": 1145, \"12\": 32, \"1\": 23}, \"1\": {\"1\": 774, \"10\": 5, \"12\": 301, \"3\": 115, \"7\": 3, \"9\": 1, \"2\": 1}, \"2\": {\"2\": 710, \"7\": 199, \"9\": 285, \"1\": 3, \"6\": 1, \"3\": 2}, \"15\": {\"15\": 1012, \"14\": 125, \"4\": 41, \"8\": 15, \"0\": 3, \"5\": 4}, \"9\": {\"9\": 549, \"6\": 30, \"7\": 278, \"2\": 342, \"1\": 1}, \"0\": {\"0\": 704, \"8\": 493, \"5\": 2, \"14\": 1}}, \"ORACLE.run2_8\": {\"10\": {\"10\": 762, \"0\": 193, \"14\": 72, \"5\": 145, \"13\": 28}, \"6\": {\"6\": 599, \"7\": 185, \"4\": 357, \"14\": 42, \"2\": 8, \"13\": 7, \"0\": 1, \"8\": 1}, \"13\": {\"13\": 910, \"14\": 132, \"1\": 86, \"6\": 11, \"10\": 45, \"0\": 6, \"5\": 9, \"8\": 1}, \"3\": {\"3\": 1115, \"12\": 82, \"15\": 3}, \"9\": {\"9\": 1200}, \"1\": {\"13\": 62, \"1\": 1122, \"5\": 15, \"10\": 1}, \"5\": {\"5\": 1016, \"10\": 153, \"1\": 20, \"14\": 2, \"13\": 6, \"0\": 3}, \"11\": {\"8\": 259, \"15\": 149, \"11\": 687, \"12\": 104, \"13\": 1}, \"4\": {\"4\": 518, \"6\": 338, \"7\": 251, \"2\": 78, \"14\": 13, \"0\": 2}, \"14\": {\"10\": 46, \"6\": 43, \"0\": 173, \"14\": 816, \"13\": 110, \"4\": 12}, \"12\": {\"12\": 993, \"3\": 71, \"15\": 110, \"11\": 26}, \"7\": {\"7\": 598, \"2\": 116, \"6\": 210, \"4\": 271, \"8\": 5}, \"0\": {\"0\": 868, \"10\": 165, \"14\": 154, \"13\": 5, \"6\": 1, \"4\": 6, \"5\": 1}, \"15\": {\"15\": 719, \"12\": 179, \"11\": 162, \"8\": 127, \"3\": 10, \"4\": 1, \"7\": 2}, \"2\": {\"2\": 991, \"4\": 78, \"7\": 126, \"6\": 5}, \"8\": {\"8\": 1033, \"7\": 3, \"15\": 68, \"11\": 93, \"14\": 1, \"6\": 1, \"13\": 1}}, \"ORACLE.run2_38\": {\"4\": {\"4\": 1134, \"12\": 57, \"7\": 7, \"10\": 2}, \"7\": {\"5\": 126, \"7\": 692, \"10\": 279, \"13\": 14, \"8\": 79, \"0\": 2, \"3\": 5, \"15\": 3}, \"12\": {\"14\": 21, \"12\": 1165, \"4\": 14}, \"10\": {\"7\": 373, \"5\": 23, \"10\": 720, \"13\": 17, \"3\": 41, \"8\": 15, \"0\": 9, \"4\": 1, \"15\": 1}, \"0\": {\"10\": 18, \"0\": 1040, \"3\": 123, \"6\": 4, \"15\": 6, \"5\": 2, \"7\": 2, \"8\": 3, \"9\": 2}, \"1\": {\"1\": 1150, \"15\": 43, \"5\": 1, \"8\": 3, \"13\": 3}, \"5\": {\"15\": 138, \"8\": 359, \"7\": 134, \"5\": 535, \"13\": 20, \"3\": 2, \"1\": 3, \"10\": 8, \"0\": 1}, \"15\": {\"8\": 209, \"15\": 627, \"5\": 169, \"1\": 138, \"3\": 9, \"13\": 16, \"0\": 12, \"6\": 11, \"7\": 6, \"9\": 3}, \"9\": {\"6\": 290, \"9\": 892, \"3\": 12, \"0\": 5, \"13\": 1}, \"11\": {\"11\": 1132, \"12\": 12, \"14\": 44, \"4\": 6, \"13\": 1, \"2\": 5}, \"14\": {\"2\": 264, \"11\": 35, \"14\": 804, \"12\": 55, \"5\": 12, \"7\": 16, \"13\": 8, \"10\": 4, \"8\": 2}, \"6\": {\"6\": 984, \"9\": 213, \"0\": 1, \"3\": 1, \"15\": 1}, \"8\": {\"7\": 100, \"5\": 373, \"15\": 184, \"8\": 455, \"13\": 59, \"10\": 11, \"1\": 8, \"3\": 10}, \"3\": {\"8\": 51, \"3\": 574, \"7\": 27, \"0\": 211, \"13\": 172, \"15\": 20, \"10\": 73, \"5\": 17, \"9\": 41, \"6\": 14}, \"2\": {\"2\": 1097, \"14\": 102, \"13\": 1}, \"13\": {\"13\": 670, \"3\": 146, \"10\": 33, \"8\": 126, \"5\": 63, \"1\": 45, \"14\": 4, \"15\": 46, \"2\": 29, \"0\": 6, \"7\": 24, \"6\": 4, \"9\": 4}}, \"ORACLE.run1_14\": {\"15\": {\"15\": 1174, \"7\": 25, \"5\": 1}, \"5\": {\"5\": 806, \"2\": 34, \"4\": 221, \"1\": 119, \"7\": 4, \"3\": 15, \"14\": 1}, \"7\": {\"7\": 1183, \"15\": 13, \"1\": 3, \"5\": 1}, \"4\": {\"5\": 143, \"4\": 909, \"3\": 108, \"2\": 32, \"1\": 6, \"13\": 1, \"14\": 1}, \"10\": {\"10\": 1151, \"0\": 47, \"11\": 2}, \"11\": {\"11\": 1027, \"0\": 89, \"9\": 73, \"10\": 11}, \"12\": {\"12\": 1198, \"9\": 2}, \"0\": {\"0\": 1087, \"3\": 15, \"11\": 22, \"10\": 76}, \"14\": {\"6\": 56, \"14\": 961, \"13\": 80, \"2\": 84, \"3\": 16, \"4\": 3}, \"8\": {\"8\": 1200}, \"13\": {\"13\": 408, \"6\": 534, \"2\": 98, \"14\": 153, \"5\": 5, \"3\": 1, \"4\": 1}, \"6\": {\"13\": 431, \"6\": 690, \"2\": 39, \"14\": 40}, \"1\": {\"1\": 1082, \"5\": 104, \"4\": 13, \"7\": 1}, \"3\": {\"3\": 1040, \"14\": 14, \"4\": 122, \"2\": 7, \"10\": 1, \"5\": 9, \"0\": 7}, \"9\": {\"9\": 1194, \"12\": 2, \"11\": 4}, \"2\": {\"14\": 189, \"2\": 617, \"5\": 109, \"4\": 74, \"13\": 67, \"15\": 27, \"3\": 60, \"6\": 57}}, \"ORACLE.run1_20\": {\"4\": {\"4\": 1026, \"3\": 37, \"8\": 94, \"12\": 5, \"7\": 3, \"10\": 28, \"0\": 4, \"5\": 3}, \"10\": {\"10\": 1069, \"4\": 32, \"8\": 27, \"14\": 68, \"6\": 3, \"7\": 1}, \"15\": {\"15\": 781, \"1\": 208, \"12\": 26, \"13\": 30, \"5\": 90, \"0\": 61, \"2\": 1, \"9\": 3}, \"0\": {\"15\": 123, \"0\": 637, \"5\": 298, \"3\": 33, \"4\": 7, \"12\": 28, \"2\": 13, \"1\": 48, \"7\": 4, \"13\": 6, \"8\": 2, \"9\": 1}, \"6\": {\"6\": 1075, \"14\": 114, \"8\": 6, \"7\": 2, \"10\": 3}, \"3\": {\"3\": 569, \"9\": 189, \"2\": 62, \"12\": 224, \"4\": 40, \"5\": 53, \"15\": 2, \"7\": 25, \"1\": 19, \"0\": 11, \"10\": 3, \"8\": 3}, \"7\": {\"7\": 956, \"2\": 132, \"9\": 25, \"4\": 6, \"8\": 38, \"12\": 2, \"3\": 31, \"6\": 6, \"13\": 2, \"10\": 1, \"0\": 1}, \"2\": {\"2\": 595, \"9\": 291, \"7\": 99, \"3\": 83, \"13\": 57, \"12\": 53, \"15\": 3, \"0\": 1, \"5\": 6, \"1\": 12}, \"8\": {\"8\": 950, \"4\": 120, \"6\": 7, \"7\": 65, \"10\": 15, \"14\": 36, \"3\": 5, \"0\": 1, \"12\": 1}, \"11\": {\"11\": 1200}, \"14\": {\"14\": 1003, \"6\": 106, \"8\": 29, \"10\": 62}, \"12\": {\"2\": 37, \"1\": 160, \"3\": 207, \"5\": 147, \"12\": 476, \"9\": 126, \"4\": 7, \"0\": 14, \"15\": 21, \"13\": 4, \"7\": 1}, \"13\": {\"13\": 1116, \"9\": 8, \"3\": 1, \"2\": 52, \"15\": 14, \"12\": 4, \"7\": 1, \"1\": 4}, \"9\": {\"2\": 308, \"3\": 208, \"9\": 505, \"12\": 112, \"15\": 3, \"7\": 28, \"1\": 16, \"4\": 1, \"0\": 2, \"13\": 11, \"8\": 1, \"5\": 5}, \"5\": {\"15\": 79, \"5\": 488, \"0\": 238, \"3\": 41, \"9\": 11, \"1\": 179, \"12\": 152, \"2\": 7, \"13\": 3, \"4\": 2}, \"1\": {\"15\": 232, \"1\": 545, \"5\": 216, \"12\": 143, \"0\": 26, \"9\": 15, \"3\": 15, \"2\": 5, \"13\": 3}}, \"ORACLE.run1_50\": {\"5\": {\"5\": 447, \"6\": 88, \"13\": 191, \"7\": 281, \"4\": 142, \"1\": 47, \"10\": 3, \"15\": 1}, \"12\": {\"12\": 1070, \"9\": 68, \"14\": 59, \"11\": 3}, \"14\": {\"14\": 1170, \"12\": 26, \"11\": 3, \"9\": 1}, \"4\": {\"7\": 34, \"4\": 611, \"15\": 148, \"6\": 95, \"1\": 165, \"5\": 127, \"13\": 20}, \"13\": {\"13\": 792, \"5\": 156, \"7\": 189, \"10\": 5, \"6\": 45, \"4\": 8, \"0\": 3, \"1\": 2}, \"10\": {\"10\": 1126, \"0\": 26, \"13\": 15, \"7\": 12, \"8\": 19, \"5\": 2}, \"9\": {\"9\": 937, \"11\": 174, \"12\": 87, \"15\": 1, \"14\": 1}, \"15\": {\"15\": 939, \"4\": 79, \"1\": 146, \"6\": 10, \"11\": 26}, \"6\": {\"6\": 889, \"5\": 35, \"4\": 91, \"13\": 59, \"15\": 20, \"1\": 95, \"7\": 9, \"0\": 2}, \"2\": {\"2\": 1115, \"0\": 85}, \"0\": {\"0\": 1045, \"2\": 116, \"10\": 35, \"13\": 3, \"5\": 1}, \"11\": {\"9\": 120, \"11\": 1022, \"15\": 29, \"12\": 15, \"14\": 11, \"1\": 3}, \"3\": {\"3\": 1178, \"8\": 22}, \"8\": {\"8\": 1167, \"10\": 20, \"3\": 13}, \"7\": {\"7\": 775, \"10\": 21, \"5\": 171, \"13\": 223, \"6\": 7, \"4\": 3}, \"1\": {\"15\": 222, \"1\": 759, \"6\": 104, \"4\": 101, \"13\": 1, \"11\": 4, \"5\": 6, \"14\": 2, \"0\": 1}}, \"ORACLE.run1_26\": {\"7\": {\"7\": 616, \"2\": 136, \"3\": 189, \"8\": 80, \"4\": 118, \"0\": 18, \"14\": 12, \"5\": 3, \"9\": 4, \"1\": 6, \"15\": 13, \"10\": 5}, \"6\": {\"6\": 868, \"9\": 151, \"10\": 66, \"8\": 38, \"13\": 10, \"0\": 21, \"15\": 45, \"5\": 1}, \"14\": {\"4\": 225, \"0\": 188, \"1\": 199, \"14\": 462, \"10\": 82, \"8\": 30, \"7\": 14}, \"15\": {\"15\": 519, \"9\": 357, \"5\": 111, \"8\": 59, \"13\": 60, \"6\": 39, \"2\": 31, \"7\": 10, \"10\": 12, \"0\": 2}, \"5\": {\"15\": 147, \"5\": 783, \"9\": 53, \"13\": 150, \"2\": 34, \"8\": 23, \"10\": 2, \"6\": 3, \"7\": 4, \"0\": 1}, \"10\": {\"4\": 60, \"0\": 261, \"14\": 95, \"10\": 497, \"8\": 185, \"6\": 60, \"9\": 15, \"1\": 18, \"15\": 5, \"7\": 3, \"5\": 1}, \"4\": {\"4\": 458, \"14\": 228, \"7\": 88, \"1\": 101, \"10\": 69, \"0\": 164, \"8\": 87, \"3\": 3, \"2\": 2}, \"11\": {\"11\": 1197, \"12\": 3}, \"13\": {\"13\": 869, \"5\": 210, \"9\": 26, \"15\": 71, \"2\": 15, \"6\": 8, \"8\": 1}, \"2\": {\"3\": 385, \"15\": 64, \"8\": 44, \"2\": 447, \"7\": 146, \"9\": 15, \"5\": 89, \"13\": 1, \"4\": 6, \"10\": 1, \"14\": 1, \"0\": 1}, \"0\": {\"4\": 161, \"6\": 14, \"10\": 248, \"0\": 395, \"14\": 214, \"8\": 111, \"7\": 21, \"1\": 24, \"9\": 7, \"3\": 1, \"15\": 4}, \"12\": {\"12\": 1199, \"11\": 1}, \"3\": {\"3\": 738, \"7\": 172, \"2\": 286, \"4\": 4}, \"9\": {\"9\": 465, \"8\": 100, \"15\": 378, \"6\": 135, \"2\": 10, \"0\": 4, \"5\": 52, \"10\": 15, \"13\": 33, \"7\": 7, \"14\": 1}, \"8\": {\"15\": 93, \"9\": 105, \"8\": 467, \"14\": 12, \"7\": 84, \"10\": 145, \"0\": 115, \"6\": 51, \"2\": 27, \"3\": 2, \"4\": 78, \"5\": 19, \"13\": 1, \"1\": 1}, \"1\": {\"14\": 221, \"1\": 746, \"4\": 146, \"10\": 40, \"3\": 2, \"7\": 12, \"0\": 29, \"8\": 4}}, \"ORACLE.run1_32\": {\"7\": {\"7\": 572, \"5\": 140, \"4\": 159, \"13\": 75, \"14\": 165, \"11\": 21, \"2\": 36, \"0\": 29, \"8\": 2, \"3\": 1}, \"2\": {\"2\": 1001, \"4\": 158, \"7\": 9, \"0\": 27, \"14\": 2, \"5\": 2, \"13\": 1}, \"5\": {\"5\": 407, \"13\": 289, \"8\": 73, \"4\": 124, \"14\": 29, \"2\": 24, \"11\": 10, \"3\": 48, \"7\": 141, \"0\": 55}, \"6\": {\"6\": 1200}, \"13\": {\"5\": 272, \"3\": 107, \"7\": 75, \"13\": 575, \"8\": 45, \"4\": 71, \"14\": 27, \"11\": 17, \"0\": 11}, \"4\": {\"4\": 742, \"0\": 22, \"2\": 175, \"7\": 127, \"5\": 97, \"13\": 32, \"14\": 2, \"8\": 3}, \"3\": {\"3\": 1123, \"13\": 46, \"11\": 9, \"7\": 1, \"8\": 7, \"5\": 14}, \"0\": {\"4\": 50, \"0\": 927, \"5\": 42, \"14\": 27, \"2\": 26, \"8\": 90, \"7\": 33, \"13\": 5}, \"9\": {\"9\": 1199, \"12\": 1}, \"12\": {\"12\": 1200}, \"8\": {\"8\": 986, \"5\": 70, \"13\": 71, \"0\": 58, \"4\": 4, \"3\": 5, \"7\": 3, \"14\": 3}, \"14\": {\"7\": 211, \"14\": 495, \"11\": 317, \"0\": 52, \"13\": 34, \"4\": 21, \"5\": 36, \"2\": 16, \"8\": 13, \"3\": 5}, \"15\": {\"15\": 1193, \"8\": 7}, \"11\": {\"11\": 990, \"14\": 166, \"3\": 10, \"13\": 15, \"7\": 13, \"5\": 6}, \"10\": {\"10\": 1187, \"1\": 13}, \"1\": {\"1\": 1182, \"10\": 18}}, \"ORACLE.run1_44\": {\"11\": {\"11\": 1116, \"13\": 63, \"6\": 20, \"7\": 1}, \"7\": {\"7\": 758, \"9\": 230, \"6\": 38, \"2\": 167, \"3\": 4, \"13\": 2, \"1\": 1}, \"6\": {\"6\": 866, \"9\": 101, \"13\": 180, \"11\": 20, \"7\": 33}, \"12\": {\"12\": 963, \"1\": 180, \"10\": 47, \"2\": 2, \"3\": 8}, \"4\": {\"14\": 328, \"4\": 863, \"15\": 9}, \"13\": {\"13\": 829, \"9\": 120, \"6\": 195, \"11\": 44, \"4\": 4, \"7\": 7, \"14\": 1}, \"8\": {\"0\": 373, \"8\": 779, \"15\": 32, \"5\": 16}, \"5\": {\"14\": 31, \"5\": 1032, \"0\": 97, \"15\": 30, \"8\": 6, \"4\": 4}, \"14\": {\"14\": 777, \"15\": 69, \"4\": 319, \"5\": 35}, \"3\": {\"3\": 1099, \"12\": 7, \"1\": 91, \"7\": 2, \"2\": 1}, \"10\": {\"10\": 888, \"12\": 86, \"1\": 120, \"2\": 103, \"7\": 2, \"3\": 1}, \"1\": {\"10\": 89, \"12\": 164, \"1\": 795, \"3\": 116, \"2\": 34, \"7\": 2}, \"2\": {\"9\": 5, \"12\": 1, \"2\": 896, \"10\": 92, \"7\": 145, \"1\": 57, \"3\": 4}, \"15\": {\"15\": 984, \"0\": 87, \"14\": 76, \"4\": 9, \"5\": 25, \"8\": 19}, \"9\": {\"7\": 268, \"6\": 88, \"9\": 680, \"13\": 150, \"4\": 2, \"2\": 12}, \"0\": {\"0\": 724, \"8\": 368, \"5\": 56, \"15\": 52}}, \"ORACLE.run1_8\": {\"10\": {\"5\": 25, \"10\": 826, \"14\": 245, \"13\": 72, \"4\": 28, \"0\": 2, \"1\": 2}, \"6\": {\"4\": 130, \"6\": 753, \"7\": 233, \"0\": 46, \"14\": 4, \"13\": 30, \"8\": 4}, \"13\": {\"0\": 323, \"4\": 172, \"13\": 434, \"10\": 105, \"14\": 113, \"6\": 39, \"7\": 10, \"1\": 2, \"5\": 2}, \"3\": {\"3\": 1060, \"2\": 87, \"12\": 44, \"15\": 9}, \"9\": {\"9\": 1200}, \"1\": {\"1\": 902, \"11\": 238, \"14\": 38, \"5\": 20, \"10\": 2}, \"5\": {\"5\": 1066, \"11\": 4, \"1\": 46, \"10\": 64, \"14\": 20}, \"11\": {\"1\": 382, \"11\": 792, \"8\": 8, \"5\": 8, \"4\": 2, \"14\": 7, \"10\": 1}, \"4\": {\"4\": 675, \"14\": 153, \"13\": 203, \"0\": 26, \"10\": 19, \"6\": 119, \"7\": 2, \"1\": 3}, \"14\": {\"4\": 204, \"10\": 242, \"14\": 614, \"1\": 44, \"13\": 79, \"11\": 9, \"5\": 4, \"6\": 3, \"0\": 1}, \"12\": {\"12\": 660, \"15\": 377, \"3\": 125, \"8\": 25, \"2\": 13}, \"7\": {\"7\": 930, \"6\": 221, \"0\": 42, \"4\": 5, \"13\": 2}, \"0\": {\"0\": 832, \"7\": 62, \"13\": 226, \"6\": 39, \"4\": 34, \"10\": 6, \"14\": 1}, \"15\": {\"12\": 218, \"15\": 922, \"8\": 48, \"3\": 9, \"7\": 1, \"2\": 2}, \"2\": {\"2\": 1017, \"15\": 12, \"7\": 17, \"3\": 145, \"12\": 9}, \"8\": {\"8\": 1178, \"15\": 17, \"6\": 2, \"12\": 2, \"11\": 1}}, \"ORACLE.run1_38\": {\"4\": {\"4\": 1118, \"12\": 81, \"10\": 1}, \"7\": {\"0\": 154, \"7\": 971, \"5\": 39, \"8\": 34, \"3\": 2}, \"12\": {\"12\": 1165, \"4\": 29, \"14\": 2, \"10\": 4}, \"10\": {\"13\": 100, \"10\": 981, \"14\": 26, \"8\": 42, \"12\": 14, \"11\": 10, \"2\": 5, \"5\": 4, \"0\": 13, \"4\": 1, \"7\": 1, \"15\": 3}, \"0\": {\"7\": 197, \"0\": 542, \"8\": 236, \"3\": 70, \"5\": 124, \"10\": 25, \"13\": 2, \"6\": 1, \"4\": 2, \"9\": 1}, \"1\": {\"1\": 1161, \"15\": 37, \"5\": 1, \"13\": 1}, \"5\": {\"8\": 339, \"3\": 5, \"5\": 518, \"7\": 92, \"15\": 66, \"0\": 89, \"6\": 37, \"1\": 12, \"13\": 5, \"9\": 28, \"10\": 9}, \"15\": {\"8\": 32, \"13\": 146, \"15\": 896, \"1\": 91, \"5\": 25, \"10\": 2, \"2\": 8}, \"9\": {\"9\": 816, \"6\": 336, \"3\": 30, \"5\": 15, \"0\": 2, \"1\": 1}, \"11\": {\"11\": 1050, \"14\": 126, \"10\": 17, \"2\": 6, \"12\": 1}, \"14\": {\"14\": 1100, \"2\": 61, \"11\": 24, \"10\": 12, \"13\": 2, \"12\": 1}, \"6\": {\"6\": 1048, \"9\": 149, \"5\": 3}, \"8\": {\"7\": 31, \"8\": 761, \"5\": 268, \"15\": 20, \"0\": 92, \"10\": 21, \"13\": 6, \"6\": 1}, \"3\": {\"3\": 1140, \"9\": 34, \"7\": 12, \"0\": 12, \"6\": 1, \"8\": 1}, \"2\": {\"2\": 1140, \"13\": 17, \"14\": 40, \"15\": 2, \"10\": 1}, \"13\": {\"13\": 896, \"10\": 84, \"15\": 171, \"8\": 15, \"2\": 22, \"5\": 3, \"14\": 2, \"1\": 7}}}, \"per_domain_accuracy\": {\"ORACLE.run2_14\": {\"accuracy\": 0.8219791666666667, \"source?\": true}, \"ORACLE.run2_20\": {\"accuracy\": 0.6521875, \"source?\": true}, \"ORACLE.run2_50\": {\"accuracy\": 0.80515625, \"source?\": true}, \"ORACLE.run2_26\": {\"accuracy\": 0.5657291666666666, \"source?\": true}, \"ORACLE.run2_32\": {\"accuracy\": 0.7956770833333333, \"source?\": true}, \"ORACLE.run2_44\": {\"accuracy\": 0.76515625, \"source?\": true}, \"ORACLE.run2_8\": {\"accuracy\": 0.72640625, \"source?\": true}, \"ORACLE.run2_38\": {\"accuracy\": 0.71203125, \"source?\": true}, \"ORACLE.run1_14\": {\"accuracy\": 0.8191145833333333, \"source?\": false}, \"ORACLE.run1_20\": {\"accuracy\": 0.6766145833333334, \"source?\": false}, \"ORACLE.run1_50\": {\"accuracy\": 0.7834375, \"source?\": false}, \"ORACLE.run1_26\": {\"accuracy\": 0.5586458333333333, \"source?\": false}, \"ORACLE.run1_32\": {\"accuracy\": 0.78015625, \"source?\": false}, \"ORACLE.run1_44\": {\"accuracy\": 0.73171875, \"source?\": false}, \"ORACLE.run1_8\": {\"accuracy\": 0.7219270833333333, \"source?\": false}, \"ORACLE.run1_38\": {\"accuracy\": 0.79703125, \"source?\": false}}}, \"history\": {\"epoch_indices\": [1, 2, 3, 4, 5, 6, 7, 8, 9, 10], \"train_label_loss\": [1.13876240878499, 0.8931853456218682, 0.8158739312157213, 0.730539192756904, 0.6447597575081246, 0.5805470019592238, 0.5345598250512211, 0.49485640603749614, 0.4624449733295478, 0.4320331400390049], \"source_val_label_loss\": [1.0010846853256226, 0.9163979291915894, 0.8723596334457397, 0.8171495199203491, 0.7690911293029785, 0.7672650218009949, 0.7657786011695862, 0.7735934853553772, 0.7782655358314514, 0.801633894443512], \"target_val_label_loss\": [0.9755120873451233, 0.8733074069023132, 0.8377285003662109, 0.7889124751091003, 0.7437590956687927, 0.7422654628753662, 0.7474948167800903, 0.7560209035873413, 0.764001727104187, 0.7868874073028564], \"source_val_acc_label\": [0.6313346354166667, 0.6582747395833334, 0.6799348958333333, 0.7023958333333333, 0.7238216145833334, 0.7305403645833334, 0.7269466145833333, 0.72833984375, 0.7333528645833334, 0.72396484375], \"target_val_acc_label\": [0.64025390625, 0.6725390625, 0.6870703125, 0.7080598958333333, 0.7284114583333333, 0.7335807291666666, 0.7286848958333333, 0.7304296875, 0.7329557291666666, 0.7253450520833333]}, \"dataset_metrics\": {\"source\": {\"train\": {\"n_unique_x\": 896000, \"n_unique_y\": 16, \"n_batch/episode\": 33600}, \"val\": {\"n_unique_x\": 192000, \"n_unique_y\": 16, \"n_batch/episode\": 4800}, \"test\": {\"n_unique_x\": 192000, \"n_unique_y\": 16, \"n_batch/episode\": 4800}}, \"target\": {\"train\": {\"n_unique_x\": 896000, \"n_unique_y\": 16, \"n_batch/episode\": 33600}, \"val\": {\"n_unique_x\": 192000, \"n_unique_y\": 16, \"n_batch/episode\": 4800}, \"test\": {\"n_unique_x\": 192000, \"n_unique_y\": 16, \"n_batch/episode\": 4800}}}}'"
      ]
     },
     "execution_count": 29,
     "metadata": {},
     "output_type": "execute_result"
    }
   ],
   "source": [
    "json.dumps(experiment)"
   ]
  }
 ],
 "metadata": {
  "celltoolbar": "Tags",
  "kernelspec": {
   "display_name": "Python 3 (ipykernel)",
   "language": "python",
   "name": "python3"
  },
  "language_info": {
   "codemirror_mode": {
    "name": "ipython",
    "version": 3
   },
   "file_extension": ".py",
   "mimetype": "text/x-python",
   "name": "python",
   "nbconvert_exporter": "python",
   "pygments_lexer": "ipython3",
   "version": "3.8.10"
  },
  "papermill": {
   "default_parameters": {},
   "duration": 9793.335551,
   "end_time": "2022-03-24T12:42:50.127536",
   "environment_variables": {},
   "exception": null,
   "input_path": "/mnt/wd500GB/CSC500/csc500-main/csc500-notebooks/templates/tl_ptn_template.ipynb",
   "output_path": "trial.ipynb",
   "parameters": {
    "parameters": {
     "BEST_MODEL_PATH": "./best_model.pth",
     "NUM_LOGS_PER_EPOCH": 10,
     "criteria_for_best": "target_accuracy",
     "dataset_seed": 420,
     "datasets": [
      {
       "domain_prefix": "ORACLE.run1_",
       "domains": [
        32,
        38,
        8,
        44,
        14,
        50,
        20,
        26
       ],
       "episode_transforms": [],
       "labels": [
        "3123D52",
        "3123D65",
        "3123D79",
        "3123D80",
        "3123D54",
        "3123D70",
        "3123D7B",
        "3123D89",
        "3123D58",
        "3123D76",
        "3123D7D",
        "3123EFE",
        "3123D64",
        "3123D78",
        "3123D7E",
        "3124E4A"
       ],
       "num_examples_per_domain_per_label": 10000,
       "pickle_path": "/mnt/wd500GB/CSC500/csc500-main/datasets/oracle.Run1_10kExamples_stratified_ds.2022A.pkl",
       "source_or_target_dataset": "target",
       "x_transforms": [
        "unit_mag"
       ]
      },
      {
       "domain_prefix": "ORACLE.run2_",
       "domains": [
        32,
        38,
        8,
        44,
        14,
        50,
        20,
        26
       ],
       "episode_transforms": [],
       "labels": [
        "3123D52",
        "3123D65",
        "3123D79",
        "3123D80",
        "3123D54",
        "3123D70",
        "3123D7B",
        "3123D89",
        "3123D58",
        "3123D76",
        "3123D7D",
        "3123EFE",
        "3123D64",
        "3123D78",
        "3123D7E",
        "3124E4A"
       ],
       "num_examples_per_domain_per_label": 10000,
       "pickle_path": "/mnt/wd500GB/CSC500/csc500-main/datasets/oracle.Run2_10kExamples_stratified_ds.2022A.pkl",
       "source_or_target_dataset": "source",
       "x_transforms": [
        "unit_mag"
       ]
      }
     ],
     "device": "cuda",
     "experiment_name": "tl_1v2:oracle.run1-oracle.run2",
     "lr": 0.0001,
     "n_epoch": 50,
     "n_query": 2,
     "n_shot": 3,
     "n_way": 16,
     "patience": 3,
     "seed": 420,
     "test_k_factor": 2,
     "torch_default_dtype": "torch.float32",
     "train_k_factor": 3,
     "val_k_factor": 2,
     "x_net": [
      {
       "class": "nnReshape",
       "kargs": {
        "shape": [
         -1,
         1,
         2,
         256
        ]
       }
      },
      {
       "class": "Conv2d",
       "kargs": {
        "bias": false,
        "in_channels": 1,
        "kernel_size": [
         1,
         7
        ],
        "out_channels": 256,
        "padding": [
         0,
         3
        ]
       }
      },
      {
       "class": "ReLU",
       "kargs": {
        "inplace": true
       }
      },
      {
       "class": "BatchNorm2d",
       "kargs": {
        "num_features": 256
       }
      },
      {
       "class": "Conv2d",
       "kargs": {
        "bias": true,
        "in_channels": 256,
        "kernel_size": [
         2,
         7
        ],
        "out_channels": 80,
        "padding": [
         0,
         3
        ]
       }
      },
      {
       "class": "ReLU",
       "kargs": {
        "inplace": true
       }
      },
      {
       "class": "BatchNorm2d",
       "kargs": {
        "num_features": 80
       }
      },
      {
       "class": "Flatten",
       "kargs": {}
      },
      {
       "class": "Linear",
       "kargs": {
        "in_features": 20480,
        "out_features": 256
       }
      },
      {
       "class": "ReLU",
       "kargs": {
        "inplace": true
       }
      },
      {
       "class": "BatchNorm1d",
       "kargs": {
        "num_features": 256
       }
      },
      {
       "class": "Linear",
       "kargs": {
        "in_features": 256,
        "out_features": 256
       }
      }
     ]
    }
   },
   "start_time": "2022-03-24T09:59:36.791985",
   "version": "2.3.4"
  }
 },
 "nbformat": 4,
 "nbformat_minor": 5
}