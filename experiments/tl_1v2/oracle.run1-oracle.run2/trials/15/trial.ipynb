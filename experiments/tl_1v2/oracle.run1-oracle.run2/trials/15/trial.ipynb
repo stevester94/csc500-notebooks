{
 "cells": [
  {
   "cell_type": "markdown",
   "id": "9fea5f46",
   "metadata": {
    "papermill": {
     "duration": 0.018184,
     "end_time": "2022-03-24T23:32:32.589109",
     "exception": false,
     "start_time": "2022-03-24T23:32:32.570925",
     "status": "completed"
    },
    "tags": []
   },
   "source": [
    "# Transfer Learning Template"
   ]
  },
  {
   "cell_type": "code",
   "execution_count": 1,
   "id": "0902182a",
   "metadata": {
    "execution": {
     "iopub.execute_input": "2022-03-24T23:32:32.627012Z",
     "iopub.status.busy": "2022-03-24T23:32:32.626547Z",
     "iopub.status.idle": "2022-03-24T23:32:33.545706Z",
     "shell.execute_reply": "2022-03-24T23:32:33.545206Z"
    },
    "papermill": {
     "duration": 0.944158,
     "end_time": "2022-03-24T23:32:33.545824",
     "exception": false,
     "start_time": "2022-03-24T23:32:32.601666",
     "status": "completed"
    },
    "tags": []
   },
   "outputs": [],
   "source": [
    "%load_ext autoreload\n",
    "%autoreload 2\n",
    "%matplotlib inline\n",
    "\n",
    "    \n",
    "import os, json, sys, time, random\n",
    "import numpy as np\n",
    "import torch\n",
    "from torch.optim import Adam\n",
    "from  easydict import EasyDict\n",
    "import matplotlib.pyplot as plt\n",
    "\n",
    "from steves_models.steves_ptn import Steves_Prototypical_Network\n",
    "\n",
    "from steves_utils.lazy_iterable_wrapper import Lazy_Iterable_Wrapper\n",
    "from steves_utils.iterable_aggregator import Iterable_Aggregator\n",
    "from steves_utils.ptn_train_eval_test_jig import  PTN_Train_Eval_Test_Jig\n",
    "from steves_utils.torch_sequential_builder import build_sequential\n",
    "from steves_utils.torch_utils import get_dataset_metrics, ptn_confusion_by_domain_over_dataloader\n",
    "from steves_utils.utils_v2 import (per_domain_accuracy_from_confusion, get_datasets_base_path)\n",
    "from steves_utils.PTN.utils import independent_accuracy_assesment\n",
    "\n",
    "from torch.utils.data import DataLoader\n",
    "\n",
    "from steves_utils.stratified_dataset.episodic_accessor import Episodic_Accessor_Factory\n",
    "\n",
    "from steves_utils.ptn_do_report import (\n",
    "    get_loss_curve,\n",
    "    get_results_table,\n",
    "    get_parameters_table,\n",
    "    get_domain_accuracies,\n",
    ")\n",
    "\n",
    "from steves_utils.transforms import get_chained_transform"
   ]
  },
  {
   "cell_type": "markdown",
   "id": "41c840b4",
   "metadata": {
    "papermill": {
     "duration": 0.012608,
     "end_time": "2022-03-24T23:32:33.575612",
     "exception": false,
     "start_time": "2022-03-24T23:32:33.563004",
     "status": "completed"
    },
    "tags": []
   },
   "source": [
    "# Allowed Parameters\n",
    "These are allowed parameters, not defaults\n",
    "Each of these values need to be present in the injected parameters (the notebook will raise an exception if they are not present)\n",
    "\n",
    "Papermill uses the cell tag \"parameters\" to inject the real parameters below this cell.\n",
    "Enable tags to see what I mean"
   ]
  },
  {
   "cell_type": "code",
   "execution_count": 2,
   "id": "fd44eb83",
   "metadata": {
    "execution": {
     "iopub.execute_input": "2022-03-24T23:32:33.603358Z",
     "iopub.status.busy": "2022-03-24T23:32:33.603101Z",
     "iopub.status.idle": "2022-03-24T23:32:33.613417Z",
     "shell.execute_reply": "2022-03-24T23:32:33.613609Z"
    },
    "papermill": {
     "duration": 0.025423,
     "end_time": "2022-03-24T23:32:33.613668",
     "exception": false,
     "start_time": "2022-03-24T23:32:33.588245",
     "status": "completed"
    },
    "tags": []
   },
   "outputs": [],
   "source": [
    "required_parameters = {\n",
    "    \"experiment_name\",\n",
    "    \"lr\",\n",
    "    \"device\",\n",
    "    \"seed\",\n",
    "    \"dataset_seed\",\n",
    "    \"n_shot\",\n",
    "    \"n_query\",\n",
    "    \"n_way\",\n",
    "    \"train_k_factor\",\n",
    "    \"val_k_factor\",\n",
    "    \"test_k_factor\",\n",
    "    \"n_epoch\",\n",
    "    \"patience\",\n",
    "    \"criteria_for_best\",\n",
    "    \"x_net\",\n",
    "    \"datasets\",\n",
    "    \"torch_default_dtype\",\n",
    "    \"NUM_LOGS_PER_EPOCH\",\n",
    "    \"BEST_MODEL_PATH\",\n",
    "    \"x_shape\",\n",
    "}"
   ]
  },
  {
   "cell_type": "code",
   "execution_count": 3,
   "id": "fa3f0049",
   "metadata": {
    "execution": {
     "iopub.execute_input": "2022-03-24T23:32:33.649829Z",
     "iopub.status.busy": "2022-03-24T23:32:33.649554Z",
     "iopub.status.idle": "2022-03-24T23:32:33.661818Z",
     "shell.execute_reply": "2022-03-24T23:32:33.661431Z"
    },
    "papermill": {
     "duration": 0.03151,
     "end_time": "2022-03-24T23:32:33.661905",
     "exception": false,
     "start_time": "2022-03-24T23:32:33.630395",
     "status": "completed"
    },
    "tags": [
     "parameters"
    ]
   },
   "outputs": [],
   "source": [
    "from steves_utils.CORES.utils import (\n",
    "    ALL_NODES,\n",
    "    ALL_NODES_MINIMUM_1000_EXAMPLES,\n",
    "    ALL_DAYS\n",
    ")\n",
    "\n",
    "from steves_utils.ORACLE.utils_v2 import (\n",
    "    ALL_DISTANCES_FEET_NARROWED,\n",
    "    ALL_RUNS,\n",
    "    ALL_SERIAL_NUMBERS,\n",
    ")\n",
    "\n",
    "standalone_parameters = {}\n",
    "standalone_parameters[\"experiment_name\"] = \"STANDALONE PTN\"\n",
    "standalone_parameters[\"lr\"] = 0.001\n",
    "standalone_parameters[\"device\"] = \"cuda\"\n",
    "\n",
    "standalone_parameters[\"seed\"] = 1337\n",
    "standalone_parameters[\"dataset_seed\"] = 1337\n",
    "\n",
    "standalone_parameters[\"n_way\"] = 8\n",
    "standalone_parameters[\"n_shot\"] = 3\n",
    "standalone_parameters[\"n_query\"]  = 2\n",
    "standalone_parameters[\"train_k_factor\"] = 1\n",
    "standalone_parameters[\"val_k_factor\"] = 2\n",
    "standalone_parameters[\"test_k_factor\"] = 2\n",
    "\n",
    "\n",
    "standalone_parameters[\"n_epoch\"] = 50\n",
    "\n",
    "standalone_parameters[\"patience\"] = 10\n",
    "standalone_parameters[\"criteria_for_best\"] = \"source_loss\"\n",
    "\n",
    "standalone_parameters[\"datasets\"] = [\n",
    "    {\n",
    "        \"labels\": ALL_SERIAL_NUMBERS,\n",
    "        \"domains\": ALL_DISTANCES_FEET_NARROWED,\n",
    "        \"num_examples_per_domain_per_label\": 100,\n",
    "        \"pickle_path\": os.path.join(get_datasets_base_path(), \"oracle.Run1_framed_2000Examples_stratified_ds.2022A.pkl\"),\n",
    "        \"source_or_target_dataset\": \"source\",\n",
    "        \"x_transforms\": [\"unit_mag\", \"minus_two\"],\n",
    "        \"episode_transforms\": [],\n",
    "        \"domain_prefix\": \"ORACLE_\"\n",
    "    },\n",
    "    {\n",
    "        \"labels\": ALL_NODES,\n",
    "        \"domains\": ALL_DAYS,\n",
    "        \"num_examples_per_domain_per_label\": 100,\n",
    "        \"pickle_path\": os.path.join(get_datasets_base_path(), \"cores.stratified_ds.2022A.pkl\"),\n",
    "        \"source_or_target_dataset\": \"target\",\n",
    "        \"x_transforms\": [\"unit_power\", \"times_zero\"],\n",
    "        \"episode_transforms\": [],\n",
    "        \"domain_prefix\": \"CORES_\"\n",
    "    }   \n",
    "]\n",
    "\n",
    "standalone_parameters[\"torch_default_dtype\"] = \"torch.float32\" \n",
    "\n",
    "\n",
    "\n",
    "standalone_parameters[\"x_net\"] =     [\n",
    "    {\"class\": \"nnReshape\", \"kargs\": {\"shape\":[-1, 1, 2, 256]}},\n",
    "    {\"class\": \"Conv2d\", \"kargs\": { \"in_channels\":1, \"out_channels\":256, \"kernel_size\":(1,7), \"bias\":False, \"padding\":(0,3), },},\n",
    "    {\"class\": \"ReLU\", \"kargs\": {\"inplace\": True}},\n",
    "    {\"class\": \"BatchNorm2d\", \"kargs\": {\"num_features\":256}},\n",
    "\n",
    "    {\"class\": \"Conv2d\", \"kargs\": { \"in_channels\":256, \"out_channels\":80, \"kernel_size\":(2,7), \"bias\":True, \"padding\":(0,3), },},\n",
    "    {\"class\": \"ReLU\", \"kargs\": {\"inplace\": True}},\n",
    "    {\"class\": \"BatchNorm2d\", \"kargs\": {\"num_features\":80}},\n",
    "    {\"class\": \"Flatten\", \"kargs\": {}},\n",
    "\n",
    "    {\"class\": \"Linear\", \"kargs\": {\"in_features\": 80*256, \"out_features\": 256}}, # 80 units per IQ pair\n",
    "    {\"class\": \"ReLU\", \"kargs\": {\"inplace\": True}},\n",
    "    {\"class\": \"BatchNorm1d\", \"kargs\": {\"num_features\":256}},\n",
    "\n",
    "    {\"class\": \"Linear\", \"kargs\": {\"in_features\": 256, \"out_features\": 256}},\n",
    "]\n",
    "\n",
    "# Parameters relevant to results\n",
    "# These parameters will basically never need to change\n",
    "standalone_parameters[\"NUM_LOGS_PER_EPOCH\"] = 10\n",
    "standalone_parameters[\"BEST_MODEL_PATH\"] = \"./best_model.pth\"\n",
    "\n",
    "\n",
    "\n",
    "\n"
   ]
  },
  {
   "cell_type": "code",
   "execution_count": 4,
   "id": "1252cb03",
   "metadata": {
    "execution": {
     "iopub.execute_input": "2022-03-24T23:32:33.698935Z",
     "iopub.status.busy": "2022-03-24T23:32:33.698626Z",
     "iopub.status.idle": "2022-03-24T23:32:33.710536Z",
     "shell.execute_reply": "2022-03-24T23:32:33.710093Z"
    },
    "papermill": {
     "duration": 0.029983,
     "end_time": "2022-03-24T23:32:33.710624",
     "exception": false,
     "start_time": "2022-03-24T23:32:33.680641",
     "status": "completed"
    },
    "tags": [
     "injected-parameters"
    ]
   },
   "outputs": [],
   "source": [
    "# Parameters\n",
    "parameters = {\n",
    "    \"experiment_name\": \"tl_1v2:oracle.run1-oracle.run2\",\n",
    "    \"device\": \"cuda\",\n",
    "    \"lr\": 0.0001,\n",
    "    \"n_shot\": 3,\n",
    "    \"n_query\": 2,\n",
    "    \"train_k_factor\": 3,\n",
    "    \"val_k_factor\": 2,\n",
    "    \"test_k_factor\": 2,\n",
    "    \"torch_default_dtype\": \"torch.float32\",\n",
    "    \"n_epoch\": 50,\n",
    "    \"patience\": 3,\n",
    "    \"criteria_for_best\": \"target_accuracy\",\n",
    "    \"x_net\": [\n",
    "        {\"class\": \"nnReshape\", \"kargs\": {\"shape\": [-1, 1, 2, 256]}},\n",
    "        {\n",
    "            \"class\": \"Conv2d\",\n",
    "            \"kargs\": {\n",
    "                \"in_channels\": 1,\n",
    "                \"out_channels\": 256,\n",
    "                \"kernel_size\": [1, 7],\n",
    "                \"bias\": False,\n",
    "                \"padding\": [0, 3],\n",
    "            },\n",
    "        },\n",
    "        {\"class\": \"ReLU\", \"kargs\": {\"inplace\": True}},\n",
    "        {\"class\": \"BatchNorm2d\", \"kargs\": {\"num_features\": 256}},\n",
    "        {\n",
    "            \"class\": \"Conv2d\",\n",
    "            \"kargs\": {\n",
    "                \"in_channels\": 256,\n",
    "                \"out_channels\": 80,\n",
    "                \"kernel_size\": [2, 7],\n",
    "                \"bias\": True,\n",
    "                \"padding\": [0, 3],\n",
    "            },\n",
    "        },\n",
    "        {\"class\": \"ReLU\", \"kargs\": {\"inplace\": True}},\n",
    "        {\"class\": \"BatchNorm2d\", \"kargs\": {\"num_features\": 80}},\n",
    "        {\"class\": \"Flatten\", \"kargs\": {}},\n",
    "        {\"class\": \"Linear\", \"kargs\": {\"in_features\": 20480, \"out_features\": 256}},\n",
    "        {\"class\": \"ReLU\", \"kargs\": {\"inplace\": True}},\n",
    "        {\"class\": \"BatchNorm1d\", \"kargs\": {\"num_features\": 256}},\n",
    "        {\"class\": \"Linear\", \"kargs\": {\"in_features\": 256, \"out_features\": 256}},\n",
    "    ],\n",
    "    \"NUM_LOGS_PER_EPOCH\": 10,\n",
    "    \"BEST_MODEL_PATH\": \"./best_model.pth\",\n",
    "    \"n_way\": 16,\n",
    "    \"datasets\": [\n",
    "        {\n",
    "            \"labels\": [\n",
    "                \"3123D52\",\n",
    "                \"3123D65\",\n",
    "                \"3123D79\",\n",
    "                \"3123D80\",\n",
    "                \"3123D54\",\n",
    "                \"3123D70\",\n",
    "                \"3123D7B\",\n",
    "                \"3123D89\",\n",
    "                \"3123D58\",\n",
    "                \"3123D76\",\n",
    "                \"3123D7D\",\n",
    "                \"3123EFE\",\n",
    "                \"3123D64\",\n",
    "                \"3123D78\",\n",
    "                \"3123D7E\",\n",
    "                \"3124E4A\",\n",
    "            ],\n",
    "            \"domains\": [32, 38, 8, 44, 14, 50, 20, 26],\n",
    "            \"num_examples_per_domain_per_label\": 10000,\n",
    "            \"pickle_path\": \"/mnt/wd500GB/CSC500/csc500-main/datasets/oracle.Run1_10kExamples_stratified_ds.2022A.pkl\",\n",
    "            \"source_or_target_dataset\": \"target\",\n",
    "            \"x_transforms\": [\"unit_power\"],\n",
    "            \"episode_transforms\": [],\n",
    "            \"domain_prefix\": \"ORACLE.run1_\",\n",
    "        },\n",
    "        {\n",
    "            \"labels\": [\n",
    "                \"3123D52\",\n",
    "                \"3123D65\",\n",
    "                \"3123D79\",\n",
    "                \"3123D80\",\n",
    "                \"3123D54\",\n",
    "                \"3123D70\",\n",
    "                \"3123D7B\",\n",
    "                \"3123D89\",\n",
    "                \"3123D58\",\n",
    "                \"3123D76\",\n",
    "                \"3123D7D\",\n",
    "                \"3123EFE\",\n",
    "                \"3123D64\",\n",
    "                \"3123D78\",\n",
    "                \"3123D7E\",\n",
    "                \"3124E4A\",\n",
    "            ],\n",
    "            \"domains\": [32, 38, 8, 44, 14, 50, 20, 26],\n",
    "            \"num_examples_per_domain_per_label\": 10000,\n",
    "            \"pickle_path\": \"/mnt/wd500GB/CSC500/csc500-main/datasets/oracle.Run2_10kExamples_stratified_ds.2022A.pkl\",\n",
    "            \"source_or_target_dataset\": \"source\",\n",
    "            \"x_transforms\": [\"unit_power\"],\n",
    "            \"episode_transforms\": [],\n",
    "            \"domain_prefix\": \"ORACLE.run2_\",\n",
    "        },\n",
    "    ],\n",
    "    \"dataset_seed\": 154325,\n",
    "    \"seed\": 154325,\n",
    "}\n"
   ]
  },
  {
   "cell_type": "code",
   "execution_count": 5,
   "id": "8fa1cc33",
   "metadata": {
    "execution": {
     "iopub.execute_input": "2022-03-24T23:32:33.743842Z",
     "iopub.status.busy": "2022-03-24T23:32:33.743591Z",
     "iopub.status.idle": "2022-03-24T23:32:33.758527Z",
     "shell.execute_reply": "2022-03-24T23:32:33.758082Z"
    },
    "papermill": {
     "duration": 0.031376,
     "end_time": "2022-03-24T23:32:33.758615",
     "exception": false,
     "start_time": "2022-03-24T23:32:33.727239",
     "status": "completed"
    },
    "tags": []
   },
   "outputs": [],
   "source": [
    "# Set this to True if you want to run this template directly\n",
    "STANDALONE = False\n",
    "if STANDALONE:\n",
    "    print(\"parameters not injected, running with standalone_parameters\")\n",
    "    parameters = standalone_parameters\n",
    "\n",
    "if not 'parameters' in locals() and not 'parameters' in globals():\n",
    "    raise Exception(\"Parameter injection failed\")\n",
    "\n",
    "#Use an easy dict for all the parameters\n",
    "p = EasyDict(parameters)\n",
    "\n",
    "if \"x_shape\" not in p:\n",
    "    p.x_shape = [2,256] # Default to this if we dont supply x_shape\n",
    "\n",
    "\n",
    "supplied_keys = set(p.keys())\n",
    "\n",
    "if  supplied_keys != required_parameters:\n",
    "    print(\"Parameters are incorrect\")\n",
    "    if len(supplied_keys - required_parameters)>0: print(\"Shouldn't have:\", str(supplied_keys - required_parameters))\n",
    "    if len(required_parameters - supplied_keys)>0: print(\"Need to have:\", str(required_parameters - supplied_keys))\n",
    "    raise RuntimeError(\"Parameters are incorrect\")"
   ]
  },
  {
   "cell_type": "code",
   "execution_count": 6,
   "id": "3a028d58",
   "metadata": {
    "execution": {
     "iopub.execute_input": "2022-03-24T23:32:33.788578Z",
     "iopub.status.busy": "2022-03-24T23:32:33.788292Z",
     "iopub.status.idle": "2022-03-24T23:32:33.805028Z",
     "shell.execute_reply": "2022-03-24T23:32:33.804644Z"
    },
    "papermill": {
     "duration": 0.031717,
     "end_time": "2022-03-24T23:32:33.805117",
     "exception": false,
     "start_time": "2022-03-24T23:32:33.773400",
     "status": "completed"
    },
    "tags": []
   },
   "outputs": [],
   "source": [
    "###################################\n",
    "# Set the RNGs and make it all deterministic\n",
    "###################################\n",
    "np.random.seed(p.seed)\n",
    "random.seed(p.seed)\n",
    "torch.manual_seed(p.seed)\n",
    "\n",
    "torch.use_deterministic_algorithms(True) "
   ]
  },
  {
   "cell_type": "code",
   "execution_count": 7,
   "id": "b691acf6",
   "metadata": {
    "execution": {
     "iopub.execute_input": "2022-03-24T23:32:33.838444Z",
     "iopub.status.busy": "2022-03-24T23:32:33.838192Z",
     "iopub.status.idle": "2022-03-24T23:32:33.852691Z",
     "shell.execute_reply": "2022-03-24T23:32:33.852302Z"
    },
    "papermill": {
     "duration": 0.029781,
     "end_time": "2022-03-24T23:32:33.852779",
     "exception": false,
     "start_time": "2022-03-24T23:32:33.822998",
     "status": "completed"
    },
    "tags": []
   },
   "outputs": [],
   "source": [
    "###########################################\n",
    "# The stratified datasets honor this\n",
    "###########################################\n",
    "torch.set_default_dtype(eval(p.torch_default_dtype))"
   ]
  },
  {
   "cell_type": "code",
   "execution_count": 8,
   "id": "b5fba671",
   "metadata": {
    "execution": {
     "iopub.execute_input": "2022-03-24T23:32:33.885247Z",
     "iopub.status.busy": "2022-03-24T23:32:33.884900Z",
     "iopub.status.idle": "2022-03-24T23:32:33.925024Z",
     "shell.execute_reply": "2022-03-24T23:32:33.924579Z"
    },
    "papermill": {
     "duration": 0.054989,
     "end_time": "2022-03-24T23:32:33.925111",
     "exception": false,
     "start_time": "2022-03-24T23:32:33.870122",
     "status": "completed"
    },
    "tags": []
   },
   "outputs": [],
   "source": [
    "###################################\n",
    "# Build the network(s)\n",
    "# Note: It's critical to do this AFTER setting the RNG\n",
    "###################################\n",
    "x_net = build_sequential(p.x_net)"
   ]
  },
  {
   "cell_type": "code",
   "execution_count": 9,
   "id": "5d7e61cc",
   "metadata": {
    "execution": {
     "iopub.execute_input": "2022-03-24T23:32:33.957641Z",
     "iopub.status.busy": "2022-03-24T23:32:33.957394Z",
     "iopub.status.idle": "2022-03-24T23:32:33.972138Z",
     "shell.execute_reply": "2022-03-24T23:32:33.972505Z"
    },
    "papermill": {
     "duration": 0.030072,
     "end_time": "2022-03-24T23:32:33.972607",
     "exception": false,
     "start_time": "2022-03-24T23:32:33.942535",
     "status": "completed"
    },
    "tags": []
   },
   "outputs": [],
   "source": [
    "start_time_secs = time.time()"
   ]
  },
  {
   "cell_type": "code",
   "execution_count": 10,
   "id": "c6b67dfd",
   "metadata": {
    "execution": {
     "iopub.execute_input": "2022-03-24T23:32:34.005913Z",
     "iopub.status.busy": "2022-03-24T23:32:34.005660Z",
     "iopub.status.idle": "2022-03-24T23:32:34.019701Z",
     "shell.execute_reply": "2022-03-24T23:32:34.020066Z"
    },
    "papermill": {
     "duration": 0.03003,
     "end_time": "2022-03-24T23:32:34.020167",
     "exception": false,
     "start_time": "2022-03-24T23:32:33.990137",
     "status": "completed"
    },
    "tags": []
   },
   "outputs": [],
   "source": [
    "p.domains_source = []\n",
    "p.domains_target = []\n",
    "\n",
    "\n",
    "train_original_source = []\n",
    "val_original_source   = []\n",
    "test_original_source  = []\n",
    "\n",
    "train_original_target = []\n",
    "val_original_target   = []\n",
    "test_original_target  = []"
   ]
  },
  {
   "cell_type": "code",
   "execution_count": 11,
   "id": "e3d9c3d3",
   "metadata": {
    "execution": {
     "iopub.execute_input": "2022-03-24T23:32:34.053838Z",
     "iopub.status.busy": "2022-03-24T23:32:34.053587Z",
     "iopub.status.idle": "2022-03-24T23:32:34.067755Z",
     "shell.execute_reply": "2022-03-24T23:32:34.067310Z"
    },
    "papermill": {
     "duration": 0.029697,
     "end_time": "2022-03-24T23:32:34.067841",
     "exception": false,
     "start_time": "2022-03-24T23:32:34.038144",
     "status": "completed"
    },
    "tags": []
   },
   "outputs": [],
   "source": [
    "# global_x_transform_func = lambda x: normalize(x.to(torch.get_default_dtype()), \"unit_power\") # unit_power, unit_mag\n",
    "# global_x_transform_func = lambda x: normalize(x, \"unit_power\") # unit_power, unit_mag"
   ]
  },
  {
   "cell_type": "code",
   "execution_count": 12,
   "id": "acb78fd2",
   "metadata": {
    "execution": {
     "iopub.execute_input": "2022-03-24T23:32:34.106070Z",
     "iopub.status.busy": "2022-03-24T23:32:34.105807Z",
     "iopub.status.idle": "2022-03-24T23:32:34.117798Z",
     "shell.execute_reply": "2022-03-24T23:32:34.118191Z"
    },
    "papermill": {
     "duration": 0.032127,
     "end_time": "2022-03-24T23:32:34.118293",
     "exception": false,
     "start_time": "2022-03-24T23:32:34.086166",
     "status": "completed"
    },
    "tags": []
   },
   "outputs": [],
   "source": [
    "def add_dataset(\n",
    "    labels,\n",
    "    domains,\n",
    "    pickle_path,\n",
    "    x_transforms,\n",
    "    episode_transforms,\n",
    "    domain_prefix,\n",
    "    num_examples_per_domain_per_label,\n",
    "    source_or_target_dataset:str,\n",
    "    iterator_seed=p.seed,\n",
    "    dataset_seed=p.dataset_seed,\n",
    "    n_shot=p.n_shot,\n",
    "    n_way=p.n_way,\n",
    "    n_query=p.n_query,\n",
    "    train_val_test_k_factors=(p.train_k_factor,p.val_k_factor,p.test_k_factor),\n",
    "):\n",
    "   \n",
    "    if x_transforms == []: x_transform = None\n",
    "    else: x_transform = get_chained_transform(x_transforms)\n",
    "    \n",
    "    if episode_transforms == []: episode_transform = None\n",
    "    else: raise Exception(\"episode_transforms not implemented\")\n",
    "    \n",
    "    episode_transform = lambda tup, _prefix=domain_prefix: (_prefix + str(tup[0]), tup[1])\n",
    "\n",
    "\n",
    "    eaf = Episodic_Accessor_Factory(\n",
    "        labels=labels,\n",
    "        domains=domains,\n",
    "        num_examples_per_domain_per_label=num_examples_per_domain_per_label,\n",
    "        iterator_seed=iterator_seed,\n",
    "        dataset_seed=dataset_seed,\n",
    "        n_shot=n_shot,\n",
    "        n_way=n_way,\n",
    "        n_query=n_query,\n",
    "        train_val_test_k_factors=train_val_test_k_factors,\n",
    "        pickle_path=pickle_path,\n",
    "        x_transform_func=x_transform,\n",
    "    )\n",
    "\n",
    "    train, val, test = eaf.get_train(), eaf.get_val(), eaf.get_test()\n",
    "    train = Lazy_Iterable_Wrapper(train, episode_transform)\n",
    "    val = Lazy_Iterable_Wrapper(val, episode_transform)\n",
    "    test = Lazy_Iterable_Wrapper(test, episode_transform)\n",
    "\n",
    "    if source_or_target_dataset==\"source\":\n",
    "        train_original_source.append(train)\n",
    "        val_original_source.append(val)\n",
    "        test_original_source.append(test)\n",
    "\n",
    "        p.domains_source.extend(\n",
    "            [domain_prefix + str(u) for u in domains]\n",
    "        )\n",
    "    elif source_or_target_dataset==\"target\":\n",
    "        train_original_target.append(train)\n",
    "        val_original_target.append(val)\n",
    "        test_original_target.append(test)\n",
    "        p.domains_target.extend(\n",
    "            [domain_prefix + str(u) for u in domains]\n",
    "        )\n",
    "    else:\n",
    "        raise Exception(f\"invalid source_or_target_dataset: {source_or_target_dataset}\")\n",
    "    "
   ]
  },
  {
   "cell_type": "code",
   "execution_count": 13,
   "id": "fe266617",
   "metadata": {
    "execution": {
     "iopub.execute_input": "2022-03-24T23:32:34.152786Z",
     "iopub.status.busy": "2022-03-24T23:32:34.152538Z",
     "iopub.status.idle": "2022-03-24T23:35:13.419222Z",
     "shell.execute_reply": "2022-03-24T23:35:13.418801Z"
    },
    "papermill": {
     "duration": 159.282062,
     "end_time": "2022-03-24T23:35:13.419323",
     "exception": false,
     "start_time": "2022-03-24T23:32:34.137261",
     "status": "completed"
    },
    "tags": []
   },
   "outputs": [],
   "source": [
    "for ds in p.datasets:\n",
    "    add_dataset(**ds)"
   ]
  },
  {
   "cell_type": "code",
   "execution_count": 14,
   "id": "b90d65ac",
   "metadata": {
    "execution": {
     "iopub.execute_input": "2022-03-24T23:35:13.452686Z",
     "iopub.status.busy": "2022-03-24T23:35:13.451891Z",
     "iopub.status.idle": "2022-03-24T23:35:13.466186Z",
     "shell.execute_reply": "2022-03-24T23:35:13.465767Z"
    },
    "papermill": {
     "duration": 0.029992,
     "end_time": "2022-03-24T23:35:13.466281",
     "exception": false,
     "start_time": "2022-03-24T23:35:13.436289",
     "status": "completed"
    },
    "tags": []
   },
   "outputs": [],
   "source": [
    "# from steves_utils.CORES.utils import (\n",
    "#     ALL_NODES,\n",
    "#     ALL_NODES_MINIMUM_1000_EXAMPLES,\n",
    "#     ALL_DAYS\n",
    "# )\n",
    "\n",
    "# add_dataset(\n",
    "#     labels=ALL_NODES,\n",
    "#     domains = ALL_DAYS,\n",
    "#     num_examples_per_domain_per_label=100,\n",
    "#     pickle_path=os.path.join(get_datasets_base_path(), \"cores.stratified_ds.2022A.pkl\"),\n",
    "#     source_or_target_dataset=\"target\",\n",
    "#     x_transform_func=global_x_transform_func,\n",
    "#     domain_modifier=lambda u: f\"cores_{u}\"\n",
    "# )"
   ]
  },
  {
   "cell_type": "code",
   "execution_count": 15,
   "id": "76db484d",
   "metadata": {
    "execution": {
     "iopub.execute_input": "2022-03-24T23:35:13.510293Z",
     "iopub.status.busy": "2022-03-24T23:35:13.508364Z",
     "iopub.status.idle": "2022-03-24T23:35:13.515211Z",
     "shell.execute_reply": "2022-03-24T23:35:13.514799Z"
    },
    "papermill": {
     "duration": 0.03008,
     "end_time": "2022-03-24T23:35:13.515304",
     "exception": false,
     "start_time": "2022-03-24T23:35:13.485224",
     "status": "completed"
    },
    "tags": []
   },
   "outputs": [],
   "source": [
    "# from steves_utils.ORACLE.utils_v2 import (\n",
    "#     ALL_DISTANCES_FEET,\n",
    "#     ALL_RUNS,\n",
    "#     ALL_SERIAL_NUMBERS,\n",
    "# )\n",
    "\n",
    "\n",
    "# add_dataset(\n",
    "#     labels=ALL_SERIAL_NUMBERS,\n",
    "#     domains = list(set(ALL_DISTANCES_FEET) - {2,62}),\n",
    "#     num_examples_per_domain_per_label=100,\n",
    "#     pickle_path=os.path.join(get_datasets_base_path(), \"oracle.Run2_framed_2000Examples_stratified_ds.2022A.pkl\"),\n",
    "#     source_or_target_dataset=\"source\",\n",
    "#     x_transform_func=global_x_transform_func,\n",
    "#     domain_modifier=lambda u: f\"oracle1_{u}\"\n",
    "# )\n"
   ]
  },
  {
   "cell_type": "code",
   "execution_count": 16,
   "id": "97dea9d2",
   "metadata": {
    "execution": {
     "iopub.execute_input": "2022-03-24T23:35:13.558585Z",
     "iopub.status.busy": "2022-03-24T23:35:13.554331Z",
     "iopub.status.idle": "2022-03-24T23:35:13.564333Z",
     "shell.execute_reply": "2022-03-24T23:35:13.563924Z"
    },
    "papermill": {
     "duration": 0.030234,
     "end_time": "2022-03-24T23:35:13.564425",
     "exception": false,
     "start_time": "2022-03-24T23:35:13.534191",
     "status": "completed"
    },
    "tags": []
   },
   "outputs": [],
   "source": [
    "# from steves_utils.ORACLE.utils_v2 import (\n",
    "#     ALL_DISTANCES_FEET,\n",
    "#     ALL_RUNS,\n",
    "#     ALL_SERIAL_NUMBERS,\n",
    "# )\n",
    "\n",
    "\n",
    "# add_dataset(\n",
    "#     labels=ALL_SERIAL_NUMBERS,\n",
    "#     domains = list(set(ALL_DISTANCES_FEET) - {2,62,56}),\n",
    "#     num_examples_per_domain_per_label=100,\n",
    "#     pickle_path=os.path.join(get_datasets_base_path(), \"oracle.Run2_framed_2000Examples_stratified_ds.2022A.pkl\"),\n",
    "#     source_or_target_dataset=\"source\",\n",
    "#     x_transform_func=global_x_transform_func,\n",
    "#     domain_modifier=lambda u: f\"oracle2_{u}\"\n",
    "# )"
   ]
  },
  {
   "cell_type": "code",
   "execution_count": 17,
   "id": "6f289866",
   "metadata": {
    "execution": {
     "iopub.execute_input": "2022-03-24T23:35:13.598012Z",
     "iopub.status.busy": "2022-03-24T23:35:13.597750Z",
     "iopub.status.idle": "2022-03-24T23:35:13.612239Z",
     "shell.execute_reply": "2022-03-24T23:35:13.611791Z"
    },
    "papermill": {
     "duration": 0.029556,
     "end_time": "2022-03-24T23:35:13.612328",
     "exception": false,
     "start_time": "2022-03-24T23:35:13.582772",
     "status": "completed"
    },
    "tags": []
   },
   "outputs": [],
   "source": [
    "# add_dataset(\n",
    "#     labels=list(range(19)),\n",
    "#     domains = [0,1,2],\n",
    "#     num_examples_per_domain_per_label=100,\n",
    "#     pickle_path=os.path.join(get_datasets_base_path(), \"metehan.stratified_ds.2022A.pkl\"),\n",
    "#     source_or_target_dataset=\"target\",\n",
    "#     x_transform_func=global_x_transform_func,\n",
    "#     domain_modifier=lambda u: f\"met_{u}\"\n",
    "# )"
   ]
  },
  {
   "cell_type": "code",
   "execution_count": 18,
   "id": "86a863c3",
   "metadata": {
    "execution": {
     "iopub.execute_input": "2022-03-24T23:35:13.644247Z",
     "iopub.status.busy": "2022-03-24T23:35:13.644003Z",
     "iopub.status.idle": "2022-03-24T23:35:13.657700Z",
     "shell.execute_reply": "2022-03-24T23:35:13.657190Z"
    },
    "papermill": {
     "duration": 0.029143,
     "end_time": "2022-03-24T23:35:13.657801",
     "exception": false,
     "start_time": "2022-03-24T23:35:13.628658",
     "status": "completed"
    },
    "tags": []
   },
   "outputs": [],
   "source": [
    "# # from steves_utils.wisig.utils import (\n",
    "# #     ALL_NODES_MINIMUM_100_EXAMPLES,\n",
    "# #     ALL_NODES_MINIMUM_500_EXAMPLES,\n",
    "# #     ALL_NODES_MINIMUM_1000_EXAMPLES,\n",
    "# #     ALL_DAYS\n",
    "# # )\n",
    "\n",
    "# import steves_utils.wisig.utils as wisig\n",
    "\n",
    "\n",
    "# add_dataset(\n",
    "#     labels=wisig.ALL_NODES_MINIMUM_100_EXAMPLES,\n",
    "#     domains = wisig.ALL_DAYS,\n",
    "#     num_examples_per_domain_per_label=100,\n",
    "#     pickle_path=os.path.join(get_datasets_base_path(), \"wisig.node3-19.stratified_ds.2022A.pkl\"),\n",
    "#     source_or_target_dataset=\"target\",\n",
    "#     x_transform_func=global_x_transform_func,\n",
    "#     domain_modifier=lambda u: f\"wisig_{u}\"\n",
    "# )"
   ]
  },
  {
   "cell_type": "code",
   "execution_count": 19,
   "id": "fd5442bc",
   "metadata": {
    "execution": {
     "iopub.execute_input": "2022-03-24T23:35:13.696677Z",
     "iopub.status.busy": "2022-03-24T23:35:13.692766Z",
     "iopub.status.idle": "2022-03-24T23:35:13.706443Z",
     "shell.execute_reply": "2022-03-24T23:35:13.705986Z"
    },
    "papermill": {
     "duration": 0.03097,
     "end_time": "2022-03-24T23:35:13.706554",
     "exception": false,
     "start_time": "2022-03-24T23:35:13.675584",
     "status": "completed"
    },
    "tags": []
   },
   "outputs": [],
   "source": [
    "###################################\n",
    "# Build the dataset\n",
    "###################################\n",
    "train_original_source = Iterable_Aggregator(train_original_source, p.seed)\n",
    "val_original_source = Iterable_Aggregator(val_original_source, p.seed)\n",
    "test_original_source = Iterable_Aggregator(test_original_source, p.seed)\n",
    "\n",
    "\n",
    "train_original_target = Iterable_Aggregator(train_original_target, p.seed)\n",
    "val_original_target = Iterable_Aggregator(val_original_target, p.seed)\n",
    "test_original_target = Iterable_Aggregator(test_original_target, p.seed)\n",
    "\n",
    "# For CNN We only use X and Y. And we only train on the source.\n",
    "# Properly form the data using a transform lambda and Lazy_Iterable_Wrapper. Finally wrap them in a dataloader\n",
    "\n",
    "transform_lambda = lambda ex: ex[1] # Original is (<domain>, <episode>) so we strip down to episode only\n",
    "\n",
    "train_processed_source = Lazy_Iterable_Wrapper(train_original_source, transform_lambda)\n",
    "val_processed_source   = Lazy_Iterable_Wrapper(val_original_source, transform_lambda)\n",
    "test_processed_source  = Lazy_Iterable_Wrapper(test_original_source, transform_lambda)\n",
    "\n",
    "train_processed_target = Lazy_Iterable_Wrapper(train_original_target, transform_lambda)\n",
    "val_processed_target   = Lazy_Iterable_Wrapper(val_original_target, transform_lambda)\n",
    "test_processed_target  = Lazy_Iterable_Wrapper(test_original_target, transform_lambda)\n",
    "\n",
    "datasets = EasyDict({\n",
    "    \"source\": {\n",
    "        \"original\": {\"train\":train_original_source, \"val\":val_original_source, \"test\":test_original_source},\n",
    "        \"processed\": {\"train\":train_processed_source, \"val\":val_processed_source, \"test\":test_processed_source}\n",
    "    },\n",
    "    \"target\": {\n",
    "        \"original\": {\"train\":train_original_target, \"val\":val_original_target, \"test\":test_original_target},\n",
    "        \"processed\": {\"train\":train_processed_target, \"val\":val_processed_target, \"test\":test_processed_target}\n",
    "    },\n",
    "})"
   ]
  },
  {
   "cell_type": "code",
   "execution_count": 20,
   "id": "5b3c01fc",
   "metadata": {
    "execution": {
     "iopub.execute_input": "2022-03-24T23:35:13.745429Z",
     "iopub.status.busy": "2022-03-24T23:35:13.738747Z",
     "iopub.status.idle": "2022-03-24T23:35:38.778619Z",
     "shell.execute_reply": "2022-03-24T23:35:38.778929Z"
    },
    "papermill": {
     "duration": 25.056468,
     "end_time": "2022-03-24T23:35:38.779035",
     "exception": false,
     "start_time": "2022-03-24T23:35:13.722567",
     "status": "completed"
    },
    "tags": []
   },
   "outputs": [
    {
     "name": "stdout",
     "output_type": "stream",
     "text": [
      "{'ORACLE.run2_20', 'ORACLE.run2_50', 'ORACLE.run2_38', 'ORACLE.run2_26', 'ORACLE.run2_8', 'ORACLE.run2_44', 'ORACLE.run2_14', 'ORACLE.run2_32'}\n"
     ]
    },
    {
     "name": "stdout",
     "output_type": "stream",
     "text": [
      "{'ORACLE.run1_50', 'ORACLE.run1_38', 'ORACLE.run1_44', 'ORACLE.run1_20', 'ORACLE.run1_32', 'ORACLE.run1_14', 'ORACLE.run1_26', 'ORACLE.run1_8'}\n"
     ]
    },
    {
     "name": "stdout",
     "output_type": "stream",
     "text": [
      "tensor([[[ 0.6160, -0.4011, -0.3438,  ...,  0.6398,  0.1098, -0.9550],\n",
      "         [-0.6685, -0.2340,  0.0859,  ...,  0.4775, -0.3772,  0.3677]],\n",
      "\n",
      "        [[ 0.6005,  0.2141,  0.1536,  ...,  0.1024,  0.6563,  0.0978],\n",
      "         [ 0.2467,  0.0279, -0.4469,  ...,  0.1071,  0.9263, -0.3026]],\n",
      "\n",
      "        [[ 1.2919,  1.0345, -0.2069,  ..., -0.2851,  0.1103, -1.0391],\n",
      "         [ 0.2023, -0.7448, -0.2115,  ...,  0.2483,  0.2667, -0.0460]],\n",
      "\n",
      "        ...,\n",
      "\n",
      "        [[ 0.4349, -1.2457, -0.6658,  ...,  0.3114,  1.0793,  0.4349],\n",
      "         [ 0.5853, -0.4027, -0.4832,  ..., -0.1396, -0.8054, -0.3759]],\n",
      "\n",
      "        [[-0.1817,  0.2458,  0.9938,  ..., -0.5022,  1.5120,  0.4167],\n",
      "         [ 0.0801, -0.1282,  0.7266,  ..., -1.0525, -0.3740, -0.9029]],\n",
      "\n",
      "        [[-0.3871,  0.1344,  0.3979,  ...,  0.2850,  1.1614,  0.3764],\n",
      "         [ 0.4194, -1.4195, -0.5323,  ...,  0.4302,  0.6990,  0.1828]]])\n"
     ]
    }
   ],
   "source": [
    "from steves_utils.transforms import get_average_magnitude, get_average_power\n",
    "\n",
    "print(set([u for u,_ in val_original_source]))\n",
    "print(set([u for u,_ in val_original_target]))\n",
    "\n",
    "s_x, s_y, q_x, q_y, _ = next(iter(train_processed_source))\n",
    "print(s_x)\n",
    "\n",
    "# for ds in [\n",
    "#     train_processed_source,\n",
    "#     val_processed_source,\n",
    "#     test_processed_source,\n",
    "#     train_processed_target,\n",
    "#     val_processed_target,\n",
    "#     test_processed_target\n",
    "# ]:\n",
    "#     for s_x, s_y, q_x, q_y, _ in ds:\n",
    "#         for X in (s_x, q_x):\n",
    "#             for x in X:\n",
    "#                 assert np.isclose(get_average_magnitude(x.numpy()), 1.0)\n",
    "#                 assert np.isclose(get_average_power(x.numpy()), 1.0)\n",
    "                "
   ]
  },
  {
   "cell_type": "code",
   "execution_count": 21,
   "id": "bbdacba1",
   "metadata": {
    "execution": {
     "iopub.execute_input": "2022-03-24T23:35:38.815056Z",
     "iopub.status.busy": "2022-03-24T23:35:38.814795Z",
     "iopub.status.idle": "2022-03-24T23:35:38.869045Z",
     "shell.execute_reply": "2022-03-24T23:35:38.868573Z"
    },
    "papermill": {
     "duration": 0.071979,
     "end_time": "2022-03-24T23:35:38.869141",
     "exception": false,
     "start_time": "2022-03-24T23:35:38.797162",
     "status": "completed"
    },
    "tags": []
   },
   "outputs": [
    {
     "name": "stdout",
     "output_type": "stream",
     "text": [
      "(2, 256)\n"
     ]
    }
   ],
   "source": [
    "###################################\n",
    "# Build the model\n",
    "###################################\n",
    "# easfsl only wants a tuple for the shape\n",
    "model = Steves_Prototypical_Network(x_net, device=p.device, x_shape=tuple(p.x_shape))\n",
    "optimizer = Adam(params=model.parameters(), lr=p.lr)"
   ]
  },
  {
   "cell_type": "code",
   "execution_count": 22,
   "id": "22b39ac5",
   "metadata": {
    "execution": {
     "iopub.execute_input": "2022-03-24T23:35:38.903406Z",
     "iopub.status.busy": "2022-03-24T23:35:38.903136Z",
     "iopub.status.idle": "2022-03-25T01:54:01.177493Z",
     "shell.execute_reply": "2022-03-25T01:54:01.177866Z"
    },
    "papermill": {
     "duration": 8302.292144,
     "end_time": "2022-03-25T01:54:01.177994",
     "exception": false,
     "start_time": "2022-03-24T23:35:38.885850",
     "status": "completed"
    },
    "tags": []
   },
   "outputs": [
    {
     "name": "stdout",
     "output_type": "stream",
     "text": [
      "epoch: 1, [batch: 1 / 33600], examples_per_second: 9.9221, train_label_loss: 2.8006, \n"
     ]
    },
    {
     "name": "stdout",
     "output_type": "stream",
     "text": [
      "epoch: 1, [batch: 3360 / 33600], examples_per_second: 3200.8131, train_label_loss: 1.5133, \n"
     ]
    },
    {
     "name": "stdout",
     "output_type": "stream",
     "text": [
      "epoch: 1, [batch: 6720 / 33600], examples_per_second: 3190.6460, train_label_loss: 0.6450, \n"
     ]
    },
    {
     "name": "stdout",
     "output_type": "stream",
     "text": [
      "epoch: 1, [batch: 10080 / 33600], examples_per_second: 3197.4098, train_label_loss: 0.9700, \n"
     ]
    },
    {
     "name": "stdout",
     "output_type": "stream",
     "text": [
      "epoch: 1, [batch: 13440 / 33600], examples_per_second: 3181.7622, train_label_loss: 1.1667, \n"
     ]
    },
    {
     "name": "stdout",
     "output_type": "stream",
     "text": [
      "epoch: 1, [batch: 16800 / 33600], examples_per_second: 3191.9848, train_label_loss: 0.6492, \n"
     ]
    },
    {
     "name": "stdout",
     "output_type": "stream",
     "text": [
      "epoch: 1, [batch: 20160 / 33600], examples_per_second: 3196.1845, train_label_loss: 0.7322, \n"
     ]
    },
    {
     "name": "stdout",
     "output_type": "stream",
     "text": [
      "epoch: 1, [batch: 23520 / 33600], examples_per_second: 3190.4370, train_label_loss: 1.0571, \n"
     ]
    },
    {
     "name": "stdout",
     "output_type": "stream",
     "text": [
      "epoch: 1, [batch: 26880 / 33600], examples_per_second: 3191.3533, train_label_loss: 0.7076, \n"
     ]
    },
    {
     "name": "stdout",
     "output_type": "stream",
     "text": [
      "epoch: 1, [batch: 30240 / 33600], examples_per_second: 3195.9594, train_label_loss: 1.5312, \n"
     ]
    },
    {
     "name": "stdout",
     "output_type": "stream",
     "text": [
      "=============================================================\n",
      "epoch: 1, source_val_acc_label: 0.6422, target_val_acc_label: 0.6526, source_val_label_loss: 1.0143, target_val_label_loss: 0.9819, \n",
      "=============================================================\n"
     ]
    },
    {
     "name": "stdout",
     "output_type": "stream",
     "text": [
      "New best\n"
     ]
    },
    {
     "name": "stdout",
     "output_type": "stream",
     "text": [
      "epoch: 2, [batch: 1 / 33600], examples_per_second: 0.9597, train_label_loss: 0.4613, \n"
     ]
    },
    {
     "name": "stdout",
     "output_type": "stream",
     "text": [
      "epoch: 2, [batch: 3360 / 33600], examples_per_second: 3207.4231, train_label_loss: 0.5568, \n"
     ]
    },
    {
     "name": "stdout",
     "output_type": "stream",
     "text": [
      "epoch: 2, [batch: 6720 / 33600], examples_per_second: 3216.2381, train_label_loss: 0.9186, \n"
     ]
    },
    {
     "name": "stdout",
     "output_type": "stream",
     "text": [
      "epoch: 2, [batch: 10080 / 33600], examples_per_second: 3218.6872, train_label_loss: 0.5565, \n"
     ]
    },
    {
     "name": "stdout",
     "output_type": "stream",
     "text": [
      "epoch: 2, [batch: 13440 / 33600], examples_per_second: 3202.3909, train_label_loss: 0.6364, \n"
     ]
    },
    {
     "name": "stdout",
     "output_type": "stream",
     "text": [
      "epoch: 2, [batch: 16800 / 33600], examples_per_second: 3215.5430, train_label_loss: 0.9825, \n"
     ]
    },
    {
     "name": "stdout",
     "output_type": "stream",
     "text": [
      "epoch: 2, [batch: 20160 / 33600], examples_per_second: 3218.6417, train_label_loss: 0.7306, \n"
     ]
    },
    {
     "name": "stdout",
     "output_type": "stream",
     "text": [
      "epoch: 2, [batch: 23520 / 33600], examples_per_second: 3200.6708, train_label_loss: 0.7215, \n"
     ]
    },
    {
     "name": "stdout",
     "output_type": "stream",
     "text": [
      "epoch: 2, [batch: 26880 / 33600], examples_per_second: 3216.7340, train_label_loss: 0.5371, \n"
     ]
    },
    {
     "name": "stdout",
     "output_type": "stream",
     "text": [
      "epoch: 2, [batch: 30240 / 33600], examples_per_second: 3213.3304, train_label_loss: 0.4378, \n"
     ]
    },
    {
     "name": "stdout",
     "output_type": "stream",
     "text": [
      "=============================================================\n",
      "epoch: 2, source_val_acc_label: 0.6550, target_val_acc_label: 0.6690, source_val_label_loss: 0.9192, target_val_label_loss: 0.8783, \n",
      "=============================================================\n"
     ]
    },
    {
     "name": "stdout",
     "output_type": "stream",
     "text": [
      "New best\n"
     ]
    },
    {
     "name": "stdout",
     "output_type": "stream",
     "text": [
      "epoch: 3, [batch: 1 / 33600], examples_per_second: 0.9642, train_label_loss: 1.3032, \n"
     ]
    },
    {
     "name": "stdout",
     "output_type": "stream",
     "text": [
      "epoch: 3, [batch: 3360 / 33600], examples_per_second: 3213.2542, train_label_loss: 0.4791, \n"
     ]
    },
    {
     "name": "stdout",
     "output_type": "stream",
     "text": [
      "epoch: 3, [batch: 6720 / 33600], examples_per_second: 3226.6878, train_label_loss: 0.8675, \n"
     ]
    },
    {
     "name": "stdout",
     "output_type": "stream",
     "text": [
      "epoch: 3, [batch: 10080 / 33600], examples_per_second: 3223.7095, train_label_loss: 1.1254, \n"
     ]
    },
    {
     "name": "stdout",
     "output_type": "stream",
     "text": [
      "epoch: 3, [batch: 13440 / 33600], examples_per_second: 3199.3125, train_label_loss: 0.4685, \n"
     ]
    },
    {
     "name": "stdout",
     "output_type": "stream",
     "text": [
      "epoch: 3, [batch: 16800 / 33600], examples_per_second: 3213.6383, train_label_loss: 0.9498, \n"
     ]
    },
    {
     "name": "stdout",
     "output_type": "stream",
     "text": [
      "epoch: 3, [batch: 20160 / 33600], examples_per_second: 3220.4521, train_label_loss: 0.4442, \n"
     ]
    },
    {
     "name": "stdout",
     "output_type": "stream",
     "text": [
      "epoch: 3, [batch: 23520 / 33600], examples_per_second: 3204.8493, train_label_loss: 0.4973, \n"
     ]
    },
    {
     "name": "stdout",
     "output_type": "stream",
     "text": [
      "epoch: 3, [batch: 26880 / 33600], examples_per_second: 3208.0968, train_label_loss: 0.8245, \n"
     ]
    },
    {
     "name": "stdout",
     "output_type": "stream",
     "text": [
      "epoch: 3, [batch: 30240 / 33600], examples_per_second: 3214.4050, train_label_loss: 0.7675, \n"
     ]
    },
    {
     "name": "stdout",
     "output_type": "stream",
     "text": [
      "=============================================================\n",
      "epoch: 3, source_val_acc_label: 0.6850, target_val_acc_label: 0.6946, source_val_label_loss: 0.8765, target_val_label_loss: 0.8370, \n",
      "=============================================================\n"
     ]
    },
    {
     "name": "stdout",
     "output_type": "stream",
     "text": [
      "New best\n"
     ]
    },
    {
     "name": "stdout",
     "output_type": "stream",
     "text": [
      "epoch: 4, [batch: 1 / 33600], examples_per_second: 0.9595, train_label_loss: 1.1086, \n"
     ]
    },
    {
     "name": "stdout",
     "output_type": "stream",
     "text": [
      "epoch: 4, [batch: 3360 / 33600], examples_per_second: 3201.3919, train_label_loss: 0.9068, \n"
     ]
    },
    {
     "name": "stdout",
     "output_type": "stream",
     "text": [
      "epoch: 4, [batch: 6720 / 33600], examples_per_second: 3221.8841, train_label_loss: 0.5840, \n"
     ]
    },
    {
     "name": "stdout",
     "output_type": "stream",
     "text": [
      "epoch: 4, [batch: 10080 / 33600], examples_per_second: 3213.4574, train_label_loss: 0.8943, \n"
     ]
    },
    {
     "name": "stdout",
     "output_type": "stream",
     "text": [
      "epoch: 4, [batch: 13440 / 33600], examples_per_second: 3206.3098, train_label_loss: 0.9038, \n"
     ]
    },
    {
     "name": "stdout",
     "output_type": "stream",
     "text": [
      "epoch: 4, [batch: 16800 / 33600], examples_per_second: 3211.1340, train_label_loss: 0.5709, \n"
     ]
    },
    {
     "name": "stdout",
     "output_type": "stream",
     "text": [
      "epoch: 4, [batch: 20160 / 33600], examples_per_second: 3216.1878, train_label_loss: 0.5977, \n"
     ]
    },
    {
     "name": "stdout",
     "output_type": "stream",
     "text": [
      "epoch: 4, [batch: 23520 / 33600], examples_per_second: 3207.2771, train_label_loss: 0.3312, \n"
     ]
    },
    {
     "name": "stdout",
     "output_type": "stream",
     "text": [
      "epoch: 4, [batch: 26880 / 33600], examples_per_second: 3209.8594, train_label_loss: 0.9905, \n"
     ]
    },
    {
     "name": "stdout",
     "output_type": "stream",
     "text": [
      "epoch: 4, [batch: 30240 / 33600], examples_per_second: 3219.7725, train_label_loss: 1.1041, \n"
     ]
    },
    {
     "name": "stdout",
     "output_type": "stream",
     "text": [
      "=============================================================\n",
      "epoch: 4, source_val_acc_label: 0.7141, target_val_acc_label: 0.7191, source_val_label_loss: 0.7915, target_val_label_loss: 0.7653, \n",
      "=============================================================\n"
     ]
    },
    {
     "name": "stdout",
     "output_type": "stream",
     "text": [
      "New best\n"
     ]
    },
    {
     "name": "stdout",
     "output_type": "stream",
     "text": [
      "epoch: 5, [batch: 1 / 33600], examples_per_second: 0.9574, train_label_loss: 1.2307, \n"
     ]
    },
    {
     "name": "stdout",
     "output_type": "stream",
     "text": [
      "epoch: 5, [batch: 3360 / 33600], examples_per_second: 3203.2987, train_label_loss: 0.2649, \n"
     ]
    },
    {
     "name": "stdout",
     "output_type": "stream",
     "text": [
      "epoch: 5, [batch: 6720 / 33600], examples_per_second: 3221.1985, train_label_loss: 0.5324, \n"
     ]
    },
    {
     "name": "stdout",
     "output_type": "stream",
     "text": [
      "epoch: 5, [batch: 10080 / 33600], examples_per_second: 3215.2407, train_label_loss: 0.9986, \n"
     ]
    },
    {
     "name": "stdout",
     "output_type": "stream",
     "text": [
      "epoch: 5, [batch: 13440 / 33600], examples_per_second: 3201.1306, train_label_loss: 0.4575, \n"
     ]
    },
    {
     "name": "stdout",
     "output_type": "stream",
     "text": [
      "epoch: 5, [batch: 16800 / 33600], examples_per_second: 3209.9189, train_label_loss: 0.3443, \n"
     ]
    },
    {
     "name": "stdout",
     "output_type": "stream",
     "text": [
      "epoch: 5, [batch: 20160 / 33600], examples_per_second: 3218.2516, train_label_loss: 0.4984, \n"
     ]
    },
    {
     "name": "stdout",
     "output_type": "stream",
     "text": [
      "epoch: 5, [batch: 23520 / 33600], examples_per_second: 3203.3000, train_label_loss: 0.4448, \n"
     ]
    },
    {
     "name": "stdout",
     "output_type": "stream",
     "text": [
      "epoch: 5, [batch: 26880 / 33600], examples_per_second: 3211.2467, train_label_loss: 0.2097, \n"
     ]
    },
    {
     "name": "stdout",
     "output_type": "stream",
     "text": [
      "epoch: 5, [batch: 30240 / 33600], examples_per_second: 3215.8554, train_label_loss: 0.2930, \n"
     ]
    },
    {
     "name": "stdout",
     "output_type": "stream",
     "text": [
      "=============================================================\n",
      "epoch: 5, source_val_acc_label: 0.7288, target_val_acc_label: 0.7320, source_val_label_loss: 0.7729, target_val_label_loss: 0.7521, \n",
      "=============================================================\n"
     ]
    },
    {
     "name": "stdout",
     "output_type": "stream",
     "text": [
      "New best\n"
     ]
    },
    {
     "name": "stdout",
     "output_type": "stream",
     "text": [
      "epoch: 6, [batch: 1 / 33600], examples_per_second: 0.9636, train_label_loss: 0.5224, \n"
     ]
    },
    {
     "name": "stdout",
     "output_type": "stream",
     "text": [
      "epoch: 6, [batch: 3360 / 33600], examples_per_second: 3206.9467, train_label_loss: 0.4449, \n"
     ]
    },
    {
     "name": "stdout",
     "output_type": "stream",
     "text": [
      "epoch: 6, [batch: 6720 / 33600], examples_per_second: 3222.0832, train_label_loss: 0.6317, \n"
     ]
    },
    {
     "name": "stdout",
     "output_type": "stream",
     "text": [
      "epoch: 6, [batch: 10080 / 33600], examples_per_second: 3215.5963, train_label_loss: 0.8609, \n"
     ]
    },
    {
     "name": "stdout",
     "output_type": "stream",
     "text": [
      "epoch: 6, [batch: 13440 / 33600], examples_per_second: 3189.9219, train_label_loss: 0.6596, \n"
     ]
    },
    {
     "name": "stdout",
     "output_type": "stream",
     "text": [
      "epoch: 6, [batch: 16800 / 33600], examples_per_second: 3136.9661, train_label_loss: 0.2441, \n"
     ]
    },
    {
     "name": "stdout",
     "output_type": "stream",
     "text": [
      "epoch: 6, [batch: 20160 / 33600], examples_per_second: 3079.0561, train_label_loss: 0.7064, \n"
     ]
    },
    {
     "name": "stdout",
     "output_type": "stream",
     "text": [
      "epoch: 6, [batch: 23520 / 33600], examples_per_second: 3129.0751, train_label_loss: 0.2043, \n"
     ]
    },
    {
     "name": "stdout",
     "output_type": "stream",
     "text": [
      "epoch: 6, [batch: 26880 / 33600], examples_per_second: 3146.4849, train_label_loss: 0.8701, \n"
     ]
    },
    {
     "name": "stdout",
     "output_type": "stream",
     "text": [
      "epoch: 6, [batch: 30240 / 33600], examples_per_second: 3142.4162, train_label_loss: 0.4129, \n"
     ]
    },
    {
     "name": "stdout",
     "output_type": "stream",
     "text": [
      "=============================================================\n",
      "epoch: 6, source_val_acc_label: 0.7284, target_val_acc_label: 0.7319, source_val_label_loss: 0.7616, target_val_label_loss: 0.7403, \n",
      "=============================================================\n"
     ]
    },
    {
     "name": "stdout",
     "output_type": "stream",
     "text": [
      "epoch: 7, [batch: 1 / 33600], examples_per_second: 0.9313, train_label_loss: 0.3318, \n"
     ]
    },
    {
     "name": "stdout",
     "output_type": "stream",
     "text": [
      "epoch: 7, [batch: 3360 / 33600], examples_per_second: 3143.8229, train_label_loss: 0.3313, \n"
     ]
    },
    {
     "name": "stdout",
     "output_type": "stream",
     "text": [
      "epoch: 7, [batch: 6720 / 33600], examples_per_second: 3110.6170, train_label_loss: 0.7089, \n"
     ]
    },
    {
     "name": "stdout",
     "output_type": "stream",
     "text": [
      "epoch: 7, [batch: 10080 / 33600], examples_per_second: 3168.7237, train_label_loss: 0.4212, \n"
     ]
    },
    {
     "name": "stdout",
     "output_type": "stream",
     "text": [
      "epoch: 7, [batch: 13440 / 33600], examples_per_second: 3180.6480, train_label_loss: 0.2837, \n"
     ]
    },
    {
     "name": "stdout",
     "output_type": "stream",
     "text": [
      "epoch: 7, [batch: 16800 / 33600], examples_per_second: 3194.1611, train_label_loss: 0.3672, \n"
     ]
    },
    {
     "name": "stdout",
     "output_type": "stream",
     "text": [
      "epoch: 7, [batch: 20160 / 33600], examples_per_second: 3201.6629, train_label_loss: 0.5366, \n"
     ]
    },
    {
     "name": "stdout",
     "output_type": "stream",
     "text": [
      "epoch: 7, [batch: 23520 / 33600], examples_per_second: 3187.0280, train_label_loss: 0.3813, \n"
     ]
    },
    {
     "name": "stdout",
     "output_type": "stream",
     "text": [
      "epoch: 7, [batch: 26880 / 33600], examples_per_second: 3188.4559, train_label_loss: 0.6729, \n"
     ]
    },
    {
     "name": "stdout",
     "output_type": "stream",
     "text": [
      "epoch: 7, [batch: 30240 / 33600], examples_per_second: 3214.2032, train_label_loss: 0.3165, \n"
     ]
    },
    {
     "name": "stdout",
     "output_type": "stream",
     "text": [
      "=============================================================\n",
      "epoch: 7, source_val_acc_label: 0.7296, target_val_acc_label: 0.7308, source_val_label_loss: 0.7799, target_val_label_loss: 0.7672, \n",
      "=============================================================\n"
     ]
    },
    {
     "name": "stdout",
     "output_type": "stream",
     "text": [
      "epoch: 8, [batch: 1 / 33600], examples_per_second: 0.9626, train_label_loss: 0.4234, \n"
     ]
    },
    {
     "name": "stdout",
     "output_type": "stream",
     "text": [
      "epoch: 8, [batch: 3360 / 33600], examples_per_second: 3213.1681, train_label_loss: 0.5144, \n"
     ]
    },
    {
     "name": "stdout",
     "output_type": "stream",
     "text": [
      "epoch: 8, [batch: 6720 / 33600], examples_per_second: 3223.3330, train_label_loss: 0.2826, \n"
     ]
    },
    {
     "name": "stdout",
     "output_type": "stream",
     "text": [
      "epoch: 8, [batch: 10080 / 33600], examples_per_second: 3215.1270, train_label_loss: 0.6356, \n"
     ]
    },
    {
     "name": "stdout",
     "output_type": "stream",
     "text": [
      "epoch: 8, [batch: 13440 / 33600], examples_per_second: 3203.0919, train_label_loss: 0.2984, \n"
     ]
    },
    {
     "name": "stdout",
     "output_type": "stream",
     "text": [
      "epoch: 8, [batch: 16800 / 33600], examples_per_second: 3216.5360, train_label_loss: 0.8697, \n"
     ]
    },
    {
     "name": "stdout",
     "output_type": "stream",
     "text": [
      "epoch: 8, [batch: 20160 / 33600], examples_per_second: 3222.8640, train_label_loss: 0.6090, \n"
     ]
    },
    {
     "name": "stdout",
     "output_type": "stream",
     "text": [
      "epoch: 8, [batch: 23520 / 33600], examples_per_second: 3215.6889, train_label_loss: 0.3034, \n"
     ]
    },
    {
     "name": "stdout",
     "output_type": "stream",
     "text": [
      "epoch: 8, [batch: 26880 / 33600], examples_per_second: 3222.6722, train_label_loss: 0.6251, \n"
     ]
    },
    {
     "name": "stdout",
     "output_type": "stream",
     "text": [
      "epoch: 8, [batch: 30240 / 33600], examples_per_second: 3228.1852, train_label_loss: 0.3311, \n"
     ]
    },
    {
     "name": "stdout",
     "output_type": "stream",
     "text": [
      "=============================================================\n",
      "epoch: 8, source_val_acc_label: 0.7248, target_val_acc_label: 0.7261, source_val_label_loss: 0.7734, target_val_label_loss: 0.7633, \n",
      "=============================================================\n"
     ]
    },
    {
     "name": "stdout",
     "output_type": "stream",
     "text": [
      "epoch: 9, [batch: 1 / 33600], examples_per_second: 0.9621, train_label_loss: 0.5434, \n"
     ]
    },
    {
     "name": "stdout",
     "output_type": "stream",
     "text": [
      "epoch: 9, [batch: 3360 / 33600], examples_per_second: 3207.0971, train_label_loss: 0.1887, \n"
     ]
    },
    {
     "name": "stdout",
     "output_type": "stream",
     "text": [
      "epoch: 9, [batch: 6720 / 33600], examples_per_second: 3225.9766, train_label_loss: 0.4905, \n"
     ]
    },
    {
     "name": "stdout",
     "output_type": "stream",
     "text": [
      "epoch: 9, [batch: 10080 / 33600], examples_per_second: 3232.0405, train_label_loss: 0.5822, \n"
     ]
    },
    {
     "name": "stdout",
     "output_type": "stream",
     "text": [
      "epoch: 9, [batch: 13440 / 33600], examples_per_second: 3209.1915, train_label_loss: 0.3395, \n"
     ]
    },
    {
     "name": "stdout",
     "output_type": "stream",
     "text": [
      "epoch: 9, [batch: 16800 / 33600], examples_per_second: 3215.9083, train_label_loss: 0.3063, \n"
     ]
    },
    {
     "name": "stdout",
     "output_type": "stream",
     "text": [
      "epoch: 9, [batch: 20160 / 33600], examples_per_second: 3228.3545, train_label_loss: 0.3840, \n"
     ]
    },
    {
     "name": "stdout",
     "output_type": "stream",
     "text": [
      "epoch: 9, [batch: 23520 / 33600], examples_per_second: 3212.2523, train_label_loss: 0.2072, \n"
     ]
    },
    {
     "name": "stdout",
     "output_type": "stream",
     "text": [
      "epoch: 9, [batch: 26880 / 33600], examples_per_second: 3218.0344, train_label_loss: 0.9032, \n"
     ]
    },
    {
     "name": "stdout",
     "output_type": "stream",
     "text": [
      "epoch: 9, [batch: 30240 / 33600], examples_per_second: 3222.5324, train_label_loss: 0.5964, \n"
     ]
    },
    {
     "name": "stdout",
     "output_type": "stream",
     "text": [
      "=============================================================\n",
      "epoch: 9, source_val_acc_label: 0.7244, target_val_acc_label: 0.7276, source_val_label_loss: 0.7811, target_val_label_loss: 0.7729, \n",
      "=============================================================\n"
     ]
    },
    {
     "name": "stdout",
     "output_type": "stream",
     "text": [
      "Patience (3) exhausted\n"
     ]
    }
   ],
   "source": [
    "###################################\n",
    "# train\n",
    "###################################\n",
    "jig = PTN_Train_Eval_Test_Jig(model, p.BEST_MODEL_PATH, p.device)\n",
    "\n",
    "jig.train(\n",
    "    train_iterable=datasets.source.processed.train,\n",
    "    source_val_iterable=datasets.source.processed.val,\n",
    "    target_val_iterable=datasets.target.processed.val,\n",
    "    num_epochs=p.n_epoch,\n",
    "    num_logs_per_epoch=p.NUM_LOGS_PER_EPOCH,\n",
    "    patience=p.patience,\n",
    "    optimizer=optimizer,\n",
    "    criteria_for_best=p.criteria_for_best,\n",
    ")"
   ]
  },
  {
   "cell_type": "code",
   "execution_count": 23,
   "id": "31e8fabf",
   "metadata": {
    "execution": {
     "iopub.execute_input": "2022-03-25T01:54:01.249665Z",
     "iopub.status.busy": "2022-03-25T01:54:01.248236Z",
     "iopub.status.idle": "2022-03-25T01:54:01.267999Z",
     "shell.execute_reply": "2022-03-25T01:54:01.268284Z"
    },
    "papermill": {
     "duration": 0.055433,
     "end_time": "2022-03-25T01:54:01.268376",
     "exception": false,
     "start_time": "2022-03-25T01:54:01.212943",
     "status": "completed"
    },
    "tags": []
   },
   "outputs": [],
   "source": [
    "total_experiment_time_secs = time.time() - start_time_secs"
   ]
  },
  {
   "cell_type": "code",
   "execution_count": 24,
   "id": "87b9595b",
   "metadata": {
    "execution": {
     "iopub.execute_input": "2022-03-25T01:54:01.344875Z",
     "iopub.status.busy": "2022-03-25T01:54:01.344563Z",
     "iopub.status.idle": "2022-03-25T02:02:03.113291Z",
     "shell.execute_reply": "2022-03-25T02:02:03.112752Z"
    },
    "papermill": {
     "duration": 481.807457,
     "end_time": "2022-03-25T02:02:03.113402",
     "exception": false,
     "start_time": "2022-03-25T01:54:01.305945",
     "status": "completed"
    },
    "tags": []
   },
   "outputs": [],
   "source": [
    "###################################\n",
    "# Evaluate the model\n",
    "###################################\n",
    "source_test_label_accuracy, source_test_label_loss = jig.test(datasets.source.processed.test)\n",
    "target_test_label_accuracy, target_test_label_loss = jig.test(datasets.target.processed.test)\n",
    "\n",
    "source_val_label_accuracy, source_val_label_loss = jig.test(datasets.source.processed.val)\n",
    "target_val_label_accuracy, target_val_label_loss = jig.test(datasets.target.processed.val)\n",
    "\n",
    "history = jig.get_history()\n",
    "\n",
    "total_epochs_trained = len(history[\"epoch_indices\"])\n",
    "\n",
    "val_dl = Iterable_Aggregator((datasets.source.original.val,datasets.target.original.val))\n",
    "\n",
    "confusion = ptn_confusion_by_domain_over_dataloader(model, p.device, val_dl)\n",
    "per_domain_accuracy = per_domain_accuracy_from_confusion(confusion)\n",
    "\n",
    "# Add a key to per_domain_accuracy for if it was a source domain\n",
    "for domain, accuracy in per_domain_accuracy.items():\n",
    "    per_domain_accuracy[domain] = {\n",
    "        \"accuracy\": accuracy,\n",
    "        \"source?\": domain in p.domains_source\n",
    "    }\n",
    "\n",
    "# Do an independent accuracy assesment JUST TO BE SURE!\n",
    "# _source_test_label_accuracy = independent_accuracy_assesment(model, datasets.source.processed.test, p.device)\n",
    "# _target_test_label_accuracy = independent_accuracy_assesment(model, datasets.target.processed.test, p.device)\n",
    "# _source_val_label_accuracy = independent_accuracy_assesment(model, datasets.source.processed.val, p.device)\n",
    "# _target_val_label_accuracy = independent_accuracy_assesment(model, datasets.target.processed.val, p.device)\n",
    "\n",
    "# assert(_source_test_label_accuracy == source_test_label_accuracy)\n",
    "# assert(_target_test_label_accuracy == target_test_label_accuracy)\n",
    "# assert(_source_val_label_accuracy == source_val_label_accuracy)\n",
    "# assert(_target_val_label_accuracy == target_val_label_accuracy)\n",
    "\n",
    "experiment = {\n",
    "    \"experiment_name\": p.experiment_name,\n",
    "    \"parameters\": dict(p),\n",
    "    \"results\": {\n",
    "        \"source_test_label_accuracy\": source_test_label_accuracy,\n",
    "        \"source_test_label_loss\": source_test_label_loss,\n",
    "        \"target_test_label_accuracy\": target_test_label_accuracy,\n",
    "        \"target_test_label_loss\": target_test_label_loss,\n",
    "        \"source_val_label_accuracy\": source_val_label_accuracy,\n",
    "        \"source_val_label_loss\": source_val_label_loss,\n",
    "        \"target_val_label_accuracy\": target_val_label_accuracy,\n",
    "        \"target_val_label_loss\": target_val_label_loss,\n",
    "        \"total_epochs_trained\": total_epochs_trained,\n",
    "        \"total_experiment_time_secs\": total_experiment_time_secs,\n",
    "        \"confusion\": confusion,\n",
    "        \"per_domain_accuracy\": per_domain_accuracy,\n",
    "    },\n",
    "    \"history\": history,\n",
    "    \"dataset_metrics\": get_dataset_metrics(datasets, \"ptn\"),\n",
    "}"
   ]
  },
  {
   "cell_type": "code",
   "execution_count": 25,
   "id": "54a21829",
   "metadata": {
    "execution": {
     "iopub.execute_input": "2022-03-25T02:02:03.200065Z",
     "iopub.status.busy": "2022-03-25T02:02:03.194735Z",
     "iopub.status.idle": "2022-03-25T02:02:03.327445Z",
     "shell.execute_reply": "2022-03-25T02:02:03.327042Z"
    },
    "papermill": {
     "duration": 0.169293,
     "end_time": "2022-03-25T02:02:03.327539",
     "exception": false,
     "start_time": "2022-03-25T02:02:03.158246",
     "status": "completed"
    },
    "tags": []
   },
   "outputs": [
    {
     "data": {
      "image/png": "[encoded data removed]",
      "text/plain": [
       "<Figure size 1080x504 with 1 Axes>"
      ]
     },
     "metadata": {
      "needs_background": "light"
     },
     "output_type": "display_data"
    }
   ],
   "source": [
    "ax = get_loss_curve(experiment)\n",
    "plt.show()"
   ]
  },
  {
   "cell_type": "code",
   "execution_count": 26,
   "id": "fd8a0f60",
   "metadata": {
    "execution": {
     "iopub.execute_input": "2022-03-25T02:02:03.399364Z",
     "iopub.status.busy": "2022-03-25T02:02:03.399118Z",
     "iopub.status.idle": "2022-03-25T02:02:03.537244Z",
     "shell.execute_reply": "2022-03-25T02:02:03.536971Z"
    },
    "papermill": {
     "duration": 0.172935,
     "end_time": "2022-03-25T02:02:03.537304",
     "exception": false,
     "start_time": "2022-03-25T02:02:03.364369",
     "status": "completed"
    },
    "tags": []
   },
   "outputs": [
    {
     "data": {
      "text/plain": [
       "<AxesSubplot:title={'center':'Results'}>"
      ]
     },
     "execution_count": 26,
     "metadata": {},
     "output_type": "execute_result"
    },
    {
     "data": {
      "image/png": "[encoded data removed]",
      "text/plain": [
       "<Figure size 1080x504 with 1 Axes>"
      ]
     },
     "metadata": {
      "needs_background": "light"
     },
     "output_type": "display_data"
    }
   ],
   "source": [
    "get_results_table(experiment)"
   ]
  },
  {
   "cell_type": "code",
   "execution_count": 27,
   "id": "cf8dc689",
   "metadata": {
    "execution": {
     "iopub.execute_input": "2022-03-25T02:02:03.611468Z",
     "iopub.status.busy": "2022-03-25T02:02:03.610988Z",
     "iopub.status.idle": "2022-03-25T02:02:03.767881Z",
     "shell.execute_reply": "2022-03-25T02:02:03.767483Z"
    },
    "papermill": {
     "duration": 0.194336,
     "end_time": "2022-03-25T02:02:03.767976",
     "exception": false,
     "start_time": "2022-03-25T02:02:03.573640",
     "status": "completed"
    },
    "tags": []
   },
   "outputs": [
    {
     "data": {
      "text/plain": [
       "<AxesSubplot:title={'center':'Per Domain Validation Accuracy'}, xlabel='domain'>"
      ]
     },
     "execution_count": 27,
     "metadata": {},
     "output_type": "execute_result"
    },
    {
     "data": {
      "image/png": "[encoded data removed]",
      "text/plain": [
       "<Figure size 1080x504 with 1 Axes>"
      ]
     },
     "metadata": {
      "needs_background": "light"
     },
     "output_type": "display_data"
    }
   ],
   "source": [
    "get_domain_accuracies(experiment)"
   ]
  },
  {
   "cell_type": "code",
   "execution_count": 28,
   "id": "a74ae082",
   "metadata": {
    "execution": {
     "iopub.execute_input": "2022-03-25T02:02:03.845568Z",
     "iopub.status.busy": "2022-03-25T02:02:03.845305Z",
     "iopub.status.idle": "2022-03-25T02:02:03.862161Z",
     "shell.execute_reply": "2022-03-25T02:02:03.861704Z"
    },
    "papermill": {
     "duration": 0.055488,
     "end_time": "2022-03-25T02:02:03.862253",
     "exception": false,
     "start_time": "2022-03-25T02:02:03.806765",
     "status": "completed"
    },
    "tags": []
   },
   "outputs": [
    {
     "name": "stdout",
     "output_type": "stream",
     "text": [
      "Source Test Label Accuracy: 0.7266796875 Target Test Label Accuracy: 0.7335221354166667\n",
      "Source Val Label Accuracy: 0.7287565104166667 Target Val Label Accuracy: 0.7320377604166667\n"
     ]
    }
   ],
   "source": [
    "print(\"Source Test Label Accuracy:\", experiment[\"results\"][\"source_test_label_accuracy\"], \"Target Test Label Accuracy:\", experiment[\"results\"][\"target_test_label_accuracy\"])\n",
    "print(\"Source Val Label Accuracy:\", experiment[\"results\"][\"source_val_label_accuracy\"], \"Target Val Label Accuracy:\", experiment[\"results\"][\"target_val_label_accuracy\"])"
   ]
  },
  {
   "cell_type": "code",
   "execution_count": 29,
   "id": "dacca602",
   "metadata": {
    "execution": {
     "iopub.execute_input": "2022-03-25T02:02:03.941239Z",
     "iopub.status.busy": "2022-03-25T02:02:03.940457Z",
     "iopub.status.idle": "2022-03-25T02:02:03.957299Z",
     "shell.execute_reply": "2022-03-25T02:02:03.957674Z"
    },
    "papermill": {
     "duration": 0.055476,
     "end_time": "2022-03-25T02:02:03.957780",
     "exception": false,
     "start_time": "2022-03-25T02:02:03.902304",
     "status": "completed"
    },
    "tags": [
     "experiment_json"
    ]
   },
   "outputs": [
    {
     "data": {
      "text/plain": [
       "'{\"experiment_name\": \"tl_1v2:oracle.run1-oracle.run2\", \"parameters\": {\"experiment_name\": \"tl_1v2:oracle.run1-oracle.run2\", \"device\": \"cuda\", \"lr\": 0.0001, \"n_shot\": 3, \"n_query\": 2, \"train_k_factor\": 3, \"val_k_factor\": 2, \"test_k_factor\": 2, \"torch_default_dtype\": \"torch.float32\", \"n_epoch\": 50, \"patience\": 3, \"criteria_for_best\": \"target_accuracy\", \"x_net\": [{\"class\": \"nnReshape\", \"kargs\": {\"shape\": [-1, 1, 2, 256]}}, {\"class\": \"Conv2d\", \"kargs\": {\"in_channels\": 1, \"out_channels\": 256, \"kernel_size\": [1, 7], \"bias\": false, \"padding\": [0, 3]}}, {\"class\": \"ReLU\", \"kargs\": {\"inplace\": true}}, {\"class\": \"BatchNorm2d\", \"kargs\": {\"num_features\": 256}}, {\"class\": \"Conv2d\", \"kargs\": {\"in_channels\": 256, \"out_channels\": 80, \"kernel_size\": [2, 7], \"bias\": true, \"padding\": [0, 3]}}, {\"class\": \"ReLU\", \"kargs\": {\"inplace\": true}}, {\"class\": \"BatchNorm2d\", \"kargs\": {\"num_features\": 80}}, {\"class\": \"Flatten\", \"kargs\": {}}, {\"class\": \"Linear\", \"kargs\": {\"in_features\": 20480, \"out_features\": 256}}, {\"class\": \"ReLU\", \"kargs\": {\"inplace\": true}}, {\"class\": \"BatchNorm1d\", \"kargs\": {\"num_features\": 256}}, {\"class\": \"Linear\", \"kargs\": {\"in_features\": 256, \"out_features\": 256}}], \"NUM_LOGS_PER_EPOCH\": 10, \"BEST_MODEL_PATH\": \"./best_model.pth\", \"n_way\": 16, \"datasets\": [{\"labels\": [\"3123D52\", \"3123D65\", \"3123D79\", \"3123D80\", \"3123D54\", \"3123D70\", \"3123D7B\", \"3123D89\", \"3123D58\", \"3123D76\", \"3123D7D\", \"3123EFE\", \"3123D64\", \"3123D78\", \"3123D7E\", \"3124E4A\"], \"domains\": [32, 38, 8, 44, 14, 50, 20, 26], \"num_examples_per_domain_per_label\": 10000, \"pickle_path\": \"/mnt/wd500GB/CSC500/csc500-main/datasets/oracle.Run1_10kExamples_stratified_ds.2022A.pkl\", \"source_or_target_dataset\": \"target\", \"x_transforms\": [\"unit_power\"], \"episode_transforms\": [], \"domain_prefix\": \"ORACLE.run1_\"}, {\"labels\": [\"3123D52\", \"3123D65\", \"3123D79\", \"3123D80\", \"3123D54\", \"3123D70\", \"3123D7B\", \"3123D89\", \"3123D58\", \"3123D76\", \"3123D7D\", \"3123EFE\", \"3123D64\", \"3123D78\", \"3123D7E\", \"3124E4A\"], \"domains\": [32, 38, 8, 44, 14, 50, 20, 26], \"num_examples_per_domain_per_label\": 10000, \"pickle_path\": \"/mnt/wd500GB/CSC500/csc500-main/datasets/oracle.Run2_10kExamples_stratified_ds.2022A.pkl\", \"source_or_target_dataset\": \"source\", \"x_transforms\": [\"unit_power\"], \"episode_transforms\": [], \"domain_prefix\": \"ORACLE.run2_\"}], \"dataset_seed\": 154325, \"seed\": 154325, \"x_shape\": [2, 256], \"domains_source\": [\"ORACLE.run2_32\", \"ORACLE.run2_38\", \"ORACLE.run2_8\", \"ORACLE.run2_44\", \"ORACLE.run2_14\", \"ORACLE.run2_50\", \"ORACLE.run2_20\", \"ORACLE.run2_26\"], \"domains_target\": [\"ORACLE.run1_32\", \"ORACLE.run1_38\", \"ORACLE.run1_8\", \"ORACLE.run1_44\", \"ORACLE.run1_14\", \"ORACLE.run1_50\", \"ORACLE.run1_20\", \"ORACLE.run1_26\"]}, \"results\": {\"source_test_label_accuracy\": 0.7266796875, \"source_test_label_loss\": 0.7785096764564514, \"target_test_label_accuracy\": 0.7335221354166667, \"target_test_label_loss\": 0.7442340850830078, \"source_val_label_accuracy\": 0.7287565104166667, \"source_val_label_loss\": 0.7728997468948364, \"target_val_label_accuracy\": 0.7320377604166667, \"target_val_label_loss\": 0.7521167993545532, \"total_epochs_trained\": 9, \"total_experiment_time_secs\": 8487.295663118362, \"confusion\": {\"ORACLE.run2_8\": {\"13\": {\"13\": 906, \"10\": 55, \"14\": 131, \"1\": 84, \"5\": 6, \"6\": 8, \"4\": 3, \"0\": 5, \"8\": 2}, \"9\": {\"9\": 1199, \"5\": 1}, \"15\": {\"8\": 112, \"12\": 184, \"11\": 164, \"15\": 725, \"3\": 11, \"7\": 4}, \"2\": {\"2\": 959, \"7\": 145, \"6\": 11, \"4\": 85}, \"3\": {\"3\": 1117, \"12\": 76, \"15\": 7}, \"8\": {\"8\": 1032, \"11\": 108, \"15\": 52, \"7\": 1, \"6\": 2, \"13\": 5}, \"5\": {\"5\": 985, \"10\": 174, \"1\": 27, \"0\": 6, \"13\": 8}, \"14\": {\"13\": 117, \"0\": 178, \"14\": 793, \"10\": 51, \"7\": 1, \"6\": 46, \"4\": 14}, \"1\": {\"1\": 1112, \"5\": 18, \"13\": 68, \"10\": 2}, \"0\": {\"0\": 864, \"14\": 182, \"10\": 141, \"6\": 4, \"13\": 4, \"4\": 5}, \"10\": {\"10\": 773, \"5\": 137, \"14\": 67, \"0\": 177, \"13\": 42, \"1\": 4}, \"6\": {\"6\": 608, \"7\": 176, \"4\": 354, \"14\": 44, \"2\": 8, \"8\": 5, \"13\": 5}, \"11\": {\"11\": 685, \"12\": 85, \"15\": 157, \"8\": 272, \"7\": 1}, \"7\": {\"7\": 655, \"4\": 258, \"6\": 179, \"2\": 104, \"8\": 2, \"15\": 1, \"13\": 1}, \"4\": {\"7\": 239, \"6\": 364, \"4\": 511, \"2\": 77, \"14\": 9}, \"12\": {\"12\": 990, \"15\": 114, \"11\": 28, \"3\": 68}}, \"ORACLE.run2_38\": {\"13\": {\"3\": 158, \"13\": 700, \"7\": 18, \"1\": 45, \"8\": 124, \"15\": 46, \"2\": 12, \"5\": 55, \"10\": 21, \"0\": 7, \"9\": 6, \"14\": 4, \"6\": 4}, \"12\": {\"12\": 1171, \"14\": 17, \"4\": 12}, \"2\": {\"2\": 1071, \"14\": 129}, \"9\": {\"9\": 904, \"6\": 280, \"3\": 10, \"0\": 6}, \"15\": {\"15\": 658, \"8\": 204, \"5\": 164, \"1\": 118, \"9\": 3, \"3\": 10, \"13\": 14, \"6\": 15, \"0\": 8, \"7\": 5, \"10\": 1}, \"5\": {\"5\": 464, \"7\": 145, \"15\": 149, \"8\": 390, \"10\": 18, \"13\": 27, \"3\": 2, \"0\": 3, \"1\": 2}, \"14\": {\"12\": 78, \"14\": 790, \"2\": 271, \"11\": 25, \"7\": 17, \"8\": 3, \"10\": 4, \"5\": 11, \"13\": 1}, \"0\": {\"0\": 993, \"3\": 150, \"10\": 31, \"9\": 7, \"13\": 1, \"5\": 1, \"7\": 12, \"8\": 1, \"15\": 4}, \"3\": {\"3\": 558, \"7\": 30, \"6\": 28, \"13\": 149, \"0\": 194, \"15\": 26, \"8\": 57, \"9\": 59, \"10\": 79, \"5\": 17, \"1\": 3}, \"1\": {\"1\": 1150, \"15\": 40, \"8\": 5, \"13\": 4, \"5\": 1}, \"11\": {\"11\": 1116, \"14\": 60, \"12\": 15, \"4\": 2, \"2\": 7}, \"7\": {\"10\": 296, \"7\": 626, \"5\": 129, \"8\": 111, \"13\": 18, \"3\": 12, \"0\": 2, \"15\": 6}, \"8\": {\"8\": 469, \"15\": 206, \"7\": 80, \"5\": 368, \"13\": 56, \"10\": 15, \"3\": 3, \"1\": 3}, \"4\": {\"4\": 1140, \"12\": 52, \"7\": 4, \"10\": 4}, \"10\": {\"10\": 724, \"7\": 353, \"13\": 18, \"3\": 44, \"5\": 20, \"0\": 8, \"8\": 31, \"15\": 2}, \"6\": {\"6\": 943, \"9\": 252, \"0\": 3, \"15\": 1, \"3\": 1}}, \"ORACLE.run2_26\": {\"10\": {\"14\": 178, \"0\": 224, \"4\": 69, \"10\": 407, \"6\": 80, \"8\": 107, \"1\": 84, \"2\": 14, \"15\": 7, \"9\": 9, \"7\": 13, \"3\": 1, \"12\": 5, \"5\": 2}, \"12\": {\"12\": 1199, \"11\": 1}, \"1\": {\"1\": 703, \"14\": 334, \"4\": 12, \"0\": 71, \"10\": 64, \"8\": 13, \"2\": 1, \"5\": 1, \"7\": 1}, \"0\": {\"14\": 235, \"1\": 81, \"0\": 465, \"8\": 85, \"4\": 121, \"10\": 178, \"2\": 15, \"7\": 11, \"9\": 2, \"15\": 4, \"3\": 3}, \"15\": {\"15\": 711, \"4\": 44, \"3\": 233, \"7\": 90, \"8\": 7, \"2\": 101, \"9\": 8, \"0\": 4, \"5\": 2}, \"13\": {\"13\": 904, \"9\": 78, \"5\": 183, \"6\": 25, \"8\": 6, \"2\": 1, \"7\": 3}, \"8\": {\"0\": 73, \"9\": 94, \"8\": 573, \"7\": 118, \"4\": 28, \"5\": 39, \"14\": 73, \"2\": 96, \"10\": 69, \"15\": 10, \"6\": 14, \"1\": 9, \"3\": 1, \"13\": 3}, \"3\": {\"3\": 725, \"4\": 80, \"8\": 7, \"15\": 190, \"2\": 121, \"7\": 75, \"5\": 1, \"0\": 1}, \"11\": {\"11\": 1197, \"12\": 3}, \"4\": {\"0\": 109, \"4\": 702, \"3\": 69, \"7\": 62, \"8\": 34, \"14\": 58, \"2\": 81, \"1\": 18, \"10\": 21, \"15\": 46}, \"6\": {\"6\": 958, \"9\": 138, \"13\": 48, \"5\": 19, \"8\": 14, \"10\": 20, \"0\": 3}, \"7\": {\"4\": 80, \"7\": 410, \"8\": 130, \"2\": 366, \"15\": 61, \"3\": 64, \"14\": 2, \"5\": 51, \"10\": 3, \"0\": 3, \"9\": 29, \"13\": 1}, \"14\": {\"14\": 440, \"0\": 207, \"10\": 161, \"4\": 66, \"8\": 59, \"1\": 250, \"2\": 4, \"7\": 7, \"6\": 4, \"5\": 2}, \"2\": {\"0\": 7, \"2\": 342, \"4\": 102, \"8\": 102, \"7\": 361, \"15\": 92, \"3\": 134, \"5\": 36, \"9\": 16, \"14\": 5, \"13\": 1, \"10\": 2}, \"5\": {\"9\": 94, \"13\": 277, \"6\": 92, \"5\": 495, \"8\": 51, \"2\": 56, \"7\": 108, \"3\": 11, \"10\": 6, \"15\": 7, \"14\": 2, \"0\": 1}, \"9\": {\"9\": 712, \"5\": 76, \"13\": 113, \"6\": 141, \"15\": 6, \"2\": 22, \"8\": 90, \"7\": 34, \"0\": 3, \"10\": 3}}, \"ORACLE.run2_20\": {\"5\": {\"3\": 164, \"4\": 29, \"8\": 3, \"5\": 481, \"7\": 40, \"0\": 99, \"15\": 86, \"9\": 50, \"2\": 145, \"12\": 68, \"1\": 27, \"13\": 8}, \"15\": {\"15\": 548, \"5\": 54, \"12\": 60, \"13\": 240, \"1\": 103, \"2\": 80, \"0\": 63, \"9\": 46, \"3\": 6}, \"9\": {\"9\": 502, \"3\": 106, \"2\": 300, \"1\": 37, \"12\": 134, \"15\": 41, \"5\": 68, \"4\": 6, \"0\": 2, \"13\": 4}, \"7\": {\"7\": 939, \"3\": 135, \"2\": 5, \"5\": 17, \"8\": 90, \"10\": 5, \"6\": 8, \"4\": 1}, \"3\": {\"3\": 554, \"9\": 121, \"5\": 135, \"4\": 24, \"7\": 146, \"2\": 161, \"12\": 38, \"0\": 2, \"8\": 8, \"10\": 6, \"15\": 5}, \"8\": {\"14\": 107, \"8\": 850, \"5\": 6, \"10\": 25, \"7\": 148, \"3\": 14, \"4\": 34, \"6\": 16}, \"4\": {\"4\": 1089, \"5\": 33, \"12\": 34, \"10\": 4, \"3\": 14, \"0\": 14, \"2\": 1, \"8\": 6, \"7\": 2, \"14\": 1, \"9\": 1, \"1\": 1}, \"6\": {\"6\": 1098, \"14\": 72, \"7\": 8, \"8\": 14, \"10\": 8}, \"2\": {\"15\": 103, \"2\": 396, \"3\": 161, \"9\": 275, \"5\": 162, \"4\": 2, \"7\": 6, \"12\": 62, \"1\": 13, \"13\": 18, \"8\": 1, \"0\": 1}, \"12\": {\"1\": 217, \"12\": 508, \"2\": 61, \"15\": 81, \"0\": 56, \"13\": 3, \"9\": 135, \"5\": 94, \"3\": 17, \"4\": 28}, \"0\": {\"0\": 835, \"13\": 16, \"15\": 71, \"1\": 80, \"12\": 63, \"5\": 107, \"4\": 23, \"2\": 5}, \"13\": {\"13\": 889, \"15\": 258, \"2\": 18, \"9\": 6, \"1\": 10, \"0\": 7, \"5\": 7, \"12\": 5}, \"10\": {\"10\": 1041, \"14\": 71, \"8\": 49, \"6\": 9, \"7\": 12, \"4\": 12, \"3\": 6}, \"11\": {\"11\": 1200}, \"14\": {\"6\": 85, \"14\": 938, \"10\": 74, \"8\": 103}, \"1\": {\"1\": 710, \"12\": 245, \"15\": 111, \"0\": 69, \"9\": 24, \"2\": 13, \"4\": 5, \"13\": 8, \"5\": 13, \"3\": 2}}, \"ORACLE.run2_50\": {\"1\": {\"1\": 948, \"6\": 158, \"4\": 30, \"15\": 47, \"5\": 11, \"0\": 4, \"2\": 2}, \"2\": {\"2\": 1155, \"0\": 45}, \"8\": {\"8\": 1161, \"3\": 39}, \"7\": {\"5\": 101, \"7\": 644, \"13\": 372, \"10\": 71, \"4\": 10, \"6\": 2}, \"14\": {\"14\": 1188, \"12\": 10, \"11\": 2}, \"6\": {\"6\": 830, \"1\": 162, \"4\": 147, \"5\": 52, \"15\": 5, \"10\": 3, \"0\": 1}, \"3\": {\"3\": 1142, \"8\": 58}, \"4\": {\"4\": 688, \"5\": 342, \"1\": 53, \"6\": 108, \"13\": 2, \"15\": 2, \"7\": 4, \"10\": 1}, \"12\": {\"12\": 1105, \"9\": 51, \"14\": 31, \"11\": 13}, \"15\": {\"15\": 1097, \"1\": 61, \"11\": 33, \"6\": 8, \"14\": 1}, \"11\": {\"11\": 1117, \"15\": 43, \"9\": 10, \"12\": 16, \"14\": 13, \"1\": 1}, \"0\": {\"0\": 1115, \"2\": 69, \"10\": 13, \"5\": 2, \"4\": 1}, \"9\": {\"9\": 1140, \"11\": 10, \"12\": 50}, \"10\": {\"10\": 933, \"13\": 164, \"7\": 56, \"0\": 14, \"5\": 31, \"4\": 2}, \"5\": {\"5\": 646, \"6\": 49, \"13\": 57, \"7\": 77, \"10\": 50, \"4\": 307, \"0\": 7, \"1\": 7}, \"13\": {\"7\": 269, \"10\": 172, \"13\": 715, \"5\": 34, \"4\": 10}}, \"ORACLE.run2_32\": {\"2\": {\"11\": 8, \"2\": 1015, \"14\": 62, \"4\": 23, \"0\": 15, \"13\": 1, \"5\": 62, \"7\": 14}, \"6\": {\"6\": 1200}, \"5\": {\"2\": 144, \"14\": 64, \"8\": 119, \"0\": 157, \"5\": 486, \"7\": 12, \"4\": 150, \"11\": 14, \"13\": 50, \"15\": 2, \"3\": 2}, \"12\": {\"12\": 1200}, \"13\": {\"13\": 711, \"0\": 25, \"4\": 225, \"5\": 18, \"7\": 119, \"11\": 52, \"3\": 13, \"8\": 36, \"2\": 1}, \"9\": {\"9\": 1172, \"14\": 27, \"12\": 1}, \"11\": {\"11\": 654, \"7\": 226, \"13\": 68, \"0\": 158, \"14\": 3, \"4\": 60, \"2\": 17, \"8\": 7, \"5\": 7}, \"1\": {\"1\": 1196, \"10\": 4}, \"3\": {\"3\": 1163, \"13\": 23, \"8\": 8, \"11\": 1, \"7\": 4, \"4\": 1}, \"7\": {\"7\": 718, \"11\": 226, \"13\": 130, \"4\": 94, \"3\": 2, \"2\": 11, \"0\": 11, \"5\": 8}, \"14\": {\"2\": 101, \"14\": 1038, \"11\": 10, \"5\": 24, \"4\": 4, \"0\": 22, \"7\": 1}, \"8\": {\"13\": 50, \"8\": 968, \"3\": 17, \"0\": 67, \"5\": 66, \"4\": 25, \"15\": 3, \"11\": 4}, \"4\": {\"4\": 593, \"5\": 109, \"13\": 215, \"0\": 86, \"7\": 91, \"11\": 54, \"2\": 20, \"14\": 3, \"8\": 29}, \"0\": {\"0\": 682, \"11\": 142, \"2\": 21, \"5\": 142, \"13\": 24, \"4\": 99, \"14\": 10, \"7\": 20, \"8\": 60}, \"10\": {\"10\": 1196, \"1\": 4}, \"15\": {\"15\": 1197, \"8\": 3}}, \"ORACLE.run2_44\": {\"13\": {\"13\": 1148, \"4\": 37, \"6\": 14, \"14\": 1}, \"4\": {\"4\": 1090, \"14\": 71, \"5\": 1, \"13\": 17, \"15\": 21}, \"6\": {\"6\": 1121, \"13\": 18, \"9\": 40, \"7\": 17, \"11\": 3, \"2\": 1}, \"0\": {\"0\": 683, \"8\": 513, \"15\": 2, \"5\": 2}, \"10\": {\"10\": 1150, \"12\": 31, \"1\": 19}, \"7\": {\"7\": 644, \"9\": 298, \"2\": 243, \"6\": 9, \"3\": 1, \"1\": 5}, \"14\": {\"14\": 899, \"4\": 70, \"15\": 138, \"5\": 90, \"8\": 3}, \"15\": {\"15\": 992, \"14\": 143, \"4\": 39, \"8\": 21, \"0\": 1, \"5\": 4}, \"5\": {\"5\": 1094, \"14\": 84, \"8\": 16, \"15\": 4, \"0\": 2}, \"2\": {\"9\": 293, \"7\": 212, \"2\": 688, \"6\": 1, \"3\": 4, \"1\": 2}, \"9\": {\"2\": 349, \"9\": 528, \"7\": 286, \"6\": 33, \"1\": 3, \"13\": 1}, \"12\": {\"1\": 306, \"12\": 825, \"3\": 62, \"10\": 7}, \"8\": {\"8\": 701, \"0\": 485, \"15\": 4, \"5\": 10}, \"3\": {\"3\": 1021, \"1\": 125, \"12\": 53, \"2\": 1}, \"1\": {\"1\": 757, \"12\": 315, \"3\": 114, \"7\": 6, \"2\": 3, \"10\": 5}, \"11\": {\"11\": 1182, \"7\": 1, \"6\": 17}}, \"ORACLE.run2_14\": {\"1\": {\"1\": 1098, \"5\": 74, \"4\": 27, \"3\": 1}, \"15\": {\"15\": 1177, \"7\": 20, \"2\": 2, \"13\": 1}, \"10\": {\"10\": 1154, \"0\": 43, \"14\": 1, \"3\": 1, \"11\": 1}, \"2\": {\"4\": 76, \"2\": 601, \"5\": 134, \"14\": 156, \"3\": 95, \"13\": 92, \"6\": 39, \"1\": 3, \"15\": 4}, \"9\": {\"9\": 1199, \"12\": 1}, \"5\": {\"5\": 641, \"1\": 119, \"3\": 71, \"4\": 297, \"2\": 69, \"14\": 3}, \"7\": {\"7\": 1196, \"15\": 4}, \"13\": {\"6\": 314, \"13\": 856, \"2\": 26, \"4\": 2, \"5\": 1, \"14\": 1}, \"8\": {\"8\": 1199, \"9\": 1}, \"6\": {\"6\": 857, \"13\": 260, \"14\": 55, \"2\": 27, \"4\": 1}, \"3\": {\"2\": 19, \"3\": 1027, \"4\": 71, \"5\": 53, \"14\": 27, \"0\": 1, \"1\": 2}, \"12\": {\"12\": 677, \"11\": 286, \"0\": 74, \"9\": 112, \"10\": 18, \"8\": 32, \"3\": 1}, \"0\": {\"0\": 1192, \"3\": 3, \"10\": 5}, \"4\": {\"4\": 722, \"5\": 332, \"3\": 58, \"2\": 61, \"14\": 1, \"1\": 24, \"6\": 2}, \"14\": {\"14\": 923, \"6\": 80, \"2\": 141, \"3\": 32, \"4\": 7, \"13\": 8, \"0\": 3, \"5\": 6}, \"11\": {\"11\": 1170, \"12\": 30}}, \"ORACLE.run1_8\": {\"13\": {\"13\": 452, \"4\": 160, \"0\": 325, \"14\": 102, \"10\": 114, \"6\": 38, \"7\": 8, \"5\": 1}, \"9\": {\"9\": 1200}, \"15\": {\"15\": 890, \"8\": 47, \"12\": 247, \"2\": 7, \"3\": 8, \"7\": 1}, \"2\": {\"2\": 990, \"3\": 156, \"7\": 23, \"15\": 27, \"12\": 3, \"6\": 1}, \"3\": {\"3\": 1064, \"2\": 97, \"12\": 33, \"15\": 6}, \"8\": {\"8\": 1154, \"15\": 39, \"12\": 3, \"6\": 2, \"7\": 2}, \"5\": {\"5\": 1049, \"1\": 49, \"14\": 19, \"10\": 79, \"11\": 4}, \"14\": {\"10\": 264, \"14\": 636, \"13\": 72, \"4\": 167, \"1\": 46, \"5\": 7, \"6\": 2, \"11\": 4, \"0\": 2}, \"1\": {\"1\": 865, \"11\": 278, \"5\": 19, \"14\": 28, \"10\": 8, \"4\": 2}, \"0\": {\"0\": 809, \"6\": 56, \"13\": 244, \"7\": 63, \"4\": 27, \"14\": 1}, \"10\": {\"10\": 798, \"14\": 266, \"5\": 28, \"13\": 73, \"4\": 32, \"0\": 1, \"11\": 1, \"1\": 1}, \"6\": {\"6\": 741, \"7\": 228, \"4\": 129, \"0\": 58, \"13\": 40, \"8\": 3, \"14\": 1}, \"11\": {\"1\": 436, \"11\": 741, \"5\": 17, \"14\": 3, \"8\": 3}, \"7\": {\"0\": 47, \"7\": 935, \"6\": 210, \"8\": 3, \"13\": 3, \"4\": 2}, \"4\": {\"4\": 689, \"0\": 54, \"14\": 132, \"13\": 197, \"6\": 108, \"10\": 19, \"7\": 1}, \"12\": {\"15\": 358, \"3\": 162, \"12\": 649, \"2\": 9, \"8\": 22}}, \"ORACLE.run1_38\": {\"13\": {\"13\": 874, \"10\": 82, \"15\": 205, \"2\": 19, \"1\": 6, \"5\": 4, \"0\": 2, \"8\": 8}, \"12\": {\"12\": 1162, \"4\": 31, \"10\": 6, \"14\": 1}, \"2\": {\"2\": 1129, \"14\": 54, \"13\": 15, \"15\": 1, \"10\": 1}, \"9\": {\"9\": 859, \"5\": 21, \"6\": 293, \"3\": 25, \"8\": 1, \"0\": 1}, \"15\": {\"15\": 875, \"13\": 153, \"5\": 23, \"1\": 98, \"8\": 44, \"2\": 4, \"10\": 3}, \"5\": {\"5\": 506, \"8\": 344, \"3\": 18, \"0\": 91, \"7\": 76, \"9\": 31, \"1\": 14, \"6\": 49, \"15\": 62, \"13\": 5, \"10\": 4}, \"14\": {\"14\": 1077, \"13\": 4, \"2\": 69, \"11\": 45, \"10\": 5}, \"0\": {\"0\": 538, \"3\": 77, \"8\": 238, \"7\": 216, \"10\": 14, \"5\": 109, \"13\": 3, \"6\": 1, \"15\": 3, \"9\": 1}, \"3\": {\"3\": 1133, \"0\": 21, \"9\": 37, \"7\": 5, \"5\": 2, \"6\": 2}, \"1\": {\"1\": 1161, \"15\": 36, \"13\": 2, \"5\": 1}, \"11\": {\"11\": 1047, \"2\": 11, \"14\": 131, \"10\": 10, \"13\": 1}, \"7\": {\"8\": 43, \"7\": 977, \"0\": 113, \"4\": 2, \"5\": 61, \"3\": 3, \"9\": 1}, \"8\": {\"8\": 754, \"7\": 39, \"10\": 16, \"5\": 233, \"0\": 113, \"15\": 30, \"13\": 13, \"1\": 1, \"12\": 1}, \"4\": {\"12\": 49, \"4\": 1147, \"10\": 3, \"7\": 1}, \"10\": {\"13\": 135, \"10\": 930, \"8\": 46, \"15\": 6, \"0\": 16, \"14\": 16, \"12\": 15, \"2\": 10, \"5\": 10, \"4\": 2, \"11\": 9, \"7\": 5}, \"6\": {\"6\": 1055, \"9\": 142, \"5\": 3}}, \"ORACLE.run1_26\": {\"10\": {\"10\": 531, \"0\": 226, \"14\": 95, \"8\": 168, \"4\": 46, \"1\": 27, \"6\": 73, \"9\": 19, \"7\": 4, \"15\": 9, \"5\": 2}, \"12\": {\"12\": 1195, \"11\": 5}, \"1\": {\"1\": 740, \"4\": 145, \"0\": 35, \"14\": 231, \"10\": 35, \"7\": 6, \"8\": 6, \"3\": 2}, \"0\": {\"4\": 171, \"10\": 261, \"0\": 388, \"7\": 21, \"14\": 186, \"8\": 108, \"1\": 36, \"6\": 22, \"9\": 6, \"15\": 1}, \"15\": {\"15\": 519, \"10\": 8, \"8\": 77, \"7\": 12, \"9\": 347, \"5\": 125, \"2\": 23, \"6\": 32, \"13\": 52, \"3\": 1, \"0\": 4}, \"13\": {\"5\": 195, \"13\": 880, \"15\": 63, \"9\": 29, \"6\": 17, \"2\": 15, \"8\": 1}, \"8\": {\"1\": 2, \"0\": 109, \"8\": 493, \"9\": 106, \"7\": 80, \"10\": 144, \"14\": 23, \"15\": 66, \"6\": 36, \"2\": 20, \"4\": 100, \"5\": 20, \"3\": 1}, \"3\": {\"3\": 751, \"2\": 263, \"7\": 179, \"4\": 2, \"14\": 1, \"5\": 1, \"8\": 1, \"9\": 1, \"1\": 1}, \"11\": {\"11\": 1197, \"12\": 3}, \"4\": {\"4\": 458, \"1\": 93, \"8\": 82, \"0\": 177, \"14\": 238, \"7\": 81, \"10\": 64, \"2\": 1, \"3\": 3, \"9\": 2, \"15\": 1}, \"6\": {\"9\": 155, \"10\": 77, \"6\": 851, \"15\": 46, \"13\": 8, \"8\": 47, \"0\": 11, \"5\": 4, \"4\": 1}, \"7\": {\"3\": 175, \"0\": 24, \"7\": 647, \"4\": 103, \"2\": 133, \"14\": 18, \"8\": 72, \"1\": 7, \"15\": 10, \"9\": 7, \"10\": 3, \"5\": 1}, \"14\": {\"8\": 40, \"1\": 217, \"0\": 206, \"10\": 103, \"14\": 389, \"4\": 233, \"7\": 11, \"9\": 1}, \"2\": {\"2\": 466, \"3\": 360, \"5\": 101, \"15\": 66, \"8\": 39, \"7\": 132, \"9\": 24, \"0\": 1, \"4\": 5, \"14\": 1, \"13\": 4, \"10\": 1}, \"5\": {\"5\": 792, \"13\": 160, \"15\": 120, \"9\": 53, \"8\": 20, \"2\": 41, \"6\": 2, \"3\": 1, \"10\": 1, \"7\": 8, \"0\": 2}, \"9\": {\"6\": 160, \"9\": 468, \"5\": 59, \"15\": 336, \"10\": 14, \"8\": 93, \"13\": 44, \"2\": 13, \"4\": 2, \"7\": 9, \"0\": 2}}, \"ORACLE.run1_20\": {\"5\": {\"5\": 475, \"1\": 192, \"0\": 237, \"12\": 148, \"15\": 104, \"9\": 6, \"2\": 6, \"3\": 31, \"4\": 1}, \"15\": {\"1\": 173, \"15\": 799, \"0\": 84, \"5\": 84, \"13\": 32, \"12\": 18, \"2\": 4, \"3\": 2, \"9\": 4}, \"9\": {\"9\": 513, \"2\": 319, \"13\": 7, \"3\": 191, \"4\": 3, \"1\": 11, \"8\": 1, \"12\": 106, \"7\": 38, \"0\": 3, \"5\": 6, \"15\": 2}, \"7\": {\"7\": 935, \"2\": 140, \"3\": 30, \"8\": 55, \"9\": 31, \"13\": 3, \"4\": 3, \"6\": 3}, \"3\": {\"12\": 235, \"5\": 54, \"3\": 542, \"2\": 71, \"9\": 198, \"0\": 10, \"1\": 13, \"7\": 23, \"4\": 43, \"15\": 2, \"8\": 6, \"13\": 3}, \"8\": {\"6\": 8, \"14\": 28, \"8\": 938, \"10\": 18, \"7\": 85, \"4\": 112, \"9\": 2, \"0\": 2, \"3\": 7}, \"4\": {\"8\": 94, \"4\": 1010, \"7\": 9, \"10\": 30, \"3\": 48, \"9\": 1, \"12\": 4, \"0\": 2, \"14\": 1, \"5\": 1}, \"6\": {\"6\": 1059, \"14\": 126, \"8\": 5, \"7\": 9, \"10\": 1}, \"2\": {\"9\": 280, \"2\": 619, \"3\": 70, \"7\": 119, \"13\": 50, \"1\": 10, \"5\": 9, \"12\": 38, \"15\": 2, \"8\": 1, \"0\": 2}, \"12\": {\"9\": 115, \"3\": 211, \"1\": 160, \"12\": 495, \"5\": 136, \"2\": 50, \"15\": 15, \"0\": 12, \"4\": 4, \"13\": 1, \"7\": 1}, \"0\": {\"5\": 272, \"0\": 702, \"1\": 32, \"15\": 128, \"12\": 20, \"8\": 4, \"9\": 1, \"2\": 11, \"13\": 10, \"7\": 2, \"3\": 15, \"4\": 3}, \"13\": {\"13\": 1117, \"1\": 1, \"2\": 49, \"9\": 10, \"7\": 2, \"15\": 17, \"5\": 1, \"0\": 2, \"3\": 1}, \"10\": {\"10\": 1116, \"4\": 13, \"14\": 56, \"8\": 12, \"6\": 3}, \"11\": {\"11\": 1200}, \"14\": {\"14\": 970, \"6\": 125, \"10\": 80, \"8\": 24, \"7\": 1}, \"1\": {\"9\": 22, \"12\": 166, \"1\": 563, \"15\": 195, \"5\": 203, \"0\": 21, \"3\": 18, \"13\": 5, \"2\": 7}}, \"ORACLE.run1_50\": {\"1\": {\"15\": 202, \"1\": 772, \"4\": 114, \"6\": 94, \"11\": 6, \"5\": 6, \"14\": 2, \"0\": 1, \"2\": 3}, \"2\": {\"2\": 1137, \"0\": 63}, \"8\": {\"8\": 1170, \"3\": 14, \"10\": 16}, \"7\": {\"7\": 771, \"5\": 152, \"13\": 243, \"4\": 8, \"10\": 22, \"6\": 4}, \"14\": {\"14\": 1188, \"12\": 10, \"11\": 2}, \"6\": {\"6\": 896, \"1\": 83, \"5\": 46, \"15\": 13, \"4\": 90, \"13\": 69, \"0\": 2, \"7\": 1}, \"3\": {\"3\": 1174, \"8\": 26}, \"4\": {\"4\": 580, \"1\": 191, \"5\": 116, \"15\": 146, \"7\": 36, \"6\": 101, \"13\": 30}, \"12\": {\"12\": 1101, \"14\": 33, \"9\": 62, \"11\": 4}, \"15\": {\"15\": 905, \"1\": 155, \"4\": 91, \"6\": 24, \"11\": 24, \"14\": 1}, \"11\": {\"11\": 1070, \"15\": 24, \"9\": 94, \"14\": 7, \"12\": 5}, \"0\": {\"2\": 112, \"0\": 1060, \"10\": 28}, \"9\": {\"12\": 89, \"9\": 950, \"11\": 161}, \"10\": {\"10\": 1090, \"8\": 21, \"0\": 38, \"5\": 7, \"13\": 21, \"7\": 23}, \"5\": {\"7\": 299, \"6\": 91, \"5\": 414, \"4\": 145, \"1\": 43, \"13\": 201, \"10\": 3, \"15\": 4}, \"13\": {\"6\": 39, \"13\": 812, \"5\": 144, \"7\": 191, \"4\": 7, \"10\": 5, \"0\": 2}}, \"ORACLE.run1_32\": {\"2\": {\"2\": 1023, \"4\": 149, \"5\": 3, \"7\": 11, \"0\": 14}, \"6\": {\"6\": 1200}, \"5\": {\"13\": 285, \"5\": 392, \"7\": 120, \"8\": 83, \"4\": 152, \"3\": 53, \"14\": 34, \"2\": 14, \"11\": 19, \"0\": 48}, \"12\": {\"12\": 1200}, \"13\": {\"13\": 536, \"0\": 16, \"4\": 74, \"14\": 18, \"3\": 87, \"5\": 269, \"7\": 101, \"8\": 66, \"11\": 32, \"2\": 1}, \"9\": {\"9\": 1200}, \"11\": {\"11\": 1001, \"14\": 160, \"13\": 7, \"5\": 5, \"7\": 17, \"3\": 10}, \"1\": {\"1\": 1191, \"10\": 9}, \"3\": {\"3\": 1125, \"5\": 8, \"13\": 51, \"8\": 4, \"11\": 10, \"14\": 2}, \"7\": {\"13\": 103, \"4\": 183, \"7\": 542, \"14\": 164, \"5\": 134, \"2\": 18, \"0\": 27, \"8\": 2, \"11\": 27}, \"14\": {\"14\": 458, \"11\": 315, \"0\": 74, \"7\": 208, \"13\": 46, \"4\": 29, \"5\": 38, \"2\": 17, \"8\": 10, \"3\": 5}, \"8\": {\"8\": 964, \"0\": 78, \"5\": 80, \"13\": 64, \"7\": 3, \"4\": 3, \"3\": 5, \"14\": 3}, \"4\": {\"4\": 726, \"7\": 139, \"2\": 183, \"5\": 86, \"0\": 33, \"13\": 26, \"14\": 5, \"8\": 2}, \"0\": {\"0\": 918, \"7\": 34, \"8\": 85, \"2\": 36, \"4\": 58, \"5\": 42, \"14\": 19, \"13\": 8}, \"10\": {\"10\": 1197, \"1\": 3}, \"15\": {\"15\": 1193, \"8\": 6, \"3\": 1}}, \"ORACLE.run1_44\": {\"13\": {\"13\": 823, \"11\": 54, \"9\": 120, \"6\": 193, \"7\": 5, \"4\": 5}, \"4\": {\"4\": 832, \"14\": 358, \"15\": 9, \"13\": 1}, \"6\": {\"6\": 854, \"13\": 213, \"11\": 14, \"9\": 80, \"7\": 38, \"2\": 1}, \"0\": {\"0\": 753, \"8\": 336, \"5\": 56, \"14\": 1, \"15\": 54}, \"10\": {\"10\": 903, \"1\": 98, \"2\": 85, \"12\": 112, \"3\": 1, \"7\": 1}, \"7\": {\"7\": 784, \"9\": 219, \"6\": 27, \"2\": 164, \"1\": 3, \"13\": 3}, \"14\": {\"14\": 756, \"4\": 357, \"5\": 19, \"15\": 68}, \"15\": {\"15\": 996, \"0\": 82, \"8\": 18, \"4\": 12, \"5\": 27, \"14\": 65}, \"5\": {\"5\": 1040, \"0\": 83, \"8\": 15, \"14\": 33, \"15\": 28, \"4\": 1}, \"2\": {\"2\": 921, \"10\": 92, \"1\": 46, \"7\": 134, \"12\": 1, \"9\": 5, \"3\": 1}, \"9\": {\"13\": 123, \"9\": 708, \"7\": 263, \"6\": 95, \"2\": 10, \"4\": 1}, \"12\": {\"1\": 200, \"12\": 927, \"3\": 8, \"10\": 64, \"2\": 1}, \"8\": {\"8\": 745, \"0\": 415, \"15\": 30, \"5\": 10}, \"3\": {\"3\": 1078, \"1\": 107, \"2\": 4, \"12\": 10, \"10\": 1}, \"1\": {\"1\": 766, \"2\": 43, \"12\": 206, \"3\": 106, \"10\": 77, \"7\": 2}, \"11\": {\"11\": 1114, \"13\": 70, \"6\": 16}}, \"ORACLE.run1_14\": {\"1\": {\"1\": 1100, \"5\": 95, \"4\": 5}, \"15\": {\"15\": 1167, \"7\": 31, \"5\": 2}, \"10\": {\"10\": 1172, \"0\": 28}, \"2\": {\"2\": 607, \"5\": 122, \"13\": 64, \"4\": 68, \"6\": 71, \"15\": 29, \"3\": 62, \"14\": 175, \"7\": 2}, \"9\": {\"9\": 1198, \"11\": 2}, \"5\": {\"2\": 52, \"5\": 799, \"4\": 178, \"3\": 19, \"1\": 148, \"7\": 2, \"15\": 2}, \"7\": {\"7\": 1183, \"15\": 16, \"1\": 1}, \"13\": {\"13\": 407, \"6\": 497, \"2\": 109, \"14\": 171, \"5\": 13, \"3\": 1, \"4\": 2}, \"8\": {\"8\": 1200}, \"6\": {\"13\": 401, \"14\": 78, \"6\": 684, \"2\": 36, \"4\": 1}, \"3\": {\"3\": 1055, \"4\": 105, \"2\": 15, \"1\": 1, \"14\": 14, \"5\": 4, \"0\": 4, \"10\": 2}, \"12\": {\"12\": 1199, \"9\": 1}, \"0\": {\"0\": 1094, \"10\": 56, \"11\": 39, \"3\": 11}, \"4\": {\"5\": 135, \"4\": 906, \"3\": 104, \"14\": 3, \"1\": 12, \"2\": 39, \"6\": 1}, \"14\": {\"14\": 971, \"2\": 78, \"13\": 85, \"6\": 42, \"3\": 20, \"4\": 4}, \"11\": {\"11\": 1039, \"9\": 84, \"10\": 2, \"0\": 75}}}, \"per_domain_accuracy\": {\"ORACLE.run2_8\": {\"accuracy\": 0.7246875, \"source?\": true}, \"ORACLE.run2_38\": {\"accuracy\": 0.7019270833333333, \"source?\": true}, \"ORACLE.run2_26\": {\"accuracy\": 0.5699479166666667, \"source?\": true}, \"ORACLE.run2_20\": {\"accuracy\": 0.6551041666666667, \"source?\": true}, \"ORACLE.run2_50\": {\"accuracy\": 0.81375, \"source?\": true}, \"ORACLE.run2_32\": {\"accuracy\": 0.79109375, \"source?\": true}, \"ORACLE.run2_44\": {\"accuracy\": 0.75640625, \"source?\": true}, \"ORACLE.run2_14\": {\"accuracy\": 0.8171354166666667, \"source?\": true}, \"ORACLE.run1_8\": {\"accuracy\": 0.7115625, \"source?\": false}, \"ORACLE.run1_38\": {\"accuracy\": 0.7929166666666667, \"source?\": false}, \"ORACLE.run1_26\": {\"accuracy\": 0.5606770833333333, \"source?\": false}, \"ORACLE.run1_20\": {\"accuracy\": 0.67984375, \"source?\": false}, \"ORACLE.run1_50\": {\"accuracy\": 0.7859375, \"source?\": false}, \"ORACLE.run1_32\": {\"accuracy\": 0.7742708333333334, \"source?\": false}, \"ORACLE.run1_44\": {\"accuracy\": 0.7291666666666666, \"source?\": false}, \"ORACLE.run1_14\": {\"accuracy\": 0.8219270833333333, \"source?\": false}}}, \"history\": {\"epoch_indices\": [1, 2, 3, 4, 5, 6, 7, 8, 9], \"train_label_loss\": [1.1206182605897388, 0.8915622921030791, 0.8058979016387214, 0.6998686270125299, 0.6148594004479015, 0.5594820335529567, 0.5182203561901891, 0.4797357920857723, 0.44508170922242457], \"source_val_label_loss\": [1.0143077373504639, 0.9191685318946838, 0.8765261769294739, 0.7915438413619995, 0.7728997468948364, 0.7615920901298523, 0.7799236178398132, 0.7734100818634033, 0.7810928821563721], \"target_val_label_loss\": [0.9819059371948242, 0.8783157467842102, 0.8369694948196411, 0.765264630317688, 0.7521167993545532, 0.7402827739715576, 0.7671903371810913, 0.7633237838745117, 0.7728954553604126], \"source_val_acc_label\": [0.6422395833333333, 0.6550325520833333, 0.6849934895833333, 0.7140950520833333, 0.7287565104166667, 0.7283658854166667, 0.7295572916666667, 0.7248177083333334, 0.7244205729166666], \"target_val_acc_label\": [0.65259765625, 0.6689518229166667, 0.694609375, 0.7191341145833333, 0.7320377604166667, 0.7318684895833333, 0.7308463541666667, 0.72611328125, 0.7276432291666667]}, \"dataset_metrics\": {\"source\": {\"train\": {\"n_unique_x\": 896000, \"n_unique_y\": 16, \"n_batch/episode\": 33600}, \"val\": {\"n_unique_x\": 192000, \"n_unique_y\": 16, \"n_batch/episode\": 4800}, \"test\": {\"n_unique_x\": 192000, \"n_unique_y\": 16, \"n_batch/episode\": 4800}}, \"target\": {\"train\": {\"n_unique_x\": 896000, \"n_unique_y\": 16, \"n_batch/episode\": 33600}, \"val\": {\"n_unique_x\": 192000, \"n_unique_y\": 16, \"n_batch/episode\": 4800}, \"test\": {\"n_unique_x\": 192000, \"n_unique_y\": 16, \"n_batch/episode\": 4800}}}}'"
      ]
     },
     "execution_count": 29,
     "metadata": {},
     "output_type": "execute_result"
    }
   ],
   "source": [
    "json.dumps(experiment)"
   ]
  }
 ],
 "metadata": {
  "celltoolbar": "Tags",
  "kernelspec": {
   "display_name": "Python 3 (ipykernel)",
   "language": "python",
   "name": "python3"
  },
  "language_info": {
   "codemirror_mode": {
    "name": "ipython",
    "version": 3
   },
   "file_extension": ".py",
   "mimetype": "text/x-python",
   "name": "python",
   "nbconvert_exporter": "python",
   "pygments_lexer": "ipython3",
   "version": "3.8.10"
  },
  "papermill": {
   "default_parameters": {},
   "duration": 8975.077715,
   "end_time": "2022-03-25T02:02:07.116773",
   "environment_variables": {},
   "exception": null,
   "input_path": "/mnt/wd500GB/CSC500/csc500-main/csc500-notebooks/templates/tl_ptn_template.ipynb",
   "output_path": "trial.ipynb",
   "parameters": {
    "parameters": {
     "BEST_MODEL_PATH": "./best_model.pth",
     "NUM_LOGS_PER_EPOCH": 10,
     "criteria_for_best": "target_accuracy",
     "dataset_seed": 154325,
     "datasets": [
      {
       "domain_prefix": "ORACLE.run1_",
       "domains": [
        32,
        38,
        8,
        44,
        14,
        50,
        20,
        26
       ],
       "episode_transforms": [],
       "labels": [
        "3123D52",
        "3123D65",
        "3123D79",
        "3123D80",
        "3123D54",
        "3123D70",
        "3123D7B",
        "3123D89",
        "3123D58",
        "3123D76",
        "3123D7D",
        "3123EFE",
        "3123D64",
        "3123D78",
        "3123D7E",
        "3124E4A"
       ],
       "num_examples_per_domain_per_label": 10000,
       "pickle_path": "/mnt/wd500GB/CSC500/csc500-main/datasets/oracle.Run1_10kExamples_stratified_ds.2022A.pkl",
       "source_or_target_dataset": "target",
       "x_transforms": [
        "unit_power"
       ]
      },
      {
       "domain_prefix": "ORACLE.run2_",
       "domains": [
        32,
        38,
        8,
        44,
        14,
        50,
        20,
        26
       ],
       "episode_transforms": [],
       "labels": [
        "3123D52",
        "3123D65",
        "3123D79",
        "3123D80",
        "3123D54",
        "3123D70",
        "3123D7B",
        "3123D89",
        "3123D58",
        "3123D76",
        "3123D7D",
        "3123EFE",
        "3123D64",
        "3123D78",
        "3123D7E",
        "3124E4A"
       ],
       "num_examples_per_domain_per_label": 10000,
       "pickle_path": "/mnt/wd500GB/CSC500/csc500-main/datasets/oracle.Run2_10kExamples_stratified_ds.2022A.pkl",
       "source_or_target_dataset": "source",
       "x_transforms": [
        "unit_power"
       ]
      }
     ],
     "device": "cuda",
     "experiment_name": "tl_1v2:oracle.run1-oracle.run2",
     "lr": 0.0001,
     "n_epoch": 50,
     "n_query": 2,
     "n_shot": 3,
     "n_way": 16,
     "patience": 3,
     "seed": 154325,
     "test_k_factor": 2,
     "torch_default_dtype": "torch.float32",
     "train_k_factor": 3,
     "val_k_factor": 2,
     "x_net": [
      {
       "class": "nnReshape",
       "kargs": {
        "shape": [
         -1,
         1,
         2,
         256
        ]
       }
      },
      {
       "class": "Conv2d",
       "kargs": {
        "bias": false,
        "in_channels": 1,
        "kernel_size": [
         1,
         7
        ],
        "out_channels": 256,
        "padding": [
         0,
         3
        ]
       }
      },
      {
       "class": "ReLU",
       "kargs": {
        "inplace": true
       }
      },
      {
       "class": "BatchNorm2d",
       "kargs": {
        "num_features": 256
       }
      },
      {
       "class": "Conv2d",
       "kargs": {
        "bias": true,
        "in_channels": 256,
        "kernel_size": [
         2,
         7
        ],
        "out_channels": 80,
        "padding": [
         0,
         3
        ]
       }
      },
      {
       "class": "ReLU",
       "kargs": {
        "inplace": true
       }
      },
      {
       "class": "BatchNorm2d",
       "kargs": {
        "num_features": 80
       }
      },
      {
       "class": "Flatten",
       "kargs": {}
      },
      {
       "class": "Linear",
       "kargs": {
        "in_features": 20480,
        "out_features": 256
       }
      },
      {
       "class": "ReLU",
       "kargs": {
        "inplace": true
       }
      },
      {
       "class": "BatchNorm1d",
       "kargs": {
        "num_features": 256
       }
      },
      {
       "class": "Linear",
       "kargs": {
        "in_features": 256,
        "out_features": 256
       }
      }
     ]
    }
   },
   "start_time": "2022-03-24T23:32:32.039058",
   "version": "2.3.4"
  }
 },
 "nbformat": 4,
 "nbformat_minor": 5
}