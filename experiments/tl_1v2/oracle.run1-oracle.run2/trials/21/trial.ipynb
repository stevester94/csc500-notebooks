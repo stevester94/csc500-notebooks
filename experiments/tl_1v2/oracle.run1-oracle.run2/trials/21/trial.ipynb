{
 "cells": [
  {
   "cell_type": "markdown",
   "id": "9fea5f46",
   "metadata": {
    "papermill": {
     "duration": 0.016947,
     "end_time": "2022-03-28T23:25:21.962991",
     "exception": false,
     "start_time": "2022-03-28T23:25:21.946044",
     "status": "completed"
    },
    "tags": []
   },
   "source": [
    "# Transfer Learning Template"
   ]
  },
  {
   "cell_type": "code",
   "execution_count": 1,
   "id": "0902182a",
   "metadata": {
    "execution": {
     "iopub.execute_input": "2022-03-28T23:25:22.013259Z",
     "iopub.status.busy": "2022-03-28T23:25:22.012967Z",
     "iopub.status.idle": "2022-03-28T23:25:23.421473Z",
     "shell.execute_reply": "2022-03-28T23:25:23.421001Z"
    },
    "papermill": {
     "duration": 1.441541,
     "end_time": "2022-03-28T23:25:23.421585",
     "exception": false,
     "start_time": "2022-03-28T23:25:21.980044",
     "status": "completed"
    },
    "tags": []
   },
   "outputs": [],
   "source": [
    "%load_ext autoreload\n",
    "%autoreload 2\n",
    "%matplotlib inline\n",
    "\n",
    "    \n",
    "import os, json, sys, time, random\n",
    "import numpy as np\n",
    "import torch\n",
    "from torch.optim import Adam\n",
    "from  easydict import EasyDict\n",
    "import matplotlib.pyplot as plt\n",
    "\n",
    "from steves_models.steves_ptn import Steves_Prototypical_Network\n",
    "\n",
    "from steves_utils.lazy_iterable_wrapper import Lazy_Iterable_Wrapper\n",
    "from steves_utils.iterable_aggregator import Iterable_Aggregator\n",
    "from steves_utils.ptn_train_eval_test_jig import  PTN_Train_Eval_Test_Jig\n",
    "from steves_utils.torch_sequential_builder import build_sequential\n",
    "from steves_utils.torch_utils import get_dataset_metrics, ptn_confusion_by_domain_over_dataloader\n",
    "from steves_utils.utils_v2 import (per_domain_accuracy_from_confusion, get_datasets_base_path)\n",
    "from steves_utils.PTN.utils import independent_accuracy_assesment\n",
    "\n",
    "from torch.utils.data import DataLoader\n",
    "\n",
    "from steves_utils.stratified_dataset.episodic_accessor import Episodic_Accessor_Factory\n",
    "\n",
    "from steves_utils.ptn_do_report import (\n",
    "    get_loss_curve,\n",
    "    get_results_table,\n",
    "    get_parameters_table,\n",
    "    get_domain_accuracies,\n",
    ")\n",
    "\n",
    "from steves_utils.transforms import get_chained_transform"
   ]
  },
  {
   "cell_type": "markdown",
   "id": "41c840b4",
   "metadata": {
    "papermill": {
     "duration": 0.012231,
     "end_time": "2022-03-28T23:25:23.450407",
     "exception": false,
     "start_time": "2022-03-28T23:25:23.438176",
     "status": "completed"
    },
    "tags": []
   },
   "source": [
    "# Allowed Parameters\n",
    "These are allowed parameters, not defaults\n",
    "Each of these values need to be present in the injected parameters (the notebook will raise an exception if they are not present)\n",
    "\n",
    "Papermill uses the cell tag \"parameters\" to inject the real parameters below this cell.\n",
    "Enable tags to see what I mean"
   ]
  },
  {
   "cell_type": "code",
   "execution_count": 2,
   "id": "fd44eb83",
   "metadata": {
    "execution": {
     "iopub.execute_input": "2022-03-28T23:25:23.478251Z",
     "iopub.status.busy": "2022-03-28T23:25:23.477979Z",
     "iopub.status.idle": "2022-03-28T23:25:23.492847Z",
     "shell.execute_reply": "2022-03-28T23:25:23.492505Z"
    },
    "papermill": {
     "duration": 0.030123,
     "end_time": "2022-03-28T23:25:23.492917",
     "exception": false,
     "start_time": "2022-03-28T23:25:23.462794",
     "status": "completed"
    },
    "tags": []
   },
   "outputs": [],
   "source": [
    "required_parameters = {\n",
    "    \"experiment_name\",\n",
    "    \"lr\",\n",
    "    \"device\",\n",
    "    \"seed\",\n",
    "    \"dataset_seed\",\n",
    "    \"n_shot\",\n",
    "    \"n_query\",\n",
    "    \"n_way\",\n",
    "    \"train_k_factor\",\n",
    "    \"val_k_factor\",\n",
    "    \"test_k_factor\",\n",
    "    \"n_epoch\",\n",
    "    \"patience\",\n",
    "    \"criteria_for_best\",\n",
    "    \"x_net\",\n",
    "    \"datasets\",\n",
    "    \"torch_default_dtype\",\n",
    "    \"NUM_LOGS_PER_EPOCH\",\n",
    "    \"BEST_MODEL_PATH\",\n",
    "    \"x_shape\",\n",
    "}"
   ]
  },
  {
   "cell_type": "code",
   "execution_count": 3,
   "id": "fa3f0049",
   "metadata": {
    "execution": {
     "iopub.execute_input": "2022-03-28T23:25:23.530396Z",
     "iopub.status.busy": "2022-03-28T23:25:23.530124Z",
     "iopub.status.idle": "2022-03-28T23:25:23.545073Z",
     "shell.execute_reply": "2022-03-28T23:25:23.544630Z"
    },
    "papermill": {
     "duration": 0.035384,
     "end_time": "2022-03-28T23:25:23.545161",
     "exception": false,
     "start_time": "2022-03-28T23:25:23.509777",
     "status": "completed"
    },
    "tags": [
     "parameters"
    ]
   },
   "outputs": [],
   "source": [
    "from steves_utils.CORES.utils import (\n",
    "    ALL_NODES,\n",
    "    ALL_NODES_MINIMUM_1000_EXAMPLES,\n",
    "    ALL_DAYS\n",
    ")\n",
    "\n",
    "from steves_utils.ORACLE.utils_v2 import (\n",
    "    ALL_DISTANCES_FEET_NARROWED,\n",
    "    ALL_RUNS,\n",
    "    ALL_SERIAL_NUMBERS,\n",
    ")\n",
    "\n",
    "standalone_parameters = {}\n",
    "standalone_parameters[\"experiment_name\"] = \"STANDALONE PTN\"\n",
    "standalone_parameters[\"lr\"] = 0.001\n",
    "standalone_parameters[\"device\"] = \"cuda\"\n",
    "\n",
    "standalone_parameters[\"seed\"] = 1337\n",
    "standalone_parameters[\"dataset_seed\"] = 1337\n",
    "\n",
    "standalone_parameters[\"n_way\"] = 8\n",
    "standalone_parameters[\"n_shot\"] = 3\n",
    "standalone_parameters[\"n_query\"]  = 2\n",
    "standalone_parameters[\"train_k_factor\"] = 1\n",
    "standalone_parameters[\"val_k_factor\"] = 2\n",
    "standalone_parameters[\"test_k_factor\"] = 2\n",
    "\n",
    "\n",
    "standalone_parameters[\"n_epoch\"] = 50\n",
    "\n",
    "standalone_parameters[\"patience\"] = 10\n",
    "standalone_parameters[\"criteria_for_best\"] = \"source_loss\"\n",
    "\n",
    "standalone_parameters[\"datasets\"] = [\n",
    "    {\n",
    "        \"labels\": ALL_SERIAL_NUMBERS,\n",
    "        \"domains\": ALL_DISTANCES_FEET_NARROWED,\n",
    "        \"num_examples_per_domain_per_label\": 100,\n",
    "        \"pickle_path\": os.path.join(get_datasets_base_path(), \"oracle.Run1_framed_2000Examples_stratified_ds.2022A.pkl\"),\n",
    "        \"source_or_target_dataset\": \"source\",\n",
    "        \"x_transforms\": [\"unit_mag\", \"minus_two\"],\n",
    "        \"episode_transforms\": [],\n",
    "        \"domain_prefix\": \"ORACLE_\"\n",
    "    },\n",
    "    {\n",
    "        \"labels\": ALL_NODES,\n",
    "        \"domains\": ALL_DAYS,\n",
    "        \"num_examples_per_domain_per_label\": 100,\n",
    "        \"pickle_path\": os.path.join(get_datasets_base_path(), \"cores.stratified_ds.2022A.pkl\"),\n",
    "        \"source_or_target_dataset\": \"target\",\n",
    "        \"x_transforms\": [\"unit_power\", \"times_zero\"],\n",
    "        \"episode_transforms\": [],\n",
    "        \"domain_prefix\": \"CORES_\"\n",
    "    }   \n",
    "]\n",
    "\n",
    "standalone_parameters[\"torch_default_dtype\"] = \"torch.float32\" \n",
    "\n",
    "\n",
    "\n",
    "standalone_parameters[\"x_net\"] =     [\n",
    "    {\"class\": \"nnReshape\", \"kargs\": {\"shape\":[-1, 1, 2, 256]}},\n",
    "    {\"class\": \"Conv2d\", \"kargs\": { \"in_channels\":1, \"out_channels\":256, \"kernel_size\":(1,7), \"bias\":False, \"padding\":(0,3), },},\n",
    "    {\"class\": \"ReLU\", \"kargs\": {\"inplace\": True}},\n",
    "    {\"class\": \"BatchNorm2d\", \"kargs\": {\"num_features\":256}},\n",
    "\n",
    "    {\"class\": \"Conv2d\", \"kargs\": { \"in_channels\":256, \"out_channels\":80, \"kernel_size\":(2,7), \"bias\":True, \"padding\":(0,3), },},\n",
    "    {\"class\": \"ReLU\", \"kargs\": {\"inplace\": True}},\n",
    "    {\"class\": \"BatchNorm2d\", \"kargs\": {\"num_features\":80}},\n",
    "    {\"class\": \"Flatten\", \"kargs\": {}},\n",
    "\n",
    "    {\"class\": \"Linear\", \"kargs\": {\"in_features\": 80*256, \"out_features\": 256}}, # 80 units per IQ pair\n",
    "    {\"class\": \"ReLU\", \"kargs\": {\"inplace\": True}},\n",
    "    {\"class\": \"BatchNorm1d\", \"kargs\": {\"num_features\":256}},\n",
    "\n",
    "    {\"class\": \"Linear\", \"kargs\": {\"in_features\": 256, \"out_features\": 256}},\n",
    "]\n",
    "\n",
    "# Parameters relevant to results\n",
    "# These parameters will basically never need to change\n",
    "standalone_parameters[\"NUM_LOGS_PER_EPOCH\"] = 10\n",
    "standalone_parameters[\"BEST_MODEL_PATH\"] = \"./best_model.pth\"\n",
    "\n",
    "\n",
    "\n",
    "\n"
   ]
  },
  {
   "cell_type": "code",
   "execution_count": 4,
   "id": "0f594e27",
   "metadata": {
    "execution": {
     "iopub.execute_input": "2022-03-28T23:25:23.581563Z",
     "iopub.status.busy": "2022-03-28T23:25:23.581002Z",
     "iopub.status.idle": "2022-03-28T23:25:23.593551Z",
     "shell.execute_reply": "2022-03-28T23:25:23.593140Z"
    },
    "papermill": {
     "duration": 0.031377,
     "end_time": "2022-03-28T23:25:23.593654",
     "exception": false,
     "start_time": "2022-03-28T23:25:23.562277",
     "status": "completed"
    },
    "tags": [
     "injected-parameters"
    ]
   },
   "outputs": [],
   "source": [
    "# Parameters\n",
    "parameters = {\n",
    "    \"experiment_name\": \"tl_1v2:oracle.run1-oracle.run2\",\n",
    "    \"device\": \"cuda\",\n",
    "    \"lr\": 0.0001,\n",
    "    \"n_shot\": 3,\n",
    "    \"n_query\": 2,\n",
    "    \"train_k_factor\": 3,\n",
    "    \"val_k_factor\": 2,\n",
    "    \"test_k_factor\": 2,\n",
    "    \"torch_default_dtype\": \"torch.float32\",\n",
    "    \"n_epoch\": 50,\n",
    "    \"patience\": 3,\n",
    "    \"criteria_for_best\": \"target_accuracy\",\n",
    "    \"x_net\": [\n",
    "        {\"class\": \"nnReshape\", \"kargs\": {\"shape\": [-1, 1, 2, 256]}},\n",
    "        {\n",
    "            \"class\": \"Conv2d\",\n",
    "            \"kargs\": {\n",
    "                \"in_channels\": 1,\n",
    "                \"out_channels\": 256,\n",
    "                \"kernel_size\": [1, 7],\n",
    "                \"bias\": False,\n",
    "                \"padding\": [0, 3],\n",
    "            },\n",
    "        },\n",
    "        {\"class\": \"ReLU\", \"kargs\": {\"inplace\": True}},\n",
    "        {\"class\": \"BatchNorm2d\", \"kargs\": {\"num_features\": 256}},\n",
    "        {\n",
    "            \"class\": \"Conv2d\",\n",
    "            \"kargs\": {\n",
    "                \"in_channels\": 256,\n",
    "                \"out_channels\": 80,\n",
    "                \"kernel_size\": [2, 7],\n",
    "                \"bias\": True,\n",
    "                \"padding\": [0, 3],\n",
    "            },\n",
    "        },\n",
    "        {\"class\": \"ReLU\", \"kargs\": {\"inplace\": True}},\n",
    "        {\"class\": \"BatchNorm2d\", \"kargs\": {\"num_features\": 80}},\n",
    "        {\"class\": \"Flatten\", \"kargs\": {}},\n",
    "        {\"class\": \"Linear\", \"kargs\": {\"in_features\": 20480, \"out_features\": 256}},\n",
    "        {\"class\": \"ReLU\", \"kargs\": {\"inplace\": True}},\n",
    "        {\"class\": \"BatchNorm1d\", \"kargs\": {\"num_features\": 256}},\n",
    "        {\"class\": \"Linear\", \"kargs\": {\"in_features\": 256, \"out_features\": 256}},\n",
    "    ],\n",
    "    \"NUM_LOGS_PER_EPOCH\": 10,\n",
    "    \"BEST_MODEL_PATH\": \"./best_model.pth\",\n",
    "    \"n_way\": 16,\n",
    "    \"datasets\": [\n",
    "        {\n",
    "            \"labels\": [\n",
    "                \"3123D52\",\n",
    "                \"3123D65\",\n",
    "                \"3123D79\",\n",
    "                \"3123D80\",\n",
    "                \"3123D54\",\n",
    "                \"3123D70\",\n",
    "                \"3123D7B\",\n",
    "                \"3123D89\",\n",
    "                \"3123D58\",\n",
    "                \"3123D76\",\n",
    "                \"3123D7D\",\n",
    "                \"3123EFE\",\n",
    "                \"3123D64\",\n",
    "                \"3123D78\",\n",
    "                \"3123D7E\",\n",
    "                \"3124E4A\",\n",
    "            ],\n",
    "            \"domains\": [32, 38, 8, 44, 14, 50, 20, 26],\n",
    "            \"num_examples_per_domain_per_label\": 10000,\n",
    "            \"pickle_path\": \"/mnt/wd500GB/CSC500/csc500-main/datasets/oracle.Run1_10kExamples_stratified_ds.2022A.pkl\",\n",
    "            \"source_or_target_dataset\": \"target\",\n",
    "            \"x_transforms\": [\"unit_power\"],\n",
    "            \"episode_transforms\": [],\n",
    "            \"domain_prefix\": \"ORACLE.run1_\",\n",
    "        },\n",
    "        {\n",
    "            \"labels\": [\n",
    "                \"3123D52\",\n",
    "                \"3123D65\",\n",
    "                \"3123D79\",\n",
    "                \"3123D80\",\n",
    "                \"3123D54\",\n",
    "                \"3123D70\",\n",
    "                \"3123D7B\",\n",
    "                \"3123D89\",\n",
    "                \"3123D58\",\n",
    "                \"3123D76\",\n",
    "                \"3123D7D\",\n",
    "                \"3123EFE\",\n",
    "                \"3123D64\",\n",
    "                \"3123D78\",\n",
    "                \"3123D7E\",\n",
    "                \"3124E4A\",\n",
    "            ],\n",
    "            \"domains\": [32, 38, 8, 44, 14, 50, 20, 26],\n",
    "            \"num_examples_per_domain_per_label\": 10000,\n",
    "            \"pickle_path\": \"/mnt/wd500GB/CSC500/csc500-main/datasets/oracle.Run2_10kExamples_stratified_ds.2022A.pkl\",\n",
    "            \"source_or_target_dataset\": \"source\",\n",
    "            \"x_transforms\": [\"unit_power\"],\n",
    "            \"episode_transforms\": [],\n",
    "            \"domain_prefix\": \"ORACLE.run2_\",\n",
    "        },\n",
    "    ],\n",
    "    \"dataset_seed\": 7,\n",
    "    \"seed\": 7,\n",
    "}\n"
   ]
  },
  {
   "cell_type": "code",
   "execution_count": 5,
   "id": "8fa1cc33",
   "metadata": {
    "execution": {
     "iopub.execute_input": "2022-03-28T23:25:23.630071Z",
     "iopub.status.busy": "2022-03-28T23:25:23.629467Z",
     "iopub.status.idle": "2022-03-28T23:25:23.643744Z",
     "shell.execute_reply": "2022-03-28T23:25:23.643480Z"
    },
    "papermill": {
     "duration": 0.030602,
     "end_time": "2022-03-28T23:25:23.643802",
     "exception": false,
     "start_time": "2022-03-28T23:25:23.613200",
     "status": "completed"
    },
    "tags": []
   },
   "outputs": [],
   "source": [
    "# Set this to True if you want to run this template directly\n",
    "STANDALONE = False\n",
    "if STANDALONE:\n",
    "    print(\"parameters not injected, running with standalone_parameters\")\n",
    "    parameters = standalone_parameters\n",
    "\n",
    "if not 'parameters' in locals() and not 'parameters' in globals():\n",
    "    raise Exception(\"Parameter injection failed\")\n",
    "\n",
    "#Use an easy dict for all the parameters\n",
    "p = EasyDict(parameters)\n",
    "\n",
    "if \"x_shape\" not in p:\n",
    "    p.x_shape = [2,256] # Default to this if we dont supply x_shape\n",
    "\n",
    "\n",
    "supplied_keys = set(p.keys())\n",
    "\n",
    "if  supplied_keys != required_parameters:\n",
    "    print(\"Parameters are incorrect\")\n",
    "    if len(supplied_keys - required_parameters)>0: print(\"Shouldn't have:\", str(supplied_keys - required_parameters))\n",
    "    if len(required_parameters - supplied_keys)>0: print(\"Need to have:\", str(required_parameters - supplied_keys))\n",
    "    raise RuntimeError(\"Parameters are incorrect\")"
   ]
  },
  {
   "cell_type": "code",
   "execution_count": 6,
   "id": "3a028d58",
   "metadata": {
    "execution": {
     "iopub.execute_input": "2022-03-28T23:25:23.674016Z",
     "iopub.status.busy": "2022-03-28T23:25:23.673618Z",
     "iopub.status.idle": "2022-03-28T23:25:23.685227Z",
     "shell.execute_reply": "2022-03-28T23:25:23.684997Z"
    },
    "papermill": {
     "duration": 0.026764,
     "end_time": "2022-03-28T23:25:23.685285",
     "exception": false,
     "start_time": "2022-03-28T23:25:23.658521",
     "status": "completed"
    },
    "tags": []
   },
   "outputs": [],
   "source": [
    "###################################\n",
    "# Set the RNGs and make it all deterministic\n",
    "###################################\n",
    "np.random.seed(p.seed)\n",
    "random.seed(p.seed)\n",
    "torch.manual_seed(p.seed)\n",
    "\n",
    "torch.use_deterministic_algorithms(True) "
   ]
  },
  {
   "cell_type": "code",
   "execution_count": 7,
   "id": "b691acf6",
   "metadata": {
    "execution": {
     "iopub.execute_input": "2022-03-28T23:25:23.715857Z",
     "iopub.status.busy": "2022-03-28T23:25:23.715464Z",
     "iopub.status.idle": "2022-03-28T23:25:23.726501Z",
     "shell.execute_reply": "2022-03-28T23:25:23.726273Z"
    },
    "papermill": {
     "duration": 0.026068,
     "end_time": "2022-03-28T23:25:23.726558",
     "exception": false,
     "start_time": "2022-03-28T23:25:23.700490",
     "status": "completed"
    },
    "tags": []
   },
   "outputs": [],
   "source": [
    "###########################################\n",
    "# The stratified datasets honor this\n",
    "###########################################\n",
    "torch.set_default_dtype(eval(p.torch_default_dtype))"
   ]
  },
  {
   "cell_type": "code",
   "execution_count": 8,
   "id": "b5fba671",
   "metadata": {
    "execution": {
     "iopub.execute_input": "2022-03-28T23:25:23.756750Z",
     "iopub.status.busy": "2022-03-28T23:25:23.756146Z",
     "iopub.status.idle": "2022-03-28T23:25:23.795043Z",
     "shell.execute_reply": "2022-03-28T23:25:23.794758Z"
    },
    "papermill": {
     "duration": 0.053866,
     "end_time": "2022-03-28T23:25:23.795112",
     "exception": false,
     "start_time": "2022-03-28T23:25:23.741246",
     "status": "completed"
    },
    "tags": []
   },
   "outputs": [],
   "source": [
    "###################################\n",
    "# Build the network(s)\n",
    "# Note: It's critical to do this AFTER setting the RNG\n",
    "###################################\n",
    "x_net = build_sequential(p.x_net)"
   ]
  },
  {
   "cell_type": "code",
   "execution_count": 9,
   "id": "5d7e61cc",
   "metadata": {
    "execution": {
     "iopub.execute_input": "2022-03-28T23:25:23.826608Z",
     "iopub.status.busy": "2022-03-28T23:25:23.826219Z",
     "iopub.status.idle": "2022-03-28T23:25:23.837286Z",
     "shell.execute_reply": "2022-03-28T23:25:23.837023Z"
    },
    "papermill": {
     "duration": 0.025797,
     "end_time": "2022-03-28T23:25:23.837343",
     "exception": false,
     "start_time": "2022-03-28T23:25:23.811546",
     "status": "completed"
    },
    "tags": []
   },
   "outputs": [],
   "source": [
    "start_time_secs = time.time()"
   ]
  },
  {
   "cell_type": "code",
   "execution_count": 10,
   "id": "c6b67dfd",
   "metadata": {
    "execution": {
     "iopub.execute_input": "2022-03-28T23:25:23.867561Z",
     "iopub.status.busy": "2022-03-28T23:25:23.867008Z",
     "iopub.status.idle": "2022-03-28T23:25:23.877865Z",
     "shell.execute_reply": "2022-03-28T23:25:23.877624Z"
    },
    "papermill": {
     "duration": 0.025746,
     "end_time": "2022-03-28T23:25:23.877922",
     "exception": false,
     "start_time": "2022-03-28T23:25:23.852176",
     "status": "completed"
    },
    "tags": []
   },
   "outputs": [],
   "source": [
    "p.domains_source = []\n",
    "p.domains_target = []\n",
    "\n",
    "\n",
    "train_original_source = []\n",
    "val_original_source   = []\n",
    "test_original_source  = []\n",
    "\n",
    "train_original_target = []\n",
    "val_original_target   = []\n",
    "test_original_target  = []"
   ]
  },
  {
   "cell_type": "code",
   "execution_count": 11,
   "id": "e3d9c3d3",
   "metadata": {
    "execution": {
     "iopub.execute_input": "2022-03-28T23:25:23.909309Z",
     "iopub.status.busy": "2022-03-28T23:25:23.908771Z",
     "iopub.status.idle": "2022-03-28T23:25:23.919800Z",
     "shell.execute_reply": "2022-03-28T23:25:23.919572Z"
    },
    "papermill": {
     "duration": 0.026318,
     "end_time": "2022-03-28T23:25:23.919857",
     "exception": false,
     "start_time": "2022-03-28T23:25:23.893539",
     "status": "completed"
    },
    "tags": []
   },
   "outputs": [],
   "source": [
    "# global_x_transform_func = lambda x: normalize(x.to(torch.get_default_dtype()), \"unit_power\") # unit_power, unit_mag\n",
    "# global_x_transform_func = lambda x: normalize(x, \"unit_power\") # unit_power, unit_mag"
   ]
  },
  {
   "cell_type": "code",
   "execution_count": 12,
   "id": "acb78fd2",
   "metadata": {
    "execution": {
     "iopub.execute_input": "2022-03-28T23:25:23.952491Z",
     "iopub.status.busy": "2022-03-28T23:25:23.951979Z",
     "iopub.status.idle": "2022-03-28T23:25:23.963463Z",
     "shell.execute_reply": "2022-03-28T23:25:23.962967Z"
    },
    "papermill": {
     "duration": 0.030051,
     "end_time": "2022-03-28T23:25:23.963565",
     "exception": false,
     "start_time": "2022-03-28T23:25:23.933514",
     "status": "completed"
    },
    "tags": []
   },
   "outputs": [],
   "source": [
    "def add_dataset(\n",
    "    labels,\n",
    "    domains,\n",
    "    pickle_path,\n",
    "    x_transforms,\n",
    "    episode_transforms,\n",
    "    domain_prefix,\n",
    "    num_examples_per_domain_per_label,\n",
    "    source_or_target_dataset:str,\n",
    "    iterator_seed=p.seed,\n",
    "    dataset_seed=p.dataset_seed,\n",
    "    n_shot=p.n_shot,\n",
    "    n_way=p.n_way,\n",
    "    n_query=p.n_query,\n",
    "    train_val_test_k_factors=(p.train_k_factor,p.val_k_factor,p.test_k_factor),\n",
    "):\n",
    "   \n",
    "    if x_transforms == []: x_transform = None\n",
    "    else: x_transform = get_chained_transform(x_transforms)\n",
    "    \n",
    "    if episode_transforms == []: episode_transform = None\n",
    "    else: raise Exception(\"episode_transforms not implemented\")\n",
    "    \n",
    "    episode_transform = lambda tup, _prefix=domain_prefix: (_prefix + str(tup[0]), tup[1])\n",
    "\n",
    "\n",
    "    eaf = Episodic_Accessor_Factory(\n",
    "        labels=labels,\n",
    "        domains=domains,\n",
    "        num_examples_per_domain_per_label=num_examples_per_domain_per_label,\n",
    "        iterator_seed=iterator_seed,\n",
    "        dataset_seed=dataset_seed,\n",
    "        n_shot=n_shot,\n",
    "        n_way=n_way,\n",
    "        n_query=n_query,\n",
    "        train_val_test_k_factors=train_val_test_k_factors,\n",
    "        pickle_path=pickle_path,\n",
    "        x_transform_func=x_transform,\n",
    "    )\n",
    "\n",
    "    train, val, test = eaf.get_train(), eaf.get_val(), eaf.get_test()\n",
    "    train = Lazy_Iterable_Wrapper(train, episode_transform)\n",
    "    val = Lazy_Iterable_Wrapper(val, episode_transform)\n",
    "    test = Lazy_Iterable_Wrapper(test, episode_transform)\n",
    "\n",
    "    if source_or_target_dataset==\"source\":\n",
    "        train_original_source.append(train)\n",
    "        val_original_source.append(val)\n",
    "        test_original_source.append(test)\n",
    "\n",
    "        p.domains_source.extend(\n",
    "            [domain_prefix + str(u) for u in domains]\n",
    "        )\n",
    "    elif source_or_target_dataset==\"target\":\n",
    "        train_original_target.append(train)\n",
    "        val_original_target.append(val)\n",
    "        test_original_target.append(test)\n",
    "        p.domains_target.extend(\n",
    "            [domain_prefix + str(u) for u in domains]\n",
    "        )\n",
    "    else:\n",
    "        raise Exception(f\"invalid source_or_target_dataset: {source_or_target_dataset}\")\n",
    "    "
   ]
  },
  {
   "cell_type": "code",
   "execution_count": 13,
   "id": "fe266617",
   "metadata": {
    "execution": {
     "iopub.execute_input": "2022-03-28T23:25:24.004988Z",
     "iopub.status.busy": "2022-03-28T23:25:24.000889Z",
     "iopub.status.idle": "2022-03-28T23:28:15.148188Z",
     "shell.execute_reply": "2022-03-28T23:28:15.148578Z"
    },
    "papermill": {
     "duration": 171.166254,
     "end_time": "2022-03-28T23:28:15.148716",
     "exception": false,
     "start_time": "2022-03-28T23:25:23.982462",
     "status": "completed"
    },
    "tags": []
   },
   "outputs": [],
   "source": [
    "for ds in p.datasets:\n",
    "    add_dataset(**ds)"
   ]
  },
  {
   "cell_type": "code",
   "execution_count": 14,
   "id": "b90d65ac",
   "metadata": {
    "execution": {
     "iopub.execute_input": "2022-03-28T23:28:15.183398Z",
     "iopub.status.busy": "2022-03-28T23:28:15.183134Z",
     "iopub.status.idle": "2022-03-28T23:28:15.201835Z",
     "shell.execute_reply": "2022-03-28T23:28:15.201366Z"
    },
    "papermill": {
     "duration": 0.034419,
     "end_time": "2022-03-28T23:28:15.201932",
     "exception": false,
     "start_time": "2022-03-28T23:28:15.167513",
     "status": "completed"
    },
    "tags": []
   },
   "outputs": [],
   "source": [
    "# from steves_utils.CORES.utils import (\n",
    "#     ALL_NODES,\n",
    "#     ALL_NODES_MINIMUM_1000_EXAMPLES,\n",
    "#     ALL_DAYS\n",
    "# )\n",
    "\n",
    "# add_dataset(\n",
    "#     labels=ALL_NODES,\n",
    "#     domains = ALL_DAYS,\n",
    "#     num_examples_per_domain_per_label=100,\n",
    "#     pickle_path=os.path.join(get_datasets_base_path(), \"cores.stratified_ds.2022A.pkl\"),\n",
    "#     source_or_target_dataset=\"target\",\n",
    "#     x_transform_func=global_x_transform_func,\n",
    "#     domain_modifier=lambda u: f\"cores_{u}\"\n",
    "# )"
   ]
  },
  {
   "cell_type": "code",
   "execution_count": 15,
   "id": "76db484d",
   "metadata": {
    "execution": {
     "iopub.execute_input": "2022-03-28T23:28:15.236670Z",
     "iopub.status.busy": "2022-03-28T23:28:15.236421Z",
     "iopub.status.idle": "2022-03-28T23:28:15.247862Z",
     "shell.execute_reply": "2022-03-28T23:28:15.247393Z"
    },
    "papermill": {
     "duration": 0.026306,
     "end_time": "2022-03-28T23:28:15.247959",
     "exception": false,
     "start_time": "2022-03-28T23:28:15.221653",
     "status": "completed"
    },
    "tags": []
   },
   "outputs": [],
   "source": [
    "# from steves_utils.ORACLE.utils_v2 import (\n",
    "#     ALL_DISTANCES_FEET,\n",
    "#     ALL_RUNS,\n",
    "#     ALL_SERIAL_NUMBERS,\n",
    "# )\n",
    "\n",
    "\n",
    "# add_dataset(\n",
    "#     labels=ALL_SERIAL_NUMBERS,\n",
    "#     domains = list(set(ALL_DISTANCES_FEET) - {2,62}),\n",
    "#     num_examples_per_domain_per_label=100,\n",
    "#     pickle_path=os.path.join(get_datasets_base_path(), \"oracle.Run2_framed_2000Examples_stratified_ds.2022A.pkl\"),\n",
    "#     source_or_target_dataset=\"source\",\n",
    "#     x_transform_func=global_x_transform_func,\n",
    "#     domain_modifier=lambda u: f\"oracle1_{u}\"\n",
    "# )\n"
   ]
  },
  {
   "cell_type": "code",
   "execution_count": 16,
   "id": "97dea9d2",
   "metadata": {
    "execution": {
     "iopub.execute_input": "2022-03-28T23:28:15.283561Z",
     "iopub.status.busy": "2022-03-28T23:28:15.283309Z",
     "iopub.status.idle": "2022-03-28T23:28:15.293745Z",
     "shell.execute_reply": "2022-03-28T23:28:15.293948Z"
    },
    "papermill": {
     "duration": 0.026929,
     "end_time": "2022-03-28T23:28:15.294016",
     "exception": false,
     "start_time": "2022-03-28T23:28:15.267087",
     "status": "completed"
    },
    "tags": []
   },
   "outputs": [],
   "source": [
    "# from steves_utils.ORACLE.utils_v2 import (\n",
    "#     ALL_DISTANCES_FEET,\n",
    "#     ALL_RUNS,\n",
    "#     ALL_SERIAL_NUMBERS,\n",
    "# )\n",
    "\n",
    "\n",
    "# add_dataset(\n",
    "#     labels=ALL_SERIAL_NUMBERS,\n",
    "#     domains = list(set(ALL_DISTANCES_FEET) - {2,62,56}),\n",
    "#     num_examples_per_domain_per_label=100,\n",
    "#     pickle_path=os.path.join(get_datasets_base_path(), \"oracle.Run2_framed_2000Examples_stratified_ds.2022A.pkl\"),\n",
    "#     source_or_target_dataset=\"source\",\n",
    "#     x_transform_func=global_x_transform_func,\n",
    "#     domain_modifier=lambda u: f\"oracle2_{u}\"\n",
    "# )"
   ]
  },
  {
   "cell_type": "code",
   "execution_count": 17,
   "id": "6f289866",
   "metadata": {
    "execution": {
     "iopub.execute_input": "2022-03-28T23:28:15.328931Z",
     "iopub.status.busy": "2022-03-28T23:28:15.328683Z",
     "iopub.status.idle": "2022-03-28T23:28:15.344505Z",
     "shell.execute_reply": "2022-03-28T23:28:15.344078Z"
    },
    "papermill": {
     "duration": 0.031296,
     "end_time": "2022-03-28T23:28:15.344601",
     "exception": false,
     "start_time": "2022-03-28T23:28:15.313305",
     "status": "completed"
    },
    "tags": []
   },
   "outputs": [],
   "source": [
    "# add_dataset(\n",
    "#     labels=list(range(19)),\n",
    "#     domains = [0,1,2],\n",
    "#     num_examples_per_domain_per_label=100,\n",
    "#     pickle_path=os.path.join(get_datasets_base_path(), \"metehan.stratified_ds.2022A.pkl\"),\n",
    "#     source_or_target_dataset=\"target\",\n",
    "#     x_transform_func=global_x_transform_func,\n",
    "#     domain_modifier=lambda u: f\"met_{u}\"\n",
    "# )"
   ]
  },
  {
   "cell_type": "code",
   "execution_count": 18,
   "id": "86a863c3",
   "metadata": {
    "execution": {
     "iopub.execute_input": "2022-03-28T23:28:15.378262Z",
     "iopub.status.busy": "2022-03-28T23:28:15.377999Z",
     "iopub.status.idle": "2022-03-28T23:28:15.388730Z",
     "shell.execute_reply": "2022-03-28T23:28:15.388378Z"
    },
    "papermill": {
     "duration": 0.025707,
     "end_time": "2022-03-28T23:28:15.388806",
     "exception": false,
     "start_time": "2022-03-28T23:28:15.363099",
     "status": "completed"
    },
    "tags": []
   },
   "outputs": [],
   "source": [
    "# # from steves_utils.wisig.utils import (\n",
    "# #     ALL_NODES_MINIMUM_100_EXAMPLES,\n",
    "# #     ALL_NODES_MINIMUM_500_EXAMPLES,\n",
    "# #     ALL_NODES_MINIMUM_1000_EXAMPLES,\n",
    "# #     ALL_DAYS\n",
    "# # )\n",
    "\n",
    "# import steves_utils.wisig.utils as wisig\n",
    "\n",
    "\n",
    "# add_dataset(\n",
    "#     labels=wisig.ALL_NODES_MINIMUM_100_EXAMPLES,\n",
    "#     domains = wisig.ALL_DAYS,\n",
    "#     num_examples_per_domain_per_label=100,\n",
    "#     pickle_path=os.path.join(get_datasets_base_path(), \"wisig.node3-19.stratified_ds.2022A.pkl\"),\n",
    "#     source_or_target_dataset=\"target\",\n",
    "#     x_transform_func=global_x_transform_func,\n",
    "#     domain_modifier=lambda u: f\"wisig_{u}\"\n",
    "# )"
   ]
  },
  {
   "cell_type": "code",
   "execution_count": 19,
   "id": "fd5442bc",
   "metadata": {
    "execution": {
     "iopub.execute_input": "2022-03-28T23:28:15.421878Z",
     "iopub.status.busy": "2022-03-28T23:28:15.421570Z",
     "iopub.status.idle": "2022-03-28T23:28:15.433758Z",
     "shell.execute_reply": "2022-03-28T23:28:15.433350Z"
    },
    "papermill": {
     "duration": 0.02906,
     "end_time": "2022-03-28T23:28:15.433854",
     "exception": false,
     "start_time": "2022-03-28T23:28:15.404794",
     "status": "completed"
    },
    "tags": []
   },
   "outputs": [],
   "source": [
    "###################################\n",
    "# Build the dataset\n",
    "###################################\n",
    "train_original_source = Iterable_Aggregator(train_original_source, p.seed)\n",
    "val_original_source = Iterable_Aggregator(val_original_source, p.seed)\n",
    "test_original_source = Iterable_Aggregator(test_original_source, p.seed)\n",
    "\n",
    "\n",
    "train_original_target = Iterable_Aggregator(train_original_target, p.seed)\n",
    "val_original_target = Iterable_Aggregator(val_original_target, p.seed)\n",
    "test_original_target = Iterable_Aggregator(test_original_target, p.seed)\n",
    "\n",
    "# For CNN We only use X and Y. And we only train on the source.\n",
    "# Properly form the data using a transform lambda and Lazy_Iterable_Wrapper. Finally wrap them in a dataloader\n",
    "\n",
    "transform_lambda = lambda ex: ex[1] # Original is (<domain>, <episode>) so we strip down to episode only\n",
    "\n",
    "train_processed_source = Lazy_Iterable_Wrapper(train_original_source, transform_lambda)\n",
    "val_processed_source   = Lazy_Iterable_Wrapper(val_original_source, transform_lambda)\n",
    "test_processed_source  = Lazy_Iterable_Wrapper(test_original_source, transform_lambda)\n",
    "\n",
    "train_processed_target = Lazy_Iterable_Wrapper(train_original_target, transform_lambda)\n",
    "val_processed_target   = Lazy_Iterable_Wrapper(val_original_target, transform_lambda)\n",
    "test_processed_target  = Lazy_Iterable_Wrapper(test_original_target, transform_lambda)\n",
    "\n",
    "datasets = EasyDict({\n",
    "    \"source\": {\n",
    "        \"original\": {\"train\":train_original_source, \"val\":val_original_source, \"test\":test_original_source},\n",
    "        \"processed\": {\"train\":train_processed_source, \"val\":val_processed_source, \"test\":test_processed_source}\n",
    "    },\n",
    "    \"target\": {\n",
    "        \"original\": {\"train\":train_original_target, \"val\":val_original_target, \"test\":test_original_target},\n",
    "        \"processed\": {\"train\":train_processed_target, \"val\":val_processed_target, \"test\":test_processed_target}\n",
    "    },\n",
    "})"
   ]
  },
  {
   "cell_type": "code",
   "execution_count": 20,
   "id": "5b3c01fc",
   "metadata": {
    "execution": {
     "iopub.execute_input": "2022-03-28T23:28:15.469270Z",
     "iopub.status.busy": "2022-03-28T23:28:15.469018Z",
     "iopub.status.idle": "2022-03-28T23:28:41.946125Z",
     "shell.execute_reply": "2022-03-28T23:28:41.946509Z"
    },
    "papermill": {
     "duration": 26.494402,
     "end_time": "2022-03-28T23:28:41.946616",
     "exception": false,
     "start_time": "2022-03-28T23:28:15.452214",
     "status": "completed"
    },
    "tags": []
   },
   "outputs": [
    {
     "name": "stdout",
     "output_type": "stream",
     "text": [
      "{'ORACLE.run2_38', 'ORACLE.run2_32', 'ORACLE.run2_26', 'ORACLE.run2_14', 'ORACLE.run2_8', 'ORACLE.run2_20', 'ORACLE.run2_50', 'ORACLE.run2_44'}\n"
     ]
    },
    {
     "name": "stdout",
     "output_type": "stream",
     "text": [
      "{'ORACLE.run1_14', 'ORACLE.run1_20', 'ORACLE.run1_50', 'ORACLE.run1_32', 'ORACLE.run1_8', 'ORACLE.run1_38', 'ORACLE.run1_26', 'ORACLE.run1_44'}\n"
     ]
    },
    {
     "name": "stdout",
     "output_type": "stream",
     "text": [
      "tensor([[[ 0.1659,  0.4803,  0.8646,  ...,  0.9956,  0.6812, -0.0437],\n",
      "         [-0.0961,  0.1397,  0.1747,  ..., -1.1440, -0.0349, -0.5939]],\n",
      "\n",
      "        [[-0.5700,  0.2892,  0.0595,  ..., -0.7231, -1.2250, -0.9358],\n",
      "         [-1.7269, -0.3913, -0.2127,  ..., -0.7231, -1.4547,  0.4424]],\n",
      "\n",
      "        [[ 0.6323, -1.0424, -0.6323,  ..., -0.0427,  0.4357,  0.8629],\n",
      "         [ 0.7262,  0.3503,  0.9911,  ..., -1.0082,  1.2731,  0.4272]],\n",
      "\n",
      "        ...,\n",
      "\n",
      "        [[-0.6844,  0.4696, -0.0875,  ..., -0.1035, -1.2893, -1.1540],\n",
      "         [-1.4644,  0.5730,  0.1990,  ...,  0.6447,  0.5332, -0.4457]],\n",
      "\n",
      "        [[-0.4800, -0.3905,  0.0569,  ...,  0.0244,  0.8054, -0.7484],\n",
      "         [-0.0407,  0.6182,  0.8542,  ...,  0.0895, -0.4230,  0.3905]],\n",
      "\n",
      "        [[ 0.0329,  0.7084, -0.9885,  ..., -0.5931, -0.4778,  0.1895],\n",
      "         [-1.0132, -0.5272,  0.5354,  ...,  0.7413,  0.6672,  0.6013]]])\n"
     ]
    }
   ],
   "source": [
    "from steves_utils.transforms import get_average_magnitude, get_average_power\n",
    "\n",
    "print(set([u for u,_ in val_original_source]))\n",
    "print(set([u for u,_ in val_original_target]))\n",
    "\n",
    "s_x, s_y, q_x, q_y, _ = next(iter(train_processed_source))\n",
    "print(s_x)\n",
    "\n",
    "# for ds in [\n",
    "#     train_processed_source,\n",
    "#     val_processed_source,\n",
    "#     test_processed_source,\n",
    "#     train_processed_target,\n",
    "#     val_processed_target,\n",
    "#     test_processed_target\n",
    "# ]:\n",
    "#     for s_x, s_y, q_x, q_y, _ in ds:\n",
    "#         for X in (s_x, q_x):\n",
    "#             for x in X:\n",
    "#                 assert np.isclose(get_average_magnitude(x.numpy()), 1.0)\n",
    "#                 assert np.isclose(get_average_power(x.numpy()), 1.0)\n",
    "                "
   ]
  },
  {
   "cell_type": "code",
   "execution_count": 21,
   "id": "bbdacba1",
   "metadata": {
    "execution": {
     "iopub.execute_input": "2022-03-28T23:28:41.983930Z",
     "iopub.status.busy": "2022-03-28T23:28:41.982595Z",
     "iopub.status.idle": "2022-03-28T23:28:42.075169Z",
     "shell.execute_reply": "2022-03-28T23:28:42.075589Z"
    },
    "papermill": {
     "duration": 0.109596,
     "end_time": "2022-03-28T23:28:42.075731",
     "exception": false,
     "start_time": "2022-03-28T23:28:41.966135",
     "status": "completed"
    },
    "tags": []
   },
   "outputs": [
    {
     "name": "stdout",
     "output_type": "stream",
     "text": [
      "(2, 256)\n"
     ]
    }
   ],
   "source": [
    "###################################\n",
    "# Build the model\n",
    "###################################\n",
    "# easfsl only wants a tuple for the shape\n",
    "model = Steves_Prototypical_Network(x_net, device=p.device, x_shape=tuple(p.x_shape))\n",
    "optimizer = Adam(params=model.parameters(), lr=p.lr)"
   ]
  },
  {
   "cell_type": "code",
   "execution_count": 22,
   "id": "22b39ac5",
   "metadata": {
    "execution": {
     "iopub.execute_input": "2022-03-28T23:28:42.112161Z",
     "iopub.status.busy": "2022-03-28T23:28:42.111896Z",
     "iopub.status.idle": "2022-03-29T02:32:34.108829Z",
     "shell.execute_reply": "2022-03-29T02:32:34.108590Z"
    },
    "papermill": {
     "duration": 11032.01491,
     "end_time": "2022-03-29T02:32:34.108891",
     "exception": false,
     "start_time": "2022-03-28T23:28:42.093981",
     "status": "completed"
    },
    "tags": []
   },
   "outputs": [
    {
     "name": "stdout",
     "output_type": "stream",
     "text": [
      "epoch: 1, [batch: 1 / 33600], examples_per_second: 9.8999, train_label_loss: 2.7669, \n"
     ]
    },
    {
     "name": "stdout",
     "output_type": "stream",
     "text": [
      "epoch: 1, [batch: 3360 / 33600], examples_per_second: 3187.1807, train_label_loss: 2.4095, \n"
     ]
    },
    {
     "name": "stdout",
     "output_type": "stream",
     "text": [
      "epoch: 1, [batch: 6720 / 33600], examples_per_second: 3193.6093, train_label_loss: 0.8361, \n"
     ]
    },
    {
     "name": "stdout",
     "output_type": "stream",
     "text": [
      "epoch: 1, [batch: 10080 / 33600], examples_per_second: 3185.9926, train_label_loss: 0.5943, \n"
     ]
    },
    {
     "name": "stdout",
     "output_type": "stream",
     "text": [
      "epoch: 1, [batch: 13440 / 33600], examples_per_second: 3176.5660, train_label_loss: 1.4235, \n"
     ]
    },
    {
     "name": "stdout",
     "output_type": "stream",
     "text": [
      "epoch: 1, [batch: 16800 / 33600], examples_per_second: 3191.9821, train_label_loss: 1.3063, \n"
     ]
    },
    {
     "name": "stdout",
     "output_type": "stream",
     "text": [
      "epoch: 1, [batch: 20160 / 33600], examples_per_second: 3184.7334, train_label_loss: 0.5573, \n"
     ]
    },
    {
     "name": "stdout",
     "output_type": "stream",
     "text": [
      "epoch: 1, [batch: 23520 / 33600], examples_per_second: 3178.4269, train_label_loss: 1.1317, \n"
     ]
    },
    {
     "name": "stdout",
     "output_type": "stream",
     "text": [
      "epoch: 1, [batch: 26880 / 33600], examples_per_second: 3191.1994, train_label_loss: 0.4371, \n"
     ]
    },
    {
     "name": "stdout",
     "output_type": "stream",
     "text": [
      "epoch: 1, [batch: 30240 / 33600], examples_per_second: 3186.7312, train_label_loss: 1.3604, \n"
     ]
    },
    {
     "name": "stdout",
     "output_type": "stream",
     "text": [
      "=============================================================\n",
      "epoch: 1, source_val_acc_label: 0.6232, target_val_acc_label: 0.6339, source_val_label_loss: 1.0474, target_val_label_loss: 1.0241, \n",
      "=============================================================\n"
     ]
    },
    {
     "name": "stdout",
     "output_type": "stream",
     "text": [
      "New best\n"
     ]
    },
    {
     "name": "stdout",
     "output_type": "stream",
     "text": [
      "epoch: 2, [batch: 1 / 33600], examples_per_second: 0.9611, train_label_loss: 0.7213, \n"
     ]
    },
    {
     "name": "stdout",
     "output_type": "stream",
     "text": [
      "epoch: 2, [batch: 3360 / 33600], examples_per_second: 3207.8349, train_label_loss: 0.7701, \n"
     ]
    },
    {
     "name": "stdout",
     "output_type": "stream",
     "text": [
      "epoch: 2, [batch: 6720 / 33600], examples_per_second: 3216.9293, train_label_loss: 1.3076, \n"
     ]
    },
    {
     "name": "stdout",
     "output_type": "stream",
     "text": [
      "epoch: 2, [batch: 10080 / 33600], examples_per_second: 3215.4075, train_label_loss: 0.8676, \n"
     ]
    },
    {
     "name": "stdout",
     "output_type": "stream",
     "text": [
      "epoch: 2, [batch: 13440 / 33600], examples_per_second: 3204.1805, train_label_loss: 0.6257, \n"
     ]
    },
    {
     "name": "stdout",
     "output_type": "stream",
     "text": [
      "epoch: 2, [batch: 16800 / 33600], examples_per_second: 3221.2419, train_label_loss: 0.6167, \n"
     ]
    },
    {
     "name": "stdout",
     "output_type": "stream",
     "text": [
      "epoch: 2, [batch: 20160 / 33600], examples_per_second: 3217.5796, train_label_loss: 1.1663, \n"
     ]
    },
    {
     "name": "stdout",
     "output_type": "stream",
     "text": [
      "epoch: 2, [batch: 23520 / 33600], examples_per_second: 3208.8622, train_label_loss: 1.1654, \n"
     ]
    },
    {
     "name": "stdout",
     "output_type": "stream",
     "text": [
      "epoch: 2, [batch: 26880 / 33600], examples_per_second: 3215.8480, train_label_loss: 1.3060, \n"
     ]
    },
    {
     "name": "stdout",
     "output_type": "stream",
     "text": [
      "epoch: 2, [batch: 30240 / 33600], examples_per_second: 3216.3184, train_label_loss: 1.0482, \n"
     ]
    },
    {
     "name": "stdout",
     "output_type": "stream",
     "text": [
      "=============================================================\n",
      "epoch: 2, source_val_acc_label: 0.6513, target_val_acc_label: 0.6648, source_val_label_loss: 0.9338, target_val_label_loss: 0.8967, \n",
      "=============================================================\n"
     ]
    },
    {
     "name": "stdout",
     "output_type": "stream",
     "text": [
      "New best\n"
     ]
    },
    {
     "name": "stdout",
     "output_type": "stream",
     "text": [
      "epoch: 3, [batch: 1 / 33600], examples_per_second: 0.9663, train_label_loss: 0.9694, \n"
     ]
    },
    {
     "name": "stdout",
     "output_type": "stream",
     "text": [
      "epoch: 3, [batch: 3360 / 33600], examples_per_second: 3208.4066, train_label_loss: 1.3863, \n"
     ]
    },
    {
     "name": "stdout",
     "output_type": "stream",
     "text": [
      "epoch: 3, [batch: 6720 / 33600], examples_per_second: 3218.4061, train_label_loss: 1.1557, \n"
     ]
    },
    {
     "name": "stdout",
     "output_type": "stream",
     "text": [
      "epoch: 3, [batch: 10080 / 33600], examples_per_second: 3215.6766, train_label_loss: 0.8672, \n"
     ]
    },
    {
     "name": "stdout",
     "output_type": "stream",
     "text": [
      "epoch: 3, [batch: 13440 / 33600], examples_per_second: 3206.1694, train_label_loss: 0.9194, \n"
     ]
    },
    {
     "name": "stdout",
     "output_type": "stream",
     "text": [
      "epoch: 3, [batch: 16800 / 33600], examples_per_second: 3213.3353, train_label_loss: 0.5071, \n"
     ]
    },
    {
     "name": "stdout",
     "output_type": "stream",
     "text": [
      "epoch: 3, [batch: 20160 / 33600], examples_per_second: 3219.1450, train_label_loss: 1.1320, \n"
     ]
    },
    {
     "name": "stdout",
     "output_type": "stream",
     "text": [
      "epoch: 3, [batch: 23520 / 33600], examples_per_second: 3203.6668, train_label_loss: 1.1533, \n"
     ]
    },
    {
     "name": "stdout",
     "output_type": "stream",
     "text": [
      "epoch: 3, [batch: 26880 / 33600], examples_per_second: 3218.1467, train_label_loss: 1.0546, \n"
     ]
    },
    {
     "name": "stdout",
     "output_type": "stream",
     "text": [
      "epoch: 3, [batch: 30240 / 33600], examples_per_second: 3199.3451, train_label_loss: 0.6155, \n"
     ]
    },
    {
     "name": "stdout",
     "output_type": "stream",
     "text": [
      "=============================================================\n",
      "epoch: 3, source_val_acc_label: 0.6759, target_val_acc_label: 0.6875, source_val_label_loss: 0.8733, target_val_label_loss: 0.8416, \n",
      "=============================================================\n"
     ]
    },
    {
     "name": "stdout",
     "output_type": "stream",
     "text": [
      "New best\n"
     ]
    },
    {
     "name": "stdout",
     "output_type": "stream",
     "text": [
      "epoch: 4, [batch: 1 / 33600], examples_per_second: 0.9664, train_label_loss: 0.9657, \n"
     ]
    },
    {
     "name": "stdout",
     "output_type": "stream",
     "text": [
      "epoch: 4, [batch: 3360 / 33600], examples_per_second: 3201.3769, train_label_loss: 0.3674, \n"
     ]
    },
    {
     "name": "stdout",
     "output_type": "stream",
     "text": [
      "epoch: 4, [batch: 6720 / 33600], examples_per_second: 3215.4508, train_label_loss: 1.2399, \n"
     ]
    },
    {
     "name": "stdout",
     "output_type": "stream",
     "text": [
      "epoch: 4, [batch: 10080 / 33600], examples_per_second: 3221.6836, train_label_loss: 1.0589, \n"
     ]
    },
    {
     "name": "stdout",
     "output_type": "stream",
     "text": [
      "epoch: 4, [batch: 13440 / 33600], examples_per_second: 3205.6329, train_label_loss: 0.4780, \n"
     ]
    },
    {
     "name": "stdout",
     "output_type": "stream",
     "text": [
      "epoch: 4, [batch: 16800 / 33600], examples_per_second: 3216.5694, train_label_loss: 1.2461, \n"
     ]
    },
    {
     "name": "stdout",
     "output_type": "stream",
     "text": [
      "epoch: 4, [batch: 20160 / 33600], examples_per_second: 3221.3591, train_label_loss: 1.3817, \n"
     ]
    },
    {
     "name": "stdout",
     "output_type": "stream",
     "text": [
      "epoch: 4, [batch: 23520 / 33600], examples_per_second: 3214.4421, train_label_loss: 0.8772, \n"
     ]
    },
    {
     "name": "stdout",
     "output_type": "stream",
     "text": [
      "epoch: 4, [batch: 26880 / 33600], examples_per_second: 3219.2305, train_label_loss: 0.6516, \n"
     ]
    },
    {
     "name": "stdout",
     "output_type": "stream",
     "text": [
      "epoch: 4, [batch: 30240 / 33600], examples_per_second: 3219.7324, train_label_loss: 0.6101, \n"
     ]
    },
    {
     "name": "stdout",
     "output_type": "stream",
     "text": [
      "=============================================================\n",
      "epoch: 4, source_val_acc_label: 0.6959, target_val_acc_label: 0.7063, source_val_label_loss: 0.8234, target_val_label_loss: 0.7902, \n",
      "=============================================================\n"
     ]
    },
    {
     "name": "stdout",
     "output_type": "stream",
     "text": [
      "New best\n"
     ]
    },
    {
     "name": "stdout",
     "output_type": "stream",
     "text": [
      "epoch: 5, [batch: 1 / 33600], examples_per_second: 0.9677, train_label_loss: 0.8367, \n"
     ]
    },
    {
     "name": "stdout",
     "output_type": "stream",
     "text": [
      "epoch: 5, [batch: 3360 / 33600], examples_per_second: 3200.3695, train_label_loss: 0.6991, \n"
     ]
    },
    {
     "name": "stdout",
     "output_type": "stream",
     "text": [
      "epoch: 5, [batch: 6720 / 33600], examples_per_second: 3207.9324, train_label_loss: 0.8332, \n"
     ]
    },
    {
     "name": "stdout",
     "output_type": "stream",
     "text": [
      "epoch: 5, [batch: 10080 / 33600], examples_per_second: 3217.6561, train_label_loss: 1.1834, \n"
     ]
    },
    {
     "name": "stdout",
     "output_type": "stream",
     "text": [
      "epoch: 5, [batch: 13440 / 33600], examples_per_second: 3206.0342, train_label_loss: 0.8817, \n"
     ]
    },
    {
     "name": "stdout",
     "output_type": "stream",
     "text": [
      "epoch: 5, [batch: 16800 / 33600], examples_per_second: 3216.5493, train_label_loss: 0.9822, \n"
     ]
    },
    {
     "name": "stdout",
     "output_type": "stream",
     "text": [
      "epoch: 5, [batch: 20160 / 33600], examples_per_second: 3224.4094, train_label_loss: 0.3838, \n"
     ]
    },
    {
     "name": "stdout",
     "output_type": "stream",
     "text": [
      "epoch: 5, [batch: 23520 / 33600], examples_per_second: 3209.0832, train_label_loss: 0.3670, \n"
     ]
    },
    {
     "name": "stdout",
     "output_type": "stream",
     "text": [
      "epoch: 5, [batch: 26880 / 33600], examples_per_second: 3219.4197, train_label_loss: 0.4150, \n"
     ]
    },
    {
     "name": "stdout",
     "output_type": "stream",
     "text": [
      "epoch: 5, [batch: 30240 / 33600], examples_per_second: 3220.4663, train_label_loss: 0.7219, \n"
     ]
    },
    {
     "name": "stdout",
     "output_type": "stream",
     "text": [
      "=============================================================\n",
      "epoch: 5, source_val_acc_label: 0.7157, target_val_acc_label: 0.7206, source_val_label_loss: 0.7868, target_val_label_loss: 0.7633, \n",
      "=============================================================\n"
     ]
    },
    {
     "name": "stdout",
     "output_type": "stream",
     "text": [
      "New best\n"
     ]
    },
    {
     "name": "stdout",
     "output_type": "stream",
     "text": [
      "epoch: 6, [batch: 1 / 33600], examples_per_second: 0.9632, train_label_loss: 0.7781, \n"
     ]
    },
    {
     "name": "stdout",
     "output_type": "stream",
     "text": [
      "epoch: 6, [batch: 3360 / 33600], examples_per_second: 3197.4164, train_label_loss: 0.5833, \n"
     ]
    },
    {
     "name": "stdout",
     "output_type": "stream",
     "text": [
      "epoch: 6, [batch: 6720 / 33600], examples_per_second: 3210.7815, train_label_loss: 0.3270, \n"
     ]
    },
    {
     "name": "stdout",
     "output_type": "stream",
     "text": [
      "epoch: 6, [batch: 10080 / 33600], examples_per_second: 3225.3127, train_label_loss: 0.8761, \n"
     ]
    },
    {
     "name": "stdout",
     "output_type": "stream",
     "text": [
      "epoch: 6, [batch: 13440 / 33600], examples_per_second: 3199.6296, train_label_loss: 0.7137, \n"
     ]
    },
    {
     "name": "stdout",
     "output_type": "stream",
     "text": [
      "epoch: 6, [batch: 16800 / 33600], examples_per_second: 3215.5050, train_label_loss: 0.6175, \n"
     ]
    },
    {
     "name": "stdout",
     "output_type": "stream",
     "text": [
      "epoch: 6, [batch: 20160 / 33600], examples_per_second: 3219.1581, train_label_loss: 1.2179, \n"
     ]
    },
    {
     "name": "stdout",
     "output_type": "stream",
     "text": [
      "epoch: 6, [batch: 23520 / 33600], examples_per_second: 3212.0824, train_label_loss: 0.4302, \n"
     ]
    },
    {
     "name": "stdout",
     "output_type": "stream",
     "text": [
      "epoch: 6, [batch: 26880 / 33600], examples_per_second: 3215.9750, train_label_loss: 0.6224, \n"
     ]
    },
    {
     "name": "stdout",
     "output_type": "stream",
     "text": [
      "epoch: 6, [batch: 30240 / 33600], examples_per_second: 3216.5475, train_label_loss: 0.6774, \n"
     ]
    },
    {
     "name": "stdout",
     "output_type": "stream",
     "text": [
      "=============================================================\n",
      "epoch: 6, source_val_acc_label: 0.7253, target_val_acc_label: 0.7302, source_val_label_loss: 0.7688, target_val_label_loss: 0.7445, \n",
      "=============================================================\n"
     ]
    },
    {
     "name": "stdout",
     "output_type": "stream",
     "text": [
      "New best\n"
     ]
    },
    {
     "name": "stdout",
     "output_type": "stream",
     "text": [
      "epoch: 7, [batch: 1 / 33600], examples_per_second: 0.9642, train_label_loss: 0.5363, \n"
     ]
    },
    {
     "name": "stdout",
     "output_type": "stream",
     "text": [
      "epoch: 7, [batch: 3360 / 33600], examples_per_second: 3200.2346, train_label_loss: 0.2765, \n"
     ]
    },
    {
     "name": "stdout",
     "output_type": "stream",
     "text": [
      "epoch: 7, [batch: 6720 / 33600], examples_per_second: 3217.8469, train_label_loss: 0.3594, \n"
     ]
    },
    {
     "name": "stdout",
     "output_type": "stream",
     "text": [
      "epoch: 7, [batch: 10080 / 33600], examples_per_second: 3214.1847, train_label_loss: 0.4362, \n"
     ]
    },
    {
     "name": "stdout",
     "output_type": "stream",
     "text": [
      "epoch: 7, [batch: 13440 / 33600], examples_per_second: 3199.5073, train_label_loss: 0.2221, \n"
     ]
    },
    {
     "name": "stdout",
     "output_type": "stream",
     "text": [
      "epoch: 7, [batch: 16800 / 33600], examples_per_second: 3206.6131, train_label_loss: 0.3457, \n"
     ]
    },
    {
     "name": "stdout",
     "output_type": "stream",
     "text": [
      "epoch: 7, [batch: 20160 / 33600], examples_per_second: 3219.8477, train_label_loss: 0.2741, \n"
     ]
    },
    {
     "name": "stdout",
     "output_type": "stream",
     "text": [
      "epoch: 7, [batch: 23520 / 33600], examples_per_second: 3215.2487, train_label_loss: 0.2007, \n"
     ]
    },
    {
     "name": "stdout",
     "output_type": "stream",
     "text": [
      "epoch: 7, [batch: 26880 / 33600], examples_per_second: 3215.4662, train_label_loss: 0.2742, \n"
     ]
    },
    {
     "name": "stdout",
     "output_type": "stream",
     "text": [
      "epoch: 7, [batch: 30240 / 33600], examples_per_second: 3221.0101, train_label_loss: 0.5609, \n"
     ]
    },
    {
     "name": "stdout",
     "output_type": "stream",
     "text": [
      "=============================================================\n",
      "epoch: 7, source_val_acc_label: 0.7245, target_val_acc_label: 0.7277, source_val_label_loss: 0.7722, target_val_label_loss: 0.7485, \n",
      "=============================================================\n"
     ]
    },
    {
     "name": "stdout",
     "output_type": "stream",
     "text": [
      "epoch: 8, [batch: 1 / 33600], examples_per_second: 0.9687, train_label_loss: 0.3991, \n"
     ]
    },
    {
     "name": "stdout",
     "output_type": "stream",
     "text": [
      "epoch: 8, [batch: 3360 / 33600], examples_per_second: 3198.4686, train_label_loss: 0.3543, \n"
     ]
    },
    {
     "name": "stdout",
     "output_type": "stream",
     "text": [
      "epoch: 8, [batch: 6720 / 33600], examples_per_second: 3211.2083, train_label_loss: 0.3487, \n"
     ]
    },
    {
     "name": "stdout",
     "output_type": "stream",
     "text": [
      "epoch: 8, [batch: 10080 / 33600], examples_per_second: 3217.1477, train_label_loss: 0.8253, \n"
     ]
    },
    {
     "name": "stdout",
     "output_type": "stream",
     "text": [
      "epoch: 8, [batch: 13440 / 33600], examples_per_second: 3207.7844, train_label_loss: 0.3571, \n"
     ]
    },
    {
     "name": "stdout",
     "output_type": "stream",
     "text": [
      "epoch: 8, [batch: 16800 / 33600], examples_per_second: 3214.8829, train_label_loss: 0.1926, \n"
     ]
    },
    {
     "name": "stdout",
     "output_type": "stream",
     "text": [
      "epoch: 8, [batch: 20160 / 33600], examples_per_second: 3220.0223, train_label_loss: 0.4144, \n"
     ]
    },
    {
     "name": "stdout",
     "output_type": "stream",
     "text": [
      "epoch: 8, [batch: 23520 / 33600], examples_per_second: 3209.7261, train_label_loss: 0.3678, \n"
     ]
    },
    {
     "name": "stdout",
     "output_type": "stream",
     "text": [
      "epoch: 8, [batch: 26880 / 33600], examples_per_second: 3217.6963, train_label_loss: 0.5087, \n"
     ]
    },
    {
     "name": "stdout",
     "output_type": "stream",
     "text": [
      "epoch: 8, [batch: 30240 / 33600], examples_per_second: 3214.8386, train_label_loss: 0.1317, \n"
     ]
    },
    {
     "name": "stdout",
     "output_type": "stream",
     "text": [
      "=============================================================\n",
      "epoch: 8, source_val_acc_label: 0.7301, target_val_acc_label: 0.7332, source_val_label_loss: 0.7827, target_val_label_loss: 0.7618, \n",
      "=============================================================\n"
     ]
    },
    {
     "name": "stdout",
     "output_type": "stream",
     "text": [
      "New best\n"
     ]
    },
    {
     "name": "stdout",
     "output_type": "stream",
     "text": [
      "epoch: 9, [batch: 1 / 33600], examples_per_second: 0.9635, train_label_loss: 0.5469, \n"
     ]
    },
    {
     "name": "stdout",
     "output_type": "stream",
     "text": [
      "epoch: 9, [batch: 3360 / 33600], examples_per_second: 3184.0501, train_label_loss: 0.5385, \n"
     ]
    },
    {
     "name": "stdout",
     "output_type": "stream",
     "text": [
      "epoch: 9, [batch: 6720 / 33600], examples_per_second: 3212.8520, train_label_loss: 0.8895, \n"
     ]
    },
    {
     "name": "stdout",
     "output_type": "stream",
     "text": [
      "epoch: 9, [batch: 10080 / 33600], examples_per_second: 3215.4856, train_label_loss: 1.0010, \n"
     ]
    },
    {
     "name": "stdout",
     "output_type": "stream",
     "text": [
      "epoch: 9, [batch: 13440 / 33600], examples_per_second: 3208.9491, train_label_loss: 0.4057, \n"
     ]
    },
    {
     "name": "stdout",
     "output_type": "stream",
     "text": [
      "epoch: 9, [batch: 16800 / 33600], examples_per_second: 3217.7499, train_label_loss: 0.5585, \n"
     ]
    },
    {
     "name": "stdout",
     "output_type": "stream",
     "text": [
      "epoch: 9, [batch: 20160 / 33600], examples_per_second: 3215.6802, train_label_loss: 0.2921, \n"
     ]
    },
    {
     "name": "stdout",
     "output_type": "stream",
     "text": [
      "epoch: 9, [batch: 23520 / 33600], examples_per_second: 3211.5221, train_label_loss: 0.3270, \n"
     ]
    },
    {
     "name": "stdout",
     "output_type": "stream",
     "text": [
      "epoch: 9, [batch: 26880 / 33600], examples_per_second: 3214.4770, train_label_loss: 0.4677, \n"
     ]
    },
    {
     "name": "stdout",
     "output_type": "stream",
     "text": [
      "epoch: 9, [batch: 30240 / 33600], examples_per_second: 3220.1213, train_label_loss: 0.2716, \n"
     ]
    },
    {
     "name": "stdout",
     "output_type": "stream",
     "text": [
      "=============================================================\n",
      "epoch: 9, source_val_acc_label: 0.7264, target_val_acc_label: 0.7266, source_val_label_loss: 0.7872, target_val_label_loss: 0.7737, \n",
      "=============================================================\n"
     ]
    },
    {
     "name": "stdout",
     "output_type": "stream",
     "text": [
      "epoch: 10, [batch: 1 / 33600], examples_per_second: 0.9653, train_label_loss: 0.3193, \n"
     ]
    },
    {
     "name": "stdout",
     "output_type": "stream",
     "text": [
      "epoch: 10, [batch: 3360 / 33600], examples_per_second: 3198.3024, train_label_loss: 0.4201, \n"
     ]
    },
    {
     "name": "stdout",
     "output_type": "stream",
     "text": [
      "epoch: 10, [batch: 6720 / 33600], examples_per_second: 3214.6367, train_label_loss: 0.3396, \n"
     ]
    },
    {
     "name": "stdout",
     "output_type": "stream",
     "text": [
      "epoch: 10, [batch: 10080 / 33600], examples_per_second: 3216.6613, train_label_loss: 0.2927, \n"
     ]
    },
    {
     "name": "stdout",
     "output_type": "stream",
     "text": [
      "epoch: 10, [batch: 13440 / 33600], examples_per_second: 3207.3627, train_label_loss: 0.2973, \n"
     ]
    },
    {
     "name": "stdout",
     "output_type": "stream",
     "text": [
      "epoch: 10, [batch: 16800 / 33600], examples_per_second: 3217.7998, train_label_loss: 1.3737, \n"
     ]
    },
    {
     "name": "stdout",
     "output_type": "stream",
     "text": [
      "epoch: 10, [batch: 20160 / 33600], examples_per_second: 3221.3787, train_label_loss: 0.5816, \n"
     ]
    },
    {
     "name": "stdout",
     "output_type": "stream",
     "text": [
      "epoch: 10, [batch: 23520 / 33600], examples_per_second: 3201.9126, train_label_loss: 0.3477, \n"
     ]
    },
    {
     "name": "stdout",
     "output_type": "stream",
     "text": [
      "epoch: 10, [batch: 26880 / 33600], examples_per_second: 3215.0676, train_label_loss: 0.3896, \n"
     ]
    },
    {
     "name": "stdout",
     "output_type": "stream",
     "text": [
      "epoch: 10, [batch: 30240 / 33600], examples_per_second: 3217.8852, train_label_loss: 0.5147, \n"
     ]
    },
    {
     "name": "stdout",
     "output_type": "stream",
     "text": [
      "=============================================================\n",
      "epoch: 10, source_val_acc_label: 0.7214, target_val_acc_label: 0.7217, source_val_label_loss: 0.7923, target_val_label_loss: 0.7819, \n",
      "=============================================================\n"
     ]
    },
    {
     "name": "stdout",
     "output_type": "stream",
     "text": [
      "epoch: 11, [batch: 1 / 33600], examples_per_second: 0.9632, train_label_loss: 0.2924, \n"
     ]
    },
    {
     "name": "stdout",
     "output_type": "stream",
     "text": [
      "epoch: 11, [batch: 3360 / 33600], examples_per_second: 3201.9740, train_label_loss: 0.3605, \n"
     ]
    },
    {
     "name": "stdout",
     "output_type": "stream",
     "text": [
      "epoch: 11, [batch: 6720 / 33600], examples_per_second: 3217.6956, train_label_loss: 0.3734, \n"
     ]
    },
    {
     "name": "stdout",
     "output_type": "stream",
     "text": [
      "epoch: 11, [batch: 10080 / 33600], examples_per_second: 3217.0944, train_label_loss: 0.3862, \n"
     ]
    },
    {
     "name": "stdout",
     "output_type": "stream",
     "text": [
      "epoch: 11, [batch: 13440 / 33600], examples_per_second: 3203.9161, train_label_loss: 0.2564, \n"
     ]
    },
    {
     "name": "stdout",
     "output_type": "stream",
     "text": [
      "epoch: 11, [batch: 16800 / 33600], examples_per_second: 3219.3154, train_label_loss: 0.4392, \n"
     ]
    },
    {
     "name": "stdout",
     "output_type": "stream",
     "text": [
      "epoch: 11, [batch: 20160 / 33600], examples_per_second: 3212.3740, train_label_loss: 0.1290, \n"
     ]
    },
    {
     "name": "stdout",
     "output_type": "stream",
     "text": [
      "epoch: 11, [batch: 23520 / 33600], examples_per_second: 3209.6806, train_label_loss: 0.2523, \n"
     ]
    },
    {
     "name": "stdout",
     "output_type": "stream",
     "text": [
      "epoch: 11, [batch: 26880 / 33600], examples_per_second: 3215.4096, train_label_loss: 1.0688, \n"
     ]
    },
    {
     "name": "stdout",
     "output_type": "stream",
     "text": [
      "epoch: 11, [batch: 30240 / 33600], examples_per_second: 3220.7776, train_label_loss: 0.4410, \n"
     ]
    },
    {
     "name": "stdout",
     "output_type": "stream",
     "text": [
      "=============================================================\n",
      "epoch: 11, source_val_acc_label: 0.7200, target_val_acc_label: 0.7232, source_val_label_loss: 0.8169, target_val_label_loss: 0.8053, \n",
      "=============================================================\n"
     ]
    },
    {
     "name": "stdout",
     "output_type": "stream",
     "text": [
      "epoch: 12, [batch: 1 / 33600], examples_per_second: 0.9634, train_label_loss: 0.2606, \n"
     ]
    },
    {
     "name": "stdout",
     "output_type": "stream",
     "text": [
      "epoch: 12, [batch: 3360 / 33600], examples_per_second: 3197.3377, train_label_loss: 0.4820, \n"
     ]
    },
    {
     "name": "stdout",
     "output_type": "stream",
     "text": [
      "epoch: 12, [batch: 6720 / 33600], examples_per_second: 3216.5370, train_label_loss: 0.3430, \n"
     ]
    },
    {
     "name": "stdout",
     "output_type": "stream",
     "text": [
      "epoch: 12, [batch: 10080 / 33600], examples_per_second: 3218.9115, train_label_loss: 0.2141, \n"
     ]
    },
    {
     "name": "stdout",
     "output_type": "stream",
     "text": [
      "epoch: 12, [batch: 13440 / 33600], examples_per_second: 3204.9485, train_label_loss: 0.2690, \n"
     ]
    },
    {
     "name": "stdout",
     "output_type": "stream",
     "text": [
      "epoch: 12, [batch: 16800 / 33600], examples_per_second: 3218.9222, train_label_loss: 0.2341, \n"
     ]
    },
    {
     "name": "stdout",
     "output_type": "stream",
     "text": [
      "epoch: 12, [batch: 20160 / 33600], examples_per_second: 3213.9173, train_label_loss: 0.4191, \n"
     ]
    },
    {
     "name": "stdout",
     "output_type": "stream",
     "text": [
      "epoch: 12, [batch: 23520 / 33600], examples_per_second: 3208.7296, train_label_loss: 0.3765, \n"
     ]
    },
    {
     "name": "stdout",
     "output_type": "stream",
     "text": [
      "epoch: 12, [batch: 26880 / 33600], examples_per_second: 3214.5694, train_label_loss: 0.3683, \n"
     ]
    },
    {
     "name": "stdout",
     "output_type": "stream",
     "text": [
      "epoch: 12, [batch: 30240 / 33600], examples_per_second: 3215.4863, train_label_loss: 0.4660, \n"
     ]
    },
    {
     "name": "stdout",
     "output_type": "stream",
     "text": [
      "=============================================================\n",
      "epoch: 12, source_val_acc_label: 0.7221, target_val_acc_label: 0.7228, source_val_label_loss: 0.8434, target_val_label_loss: 0.8381, \n",
      "=============================================================\n"
     ]
    },
    {
     "name": "stdout",
     "output_type": "stream",
     "text": [
      "Patience (3) exhausted\n"
     ]
    }
   ],
   "source": [
    "###################################\n",
    "# train\n",
    "###################################\n",
    "jig = PTN_Train_Eval_Test_Jig(model, p.BEST_MODEL_PATH, p.device)\n",
    "\n",
    "jig.train(\n",
    "    train_iterable=datasets.source.processed.train,\n",
    "    source_val_iterable=datasets.source.processed.val,\n",
    "    target_val_iterable=datasets.target.processed.val,\n",
    "    num_epochs=p.n_epoch,\n",
    "    num_logs_per_epoch=p.NUM_LOGS_PER_EPOCH,\n",
    "    patience=p.patience,\n",
    "    optimizer=optimizer,\n",
    "    criteria_for_best=p.criteria_for_best,\n",
    ")"
   ]
  },
  {
   "cell_type": "code",
   "execution_count": 23,
   "id": "31e8fabf",
   "metadata": {
    "execution": {
     "iopub.execute_input": "2022-03-29T02:32:34.225291Z",
     "iopub.status.busy": "2022-03-29T02:32:34.225017Z",
     "iopub.status.idle": "2022-03-29T02:32:34.245454Z",
     "shell.execute_reply": "2022-03-29T02:32:34.245872Z"
    },
    "papermill": {
     "duration": 0.074325,
     "end_time": "2022-03-29T02:32:34.246014",
     "exception": false,
     "start_time": "2022-03-29T02:32:34.171689",
     "status": "completed"
    },
    "tags": []
   },
   "outputs": [],
   "source": [
    "total_experiment_time_secs = time.time() - start_time_secs"
   ]
  },
  {
   "cell_type": "code",
   "execution_count": 24,
   "id": "87b9595b",
   "metadata": {
    "execution": {
     "iopub.execute_input": "2022-03-29T02:32:34.336935Z",
     "iopub.status.busy": "2022-03-29T02:32:34.336658Z",
     "iopub.status.idle": "2022-03-29T02:40:45.450463Z",
     "shell.execute_reply": "2022-03-29T02:40:45.450210Z"
    },
    "papermill": {
     "duration": 491.159835,
     "end_time": "2022-03-29T02:40:45.450530",
     "exception": false,
     "start_time": "2022-03-29T02:32:34.290695",
     "status": "completed"
    },
    "tags": []
   },
   "outputs": [],
   "source": [
    "###################################\n",
    "# Evaluate the model\n",
    "###################################\n",
    "source_test_label_accuracy, source_test_label_loss = jig.test(datasets.source.processed.test)\n",
    "target_test_label_accuracy, target_test_label_loss = jig.test(datasets.target.processed.test)\n",
    "\n",
    "source_val_label_accuracy, source_val_label_loss = jig.test(datasets.source.processed.val)\n",
    "target_val_label_accuracy, target_val_label_loss = jig.test(datasets.target.processed.val)\n",
    "\n",
    "history = jig.get_history()\n",
    "\n",
    "total_epochs_trained = len(history[\"epoch_indices\"])\n",
    "\n",
    "val_dl = Iterable_Aggregator((datasets.source.original.val,datasets.target.original.val))\n",
    "\n",
    "confusion = ptn_confusion_by_domain_over_dataloader(model, p.device, val_dl)\n",
    "per_domain_accuracy = per_domain_accuracy_from_confusion(confusion)\n",
    "\n",
    "# Add a key to per_domain_accuracy for if it was a source domain\n",
    "for domain, accuracy in per_domain_accuracy.items():\n",
    "    per_domain_accuracy[domain] = {\n",
    "        \"accuracy\": accuracy,\n",
    "        \"source?\": domain in p.domains_source\n",
    "    }\n",
    "\n",
    "# Do an independent accuracy assesment JUST TO BE SURE!\n",
    "# _source_test_label_accuracy = independent_accuracy_assesment(model, datasets.source.processed.test, p.device)\n",
    "# _target_test_label_accuracy = independent_accuracy_assesment(model, datasets.target.processed.test, p.device)\n",
    "# _source_val_label_accuracy = independent_accuracy_assesment(model, datasets.source.processed.val, p.device)\n",
    "# _target_val_label_accuracy = independent_accuracy_assesment(model, datasets.target.processed.val, p.device)\n",
    "\n",
    "# assert(_source_test_label_accuracy == source_test_label_accuracy)\n",
    "# assert(_target_test_label_accuracy == target_test_label_accuracy)\n",
    "# assert(_source_val_label_accuracy == source_val_label_accuracy)\n",
    "# assert(_target_val_label_accuracy == target_val_label_accuracy)\n",
    "\n",
    "experiment = {\n",
    "    \"experiment_name\": p.experiment_name,\n",
    "    \"parameters\": dict(p),\n",
    "    \"results\": {\n",
    "        \"source_test_label_accuracy\": source_test_label_accuracy,\n",
    "        \"source_test_label_loss\": source_test_label_loss,\n",
    "        \"target_test_label_accuracy\": target_test_label_accuracy,\n",
    "        \"target_test_label_loss\": target_test_label_loss,\n",
    "        \"source_val_label_accuracy\": source_val_label_accuracy,\n",
    "        \"source_val_label_loss\": source_val_label_loss,\n",
    "        \"target_val_label_accuracy\": target_val_label_accuracy,\n",
    "        \"target_val_label_loss\": target_val_label_loss,\n",
    "        \"total_epochs_trained\": total_epochs_trained,\n",
    "        \"total_experiment_time_secs\": total_experiment_time_secs,\n",
    "        \"confusion\": confusion,\n",
    "        \"per_domain_accuracy\": per_domain_accuracy,\n",
    "    },\n",
    "    \"history\": history,\n",
    "    \"dataset_metrics\": get_dataset_metrics(datasets, \"ptn\"),\n",
    "}"
   ]
  },
  {
   "cell_type": "code",
   "execution_count": 25,
   "id": "54a21829",
   "metadata": {
    "execution": {
     "iopub.execute_input": "2022-03-29T02:40:45.533042Z",
     "iopub.status.busy": "2022-03-29T02:40:45.532783Z",
     "iopub.status.idle": "2022-03-29T02:40:45.668588Z",
     "shell.execute_reply": "2022-03-29T02:40:45.668942Z"
    },
    "papermill": {
     "duration": 0.176608,
     "end_time": "2022-03-29T02:40:45.669062",
     "exception": false,
     "start_time": "2022-03-29T02:40:45.492454",
     "status": "completed"
    },
    "tags": []
   },
   "outputs": [
    {
     "data": {
      "image/png": "[encoded data removed]",
      "text/plain": [
       "<Figure size 1080x504 with 1 Axes>"
      ]
     },
     "metadata": {
      "needs_background": "light"
     },
     "output_type": "display_data"
    }
   ],
   "source": [
    "ax = get_loss_curve(experiment)\n",
    "plt.show()"
   ]
  },
  {
   "cell_type": "code",
   "execution_count": 26,
   "id": "fd8a0f60",
   "metadata": {
    "execution": {
     "iopub.execute_input": "2022-03-29T02:40:45.754257Z",
     "iopub.status.busy": "2022-03-29T02:40:45.753895Z",
     "iopub.status.idle": "2022-03-29T02:40:45.902405Z",
     "shell.execute_reply": "2022-03-29T02:40:45.902817Z"
    },
    "papermill": {
     "duration": 0.19003,
     "end_time": "2022-03-29T02:40:45.902946",
     "exception": false,
     "start_time": "2022-03-29T02:40:45.712916",
     "status": "completed"
    },
    "tags": []
   },
   "outputs": [
    {
     "data": {
      "text/plain": [
       "<AxesSubplot:title={'center':'Results'}>"
      ]
     },
     "execution_count": 26,
     "metadata": {},
     "output_type": "execute_result"
    },
    {
     "data": {
      "image/png": "[encoded data removed]",
      "text/plain": [
       "<Figure size 1080x504 with 1 Axes>"
      ]
     },
     "metadata": {
      "needs_background": "light"
     },
     "output_type": "display_data"
    }
   ],
   "source": [
    "get_results_table(experiment)"
   ]
  },
  {
   "cell_type": "code",
   "execution_count": 27,
   "id": "cf8dc689",
   "metadata": {
    "execution": {
     "iopub.execute_input": "2022-03-29T02:40:45.995327Z",
     "iopub.status.busy": "2022-03-29T02:40:45.995078Z",
     "iopub.status.idle": "2022-03-29T02:40:46.164967Z",
     "shell.execute_reply": "2022-03-29T02:40:46.165342Z"
    },
    "papermill": {
     "duration": 0.214131,
     "end_time": "2022-03-29T02:40:46.165462",
     "exception": false,
     "start_time": "2022-03-29T02:40:45.951331",
     "status": "completed"
    },
    "tags": []
   },
   "outputs": [
    {
     "data": {
      "text/plain": [
       "<AxesSubplot:title={'center':'Per Domain Validation Accuracy'}, xlabel='domain'>"
      ]
     },
     "execution_count": 27,
     "metadata": {},
     "output_type": "execute_result"
    },
    {
     "data": {
      "image/png": "[encoded data removed]",
      "text/plain": [
       "<Figure size 1080x504 with 1 Axes>"
      ]
     },
     "metadata": {
      "needs_background": "light"
     },
     "output_type": "display_data"
    }
   ],
   "source": [
    "get_domain_accuracies(experiment)"
   ]
  },
  {
   "cell_type": "code",
   "execution_count": 28,
   "id": "a74ae082",
   "metadata": {
    "execution": {
     "iopub.execute_input": "2022-03-29T02:40:46.258477Z",
     "iopub.status.busy": "2022-03-29T02:40:46.258225Z",
     "iopub.status.idle": "2022-03-29T02:40:46.273782Z",
     "shell.execute_reply": "2022-03-29T02:40:46.274165Z"
    },
    "papermill": {
     "duration": 0.061525,
     "end_time": "2022-03-29T02:40:46.274275",
     "exception": false,
     "start_time": "2022-03-29T02:40:46.212750",
     "status": "completed"
    },
    "tags": []
   },
   "outputs": [
    {
     "name": "stdout",
     "output_type": "stream",
     "text": [
      "Source Test Label Accuracy: 0.7290885416666667 Target Test Label Accuracy: 0.7325520833333333\n",
      "Source Val Label Accuracy: 0.7301041666666667 Target Val Label Accuracy: 0.7331770833333333\n"
     ]
    }
   ],
   "source": [
    "print(\"Source Test Label Accuracy:\", experiment[\"results\"][\"source_test_label_accuracy\"], \"Target Test Label Accuracy:\", experiment[\"results\"][\"target_test_label_accuracy\"])\n",
    "print(\"Source Val Label Accuracy:\", experiment[\"results\"][\"source_val_label_accuracy\"], \"Target Val Label Accuracy:\", experiment[\"results\"][\"target_val_label_accuracy\"])"
   ]
  },
  {
   "cell_type": "code",
   "execution_count": 29,
   "id": "dacca602",
   "metadata": {
    "execution": {
     "iopub.execute_input": "2022-03-29T02:40:46.365859Z",
     "iopub.status.busy": "2022-03-29T02:40:46.365609Z",
     "iopub.status.idle": "2022-03-29T02:40:46.381714Z",
     "shell.execute_reply": "2022-03-29T02:40:46.382015Z"
    },
    "papermill": {
     "duration": 0.06127,
     "end_time": "2022-03-29T02:40:46.382137",
     "exception": false,
     "start_time": "2022-03-29T02:40:46.320867",
     "status": "completed"
    },
    "tags": [
     "experiment_json"
    ]
   },
   "outputs": [
    {
     "data": {
      "text/plain": [
       "'{\"experiment_name\": \"tl_1v2:oracle.run1-oracle.run2\", \"parameters\": {\"experiment_name\": \"tl_1v2:oracle.run1-oracle.run2\", \"device\": \"cuda\", \"lr\": 0.0001, \"n_shot\": 3, \"n_query\": 2, \"train_k_factor\": 3, \"val_k_factor\": 2, \"test_k_factor\": 2, \"torch_default_dtype\": \"torch.float32\", \"n_epoch\": 50, \"patience\": 3, \"criteria_for_best\": \"target_accuracy\", \"x_net\": [{\"class\": \"nnReshape\", \"kargs\": {\"shape\": [-1, 1, 2, 256]}}, {\"class\": \"Conv2d\", \"kargs\": {\"in_channels\": 1, \"out_channels\": 256, \"kernel_size\": [1, 7], \"bias\": false, \"padding\": [0, 3]}}, {\"class\": \"ReLU\", \"kargs\": {\"inplace\": true}}, {\"class\": \"BatchNorm2d\", \"kargs\": {\"num_features\": 256}}, {\"class\": \"Conv2d\", \"kargs\": {\"in_channels\": 256, \"out_channels\": 80, \"kernel_size\": [2, 7], \"bias\": true, \"padding\": [0, 3]}}, {\"class\": \"ReLU\", \"kargs\": {\"inplace\": true}}, {\"class\": \"BatchNorm2d\", \"kargs\": {\"num_features\": 80}}, {\"class\": \"Flatten\", \"kargs\": {}}, {\"class\": \"Linear\", \"kargs\": {\"in_features\": 20480, \"out_features\": 256}}, {\"class\": \"ReLU\", \"kargs\": {\"inplace\": true}}, {\"class\": \"BatchNorm1d\", \"kargs\": {\"num_features\": 256}}, {\"class\": \"Linear\", \"kargs\": {\"in_features\": 256, \"out_features\": 256}}], \"NUM_LOGS_PER_EPOCH\": 10, \"BEST_MODEL_PATH\": \"./best_model.pth\", \"n_way\": 16, \"datasets\": [{\"labels\": [\"3123D52\", \"3123D65\", \"3123D79\", \"3123D80\", \"3123D54\", \"3123D70\", \"3123D7B\", \"3123D89\", \"3123D58\", \"3123D76\", \"3123D7D\", \"3123EFE\", \"3123D64\", \"3123D78\", \"3123D7E\", \"3124E4A\"], \"domains\": [32, 38, 8, 44, 14, 50, 20, 26], \"num_examples_per_domain_per_label\": 10000, \"pickle_path\": \"/mnt/wd500GB/CSC500/csc500-main/datasets/oracle.Run1_10kExamples_stratified_ds.2022A.pkl\", \"source_or_target_dataset\": \"target\", \"x_transforms\": [\"unit_power\"], \"episode_transforms\": [], \"domain_prefix\": \"ORACLE.run1_\"}, {\"labels\": [\"3123D52\", \"3123D65\", \"3123D79\", \"3123D80\", \"3123D54\", \"3123D70\", \"3123D7B\", \"3123D89\", \"3123D58\", \"3123D76\", \"3123D7D\", \"3123EFE\", \"3123D64\", \"3123D78\", \"3123D7E\", \"3124E4A\"], \"domains\": [32, 38, 8, 44, 14, 50, 20, 26], \"num_examples_per_domain_per_label\": 10000, \"pickle_path\": \"/mnt/wd500GB/CSC500/csc500-main/datasets/oracle.Run2_10kExamples_stratified_ds.2022A.pkl\", \"source_or_target_dataset\": \"source\", \"x_transforms\": [\"unit_power\"], \"episode_transforms\": [], \"domain_prefix\": \"ORACLE.run2_\"}], \"dataset_seed\": 7, \"seed\": 7, \"x_shape\": [2, 256], \"domains_source\": [\"ORACLE.run2_32\", \"ORACLE.run2_38\", \"ORACLE.run2_8\", \"ORACLE.run2_44\", \"ORACLE.run2_14\", \"ORACLE.run2_50\", \"ORACLE.run2_20\", \"ORACLE.run2_26\"], \"domains_target\": [\"ORACLE.run1_32\", \"ORACLE.run1_38\", \"ORACLE.run1_8\", \"ORACLE.run1_44\", \"ORACLE.run1_14\", \"ORACLE.run1_50\", \"ORACLE.run1_20\", \"ORACLE.run1_26\"]}, \"results\": {\"source_test_label_accuracy\": 0.7290885416666667, \"source_test_label_loss\": 0.7846463322639465, \"target_test_label_accuracy\": 0.7325520833333333, \"target_test_label_loss\": 0.7645303606987, \"source_val_label_accuracy\": 0.7301041666666667, \"source_val_label_loss\": 0.7826545238494873, \"target_val_label_accuracy\": 0.7331770833333333, \"target_val_label_loss\": 0.7617760896682739, \"total_epochs_trained\": 12, \"total_experiment_time_secs\": 11230.40783405304, \"confusion\": {\"ORACLE.run2_26\": {\"0\": {\"14\": 193, \"4\": 141, \"0\": 458, \"10\": 203, \"1\": 78, \"7\": 14, \"8\": 91, \"9\": 5, \"15\": 7, \"2\": 7, \"3\": 3}, \"4\": {\"4\": 735, \"0\": 111, \"14\": 64, \"8\": 54, \"15\": 37, \"2\": 68, \"10\": 18, \"7\": 48, \"3\": 53, \"1\": 12}, \"14\": {\"10\": 139, \"1\": 292, \"0\": 190, \"14\": 437, \"8\": 74, \"4\": 54, \"7\": 8, \"2\": 5, \"5\": 1}, \"12\": {\"12\": 1199, \"11\": 1}, \"8\": {\"9\": 92, \"8\": 544, \"7\": 121, \"2\": 88, \"0\": 74, \"6\": 19, \"10\": 86, \"4\": 47, \"5\": 40, \"14\": 67, \"1\": 10, \"13\": 4, \"15\": 7, \"3\": 1}, \"7\": {\"7\": 415, \"2\": 376, \"8\": 115, \"4\": 72, \"3\": 82, \"15\": 60, \"9\": 22, \"5\": 40, \"0\": 6, \"13\": 5, \"14\": 4, \"1\": 2, \"10\": 1}, \"13\": {\"13\": 891, \"9\": 103, \"6\": 41, \"5\": 161, \"7\": 3, \"8\": 1}, \"5\": {\"13\": 271, \"7\": 101, \"5\": 534, \"6\": 83, \"9\": 61, \"3\": 9, \"2\": 78, \"8\": 45, \"15\": 8, \"10\": 7, \"1\": 1, \"14\": 1, \"0\": 1}, \"15\": {\"15\": 742, \"2\": 105, \"3\": 199, \"4\": 49, \"8\": 11, \"7\": 82, \"9\": 7, \"0\": 2, \"5\": 3}, \"10\": {\"0\": 214, \"14\": 167, \"10\": 449, \"1\": 75, \"8\": 105, \"4\": 76, \"6\": 75, \"2\": 7, \"12\": 4, \"15\": 4, \"7\": 11, \"9\": 7, \"5\": 3, \"3\": 3}, \"3\": {\"2\": 111, \"3\": 720, \"7\": 82, \"4\": 67, \"15\": 219, \"5\": 1}, \"9\": {\"15\": 4, \"9\": 736, \"13\": 108, \"5\": 56, \"6\": 157, \"0\": 2, \"2\": 23, \"8\": 77, \"7\": 26, \"10\": 10, \"3\": 1}, \"6\": {\"13\": 55, \"8\": 20, \"6\": 944, \"9\": 125, \"10\": 36, \"5\": 17, \"0\": 3}, \"1\": {\"1\": 761, \"14\": 305, \"4\": 13, \"0\": 69, \"10\": 40, \"2\": 2, \"8\": 10}, \"11\": {\"11\": 1200}, \"2\": {\"3\": 126, \"2\": 355, \"7\": 369, \"8\": 96, \"0\": 8, \"4\": 82, \"5\": 37, \"15\": 89, \"14\": 10, \"10\": 2, \"9\": 22, \"13\": 4}}, \"ORACLE.run2_44\": {\"1\": {\"1\": 767, \"12\": 281, \"3\": 142, \"7\": 7, \"2\": 2, \"10\": 1}, \"11\": {\"11\": 1176, \"6\": 21, \"7\": 2, \"9\": 1}, \"3\": {\"3\": 1039, \"12\": 51, \"1\": 110}, \"6\": {\"6\": 1106, \"13\": 17, \"9\": 50, \"7\": 22, \"2\": 2, \"11\": 3}, \"7\": {\"9\": 305, \"7\": 665, \"6\": 16, \"2\": 206, \"1\": 8}, \"5\": {\"5\": 1091, \"14\": 96, \"8\": 11, \"15\": 1, \"0\": 1}, \"2\": {\"2\": 725, \"7\": 209, \"9\": 265, \"3\": 1}, \"15\": {\"15\": 1016, \"4\": 44, \"14\": 127, \"8\": 11, \"5\": 1, \"0\": 1}, \"10\": {\"10\": 1158, \"1\": 18, \"12\": 24}, \"13\": {\"13\": 1135, \"4\": 38, \"6\": 26, \"14\": 1}, \"8\": {\"8\": 704, \"0\": 472, \"5\": 15, \"15\": 7, \"14\": 2}, \"4\": {\"4\": 1072, \"15\": 39, \"14\": 73, \"13\": 16}, \"9\": {\"7\": 271, \"2\": 342, \"9\": 545, \"6\": 39, \"1\": 2, \"13\": 1}, \"14\": {\"14\": 903, \"5\": 101, \"4\": 65, \"15\": 129, \"8\": 2}, \"0\": {\"0\": 686, \"8\": 511, \"5\": 3}, \"12\": {\"12\": 867, \"1\": 266, \"3\": 63, \"10\": 4}}, \"ORACLE.run2_50\": {\"15\": {\"15\": 1078, \"1\": 83, \"11\": 30, \"6\": 9}, \"4\": {\"4\": 649, \"5\": 350, \"6\": 116, \"1\": 66, \"7\": 10, \"13\": 3, \"10\": 6}, \"6\": {\"6\": 798, \"1\": 181, \"4\": 136, \"5\": 68, \"2\": 1, \"15\": 10, \"0\": 2, \"10\": 3, \"13\": 1}, \"2\": {\"2\": 1143, \"0\": 57}, \"5\": {\"5\": 628, \"4\": 324, \"13\": 51, \"7\": 89, \"6\": 52, \"10\": 46, \"0\": 5, \"1\": 5}, \"9\": {\"9\": 1138, \"12\": 43, \"11\": 19}, \"8\": {\"8\": 1169, \"3\": 30, \"10\": 1}, \"12\": {\"12\": 1119, \"14\": 31, \"9\": 39, \"11\": 11}, \"10\": {\"10\": 894, \"13\": 214, \"7\": 43, \"5\": 34, \"0\": 14, \"4\": 1}, \"1\": {\"6\": 153, \"1\": 966, \"4\": 49, \"15\": 28, \"2\": 1, \"5\": 3}, \"0\": {\"0\": 1105, \"10\": 25, \"2\": 63, \"6\": 2, \"5\": 3, \"1\": 1, \"4\": 1}, \"3\": {\"3\": 1147, \"8\": 53}, \"13\": {\"7\": 239, \"13\": 758, \"5\": 41, \"10\": 161, \"4\": 1}, \"11\": {\"11\": 1102, \"12\": 18, \"15\": 55, \"9\": 10, \"14\": 14, \"1\": 1}, \"7\": {\"7\": 684, \"10\": 70, \"13\": 342, \"5\": 91, \"0\": 1, \"4\": 8, \"6\": 4}, \"14\": {\"14\": 1186, \"12\": 10, \"11\": 4}}, \"ORACLE.run2_38\": {\"15\": {\"1\": 118, \"7\": 6, \"15\": 661, \"5\": 171, \"8\": 221, \"3\": 3, \"6\": 8, \"13\": 5, \"0\": 7}, \"11\": {\"11\": 1129, \"14\": 51, \"12\": 10, \"4\": 4, \"2\": 5, \"10\": 1}, \"10\": {\"10\": 704, \"7\": 370, \"5\": 19, \"0\": 18, \"8\": 39, \"3\": 33, \"13\": 16, \"4\": 1}, \"14\": {\"14\": 760, \"12\": 66, \"2\": 316, \"11\": 15, \"7\": 13, \"10\": 2, \"5\": 16, \"8\": 5, \"4\": 2, \"15\": 1, \"13\": 4}, \"6\": {\"6\": 980, \"9\": 214, \"1\": 2, \"15\": 3, \"13\": 1}, \"4\": {\"4\": 1153, \"12\": 44, \"10\": 3}, \"13\": {\"8\": 129, \"13\": 696, \"3\": 177, \"1\": 31, \"5\": 44, \"15\": 27, \"7\": 34, \"0\": 11, \"10\": 36, \"14\": 5, \"2\": 4, \"9\": 3, \"6\": 3}, \"3\": {\"3\": 577, \"13\": 175, \"8\": 51, \"0\": 230, \"9\": 43, \"10\": 51, \"1\": 3, \"7\": 32, \"5\": 13, \"15\": 14, \"6\": 11}, \"7\": {\"7\": 634, \"5\": 124, \"10\": 311, \"8\": 95, \"0\": 4, \"13\": 14, \"3\": 10, \"15\": 7, \"4\": 1}, \"8\": {\"15\": 168, \"5\": 384, \"8\": 506, \"7\": 68, \"3\": 7, \"13\": 50, \"1\": 6, \"10\": 11}, \"1\": {\"1\": 1136, \"8\": 5, \"15\": 54, \"5\": 5}, \"5\": {\"5\": 532, \"8\": 367, \"15\": 155, \"7\": 109, \"10\": 9, \"13\": 17, \"3\": 6, \"0\": 2, \"1\": 2, \"14\": 1}, \"0\": {\"0\": 1019, \"10\": 23, \"8\": 9, \"3\": 127, \"7\": 12, \"15\": 2, \"9\": 3, \"5\": 4, \"6\": 1}, \"2\": {\"14\": 126, \"2\": 1074}, \"12\": {\"12\": 1175, \"14\": 16, \"4\": 9}, \"9\": {\"9\": 921, \"3\": 17, \"6\": 254, \"0\": 8}}, \"ORACLE.run2_20\": {\"10\": {\"10\": 1028, \"4\": 14, \"14\": 91, \"6\": 14, \"8\": 33, \"7\": 15, \"3\": 5}, \"7\": {\"7\": 917, \"8\": 103, \"3\": 121, \"9\": 4, \"5\": 31, \"2\": 10, \"14\": 3, \"10\": 7, \"6\": 4}, \"4\": {\"4\": 1057, \"10\": 5, \"12\": 33, \"3\": 27, \"0\": 19, \"5\": 25, \"8\": 24, \"14\": 2, \"1\": 4, \"9\": 3, \"2\": 1}, \"13\": {\"13\": 933, \"15\": 214, \"1\": 14, \"2\": 18, \"5\": 8, \"9\": 7, \"12\": 2, \"0\": 4}, \"1\": {\"1\": 682, \"9\": 40, \"0\": 69, \"5\": 19, \"15\": 112, \"12\": 253, \"2\": 12, \"13\": 8, \"4\": 4, \"3\": 1}, \"0\": {\"15\": 67, \"0\": 849, \"1\": 96, \"5\": 77, \"9\": 1, \"13\": 10, \"4\": 27, \"12\": 67, \"3\": 4, \"2\": 2}, \"12\": {\"12\": 472, \"1\": 257, \"2\": 70, \"15\": 71, \"5\": 76, \"3\": 28, \"9\": 120, \"0\": 66, \"4\": 37, \"13\": 2, \"7\": 1}, \"5\": {\"3\": 155, \"5\": 467, \"12\": 96, \"0\": 105, \"13\": 16, \"1\": 32, \"9\": 39, \"2\": 151, \"7\": 33, \"15\": 68, \"4\": 32, \"8\": 6}, \"6\": {\"6\": 1101, \"10\": 12, \"14\": 64, \"8\": 13, \"7\": 10}, \"2\": {\"12\": 69, \"2\": 434, \"15\": 95, \"9\": 260, \"3\": 169, \"5\": 140, \"0\": 3, \"13\": 15, \"7\": 7, \"1\": 7, \"4\": 1}, \"8\": {\"8\": 783, \"7\": 146, \"5\": 8, \"14\": 142, \"6\": 28, \"4\": 50, \"10\": 30, \"3\": 13}, \"11\": {\"11\": 1198, \"13\": 1, \"7\": 1}, \"9\": {\"2\": 288, \"9\": 477, \"1\": 37, \"15\": 60, \"5\": 59, \"3\": 122, \"12\": 132, \"4\": 8, \"0\": 6, \"13\": 9, \"7\": 2}, \"14\": {\"14\": 890, \"10\": 74, \"6\": 107, \"8\": 122, \"4\": 3, \"7\": 4}, \"15\": {\"3\": 7, \"2\": 103, \"15\": 508, \"12\": 80, \"13\": 243, \"1\": 107, \"5\": 63, \"0\": 48, \"9\": 41}, \"3\": {\"5\": 152, \"7\": 150, \"3\": 500, \"2\": 173, \"9\": 128, \"4\": 23, \"10\": 7, \"12\": 51, \"15\": 4, \"8\": 10, \"0\": 1, \"13\": 1}}, \"ORACLE.run2_14\": {\"14\": {\"14\": 933, \"3\": 34, \"2\": 122, \"5\": 13, \"6\": 83, \"0\": 6, \"4\": 4, \"13\": 5}, \"0\": {\"0\": 1196, \"10\": 3, \"12\": 1}, \"4\": {\"4\": 816, \"5\": 255, \"1\": 31, \"3\": 50, \"2\": 48}, \"11\": {\"11\": 1183, \"12\": 15, \"9\": 2}, \"13\": {\"13\": 857, \"6\": 314, \"2\": 25, \"14\": 3, \"4\": 1}, \"9\": {\"9\": 1200}, \"3\": {\"3\": 1025, \"14\": 15, \"4\": 61, \"5\": 68, \"2\": 22, \"0\": 4, \"1\": 5}, \"6\": {\"6\": 863, \"14\": 46, \"13\": 261, \"2\": 30}, \"1\": {\"1\": 1084, \"5\": 77, \"4\": 32, \"2\": 3, \"3\": 4}, \"5\": {\"5\": 656, \"4\": 282, \"1\": 125, \"2\": 64, \"3\": 72, \"14\": 1}, \"12\": {\"12\": 685, \"9\": 112, \"11\": 298, \"0\": 64, \"8\": 26, \"3\": 1, \"10\": 13, \"14\": 1}, \"10\": {\"10\": 1152, \"0\": 46, \"11\": 2}, \"8\": {\"8\": 1200}, \"7\": {\"7\": 1193, \"15\": 6, \"1\": 1}, \"15\": {\"15\": 1189, \"7\": 11}, \"2\": {\"3\": 89, \"2\": 534, \"6\": 38, \"5\": 166, \"4\": 64, \"1\": 8, \"13\": 85, \"14\": 212, \"15\": 3, \"0\": 1}}, \"ORACLE.run2_32\": {\"11\": {\"0\": 148, \"13\": 66, \"7\": 205, \"11\": 697, \"4\": 44, \"5\": 15, \"3\": 1, \"8\": 5, \"2\": 14, \"14\": 5}, \"1\": {\"1\": 1191, \"10\": 9}, \"2\": {\"2\": 1016, \"11\": 16, \"5\": 62, \"0\": 6, \"14\": 61, \"7\": 15, \"4\": 24}, \"0\": {\"0\": 679, \"13\": 30, \"2\": 15, \"7\": 9, \"5\": 142, \"11\": 139, \"14\": 18, \"8\": 57, \"4\": 111}, \"3\": {\"3\": 1154, \"13\": 33, \"8\": 13}, \"8\": {\"8\": 982, \"5\": 51, \"0\": 71, \"13\": 43, \"4\": 32, \"3\": 11, \"11\": 8, \"15\": 2}, \"12\": {\"12\": 1200}, \"5\": {\"5\": 550, \"8\": 105, \"4\": 141, \"13\": 40, \"0\": 145, \"2\": 115, \"7\": 12, \"14\": 76, \"11\": 13, \"3\": 3}, \"15\": {\"15\": 1192, \"8\": 8}, \"7\": {\"13\": 116, \"11\": 190, \"7\": 763, \"0\": 23, \"4\": 84, \"2\": 15, \"5\": 7, \"3\": 2}, \"4\": {\"4\": 601, \"13\": 224, \"5\": 114, \"7\": 88, \"11\": 48, \"0\": 80, \"8\": 27, \"2\": 18}, \"14\": {\"2\": 74, \"5\": 31, \"14\": 1050, \"0\": 34, \"7\": 1, \"11\": 9, \"4\": 1}, \"10\": {\"10\": 1196, \"1\": 4}, \"6\": {\"6\": 1200}, \"13\": {\"13\": 685, \"4\": 262, \"8\": 48, \"0\": 30, \"7\": 87, \"5\": 13, \"11\": 56, \"3\": 19}, \"9\": {\"9\": 1171, \"14\": 28, \"2\": 1}}, \"ORACLE.run2_8\": {\"9\": {\"9\": 1200}, \"11\": {\"15\": 175, \"11\": 649, \"8\": 268, \"12\": 108}, \"8\": {\"15\": 78, \"11\": 107, \"8\": 1004, \"7\": 3, \"13\": 5, \"6\": 2, \"4\": 1}, \"4\": {\"2\": 71, \"6\": 370, \"4\": 476, \"7\": 267, \"14\": 15, \"0\": 1}, \"13\": {\"14\": 106, \"13\": 941, \"1\": 77, \"10\": 51, \"4\": 2, \"5\": 13, \"6\": 7, \"0\": 3}, \"14\": {\"13\": 122, \"6\": 67, \"14\": 770, \"0\": 194, \"4\": 9, \"10\": 37, \"7\": 1}, \"2\": {\"2\": 958, \"4\": 109, \"7\": 124, \"6\": 9}, \"3\": {\"3\": 1102, \"12\": 91, \"15\": 7}, \"1\": {\"1\": 1116, \"13\": 59, \"5\": 20, \"10\": 4, \"14\": 1}, \"0\": {\"0\": 847, \"14\": 188, \"10\": 157, \"6\": 4, \"4\": 3, \"13\": 1}, \"5\": {\"5\": 983, \"13\": 6, \"10\": 182, \"1\": 24, \"0\": 5}, \"15\": {\"15\": 764, \"8\": 141, \"11\": 130, \"12\": 155, \"3\": 5, \"7\": 3, \"6\": 2}, \"10\": {\"5\": 160, \"10\": 768, \"13\": 39, \"14\": 59, \"0\": 171, \"1\": 3}, \"12\": {\"3\": 70, \"12\": 1017, \"15\": 91, \"11\": 22}, \"6\": {\"6\": 588, \"4\": 323, \"7\": 211, \"14\": 62, \"2\": 7, \"13\": 6, \"0\": 3}, \"7\": {\"7\": 576, \"6\": 228, \"4\": 288, \"2\": 102, \"8\": 3, \"14\": 3}}, \"ORACLE.run1_26\": {\"0\": {\"4\": 180, \"0\": 360, \"6\": 25, \"14\": 224, \"10\": 254, \"8\": 104, \"7\": 18, \"1\": 29, \"15\": 4, \"9\": 2}, \"4\": {\"4\": 455, \"7\": 81, \"1\": 139, \"8\": 97, \"14\": 220, \"0\": 152, \"10\": 50, \"3\": 4, \"9\": 1, \"2\": 1}, \"14\": {\"4\": 215, \"1\": 230, \"0\": 202, \"10\": 93, \"14\": 403, \"8\": 41, \"7\": 14, \"2\": 1, \"15\": 1}, \"12\": {\"12\": 1199, \"11\": 1}, \"8\": {\"7\": 98, \"0\": 109, \"2\": 18, \"8\": 470, \"4\": 86, \"9\": 100, \"10\": 158, \"3\": 4, \"15\": 73, \"6\": 40, \"14\": 21, \"5\": 19, \"1\": 3, \"13\": 1}, \"7\": {\"15\": 9, \"3\": 190, \"7\": 669, \"14\": 11, \"2\": 117, \"4\": 92, \"8\": 81, \"0\": 18, \"10\": 6, \"9\": 4, \"5\": 1, \"1\": 2}, \"13\": {\"13\": 865, \"15\": 68, \"5\": 213, \"6\": 9, \"2\": 17, \"9\": 26, \"8\": 1, \"3\": 1}, \"5\": {\"5\": 779, \"13\": 151, \"9\": 47, \"15\": 141, \"8\": 27, \"2\": 47, \"6\": 3, \"7\": 2, \"3\": 3}, \"15\": {\"9\": 358, \"15\": 451, \"5\": 124, \"13\": 61, \"2\": 36, \"8\": 89, \"10\": 11, \"6\": 49, \"7\": 16, \"0\": 4, \"3\": 1}, \"10\": {\"0\": 240, \"10\": 510, \"8\": 172, \"14\": 92, \"4\": 59, \"6\": 66, \"5\": 2, \"9\": 20, \"7\": 4, \"1\": 30, \"13\": 1, \"15\": 4}, \"3\": {\"3\": 741, \"7\": 185, \"2\": 267, \"0\": 1, \"4\": 5, \"15\": 1}, \"9\": {\"15\": 343, \"9\": 508, \"8\": 93, \"5\": 53, \"6\": 144, \"0\": 11, \"7\": 4, \"13\": 28, \"2\": 7, \"10\": 9}, \"6\": {\"9\": 147, \"6\": 869, \"8\": 38, \"10\": 87, \"15\": 35, \"0\": 12, \"5\": 7, \"13\": 4, \"14\": 1}, \"1\": {\"10\": 40, \"1\": 749, \"14\": 225, \"8\": 10, \"0\": 28, \"4\": 141, \"7\": 7}, \"11\": {\"11\": 1197, \"12\": 3}, \"2\": {\"3\": 374, \"7\": 115, \"5\": 108, \"2\": 461, \"15\": 73, \"8\": 46, \"9\": 10, \"10\": 2, \"13\": 6, \"4\": 3, \"0\": 2}}, \"ORACLE.run1_44\": {\"1\": {\"2\": 44, \"1\": 755, \"3\": 128, \"10\": 91, \"12\": 181, \"7\": 1}, \"11\": {\"11\": 1095, \"13\": 89, \"6\": 14, \"9\": 2}, \"3\": {\"3\": 1084, \"1\": 104, \"12\": 6, \"2\": 5, \"7\": 1}, \"6\": {\"6\": 843, \"13\": 203, \"9\": 98, \"2\": 3, \"7\": 37, \"11\": 16}, \"7\": {\"7\": 763, \"2\": 147, \"9\": 246, \"6\": 32, \"3\": 7, \"13\": 4, \"10\": 1}, \"5\": {\"8\": 13, \"5\": 1032, \"0\": 101, \"15\": 28, \"14\": 26}, \"2\": {\"2\": 927, \"10\": 70, \"1\": 52, \"7\": 141, \"9\": 5, \"3\": 5}, \"15\": {\"0\": 70, \"15\": 1015, \"14\": 71, \"5\": 20, \"4\": 3, \"8\": 21}, \"10\": {\"10\": 850, \"12\": 104, \"2\": 100, \"1\": 145, \"7\": 1}, \"13\": {\"13\": 833, \"11\": 39, \"6\": 175, \"9\": 141, \"7\": 6, \"4\": 6}, \"8\": {\"8\": 716, \"0\": 437, \"5\": 19, \"15\": 28}, \"4\": {\"14\": 326, \"4\": 867, \"15\": 7}, \"9\": {\"13\": 149, \"9\": 678, \"7\": 260, \"6\": 97, \"2\": 15, \"3\": 1}, \"14\": {\"14\": 777, \"4\": 321, \"15\": 74, \"5\": 28}, \"0\": {\"8\": 332, \"5\": 58, \"0\": 769, \"15\": 41}, \"12\": {\"12\": 992, \"1\": 160, \"10\": 36, \"3\": 10, \"2\": 2}}, \"ORACLE.run1_50\": {\"15\": {\"1\": 185, \"6\": 20, \"15\": 898, \"4\": 73, \"11\": 24}, \"4\": {\"6\": 126, \"5\": 142, \"4\": 559, \"15\": 149, \"13\": 28, \"1\": 169, \"7\": 26, \"11\": 1}, \"6\": {\"1\": 85, \"5\": 37, \"6\": 898, \"13\": 58, \"4\": 84, \"15\": 33, \"7\": 3, \"0\": 2}, \"2\": {\"2\": 1132, \"0\": 68}, \"5\": {\"7\": 261, \"13\": 204, \"5\": 444, \"6\": 102, \"4\": 140, \"10\": 8, \"1\": 37, \"0\": 2, \"15\": 2}, \"9\": {\"11\": 174, \"9\": 932, \"12\": 92, \"14\": 2}, \"8\": {\"8\": 1178, \"10\": 16, \"3\": 6}, \"12\": {\"12\": 1089, \"9\": 66, \"14\": 37, \"11\": 8}, \"10\": {\"10\": 1130, \"13\": 14, \"0\": 25, \"8\": 17, \"7\": 14}, \"1\": {\"1\": 797, \"4\": 80, \"6\": 108, \"15\": 203, \"13\": 1, \"14\": 3, \"5\": 4, \"11\": 1, \"2\": 3}, \"0\": {\"0\": 1084, \"2\": 87, \"10\": 25, \"13\": 3, \"5\": 1}, \"3\": {\"3\": 1179, \"8\": 21}, \"13\": {\"13\": 834, \"5\": 132, \"7\": 162, \"6\": 57, \"10\": 10, \"4\": 3, \"0\": 2}, \"11\": {\"11\": 1044, \"9\": 114, \"15\": 27, \"4\": 3, \"14\": 5, \"12\": 6, \"1\": 1}, \"7\": {\"7\": 808, \"13\": 195, \"5\": 159, \"10\": 23, \"6\": 7, \"4\": 8}, \"14\": {\"14\": 1181, \"12\": 14, \"11\": 4, \"9\": 1}}, \"ORACLE.run1_38\": {\"15\": {\"15\": 921, \"1\": 84, \"13\": 136, \"2\": 6, \"5\": 15, \"10\": 2, \"8\": 35, \"0\": 1}, \"11\": {\"11\": 1068, \"2\": 5, \"14\": 113, \"10\": 11, \"13\": 1, \"12\": 2}, \"10\": {\"11\": 10, \"10\": 959, \"13\": 126, \"14\": 13, \"8\": 30, \"12\": 12, \"2\": 7, \"0\": 16, \"15\": 8, \"7\": 12, \"4\": 3, \"5\": 4}, \"14\": {\"14\": 1079, \"2\": 84, \"11\": 28, \"12\": 2, \"10\": 7}, \"6\": {\"6\": 1056, \"5\": 12, \"9\": 129, \"8\": 1, \"0\": 1, \"1\": 1}, \"4\": {\"4\": 1150, \"12\": 50}, \"13\": {\"15\": 150, \"13\": 927, \"10\": 75, \"1\": 7, \"2\": 22, \"5\": 4, \"8\": 15}, \"3\": {\"3\": 1142, \"5\": 2, \"0\": 16, \"9\": 30, \"7\": 10}, \"7\": {\"7\": 994, \"0\": 131, \"5\": 40, \"8\": 33, \"3\": 1, \"10\": 1}, \"8\": {\"8\": 736, \"7\": 42, \"0\": 101, \"5\": 275, \"15\": 29, \"10\": 9, \"13\": 8}, \"1\": {\"1\": 1153, \"15\": 45, \"5\": 2}, \"5\": {\"5\": 508, \"7\": 97, \"6\": 38, \"8\": 347, \"3\": 4, \"0\": 93, \"13\": 16, \"15\": 47, \"9\": 32, \"1\": 11, \"10\": 7}, \"0\": {\"5\": 112, \"10\": 22, \"7\": 190, \"8\": 216, \"0\": 578, \"3\": 72, \"6\": 2, \"13\": 3, \"9\": 5}, \"2\": {\"2\": 1131, \"13\": 15, \"14\": 51, \"15\": 2, \"10\": 1}, \"12\": {\"12\": 1153, \"4\": 39, \"10\": 5, \"0\": 2, \"14\": 1}, \"9\": {\"9\": 900, \"6\": 257, \"5\": 23, \"3\": 18, \"0\": 2}}, \"ORACLE.run1_20\": {\"10\": {\"10\": 1076, \"14\": 81, \"4\": 24, \"6\": 3, \"8\": 15, \"3\": 1}, \"7\": {\"7\": 936, \"2\": 130, \"9\": 37, \"3\": 38, \"6\": 5, \"8\": 41, \"13\": 4, \"12\": 3, \"4\": 1, \"10\": 3, \"0\": 1, \"14\": 1}, \"4\": {\"8\": 105, \"9\": 2, \"12\": 4, \"4\": 1014, \"3\": 51, \"5\": 4, \"10\": 18, \"0\": 1, \"14\": 1}, \"13\": {\"13\": 1106, \"15\": 14, \"2\": 63, \"9\": 10, \"5\": 1, \"12\": 3, \"7\": 2, \"3\": 1}, \"1\": {\"5\": 194, \"2\": 6, \"1\": 589, \"12\": 169, \"0\": 33, \"15\": 176, \"9\": 13, \"3\": 19, \"13\": 1}, \"0\": {\"5\": 299, \"0\": 680, \"7\": 9, \"2\": 5, \"15\": 126, \"3\": 16, \"4\": 2, \"8\": 2, \"12\": 29, \"1\": 25, \"13\": 6, \"9\": 1}, \"12\": {\"12\": 477, \"3\": 213, \"1\": 160, \"5\": 154, \"15\": 18, \"0\": 12, \"9\": 121, \"2\": 37, \"13\": 3, \"4\": 4, \"7\": 1}, \"5\": {\"1\": 191, \"0\": 208, \"5\": 522, \"12\": 142, \"15\": 92, \"3\": 38, \"9\": 3, \"13\": 1, \"4\": 3}, \"6\": {\"6\": 1053, \"14\": 133, \"7\": 4, \"8\": 9, \"10\": 1}, \"2\": {\"2\": 617, \"9\": 288, \"7\": 119, \"15\": 3, \"12\": 40, \"13\": 53, \"3\": 67, \"1\": 9, \"5\": 4}, \"8\": {\"7\": 67, \"8\": 975, \"4\": 98, \"6\": 7, \"14\": 31, \"3\": 8, \"10\": 12, \"0\": 1, \"9\": 1}, \"11\": {\"11\": 1199, \"13\": 1}, \"9\": {\"2\": 304, \"9\": 532, \"1\": 12, \"12\": 125, \"3\": 182, \"7\": 32, \"13\": 5, \"4\": 4, \"5\": 3, \"0\": 1}, \"14\": {\"14\": 955, \"10\": 91, \"6\": 125, \"8\": 28, \"4\": 1}, \"15\": {\"15\": 815, \"1\": 178, \"0\": 71, \"5\": 87, \"12\": 23, \"3\": 1, \"13\": 20, \"9\": 1, \"7\": 1, \"2\": 3}, \"3\": {\"3\": 519, \"12\": 237, \"9\": 177, \"2\": 81, \"4\": 50, \"5\": 53, \"1\": 22, \"0\": 6, \"7\": 50, \"15\": 2, \"8\": 3}}, \"ORACLE.run1_14\": {\"14\": {\"14\": 986, \"6\": 34, \"2\": 88, \"13\": 63, \"3\": 26, \"4\": 3}, \"0\": {\"0\": 1091, \"11\": 24, \"10\": 65, \"3\": 20}, \"4\": {\"4\": 912, \"3\": 112, \"5\": 132, \"1\": 11, \"14\": 3, \"2\": 29, \"13\": 1}, \"11\": {\"11\": 1042, \"9\": 86, \"0\": 69, \"10\": 3}, \"13\": {\"6\": 504, \"13\": 394, \"2\": 124, \"14\": 161, \"3\": 3, \"5\": 8, \"4\": 3, \"15\": 3}, \"9\": {\"9\": 1198, \"11\": 1, \"12\": 1}, \"3\": {\"3\": 1044, \"4\": 115, \"14\": 18, \"0\": 6, \"5\": 7, \"10\": 2, \"2\": 8}, \"6\": {\"6\": 665, \"13\": 445, \"14\": 61, \"2\": 29}, \"1\": {\"1\": 1068, \"5\": 118, \"4\": 10, \"7\": 4}, \"5\": {\"5\": 762, \"2\": 32, \"1\": 197, \"4\": 191, \"7\": 8, \"3\": 10}, \"12\": {\"12\": 1195, \"9\": 5}, \"10\": {\"10\": 1166, \"0\": 34}, \"8\": {\"8\": 1200}, \"7\": {\"7\": 1180, \"15\": 16, \"5\": 1, \"1\": 3}, \"15\": {\"15\": 1171, \"5\": 1, \"7\": 28}, \"2\": {\"5\": 123, \"13\": 77, \"2\": 592, \"14\": 175, \"4\": 78, \"15\": 25, \"3\": 71, \"6\": 56, \"1\": 2, \"7\": 1}}, \"ORACLE.run1_32\": {\"11\": {\"11\": 1010, \"14\": 148, \"3\": 10, \"13\": 16, \"7\": 12, \"5\": 4}, \"1\": {\"1\": 1185, \"10\": 15}, \"2\": {\"2\": 1008, \"4\": 155, \"7\": 12, \"0\": 24, \"5\": 1}, \"0\": {\"0\": 897, \"8\": 91, \"5\": 31, \"2\": 44, \"4\": 62, \"7\": 34, \"14\": 35, \"13\": 6}, \"3\": {\"3\": 1123, \"13\": 44, \"11\": 15, \"5\": 13, \"8\": 4, \"14\": 1}, \"8\": {\"8\": 947, \"13\": 78, \"5\": 62, \"0\": 89, \"14\": 5, \"3\": 9, \"15\": 1, \"7\": 6, \"4\": 3}, \"12\": {\"12\": 1200}, \"5\": {\"7\": 141, \"3\": 44, \"8\": 55, \"5\": 416, \"4\": 157, \"13\": 278, \"0\": 50, \"14\": 38, \"2\": 14, \"11\": 7}, \"15\": {\"15\": 1193, \"8\": 6, \"3\": 1}, \"7\": {\"7\": 567, \"13\": 70, \"14\": 164, \"5\": 159, \"11\": 20, \"4\": 156, \"2\": 33, \"0\": 25, \"8\": 5, \"3\": 1}, \"4\": {\"4\": 725, \"7\": 121, \"2\": 185, \"0\": 45, \"5\": 72, \"13\": 44, \"14\": 5, \"8\": 3}, \"14\": {\"14\": 490, \"7\": 218, \"11\": 298, \"8\": 18, \"0\": 53, \"13\": 40, \"5\": 46, \"3\": 9, \"2\": 16, \"4\": 12}, \"10\": {\"10\": 1194, \"1\": 6}, \"6\": {\"6\": 1200}, \"13\": {\"8\": 46, \"7\": 84, \"13\": 536, \"5\": 269, \"3\": 120, \"14\": 27, \"0\": 16, \"11\": 18, \"4\": 84}, \"9\": {\"9\": 1198, \"12\": 2}}, \"ORACLE.run1_8\": {\"9\": {\"9\": 1200}, \"11\": {\"11\": 752, \"1\": 422, \"5\": 18, \"8\": 5, \"14\": 3}, \"8\": {\"8\": 1161, \"15\": 33, \"6\": 4, \"12\": 2}, \"4\": {\"4\": 675, \"14\": 173, \"10\": 31, \"6\": 97, \"0\": 16, \"13\": 207, \"7\": 1}, \"13\": {\"13\": 432, \"0\": 321, \"10\": 101, \"14\": 101, \"6\": 46, \"4\": 180, \"7\": 11, \"1\": 6, \"5\": 2}, \"14\": {\"14\": 651, \"13\": 65, \"1\": 44, \"10\": 249, \"4\": 165, \"5\": 11, \"11\": 9, \"6\": 4, \"0\": 2}, \"2\": {\"2\": 1004, \"3\": 139, \"7\": 30, \"15\": 16, \"12\": 10, \"6\": 1}, \"3\": {\"3\": 1028, \"2\": 116, \"12\": 52, \"15\": 4}, \"1\": {\"1\": 898, \"11\": 250, \"5\": 22, \"14\": 27, \"10\": 2, \"4\": 1}, \"0\": {\"13\": 254, \"0\": 793, \"4\": 33, \"7\": 74, \"6\": 43, \"10\": 2, \"14\": 1}, \"5\": {\"5\": 1053, \"1\": 57, \"10\": 61, \"14\": 24, \"11\": 5}, \"15\": {\"8\": 56, \"15\": 883, \"12\": 255, \"7\": 1, \"3\": 4, \"2\": 1}, \"10\": {\"13\": 78, \"14\": 265, \"10\": 794, \"4\": 47, \"5\": 15, \"1\": 1}, \"12\": {\"12\": 666, \"15\": 338, \"3\": 156, \"8\": 34, \"2\": 5, \"7\": 1}, \"6\": {\"13\": 39, \"6\": 754, \"4\": 138, \"7\": 226, \"0\": 36, \"14\": 5, \"8\": 2}, \"7\": {\"7\": 928, \"6\": 221, \"0\": 43, \"13\": 6, \"4\": 1, \"8\": 1}}}, \"per_domain_accuracy\": {\"ORACLE.run2_26\": {\"accuracy\": 0.5791666666666667, \"source?\": true}, \"ORACLE.run2_44\": {\"accuracy\": 0.76328125, \"source?\": true}, \"ORACLE.run2_50\": {\"accuracy\": 0.810625, \"source?\": true}, \"ORACLE.run2_38\": {\"accuracy\": 0.7113020833333333, \"source?\": true}, \"ORACLE.run2_20\": {\"accuracy\": 0.6404166666666666, \"source?\": true}, \"ORACLE.run2_14\": {\"accuracy\": 0.8211458333333334, \"source?\": true}, \"ORACLE.run2_32\": {\"accuracy\": 0.79828125, \"source?\": true}, \"ORACLE.run2_8\": {\"accuracy\": 0.7166145833333334, \"source?\": true}, \"ORACLE.run1_26\": {\"accuracy\": 0.5565625, \"source?\": false}, \"ORACLE.run1_44\": {\"accuracy\": 0.7289583333333334, \"source?\": false}, \"ORACLE.run1_50\": {\"accuracy\": 0.7909895833333334, \"source?\": false}, \"ORACLE.run1_38\": {\"accuracy\": 0.8049479166666667, \"source?\": false}, \"ORACLE.run1_20\": {\"accuracy\": 0.68046875, \"source?\": false}, \"ORACLE.run1_14\": {\"accuracy\": 0.8159375, \"source?\": false}, \"ORACLE.run1_32\": {\"accuracy\": 0.77546875, \"source?\": false}, \"ORACLE.run1_8\": {\"accuracy\": 0.7120833333333333, \"source?\": false}}}, \"history\": {\"epoch_indices\": [1, 2, 3, 4, 5, 6, 7, 8, 9, 10, 11, 12], \"train_label_loss\": [1.1429513925438126, 0.8941476987963098, 0.8137101823171334, 0.7273236050066494, 0.6558822739414782, 0.5904898474423126, 0.5408111378544986, 0.5023029232455328, 0.4659405111858533, 0.4365408091360725, 0.4080978859585732, 0.3812000728705676], \"source_val_label_loss\": [1.04744291305542, 0.9337601661682129, 0.873257040977478, 0.8233981132507324, 0.7867851257324219, 0.7688034772872925, 0.7721983790397644, 0.7826545238494873, 0.7871918678283691, 0.792256772518158, 0.816949188709259, 0.8434308171272278], \"target_val_label_loss\": [1.0240788459777832, 0.896701991558075, 0.841599702835083, 0.7902491092681885, 0.7633132338523865, 0.7445429563522339, 0.7484588623046875, 0.7617760896682739, 0.7736769318580627, 0.7818909287452698, 0.8052595853805542, 0.8381276726722717], \"source_val_acc_label\": [0.6231640625, 0.6512890625, 0.6758723958333334, 0.6959309895833333, 0.7156966145833333, 0.7252799479166666, 0.7244986979166667, 0.7301041666666667, 0.7264322916666667, 0.7213606770833333, 0.7200325520833334, 0.7221419270833334], \"target_val_acc_label\": [0.6339453125, 0.6648372395833333, 0.68751953125, 0.70634765625, 0.7205533854166667, 0.7302408854166667, 0.72765625, 0.7331770833333333, 0.7266145833333333, 0.7217447916666667, 0.7232421875, 0.7227799479166667]}, \"dataset_metrics\": {\"source\": {\"train\": {\"n_unique_x\": 896000, \"n_unique_y\": 16, \"n_batch/episode\": 33600}, \"val\": {\"n_unique_x\": 192000, \"n_unique_y\": 16, \"n_batch/episode\": 4800}, \"test\": {\"n_unique_x\": 192000, \"n_unique_y\": 16, \"n_batch/episode\": 4800}}, \"target\": {\"train\": {\"n_unique_x\": 896000, \"n_unique_y\": 16, \"n_batch/episode\": 33600}, \"val\": {\"n_unique_x\": 192000, \"n_unique_y\": 16, \"n_batch/episode\": 4800}, \"test\": {\"n_unique_x\": 192000, \"n_unique_y\": 16, \"n_batch/episode\": 4800}}}}'"
      ]
     },
     "execution_count": 29,
     "metadata": {},
     "output_type": "execute_result"
    }
   ],
   "source": [
    "json.dumps(experiment)"
   ]
  }
 ],
 "metadata": {
  "celltoolbar": "Tags",
  "kernelspec": {
   "display_name": "Python 3 (ipykernel)",
   "language": "python",
   "name": "python3"
  },
  "language_info": {
   "codemirror_mode": {
    "name": "ipython",
    "version": 3
   },
   "file_extension": ".py",
   "mimetype": "text/x-python",
   "name": "python",
   "nbconvert_exporter": "python",
   "pygments_lexer": "ipython3",
   "version": "3.8.10"
  },
  "papermill": {
   "default_parameters": {},
   "duration": 11728.634712,
   "end_time": "2022-03-29T02:40:49.652056",
   "environment_variables": {},
   "exception": null,
   "input_path": "/mnt/wd500GB/CSC500/csc500-main/csc500-notebooks/templates/tl_ptn_template.ipynb",
   "output_path": "trial.ipynb",
   "parameters": {
    "parameters": {
     "BEST_MODEL_PATH": "./best_model.pth",
     "NUM_LOGS_PER_EPOCH": 10,
     "criteria_for_best": "target_accuracy",
     "dataset_seed": 7,
     "datasets": [
      {
       "domain_prefix": "ORACLE.run1_",
       "domains": [
        32,
        38,
        8,
        44,
        14,
        50,
        20,
        26
       ],
       "episode_transforms": [],
       "labels": [
        "3123D52",
        "3123D65",
        "3123D79",
        "3123D80",
        "3123D54",
        "3123D70",
        "3123D7B",
        "3123D89",
        "3123D58",
        "3123D76",
        "3123D7D",
        "3123EFE",
        "3123D64",
        "3123D78",
        "3123D7E",
        "3124E4A"
       ],
       "num_examples_per_domain_per_label": 10000,
       "pickle_path": "/mnt/wd500GB/CSC500/csc500-main/datasets/oracle.Run1_10kExamples_stratified_ds.2022A.pkl",
       "source_or_target_dataset": "target",
       "x_transforms": [
        "unit_power"
       ]
      },
      {
       "domain_prefix": "ORACLE.run2_",
       "domains": [
        32,
        38,
        8,
        44,
        14,
        50,
        20,
        26
       ],
       "episode_transforms": [],
       "labels": [
        "3123D52",
        "3123D65",
        "3123D79",
        "3123D80",
        "3123D54",
        "3123D70",
        "3123D7B",
        "3123D89",
        "3123D58",
        "3123D76",
        "3123D7D",
        "3123EFE",
        "3123D64",
        "3123D78",
        "3123D7E",
        "3124E4A"
       ],
       "num_examples_per_domain_per_label": 10000,
       "pickle_path": "/mnt/wd500GB/CSC500/csc500-main/datasets/oracle.Run2_10kExamples_stratified_ds.2022A.pkl",
       "source_or_target_dataset": "source",
       "x_transforms": [
        "unit_power"
       ]
      }
     ],
     "device": "cuda",
     "experiment_name": "tl_1v2:oracle.run1-oracle.run2",
     "lr": 0.0001,
     "n_epoch": 50,
     "n_query": 2,
     "n_shot": 3,
     "n_way": 16,
     "patience": 3,
     "seed": 7,
     "test_k_factor": 2,
     "torch_default_dtype": "torch.float32",
     "train_k_factor": 3,
     "val_k_factor": 2,
     "x_net": [
      {
       "class": "nnReshape",
       "kargs": {
        "shape": [
         -1,
         1,
         2,
         256
        ]
       }
      },
      {
       "class": "Conv2d",
       "kargs": {
        "bias": false,
        "in_channels": 1,
        "kernel_size": [
         1,
         7
        ],
        "out_channels": 256,
        "padding": [
         0,
         3
        ]
       }
      },
      {
       "class": "ReLU",
       "kargs": {
        "inplace": true
       }
      },
      {
       "class": "BatchNorm2d",
       "kargs": {
        "num_features": 256
       }
      },
      {
       "class": "Conv2d",
       "kargs": {
        "bias": true,
        "in_channels": 256,
        "kernel_size": [
         2,
         7
        ],
        "out_channels": 80,
        "padding": [
         0,
         3
        ]
       }
      },
      {
       "class": "ReLU",
       "kargs": {
        "inplace": true
       }
      },
      {
       "class": "BatchNorm2d",
       "kargs": {
        "num_features": 80
       }
      },
      {
       "class": "Flatten",
       "kargs": {}
      },
      {
       "class": "Linear",
       "kargs": {
        "in_features": 20480,
        "out_features": 256
       }
      },
      {
       "class": "ReLU",
       "kargs": {
        "inplace": true
       }
      },
      {
       "class": "BatchNorm1d",
       "kargs": {
        "num_features": 256
       }
      },
      {
       "class": "Linear",
       "kargs": {
        "in_features": 256,
        "out_features": 256
       }
      }
     ]
    }
   },
   "start_time": "2022-03-28T23:25:21.017344",
   "version": "2.3.4"
  }
 },
 "nbformat": 4,
 "nbformat_minor": 5
}