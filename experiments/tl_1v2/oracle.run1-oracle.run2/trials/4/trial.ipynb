{
 "cells": [
  {
   "cell_type": "markdown",
   "id": "9fea5f46",
   "metadata": {
    "papermill": {
     "duration": 0.017549,
     "end_time": "2022-03-23T15:27:00.546399",
     "exception": false,
     "start_time": "2022-03-23T15:27:00.528850",
     "status": "completed"
    },
    "tags": []
   },
   "source": [
    "# Transfer Learning Template"
   ]
  },
  {
   "cell_type": "code",
   "execution_count": 1,
   "id": "0902182a",
   "metadata": {
    "execution": {
     "iopub.execute_input": "2022-03-23T15:27:00.585467Z",
     "iopub.status.busy": "2022-03-23T15:27:00.584993Z",
     "iopub.status.idle": "2022-03-23T15:27:01.769896Z",
     "shell.execute_reply": "2022-03-23T15:27:01.769372Z"
    },
    "papermill": {
     "duration": 1.21112,
     "end_time": "2022-03-23T15:27:01.770027",
     "exception": false,
     "start_time": "2022-03-23T15:27:00.558907",
     "status": "completed"
    },
    "tags": []
   },
   "outputs": [],
   "source": [
    "%load_ext autoreload\n",
    "%autoreload 2\n",
    "%matplotlib inline\n",
    "\n",
    "    \n",
    "import os, json, sys, time, random\n",
    "import numpy as np\n",
    "import torch\n",
    "from torch.optim import Adam\n",
    "from  easydict import EasyDict\n",
    "import matplotlib.pyplot as plt\n",
    "\n",
    "from steves_models.steves_ptn import Steves_Prototypical_Network\n",
    "\n",
    "from steves_utils.lazy_iterable_wrapper import Lazy_Iterable_Wrapper\n",
    "from steves_utils.iterable_aggregator import Iterable_Aggregator\n",
    "from steves_utils.ptn_train_eval_test_jig import  PTN_Train_Eval_Test_Jig\n",
    "from steves_utils.torch_sequential_builder import build_sequential\n",
    "from steves_utils.torch_utils import get_dataset_metrics, ptn_confusion_by_domain_over_dataloader\n",
    "from steves_utils.utils_v2 import (per_domain_accuracy_from_confusion, get_datasets_base_path)\n",
    "from steves_utils.PTN.utils import independent_accuracy_assesment\n",
    "\n",
    "from torch.utils.data import DataLoader\n",
    "\n",
    "from steves_utils.stratified_dataset.episodic_accessor import Episodic_Accessor_Factory\n",
    "\n",
    "from steves_utils.ptn_do_report import (\n",
    "    get_loss_curve,\n",
    "    get_results_table,\n",
    "    get_parameters_table,\n",
    "    get_domain_accuracies,\n",
    ")\n",
    "\n",
    "from steves_utils.transforms import get_chained_transform"
   ]
  },
  {
   "cell_type": "markdown",
   "id": "41c840b4",
   "metadata": {
    "papermill": {
     "duration": 0.012212,
     "end_time": "2022-03-23T15:27:01.799318",
     "exception": false,
     "start_time": "2022-03-23T15:27:01.787106",
     "status": "completed"
    },
    "tags": []
   },
   "source": [
    "# Allowed Parameters\n",
    "These are allowed parameters, not defaults\n",
    "Each of these values need to be present in the injected parameters (the notebook will raise an exception if they are not present)\n",
    "\n",
    "Papermill uses the cell tag \"parameters\" to inject the real parameters below this cell.\n",
    "Enable tags to see what I mean"
   ]
  },
  {
   "cell_type": "code",
   "execution_count": 2,
   "id": "fd44eb83",
   "metadata": {
    "execution": {
     "iopub.execute_input": "2022-03-23T15:27:01.837801Z",
     "iopub.status.busy": "2022-03-23T15:27:01.835098Z",
     "iopub.status.idle": "2022-03-23T15:27:01.841227Z",
     "shell.execute_reply": "2022-03-23T15:27:01.841555Z"
    },
    "papermill": {
     "duration": 0.029954,
     "end_time": "2022-03-23T15:27:01.841684",
     "exception": false,
     "start_time": "2022-03-23T15:27:01.811730",
     "status": "completed"
    },
    "tags": []
   },
   "outputs": [],
   "source": [
    "required_parameters = {\n",
    "    \"experiment_name\",\n",
    "    \"lr\",\n",
    "    \"device\",\n",
    "    \"seed\",\n",
    "    \"dataset_seed\",\n",
    "    \"n_shot\",\n",
    "    \"n_query\",\n",
    "    \"n_way\",\n",
    "    \"train_k_factor\",\n",
    "    \"val_k_factor\",\n",
    "    \"test_k_factor\",\n",
    "    \"n_epoch\",\n",
    "    \"patience\",\n",
    "    \"criteria_for_best\",\n",
    "    \"x_net\",\n",
    "    \"datasets\",\n",
    "    \"torch_default_dtype\",\n",
    "    \"NUM_LOGS_PER_EPOCH\",\n",
    "    \"BEST_MODEL_PATH\",\n",
    "    \"x_shape\",\n",
    "}"
   ]
  },
  {
   "cell_type": "code",
   "execution_count": 3,
   "id": "fa3f0049",
   "metadata": {
    "execution": {
     "iopub.execute_input": "2022-03-23T15:27:01.878613Z",
     "iopub.status.busy": "2022-03-23T15:27:01.878288Z",
     "iopub.status.idle": "2022-03-23T15:27:01.891017Z",
     "shell.execute_reply": "2022-03-23T15:27:01.890523Z"
    },
    "papermill": {
     "duration": 0.032103,
     "end_time": "2022-03-23T15:27:01.891120",
     "exception": false,
     "start_time": "2022-03-23T15:27:01.859017",
     "status": "completed"
    },
    "tags": [
     "parameters"
    ]
   },
   "outputs": [],
   "source": [
    "from steves_utils.CORES.utils import (\n",
    "    ALL_NODES,\n",
    "    ALL_NODES_MINIMUM_1000_EXAMPLES,\n",
    "    ALL_DAYS\n",
    ")\n",
    "\n",
    "from steves_utils.ORACLE.utils_v2 import (\n",
    "    ALL_DISTANCES_FEET_NARROWED,\n",
    "    ALL_RUNS,\n",
    "    ALL_SERIAL_NUMBERS,\n",
    ")\n",
    "\n",
    "standalone_parameters = {}\n",
    "standalone_parameters[\"experiment_name\"] = \"STANDALONE PTN\"\n",
    "standalone_parameters[\"lr\"] = 0.001\n",
    "standalone_parameters[\"device\"] = \"cuda\"\n",
    "\n",
    "standalone_parameters[\"seed\"] = 1337\n",
    "standalone_parameters[\"dataset_seed\"] = 1337\n",
    "\n",
    "standalone_parameters[\"n_way\"] = 8\n",
    "standalone_parameters[\"n_shot\"] = 3\n",
    "standalone_parameters[\"n_query\"]  = 2\n",
    "standalone_parameters[\"train_k_factor\"] = 1\n",
    "standalone_parameters[\"val_k_factor\"] = 2\n",
    "standalone_parameters[\"test_k_factor\"] = 2\n",
    "\n",
    "\n",
    "standalone_parameters[\"n_epoch\"] = 50\n",
    "\n",
    "standalone_parameters[\"patience\"] = 10\n",
    "standalone_parameters[\"criteria_for_best\"] = \"source_loss\"\n",
    "\n",
    "standalone_parameters[\"datasets\"] = [\n",
    "    {\n",
    "        \"labels\": ALL_SERIAL_NUMBERS,\n",
    "        \"domains\": ALL_DISTANCES_FEET_NARROWED,\n",
    "        \"num_examples_per_domain_per_label\": 100,\n",
    "        \"pickle_path\": os.path.join(get_datasets_base_path(), \"oracle.Run1_framed_2000Examples_stratified_ds.2022A.pkl\"),\n",
    "        \"source_or_target_dataset\": \"source\",\n",
    "        \"x_transforms\": [\"unit_mag\", \"minus_two\"],\n",
    "        \"episode_transforms\": [],\n",
    "        \"domain_prefix\": \"ORACLE_\"\n",
    "    },\n",
    "    {\n",
    "        \"labels\": ALL_NODES,\n",
    "        \"domains\": ALL_DAYS,\n",
    "        \"num_examples_per_domain_per_label\": 100,\n",
    "        \"pickle_path\": os.path.join(get_datasets_base_path(), \"cores.stratified_ds.2022A.pkl\"),\n",
    "        \"source_or_target_dataset\": \"target\",\n",
    "        \"x_transforms\": [\"unit_power\", \"times_zero\"],\n",
    "        \"episode_transforms\": [],\n",
    "        \"domain_prefix\": \"CORES_\"\n",
    "    }   \n",
    "]\n",
    "\n",
    "standalone_parameters[\"torch_default_dtype\"] = \"torch.float32\" \n",
    "\n",
    "\n",
    "\n",
    "standalone_parameters[\"x_net\"] =     [\n",
    "    {\"class\": \"nnReshape\", \"kargs\": {\"shape\":[-1, 1, 2, 256]}},\n",
    "    {\"class\": \"Conv2d\", \"kargs\": { \"in_channels\":1, \"out_channels\":256, \"kernel_size\":(1,7), \"bias\":False, \"padding\":(0,3), },},\n",
    "    {\"class\": \"ReLU\", \"kargs\": {\"inplace\": True}},\n",
    "    {\"class\": \"BatchNorm2d\", \"kargs\": {\"num_features\":256}},\n",
    "\n",
    "    {\"class\": \"Conv2d\", \"kargs\": { \"in_channels\":256, \"out_channels\":80, \"kernel_size\":(2,7), \"bias\":True, \"padding\":(0,3), },},\n",
    "    {\"class\": \"ReLU\", \"kargs\": {\"inplace\": True}},\n",
    "    {\"class\": \"BatchNorm2d\", \"kargs\": {\"num_features\":80}},\n",
    "    {\"class\": \"Flatten\", \"kargs\": {}},\n",
    "\n",
    "    {\"class\": \"Linear\", \"kargs\": {\"in_features\": 80*256, \"out_features\": 256}}, # 80 units per IQ pair\n",
    "    {\"class\": \"ReLU\", \"kargs\": {\"inplace\": True}},\n",
    "    {\"class\": \"BatchNorm1d\", \"kargs\": {\"num_features\":256}},\n",
    "\n",
    "    {\"class\": \"Linear\", \"kargs\": {\"in_features\": 256, \"out_features\": 256}},\n",
    "]\n",
    "\n",
    "# Parameters relevant to results\n",
    "# These parameters will basically never need to change\n",
    "standalone_parameters[\"NUM_LOGS_PER_EPOCH\"] = 10\n",
    "standalone_parameters[\"BEST_MODEL_PATH\"] = \"./best_model.pth\"\n",
    "\n",
    "\n",
    "\n",
    "\n"
   ]
  },
  {
   "cell_type": "code",
   "execution_count": 4,
   "id": "4ab7fd2f",
   "metadata": {
    "execution": {
     "iopub.execute_input": "2022-03-23T15:27:01.932341Z",
     "iopub.status.busy": "2022-03-23T15:27:01.930920Z",
     "iopub.status.idle": "2022-03-23T15:27:01.944530Z",
     "shell.execute_reply": "2022-03-23T15:27:01.944040Z"
    },
    "papermill": {
     "duration": 0.032975,
     "end_time": "2022-03-23T15:27:01.944632",
     "exception": false,
     "start_time": "2022-03-23T15:27:01.911657",
     "status": "completed"
    },
    "tags": [
     "injected-parameters"
    ]
   },
   "outputs": [],
   "source": [
    "# Parameters\n",
    "parameters = {\n",
    "    \"experiment_name\": \"tl_1v2:oracle.run1-oracle.run2\",\n",
    "    \"device\": \"cuda\",\n",
    "    \"lr\": 0.0001,\n",
    "    \"n_shot\": 3,\n",
    "    \"n_query\": 2,\n",
    "    \"train_k_factor\": 3,\n",
    "    \"val_k_factor\": 2,\n",
    "    \"test_k_factor\": 2,\n",
    "    \"torch_default_dtype\": \"torch.float32\",\n",
    "    \"n_epoch\": 50,\n",
    "    \"patience\": 3,\n",
    "    \"criteria_for_best\": \"target_accuracy\",\n",
    "    \"x_net\": [\n",
    "        {\"class\": \"nnReshape\", \"kargs\": {\"shape\": [-1, 1, 2, 256]}},\n",
    "        {\n",
    "            \"class\": \"Conv2d\",\n",
    "            \"kargs\": {\n",
    "                \"in_channels\": 1,\n",
    "                \"out_channels\": 256,\n",
    "                \"kernel_size\": [1, 7],\n",
    "                \"bias\": False,\n",
    "                \"padding\": [0, 3],\n",
    "            },\n",
    "        },\n",
    "        {\"class\": \"ReLU\", \"kargs\": {\"inplace\": True}},\n",
    "        {\"class\": \"BatchNorm2d\", \"kargs\": {\"num_features\": 256}},\n",
    "        {\n",
    "            \"class\": \"Conv2d\",\n",
    "            \"kargs\": {\n",
    "                \"in_channels\": 256,\n",
    "                \"out_channels\": 80,\n",
    "                \"kernel_size\": [2, 7],\n",
    "                \"bias\": True,\n",
    "                \"padding\": [0, 3],\n",
    "            },\n",
    "        },\n",
    "        {\"class\": \"ReLU\", \"kargs\": {\"inplace\": True}},\n",
    "        {\"class\": \"BatchNorm2d\", \"kargs\": {\"num_features\": 80}},\n",
    "        {\"class\": \"Flatten\", \"kargs\": {}},\n",
    "        {\"class\": \"Linear\", \"kargs\": {\"in_features\": 20480, \"out_features\": 256}},\n",
    "        {\"class\": \"ReLU\", \"kargs\": {\"inplace\": True}},\n",
    "        {\"class\": \"BatchNorm1d\", \"kargs\": {\"num_features\": 256}},\n",
    "        {\"class\": \"Linear\", \"kargs\": {\"in_features\": 256, \"out_features\": 256}},\n",
    "    ],\n",
    "    \"NUM_LOGS_PER_EPOCH\": 10,\n",
    "    \"BEST_MODEL_PATH\": \"./best_model.pth\",\n",
    "    \"n_way\": 16,\n",
    "    \"datasets\": [\n",
    "        {\n",
    "            \"labels\": [\n",
    "                \"3123D52\",\n",
    "                \"3123D65\",\n",
    "                \"3123D79\",\n",
    "                \"3123D80\",\n",
    "                \"3123D54\",\n",
    "                \"3123D70\",\n",
    "                \"3123D7B\",\n",
    "                \"3123D89\",\n",
    "                \"3123D58\",\n",
    "                \"3123D76\",\n",
    "                \"3123D7D\",\n",
    "                \"3123EFE\",\n",
    "                \"3123D64\",\n",
    "                \"3123D78\",\n",
    "                \"3123D7E\",\n",
    "                \"3124E4A\",\n",
    "            ],\n",
    "            \"domains\": [32, 38, 8, 44, 14, 50, 20, 26],\n",
    "            \"num_examples_per_domain_per_label\": 10000,\n",
    "            \"pickle_path\": \"/mnt/wd500GB/CSC500/csc500-main/datasets/oracle.Run1_10kExamples_stratified_ds.2022A.pkl\",\n",
    "            \"source_or_target_dataset\": \"target\",\n",
    "            \"x_transforms\": [\"unit_mag\"],\n",
    "            \"episode_transforms\": [],\n",
    "            \"domain_prefix\": \"ORACLE.run1_\",\n",
    "        },\n",
    "        {\n",
    "            \"labels\": [\n",
    "                \"3123D52\",\n",
    "                \"3123D65\",\n",
    "                \"3123D79\",\n",
    "                \"3123D80\",\n",
    "                \"3123D54\",\n",
    "                \"3123D70\",\n",
    "                \"3123D7B\",\n",
    "                \"3123D89\",\n",
    "                \"3123D58\",\n",
    "                \"3123D76\",\n",
    "                \"3123D7D\",\n",
    "                \"3123EFE\",\n",
    "                \"3123D64\",\n",
    "                \"3123D78\",\n",
    "                \"3123D7E\",\n",
    "                \"3124E4A\",\n",
    "            ],\n",
    "            \"domains\": [32, 38, 8, 44, 14, 50, 20, 26],\n",
    "            \"num_examples_per_domain_per_label\": 10000,\n",
    "            \"pickle_path\": \"/mnt/wd500GB/CSC500/csc500-main/datasets/oracle.Run2_10kExamples_stratified_ds.2022A.pkl\",\n",
    "            \"source_or_target_dataset\": \"source\",\n",
    "            \"x_transforms\": [\"unit_mag\"],\n",
    "            \"episode_transforms\": [],\n",
    "            \"domain_prefix\": \"ORACLE.run2_\",\n",
    "        },\n",
    "    ],\n",
    "    \"dataset_seed\": 1337,\n",
    "    \"seed\": 1337,\n",
    "}\n"
   ]
  },
  {
   "cell_type": "code",
   "execution_count": 5,
   "id": "8fa1cc33",
   "metadata": {
    "execution": {
     "iopub.execute_input": "2022-03-23T15:27:01.979261Z",
     "iopub.status.busy": "2022-03-23T15:27:01.979011Z",
     "iopub.status.idle": "2022-03-23T15:27:01.993990Z",
     "shell.execute_reply": "2022-03-23T15:27:01.994389Z"
    },
    "papermill": {
     "duration": 0.032059,
     "end_time": "2022-03-23T15:27:01.994514",
     "exception": false,
     "start_time": "2022-03-23T15:27:01.962455",
     "status": "completed"
    },
    "tags": []
   },
   "outputs": [],
   "source": [
    "# Set this to True if you want to run this template directly\n",
    "STANDALONE = False\n",
    "if STANDALONE:\n",
    "    print(\"parameters not injected, running with standalone_parameters\")\n",
    "    parameters = standalone_parameters\n",
    "\n",
    "if not 'parameters' in locals() and not 'parameters' in globals():\n",
    "    raise Exception(\"Parameter injection failed\")\n",
    "\n",
    "#Use an easy dict for all the parameters\n",
    "p = EasyDict(parameters)\n",
    "\n",
    "if \"x_shape\" not in p:\n",
    "    p.x_shape = [2,256] # Default to this if we dont supply x_shape\n",
    "\n",
    "\n",
    "supplied_keys = set(p.keys())\n",
    "\n",
    "if  supplied_keys != required_parameters:\n",
    "    print(\"Parameters are incorrect\")\n",
    "    if len(supplied_keys - required_parameters)>0: print(\"Shouldn't have:\", str(supplied_keys - required_parameters))\n",
    "    if len(required_parameters - supplied_keys)>0: print(\"Need to have:\", str(required_parameters - supplied_keys))\n",
    "    raise RuntimeError(\"Parameters are incorrect\")"
   ]
  },
  {
   "cell_type": "code",
   "execution_count": 6,
   "id": "3a028d58",
   "metadata": {
    "execution": {
     "iopub.execute_input": "2022-03-23T15:27:02.026748Z",
     "iopub.status.busy": "2022-03-23T15:27:02.026500Z",
     "iopub.status.idle": "2022-03-23T15:27:02.038600Z",
     "shell.execute_reply": "2022-03-23T15:27:02.038113Z"
    },
    "papermill": {
     "duration": 0.027355,
     "end_time": "2022-03-23T15:27:02.038702",
     "exception": false,
     "start_time": "2022-03-23T15:27:02.011347",
     "status": "completed"
    },
    "tags": []
   },
   "outputs": [],
   "source": [
    "###################################\n",
    "# Set the RNGs and make it all deterministic\n",
    "###################################\n",
    "np.random.seed(p.seed)\n",
    "random.seed(p.seed)\n",
    "torch.manual_seed(p.seed)\n",
    "\n",
    "torch.use_deterministic_algorithms(True) "
   ]
  },
  {
   "cell_type": "code",
   "execution_count": 7,
   "id": "b691acf6",
   "metadata": {
    "execution": {
     "iopub.execute_input": "2022-03-23T15:27:02.077764Z",
     "iopub.status.busy": "2022-03-23T15:27:02.068148Z",
     "iopub.status.idle": "2022-03-23T15:27:02.083507Z",
     "shell.execute_reply": "2022-03-23T15:27:02.083899Z"
    },
    "papermill": {
     "duration": 0.030399,
     "end_time": "2022-03-23T15:27:02.084018",
     "exception": false,
     "start_time": "2022-03-23T15:27:02.053619",
     "status": "completed"
    },
    "tags": []
   },
   "outputs": [],
   "source": [
    "###########################################\n",
    "# The stratified datasets honor this\n",
    "###########################################\n",
    "torch.set_default_dtype(eval(p.torch_default_dtype))"
   ]
  },
  {
   "cell_type": "code",
   "execution_count": 8,
   "id": "b5fba671",
   "metadata": {
    "execution": {
     "iopub.execute_input": "2022-03-23T15:27:02.118365Z",
     "iopub.status.busy": "2022-03-23T15:27:02.118110Z",
     "iopub.status.idle": "2022-03-23T15:27:02.158482Z",
     "shell.execute_reply": "2022-03-23T15:27:02.158022Z"
    },
    "papermill": {
     "duration": 0.056314,
     "end_time": "2022-03-23T15:27:02.158592",
     "exception": false,
     "start_time": "2022-03-23T15:27:02.102278",
     "status": "completed"
    },
    "tags": []
   },
   "outputs": [],
   "source": [
    "###################################\n",
    "# Build the network(s)\n",
    "# Note: It's critical to do this AFTER setting the RNG\n",
    "###################################\n",
    "x_net = build_sequential(p.x_net)"
   ]
  },
  {
   "cell_type": "code",
   "execution_count": 9,
   "id": "5d7e61cc",
   "metadata": {
    "execution": {
     "iopub.execute_input": "2022-03-23T15:27:02.191928Z",
     "iopub.status.busy": "2022-03-23T15:27:02.191532Z",
     "iopub.status.idle": "2022-03-23T15:27:02.203485Z",
     "shell.execute_reply": "2022-03-23T15:27:02.203058Z"
    },
    "papermill": {
     "duration": 0.027216,
     "end_time": "2022-03-23T15:27:02.203586",
     "exception": false,
     "start_time": "2022-03-23T15:27:02.176370",
     "status": "completed"
    },
    "tags": []
   },
   "outputs": [],
   "source": [
    "start_time_secs = time.time()"
   ]
  },
  {
   "cell_type": "code",
   "execution_count": 10,
   "id": "c6b67dfd",
   "metadata": {
    "execution": {
     "iopub.execute_input": "2022-03-23T15:27:02.245077Z",
     "iopub.status.busy": "2022-03-23T15:27:02.239387Z",
     "iopub.status.idle": "2022-03-23T15:27:02.252235Z",
     "shell.execute_reply": "2022-03-23T15:27:02.252607Z"
    },
    "papermill": {
     "duration": 0.030642,
     "end_time": "2022-03-23T15:27:02.252729",
     "exception": false,
     "start_time": "2022-03-23T15:27:02.222087",
     "status": "completed"
    },
    "tags": []
   },
   "outputs": [],
   "source": [
    "p.domains_source = []\n",
    "p.domains_target = []\n",
    "\n",
    "\n",
    "train_original_source = []\n",
    "val_original_source   = []\n",
    "test_original_source  = []\n",
    "\n",
    "train_original_target = []\n",
    "val_original_target   = []\n",
    "test_original_target  = []"
   ]
  },
  {
   "cell_type": "code",
   "execution_count": 11,
   "id": "e3d9c3d3",
   "metadata": {
    "execution": {
     "iopub.execute_input": "2022-03-23T15:27:02.286707Z",
     "iopub.status.busy": "2022-03-23T15:27:02.286459Z",
     "iopub.status.idle": "2022-03-23T15:27:02.297266Z",
     "shell.execute_reply": "2022-03-23T15:27:02.296791Z"
    },
    "papermill": {
     "duration": 0.02559,
     "end_time": "2022-03-23T15:27:02.297365",
     "exception": false,
     "start_time": "2022-03-23T15:27:02.271775",
     "status": "completed"
    },
    "tags": []
   },
   "outputs": [],
   "source": [
    "# global_x_transform_func = lambda x: normalize(x.to(torch.get_default_dtype()), \"unit_power\") # unit_power, unit_mag\n",
    "# global_x_transform_func = lambda x: normalize(x, \"unit_power\") # unit_power, unit_mag"
   ]
  },
  {
   "cell_type": "code",
   "execution_count": 12,
   "id": "acb78fd2",
   "metadata": {
    "execution": {
     "iopub.execute_input": "2022-03-23T15:27:02.336319Z",
     "iopub.status.busy": "2022-03-23T15:27:02.335326Z",
     "iopub.status.idle": "2022-03-23T15:27:02.349970Z",
     "shell.execute_reply": "2022-03-23T15:27:02.349538Z"
    },
    "papermill": {
     "duration": 0.034481,
     "end_time": "2022-03-23T15:27:02.350101",
     "exception": false,
     "start_time": "2022-03-23T15:27:02.315620",
     "status": "completed"
    },
    "tags": []
   },
   "outputs": [],
   "source": [
    "def add_dataset(\n",
    "    labels,\n",
    "    domains,\n",
    "    pickle_path,\n",
    "    x_transforms,\n",
    "    episode_transforms,\n",
    "    domain_prefix,\n",
    "    num_examples_per_domain_per_label,\n",
    "    source_or_target_dataset:str,\n",
    "    iterator_seed=p.seed,\n",
    "    dataset_seed=p.dataset_seed,\n",
    "    n_shot=p.n_shot,\n",
    "    n_way=p.n_way,\n",
    "    n_query=p.n_query,\n",
    "    train_val_test_k_factors=(p.train_k_factor,p.val_k_factor,p.test_k_factor),\n",
    "):\n",
    "   \n",
    "    if x_transforms == []: x_transform = None\n",
    "    else: x_transform = get_chained_transform(x_transforms)\n",
    "    \n",
    "    if episode_transforms == []: episode_transform = None\n",
    "    else: raise Exception(\"episode_transforms not implemented\")\n",
    "    \n",
    "    episode_transform = lambda tup, _prefix=domain_prefix: (_prefix + str(tup[0]), tup[1])\n",
    "\n",
    "\n",
    "    eaf = Episodic_Accessor_Factory(\n",
    "        labels=labels,\n",
    "        domains=domains,\n",
    "        num_examples_per_domain_per_label=num_examples_per_domain_per_label,\n",
    "        iterator_seed=iterator_seed,\n",
    "        dataset_seed=dataset_seed,\n",
    "        n_shot=n_shot,\n",
    "        n_way=n_way,\n",
    "        n_query=n_query,\n",
    "        train_val_test_k_factors=train_val_test_k_factors,\n",
    "        pickle_path=pickle_path,\n",
    "        x_transform_func=x_transform,\n",
    "    )\n",
    "\n",
    "    train, val, test = eaf.get_train(), eaf.get_val(), eaf.get_test()\n",
    "    train = Lazy_Iterable_Wrapper(train, episode_transform)\n",
    "    val = Lazy_Iterable_Wrapper(val, episode_transform)\n",
    "    test = Lazy_Iterable_Wrapper(test, episode_transform)\n",
    "\n",
    "    if source_or_target_dataset==\"source\":\n",
    "        train_original_source.append(train)\n",
    "        val_original_source.append(val)\n",
    "        test_original_source.append(test)\n",
    "\n",
    "        p.domains_source.extend(\n",
    "            [domain_prefix + str(u) for u in domains]\n",
    "        )\n",
    "    elif source_or_target_dataset==\"target\":\n",
    "        train_original_target.append(train)\n",
    "        val_original_target.append(val)\n",
    "        test_original_target.append(test)\n",
    "        p.domains_target.extend(\n",
    "            [domain_prefix + str(u) for u in domains]\n",
    "        )\n",
    "    else:\n",
    "        raise Exception(f\"invalid source_or_target_dataset: {source_or_target_dataset}\")\n",
    "    "
   ]
  },
  {
   "cell_type": "code",
   "execution_count": 13,
   "id": "fe266617",
   "metadata": {
    "execution": {
     "iopub.execute_input": "2022-03-23T15:27:02.384645Z",
     "iopub.status.busy": "2022-03-23T15:27:02.384382Z",
     "iopub.status.idle": "2022-03-23T15:29:46.344863Z",
     "shell.execute_reply": "2022-03-23T15:29:46.344432Z"
    },
    "papermill": {
     "duration": 163.975493,
     "end_time": "2022-03-23T15:29:46.344967",
     "exception": false,
     "start_time": "2022-03-23T15:27:02.369474",
     "status": "completed"
    },
    "tags": []
   },
   "outputs": [],
   "source": [
    "for ds in p.datasets:\n",
    "    add_dataset(**ds)"
   ]
  },
  {
   "cell_type": "code",
   "execution_count": 14,
   "id": "b90d65ac",
   "metadata": {
    "execution": {
     "iopub.execute_input": "2022-03-23T15:29:46.378997Z",
     "iopub.status.busy": "2022-03-23T15:29:46.378750Z",
     "iopub.status.idle": "2022-03-23T15:29:46.390032Z",
     "shell.execute_reply": "2022-03-23T15:29:46.389577Z"
    },
    "papermill": {
     "duration": 0.027127,
     "end_time": "2022-03-23T15:29:46.390122",
     "exception": false,
     "start_time": "2022-03-23T15:29:46.362995",
     "status": "completed"
    },
    "tags": []
   },
   "outputs": [],
   "source": [
    "# from steves_utils.CORES.utils import (\n",
    "#     ALL_NODES,\n",
    "#     ALL_NODES_MINIMUM_1000_EXAMPLES,\n",
    "#     ALL_DAYS\n",
    "# )\n",
    "\n",
    "# add_dataset(\n",
    "#     labels=ALL_NODES,\n",
    "#     domains = ALL_DAYS,\n",
    "#     num_examples_per_domain_per_label=100,\n",
    "#     pickle_path=os.path.join(get_datasets_base_path(), \"cores.stratified_ds.2022A.pkl\"),\n",
    "#     source_or_target_dataset=\"target\",\n",
    "#     x_transform_func=global_x_transform_func,\n",
    "#     domain_modifier=lambda u: f\"cores_{u}\"\n",
    "# )"
   ]
  },
  {
   "cell_type": "code",
   "execution_count": 15,
   "id": "76db484d",
   "metadata": {
    "execution": {
     "iopub.execute_input": "2022-03-23T15:29:46.423041Z",
     "iopub.status.busy": "2022-03-23T15:29:46.422795Z",
     "iopub.status.idle": "2022-03-23T15:29:46.438902Z",
     "shell.execute_reply": "2022-03-23T15:29:46.438393Z"
    },
    "papermill": {
     "duration": 0.0313,
     "end_time": "2022-03-23T15:29:46.439005",
     "exception": false,
     "start_time": "2022-03-23T15:29:46.407705",
     "status": "completed"
    },
    "tags": []
   },
   "outputs": [],
   "source": [
    "# from steves_utils.ORACLE.utils_v2 import (\n",
    "#     ALL_DISTANCES_FEET,\n",
    "#     ALL_RUNS,\n",
    "#     ALL_SERIAL_NUMBERS,\n",
    "# )\n",
    "\n",
    "\n",
    "# add_dataset(\n",
    "#     labels=ALL_SERIAL_NUMBERS,\n",
    "#     domains = list(set(ALL_DISTANCES_FEET) - {2,62}),\n",
    "#     num_examples_per_domain_per_label=100,\n",
    "#     pickle_path=os.path.join(get_datasets_base_path(), \"oracle.Run2_framed_2000Examples_stratified_ds.2022A.pkl\"),\n",
    "#     source_or_target_dataset=\"source\",\n",
    "#     x_transform_func=global_x_transform_func,\n",
    "#     domain_modifier=lambda u: f\"oracle1_{u}\"\n",
    "# )\n"
   ]
  },
  {
   "cell_type": "code",
   "execution_count": 16,
   "id": "97dea9d2",
   "metadata": {
    "execution": {
     "iopub.execute_input": "2022-03-23T15:29:46.472287Z",
     "iopub.status.busy": "2022-03-23T15:29:46.471906Z",
     "iopub.status.idle": "2022-03-23T15:29:46.485980Z",
     "shell.execute_reply": "2022-03-23T15:29:46.486184Z"
    },
    "papermill": {
     "duration": 0.029604,
     "end_time": "2022-03-23T15:29:46.486335",
     "exception": false,
     "start_time": "2022-03-23T15:29:46.456731",
     "status": "completed"
    },
    "tags": []
   },
   "outputs": [],
   "source": [
    "# from steves_utils.ORACLE.utils_v2 import (\n",
    "#     ALL_DISTANCES_FEET,\n",
    "#     ALL_RUNS,\n",
    "#     ALL_SERIAL_NUMBERS,\n",
    "# )\n",
    "\n",
    "\n",
    "# add_dataset(\n",
    "#     labels=ALL_SERIAL_NUMBERS,\n",
    "#     domains = list(set(ALL_DISTANCES_FEET) - {2,62,56}),\n",
    "#     num_examples_per_domain_per_label=100,\n",
    "#     pickle_path=os.path.join(get_datasets_base_path(), \"oracle.Run2_framed_2000Examples_stratified_ds.2022A.pkl\"),\n",
    "#     source_or_target_dataset=\"source\",\n",
    "#     x_transform_func=global_x_transform_func,\n",
    "#     domain_modifier=lambda u: f\"oracle2_{u}\"\n",
    "# )"
   ]
  },
  {
   "cell_type": "code",
   "execution_count": 17,
   "id": "6f289866",
   "metadata": {
    "execution": {
     "iopub.execute_input": "2022-03-23T15:29:46.519012Z",
     "iopub.status.busy": "2022-03-23T15:29:46.518768Z",
     "iopub.status.idle": "2022-03-23T15:29:46.534334Z",
     "shell.execute_reply": "2022-03-23T15:29:46.533938Z"
    },
    "papermill": {
     "duration": 0.030522,
     "end_time": "2022-03-23T15:29:46.534423",
     "exception": false,
     "start_time": "2022-03-23T15:29:46.503901",
     "status": "completed"
    },
    "tags": []
   },
   "outputs": [],
   "source": [
    "# add_dataset(\n",
    "#     labels=list(range(19)),\n",
    "#     domains = [0,1,2],\n",
    "#     num_examples_per_domain_per_label=100,\n",
    "#     pickle_path=os.path.join(get_datasets_base_path(), \"metehan.stratified_ds.2022A.pkl\"),\n",
    "#     source_or_target_dataset=\"target\",\n",
    "#     x_transform_func=global_x_transform_func,\n",
    "#     domain_modifier=lambda u: f\"met_{u}\"\n",
    "# )"
   ]
  },
  {
   "cell_type": "code",
   "execution_count": 18,
   "id": "86a863c3",
   "metadata": {
    "execution": {
     "iopub.execute_input": "2022-03-23T15:29:46.566913Z",
     "iopub.status.busy": "2022-03-23T15:29:46.566600Z",
     "iopub.status.idle": "2022-03-23T15:29:46.582099Z",
     "shell.execute_reply": "2022-03-23T15:29:46.581637Z"
    },
    "papermill": {
     "duration": 0.030698,
     "end_time": "2022-03-23T15:29:46.582189",
     "exception": false,
     "start_time": "2022-03-23T15:29:46.551491",
     "status": "completed"
    },
    "tags": []
   },
   "outputs": [],
   "source": [
    "# # from steves_utils.wisig.utils import (\n",
    "# #     ALL_NODES_MINIMUM_100_EXAMPLES,\n",
    "# #     ALL_NODES_MINIMUM_500_EXAMPLES,\n",
    "# #     ALL_NODES_MINIMUM_1000_EXAMPLES,\n",
    "# #     ALL_DAYS\n",
    "# # )\n",
    "\n",
    "# import steves_utils.wisig.utils as wisig\n",
    "\n",
    "\n",
    "# add_dataset(\n",
    "#     labels=wisig.ALL_NODES_MINIMUM_100_EXAMPLES,\n",
    "#     domains = wisig.ALL_DAYS,\n",
    "#     num_examples_per_domain_per_label=100,\n",
    "#     pickle_path=os.path.join(get_datasets_base_path(), \"wisig.node3-19.stratified_ds.2022A.pkl\"),\n",
    "#     source_or_target_dataset=\"target\",\n",
    "#     x_transform_func=global_x_transform_func,\n",
    "#     domain_modifier=lambda u: f\"wisig_{u}\"\n",
    "# )"
   ]
  },
  {
   "cell_type": "code",
   "execution_count": 19,
   "id": "fd5442bc",
   "metadata": {
    "execution": {
     "iopub.execute_input": "2022-03-23T15:29:46.614923Z",
     "iopub.status.busy": "2022-03-23T15:29:46.614673Z",
     "iopub.status.idle": "2022-03-23T15:29:46.625433Z",
     "shell.execute_reply": "2022-03-23T15:29:46.625223Z"
    },
    "papermill": {
     "duration": 0.027502,
     "end_time": "2022-03-23T15:29:46.625481",
     "exception": false,
     "start_time": "2022-03-23T15:29:46.597979",
     "status": "completed"
    },
    "tags": []
   },
   "outputs": [],
   "source": [
    "###################################\n",
    "# Build the dataset\n",
    "###################################\n",
    "train_original_source = Iterable_Aggregator(train_original_source, p.seed)\n",
    "val_original_source = Iterable_Aggregator(val_original_source, p.seed)\n",
    "test_original_source = Iterable_Aggregator(test_original_source, p.seed)\n",
    "\n",
    "\n",
    "train_original_target = Iterable_Aggregator(train_original_target, p.seed)\n",
    "val_original_target = Iterable_Aggregator(val_original_target, p.seed)\n",
    "test_original_target = Iterable_Aggregator(test_original_target, p.seed)\n",
    "\n",
    "# For CNN We only use X and Y. And we only train on the source.\n",
    "# Properly form the data using a transform lambda and Lazy_Iterable_Wrapper. Finally wrap them in a dataloader\n",
    "\n",
    "transform_lambda = lambda ex: ex[1] # Original is (<domain>, <episode>) so we strip down to episode only\n",
    "\n",
    "train_processed_source = Lazy_Iterable_Wrapper(train_original_source, transform_lambda)\n",
    "val_processed_source   = Lazy_Iterable_Wrapper(val_original_source, transform_lambda)\n",
    "test_processed_source  = Lazy_Iterable_Wrapper(test_original_source, transform_lambda)\n",
    "\n",
    "train_processed_target = Lazy_Iterable_Wrapper(train_original_target, transform_lambda)\n",
    "val_processed_target   = Lazy_Iterable_Wrapper(val_original_target, transform_lambda)\n",
    "test_processed_target  = Lazy_Iterable_Wrapper(test_original_target, transform_lambda)\n",
    "\n",
    "datasets = EasyDict({\n",
    "    \"source\": {\n",
    "        \"original\": {\"train\":train_original_source, \"val\":val_original_source, \"test\":test_original_source},\n",
    "        \"processed\": {\"train\":train_processed_source, \"val\":val_processed_source, \"test\":test_processed_source}\n",
    "    },\n",
    "    \"target\": {\n",
    "        \"original\": {\"train\":train_original_target, \"val\":val_original_target, \"test\":test_original_target},\n",
    "        \"processed\": {\"train\":train_processed_target, \"val\":val_processed_target, \"test\":test_processed_target}\n",
    "    },\n",
    "})"
   ]
  },
  {
   "cell_type": "code",
   "execution_count": 20,
   "id": "5b3c01fc",
   "metadata": {
    "execution": {
     "iopub.execute_input": "2022-03-23T15:29:46.659966Z",
     "iopub.status.busy": "2022-03-23T15:29:46.659722Z",
     "iopub.status.idle": "2022-03-23T15:30:12.123483Z",
     "shell.execute_reply": "2022-03-23T15:30:12.123710Z"
    },
    "papermill": {
     "duration": 25.48063,
     "end_time": "2022-03-23T15:30:12.123790",
     "exception": false,
     "start_time": "2022-03-23T15:29:46.643160",
     "status": "completed"
    },
    "tags": []
   },
   "outputs": [
    {
     "name": "stdout",
     "output_type": "stream",
     "text": [
      "{'ORACLE.run2_20', 'ORACLE.run2_32', 'ORACLE.run2_44', 'ORACLE.run2_38', 'ORACLE.run2_50', 'ORACLE.run2_26', 'ORACLE.run2_8', 'ORACLE.run2_14'}\n"
     ]
    },
    {
     "name": "stdout",
     "output_type": "stream",
     "text": [
      "{'ORACLE.run1_38', 'ORACLE.run1_32', 'ORACLE.run1_20', 'ORACLE.run1_14', 'ORACLE.run1_44', 'ORACLE.run1_50', 'ORACLE.run1_8', 'ORACLE.run1_26'}\n"
     ]
    },
    {
     "name": "stdout",
     "output_type": "stream",
     "text": [
      "tensor([[[-0.6014,  0.2907,  0.4912,  ..., -1.4034, -2.0549, -0.6115],\n",
      "         [-0.4711,  0.1002, -0.4711,  ..., -0.3208,  0.2005,  0.8420]],\n",
      "\n",
      "        [[ 0.9001, -0.2436,  0.6989,  ..., -0.6672,  1.0802,  0.0212],\n",
      "         [-1.4084, -0.6460, -0.2012,  ..., -0.7625, -0.0847,  0.2436]],\n",
      "\n",
      "        [[ 0.1969, -0.4976,  0.7152,  ...,  0.1037,  0.1348, -0.8189],\n",
      "         [ 1.3164, -0.4043,  0.7463,  ...,  0.6634, -0.1037,  0.3939]],\n",
      "\n",
      "        ...,\n",
      "\n",
      "        [[-0.3715, -0.5175, -0.9421,  ..., -0.3384, -0.2057,  1.1212],\n",
      "         [-0.1460, -0.9819,  0.4511,  ..., -0.3516, -1.0084, -0.1261]],\n",
      "\n",
      "        [[-0.4882,  0.4236,  0.7897,  ...,  1.0123, -0.2082, -1.6799],\n",
      "         [-0.1077,  0.5313, -0.3446,  ...,  0.0359,  0.3446, -0.7036]],\n",
      "\n",
      "        [[-1.0646, -0.0139, -0.8976,  ..., -0.6262, -0.4871, -1.2316],\n",
      "         [-1.0715, -0.3757, -1.1689,  ...,  0.0557,  0.4940,  0.0139]]])\n"
     ]
    }
   ],
   "source": [
    "from steves_utils.transforms import get_average_magnitude, get_average_power\n",
    "\n",
    "print(set([u for u,_ in val_original_source]))\n",
    "print(set([u for u,_ in val_original_target]))\n",
    "\n",
    "s_x, s_y, q_x, q_y, _ = next(iter(train_processed_source))\n",
    "print(s_x)\n",
    "\n",
    "# for ds in [\n",
    "#     train_processed_source,\n",
    "#     val_processed_source,\n",
    "#     test_processed_source,\n",
    "#     train_processed_target,\n",
    "#     val_processed_target,\n",
    "#     test_processed_target\n",
    "# ]:\n",
    "#     for s_x, s_y, q_x, q_y, _ in ds:\n",
    "#         for X in (s_x, q_x):\n",
    "#             for x in X:\n",
    "#                 assert np.isclose(get_average_magnitude(x.numpy()), 1.0)\n",
    "#                 assert np.isclose(get_average_power(x.numpy()), 1.0)\n",
    "                "
   ]
  },
  {
   "cell_type": "code",
   "execution_count": 21,
   "id": "bbdacba1",
   "metadata": {
    "execution": {
     "iopub.execute_input": "2022-03-23T15:30:12.156638Z",
     "iopub.status.busy": "2022-03-23T15:30:12.156374Z",
     "iopub.status.idle": "2022-03-23T15:30:12.211866Z",
     "shell.execute_reply": "2022-03-23T15:30:12.211488Z"
    },
    "papermill": {
     "duration": 0.07303,
     "end_time": "2022-03-23T15:30:12.211960",
     "exception": false,
     "start_time": "2022-03-23T15:30:12.138930",
     "status": "completed"
    },
    "tags": []
   },
   "outputs": [
    {
     "name": "stdout",
     "output_type": "stream",
     "text": [
      "(2, 256)\n"
     ]
    }
   ],
   "source": [
    "###################################\n",
    "# Build the model\n",
    "###################################\n",
    "# easfsl only wants a tuple for the shape\n",
    "model = Steves_Prototypical_Network(x_net, device=p.device, x_shape=tuple(p.x_shape))\n",
    "optimizer = Adam(params=model.parameters(), lr=p.lr)"
   ]
  },
  {
   "cell_type": "code",
   "execution_count": 22,
   "id": "22b39ac5",
   "metadata": {
    "execution": {
     "iopub.execute_input": "2022-03-23T15:30:12.248412Z",
     "iopub.status.busy": "2022-03-23T15:30:12.248162Z",
     "iopub.status.idle": "2022-03-23T18:46:50.607326Z",
     "shell.execute_reply": "2022-03-23T18:46:50.607095Z"
    },
    "papermill": {
     "duration": 11798.375949,
     "end_time": "2022-03-23T18:46:50.607384",
     "exception": false,
     "start_time": "2022-03-23T15:30:12.231435",
     "status": "completed"
    },
    "tags": []
   },
   "outputs": [
    {
     "name": "stdout",
     "output_type": "stream",
     "text": [
      "epoch: 1, [batch: 1 / 33600], examples_per_second: 9.6801, train_label_loss: 2.7852, \n"
     ]
    },
    {
     "name": "stdout",
     "output_type": "stream",
     "text": [
      "epoch: 1, [batch: 3360 / 33600], examples_per_second: 3200.6217, train_label_loss: 1.1602, \n"
     ]
    },
    {
     "name": "stdout",
     "output_type": "stream",
     "text": [
      "epoch: 1, [batch: 6720 / 33600], examples_per_second: 3204.5563, train_label_loss: 1.8926, \n"
     ]
    },
    {
     "name": "stdout",
     "output_type": "stream",
     "text": [
      "epoch: 1, [batch: 10080 / 33600], examples_per_second: 3210.8851, train_label_loss: 0.7840, \n"
     ]
    },
    {
     "name": "stdout",
     "output_type": "stream",
     "text": [
      "epoch: 1, [batch: 13440 / 33600], examples_per_second: 3200.6462, train_label_loss: 0.8636, \n"
     ]
    },
    {
     "name": "stdout",
     "output_type": "stream",
     "text": [
      "epoch: 1, [batch: 16800 / 33600], examples_per_second: 3213.9602, train_label_loss: 1.2018, \n"
     ]
    },
    {
     "name": "stdout",
     "output_type": "stream",
     "text": [
      "epoch: 1, [batch: 20160 / 33600], examples_per_second: 3222.3792, train_label_loss: 0.6397, \n"
     ]
    },
    {
     "name": "stdout",
     "output_type": "stream",
     "text": [
      "epoch: 1, [batch: 23520 / 33600], examples_per_second: 3208.1925, train_label_loss: 0.5620, \n"
     ]
    },
    {
     "name": "stdout",
     "output_type": "stream",
     "text": [
      "epoch: 1, [batch: 26880 / 33600], examples_per_second: 3218.7071, train_label_loss: 0.6134, \n"
     ]
    },
    {
     "name": "stdout",
     "output_type": "stream",
     "text": [
      "epoch: 1, [batch: 30240 / 33600], examples_per_second: 3238.5863, train_label_loss: 1.2393, \n"
     ]
    },
    {
     "name": "stdout",
     "output_type": "stream",
     "text": [
      "=============================================================\n",
      "epoch: 1, source_val_acc_label: 0.6353, target_val_acc_label: 0.6449, source_val_label_loss: 0.9834, target_val_label_loss: 0.9520, \n",
      "=============================================================\n"
     ]
    },
    {
     "name": "stdout",
     "output_type": "stream",
     "text": [
      "New best\n"
     ]
    },
    {
     "name": "stdout",
     "output_type": "stream",
     "text": [
      "epoch: 2, [batch: 1 / 33600], examples_per_second: 0.9687, train_label_loss: 0.8622, \n"
     ]
    },
    {
     "name": "stdout",
     "output_type": "stream",
     "text": [
      "epoch: 2, [batch: 3360 / 33600], examples_per_second: 3252.7909, train_label_loss: 0.6051, \n"
     ]
    },
    {
     "name": "stdout",
     "output_type": "stream",
     "text": [
      "epoch: 2, [batch: 6720 / 33600], examples_per_second: 3249.0752, train_label_loss: 1.3875, \n"
     ]
    },
    {
     "name": "stdout",
     "output_type": "stream",
     "text": [
      "epoch: 2, [batch: 10080 / 33600], examples_per_second: 3263.7534, train_label_loss: 1.1262, \n"
     ]
    },
    {
     "name": "stdout",
     "output_type": "stream",
     "text": [
      "epoch: 2, [batch: 13440 / 33600], examples_per_second: 3260.4280, train_label_loss: 0.5465, \n"
     ]
    },
    {
     "name": "stdout",
     "output_type": "stream",
     "text": [
      "epoch: 2, [batch: 16800 / 33600], examples_per_second: 3265.3224, train_label_loss: 1.1464, \n"
     ]
    },
    {
     "name": "stdout",
     "output_type": "stream",
     "text": [
      "epoch: 2, [batch: 20160 / 33600], examples_per_second: 3267.9135, train_label_loss: 1.2267, \n"
     ]
    },
    {
     "name": "stdout",
     "output_type": "stream",
     "text": [
      "epoch: 2, [batch: 23520 / 33600], examples_per_second: 3251.0148, train_label_loss: 0.4418, \n"
     ]
    },
    {
     "name": "stdout",
     "output_type": "stream",
     "text": [
      "epoch: 2, [batch: 26880 / 33600], examples_per_second: 3263.6625, train_label_loss: 1.0115, \n"
     ]
    },
    {
     "name": "stdout",
     "output_type": "stream",
     "text": [
      "epoch: 2, [batch: 30240 / 33600], examples_per_second: 3276.4489, train_label_loss: 1.0598, \n"
     ]
    },
    {
     "name": "stdout",
     "output_type": "stream",
     "text": [
      "=============================================================\n",
      "epoch: 2, source_val_acc_label: 0.6554, target_val_acc_label: 0.6690, source_val_label_loss: 0.9283, target_val_label_loss: 0.8847, \n",
      "=============================================================\n"
     ]
    },
    {
     "name": "stdout",
     "output_type": "stream",
     "text": [
      "New best\n"
     ]
    },
    {
     "name": "stdout",
     "output_type": "stream",
     "text": [
      "epoch: 3, [batch: 1 / 33600], examples_per_second: 0.9687, train_label_loss: 0.5056, \n"
     ]
    },
    {
     "name": "stdout",
     "output_type": "stream",
     "text": [
      "epoch: 3, [batch: 3360 / 33600], examples_per_second: 3254.0408, train_label_loss: 0.6908, \n"
     ]
    },
    {
     "name": "stdout",
     "output_type": "stream",
     "text": [
      "epoch: 3, [batch: 6720 / 33600], examples_per_second: 3267.7228, train_label_loss: 1.2061, \n"
     ]
    },
    {
     "name": "stdout",
     "output_type": "stream",
     "text": [
      "epoch: 3, [batch: 10080 / 33600], examples_per_second: 3254.6173, train_label_loss: 0.8910, \n"
     ]
    },
    {
     "name": "stdout",
     "output_type": "stream",
     "text": [
      "epoch: 3, [batch: 13440 / 33600], examples_per_second: 3245.1331, train_label_loss: 0.4523, \n"
     ]
    },
    {
     "name": "stdout",
     "output_type": "stream",
     "text": [
      "epoch: 3, [batch: 16800 / 33600], examples_per_second: 3265.3271, train_label_loss: 1.2357, \n"
     ]
    },
    {
     "name": "stdout",
     "output_type": "stream",
     "text": [
      "epoch: 3, [batch: 20160 / 33600], examples_per_second: 3241.0599, train_label_loss: 1.1999, \n"
     ]
    },
    {
     "name": "stdout",
     "output_type": "stream",
     "text": [
      "epoch: 3, [batch: 23520 / 33600], examples_per_second: 3251.7893, train_label_loss: 0.9418, \n"
     ]
    },
    {
     "name": "stdout",
     "output_type": "stream",
     "text": [
      "epoch: 3, [batch: 26880 / 33600], examples_per_second: 3262.7400, train_label_loss: 1.1962, \n"
     ]
    },
    {
     "name": "stdout",
     "output_type": "stream",
     "text": [
      "epoch: 3, [batch: 30240 / 33600], examples_per_second: 3265.1176, train_label_loss: 0.4588, \n"
     ]
    },
    {
     "name": "stdout",
     "output_type": "stream",
     "text": [
      "=============================================================\n",
      "epoch: 3, source_val_acc_label: 0.6783, target_val_acc_label: 0.6906, source_val_label_loss: 0.8749, target_val_label_loss: 0.8276, \n",
      "=============================================================\n"
     ]
    },
    {
     "name": "stdout",
     "output_type": "stream",
     "text": [
      "New best\n"
     ]
    },
    {
     "name": "stdout",
     "output_type": "stream",
     "text": [
      "epoch: 4, [batch: 1 / 33600], examples_per_second: 0.9747, train_label_loss: 0.8449, \n"
     ]
    },
    {
     "name": "stdout",
     "output_type": "stream",
     "text": [
      "epoch: 4, [batch: 3360 / 33600], examples_per_second: 3241.9286, train_label_loss: 0.7001, \n"
     ]
    },
    {
     "name": "stdout",
     "output_type": "stream",
     "text": [
      "epoch: 4, [batch: 6720 / 33600], examples_per_second: 3261.8567, train_label_loss: 1.5097, \n"
     ]
    },
    {
     "name": "stdout",
     "output_type": "stream",
     "text": [
      "epoch: 4, [batch: 10080 / 33600], examples_per_second: 3261.5024, train_label_loss: 0.7697, \n"
     ]
    },
    {
     "name": "stdout",
     "output_type": "stream",
     "text": [
      "epoch: 4, [batch: 13440 / 33600], examples_per_second: 3248.9283, train_label_loss: 0.6844, \n"
     ]
    },
    {
     "name": "stdout",
     "output_type": "stream",
     "text": [
      "epoch: 4, [batch: 16800 / 33600], examples_per_second: 3266.7145, train_label_loss: 0.7888, \n"
     ]
    },
    {
     "name": "stdout",
     "output_type": "stream",
     "text": [
      "epoch: 4, [batch: 20160 / 33600], examples_per_second: 3270.5484, train_label_loss: 0.4649, \n"
     ]
    },
    {
     "name": "stdout",
     "output_type": "stream",
     "text": [
      "epoch: 4, [batch: 23520 / 33600], examples_per_second: 3263.8115, train_label_loss: 0.4410, \n"
     ]
    },
    {
     "name": "stdout",
     "output_type": "stream",
     "text": [
      "epoch: 4, [batch: 26880 / 33600], examples_per_second: 3263.8368, train_label_loss: 0.9849, \n"
     ]
    },
    {
     "name": "stdout",
     "output_type": "stream",
     "text": [
      "epoch: 4, [batch: 30240 / 33600], examples_per_second: 3272.8244, train_label_loss: 0.8113, \n"
     ]
    },
    {
     "name": "stdout",
     "output_type": "stream",
     "text": [
      "=============================================================\n",
      "epoch: 4, source_val_acc_label: 0.7049, target_val_acc_label: 0.7130, source_val_label_loss: 0.8241, target_val_label_loss: 0.7805, \n",
      "=============================================================\n"
     ]
    },
    {
     "name": "stdout",
     "output_type": "stream",
     "text": [
      "New best\n"
     ]
    },
    {
     "name": "stdout",
     "output_type": "stream",
     "text": [
      "epoch: 5, [batch: 1 / 33600], examples_per_second: 0.9740, train_label_loss: 1.2311, \n"
     ]
    },
    {
     "name": "stdout",
     "output_type": "stream",
     "text": [
      "epoch: 5, [batch: 3360 / 33600], examples_per_second: 3249.7175, train_label_loss: 1.1239, \n"
     ]
    },
    {
     "name": "stdout",
     "output_type": "stream",
     "text": [
      "epoch: 5, [batch: 6720 / 33600], examples_per_second: 3249.5610, train_label_loss: 0.5057, \n"
     ]
    },
    {
     "name": "stdout",
     "output_type": "stream",
     "text": [
      "epoch: 5, [batch: 10080 / 33600], examples_per_second: 3264.6527, train_label_loss: 0.7016, \n"
     ]
    },
    {
     "name": "stdout",
     "output_type": "stream",
     "text": [
      "epoch: 5, [batch: 13440 / 33600], examples_per_second: 3255.5980, train_label_loss: 0.7841, \n"
     ]
    },
    {
     "name": "stdout",
     "output_type": "stream",
     "text": [
      "epoch: 5, [batch: 16800 / 33600], examples_per_second: 3268.6537, train_label_loss: 0.4650, \n"
     ]
    },
    {
     "name": "stdout",
     "output_type": "stream",
     "text": [
      "epoch: 5, [batch: 20160 / 33600], examples_per_second: 3267.0727, train_label_loss: 0.7688, \n"
     ]
    },
    {
     "name": "stdout",
     "output_type": "stream",
     "text": [
      "epoch: 5, [batch: 23520 / 33600], examples_per_second: 3257.6242, train_label_loss: 0.8384, \n"
     ]
    },
    {
     "name": "stdout",
     "output_type": "stream",
     "text": [
      "epoch: 5, [batch: 26880 / 33600], examples_per_second: 3257.7058, train_label_loss: 0.3792, \n"
     ]
    },
    {
     "name": "stdout",
     "output_type": "stream",
     "text": [
      "epoch: 5, [batch: 30240 / 33600], examples_per_second: 3266.7136, train_label_loss: 0.9892, \n"
     ]
    },
    {
     "name": "stdout",
     "output_type": "stream",
     "text": [
      "=============================================================\n",
      "epoch: 5, source_val_acc_label: 0.7160, target_val_acc_label: 0.7210, source_val_label_loss: 0.7975, target_val_label_loss: 0.7653, \n",
      "=============================================================\n"
     ]
    },
    {
     "name": "stdout",
     "output_type": "stream",
     "text": [
      "New best\n"
     ]
    },
    {
     "name": "stdout",
     "output_type": "stream",
     "text": [
      "epoch: 6, [batch: 1 / 33600], examples_per_second: 0.9736, train_label_loss: 0.3314, \n"
     ]
    },
    {
     "name": "stdout",
     "output_type": "stream",
     "text": [
      "epoch: 6, [batch: 3360 / 33600], examples_per_second: 3246.4146, train_label_loss: 0.9600, \n"
     ]
    },
    {
     "name": "stdout",
     "output_type": "stream",
     "text": [
      "epoch: 6, [batch: 6720 / 33600], examples_per_second: 3264.4023, train_label_loss: 0.3876, \n"
     ]
    },
    {
     "name": "stdout",
     "output_type": "stream",
     "text": [
      "epoch: 6, [batch: 10080 / 33600], examples_per_second: 3259.0501, train_label_loss: 0.1969, \n"
     ]
    },
    {
     "name": "stdout",
     "output_type": "stream",
     "text": [
      "epoch: 6, [batch: 13440 / 33600], examples_per_second: 3252.1509, train_label_loss: 0.5740, \n"
     ]
    },
    {
     "name": "stdout",
     "output_type": "stream",
     "text": [
      "epoch: 6, [batch: 16800 / 33600], examples_per_second: 3262.7516, train_label_loss: 0.7366, \n"
     ]
    },
    {
     "name": "stdout",
     "output_type": "stream",
     "text": [
      "epoch: 6, [batch: 20160 / 33600], examples_per_second: 3260.1969, train_label_loss: 0.8599, \n"
     ]
    },
    {
     "name": "stdout",
     "output_type": "stream",
     "text": [
      "epoch: 6, [batch: 23520 / 33600], examples_per_second: 3258.9276, train_label_loss: 0.3581, \n"
     ]
    },
    {
     "name": "stdout",
     "output_type": "stream",
     "text": [
      "epoch: 6, [batch: 26880 / 33600], examples_per_second: 3267.8241, train_label_loss: 0.6899, \n"
     ]
    },
    {
     "name": "stdout",
     "output_type": "stream",
     "text": [
      "epoch: 6, [batch: 30240 / 33600], examples_per_second: 3269.6030, train_label_loss: 0.4811, \n"
     ]
    },
    {
     "name": "stdout",
     "output_type": "stream",
     "text": [
      "=============================================================\n",
      "epoch: 6, source_val_acc_label: 0.7231, target_val_acc_label: 0.7254, source_val_label_loss: 0.7837, target_val_label_loss: 0.7594, \n",
      "=============================================================\n"
     ]
    },
    {
     "name": "stdout",
     "output_type": "stream",
     "text": [
      "New best\n"
     ]
    },
    {
     "name": "stdout",
     "output_type": "stream",
     "text": [
      "epoch: 7, [batch: 1 / 33600], examples_per_second: 0.9690, train_label_loss: 0.2262, \n"
     ]
    },
    {
     "name": "stdout",
     "output_type": "stream",
     "text": [
      "epoch: 7, [batch: 3360 / 33600], examples_per_second: 3250.6420, train_label_loss: 0.6637, \n"
     ]
    },
    {
     "name": "stdout",
     "output_type": "stream",
     "text": [
      "epoch: 7, [batch: 6720 / 33600], examples_per_second: 3259.4550, train_label_loss: 0.5225, \n"
     ]
    },
    {
     "name": "stdout",
     "output_type": "stream",
     "text": [
      "epoch: 7, [batch: 10080 / 33600], examples_per_second: 3261.0364, train_label_loss: 1.1350, \n"
     ]
    },
    {
     "name": "stdout",
     "output_type": "stream",
     "text": [
      "epoch: 7, [batch: 13440 / 33600], examples_per_second: 3257.9506, train_label_loss: 0.2828, \n"
     ]
    },
    {
     "name": "stdout",
     "output_type": "stream",
     "text": [
      "epoch: 7, [batch: 16800 / 33600], examples_per_second: 3267.3782, train_label_loss: 0.3110, \n"
     ]
    },
    {
     "name": "stdout",
     "output_type": "stream",
     "text": [
      "epoch: 7, [batch: 20160 / 33600], examples_per_second: 3264.6216, train_label_loss: 0.7929, \n"
     ]
    },
    {
     "name": "stdout",
     "output_type": "stream",
     "text": [
      "epoch: 7, [batch: 23520 / 33600], examples_per_second: 3247.4683, train_label_loss: 0.3277, \n"
     ]
    },
    {
     "name": "stdout",
     "output_type": "stream",
     "text": [
      "epoch: 7, [batch: 26880 / 33600], examples_per_second: 3256.1805, train_label_loss: 0.3612, \n"
     ]
    },
    {
     "name": "stdout",
     "output_type": "stream",
     "text": [
      "epoch: 7, [batch: 30240 / 33600], examples_per_second: 3261.9670, train_label_loss: 0.5217, \n"
     ]
    },
    {
     "name": "stdout",
     "output_type": "stream",
     "text": [
      "=============================================================\n",
      "epoch: 7, source_val_acc_label: 0.7210, target_val_acc_label: 0.7240, source_val_label_loss: 0.7747, target_val_label_loss: 0.7529, \n",
      "=============================================================\n"
     ]
    },
    {
     "name": "stdout",
     "output_type": "stream",
     "text": [
      "epoch: 8, [batch: 1 / 33600], examples_per_second: 0.9692, train_label_loss: 0.2972, \n"
     ]
    },
    {
     "name": "stdout",
     "output_type": "stream",
     "text": [
      "epoch: 8, [batch: 3360 / 33600], examples_per_second: 3246.2214, train_label_loss: 0.3525, \n"
     ]
    },
    {
     "name": "stdout",
     "output_type": "stream",
     "text": [
      "epoch: 8, [batch: 6720 / 33600], examples_per_second: 3258.8829, train_label_loss: 0.8317, \n"
     ]
    },
    {
     "name": "stdout",
     "output_type": "stream",
     "text": [
      "epoch: 8, [batch: 10080 / 33600], examples_per_second: 3266.8423, train_label_loss: 0.7288, \n"
     ]
    },
    {
     "name": "stdout",
     "output_type": "stream",
     "text": [
      "epoch: 8, [batch: 13440 / 33600], examples_per_second: 3247.3427, train_label_loss: 0.6592, \n"
     ]
    },
    {
     "name": "stdout",
     "output_type": "stream",
     "text": [
      "epoch: 8, [batch: 16800 / 33600], examples_per_second: 3264.8719, train_label_loss: 0.1807, \n"
     ]
    },
    {
     "name": "stdout",
     "output_type": "stream",
     "text": [
      "epoch: 8, [batch: 20160 / 33600], examples_per_second: 3263.1449, train_label_loss: 0.3882, \n"
     ]
    },
    {
     "name": "stdout",
     "output_type": "stream",
     "text": [
      "epoch: 8, [batch: 23520 / 33600], examples_per_second: 3256.6365, train_label_loss: 0.6270, \n"
     ]
    },
    {
     "name": "stdout",
     "output_type": "stream",
     "text": [
      "epoch: 8, [batch: 26880 / 33600], examples_per_second: 3260.2300, train_label_loss: 0.3898, \n"
     ]
    },
    {
     "name": "stdout",
     "output_type": "stream",
     "text": [
      "epoch: 8, [batch: 30240 / 33600], examples_per_second: 3264.9651, train_label_loss: 0.4175, \n"
     ]
    },
    {
     "name": "stdout",
     "output_type": "stream",
     "text": [
      "=============================================================\n",
      "epoch: 8, source_val_acc_label: 0.7254, target_val_acc_label: 0.7264, source_val_label_loss: 0.7848, target_val_label_loss: 0.7718, \n",
      "=============================================================\n"
     ]
    },
    {
     "name": "stdout",
     "output_type": "stream",
     "text": [
      "New best\n"
     ]
    },
    {
     "name": "stdout",
     "output_type": "stream",
     "text": [
      "epoch: 9, [batch: 1 / 33600], examples_per_second: 0.9715, train_label_loss: 0.7238, \n"
     ]
    },
    {
     "name": "stdout",
     "output_type": "stream",
     "text": [
      "epoch: 9, [batch: 3360 / 33600], examples_per_second: 3256.6024, train_label_loss: 0.4296, \n"
     ]
    },
    {
     "name": "stdout",
     "output_type": "stream",
     "text": [
      "epoch: 9, [batch: 6720 / 33600], examples_per_second: 3250.0312, train_label_loss: 0.4400, \n"
     ]
    },
    {
     "name": "stdout",
     "output_type": "stream",
     "text": [
      "epoch: 9, [batch: 10080 / 33600], examples_per_second: 3263.7843, train_label_loss: 0.3722, \n"
     ]
    },
    {
     "name": "stdout",
     "output_type": "stream",
     "text": [
      "epoch: 9, [batch: 13440 / 33600], examples_per_second: 3256.5314, train_label_loss: 0.4322, \n"
     ]
    },
    {
     "name": "stdout",
     "output_type": "stream",
     "text": [
      "epoch: 9, [batch: 16800 / 33600], examples_per_second: 3270.0833, train_label_loss: 0.8871, \n"
     ]
    },
    {
     "name": "stdout",
     "output_type": "stream",
     "text": [
      "epoch: 9, [batch: 20160 / 33600], examples_per_second: 3256.8864, train_label_loss: 0.4950, \n"
     ]
    },
    {
     "name": "stdout",
     "output_type": "stream",
     "text": [
      "epoch: 9, [batch: 23520 / 33600], examples_per_second: 3250.3016, train_label_loss: 0.5272, \n"
     ]
    },
    {
     "name": "stdout",
     "output_type": "stream",
     "text": [
      "epoch: 9, [batch: 26880 / 33600], examples_per_second: 3266.6128, train_label_loss: 0.4100, \n"
     ]
    },
    {
     "name": "stdout",
     "output_type": "stream",
     "text": [
      "epoch: 9, [batch: 30240 / 33600], examples_per_second: 3269.2186, train_label_loss: 0.2521, \n"
     ]
    },
    {
     "name": "stdout",
     "output_type": "stream",
     "text": [
      "=============================================================\n",
      "epoch: 9, source_val_acc_label: 0.7279, target_val_acc_label: 0.7284, source_val_label_loss: 0.7967, target_val_label_loss: 0.7841, \n",
      "=============================================================\n"
     ]
    },
    {
     "name": "stdout",
     "output_type": "stream",
     "text": [
      "New best\n"
     ]
    },
    {
     "name": "stdout",
     "output_type": "stream",
     "text": [
      "epoch: 10, [batch: 1 / 33600], examples_per_second: 0.9752, train_label_loss: 0.1767, \n"
     ]
    },
    {
     "name": "stdout",
     "output_type": "stream",
     "text": [
      "epoch: 10, [batch: 3360 / 33600], examples_per_second: 3255.1875, train_label_loss: 0.3642, \n"
     ]
    },
    {
     "name": "stdout",
     "output_type": "stream",
     "text": [
      "epoch: 10, [batch: 6720 / 33600], examples_per_second: 3260.6558, train_label_loss: 0.2422, \n"
     ]
    },
    {
     "name": "stdout",
     "output_type": "stream",
     "text": [
      "epoch: 10, [batch: 10080 / 33600], examples_per_second: 3267.9165, train_label_loss: 0.7088, \n"
     ]
    },
    {
     "name": "stdout",
     "output_type": "stream",
     "text": [
      "epoch: 10, [batch: 13440 / 33600], examples_per_second: 3251.0037, train_label_loss: 0.2941, \n"
     ]
    },
    {
     "name": "stdout",
     "output_type": "stream",
     "text": [
      "epoch: 10, [batch: 16800 / 33600], examples_per_second: 3266.4805, train_label_loss: 0.2445, \n"
     ]
    },
    {
     "name": "stdout",
     "output_type": "stream",
     "text": [
      "epoch: 10, [batch: 20160 / 33600], examples_per_second: 3267.4206, train_label_loss: 0.6054, \n"
     ]
    },
    {
     "name": "stdout",
     "output_type": "stream",
     "text": [
      "epoch: 10, [batch: 23520 / 33600], examples_per_second: 3257.7433, train_label_loss: 0.2225, \n"
     ]
    },
    {
     "name": "stdout",
     "output_type": "stream",
     "text": [
      "epoch: 10, [batch: 26880 / 33600], examples_per_second: 3268.2774, train_label_loss: 0.6192, \n"
     ]
    },
    {
     "name": "stdout",
     "output_type": "stream",
     "text": [
      "epoch: 10, [batch: 30240 / 33600], examples_per_second: 3263.1215, train_label_loss: 0.3714, \n"
     ]
    },
    {
     "name": "stdout",
     "output_type": "stream",
     "text": [
      "=============================================================\n",
      "epoch: 10, source_val_acc_label: 0.7245, target_val_acc_label: 0.7250, source_val_label_loss: 0.8088, target_val_label_loss: 0.7998, \n",
      "=============================================================\n"
     ]
    },
    {
     "name": "stdout",
     "output_type": "stream",
     "text": [
      "epoch: 11, [batch: 1 / 33600], examples_per_second: 0.9717, train_label_loss: 0.5523, \n"
     ]
    },
    {
     "name": "stdout",
     "output_type": "stream",
     "text": [
      "epoch: 11, [batch: 3360 / 33600], examples_per_second: 3256.4291, train_label_loss: 0.2452, \n"
     ]
    },
    {
     "name": "stdout",
     "output_type": "stream",
     "text": [
      "epoch: 11, [batch: 6720 / 33600], examples_per_second: 3259.9114, train_label_loss: 0.4143, \n"
     ]
    },
    {
     "name": "stdout",
     "output_type": "stream",
     "text": [
      "epoch: 11, [batch: 10080 / 33600], examples_per_second: 3252.2145, train_label_loss: 0.3200, \n"
     ]
    },
    {
     "name": "stdout",
     "output_type": "stream",
     "text": [
      "epoch: 11, [batch: 13440 / 33600], examples_per_second: 3244.5010, train_label_loss: 0.2490, \n"
     ]
    },
    {
     "name": "stdout",
     "output_type": "stream",
     "text": [
      "epoch: 11, [batch: 16800 / 33600], examples_per_second: 3257.6324, train_label_loss: 0.5358, \n"
     ]
    },
    {
     "name": "stdout",
     "output_type": "stream",
     "text": [
      "epoch: 11, [batch: 20160 / 33600], examples_per_second: 3268.8602, train_label_loss: 0.4394, \n"
     ]
    },
    {
     "name": "stdout",
     "output_type": "stream",
     "text": [
      "epoch: 11, [batch: 23520 / 33600], examples_per_second: 3247.5449, train_label_loss: 0.4639, \n"
     ]
    },
    {
     "name": "stdout",
     "output_type": "stream",
     "text": [
      "epoch: 11, [batch: 26880 / 33600], examples_per_second: 3266.6251, train_label_loss: 0.5709, \n"
     ]
    },
    {
     "name": "stdout",
     "output_type": "stream",
     "text": [
      "epoch: 11, [batch: 30240 / 33600], examples_per_second: 3266.6582, train_label_loss: 0.6755, \n"
     ]
    },
    {
     "name": "stdout",
     "output_type": "stream",
     "text": [
      "=============================================================\n",
      "epoch: 11, source_val_acc_label: 0.7243, target_val_acc_label: 0.7248, source_val_label_loss: 0.8297, target_val_label_loss: 0.8204, \n",
      "=============================================================\n"
     ]
    },
    {
     "name": "stdout",
     "output_type": "stream",
     "text": [
      "epoch: 12, [batch: 1 / 33600], examples_per_second: 0.9719, train_label_loss: 0.2833, \n"
     ]
    },
    {
     "name": "stdout",
     "output_type": "stream",
     "text": [
      "epoch: 12, [batch: 3360 / 33600], examples_per_second: 3245.0093, train_label_loss: 0.3079, \n"
     ]
    },
    {
     "name": "stdout",
     "output_type": "stream",
     "text": [
      "epoch: 12, [batch: 6720 / 33600], examples_per_second: 3264.1210, train_label_loss: 0.1889, \n"
     ]
    },
    {
     "name": "stdout",
     "output_type": "stream",
     "text": [
      "epoch: 12, [batch: 10080 / 33600], examples_per_second: 3267.0888, train_label_loss: 0.4891, \n"
     ]
    },
    {
     "name": "stdout",
     "output_type": "stream",
     "text": [
      "epoch: 12, [batch: 13440 / 33600], examples_per_second: 3252.7089, train_label_loss: 0.5258, \n"
     ]
    },
    {
     "name": "stdout",
     "output_type": "stream",
     "text": [
      "epoch: 12, [batch: 16800 / 33600], examples_per_second: 3266.4460, train_label_loss: 0.0282, \n"
     ]
    },
    {
     "name": "stdout",
     "output_type": "stream",
     "text": [
      "epoch: 12, [batch: 20160 / 33600], examples_per_second: 3271.5830, train_label_loss: 0.4447, \n"
     ]
    },
    {
     "name": "stdout",
     "output_type": "stream",
     "text": [
      "epoch: 12, [batch: 23520 / 33600], examples_per_second: 3261.3809, train_label_loss: 0.4514, \n"
     ]
    },
    {
     "name": "stdout",
     "output_type": "stream",
     "text": [
      "epoch: 12, [batch: 26880 / 33600], examples_per_second: 3260.3920, train_label_loss: 0.4801, \n"
     ]
    },
    {
     "name": "stdout",
     "output_type": "stream",
     "text": [
      "epoch: 12, [batch: 30240 / 33600], examples_per_second: 3271.6691, train_label_loss: 0.5378, \n"
     ]
    },
    {
     "name": "stdout",
     "output_type": "stream",
     "text": [
      "=============================================================\n",
      "epoch: 12, source_val_acc_label: 0.7247, target_val_acc_label: 0.7228, source_val_label_loss: 0.8551, target_val_label_loss: 0.8501, \n",
      "=============================================================\n"
     ]
    },
    {
     "name": "stdout",
     "output_type": "stream",
     "text": [
      "epoch: 13, [batch: 1 / 33600], examples_per_second: 0.9709, train_label_loss: 0.7827, \n"
     ]
    },
    {
     "name": "stdout",
     "output_type": "stream",
     "text": [
      "epoch: 13, [batch: 3360 / 33600], examples_per_second: 3259.9076, train_label_loss: 0.3528, \n"
     ]
    },
    {
     "name": "stdout",
     "output_type": "stream",
     "text": [
      "epoch: 13, [batch: 6720 / 33600], examples_per_second: 3258.9331, train_label_loss: 0.6120, \n"
     ]
    },
    {
     "name": "stdout",
     "output_type": "stream",
     "text": [
      "epoch: 13, [batch: 10080 / 33600], examples_per_second: 3251.4987, train_label_loss: 0.3697, \n"
     ]
    },
    {
     "name": "stdout",
     "output_type": "stream",
     "text": [
      "epoch: 13, [batch: 13440 / 33600], examples_per_second: 3250.0779, train_label_loss: 0.3646, \n"
     ]
    },
    {
     "name": "stdout",
     "output_type": "stream",
     "text": [
      "epoch: 13, [batch: 16800 / 33600], examples_per_second: 3263.4880, train_label_loss: 0.3319, \n"
     ]
    },
    {
     "name": "stdout",
     "output_type": "stream",
     "text": [
      "epoch: 13, [batch: 20160 / 33600], examples_per_second: 3270.7368, train_label_loss: 0.3949, \n"
     ]
    },
    {
     "name": "stdout",
     "output_type": "stream",
     "text": [
      "epoch: 13, [batch: 23520 / 33600], examples_per_second: 3261.0564, train_label_loss: 0.3893, \n"
     ]
    },
    {
     "name": "stdout",
     "output_type": "stream",
     "text": [
      "epoch: 13, [batch: 26880 / 33600], examples_per_second: 3261.1324, train_label_loss: 0.0877, \n"
     ]
    },
    {
     "name": "stdout",
     "output_type": "stream",
     "text": [
      "epoch: 13, [batch: 30240 / 33600], examples_per_second: 3268.9734, train_label_loss: 0.5544, \n"
     ]
    },
    {
     "name": "stdout",
     "output_type": "stream",
     "text": [
      "=============================================================\n",
      "epoch: 13, source_val_acc_label: 0.7179, target_val_acc_label: 0.7191, source_val_label_loss: 0.8678, target_val_label_loss: 0.8673, \n",
      "=============================================================\n"
     ]
    },
    {
     "name": "stdout",
     "output_type": "stream",
     "text": [
      "Patience (3) exhausted\n"
     ]
    }
   ],
   "source": [
    "###################################\n",
    "# train\n",
    "###################################\n",
    "jig = PTN_Train_Eval_Test_Jig(model, p.BEST_MODEL_PATH, p.device)\n",
    "\n",
    "jig.train(\n",
    "    train_iterable=datasets.source.processed.train,\n",
    "    source_val_iterable=datasets.source.processed.val,\n",
    "    target_val_iterable=datasets.target.processed.val,\n",
    "    num_epochs=p.n_epoch,\n",
    "    num_logs_per_epoch=p.NUM_LOGS_PER_EPOCH,\n",
    "    patience=p.patience,\n",
    "    optimizer=optimizer,\n",
    "    criteria_for_best=p.criteria_for_best,\n",
    ")"
   ]
  },
  {
   "cell_type": "code",
   "execution_count": 23,
   "id": "31e8fabf",
   "metadata": {
    "execution": {
     "iopub.execute_input": "2022-03-23T18:46:50.692068Z",
     "iopub.status.busy": "2022-03-23T18:46:50.691816Z",
     "iopub.status.idle": "2022-03-23T18:46:50.709728Z",
     "shell.execute_reply": "2022-03-23T18:46:50.709339Z"
    },
    "papermill": {
     "duration": 0.061534,
     "end_time": "2022-03-23T18:46:50.709818",
     "exception": false,
     "start_time": "2022-03-23T18:46:50.648284",
     "status": "completed"
    },
    "tags": []
   },
   "outputs": [],
   "source": [
    "total_experiment_time_secs = time.time() - start_time_secs"
   ]
  },
  {
   "cell_type": "code",
   "execution_count": 24,
   "id": "87b9595b",
   "metadata": {
    "execution": {
     "iopub.execute_input": "2022-03-23T18:46:50.801292Z",
     "iopub.status.busy": "2022-03-23T18:46:50.801028Z",
     "iopub.status.idle": "2022-03-23T18:54:53.614102Z",
     "shell.execute_reply": "2022-03-23T18:54:53.614498Z"
    },
    "papermill": {
     "duration": 482.859942,
     "end_time": "2022-03-23T18:54:53.614630",
     "exception": false,
     "start_time": "2022-03-23T18:46:50.754688",
     "status": "completed"
    },
    "tags": []
   },
   "outputs": [],
   "source": [
    "###################################\n",
    "# Evaluate the model\n",
    "###################################\n",
    "source_test_label_accuracy, source_test_label_loss = jig.test(datasets.source.processed.test)\n",
    "target_test_label_accuracy, target_test_label_loss = jig.test(datasets.target.processed.test)\n",
    "\n",
    "source_val_label_accuracy, source_val_label_loss = jig.test(datasets.source.processed.val)\n",
    "target_val_label_accuracy, target_val_label_loss = jig.test(datasets.target.processed.val)\n",
    "\n",
    "history = jig.get_history()\n",
    "\n",
    "total_epochs_trained = len(history[\"epoch_indices\"])\n",
    "\n",
    "val_dl = Iterable_Aggregator((datasets.source.original.val,datasets.target.original.val))\n",
    "\n",
    "confusion = ptn_confusion_by_domain_over_dataloader(model, p.device, val_dl)\n",
    "per_domain_accuracy = per_domain_accuracy_from_confusion(confusion)\n",
    "\n",
    "# Add a key to per_domain_accuracy for if it was a source domain\n",
    "for domain, accuracy in per_domain_accuracy.items():\n",
    "    per_domain_accuracy[domain] = {\n",
    "        \"accuracy\": accuracy,\n",
    "        \"source?\": domain in p.domains_source\n",
    "    }\n",
    "\n",
    "# Do an independent accuracy assesment JUST TO BE SURE!\n",
    "# _source_test_label_accuracy = independent_accuracy_assesment(model, datasets.source.processed.test, p.device)\n",
    "# _target_test_label_accuracy = independent_accuracy_assesment(model, datasets.target.processed.test, p.device)\n",
    "# _source_val_label_accuracy = independent_accuracy_assesment(model, datasets.source.processed.val, p.device)\n",
    "# _target_val_label_accuracy = independent_accuracy_assesment(model, datasets.target.processed.val, p.device)\n",
    "\n",
    "# assert(_source_test_label_accuracy == source_test_label_accuracy)\n",
    "# assert(_target_test_label_accuracy == target_test_label_accuracy)\n",
    "# assert(_source_val_label_accuracy == source_val_label_accuracy)\n",
    "# assert(_target_val_label_accuracy == target_val_label_accuracy)\n",
    "\n",
    "experiment = {\n",
    "    \"experiment_name\": p.experiment_name,\n",
    "    \"parameters\": dict(p),\n",
    "    \"results\": {\n",
    "        \"source_test_label_accuracy\": source_test_label_accuracy,\n",
    "        \"source_test_label_loss\": source_test_label_loss,\n",
    "        \"target_test_label_accuracy\": target_test_label_accuracy,\n",
    "        \"target_test_label_loss\": target_test_label_loss,\n",
    "        \"source_val_label_accuracy\": source_val_label_accuracy,\n",
    "        \"source_val_label_loss\": source_val_label_loss,\n",
    "        \"target_val_label_accuracy\": target_val_label_accuracy,\n",
    "        \"target_val_label_loss\": target_val_label_loss,\n",
    "        \"total_epochs_trained\": total_epochs_trained,\n",
    "        \"total_experiment_time_secs\": total_experiment_time_secs,\n",
    "        \"confusion\": confusion,\n",
    "        \"per_domain_accuracy\": per_domain_accuracy,\n",
    "    },\n",
    "    \"history\": history,\n",
    "    \"dataset_metrics\": get_dataset_metrics(datasets, \"ptn\"),\n",
    "}"
   ]
  },
  {
   "cell_type": "code",
   "execution_count": 25,
   "id": "54a21829",
   "metadata": {
    "execution": {
     "iopub.execute_input": "2022-03-23T18:54:53.705358Z",
     "iopub.status.busy": "2022-03-23T18:54:53.705102Z",
     "iopub.status.idle": "2022-03-23T18:54:53.830277Z",
     "shell.execute_reply": "2022-03-23T18:54:53.829813Z"
    },
    "papermill": {
     "duration": 0.168119,
     "end_time": "2022-03-23T18:54:53.830369",
     "exception": false,
     "start_time": "2022-03-23T18:54:53.662250",
     "status": "completed"
    },
    "tags": []
   },
   "outputs": [
    {
     "data": {
      "image/png": "[encoded data removed]",
      "text/plain": [
       "<Figure size 1080x504 with 1 Axes>"
      ]
     },
     "metadata": {
      "needs_background": "light"
     },
     "output_type": "display_data"
    }
   ],
   "source": [
    "ax = get_loss_curve(experiment)\n",
    "plt.show()"
   ]
  },
  {
   "cell_type": "code",
   "execution_count": 26,
   "id": "fd8a0f60",
   "metadata": {
    "execution": {
     "iopub.execute_input": "2022-03-23T18:54:53.953475Z",
     "iopub.status.busy": "2022-03-23T18:54:53.953227Z",
     "iopub.status.idle": "2022-03-23T18:54:54.094534Z",
     "shell.execute_reply": "2022-03-23T18:54:54.094848Z"
    },
    "papermill": {
     "duration": 0.218939,
     "end_time": "2022-03-23T18:54:54.094944",
     "exception": false,
     "start_time": "2022-03-23T18:54:53.876005",
     "status": "completed"
    },
    "tags": []
   },
   "outputs": [
    {
     "data": {
      "text/plain": [
       "<AxesSubplot:title={'center':'Results'}>"
      ]
     },
     "execution_count": 26,
     "metadata": {},
     "output_type": "execute_result"
    },
    {
     "data": {
      "image/png": "[encoded data removed]",
      "text/plain": [
       "<Figure size 1080x504 with 1 Axes>"
      ]
     },
     "metadata": {
      "needs_background": "light"
     },
     "output_type": "display_data"
    }
   ],
   "source": [
    "get_results_table(experiment)"
   ]
  },
  {
   "cell_type": "code",
   "execution_count": 27,
   "id": "cf8dc689",
   "metadata": {
    "execution": {
     "iopub.execute_input": "2022-03-23T18:54:54.187282Z",
     "iopub.status.busy": "2022-03-23T18:54:54.187030Z",
     "iopub.status.idle": "2022-03-23T18:54:54.349445Z",
     "shell.execute_reply": "2022-03-23T18:54:54.348991Z"
    },
    "papermill": {
     "duration": 0.20782,
     "end_time": "2022-03-23T18:54:54.349539",
     "exception": false,
     "start_time": "2022-03-23T18:54:54.141719",
     "status": "completed"
    },
    "tags": []
   },
   "outputs": [
    {
     "data": {
      "text/plain": [
       "<AxesSubplot:title={'center':'Per Domain Validation Accuracy'}, xlabel='domain'>"
      ]
     },
     "execution_count": 27,
     "metadata": {},
     "output_type": "execute_result"
    },
    {
     "data": {
      "image/png": "[encoded data removed]",
      "text/plain": [
       "<Figure size 1080x504 with 1 Axes>"
      ]
     },
     "metadata": {
      "needs_background": "light"
     },
     "output_type": "display_data"
    }
   ],
   "source": [
    "get_domain_accuracies(experiment)"
   ]
  },
  {
   "cell_type": "code",
   "execution_count": 28,
   "id": "a74ae082",
   "metadata": {
    "execution": {
     "iopub.execute_input": "2022-03-23T18:54:54.444775Z",
     "iopub.status.busy": "2022-03-23T18:54:54.444520Z",
     "iopub.status.idle": "2022-03-23T18:54:54.460847Z",
     "shell.execute_reply": "2022-03-23T18:54:54.461197Z"
    },
    "papermill": {
     "duration": 0.063639,
     "end_time": "2022-03-23T18:54:54.461306",
     "exception": false,
     "start_time": "2022-03-23T18:54:54.397667",
     "status": "completed"
    },
    "tags": []
   },
   "outputs": [
    {
     "name": "stdout",
     "output_type": "stream",
     "text": [
      "Source Test Label Accuracy: 0.7262174479166666 Target Test Label Accuracy: 0.7300455729166667\n",
      "Source Val Label Accuracy: 0.72787109375 Target Val Label Accuracy: 0.7283919270833333\n"
     ]
    }
   ],
   "source": [
    "print(\"Source Test Label Accuracy:\", experiment[\"results\"][\"source_test_label_accuracy\"], \"Target Test Label Accuracy:\", experiment[\"results\"][\"target_test_label_accuracy\"])\n",
    "print(\"Source Val Label Accuracy:\", experiment[\"results\"][\"source_val_label_accuracy\"], \"Target Val Label Accuracy:\", experiment[\"results\"][\"target_val_label_accuracy\"])"
   ]
  },
  {
   "cell_type": "code",
   "execution_count": 29,
   "id": "dacca602",
   "metadata": {
    "execution": {
     "iopub.execute_input": "2022-03-23T18:54:54.556916Z",
     "iopub.status.busy": "2022-03-23T18:54:54.556669Z",
     "iopub.status.idle": "2022-03-23T18:54:54.574222Z",
     "shell.execute_reply": "2022-03-23T18:54:54.573812Z"
    },
    "papermill": {
     "duration": 0.064137,
     "end_time": "2022-03-23T18:54:54.574315",
     "exception": false,
     "start_time": "2022-03-23T18:54:54.510178",
     "status": "completed"
    },
    "tags": [
     "experiment_json"
    ]
   },
   "outputs": [
    {
     "data": {
      "text/plain": [
       "'{\"experiment_name\": \"tl_1v2:oracle.run1-oracle.run2\", \"parameters\": {\"experiment_name\": \"tl_1v2:oracle.run1-oracle.run2\", \"device\": \"cuda\", \"lr\": 0.0001, \"n_shot\": 3, \"n_query\": 2, \"train_k_factor\": 3, \"val_k_factor\": 2, \"test_k_factor\": 2, \"torch_default_dtype\": \"torch.float32\", \"n_epoch\": 50, \"patience\": 3, \"criteria_for_best\": \"target_accuracy\", \"x_net\": [{\"class\": \"nnReshape\", \"kargs\": {\"shape\": [-1, 1, 2, 256]}}, {\"class\": \"Conv2d\", \"kargs\": {\"in_channels\": 1, \"out_channels\": 256, \"kernel_size\": [1, 7], \"bias\": false, \"padding\": [0, 3]}}, {\"class\": \"ReLU\", \"kargs\": {\"inplace\": true}}, {\"class\": \"BatchNorm2d\", \"kargs\": {\"num_features\": 256}}, {\"class\": \"Conv2d\", \"kargs\": {\"in_channels\": 256, \"out_channels\": 80, \"kernel_size\": [2, 7], \"bias\": true, \"padding\": [0, 3]}}, {\"class\": \"ReLU\", \"kargs\": {\"inplace\": true}}, {\"class\": \"BatchNorm2d\", \"kargs\": {\"num_features\": 80}}, {\"class\": \"Flatten\", \"kargs\": {}}, {\"class\": \"Linear\", \"kargs\": {\"in_features\": 20480, \"out_features\": 256}}, {\"class\": \"ReLU\", \"kargs\": {\"inplace\": true}}, {\"class\": \"BatchNorm1d\", \"kargs\": {\"num_features\": 256}}, {\"class\": \"Linear\", \"kargs\": {\"in_features\": 256, \"out_features\": 256}}], \"NUM_LOGS_PER_EPOCH\": 10, \"BEST_MODEL_PATH\": \"./best_model.pth\", \"n_way\": 16, \"datasets\": [{\"labels\": [\"3123D52\", \"3123D65\", \"3123D79\", \"3123D80\", \"3123D54\", \"3123D70\", \"3123D7B\", \"3123D89\", \"3123D58\", \"3123D76\", \"3123D7D\", \"3123EFE\", \"3123D64\", \"3123D78\", \"3123D7E\", \"3124E4A\"], \"domains\": [32, 38, 8, 44, 14, 50, 20, 26], \"num_examples_per_domain_per_label\": 10000, \"pickle_path\": \"/mnt/wd500GB/CSC500/csc500-main/datasets/oracle.Run1_10kExamples_stratified_ds.2022A.pkl\", \"source_or_target_dataset\": \"target\", \"x_transforms\": [\"unit_mag\"], \"episode_transforms\": [], \"domain_prefix\": \"ORACLE.run1_\"}, {\"labels\": [\"3123D52\", \"3123D65\", \"3123D79\", \"3123D80\", \"3123D54\", \"3123D70\", \"3123D7B\", \"3123D89\", \"3123D58\", \"3123D76\", \"3123D7D\", \"3123EFE\", \"3123D64\", \"3123D78\", \"3123D7E\", \"3124E4A\"], \"domains\": [32, 38, 8, 44, 14, 50, 20, 26], \"num_examples_per_domain_per_label\": 10000, \"pickle_path\": \"/mnt/wd500GB/CSC500/csc500-main/datasets/oracle.Run2_10kExamples_stratified_ds.2022A.pkl\", \"source_or_target_dataset\": \"source\", \"x_transforms\": [\"unit_mag\"], \"episode_transforms\": [], \"domain_prefix\": \"ORACLE.run2_\"}], \"dataset_seed\": 1337, \"seed\": 1337, \"x_shape\": [2, 256], \"domains_source\": [\"ORACLE.run2_32\", \"ORACLE.run2_38\", \"ORACLE.run2_8\", \"ORACLE.run2_44\", \"ORACLE.run2_14\", \"ORACLE.run2_50\", \"ORACLE.run2_20\", \"ORACLE.run2_26\"], \"domains_target\": [\"ORACLE.run1_32\", \"ORACLE.run1_38\", \"ORACLE.run1_8\", \"ORACLE.run1_44\", \"ORACLE.run1_14\", \"ORACLE.run1_50\", \"ORACLE.run1_20\", \"ORACLE.run1_26\"]}, \"results\": {\"source_test_label_accuracy\": 0.7262174479166666, \"source_test_label_loss\": 0.7967346906661987, \"target_test_label_accuracy\": 0.7300455729166667, \"target_test_label_loss\": 0.7811674475669861, \"source_val_label_accuracy\": 0.72787109375, \"source_val_label_loss\": 0.7966631054878235, \"target_val_label_accuracy\": 0.7283919270833333, \"target_val_label_loss\": 0.7841408252716064, \"total_epochs_trained\": 13, \"total_experiment_time_secs\": 11988.50659251213, \"confusion\": {\"ORACLE.run2_14\": {\"15\": {\"15\": 1190, \"7\": 9, \"13\": 1}, \"3\": {\"4\": 78, \"3\": 1002, \"14\": 26, \"5\": 63, \"2\": 24, \"1\": 5, \"0\": 2}, \"6\": {\"13\": 286, \"6\": 830, \"2\": 29, \"14\": 53, \"4\": 2}, \"1\": {\"1\": 1089, \"4\": 23, \"5\": 86, \"3\": 2}, \"8\": {\"8\": 1197, \"9\": 3}, \"10\": {\"10\": 1155, \"0\": 40, \"11\": 4, \"14\": 1}, \"9\": {\"9\": 1198, \"12\": 2}, \"13\": {\"13\": 865, \"6\": 304, \"2\": 23, \"14\": 6, \"4\": 2}, \"12\": {\"12\": 694, \"11\": 268, \"9\": 132, \"0\": 85, \"8\": 11, \"10\": 9, \"3\": 1}, \"5\": {\"4\": 300, \"2\": 76, \"5\": 633, \"1\": 96, \"3\": 93, \"14\": 2}, \"0\": {\"0\": 1183, \"10\": 17}, \"2\": {\"2\": 567, \"3\": 100, \"13\": 88, \"14\": 178, \"5\": 133, \"15\": 7, \"4\": 82, \"6\": 39, \"0\": 1, \"1\": 4, \"7\": 1}, \"11\": {\"11\": 1179, \"12\": 20, \"10\": 1}, \"14\": {\"0\": 3, \"14\": 899, \"2\": 155, \"6\": 80, \"4\": 5, \"13\": 5, \"3\": 46, \"5\": 7}, \"7\": {\"7\": 1196, \"15\": 4}, \"4\": {\"4\": 793, \"2\": 43, \"3\": 62, \"5\": 265, \"1\": 32, \"14\": 3, \"6\": 2}}, \"ORACLE.run2_20\": {\"3\": {\"3\": 504, \"9\": 131, \"2\": 186, \"12\": 48, \"5\": 126, \"7\": 156, \"4\": 22, \"8\": 3, \"10\": 14, \"1\": 3, \"15\": 5, \"0\": 2}, \"15\": {\"15\": 538, \"13\": 246, \"9\": 53, \"1\": 87, \"0\": 55, \"2\": 85, \"5\": 62, \"12\": 70, \"3\": 4}, \"8\": {\"14\": 128, \"8\": 807, \"7\": 132, \"4\": 51, \"10\": 32, \"6\": 34, \"3\": 6, \"5\": 8, \"2\": 1, \"0\": 1}, \"4\": {\"4\": 1083, \"8\": 16, \"3\": 15, \"12\": 35, \"0\": 11, \"5\": 24, \"7\": 1, \"10\": 8, \"14\": 2, \"2\": 1, \"1\": 2, \"9\": 2}, \"14\": {\"14\": 894, \"8\": 136, \"6\": 106, \"10\": 59, \"4\": 3, \"7\": 2}, \"0\": {\"0\": 908, \"12\": 52, \"4\": 22, \"5\": 72, \"1\": 63, \"15\": 68, \"13\": 12, \"3\": 1, \"9\": 1, \"8\": 1}, \"7\": {\"8\": 108, \"7\": 898, \"3\": 135, \"5\": 29, \"6\": 9, \"10\": 9, \"2\": 7, \"14\": 3, \"4\": 1, \"9\": 1}, \"6\": {\"6\": 1092, \"10\": 6, \"14\": 62, \"8\": 25, \"7\": 15}, \"10\": {\"10\": 1064, \"4\": 16, \"14\": 61, \"8\": 27, \"7\": 10, \"6\": 17, \"3\": 5}, \"5\": {\"5\": 532, \"3\": 140, \"12\": 82, \"1\": 13, \"0\": 104, \"4\": 25, \"9\": 34, \"2\": 136, \"15\": 76, \"7\": 38, \"13\": 10, \"8\": 10}, \"2\": {\"9\": 289, \"15\": 105, \"2\": 392, \"12\": 74, \"5\": 121, \"3\": 180, \"13\": 17, \"1\": 10, \"0\": 3, \"10\": 1, \"7\": 8}, \"12\": {\"12\": 470, \"1\": 258, \"5\": 95, \"15\": 80, \"9\": 126, \"4\": 32, \"2\": 61, \"0\": 43, \"3\": 33, \"13\": 2}, \"9\": {\"5\": 46, \"9\": 521, \"15\": 54, \"2\": 275, \"12\": 132, \"3\": 117, \"1\": 46, \"13\": 5, \"4\": 2, \"0\": 2}, \"1\": {\"1\": 682, \"12\": 243, \"4\": 11, \"15\": 129, \"9\": 38, \"0\": 66, \"2\": 9, \"13\": 10, \"5\": 8, \"3\": 4}, \"11\": {\"11\": 1197, \"13\": 2, \"2\": 1}, \"13\": {\"9\": 8, \"13\": 913, \"15\": 239, \"0\": 5, \"1\": 10, \"2\": 15, \"5\": 6, \"12\": 3, \"11\": 1}}, \"ORACLE.run2_38\": {\"5\": {\"10\": 16, \"5\": 490, \"8\": 386, \"7\": 139, \"15\": 140, \"1\": 1, \"13\": 19, \"3\": 9}, \"8\": {\"8\": 498, \"5\": 337, \"15\": 188, \"13\": 60, \"7\": 90, \"3\": 8, \"10\": 15, \"0\": 1, \"1\": 3}, \"11\": {\"14\": 50, \"11\": 1134, \"2\": 8, \"12\": 6, \"4\": 2}, \"1\": {\"1\": 1123, \"8\": 7, \"15\": 65, \"5\": 2, \"13\": 3}, \"10\": {\"10\": 693, \"5\": 28, \"7\": 364, \"8\": 37, \"0\": 13, \"3\": 31, \"13\": 29, \"4\": 3, \"15\": 2}, \"15\": {\"15\": 669, \"1\": 103, \"8\": 208, \"6\": 10, \"5\": 182, \"7\": 8, \"0\": 9, \"3\": 2, \"13\": 9}, \"3\": {\"13\": 177, \"3\": 583, \"0\": 226, \"8\": 46, \"10\": 60, \"7\": 26, \"15\": 15, \"5\": 20, \"9\": 34, \"6\": 11, \"1\": 2}, \"7\": {\"10\": 308, \"7\": 609, \"5\": 133, \"8\": 119, \"3\": 6, \"0\": 6, \"13\": 13, \"15\": 6}, \"4\": {\"4\": 1156, \"12\": 33, \"7\": 7, \"10\": 4}, \"14\": {\"14\": 735, \"11\": 42, \"2\": 317, \"7\": 17, \"4\": 1, \"12\": 64, \"8\": 7, \"5\": 12, \"10\": 3, \"13\": 2}, \"9\": {\"9\": 902, \"6\": 285, \"3\": 10, \"0\": 3}, \"12\": {\"12\": 1174, \"14\": 13, \"4\": 13}, \"6\": {\"6\": 970, \"9\": 226, \"0\": 1, \"1\": 1, \"15\": 2}, \"2\": {\"2\": 1071, \"14\": 129}, \"0\": {\"0\": 1016, \"3\": 120, \"10\": 30, \"13\": 5, \"9\": 2, \"5\": 3, \"15\": 3, \"7\": 11, \"6\": 4, \"8\": 6}, \"13\": {\"13\": 722, \"3\": 156, \"8\": 122, \"10\": 32, \"6\": 3, \"5\": 50, \"1\": 29, \"15\": 37, \"7\": 24, \"0\": 11, \"2\": 7, \"14\": 5, \"9\": 2}}, \"ORACLE.run2_8\": {\"9\": {\"9\": 1200}, \"10\": {\"10\": 757, \"14\": 66, \"5\": 136, \"0\": 198, \"13\": 39, \"1\": 4}, \"13\": {\"13\": 940, \"1\": 87, \"10\": 46, \"14\": 114, \"5\": 5, \"6\": 4, \"8\": 2, \"0\": 2}, \"0\": {\"0\": 862, \"10\": 157, \"14\": 173, \"4\": 3, \"6\": 2, \"5\": 2, \"13\": 1}, \"1\": {\"1\": 1095, \"13\": 83, \"5\": 20, \"10\": 2}, \"15\": {\"15\": 733, \"11\": 145, \"8\": 129, \"12\": 176, \"3\": 12, \"6\": 1, \"7\": 4}, \"5\": {\"5\": 991, \"10\": 166, \"1\": 30, \"13\": 12, \"0\": 1}, \"3\": {\"3\": 1126, \"12\": 68, \"15\": 6}, \"6\": {\"6\": 538, \"4\": 360, \"7\": 213, \"0\": 4, \"14\": 66, \"2\": 13, \"13\": 6}, \"11\": {\"11\": 644, \"12\": 91, \"8\": 290, \"15\": 175}, \"8\": {\"11\": 95, \"8\": 1017, \"15\": 72, \"7\": 8, \"6\": 5, \"13\": 3}, \"4\": {\"7\": 245, \"4\": 508, \"6\": 341, \"2\": 76, \"14\": 26, \"0\": 3, \"13\": 1}, \"12\": {\"12\": 1010, \"15\": 131, \"11\": 14, \"3\": 45}, \"14\": {\"14\": 807, \"0\": 149, \"10\": 63, \"13\": 104, \"6\": 53, \"4\": 22, \"1\": 1, \"7\": 1}, \"2\": {\"4\": 85, \"2\": 970, \"7\": 130, \"6\": 15}, \"7\": {\"6\": 240, \"7\": 579, \"4\": 271, \"2\": 105, \"15\": 1, \"8\": 3, \"14\": 1}}, \"ORACLE.run2_50\": {\"7\": {\"13\": 361, \"7\": 671, \"5\": 95, \"10\": 63, \"4\": 7, \"6\": 2, \"0\": 1}, \"3\": {\"3\": 1158, \"8\": 42}, \"8\": {\"8\": 1163, \"3\": 37}, \"2\": {\"2\": 1141, \"0\": 59}, \"14\": {\"11\": 3, \"14\": 1185, \"12\": 12}, \"4\": {\"4\": 661, \"5\": 331, \"1\": 72, \"6\": 121, \"13\": 5, \"7\": 4, \"10\": 6}, \"6\": {\"4\": 121, \"6\": 839, \"1\": 166, \"15\": 11, \"5\": 59, \"7\": 1, \"10\": 1, \"0\": 2}, \"15\": {\"15\": 1085, \"1\": 75, \"11\": 27, \"6\": 9, \"4\": 3, \"14\": 1}, \"10\": {\"10\": 919, \"13\": 182, \"5\": 50, \"7\": 37, \"0\": 8, \"6\": 2, \"4\": 2}, \"11\": {\"11\": 1124, \"15\": 38, \"9\": 13, \"14\": 11, \"12\": 14}, \"13\": {\"13\": 754, \"10\": 160, \"5\": 46, \"7\": 239, \"4\": 1}, \"9\": {\"9\": 1122, \"11\": 24, \"12\": 54}, \"0\": {\"0\": 1081, \"2\": 92, \"5\": 3, \"10\": 21, \"4\": 2, \"1\": 1}, \"1\": {\"4\": 39, \"1\": 993, \"14\": 1, \"6\": 122, \"15\": 41, \"5\": 4}, \"12\": {\"12\": 1106, \"14\": 40, \"9\": 51, \"11\": 3}, \"5\": {\"4\": 285, \"5\": 634, \"10\": 59, \"13\": 68, \"7\": 81, \"1\": 10, \"6\": 59, \"0\": 4}}, \"ORACLE.run2_32\": {\"8\": {\"3\": 19, \"8\": 931, \"0\": 85, \"4\": 30, \"5\": 78, \"13\": 51, \"11\": 4, \"15\": 2}, \"14\": {\"14\": 1055, \"2\": 71, \"0\": 37, \"11\": 5, \"5\": 31, \"4\": 1}, \"2\": {\"2\": 1015, \"14\": 77, \"5\": 53, \"4\": 24, \"7\": 14, \"11\": 4, \"0\": 13}, \"0\": {\"0\": 663, \"5\": 127, \"4\": 91, \"8\": 90, \"2\": 14, \"11\": 152, \"7\": 16, \"13\": 31, \"14\": 16}, \"1\": {\"1\": 1188, \"10\": 12}, \"10\": {\"10\": 1196, \"1\": 4}, \"11\": {\"11\": 730, \"7\": 176, \"0\": 145, \"5\": 10, \"8\": 5, \"13\": 57, \"4\": 53, \"14\": 7, \"2\": 16, \"3\": 1}, \"5\": {\"2\": 137, \"3\": 4, \"13\": 30, \"8\": 128, \"5\": 551, \"14\": 67, \"4\": 111, \"0\": 139, \"7\": 24, \"11\": 9}, \"15\": {\"15\": 1192, \"8\": 7, \"3\": 1}, \"3\": {\"3\": 1147, \"13\": 34, \"8\": 14, \"11\": 2, \"7\": 2, \"4\": 1}, \"12\": {\"12\": 1200}, \"7\": {\"11\": 184, \"2\": 23, \"4\": 97, \"7\": 756, \"5\": 8, \"13\": 110, \"8\": 1, \"0\": 20, \"3\": 1}, \"13\": {\"13\": 675, \"7\": 104, \"4\": 251, \"11\": 53, \"3\": 19, \"8\": 47, \"0\": 32, \"5\": 19}, \"6\": {\"6\": 1200}, \"4\": {\"4\": 571, \"5\": 139, \"0\": 94, \"7\": 86, \"11\": 39, \"2\": 23, \"13\": 222, \"8\": 26}, \"9\": {\"9\": 1176, \"14\": 23, \"12\": 1}}, \"ORACLE.run2_26\": {\"4\": {\"4\": 692, \"15\": 29, \"10\": 21, \"0\": 116, \"2\": 83, \"3\": 71, \"8\": 54, \"7\": 68, \"14\": 51, \"1\": 15}, \"12\": {\"12\": 1198, \"11\": 2}, \"10\": {\"10\": 444, \"4\": 80, \"14\": 155, \"0\": 255, \"8\": 92, \"1\": 63, \"6\": 78, \"7\": 10, \"12\": 5, \"2\": 8, \"9\": 8, \"15\": 2}, \"0\": {\"4\": 140, \"8\": 93, \"0\": 437, \"10\": 207, \"14\": 206, \"1\": 87, \"7\": 8, \"2\": 12, \"15\": 7, \"9\": 3}, \"13\": {\"13\": 886, \"6\": 25, \"5\": 197, \"9\": 85, \"8\": 3, \"2\": 3, \"7\": 1}, \"9\": {\"6\": 145, \"9\": 733, \"2\": 20, \"13\": 93, \"5\": 56, \"8\": 107, \"15\": 10, \"7\": 29, \"10\": 4, \"14\": 2, \"0\": 1}, \"3\": {\"3\": 720, \"2\": 133, \"4\": 65, \"15\": 195, \"7\": 80, \"5\": 3, \"8\": 4}, \"2\": {\"9\": 16, \"15\": 81, \"3\": 139, \"8\": 81, \"2\": 357, \"7\": 367, \"5\": 33, \"4\": 106, \"14\": 4, \"10\": 4, \"0\": 10, \"13\": 2}, \"5\": {\"9\": 66, \"6\": 69, \"5\": 565, \"13\": 260, \"7\": 84, \"2\": 83, \"4\": 2, \"3\": 12, \"8\": 39, \"10\": 8, \"15\": 5, \"14\": 5, \"1\": 1, \"0\": 1}, \"14\": {\"14\": 410, \"8\": 72, \"1\": 288, \"0\": 200, \"10\": 147, \"4\": 70, \"7\": 5, \"6\": 2, \"9\": 2, \"2\": 2, \"5\": 2}, \"8\": {\"2\": 81, \"8\": 532, \"6\": 23, \"0\": 76, \"10\": 94, \"7\": 113, \"9\": 107, \"15\": 10, \"4\": 61, \"14\": 62, \"5\": 28, \"1\": 7, \"13\": 3, \"3\": 3}, \"7\": {\"2\": 355, \"7\": 388, \"3\": 93, \"8\": 133, \"9\": 24, \"4\": 77, \"15\": 58, \"10\": 6, \"5\": 49, \"14\": 9, \"0\": 7, \"13\": 1}, \"6\": {\"6\": 899, \"2\": 1, \"9\": 169, \"10\": 44, \"0\": 3, \"8\": 20, \"13\": 40, \"5\": 20, \"1\": 1, \"7\": 1, \"14\": 2}, \"11\": {\"11\": 1198, \"12\": 2}, \"15\": {\"15\": 748, \"7\": 83, \"8\": 11, \"3\": 194, \"2\": 103, \"5\": 2, \"9\": 7, \"4\": 49, \"0\": 2, \"10\": 1}, \"1\": {\"1\": 767, \"0\": 83, \"14\": 267, \"10\": 54, \"8\": 11, \"4\": 17, \"2\": 1}}, \"ORACLE.run2_44\": {\"12\": {\"1\": 313, \"12\": 824, \"3\": 60, \"10\": 3}, \"7\": {\"7\": 633, \"2\": 208, \"9\": 329, \"6\": 22, \"1\": 7, \"12\": 1}, \"5\": {\"5\": 1093, \"14\": 85, \"15\": 8, \"8\": 11, \"0\": 3}, \"15\": {\"15\": 997, \"14\": 128, \"8\": 21, \"4\": 46, \"5\": 3, \"0\": 5}, \"8\": {\"0\": 498, \"8\": 690, \"15\": 5, \"5\": 6, \"14\": 1}, \"2\": {\"2\": 717, \"7\": 184, \"9\": 293, \"6\": 1, \"1\": 4, \"3\": 1}, \"13\": {\"13\": 1143, \"4\": 37, \"6\": 19, \"14\": 1}, \"4\": {\"4\": 1065, \"14\": 87, \"15\": 29, \"13\": 17, \"2\": 1, \"9\": 1}, \"0\": {\"8\": 508, \"0\": 688, \"15\": 1, \"5\": 2, \"14\": 1}, \"6\": {\"6\": 1100, \"7\": 26, \"9\": 45, \"13\": 20, \"2\": 3, \"11\": 6}, \"9\": {\"6\": 38, \"9\": 546, \"7\": 295, \"2\": 315, \"3\": 1, \"1\": 5}, \"11\": {\"11\": 1188, \"6\": 11, \"7\": 1}, \"10\": {\"10\": 1139, \"12\": 39, \"1\": 22}, \"14\": {\"15\": 126, \"14\": 872, \"4\": 74, \"5\": 123, \"8\": 4, \"0\": 1}, \"1\": {\"1\": 745, \"12\": 298, \"3\": 146, \"10\": 4, \"9\": 2, \"2\": 3, \"7\": 2}, \"3\": {\"3\": 1018, \"1\": 135, \"12\": 47}}, \"ORACLE.run1_14\": {\"15\": {\"15\": 1172, \"7\": 24, \"2\": 2, \"5\": 2}, \"3\": {\"3\": 1024, \"14\": 23, \"4\": 113, \"0\": 16, \"2\": 12, \"5\": 8, \"10\": 2, \"1\": 1, \"13\": 1}, \"6\": {\"6\": 684, \"13\": 431, \"2\": 47, \"14\": 37, \"4\": 1}, \"1\": {\"1\": 1055, \"4\": 18, \"5\": 125, \"7\": 2}, \"8\": {\"8\": 1199, \"0\": 1}, \"10\": {\"10\": 1164, \"0\": 36}, \"9\": {\"9\": 1193, \"11\": 2, \"12\": 5}, \"13\": {\"13\": 405, \"5\": 17, \"6\": 516, \"2\": 105, \"14\": 151, \"4\": 3, \"10\": 1, \"15\": 2}, \"12\": {\"12\": 1197, \"9\": 3}, \"5\": {\"4\": 212, \"5\": 737, \"1\": 172, \"3\": 19, \"2\": 57, \"7\": 2, \"15\": 1}, \"0\": {\"0\": 1081, \"11\": 27, \"10\": 72, \"8\": 1, \"3\": 19}, \"2\": {\"14\": 180, \"6\": 56, \"2\": 613, \"3\": 64, \"4\": 75, \"15\": 29, \"5\": 109, \"13\": 72, \"1\": 1, \"7\": 1}, \"11\": {\"11\": 1057, \"9\": 68, \"0\": 74, \"10\": 1}, \"14\": {\"14\": 970, \"13\": 83, \"6\": 38, \"2\": 89, \"3\": 18, \"4\": 1, \"0\": 1}, \"7\": {\"7\": 1180, \"1\": 7, \"15\": 13}, \"4\": {\"4\": 863, \"3\": 108, \"5\": 168, \"2\": 41, \"1\": 18, \"14\": 2}}, \"ORACLE.run1_20\": {\"3\": {\"3\": 532, \"12\": 224, \"9\": 157, \"1\": 36, \"8\": 4, \"2\": 77, \"5\": 57, \"4\": 64, \"7\": 36, \"0\": 9, \"10\": 3, \"15\": 1}, \"15\": {\"13\": 45, \"15\": 772, \"1\": 191, \"0\": 72, \"12\": 27, \"5\": 82, \"2\": 4, \"3\": 3, \"9\": 4}, \"8\": {\"8\": 955, \"6\": 14, \"14\": 41, \"4\": 112, \"7\": 57, \"10\": 11, \"3\": 10}, \"4\": {\"4\": 1007, \"8\": 95, \"0\": 8, \"3\": 47, \"10\": 30, \"5\": 5, \"12\": 2, \"7\": 5, \"9\": 1}, \"14\": {\"14\": 964, \"6\": 119, \"10\": 68, \"8\": 46, \"7\": 2, \"4\": 1}, \"0\": {\"0\": 732, \"5\": 275, \"7\": 6, \"2\": 12, \"12\": 15, \"15\": 106, \"1\": 24, \"13\": 7, \"3\": 15, \"8\": 4, \"4\": 3, \"9\": 1}, \"7\": {\"7\": 899, \"2\": 130, \"8\": 54, \"6\": 14, \"3\": 40, \"9\": 44, \"0\": 2, \"12\": 5, \"4\": 5, \"13\": 3, \"10\": 3, \"5\": 1}, \"6\": {\"6\": 1033, \"14\": 137, \"7\": 16, \"8\": 12, \"10\": 1, \"11\": 1}, \"10\": {\"10\": 1067, \"14\": 77, \"4\": 41, \"8\": 13, \"6\": 2}, \"5\": {\"12\": 126, \"15\": 97, \"1\": 158, \"5\": 540, \"0\": 219, \"3\": 39, \"2\": 4, \"7\": 1, \"9\": 8, \"4\": 6, \"13\": 2}, \"2\": {\"9\": 286, \"2\": 577, \"3\": 72, \"7\": 139, \"13\": 47, \"12\": 51, \"1\": 10, \"15\": 6, \"5\": 10, \"8\": 1, \"0\": 1}, \"12\": {\"12\": 459, \"2\": 30, \"9\": 125, \"3\": 219, \"1\": 167, \"15\": 32, \"5\": 150, \"7\": 2, \"0\": 14, \"4\": 2}, \"9\": {\"9\": 487, \"2\": 331, \"3\": 176, \"12\": 126, \"1\": 24, \"7\": 42, \"13\": 9, \"8\": 2, \"5\": 2, \"15\": 1}, \"1\": {\"12\": 192, \"1\": 563, \"15\": 200, \"2\": 8, \"3\": 16, \"5\": 168, \"9\": 25, \"0\": 26, \"13\": 2}, \"11\": {\"11\": 1199, \"7\": 1}, \"13\": {\"13\": 1116, \"15\": 19, \"2\": 51, \"1\": 2, \"9\": 6, \"12\": 2, \"7\": 2, \"3\": 1, \"0\": 1}}, \"ORACLE.run1_38\": {\"5\": {\"8\": 337, \"5\": 505, \"0\": 80, \"15\": 62, \"6\": 39, \"9\": 39, \"7\": 109, \"10\": 7, \"13\": 7, \"1\": 11, \"3\": 4}, \"8\": {\"5\": 294, \"8\": 729, \"0\": 87, \"15\": 36, \"7\": 33, \"13\": 7, \"10\": 14}, \"11\": {\"11\": 1073, \"14\": 100, \"2\": 7, \"10\": 17, \"13\": 1, \"4\": 1, \"12\": 1}, \"1\": {\"1\": 1152, \"15\": 43, \"5\": 3, \"8\": 1, \"6\": 1}, \"10\": {\"13\": 126, \"10\": 959, \"8\": 35, \"7\": 7, \"14\": 15, \"5\": 8, \"0\": 21, \"11\": 7, \"2\": 7, \"12\": 7, \"15\": 8}, \"15\": {\"15\": 947, \"13\": 105, \"5\": 27, \"1\": 71, \"8\": 41, \"10\": 5, \"14\": 1, \"2\": 3}, \"3\": {\"9\": 37, \"3\": 1134, \"0\": 22, \"7\": 4, \"6\": 1, \"5\": 2}, \"7\": {\"5\": 55, \"7\": 945, \"0\": 165, \"3\": 1, \"8\": 30, \"10\": 1, \"9\": 3}, \"4\": {\"4\": 1141, \"12\": 56, \"10\": 3}, \"14\": {\"14\": 1077, \"11\": 41, \"2\": 72, \"10\": 8, \"12\": 2}, \"9\": {\"9\": 908, \"6\": 257, \"5\": 15, \"3\": 17, \"0\": 2, \"7\": 1}, \"12\": {\"12\": 1154, \"4\": 43, \"14\": 1, \"10\": 2}, \"6\": {\"6\": 1056, \"9\": 133, \"5\": 9, \"8\": 2}, \"2\": {\"2\": 1142, \"14\": 40, \"13\": 17, \"15\": 1}, \"0\": {\"8\": 225, \"0\": 579, \"7\": 183, \"3\": 76, \"5\": 109, \"10\": 19, \"13\": 3, \"9\": 2, \"6\": 1, \"15\": 2, \"4\": 1}, \"13\": {\"13\": 914, \"10\": 82, \"15\": 165, \"2\": 15, \"8\": 16, \"1\": 2, \"5\": 5, \"0\": 1}}, \"ORACLE.run1_8\": {\"9\": {\"9\": 1200}, \"10\": {\"10\": 808, \"14\": 263, \"13\": 77, \"4\": 33, \"5\": 16, \"1\": 2, \"0\": 1}, \"13\": {\"6\": 63, \"13\": 396, \"4\": 183, \"0\": 333, \"10\": 130, \"14\": 85, \"7\": 7, \"5\": 1, \"1\": 2}, \"0\": {\"7\": 85, \"0\": 803, \"4\": 30, \"13\": 221, \"6\": 58, \"10\": 2, \"14\": 1}, \"1\": {\"1\": 901, \"11\": 241, \"5\": 22, \"14\": 34, \"10\": 2}, \"15\": {\"12\": 251, \"15\": 893, \"8\": 43, \"3\": 7, \"2\": 6}, \"5\": {\"14\": 19, \"11\": 3, \"5\": 1087, \"1\": 43, \"10\": 48}, \"3\": {\"3\": 1037, \"2\": 109, \"12\": 50, \"15\": 4}, \"6\": {\"6\": 755, \"7\": 218, \"4\": 142, \"0\": 50, \"13\": 29, \"8\": 4, \"14\": 2}, \"11\": {\"11\": 788, \"1\": 383, \"8\": 5, \"5\": 18, \"14\": 5, \"4\": 1}, \"8\": {\"8\": 1151, \"15\": 44, \"7\": 2, \"6\": 2, \"12\": 1}, \"4\": {\"6\": 141, \"4\": 636, \"14\": 160, \"10\": 25, \"13\": 198, \"0\": 35, \"7\": 5}, \"12\": {\"15\": 369, \"12\": 634, \"8\": 40, \"3\": 149, \"2\": 8}, \"14\": {\"4\": 200, \"14\": 613, \"10\": 242, \"13\": 76, \"1\": 50, \"5\": 7, \"6\": 7, \"0\": 2, \"11\": 3}, \"2\": {\"2\": 973, \"12\": 15, \"3\": 159, \"7\": 28, \"15\": 24, \"6\": 1}, \"7\": {\"6\": 240, \"7\": 906, \"0\": 42, \"4\": 5, \"13\": 6, \"15\": 1}}, \"ORACLE.run1_50\": {\"7\": {\"7\": 770, \"10\": 23, \"5\": 160, \"13\": 231, \"4\": 7, \"6\": 9}, \"3\": {\"3\": 1185, \"8\": 15}, \"8\": {\"8\": 1159, \"3\": 17, \"10\": 24}, \"2\": {\"2\": 1133, \"0\": 67}, \"14\": {\"14\": 1182, \"12\": 13, \"11\": 5}, \"4\": {\"4\": 572, \"1\": 164, \"5\": 134, \"15\": 177, \"6\": 93, \"7\": 32, \"13\": 27, \"11\": 1}, \"6\": {\"6\": 928, \"1\": 67, \"13\": 59, \"15\": 17, \"4\": 89, \"5\": 33, \"7\": 6, \"0\": 1}, \"15\": {\"15\": 879, \"1\": 190, \"11\": 21, \"4\": 87, \"6\": 22, \"5\": 1}, \"10\": {\"10\": 1105, \"0\": 31, \"7\": 18, \"13\": 26, \"8\": 18, \"5\": 2}, \"11\": {\"11\": 1067, \"9\": 77, \"15\": 34, \"14\": 13, \"1\": 2, \"12\": 6, \"4\": 1}, \"13\": {\"7\": 162, \"13\": 834, \"5\": 155, \"10\": 16, \"6\": 30, \"0\": 2, \"4\": 1}, \"9\": {\"9\": 933, \"11\": 171, \"12\": 90, \"14\": 6}, \"0\": {\"0\": 1024, \"2\": 120, \"10\": 51, \"13\": 4, \"6\": 1}, \"1\": {\"1\": 806, \"4\": 85, \"15\": 198, \"6\": 95, \"2\": 3, \"11\": 1, \"5\": 11, \"13\": 1}, \"12\": {\"12\": 1088, \"9\": 81, \"14\": 28, \"11\": 3}, \"5\": {\"4\": 146, \"13\": 201, \"7\": 263, \"5\": 446, \"6\": 85, \"10\": 10, \"1\": 47, \"15\": 1, \"0\": 1}}, \"ORACLE.run1_32\": {\"8\": {\"13\": 72, \"8\": 944, \"0\": 104, \"5\": 62, \"14\": 3, \"4\": 3, \"3\": 9, \"7\": 3}, \"14\": {\"14\": 488, \"11\": 307, \"7\": 212, \"0\": 60, \"4\": 19, \"13\": 55, \"5\": 33, \"8\": 15, \"2\": 6, \"3\": 5}, \"2\": {\"4\": 163, \"2\": 998, \"7\": 16, \"0\": 19, \"5\": 4}, \"0\": {\"0\": 895, \"4\": 62, \"5\": 26, \"8\": 92, \"2\": 54, \"7\": 35, \"13\": 12, \"14\": 24}, \"1\": {\"1\": 1184, \"10\": 16}, \"10\": {\"10\": 1190, \"1\": 10}, \"11\": {\"11\": 969, \"14\": 178, \"7\": 24, \"3\": 16, \"5\": 2, \"13\": 11}, \"5\": {\"7\": 157, \"13\": 270, \"5\": 425, \"8\": 52, \"3\": 49, \"4\": 148, \"14\": 27, \"11\": 10, \"0\": 42, \"2\": 20}, \"15\": {\"15\": 1195, \"8\": 4, \"3\": 1}, \"3\": {\"3\": 1129, \"5\": 7, \"11\": 12, \"13\": 41, \"7\": 1, \"8\": 7, \"14\": 3}, \"12\": {\"12\": 1200}, \"7\": {\"7\": 562, \"4\": 194, \"5\": 148, \"14\": 144, \"11\": 21, \"2\": 26, \"13\": 71, \"0\": 27, \"8\": 7}, \"13\": {\"13\": 580, \"7\": 84, \"14\": 32, \"5\": 227, \"3\": 95, \"4\": 87, \"8\": 64, \"0\": 17, \"11\": 13, \"2\": 1}, \"6\": {\"6\": 1200}, \"4\": {\"4\": 735, \"5\": 81, \"2\": 190, \"7\": 119, \"0\": 32, \"13\": 35, \"14\": 4, \"8\": 4}, \"9\": {\"9\": 1199, \"12\": 1}}, \"ORACLE.run1_26\": {\"4\": {\"8\": 89, \"4\": 462, \"10\": 70, \"0\": 155, \"1\": 91, \"14\": 239, \"7\": 91, \"2\": 3}, \"12\": {\"12\": 1198, \"11\": 2}, \"10\": {\"10\": 498, \"8\": 144, \"15\": 4, \"6\": 60, \"14\": 125, \"0\": 252, \"9\": 17, \"1\": 29, \"4\": 64, \"7\": 7}, \"0\": {\"8\": 119, \"10\": 268, \"0\": 367, \"4\": 146, \"1\": 26, \"14\": 229, \"7\": 19, \"9\": 11, \"6\": 14, \"15\": 1}, \"13\": {\"13\": 864, \"5\": 216, \"6\": 9, \"15\": 66, \"2\": 14, \"9\": 30, \"3\": 1}, \"9\": {\"13\": 28, \"9\": 443, \"15\": 362, \"6\": 147, \"4\": 3, \"8\": 99, \"5\": 65, \"7\": 7, \"10\": 22, \"0\": 8, \"2\": 16}, \"3\": {\"3\": 739, \"2\": 266, \"7\": 187, \"8\": 3, \"5\": 1, \"4\": 2, \"15\": 1, \"1\": 1}, \"2\": {\"2\": 456, \"3\": 377, \"7\": 131, \"4\": 5, \"5\": 116, \"9\": 21, \"15\": 66, \"8\": 21, \"13\": 7}, \"5\": {\"5\": 796, \"13\": 168, \"2\": 57, \"15\": 112, \"7\": 6, \"9\": 41, \"8\": 15, \"3\": 3, \"10\": 2}, \"14\": {\"1\": 220, \"14\": 382, \"0\": 198, \"4\": 243, \"10\": 113, \"8\": 32, \"6\": 2, \"7\": 9, \"15\": 1}, \"8\": {\"0\": 123, \"8\": 475, \"15\": 49, \"7\": 105, \"14\": 27, \"10\": 152, \"9\": 86, \"6\": 39, \"4\": 97, \"1\": 4, \"5\": 16, \"2\": 23, \"3\": 3, \"13\": 1}, \"7\": {\"2\": 109, \"8\": 84, \"7\": 665, \"4\": 95, \"0\": 25, \"3\": 184, \"5\": 1, \"14\": 11, \"10\": 8, \"9\": 7, \"1\": 5, \"15\": 6}, \"6\": {\"6\": 863, \"10\": 64, \"9\": 190, \"0\": 11, \"8\": 36, \"15\": 24, \"13\": 5, \"5\": 6, \"14\": 1}, \"11\": {\"11\": 1192, \"12\": 8}, \"15\": {\"8\": 79, \"5\": 128, \"6\": 49, \"9\": 344, \"2\": 30, \"15\": 481, \"13\": 61, \"7\": 18, \"0\": 3, \"10\": 5, \"3\": 2}, \"1\": {\"1\": 754, \"14\": 224, \"10\": 41, \"4\": 118, \"0\": 34, \"7\": 16, \"8\": 9, \"3\": 4}}, \"ORACLE.run1_44\": {\"12\": {\"10\": 74, \"12\": 920, \"1\": 200, \"3\": 5, \"2\": 1}, \"7\": {\"9\": 232, \"7\": 775, \"2\": 151, \"13\": 7, \"6\": 30, \"3\": 2, \"1\": 3}, \"5\": {\"5\": 1054, \"14\": 33, \"0\": 72, \"15\": 28, \"8\": 12, \"4\": 1}, \"15\": {\"15\": 989, \"14\": 84, \"0\": 73, \"4\": 14, \"5\": 23, \"8\": 17}, \"8\": {\"8\": 693, \"0\": 452, \"15\": 38, \"5\": 17}, \"2\": {\"2\": 887, \"7\": 172, \"3\": 5, \"10\": 80, \"1\": 54, \"6\": 1, \"9\": 1}, \"13\": {\"13\": 811, \"6\": 189, \"9\": 135, \"11\": 45, \"7\": 10, \"4\": 9, \"14\": 1}, \"4\": {\"4\": 851, \"14\": 340, \"15\": 9}, \"0\": {\"8\": 386, \"0\": 703, \"5\": 55, \"15\": 55, \"14\": 1}, \"6\": {\"9\": 99, \"6\": 868, \"13\": 191, \"7\": 24, \"11\": 16, \"2\": 2}, \"9\": {\"13\": 151, \"9\": 668, \"7\": 276, \"6\": 96, \"2\": 8, \"4\": 1}, \"11\": {\"11\": 1110, \"13\": 77, \"6\": 13}, \"10\": {\"10\": 904, \"1\": 117, \"12\": 94, \"2\": 83, \"7\": 1, \"3\": 1}, \"14\": {\"14\": 753, \"4\": 353, \"15\": 59, \"5\": 35}, \"1\": {\"10\": 85, \"12\": 192, \"1\": 713, \"2\": 65, \"3\": 142, \"7\": 3}, \"3\": {\"3\": 1051, \"12\": 13, \"1\": 132, \"7\": 2, \"2\": 2}}}, \"per_domain_accuracy\": {\"ORACLE.run2_14\": {\"accuracy\": 0.8161458333333333, \"source?\": true}, \"ORACLE.run2_20\": {\"accuracy\": 0.65078125, \"source?\": true}, \"ORACLE.run2_38\": {\"accuracy\": 0.70546875, \"source?\": true}, \"ORACLE.run2_8\": {\"accuracy\": 0.7175520833333333, \"source?\": true}, \"ORACLE.run2_50\": {\"accuracy\": 0.814375, \"source?\": true}, \"ORACLE.run2_32\": {\"accuracy\": 0.7940625, \"source?\": true}, \"ORACLE.run2_26\": {\"accuracy\": 0.5715625, \"source?\": true}, \"ORACLE.run2_44\": {\"accuracy\": 0.7530208333333334, \"source?\": true}, \"ORACLE.run1_14\": {\"accuracy\": 0.8121875, \"source?\": false}, \"ORACLE.run1_20\": {\"accuracy\": 0.6719791666666667, \"source?\": false}, \"ORACLE.run1_38\": {\"accuracy\": 0.8028645833333333, \"source?\": false}, \"ORACLE.run1_8\": {\"accuracy\": 0.70734375, \"source?\": false}, \"ORACLE.run1_50\": {\"accuracy\": 0.78703125, \"source?\": false}, \"ORACLE.run1_32\": {\"accuracy\": 0.7756770833333333, \"source?\": false}, \"ORACLE.run1_26\": {\"accuracy\": 0.55390625, \"source?\": false}, \"ORACLE.run1_44\": {\"accuracy\": 0.7161458333333334, \"source?\": false}}}, \"history\": {\"epoch_indices\": [1, 2, 3, 4, 5, 6, 7, 8, 9, 10, 11, 12, 13], \"train_label_loss\": [1.121281788907058, 0.8986071315904458, 0.81863113980829, 0.7366304041032813, 0.6590165775067484, 0.5932580294590887, 0.5408135917858177, 0.493686035391542, 0.4568376946216449, 0.4269446015356308, 0.3966672129898022, 0.3674469625885554, 0.34416214124485295], \"source_val_label_loss\": [0.9834456443786621, 0.9282813668251038, 0.8748688697814941, 0.8240804076194763, 0.7974596619606018, 0.7836854457855225, 0.7747409343719482, 0.7848086357116699, 0.7966631054878235, 0.8087820410728455, 0.8297199010848999, 0.8551110029220581, 0.867817223072052], \"target_val_label_loss\": [0.9519855976104736, 0.8846868276596069, 0.8276005983352661, 0.7804562449455261, 0.765288233757019, 0.75943523645401, 0.7528911232948303, 0.7718399167060852, 0.7841408252716064, 0.7998467087745667, 0.8204143047332764, 0.850067675113678, 0.8673160076141357], \"source_val_acc_label\": [0.6353450520833334, 0.6553515625, 0.6783072916666667, 0.7048958333333334, 0.7160026041666666, 0.7231380208333333, 0.7209635416666667, 0.7254036458333334, 0.72787109375, 0.7245182291666666, 0.72427734375, 0.7246549479166666, 0.71791015625], \"target_val_acc_label\": [0.6449348958333333, 0.66904296875, 0.690625, 0.71302734375, 0.72103515625, 0.7254036458333334, 0.7239518229166667, 0.7263736979166666, 0.7283919270833333, 0.7249544270833334, 0.7247916666666666, 0.7228255208333333, 0.7191341145833333]}, \"dataset_metrics\": {\"source\": {\"train\": {\"n_unique_x\": 896000, \"n_unique_y\": 16, \"n_batch/episode\": 33600}, \"val\": {\"n_unique_x\": 192000, \"n_unique_y\": 16, \"n_batch/episode\": 4800}, \"test\": {\"n_unique_x\": 192000, \"n_unique_y\": 16, \"n_batch/episode\": 4800}}, \"target\": {\"train\": {\"n_unique_x\": 896000, \"n_unique_y\": 16, \"n_batch/episode\": 33600}, \"val\": {\"n_unique_x\": 192000, \"n_unique_y\": 16, \"n_batch/episode\": 4800}, \"test\": {\"n_unique_x\": 192000, \"n_unique_y\": 16, \"n_batch/episode\": 4800}}}}'"
      ]
     },
     "execution_count": 29,
     "metadata": {},
     "output_type": "execute_result"
    }
   ],
   "source": [
    "json.dumps(experiment)"
   ]
  }
 ],
 "metadata": {
  "celltoolbar": "Tags",
  "kernelspec": {
   "display_name": "Python 3 (ipykernel)",
   "language": "python",
   "name": "python3"
  },
  "language_info": {
   "codemirror_mode": {
    "name": "ipython",
    "version": 3
   },
   "file_extension": ".py",
   "mimetype": "text/x-python",
   "name": "python",
   "nbconvert_exporter": "python",
   "pygments_lexer": "ipython3",
   "version": "3.8.10"
  },
  "papermill": {
   "default_parameters": {},
   "duration": 12478.058487,
   "end_time": "2022-03-23T18:54:57.743333",
   "environment_variables": {},
   "exception": null,
   "input_path": "/mnt/wd500GB/CSC500/csc500-main/csc500-notebooks/templates/tl_ptn_template.ipynb",
   "output_path": "trial.ipynb",
   "parameters": {
    "parameters": {
     "BEST_MODEL_PATH": "./best_model.pth",
     "NUM_LOGS_PER_EPOCH": 10,
     "criteria_for_best": "target_accuracy",
     "dataset_seed": 1337,
     "datasets": [
      {
       "domain_prefix": "ORACLE.run1_",
       "domains": [
        32,
        38,
        8,
        44,
        14,
        50,
        20,
        26
       ],
       "episode_transforms": [],
       "labels": [
        "3123D52",
        "3123D65",
        "3123D79",
        "3123D80",
        "3123D54",
        "3123D70",
        "3123D7B",
        "3123D89",
        "3123D58",
        "3123D76",
        "3123D7D",
        "3123EFE",
        "3123D64",
        "3123D78",
        "3123D7E",
        "3124E4A"
       ],
       "num_examples_per_domain_per_label": 10000,
       "pickle_path": "/mnt/wd500GB/CSC500/csc500-main/datasets/oracle.Run1_10kExamples_stratified_ds.2022A.pkl",
       "source_or_target_dataset": "target",
       "x_transforms": [
        "unit_mag"
       ]
      },
      {
       "domain_prefix": "ORACLE.run2_",
       "domains": [
        32,
        38,
        8,
        44,
        14,
        50,
        20,
        26
       ],
       "episode_transforms": [],
       "labels": [
        "3123D52",
        "3123D65",
        "3123D79",
        "3123D80",
        "3123D54",
        "3123D70",
        "3123D7B",
        "3123D89",
        "3123D58",
        "3123D76",
        "3123D7D",
        "3123EFE",
        "3123D64",
        "3123D78",
        "3123D7E",
        "3124E4A"
       ],
       "num_examples_per_domain_per_label": 10000,
       "pickle_path": "/mnt/wd500GB/CSC500/csc500-main/datasets/oracle.Run2_10kExamples_stratified_ds.2022A.pkl",
       "source_or_target_dataset": "source",
       "x_transforms": [
        "unit_mag"
       ]
      }
     ],
     "device": "cuda",
     "experiment_name": "tl_1v2:oracle.run1-oracle.run2",
     "lr": 0.0001,
     "n_epoch": 50,
     "n_query": 2,
     "n_shot": 3,
     "n_way": 16,
     "patience": 3,
     "seed": 1337,
     "test_k_factor": 2,
     "torch_default_dtype": "torch.float32",
     "train_k_factor": 3,
     "val_k_factor": 2,
     "x_net": [
      {
       "class": "nnReshape",
       "kargs": {
        "shape": [
         -1,
         1,
         2,
         256
        ]
       }
      },
      {
       "class": "Conv2d",
       "kargs": {
        "bias": false,
        "in_channels": 1,
        "kernel_size": [
         1,
         7
        ],
        "out_channels": 256,
        "padding": [
         0,
         3
        ]
       }
      },
      {
       "class": "ReLU",
       "kargs": {
        "inplace": true
       }
      },
      {
       "class": "BatchNorm2d",
       "kargs": {
        "num_features": 256
       }
      },
      {
       "class": "Conv2d",
       "kargs": {
        "bias": true,
        "in_channels": 256,
        "kernel_size": [
         2,
         7
        ],
        "out_channels": 80,
        "padding": [
         0,
         3
        ]
       }
      },
      {
       "class": "ReLU",
       "kargs": {
        "inplace": true
       }
      },
      {
       "class": "BatchNorm2d",
       "kargs": {
        "num_features": 80
       }
      },
      {
       "class": "Flatten",
       "kargs": {}
      },
      {
       "class": "Linear",
       "kargs": {
        "in_features": 20480,
        "out_features": 256
       }
      },
      {
       "class": "ReLU",
       "kargs": {
        "inplace": true
       }
      },
      {
       "class": "BatchNorm1d",
       "kargs": {
        "num_features": 256
       }
      },
      {
       "class": "Linear",
       "kargs": {
        "in_features": 256,
        "out_features": 256
       }
      }
     ]
    }
   },
   "start_time": "2022-03-23T15:26:59.684846",
   "version": "2.3.4"
  }
 },
 "nbformat": 4,
 "nbformat_minor": 5
}