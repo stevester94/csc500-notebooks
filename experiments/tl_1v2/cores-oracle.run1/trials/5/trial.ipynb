{
 "cells": [
  {
   "cell_type": "markdown",
   "id": "9fea5f46",
   "metadata": {
    "papermill": {
     "duration": 0.03788,
     "end_time": "2022-03-21T18:40:18.476107",
     "exception": false,
     "start_time": "2022-03-21T18:40:18.438227",
     "status": "completed"
    },
    "tags": []
   },
   "source": [
    "# Transfer Learning Template"
   ]
  },
  {
   "cell_type": "code",
   "execution_count": 1,
   "id": "0902182a",
   "metadata": {
    "execution": {
     "iopub.execute_input": "2022-03-21T18:40:18.539275Z",
     "iopub.status.busy": "2022-03-21T18:40:18.538404Z",
     "iopub.status.idle": "2022-03-21T18:40:20.535097Z",
     "shell.execute_reply": "2022-03-21T18:40:20.534272Z"
    },
    "papermill": {
     "duration": 2.03538,
     "end_time": "2022-03-21T18:40:20.535281",
     "exception": false,
     "start_time": "2022-03-21T18:40:18.499901",
     "status": "completed"
    },
    "tags": []
   },
   "outputs": [],
   "source": [
    "%load_ext autoreload\n",
    "%autoreload 2\n",
    "%matplotlib inline\n",
    "\n",
    "    \n",
    "import os, json, sys, time, random\n",
    "import numpy as np\n",
    "import torch\n",
    "from torch.optim import Adam\n",
    "from  easydict import EasyDict\n",
    "import matplotlib.pyplot as plt\n",
    "\n",
    "from steves_models.steves_ptn import Steves_Prototypical_Network\n",
    "\n",
    "from steves_utils.lazy_iterable_wrapper import Lazy_Iterable_Wrapper\n",
    "from steves_utils.iterable_aggregator import Iterable_Aggregator\n",
    "from steves_utils.ptn_train_eval_test_jig import  PTN_Train_Eval_Test_Jig\n",
    "from steves_utils.torch_sequential_builder import build_sequential\n",
    "from steves_utils.torch_utils import get_dataset_metrics, ptn_confusion_by_domain_over_dataloader\n",
    "from steves_utils.utils_v2 import (per_domain_accuracy_from_confusion, get_datasets_base_path)\n",
    "from steves_utils.PTN.utils import independent_accuracy_assesment\n",
    "\n",
    "from torch.utils.data import DataLoader\n",
    "\n",
    "from steves_utils.stratified_dataset.episodic_accessor import Episodic_Accessor_Factory\n",
    "\n",
    "from steves_utils.ptn_do_report import (\n",
    "    get_loss_curve,\n",
    "    get_results_table,\n",
    "    get_parameters_table,\n",
    "    get_domain_accuracies,\n",
    ")\n",
    "\n",
    "from steves_utils.transforms import get_chained_transform"
   ]
  },
  {
   "cell_type": "markdown",
   "id": "41c840b4",
   "metadata": {
    "papermill": {
     "duration": 0.019604,
     "end_time": "2022-03-21T18:40:20.579824",
     "exception": false,
     "start_time": "2022-03-21T18:40:20.560220",
     "status": "completed"
    },
    "tags": []
   },
   "source": [
    "# Allowed Parameters\n",
    "These are allowed parameters, not defaults\n",
    "Each of these values need to be present in the injected parameters (the notebook will raise an exception if they are not present)\n",
    "\n",
    "Papermill uses the cell tag \"parameters\" to inject the real parameters below this cell.\n",
    "Enable tags to see what I mean"
   ]
  },
  {
   "cell_type": "code",
   "execution_count": 2,
   "id": "fd44eb83",
   "metadata": {
    "execution": {
     "iopub.execute_input": "2022-03-21T18:40:20.625531Z",
     "iopub.status.busy": "2022-03-21T18:40:20.624880Z",
     "iopub.status.idle": "2022-03-21T18:40:20.647426Z",
     "shell.execute_reply": "2022-03-21T18:40:20.646616Z"
    },
    "papermill": {
     "duration": 0.048283,
     "end_time": "2022-03-21T18:40:20.647603",
     "exception": false,
     "start_time": "2022-03-21T18:40:20.599320",
     "status": "completed"
    },
    "tags": []
   },
   "outputs": [],
   "source": [
    "required_parameters = {\n",
    "    \"experiment_name\",\n",
    "    \"lr\",\n",
    "    \"device\",\n",
    "    \"seed\",\n",
    "    \"dataset_seed\",\n",
    "    \"n_shot\",\n",
    "    \"n_query\",\n",
    "    \"n_way\",\n",
    "    \"train_k_factor\",\n",
    "    \"val_k_factor\",\n",
    "    \"test_k_factor\",\n",
    "    \"n_epoch\",\n",
    "    \"patience\",\n",
    "    \"criteria_for_best\",\n",
    "    \"x_net\",\n",
    "    \"datasets\",\n",
    "    \"torch_default_dtype\",\n",
    "    \"NUM_LOGS_PER_EPOCH\",\n",
    "    \"BEST_MODEL_PATH\",\n",
    "    \"x_shape\",\n",
    "}"
   ]
  },
  {
   "cell_type": "code",
   "execution_count": 3,
   "id": "fa3f0049",
   "metadata": {
    "execution": {
     "iopub.execute_input": "2022-03-21T18:40:20.706520Z",
     "iopub.status.busy": "2022-03-21T18:40:20.705613Z",
     "iopub.status.idle": "2022-03-21T18:40:20.725006Z",
     "shell.execute_reply": "2022-03-21T18:40:20.724043Z"
    },
    "papermill": {
     "duration": 0.052738,
     "end_time": "2022-03-21T18:40:20.725178",
     "exception": false,
     "start_time": "2022-03-21T18:40:20.672440",
     "status": "completed"
    },
    "tags": [
     "parameters"
    ]
   },
   "outputs": [],
   "source": [
    "from steves_utils.CORES.utils import (\n",
    "    ALL_NODES,\n",
    "    ALL_NODES_MINIMUM_1000_EXAMPLES,\n",
    "    ALL_DAYS\n",
    ")\n",
    "\n",
    "from steves_utils.ORACLE.utils_v2 import (\n",
    "    ALL_DISTANCES_FEET_NARROWED,\n",
    "    ALL_RUNS,\n",
    "    ALL_SERIAL_NUMBERS,\n",
    ")\n",
    "\n",
    "standalone_parameters = {}\n",
    "standalone_parameters[\"experiment_name\"] = \"STANDALONE PTN\"\n",
    "standalone_parameters[\"lr\"] = 0.001\n",
    "standalone_parameters[\"device\"] = \"cuda\"\n",
    "\n",
    "standalone_parameters[\"seed\"] = 1337\n",
    "standalone_parameters[\"dataset_seed\"] = 1337\n",
    "\n",
    "standalone_parameters[\"n_way\"] = 8\n",
    "standalone_parameters[\"n_shot\"] = 3\n",
    "standalone_parameters[\"n_query\"]  = 2\n",
    "standalone_parameters[\"train_k_factor\"] = 1\n",
    "standalone_parameters[\"val_k_factor\"] = 2\n",
    "standalone_parameters[\"test_k_factor\"] = 2\n",
    "\n",
    "\n",
    "standalone_parameters[\"n_epoch\"] = 50\n",
    "\n",
    "standalone_parameters[\"patience\"] = 10\n",
    "standalone_parameters[\"criteria_for_best\"] = \"source_loss\"\n",
    "\n",
    "standalone_parameters[\"datasets\"] = [\n",
    "    {\n",
    "        \"labels\": ALL_SERIAL_NUMBERS,\n",
    "        \"domains\": ALL_DISTANCES_FEET_NARROWED,\n",
    "        \"num_examples_per_domain_per_label\": 100,\n",
    "        \"pickle_path\": os.path.join(get_datasets_base_path(), \"oracle.Run1_framed_2000Examples_stratified_ds.2022A.pkl\"),\n",
    "        \"source_or_target_dataset\": \"source\",\n",
    "        \"x_transforms\": [\"unit_mag\", \"minus_two\"],\n",
    "        \"episode_transforms\": [],\n",
    "        \"domain_prefix\": \"ORACLE_\"\n",
    "    },\n",
    "    {\n",
    "        \"labels\": ALL_NODES,\n",
    "        \"domains\": ALL_DAYS,\n",
    "        \"num_examples_per_domain_per_label\": 100,\n",
    "        \"pickle_path\": os.path.join(get_datasets_base_path(), \"cores.stratified_ds.2022A.pkl\"),\n",
    "        \"source_or_target_dataset\": \"target\",\n",
    "        \"x_transforms\": [\"unit_power\", \"times_zero\"],\n",
    "        \"episode_transforms\": [],\n",
    "        \"domain_prefix\": \"CORES_\"\n",
    "    }   \n",
    "]\n",
    "\n",
    "standalone_parameters[\"torch_default_dtype\"] = \"torch.float32\" \n",
    "\n",
    "\n",
    "\n",
    "standalone_parameters[\"x_net\"] =     [\n",
    "    {\"class\": \"nnReshape\", \"kargs\": {\"shape\":[-1, 1, 2, 256]}},\n",
    "    {\"class\": \"Conv2d\", \"kargs\": { \"in_channels\":1, \"out_channels\":256, \"kernel_size\":(1,7), \"bias\":False, \"padding\":(0,3), },},\n",
    "    {\"class\": \"ReLU\", \"kargs\": {\"inplace\": True}},\n",
    "    {\"class\": \"BatchNorm2d\", \"kargs\": {\"num_features\":256}},\n",
    "\n",
    "    {\"class\": \"Conv2d\", \"kargs\": { \"in_channels\":256, \"out_channels\":80, \"kernel_size\":(2,7), \"bias\":True, \"padding\":(0,3), },},\n",
    "    {\"class\": \"ReLU\", \"kargs\": {\"inplace\": True}},\n",
    "    {\"class\": \"BatchNorm2d\", \"kargs\": {\"num_features\":80}},\n",
    "    {\"class\": \"Flatten\", \"kargs\": {}},\n",
    "\n",
    "    {\"class\": \"Linear\", \"kargs\": {\"in_features\": 80*256, \"out_features\": 256}}, # 80 units per IQ pair\n",
    "    {\"class\": \"ReLU\", \"kargs\": {\"inplace\": True}},\n",
    "    {\"class\": \"BatchNorm1d\", \"kargs\": {\"num_features\":256}},\n",
    "\n",
    "    {\"class\": \"Linear\", \"kargs\": {\"in_features\": 256, \"out_features\": 256}},\n",
    "]\n",
    "\n",
    "# Parameters relevant to results\n",
    "# These parameters will basically never need to change\n",
    "standalone_parameters[\"NUM_LOGS_PER_EPOCH\"] = 10\n",
    "standalone_parameters[\"BEST_MODEL_PATH\"] = \"./best_model.pth\"\n",
    "\n",
    "\n",
    "\n",
    "\n"
   ]
  },
  {
   "cell_type": "code",
   "execution_count": 4,
   "id": "aa4ede41",
   "metadata": {
    "execution": {
     "iopub.execute_input": "2022-03-21T18:40:20.790053Z",
     "iopub.status.busy": "2022-03-21T18:40:20.784597Z",
     "iopub.status.idle": "2022-03-21T18:40:20.808942Z",
     "shell.execute_reply": "2022-03-21T18:40:20.808149Z"
    },
    "papermill": {
     "duration": 0.057617,
     "end_time": "2022-03-21T18:40:20.809102",
     "exception": false,
     "start_time": "2022-03-21T18:40:20.751485",
     "status": "completed"
    },
    "tags": [
     "injected-parameters"
    ]
   },
   "outputs": [],
   "source": [
    "# Parameters\n",
    "parameters = {\n",
    "    \"experiment_name\": \"tl_1v2:cores-oracle.run1\",\n",
    "    \"device\": \"cuda\",\n",
    "    \"lr\": 0.0001,\n",
    "    \"n_shot\": 3,\n",
    "    \"n_query\": 2,\n",
    "    \"train_k_factor\": 3,\n",
    "    \"val_k_factor\": 2,\n",
    "    \"test_k_factor\": 2,\n",
    "    \"torch_default_dtype\": \"torch.float32\",\n",
    "    \"n_epoch\": 50,\n",
    "    \"patience\": 3,\n",
    "    \"criteria_for_best\": \"target_accuracy\",\n",
    "    \"x_net\": [\n",
    "        {\"class\": \"nnReshape\", \"kargs\": {\"shape\": [-1, 1, 2, 256]}},\n",
    "        {\n",
    "            \"class\": \"Conv2d\",\n",
    "            \"kargs\": {\n",
    "                \"in_channels\": 1,\n",
    "                \"out_channels\": 256,\n",
    "                \"kernel_size\": [1, 7],\n",
    "                \"bias\": False,\n",
    "                \"padding\": [0, 3],\n",
    "            },\n",
    "        },\n",
    "        {\"class\": \"ReLU\", \"kargs\": {\"inplace\": True}},\n",
    "        {\"class\": \"BatchNorm2d\", \"kargs\": {\"num_features\": 256}},\n",
    "        {\n",
    "            \"class\": \"Conv2d\",\n",
    "            \"kargs\": {\n",
    "                \"in_channels\": 256,\n",
    "                \"out_channels\": 80,\n",
    "                \"kernel_size\": [2, 7],\n",
    "                \"bias\": True,\n",
    "                \"padding\": [0, 3],\n",
    "            },\n",
    "        },\n",
    "        {\"class\": \"ReLU\", \"kargs\": {\"inplace\": True}},\n",
    "        {\"class\": \"BatchNorm2d\", \"kargs\": {\"num_features\": 80}},\n",
    "        {\"class\": \"Flatten\", \"kargs\": {}},\n",
    "        {\"class\": \"Linear\", \"kargs\": {\"in_features\": 20480, \"out_features\": 256}},\n",
    "        {\"class\": \"ReLU\", \"kargs\": {\"inplace\": True}},\n",
    "        {\"class\": \"BatchNorm1d\", \"kargs\": {\"num_features\": 256}},\n",
    "        {\"class\": \"Linear\", \"kargs\": {\"in_features\": 256, \"out_features\": 256}},\n",
    "    ],\n",
    "    \"NUM_LOGS_PER_EPOCH\": 10,\n",
    "    \"BEST_MODEL_PATH\": \"./best_model.pth\",\n",
    "    \"n_way\": 16,\n",
    "    \"datasets\": [\n",
    "        {\n",
    "            \"labels\": [\n",
    "                \"1-10.\",\n",
    "                \"1-11.\",\n",
    "                \"1-15.\",\n",
    "                \"1-16.\",\n",
    "                \"1-17.\",\n",
    "                \"1-18.\",\n",
    "                \"1-19.\",\n",
    "                \"10-4.\",\n",
    "                \"10-7.\",\n",
    "                \"11-1.\",\n",
    "                \"11-14.\",\n",
    "                \"11-17.\",\n",
    "                \"11-20.\",\n",
    "                \"11-7.\",\n",
    "                \"13-20.\",\n",
    "                \"13-8.\",\n",
    "                \"14-10.\",\n",
    "                \"14-11.\",\n",
    "                \"14-14.\",\n",
    "                \"14-7.\",\n",
    "                \"15-1.\",\n",
    "                \"15-20.\",\n",
    "                \"16-1.\",\n",
    "                \"16-16.\",\n",
    "                \"17-10.\",\n",
    "                \"17-11.\",\n",
    "                \"17-2.\",\n",
    "                \"19-1.\",\n",
    "                \"19-16.\",\n",
    "                \"19-19.\",\n",
    "                \"19-20.\",\n",
    "                \"19-3.\",\n",
    "                \"2-10.\",\n",
    "                \"2-11.\",\n",
    "                \"2-17.\",\n",
    "                \"2-18.\",\n",
    "                \"2-20.\",\n",
    "                \"2-3.\",\n",
    "                \"2-4.\",\n",
    "                \"2-5.\",\n",
    "                \"2-6.\",\n",
    "                \"2-7.\",\n",
    "                \"2-8.\",\n",
    "                \"3-13.\",\n",
    "                \"3-18.\",\n",
    "                \"3-3.\",\n",
    "                \"4-1.\",\n",
    "                \"4-10.\",\n",
    "                \"4-11.\",\n",
    "                \"4-19.\",\n",
    "                \"5-5.\",\n",
    "                \"6-15.\",\n",
    "                \"7-10.\",\n",
    "                \"7-14.\",\n",
    "                \"8-18.\",\n",
    "                \"8-20.\",\n",
    "                \"8-3.\",\n",
    "                \"8-8.\",\n",
    "            ],\n",
    "            \"domains\": [1, 2, 3, 4, 5],\n",
    "            \"num_examples_per_domain_per_label\": -1,\n",
    "            \"pickle_path\": \"/root/csc500-main/datasets/cores.stratified_ds.2022A.pkl\",\n",
    "            \"source_or_target_dataset\": \"target\",\n",
    "            \"x_transforms\": [],\n",
    "            \"episode_transforms\": [],\n",
    "            \"domain_prefix\": \"CORES_\",\n",
    "        },\n",
    "        {\n",
    "            \"labels\": [\n",
    "                \"3123D52\",\n",
    "                \"3123D65\",\n",
    "                \"3123D79\",\n",
    "                \"3123D80\",\n",
    "                \"3123D54\",\n",
    "                \"3123D70\",\n",
    "                \"3123D7B\",\n",
    "                \"3123D89\",\n",
    "                \"3123D58\",\n",
    "                \"3123D76\",\n",
    "                \"3123D7D\",\n",
    "                \"3123EFE\",\n",
    "                \"3123D64\",\n",
    "                \"3123D78\",\n",
    "                \"3123D7E\",\n",
    "                \"3124E4A\",\n",
    "            ],\n",
    "            \"domains\": [32, 38, 8, 44, 14, 50, 20, 26],\n",
    "            \"num_examples_per_domain_per_label\": 10000,\n",
    "            \"pickle_path\": \"/root/csc500-main/datasets/oracle.Run1_10kExamples_stratified_ds.2022A.pkl\",\n",
    "            \"source_or_target_dataset\": \"source\",\n",
    "            \"x_transforms\": [],\n",
    "            \"episode_transforms\": [],\n",
    "            \"domain_prefix\": \"ORACLE.run1_\",\n",
    "        },\n",
    "    ],\n",
    "    \"dataset_seed\": 1337,\n",
    "    \"seed\": 1337,\n",
    "}\n"
   ]
  },
  {
   "cell_type": "code",
   "execution_count": 5,
   "id": "8fa1cc33",
   "metadata": {
    "execution": {
     "iopub.execute_input": "2022-03-21T18:40:20.873330Z",
     "iopub.status.busy": "2022-03-21T18:40:20.872748Z",
     "iopub.status.idle": "2022-03-21T18:40:20.891945Z",
     "shell.execute_reply": "2022-03-21T18:40:20.891101Z"
    },
    "papermill": {
     "duration": 0.056641,
     "end_time": "2022-03-21T18:40:20.892109",
     "exception": false,
     "start_time": "2022-03-21T18:40:20.835468",
     "status": "completed"
    },
    "tags": []
   },
   "outputs": [],
   "source": [
    "# Set this to True if you want to run this template directly\n",
    "STANDALONE = False\n",
    "if STANDALONE:\n",
    "    print(\"parameters not injected, running with standalone_parameters\")\n",
    "    parameters = standalone_parameters\n",
    "\n",
    "if not 'parameters' in locals() and not 'parameters' in globals():\n",
    "    raise Exception(\"Parameter injection failed\")\n",
    "\n",
    "#Use an easy dict for all the parameters\n",
    "p = EasyDict(parameters)\n",
    "\n",
    "if \"x_shape\" not in p:\n",
    "    p.x_shape = [2,256] # Default to this if we dont supply x_shape\n",
    "\n",
    "\n",
    "supplied_keys = set(p.keys())\n",
    "\n",
    "if  supplied_keys != required_parameters:\n",
    "    print(\"Parameters are incorrect\")\n",
    "    if len(supplied_keys - required_parameters)>0: print(\"Shouldn't have:\", str(supplied_keys - required_parameters))\n",
    "    if len(required_parameters - supplied_keys)>0: print(\"Need to have:\", str(required_parameters - supplied_keys))\n",
    "    raise RuntimeError(\"Parameters are incorrect\")"
   ]
  },
  {
   "cell_type": "code",
   "execution_count": 6,
   "id": "3a028d58",
   "metadata": {
    "execution": {
     "iopub.execute_input": "2022-03-21T18:40:20.945462Z",
     "iopub.status.busy": "2022-03-21T18:40:20.942723Z",
     "iopub.status.idle": "2022-03-21T18:40:20.966511Z",
     "shell.execute_reply": "2022-03-21T18:40:20.965714Z"
    },
    "papermill": {
     "duration": 0.046024,
     "end_time": "2022-03-21T18:40:20.966665",
     "exception": false,
     "start_time": "2022-03-21T18:40:20.920641",
     "status": "completed"
    },
    "tags": []
   },
   "outputs": [],
   "source": [
    "###################################\n",
    "# Set the RNGs and make it all deterministic\n",
    "###################################\n",
    "np.random.seed(p.seed)\n",
    "random.seed(p.seed)\n",
    "torch.manual_seed(p.seed)\n",
    "\n",
    "torch.use_deterministic_algorithms(True) "
   ]
  },
  {
   "cell_type": "code",
   "execution_count": 7,
   "id": "b691acf6",
   "metadata": {
    "execution": {
     "iopub.execute_input": "2022-03-21T18:40:21.016503Z",
     "iopub.status.busy": "2022-03-21T18:40:21.015487Z",
     "iopub.status.idle": "2022-03-21T18:40:21.039726Z",
     "shell.execute_reply": "2022-03-21T18:40:21.038899Z"
    },
    "papermill": {
     "duration": 0.047734,
     "end_time": "2022-03-21T18:40:21.039880",
     "exception": false,
     "start_time": "2022-03-21T18:40:20.992146",
     "status": "completed"
    },
    "tags": []
   },
   "outputs": [],
   "source": [
    "###########################################\n",
    "# The stratified datasets honor this\n",
    "###########################################\n",
    "torch.set_default_dtype(eval(p.torch_default_dtype))"
   ]
  },
  {
   "cell_type": "code",
   "execution_count": 8,
   "id": "b5fba671",
   "metadata": {
    "execution": {
     "iopub.execute_input": "2022-03-21T18:40:21.091745Z",
     "iopub.status.busy": "2022-03-21T18:40:21.091366Z",
     "iopub.status.idle": "2022-03-21T18:40:21.142292Z",
     "shell.execute_reply": "2022-03-21T18:40:21.141588Z"
    },
    "papermill": {
     "duration": 0.073705,
     "end_time": "2022-03-21T18:40:21.142444",
     "exception": false,
     "start_time": "2022-03-21T18:40:21.068739",
     "status": "completed"
    },
    "tags": []
   },
   "outputs": [],
   "source": [
    "###################################\n",
    "# Build the network(s)\n",
    "# Note: It's critical to do this AFTER setting the RNG\n",
    "###################################\n",
    "x_net = build_sequential(p.x_net)"
   ]
  },
  {
   "cell_type": "code",
   "execution_count": 9,
   "id": "5d7e61cc",
   "metadata": {
    "execution": {
     "iopub.execute_input": "2022-03-21T18:40:21.193484Z",
     "iopub.status.busy": "2022-03-21T18:40:21.192730Z",
     "iopub.status.idle": "2022-03-21T18:40:21.214767Z",
     "shell.execute_reply": "2022-03-21T18:40:21.213953Z"
    },
    "papermill": {
     "duration": 0.046497,
     "end_time": "2022-03-21T18:40:21.214932",
     "exception": false,
     "start_time": "2022-03-21T18:40:21.168435",
     "status": "completed"
    },
    "tags": []
   },
   "outputs": [],
   "source": [
    "start_time_secs = time.time()"
   ]
  },
  {
   "cell_type": "code",
   "execution_count": 10,
   "id": "c6b67dfd",
   "metadata": {
    "execution": {
     "iopub.execute_input": "2022-03-21T18:40:21.264942Z",
     "iopub.status.busy": "2022-03-21T18:40:21.264299Z",
     "iopub.status.idle": "2022-03-21T18:40:21.281362Z",
     "shell.execute_reply": "2022-03-21T18:40:21.280520Z"
    },
    "papermill": {
     "duration": 0.040614,
     "end_time": "2022-03-21T18:40:21.281530",
     "exception": false,
     "start_time": "2022-03-21T18:40:21.240916",
     "status": "completed"
    },
    "tags": []
   },
   "outputs": [],
   "source": [
    "p.domains_source = []\n",
    "p.domains_target = []\n",
    "\n",
    "\n",
    "train_original_source = []\n",
    "val_original_source   = []\n",
    "test_original_source  = []\n",
    "\n",
    "train_original_target = []\n",
    "val_original_target   = []\n",
    "test_original_target  = []"
   ]
  },
  {
   "cell_type": "code",
   "execution_count": 11,
   "id": "e3d9c3d3",
   "metadata": {
    "execution": {
     "iopub.execute_input": "2022-03-21T18:40:21.341741Z",
     "iopub.status.busy": "2022-03-21T18:40:21.340925Z",
     "iopub.status.idle": "2022-03-21T18:40:21.352496Z",
     "shell.execute_reply": "2022-03-21T18:40:21.351678Z"
    },
    "papermill": {
     "duration": 0.043779,
     "end_time": "2022-03-21T18:40:21.352664",
     "exception": false,
     "start_time": "2022-03-21T18:40:21.308885",
     "status": "completed"
    },
    "tags": []
   },
   "outputs": [],
   "source": [
    "# global_x_transform_func = lambda x: normalize(x.to(torch.get_default_dtype()), \"unit_power\") # unit_power, unit_mag\n",
    "# global_x_transform_func = lambda x: normalize(x, \"unit_power\") # unit_power, unit_mag"
   ]
  },
  {
   "cell_type": "code",
   "execution_count": 12,
   "id": "acb78fd2",
   "metadata": {
    "execution": {
     "iopub.execute_input": "2022-03-21T18:40:21.414830Z",
     "iopub.status.busy": "2022-03-21T18:40:21.414159Z",
     "iopub.status.idle": "2022-03-21T18:40:21.431795Z",
     "shell.execute_reply": "2022-03-21T18:40:21.430954Z"
    },
    "papermill": {
     "duration": 0.050585,
     "end_time": "2022-03-21T18:40:21.431963",
     "exception": false,
     "start_time": "2022-03-21T18:40:21.381378",
     "status": "completed"
    },
    "tags": []
   },
   "outputs": [],
   "source": [
    "def add_dataset(\n",
    "    labels,\n",
    "    domains,\n",
    "    pickle_path,\n",
    "    x_transforms,\n",
    "    episode_transforms,\n",
    "    domain_prefix,\n",
    "    num_examples_per_domain_per_label,\n",
    "    source_or_target_dataset:str,\n",
    "    iterator_seed=p.seed,\n",
    "    dataset_seed=p.dataset_seed,\n",
    "    n_shot=p.n_shot,\n",
    "    n_way=p.n_way,\n",
    "    n_query=p.n_query,\n",
    "    train_val_test_k_factors=(p.train_k_factor,p.val_k_factor,p.test_k_factor),\n",
    "):\n",
    "   \n",
    "    if x_transforms == []: x_transform = None\n",
    "    else: x_transform = get_chained_transform(x_transforms)\n",
    "    \n",
    "    if episode_transforms == []: episode_transform = None\n",
    "    else: raise Exception(\"episode_transforms not implemented\")\n",
    "    \n",
    "    episode_transform = lambda tup, _prefix=domain_prefix: (_prefix + str(tup[0]), tup[1])\n",
    "\n",
    "\n",
    "    eaf = Episodic_Accessor_Factory(\n",
    "        labels=labels,\n",
    "        domains=domains,\n",
    "        num_examples_per_domain_per_label=num_examples_per_domain_per_label,\n",
    "        iterator_seed=iterator_seed,\n",
    "        dataset_seed=dataset_seed,\n",
    "        n_shot=n_shot,\n",
    "        n_way=n_way,\n",
    "        n_query=n_query,\n",
    "        train_val_test_k_factors=train_val_test_k_factors,\n",
    "        pickle_path=pickle_path,\n",
    "        x_transform_func=x_transform,\n",
    "    )\n",
    "\n",
    "    train, val, test = eaf.get_train(), eaf.get_val(), eaf.get_test()\n",
    "    train = Lazy_Iterable_Wrapper(train, episode_transform)\n",
    "    val = Lazy_Iterable_Wrapper(val, episode_transform)\n",
    "    test = Lazy_Iterable_Wrapper(test, episode_transform)\n",
    "\n",
    "    if source_or_target_dataset==\"source\":\n",
    "        train_original_source.append(train)\n",
    "        val_original_source.append(val)\n",
    "        test_original_source.append(test)\n",
    "\n",
    "        p.domains_source.extend(\n",
    "            [domain_prefix + str(u) for u in domains]\n",
    "        )\n",
    "    elif source_or_target_dataset==\"target\":\n",
    "        train_original_target.append(train)\n",
    "        val_original_target.append(val)\n",
    "        test_original_target.append(test)\n",
    "        p.domains_target.extend(\n",
    "            [domain_prefix + str(u) for u in domains]\n",
    "        )\n",
    "    else:\n",
    "        raise Exception(f\"invalid source_or_target_dataset: {source_or_target_dataset}\")\n",
    "    "
   ]
  },
  {
   "cell_type": "code",
   "execution_count": 13,
   "id": "fe266617",
   "metadata": {
    "execution": {
     "iopub.execute_input": "2022-03-21T18:40:21.486095Z",
     "iopub.status.busy": "2022-03-21T18:40:21.485460Z",
     "iopub.status.idle": "2022-03-21T18:40:33.308533Z",
     "shell.execute_reply": "2022-03-21T18:40:33.307756Z"
    },
    "papermill": {
     "duration": 11.848561,
     "end_time": "2022-03-21T18:40:33.308692",
     "exception": false,
     "start_time": "2022-03-21T18:40:21.460131",
     "status": "completed"
    },
    "tags": []
   },
   "outputs": [],
   "source": [
    "for ds in p.datasets:\n",
    "    add_dataset(**ds)"
   ]
  },
  {
   "cell_type": "code",
   "execution_count": 14,
   "id": "b90d65ac",
   "metadata": {
    "execution": {
     "iopub.execute_input": "2022-03-21T18:40:33.359586Z",
     "iopub.status.busy": "2022-03-21T18:40:33.359182Z",
     "iopub.status.idle": "2022-03-21T18:40:33.386768Z",
     "shell.execute_reply": "2022-03-21T18:40:33.385950Z"
    },
    "papermill": {
     "duration": 0.052159,
     "end_time": "2022-03-21T18:40:33.386941",
     "exception": false,
     "start_time": "2022-03-21T18:40:33.334782",
     "status": "completed"
    },
    "tags": []
   },
   "outputs": [],
   "source": [
    "# from steves_utils.CORES.utils import (\n",
    "#     ALL_NODES,\n",
    "#     ALL_NODES_MINIMUM_1000_EXAMPLES,\n",
    "#     ALL_DAYS\n",
    "# )\n",
    "\n",
    "# add_dataset(\n",
    "#     labels=ALL_NODES,\n",
    "#     domains = ALL_DAYS,\n",
    "#     num_examples_per_domain_per_label=100,\n",
    "#     pickle_path=os.path.join(get_datasets_base_path(), \"cores.stratified_ds.2022A.pkl\"),\n",
    "#     source_or_target_dataset=\"target\",\n",
    "#     x_transform_func=global_x_transform_func,\n",
    "#     domain_modifier=lambda u: f\"cores_{u}\"\n",
    "# )"
   ]
  },
  {
   "cell_type": "code",
   "execution_count": 15,
   "id": "76db484d",
   "metadata": {
    "execution": {
     "iopub.execute_input": "2022-03-21T18:40:33.446835Z",
     "iopub.status.busy": "2022-03-21T18:40:33.446455Z",
     "iopub.status.idle": "2022-03-21T18:40:33.466339Z",
     "shell.execute_reply": "2022-03-21T18:40:33.465638Z"
    },
    "papermill": {
     "duration": 0.05114,
     "end_time": "2022-03-21T18:40:33.466501",
     "exception": false,
     "start_time": "2022-03-21T18:40:33.415361",
     "status": "completed"
    },
    "tags": []
   },
   "outputs": [],
   "source": [
    "# from steves_utils.ORACLE.utils_v2 import (\n",
    "#     ALL_DISTANCES_FEET,\n",
    "#     ALL_RUNS,\n",
    "#     ALL_SERIAL_NUMBERS,\n",
    "# )\n",
    "\n",
    "\n",
    "# add_dataset(\n",
    "#     labels=ALL_SERIAL_NUMBERS,\n",
    "#     domains = list(set(ALL_DISTANCES_FEET) - {2,62}),\n",
    "#     num_examples_per_domain_per_label=100,\n",
    "#     pickle_path=os.path.join(get_datasets_base_path(), \"oracle.Run2_framed_2000Examples_stratified_ds.2022A.pkl\"),\n",
    "#     source_or_target_dataset=\"source\",\n",
    "#     x_transform_func=global_x_transform_func,\n",
    "#     domain_modifier=lambda u: f\"oracle1_{u}\"\n",
    "# )\n"
   ]
  },
  {
   "cell_type": "code",
   "execution_count": 16,
   "id": "97dea9d2",
   "metadata": {
    "execution": {
     "iopub.execute_input": "2022-03-21T18:40:33.518068Z",
     "iopub.status.busy": "2022-03-21T18:40:33.517503Z",
     "iopub.status.idle": "2022-03-21T18:40:33.540103Z",
     "shell.execute_reply": "2022-03-21T18:40:33.539283Z"
    },
    "papermill": {
     "duration": 0.047256,
     "end_time": "2022-03-21T18:40:33.540257",
     "exception": false,
     "start_time": "2022-03-21T18:40:33.493001",
     "status": "completed"
    },
    "tags": []
   },
   "outputs": [],
   "source": [
    "# from steves_utils.ORACLE.utils_v2 import (\n",
    "#     ALL_DISTANCES_FEET,\n",
    "#     ALL_RUNS,\n",
    "#     ALL_SERIAL_NUMBERS,\n",
    "# )\n",
    "\n",
    "\n",
    "# add_dataset(\n",
    "#     labels=ALL_SERIAL_NUMBERS,\n",
    "#     domains = list(set(ALL_DISTANCES_FEET) - {2,62,56}),\n",
    "#     num_examples_per_domain_per_label=100,\n",
    "#     pickle_path=os.path.join(get_datasets_base_path(), \"oracle.Run2_framed_2000Examples_stratified_ds.2022A.pkl\"),\n",
    "#     source_or_target_dataset=\"source\",\n",
    "#     x_transform_func=global_x_transform_func,\n",
    "#     domain_modifier=lambda u: f\"oracle2_{u}\"\n",
    "# )"
   ]
  },
  {
   "cell_type": "code",
   "execution_count": 17,
   "id": "6f289866",
   "metadata": {
    "execution": {
     "iopub.execute_input": "2022-03-21T18:40:33.594712Z",
     "iopub.status.busy": "2022-03-21T18:40:33.594244Z",
     "iopub.status.idle": "2022-03-21T18:40:33.616424Z",
     "shell.execute_reply": "2022-03-21T18:40:33.615621Z"
    },
    "papermill": {
     "duration": 0.046465,
     "end_time": "2022-03-21T18:40:33.616580",
     "exception": false,
     "start_time": "2022-03-21T18:40:33.570115",
     "status": "completed"
    },
    "tags": []
   },
   "outputs": [],
   "source": [
    "# add_dataset(\n",
    "#     labels=list(range(19)),\n",
    "#     domains = [0,1,2],\n",
    "#     num_examples_per_domain_per_label=100,\n",
    "#     pickle_path=os.path.join(get_datasets_base_path(), \"metehan.stratified_ds.2022A.pkl\"),\n",
    "#     source_or_target_dataset=\"target\",\n",
    "#     x_transform_func=global_x_transform_func,\n",
    "#     domain_modifier=lambda u: f\"met_{u}\"\n",
    "# )"
   ]
  },
  {
   "cell_type": "code",
   "execution_count": 18,
   "id": "86a863c3",
   "metadata": {
    "execution": {
     "iopub.execute_input": "2022-03-21T18:40:33.667133Z",
     "iopub.status.busy": "2022-03-21T18:40:33.666760Z",
     "iopub.status.idle": "2022-03-21T18:40:33.690525Z",
     "shell.execute_reply": "2022-03-21T18:40:33.689788Z"
    },
    "papermill": {
     "duration": 0.048311,
     "end_time": "2022-03-21T18:40:33.690676",
     "exception": false,
     "start_time": "2022-03-21T18:40:33.642365",
     "status": "completed"
    },
    "tags": []
   },
   "outputs": [],
   "source": [
    "# # from steves_utils.wisig.utils import (\n",
    "# #     ALL_NODES_MINIMUM_100_EXAMPLES,\n",
    "# #     ALL_NODES_MINIMUM_500_EXAMPLES,\n",
    "# #     ALL_NODES_MINIMUM_1000_EXAMPLES,\n",
    "# #     ALL_DAYS\n",
    "# # )\n",
    "\n",
    "# import steves_utils.wisig.utils as wisig\n",
    "\n",
    "\n",
    "# add_dataset(\n",
    "#     labels=wisig.ALL_NODES_MINIMUM_100_EXAMPLES,\n",
    "#     domains = wisig.ALL_DAYS,\n",
    "#     num_examples_per_domain_per_label=100,\n",
    "#     pickle_path=os.path.join(get_datasets_base_path(), \"wisig.node3-19.stratified_ds.2022A.pkl\"),\n",
    "#     source_or_target_dataset=\"target\",\n",
    "#     x_transform_func=global_x_transform_func,\n",
    "#     domain_modifier=lambda u: f\"wisig_{u}\"\n",
    "# )"
   ]
  },
  {
   "cell_type": "code",
   "execution_count": 19,
   "id": "fd5442bc",
   "metadata": {
    "execution": {
     "iopub.execute_input": "2022-03-21T18:40:33.748328Z",
     "iopub.status.busy": "2022-03-21T18:40:33.747940Z",
     "iopub.status.idle": "2022-03-21T18:40:33.769226Z",
     "shell.execute_reply": "2022-03-21T18:40:33.768402Z"
    },
    "papermill": {
     "duration": 0.051399,
     "end_time": "2022-03-21T18:40:33.769386",
     "exception": false,
     "start_time": "2022-03-21T18:40:33.717987",
     "status": "completed"
    },
    "tags": []
   },
   "outputs": [],
   "source": [
    "###################################\n",
    "# Build the dataset\n",
    "###################################\n",
    "train_original_source = Iterable_Aggregator(train_original_source, p.seed)\n",
    "val_original_source = Iterable_Aggregator(val_original_source, p.seed)\n",
    "test_original_source = Iterable_Aggregator(test_original_source, p.seed)\n",
    "\n",
    "\n",
    "train_original_target = Iterable_Aggregator(train_original_target, p.seed)\n",
    "val_original_target = Iterable_Aggregator(val_original_target, p.seed)\n",
    "test_original_target = Iterable_Aggregator(test_original_target, p.seed)\n",
    "\n",
    "# For CNN We only use X and Y. And we only train on the source.\n",
    "# Properly form the data using a transform lambda and Lazy_Iterable_Wrapper. Finally wrap them in a dataloader\n",
    "\n",
    "transform_lambda = lambda ex: ex[1] # Original is (<domain>, <episode>) so we strip down to episode only\n",
    "\n",
    "train_processed_source = Lazy_Iterable_Wrapper(train_original_source, transform_lambda)\n",
    "val_processed_source   = Lazy_Iterable_Wrapper(val_original_source, transform_lambda)\n",
    "test_processed_source  = Lazy_Iterable_Wrapper(test_original_source, transform_lambda)\n",
    "\n",
    "train_processed_target = Lazy_Iterable_Wrapper(train_original_target, transform_lambda)\n",
    "val_processed_target   = Lazy_Iterable_Wrapper(val_original_target, transform_lambda)\n",
    "test_processed_target  = Lazy_Iterable_Wrapper(test_original_target, transform_lambda)\n",
    "\n",
    "datasets = EasyDict({\n",
    "    \"source\": {\n",
    "        \"original\": {\"train\":train_original_source, \"val\":val_original_source, \"test\":test_original_source},\n",
    "        \"processed\": {\"train\":train_processed_source, \"val\":val_processed_source, \"test\":test_processed_source}\n",
    "    },\n",
    "    \"target\": {\n",
    "        \"original\": {\"train\":train_original_target, \"val\":val_original_target, \"test\":test_original_target},\n",
    "        \"processed\": {\"train\":train_processed_target, \"val\":val_processed_target, \"test\":test_processed_target}\n",
    "    },\n",
    "})"
   ]
  },
  {
   "cell_type": "code",
   "execution_count": 20,
   "id": "5b3c01fc",
   "metadata": {
    "execution": {
     "iopub.execute_input": "2022-03-21T18:40:33.820689Z",
     "iopub.status.busy": "2022-03-21T18:40:33.820319Z",
     "iopub.status.idle": "2022-03-21T18:41:07.460751Z",
     "shell.execute_reply": "2022-03-21T18:41:07.461419Z"
    },
    "papermill": {
     "duration": 33.667429,
     "end_time": "2022-03-21T18:41:07.461645",
     "exception": false,
     "start_time": "2022-03-21T18:40:33.794216",
     "status": "completed"
    },
    "tags": []
   },
   "outputs": [
    {
     "name": "stdout",
     "output_type": "stream",
     "text": [
      "{'ORACLE.run1_32', 'ORACLE.run1_8', 'ORACLE.run1_50', 'ORACLE.run1_14', 'ORACLE.run1_26', 'ORACLE.run1_44', 'ORACLE.run1_20', 'ORACLE.run1_38'}\n"
     ]
    },
    {
     "name": "stdout",
     "output_type": "stream",
     "text": [
      "{'CORES_3', 'CORES_2', 'CORES_5', 'CORES_1', 'CORES_4'}\n"
     ]
    },
    {
     "name": "stdout",
     "output_type": "stream",
     "text": [
      "tensor([[[-6.1037e-05, -1.0987e-03,  1.1292e-03,  ..., -1.0376e-03,\n",
      "          -8.8504e-04,  1.7701e-03],\n",
      "         [-1.8616e-03,  7.3244e-04, -3.9674e-04,  ...,  2.1363e-04,\n",
      "          -3.0519e-03,  4.2726e-04]],\n",
      "\n",
      "        [[ 1.4954e-03, -2.3804e-03, -4.6083e-03,  ...,  1.4649e-03,\n",
      "           1.8311e-04, -1.0376e-03],\n",
      "         [-4.5778e-04, -1.3428e-03, -4.7609e-03,  ..., -1.5564e-03,\n",
      "           1.0071e-03, -1.7090e-03]],\n",
      "\n",
      "        [[-2.8382e-03, -1.4954e-03,  3.3570e-04,  ...,  3.9674e-04,\n",
      "           4.6388e-03,  3.5707e-03],\n",
      "         [-6.4089e-04,  1.0987e-03, -1.2207e-03,  ..., -4.9135e-03,\n",
      "           0.0000e+00, -9.1556e-05]],\n",
      "\n",
      "        ...,\n",
      "\n",
      "        [[-6.1037e-05,  3.0824e-03, -3.6622e-04,  ..., -4.1505e-03,\n",
      "          -6.6836e-03,  4.3031e-03],\n",
      "         [ 5.8596e-03, -4.2116e-03, -2.5941e-03,  ..., -6.7141e-04,\n",
      "           1.0071e-03, -4.5473e-03]],\n",
      "\n",
      "        [[-4.2116e-03, -6.5310e-03, -7.8433e-03,  ..., -4.0590e-03,\n",
      "           2.6246e-03,  9.4607e-04],\n",
      "         [ 5.4018e-03,  1.5259e-04,  5.4018e-03,  ..., -1.5259e-03,\n",
      "           3.5096e-03, -9.1556e-04]],\n",
      "\n",
      "        [[ 6.2868e-03, -3.3570e-03, -2.8382e-03,  ..., -3.8148e-03,\n",
      "          -1.8921e-03, -3.0519e-05],\n",
      "         [-2.2279e-03,  4.6999e-03,  3.0519e-05,  ...,  7.2634e-03,\n",
      "           1.0681e-03,  5.0661e-03]]])\n"
     ]
    }
   ],
   "source": [
    "from steves_utils.transforms import get_average_magnitude, get_average_power\n",
    "\n",
    "print(set([u for u,_ in val_original_source]))\n",
    "print(set([u for u,_ in val_original_target]))\n",
    "\n",
    "s_x, s_y, q_x, q_y, _ = next(iter(train_processed_source))\n",
    "print(s_x)\n",
    "\n",
    "# for ds in [\n",
    "#     train_processed_source,\n",
    "#     val_processed_source,\n",
    "#     test_processed_source,\n",
    "#     train_processed_target,\n",
    "#     val_processed_target,\n",
    "#     test_processed_target\n",
    "# ]:\n",
    "#     for s_x, s_y, q_x, q_y, _ in ds:\n",
    "#         for X in (s_x, q_x):\n",
    "#             for x in X:\n",
    "#                 assert np.isclose(get_average_magnitude(x.numpy()), 1.0)\n",
    "#                 assert np.isclose(get_average_power(x.numpy()), 1.0)\n",
    "                "
   ]
  },
  {
   "cell_type": "code",
   "execution_count": 21,
   "id": "bbdacba1",
   "metadata": {
    "execution": {
     "iopub.execute_input": "2022-03-21T18:41:07.520726Z",
     "iopub.status.busy": "2022-03-21T18:41:07.520148Z",
     "iopub.status.idle": "2022-03-21T18:41:07.781617Z",
     "shell.execute_reply": "2022-03-21T18:41:07.781220Z"
    },
    "papermill": {
     "duration": 0.291095,
     "end_time": "2022-03-21T18:41:07.781736",
     "exception": false,
     "start_time": "2022-03-21T18:41:07.490641",
     "status": "completed"
    },
    "tags": []
   },
   "outputs": [
    {
     "name": "stdout",
     "output_type": "stream",
     "text": [
      "(2, 256)\n"
     ]
    }
   ],
   "source": [
    "###################################\n",
    "# Build the model\n",
    "###################################\n",
    "# easfsl only wants a tuple for the shape\n",
    "model = Steves_Prototypical_Network(x_net, device=p.device, x_shape=tuple(p.x_shape))\n",
    "optimizer = Adam(params=model.parameters(), lr=p.lr)"
   ]
  },
  {
   "cell_type": "code",
   "execution_count": 22,
   "id": "22b39ac5",
   "metadata": {
    "execution": {
     "iopub.execute_input": "2022-03-21T18:41:07.837511Z",
     "iopub.status.busy": "2022-03-21T18:41:07.837034Z",
     "iopub.status.idle": "2022-03-21T22:05:34.874897Z",
     "shell.execute_reply": "2022-03-21T22:05:34.874429Z"
    },
    "papermill": {
     "duration": 12267.070591,
     "end_time": "2022-03-21T22:05:34.875191",
     "exception": false,
     "start_time": "2022-03-21T18:41:07.804600",
     "status": "completed"
    },
    "tags": []
   },
   "outputs": [
    {
     "name": "stdout",
     "output_type": "stream",
     "text": [
      "epoch: 1, [batch: 1 / 33600], examples_per_second: 6.7950, train_label_loss: 2.7566, \n"
     ]
    },
    {
     "name": "stdout",
     "output_type": "stream",
     "text": [
      "epoch: 1, [batch: 3360 / 33600], examples_per_second: 2469.9685, train_label_loss: 1.1418, \n"
     ]
    },
    {
     "name": "stdout",
     "output_type": "stream",
     "text": [
      "epoch: 1, [batch: 6720 / 33600], examples_per_second: 2726.9690, train_label_loss: 1.0616, \n"
     ]
    },
    {
     "name": "stdout",
     "output_type": "stream",
     "text": [
      "epoch: 1, [batch: 10080 / 33600], examples_per_second: 2620.0585, train_label_loss: 0.4766, \n"
     ]
    },
    {
     "name": "stdout",
     "output_type": "stream",
     "text": [
      "epoch: 1, [batch: 13440 / 33600], examples_per_second: 3145.0074, train_label_loss: 0.5304, \n"
     ]
    },
    {
     "name": "stdout",
     "output_type": "stream",
     "text": [
      "epoch: 1, [batch: 16800 / 33600], examples_per_second: 2977.6354, train_label_loss: 0.5152, \n"
     ]
    },
    {
     "name": "stdout",
     "output_type": "stream",
     "text": [
      "epoch: 1, [batch: 20160 / 33600], examples_per_second: 2734.9040, train_label_loss: 0.4358, \n"
     ]
    },
    {
     "name": "stdout",
     "output_type": "stream",
     "text": [
      "epoch: 1, [batch: 23520 / 33600], examples_per_second: 2530.4230, train_label_loss: 0.2947, \n"
     ]
    },
    {
     "name": "stdout",
     "output_type": "stream",
     "text": [
      "epoch: 1, [batch: 26880 / 33600], examples_per_second: 2457.1065, train_label_loss: 0.3679, \n"
     ]
    },
    {
     "name": "stdout",
     "output_type": "stream",
     "text": [
      "epoch: 1, [batch: 30240 / 33600], examples_per_second: 2656.4050, train_label_loss: 0.6849, \n"
     ]
    },
    {
     "name": "stdout",
     "output_type": "stream",
     "text": [
      "=============================================================\n",
      "epoch: 1, source_val_acc_label: 0.7669, target_val_acc_label: 0.9340, source_val_label_loss: 1.0252, target_val_label_loss: 13.1108, \n",
      "=============================================================\n"
     ]
    },
    {
     "name": "stdout",
     "output_type": "stream",
     "text": [
      "New best\n"
     ]
    },
    {
     "name": "stdout",
     "output_type": "stream",
     "text": [
      "epoch: 2, [batch: 1 / 33600], examples_per_second: 0.7033, train_label_loss: 0.5073, \n"
     ]
    },
    {
     "name": "stdout",
     "output_type": "stream",
     "text": [
      "epoch: 2, [batch: 3360 / 33600], examples_per_second: 3028.6477, train_label_loss: 0.3242, \n"
     ]
    },
    {
     "name": "stdout",
     "output_type": "stream",
     "text": [
      "epoch: 2, [batch: 6720 / 33600], examples_per_second: 2676.0515, train_label_loss: 0.4420, \n"
     ]
    },
    {
     "name": "stdout",
     "output_type": "stream",
     "text": [
      "epoch: 2, [batch: 10080 / 33600], examples_per_second: 2373.6374, train_label_loss: 0.3111, \n"
     ]
    },
    {
     "name": "stdout",
     "output_type": "stream",
     "text": [
      "epoch: 2, [batch: 13440 / 33600], examples_per_second: 2645.4092, train_label_loss: 0.3274, \n"
     ]
    },
    {
     "name": "stdout",
     "output_type": "stream",
     "text": [
      "epoch: 2, [batch: 16800 / 33600], examples_per_second: 2497.3564, train_label_loss: 0.4603, \n"
     ]
    },
    {
     "name": "stdout",
     "output_type": "stream",
     "text": [
      "epoch: 2, [batch: 20160 / 33600], examples_per_second: 2392.9923, train_label_loss: 0.8612, \n"
     ]
    },
    {
     "name": "stdout",
     "output_type": "stream",
     "text": [
      "epoch: 2, [batch: 23520 / 33600], examples_per_second: 2633.7949, train_label_loss: 0.2513, \n"
     ]
    },
    {
     "name": "stdout",
     "output_type": "stream",
     "text": [
      "epoch: 2, [batch: 26880 / 33600], examples_per_second: 2402.2067, train_label_loss: 0.2938, \n"
     ]
    },
    {
     "name": "stdout",
     "output_type": "stream",
     "text": [
      "epoch: 2, [batch: 30240 / 33600], examples_per_second: 2587.4459, train_label_loss: 0.4387, \n"
     ]
    },
    {
     "name": "stdout",
     "output_type": "stream",
     "text": [
      "=============================================================\n",
      "epoch: 2, source_val_acc_label: 0.8610, target_val_acc_label: 0.9758, source_val_label_loss: 0.3968, target_val_label_loss: 2.2466, \n",
      "=============================================================\n"
     ]
    },
    {
     "name": "stdout",
     "output_type": "stream",
     "text": [
      "New best\n"
     ]
    },
    {
     "name": "stdout",
     "output_type": "stream",
     "text": [
      "epoch: 3, [batch: 1 / 33600], examples_per_second: 0.6833, train_label_loss: 0.5292, \n"
     ]
    },
    {
     "name": "stdout",
     "output_type": "stream",
     "text": [
      "epoch: 3, [batch: 3360 / 33600], examples_per_second: 3002.8391, train_label_loss: 0.2856, \n"
     ]
    },
    {
     "name": "stdout",
     "output_type": "stream",
     "text": [
      "epoch: 3, [batch: 6720 / 33600], examples_per_second: 2425.3375, train_label_loss: 0.2698, \n"
     ]
    },
    {
     "name": "stdout",
     "output_type": "stream",
     "text": [
      "epoch: 3, [batch: 10080 / 33600], examples_per_second: 2502.4318, train_label_loss: 0.4770, \n"
     ]
    },
    {
     "name": "stdout",
     "output_type": "stream",
     "text": [
      "epoch: 3, [batch: 13440 / 33600], examples_per_second: 2458.6621, train_label_loss: 0.4067, \n"
     ]
    },
    {
     "name": "stdout",
     "output_type": "stream",
     "text": [
      "epoch: 3, [batch: 16800 / 33600], examples_per_second: 2483.8048, train_label_loss: 0.4791, \n"
     ]
    },
    {
     "name": "stdout",
     "output_type": "stream",
     "text": [
      "epoch: 3, [batch: 20160 / 33600], examples_per_second: 2670.5053, train_label_loss: 0.3846, \n"
     ]
    },
    {
     "name": "stdout",
     "output_type": "stream",
     "text": [
      "epoch: 3, [batch: 23520 / 33600], examples_per_second: 2425.0443, train_label_loss: 0.7841, \n"
     ]
    },
    {
     "name": "stdout",
     "output_type": "stream",
     "text": [
      "epoch: 3, [batch: 26880 / 33600], examples_per_second: 2474.6971, train_label_loss: 0.1189, \n"
     ]
    },
    {
     "name": "stdout",
     "output_type": "stream",
     "text": [
      "epoch: 3, [batch: 30240 / 33600], examples_per_second: 2512.6597, train_label_loss: 0.2978, \n"
     ]
    },
    {
     "name": "stdout",
     "output_type": "stream",
     "text": [
      "=============================================================\n",
      "epoch: 3, source_val_acc_label: 0.8687, target_val_acc_label: 0.9780, source_val_label_loss: 0.3809, target_val_label_loss: 2.5371, \n",
      "=============================================================\n"
     ]
    },
    {
     "name": "stdout",
     "output_type": "stream",
     "text": [
      "New best\n"
     ]
    },
    {
     "name": "stdout",
     "output_type": "stream",
     "text": [
      "epoch: 4, [batch: 1 / 33600], examples_per_second: 0.6078, train_label_loss: 0.2548, \n"
     ]
    },
    {
     "name": "stdout",
     "output_type": "stream",
     "text": [
      "epoch: 4, [batch: 3360 / 33600], examples_per_second: 2599.3899, train_label_loss: 0.3848, \n"
     ]
    },
    {
     "name": "stdout",
     "output_type": "stream",
     "text": [
      "epoch: 4, [batch: 6720 / 33600], examples_per_second: 2993.2222, train_label_loss: 0.6097, \n"
     ]
    },
    {
     "name": "stdout",
     "output_type": "stream",
     "text": [
      "epoch: 4, [batch: 10080 / 33600], examples_per_second: 2880.1528, train_label_loss: 0.2241, \n"
     ]
    },
    {
     "name": "stdout",
     "output_type": "stream",
     "text": [
      "epoch: 4, [batch: 13440 / 33600], examples_per_second: 2832.4385, train_label_loss: 0.2494, \n"
     ]
    },
    {
     "name": "stdout",
     "output_type": "stream",
     "text": [
      "epoch: 4, [batch: 16800 / 33600], examples_per_second: 2467.0622, train_label_loss: 0.2178, \n"
     ]
    },
    {
     "name": "stdout",
     "output_type": "stream",
     "text": [
      "epoch: 4, [batch: 20160 / 33600], examples_per_second: 2414.4228, train_label_loss: 0.0775, \n"
     ]
    },
    {
     "name": "stdout",
     "output_type": "stream",
     "text": [
      "epoch: 4, [batch: 23520 / 33600], examples_per_second: 2804.0516, train_label_loss: 0.1496, \n"
     ]
    },
    {
     "name": "stdout",
     "output_type": "stream",
     "text": [
      "epoch: 4, [batch: 26880 / 33600], examples_per_second: 2581.2058, train_label_loss: 0.2228, \n"
     ]
    },
    {
     "name": "stdout",
     "output_type": "stream",
     "text": [
      "epoch: 4, [batch: 30240 / 33600], examples_per_second: 3011.6856, train_label_loss: 0.5580, \n"
     ]
    },
    {
     "name": "stdout",
     "output_type": "stream",
     "text": [
      "=============================================================\n",
      "epoch: 4, source_val_acc_label: 0.8761, target_val_acc_label: 0.9838, source_val_label_loss: 0.3632, target_val_label_loss: 1.9415, \n",
      "=============================================================\n"
     ]
    },
    {
     "name": "stdout",
     "output_type": "stream",
     "text": [
      "New best\n"
     ]
    },
    {
     "name": "stdout",
     "output_type": "stream",
     "text": [
      "epoch: 5, [batch: 1 / 33600], examples_per_second: 0.6885, train_label_loss: 0.4026, \n"
     ]
    },
    {
     "name": "stdout",
     "output_type": "stream",
     "text": [
      "epoch: 5, [batch: 3360 / 33600], examples_per_second: 2407.8930, train_label_loss: 0.0964, \n"
     ]
    },
    {
     "name": "stdout",
     "output_type": "stream",
     "text": [
      "epoch: 5, [batch: 6720 / 33600], examples_per_second: 2620.3840, train_label_loss: 0.1335, \n"
     ]
    },
    {
     "name": "stdout",
     "output_type": "stream",
     "text": [
      "epoch: 5, [batch: 10080 / 33600], examples_per_second: 2502.7585, train_label_loss: 0.3025, \n"
     ]
    },
    {
     "name": "stdout",
     "output_type": "stream",
     "text": [
      "epoch: 5, [batch: 13440 / 33600], examples_per_second: 2459.1853, train_label_loss: 0.2688, \n"
     ]
    },
    {
     "name": "stdout",
     "output_type": "stream",
     "text": [
      "epoch: 5, [batch: 16800 / 33600], examples_per_second: 2537.6833, train_label_loss: 0.4015, \n"
     ]
    },
    {
     "name": "stdout",
     "output_type": "stream",
     "text": [
      "epoch: 5, [batch: 20160 / 33600], examples_per_second: 2409.8060, train_label_loss: 0.2184, \n"
     ]
    },
    {
     "name": "stdout",
     "output_type": "stream",
     "text": [
      "epoch: 5, [batch: 23520 / 33600], examples_per_second: 2615.7208, train_label_loss: 0.3061, \n"
     ]
    },
    {
     "name": "stdout",
     "output_type": "stream",
     "text": [
      "epoch: 5, [batch: 26880 / 33600], examples_per_second: 2516.7414, train_label_loss: 0.2819, \n"
     ]
    },
    {
     "name": "stdout",
     "output_type": "stream",
     "text": [
      "epoch: 5, [batch: 30240 / 33600], examples_per_second: 2747.4477, train_label_loss: 0.2323, \n"
     ]
    },
    {
     "name": "stdout",
     "output_type": "stream",
     "text": [
      "=============================================================\n",
      "epoch: 5, source_val_acc_label: 0.8806, target_val_acc_label: 0.9851, source_val_label_loss: 0.3335, target_val_label_loss: 1.7394, \n",
      "=============================================================\n"
     ]
    },
    {
     "name": "stdout",
     "output_type": "stream",
     "text": [
      "New best\n"
     ]
    },
    {
     "name": "stdout",
     "output_type": "stream",
     "text": [
      "epoch: 6, [batch: 1 / 33600], examples_per_second: 0.7445, train_label_loss: 0.2123, \n"
     ]
    },
    {
     "name": "stdout",
     "output_type": "stream",
     "text": [
      "epoch: 6, [batch: 3360 / 33600], examples_per_second: 3065.2554, train_label_loss: 0.1818, \n"
     ]
    },
    {
     "name": "stdout",
     "output_type": "stream",
     "text": [
      "epoch: 6, [batch: 6720 / 33600], examples_per_second: 2519.0711, train_label_loss: 0.2048, \n"
     ]
    },
    {
     "name": "stdout",
     "output_type": "stream",
     "text": [
      "epoch: 6, [batch: 10080 / 33600], examples_per_second: 2636.8932, train_label_loss: 0.4415, \n"
     ]
    },
    {
     "name": "stdout",
     "output_type": "stream",
     "text": [
      "epoch: 6, [batch: 13440 / 33600], examples_per_second: 2477.9680, train_label_loss: 0.5559, \n"
     ]
    },
    {
     "name": "stdout",
     "output_type": "stream",
     "text": [
      "epoch: 6, [batch: 16800 / 33600], examples_per_second: 2882.4665, train_label_loss: 0.1044, \n"
     ]
    },
    {
     "name": "stdout",
     "output_type": "stream",
     "text": [
      "epoch: 6, [batch: 20160 / 33600], examples_per_second: 2394.1627, train_label_loss: 0.2521, \n"
     ]
    },
    {
     "name": "stdout",
     "output_type": "stream",
     "text": [
      "epoch: 6, [batch: 23520 / 33600], examples_per_second: 2313.3948, train_label_loss: 0.2033, \n"
     ]
    },
    {
     "name": "stdout",
     "output_type": "stream",
     "text": [
      "epoch: 6, [batch: 26880 / 33600], examples_per_second: 3035.5570, train_label_loss: 0.1660, \n"
     ]
    },
    {
     "name": "stdout",
     "output_type": "stream",
     "text": [
      "epoch: 6, [batch: 30240 / 33600], examples_per_second: 2501.2424, train_label_loss: 0.1285, \n"
     ]
    },
    {
     "name": "stdout",
     "output_type": "stream",
     "text": [
      "=============================================================\n",
      "epoch: 6, source_val_acc_label: 0.8835, target_val_acc_label: 0.9849, source_val_label_loss: 0.3229, target_val_label_loss: 1.6843, \n",
      "=============================================================\n"
     ]
    },
    {
     "name": "stdout",
     "output_type": "stream",
     "text": [
      "epoch: 7, [batch: 1 / 33600], examples_per_second: 0.6481, train_label_loss: 0.3159, \n"
     ]
    },
    {
     "name": "stdout",
     "output_type": "stream",
     "text": [
      "epoch: 7, [batch: 3360 / 33600], examples_per_second: 3336.6815, train_label_loss: 0.2080, \n"
     ]
    },
    {
     "name": "stdout",
     "output_type": "stream",
     "text": [
      "epoch: 7, [batch: 6720 / 33600], examples_per_second: 3007.2319, train_label_loss: 0.0997, \n"
     ]
    },
    {
     "name": "stdout",
     "output_type": "stream",
     "text": [
      "epoch: 7, [batch: 10080 / 33600], examples_per_second: 3256.6878, train_label_loss: 0.1689, \n"
     ]
    },
    {
     "name": "stdout",
     "output_type": "stream",
     "text": [
      "epoch: 7, [batch: 13440 / 33600], examples_per_second: 3547.9691, train_label_loss: 0.0985, \n"
     ]
    },
    {
     "name": "stdout",
     "output_type": "stream",
     "text": [
      "epoch: 7, [batch: 16800 / 33600], examples_per_second: 2982.1810, train_label_loss: 0.4717, \n"
     ]
    },
    {
     "name": "stdout",
     "output_type": "stream",
     "text": [
      "epoch: 7, [batch: 20160 / 33600], examples_per_second: 3270.3952, train_label_loss: 0.1398, \n"
     ]
    },
    {
     "name": "stdout",
     "output_type": "stream",
     "text": [
      "epoch: 7, [batch: 23520 / 33600], examples_per_second: 3460.3288, train_label_loss: 0.1685, \n"
     ]
    },
    {
     "name": "stdout",
     "output_type": "stream",
     "text": [
      "epoch: 7, [batch: 26880 / 33600], examples_per_second: 3153.3564, train_label_loss: 0.0698, \n"
     ]
    },
    {
     "name": "stdout",
     "output_type": "stream",
     "text": [
      "epoch: 7, [batch: 30240 / 33600], examples_per_second: 3225.8893, train_label_loss: 0.2467, \n"
     ]
    },
    {
     "name": "stdout",
     "output_type": "stream",
     "text": [
      "=============================================================\n",
      "epoch: 7, source_val_acc_label: 0.8847, target_val_acc_label: 0.9872, source_val_label_loss: 0.3233, target_val_label_loss: 1.6518, \n",
      "=============================================================\n"
     ]
    },
    {
     "name": "stdout",
     "output_type": "stream",
     "text": [
      "New best\n"
     ]
    },
    {
     "name": "stdout",
     "output_type": "stream",
     "text": [
      "epoch: 8, [batch: 1 / 33600], examples_per_second: 0.8665, train_label_loss: 0.0850, \n"
     ]
    },
    {
     "name": "stdout",
     "output_type": "stream",
     "text": [
      "epoch: 8, [batch: 3360 / 33600], examples_per_second: 3439.8080, train_label_loss: 0.2208, \n"
     ]
    },
    {
     "name": "stdout",
     "output_type": "stream",
     "text": [
      "epoch: 8, [batch: 6720 / 33600], examples_per_second: 3619.5534, train_label_loss: 0.1567, \n"
     ]
    },
    {
     "name": "stdout",
     "output_type": "stream",
     "text": [
      "epoch: 8, [batch: 10080 / 33600], examples_per_second: 3415.1344, train_label_loss: 0.2796, \n"
     ]
    },
    {
     "name": "stdout",
     "output_type": "stream",
     "text": [
      "epoch: 8, [batch: 13440 / 33600], examples_per_second: 3518.7698, train_label_loss: 0.0610, \n"
     ]
    },
    {
     "name": "stdout",
     "output_type": "stream",
     "text": [
      "epoch: 8, [batch: 16800 / 33600], examples_per_second: 4197.3392, train_label_loss: 0.1124, \n"
     ]
    },
    {
     "name": "stdout",
     "output_type": "stream",
     "text": [
      "epoch: 8, [batch: 20160 / 33600], examples_per_second: 3974.8259, train_label_loss: 0.1555, \n"
     ]
    },
    {
     "name": "stdout",
     "output_type": "stream",
     "text": [
      "epoch: 8, [batch: 23520 / 33600], examples_per_second: 4040.1037, train_label_loss: 0.1847, \n"
     ]
    },
    {
     "name": "stdout",
     "output_type": "stream",
     "text": [
      "epoch: 8, [batch: 26880 / 33600], examples_per_second: 4303.2960, train_label_loss: 0.1233, \n"
     ]
    },
    {
     "name": "stdout",
     "output_type": "stream",
     "text": [
      "epoch: 8, [batch: 30240 / 33600], examples_per_second: 4948.7030, train_label_loss: 0.4659, \n"
     ]
    },
    {
     "name": "stdout",
     "output_type": "stream",
     "text": [
      "=============================================================\n",
      "epoch: 8, source_val_acc_label: 0.8893, target_val_acc_label: 0.9880, source_val_label_loss: 0.3139, target_val_label_loss: 1.9984, \n",
      "=============================================================\n"
     ]
    },
    {
     "name": "stdout",
     "output_type": "stream",
     "text": [
      "New best\n"
     ]
    },
    {
     "name": "stdout",
     "output_type": "stream",
     "text": [
      "epoch: 9, [batch: 1 / 33600], examples_per_second: 1.3393, train_label_loss: 0.2889, \n"
     ]
    },
    {
     "name": "stdout",
     "output_type": "stream",
     "text": [
      "epoch: 9, [batch: 3360 / 33600], examples_per_second: 2968.8383, train_label_loss: 0.2648, \n"
     ]
    },
    {
     "name": "stdout",
     "output_type": "stream",
     "text": [
      "epoch: 9, [batch: 6720 / 33600], examples_per_second: 3010.0084, train_label_loss: 0.2344, \n"
     ]
    },
    {
     "name": "stdout",
     "output_type": "stream",
     "text": [
      "epoch: 9, [batch: 10080 / 33600], examples_per_second: 3669.4971, train_label_loss: 0.0435, \n"
     ]
    },
    {
     "name": "stdout",
     "output_type": "stream",
     "text": [
      "epoch: 9, [batch: 13440 / 33600], examples_per_second: 3192.8503, train_label_loss: 0.2329, \n"
     ]
    },
    {
     "name": "stdout",
     "output_type": "stream",
     "text": [
      "epoch: 9, [batch: 16800 / 33600], examples_per_second: 3171.5817, train_label_loss: 0.2719, \n"
     ]
    },
    {
     "name": "stdout",
     "output_type": "stream",
     "text": [
      "epoch: 9, [batch: 20160 / 33600], examples_per_second: 3235.1407, train_label_loss: 0.1364, \n"
     ]
    },
    {
     "name": "stdout",
     "output_type": "stream",
     "text": [
      "epoch: 9, [batch: 23520 / 33600], examples_per_second: 3394.7950, train_label_loss: 0.4112, \n"
     ]
    },
    {
     "name": "stdout",
     "output_type": "stream",
     "text": [
      "epoch: 9, [batch: 26880 / 33600], examples_per_second: 3277.0845, train_label_loss: 0.0276, \n"
     ]
    },
    {
     "name": "stdout",
     "output_type": "stream",
     "text": [
      "epoch: 9, [batch: 30240 / 33600], examples_per_second: 3052.9226, train_label_loss: 0.2135, \n"
     ]
    },
    {
     "name": "stdout",
     "output_type": "stream",
     "text": [
      "=============================================================\n",
      "epoch: 9, source_val_acc_label: 0.8908, target_val_acc_label: 0.9867, source_val_label_loss: 0.3147, target_val_label_loss: 2.4953, \n",
      "=============================================================\n"
     ]
    },
    {
     "name": "stdout",
     "output_type": "stream",
     "text": [
      "epoch: 10, [batch: 1 / 33600], examples_per_second: 0.8358, train_label_loss: 0.2795, \n"
     ]
    },
    {
     "name": "stdout",
     "output_type": "stream",
     "text": [
      "epoch: 10, [batch: 3360 / 33600], examples_per_second: 3327.6138, train_label_loss: 0.1093, \n"
     ]
    },
    {
     "name": "stdout",
     "output_type": "stream",
     "text": [
      "epoch: 10, [batch: 6720 / 33600], examples_per_second: 3434.7583, train_label_loss: 0.0309, \n"
     ]
    },
    {
     "name": "stdout",
     "output_type": "stream",
     "text": [
      "epoch: 10, [batch: 10080 / 33600], examples_per_second: 3056.4054, train_label_loss: 0.1328, \n"
     ]
    },
    {
     "name": "stdout",
     "output_type": "stream",
     "text": [
      "epoch: 10, [batch: 13440 / 33600], examples_per_second: 3191.3502, train_label_loss: 0.0840, \n"
     ]
    },
    {
     "name": "stdout",
     "output_type": "stream",
     "text": [
      "epoch: 10, [batch: 16800 / 33600], examples_per_second: 3408.4310, train_label_loss: 0.3436, \n"
     ]
    },
    {
     "name": "stdout",
     "output_type": "stream",
     "text": [
      "epoch: 10, [batch: 20160 / 33600], examples_per_second: 3641.7299, train_label_loss: 0.3138, \n"
     ]
    },
    {
     "name": "stdout",
     "output_type": "stream",
     "text": [
      "epoch: 10, [batch: 23520 / 33600], examples_per_second: 3478.1215, train_label_loss: 0.0735, \n"
     ]
    },
    {
     "name": "stdout",
     "output_type": "stream",
     "text": [
      "epoch: 10, [batch: 26880 / 33600], examples_per_second: 3442.5880, train_label_loss: 0.1717, \n"
     ]
    },
    {
     "name": "stdout",
     "output_type": "stream",
     "text": [
      "epoch: 10, [batch: 30240 / 33600], examples_per_second: 3619.8675, train_label_loss: 0.1530, \n"
     ]
    },
    {
     "name": "stdout",
     "output_type": "stream",
     "text": [
      "=============================================================\n",
      "epoch: 10, source_val_acc_label: 0.8883, target_val_acc_label: 0.9847, source_val_label_loss: 0.3158, target_val_label_loss: 2.8769, \n",
      "=============================================================\n"
     ]
    },
    {
     "name": "stdout",
     "output_type": "stream",
     "text": [
      "epoch: 11, [batch: 1 / 33600], examples_per_second: 0.9288, train_label_loss: 0.0564, \n"
     ]
    },
    {
     "name": "stdout",
     "output_type": "stream",
     "text": [
      "epoch: 11, [batch: 3360 / 33600], examples_per_second: 3954.9499, train_label_loss: 0.2415, \n"
     ]
    },
    {
     "name": "stdout",
     "output_type": "stream",
     "text": [
      "epoch: 11, [batch: 6720 / 33600], examples_per_second: 4231.2399, train_label_loss: 0.1891, \n"
     ]
    },
    {
     "name": "stdout",
     "output_type": "stream",
     "text": [
      "epoch: 11, [batch: 10080 / 33600], examples_per_second: 4253.9419, train_label_loss: 0.1915, \n"
     ]
    },
    {
     "name": "stdout",
     "output_type": "stream",
     "text": [
      "epoch: 11, [batch: 13440 / 33600], examples_per_second: 4953.1787, train_label_loss: 0.0624, \n"
     ]
    },
    {
     "name": "stdout",
     "output_type": "stream",
     "text": [
      "epoch: 11, [batch: 16800 / 33600], examples_per_second: 4159.7174, train_label_loss: 0.2223, \n"
     ]
    },
    {
     "name": "stdout",
     "output_type": "stream",
     "text": [
      "epoch: 11, [batch: 20160 / 33600], examples_per_second: 3090.6082, train_label_loss: 0.1232, \n"
     ]
    },
    {
     "name": "stdout",
     "output_type": "stream",
     "text": [
      "epoch: 11, [batch: 23520 / 33600], examples_per_second: 3229.8281, train_label_loss: 0.2031, \n"
     ]
    },
    {
     "name": "stdout",
     "output_type": "stream",
     "text": [
      "epoch: 11, [batch: 26880 / 33600], examples_per_second: 3545.8997, train_label_loss: 0.1247, \n"
     ]
    },
    {
     "name": "stdout",
     "output_type": "stream",
     "text": [
      "epoch: 11, [batch: 30240 / 33600], examples_per_second: 3039.4592, train_label_loss: 0.1242, \n"
     ]
    },
    {
     "name": "stdout",
     "output_type": "stream",
     "text": [
      "=============================================================\n",
      "epoch: 11, source_val_acc_label: 0.8885, target_val_acc_label: 0.9841, source_val_label_loss: 0.3240, target_val_label_loss: 3.3790, \n",
      "=============================================================\n"
     ]
    },
    {
     "name": "stdout",
     "output_type": "stream",
     "text": [
      "epoch: 12, [batch: 1 / 33600], examples_per_second: 0.8426, train_label_loss: 0.1645, \n"
     ]
    },
    {
     "name": "stdout",
     "output_type": "stream",
     "text": [
      "epoch: 12, [batch: 3360 / 33600], examples_per_second: 3156.9068, train_label_loss: 0.0661, \n"
     ]
    },
    {
     "name": "stdout",
     "output_type": "stream",
     "text": [
      "epoch: 12, [batch: 6720 / 33600], examples_per_second: 3229.4431, train_label_loss: 0.0207, \n"
     ]
    },
    {
     "name": "stdout",
     "output_type": "stream",
     "text": [
      "epoch: 12, [batch: 10080 / 33600], examples_per_second: 3448.1160, train_label_loss: 0.3260, \n"
     ]
    },
    {
     "name": "stdout",
     "output_type": "stream",
     "text": [
      "epoch: 12, [batch: 13440 / 33600], examples_per_second: 3305.1001, train_label_loss: 0.0739, \n"
     ]
    },
    {
     "name": "stdout",
     "output_type": "stream",
     "text": [
      "epoch: 12, [batch: 16800 / 33600], examples_per_second: 3006.9661, train_label_loss: 0.2537, \n"
     ]
    },
    {
     "name": "stdout",
     "output_type": "stream",
     "text": [
      "epoch: 12, [batch: 20160 / 33600], examples_per_second: 3478.1639, train_label_loss: 0.1064, \n"
     ]
    },
    {
     "name": "stdout",
     "output_type": "stream",
     "text": [
      "epoch: 12, [batch: 23520 / 33600], examples_per_second: 3333.3313, train_label_loss: 0.2530, \n"
     ]
    },
    {
     "name": "stdout",
     "output_type": "stream",
     "text": [
      "epoch: 12, [batch: 26880 / 33600], examples_per_second: 2982.1746, train_label_loss: 0.4603, \n"
     ]
    },
    {
     "name": "stdout",
     "output_type": "stream",
     "text": [
      "epoch: 12, [batch: 30240 / 33600], examples_per_second: 3402.5207, train_label_loss: 0.3797, \n"
     ]
    },
    {
     "name": "stdout",
     "output_type": "stream",
     "text": [
      "=============================================================\n",
      "epoch: 12, source_val_acc_label: 0.8898, target_val_acc_label: 0.9838, source_val_label_loss: 0.3207, target_val_label_loss: 3.4729, \n",
      "=============================================================\n"
     ]
    },
    {
     "name": "stdout",
     "output_type": "stream",
     "text": [
      "Patience (3) exhausted\n"
     ]
    }
   ],
   "source": [
    "###################################\n",
    "# train\n",
    "###################################\n",
    "jig = PTN_Train_Eval_Test_Jig(model, p.BEST_MODEL_PATH, p.device)\n",
    "\n",
    "jig.train(\n",
    "    train_iterable=datasets.source.processed.train,\n",
    "    source_val_iterable=datasets.source.processed.val,\n",
    "    target_val_iterable=datasets.target.processed.val,\n",
    "    num_epochs=p.n_epoch,\n",
    "    num_logs_per_epoch=p.NUM_LOGS_PER_EPOCH,\n",
    "    patience=p.patience,\n",
    "    optimizer=optimizer,\n",
    "    criteria_for_best=p.criteria_for_best,\n",
    ")"
   ]
  },
  {
   "cell_type": "code",
   "execution_count": 23,
   "id": "31e8fabf",
   "metadata": {
    "execution": {
     "iopub.execute_input": "2022-03-21T22:05:35.017668Z",
     "iopub.status.busy": "2022-03-21T22:05:35.016829Z",
     "iopub.status.idle": "2022-03-21T22:05:35.141866Z",
     "shell.execute_reply": "2022-03-21T22:05:35.141095Z"
    },
    "papermill": {
     "duration": 0.205912,
     "end_time": "2022-03-21T22:05:35.142042",
     "exception": false,
     "start_time": "2022-03-21T22:05:34.936130",
     "status": "completed"
    },
    "tags": []
   },
   "outputs": [],
   "source": [
    "total_experiment_time_secs = time.time() - start_time_secs"
   ]
  },
  {
   "cell_type": "code",
   "execution_count": 24,
   "id": "87b9595b",
   "metadata": {
    "execution": {
     "iopub.execute_input": "2022-03-21T22:05:35.281819Z",
     "iopub.status.busy": "2022-03-21T22:05:35.278897Z",
     "iopub.status.idle": "2022-03-21T22:15:29.441991Z",
     "shell.execute_reply": "2022-03-21T22:15:29.441400Z"
    },
    "papermill": {
     "duration": 594.231203,
     "end_time": "2022-03-21T22:15:29.442143",
     "exception": false,
     "start_time": "2022-03-21T22:05:35.210940",
     "status": "completed"
    },
    "tags": []
   },
   "outputs": [],
   "source": [
    "###################################\n",
    "# Evaluate the model\n",
    "###################################\n",
    "source_test_label_accuracy, source_test_label_loss = jig.test(datasets.source.processed.test)\n",
    "target_test_label_accuracy, target_test_label_loss = jig.test(datasets.target.processed.test)\n",
    "\n",
    "source_val_label_accuracy, source_val_label_loss = jig.test(datasets.source.processed.val)\n",
    "target_val_label_accuracy, target_val_label_loss = jig.test(datasets.target.processed.val)\n",
    "\n",
    "history = jig.get_history()\n",
    "\n",
    "total_epochs_trained = len(history[\"epoch_indices\"])\n",
    "\n",
    "val_dl = Iterable_Aggregator((datasets.source.original.val,datasets.target.original.val))\n",
    "\n",
    "confusion = ptn_confusion_by_domain_over_dataloader(model, p.device, val_dl)\n",
    "per_domain_accuracy = per_domain_accuracy_from_confusion(confusion)\n",
    "\n",
    "# Add a key to per_domain_accuracy for if it was a source domain\n",
    "for domain, accuracy in per_domain_accuracy.items():\n",
    "    per_domain_accuracy[domain] = {\n",
    "        \"accuracy\": accuracy,\n",
    "        \"source?\": domain in p.domains_source\n",
    "    }\n",
    "\n",
    "# Do an independent accuracy assesment JUST TO BE SURE!\n",
    "# _source_test_label_accuracy = independent_accuracy_assesment(model, datasets.source.processed.test, p.device)\n",
    "# _target_test_label_accuracy = independent_accuracy_assesment(model, datasets.target.processed.test, p.device)\n",
    "# _source_val_label_accuracy = independent_accuracy_assesment(model, datasets.source.processed.val, p.device)\n",
    "# _target_val_label_accuracy = independent_accuracy_assesment(model, datasets.target.processed.val, p.device)\n",
    "\n",
    "# assert(_source_test_label_accuracy == source_test_label_accuracy)\n",
    "# assert(_target_test_label_accuracy == target_test_label_accuracy)\n",
    "# assert(_source_val_label_accuracy == source_val_label_accuracy)\n",
    "# assert(_target_val_label_accuracy == target_val_label_accuracy)\n",
    "\n",
    "experiment = {\n",
    "    \"experiment_name\": p.experiment_name,\n",
    "    \"parameters\": dict(p),\n",
    "    \"results\": {\n",
    "        \"source_test_label_accuracy\": source_test_label_accuracy,\n",
    "        \"source_test_label_loss\": source_test_label_loss,\n",
    "        \"target_test_label_accuracy\": target_test_label_accuracy,\n",
    "        \"target_test_label_loss\": target_test_label_loss,\n",
    "        \"source_val_label_accuracy\": source_val_label_accuracy,\n",
    "        \"source_val_label_loss\": source_val_label_loss,\n",
    "        \"target_val_label_accuracy\": target_val_label_accuracy,\n",
    "        \"target_val_label_loss\": target_val_label_loss,\n",
    "        \"total_epochs_trained\": total_epochs_trained,\n",
    "        \"total_experiment_time_secs\": total_experiment_time_secs,\n",
    "        \"confusion\": confusion,\n",
    "        \"per_domain_accuracy\": per_domain_accuracy,\n",
    "    },\n",
    "    \"history\": history,\n",
    "    \"dataset_metrics\": get_dataset_metrics(datasets, \"ptn\"),\n",
    "}"
   ]
  },
  {
   "cell_type": "code",
   "execution_count": 25,
   "id": "54a21829",
   "metadata": {
    "execution": {
     "iopub.execute_input": "2022-03-21T22:15:29.591982Z",
     "iopub.status.busy": "2022-03-21T22:15:29.591592Z",
     "iopub.status.idle": "2022-03-21T22:15:29.997409Z",
     "shell.execute_reply": "2022-03-21T22:15:29.997893Z"
    },
    "papermill": {
     "duration": 0.477964,
     "end_time": "2022-03-21T22:15:29.998057",
     "exception": false,
     "start_time": "2022-03-21T22:15:29.520093",
     "status": "completed"
    },
    "tags": []
   },
   "outputs": [
    {
     "data": {
      "image/png": "[encoded data removed]",
      "text/plain": [
       "<Figure size 1080x504 with 1 Axes>"
      ]
     },
     "metadata": {
      "needs_background": "light"
     },
     "output_type": "display_data"
    }
   ],
   "source": [
    "ax = get_loss_curve(experiment)\n",
    "plt.show()"
   ]
  },
  {
   "cell_type": "code",
   "execution_count": 26,
   "id": "fd8a0f60",
   "metadata": {
    "execution": {
     "iopub.execute_input": "2022-03-21T22:15:30.141200Z",
     "iopub.status.busy": "2022-03-21T22:15:30.140820Z",
     "iopub.status.idle": "2022-03-21T22:15:30.493457Z",
     "shell.execute_reply": "2022-03-21T22:15:30.493941Z"
    },
    "papermill": {
     "duration": 0.423623,
     "end_time": "2022-03-21T22:15:30.494107",
     "exception": false,
     "start_time": "2022-03-21T22:15:30.070484",
     "status": "completed"
    },
    "tags": []
   },
   "outputs": [
    {
     "data": {
      "text/plain": [
       "<AxesSubplot:title={'center':'Results'}>"
      ]
     },
     "execution_count": 26,
     "metadata": {},
     "output_type": "execute_result"
    },
    {
     "data": {
      "image/png": "[encoded data removed]",
      "text/plain": [
       "<Figure size 1080x504 with 1 Axes>"
      ]
     },
     "metadata": {
      "needs_background": "light"
     },
     "output_type": "display_data"
    }
   ],
   "source": [
    "get_results_table(experiment)"
   ]
  },
  {
   "cell_type": "code",
   "execution_count": 27,
   "id": "cf8dc689",
   "metadata": {
    "execution": {
     "iopub.execute_input": "2022-03-21T22:15:30.637359Z",
     "iopub.status.busy": "2022-03-21T22:15:30.636982Z",
     "iopub.status.idle": "2022-03-21T22:15:30.914978Z",
     "shell.execute_reply": "2022-03-21T22:15:30.915695Z"
    },
    "papermill": {
     "duration": 0.350706,
     "end_time": "2022-03-21T22:15:30.915917",
     "exception": false,
     "start_time": "2022-03-21T22:15:30.565211",
     "status": "completed"
    },
    "tags": []
   },
   "outputs": [
    {
     "data": {
      "text/plain": [
       "<AxesSubplot:title={'center':'Per Domain Validation Accuracy'}, xlabel='domain'>"
      ]
     },
     "execution_count": 27,
     "metadata": {},
     "output_type": "execute_result"
    },
    {
     "data": {
      "image/png": "[encoded data removed]",
      "text/plain": [
       "<Figure size 1080x504 with 1 Axes>"
      ]
     },
     "metadata": {
      "needs_background": "light"
     },
     "output_type": "display_data"
    }
   ],
   "source": [
    "get_domain_accuracies(experiment)"
   ]
  },
  {
   "cell_type": "code",
   "execution_count": 28,
   "id": "a74ae082",
   "metadata": {
    "execution": {
     "iopub.execute_input": "2022-03-21T22:15:31.070117Z",
     "iopub.status.busy": "2022-03-21T22:15:31.069733Z",
     "iopub.status.idle": "2022-03-21T22:15:31.094352Z",
     "shell.execute_reply": "2022-03-21T22:15:31.095046Z"
    },
    "papermill": {
     "duration": 0.094628,
     "end_time": "2022-03-21T22:15:31.095243",
     "exception": false,
     "start_time": "2022-03-21T22:15:31.000615",
     "status": "completed"
    },
    "tags": []
   },
   "outputs": [
    {
     "name": "stdout",
     "output_type": "stream",
     "text": [
      "Source Test Label Accuracy: 0.8882291666666666 Target Test Label Accuracy: 0.9901795735129069\n",
      "Source Val Label Accuracy: 0.8892838541666667 Target Val Label Accuracy: 0.988013698630137\n"
     ]
    }
   ],
   "source": [
    "print(\"Source Test Label Accuracy:\", experiment[\"results\"][\"source_test_label_accuracy\"], \"Target Test Label Accuracy:\", experiment[\"results\"][\"target_test_label_accuracy\"])\n",
    "print(\"Source Val Label Accuracy:\", experiment[\"results\"][\"source_val_label_accuracy\"], \"Target Val Label Accuracy:\", experiment[\"results\"][\"target_val_label_accuracy\"])"
   ]
  },
  {
   "cell_type": "code",
   "execution_count": 29,
   "id": "dacca602",
   "metadata": {
    "execution": {
     "iopub.execute_input": "2022-03-21T22:15:31.238830Z",
     "iopub.status.busy": "2022-03-21T22:15:31.238259Z",
     "iopub.status.idle": "2022-03-21T22:15:31.263648Z",
     "shell.execute_reply": "2022-03-21T22:15:31.264339Z"
    },
    "papermill": {
     "duration": 0.098118,
     "end_time": "2022-03-21T22:15:31.264514",
     "exception": false,
     "start_time": "2022-03-21T22:15:31.166396",
     "status": "completed"
    },
    "tags": [
     "experiment_json"
    ]
   },
   "outputs": [
    {
     "data": {
      "text/plain": [
       "'{\"experiment_name\": \"tl_1v2:cores-oracle.run1\", \"parameters\": {\"experiment_name\": \"tl_1v2:cores-oracle.run1\", \"device\": \"cuda\", \"lr\": 0.0001, \"n_shot\": 3, \"n_query\": 2, \"train_k_factor\": 3, \"val_k_factor\": 2, \"test_k_factor\": 2, \"torch_default_dtype\": \"torch.float32\", \"n_epoch\": 50, \"patience\": 3, \"criteria_for_best\": \"target_accuracy\", \"x_net\": [{\"class\": \"nnReshape\", \"kargs\": {\"shape\": [-1, 1, 2, 256]}}, {\"class\": \"Conv2d\", \"kargs\": {\"in_channels\": 1, \"out_channels\": 256, \"kernel_size\": [1, 7], \"bias\": false, \"padding\": [0, 3]}}, {\"class\": \"ReLU\", \"kargs\": {\"inplace\": true}}, {\"class\": \"BatchNorm2d\", \"kargs\": {\"num_features\": 256}}, {\"class\": \"Conv2d\", \"kargs\": {\"in_channels\": 256, \"out_channels\": 80, \"kernel_size\": [2, 7], \"bias\": true, \"padding\": [0, 3]}}, {\"class\": \"ReLU\", \"kargs\": {\"inplace\": true}}, {\"class\": \"BatchNorm2d\", \"kargs\": {\"num_features\": 80}}, {\"class\": \"Flatten\", \"kargs\": {}}, {\"class\": \"Linear\", \"kargs\": {\"in_features\": 20480, \"out_features\": 256}}, {\"class\": \"ReLU\", \"kargs\": {\"inplace\": true}}, {\"class\": \"BatchNorm1d\", \"kargs\": {\"num_features\": 256}}, {\"class\": \"Linear\", \"kargs\": {\"in_features\": 256, \"out_features\": 256}}], \"NUM_LOGS_PER_EPOCH\": 10, \"BEST_MODEL_PATH\": \"./best_model.pth\", \"n_way\": 16, \"datasets\": [{\"labels\": [\"1-10.\", \"1-11.\", \"1-15.\", \"1-16.\", \"1-17.\", \"1-18.\", \"1-19.\", \"10-4.\", \"10-7.\", \"11-1.\", \"11-14.\", \"11-17.\", \"11-20.\", \"11-7.\", \"13-20.\", \"13-8.\", \"14-10.\", \"14-11.\", \"14-14.\", \"14-7.\", \"15-1.\", \"15-20.\", \"16-1.\", \"16-16.\", \"17-10.\", \"17-11.\", \"17-2.\", \"19-1.\", \"19-16.\", \"19-19.\", \"19-20.\", \"19-3.\", \"2-10.\", \"2-11.\", \"2-17.\", \"2-18.\", \"2-20.\", \"2-3.\", \"2-4.\", \"2-5.\", \"2-6.\", \"2-7.\", \"2-8.\", \"3-13.\", \"3-18.\", \"3-3.\", \"4-1.\", \"4-10.\", \"4-11.\", \"4-19.\", \"5-5.\", \"6-15.\", \"7-10.\", \"7-14.\", \"8-18.\", \"8-20.\", \"8-3.\", \"8-8.\"], \"domains\": [1, 2, 3, 4, 5], \"num_examples_per_domain_per_label\": -1, \"pickle_path\": \"/root/csc500-main/datasets/cores.stratified_ds.2022A.pkl\", \"source_or_target_dataset\": \"target\", \"x_transforms\": [], \"episode_transforms\": [], \"domain_prefix\": \"CORES_\"}, {\"labels\": [\"3123D52\", \"3123D65\", \"3123D79\", \"3123D80\", \"3123D54\", \"3123D70\", \"3123D7B\", \"3123D89\", \"3123D58\", \"3123D76\", \"3123D7D\", \"3123EFE\", \"3123D64\", \"3123D78\", \"3123D7E\", \"3124E4A\"], \"domains\": [32, 38, 8, 44, 14, 50, 20, 26], \"num_examples_per_domain_per_label\": 10000, \"pickle_path\": \"/root/csc500-main/datasets/oracle.Run1_10kExamples_stratified_ds.2022A.pkl\", \"source_or_target_dataset\": \"source\", \"x_transforms\": [], \"episode_transforms\": [], \"domain_prefix\": \"ORACLE.run1_\"}], \"dataset_seed\": 1337, \"seed\": 1337, \"x_shape\": [2, 256], \"domains_source\": [\"ORACLE.run1_32\", \"ORACLE.run1_38\", \"ORACLE.run1_8\", \"ORACLE.run1_44\", \"ORACLE.run1_14\", \"ORACLE.run1_50\", \"ORACLE.run1_20\", \"ORACLE.run1_26\"], \"domains_target\": [\"CORES_1\", \"CORES_2\", \"CORES_3\", \"CORES_4\", \"CORES_5\"]}, \"results\": {\"source_test_label_accuracy\": 0.8882291666666666, \"source_test_label_loss\": 0.31863874197006226, \"target_test_label_accuracy\": 0.9901795735129069, \"target_test_label_loss\": 1.1733312606811523, \"source_val_label_accuracy\": 0.8892838541666667, \"source_val_label_loss\": 0.3139041066169739, \"target_val_label_accuracy\": 0.988013698630137, \"target_val_label_loss\": 1.9983723163604736, \"total_epochs_trained\": 12, \"total_experiment_time_secs\": 12313.9258954525, \"confusion\": {\"ORACLE.run1_14\": {\"15\": {\"15\": 1200}, \"3\": {\"3\": 1180, \"14\": 11, \"0\": 2, \"2\": 7}, \"6\": {\"6\": 842, \"13\": 280, \"2\": 25, \"14\": 53}, \"1\": {\"1\": 1200}, \"8\": {\"8\": 1200}, \"10\": {\"10\": 1200}, \"9\": {\"9\": 1200}, \"13\": {\"14\": 183, \"6\": 391, \"2\": 63, \"13\": 561, \"5\": 1, \"15\": 1}, \"12\": {\"12\": 1200}, \"5\": {\"5\": 1123, \"7\": 9, \"2\": 61, \"4\": 6, \"3\": 1}, \"0\": {\"14\": 2, \"0\": 1163, \"3\": 32, \"10\": 3}, \"2\": {\"2\": 831, \"13\": 55, \"14\": 84, \"5\": 116, \"3\": 33, \"4\": 28, \"6\": 51, \"7\": 2}, \"11\": {\"11\": 1200}, \"14\": {\"14\": 1041, \"13\": 78, \"3\": 14, \"2\": 33, \"6\": 34}, \"7\": {\"7\": 1190, \"5\": 10}, \"4\": {\"4\": 1183, \"5\": 11, \"2\": 6}}, \"ORACLE.run1_20\": {\"3\": {\"3\": 902, \"9\": 130, \"1\": 11, \"5\": 101, \"8\": 38, \"0\": 17, \"7\": 1}, \"15\": {\"15\": 1001, \"12\": 127, \"1\": 56, \"2\": 9, \"9\": 5, \"13\": 2}, \"8\": {\"8\": 1097, \"14\": 62, \"3\": 41}, \"4\": {\"4\": 1167, \"12\": 20, \"7\": 5, \"2\": 7, \"10\": 1}, \"14\": {\"14\": 1168, \"8\": 32}, \"0\": {\"0\": 1178, \"5\": 12, \"8\": 5, \"3\": 5}, \"7\": {\"7\": 1052, \"2\": 76, \"6\": 8, \"9\": 50, \"4\": 10, \"12\": 3, \"3\": 1}, \"6\": {\"6\": 1188, \"7\": 12}, \"10\": {\"10\": 1197, \"4\": 3}, \"5\": {\"5\": 881, \"1\": 229, \"3\": 77, \"9\": 13}, \"2\": {\"7\": 105, \"12\": 125, \"2\": 942, \"13\": 12, \"9\": 12, \"15\": 3, \"1\": 1}, \"12\": {\"2\": 136, \"12\": 972, \"15\": 77, \"4\": 10, \"13\": 2, \"7\": 2, \"9\": 1}, \"9\": {\"9\": 1042, \"3\": 46, \"7\": 53, \"1\": 34, \"5\": 14, \"2\": 6, \"12\": 2, \"15\": 3}, \"1\": {\"1\": 936, \"5\": 194, \"15\": 12, \"9\": 49, \"3\": 9}, \"11\": {\"11\": 1200}, \"13\": {\"13\": 1184, \"2\": 8, \"12\": 6, \"15\": 2}}, \"ORACLE.run1_38\": {\"5\": {\"8\": 389, \"5\": 608, \"9\": 71, \"7\": 92, \"15\": 35, \"0\": 4, \"13\": 1}, \"8\": {\"8\": 739, \"5\": 365, \"15\": 9, \"7\": 58, \"0\": 17, \"13\": 8, \"9\": 2, \"12\": 2}, \"11\": {\"11\": 1200}, \"1\": {\"1\": 1200}, \"10\": {\"10\": 1109, \"0\": 35, \"13\": 54, \"4\": 2}, \"15\": {\"15\": 1171, \"8\": 9, \"5\": 18, \"1\": 2}, \"3\": {\"3\": 1200}, \"7\": {\"7\": 1170, \"5\": 6, \"8\": 5, \"0\": 15, \"9\": 4}, \"4\": {\"4\": 1197, \"10\": 3}, \"14\": {\"14\": 1134, \"2\": 65, \"13\": 1}, \"9\": {\"9\": 1180, \"5\": 19, \"8\": 1}, \"12\": {\"12\": 1200}, \"6\": {\"6\": 1200}, \"2\": {\"2\": 1147, \"14\": 51, \"13\": 2}, \"0\": {\"13\": 23, \"0\": 928, \"7\": 107, \"3\": 64, \"10\": 70, \"8\": 5, \"4\": 2, \"5\": 1}, \"13\": {\"13\": 1123, \"10\": 70, \"0\": 6, \"2\": 1}}, \"ORACLE.run1_8\": {\"9\": {\"9\": 1200}, \"10\": {\"10\": 995, \"5\": 34, \"13\": 142, \"4\": 12, \"1\": 12, \"11\": 1, \"6\": 4}, \"13\": {\"13\": 1020, \"6\": 20, \"10\": 119, \"7\": 41}, \"0\": {\"0\": 1200}, \"1\": {\"1\": 1032, \"5\": 11, \"11\": 140, \"10\": 12, \"13\": 2, \"4\": 3}, \"15\": {\"15\": 1074, \"12\": 121, \"2\": 5}, \"5\": {\"5\": 1044, \"10\": 84, \"1\": 58, \"14\": 5, \"4\": 1, \"11\": 7, \"13\": 1}, \"3\": {\"3\": 1196, \"2\": 4}, \"6\": {\"6\": 1062, \"7\": 125, \"13\": 10, \"4\": 2, \"10\": 1}, \"11\": {\"14\": 29, \"11\": 772, \"1\": 381, \"5\": 5, \"8\": 8, \"4\": 4, \"6\": 1}, \"8\": {\"8\": 1190, \"6\": 8, \"11\": 1, \"4\": 1}, \"4\": {\"4\": 1181, \"6\": 7, \"1\": 1, \"11\": 2, \"14\": 6, \"10\": 3}, \"12\": {\"12\": 932, \"15\": 265, \"2\": 3}, \"14\": {\"14\": 1144, \"4\": 51, \"11\": 5}, \"2\": {\"2\": 1006, \"3\": 106, \"15\": 36, \"12\": 52}, \"7\": {\"7\": 1055, \"6\": 136, \"13\": 9}}, \"ORACLE.run1_50\": {\"7\": {\"7\": 1085, \"4\": 20, \"5\": 95}, \"3\": {\"3\": 1200}, \"8\": {\"8\": 1197, \"10\": 3}, \"2\": {\"2\": 1161, \"0\": 39}, \"14\": {\"14\": 1200}, \"4\": {\"4\": 1022, \"15\": 42, \"7\": 86, \"5\": 41, \"6\": 9}, \"6\": {\"6\": 1074, \"5\": 84, \"15\": 42}, \"15\": {\"15\": 1135, \"11\": 10, \"6\": 48, \"4\": 4, \"5\": 3}, \"10\": {\"10\": 1186, \"0\": 5, \"8\": 9}, \"11\": {\"11\": 1125, \"9\": 36, \"12\": 19, \"15\": 20}, \"13\": {\"13\": 1199, \"1\": 1}, \"9\": {\"9\": 1055, \"11\": 79, \"12\": 66}, \"0\": {\"0\": 1138, \"2\": 49, \"10\": 13}, \"1\": {\"1\": 1175, \"13\": 19, \"0\": 2, \"15\": 1, \"10\": 2, \"6\": 1}, \"12\": {\"12\": 1135, \"9\": 53, \"11\": 12}, \"5\": {\"6\": 219, \"5\": 585, \"7\": 294, \"13\": 21, \"4\": 71, \"15\": 6, \"1\": 4}}, \"ORACLE.run1_32\": {\"8\": {\"8\": 989, \"5\": 76, \"14\": 21, \"0\": 105, \"7\": 7, \"4\": 2}, \"14\": {\"5\": 23, \"14\": 854, \"7\": 237, \"2\": 25, \"0\": 46, \"8\": 14, \"4\": 1}, \"2\": {\"4\": 96, \"2\": 1103, \"0\": 1}, \"0\": {\"0\": 955, \"5\": 37, \"8\": 62, \"7\": 122, \"14\": 24}, \"1\": {\"1\": 1200}, \"10\": {\"10\": 1200}, \"11\": {\"11\": 1199, \"13\": 1}, \"5\": {\"5\": 740, \"8\": 117, \"7\": 226, \"0\": 89, \"14\": 27, \"15\": 1}, \"15\": {\"15\": 1196, \"8\": 4}, \"3\": {\"3\": 1160, \"13\": 39, \"4\": 1}, \"12\": {\"12\": 1200}, \"7\": {\"7\": 869, \"5\": 155, \"0\": 79, \"14\": 91, \"8\": 6}, \"13\": {\"13\": 960, \"4\": 131, \"3\": 87, \"11\": 22}, \"6\": {\"6\": 1200}, \"4\": {\"4\": 1083, \"2\": 98, \"13\": 19}, \"9\": {\"9\": 1194, \"12\": 3, \"2\": 3}}, \"ORACLE.run1_26\": {\"4\": {\"4\": 1198, \"3\": 2}, \"12\": {\"12\": 1200}, \"10\": {\"10\": 874, \"15\": 26, \"0\": 106, \"14\": 155, \"1\": 4, \"5\": 1, \"6\": 34}, \"0\": {\"0\": 848, \"10\": 212, \"14\": 101, \"15\": 5, \"2\": 4, \"8\": 29, \"7\": 1}, \"13\": {\"13\": 1099, \"2\": 31, \"9\": 57, \"3\": 12, \"4\": 1}, \"9\": {\"9\": 933, \"8\": 196, \"2\": 30, \"13\": 29, \"7\": 11, \"0\": 1}, \"3\": {\"3\": 1145, \"7\": 39, \"2\": 13, \"4\": 3}, \"2\": {\"2\": 856, \"7\": 142, \"3\": 83, \"0\": 14, \"9\": 62, \"13\": 5, \"8\": 37, \"14\": 1}, \"5\": {\"5\": 1041, \"15\": 142, \"6\": 17}, \"14\": {\"14\": 942, \"0\": 57, \"10\": 160, \"1\": 34, \"15\": 7}, \"8\": {\"8\": 890, \"9\": 136, \"7\": 148, \"2\": 20, \"0\": 5, \"13\": 1}, \"7\": {\"7\": 931, \"8\": 123, \"3\": 32, \"9\": 14, \"2\": 99, \"4\": 1}, \"6\": {\"6\": 1074, \"15\": 69, \"10\": 26, \"5\": 28, \"14\": 3}, \"11\": {\"11\": 1200}, \"15\": {\"15\": 824, \"6\": 117, \"5\": 223, \"10\": 23, \"14\": 3, \"0\": 6, \"1\": 4}, \"1\": {\"1\": 1018, \"14\": 127, \"10\": 35, \"0\": 1, \"6\": 13, \"15\": 4, \"5\": 2}}, \"ORACLE.run1_44\": {\"12\": {\"12\": 1175, \"3\": 25}, \"7\": {\"9\": 138, \"7\": 1054, \"2\": 2, \"10\": 5, \"6\": 1}, \"5\": {\"5\": 1102, \"14\": 27, \"0\": 3, \"15\": 60, \"8\": 5, \"4\": 3}, \"15\": {\"15\": 1067, \"14\": 62, \"4\": 3, \"5\": 38, \"0\": 8, \"8\": 22}, \"8\": {\"8\": 883, \"0\": 268, \"5\": 15, \"15\": 34}, \"2\": {\"2\": 1158, \"1\": 38, \"10\": 3, \"7\": 1}, \"13\": {\"13\": 987, \"6\": 179, \"9\": 26, \"11\": 7, \"4\": 1}, \"4\": {\"4\": 882, \"14\": 309, \"15\": 2, \"13\": 4, \"5\": 3}, \"0\": {\"0\": 1017, \"8\": 183}, \"6\": {\"6\": 1017, \"13\": 120, \"9\": 57, \"7\": 6}, \"9\": {\"13\": 97, \"9\": 653, \"6\": 164, \"7\": 285, \"4\": 1}, \"11\": {\"11\": 1200}, \"10\": {\"10\": 1138, \"1\": 29, \"7\": 18, \"2\": 15}, \"14\": {\"14\": 880, \"5\": 35, \"4\": 234, \"15\": 51}, \"1\": {\"1\": 1128, \"2\": 71, \"10\": 1}, \"3\": {\"3\": 1176, \"12\": 24}}, \"CORES_3\": {\"43\": {\"43\": 128}, \"9\": {\"9\": 150}, \"6\": {\"6\": 87, \"3\": 1}, \"3\": {\"3\": 140, \"50\": 4}, \"16\": {\"16\": 127, \"11\": 7}, \"51\": {\"51\": 128}, \"31\": {\"31\": 28}, \"46\": {\"46\": 132, \"50\": 2}, \"19\": {\"19\": 124}, \"8\": {\"8\": 152}, \"18\": {\"18\": 84}, \"37\": {\"37\": 28}, \"24\": {\"24\": 104}, \"10\": {\"10\": 64}, \"44\": {\"44\": 87, \"40\": 1}, \"14\": {\"14\": 39, \"55\": 1}, \"38\": {\"38\": 28}, \"53\": {\"53\": 139, \"11\": 1}, \"20\": {\"20\": 131, \"8\": 1}, \"32\": {\"32\": 28}, \"36\": {\"36\": 100}, \"33\": {\"33\": 28}, \"56\": {\"56\": 136}, \"23\": {\"23\": 130}, \"54\": {\"54\": 100}, \"21\": {\"21\": 126}, \"28\": {\"28\": 28}, \"26\": {\"26\": 24}, \"48\": {\"48\": 116}, \"52\": {\"52\": 118}, \"39\": {\"39\": 16}, \"22\": {\"22\": 140}, \"13\": {\"13\": 128}, \"2\": {\"2\": 32}, \"34\": {\"34\": 30, \"35\": 2}, \"27\": {\"27\": 127, \"57\": 3, \"9\": 2}, \"45\": {\"45\": 60}, \"35\": {\"35\": 25, \"42\": 1, \"34\": 2}, \"29\": {\"29\": 127, \"57\": 1}, \"25\": {\"25\": 140, \"16\": 4}, \"0\": {\"0\": 124}, \"41\": {\"41\": 27, \"52\": 1}, \"11\": {\"11\": 128, \"16\": 13, \"15\": 1}, \"5\": {\"5\": 108}, \"1\": {\"1\": 100}, \"57\": {\"57\": 114, \"27\": 1, \"29\": 1}, \"17\": {\"17\": 106, \"10\": 1, \"24\": 1}, \"7\": {\"7\": 33, \"56\": 1, \"13\": 1, \"41\": 1}, \"12\": {\"12\": 92}, \"47\": {\"47\": 91, \"0\": 1}, \"40\": {\"40\": 136}, \"15\": {\"15\": 138, \"16\": 4}, \"42\": {\"42\": 27, \"35\": 1}, \"55\": {\"55\": 150}, \"49\": {\"49\": 13, \"7\": 3, \"13\": 1, \"2\": 1, \"24\": 2}, \"30\": {\"30\": 120}, \"50\": {\"50\": 131, \"3\": 2, \"46\": 1}, \"4\": {\"4\": 136}}, \"CORES_4\": {\"35\": {\"35\": 26, \"55\": 10, \"33\": 3, \"19\": 1}, \"25\": {\"25\": 132, \"18\": 1, \"15\": 1}, \"24\": {\"24\": 56}, \"48\": {\"48\": 138}, \"51\": {\"51\": 144}, \"13\": {\"13\": 120}, \"14\": {\"14\": 15, \"40\": 1}, \"32\": {\"32\": 19, \"2\": 1, \"39\": 1, \"14\": 1, \"54\": 1, \"38\": 1}, \"30\": {\"30\": 44}, \"34\": {\"35\": 1, \"34\": 21, \"42\": 1, \"33\": 1}, \"9\": {\"9\": 136}, \"1\": {\"1\": 40}, \"0\": {\"0\": 78, \"21\": 1, \"46\": 1}, \"38\": {\"38\": 37, \"49\": 2, \"14\": 1}, \"22\": {\"22\": 128}, \"40\": {\"40\": 120}, \"6\": {\"50\": 4, \"6\": 106, \"3\": 2}, \"16\": {\"16\": 92, \"11\": 1, \"15\": 3}, \"11\": {\"11\": 98, \"15\": 3, \"16\": 3}, \"20\": {\"20\": 122}, \"17\": {\"17\": 80}, \"26\": {\"55\": 4, \"26\": 16, \"42\": 2, \"28\": 1, \"54\": 1}, \"54\": {\"54\": 108}, \"55\": {\"55\": 154}, \"50\": {\"50\": 126, \"3\": 5, \"18\": 1}, \"19\": {\"19\": 142}, \"44\": {\"44\": 122}, \"47\": {\"47\": 120}, \"33\": {\"33\": 35, \"14\": 1}, \"5\": {\"5\": 108}, \"18\": {\"18\": 108}, \"21\": {\"21\": 124}, \"41\": {\"39\": 2, \"41\": 29, \"57\": 1, \"14\": 1, \"38\": 2, \"2\": 1}, \"23\": {\"23\": 124, \"43\": 4}, \"39\": {\"39\": 20}, \"37\": {\"37\": 23, \"39\": 1}, \"8\": {\"8\": 144}, \"49\": {\"49\": 14, \"38\": 2, \"32\": 2, \"2\": 2}, \"53\": {\"53\": 140}, \"31\": {\"31\": 28}, \"28\": {\"28\": 32}, \"3\": {\"3\": 121, \"50\": 3}, \"27\": {\"27\": 138}, \"46\": {\"46\": 127, \"22\": 1}, \"12\": {\"12\": 92}, \"7\": {\"41\": 6, \"7\": 17, \"39\": 1}, \"4\": {\"4\": 132}, \"42\": {\"42\": 29, \"28\": 1, \"33\": 1, \"26\": 1}, \"43\": {\"43\": 128, \"24\": 2}, \"29\": {\"29\": 120}, \"57\": {\"57\": 100}, \"52\": {\"52\": 104}, \"45\": {\"45\": 96}, \"36\": {\"36\": 92}, \"10\": {\"10\": 126}, \"15\": {\"15\": 124, \"16\": 5, \"18\": 2, \"11\": 3}, \"56\": {\"56\": 124}, \"2\": {\"2\": 35, \"1\": 1}}, \"CORES_5\": {\"47\": {\"47\": 100}, \"53\": {\"53\": 150}, \"29\": {\"29\": 126}, \"52\": {\"52\": 130}, \"55\": {\"55\": 144}, \"17\": {\"17\": 116}, \"42\": {\"42\": 39, \"31\": 1}, \"33\": {\"33\": 32}, \"11\": {\"11\": 145, \"16\": 3}, \"19\": {\"19\": 118}, \"1\": {\"1\": 144}, \"44\": {\"44\": 141, \"5\": 1}, \"49\": {\"49\": 36}, \"4\": {\"4\": 100}, \"6\": {\"6\": 116}, \"39\": {\"39\": 20}, \"50\": {\"50\": 148}, \"56\": {\"56\": 130}, \"25\": {\"25\": 144}, \"28\": {\"28\": 32}, \"35\": {\"35\": 34, \"31\": 1, \"36\": 1}, \"24\": {\"24\": 80}, \"21\": {\"21\": 132}, \"45\": {\"45\": 124}, \"16\": {\"16\": 141, \"11\": 3}, \"37\": {\"37\": 22, \"21\": 1, \"20\": 1}, \"57\": {\"57\": 132}, \"34\": {\"34\": 36}, \"38\": {\"38\": 31, \"8\": 1}, \"48\": {\"48\": 130}, \"26\": {\"26\": 22, \"17\": 2}, \"9\": {\"9\": 152}, \"18\": {\"18\": 64}, \"3\": {\"3\": 100}, \"23\": {\"23\": 124}, \"15\": {\"15\": 153, \"11\": 1}, \"10\": {\"10\": 68}, \"46\": {\"46\": 148}, \"22\": {\"22\": 28}, \"54\": {\"54\": 112}, \"27\": {\"27\": 160}, \"41\": {\"41\": 23, \"14\": 4, \"56\": 1}, \"31\": {\"31\": 36}, \"0\": {\"0\": 124}, \"7\": {\"7\": 32}, \"2\": {\"2\": 28}, \"14\": {\"14\": 35, \"27\": 2, \"41\": 1, \"32\": 1, \"8\": 2, \"36\": 2, \"29\": 1}, \"40\": {\"40\": 122, \"9\": 2}, \"5\": {\"5\": 128}, \"12\": {\"12\": 96}, \"43\": {\"43\": 140, \"23\": 1, \"24\": 1}, \"13\": {\"13\": 148}, \"36\": {\"36\": 91, \"2\": 1}, \"8\": {\"8\": 150}, \"32\": {\"32\": 32}, \"30\": {\"30\": 128}, \"51\": {\"51\": 138}, \"20\": {\"20\": 138}}, \"CORES_1\": {\"46\": {\"46\": 140}, \"16\": {\"16\": 134}, \"26\": {\"26\": 24}, \"10\": {\"10\": 93, \"15\": 3}, \"9\": {\"9\": 153, \"17\": 1, \"8\": 2}, \"28\": {\"28\": 28}, \"51\": {\"51\": 155, \"41\": 1}, \"1\": {\"1\": 100}, \"55\": {\"55\": 148}, \"27\": {\"27\": 124}, \"22\": {\"52\": 5, \"22\": 118, \"21\": 1}, \"52\": {\"52\": 126}, \"3\": {\"3\": 140}, \"33\": {\"33\": 32}, \"47\": {\"47\": 120}, \"42\": {\"42\": 38, \"54\": 1, \"55\": 1}, \"12\": {\"12\": 116}, \"23\": {\"23\": 131, \"24\": 1}, \"49\": {\"49\": 30, \"39\": 2}, \"7\": {\"7\": 28}, \"4\": {\"4\": 132}, \"50\": {\"50\": 134}, \"19\": {\"19\": 154}, \"11\": {\"11\": 140}, \"31\": {\"31\": 28}, \"41\": {\"41\": 16, \"51\": 6, \"20\": 2}, \"56\": {\"56\": 138}, \"0\": {\"0\": 148}, \"57\": {\"57\": 128}, \"53\": {\"53\": 140}, \"43\": {\"43\": 144}, \"37\": {\"37\": 26, \"36\": 5, \"21\": 1}, \"2\": {\"2\": 36}, \"6\": {\"6\": 96}, \"13\": {\"13\": 150}, \"18\": {\"18\": 72}, \"36\": {\"36\": 64}, \"29\": {\"29\": 140}, \"39\": {\"39\": 23, \"7\": 1, \"1\": 1, \"49\": 2, \"27\": 1}, \"17\": {\"17\": 64}, \"21\": {\"21\": 124}, \"25\": {\"25\": 128, \"15\": 2, \"11\": 2}, \"45\": {\"45\": 142}, \"38\": {\"21\": 4, \"38\": 15, \"33\": 1, \"39\": 2, \"49\": 1, \"36\": 1}, \"30\": {\"30\": 120}, \"24\": {\"24\": 108}, \"20\": {\"20\": 140}, \"8\": {\"8\": 140}, \"35\": {\"19\": 3, \"35\": 33}, \"54\": {\"54\": 104}, \"5\": {\"5\": 148}, \"48\": {\"48\": 144}, \"15\": {\"10\": 1, \"15\": 141}, \"34\": {\"34\": 15, \"19\": 2, \"35\": 5, \"42\": 2}, \"14\": {\"0\": 3, \"14\": 13, \"30\": 2, \"8\": 2, \"3\": 1, \"13\": 2, \"20\": 1}, \"32\": {\"32\": 32}, \"40\": {\"40\": 148}, \"44\": {\"44\": 136}}, \"CORES_2\": {\"36\": {\"36\": 116}, \"5\": {\"5\": 120}, \"45\": {\"45\": 128}, \"49\": {\"49\": 17, \"34\": 1, \"54\": 2, \"39\": 2, \"23\": 1, \"17\": 1}, \"50\": {\"50\": 136}, \"4\": {\"4\": 137, \"9\": 1}, \"43\": {\"43\": 143, \"23\": 2, \"15\": 1, \"24\": 2}, \"41\": {\"41\": 19, \"52\": 1}, \"37\": {\"37\": 35, \"13\": 1}, \"12\": {\"12\": 92}, \"33\": {\"33\": 21, \"14\": 2, \"2\": 1, \"29\": 2, \"57\": 1, \"32\": 1}, \"7\": {\"7\": 36}, \"56\": {\"56\": 138, \"22\": 2}, \"14\": {\"14\": 23, \"29\": 1}, \"52\": {\"52\": 124}, \"44\": {\"44\": 96}, \"48\": {\"48\": 144}, \"20\": {\"20\": 128}, \"55\": {\"55\": 144}, \"32\": {\"32\": 26, \"17\": 1, \"54\": 1}, \"40\": {\"40\": 134, \"9\": 1, \"44\": 1}, \"54\": {\"54\": 108}, \"17\": {\"17\": 104}, \"38\": {\"38\": 20}, \"24\": {\"24\": 94, \"43\": 2}, \"1\": {\"1\": 112}, \"6\": {\"6\": 124}, \"34\": {\"34\": 28}, \"11\": {\"11\": 128, \"16\": 5, \"15\": 3}, \"9\": {\"9\": 150}, \"8\": {\"8\": 152}, \"22\": {\"22\": 136}, \"26\": {\"26\": 22, \"36\": 1, \"54\": 1}, \"23\": {\"23\": 145, \"49\": 1}, \"10\": {\"10\": 112}, \"18\": {\"18\": 48}, \"13\": {\"13\": 116}, \"30\": {\"30\": 128}, \"42\": {\"42\": 36}, \"31\": {\"31\": 28}, \"46\": {\"46\": 126, \"50\": 2}, \"57\": {\"57\": 142}, \"47\": {\"47\": 138}, \"35\": {\"35\": 32}, \"15\": {\"15\": 132}, \"25\": {\"25\": 134, \"16\": 2}, \"19\": {\"19\": 136}, \"51\": {\"51\": 128}, \"53\": {\"53\": 134}, \"21\": {\"21\": 120}, \"39\": {\"39\": 24, \"41\": 1, \"2\": 1, \"32\": 1, \"57\": 1}, \"2\": {\"2\": 32}, \"16\": {\"16\": 150}, \"0\": {\"0\": 48}, \"3\": {\"3\": 92}, \"27\": {\"27\": 142}, \"28\": {\"28\": 28}, \"29\": {\"29\": 128}}}, \"per_domain_accuracy\": {\"ORACLE.run1_14\": {\"accuracy\": 0.9121875, \"source?\": true}, \"ORACLE.run1_20\": {\"accuracy\": 0.8909895833333333, \"source?\": true}, \"ORACLE.run1_38\": {\"accuracy\": 0.9117708333333333, \"source?\": true}, \"ORACLE.run1_8\": {\"accuracy\": 0.89078125, \"source?\": true}, \"ORACLE.run1_50\": {\"accuracy\": 0.9204166666666667, \"source?\": true}, \"ORACLE.run1_32\": {\"accuracy\": 0.8907291666666667, \"source?\": true}, \"ORACLE.run1_26\": {\"accuracy\": 0.8371354166666667, \"source?\": true}, \"ORACLE.run1_44\": {\"accuracy\": 0.8602604166666666, \"source?\": true}, \"CORES_3\": {\"accuracy\": 0.9871002906976745, \"source?\": false}, \"CORES_4\": {\"accuracy\": 0.9799242424242425, \"source?\": false}, \"CORES_5\": {\"accuracy\": 0.9938896648044693, \"source?\": false}, \"CORES_1\": {\"accuracy\": 0.987363387978142, \"source?\": false}, \"CORES_2\": {\"accuracy\": 0.9911723163841808, \"source?\": false}}}, \"history\": {\"epoch_indices\": [1, 2, 3, 4, 5, 6, 7, 8, 9, 10, 11, 12], \"train_label_loss\": [0.6884267997393562, 0.4105921643467376, 0.33936682546267377, 0.30487087649758904, 0.2776967735808077, 0.25558138576968176, 0.2357195905278093, 0.2174973215476798, 0.2019935535886699, 0.18843425667628513, 0.17475155401092793, 0.1629810296176029], \"source_val_label_loss\": [1.0252448320388794, 0.3968169391155243, 0.38086652755737305, 0.3631966710090637, 0.3335410952568054, 0.32292118668556213, 0.3232846260070801, 0.3139041066169739, 0.31469154357910156, 0.3158354163169861, 0.3239913284778595, 0.32071855664253235], \"target_val_label_loss\": [13.110834121704102, 2.24662446975708, 2.537055730819702, 1.9415359497070312, 1.7393940687179565, 1.6842714548110962, 1.6517587900161743, 1.9983723163604736, 2.4953341484069824, 2.87691593170166, 3.3790149688720703, 3.4729092121124268], \"source_val_acc_label\": [0.7669010416666666, 0.8610026041666666, 0.86865234375, 0.8761067708333333, 0.8805533854166666, 0.8834830729166666, 0.8847005208333333, 0.8892838541666667, 0.89076171875, 0.8883333333333333, 0.8884635416666666, 0.8898177083333333], \"target_val_acc_label\": [0.9339683219178082, 0.9757776826484018, 0.9779537671232876, 0.9837685502283106, 0.9851241438356164, 0.9849457762557078, 0.9872288812785388, 0.988013698630137, 0.9867294520547946, 0.9847317351598174, 0.9840896118721462, 0.983839897260274]}, \"dataset_metrics\": {\"source\": {\"train\": {\"n_unique_x\": 896000, \"n_unique_y\": 16, \"n_batch/episode\": 33600}, \"val\": {\"n_unique_x\": 192000, \"n_unique_y\": 16, \"n_batch/episode\": 4800}, \"test\": {\"n_unique_x\": 192000, \"n_unique_y\": 16, \"n_batch/episode\": 4800}}, \"target\": {\"train\": {\"n_unique_x\": 175212, \"n_unique_y\": 58, \"n_batch/episode\": 6322}, \"val\": {\"n_unique_x\": 37196, \"n_unique_y\": 58, \"n_batch/episode\": 876}, \"test\": {\"n_unique_x\": 37634, \"n_unique_y\": 58, \"n_batch/episode\": 891}}}}'"
      ]
     },
     "execution_count": 29,
     "metadata": {},
     "output_type": "execute_result"
    }
   ],
   "source": [
    "json.dumps(experiment)"
   ]
  }
 ],
 "metadata": {
  "celltoolbar": "Tags",
  "kernelspec": {
   "display_name": "Python 3 (ipykernel)",
   "language": "python",
   "name": "python3"
  },
  "language_info": {
   "codemirror_mode": {
    "name": "ipython",
    "version": 3
   },
   "file_extension": ".py",
   "mimetype": "text/x-python",
   "name": "python",
   "nbconvert_exporter": "python",
   "pygments_lexer": "ipython3",
   "version": "3.8.12"
  },
  "papermill": {
   "default_parameters": {},
   "duration": 12916.930307,
   "end_time": "2022-03-21T22:15:34.580233",
   "environment_variables": {},
   "exception": null,
   "input_path": "/root/csc500-main/csc500-notebooks/templates/tl_ptn_template.ipynb",
   "output_path": "trial.ipynb",
   "parameters": {
    "parameters": {
     "BEST_MODEL_PATH": "./best_model.pth",
     "NUM_LOGS_PER_EPOCH": 10,
     "criteria_for_best": "target_accuracy",
     "dataset_seed": 1337,
     "datasets": [
      {
       "domain_prefix": "CORES_",
       "domains": [
        1,
        2,
        3,
        4,
        5
       ],
       "episode_transforms": [],
       "labels": [
        "1-10.",
        "1-11.",
        "1-15.",
        "1-16.",
        "1-17.",
        "1-18.",
        "1-19.",
        "10-4.",
        "10-7.",
        "11-1.",
        "11-14.",
        "11-17.",
        "11-20.",
        "11-7.",
        "13-20.",
        "13-8.",
        "14-10.",
        "14-11.",
        "14-14.",
        "14-7.",
        "15-1.",
        "15-20.",
        "16-1.",
        "16-16.",
        "17-10.",
        "17-11.",
        "17-2.",
        "19-1.",
        "19-16.",
        "19-19.",
        "19-20.",
        "19-3.",
        "2-10.",
        "2-11.",
        "2-17.",
        "2-18.",
        "2-20.",
        "2-3.",
        "2-4.",
        "2-5.",
        "2-6.",
        "2-7.",
        "2-8.",
        "3-13.",
        "3-18.",
        "3-3.",
        "4-1.",
        "4-10.",
        "4-11.",
        "4-19.",
        "5-5.",
        "6-15.",
        "7-10.",
        "7-14.",
        "8-18.",
        "8-20.",
        "8-3.",
        "8-8."
       ],
       "num_examples_per_domain_per_label": -1,
       "pickle_path": "/root/csc500-main/datasets/cores.stratified_ds.2022A.pkl",
       "source_or_target_dataset": "target",
       "x_transforms": []
      },
      {
       "domain_prefix": "ORACLE.run1_",
       "domains": [
        32,
        38,
        8,
        44,
        14,
        50,
        20,
        26
       ],
       "episode_transforms": [],
       "labels": [
        "3123D52",
        "3123D65",
        "3123D79",
        "3123D80",
        "3123D54",
        "3123D70",
        "3123D7B",
        "3123D89",
        "3123D58",
        "3123D76",
        "3123D7D",
        "3123EFE",
        "3123D64",
        "3123D78",
        "3123D7E",
        "3124E4A"
       ],
       "num_examples_per_domain_per_label": 10000,
       "pickle_path": "/root/csc500-main/datasets/oracle.Run1_10kExamples_stratified_ds.2022A.pkl",
       "source_or_target_dataset": "source",
       "x_transforms": []
      }
     ],
     "device": "cuda",
     "experiment_name": "tl_1v2:cores-oracle.run1",
     "lr": 0.0001,
     "n_epoch": 50,
     "n_query": 2,
     "n_shot": 3,
     "n_way": 16,
     "patience": 3,
     "seed": 1337,
     "test_k_factor": 2,
     "torch_default_dtype": "torch.float32",
     "train_k_factor": 3,
     "val_k_factor": 2,
     "x_net": [
      {
       "class": "nnReshape",
       "kargs": {
        "shape": [
         -1,
         1,
         2,
         256
        ]
       }
      },
      {
       "class": "Conv2d",
       "kargs": {
        "bias": false,
        "in_channels": 1,
        "kernel_size": [
         1,
         7
        ],
        "out_channels": 256,
        "padding": [
         0,
         3
        ]
       }
      },
      {
       "class": "ReLU",
       "kargs": {
        "inplace": true
       }
      },
      {
       "class": "BatchNorm2d",
       "kargs": {
        "num_features": 256
       }
      },
      {
       "class": "Conv2d",
       "kargs": {
        "bias": true,
        "in_channels": 256,
        "kernel_size": [
         2,
         7
        ],
        "out_channels": 80,
        "padding": [
         0,
         3
        ]
       }
      },
      {
       "class": "ReLU",
       "kargs": {
        "inplace": true
       }
      },
      {
       "class": "BatchNorm2d",
       "kargs": {
        "num_features": 80
       }
      },
      {
       "class": "Flatten",
       "kargs": {}
      },
      {
       "class": "Linear",
       "kargs": {
        "in_features": 20480,
        "out_features": 256
       }
      },
      {
       "class": "ReLU",
       "kargs": {
        "inplace": true
       }
      },
      {
       "class": "BatchNorm1d",
       "kargs": {
        "num_features": 256
       }
      },
      {
       "class": "Linear",
       "kargs": {
        "in_features": 256,
        "out_features": 256
       }
      }
     ]
    }
   },
   "start_time": "2022-03-21T18:40:17.649926",
   "version": "2.3.4"
  }
 },
 "nbformat": 4,
 "nbformat_minor": 5
}