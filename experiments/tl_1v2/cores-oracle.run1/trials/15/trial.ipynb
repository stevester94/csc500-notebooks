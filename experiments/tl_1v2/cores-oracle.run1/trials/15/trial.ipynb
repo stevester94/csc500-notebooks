{
 "cells": [
  {
   "cell_type": "markdown",
   "id": "9fea5f46",
   "metadata": {
    "papermill": {
     "duration": 0.029333,
     "end_time": "2022-03-22T11:56:02.855031",
     "exception": false,
     "start_time": "2022-03-22T11:56:02.825698",
     "status": "completed"
    },
    "tags": []
   },
   "source": [
    "# Transfer Learning Template"
   ]
  },
  {
   "cell_type": "code",
   "execution_count": 1,
   "id": "0902182a",
   "metadata": {
    "execution": {
     "iopub.execute_input": "2022-03-22T11:56:02.917324Z",
     "iopub.status.busy": "2022-03-22T11:56:02.916462Z",
     "iopub.status.idle": "2022-03-22T11:56:04.738967Z",
     "shell.execute_reply": "2022-03-22T11:56:04.738117Z"
    },
    "papermill": {
     "duration": 1.861604,
     "end_time": "2022-03-22T11:56:04.739160",
     "exception": false,
     "start_time": "2022-03-22T11:56:02.877556",
     "status": "completed"
    },
    "tags": []
   },
   "outputs": [],
   "source": [
    "%load_ext autoreload\n",
    "%autoreload 2\n",
    "%matplotlib inline\n",
    "\n",
    "    \n",
    "import os, json, sys, time, random\n",
    "import numpy as np\n",
    "import torch\n",
    "from torch.optim import Adam\n",
    "from  easydict import EasyDict\n",
    "import matplotlib.pyplot as plt\n",
    "\n",
    "from steves_models.steves_ptn import Steves_Prototypical_Network\n",
    "\n",
    "from steves_utils.lazy_iterable_wrapper import Lazy_Iterable_Wrapper\n",
    "from steves_utils.iterable_aggregator import Iterable_Aggregator\n",
    "from steves_utils.ptn_train_eval_test_jig import  PTN_Train_Eval_Test_Jig\n",
    "from steves_utils.torch_sequential_builder import build_sequential\n",
    "from steves_utils.torch_utils import get_dataset_metrics, ptn_confusion_by_domain_over_dataloader\n",
    "from steves_utils.utils_v2 import (per_domain_accuracy_from_confusion, get_datasets_base_path)\n",
    "from steves_utils.PTN.utils import independent_accuracy_assesment\n",
    "\n",
    "from torch.utils.data import DataLoader\n",
    "\n",
    "from steves_utils.stratified_dataset.episodic_accessor import Episodic_Accessor_Factory\n",
    "\n",
    "from steves_utils.ptn_do_report import (\n",
    "    get_loss_curve,\n",
    "    get_results_table,\n",
    "    get_parameters_table,\n",
    "    get_domain_accuracies,\n",
    ")\n",
    "\n",
    "from steves_utils.transforms import get_chained_transform"
   ]
  },
  {
   "cell_type": "markdown",
   "id": "41c840b4",
   "metadata": {
    "papermill": {
     "duration": 0.020059,
     "end_time": "2022-03-22T11:56:04.784917",
     "exception": false,
     "start_time": "2022-03-22T11:56:04.764858",
     "status": "completed"
    },
    "tags": []
   },
   "source": [
    "# Allowed Parameters\n",
    "These are allowed parameters, not defaults\n",
    "Each of these values need to be present in the injected parameters (the notebook will raise an exception if they are not present)\n",
    "\n",
    "Papermill uses the cell tag \"parameters\" to inject the real parameters below this cell.\n",
    "Enable tags to see what I mean"
   ]
  },
  {
   "cell_type": "code",
   "execution_count": 2,
   "id": "fd44eb83",
   "metadata": {
    "execution": {
     "iopub.execute_input": "2022-03-22T11:56:04.829130Z",
     "iopub.status.busy": "2022-03-22T11:56:04.828511Z",
     "iopub.status.idle": "2022-03-22T11:56:04.849760Z",
     "shell.execute_reply": "2022-03-22T11:56:04.850402Z"
    },
    "papermill": {
     "duration": 0.045834,
     "end_time": "2022-03-22T11:56:04.850588",
     "exception": false,
     "start_time": "2022-03-22T11:56:04.804754",
     "status": "completed"
    },
    "tags": []
   },
   "outputs": [],
   "source": [
    "required_parameters = {\n",
    "    \"experiment_name\",\n",
    "    \"lr\",\n",
    "    \"device\",\n",
    "    \"seed\",\n",
    "    \"dataset_seed\",\n",
    "    \"n_shot\",\n",
    "    \"n_query\",\n",
    "    \"n_way\",\n",
    "    \"train_k_factor\",\n",
    "    \"val_k_factor\",\n",
    "    \"test_k_factor\",\n",
    "    \"n_epoch\",\n",
    "    \"patience\",\n",
    "    \"criteria_for_best\",\n",
    "    \"x_net\",\n",
    "    \"datasets\",\n",
    "    \"torch_default_dtype\",\n",
    "    \"NUM_LOGS_PER_EPOCH\",\n",
    "    \"BEST_MODEL_PATH\",\n",
    "    \"x_shape\",\n",
    "}"
   ]
  },
  {
   "cell_type": "code",
   "execution_count": 3,
   "id": "fa3f0049",
   "metadata": {
    "execution": {
     "iopub.execute_input": "2022-03-22T11:56:04.909964Z",
     "iopub.status.busy": "2022-03-22T11:56:04.909046Z",
     "iopub.status.idle": "2022-03-22T11:56:04.929990Z",
     "shell.execute_reply": "2022-03-22T11:56:04.930669Z"
    },
    "papermill": {
     "duration": 0.055413,
     "end_time": "2022-03-22T11:56:04.930850",
     "exception": false,
     "start_time": "2022-03-22T11:56:04.875437",
     "status": "completed"
    },
    "tags": [
     "parameters"
    ]
   },
   "outputs": [],
   "source": [
    "from steves_utils.CORES.utils import (\n",
    "    ALL_NODES,\n",
    "    ALL_NODES_MINIMUM_1000_EXAMPLES,\n",
    "    ALL_DAYS\n",
    ")\n",
    "\n",
    "from steves_utils.ORACLE.utils_v2 import (\n",
    "    ALL_DISTANCES_FEET_NARROWED,\n",
    "    ALL_RUNS,\n",
    "    ALL_SERIAL_NUMBERS,\n",
    ")\n",
    "\n",
    "standalone_parameters = {}\n",
    "standalone_parameters[\"experiment_name\"] = \"STANDALONE PTN\"\n",
    "standalone_parameters[\"lr\"] = 0.001\n",
    "standalone_parameters[\"device\"] = \"cuda\"\n",
    "\n",
    "standalone_parameters[\"seed\"] = 1337\n",
    "standalone_parameters[\"dataset_seed\"] = 1337\n",
    "\n",
    "standalone_parameters[\"n_way\"] = 8\n",
    "standalone_parameters[\"n_shot\"] = 3\n",
    "standalone_parameters[\"n_query\"]  = 2\n",
    "standalone_parameters[\"train_k_factor\"] = 1\n",
    "standalone_parameters[\"val_k_factor\"] = 2\n",
    "standalone_parameters[\"test_k_factor\"] = 2\n",
    "\n",
    "\n",
    "standalone_parameters[\"n_epoch\"] = 50\n",
    "\n",
    "standalone_parameters[\"patience\"] = 10\n",
    "standalone_parameters[\"criteria_for_best\"] = \"source_loss\"\n",
    "\n",
    "standalone_parameters[\"datasets\"] = [\n",
    "    {\n",
    "        \"labels\": ALL_SERIAL_NUMBERS,\n",
    "        \"domains\": ALL_DISTANCES_FEET_NARROWED,\n",
    "        \"num_examples_per_domain_per_label\": 100,\n",
    "        \"pickle_path\": os.path.join(get_datasets_base_path(), \"oracle.Run1_framed_2000Examples_stratified_ds.2022A.pkl\"),\n",
    "        \"source_or_target_dataset\": \"source\",\n",
    "        \"x_transforms\": [\"unit_mag\", \"minus_two\"],\n",
    "        \"episode_transforms\": [],\n",
    "        \"domain_prefix\": \"ORACLE_\"\n",
    "    },\n",
    "    {\n",
    "        \"labels\": ALL_NODES,\n",
    "        \"domains\": ALL_DAYS,\n",
    "        \"num_examples_per_domain_per_label\": 100,\n",
    "        \"pickle_path\": os.path.join(get_datasets_base_path(), \"cores.stratified_ds.2022A.pkl\"),\n",
    "        \"source_or_target_dataset\": \"target\",\n",
    "        \"x_transforms\": [\"unit_power\", \"times_zero\"],\n",
    "        \"episode_transforms\": [],\n",
    "        \"domain_prefix\": \"CORES_\"\n",
    "    }   \n",
    "]\n",
    "\n",
    "standalone_parameters[\"torch_default_dtype\"] = \"torch.float32\" \n",
    "\n",
    "\n",
    "\n",
    "standalone_parameters[\"x_net\"] =     [\n",
    "    {\"class\": \"nnReshape\", \"kargs\": {\"shape\":[-1, 1, 2, 256]}},\n",
    "    {\"class\": \"Conv2d\", \"kargs\": { \"in_channels\":1, \"out_channels\":256, \"kernel_size\":(1,7), \"bias\":False, \"padding\":(0,3), },},\n",
    "    {\"class\": \"ReLU\", \"kargs\": {\"inplace\": True}},\n",
    "    {\"class\": \"BatchNorm2d\", \"kargs\": {\"num_features\":256}},\n",
    "\n",
    "    {\"class\": \"Conv2d\", \"kargs\": { \"in_channels\":256, \"out_channels\":80, \"kernel_size\":(2,7), \"bias\":True, \"padding\":(0,3), },},\n",
    "    {\"class\": \"ReLU\", \"kargs\": {\"inplace\": True}},\n",
    "    {\"class\": \"BatchNorm2d\", \"kargs\": {\"num_features\":80}},\n",
    "    {\"class\": \"Flatten\", \"kargs\": {}},\n",
    "\n",
    "    {\"class\": \"Linear\", \"kargs\": {\"in_features\": 80*256, \"out_features\": 256}}, # 80 units per IQ pair\n",
    "    {\"class\": \"ReLU\", \"kargs\": {\"inplace\": True}},\n",
    "    {\"class\": \"BatchNorm1d\", \"kargs\": {\"num_features\":256}},\n",
    "\n",
    "    {\"class\": \"Linear\", \"kargs\": {\"in_features\": 256, \"out_features\": 256}},\n",
    "]\n",
    "\n",
    "# Parameters relevant to results\n",
    "# These parameters will basically never need to change\n",
    "standalone_parameters[\"NUM_LOGS_PER_EPOCH\"] = 10\n",
    "standalone_parameters[\"BEST_MODEL_PATH\"] = \"./best_model.pth\"\n",
    "\n",
    "\n",
    "\n",
    "\n"
   ]
  },
  {
   "cell_type": "code",
   "execution_count": 4,
   "id": "6a29be3d",
   "metadata": {
    "execution": {
     "iopub.execute_input": "2022-03-22T11:56:04.991483Z",
     "iopub.status.busy": "2022-03-22T11:56:04.988649Z",
     "iopub.status.idle": "2022-03-22T11:56:05.012719Z",
     "shell.execute_reply": "2022-03-22T11:56:05.012007Z"
    },
    "papermill": {
     "duration": 0.057303,
     "end_time": "2022-03-22T11:56:05.012873",
     "exception": false,
     "start_time": "2022-03-22T11:56:04.955570",
     "status": "completed"
    },
    "tags": [
     "injected-parameters"
    ]
   },
   "outputs": [],
   "source": [
    "# Parameters\n",
    "parameters = {\n",
    "    \"experiment_name\": \"tl_1v2:cores-oracle.run1\",\n",
    "    \"device\": \"cuda\",\n",
    "    \"lr\": 0.0001,\n",
    "    \"n_shot\": 3,\n",
    "    \"n_query\": 2,\n",
    "    \"train_k_factor\": 3,\n",
    "    \"val_k_factor\": 2,\n",
    "    \"test_k_factor\": 2,\n",
    "    \"torch_default_dtype\": \"torch.float32\",\n",
    "    \"n_epoch\": 50,\n",
    "    \"patience\": 3,\n",
    "    \"criteria_for_best\": \"target_accuracy\",\n",
    "    \"x_net\": [\n",
    "        {\"class\": \"nnReshape\", \"kargs\": {\"shape\": [-1, 1, 2, 256]}},\n",
    "        {\n",
    "            \"class\": \"Conv2d\",\n",
    "            \"kargs\": {\n",
    "                \"in_channels\": 1,\n",
    "                \"out_channels\": 256,\n",
    "                \"kernel_size\": [1, 7],\n",
    "                \"bias\": False,\n",
    "                \"padding\": [0, 3],\n",
    "            },\n",
    "        },\n",
    "        {\"class\": \"ReLU\", \"kargs\": {\"inplace\": True}},\n",
    "        {\"class\": \"BatchNorm2d\", \"kargs\": {\"num_features\": 256}},\n",
    "        {\n",
    "            \"class\": \"Conv2d\",\n",
    "            \"kargs\": {\n",
    "                \"in_channels\": 256,\n",
    "                \"out_channels\": 80,\n",
    "                \"kernel_size\": [2, 7],\n",
    "                \"bias\": True,\n",
    "                \"padding\": [0, 3],\n",
    "            },\n",
    "        },\n",
    "        {\"class\": \"ReLU\", \"kargs\": {\"inplace\": True}},\n",
    "        {\"class\": \"BatchNorm2d\", \"kargs\": {\"num_features\": 80}},\n",
    "        {\"class\": \"Flatten\", \"kargs\": {}},\n",
    "        {\"class\": \"Linear\", \"kargs\": {\"in_features\": 20480, \"out_features\": 256}},\n",
    "        {\"class\": \"ReLU\", \"kargs\": {\"inplace\": True}},\n",
    "        {\"class\": \"BatchNorm1d\", \"kargs\": {\"num_features\": 256}},\n",
    "        {\"class\": \"Linear\", \"kargs\": {\"in_features\": 256, \"out_features\": 256}},\n",
    "    ],\n",
    "    \"NUM_LOGS_PER_EPOCH\": 10,\n",
    "    \"BEST_MODEL_PATH\": \"./best_model.pth\",\n",
    "    \"n_way\": 16,\n",
    "    \"datasets\": [\n",
    "        {\n",
    "            \"labels\": [\n",
    "                \"1-10.\",\n",
    "                \"1-11.\",\n",
    "                \"1-15.\",\n",
    "                \"1-16.\",\n",
    "                \"1-17.\",\n",
    "                \"1-18.\",\n",
    "                \"1-19.\",\n",
    "                \"10-4.\",\n",
    "                \"10-7.\",\n",
    "                \"11-1.\",\n",
    "                \"11-14.\",\n",
    "                \"11-17.\",\n",
    "                \"11-20.\",\n",
    "                \"11-7.\",\n",
    "                \"13-20.\",\n",
    "                \"13-8.\",\n",
    "                \"14-10.\",\n",
    "                \"14-11.\",\n",
    "                \"14-14.\",\n",
    "                \"14-7.\",\n",
    "                \"15-1.\",\n",
    "                \"15-20.\",\n",
    "                \"16-1.\",\n",
    "                \"16-16.\",\n",
    "                \"17-10.\",\n",
    "                \"17-11.\",\n",
    "                \"17-2.\",\n",
    "                \"19-1.\",\n",
    "                \"19-16.\",\n",
    "                \"19-19.\",\n",
    "                \"19-20.\",\n",
    "                \"19-3.\",\n",
    "                \"2-10.\",\n",
    "                \"2-11.\",\n",
    "                \"2-17.\",\n",
    "                \"2-18.\",\n",
    "                \"2-20.\",\n",
    "                \"2-3.\",\n",
    "                \"2-4.\",\n",
    "                \"2-5.\",\n",
    "                \"2-6.\",\n",
    "                \"2-7.\",\n",
    "                \"2-8.\",\n",
    "                \"3-13.\",\n",
    "                \"3-18.\",\n",
    "                \"3-3.\",\n",
    "                \"4-1.\",\n",
    "                \"4-10.\",\n",
    "                \"4-11.\",\n",
    "                \"4-19.\",\n",
    "                \"5-5.\",\n",
    "                \"6-15.\",\n",
    "                \"7-10.\",\n",
    "                \"7-14.\",\n",
    "                \"8-18.\",\n",
    "                \"8-20.\",\n",
    "                \"8-3.\",\n",
    "                \"8-8.\",\n",
    "            ],\n",
    "            \"domains\": [1, 2, 3, 4, 5],\n",
    "            \"num_examples_per_domain_per_label\": -1,\n",
    "            \"pickle_path\": \"/root/csc500-main/datasets/cores.stratified_ds.2022A.pkl\",\n",
    "            \"source_or_target_dataset\": \"target\",\n",
    "            \"x_transforms\": [\"unit_power\"],\n",
    "            \"episode_transforms\": [],\n",
    "            \"domain_prefix\": \"CORES_\",\n",
    "        },\n",
    "        {\n",
    "            \"labels\": [\n",
    "                \"3123D52\",\n",
    "                \"3123D65\",\n",
    "                \"3123D79\",\n",
    "                \"3123D80\",\n",
    "                \"3123D54\",\n",
    "                \"3123D70\",\n",
    "                \"3123D7B\",\n",
    "                \"3123D89\",\n",
    "                \"3123D58\",\n",
    "                \"3123D76\",\n",
    "                \"3123D7D\",\n",
    "                \"3123EFE\",\n",
    "                \"3123D64\",\n",
    "                \"3123D78\",\n",
    "                \"3123D7E\",\n",
    "                \"3124E4A\",\n",
    "            ],\n",
    "            \"domains\": [32, 38, 8, 44, 14, 50, 20, 26],\n",
    "            \"num_examples_per_domain_per_label\": 10000,\n",
    "            \"pickle_path\": \"/root/csc500-main/datasets/oracle.Run1_10kExamples_stratified_ds.2022A.pkl\",\n",
    "            \"source_or_target_dataset\": \"source\",\n",
    "            \"x_transforms\": [\"unit_power\"],\n",
    "            \"episode_transforms\": [],\n",
    "            \"domain_prefix\": \"ORACLE.run1_\",\n",
    "        },\n",
    "    ],\n",
    "    \"dataset_seed\": 154325,\n",
    "    \"seed\": 154325,\n",
    "}\n"
   ]
  },
  {
   "cell_type": "code",
   "execution_count": 5,
   "id": "8fa1cc33",
   "metadata": {
    "execution": {
     "iopub.execute_input": "2022-03-22T11:56:05.067890Z",
     "iopub.status.busy": "2022-03-22T11:56:05.066973Z",
     "iopub.status.idle": "2022-03-22T11:56:05.089321Z",
     "shell.execute_reply": "2022-03-22T11:56:05.088605Z"
    },
    "papermill": {
     "duration": 0.048566,
     "end_time": "2022-03-22T11:56:05.089474",
     "exception": false,
     "start_time": "2022-03-22T11:56:05.040908",
     "status": "completed"
    },
    "tags": []
   },
   "outputs": [],
   "source": [
    "# Set this to True if you want to run this template directly\n",
    "STANDALONE = False\n",
    "if STANDALONE:\n",
    "    print(\"parameters not injected, running with standalone_parameters\")\n",
    "    parameters = standalone_parameters\n",
    "\n",
    "if not 'parameters' in locals() and not 'parameters' in globals():\n",
    "    raise Exception(\"Parameter injection failed\")\n",
    "\n",
    "#Use an easy dict for all the parameters\n",
    "p = EasyDict(parameters)\n",
    "\n",
    "if \"x_shape\" not in p:\n",
    "    p.x_shape = [2,256] # Default to this if we dont supply x_shape\n",
    "\n",
    "\n",
    "supplied_keys = set(p.keys())\n",
    "\n",
    "if  supplied_keys != required_parameters:\n",
    "    print(\"Parameters are incorrect\")\n",
    "    if len(supplied_keys - required_parameters)>0: print(\"Shouldn't have:\", str(supplied_keys - required_parameters))\n",
    "    if len(required_parameters - supplied_keys)>0: print(\"Need to have:\", str(required_parameters - supplied_keys))\n",
    "    raise RuntimeError(\"Parameters are incorrect\")"
   ]
  },
  {
   "cell_type": "code",
   "execution_count": 6,
   "id": "3a028d58",
   "metadata": {
    "execution": {
     "iopub.execute_input": "2022-03-22T11:56:05.142134Z",
     "iopub.status.busy": "2022-03-22T11:56:05.141567Z",
     "iopub.status.idle": "2022-03-22T11:56:05.163506Z",
     "shell.execute_reply": "2022-03-22T11:56:05.164166Z"
    },
    "papermill": {
     "duration": 0.047042,
     "end_time": "2022-03-22T11:56:05.164351",
     "exception": false,
     "start_time": "2022-03-22T11:56:05.117309",
     "status": "completed"
    },
    "tags": []
   },
   "outputs": [],
   "source": [
    "###################################\n",
    "# Set the RNGs and make it all deterministic\n",
    "###################################\n",
    "np.random.seed(p.seed)\n",
    "random.seed(p.seed)\n",
    "torch.manual_seed(p.seed)\n",
    "\n",
    "torch.use_deterministic_algorithms(True) "
   ]
  },
  {
   "cell_type": "code",
   "execution_count": 7,
   "id": "b691acf6",
   "metadata": {
    "execution": {
     "iopub.execute_input": "2022-03-22T11:56:05.213505Z",
     "iopub.status.busy": "2022-03-22T11:56:05.212833Z",
     "iopub.status.idle": "2022-03-22T11:56:05.236435Z",
     "shell.execute_reply": "2022-03-22T11:56:05.235610Z"
    },
    "papermill": {
     "duration": 0.047715,
     "end_time": "2022-03-22T11:56:05.236589",
     "exception": false,
     "start_time": "2022-03-22T11:56:05.188874",
     "status": "completed"
    },
    "tags": []
   },
   "outputs": [],
   "source": [
    "###########################################\n",
    "# The stratified datasets honor this\n",
    "###########################################\n",
    "torch.set_default_dtype(eval(p.torch_default_dtype))"
   ]
  },
  {
   "cell_type": "code",
   "execution_count": 8,
   "id": "b5fba671",
   "metadata": {
    "execution": {
     "iopub.execute_input": "2022-03-22T11:56:05.286224Z",
     "iopub.status.busy": "2022-03-22T11:56:05.285826Z",
     "iopub.status.idle": "2022-03-22T11:56:05.339026Z",
     "shell.execute_reply": "2022-03-22T11:56:05.338307Z"
    },
    "papermill": {
     "duration": 0.075925,
     "end_time": "2022-03-22T11:56:05.339183",
     "exception": false,
     "start_time": "2022-03-22T11:56:05.263258",
     "status": "completed"
    },
    "tags": []
   },
   "outputs": [],
   "source": [
    "###################################\n",
    "# Build the network(s)\n",
    "# Note: It's critical to do this AFTER setting the RNG\n",
    "###################################\n",
    "x_net = build_sequential(p.x_net)"
   ]
  },
  {
   "cell_type": "code",
   "execution_count": 9,
   "id": "5d7e61cc",
   "metadata": {
    "execution": {
     "iopub.execute_input": "2022-03-22T11:56:05.393223Z",
     "iopub.status.busy": "2022-03-22T11:56:05.392664Z",
     "iopub.status.idle": "2022-03-22T11:56:05.417180Z",
     "shell.execute_reply": "2022-03-22T11:56:05.416353Z"
    },
    "papermill": {
     "duration": 0.048719,
     "end_time": "2022-03-22T11:56:05.417334",
     "exception": false,
     "start_time": "2022-03-22T11:56:05.368615",
     "status": "completed"
    },
    "tags": []
   },
   "outputs": [],
   "source": [
    "start_time_secs = time.time()"
   ]
  },
  {
   "cell_type": "code",
   "execution_count": 10,
   "id": "c6b67dfd",
   "metadata": {
    "execution": {
     "iopub.execute_input": "2022-03-22T11:56:05.471237Z",
     "iopub.status.busy": "2022-03-22T11:56:05.470872Z",
     "iopub.status.idle": "2022-03-22T11:56:05.492237Z",
     "shell.execute_reply": "2022-03-22T11:56:05.491494Z"
    },
    "papermill": {
     "duration": 0.046859,
     "end_time": "2022-03-22T11:56:05.492389",
     "exception": false,
     "start_time": "2022-03-22T11:56:05.445530",
     "status": "completed"
    },
    "tags": []
   },
   "outputs": [],
   "source": [
    "p.domains_source = []\n",
    "p.domains_target = []\n",
    "\n",
    "\n",
    "train_original_source = []\n",
    "val_original_source   = []\n",
    "test_original_source  = []\n",
    "\n",
    "train_original_target = []\n",
    "val_original_target   = []\n",
    "test_original_target  = []"
   ]
  },
  {
   "cell_type": "code",
   "execution_count": 11,
   "id": "e3d9c3d3",
   "metadata": {
    "execution": {
     "iopub.execute_input": "2022-03-22T11:56:05.545201Z",
     "iopub.status.busy": "2022-03-22T11:56:05.544644Z",
     "iopub.status.idle": "2022-03-22T11:56:05.566413Z",
     "shell.execute_reply": "2022-03-22T11:56:05.565603Z"
    },
    "papermill": {
     "duration": 0.045771,
     "end_time": "2022-03-22T11:56:05.566565",
     "exception": false,
     "start_time": "2022-03-22T11:56:05.520794",
     "status": "completed"
    },
    "tags": []
   },
   "outputs": [],
   "source": [
    "# global_x_transform_func = lambda x: normalize(x.to(torch.get_default_dtype()), \"unit_power\") # unit_power, unit_mag\n",
    "# global_x_transform_func = lambda x: normalize(x, \"unit_power\") # unit_power, unit_mag"
   ]
  },
  {
   "cell_type": "code",
   "execution_count": 12,
   "id": "acb78fd2",
   "metadata": {
    "execution": {
     "iopub.execute_input": "2022-03-22T11:56:05.625752Z",
     "iopub.status.busy": "2022-03-22T11:56:05.624901Z",
     "iopub.status.idle": "2022-03-22T11:56:05.644304Z",
     "shell.execute_reply": "2022-03-22T11:56:05.643586Z"
    },
    "papermill": {
     "duration": 0.052704,
     "end_time": "2022-03-22T11:56:05.644455",
     "exception": false,
     "start_time": "2022-03-22T11:56:05.591751",
     "status": "completed"
    },
    "tags": []
   },
   "outputs": [],
   "source": [
    "def add_dataset(\n",
    "    labels,\n",
    "    domains,\n",
    "    pickle_path,\n",
    "    x_transforms,\n",
    "    episode_transforms,\n",
    "    domain_prefix,\n",
    "    num_examples_per_domain_per_label,\n",
    "    source_or_target_dataset:str,\n",
    "    iterator_seed=p.seed,\n",
    "    dataset_seed=p.dataset_seed,\n",
    "    n_shot=p.n_shot,\n",
    "    n_way=p.n_way,\n",
    "    n_query=p.n_query,\n",
    "    train_val_test_k_factors=(p.train_k_factor,p.val_k_factor,p.test_k_factor),\n",
    "):\n",
    "   \n",
    "    if x_transforms == []: x_transform = None\n",
    "    else: x_transform = get_chained_transform(x_transforms)\n",
    "    \n",
    "    if episode_transforms == []: episode_transform = None\n",
    "    else: raise Exception(\"episode_transforms not implemented\")\n",
    "    \n",
    "    episode_transform = lambda tup, _prefix=domain_prefix: (_prefix + str(tup[0]), tup[1])\n",
    "\n",
    "\n",
    "    eaf = Episodic_Accessor_Factory(\n",
    "        labels=labels,\n",
    "        domains=domains,\n",
    "        num_examples_per_domain_per_label=num_examples_per_domain_per_label,\n",
    "        iterator_seed=iterator_seed,\n",
    "        dataset_seed=dataset_seed,\n",
    "        n_shot=n_shot,\n",
    "        n_way=n_way,\n",
    "        n_query=n_query,\n",
    "        train_val_test_k_factors=train_val_test_k_factors,\n",
    "        pickle_path=pickle_path,\n",
    "        x_transform_func=x_transform,\n",
    "    )\n",
    "\n",
    "    train, val, test = eaf.get_train(), eaf.get_val(), eaf.get_test()\n",
    "    train = Lazy_Iterable_Wrapper(train, episode_transform)\n",
    "    val = Lazy_Iterable_Wrapper(val, episode_transform)\n",
    "    test = Lazy_Iterable_Wrapper(test, episode_transform)\n",
    "\n",
    "    if source_or_target_dataset==\"source\":\n",
    "        train_original_source.append(train)\n",
    "        val_original_source.append(val)\n",
    "        test_original_source.append(test)\n",
    "\n",
    "        p.domains_source.extend(\n",
    "            [domain_prefix + str(u) for u in domains]\n",
    "        )\n",
    "    elif source_or_target_dataset==\"target\":\n",
    "        train_original_target.append(train)\n",
    "        val_original_target.append(val)\n",
    "        test_original_target.append(test)\n",
    "        p.domains_target.extend(\n",
    "            [domain_prefix + str(u) for u in domains]\n",
    "        )\n",
    "    else:\n",
    "        raise Exception(f\"invalid source_or_target_dataset: {source_or_target_dataset}\")\n",
    "    "
   ]
  },
  {
   "cell_type": "code",
   "execution_count": 13,
   "id": "fe266617",
   "metadata": {
    "execution": {
     "iopub.execute_input": "2022-03-22T11:56:05.695120Z",
     "iopub.status.busy": "2022-03-22T11:56:05.694755Z",
     "iopub.status.idle": "2022-03-22T11:58:17.300753Z",
     "shell.execute_reply": "2022-03-22T11:58:17.299967Z"
    },
    "papermill": {
     "duration": 131.629665,
     "end_time": "2022-03-22T11:58:17.300935",
     "exception": false,
     "start_time": "2022-03-22T11:56:05.671270",
     "status": "completed"
    },
    "tags": []
   },
   "outputs": [],
   "source": [
    "for ds in p.datasets:\n",
    "    add_dataset(**ds)"
   ]
  },
  {
   "cell_type": "code",
   "execution_count": 14,
   "id": "b90d65ac",
   "metadata": {
    "execution": {
     "iopub.execute_input": "2022-03-22T11:58:17.351484Z",
     "iopub.status.busy": "2022-03-22T11:58:17.351106Z",
     "iopub.status.idle": "2022-03-22T11:58:17.376479Z",
     "shell.execute_reply": "2022-03-22T11:58:17.375752Z"
    },
    "papermill": {
     "duration": 0.049738,
     "end_time": "2022-03-22T11:58:17.376658",
     "exception": false,
     "start_time": "2022-03-22T11:58:17.326920",
     "status": "completed"
    },
    "tags": []
   },
   "outputs": [],
   "source": [
    "# from steves_utils.CORES.utils import (\n",
    "#     ALL_NODES,\n",
    "#     ALL_NODES_MINIMUM_1000_EXAMPLES,\n",
    "#     ALL_DAYS\n",
    "# )\n",
    "\n",
    "# add_dataset(\n",
    "#     labels=ALL_NODES,\n",
    "#     domains = ALL_DAYS,\n",
    "#     num_examples_per_domain_per_label=100,\n",
    "#     pickle_path=os.path.join(get_datasets_base_path(), \"cores.stratified_ds.2022A.pkl\"),\n",
    "#     source_or_target_dataset=\"target\",\n",
    "#     x_transform_func=global_x_transform_func,\n",
    "#     domain_modifier=lambda u: f\"cores_{u}\"\n",
    "# )"
   ]
  },
  {
   "cell_type": "code",
   "execution_count": 15,
   "id": "76db484d",
   "metadata": {
    "execution": {
     "iopub.execute_input": "2022-03-22T11:58:17.429297Z",
     "iopub.status.busy": "2022-03-22T11:58:17.428920Z",
     "iopub.status.idle": "2022-03-22T11:58:17.450260Z",
     "shell.execute_reply": "2022-03-22T11:58:17.449506Z"
    },
    "papermill": {
     "duration": 0.046294,
     "end_time": "2022-03-22T11:58:17.450416",
     "exception": false,
     "start_time": "2022-03-22T11:58:17.404122",
     "status": "completed"
    },
    "tags": []
   },
   "outputs": [],
   "source": [
    "# from steves_utils.ORACLE.utils_v2 import (\n",
    "#     ALL_DISTANCES_FEET,\n",
    "#     ALL_RUNS,\n",
    "#     ALL_SERIAL_NUMBERS,\n",
    "# )\n",
    "\n",
    "\n",
    "# add_dataset(\n",
    "#     labels=ALL_SERIAL_NUMBERS,\n",
    "#     domains = list(set(ALL_DISTANCES_FEET) - {2,62}),\n",
    "#     num_examples_per_domain_per_label=100,\n",
    "#     pickle_path=os.path.join(get_datasets_base_path(), \"oracle.Run2_framed_2000Examples_stratified_ds.2022A.pkl\"),\n",
    "#     source_or_target_dataset=\"source\",\n",
    "#     x_transform_func=global_x_transform_func,\n",
    "#     domain_modifier=lambda u: f\"oracle1_{u}\"\n",
    "# )\n"
   ]
  },
  {
   "cell_type": "code",
   "execution_count": 16,
   "id": "97dea9d2",
   "metadata": {
    "execution": {
     "iopub.execute_input": "2022-03-22T11:58:17.500784Z",
     "iopub.status.busy": "2022-03-22T11:58:17.500404Z",
     "iopub.status.idle": "2022-03-22T11:58:17.517560Z",
     "shell.execute_reply": "2022-03-22T11:58:17.516875Z"
    },
    "papermill": {
     "duration": 0.040792,
     "end_time": "2022-03-22T11:58:17.517721",
     "exception": false,
     "start_time": "2022-03-22T11:58:17.476929",
     "status": "completed"
    },
    "tags": []
   },
   "outputs": [],
   "source": [
    "# from steves_utils.ORACLE.utils_v2 import (\n",
    "#     ALL_DISTANCES_FEET,\n",
    "#     ALL_RUNS,\n",
    "#     ALL_SERIAL_NUMBERS,\n",
    "# )\n",
    "\n",
    "\n",
    "# add_dataset(\n",
    "#     labels=ALL_SERIAL_NUMBERS,\n",
    "#     domains = list(set(ALL_DISTANCES_FEET) - {2,62,56}),\n",
    "#     num_examples_per_domain_per_label=100,\n",
    "#     pickle_path=os.path.join(get_datasets_base_path(), \"oracle.Run2_framed_2000Examples_stratified_ds.2022A.pkl\"),\n",
    "#     source_or_target_dataset=\"source\",\n",
    "#     x_transform_func=global_x_transform_func,\n",
    "#     domain_modifier=lambda u: f\"oracle2_{u}\"\n",
    "# )"
   ]
  },
  {
   "cell_type": "code",
   "execution_count": 17,
   "id": "6f289866",
   "metadata": {
    "execution": {
     "iopub.execute_input": "2022-03-22T11:58:17.569754Z",
     "iopub.status.busy": "2022-03-22T11:58:17.569383Z",
     "iopub.status.idle": "2022-03-22T11:58:17.590258Z",
     "shell.execute_reply": "2022-03-22T11:58:17.589538Z"
    },
    "papermill": {
     "duration": 0.045383,
     "end_time": "2022-03-22T11:58:17.590414",
     "exception": false,
     "start_time": "2022-03-22T11:58:17.545031",
     "status": "completed"
    },
    "tags": []
   },
   "outputs": [],
   "source": [
    "# add_dataset(\n",
    "#     labels=list(range(19)),\n",
    "#     domains = [0,1,2],\n",
    "#     num_examples_per_domain_per_label=100,\n",
    "#     pickle_path=os.path.join(get_datasets_base_path(), \"metehan.stratified_ds.2022A.pkl\"),\n",
    "#     source_or_target_dataset=\"target\",\n",
    "#     x_transform_func=global_x_transform_func,\n",
    "#     domain_modifier=lambda u: f\"met_{u}\"\n",
    "# )"
   ]
  },
  {
   "cell_type": "code",
   "execution_count": 18,
   "id": "86a863c3",
   "metadata": {
    "execution": {
     "iopub.execute_input": "2022-03-22T11:58:17.641421Z",
     "iopub.status.busy": "2022-03-22T11:58:17.641047Z",
     "iopub.status.idle": "2022-03-22T11:58:17.657711Z",
     "shell.execute_reply": "2022-03-22T11:58:17.656992Z"
    },
    "papermill": {
     "duration": 0.040518,
     "end_time": "2022-03-22T11:58:17.657865",
     "exception": false,
     "start_time": "2022-03-22T11:58:17.617347",
     "status": "completed"
    },
    "tags": []
   },
   "outputs": [],
   "source": [
    "# # from steves_utils.wisig.utils import (\n",
    "# #     ALL_NODES_MINIMUM_100_EXAMPLES,\n",
    "# #     ALL_NODES_MINIMUM_500_EXAMPLES,\n",
    "# #     ALL_NODES_MINIMUM_1000_EXAMPLES,\n",
    "# #     ALL_DAYS\n",
    "# # )\n",
    "\n",
    "# import steves_utils.wisig.utils as wisig\n",
    "\n",
    "\n",
    "# add_dataset(\n",
    "#     labels=wisig.ALL_NODES_MINIMUM_100_EXAMPLES,\n",
    "#     domains = wisig.ALL_DAYS,\n",
    "#     num_examples_per_domain_per_label=100,\n",
    "#     pickle_path=os.path.join(get_datasets_base_path(), \"wisig.node3-19.stratified_ds.2022A.pkl\"),\n",
    "#     source_or_target_dataset=\"target\",\n",
    "#     x_transform_func=global_x_transform_func,\n",
    "#     domain_modifier=lambda u: f\"wisig_{u}\"\n",
    "# )"
   ]
  },
  {
   "cell_type": "code",
   "execution_count": 19,
   "id": "fd5442bc",
   "metadata": {
    "execution": {
     "iopub.execute_input": "2022-03-22T11:58:17.711168Z",
     "iopub.status.busy": "2022-03-22T11:58:17.710784Z",
     "iopub.status.idle": "2022-03-22T11:58:17.729050Z",
     "shell.execute_reply": "2022-03-22T11:58:17.728339Z"
    },
    "papermill": {
     "duration": 0.044334,
     "end_time": "2022-03-22T11:58:17.729203",
     "exception": false,
     "start_time": "2022-03-22T11:58:17.684869",
     "status": "completed"
    },
    "tags": []
   },
   "outputs": [],
   "source": [
    "###################################\n",
    "# Build the dataset\n",
    "###################################\n",
    "train_original_source = Iterable_Aggregator(train_original_source, p.seed)\n",
    "val_original_source = Iterable_Aggregator(val_original_source, p.seed)\n",
    "test_original_source = Iterable_Aggregator(test_original_source, p.seed)\n",
    "\n",
    "\n",
    "train_original_target = Iterable_Aggregator(train_original_target, p.seed)\n",
    "val_original_target = Iterable_Aggregator(val_original_target, p.seed)\n",
    "test_original_target = Iterable_Aggregator(test_original_target, p.seed)\n",
    "\n",
    "# For CNN We only use X and Y. And we only train on the source.\n",
    "# Properly form the data using a transform lambda and Lazy_Iterable_Wrapper. Finally wrap them in a dataloader\n",
    "\n",
    "transform_lambda = lambda ex: ex[1] # Original is (<domain>, <episode>) so we strip down to episode only\n",
    "\n",
    "train_processed_source = Lazy_Iterable_Wrapper(train_original_source, transform_lambda)\n",
    "val_processed_source   = Lazy_Iterable_Wrapper(val_original_source, transform_lambda)\n",
    "test_processed_source  = Lazy_Iterable_Wrapper(test_original_source, transform_lambda)\n",
    "\n",
    "train_processed_target = Lazy_Iterable_Wrapper(train_original_target, transform_lambda)\n",
    "val_processed_target   = Lazy_Iterable_Wrapper(val_original_target, transform_lambda)\n",
    "test_processed_target  = Lazy_Iterable_Wrapper(test_original_target, transform_lambda)\n",
    "\n",
    "datasets = EasyDict({\n",
    "    \"source\": {\n",
    "        \"original\": {\"train\":train_original_source, \"val\":val_original_source, \"test\":test_original_source},\n",
    "        \"processed\": {\"train\":train_processed_source, \"val\":val_processed_source, \"test\":test_processed_source}\n",
    "    },\n",
    "    \"target\": {\n",
    "        \"original\": {\"train\":train_original_target, \"val\":val_original_target, \"test\":test_original_target},\n",
    "        \"processed\": {\"train\":train_processed_target, \"val\":val_processed_target, \"test\":test_processed_target}\n",
    "    },\n",
    "})"
   ]
  },
  {
   "cell_type": "code",
   "execution_count": 20,
   "id": "5b3c01fc",
   "metadata": {
    "execution": {
     "iopub.execute_input": "2022-03-22T11:58:17.781888Z",
     "iopub.status.busy": "2022-03-22T11:58:17.781504Z",
     "iopub.status.idle": "2022-03-22T11:58:50.739218Z",
     "shell.execute_reply": "2022-03-22T11:58:50.738352Z"
    },
    "papermill": {
     "duration": 32.982309,
     "end_time": "2022-03-22T11:58:50.739394",
     "exception": false,
     "start_time": "2022-03-22T11:58:17.757085",
     "status": "completed"
    },
    "tags": []
   },
   "outputs": [
    {
     "name": "stdout",
     "output_type": "stream",
     "text": [
      "{'ORACLE.run1_14', 'ORACLE.run1_38', 'ORACLE.run1_44', 'ORACLE.run1_20', 'ORACLE.run1_32', 'ORACLE.run1_26', 'ORACLE.run1_8', 'ORACLE.run1_50'}\n"
     ]
    },
    {
     "name": "stdout",
     "output_type": "stream",
     "text": [
      "{'CORES_1', 'CORES_3', 'CORES_2', 'CORES_5', 'CORES_4'}\n"
     ]
    },
    {
     "name": "stdout",
     "output_type": "stream",
     "text": [
      "tensor([[[ 0.5885, -0.3494, -0.6160,  ..., -0.0690,  0.4321, -1.1401],\n",
      "         [ 0.6390,  0.1793,  0.3310,  ...,  0.7448, -0.0138, -1.2918]],\n",
      "\n",
      "        [[ 1.1379,  0.9688, -0.7769,  ...,  0.3382,  0.0411, -1.0373],\n",
      "         [ 0.1554, -0.1554,  0.9688,  ...,  0.1280, -0.5347, -0.5438]],\n",
      "\n",
      "        [[-0.4306, -0.2792, -0.4968,  ..., -0.2981,  0.3076,  0.8281],\n",
      "         [ 1.0126, -0.2035, -0.6199,  ...,  0.9464, -0.0946, -0.5158]],\n",
      "\n",
      "        ...,\n",
      "\n",
      "        [[ 0.6796, -0.4440, -1.8032,  ..., -0.2302,  0.6522,  0.5700],\n",
      "         [-0.7180, -0.1151,  0.8276,  ...,  1.0195,  0.8934, -1.4963]],\n",
      "\n",
      "        [[-0.4151,  0.1479, -0.1308,  ..., -0.8701, -0.6881, -0.7051],\n",
      "         [-0.8530,  0.1535,  2.1666,  ...,  0.0341,  0.0853,  0.1990]],\n",
      "\n",
      "        [[ 0.3724,  0.3231, -0.5312,  ..., -1.0515, -0.6846,  1.3417],\n",
      "         [ 0.8105, -0.6900, -1.7305,  ..., -0.5203,  0.4764,  0.9803]]])\n"
     ]
    }
   ],
   "source": [
    "from steves_utils.transforms import get_average_magnitude, get_average_power\n",
    "\n",
    "print(set([u for u,_ in val_original_source]))\n",
    "print(set([u for u,_ in val_original_target]))\n",
    "\n",
    "s_x, s_y, q_x, q_y, _ = next(iter(train_processed_source))\n",
    "print(s_x)\n",
    "\n",
    "# for ds in [\n",
    "#     train_processed_source,\n",
    "#     val_processed_source,\n",
    "#     test_processed_source,\n",
    "#     train_processed_target,\n",
    "#     val_processed_target,\n",
    "#     test_processed_target\n",
    "# ]:\n",
    "#     for s_x, s_y, q_x, q_y, _ in ds:\n",
    "#         for X in (s_x, q_x):\n",
    "#             for x in X:\n",
    "#                 assert np.isclose(get_average_magnitude(x.numpy()), 1.0)\n",
    "#                 assert np.isclose(get_average_power(x.numpy()), 1.0)\n",
    "                "
   ]
  },
  {
   "cell_type": "code",
   "execution_count": 21,
   "id": "bbdacba1",
   "metadata": {
    "execution": {
     "iopub.execute_input": "2022-03-22T11:58:50.798923Z",
     "iopub.status.busy": "2022-03-22T11:58:50.798545Z",
     "iopub.status.idle": "2022-03-22T11:58:50.988395Z",
     "shell.execute_reply": "2022-03-22T11:58:50.988005Z"
    },
    "papermill": {
     "duration": 0.218293,
     "end_time": "2022-03-22T11:58:50.988516",
     "exception": false,
     "start_time": "2022-03-22T11:58:50.770223",
     "status": "completed"
    },
    "tags": []
   },
   "outputs": [
    {
     "name": "stdout",
     "output_type": "stream",
     "text": [
      "(2, 256)\n"
     ]
    }
   ],
   "source": [
    "###################################\n",
    "# Build the model\n",
    "###################################\n",
    "# easfsl only wants a tuple for the shape\n",
    "model = Steves_Prototypical_Network(x_net, device=p.device, x_shape=tuple(p.x_shape))\n",
    "optimizer = Adam(params=model.parameters(), lr=p.lr)"
   ]
  },
  {
   "cell_type": "code",
   "execution_count": 22,
   "id": "22b39ac5",
   "metadata": {
    "execution": {
     "iopub.execute_input": "2022-03-22T11:58:51.055892Z",
     "iopub.status.busy": "2022-03-22T11:58:51.055500Z",
     "iopub.status.idle": "2022-03-22T15:15:47.901742Z",
     "shell.execute_reply": "2022-03-22T15:15:47.901229Z"
    },
    "papermill": {
     "duration": 11816.873501,
     "end_time": "2022-03-22T15:15:47.901872",
     "exception": false,
     "start_time": "2022-03-22T11:58:51.028371",
     "status": "completed"
    },
    "tags": []
   },
   "outputs": [
    {
     "name": "stdout",
     "output_type": "stream",
     "text": [
      "epoch: 1, [batch: 1 / 33600], examples_per_second: 6.4957, train_label_loss: 2.7695, \n"
     ]
    },
    {
     "name": "stdout",
     "output_type": "stream",
     "text": [
      "epoch: 1, [batch: 3360 / 33600], examples_per_second: 3927.6449, train_label_loss: 1.1903, \n"
     ]
    },
    {
     "name": "stdout",
     "output_type": "stream",
     "text": [
      "epoch: 1, [batch: 6720 / 33600], examples_per_second: 3954.4202, train_label_loss: 0.7916, \n"
     ]
    },
    {
     "name": "stdout",
     "output_type": "stream",
     "text": [
      "epoch: 1, [batch: 10080 / 33600], examples_per_second: 3890.9244, train_label_loss: 1.1844, \n"
     ]
    },
    {
     "name": "stdout",
     "output_type": "stream",
     "text": [
      "epoch: 1, [batch: 13440 / 33600], examples_per_second: 4029.6444, train_label_loss: 0.6901, \n"
     ]
    },
    {
     "name": "stdout",
     "output_type": "stream",
     "text": [
      "epoch: 1, [batch: 16800 / 33600], examples_per_second: 4014.5312, train_label_loss: 0.8853, \n"
     ]
    },
    {
     "name": "stdout",
     "output_type": "stream",
     "text": [
      "epoch: 1, [batch: 20160 / 33600], examples_per_second: 4218.8189, train_label_loss: 0.5871, \n"
     ]
    },
    {
     "name": "stdout",
     "output_type": "stream",
     "text": [
      "epoch: 1, [batch: 23520 / 33600], examples_per_second: 3885.7400, train_label_loss: 0.4603, \n"
     ]
    },
    {
     "name": "stdout",
     "output_type": "stream",
     "text": [
      "epoch: 1, [batch: 26880 / 33600], examples_per_second: 4117.5988, train_label_loss: 0.6309, \n"
     ]
    },
    {
     "name": "stdout",
     "output_type": "stream",
     "text": [
      "epoch: 1, [batch: 30240 / 33600], examples_per_second: 3889.5493, train_label_loss: 1.1998, \n"
     ]
    },
    {
     "name": "stdout",
     "output_type": "stream",
     "text": [
      "=============================================================\n",
      "epoch: 1, source_val_acc_label: 0.6586, target_val_acc_label: 0.9670, source_val_label_loss: 0.9879, target_val_label_loss: 0.2825, \n",
      "=============================================================\n"
     ]
    },
    {
     "name": "stdout",
     "output_type": "stream",
     "text": [
      "New best\n"
     ]
    },
    {
     "name": "stdout",
     "output_type": "stream",
     "text": [
      "epoch: 2, [batch: 1 / 33600], examples_per_second: 1.0722, train_label_loss: 0.5370, \n"
     ]
    },
    {
     "name": "stdout",
     "output_type": "stream",
     "text": [
      "epoch: 2, [batch: 3360 / 33600], examples_per_second: 5057.8186, train_label_loss: 0.6179, \n"
     ]
    },
    {
     "name": "stdout",
     "output_type": "stream",
     "text": [
      "epoch: 2, [batch: 6720 / 33600], examples_per_second: 4943.6189, train_label_loss: 0.6914, \n"
     ]
    },
    {
     "name": "stdout",
     "output_type": "stream",
     "text": [
      "epoch: 2, [batch: 10080 / 33600], examples_per_second: 4082.8867, train_label_loss: 0.6772, \n"
     ]
    },
    {
     "name": "stdout",
     "output_type": "stream",
     "text": [
      "epoch: 2, [batch: 13440 / 33600], examples_per_second: 3797.8675, train_label_loss: 0.6670, \n"
     ]
    },
    {
     "name": "stdout",
     "output_type": "stream",
     "text": [
      "epoch: 2, [batch: 16800 / 33600], examples_per_second: 4160.0233, train_label_loss: 0.9828, \n"
     ]
    },
    {
     "name": "stdout",
     "output_type": "stream",
     "text": [
      "epoch: 2, [batch: 20160 / 33600], examples_per_second: 3955.8812, train_label_loss: 0.5964, \n"
     ]
    },
    {
     "name": "stdout",
     "output_type": "stream",
     "text": [
      "epoch: 2, [batch: 23520 / 33600], examples_per_second: 4065.6577, train_label_loss: 0.7884, \n"
     ]
    },
    {
     "name": "stdout",
     "output_type": "stream",
     "text": [
      "epoch: 2, [batch: 26880 / 33600], examples_per_second: 3925.6972, train_label_loss: 0.5990, \n"
     ]
    },
    {
     "name": "stdout",
     "output_type": "stream",
     "text": [
      "epoch: 2, [batch: 30240 / 33600], examples_per_second: 4100.7855, train_label_loss: 0.7543, \n"
     ]
    },
    {
     "name": "stdout",
     "output_type": "stream",
     "text": [
      "=============================================================\n",
      "epoch: 2, source_val_acc_label: 0.6715, target_val_acc_label: 0.9709, source_val_label_loss: 0.8632, target_val_label_loss: 0.2496, \n",
      "=============================================================\n"
     ]
    },
    {
     "name": "stdout",
     "output_type": "stream",
     "text": [
      "New best\n"
     ]
    },
    {
     "name": "stdout",
     "output_type": "stream",
     "text": [
      "epoch: 3, [batch: 1 / 33600], examples_per_second: 1.0235, train_label_loss: 1.2190, \n"
     ]
    },
    {
     "name": "stdout",
     "output_type": "stream",
     "text": [
      "epoch: 3, [batch: 3360 / 33600], examples_per_second: 3894.9441, train_label_loss: 0.7944, \n"
     ]
    },
    {
     "name": "stdout",
     "output_type": "stream",
     "text": [
      "epoch: 3, [batch: 6720 / 33600], examples_per_second: 3979.9383, train_label_loss: 0.8706, \n"
     ]
    },
    {
     "name": "stdout",
     "output_type": "stream",
     "text": [
      "epoch: 3, [batch: 10080 / 33600], examples_per_second: 4226.8247, train_label_loss: 1.2505, \n"
     ]
    },
    {
     "name": "stdout",
     "output_type": "stream",
     "text": [
      "epoch: 3, [batch: 13440 / 33600], examples_per_second: 4717.6875, train_label_loss: 0.5383, \n"
     ]
    },
    {
     "name": "stdout",
     "output_type": "stream",
     "text": [
      "epoch: 3, [batch: 16800 / 33600], examples_per_second: 5036.8420, train_label_loss: 0.6522, \n"
     ]
    },
    {
     "name": "stdout",
     "output_type": "stream",
     "text": [
      "epoch: 3, [batch: 20160 / 33600], examples_per_second: 4913.7366, train_label_loss: 0.8522, \n"
     ]
    },
    {
     "name": "stdout",
     "output_type": "stream",
     "text": [
      "epoch: 3, [batch: 23520 / 33600], examples_per_second: 4126.3989, train_label_loss: 0.9037, \n"
     ]
    },
    {
     "name": "stdout",
     "output_type": "stream",
     "text": [
      "epoch: 3, [batch: 26880 / 33600], examples_per_second: 3879.8101, train_label_loss: 0.6945, \n"
     ]
    },
    {
     "name": "stdout",
     "output_type": "stream",
     "text": [
      "epoch: 3, [batch: 30240 / 33600], examples_per_second: 4095.0411, train_label_loss: 0.5813, \n"
     ]
    },
    {
     "name": "stdout",
     "output_type": "stream",
     "text": [
      "=============================================================\n",
      "epoch: 3, source_val_acc_label: 0.7051, target_val_acc_label: 0.9706, source_val_label_loss: 0.8116, target_val_label_loss: 0.3025, \n",
      "=============================================================\n"
     ]
    },
    {
     "name": "stdout",
     "output_type": "stream",
     "text": [
      "epoch: 4, [batch: 1 / 33600], examples_per_second: 1.0325, train_label_loss: 0.3795, \n"
     ]
    },
    {
     "name": "stdout",
     "output_type": "stream",
     "text": [
      "epoch: 4, [batch: 3360 / 33600], examples_per_second: 3876.7727, train_label_loss: 1.1919, \n"
     ]
    },
    {
     "name": "stdout",
     "output_type": "stream",
     "text": [
      "epoch: 4, [batch: 6720 / 33600], examples_per_second: 4058.7736, train_label_loss: 0.4557, \n"
     ]
    },
    {
     "name": "stdout",
     "output_type": "stream",
     "text": [
      "epoch: 4, [batch: 10080 / 33600], examples_per_second: 3994.5420, train_label_loss: 0.5304, \n"
     ]
    },
    {
     "name": "stdout",
     "output_type": "stream",
     "text": [
      "epoch: 4, [batch: 13440 / 33600], examples_per_second: 3858.6868, train_label_loss: 0.8622, \n"
     ]
    },
    {
     "name": "stdout",
     "output_type": "stream",
     "text": [
      "epoch: 4, [batch: 16800 / 33600], examples_per_second: 4103.3711, train_label_loss: 0.3780, \n"
     ]
    },
    {
     "name": "stdout",
     "output_type": "stream",
     "text": [
      "epoch: 4, [batch: 20160 / 33600], examples_per_second: 3869.8775, train_label_loss: 1.0255, \n"
     ]
    },
    {
     "name": "stdout",
     "output_type": "stream",
     "text": [
      "epoch: 4, [batch: 23520 / 33600], examples_per_second: 4008.9559, train_label_loss: 0.6269, \n"
     ]
    },
    {
     "name": "stdout",
     "output_type": "stream",
     "text": [
      "epoch: 4, [batch: 26880 / 33600], examples_per_second: 3890.4436, train_label_loss: 0.6661, \n"
     ]
    },
    {
     "name": "stdout",
     "output_type": "stream",
     "text": [
      "epoch: 4, [batch: 30240 / 33600], examples_per_second: 3879.5322, train_label_loss: 0.7664, \n"
     ]
    },
    {
     "name": "stdout",
     "output_type": "stream",
     "text": [
      "=============================================================\n",
      "epoch: 4, source_val_acc_label: 0.7206, target_val_acc_label: 0.9764, source_val_label_loss: 0.7622, target_val_label_loss: 0.2919, \n",
      "=============================================================\n"
     ]
    },
    {
     "name": "stdout",
     "output_type": "stream",
     "text": [
      "New best\n"
     ]
    },
    {
     "name": "stdout",
     "output_type": "stream",
     "text": [
      "epoch: 5, [batch: 1 / 33600], examples_per_second: 1.1679, train_label_loss: 0.8315, \n"
     ]
    },
    {
     "name": "stdout",
     "output_type": "stream",
     "text": [
      "epoch: 5, [batch: 3360 / 33600], examples_per_second: 4846.0016, train_label_loss: 0.4115, \n"
     ]
    },
    {
     "name": "stdout",
     "output_type": "stream",
     "text": [
      "epoch: 5, [batch: 6720 / 33600], examples_per_second: 5165.5216, train_label_loss: 0.4339, \n"
     ]
    },
    {
     "name": "stdout",
     "output_type": "stream",
     "text": [
      "epoch: 5, [batch: 10080 / 33600], examples_per_second: 3912.7569, train_label_loss: 0.9535, \n"
     ]
    },
    {
     "name": "stdout",
     "output_type": "stream",
     "text": [
      "epoch: 5, [batch: 13440 / 33600], examples_per_second: 3809.3218, train_label_loss: 0.7237, \n"
     ]
    },
    {
     "name": "stdout",
     "output_type": "stream",
     "text": [
      "epoch: 5, [batch: 16800 / 33600], examples_per_second: 4078.5448, train_label_loss: 0.2833, \n"
     ]
    },
    {
     "name": "stdout",
     "output_type": "stream",
     "text": [
      "epoch: 5, [batch: 20160 / 33600], examples_per_second: 3956.6446, train_label_loss: 0.5643, \n"
     ]
    },
    {
     "name": "stdout",
     "output_type": "stream",
     "text": [
      "epoch: 5, [batch: 23520 / 33600], examples_per_second: 4290.9328, train_label_loss: 0.5392, \n"
     ]
    },
    {
     "name": "stdout",
     "output_type": "stream",
     "text": [
      "epoch: 5, [batch: 26880 / 33600], examples_per_second: 3990.4868, train_label_loss: 0.1975, \n"
     ]
    },
    {
     "name": "stdout",
     "output_type": "stream",
     "text": [
      "epoch: 5, [batch: 30240 / 33600], examples_per_second: 3865.2283, train_label_loss: 0.6105, \n"
     ]
    },
    {
     "name": "stdout",
     "output_type": "stream",
     "text": [
      "=============================================================\n",
      "epoch: 5, source_val_acc_label: 0.7283, target_val_acc_label: 0.9743, source_val_label_loss: 0.7565, target_val_label_loss: 0.3185, \n",
      "=============================================================\n"
     ]
    },
    {
     "name": "stdout",
     "output_type": "stream",
     "text": [
      "epoch: 6, [batch: 1 / 33600], examples_per_second: 1.0381, train_label_loss: 1.0838, \n"
     ]
    },
    {
     "name": "stdout",
     "output_type": "stream",
     "text": [
      "epoch: 6, [batch: 3360 / 33600], examples_per_second: 4069.7780, train_label_loss: 0.3470, \n"
     ]
    },
    {
     "name": "stdout",
     "output_type": "stream",
     "text": [
      "epoch: 6, [batch: 6720 / 33600], examples_per_second: 3874.3985, train_label_loss: 0.6921, \n"
     ]
    },
    {
     "name": "stdout",
     "output_type": "stream",
     "text": [
      "epoch: 6, [batch: 10080 / 33600], examples_per_second: 4280.5010, train_label_loss: 0.8961, \n"
     ]
    },
    {
     "name": "stdout",
     "output_type": "stream",
     "text": [
      "epoch: 6, [batch: 13440 / 33600], examples_per_second: 3882.9968, train_label_loss: 0.5146, \n"
     ]
    },
    {
     "name": "stdout",
     "output_type": "stream",
     "text": [
      "epoch: 6, [batch: 16800 / 33600], examples_per_second: 4102.0400, train_label_loss: 0.3872, \n"
     ]
    },
    {
     "name": "stdout",
     "output_type": "stream",
     "text": [
      "epoch: 6, [batch: 20160 / 33600], examples_per_second: 4089.0710, train_label_loss: 0.6168, \n"
     ]
    },
    {
     "name": "stdout",
     "output_type": "stream",
     "text": [
      "epoch: 6, [batch: 23520 / 33600], examples_per_second: 3889.1817, train_label_loss: 0.2341, \n"
     ]
    },
    {
     "name": "stdout",
     "output_type": "stream",
     "text": [
      "epoch: 6, [batch: 26880 / 33600], examples_per_second: 4125.3903, train_label_loss: 0.9287, \n"
     ]
    },
    {
     "name": "stdout",
     "output_type": "stream",
     "text": [
      "epoch: 6, [batch: 30240 / 33600], examples_per_second: 4280.9432, train_label_loss: 0.5386, \n"
     ]
    },
    {
     "name": "stdout",
     "output_type": "stream",
     "text": [
      "=============================================================\n",
      "epoch: 6, source_val_acc_label: 0.7204, target_val_acc_label: 0.9750, source_val_label_loss: 0.7508, target_val_label_loss: 0.2743, \n",
      "=============================================================\n"
     ]
    },
    {
     "name": "stdout",
     "output_type": "stream",
     "text": [
      "epoch: 7, [batch: 1 / 33600], examples_per_second: 1.2979, train_label_loss: 0.5007, \n"
     ]
    },
    {
     "name": "stdout",
     "output_type": "stream",
     "text": [
      "epoch: 7, [batch: 3360 / 33600], examples_per_second: 3772.1409, train_label_loss: 0.5127, \n"
     ]
    },
    {
     "name": "stdout",
     "output_type": "stream",
     "text": [
      "epoch: 7, [batch: 6720 / 33600], examples_per_second: 4018.0058, train_label_loss: 0.4986, \n"
     ]
    },
    {
     "name": "stdout",
     "output_type": "stream",
     "text": [
      "epoch: 7, [batch: 10080 / 33600], examples_per_second: 4165.6268, train_label_loss: 0.4164, \n"
     ]
    },
    {
     "name": "stdout",
     "output_type": "stream",
     "text": [
      "epoch: 7, [batch: 13440 / 33600], examples_per_second: 3939.7463, train_label_loss: 0.3019, \n"
     ]
    },
    {
     "name": "stdout",
     "output_type": "stream",
     "text": [
      "epoch: 7, [batch: 16800 / 33600], examples_per_second: 4156.4852, train_label_loss: 0.2687, \n"
     ]
    },
    {
     "name": "stdout",
     "output_type": "stream",
     "text": [
      "epoch: 7, [batch: 20160 / 33600], examples_per_second: 3917.2563, train_label_loss: 0.4623, \n"
     ]
    },
    {
     "name": "stdout",
     "output_type": "stream",
     "text": [
      "epoch: 7, [batch: 23520 / 33600], examples_per_second: 4072.8124, train_label_loss: 0.4995, \n"
     ]
    },
    {
     "name": "stdout",
     "output_type": "stream",
     "text": [
      "epoch: 7, [batch: 26880 / 33600], examples_per_second: 4093.1963, train_label_loss: 0.6063, \n"
     ]
    },
    {
     "name": "stdout",
     "output_type": "stream",
     "text": [
      "epoch: 7, [batch: 30240 / 33600], examples_per_second: 3964.9273, train_label_loss: 0.2259, \n"
     ]
    },
    {
     "name": "stdout",
     "output_type": "stream",
     "text": [
      "=============================================================\n",
      "epoch: 7, source_val_acc_label: 0.7339, target_val_acc_label: 0.9793, source_val_label_loss: 0.7529, target_val_label_loss: 0.2697, \n",
      "=============================================================\n"
     ]
    },
    {
     "name": "stdout",
     "output_type": "stream",
     "text": [
      "New best\n"
     ]
    },
    {
     "name": "stdout",
     "output_type": "stream",
     "text": [
      "epoch: 8, [batch: 1 / 33600], examples_per_second: 1.0392, train_label_loss: 0.3902, \n"
     ]
    },
    {
     "name": "stdout",
     "output_type": "stream",
     "text": [
      "epoch: 8, [batch: 3360 / 33600], examples_per_second: 4129.1199, train_label_loss: 0.1779, \n"
     ]
    },
    {
     "name": "stdout",
     "output_type": "stream",
     "text": [
      "epoch: 8, [batch: 6720 / 33600], examples_per_second: 3927.4865, train_label_loss: 0.2452, \n"
     ]
    },
    {
     "name": "stdout",
     "output_type": "stream",
     "text": [
      "epoch: 8, [batch: 10080 / 33600], examples_per_second: 4029.8842, train_label_loss: 0.6192, \n"
     ]
    },
    {
     "name": "stdout",
     "output_type": "stream",
     "text": [
      "epoch: 8, [batch: 13440 / 33600], examples_per_second: 3885.0616, train_label_loss: 0.2960, \n"
     ]
    },
    {
     "name": "stdout",
     "output_type": "stream",
     "text": [
      "epoch: 8, [batch: 16800 / 33600], examples_per_second: 4093.1740, train_label_loss: 0.4071, \n"
     ]
    },
    {
     "name": "stdout",
     "output_type": "stream",
     "text": [
      "epoch: 8, [batch: 20160 / 33600], examples_per_second: 4096.9655, train_label_loss: 0.4107, \n"
     ]
    },
    {
     "name": "stdout",
     "output_type": "stream",
     "text": [
      "epoch: 8, [batch: 23520 / 33600], examples_per_second: 3926.3011, train_label_loss: 0.7339, \n"
     ]
    },
    {
     "name": "stdout",
     "output_type": "stream",
     "text": [
      "epoch: 8, [batch: 26880 / 33600], examples_per_second: 4119.5959, train_label_loss: 0.4376, \n"
     ]
    },
    {
     "name": "stdout",
     "output_type": "stream",
     "text": [
      "epoch: 8, [batch: 30240 / 33600], examples_per_second: 3918.0445, train_label_loss: 0.4160, \n"
     ]
    },
    {
     "name": "stdout",
     "output_type": "stream",
     "text": [
      "=============================================================\n",
      "epoch: 8, source_val_acc_label: 0.7256, target_val_acc_label: 0.9799, source_val_label_loss: 0.7671, target_val_label_loss: 0.2645, \n",
      "=============================================================\n"
     ]
    },
    {
     "name": "stdout",
     "output_type": "stream",
     "text": [
      "New best\n"
     ]
    },
    {
     "name": "stdout",
     "output_type": "stream",
     "text": [
      "epoch: 9, [batch: 1 / 33600], examples_per_second: 1.0342, train_label_loss: 0.3474, \n"
     ]
    },
    {
     "name": "stdout",
     "output_type": "stream",
     "text": [
      "epoch: 9, [batch: 3360 / 33600], examples_per_second: 4124.2710, train_label_loss: 0.1284, \n"
     ]
    },
    {
     "name": "stdout",
     "output_type": "stream",
     "text": [
      "epoch: 9, [batch: 6720 / 33600], examples_per_second: 3908.6913, train_label_loss: 0.3473, \n"
     ]
    },
    {
     "name": "stdout",
     "output_type": "stream",
     "text": [
      "epoch: 9, [batch: 10080 / 33600], examples_per_second: 4017.8258, train_label_loss: 0.5176, \n"
     ]
    },
    {
     "name": "stdout",
     "output_type": "stream",
     "text": [
      "epoch: 9, [batch: 13440 / 33600], examples_per_second: 4200.8174, train_label_loss: 0.4247, \n"
     ]
    },
    {
     "name": "stdout",
     "output_type": "stream",
     "text": [
      "epoch: 9, [batch: 16800 / 33600], examples_per_second: 3978.1113, train_label_loss: 0.4742, \n"
     ]
    },
    {
     "name": "stdout",
     "output_type": "stream",
     "text": [
      "epoch: 9, [batch: 20160 / 33600], examples_per_second: 4094.3853, train_label_loss: 0.2687, \n"
     ]
    },
    {
     "name": "stdout",
     "output_type": "stream",
     "text": [
      "epoch: 9, [batch: 23520 / 33600], examples_per_second: 3886.1012, train_label_loss: 0.3769, \n"
     ]
    },
    {
     "name": "stdout",
     "output_type": "stream",
     "text": [
      "epoch: 9, [batch: 26880 / 33600], examples_per_second: 3973.0497, train_label_loss: 1.0482, \n"
     ]
    },
    {
     "name": "stdout",
     "output_type": "stream",
     "text": [
      "epoch: 9, [batch: 30240 / 33600], examples_per_second: 4254.5833, train_label_loss: 0.4675, \n"
     ]
    },
    {
     "name": "stdout",
     "output_type": "stream",
     "text": [
      "=============================================================\n",
      "epoch: 9, source_val_acc_label: 0.7327, target_val_acc_label: 0.9802, source_val_label_loss: 0.7693, target_val_label_loss: 0.2911, \n",
      "=============================================================\n"
     ]
    },
    {
     "name": "stdout",
     "output_type": "stream",
     "text": [
      "New best\n"
     ]
    },
    {
     "name": "stdout",
     "output_type": "stream",
     "text": [
      "epoch: 10, [batch: 1 / 33600], examples_per_second: 1.2705, train_label_loss: 0.5119, \n"
     ]
    },
    {
     "name": "stdout",
     "output_type": "stream",
     "text": [
      "epoch: 10, [batch: 3360 / 33600], examples_per_second: 5065.9624, train_label_loss: 0.4579, \n"
     ]
    },
    {
     "name": "stdout",
     "output_type": "stream",
     "text": [
      "epoch: 10, [batch: 6720 / 33600], examples_per_second: 3920.6057, train_label_loss: 0.6307, \n"
     ]
    },
    {
     "name": "stdout",
     "output_type": "stream",
     "text": [
      "epoch: 10, [batch: 10080 / 33600], examples_per_second: 3824.0318, train_label_loss: 0.2643, \n"
     ]
    },
    {
     "name": "stdout",
     "output_type": "stream",
     "text": [
      "epoch: 10, [batch: 13440 / 33600], examples_per_second: 4049.1555, train_label_loss: 0.4689, \n"
     ]
    },
    {
     "name": "stdout",
     "output_type": "stream",
     "text": [
      "epoch: 10, [batch: 16800 / 33600], examples_per_second: 3949.0149, train_label_loss: 0.6421, \n"
     ]
    },
    {
     "name": "stdout",
     "output_type": "stream",
     "text": [
      "epoch: 10, [batch: 20160 / 33600], examples_per_second: 4277.3329, train_label_loss: 0.3607, \n"
     ]
    },
    {
     "name": "stdout",
     "output_type": "stream",
     "text": [
      "epoch: 10, [batch: 23520 / 33600], examples_per_second: 3875.8400, train_label_loss: 0.4911, \n"
     ]
    },
    {
     "name": "stdout",
     "output_type": "stream",
     "text": [
      "epoch: 10, [batch: 26880 / 33600], examples_per_second: 4142.3867, train_label_loss: 0.2298, \n"
     ]
    },
    {
     "name": "stdout",
     "output_type": "stream",
     "text": [
      "epoch: 10, [batch: 30240 / 33600], examples_per_second: 3973.8693, train_label_loss: 0.5535, \n"
     ]
    },
    {
     "name": "stdout",
     "output_type": "stream",
     "text": [
      "=============================================================\n",
      "epoch: 10, source_val_acc_label: 0.7336, target_val_acc_label: 0.9796, source_val_label_loss: 0.7818, target_val_label_loss: 0.3125, \n",
      "=============================================================\n"
     ]
    },
    {
     "name": "stdout",
     "output_type": "stream",
     "text": [
      "epoch: 11, [batch: 1 / 33600], examples_per_second: 1.0603, train_label_loss: 0.5532, \n"
     ]
    },
    {
     "name": "stdout",
     "output_type": "stream",
     "text": [
      "epoch: 11, [batch: 3360 / 33600], examples_per_second: 3945.1653, train_label_loss: 0.4498, \n"
     ]
    },
    {
     "name": "stdout",
     "output_type": "stream",
     "text": [
      "epoch: 11, [batch: 6720 / 33600], examples_per_second: 4079.4734, train_label_loss: 0.2362, \n"
     ]
    },
    {
     "name": "stdout",
     "output_type": "stream",
     "text": [
      "epoch: 11, [batch: 10080 / 33600], examples_per_second: 3846.0753, train_label_loss: 0.3818, \n"
     ]
    },
    {
     "name": "stdout",
     "output_type": "stream",
     "text": [
      "epoch: 11, [batch: 13440 / 33600], examples_per_second: 4173.9640, train_label_loss: 0.7678, \n"
     ]
    },
    {
     "name": "stdout",
     "output_type": "stream",
     "text": [
      "epoch: 11, [batch: 16800 / 33600], examples_per_second: 3957.9110, train_label_loss: 0.4570, \n"
     ]
    },
    {
     "name": "stdout",
     "output_type": "stream",
     "text": [
      "epoch: 11, [batch: 20160 / 33600], examples_per_second: 4223.7649, train_label_loss: 0.1049, \n"
     ]
    },
    {
     "name": "stdout",
     "output_type": "stream",
     "text": [
      "epoch: 11, [batch: 23520 / 33600], examples_per_second: 4263.8997, train_label_loss: 0.3636, \n"
     ]
    },
    {
     "name": "stdout",
     "output_type": "stream",
     "text": [
      "epoch: 11, [batch: 26880 / 33600], examples_per_second: 4955.9055, train_label_loss: 0.2821, \n"
     ]
    },
    {
     "name": "stdout",
     "output_type": "stream",
     "text": [
      "epoch: 11, [batch: 30240 / 33600], examples_per_second: 4924.7664, train_label_loss: 0.2585, \n"
     ]
    },
    {
     "name": "stdout",
     "output_type": "stream",
     "text": [
      "=============================================================\n",
      "epoch: 11, source_val_acc_label: 0.7341, target_val_acc_label: 0.9796, source_val_label_loss: 0.8137, target_val_label_loss: 0.3135, \n",
      "=============================================================\n"
     ]
    },
    {
     "name": "stdout",
     "output_type": "stream",
     "text": [
      "epoch: 12, [batch: 1 / 33600], examples_per_second: 1.1094, train_label_loss: 0.2458, \n"
     ]
    },
    {
     "name": "stdout",
     "output_type": "stream",
     "text": [
      "epoch: 12, [batch: 3360 / 33600], examples_per_second: 4073.9798, train_label_loss: 0.1777, \n"
     ]
    },
    {
     "name": "stdout",
     "output_type": "stream",
     "text": [
      "epoch: 12, [batch: 6720 / 33600], examples_per_second: 3901.5389, train_label_loss: 0.3915, \n"
     ]
    },
    {
     "name": "stdout",
     "output_type": "stream",
     "text": [
      "epoch: 12, [batch: 10080 / 33600], examples_per_second: 4048.5423, train_label_loss: 0.4462, \n"
     ]
    },
    {
     "name": "stdout",
     "output_type": "stream",
     "text": [
      "epoch: 12, [batch: 13440 / 33600], examples_per_second: 3887.0457, train_label_loss: 0.1380, \n"
     ]
    },
    {
     "name": "stdout",
     "output_type": "stream",
     "text": [
      "epoch: 12, [batch: 16800 / 33600], examples_per_second: 3987.4705, train_label_loss: 0.2612, \n"
     ]
    },
    {
     "name": "stdout",
     "output_type": "stream",
     "text": [
      "epoch: 12, [batch: 20160 / 33600], examples_per_second: 4279.8226, train_label_loss: 0.3283, \n"
     ]
    },
    {
     "name": "stdout",
     "output_type": "stream",
     "text": [
      "epoch: 12, [batch: 23520 / 33600], examples_per_second: 3865.3267, train_label_loss: 0.1343, \n"
     ]
    },
    {
     "name": "stdout",
     "output_type": "stream",
     "text": [
      "epoch: 12, [batch: 26880 / 33600], examples_per_second: 4074.6171, train_label_loss: 0.3101, \n"
     ]
    },
    {
     "name": "stdout",
     "output_type": "stream",
     "text": [
      "epoch: 12, [batch: 30240 / 33600], examples_per_second: 4005.8704, train_label_loss: 0.3893, \n"
     ]
    },
    {
     "name": "stdout",
     "output_type": "stream",
     "text": [
      "=============================================================\n",
      "epoch: 12, source_val_acc_label: 0.7290, target_val_acc_label: 0.9803, source_val_label_loss: 0.8274, target_val_label_loss: 0.3176, \n",
      "=============================================================\n"
     ]
    },
    {
     "name": "stdout",
     "output_type": "stream",
     "text": [
      "New best\n"
     ]
    },
    {
     "name": "stdout",
     "output_type": "stream",
     "text": [
      "epoch: 13, [batch: 1 / 33600], examples_per_second: 1.0508, train_label_loss: 0.5551, \n"
     ]
    },
    {
     "name": "stdout",
     "output_type": "stream",
     "text": [
      "epoch: 13, [batch: 3360 / 33600], examples_per_second: 4153.7729, train_label_loss: 0.2340, \n"
     ]
    },
    {
     "name": "stdout",
     "output_type": "stream",
     "text": [
      "epoch: 13, [batch: 6720 / 33600], examples_per_second: 4016.0040, train_label_loss: 0.4096, \n"
     ]
    },
    {
     "name": "stdout",
     "output_type": "stream",
     "text": [
      "epoch: 13, [batch: 10080 / 33600], examples_per_second: 3970.8160, train_label_loss: 0.0566, \n"
     ]
    },
    {
     "name": "stdout",
     "output_type": "stream",
     "text": [
      "epoch: 13, [batch: 13440 / 33600], examples_per_second: 3920.0415, train_label_loss: 0.5255, \n"
     ]
    },
    {
     "name": "stdout",
     "output_type": "stream",
     "text": [
      "epoch: 13, [batch: 16800 / 33600], examples_per_second: 3918.9314, train_label_loss: 0.3543, \n"
     ]
    },
    {
     "name": "stdout",
     "output_type": "stream",
     "text": [
      "epoch: 13, [batch: 20160 / 33600], examples_per_second: 4272.9480, train_label_loss: 0.3089, \n"
     ]
    },
    {
     "name": "stdout",
     "output_type": "stream",
     "text": [
      "epoch: 13, [batch: 23520 / 33600], examples_per_second: 4576.8792, train_label_loss: 0.2695, \n"
     ]
    },
    {
     "name": "stdout",
     "output_type": "stream",
     "text": [
      "epoch: 13, [batch: 26880 / 33600], examples_per_second: 5119.4952, train_label_loss: 0.2817, \n"
     ]
    },
    {
     "name": "stdout",
     "output_type": "stream",
     "text": [
      "epoch: 13, [batch: 30240 / 33600], examples_per_second: 5053.5620, train_label_loss: 0.1858, \n"
     ]
    },
    {
     "name": "stdout",
     "output_type": "stream",
     "text": [
      "=============================================================\n",
      "epoch: 13, source_val_acc_label: 0.7273, target_val_acc_label: 0.9795, source_val_label_loss: 0.8657, target_val_label_loss: 0.3421, \n",
      "=============================================================\n"
     ]
    },
    {
     "name": "stdout",
     "output_type": "stream",
     "text": [
      "epoch: 14, [batch: 1 / 33600], examples_per_second: 1.0134, train_label_loss: 0.2288, \n"
     ]
    },
    {
     "name": "stdout",
     "output_type": "stream",
     "text": [
      "epoch: 14, [batch: 3360 / 33600], examples_per_second: 3847.8787, train_label_loss: 0.3896, \n"
     ]
    },
    {
     "name": "stdout",
     "output_type": "stream",
     "text": [
      "epoch: 14, [batch: 6720 / 33600], examples_per_second: 4100.6885, train_label_loss: 0.1437, \n"
     ]
    },
    {
     "name": "stdout",
     "output_type": "stream",
     "text": [
      "epoch: 14, [batch: 10080 / 33600], examples_per_second: 3999.9791, train_label_loss: 0.3458, \n"
     ]
    },
    {
     "name": "stdout",
     "output_type": "stream",
     "text": [
      "epoch: 14, [batch: 13440 / 33600], examples_per_second: 3905.7276, train_label_loss: 0.1915, \n"
     ]
    },
    {
     "name": "stdout",
     "output_type": "stream",
     "text": [
      "epoch: 14, [batch: 16800 / 33600], examples_per_second: 4313.1916, train_label_loss: 0.0677, \n"
     ]
    },
    {
     "name": "stdout",
     "output_type": "stream",
     "text": [
      "epoch: 14, [batch: 20160 / 33600], examples_per_second: 4021.3692, train_label_loss: 0.2637, \n"
     ]
    },
    {
     "name": "stdout",
     "output_type": "stream",
     "text": [
      "epoch: 14, [batch: 23520 / 33600], examples_per_second: 4086.2884, train_label_loss: 0.0125, \n"
     ]
    },
    {
     "name": "stdout",
     "output_type": "stream",
     "text": [
      "epoch: 14, [batch: 26880 / 33600], examples_per_second: 3898.2633, train_label_loss: 0.3420, \n"
     ]
    },
    {
     "name": "stdout",
     "output_type": "stream",
     "text": [
      "epoch: 14, [batch: 30240 / 33600], examples_per_second: 4046.7819, train_label_loss: 0.0666, \n"
     ]
    },
    {
     "name": "stdout",
     "output_type": "stream",
     "text": [
      "=============================================================\n",
      "epoch: 14, source_val_acc_label: 0.7217, target_val_acc_label: 0.9783, source_val_label_loss: 0.8766, target_val_label_loss: 0.3692, \n",
      "=============================================================\n"
     ]
    },
    {
     "name": "stdout",
     "output_type": "stream",
     "text": [
      "epoch: 15, [batch: 1 / 33600], examples_per_second: 1.0144, train_label_loss: 0.3821, \n"
     ]
    },
    {
     "name": "stdout",
     "output_type": "stream",
     "text": [
      "epoch: 15, [batch: 3360 / 33600], examples_per_second: 4293.7782, train_label_loss: 0.3445, \n"
     ]
    },
    {
     "name": "stdout",
     "output_type": "stream",
     "text": [
      "epoch: 15, [batch: 6720 / 33600], examples_per_second: 5295.9312, train_label_loss: 0.2553, \n"
     ]
    },
    {
     "name": "stdout",
     "output_type": "stream",
     "text": [
      "epoch: 15, [batch: 10080 / 33600], examples_per_second: 5353.4878, train_label_loss: 0.1138, \n"
     ]
    },
    {
     "name": "stdout",
     "output_type": "stream",
     "text": [
      "epoch: 15, [batch: 13440 / 33600], examples_per_second: 5032.0109, train_label_loss: 0.2090, \n"
     ]
    },
    {
     "name": "stdout",
     "output_type": "stream",
     "text": [
      "epoch: 15, [batch: 16800 / 33600], examples_per_second: 3860.1540, train_label_loss: 0.2013, \n"
     ]
    },
    {
     "name": "stdout",
     "output_type": "stream",
     "text": [
      "epoch: 15, [batch: 20160 / 33600], examples_per_second: 3885.4057, train_label_loss: 0.2107, \n"
     ]
    },
    {
     "name": "stdout",
     "output_type": "stream",
     "text": [
      "epoch: 15, [batch: 23520 / 33600], examples_per_second: 4056.6786, train_label_loss: 0.0409, \n"
     ]
    },
    {
     "name": "stdout",
     "output_type": "stream",
     "text": [
      "epoch: 15, [batch: 26880 / 33600], examples_per_second: 3981.2828, train_label_loss: 0.0563, \n"
     ]
    },
    {
     "name": "stdout",
     "output_type": "stream",
     "text": [
      "epoch: 15, [batch: 30240 / 33600], examples_per_second: 4177.9084, train_label_loss: 0.0879, \n"
     ]
    },
    {
     "name": "stdout",
     "output_type": "stream",
     "text": [
      "=============================================================\n",
      "epoch: 15, source_val_acc_label: 0.7244, target_val_acc_label: 0.9800, source_val_label_loss: 0.9144, target_val_label_loss: 0.3664, \n",
      "=============================================================\n"
     ]
    },
    {
     "name": "stdout",
     "output_type": "stream",
     "text": [
      "epoch: 16, [batch: 1 / 33600], examples_per_second: 1.0216, train_label_loss: 0.1283, \n"
     ]
    },
    {
     "name": "stdout",
     "output_type": "stream",
     "text": [
      "epoch: 16, [batch: 3360 / 33600], examples_per_second: 3943.5919, train_label_loss: 0.2537, \n"
     ]
    },
    {
     "name": "stdout",
     "output_type": "stream",
     "text": [
      "epoch: 16, [batch: 6720 / 33600], examples_per_second: 4092.9927, train_label_loss: 0.1132, \n"
     ]
    },
    {
     "name": "stdout",
     "output_type": "stream",
     "text": [
      "epoch: 16, [batch: 10080 / 33600], examples_per_second: 4021.7789, train_label_loss: 0.1763, \n"
     ]
    },
    {
     "name": "stdout",
     "output_type": "stream",
     "text": [
      "epoch: 16, [batch: 13440 / 33600], examples_per_second: 3890.1552, train_label_loss: 0.1206, \n"
     ]
    },
    {
     "name": "stdout",
     "output_type": "stream",
     "text": [
      "epoch: 16, [batch: 16800 / 33600], examples_per_second: 4090.5098, train_label_loss: 0.2809, \n"
     ]
    },
    {
     "name": "stdout",
     "output_type": "stream",
     "text": [
      "epoch: 16, [batch: 20160 / 33600], examples_per_second: 3940.2524, train_label_loss: 0.2621, \n"
     ]
    },
    {
     "name": "stdout",
     "output_type": "stream",
     "text": [
      "epoch: 16, [batch: 23520 / 33600], examples_per_second: 4096.3745, train_label_loss: 0.4821, \n"
     ]
    },
    {
     "name": "stdout",
     "output_type": "stream",
     "text": [
      "epoch: 16, [batch: 26880 / 33600], examples_per_second: 3932.1868, train_label_loss: 0.4568, \n"
     ]
    },
    {
     "name": "stdout",
     "output_type": "stream",
     "text": [
      "epoch: 16, [batch: 30240 / 33600], examples_per_second: 3915.7694, train_label_loss: 0.0825, \n"
     ]
    },
    {
     "name": "stdout",
     "output_type": "stream",
     "text": [
      "=============================================================\n",
      "epoch: 16, source_val_acc_label: 0.7147, target_val_acc_label: 0.9794, source_val_label_loss: 0.9505, target_val_label_loss: 0.3917, \n",
      "=============================================================\n"
     ]
    },
    {
     "name": "stdout",
     "output_type": "stream",
     "text": [
      "Patience (3) exhausted\n"
     ]
    }
   ],
   "source": [
    "###################################\n",
    "# train\n",
    "###################################\n",
    "jig = PTN_Train_Eval_Test_Jig(model, p.BEST_MODEL_PATH, p.device)\n",
    "\n",
    "jig.train(\n",
    "    train_iterable=datasets.source.processed.train,\n",
    "    source_val_iterable=datasets.source.processed.val,\n",
    "    target_val_iterable=datasets.target.processed.val,\n",
    "    num_epochs=p.n_epoch,\n",
    "    num_logs_per_epoch=p.NUM_LOGS_PER_EPOCH,\n",
    "    patience=p.patience,\n",
    "    optimizer=optimizer,\n",
    "    criteria_for_best=p.criteria_for_best,\n",
    ")"
   ]
  },
  {
   "cell_type": "code",
   "execution_count": 23,
   "id": "31e8fabf",
   "metadata": {
    "execution": {
     "iopub.execute_input": "2022-03-22T15:15:48.050318Z",
     "iopub.status.busy": "2022-03-22T15:15:48.049940Z",
     "iopub.status.idle": "2022-03-22T15:15:48.083520Z",
     "shell.execute_reply": "2022-03-22T15:15:48.082704Z"
    },
    "papermill": {
     "duration": 0.110088,
     "end_time": "2022-03-22T15:15:48.083696",
     "exception": false,
     "start_time": "2022-03-22T15:15:47.973608",
     "status": "completed"
    },
    "tags": []
   },
   "outputs": [],
   "source": [
    "total_experiment_time_secs = time.time() - start_time_secs"
   ]
  },
  {
   "cell_type": "code",
   "execution_count": 24,
   "id": "87b9595b",
   "metadata": {
    "execution": {
     "iopub.execute_input": "2022-03-22T15:15:48.248159Z",
     "iopub.status.busy": "2022-03-22T15:15:48.247261Z",
     "iopub.status.idle": "2022-03-22T15:23:58.279621Z",
     "shell.execute_reply": "2022-03-22T15:23:58.278858Z"
    },
    "papermill": {
     "duration": 490.113801,
     "end_time": "2022-03-22T15:23:58.279811",
     "exception": false,
     "start_time": "2022-03-22T15:15:48.166010",
     "status": "completed"
    },
    "tags": []
   },
   "outputs": [],
   "source": [
    "###################################\n",
    "# Evaluate the model\n",
    "###################################\n",
    "source_test_label_accuracy, source_test_label_loss = jig.test(datasets.source.processed.test)\n",
    "target_test_label_accuracy, target_test_label_loss = jig.test(datasets.target.processed.test)\n",
    "\n",
    "source_val_label_accuracy, source_val_label_loss = jig.test(datasets.source.processed.val)\n",
    "target_val_label_accuracy, target_val_label_loss = jig.test(datasets.target.processed.val)\n",
    "\n",
    "history = jig.get_history()\n",
    "\n",
    "total_epochs_trained = len(history[\"epoch_indices\"])\n",
    "\n",
    "val_dl = Iterable_Aggregator((datasets.source.original.val,datasets.target.original.val))\n",
    "\n",
    "confusion = ptn_confusion_by_domain_over_dataloader(model, p.device, val_dl)\n",
    "per_domain_accuracy = per_domain_accuracy_from_confusion(confusion)\n",
    "\n",
    "# Add a key to per_domain_accuracy for if it was a source domain\n",
    "for domain, accuracy in per_domain_accuracy.items():\n",
    "    per_domain_accuracy[domain] = {\n",
    "        \"accuracy\": accuracy,\n",
    "        \"source?\": domain in p.domains_source\n",
    "    }\n",
    "\n",
    "# Do an independent accuracy assesment JUST TO BE SURE!\n",
    "# _source_test_label_accuracy = independent_accuracy_assesment(model, datasets.source.processed.test, p.device)\n",
    "# _target_test_label_accuracy = independent_accuracy_assesment(model, datasets.target.processed.test, p.device)\n",
    "# _source_val_label_accuracy = independent_accuracy_assesment(model, datasets.source.processed.val, p.device)\n",
    "# _target_val_label_accuracy = independent_accuracy_assesment(model, datasets.target.processed.val, p.device)\n",
    "\n",
    "# assert(_source_test_label_accuracy == source_test_label_accuracy)\n",
    "# assert(_target_test_label_accuracy == target_test_label_accuracy)\n",
    "# assert(_source_val_label_accuracy == source_val_label_accuracy)\n",
    "# assert(_target_val_label_accuracy == target_val_label_accuracy)\n",
    "\n",
    "experiment = {\n",
    "    \"experiment_name\": p.experiment_name,\n",
    "    \"parameters\": dict(p),\n",
    "    \"results\": {\n",
    "        \"source_test_label_accuracy\": source_test_label_accuracy,\n",
    "        \"source_test_label_loss\": source_test_label_loss,\n",
    "        \"target_test_label_accuracy\": target_test_label_accuracy,\n",
    "        \"target_test_label_loss\": target_test_label_loss,\n",
    "        \"source_val_label_accuracy\": source_val_label_accuracy,\n",
    "        \"source_val_label_loss\": source_val_label_loss,\n",
    "        \"target_val_label_accuracy\": target_val_label_accuracy,\n",
    "        \"target_val_label_loss\": target_val_label_loss,\n",
    "        \"total_epochs_trained\": total_epochs_trained,\n",
    "        \"total_experiment_time_secs\": total_experiment_time_secs,\n",
    "        \"confusion\": confusion,\n",
    "        \"per_domain_accuracy\": per_domain_accuracy,\n",
    "    },\n",
    "    \"history\": history,\n",
    "    \"dataset_metrics\": get_dataset_metrics(datasets, \"ptn\"),\n",
    "}"
   ]
  },
  {
   "cell_type": "code",
   "execution_count": 25,
   "id": "54a21829",
   "metadata": {
    "execution": {
     "iopub.execute_input": "2022-03-22T15:23:58.441170Z",
     "iopub.status.busy": "2022-03-22T15:23:58.440800Z",
     "iopub.status.idle": "2022-03-22T15:23:58.688352Z",
     "shell.execute_reply": "2022-03-22T15:23:58.689042Z"
    },
    "papermill": {
     "duration": 0.327541,
     "end_time": "2022-03-22T15:23:58.689230",
     "exception": false,
     "start_time": "2022-03-22T15:23:58.361689",
     "status": "completed"
    },
    "tags": []
   },
   "outputs": [
    {
     "data": {
      "image/png": "[encoded data removed]",
      "text/plain": [
       "<Figure size 1080x504 with 1 Axes>"
      ]
     },
     "metadata": {
      "needs_background": "light"
     },
     "output_type": "display_data"
    }
   ],
   "source": [
    "ax = get_loss_curve(experiment)\n",
    "plt.show()"
   ]
  },
  {
   "cell_type": "code",
   "execution_count": 26,
   "id": "fd8a0f60",
   "metadata": {
    "execution": {
     "iopub.execute_input": "2022-03-22T15:23:58.850039Z",
     "iopub.status.busy": "2022-03-22T15:23:58.849499Z",
     "iopub.status.idle": "2022-03-22T15:23:59.174235Z",
     "shell.execute_reply": "2022-03-22T15:23:59.174532Z"
    },
    "papermill": {
     "duration": 0.40307,
     "end_time": "2022-03-22T15:23:59.174625",
     "exception": false,
     "start_time": "2022-03-22T15:23:58.771555",
     "status": "completed"
    },
    "tags": []
   },
   "outputs": [
    {
     "data": {
      "text/plain": [
       "<AxesSubplot:title={'center':'Results'}>"
      ]
     },
     "execution_count": 26,
     "metadata": {},
     "output_type": "execute_result"
    },
    {
     "data": {
      "image/png": "[encoded data removed]",
      "text/plain": [
       "<Figure size 1080x504 with 1 Axes>"
      ]
     },
     "metadata": {
      "needs_background": "light"
     },
     "output_type": "display_data"
    }
   ],
   "source": [
    "get_results_table(experiment)"
   ]
  },
  {
   "cell_type": "code",
   "execution_count": 27,
   "id": "cf8dc689",
   "metadata": {
    "execution": {
     "iopub.execute_input": "2022-03-22T15:23:59.333206Z",
     "iopub.status.busy": "2022-03-22T15:23:59.332405Z",
     "iopub.status.idle": "2022-03-22T15:23:59.593853Z",
     "shell.execute_reply": "2022-03-22T15:23:59.593471Z"
    },
    "papermill": {
     "duration": 0.339828,
     "end_time": "2022-03-22T15:23:59.593925",
     "exception": false,
     "start_time": "2022-03-22T15:23:59.254097",
     "status": "completed"
    },
    "tags": []
   },
   "outputs": [
    {
     "data": {
      "text/plain": [
       "<AxesSubplot:title={'center':'Per Domain Validation Accuracy'}, xlabel='domain'>"
      ]
     },
     "execution_count": 27,
     "metadata": {},
     "output_type": "execute_result"
    },
    {
     "data": {
      "image/png": "[encoded data removed]",
      "text/plain": [
       "<Figure size 1080x504 with 1 Axes>"
      ]
     },
     "metadata": {
      "needs_background": "light"
     },
     "output_type": "display_data"
    }
   ],
   "source": [
    "get_domain_accuracies(experiment)"
   ]
  },
  {
   "cell_type": "code",
   "execution_count": 28,
   "id": "a74ae082",
   "metadata": {
    "execution": {
     "iopub.execute_input": "2022-03-22T15:23:59.754430Z",
     "iopub.status.busy": "2022-03-22T15:23:59.754041Z",
     "iopub.status.idle": "2022-03-22T15:23:59.776407Z",
     "shell.execute_reply": "2022-03-22T15:23:59.776038Z"
    },
    "papermill": {
     "duration": 0.102472,
     "end_time": "2022-03-22T15:23:59.776479",
     "exception": false,
     "start_time": "2022-03-22T15:23:59.674007",
     "status": "completed"
    },
    "tags": []
   },
   "outputs": [
    {
     "name": "stdout",
     "output_type": "stream",
     "text": [
      "Source Test Label Accuracy: 0.7265169270833334 Target Test Label Accuracy: 0.9802981522956327\n",
      "Source Val Label Accuracy: 0.7289713541666667 Target Val Label Accuracy: 0.9803346681922197\n"
     ]
    }
   ],
   "source": [
    "print(\"Source Test Label Accuracy:\", experiment[\"results\"][\"source_test_label_accuracy\"], \"Target Test Label Accuracy:\", experiment[\"results\"][\"target_test_label_accuracy\"])\n",
    "print(\"Source Val Label Accuracy:\", experiment[\"results\"][\"source_val_label_accuracy\"], \"Target Val Label Accuracy:\", experiment[\"results\"][\"target_val_label_accuracy\"])"
   ]
  },
  {
   "cell_type": "code",
   "execution_count": 29,
   "id": "dacca602",
   "metadata": {
    "execution": {
     "iopub.execute_input": "2022-03-22T15:23:59.936506Z",
     "iopub.status.busy": "2022-03-22T15:23:59.936027Z",
     "iopub.status.idle": "2022-03-22T15:23:59.961394Z",
     "shell.execute_reply": "2022-03-22T15:23:59.961021Z"
    },
    "papermill": {
     "duration": 0.107123,
     "end_time": "2022-03-22T15:23:59.961465",
     "exception": false,
     "start_time": "2022-03-22T15:23:59.854342",
     "status": "completed"
    },
    "tags": [
     "experiment_json"
    ]
   },
   "outputs": [
    {
     "data": {
      "text/plain": [
       "'{\"experiment_name\": \"tl_1v2:cores-oracle.run1\", \"parameters\": {\"experiment_name\": \"tl_1v2:cores-oracle.run1\", \"device\": \"cuda\", \"lr\": 0.0001, \"n_shot\": 3, \"n_query\": 2, \"train_k_factor\": 3, \"val_k_factor\": 2, \"test_k_factor\": 2, \"torch_default_dtype\": \"torch.float32\", \"n_epoch\": 50, \"patience\": 3, \"criteria_for_best\": \"target_accuracy\", \"x_net\": [{\"class\": \"nnReshape\", \"kargs\": {\"shape\": [-1, 1, 2, 256]}}, {\"class\": \"Conv2d\", \"kargs\": {\"in_channels\": 1, \"out_channels\": 256, \"kernel_size\": [1, 7], \"bias\": false, \"padding\": [0, 3]}}, {\"class\": \"ReLU\", \"kargs\": {\"inplace\": true}}, {\"class\": \"BatchNorm2d\", \"kargs\": {\"num_features\": 256}}, {\"class\": \"Conv2d\", \"kargs\": {\"in_channels\": 256, \"out_channels\": 80, \"kernel_size\": [2, 7], \"bias\": true, \"padding\": [0, 3]}}, {\"class\": \"ReLU\", \"kargs\": {\"inplace\": true}}, {\"class\": \"BatchNorm2d\", \"kargs\": {\"num_features\": 80}}, {\"class\": \"Flatten\", \"kargs\": {}}, {\"class\": \"Linear\", \"kargs\": {\"in_features\": 20480, \"out_features\": 256}}, {\"class\": \"ReLU\", \"kargs\": {\"inplace\": true}}, {\"class\": \"BatchNorm1d\", \"kargs\": {\"num_features\": 256}}, {\"class\": \"Linear\", \"kargs\": {\"in_features\": 256, \"out_features\": 256}}], \"NUM_LOGS_PER_EPOCH\": 10, \"BEST_MODEL_PATH\": \"./best_model.pth\", \"n_way\": 16, \"datasets\": [{\"labels\": [\"1-10.\", \"1-11.\", \"1-15.\", \"1-16.\", \"1-17.\", \"1-18.\", \"1-19.\", \"10-4.\", \"10-7.\", \"11-1.\", \"11-14.\", \"11-17.\", \"11-20.\", \"11-7.\", \"13-20.\", \"13-8.\", \"14-10.\", \"14-11.\", \"14-14.\", \"14-7.\", \"15-1.\", \"15-20.\", \"16-1.\", \"16-16.\", \"17-10.\", \"17-11.\", \"17-2.\", \"19-1.\", \"19-16.\", \"19-19.\", \"19-20.\", \"19-3.\", \"2-10.\", \"2-11.\", \"2-17.\", \"2-18.\", \"2-20.\", \"2-3.\", \"2-4.\", \"2-5.\", \"2-6.\", \"2-7.\", \"2-8.\", \"3-13.\", \"3-18.\", \"3-3.\", \"4-1.\", \"4-10.\", \"4-11.\", \"4-19.\", \"5-5.\", \"6-15.\", \"7-10.\", \"7-14.\", \"8-18.\", \"8-20.\", \"8-3.\", \"8-8.\"], \"domains\": [1, 2, 3, 4, 5], \"num_examples_per_domain_per_label\": -1, \"pickle_path\": \"/root/csc500-main/datasets/cores.stratified_ds.2022A.pkl\", \"source_or_target_dataset\": \"target\", \"x_transforms\": [\"unit_power\"], \"episode_transforms\": [], \"domain_prefix\": \"CORES_\"}, {\"labels\": [\"3123D52\", \"3123D65\", \"3123D79\", \"3123D80\", \"3123D54\", \"3123D70\", \"3123D7B\", \"3123D89\", \"3123D58\", \"3123D76\", \"3123D7D\", \"3123EFE\", \"3123D64\", \"3123D78\", \"3123D7E\", \"3124E4A\"], \"domains\": [32, 38, 8, 44, 14, 50, 20, 26], \"num_examples_per_domain_per_label\": 10000, \"pickle_path\": \"/root/csc500-main/datasets/oracle.Run1_10kExamples_stratified_ds.2022A.pkl\", \"source_or_target_dataset\": \"source\", \"x_transforms\": [\"unit_power\"], \"episode_transforms\": [], \"domain_prefix\": \"ORACLE.run1_\"}], \"dataset_seed\": 154325, \"seed\": 154325, \"x_shape\": [2, 256], \"domains_source\": [\"ORACLE.run1_32\", \"ORACLE.run1_38\", \"ORACLE.run1_8\", \"ORACLE.run1_44\", \"ORACLE.run1_14\", \"ORACLE.run1_50\", \"ORACLE.run1_20\", \"ORACLE.run1_26\"], \"domains_target\": [\"CORES_1\", \"CORES_2\", \"CORES_3\", \"CORES_4\", \"CORES_5\"]}, \"results\": {\"source_test_label_accuracy\": 0.7265169270833334, \"source_test_label_loss\": 0.8305190801620483, \"target_test_label_accuracy\": 0.9802981522956327, \"target_test_label_loss\": 0.2497536689043045, \"source_val_label_accuracy\": 0.7289713541666667, \"source_val_label_loss\": 0.8273537158966064, \"target_val_label_accuracy\": 0.9803346681922197, \"target_val_label_loss\": 0.31761911511421204, \"total_epochs_trained\": 16, \"total_experiment_time_secs\": 11982.666054964066, \"confusion\": {\"ORACLE.run1_8\": {\"13\": {\"0\": 331, \"14\": 92, \"4\": 176, \"10\": 137, \"13\": 407, \"7\": 10, \"6\": 46, \"1\": 1}, \"9\": {\"9\": 1200}, \"15\": {\"15\": 857, \"12\": 271, \"8\": 56, \"2\": 8, \"7\": 2, \"3\": 6}, \"2\": {\"2\": 958, \"3\": 165, \"7\": 16, \"15\": 38, \"12\": 19, \"8\": 4}, \"3\": {\"3\": 1025, \"12\": 66, \"2\": 106, \"15\": 3}, \"8\": {\"8\": 1121, \"15\": 64, \"7\": 4, \"6\": 8, \"4\": 1, \"12\": 2}, \"5\": {\"5\": 1047, \"10\": 79, \"1\": 49, \"14\": 19, \"11\": 5, \"13\": 1}, \"14\": {\"4\": 184, \"14\": 637, \"13\": 81, \"10\": 211, \"1\": 66, \"6\": 6, \"5\": 1, \"11\": 12, \"0\": 2}, \"1\": {\"1\": 882, \"14\": 52, \"5\": 12, \"11\": 247, \"10\": 7}, \"0\": {\"0\": 704, \"13\": 260, \"7\": 97, \"4\": 50, \"6\": 76, \"10\": 8, \"14\": 5}, \"10\": {\"10\": 808, \"14\": 225, \"13\": 89, \"4\": 27, \"5\": 39, \"1\": 6, \"0\": 6}, \"6\": {\"7\": 243, \"6\": 699, \"4\": 139, \"0\": 74, \"13\": 30, \"14\": 8, \"8\": 7}, \"11\": {\"10\": 1, \"1\": 364, \"11\": 805, \"14\": 13, \"8\": 6, \"5\": 8, \"6\": 2, \"4\": 1}, \"7\": {\"7\": 917, \"6\": 224, \"0\": 40, \"13\": 6, \"2\": 1, \"15\": 3, \"4\": 9}, \"4\": {\"4\": 576, \"6\": 132, \"14\": 177, \"0\": 51, \"13\": 215, \"10\": 38, \"7\": 5, \"1\": 4, \"8\": 1, \"11\": 1}, \"12\": {\"15\": 339, \"12\": 682, \"3\": 153, \"8\": 11, \"2\": 15}}, \"ORACLE.run1_38\": {\"13\": {\"13\": 881, \"10\": 109, \"15\": 155, \"2\": 27, \"14\": 2, \"0\": 5, \"8\": 14, \"1\": 6, \"5\": 1}, \"12\": {\"12\": 1162, \"4\": 31, \"8\": 2, \"10\": 4, \"0\": 1}, \"2\": {\"2\": 1105, \"14\": 75, \"13\": 18, \"10\": 2}, \"9\": {\"9\": 895, \"5\": 21, \"6\": 264, \"3\": 18, \"7\": 2}, \"15\": {\"15\": 935, \"8\": 51, \"13\": 119, \"1\": 73, \"5\": 18, \"10\": 1, \"2\": 3}, \"5\": {\"5\": 558, \"0\": 66, \"8\": 318, \"3\": 11, \"7\": 96, \"6\": 53, \"13\": 3, \"9\": 39, \"15\": 45, \"1\": 5, \"10\": 6}, \"14\": {\"14\": 1098, \"2\": 65, \"10\": 6, \"11\": 29, \"13\": 2}, \"0\": {\"0\": 612, \"3\": 79, \"8\": 221, \"7\": 179, \"5\": 87, \"10\": 14, \"15\": 4, \"9\": 3, \"13\": 1}, \"3\": {\"3\": 1145, \"9\": 25, \"0\": 24, \"5\": 3, \"7\": 3}, \"1\": {\"1\": 1155, \"15\": 41, \"8\": 2, \"5\": 1, \"13\": 1}, \"11\": {\"11\": 1085, \"13\": 3, \"2\": 6, \"10\": 15, \"14\": 87, \"12\": 4}, \"7\": {\"7\": 943, \"0\": 126, \"8\": 50, \"5\": 77, \"10\": 1, \"4\": 1, \"9\": 1, \"3\": 1}, \"8\": {\"8\": 735, \"5\": 247, \"15\": 39, \"0\": 103, \"7\": 50, \"10\": 23, \"1\": 2, \"13\": 1}, \"4\": {\"12\": 49, \"4\": 1143, \"7\": 4, \"10\": 4}, \"10\": {\"10\": 930, \"0\": 29, \"8\": 63, \"13\": 118, \"2\": 5, \"15\": 9, \"5\": 5, \"12\": 8, \"7\": 13, \"11\": 5, \"14\": 14, \"4\": 1}, \"6\": {\"6\": 1058, \"9\": 137, \"5\": 5}}, \"ORACLE.run1_26\": {\"10\": {\"10\": 486, \"1\": 34, \"8\": 155, \"0\": 247, \"14\": 119, \"6\": 50, \"4\": 75, \"7\": 7, \"9\": 16, \"15\": 10, \"2\": 1}, \"12\": {\"12\": 1195, \"11\": 5}, \"1\": {\"1\": 775, \"4\": 128, \"14\": 215, \"7\": 12, \"10\": 34, \"3\": 2, \"0\": 25, \"8\": 9}, \"0\": {\"10\": 279, \"4\": 154, \"0\": 373, \"8\": 127, \"14\": 184, \"7\": 15, \"1\": 33, \"15\": 3, \"6\": 19, \"9\": 12, \"2\": 1}, \"15\": {\"13\": 59, \"10\": 19, \"7\": 17, \"5\": 117, \"9\": 359, \"15\": 491, \"8\": 75, \"14\": 1, \"2\": 28, \"6\": 27, \"3\": 2, \"0\": 4, \"4\": 1}, \"13\": {\"5\": 188, \"13\": 902, \"2\": 20, \"15\": 59, \"8\": 1, \"9\": 21, \"6\": 8, \"7\": 1}, \"8\": {\"1\": 7, \"4\": 93, \"8\": 437, \"10\": 158, \"9\": 108, \"7\": 118, \"14\": 24, \"15\": 72, \"6\": 36, \"0\": 104, \"5\": 19, \"2\": 23, \"13\": 1}, \"3\": {\"3\": 704, \"2\": 289, \"7\": 198, \"4\": 3, \"8\": 2, \"1\": 1, \"15\": 1, \"9\": 1, \"0\": 1}, \"11\": {\"11\": 1197, \"12\": 3}, \"4\": {\"0\": 147, \"1\": 103, \"14\": 203, \"8\": 116, \"4\": 488, \"7\": 85, \"10\": 55, \"15\": 1, \"5\": 1, \"3\": 1}, \"6\": {\"6\": 827, \"0\": 17, \"9\": 184, \"10\": 84, \"8\": 43, \"15\": 38, \"14\": 1, \"5\": 2, \"13\": 3, \"4\": 1}, \"7\": {\"3\": 172, \"4\": 107, \"7\": 640, \"2\": 139, \"14\": 16, \"8\": 79, \"15\": 8, \"5\": 4, \"0\": 17, \"10\": 7, \"9\": 3, \"1\": 8}, \"14\": {\"14\": 409, \"0\": 204, \"4\": 212, \"1\": 213, \"8\": 36, \"10\": 119, \"7\": 7}, \"2\": {\"2\": 476, \"3\": 358, \"7\": 141, \"8\": 34, \"15\": 47, \"4\": 8, \"5\": 113, \"9\": 16, \"13\": 6, \"0\": 1}, \"5\": {\"5\": 754, \"15\": 138, \"13\": 155, \"9\": 44, \"8\": 36, \"7\": 10, \"2\": 55, \"3\": 5, \"10\": 1, \"6\": 2}, \"9\": {\"9\": 488, \"15\": 335, \"10\": 17, \"8\": 88, \"6\": 182, \"5\": 29, \"4\": 2, \"0\": 12, \"7\": 13, \"13\": 30, \"2\": 3, \"14\": 1}}, \"ORACLE.run1_20\": {\"5\": {\"1\": 178, \"5\": 528, \"0\": 191, \"12\": 110, \"15\": 126, \"3\": 46, \"9\": 5, \"2\": 5, \"4\": 7, \"13\": 3, \"8\": 1}, \"15\": {\"1\": 217, \"15\": 724, \"0\": 75, \"5\": 108, \"13\": 50, \"12\": 22, \"9\": 2, \"2\": 2}, \"9\": {\"9\": 507, \"2\": 315, \"7\": 44, \"3\": 206, \"13\": 7, \"12\": 96, \"1\": 18, \"8\": 1, \"5\": 2, \"4\": 3, \"15\": 1}, \"7\": {\"7\": 868, \"9\": 51, \"2\": 142, \"3\": 29, \"8\": 79, \"14\": 1, \"12\": 7, \"6\": 14, \"4\": 5, \"13\": 2, \"10\": 2}, \"3\": {\"3\": 453, \"12\": 246, \"9\": 210, \"5\": 38, \"1\": 32, \"2\": 75, \"4\": 71, \"7\": 46, \"8\": 18, \"15\": 3, \"0\": 5, \"10\": 3}, \"8\": {\"8\": 928, \"3\": 10, \"10\": 7, \"6\": 13, \"4\": 126, \"14\": 34, \"7\": 76, \"12\": 1, \"5\": 2, \"9\": 2, \"2\": 1}, \"4\": {\"4\": 945, \"8\": 125, \"3\": 79, \"10\": 26, \"12\": 14, \"5\": 2, \"9\": 2, \"0\": 3, \"14\": 3, \"7\": 1}, \"6\": {\"6\": 1023, \"14\": 149, \"8\": 6, \"7\": 19, \"10\": 3}, \"2\": {\"2\": 590, \"7\": 148, \"1\": 11, \"3\": 83, \"12\": 54, \"9\": 255, \"13\": 49, \"15\": 4, \"5\": 3, \"8\": 1, \"4\": 1, \"11\": 1}, \"12\": {\"12\": 464, \"2\": 39, \"3\": 229, \"5\": 109, \"1\": 186, \"9\": 124, \"15\": 24, \"7\": 4, \"4\": 8, \"8\": 1, \"13\": 3, \"0\": 9}, \"0\": {\"0\": 727, \"15\": 120, \"5\": 285, \"12\": 15, \"1\": 19, \"13\": 7, \"9\": 2, \"2\": 4, \"8\": 8, \"4\": 4, \"3\": 7, \"7\": 2}, \"13\": {\"13\": 1117, \"9\": 8, \"15\": 18, \"2\": 48, \"7\": 1, \"5\": 2, \"0\": 2, \"1\": 2, \"12\": 2}, \"10\": {\"10\": 1095, \"4\": 17, \"14\": 70, \"3\": 3, \"6\": 1, \"8\": 11, \"7\": 2, \"9\": 1}, \"11\": {\"11\": 1198, \"7\": 1, \"6\": 1}, \"14\": {\"14\": 977, \"10\": 73, \"6\": 118, \"8\": 31, \"7\": 1}, \"1\": {\"12\": 191, \"1\": 564, \"13\": 4, \"5\": 157, \"15\": 204, \"3\": 31, \"9\": 25, \"2\": 9, \"0\": 15}}, \"ORACLE.run1_50\": {\"1\": {\"1\": 795, \"4\": 101, \"6\": 81, \"15\": 207, \"5\": 9, \"13\": 2, \"11\": 3, \"14\": 2}, \"2\": {\"2\": 1120, \"0\": 80}, \"8\": {\"8\": 1172, \"3\": 8, \"10\": 20}, \"7\": {\"7\": 771, \"5\": 140, \"13\": 237, \"4\": 13, \"6\": 9, \"10\": 30}, \"14\": {\"14\": 1186, \"12\": 11, \"1\": 1, \"11\": 2}, \"6\": {\"13\": 66, \"6\": 897, \"1\": 70, \"5\": 38, \"15\": 32, \"4\": 85, \"7\": 11, \"0\": 1}, \"3\": {\"3\": 1172, \"8\": 28}, \"4\": {\"4\": 626, \"1\": 152, \"5\": 117, \"7\": 34, \"15\": 163, \"6\": 86, \"13\": 21, \"11\": 1}, \"12\": {\"12\": 1105, \"9\": 61, \"14\": 30, \"11\": 4}, \"15\": {\"15\": 887, \"1\": 170, \"4\": 99, \"11\": 27, \"6\": 17}, \"11\": {\"11\": 1084, \"9\": 75, \"15\": 24, \"1\": 4, \"14\": 9, \"12\": 4}, \"0\": {\"2\": 124, \"0\": 1028, \"10\": 44, \"5\": 2, \"13\": 1, \"1\": 1}, \"9\": {\"12\": 70, \"9\": 961, \"11\": 167, \"14\": 1, \"15\": 1}, \"10\": {\"10\": 1106, \"0\": 45, \"7\": 18, \"8\": 16, \"13\": 13, \"5\": 2}, \"5\": {\"7\": 224, \"6\": 62, \"5\": 526, \"4\": 149, \"1\": 47, \"13\": 183, \"15\": 2, \"10\": 7}, \"13\": {\"6\": 65, \"13\": 848, \"7\": 152, \"5\": 119, \"1\": 3, \"4\": 6, \"10\": 7}}, \"ORACLE.run1_32\": {\"2\": {\"2\": 982, \"4\": 186, \"0\": 17, \"14\": 1, \"7\": 13, \"5\": 1}, \"6\": {\"6\": 1200}, \"5\": {\"8\": 111, \"7\": 163, \"2\": 11, \"4\": 113, \"5\": 445, \"13\": 249, \"3\": 44, \"11\": 8, \"0\": 35, \"14\": 21}, \"12\": {\"12\": 1200}, \"13\": {\"13\": 612, \"11\": 20, \"8\": 69, \"4\": 90, \"14\": 20, \"5\": 197, \"7\": 96, \"3\": 79, \"0\": 16, \"2\": 1}, \"9\": {\"9\": 1196, \"12\": 3, \"2\": 1}, \"11\": {\"11\": 991, \"14\": 154, \"3\": 15, \"5\": 4, \"13\": 14, \"7\": 21, \"0\": 1}, \"1\": {\"1\": 1194, \"10\": 6}, \"3\": {\"3\": 1117, \"13\": 42, \"11\": 14, \"14\": 9, \"8\": 4, \"7\": 1, \"5\": 13}, \"7\": {\"13\": 98, \"4\": 136, \"14\": 145, \"7\": 579, \"11\": 24, \"8\": 5, \"0\": 21, \"2\": 44, \"5\": 146, \"3\": 2}, \"14\": {\"7\": 204, \"14\": 572, \"0\": 66, \"11\": 257, \"13\": 43, \"5\": 22, \"8\": 9, \"3\": 7, \"4\": 7, \"2\": 13}, \"8\": {\"8\": 897, \"0\": 131, \"13\": 77, \"5\": 67, \"3\": 13, \"4\": 11, \"7\": 2, \"15\": 2}, \"4\": {\"4\": 735, \"2\": 175, \"5\": 94, \"7\": 100, \"13\": 53, \"0\": 35, \"8\": 5, \"14\": 3}, \"0\": {\"0\": 897, \"8\": 119, \"2\": 38, \"5\": 38, \"4\": 52, \"13\": 9, \"7\": 27, \"14\": 20}, \"10\": {\"10\": 1198, \"1\": 2}, \"15\": {\"15\": 1188, \"8\": 8, \"3\": 4}}, \"ORACLE.run1_44\": {\"13\": {\"13\": 797, \"11\": 36, \"9\": 127, \"6\": 226, \"7\": 7, \"4\": 7}, \"4\": {\"4\": 854, \"14\": 326, \"15\": 15, \"13\": 3, \"9\": 2}, \"6\": {\"7\": 37, \"6\": 822, \"13\": 207, \"9\": 126, \"11\": 8}, \"0\": {\"0\": 742, \"8\": 309, \"5\": 88, \"15\": 61}, \"10\": {\"10\": 894, \"1\": 119, \"12\": 98, \"2\": 88, \"3\": 1}, \"7\": {\"7\": 760, \"6\": 36, \"9\": 231, \"2\": 169, \"1\": 1, \"3\": 1, \"13\": 2}, \"14\": {\"14\": 773, \"4\": 352, \"15\": 62, \"5\": 13}, \"15\": {\"15\": 946, \"0\": 85, \"14\": 91, \"5\": 40, \"8\": 21, \"4\": 17}, \"5\": {\"5\": 1049, \"8\": 5, \"0\": 69, \"14\": 49, \"15\": 26, \"4\": 2}, \"2\": {\"2\": 880, \"7\": 164, \"1\": 62, \"10\": 87, \"3\": 3, \"9\": 4}, \"9\": {\"9\": 690, \"6\": 121, \"13\": 121, \"7\": 255, \"4\": 1, \"2\": 11, \"11\": 1}, \"12\": {\"1\": 165, \"12\": 978, \"10\": 39, \"3\": 18}, \"8\": {\"8\": 747, \"0\": 409, \"5\": 17, \"15\": 27}, \"3\": {\"3\": 1041, \"1\": 130, \"12\": 25, \"2\": 2, \"10\": 1, \"7\": 1}, \"1\": {\"3\": 149, \"1\": 685, \"10\": 103, \"12\": 212, \"7\": 4, \"2\": 47}, \"11\": {\"11\": 1119, \"13\": 64, \"6\": 17}}, \"ORACLE.run1_14\": {\"1\": {\"1\": 1093, \"5\": 95, \"4\": 10, \"2\": 1, \"7\": 1}, \"15\": {\"15\": 1168, \"7\": 31, \"5\": 1}, \"10\": {\"10\": 1164, \"0\": 33, \"3\": 1, \"6\": 1, \"14\": 1}, \"2\": {\"2\": 608, \"5\": 129, \"14\": 164, \"4\": 71, \"13\": 69, \"6\": 68, \"3\": 65, \"15\": 25, \"1\": 1}, \"9\": {\"9\": 1194, \"11\": 1, \"12\": 5}, \"5\": {\"5\": 819, \"3\": 17, \"4\": 165, \"1\": 131, \"2\": 52, \"7\": 11, \"15\": 5}, \"7\": {\"7\": 1181, \"15\": 7, \"5\": 3, \"1\": 9}, \"13\": {\"14\": 169, \"6\": 490, \"13\": 413, \"2\": 102, \"5\": 13, \"10\": 5, \"4\": 6, \"15\": 2}, \"8\": {\"8\": 1200}, \"6\": {\"6\": 719, \"13\": 380, \"14\": 52, \"2\": 48, \"4\": 1}, \"3\": {\"3\": 1007, \"4\": 112, \"2\": 33, \"14\": 35, \"5\": 6, \"13\": 1, \"0\": 6}, \"12\": {\"12\": 1194, \"9\": 6}, \"0\": {\"0\": 1094, \"10\": 47, \"11\": 30, \"3\": 28, \"14\": 1}, \"4\": {\"4\": 881, \"3\": 98, \"5\": 147, \"1\": 13, \"2\": 52, \"14\": 6, \"13\": 2, \"6\": 1}, \"14\": {\"14\": 973, \"13\": 96, \"3\": 31, \"2\": 69, \"6\": 27, \"4\": 2, \"0\": 1, \"10\": 1}, \"11\": {\"11\": 1083, \"9\": 59, \"0\": 58}}, \"CORES_2\": {\"21\": {\"21\": 120}, \"4\": {\"4\": 130}, \"6\": {\"6\": 121, \"8\": 1, \"25\": 1, \"30\": 1}, \"10\": {\"10\": 111, \"24\": 1}, \"33\": {\"33\": 28}, \"56\": {\"56\": 122}, \"20\": {\"20\": 132}, \"24\": {\"24\": 94, \"10\": 2}, \"45\": {\"45\": 122, \"4\": 5, \"35\": 1}, \"32\": {\"32\": 28}, \"27\": {\"27\": 148}, \"53\": {\"53\": 136}, \"8\": {\"8\": 160}, \"54\": {\"54\": 108}, \"50\": {\"50\": 132, \"25\": 2}, \"44\": {\"44\": 99, \"35\": 1}, \"5\": {\"5\": 111, \"47\": 8, \"55\": 1}, \"38\": {\"38\": 20}, \"19\": {\"19\": 132}, \"1\": {\"1\": 109, \"57\": 2, \"48\": 1}, \"30\": {\"30\": 133, \"26\": 2, \"18\": 5, \"8\": 1, \"15\": 2, \"27\": 1}, \"15\": {\"15\": 144}, \"23\": {\"23\": 144, \"2\": 2}, \"35\": {\"35\": 32}, \"22\": {\"22\": 128}, \"40\": {\"40\": 129, \"9\": 6, \"19\": 1, \"4\": 3, \"44\": 1}, \"46\": {\"46\": 119, \"16\": 1, \"6\": 2, \"15\": 2, \"18\": 2}, \"3\": {\"3\": 91, \"53\": 1}, \"48\": {\"48\": 148}, \"52\": {\"52\": 124}, \"2\": {\"2\": 32}, \"26\": {\"26\": 24}, \"17\": {\"17\": 104}, \"55\": {\"55\": 144}, \"51\": {\"51\": 122}, \"42\": {\"42\": 35, \"57\": 1}, \"41\": {\"41\": 19, \"30\": 1}, \"31\": {\"31\": 28}, \"16\": {\"16\": 138}, \"36\": {\"36\": 116}, \"49\": {\"49\": 24}, \"0\": {\"0\": 47, \"47\": 1}, \"18\": {\"18\": 48}, \"25\": {\"25\": 146}, \"9\": {\"9\": 122}, \"47\": {\"47\": 132}, \"7\": {\"7\": 34, \"15\": 2}, \"37\": {\"37\": 36}, \"13\": {\"13\": 116}, \"14\": {\"31\": 2, \"14\": 16, \"56\": 2, \"1\": 1, \"22\": 1, \"0\": 2}, \"34\": {\"34\": 28}, \"57\": {\"57\": 136, \"1\": 4}, \"11\": {\"11\": 138}, \"39\": {\"39\": 28}, \"12\": {\"12\": 92}, \"28\": {\"28\": 28}, \"29\": {\"29\": 127, \"17\": 1}, \"43\": {\"43\": 140}}, \"CORES_5\": {\"12\": {\"12\": 96}, \"8\": {\"8\": 142}, \"29\": {\"29\": 132}, \"57\": {\"57\": 117, \"36\": 5, \"9\": 1, \"17\": 1, \"54\": 2}, \"38\": {\"38\": 32}, \"23\": {\"23\": 124}, \"56\": {\"56\": 138}, \"49\": {\"49\": 36}, \"4\": {\"4\": 100}, \"48\": {\"48\": 133, \"30\": 1, \"9\": 2}, \"21\": {\"21\": 144}, \"30\": {\"30\": 128}, \"1\": {\"1\": 148}, \"34\": {\"34\": 36}, \"35\": {\"35\": 36}, \"55\": {\"55\": 152}, \"5\": {\"5\": 119, \"19\": 2, \"4\": 1}, \"52\": {\"52\": 125, \"23\": 1}, \"6\": {\"6\": 125, \"8\": 3}, \"36\": {\"36\": 92}, \"41\": {\"41\": 28}, \"3\": {\"3\": 88, \"46\": 5, \"49\": 3, \"23\": 1, \"18\": 1, \"47\": 2}, \"28\": {\"28\": 32}, \"18\": {\"18\": 64}, \"25\": {\"25\": 136}, \"47\": {\"47\": 98, \"46\": 2}, \"13\": {\"13\": 160}, \"11\": {\"11\": 144}, \"53\": {\"53\": 144}, \"33\": {\"33\": 32}, \"46\": {\"46\": 138, \"17\": 1, \"47\": 3, \"3\": 5, \"18\": 1}, \"50\": {\"50\": 134, \"21\": 8, \"53\": 5, \"23\": 1}, \"10\": {\"10\": 68}, \"15\": {\"15\": 134, \"43\": 4}, \"44\": {\"44\": 134, \"5\": 2, \"19\": 4}, \"2\": {\"2\": 28}, \"7\": {\"7\": 32}, \"43\": {\"43\": 134, \"15\": 4}, \"32\": {\"27\": 1, \"32\": 31}, \"0\": {\"0\": 124}, \"39\": {\"39\": 20}, \"26\": {\"26\": 24}, \"27\": {\"27\": 111, \"32\": 1}, \"54\": {\"54\": 112}, \"17\": {\"17\": 116}, \"14\": {\"47\": 3, \"14\": 23, \"46\": 3, \"0\": 1, \"28\": 2, \"31\": 4, \"40\": 1, \"54\": 2, \"57\": 1, \"39\": 1, \"36\": 3}, \"16\": {\"16\": 148}, \"9\": {\"9\": 145, \"27\": 1, \"48\": 2}, \"19\": {\"19\": 152}, \"20\": {\"20\": 138}, \"37\": {\"37\": 24}, \"24\": {\"24\": 80}, \"40\": {\"40\": 118, \"34\": 2, \"5\": 2}, \"45\": {\"45\": 117, \"9\": 5, \"4\": 1, \"27\": 1}, \"22\": {\"22\": 28}, \"42\": {\"42\": 38, \"56\": 2}, \"51\": {\"51\": 118}, \"31\": {\"31\": 36}}, \"CORES_1\": {\"27\": {\"27\": 142}, \"2\": {\"2\": 36}, \"33\": {\"33\": 32}, \"45\": {\"45\": 152, \"55\": 2, \"42\": 2}, \"38\": {\"38\": 24}, \"4\": {\"4\": 132}, \"31\": {\"31\": 28}, \"55\": {\"55\": 140}, \"32\": {\"32\": 32}, \"57\": {\"57\": 133, \"29\": 1, \"1\": 2, \"56\": 3, \"19\": 1}, \"14\": {\"14\": 9, \"30\": 1, \"8\": 3, \"5\": 1, \"18\": 1, \"9\": 5, \"25\": 2, \"7\": 1, \"53\": 1}, \"16\": {\"16\": 140}, \"34\": {\"34\": 24}, \"56\": {\"57\": 10, \"34\": 1, \"56\": 105, \"1\": 1, \"19\": 7, \"44\": 2}, \"24\": {\"24\": 96, \"16\": 1, \"21\": 5, \"10\": 3, \"22\": 2, \"45\": 1}, \"30\": {\"30\": 109, \"9\": 3}, \"17\": {\"17\": 64}, \"13\": {\"13\": 138}, \"39\": {\"39\": 28}, \"50\": {\"50\": 146}, \"20\": {\"20\": 140}, \"41\": {\"41\": 24}, \"53\": {\"53\": 126}, \"48\": {\"48\": 142}, \"36\": {\"36\": 64}, \"8\": {\"8\": 140}, \"15\": {\"15\": 132}, \"40\": {\"40\": 154, \"4\": 2}, \"37\": {\"37\": 32}, \"21\": {\"21\": 101, \"22\": 12, \"24\": 3, \"39\": 2, \"10\": 2}, \"35\": {\"35\": 35, \"44\": 1}, \"49\": {\"49\": 32}, \"26\": {\"26\": 24}, \"28\": {\"28\": 28}, \"12\": {\"12\": 115, \"51\": 1}, \"5\": {\"5\": 150, \"50\": 1, \"48\": 1}, \"29\": {\"29\": 138, \"4\": 1, \"40\": 1}, \"47\": {\"47\": 140}, \"10\": {\"10\": 90, \"24\": 6}, \"18\": {\"18\": 69, \"40\": 1, \"20\": 2}, \"9\": {\"9\": 126}, \"3\": {\"3\": 140}, \"52\": {\"52\": 132}, \"25\": {\"25\": 136}, \"19\": {\"19\": 155, \"29\": 1}, \"11\": {\"11\": 132, \"23\": 2, \"21\": 2}, \"7\": {\"7\": 28}, \"23\": {\"23\": 136}, \"44\": {\"44\": 105, \"1\": 3, \"35\": 6, \"56\": 7, \"57\": 3, \"29\": 6, \"34\": 2}, \"42\": {\"42\": 40}, \"54\": {\"54\": 104}, \"1\": {\"1\": 96, \"57\": 3, \"34\": 1}, \"46\": {\"46\": 128}, \"6\": {\"6\": 95, \"2\": 1}, \"43\": {\"43\": 144}, \"51\": {\"51\": 142}, \"22\": {\"22\": 99, \"24\": 12, \"21\": 14, \"11\": 4, \"52\": 2, \"10\": 4, \"23\": 1}, \"0\": {\"0\": 127, \"31\": 1}}, \"CORES_4\": {\"32\": {\"32\": 24}, \"2\": {\"2\": 30, \"38\": 2, \"56\": 2, \"27\": 1, \"42\": 1}, \"41\": {\"41\": 36}, \"11\": {\"11\": 101, \"15\": 1}, \"57\": {\"57\": 98, \"1\": 2}, \"6\": {\"6\": 105, \"52\": 1, \"3\": 2, \"25\": 3, \"51\": 1}, \"23\": {\"23\": 136}, \"52\": {\"52\": 116}, \"38\": {\"38\": 40}, \"50\": {\"50\": 122, \"53\": 5, \"21\": 3, \"25\": 1, \"3\": 1}, \"55\": {\"55\": 152}, \"46\": {\"46\": 137, \"47\": 10, \"5\": 3, \"32\": 3, \"0\": 1}, \"37\": {\"37\": 24}, \"20\": {\"20\": 118}, \"49\": {\"49\": 20}, \"45\": {\"45\": 96}, \"54\": {\"54\": 108}, \"3\": {\"3\": 114, \"25\": 7, \"50\": 1, \"6\": 2}, \"13\": {\"13\": 152}, \"18\": {\"18\": 108}, \"21\": {\"21\": 125, \"50\": 1}, \"43\": {\"43\": 144}, \"47\": {\"47\": 119, \"46\": 1}, \"4\": {\"4\": 132}, \"12\": {\"12\": 92}, \"9\": {\"9\": 128}, \"7\": {\"7\": 24}, \"56\": {\"56\": 112}, \"28\": {\"28\": 32}, \"44\": {\"44\": 130, \"19\": 2}, \"24\": {\"24\": 55, \"10\": 1}, \"33\": {\"33\": 36}, \"35\": {\"35\": 40}, \"51\": {\"51\": 138}, \"39\": {\"39\": 20}, \"36\": {\"36\": 92}, \"19\": {\"19\": 140}, \"0\": {\"47\": 3, \"0\": 51, \"46\": 7, \"56\": 2, \"17\": 1, \"20\": 2, \"38\": 5, \"32\": 1, \"12\": 1, \"54\": 1, \"22\": 3, \"48\": 1, \"21\": 1, \"50\": 1}, \"15\": {\"15\": 135, \"11\": 1}, \"29\": {\"29\": 117, \"40\": 3, \"9\": 1, \"35\": 2, \"17\": 1}, \"30\": {\"30\": 44}, \"1\": {\"1\": 40}, \"22\": {\"41\": 1, \"22\": 127}, \"40\": {\"40\": 146}, \"8\": {\"8\": 128}, \"53\": {\"53\": 138}, \"34\": {\"34\": 24}, \"10\": {\"10\": 122}, \"31\": {\"31\": 28}, \"17\": {\"17\": 80}, \"16\": {\"16\": 96}, \"42\": {\"42\": 31, \"34\": 1}, \"27\": {\"27\": 142}, \"14\": {\"14\": 10, \"57\": 2, \"0\": 1, \"29\": 1, \"35\": 2}, \"25\": {\"25\": 122}, \"48\": {\"48\": 132}, \"26\": {\"26\": 24}, \"5\": {\"5\": 100, \"23\": 3, \"46\": 4, \"47\": 1}}, \"CORES_3\": {\"14\": {\"1\": 2, \"14\": 21, \"28\": 5, \"29\": 1, \"43\": 1, \"34\": 2, \"22\": 1, \"56\": 3, \"57\": 2, \"0\": 2}, \"18\": {\"18\": 84}, \"30\": {\"30\": 120}, \"16\": {\"16\": 155, \"11\": 1}, \"1\": {\"1\": 88, \"57\": 12}, \"20\": {\"20\": 132}, \"7\": {\"7\": 36}, \"52\": {\"52\": 129, \"25\": 1}, \"9\": {\"9\": 140}, \"23\": {\"23\": 144}, \"55\": {\"55\": 164}, \"29\": {\"29\": 126}, \"56\": {\"56\": 134}, \"3\": {\"3\": 123, \"52\": 1}, \"42\": {\"42\": 28}, \"6\": {\"6\": 76, \"30\": 6, \"8\": 1, \"2\": 1, \"38\": 1, \"15\": 1, \"36\": 1, \"18\": 1}, \"5\": {\"5\": 115, \"55\": 1}, \"27\": {\"27\": 144}, \"47\": {\"47\": 92}, \"39\": {\"39\": 16}, \"34\": {\"34\": 32}, \"4\": {\"4\": 126}, \"24\": {\"24\": 101, \"10\": 3}, \"46\": {\"46\": 114, \"20\": 1, \"16\": 1, \"18\": 2}, \"50\": {\"50\": 122, \"25\": 2, \"3\": 2}, \"38\": {\"38\": 28}, \"54\": {\"54\": 100}, \"35\": {\"35\": 28}, \"2\": {\"2\": 32}, \"41\": {\"41\": 28}, \"57\": {\"57\": 103, \"1\": 15}, \"25\": {\"25\": 150}, \"48\": {\"48\": 116}, \"33\": {\"33\": 28}, \"45\": {\"45\": 58, \"4\": 2}, \"13\": {\"13\": 126}, \"36\": {\"36\": 100}, \"43\": {\"43\": 132}, \"28\": {\"28\": 26, \"1\": 1, \"57\": 1}, \"0\": {\"0\": 124}, \"12\": {\"12\": 92}, \"31\": {\"31\": 28}, \"40\": {\"40\": 116}, \"44\": {\"44\": 88}, \"32\": {\"32\": 28}, \"26\": {\"26\": 24}, \"8\": {\"8\": 116}, \"10\": {\"10\": 62, \"24\": 2}, \"15\": {\"15\": 142}, \"21\": {\"21\": 128}, \"37\": {\"37\": 28}, \"17\": {\"17\": 108}, \"51\": {\"51\": 124}, \"53\": {\"53\": 144}, \"19\": {\"19\": 136}, \"49\": {\"49\": 20}, \"11\": {\"11\": 138}, \"22\": {\"22\": 130}}}, \"per_domain_accuracy\": {\"ORACLE.run1_8\": {\"accuracy\": 0.6940104166666666, \"source?\": true}, \"ORACLE.run1_38\": {\"accuracy\": 0.8041666666666667, \"source?\": true}, \"ORACLE.run1_26\": {\"accuracy\": 0.5542708333333334, \"source?\": true}, \"ORACLE.run1_20\": {\"accuracy\": 0.661875, \"source?\": true}, \"ORACLE.run1_50\": {\"accuracy\": 0.7960416666666666, \"source?\": true}, \"ORACLE.run1_32\": {\"accuracy\": 0.78140625, \"source?\": true}, \"ORACLE.run1_44\": {\"accuracy\": 0.7175520833333333, \"source?\": true}, \"ORACLE.run1_14\": {\"accuracy\": 0.8224479166666666, \"source?\": true}, \"CORES_2\": {\"accuracy\": 0.986328125, \"source?\": false}, \"CORES_5\": {\"accuracy\": 0.980688202247191, \"source?\": false}, \"CORES_1\": {\"accuracy\": 0.9702953296703297, \"source?\": false}, \"CORES_4\": {\"accuracy\": 0.9792290419161677, \"source?\": false}, \"CORES_3\": {\"accuracy\": 0.9855628654970761, \"source?\": false}}}, \"history\": {\"epoch_indices\": [1, 2, 3, 4, 5, 6, 7, 8, 9, 10, 11, 12, 13, 14, 15, 16], \"train_label_loss\": [1.0597809930886364, 0.8360955287538292, 0.7416648502319696, 0.6570871359890416, 0.592769605657751, 0.5371514241197811, 0.48931680605469624, 0.45008761720205215, 0.4164722374742684, 0.3866879574231626, 0.35756672515675225, 0.3314283548297161, 0.308514056928065, 0.2875837704952712, 0.26668337534008535, 0.2492700727389075], \"source_val_label_loss\": [0.9879443645477295, 0.8632048964500427, 0.8115710020065308, 0.7622206211090088, 0.7565338015556335, 0.7507861256599426, 0.7529133558273315, 0.7670908570289612, 0.7693364024162292, 0.7817505598068237, 0.8136915564537048, 0.8273537158966064, 0.865683913230896, 0.8765550851821899, 0.9143593311309814, 0.9505330920219421], \"target_val_label_loss\": [0.28247013688087463, 0.24962501227855682, 0.30252546072006226, 0.2918623387813568, 0.31853145360946655, 0.27426573634147644, 0.26965275406837463, 0.26448163390159607, 0.29114434123039246, 0.3125070631504059, 0.3135169446468353, 0.31761911511421204, 0.34209752082824707, 0.36922767758369446, 0.36635836958885193, 0.3916778862476349], \"source_val_acc_label\": [0.6585807291666667, 0.6715364583333333, 0.7050651041666667, 0.7205859375, 0.72828125, 0.7204296875, 0.7339127604166666, 0.7255989583333333, 0.7326627604166667, 0.7336263020833333, 0.7341276041666667, 0.7289713541666667, 0.7272526041666667, 0.7217057291666666, 0.7243684895833333, 0.71466796875], \"target_val_acc_label\": [0.9669979977116705, 0.9708595537757437, 0.9706450228832952, 0.976437356979405, 0.9742920480549199, 0.9749713958810069, 0.9792977688787186, 0.9798698512585813, 0.9801558924485125, 0.9796195652173914, 0.9796195652173914, 0.9803346681922197, 0.979512299771167, 0.9783323798627003, 0.9799771167048055, 0.9794407894736842]}, \"dataset_metrics\": {\"source\": {\"train\": {\"n_unique_x\": 896000, \"n_unique_y\": 16, \"n_batch/episode\": 33600}, \"val\": {\"n_unique_x\": 192000, \"n_unique_y\": 16, \"n_batch/episode\": 4800}, \"test\": {\"n_unique_x\": 192000, \"n_unique_y\": 16, \"n_batch/episode\": 4800}}, \"target\": {\"train\": {\"n_unique_x\": 175127, \"n_unique_y\": 58, \"n_batch/episode\": 6303}, \"val\": {\"n_unique_x\": 37135, \"n_unique_y\": 58, \"n_batch/episode\": 874}, \"test\": {\"n_unique_x\": 37673, \"n_unique_y\": 58, \"n_batch/episode\": 893}}}}'"
      ]
     },
     "execution_count": 29,
     "metadata": {},
     "output_type": "execute_result"
    }
   ],
   "source": [
    "json.dumps(experiment)"
   ]
  }
 ],
 "metadata": {
  "celltoolbar": "Tags",
  "kernelspec": {
   "display_name": "Python 3 (ipykernel)",
   "language": "python",
   "name": "python3"
  },
  "language_info": {
   "codemirror_mode": {
    "name": "ipython",
    "version": 3
   },
   "file_extension": ".py",
   "mimetype": "text/x-python",
   "name": "python",
   "nbconvert_exporter": "python",
   "pygments_lexer": "ipython3",
   "version": "3.8.12"
  },
  "papermill": {
   "default_parameters": {},
   "duration": 12481.581074,
   "end_time": "2022-03-22T15:24:03.674566",
   "environment_variables": {},
   "exception": null,
   "input_path": "/root/csc500-main/csc500-notebooks/templates/tl_ptn_template.ipynb",
   "output_path": "trial.ipynb",
   "parameters": {
    "parameters": {
     "BEST_MODEL_PATH": "./best_model.pth",
     "NUM_LOGS_PER_EPOCH": 10,
     "criteria_for_best": "target_accuracy",
     "dataset_seed": 154325,
     "datasets": [
      {
       "domain_prefix": "CORES_",
       "domains": [
        1,
        2,
        3,
        4,
        5
       ],
       "episode_transforms": [],
       "labels": [
        "1-10.",
        "1-11.",
        "1-15.",
        "1-16.",
        "1-17.",
        "1-18.",
        "1-19.",
        "10-4.",
        "10-7.",
        "11-1.",
        "11-14.",
        "11-17.",
        "11-20.",
        "11-7.",
        "13-20.",
        "13-8.",
        "14-10.",
        "14-11.",
        "14-14.",
        "14-7.",
        "15-1.",
        "15-20.",
        "16-1.",
        "16-16.",
        "17-10.",
        "17-11.",
        "17-2.",
        "19-1.",
        "19-16.",
        "19-19.",
        "19-20.",
        "19-3.",
        "2-10.",
        "2-11.",
        "2-17.",
        "2-18.",
        "2-20.",
        "2-3.",
        "2-4.",
        "2-5.",
        "2-6.",
        "2-7.",
        "2-8.",
        "3-13.",
        "3-18.",
        "3-3.",
        "4-1.",
        "4-10.",
        "4-11.",
        "4-19.",
        "5-5.",
        "6-15.",
        "7-10.",
        "7-14.",
        "8-18.",
        "8-20.",
        "8-3.",
        "8-8."
       ],
       "num_examples_per_domain_per_label": -1,
       "pickle_path": "/root/csc500-main/datasets/cores.stratified_ds.2022A.pkl",
       "source_or_target_dataset": "target",
       "x_transforms": [
        "unit_power"
       ]
      },
      {
       "domain_prefix": "ORACLE.run1_",
       "domains": [
        32,
        38,
        8,
        44,
        14,
        50,
        20,
        26
       ],
       "episode_transforms": [],
       "labels": [
        "3123D52",
        "3123D65",
        "3123D79",
        "3123D80",
        "3123D54",
        "3123D70",
        "3123D7B",
        "3123D89",
        "3123D58",
        "3123D76",
        "3123D7D",
        "3123EFE",
        "3123D64",
        "3123D78",
        "3123D7E",
        "3124E4A"
       ],
       "num_examples_per_domain_per_label": 10000,
       "pickle_path": "/root/csc500-main/datasets/oracle.Run1_10kExamples_stratified_ds.2022A.pkl",
       "source_or_target_dataset": "source",
       "x_transforms": [
        "unit_power"
       ]
      }
     ],
     "device": "cuda",
     "experiment_name": "tl_1v2:cores-oracle.run1",
     "lr": 0.0001,
     "n_epoch": 50,
     "n_query": 2,
     "n_shot": 3,
     "n_way": 16,
     "patience": 3,
     "seed": 154325,
     "test_k_factor": 2,
     "torch_default_dtype": "torch.float32",
     "train_k_factor": 3,
     "val_k_factor": 2,
     "x_net": [
      {
       "class": "nnReshape",
       "kargs": {
        "shape": [
         -1,
         1,
         2,
         256
        ]
       }
      },
      {
       "class": "Conv2d",
       "kargs": {
        "bias": false,
        "in_channels": 1,
        "kernel_size": [
         1,
         7
        ],
        "out_channels": 256,
        "padding": [
         0,
         3
        ]
       }
      },
      {
       "class": "ReLU",
       "kargs": {
        "inplace": true
       }
      },
      {
       "class": "BatchNorm2d",
       "kargs": {
        "num_features": 256
       }
      },
      {
       "class": "Conv2d",
       "kargs": {
        "bias": true,
        "in_channels": 256,
        "kernel_size": [
         2,
         7
        ],
        "out_channels": 80,
        "padding": [
         0,
         3
        ]
       }
      },
      {
       "class": "ReLU",
       "kargs": {
        "inplace": true
       }
      },
      {
       "class": "BatchNorm2d",
       "kargs": {
        "num_features": 80
       }
      },
      {
       "class": "Flatten",
       "kargs": {}
      },
      {
       "class": "Linear",
       "kargs": {
        "in_features": 20480,
        "out_features": 256
       }
      },
      {
       "class": "ReLU",
       "kargs": {
        "inplace": true
       }
      },
      {
       "class": "BatchNorm1d",
       "kargs": {
        "num_features": 256
       }
      },
      {
       "class": "Linear",
       "kargs": {
        "in_features": 256,
        "out_features": 256
       }
      }
     ]
    }
   },
   "start_time": "2022-03-22T11:56:02.093492",
   "version": "2.3.4"
  }
 },
 "nbformat": 4,
 "nbformat_minor": 5
}