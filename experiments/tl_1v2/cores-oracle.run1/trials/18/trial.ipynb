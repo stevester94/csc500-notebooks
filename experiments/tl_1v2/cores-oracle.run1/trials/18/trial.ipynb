{
 "cells": [
  {
   "cell_type": "markdown",
   "id": "9fea5f46",
   "metadata": {
    "papermill": {
     "duration": 0.029176,
     "end_time": "2022-03-22T20:08:26.172406",
     "exception": false,
     "start_time": "2022-03-22T20:08:26.143230",
     "status": "completed"
    },
    "tags": []
   },
   "source": [
    "# Transfer Learning Template"
   ]
  },
  {
   "cell_type": "code",
   "execution_count": 1,
   "id": "0902182a",
   "metadata": {
    "execution": {
     "iopub.execute_input": "2022-03-22T20:08:26.241624Z",
     "iopub.status.busy": "2022-03-22T20:08:26.240764Z",
     "iopub.status.idle": "2022-03-22T20:08:28.113534Z",
     "shell.execute_reply": "2022-03-22T20:08:28.113991Z"
    },
    "papermill": {
     "duration": 1.913014,
     "end_time": "2022-03-22T20:08:28.114166",
     "exception": false,
     "start_time": "2022-03-22T20:08:26.201152",
     "status": "completed"
    },
    "tags": []
   },
   "outputs": [],
   "source": [
    "%load_ext autoreload\n",
    "%autoreload 2\n",
    "%matplotlib inline\n",
    "\n",
    "    \n",
    "import os, json, sys, time, random\n",
    "import numpy as np\n",
    "import torch\n",
    "from torch.optim import Adam\n",
    "from  easydict import EasyDict\n",
    "import matplotlib.pyplot as plt\n",
    "\n",
    "from steves_models.steves_ptn import Steves_Prototypical_Network\n",
    "\n",
    "from steves_utils.lazy_iterable_wrapper import Lazy_Iterable_Wrapper\n",
    "from steves_utils.iterable_aggregator import Iterable_Aggregator\n",
    "from steves_utils.ptn_train_eval_test_jig import  PTN_Train_Eval_Test_Jig\n",
    "from steves_utils.torch_sequential_builder import build_sequential\n",
    "from steves_utils.torch_utils import get_dataset_metrics, ptn_confusion_by_domain_over_dataloader\n",
    "from steves_utils.utils_v2 import (per_domain_accuracy_from_confusion, get_datasets_base_path)\n",
    "from steves_utils.PTN.utils import independent_accuracy_assesment\n",
    "\n",
    "from torch.utils.data import DataLoader\n",
    "\n",
    "from steves_utils.stratified_dataset.episodic_accessor import Episodic_Accessor_Factory\n",
    "\n",
    "from steves_utils.ptn_do_report import (\n",
    "    get_loss_curve,\n",
    "    get_results_table,\n",
    "    get_parameters_table,\n",
    "    get_domain_accuracies,\n",
    ")\n",
    "\n",
    "from steves_utils.transforms import get_chained_transform"
   ]
  },
  {
   "cell_type": "markdown",
   "id": "41c840b4",
   "metadata": {
    "papermill": {
     "duration": 0.019626,
     "end_time": "2022-03-22T20:08:28.154017",
     "exception": false,
     "start_time": "2022-03-22T20:08:28.134391",
     "status": "completed"
    },
    "tags": []
   },
   "source": [
    "# Allowed Parameters\n",
    "These are allowed parameters, not defaults\n",
    "Each of these values need to be present in the injected parameters (the notebook will raise an exception if they are not present)\n",
    "\n",
    "Papermill uses the cell tag \"parameters\" to inject the real parameters below this cell.\n",
    "Enable tags to see what I mean"
   ]
  },
  {
   "cell_type": "code",
   "execution_count": 2,
   "id": "fd44eb83",
   "metadata": {
    "execution": {
     "iopub.execute_input": "2022-03-22T20:08:28.198684Z",
     "iopub.status.busy": "2022-03-22T20:08:28.198304Z",
     "iopub.status.idle": "2022-03-22T20:08:28.219639Z",
     "shell.execute_reply": "2022-03-22T20:08:28.219307Z"
    },
    "papermill": {
     "duration": 0.046149,
     "end_time": "2022-03-22T20:08:28.219708",
     "exception": false,
     "start_time": "2022-03-22T20:08:28.173559",
     "status": "completed"
    },
    "tags": []
   },
   "outputs": [],
   "source": [
    "required_parameters = {\n",
    "    \"experiment_name\",\n",
    "    \"lr\",\n",
    "    \"device\",\n",
    "    \"seed\",\n",
    "    \"dataset_seed\",\n",
    "    \"n_shot\",\n",
    "    \"n_query\",\n",
    "    \"n_way\",\n",
    "    \"train_k_factor\",\n",
    "    \"val_k_factor\",\n",
    "    \"test_k_factor\",\n",
    "    \"n_epoch\",\n",
    "    \"patience\",\n",
    "    \"criteria_for_best\",\n",
    "    \"x_net\",\n",
    "    \"datasets\",\n",
    "    \"torch_default_dtype\",\n",
    "    \"NUM_LOGS_PER_EPOCH\",\n",
    "    \"BEST_MODEL_PATH\",\n",
    "    \"x_shape\",\n",
    "}"
   ]
  },
  {
   "cell_type": "code",
   "execution_count": 3,
   "id": "fa3f0049",
   "metadata": {
    "execution": {
     "iopub.execute_input": "2022-03-22T20:08:28.272559Z",
     "iopub.status.busy": "2022-03-22T20:08:28.272147Z",
     "iopub.status.idle": "2022-03-22T20:08:28.292986Z",
     "shell.execute_reply": "2022-03-22T20:08:28.292620Z"
    },
    "papermill": {
     "duration": 0.053672,
     "end_time": "2022-03-22T20:08:28.293055",
     "exception": false,
     "start_time": "2022-03-22T20:08:28.239383",
     "status": "completed"
    },
    "tags": [
     "parameters"
    ]
   },
   "outputs": [],
   "source": [
    "from steves_utils.CORES.utils import (\n",
    "    ALL_NODES,\n",
    "    ALL_NODES_MINIMUM_1000_EXAMPLES,\n",
    "    ALL_DAYS\n",
    ")\n",
    "\n",
    "from steves_utils.ORACLE.utils_v2 import (\n",
    "    ALL_DISTANCES_FEET_NARROWED,\n",
    "    ALL_RUNS,\n",
    "    ALL_SERIAL_NUMBERS,\n",
    ")\n",
    "\n",
    "standalone_parameters = {}\n",
    "standalone_parameters[\"experiment_name\"] = \"STANDALONE PTN\"\n",
    "standalone_parameters[\"lr\"] = 0.001\n",
    "standalone_parameters[\"device\"] = \"cuda\"\n",
    "\n",
    "standalone_parameters[\"seed\"] = 1337\n",
    "standalone_parameters[\"dataset_seed\"] = 1337\n",
    "\n",
    "standalone_parameters[\"n_way\"] = 8\n",
    "standalone_parameters[\"n_shot\"] = 3\n",
    "standalone_parameters[\"n_query\"]  = 2\n",
    "standalone_parameters[\"train_k_factor\"] = 1\n",
    "standalone_parameters[\"val_k_factor\"] = 2\n",
    "standalone_parameters[\"test_k_factor\"] = 2\n",
    "\n",
    "\n",
    "standalone_parameters[\"n_epoch\"] = 50\n",
    "\n",
    "standalone_parameters[\"patience\"] = 10\n",
    "standalone_parameters[\"criteria_for_best\"] = \"source_loss\"\n",
    "\n",
    "standalone_parameters[\"datasets\"] = [\n",
    "    {\n",
    "        \"labels\": ALL_SERIAL_NUMBERS,\n",
    "        \"domains\": ALL_DISTANCES_FEET_NARROWED,\n",
    "        \"num_examples_per_domain_per_label\": 100,\n",
    "        \"pickle_path\": os.path.join(get_datasets_base_path(), \"oracle.Run1_framed_2000Examples_stratified_ds.2022A.pkl\"),\n",
    "        \"source_or_target_dataset\": \"source\",\n",
    "        \"x_transforms\": [\"unit_mag\", \"minus_two\"],\n",
    "        \"episode_transforms\": [],\n",
    "        \"domain_prefix\": \"ORACLE_\"\n",
    "    },\n",
    "    {\n",
    "        \"labels\": ALL_NODES,\n",
    "        \"domains\": ALL_DAYS,\n",
    "        \"num_examples_per_domain_per_label\": 100,\n",
    "        \"pickle_path\": os.path.join(get_datasets_base_path(), \"cores.stratified_ds.2022A.pkl\"),\n",
    "        \"source_or_target_dataset\": \"target\",\n",
    "        \"x_transforms\": [\"unit_power\", \"times_zero\"],\n",
    "        \"episode_transforms\": [],\n",
    "        \"domain_prefix\": \"CORES_\"\n",
    "    }   \n",
    "]\n",
    "\n",
    "standalone_parameters[\"torch_default_dtype\"] = \"torch.float32\" \n",
    "\n",
    "\n",
    "\n",
    "standalone_parameters[\"x_net\"] =     [\n",
    "    {\"class\": \"nnReshape\", \"kargs\": {\"shape\":[-1, 1, 2, 256]}},\n",
    "    {\"class\": \"Conv2d\", \"kargs\": { \"in_channels\":1, \"out_channels\":256, \"kernel_size\":(1,7), \"bias\":False, \"padding\":(0,3), },},\n",
    "    {\"class\": \"ReLU\", \"kargs\": {\"inplace\": True}},\n",
    "    {\"class\": \"BatchNorm2d\", \"kargs\": {\"num_features\":256}},\n",
    "\n",
    "    {\"class\": \"Conv2d\", \"kargs\": { \"in_channels\":256, \"out_channels\":80, \"kernel_size\":(2,7), \"bias\":True, \"padding\":(0,3), },},\n",
    "    {\"class\": \"ReLU\", \"kargs\": {\"inplace\": True}},\n",
    "    {\"class\": \"BatchNorm2d\", \"kargs\": {\"num_features\":80}},\n",
    "    {\"class\": \"Flatten\", \"kargs\": {}},\n",
    "\n",
    "    {\"class\": \"Linear\", \"kargs\": {\"in_features\": 80*256, \"out_features\": 256}}, # 80 units per IQ pair\n",
    "    {\"class\": \"ReLU\", \"kargs\": {\"inplace\": True}},\n",
    "    {\"class\": \"BatchNorm1d\", \"kargs\": {\"num_features\":256}},\n",
    "\n",
    "    {\"class\": \"Linear\", \"kargs\": {\"in_features\": 256, \"out_features\": 256}},\n",
    "]\n",
    "\n",
    "# Parameters relevant to results\n",
    "# These parameters will basically never need to change\n",
    "standalone_parameters[\"NUM_LOGS_PER_EPOCH\"] = 10\n",
    "standalone_parameters[\"BEST_MODEL_PATH\"] = \"./best_model.pth\"\n",
    "\n",
    "\n",
    "\n",
    "\n"
   ]
  },
  {
   "cell_type": "code",
   "execution_count": 4,
   "id": "54b8c36b",
   "metadata": {
    "execution": {
     "iopub.execute_input": "2022-03-22T20:08:28.348261Z",
     "iopub.status.busy": "2022-03-22T20:08:28.347750Z",
     "iopub.status.idle": "2022-03-22T20:08:28.368467Z",
     "shell.execute_reply": "2022-03-22T20:08:28.368101Z"
    },
    "papermill": {
     "duration": 0.055574,
     "end_time": "2022-03-22T20:08:28.368535",
     "exception": false,
     "start_time": "2022-03-22T20:08:28.312961",
     "status": "completed"
    },
    "tags": [
     "injected-parameters"
    ]
   },
   "outputs": [],
   "source": [
    "# Parameters\n",
    "parameters = {\n",
    "    \"experiment_name\": \"tl_1v2:cores-oracle.run1\",\n",
    "    \"device\": \"cuda\",\n",
    "    \"lr\": 0.0001,\n",
    "    \"n_shot\": 3,\n",
    "    \"n_query\": 2,\n",
    "    \"train_k_factor\": 3,\n",
    "    \"val_k_factor\": 2,\n",
    "    \"test_k_factor\": 2,\n",
    "    \"torch_default_dtype\": \"torch.float32\",\n",
    "    \"n_epoch\": 50,\n",
    "    \"patience\": 3,\n",
    "    \"criteria_for_best\": \"target_accuracy\",\n",
    "    \"x_net\": [\n",
    "        {\"class\": \"nnReshape\", \"kargs\": {\"shape\": [-1, 1, 2, 256]}},\n",
    "        {\n",
    "            \"class\": \"Conv2d\",\n",
    "            \"kargs\": {\n",
    "                \"in_channels\": 1,\n",
    "                \"out_channels\": 256,\n",
    "                \"kernel_size\": [1, 7],\n",
    "                \"bias\": False,\n",
    "                \"padding\": [0, 3],\n",
    "            },\n",
    "        },\n",
    "        {\"class\": \"ReLU\", \"kargs\": {\"inplace\": True}},\n",
    "        {\"class\": \"BatchNorm2d\", \"kargs\": {\"num_features\": 256}},\n",
    "        {\n",
    "            \"class\": \"Conv2d\",\n",
    "            \"kargs\": {\n",
    "                \"in_channels\": 256,\n",
    "                \"out_channels\": 80,\n",
    "                \"kernel_size\": [2, 7],\n",
    "                \"bias\": True,\n",
    "                \"padding\": [0, 3],\n",
    "            },\n",
    "        },\n",
    "        {\"class\": \"ReLU\", \"kargs\": {\"inplace\": True}},\n",
    "        {\"class\": \"BatchNorm2d\", \"kargs\": {\"num_features\": 80}},\n",
    "        {\"class\": \"Flatten\", \"kargs\": {}},\n",
    "        {\"class\": \"Linear\", \"kargs\": {\"in_features\": 20480, \"out_features\": 256}},\n",
    "        {\"class\": \"ReLU\", \"kargs\": {\"inplace\": True}},\n",
    "        {\"class\": \"BatchNorm1d\", \"kargs\": {\"num_features\": 256}},\n",
    "        {\"class\": \"Linear\", \"kargs\": {\"in_features\": 256, \"out_features\": 256}},\n",
    "    ],\n",
    "    \"NUM_LOGS_PER_EPOCH\": 10,\n",
    "    \"BEST_MODEL_PATH\": \"./best_model.pth\",\n",
    "    \"n_way\": 16,\n",
    "    \"datasets\": [\n",
    "        {\n",
    "            \"labels\": [\n",
    "                \"1-10.\",\n",
    "                \"1-11.\",\n",
    "                \"1-15.\",\n",
    "                \"1-16.\",\n",
    "                \"1-17.\",\n",
    "                \"1-18.\",\n",
    "                \"1-19.\",\n",
    "                \"10-4.\",\n",
    "                \"10-7.\",\n",
    "                \"11-1.\",\n",
    "                \"11-14.\",\n",
    "                \"11-17.\",\n",
    "                \"11-20.\",\n",
    "                \"11-7.\",\n",
    "                \"13-20.\",\n",
    "                \"13-8.\",\n",
    "                \"14-10.\",\n",
    "                \"14-11.\",\n",
    "                \"14-14.\",\n",
    "                \"14-7.\",\n",
    "                \"15-1.\",\n",
    "                \"15-20.\",\n",
    "                \"16-1.\",\n",
    "                \"16-16.\",\n",
    "                \"17-10.\",\n",
    "                \"17-11.\",\n",
    "                \"17-2.\",\n",
    "                \"19-1.\",\n",
    "                \"19-16.\",\n",
    "                \"19-19.\",\n",
    "                \"19-20.\",\n",
    "                \"19-3.\",\n",
    "                \"2-10.\",\n",
    "                \"2-11.\",\n",
    "                \"2-17.\",\n",
    "                \"2-18.\",\n",
    "                \"2-20.\",\n",
    "                \"2-3.\",\n",
    "                \"2-4.\",\n",
    "                \"2-5.\",\n",
    "                \"2-6.\",\n",
    "                \"2-7.\",\n",
    "                \"2-8.\",\n",
    "                \"3-13.\",\n",
    "                \"3-18.\",\n",
    "                \"3-3.\",\n",
    "                \"4-1.\",\n",
    "                \"4-10.\",\n",
    "                \"4-11.\",\n",
    "                \"4-19.\",\n",
    "                \"5-5.\",\n",
    "                \"6-15.\",\n",
    "                \"7-10.\",\n",
    "                \"7-14.\",\n",
    "                \"8-18.\",\n",
    "                \"8-20.\",\n",
    "                \"8-3.\",\n",
    "                \"8-8.\",\n",
    "            ],\n",
    "            \"domains\": [1, 2, 3, 4, 5],\n",
    "            \"num_examples_per_domain_per_label\": -1,\n",
    "            \"pickle_path\": \"/root/csc500-main/datasets/cores.stratified_ds.2022A.pkl\",\n",
    "            \"source_or_target_dataset\": \"source\",\n",
    "            \"x_transforms\": [\"unit_power\"],\n",
    "            \"episode_transforms\": [],\n",
    "            \"domain_prefix\": \"CORES_\",\n",
    "        },\n",
    "        {\n",
    "            \"labels\": [\n",
    "                \"3123D52\",\n",
    "                \"3123D65\",\n",
    "                \"3123D79\",\n",
    "                \"3123D80\",\n",
    "                \"3123D54\",\n",
    "                \"3123D70\",\n",
    "                \"3123D7B\",\n",
    "                \"3123D89\",\n",
    "                \"3123D58\",\n",
    "                \"3123D76\",\n",
    "                \"3123D7D\",\n",
    "                \"3123EFE\",\n",
    "                \"3123D64\",\n",
    "                \"3123D78\",\n",
    "                \"3123D7E\",\n",
    "                \"3124E4A\",\n",
    "            ],\n",
    "            \"domains\": [32, 38, 8, 44, 14, 50, 20, 26],\n",
    "            \"num_examples_per_domain_per_label\": 10000,\n",
    "            \"pickle_path\": \"/root/csc500-main/datasets/oracle.Run1_10kExamples_stratified_ds.2022A.pkl\",\n",
    "            \"source_or_target_dataset\": \"target\",\n",
    "            \"x_transforms\": [\"unit_power\"],\n",
    "            \"episode_transforms\": [],\n",
    "            \"domain_prefix\": \"ORACLE.run1_\",\n",
    "        },\n",
    "    ],\n",
    "    \"dataset_seed\": 7,\n",
    "    \"seed\": 7,\n",
    "}\n"
   ]
  },
  {
   "cell_type": "code",
   "execution_count": 5,
   "id": "8fa1cc33",
   "metadata": {
    "execution": {
     "iopub.execute_input": "2022-03-22T20:08:28.412336Z",
     "iopub.status.busy": "2022-03-22T20:08:28.411930Z",
     "iopub.status.idle": "2022-03-22T20:08:28.431033Z",
     "shell.execute_reply": "2022-03-22T20:08:28.430666Z"
    },
    "papermill": {
     "duration": 0.042555,
     "end_time": "2022-03-22T20:08:28.431102",
     "exception": false,
     "start_time": "2022-03-22T20:08:28.388547",
     "status": "completed"
    },
    "tags": []
   },
   "outputs": [],
   "source": [
    "# Set this to True if you want to run this template directly\n",
    "STANDALONE = False\n",
    "if STANDALONE:\n",
    "    print(\"parameters not injected, running with standalone_parameters\")\n",
    "    parameters = standalone_parameters\n",
    "\n",
    "if not 'parameters' in locals() and not 'parameters' in globals():\n",
    "    raise Exception(\"Parameter injection failed\")\n",
    "\n",
    "#Use an easy dict for all the parameters\n",
    "p = EasyDict(parameters)\n",
    "\n",
    "if \"x_shape\" not in p:\n",
    "    p.x_shape = [2,256] # Default to this if we dont supply x_shape\n",
    "\n",
    "\n",
    "supplied_keys = set(p.keys())\n",
    "\n",
    "if  supplied_keys != required_parameters:\n",
    "    print(\"Parameters are incorrect\")\n",
    "    if len(supplied_keys - required_parameters)>0: print(\"Shouldn't have:\", str(supplied_keys - required_parameters))\n",
    "    if len(required_parameters - supplied_keys)>0: print(\"Need to have:\", str(required_parameters - supplied_keys))\n",
    "    raise RuntimeError(\"Parameters are incorrect\")"
   ]
  },
  {
   "cell_type": "code",
   "execution_count": 6,
   "id": "3a028d58",
   "metadata": {
    "execution": {
     "iopub.execute_input": "2022-03-22T20:08:28.473533Z",
     "iopub.status.busy": "2022-03-22T20:08:28.473141Z",
     "iopub.status.idle": "2022-03-22T20:08:28.491914Z",
     "shell.execute_reply": "2022-03-22T20:08:28.491595Z"
    },
    "papermill": {
     "duration": 0.040754,
     "end_time": "2022-03-22T20:08:28.491982",
     "exception": false,
     "start_time": "2022-03-22T20:08:28.451228",
     "status": "completed"
    },
    "tags": []
   },
   "outputs": [],
   "source": [
    "###################################\n",
    "# Set the RNGs and make it all deterministic\n",
    "###################################\n",
    "np.random.seed(p.seed)\n",
    "random.seed(p.seed)\n",
    "torch.manual_seed(p.seed)\n",
    "\n",
    "torch.use_deterministic_algorithms(True) "
   ]
  },
  {
   "cell_type": "code",
   "execution_count": 7,
   "id": "b691acf6",
   "metadata": {
    "execution": {
     "iopub.execute_input": "2022-03-22T20:08:28.536078Z",
     "iopub.status.busy": "2022-03-22T20:08:28.535711Z",
     "iopub.status.idle": "2022-03-22T20:08:28.558014Z",
     "shell.execute_reply": "2022-03-22T20:08:28.557650Z"
    },
    "papermill": {
     "duration": 0.045915,
     "end_time": "2022-03-22T20:08:28.558083",
     "exception": false,
     "start_time": "2022-03-22T20:08:28.512168",
     "status": "completed"
    },
    "tags": []
   },
   "outputs": [],
   "source": [
    "###########################################\n",
    "# The stratified datasets honor this\n",
    "###########################################\n",
    "torch.set_default_dtype(eval(p.torch_default_dtype))"
   ]
  },
  {
   "cell_type": "code",
   "execution_count": 8,
   "id": "b5fba671",
   "metadata": {
    "execution": {
     "iopub.execute_input": "2022-03-22T20:08:28.602282Z",
     "iopub.status.busy": "2022-03-22T20:08:28.601915Z",
     "iopub.status.idle": "2022-03-22T20:08:28.657903Z",
     "shell.execute_reply": "2022-03-22T20:08:28.658207Z"
    },
    "papermill": {
     "duration": 0.080045,
     "end_time": "2022-03-22T20:08:28.658288",
     "exception": false,
     "start_time": "2022-03-22T20:08:28.578243",
     "status": "completed"
    },
    "tags": []
   },
   "outputs": [],
   "source": [
    "###################################\n",
    "# Build the network(s)\n",
    "# Note: It's critical to do this AFTER setting the RNG\n",
    "###################################\n",
    "x_net = build_sequential(p.x_net)"
   ]
  },
  {
   "cell_type": "code",
   "execution_count": 9,
   "id": "5d7e61cc",
   "metadata": {
    "execution": {
     "iopub.execute_input": "2022-03-22T20:08:28.701716Z",
     "iopub.status.busy": "2022-03-22T20:08:28.701350Z",
     "iopub.status.idle": "2022-03-22T20:08:28.722395Z",
     "shell.execute_reply": "2022-03-22T20:08:28.722075Z"
    },
    "papermill": {
     "duration": 0.043792,
     "end_time": "2022-03-22T20:08:28.722463",
     "exception": false,
     "start_time": "2022-03-22T20:08:28.678671",
     "status": "completed"
    },
    "tags": []
   },
   "outputs": [],
   "source": [
    "start_time_secs = time.time()"
   ]
  },
  {
   "cell_type": "code",
   "execution_count": 10,
   "id": "c6b67dfd",
   "metadata": {
    "execution": {
     "iopub.execute_input": "2022-03-22T20:08:28.768014Z",
     "iopub.status.busy": "2022-03-22T20:08:28.767639Z",
     "iopub.status.idle": "2022-03-22T20:08:28.790397Z",
     "shell.execute_reply": "2022-03-22T20:08:28.790062Z"
    },
    "papermill": {
     "duration": 0.047658,
     "end_time": "2022-03-22T20:08:28.790465",
     "exception": false,
     "start_time": "2022-03-22T20:08:28.742807",
     "status": "completed"
    },
    "tags": []
   },
   "outputs": [],
   "source": [
    "p.domains_source = []\n",
    "p.domains_target = []\n",
    "\n",
    "\n",
    "train_original_source = []\n",
    "val_original_source   = []\n",
    "test_original_source  = []\n",
    "\n",
    "train_original_target = []\n",
    "val_original_target   = []\n",
    "test_original_target  = []"
   ]
  },
  {
   "cell_type": "code",
   "execution_count": 11,
   "id": "e3d9c3d3",
   "metadata": {
    "execution": {
     "iopub.execute_input": "2022-03-22T20:08:28.834444Z",
     "iopub.status.busy": "2022-03-22T20:08:28.834077Z",
     "iopub.status.idle": "2022-03-22T20:08:28.857453Z",
     "shell.execute_reply": "2022-03-22T20:08:28.857087Z"
    },
    "papermill": {
     "duration": 0.046416,
     "end_time": "2022-03-22T20:08:28.857521",
     "exception": false,
     "start_time": "2022-03-22T20:08:28.811105",
     "status": "completed"
    },
    "tags": []
   },
   "outputs": [],
   "source": [
    "# global_x_transform_func = lambda x: normalize(x.to(torch.get_default_dtype()), \"unit_power\") # unit_power, unit_mag\n",
    "# global_x_transform_func = lambda x: normalize(x, \"unit_power\") # unit_power, unit_mag"
   ]
  },
  {
   "cell_type": "code",
   "execution_count": 12,
   "id": "acb78fd2",
   "metadata": {
    "execution": {
     "iopub.execute_input": "2022-03-22T20:08:28.905540Z",
     "iopub.status.busy": "2022-03-22T20:08:28.905154Z",
     "iopub.status.idle": "2022-03-22T20:08:28.924046Z",
     "shell.execute_reply": "2022-03-22T20:08:28.923727Z"
    },
    "papermill": {
     "duration": 0.0461,
     "end_time": "2022-03-22T20:08:28.924114",
     "exception": false,
     "start_time": "2022-03-22T20:08:28.878014",
     "status": "completed"
    },
    "tags": []
   },
   "outputs": [],
   "source": [
    "def add_dataset(\n",
    "    labels,\n",
    "    domains,\n",
    "    pickle_path,\n",
    "    x_transforms,\n",
    "    episode_transforms,\n",
    "    domain_prefix,\n",
    "    num_examples_per_domain_per_label,\n",
    "    source_or_target_dataset:str,\n",
    "    iterator_seed=p.seed,\n",
    "    dataset_seed=p.dataset_seed,\n",
    "    n_shot=p.n_shot,\n",
    "    n_way=p.n_way,\n",
    "    n_query=p.n_query,\n",
    "    train_val_test_k_factors=(p.train_k_factor,p.val_k_factor,p.test_k_factor),\n",
    "):\n",
    "   \n",
    "    if x_transforms == []: x_transform = None\n",
    "    else: x_transform = get_chained_transform(x_transforms)\n",
    "    \n",
    "    if episode_transforms == []: episode_transform = None\n",
    "    else: raise Exception(\"episode_transforms not implemented\")\n",
    "    \n",
    "    episode_transform = lambda tup, _prefix=domain_prefix: (_prefix + str(tup[0]), tup[1])\n",
    "\n",
    "\n",
    "    eaf = Episodic_Accessor_Factory(\n",
    "        labels=labels,\n",
    "        domains=domains,\n",
    "        num_examples_per_domain_per_label=num_examples_per_domain_per_label,\n",
    "        iterator_seed=iterator_seed,\n",
    "        dataset_seed=dataset_seed,\n",
    "        n_shot=n_shot,\n",
    "        n_way=n_way,\n",
    "        n_query=n_query,\n",
    "        train_val_test_k_factors=train_val_test_k_factors,\n",
    "        pickle_path=pickle_path,\n",
    "        x_transform_func=x_transform,\n",
    "    )\n",
    "\n",
    "    train, val, test = eaf.get_train(), eaf.get_val(), eaf.get_test()\n",
    "    train = Lazy_Iterable_Wrapper(train, episode_transform)\n",
    "    val = Lazy_Iterable_Wrapper(val, episode_transform)\n",
    "    test = Lazy_Iterable_Wrapper(test, episode_transform)\n",
    "\n",
    "    if source_or_target_dataset==\"source\":\n",
    "        train_original_source.append(train)\n",
    "        val_original_source.append(val)\n",
    "        test_original_source.append(test)\n",
    "\n",
    "        p.domains_source.extend(\n",
    "            [domain_prefix + str(u) for u in domains]\n",
    "        )\n",
    "    elif source_or_target_dataset==\"target\":\n",
    "        train_original_target.append(train)\n",
    "        val_original_target.append(val)\n",
    "        test_original_target.append(test)\n",
    "        p.domains_target.extend(\n",
    "            [domain_prefix + str(u) for u in domains]\n",
    "        )\n",
    "    else:\n",
    "        raise Exception(f\"invalid source_or_target_dataset: {source_or_target_dataset}\")\n",
    "    "
   ]
  },
  {
   "cell_type": "code",
   "execution_count": 13,
   "id": "fe266617",
   "metadata": {
    "execution": {
     "iopub.execute_input": "2022-03-22T20:08:28.968033Z",
     "iopub.status.busy": "2022-03-22T20:08:28.967666Z",
     "iopub.status.idle": "2022-03-22T20:10:40.198383Z",
     "shell.execute_reply": "2022-03-22T20:10:40.197645Z"
    },
    "papermill": {
     "duration": 131.253714,
     "end_time": "2022-03-22T20:10:40.198568",
     "exception": false,
     "start_time": "2022-03-22T20:08:28.944854",
     "status": "completed"
    },
    "tags": []
   },
   "outputs": [],
   "source": [
    "for ds in p.datasets:\n",
    "    add_dataset(**ds)"
   ]
  },
  {
   "cell_type": "code",
   "execution_count": 14,
   "id": "b90d65ac",
   "metadata": {
    "execution": {
     "iopub.execute_input": "2022-03-22T20:10:40.250916Z",
     "iopub.status.busy": "2022-03-22T20:10:40.250274Z",
     "iopub.status.idle": "2022-03-22T20:10:40.274384Z",
     "shell.execute_reply": "2022-03-22T20:10:40.273676Z"
    },
    "papermill": {
     "duration": 0.049243,
     "end_time": "2022-03-22T20:10:40.274548",
     "exception": false,
     "start_time": "2022-03-22T20:10:40.225305",
     "status": "completed"
    },
    "tags": []
   },
   "outputs": [],
   "source": [
    "# from steves_utils.CORES.utils import (\n",
    "#     ALL_NODES,\n",
    "#     ALL_NODES_MINIMUM_1000_EXAMPLES,\n",
    "#     ALL_DAYS\n",
    "# )\n",
    "\n",
    "# add_dataset(\n",
    "#     labels=ALL_NODES,\n",
    "#     domains = ALL_DAYS,\n",
    "#     num_examples_per_domain_per_label=100,\n",
    "#     pickle_path=os.path.join(get_datasets_base_path(), \"cores.stratified_ds.2022A.pkl\"),\n",
    "#     source_or_target_dataset=\"target\",\n",
    "#     x_transform_func=global_x_transform_func,\n",
    "#     domain_modifier=lambda u: f\"cores_{u}\"\n",
    "# )"
   ]
  },
  {
   "cell_type": "code",
   "execution_count": 15,
   "id": "76db484d",
   "metadata": {
    "execution": {
     "iopub.execute_input": "2022-03-22T20:10:40.329795Z",
     "iopub.status.busy": "2022-03-22T20:10:40.329159Z",
     "iopub.status.idle": "2022-03-22T20:10:40.347937Z",
     "shell.execute_reply": "2022-03-22T20:10:40.347117Z"
    },
    "papermill": {
     "duration": 0.044502,
     "end_time": "2022-03-22T20:10:40.348103",
     "exception": false,
     "start_time": "2022-03-22T20:10:40.303601",
     "status": "completed"
    },
    "tags": []
   },
   "outputs": [],
   "source": [
    "# from steves_utils.ORACLE.utils_v2 import (\n",
    "#     ALL_DISTANCES_FEET,\n",
    "#     ALL_RUNS,\n",
    "#     ALL_SERIAL_NUMBERS,\n",
    "# )\n",
    "\n",
    "\n",
    "# add_dataset(\n",
    "#     labels=ALL_SERIAL_NUMBERS,\n",
    "#     domains = list(set(ALL_DISTANCES_FEET) - {2,62}),\n",
    "#     num_examples_per_domain_per_label=100,\n",
    "#     pickle_path=os.path.join(get_datasets_base_path(), \"oracle.Run2_framed_2000Examples_stratified_ds.2022A.pkl\"),\n",
    "#     source_or_target_dataset=\"source\",\n",
    "#     x_transform_func=global_x_transform_func,\n",
    "#     domain_modifier=lambda u: f\"oracle1_{u}\"\n",
    "# )\n"
   ]
  },
  {
   "cell_type": "code",
   "execution_count": 16,
   "id": "97dea9d2",
   "metadata": {
    "execution": {
     "iopub.execute_input": "2022-03-22T20:10:40.399667Z",
     "iopub.status.busy": "2022-03-22T20:10:40.399268Z",
     "iopub.status.idle": "2022-03-22T20:10:40.417035Z",
     "shell.execute_reply": "2022-03-22T20:10:40.415606Z"
    },
    "papermill": {
     "duration": 0.041181,
     "end_time": "2022-03-22T20:10:40.417230",
     "exception": false,
     "start_time": "2022-03-22T20:10:40.376049",
     "status": "completed"
    },
    "tags": []
   },
   "outputs": [],
   "source": [
    "# from steves_utils.ORACLE.utils_v2 import (\n",
    "#     ALL_DISTANCES_FEET,\n",
    "#     ALL_RUNS,\n",
    "#     ALL_SERIAL_NUMBERS,\n",
    "# )\n",
    "\n",
    "\n",
    "# add_dataset(\n",
    "#     labels=ALL_SERIAL_NUMBERS,\n",
    "#     domains = list(set(ALL_DISTANCES_FEET) - {2,62,56}),\n",
    "#     num_examples_per_domain_per_label=100,\n",
    "#     pickle_path=os.path.join(get_datasets_base_path(), \"oracle.Run2_framed_2000Examples_stratified_ds.2022A.pkl\"),\n",
    "#     source_or_target_dataset=\"source\",\n",
    "#     x_transform_func=global_x_transform_func,\n",
    "#     domain_modifier=lambda u: f\"oracle2_{u}\"\n",
    "# )"
   ]
  },
  {
   "cell_type": "code",
   "execution_count": 17,
   "id": "6f289866",
   "metadata": {
    "execution": {
     "iopub.execute_input": "2022-03-22T20:10:40.473439Z",
     "iopub.status.busy": "2022-03-22T20:10:40.473060Z",
     "iopub.status.idle": "2022-03-22T20:10:40.491858Z",
     "shell.execute_reply": "2022-03-22T20:10:40.491037Z"
    },
    "papermill": {
     "duration": 0.044392,
     "end_time": "2022-03-22T20:10:40.492014",
     "exception": false,
     "start_time": "2022-03-22T20:10:40.447622",
     "status": "completed"
    },
    "tags": []
   },
   "outputs": [],
   "source": [
    "# add_dataset(\n",
    "#     labels=list(range(19)),\n",
    "#     domains = [0,1,2],\n",
    "#     num_examples_per_domain_per_label=100,\n",
    "#     pickle_path=os.path.join(get_datasets_base_path(), \"metehan.stratified_ds.2022A.pkl\"),\n",
    "#     source_or_target_dataset=\"target\",\n",
    "#     x_transform_func=global_x_transform_func,\n",
    "#     domain_modifier=lambda u: f\"met_{u}\"\n",
    "# )"
   ]
  },
  {
   "cell_type": "code",
   "execution_count": 18,
   "id": "86a863c3",
   "metadata": {
    "execution": {
     "iopub.execute_input": "2022-03-22T20:10:40.547300Z",
     "iopub.status.busy": "2022-03-22T20:10:40.546337Z",
     "iopub.status.idle": "2022-03-22T20:10:40.567651Z",
     "shell.execute_reply": "2022-03-22T20:10:40.566958Z"
    },
    "papermill": {
     "duration": 0.045177,
     "end_time": "2022-03-22T20:10:40.567808",
     "exception": false,
     "start_time": "2022-03-22T20:10:40.522631",
     "status": "completed"
    },
    "tags": []
   },
   "outputs": [],
   "source": [
    "# # from steves_utils.wisig.utils import (\n",
    "# #     ALL_NODES_MINIMUM_100_EXAMPLES,\n",
    "# #     ALL_NODES_MINIMUM_500_EXAMPLES,\n",
    "# #     ALL_NODES_MINIMUM_1000_EXAMPLES,\n",
    "# #     ALL_DAYS\n",
    "# # )\n",
    "\n",
    "# import steves_utils.wisig.utils as wisig\n",
    "\n",
    "\n",
    "# add_dataset(\n",
    "#     labels=wisig.ALL_NODES_MINIMUM_100_EXAMPLES,\n",
    "#     domains = wisig.ALL_DAYS,\n",
    "#     num_examples_per_domain_per_label=100,\n",
    "#     pickle_path=os.path.join(get_datasets_base_path(), \"wisig.node3-19.stratified_ds.2022A.pkl\"),\n",
    "#     source_or_target_dataset=\"target\",\n",
    "#     x_transform_func=global_x_transform_func,\n",
    "#     domain_modifier=lambda u: f\"wisig_{u}\"\n",
    "# )"
   ]
  },
  {
   "cell_type": "code",
   "execution_count": 19,
   "id": "fd5442bc",
   "metadata": {
    "execution": {
     "iopub.execute_input": "2022-03-22T20:10:40.624758Z",
     "iopub.status.busy": "2022-03-22T20:10:40.624170Z",
     "iopub.status.idle": "2022-03-22T20:10:40.646157Z",
     "shell.execute_reply": "2022-03-22T20:10:40.645410Z"
    },
    "papermill": {
     "duration": 0.05227,
     "end_time": "2022-03-22T20:10:40.646310",
     "exception": false,
     "start_time": "2022-03-22T20:10:40.594040",
     "status": "completed"
    },
    "tags": []
   },
   "outputs": [],
   "source": [
    "###################################\n",
    "# Build the dataset\n",
    "###################################\n",
    "train_original_source = Iterable_Aggregator(train_original_source, p.seed)\n",
    "val_original_source = Iterable_Aggregator(val_original_source, p.seed)\n",
    "test_original_source = Iterable_Aggregator(test_original_source, p.seed)\n",
    "\n",
    "\n",
    "train_original_target = Iterable_Aggregator(train_original_target, p.seed)\n",
    "val_original_target = Iterable_Aggregator(val_original_target, p.seed)\n",
    "test_original_target = Iterable_Aggregator(test_original_target, p.seed)\n",
    "\n",
    "# For CNN We only use X and Y. And we only train on the source.\n",
    "# Properly form the data using a transform lambda and Lazy_Iterable_Wrapper. Finally wrap them in a dataloader\n",
    "\n",
    "transform_lambda = lambda ex: ex[1] # Original is (<domain>, <episode>) so we strip down to episode only\n",
    "\n",
    "train_processed_source = Lazy_Iterable_Wrapper(train_original_source, transform_lambda)\n",
    "val_processed_source   = Lazy_Iterable_Wrapper(val_original_source, transform_lambda)\n",
    "test_processed_source  = Lazy_Iterable_Wrapper(test_original_source, transform_lambda)\n",
    "\n",
    "train_processed_target = Lazy_Iterable_Wrapper(train_original_target, transform_lambda)\n",
    "val_processed_target   = Lazy_Iterable_Wrapper(val_original_target, transform_lambda)\n",
    "test_processed_target  = Lazy_Iterable_Wrapper(test_original_target, transform_lambda)\n",
    "\n",
    "datasets = EasyDict({\n",
    "    \"source\": {\n",
    "        \"original\": {\"train\":train_original_source, \"val\":val_original_source, \"test\":test_original_source},\n",
    "        \"processed\": {\"train\":train_processed_source, \"val\":val_processed_source, \"test\":test_processed_source}\n",
    "    },\n",
    "    \"target\": {\n",
    "        \"original\": {\"train\":train_original_target, \"val\":val_original_target, \"test\":test_original_target},\n",
    "        \"processed\": {\"train\":train_processed_target, \"val\":val_processed_target, \"test\":test_processed_target}\n",
    "    },\n",
    "})"
   ]
  },
  {
   "cell_type": "code",
   "execution_count": 20,
   "id": "5b3c01fc",
   "metadata": {
    "execution": {
     "iopub.execute_input": "2022-03-22T20:10:40.701167Z",
     "iopub.status.busy": "2022-03-22T20:10:40.700796Z",
     "iopub.status.idle": "2022-03-22T20:11:13.324012Z",
     "shell.execute_reply": "2022-03-22T20:11:13.324732Z"
    },
    "papermill": {
     "duration": 32.651655,
     "end_time": "2022-03-22T20:11:13.324962",
     "exception": false,
     "start_time": "2022-03-22T20:10:40.673307",
     "status": "completed"
    },
    "tags": []
   },
   "outputs": [
    {
     "name": "stdout",
     "output_type": "stream",
     "text": [
      "{'CORES_3', 'CORES_4', 'CORES_5', 'CORES_1', 'CORES_2'}\n"
     ]
    },
    {
     "name": "stdout",
     "output_type": "stream",
     "text": [
      "{'ORACLE.run1_32', 'ORACLE.run1_50', 'ORACLE.run1_26', 'ORACLE.run1_38', 'ORACLE.run1_8', 'ORACLE.run1_44', 'ORACLE.run1_14', 'ORACLE.run1_20'}\n"
     ]
    },
    {
     "name": "stdout",
     "output_type": "stream",
     "text": [
      "tensor([[[ 0.0524, -0.0192,  0.2434,  ..., -0.3926, -1.4305, -0.1936],\n",
      "         [ 0.3654, -0.5299, -1.1645,  ..., -0.8482,  1.2706,  0.7454]],\n",
      "\n",
      "        [[ 0.0572, -0.0221, -0.7470,  ..., -1.0398,  1.0619,  1.7274],\n",
      "         [-0.3453, -0.0358,  0.6868,  ...,  0.6540,  0.6083, -0.5443]],\n",
      "\n",
      "        [[-0.1402, -0.3477,  0.6240,  ...,  0.9844,  0.5949, -1.6548],\n",
      "         [ 0.1866,  0.1800, -0.0698,  ...,  0.4318, -0.6811, -1.0420]],\n",
      "\n",
      "        ...,\n",
      "\n",
      "        [[-0.3116, -0.1290,  0.7961,  ...,  0.8301,  0.7376, -0.0536],\n",
      "         [-0.0049, -0.6841, -0.1388,  ..., -0.6500, -1.4631, -0.4455]],\n",
      "\n",
      "        [[ 0.2958,  0.4473, -0.5699,  ..., -0.0697,  0.4448,  0.3006],\n",
      "         [-0.2116,  0.5410,  0.6444,  ...,  1.0965,  1.5077,  0.1154]],\n",
      "\n",
      "        [[-0.1283, -0.1333,  0.6886,  ...,  0.5504,  1.2341,  1.4267],\n",
      "         [ 0.0469, -0.4048, -0.2592,  ...,  0.3974,  0.0173, -0.3752]]])\n"
     ]
    }
   ],
   "source": [
    "from steves_utils.transforms import get_average_magnitude, get_average_power\n",
    "\n",
    "print(set([u for u,_ in val_original_source]))\n",
    "print(set([u for u,_ in val_original_target]))\n",
    "\n",
    "s_x, s_y, q_x, q_y, _ = next(iter(train_processed_source))\n",
    "print(s_x)\n",
    "\n",
    "# for ds in [\n",
    "#     train_processed_source,\n",
    "#     val_processed_source,\n",
    "#     test_processed_source,\n",
    "#     train_processed_target,\n",
    "#     val_processed_target,\n",
    "#     test_processed_target\n",
    "# ]:\n",
    "#     for s_x, s_y, q_x, q_y, _ in ds:\n",
    "#         for X in (s_x, q_x):\n",
    "#             for x in X:\n",
    "#                 assert np.isclose(get_average_magnitude(x.numpy()), 1.0)\n",
    "#                 assert np.isclose(get_average_power(x.numpy()), 1.0)\n",
    "                "
   ]
  },
  {
   "cell_type": "code",
   "execution_count": 21,
   "id": "bbdacba1",
   "metadata": {
    "execution": {
     "iopub.execute_input": "2022-03-22T20:11:13.381249Z",
     "iopub.status.busy": "2022-03-22T20:11:13.380695Z",
     "iopub.status.idle": "2022-03-22T20:11:13.484125Z",
     "shell.execute_reply": "2022-03-22T20:11:13.484654Z"
    },
    "papermill": {
     "duration": 0.132073,
     "end_time": "2022-03-22T20:11:13.484845",
     "exception": false,
     "start_time": "2022-03-22T20:11:13.352772",
     "status": "completed"
    },
    "tags": []
   },
   "outputs": [
    {
     "name": "stdout",
     "output_type": "stream",
     "text": [
      "(2, 256)\n"
     ]
    }
   ],
   "source": [
    "###################################\n",
    "# Build the model\n",
    "###################################\n",
    "# easfsl only wants a tuple for the shape\n",
    "model = Steves_Prototypical_Network(x_net, device=p.device, x_shape=tuple(p.x_shape))\n",
    "optimizer = Adam(params=model.parameters(), lr=p.lr)"
   ]
  },
  {
   "cell_type": "code",
   "execution_count": 22,
   "id": "22b39ac5",
   "metadata": {
    "execution": {
     "iopub.execute_input": "2022-03-22T20:11:13.538634Z",
     "iopub.status.busy": "2022-03-22T20:11:13.538004Z",
     "iopub.status.idle": "2022-03-22T20:39:52.025826Z",
     "shell.execute_reply": "2022-03-22T20:39:52.025486Z"
    },
    "papermill": {
     "duration": 1718.514551,
     "end_time": "2022-03-22T20:39:52.025908",
     "exception": false,
     "start_time": "2022-03-22T20:11:13.511357",
     "status": "completed"
    },
    "tags": []
   },
   "outputs": [
    {
     "name": "stdout",
     "output_type": "stream",
     "text": [
      "epoch: 1, [batch: 1 / 6316], examples_per_second: 32.3646, train_label_loss: 2.5510, \n"
     ]
    },
    {
     "name": "stdout",
     "output_type": "stream",
     "text": [
      "epoch: 1, [batch: 632 / 6316], examples_per_second: 2909.8882, train_label_loss: 0.0097, \n"
     ]
    },
    {
     "name": "stdout",
     "output_type": "stream",
     "text": [
      "epoch: 1, [batch: 1264 / 6316], examples_per_second: 3025.5841, train_label_loss: 0.0034, \n"
     ]
    },
    {
     "name": "stdout",
     "output_type": "stream",
     "text": [
      "epoch: 1, [batch: 1895 / 6316], examples_per_second: 3419.0307, train_label_loss: 0.0021, \n"
     ]
    },
    {
     "name": "stdout",
     "output_type": "stream",
     "text": [
      "epoch: 1, [batch: 2527 / 6316], examples_per_second: 3547.2232, train_label_loss: 0.0011, \n"
     ]
    },
    {
     "name": "stdout",
     "output_type": "stream",
     "text": [
      "epoch: 1, [batch: 3158 / 6316], examples_per_second: 3707.5457, train_label_loss: 0.0003, \n"
     ]
    },
    {
     "name": "stdout",
     "output_type": "stream",
     "text": [
      "epoch: 1, [batch: 3790 / 6316], examples_per_second: 3457.8820, train_label_loss: 0.0001, \n"
     ]
    },
    {
     "name": "stdout",
     "output_type": "stream",
     "text": [
      "epoch: 1, [batch: 4421 / 6316], examples_per_second: 3397.3860, train_label_loss: 0.0003, \n"
     ]
    },
    {
     "name": "stdout",
     "output_type": "stream",
     "text": [
      "epoch: 1, [batch: 5053 / 6316], examples_per_second: 3413.0944, train_label_loss: 0.0097, \n"
     ]
    },
    {
     "name": "stdout",
     "output_type": "stream",
     "text": [
      "epoch: 1, [batch: 5684 / 6316], examples_per_second: 3404.0511, train_label_loss: 0.0001, \n"
     ]
    },
    {
     "name": "stdout",
     "output_type": "stream",
     "text": [
      "=============================================================\n",
      "epoch: 1, source_val_acc_label: 0.9988, target_val_acc_label: 0.1412, source_val_label_loss: 0.0066, target_val_label_loss: 2.7127, \n",
      "=============================================================\n"
     ]
    },
    {
     "name": "stdout",
     "output_type": "stream",
     "text": [
      "New best\n"
     ]
    },
    {
     "name": "stdout",
     "output_type": "stream",
     "text": [
      "epoch: 2, [batch: 1 / 6296], examples_per_second: 1.6178, train_label_loss: 0.0006, \n"
     ]
    },
    {
     "name": "stdout",
     "output_type": "stream",
     "text": [
      "epoch: 2, [batch: 630 / 6296], examples_per_second: 4094.0123, train_label_loss: 0.0003, \n"
     ]
    },
    {
     "name": "stdout",
     "output_type": "stream",
     "text": [
      "epoch: 2, [batch: 1260 / 6296], examples_per_second: 3936.1829, train_label_loss: 0.0001, \n"
     ]
    },
    {
     "name": "stdout",
     "output_type": "stream",
     "text": [
      "epoch: 2, [batch: 1889 / 6296], examples_per_second: 3978.5536, train_label_loss: 0.0073, \n"
     ]
    },
    {
     "name": "stdout",
     "output_type": "stream",
     "text": [
      "epoch: 2, [batch: 2519 / 6296], examples_per_second: 3973.3728, train_label_loss: 0.0000, \n"
     ]
    },
    {
     "name": "stdout",
     "output_type": "stream",
     "text": [
      "epoch: 2, [batch: 3148 / 6296], examples_per_second: 3862.3403, train_label_loss: 0.0009, \n"
     ]
    },
    {
     "name": "stdout",
     "output_type": "stream",
     "text": [
      "epoch: 2, [batch: 3778 / 6296], examples_per_second: 3947.9031, train_label_loss: 0.0000, \n"
     ]
    },
    {
     "name": "stdout",
     "output_type": "stream",
     "text": [
      "epoch: 2, [batch: 4407 / 6296], examples_per_second: 3945.4535, train_label_loss: 0.0004, \n"
     ]
    },
    {
     "name": "stdout",
     "output_type": "stream",
     "text": [
      "epoch: 2, [batch: 5037 / 6296], examples_per_second: 4007.6162, train_label_loss: 0.0001, \n"
     ]
    },
    {
     "name": "stdout",
     "output_type": "stream",
     "text": [
      "epoch: 2, [batch: 5666 / 6296], examples_per_second: 4005.6813, train_label_loss: 0.0000, \n"
     ]
    },
    {
     "name": "stdout",
     "output_type": "stream",
     "text": [
      "=============================================================\n",
      "epoch: 2, source_val_acc_label: 0.9994, target_val_acc_label: 0.1493, source_val_label_loss: 0.0075, target_val_label_loss: 2.9835, \n",
      "=============================================================\n"
     ]
    },
    {
     "name": "stdout",
     "output_type": "stream",
     "text": [
      "New best\n"
     ]
    },
    {
     "name": "stdout",
     "output_type": "stream",
     "text": [
      "epoch: 3, [batch: 1 / 6299], examples_per_second: 2.1127, train_label_loss: 0.0013, \n"
     ]
    },
    {
     "name": "stdout",
     "output_type": "stream",
     "text": [
      "epoch: 3, [batch: 630 / 6299], examples_per_second: 3759.2782, train_label_loss: 0.0016, \n"
     ]
    },
    {
     "name": "stdout",
     "output_type": "stream",
     "text": [
      "epoch: 3, [batch: 1260 / 6299], examples_per_second: 3908.3266, train_label_loss: 0.0000, \n"
     ]
    },
    {
     "name": "stdout",
     "output_type": "stream",
     "text": [
      "epoch: 3, [batch: 1890 / 6299], examples_per_second: 3939.1637, train_label_loss: 0.0000, \n"
     ]
    },
    {
     "name": "stdout",
     "output_type": "stream",
     "text": [
      "epoch: 3, [batch: 2520 / 6299], examples_per_second: 3760.9483, train_label_loss: 0.0020, \n"
     ]
    },
    {
     "name": "stdout",
     "output_type": "stream",
     "text": [
      "epoch: 3, [batch: 3150 / 6299], examples_per_second: 3904.4274, train_label_loss: 0.0001, \n"
     ]
    },
    {
     "name": "stdout",
     "output_type": "stream",
     "text": [
      "epoch: 3, [batch: 3779 / 6299], examples_per_second: 3996.6264, train_label_loss: 0.0000, \n"
     ]
    },
    {
     "name": "stdout",
     "output_type": "stream",
     "text": [
      "epoch: 3, [batch: 4409 / 6299], examples_per_second: 3926.4730, train_label_loss: 0.0000, \n"
     ]
    },
    {
     "name": "stdout",
     "output_type": "stream",
     "text": [
      "epoch: 3, [batch: 5039 / 6299], examples_per_second: 4020.8651, train_label_loss: 0.0000, \n"
     ]
    },
    {
     "name": "stdout",
     "output_type": "stream",
     "text": [
      "epoch: 3, [batch: 5669 / 6299], examples_per_second: 3975.8277, train_label_loss: 0.0244, \n"
     ]
    },
    {
     "name": "stdout",
     "output_type": "stream",
     "text": [
      "=============================================================\n",
      "epoch: 3, source_val_acc_label: 0.9991, target_val_acc_label: 0.1664, source_val_label_loss: 0.0079, target_val_label_loss: 3.0893, \n",
      "=============================================================\n"
     ]
    },
    {
     "name": "stdout",
     "output_type": "stream",
     "text": [
      "New best\n"
     ]
    },
    {
     "name": "stdout",
     "output_type": "stream",
     "text": [
      "epoch: 4, [batch: 1 / 6316], examples_per_second: 2.1773, train_label_loss: 0.0000, \n"
     ]
    },
    {
     "name": "stdout",
     "output_type": "stream",
     "text": [
      "epoch: 4, [batch: 632 / 6316], examples_per_second: 3984.2977, train_label_loss: 0.0005, \n"
     ]
    },
    {
     "name": "stdout",
     "output_type": "stream",
     "text": [
      "epoch: 4, [batch: 1264 / 6316], examples_per_second: 4053.7389, train_label_loss: 0.0000, \n"
     ]
    },
    {
     "name": "stdout",
     "output_type": "stream",
     "text": [
      "epoch: 4, [batch: 1895 / 6316], examples_per_second: 4865.6500, train_label_loss: 0.0000, \n"
     ]
    },
    {
     "name": "stdout",
     "output_type": "stream",
     "text": [
      "epoch: 4, [batch: 2527 / 6316], examples_per_second: 4705.9286, train_label_loss: 0.0000, \n"
     ]
    },
    {
     "name": "stdout",
     "output_type": "stream",
     "text": [
      "epoch: 4, [batch: 3158 / 6316], examples_per_second: 4883.0062, train_label_loss: 0.0000, \n"
     ]
    },
    {
     "name": "stdout",
     "output_type": "stream",
     "text": [
      "epoch: 4, [batch: 3790 / 6316], examples_per_second: 4956.0107, train_label_loss: 0.0000, \n"
     ]
    },
    {
     "name": "stdout",
     "output_type": "stream",
     "text": [
      "epoch: 4, [batch: 4421 / 6316], examples_per_second: 5033.5236, train_label_loss: 0.0000, \n"
     ]
    },
    {
     "name": "stdout",
     "output_type": "stream",
     "text": [
      "epoch: 4, [batch: 5053 / 6316], examples_per_second: 4975.0303, train_label_loss: 0.0000, \n"
     ]
    },
    {
     "name": "stdout",
     "output_type": "stream",
     "text": [
      "epoch: 4, [batch: 5684 / 6316], examples_per_second: 5199.4456, train_label_loss: 0.0000, \n"
     ]
    },
    {
     "name": "stdout",
     "output_type": "stream",
     "text": [
      "=============================================================\n",
      "epoch: 4, source_val_acc_label: 0.9992, target_val_acc_label: 0.1588, source_val_label_loss: 0.0084, target_val_label_loss: 3.6630, \n",
      "=============================================================\n"
     ]
    },
    {
     "name": "stdout",
     "output_type": "stream",
     "text": [
      "epoch: 5, [batch: 1 / 6313], examples_per_second: 2.7054, train_label_loss: 0.0000, \n"
     ]
    },
    {
     "name": "stdout",
     "output_type": "stream",
     "text": [
      "epoch: 5, [batch: 632 / 6313], examples_per_second: 4584.2409, train_label_loss: 0.0000, \n"
     ]
    },
    {
     "name": "stdout",
     "output_type": "stream",
     "text": [
      "epoch: 5, [batch: 1263 / 6313], examples_per_second: 4829.3334, train_label_loss: 0.0000, \n"
     ]
    },
    {
     "name": "stdout",
     "output_type": "stream",
     "text": [
      "epoch: 5, [batch: 1894 / 6313], examples_per_second: 4966.0734, train_label_loss: 0.0000, \n"
     ]
    },
    {
     "name": "stdout",
     "output_type": "stream",
     "text": [
      "epoch: 5, [batch: 2525 / 6313], examples_per_second: 4104.3262, train_label_loss: 0.0104, \n"
     ]
    },
    {
     "name": "stdout",
     "output_type": "stream",
     "text": [
      "epoch: 5, [batch: 3157 / 6313], examples_per_second: 3890.0318, train_label_loss: 0.0000, \n"
     ]
    },
    {
     "name": "stdout",
     "output_type": "stream",
     "text": [
      "epoch: 5, [batch: 3788 / 6313], examples_per_second: 3856.8998, train_label_loss: 0.0000, \n"
     ]
    },
    {
     "name": "stdout",
     "output_type": "stream",
     "text": [
      "epoch: 5, [batch: 4419 / 6313], examples_per_second: 3916.8861, train_label_loss: 0.0000, \n"
     ]
    },
    {
     "name": "stdout",
     "output_type": "stream",
     "text": [
      "epoch: 5, [batch: 5050 / 6313], examples_per_second: 3838.5138, train_label_loss: 0.0000, \n"
     ]
    },
    {
     "name": "stdout",
     "output_type": "stream",
     "text": [
      "epoch: 5, [batch: 5681 / 6313], examples_per_second: 4059.8120, train_label_loss: 0.0000, \n"
     ]
    },
    {
     "name": "stdout",
     "output_type": "stream",
     "text": [
      "=============================================================\n",
      "epoch: 5, source_val_acc_label: 0.9995, target_val_acc_label: 0.1684, source_val_label_loss: 0.0082, target_val_label_loss: 3.7746, \n",
      "=============================================================\n"
     ]
    },
    {
     "name": "stdout",
     "output_type": "stream",
     "text": [
      "New best\n"
     ]
    },
    {
     "name": "stdout",
     "output_type": "stream",
     "text": [
      "epoch: 6, [batch: 1 / 6307], examples_per_second: 1.9831, train_label_loss: 0.0000, \n"
     ]
    },
    {
     "name": "stdout",
     "output_type": "stream",
     "text": [
      "epoch: 6, [batch: 631 / 6307], examples_per_second: 3941.7312, train_label_loss: 0.0000, \n"
     ]
    },
    {
     "name": "stdout",
     "output_type": "stream",
     "text": [
      "epoch: 6, [batch: 1262 / 6307], examples_per_second: 3811.1598, train_label_loss: 0.0000, \n"
     ]
    },
    {
     "name": "stdout",
     "output_type": "stream",
     "text": [
      "epoch: 6, [batch: 1892 / 6307], examples_per_second: 3939.9821, train_label_loss: 0.0000, \n"
     ]
    },
    {
     "name": "stdout",
     "output_type": "stream",
     "text": [
      "epoch: 6, [batch: 2523 / 6307], examples_per_second: 3894.9138, train_label_loss: 0.0000, \n"
     ]
    },
    {
     "name": "stdout",
     "output_type": "stream",
     "text": [
      "epoch: 6, [batch: 3154 / 6307], examples_per_second: 3909.7403, train_label_loss: 0.0000, \n"
     ]
    },
    {
     "name": "stdout",
     "output_type": "stream",
     "text": [
      "epoch: 6, [batch: 3784 / 6307], examples_per_second: 3898.8897, train_label_loss: 0.0000, \n"
     ]
    },
    {
     "name": "stdout",
     "output_type": "stream",
     "text": [
      "epoch: 6, [batch: 4415 / 6307], examples_per_second: 3827.3148, train_label_loss: 0.0000, \n"
     ]
    },
    {
     "name": "stdout",
     "output_type": "stream",
     "text": [
      "epoch: 6, [batch: 5045 / 6307], examples_per_second: 3835.7945, train_label_loss: 0.0000, \n"
     ]
    },
    {
     "name": "stdout",
     "output_type": "stream",
     "text": [
      "epoch: 6, [batch: 5676 / 6307], examples_per_second: 3826.7913, train_label_loss: 0.0000, \n"
     ]
    },
    {
     "name": "stdout",
     "output_type": "stream",
     "text": [
      "=============================================================\n",
      "epoch: 6, source_val_acc_label: 0.9993, target_val_acc_label: 0.1608, source_val_label_loss: 0.0073, target_val_label_loss: 4.1006, \n",
      "=============================================================\n"
     ]
    },
    {
     "name": "stdout",
     "output_type": "stream",
     "text": [
      "epoch: 7, [batch: 1 / 6303], examples_per_second: 2.1032, train_label_loss: 0.0006, \n"
     ]
    },
    {
     "name": "stdout",
     "output_type": "stream",
     "text": [
      "epoch: 7, [batch: 631 / 6303], examples_per_second: 3768.9987, train_label_loss: 0.0000, \n"
     ]
    },
    {
     "name": "stdout",
     "output_type": "stream",
     "text": [
      "epoch: 7, [batch: 1261 / 6303], examples_per_second: 3881.2151, train_label_loss: 0.0000, \n"
     ]
    },
    {
     "name": "stdout",
     "output_type": "stream",
     "text": [
      "epoch: 7, [batch: 1891 / 6303], examples_per_second: 3916.2157, train_label_loss: 0.0000, \n"
     ]
    },
    {
     "name": "stdout",
     "output_type": "stream",
     "text": [
      "epoch: 7, [batch: 2521 / 6303], examples_per_second: 3778.0292, train_label_loss: 0.0000, \n"
     ]
    },
    {
     "name": "stdout",
     "output_type": "stream",
     "text": [
      "epoch: 7, [batch: 3152 / 6303], examples_per_second: 3822.9182, train_label_loss: 0.0000, \n"
     ]
    },
    {
     "name": "stdout",
     "output_type": "stream",
     "text": [
      "epoch: 7, [batch: 3782 / 6303], examples_per_second: 3953.3359, train_label_loss: 0.0000, \n"
     ]
    },
    {
     "name": "stdout",
     "output_type": "stream",
     "text": [
      "epoch: 7, [batch: 4412 / 6303], examples_per_second: 3796.9263, train_label_loss: 0.0000, \n"
     ]
    },
    {
     "name": "stdout",
     "output_type": "stream",
     "text": [
      "epoch: 7, [batch: 5042 / 6303], examples_per_second: 3816.4619, train_label_loss: 0.0000, \n"
     ]
    },
    {
     "name": "stdout",
     "output_type": "stream",
     "text": [
      "epoch: 7, [batch: 5672 / 6303], examples_per_second: 3926.1718, train_label_loss: 0.0000, \n"
     ]
    },
    {
     "name": "stdout",
     "output_type": "stream",
     "text": [
      "=============================================================\n",
      "epoch: 7, source_val_acc_label: 0.9961, target_val_acc_label: 0.1546, source_val_label_loss: 0.0278, target_val_label_loss: 3.6035, \n",
      "=============================================================\n"
     ]
    },
    {
     "name": "stdout",
     "output_type": "stream",
     "text": [
      "epoch: 8, [batch: 1 / 6292], examples_per_second: 2.0584, train_label_loss: 0.0000, \n"
     ]
    },
    {
     "name": "stdout",
     "output_type": "stream",
     "text": [
      "epoch: 8, [batch: 630 / 6292], examples_per_second: 3791.6975, train_label_loss: 0.0000, \n"
     ]
    },
    {
     "name": "stdout",
     "output_type": "stream",
     "text": [
      "epoch: 8, [batch: 1259 / 6292], examples_per_second: 3816.7317, train_label_loss: 0.0000, \n"
     ]
    },
    {
     "name": "stdout",
     "output_type": "stream",
     "text": [
      "epoch: 8, [batch: 1888 / 6292], examples_per_second: 3900.8739, train_label_loss: 0.0000, \n"
     ]
    },
    {
     "name": "stdout",
     "output_type": "stream",
     "text": [
      "epoch: 8, [batch: 2517 / 6292], examples_per_second: 3855.2478, train_label_loss: 0.0000, \n"
     ]
    },
    {
     "name": "stdout",
     "output_type": "stream",
     "text": [
      "epoch: 8, [batch: 3146 / 6292], examples_per_second: 3810.2474, train_label_loss: 0.0000, \n"
     ]
    },
    {
     "name": "stdout",
     "output_type": "stream",
     "text": [
      "epoch: 8, [batch: 3775 / 6292], examples_per_second: 3855.5157, train_label_loss: 0.0000, \n"
     ]
    },
    {
     "name": "stdout",
     "output_type": "stream",
     "text": [
      "epoch: 8, [batch: 4404 / 6292], examples_per_second: 4119.0437, train_label_loss: 0.0000, \n"
     ]
    },
    {
     "name": "stdout",
     "output_type": "stream",
     "text": [
      "epoch: 8, [batch: 5033 / 6292], examples_per_second: 4614.5592, train_label_loss: 0.0000, \n"
     ]
    },
    {
     "name": "stdout",
     "output_type": "stream",
     "text": [
      "epoch: 8, [batch: 5662 / 6292], examples_per_second: 4006.6073, train_label_loss: 0.0000, \n"
     ]
    },
    {
     "name": "stdout",
     "output_type": "stream",
     "text": [
      "=============================================================\n",
      "epoch: 8, source_val_acc_label: 0.9992, target_val_acc_label: 0.1471, source_val_label_loss: 0.0153, target_val_label_loss: 4.2507, \n",
      "=============================================================\n"
     ]
    },
    {
     "name": "stdout",
     "output_type": "stream",
     "text": [
      "epoch: 9, [batch: 1 / 6305], examples_per_second: 1.9365, train_label_loss: 0.0000, \n"
     ]
    },
    {
     "name": "stdout",
     "output_type": "stream",
     "text": [
      "epoch: 9, [batch: 631 / 6305], examples_per_second: 3739.7487, train_label_loss: 0.0000, \n"
     ]
    },
    {
     "name": "stdout",
     "output_type": "stream",
     "text": [
      "epoch: 9, [batch: 1261 / 6305], examples_per_second: 3834.5054, train_label_loss: 0.0000, \n"
     ]
    },
    {
     "name": "stdout",
     "output_type": "stream",
     "text": [
      "epoch: 9, [batch: 1892 / 6305], examples_per_second: 4019.3648, train_label_loss: 0.0000, \n"
     ]
    },
    {
     "name": "stdout",
     "output_type": "stream",
     "text": [
      "epoch: 9, [batch: 2522 / 6305], examples_per_second: 4447.7045, train_label_loss: 0.0054, \n"
     ]
    },
    {
     "name": "stdout",
     "output_type": "stream",
     "text": [
      "epoch: 9, [batch: 3153 / 6305], examples_per_second: 4384.6467, train_label_loss: 0.0000, \n"
     ]
    },
    {
     "name": "stdout",
     "output_type": "stream",
     "text": [
      "epoch: 9, [batch: 3783 / 6305], examples_per_second: 4415.0881, train_label_loss: 0.0000, \n"
     ]
    },
    {
     "name": "stdout",
     "output_type": "stream",
     "text": [
      "epoch: 9, [batch: 4413 / 6305], examples_per_second: 4237.4959, train_label_loss: 0.0000, \n"
     ]
    },
    {
     "name": "stdout",
     "output_type": "stream",
     "text": [
      "epoch: 9, [batch: 5044 / 6305], examples_per_second: 4364.7464, train_label_loss: 0.0000, \n"
     ]
    },
    {
     "name": "stdout",
     "output_type": "stream",
     "text": [
      "epoch: 9, [batch: 5674 / 6305], examples_per_second: 4331.1532, train_label_loss: 0.0000, \n"
     ]
    },
    {
     "name": "stdout",
     "output_type": "stream",
     "text": [
      "=============================================================\n",
      "epoch: 9, source_val_acc_label: 0.9996, target_val_acc_label: 0.1644, source_val_label_loss: 0.0078, target_val_label_loss: 4.5937, \n",
      "=============================================================\n"
     ]
    },
    {
     "name": "stdout",
     "output_type": "stream",
     "text": [
      "Patience (3) exhausted\n"
     ]
    }
   ],
   "source": [
    "###################################\n",
    "# train\n",
    "###################################\n",
    "jig = PTN_Train_Eval_Test_Jig(model, p.BEST_MODEL_PATH, p.device)\n",
    "\n",
    "jig.train(\n",
    "    train_iterable=datasets.source.processed.train,\n",
    "    source_val_iterable=datasets.source.processed.val,\n",
    "    target_val_iterable=datasets.target.processed.val,\n",
    "    num_epochs=p.n_epoch,\n",
    "    num_logs_per_epoch=p.NUM_LOGS_PER_EPOCH,\n",
    "    patience=p.patience,\n",
    "    optimizer=optimizer,\n",
    "    criteria_for_best=p.criteria_for_best,\n",
    ")"
   ]
  },
  {
   "cell_type": "code",
   "execution_count": 23,
   "id": "31e8fabf",
   "metadata": {
    "execution": {
     "iopub.execute_input": "2022-03-22T20:39:52.134173Z",
     "iopub.status.busy": "2022-03-22T20:39:52.133617Z",
     "iopub.status.idle": "2022-03-22T20:39:52.166618Z",
     "shell.execute_reply": "2022-03-22T20:39:52.165811Z"
    },
    "papermill": {
     "duration": 0.089909,
     "end_time": "2022-03-22T20:39:52.166772",
     "exception": false,
     "start_time": "2022-03-22T20:39:52.076863",
     "status": "completed"
    },
    "tags": []
   },
   "outputs": [],
   "source": [
    "total_experiment_time_secs = time.time() - start_time_secs"
   ]
  },
  {
   "cell_type": "code",
   "execution_count": 24,
   "id": "87b9595b",
   "metadata": {
    "execution": {
     "iopub.execute_input": "2022-03-22T20:39:52.283836Z",
     "iopub.status.busy": "2022-03-22T20:39:52.283437Z",
     "iopub.status.idle": "2022-03-22T20:47:31.745651Z",
     "shell.execute_reply": "2022-03-22T20:47:31.744769Z"
    },
    "papermill": {
     "duration": 459.523104,
     "end_time": "2022-03-22T20:47:31.745862",
     "exception": false,
     "start_time": "2022-03-22T20:39:52.222758",
     "status": "completed"
    },
    "tags": []
   },
   "outputs": [],
   "source": [
    "###################################\n",
    "# Evaluate the model\n",
    "###################################\n",
    "source_test_label_accuracy, source_test_label_loss = jig.test(datasets.source.processed.test)\n",
    "target_test_label_accuracy, target_test_label_loss = jig.test(datasets.target.processed.test)\n",
    "\n",
    "source_val_label_accuracy, source_val_label_loss = jig.test(datasets.source.processed.val)\n",
    "target_val_label_accuracy, target_val_label_loss = jig.test(datasets.target.processed.val)\n",
    "\n",
    "history = jig.get_history()\n",
    "\n",
    "total_epochs_trained = len(history[\"epoch_indices\"])\n",
    "\n",
    "val_dl = Iterable_Aggregator((datasets.source.original.val,datasets.target.original.val))\n",
    "\n",
    "confusion = ptn_confusion_by_domain_over_dataloader(model, p.device, val_dl)\n",
    "per_domain_accuracy = per_domain_accuracy_from_confusion(confusion)\n",
    "\n",
    "# Add a key to per_domain_accuracy for if it was a source domain\n",
    "for domain, accuracy in per_domain_accuracy.items():\n",
    "    per_domain_accuracy[domain] = {\n",
    "        \"accuracy\": accuracy,\n",
    "        \"source?\": domain in p.domains_source\n",
    "    }\n",
    "\n",
    "# Do an independent accuracy assesment JUST TO BE SURE!\n",
    "# _source_test_label_accuracy = independent_accuracy_assesment(model, datasets.source.processed.test, p.device)\n",
    "# _target_test_label_accuracy = independent_accuracy_assesment(model, datasets.target.processed.test, p.device)\n",
    "# _source_val_label_accuracy = independent_accuracy_assesment(model, datasets.source.processed.val, p.device)\n",
    "# _target_val_label_accuracy = independent_accuracy_assesment(model, datasets.target.processed.val, p.device)\n",
    "\n",
    "# assert(_source_test_label_accuracy == source_test_label_accuracy)\n",
    "# assert(_target_test_label_accuracy == target_test_label_accuracy)\n",
    "# assert(_source_val_label_accuracy == source_val_label_accuracy)\n",
    "# assert(_target_val_label_accuracy == target_val_label_accuracy)\n",
    "\n",
    "experiment = {\n",
    "    \"experiment_name\": p.experiment_name,\n",
    "    \"parameters\": dict(p),\n",
    "    \"results\": {\n",
    "        \"source_test_label_accuracy\": source_test_label_accuracy,\n",
    "        \"source_test_label_loss\": source_test_label_loss,\n",
    "        \"target_test_label_accuracy\": target_test_label_accuracy,\n",
    "        \"target_test_label_loss\": target_test_label_loss,\n",
    "        \"source_val_label_accuracy\": source_val_label_accuracy,\n",
    "        \"source_val_label_loss\": source_val_label_loss,\n",
    "        \"target_val_label_accuracy\": target_val_label_accuracy,\n",
    "        \"target_val_label_loss\": target_val_label_loss,\n",
    "        \"total_epochs_trained\": total_epochs_trained,\n",
    "        \"total_experiment_time_secs\": total_experiment_time_secs,\n",
    "        \"confusion\": confusion,\n",
    "        \"per_domain_accuracy\": per_domain_accuracy,\n",
    "    },\n",
    "    \"history\": history,\n",
    "    \"dataset_metrics\": get_dataset_metrics(datasets, \"ptn\"),\n",
    "}"
   ]
  },
  {
   "cell_type": "code",
   "execution_count": 25,
   "id": "54a21829",
   "metadata": {
    "execution": {
     "iopub.execute_input": "2022-03-22T20:47:31.860987Z",
     "iopub.status.busy": "2022-03-22T20:47:31.860608Z",
     "iopub.status.idle": "2022-03-22T20:47:32.076303Z",
     "shell.execute_reply": "2022-03-22T20:47:32.076997Z"
    },
    "papermill": {
     "duration": 0.272143,
     "end_time": "2022-03-22T20:47:32.077201",
     "exception": false,
     "start_time": "2022-03-22T20:47:31.805058",
     "status": "completed"
    },
    "tags": []
   },
   "outputs": [
    {
     "data": {
      "image/png": "[encoded data removed]",
      "text/plain": [
       "<Figure size 1080x504 with 1 Axes>"
      ]
     },
     "metadata": {
      "needs_background": "light"
     },
     "output_type": "display_data"
    }
   ],
   "source": [
    "ax = get_loss_curve(experiment)\n",
    "plt.show()"
   ]
  },
  {
   "cell_type": "code",
   "execution_count": 26,
   "id": "fd8a0f60",
   "metadata": {
    "execution": {
     "iopub.execute_input": "2022-03-22T20:47:32.188354Z",
     "iopub.status.busy": "2022-03-22T20:47:32.187983Z",
     "iopub.status.idle": "2022-03-22T20:47:32.555370Z",
     "shell.execute_reply": "2022-03-22T20:47:32.556114Z"
    },
    "papermill": {
     "duration": 0.423109,
     "end_time": "2022-03-22T20:47:32.556302",
     "exception": false,
     "start_time": "2022-03-22T20:47:32.133193",
     "status": "completed"
    },
    "tags": []
   },
   "outputs": [
    {
     "data": {
      "text/plain": [
       "<AxesSubplot:title={'center':'Results'}>"
      ]
     },
     "execution_count": 26,
     "metadata": {},
     "output_type": "execute_result"
    },
    {
     "data": {
      "image/png": "[encoded data removed]",
      "text/plain": [
       "<Figure size 1080x504 with 1 Axes>"
      ]
     },
     "metadata": {
      "needs_background": "light"
     },
     "output_type": "display_data"
    }
   ],
   "source": [
    "get_results_table(experiment)"
   ]
  },
  {
   "cell_type": "code",
   "execution_count": 27,
   "id": "cf8dc689",
   "metadata": {
    "execution": {
     "iopub.execute_input": "2022-03-22T20:47:32.671963Z",
     "iopub.status.busy": "2022-03-22T20:47:32.671592Z",
     "iopub.status.idle": "2022-03-22T20:47:32.926757Z",
     "shell.execute_reply": "2022-03-22T20:47:32.927442Z"
    },
    "papermill": {
     "duration": 0.31162,
     "end_time": "2022-03-22T20:47:32.927660",
     "exception": false,
     "start_time": "2022-03-22T20:47:32.616040",
     "status": "completed"
    },
    "tags": []
   },
   "outputs": [
    {
     "data": {
      "text/plain": [
       "<AxesSubplot:title={'center':'Per Domain Validation Accuracy'}, xlabel='domain'>"
      ]
     },
     "execution_count": 27,
     "metadata": {},
     "output_type": "execute_result"
    },
    {
     "data": {
      "image/png": "[encoded data removed]",
      "text/plain": [
       "<Figure size 1080x504 with 1 Axes>"
      ]
     },
     "metadata": {
      "needs_background": "light"
     },
     "output_type": "display_data"
    }
   ],
   "source": [
    "get_domain_accuracies(experiment)"
   ]
  },
  {
   "cell_type": "code",
   "execution_count": 28,
   "id": "a74ae082",
   "metadata": {
    "execution": {
     "iopub.execute_input": "2022-03-22T20:47:33.050237Z",
     "iopub.status.busy": "2022-03-22T20:47:33.049862Z",
     "iopub.status.idle": "2022-03-22T20:47:33.072431Z",
     "shell.execute_reply": "2022-03-22T20:47:33.071707Z"
    },
    "papermill": {
     "duration": 0.081483,
     "end_time": "2022-03-22T20:47:33.072586",
     "exception": false,
     "start_time": "2022-03-22T20:47:32.991103",
     "status": "completed"
    },
    "tags": []
   },
   "outputs": [
    {
     "name": "stdout",
     "output_type": "stream",
     "text": [
      "Source Test Label Accuracy: 0.9993997175141243 Target Test Label Accuracy: 0.16940755208333333\n",
      "Source Val Label Accuracy: 0.9995357142857143 Target Val Label Accuracy: 0.16841145833333335\n"
     ]
    }
   ],
   "source": [
    "print(\"Source Test Label Accuracy:\", experiment[\"results\"][\"source_test_label_accuracy\"], \"Target Test Label Accuracy:\", experiment[\"results\"][\"target_test_label_accuracy\"])\n",
    "print(\"Source Val Label Accuracy:\", experiment[\"results\"][\"source_val_label_accuracy\"], \"Target Val Label Accuracy:\", experiment[\"results\"][\"target_val_label_accuracy\"])"
   ]
  },
  {
   "cell_type": "code",
   "execution_count": 29,
   "id": "dacca602",
   "metadata": {
    "execution": {
     "iopub.execute_input": "2022-03-22T20:47:33.196203Z",
     "iopub.status.busy": "2022-03-22T20:47:33.195829Z",
     "iopub.status.idle": "2022-03-22T20:47:33.217883Z",
     "shell.execute_reply": "2022-03-22T20:47:33.218568Z"
    },
    "papermill": {
     "duration": 0.080942,
     "end_time": "2022-03-22T20:47:33.218757",
     "exception": false,
     "start_time": "2022-03-22T20:47:33.137815",
     "status": "completed"
    },
    "tags": [
     "experiment_json"
    ]
   },
   "outputs": [
    {
     "data": {
      "text/plain": [
       "'{\"experiment_name\": \"tl_1v2:cores-oracle.run1\", \"parameters\": {\"experiment_name\": \"tl_1v2:cores-oracle.run1\", \"device\": \"cuda\", \"lr\": 0.0001, \"n_shot\": 3, \"n_query\": 2, \"train_k_factor\": 3, \"val_k_factor\": 2, \"test_k_factor\": 2, \"torch_default_dtype\": \"torch.float32\", \"n_epoch\": 50, \"patience\": 3, \"criteria_for_best\": \"target_accuracy\", \"x_net\": [{\"class\": \"nnReshape\", \"kargs\": {\"shape\": [-1, 1, 2, 256]}}, {\"class\": \"Conv2d\", \"kargs\": {\"in_channels\": 1, \"out_channels\": 256, \"kernel_size\": [1, 7], \"bias\": false, \"padding\": [0, 3]}}, {\"class\": \"ReLU\", \"kargs\": {\"inplace\": true}}, {\"class\": \"BatchNorm2d\", \"kargs\": {\"num_features\": 256}}, {\"class\": \"Conv2d\", \"kargs\": {\"in_channels\": 256, \"out_channels\": 80, \"kernel_size\": [2, 7], \"bias\": true, \"padding\": [0, 3]}}, {\"class\": \"ReLU\", \"kargs\": {\"inplace\": true}}, {\"class\": \"BatchNorm2d\", \"kargs\": {\"num_features\": 80}}, {\"class\": \"Flatten\", \"kargs\": {}}, {\"class\": \"Linear\", \"kargs\": {\"in_features\": 20480, \"out_features\": 256}}, {\"class\": \"ReLU\", \"kargs\": {\"inplace\": true}}, {\"class\": \"BatchNorm1d\", \"kargs\": {\"num_features\": 256}}, {\"class\": \"Linear\", \"kargs\": {\"in_features\": 256, \"out_features\": 256}}], \"NUM_LOGS_PER_EPOCH\": 10, \"BEST_MODEL_PATH\": \"./best_model.pth\", \"n_way\": 16, \"datasets\": [{\"labels\": [\"1-10.\", \"1-11.\", \"1-15.\", \"1-16.\", \"1-17.\", \"1-18.\", \"1-19.\", \"10-4.\", \"10-7.\", \"11-1.\", \"11-14.\", \"11-17.\", \"11-20.\", \"11-7.\", \"13-20.\", \"13-8.\", \"14-10.\", \"14-11.\", \"14-14.\", \"14-7.\", \"15-1.\", \"15-20.\", \"16-1.\", \"16-16.\", \"17-10.\", \"17-11.\", \"17-2.\", \"19-1.\", \"19-16.\", \"19-19.\", \"19-20.\", \"19-3.\", \"2-10.\", \"2-11.\", \"2-17.\", \"2-18.\", \"2-20.\", \"2-3.\", \"2-4.\", \"2-5.\", \"2-6.\", \"2-7.\", \"2-8.\", \"3-13.\", \"3-18.\", \"3-3.\", \"4-1.\", \"4-10.\", \"4-11.\", \"4-19.\", \"5-5.\", \"6-15.\", \"7-10.\", \"7-14.\", \"8-18.\", \"8-20.\", \"8-3.\", \"8-8.\"], \"domains\": [1, 2, 3, 4, 5], \"num_examples_per_domain_per_label\": -1, \"pickle_path\": \"/root/csc500-main/datasets/cores.stratified_ds.2022A.pkl\", \"source_or_target_dataset\": \"source\", \"x_transforms\": [\"unit_power\"], \"episode_transforms\": [], \"domain_prefix\": \"CORES_\"}, {\"labels\": [\"3123D52\", \"3123D65\", \"3123D79\", \"3123D80\", \"3123D54\", \"3123D70\", \"3123D7B\", \"3123D89\", \"3123D58\", \"3123D76\", \"3123D7D\", \"3123EFE\", \"3123D64\", \"3123D78\", \"3123D7E\", \"3124E4A\"], \"domains\": [32, 38, 8, 44, 14, 50, 20, 26], \"num_examples_per_domain_per_label\": 10000, \"pickle_path\": \"/root/csc500-main/datasets/oracle.Run1_10kExamples_stratified_ds.2022A.pkl\", \"source_or_target_dataset\": \"target\", \"x_transforms\": [\"unit_power\"], \"episode_transforms\": [], \"domain_prefix\": \"ORACLE.run1_\"}], \"dataset_seed\": 7, \"seed\": 7, \"x_shape\": [2, 256], \"domains_source\": [\"CORES_1\", \"CORES_2\", \"CORES_3\", \"CORES_4\", \"CORES_5\"], \"domains_target\": [\"ORACLE.run1_32\", \"ORACLE.run1_38\", \"ORACLE.run1_8\", \"ORACLE.run1_44\", \"ORACLE.run1_14\", \"ORACLE.run1_50\", \"ORACLE.run1_20\", \"ORACLE.run1_26\"]}, \"results\": {\"source_test_label_accuracy\": 0.9993997175141243, \"source_test_label_loss\": 0.007526563946157694, \"target_test_label_accuracy\": 0.16940755208333333, \"target_test_label_loss\": 3.758368492126465, \"source_val_label_accuracy\": 0.9995357142857143, \"source_val_label_loss\": 0.008152246475219727, \"target_val_label_accuracy\": 0.16841145833333335, \"target_val_label_loss\": 3.774580240249634, \"total_epochs_trained\": 9, \"total_experiment_time_secs\": 1883.4429428577423, \"confusion\": {\"CORES_5\": {\"26\": {\"26\": 24}, \"7\": {\"7\": 32}, \"56\": {\"56\": 142}, \"36\": {\"36\": 92}, \"47\": {\"47\": 100}, \"2\": {\"2\": 28}, \"15\": {\"15\": 152}, \"14\": {\"14\": 44}, \"27\": {\"27\": 146}, \"40\": {\"40\": 124}, \"49\": {\"49\": 36}, \"45\": {\"45\": 123, \"9\": 1}, \"46\": {\"46\": 136}, \"11\": {\"11\": 130}, \"30\": {\"30\": 112}, \"0\": {\"0\": 124}, \"10\": {\"10\": 68}, \"1\": {\"1\": 148}, \"42\": {\"42\": 38, \"10\": 1, \"3\": 1}, \"54\": {\"54\": 112}, \"55\": {\"55\": 152}, \"23\": {\"23\": 124}, \"25\": {\"25\": 152}, \"28\": {\"28\": 32}, \"32\": {\"32\": 32}, \"9\": {\"9\": 142}, \"39\": {\"39\": 20}, \"3\": {\"3\": 100}, \"29\": {\"29\": 118}, \"17\": {\"17\": 116}, \"35\": {\"35\": 36}, \"44\": {\"44\": 152}, \"5\": {\"5\": 128}, \"33\": {\"33\": 32}, \"34\": {\"44\": 1, \"34\": 35}, \"13\": {\"13\": 138}, \"41\": {\"41\": 28}, \"6\": {\"6\": 128}, \"51\": {\"51\": 138}, \"50\": {\"50\": 144}, \"37\": {\"37\": 24}, \"19\": {\"19\": 144}, \"57\": {\"57\": 132}, \"21\": {\"21\": 144}, \"24\": {\"24\": 80}, \"8\": {\"8\": 130}, \"12\": {\"12\": 96}, \"48\": {\"48\": 132}, \"43\": {\"43\": 150}, \"53\": {\"53\": 148}, \"38\": {\"38\": 32}, \"16\": {\"16\": 142}, \"22\": {\"22\": 28}, \"4\": {\"4\": 100}, \"18\": {\"18\": 64}, \"20\": {\"20\": 144}, \"52\": {\"52\": 140}, \"31\": {\"31\": 36}}, \"CORES_1\": {\"41\": {\"41\": 24}, \"40\": {\"40\": 110}, \"45\": {\"45\": 138}, \"51\": {\"51\": 148}, \"5\": {\"5\": 154}, \"30\": {\"30\": 120}, \"42\": {\"42\": 40}, \"46\": {\"46\": 136}, \"48\": {\"48\": 134}, \"53\": {\"53\": 144}, \"47\": {\"47\": 152}, \"49\": {\"49\": 32}, \"36\": {\"36\": 64}, \"32\": {\"32\": 32}, \"34\": {\"34\": 24}, \"29\": {\"29\": 140}, \"35\": {\"35\": 36}, \"3\": {\"3\": 134}, \"16\": {\"16\": 140}, \"26\": {\"26\": 24}, \"57\": {\"57\": 144}, \"44\": {\"44\": 128}, \"0\": {\"0\": 152}, \"4\": {\"4\": 132}, \"31\": {\"31\": 28}, \"11\": {\"11\": 140}, \"6\": {\"6\": 96}, \"54\": {\"54\": 104}, \"17\": {\"17\": 64}, \"20\": {\"20\": 128}, \"13\": {\"13\": 150}, \"33\": {\"33\": 32}, \"24\": {\"24\": 108}, \"52\": {\"52\": 132}, \"2\": {\"2\": 36}, \"19\": {\"19\": 156}, \"39\": {\"39\": 28}, \"8\": {\"8\": 140}, \"21\": {\"21\": 124}, \"10\": {\"10\": 95, \"22\": 1}, \"37\": {\"37\": 32}, \"25\": {\"25\": 144}, \"27\": {\"27\": 130}, \"23\": {\"23\": 136}, \"1\": {\"1\": 100}, \"50\": {\"50\": 152}, \"12\": {\"12\": 116}, \"18\": {\"18\": 72}, \"38\": {\"38\": 24}, \"14\": {\"14\": 24}, \"56\": {\"56\": 140, \"29\": 2}, \"55\": {\"55\": 160}, \"9\": {\"9\": 138}, \"15\": {\"15\": 146}, \"28\": {\"28\": 28}, \"7\": {\"7\": 28}, \"43\": {\"43\": 136}, \"22\": {\"22\": 136}}, \"CORES_3\": {\"1\": {\"1\": 100}, \"9\": {\"9\": 124}, \"22\": {\"22\": 136}, \"43\": {\"43\": 136}, \"49\": {\"49\": 20}, \"50\": {\"50\": 138}, \"53\": {\"53\": 136}, \"10\": {\"10\": 64}, \"48\": {\"48\": 116}, \"8\": {\"8\": 138}, \"31\": {\"31\": 28}, \"56\": {\"56\": 134}, \"25\": {\"25\": 142}, \"28\": {\"28\": 28}, \"38\": {\"38\": 28}, \"5\": {\"5\": 116}, \"12\": {\"12\": 92}, \"6\": {\"6\": 88}, \"19\": {\"19\": 152}, \"26\": {\"26\": 24}, \"32\": {\"32\": 28}, \"33\": {\"33\": 28}, \"3\": {\"3\": 118}, \"51\": {\"51\": 128}, \"16\": {\"16\": 138}, \"46\": {\"46\": 140}, \"7\": {\"7\": 36}, \"47\": {\"47\": 91, \"22\": 1}, \"39\": {\"39\": 16}, \"40\": {\"40\": 136}, \"14\": {\"14\": 40}, \"37\": {\"37\": 28}, \"2\": {\"2\": 32}, \"21\": {\"21\": 120}, \"35\": {\"35\": 28}, \"54\": {\"54\": 100}, \"52\": {\"52\": 116}, \"29\": {\"29\": 118}, \"20\": {\"20\": 132}, \"18\": {\"18\": 84}, \"11\": {\"11\": 142}, \"0\": {\"0\": 124}, \"36\": {\"36\": 100}, \"17\": {\"17\": 108}, \"30\": {\"30\": 114}, \"42\": {\"42\": 28}, \"45\": {\"45\": 60}, \"4\": {\"4\": 148}, \"23\": {\"23\": 134}, \"13\": {\"13\": 128}, \"15\": {\"15\": 128}, \"57\": {\"57\": 124}, \"27\": {\"27\": 134}, \"44\": {\"44\": 88}, \"34\": {\"34\": 32}, \"41\": {\"41\": 28}, \"24\": {\"24\": 104}, \"55\": {\"55\": 118}}, \"CORES_4\": {\"52\": {\"52\": 116}, \"6\": {\"6\": 112}, \"14\": {\"14\": 16}, \"49\": {\"49\": 20}, \"0\": {\"0\": 80}, \"46\": {\"46\": 156}, \"41\": {\"41\": 36}, \"24\": {\"24\": 56}, \"25\": {\"25\": 152}, \"40\": {\"40\": 138}, \"38\": {\"38\": 40}, \"13\": {\"13\": 152}, \"9\": {\"9\": 108}, \"45\": {\"45\": 96}, \"43\": {\"43\": 144}, \"10\": {\"10\": 130}, \"15\": {\"15\": 127, \"11\": 1}, \"39\": {\"39\": 20}, \"4\": {\"4\": 132}, \"53\": {\"53\": 132}, \"1\": {\"1\": 40}, \"28\": {\"28\": 32}, \"54\": {\"54\": 108}, \"21\": {\"21\": 132}, \"7\": {\"7\": 24}, \"8\": {\"8\": 136}, \"42\": {\"42\": 32}, \"11\": {\"11\": 104}, \"33\": {\"33\": 36}, \"27\": {\"27\": 142}, \"19\": {\"19\": 144}, \"2\": {\"2\": 36}, \"3\": {\"3\": 118, \"53\": 2}, \"57\": {\"57\": 100}, \"20\": {\"20\": 112}, \"23\": {\"23\": 128}, \"22\": {\"22\": 128}, \"29\": {\"29\": 123, \"40\": 1}, \"36\": {\"36\": 92}, \"51\": {\"51\": 132}, \"31\": {\"31\": 28}, \"12\": {\"12\": 92}, \"56\": {\"56\": 138}, \"5\": {\"5\": 108}, \"35\": {\"35\": 40}, \"17\": {\"17\": 80}, \"32\": {\"32\": 24}, \"47\": {\"47\": 120}, \"18\": {\"18\": 107, \"3\": 1}, \"26\": {\"26\": 24}, \"50\": {\"50\": 122}, \"55\": {\"55\": 124}, \"34\": {\"34\": 24}, \"30\": {\"30\": 44}, \"37\": {\"37\": 24}, \"44\": {\"44\": 132}, \"48\": {\"48\": 118}, \"16\": {\"16\": 96}}, \"CORES_2\": {\"11\": {\"11\": 130}, \"21\": {\"21\": 120}, \"19\": {\"19\": 140}, \"20\": {\"20\": 128}, \"9\": {\"9\": 140}, \"10\": {\"10\": 112}, \"37\": {\"37\": 36}, \"32\": {\"32\": 28}, \"3\": {\"3\": 92}, \"39\": {\"39\": 28}, \"45\": {\"45\": 128}, \"50\": {\"50\": 136}, \"40\": {\"40\": 140}, \"46\": {\"46\": 128}, \"12\": {\"12\": 92}, \"13\": {\"13\": 116}, \"47\": {\"47\": 132}, \"15\": {\"15\": 142}, \"54\": {\"54\": 108}, \"48\": {\"48\": 148}, \"23\": {\"23\": 142}, \"29\": {\"29\": 128}, \"38\": {\"38\": 20}, \"53\": {\"53\": 136}, \"27\": {\"27\": 150}, \"43\": {\"43\": 144}, \"35\": {\"35\": 32}, \"0\": {\"0\": 48}, \"52\": {\"52\": 124}, \"8\": {\"8\": 128}, \"24\": {\"24\": 96}, \"18\": {\"18\": 48}, \"25\": {\"25\": 148}, \"57\": {\"57\": 136}, \"55\": {\"55\": 134}, \"36\": {\"36\": 116}, \"17\": {\"17\": 104}, \"2\": {\"2\": 32}, \"34\": {\"34\": 28}, \"1\": {\"1\": 112}, \"51\": {\"51\": 136}, \"31\": {\"31\": 28}, \"49\": {\"49\": 24}, \"14\": {\"14\": 24}, \"33\": {\"33\": 28}, \"41\": {\"41\": 20}, \"28\": {\"28\": 28}, \"5\": {\"5\": 120}, \"16\": {\"16\": 150}, \"4\": {\"4\": 128}, \"22\": {\"22\": 136}, \"6\": {\"6\": 118}, \"30\": {\"30\": 124}, \"26\": {\"26\": 24}, \"56\": {\"56\": 142}, \"42\": {\"42\": 36}, \"44\": {\"44\": 100}, \"7\": {\"7\": 36}}, \"ORACLE.run1_26\": {\"0\": {\"4\": 111, \"0\": 83, \"1\": 97, \"5\": 65, \"3\": 85, \"9\": 77, \"10\": 91, \"8\": 81, \"6\": 91, \"15\": 70, \"2\": 68, \"7\": 92, \"13\": 40, \"12\": 52, \"14\": 72, \"11\": 25}, \"4\": {\"6\": 78, \"1\": 91, \"0\": 114, \"10\": 85, \"9\": 77, \"15\": 58, \"7\": 98, \"8\": 98, \"2\": 72, \"14\": 90, \"4\": 93, \"3\": 88, \"5\": 54, \"13\": 48, \"12\": 40, \"11\": 16}, \"14\": {\"4\": 92, \"8\": 84, \"0\": 101, \"7\": 84, \"12\": 50, \"14\": 121, \"10\": 90, \"2\": 69, \"9\": 69, \"1\": 103, \"3\": 82, \"5\": 41, \"15\": 71, \"6\": 81, \"13\": 45, \"11\": 17}, \"12\": {\"5\": 40, \"12\": 329, \"13\": 82, \"11\": 198, \"15\": 52, \"4\": 42, \"8\": 47, \"6\": 97, \"9\": 57, \"1\": 33, \"14\": 52, \"0\": 49, \"10\": 63, \"2\": 21, \"3\": 12, \"7\": 26}, \"8\": {\"9\": 74, \"4\": 89, \"15\": 78, \"0\": 69, \"14\": 75, \"13\": 70, \"5\": 71, \"3\": 83, \"2\": 93, \"1\": 74, \"7\": 75, \"6\": 102, \"8\": 73, \"11\": 30, \"10\": 88, \"12\": 56}, \"7\": {\"0\": 82, \"13\": 50, \"4\": 86, \"5\": 70, \"8\": 89, \"3\": 116, \"15\": 90, \"2\": 103, \"11\": 7, \"6\": 57, \"1\": 97, \"9\": 69, \"14\": 91, \"10\": 72, \"7\": 95, \"12\": 26}, \"13\": {\"7\": 59, \"2\": 96, \"13\": 129, \"0\": 59, \"6\": 65, \"4\": 48, \"5\": 112, \"3\": 57, \"9\": 96, \"11\": 83, \"14\": 54, \"15\": 104, \"1\": 42, \"12\": 72, \"10\": 46, \"8\": 78}, \"5\": {\"9\": 93, \"3\": 90, \"2\": 97, \"1\": 53, \"14\": 60, \"5\": 110, \"6\": 78, \"15\": 104, \"4\": 65, \"10\": 60, \"7\": 82, \"8\": 76, \"13\": 99, \"0\": 52, \"12\": 40, \"11\": 41}, \"15\": {\"8\": 77, \"2\": 75, \"5\": 71, \"3\": 77, \"12\": 56, \"13\": 90, \"4\": 83, \"11\": 53, \"9\": 69, \"7\": 86, \"6\": 98, \"1\": 68, \"0\": 84, \"15\": 82, \"10\": 73, \"14\": 58}, \"10\": {\"6\": 78, \"3\": 67, \"1\": 93, \"8\": 89, \"4\": 92, \"10\": 93, \"7\": 70, \"5\": 52, \"15\": 86, \"2\": 51, \"13\": 57, \"0\": 95, \"14\": 89, \"12\": 71, \"9\": 84, \"11\": 33}, \"3\": {\"13\": 54, \"9\": 84, \"3\": 148, \"4\": 95, \"1\": 77, \"2\": 105, \"7\": 99, \"15\": 76, \"14\": 83, \"6\": 52, \"0\": 76, \"5\": 68, \"10\": 72, \"8\": 79, \"12\": 12, \"11\": 20}, \"9\": {\"0\": 79, \"2\": 78, \"13\": 75, \"4\": 74, \"9\": 94, \"14\": 81, \"6\": 81, \"11\": 40, \"12\": 49, \"8\": 82, \"10\": 73, \"5\": 86, \"3\": 82, \"7\": 74, \"15\": 78, \"1\": 74}, \"6\": {\"14\": 73, \"2\": 54, \"9\": 84, \"10\": 83, \"3\": 42, \"15\": 84, \"4\": 69, \"7\": 53, \"8\": 87, \"11\": 79, \"5\": 68, \"1\": 64, \"6\": 109, \"13\": 77, \"0\": 91, \"12\": 83}, \"1\": {\"6\": 67, \"8\": 68, \"0\": 99, \"13\": 37, \"15\": 61, \"11\": 17, \"3\": 111, \"12\": 42, \"1\": 120, \"9\": 57, \"2\": 64, \"7\": 99, \"14\": 108, \"10\": 91, \"5\": 57, \"4\": 102}, \"11\": {\"8\": 31, \"7\": 13, \"11\": 505, \"12\": 261, \"15\": 43, \"1\": 10, \"4\": 13, \"6\": 54, \"3\": 12, \"13\": 83, \"2\": 26, \"9\": 38, \"10\": 39, \"5\": 35, \"0\": 21, \"14\": 16}, \"2\": {\"8\": 82, \"14\": 60, \"15\": 80, \"1\": 76, \"7\": 93, \"4\": 71, \"3\": 124, \"5\": 94, \"9\": 91, \"2\": 120, \"0\": 76, \"10\": 60, \"13\": 74, \"12\": 23, \"6\": 60, \"11\": 16}}, \"ORACLE.run1_44\": {\"1\": {\"1\": 235, \"3\": 152, \"2\": 134, \"11\": 23, \"7\": 103, \"12\": 235, \"4\": 6, \"10\": 194, \"9\": 54, \"6\": 40, \"13\": 20, \"14\": 4}, \"11\": {\"6\": 159, \"11\": 381, \"13\": 216, \"10\": 8, \"9\": 115, \"5\": 21, \"4\": 69, \"7\": 94, \"2\": 39, \"3\": 13, \"1\": 7, \"14\": 58, \"8\": 2, \"15\": 9, \"12\": 6, \"0\": 3}, \"3\": {\"3\": 233, \"2\": 132, \"12\": 175, \"11\": 20, \"10\": 140, \"9\": 79, \"7\": 99, \"14\": 10, \"1\": 208, \"4\": 13, \"13\": 45, \"6\": 39, \"8\": 2, \"15\": 3, \"0\": 2}, \"6\": {\"12\": 15, \"6\": 239, \"7\": 145, \"11\": 152, \"13\": 200, \"2\": 119, \"3\": 37, \"4\": 36, \"1\": 33, \"9\": 163, \"14\": 16, \"10\": 40, \"5\": 2, \"15\": 2, \"8\": 1}, \"7\": {\"6\": 135, \"9\": 141, \"7\": 176, \"2\": 160, \"1\": 72, \"11\": 83, \"10\": 83, \"13\": 129, \"3\": 103, \"12\": 68, \"14\": 14, \"4\": 29, \"15\": 4, \"0\": 1, \"5\": 2}, \"5\": {\"0\": 187, \"4\": 112, \"8\": 196, \"5\": 266, \"15\": 177, \"14\": 205, \"13\": 22, \"6\": 4, \"7\": 3, \"11\": 14, \"9\": 11, \"2\": 2, \"3\": 1}, \"2\": {\"13\": 63, \"14\": 2, \"12\": 127, \"2\": 176, \"10\": 165, \"7\": 141, \"6\": 123, \"3\": 103, \"1\": 146, \"9\": 108, \"4\": 3, \"11\": 42, \"15\": 1}, \"15\": {\"5\": 189, \"15\": 234, \"8\": 193, \"14\": 170, \"0\": 173, \"4\": 144, \"11\": 15, \"6\": 9, \"13\": 24, \"1\": 8, \"10\": 1, \"9\": 21, \"12\": 1, \"3\": 8, \"2\": 2, \"7\": 8}, \"10\": {\"10\": 298, \"12\": 272, \"2\": 175, \"1\": 184, \"3\": 106, \"7\": 74, \"11\": 11, \"6\": 26, \"9\": 38, \"13\": 15, \"4\": 1}, \"13\": {\"3\": 29, \"4\": 124, \"6\": 163, \"7\": 104, \"9\": 156, \"14\": 46, \"11\": 217, \"13\": 232, \"2\": 63, \"5\": 14, \"1\": 16, \"10\": 12, \"15\": 11, \"0\": 8, \"8\": 1, \"12\": 4}, \"8\": {\"8\": 338, \"5\": 199, \"4\": 53, \"0\": 316, \"15\": 191, \"14\": 99, \"3\": 1, \"7\": 1, \"9\": 1, \"13\": 1}, \"4\": {\"15\": 118, \"6\": 47, \"5\": 105, \"13\": 117, \"9\": 78, \"7\": 45, \"14\": 208, \"3\": 15, \"4\": 253, \"0\": 80, \"8\": 44, \"11\": 79, \"2\": 7, \"12\": 2, \"1\": 2}, \"9\": {\"3\": 86, \"7\": 129, \"2\": 117, \"6\": 163, \"9\": 175, \"13\": 158, \"4\": 47, \"11\": 131, \"14\": 40, \"5\": 5, \"10\": 62, \"12\": 32, \"1\": 46, \"0\": 1, \"15\": 7, \"8\": 1}, \"14\": {\"14\": 211, \"13\": 61, \"6\": 18, \"5\": 127, \"11\": 57, \"7\": 26, \"0\": 146, \"8\": 86, \"15\": 167, \"4\": 230, \"9\": 56, \"3\": 7, \"2\": 4, \"10\": 1, \"1\": 2, \"12\": 1}, \"0\": {\"5\": 194, \"8\": 303, \"0\": 261, \"4\": 90, \"14\": 111, \"15\": 219, \"9\": 4, \"11\": 6, \"13\": 7, \"6\": 2, \"7\": 2, \"3\": 1}, \"12\": {\"10\": 253, \"12\": 309, \"13\": 9, \"7\": 67, \"1\": 218, \"3\": 149, \"6\": 21, \"9\": 31, \"2\": 136, \"14\": 1, \"11\": 5, \"4\": 1}}, \"ORACLE.run1_50\": {\"15\": {\"0\": 36, \"9\": 78, \"4\": 121, \"1\": 132, \"11\": 145, \"5\": 61, \"7\": 49, \"15\": 213, \"14\": 90, \"6\": 117, \"13\": 68, \"2\": 30, \"12\": 36, \"8\": 6, \"10\": 15, \"3\": 3}, \"4\": {\"10\": 64, \"4\": 137, \"7\": 97, \"15\": 144, \"8\": 16, \"0\": 40, \"6\": 119, \"5\": 95, \"14\": 52, \"11\": 88, \"12\": 31, \"13\": 85, \"1\": 136, \"3\": 16, \"9\": 41, \"2\": 39}, \"6\": {\"7\": 106, \"0\": 55, \"5\": 115, \"6\": 142, \"1\": 129, \"12\": 24, \"10\": 59, \"14\": 54, \"11\": 55, \"3\": 16, \"4\": 104, \"15\": 132, \"13\": 98, \"2\": 56, \"9\": 34, \"8\": 21}, \"2\": {\"2\": 206, \"12\": 36, \"13\": 76, \"14\": 104, \"1\": 63, \"0\": 191, \"10\": 104, \"6\": 67, \"7\": 60, \"5\": 68, \"4\": 44, \"3\": 24, \"15\": 43, \"8\": 63, \"9\": 22, \"11\": 29}, \"5\": {\"5\": 126, \"8\": 63, \"7\": 141, \"6\": 95, \"1\": 80, \"10\": 115, \"15\": 66, \"4\": 116, \"11\": 37, \"3\": 37, \"13\": 127, \"2\": 62, \"0\": 66, \"9\": 21, \"14\": 33, \"12\": 15}, \"9\": {\"14\": 135, \"12\": 242, \"15\": 93, \"9\": 337, \"11\": 209, \"6\": 23, \"0\": 11, \"4\": 46, \"5\": 9, \"1\": 55, \"2\": 19, \"13\": 11, \"10\": 5, \"7\": 5}, \"8\": {\"8\": 267, \"10\": 164, \"3\": 306, \"2\": 76, \"7\": 90, \"0\": 131, \"5\": 54, \"13\": 59, \"4\": 18, \"6\": 27, \"1\": 4, \"11\": 1, \"15\": 2, \"14\": 1}, \"12\": {\"14\": 187, \"4\": 38, \"12\": 327, \"11\": 166, \"5\": 12, \"9\": 284, \"6\": 16, \"2\": 41, \"15\": 47, \"0\": 11, \"1\": 62, \"13\": 4, \"10\": 2, \"8\": 1, \"7\": 2}, \"10\": {\"10\": 171, \"0\": 127, \"8\": 167, \"2\": 85, \"7\": 115, \"13\": 110, \"4\": 45, \"5\": 96, \"3\": 122, \"6\": 71, \"14\": 17, \"1\": 34, \"15\": 29, \"9\": 3, \"11\": 5, \"12\": 3}, \"1\": {\"7\": 68, \"1\": 146, \"0\": 57, \"11\": 100, \"6\": 118, \"4\": 120, \"9\": 71, \"13\": 102, \"5\": 86, \"14\": 69, \"15\": 133, \"10\": 40, \"2\": 47, \"12\": 29, \"8\": 13, \"3\": 1}, \"0\": {\"0\": 187, \"10\": 123, \"2\": 163, \"13\": 102, \"11\": 13, \"4\": 46, \"8\": 126, \"1\": 67, \"5\": 71, \"7\": 85, \"3\": 63, \"6\": 60, \"15\": 29, \"14\": 44, \"12\": 13, \"9\": 8}, \"3\": {\"10\": 124, \"3\": 537, \"8\": 279, \"2\": 27, \"5\": 33, \"0\": 56, \"7\": 78, \"13\": 38, \"4\": 12, \"6\": 9, \"14\": 1, \"15\": 4, \"1\": 2}, \"13\": {\"15\": 81, \"7\": 128, \"5\": 137, \"13\": 137, \"1\": 85, \"0\": 74, \"6\": 107, \"4\": 111, \"2\": 52, \"10\": 111, \"8\": 59, \"14\": 29, \"12\": 7, \"11\": 25, \"3\": 48, \"9\": 9}, \"11\": {\"13\": 22, \"14\": 133, \"9\": 224, \"11\": 256, \"15\": 123, \"10\": 12, \"12\": 123, \"4\": 78, \"1\": 94, \"6\": 49, \"0\": 15, \"5\": 32, \"7\": 12, \"2\": 26, \"8\": 1}, \"7\": {\"5\": 121, \"10\": 121, \"3\": 66, \"13\": 137, \"2\": 52, \"6\": 109, \"7\": 164, \"15\": 65, \"8\": 82, \"1\": 73, \"11\": 15, \"4\": 92, \"9\": 8, \"0\": 67, \"12\": 8, \"14\": 20}, \"14\": {\"11\": 140, \"12\": 190, \"0\": 44, \"14\": 174, \"2\": 89, \"9\": 157, \"7\": 29, \"1\": 88, \"6\": 66, \"13\": 23, \"15\": 97, \"4\": 64, \"10\": 9, \"5\": 24, \"8\": 6}}, \"ORACLE.run1_38\": {\"15\": {\"1\": 167, \"8\": 90, \"6\": 63, \"0\": 67, \"15\": 141, \"2\": 97, \"7\": 44, \"10\": 110, \"11\": 49, \"13\": 141, \"5\": 80, \"14\": 66, \"12\": 27, \"9\": 34, \"3\": 14, \"4\": 10}, \"11\": {\"6\": 2, \"11\": 356, \"8\": 29, \"14\": 291, \"2\": 183, \"7\": 16, \"12\": 63, \"15\": 43, \"13\": 67, \"4\": 42, \"10\": 78, \"1\": 18, \"5\": 6, \"0\": 6}, \"10\": {\"0\": 96, \"5\": 70, \"1\": 67, \"13\": 100, \"12\": 84, \"15\": 107, \"10\": 145, \"11\": 81, \"4\": 57, \"2\": 87, \"8\": 95, \"9\": 13, \"7\": 75, \"14\": 87, \"6\": 24, \"3\": 12}, \"14\": {\"11\": 271, \"10\": 92, \"12\": 88, \"14\": 274, \"8\": 35, \"2\": 190, \"13\": 70, \"5\": 20, \"1\": 32, \"4\": 30, \"15\": 67, \"7\": 12, \"9\": 2, \"0\": 14, \"6\": 3}, \"6\": {\"15\": 62, \"7\": 82, \"9\": 220, \"5\": 122, \"3\": 158, \"8\": 76, \"6\": 210, \"1\": 83, \"13\": 51, \"2\": 6, \"4\": 7, \"10\": 32, \"0\": 83, \"12\": 5, \"14\": 2, \"11\": 1}, \"4\": {\"10\": 83, \"12\": 264, \"7\": 100, \"5\": 32, \"0\": 87, \"4\": 425, \"3\": 15, \"8\": 52, \"11\": 43, \"1\": 5, \"15\": 21, \"14\": 50, \"9\": 6, \"6\": 5, \"13\": 9, \"2\": 3}, \"13\": {\"6\": 59, \"1\": 155, \"5\": 68, \"15\": 155, \"13\": 163, \"10\": 102, \"14\": 80, \"0\": 48, \"2\": 136, \"8\": 83, \"11\": 59, \"4\": 7, \"7\": 31, \"12\": 16, \"9\": 30, \"3\": 8}, \"3\": {\"9\": 211, \"3\": 448, \"13\": 7, \"6\": 153, \"7\": 106, \"0\": 97, \"8\": 51, \"5\": 66, \"12\": 3, \"1\": 21, \"10\": 11, \"4\": 14, \"15\": 10, \"14\": 1, \"2\": 1}, \"7\": {\"5\": 132, \"9\": 68, \"0\": 149, \"7\": 194, \"8\": 107, \"6\": 72, \"11\": 11, \"14\": 17, \"3\": 126, \"10\": 66, \"15\": 42, \"4\": 65, \"12\": 56, \"2\": 13, \"13\": 40, \"1\": 42}, \"8\": {\"2\": 41, \"1\": 77, \"4\": 38, \"13\": 71, \"9\": 63, \"7\": 120, \"5\": 100, \"8\": 138, \"0\": 128, \"10\": 104, \"15\": 97, \"12\": 57, \"3\": 43, \"6\": 77, \"14\": 31, \"11\": 15}, \"1\": {\"8\": 86, \"6\": 93, \"1\": 196, \"5\": 85, \"13\": 158, \"15\": 153, \"10\": 69, \"2\": 84, \"0\": 72, \"14\": 33, \"3\": 21, \"9\": 74, \"7\": 36, \"12\": 19, \"11\": 17, \"4\": 4}, \"5\": {\"13\": 71, \"3\": 74, \"1\": 86, \"0\": 129, \"6\": 116, \"5\": 110, \"4\": 29, \"7\": 137, \"9\": 91, \"15\": 92, \"10\": 76, \"12\": 31, \"8\": 104, \"2\": 27, \"14\": 20, \"11\": 7}, \"0\": {\"15\": 67, \"1\": 48, \"7\": 161, \"3\": 114, \"10\": 70, \"0\": 158, \"5\": 98, \"6\": 91, \"9\": 76, \"13\": 46, \"12\": 66, \"4\": 52, \"8\": 114, \"14\": 16, \"2\": 17, \"11\": 6}, \"2\": {\"13\": 148, \"11\": 164, \"8\": 30, \"2\": 276, \"10\": 91, \"1\": 89, \"14\": 202, \"15\": 107, \"12\": 27, \"7\": 15, \"0\": 18, \"6\": 7, \"5\": 19, \"3\": 2, \"4\": 5}, \"12\": {\"8\": 64, \"4\": 246, \"12\": 338, \"11\": 69, \"7\": 66, \"15\": 36, \"10\": 101, \"14\": 101, \"0\": 89, \"5\": 46, \"2\": 14, \"3\": 7, \"13\": 14, \"6\": 3, \"9\": 2, \"1\": 4}, \"9\": {\"9\": 266, \"6\": 215, \"3\": 244, \"7\": 83, \"5\": 93, \"13\": 30, \"1\": 73, \"15\": 34, \"8\": 67, \"0\": 65, \"10\": 16, \"4\": 6, \"12\": 2, \"2\": 4, \"14\": 1, \"11\": 1}}, \"ORACLE.run1_20\": {\"10\": {\"9\": 64, \"13\": 42, \"4\": 100, \"15\": 58, \"10\": 103, \"1\": 47, \"8\": 114, \"6\": 117, \"7\": 76, \"0\": 53, \"14\": 131, \"3\": 61, \"5\": 72, \"12\": 50, \"2\": 60, \"11\": 52}, \"7\": {\"10\": 82, \"8\": 102, \"11\": 90, \"15\": 57, \"14\": 90, \"7\": 82, \"5\": 61, \"12\": 60, \"6\": 87, \"0\": 72, \"2\": 74, \"1\": 57, \"9\": 93, \"4\": 64, \"3\": 62, \"13\": 67}, \"4\": {\"8\": 90, \"3\": 89, \"10\": 94, \"15\": 60, \"1\": 75, \"6\": 87, \"13\": 60, \"0\": 81, \"12\": 72, \"9\": 75, \"5\": 73, \"14\": 83, \"7\": 66, \"2\": 65, \"4\": 91, \"11\": 39}, \"13\": {\"2\": 91, \"4\": 59, \"11\": 84, \"0\": 96, \"15\": 87, \"13\": 105, \"12\": 69, \"7\": 72, \"3\": 77, \"9\": 87, \"6\": 49, \"5\": 75, \"14\": 45, \"1\": 93, \"10\": 43, \"8\": 68}, \"1\": {\"6\": 43, \"3\": 84, \"9\": 85, \"11\": 43, \"8\": 84, \"15\": 106, \"5\": 100, \"2\": 57, \"1\": 118, \"4\": 74, \"13\": 83, \"0\": 107, \"7\": 61, \"10\": 43, \"12\": 69, \"14\": 43}, \"0\": {\"8\": 77, \"15\": 109, \"0\": 102, \"10\": 57, \"12\": 83, \"4\": 68, \"6\": 55, \"9\": 64, \"14\": 60, \"7\": 74, \"3\": 75, \"13\": 76, \"5\": 87, \"1\": 117, \"2\": 63, \"11\": 33}, \"12\": {\"5\": 86, \"3\": 92, \"12\": 82, \"2\": 75, \"14\": 40, \"0\": 106, \"13\": 78, \"11\": 51, \"15\": 95, \"9\": 79, \"4\": 77, \"6\": 51, \"7\": 70, \"8\": 57, \"10\": 69, \"1\": 92}, \"5\": {\"0\": 101, \"3\": 79, \"11\": 44, \"14\": 63, \"10\": 67, \"12\": 76, \"9\": 63, \"5\": 90, \"4\": 94, \"8\": 64, \"2\": 67, \"6\": 62, \"1\": 91, \"15\": 101, \"7\": 61, \"13\": 77}, \"6\": {\"3\": 55, \"10\": 108, \"7\": 112, \"6\": 128, \"0\": 53, \"14\": 165, \"15\": 40, \"5\": 43, \"9\": 64, \"1\": 37, \"13\": 42, \"8\": 95, \"11\": 105, \"12\": 46, \"2\": 48, \"4\": 59}, \"2\": {\"7\": 84, \"13\": 90, \"9\": 88, \"2\": 74, \"14\": 63, \"12\": 74, \"11\": 71, \"15\": 85, \"4\": 57, \"0\": 86, \"5\": 89, \"3\": 75, \"1\": 81, \"6\": 71, \"10\": 54, \"8\": 58}, \"8\": {\"2\": 70, \"1\": 60, \"4\": 87, \"13\": 54, \"12\": 76, \"0\": 59, \"6\": 103, \"11\": 62, \"5\": 74, \"14\": 101, \"10\": 99, \"8\": 86, \"9\": 74, \"3\": 61, \"7\": 88, \"15\": 46}, \"11\": {\"9\": 77, \"13\": 80, \"7\": 101, \"6\": 91, \"15\": 42, \"14\": 95, \"5\": 36, \"10\": 72, \"11\": 212, \"4\": 44, \"12\": 46, \"3\": 47, \"1\": 49, \"2\": 100, \"8\": 58, \"0\": 50}, \"9\": {\"6\": 52, \"8\": 67, \"0\": 79, \"1\": 92, \"12\": 86, \"10\": 68, \"15\": 81, \"11\": 79, \"3\": 87, \"9\": 87, \"14\": 57, \"4\": 64, \"13\": 76, \"2\": 76, \"7\": 75, \"5\": 74}, \"14\": {\"1\": 43, \"2\": 53, \"13\": 43, \"8\": 121, \"4\": 89, \"11\": 87, \"14\": 140, \"6\": 157, \"12\": 46, \"9\": 50, \"5\": 57, \"7\": 78, \"15\": 39, \"0\": 44, \"10\": 100, \"3\": 53}, \"15\": {\"3\": 75, \"6\": 30, \"15\": 103, \"1\": 120, \"7\": 66, \"14\": 26, \"10\": 53, \"5\": 90, \"11\": 42, \"12\": 89, \"4\": 59, \"2\": 89, \"0\": 111, \"9\": 90, \"13\": 102, \"8\": 55}, \"3\": {\"6\": 78, \"3\": 86, \"1\": 73, \"0\": 84, \"10\": 62, \"2\": 73, \"4\": 74, \"14\": 62, \"5\": 83, \"9\": 90, \"15\": 86, \"7\": 72, \"8\": 75, \"13\": 79, \"11\": 46, \"12\": 77}}, \"ORACLE.run1_14\": {\"14\": {\"2\": 127, \"6\": 137, \"13\": 126, \"5\": 82, \"10\": 93, \"14\": 132, \"3\": 79, \"11\": 70, \"4\": 81, \"0\": 83, \"1\": 72, \"8\": 21, \"7\": 34, \"15\": 29, \"9\": 23, \"12\": 11}, \"0\": {\"8\": 72, \"11\": 157, \"2\": 50, \"7\": 12, \"14\": 95, \"1\": 52, \"6\": 58, \"10\": 132, \"12\": 58, \"4\": 47, \"0\": 151, \"9\": 120, \"3\": 95, \"13\": 61, \"5\": 35, \"15\": 5}, \"4\": {\"8\": 64, \"13\": 85, \"14\": 64, \"7\": 72, \"9\": 22, \"4\": 111, \"3\": 106, \"6\": 101, \"10\": 79, \"0\": 73, \"5\": 102, \"2\": 113, \"11\": 35, \"1\": 107, \"15\": 61, \"12\": 5}, \"11\": {\"3\": 69, \"0\": 150, \"12\": 147, \"10\": 133, \"14\": 67, \"11\": 226, \"2\": 36, \"13\": 39, \"9\": 160, \"8\": 59, \"6\": 42, \"5\": 18, \"4\": 37, \"1\": 15, \"15\": 1, \"7\": 1}, \"13\": {\"10\": 78, \"4\": 81, \"5\": 102, \"3\": 90, \"13\": 150, \"1\": 65, \"15\": 73, \"11\": 46, \"14\": 141, \"6\": 146, \"7\": 41, \"2\": 108, \"8\": 17, \"0\": 47, \"9\": 10, \"12\": 5}, \"9\": {\"3\": 47, \"11\": 195, \"10\": 107, \"0\": 134, \"12\": 270, \"2\": 19, \"9\": 233, \"8\": 112, \"6\": 11, \"5\": 7, \"13\": 9, \"1\": 17, \"4\": 19, \"14\": 18, \"15\": 2}, \"3\": {\"10\": 109, \"4\": 90, \"2\": 89, \"12\": 19, \"1\": 81, \"13\": 86, \"3\": 96, \"14\": 105, \"0\": 111, \"11\": 81, \"9\": 42, \"8\": 68, \"6\": 93, \"5\": 70, \"7\": 27, \"15\": 33}, \"6\": {\"0\": 47, \"8\": 17, \"5\": 99, \"6\": 160, \"14\": 122, \"4\": 96, \"15\": 62, \"13\": 148, \"11\": 34, \"1\": 66, \"10\": 66, \"3\": 91, \"7\": 48, \"2\": 131, \"9\": 8, \"12\": 5}, \"1\": {\"7\": 119, \"4\": 116, \"5\": 122, \"1\": 142, \"6\": 72, \"3\": 96, \"11\": 17, \"10\": 45, \"15\": 109, \"14\": 52, \"13\": 68, \"2\": 78, \"9\": 21, \"8\": 82, \"12\": 2, \"0\": 59}, \"5\": {\"14\": 72, \"7\": 130, \"0\": 58, \"15\": 115, \"1\": 115, \"6\": 91, \"2\": 109, \"4\": 98, \"13\": 83, \"5\": 122, \"3\": 78, \"11\": 16, \"10\": 44, \"9\": 15, \"8\": 51, \"12\": 3}, \"12\": {\"10\": 53, \"12\": 511, \"11\": 148, \"9\": 320, \"0\": 63, \"3\": 20, \"8\": 64, \"4\": 7, \"13\": 2, \"14\": 4, \"6\": 3, \"2\": 1, \"5\": 2, \"1\": 2}, \"10\": {\"11\": 155, \"4\": 61, \"14\": 99, \"10\": 169, \"0\": 144, \"13\": 67, \"5\": 31, \"1\": 33, \"2\": 56, \"12\": 61, \"9\": 107, \"8\": 50, \"3\": 87, \"15\": 6, \"6\": 63, \"7\": 11}, \"8\": {\"9\": 118, \"3\": 85, \"12\": 82, \"8\": 253, \"5\": 67, \"4\": 75, \"0\": 103, \"13\": 20, \"7\": 54, \"10\": 66, \"1\": 117, \"11\": 69, \"6\": 20, \"15\": 19, \"14\": 24, \"2\": 28}, \"7\": {\"5\": 119, \"7\": 312, \"6\": 47, \"15\": 327, \"3\": 23, \"4\": 66, \"2\": 75, \"0\": 14, \"1\": 132, \"13\": 34, \"9\": 2, \"8\": 24, \"10\": 7, \"14\": 16, \"11\": 2}, \"15\": {\"7\": 295, \"15\": 329, \"6\": 55, \"2\": 91, \"1\": 100, \"8\": 13, \"13\": 61, \"5\": 104, \"14\": 32, \"3\": 30, \"4\": 74, \"11\": 4, \"10\": 5, \"0\": 7}, \"2\": {\"7\": 68, \"15\": 94, \"1\": 72, \"13\": 121, \"0\": 59, \"3\": 93, \"4\": 87, \"10\": 66, \"2\": 124, \"14\": 119, \"6\": 118, \"5\": 103, \"8\": 28, \"9\": 11, \"11\": 34, \"12\": 3}}, \"ORACLE.run1_32\": {\"11\": {\"14\": 203, \"7\": 145, \"11\": 245, \"3\": 121, \"5\": 110, \"9\": 3, \"13\": 94, \"8\": 69, \"4\": 74, \"0\": 61, \"2\": 46, \"15\": 29}, \"1\": {\"1\": 567, \"10\": 391, \"6\": 185, \"12\": 51, \"9\": 6}, \"2\": {\"12\": 10, \"4\": 157, \"8\": 101, \"14\": 83, \"5\": 98, \"2\": 219, \"13\": 86, \"7\": 110, \"0\": 138, \"3\": 29, \"9\": 85, \"11\": 59, \"15\": 25}, \"0\": {\"2\": 142, \"15\": 66, \"5\": 114, \"13\": 102, \"8\": 148, \"11\": 67, \"3\": 53, \"0\": 161, \"12\": 5, \"9\": 42, \"4\": 133, \"14\": 67, \"7\": 100}, \"3\": {\"15\": 85, \"14\": 102, \"11\": 141, \"3\": 264, \"0\": 41, \"5\": 116, \"8\": 125, \"13\": 159, \"7\": 82, \"2\": 21, \"4\": 64}, \"8\": {\"15\": 130, \"13\": 101, \"8\": 173, \"2\": 82, \"14\": 84, \"4\": 111, \"11\": 71, \"0\": 135, \"7\": 97, \"5\": 111, \"3\": 96, \"12\": 2, \"9\": 7}, \"12\": {\"6\": 183, \"10\": 125, \"9\": 332, \"12\": 509, \"13\": 2, \"4\": 2, \"1\": 31, \"5\": 1, \"14\": 1, \"2\": 8, \"0\": 4, \"15\": 2}, \"5\": {\"0\": 89, \"15\": 70, \"3\": 147, \"4\": 94, \"13\": 138, \"7\": 102, \"5\": 133, \"14\": 117, \"11\": 106, \"8\": 111, \"2\": 82, \"9\": 11}, \"15\": {\"15\": 486, \"4\": 48, \"8\": 192, \"5\": 56, \"3\": 145, \"13\": 94, \"0\": 52, \"2\": 24, \"7\": 46, \"14\": 26, \"11\": 26, \"9\": 5}, \"7\": {\"4\": 115, \"13\": 108, \"5\": 117, \"14\": 132, \"2\": 114, \"11\": 145, \"9\": 16, \"8\": 107, \"7\": 115, \"15\": 27, \"3\": 106, \"0\": 98}, \"4\": {\"11\": 60, \"8\": 123, \"14\": 104, \"7\": 98, \"4\": 162, \"13\": 105, \"2\": 144, \"0\": 145, \"5\": 128, \"15\": 33, \"9\": 30, \"3\": 66, \"12\": 1, \"6\": 1}, \"14\": {\"11\": 178, \"4\": 102, \"3\": 126, \"5\": 118, \"14\": 172, \"7\": 130, \"13\": 107, \"0\": 73, \"2\": 67, \"8\": 96, \"15\": 25, \"9\": 6}, \"10\": {\"10\": 447, \"12\": 159, \"9\": 27, \"1\": 342, \"6\": 225}, \"6\": {\"12\": 185, \"6\": 514, \"10\": 213, \"1\": 212, \"9\": 74, \"2\": 1, \"5\": 1}, \"13\": {\"15\": 86, \"5\": 134, \"3\": 133, \"2\": 89, \"8\": 132, \"13\": 137, \"0\": 94, \"4\": 123, \"7\": 96, \"14\": 82, \"11\": 89, \"9\": 5}, \"9\": {\"12\": 299, \"9\": 557, \"8\": 11, \"6\": 76, \"10\": 9, \"2\": 99, \"0\": 56, \"1\": 5, \"15\": 11, \"4\": 40, \"13\": 17, \"5\": 8, \"7\": 8, \"14\": 3, \"11\": 1}}, \"ORACLE.run1_8\": {\"9\": {\"14\": 61, \"9\": 596, \"0\": 54, \"5\": 156, \"4\": 43, \"6\": 27, \"13\": 57, \"1\": 42, \"11\": 26, \"15\": 4, \"10\": 95, \"8\": 7, \"7\": 22, \"3\": 2, \"2\": 6, \"12\": 2}, \"11\": {\"1\": 127, \"9\": 34, \"4\": 83, \"8\": 86, \"5\": 113, \"10\": 89, \"12\": 45, \"6\": 81, \"7\": 68, \"15\": 62, \"13\": 74, \"3\": 48, \"0\": 54, \"2\": 33, \"14\": 82, \"11\": 121}, \"8\": {\"7\": 72, \"12\": 118, \"8\": 108, \"2\": 76, \"5\": 45, \"6\": 84, \"3\": 110, \"14\": 78, \"4\": 68, \"11\": 66, \"1\": 85, \"9\": 12, \"10\": 61, \"15\": 113, \"13\": 58, \"0\": 46}, \"4\": {\"10\": 94, \"0\": 108, \"13\": 89, \"7\": 81, \"14\": 90, \"6\": 78, \"8\": 54, \"15\": 53, \"1\": 97, \"12\": 49, \"2\": 68, \"9\": 29, \"5\": 85, \"4\": 83, \"3\": 51, \"11\": 91}, \"13\": {\"6\": 75, \"7\": 65, \"5\": 98, \"1\": 83, \"4\": 99, \"13\": 102, \"9\": 39, \"11\": 79, \"14\": 85, \"12\": 45, \"8\": 73, \"2\": 58, \"0\": 85, \"10\": 101, \"3\": 46, \"15\": 67}, \"14\": {\"7\": 80, \"9\": 60, \"5\": 104, \"1\": 79, \"12\": 47, \"14\": 80, \"4\": 99, \"6\": 85, \"13\": 90, \"0\": 86, \"10\": 99, \"15\": 53, \"8\": 52, \"3\": 42, \"2\": 56, \"11\": 88}, \"2\": {\"2\": 143, \"10\": 46, \"9\": 6, \"12\": 153, \"6\": 77, \"4\": 59, \"11\": 42, \"3\": 157, \"0\": 61, \"1\": 28, \"8\": 87, \"13\": 60, \"15\": 116, \"5\": 24, \"7\": 85, \"14\": 56}, \"3\": {\"0\": 51, \"12\": 166, \"3\": 204, \"13\": 50, \"7\": 74, \"15\": 125, \"2\": 169, \"6\": 78, \"10\": 31, \"8\": 84, \"14\": 35, \"4\": 45, \"11\": 41, \"9\": 3, \"1\": 30, \"5\": 14}, \"1\": {\"12\": 43, \"2\": 36, \"6\": 66, \"7\": 60, \"15\": 57, \"5\": 126, \"11\": 136, \"13\": 84, \"4\": 91, \"10\": 90, \"8\": 74, \"1\": 118, \"14\": 95, \"9\": 36, \"3\": 33, \"0\": 55}, \"0\": {\"6\": 104, \"14\": 96, \"4\": 74, \"15\": 54, \"0\": 109, \"2\": 77, \"7\": 77, \"11\": 57, \"5\": 71, \"8\": 65, \"3\": 66, \"10\": 95, \"1\": 70, \"12\": 50, \"13\": 95, \"9\": 40}, \"5\": {\"0\": 76, \"1\": 123, \"9\": 104, \"11\": 91, \"5\": 151, \"14\": 98, \"8\": 56, \"12\": 31, \"13\": 96, \"6\": 58, \"10\": 108, \"3\": 15, \"2\": 30, \"4\": 81, \"15\": 34, \"7\": 48}, \"15\": {\"8\": 111, \"12\": 169, \"2\": 108, \"13\": 42, \"3\": 132, \"7\": 82, \"15\": 138, \"11\": 60, \"10\": 44, \"5\": 31, \"4\": 68, \"1\": 38, \"14\": 58, \"6\": 68, \"0\": 50, \"9\": 1}, \"10\": {\"1\": 107, \"6\": 72, \"9\": 83, \"0\": 80, \"5\": 116, \"10\": 106, \"13\": 107, \"11\": 62, \"8\": 63, \"3\": 33, \"7\": 77, \"14\": 97, \"12\": 33, \"2\": 41, \"4\": 85, \"15\": 38}, \"12\": {\"6\": 72, \"3\": 173, \"15\": 155, \"1\": 49, \"10\": 26, \"12\": 181, \"4\": 44, \"8\": 127, \"2\": 126, \"14\": 35, \"13\": 37, \"7\": 73, \"11\": 38, \"0\": 42, \"5\": 21, \"9\": 1}, \"6\": {\"8\": 88, \"0\": 73, \"10\": 78, \"5\": 76, \"13\": 89, \"2\": 72, \"4\": 72, \"7\": 82, \"6\": 82, \"11\": 68, \"3\": 83, \"9\": 27, \"14\": 95, \"1\": 73, \"12\": 70, \"15\": 72}, \"7\": {\"15\": 83, \"10\": 64, \"3\": 91, \"11\": 78, \"12\": 80, \"14\": 67, \"1\": 58, \"2\": 111, \"6\": 79, \"4\": 82, \"0\": 78, \"13\": 86, \"8\": 76, \"7\": 89, \"5\": 60, \"9\": 18}}}, \"per_domain_accuracy\": {\"CORES_5\": {\"accuracy\": 0.9993016759776536, \"source?\": true}, \"CORES_1\": {\"accuracy\": 0.9994904891304348, \"source?\": true}, \"CORES_3\": {\"accuracy\": 0.9998161764705882, \"source?\": true}, \"CORES_4\": {\"accuracy\": 0.999058734939759, \"source?\": true}, \"CORES_2\": {\"accuracy\": 1.0, \"source?\": true}, \"ORACLE.run1_26\": {\"accuracy\": 0.12, \"source?\": false}, \"ORACLE.run1_44\": {\"accuracy\": 0.20921875, \"source?\": false}, \"ORACLE.run1_50\": {\"accuracy\": 0.18369791666666666, \"source?\": false}, \"ORACLE.run1_38\": {\"accuracy\": 0.19989583333333333, \"source?\": false}, \"ORACLE.run1_20\": {\"accuracy\": 0.08796875, \"source?\": false}, \"ORACLE.run1_14\": {\"accuracy\": 0.16776041666666666, \"source?\": false}, \"ORACLE.run1_32\": {\"accuracy\": 0.25317708333333333, \"source?\": false}, \"ORACLE.run1_8\": {\"accuracy\": 0.12557291666666667, \"source?\": false}}}, \"history\": {\"epoch_indices\": [1, 2, 3, 4, 5, 6, 7, 8, 9], \"train_label_loss\": [0.02482282913056777, 0.006964238827707394, 0.005098477220140582, 0.0035528834735699595, 0.0029362525477836412, 0.003477260956240525, 0.0033033646799947715, 0.002241277784751728, 0.002637416814540555], \"source_val_label_loss\": [0.006630427204072475, 0.007477003149688244, 0.007948325015604496, 0.008390198461711407, 0.008152246475219727, 0.00732874171808362, 0.027783887460827827, 0.015273423865437508, 0.007820374332368374], \"target_val_label_loss\": [2.7126858234405518, 2.9835433959960938, 3.089301824569702, 3.6629886627197266, 3.774580240249634, 4.100601673126221, 3.603503465652466, 4.250740051269531, 4.593660831451416], \"source_val_acc_label\": [0.9988214285714285, 0.9994285714285714, 0.9991071428571429, 0.9992142857142857, 0.9995357142857143, 0.9993214285714286, 0.9961428571428571, 0.99925, 0.9995714285714286], \"target_val_acc_label\": [0.1412109375, 0.14931640625, 0.16640625, 0.15877604166666667, 0.16841145833333335, 0.16077473958333333, 0.15458333333333332, 0.14712239583333334, 0.16435546875]}, \"dataset_metrics\": {\"source\": {\"train\": {\"n_unique_x\": 175192, \"n_unique_y\": 58, \"n_batch/episode\": 6298}, \"val\": {\"n_unique_x\": 37151, \"n_unique_y\": 58, \"n_batch/episode\": 875}, \"test\": {\"n_unique_x\": 37548, \"n_unique_y\": 58, \"n_batch/episode\": 885}}, \"target\": {\"train\": {\"n_unique_x\": 896000, \"n_unique_y\": 16, \"n_batch/episode\": 33600}, \"val\": {\"n_unique_x\": 192000, \"n_unique_y\": 16, \"n_batch/episode\": 4800}, \"test\": {\"n_unique_x\": 192000, \"n_unique_y\": 16, \"n_batch/episode\": 4800}}}}'"
      ]
     },
     "execution_count": 29,
     "metadata": {},
     "output_type": "execute_result"
    }
   ],
   "source": [
    "json.dumps(experiment)"
   ]
  }
 ],
 "metadata": {
  "celltoolbar": "Tags",
  "kernelspec": {
   "display_name": "Python 3 (ipykernel)",
   "language": "python",
   "name": "python3"
  },
  "language_info": {
   "codemirror_mode": {
    "name": "ipython",
    "version": 3
   },
   "file_extension": ".py",
   "mimetype": "text/x-python",
   "name": "python",
   "nbconvert_exporter": "python",
   "pygments_lexer": "ipython3",
   "version": "3.8.12"
  },
  "papermill": {
   "default_parameters": {},
   "duration": 2351.708859,
   "end_time": "2022-03-22T20:47:36.902401",
   "environment_variables": {},
   "exception": null,
   "input_path": "/root/csc500-main/csc500-notebooks/templates/tl_ptn_template.ipynb",
   "output_path": "trial.ipynb",
   "parameters": {
    "parameters": {
     "BEST_MODEL_PATH": "./best_model.pth",
     "NUM_LOGS_PER_EPOCH": 10,
     "criteria_for_best": "target_accuracy",
     "dataset_seed": 7,
     "datasets": [
      {
       "domain_prefix": "CORES_",
       "domains": [
        1,
        2,
        3,
        4,
        5
       ],
       "episode_transforms": [],
       "labels": [
        "1-10.",
        "1-11.",
        "1-15.",
        "1-16.",
        "1-17.",
        "1-18.",
        "1-19.",
        "10-4.",
        "10-7.",
        "11-1.",
        "11-14.",
        "11-17.",
        "11-20.",
        "11-7.",
        "13-20.",
        "13-8.",
        "14-10.",
        "14-11.",
        "14-14.",
        "14-7.",
        "15-1.",
        "15-20.",
        "16-1.",
        "16-16.",
        "17-10.",
        "17-11.",
        "17-2.",
        "19-1.",
        "19-16.",
        "19-19.",
        "19-20.",
        "19-3.",
        "2-10.",
        "2-11.",
        "2-17.",
        "2-18.",
        "2-20.",
        "2-3.",
        "2-4.",
        "2-5.",
        "2-6.",
        "2-7.",
        "2-8.",
        "3-13.",
        "3-18.",
        "3-3.",
        "4-1.",
        "4-10.",
        "4-11.",
        "4-19.",
        "5-5.",
        "6-15.",
        "7-10.",
        "7-14.",
        "8-18.",
        "8-20.",
        "8-3.",
        "8-8."
       ],
       "num_examples_per_domain_per_label": -1,
       "pickle_path": "/root/csc500-main/datasets/cores.stratified_ds.2022A.pkl",
       "source_or_target_dataset": "source",
       "x_transforms": [
        "unit_power"
       ]
      },
      {
       "domain_prefix": "ORACLE.run1_",
       "domains": [
        32,
        38,
        8,
        44,
        14,
        50,
        20,
        26
       ],
       "episode_transforms": [],
       "labels": [
        "3123D52",
        "3123D65",
        "3123D79",
        "3123D80",
        "3123D54",
        "3123D70",
        "3123D7B",
        "3123D89",
        "3123D58",
        "3123D76",
        "3123D7D",
        "3123EFE",
        "3123D64",
        "3123D78",
        "3123D7E",
        "3124E4A"
       ],
       "num_examples_per_domain_per_label": 10000,
       "pickle_path": "/root/csc500-main/datasets/oracle.Run1_10kExamples_stratified_ds.2022A.pkl",
       "source_or_target_dataset": "target",
       "x_transforms": [
        "unit_power"
       ]
      }
     ],
     "device": "cuda",
     "experiment_name": "tl_1v2:cores-oracle.run1",
     "lr": 0.0001,
     "n_epoch": 50,
     "n_query": 2,
     "n_shot": 3,
     "n_way": 16,
     "patience": 3,
     "seed": 7,
     "test_k_factor": 2,
     "torch_default_dtype": "torch.float32",
     "train_k_factor": 3,
     "val_k_factor": 2,
     "x_net": [
      {
       "class": "nnReshape",
       "kargs": {
        "shape": [
         -1,
         1,
         2,
         256
        ]
       }
      },
      {
       "class": "Conv2d",
       "kargs": {
        "bias": false,
        "in_channels": 1,
        "kernel_size": [
         1,
         7
        ],
        "out_channels": 256,
        "padding": [
         0,
         3
        ]
       }
      },
      {
       "class": "ReLU",
       "kargs": {
        "inplace": true
       }
      },
      {
       "class": "BatchNorm2d",
       "kargs": {
        "num_features": 256
       }
      },
      {
       "class": "Conv2d",
       "kargs": {
        "bias": true,
        "in_channels": 256,
        "kernel_size": [
         2,
         7
        ],
        "out_channels": 80,
        "padding": [
         0,
         3
        ]
       }
      },
      {
       "class": "ReLU",
       "kargs": {
        "inplace": true
       }
      },
      {
       "class": "BatchNorm2d",
       "kargs": {
        "num_features": 80
       }
      },
      {
       "class": "Flatten",
       "kargs": {}
      },
      {
       "class": "Linear",
       "kargs": {
        "in_features": 20480,
        "out_features": 256
       }
      },
      {
       "class": "ReLU",
       "kargs": {
        "inplace": true
       }
      },
      {
       "class": "BatchNorm1d",
       "kargs": {
        "num_features": 256
       }
      },
      {
       "class": "Linear",
       "kargs": {
        "in_features": 256,
        "out_features": 256
       }
      }
     ]
    }
   },
   "start_time": "2022-03-22T20:08:25.193542",
   "version": "2.3.4"
  }
 },
 "nbformat": 4,
 "nbformat_minor": 5
}