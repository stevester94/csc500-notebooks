{
 "cells": [
  {
   "cell_type": "markdown",
   "id": "9fea5f46",
   "metadata": {
    "papermill": {
     "duration": 0.032949,
     "end_time": "2022-03-22T18:25:13.851707",
     "exception": false,
     "start_time": "2022-03-22T18:25:13.818758",
     "status": "completed"
    },
    "tags": []
   },
   "source": [
    "# Transfer Learning Template"
   ]
  },
  {
   "cell_type": "code",
   "execution_count": 1,
   "id": "0902182a",
   "metadata": {
    "execution": {
     "iopub.execute_input": "2022-03-22T18:25:13.912938Z",
     "iopub.status.busy": "2022-03-22T18:25:13.912077Z",
     "iopub.status.idle": "2022-03-22T18:25:15.726039Z",
     "shell.execute_reply": "2022-03-22T18:25:15.725151Z"
    },
    "papermill": {
     "duration": 1.850751,
     "end_time": "2022-03-22T18:25:15.726225",
     "exception": false,
     "start_time": "2022-03-22T18:25:13.875474",
     "status": "completed"
    },
    "tags": []
   },
   "outputs": [],
   "source": [
    "%load_ext autoreload\n",
    "%autoreload 2\n",
    "%matplotlib inline\n",
    "\n",
    "    \n",
    "import os, json, sys, time, random\n",
    "import numpy as np\n",
    "import torch\n",
    "from torch.optim import Adam\n",
    "from  easydict import EasyDict\n",
    "import matplotlib.pyplot as plt\n",
    "\n",
    "from steves_models.steves_ptn import Steves_Prototypical_Network\n",
    "\n",
    "from steves_utils.lazy_iterable_wrapper import Lazy_Iterable_Wrapper\n",
    "from steves_utils.iterable_aggregator import Iterable_Aggregator\n",
    "from steves_utils.ptn_train_eval_test_jig import  PTN_Train_Eval_Test_Jig\n",
    "from steves_utils.torch_sequential_builder import build_sequential\n",
    "from steves_utils.torch_utils import get_dataset_metrics, ptn_confusion_by_domain_over_dataloader\n",
    "from steves_utils.utils_v2 import (per_domain_accuracy_from_confusion, get_datasets_base_path)\n",
    "from steves_utils.PTN.utils import independent_accuracy_assesment\n",
    "\n",
    "from torch.utils.data import DataLoader\n",
    "\n",
    "from steves_utils.stratified_dataset.episodic_accessor import Episodic_Accessor_Factory\n",
    "\n",
    "from steves_utils.ptn_do_report import (\n",
    "    get_loss_curve,\n",
    "    get_results_table,\n",
    "    get_parameters_table,\n",
    "    get_domain_accuracies,\n",
    ")\n",
    "\n",
    "from steves_utils.transforms import get_chained_transform"
   ]
  },
  {
   "cell_type": "markdown",
   "id": "41c840b4",
   "metadata": {
    "papermill": {
     "duration": 0.035273,
     "end_time": "2022-03-22T18:25:15.789827",
     "exception": false,
     "start_time": "2022-03-22T18:25:15.754554",
     "status": "completed"
    },
    "tags": []
   },
   "source": [
    "# Allowed Parameters\n",
    "These are allowed parameters, not defaults\n",
    "Each of these values need to be present in the injected parameters (the notebook will raise an exception if they are not present)\n",
    "\n",
    "Papermill uses the cell tag \"parameters\" to inject the real parameters below this cell.\n",
    "Enable tags to see what I mean"
   ]
  },
  {
   "cell_type": "code",
   "execution_count": 2,
   "id": "fd44eb83",
   "metadata": {
    "execution": {
     "iopub.execute_input": "2022-03-22T18:25:15.843204Z",
     "iopub.status.busy": "2022-03-22T18:25:15.842518Z",
     "iopub.status.idle": "2022-03-22T18:25:15.862083Z",
     "shell.execute_reply": "2022-03-22T18:25:15.861276Z"
    },
    "papermill": {
     "duration": 0.04266,
     "end_time": "2022-03-22T18:25:15.862236",
     "exception": false,
     "start_time": "2022-03-22T18:25:15.819576",
     "status": "completed"
    },
    "tags": []
   },
   "outputs": [],
   "source": [
    "required_parameters = {\n",
    "    \"experiment_name\",\n",
    "    \"lr\",\n",
    "    \"device\",\n",
    "    \"seed\",\n",
    "    \"dataset_seed\",\n",
    "    \"n_shot\",\n",
    "    \"n_query\",\n",
    "    \"n_way\",\n",
    "    \"train_k_factor\",\n",
    "    \"val_k_factor\",\n",
    "    \"test_k_factor\",\n",
    "    \"n_epoch\",\n",
    "    \"patience\",\n",
    "    \"criteria_for_best\",\n",
    "    \"x_net\",\n",
    "    \"datasets\",\n",
    "    \"torch_default_dtype\",\n",
    "    \"NUM_LOGS_PER_EPOCH\",\n",
    "    \"BEST_MODEL_PATH\",\n",
    "    \"x_shape\",\n",
    "}"
   ]
  },
  {
   "cell_type": "code",
   "execution_count": 3,
   "id": "fa3f0049",
   "metadata": {
    "execution": {
     "iopub.execute_input": "2022-03-22T18:25:15.918151Z",
     "iopub.status.busy": "2022-03-22T18:25:15.917525Z",
     "iopub.status.idle": "2022-03-22T18:25:15.939184Z",
     "shell.execute_reply": "2022-03-22T18:25:15.938479Z"
    },
    "papermill": {
     "duration": 0.051296,
     "end_time": "2022-03-22T18:25:15.939334",
     "exception": false,
     "start_time": "2022-03-22T18:25:15.888038",
     "status": "completed"
    },
    "tags": [
     "parameters"
    ]
   },
   "outputs": [],
   "source": [
    "from steves_utils.CORES.utils import (\n",
    "    ALL_NODES,\n",
    "    ALL_NODES_MINIMUM_1000_EXAMPLES,\n",
    "    ALL_DAYS\n",
    ")\n",
    "\n",
    "from steves_utils.ORACLE.utils_v2 import (\n",
    "    ALL_DISTANCES_FEET_NARROWED,\n",
    "    ALL_RUNS,\n",
    "    ALL_SERIAL_NUMBERS,\n",
    ")\n",
    "\n",
    "standalone_parameters = {}\n",
    "standalone_parameters[\"experiment_name\"] = \"STANDALONE PTN\"\n",
    "standalone_parameters[\"lr\"] = 0.001\n",
    "standalone_parameters[\"device\"] = \"cuda\"\n",
    "\n",
    "standalone_parameters[\"seed\"] = 1337\n",
    "standalone_parameters[\"dataset_seed\"] = 1337\n",
    "\n",
    "standalone_parameters[\"n_way\"] = 8\n",
    "standalone_parameters[\"n_shot\"] = 3\n",
    "standalone_parameters[\"n_query\"]  = 2\n",
    "standalone_parameters[\"train_k_factor\"] = 1\n",
    "standalone_parameters[\"val_k_factor\"] = 2\n",
    "standalone_parameters[\"test_k_factor\"] = 2\n",
    "\n",
    "\n",
    "standalone_parameters[\"n_epoch\"] = 50\n",
    "\n",
    "standalone_parameters[\"patience\"] = 10\n",
    "standalone_parameters[\"criteria_for_best\"] = \"source_loss\"\n",
    "\n",
    "standalone_parameters[\"datasets\"] = [\n",
    "    {\n",
    "        \"labels\": ALL_SERIAL_NUMBERS,\n",
    "        \"domains\": ALL_DISTANCES_FEET_NARROWED,\n",
    "        \"num_examples_per_domain_per_label\": 100,\n",
    "        \"pickle_path\": os.path.join(get_datasets_base_path(), \"oracle.Run1_framed_2000Examples_stratified_ds.2022A.pkl\"),\n",
    "        \"source_or_target_dataset\": \"source\",\n",
    "        \"x_transforms\": [\"unit_mag\", \"minus_two\"],\n",
    "        \"episode_transforms\": [],\n",
    "        \"domain_prefix\": \"ORACLE_\"\n",
    "    },\n",
    "    {\n",
    "        \"labels\": ALL_NODES,\n",
    "        \"domains\": ALL_DAYS,\n",
    "        \"num_examples_per_domain_per_label\": 100,\n",
    "        \"pickle_path\": os.path.join(get_datasets_base_path(), \"cores.stratified_ds.2022A.pkl\"),\n",
    "        \"source_or_target_dataset\": \"target\",\n",
    "        \"x_transforms\": [\"unit_power\", \"times_zero\"],\n",
    "        \"episode_transforms\": [],\n",
    "        \"domain_prefix\": \"CORES_\"\n",
    "    }   \n",
    "]\n",
    "\n",
    "standalone_parameters[\"torch_default_dtype\"] = \"torch.float32\" \n",
    "\n",
    "\n",
    "\n",
    "standalone_parameters[\"x_net\"] =     [\n",
    "    {\"class\": \"nnReshape\", \"kargs\": {\"shape\":[-1, 1, 2, 256]}},\n",
    "    {\"class\": \"Conv2d\", \"kargs\": { \"in_channels\":1, \"out_channels\":256, \"kernel_size\":(1,7), \"bias\":False, \"padding\":(0,3), },},\n",
    "    {\"class\": \"ReLU\", \"kargs\": {\"inplace\": True}},\n",
    "    {\"class\": \"BatchNorm2d\", \"kargs\": {\"num_features\":256}},\n",
    "\n",
    "    {\"class\": \"Conv2d\", \"kargs\": { \"in_channels\":256, \"out_channels\":80, \"kernel_size\":(2,7), \"bias\":True, \"padding\":(0,3), },},\n",
    "    {\"class\": \"ReLU\", \"kargs\": {\"inplace\": True}},\n",
    "    {\"class\": \"BatchNorm2d\", \"kargs\": {\"num_features\":80}},\n",
    "    {\"class\": \"Flatten\", \"kargs\": {}},\n",
    "\n",
    "    {\"class\": \"Linear\", \"kargs\": {\"in_features\": 80*256, \"out_features\": 256}}, # 80 units per IQ pair\n",
    "    {\"class\": \"ReLU\", \"kargs\": {\"inplace\": True}},\n",
    "    {\"class\": \"BatchNorm1d\", \"kargs\": {\"num_features\":256}},\n",
    "\n",
    "    {\"class\": \"Linear\", \"kargs\": {\"in_features\": 256, \"out_features\": 256}},\n",
    "]\n",
    "\n",
    "# Parameters relevant to results\n",
    "# These parameters will basically never need to change\n",
    "standalone_parameters[\"NUM_LOGS_PER_EPOCH\"] = 10\n",
    "standalone_parameters[\"BEST_MODEL_PATH\"] = \"./best_model.pth\"\n",
    "\n",
    "\n",
    "\n",
    "\n"
   ]
  },
  {
   "cell_type": "code",
   "execution_count": 4,
   "id": "e1243c9b",
   "metadata": {
    "execution": {
     "iopub.execute_input": "2022-03-22T18:25:15.998150Z",
     "iopub.status.busy": "2022-03-22T18:25:15.997496Z",
     "iopub.status.idle": "2022-03-22T18:25:16.023187Z",
     "shell.execute_reply": "2022-03-22T18:25:16.022481Z"
    },
    "papermill": {
     "duration": 0.054782,
     "end_time": "2022-03-22T18:25:16.023338",
     "exception": false,
     "start_time": "2022-03-22T18:25:15.968556",
     "status": "completed"
    },
    "tags": [
     "injected-parameters"
    ]
   },
   "outputs": [],
   "source": [
    "# Parameters\n",
    "parameters = {\n",
    "    \"experiment_name\": \"tl_1v2:cores-oracle.run1\",\n",
    "    \"device\": \"cuda\",\n",
    "    \"lr\": 0.0001,\n",
    "    \"n_shot\": 3,\n",
    "    \"n_query\": 2,\n",
    "    \"train_k_factor\": 3,\n",
    "    \"val_k_factor\": 2,\n",
    "    \"test_k_factor\": 2,\n",
    "    \"torch_default_dtype\": \"torch.float32\",\n",
    "    \"n_epoch\": 50,\n",
    "    \"patience\": 3,\n",
    "    \"criteria_for_best\": \"target_accuracy\",\n",
    "    \"x_net\": [\n",
    "        {\"class\": \"nnReshape\", \"kargs\": {\"shape\": [-1, 1, 2, 256]}},\n",
    "        {\n",
    "            \"class\": \"Conv2d\",\n",
    "            \"kargs\": {\n",
    "                \"in_channels\": 1,\n",
    "                \"out_channels\": 256,\n",
    "                \"kernel_size\": [1, 7],\n",
    "                \"bias\": False,\n",
    "                \"padding\": [0, 3],\n",
    "            },\n",
    "        },\n",
    "        {\"class\": \"ReLU\", \"kargs\": {\"inplace\": True}},\n",
    "        {\"class\": \"BatchNorm2d\", \"kargs\": {\"num_features\": 256}},\n",
    "        {\n",
    "            \"class\": \"Conv2d\",\n",
    "            \"kargs\": {\n",
    "                \"in_channels\": 256,\n",
    "                \"out_channels\": 80,\n",
    "                \"kernel_size\": [2, 7],\n",
    "                \"bias\": True,\n",
    "                \"padding\": [0, 3],\n",
    "            },\n",
    "        },\n",
    "        {\"class\": \"ReLU\", \"kargs\": {\"inplace\": True}},\n",
    "        {\"class\": \"BatchNorm2d\", \"kargs\": {\"num_features\": 80}},\n",
    "        {\"class\": \"Flatten\", \"kargs\": {}},\n",
    "        {\"class\": \"Linear\", \"kargs\": {\"in_features\": 20480, \"out_features\": 256}},\n",
    "        {\"class\": \"ReLU\", \"kargs\": {\"inplace\": True}},\n",
    "        {\"class\": \"BatchNorm1d\", \"kargs\": {\"num_features\": 256}},\n",
    "        {\"class\": \"Linear\", \"kargs\": {\"in_features\": 256, \"out_features\": 256}},\n",
    "    ],\n",
    "    \"NUM_LOGS_PER_EPOCH\": 10,\n",
    "    \"BEST_MODEL_PATH\": \"./best_model.pth\",\n",
    "    \"n_way\": 16,\n",
    "    \"datasets\": [\n",
    "        {\n",
    "            \"labels\": [\n",
    "                \"1-10.\",\n",
    "                \"1-11.\",\n",
    "                \"1-15.\",\n",
    "                \"1-16.\",\n",
    "                \"1-17.\",\n",
    "                \"1-18.\",\n",
    "                \"1-19.\",\n",
    "                \"10-4.\",\n",
    "                \"10-7.\",\n",
    "                \"11-1.\",\n",
    "                \"11-14.\",\n",
    "                \"11-17.\",\n",
    "                \"11-20.\",\n",
    "                \"11-7.\",\n",
    "                \"13-20.\",\n",
    "                \"13-8.\",\n",
    "                \"14-10.\",\n",
    "                \"14-11.\",\n",
    "                \"14-14.\",\n",
    "                \"14-7.\",\n",
    "                \"15-1.\",\n",
    "                \"15-20.\",\n",
    "                \"16-1.\",\n",
    "                \"16-16.\",\n",
    "                \"17-10.\",\n",
    "                \"17-11.\",\n",
    "                \"17-2.\",\n",
    "                \"19-1.\",\n",
    "                \"19-16.\",\n",
    "                \"19-19.\",\n",
    "                \"19-20.\",\n",
    "                \"19-3.\",\n",
    "                \"2-10.\",\n",
    "                \"2-11.\",\n",
    "                \"2-17.\",\n",
    "                \"2-18.\",\n",
    "                \"2-20.\",\n",
    "                \"2-3.\",\n",
    "                \"2-4.\",\n",
    "                \"2-5.\",\n",
    "                \"2-6.\",\n",
    "                \"2-7.\",\n",
    "                \"2-8.\",\n",
    "                \"3-13.\",\n",
    "                \"3-18.\",\n",
    "                \"3-3.\",\n",
    "                \"4-1.\",\n",
    "                \"4-10.\",\n",
    "                \"4-11.\",\n",
    "                \"4-19.\",\n",
    "                \"5-5.\",\n",
    "                \"6-15.\",\n",
    "                \"7-10.\",\n",
    "                \"7-14.\",\n",
    "                \"8-18.\",\n",
    "                \"8-20.\",\n",
    "                \"8-3.\",\n",
    "                \"8-8.\",\n",
    "            ],\n",
    "            \"domains\": [1, 2, 3, 4, 5],\n",
    "            \"num_examples_per_domain_per_label\": -1,\n",
    "            \"pickle_path\": \"/root/csc500-main/datasets/cores.stratified_ds.2022A.pkl\",\n",
    "            \"source_or_target_dataset\": \"target\",\n",
    "            \"x_transforms\": [],\n",
    "            \"episode_transforms\": [],\n",
    "            \"domain_prefix\": \"CORES_\",\n",
    "        },\n",
    "        {\n",
    "            \"labels\": [\n",
    "                \"3123D52\",\n",
    "                \"3123D65\",\n",
    "                \"3123D79\",\n",
    "                \"3123D80\",\n",
    "                \"3123D54\",\n",
    "                \"3123D70\",\n",
    "                \"3123D7B\",\n",
    "                \"3123D89\",\n",
    "                \"3123D58\",\n",
    "                \"3123D76\",\n",
    "                \"3123D7D\",\n",
    "                \"3123EFE\",\n",
    "                \"3123D64\",\n",
    "                \"3123D78\",\n",
    "                \"3123D7E\",\n",
    "                \"3124E4A\",\n",
    "            ],\n",
    "            \"domains\": [32, 38, 8, 44, 14, 50, 20, 26],\n",
    "            \"num_examples_per_domain_per_label\": 10000,\n",
    "            \"pickle_path\": \"/root/csc500-main/datasets/oracle.Run1_10kExamples_stratified_ds.2022A.pkl\",\n",
    "            \"source_or_target_dataset\": \"source\",\n",
    "            \"x_transforms\": [],\n",
    "            \"episode_transforms\": [],\n",
    "            \"domain_prefix\": \"ORACLE.run1_\",\n",
    "        },\n",
    "    ],\n",
    "    \"dataset_seed\": 154325,\n",
    "    \"seed\": 154325,\n",
    "}\n"
   ]
  },
  {
   "cell_type": "code",
   "execution_count": 5,
   "id": "8fa1cc33",
   "metadata": {
    "execution": {
     "iopub.execute_input": "2022-03-22T18:25:16.076821Z",
     "iopub.status.busy": "2022-03-22T18:25:16.076440Z",
     "iopub.status.idle": "2022-03-22T18:25:16.094347Z",
     "shell.execute_reply": "2022-03-22T18:25:16.093616Z"
    },
    "papermill": {
     "duration": 0.041408,
     "end_time": "2022-03-22T18:25:16.094497",
     "exception": false,
     "start_time": "2022-03-22T18:25:16.053089",
     "status": "completed"
    },
    "tags": []
   },
   "outputs": [],
   "source": [
    "# Set this to True if you want to run this template directly\n",
    "STANDALONE = False\n",
    "if STANDALONE:\n",
    "    print(\"parameters not injected, running with standalone_parameters\")\n",
    "    parameters = standalone_parameters\n",
    "\n",
    "if not 'parameters' in locals() and not 'parameters' in globals():\n",
    "    raise Exception(\"Parameter injection failed\")\n",
    "\n",
    "#Use an easy dict for all the parameters\n",
    "p = EasyDict(parameters)\n",
    "\n",
    "if \"x_shape\" not in p:\n",
    "    p.x_shape = [2,256] # Default to this if we dont supply x_shape\n",
    "\n",
    "\n",
    "supplied_keys = set(p.keys())\n",
    "\n",
    "if  supplied_keys != required_parameters:\n",
    "    print(\"Parameters are incorrect\")\n",
    "    if len(supplied_keys - required_parameters)>0: print(\"Shouldn't have:\", str(supplied_keys - required_parameters))\n",
    "    if len(required_parameters - supplied_keys)>0: print(\"Need to have:\", str(required_parameters - supplied_keys))\n",
    "    raise RuntimeError(\"Parameters are incorrect\")"
   ]
  },
  {
   "cell_type": "code",
   "execution_count": 6,
   "id": "3a028d58",
   "metadata": {
    "execution": {
     "iopub.execute_input": "2022-03-22T18:25:16.142135Z",
     "iopub.status.busy": "2022-03-22T18:25:16.141584Z",
     "iopub.status.idle": "2022-03-22T18:25:16.158472Z",
     "shell.execute_reply": "2022-03-22T18:25:16.157915Z"
    },
    "papermill": {
     "duration": 0.039195,
     "end_time": "2022-03-22T18:25:16.158577",
     "exception": false,
     "start_time": "2022-03-22T18:25:16.119382",
     "status": "completed"
    },
    "tags": []
   },
   "outputs": [],
   "source": [
    "###################################\n",
    "# Set the RNGs and make it all deterministic\n",
    "###################################\n",
    "np.random.seed(p.seed)\n",
    "random.seed(p.seed)\n",
    "torch.manual_seed(p.seed)\n",
    "\n",
    "torch.use_deterministic_algorithms(True) "
   ]
  },
  {
   "cell_type": "code",
   "execution_count": 7,
   "id": "b691acf6",
   "metadata": {
    "execution": {
     "iopub.execute_input": "2022-03-22T18:25:16.207971Z",
     "iopub.status.busy": "2022-03-22T18:25:16.207598Z",
     "iopub.status.idle": "2022-03-22T18:25:16.232302Z",
     "shell.execute_reply": "2022-03-22T18:25:16.232975Z"
    },
    "papermill": {
     "duration": 0.049155,
     "end_time": "2022-03-22T18:25:16.233156",
     "exception": false,
     "start_time": "2022-03-22T18:25:16.184001",
     "status": "completed"
    },
    "tags": []
   },
   "outputs": [],
   "source": [
    "###########################################\n",
    "# The stratified datasets honor this\n",
    "###########################################\n",
    "torch.set_default_dtype(eval(p.torch_default_dtype))"
   ]
  },
  {
   "cell_type": "code",
   "execution_count": 8,
   "id": "b5fba671",
   "metadata": {
    "execution": {
     "iopub.execute_input": "2022-03-22T18:25:16.283438Z",
     "iopub.status.busy": "2022-03-22T18:25:16.283069Z",
     "iopub.status.idle": "2022-03-22T18:25:16.340446Z",
     "shell.execute_reply": "2022-03-22T18:25:16.339726Z"
    },
    "papermill": {
     "duration": 0.08083,
     "end_time": "2022-03-22T18:25:16.340607",
     "exception": false,
     "start_time": "2022-03-22T18:25:16.259777",
     "status": "completed"
    },
    "tags": []
   },
   "outputs": [],
   "source": [
    "###################################\n",
    "# Build the network(s)\n",
    "# Note: It's critical to do this AFTER setting the RNG\n",
    "###################################\n",
    "x_net = build_sequential(p.x_net)"
   ]
  },
  {
   "cell_type": "code",
   "execution_count": 9,
   "id": "5d7e61cc",
   "metadata": {
    "execution": {
     "iopub.execute_input": "2022-03-22T18:25:16.391411Z",
     "iopub.status.busy": "2022-03-22T18:25:16.391043Z",
     "iopub.status.idle": "2022-03-22T18:25:16.414554Z",
     "shell.execute_reply": "2022-03-22T18:25:16.413794Z"
    },
    "papermill": {
     "duration": 0.046894,
     "end_time": "2022-03-22T18:25:16.414730",
     "exception": false,
     "start_time": "2022-03-22T18:25:16.367836",
     "status": "completed"
    },
    "tags": []
   },
   "outputs": [],
   "source": [
    "start_time_secs = time.time()"
   ]
  },
  {
   "cell_type": "code",
   "execution_count": 10,
   "id": "c6b67dfd",
   "metadata": {
    "execution": {
     "iopub.execute_input": "2022-03-22T18:25:16.464348Z",
     "iopub.status.busy": "2022-03-22T18:25:16.463976Z",
     "iopub.status.idle": "2022-03-22T18:25:16.481481Z",
     "shell.execute_reply": "2022-03-22T18:25:16.480776Z"
    },
    "papermill": {
     "duration": 0.040985,
     "end_time": "2022-03-22T18:25:16.481637",
     "exception": false,
     "start_time": "2022-03-22T18:25:16.440652",
     "status": "completed"
    },
    "tags": []
   },
   "outputs": [],
   "source": [
    "p.domains_source = []\n",
    "p.domains_target = []\n",
    "\n",
    "\n",
    "train_original_source = []\n",
    "val_original_source   = []\n",
    "test_original_source  = []\n",
    "\n",
    "train_original_target = []\n",
    "val_original_target   = []\n",
    "test_original_target  = []"
   ]
  },
  {
   "cell_type": "code",
   "execution_count": 11,
   "id": "e3d9c3d3",
   "metadata": {
    "execution": {
     "iopub.execute_input": "2022-03-22T18:25:16.532790Z",
     "iopub.status.busy": "2022-03-22T18:25:16.532423Z",
     "iopub.status.idle": "2022-03-22T18:25:16.549357Z",
     "shell.execute_reply": "2022-03-22T18:25:16.548593Z"
    },
    "papermill": {
     "duration": 0.039817,
     "end_time": "2022-03-22T18:25:16.549510",
     "exception": false,
     "start_time": "2022-03-22T18:25:16.509693",
     "status": "completed"
    },
    "tags": []
   },
   "outputs": [],
   "source": [
    "# global_x_transform_func = lambda x: normalize(x.to(torch.get_default_dtype()), \"unit_power\") # unit_power, unit_mag\n",
    "# global_x_transform_func = lambda x: normalize(x, \"unit_power\") # unit_power, unit_mag"
   ]
  },
  {
   "cell_type": "code",
   "execution_count": 12,
   "id": "acb78fd2",
   "metadata": {
    "execution": {
     "iopub.execute_input": "2022-03-22T18:25:16.606087Z",
     "iopub.status.busy": "2022-03-22T18:25:16.605465Z",
     "iopub.status.idle": "2022-03-22T18:25:16.623666Z",
     "shell.execute_reply": "2022-03-22T18:25:16.622918Z"
    },
    "papermill": {
     "duration": 0.047891,
     "end_time": "2022-03-22T18:25:16.623853",
     "exception": false,
     "start_time": "2022-03-22T18:25:16.575962",
     "status": "completed"
    },
    "tags": []
   },
   "outputs": [],
   "source": [
    "def add_dataset(\n",
    "    labels,\n",
    "    domains,\n",
    "    pickle_path,\n",
    "    x_transforms,\n",
    "    episode_transforms,\n",
    "    domain_prefix,\n",
    "    num_examples_per_domain_per_label,\n",
    "    source_or_target_dataset:str,\n",
    "    iterator_seed=p.seed,\n",
    "    dataset_seed=p.dataset_seed,\n",
    "    n_shot=p.n_shot,\n",
    "    n_way=p.n_way,\n",
    "    n_query=p.n_query,\n",
    "    train_val_test_k_factors=(p.train_k_factor,p.val_k_factor,p.test_k_factor),\n",
    "):\n",
    "   \n",
    "    if x_transforms == []: x_transform = None\n",
    "    else: x_transform = get_chained_transform(x_transforms)\n",
    "    \n",
    "    if episode_transforms == []: episode_transform = None\n",
    "    else: raise Exception(\"episode_transforms not implemented\")\n",
    "    \n",
    "    episode_transform = lambda tup, _prefix=domain_prefix: (_prefix + str(tup[0]), tup[1])\n",
    "\n",
    "\n",
    "    eaf = Episodic_Accessor_Factory(\n",
    "        labels=labels,\n",
    "        domains=domains,\n",
    "        num_examples_per_domain_per_label=num_examples_per_domain_per_label,\n",
    "        iterator_seed=iterator_seed,\n",
    "        dataset_seed=dataset_seed,\n",
    "        n_shot=n_shot,\n",
    "        n_way=n_way,\n",
    "        n_query=n_query,\n",
    "        train_val_test_k_factors=train_val_test_k_factors,\n",
    "        pickle_path=pickle_path,\n",
    "        x_transform_func=x_transform,\n",
    "    )\n",
    "\n",
    "    train, val, test = eaf.get_train(), eaf.get_val(), eaf.get_test()\n",
    "    train = Lazy_Iterable_Wrapper(train, episode_transform)\n",
    "    val = Lazy_Iterable_Wrapper(val, episode_transform)\n",
    "    test = Lazy_Iterable_Wrapper(test, episode_transform)\n",
    "\n",
    "    if source_or_target_dataset==\"source\":\n",
    "        train_original_source.append(train)\n",
    "        val_original_source.append(val)\n",
    "        test_original_source.append(test)\n",
    "\n",
    "        p.domains_source.extend(\n",
    "            [domain_prefix + str(u) for u in domains]\n",
    "        )\n",
    "    elif source_or_target_dataset==\"target\":\n",
    "        train_original_target.append(train)\n",
    "        val_original_target.append(val)\n",
    "        test_original_target.append(test)\n",
    "        p.domains_target.extend(\n",
    "            [domain_prefix + str(u) for u in domains]\n",
    "        )\n",
    "    else:\n",
    "        raise Exception(f\"invalid source_or_target_dataset: {source_or_target_dataset}\")\n",
    "    "
   ]
  },
  {
   "cell_type": "code",
   "execution_count": 13,
   "id": "fe266617",
   "metadata": {
    "execution": {
     "iopub.execute_input": "2022-03-22T18:25:16.674638Z",
     "iopub.status.busy": "2022-03-22T18:25:16.674272Z",
     "iopub.status.idle": "2022-03-22T18:25:26.753144Z",
     "shell.execute_reply": "2022-03-22T18:25:26.752358Z"
    },
    "papermill": {
     "duration": 10.10214,
     "end_time": "2022-03-22T18:25:26.753336",
     "exception": false,
     "start_time": "2022-03-22T18:25:16.651196",
     "status": "completed"
    },
    "tags": []
   },
   "outputs": [],
   "source": [
    "for ds in p.datasets:\n",
    "    add_dataset(**ds)"
   ]
  },
  {
   "cell_type": "code",
   "execution_count": 14,
   "id": "b90d65ac",
   "metadata": {
    "execution": {
     "iopub.execute_input": "2022-03-22T18:25:26.805976Z",
     "iopub.status.busy": "2022-03-22T18:25:26.805594Z",
     "iopub.status.idle": "2022-03-22T18:25:26.830791Z",
     "shell.execute_reply": "2022-03-22T18:25:26.829701Z"
    },
    "papermill": {
     "duration": 0.049836,
     "end_time": "2022-03-22T18:25:26.831016",
     "exception": false,
     "start_time": "2022-03-22T18:25:26.781180",
     "status": "completed"
    },
    "tags": []
   },
   "outputs": [],
   "source": [
    "# from steves_utils.CORES.utils import (\n",
    "#     ALL_NODES,\n",
    "#     ALL_NODES_MINIMUM_1000_EXAMPLES,\n",
    "#     ALL_DAYS\n",
    "# )\n",
    "\n",
    "# add_dataset(\n",
    "#     labels=ALL_NODES,\n",
    "#     domains = ALL_DAYS,\n",
    "#     num_examples_per_domain_per_label=100,\n",
    "#     pickle_path=os.path.join(get_datasets_base_path(), \"cores.stratified_ds.2022A.pkl\"),\n",
    "#     source_or_target_dataset=\"target\",\n",
    "#     x_transform_func=global_x_transform_func,\n",
    "#     domain_modifier=lambda u: f\"cores_{u}\"\n",
    "# )"
   ]
  },
  {
   "cell_type": "code",
   "execution_count": 15,
   "id": "76db484d",
   "metadata": {
    "execution": {
     "iopub.execute_input": "2022-03-22T18:25:26.881191Z",
     "iopub.status.busy": "2022-03-22T18:25:26.880816Z",
     "iopub.status.idle": "2022-03-22T18:25:26.900806Z",
     "shell.execute_reply": "2022-03-22T18:25:26.900051Z"
    },
    "papermill": {
     "duration": 0.043494,
     "end_time": "2022-03-22T18:25:26.900961",
     "exception": false,
     "start_time": "2022-03-22T18:25:26.857467",
     "status": "completed"
    },
    "tags": []
   },
   "outputs": [],
   "source": [
    "# from steves_utils.ORACLE.utils_v2 import (\n",
    "#     ALL_DISTANCES_FEET,\n",
    "#     ALL_RUNS,\n",
    "#     ALL_SERIAL_NUMBERS,\n",
    "# )\n",
    "\n",
    "\n",
    "# add_dataset(\n",
    "#     labels=ALL_SERIAL_NUMBERS,\n",
    "#     domains = list(set(ALL_DISTANCES_FEET) - {2,62}),\n",
    "#     num_examples_per_domain_per_label=100,\n",
    "#     pickle_path=os.path.join(get_datasets_base_path(), \"oracle.Run2_framed_2000Examples_stratified_ds.2022A.pkl\"),\n",
    "#     source_or_target_dataset=\"source\",\n",
    "#     x_transform_func=global_x_transform_func,\n",
    "#     domain_modifier=lambda u: f\"oracle1_{u}\"\n",
    "# )\n"
   ]
  },
  {
   "cell_type": "code",
   "execution_count": 16,
   "id": "97dea9d2",
   "metadata": {
    "execution": {
     "iopub.execute_input": "2022-03-22T18:25:26.953839Z",
     "iopub.status.busy": "2022-03-22T18:25:26.953469Z",
     "iopub.status.idle": "2022-03-22T18:25:26.971159Z",
     "shell.execute_reply": "2022-03-22T18:25:26.970449Z"
    },
    "papermill": {
     "duration": 0.041,
     "end_time": "2022-03-22T18:25:26.971314",
     "exception": false,
     "start_time": "2022-03-22T18:25:26.930314",
     "status": "completed"
    },
    "tags": []
   },
   "outputs": [],
   "source": [
    "# from steves_utils.ORACLE.utils_v2 import (\n",
    "#     ALL_DISTANCES_FEET,\n",
    "#     ALL_RUNS,\n",
    "#     ALL_SERIAL_NUMBERS,\n",
    "# )\n",
    "\n",
    "\n",
    "# add_dataset(\n",
    "#     labels=ALL_SERIAL_NUMBERS,\n",
    "#     domains = list(set(ALL_DISTANCES_FEET) - {2,62,56}),\n",
    "#     num_examples_per_domain_per_label=100,\n",
    "#     pickle_path=os.path.join(get_datasets_base_path(), \"oracle.Run2_framed_2000Examples_stratified_ds.2022A.pkl\"),\n",
    "#     source_or_target_dataset=\"source\",\n",
    "#     x_transform_func=global_x_transform_func,\n",
    "#     domain_modifier=lambda u: f\"oracle2_{u}\"\n",
    "# )"
   ]
  },
  {
   "cell_type": "code",
   "execution_count": 17,
   "id": "6f289866",
   "metadata": {
    "execution": {
     "iopub.execute_input": "2022-03-22T18:25:27.022434Z",
     "iopub.status.busy": "2022-03-22T18:25:27.022068Z",
     "iopub.status.idle": "2022-03-22T18:25:27.042802Z",
     "shell.execute_reply": "2022-03-22T18:25:27.042088Z"
    },
    "papermill": {
     "duration": 0.04363,
     "end_time": "2022-03-22T18:25:27.042958",
     "exception": false,
     "start_time": "2022-03-22T18:25:26.999328",
     "status": "completed"
    },
    "tags": []
   },
   "outputs": [],
   "source": [
    "# add_dataset(\n",
    "#     labels=list(range(19)),\n",
    "#     domains = [0,1,2],\n",
    "#     num_examples_per_domain_per_label=100,\n",
    "#     pickle_path=os.path.join(get_datasets_base_path(), \"metehan.stratified_ds.2022A.pkl\"),\n",
    "#     source_or_target_dataset=\"target\",\n",
    "#     x_transform_func=global_x_transform_func,\n",
    "#     domain_modifier=lambda u: f\"met_{u}\"\n",
    "# )"
   ]
  },
  {
   "cell_type": "code",
   "execution_count": 18,
   "id": "86a863c3",
   "metadata": {
    "execution": {
     "iopub.execute_input": "2022-03-22T18:25:27.092822Z",
     "iopub.status.busy": "2022-03-22T18:25:27.092454Z",
     "iopub.status.idle": "2022-03-22T18:25:27.117746Z",
     "shell.execute_reply": "2022-03-22T18:25:27.118415Z"
    },
    "papermill": {
     "duration": 0.048985,
     "end_time": "2022-03-22T18:25:27.118595",
     "exception": false,
     "start_time": "2022-03-22T18:25:27.069610",
     "status": "completed"
    },
    "tags": []
   },
   "outputs": [],
   "source": [
    "# # from steves_utils.wisig.utils import (\n",
    "# #     ALL_NODES_MINIMUM_100_EXAMPLES,\n",
    "# #     ALL_NODES_MINIMUM_500_EXAMPLES,\n",
    "# #     ALL_NODES_MINIMUM_1000_EXAMPLES,\n",
    "# #     ALL_DAYS\n",
    "# # )\n",
    "\n",
    "# import steves_utils.wisig.utils as wisig\n",
    "\n",
    "\n",
    "# add_dataset(\n",
    "#     labels=wisig.ALL_NODES_MINIMUM_100_EXAMPLES,\n",
    "#     domains = wisig.ALL_DAYS,\n",
    "#     num_examples_per_domain_per_label=100,\n",
    "#     pickle_path=os.path.join(get_datasets_base_path(), \"wisig.node3-19.stratified_ds.2022A.pkl\"),\n",
    "#     source_or_target_dataset=\"target\",\n",
    "#     x_transform_func=global_x_transform_func,\n",
    "#     domain_modifier=lambda u: f\"wisig_{u}\"\n",
    "# )"
   ]
  },
  {
   "cell_type": "code",
   "execution_count": 19,
   "id": "fd5442bc",
   "metadata": {
    "execution": {
     "iopub.execute_input": "2022-03-22T18:25:27.173077Z",
     "iopub.status.busy": "2022-03-22T18:25:27.172692Z",
     "iopub.status.idle": "2022-03-22T18:25:27.193375Z",
     "shell.execute_reply": "2022-03-22T18:25:27.192670Z"
    },
    "papermill": {
     "duration": 0.048283,
     "end_time": "2022-03-22T18:25:27.193530",
     "exception": false,
     "start_time": "2022-03-22T18:25:27.145247",
     "status": "completed"
    },
    "tags": []
   },
   "outputs": [],
   "source": [
    "###################################\n",
    "# Build the dataset\n",
    "###################################\n",
    "train_original_source = Iterable_Aggregator(train_original_source, p.seed)\n",
    "val_original_source = Iterable_Aggregator(val_original_source, p.seed)\n",
    "test_original_source = Iterable_Aggregator(test_original_source, p.seed)\n",
    "\n",
    "\n",
    "train_original_target = Iterable_Aggregator(train_original_target, p.seed)\n",
    "val_original_target = Iterable_Aggregator(val_original_target, p.seed)\n",
    "test_original_target = Iterable_Aggregator(test_original_target, p.seed)\n",
    "\n",
    "# For CNN We only use X and Y. And we only train on the source.\n",
    "# Properly form the data using a transform lambda and Lazy_Iterable_Wrapper. Finally wrap them in a dataloader\n",
    "\n",
    "transform_lambda = lambda ex: ex[1] # Original is (<domain>, <episode>) so we strip down to episode only\n",
    "\n",
    "train_processed_source = Lazy_Iterable_Wrapper(train_original_source, transform_lambda)\n",
    "val_processed_source   = Lazy_Iterable_Wrapper(val_original_source, transform_lambda)\n",
    "test_processed_source  = Lazy_Iterable_Wrapper(test_original_source, transform_lambda)\n",
    "\n",
    "train_processed_target = Lazy_Iterable_Wrapper(train_original_target, transform_lambda)\n",
    "val_processed_target   = Lazy_Iterable_Wrapper(val_original_target, transform_lambda)\n",
    "test_processed_target  = Lazy_Iterable_Wrapper(test_original_target, transform_lambda)\n",
    "\n",
    "datasets = EasyDict({\n",
    "    \"source\": {\n",
    "        \"original\": {\"train\":train_original_source, \"val\":val_original_source, \"test\":test_original_source},\n",
    "        \"processed\": {\"train\":train_processed_source, \"val\":val_processed_source, \"test\":test_processed_source}\n",
    "    },\n",
    "    \"target\": {\n",
    "        \"original\": {\"train\":train_original_target, \"val\":val_original_target, \"test\":test_original_target},\n",
    "        \"processed\": {\"train\":train_processed_target, \"val\":val_processed_target, \"test\":test_processed_target}\n",
    "    },\n",
    "})"
   ]
  },
  {
   "cell_type": "code",
   "execution_count": 20,
   "id": "5b3c01fc",
   "metadata": {
    "execution": {
     "iopub.execute_input": "2022-03-22T18:25:27.245563Z",
     "iopub.status.busy": "2022-03-22T18:25:27.245195Z",
     "iopub.status.idle": "2022-03-22T18:25:59.577109Z",
     "shell.execute_reply": "2022-03-22T18:25:59.576627Z"
    },
    "papermill": {
     "duration": 32.35663,
     "end_time": "2022-03-22T18:25:59.577220",
     "exception": false,
     "start_time": "2022-03-22T18:25:27.220590",
     "status": "completed"
    },
    "tags": []
   },
   "outputs": [
    {
     "name": "stdout",
     "output_type": "stream",
     "text": [
      "{'ORACLE.run1_20', 'ORACLE.run1_38', 'ORACLE.run1_8', 'ORACLE.run1_50', 'ORACLE.run1_26', 'ORACLE.run1_44', 'ORACLE.run1_14', 'ORACLE.run1_32'}\n"
     ]
    },
    {
     "name": "stdout",
     "output_type": "stream",
     "text": [
      "{'CORES_3', 'CORES_4', 'CORES_2', 'CORES_5', 'CORES_1'}\n"
     ]
    },
    {
     "name": "stdout",
     "output_type": "stream",
     "text": [
      "tensor([[[ 3.9064e-03, -2.3194e-03, -4.0895e-03,  ..., -4.5778e-04,\n",
      "           2.8687e-03, -7.5686e-03],\n",
      "         [ 4.2421e-03,  1.1902e-03,  2.1973e-03,  ...,  4.9440e-03,\n",
      "          -9.1556e-05, -8.5757e-03]],\n",
      "\n",
      "        [[ 7.5991e-03,  6.4699e-03, -5.1881e-03,  ...,  2.2584e-03,\n",
      "           2.7467e-04, -6.9277e-03],\n",
      "         [ 1.0376e-03, -1.0376e-03,  6.4699e-03,  ...,  8.5452e-04,\n",
      "          -3.5707e-03, -3.6317e-03]],\n",
      "\n",
      "        [[-2.7772e-03, -1.8006e-03, -3.2044e-03,  ..., -1.9227e-03,\n",
      "           1.9837e-03,  5.3407e-03],\n",
      "         [ 6.5310e-03, -1.3123e-03, -3.9979e-03,  ...,  6.1037e-03,\n",
      "          -6.1037e-04, -3.3265e-03]],\n",
      "\n",
      "        ...,\n",
      "\n",
      "        [[ 3.7843e-03, -2.4720e-03, -1.0041e-02,  ..., -1.2818e-03,\n",
      "           3.6317e-03,  3.1739e-03],\n",
      "         [-3.9979e-03, -6.4089e-04,  4.6083e-03,  ...,  5.6764e-03,\n",
      "           4.9745e-03, -8.3316e-03]],\n",
      "\n",
      "        [[-2.2279e-03,  7.9348e-04, -7.0193e-04,  ..., -4.6693e-03,\n",
      "          -3.6927e-03, -3.7843e-03],\n",
      "         [-4.5778e-03,  8.2400e-04,  1.1628e-02,  ...,  1.8311e-04,\n",
      "           4.5778e-04,  1.0681e-03]],\n",
      "\n",
      "        [[ 2.0753e-03,  1.8006e-03, -2.9603e-03,  ..., -5.8596e-03,\n",
      "          -3.8148e-03,  7.4770e-03],\n",
      "         [ 4.5167e-03, -3.8453e-03, -9.6438e-03,  ..., -2.8993e-03,\n",
      "           2.6551e-03,  5.4628e-03]]])\n"
     ]
    }
   ],
   "source": [
    "from steves_utils.transforms import get_average_magnitude, get_average_power\n",
    "\n",
    "print(set([u for u,_ in val_original_source]))\n",
    "print(set([u for u,_ in val_original_target]))\n",
    "\n",
    "s_x, s_y, q_x, q_y, _ = next(iter(train_processed_source))\n",
    "print(s_x)\n",
    "\n",
    "# for ds in [\n",
    "#     train_processed_source,\n",
    "#     val_processed_source,\n",
    "#     test_processed_source,\n",
    "#     train_processed_target,\n",
    "#     val_processed_target,\n",
    "#     test_processed_target\n",
    "# ]:\n",
    "#     for s_x, s_y, q_x, q_y, _ in ds:\n",
    "#         for X in (s_x, q_x):\n",
    "#             for x in X:\n",
    "#                 assert np.isclose(get_average_magnitude(x.numpy()), 1.0)\n",
    "#                 assert np.isclose(get_average_power(x.numpy()), 1.0)\n",
    "                "
   ]
  },
  {
   "cell_type": "code",
   "execution_count": 21,
   "id": "bbdacba1",
   "metadata": {
    "execution": {
     "iopub.execute_input": "2022-03-22T18:25:59.644217Z",
     "iopub.status.busy": "2022-03-22T18:25:59.643830Z",
     "iopub.status.idle": "2022-03-22T18:25:59.826470Z",
     "shell.execute_reply": "2022-03-22T18:25:59.826780Z"
    },
    "papermill": {
     "duration": 0.221011,
     "end_time": "2022-03-22T18:25:59.826926",
     "exception": false,
     "start_time": "2022-03-22T18:25:59.605915",
     "status": "completed"
    },
    "tags": []
   },
   "outputs": [
    {
     "name": "stdout",
     "output_type": "stream",
     "text": [
      "(2, 256)\n"
     ]
    }
   ],
   "source": [
    "###################################\n",
    "# Build the model\n",
    "###################################\n",
    "# easfsl only wants a tuple for the shape\n",
    "model = Steves_Prototypical_Network(x_net, device=p.device, x_shape=tuple(p.x_shape))\n",
    "optimizer = Adam(params=model.parameters(), lr=p.lr)"
   ]
  },
  {
   "cell_type": "code",
   "execution_count": 22,
   "id": "22b39ac5",
   "metadata": {
    "execution": {
     "iopub.execute_input": "2022-03-22T18:25:59.885232Z",
     "iopub.status.busy": "2022-03-22T18:25:59.884600Z",
     "iopub.status.idle": "2022-03-22T19:58:53.263894Z",
     "shell.execute_reply": "2022-03-22T19:58:53.263512Z"
    },
    "papermill": {
     "duration": 5573.408419,
     "end_time": "2022-03-22T19:58:53.263983",
     "exception": false,
     "start_time": "2022-03-22T18:25:59.855564",
     "status": "completed"
    },
    "tags": []
   },
   "outputs": [
    {
     "name": "stdout",
     "output_type": "stream",
     "text": [
      "epoch: 1, [batch: 1 / 33600], examples_per_second: 6.7181, train_label_loss: 2.7092, \n"
     ]
    },
    {
     "name": "stdout",
     "output_type": "stream",
     "text": [
      "epoch: 1, [batch: 3360 / 33600], examples_per_second: 4268.4871, train_label_loss: 1.1881, \n"
     ]
    },
    {
     "name": "stdout",
     "output_type": "stream",
     "text": [
      "epoch: 1, [batch: 6720 / 33600], examples_per_second: 4105.5540, train_label_loss: 0.6692, \n"
     ]
    },
    {
     "name": "stdout",
     "output_type": "stream",
     "text": [
      "epoch: 1, [batch: 10080 / 33600], examples_per_second: 3904.5174, train_label_loss: 0.8758, \n"
     ]
    },
    {
     "name": "stdout",
     "output_type": "stream",
     "text": [
      "epoch: 1, [batch: 13440 / 33600], examples_per_second: 4000.7710, train_label_loss: 0.4661, \n"
     ]
    },
    {
     "name": "stdout",
     "output_type": "stream",
     "text": [
      "epoch: 1, [batch: 16800 / 33600], examples_per_second: 3006.7498, train_label_loss: 0.5840, \n"
     ]
    },
    {
     "name": "stdout",
     "output_type": "stream",
     "text": [
      "epoch: 1, [batch: 20160 / 33600], examples_per_second: 2963.3101, train_label_loss: 0.4137, \n"
     ]
    },
    {
     "name": "stdout",
     "output_type": "stream",
     "text": [
      "epoch: 1, [batch: 23520 / 33600], examples_per_second: 3411.5465, train_label_loss: 0.5932, \n"
     ]
    },
    {
     "name": "stdout",
     "output_type": "stream",
     "text": [
      "epoch: 1, [batch: 26880 / 33600], examples_per_second: 2969.8845, train_label_loss: 0.3773, \n"
     ]
    },
    {
     "name": "stdout",
     "output_type": "stream",
     "text": [
      "epoch: 1, [batch: 30240 / 33600], examples_per_second: 3302.3648, train_label_loss: 0.4046, \n"
     ]
    },
    {
     "name": "stdout",
     "output_type": "stream",
     "text": [
      "=============================================================\n",
      "epoch: 1, source_val_acc_label: 0.7813, target_val_acc_label: 0.9467, source_val_label_loss: 0.7662, target_val_label_loss: 15.0027, \n",
      "=============================================================\n"
     ]
    },
    {
     "name": "stdout",
     "output_type": "stream",
     "text": [
      "New best\n"
     ]
    },
    {
     "name": "stdout",
     "output_type": "stream",
     "text": [
      "epoch: 2, [batch: 1 / 33600], examples_per_second: 0.7614, train_label_loss: 0.3865, \n"
     ]
    },
    {
     "name": "stdout",
     "output_type": "stream",
     "text": [
      "epoch: 2, [batch: 3360 / 33600], examples_per_second: 2993.4157, train_label_loss: 0.5033, \n"
     ]
    },
    {
     "name": "stdout",
     "output_type": "stream",
     "text": [
      "epoch: 2, [batch: 6720 / 33600], examples_per_second: 3137.1845, train_label_loss: 0.2613, \n"
     ]
    },
    {
     "name": "stdout",
     "output_type": "stream",
     "text": [
      "epoch: 2, [batch: 10080 / 33600], examples_per_second: 3310.3639, train_label_loss: 0.3245, \n"
     ]
    },
    {
     "name": "stdout",
     "output_type": "stream",
     "text": [
      "epoch: 2, [batch: 13440 / 33600], examples_per_second: 3007.6588, train_label_loss: 0.2505, \n"
     ]
    },
    {
     "name": "stdout",
     "output_type": "stream",
     "text": [
      "epoch: 2, [batch: 16800 / 33600], examples_per_second: 3445.3951, train_label_loss: 0.1614, \n"
     ]
    },
    {
     "name": "stdout",
     "output_type": "stream",
     "text": [
      "epoch: 2, [batch: 20160 / 33600], examples_per_second: 2991.5993, train_label_loss: 0.2311, \n"
     ]
    },
    {
     "name": "stdout",
     "output_type": "stream",
     "text": [
      "epoch: 2, [batch: 23520 / 33600], examples_per_second: 3089.0460, train_label_loss: 0.3060, \n"
     ]
    },
    {
     "name": "stdout",
     "output_type": "stream",
     "text": [
      "epoch: 2, [batch: 26880 / 33600], examples_per_second: 3540.1386, train_label_loss: 0.5222, \n"
     ]
    },
    {
     "name": "stdout",
     "output_type": "stream",
     "text": [
      "epoch: 2, [batch: 30240 / 33600], examples_per_second: 3453.1328, train_label_loss: 0.3255, \n"
     ]
    },
    {
     "name": "stdout",
     "output_type": "stream",
     "text": [
      "=============================================================\n",
      "epoch: 2, source_val_acc_label: 0.8516, target_val_acc_label: 0.9829, source_val_label_loss: 0.4055, target_val_label_loss: 2.2887, \n",
      "=============================================================\n"
     ]
    },
    {
     "name": "stdout",
     "output_type": "stream",
     "text": [
      "New best\n"
     ]
    },
    {
     "name": "stdout",
     "output_type": "stream",
     "text": [
      "epoch: 3, [batch: 1 / 33600], examples_per_second: 1.0499, train_label_loss: 0.7251, \n"
     ]
    },
    {
     "name": "stdout",
     "output_type": "stream",
     "text": [
      "epoch: 3, [batch: 3360 / 33600], examples_per_second: 3237.3467, train_label_loss: 0.2779, \n"
     ]
    },
    {
     "name": "stdout",
     "output_type": "stream",
     "text": [
      "epoch: 3, [batch: 6720 / 33600], examples_per_second: 3007.9689, train_label_loss: 0.4423, \n"
     ]
    },
    {
     "name": "stdout",
     "output_type": "stream",
     "text": [
      "epoch: 3, [batch: 10080 / 33600], examples_per_second: 3364.8453, train_label_loss: 0.4547, \n"
     ]
    },
    {
     "name": "stdout",
     "output_type": "stream",
     "text": [
      "epoch: 3, [batch: 13440 / 33600], examples_per_second: 3098.9057, train_label_loss: 0.2024, \n"
     ]
    },
    {
     "name": "stdout",
     "output_type": "stream",
     "text": [
      "epoch: 3, [batch: 16800 / 33600], examples_per_second: 3237.3984, train_label_loss: 0.4777, \n"
     ]
    },
    {
     "name": "stdout",
     "output_type": "stream",
     "text": [
      "epoch: 3, [batch: 20160 / 33600], examples_per_second: 3204.7948, train_label_loss: 0.4768, \n"
     ]
    },
    {
     "name": "stdout",
     "output_type": "stream",
     "text": [
      "epoch: 3, [batch: 23520 / 33600], examples_per_second: 2997.6188, train_label_loss: 0.4352, \n"
     ]
    },
    {
     "name": "stdout",
     "output_type": "stream",
     "text": [
      "epoch: 3, [batch: 26880 / 33600], examples_per_second: 3358.3493, train_label_loss: 0.3873, \n"
     ]
    },
    {
     "name": "stdout",
     "output_type": "stream",
     "text": [
      "epoch: 3, [batch: 30240 / 33600], examples_per_second: 3120.4063, train_label_loss: 0.1555, \n"
     ]
    },
    {
     "name": "stdout",
     "output_type": "stream",
     "text": [
      "=============================================================\n",
      "epoch: 3, source_val_acc_label: 0.8650, target_val_acc_label: 0.9794, source_val_label_loss: 0.3831, target_val_label_loss: 3.2256, \n",
      "=============================================================\n"
     ]
    },
    {
     "name": "stdout",
     "output_type": "stream",
     "text": [
      "epoch: 4, [batch: 1 / 33600], examples_per_second: 0.7994, train_label_loss: 0.3054, \n"
     ]
    },
    {
     "name": "stdout",
     "output_type": "stream",
     "text": [
      "epoch: 4, [batch: 3360 / 33600], examples_per_second: 3209.1966, train_label_loss: 0.7799, \n"
     ]
    },
    {
     "name": "stdout",
     "output_type": "stream",
     "text": [
      "epoch: 4, [batch: 6720 / 33600], examples_per_second: 3277.6864, train_label_loss: 0.3944, \n"
     ]
    },
    {
     "name": "stdout",
     "output_type": "stream",
     "text": [
      "epoch: 4, [batch: 10080 / 33600], examples_per_second: 3048.2943, train_label_loss: 0.1445, \n"
     ]
    },
    {
     "name": "stdout",
     "output_type": "stream",
     "text": [
      "epoch: 4, [batch: 13440 / 33600], examples_per_second: 3309.0634, train_label_loss: 0.2116, \n"
     ]
    },
    {
     "name": "stdout",
     "output_type": "stream",
     "text": [
      "epoch: 4, [batch: 16800 / 33600], examples_per_second: 3068.0984, train_label_loss: 0.4621, \n"
     ]
    },
    {
     "name": "stdout",
     "output_type": "stream",
     "text": [
      "epoch: 4, [batch: 20160 / 33600], examples_per_second: 3212.9280, train_label_loss: 0.7511, \n"
     ]
    },
    {
     "name": "stdout",
     "output_type": "stream",
     "text": [
      "epoch: 4, [batch: 23520 / 33600], examples_per_second: 3234.2465, train_label_loss: 0.6155, \n"
     ]
    },
    {
     "name": "stdout",
     "output_type": "stream",
     "text": [
      "epoch: 4, [batch: 26880 / 33600], examples_per_second: 3053.3288, train_label_loss: 0.3409, \n"
     ]
    },
    {
     "name": "stdout",
     "output_type": "stream",
     "text": [
      "epoch: 4, [batch: 30240 / 33600], examples_per_second: 3571.3584, train_label_loss: 0.4441, \n"
     ]
    },
    {
     "name": "stdout",
     "output_type": "stream",
     "text": [
      "=============================================================\n",
      "epoch: 4, source_val_acc_label: 0.8705, target_val_acc_label: 0.9789, source_val_label_loss: 0.3590, target_val_label_loss: 3.6522, \n",
      "=============================================================\n"
     ]
    },
    {
     "name": "stdout",
     "output_type": "stream",
     "text": [
      "epoch: 5, [batch: 1 / 33600], examples_per_second: 0.9710, train_label_loss: 0.5829, \n"
     ]
    },
    {
     "name": "stdout",
     "output_type": "stream",
     "text": [
      "epoch: 5, [batch: 3360 / 33600], examples_per_second: 3341.6440, train_label_loss: 0.4689, \n"
     ]
    },
    {
     "name": "stdout",
     "output_type": "stream",
     "text": [
      "epoch: 5, [batch: 6720 / 33600], examples_per_second: 2992.9578, train_label_loss: 0.1609, \n"
     ]
    },
    {
     "name": "stdout",
     "output_type": "stream",
     "text": [
      "epoch: 5, [batch: 10080 / 33600], examples_per_second: 3461.4224, train_label_loss: 0.6900, \n"
     ]
    },
    {
     "name": "stdout",
     "output_type": "stream",
     "text": [
      "epoch: 5, [batch: 13440 / 33600], examples_per_second: 3007.6526, train_label_loss: 0.3021, \n"
     ]
    },
    {
     "name": "stdout",
     "output_type": "stream",
     "text": [
      "epoch: 5, [batch: 16800 / 33600], examples_per_second: 3277.6858, train_label_loss: 0.1676, \n"
     ]
    },
    {
     "name": "stdout",
     "output_type": "stream",
     "text": [
      "epoch: 5, [batch: 20160 / 33600], examples_per_second: 3248.6217, train_label_loss: 0.1826, \n"
     ]
    },
    {
     "name": "stdout",
     "output_type": "stream",
     "text": [
      "epoch: 5, [batch: 23520 / 33600], examples_per_second: 2983.2629, train_label_loss: 0.1952, \n"
     ]
    },
    {
     "name": "stdout",
     "output_type": "stream",
     "text": [
      "epoch: 5, [batch: 26880 / 33600], examples_per_second: 3483.3172, train_label_loss: 0.1807, \n"
     ]
    },
    {
     "name": "stdout",
     "output_type": "stream",
     "text": [
      "epoch: 5, [batch: 30240 / 33600], examples_per_second: 2976.0944, train_label_loss: 0.2737, \n"
     ]
    },
    {
     "name": "stdout",
     "output_type": "stream",
     "text": [
      "=============================================================\n",
      "epoch: 5, source_val_acc_label: 0.8791, target_val_acc_label: 0.9760, source_val_label_loss: 0.3572, target_val_label_loss: 5.7673, \n",
      "=============================================================\n"
     ]
    },
    {
     "name": "stdout",
     "output_type": "stream",
     "text": [
      "epoch: 6, [batch: 1 / 33600], examples_per_second: 0.7908, train_label_loss: 0.2406, \n"
     ]
    },
    {
     "name": "stdout",
     "output_type": "stream",
     "text": [
      "epoch: 6, [batch: 3360 / 33600], examples_per_second: 3322.5860, train_label_loss: 0.2366, \n"
     ]
    },
    {
     "name": "stdout",
     "output_type": "stream",
     "text": [
      "epoch: 6, [batch: 6720 / 33600], examples_per_second: 3087.1840, train_label_loss: 0.0541, \n"
     ]
    },
    {
     "name": "stdout",
     "output_type": "stream",
     "text": [
      "epoch: 6, [batch: 10080 / 33600], examples_per_second: 3028.0150, train_label_loss: 0.7316, \n"
     ]
    },
    {
     "name": "stdout",
     "output_type": "stream",
     "text": [
      "epoch: 6, [batch: 13440 / 33600], examples_per_second: 3425.8746, train_label_loss: 0.3507, \n"
     ]
    },
    {
     "name": "stdout",
     "output_type": "stream",
     "text": [
      "epoch: 6, [batch: 16800 / 33600], examples_per_second: 2980.0063, train_label_loss: 0.3383, \n"
     ]
    },
    {
     "name": "stdout",
     "output_type": "stream",
     "text": [
      "epoch: 6, [batch: 20160 / 33600], examples_per_second: 3331.7655, train_label_loss: 0.0631, \n"
     ]
    },
    {
     "name": "stdout",
     "output_type": "stream",
     "text": [
      "epoch: 6, [batch: 23520 / 33600], examples_per_second: 3032.1648, train_label_loss: 0.1755, \n"
     ]
    },
    {
     "name": "stdout",
     "output_type": "stream",
     "text": [
      "epoch: 6, [batch: 26880 / 33600], examples_per_second: 3008.1597, train_label_loss: 0.3878, \n"
     ]
    },
    {
     "name": "stdout",
     "output_type": "stream",
     "text": [
      "epoch: 6, [batch: 30240 / 33600], examples_per_second: 3679.0253, train_label_loss: 0.1773, \n"
     ]
    },
    {
     "name": "stdout",
     "output_type": "stream",
     "text": [
      "=============================================================\n",
      "epoch: 6, source_val_acc_label: 0.8764, target_val_acc_label: 0.9773, source_val_label_loss: 0.3461, target_val_label_loss: 6.0715, \n",
      "=============================================================\n"
     ]
    },
    {
     "name": "stdout",
     "output_type": "stream",
     "text": [
      "Patience (3) exhausted\n"
     ]
    }
   ],
   "source": [
    "###################################\n",
    "# train\n",
    "###################################\n",
    "jig = PTN_Train_Eval_Test_Jig(model, p.BEST_MODEL_PATH, p.device)\n",
    "\n",
    "jig.train(\n",
    "    train_iterable=datasets.source.processed.train,\n",
    "    source_val_iterable=datasets.source.processed.val,\n",
    "    target_val_iterable=datasets.target.processed.val,\n",
    "    num_epochs=p.n_epoch,\n",
    "    num_logs_per_epoch=p.NUM_LOGS_PER_EPOCH,\n",
    "    patience=p.patience,\n",
    "    optimizer=optimizer,\n",
    "    criteria_for_best=p.criteria_for_best,\n",
    ")"
   ]
  },
  {
   "cell_type": "code",
   "execution_count": 23,
   "id": "31e8fabf",
   "metadata": {
    "execution": {
     "iopub.execute_input": "2022-03-22T19:58:53.350325Z",
     "iopub.status.busy": "2022-03-22T19:58:53.349759Z",
     "iopub.status.idle": "2022-03-22T19:58:53.383500Z",
     "shell.execute_reply": "2022-03-22T19:58:53.382740Z"
    },
    "papermill": {
     "duration": 0.079991,
     "end_time": "2022-03-22T19:58:53.383708",
     "exception": false,
     "start_time": "2022-03-22T19:58:53.303717",
     "status": "completed"
    },
    "tags": []
   },
   "outputs": [],
   "source": [
    "total_experiment_time_secs = time.time() - start_time_secs"
   ]
  },
  {
   "cell_type": "code",
   "execution_count": 24,
   "id": "87b9595b",
   "metadata": {
    "execution": {
     "iopub.execute_input": "2022-03-22T19:58:53.483207Z",
     "iopub.status.busy": "2022-03-22T19:58:53.482287Z",
     "iopub.status.idle": "2022-03-22T20:08:20.696773Z",
     "shell.execute_reply": "2022-03-22T20:08:20.695954Z"
    },
    "papermill": {
     "duration": 567.265204,
     "end_time": "2022-03-22T20:08:20.696952",
     "exception": false,
     "start_time": "2022-03-22T19:58:53.431748",
     "status": "completed"
    },
    "tags": []
   },
   "outputs": [],
   "source": [
    "###################################\n",
    "# Evaluate the model\n",
    "###################################\n",
    "source_test_label_accuracy, source_test_label_loss = jig.test(datasets.source.processed.test)\n",
    "target_test_label_accuracy, target_test_label_loss = jig.test(datasets.target.processed.test)\n",
    "\n",
    "source_val_label_accuracy, source_val_label_loss = jig.test(datasets.source.processed.val)\n",
    "target_val_label_accuracy, target_val_label_loss = jig.test(datasets.target.processed.val)\n",
    "\n",
    "history = jig.get_history()\n",
    "\n",
    "total_epochs_trained = len(history[\"epoch_indices\"])\n",
    "\n",
    "val_dl = Iterable_Aggregator((datasets.source.original.val,datasets.target.original.val))\n",
    "\n",
    "confusion = ptn_confusion_by_domain_over_dataloader(model, p.device, val_dl)\n",
    "per_domain_accuracy = per_domain_accuracy_from_confusion(confusion)\n",
    "\n",
    "# Add a key to per_domain_accuracy for if it was a source domain\n",
    "for domain, accuracy in per_domain_accuracy.items():\n",
    "    per_domain_accuracy[domain] = {\n",
    "        \"accuracy\": accuracy,\n",
    "        \"source?\": domain in p.domains_source\n",
    "    }\n",
    "\n",
    "# Do an independent accuracy assesment JUST TO BE SURE!\n",
    "# _source_test_label_accuracy = independent_accuracy_assesment(model, datasets.source.processed.test, p.device)\n",
    "# _target_test_label_accuracy = independent_accuracy_assesment(model, datasets.target.processed.test, p.device)\n",
    "# _source_val_label_accuracy = independent_accuracy_assesment(model, datasets.source.processed.val, p.device)\n",
    "# _target_val_label_accuracy = independent_accuracy_assesment(model, datasets.target.processed.val, p.device)\n",
    "\n",
    "# assert(_source_test_label_accuracy == source_test_label_accuracy)\n",
    "# assert(_target_test_label_accuracy == target_test_label_accuracy)\n",
    "# assert(_source_val_label_accuracy == source_val_label_accuracy)\n",
    "# assert(_target_val_label_accuracy == target_val_label_accuracy)\n",
    "\n",
    "experiment = {\n",
    "    \"experiment_name\": p.experiment_name,\n",
    "    \"parameters\": dict(p),\n",
    "    \"results\": {\n",
    "        \"source_test_label_accuracy\": source_test_label_accuracy,\n",
    "        \"source_test_label_loss\": source_test_label_loss,\n",
    "        \"target_test_label_accuracy\": target_test_label_accuracy,\n",
    "        \"target_test_label_loss\": target_test_label_loss,\n",
    "        \"source_val_label_accuracy\": source_val_label_accuracy,\n",
    "        \"source_val_label_loss\": source_val_label_loss,\n",
    "        \"target_val_label_accuracy\": target_val_label_accuracy,\n",
    "        \"target_val_label_loss\": target_val_label_loss,\n",
    "        \"total_epochs_trained\": total_epochs_trained,\n",
    "        \"total_experiment_time_secs\": total_experiment_time_secs,\n",
    "        \"confusion\": confusion,\n",
    "        \"per_domain_accuracy\": per_domain_accuracy,\n",
    "    },\n",
    "    \"history\": history,\n",
    "    \"dataset_metrics\": get_dataset_metrics(datasets, \"ptn\"),\n",
    "}"
   ]
  },
  {
   "cell_type": "code",
   "execution_count": 25,
   "id": "54a21829",
   "metadata": {
    "execution": {
     "iopub.execute_input": "2022-03-22T20:08:20.791828Z",
     "iopub.status.busy": "2022-03-22T20:08:20.791425Z",
     "iopub.status.idle": "2022-03-22T20:08:21.016550Z",
     "shell.execute_reply": "2022-03-22T20:08:21.017028Z"
    },
    "papermill": {
     "duration": 0.272149,
     "end_time": "2022-03-22T20:08:21.017196",
     "exception": false,
     "start_time": "2022-03-22T20:08:20.745047",
     "status": "completed"
    },
    "tags": []
   },
   "outputs": [
    {
     "data": {
      "image/png": "[encoded data removed]",
      "text/plain": [
       "<Figure size 1080x504 with 1 Axes>"
      ]
     },
     "metadata": {
      "needs_background": "light"
     },
     "output_type": "display_data"
    }
   ],
   "source": [
    "ax = get_loss_curve(experiment)\n",
    "plt.show()"
   ]
  },
  {
   "cell_type": "code",
   "execution_count": 26,
   "id": "fd8a0f60",
   "metadata": {
    "execution": {
     "iopub.execute_input": "2022-03-22T20:08:21.108408Z",
     "iopub.status.busy": "2022-03-22T20:08:21.108041Z",
     "iopub.status.idle": "2022-03-22T20:08:21.483373Z",
     "shell.execute_reply": "2022-03-22T20:08:21.482992Z"
    },
    "papermill": {
     "duration": 0.422048,
     "end_time": "2022-03-22T20:08:21.483449",
     "exception": false,
     "start_time": "2022-03-22T20:08:21.061401",
     "status": "completed"
    },
    "tags": []
   },
   "outputs": [
    {
     "data": {
      "text/plain": [
       "<AxesSubplot:title={'center':'Results'}>"
      ]
     },
     "execution_count": 26,
     "metadata": {},
     "output_type": "execute_result"
    },
    {
     "data": {
      "image/png": "[encoded data removed]",
      "text/plain": [
       "<Figure size 1080x504 with 1 Axes>"
      ]
     },
     "metadata": {
      "needs_background": "light"
     },
     "output_type": "display_data"
    }
   ],
   "source": [
    "get_results_table(experiment)"
   ]
  },
  {
   "cell_type": "code",
   "execution_count": 27,
   "id": "cf8dc689",
   "metadata": {
    "execution": {
     "iopub.execute_input": "2022-03-22T20:08:21.579143Z",
     "iopub.status.busy": "2022-03-22T20:08:21.578772Z",
     "iopub.status.idle": "2022-03-22T20:08:21.854625Z",
     "shell.execute_reply": "2022-03-22T20:08:21.853925Z"
    },
    "papermill": {
     "duration": 0.325846,
     "end_time": "2022-03-22T20:08:21.854804",
     "exception": false,
     "start_time": "2022-03-22T20:08:21.528958",
     "status": "completed"
    },
    "tags": []
   },
   "outputs": [
    {
     "data": {
      "text/plain": [
       "<AxesSubplot:title={'center':'Per Domain Validation Accuracy'}, xlabel='domain'>"
      ]
     },
     "execution_count": 27,
     "metadata": {},
     "output_type": "execute_result"
    },
    {
     "data": {
      "image/png": "[encoded data removed]",
      "text/plain": [
       "<Figure size 1080x504 with 1 Axes>"
      ]
     },
     "metadata": {
      "needs_background": "light"
     },
     "output_type": "display_data"
    }
   ],
   "source": [
    "get_domain_accuracies(experiment)"
   ]
  },
  {
   "cell_type": "code",
   "execution_count": 28,
   "id": "a74ae082",
   "metadata": {
    "execution": {
     "iopub.execute_input": "2022-03-22T20:08:21.955383Z",
     "iopub.status.busy": "2022-03-22T20:08:21.954784Z",
     "iopub.status.idle": "2022-03-22T20:08:21.982438Z",
     "shell.execute_reply": "2022-03-22T20:08:21.981621Z"
    },
    "papermill": {
     "duration": 0.078268,
     "end_time": "2022-03-22T20:08:21.982592",
     "exception": false,
     "start_time": "2022-03-22T20:08:21.904324",
     "status": "completed"
    },
    "tags": []
   },
   "outputs": [
    {
     "name": "stdout",
     "output_type": "stream",
     "text": [
      "Source Test Label Accuracy: 0.8524153645833333 Target Test Label Accuracy: 0.9832026875699889\n",
      "Source Val Label Accuracy: 0.8515690104166667 Target Val Label Accuracy: 0.9828732837528604\n"
     ]
    }
   ],
   "source": [
    "print(\"Source Test Label Accuracy:\", experiment[\"results\"][\"source_test_label_accuracy\"], \"Target Test Label Accuracy:\", experiment[\"results\"][\"target_test_label_accuracy\"])\n",
    "print(\"Source Val Label Accuracy:\", experiment[\"results\"][\"source_val_label_accuracy\"], \"Target Val Label Accuracy:\", experiment[\"results\"][\"target_val_label_accuracy\"])"
   ]
  },
  {
   "cell_type": "code",
   "execution_count": 29,
   "id": "dacca602",
   "metadata": {
    "execution": {
     "iopub.execute_input": "2022-03-22T20:08:22.085440Z",
     "iopub.status.busy": "2022-03-22T20:08:22.084885Z",
     "iopub.status.idle": "2022-03-22T20:08:22.108650Z",
     "shell.execute_reply": "2022-03-22T20:08:22.109324Z"
    },
    "papermill": {
     "duration": 0.074628,
     "end_time": "2022-03-22T20:08:22.109503",
     "exception": false,
     "start_time": "2022-03-22T20:08:22.034875",
     "status": "completed"
    },
    "tags": [
     "experiment_json"
    ]
   },
   "outputs": [
    {
     "data": {
      "text/plain": [
       "'{\"experiment_name\": \"tl_1v2:cores-oracle.run1\", \"parameters\": {\"experiment_name\": \"tl_1v2:cores-oracle.run1\", \"device\": \"cuda\", \"lr\": 0.0001, \"n_shot\": 3, \"n_query\": 2, \"train_k_factor\": 3, \"val_k_factor\": 2, \"test_k_factor\": 2, \"torch_default_dtype\": \"torch.float32\", \"n_epoch\": 50, \"patience\": 3, \"criteria_for_best\": \"target_accuracy\", \"x_net\": [{\"class\": \"nnReshape\", \"kargs\": {\"shape\": [-1, 1, 2, 256]}}, {\"class\": \"Conv2d\", \"kargs\": {\"in_channels\": 1, \"out_channels\": 256, \"kernel_size\": [1, 7], \"bias\": false, \"padding\": [0, 3]}}, {\"class\": \"ReLU\", \"kargs\": {\"inplace\": true}}, {\"class\": \"BatchNorm2d\", \"kargs\": {\"num_features\": 256}}, {\"class\": \"Conv2d\", \"kargs\": {\"in_channels\": 256, \"out_channels\": 80, \"kernel_size\": [2, 7], \"bias\": true, \"padding\": [0, 3]}}, {\"class\": \"ReLU\", \"kargs\": {\"inplace\": true}}, {\"class\": \"BatchNorm2d\", \"kargs\": {\"num_features\": 80}}, {\"class\": \"Flatten\", \"kargs\": {}}, {\"class\": \"Linear\", \"kargs\": {\"in_features\": 20480, \"out_features\": 256}}, {\"class\": \"ReLU\", \"kargs\": {\"inplace\": true}}, {\"class\": \"BatchNorm1d\", \"kargs\": {\"num_features\": 256}}, {\"class\": \"Linear\", \"kargs\": {\"in_features\": 256, \"out_features\": 256}}], \"NUM_LOGS_PER_EPOCH\": 10, \"BEST_MODEL_PATH\": \"./best_model.pth\", \"n_way\": 16, \"datasets\": [{\"labels\": [\"1-10.\", \"1-11.\", \"1-15.\", \"1-16.\", \"1-17.\", \"1-18.\", \"1-19.\", \"10-4.\", \"10-7.\", \"11-1.\", \"11-14.\", \"11-17.\", \"11-20.\", \"11-7.\", \"13-20.\", \"13-8.\", \"14-10.\", \"14-11.\", \"14-14.\", \"14-7.\", \"15-1.\", \"15-20.\", \"16-1.\", \"16-16.\", \"17-10.\", \"17-11.\", \"17-2.\", \"19-1.\", \"19-16.\", \"19-19.\", \"19-20.\", \"19-3.\", \"2-10.\", \"2-11.\", \"2-17.\", \"2-18.\", \"2-20.\", \"2-3.\", \"2-4.\", \"2-5.\", \"2-6.\", \"2-7.\", \"2-8.\", \"3-13.\", \"3-18.\", \"3-3.\", \"4-1.\", \"4-10.\", \"4-11.\", \"4-19.\", \"5-5.\", \"6-15.\", \"7-10.\", \"7-14.\", \"8-18.\", \"8-20.\", \"8-3.\", \"8-8.\"], \"domains\": [1, 2, 3, 4, 5], \"num_examples_per_domain_per_label\": -1, \"pickle_path\": \"/root/csc500-main/datasets/cores.stratified_ds.2022A.pkl\", \"source_or_target_dataset\": \"target\", \"x_transforms\": [], \"episode_transforms\": [], \"domain_prefix\": \"CORES_\"}, {\"labels\": [\"3123D52\", \"3123D65\", \"3123D79\", \"3123D80\", \"3123D54\", \"3123D70\", \"3123D7B\", \"3123D89\", \"3123D58\", \"3123D76\", \"3123D7D\", \"3123EFE\", \"3123D64\", \"3123D78\", \"3123D7E\", \"3124E4A\"], \"domains\": [32, 38, 8, 44, 14, 50, 20, 26], \"num_examples_per_domain_per_label\": 10000, \"pickle_path\": \"/root/csc500-main/datasets/oracle.Run1_10kExamples_stratified_ds.2022A.pkl\", \"source_or_target_dataset\": \"source\", \"x_transforms\": [], \"episode_transforms\": [], \"domain_prefix\": \"ORACLE.run1_\"}], \"dataset_seed\": 154325, \"seed\": 154325, \"x_shape\": [2, 256], \"domains_source\": [\"ORACLE.run1_32\", \"ORACLE.run1_38\", \"ORACLE.run1_8\", \"ORACLE.run1_44\", \"ORACLE.run1_14\", \"ORACLE.run1_50\", \"ORACLE.run1_20\", \"ORACLE.run1_26\"], \"domains_target\": [\"CORES_1\", \"CORES_2\", \"CORES_3\", \"CORES_4\", \"CORES_5\"]}, \"results\": {\"source_test_label_accuracy\": 0.8524153645833333, \"source_test_label_loss\": 0.40259209275245667, \"target_test_label_accuracy\": 0.9832026875699889, \"target_test_label_loss\": 1.8315292596817017, \"source_val_label_accuracy\": 0.8515690104166667, \"source_val_label_loss\": 0.40552493929862976, \"target_val_label_accuracy\": 0.9828732837528604, \"target_val_label_loss\": 2.2887160778045654, \"total_epochs_trained\": 6, \"total_experiment_time_secs\": 5616.968115568161, \"confusion\": {\"ORACLE.run1_8\": {\"13\": {\"13\": 952, \"10\": 185, \"7\": 42, \"6\": 21}, \"9\": {\"9\": 1200}, \"15\": {\"15\": 1056, \"12\": 126, \"2\": 18}, \"2\": {\"2\": 938, \"3\": 155, \"12\": 76, \"15\": 31}, \"3\": {\"3\": 1195, \"2\": 5}, \"8\": {\"8\": 1180, \"6\": 12, \"11\": 3, \"7\": 3, \"4\": 2}, \"5\": {\"5\": 991, \"10\": 117, \"1\": 67, \"14\": 4, \"11\": 18, \"13\": 1, \"4\": 2}, \"14\": {\"14\": 1114, \"4\": 70, \"11\": 16}, \"1\": {\"1\": 933, \"11\": 219, \"13\": 1, \"10\": 24, \"5\": 16, \"4\": 5, \"6\": 2}, \"0\": {\"0\": 1200}, \"10\": {\"10\": 981, \"13\": 124, \"6\": 1, \"5\": 43, \"1\": 41, \"4\": 10}, \"6\": {\"6\": 953, \"7\": 221, \"13\": 15, \"8\": 2, \"4\": 4, \"10\": 2, \"1\": 3}, \"11\": {\"14\": 44, \"11\": 696, \"8\": 20, \"1\": 413, \"4\": 11, \"5\": 4, \"10\": 5, \"13\": 1, \"6\": 6}, \"7\": {\"6\": 178, \"7\": 1014, \"13\": 7, \"10\": 1}, \"4\": {\"4\": 1134, \"14\": 17, \"6\": 37, \"11\": 7, \"10\": 3, \"8\": 1, \"1\": 1}, \"12\": {\"15\": 276, \"12\": 917, \"2\": 7}}, \"ORACLE.run1_38\": {\"13\": {\"13\": 1135, \"10\": 50, \"0\": 9, \"2\": 5, \"14\": 1}, \"12\": {\"12\": 1200}, \"2\": {\"2\": 1122, \"14\": 74, \"13\": 4}, \"9\": {\"9\": 1170, \"7\": 1, \"5\": 28, \"8\": 1}, \"15\": {\"15\": 1139, \"5\": 23, \"8\": 16, \"1\": 22}, \"5\": {\"5\": 580, \"15\": 43, \"9\": 96, \"7\": 64, \"8\": 411, \"12\": 1, \"0\": 3, \"13\": 2}, \"14\": {\"13\": 5, \"14\": 1115, \"2\": 80}, \"0\": {\"0\": 804, \"10\": 96, \"3\": 96, \"7\": 147, \"8\": 11, \"13\": 39, \"5\": 3, \"4\": 2, \"9\": 2}, \"3\": {\"3\": 1200}, \"1\": {\"1\": 1194, \"6\": 5, \"15\": 1}, \"11\": {\"11\": 1200}, \"7\": {\"7\": 1162, \"8\": 12, \"9\": 2, \"0\": 20, \"5\": 4}, \"8\": {\"5\": 371, \"8\": 679, \"0\": 19, \"15\": 17, \"7\": 102, \"13\": 9, \"9\": 2, \"12\": 1}, \"4\": {\"4\": 1194, \"10\": 6}, \"10\": {\"10\": 1100, \"0\": 40, \"13\": 55, \"4\": 4, \"14\": 1}, \"6\": {\"6\": 1200}}, \"ORACLE.run1_26\": {\"10\": {\"10\": 716, \"0\": 138, \"14\": 219, \"1\": 7, \"6\": 81, \"15\": 37, \"5\": 2}, \"12\": {\"12\": 1200}, \"1\": {\"14\": 194, \"1\": 924, \"10\": 59, \"6\": 12, \"0\": 4, \"5\": 3, \"15\": 4}, \"0\": {\"0\": 721, \"6\": 10, \"10\": 254, \"14\": 161, \"1\": 10, \"8\": 30, \"7\": 5, \"15\": 6, \"2\": 3}, \"15\": {\"15\": 693, \"6\": 112, \"14\": 15, \"5\": 332, \"10\": 42, \"2\": 1, \"1\": 2, \"0\": 3}, \"13\": {\"3\": 7, \"13\": 1057, \"9\": 83, \"2\": 45, \"7\": 3, \"8\": 5}, \"8\": {\"8\": 788, \"9\": 205, \"7\": 146, \"0\": 31, \"2\": 25, \"3\": 3, \"10\": 2}, \"3\": {\"3\": 1009, \"7\": 143, \"2\": 45, \"4\": 1, \"8\": 1, \"13\": 1}, \"11\": {\"11\": 1200}, \"4\": {\"4\": 1174, \"9\": 4, \"3\": 14, \"8\": 2, \"7\": 6}, \"6\": {\"6\": 978, \"14\": 9, \"15\": 88, \"10\": 74, \"5\": 44, \"1\": 7}, \"7\": {\"7\": 847, \"3\": 99, \"8\": 114, \"2\": 125, \"9\": 15}, \"14\": {\"0\": 117, \"10\": 216, \"14\": 757, \"1\": 98, \"6\": 7, \"15\": 5}, \"2\": {\"2\": 659, \"7\": 161, \"3\": 184, \"8\": 82, \"9\": 86, \"0\": 14, \"15\": 4, \"13\": 7, \"10\": 1, \"14\": 2}, \"5\": {\"5\": 859, \"15\": 303, \"6\": 36, \"10\": 1, \"1\": 1}, \"9\": {\"9\": 823, \"8\": 249, \"7\": 27, \"13\": 69, \"2\": 29, \"0\": 2, \"4\": 1}}, \"ORACLE.run1_20\": {\"5\": {\"5\": 788, \"3\": 116, \"1\": 269, \"9\": 25, \"15\": 1, \"0\": 1}, \"15\": {\"15\": 969, \"1\": 81, \"12\": 128, \"9\": 3, \"2\": 11, \"13\": 7, \"5\": 1}, \"9\": {\"9\": 952, \"7\": 79, \"2\": 9, \"3\": 80, \"5\": 15, \"1\": 59, \"12\": 3, \"8\": 2, \"15\": 1}, \"7\": {\"7\": 995, \"2\": 96, \"9\": 81, \"4\": 8, \"6\": 16, \"12\": 3, \"3\": 1}, \"3\": {\"3\": 803, \"5\": 144, \"1\": 21, \"9\": 146, \"8\": 71, \"0\": 15}, \"8\": {\"14\": 53, \"8\": 1093, \"3\": 54}, \"4\": {\"4\": 1123, \"12\": 44, \"2\": 18, \"7\": 5, \"10\": 9, \"9\": 1}, \"6\": {\"6\": 1176, \"7\": 24}, \"2\": {\"2\": 863, \"7\": 103, \"13\": 15, \"12\": 169, \"15\": 14, \"4\": 13, \"9\": 23}, \"12\": {\"12\": 875, \"15\": 112, \"2\": 174, \"5\": 1, \"4\": 22, \"13\": 7, \"1\": 3, \"7\": 2, \"9\": 4}, \"0\": {\"0\": 1173, \"8\": 3, \"3\": 15, \"5\": 9}, \"13\": {\"13\": 1160, \"12\": 13, \"2\": 23, \"15\": 4}, \"10\": {\"10\": 1195, \"4\": 5}, \"11\": {\"11\": 1200}, \"14\": {\"14\": 1143, \"8\": 57}, \"1\": {\"9\": 55, \"5\": 218, \"1\": 892, \"15\": 22, \"3\": 10, \"12\": 3}}, \"ORACLE.run1_50\": {\"1\": {\"1\": 1180, \"11\": 4, \"13\": 14, \"15\": 1, \"5\": 1}, \"2\": {\"2\": 1119, \"0\": 81}, \"8\": {\"8\": 1178, \"10\": 22}, \"7\": {\"7\": 1086, \"5\": 95, \"4\": 19}, \"14\": {\"14\": 1200}, \"6\": {\"6\": 1008, \"5\": 129, \"15\": 59, \"4\": 4}, \"3\": {\"3\": 1200}, \"4\": {\"4\": 997, \"7\": 95, \"6\": 15, \"15\": 47, \"5\": 46}, \"12\": {\"12\": 1130, \"11\": 8, \"9\": 62}, \"15\": {\"15\": 1127, \"6\": 58, \"11\": 12, \"5\": 2, \"9\": 1}, \"11\": {\"11\": 1139, \"12\": 17, \"9\": 27, \"15\": 17}, \"0\": {\"2\": 110, \"0\": 1056, \"10\": 34}, \"9\": {\"12\": 82, \"11\": 127, \"9\": 991}, \"10\": {\"10\": 1149, \"0\": 33, \"8\": 18}, \"5\": {\"5\": 460, \"7\": 383, \"6\": 225, \"13\": 34, \"4\": 82, \"1\": 7, \"15\": 9}, \"13\": {\"13\": 1194, \"1\": 4, \"6\": 1, \"5\": 1}}, \"ORACLE.run1_32\": {\"2\": {\"2\": 1055, \"4\": 140, \"14\": 3, \"0\": 2}, \"6\": {\"6\": 1200}, \"5\": {\"5\": 655, \"7\": 224, \"0\": 122, \"8\": 169, \"14\": 30}, \"12\": {\"12\": 1200}, \"13\": {\"4\": 172, \"13\": 852, \"3\": 158, \"11\": 17, \"8\": 1}, \"9\": {\"9\": 1196, \"12\": 4}, \"11\": {\"11\": 1193, \"13\": 5, \"3\": 2}, \"1\": {\"1\": 1200}, \"3\": {\"3\": 1132, \"13\": 67, \"11\": 1}, \"7\": {\"7\": 720, \"0\": 94, \"8\": 31, \"5\": 198, \"14\": 157}, \"14\": {\"14\": 709, \"5\": 36, \"7\": 297, \"2\": 48, \"0\": 44, \"8\": 40, \"4\": 25, \"13\": 1}, \"8\": {\"8\": 961, \"0\": 92, \"7\": 18, \"5\": 107, \"14\": 5, \"3\": 1, \"4\": 13, \"2\": 1, \"15\": 2}, \"4\": {\"4\": 997, \"2\": 168, \"13\": 31, \"14\": 2, \"8\": 2}, \"0\": {\"5\": 87, \"8\": 88, \"0\": 881, \"2\": 3, \"14\": 17, \"7\": 124}, \"10\": {\"10\": 1200}, \"15\": {\"15\": 1192, \"8\": 8}}, \"ORACLE.run1_44\": {\"13\": {\"13\": 948, \"6\": 221, \"9\": 22, \"11\": 9}, \"4\": {\"4\": 788, \"13\": 1, \"14\": 398, \"15\": 13}, \"6\": {\"6\": 981, \"13\": 159, \"9\": 58, \"7\": 2}, \"0\": {\"0\": 981, \"8\": 213, \"5\": 1, \"15\": 5}, \"10\": {\"10\": 1098, \"1\": 38, \"7\": 17, \"2\": 47}, \"7\": {\"7\": 1054, \"9\": 133, \"10\": 11, \"6\": 2}, \"14\": {\"14\": 904, \"4\": 240, \"5\": 26, \"15\": 30}, \"15\": {\"15\": 1029, \"8\": 32, \"4\": 7, \"5\": 45, \"14\": 70, \"0\": 17}, \"5\": {\"5\": 1084, \"0\": 1, \"15\": 45, \"14\": 65, \"4\": 1, \"8\": 4}, \"2\": {\"2\": 1147, \"1\": 41, \"10\": 11, \"7\": 1}, \"9\": {\"9\": 629, \"7\": 329, \"13\": 72, \"6\": 164, \"4\": 4, \"2\": 2}, \"12\": {\"3\": 30, \"12\": 1170}, \"8\": {\"8\": 816, \"0\": 297, \"15\": 60, \"5\": 27}, \"3\": {\"3\": 1151, \"12\": 49}, \"1\": {\"1\": 1149, \"2\": 50, \"10\": 1}, \"11\": {\"11\": 1200}}, \"ORACLE.run1_14\": {\"1\": {\"1\": 1200}, \"15\": {\"15\": 1200}, \"10\": {\"10\": 1200}, \"2\": {\"2\": 649, \"5\": 152, \"13\": 54, \"14\": 179, \"6\": 58, \"4\": 47, \"3\": 51, \"7\": 10}, \"9\": {\"9\": 1200}, \"5\": {\"5\": 1039, \"4\": 45, \"2\": 71, \"7\": 33, \"14\": 1, \"3\": 11}, \"7\": {\"7\": 1198, \"5\": 1, \"2\": 1}, \"13\": {\"14\": 304, \"6\": 476, \"13\": 309, \"2\": 45, \"15\": 64, \"4\": 1, \"5\": 1}, \"8\": {\"8\": 1200}, \"6\": {\"13\": 359, \"6\": 722, \"14\": 87, \"2\": 25, \"3\": 7}, \"3\": {\"3\": 1165, \"0\": 10, \"14\": 21, \"13\": 1, \"6\": 1, \"2\": 2}, \"12\": {\"12\": 1200}, \"0\": {\"0\": 1155, \"10\": 26, \"3\": 19}, \"4\": {\"4\": 1150, \"5\": 40, \"2\": 10}, \"14\": {\"14\": 875, \"3\": 58, \"13\": 148, \"2\": 59, \"6\": 59, \"0\": 1}, \"11\": {\"11\": 1200}}, \"CORES_2\": {\"21\": {\"21\": 120}, \"4\": {\"4\": 130}, \"6\": {\"6\": 124}, \"10\": {\"10\": 112}, \"33\": {\"33\": 22, \"14\": 1, \"55\": 2, \"29\": 1, \"57\": 2}, \"56\": {\"56\": 120, \"47\": 2}, \"20\": {\"20\": 130, \"8\": 2}, \"24\": {\"24\": 96}, \"45\": {\"45\": 128}, \"32\": {\"32\": 27, \"35\": 1}, \"27\": {\"27\": 148}, \"53\": {\"53\": 136}, \"8\": {\"8\": 159, \"20\": 1}, \"54\": {\"54\": 108}, \"50\": {\"50\": 134}, \"44\": {\"44\": 100}, \"5\": {\"5\": 120}, \"38\": {\"38\": 20}, \"19\": {\"19\": 132}, \"1\": {\"1\": 112}, \"30\": {\"30\": 144}, \"15\": {\"15\": 144}, \"23\": {\"23\": 144, \"49\": 1, \"24\": 1}, \"35\": {\"35\": 32}, \"22\": {\"22\": 128}, \"40\": {\"40\": 139, \"44\": 1}, \"46\": {\"46\": 125, \"50\": 1}, \"3\": {\"3\": 92}, \"48\": {\"48\": 148}, \"52\": {\"52\": 124}, \"2\": {\"2\": 32}, \"26\": {\"26\": 23, \"53\": 1}, \"17\": {\"17\": 104}, \"55\": {\"55\": 144}, \"51\": {\"51\": 122}, \"42\": {\"42\": 36}, \"41\": {\"41\": 17, \"47\": 1, \"13\": 1, \"1\": 1}, \"31\": {\"31\": 28}, \"16\": {\"16\": 138}, \"36\": {\"36\": 116}, \"49\": {\"49\": 17, \"7\": 1, \"42\": 1, \"39\": 2, \"23\": 2, \"17\": 1}, \"0\": {\"0\": 48}, \"18\": {\"18\": 48}, \"25\": {\"25\": 146}, \"9\": {\"9\": 122}, \"47\": {\"47\": 132}, \"7\": {\"7\": 32, \"23\": 1, \"24\": 3}, \"37\": {\"37\": 35, \"57\": 1}, \"13\": {\"13\": 116}, \"14\": {\"14\": 24}, \"34\": {\"34\": 26, \"19\": 1, \"49\": 1}, \"57\": {\"57\": 140}, \"11\": {\"11\": 134, \"15\": 3, \"25\": 1}, \"39\": {\"39\": 25, \"13\": 1, \"2\": 1, \"41\": 1}, \"12\": {\"12\": 92}, \"28\": {\"28\": 28}, \"29\": {\"29\": 124, \"9\": 1, \"57\": 1, \"2\": 1, \"1\": 1}, \"43\": {\"43\": 134, \"11\": 1, \"24\": 2, \"15\": 1, \"23\": 2}}, \"CORES_5\": {\"12\": {\"12\": 96}, \"8\": {\"8\": 142}, \"29\": {\"29\": 132}, \"57\": {\"57\": 126}, \"38\": {\"8\": 3, \"38\": 29}, \"23\": {\"23\": 112, \"53\": 6, \"10\": 2, \"24\": 1, \"42\": 1, \"54\": 2}, \"56\": {\"56\": 138}, \"49\": {\"49\": 36}, \"4\": {\"4\": 100}, \"48\": {\"48\": 136}, \"21\": {\"21\": 144}, \"30\": {\"30\": 128}, \"1\": {\"1\": 148}, \"34\": {\"34\": 36}, \"35\": {\"35\": 33, \"36\": 1, \"49\": 2}, \"55\": {\"55\": 151, \"19\": 1}, \"5\": {\"5\": 122}, \"52\": {\"52\": 126}, \"6\": {\"6\": 128}, \"36\": {\"36\": 92}, \"41\": {\"41\": 19, \"13\": 1, \"39\": 1, \"35\": 2, \"29\": 2, \"56\": 1, \"27\": 1, \"14\": 1}, \"3\": {\"3\": 100}, \"28\": {\"28\": 32}, \"18\": {\"18\": 64}, \"25\": {\"25\": 136}, \"47\": {\"47\": 100}, \"13\": {\"13\": 160}, \"11\": {\"11\": 141, \"16\": 3}, \"53\": {\"53\": 144}, \"33\": {\"33\": 31, \"2\": 1}, \"46\": {\"46\": 148}, \"50\": {\"50\": 148}, \"10\": {\"10\": 68}, \"15\": {\"15\": 137, \"11\": 1}, \"44\": {\"44\": 140}, \"2\": {\"2\": 27, \"49\": 1}, \"7\": {\"7\": 32}, \"43\": {\"43\": 137, \"42\": 1}, \"32\": {\"32\": 32}, \"0\": {\"0\": 124}, \"39\": {\"39\": 20}, \"26\": {\"53\": 2, \"26\": 19, \"17\": 1, \"38\": 2}, \"27\": {\"27\": 112}, \"54\": {\"54\": 111, \"23\": 1}, \"17\": {\"17\": 116}, \"14\": {\"39\": 3, \"14\": 33, \"37\": 1, \"41\": 1, \"29\": 2, \"27\": 3, \"13\": 1}, \"16\": {\"16\": 142, \"11\": 6}, \"9\": {\"9\": 148}, \"19\": {\"19\": 152}, \"20\": {\"20\": 138}, \"37\": {\"37\": 23, \"13\": 1}, \"24\": {\"24\": 80}, \"40\": {\"40\": 122}, \"45\": {\"45\": 124}, \"22\": {\"22\": 27, \"40\": 1}, \"42\": {\"42\": 38, \"35\": 1, \"2\": 1}, \"51\": {\"51\": 118}, \"31\": {\"31\": 35, \"10\": 1}}, \"CORES_1\": {\"27\": {\"27\": 137, \"47\": 5}, \"2\": {\"2\": 36}, \"33\": {\"33\": 32}, \"45\": {\"45\": 156}, \"38\": {\"38\": 16, \"41\": 1, \"21\": 1, \"36\": 1, \"39\": 4, \"7\": 1}, \"4\": {\"4\": 132}, \"31\": {\"31\": 28}, \"55\": {\"55\": 140}, \"32\": {\"32\": 32}, \"57\": {\"57\": 140}, \"14\": {\"14\": 19, \"30\": 1, \"52\": 2, \"21\": 2}, \"16\": {\"16\": 139, \"15\": 1}, \"34\": {\"34\": 24}, \"56\": {\"56\": 126}, \"24\": {\"24\": 108}, \"30\": {\"30\": 112}, \"17\": {\"17\": 64}, \"13\": {\"13\": 138}, \"39\": {\"33\": 5, \"38\": 1, \"39\": 17, \"27\": 2, \"1\": 2, \"31\": 1}, \"50\": {\"50\": 146}, \"20\": {\"20\": 129, \"3\": 10, \"12\": 1}, \"41\": {\"41\": 23, \"13\": 1}, \"53\": {\"53\": 126}, \"48\": {\"48\": 142}, \"36\": {\"36\": 64}, \"8\": {\"8\": 140}, \"15\": {\"15\": 131, \"10\": 1}, \"40\": {\"40\": 156}, \"37\": {\"37\": 27, \"9\": 1, \"21\": 1, \"27\": 1, \"36\": 2}, \"21\": {\"21\": 120}, \"35\": {\"35\": 33, \"34\": 2, \"19\": 1}, \"49\": {\"49\": 32}, \"26\": {\"26\": 22, \"25\": 1, \"16\": 1}, \"28\": {\"28\": 28}, \"12\": {\"12\": 114, \"20\": 2}, \"5\": {\"5\": 152}, \"29\": {\"29\": 140}, \"47\": {\"47\": 140}, \"10\": {\"10\": 88, \"15\": 8}, \"18\": {\"18\": 71, \"40\": 1}, \"9\": {\"9\": 126}, \"3\": {\"3\": 140}, \"52\": {\"52\": 132}, \"25\": {\"25\": 134, \"11\": 2}, \"19\": {\"19\": 156}, \"11\": {\"11\": 132, \"15\": 2, \"16\": 2}, \"7\": {\"7\": 28}, \"23\": {\"23\": 127, \"54\": 4, \"28\": 2, \"15\": 1, \"10\": 1, \"24\": 1}, \"44\": {\"44\": 132}, \"42\": {\"42\": 38, \"55\": 1, \"54\": 1}, \"54\": {\"54\": 103, \"42\": 1}, \"1\": {\"1\": 100}, \"46\": {\"46\": 128}, \"6\": {\"6\": 94, \"50\": 2}, \"43\": {\"43\": 144}, \"51\": {\"51\": 142}, \"22\": {\"22\": 129, \"0\": 5, \"52\": 2}, \"0\": {\"0\": 128}}, \"CORES_4\": {\"32\": {\"32\": 20, \"38\": 1, \"24\": 1, \"43\": 2}, \"2\": {\"2\": 33, \"49\": 1, \"14\": 2}, \"41\": {\"41\": 30, \"37\": 3, \"24\": 1, \"2\": 1, \"36\": 1}, \"11\": {\"11\": 91, \"10\": 2, \"16\": 7, \"15\": 2}, \"57\": {\"57\": 99, \"29\": 1}, \"6\": {\"6\": 107, \"50\": 3, \"3\": 2}, \"23\": {\"23\": 124, \"54\": 2, \"41\": 3, \"43\": 7}, \"52\": {\"52\": 116}, \"38\": {\"38\": 34, \"7\": 1, \"14\": 1, \"32\": 3, \"13\": 1}, \"50\": {\"50\": 125, \"3\": 2, \"6\": 5}, \"55\": {\"55\": 152}, \"46\": {\"46\": 151, \"22\": 3}, \"37\": {\"20\": 1, \"37\": 18, \"8\": 2, \"39\": 1, \"13\": 1, \"52\": 1}, \"20\": {\"20\": 118}, \"49\": {\"41\": 4, \"49\": 10, \"7\": 3, \"37\": 1, \"14\": 1, \"35\": 1}, \"45\": {\"45\": 96}, \"54\": {\"54\": 102, \"23\": 3, \"53\": 3}, \"3\": {\"3\": 115, \"50\": 5, \"6\": 4}, \"13\": {\"13\": 152}, \"18\": {\"18\": 107, \"25\": 1}, \"21\": {\"21\": 126}, \"43\": {\"43\": 143, \"24\": 1}, \"47\": {\"47\": 120}, \"4\": {\"4\": 132}, \"12\": {\"12\": 92}, \"9\": {\"9\": 126, \"27\": 1, \"29\": 1}, \"7\": {\"7\": 17, \"49\": 2, \"39\": 2, \"37\": 1, \"32\": 1, \"2\": 1}, \"56\": {\"56\": 112}, \"28\": {\"28\": 29, \"34\": 3}, \"44\": {\"44\": 132}, \"24\": {\"24\": 49, \"43\": 7}, \"33\": {\"33\": 36}, \"35\": {\"55\": 2, \"19\": 3, \"35\": 20, \"42\": 5, \"33\": 7, \"2\": 2, \"32\": 1}, \"51\": {\"51\": 137, \"36\": 1}, \"39\": {\"39\": 19, \"37\": 1}, \"36\": {\"36\": 84, \"51\": 6, \"53\": 1, \"54\": 1}, \"19\": {\"19\": 140}, \"0\": {\"0\": 71, \"52\": 8, \"46\": 1}, \"15\": {\"15\": 133, \"10\": 3}, \"29\": {\"29\": 122, \"57\": 2}, \"30\": {\"30\": 44}, \"1\": {\"1\": 40}, \"22\": {\"22\": 125, \"46\": 2, \"5\": 1}, \"40\": {\"40\": 146}, \"8\": {\"8\": 128}, \"53\": {\"53\": 138}, \"34\": {\"34\": 22, \"42\": 2}, \"10\": {\"10\": 121, \"15\": 1}, \"31\": {\"31\": 26, \"37\": 1, \"54\": 1}, \"17\": {\"17\": 80}, \"16\": {\"16\": 93, \"11\": 3}, \"42\": {\"42\": 28, \"26\": 1, \"28\": 1, \"35\": 2}, \"27\": {\"27\": 142}, \"14\": {\"14\": 15, \"57\": 1}, \"25\": {\"25\": 122}, \"48\": {\"48\": 132}, \"26\": {\"26\": 19, \"49\": 1, \"42\": 2, \"28\": 2}, \"5\": {\"5\": 108}}, \"CORES_3\": {\"14\": {\"14\": 38, \"57\": 2}, \"18\": {\"18\": 84}, \"30\": {\"30\": 120}, \"16\": {\"16\": 156}, \"1\": {\"1\": 100}, \"20\": {\"20\": 130, \"8\": 2}, \"7\": {\"7\": 30, \"13\": 2, \"1\": 1, \"41\": 1, \"0\": 1, \"33\": 1}, \"52\": {\"52\": 130}, \"9\": {\"9\": 140}, \"23\": {\"23\": 141, \"26\": 1, \"24\": 2}, \"55\": {\"55\": 164}, \"29\": {\"29\": 126}, \"56\": {\"56\": 131, \"57\": 1, \"22\": 2}, \"3\": {\"3\": 120, \"50\": 4}, \"42\": {\"42\": 24, \"55\": 2, \"35\": 2}, \"6\": {\"6\": 87, \"50\": 1}, \"5\": {\"5\": 116}, \"27\": {\"27\": 140, \"9\": 4}, \"47\": {\"47\": 90, \"0\": 2}, \"39\": {\"39\": 16}, \"34\": {\"34\": 23, \"35\": 4, \"55\": 2, \"23\": 2, \"19\": 1}, \"4\": {\"4\": 126}, \"24\": {\"24\": 103, \"43\": 1}, \"46\": {\"46\": 111, \"3\": 1, \"21\": 6}, \"50\": {\"50\": 122, \"3\": 4}, \"38\": {\"38\": 28}, \"54\": {\"54\": 99, \"53\": 1}, \"35\": {\"35\": 17, \"55\": 5, \"42\": 3, \"23\": 1, \"34\": 1, \"49\": 1}, \"2\": {\"2\": 31, \"36\": 1}, \"41\": {\"41\": 26, \"7\": 1, \"39\": 1}, \"57\": {\"57\": 117, \"29\": 1}, \"25\": {\"25\": 150}, \"48\": {\"48\": 116}, \"33\": {\"33\": 28}, \"45\": {\"45\": 60}, \"13\": {\"13\": 126}, \"36\": {\"36\": 98, \"17\": 1, \"51\": 1}, \"43\": {\"43\": 125, \"24\": 6, \"26\": 1}, \"28\": {\"28\": 28}, \"0\": {\"0\": 124}, \"12\": {\"12\": 92}, \"31\": {\"31\": 28}, \"40\": {\"40\": 116}, \"44\": {\"44\": 88}, \"32\": {\"32\": 28}, \"26\": {\"26\": 24}, \"8\": {\"8\": 116}, \"10\": {\"10\": 64}, \"15\": {\"15\": 142}, \"21\": {\"21\": 127, \"3\": 1}, \"37\": {\"37\": 28}, \"17\": {\"17\": 108}, \"51\": {\"51\": 124}, \"53\": {\"53\": 142, \"54\": 1, \"25\": 1}, \"19\": {\"19\": 136}, \"49\": {\"49\": 17, \"14\": 1, \"43\": 1, \"55\": 1}, \"11\": {\"11\": 125, \"16\": 5, \"15\": 8}, \"22\": {\"22\": 127, \"56\": 3}}}, \"per_domain_accuracy\": {\"ORACLE.run1_8\": {\"accuracy\": 0.8569791666666666, \"source?\": true}, \"ORACLE.run1_38\": {\"accuracy\": 0.8955208333333333, \"source?\": true}, \"ORACLE.run1_26\": {\"accuracy\": 0.7502604166666667, \"source?\": true}, \"ORACLE.run1_20\": {\"accuracy\": 0.8541666666666666, \"source?\": true}, \"ORACLE.run1_50\": {\"accuracy\": 0.8965625, \"source?\": true}, \"ORACLE.run1_32\": {\"accuracy\": 0.8511979166666667, \"source?\": true}, \"ORACLE.run1_44\": {\"accuracy\": 0.8400520833333334, \"source?\": true}, \"ORACLE.run1_14\": {\"accuracy\": 0.8678125, \"source?\": true}, \"CORES_2\": {\"accuracy\": 0.9909446022727273, \"source?\": false}, \"CORES_5\": {\"accuracy\": 0.988939606741573, \"source?\": false}, \"CORES_1\": {\"accuracy\": 0.984375, \"source?\": false}, \"CORES_4\": {\"accuracy\": 0.9672529940119761, \"source?\": false}, \"CORES_3\": {\"accuracy\": 0.9819078947368421, \"source?\": false}}}, \"history\": {\"epoch_indices\": [1, 2, 3, 4, 5, 6], \"train_label_loss\": [0.6863048678739662, 0.42332087264850826, 0.35783237762860065, 0.3271939598300794, 0.3048250283071372, 0.28710058153008244], \"source_val_label_loss\": [0.7661779522895813, 0.40552493929862976, 0.383112370967865, 0.3589882552623749, 0.35718396306037903, 0.34611400961875916], \"target_val_label_loss\": [15.00267219543457, 2.2887160778045654, 3.2256076335906982, 3.6521642208099365, 5.767307281494141, 6.071495532989502], \"source_val_acc_label\": [0.7812890625, 0.8515690104166667, 0.8650325520833333, 0.870546875, 0.8791276041666667, 0.8764127604166667], \"target_val_acc_label\": [0.946724828375286, 0.9828732837528604, 0.9793692791762014, 0.9789044622425629, 0.976008295194508, 0.9772954805491991]}, \"dataset_metrics\": {\"source\": {\"train\": {\"n_unique_x\": 896000, \"n_unique_y\": 16, \"n_batch/episode\": 33600}, \"val\": {\"n_unique_x\": 192000, \"n_unique_y\": 16, \"n_batch/episode\": 4800}, \"test\": {\"n_unique_x\": 192000, \"n_unique_y\": 16, \"n_batch/episode\": 4800}}, \"target\": {\"train\": {\"n_unique_x\": 175127, \"n_unique_y\": 58, \"n_batch/episode\": 6303}, \"val\": {\"n_unique_x\": 37135, \"n_unique_y\": 58, \"n_batch/episode\": 874}, \"test\": {\"n_unique_x\": 37673, \"n_unique_y\": 58, \"n_batch/episode\": 893}}}}'"
      ]
     },
     "execution_count": 29,
     "metadata": {},
     "output_type": "execute_result"
    }
   ],
   "source": [
    "json.dumps(experiment)"
   ]
  }
 ],
 "metadata": {
  "celltoolbar": "Tags",
  "kernelspec": {
   "display_name": "Python 3 (ipykernel)",
   "language": "python",
   "name": "python3"
  },
  "language_info": {
   "codemirror_mode": {
    "name": "ipython",
    "version": 3
   },
   "file_extension": ".py",
   "mimetype": "text/x-python",
   "name": "python",
   "nbconvert_exporter": "python",
   "pygments_lexer": "ipython3",
   "version": "3.8.12"
  },
  "papermill": {
   "default_parameters": {},
   "duration": 6191.985814,
   "end_time": "2022-03-22T20:08:24.986410",
   "environment_variables": {},
   "exception": null,
   "input_path": "/root/csc500-main/csc500-notebooks/templates/tl_ptn_template.ipynb",
   "output_path": "trial.ipynb",
   "parameters": {
    "parameters": {
     "BEST_MODEL_PATH": "./best_model.pth",
     "NUM_LOGS_PER_EPOCH": 10,
     "criteria_for_best": "target_accuracy",
     "dataset_seed": 154325,
     "datasets": [
      {
       "domain_prefix": "CORES_",
       "domains": [
        1,
        2,
        3,
        4,
        5
       ],
       "episode_transforms": [],
       "labels": [
        "1-10.",
        "1-11.",
        "1-15.",
        "1-16.",
        "1-17.",
        "1-18.",
        "1-19.",
        "10-4.",
        "10-7.",
        "11-1.",
        "11-14.",
        "11-17.",
        "11-20.",
        "11-7.",
        "13-20.",
        "13-8.",
        "14-10.",
        "14-11.",
        "14-14.",
        "14-7.",
        "15-1.",
        "15-20.",
        "16-1.",
        "16-16.",
        "17-10.",
        "17-11.",
        "17-2.",
        "19-1.",
        "19-16.",
        "19-19.",
        "19-20.",
        "19-3.",
        "2-10.",
        "2-11.",
        "2-17.",
        "2-18.",
        "2-20.",
        "2-3.",
        "2-4.",
        "2-5.",
        "2-6.",
        "2-7.",
        "2-8.",
        "3-13.",
        "3-18.",
        "3-3.",
        "4-1.",
        "4-10.",
        "4-11.",
        "4-19.",
        "5-5.",
        "6-15.",
        "7-10.",
        "7-14.",
        "8-18.",
        "8-20.",
        "8-3.",
        "8-8."
       ],
       "num_examples_per_domain_per_label": -1,
       "pickle_path": "/root/csc500-main/datasets/cores.stratified_ds.2022A.pkl",
       "source_or_target_dataset": "target",
       "x_transforms": []
      },
      {
       "domain_prefix": "ORACLE.run1_",
       "domains": [
        32,
        38,
        8,
        44,
        14,
        50,
        20,
        26
       ],
       "episode_transforms": [],
       "labels": [
        "3123D52",
        "3123D65",
        "3123D79",
        "3123D80",
        "3123D54",
        "3123D70",
        "3123D7B",
        "3123D89",
        "3123D58",
        "3123D76",
        "3123D7D",
        "3123EFE",
        "3123D64",
        "3123D78",
        "3123D7E",
        "3124E4A"
       ],
       "num_examples_per_domain_per_label": 10000,
       "pickle_path": "/root/csc500-main/datasets/oracle.Run1_10kExamples_stratified_ds.2022A.pkl",
       "source_or_target_dataset": "source",
       "x_transforms": []
      }
     ],
     "device": "cuda",
     "experiment_name": "tl_1v2:cores-oracle.run1",
     "lr": 0.0001,
     "n_epoch": 50,
     "n_query": 2,
     "n_shot": 3,
     "n_way": 16,
     "patience": 3,
     "seed": 154325,
     "test_k_factor": 2,
     "torch_default_dtype": "torch.float32",
     "train_k_factor": 3,
     "val_k_factor": 2,
     "x_net": [
      {
       "class": "nnReshape",
       "kargs": {
        "shape": [
         -1,
         1,
         2,
         256
        ]
       }
      },
      {
       "class": "Conv2d",
       "kargs": {
        "bias": false,
        "in_channels": 1,
        "kernel_size": [
         1,
         7
        ],
        "out_channels": 256,
        "padding": [
         0,
         3
        ]
       }
      },
      {
       "class": "ReLU",
       "kargs": {
        "inplace": true
       }
      },
      {
       "class": "BatchNorm2d",
       "kargs": {
        "num_features": 256
       }
      },
      {
       "class": "Conv2d",
       "kargs": {
        "bias": true,
        "in_channels": 256,
        "kernel_size": [
         2,
         7
        ],
        "out_channels": 80,
        "padding": [
         0,
         3
        ]
       }
      },
      {
       "class": "ReLU",
       "kargs": {
        "inplace": true
       }
      },
      {
       "class": "BatchNorm2d",
       "kargs": {
        "num_features": 80
       }
      },
      {
       "class": "Flatten",
       "kargs": {}
      },
      {
       "class": "Linear",
       "kargs": {
        "in_features": 20480,
        "out_features": 256
       }
      },
      {
       "class": "ReLU",
       "kargs": {
        "inplace": true
       }
      },
      {
       "class": "BatchNorm1d",
       "kargs": {
        "num_features": 256
       }
      },
      {
       "class": "Linear",
       "kargs": {
        "in_features": 256,
        "out_features": 256
       }
      }
     ]
    }
   },
   "start_time": "2022-03-22T18:25:13.000596",
   "version": "2.3.4"
  }
 },
 "nbformat": 4,
 "nbformat_minor": 5
}