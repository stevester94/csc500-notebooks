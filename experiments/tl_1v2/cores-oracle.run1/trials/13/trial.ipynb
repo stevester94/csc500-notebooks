{
 "cells": [
  {
   "cell_type": "markdown",
   "id": "9fea5f46",
   "metadata": {
    "papermill": {
     "duration": 0.029127,
     "end_time": "2022-03-22T10:44:01.392014",
     "exception": false,
     "start_time": "2022-03-22T10:44:01.362887",
     "status": "completed"
    },
    "tags": []
   },
   "source": [
    "# Transfer Learning Template"
   ]
  },
  {
   "cell_type": "code",
   "execution_count": 1,
   "id": "0902182a",
   "metadata": {
    "execution": {
     "iopub.execute_input": "2022-03-22T10:44:01.460994Z",
     "iopub.status.busy": "2022-03-22T10:44:01.453769Z",
     "iopub.status.idle": "2022-03-22T10:44:03.323303Z",
     "shell.execute_reply": "2022-03-22T10:44:03.322914Z"
    },
    "papermill": {
     "duration": 1.90251,
     "end_time": "2022-03-22T10:44:03.323387",
     "exception": false,
     "start_time": "2022-03-22T10:44:01.420877",
     "status": "completed"
    },
    "tags": []
   },
   "outputs": [],
   "source": [
    "%load_ext autoreload\n",
    "%autoreload 2\n",
    "%matplotlib inline\n",
    "\n",
    "    \n",
    "import os, json, sys, time, random\n",
    "import numpy as np\n",
    "import torch\n",
    "from torch.optim import Adam\n",
    "from  easydict import EasyDict\n",
    "import matplotlib.pyplot as plt\n",
    "\n",
    "from steves_models.steves_ptn import Steves_Prototypical_Network\n",
    "\n",
    "from steves_utils.lazy_iterable_wrapper import Lazy_Iterable_Wrapper\n",
    "from steves_utils.iterable_aggregator import Iterable_Aggregator\n",
    "from steves_utils.ptn_train_eval_test_jig import  PTN_Train_Eval_Test_Jig\n",
    "from steves_utils.torch_sequential_builder import build_sequential\n",
    "from steves_utils.torch_utils import get_dataset_metrics, ptn_confusion_by_domain_over_dataloader\n",
    "from steves_utils.utils_v2 import (per_domain_accuracy_from_confusion, get_datasets_base_path)\n",
    "from steves_utils.PTN.utils import independent_accuracy_assesment\n",
    "\n",
    "from torch.utils.data import DataLoader\n",
    "\n",
    "from steves_utils.stratified_dataset.episodic_accessor import Episodic_Accessor_Factory\n",
    "\n",
    "from steves_utils.ptn_do_report import (\n",
    "    get_loss_curve,\n",
    "    get_results_table,\n",
    "    get_parameters_table,\n",
    "    get_domain_accuracies,\n",
    ")\n",
    "\n",
    "from steves_utils.transforms import get_chained_transform"
   ]
  },
  {
   "cell_type": "markdown",
   "id": "41c840b4",
   "metadata": {
    "papermill": {
     "duration": 0.01956,
     "end_time": "2022-03-22T10:44:03.362980",
     "exception": false,
     "start_time": "2022-03-22T10:44:03.343420",
     "status": "completed"
    },
    "tags": []
   },
   "source": [
    "# Allowed Parameters\n",
    "These are allowed parameters, not defaults\n",
    "Each of these values need to be present in the injected parameters (the notebook will raise an exception if they are not present)\n",
    "\n",
    "Papermill uses the cell tag \"parameters\" to inject the real parameters below this cell.\n",
    "Enable tags to see what I mean"
   ]
  },
  {
   "cell_type": "code",
   "execution_count": 2,
   "id": "fd44eb83",
   "metadata": {
    "execution": {
     "iopub.execute_input": "2022-03-22T10:44:03.407595Z",
     "iopub.status.busy": "2022-03-22T10:44:03.406489Z",
     "iopub.status.idle": "2022-03-22T10:44:03.429169Z",
     "shell.execute_reply": "2022-03-22T10:44:03.428442Z"
    },
    "papermill": {
     "duration": 0.04692,
     "end_time": "2022-03-22T10:44:03.429335",
     "exception": false,
     "start_time": "2022-03-22T10:44:03.382415",
     "status": "completed"
    },
    "tags": []
   },
   "outputs": [],
   "source": [
    "required_parameters = {\n",
    "    \"experiment_name\",\n",
    "    \"lr\",\n",
    "    \"device\",\n",
    "    \"seed\",\n",
    "    \"dataset_seed\",\n",
    "    \"n_shot\",\n",
    "    \"n_query\",\n",
    "    \"n_way\",\n",
    "    \"train_k_factor\",\n",
    "    \"val_k_factor\",\n",
    "    \"test_k_factor\",\n",
    "    \"n_epoch\",\n",
    "    \"patience\",\n",
    "    \"criteria_for_best\",\n",
    "    \"x_net\",\n",
    "    \"datasets\",\n",
    "    \"torch_default_dtype\",\n",
    "    \"NUM_LOGS_PER_EPOCH\",\n",
    "    \"BEST_MODEL_PATH\",\n",
    "    \"x_shape\",\n",
    "}"
   ]
  },
  {
   "cell_type": "code",
   "execution_count": 3,
   "id": "fa3f0049",
   "metadata": {
    "execution": {
     "iopub.execute_input": "2022-03-22T10:44:03.492336Z",
     "iopub.status.busy": "2022-03-22T10:44:03.491344Z",
     "iopub.status.idle": "2022-03-22T10:44:03.512798Z",
     "shell.execute_reply": "2022-03-22T10:44:03.512106Z"
    },
    "papermill": {
     "duration": 0.055843,
     "end_time": "2022-03-22T10:44:03.512947",
     "exception": false,
     "start_time": "2022-03-22T10:44:03.457104",
     "status": "completed"
    },
    "tags": [
     "parameters"
    ]
   },
   "outputs": [],
   "source": [
    "from steves_utils.CORES.utils import (\n",
    "    ALL_NODES,\n",
    "    ALL_NODES_MINIMUM_1000_EXAMPLES,\n",
    "    ALL_DAYS\n",
    ")\n",
    "\n",
    "from steves_utils.ORACLE.utils_v2 import (\n",
    "    ALL_DISTANCES_FEET_NARROWED,\n",
    "    ALL_RUNS,\n",
    "    ALL_SERIAL_NUMBERS,\n",
    ")\n",
    "\n",
    "standalone_parameters = {}\n",
    "standalone_parameters[\"experiment_name\"] = \"STANDALONE PTN\"\n",
    "standalone_parameters[\"lr\"] = 0.001\n",
    "standalone_parameters[\"device\"] = \"cuda\"\n",
    "\n",
    "standalone_parameters[\"seed\"] = 1337\n",
    "standalone_parameters[\"dataset_seed\"] = 1337\n",
    "\n",
    "standalone_parameters[\"n_way\"] = 8\n",
    "standalone_parameters[\"n_shot\"] = 3\n",
    "standalone_parameters[\"n_query\"]  = 2\n",
    "standalone_parameters[\"train_k_factor\"] = 1\n",
    "standalone_parameters[\"val_k_factor\"] = 2\n",
    "standalone_parameters[\"test_k_factor\"] = 2\n",
    "\n",
    "\n",
    "standalone_parameters[\"n_epoch\"] = 50\n",
    "\n",
    "standalone_parameters[\"patience\"] = 10\n",
    "standalone_parameters[\"criteria_for_best\"] = \"source_loss\"\n",
    "\n",
    "standalone_parameters[\"datasets\"] = [\n",
    "    {\n",
    "        \"labels\": ALL_SERIAL_NUMBERS,\n",
    "        \"domains\": ALL_DISTANCES_FEET_NARROWED,\n",
    "        \"num_examples_per_domain_per_label\": 100,\n",
    "        \"pickle_path\": os.path.join(get_datasets_base_path(), \"oracle.Run1_framed_2000Examples_stratified_ds.2022A.pkl\"),\n",
    "        \"source_or_target_dataset\": \"source\",\n",
    "        \"x_transforms\": [\"unit_mag\", \"minus_two\"],\n",
    "        \"episode_transforms\": [],\n",
    "        \"domain_prefix\": \"ORACLE_\"\n",
    "    },\n",
    "    {\n",
    "        \"labels\": ALL_NODES,\n",
    "        \"domains\": ALL_DAYS,\n",
    "        \"num_examples_per_domain_per_label\": 100,\n",
    "        \"pickle_path\": os.path.join(get_datasets_base_path(), \"cores.stratified_ds.2022A.pkl\"),\n",
    "        \"source_or_target_dataset\": \"target\",\n",
    "        \"x_transforms\": [\"unit_power\", \"times_zero\"],\n",
    "        \"episode_transforms\": [],\n",
    "        \"domain_prefix\": \"CORES_\"\n",
    "    }   \n",
    "]\n",
    "\n",
    "standalone_parameters[\"torch_default_dtype\"] = \"torch.float32\" \n",
    "\n",
    "\n",
    "\n",
    "standalone_parameters[\"x_net\"] =     [\n",
    "    {\"class\": \"nnReshape\", \"kargs\": {\"shape\":[-1, 1, 2, 256]}},\n",
    "    {\"class\": \"Conv2d\", \"kargs\": { \"in_channels\":1, \"out_channels\":256, \"kernel_size\":(1,7), \"bias\":False, \"padding\":(0,3), },},\n",
    "    {\"class\": \"ReLU\", \"kargs\": {\"inplace\": True}},\n",
    "    {\"class\": \"BatchNorm2d\", \"kargs\": {\"num_features\":256}},\n",
    "\n",
    "    {\"class\": \"Conv2d\", \"kargs\": { \"in_channels\":256, \"out_channels\":80, \"kernel_size\":(2,7), \"bias\":True, \"padding\":(0,3), },},\n",
    "    {\"class\": \"ReLU\", \"kargs\": {\"inplace\": True}},\n",
    "    {\"class\": \"BatchNorm2d\", \"kargs\": {\"num_features\":80}},\n",
    "    {\"class\": \"Flatten\", \"kargs\": {}},\n",
    "\n",
    "    {\"class\": \"Linear\", \"kargs\": {\"in_features\": 80*256, \"out_features\": 256}}, # 80 units per IQ pair\n",
    "    {\"class\": \"ReLU\", \"kargs\": {\"inplace\": True}},\n",
    "    {\"class\": \"BatchNorm1d\", \"kargs\": {\"num_features\":256}},\n",
    "\n",
    "    {\"class\": \"Linear\", \"kargs\": {\"in_features\": 256, \"out_features\": 256}},\n",
    "]\n",
    "\n",
    "# Parameters relevant to results\n",
    "# These parameters will basically never need to change\n",
    "standalone_parameters[\"NUM_LOGS_PER_EPOCH\"] = 10\n",
    "standalone_parameters[\"BEST_MODEL_PATH\"] = \"./best_model.pth\"\n",
    "\n",
    "\n",
    "\n",
    "\n"
   ]
  },
  {
   "cell_type": "code",
   "execution_count": 4,
   "id": "c0a964d6",
   "metadata": {
    "execution": {
     "iopub.execute_input": "2022-03-22T10:44:03.573826Z",
     "iopub.status.busy": "2022-03-22T10:44:03.572874Z",
     "iopub.status.idle": "2022-03-22T10:44:03.594350Z",
     "shell.execute_reply": "2022-03-22T10:44:03.593621Z"
    },
    "papermill": {
     "duration": 0.05547,
     "end_time": "2022-03-22T10:44:03.594497",
     "exception": false,
     "start_time": "2022-03-22T10:44:03.539027",
     "status": "completed"
    },
    "tags": [
     "injected-parameters"
    ]
   },
   "outputs": [],
   "source": [
    "# Parameters\n",
    "parameters = {\n",
    "    \"experiment_name\": \"tl_1v2:cores-oracle.run1\",\n",
    "    \"device\": \"cuda\",\n",
    "    \"lr\": 0.0001,\n",
    "    \"n_shot\": 3,\n",
    "    \"n_query\": 2,\n",
    "    \"train_k_factor\": 3,\n",
    "    \"val_k_factor\": 2,\n",
    "    \"test_k_factor\": 2,\n",
    "    \"torch_default_dtype\": \"torch.float32\",\n",
    "    \"n_epoch\": 50,\n",
    "    \"patience\": 3,\n",
    "    \"criteria_for_best\": \"target_accuracy\",\n",
    "    \"x_net\": [\n",
    "        {\"class\": \"nnReshape\", \"kargs\": {\"shape\": [-1, 1, 2, 256]}},\n",
    "        {\n",
    "            \"class\": \"Conv2d\",\n",
    "            \"kargs\": {\n",
    "                \"in_channels\": 1,\n",
    "                \"out_channels\": 256,\n",
    "                \"kernel_size\": [1, 7],\n",
    "                \"bias\": False,\n",
    "                \"padding\": [0, 3],\n",
    "            },\n",
    "        },\n",
    "        {\"class\": \"ReLU\", \"kargs\": {\"inplace\": True}},\n",
    "        {\"class\": \"BatchNorm2d\", \"kargs\": {\"num_features\": 256}},\n",
    "        {\n",
    "            \"class\": \"Conv2d\",\n",
    "            \"kargs\": {\n",
    "                \"in_channels\": 256,\n",
    "                \"out_channels\": 80,\n",
    "                \"kernel_size\": [2, 7],\n",
    "                \"bias\": True,\n",
    "                \"padding\": [0, 3],\n",
    "            },\n",
    "        },\n",
    "        {\"class\": \"ReLU\", \"kargs\": {\"inplace\": True}},\n",
    "        {\"class\": \"BatchNorm2d\", \"kargs\": {\"num_features\": 80}},\n",
    "        {\"class\": \"Flatten\", \"kargs\": {}},\n",
    "        {\"class\": \"Linear\", \"kargs\": {\"in_features\": 20480, \"out_features\": 256}},\n",
    "        {\"class\": \"ReLU\", \"kargs\": {\"inplace\": True}},\n",
    "        {\"class\": \"BatchNorm1d\", \"kargs\": {\"num_features\": 256}},\n",
    "        {\"class\": \"Linear\", \"kargs\": {\"in_features\": 256, \"out_features\": 256}},\n",
    "    ],\n",
    "    \"NUM_LOGS_PER_EPOCH\": 10,\n",
    "    \"BEST_MODEL_PATH\": \"./best_model.pth\",\n",
    "    \"n_way\": 16,\n",
    "    \"datasets\": [\n",
    "        {\n",
    "            \"labels\": [\n",
    "                \"1-10.\",\n",
    "                \"1-11.\",\n",
    "                \"1-15.\",\n",
    "                \"1-16.\",\n",
    "                \"1-17.\",\n",
    "                \"1-18.\",\n",
    "                \"1-19.\",\n",
    "                \"10-4.\",\n",
    "                \"10-7.\",\n",
    "                \"11-1.\",\n",
    "                \"11-14.\",\n",
    "                \"11-17.\",\n",
    "                \"11-20.\",\n",
    "                \"11-7.\",\n",
    "                \"13-20.\",\n",
    "                \"13-8.\",\n",
    "                \"14-10.\",\n",
    "                \"14-11.\",\n",
    "                \"14-14.\",\n",
    "                \"14-7.\",\n",
    "                \"15-1.\",\n",
    "                \"15-20.\",\n",
    "                \"16-1.\",\n",
    "                \"16-16.\",\n",
    "                \"17-10.\",\n",
    "                \"17-11.\",\n",
    "                \"17-2.\",\n",
    "                \"19-1.\",\n",
    "                \"19-16.\",\n",
    "                \"19-19.\",\n",
    "                \"19-20.\",\n",
    "                \"19-3.\",\n",
    "                \"2-10.\",\n",
    "                \"2-11.\",\n",
    "                \"2-17.\",\n",
    "                \"2-18.\",\n",
    "                \"2-20.\",\n",
    "                \"2-3.\",\n",
    "                \"2-4.\",\n",
    "                \"2-5.\",\n",
    "                \"2-6.\",\n",
    "                \"2-7.\",\n",
    "                \"2-8.\",\n",
    "                \"3-13.\",\n",
    "                \"3-18.\",\n",
    "                \"3-3.\",\n",
    "                \"4-1.\",\n",
    "                \"4-10.\",\n",
    "                \"4-11.\",\n",
    "                \"4-19.\",\n",
    "                \"5-5.\",\n",
    "                \"6-15.\",\n",
    "                \"7-10.\",\n",
    "                \"7-14.\",\n",
    "                \"8-18.\",\n",
    "                \"8-20.\",\n",
    "                \"8-3.\",\n",
    "                \"8-8.\",\n",
    "            ],\n",
    "            \"domains\": [1, 2, 3, 4, 5],\n",
    "            \"num_examples_per_domain_per_label\": -1,\n",
    "            \"pickle_path\": \"/root/csc500-main/datasets/cores.stratified_ds.2022A.pkl\",\n",
    "            \"source_or_target_dataset\": \"source\",\n",
    "            \"x_transforms\": [\"unit_mag\"],\n",
    "            \"episode_transforms\": [],\n",
    "            \"domain_prefix\": \"CORES_\",\n",
    "        },\n",
    "        {\n",
    "            \"labels\": [\n",
    "                \"3123D52\",\n",
    "                \"3123D65\",\n",
    "                \"3123D79\",\n",
    "                \"3123D80\",\n",
    "                \"3123D54\",\n",
    "                \"3123D70\",\n",
    "                \"3123D7B\",\n",
    "                \"3123D89\",\n",
    "                \"3123D58\",\n",
    "                \"3123D76\",\n",
    "                \"3123D7D\",\n",
    "                \"3123EFE\",\n",
    "                \"3123D64\",\n",
    "                \"3123D78\",\n",
    "                \"3123D7E\",\n",
    "                \"3124E4A\",\n",
    "            ],\n",
    "            \"domains\": [32, 38, 8, 44, 14, 50, 20, 26],\n",
    "            \"num_examples_per_domain_per_label\": 10000,\n",
    "            \"pickle_path\": \"/root/csc500-main/datasets/oracle.Run1_10kExamples_stratified_ds.2022A.pkl\",\n",
    "            \"source_or_target_dataset\": \"target\",\n",
    "            \"x_transforms\": [\"unit_mag\"],\n",
    "            \"episode_transforms\": [],\n",
    "            \"domain_prefix\": \"ORACLE.run1_\",\n",
    "        },\n",
    "    ],\n",
    "    \"dataset_seed\": 154325,\n",
    "    \"seed\": 154325,\n",
    "}\n"
   ]
  },
  {
   "cell_type": "code",
   "execution_count": 5,
   "id": "8fa1cc33",
   "metadata": {
    "execution": {
     "iopub.execute_input": "2022-03-22T10:44:03.645529Z",
     "iopub.status.busy": "2022-03-22T10:44:03.645158Z",
     "iopub.status.idle": "2022-03-22T10:44:03.668743Z",
     "shell.execute_reply": "2022-03-22T10:44:03.668017Z"
    },
    "papermill": {
     "duration": 0.047587,
     "end_time": "2022-03-22T10:44:03.668890",
     "exception": false,
     "start_time": "2022-03-22T10:44:03.621303",
     "status": "completed"
    },
    "tags": []
   },
   "outputs": [],
   "source": [
    "# Set this to True if you want to run this template directly\n",
    "STANDALONE = False\n",
    "if STANDALONE:\n",
    "    print(\"parameters not injected, running with standalone_parameters\")\n",
    "    parameters = standalone_parameters\n",
    "\n",
    "if not 'parameters' in locals() and not 'parameters' in globals():\n",
    "    raise Exception(\"Parameter injection failed\")\n",
    "\n",
    "#Use an easy dict for all the parameters\n",
    "p = EasyDict(parameters)\n",
    "\n",
    "if \"x_shape\" not in p:\n",
    "    p.x_shape = [2,256] # Default to this if we dont supply x_shape\n",
    "\n",
    "\n",
    "supplied_keys = set(p.keys())\n",
    "\n",
    "if  supplied_keys != required_parameters:\n",
    "    print(\"Parameters are incorrect\")\n",
    "    if len(supplied_keys - required_parameters)>0: print(\"Shouldn't have:\", str(supplied_keys - required_parameters))\n",
    "    if len(required_parameters - supplied_keys)>0: print(\"Need to have:\", str(required_parameters - supplied_keys))\n",
    "    raise RuntimeError(\"Parameters are incorrect\")"
   ]
  },
  {
   "cell_type": "code",
   "execution_count": 6,
   "id": "3a028d58",
   "metadata": {
    "execution": {
     "iopub.execute_input": "2022-03-22T10:44:03.719517Z",
     "iopub.status.busy": "2022-03-22T10:44:03.719153Z",
     "iopub.status.idle": "2022-03-22T10:44:03.745846Z",
     "shell.execute_reply": "2022-03-22T10:44:03.745123Z"
    },
    "papermill": {
     "duration": 0.048819,
     "end_time": "2022-03-22T10:44:03.745998",
     "exception": false,
     "start_time": "2022-03-22T10:44:03.697179",
     "status": "completed"
    },
    "tags": []
   },
   "outputs": [],
   "source": [
    "###################################\n",
    "# Set the RNGs and make it all deterministic\n",
    "###################################\n",
    "np.random.seed(p.seed)\n",
    "random.seed(p.seed)\n",
    "torch.manual_seed(p.seed)\n",
    "\n",
    "torch.use_deterministic_algorithms(True) "
   ]
  },
  {
   "cell_type": "code",
   "execution_count": 7,
   "id": "b691acf6",
   "metadata": {
    "execution": {
     "iopub.execute_input": "2022-03-22T10:44:03.794207Z",
     "iopub.status.busy": "2022-03-22T10:44:03.793844Z",
     "iopub.status.idle": "2022-03-22T10:44:03.820660Z",
     "shell.execute_reply": "2022-03-22T10:44:03.819959Z"
    },
    "papermill": {
     "duration": 0.049692,
     "end_time": "2022-03-22T10:44:03.820810",
     "exception": false,
     "start_time": "2022-03-22T10:44:03.771118",
     "status": "completed"
    },
    "tags": []
   },
   "outputs": [],
   "source": [
    "###########################################\n",
    "# The stratified datasets honor this\n",
    "###########################################\n",
    "torch.set_default_dtype(eval(p.torch_default_dtype))"
   ]
  },
  {
   "cell_type": "code",
   "execution_count": 8,
   "id": "b5fba671",
   "metadata": {
    "execution": {
     "iopub.execute_input": "2022-03-22T10:44:03.867126Z",
     "iopub.status.busy": "2022-03-22T10:44:03.866765Z",
     "iopub.status.idle": "2022-03-22T10:44:03.922282Z",
     "shell.execute_reply": "2022-03-22T10:44:03.921580Z"
    },
    "papermill": {
     "duration": 0.07768,
     "end_time": "2022-03-22T10:44:03.922432",
     "exception": false,
     "start_time": "2022-03-22T10:44:03.844752",
     "status": "completed"
    },
    "tags": []
   },
   "outputs": [],
   "source": [
    "###################################\n",
    "# Build the network(s)\n",
    "# Note: It's critical to do this AFTER setting the RNG\n",
    "###################################\n",
    "x_net = build_sequential(p.x_net)"
   ]
  },
  {
   "cell_type": "code",
   "execution_count": 9,
   "id": "5d7e61cc",
   "metadata": {
    "execution": {
     "iopub.execute_input": "2022-03-22T10:44:03.970351Z",
     "iopub.status.busy": "2022-03-22T10:44:03.969990Z",
     "iopub.status.idle": "2022-03-22T10:44:03.990746Z",
     "shell.execute_reply": "2022-03-22T10:44:03.990041Z"
    },
    "papermill": {
     "duration": 0.042936,
     "end_time": "2022-03-22T10:44:03.990895",
     "exception": false,
     "start_time": "2022-03-22T10:44:03.947959",
     "status": "completed"
    },
    "tags": []
   },
   "outputs": [],
   "source": [
    "start_time_secs = time.time()"
   ]
  },
  {
   "cell_type": "code",
   "execution_count": 10,
   "id": "c6b67dfd",
   "metadata": {
    "execution": {
     "iopub.execute_input": "2022-03-22T10:44:04.041097Z",
     "iopub.status.busy": "2022-03-22T10:44:04.040735Z",
     "iopub.status.idle": "2022-03-22T10:44:04.058615Z",
     "shell.execute_reply": "2022-03-22T10:44:04.059281Z"
    },
    "papermill": {
     "duration": 0.041171,
     "end_time": "2022-03-22T10:44:04.059458",
     "exception": false,
     "start_time": "2022-03-22T10:44:04.018287",
     "status": "completed"
    },
    "tags": []
   },
   "outputs": [],
   "source": [
    "p.domains_source = []\n",
    "p.domains_target = []\n",
    "\n",
    "\n",
    "train_original_source = []\n",
    "val_original_source   = []\n",
    "test_original_source  = []\n",
    "\n",
    "train_original_target = []\n",
    "val_original_target   = []\n",
    "test_original_target  = []"
   ]
  },
  {
   "cell_type": "code",
   "execution_count": 11,
   "id": "e3d9c3d3",
   "metadata": {
    "execution": {
     "iopub.execute_input": "2022-03-22T10:44:04.110511Z",
     "iopub.status.busy": "2022-03-22T10:44:04.110152Z",
     "iopub.status.idle": "2022-03-22T10:44:04.128323Z",
     "shell.execute_reply": "2022-03-22T10:44:04.127587Z"
    },
    "papermill": {
     "duration": 0.039845,
     "end_time": "2022-03-22T10:44:04.128472",
     "exception": false,
     "start_time": "2022-03-22T10:44:04.088627",
     "status": "completed"
    },
    "tags": []
   },
   "outputs": [],
   "source": [
    "# global_x_transform_func = lambda x: normalize(x.to(torch.get_default_dtype()), \"unit_power\") # unit_power, unit_mag\n",
    "# global_x_transform_func = lambda x: normalize(x, \"unit_power\") # unit_power, unit_mag"
   ]
  },
  {
   "cell_type": "code",
   "execution_count": 12,
   "id": "acb78fd2",
   "metadata": {
    "execution": {
     "iopub.execute_input": "2022-03-22T10:44:04.184749Z",
     "iopub.status.busy": "2022-03-22T10:44:04.184174Z",
     "iopub.status.idle": "2022-03-22T10:44:04.204047Z",
     "shell.execute_reply": "2022-03-22T10:44:04.203230Z"
    },
    "papermill": {
     "duration": 0.049073,
     "end_time": "2022-03-22T10:44:04.204197",
     "exception": false,
     "start_time": "2022-03-22T10:44:04.155124",
     "status": "completed"
    },
    "tags": []
   },
   "outputs": [],
   "source": [
    "def add_dataset(\n",
    "    labels,\n",
    "    domains,\n",
    "    pickle_path,\n",
    "    x_transforms,\n",
    "    episode_transforms,\n",
    "    domain_prefix,\n",
    "    num_examples_per_domain_per_label,\n",
    "    source_or_target_dataset:str,\n",
    "    iterator_seed=p.seed,\n",
    "    dataset_seed=p.dataset_seed,\n",
    "    n_shot=p.n_shot,\n",
    "    n_way=p.n_way,\n",
    "    n_query=p.n_query,\n",
    "    train_val_test_k_factors=(p.train_k_factor,p.val_k_factor,p.test_k_factor),\n",
    "):\n",
    "   \n",
    "    if x_transforms == []: x_transform = None\n",
    "    else: x_transform = get_chained_transform(x_transforms)\n",
    "    \n",
    "    if episode_transforms == []: episode_transform = None\n",
    "    else: raise Exception(\"episode_transforms not implemented\")\n",
    "    \n",
    "    episode_transform = lambda tup, _prefix=domain_prefix: (_prefix + str(tup[0]), tup[1])\n",
    "\n",
    "\n",
    "    eaf = Episodic_Accessor_Factory(\n",
    "        labels=labels,\n",
    "        domains=domains,\n",
    "        num_examples_per_domain_per_label=num_examples_per_domain_per_label,\n",
    "        iterator_seed=iterator_seed,\n",
    "        dataset_seed=dataset_seed,\n",
    "        n_shot=n_shot,\n",
    "        n_way=n_way,\n",
    "        n_query=n_query,\n",
    "        train_val_test_k_factors=train_val_test_k_factors,\n",
    "        pickle_path=pickle_path,\n",
    "        x_transform_func=x_transform,\n",
    "    )\n",
    "\n",
    "    train, val, test = eaf.get_train(), eaf.get_val(), eaf.get_test()\n",
    "    train = Lazy_Iterable_Wrapper(train, episode_transform)\n",
    "    val = Lazy_Iterable_Wrapper(val, episode_transform)\n",
    "    test = Lazy_Iterable_Wrapper(test, episode_transform)\n",
    "\n",
    "    if source_or_target_dataset==\"source\":\n",
    "        train_original_source.append(train)\n",
    "        val_original_source.append(val)\n",
    "        test_original_source.append(test)\n",
    "\n",
    "        p.domains_source.extend(\n",
    "            [domain_prefix + str(u) for u in domains]\n",
    "        )\n",
    "    elif source_or_target_dataset==\"target\":\n",
    "        train_original_target.append(train)\n",
    "        val_original_target.append(val)\n",
    "        test_original_target.append(test)\n",
    "        p.domains_target.extend(\n",
    "            [domain_prefix + str(u) for u in domains]\n",
    "        )\n",
    "    else:\n",
    "        raise Exception(f\"invalid source_or_target_dataset: {source_or_target_dataset}\")\n",
    "    "
   ]
  },
  {
   "cell_type": "code",
   "execution_count": 13,
   "id": "fe266617",
   "metadata": {
    "execution": {
     "iopub.execute_input": "2022-03-22T10:44:04.255778Z",
     "iopub.status.busy": "2022-03-22T10:44:04.255402Z",
     "iopub.status.idle": "2022-03-22T10:46:11.877152Z",
     "shell.execute_reply": "2022-03-22T10:46:11.876372Z"
    },
    "papermill": {
     "duration": 127.644365,
     "end_time": "2022-03-22T10:46:11.877348",
     "exception": false,
     "start_time": "2022-03-22T10:44:04.232983",
     "status": "completed"
    },
    "tags": []
   },
   "outputs": [],
   "source": [
    "for ds in p.datasets:\n",
    "    add_dataset(**ds)"
   ]
  },
  {
   "cell_type": "code",
   "execution_count": 14,
   "id": "b90d65ac",
   "metadata": {
    "execution": {
     "iopub.execute_input": "2022-03-22T10:46:11.927221Z",
     "iopub.status.busy": "2022-03-22T10:46:11.926845Z",
     "iopub.status.idle": "2022-03-22T10:46:11.949401Z",
     "shell.execute_reply": "2022-03-22T10:46:11.948654Z"
    },
    "papermill": {
     "duration": 0.045019,
     "end_time": "2022-03-22T10:46:11.949554",
     "exception": false,
     "start_time": "2022-03-22T10:46:11.904535",
     "status": "completed"
    },
    "tags": []
   },
   "outputs": [],
   "source": [
    "# from steves_utils.CORES.utils import (\n",
    "#     ALL_NODES,\n",
    "#     ALL_NODES_MINIMUM_1000_EXAMPLES,\n",
    "#     ALL_DAYS\n",
    "# )\n",
    "\n",
    "# add_dataset(\n",
    "#     labels=ALL_NODES,\n",
    "#     domains = ALL_DAYS,\n",
    "#     num_examples_per_domain_per_label=100,\n",
    "#     pickle_path=os.path.join(get_datasets_base_path(), \"cores.stratified_ds.2022A.pkl\"),\n",
    "#     source_or_target_dataset=\"target\",\n",
    "#     x_transform_func=global_x_transform_func,\n",
    "#     domain_modifier=lambda u: f\"cores_{u}\"\n",
    "# )"
   ]
  },
  {
   "cell_type": "code",
   "execution_count": 15,
   "id": "76db484d",
   "metadata": {
    "execution": {
     "iopub.execute_input": "2022-03-22T10:46:11.998760Z",
     "iopub.status.busy": "2022-03-22T10:46:11.998390Z",
     "iopub.status.idle": "2022-03-22T10:46:12.015367Z",
     "shell.execute_reply": "2022-03-22T10:46:12.014649Z"
    },
    "papermill": {
     "duration": 0.039684,
     "end_time": "2022-03-22T10:46:12.015545",
     "exception": false,
     "start_time": "2022-03-22T10:46:11.975861",
     "status": "completed"
    },
    "tags": []
   },
   "outputs": [],
   "source": [
    "# from steves_utils.ORACLE.utils_v2 import (\n",
    "#     ALL_DISTANCES_FEET,\n",
    "#     ALL_RUNS,\n",
    "#     ALL_SERIAL_NUMBERS,\n",
    "# )\n",
    "\n",
    "\n",
    "# add_dataset(\n",
    "#     labels=ALL_SERIAL_NUMBERS,\n",
    "#     domains = list(set(ALL_DISTANCES_FEET) - {2,62}),\n",
    "#     num_examples_per_domain_per_label=100,\n",
    "#     pickle_path=os.path.join(get_datasets_base_path(), \"oracle.Run2_framed_2000Examples_stratified_ds.2022A.pkl\"),\n",
    "#     source_or_target_dataset=\"source\",\n",
    "#     x_transform_func=global_x_transform_func,\n",
    "#     domain_modifier=lambda u: f\"oracle1_{u}\"\n",
    "# )\n"
   ]
  },
  {
   "cell_type": "code",
   "execution_count": 16,
   "id": "97dea9d2",
   "metadata": {
    "execution": {
     "iopub.execute_input": "2022-03-22T10:46:12.068624Z",
     "iopub.status.busy": "2022-03-22T10:46:12.068143Z",
     "iopub.status.idle": "2022-03-22T10:46:12.085291Z",
     "shell.execute_reply": "2022-03-22T10:46:12.084588Z"
    },
    "papermill": {
     "duration": 0.040353,
     "end_time": "2022-03-22T10:46:12.085441",
     "exception": false,
     "start_time": "2022-03-22T10:46:12.045088",
     "status": "completed"
    },
    "tags": []
   },
   "outputs": [],
   "source": [
    "# from steves_utils.ORACLE.utils_v2 import (\n",
    "#     ALL_DISTANCES_FEET,\n",
    "#     ALL_RUNS,\n",
    "#     ALL_SERIAL_NUMBERS,\n",
    "# )\n",
    "\n",
    "\n",
    "# add_dataset(\n",
    "#     labels=ALL_SERIAL_NUMBERS,\n",
    "#     domains = list(set(ALL_DISTANCES_FEET) - {2,62,56}),\n",
    "#     num_examples_per_domain_per_label=100,\n",
    "#     pickle_path=os.path.join(get_datasets_base_path(), \"oracle.Run2_framed_2000Examples_stratified_ds.2022A.pkl\"),\n",
    "#     source_or_target_dataset=\"source\",\n",
    "#     x_transform_func=global_x_transform_func,\n",
    "#     domain_modifier=lambda u: f\"oracle2_{u}\"\n",
    "# )"
   ]
  },
  {
   "cell_type": "code",
   "execution_count": 17,
   "id": "6f289866",
   "metadata": {
    "execution": {
     "iopub.execute_input": "2022-03-22T10:46:12.135953Z",
     "iopub.status.busy": "2022-03-22T10:46:12.135237Z",
     "iopub.status.idle": "2022-03-22T10:46:12.157509Z",
     "shell.execute_reply": "2022-03-22T10:46:12.156840Z"
    },
    "papermill": {
     "duration": 0.046029,
     "end_time": "2022-03-22T10:46:12.157661",
     "exception": false,
     "start_time": "2022-03-22T10:46:12.111632",
     "status": "completed"
    },
    "tags": []
   },
   "outputs": [],
   "source": [
    "# add_dataset(\n",
    "#     labels=list(range(19)),\n",
    "#     domains = [0,1,2],\n",
    "#     num_examples_per_domain_per_label=100,\n",
    "#     pickle_path=os.path.join(get_datasets_base_path(), \"metehan.stratified_ds.2022A.pkl\"),\n",
    "#     source_or_target_dataset=\"target\",\n",
    "#     x_transform_func=global_x_transform_func,\n",
    "#     domain_modifier=lambda u: f\"met_{u}\"\n",
    "# )"
   ]
  },
  {
   "cell_type": "code",
   "execution_count": 18,
   "id": "86a863c3",
   "metadata": {
    "execution": {
     "iopub.execute_input": "2022-03-22T10:46:12.207033Z",
     "iopub.status.busy": "2022-03-22T10:46:12.206669Z",
     "iopub.status.idle": "2022-03-22T10:46:12.223006Z",
     "shell.execute_reply": "2022-03-22T10:46:12.222306Z"
    },
    "papermill": {
     "duration": 0.038927,
     "end_time": "2022-03-22T10:46:12.223156",
     "exception": false,
     "start_time": "2022-03-22T10:46:12.184229",
     "status": "completed"
    },
    "tags": []
   },
   "outputs": [],
   "source": [
    "# # from steves_utils.wisig.utils import (\n",
    "# #     ALL_NODES_MINIMUM_100_EXAMPLES,\n",
    "# #     ALL_NODES_MINIMUM_500_EXAMPLES,\n",
    "# #     ALL_NODES_MINIMUM_1000_EXAMPLES,\n",
    "# #     ALL_DAYS\n",
    "# # )\n",
    "\n",
    "# import steves_utils.wisig.utils as wisig\n",
    "\n",
    "\n",
    "# add_dataset(\n",
    "#     labels=wisig.ALL_NODES_MINIMUM_100_EXAMPLES,\n",
    "#     domains = wisig.ALL_DAYS,\n",
    "#     num_examples_per_domain_per_label=100,\n",
    "#     pickle_path=os.path.join(get_datasets_base_path(), \"wisig.node3-19.stratified_ds.2022A.pkl\"),\n",
    "#     source_or_target_dataset=\"target\",\n",
    "#     x_transform_func=global_x_transform_func,\n",
    "#     domain_modifier=lambda u: f\"wisig_{u}\"\n",
    "# )"
   ]
  },
  {
   "cell_type": "code",
   "execution_count": 19,
   "id": "fd5442bc",
   "metadata": {
    "execution": {
     "iopub.execute_input": "2022-03-22T10:46:12.278667Z",
     "iopub.status.busy": "2022-03-22T10:46:12.278060Z",
     "iopub.status.idle": "2022-03-22T10:46:12.298357Z",
     "shell.execute_reply": "2022-03-22T10:46:12.297624Z"
    },
    "papermill": {
     "duration": 0.047396,
     "end_time": "2022-03-22T10:46:12.298506",
     "exception": false,
     "start_time": "2022-03-22T10:46:12.251110",
     "status": "completed"
    },
    "tags": []
   },
   "outputs": [],
   "source": [
    "###################################\n",
    "# Build the dataset\n",
    "###################################\n",
    "train_original_source = Iterable_Aggregator(train_original_source, p.seed)\n",
    "val_original_source = Iterable_Aggregator(val_original_source, p.seed)\n",
    "test_original_source = Iterable_Aggregator(test_original_source, p.seed)\n",
    "\n",
    "\n",
    "train_original_target = Iterable_Aggregator(train_original_target, p.seed)\n",
    "val_original_target = Iterable_Aggregator(val_original_target, p.seed)\n",
    "test_original_target = Iterable_Aggregator(test_original_target, p.seed)\n",
    "\n",
    "# For CNN We only use X and Y. And we only train on the source.\n",
    "# Properly form the data using a transform lambda and Lazy_Iterable_Wrapper. Finally wrap them in a dataloader\n",
    "\n",
    "transform_lambda = lambda ex: ex[1] # Original is (<domain>, <episode>) so we strip down to episode only\n",
    "\n",
    "train_processed_source = Lazy_Iterable_Wrapper(train_original_source, transform_lambda)\n",
    "val_processed_source   = Lazy_Iterable_Wrapper(val_original_source, transform_lambda)\n",
    "test_processed_source  = Lazy_Iterable_Wrapper(test_original_source, transform_lambda)\n",
    "\n",
    "train_processed_target = Lazy_Iterable_Wrapper(train_original_target, transform_lambda)\n",
    "val_processed_target   = Lazy_Iterable_Wrapper(val_original_target, transform_lambda)\n",
    "test_processed_target  = Lazy_Iterable_Wrapper(test_original_target, transform_lambda)\n",
    "\n",
    "datasets = EasyDict({\n",
    "    \"source\": {\n",
    "        \"original\": {\"train\":train_original_source, \"val\":val_original_source, \"test\":test_original_source},\n",
    "        \"processed\": {\"train\":train_processed_source, \"val\":val_processed_source, \"test\":test_processed_source}\n",
    "    },\n",
    "    \"target\": {\n",
    "        \"original\": {\"train\":train_original_target, \"val\":val_original_target, \"test\":test_original_target},\n",
    "        \"processed\": {\"train\":train_processed_target, \"val\":val_processed_target, \"test\":test_processed_target}\n",
    "    },\n",
    "})"
   ]
  },
  {
   "cell_type": "code",
   "execution_count": 20,
   "id": "5b3c01fc",
   "metadata": {
    "execution": {
     "iopub.execute_input": "2022-03-22T10:46:12.351513Z",
     "iopub.status.busy": "2022-03-22T10:46:12.350959Z",
     "iopub.status.idle": "2022-03-22T10:46:46.032722Z",
     "shell.execute_reply": "2022-03-22T10:46:46.033536Z"
    },
    "papermill": {
     "duration": 33.706827,
     "end_time": "2022-03-22T10:46:46.033749",
     "exception": false,
     "start_time": "2022-03-22T10:46:12.326922",
     "status": "completed"
    },
    "tags": []
   },
   "outputs": [
    {
     "name": "stdout",
     "output_type": "stream",
     "text": [
      "{'CORES_2', 'CORES_3', 'CORES_5', 'CORES_4', 'CORES_1'}\n"
     ]
    },
    {
     "name": "stdout",
     "output_type": "stream",
     "text": [
      "{'ORACLE.run1_38', 'ORACLE.run1_44', 'ORACLE.run1_26', 'ORACLE.run1_50', 'ORACLE.run1_14', 'ORACLE.run1_32', 'ORACLE.run1_8', 'ORACLE.run1_20'}\n"
     ]
    },
    {
     "name": "stdout",
     "output_type": "stream",
     "text": [
      "tensor([[[-0.6096, -0.3575,  1.3054,  ..., -0.0319, -0.4341,  0.3543],\n",
      "         [ 0.2809, -1.0565, -0.6001,  ...,  0.2617,  0.1915, -1.4172]],\n",
      "\n",
      "        [[-0.2739,  0.1879,  1.3725,  ...,  0.1943, -0.4076,  0.2675],\n",
      "         [ 0.0159, -0.7993,  0.3216,  ...,  0.0955, -0.1911, -0.2356]],\n",
      "\n",
      "        [[ 0.3657, -1.2910, -0.7981,  ...,  0.8490,  0.5469, -0.8267],\n",
      "         [ 1.3768,  0.2703, -0.7536,  ...,  0.5437,  1.4818,  0.2544]],\n",
      "\n",
      "        ...,\n",
      "\n",
      "        [[-0.2034,  0.2271,  0.5356,  ...,  0.2881, -0.3458,  1.1153],\n",
      "         [ 0.5559,  0.5898, -0.1322,  ...,  0.0441,  0.2881,  0.2814]],\n",
      "\n",
      "        [[-0.0036,  0.3244, -0.1895,  ..., -0.7144, -0.6197,  0.3718],\n",
      "         [-0.0474, -0.5322, -0.5942,  ..., -0.9623,  0.1130, -0.2552]],\n",
      "\n",
      "        [[-0.1316,  0.1316,  0.2148,  ...,  0.1974, -0.9664, -0.9006],\n",
      "         [-0.0485,  0.0312,  0.0173,  ..., -1.3439, -1.0946,  0.8140]]])\n"
     ]
    }
   ],
   "source": [
    "from steves_utils.transforms import get_average_magnitude, get_average_power\n",
    "\n",
    "print(set([u for u,_ in val_original_source]))\n",
    "print(set([u for u,_ in val_original_target]))\n",
    "\n",
    "s_x, s_y, q_x, q_y, _ = next(iter(train_processed_source))\n",
    "print(s_x)\n",
    "\n",
    "# for ds in [\n",
    "#     train_processed_source,\n",
    "#     val_processed_source,\n",
    "#     test_processed_source,\n",
    "#     train_processed_target,\n",
    "#     val_processed_target,\n",
    "#     test_processed_target\n",
    "# ]:\n",
    "#     for s_x, s_y, q_x, q_y, _ in ds:\n",
    "#         for X in (s_x, q_x):\n",
    "#             for x in X:\n",
    "#                 assert np.isclose(get_average_magnitude(x.numpy()), 1.0)\n",
    "#                 assert np.isclose(get_average_power(x.numpy()), 1.0)\n",
    "                "
   ]
  },
  {
   "cell_type": "code",
   "execution_count": 21,
   "id": "bbdacba1",
   "metadata": {
    "execution": {
     "iopub.execute_input": "2022-03-22T10:46:46.088851Z",
     "iopub.status.busy": "2022-03-22T10:46:46.088474Z",
     "iopub.status.idle": "2022-03-22T10:46:46.282936Z",
     "shell.execute_reply": "2022-03-22T10:46:46.282602Z"
    },
    "papermill": {
     "duration": 0.222851,
     "end_time": "2022-03-22T10:46:46.283020",
     "exception": false,
     "start_time": "2022-03-22T10:46:46.060169",
     "status": "completed"
    },
    "tags": []
   },
   "outputs": [
    {
     "name": "stdout",
     "output_type": "stream",
     "text": [
      "(2, 256)\n"
     ]
    }
   ],
   "source": [
    "###################################\n",
    "# Build the model\n",
    "###################################\n",
    "# easfsl only wants a tuple for the shape\n",
    "model = Steves_Prototypical_Network(x_net, device=p.device, x_shape=tuple(p.x_shape))\n",
    "optimizer = Adam(params=model.parameters(), lr=p.lr)"
   ]
  },
  {
   "cell_type": "code",
   "execution_count": 22,
   "id": "22b39ac5",
   "metadata": {
    "execution": {
     "iopub.execute_input": "2022-03-22T10:46:46.333896Z",
     "iopub.status.busy": "2022-03-22T10:46:46.333526Z",
     "iopub.status.idle": "2022-03-22T11:23:43.687626Z",
     "shell.execute_reply": "2022-03-22T11:23:43.687270Z"
    },
    "papermill": {
     "duration": 2217.381997,
     "end_time": "2022-03-22T11:23:43.687715",
     "exception": false,
     "start_time": "2022-03-22T10:46:46.305718",
     "status": "completed"
    },
    "tags": []
   },
   "outputs": [
    {
     "name": "stdout",
     "output_type": "stream",
     "text": [
      "epoch: 1, [batch: 1 / 6297], examples_per_second: 31.5389, train_label_loss: 2.4863, \n"
     ]
    },
    {
     "name": "stdout",
     "output_type": "stream",
     "text": [
      "epoch: 1, [batch: 630 / 6297], examples_per_second: 3117.6944, train_label_loss: 0.0720, \n"
     ]
    },
    {
     "name": "stdout",
     "output_type": "stream",
     "text": [
      "epoch: 1, [batch: 1260 / 6297], examples_per_second: 3382.8585, train_label_loss: 0.0091, \n"
     ]
    },
    {
     "name": "stdout",
     "output_type": "stream",
     "text": [
      "epoch: 1, [batch: 1889 / 6297], examples_per_second: 3429.8460, train_label_loss: 0.0024, \n"
     ]
    },
    {
     "name": "stdout",
     "output_type": "stream",
     "text": [
      "epoch: 1, [batch: 2519 / 6297], examples_per_second: 3432.8277, train_label_loss: 0.0013, \n"
     ]
    },
    {
     "name": "stdout",
     "output_type": "stream",
     "text": [
      "epoch: 1, [batch: 3149 / 6297], examples_per_second: 3432.8864, train_label_loss: 0.0122, \n"
     ]
    },
    {
     "name": "stdout",
     "output_type": "stream",
     "text": [
      "epoch: 1, [batch: 3778 / 6297], examples_per_second: 3501.9515, train_label_loss: 0.0022, \n"
     ]
    },
    {
     "name": "stdout",
     "output_type": "stream",
     "text": [
      "epoch: 1, [batch: 4408 / 6297], examples_per_second: 3251.1128, train_label_loss: 0.0005, \n"
     ]
    },
    {
     "name": "stdout",
     "output_type": "stream",
     "text": [
      "epoch: 1, [batch: 5037 / 6297], examples_per_second: 2952.4959, train_label_loss: 0.0001, \n"
     ]
    },
    {
     "name": "stdout",
     "output_type": "stream",
     "text": [
      "epoch: 1, [batch: 5667 / 6297], examples_per_second: 2971.2638, train_label_loss: 0.0003, \n"
     ]
    },
    {
     "name": "stdout",
     "output_type": "stream",
     "text": [
      "=============================================================\n",
      "epoch: 1, source_val_acc_label: 0.9981, target_val_acc_label: 0.1455, source_val_label_loss: 0.0109, target_val_label_loss: 2.7365, \n",
      "=============================================================\n"
     ]
    },
    {
     "name": "stdout",
     "output_type": "stream",
     "text": [
      "New best\n"
     ]
    },
    {
     "name": "stdout",
     "output_type": "stream",
     "text": [
      "epoch: 2, [batch: 1 / 6333], examples_per_second: 1.3543, train_label_loss: 0.0001, \n"
     ]
    },
    {
     "name": "stdout",
     "output_type": "stream",
     "text": [
      "epoch: 2, [batch: 634 / 6333], examples_per_second: 3426.2223, train_label_loss: 0.0000, \n"
     ]
    },
    {
     "name": "stdout",
     "output_type": "stream",
     "text": [
      "epoch: 2, [batch: 1267 / 6333], examples_per_second: 3575.0007, train_label_loss: 0.0002, \n"
     ]
    },
    {
     "name": "stdout",
     "output_type": "stream",
     "text": [
      "epoch: 2, [batch: 1900 / 6333], examples_per_second: 3160.9402, train_label_loss: 0.0000, \n"
     ]
    },
    {
     "name": "stdout",
     "output_type": "stream",
     "text": [
      "epoch: 2, [batch: 2533 / 6333], examples_per_second: 2981.6300, train_label_loss: 0.0000, \n"
     ]
    },
    {
     "name": "stdout",
     "output_type": "stream",
     "text": [
      "epoch: 2, [batch: 3167 / 6333], examples_per_second: 2968.9133, train_label_loss: 0.0000, \n"
     ]
    },
    {
     "name": "stdout",
     "output_type": "stream",
     "text": [
      "epoch: 2, [batch: 3800 / 6333], examples_per_second: 2982.8718, train_label_loss: 0.0000, \n"
     ]
    },
    {
     "name": "stdout",
     "output_type": "stream",
     "text": [
      "epoch: 2, [batch: 4433 / 6333], examples_per_second: 3023.9647, train_label_loss: 0.0000, \n"
     ]
    },
    {
     "name": "stdout",
     "output_type": "stream",
     "text": [
      "epoch: 2, [batch: 5066 / 6333], examples_per_second: 3013.9256, train_label_loss: 0.0007, \n"
     ]
    },
    {
     "name": "stdout",
     "output_type": "stream",
     "text": [
      "epoch: 2, [batch: 5699 / 6333], examples_per_second: 3040.1081, train_label_loss: 0.0000, \n"
     ]
    },
    {
     "name": "stdout",
     "output_type": "stream",
     "text": [
      "=============================================================\n",
      "epoch: 2, source_val_acc_label: 0.9964, target_val_acc_label: 0.1420, source_val_label_loss: 0.0230, target_val_label_loss: 3.2929, \n",
      "=============================================================\n"
     ]
    },
    {
     "name": "stdout",
     "output_type": "stream",
     "text": [
      "epoch: 3, [batch: 1 / 6305], examples_per_second: 1.4863, train_label_loss: 0.0000, \n"
     ]
    },
    {
     "name": "stdout",
     "output_type": "stream",
     "text": [
      "epoch: 3, [batch: 631 / 6305], examples_per_second: 2964.3890, train_label_loss: 0.0000, \n"
     ]
    },
    {
     "name": "stdout",
     "output_type": "stream",
     "text": [
      "epoch: 3, [batch: 1261 / 6305], examples_per_second: 2972.7940, train_label_loss: 0.0000, \n"
     ]
    },
    {
     "name": "stdout",
     "output_type": "stream",
     "text": [
      "epoch: 3, [batch: 1892 / 6305], examples_per_second: 2995.4729, train_label_loss: 0.0000, \n"
     ]
    },
    {
     "name": "stdout",
     "output_type": "stream",
     "text": [
      "epoch: 3, [batch: 2522 / 6305], examples_per_second: 2983.1506, train_label_loss: 0.0000, \n"
     ]
    },
    {
     "name": "stdout",
     "output_type": "stream",
     "text": [
      "epoch: 3, [batch: 3153 / 6305], examples_per_second: 2984.6859, train_label_loss: 0.0000, \n"
     ]
    },
    {
     "name": "stdout",
     "output_type": "stream",
     "text": [
      "epoch: 3, [batch: 3783 / 6305], examples_per_second: 2972.8112, train_label_loss: 0.0001, \n"
     ]
    },
    {
     "name": "stdout",
     "output_type": "stream",
     "text": [
      "epoch: 3, [batch: 4413 / 6305], examples_per_second: 3135.4351, train_label_loss: 0.0000, \n"
     ]
    },
    {
     "name": "stdout",
     "output_type": "stream",
     "text": [
      "epoch: 3, [batch: 5044 / 6305], examples_per_second: 3461.4209, train_label_loss: 0.0000, \n"
     ]
    },
    {
     "name": "stdout",
     "output_type": "stream",
     "text": [
      "epoch: 3, [batch: 5674 / 6305], examples_per_second: 3498.4468, train_label_loss: 0.0000, \n"
     ]
    },
    {
     "name": "stdout",
     "output_type": "stream",
     "text": [
      "=============================================================\n",
      "epoch: 3, source_val_acc_label: 0.9993, target_val_acc_label: 0.1499, source_val_label_loss: 0.0088, target_val_label_loss: 3.2285, \n",
      "=============================================================\n"
     ]
    },
    {
     "name": "stdout",
     "output_type": "stream",
     "text": [
      "New best\n"
     ]
    },
    {
     "name": "stdout",
     "output_type": "stream",
     "text": [
      "epoch: 4, [batch: 1 / 6323], examples_per_second: 1.3817, train_label_loss: 0.0000, \n"
     ]
    },
    {
     "name": "stdout",
     "output_type": "stream",
     "text": [
      "epoch: 4, [batch: 633 / 6323], examples_per_second: 2987.4160, train_label_loss: 0.0000, \n"
     ]
    },
    {
     "name": "stdout",
     "output_type": "stream",
     "text": [
      "epoch: 4, [batch: 1265 / 6323], examples_per_second: 3002.4480, train_label_loss: 0.0000, \n"
     ]
    },
    {
     "name": "stdout",
     "output_type": "stream",
     "text": [
      "epoch: 4, [batch: 1897 / 6323], examples_per_second: 3075.1345, train_label_loss: 0.0000, \n"
     ]
    },
    {
     "name": "stdout",
     "output_type": "stream",
     "text": [
      "epoch: 4, [batch: 2529 / 6323], examples_per_second: 3387.0950, train_label_loss: 0.0001, \n"
     ]
    },
    {
     "name": "stdout",
     "output_type": "stream",
     "text": [
      "epoch: 4, [batch: 3162 / 6323], examples_per_second: 3399.9179, train_label_loss: 0.0000, \n"
     ]
    },
    {
     "name": "stdout",
     "output_type": "stream",
     "text": [
      "epoch: 4, [batch: 3794 / 6323], examples_per_second: 3731.3727, train_label_loss: 0.0000, \n"
     ]
    },
    {
     "name": "stdout",
     "output_type": "stream",
     "text": [
      "epoch: 4, [batch: 4426 / 6323], examples_per_second: 3379.9912, train_label_loss: 0.0013, \n"
     ]
    },
    {
     "name": "stdout",
     "output_type": "stream",
     "text": [
      "epoch: 4, [batch: 5058 / 6323], examples_per_second: 3532.5763, train_label_loss: 0.0000, \n"
     ]
    },
    {
     "name": "stdout",
     "output_type": "stream",
     "text": [
      "epoch: 4, [batch: 5690 / 6323], examples_per_second: 3022.9834, train_label_loss: 0.0000, \n"
     ]
    },
    {
     "name": "stdout",
     "output_type": "stream",
     "text": [
      "=============================================================\n",
      "epoch: 4, source_val_acc_label: 0.9991, target_val_acc_label: 0.1461, source_val_label_loss: 0.0086, target_val_label_loss: 3.1944, \n",
      "=============================================================\n"
     ]
    },
    {
     "name": "stdout",
     "output_type": "stream",
     "text": [
      "epoch: 5, [batch: 1 / 6317], examples_per_second: 1.2892, train_label_loss: 0.0000, \n"
     ]
    },
    {
     "name": "stdout",
     "output_type": "stream",
     "text": [
      "epoch: 5, [batch: 632 / 6317], examples_per_second: 3462.5397, train_label_loss: 0.0000, \n"
     ]
    },
    {
     "name": "stdout",
     "output_type": "stream",
     "text": [
      "epoch: 5, [batch: 1264 / 6317], examples_per_second: 3884.1394, train_label_loss: 0.0000, \n"
     ]
    },
    {
     "name": "stdout",
     "output_type": "stream",
     "text": [
      "epoch: 5, [batch: 1895 / 6317], examples_per_second: 3450.6336, train_label_loss: 0.0000, \n"
     ]
    },
    {
     "name": "stdout",
     "output_type": "stream",
     "text": [
      "epoch: 5, [batch: 2527 / 6317], examples_per_second: 3389.2219, train_label_loss: 0.0000, \n"
     ]
    },
    {
     "name": "stdout",
     "output_type": "stream",
     "text": [
      "epoch: 5, [batch: 3159 / 6317], examples_per_second: 3048.0863, train_label_loss: 0.0001, \n"
     ]
    },
    {
     "name": "stdout",
     "output_type": "stream",
     "text": [
      "epoch: 5, [batch: 3790 / 6317], examples_per_second: 3000.0157, train_label_loss: 0.0002, \n"
     ]
    },
    {
     "name": "stdout",
     "output_type": "stream",
     "text": [
      "epoch: 5, [batch: 4422 / 6317], examples_per_second: 3021.4977, train_label_loss: 0.0000, \n"
     ]
    },
    {
     "name": "stdout",
     "output_type": "stream",
     "text": [
      "epoch: 5, [batch: 5053 / 6317], examples_per_second: 3029.2000, train_label_loss: 0.0000, \n"
     ]
    },
    {
     "name": "stdout",
     "output_type": "stream",
     "text": [
      "epoch: 5, [batch: 5685 / 6317], examples_per_second: 2976.5736, train_label_loss: 0.0000, \n"
     ]
    },
    {
     "name": "stdout",
     "output_type": "stream",
     "text": [
      "=============================================================\n",
      "epoch: 5, source_val_acc_label: 0.9992, target_val_acc_label: 0.1564, source_val_label_loss: 0.0093, target_val_label_loss: 3.5149, \n",
      "=============================================================\n"
     ]
    },
    {
     "name": "stdout",
     "output_type": "stream",
     "text": [
      "New best\n"
     ]
    },
    {
     "name": "stdout",
     "output_type": "stream",
     "text": [
      "epoch: 6, [batch: 1 / 6329], examples_per_second: 1.4596, train_label_loss: 0.0000, \n"
     ]
    },
    {
     "name": "stdout",
     "output_type": "stream",
     "text": [
      "epoch: 6, [batch: 633 / 6329], examples_per_second: 3425.5336, train_label_loss: 0.0000, \n"
     ]
    },
    {
     "name": "stdout",
     "output_type": "stream",
     "text": [
      "epoch: 6, [batch: 1266 / 6329], examples_per_second: 3468.9121, train_label_loss: 0.0000, \n"
     ]
    },
    {
     "name": "stdout",
     "output_type": "stream",
     "text": [
      "epoch: 6, [batch: 1899 / 6329], examples_per_second: 3438.7526, train_label_loss: 0.0000, \n"
     ]
    },
    {
     "name": "stdout",
     "output_type": "stream",
     "text": [
      "epoch: 6, [batch: 2532 / 6329], examples_per_second: 3423.5281, train_label_loss: 0.0000, \n"
     ]
    },
    {
     "name": "stdout",
     "output_type": "stream",
     "text": [
      "epoch: 6, [batch: 3165 / 6329], examples_per_second: 3411.3430, train_label_loss: 0.0000, \n"
     ]
    },
    {
     "name": "stdout",
     "output_type": "stream",
     "text": [
      "epoch: 6, [batch: 3797 / 6329], examples_per_second: 3408.5817, train_label_loss: 0.0000, \n"
     ]
    },
    {
     "name": "stdout",
     "output_type": "stream",
     "text": [
      "epoch: 6, [batch: 4430 / 6329], examples_per_second: 3944.0192, train_label_loss: 0.0000, \n"
     ]
    },
    {
     "name": "stdout",
     "output_type": "stream",
     "text": [
      "epoch: 6, [batch: 5063 / 6329], examples_per_second: 4007.0404, train_label_loss: 0.0000, \n"
     ]
    },
    {
     "name": "stdout",
     "output_type": "stream",
     "text": [
      "epoch: 6, [batch: 5696 / 6329], examples_per_second: 4020.9884, train_label_loss: 0.0000, \n"
     ]
    },
    {
     "name": "stdout",
     "output_type": "stream",
     "text": [
      "=============================================================\n",
      "epoch: 6, source_val_acc_label: 0.9995, target_val_acc_label: 0.1690, source_val_label_loss: 0.0091, target_val_label_loss: 3.6294, \n",
      "=============================================================\n"
     ]
    },
    {
     "name": "stdout",
     "output_type": "stream",
     "text": [
      "New best\n"
     ]
    },
    {
     "name": "stdout",
     "output_type": "stream",
     "text": [
      "epoch: 7, [batch: 1 / 6316], examples_per_second: 2.0939, train_label_loss: 0.0000, \n"
     ]
    },
    {
     "name": "stdout",
     "output_type": "stream",
     "text": [
      "epoch: 7, [batch: 632 / 6316], examples_per_second: 3860.3064, train_label_loss: 0.0000, \n"
     ]
    },
    {
     "name": "stdout",
     "output_type": "stream",
     "text": [
      "epoch: 7, [batch: 1264 / 6316], examples_per_second: 3911.7496, train_label_loss: 0.0000, \n"
     ]
    },
    {
     "name": "stdout",
     "output_type": "stream",
     "text": [
      "epoch: 7, [batch: 1895 / 6316], examples_per_second: 3970.0747, train_label_loss: 0.0000, \n"
     ]
    },
    {
     "name": "stdout",
     "output_type": "stream",
     "text": [
      "epoch: 7, [batch: 2527 / 6316], examples_per_second: 3868.9394, train_label_loss: 0.0000, \n"
     ]
    },
    {
     "name": "stdout",
     "output_type": "stream",
     "text": [
      "epoch: 7, [batch: 3158 / 6316], examples_per_second: 3884.4480, train_label_loss: 0.0000, \n"
     ]
    },
    {
     "name": "stdout",
     "output_type": "stream",
     "text": [
      "epoch: 7, [batch: 3790 / 6316], examples_per_second: 3852.1563, train_label_loss: 0.0000, \n"
     ]
    },
    {
     "name": "stdout",
     "output_type": "stream",
     "text": [
      "epoch: 7, [batch: 4421 / 6316], examples_per_second: 3870.5549, train_label_loss: 0.0000, \n"
     ]
    },
    {
     "name": "stdout",
     "output_type": "stream",
     "text": [
      "epoch: 7, [batch: 5053 / 6316], examples_per_second: 4056.3099, train_label_loss: 0.0000, \n"
     ]
    },
    {
     "name": "stdout",
     "output_type": "stream",
     "text": [
      "epoch: 7, [batch: 5684 / 6316], examples_per_second: 4199.8235, train_label_loss: 0.0542, \n"
     ]
    },
    {
     "name": "stdout",
     "output_type": "stream",
     "text": [
      "=============================================================\n",
      "epoch: 7, source_val_acc_label: 0.9986, target_val_acc_label: 0.1586, source_val_label_loss: 0.0168, target_val_label_loss: 3.7711, \n",
      "=============================================================\n"
     ]
    },
    {
     "name": "stdout",
     "output_type": "stream",
     "text": [
      "epoch: 8, [batch: 1 / 6315], examples_per_second: 1.9602, train_label_loss: 0.0336, \n"
     ]
    },
    {
     "name": "stdout",
     "output_type": "stream",
     "text": [
      "epoch: 8, [batch: 632 / 6315], examples_per_second: 3887.1153, train_label_loss: 0.0000, \n"
     ]
    },
    {
     "name": "stdout",
     "output_type": "stream",
     "text": [
      "epoch: 8, [batch: 1263 / 6315], examples_per_second: 3953.7751, train_label_loss: 0.0000, \n"
     ]
    },
    {
     "name": "stdout",
     "output_type": "stream",
     "text": [
      "epoch: 8, [batch: 1895 / 6315], examples_per_second: 3933.0812, train_label_loss: 0.0000, \n"
     ]
    },
    {
     "name": "stdout",
     "output_type": "stream",
     "text": [
      "epoch: 8, [batch: 2526 / 6315], examples_per_second: 3961.8082, train_label_loss: 0.0000, \n"
     ]
    },
    {
     "name": "stdout",
     "output_type": "stream",
     "text": [
      "epoch: 8, [batch: 3158 / 6315], examples_per_second: 4381.0911, train_label_loss: 0.0000, \n"
     ]
    },
    {
     "name": "stdout",
     "output_type": "stream",
     "text": [
      "epoch: 8, [batch: 3789 / 6315], examples_per_second: 4444.9696, train_label_loss: 0.0000, \n"
     ]
    },
    {
     "name": "stdout",
     "output_type": "stream",
     "text": [
      "epoch: 8, [batch: 4420 / 6315], examples_per_second: 4283.6486, train_label_loss: 0.0000, \n"
     ]
    },
    {
     "name": "stdout",
     "output_type": "stream",
     "text": [
      "epoch: 8, [batch: 5052 / 6315], examples_per_second: 4330.8145, train_label_loss: 0.0000, \n"
     ]
    },
    {
     "name": "stdout",
     "output_type": "stream",
     "text": [
      "epoch: 8, [batch: 5683 / 6315], examples_per_second: 4391.0518, train_label_loss: 0.0000, \n"
     ]
    },
    {
     "name": "stdout",
     "output_type": "stream",
     "text": [
      "=============================================================\n",
      "epoch: 8, source_val_acc_label: 0.9993, target_val_acc_label: 0.1492, source_val_label_loss: 0.0126, target_val_label_loss: 4.3034, \n",
      "=============================================================\n"
     ]
    },
    {
     "name": "stdout",
     "output_type": "stream",
     "text": [
      "epoch: 9, [batch: 1 / 6317], examples_per_second: 2.3495, train_label_loss: 0.0000, \n"
     ]
    },
    {
     "name": "stdout",
     "output_type": "stream",
     "text": [
      "epoch: 9, [batch: 632 / 6317], examples_per_second: 4914.5848, train_label_loss: 0.0000, \n"
     ]
    },
    {
     "name": "stdout",
     "output_type": "stream",
     "text": [
      "epoch: 9, [batch: 1264 / 6317], examples_per_second: 5002.1215, train_label_loss: 0.0000, \n"
     ]
    },
    {
     "name": "stdout",
     "output_type": "stream",
     "text": [
      "epoch: 9, [batch: 1895 / 6317], examples_per_second: 5029.1960, train_label_loss: 0.0000, \n"
     ]
    },
    {
     "name": "stdout",
     "output_type": "stream",
     "text": [
      "epoch: 9, [batch: 2527 / 6317], examples_per_second: 5085.8173, train_label_loss: 0.0000, \n"
     ]
    },
    {
     "name": "stdout",
     "output_type": "stream",
     "text": [
      "epoch: 9, [batch: 3159 / 6317], examples_per_second: 4883.3156, train_label_loss: 0.0000, \n"
     ]
    },
    {
     "name": "stdout",
     "output_type": "stream",
     "text": [
      "epoch: 9, [batch: 3790 / 6317], examples_per_second: 4859.3545, train_label_loss: 0.0000, \n"
     ]
    },
    {
     "name": "stdout",
     "output_type": "stream",
     "text": [
      "epoch: 9, [batch: 4422 / 6317], examples_per_second: 4931.7808, train_label_loss: 0.0000, \n"
     ]
    },
    {
     "name": "stdout",
     "output_type": "stream",
     "text": [
      "epoch: 9, [batch: 5053 / 6317], examples_per_second: 4931.4636, train_label_loss: 0.0000, \n"
     ]
    },
    {
     "name": "stdout",
     "output_type": "stream",
     "text": [
      "epoch: 9, [batch: 5685 / 6317], examples_per_second: 4943.1474, train_label_loss: 0.0000, \n"
     ]
    },
    {
     "name": "stdout",
     "output_type": "stream",
     "text": [
      "=============================================================\n",
      "epoch: 9, source_val_acc_label: 0.9996, target_val_acc_label: 0.1623, source_val_label_loss: 0.0139, target_val_label_loss: 4.3587, \n",
      "=============================================================\n"
     ]
    },
    {
     "name": "stdout",
     "output_type": "stream",
     "text": [
      "epoch: 10, [batch: 1 / 6296], examples_per_second: 2.4670, train_label_loss: 0.0000, \n"
     ]
    },
    {
     "name": "stdout",
     "output_type": "stream",
     "text": [
      "epoch: 10, [batch: 630 / 6296], examples_per_second: 3786.0615, train_label_loss: 0.0000, \n"
     ]
    },
    {
     "name": "stdout",
     "output_type": "stream",
     "text": [
      "epoch: 10, [batch: 1260 / 6296], examples_per_second: 3882.3443, train_label_loss: 0.0277, \n"
     ]
    },
    {
     "name": "stdout",
     "output_type": "stream",
     "text": [
      "epoch: 10, [batch: 1889 / 6296], examples_per_second: 3970.3599, train_label_loss: 0.0000, \n"
     ]
    },
    {
     "name": "stdout",
     "output_type": "stream",
     "text": [
      "epoch: 10, [batch: 2519 / 6296], examples_per_second: 3949.3939, train_label_loss: 0.0000, \n"
     ]
    },
    {
     "name": "stdout",
     "output_type": "stream",
     "text": [
      "epoch: 10, [batch: 3148 / 6296], examples_per_second: 3964.0639, train_label_loss: 0.0000, \n"
     ]
    },
    {
     "name": "stdout",
     "output_type": "stream",
     "text": [
      "epoch: 10, [batch: 3778 / 6296], examples_per_second: 3931.0947, train_label_loss: 0.0000, \n"
     ]
    },
    {
     "name": "stdout",
     "output_type": "stream",
     "text": [
      "epoch: 10, [batch: 4407 / 6296], examples_per_second: 3841.9154, train_label_loss: 0.0000, \n"
     ]
    },
    {
     "name": "stdout",
     "output_type": "stream",
     "text": [
      "epoch: 10, [batch: 5037 / 6296], examples_per_second: 3797.1149, train_label_loss: 0.0000, \n"
     ]
    },
    {
     "name": "stdout",
     "output_type": "stream",
     "text": [
      "epoch: 10, [batch: 5666 / 6296], examples_per_second: 4426.0301, train_label_loss: 0.0000, \n"
     ]
    },
    {
     "name": "stdout",
     "output_type": "stream",
     "text": [
      "=============================================================\n",
      "epoch: 10, source_val_acc_label: 0.9995, target_val_acc_label: 0.1623, source_val_label_loss: 0.0147, target_val_label_loss: 4.8197, \n",
      "=============================================================\n"
     ]
    },
    {
     "name": "stdout",
     "output_type": "stream",
     "text": [
      "Patience (3) exhausted\n"
     ]
    }
   ],
   "source": [
    "###################################\n",
    "# train\n",
    "###################################\n",
    "jig = PTN_Train_Eval_Test_Jig(model, p.BEST_MODEL_PATH, p.device)\n",
    "\n",
    "jig.train(\n",
    "    train_iterable=datasets.source.processed.train,\n",
    "    source_val_iterable=datasets.source.processed.val,\n",
    "    target_val_iterable=datasets.target.processed.val,\n",
    "    num_epochs=p.n_epoch,\n",
    "    num_logs_per_epoch=p.NUM_LOGS_PER_EPOCH,\n",
    "    patience=p.patience,\n",
    "    optimizer=optimizer,\n",
    "    criteria_for_best=p.criteria_for_best,\n",
    ")"
   ]
  },
  {
   "cell_type": "code",
   "execution_count": 23,
   "id": "31e8fabf",
   "metadata": {
    "execution": {
     "iopub.execute_input": "2022-03-22T11:23:43.801368Z",
     "iopub.status.busy": "2022-03-22T11:23:43.800809Z",
     "iopub.status.idle": "2022-03-22T11:23:43.833658Z",
     "shell.execute_reply": "2022-03-22T11:23:43.832844Z"
    },
    "papermill": {
     "duration": 0.092517,
     "end_time": "2022-03-22T11:23:43.833814",
     "exception": false,
     "start_time": "2022-03-22T11:23:43.741297",
     "status": "completed"
    },
    "tags": []
   },
   "outputs": [],
   "source": [
    "total_experiment_time_secs = time.time() - start_time_secs"
   ]
  },
  {
   "cell_type": "code",
   "execution_count": 24,
   "id": "87b9595b",
   "metadata": {
    "execution": {
     "iopub.execute_input": "2022-03-22T11:23:43.956562Z",
     "iopub.status.busy": "2022-03-22T11:23:43.955336Z",
     "iopub.status.idle": "2022-03-22T11:31:51.103444Z",
     "shell.execute_reply": "2022-03-22T11:31:51.102845Z"
    },
    "papermill": {
     "duration": 487.208393,
     "end_time": "2022-03-22T11:31:51.103611",
     "exception": false,
     "start_time": "2022-03-22T11:23:43.895218",
     "status": "completed"
    },
    "tags": []
   },
   "outputs": [],
   "source": [
    "###################################\n",
    "# Evaluate the model\n",
    "###################################\n",
    "source_test_label_accuracy, source_test_label_loss = jig.test(datasets.source.processed.test)\n",
    "target_test_label_accuracy, target_test_label_loss = jig.test(datasets.target.processed.test)\n",
    "\n",
    "source_val_label_accuracy, source_val_label_loss = jig.test(datasets.source.processed.val)\n",
    "target_val_label_accuracy, target_val_label_loss = jig.test(datasets.target.processed.val)\n",
    "\n",
    "history = jig.get_history()\n",
    "\n",
    "total_epochs_trained = len(history[\"epoch_indices\"])\n",
    "\n",
    "val_dl = Iterable_Aggregator((datasets.source.original.val,datasets.target.original.val))\n",
    "\n",
    "confusion = ptn_confusion_by_domain_over_dataloader(model, p.device, val_dl)\n",
    "per_domain_accuracy = per_domain_accuracy_from_confusion(confusion)\n",
    "\n",
    "# Add a key to per_domain_accuracy for if it was a source domain\n",
    "for domain, accuracy in per_domain_accuracy.items():\n",
    "    per_domain_accuracy[domain] = {\n",
    "        \"accuracy\": accuracy,\n",
    "        \"source?\": domain in p.domains_source\n",
    "    }\n",
    "\n",
    "# Do an independent accuracy assesment JUST TO BE SURE!\n",
    "# _source_test_label_accuracy = independent_accuracy_assesment(model, datasets.source.processed.test, p.device)\n",
    "# _target_test_label_accuracy = independent_accuracy_assesment(model, datasets.target.processed.test, p.device)\n",
    "# _source_val_label_accuracy = independent_accuracy_assesment(model, datasets.source.processed.val, p.device)\n",
    "# _target_val_label_accuracy = independent_accuracy_assesment(model, datasets.target.processed.val, p.device)\n",
    "\n",
    "# assert(_source_test_label_accuracy == source_test_label_accuracy)\n",
    "# assert(_target_test_label_accuracy == target_test_label_accuracy)\n",
    "# assert(_source_val_label_accuracy == source_val_label_accuracy)\n",
    "# assert(_target_val_label_accuracy == target_val_label_accuracy)\n",
    "\n",
    "experiment = {\n",
    "    \"experiment_name\": p.experiment_name,\n",
    "    \"parameters\": dict(p),\n",
    "    \"results\": {\n",
    "        \"source_test_label_accuracy\": source_test_label_accuracy,\n",
    "        \"source_test_label_loss\": source_test_label_loss,\n",
    "        \"target_test_label_accuracy\": target_test_label_accuracy,\n",
    "        \"target_test_label_loss\": target_test_label_loss,\n",
    "        \"source_val_label_accuracy\": source_val_label_accuracy,\n",
    "        \"source_val_label_loss\": source_val_label_loss,\n",
    "        \"target_val_label_accuracy\": target_val_label_accuracy,\n",
    "        \"target_val_label_loss\": target_val_label_loss,\n",
    "        \"total_epochs_trained\": total_epochs_trained,\n",
    "        \"total_experiment_time_secs\": total_experiment_time_secs,\n",
    "        \"confusion\": confusion,\n",
    "        \"per_domain_accuracy\": per_domain_accuracy,\n",
    "    },\n",
    "    \"history\": history,\n",
    "    \"dataset_metrics\": get_dataset_metrics(datasets, \"ptn\"),\n",
    "}"
   ]
  },
  {
   "cell_type": "code",
   "execution_count": 25,
   "id": "54a21829",
   "metadata": {
    "execution": {
     "iopub.execute_input": "2022-03-22T11:31:51.240913Z",
     "iopub.status.busy": "2022-03-22T11:31:51.240527Z",
     "iopub.status.idle": "2022-03-22T11:31:51.450226Z",
     "shell.execute_reply": "2022-03-22T11:31:51.450921Z"
    },
    "papermill": {
     "duration": 0.273044,
     "end_time": "2022-03-22T11:31:51.451161",
     "exception": false,
     "start_time": "2022-03-22T11:31:51.178117",
     "status": "completed"
    },
    "tags": []
   },
   "outputs": [
    {
     "data": {
      "image/png": "[encoded data removed]",
      "text/plain": [
       "<Figure size 1080x504 with 1 Axes>"
      ]
     },
     "metadata": {
      "needs_background": "light"
     },
     "output_type": "display_data"
    }
   ],
   "source": [
    "ax = get_loss_curve(experiment)\n",
    "plt.show()"
   ]
  },
  {
   "cell_type": "code",
   "execution_count": 26,
   "id": "fd8a0f60",
   "metadata": {
    "execution": {
     "iopub.execute_input": "2022-03-22T11:31:51.576422Z",
     "iopub.status.busy": "2022-03-22T11:31:51.575919Z",
     "iopub.status.idle": "2022-03-22T11:31:51.888321Z",
     "shell.execute_reply": "2022-03-22T11:31:51.889003Z"
    },
    "papermill": {
     "duration": 0.371752,
     "end_time": "2022-03-22T11:31:51.889205",
     "exception": false,
     "start_time": "2022-03-22T11:31:51.517453",
     "status": "completed"
    },
    "tags": []
   },
   "outputs": [
    {
     "data": {
      "text/plain": [
       "<AxesSubplot:title={'center':'Results'}>"
      ]
     },
     "execution_count": 26,
     "metadata": {},
     "output_type": "execute_result"
    },
    {
     "data": {
      "image/png": "[encoded data removed]",
      "text/plain": [
       "<Figure size 1080x504 with 1 Axes>"
      ]
     },
     "metadata": {
      "needs_background": "light"
     },
     "output_type": "display_data"
    }
   ],
   "source": [
    "get_results_table(experiment)"
   ]
  },
  {
   "cell_type": "code",
   "execution_count": 27,
   "id": "cf8dc689",
   "metadata": {
    "execution": {
     "iopub.execute_input": "2022-03-22T11:31:52.011992Z",
     "iopub.status.busy": "2022-03-22T11:31:52.011619Z",
     "iopub.status.idle": "2022-03-22T11:31:52.274467Z",
     "shell.execute_reply": "2022-03-22T11:31:52.273773Z"
    },
    "papermill": {
     "duration": 0.324504,
     "end_time": "2022-03-22T11:31:52.274628",
     "exception": false,
     "start_time": "2022-03-22T11:31:51.950124",
     "status": "completed"
    },
    "tags": []
   },
   "outputs": [
    {
     "data": {
      "text/plain": [
       "<AxesSubplot:title={'center':'Per Domain Validation Accuracy'}, xlabel='domain'>"
      ]
     },
     "execution_count": 27,
     "metadata": {},
     "output_type": "execute_result"
    },
    {
     "data": {
      "image/png": "[encoded data removed]",
      "text/plain": [
       "<Figure size 1080x504 with 1 Axes>"
      ]
     },
     "metadata": {
      "needs_background": "light"
     },
     "output_type": "display_data"
    }
   ],
   "source": [
    "get_domain_accuracies(experiment)"
   ]
  },
  {
   "cell_type": "code",
   "execution_count": 28,
   "id": "a74ae082",
   "metadata": {
    "execution": {
     "iopub.execute_input": "2022-03-22T11:31:52.399661Z",
     "iopub.status.busy": "2022-03-22T11:31:52.399268Z",
     "iopub.status.idle": "2022-03-22T11:31:52.425578Z",
     "shell.execute_reply": "2022-03-22T11:31:52.424893Z"
    },
    "papermill": {
     "duration": 0.089302,
     "end_time": "2022-03-22T11:31:52.425739",
     "exception": false,
     "start_time": "2022-03-22T11:31:52.336437",
     "status": "completed"
    },
    "tags": []
   },
   "outputs": [
    {
     "name": "stdout",
     "output_type": "stream",
     "text": [
      "Source Test Label Accuracy: 0.9994750839865622 Target Test Label Accuracy: 0.17055989583333334\n",
      "Source Val Label Accuracy: 0.9994636727688787 Target Val Label Accuracy: 0.16900390625\n"
     ]
    }
   ],
   "source": [
    "print(\"Source Test Label Accuracy:\", experiment[\"results\"][\"source_test_label_accuracy\"], \"Target Test Label Accuracy:\", experiment[\"results\"][\"target_test_label_accuracy\"])\n",
    "print(\"Source Val Label Accuracy:\", experiment[\"results\"][\"source_val_label_accuracy\"], \"Target Val Label Accuracy:\", experiment[\"results\"][\"target_val_label_accuracy\"])"
   ]
  },
  {
   "cell_type": "code",
   "execution_count": 29,
   "id": "dacca602",
   "metadata": {
    "execution": {
     "iopub.execute_input": "2022-03-22T11:31:52.552687Z",
     "iopub.status.busy": "2022-03-22T11:31:52.552316Z",
     "iopub.status.idle": "2022-03-22T11:31:52.578852Z",
     "shell.execute_reply": "2022-03-22T11:31:52.579553Z"
    },
    "papermill": {
     "duration": 0.08965,
     "end_time": "2022-03-22T11:31:52.579743",
     "exception": false,
     "start_time": "2022-03-22T11:31:52.490093",
     "status": "completed"
    },
    "tags": [
     "experiment_json"
    ]
   },
   "outputs": [
    {
     "data": {
      "text/plain": [
       "'{\"experiment_name\": \"tl_1v2:cores-oracle.run1\", \"parameters\": {\"experiment_name\": \"tl_1v2:cores-oracle.run1\", \"device\": \"cuda\", \"lr\": 0.0001, \"n_shot\": 3, \"n_query\": 2, \"train_k_factor\": 3, \"val_k_factor\": 2, \"test_k_factor\": 2, \"torch_default_dtype\": \"torch.float32\", \"n_epoch\": 50, \"patience\": 3, \"criteria_for_best\": \"target_accuracy\", \"x_net\": [{\"class\": \"nnReshape\", \"kargs\": {\"shape\": [-1, 1, 2, 256]}}, {\"class\": \"Conv2d\", \"kargs\": {\"in_channels\": 1, \"out_channels\": 256, \"kernel_size\": [1, 7], \"bias\": false, \"padding\": [0, 3]}}, {\"class\": \"ReLU\", \"kargs\": {\"inplace\": true}}, {\"class\": \"BatchNorm2d\", \"kargs\": {\"num_features\": 256}}, {\"class\": \"Conv2d\", \"kargs\": {\"in_channels\": 256, \"out_channels\": 80, \"kernel_size\": [2, 7], \"bias\": true, \"padding\": [0, 3]}}, {\"class\": \"ReLU\", \"kargs\": {\"inplace\": true}}, {\"class\": \"BatchNorm2d\", \"kargs\": {\"num_features\": 80}}, {\"class\": \"Flatten\", \"kargs\": {}}, {\"class\": \"Linear\", \"kargs\": {\"in_features\": 20480, \"out_features\": 256}}, {\"class\": \"ReLU\", \"kargs\": {\"inplace\": true}}, {\"class\": \"BatchNorm1d\", \"kargs\": {\"num_features\": 256}}, {\"class\": \"Linear\", \"kargs\": {\"in_features\": 256, \"out_features\": 256}}], \"NUM_LOGS_PER_EPOCH\": 10, \"BEST_MODEL_PATH\": \"./best_model.pth\", \"n_way\": 16, \"datasets\": [{\"labels\": [\"1-10.\", \"1-11.\", \"1-15.\", \"1-16.\", \"1-17.\", \"1-18.\", \"1-19.\", \"10-4.\", \"10-7.\", \"11-1.\", \"11-14.\", \"11-17.\", \"11-20.\", \"11-7.\", \"13-20.\", \"13-8.\", \"14-10.\", \"14-11.\", \"14-14.\", \"14-7.\", \"15-1.\", \"15-20.\", \"16-1.\", \"16-16.\", \"17-10.\", \"17-11.\", \"17-2.\", \"19-1.\", \"19-16.\", \"19-19.\", \"19-20.\", \"19-3.\", \"2-10.\", \"2-11.\", \"2-17.\", \"2-18.\", \"2-20.\", \"2-3.\", \"2-4.\", \"2-5.\", \"2-6.\", \"2-7.\", \"2-8.\", \"3-13.\", \"3-18.\", \"3-3.\", \"4-1.\", \"4-10.\", \"4-11.\", \"4-19.\", \"5-5.\", \"6-15.\", \"7-10.\", \"7-14.\", \"8-18.\", \"8-20.\", \"8-3.\", \"8-8.\"], \"domains\": [1, 2, 3, 4, 5], \"num_examples_per_domain_per_label\": -1, \"pickle_path\": \"/root/csc500-main/datasets/cores.stratified_ds.2022A.pkl\", \"source_or_target_dataset\": \"source\", \"x_transforms\": [\"unit_mag\"], \"episode_transforms\": [], \"domain_prefix\": \"CORES_\"}, {\"labels\": [\"3123D52\", \"3123D65\", \"3123D79\", \"3123D80\", \"3123D54\", \"3123D70\", \"3123D7B\", \"3123D89\", \"3123D58\", \"3123D76\", \"3123D7D\", \"3123EFE\", \"3123D64\", \"3123D78\", \"3123D7E\", \"3124E4A\"], \"domains\": [32, 38, 8, 44, 14, 50, 20, 26], \"num_examples_per_domain_per_label\": 10000, \"pickle_path\": \"/root/csc500-main/datasets/oracle.Run1_10kExamples_stratified_ds.2022A.pkl\", \"source_or_target_dataset\": \"target\", \"x_transforms\": [\"unit_mag\"], \"episode_transforms\": [], \"domain_prefix\": \"ORACLE.run1_\"}], \"dataset_seed\": 154325, \"seed\": 154325, \"x_shape\": [2, 256], \"domains_source\": [\"CORES_1\", \"CORES_2\", \"CORES_3\", \"CORES_4\", \"CORES_5\"], \"domains_target\": [\"ORACLE.run1_32\", \"ORACLE.run1_38\", \"ORACLE.run1_8\", \"ORACLE.run1_44\", \"ORACLE.run1_14\", \"ORACLE.run1_50\", \"ORACLE.run1_20\", \"ORACLE.run1_26\"]}, \"results\": {\"source_test_label_accuracy\": 0.9994750839865622, \"source_test_label_loss\": 0.005803409032523632, \"target_test_label_accuracy\": 0.17055989583333334, \"target_test_label_loss\": 3.6176021099090576, \"source_val_label_accuracy\": 0.9994636727688787, \"source_val_label_loss\": 0.009128750301897526, \"target_val_label_accuracy\": 0.16900390625, \"target_val_label_loss\": 3.62941575050354, \"total_epochs_trained\": 10, \"total_experiment_time_secs\": 2379.8423025608063, \"confusion\": {\"CORES_2\": {\"21\": {\"21\": 120}, \"4\": {\"4\": 130}, \"6\": {\"6\": 124}, \"10\": {\"10\": 112}, \"33\": {\"33\": 28}, \"56\": {\"56\": 122}, \"20\": {\"20\": 132}, \"24\": {\"24\": 96}, \"45\": {\"45\": 128}, \"32\": {\"32\": 28}, \"27\": {\"27\": 148}, \"53\": {\"53\": 136}, \"8\": {\"8\": 160}, \"54\": {\"54\": 108}, \"50\": {\"50\": 134}, \"44\": {\"44\": 100}, \"5\": {\"5\": 120}, \"38\": {\"38\": 20}, \"19\": {\"19\": 132}, \"1\": {\"1\": 112}, \"30\": {\"30\": 144}, \"15\": {\"15\": 144}, \"23\": {\"23\": 146}, \"35\": {\"35\": 32}, \"22\": {\"22\": 128}, \"40\": {\"40\": 140}, \"46\": {\"46\": 126}, \"3\": {\"3\": 92}, \"48\": {\"48\": 148}, \"52\": {\"52\": 124}, \"2\": {\"2\": 32}, \"26\": {\"26\": 24}, \"17\": {\"17\": 104}, \"55\": {\"55\": 144}, \"51\": {\"51\": 122}, \"42\": {\"42\": 36}, \"41\": {\"41\": 20}, \"31\": {\"31\": 28}, \"16\": {\"16\": 138}, \"36\": {\"36\": 116}, \"49\": {\"49\": 24}, \"0\": {\"0\": 48}, \"18\": {\"18\": 48}, \"25\": {\"25\": 146}, \"9\": {\"9\": 122}, \"47\": {\"47\": 132}, \"7\": {\"7\": 36}, \"37\": {\"37\": 36}, \"13\": {\"13\": 116}, \"14\": {\"14\": 24}, \"34\": {\"34\": 28}, \"57\": {\"57\": 140}, \"11\": {\"11\": 138}, \"39\": {\"39\": 28}, \"12\": {\"12\": 92}, \"28\": {\"28\": 28}, \"29\": {\"29\": 128}, \"43\": {\"43\": 140}}, \"CORES_5\": {\"12\": {\"12\": 96}, \"8\": {\"8\": 142}, \"29\": {\"29\": 132}, \"57\": {\"57\": 126}, \"38\": {\"38\": 32}, \"23\": {\"23\": 124}, \"56\": {\"56\": 138}, \"49\": {\"49\": 36}, \"4\": {\"4\": 100}, \"48\": {\"48\": 136}, \"21\": {\"21\": 144}, \"30\": {\"30\": 128}, \"1\": {\"1\": 148}, \"34\": {\"34\": 36}, \"35\": {\"35\": 36}, \"55\": {\"55\": 152}, \"5\": {\"5\": 122}, \"52\": {\"52\": 126}, \"6\": {\"6\": 128}, \"36\": {\"36\": 92}, \"41\": {\"41\": 28}, \"3\": {\"3\": 100}, \"28\": {\"28\": 32}, \"18\": {\"18\": 64}, \"25\": {\"25\": 136}, \"47\": {\"47\": 100}, \"13\": {\"13\": 160}, \"11\": {\"11\": 144}, \"53\": {\"53\": 144}, \"33\": {\"33\": 32}, \"46\": {\"46\": 148}, \"50\": {\"50\": 148}, \"10\": {\"10\": 68}, \"15\": {\"15\": 138}, \"44\": {\"44\": 140}, \"2\": {\"2\": 28}, \"7\": {\"7\": 32}, \"43\": {\"43\": 138}, \"32\": {\"32\": 32}, \"0\": {\"0\": 124}, \"39\": {\"39\": 20}, \"26\": {\"26\": 24}, \"27\": {\"27\": 112}, \"54\": {\"54\": 112}, \"17\": {\"17\": 116}, \"14\": {\"14\": 44}, \"16\": {\"16\": 148}, \"9\": {\"9\": 148}, \"19\": {\"19\": 152}, \"20\": {\"20\": 138}, \"37\": {\"37\": 24}, \"24\": {\"24\": 80}, \"40\": {\"40\": 122}, \"45\": {\"45\": 123, \"53\": 1}, \"22\": {\"22\": 28}, \"42\": {\"42\": 38, \"15\": 2}, \"51\": {\"51\": 118}, \"31\": {\"31\": 36}}, \"CORES_1\": {\"27\": {\"27\": 142}, \"2\": {\"2\": 36}, \"33\": {\"33\": 32}, \"45\": {\"45\": 156}, \"38\": {\"38\": 24}, \"4\": {\"4\": 132}, \"31\": {\"31\": 28}, \"55\": {\"55\": 140}, \"32\": {\"32\": 32}, \"57\": {\"57\": 140}, \"14\": {\"14\": 24}, \"16\": {\"16\": 140}, \"34\": {\"34\": 24}, \"56\": {\"56\": 126}, \"24\": {\"24\": 108}, \"30\": {\"30\": 112}, \"17\": {\"17\": 64}, \"13\": {\"13\": 138}, \"39\": {\"39\": 28}, \"50\": {\"50\": 145, \"48\": 1}, \"20\": {\"20\": 140}, \"41\": {\"41\": 24}, \"53\": {\"53\": 126}, \"48\": {\"48\": 142}, \"36\": {\"36\": 64}, \"8\": {\"8\": 140}, \"15\": {\"15\": 132}, \"40\": {\"40\": 156}, \"37\": {\"37\": 32}, \"21\": {\"21\": 120}, \"35\": {\"35\": 36}, \"49\": {\"49\": 32}, \"26\": {\"26\": 24}, \"28\": {\"28\": 28}, \"12\": {\"12\": 116}, \"5\": {\"5\": 152}, \"29\": {\"29\": 140}, \"47\": {\"47\": 140}, \"10\": {\"10\": 96}, \"18\": {\"18\": 71, \"48\": 1}, \"9\": {\"9\": 126}, \"3\": {\"3\": 140}, \"52\": {\"52\": 132}, \"25\": {\"25\": 136}, \"19\": {\"19\": 156}, \"11\": {\"11\": 136}, \"7\": {\"7\": 28}, \"23\": {\"23\": 136}, \"44\": {\"44\": 132}, \"42\": {\"42\": 40}, \"54\": {\"54\": 104}, \"1\": {\"1\": 100}, \"46\": {\"46\": 128}, \"6\": {\"6\": 96}, \"43\": {\"43\": 144}, \"51\": {\"51\": 142}, \"22\": {\"22\": 136}, \"0\": {\"0\": 128}}, \"CORES_4\": {\"32\": {\"32\": 24}, \"2\": {\"2\": 36}, \"41\": {\"41\": 36}, \"11\": {\"11\": 102}, \"57\": {\"57\": 100}, \"6\": {\"6\": 112}, \"23\": {\"23\": 136}, \"52\": {\"52\": 116}, \"38\": {\"38\": 40}, \"50\": {\"50\": 132}, \"55\": {\"55\": 152}, \"46\": {\"46\": 154}, \"37\": {\"37\": 24}, \"20\": {\"20\": 118}, \"49\": {\"49\": 20}, \"45\": {\"45\": 96}, \"54\": {\"54\": 108}, \"3\": {\"3\": 122, \"50\": 2}, \"13\": {\"13\": 152}, \"18\": {\"18\": 108}, \"21\": {\"21\": 126}, \"43\": {\"43\": 144}, \"47\": {\"47\": 120}, \"4\": {\"4\": 132}, \"12\": {\"12\": 92}, \"9\": {\"9\": 128}, \"7\": {\"7\": 24}, \"56\": {\"56\": 112}, \"28\": {\"28\": 32}, \"44\": {\"44\": 132}, \"24\": {\"24\": 56}, \"33\": {\"33\": 36}, \"35\": {\"35\": 40}, \"51\": {\"51\": 137, \"21\": 1}, \"39\": {\"39\": 20}, \"36\": {\"36\": 92}, \"19\": {\"19\": 140}, \"0\": {\"0\": 77, \"46\": 3}, \"15\": {\"15\": 136}, \"29\": {\"29\": 124}, \"30\": {\"30\": 44}, \"1\": {\"1\": 40}, \"22\": {\"22\": 128}, \"40\": {\"40\": 146}, \"8\": {\"8\": 128}, \"53\": {\"53\": 138}, \"34\": {\"34\": 24}, \"10\": {\"10\": 122}, \"31\": {\"31\": 28}, \"17\": {\"17\": 80}, \"16\": {\"16\": 96}, \"42\": {\"42\": 32}, \"27\": {\"27\": 142}, \"14\": {\"14\": 16}, \"25\": {\"25\": 122}, \"48\": {\"48\": 132}, \"26\": {\"26\": 24}, \"5\": {\"5\": 108}}, \"CORES_3\": {\"14\": {\"14\": 40}, \"18\": {\"18\": 84}, \"30\": {\"30\": 120}, \"16\": {\"16\": 156}, \"1\": {\"1\": 100}, \"20\": {\"20\": 132}, \"7\": {\"7\": 36}, \"52\": {\"52\": 130}, \"9\": {\"9\": 140}, \"23\": {\"23\": 144}, \"55\": {\"55\": 164}, \"29\": {\"29\": 126}, \"56\": {\"56\": 134}, \"3\": {\"3\": 124}, \"42\": {\"42\": 28}, \"6\": {\"6\": 88}, \"5\": {\"5\": 115, \"3\": 1}, \"27\": {\"27\": 144}, \"47\": {\"47\": 92}, \"39\": {\"39\": 16}, \"34\": {\"34\": 32}, \"4\": {\"4\": 126}, \"24\": {\"24\": 104}, \"46\": {\"46\": 118}, \"50\": {\"50\": 124, \"3\": 1, \"6\": 1}, \"38\": {\"38\": 28}, \"54\": {\"54\": 100}, \"35\": {\"35\": 28}, \"2\": {\"2\": 32}, \"41\": {\"41\": 28}, \"57\": {\"57\": 118}, \"25\": {\"25\": 150}, \"48\": {\"48\": 116}, \"33\": {\"33\": 28}, \"45\": {\"45\": 60}, \"13\": {\"13\": 126}, \"36\": {\"36\": 100}, \"43\": {\"43\": 132}, \"28\": {\"28\": 28}, \"0\": {\"0\": 124}, \"12\": {\"12\": 92}, \"31\": {\"31\": 28}, \"40\": {\"40\": 116}, \"44\": {\"44\": 87, \"40\": 1}, \"32\": {\"32\": 28}, \"26\": {\"26\": 24}, \"8\": {\"8\": 116}, \"10\": {\"10\": 64}, \"15\": {\"15\": 142}, \"21\": {\"21\": 128}, \"37\": {\"37\": 28}, \"17\": {\"17\": 108}, \"51\": {\"51\": 124}, \"53\": {\"53\": 144}, \"19\": {\"19\": 136}, \"49\": {\"49\": 20}, \"11\": {\"11\": 138}, \"22\": {\"22\": 130}}, \"ORACLE.run1_8\": {\"13\": {\"7\": 74, \"14\": 87, \"1\": 80, \"10\": 104, \"4\": 77, \"15\": 61, \"5\": 81, \"13\": 108, \"2\": 60, \"11\": 64, \"0\": 114, \"8\": 56, \"9\": 53, \"12\": 41, \"6\": 89, \"3\": 51}, \"9\": {\"5\": 112, \"8\": 1, \"6\": 15, \"9\": 687, \"13\": 46, \"7\": 15, \"14\": 51, \"10\": 99, \"1\": 36, \"0\": 49, \"12\": 2, \"4\": 53, \"3\": 2, \"11\": 23, \"2\": 6, \"15\": 3}, \"15\": {\"0\": 50, \"15\": 136, \"8\": 119, \"6\": 61, \"7\": 87, \"11\": 53, \"3\": 154, \"12\": 159, \"14\": 38, \"4\": 44, \"5\": 26, \"1\": 63, \"2\": 112, \"13\": 46, \"10\": 49, \"9\": 3}, \"2\": {\"1\": 28, \"3\": 179, \"11\": 44, \"2\": 155, \"10\": 23, \"15\": 116, \"6\": 62, \"8\": 94, \"12\": 164, \"13\": 54, \"14\": 30, \"4\": 58, \"0\": 71, \"7\": 99, \"5\": 20, \"9\": 3}, \"3\": {\"12\": 175, \"3\": 206, \"15\": 134, \"8\": 86, \"14\": 30, \"1\": 27, \"2\": 166, \"6\": 62, \"7\": 77, \"10\": 26, \"11\": 42, \"13\": 53, \"0\": 54, \"4\": 49, \"5\": 13}, \"8\": {\"14\": 56, \"15\": 133, \"10\": 52, \"1\": 69, \"4\": 75, \"8\": 107, \"12\": 132, \"13\": 72, \"5\": 41, \"3\": 93, \"6\": 68, \"11\": 62, \"7\": 89, \"0\": 53, \"2\": 92, \"9\": 6}, \"5\": {\"0\": 73, \"1\": 102, \"9\": 131, \"7\": 57, \"13\": 106, \"4\": 97, \"6\": 64, \"15\": 32, \"5\": 162, \"14\": 111, \"10\": 101, \"11\": 79, \"12\": 19, \"3\": 12, \"2\": 16, \"8\": 38}, \"14\": {\"1\": 81, \"4\": 118, \"5\": 82, \"6\": 89, \"2\": 43, \"3\": 41, \"14\": 87, \"13\": 92, \"7\": 73, \"11\": 75, \"10\": 101, \"8\": 68, \"12\": 51, \"0\": 95, \"9\": 48, \"15\": 56}, \"1\": {\"9\": 33, \"5\": 108, \"8\": 78, \"10\": 111, \"7\": 70, \"2\": 33, \"14\": 86, \"6\": 67, \"13\": 91, \"4\": 97, \"12\": 45, \"1\": 109, \"3\": 31, \"11\": 125, \"0\": 69, \"15\": 47}, \"0\": {\"3\": 51, \"6\": 80, \"8\": 74, \"15\": 70, \"5\": 76, \"2\": 67, \"7\": 67, \"1\": 77, \"9\": 45, \"14\": 91, \"13\": 117, \"10\": 104, \"12\": 42, \"4\": 66, \"0\": 104, \"11\": 69}, \"10\": {\"5\": 131, \"0\": 91, \"4\": 81, \"14\": 112, \"7\": 72, \"9\": 75, \"10\": 109, \"13\": 93, \"6\": 72, \"8\": 59, \"2\": 40, \"12\": 31, \"11\": 73, \"1\": 96, \"3\": 27, \"15\": 38}, \"6\": {\"6\": 78, \"3\": 69, \"15\": 81, \"11\": 89, \"5\": 84, \"13\": 74, \"2\": 86, \"12\": 78, \"4\": 79, \"8\": 77, \"0\": 86, \"10\": 83, \"7\": 88, \"14\": 71, \"1\": 55, \"9\": 22}, \"11\": {\"1\": 136, \"6\": 67, \"4\": 81, \"12\": 56, \"8\": 88, \"2\": 42, \"0\": 68, \"3\": 32, \"9\": 26, \"10\": 115, \"5\": 113, \"7\": 70, \"14\": 76, \"11\": 109, \"15\": 64, \"13\": 57}, \"7\": {\"0\": 92, \"6\": 81, \"4\": 97, \"2\": 90, \"12\": 66, \"10\": 72, \"5\": 65, \"1\": 70, \"13\": 87, \"7\": 70, \"15\": 88, \"8\": 78, \"14\": 72, \"11\": 59, \"9\": 12, \"3\": 101}, \"4\": {\"10\": 107, \"15\": 57, \"4\": 85, \"11\": 81, \"8\": 84, \"7\": 87, \"13\": 94, \"0\": 99, \"14\": 68, \"6\": 80, \"12\": 46, \"5\": 77, \"1\": 85, \"3\": 49, \"2\": 64, \"9\": 37}, \"12\": {\"0\": 56, \"3\": 178, \"11\": 49, \"15\": 158, \"7\": 67, \"14\": 39, \"2\": 156, \"4\": 39, \"12\": 201, \"8\": 110, \"1\": 41, \"13\": 28, \"5\": 12, \"6\": 48, \"10\": 18}}, \"ORACLE.run1_38\": {\"13\": {\"9\": 21, \"1\": 151, \"13\": 164, \"10\": 105, \"14\": 80, \"8\": 78, \"2\": 166, \"15\": 145, \"11\": 57, \"4\": 12, \"6\": 52, \"0\": 43, \"5\": 70, \"7\": 28, \"12\": 23, \"3\": 5}, \"12\": {\"8\": 64, \"4\": 216, \"12\": 303, \"2\": 23, \"11\": 83, \"0\": 86, \"7\": 88, \"13\": 25, \"1\": 22, \"10\": 95, \"5\": 47, \"6\": 19, \"14\": 79, \"15\": 36, \"9\": 12, \"3\": 2}, \"2\": {\"2\": 309, \"10\": 93, \"13\": 138, \"1\": 94, \"4\": 5, \"14\": 195, \"11\": 150, \"8\": 37, \"0\": 16, \"15\": 104, \"5\": 19, \"12\": 23, \"9\": 2, \"6\": 8, \"7\": 6, \"3\": 1}, \"9\": {\"6\": 203, \"9\": 261, \"15\": 23, \"8\": 75, \"3\": 222, \"5\": 101, \"7\": 77, \"1\": 58, \"10\": 20, \"0\": 99, \"4\": 13, \"13\": 30, \"14\": 3, \"12\": 9, \"2\": 4, \"11\": 2}, \"15\": {\"2\": 136, \"14\": 77, \"15\": 144, \"1\": 130, \"5\": 84, \"13\": 120, \"7\": 43, \"9\": 38, \"10\": 102, \"0\": 68, \"8\": 75, \"11\": 63, \"6\": 48, \"12\": 43, \"4\": 20, \"3\": 9}, \"5\": {\"9\": 106, \"8\": 110, \"1\": 73, \"12\": 51, \"0\": 120, \"15\": 84, \"3\": 98, \"4\": 41, \"7\": 109, \"5\": 98, \"10\": 69, \"2\": 20, \"6\": 116, \"13\": 69, \"11\": 15, \"14\": 21}, \"14\": {\"13\": 87, \"11\": 235, \"7\": 21, \"4\": 27, \"1\": 39, \"14\": 243, \"2\": 183, \"10\": 122, \"15\": 70, \"6\": 8, \"5\": 30, \"12\": 79, \"0\": 23, \"8\": 31, \"3\": 1, \"9\": 1}, \"0\": {\"0\": 150, \"10\": 67, \"5\": 129, \"6\": 103, \"7\": 135, \"3\": 97, \"1\": 57, \"2\": 19, \"12\": 57, \"8\": 105, \"4\": 70, \"9\": 98, \"14\": 21, \"11\": 15, \"13\": 30, \"15\": 47}, \"3\": {\"7\": 106, \"3\": 476, \"6\": 169, \"1\": 13, \"4\": 14, \"5\": 63, \"9\": 226, \"0\": 68, \"15\": 9, \"13\": 9, \"10\": 7, \"8\": 36, \"12\": 2, \"11\": 1, \"2\": 1}, \"1\": {\"9\": 66, \"15\": 145, \"5\": 83, \"11\": 38, \"1\": 212, \"12\": 22, \"13\": 158, \"6\": 77, \"4\": 9, \"0\": 56, \"2\": 97, \"10\": 72, \"7\": 35, \"8\": 72, \"14\": 43, \"3\": 15}, \"11\": {\"14\": 279, \"15\": 64, \"13\": 65, \"2\": 145, \"11\": 311, \"10\": 102, \"6\": 4, \"12\": 84, \"8\": 40, \"4\": 38, \"7\": 13, \"1\": 25, \"0\": 13, \"9\": 2, \"5\": 15}, \"7\": {\"13\": 22, \"0\": 160, \"8\": 105, \"11\": 15, \"7\": 198, \"4\": 121, \"5\": 117, \"6\": 80, \"3\": 105, \"9\": 80, \"10\": 59, \"14\": 8, \"1\": 28, \"12\": 57, \"15\": 33, \"2\": 12}, \"8\": {\"4\": 56, \"1\": 82, \"5\": 112, \"15\": 86, \"12\": 55, \"10\": 92, \"6\": 87, \"7\": 122, \"13\": 51, \"14\": 33, \"2\": 32, \"9\": 74, \"0\": 131, \"8\": 135, \"3\": 28, \"11\": 24}, \"4\": {\"10\": 74, \"8\": 63, \"0\": 82, \"12\": 246, \"4\": 394, \"7\": 132, \"11\": 45, \"14\": 40, \"3\": 23, \"9\": 14, \"2\": 5, \"15\": 11, \"5\": 43, \"6\": 7, \"13\": 15, \"1\": 6}, \"10\": {\"10\": 126, \"13\": 93, \"8\": 86, \"11\": 104, \"2\": 78, \"1\": 66, \"15\": 100, \"0\": 74, \"5\": 74, \"12\": 90, \"6\": 33, \"4\": 52, \"14\": 113, \"7\": 83, \"9\": 18, \"3\": 10}, \"6\": {\"1\": 108, \"3\": 161, \"13\": 43, \"2\": 10, \"7\": 94, \"6\": 193, \"9\": 185, \"10\": 47, \"8\": 76, \"11\": 6, \"0\": 90, \"5\": 100, \"12\": 10, \"15\": 57, \"4\": 16, \"14\": 4}}, \"ORACLE.run1_26\": {\"10\": {\"9\": 56, \"0\": 85, \"1\": 89, \"10\": 88, \"4\": 92, \"7\": 79, \"5\": 54, \"15\": 76, \"14\": 101, \"6\": 89, \"3\": 74, \"8\": 79, \"13\": 60, \"2\": 73, \"12\": 71, \"11\": 34}, \"12\": {\"12\": 326, \"0\": 36, \"6\": 96, \"13\": 71, \"1\": 37, \"15\": 62, \"10\": 67, \"9\": 42, \"11\": 281, \"3\": 16, \"8\": 46, \"4\": 30, \"5\": 35, \"2\": 14, \"14\": 27, \"7\": 14}, \"1\": {\"8\": 85, \"7\": 112, \"0\": 89, \"2\": 82, \"10\": 88, \"4\": 97, \"6\": 63, \"1\": 130, \"15\": 60, \"3\": 86, \"14\": 118, \"9\": 66, \"12\": 31, \"5\": 37, \"11\": 10, \"13\": 46}, \"0\": {\"9\": 61, \"14\": 99, \"8\": 83, \"15\": 77, \"6\": 95, \"2\": 78, \"0\": 110, \"3\": 60, \"12\": 56, \"13\": 48, \"7\": 90, \"10\": 71, \"11\": 20, \"1\": 112, \"5\": 52, \"4\": 88}, \"15\": {\"2\": 89, \"9\": 86, \"8\": 86, \"5\": 94, \"14\": 63, \"10\": 70, \"15\": 87, \"0\": 63, \"12\": 78, \"7\": 86, \"3\": 79, \"6\": 85, \"13\": 88, \"1\": 57, \"4\": 68, \"11\": 21}, \"13\": {\"11\": 100, \"15\": 101, \"12\": 94, \"8\": 54, \"5\": 113, \"3\": 71, \"6\": 77, \"0\": 46, \"10\": 54, \"13\": 120, \"9\": 104, \"2\": 79, \"1\": 37, \"7\": 55, \"14\": 56, \"4\": 39}, \"8\": {\"0\": 90, \"8\": 81, \"3\": 84, \"9\": 83, \"10\": 91, \"2\": 69, \"7\": 77, \"13\": 50, \"14\": 91, \"6\": 76, \"15\": 80, \"12\": 42, \"5\": 59, \"4\": 109, \"1\": 93, \"11\": 25}, \"3\": {\"1\": 79, \"10\": 70, \"3\": 164, \"5\": 85, \"13\": 53, \"2\": 109, \"9\": 89, \"14\": 76, \"15\": 66, \"7\": 102, \"0\": 68, \"6\": 53, \"4\": 91, \"8\": 70, \"12\": 17, \"11\": 8}, \"11\": {\"11\": 524, \"6\": 62, \"13\": 98, \"0\": 16, \"12\": 259, \"9\": 38, \"1\": 11, \"3\": 8, \"8\": 25, \"5\": 41, \"10\": 33, \"14\": 8, \"15\": 37, \"4\": 11, \"7\": 14, \"2\": 15}, \"4\": {\"9\": 65, \"5\": 58, \"10\": 97, \"4\": 102, \"6\": 59, \"8\": 77, \"7\": 88, \"3\": 90, \"14\": 115, \"15\": 76, \"0\": 108, \"2\": 80, \"13\": 57, \"1\": 101, \"12\": 21, \"11\": 6}, \"6\": {\"15\": 92, \"1\": 74, \"9\": 82, \"0\": 71, \"11\": 63, \"3\": 63, \"10\": 82, \"7\": 65, \"14\": 53, \"6\": 104, \"13\": 71, \"12\": 94, \"4\": 66, \"8\": 78, \"5\": 79, \"2\": 63}, \"7\": {\"14\": 78, \"8\": 89, \"4\": 95, \"15\": 72, \"0\": 102, \"7\": 104, \"5\": 77, \"6\": 63, \"3\": 106, \"13\": 57, \"10\": 76, \"9\": 68, \"1\": 91, \"12\": 27, \"2\": 91, \"11\": 4}, \"14\": {\"3\": 90, \"14\": 124, \"6\": 63, \"2\": 91, \"13\": 50, \"7\": 78, \"0\": 99, \"8\": 75, \"15\": 84, \"1\": 115, \"4\": 86, \"9\": 62, \"11\": 8, \"12\": 42, \"10\": 91, \"5\": 42}, \"2\": {\"2\": 98, \"13\": 76, \"3\": 130, \"8\": 83, \"15\": 84, \"7\": 109, \"5\": 93, \"0\": 76, \"10\": 74, \"14\": 69, \"6\": 55, \"4\": 78, \"9\": 75, \"1\": 63, \"12\": 24, \"11\": 13}, \"5\": {\"11\": 41, \"13\": 129, \"12\": 36, \"4\": 63, \"10\": 69, \"8\": 60, \"1\": 51, \"14\": 57, \"0\": 56, \"5\": 117, \"3\": 90, \"2\": 112, \"9\": 90, \"15\": 93, \"6\": 61, \"7\": 75}, \"9\": {\"1\": 58, \"15\": 73, \"8\": 75, \"0\": 86, \"13\": 95, \"14\": 67, \"5\": 95, \"6\": 62, \"3\": 97, \"2\": 70, \"7\": 87, \"10\": 69, \"4\": 72, \"12\": 55, \"11\": 30, \"9\": 109}}, \"ORACLE.run1_20\": {\"5\": {\"3\": 87, \"8\": 82, \"10\": 55, \"9\": 90, \"1\": 90, \"0\": 92, \"5\": 91, \"7\": 73, \"13\": 79, \"12\": 73, \"2\": 81, \"15\": 108, \"14\": 39, \"11\": 39, \"4\": 83, \"6\": 38}, \"15\": {\"9\": 88, \"1\": 123, \"6\": 37, \"5\": 100, \"11\": 47, \"0\": 107, \"15\": 136, \"12\": 84, \"13\": 105, \"3\": 65, \"4\": 53, \"8\": 44, \"10\": 43, \"7\": 68, \"2\": 68, \"14\": 32}, \"9\": {\"10\": 62, \"4\": 74, \"13\": 79, \"0\": 91, \"15\": 87, \"9\": 104, \"3\": 74, \"11\": 74, \"1\": 79, \"8\": 62, \"7\": 74, \"6\": 47, \"2\": 81, \"12\": 76, \"14\": 62, \"5\": 74}, \"7\": {\"10\": 82, \"13\": 58, \"6\": 91, \"3\": 81, \"15\": 60, \"1\": 59, \"0\": 79, \"9\": 78, \"11\": 90, \"14\": 94, \"12\": 62, \"2\": 66, \"8\": 81, \"5\": 66, \"4\": 75, \"7\": 78}, \"3\": {\"8\": 71, \"7\": 83, \"14\": 54, \"1\": 85, \"13\": 81, \"5\": 75, \"0\": 92, \"2\": 71, \"9\": 78, \"4\": 67, \"3\": 97, \"6\": 55, \"10\": 68, \"15\": 72, \"11\": 72, \"12\": 79}, \"8\": {\"11\": 77, \"4\": 93, \"2\": 63, \"10\": 94, \"7\": 62, \"1\": 56, \"3\": 71, \"13\": 54, \"0\": 70, \"8\": 87, \"14\": 120, \"6\": 112, \"15\": 42, \"9\": 82, \"12\": 55, \"5\": 62}, \"4\": {\"4\": 100, \"7\": 68, \"11\": 58, \"5\": 76, \"14\": 94, \"10\": 78, \"6\": 82, \"3\": 85, \"15\": 49, \"8\": 98, \"2\": 67, \"0\": 80, \"9\": 64, \"12\": 70, \"1\": 68, \"13\": 63}, \"6\": {\"0\": 45, \"7\": 80, \"6\": 132, \"10\": 120, \"11\": 104, \"5\": 39, \"4\": 83, \"9\": 61, \"14\": 164, \"8\": 97, \"12\": 61, \"3\": 49, \"2\": 59, \"13\": 42, \"1\": 30, \"15\": 34}, \"2\": {\"15\": 98, \"3\": 81, \"2\": 75, \"5\": 73, \"13\": 95, \"0\": 74, \"9\": 82, \"6\": 67, \"4\": 66, \"10\": 59, \"12\": 70, \"11\": 95, \"7\": 77, \"14\": 62, \"1\": 68, \"8\": 58}, \"12\": {\"10\": 58, \"11\": 61, \"13\": 90, \"2\": 87, \"12\": 80, \"4\": 71, \"5\": 82, \"8\": 67, \"0\": 76, \"7\": 79, \"9\": 65, \"1\": 91, \"3\": 85, \"6\": 49, \"14\": 59, \"15\": 100}, \"0\": {\"12\": 81, \"5\": 87, \"7\": 58, \"6\": 51, \"8\": 73, \"11\": 41, \"10\": 54, \"13\": 95, \"9\": 71, \"2\": 80, \"15\": 95, \"0\": 111, \"1\": 115, \"3\": 83, \"14\": 56, \"4\": 49}, \"13\": {\"15\": 90, \"1\": 99, \"6\": 50, \"10\": 44, \"13\": 92, \"9\": 88, \"0\": 103, \"12\": 77, \"3\": 77, \"5\": 85, \"14\": 52, \"4\": 67, \"11\": 70, \"7\": 66, \"2\": 87, \"8\": 53}, \"10\": {\"12\": 61, \"7\": 99, \"6\": 110, \"10\": 124, \"11\": 52, \"13\": 51, \"0\": 50, \"2\": 52, \"5\": 55, \"14\": 141, \"3\": 64, \"1\": 36, \"15\": 46, \"9\": 53, \"8\": 100, \"4\": 106}, \"11\": {\"6\": 113, \"7\": 85, \"1\": 35, \"0\": 49, \"11\": 191, \"15\": 40, \"9\": 86, \"2\": 85, \"14\": 79, \"5\": 50, \"8\": 70, \"4\": 59, \"3\": 63, \"10\": 67, \"12\": 51, \"13\": 77}, \"14\": {\"11\": 69, \"9\": 54, \"2\": 51, \"14\": 174, \"7\": 92, \"3\": 59, \"10\": 122, \"8\": 110, \"5\": 40, \"4\": 87, \"6\": 142, \"0\": 47, \"1\": 35, \"15\": 31, \"13\": 43, \"12\": 44}, \"1\": {\"8\": 62, \"5\": 106, \"15\": 111, \"0\": 88, \"7\": 67, \"4\": 65, \"14\": 38, \"2\": 72, \"1\": 106, \"13\": 82, \"9\": 92, \"3\": 91, \"12\": 98, \"6\": 35, \"11\": 47, \"10\": 40}}, \"ORACLE.run1_50\": {\"1\": {\"4\": 147, \"14\": 101, \"13\": 94, \"12\": 57, \"5\": 90, \"7\": 62, \"11\": 102, \"2\": 59, \"15\": 125, \"6\": 96, \"0\": 56, \"10\": 29, \"1\": 124, \"3\": 3, \"9\": 50, \"8\": 5}, \"2\": {\"11\": 21, \"3\": 52, \"7\": 69, \"0\": 173, \"12\": 34, \"15\": 32, \"2\": 207, \"8\": 89, \"5\": 68, \"10\": 128, \"13\": 80, \"1\": 61, \"6\": 61, \"9\": 14, \"4\": 46, \"14\": 65}, \"8\": {\"2\": 83, \"8\": 312, \"3\": 304, \"0\": 118, \"13\": 57, \"10\": 150, \"5\": 45, \"7\": 75, \"6\": 21, \"4\": 13, \"11\": 3, \"1\": 8, \"12\": 3, \"14\": 8}, \"7\": {\"7\": 148, \"8\": 85, \"15\": 50, \"10\": 109, \"13\": 149, \"0\": 90, \"4\": 102, \"1\": 67, \"6\": 114, \"2\": 53, \"5\": 120, \"3\": 47, \"9\": 6, \"12\": 9, \"11\": 25, \"14\": 26}, \"14\": {\"12\": 163, \"1\": 108, \"11\": 137, \"14\": 162, \"2\": 62, \"9\": 124, \"13\": 48, \"5\": 46, \"8\": 11, \"6\": 69, \"10\": 24, \"15\": 109, \"4\": 71, \"7\": 27, \"0\": 38, \"3\": 1}, \"6\": {\"2\": 72, \"1\": 120, \"14\": 73, \"13\": 106, \"15\": 101, \"10\": 61, \"4\": 122, \"7\": 110, \"6\": 128, \"3\": 7, \"11\": 55, \"9\": 24, \"8\": 16, \"5\": 109, \"12\": 26, \"0\": 70}, \"3\": {\"8\": 317, \"2\": 28, \"3\": 470, \"13\": 40, \"7\": 53, \"10\": 132, \"4\": 12, \"6\": 18, \"5\": 37, \"0\": 85, \"1\": 4, \"14\": 2, \"12\": 1, \"15\": 1}, \"4\": {\"6\": 119, \"1\": 118, \"2\": 43, \"11\": 78, \"5\": 102, \"15\": 156, \"7\": 91, \"9\": 55, \"10\": 54, \"14\": 78, \"0\": 47, \"4\": 109, \"12\": 37, \"8\": 15, \"13\": 85, \"3\": 13}, \"12\": {\"12\": 311, \"15\": 41, \"11\": 181, \"0\": 15, \"14\": 167, \"9\": 279, \"6\": 31, \"13\": 13, \"4\": 42, \"1\": 66, \"5\": 13, \"2\": 27, \"10\": 4, \"7\": 10}, \"15\": {\"11\": 158, \"7\": 53, \"9\": 100, \"1\": 145, \"15\": 155, \"0\": 18, \"5\": 69, \"6\": 113, \"2\": 31, \"4\": 110, \"12\": 73, \"13\": 58, \"14\": 97, \"10\": 15, \"8\": 4, \"3\": 1}, \"11\": {\"1\": 100, \"4\": 86, \"11\": 208, \"15\": 149, \"14\": 125, \"5\": 25, \"9\": 236, \"12\": 149, \"13\": 19, \"2\": 15, \"10\": 6, \"6\": 46, \"7\": 25, \"0\": 11}, \"0\": {\"1\": 50, \"0\": 160, \"5\": 78, \"15\": 27, \"4\": 50, \"13\": 87, \"8\": 139, \"7\": 97, \"3\": 77, \"10\": 136, \"6\": 56, \"2\": 167, \"12\": 12, \"14\": 41, \"11\": 18, \"9\": 5}, \"9\": {\"9\": 351, \"15\": 85, \"13\": 9, \"12\": 247, \"11\": 239, \"14\": 111, \"1\": 60, \"6\": 29, \"2\": 5, \"4\": 48, \"0\": 2, \"5\": 11, \"8\": 1, \"10\": 2}, \"10\": {\"3\": 152, \"13\": 100, \"7\": 115, \"2\": 93, \"1\": 33, \"10\": 161, \"6\": 62, \"15\": 23, \"0\": 135, \"8\": 177, \"5\": 79, \"14\": 20, \"9\": 3, \"12\": 4, \"4\": 34, \"11\": 9}, \"5\": {\"5\": 150, \"11\": 29, \"2\": 59, \"13\": 135, \"10\": 73, \"15\": 67, \"1\": 76, \"6\": 113, \"7\": 144, \"14\": 45, \"8\": 47, \"4\": 109, \"9\": 12, \"3\": 46, \"0\": 79, \"12\": 16}, \"13\": {\"14\": 35, \"2\": 84, \"4\": 104, \"5\": 112, \"11\": 28, \"15\": 58, \"10\": 94, \"1\": 80, \"13\": 155, \"6\": 110, \"3\": 51, \"7\": 141, \"12\": 19, \"0\": 68, \"8\": 58, \"9\": 3}}, \"ORACLE.run1_32\": {\"2\": {\"8\": 92, \"13\": 81, \"7\": 109, \"0\": 174, \"4\": 166, \"11\": 46, \"14\": 76, \"2\": 228, \"9\": 88, \"3\": 16, \"5\": 81, \"15\": 29, \"12\": 14}, \"6\": {\"9\": 69, \"12\": 210, \"6\": 506, \"10\": 232, \"1\": 183}, \"5\": {\"4\": 101, \"14\": 109, \"5\": 135, \"0\": 102, \"15\": 77, \"8\": 91, \"13\": 126, \"3\": 135, \"11\": 109, \"7\": 118, \"2\": 91, \"12\": 3, \"9\": 3}, \"12\": {\"12\": 499, \"9\": 327, \"4\": 4, \"10\": 154, \"6\": 151, \"1\": 37, \"2\": 18, \"0\": 6, \"8\": 1, \"5\": 1, \"13\": 1, \"7\": 1}, \"13\": {\"5\": 112, \"2\": 96, \"3\": 116, \"11\": 113, \"4\": 91, \"14\": 86, \"7\": 110, \"8\": 150, \"13\": 121, \"0\": 98, \"15\": 101, \"9\": 5, \"12\": 1}, \"9\": {\"9\": 577, \"12\": 325, \"4\": 37, \"8\": 7, \"10\": 24, \"0\": 46, \"6\": 51, \"2\": 98, \"5\": 5, \"7\": 11, \"13\": 9, \"14\": 6, \"15\": 3, \"1\": 1}, \"11\": {\"7\": 125, \"11\": 220, \"13\": 87, \"5\": 130, \"4\": 73, \"15\": 50, \"14\": 172, \"0\": 65, \"2\": 48, \"3\": 153, \"8\": 77}, \"1\": {\"10\": 340, \"1\": 591, \"12\": 58, \"6\": 206, \"9\": 5}, \"3\": {\"14\": 118, \"11\": 168, \"15\": 134, \"5\": 106, \"3\": 296, \"13\": 97, \"2\": 20, \"7\": 97, \"0\": 32, \"8\": 85, \"4\": 47}, \"7\": {\"2\": 103, \"8\": 94, \"5\": 106, \"4\": 147, \"0\": 91, \"11\": 127, \"7\": 141, \"3\": 102, \"14\": 137, \"15\": 50, \"13\": 90, \"9\": 12}, \"14\": {\"8\": 72, \"9\": 9, \"7\": 117, \"5\": 131, \"2\": 81, \"4\": 98, \"14\": 167, \"11\": 186, \"13\": 96, \"0\": 93, \"15\": 44, \"3\": 106}, \"8\": {\"13\": 132, \"8\": 134, \"2\": 77, \"4\": 121, \"15\": 136, \"5\": 99, \"7\": 98, \"14\": 87, \"3\": 96, \"11\": 83, \"0\": 129, \"9\": 8}, \"4\": {\"2\": 187, \"0\": 148, \"4\": 164, \"14\": 74, \"15\": 48, \"8\": 117, \"5\": 116, \"11\": 47, \"7\": 112, \"13\": 104, \"3\": 53, \"9\": 29, \"12\": 1}, \"0\": {\"0\": 164, \"4\": 156, \"5\": 95, \"2\": 156, \"15\": 74, \"11\": 70, \"7\": 117, \"8\": 128, \"13\": 87, \"3\": 33, \"9\": 36, \"14\": 81, \"12\": 3}, \"10\": {\"1\": 314, \"12\": 179, \"6\": 227, \"10\": 458, \"9\": 22}, \"15\": {\"0\": 75, \"5\": 61, \"15\": 499, \"11\": 42, \"8\": 155, \"7\": 37, \"3\": 132, \"13\": 99, \"2\": 22, \"14\": 29, \"4\": 46, \"9\": 3}}, \"ORACLE.run1_44\": {\"13\": {\"14\": 71, \"3\": 46, \"11\": 208, \"13\": 211, \"4\": 109, \"9\": 171, \"7\": 97, \"6\": 152, \"5\": 11, \"15\": 13, \"2\": 57, \"1\": 26, \"0\": 4, \"10\": 10, \"12\": 13, \"8\": 1}, \"4\": {\"4\": 293, \"5\": 110, \"15\": 140, \"0\": 60, \"9\": 58, \"13\": 87, \"3\": 21, \"7\": 32, \"8\": 43, \"2\": 10, \"14\": 236, \"11\": 68, \"6\": 37, \"1\": 4, \"12\": 1}, \"6\": {\"13\": 177, \"2\": 125, \"6\": 201, \"11\": 141, \"10\": 51, \"9\": 157, \"0\": 1, \"4\": 42, \"3\": 67, \"14\": 19, \"7\": 156, \"1\": 39, \"12\": 21, \"15\": 2, \"5\": 1}, \"0\": {\"8\": 302, \"14\": 116, \"15\": 208, \"5\": 213, \"0\": 267, \"4\": 78, \"11\": 6, \"13\": 4, \"3\": 1, \"7\": 2, \"9\": 3}, \"10\": {\"1\": 210, \"10\": 288, \"9\": 44, \"7\": 86, \"2\": 143, \"12\": 267, \"3\": 108, \"11\": 10, \"6\": 30, \"13\": 14}, \"7\": {\"3\": 103, \"13\": 111, \"9\": 155, \"6\": 156, \"2\": 145, \"12\": 64, \"7\": 163, \"10\": 85, \"1\": 81, \"11\": 95, \"4\": 19, \"14\": 16, \"15\": 2, \"5\": 3, \"0\": 1, \"8\": 1}, \"14\": {\"8\": 68, \"14\": 232, \"15\": 190, \"5\": 177, \"4\": 224, \"0\": 96, \"9\": 32, \"13\": 66, \"2\": 2, \"11\": 65, \"6\": 15, \"7\": 18, \"3\": 10, \"1\": 4, \"12\": 1}, \"15\": {\"15\": 229, \"0\": 205, \"5\": 185, \"4\": 147, \"3\": 4, \"14\": 185, \"6\": 7, \"8\": 180, \"9\": 9, \"13\": 26, \"11\": 14, \"1\": 3, \"7\": 6}, \"5\": {\"4\": 117, \"5\": 273, \"15\": 183, \"14\": 181, \"0\": 203, \"8\": 204, \"13\": 15, \"11\": 13, \"9\": 7, \"6\": 3, \"1\": 1}, \"2\": {\"12\": 120, \"7\": 145, \"10\": 149, \"2\": 178, \"9\": 99, \"1\": 141, \"6\": 125, \"3\": 137, \"11\": 51, \"13\": 48, \"4\": 4, \"14\": 3}, \"9\": {\"13\": 163, \"7\": 132, \"6\": 163, \"11\": 136, \"14\": 27, \"4\": 84, \"3\": 93, \"9\": 169, \"2\": 97, \"1\": 62, \"12\": 30, \"5\": 6, \"10\": 25, \"15\": 9, \"0\": 4}, \"12\": {\"10\": 264, \"7\": 65, \"12\": 301, \"6\": 22, \"1\": 225, \"2\": 118, \"3\": 159, \"9\": 28, \"11\": 11, \"4\": 1, \"13\": 6}, \"8\": {\"8\": 308, \"5\": 196, \"0\": 329, \"15\": 207, \"14\": 103, \"4\": 52, \"11\": 2, \"9\": 2, \"13\": 1}, \"3\": {\"3\": 245, \"4\": 12, \"7\": 110, \"1\": 191, \"9\": 104, \"10\": 132, \"12\": 146, \"11\": 25, \"13\": 40, \"14\": 10, \"2\": 118, \"6\": 64, \"15\": 2, \"5\": 1}, \"1\": {\"12\": 254, \"1\": 190, \"10\": 201, \"2\": 142, \"9\": 64, \"3\": 165, \"6\": 48, \"7\": 98, \"13\": 20, \"11\": 13, \"4\": 3, \"14\": 2}, \"11\": {\"11\": 402, \"6\": 149, \"13\": 216, \"4\": 54, \"14\": 36, \"9\": 131, \"7\": 85, \"2\": 45, \"10\": 12, \"3\": 25, \"15\": 10, \"1\": 9, \"12\": 11, \"5\": 11, \"0\": 4}}, \"ORACLE.run1_14\": {\"1\": {\"15\": 88, \"1\": 118, \"14\": 74, \"7\": 125, \"10\": 53, \"8\": 74, \"3\": 93, \"13\": 80, \"5\": 126, \"6\": 87, \"4\": 83, \"0\": 63, \"2\": 94, \"11\": 20, \"12\": 4, \"9\": 18}, \"15\": {\"15\": 327, \"4\": 56, \"7\": 332, \"6\": 63, \"13\": 65, \"5\": 96, \"2\": 75, \"1\": 89, \"14\": 34, \"3\": 31, \"0\": 12, \"8\": 11, \"10\": 9}, \"10\": {\"11\": 140, \"14\": 101, \"10\": 181, \"8\": 79, \"5\": 31, \"3\": 87, \"12\": 43, \"13\": 55, \"4\": 89, \"0\": 129, \"6\": 68, \"9\": 86, \"2\": 50, \"1\": 44, \"15\": 9, \"7\": 8}, \"2\": {\"2\": 119, \"5\": 105, \"13\": 122, \"15\": 75, \"1\": 106, \"14\": 115, \"6\": 125, \"4\": 83, \"7\": 85, \"10\": 57, \"11\": 35, \"0\": 59, \"3\": 71, \"8\": 34, \"9\": 6, \"12\": 3}, \"9\": {\"12\": 296, \"11\": 169, \"9\": 283, \"5\": 12, \"0\": 105, \"3\": 38, \"8\": 120, \"10\": 92, \"1\": 15, \"6\": 13, \"4\": 20, \"14\": 17, \"2\": 8, \"13\": 9, \"15\": 2, \"7\": 1}, \"5\": {\"4\": 93, \"15\": 121, \"1\": 120, \"3\": 83, \"9\": 9, \"8\": 52, \"6\": 97, \"5\": 121, \"13\": 85, \"7\": 117, \"2\": 103, \"11\": 26, \"14\": 83, \"10\": 45, \"0\": 44, \"12\": 1}, \"7\": {\"7\": 357, \"2\": 51, \"3\": 35, \"15\": 285, \"13\": 50, \"5\": 131, \"1\": 95, \"14\": 25, \"4\": 72, \"10\": 13, \"6\": 52, \"0\": 10, \"8\": 19, \"11\": 4, \"9\": 1}, \"13\": {\"11\": 33, \"8\": 17, \"13\": 164, \"2\": 111, \"15\": 66, \"6\": 149, \"14\": 134, \"7\": 66, \"5\": 97, \"4\": 92, \"0\": 46, \"12\": 2, \"3\": 89, \"10\": 54, \"1\": 73, \"9\": 7}, \"8\": {\"0\": 96, \"10\": 82, \"8\": 261, \"9\": 127, \"4\": 77, \"3\": 95, \"6\": 20, \"1\": 103, \"5\": 56, \"7\": 28, \"14\": 32, \"11\": 98, \"15\": 16, \"2\": 22, \"12\": 64, \"13\": 23}, \"6\": {\"14\": 129, \"13\": 156, \"1\": 64, \"3\": 83, \"0\": 53, \"10\": 64, \"15\": 71, \"9\": 9, \"6\": 185, \"4\": 88, \"7\": 46, \"2\": 123, \"11\": 25, \"5\": 85, \"8\": 15, \"12\": 4}, \"3\": {\"3\": 118, \"8\": 81, \"0\": 89, \"9\": 40, \"14\": 110, \"4\": 98, \"10\": 99, \"1\": 88, \"11\": 71, \"6\": 87, \"13\": 93, \"2\": 76, \"15\": 29, \"5\": 84, \"7\": 26, \"12\": 11}, \"12\": {\"12\": 561, \"9\": 317, \"11\": 135, \"10\": 41, \"3\": 15, \"8\": 58, \"0\": 55, \"5\": 5, \"13\": 2, \"4\": 3, \"1\": 5, \"14\": 2, \"6\": 1}, \"0\": {\"8\": 97, \"6\": 65, \"11\": 166, \"10\": 145, \"1\": 49, \"5\": 50, \"2\": 45, \"0\": 140, \"13\": 52, \"3\": 101, \"12\": 49, \"4\": 56, \"14\": 81, \"9\": 90, \"15\": 9, \"7\": 5}, \"4\": {\"5\": 94, \"6\": 94, \"0\": 68, \"10\": 65, \"4\": 124, \"1\": 88, \"2\": 85, \"7\": 90, \"3\": 98, \"15\": 56, \"8\": 77, \"9\": 20, \"14\": 88, \"13\": 98, \"11\": 50, \"12\": 5}, \"14\": {\"10\": 87, \"11\": 72, \"1\": 81, \"5\": 78, \"14\": 119, \"6\": 133, \"7\": 37, \"4\": 76, \"2\": 120, \"0\": 75, \"13\": 130, \"3\": 99, \"15\": 33, \"8\": 31, \"9\": 24, \"12\": 5}, \"11\": {\"0\": 151, \"9\": 170, \"11\": 224, \"4\": 35, \"10\": 154, \"8\": 83, \"3\": 55, \"2\": 29, \"5\": 21, \"14\": 57, \"12\": 134, \"13\": 32, \"1\": 31, \"7\": 1, \"6\": 21, \"15\": 2}}}, \"per_domain_accuracy\": {\"CORES_2\": {\"accuracy\": 1.0, \"source?\": true}, \"CORES_5\": {\"accuracy\": 0.9994733146067416, \"source?\": true}, \"CORES_1\": {\"accuracy\": 0.9996565934065934, \"source?\": true}, \"CORES_4\": {\"accuracy\": 0.998877245508982, \"source?\": true}, \"CORES_3\": {\"accuracy\": 0.9992690058479532, \"source?\": true}, \"ORACLE.run1_8\": {\"accuracy\": 0.13088541666666667, \"source?\": false}, \"ORACLE.run1_38\": {\"accuracy\": 0.19359375, \"source?\": false}, \"ORACLE.run1_26\": {\"accuracy\": 0.124375, \"source?\": false}, \"ORACLE.run1_20\": {\"accuracy\": 0.09260416666666667, \"source?\": false}, \"ORACLE.run1_50\": {\"accuracy\": 0.17244791666666667, \"source?\": false}, \"ORACLE.run1_32\": {\"accuracy\": 0.2552083333333333, \"source?\": false}, \"ORACLE.run1_44\": {\"accuracy\": 0.20572916666666666, \"source?\": false}, \"ORACLE.run1_14\": {\"accuracy\": 0.1771875, \"source?\": false}}}, \"history\": {\"epoch_indices\": [1, 2, 3, 4, 5, 6, 7, 8, 9, 10], \"train_label_loss\": [0.026422635245273326, 0.006361671057604855, 0.00509353914918657, 0.003764655462129443, 0.0032663277429826132, 0.0027347702571354536, 0.0023098868804934014, 0.0022664478059477777, 0.0015442808924637857, 0.0020287450982868134], \"source_val_label_loss\": [0.010877124965190887, 0.023025711998343468, 0.008823443204164505, 0.008610552176833153, 0.009283279068768024, 0.009128750301897526, 0.016785362735390663, 0.012592935934662819, 0.013860699720680714, 0.01468873955309391], \"target_val_label_loss\": [2.736499786376953, 3.2929399013519287, 3.228511333465576, 3.194439172744751, 3.5148918628692627, 3.62941575050354, 3.771052837371826, 4.303413391113281, 4.358697414398193, 4.819742679595947], \"source_val_acc_label\": [0.9981407322654462, 0.9964244851258581, 0.9993206521739131, 0.9991061212814645, 0.9991776315789473, 0.9994636727688787, 0.9986055491990846, 0.9992848970251716, 0.999570938215103, 0.9995351830663616], \"target_val_acc_label\": [0.14552083333333332, 0.14204427083333335, 0.14991536458333332, 0.14611979166666667, 0.15636067708333334, 0.16900390625, 0.15863932291666666, 0.14922526041666667, 0.16228515625, 0.16231119791666668]}, \"dataset_metrics\": {\"source\": {\"train\": {\"n_unique_x\": 175222, \"n_unique_y\": 58, \"n_batch/episode\": 6312}, \"val\": {\"n_unique_x\": 37135, \"n_unique_y\": 58, \"n_batch/episode\": 874}, \"test\": {\"n_unique_x\": 37673, \"n_unique_y\": 58, \"n_batch/episode\": 893}}, \"target\": {\"train\": {\"n_unique_x\": 896000, \"n_unique_y\": 16, \"n_batch/episode\": 33600}, \"val\": {\"n_unique_x\": 192000, \"n_unique_y\": 16, \"n_batch/episode\": 4800}, \"test\": {\"n_unique_x\": 192000, \"n_unique_y\": 16, \"n_batch/episode\": 4800}}}}'"
      ]
     },
     "execution_count": 29,
     "metadata": {},
     "output_type": "execute_result"
    }
   ],
   "source": [
    "json.dumps(experiment)"
   ]
  }
 ],
 "metadata": {
  "celltoolbar": "Tags",
  "kernelspec": {
   "display_name": "Python 3 (ipykernel)",
   "language": "python",
   "name": "python3"
  },
  "language_info": {
   "codemirror_mode": {
    "name": "ipython",
    "version": 3
   },
   "file_extension": ".py",
   "mimetype": "text/x-python",
   "name": "python",
   "nbconvert_exporter": "python",
   "pygments_lexer": "ipython3",
   "version": "3.8.12"
  },
  "papermill": {
   "default_parameters": {},
   "duration": 2875.836253,
   "end_time": "2022-03-22T11:31:56.269250",
   "environment_variables": {},
   "exception": null,
   "input_path": "/root/csc500-main/csc500-notebooks/templates/tl_ptn_template.ipynb",
   "output_path": "trial.ipynb",
   "parameters": {
    "parameters": {
     "BEST_MODEL_PATH": "./best_model.pth",
     "NUM_LOGS_PER_EPOCH": 10,
     "criteria_for_best": "target_accuracy",
     "dataset_seed": 154325,
     "datasets": [
      {
       "domain_prefix": "CORES_",
       "domains": [
        1,
        2,
        3,
        4,
        5
       ],
       "episode_transforms": [],
       "labels": [
        "1-10.",
        "1-11.",
        "1-15.",
        "1-16.",
        "1-17.",
        "1-18.",
        "1-19.",
        "10-4.",
        "10-7.",
        "11-1.",
        "11-14.",
        "11-17.",
        "11-20.",
        "11-7.",
        "13-20.",
        "13-8.",
        "14-10.",
        "14-11.",
        "14-14.",
        "14-7.",
        "15-1.",
        "15-20.",
        "16-1.",
        "16-16.",
        "17-10.",
        "17-11.",
        "17-2.",
        "19-1.",
        "19-16.",
        "19-19.",
        "19-20.",
        "19-3.",
        "2-10.",
        "2-11.",
        "2-17.",
        "2-18.",
        "2-20.",
        "2-3.",
        "2-4.",
        "2-5.",
        "2-6.",
        "2-7.",
        "2-8.",
        "3-13.",
        "3-18.",
        "3-3.",
        "4-1.",
        "4-10.",
        "4-11.",
        "4-19.",
        "5-5.",
        "6-15.",
        "7-10.",
        "7-14.",
        "8-18.",
        "8-20.",
        "8-3.",
        "8-8."
       ],
       "num_examples_per_domain_per_label": -1,
       "pickle_path": "/root/csc500-main/datasets/cores.stratified_ds.2022A.pkl",
       "source_or_target_dataset": "source",
       "x_transforms": [
        "unit_mag"
       ]
      },
      {
       "domain_prefix": "ORACLE.run1_",
       "domains": [
        32,
        38,
        8,
        44,
        14,
        50,
        20,
        26
       ],
       "episode_transforms": [],
       "labels": [
        "3123D52",
        "3123D65",
        "3123D79",
        "3123D80",
        "3123D54",
        "3123D70",
        "3123D7B",
        "3123D89",
        "3123D58",
        "3123D76",
        "3123D7D",
        "3123EFE",
        "3123D64",
        "3123D78",
        "3123D7E",
        "3124E4A"
       ],
       "num_examples_per_domain_per_label": 10000,
       "pickle_path": "/root/csc500-main/datasets/oracle.Run1_10kExamples_stratified_ds.2022A.pkl",
       "source_or_target_dataset": "target",
       "x_transforms": [
        "unit_mag"
       ]
      }
     ],
     "device": "cuda",
     "experiment_name": "tl_1v2:cores-oracle.run1",
     "lr": 0.0001,
     "n_epoch": 50,
     "n_query": 2,
     "n_shot": 3,
     "n_way": 16,
     "patience": 3,
     "seed": 154325,
     "test_k_factor": 2,
     "torch_default_dtype": "torch.float32",
     "train_k_factor": 3,
     "val_k_factor": 2,
     "x_net": [
      {
       "class": "nnReshape",
       "kargs": {
        "shape": [
         -1,
         1,
         2,
         256
        ]
       }
      },
      {
       "class": "Conv2d",
       "kargs": {
        "bias": false,
        "in_channels": 1,
        "kernel_size": [
         1,
         7
        ],
        "out_channels": 256,
        "padding": [
         0,
         3
        ]
       }
      },
      {
       "class": "ReLU",
       "kargs": {
        "inplace": true
       }
      },
      {
       "class": "BatchNorm2d",
       "kargs": {
        "num_features": 256
       }
      },
      {
       "class": "Conv2d",
       "kargs": {
        "bias": true,
        "in_channels": 256,
        "kernel_size": [
         2,
         7
        ],
        "out_channels": 80,
        "padding": [
         0,
         3
        ]
       }
      },
      {
       "class": "ReLU",
       "kargs": {
        "inplace": true
       }
      },
      {
       "class": "BatchNorm2d",
       "kargs": {
        "num_features": 80
       }
      },
      {
       "class": "Flatten",
       "kargs": {}
      },
      {
       "class": "Linear",
       "kargs": {
        "in_features": 20480,
        "out_features": 256
       }
      },
      {
       "class": "ReLU",
       "kargs": {
        "inplace": true
       }
      },
      {
       "class": "BatchNorm1d",
       "kargs": {
        "num_features": 256
       }
      },
      {
       "class": "Linear",
       "kargs": {
        "in_features": 256,
        "out_features": 256
       }
      }
     ]
    }
   },
   "start_time": "2022-03-22T10:44:00.432997",
   "version": "2.3.4"
  }
 },
 "nbformat": 4,
 "nbformat_minor": 5
}