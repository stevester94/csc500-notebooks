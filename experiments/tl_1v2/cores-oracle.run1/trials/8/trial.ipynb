{
 "cells": [
  {
   "cell_type": "markdown",
   "id": "9fea5f46",
   "metadata": {
    "papermill": {
     "duration": 0.03152,
     "end_time": "2022-03-22T00:07:44.501965",
     "exception": false,
     "start_time": "2022-03-22T00:07:44.470445",
     "status": "completed"
    },
    "tags": []
   },
   "source": [
    "# Transfer Learning Template"
   ]
  },
  {
   "cell_type": "code",
   "execution_count": 1,
   "id": "0902182a",
   "metadata": {
    "execution": {
     "iopub.execute_input": "2022-03-22T00:07:44.562353Z",
     "iopub.status.busy": "2022-03-22T00:07:44.561787Z",
     "iopub.status.idle": "2022-03-22T00:07:46.432180Z",
     "shell.execute_reply": "2022-03-22T00:07:46.431300Z"
    },
    "papermill": {
     "duration": 1.905007,
     "end_time": "2022-03-22T00:07:46.432374",
     "exception": false,
     "start_time": "2022-03-22T00:07:44.527367",
     "status": "completed"
    },
    "tags": []
   },
   "outputs": [],
   "source": [
    "%load_ext autoreload\n",
    "%autoreload 2\n",
    "%matplotlib inline\n",
    "\n",
    "    \n",
    "import os, json, sys, time, random\n",
    "import numpy as np\n",
    "import torch\n",
    "from torch.optim import Adam\n",
    "from  easydict import EasyDict\n",
    "import matplotlib.pyplot as plt\n",
    "\n",
    "from steves_models.steves_ptn import Steves_Prototypical_Network\n",
    "\n",
    "from steves_utils.lazy_iterable_wrapper import Lazy_Iterable_Wrapper\n",
    "from steves_utils.iterable_aggregator import Iterable_Aggregator\n",
    "from steves_utils.ptn_train_eval_test_jig import  PTN_Train_Eval_Test_Jig\n",
    "from steves_utils.torch_sequential_builder import build_sequential\n",
    "from steves_utils.torch_utils import get_dataset_metrics, ptn_confusion_by_domain_over_dataloader\n",
    "from steves_utils.utils_v2 import (per_domain_accuracy_from_confusion, get_datasets_base_path)\n",
    "from steves_utils.PTN.utils import independent_accuracy_assesment\n",
    "\n",
    "from torch.utils.data import DataLoader\n",
    "\n",
    "from steves_utils.stratified_dataset.episodic_accessor import Episodic_Accessor_Factory\n",
    "\n",
    "from steves_utils.ptn_do_report import (\n",
    "    get_loss_curve,\n",
    "    get_results_table,\n",
    "    get_parameters_table,\n",
    "    get_domain_accuracies,\n",
    ")\n",
    "\n",
    "from steves_utils.transforms import get_chained_transform"
   ]
  },
  {
   "cell_type": "markdown",
   "id": "41c840b4",
   "metadata": {
    "papermill": {
     "duration": 0.019516,
     "end_time": "2022-03-22T00:07:46.476552",
     "exception": false,
     "start_time": "2022-03-22T00:07:46.457036",
     "status": "completed"
    },
    "tags": []
   },
   "source": [
    "# Allowed Parameters\n",
    "These are allowed parameters, not defaults\n",
    "Each of these values need to be present in the injected parameters (the notebook will raise an exception if they are not present)\n",
    "\n",
    "Papermill uses the cell tag \"parameters\" to inject the real parameters below this cell.\n",
    "Enable tags to see what I mean"
   ]
  },
  {
   "cell_type": "code",
   "execution_count": 2,
   "id": "fd44eb83",
   "metadata": {
    "execution": {
     "iopub.execute_input": "2022-03-22T00:07:46.520964Z",
     "iopub.status.busy": "2022-03-22T00:07:46.520582Z",
     "iopub.status.idle": "2022-03-22T00:07:46.543996Z",
     "shell.execute_reply": "2022-03-22T00:07:46.543245Z"
    },
    "papermill": {
     "duration": 0.04806,
     "end_time": "2022-03-22T00:07:46.544152",
     "exception": false,
     "start_time": "2022-03-22T00:07:46.496092",
     "status": "completed"
    },
    "tags": []
   },
   "outputs": [],
   "source": [
    "required_parameters = {\n",
    "    \"experiment_name\",\n",
    "    \"lr\",\n",
    "    \"device\",\n",
    "    \"seed\",\n",
    "    \"dataset_seed\",\n",
    "    \"n_shot\",\n",
    "    \"n_query\",\n",
    "    \"n_way\",\n",
    "    \"train_k_factor\",\n",
    "    \"val_k_factor\",\n",
    "    \"test_k_factor\",\n",
    "    \"n_epoch\",\n",
    "    \"patience\",\n",
    "    \"criteria_for_best\",\n",
    "    \"x_net\",\n",
    "    \"datasets\",\n",
    "    \"torch_default_dtype\",\n",
    "    \"NUM_LOGS_PER_EPOCH\",\n",
    "    \"BEST_MODEL_PATH\",\n",
    "    \"x_shape\",\n",
    "}"
   ]
  },
  {
   "cell_type": "code",
   "execution_count": 3,
   "id": "fa3f0049",
   "metadata": {
    "execution": {
     "iopub.execute_input": "2022-03-22T00:07:46.608628Z",
     "iopub.status.busy": "2022-03-22T00:07:46.607708Z",
     "iopub.status.idle": "2022-03-22T00:07:46.631841Z",
     "shell.execute_reply": "2022-03-22T00:07:46.631137Z"
    },
    "papermill": {
     "duration": 0.061058,
     "end_time": "2022-03-22T00:07:46.632000",
     "exception": false,
     "start_time": "2022-03-22T00:07:46.570942",
     "status": "completed"
    },
    "tags": [
     "parameters"
    ]
   },
   "outputs": [],
   "source": [
    "from steves_utils.CORES.utils import (\n",
    "    ALL_NODES,\n",
    "    ALL_NODES_MINIMUM_1000_EXAMPLES,\n",
    "    ALL_DAYS\n",
    ")\n",
    "\n",
    "from steves_utils.ORACLE.utils_v2 import (\n",
    "    ALL_DISTANCES_FEET_NARROWED,\n",
    "    ALL_RUNS,\n",
    "    ALL_SERIAL_NUMBERS,\n",
    ")\n",
    "\n",
    "standalone_parameters = {}\n",
    "standalone_parameters[\"experiment_name\"] = \"STANDALONE PTN\"\n",
    "standalone_parameters[\"lr\"] = 0.001\n",
    "standalone_parameters[\"device\"] = \"cuda\"\n",
    "\n",
    "standalone_parameters[\"seed\"] = 1337\n",
    "standalone_parameters[\"dataset_seed\"] = 1337\n",
    "\n",
    "standalone_parameters[\"n_way\"] = 8\n",
    "standalone_parameters[\"n_shot\"] = 3\n",
    "standalone_parameters[\"n_query\"]  = 2\n",
    "standalone_parameters[\"train_k_factor\"] = 1\n",
    "standalone_parameters[\"val_k_factor\"] = 2\n",
    "standalone_parameters[\"test_k_factor\"] = 2\n",
    "\n",
    "\n",
    "standalone_parameters[\"n_epoch\"] = 50\n",
    "\n",
    "standalone_parameters[\"patience\"] = 10\n",
    "standalone_parameters[\"criteria_for_best\"] = \"source_loss\"\n",
    "\n",
    "standalone_parameters[\"datasets\"] = [\n",
    "    {\n",
    "        \"labels\": ALL_SERIAL_NUMBERS,\n",
    "        \"domains\": ALL_DISTANCES_FEET_NARROWED,\n",
    "        \"num_examples_per_domain_per_label\": 100,\n",
    "        \"pickle_path\": os.path.join(get_datasets_base_path(), \"oracle.Run1_framed_2000Examples_stratified_ds.2022A.pkl\"),\n",
    "        \"source_or_target_dataset\": \"source\",\n",
    "        \"x_transforms\": [\"unit_mag\", \"minus_two\"],\n",
    "        \"episode_transforms\": [],\n",
    "        \"domain_prefix\": \"ORACLE_\"\n",
    "    },\n",
    "    {\n",
    "        \"labels\": ALL_NODES,\n",
    "        \"domains\": ALL_DAYS,\n",
    "        \"num_examples_per_domain_per_label\": 100,\n",
    "        \"pickle_path\": os.path.join(get_datasets_base_path(), \"cores.stratified_ds.2022A.pkl\"),\n",
    "        \"source_or_target_dataset\": \"target\",\n",
    "        \"x_transforms\": [\"unit_power\", \"times_zero\"],\n",
    "        \"episode_transforms\": [],\n",
    "        \"domain_prefix\": \"CORES_\"\n",
    "    }   \n",
    "]\n",
    "\n",
    "standalone_parameters[\"torch_default_dtype\"] = \"torch.float32\" \n",
    "\n",
    "\n",
    "\n",
    "standalone_parameters[\"x_net\"] =     [\n",
    "    {\"class\": \"nnReshape\", \"kargs\": {\"shape\":[-1, 1, 2, 256]}},\n",
    "    {\"class\": \"Conv2d\", \"kargs\": { \"in_channels\":1, \"out_channels\":256, \"kernel_size\":(1,7), \"bias\":False, \"padding\":(0,3), },},\n",
    "    {\"class\": \"ReLU\", \"kargs\": {\"inplace\": True}},\n",
    "    {\"class\": \"BatchNorm2d\", \"kargs\": {\"num_features\":256}},\n",
    "\n",
    "    {\"class\": \"Conv2d\", \"kargs\": { \"in_channels\":256, \"out_channels\":80, \"kernel_size\":(2,7), \"bias\":True, \"padding\":(0,3), },},\n",
    "    {\"class\": \"ReLU\", \"kargs\": {\"inplace\": True}},\n",
    "    {\"class\": \"BatchNorm2d\", \"kargs\": {\"num_features\":80}},\n",
    "    {\"class\": \"Flatten\", \"kargs\": {}},\n",
    "\n",
    "    {\"class\": \"Linear\", \"kargs\": {\"in_features\": 80*256, \"out_features\": 256}}, # 80 units per IQ pair\n",
    "    {\"class\": \"ReLU\", \"kargs\": {\"inplace\": True}},\n",
    "    {\"class\": \"BatchNorm1d\", \"kargs\": {\"num_features\":256}},\n",
    "\n",
    "    {\"class\": \"Linear\", \"kargs\": {\"in_features\": 256, \"out_features\": 256}},\n",
    "]\n",
    "\n",
    "# Parameters relevant to results\n",
    "# These parameters will basically never need to change\n",
    "standalone_parameters[\"NUM_LOGS_PER_EPOCH\"] = 10\n",
    "standalone_parameters[\"BEST_MODEL_PATH\"] = \"./best_model.pth\"\n",
    "\n",
    "\n",
    "\n",
    "\n"
   ]
  },
  {
   "cell_type": "code",
   "execution_count": 4,
   "id": "0503a4da",
   "metadata": {
    "execution": {
     "iopub.execute_input": "2022-03-22T00:07:46.705828Z",
     "iopub.status.busy": "2022-03-22T00:07:46.701547Z",
     "iopub.status.idle": "2022-03-22T00:07:46.735421Z",
     "shell.execute_reply": "2022-03-22T00:07:46.734608Z"
    },
    "papermill": {
     "duration": 0.078811,
     "end_time": "2022-03-22T00:07:46.735592",
     "exception": false,
     "start_time": "2022-03-22T00:07:46.656781",
     "status": "completed"
    },
    "tags": [
     "injected-parameters"
    ]
   },
   "outputs": [],
   "source": [
    "# Parameters\n",
    "parameters = {\n",
    "    \"experiment_name\": \"tl_1v2:cores-oracle.run1\",\n",
    "    \"device\": \"cuda\",\n",
    "    \"lr\": 0.0001,\n",
    "    \"n_shot\": 3,\n",
    "    \"n_query\": 2,\n",
    "    \"train_k_factor\": 3,\n",
    "    \"val_k_factor\": 2,\n",
    "    \"test_k_factor\": 2,\n",
    "    \"torch_default_dtype\": \"torch.float32\",\n",
    "    \"n_epoch\": 50,\n",
    "    \"patience\": 3,\n",
    "    \"criteria_for_best\": \"target_accuracy\",\n",
    "    \"x_net\": [\n",
    "        {\"class\": \"nnReshape\", \"kargs\": {\"shape\": [-1, 1, 2, 256]}},\n",
    "        {\n",
    "            \"class\": \"Conv2d\",\n",
    "            \"kargs\": {\n",
    "                \"in_channels\": 1,\n",
    "                \"out_channels\": 256,\n",
    "                \"kernel_size\": [1, 7],\n",
    "                \"bias\": False,\n",
    "                \"padding\": [0, 3],\n",
    "            },\n",
    "        },\n",
    "        {\"class\": \"ReLU\", \"kargs\": {\"inplace\": True}},\n",
    "        {\"class\": \"BatchNorm2d\", \"kargs\": {\"num_features\": 256}},\n",
    "        {\n",
    "            \"class\": \"Conv2d\",\n",
    "            \"kargs\": {\n",
    "                \"in_channels\": 256,\n",
    "                \"out_channels\": 80,\n",
    "                \"kernel_size\": [2, 7],\n",
    "                \"bias\": True,\n",
    "                \"padding\": [0, 3],\n",
    "            },\n",
    "        },\n",
    "        {\"class\": \"ReLU\", \"kargs\": {\"inplace\": True}},\n",
    "        {\"class\": \"BatchNorm2d\", \"kargs\": {\"num_features\": 80}},\n",
    "        {\"class\": \"Flatten\", \"kargs\": {}},\n",
    "        {\"class\": \"Linear\", \"kargs\": {\"in_features\": 20480, \"out_features\": 256}},\n",
    "        {\"class\": \"ReLU\", \"kargs\": {\"inplace\": True}},\n",
    "        {\"class\": \"BatchNorm1d\", \"kargs\": {\"num_features\": 256}},\n",
    "        {\"class\": \"Linear\", \"kargs\": {\"in_features\": 256, \"out_features\": 256}},\n",
    "    ],\n",
    "    \"NUM_LOGS_PER_EPOCH\": 10,\n",
    "    \"BEST_MODEL_PATH\": \"./best_model.pth\",\n",
    "    \"n_way\": 16,\n",
    "    \"datasets\": [\n",
    "        {\n",
    "            \"labels\": [\n",
    "                \"1-10.\",\n",
    "                \"1-11.\",\n",
    "                \"1-15.\",\n",
    "                \"1-16.\",\n",
    "                \"1-17.\",\n",
    "                \"1-18.\",\n",
    "                \"1-19.\",\n",
    "                \"10-4.\",\n",
    "                \"10-7.\",\n",
    "                \"11-1.\",\n",
    "                \"11-14.\",\n",
    "                \"11-17.\",\n",
    "                \"11-20.\",\n",
    "                \"11-7.\",\n",
    "                \"13-20.\",\n",
    "                \"13-8.\",\n",
    "                \"14-10.\",\n",
    "                \"14-11.\",\n",
    "                \"14-14.\",\n",
    "                \"14-7.\",\n",
    "                \"15-1.\",\n",
    "                \"15-20.\",\n",
    "                \"16-1.\",\n",
    "                \"16-16.\",\n",
    "                \"17-10.\",\n",
    "                \"17-11.\",\n",
    "                \"17-2.\",\n",
    "                \"19-1.\",\n",
    "                \"19-16.\",\n",
    "                \"19-19.\",\n",
    "                \"19-20.\",\n",
    "                \"19-3.\",\n",
    "                \"2-10.\",\n",
    "                \"2-11.\",\n",
    "                \"2-17.\",\n",
    "                \"2-18.\",\n",
    "                \"2-20.\",\n",
    "                \"2-3.\",\n",
    "                \"2-4.\",\n",
    "                \"2-5.\",\n",
    "                \"2-6.\",\n",
    "                \"2-7.\",\n",
    "                \"2-8.\",\n",
    "                \"3-13.\",\n",
    "                \"3-18.\",\n",
    "                \"3-3.\",\n",
    "                \"4-1.\",\n",
    "                \"4-10.\",\n",
    "                \"4-11.\",\n",
    "                \"4-19.\",\n",
    "                \"5-5.\",\n",
    "                \"6-15.\",\n",
    "                \"7-10.\",\n",
    "                \"7-14.\",\n",
    "                \"8-18.\",\n",
    "                \"8-20.\",\n",
    "                \"8-3.\",\n",
    "                \"8-8.\",\n",
    "            ],\n",
    "            \"domains\": [1, 2, 3, 4, 5],\n",
    "            \"num_examples_per_domain_per_label\": -1,\n",
    "            \"pickle_path\": \"/root/csc500-main/datasets/cores.stratified_ds.2022A.pkl\",\n",
    "            \"source_or_target_dataset\": \"source\",\n",
    "            \"x_transforms\": [],\n",
    "            \"episode_transforms\": [],\n",
    "            \"domain_prefix\": \"CORES_\",\n",
    "        },\n",
    "        {\n",
    "            \"labels\": [\n",
    "                \"3123D52\",\n",
    "                \"3123D65\",\n",
    "                \"3123D79\",\n",
    "                \"3123D80\",\n",
    "                \"3123D54\",\n",
    "                \"3123D70\",\n",
    "                \"3123D7B\",\n",
    "                \"3123D89\",\n",
    "                \"3123D58\",\n",
    "                \"3123D76\",\n",
    "                \"3123D7D\",\n",
    "                \"3123EFE\",\n",
    "                \"3123D64\",\n",
    "                \"3123D78\",\n",
    "                \"3123D7E\",\n",
    "                \"3124E4A\",\n",
    "            ],\n",
    "            \"domains\": [32, 38, 8, 44, 14, 50, 20, 26],\n",
    "            \"num_examples_per_domain_per_label\": 10000,\n",
    "            \"pickle_path\": \"/root/csc500-main/datasets/oracle.Run1_10kExamples_stratified_ds.2022A.pkl\",\n",
    "            \"source_or_target_dataset\": \"target\",\n",
    "            \"x_transforms\": [],\n",
    "            \"episode_transforms\": [],\n",
    "            \"domain_prefix\": \"ORACLE.run1_\",\n",
    "        },\n",
    "    ],\n",
    "    \"dataset_seed\": 420,\n",
    "    \"seed\": 420,\n",
    "}\n"
   ]
  },
  {
   "cell_type": "code",
   "execution_count": 5,
   "id": "8fa1cc33",
   "metadata": {
    "execution": {
     "iopub.execute_input": "2022-03-22T00:07:46.784363Z",
     "iopub.status.busy": "2022-03-22T00:07:46.783992Z",
     "iopub.status.idle": "2022-03-22T00:07:46.803632Z",
     "shell.execute_reply": "2022-03-22T00:07:46.802786Z"
    },
    "papermill": {
     "duration": 0.043429,
     "end_time": "2022-03-22T00:07:46.803785",
     "exception": false,
     "start_time": "2022-03-22T00:07:46.760356",
     "status": "completed"
    },
    "tags": []
   },
   "outputs": [],
   "source": [
    "# Set this to True if you want to run this template directly\n",
    "STANDALONE = False\n",
    "if STANDALONE:\n",
    "    print(\"parameters not injected, running with standalone_parameters\")\n",
    "    parameters = standalone_parameters\n",
    "\n",
    "if not 'parameters' in locals() and not 'parameters' in globals():\n",
    "    raise Exception(\"Parameter injection failed\")\n",
    "\n",
    "#Use an easy dict for all the parameters\n",
    "p = EasyDict(parameters)\n",
    "\n",
    "if \"x_shape\" not in p:\n",
    "    p.x_shape = [2,256] # Default to this if we dont supply x_shape\n",
    "\n",
    "\n",
    "supplied_keys = set(p.keys())\n",
    "\n",
    "if  supplied_keys != required_parameters:\n",
    "    print(\"Parameters are incorrect\")\n",
    "    if len(supplied_keys - required_parameters)>0: print(\"Shouldn't have:\", str(supplied_keys - required_parameters))\n",
    "    if len(required_parameters - supplied_keys)>0: print(\"Need to have:\", str(required_parameters - supplied_keys))\n",
    "    raise RuntimeError(\"Parameters are incorrect\")"
   ]
  },
  {
   "cell_type": "code",
   "execution_count": 6,
   "id": "3a028d58",
   "metadata": {
    "execution": {
     "iopub.execute_input": "2022-03-22T00:07:46.853767Z",
     "iopub.status.busy": "2022-03-22T00:07:46.853399Z",
     "iopub.status.idle": "2022-03-22T00:07:46.871356Z",
     "shell.execute_reply": "2022-03-22T00:07:46.870540Z"
    },
    "papermill": {
     "duration": 0.040507,
     "end_time": "2022-03-22T00:07:46.871509",
     "exception": false,
     "start_time": "2022-03-22T00:07:46.831002",
     "status": "completed"
    },
    "tags": []
   },
   "outputs": [],
   "source": [
    "###################################\n",
    "# Set the RNGs and make it all deterministic\n",
    "###################################\n",
    "np.random.seed(p.seed)\n",
    "random.seed(p.seed)\n",
    "torch.manual_seed(p.seed)\n",
    "\n",
    "torch.use_deterministic_algorithms(True) "
   ]
  },
  {
   "cell_type": "code",
   "execution_count": 7,
   "id": "b691acf6",
   "metadata": {
    "execution": {
     "iopub.execute_input": "2022-03-22T00:07:46.922864Z",
     "iopub.status.busy": "2022-03-22T00:07:46.922501Z",
     "iopub.status.idle": "2022-03-22T00:07:46.945311Z",
     "shell.execute_reply": "2022-03-22T00:07:46.944539Z"
    },
    "papermill": {
     "duration": 0.04679,
     "end_time": "2022-03-22T00:07:46.945468",
     "exception": false,
     "start_time": "2022-03-22T00:07:46.898678",
     "status": "completed"
    },
    "tags": []
   },
   "outputs": [],
   "source": [
    "###########################################\n",
    "# The stratified datasets honor this\n",
    "###########################################\n",
    "torch.set_default_dtype(eval(p.torch_default_dtype))"
   ]
  },
  {
   "cell_type": "code",
   "execution_count": 8,
   "id": "b5fba671",
   "metadata": {
    "execution": {
     "iopub.execute_input": "2022-03-22T00:07:46.994342Z",
     "iopub.status.busy": "2022-03-22T00:07:46.993974Z",
     "iopub.status.idle": "2022-03-22T00:07:47.045741Z",
     "shell.execute_reply": "2022-03-22T00:07:47.045023Z"
    },
    "papermill": {
     "duration": 0.074389,
     "end_time": "2022-03-22T00:07:47.045894",
     "exception": false,
     "start_time": "2022-03-22T00:07:46.971505",
     "status": "completed"
    },
    "tags": []
   },
   "outputs": [],
   "source": [
    "###################################\n",
    "# Build the network(s)\n",
    "# Note: It's critical to do this AFTER setting the RNG\n",
    "###################################\n",
    "x_net = build_sequential(p.x_net)"
   ]
  },
  {
   "cell_type": "code",
   "execution_count": 9,
   "id": "5d7e61cc",
   "metadata": {
    "execution": {
     "iopub.execute_input": "2022-03-22T00:07:47.096023Z",
     "iopub.status.busy": "2022-03-22T00:07:47.095219Z",
     "iopub.status.idle": "2022-03-22T00:07:47.118008Z",
     "shell.execute_reply": "2022-03-22T00:07:47.117192Z"
    },
    "papermill": {
     "duration": 0.045696,
     "end_time": "2022-03-22T00:07:47.118160",
     "exception": false,
     "start_time": "2022-03-22T00:07:47.072464",
     "status": "completed"
    },
    "tags": []
   },
   "outputs": [],
   "source": [
    "start_time_secs = time.time()"
   ]
  },
  {
   "cell_type": "code",
   "execution_count": 10,
   "id": "c6b67dfd",
   "metadata": {
    "execution": {
     "iopub.execute_input": "2022-03-22T00:07:47.170486Z",
     "iopub.status.busy": "2022-03-22T00:07:47.169364Z",
     "iopub.status.idle": "2022-03-22T00:07:47.190655Z",
     "shell.execute_reply": "2022-03-22T00:07:47.189851Z"
    },
    "papermill": {
     "duration": 0.046695,
     "end_time": "2022-03-22T00:07:47.190808",
     "exception": false,
     "start_time": "2022-03-22T00:07:47.144113",
     "status": "completed"
    },
    "tags": []
   },
   "outputs": [],
   "source": [
    "p.domains_source = []\n",
    "p.domains_target = []\n",
    "\n",
    "\n",
    "train_original_source = []\n",
    "val_original_source   = []\n",
    "test_original_source  = []\n",
    "\n",
    "train_original_target = []\n",
    "val_original_target   = []\n",
    "test_original_target  = []"
   ]
  },
  {
   "cell_type": "code",
   "execution_count": 11,
   "id": "e3d9c3d3",
   "metadata": {
    "execution": {
     "iopub.execute_input": "2022-03-22T00:07:47.242675Z",
     "iopub.status.busy": "2022-03-22T00:07:47.240404Z",
     "iopub.status.idle": "2022-03-22T00:07:47.261315Z",
     "shell.execute_reply": "2022-03-22T00:07:47.261984Z"
    },
    "papermill": {
     "duration": 0.045611,
     "end_time": "2022-03-22T00:07:47.262162",
     "exception": false,
     "start_time": "2022-03-22T00:07:47.216551",
     "status": "completed"
    },
    "tags": []
   },
   "outputs": [],
   "source": [
    "# global_x_transform_func = lambda x: normalize(x.to(torch.get_default_dtype()), \"unit_power\") # unit_power, unit_mag\n",
    "# global_x_transform_func = lambda x: normalize(x, \"unit_power\") # unit_power, unit_mag"
   ]
  },
  {
   "cell_type": "code",
   "execution_count": 12,
   "id": "acb78fd2",
   "metadata": {
    "execution": {
     "iopub.execute_input": "2022-03-22T00:07:47.319437Z",
     "iopub.status.busy": "2022-03-22T00:07:47.318850Z",
     "iopub.status.idle": "2022-03-22T00:07:47.336756Z",
     "shell.execute_reply": "2022-03-22T00:07:47.336013Z"
    },
    "papermill": {
     "duration": 0.049555,
     "end_time": "2022-03-22T00:07:47.336908",
     "exception": false,
     "start_time": "2022-03-22T00:07:47.287353",
     "status": "completed"
    },
    "tags": []
   },
   "outputs": [],
   "source": [
    "def add_dataset(\n",
    "    labels,\n",
    "    domains,\n",
    "    pickle_path,\n",
    "    x_transforms,\n",
    "    episode_transforms,\n",
    "    domain_prefix,\n",
    "    num_examples_per_domain_per_label,\n",
    "    source_or_target_dataset:str,\n",
    "    iterator_seed=p.seed,\n",
    "    dataset_seed=p.dataset_seed,\n",
    "    n_shot=p.n_shot,\n",
    "    n_way=p.n_way,\n",
    "    n_query=p.n_query,\n",
    "    train_val_test_k_factors=(p.train_k_factor,p.val_k_factor,p.test_k_factor),\n",
    "):\n",
    "   \n",
    "    if x_transforms == []: x_transform = None\n",
    "    else: x_transform = get_chained_transform(x_transforms)\n",
    "    \n",
    "    if episode_transforms == []: episode_transform = None\n",
    "    else: raise Exception(\"episode_transforms not implemented\")\n",
    "    \n",
    "    episode_transform = lambda tup, _prefix=domain_prefix: (_prefix + str(tup[0]), tup[1])\n",
    "\n",
    "\n",
    "    eaf = Episodic_Accessor_Factory(\n",
    "        labels=labels,\n",
    "        domains=domains,\n",
    "        num_examples_per_domain_per_label=num_examples_per_domain_per_label,\n",
    "        iterator_seed=iterator_seed,\n",
    "        dataset_seed=dataset_seed,\n",
    "        n_shot=n_shot,\n",
    "        n_way=n_way,\n",
    "        n_query=n_query,\n",
    "        train_val_test_k_factors=train_val_test_k_factors,\n",
    "        pickle_path=pickle_path,\n",
    "        x_transform_func=x_transform,\n",
    "    )\n",
    "\n",
    "    train, val, test = eaf.get_train(), eaf.get_val(), eaf.get_test()\n",
    "    train = Lazy_Iterable_Wrapper(train, episode_transform)\n",
    "    val = Lazy_Iterable_Wrapper(val, episode_transform)\n",
    "    test = Lazy_Iterable_Wrapper(test, episode_transform)\n",
    "\n",
    "    if source_or_target_dataset==\"source\":\n",
    "        train_original_source.append(train)\n",
    "        val_original_source.append(val)\n",
    "        test_original_source.append(test)\n",
    "\n",
    "        p.domains_source.extend(\n",
    "            [domain_prefix + str(u) for u in domains]\n",
    "        )\n",
    "    elif source_or_target_dataset==\"target\":\n",
    "        train_original_target.append(train)\n",
    "        val_original_target.append(val)\n",
    "        test_original_target.append(test)\n",
    "        p.domains_target.extend(\n",
    "            [domain_prefix + str(u) for u in domains]\n",
    "        )\n",
    "    else:\n",
    "        raise Exception(f\"invalid source_or_target_dataset: {source_or_target_dataset}\")\n",
    "    "
   ]
  },
  {
   "cell_type": "code",
   "execution_count": 13,
   "id": "fe266617",
   "metadata": {
    "execution": {
     "iopub.execute_input": "2022-03-22T00:07:47.392727Z",
     "iopub.status.busy": "2022-03-22T00:07:47.391322Z",
     "iopub.status.idle": "2022-03-22T00:07:58.722929Z",
     "shell.execute_reply": "2022-03-22T00:07:58.723686Z"
    },
    "papermill": {
     "duration": 11.35834,
     "end_time": "2022-03-22T00:07:58.723918",
     "exception": false,
     "start_time": "2022-03-22T00:07:47.365578",
     "status": "completed"
    },
    "tags": []
   },
   "outputs": [],
   "source": [
    "for ds in p.datasets:\n",
    "    add_dataset(**ds)"
   ]
  },
  {
   "cell_type": "code",
   "execution_count": 14,
   "id": "b90d65ac",
   "metadata": {
    "execution": {
     "iopub.execute_input": "2022-03-22T00:07:58.773604Z",
     "iopub.status.busy": "2022-03-22T00:07:58.773027Z",
     "iopub.status.idle": "2022-03-22T00:07:58.798825Z",
     "shell.execute_reply": "2022-03-22T00:07:58.798102Z"
    },
    "papermill": {
     "duration": 0.050041,
     "end_time": "2022-03-22T00:07:58.798983",
     "exception": false,
     "start_time": "2022-03-22T00:07:58.748942",
     "status": "completed"
    },
    "tags": []
   },
   "outputs": [],
   "source": [
    "# from steves_utils.CORES.utils import (\n",
    "#     ALL_NODES,\n",
    "#     ALL_NODES_MINIMUM_1000_EXAMPLES,\n",
    "#     ALL_DAYS\n",
    "# )\n",
    "\n",
    "# add_dataset(\n",
    "#     labels=ALL_NODES,\n",
    "#     domains = ALL_DAYS,\n",
    "#     num_examples_per_domain_per_label=100,\n",
    "#     pickle_path=os.path.join(get_datasets_base_path(), \"cores.stratified_ds.2022A.pkl\"),\n",
    "#     source_or_target_dataset=\"target\",\n",
    "#     x_transform_func=global_x_transform_func,\n",
    "#     domain_modifier=lambda u: f\"cores_{u}\"\n",
    "# )"
   ]
  },
  {
   "cell_type": "code",
   "execution_count": 15,
   "id": "76db484d",
   "metadata": {
    "execution": {
     "iopub.execute_input": "2022-03-22T00:07:58.851660Z",
     "iopub.status.busy": "2022-03-22T00:07:58.851265Z",
     "iopub.status.idle": "2022-03-22T00:07:58.876465Z",
     "shell.execute_reply": "2022-03-22T00:07:58.875736Z"
    },
    "papermill": {
     "duration": 0.049471,
     "end_time": "2022-03-22T00:07:58.876627",
     "exception": false,
     "start_time": "2022-03-22T00:07:58.827156",
     "status": "completed"
    },
    "tags": []
   },
   "outputs": [],
   "source": [
    "# from steves_utils.ORACLE.utils_v2 import (\n",
    "#     ALL_DISTANCES_FEET,\n",
    "#     ALL_RUNS,\n",
    "#     ALL_SERIAL_NUMBERS,\n",
    "# )\n",
    "\n",
    "\n",
    "# add_dataset(\n",
    "#     labels=ALL_SERIAL_NUMBERS,\n",
    "#     domains = list(set(ALL_DISTANCES_FEET) - {2,62}),\n",
    "#     num_examples_per_domain_per_label=100,\n",
    "#     pickle_path=os.path.join(get_datasets_base_path(), \"oracle.Run2_framed_2000Examples_stratified_ds.2022A.pkl\"),\n",
    "#     source_or_target_dataset=\"source\",\n",
    "#     x_transform_func=global_x_transform_func,\n",
    "#     domain_modifier=lambda u: f\"oracle1_{u}\"\n",
    "# )\n"
   ]
  },
  {
   "cell_type": "code",
   "execution_count": 16,
   "id": "97dea9d2",
   "metadata": {
    "execution": {
     "iopub.execute_input": "2022-03-22T00:07:58.930034Z",
     "iopub.status.busy": "2022-03-22T00:07:58.929661Z",
     "iopub.status.idle": "2022-03-22T00:07:58.956642Z",
     "shell.execute_reply": "2022-03-22T00:07:58.957323Z"
    },
    "papermill": {
     "duration": 0.051712,
     "end_time": "2022-03-22T00:07:58.957509",
     "exception": false,
     "start_time": "2022-03-22T00:07:58.905797",
     "status": "completed"
    },
    "tags": []
   },
   "outputs": [],
   "source": [
    "# from steves_utils.ORACLE.utils_v2 import (\n",
    "#     ALL_DISTANCES_FEET,\n",
    "#     ALL_RUNS,\n",
    "#     ALL_SERIAL_NUMBERS,\n",
    "# )\n",
    "\n",
    "\n",
    "# add_dataset(\n",
    "#     labels=ALL_SERIAL_NUMBERS,\n",
    "#     domains = list(set(ALL_DISTANCES_FEET) - {2,62,56}),\n",
    "#     num_examples_per_domain_per_label=100,\n",
    "#     pickle_path=os.path.join(get_datasets_base_path(), \"oracle.Run2_framed_2000Examples_stratified_ds.2022A.pkl\"),\n",
    "#     source_or_target_dataset=\"source\",\n",
    "#     x_transform_func=global_x_transform_func,\n",
    "#     domain_modifier=lambda u: f\"oracle2_{u}\"\n",
    "# )"
   ]
  },
  {
   "cell_type": "code",
   "execution_count": 17,
   "id": "6f289866",
   "metadata": {
    "execution": {
     "iopub.execute_input": "2022-03-22T00:07:59.010186Z",
     "iopub.status.busy": "2022-03-22T00:07:59.009620Z",
     "iopub.status.idle": "2022-03-22T00:07:59.037434Z",
     "shell.execute_reply": "2022-03-22T00:07:59.036722Z"
    },
    "papermill": {
     "duration": 0.052812,
     "end_time": "2022-03-22T00:07:59.037589",
     "exception": false,
     "start_time": "2022-03-22T00:07:58.984777",
     "status": "completed"
    },
    "tags": []
   },
   "outputs": [],
   "source": [
    "# add_dataset(\n",
    "#     labels=list(range(19)),\n",
    "#     domains = [0,1,2],\n",
    "#     num_examples_per_domain_per_label=100,\n",
    "#     pickle_path=os.path.join(get_datasets_base_path(), \"metehan.stratified_ds.2022A.pkl\"),\n",
    "#     source_or_target_dataset=\"target\",\n",
    "#     x_transform_func=global_x_transform_func,\n",
    "#     domain_modifier=lambda u: f\"met_{u}\"\n",
    "# )"
   ]
  },
  {
   "cell_type": "code",
   "execution_count": 18,
   "id": "86a863c3",
   "metadata": {
    "execution": {
     "iopub.execute_input": "2022-03-22T00:07:59.090540Z",
     "iopub.status.busy": "2022-03-22T00:07:59.088754Z",
     "iopub.status.idle": "2022-03-22T00:07:59.113552Z",
     "shell.execute_reply": "2022-03-22T00:07:59.114234Z"
    },
    "papermill": {
     "duration": 0.049842,
     "end_time": "2022-03-22T00:07:59.114417",
     "exception": false,
     "start_time": "2022-03-22T00:07:59.064575",
     "status": "completed"
    },
    "tags": []
   },
   "outputs": [],
   "source": [
    "# # from steves_utils.wisig.utils import (\n",
    "# #     ALL_NODES_MINIMUM_100_EXAMPLES,\n",
    "# #     ALL_NODES_MINIMUM_500_EXAMPLES,\n",
    "# #     ALL_NODES_MINIMUM_1000_EXAMPLES,\n",
    "# #     ALL_DAYS\n",
    "# # )\n",
    "\n",
    "# import steves_utils.wisig.utils as wisig\n",
    "\n",
    "\n",
    "# add_dataset(\n",
    "#     labels=wisig.ALL_NODES_MINIMUM_100_EXAMPLES,\n",
    "#     domains = wisig.ALL_DAYS,\n",
    "#     num_examples_per_domain_per_label=100,\n",
    "#     pickle_path=os.path.join(get_datasets_base_path(), \"wisig.node3-19.stratified_ds.2022A.pkl\"),\n",
    "#     source_or_target_dataset=\"target\",\n",
    "#     x_transform_func=global_x_transform_func,\n",
    "#     domain_modifier=lambda u: f\"wisig_{u}\"\n",
    "# )"
   ]
  },
  {
   "cell_type": "code",
   "execution_count": 19,
   "id": "fd5442bc",
   "metadata": {
    "execution": {
     "iopub.execute_input": "2022-03-22T00:07:59.170410Z",
     "iopub.status.busy": "2022-03-22T00:07:59.169557Z",
     "iopub.status.idle": "2022-03-22T00:07:59.194148Z",
     "shell.execute_reply": "2022-03-22T00:07:59.193435Z"
    },
    "papermill": {
     "duration": 0.053503,
     "end_time": "2022-03-22T00:07:59.194303",
     "exception": false,
     "start_time": "2022-03-22T00:07:59.140800",
     "status": "completed"
    },
    "tags": []
   },
   "outputs": [],
   "source": [
    "###################################\n",
    "# Build the dataset\n",
    "###################################\n",
    "train_original_source = Iterable_Aggregator(train_original_source, p.seed)\n",
    "val_original_source = Iterable_Aggregator(val_original_source, p.seed)\n",
    "test_original_source = Iterable_Aggregator(test_original_source, p.seed)\n",
    "\n",
    "\n",
    "train_original_target = Iterable_Aggregator(train_original_target, p.seed)\n",
    "val_original_target = Iterable_Aggregator(val_original_target, p.seed)\n",
    "test_original_target = Iterable_Aggregator(test_original_target, p.seed)\n",
    "\n",
    "# For CNN We only use X and Y. And we only train on the source.\n",
    "# Properly form the data using a transform lambda and Lazy_Iterable_Wrapper. Finally wrap them in a dataloader\n",
    "\n",
    "transform_lambda = lambda ex: ex[1] # Original is (<domain>, <episode>) so we strip down to episode only\n",
    "\n",
    "train_processed_source = Lazy_Iterable_Wrapper(train_original_source, transform_lambda)\n",
    "val_processed_source   = Lazy_Iterable_Wrapper(val_original_source, transform_lambda)\n",
    "test_processed_source  = Lazy_Iterable_Wrapper(test_original_source, transform_lambda)\n",
    "\n",
    "train_processed_target = Lazy_Iterable_Wrapper(train_original_target, transform_lambda)\n",
    "val_processed_target   = Lazy_Iterable_Wrapper(val_original_target, transform_lambda)\n",
    "test_processed_target  = Lazy_Iterable_Wrapper(test_original_target, transform_lambda)\n",
    "\n",
    "datasets = EasyDict({\n",
    "    \"source\": {\n",
    "        \"original\": {\"train\":train_original_source, \"val\":val_original_source, \"test\":test_original_source},\n",
    "        \"processed\": {\"train\":train_processed_source, \"val\":val_processed_source, \"test\":test_processed_source}\n",
    "    },\n",
    "    \"target\": {\n",
    "        \"original\": {\"train\":train_original_target, \"val\":val_original_target, \"test\":test_original_target},\n",
    "        \"processed\": {\"train\":train_processed_target, \"val\":val_processed_target, \"test\":test_processed_target}\n",
    "    },\n",
    "})"
   ]
  },
  {
   "cell_type": "code",
   "execution_count": 20,
   "id": "5b3c01fc",
   "metadata": {
    "execution": {
     "iopub.execute_input": "2022-03-22T00:07:59.247132Z",
     "iopub.status.busy": "2022-03-22T00:07:59.246704Z",
     "iopub.status.idle": "2022-03-22T00:08:30.316219Z",
     "shell.execute_reply": "2022-03-22T00:08:30.317321Z"
    },
    "papermill": {
     "duration": 31.09666,
     "end_time": "2022-03-22T00:08:30.317560",
     "exception": false,
     "start_time": "2022-03-22T00:07:59.220900",
     "status": "completed"
    },
    "tags": []
   },
   "outputs": [
    {
     "name": "stdout",
     "output_type": "stream",
     "text": [
      "{'CORES_4', 'CORES_3', 'CORES_1', 'CORES_5', 'CORES_2'}\n"
     ]
    },
    {
     "name": "stdout",
     "output_type": "stream",
     "text": [
      "{'ORACLE.run1_44', 'ORACLE.run1_32', 'ORACLE.run1_38', 'ORACLE.run1_8', 'ORACLE.run1_20', 'ORACLE.run1_14', 'ORACLE.run1_26', 'ORACLE.run1_50'}\n"
     ]
    },
    {
     "name": "stdout",
     "output_type": "stream",
     "text": [
      "tensor([[[ 1.2299e-02, -4.9897e-02, -7.8829e-02,  ...,  4.6571e-02,\n",
      "           3.2624e-02, -3.7049e-02],\n",
      "         [ 2.8657e-02,  3.0976e-02, -1.4344e-03,  ...,  4.4038e-02,\n",
      "           3.5371e-02,  1.4618e-02]],\n",
      "\n",
      "        [[ 1.6663e-02,  3.9369e-03, -4.7548e-02,  ...,  2.8229e-02,\n",
      "           5.1179e-02,  8.4841e-03],\n",
      "         [ 5.9816e-03,  2.7070e-02,  3.3082e-02,  ...,  1.3977e-02,\n",
      "           2.1027e-02,  1.4069e-02]],\n",
      "\n",
      "        [[-2.3011e-02, -7.0497e-03,  2.8504e-02,  ..., -4.5747e-02,\n",
      "          -4.5137e-02,  1.6480e-03],\n",
      "         [-5.4933e-04, -3.5035e-02, -5.4140e-02,  ...,  7.6906e-03,\n",
      "           8.9419e-03, -2.2431e-02]],\n",
      "\n",
      "        ...,\n",
      "\n",
      "        [[ 2.0142e-03,  2.4415e-03,  6.1952e-03,  ...,  1.5076e-02,\n",
      "           3.3570e-03,  1.0163e-02],\n",
      "         [-2.1363e-04, -5.1881e-04,  1.5686e-02,  ...,  1.3916e-02,\n",
      "           6.7140e-03, -3.5096e-03]],\n",
      "\n",
      "        [[-1.1292e-02, -1.7426e-02,  2.5880e-02,  ..., -2.9298e-03,\n",
      "           8.1179e-03,  2.5513e-02],\n",
      "         [ 4.1505e-03, -2.2706e-02, -1.9715e-02,  ...,  1.0010e-02,\n",
      "          -1.4038e-03, -1.6785e-02]],\n",
      "\n",
      "        [[-1.9288e-02,  3.0518e-03,  3.4303e-02,  ...,  9.1555e-05,\n",
      "           1.9227e-02,  2.2431e-02],\n",
      "         [-6.8056e-03, -2.9389e-02,  6.2257e-03,  ...,  9.2776e-03,\n",
      "          -1.4771e-02, -2.0142e-03]]])\n"
     ]
    }
   ],
   "source": [
    "from steves_utils.transforms import get_average_magnitude, get_average_power\n",
    "\n",
    "print(set([u for u,_ in val_original_source]))\n",
    "print(set([u for u,_ in val_original_target]))\n",
    "\n",
    "s_x, s_y, q_x, q_y, _ = next(iter(train_processed_source))\n",
    "print(s_x)\n",
    "\n",
    "# for ds in [\n",
    "#     train_processed_source,\n",
    "#     val_processed_source,\n",
    "#     test_processed_source,\n",
    "#     train_processed_target,\n",
    "#     val_processed_target,\n",
    "#     test_processed_target\n",
    "# ]:\n",
    "#     for s_x, s_y, q_x, q_y, _ in ds:\n",
    "#         for X in (s_x, q_x):\n",
    "#             for x in X:\n",
    "#                 assert np.isclose(get_average_magnitude(x.numpy()), 1.0)\n",
    "#                 assert np.isclose(get_average_power(x.numpy()), 1.0)\n",
    "                "
   ]
  },
  {
   "cell_type": "code",
   "execution_count": 21,
   "id": "bbdacba1",
   "metadata": {
    "execution": {
     "iopub.execute_input": "2022-03-22T00:08:30.374723Z",
     "iopub.status.busy": "2022-03-22T00:08:30.374334Z",
     "iopub.status.idle": "2022-03-22T00:08:30.573274Z",
     "shell.execute_reply": "2022-03-22T00:08:30.573979Z"
    },
    "papermill": {
     "duration": 0.228691,
     "end_time": "2022-03-22T00:08:30.574227",
     "exception": false,
     "start_time": "2022-03-22T00:08:30.345536",
     "status": "completed"
    },
    "tags": []
   },
   "outputs": [
    {
     "name": "stdout",
     "output_type": "stream",
     "text": [
      "(2, 256)\n"
     ]
    }
   ],
   "source": [
    "###################################\n",
    "# Build the model\n",
    "###################################\n",
    "# easfsl only wants a tuple for the shape\n",
    "model = Steves_Prototypical_Network(x_net, device=p.device, x_shape=tuple(p.x_shape))\n",
    "optimizer = Adam(params=model.parameters(), lr=p.lr)"
   ]
  },
  {
   "cell_type": "code",
   "execution_count": 22,
   "id": "22b39ac5",
   "metadata": {
    "execution": {
     "iopub.execute_input": "2022-03-22T00:08:30.635450Z",
     "iopub.status.busy": "2022-03-22T00:08:30.635020Z",
     "iopub.status.idle": "2022-03-22T00:29:31.112573Z",
     "shell.execute_reply": "2022-03-22T00:29:31.111994Z"
    },
    "papermill": {
     "duration": 1260.505145,
     "end_time": "2022-03-22T00:29:31.112714",
     "exception": false,
     "start_time": "2022-03-22T00:08:30.607569",
     "status": "completed"
    },
    "tags": []
   },
   "outputs": [
    {
     "name": "stdout",
     "output_type": "stream",
     "text": [
      "epoch: 1, [batch: 1 / 6315], examples_per_second: 34.7021, train_label_loss: 2.1004, \n"
     ]
    },
    {
     "name": "stdout",
     "output_type": "stream",
     "text": [
      "epoch: 1, [batch: 632 / 6315], examples_per_second: 2943.8316, train_label_loss: 0.0516, \n"
     ]
    },
    {
     "name": "stdout",
     "output_type": "stream",
     "text": [
      "epoch: 1, [batch: 1263 / 6315], examples_per_second: 2938.0250, train_label_loss: 0.0598, \n"
     ]
    },
    {
     "name": "stdout",
     "output_type": "stream",
     "text": [
      "epoch: 1, [batch: 1895 / 6315], examples_per_second: 2967.4313, train_label_loss: 0.0026, \n"
     ]
    },
    {
     "name": "stdout",
     "output_type": "stream",
     "text": [
      "epoch: 1, [batch: 2526 / 6315], examples_per_second: 2940.3663, train_label_loss: 0.0007, \n"
     ]
    },
    {
     "name": "stdout",
     "output_type": "stream",
     "text": [
      "epoch: 1, [batch: 3158 / 6315], examples_per_second: 2932.8963, train_label_loss: 0.0006, \n"
     ]
    },
    {
     "name": "stdout",
     "output_type": "stream",
     "text": [
      "epoch: 1, [batch: 3789 / 6315], examples_per_second: 2999.6055, train_label_loss: 0.0355, \n"
     ]
    },
    {
     "name": "stdout",
     "output_type": "stream",
     "text": [
      "epoch: 1, [batch: 4420 / 6315], examples_per_second: 2975.8967, train_label_loss: 0.0001, \n"
     ]
    },
    {
     "name": "stdout",
     "output_type": "stream",
     "text": [
      "epoch: 1, [batch: 5052 / 6315], examples_per_second: 2933.6266, train_label_loss: 0.0001, \n"
     ]
    },
    {
     "name": "stdout",
     "output_type": "stream",
     "text": [
      "epoch: 1, [batch: 5683 / 6315], examples_per_second: 3062.3259, train_label_loss: 0.0000, \n"
     ]
    },
    {
     "name": "stdout",
     "output_type": "stream",
     "text": [
      "=============================================================\n",
      "epoch: 1, source_val_acc_label: 0.9985, target_val_acc_label: 0.4153, source_val_label_loss: 0.0133, target_val_label_loss: 2.0378, \n",
      "=============================================================\n"
     ]
    },
    {
     "name": "stdout",
     "output_type": "stream",
     "text": [
      "New best\n"
     ]
    },
    {
     "name": "stdout",
     "output_type": "stream",
     "text": [
      "epoch: 2, [batch: 1 / 6307], examples_per_second: 1.5235, train_label_loss: 0.0181, \n"
     ]
    },
    {
     "name": "stdout",
     "output_type": "stream",
     "text": [
      "epoch: 2, [batch: 631 / 6307], examples_per_second: 3373.6263, train_label_loss: 0.0319, \n"
     ]
    },
    {
     "name": "stdout",
     "output_type": "stream",
     "text": [
      "epoch: 2, [batch: 1262 / 6307], examples_per_second: 3402.4211, train_label_loss: 0.0000, \n"
     ]
    },
    {
     "name": "stdout",
     "output_type": "stream",
     "text": [
      "epoch: 2, [batch: 1892 / 6307], examples_per_second: 3368.9009, train_label_loss: 0.0001, \n"
     ]
    },
    {
     "name": "stdout",
     "output_type": "stream",
     "text": [
      "epoch: 2, [batch: 2523 / 6307], examples_per_second: 3725.1757, train_label_loss: 0.0111, \n"
     ]
    },
    {
     "name": "stdout",
     "output_type": "stream",
     "text": [
      "epoch: 2, [batch: 3154 / 6307], examples_per_second: 3904.2297, train_label_loss: 0.0003, \n"
     ]
    },
    {
     "name": "stdout",
     "output_type": "stream",
     "text": [
      "epoch: 2, [batch: 3784 / 6307], examples_per_second: 3952.0282, train_label_loss: 0.0000, \n"
     ]
    },
    {
     "name": "stdout",
     "output_type": "stream",
     "text": [
      "epoch: 2, [batch: 4415 / 6307], examples_per_second: 3923.0559, train_label_loss: 0.0019, \n"
     ]
    },
    {
     "name": "stdout",
     "output_type": "stream",
     "text": [
      "epoch: 2, [batch: 5045 / 6307], examples_per_second: 3855.7784, train_label_loss: 0.0001, \n"
     ]
    },
    {
     "name": "stdout",
     "output_type": "stream",
     "text": [
      "epoch: 2, [batch: 5676 / 6307], examples_per_second: 3929.9909, train_label_loss: 0.0014, \n"
     ]
    },
    {
     "name": "stdout",
     "output_type": "stream",
     "text": [
      "=============================================================\n",
      "epoch: 2, source_val_acc_label: 0.9990, target_val_acc_label: 0.4003, source_val_label_loss: 0.0151, target_val_label_loss: 1.9723, \n",
      "=============================================================\n"
     ]
    },
    {
     "name": "stdout",
     "output_type": "stream",
     "text": [
      "epoch: 3, [batch: 1 / 6326], examples_per_second: 1.6576, train_label_loss: 0.0000, \n"
     ]
    },
    {
     "name": "stdout",
     "output_type": "stream",
     "text": [
      "epoch: 3, [batch: 633 / 6326], examples_per_second: 2972.4586, train_label_loss: 0.0000, \n"
     ]
    },
    {
     "name": "stdout",
     "output_type": "stream",
     "text": [
      "epoch: 3, [batch: 1266 / 6326], examples_per_second: 2974.4284, train_label_loss: 0.0000, \n"
     ]
    },
    {
     "name": "stdout",
     "output_type": "stream",
     "text": [
      "epoch: 3, [batch: 1898 / 6326], examples_per_second: 2917.0569, train_label_loss: 0.0000, \n"
     ]
    },
    {
     "name": "stdout",
     "output_type": "stream",
     "text": [
      "epoch: 3, [batch: 2531 / 6326], examples_per_second: 3006.2822, train_label_loss: 0.0011, \n"
     ]
    },
    {
     "name": "stdout",
     "output_type": "stream",
     "text": [
      "epoch: 3, [batch: 3163 / 6326], examples_per_second: 2993.9040, train_label_loss: 0.0000, \n"
     ]
    },
    {
     "name": "stdout",
     "output_type": "stream",
     "text": [
      "epoch: 3, [batch: 3796 / 6326], examples_per_second: 2989.1617, train_label_loss: 0.0019, \n"
     ]
    },
    {
     "name": "stdout",
     "output_type": "stream",
     "text": [
      "epoch: 3, [batch: 4428 / 6326], examples_per_second: 2950.8197, train_label_loss: 0.0000, \n"
     ]
    },
    {
     "name": "stdout",
     "output_type": "stream",
     "text": [
      "epoch: 3, [batch: 5061 / 6326], examples_per_second: 3249.4548, train_label_loss: 0.0000, \n"
     ]
    },
    {
     "name": "stdout",
     "output_type": "stream",
     "text": [
      "epoch: 3, [batch: 5693 / 6326], examples_per_second: 3446.7180, train_label_loss: 0.0000, \n"
     ]
    },
    {
     "name": "stdout",
     "output_type": "stream",
     "text": [
      "=============================================================\n",
      "epoch: 3, source_val_acc_label: 0.9989, target_val_acc_label: 0.3026, source_val_label_loss: 0.0133, target_val_label_loss: 2.1749, \n",
      "=============================================================\n"
     ]
    },
    {
     "name": "stdout",
     "output_type": "stream",
     "text": [
      "epoch: 4, [batch: 1 / 6302], examples_per_second: 1.4675, train_label_loss: 0.0000, \n"
     ]
    },
    {
     "name": "stdout",
     "output_type": "stream",
     "text": [
      "epoch: 4, [batch: 631 / 6302], examples_per_second: 3551.6801, train_label_loss: 0.0000, \n"
     ]
    },
    {
     "name": "stdout",
     "output_type": "stream",
     "text": [
      "epoch: 4, [batch: 1261 / 6302], examples_per_second: 3879.1134, train_label_loss: 0.0000, \n"
     ]
    },
    {
     "name": "stdout",
     "output_type": "stream",
     "text": [
      "epoch: 4, [batch: 1891 / 6302], examples_per_second: 3391.5235, train_label_loss: 0.0000, \n"
     ]
    },
    {
     "name": "stdout",
     "output_type": "stream",
     "text": [
      "epoch: 4, [batch: 2521 / 6302], examples_per_second: 3114.7813, train_label_loss: 0.0000, \n"
     ]
    },
    {
     "name": "stdout",
     "output_type": "stream",
     "text": [
      "epoch: 4, [batch: 3151 / 6302], examples_per_second: 3394.7036, train_label_loss: 0.0000, \n"
     ]
    },
    {
     "name": "stdout",
     "output_type": "stream",
     "text": [
      "epoch: 4, [batch: 3781 / 6302], examples_per_second: 3422.8626, train_label_loss: 0.0006, \n"
     ]
    },
    {
     "name": "stdout",
     "output_type": "stream",
     "text": [
      "epoch: 4, [batch: 4411 / 6302], examples_per_second: 3218.7014, train_label_loss: 0.0001, \n"
     ]
    },
    {
     "name": "stdout",
     "output_type": "stream",
     "text": [
      "epoch: 4, [batch: 5041 / 6302], examples_per_second: 2993.3666, train_label_loss: 0.0002, \n"
     ]
    },
    {
     "name": "stdout",
     "output_type": "stream",
     "text": [
      "epoch: 4, [batch: 5671 / 6302], examples_per_second: 2990.1208, train_label_loss: 0.0004, \n"
     ]
    },
    {
     "name": "stdout",
     "output_type": "stream",
     "text": [
      "=============================================================\n",
      "epoch: 4, source_val_acc_label: 0.9988, target_val_acc_label: 0.3998, source_val_label_loss: 0.0180, target_val_label_loss: 1.7139, \n",
      "=============================================================\n"
     ]
    },
    {
     "name": "stdout",
     "output_type": "stream",
     "text": [
      "epoch: 5, [batch: 1 / 6324], examples_per_second: 1.2790, train_label_loss: 0.0000, \n"
     ]
    },
    {
     "name": "stdout",
     "output_type": "stream",
     "text": [
      "epoch: 5, [batch: 633 / 6324], examples_per_second: 3379.8174, train_label_loss: 0.0000, \n"
     ]
    },
    {
     "name": "stdout",
     "output_type": "stream",
     "text": [
      "epoch: 5, [batch: 1265 / 6324], examples_per_second: 3533.0332, train_label_loss: 0.0001, \n"
     ]
    },
    {
     "name": "stdout",
     "output_type": "stream",
     "text": [
      "epoch: 5, [batch: 1897 / 6324], examples_per_second: 2980.6832, train_label_loss: 0.0000, \n"
     ]
    },
    {
     "name": "stdout",
     "output_type": "stream",
     "text": [
      "epoch: 5, [batch: 2530 / 6324], examples_per_second: 2960.5453, train_label_loss: 0.0001, \n"
     ]
    },
    {
     "name": "stdout",
     "output_type": "stream",
     "text": [
      "epoch: 5, [batch: 3162 / 6324], examples_per_second: 3015.1320, train_label_loss: 0.0039, \n"
     ]
    },
    {
     "name": "stdout",
     "output_type": "stream",
     "text": [
      "epoch: 5, [batch: 3794 / 6324], examples_per_second: 2989.6160, train_label_loss: 0.0000, \n"
     ]
    },
    {
     "name": "stdout",
     "output_type": "stream",
     "text": [
      "epoch: 5, [batch: 4427 / 6324], examples_per_second: 2978.4325, train_label_loss: 0.0000, \n"
     ]
    },
    {
     "name": "stdout",
     "output_type": "stream",
     "text": [
      "epoch: 5, [batch: 5059 / 6324], examples_per_second: 2998.0800, train_label_loss: 0.0000, \n"
     ]
    },
    {
     "name": "stdout",
     "output_type": "stream",
     "text": [
      "epoch: 5, [batch: 5691 / 6324], examples_per_second: 3001.7761, train_label_loss: 0.0000, \n"
     ]
    },
    {
     "name": "stdout",
     "output_type": "stream",
     "text": [
      "=============================================================\n",
      "epoch: 5, source_val_acc_label: 0.9983, target_val_acc_label: 0.3780, source_val_label_loss: 0.0176, target_val_label_loss: 1.7262, \n",
      "=============================================================\n"
     ]
    },
    {
     "name": "stdout",
     "output_type": "stream",
     "text": [
      "Patience (3) exhausted\n"
     ]
    }
   ],
   "source": [
    "###################################\n",
    "# train\n",
    "###################################\n",
    "jig = PTN_Train_Eval_Test_Jig(model, p.BEST_MODEL_PATH, p.device)\n",
    "\n",
    "jig.train(\n",
    "    train_iterable=datasets.source.processed.train,\n",
    "    source_val_iterable=datasets.source.processed.val,\n",
    "    target_val_iterable=datasets.target.processed.val,\n",
    "    num_epochs=p.n_epoch,\n",
    "    num_logs_per_epoch=p.NUM_LOGS_PER_EPOCH,\n",
    "    patience=p.patience,\n",
    "    optimizer=optimizer,\n",
    "    criteria_for_best=p.criteria_for_best,\n",
    ")"
   ]
  },
  {
   "cell_type": "code",
   "execution_count": 23,
   "id": "31e8fabf",
   "metadata": {
    "execution": {
     "iopub.execute_input": "2022-03-22T00:29:31.197532Z",
     "iopub.status.busy": "2022-03-22T00:29:31.196684Z",
     "iopub.status.idle": "2022-03-22T00:29:31.229172Z",
     "shell.execute_reply": "2022-03-22T00:29:31.228389Z"
    },
    "papermill": {
     "duration": 0.076349,
     "end_time": "2022-03-22T00:29:31.229362",
     "exception": false,
     "start_time": "2022-03-22T00:29:31.153013",
     "status": "completed"
    },
    "tags": []
   },
   "outputs": [],
   "source": [
    "total_experiment_time_secs = time.time() - start_time_secs"
   ]
  },
  {
   "cell_type": "code",
   "execution_count": 24,
   "id": "87b9595b",
   "metadata": {
    "execution": {
     "iopub.execute_input": "2022-03-22T00:29:31.322539Z",
     "iopub.status.busy": "2022-03-22T00:29:31.321626Z",
     "iopub.status.idle": "2022-03-22T00:39:58.548765Z",
     "shell.execute_reply": "2022-03-22T00:39:58.549453Z"
    },
    "papermill": {
     "duration": 627.277328,
     "end_time": "2022-03-22T00:39:58.549711",
     "exception": false,
     "start_time": "2022-03-22T00:29:31.272383",
     "status": "completed"
    },
    "tags": []
   },
   "outputs": [],
   "source": [
    "###################################\n",
    "# Evaluate the model\n",
    "###################################\n",
    "source_test_label_accuracy, source_test_label_loss = jig.test(datasets.source.processed.test)\n",
    "target_test_label_accuracy, target_test_label_loss = jig.test(datasets.target.processed.test)\n",
    "\n",
    "source_val_label_accuracy, source_val_label_loss = jig.test(datasets.source.processed.val)\n",
    "target_val_label_accuracy, target_val_label_loss = jig.test(datasets.target.processed.val)\n",
    "\n",
    "history = jig.get_history()\n",
    "\n",
    "total_epochs_trained = len(history[\"epoch_indices\"])\n",
    "\n",
    "val_dl = Iterable_Aggregator((datasets.source.original.val,datasets.target.original.val))\n",
    "\n",
    "confusion = ptn_confusion_by_domain_over_dataloader(model, p.device, val_dl)\n",
    "per_domain_accuracy = per_domain_accuracy_from_confusion(confusion)\n",
    "\n",
    "# Add a key to per_domain_accuracy for if it was a source domain\n",
    "for domain, accuracy in per_domain_accuracy.items():\n",
    "    per_domain_accuracy[domain] = {\n",
    "        \"accuracy\": accuracy,\n",
    "        \"source?\": domain in p.domains_source\n",
    "    }\n",
    "\n",
    "# Do an independent accuracy assesment JUST TO BE SURE!\n",
    "# _source_test_label_accuracy = independent_accuracy_assesment(model, datasets.source.processed.test, p.device)\n",
    "# _target_test_label_accuracy = independent_accuracy_assesment(model, datasets.target.processed.test, p.device)\n",
    "# _source_val_label_accuracy = independent_accuracy_assesment(model, datasets.source.processed.val, p.device)\n",
    "# _target_val_label_accuracy = independent_accuracy_assesment(model, datasets.target.processed.val, p.device)\n",
    "\n",
    "# assert(_source_test_label_accuracy == source_test_label_accuracy)\n",
    "# assert(_target_test_label_accuracy == target_test_label_accuracy)\n",
    "# assert(_source_val_label_accuracy == source_val_label_accuracy)\n",
    "# assert(_target_val_label_accuracy == target_val_label_accuracy)\n",
    "\n",
    "experiment = {\n",
    "    \"experiment_name\": p.experiment_name,\n",
    "    \"parameters\": dict(p),\n",
    "    \"results\": {\n",
    "        \"source_test_label_accuracy\": source_test_label_accuracy,\n",
    "        \"source_test_label_loss\": source_test_label_loss,\n",
    "        \"target_test_label_accuracy\": target_test_label_accuracy,\n",
    "        \"target_test_label_loss\": target_test_label_loss,\n",
    "        \"source_val_label_accuracy\": source_val_label_accuracy,\n",
    "        \"source_val_label_loss\": source_val_label_loss,\n",
    "        \"target_val_label_accuracy\": target_val_label_accuracy,\n",
    "        \"target_val_label_loss\": target_val_label_loss,\n",
    "        \"total_epochs_trained\": total_epochs_trained,\n",
    "        \"total_experiment_time_secs\": total_experiment_time_secs,\n",
    "        \"confusion\": confusion,\n",
    "        \"per_domain_accuracy\": per_domain_accuracy,\n",
    "    },\n",
    "    \"history\": history,\n",
    "    \"dataset_metrics\": get_dataset_metrics(datasets, \"ptn\"),\n",
    "}"
   ]
  },
  {
   "cell_type": "code",
   "execution_count": 25,
   "id": "54a21829",
   "metadata": {
    "execution": {
     "iopub.execute_input": "2022-03-22T00:39:58.635630Z",
     "iopub.status.busy": "2022-03-22T00:39:58.635244Z",
     "iopub.status.idle": "2022-03-22T00:39:58.841817Z",
     "shell.execute_reply": "2022-03-22T00:39:58.842502Z"
    },
    "papermill": {
     "duration": 0.248685,
     "end_time": "2022-03-22T00:39:58.842728",
     "exception": false,
     "start_time": "2022-03-22T00:39:58.594043",
     "status": "completed"
    },
    "tags": []
   },
   "outputs": [
    {
     "data": {
      "image/png": "[encoded data removed]",
      "text/plain": [
       "<Figure size 1080x504 with 1 Axes>"
      ]
     },
     "metadata": {
      "needs_background": "light"
     },
     "output_type": "display_data"
    }
   ],
   "source": [
    "ax = get_loss_curve(experiment)\n",
    "plt.show()"
   ]
  },
  {
   "cell_type": "code",
   "execution_count": 26,
   "id": "fd8a0f60",
   "metadata": {
    "execution": {
     "iopub.execute_input": "2022-03-22T00:39:58.940432Z",
     "iopub.status.busy": "2022-03-22T00:39:58.940043Z",
     "iopub.status.idle": "2022-03-22T00:39:59.275762Z",
     "shell.execute_reply": "2022-03-22T00:39:59.276082Z"
    },
    "papermill": {
     "duration": 0.382824,
     "end_time": "2022-03-22T00:39:59.276204",
     "exception": false,
     "start_time": "2022-03-22T00:39:58.893380",
     "status": "completed"
    },
    "tags": []
   },
   "outputs": [
    {
     "data": {
      "text/plain": [
       "<AxesSubplot:title={'center':'Results'}>"
      ]
     },
     "execution_count": 26,
     "metadata": {},
     "output_type": "execute_result"
    },
    {
     "data": {
      "image/png": "[encoded data removed]",
      "text/plain": [
       "<Figure size 1080x504 with 1 Axes>"
      ]
     },
     "metadata": {
      "needs_background": "light"
     },
     "output_type": "display_data"
    }
   ],
   "source": [
    "get_results_table(experiment)"
   ]
  },
  {
   "cell_type": "code",
   "execution_count": 27,
   "id": "cf8dc689",
   "metadata": {
    "execution": {
     "iopub.execute_input": "2022-03-22T00:39:59.363920Z",
     "iopub.status.busy": "2022-03-22T00:39:59.363543Z",
     "iopub.status.idle": "2022-03-22T00:39:59.620050Z",
     "shell.execute_reply": "2022-03-22T00:39:59.620726Z"
    },
    "papermill": {
     "duration": 0.302404,
     "end_time": "2022-03-22T00:39:59.620931",
     "exception": false,
     "start_time": "2022-03-22T00:39:59.318527",
     "status": "completed"
    },
    "tags": []
   },
   "outputs": [
    {
     "data": {
      "text/plain": [
       "<AxesSubplot:title={'center':'Per Domain Validation Accuracy'}, xlabel='domain'>"
      ]
     },
     "execution_count": 27,
     "metadata": {},
     "output_type": "execute_result"
    },
    {
     "data": {
      "image/png": "[encoded data removed]",
      "text/plain": [
       "<Figure size 1080x504 with 1 Axes>"
      ]
     },
     "metadata": {
      "needs_background": "light"
     },
     "output_type": "display_data"
    }
   ],
   "source": [
    "get_domain_accuracies(experiment)"
   ]
  },
  {
   "cell_type": "code",
   "execution_count": 28,
   "id": "a74ae082",
   "metadata": {
    "execution": {
     "iopub.execute_input": "2022-03-22T00:39:59.714956Z",
     "iopub.status.busy": "2022-03-22T00:39:59.714569Z",
     "iopub.status.idle": "2022-03-22T00:39:59.738119Z",
     "shell.execute_reply": "2022-03-22T00:39:59.737400Z"
    },
    "papermill": {
     "duration": 0.069713,
     "end_time": "2022-03-22T00:39:59.738277",
     "exception": false,
     "start_time": "2022-03-22T00:39:59.668564",
     "status": "completed"
    },
    "tags": []
   },
   "outputs": [
    {
     "name": "stdout",
     "output_type": "stream",
     "text": [
      "Source Test Label Accuracy: 0.9986244356659142 Target Test Label Accuracy: 0.41283203125\n",
      "Source Val Label Accuracy: 0.9985 Target Val Label Accuracy: 0.4153059895833333\n"
     ]
    }
   ],
   "source": [
    "print(\"Source Test Label Accuracy:\", experiment[\"results\"][\"source_test_label_accuracy\"], \"Target Test Label Accuracy:\", experiment[\"results\"][\"target_test_label_accuracy\"])\n",
    "print(\"Source Val Label Accuracy:\", experiment[\"results\"][\"source_val_label_accuracy\"], \"Target Val Label Accuracy:\", experiment[\"results\"][\"target_val_label_accuracy\"])"
   ]
  },
  {
   "cell_type": "code",
   "execution_count": 29,
   "id": "dacca602",
   "metadata": {
    "execution": {
     "iopub.execute_input": "2022-03-22T00:39:59.834568Z",
     "iopub.status.busy": "2022-03-22T00:39:59.834193Z",
     "iopub.status.idle": "2022-03-22T00:39:59.855073Z",
     "shell.execute_reply": "2022-03-22T00:39:59.855780Z"
    },
    "papermill": {
     "duration": 0.068001,
     "end_time": "2022-03-22T00:39:59.855973",
     "exception": false,
     "start_time": "2022-03-22T00:39:59.787972",
     "status": "completed"
    },
    "tags": [
     "experiment_json"
    ]
   },
   "outputs": [
    {
     "data": {
      "text/plain": [
       "'{\"experiment_name\": \"tl_1v2:cores-oracle.run1\", \"parameters\": {\"experiment_name\": \"tl_1v2:cores-oracle.run1\", \"device\": \"cuda\", \"lr\": 0.0001, \"n_shot\": 3, \"n_query\": 2, \"train_k_factor\": 3, \"val_k_factor\": 2, \"test_k_factor\": 2, \"torch_default_dtype\": \"torch.float32\", \"n_epoch\": 50, \"patience\": 3, \"criteria_for_best\": \"target_accuracy\", \"x_net\": [{\"class\": \"nnReshape\", \"kargs\": {\"shape\": [-1, 1, 2, 256]}}, {\"class\": \"Conv2d\", \"kargs\": {\"in_channels\": 1, \"out_channels\": 256, \"kernel_size\": [1, 7], \"bias\": false, \"padding\": [0, 3]}}, {\"class\": \"ReLU\", \"kargs\": {\"inplace\": true}}, {\"class\": \"BatchNorm2d\", \"kargs\": {\"num_features\": 256}}, {\"class\": \"Conv2d\", \"kargs\": {\"in_channels\": 256, \"out_channels\": 80, \"kernel_size\": [2, 7], \"bias\": true, \"padding\": [0, 3]}}, {\"class\": \"ReLU\", \"kargs\": {\"inplace\": true}}, {\"class\": \"BatchNorm2d\", \"kargs\": {\"num_features\": 80}}, {\"class\": \"Flatten\", \"kargs\": {}}, {\"class\": \"Linear\", \"kargs\": {\"in_features\": 20480, \"out_features\": 256}}, {\"class\": \"ReLU\", \"kargs\": {\"inplace\": true}}, {\"class\": \"BatchNorm1d\", \"kargs\": {\"num_features\": 256}}, {\"class\": \"Linear\", \"kargs\": {\"in_features\": 256, \"out_features\": 256}}], \"NUM_LOGS_PER_EPOCH\": 10, \"BEST_MODEL_PATH\": \"./best_model.pth\", \"n_way\": 16, \"datasets\": [{\"labels\": [\"1-10.\", \"1-11.\", \"1-15.\", \"1-16.\", \"1-17.\", \"1-18.\", \"1-19.\", \"10-4.\", \"10-7.\", \"11-1.\", \"11-14.\", \"11-17.\", \"11-20.\", \"11-7.\", \"13-20.\", \"13-8.\", \"14-10.\", \"14-11.\", \"14-14.\", \"14-7.\", \"15-1.\", \"15-20.\", \"16-1.\", \"16-16.\", \"17-10.\", \"17-11.\", \"17-2.\", \"19-1.\", \"19-16.\", \"19-19.\", \"19-20.\", \"19-3.\", \"2-10.\", \"2-11.\", \"2-17.\", \"2-18.\", \"2-20.\", \"2-3.\", \"2-4.\", \"2-5.\", \"2-6.\", \"2-7.\", \"2-8.\", \"3-13.\", \"3-18.\", \"3-3.\", \"4-1.\", \"4-10.\", \"4-11.\", \"4-19.\", \"5-5.\", \"6-15.\", \"7-10.\", \"7-14.\", \"8-18.\", \"8-20.\", \"8-3.\", \"8-8.\"], \"domains\": [1, 2, 3, 4, 5], \"num_examples_per_domain_per_label\": -1, \"pickle_path\": \"/root/csc500-main/datasets/cores.stratified_ds.2022A.pkl\", \"source_or_target_dataset\": \"source\", \"x_transforms\": [], \"episode_transforms\": [], \"domain_prefix\": \"CORES_\"}, {\"labels\": [\"3123D52\", \"3123D65\", \"3123D79\", \"3123D80\", \"3123D54\", \"3123D70\", \"3123D7B\", \"3123D89\", \"3123D58\", \"3123D76\", \"3123D7D\", \"3123EFE\", \"3123D64\", \"3123D78\", \"3123D7E\", \"3124E4A\"], \"domains\": [32, 38, 8, 44, 14, 50, 20, 26], \"num_examples_per_domain_per_label\": 10000, \"pickle_path\": \"/root/csc500-main/datasets/oracle.Run1_10kExamples_stratified_ds.2022A.pkl\", \"source_or_target_dataset\": \"target\", \"x_transforms\": [], \"episode_transforms\": [], \"domain_prefix\": \"ORACLE.run1_\"}], \"dataset_seed\": 420, \"seed\": 420, \"x_shape\": [2, 256], \"domains_source\": [\"CORES_1\", \"CORES_2\", \"CORES_3\", \"CORES_4\", \"CORES_5\"], \"domains_target\": [\"ORACLE.run1_32\", \"ORACLE.run1_38\", \"ORACLE.run1_8\", \"ORACLE.run1_44\", \"ORACLE.run1_14\", \"ORACLE.run1_50\", \"ORACLE.run1_20\", \"ORACLE.run1_26\"]}, \"results\": {\"source_test_label_accuracy\": 0.9986244356659142, \"source_test_label_loss\": 0.006529336329549551, \"target_test_label_accuracy\": 0.41283203125, \"target_test_label_loss\": 2.039388418197632, \"source_val_label_accuracy\": 0.9985, \"source_val_label_loss\": 0.013254583813250065, \"target_val_label_accuracy\": 0.4153059895833333, \"target_val_label_loss\": 2.0378007888793945, \"total_epochs_trained\": 5, \"total_experiment_time_secs\": 1304.110428571701, \"confusion\": {\"CORES_4\": {\"42\": {\"42\": 32}, \"0\": {\"0\": 80}, \"1\": {\"1\": 40}, \"39\": {\"39\": 20}, \"28\": {\"28\": 32}, \"53\": {\"53\": 124}, \"19\": {\"19\": 144}, \"34\": {\"34\": 21, \"27\": 1, \"9\": 2}, \"33\": {\"33\": 36}, \"32\": {\"32\": 24}, \"10\": {\"10\": 136}, \"46\": {\"46\": 134}, \"20\": {\"20\": 122}, \"5\": {\"5\": 108}, \"40\": {\"40\": 124}, \"51\": {\"51\": 144}, \"37\": {\"37\": 24}, \"17\": {\"17\": 80}, \"45\": {\"45\": 96}, \"13\": {\"13\": 142}, \"27\": {\"27\": 144}, \"24\": {\"24\": 56}, \"30\": {\"30\": 44}, \"31\": {\"31\": 28}, \"41\": {\"41\": 34, \"10\": 1, \"13\": 1}, \"36\": {\"36\": 92}, \"16\": {\"16\": 96}, \"22\": {\"22\": 128}, \"44\": {\"44\": 132}, \"9\": {\"9\": 140}, \"57\": {\"57\": 100}, \"8\": {\"8\": 138}, \"23\": {\"23\": 132}, \"47\": {\"47\": 120}, \"43\": {\"43\": 138}, \"49\": {\"49\": 20}, \"3\": {\"3\": 124}, \"12\": {\"12\": 92}, \"38\": {\"38\": 40}, \"7\": {\"7\": 24}, \"14\": {\"14\": 13, \"38\": 2, \"47\": 1}, \"15\": {\"15\": 146}, \"25\": {\"25\": 128}, \"26\": {\"26\": 20, \"27\": 2, \"42\": 1, \"4\": 1}, \"21\": {\"21\": 132}, \"48\": {\"48\": 144}, \"56\": {\"56\": 134}, \"11\": {\"11\": 104}, \"2\": {\"2\": 36}, \"6\": {\"6\": 112}, \"55\": {\"55\": 140}, \"54\": {\"54\": 108}, \"29\": {\"29\": 124}, \"50\": {\"50\": 122}, \"52\": {\"52\": 116}, \"35\": {\"35\": 40}, \"4\": {\"4\": 120}, \"18\": {\"18\": 108}}, \"CORES_5\": {\"43\": {\"43\": 152}, \"35\": {\"35\": 36}, \"54\": {\"54\": 112}, \"22\": {\"22\": 28}, \"16\": {\"16\": 146}, \"5\": {\"5\": 128}, \"28\": {\"28\": 32}, \"14\": {\"14\": 44}, \"51\": {\"51\": 128}, \"19\": {\"19\": 140}, \"31\": {\"31\": 36}, \"10\": {\"10\": 68}, \"21\": {\"21\": 136}, \"3\": {\"3\": 100}, \"57\": {\"57\": 132}, \"9\": {\"9\": 146}, \"8\": {\"8\": 132}, \"46\": {\"46\": 140}, \"23\": {\"23\": 122, \"54\": 2}, \"37\": {\"37\": 24}, \"34\": {\"34\": 36}, \"4\": {\"4\": 100}, \"6\": {\"6\": 127, \"50\": 1}, \"48\": {\"48\": 136}, \"44\": {\"44\": 138}, \"40\": {\"40\": 124}, \"12\": {\"12\": 96}, \"30\": {\"30\": 128}, \"39\": {\"39\": 20}, \"45\": {\"45\": 122, \"50\": 2}, \"36\": {\"36\": 92}, \"27\": {\"27\": 140}, \"32\": {\"32\": 32}, \"52\": {\"52\": 130}, \"0\": {\"0\": 124}, \"26\": {\"26\": 23, \"17\": 1}, \"1\": {\"1\": 147, \"20\": 1}, \"53\": {\"53\": 146}, \"25\": {\"25\": 144}, \"24\": {\"24\": 80}, \"7\": {\"7\": 32}, \"18\": {\"18\": 64}, \"20\": {\"20\": 144}, \"33\": {\"33\": 32}, \"55\": {\"55\": 140}, \"41\": {\"41\": 28}, \"42\": {\"42\": 39, \"11\": 1}, \"49\": {\"49\": 36}, \"13\": {\"13\": 148}, \"38\": {\"38\": 32}, \"2\": {\"2\": 28}, \"47\": {\"47\": 100}, \"17\": {\"17\": 116}, \"11\": {\"11\": 154}, \"29\": {\"29\": 132}, \"50\": {\"50\": 138}, \"56\": {\"56\": 148}, \"15\": {\"15\": 142}}, \"CORES_2\": {\"49\": {\"49\": 23, \"23\": 1}, \"13\": {\"13\": 116}, \"37\": {\"37\": 36}, \"41\": {\"41\": 20}, \"15\": {\"15\": 142}, \"56\": {\"56\": 139, \"11\": 1, \"0\": 2}, \"14\": {\"14\": 23, \"47\": 1}, \"3\": {\"3\": 92}, \"38\": {\"38\": 20}, \"43\": {\"43\": 138}, \"33\": {\"33\": 28}, \"47\": {\"47\": 138}, \"30\": {\"30\": 144}, \"39\": {\"39\": 28}, \"12\": {\"12\": 92}, \"6\": {\"6\": 124}, \"51\": {\"51\": 134}, \"5\": {\"5\": 120}, \"34\": {\"34\": 27, \"19\": 1}, \"35\": {\"35\": 32}, \"0\": {\"0\": 48}, \"7\": {\"7\": 36}, \"24\": {\"24\": 96}, \"8\": {\"8\": 136}, \"20\": {\"20\": 124}, \"36\": {\"36\": 116}, \"42\": {\"42\": 36}, \"1\": {\"1\": 112}, \"4\": {\"4\": 148}, \"28\": {\"28\": 28}, \"50\": {\"50\": 136}, \"45\": {\"45\": 128}, \"18\": {\"18\": 48}, \"57\": {\"57\": 120}, \"46\": {\"46\": 128}, \"23\": {\"23\": 148}, \"27\": {\"27\": 138}, \"19\": {\"19\": 134}, \"22\": {\"22\": 136}, \"17\": {\"17\": 104}, \"55\": {\"55\": 136}, \"44\": {\"44\": 100}, \"26\": {\"26\": 22, \"34\": 2}, \"31\": {\"31\": 28}, \"16\": {\"16\": 130}, \"11\": {\"11\": 128}, \"25\": {\"25\": 126}, \"54\": {\"54\": 108}, \"32\": {\"32\": 28}, \"52\": {\"52\": 124}, \"40\": {\"40\": 131, \"29\": 1}, \"2\": {\"2\": 32}, \"10\": {\"10\": 110}, \"53\": {\"53\": 136}, \"9\": {\"9\": 150}, \"21\": {\"21\": 120}, \"48\": {\"48\": 138}, \"29\": {\"29\": 128}}, \"CORES_1\": {\"9\": {\"9\": 142}, \"25\": {\"25\": 128}, \"41\": {\"41\": 24}, \"29\": {\"29\": 140}, \"46\": {\"46\": 128}, \"4\": {\"4\": 132}, \"31\": {\"31\": 28}, \"36\": {\"36\": 64}, \"20\": {\"20\": 128}, \"7\": {\"7\": 28}, \"6\": {\"6\": 96}, \"16\": {\"16\": 138}, \"17\": {\"17\": 64}, \"50\": {\"50\": 148}, \"57\": {\"57\": 144}, \"23\": {\"23\": 136}, \"3\": {\"3\": 126}, \"53\": {\"53\": 140}, \"49\": {\"49\": 32}, \"56\": {\"56\": 152}, \"51\": {\"51\": 142}, \"26\": {\"26\": 24}, \"43\": {\"43\": 144}, \"22\": {\"22\": 136}, \"45\": {\"45\": 146}, \"13\": {\"13\": 152}, \"12\": {\"12\": 116}, \"54\": {\"54\": 104}, \"24\": {\"24\": 108}, \"44\": {\"44\": 136}, \"28\": {\"28\": 28}, \"33\": {\"33\": 32}, \"38\": {\"38\": 23, \"47\": 1}, \"0\": {\"0\": 144}, \"47\": {\"47\": 154}, \"42\": {\"42\": 40}, \"34\": {\"34\": 24}, \"48\": {\"48\": 142}, \"35\": {\"35\": 36}, \"2\": {\"2\": 36}, \"30\": {\"30\": 120}, \"18\": {\"18\": 72}, \"37\": {\"37\": 32}, \"1\": {\"1\": 100}, \"11\": {\"11\": 138}, \"55\": {\"55\": 130}, \"15\": {\"15\": 150}, \"10\": {\"10\": 96}, \"27\": {\"27\": 160}, \"19\": {\"19\": 146}, \"14\": {\"30\": 1, \"14\": 23}, \"8\": {\"8\": 140}, \"5\": {\"5\": 136}, \"39\": {\"39\": 28}, \"52\": {\"52\": 122}, \"21\": {\"21\": 124}, \"40\": {\"40\": 152}, \"32\": {\"32\": 32}}, \"CORES_3\": {\"56\": {\"56\": 120}, \"4\": {\"4\": 145, \"27\": 1}, \"34\": {\"34\": 32}, \"52\": {\"52\": 136}, \"32\": {\"32\": 28}, \"46\": {\"46\": 136}, \"12\": {\"12\": 91, \"50\": 1}, \"20\": {\"20\": 132}, \"54\": {\"54\": 100}, \"22\": {\"22\": 140}, \"26\": {\"26\": 24}, \"31\": {\"31\": 28}, \"10\": {\"10\": 64}, \"27\": {\"27\": 144}, \"40\": {\"40\": 136}, \"28\": {\"28\": 28}, \"5\": {\"5\": 116}, \"30\": {\"30\": 120}, \"7\": {\"7\": 36}, \"18\": {\"18\": 84}, \"39\": {\"39\": 16}, \"50\": {\"50\": 136}, \"49\": {\"49\": 20}, \"43\": {\"43\": 122}, \"29\": {\"29\": 114}, \"35\": {\"35\": 28}, \"13\": {\"13\": 122, \"43\": 2}, \"36\": {\"36\": 100}, \"11\": {\"11\": 146}, \"57\": {\"57\": 124}, \"9\": {\"9\": 130}, \"25\": {\"25\": 130}, \"16\": {\"16\": 126}, \"53\": {\"53\": 118}, \"33\": {\"33\": 28}, \"51\": {\"51\": 128}, \"44\": {\"44\": 88}, \"48\": {\"48\": 114}, \"6\": {\"6\": 88}, \"23\": {\"23\": 144}, \"1\": {\"1\": 100}, \"17\": {\"38\": 2, \"17\": 104, \"53\": 2}, \"21\": {\"21\": 122}, \"14\": {\"14\": 38, \"0\": 2}, \"55\": {\"55\": 144}, \"41\": {\"41\": 28}, \"3\": {\"3\": 137, \"50\": 1}, \"38\": {\"38\": 28}, \"2\": {\"2\": 32}, \"8\": {\"8\": 142}, \"37\": {\"37\": 28}, \"45\": {\"45\": 60}, \"42\": {\"42\": 28}, \"24\": {\"24\": 104}, \"15\": {\"15\": 136}, \"0\": {\"0\": 124}, \"47\": {\"47\": 92}, \"19\": {\"19\": 120}}, \"ORACLE.run1_14\": {\"15\": {\"15\": 1200}, \"5\": {\"0\": 86, \"4\": 109, \"8\": 173, \"13\": 59, \"2\": 152, \"5\": 307, \"7\": 137, \"14\": 106, \"12\": 23, \"3\": 26, \"6\": 18, \"10\": 3, \"9\": 1}, \"7\": {\"7\": 693, \"5\": 114, \"2\": 52, \"3\": 66, \"6\": 53, \"8\": 102, \"13\": 61, \"0\": 20, \"14\": 38, \"4\": 1}, \"4\": {\"10\": 197, \"9\": 20, \"5\": 117, \"13\": 17, \"4\": 545, \"0\": 21, \"2\": 79, \"1\": 56, \"12\": 54, \"7\": 16, \"8\": 64, \"14\": 12, \"6\": 1, \"3\": 1}, \"10\": {\"12\": 76, \"10\": 619, \"5\": 4, \"9\": 211, \"4\": 165, \"2\": 20, \"0\": 6, \"1\": 83, \"14\": 4, \"8\": 5, \"13\": 7}, \"11\": {\"11\": 1190, \"9\": 6, \"1\": 4}, \"12\": {\"12\": 714, \"0\": 115, \"2\": 34, \"13\": 10, \"4\": 61, \"10\": 76, \"8\": 90, \"5\": 38, \"3\": 7, \"14\": 28, \"9\": 19, \"6\": 3, \"1\": 3, \"7\": 2}, \"0\": {\"3\": 141, \"5\": 87, \"0\": 211, \"12\": 104, \"8\": 89, \"10\": 12, \"2\": 118, \"4\": 34, \"6\": 111, \"14\": 166, \"13\": 88, \"7\": 38, \"9\": 1}, \"14\": {\"3\": 103, \"0\": 166, \"7\": 41, \"6\": 122, \"14\": 287, \"2\": 163, \"13\": 149, \"5\": 92, \"8\": 51, \"4\": 9, \"12\": 16, \"9\": 1}, \"8\": {\"8\": 436, \"3\": 52, \"2\": 63, \"0\": 142, \"7\": 150, \"5\": 175, \"14\": 53, \"12\": 52, \"13\": 26, \"4\": 38, \"6\": 12, \"10\": 1}, \"13\": {\"3\": 129, \"4\": 37, \"6\": 257, \"13\": 202, \"14\": 131, \"2\": 96, \"10\": 13, \"8\": 38, \"12\": 26, \"0\": 87, \"5\": 63, \"7\": 49, \"15\": 72}, \"6\": {\"6\": 413, \"13\": 226, \"3\": 224, \"14\": 115, \"7\": 67, \"5\": 16, \"2\": 50, \"0\": 69, \"12\": 5, \"8\": 14, \"15\": 1}, \"1\": {\"1\": 866, \"4\": 61, \"10\": 111, \"9\": 158, \"8\": 1, \"12\": 1, \"2\": 2}, \"3\": {\"3\": 309, \"13\": 153, \"7\": 129, \"6\": 233, \"8\": 54, \"5\": 30, \"0\": 111, \"14\": 119, \"2\": 58, \"12\": 4}, \"9\": {\"9\": 641, \"1\": 212, \"4\": 40, \"10\": 286, \"12\": 19, \"0\": 1, \"8\": 1}, \"2\": {\"0\": 105, \"6\": 73, \"14\": 152, \"8\": 58, \"5\": 166, \"13\": 95, \"2\": 165, \"7\": 93, \"4\": 119, \"10\": 42, \"3\": 84, \"12\": 40, \"1\": 5, \"9\": 3}}, \"ORACLE.run1_20\": {\"4\": {\"13\": 124, \"12\": 136, \"10\": 157, \"4\": 179, \"6\": 107, \"5\": 42, \"9\": 45, \"2\": 115, \"1\": 61, \"15\": 94, \"7\": 81, \"3\": 27, \"14\": 22, \"8\": 10}, \"10\": {\"13\": 176, \"4\": 179, \"10\": 463, \"12\": 99, \"2\": 62, \"6\": 72, \"15\": 68, \"9\": 19, \"7\": 33, \"1\": 10, \"14\": 5, \"3\": 7, \"5\": 7}, \"15\": {\"6\": 74, \"2\": 123, \"10\": 43, \"9\": 92, \"12\": 144, \"1\": 99, \"7\": 95, \"5\": 62, \"13\": 111, \"3\": 49, \"15\": 156, \"8\": 18, \"4\": 107, \"14\": 23, \"11\": 3, \"0\": 1}, \"0\": {\"0\": 547, \"8\": 134, \"11\": 270, \"14\": 80, \"3\": 73, \"5\": 48, \"7\": 5, \"9\": 19, \"1\": 15, \"2\": 5, \"12\": 3, \"6\": 1}, \"6\": {\"6\": 186, \"7\": 124, \"1\": 62, \"14\": 75, \"2\": 111, \"9\": 103, \"12\": 79, \"3\": 64, \"4\": 111, \"10\": 39, \"8\": 47, \"15\": 64, \"5\": 54, \"13\": 78, \"0\": 3}, \"3\": {\"7\": 79, \"1\": 123, \"9\": 102, \"12\": 39, \"3\": 159, \"14\": 142, \"0\": 54, \"5\": 156, \"6\": 47, \"8\": 167, \"15\": 49, \"4\": 17, \"2\": 37, \"13\": 12, \"11\": 15, \"10\": 2}, \"7\": {\"7\": 139, \"1\": 110, \"4\": 89, \"13\": 86, \"6\": 125, \"3\": 60, \"5\": 77, \"12\": 78, \"8\": 41, \"9\": 98, \"14\": 71, \"2\": 116, \"15\": 79, \"10\": 26, \"11\": 4, \"0\": 1}, \"2\": {\"2\": 131, \"6\": 115, \"5\": 48, \"9\": 85, \"13\": 125, \"10\": 52, \"3\": 38, \"4\": 122, \"15\": 118, \"7\": 117, \"12\": 127, \"8\": 18, \"11\": 2, \"14\": 28, \"1\": 73, \"0\": 1}, \"8\": {\"7\": 45, \"14\": 215, \"0\": 113, \"3\": 166, \"5\": 136, \"15\": 19, \"8\": 244, \"6\": 48, \"9\": 63, \"11\": 35, \"1\": 80, \"2\": 13, \"12\": 10, \"4\": 10, \"13\": 1, \"10\": 2}, \"11\": {\"11\": 883, \"0\": 249, \"9\": 2, \"5\": 5, \"8\": 31, \"14\": 14, \"3\": 9, \"2\": 1, \"1\": 4, \"7\": 1, \"6\": 1}, \"14\": {\"9\": 91, \"1\": 59, \"8\": 183, \"14\": 278, \"6\": 65, \"3\": 151, \"11\": 24, \"0\": 73, \"5\": 119, \"7\": 65, \"12\": 27, \"15\": 11, \"13\": 11, \"2\": 26, \"4\": 17}, \"12\": {\"2\": 126, \"12\": 159, \"4\": 137, \"14\": 22, \"13\": 147, \"1\": 68, \"10\": 67, \"9\": 65, \"7\": 98, \"6\": 89, \"15\": 148, \"5\": 33, \"3\": 27, \"8\": 14}, \"13\": {\"15\": 125, \"7\": 102, \"2\": 140, \"12\": 124, \"13\": 280, \"6\": 67, \"4\": 114, \"10\": 134, \"14\": 4, \"8\": 6, \"1\": 35, \"9\": 36, \"5\": 24, \"3\": 9}, \"9\": {\"15\": 81, \"1\": 115, \"3\": 104, \"5\": 126, \"6\": 87, \"9\": 122, \"7\": 122, \"2\": 90, \"14\": 77, \"8\": 69, \"13\": 48, \"12\": 79, \"4\": 52, \"10\": 6, \"0\": 16, \"11\": 6}, \"5\": {\"15\": 76, \"2\": 51, \"14\": 100, \"1\": 143, \"10\": 5, \"5\": 154, \"8\": 117, \"3\": 169, \"13\": 22, \"7\": 71, \"0\": 40, \"12\": 55, \"6\": 50, \"9\": 119, \"4\": 27, \"11\": 1}, \"1\": {\"5\": 144, \"3\": 110, \"2\": 85, \"7\": 97, \"13\": 48, \"8\": 77, \"9\": 112, \"1\": 156, \"14\": 74, \"6\": 59, \"12\": 70, \"4\": 55, \"15\": 99, \"0\": 7, \"10\": 5, \"11\": 2}}, \"ORACLE.run1_50\": {\"5\": {\"5\": 298, \"6\": 135, \"11\": 39, \"4\": 173, \"15\": 137, \"1\": 2, \"3\": 73, \"9\": 46, \"7\": 228, \"13\": 57, \"12\": 11, \"8\": 1}, \"12\": {\"11\": 191, \"12\": 666, \"15\": 61, \"9\": 232, \"6\": 38, \"5\": 6, \"4\": 2, \"1\": 1, \"3\": 1, \"13\": 1, \"7\": 1}, \"14\": {\"14\": 633, \"0\": 196, \"2\": 337, \"10\": 31, \"8\": 1, \"1\": 2}, \"4\": {\"7\": 427, \"4\": 545, \"5\": 134, \"9\": 33, \"15\": 29, \"6\": 22, \"11\": 3, \"3\": 4, \"12\": 3}, \"13\": {\"13\": 662, \"8\": 88, \"1\": 206, \"11\": 101, \"3\": 85, \"12\": 15, \"9\": 4, \"6\": 16, \"15\": 10, \"10\": 5, \"5\": 8}, \"10\": {\"8\": 232, \"10\": 559, \"0\": 250, \"1\": 77, \"2\": 48, \"14\": 24, \"13\": 10}, \"9\": {\"12\": 310, \"9\": 418, \"4\": 19, \"15\": 183, \"11\": 123, \"3\": 3, \"6\": 102, \"5\": 38, \"13\": 2, \"7\": 2}, \"15\": {\"11\": 80, \"9\": 207, \"5\": 162, \"15\": 336, \"3\": 33, \"6\": 255, \"4\": 26, \"12\": 75, \"13\": 3, \"7\": 23}, \"6\": {\"5\": 191, \"15\": 273, \"6\": 310, \"9\": 133, \"4\": 23, \"3\": 84, \"11\": 98, \"12\": 58, \"7\": 27, \"13\": 3}, \"2\": {\"0\": 340, \"2\": 467, \"14\": 325, \"10\": 68}, \"0\": {\"2\": 317, \"0\": 455, \"14\": 173, \"10\": 226, \"8\": 18, \"1\": 11}, \"11\": {\"9\": 136, \"11\": 492, \"12\": 254, \"6\": 105, \"13\": 50, \"15\": 117, \"3\": 15, \"1\": 8, \"5\": 23}, \"3\": {\"3\": 778, \"5\": 112, \"6\": 140, \"11\": 38, \"13\": 64, \"15\": 38, \"9\": 2, \"7\": 11, \"12\": 9, \"4\": 3, \"8\": 3, \"1\": 2}, \"8\": {\"8\": 627, \"1\": 185, \"13\": 124, \"10\": 236, \"11\": 1, \"0\": 21, \"3\": 2, \"2\": 3, \"14\": 1}, \"7\": {\"7\": 540, \"4\": 450, \"5\": 167, \"15\": 20, \"9\": 9, \"3\": 3, \"6\": 10, \"12\": 1}, \"1\": {\"1\": 590, \"13\": 282, \"6\": 1, \"10\": 80, \"8\": 155, \"14\": 5, \"0\": 23, \"11\": 39, \"12\": 11, \"3\": 9, \"2\": 4, \"9\": 1}}, \"ORACLE.run1_26\": {\"7\": {\"14\": 11, \"9\": 173, \"8\": 188, \"12\": 102, \"2\": 173, \"7\": 241, \"3\": 145, \"13\": 90, \"0\": 49, \"10\": 9, \"4\": 13, \"15\": 1, \"5\": 3, \"6\": 2}, \"6\": {\"6\": 214, \"11\": 88, \"10\": 112, \"1\": 212, \"5\": 192, \"15\": 195, \"14\": 138, \"0\": 44, \"2\": 4, \"9\": 1}, \"14\": {\"1\": 131, \"14\": 270, \"2\": 20, \"15\": 117, \"10\": 223, \"0\": 173, \"8\": 13, \"5\": 95, \"6\": 133, \"12\": 7, \"11\": 10, \"9\": 4, \"7\": 4}, \"15\": {\"1\": 139, \"10\": 135, \"6\": 178, \"15\": 244, \"14\": 116, \"5\": 234, \"0\": 78, \"7\": 3, \"2\": 24, \"9\": 5, \"11\": 39, \"8\": 4, \"12\": 1}, \"5\": {\"6\": 169, \"5\": 394, \"1\": 143, \"14\": 67, \"15\": 254, \"11\": 89, \"10\": 56, \"0\": 23, \"2\": 4, \"9\": 1}, \"10\": {\"6\": 124, \"14\": 234, \"15\": 149, \"0\": 209, \"10\": 233, \"1\": 100, \"5\": 79, \"9\": 8, \"2\": 29, \"8\": 15, \"12\": 3, \"11\": 14, \"7\": 3}, \"4\": {\"4\": 845, \"13\": 149, \"9\": 18, \"3\": 100, \"7\": 21, \"12\": 47, \"8\": 16, \"2\": 4}, \"11\": {\"11\": 596, \"1\": 131, \"5\": 151, \"15\": 85, \"10\": 35, \"6\": 159, \"14\": 39, \"0\": 4}, \"13\": {\"3\": 230, \"12\": 114, \"13\": 364, \"4\": 128, \"14\": 4, \"9\": 129, \"8\": 58, \"7\": 99, \"2\": 65, \"0\": 4, \"10\": 3, \"5\": 1, \"15\": 1}, \"2\": {\"2\": 269, \"3\": 88, \"7\": 195, \"14\": 28, \"9\": 155, \"10\": 48, \"4\": 2, \"8\": 155, \"0\": 114, \"15\": 23, \"12\": 40, \"13\": 55, \"6\": 12, \"5\": 12, \"1\": 4}, \"0\": {\"0\": 304, \"8\": 97, \"14\": 184, \"7\": 37, \"10\": 196, \"2\": 119, \"12\": 24, \"5\": 33, \"6\": 47, \"9\": 27, \"15\": 88, \"1\": 38, \"11\": 3, \"3\": 2, \"13\": 1}, \"12\": {\"12\": 541, \"14\": 5, \"2\": 54, \"7\": 87, \"9\": 128, \"8\": 137, \"13\": 115, \"0\": 34, \"4\": 26, \"3\": 70, \"10\": 3}, \"3\": {\"3\": 250, \"7\": 187, \"13\": 255, \"8\": 102, \"12\": 90, \"4\": 61, \"9\": 163, \"2\": 86, \"0\": 4, \"15\": 1, \"14\": 1}, \"9\": {\"2\": 169, \"0\": 46, \"13\": 177, \"8\": 150, \"7\": 161, \"12\": 121, \"3\": 157, \"9\": 166, \"4\": 17, \"10\": 12, \"5\": 3, \"15\": 11, \"14\": 10}, \"8\": {\"2\": 170, \"8\": 222, \"0\": 102, \"3\": 100, \"13\": 56, \"12\": 130, \"9\": 155, \"7\": 198, \"14\": 22, \"15\": 7, \"10\": 27, \"4\": 5, \"1\": 1, \"6\": 4, \"5\": 1}, \"1\": {\"11\": 113, \"14\": 132, \"1\": 334, \"10\": 110, \"5\": 175, \"6\": 169, \"15\": 127, \"0\": 33, \"8\": 3, \"2\": 3, \"7\": 1}}, \"ORACLE.run1_32\": {\"7\": {\"7\": 339, \"5\": 285, \"0\": 188, \"15\": 67, \"8\": 109, \"14\": 204, \"2\": 8}, \"2\": {\"4\": 349, \"2\": 488, \"13\": 60, \"3\": 79, \"0\": 35, \"14\": 80, \"8\": 90, \"9\": 4, \"7\": 4, \"15\": 5, \"1\": 3, \"5\": 3}, \"5\": {\"15\": 161, \"7\": 288, \"8\": 105, \"5\": 377, \"14\": 116, \"0\": 144, \"2\": 8, \"4\": 1}, \"6\": {\"6\": 1044, \"10\": 134, \"12\": 20, \"11\": 1, \"9\": 1}, \"13\": {\"13\": 415, \"3\": 334, \"4\": 164, \"11\": 121, \"2\": 83, \"9\": 66, \"8\": 8, \"14\": 7, \"0\": 1, \"12\": 1}, \"4\": {\"8\": 33, \"13\": 183, \"3\": 226, \"2\": 351, \"4\": 348, \"9\": 11, \"11\": 8, \"14\": 24, \"15\": 2, \"7\": 1, \"0\": 12, \"1\": 1}, \"3\": {\"4\": 243, \"13\": 343, \"2\": 101, \"3\": 443, \"11\": 38, \"9\": 15, \"8\": 10, \"14\": 6, \"0\": 1}, \"0\": {\"0\": 281, \"15\": 90, \"8\": 238, \"7\": 190, \"5\": 176, \"14\": 187, \"2\": 30, \"4\": 8}, \"9\": {\"9\": 624, \"12\": 192, \"13\": 125, \"11\": 71, \"4\": 57, \"1\": 40, \"3\": 43, \"2\": 40, \"10\": 7, \"8\": 1}, \"12\": {\"10\": 142, \"12\": 866, \"9\": 174, \"1\": 1, \"11\": 11, \"6\": 4, \"13\": 2}, \"8\": {\"15\": 136, \"0\": 238, \"2\": 85, \"8\": 323, \"4\": 33, \"14\": 170, \"7\": 119, \"5\": 87, \"3\": 6, \"13\": 3}, \"14\": {\"5\": 125, \"0\": 180, \"7\": 194, \"8\": 138, \"14\": 353, \"4\": 56, \"15\": 25, \"2\": 119, \"3\": 8, \"13\": 2}, \"15\": {\"15\": 875, \"8\": 99, \"5\": 105, \"0\": 68, \"7\": 41, \"14\": 11, \"2\": 1}, \"11\": {\"11\": 952, \"3\": 51, \"13\": 110, \"9\": 70, \"4\": 10, \"12\": 4, \"2\": 3}, \"10\": {\"12\": 170, \"6\": 93, \"10\": 936, \"9\": 1}, \"1\": {\"1\": 1153, \"4\": 4, \"2\": 15, \"9\": 15, \"12\": 2, \"8\": 5, \"13\": 2, \"0\": 4}}, \"ORACLE.run1_44\": {\"11\": {\"11\": 1182, \"13\": 18}, \"7\": {\"7\": 367, \"10\": 231, \"9\": 228, \"5\": 38, \"4\": 146, \"14\": 98, \"6\": 57, \"13\": 6, \"15\": 17, \"2\": 11, \"1\": 1}, \"6\": {\"9\": 178, \"6\": 596, \"13\": 337, \"7\": 50, \"4\": 30, \"10\": 9}, \"12\": {\"12\": 657, \"3\": 530, \"0\": 8, \"1\": 4, \"2\": 1}, \"4\": {\"14\": 160, \"9\": 197, \"8\": 39, \"4\": 217, \"6\": 79, \"5\": 139, \"15\": 95, \"7\": 123, \"0\": 11, \"2\": 51, \"10\": 49, \"13\": 26, \"1\": 14}, \"13\": {\"6\": 344, \"13\": 712, \"9\": 76, \"11\": 49, \"7\": 4, \"10\": 2, \"4\": 12, \"14\": 1}, \"8\": {\"8\": 403, \"0\": 331, \"14\": 61, \"15\": 200, \"1\": 51, \"9\": 3, \"5\": 95, \"4\": 20, \"2\": 30, \"3\": 5, \"7\": 1}, \"5\": {\"5\": 330, \"15\": 185, \"14\": 265, \"6\": 19, \"9\": 68, \"4\": 194, \"7\": 35, \"8\": 60, \"0\": 10, \"2\": 18, \"13\": 5, \"10\": 11}, \"14\": {\"10\": 49, \"15\": 159, \"5\": 247, \"7\": 103, \"4\": 176, \"8\": 40, \"14\": 331, \"9\": 63, \"2\": 19, \"1\": 7, \"6\": 5, \"13\": 1}, \"3\": {\"12\": 525, \"3\": 638, \"0\": 13, \"1\": 23, \"8\": 1}, \"10\": {\"7\": 302, \"9\": 120, \"5\": 14, \"10\": 461, \"6\": 24, \"4\": 67, \"15\": 27, \"14\": 50, \"2\": 95, \"1\": 40}, \"1\": {\"1\": 730, \"0\": 34, \"2\": 323, \"8\": 31, \"7\": 2, \"10\": 21, \"15\": 36, \"3\": 7, \"12\": 5, \"14\": 7, \"4\": 2, \"5\": 2}, \"2\": {\"2\": 574, \"10\": 93, \"15\": 41, \"8\": 31, \"1\": 318, \"4\": 26, \"14\": 47, \"9\": 17, \"7\": 23, \"5\": 20, \"0\": 10}, \"15\": {\"5\": 154, \"4\": 78, \"8\": 220, \"15\": 316, \"14\": 196, \"0\": 48, \"9\": 18, \"1\": 56, \"2\": 66, \"10\": 28, \"7\": 20}, \"9\": {\"9\": 223, \"4\": 120, \"14\": 73, \"10\": 111, \"6\": 222, \"7\": 193, \"5\": 36, \"13\": 150, \"2\": 29, \"1\": 8, \"15\": 28, \"8\": 5, \"11\": 2}, \"0\": {\"0\": 728, \"8\": 297, \"2\": 25, \"1\": 64, \"15\": 45, \"5\": 13, \"3\": 18, \"14\": 9, \"12\": 1}}, \"ORACLE.run1_8\": {\"10\": {\"6\": 126, \"10\": 203, \"11\": 72, \"8\": 26, \"5\": 164, \"13\": 203, \"1\": 132, \"7\": 217, \"4\": 44, \"14\": 7, \"12\": 5, \"15\": 1}, \"6\": {\"8\": 84, \"11\": 113, \"10\": 114, \"6\": 230, \"7\": 215, \"5\": 88, \"13\": 109, \"4\": 96, \"1\": 138, \"14\": 13}, \"13\": {\"13\": 316, \"1\": 94, \"6\": 115, \"10\": 199, \"5\": 196, \"7\": 228, \"11\": 23, \"4\": 6, \"8\": 9, \"12\": 11, \"15\": 3}, \"3\": {\"3\": 949, \"2\": 141, \"9\": 99, \"15\": 10, \"12\": 1}, \"9\": {\"9\": 1031, \"3\": 148, \"15\": 1, \"2\": 20}, \"1\": {\"4\": 83, \"1\": 240, \"8\": 92, \"13\": 89, \"11\": 177, \"5\": 144, \"7\": 106, \"10\": 124, \"6\": 126, \"14\": 19}, \"5\": {\"6\": 92, \"13\": 228, \"5\": 275, \"1\": 130, \"11\": 84, \"7\": 124, \"10\": 177, \"8\": 25, \"4\": 41, \"15\": 5, \"12\": 6, \"14\": 13}, \"11\": {\"1\": 196, \"8\": 150, \"13\": 30, \"14\": 97, \"11\": 221, \"10\": 84, \"5\": 80, \"6\": 120, \"4\": 149, \"7\": 73}, \"4\": {\"11\": 148, \"4\": 309, \"1\": 94, \"6\": 120, \"8\": 209, \"14\": 170, \"10\": 47, \"7\": 74, \"5\": 18, \"13\": 11}, \"14\": {\"8\": 192, \"4\": 253, \"11\": 115, \"14\": 537, \"6\": 32, \"1\": 22, \"10\": 9, \"7\": 17, \"0\": 11, \"5\": 11, \"13\": 1}, \"12\": {\"12\": 598, \"15\": 436, \"2\": 159, \"3\": 2, \"13\": 2, \"5\": 1, \"10\": 2}, \"7\": {\"13\": 202, \"11\": 63, \"7\": 286, \"10\": 172, \"4\": 41, \"6\": 185, \"5\": 102, \"1\": 115, \"8\": 28, \"14\": 5, \"15\": 1}, \"0\": {\"0\": 1164, \"14\": 34, \"8\": 1, \"4\": 1}, \"15\": {\"12\": 406, \"2\": 269, \"15\": 512, \"9\": 1, \"3\": 12}, \"2\": {\"12\": 171, \"2\": 535, \"15\": 237, \"3\": 240, \"9\": 15, \"13\": 2}, \"8\": {\"8\": 292, \"4\": 218, \"6\": 110, \"10\": 41, \"1\": 108, \"5\": 29, \"13\": 16, \"14\": 144, \"7\": 56, \"11\": 186}}, \"ORACLE.run1_38\": {\"4\": {\"2\": 5, \"4\": 877, \"13\": 67, \"10\": 121, \"0\": 74, \"14\": 44, \"7\": 12}, \"7\": {\"4\": 29, \"7\": 557, \"14\": 119, \"8\": 74, \"2\": 169, \"5\": 45, \"9\": 146, \"13\": 28, \"0\": 30, \"12\": 2, \"10\": 1}, \"12\": {\"12\": 899, \"2\": 11, \"5\": 87, \"8\": 121, \"15\": 62, \"9\": 2, \"7\": 5, \"14\": 13}, \"10\": {\"10\": 711, \"4\": 145, \"3\": 19, \"0\": 214, \"13\": 109, \"14\": 1, \"7\": 1}, \"0\": {\"10\": 262, \"13\": 318, \"14\": 20, \"0\": 351, \"2\": 23, \"7\": 83, \"4\": 69, \"9\": 16, \"5\": 2, \"3\": 51, \"8\": 5}, \"1\": {\"6\": 484, \"1\": 660, \"15\": 55, \"12\": 1}, \"5\": {\"7\": 85, \"9\": 195, \"8\": 283, \"12\": 73, \"15\": 136, \"13\": 4, \"5\": 347, \"2\": 53, \"14\": 19, \"0\": 1, \"1\": 1, \"6\": 3}, \"15\": {\"9\": 4, \"15\": 751, \"5\": 117, \"1\": 102, \"8\": 92, \"12\": 99, \"6\": 35}, \"9\": {\"7\": 120, \"8\": 100, \"9\": 799, \"5\": 144, \"0\": 3, \"13\": 3, \"2\": 26, \"14\": 2, \"15\": 1, \"12\": 2}, \"11\": {\"11\": 1188, \"3\": 12}, \"14\": {\"7\": 115, \"14\": 587, \"2\": 287, \"4\": 109, \"8\": 24, \"13\": 52, \"0\": 10, \"12\": 7, \"5\": 7, \"9\": 2}, \"6\": {\"6\": 720, \"1\": 461, \"15\": 19}, \"8\": {\"8\": 264, \"9\": 122, \"5\": 299, \"12\": 107, \"2\": 103, \"14\": 31, \"15\": 137, \"7\": 126, \"4\": 1, \"13\": 4, \"0\": 6}, \"3\": {\"3\": 1166, \"11\": 23, \"0\": 4, \"10\": 7}, \"2\": {\"8\": 62, \"2\": 481, \"7\": 199, \"10\": 1, \"14\": 296, \"9\": 64, \"13\": 46, \"5\": 25, \"0\": 12, \"4\": 14}, \"13\": {\"13\": 556, \"2\": 30, \"10\": 135, \"4\": 84, \"0\": 302, \"9\": 8, \"14\": 38, \"7\": 44, \"8\": 3}}}, \"per_domain_accuracy\": {\"CORES_4\": {\"accuracy\": 0.9977544910179641, \"source?\": true}, \"CORES_5\": {\"accuracy\": 0.9986033519553073, \"source?\": true}, \"CORES_2\": {\"accuracy\": 0.9983928571428572, \"source?\": true}, \"CORES_1\": {\"accuracy\": 0.9996603260869565, \"source?\": true}, \"CORES_3\": {\"accuracy\": 0.9979779411764705, \"source?\": true}, \"ORACLE.run1_14\": {\"accuracy\": 0.4582291666666667, \"source?\": false}, \"ORACLE.run1_20\": {\"accuracy\": 0.220625, \"source?\": false}, \"ORACLE.run1_50\": {\"accuracy\": 0.43625, \"source?\": false}, \"ORACLE.run1_26\": {\"accuracy\": 0.28578125, \"source?\": false}, \"ORACLE.run1_32\": {\"accuracy\": 0.5113020833333334, \"source?\": false}, \"ORACLE.run1_44\": {\"accuracy\": 0.44088541666666664, \"source?\": false}, \"ORACLE.run1_8\": {\"accuracy\": 0.4009375, \"source?\": false}, \"ORACLE.run1_38\": {\"accuracy\": 0.5684375, \"source?\": false}}}, \"history\": {\"epoch_indices\": [1, 2, 3, 4, 5], \"train_label_loss\": [0.026227179837662793, 0.008996746720106155, 0.007352438832925778, 0.004362049425715618, 0.004131929395335238], \"source_val_label_loss\": [0.013254583813250065, 0.015139312483370304, 0.013320554047822952, 0.01799309439957142, 0.017646033316850662], \"target_val_label_loss\": [2.0378007888793945, 1.9722747802734375, 2.1749494075775146, 1.7139203548431396, 1.726201057434082], \"source_val_acc_label\": [0.9985, 0.999, 0.9989285714285714, 0.9988214285714285, 0.9983214285714286], \"target_val_acc_label\": [0.4153059895833333, 0.40029296875, 0.30261067708333333, 0.39982421875, 0.37798828125]}, \"dataset_metrics\": {\"source\": {\"train\": {\"n_unique_x\": 175152, \"n_unique_y\": 58, \"n_batch/episode\": 6313}, \"val\": {\"n_unique_x\": 37216, \"n_unique_y\": 58, \"n_batch/episode\": 875}, \"test\": {\"n_unique_x\": 37596, \"n_unique_y\": 58, \"n_batch/episode\": 886}}, \"target\": {\"train\": {\"n_unique_x\": 896000, \"n_unique_y\": 16, \"n_batch/episode\": 33600}, \"val\": {\"n_unique_x\": 192000, \"n_unique_y\": 16, \"n_batch/episode\": 4800}, \"test\": {\"n_unique_x\": 192000, \"n_unique_y\": 16, \"n_batch/episode\": 4800}}}}'"
      ]
     },
     "execution_count": 29,
     "metadata": {},
     "output_type": "execute_result"
    }
   ],
   "source": [
    "json.dumps(experiment)"
   ]
  }
 ],
 "metadata": {
  "celltoolbar": "Tags",
  "kernelspec": {
   "display_name": "Python 3 (ipykernel)",
   "language": "python",
   "name": "python3"
  },
  "language_info": {
   "codemirror_mode": {
    "name": "ipython",
    "version": 3
   },
   "file_extension": ".py",
   "mimetype": "text/x-python",
   "name": "python",
   "nbconvert_exporter": "python",
   "pygments_lexer": "ipython3",
   "version": "3.8.12"
  },
  "papermill": {
   "default_parameters": {},
   "duration": 1939.44524,
   "end_time": "2022-03-22T00:40:02.921700",
   "environment_variables": {},
   "exception": null,
   "input_path": "/root/csc500-main/csc500-notebooks/templates/tl_ptn_template.ipynb",
   "output_path": "trial.ipynb",
   "parameters": {
    "parameters": {
     "BEST_MODEL_PATH": "./best_model.pth",
     "NUM_LOGS_PER_EPOCH": 10,
     "criteria_for_best": "target_accuracy",
     "dataset_seed": 420,
     "datasets": [
      {
       "domain_prefix": "CORES_",
       "domains": [
        1,
        2,
        3,
        4,
        5
       ],
       "episode_transforms": [],
       "labels": [
        "1-10.",
        "1-11.",
        "1-15.",
        "1-16.",
        "1-17.",
        "1-18.",
        "1-19.",
        "10-4.",
        "10-7.",
        "11-1.",
        "11-14.",
        "11-17.",
        "11-20.",
        "11-7.",
        "13-20.",
        "13-8.",
        "14-10.",
        "14-11.",
        "14-14.",
        "14-7.",
        "15-1.",
        "15-20.",
        "16-1.",
        "16-16.",
        "17-10.",
        "17-11.",
        "17-2.",
        "19-1.",
        "19-16.",
        "19-19.",
        "19-20.",
        "19-3.",
        "2-10.",
        "2-11.",
        "2-17.",
        "2-18.",
        "2-20.",
        "2-3.",
        "2-4.",
        "2-5.",
        "2-6.",
        "2-7.",
        "2-8.",
        "3-13.",
        "3-18.",
        "3-3.",
        "4-1.",
        "4-10.",
        "4-11.",
        "4-19.",
        "5-5.",
        "6-15.",
        "7-10.",
        "7-14.",
        "8-18.",
        "8-20.",
        "8-3.",
        "8-8."
       ],
       "num_examples_per_domain_per_label": -1,
       "pickle_path": "/root/csc500-main/datasets/cores.stratified_ds.2022A.pkl",
       "source_or_target_dataset": "source",
       "x_transforms": []
      },
      {
       "domain_prefix": "ORACLE.run1_",
       "domains": [
        32,
        38,
        8,
        44,
        14,
        50,
        20,
        26
       ],
       "episode_transforms": [],
       "labels": [
        "3123D52",
        "3123D65",
        "3123D79",
        "3123D80",
        "3123D54",
        "3123D70",
        "3123D7B",
        "3123D89",
        "3123D58",
        "3123D76",
        "3123D7D",
        "3123EFE",
        "3123D64",
        "3123D78",
        "3123D7E",
        "3124E4A"
       ],
       "num_examples_per_domain_per_label": 10000,
       "pickle_path": "/root/csc500-main/datasets/oracle.Run1_10kExamples_stratified_ds.2022A.pkl",
       "source_or_target_dataset": "target",
       "x_transforms": []
      }
     ],
     "device": "cuda",
     "experiment_name": "tl_1v2:cores-oracle.run1",
     "lr": 0.0001,
     "n_epoch": 50,
     "n_query": 2,
     "n_shot": 3,
     "n_way": 16,
     "patience": 3,
     "seed": 420,
     "test_k_factor": 2,
     "torch_default_dtype": "torch.float32",
     "train_k_factor": 3,
     "val_k_factor": 2,
     "x_net": [
      {
       "class": "nnReshape",
       "kargs": {
        "shape": [
         -1,
         1,
         2,
         256
        ]
       }
      },
      {
       "class": "Conv2d",
       "kargs": {
        "bias": false,
        "in_channels": 1,
        "kernel_size": [
         1,
         7
        ],
        "out_channels": 256,
        "padding": [
         0,
         3
        ]
       }
      },
      {
       "class": "ReLU",
       "kargs": {
        "inplace": true
       }
      },
      {
       "class": "BatchNorm2d",
       "kargs": {
        "num_features": 256
       }
      },
      {
       "class": "Conv2d",
       "kargs": {
        "bias": true,
        "in_channels": 256,
        "kernel_size": [
         2,
         7
        ],
        "out_channels": 80,
        "padding": [
         0,
         3
        ]
       }
      },
      {
       "class": "ReLU",
       "kargs": {
        "inplace": true
       }
      },
      {
       "class": "BatchNorm2d",
       "kargs": {
        "num_features": 80
       }
      },
      {
       "class": "Flatten",
       "kargs": {}
      },
      {
       "class": "Linear",
       "kargs": {
        "in_features": 20480,
        "out_features": 256
       }
      },
      {
       "class": "ReLU",
       "kargs": {
        "inplace": true
       }
      },
      {
       "class": "BatchNorm1d",
       "kargs": {
        "num_features": 256
       }
      },
      {
       "class": "Linear",
       "kargs": {
        "in_features": 256,
        "out_features": 256
       }
      }
     ]
    }
   },
   "start_time": "2022-03-22T00:07:43.476460",
   "version": "2.3.4"
  }
 },
 "nbformat": 4,
 "nbformat_minor": 5
}