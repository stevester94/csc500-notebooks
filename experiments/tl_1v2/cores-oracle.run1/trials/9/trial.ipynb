{
 "cells": [
  {
   "cell_type": "markdown",
   "id": "9fea5f46",
   "metadata": {
    "papermill": {
     "duration": 0.028577,
     "end_time": "2022-03-22T00:40:04.079655",
     "exception": false,
     "start_time": "2022-03-22T00:40:04.051078",
     "status": "completed"
    },
    "tags": []
   },
   "source": [
    "# Transfer Learning Template"
   ]
  },
  {
   "cell_type": "code",
   "execution_count": 1,
   "id": "0902182a",
   "metadata": {
    "execution": {
     "iopub.execute_input": "2022-03-22T00:40:04.143777Z",
     "iopub.status.busy": "2022-03-22T00:40:04.141744Z",
     "iopub.status.idle": "2022-03-22T00:40:06.022943Z",
     "shell.execute_reply": "2022-03-22T00:40:06.022059Z"
    },
    "papermill": {
     "duration": 1.919834,
     "end_time": "2022-03-22T00:40:06.023128",
     "exception": false,
     "start_time": "2022-03-22T00:40:04.103294",
     "status": "completed"
    },
    "tags": []
   },
   "outputs": [],
   "source": [
    "%load_ext autoreload\n",
    "%autoreload 2\n",
    "%matplotlib inline\n",
    "\n",
    "    \n",
    "import os, json, sys, time, random\n",
    "import numpy as np\n",
    "import torch\n",
    "from torch.optim import Adam\n",
    "from  easydict import EasyDict\n",
    "import matplotlib.pyplot as plt\n",
    "\n",
    "from steves_models.steves_ptn import Steves_Prototypical_Network\n",
    "\n",
    "from steves_utils.lazy_iterable_wrapper import Lazy_Iterable_Wrapper\n",
    "from steves_utils.iterable_aggregator import Iterable_Aggregator\n",
    "from steves_utils.ptn_train_eval_test_jig import  PTN_Train_Eval_Test_Jig\n",
    "from steves_utils.torch_sequential_builder import build_sequential\n",
    "from steves_utils.torch_utils import get_dataset_metrics, ptn_confusion_by_domain_over_dataloader\n",
    "from steves_utils.utils_v2 import (per_domain_accuracy_from_confusion, get_datasets_base_path)\n",
    "from steves_utils.PTN.utils import independent_accuracy_assesment\n",
    "\n",
    "from torch.utils.data import DataLoader\n",
    "\n",
    "from steves_utils.stratified_dataset.episodic_accessor import Episodic_Accessor_Factory\n",
    "\n",
    "from steves_utils.ptn_do_report import (\n",
    "    get_loss_curve,\n",
    "    get_results_table,\n",
    "    get_parameters_table,\n",
    "    get_domain_accuracies,\n",
    ")\n",
    "\n",
    "from steves_utils.transforms import get_chained_transform"
   ]
  },
  {
   "cell_type": "markdown",
   "id": "41c840b4",
   "metadata": {
    "papermill": {
     "duration": 0.01936,
     "end_time": "2022-03-22T00:40:06.067855",
     "exception": false,
     "start_time": "2022-03-22T00:40:06.048495",
     "status": "completed"
    },
    "tags": []
   },
   "source": [
    "# Allowed Parameters\n",
    "These are allowed parameters, not defaults\n",
    "Each of these values need to be present in the injected parameters (the notebook will raise an exception if they are not present)\n",
    "\n",
    "Papermill uses the cell tag \"parameters\" to inject the real parameters below this cell.\n",
    "Enable tags to see what I mean"
   ]
  },
  {
   "cell_type": "code",
   "execution_count": 2,
   "id": "fd44eb83",
   "metadata": {
    "execution": {
     "iopub.execute_input": "2022-03-22T00:40:06.112746Z",
     "iopub.status.busy": "2022-03-22T00:40:06.111641Z",
     "iopub.status.idle": "2022-03-22T00:40:06.136958Z",
     "shell.execute_reply": "2022-03-22T00:40:06.136097Z"
    },
    "papermill": {
     "duration": 0.049688,
     "end_time": "2022-03-22T00:40:06.137109",
     "exception": false,
     "start_time": "2022-03-22T00:40:06.087421",
     "status": "completed"
    },
    "tags": []
   },
   "outputs": [],
   "source": [
    "required_parameters = {\n",
    "    \"experiment_name\",\n",
    "    \"lr\",\n",
    "    \"device\",\n",
    "    \"seed\",\n",
    "    \"dataset_seed\",\n",
    "    \"n_shot\",\n",
    "    \"n_query\",\n",
    "    \"n_way\",\n",
    "    \"train_k_factor\",\n",
    "    \"val_k_factor\",\n",
    "    \"test_k_factor\",\n",
    "    \"n_epoch\",\n",
    "    \"patience\",\n",
    "    \"criteria_for_best\",\n",
    "    \"x_net\",\n",
    "    \"datasets\",\n",
    "    \"torch_default_dtype\",\n",
    "    \"NUM_LOGS_PER_EPOCH\",\n",
    "    \"BEST_MODEL_PATH\",\n",
    "    \"x_shape\",\n",
    "}"
   ]
  },
  {
   "cell_type": "code",
   "execution_count": 3,
   "id": "fa3f0049",
   "metadata": {
    "execution": {
     "iopub.execute_input": "2022-03-22T00:40:06.192715Z",
     "iopub.status.busy": "2022-03-22T00:40:06.192006Z",
     "iopub.status.idle": "2022-03-22T00:40:06.213982Z",
     "shell.execute_reply": "2022-03-22T00:40:06.213160Z"
    },
    "papermill": {
     "duration": 0.05174,
     "end_time": "2022-03-22T00:40:06.214135",
     "exception": false,
     "start_time": "2022-03-22T00:40:06.162395",
     "status": "completed"
    },
    "tags": [
     "parameters"
    ]
   },
   "outputs": [],
   "source": [
    "from steves_utils.CORES.utils import (\n",
    "    ALL_NODES,\n",
    "    ALL_NODES_MINIMUM_1000_EXAMPLES,\n",
    "    ALL_DAYS\n",
    ")\n",
    "\n",
    "from steves_utils.ORACLE.utils_v2 import (\n",
    "    ALL_DISTANCES_FEET_NARROWED,\n",
    "    ALL_RUNS,\n",
    "    ALL_SERIAL_NUMBERS,\n",
    ")\n",
    "\n",
    "standalone_parameters = {}\n",
    "standalone_parameters[\"experiment_name\"] = \"STANDALONE PTN\"\n",
    "standalone_parameters[\"lr\"] = 0.001\n",
    "standalone_parameters[\"device\"] = \"cuda\"\n",
    "\n",
    "standalone_parameters[\"seed\"] = 1337\n",
    "standalone_parameters[\"dataset_seed\"] = 1337\n",
    "\n",
    "standalone_parameters[\"n_way\"] = 8\n",
    "standalone_parameters[\"n_shot\"] = 3\n",
    "standalone_parameters[\"n_query\"]  = 2\n",
    "standalone_parameters[\"train_k_factor\"] = 1\n",
    "standalone_parameters[\"val_k_factor\"] = 2\n",
    "standalone_parameters[\"test_k_factor\"] = 2\n",
    "\n",
    "\n",
    "standalone_parameters[\"n_epoch\"] = 50\n",
    "\n",
    "standalone_parameters[\"patience\"] = 10\n",
    "standalone_parameters[\"criteria_for_best\"] = \"source_loss\"\n",
    "\n",
    "standalone_parameters[\"datasets\"] = [\n",
    "    {\n",
    "        \"labels\": ALL_SERIAL_NUMBERS,\n",
    "        \"domains\": ALL_DISTANCES_FEET_NARROWED,\n",
    "        \"num_examples_per_domain_per_label\": 100,\n",
    "        \"pickle_path\": os.path.join(get_datasets_base_path(), \"oracle.Run1_framed_2000Examples_stratified_ds.2022A.pkl\"),\n",
    "        \"source_or_target_dataset\": \"source\",\n",
    "        \"x_transforms\": [\"unit_mag\", \"minus_two\"],\n",
    "        \"episode_transforms\": [],\n",
    "        \"domain_prefix\": \"ORACLE_\"\n",
    "    },\n",
    "    {\n",
    "        \"labels\": ALL_NODES,\n",
    "        \"domains\": ALL_DAYS,\n",
    "        \"num_examples_per_domain_per_label\": 100,\n",
    "        \"pickle_path\": os.path.join(get_datasets_base_path(), \"cores.stratified_ds.2022A.pkl\"),\n",
    "        \"source_or_target_dataset\": \"target\",\n",
    "        \"x_transforms\": [\"unit_power\", \"times_zero\"],\n",
    "        \"episode_transforms\": [],\n",
    "        \"domain_prefix\": \"CORES_\"\n",
    "    }   \n",
    "]\n",
    "\n",
    "standalone_parameters[\"torch_default_dtype\"] = \"torch.float32\" \n",
    "\n",
    "\n",
    "\n",
    "standalone_parameters[\"x_net\"] =     [\n",
    "    {\"class\": \"nnReshape\", \"kargs\": {\"shape\":[-1, 1, 2, 256]}},\n",
    "    {\"class\": \"Conv2d\", \"kargs\": { \"in_channels\":1, \"out_channels\":256, \"kernel_size\":(1,7), \"bias\":False, \"padding\":(0,3), },},\n",
    "    {\"class\": \"ReLU\", \"kargs\": {\"inplace\": True}},\n",
    "    {\"class\": \"BatchNorm2d\", \"kargs\": {\"num_features\":256}},\n",
    "\n",
    "    {\"class\": \"Conv2d\", \"kargs\": { \"in_channels\":256, \"out_channels\":80, \"kernel_size\":(2,7), \"bias\":True, \"padding\":(0,3), },},\n",
    "    {\"class\": \"ReLU\", \"kargs\": {\"inplace\": True}},\n",
    "    {\"class\": \"BatchNorm2d\", \"kargs\": {\"num_features\":80}},\n",
    "    {\"class\": \"Flatten\", \"kargs\": {}},\n",
    "\n",
    "    {\"class\": \"Linear\", \"kargs\": {\"in_features\": 80*256, \"out_features\": 256}}, # 80 units per IQ pair\n",
    "    {\"class\": \"ReLU\", \"kargs\": {\"inplace\": True}},\n",
    "    {\"class\": \"BatchNorm1d\", \"kargs\": {\"num_features\":256}},\n",
    "\n",
    "    {\"class\": \"Linear\", \"kargs\": {\"in_features\": 256, \"out_features\": 256}},\n",
    "]\n",
    "\n",
    "# Parameters relevant to results\n",
    "# These parameters will basically never need to change\n",
    "standalone_parameters[\"NUM_LOGS_PER_EPOCH\"] = 10\n",
    "standalone_parameters[\"BEST_MODEL_PATH\"] = \"./best_model.pth\"\n",
    "\n",
    "\n",
    "\n",
    "\n"
   ]
  },
  {
   "cell_type": "code",
   "execution_count": 4,
   "id": "f1b64940",
   "metadata": {
    "execution": {
     "iopub.execute_input": "2022-03-22T00:40:06.275660Z",
     "iopub.status.busy": "2022-03-22T00:40:06.273537Z",
     "iopub.status.idle": "2022-03-22T00:40:06.303747Z",
     "shell.execute_reply": "2022-03-22T00:40:06.302910Z"
    },
    "papermill": {
     "duration": 0.064453,
     "end_time": "2022-03-22T00:40:06.303904",
     "exception": false,
     "start_time": "2022-03-22T00:40:06.239451",
     "status": "completed"
    },
    "tags": [
     "injected-parameters"
    ]
   },
   "outputs": [],
   "source": [
    "# Parameters\n",
    "parameters = {\n",
    "    \"experiment_name\": \"tl_1v2:cores-oracle.run1\",\n",
    "    \"device\": \"cuda\",\n",
    "    \"lr\": 0.0001,\n",
    "    \"n_shot\": 3,\n",
    "    \"n_query\": 2,\n",
    "    \"train_k_factor\": 3,\n",
    "    \"val_k_factor\": 2,\n",
    "    \"test_k_factor\": 2,\n",
    "    \"torch_default_dtype\": \"torch.float32\",\n",
    "    \"n_epoch\": 50,\n",
    "    \"patience\": 3,\n",
    "    \"criteria_for_best\": \"target_accuracy\",\n",
    "    \"x_net\": [\n",
    "        {\"class\": \"nnReshape\", \"kargs\": {\"shape\": [-1, 1, 2, 256]}},\n",
    "        {\n",
    "            \"class\": \"Conv2d\",\n",
    "            \"kargs\": {\n",
    "                \"in_channels\": 1,\n",
    "                \"out_channels\": 256,\n",
    "                \"kernel_size\": [1, 7],\n",
    "                \"bias\": False,\n",
    "                \"padding\": [0, 3],\n",
    "            },\n",
    "        },\n",
    "        {\"class\": \"ReLU\", \"kargs\": {\"inplace\": True}},\n",
    "        {\"class\": \"BatchNorm2d\", \"kargs\": {\"num_features\": 256}},\n",
    "        {\n",
    "            \"class\": \"Conv2d\",\n",
    "            \"kargs\": {\n",
    "                \"in_channels\": 256,\n",
    "                \"out_channels\": 80,\n",
    "                \"kernel_size\": [2, 7],\n",
    "                \"bias\": True,\n",
    "                \"padding\": [0, 3],\n",
    "            },\n",
    "        },\n",
    "        {\"class\": \"ReLU\", \"kargs\": {\"inplace\": True}},\n",
    "        {\"class\": \"BatchNorm2d\", \"kargs\": {\"num_features\": 80}},\n",
    "        {\"class\": \"Flatten\", \"kargs\": {}},\n",
    "        {\"class\": \"Linear\", \"kargs\": {\"in_features\": 20480, \"out_features\": 256}},\n",
    "        {\"class\": \"ReLU\", \"kargs\": {\"inplace\": True}},\n",
    "        {\"class\": \"BatchNorm1d\", \"kargs\": {\"num_features\": 256}},\n",
    "        {\"class\": \"Linear\", \"kargs\": {\"in_features\": 256, \"out_features\": 256}},\n",
    "    ],\n",
    "    \"NUM_LOGS_PER_EPOCH\": 10,\n",
    "    \"BEST_MODEL_PATH\": \"./best_model.pth\",\n",
    "    \"n_way\": 16,\n",
    "    \"datasets\": [\n",
    "        {\n",
    "            \"labels\": [\n",
    "                \"1-10.\",\n",
    "                \"1-11.\",\n",
    "                \"1-15.\",\n",
    "                \"1-16.\",\n",
    "                \"1-17.\",\n",
    "                \"1-18.\",\n",
    "                \"1-19.\",\n",
    "                \"10-4.\",\n",
    "                \"10-7.\",\n",
    "                \"11-1.\",\n",
    "                \"11-14.\",\n",
    "                \"11-17.\",\n",
    "                \"11-20.\",\n",
    "                \"11-7.\",\n",
    "                \"13-20.\",\n",
    "                \"13-8.\",\n",
    "                \"14-10.\",\n",
    "                \"14-11.\",\n",
    "                \"14-14.\",\n",
    "                \"14-7.\",\n",
    "                \"15-1.\",\n",
    "                \"15-20.\",\n",
    "                \"16-1.\",\n",
    "                \"16-16.\",\n",
    "                \"17-10.\",\n",
    "                \"17-11.\",\n",
    "                \"17-2.\",\n",
    "                \"19-1.\",\n",
    "                \"19-16.\",\n",
    "                \"19-19.\",\n",
    "                \"19-20.\",\n",
    "                \"19-3.\",\n",
    "                \"2-10.\",\n",
    "                \"2-11.\",\n",
    "                \"2-17.\",\n",
    "                \"2-18.\",\n",
    "                \"2-20.\",\n",
    "                \"2-3.\",\n",
    "                \"2-4.\",\n",
    "                \"2-5.\",\n",
    "                \"2-6.\",\n",
    "                \"2-7.\",\n",
    "                \"2-8.\",\n",
    "                \"3-13.\",\n",
    "                \"3-18.\",\n",
    "                \"3-3.\",\n",
    "                \"4-1.\",\n",
    "                \"4-10.\",\n",
    "                \"4-11.\",\n",
    "                \"4-19.\",\n",
    "                \"5-5.\",\n",
    "                \"6-15.\",\n",
    "                \"7-10.\",\n",
    "                \"7-14.\",\n",
    "                \"8-18.\",\n",
    "                \"8-20.\",\n",
    "                \"8-3.\",\n",
    "                \"8-8.\",\n",
    "            ],\n",
    "            \"domains\": [1, 2, 3, 4, 5],\n",
    "            \"num_examples_per_domain_per_label\": -1,\n",
    "            \"pickle_path\": \"/root/csc500-main/datasets/cores.stratified_ds.2022A.pkl\",\n",
    "            \"source_or_target_dataset\": \"target\",\n",
    "            \"x_transforms\": [\"unit_power\"],\n",
    "            \"episode_transforms\": [],\n",
    "            \"domain_prefix\": \"CORES_\",\n",
    "        },\n",
    "        {\n",
    "            \"labels\": [\n",
    "                \"3123D52\",\n",
    "                \"3123D65\",\n",
    "                \"3123D79\",\n",
    "                \"3123D80\",\n",
    "                \"3123D54\",\n",
    "                \"3123D70\",\n",
    "                \"3123D7B\",\n",
    "                \"3123D89\",\n",
    "                \"3123D58\",\n",
    "                \"3123D76\",\n",
    "                \"3123D7D\",\n",
    "                \"3123EFE\",\n",
    "                \"3123D64\",\n",
    "                \"3123D78\",\n",
    "                \"3123D7E\",\n",
    "                \"3124E4A\",\n",
    "            ],\n",
    "            \"domains\": [32, 38, 8, 44, 14, 50, 20, 26],\n",
    "            \"num_examples_per_domain_per_label\": 10000,\n",
    "            \"pickle_path\": \"/root/csc500-main/datasets/oracle.Run1_10kExamples_stratified_ds.2022A.pkl\",\n",
    "            \"source_or_target_dataset\": \"source\",\n",
    "            \"x_transforms\": [\"unit_power\"],\n",
    "            \"episode_transforms\": [],\n",
    "            \"domain_prefix\": \"ORACLE.run1_\",\n",
    "        },\n",
    "    ],\n",
    "    \"dataset_seed\": 420,\n",
    "    \"seed\": 420,\n",
    "}\n"
   ]
  },
  {
   "cell_type": "code",
   "execution_count": 5,
   "id": "8fa1cc33",
   "metadata": {
    "execution": {
     "iopub.execute_input": "2022-03-22T00:40:06.354737Z",
     "iopub.status.busy": "2022-03-22T00:40:06.354363Z",
     "iopub.status.idle": "2022-03-22T00:40:06.374816Z",
     "shell.execute_reply": "2022-03-22T00:40:06.374004Z"
    },
    "papermill": {
     "duration": 0.046419,
     "end_time": "2022-03-22T00:40:06.374969",
     "exception": false,
     "start_time": "2022-03-22T00:40:06.328550",
     "status": "completed"
    },
    "tags": []
   },
   "outputs": [],
   "source": [
    "# Set this to True if you want to run this template directly\n",
    "STANDALONE = False\n",
    "if STANDALONE:\n",
    "    print(\"parameters not injected, running with standalone_parameters\")\n",
    "    parameters = standalone_parameters\n",
    "\n",
    "if not 'parameters' in locals() and not 'parameters' in globals():\n",
    "    raise Exception(\"Parameter injection failed\")\n",
    "\n",
    "#Use an easy dict for all the parameters\n",
    "p = EasyDict(parameters)\n",
    "\n",
    "if \"x_shape\" not in p:\n",
    "    p.x_shape = [2,256] # Default to this if we dont supply x_shape\n",
    "\n",
    "\n",
    "supplied_keys = set(p.keys())\n",
    "\n",
    "if  supplied_keys != required_parameters:\n",
    "    print(\"Parameters are incorrect\")\n",
    "    if len(supplied_keys - required_parameters)>0: print(\"Shouldn't have:\", str(supplied_keys - required_parameters))\n",
    "    if len(required_parameters - supplied_keys)>0: print(\"Need to have:\", str(required_parameters - supplied_keys))\n",
    "    raise RuntimeError(\"Parameters are incorrect\")"
   ]
  },
  {
   "cell_type": "code",
   "execution_count": 6,
   "id": "3a028d58",
   "metadata": {
    "execution": {
     "iopub.execute_input": "2022-03-22T00:40:06.426468Z",
     "iopub.status.busy": "2022-03-22T00:40:06.424874Z",
     "iopub.status.idle": "2022-03-22T00:40:06.446673Z",
     "shell.execute_reply": "2022-03-22T00:40:06.445862Z"
    },
    "papermill": {
     "duration": 0.047226,
     "end_time": "2022-03-22T00:40:06.446825",
     "exception": false,
     "start_time": "2022-03-22T00:40:06.399599",
     "status": "completed"
    },
    "tags": []
   },
   "outputs": [],
   "source": [
    "###################################\n",
    "# Set the RNGs and make it all deterministic\n",
    "###################################\n",
    "np.random.seed(p.seed)\n",
    "random.seed(p.seed)\n",
    "torch.manual_seed(p.seed)\n",
    "\n",
    "torch.use_deterministic_algorithms(True) "
   ]
  },
  {
   "cell_type": "code",
   "execution_count": 7,
   "id": "b691acf6",
   "metadata": {
    "execution": {
     "iopub.execute_input": "2022-03-22T00:40:06.496894Z",
     "iopub.status.busy": "2022-03-22T00:40:06.495623Z",
     "iopub.status.idle": "2022-03-22T00:40:06.519810Z",
     "shell.execute_reply": "2022-03-22T00:40:06.518964Z"
    },
    "papermill": {
     "duration": 0.047822,
     "end_time": "2022-03-22T00:40:06.519967",
     "exception": false,
     "start_time": "2022-03-22T00:40:06.472145",
     "status": "completed"
    },
    "tags": []
   },
   "outputs": [],
   "source": [
    "###########################################\n",
    "# The stratified datasets honor this\n",
    "###########################################\n",
    "torch.set_default_dtype(eval(p.torch_default_dtype))"
   ]
  },
  {
   "cell_type": "code",
   "execution_count": 8,
   "id": "b5fba671",
   "metadata": {
    "execution": {
     "iopub.execute_input": "2022-03-22T00:40:06.570971Z",
     "iopub.status.busy": "2022-03-22T00:40:06.569694Z",
     "iopub.status.idle": "2022-03-22T00:40:06.623805Z",
     "shell.execute_reply": "2022-03-22T00:40:06.623070Z"
    },
    "papermill": {
     "duration": 0.077306,
     "end_time": "2022-03-22T00:40:06.623961",
     "exception": false,
     "start_time": "2022-03-22T00:40:06.546655",
     "status": "completed"
    },
    "tags": []
   },
   "outputs": [],
   "source": [
    "###################################\n",
    "# Build the network(s)\n",
    "# Note: It's critical to do this AFTER setting the RNG\n",
    "###################################\n",
    "x_net = build_sequential(p.x_net)"
   ]
  },
  {
   "cell_type": "code",
   "execution_count": 9,
   "id": "5d7e61cc",
   "metadata": {
    "execution": {
     "iopub.execute_input": "2022-03-22T00:40:06.672525Z",
     "iopub.status.busy": "2022-03-22T00:40:06.672161Z",
     "iopub.status.idle": "2022-03-22T00:40:06.693851Z",
     "shell.execute_reply": "2022-03-22T00:40:06.693142Z"
    },
    "papermill": {
     "duration": 0.045283,
     "end_time": "2022-03-22T00:40:06.694004",
     "exception": false,
     "start_time": "2022-03-22T00:40:06.648721",
     "status": "completed"
    },
    "tags": []
   },
   "outputs": [],
   "source": [
    "start_time_secs = time.time()"
   ]
  },
  {
   "cell_type": "code",
   "execution_count": 10,
   "id": "c6b67dfd",
   "metadata": {
    "execution": {
     "iopub.execute_input": "2022-03-22T00:40:06.747284Z",
     "iopub.status.busy": "2022-03-22T00:40:06.746378Z",
     "iopub.status.idle": "2022-03-22T00:40:06.767145Z",
     "shell.execute_reply": "2022-03-22T00:40:06.766331Z"
    },
    "papermill": {
     "duration": 0.045333,
     "end_time": "2022-03-22T00:40:06.767298",
     "exception": false,
     "start_time": "2022-03-22T00:40:06.721965",
     "status": "completed"
    },
    "tags": []
   },
   "outputs": [],
   "source": [
    "p.domains_source = []\n",
    "p.domains_target = []\n",
    "\n",
    "\n",
    "train_original_source = []\n",
    "val_original_source   = []\n",
    "test_original_source  = []\n",
    "\n",
    "train_original_target = []\n",
    "val_original_target   = []\n",
    "test_original_target  = []"
   ]
  },
  {
   "cell_type": "code",
   "execution_count": 11,
   "id": "e3d9c3d3",
   "metadata": {
    "execution": {
     "iopub.execute_input": "2022-03-22T00:40:06.821842Z",
     "iopub.status.busy": "2022-03-22T00:40:06.821474Z",
     "iopub.status.idle": "2022-03-22T00:40:06.841630Z",
     "shell.execute_reply": "2022-03-22T00:40:06.840815Z"
    },
    "papermill": {
     "duration": 0.045446,
     "end_time": "2022-03-22T00:40:06.841783",
     "exception": false,
     "start_time": "2022-03-22T00:40:06.796337",
     "status": "completed"
    },
    "tags": []
   },
   "outputs": [],
   "source": [
    "# global_x_transform_func = lambda x: normalize(x.to(torch.get_default_dtype()), \"unit_power\") # unit_power, unit_mag\n",
    "# global_x_transform_func = lambda x: normalize(x, \"unit_power\") # unit_power, unit_mag"
   ]
  },
  {
   "cell_type": "code",
   "execution_count": 12,
   "id": "acb78fd2",
   "metadata": {
    "execution": {
     "iopub.execute_input": "2022-03-22T00:40:06.901922Z",
     "iopub.status.busy": "2022-03-22T00:40:06.901068Z",
     "iopub.status.idle": "2022-03-22T00:40:06.919040Z",
     "shell.execute_reply": "2022-03-22T00:40:06.918229Z"
    },
    "papermill": {
     "duration": 0.051321,
     "end_time": "2022-03-22T00:40:06.919192",
     "exception": false,
     "start_time": "2022-03-22T00:40:06.867871",
     "status": "completed"
    },
    "tags": []
   },
   "outputs": [],
   "source": [
    "def add_dataset(\n",
    "    labels,\n",
    "    domains,\n",
    "    pickle_path,\n",
    "    x_transforms,\n",
    "    episode_transforms,\n",
    "    domain_prefix,\n",
    "    num_examples_per_domain_per_label,\n",
    "    source_or_target_dataset:str,\n",
    "    iterator_seed=p.seed,\n",
    "    dataset_seed=p.dataset_seed,\n",
    "    n_shot=p.n_shot,\n",
    "    n_way=p.n_way,\n",
    "    n_query=p.n_query,\n",
    "    train_val_test_k_factors=(p.train_k_factor,p.val_k_factor,p.test_k_factor),\n",
    "):\n",
    "   \n",
    "    if x_transforms == []: x_transform = None\n",
    "    else: x_transform = get_chained_transform(x_transforms)\n",
    "    \n",
    "    if episode_transforms == []: episode_transform = None\n",
    "    else: raise Exception(\"episode_transforms not implemented\")\n",
    "    \n",
    "    episode_transform = lambda tup, _prefix=domain_prefix: (_prefix + str(tup[0]), tup[1])\n",
    "\n",
    "\n",
    "    eaf = Episodic_Accessor_Factory(\n",
    "        labels=labels,\n",
    "        domains=domains,\n",
    "        num_examples_per_domain_per_label=num_examples_per_domain_per_label,\n",
    "        iterator_seed=iterator_seed,\n",
    "        dataset_seed=dataset_seed,\n",
    "        n_shot=n_shot,\n",
    "        n_way=n_way,\n",
    "        n_query=n_query,\n",
    "        train_val_test_k_factors=train_val_test_k_factors,\n",
    "        pickle_path=pickle_path,\n",
    "        x_transform_func=x_transform,\n",
    "    )\n",
    "\n",
    "    train, val, test = eaf.get_train(), eaf.get_val(), eaf.get_test()\n",
    "    train = Lazy_Iterable_Wrapper(train, episode_transform)\n",
    "    val = Lazy_Iterable_Wrapper(val, episode_transform)\n",
    "    test = Lazy_Iterable_Wrapper(test, episode_transform)\n",
    "\n",
    "    if source_or_target_dataset==\"source\":\n",
    "        train_original_source.append(train)\n",
    "        val_original_source.append(val)\n",
    "        test_original_source.append(test)\n",
    "\n",
    "        p.domains_source.extend(\n",
    "            [domain_prefix + str(u) for u in domains]\n",
    "        )\n",
    "    elif source_or_target_dataset==\"target\":\n",
    "        train_original_target.append(train)\n",
    "        val_original_target.append(val)\n",
    "        test_original_target.append(test)\n",
    "        p.domains_target.extend(\n",
    "            [domain_prefix + str(u) for u in domains]\n",
    "        )\n",
    "    else:\n",
    "        raise Exception(f\"invalid source_or_target_dataset: {source_or_target_dataset}\")\n",
    "    "
   ]
  },
  {
   "cell_type": "code",
   "execution_count": 13,
   "id": "fe266617",
   "metadata": {
    "execution": {
     "iopub.execute_input": "2022-03-22T00:40:06.973239Z",
     "iopub.status.busy": "2022-03-22T00:40:06.972685Z",
     "iopub.status.idle": "2022-03-22T00:42:15.482910Z",
     "shell.execute_reply": "2022-03-22T00:42:15.482161Z"
    },
    "papermill": {
     "duration": 128.534148,
     "end_time": "2022-03-22T00:42:15.483098",
     "exception": false,
     "start_time": "2022-03-22T00:40:06.948950",
     "status": "completed"
    },
    "tags": []
   },
   "outputs": [],
   "source": [
    "for ds in p.datasets:\n",
    "    add_dataset(**ds)"
   ]
  },
  {
   "cell_type": "code",
   "execution_count": 14,
   "id": "b90d65ac",
   "metadata": {
    "execution": {
     "iopub.execute_input": "2022-03-22T00:42:15.534917Z",
     "iopub.status.busy": "2022-03-22T00:42:15.534257Z",
     "iopub.status.idle": "2022-03-22T00:42:15.558558Z",
     "shell.execute_reply": "2022-03-22T00:42:15.557820Z"
    },
    "papermill": {
     "duration": 0.048829,
     "end_time": "2022-03-22T00:42:15.558751",
     "exception": false,
     "start_time": "2022-03-22T00:42:15.509922",
     "status": "completed"
    },
    "tags": []
   },
   "outputs": [],
   "source": [
    "# from steves_utils.CORES.utils import (\n",
    "#     ALL_NODES,\n",
    "#     ALL_NODES_MINIMUM_1000_EXAMPLES,\n",
    "#     ALL_DAYS\n",
    "# )\n",
    "\n",
    "# add_dataset(\n",
    "#     labels=ALL_NODES,\n",
    "#     domains = ALL_DAYS,\n",
    "#     num_examples_per_domain_per_label=100,\n",
    "#     pickle_path=os.path.join(get_datasets_base_path(), \"cores.stratified_ds.2022A.pkl\"),\n",
    "#     source_or_target_dataset=\"target\",\n",
    "#     x_transform_func=global_x_transform_func,\n",
    "#     domain_modifier=lambda u: f\"cores_{u}\"\n",
    "# )"
   ]
  },
  {
   "cell_type": "code",
   "execution_count": 15,
   "id": "76db484d",
   "metadata": {
    "execution": {
     "iopub.execute_input": "2022-03-22T00:42:15.610642Z",
     "iopub.status.busy": "2022-03-22T00:42:15.610263Z",
     "iopub.status.idle": "2022-03-22T00:42:15.626808Z",
     "shell.execute_reply": "2022-03-22T00:42:15.626113Z"
    },
    "papermill": {
     "duration": 0.040917,
     "end_time": "2022-03-22T00:42:15.626984",
     "exception": false,
     "start_time": "2022-03-22T00:42:15.586067",
     "status": "completed"
    },
    "tags": []
   },
   "outputs": [],
   "source": [
    "# from steves_utils.ORACLE.utils_v2 import (\n",
    "#     ALL_DISTANCES_FEET,\n",
    "#     ALL_RUNS,\n",
    "#     ALL_SERIAL_NUMBERS,\n",
    "# )\n",
    "\n",
    "\n",
    "# add_dataset(\n",
    "#     labels=ALL_SERIAL_NUMBERS,\n",
    "#     domains = list(set(ALL_DISTANCES_FEET) - {2,62}),\n",
    "#     num_examples_per_domain_per_label=100,\n",
    "#     pickle_path=os.path.join(get_datasets_base_path(), \"oracle.Run2_framed_2000Examples_stratified_ds.2022A.pkl\"),\n",
    "#     source_or_target_dataset=\"source\",\n",
    "#     x_transform_func=global_x_transform_func,\n",
    "#     domain_modifier=lambda u: f\"oracle1_{u}\"\n",
    "# )\n"
   ]
  },
  {
   "cell_type": "code",
   "execution_count": 16,
   "id": "97dea9d2",
   "metadata": {
    "execution": {
     "iopub.execute_input": "2022-03-22T00:42:15.679122Z",
     "iopub.status.busy": "2022-03-22T00:42:15.678742Z",
     "iopub.status.idle": "2022-03-22T00:42:15.698987Z",
     "shell.execute_reply": "2022-03-22T00:42:15.698255Z"
    },
    "papermill": {
     "duration": 0.045086,
     "end_time": "2022-03-22T00:42:15.699159",
     "exception": false,
     "start_time": "2022-03-22T00:42:15.654073",
     "status": "completed"
    },
    "tags": []
   },
   "outputs": [],
   "source": [
    "# from steves_utils.ORACLE.utils_v2 import (\n",
    "#     ALL_DISTANCES_FEET,\n",
    "#     ALL_RUNS,\n",
    "#     ALL_SERIAL_NUMBERS,\n",
    "# )\n",
    "\n",
    "\n",
    "# add_dataset(\n",
    "#     labels=ALL_SERIAL_NUMBERS,\n",
    "#     domains = list(set(ALL_DISTANCES_FEET) - {2,62,56}),\n",
    "#     num_examples_per_domain_per_label=100,\n",
    "#     pickle_path=os.path.join(get_datasets_base_path(), \"oracle.Run2_framed_2000Examples_stratified_ds.2022A.pkl\"),\n",
    "#     source_or_target_dataset=\"source\",\n",
    "#     x_transform_func=global_x_transform_func,\n",
    "#     domain_modifier=lambda u: f\"oracle2_{u}\"\n",
    "# )"
   ]
  },
  {
   "cell_type": "code",
   "execution_count": 17,
   "id": "6f289866",
   "metadata": {
    "execution": {
     "iopub.execute_input": "2022-03-22T00:42:15.758355Z",
     "iopub.status.busy": "2022-03-22T00:42:15.757975Z",
     "iopub.status.idle": "2022-03-22T00:42:15.773714Z",
     "shell.execute_reply": "2022-03-22T00:42:15.772891Z"
    },
    "papermill": {
     "duration": 0.043622,
     "end_time": "2022-03-22T00:42:15.773875",
     "exception": false,
     "start_time": "2022-03-22T00:42:15.730253",
     "status": "completed"
    },
    "tags": []
   },
   "outputs": [],
   "source": [
    "# add_dataset(\n",
    "#     labels=list(range(19)),\n",
    "#     domains = [0,1,2],\n",
    "#     num_examples_per_domain_per_label=100,\n",
    "#     pickle_path=os.path.join(get_datasets_base_path(), \"metehan.stratified_ds.2022A.pkl\"),\n",
    "#     source_or_target_dataset=\"target\",\n",
    "#     x_transform_func=global_x_transform_func,\n",
    "#     domain_modifier=lambda u: f\"met_{u}\"\n",
    "# )"
   ]
  },
  {
   "cell_type": "code",
   "execution_count": 18,
   "id": "86a863c3",
   "metadata": {
    "execution": {
     "iopub.execute_input": "2022-03-22T00:42:15.823372Z",
     "iopub.status.busy": "2022-03-22T00:42:15.822995Z",
     "iopub.status.idle": "2022-03-22T00:42:15.839525Z",
     "shell.execute_reply": "2022-03-22T00:42:15.838808Z"
    },
    "papermill": {
     "duration": 0.040434,
     "end_time": "2022-03-22T00:42:15.839710",
     "exception": false,
     "start_time": "2022-03-22T00:42:15.799276",
     "status": "completed"
    },
    "tags": []
   },
   "outputs": [],
   "source": [
    "# # from steves_utils.wisig.utils import (\n",
    "# #     ALL_NODES_MINIMUM_100_EXAMPLES,\n",
    "# #     ALL_NODES_MINIMUM_500_EXAMPLES,\n",
    "# #     ALL_NODES_MINIMUM_1000_EXAMPLES,\n",
    "# #     ALL_DAYS\n",
    "# # )\n",
    "\n",
    "# import steves_utils.wisig.utils as wisig\n",
    "\n",
    "\n",
    "# add_dataset(\n",
    "#     labels=wisig.ALL_NODES_MINIMUM_100_EXAMPLES,\n",
    "#     domains = wisig.ALL_DAYS,\n",
    "#     num_examples_per_domain_per_label=100,\n",
    "#     pickle_path=os.path.join(get_datasets_base_path(), \"wisig.node3-19.stratified_ds.2022A.pkl\"),\n",
    "#     source_or_target_dataset=\"target\",\n",
    "#     x_transform_func=global_x_transform_func,\n",
    "#     domain_modifier=lambda u: f\"wisig_{u}\"\n",
    "# )"
   ]
  },
  {
   "cell_type": "code",
   "execution_count": 19,
   "id": "fd5442bc",
   "metadata": {
    "execution": {
     "iopub.execute_input": "2022-03-22T00:42:15.895882Z",
     "iopub.status.busy": "2022-03-22T00:42:15.895475Z",
     "iopub.status.idle": "2022-03-22T00:42:15.915186Z",
     "shell.execute_reply": "2022-03-22T00:42:15.914474Z"
    },
    "papermill": {
     "duration": 0.047427,
     "end_time": "2022-03-22T00:42:15.915339",
     "exception": false,
     "start_time": "2022-03-22T00:42:15.867912",
     "status": "completed"
    },
    "tags": []
   },
   "outputs": [],
   "source": [
    "###################################\n",
    "# Build the dataset\n",
    "###################################\n",
    "train_original_source = Iterable_Aggregator(train_original_source, p.seed)\n",
    "val_original_source = Iterable_Aggregator(val_original_source, p.seed)\n",
    "test_original_source = Iterable_Aggregator(test_original_source, p.seed)\n",
    "\n",
    "\n",
    "train_original_target = Iterable_Aggregator(train_original_target, p.seed)\n",
    "val_original_target = Iterable_Aggregator(val_original_target, p.seed)\n",
    "test_original_target = Iterable_Aggregator(test_original_target, p.seed)\n",
    "\n",
    "# For CNN We only use X and Y. And we only train on the source.\n",
    "# Properly form the data using a transform lambda and Lazy_Iterable_Wrapper. Finally wrap them in a dataloader\n",
    "\n",
    "transform_lambda = lambda ex: ex[1] # Original is (<domain>, <episode>) so we strip down to episode only\n",
    "\n",
    "train_processed_source = Lazy_Iterable_Wrapper(train_original_source, transform_lambda)\n",
    "val_processed_source   = Lazy_Iterable_Wrapper(val_original_source, transform_lambda)\n",
    "test_processed_source  = Lazy_Iterable_Wrapper(test_original_source, transform_lambda)\n",
    "\n",
    "train_processed_target = Lazy_Iterable_Wrapper(train_original_target, transform_lambda)\n",
    "val_processed_target   = Lazy_Iterable_Wrapper(val_original_target, transform_lambda)\n",
    "test_processed_target  = Lazy_Iterable_Wrapper(test_original_target, transform_lambda)\n",
    "\n",
    "datasets = EasyDict({\n",
    "    \"source\": {\n",
    "        \"original\": {\"train\":train_original_source, \"val\":val_original_source, \"test\":test_original_source},\n",
    "        \"processed\": {\"train\":train_processed_source, \"val\":val_processed_source, \"test\":test_processed_source}\n",
    "    },\n",
    "    \"target\": {\n",
    "        \"original\": {\"train\":train_original_target, \"val\":val_original_target, \"test\":test_original_target},\n",
    "        \"processed\": {\"train\":train_processed_target, \"val\":val_processed_target, \"test\":test_processed_target}\n",
    "    },\n",
    "})"
   ]
  },
  {
   "cell_type": "code",
   "execution_count": 20,
   "id": "5b3c01fc",
   "metadata": {
    "execution": {
     "iopub.execute_input": "2022-03-22T00:42:15.969107Z",
     "iopub.status.busy": "2022-03-22T00:42:15.968556Z",
     "iopub.status.idle": "2022-03-22T00:42:49.253399Z",
     "shell.execute_reply": "2022-03-22T00:42:49.252749Z"
    },
    "papermill": {
     "duration": 33.311528,
     "end_time": "2022-03-22T00:42:49.253548",
     "exception": false,
     "start_time": "2022-03-22T00:42:15.942020",
     "status": "completed"
    },
    "tags": []
   },
   "outputs": [
    {
     "name": "stdout",
     "output_type": "stream",
     "text": [
      "{'ORACLE.run1_26', 'ORACLE.run1_20', 'ORACLE.run1_38', 'ORACLE.run1_32', 'ORACLE.run1_8', 'ORACLE.run1_50', 'ORACLE.run1_14', 'ORACLE.run1_44'}\n"
     ]
    },
    {
     "name": "stdout",
     "output_type": "stream",
     "text": [
      "{'CORES_3', 'CORES_2', 'CORES_4', 'CORES_5', 'CORES_1'}\n"
     ]
    },
    {
     "name": "stdout",
     "output_type": "stream",
     "text": [
      "tensor([[[ 0.2037,  0.1759, -1.2224,  ..., -0.0556,  0.9168, -0.1111],\n",
      "         [ 0.2500,  0.3612, -0.4075,  ..., -1.0464, -0.5556,  0.1852]],\n",
      "\n",
      "        [[-0.9323, -1.0511,  0.4022,  ..., -0.9688,  0.1554,  1.1151],\n",
      "         [-1.0145,  0.4022, -0.7312,  ..., -1.1242, -0.7769, -0.5667]],\n",
      "\n",
      "        [[ 0.0381, -0.8183,  0.4282,  ...,  0.1808,  0.3901,  0.1522],\n",
      "         [ 1.3702, -0.5994, -0.0666,  ..., -0.0476, -0.2284, -0.8373]],\n",
      "\n",
      "        ...,\n",
      "\n",
      "        [[ 1.1086, -0.6166, -1.0890,  ...,  0.0787, -1.0299, -0.2755],\n",
      "         [ 0.9774, -0.3477, -0.6101,  ...,  0.9906,  0.6494,  0.2230]],\n",
      "\n",
      "        [[ 0.7334,  0.0498, -0.1638,  ..., -1.4384, -0.8972, -0.5127],\n",
      "         [-0.7121,  0.3418, -0.2635,  ...,  0.3133,  0.1638,  0.5839]],\n",
      "\n",
      "        [[ 0.1154,  1.1802,  0.5195,  ..., -0.4169, -1.6355, -0.6670],\n",
      "         [ 0.3463, -0.6927, -0.6414,  ..., -0.4554,  0.0192, -0.6927]]])\n"
     ]
    }
   ],
   "source": [
    "from steves_utils.transforms import get_average_magnitude, get_average_power\n",
    "\n",
    "print(set([u for u,_ in val_original_source]))\n",
    "print(set([u for u,_ in val_original_target]))\n",
    "\n",
    "s_x, s_y, q_x, q_y, _ = next(iter(train_processed_source))\n",
    "print(s_x)\n",
    "\n",
    "# for ds in [\n",
    "#     train_processed_source,\n",
    "#     val_processed_source,\n",
    "#     test_processed_source,\n",
    "#     train_processed_target,\n",
    "#     val_processed_target,\n",
    "#     test_processed_target\n",
    "# ]:\n",
    "#     for s_x, s_y, q_x, q_y, _ in ds:\n",
    "#         for X in (s_x, q_x):\n",
    "#             for x in X:\n",
    "#                 assert np.isclose(get_average_magnitude(x.numpy()), 1.0)\n",
    "#                 assert np.isclose(get_average_power(x.numpy()), 1.0)\n",
    "                "
   ]
  },
  {
   "cell_type": "code",
   "execution_count": 21,
   "id": "bbdacba1",
   "metadata": {
    "execution": {
     "iopub.execute_input": "2022-03-22T00:42:49.309433Z",
     "iopub.status.busy": "2022-03-22T00:42:49.308867Z",
     "iopub.status.idle": "2022-03-22T00:42:49.561501Z",
     "shell.execute_reply": "2022-03-22T00:42:49.561828Z"
    },
    "papermill": {
     "duration": 0.280363,
     "end_time": "2022-03-22T00:42:49.561977",
     "exception": false,
     "start_time": "2022-03-22T00:42:49.281614",
     "status": "completed"
    },
    "tags": []
   },
   "outputs": [
    {
     "name": "stdout",
     "output_type": "stream",
     "text": [
      "(2, 256)\n"
     ]
    }
   ],
   "source": [
    "###################################\n",
    "# Build the model\n",
    "###################################\n",
    "# easfsl only wants a tuple for the shape\n",
    "model = Steves_Prototypical_Network(x_net, device=p.device, x_shape=tuple(p.x_shape))\n",
    "optimizer = Adam(params=model.parameters(), lr=p.lr)"
   ]
  },
  {
   "cell_type": "code",
   "execution_count": 22,
   "id": "22b39ac5",
   "metadata": {
    "execution": {
     "iopub.execute_input": "2022-03-22T00:42:49.613028Z",
     "iopub.status.busy": "2022-03-22T00:42:49.612656Z",
     "iopub.status.idle": "2022-03-22T04:09:25.437811Z",
     "shell.execute_reply": "2022-03-22T04:09:25.438184Z"
    },
    "papermill": {
     "duration": 12395.853016,
     "end_time": "2022-03-22T04:09:25.438287",
     "exception": false,
     "start_time": "2022-03-22T00:42:49.585271",
     "status": "completed"
    },
    "tags": []
   },
   "outputs": [
    {
     "name": "stdout",
     "output_type": "stream",
     "text": [
      "epoch: 1, [batch: 1 / 33600], examples_per_second: 6.5980, train_label_loss: 2.7717, \n"
     ]
    },
    {
     "name": "stdout",
     "output_type": "stream",
     "text": [
      "epoch: 1, [batch: 3360 / 33600], examples_per_second: 3109.6978, train_label_loss: 1.3035, \n"
     ]
    },
    {
     "name": "stdout",
     "output_type": "stream",
     "text": [
      "epoch: 1, [batch: 6720 / 33600], examples_per_second: 2999.2585, train_label_loss: 0.9646, \n"
     ]
    },
    {
     "name": "stdout",
     "output_type": "stream",
     "text": [
      "epoch: 1, [batch: 10080 / 33600], examples_per_second: 3184.1029, train_label_loss: 0.7006, \n"
     ]
    },
    {
     "name": "stdout",
     "output_type": "stream",
     "text": [
      "epoch: 1, [batch: 13440 / 33600], examples_per_second: 2968.3827, train_label_loss: 1.0027, \n"
     ]
    },
    {
     "name": "stdout",
     "output_type": "stream",
     "text": [
      "epoch: 1, [batch: 16800 / 33600], examples_per_second: 3436.6241, train_label_loss: 1.1071, \n"
     ]
    },
    {
     "name": "stdout",
     "output_type": "stream",
     "text": [
      "epoch: 1, [batch: 20160 / 33600], examples_per_second: 3574.3564, train_label_loss: 1.4862, \n"
     ]
    },
    {
     "name": "stdout",
     "output_type": "stream",
     "text": [
      "epoch: 1, [batch: 23520 / 33600], examples_per_second: 2984.6649, train_label_loss: 0.6442, \n"
     ]
    },
    {
     "name": "stdout",
     "output_type": "stream",
     "text": [
      "epoch: 1, [batch: 26880 / 33600], examples_per_second: 3204.4678, train_label_loss: 0.8628, \n"
     ]
    },
    {
     "name": "stdout",
     "output_type": "stream",
     "text": [
      "epoch: 1, [batch: 30240 / 33600], examples_per_second: 2918.0189, train_label_loss: 0.7297, \n"
     ]
    },
    {
     "name": "stdout",
     "output_type": "stream",
     "text": [
      "=============================================================\n",
      "epoch: 1, source_val_acc_label: 0.6424, target_val_acc_label: 0.9702, source_val_label_loss: 0.9510, target_val_label_loss: 0.1597, \n",
      "=============================================================\n"
     ]
    },
    {
     "name": "stdout",
     "output_type": "stream",
     "text": [
      "New best\n"
     ]
    },
    {
     "name": "stdout",
     "output_type": "stream",
     "text": [
      "epoch: 2, [batch: 1 / 33600], examples_per_second: 0.7583, train_label_loss: 0.9319, \n"
     ]
    },
    {
     "name": "stdout",
     "output_type": "stream",
     "text": [
      "epoch: 2, [batch: 3360 / 33600], examples_per_second: 3131.5175, train_label_loss: 0.6807, \n"
     ]
    },
    {
     "name": "stdout",
     "output_type": "stream",
     "text": [
      "epoch: 2, [batch: 6720 / 33600], examples_per_second: 3075.5903, train_label_loss: 1.1037, \n"
     ]
    },
    {
     "name": "stdout",
     "output_type": "stream",
     "text": [
      "epoch: 2, [batch: 10080 / 33600], examples_per_second: 3004.3567, train_label_loss: 1.1774, \n"
     ]
    },
    {
     "name": "stdout",
     "output_type": "stream",
     "text": [
      "epoch: 2, [batch: 13440 / 33600], examples_per_second: 3238.0386, train_label_loss: 0.6628, \n"
     ]
    },
    {
     "name": "stdout",
     "output_type": "stream",
     "text": [
      "epoch: 2, [batch: 16800 / 33600], examples_per_second: 3432.9149, train_label_loss: 0.8000, \n"
     ]
    },
    {
     "name": "stdout",
     "output_type": "stream",
     "text": [
      "epoch: 2, [batch: 20160 / 33600], examples_per_second: 3677.5270, train_label_loss: 0.7355, \n"
     ]
    },
    {
     "name": "stdout",
     "output_type": "stream",
     "text": [
      "epoch: 2, [batch: 23520 / 33600], examples_per_second: 3079.4158, train_label_loss: 0.5050, \n"
     ]
    },
    {
     "name": "stdout",
     "output_type": "stream",
     "text": [
      "epoch: 2, [batch: 26880 / 33600], examples_per_second: 3001.8813, train_label_loss: 0.5327, \n"
     ]
    },
    {
     "name": "stdout",
     "output_type": "stream",
     "text": [
      "epoch: 2, [batch: 30240 / 33600], examples_per_second: 3263.2526, train_label_loss: 0.6224, \n"
     ]
    },
    {
     "name": "stdout",
     "output_type": "stream",
     "text": [
      "=============================================================\n",
      "epoch: 2, source_val_acc_label: 0.6815, target_val_acc_label: 0.9645, source_val_label_loss: 0.8443, target_val_label_loss: 0.2305, \n",
      "=============================================================\n"
     ]
    },
    {
     "name": "stdout",
     "output_type": "stream",
     "text": [
      "epoch: 3, [batch: 1 / 33600], examples_per_second: 0.7607, train_label_loss: 0.5630, \n"
     ]
    },
    {
     "name": "stdout",
     "output_type": "stream",
     "text": [
      "epoch: 3, [batch: 3360 / 33600], examples_per_second: 2964.9859, train_label_loss: 1.2426, \n"
     ]
    },
    {
     "name": "stdout",
     "output_type": "stream",
     "text": [
      "epoch: 3, [batch: 6720 / 33600], examples_per_second: 3194.8896, train_label_loss: 0.5158, \n"
     ]
    },
    {
     "name": "stdout",
     "output_type": "stream",
     "text": [
      "epoch: 3, [batch: 10080 / 33600], examples_per_second: 3010.7275, train_label_loss: 0.9004, \n"
     ]
    },
    {
     "name": "stdout",
     "output_type": "stream",
     "text": [
      "epoch: 3, [batch: 13440 / 33600], examples_per_second: 2981.0637, train_label_loss: 0.4177, \n"
     ]
    },
    {
     "name": "stdout",
     "output_type": "stream",
     "text": [
      "epoch: 3, [batch: 16800 / 33600], examples_per_second: 3550.4556, train_label_loss: 1.0498, \n"
     ]
    },
    {
     "name": "stdout",
     "output_type": "stream",
     "text": [
      "epoch: 3, [batch: 20160 / 33600], examples_per_second: 3438.9895, train_label_loss: 1.0578, \n"
     ]
    },
    {
     "name": "stdout",
     "output_type": "stream",
     "text": [
      "epoch: 3, [batch: 23520 / 33600], examples_per_second: 3174.5775, train_label_loss: 0.6694, \n"
     ]
    },
    {
     "name": "stdout",
     "output_type": "stream",
     "text": [
      "epoch: 3, [batch: 26880 / 33600], examples_per_second: 3437.7596, train_label_loss: 0.5028, \n"
     ]
    },
    {
     "name": "stdout",
     "output_type": "stream",
     "text": [
      "epoch: 3, [batch: 30240 / 33600], examples_per_second: 3572.0966, train_label_loss: 0.5789, \n"
     ]
    },
    {
     "name": "stdout",
     "output_type": "stream",
     "text": [
      "=============================================================\n",
      "epoch: 3, source_val_acc_label: 0.7037, target_val_acc_label: 0.9690, source_val_label_loss: 0.7877, target_val_label_loss: 0.2285, \n",
      "=============================================================\n"
     ]
    },
    {
     "name": "stdout",
     "output_type": "stream",
     "text": [
      "epoch: 4, [batch: 1 / 33600], examples_per_second: 1.0014, train_label_loss: 0.6162, \n"
     ]
    },
    {
     "name": "stdout",
     "output_type": "stream",
     "text": [
      "epoch: 4, [batch: 3360 / 33600], examples_per_second: 2415.7279, train_label_loss: 0.5528, \n"
     ]
    },
    {
     "name": "stdout",
     "output_type": "stream",
     "text": [
      "epoch: 4, [batch: 6720 / 33600], examples_per_second: 2388.3544, train_label_loss: 0.6650, \n"
     ]
    },
    {
     "name": "stdout",
     "output_type": "stream",
     "text": [
      "epoch: 4, [batch: 10080 / 33600], examples_per_second: 2594.7029, train_label_loss: 1.0321, \n"
     ]
    },
    {
     "name": "stdout",
     "output_type": "stream",
     "text": [
      "epoch: 4, [batch: 13440 / 33600], examples_per_second: 2306.9393, train_label_loss: 0.9535, \n"
     ]
    },
    {
     "name": "stdout",
     "output_type": "stream",
     "text": [
      "epoch: 4, [batch: 16800 / 33600], examples_per_second: 2821.4530, train_label_loss: 0.5555, \n"
     ]
    },
    {
     "name": "stdout",
     "output_type": "stream",
     "text": [
      "epoch: 4, [batch: 20160 / 33600], examples_per_second: 2736.6780, train_label_loss: 0.2253, \n"
     ]
    },
    {
     "name": "stdout",
     "output_type": "stream",
     "text": [
      "epoch: 4, [batch: 23520 / 33600], examples_per_second: 2375.8372, train_label_loss: 0.8651, \n"
     ]
    },
    {
     "name": "stdout",
     "output_type": "stream",
     "text": [
      "epoch: 4, [batch: 26880 / 33600], examples_per_second: 2573.4871, train_label_loss: 0.7713, \n"
     ]
    },
    {
     "name": "stdout",
     "output_type": "stream",
     "text": [
      "epoch: 4, [batch: 30240 / 33600], examples_per_second: 2314.1195, train_label_loss: 0.6417, \n"
     ]
    },
    {
     "name": "stdout",
     "output_type": "stream",
     "text": [
      "=============================================================\n",
      "epoch: 4, source_val_acc_label: 0.7254, target_val_acc_label: 0.9752, source_val_label_loss: 0.7395, target_val_label_loss: 0.2165, \n",
      "=============================================================\n"
     ]
    },
    {
     "name": "stdout",
     "output_type": "stream",
     "text": [
      "New best\n"
     ]
    },
    {
     "name": "stdout",
     "output_type": "stream",
     "text": [
      "epoch: 5, [batch: 1 / 33600], examples_per_second: 0.5759, train_label_loss: 0.5577, \n"
     ]
    },
    {
     "name": "stdout",
     "output_type": "stream",
     "text": [
      "epoch: 5, [batch: 3360 / 33600], examples_per_second: 2629.6888, train_label_loss: 0.3113, \n"
     ]
    },
    {
     "name": "stdout",
     "output_type": "stream",
     "text": [
      "epoch: 5, [batch: 6720 / 33600], examples_per_second: 2316.1584, train_label_loss: 0.2452, \n"
     ]
    },
    {
     "name": "stdout",
     "output_type": "stream",
     "text": [
      "epoch: 5, [batch: 10080 / 33600], examples_per_second: 2569.5840, train_label_loss: 1.0473, \n"
     ]
    },
    {
     "name": "stdout",
     "output_type": "stream",
     "text": [
      "epoch: 5, [batch: 13440 / 33600], examples_per_second: 2388.2351, train_label_loss: 0.6561, \n"
     ]
    },
    {
     "name": "stdout",
     "output_type": "stream",
     "text": [
      "epoch: 5, [batch: 16800 / 33600], examples_per_second: 2576.7863, train_label_loss: 0.8240, \n"
     ]
    },
    {
     "name": "stdout",
     "output_type": "stream",
     "text": [
      "epoch: 5, [batch: 20160 / 33600], examples_per_second: 3063.1075, train_label_loss: 0.7073, \n"
     ]
    },
    {
     "name": "stdout",
     "output_type": "stream",
     "text": [
      "epoch: 5, [batch: 23520 / 33600], examples_per_second: 2296.3776, train_label_loss: 0.4943, \n"
     ]
    },
    {
     "name": "stdout",
     "output_type": "stream",
     "text": [
      "epoch: 5, [batch: 26880 / 33600], examples_per_second: 2547.1071, train_label_loss: 0.3555, \n"
     ]
    },
    {
     "name": "stdout",
     "output_type": "stream",
     "text": [
      "epoch: 5, [batch: 30240 / 33600], examples_per_second: 2416.7992, train_label_loss: 0.9346, \n"
     ]
    },
    {
     "name": "stdout",
     "output_type": "stream",
     "text": [
      "=============================================================\n",
      "epoch: 5, source_val_acc_label: 0.7312, target_val_acc_label: 0.9756, source_val_label_loss: 0.7293, target_val_label_loss: 0.2374, \n",
      "=============================================================\n"
     ]
    },
    {
     "name": "stdout",
     "output_type": "stream",
     "text": [
      "New best\n"
     ]
    },
    {
     "name": "stdout",
     "output_type": "stream",
     "text": [
      "epoch: 6, [batch: 1 / 33600], examples_per_second: 0.5844, train_label_loss: 0.4158, \n"
     ]
    },
    {
     "name": "stdout",
     "output_type": "stream",
     "text": [
      "epoch: 6, [batch: 3360 / 33600], examples_per_second: 2452.3511, train_label_loss: 0.4764, \n"
     ]
    },
    {
     "name": "stdout",
     "output_type": "stream",
     "text": [
      "epoch: 6, [batch: 6720 / 33600], examples_per_second: 2440.8104, train_label_loss: 0.7904, \n"
     ]
    },
    {
     "name": "stdout",
     "output_type": "stream",
     "text": [
      "epoch: 6, [batch: 10080 / 33600], examples_per_second: 2384.1572, train_label_loss: 1.0855, \n"
     ]
    },
    {
     "name": "stdout",
     "output_type": "stream",
     "text": [
      "epoch: 6, [batch: 13440 / 33600], examples_per_second: 2463.2878, train_label_loss: 0.5566, \n"
     ]
    },
    {
     "name": "stdout",
     "output_type": "stream",
     "text": [
      "epoch: 6, [batch: 16800 / 33600], examples_per_second: 2621.1203, train_label_loss: 0.6476, \n"
     ]
    },
    {
     "name": "stdout",
     "output_type": "stream",
     "text": [
      "epoch: 6, [batch: 20160 / 33600], examples_per_second: 2839.5226, train_label_loss: 0.6647, \n"
     ]
    },
    {
     "name": "stdout",
     "output_type": "stream",
     "text": [
      "epoch: 6, [batch: 23520 / 33600], examples_per_second: 2795.2712, train_label_loss: 0.2455, \n"
     ]
    },
    {
     "name": "stdout",
     "output_type": "stream",
     "text": [
      "epoch: 6, [batch: 26880 / 33600], examples_per_second: 2726.5126, train_label_loss: 0.5405, \n"
     ]
    },
    {
     "name": "stdout",
     "output_type": "stream",
     "text": [
      "epoch: 6, [batch: 30240 / 33600], examples_per_second: 3016.4404, train_label_loss: 0.0953, \n"
     ]
    },
    {
     "name": "stdout",
     "output_type": "stream",
     "text": [
      "=============================================================\n",
      "epoch: 6, source_val_acc_label: 0.7361, target_val_acc_label: 0.9797, source_val_label_loss: 0.7376, target_val_label_loss: 0.2221, \n",
      "=============================================================\n"
     ]
    },
    {
     "name": "stdout",
     "output_type": "stream",
     "text": [
      "New best\n"
     ]
    },
    {
     "name": "stdout",
     "output_type": "stream",
     "text": [
      "epoch: 7, [batch: 1 / 33600], examples_per_second: 0.8189, train_label_loss: 0.4111, \n"
     ]
    },
    {
     "name": "stdout",
     "output_type": "stream",
     "text": [
      "epoch: 7, [batch: 3360 / 33600], examples_per_second: 3361.7493, train_label_loss: 0.4831, \n"
     ]
    },
    {
     "name": "stdout",
     "output_type": "stream",
     "text": [
      "epoch: 7, [batch: 6720 / 33600], examples_per_second: 2997.1919, train_label_loss: 0.8842, \n"
     ]
    },
    {
     "name": "stdout",
     "output_type": "stream",
     "text": [
      "epoch: 7, [batch: 10080 / 33600], examples_per_second: 3446.3591, train_label_loss: 0.5099, \n"
     ]
    },
    {
     "name": "stdout",
     "output_type": "stream",
     "text": [
      "epoch: 7, [batch: 13440 / 33600], examples_per_second: 2998.6470, train_label_loss: 0.6356, \n"
     ]
    },
    {
     "name": "stdout",
     "output_type": "stream",
     "text": [
      "epoch: 7, [batch: 16800 / 33600], examples_per_second: 3199.4234, train_label_loss: 0.7274, \n"
     ]
    },
    {
     "name": "stdout",
     "output_type": "stream",
     "text": [
      "epoch: 7, [batch: 20160 / 33600], examples_per_second: 2474.7457, train_label_loss: 0.2998, \n"
     ]
    },
    {
     "name": "stdout",
     "output_type": "stream",
     "text": [
      "epoch: 7, [batch: 23520 / 33600], examples_per_second: 2281.9132, train_label_loss: 0.4490, \n"
     ]
    },
    {
     "name": "stdout",
     "output_type": "stream",
     "text": [
      "epoch: 7, [batch: 26880 / 33600], examples_per_second: 2659.1554, train_label_loss: 0.6157, \n"
     ]
    },
    {
     "name": "stdout",
     "output_type": "stream",
     "text": [
      "epoch: 7, [batch: 30240 / 33600], examples_per_second: 2309.3038, train_label_loss: 0.8469, \n"
     ]
    },
    {
     "name": "stdout",
     "output_type": "stream",
     "text": [
      "=============================================================\n",
      "epoch: 7, source_val_acc_label: 0.7358, target_val_acc_label: 0.9810, source_val_label_loss: 0.7408, target_val_label_loss: 0.2252, \n",
      "=============================================================\n"
     ]
    },
    {
     "name": "stdout",
     "output_type": "stream",
     "text": [
      "New best\n"
     ]
    },
    {
     "name": "stdout",
     "output_type": "stream",
     "text": [
      "epoch: 8, [batch: 1 / 33600], examples_per_second: 0.6133, train_label_loss: 0.6155, \n"
     ]
    },
    {
     "name": "stdout",
     "output_type": "stream",
     "text": [
      "epoch: 8, [batch: 3360 / 33600], examples_per_second: 3099.3328, train_label_loss: 0.5243, \n"
     ]
    },
    {
     "name": "stdout",
     "output_type": "stream",
     "text": [
      "epoch: 8, [batch: 6720 / 33600], examples_per_second: 2947.6256, train_label_loss: 0.2110, \n"
     ]
    },
    {
     "name": "stdout",
     "output_type": "stream",
     "text": [
      "epoch: 8, [batch: 10080 / 33600], examples_per_second: 2494.8743, train_label_loss: 0.4514, \n"
     ]
    },
    {
     "name": "stdout",
     "output_type": "stream",
     "text": [
      "epoch: 8, [batch: 13440 / 33600], examples_per_second: 2510.3173, train_label_loss: 0.5136, \n"
     ]
    },
    {
     "name": "stdout",
     "output_type": "stream",
     "text": [
      "epoch: 8, [batch: 16800 / 33600], examples_per_second: 2932.2103, train_label_loss: 0.2296, \n"
     ]
    },
    {
     "name": "stdout",
     "output_type": "stream",
     "text": [
      "epoch: 8, [batch: 20160 / 33600], examples_per_second: 2506.9631, train_label_loss: 0.1885, \n"
     ]
    },
    {
     "name": "stdout",
     "output_type": "stream",
     "text": [
      "epoch: 8, [batch: 23520 / 33600], examples_per_second: 2381.6898, train_label_loss: 0.3408, \n"
     ]
    },
    {
     "name": "stdout",
     "output_type": "stream",
     "text": [
      "epoch: 8, [batch: 26880 / 33600], examples_per_second: 2543.4647, train_label_loss: 0.3862, \n"
     ]
    },
    {
     "name": "stdout",
     "output_type": "stream",
     "text": [
      "epoch: 8, [batch: 30240 / 33600], examples_per_second: 2315.5858, train_label_loss: 0.5586, \n"
     ]
    },
    {
     "name": "stdout",
     "output_type": "stream",
     "text": [
      "=============================================================\n",
      "epoch: 8, source_val_acc_label: 0.7372, target_val_acc_label: 0.9805, source_val_label_loss: 0.7543, target_val_label_loss: 0.2468, \n",
      "=============================================================\n"
     ]
    },
    {
     "name": "stdout",
     "output_type": "stream",
     "text": [
      "epoch: 9, [batch: 1 / 33600], examples_per_second: 0.6149, train_label_loss: 0.3458, \n"
     ]
    },
    {
     "name": "stdout",
     "output_type": "stream",
     "text": [
      "epoch: 9, [batch: 3360 / 33600], examples_per_second: 3125.6427, train_label_loss: 0.3551, \n"
     ]
    },
    {
     "name": "stdout",
     "output_type": "stream",
     "text": [
      "epoch: 9, [batch: 6720 / 33600], examples_per_second: 2959.1262, train_label_loss: 0.5464, \n"
     ]
    },
    {
     "name": "stdout",
     "output_type": "stream",
     "text": [
      "epoch: 9, [batch: 10080 / 33600], examples_per_second: 2430.2032, train_label_loss: 0.2002, \n"
     ]
    },
    {
     "name": "stdout",
     "output_type": "stream",
     "text": [
      "epoch: 9, [batch: 13440 / 33600], examples_per_second: 2541.1270, train_label_loss: 0.5006, \n"
     ]
    },
    {
     "name": "stdout",
     "output_type": "stream",
     "text": [
      "epoch: 9, [batch: 16800 / 33600], examples_per_second: 2856.9171, train_label_loss: 0.4333, \n"
     ]
    },
    {
     "name": "stdout",
     "output_type": "stream",
     "text": [
      "epoch: 9, [batch: 20160 / 33600], examples_per_second: 2458.8805, train_label_loss: 0.3041, \n"
     ]
    },
    {
     "name": "stdout",
     "output_type": "stream",
     "text": [
      "epoch: 9, [batch: 23520 / 33600], examples_per_second: 2441.1255, train_label_loss: 0.5303, \n"
     ]
    },
    {
     "name": "stdout",
     "output_type": "stream",
     "text": [
      "epoch: 9, [batch: 26880 / 33600], examples_per_second: 2405.9409, train_label_loss: 0.3226, \n"
     ]
    },
    {
     "name": "stdout",
     "output_type": "stream",
     "text": [
      "epoch: 9, [batch: 30240 / 33600], examples_per_second: 2457.6327, train_label_loss: 0.2332, \n"
     ]
    },
    {
     "name": "stdout",
     "output_type": "stream",
     "text": [
      "=============================================================\n",
      "epoch: 9, source_val_acc_label: 0.7325, target_val_acc_label: 0.9804, source_val_label_loss: 0.7649, target_val_label_loss: 0.2621, \n",
      "=============================================================\n"
     ]
    },
    {
     "name": "stdout",
     "output_type": "stream",
     "text": [
      "epoch: 10, [batch: 1 / 33600], examples_per_second: 0.5813, train_label_loss: 0.3317, \n"
     ]
    },
    {
     "name": "stdout",
     "output_type": "stream",
     "text": [
      "epoch: 10, [batch: 3360 / 33600], examples_per_second: 2311.5939, train_label_loss: 0.4201, \n"
     ]
    },
    {
     "name": "stdout",
     "output_type": "stream",
     "text": [
      "epoch: 10, [batch: 6720 / 33600], examples_per_second: 2531.6133, train_label_loss: 0.5541, \n"
     ]
    },
    {
     "name": "stdout",
     "output_type": "stream",
     "text": [
      "epoch: 10, [batch: 10080 / 33600], examples_per_second: 2405.0252, train_label_loss: 0.5554, \n"
     ]
    },
    {
     "name": "stdout",
     "output_type": "stream",
     "text": [
      "epoch: 10, [batch: 13440 / 33600], examples_per_second: 2654.1470, train_label_loss: 0.4920, \n"
     ]
    },
    {
     "name": "stdout",
     "output_type": "stream",
     "text": [
      "epoch: 10, [batch: 16800 / 33600], examples_per_second: 2919.4724, train_label_loss: 0.2391, \n"
     ]
    },
    {
     "name": "stdout",
     "output_type": "stream",
     "text": [
      "epoch: 10, [batch: 20160 / 33600], examples_per_second: 2305.5425, train_label_loss: 0.1256, \n"
     ]
    },
    {
     "name": "stdout",
     "output_type": "stream",
     "text": [
      "epoch: 10, [batch: 23520 / 33600], examples_per_second: 2602.3936, train_label_loss: 0.2017, \n"
     ]
    },
    {
     "name": "stdout",
     "output_type": "stream",
     "text": [
      "epoch: 10, [batch: 26880 / 33600], examples_per_second: 2337.5868, train_label_loss: 0.4111, \n"
     ]
    },
    {
     "name": "stdout",
     "output_type": "stream",
     "text": [
      "epoch: 10, [batch: 30240 / 33600], examples_per_second: 2437.1136, train_label_loss: 0.3950, \n"
     ]
    },
    {
     "name": "stdout",
     "output_type": "stream",
     "text": [
      "=============================================================\n",
      "epoch: 10, source_val_acc_label: 0.7285, target_val_acc_label: 0.9794, source_val_label_loss: 0.7851, target_val_label_loss: 0.2913, \n",
      "=============================================================\n"
     ]
    },
    {
     "name": "stdout",
     "output_type": "stream",
     "text": [
      "epoch: 11, [batch: 1 / 33600], examples_per_second: 0.5764, train_label_loss: 0.6473, \n"
     ]
    },
    {
     "name": "stdout",
     "output_type": "stream",
     "text": [
      "epoch: 11, [batch: 3360 / 33600], examples_per_second: 2571.7282, train_label_loss: 0.3223, \n"
     ]
    },
    {
     "name": "stdout",
     "output_type": "stream",
     "text": [
      "epoch: 11, [batch: 6720 / 33600], examples_per_second: 2710.3239, train_label_loss: 0.1311, \n"
     ]
    },
    {
     "name": "stdout",
     "output_type": "stream",
     "text": [
      "epoch: 11, [batch: 10080 / 33600], examples_per_second: 3132.6892, train_label_loss: 0.4604, \n"
     ]
    },
    {
     "name": "stdout",
     "output_type": "stream",
     "text": [
      "epoch: 11, [batch: 13440 / 33600], examples_per_second: 3003.1843, train_label_loss: 0.2395, \n"
     ]
    },
    {
     "name": "stdout",
     "output_type": "stream",
     "text": [
      "epoch: 11, [batch: 16800 / 33600], examples_per_second: 2815.3058, train_label_loss: 0.0786, \n"
     ]
    },
    {
     "name": "stdout",
     "output_type": "stream",
     "text": [
      "epoch: 11, [batch: 20160 / 33600], examples_per_second: 2397.7078, train_label_loss: 0.0565, \n"
     ]
    },
    {
     "name": "stdout",
     "output_type": "stream",
     "text": [
      "epoch: 11, [batch: 23520 / 33600], examples_per_second: 2419.3526, train_label_loss: 0.2580, \n"
     ]
    },
    {
     "name": "stdout",
     "output_type": "stream",
     "text": [
      "epoch: 11, [batch: 26880 / 33600], examples_per_second: 2417.4089, train_label_loss: 0.2270, \n"
     ]
    },
    {
     "name": "stdout",
     "output_type": "stream",
     "text": [
      "epoch: 11, [batch: 30240 / 33600], examples_per_second: 2460.6389, train_label_loss: 0.6544, \n"
     ]
    },
    {
     "name": "stdout",
     "output_type": "stream",
     "text": [
      "=============================================================\n",
      "epoch: 11, source_val_acc_label: 0.7330, target_val_acc_label: 0.9804, source_val_label_loss: 0.7983, target_val_label_loss: 0.2914, \n",
      "=============================================================\n"
     ]
    },
    {
     "name": "stdout",
     "output_type": "stream",
     "text": [
      "Patience (3) exhausted\n"
     ]
    }
   ],
   "source": [
    "###################################\n",
    "# train\n",
    "###################################\n",
    "jig = PTN_Train_Eval_Test_Jig(model, p.BEST_MODEL_PATH, p.device)\n",
    "\n",
    "jig.train(\n",
    "    train_iterable=datasets.source.processed.train,\n",
    "    source_val_iterable=datasets.source.processed.val,\n",
    "    target_val_iterable=datasets.target.processed.val,\n",
    "    num_epochs=p.n_epoch,\n",
    "    num_logs_per_epoch=p.NUM_LOGS_PER_EPOCH,\n",
    "    patience=p.patience,\n",
    "    optimizer=optimizer,\n",
    "    criteria_for_best=p.criteria_for_best,\n",
    ")"
   ]
  },
  {
   "cell_type": "code",
   "execution_count": 23,
   "id": "31e8fabf",
   "metadata": {
    "execution": {
     "iopub.execute_input": "2022-03-22T04:09:25.575344Z",
     "iopub.status.busy": "2022-03-22T04:09:25.574532Z",
     "iopub.status.idle": "2022-03-22T04:09:25.757808Z",
     "shell.execute_reply": "2022-03-22T04:09:25.758479Z"
    },
    "papermill": {
     "duration": 0.260224,
     "end_time": "2022-03-22T04:09:25.758664",
     "exception": false,
     "start_time": "2022-03-22T04:09:25.498440",
     "status": "completed"
    },
    "tags": []
   },
   "outputs": [],
   "source": [
    "total_experiment_time_secs = time.time() - start_time_secs"
   ]
  },
  {
   "cell_type": "code",
   "execution_count": 24,
   "id": "87b9595b",
   "metadata": {
    "execution": {
     "iopub.execute_input": "2022-03-22T04:09:25.895337Z",
     "iopub.status.busy": "2022-03-22T04:09:25.894466Z",
     "iopub.status.idle": "2022-03-22T04:21:37.243983Z",
     "shell.execute_reply": "2022-03-22T04:21:37.247289Z"
    },
    "papermill": {
     "duration": 731.425051,
     "end_time": "2022-03-22T04:21:37.247619",
     "exception": false,
     "start_time": "2022-03-22T04:09:25.822568",
     "status": "completed"
    },
    "tags": []
   },
   "outputs": [],
   "source": [
    "###################################\n",
    "# Evaluate the model\n",
    "###################################\n",
    "source_test_label_accuracy, source_test_label_loss = jig.test(datasets.source.processed.test)\n",
    "target_test_label_accuracy, target_test_label_loss = jig.test(datasets.target.processed.test)\n",
    "\n",
    "source_val_label_accuracy, source_val_label_loss = jig.test(datasets.source.processed.val)\n",
    "target_val_label_accuracy, target_val_label_loss = jig.test(datasets.target.processed.val)\n",
    "\n",
    "history = jig.get_history()\n",
    "\n",
    "total_epochs_trained = len(history[\"epoch_indices\"])\n",
    "\n",
    "val_dl = Iterable_Aggregator((datasets.source.original.val,datasets.target.original.val))\n",
    "\n",
    "confusion = ptn_confusion_by_domain_over_dataloader(model, p.device, val_dl)\n",
    "per_domain_accuracy = per_domain_accuracy_from_confusion(confusion)\n",
    "\n",
    "# Add a key to per_domain_accuracy for if it was a source domain\n",
    "for domain, accuracy in per_domain_accuracy.items():\n",
    "    per_domain_accuracy[domain] = {\n",
    "        \"accuracy\": accuracy,\n",
    "        \"source?\": domain in p.domains_source\n",
    "    }\n",
    "\n",
    "# Do an independent accuracy assesment JUST TO BE SURE!\n",
    "# _source_test_label_accuracy = independent_accuracy_assesment(model, datasets.source.processed.test, p.device)\n",
    "# _target_test_label_accuracy = independent_accuracy_assesment(model, datasets.target.processed.test, p.device)\n",
    "# _source_val_label_accuracy = independent_accuracy_assesment(model, datasets.source.processed.val, p.device)\n",
    "# _target_val_label_accuracy = independent_accuracy_assesment(model, datasets.target.processed.val, p.device)\n",
    "\n",
    "# assert(_source_test_label_accuracy == source_test_label_accuracy)\n",
    "# assert(_target_test_label_accuracy == target_test_label_accuracy)\n",
    "# assert(_source_val_label_accuracy == source_val_label_accuracy)\n",
    "# assert(_target_val_label_accuracy == target_val_label_accuracy)\n",
    "\n",
    "experiment = {\n",
    "    \"experiment_name\": p.experiment_name,\n",
    "    \"parameters\": dict(p),\n",
    "    \"results\": {\n",
    "        \"source_test_label_accuracy\": source_test_label_accuracy,\n",
    "        \"source_test_label_loss\": source_test_label_loss,\n",
    "        \"target_test_label_accuracy\": target_test_label_accuracy,\n",
    "        \"target_test_label_loss\": target_test_label_loss,\n",
    "        \"source_val_label_accuracy\": source_val_label_accuracy,\n",
    "        \"source_val_label_loss\": source_val_label_loss,\n",
    "        \"target_val_label_accuracy\": target_val_label_accuracy,\n",
    "        \"target_val_label_loss\": target_val_label_loss,\n",
    "        \"total_epochs_trained\": total_epochs_trained,\n",
    "        \"total_experiment_time_secs\": total_experiment_time_secs,\n",
    "        \"confusion\": confusion,\n",
    "        \"per_domain_accuracy\": per_domain_accuracy,\n",
    "    },\n",
    "    \"history\": history,\n",
    "    \"dataset_metrics\": get_dataset_metrics(datasets, \"ptn\"),\n",
    "}"
   ]
  },
  {
   "cell_type": "code",
   "execution_count": 25,
   "id": "54a21829",
   "metadata": {
    "execution": {
     "iopub.execute_input": "2022-03-22T04:21:37.380475Z",
     "iopub.status.busy": "2022-03-22T04:21:37.380024Z",
     "iopub.status.idle": "2022-03-22T04:21:37.847177Z",
     "shell.execute_reply": "2022-03-22T04:21:37.847931Z"
    },
    "papermill": {
     "duration": 0.531865,
     "end_time": "2022-03-22T04:21:37.848155",
     "exception": false,
     "start_time": "2022-03-22T04:21:37.316290",
     "status": "completed"
    },
    "tags": []
   },
   "outputs": [
    {
     "data": {
      "image/png": "[encoded data removed]",
      "text/plain": [
       "<Figure size 1080x504 with 1 Axes>"
      ]
     },
     "metadata": {
      "needs_background": "light"
     },
     "output_type": "display_data"
    }
   ],
   "source": [
    "ax = get_loss_curve(experiment)\n",
    "plt.show()"
   ]
  },
  {
   "cell_type": "code",
   "execution_count": 26,
   "id": "fd8a0f60",
   "metadata": {
    "execution": {
     "iopub.execute_input": "2022-03-22T04:21:37.981644Z",
     "iopub.status.busy": "2022-03-22T04:21:37.981256Z",
     "iopub.status.idle": "2022-03-22T04:21:38.414085Z",
     "shell.execute_reply": "2022-03-22T04:21:38.414491Z"
    },
    "papermill": {
     "duration": 0.498901,
     "end_time": "2022-03-22T04:21:38.414655",
     "exception": false,
     "start_time": "2022-03-22T04:21:37.915754",
     "status": "completed"
    },
    "tags": []
   },
   "outputs": [
    {
     "data": {
      "text/plain": [
       "<AxesSubplot:title={'center':'Results'}>"
      ]
     },
     "execution_count": 26,
     "metadata": {},
     "output_type": "execute_result"
    },
    {
     "data": {
      "image/png": "[encoded data removed]",
      "text/plain": [
       "<Figure size 1080x504 with 1 Axes>"
      ]
     },
     "metadata": {
      "needs_background": "light"
     },
     "output_type": "display_data"
    }
   ],
   "source": [
    "get_results_table(experiment)"
   ]
  },
  {
   "cell_type": "code",
   "execution_count": 27,
   "id": "cf8dc689",
   "metadata": {
    "execution": {
     "iopub.execute_input": "2022-03-22T04:21:38.536022Z",
     "iopub.status.busy": "2022-03-22T04:21:38.535639Z",
     "iopub.status.idle": "2022-03-22T04:21:38.899166Z",
     "shell.execute_reply": "2022-03-22T04:21:38.898448Z"
    },
    "papermill": {
     "duration": 0.425308,
     "end_time": "2022-03-22T04:21:38.899357",
     "exception": false,
     "start_time": "2022-03-22T04:21:38.474049",
     "status": "completed"
    },
    "tags": []
   },
   "outputs": [
    {
     "data": {
      "text/plain": [
       "<AxesSubplot:title={'center':'Per Domain Validation Accuracy'}, xlabel='domain'>"
      ]
     },
     "execution_count": 27,
     "metadata": {},
     "output_type": "execute_result"
    },
    {
     "data": {
      "image/png": "[encoded data removed]",
      "text/plain": [
       "<Figure size 1080x504 with 1 Axes>"
      ]
     },
     "metadata": {
      "needs_background": "light"
     },
     "output_type": "display_data"
    }
   ],
   "source": [
    "get_domain_accuracies(experiment)"
   ]
  },
  {
   "cell_type": "code",
   "execution_count": 28,
   "id": "a74ae082",
   "metadata": {
    "execution": {
     "iopub.execute_input": "2022-03-22T04:21:39.035418Z",
     "iopub.status.busy": "2022-03-22T04:21:39.035040Z",
     "iopub.status.idle": "2022-03-22T04:21:39.061526Z",
     "shell.execute_reply": "2022-03-22T04:21:39.062205Z"
    },
    "papermill": {
     "duration": 0.094545,
     "end_time": "2022-03-22T04:21:39.062406",
     "exception": false,
     "start_time": "2022-03-22T04:21:38.967861",
     "status": "completed"
    },
    "tags": []
   },
   "outputs": [
    {
     "name": "stdout",
     "output_type": "stream",
     "text": [
      "Source Test Label Accuracy: 0.7368359375 Target Test Label Accuracy: 0.9799661399548533\n",
      "Source Val Label Accuracy: 0.7358138020833334 Target Val Label Accuracy: 0.9810357142857142\n"
     ]
    }
   ],
   "source": [
    "print(\"Source Test Label Accuracy:\", experiment[\"results\"][\"source_test_label_accuracy\"], \"Target Test Label Accuracy:\", experiment[\"results\"][\"target_test_label_accuracy\"])\n",
    "print(\"Source Val Label Accuracy:\", experiment[\"results\"][\"source_val_label_accuracy\"], \"Target Val Label Accuracy:\", experiment[\"results\"][\"target_val_label_accuracy\"])"
   ]
  },
  {
   "cell_type": "code",
   "execution_count": 29,
   "id": "dacca602",
   "metadata": {
    "execution": {
     "iopub.execute_input": "2022-03-22T04:21:39.193248Z",
     "iopub.status.busy": "2022-03-22T04:21:39.192882Z",
     "iopub.status.idle": "2022-03-22T04:21:39.218831Z",
     "shell.execute_reply": "2022-03-22T04:21:39.219509Z"
    },
    "papermill": {
     "duration": 0.091287,
     "end_time": "2022-03-22T04:21:39.219733",
     "exception": false,
     "start_time": "2022-03-22T04:21:39.128446",
     "status": "completed"
    },
    "tags": [
     "experiment_json"
    ]
   },
   "outputs": [
    {
     "data": {
      "text/plain": [
       "'{\"experiment_name\": \"tl_1v2:cores-oracle.run1\", \"parameters\": {\"experiment_name\": \"tl_1v2:cores-oracle.run1\", \"device\": \"cuda\", \"lr\": 0.0001, \"n_shot\": 3, \"n_query\": 2, \"train_k_factor\": 3, \"val_k_factor\": 2, \"test_k_factor\": 2, \"torch_default_dtype\": \"torch.float32\", \"n_epoch\": 50, \"patience\": 3, \"criteria_for_best\": \"target_accuracy\", \"x_net\": [{\"class\": \"nnReshape\", \"kargs\": {\"shape\": [-1, 1, 2, 256]}}, {\"class\": \"Conv2d\", \"kargs\": {\"in_channels\": 1, \"out_channels\": 256, \"kernel_size\": [1, 7], \"bias\": false, \"padding\": [0, 3]}}, {\"class\": \"ReLU\", \"kargs\": {\"inplace\": true}}, {\"class\": \"BatchNorm2d\", \"kargs\": {\"num_features\": 256}}, {\"class\": \"Conv2d\", \"kargs\": {\"in_channels\": 256, \"out_channels\": 80, \"kernel_size\": [2, 7], \"bias\": true, \"padding\": [0, 3]}}, {\"class\": \"ReLU\", \"kargs\": {\"inplace\": true}}, {\"class\": \"BatchNorm2d\", \"kargs\": {\"num_features\": 80}}, {\"class\": \"Flatten\", \"kargs\": {}}, {\"class\": \"Linear\", \"kargs\": {\"in_features\": 20480, \"out_features\": 256}}, {\"class\": \"ReLU\", \"kargs\": {\"inplace\": true}}, {\"class\": \"BatchNorm1d\", \"kargs\": {\"num_features\": 256}}, {\"class\": \"Linear\", \"kargs\": {\"in_features\": 256, \"out_features\": 256}}], \"NUM_LOGS_PER_EPOCH\": 10, \"BEST_MODEL_PATH\": \"./best_model.pth\", \"n_way\": 16, \"datasets\": [{\"labels\": [\"1-10.\", \"1-11.\", \"1-15.\", \"1-16.\", \"1-17.\", \"1-18.\", \"1-19.\", \"10-4.\", \"10-7.\", \"11-1.\", \"11-14.\", \"11-17.\", \"11-20.\", \"11-7.\", \"13-20.\", \"13-8.\", \"14-10.\", \"14-11.\", \"14-14.\", \"14-7.\", \"15-1.\", \"15-20.\", \"16-1.\", \"16-16.\", \"17-10.\", \"17-11.\", \"17-2.\", \"19-1.\", \"19-16.\", \"19-19.\", \"19-20.\", \"19-3.\", \"2-10.\", \"2-11.\", \"2-17.\", \"2-18.\", \"2-20.\", \"2-3.\", \"2-4.\", \"2-5.\", \"2-6.\", \"2-7.\", \"2-8.\", \"3-13.\", \"3-18.\", \"3-3.\", \"4-1.\", \"4-10.\", \"4-11.\", \"4-19.\", \"5-5.\", \"6-15.\", \"7-10.\", \"7-14.\", \"8-18.\", \"8-20.\", \"8-3.\", \"8-8.\"], \"domains\": [1, 2, 3, 4, 5], \"num_examples_per_domain_per_label\": -1, \"pickle_path\": \"/root/csc500-main/datasets/cores.stratified_ds.2022A.pkl\", \"source_or_target_dataset\": \"target\", \"x_transforms\": [\"unit_power\"], \"episode_transforms\": [], \"domain_prefix\": \"CORES_\"}, {\"labels\": [\"3123D52\", \"3123D65\", \"3123D79\", \"3123D80\", \"3123D54\", \"3123D70\", \"3123D7B\", \"3123D89\", \"3123D58\", \"3123D76\", \"3123D7D\", \"3123EFE\", \"3123D64\", \"3123D78\", \"3123D7E\", \"3124E4A\"], \"domains\": [32, 38, 8, 44, 14, 50, 20, 26], \"num_examples_per_domain_per_label\": 10000, \"pickle_path\": \"/root/csc500-main/datasets/oracle.Run1_10kExamples_stratified_ds.2022A.pkl\", \"source_or_target_dataset\": \"source\", \"x_transforms\": [\"unit_power\"], \"episode_transforms\": [], \"domain_prefix\": \"ORACLE.run1_\"}], \"dataset_seed\": 420, \"seed\": 420, \"x_shape\": [2, 256], \"domains_source\": [\"ORACLE.run1_32\", \"ORACLE.run1_38\", \"ORACLE.run1_8\", \"ORACLE.run1_44\", \"ORACLE.run1_14\", \"ORACLE.run1_50\", \"ORACLE.run1_20\", \"ORACLE.run1_26\"], \"domains_target\": [\"CORES_1\", \"CORES_2\", \"CORES_3\", \"CORES_4\", \"CORES_5\"]}, \"results\": {\"source_test_label_accuracy\": 0.7368359375, \"source_test_label_loss\": 0.7379533052444458, \"target_test_label_accuracy\": 0.9799661399548533, \"target_test_label_loss\": 0.24989467859268188, \"source_val_label_accuracy\": 0.7358138020833334, \"source_val_label_loss\": 0.7408085465431213, \"target_val_label_accuracy\": 0.9810357142857142, \"target_val_label_loss\": 0.22523260116577148, \"total_epochs_trained\": 11, \"total_experiment_time_secs\": 12559.064159870148, \"confusion\": {\"ORACLE.run1_14\": {\"15\": {\"15\": 1171, \"7\": 28, \"5\": 1}, \"5\": {\"5\": 817, \"4\": 206, \"2\": 39, \"13\": 2, \"1\": 112, \"3\": 16, \"7\": 7, \"15\": 1}, \"7\": {\"7\": 1177, \"15\": 20, \"1\": 2, \"5\": 1}, \"4\": {\"5\": 141, \"4\": 903, \"2\": 42, \"3\": 99, \"1\": 12, \"14\": 3}, \"10\": {\"10\": 1144, \"0\": 52, \"3\": 1, \"13\": 2, \"14\": 1}, \"11\": {\"11\": 1076, \"9\": 69, \"0\": 53, \"10\": 2}, \"12\": {\"12\": 1196, \"9\": 4}, \"0\": {\"0\": 1104, \"10\": 67, \"11\": 13, \"3\": 16}, \"14\": {\"14\": 1005, \"6\": 28, \"13\": 73, \"3\": 17, \"2\": 73, \"4\": 4}, \"8\": {\"8\": 1200}, \"13\": {\"14\": 192, \"13\": 383, \"6\": 516, \"2\": 96, \"5\": 9, \"4\": 3, \"3\": 1}, \"6\": {\"13\": 410, \"6\": 706, \"2\": 40, \"14\": 44}, \"1\": {\"1\": 1108, \"5\": 86, \"4\": 5, \"2\": 1}, \"3\": {\"3\": 1033, \"4\": 118, \"14\": 24, \"2\": 13, \"10\": 3, \"13\": 2, \"5\": 7}, \"9\": {\"9\": 1198, \"11\": 1, \"12\": 1}, \"2\": {\"14\": 187, \"2\": 611, \"5\": 114, \"13\": 71, \"4\": 86, \"15\": 20, \"6\": 55, \"3\": 56}}, \"ORACLE.run1_20\": {\"4\": {\"4\": 1005, \"8\": 117, \"3\": 40, \"12\": 12, \"10\": 16, \"14\": 2, \"0\": 4, \"7\": 1, \"5\": 2, \"1\": 1}, \"10\": {\"10\": 1082, \"4\": 16, \"14\": 83, \"6\": 5, \"8\": 14}, \"15\": {\"15\": 750, \"0\": 82, \"5\": 105, \"1\": 212, \"13\": 28, \"12\": 20, \"3\": 1, \"2\": 2}, \"0\": {\"15\": 127, \"0\": 696, \"5\": 289, \"3\": 27, \"13\": 1, \"1\": 31, \"12\": 14, \"2\": 5, \"4\": 6, \"8\": 3, \"7\": 1}, \"6\": {\"6\": 1077, \"14\": 109, \"7\": 7, \"8\": 5, \"10\": 2}, \"3\": {\"2\": 75, \"3\": 501, \"7\": 41, \"12\": 297, \"5\": 31, \"9\": 169, \"4\": 48, \"1\": 16, \"0\": 6, \"8\": 15, \"13\": 1}, \"7\": {\"2\": 149, \"7\": 896, \"4\": 3, \"8\": 63, \"9\": 40, \"3\": 37, \"6\": 10, \"13\": 2}, \"2\": {\"2\": 564, \"9\": 291, \"3\": 79, \"12\": 55, \"7\": 138, \"13\": 58, \"15\": 5, \"1\": 5, \"5\": 4, \"8\": 1}, \"8\": {\"8\": 938, \"7\": 63, \"3\": 17, \"4\": 140, \"10\": 9, \"14\": 25, \"6\": 7, \"9\": 1}, \"11\": {\"11\": 1200}, \"14\": {\"14\": 987, \"8\": 16, \"6\": 112, \"10\": 85}, \"12\": {\"9\": 97, \"12\": 479, \"15\": 29, \"5\": 106, \"2\": 39, \"3\": 250, \"1\": 170, \"4\": 15, \"0\": 8, \"13\": 4, \"7\": 3}, \"13\": {\"13\": 1100, \"2\": 63, \"1\": 6, \"15\": 19, \"9\": 5, \"12\": 2, \"3\": 2, \"5\": 2, \"0\": 1}, \"9\": {\"9\": 498, \"3\": 205, \"2\": 321, \"12\": 109, \"1\": 10, \"7\": 35, \"5\": 3, \"13\": 10, \"4\": 2, \"8\": 4, \"15\": 3}, \"5\": {\"15\": 93, \"5\": 536, \"1\": 204, \"0\": 234, \"12\": 97, \"3\": 23, \"9\": 3, \"4\": 5, \"2\": 4, \"13\": 1}, \"1\": {\"5\": 192, \"15\": 178, \"1\": 584, \"9\": 12, \"12\": 178, \"0\": 28, \"2\": 4, \"3\": 23, \"13\": 1}}, \"ORACLE.run1_50\": {\"5\": {\"6\": 86, \"5\": 483, \"13\": 178, \"4\": 157, \"1\": 68, \"7\": 222, \"10\": 6}, \"12\": {\"12\": 1099, \"9\": 68, \"14\": 31, \"11\": 2}, \"14\": {\"14\": 1181, \"12\": 11, \"11\": 7, \"9\": 1}, \"4\": {\"7\": 31, \"4\": 609, \"15\": 172, \"6\": 82, \"1\": 167, \"5\": 123, \"13\": 16}, \"13\": {\"7\": 164, \"13\": 783, \"5\": 166, \"4\": 7, \"6\": 71, \"10\": 8, \"0\": 1}, \"10\": {\"10\": 1108, \"13\": 20, \"0\": 39, \"7\": 15, \"8\": 17, \"5\": 1}, \"9\": {\"9\": 968, \"12\": 98, \"11\": 134}, \"15\": {\"15\": 906, \"6\": 18, \"1\": 169, \"11\": 21, \"4\": 85, \"14\": 1}, \"6\": {\"6\": 902, \"4\": 91, \"13\": 73, \"1\": 80, \"5\": 27, \"15\": 17, \"0\": 4, \"2\": 1, \"7\": 5}, \"2\": {\"2\": 1116, \"0\": 83, \"13\": 1}, \"0\": {\"0\": 1065, \"2\": 91, \"10\": 40, \"13\": 4}, \"11\": {\"9\": 112, \"11\": 1048, \"14\": 14, \"15\": 19, \"12\": 7}, \"3\": {\"3\": 1179, \"8\": 21}, \"8\": {\"8\": 1171, \"10\": 16, \"3\": 13}, \"7\": {\"7\": 780, \"13\": 230, \"10\": 27, \"5\": 150, \"6\": 12, \"4\": 1}, \"1\": {\"4\": 111, \"1\": 771, \"15\": 215, \"5\": 14, \"6\": 81, \"11\": 5, \"2\": 1, \"13\": 1, \"14\": 1}}, \"ORACLE.run1_26\": {\"7\": {\"7\": 647, \"8\": 84, \"4\": 122, \"2\": 134, \"3\": 158, \"15\": 14, \"0\": 17, \"14\": 14, \"9\": 2, \"10\": 3, \"5\": 3, \"1\": 2}, \"6\": {\"6\": 874, \"9\": 170, \"15\": 33, \"10\": 63, \"8\": 28, \"13\": 10, \"0\": 21, \"5\": 1}, \"14\": {\"14\": 431, \"1\": 209, \"0\": 176, \"4\": 238, \"10\": 104, \"8\": 26, \"3\": 1, \"15\": 1, \"7\": 13, \"2\": 1}, \"15\": {\"8\": 80, \"15\": 523, \"9\": 313, \"6\": 28, \"13\": 67, \"5\": 133, \"2\": 39, \"7\": 11, \"10\": 5, \"0\": 1}, \"5\": {\"5\": 776, \"2\": 57, \"15\": 151, \"13\": 147, \"9\": 34, \"8\": 29, \"6\": 1, \"3\": 2, \"7\": 2, \"10\": 1}, \"10\": {\"14\": 116, \"0\": 266, \"10\": 509, \"8\": 161, \"1\": 12, \"6\": 60, \"4\": 49, \"9\": 19, \"7\": 2, \"15\": 6}, \"4\": {\"4\": 512, \"14\": 220, \"1\": 112, \"10\": 48, \"7\": 85, \"0\": 130, \"8\": 86, \"9\": 1, \"2\": 2, \"3\": 4}, \"11\": {\"11\": 1194, \"12\": 6}, \"13\": {\"13\": 863, \"5\": 219, \"15\": 71, \"6\": 10, \"9\": 27, \"2\": 9, \"3\": 1}, \"2\": {\"3\": 386, \"5\": 114, \"15\": 52, \"2\": 465, \"7\": 135, \"9\": 10, \"8\": 26, \"13\": 4, \"4\": 5, \"14\": 1, \"0\": 1, \"10\": 1}, \"0\": {\"8\": 121, \"4\": 152, \"10\": 286, \"0\": 379, \"14\": 188, \"6\": 18, \"1\": 22, \"7\": 32, \"15\": 1, \"2\": 1}, \"12\": {\"12\": 1199, \"11\": 1}, \"3\": {\"7\": 190, \"2\": 264, \"3\": 741, \"8\": 4, \"4\": 1}, \"9\": {\"15\": 341, \"8\": 90, \"9\": 532, \"10\": 18, \"6\": 147, \"13\": 31, \"5\": 32, \"0\": 5, \"2\": 3, \"4\": 1}, \"8\": {\"8\": 480, \"9\": 85, \"7\": 95, \"0\": 108, \"15\": 68, \"10\": 166, \"4\": 98, \"6\": 31, \"2\": 19, \"5\": 22, \"14\": 18, \"3\": 4, \"1\": 6}, \"1\": {\"14\": 232, \"1\": 757, \"7\": 12, \"4\": 134, \"10\": 27, \"0\": 30, \"8\": 8}}, \"ORACLE.run1_32\": {\"7\": {\"7\": 598, \"5\": 160, \"4\": 140, \"14\": 158, \"0\": 25, \"13\": 64, \"8\": 2, \"2\": 35, \"11\": 18}, \"2\": {\"2\": 971, \"4\": 188, \"7\": 14, \"0\": 20, \"14\": 2, \"5\": 4, \"8\": 1}, \"5\": {\"5\": 457, \"13\": 280, \"8\": 80, \"4\": 105, \"7\": 162, \"2\": 20, \"3\": 33, \"14\": 22, \"0\": 38, \"11\": 3}, \"6\": {\"6\": 1200}, \"13\": {\"5\": 197, \"3\": 89, \"13\": 638, \"7\": 74, \"8\": 64, \"4\": 79, \"14\": 22, \"11\": 15, \"0\": 22}, \"4\": {\"4\": 727, \"0\": 52, \"2\": 205, \"13\": 36, \"5\": 74, \"7\": 97, \"14\": 4, \"8\": 5}, \"3\": {\"3\": 1108, \"13\": 38, \"7\": 1, \"11\": 18, \"5\": 17, \"14\": 5, \"8\": 13}, \"0\": {\"4\": 61, \"0\": 874, \"5\": 45, \"13\": 16, \"2\": 23, \"14\": 30, \"8\": 117, \"7\": 34}, \"9\": {\"9\": 1198, \"12\": 2}, \"12\": {\"12\": 1199, \"9\": 1}, \"8\": {\"8\": 952, \"13\": 69, \"5\": 68, \"0\": 95, \"3\": 6, \"14\": 7, \"4\": 3}, \"14\": {\"13\": 36, \"14\": 546, \"11\": 276, \"7\": 235, \"0\": 41, \"5\": 29, \"8\": 14, \"2\": 4, \"4\": 15, \"3\": 4}, \"15\": {\"15\": 1192, \"8\": 7, \"3\": 1}, \"11\": {\"14\": 160, \"11\": 1014, \"5\": 1, \"3\": 6, \"13\": 12, \"7\": 7}, \"10\": {\"10\": 1198, \"1\": 2}, \"1\": {\"1\": 1197, \"10\": 3}}, \"ORACLE.run1_44\": {\"11\": {\"11\": 1130, \"9\": 1, \"13\": 55, \"6\": 14}, \"7\": {\"7\": 790, \"9\": 195, \"6\": 36, \"2\": 174, \"13\": 2, \"1\": 1, \"3\": 2}, \"6\": {\"6\": 858, \"7\": 26, \"9\": 91, \"13\": 216, \"11\": 8, \"2\": 1}, \"12\": {\"12\": 951, \"3\": 16, \"10\": 42, \"1\": 189, \"2\": 2}, \"4\": {\"14\": 298, \"4\": 885, \"5\": 2, \"15\": 13, \"13\": 2}, \"13\": {\"13\": 827, \"9\": 132, \"6\": 195, \"11\": 31, \"4\": 11, \"7\": 4}, \"8\": {\"0\": 387, \"8\": 766, \"15\": 31, \"5\": 16}, \"5\": {\"5\": 1048, \"14\": 33, \"15\": 27, \"0\": 76, \"8\": 12, \"4\": 4}, \"14\": {\"4\": 317, \"15\": 61, \"14\": 788, \"5\": 33, \"0\": 1}, \"3\": {\"3\": 1081, \"1\": 111, \"12\": 6, \"2\": 2}, \"10\": {\"10\": 906, \"12\": 94, \"2\": 88, \"1\": 108, \"3\": 4}, \"1\": {\"1\": 743, \"12\": 188, \"3\": 135, \"2\": 39, \"10\": 93, \"7\": 2}, \"2\": {\"2\": 902, \"10\": 82, \"7\": 158, \"1\": 49, \"9\": 5, \"12\": 2, \"3\": 2}, \"15\": {\"5\": 25, \"15\": 990, \"0\": 80, \"8\": 18, \"14\": 76, \"4\": 11}, \"9\": {\"7\": 282, \"6\": 122, \"9\": 671, \"13\": 116, \"2\": 9}, \"0\": {\"0\": 743, \"8\": 335, \"5\": 64, \"15\": 58}}, \"ORACLE.run1_8\": {\"10\": {\"10\": 825, \"13\": 88, \"14\": 207, \"1\": 9, \"5\": 23, \"4\": 44, \"0\": 4}, \"6\": {\"4\": 118, \"7\": 240, \"0\": 57, \"6\": 740, \"13\": 37, \"14\": 2, \"8\": 6}, \"13\": {\"13\": 443, \"4\": 187, \"14\": 106, \"0\": 296, \"10\": 120, \"6\": 40, \"7\": 6, \"5\": 1, \"1\": 1}, \"3\": {\"3\": 1057, \"2\": 85, \"12\": 53, \"15\": 5}, \"9\": {\"9\": 1200}, \"1\": {\"1\": 874, \"11\": 249, \"14\": 52, \"5\": 16, \"4\": 2, \"10\": 6, \"13\": 1}, \"5\": {\"5\": 1077, \"1\": 49, \"10\": 66, \"14\": 7, \"11\": 1}, \"11\": {\"1\": 342, \"11\": 829, \"5\": 16, \"8\": 6, \"14\": 6, \"6\": 1}, \"4\": {\"14\": 153, \"4\": 605, \"6\": 142, \"13\": 221, \"10\": 33, \"0\": 43, \"7\": 2, \"1\": 1}, \"14\": {\"14\": 669, \"4\": 176, \"10\": 218, \"1\": 61, \"13\": 68, \"11\": 4, \"5\": 3, \"6\": 1}, \"12\": {\"12\": 658, \"15\": 362, \"3\": 144, \"8\": 26, \"2\": 9, \"7\": 1}, \"7\": {\"7\": 882, \"6\": 272, \"0\": 39, \"13\": 4, \"15\": 2, \"8\": 1}, \"0\": {\"0\": 776, \"13\": 246, \"7\": 73, \"4\": 32, \"6\": 66, \"14\": 3, \"10\": 4}, \"15\": {\"12\": 229, \"15\": 908, \"8\": 53, \"7\": 1, \"2\": 8, \"3\": 1}, \"2\": {\"2\": 980, \"3\": 166, \"15\": 34, \"7\": 16, \"12\": 2, \"8\": 2}, \"8\": {\"8\": 1151, \"15\": 43, \"7\": 1, \"12\": 1, \"6\": 4}}, \"ORACLE.run1_38\": {\"4\": {\"4\": 1140, \"12\": 56, \"7\": 3, \"10\": 1}, \"7\": {\"0\": 131, \"7\": 989, \"5\": 40, \"8\": 38, \"3\": 2}, \"12\": {\"12\": 1170, \"4\": 26, \"10\": 3, \"0\": 1}, \"10\": {\"13\": 119, \"10\": 958, \"8\": 37, \"4\": 6, \"5\": 7, \"0\": 21, \"15\": 11, \"12\": 6, \"7\": 7, \"14\": 18, \"11\": 7, \"2\": 3}, \"0\": {\"7\": 182, \"0\": 597, \"8\": 254, \"3\": 50, \"5\": 83, \"10\": 24, \"9\": 2, \"12\": 2, \"13\": 4, \"15\": 2}, \"1\": {\"1\": 1148, \"15\": 51, \"8\": 1}, \"5\": {\"5\": 560, \"9\": 34, \"8\": 323, \"7\": 105, \"15\": 47, \"10\": 6, \"0\": 66, \"6\": 42, \"1\": 7, \"13\": 8, \"3\": 2}, \"15\": {\"15\": 928, \"1\": 87, \"13\": 111, \"8\": 37, \"5\": 24, \"10\": 7, \"2\": 6}, \"9\": {\"9\": 832, \"6\": 338, \"5\": 13, \"3\": 15, \"0\": 2}, \"11\": {\"11\": 1056, \"14\": 106, \"2\": 11, \"10\": 16, \"13\": 6, \"12\": 4, \"4\": 1}, \"14\": {\"14\": 1100, \"2\": 60, \"11\": 30, \"10\": 7, \"13\": 3}, \"6\": {\"6\": 1053, \"9\": 140, \"5\": 7}, \"8\": {\"0\": 108, \"5\": 244, \"8\": 758, \"15\": 19, \"13\": 5, \"7\": 44, \"1\": 1, \"10\": 20, \"6\": 1}, \"3\": {\"3\": 1132, \"9\": 32, \"7\": 14, \"0\": 18, \"5\": 2, \"6\": 1, \"8\": 1}, \"2\": {\"2\": 1122, \"14\": 57, \"13\": 18, \"10\": 1, \"15\": 1, \"11\": 1}, \"13\": {\"13\": 880, \"10\": 100, \"15\": 171, \"8\": 12, \"2\": 27, \"0\": 2, \"1\": 3, \"5\": 5}}, \"CORES_4\": {\"42\": {\"42\": 32}, \"0\": {\"0\": 63, \"8\": 1, \"32\": 3, \"23\": 1, \"46\": 3, \"56\": 3, \"36\": 1, \"3\": 2, \"5\": 2, \"54\": 1}, \"1\": {\"1\": 40}, \"39\": {\"39\": 20}, \"28\": {\"28\": 32}, \"53\": {\"53\": 124}, \"19\": {\"19\": 144}, \"34\": {\"34\": 24}, \"33\": {\"33\": 36}, \"32\": {\"32\": 24}, \"10\": {\"10\": 136}, \"46\": {\"46\": 129, \"5\": 1, \"47\": 2, \"32\": 1, \"23\": 1}, \"20\": {\"20\": 122}, \"5\": {\"5\": 105, \"47\": 2, \"23\": 1}, \"40\": {\"40\": 124}, \"51\": {\"51\": 144}, \"37\": {\"37\": 24}, \"17\": {\"17\": 80}, \"45\": {\"45\": 96}, \"13\": {\"13\": 142}, \"27\": {\"27\": 143, \"17\": 1}, \"24\": {\"24\": 56}, \"30\": {\"30\": 44}, \"31\": {\"31\": 28}, \"41\": {\"41\": 34, \"10\": 1, \"13\": 1}, \"36\": {\"36\": 92}, \"16\": {\"16\": 96}, \"22\": {\"22\": 127, \"43\": 1}, \"44\": {\"44\": 130, \"19\": 2}, \"9\": {\"9\": 140}, \"57\": {\"57\": 100}, \"8\": {\"8\": 138}, \"23\": {\"23\": 132}, \"47\": {\"47\": 120}, \"43\": {\"43\": 138}, \"49\": {\"49\": 20}, \"3\": {\"3\": 103, \"20\": 3, \"25\": 15, \"50\": 1, \"6\": 2}, \"12\": {\"12\": 92}, \"38\": {\"38\": 40}, \"7\": {\"7\": 24}, \"14\": {\"14\": 8, \"57\": 3, \"35\": 3, \"29\": 1, \"56\": 1}, \"15\": {\"15\": 146}, \"25\": {\"25\": 127, \"3\": 1}, \"26\": {\"26\": 24}, \"21\": {\"21\": 132}, \"48\": {\"48\": 142, \"27\": 2}, \"56\": {\"56\": 133, \"57\": 1}, \"11\": {\"15\": 1, \"11\": 103}, \"2\": {\"2\": 34, \"22\": 2}, \"6\": {\"6\": 105, \"53\": 6, \"51\": 1}, \"55\": {\"55\": 140}, \"54\": {\"54\": 108}, \"29\": {\"29\": 124}, \"50\": {\"50\": 108, \"25\": 4, \"53\": 8, \"3\": 1, \"30\": 1}, \"52\": {\"52\": 116}, \"35\": {\"35\": 40}, \"4\": {\"4\": 120}, \"18\": {\"18\": 108}}, \"CORES_5\": {\"43\": {\"43\": 139, \"15\": 13}, \"35\": {\"35\": 36}, \"54\": {\"54\": 112}, \"22\": {\"22\": 28}, \"16\": {\"16\": 146}, \"5\": {\"5\": 128}, \"28\": {\"28\": 32}, \"14\": {\"31\": 1, \"28\": 3, \"46\": 6, \"36\": 7, \"14\": 18, \"57\": 3, \"33\": 2, \"42\": 1, \"47\": 2, \"40\": 1}, \"51\": {\"51\": 128}, \"19\": {\"19\": 140}, \"31\": {\"31\": 36}, \"10\": {\"10\": 68}, \"21\": {\"21\": 133, \"50\": 3}, \"3\": {\"3\": 79, \"46\": 7, \"49\": 2, \"47\": 8, \"6\": 1, \"42\": 1, \"23\": 1, \"9\": 1}, \"57\": {\"57\": 127, \"45\": 1, \"14\": 3, \"6\": 1}, \"9\": {\"9\": 137, \"48\": 9}, \"8\": {\"8\": 132}, \"46\": {\"46\": 134, \"42\": 1, \"47\": 3, \"6\": 1, \"3\": 1}, \"23\": {\"23\": 124}, \"37\": {\"37\": 24}, \"34\": {\"34\": 36}, \"4\": {\"4\": 99, \"32\": 1}, \"6\": {\"6\": 127, \"1\": 1}, \"48\": {\"48\": 128, \"9\": 8}, \"44\": {\"44\": 137, \"5\": 1}, \"40\": {\"34\": 12, \"40\": 108, \"29\": 4}, \"12\": {\"12\": 96}, \"30\": {\"30\": 128}, \"39\": {\"39\": 20}, \"45\": {\"45\": 108, \"4\": 2, \"48\": 3, \"27\": 5, \"9\": 2, \"55\": 2, \"17\": 1, \"32\": 1}, \"36\": {\"36\": 92}, \"27\": {\"27\": 140}, \"32\": {\"32\": 32}, \"52\": {\"52\": 130}, \"0\": {\"0\": 123, \"35\": 1}, \"26\": {\"26\": 24}, \"1\": {\"1\": 148}, \"53\": {\"53\": 146}, \"25\": {\"25\": 144}, \"24\": {\"24\": 80}, \"7\": {\"7\": 32}, \"18\": {\"18\": 64}, \"20\": {\"20\": 144}, \"33\": {\"33\": 32}, \"55\": {\"55\": 140}, \"41\": {\"41\": 25, \"9\": 1, \"42\": 2}, \"42\": {\"42\": 37, \"43\": 1, \"18\": 2}, \"49\": {\"49\": 36}, \"13\": {\"13\": 148}, \"38\": {\"38\": 32}, \"2\": {\"2\": 26, \"56\": 2}, \"47\": {\"47\": 100}, \"17\": {\"17\": 116}, \"11\": {\"11\": 154}, \"29\": {\"29\": 129, \"40\": 3}, \"50\": {\"50\": 115, \"53\": 4, \"52\": 1, \"21\": 18}, \"56\": {\"56\": 148}, \"15\": {\"15\": 125, \"43\": 17}}, \"CORES_2\": {\"49\": {\"49\": 24}, \"13\": {\"13\": 116}, \"37\": {\"37\": 36}, \"41\": {\"41\": 20}, \"15\": {\"15\": 142}, \"56\": {\"56\": 142}, \"14\": {\"14\": 12, \"1\": 2, \"22\": 2, \"31\": 3, \"42\": 3, \"56\": 2}, \"3\": {\"3\": 87, \"21\": 3, \"53\": 1, \"52\": 1}, \"38\": {\"38\": 20}, \"43\": {\"43\": 138}, \"33\": {\"33\": 25, \"42\": 2, \"32\": 1}, \"47\": {\"47\": 134, \"5\": 4}, \"30\": {\"30\": 139, \"18\": 3, \"6\": 1, \"27\": 1}, \"39\": {\"39\": 28}, \"12\": {\"12\": 92}, \"6\": {\"6\": 121, \"30\": 1, \"8\": 1, \"18\": 1}, \"51\": {\"51\": 134}, \"5\": {\"5\": 115, \"47\": 5}, \"34\": {\"34\": 28}, \"35\": {\"35\": 32}, \"0\": {\"0\": 48}, \"7\": {\"7\": 36}, \"24\": {\"24\": 96}, \"8\": {\"8\": 136}, \"20\": {\"20\": 124}, \"36\": {\"36\": 116}, \"42\": {\"42\": 36}, \"1\": {\"1\": 110, \"57\": 2}, \"4\": {\"4\": 148}, \"28\": {\"28\": 28}, \"50\": {\"50\": 136}, \"45\": {\"45\": 123, \"35\": 1, \"4\": 3, \"17\": 1}, \"18\": {\"18\": 48}, \"57\": {\"57\": 120}, \"46\": {\"46\": 127, \"6\": 1}, \"23\": {\"23\": 148}, \"27\": {\"27\": 138}, \"19\": {\"19\": 134}, \"22\": {\"22\": 136}, \"17\": {\"17\": 104}, \"55\": {\"55\": 136}, \"44\": {\"44\": 99, \"40\": 1}, \"26\": {\"26\": 24}, \"31\": {\"31\": 28}, \"16\": {\"16\": 130}, \"11\": {\"11\": 128}, \"25\": {\"25\": 126}, \"54\": {\"54\": 108}, \"32\": {\"32\": 28}, \"52\": {\"52\": 124}, \"40\": {\"40\": 128, \"35\": 1, \"19\": 2, \"9\": 1}, \"2\": {\"2\": 32}, \"10\": {\"10\": 110}, \"53\": {\"53\": 136}, \"9\": {\"9\": 150}, \"21\": {\"21\": 120}, \"48\": {\"48\": 138}, \"29\": {\"29\": 128}}, \"CORES_1\": {\"9\": {\"9\": 142}, \"25\": {\"25\": 128}, \"41\": {\"41\": 24}, \"29\": {\"29\": 140}, \"46\": {\"46\": 127, \"51\": 1}, \"4\": {\"4\": 132}, \"31\": {\"31\": 28}, \"36\": {\"36\": 64}, \"20\": {\"20\": 128}, \"7\": {\"7\": 28}, \"6\": {\"6\": 92, \"48\": 2, \"5\": 2}, \"16\": {\"16\": 138}, \"17\": {\"17\": 64}, \"50\": {\"50\": 148}, \"57\": {\"57\": 139, \"1\": 2, \"56\": 3}, \"23\": {\"23\": 136}, \"3\": {\"3\": 124, \"13\": 2}, \"53\": {\"53\": 140}, \"49\": {\"49\": 32}, \"56\": {\"56\": 124, \"57\": 14, \"19\": 4, \"1\": 10}, \"51\": {\"51\": 142}, \"26\": {\"26\": 24}, \"43\": {\"43\": 144}, \"22\": {\"22\": 105, \"21\": 8, \"10\": 6, \"24\": 5, \"52\": 7, \"11\": 5}, \"45\": {\"45\": 141, \"42\": 5}, \"13\": {\"13\": 152}, \"12\": {\"12\": 109, \"51\": 7}, \"54\": {\"54\": 104}, \"24\": {\"24\": 102, \"10\": 2, \"52\": 1, \"22\": 2, \"20\": 1}, \"44\": {\"44\": 112, \"34\": 1, \"35\": 4, \"1\": 1, \"56\": 3, \"19\": 7, \"57\": 5, \"29\": 3}, \"28\": {\"28\": 28}, \"33\": {\"33\": 32}, \"38\": {\"38\": 24}, \"0\": {\"0\": 143, \"33\": 1}, \"47\": {\"47\": 154}, \"42\": {\"42\": 40}, \"34\": {\"34\": 24}, \"48\": {\"48\": 142}, \"35\": {\"35\": 35, \"44\": 1}, \"2\": {\"2\": 36}, \"30\": {\"30\": 120}, \"18\": {\"18\": 72}, \"37\": {\"37\": 32}, \"1\": {\"1\": 100}, \"11\": {\"11\": 138}, \"55\": {\"55\": 130}, \"15\": {\"15\": 150}, \"10\": {\"10\": 95, \"24\": 1}, \"27\": {\"27\": 160}, \"19\": {\"19\": 146}, \"14\": {\"30\": 4, \"14\": 11, \"45\": 1, \"16\": 1, \"20\": 1, \"8\": 2, \"25\": 1, \"7\": 3}, \"8\": {\"8\": 140}, \"5\": {\"5\": 132, \"48\": 2, \"50\": 1, \"6\": 1}, \"39\": {\"39\": 28}, \"52\": {\"52\": 119, \"11\": 2, \"22\": 1}, \"21\": {\"21\": 109, \"39\": 3, \"23\": 11, \"22\": 1}, \"40\": {\"40\": 152}, \"32\": {\"32\": 32}}, \"CORES_3\": {\"56\": {\"56\": 120}, \"4\": {\"4\": 146}, \"34\": {\"34\": 31, \"1\": 1}, \"52\": {\"52\": 136}, \"32\": {\"32\": 28}, \"46\": {\"46\": 131, \"21\": 1, \"20\": 2, \"3\": 1, \"30\": 1}, \"12\": {\"12\": 88, \"8\": 4}, \"20\": {\"20\": 132}, \"54\": {\"54\": 100}, \"22\": {\"22\": 139, \"55\": 1}, \"26\": {\"26\": 24}, \"31\": {\"31\": 28}, \"10\": {\"10\": 64}, \"27\": {\"27\": 144}, \"40\": {\"40\": 136}, \"28\": {\"28\": 27, \"14\": 1}, \"5\": {\"5\": 113, \"47\": 3}, \"30\": {\"30\": 120}, \"7\": {\"7\": 36}, \"18\": {\"18\": 84}, \"39\": {\"39\": 16}, \"50\": {\"50\": 135, \"3\": 1}, \"49\": {\"49\": 20}, \"43\": {\"43\": 122}, \"29\": {\"29\": 114}, \"35\": {\"35\": 28}, \"13\": {\"13\": 124}, \"36\": {\"36\": 100}, \"11\": {\"11\": 146}, \"57\": {\"57\": 117, \"1\": 7}, \"9\": {\"9\": 130}, \"25\": {\"25\": 130}, \"16\": {\"16\": 126}, \"53\": {\"53\": 118}, \"33\": {\"33\": 28}, \"51\": {\"51\": 128}, \"44\": {\"44\": 88}, \"48\": {\"48\": 114}, \"6\": {\"6\": 83, \"18\": 1, \"30\": 3, \"20\": 1}, \"23\": {\"23\": 144}, \"1\": {\"1\": 95, \"57\": 5}, \"17\": {\"17\": 106, \"27\": 2}, \"21\": {\"21\": 122}, \"14\": {\"34\": 6, \"22\": 5, \"14\": 16, \"35\": 2, \"1\": 2, \"0\": 1, \"28\": 1, \"57\": 5, \"47\": 1, \"56\": 1}, \"55\": {\"55\": 144}, \"41\": {\"41\": 28}, \"3\": {\"3\": 137, \"50\": 1}, \"38\": {\"38\": 28}, \"2\": {\"2\": 32}, \"8\": {\"8\": 142}, \"37\": {\"37\": 28}, \"45\": {\"17\": 1, \"45\": 57, \"4\": 1, \"19\": 1}, \"42\": {\"42\": 28}, \"24\": {\"24\": 104}, \"15\": {\"15\": 136}, \"0\": {\"0\": 124}, \"47\": {\"47\": 91, \"5\": 1}, \"19\": {\"19\": 120}}}, \"per_domain_accuracy\": {\"ORACLE.run1_14\": {\"accuracy\": 0.8245833333333333, \"source?\": true}, \"ORACLE.run1_20\": {\"accuracy\": 0.6715104166666667, \"source?\": true}, \"ORACLE.run1_50\": {\"accuracy\": 0.7900520833333333, \"source?\": true}, \"ORACLE.run1_26\": {\"accuracy\": 0.5667708333333333, \"source?\": true}, \"ORACLE.run1_32\": {\"accuracy\": 0.78484375, \"source?\": true}, \"ORACLE.run1_44\": {\"accuracy\": 0.73328125, \"source?\": true}, \"ORACLE.run1_8\": {\"accuracy\": 0.7121875, \"source?\": true}, \"ORACLE.run1_38\": {\"accuracy\": 0.80328125, \"source?\": true}, \"CORES_4\": {\"accuracy\": 0.9835329341317365, \"source?\": false}, \"CORES_5\": {\"accuracy\": 0.9689245810055865, \"source?\": false}, \"CORES_2\": {\"accuracy\": 0.9910714285714286, \"source?\": false}, \"CORES_1\": {\"accuracy\": 0.9743546195652174, \"source?\": false}, \"CORES_3\": {\"accuracy\": 0.9882352941176471, \"source?\": false}}}, \"history\": {\"epoch_indices\": [1, 2, 3, 4, 5, 6, 7, 8, 9, 10, 11], \"train_label_loss\": [1.0727726391986723, 0.8301503439096822, 0.7323755949735642, 0.6407079123031525, 0.57023524483943, 0.5189442696116332, 0.47851698957527766, 0.4423543797703903, 0.4090816826712606, 0.3814846193048427, 0.3536083288539556], \"source_val_label_loss\": [0.9510242938995361, 0.8443299531936646, 0.787722110748291, 0.7394912838935852, 0.7292797565460205, 0.7376478910446167, 0.7408085465431213, 0.7543299794197083, 0.7648647427558899, 0.78513103723526, 0.798308253288269], \"target_val_label_loss\": [0.1596696525812149, 0.2304506152868271, 0.22848296165466309, 0.2164698839187622, 0.2374330312013626, 0.22214436531066895, 0.22523260116577148, 0.24676023423671722, 0.2621055841445923, 0.2912665605545044, 0.2914130985736847], \"source_val_acc_label\": [0.6424348958333334, 0.6815494791666666, 0.7036653645833333, 0.7254361979166667, 0.7312109375, 0.7360872395833333, 0.7358138020833334, 0.7372330729166666, 0.7324869791666667, 0.7284700520833334, 0.7330078125], \"target_val_acc_label\": [0.9701785714285714, 0.9645, 0.9690357142857143, 0.97525, 0.9756071428571429, 0.9797142857142858, 0.9810357142857142, 0.9805, 0.9803928571428572, 0.9793928571428572, 0.9804285714285714]}, \"dataset_metrics\": {\"source\": {\"train\": {\"n_unique_x\": 896000, \"n_unique_y\": 16, \"n_batch/episode\": 33600}, \"val\": {\"n_unique_x\": 192000, \"n_unique_y\": 16, \"n_batch/episode\": 4800}, \"test\": {\"n_unique_x\": 192000, \"n_unique_y\": 16, \"n_batch/episode\": 4800}}, \"target\": {\"train\": {\"n_unique_x\": 175158, \"n_unique_y\": 58, \"n_batch/episode\": 6317}, \"val\": {\"n_unique_x\": 37216, \"n_unique_y\": 58, \"n_batch/episode\": 875}, \"test\": {\"n_unique_x\": 37596, \"n_unique_y\": 58, \"n_batch/episode\": 886}}}}'"
      ]
     },
     "execution_count": 29,
     "metadata": {},
     "output_type": "execute_result"
    }
   ],
   "source": [
    "json.dumps(experiment)"
   ]
  }
 ],
 "metadata": {
  "celltoolbar": "Tags",
  "kernelspec": {
   "display_name": "Python 3 (ipykernel)",
   "language": "python",
   "name": "python3"
  },
  "language_info": {
   "codemirror_mode": {
    "name": "ipython",
    "version": 3
   },
   "file_extension": ".py",
   "mimetype": "text/x-python",
   "name": "python",
   "nbconvert_exporter": "python",
   "pygments_lexer": "ipython3",
   "version": "3.8.12"
  },
  "papermill": {
   "default_parameters": {},
   "duration": 13299.863852,
   "end_time": "2022-03-22T04:21:42.930822",
   "environment_variables": {},
   "exception": null,
   "input_path": "/root/csc500-main/csc500-notebooks/templates/tl_ptn_template.ipynb",
   "output_path": "trial.ipynb",
   "parameters": {
    "parameters": {
     "BEST_MODEL_PATH": "./best_model.pth",
     "NUM_LOGS_PER_EPOCH": 10,
     "criteria_for_best": "target_accuracy",
     "dataset_seed": 420,
     "datasets": [
      {
       "domain_prefix": "CORES_",
       "domains": [
        1,
        2,
        3,
        4,
        5
       ],
       "episode_transforms": [],
       "labels": [
        "1-10.",
        "1-11.",
        "1-15.",
        "1-16.",
        "1-17.",
        "1-18.",
        "1-19.",
        "10-4.",
        "10-7.",
        "11-1.",
        "11-14.",
        "11-17.",
        "11-20.",
        "11-7.",
        "13-20.",
        "13-8.",
        "14-10.",
        "14-11.",
        "14-14.",
        "14-7.",
        "15-1.",
        "15-20.",
        "16-1.",
        "16-16.",
        "17-10.",
        "17-11.",
        "17-2.",
        "19-1.",
        "19-16.",
        "19-19.",
        "19-20.",
        "19-3.",
        "2-10.",
        "2-11.",
        "2-17.",
        "2-18.",
        "2-20.",
        "2-3.",
        "2-4.",
        "2-5.",
        "2-6.",
        "2-7.",
        "2-8.",
        "3-13.",
        "3-18.",
        "3-3.",
        "4-1.",
        "4-10.",
        "4-11.",
        "4-19.",
        "5-5.",
        "6-15.",
        "7-10.",
        "7-14.",
        "8-18.",
        "8-20.",
        "8-3.",
        "8-8."
       ],
       "num_examples_per_domain_per_label": -1,
       "pickle_path": "/root/csc500-main/datasets/cores.stratified_ds.2022A.pkl",
       "source_or_target_dataset": "target",
       "x_transforms": [
        "unit_power"
       ]
      },
      {
       "domain_prefix": "ORACLE.run1_",
       "domains": [
        32,
        38,
        8,
        44,
        14,
        50,
        20,
        26
       ],
       "episode_transforms": [],
       "labels": [
        "3123D52",
        "3123D65",
        "3123D79",
        "3123D80",
        "3123D54",
        "3123D70",
        "3123D7B",
        "3123D89",
        "3123D58",
        "3123D76",
        "3123D7D",
        "3123EFE",
        "3123D64",
        "3123D78",
        "3123D7E",
        "3124E4A"
       ],
       "num_examples_per_domain_per_label": 10000,
       "pickle_path": "/root/csc500-main/datasets/oracle.Run1_10kExamples_stratified_ds.2022A.pkl",
       "source_or_target_dataset": "source",
       "x_transforms": [
        "unit_power"
       ]
      }
     ],
     "device": "cuda",
     "experiment_name": "tl_1v2:cores-oracle.run1",
     "lr": 0.0001,
     "n_epoch": 50,
     "n_query": 2,
     "n_shot": 3,
     "n_way": 16,
     "patience": 3,
     "seed": 420,
     "test_k_factor": 2,
     "torch_default_dtype": "torch.float32",
     "train_k_factor": 3,
     "val_k_factor": 2,
     "x_net": [
      {
       "class": "nnReshape",
       "kargs": {
        "shape": [
         -1,
         1,
         2,
         256
        ]
       }
      },
      {
       "class": "Conv2d",
       "kargs": {
        "bias": false,
        "in_channels": 1,
        "kernel_size": [
         1,
         7
        ],
        "out_channels": 256,
        "padding": [
         0,
         3
        ]
       }
      },
      {
       "class": "ReLU",
       "kargs": {
        "inplace": true
       }
      },
      {
       "class": "BatchNorm2d",
       "kargs": {
        "num_features": 256
       }
      },
      {
       "class": "Conv2d",
       "kargs": {
        "bias": true,
        "in_channels": 256,
        "kernel_size": [
         2,
         7
        ],
        "out_channels": 80,
        "padding": [
         0,
         3
        ]
       }
      },
      {
       "class": "ReLU",
       "kargs": {
        "inplace": true
       }
      },
      {
       "class": "BatchNorm2d",
       "kargs": {
        "num_features": 80
       }
      },
      {
       "class": "Flatten",
       "kargs": {}
      },
      {
       "class": "Linear",
       "kargs": {
        "in_features": 20480,
        "out_features": 256
       }
      },
      {
       "class": "ReLU",
       "kargs": {
        "inplace": true
       }
      },
      {
       "class": "BatchNorm1d",
       "kargs": {
        "num_features": 256
       }
      },
      {
       "class": "Linear",
       "kargs": {
        "in_features": 256,
        "out_features": 256
       }
      }
     ]
    }
   },
   "start_time": "2022-03-22T00:40:03.066970",
   "version": "2.3.4"
  }
 },
 "nbformat": 4,
 "nbformat_minor": 5
}