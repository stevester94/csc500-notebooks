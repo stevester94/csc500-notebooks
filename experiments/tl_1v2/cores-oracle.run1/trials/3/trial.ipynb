{
 "cells": [
  {
   "cell_type": "markdown",
   "id": "9fea5f46",
   "metadata": {
    "papermill": {
     "duration": 0.029674,
     "end_time": "2022-03-21T05:22:24.379156",
     "exception": false,
     "start_time": "2022-03-21T05:22:24.349482",
     "status": "completed"
    },
    "tags": []
   },
   "source": [
    "# Transfer Learning Template"
   ]
  },
  {
   "cell_type": "code",
   "execution_count": 1,
   "id": "0902182a",
   "metadata": {
    "execution": {
     "iopub.execute_input": "2022-03-21T05:22:24.442352Z",
     "iopub.status.busy": "2022-03-21T05:22:24.441474Z",
     "iopub.status.idle": "2022-03-21T05:22:26.342730Z",
     "shell.execute_reply": "2022-03-21T05:22:26.341840Z"
    },
    "papermill": {
     "duration": 1.941108,
     "end_time": "2022-03-21T05:22:26.342917",
     "exception": false,
     "start_time": "2022-03-21T05:22:24.401809",
     "status": "completed"
    },
    "tags": []
   },
   "outputs": [],
   "source": [
    "%load_ext autoreload\n",
    "%autoreload 2\n",
    "%matplotlib inline\n",
    "\n",
    "    \n",
    "import os, json, sys, time, random\n",
    "import numpy as np\n",
    "import torch\n",
    "from torch.optim import Adam\n",
    "from  easydict import EasyDict\n",
    "import matplotlib.pyplot as plt\n",
    "\n",
    "from steves_models.steves_ptn import Steves_Prototypical_Network\n",
    "\n",
    "from steves_utils.lazy_iterable_wrapper import Lazy_Iterable_Wrapper\n",
    "from steves_utils.iterable_aggregator import Iterable_Aggregator\n",
    "from steves_utils.ptn_train_eval_test_jig import  PTN_Train_Eval_Test_Jig\n",
    "from steves_utils.torch_sequential_builder import build_sequential\n",
    "from steves_utils.torch_utils import get_dataset_metrics, ptn_confusion_by_domain_over_dataloader\n",
    "from steves_utils.utils_v2 import (per_domain_accuracy_from_confusion, get_datasets_base_path)\n",
    "from steves_utils.PTN.utils import independent_accuracy_assesment\n",
    "\n",
    "from torch.utils.data import DataLoader\n",
    "\n",
    "from steves_utils.stratified_dataset.episodic_accessor import Episodic_Accessor_Factory\n",
    "\n",
    "from steves_utils.ptn_do_report import (\n",
    "    get_loss_curve,\n",
    "    get_results_table,\n",
    "    get_parameters_table,\n",
    "    get_domain_accuracies,\n",
    ")\n",
    "\n",
    "from steves_utils.transforms import get_chained_transform"
   ]
  },
  {
   "cell_type": "markdown",
   "id": "41c840b4",
   "metadata": {
    "papermill": {
     "duration": 0.019342,
     "end_time": "2022-03-21T05:22:26.387121",
     "exception": false,
     "start_time": "2022-03-21T05:22:26.367779",
     "status": "completed"
    },
    "tags": []
   },
   "source": [
    "# Allowed Parameters\n",
    "These are allowed parameters, not defaults\n",
    "Each of these values need to be present in the injected parameters (the notebook will raise an exception if they are not present)\n",
    "\n",
    "Papermill uses the cell tag \"parameters\" to inject the real parameters below this cell.\n",
    "Enable tags to see what I mean"
   ]
  },
  {
   "cell_type": "code",
   "execution_count": 2,
   "id": "fd44eb83",
   "metadata": {
    "execution": {
     "iopub.execute_input": "2022-03-21T05:22:26.429373Z",
     "iopub.status.busy": "2022-03-21T05:22:26.428986Z",
     "iopub.status.idle": "2022-03-21T05:22:26.448496Z",
     "shell.execute_reply": "2022-03-21T05:22:26.447732Z"
    },
    "papermill": {
     "duration": 0.042267,
     "end_time": "2022-03-21T05:22:26.448652",
     "exception": false,
     "start_time": "2022-03-21T05:22:26.406385",
     "status": "completed"
    },
    "tags": []
   },
   "outputs": [],
   "source": [
    "required_parameters = {\n",
    "    \"experiment_name\",\n",
    "    \"lr\",\n",
    "    \"device\",\n",
    "    \"seed\",\n",
    "    \"dataset_seed\",\n",
    "    \"n_shot\",\n",
    "    \"n_query\",\n",
    "    \"n_way\",\n",
    "    \"train_k_factor\",\n",
    "    \"val_k_factor\",\n",
    "    \"test_k_factor\",\n",
    "    \"n_epoch\",\n",
    "    \"patience\",\n",
    "    \"criteria_for_best\",\n",
    "    \"x_net\",\n",
    "    \"datasets\",\n",
    "    \"torch_default_dtype\",\n",
    "    \"NUM_LOGS_PER_EPOCH\",\n",
    "    \"BEST_MODEL_PATH\",\n",
    "    \"x_shape\",\n",
    "}"
   ]
  },
  {
   "cell_type": "code",
   "execution_count": 3,
   "id": "fa3f0049",
   "metadata": {
    "execution": {
     "iopub.execute_input": "2022-03-21T05:22:26.505550Z",
     "iopub.status.busy": "2022-03-21T05:22:26.504635Z",
     "iopub.status.idle": "2022-03-21T05:22:26.525547Z",
     "shell.execute_reply": "2022-03-21T05:22:26.524729Z"
    },
    "papermill": {
     "duration": 0.050741,
     "end_time": "2022-03-21T05:22:26.525699",
     "exception": false,
     "start_time": "2022-03-21T05:22:26.474958",
     "status": "completed"
    },
    "tags": [
     "parameters"
    ]
   },
   "outputs": [],
   "source": [
    "from steves_utils.CORES.utils import (\n",
    "    ALL_NODES,\n",
    "    ALL_NODES_MINIMUM_1000_EXAMPLES,\n",
    "    ALL_DAYS\n",
    ")\n",
    "\n",
    "from steves_utils.ORACLE.utils_v2 import (\n",
    "    ALL_DISTANCES_FEET_NARROWED,\n",
    "    ALL_RUNS,\n",
    "    ALL_SERIAL_NUMBERS,\n",
    ")\n",
    "\n",
    "standalone_parameters = {}\n",
    "standalone_parameters[\"experiment_name\"] = \"STANDALONE PTN\"\n",
    "standalone_parameters[\"lr\"] = 0.001\n",
    "standalone_parameters[\"device\"] = \"cuda\"\n",
    "\n",
    "standalone_parameters[\"seed\"] = 1337\n",
    "standalone_parameters[\"dataset_seed\"] = 1337\n",
    "\n",
    "standalone_parameters[\"n_way\"] = 8\n",
    "standalone_parameters[\"n_shot\"] = 3\n",
    "standalone_parameters[\"n_query\"]  = 2\n",
    "standalone_parameters[\"train_k_factor\"] = 1\n",
    "standalone_parameters[\"val_k_factor\"] = 2\n",
    "standalone_parameters[\"test_k_factor\"] = 2\n",
    "\n",
    "\n",
    "standalone_parameters[\"n_epoch\"] = 50\n",
    "\n",
    "standalone_parameters[\"patience\"] = 10\n",
    "standalone_parameters[\"criteria_for_best\"] = \"source_loss\"\n",
    "\n",
    "standalone_parameters[\"datasets\"] = [\n",
    "    {\n",
    "        \"labels\": ALL_SERIAL_NUMBERS,\n",
    "        \"domains\": ALL_DISTANCES_FEET_NARROWED,\n",
    "        \"num_examples_per_domain_per_label\": 100,\n",
    "        \"pickle_path\": os.path.join(get_datasets_base_path(), \"oracle.Run1_framed_2000Examples_stratified_ds.2022A.pkl\"),\n",
    "        \"source_or_target_dataset\": \"source\",\n",
    "        \"x_transforms\": [\"unit_mag\", \"minus_two\"],\n",
    "        \"episode_transforms\": [],\n",
    "        \"domain_prefix\": \"ORACLE_\"\n",
    "    },\n",
    "    {\n",
    "        \"labels\": ALL_NODES,\n",
    "        \"domains\": ALL_DAYS,\n",
    "        \"num_examples_per_domain_per_label\": 100,\n",
    "        \"pickle_path\": os.path.join(get_datasets_base_path(), \"cores.stratified_ds.2022A.pkl\"),\n",
    "        \"source_or_target_dataset\": \"target\",\n",
    "        \"x_transforms\": [\"unit_power\", \"times_zero\"],\n",
    "        \"episode_transforms\": [],\n",
    "        \"domain_prefix\": \"CORES_\"\n",
    "    }   \n",
    "]\n",
    "\n",
    "standalone_parameters[\"torch_default_dtype\"] = \"torch.float32\" \n",
    "\n",
    "\n",
    "\n",
    "standalone_parameters[\"x_net\"] =     [\n",
    "    {\"class\": \"nnReshape\", \"kargs\": {\"shape\":[-1, 1, 2, 256]}},\n",
    "    {\"class\": \"Conv2d\", \"kargs\": { \"in_channels\":1, \"out_channels\":256, \"kernel_size\":(1,7), \"bias\":False, \"padding\":(0,3), },},\n",
    "    {\"class\": \"ReLU\", \"kargs\": {\"inplace\": True}},\n",
    "    {\"class\": \"BatchNorm2d\", \"kargs\": {\"num_features\":256}},\n",
    "\n",
    "    {\"class\": \"Conv2d\", \"kargs\": { \"in_channels\":256, \"out_channels\":80, \"kernel_size\":(2,7), \"bias\":True, \"padding\":(0,3), },},\n",
    "    {\"class\": \"ReLU\", \"kargs\": {\"inplace\": True}},\n",
    "    {\"class\": \"BatchNorm2d\", \"kargs\": {\"num_features\":80}},\n",
    "    {\"class\": \"Flatten\", \"kargs\": {}},\n",
    "\n",
    "    {\"class\": \"Linear\", \"kargs\": {\"in_features\": 80*256, \"out_features\": 256}}, # 80 units per IQ pair\n",
    "    {\"class\": \"ReLU\", \"kargs\": {\"inplace\": True}},\n",
    "    {\"class\": \"BatchNorm1d\", \"kargs\": {\"num_features\":256}},\n",
    "\n",
    "    {\"class\": \"Linear\", \"kargs\": {\"in_features\": 256, \"out_features\": 256}},\n",
    "]\n",
    "\n",
    "# Parameters relevant to results\n",
    "# These parameters will basically never need to change\n",
    "standalone_parameters[\"NUM_LOGS_PER_EPOCH\"] = 10\n",
    "standalone_parameters[\"BEST_MODEL_PATH\"] = \"./best_model.pth\"\n",
    "\n",
    "\n",
    "\n",
    "\n"
   ]
  },
  {
   "cell_type": "code",
   "execution_count": 4,
   "id": "263504bc",
   "metadata": {
    "execution": {
     "iopub.execute_input": "2022-03-21T05:22:26.588964Z",
     "iopub.status.busy": "2022-03-21T05:22:26.578082Z",
     "iopub.status.idle": "2022-03-21T05:22:26.608174Z",
     "shell.execute_reply": "2022-03-21T05:22:26.607339Z"
    },
    "papermill": {
     "duration": 0.057718,
     "end_time": "2022-03-21T05:22:26.608326",
     "exception": false,
     "start_time": "2022-03-21T05:22:26.550608",
     "status": "completed"
    },
    "tags": [
     "injected-parameters"
    ]
   },
   "outputs": [],
   "source": [
    "# Parameters\n",
    "parameters = {\n",
    "    \"experiment_name\": \"tl_1v2:cores-oracle.run1\",\n",
    "    \"device\": \"cuda\",\n",
    "    \"lr\": 0.0001,\n",
    "    \"n_shot\": 3,\n",
    "    \"n_query\": 2,\n",
    "    \"train_k_factor\": 3,\n",
    "    \"val_k_factor\": 2,\n",
    "    \"test_k_factor\": 2,\n",
    "    \"torch_default_dtype\": \"torch.float32\",\n",
    "    \"n_epoch\": 50,\n",
    "    \"patience\": 3,\n",
    "    \"criteria_for_best\": \"target_accuracy\",\n",
    "    \"x_net\": [\n",
    "        {\"class\": \"nnReshape\", \"kargs\": {\"shape\": [-1, 1, 2, 256]}},\n",
    "        {\n",
    "            \"class\": \"Conv2d\",\n",
    "            \"kargs\": {\n",
    "                \"in_channels\": 1,\n",
    "                \"out_channels\": 256,\n",
    "                \"kernel_size\": [1, 7],\n",
    "                \"bias\": False,\n",
    "                \"padding\": [0, 3],\n",
    "            },\n",
    "        },\n",
    "        {\"class\": \"ReLU\", \"kargs\": {\"inplace\": True}},\n",
    "        {\"class\": \"BatchNorm2d\", \"kargs\": {\"num_features\": 256}},\n",
    "        {\n",
    "            \"class\": \"Conv2d\",\n",
    "            \"kargs\": {\n",
    "                \"in_channels\": 256,\n",
    "                \"out_channels\": 80,\n",
    "                \"kernel_size\": [2, 7],\n",
    "                \"bias\": True,\n",
    "                \"padding\": [0, 3],\n",
    "            },\n",
    "        },\n",
    "        {\"class\": \"ReLU\", \"kargs\": {\"inplace\": True}},\n",
    "        {\"class\": \"BatchNorm2d\", \"kargs\": {\"num_features\": 80}},\n",
    "        {\"class\": \"Flatten\", \"kargs\": {}},\n",
    "        {\"class\": \"Linear\", \"kargs\": {\"in_features\": 20480, \"out_features\": 256}},\n",
    "        {\"class\": \"ReLU\", \"kargs\": {\"inplace\": True}},\n",
    "        {\"class\": \"BatchNorm1d\", \"kargs\": {\"num_features\": 256}},\n",
    "        {\"class\": \"Linear\", \"kargs\": {\"in_features\": 256, \"out_features\": 256}},\n",
    "    ],\n",
    "    \"NUM_LOGS_PER_EPOCH\": 10,\n",
    "    \"BEST_MODEL_PATH\": \"./best_model.pth\",\n",
    "    \"n_way\": 16,\n",
    "    \"datasets\": [\n",
    "        {\n",
    "            \"labels\": [\n",
    "                \"1-10.\",\n",
    "                \"1-11.\",\n",
    "                \"1-15.\",\n",
    "                \"1-16.\",\n",
    "                \"1-17.\",\n",
    "                \"1-18.\",\n",
    "                \"1-19.\",\n",
    "                \"10-4.\",\n",
    "                \"10-7.\",\n",
    "                \"11-1.\",\n",
    "                \"11-14.\",\n",
    "                \"11-17.\",\n",
    "                \"11-20.\",\n",
    "                \"11-7.\",\n",
    "                \"13-20.\",\n",
    "                \"13-8.\",\n",
    "                \"14-10.\",\n",
    "                \"14-11.\",\n",
    "                \"14-14.\",\n",
    "                \"14-7.\",\n",
    "                \"15-1.\",\n",
    "                \"15-20.\",\n",
    "                \"16-1.\",\n",
    "                \"16-16.\",\n",
    "                \"17-10.\",\n",
    "                \"17-11.\",\n",
    "                \"17-2.\",\n",
    "                \"19-1.\",\n",
    "                \"19-16.\",\n",
    "                \"19-19.\",\n",
    "                \"19-20.\",\n",
    "                \"19-3.\",\n",
    "                \"2-10.\",\n",
    "                \"2-11.\",\n",
    "                \"2-17.\",\n",
    "                \"2-18.\",\n",
    "                \"2-20.\",\n",
    "                \"2-3.\",\n",
    "                \"2-4.\",\n",
    "                \"2-5.\",\n",
    "                \"2-6.\",\n",
    "                \"2-7.\",\n",
    "                \"2-8.\",\n",
    "                \"3-13.\",\n",
    "                \"3-18.\",\n",
    "                \"3-3.\",\n",
    "                \"4-1.\",\n",
    "                \"4-10.\",\n",
    "                \"4-11.\",\n",
    "                \"4-19.\",\n",
    "                \"5-5.\",\n",
    "                \"6-15.\",\n",
    "                \"7-10.\",\n",
    "                \"7-14.\",\n",
    "                \"8-18.\",\n",
    "                \"8-20.\",\n",
    "                \"8-3.\",\n",
    "                \"8-8.\",\n",
    "            ],\n",
    "            \"domains\": [1, 2, 3, 4, 5],\n",
    "            \"num_examples_per_domain_per_label\": -1,\n",
    "            \"pickle_path\": \"/root/csc500-main/datasets/cores.stratified_ds.2022A.pkl\",\n",
    "            \"source_or_target_dataset\": \"target\",\n",
    "            \"x_transforms\": [\"unit_power\"],\n",
    "            \"episode_transforms\": [],\n",
    "            \"domain_prefix\": \"CORES_\",\n",
    "        },\n",
    "        {\n",
    "            \"labels\": [\n",
    "                \"3123D52\",\n",
    "                \"3123D65\",\n",
    "                \"3123D79\",\n",
    "                \"3123D80\",\n",
    "                \"3123D54\",\n",
    "                \"3123D70\",\n",
    "                \"3123D7B\",\n",
    "                \"3123D89\",\n",
    "                \"3123D58\",\n",
    "                \"3123D76\",\n",
    "                \"3123D7D\",\n",
    "                \"3123EFE\",\n",
    "                \"3123D64\",\n",
    "                \"3123D78\",\n",
    "                \"3123D7E\",\n",
    "                \"3124E4A\",\n",
    "            ],\n",
    "            \"domains\": [32, 38, 8, 44, 14, 50, 20, 26],\n",
    "            \"num_examples_per_domain_per_label\": 10000,\n",
    "            \"pickle_path\": \"/root/csc500-main/datasets/oracle.Run1_10kExamples_stratified_ds.2022A.pkl\",\n",
    "            \"source_or_target_dataset\": \"source\",\n",
    "            \"x_transforms\": [\"unit_power\"],\n",
    "            \"episode_transforms\": [],\n",
    "            \"domain_prefix\": \"ORACLE.run1_\",\n",
    "        },\n",
    "    ],\n",
    "    \"dataset_seed\": 1337,\n",
    "    \"seed\": 1337,\n",
    "}\n"
   ]
  },
  {
   "cell_type": "code",
   "execution_count": 5,
   "id": "8fa1cc33",
   "metadata": {
    "execution": {
     "iopub.execute_input": "2022-03-21T05:22:26.660490Z",
     "iopub.status.busy": "2022-03-21T05:22:26.659913Z",
     "iopub.status.idle": "2022-03-21T05:22:26.680869Z",
     "shell.execute_reply": "2022-03-21T05:22:26.680055Z"
    },
    "papermill": {
     "duration": 0.048361,
     "end_time": "2022-03-21T05:22:26.681023",
     "exception": false,
     "start_time": "2022-03-21T05:22:26.632662",
     "status": "completed"
    },
    "tags": []
   },
   "outputs": [],
   "source": [
    "# Set this to True if you want to run this template directly\n",
    "STANDALONE = False\n",
    "if STANDALONE:\n",
    "    print(\"parameters not injected, running with standalone_parameters\")\n",
    "    parameters = standalone_parameters\n",
    "\n",
    "if not 'parameters' in locals() and not 'parameters' in globals():\n",
    "    raise Exception(\"Parameter injection failed\")\n",
    "\n",
    "#Use an easy dict for all the parameters\n",
    "p = EasyDict(parameters)\n",
    "\n",
    "if \"x_shape\" not in p:\n",
    "    p.x_shape = [2,256] # Default to this if we dont supply x_shape\n",
    "\n",
    "\n",
    "supplied_keys = set(p.keys())\n",
    "\n",
    "if  supplied_keys != required_parameters:\n",
    "    print(\"Parameters are incorrect\")\n",
    "    if len(supplied_keys - required_parameters)>0: print(\"Shouldn't have:\", str(supplied_keys - required_parameters))\n",
    "    if len(required_parameters - supplied_keys)>0: print(\"Need to have:\", str(required_parameters - supplied_keys))\n",
    "    raise RuntimeError(\"Parameters are incorrect\")"
   ]
  },
  {
   "cell_type": "code",
   "execution_count": 6,
   "id": "3a028d58",
   "metadata": {
    "execution": {
     "iopub.execute_input": "2022-03-21T05:22:26.734340Z",
     "iopub.status.busy": "2022-03-21T05:22:26.733776Z",
     "iopub.status.idle": "2022-03-21T05:22:26.755730Z",
     "shell.execute_reply": "2022-03-21T05:22:26.754886Z"
    },
    "papermill": {
     "duration": 0.046864,
     "end_time": "2022-03-21T05:22:26.755895",
     "exception": false,
     "start_time": "2022-03-21T05:22:26.709031",
     "status": "completed"
    },
    "tags": []
   },
   "outputs": [],
   "source": [
    "###################################\n",
    "# Set the RNGs and make it all deterministic\n",
    "###################################\n",
    "np.random.seed(p.seed)\n",
    "random.seed(p.seed)\n",
    "torch.manual_seed(p.seed)\n",
    "\n",
    "torch.use_deterministic_algorithms(True) "
   ]
  },
  {
   "cell_type": "code",
   "execution_count": 7,
   "id": "b691acf6",
   "metadata": {
    "execution": {
     "iopub.execute_input": "2022-03-21T05:22:26.807075Z",
     "iopub.status.busy": "2022-03-21T05:22:26.806689Z",
     "iopub.status.idle": "2022-03-21T05:22:26.829766Z",
     "shell.execute_reply": "2022-03-21T05:22:26.828956Z"
    },
    "papermill": {
     "duration": 0.047139,
     "end_time": "2022-03-21T05:22:26.829919",
     "exception": false,
     "start_time": "2022-03-21T05:22:26.782780",
     "status": "completed"
    },
    "tags": []
   },
   "outputs": [],
   "source": [
    "###########################################\n",
    "# The stratified datasets honor this\n",
    "###########################################\n",
    "torch.set_default_dtype(eval(p.torch_default_dtype))"
   ]
  },
  {
   "cell_type": "code",
   "execution_count": 8,
   "id": "b5fba671",
   "metadata": {
    "execution": {
     "iopub.execute_input": "2022-03-21T05:22:26.878035Z",
     "iopub.status.busy": "2022-03-21T05:22:26.877662Z",
     "iopub.status.idle": "2022-03-21T05:22:26.928675Z",
     "shell.execute_reply": "2022-03-21T05:22:26.927853Z"
    },
    "papermill": {
     "duration": 0.073594,
     "end_time": "2022-03-21T05:22:26.928827",
     "exception": false,
     "start_time": "2022-03-21T05:22:26.855233",
     "status": "completed"
    },
    "tags": []
   },
   "outputs": [],
   "source": [
    "###################################\n",
    "# Build the network(s)\n",
    "# Note: It's critical to do this AFTER setting the RNG\n",
    "###################################\n",
    "x_net = build_sequential(p.x_net)"
   ]
  },
  {
   "cell_type": "code",
   "execution_count": 9,
   "id": "5d7e61cc",
   "metadata": {
    "execution": {
     "iopub.execute_input": "2022-03-21T05:22:26.979690Z",
     "iopub.status.busy": "2022-03-21T05:22:26.979304Z",
     "iopub.status.idle": "2022-03-21T05:22:27.005653Z",
     "shell.execute_reply": "2022-03-21T05:22:27.004836Z"
    },
    "papermill": {
     "duration": 0.05055,
     "end_time": "2022-03-21T05:22:27.005807",
     "exception": false,
     "start_time": "2022-03-21T05:22:26.955257",
     "status": "completed"
    },
    "tags": []
   },
   "outputs": [],
   "source": [
    "start_time_secs = time.time()"
   ]
  },
  {
   "cell_type": "code",
   "execution_count": 10,
   "id": "c6b67dfd",
   "metadata": {
    "execution": {
     "iopub.execute_input": "2022-03-21T05:22:27.055458Z",
     "iopub.status.busy": "2022-03-21T05:22:27.055028Z",
     "iopub.status.idle": "2022-03-21T05:22:27.072462Z",
     "shell.execute_reply": "2022-03-21T05:22:27.071686Z"
    },
    "papermill": {
     "duration": 0.040937,
     "end_time": "2022-03-21T05:22:27.072617",
     "exception": false,
     "start_time": "2022-03-21T05:22:27.031680",
     "status": "completed"
    },
    "tags": []
   },
   "outputs": [],
   "source": [
    "p.domains_source = []\n",
    "p.domains_target = []\n",
    "\n",
    "\n",
    "train_original_source = []\n",
    "val_original_source   = []\n",
    "test_original_source  = []\n",
    "\n",
    "train_original_target = []\n",
    "val_original_target   = []\n",
    "test_original_target  = []"
   ]
  },
  {
   "cell_type": "code",
   "execution_count": 11,
   "id": "e3d9c3d3",
   "metadata": {
    "execution": {
     "iopub.execute_input": "2022-03-21T05:22:27.128910Z",
     "iopub.status.busy": "2022-03-21T05:22:27.121335Z",
     "iopub.status.idle": "2022-03-21T05:22:27.141429Z",
     "shell.execute_reply": "2022-03-21T05:22:27.140617Z"
    },
    "papermill": {
     "duration": 0.042332,
     "end_time": "2022-03-21T05:22:27.141583",
     "exception": false,
     "start_time": "2022-03-21T05:22:27.099251",
     "status": "completed"
    },
    "tags": []
   },
   "outputs": [],
   "source": [
    "# global_x_transform_func = lambda x: normalize(x.to(torch.get_default_dtype()), \"unit_power\") # unit_power, unit_mag\n",
    "# global_x_transform_func = lambda x: normalize(x, \"unit_power\") # unit_power, unit_mag"
   ]
  },
  {
   "cell_type": "code",
   "execution_count": 12,
   "id": "acb78fd2",
   "metadata": {
    "execution": {
     "iopub.execute_input": "2022-03-21T05:22:27.199334Z",
     "iopub.status.busy": "2022-03-21T05:22:27.198004Z",
     "iopub.status.idle": "2022-03-21T05:22:27.216545Z",
     "shell.execute_reply": "2022-03-21T05:22:27.215792Z"
    },
    "papermill": {
     "duration": 0.049873,
     "end_time": "2022-03-21T05:22:27.216698",
     "exception": false,
     "start_time": "2022-03-21T05:22:27.166825",
     "status": "completed"
    },
    "tags": []
   },
   "outputs": [],
   "source": [
    "def add_dataset(\n",
    "    labels,\n",
    "    domains,\n",
    "    pickle_path,\n",
    "    x_transforms,\n",
    "    episode_transforms,\n",
    "    domain_prefix,\n",
    "    num_examples_per_domain_per_label,\n",
    "    source_or_target_dataset:str,\n",
    "    iterator_seed=p.seed,\n",
    "    dataset_seed=p.dataset_seed,\n",
    "    n_shot=p.n_shot,\n",
    "    n_way=p.n_way,\n",
    "    n_query=p.n_query,\n",
    "    train_val_test_k_factors=(p.train_k_factor,p.val_k_factor,p.test_k_factor),\n",
    "):\n",
    "   \n",
    "    if x_transforms == []: x_transform = None\n",
    "    else: x_transform = get_chained_transform(x_transforms)\n",
    "    \n",
    "    if episode_transforms == []: episode_transform = None\n",
    "    else: raise Exception(\"episode_transforms not implemented\")\n",
    "    \n",
    "    episode_transform = lambda tup, _prefix=domain_prefix: (_prefix + str(tup[0]), tup[1])\n",
    "\n",
    "\n",
    "    eaf = Episodic_Accessor_Factory(\n",
    "        labels=labels,\n",
    "        domains=domains,\n",
    "        num_examples_per_domain_per_label=num_examples_per_domain_per_label,\n",
    "        iterator_seed=iterator_seed,\n",
    "        dataset_seed=dataset_seed,\n",
    "        n_shot=n_shot,\n",
    "        n_way=n_way,\n",
    "        n_query=n_query,\n",
    "        train_val_test_k_factors=train_val_test_k_factors,\n",
    "        pickle_path=pickle_path,\n",
    "        x_transform_func=x_transform,\n",
    "    )\n",
    "\n",
    "    train, val, test = eaf.get_train(), eaf.get_val(), eaf.get_test()\n",
    "    train = Lazy_Iterable_Wrapper(train, episode_transform)\n",
    "    val = Lazy_Iterable_Wrapper(val, episode_transform)\n",
    "    test = Lazy_Iterable_Wrapper(test, episode_transform)\n",
    "\n",
    "    if source_or_target_dataset==\"source\":\n",
    "        train_original_source.append(train)\n",
    "        val_original_source.append(val)\n",
    "        test_original_source.append(test)\n",
    "\n",
    "        p.domains_source.extend(\n",
    "            [domain_prefix + str(u) for u in domains]\n",
    "        )\n",
    "    elif source_or_target_dataset==\"target\":\n",
    "        train_original_target.append(train)\n",
    "        val_original_target.append(val)\n",
    "        test_original_target.append(test)\n",
    "        p.domains_target.extend(\n",
    "            [domain_prefix + str(u) for u in domains]\n",
    "        )\n",
    "    else:\n",
    "        raise Exception(f\"invalid source_or_target_dataset: {source_or_target_dataset}\")\n",
    "    "
   ]
  },
  {
   "cell_type": "code",
   "execution_count": 13,
   "id": "fe266617",
   "metadata": {
    "execution": {
     "iopub.execute_input": "2022-03-21T05:22:27.278394Z",
     "iopub.status.busy": "2022-03-21T05:22:27.276309Z",
     "iopub.status.idle": "2022-03-21T05:24:36.468866Z",
     "shell.execute_reply": "2022-03-21T05:24:36.468095Z"
    },
    "papermill": {
     "duration": 129.225447,
     "end_time": "2022-03-21T05:24:36.469044",
     "exception": false,
     "start_time": "2022-03-21T05:22:27.243597",
     "status": "completed"
    },
    "tags": []
   },
   "outputs": [],
   "source": [
    "for ds in p.datasets:\n",
    "    add_dataset(**ds)"
   ]
  },
  {
   "cell_type": "code",
   "execution_count": 14,
   "id": "b90d65ac",
   "metadata": {
    "execution": {
     "iopub.execute_input": "2022-03-21T05:24:36.519848Z",
     "iopub.status.busy": "2022-03-21T05:24:36.519458Z",
     "iopub.status.idle": "2022-03-21T05:24:36.546387Z",
     "shell.execute_reply": "2022-03-21T05:24:36.545635Z"
    },
    "papermill": {
     "duration": 0.051563,
     "end_time": "2022-03-21T05:24:36.546542",
     "exception": false,
     "start_time": "2022-03-21T05:24:36.494979",
     "status": "completed"
    },
    "tags": []
   },
   "outputs": [],
   "source": [
    "# from steves_utils.CORES.utils import (\n",
    "#     ALL_NODES,\n",
    "#     ALL_NODES_MINIMUM_1000_EXAMPLES,\n",
    "#     ALL_DAYS\n",
    "# )\n",
    "\n",
    "# add_dataset(\n",
    "#     labels=ALL_NODES,\n",
    "#     domains = ALL_DAYS,\n",
    "#     num_examples_per_domain_per_label=100,\n",
    "#     pickle_path=os.path.join(get_datasets_base_path(), \"cores.stratified_ds.2022A.pkl\"),\n",
    "#     source_or_target_dataset=\"target\",\n",
    "#     x_transform_func=global_x_transform_func,\n",
    "#     domain_modifier=lambda u: f\"cores_{u}\"\n",
    "# )"
   ]
  },
  {
   "cell_type": "code",
   "execution_count": 15,
   "id": "76db484d",
   "metadata": {
    "execution": {
     "iopub.execute_input": "2022-03-21T05:24:36.600236Z",
     "iopub.status.busy": "2022-03-21T05:24:36.595931Z",
     "iopub.status.idle": "2022-03-21T05:24:36.618428Z",
     "shell.execute_reply": "2022-03-21T05:24:36.617605Z"
    },
    "papermill": {
     "duration": 0.045491,
     "end_time": "2022-03-21T05:24:36.618581",
     "exception": false,
     "start_time": "2022-03-21T05:24:36.573090",
     "status": "completed"
    },
    "tags": []
   },
   "outputs": [],
   "source": [
    "# from steves_utils.ORACLE.utils_v2 import (\n",
    "#     ALL_DISTANCES_FEET,\n",
    "#     ALL_RUNS,\n",
    "#     ALL_SERIAL_NUMBERS,\n",
    "# )\n",
    "\n",
    "\n",
    "# add_dataset(\n",
    "#     labels=ALL_SERIAL_NUMBERS,\n",
    "#     domains = list(set(ALL_DISTANCES_FEET) - {2,62}),\n",
    "#     num_examples_per_domain_per_label=100,\n",
    "#     pickle_path=os.path.join(get_datasets_base_path(), \"oracle.Run2_framed_2000Examples_stratified_ds.2022A.pkl\"),\n",
    "#     source_or_target_dataset=\"source\",\n",
    "#     x_transform_func=global_x_transform_func,\n",
    "#     domain_modifier=lambda u: f\"oracle1_{u}\"\n",
    "# )\n"
   ]
  },
  {
   "cell_type": "code",
   "execution_count": 16,
   "id": "97dea9d2",
   "metadata": {
    "execution": {
     "iopub.execute_input": "2022-03-21T05:24:36.670302Z",
     "iopub.status.busy": "2022-03-21T05:24:36.669644Z",
     "iopub.status.idle": "2022-03-21T05:24:36.690567Z",
     "shell.execute_reply": "2022-03-21T05:24:36.691244Z"
    },
    "papermill": {
     "duration": 0.04603,
     "end_time": "2022-03-21T05:24:36.691423",
     "exception": false,
     "start_time": "2022-03-21T05:24:36.645393",
     "status": "completed"
    },
    "tags": []
   },
   "outputs": [],
   "source": [
    "# from steves_utils.ORACLE.utils_v2 import (\n",
    "#     ALL_DISTANCES_FEET,\n",
    "#     ALL_RUNS,\n",
    "#     ALL_SERIAL_NUMBERS,\n",
    "# )\n",
    "\n",
    "\n",
    "# add_dataset(\n",
    "#     labels=ALL_SERIAL_NUMBERS,\n",
    "#     domains = list(set(ALL_DISTANCES_FEET) - {2,62,56}),\n",
    "#     num_examples_per_domain_per_label=100,\n",
    "#     pickle_path=os.path.join(get_datasets_base_path(), \"oracle.Run2_framed_2000Examples_stratified_ds.2022A.pkl\"),\n",
    "#     source_or_target_dataset=\"source\",\n",
    "#     x_transform_func=global_x_transform_func,\n",
    "#     domain_modifier=lambda u: f\"oracle2_{u}\"\n",
    "# )"
   ]
  },
  {
   "cell_type": "code",
   "execution_count": 17,
   "id": "6f289866",
   "metadata": {
    "execution": {
     "iopub.execute_input": "2022-03-21T05:24:36.745529Z",
     "iopub.status.busy": "2022-03-21T05:24:36.744924Z",
     "iopub.status.idle": "2022-03-21T05:24:36.767190Z",
     "shell.execute_reply": "2022-03-21T05:24:36.766438Z"
    },
    "papermill": {
     "duration": 0.046914,
     "end_time": "2022-03-21T05:24:36.767342",
     "exception": false,
     "start_time": "2022-03-21T05:24:36.720428",
     "status": "completed"
    },
    "tags": []
   },
   "outputs": [],
   "source": [
    "# add_dataset(\n",
    "#     labels=list(range(19)),\n",
    "#     domains = [0,1,2],\n",
    "#     num_examples_per_domain_per_label=100,\n",
    "#     pickle_path=os.path.join(get_datasets_base_path(), \"metehan.stratified_ds.2022A.pkl\"),\n",
    "#     source_or_target_dataset=\"target\",\n",
    "#     x_transform_func=global_x_transform_func,\n",
    "#     domain_modifier=lambda u: f\"met_{u}\"\n",
    "# )"
   ]
  },
  {
   "cell_type": "code",
   "execution_count": 18,
   "id": "86a863c3",
   "metadata": {
    "execution": {
     "iopub.execute_input": "2022-03-21T05:24:36.821852Z",
     "iopub.status.busy": "2022-03-21T05:24:36.820894Z",
     "iopub.status.idle": "2022-03-21T05:24:36.842551Z",
     "shell.execute_reply": "2022-03-21T05:24:36.841741Z"
    },
    "papermill": {
     "duration": 0.047156,
     "end_time": "2022-03-21T05:24:36.842704",
     "exception": false,
     "start_time": "2022-03-21T05:24:36.795548",
     "status": "completed"
    },
    "tags": []
   },
   "outputs": [],
   "source": [
    "# # from steves_utils.wisig.utils import (\n",
    "# #     ALL_NODES_MINIMUM_100_EXAMPLES,\n",
    "# #     ALL_NODES_MINIMUM_500_EXAMPLES,\n",
    "# #     ALL_NODES_MINIMUM_1000_EXAMPLES,\n",
    "# #     ALL_DAYS\n",
    "# # )\n",
    "\n",
    "# import steves_utils.wisig.utils as wisig\n",
    "\n",
    "\n",
    "# add_dataset(\n",
    "#     labels=wisig.ALL_NODES_MINIMUM_100_EXAMPLES,\n",
    "#     domains = wisig.ALL_DAYS,\n",
    "#     num_examples_per_domain_per_label=100,\n",
    "#     pickle_path=os.path.join(get_datasets_base_path(), \"wisig.node3-19.stratified_ds.2022A.pkl\"),\n",
    "#     source_or_target_dataset=\"target\",\n",
    "#     x_transform_func=global_x_transform_func,\n",
    "#     domain_modifier=lambda u: f\"wisig_{u}\"\n",
    "# )"
   ]
  },
  {
   "cell_type": "code",
   "execution_count": 19,
   "id": "fd5442bc",
   "metadata": {
    "execution": {
     "iopub.execute_input": "2022-03-21T05:24:36.896297Z",
     "iopub.status.busy": "2022-03-21T05:24:36.895911Z",
     "iopub.status.idle": "2022-03-21T05:24:36.915263Z",
     "shell.execute_reply": "2022-03-21T05:24:36.914445Z"
    },
    "papermill": {
     "duration": 0.045815,
     "end_time": "2022-03-21T05:24:36.915418",
     "exception": false,
     "start_time": "2022-03-21T05:24:36.869603",
     "status": "completed"
    },
    "tags": []
   },
   "outputs": [],
   "source": [
    "###################################\n",
    "# Build the dataset\n",
    "###################################\n",
    "train_original_source = Iterable_Aggregator(train_original_source, p.seed)\n",
    "val_original_source = Iterable_Aggregator(val_original_source, p.seed)\n",
    "test_original_source = Iterable_Aggregator(test_original_source, p.seed)\n",
    "\n",
    "\n",
    "train_original_target = Iterable_Aggregator(train_original_target, p.seed)\n",
    "val_original_target = Iterable_Aggregator(val_original_target, p.seed)\n",
    "test_original_target = Iterable_Aggregator(test_original_target, p.seed)\n",
    "\n",
    "# For CNN We only use X and Y. And we only train on the source.\n",
    "# Properly form the data using a transform lambda and Lazy_Iterable_Wrapper. Finally wrap them in a dataloader\n",
    "\n",
    "transform_lambda = lambda ex: ex[1] # Original is (<domain>, <episode>) so we strip down to episode only\n",
    "\n",
    "train_processed_source = Lazy_Iterable_Wrapper(train_original_source, transform_lambda)\n",
    "val_processed_source   = Lazy_Iterable_Wrapper(val_original_source, transform_lambda)\n",
    "test_processed_source  = Lazy_Iterable_Wrapper(test_original_source, transform_lambda)\n",
    "\n",
    "train_processed_target = Lazy_Iterable_Wrapper(train_original_target, transform_lambda)\n",
    "val_processed_target   = Lazy_Iterable_Wrapper(val_original_target, transform_lambda)\n",
    "test_processed_target  = Lazy_Iterable_Wrapper(test_original_target, transform_lambda)\n",
    "\n",
    "datasets = EasyDict({\n",
    "    \"source\": {\n",
    "        \"original\": {\"train\":train_original_source, \"val\":val_original_source, \"test\":test_original_source},\n",
    "        \"processed\": {\"train\":train_processed_source, \"val\":val_processed_source, \"test\":test_processed_source}\n",
    "    },\n",
    "    \"target\": {\n",
    "        \"original\": {\"train\":train_original_target, \"val\":val_original_target, \"test\":test_original_target},\n",
    "        \"processed\": {\"train\":train_processed_target, \"val\":val_processed_target, \"test\":test_processed_target}\n",
    "    },\n",
    "})"
   ]
  },
  {
   "cell_type": "code",
   "execution_count": 20,
   "id": "5b3c01fc",
   "metadata": {
    "execution": {
     "iopub.execute_input": "2022-03-21T05:24:36.970892Z",
     "iopub.status.busy": "2022-03-21T05:24:36.970325Z",
     "iopub.status.idle": "2022-03-21T05:25:10.200437Z",
     "shell.execute_reply": "2022-03-21T05:25:10.201250Z"
    },
    "papermill": {
     "duration": 33.257074,
     "end_time": "2022-03-21T05:25:10.201473",
     "exception": false,
     "start_time": "2022-03-21T05:24:36.944399",
     "status": "completed"
    },
    "tags": []
   },
   "outputs": [
    {
     "name": "stdout",
     "output_type": "stream",
     "text": [
      "{'ORACLE.run1_44', 'ORACLE.run1_8', 'ORACLE.run1_38', 'ORACLE.run1_50', 'ORACLE.run1_20', 'ORACLE.run1_32', 'ORACLE.run1_26', 'ORACLE.run1_14'}\n"
     ]
    },
    {
     "name": "stdout",
     "output_type": "stream",
     "text": [
      "{'CORES_4', 'CORES_2', 'CORES_1', 'CORES_5', 'CORES_3'}\n"
     ]
    },
    {
     "name": "stdout",
     "output_type": "stream",
     "text": [
      "tensor([[[-0.0194, -0.3495,  0.3592,  ..., -0.3301, -0.2816,  0.5631],\n",
      "         [-0.5922,  0.2330, -0.1262,  ...,  0.0680, -0.9709,  0.1359]],\n",
      "\n",
      "        [[ 0.4488, -0.7145, -1.3832,  ...,  0.4397,  0.0550, -0.3114],\n",
      "         [-0.1374, -0.4030, -1.4290,  ..., -0.4672,  0.3023, -0.5130]],\n",
      "\n",
      "        [[-0.8545, -0.4502,  0.1011,  ...,  0.1194,  1.3966,  1.0750],\n",
      "         [-0.1930,  0.3308, -0.3675,  ..., -1.4793,  0.0000, -0.0276]],\n",
      "\n",
      "        ...,\n",
      "\n",
      "        [[-0.0124,  0.6262, -0.0744,  ..., -0.8432, -1.3578,  0.8742],\n",
      "         [ 1.1904, -0.8556, -0.5270,  ..., -0.1364,  0.2046, -0.9238]],\n",
      "\n",
      "        [[-0.8808, -1.3658, -1.6402,  ..., -0.8488,  0.5489,  0.1979],\n",
      "         [ 1.1297,  0.0319,  1.1297,  ..., -0.3191,  0.7340, -0.1915]],\n",
      "\n",
      "        [[ 1.2980, -0.6931, -0.5860,  ..., -0.7876, -0.3907, -0.0063],\n",
      "         [-0.4600,  0.9704,  0.0063,  ...,  1.4997,  0.2205,  1.0460]]])\n"
     ]
    }
   ],
   "source": [
    "from steves_utils.transforms import get_average_magnitude, get_average_power\n",
    "\n",
    "print(set([u for u,_ in val_original_source]))\n",
    "print(set([u for u,_ in val_original_target]))\n",
    "\n",
    "s_x, s_y, q_x, q_y, _ = next(iter(train_processed_source))\n",
    "print(s_x)\n",
    "\n",
    "# for ds in [\n",
    "#     train_processed_source,\n",
    "#     val_processed_source,\n",
    "#     test_processed_source,\n",
    "#     train_processed_target,\n",
    "#     val_processed_target,\n",
    "#     test_processed_target\n",
    "# ]:\n",
    "#     for s_x, s_y, q_x, q_y, _ in ds:\n",
    "#         for X in (s_x, q_x):\n",
    "#             for x in X:\n",
    "#                 assert np.isclose(get_average_magnitude(x.numpy()), 1.0)\n",
    "#                 assert np.isclose(get_average_power(x.numpy()), 1.0)\n",
    "                "
   ]
  },
  {
   "cell_type": "code",
   "execution_count": 21,
   "id": "bbdacba1",
   "metadata": {
    "execution": {
     "iopub.execute_input": "2022-03-21T05:25:10.273180Z",
     "iopub.status.busy": "2022-03-21T05:25:10.272322Z",
     "iopub.status.idle": "2022-03-21T05:25:10.482842Z",
     "shell.execute_reply": "2022-03-21T05:25:10.483141Z"
    },
    "papermill": {
     "duration": 0.252923,
     "end_time": "2022-03-21T05:25:10.483265",
     "exception": false,
     "start_time": "2022-03-21T05:25:10.230342",
     "status": "completed"
    },
    "tags": []
   },
   "outputs": [
    {
     "name": "stdout",
     "output_type": "stream",
     "text": [
      "(2, 256)\n"
     ]
    }
   ],
   "source": [
    "###################################\n",
    "# Build the model\n",
    "###################################\n",
    "# easfsl only wants a tuple for the shape\n",
    "model = Steves_Prototypical_Network(x_net, device=p.device, x_shape=tuple(p.x_shape))\n",
    "optimizer = Adam(params=model.parameters(), lr=p.lr)"
   ]
  },
  {
   "cell_type": "code",
   "execution_count": 22,
   "id": "22b39ac5",
   "metadata": {
    "execution": {
     "iopub.execute_input": "2022-03-21T05:25:10.555128Z",
     "iopub.status.busy": "2022-03-21T05:25:10.554760Z",
     "iopub.status.idle": "2022-03-21T11:30:35.874670Z",
     "shell.execute_reply": "2022-03-21T11:30:35.874330Z"
    },
    "papermill": {
     "duration": 21925.347637,
     "end_time": "2022-03-21T11:30:35.874755",
     "exception": false,
     "start_time": "2022-03-21T05:25:10.527118",
     "status": "completed"
    },
    "tags": []
   },
   "outputs": [
    {
     "name": "stdout",
     "output_type": "stream",
     "text": [
      "epoch: 1, [batch: 1 / 33600], examples_per_second: 6.5892, train_label_loss: 2.8114, \n"
     ]
    },
    {
     "name": "stdout",
     "output_type": "stream",
     "text": [
      "epoch: 1, [batch: 3360 / 33600], examples_per_second: 2566.8766, train_label_loss: 1.1334, \n"
     ]
    },
    {
     "name": "stdout",
     "output_type": "stream",
     "text": [
      "epoch: 1, [batch: 6720 / 33600], examples_per_second: 2479.5814, train_label_loss: 1.7792, \n"
     ]
    },
    {
     "name": "stdout",
     "output_type": "stream",
     "text": [
      "epoch: 1, [batch: 10080 / 33600], examples_per_second: 2301.0382, train_label_loss: 0.6458, \n"
     ]
    },
    {
     "name": "stdout",
     "output_type": "stream",
     "text": [
      "epoch: 1, [batch: 13440 / 33600], examples_per_second: 2643.5730, train_label_loss: 0.9345, \n"
     ]
    },
    {
     "name": "stdout",
     "output_type": "stream",
     "text": [
      "epoch: 1, [batch: 16800 / 33600], examples_per_second: 2431.3501, train_label_loss: 0.8489, \n"
     ]
    },
    {
     "name": "stdout",
     "output_type": "stream",
     "text": [
      "epoch: 1, [batch: 20160 / 33600], examples_per_second: 2552.7141, train_label_loss: 0.7120, \n"
     ]
    },
    {
     "name": "stdout",
     "output_type": "stream",
     "text": [
      "epoch: 1, [batch: 23520 / 33600], examples_per_second: 2500.3512, train_label_loss: 0.5979, \n"
     ]
    },
    {
     "name": "stdout",
     "output_type": "stream",
     "text": [
      "epoch: 1, [batch: 26880 / 33600], examples_per_second: 2306.4962, train_label_loss: 0.7697, \n"
     ]
    },
    {
     "name": "stdout",
     "output_type": "stream",
     "text": [
      "epoch: 1, [batch: 30240 / 33600], examples_per_second: 2891.5546, train_label_loss: 1.1350, \n"
     ]
    },
    {
     "name": "stdout",
     "output_type": "stream",
     "text": [
      "=============================================================\n",
      "epoch: 1, source_val_acc_label: 0.6524, target_val_acc_label: 0.9633, source_val_label_loss: 0.9279, target_val_label_loss: 0.1728, \n",
      "=============================================================\n"
     ]
    },
    {
     "name": "stdout",
     "output_type": "stream",
     "text": [
      "New best\n"
     ]
    },
    {
     "name": "stdout",
     "output_type": "stream",
     "text": [
      "epoch: 2, [batch: 1 / 33600], examples_per_second: 0.8696, train_label_loss: 1.0913, \n"
     ]
    },
    {
     "name": "stdout",
     "output_type": "stream",
     "text": [
      "epoch: 2, [batch: 3360 / 33600], examples_per_second: 4165.9112, train_label_loss: 0.7381, \n"
     ]
    },
    {
     "name": "stdout",
     "output_type": "stream",
     "text": [
      "epoch: 2, [batch: 6720 / 33600], examples_per_second: 2914.3286, train_label_loss: 1.1617, \n"
     ]
    },
    {
     "name": "stdout",
     "output_type": "stream",
     "text": [
      "epoch: 2, [batch: 10080 / 33600], examples_per_second: 2947.6614, train_label_loss: 0.5644, \n"
     ]
    },
    {
     "name": "stdout",
     "output_type": "stream",
     "text": [
      "epoch: 2, [batch: 13440 / 33600], examples_per_second: 3257.2647, train_label_loss: 0.5781, \n"
     ]
    },
    {
     "name": "stdout",
     "output_type": "stream",
     "text": [
      "epoch: 2, [batch: 16800 / 33600], examples_per_second: 2310.3443, train_label_loss: 1.2802, \n"
     ]
    },
    {
     "name": "stdout",
     "output_type": "stream",
     "text": [
      "epoch: 2, [batch: 20160 / 33600], examples_per_second: 2540.0570, train_label_loss: 1.2285, \n"
     ]
    },
    {
     "name": "stdout",
     "output_type": "stream",
     "text": [
      "epoch: 2, [batch: 23520 / 33600], examples_per_second: 2578.6913, train_label_loss: 0.4720, \n"
     ]
    },
    {
     "name": "stdout",
     "output_type": "stream",
     "text": [
      "epoch: 2, [batch: 26880 / 33600], examples_per_second: 2354.0314, train_label_loss: 0.3458, \n"
     ]
    },
    {
     "name": "stdout",
     "output_type": "stream",
     "text": [
      "epoch: 2, [batch: 30240 / 33600], examples_per_second: 2820.9959, train_label_loss: 0.9635, \n"
     ]
    },
    {
     "name": "stdout",
     "output_type": "stream",
     "text": [
      "=============================================================\n",
      "epoch: 2, source_val_acc_label: 0.6726, target_val_acc_label: 0.9710, source_val_label_loss: 0.8613, target_val_label_loss: 0.1826, \n",
      "=============================================================\n"
     ]
    },
    {
     "name": "stdout",
     "output_type": "stream",
     "text": [
      "New best\n"
     ]
    },
    {
     "name": "stdout",
     "output_type": "stream",
     "text": [
      "epoch: 3, [batch: 1 / 33600], examples_per_second: 0.5902, train_label_loss: 0.5629, \n"
     ]
    },
    {
     "name": "stdout",
     "output_type": "stream",
     "text": [
      "epoch: 3, [batch: 3360 / 33600], examples_per_second: 2328.5685, train_label_loss: 0.6912, \n"
     ]
    },
    {
     "name": "stdout",
     "output_type": "stream",
     "text": [
      "epoch: 3, [batch: 6720 / 33600], examples_per_second: 2553.7030, train_label_loss: 0.7358, \n"
     ]
    },
    {
     "name": "stdout",
     "output_type": "stream",
     "text": [
      "epoch: 3, [batch: 10080 / 33600], examples_per_second: 2544.3373, train_label_loss: 0.6088, \n"
     ]
    },
    {
     "name": "stdout",
     "output_type": "stream",
     "text": [
      "epoch: 3, [batch: 13440 / 33600], examples_per_second: 2461.4932, train_label_loss: 0.4912, \n"
     ]
    },
    {
     "name": "stdout",
     "output_type": "stream",
     "text": [
      "epoch: 3, [batch: 16800 / 33600], examples_per_second: 2657.5541, train_label_loss: 0.9782, \n"
     ]
    },
    {
     "name": "stdout",
     "output_type": "stream",
     "text": [
      "epoch: 3, [batch: 20160 / 33600], examples_per_second: 2386.2104, train_label_loss: 1.3508, \n"
     ]
    },
    {
     "name": "stdout",
     "output_type": "stream",
     "text": [
      "epoch: 3, [batch: 23520 / 33600], examples_per_second: 2659.9512, train_label_loss: 1.0619, \n"
     ]
    },
    {
     "name": "stdout",
     "output_type": "stream",
     "text": [
      "epoch: 3, [batch: 26880 / 33600], examples_per_second: 2920.3889, train_label_loss: 0.5187, \n"
     ]
    },
    {
     "name": "stdout",
     "output_type": "stream",
     "text": [
      "epoch: 3, [batch: 30240 / 33600], examples_per_second: 3022.5462, train_label_loss: 0.8459, \n"
     ]
    },
    {
     "name": "stdout",
     "output_type": "stream",
     "text": [
      "=============================================================\n",
      "epoch: 3, source_val_acc_label: 0.7029, target_val_acc_label: 0.9769, source_val_label_loss: 0.8028, target_val_label_loss: 0.2108, \n",
      "=============================================================\n"
     ]
    },
    {
     "name": "stdout",
     "output_type": "stream",
     "text": [
      "New best\n"
     ]
    },
    {
     "name": "stdout",
     "output_type": "stream",
     "text": [
      "epoch: 4, [batch: 1 / 33600], examples_per_second: 0.6169, train_label_loss: 0.4374, \n"
     ]
    },
    {
     "name": "stdout",
     "output_type": "stream",
     "text": [
      "epoch: 4, [batch: 3360 / 33600], examples_per_second: 2866.5336, train_label_loss: 0.4889, \n"
     ]
    },
    {
     "name": "stdout",
     "output_type": "stream",
     "text": [
      "epoch: 4, [batch: 6720 / 33600], examples_per_second: 2319.9184, train_label_loss: 1.1475, \n"
     ]
    },
    {
     "name": "stdout",
     "output_type": "stream",
     "text": [
      "epoch: 4, [batch: 10080 / 33600], examples_per_second: 2594.5629, train_label_loss: 0.4755, \n"
     ]
    },
    {
     "name": "stdout",
     "output_type": "stream",
     "text": [
      "epoch: 4, [batch: 13440 / 33600], examples_per_second: 2696.5027, train_label_loss: 0.3906, \n"
     ]
    },
    {
     "name": "stdout",
     "output_type": "stream",
     "text": [
      "epoch: 4, [batch: 16800 / 33600], examples_per_second: 2647.6476, train_label_loss: 0.6441, \n"
     ]
    },
    {
     "name": "stdout",
     "output_type": "stream",
     "text": [
      "epoch: 4, [batch: 20160 / 33600], examples_per_second: 3308.2128, train_label_loss: 0.3672, \n"
     ]
    },
    {
     "name": "stdout",
     "output_type": "stream",
     "text": [
      "epoch: 4, [batch: 23520 / 33600], examples_per_second: 2930.9066, train_label_loss: 0.1963, \n"
     ]
    },
    {
     "name": "stdout",
     "output_type": "stream",
     "text": [
      "epoch: 4, [batch: 26880 / 33600], examples_per_second: 2552.3808, train_label_loss: 0.6116, \n"
     ]
    },
    {
     "name": "stdout",
     "output_type": "stream",
     "text": [
      "epoch: 4, [batch: 30240 / 33600], examples_per_second: 2418.2065, train_label_loss: 0.3860, \n"
     ]
    },
    {
     "name": "stdout",
     "output_type": "stream",
     "text": [
      "=============================================================\n",
      "epoch: 4, source_val_acc_label: 0.7206, target_val_acc_label: 0.9795, source_val_label_loss: 0.7607, target_val_label_loss: 0.2112, \n",
      "=============================================================\n"
     ]
    },
    {
     "name": "stdout",
     "output_type": "stream",
     "text": [
      "New best\n"
     ]
    },
    {
     "name": "stdout",
     "output_type": "stream",
     "text": [
      "epoch: 5, [batch: 1 / 33600], examples_per_second: 0.6012, train_label_loss: 0.8894, \n"
     ]
    },
    {
     "name": "stdout",
     "output_type": "stream",
     "text": [
      "epoch: 5, [batch: 3360 / 33600], examples_per_second: 2624.0353, train_label_loss: 0.4342, \n"
     ]
    },
    {
     "name": "stdout",
     "output_type": "stream",
     "text": [
      "epoch: 5, [batch: 6720 / 33600], examples_per_second: 2487.2806, train_label_loss: 0.2855, \n"
     ]
    },
    {
     "name": "stdout",
     "output_type": "stream",
     "text": [
      "epoch: 5, [batch: 10080 / 33600], examples_per_second: 2586.6166, train_label_loss: 0.6386, \n"
     ]
    },
    {
     "name": "stdout",
     "output_type": "stream",
     "text": [
      "epoch: 5, [batch: 13440 / 33600], examples_per_second: 2663.2163, train_label_loss: 0.7767, \n"
     ]
    },
    {
     "name": "stdout",
     "output_type": "stream",
     "text": [
      "epoch: 5, [batch: 16800 / 33600], examples_per_second: 2711.0944, train_label_loss: 0.8048, \n"
     ]
    },
    {
     "name": "stdout",
     "output_type": "stream",
     "text": [
      "epoch: 5, [batch: 20160 / 33600], examples_per_second: 3169.1746, train_label_loss: 0.6943, \n"
     ]
    },
    {
     "name": "stdout",
     "output_type": "stream",
     "text": [
      "epoch: 5, [batch: 23520 / 33600], examples_per_second: 2677.2164, train_label_loss: 0.6372, \n"
     ]
    },
    {
     "name": "stdout",
     "output_type": "stream",
     "text": [
      "epoch: 5, [batch: 26880 / 33600], examples_per_second: 2459.0671, train_label_loss: 0.2384, \n"
     ]
    },
    {
     "name": "stdout",
     "output_type": "stream",
     "text": [
      "epoch: 5, [batch: 30240 / 33600], examples_per_second: 2511.4178, train_label_loss: 0.7981, \n"
     ]
    },
    {
     "name": "stdout",
     "output_type": "stream",
     "text": [
      "=============================================================\n",
      "epoch: 5, source_val_acc_label: 0.7279, target_val_acc_label: 0.9798, source_val_label_loss: 0.7509, target_val_label_loss: 0.2113, \n",
      "=============================================================\n"
     ]
    },
    {
     "name": "stdout",
     "output_type": "stream",
     "text": [
      "New best\n"
     ]
    },
    {
     "name": "stdout",
     "output_type": "stream",
     "text": [
      "epoch: 6, [batch: 1 / 33600], examples_per_second: 0.5994, train_label_loss: 0.4962, \n"
     ]
    },
    {
     "name": "stdout",
     "output_type": "stream",
     "text": [
      "epoch: 6, [batch: 3360 / 33600], examples_per_second: 2394.5947, train_label_loss: 0.6187, \n"
     ]
    },
    {
     "name": "stdout",
     "output_type": "stream",
     "text": [
      "epoch: 6, [batch: 6720 / 33600], examples_per_second: 2792.1576, train_label_loss: 0.4414, \n"
     ]
    },
    {
     "name": "stdout",
     "output_type": "stream",
     "text": [
      "epoch: 6, [batch: 10080 / 33600], examples_per_second: 2780.3089, train_label_loss: 0.4771, \n"
     ]
    },
    {
     "name": "stdout",
     "output_type": "stream",
     "text": [
      "epoch: 6, [batch: 13440 / 33600], examples_per_second: 3032.3621, train_label_loss: 0.2719, \n"
     ]
    },
    {
     "name": "stdout",
     "output_type": "stream",
     "text": [
      "epoch: 6, [batch: 16800 / 33600], examples_per_second: 2845.0288, train_label_loss: 0.4284, \n"
     ]
    },
    {
     "name": "stdout",
     "output_type": "stream",
     "text": [
      "epoch: 6, [batch: 20160 / 33600], examples_per_second: 2385.8253, train_label_loss: 0.6688, \n"
     ]
    },
    {
     "name": "stdout",
     "output_type": "stream",
     "text": [
      "epoch: 6, [batch: 23520 / 33600], examples_per_second: 2577.9898, train_label_loss: 0.4264, \n"
     ]
    },
    {
     "name": "stdout",
     "output_type": "stream",
     "text": [
      "epoch: 6, [batch: 26880 / 33600], examples_per_second: 2566.7143, train_label_loss: 0.5391, \n"
     ]
    },
    {
     "name": "stdout",
     "output_type": "stream",
     "text": [
      "epoch: 6, [batch: 30240 / 33600], examples_per_second: 2746.4724, train_label_loss: 0.3652, \n"
     ]
    },
    {
     "name": "stdout",
     "output_type": "stream",
     "text": [
      "=============================================================\n",
      "epoch: 6, source_val_acc_label: 0.7298, target_val_acc_label: 0.9809, source_val_label_loss: 0.7451, target_val_label_loss: 0.2207, \n",
      "=============================================================\n"
     ]
    },
    {
     "name": "stdout",
     "output_type": "stream",
     "text": [
      "New best\n"
     ]
    },
    {
     "name": "stdout",
     "output_type": "stream",
     "text": [
      "epoch: 7, [batch: 1 / 33600], examples_per_second: 0.8872, train_label_loss: 0.6344, \n"
     ]
    },
    {
     "name": "stdout",
     "output_type": "stream",
     "text": [
      "epoch: 7, [batch: 3360 / 33600], examples_per_second: 3411.2006, train_label_loss: 1.1642, \n"
     ]
    },
    {
     "name": "stdout",
     "output_type": "stream",
     "text": [
      "epoch: 7, [batch: 6720 / 33600], examples_per_second: 2419.6137, train_label_loss: 0.2407, \n"
     ]
    },
    {
     "name": "stdout",
     "output_type": "stream",
     "text": [
      "epoch: 7, [batch: 10080 / 33600], examples_per_second: 2640.3535, train_label_loss: 0.3262, \n"
     ]
    },
    {
     "name": "stdout",
     "output_type": "stream",
     "text": [
      "epoch: 7, [batch: 13440 / 33600], examples_per_second: 2452.0228, train_label_loss: 0.2213, \n"
     ]
    },
    {
     "name": "stdout",
     "output_type": "stream",
     "text": [
      "epoch: 7, [batch: 16800 / 33600], examples_per_second: 2311.9963, train_label_loss: 0.5257, \n"
     ]
    },
    {
     "name": "stdout",
     "output_type": "stream",
     "text": [
      "epoch: 7, [batch: 20160 / 33600], examples_per_second: 2863.9123, train_label_loss: 0.3438, \n"
     ]
    },
    {
     "name": "stdout",
     "output_type": "stream",
     "text": [
      "epoch: 7, [batch: 23520 / 33600], examples_per_second: 2663.4528, train_label_loss: 0.4509, \n"
     ]
    },
    {
     "name": "stdout",
     "output_type": "stream",
     "text": [
      "epoch: 7, [batch: 26880 / 33600], examples_per_second: 3036.8130, train_label_loss: 0.2784, \n"
     ]
    },
    {
     "name": "stdout",
     "output_type": "stream",
     "text": [
      "epoch: 7, [batch: 30240 / 33600], examples_per_second: 3178.6210, train_label_loss: 0.4166, \n"
     ]
    },
    {
     "name": "stdout",
     "output_type": "stream",
     "text": [
      "=============================================================\n",
      "epoch: 7, source_val_acc_label: 0.7313, target_val_acc_label: 0.9805, source_val_label_loss: 0.7481, target_val_label_loss: 0.2319, \n",
      "=============================================================\n"
     ]
    },
    {
     "name": "stdout",
     "output_type": "stream",
     "text": [
      "epoch: 8, [batch: 1 / 33600], examples_per_second: 0.6004, train_label_loss: 0.4035, \n"
     ]
    },
    {
     "name": "stdout",
     "output_type": "stream",
     "text": [
      "epoch: 8, [batch: 3360 / 33600], examples_per_second: 2405.1659, train_label_loss: 0.2734, \n"
     ]
    },
    {
     "name": "stdout",
     "output_type": "stream",
     "text": [
      "epoch: 8, [batch: 6720 / 33600], examples_per_second: 2550.1601, train_label_loss: 0.4359, \n"
     ]
    },
    {
     "name": "stdout",
     "output_type": "stream",
     "text": [
      "epoch: 8, [batch: 10080 / 33600], examples_per_second: 2805.2697, train_label_loss: 0.2601, \n"
     ]
    },
    {
     "name": "stdout",
     "output_type": "stream",
     "text": [
      "epoch: 8, [batch: 13440 / 33600], examples_per_second: 2824.3493, train_label_loss: 0.4891, \n"
     ]
    },
    {
     "name": "stdout",
     "output_type": "stream",
     "text": [
      "epoch: 8, [batch: 16800 / 33600], examples_per_second: 3072.0803, train_label_loss: 0.2831, \n"
     ]
    },
    {
     "name": "stdout",
     "output_type": "stream",
     "text": [
      "epoch: 8, [batch: 20160 / 33600], examples_per_second: 2843.2794, train_label_loss: 0.2167, \n"
     ]
    },
    {
     "name": "stdout",
     "output_type": "stream",
     "text": [
      "epoch: 8, [batch: 23520 / 33600], examples_per_second: 2428.8401, train_label_loss: 0.7097, \n"
     ]
    },
    {
     "name": "stdout",
     "output_type": "stream",
     "text": [
      "epoch: 8, [batch: 26880 / 33600], examples_per_second: 2558.0532, train_label_loss: 0.5060, \n"
     ]
    },
    {
     "name": "stdout",
     "output_type": "stream",
     "text": [
      "epoch: 8, [batch: 30240 / 33600], examples_per_second: 2551.2145, train_label_loss: 0.2968, \n"
     ]
    },
    {
     "name": "stdout",
     "output_type": "stream",
     "text": [
      "=============================================================\n",
      "epoch: 8, source_val_acc_label: 0.7329, target_val_acc_label: 0.9813, source_val_label_loss: 0.7536, target_val_label_loss: 0.2274, \n",
      "=============================================================\n"
     ]
    },
    {
     "name": "stdout",
     "output_type": "stream",
     "text": [
      "New best\n"
     ]
    },
    {
     "name": "stdout",
     "output_type": "stream",
     "text": [
      "epoch: 9, [batch: 1 / 33600], examples_per_second: 0.6308, train_label_loss: 0.8796, \n"
     ]
    },
    {
     "name": "stdout",
     "output_type": "stream",
     "text": [
      "epoch: 9, [batch: 3360 / 33600], examples_per_second: 2787.3582, train_label_loss: 0.2652, \n"
     ]
    },
    {
     "name": "stdout",
     "output_type": "stream",
     "text": [
      "epoch: 9, [batch: 6720 / 33600], examples_per_second: 3270.6982, train_label_loss: 0.3481, \n"
     ]
    },
    {
     "name": "stdout",
     "output_type": "stream",
     "text": [
      "epoch: 9, [batch: 10080 / 33600], examples_per_second: 2622.7904, train_label_loss: 0.3892, \n"
     ]
    },
    {
     "name": "stdout",
     "output_type": "stream",
     "text": [
      "epoch: 9, [batch: 13440 / 33600], examples_per_second: 2426.7229, train_label_loss: 0.3807, \n"
     ]
    },
    {
     "name": "stdout",
     "output_type": "stream",
     "text": [
      "epoch: 9, [batch: 16800 / 33600], examples_per_second: 2629.4391, train_label_loss: 0.6300, \n"
     ]
    },
    {
     "name": "stdout",
     "output_type": "stream",
     "text": [
      "epoch: 9, [batch: 20160 / 33600], examples_per_second: 2321.1894, train_label_loss: 0.2690, \n"
     ]
    },
    {
     "name": "stdout",
     "output_type": "stream",
     "text": [
      "epoch: 9, [batch: 23520 / 33600], examples_per_second: 2511.9472, train_label_loss: 0.3878, \n"
     ]
    },
    {
     "name": "stdout",
     "output_type": "stream",
     "text": [
      "epoch: 9, [batch: 26880 / 33600], examples_per_second: 2613.7607, train_label_loss: 0.3028, \n"
     ]
    },
    {
     "name": "stdout",
     "output_type": "stream",
     "text": [
      "epoch: 9, [batch: 30240 / 33600], examples_per_second: 2436.3762, train_label_loss: 0.1947, \n"
     ]
    },
    {
     "name": "stdout",
     "output_type": "stream",
     "text": [
      "=============================================================\n",
      "epoch: 9, source_val_acc_label: 0.7313, target_val_acc_label: 0.9802, source_val_label_loss: 0.7619, target_val_label_loss: 0.2426, \n",
      "=============================================================\n"
     ]
    },
    {
     "name": "stdout",
     "output_type": "stream",
     "text": [
      "epoch: 10, [batch: 1 / 33600], examples_per_second: 0.5979, train_label_loss: 0.2487, \n"
     ]
    },
    {
     "name": "stdout",
     "output_type": "stream",
     "text": [
      "epoch: 10, [batch: 3360 / 33600], examples_per_second: 2628.1245, train_label_loss: 0.3606, \n"
     ]
    },
    {
     "name": "stdout",
     "output_type": "stream",
     "text": [
      "epoch: 10, [batch: 6720 / 33600], examples_per_second: 2342.3458, train_label_loss: 0.4011, \n"
     ]
    },
    {
     "name": "stdout",
     "output_type": "stream",
     "text": [
      "epoch: 10, [batch: 10080 / 33600], examples_per_second: 2495.3251, train_label_loss: 0.5224, \n"
     ]
    },
    {
     "name": "stdout",
     "output_type": "stream",
     "text": [
      "epoch: 10, [batch: 13440 / 33600], examples_per_second: 2698.8115, train_label_loss: 0.3592, \n"
     ]
    },
    {
     "name": "stdout",
     "output_type": "stream",
     "text": [
      "epoch: 10, [batch: 16800 / 33600], examples_per_second: 2790.7818, train_label_loss: 0.3455, \n"
     ]
    },
    {
     "name": "stdout",
     "output_type": "stream",
     "text": [
      "epoch: 10, [batch: 20160 / 33600], examples_per_second: 3030.5302, train_label_loss: 0.9121, \n"
     ]
    },
    {
     "name": "stdout",
     "output_type": "stream",
     "text": [
      "epoch: 10, [batch: 23520 / 33600], examples_per_second: 2838.9434, train_label_loss: 0.3521, \n"
     ]
    },
    {
     "name": "stdout",
     "output_type": "stream",
     "text": [
      "epoch: 10, [batch: 26880 / 33600], examples_per_second: 2483.6406, train_label_loss: 0.3681, \n"
     ]
    },
    {
     "name": "stdout",
     "output_type": "stream",
     "text": [
      "epoch: 10, [batch: 30240 / 33600], examples_per_second: 2434.5452, train_label_loss: 0.4994, \n"
     ]
    },
    {
     "name": "stdout",
     "output_type": "stream",
     "text": [
      "=============================================================\n",
      "epoch: 10, source_val_acc_label: 0.7307, target_val_acc_label: 0.9807, source_val_label_loss: 0.7870, target_val_label_loss: 0.2576, \n",
      "=============================================================\n"
     ]
    },
    {
     "name": "stdout",
     "output_type": "stream",
     "text": [
      "epoch: 11, [batch: 1 / 33600], examples_per_second: 0.6149, train_label_loss: 0.1944, \n"
     ]
    },
    {
     "name": "stdout",
     "output_type": "stream",
     "text": [
      "epoch: 11, [batch: 3360 / 33600], examples_per_second: 3043.6968, train_label_loss: 0.3487, \n"
     ]
    },
    {
     "name": "stdout",
     "output_type": "stream",
     "text": [
      "epoch: 11, [batch: 6720 / 33600], examples_per_second: 3407.9230, train_label_loss: 0.4780, \n"
     ]
    },
    {
     "name": "stdout",
     "output_type": "stream",
     "text": [
      "epoch: 11, [batch: 10080 / 33600], examples_per_second: 3464.5428, train_label_loss: 0.4161, \n"
     ]
    },
    {
     "name": "stdout",
     "output_type": "stream",
     "text": [
      "epoch: 11, [batch: 13440 / 33600], examples_per_second: 2678.3778, train_label_loss: 0.2705, \n"
     ]
    },
    {
     "name": "stdout",
     "output_type": "stream",
     "text": [
      "epoch: 11, [batch: 16800 / 33600], examples_per_second: 2529.4091, train_label_loss: 0.1391, \n"
     ]
    },
    {
     "name": "stdout",
     "output_type": "stream",
     "text": [
      "epoch: 11, [batch: 20160 / 33600], examples_per_second: 2522.2086, train_label_loss: 0.4855, \n"
     ]
    },
    {
     "name": "stdout",
     "output_type": "stream",
     "text": [
      "epoch: 11, [batch: 23520 / 33600], examples_per_second: 2375.2527, train_label_loss: 0.5358, \n"
     ]
    },
    {
     "name": "stdout",
     "output_type": "stream",
     "text": [
      "epoch: 11, [batch: 26880 / 33600], examples_per_second: 2647.7329, train_label_loss: 0.4456, \n"
     ]
    },
    {
     "name": "stdout",
     "output_type": "stream",
     "text": [
      "epoch: 11, [batch: 30240 / 33600], examples_per_second: 2767.3279, train_label_loss: 0.6048, \n"
     ]
    },
    {
     "name": "stdout",
     "output_type": "stream",
     "text": [
      "=============================================================\n",
      "epoch: 11, source_val_acc_label: 0.7262, target_val_acc_label: 0.9807, source_val_label_loss: 0.8088, target_val_label_loss: 0.2690, \n",
      "=============================================================\n"
     ]
    },
    {
     "name": "stdout",
     "output_type": "stream",
     "text": [
      "epoch: 12, [batch: 1 / 33600], examples_per_second: 0.7524, train_label_loss: 0.2643, \n"
     ]
    },
    {
     "name": "stdout",
     "output_type": "stream",
     "text": [
      "epoch: 12, [batch: 3360 / 33600], examples_per_second: 2570.6677, train_label_loss: 0.2759, \n"
     ]
    },
    {
     "name": "stdout",
     "output_type": "stream",
     "text": [
      "epoch: 12, [batch: 6720 / 33600], examples_per_second: 2411.6321, train_label_loss: 0.3043, \n"
     ]
    },
    {
     "name": "stdout",
     "output_type": "stream",
     "text": [
      "epoch: 12, [batch: 10080 / 33600], examples_per_second: 2547.4530, train_label_loss: 0.3491, \n"
     ]
    },
    {
     "name": "stdout",
     "output_type": "stream",
     "text": [
      "epoch: 12, [batch: 13440 / 33600], examples_per_second: 2438.7600, train_label_loss: 0.1224, \n"
     ]
    },
    {
     "name": "stdout",
     "output_type": "stream",
     "text": [
      "epoch: 12, [batch: 16800 / 33600], examples_per_second: 2534.3764, train_label_loss: 0.4515, \n"
     ]
    },
    {
     "name": "stdout",
     "output_type": "stream",
     "text": [
      "epoch: 12, [batch: 20160 / 33600], examples_per_second: 2555.3101, train_label_loss: 0.2032, \n"
     ]
    },
    {
     "name": "stdout",
     "output_type": "stream",
     "text": [
      "epoch: 12, [batch: 23520 / 33600], examples_per_second: 2422.7457, train_label_loss: 0.5491, \n"
     ]
    },
    {
     "name": "stdout",
     "output_type": "stream",
     "text": [
      "epoch: 12, [batch: 26880 / 33600], examples_per_second: 2498.1587, train_label_loss: 0.5165, \n"
     ]
    },
    {
     "name": "stdout",
     "output_type": "stream",
     "text": [
      "epoch: 12, [batch: 30240 / 33600], examples_per_second: 2452.0867, train_label_loss: 0.9930, \n"
     ]
    },
    {
     "name": "stdout",
     "output_type": "stream",
     "text": [
      "=============================================================\n",
      "epoch: 12, source_val_acc_label: 0.7308, target_val_acc_label: 0.9816, source_val_label_loss: 0.8390, target_val_label_loss: 0.2672, \n",
      "=============================================================\n"
     ]
    },
    {
     "name": "stdout",
     "output_type": "stream",
     "text": [
      "New best\n"
     ]
    },
    {
     "name": "stdout",
     "output_type": "stream",
     "text": [
      "epoch: 13, [batch: 1 / 33600], examples_per_second: 0.6711, train_label_loss: 0.7865, \n"
     ]
    },
    {
     "name": "stdout",
     "output_type": "stream",
     "text": [
      "epoch: 13, [batch: 3360 / 33600], examples_per_second: 3042.7213, train_label_loss: 0.2864, \n"
     ]
    },
    {
     "name": "stdout",
     "output_type": "stream",
     "text": [
      "epoch: 13, [batch: 6720 / 33600], examples_per_second: 3152.9841, train_label_loss: 0.4267, \n"
     ]
    },
    {
     "name": "stdout",
     "output_type": "stream",
     "text": [
      "epoch: 13, [batch: 10080 / 33600], examples_per_second: 2561.6988, train_label_loss: 0.1983, \n"
     ]
    },
    {
     "name": "stdout",
     "output_type": "stream",
     "text": [
      "epoch: 13, [batch: 13440 / 33600], examples_per_second: 3284.5225, train_label_loss: 0.3647, \n"
     ]
    },
    {
     "name": "stdout",
     "output_type": "stream",
     "text": [
      "epoch: 13, [batch: 16800 / 33600], examples_per_second: 3065.4893, train_label_loss: 0.5138, \n"
     ]
    },
    {
     "name": "stdout",
     "output_type": "stream",
     "text": [
      "epoch: 13, [batch: 20160 / 33600], examples_per_second: 2367.9887, train_label_loss: 0.6752, \n"
     ]
    },
    {
     "name": "stdout",
     "output_type": "stream",
     "text": [
      "epoch: 13, [batch: 23520 / 33600], examples_per_second: 2565.2804, train_label_loss: 0.1878, \n"
     ]
    },
    {
     "name": "stdout",
     "output_type": "stream",
     "text": [
      "epoch: 13, [batch: 26880 / 33600], examples_per_second: 2473.6986, train_label_loss: 0.1529, \n"
     ]
    },
    {
     "name": "stdout",
     "output_type": "stream",
     "text": [
      "epoch: 13, [batch: 30240 / 33600], examples_per_second: 2516.7113, train_label_loss: 0.0080, \n"
     ]
    },
    {
     "name": "stdout",
     "output_type": "stream",
     "text": [
      "=============================================================\n",
      "epoch: 13, source_val_acc_label: 0.7255, target_val_acc_label: 0.9806, source_val_label_loss: 0.8566, target_val_label_loss: 0.2891, \n",
      "=============================================================\n"
     ]
    },
    {
     "name": "stdout",
     "output_type": "stream",
     "text": [
      "epoch: 14, [batch: 1 / 33600], examples_per_second: 0.6015, train_label_loss: 0.3208, \n"
     ]
    },
    {
     "name": "stdout",
     "output_type": "stream",
     "text": [
      "epoch: 14, [batch: 3360 / 33600], examples_per_second: 2526.7657, train_label_loss: 0.3338, \n"
     ]
    },
    {
     "name": "stdout",
     "output_type": "stream",
     "text": [
      "epoch: 14, [batch: 6720 / 33600], examples_per_second: 2516.4373, train_label_loss: 0.7767, \n"
     ]
    },
    {
     "name": "stdout",
     "output_type": "stream",
     "text": [
      "epoch: 14, [batch: 10080 / 33600], examples_per_second: 2836.7627, train_label_loss: 0.2785, \n"
     ]
    },
    {
     "name": "stdout",
     "output_type": "stream",
     "text": [
      "epoch: 14, [batch: 13440 / 33600], examples_per_second: 2934.9513, train_label_loss: 0.2793, \n"
     ]
    },
    {
     "name": "stdout",
     "output_type": "stream",
     "text": [
      "epoch: 14, [batch: 16800 / 33600], examples_per_second: 3111.5404, train_label_loss: 0.0781, \n"
     ]
    },
    {
     "name": "stdout",
     "output_type": "stream",
     "text": [
      "epoch: 14, [batch: 20160 / 33600], examples_per_second: 3056.8695, train_label_loss: 0.3433, \n"
     ]
    },
    {
     "name": "stdout",
     "output_type": "stream",
     "text": [
      "epoch: 14, [batch: 23520 / 33600], examples_per_second: 2914.5244, train_label_loss: 0.4024, \n"
     ]
    },
    {
     "name": "stdout",
     "output_type": "stream",
     "text": [
      "epoch: 14, [batch: 26880 / 33600], examples_per_second: 3735.6250, train_label_loss: 0.2491, \n"
     ]
    },
    {
     "name": "stdout",
     "output_type": "stream",
     "text": [
      "epoch: 14, [batch: 30240 / 33600], examples_per_second: 3858.9112, train_label_loss: 0.4059, \n"
     ]
    },
    {
     "name": "stdout",
     "output_type": "stream",
     "text": [
      "=============================================================\n",
      "epoch: 14, source_val_acc_label: 0.7282, target_val_acc_label: 0.9806, source_val_label_loss: 0.8763, target_val_label_loss: 0.2976, \n",
      "=============================================================\n"
     ]
    },
    {
     "name": "stdout",
     "output_type": "stream",
     "text": [
      "epoch: 15, [batch: 1 / 33600], examples_per_second: 0.6033, train_label_loss: 0.1479, \n"
     ]
    },
    {
     "name": "stdout",
     "output_type": "stream",
     "text": [
      "epoch: 15, [batch: 3360 / 33600], examples_per_second: 2491.8397, train_label_loss: 0.0264, \n"
     ]
    },
    {
     "name": "stdout",
     "output_type": "stream",
     "text": [
      "epoch: 15, [batch: 6720 / 33600], examples_per_second: 2304.5036, train_label_loss: 0.0391, \n"
     ]
    },
    {
     "name": "stdout",
     "output_type": "stream",
     "text": [
      "epoch: 15, [batch: 10080 / 33600], examples_per_second: 2855.6683, train_label_loss: 0.6105, \n"
     ]
    },
    {
     "name": "stdout",
     "output_type": "stream",
     "text": [
      "epoch: 15, [batch: 13440 / 33600], examples_per_second: 2365.2083, train_label_loss: 0.3516, \n"
     ]
    },
    {
     "name": "stdout",
     "output_type": "stream",
     "text": [
      "epoch: 15, [batch: 16800 / 33600], examples_per_second: 2508.7290, train_label_loss: 0.3667, \n"
     ]
    },
    {
     "name": "stdout",
     "output_type": "stream",
     "text": [
      "epoch: 15, [batch: 20160 / 33600], examples_per_second: 2595.0411, train_label_loss: 0.0285, \n"
     ]
    },
    {
     "name": "stdout",
     "output_type": "stream",
     "text": [
      "epoch: 15, [batch: 23520 / 33600], examples_per_second: 2305.5087, train_label_loss: 0.3659, \n"
     ]
    },
    {
     "name": "stdout",
     "output_type": "stream",
     "text": [
      "epoch: 15, [batch: 26880 / 33600], examples_per_second: 2917.9812, train_label_loss: 0.1959, \n"
     ]
    },
    {
     "name": "stdout",
     "output_type": "stream",
     "text": [
      "epoch: 15, [batch: 30240 / 33600], examples_per_second: 2598.3981, train_label_loss: 0.1273, \n"
     ]
    },
    {
     "name": "stdout",
     "output_type": "stream",
     "text": [
      "=============================================================\n",
      "epoch: 15, source_val_acc_label: 0.7249, target_val_acc_label: 0.9816, source_val_label_loss: 0.8992, target_val_label_loss: 0.2985, \n",
      "=============================================================\n"
     ]
    },
    {
     "name": "stdout",
     "output_type": "stream",
     "text": [
      "New best\n"
     ]
    },
    {
     "name": "stdout",
     "output_type": "stream",
     "text": [
      "epoch: 16, [batch: 1 / 33600], examples_per_second: 0.7587, train_label_loss: 0.0881, \n"
     ]
    },
    {
     "name": "stdout",
     "output_type": "stream",
     "text": [
      "epoch: 16, [batch: 3360 / 33600], examples_per_second: 2454.3025, train_label_loss: 0.1303, \n"
     ]
    },
    {
     "name": "stdout",
     "output_type": "stream",
     "text": [
      "epoch: 16, [batch: 6720 / 33600], examples_per_second: 2584.7085, train_label_loss: 0.2506, \n"
     ]
    },
    {
     "name": "stdout",
     "output_type": "stream",
     "text": [
      "epoch: 16, [batch: 10080 / 33600], examples_per_second: 2357.0518, train_label_loss: 0.2951, \n"
     ]
    },
    {
     "name": "stdout",
     "output_type": "stream",
     "text": [
      "epoch: 16, [batch: 13440 / 33600], examples_per_second: 2620.8751, train_label_loss: 0.0348, \n"
     ]
    },
    {
     "name": "stdout",
     "output_type": "stream",
     "text": [
      "epoch: 16, [batch: 16800 / 33600], examples_per_second: 2475.7300, train_label_loss: 0.3849, \n"
     ]
    },
    {
     "name": "stdout",
     "output_type": "stream",
     "text": [
      "epoch: 16, [batch: 20160 / 33600], examples_per_second: 2445.2397, train_label_loss: 0.6210, \n"
     ]
    },
    {
     "name": "stdout",
     "output_type": "stream",
     "text": [
      "epoch: 16, [batch: 23520 / 33600], examples_per_second: 2949.2068, train_label_loss: 0.1781, \n"
     ]
    },
    {
     "name": "stdout",
     "output_type": "stream",
     "text": [
      "epoch: 16, [batch: 26880 / 33600], examples_per_second: 2591.3885, train_label_loss: 0.2095, \n"
     ]
    },
    {
     "name": "stdout",
     "output_type": "stream",
     "text": [
      "epoch: 16, [batch: 30240 / 33600], examples_per_second: 3270.2198, train_label_loss: 0.1917, \n"
     ]
    },
    {
     "name": "stdout",
     "output_type": "stream",
     "text": [
      "=============================================================\n",
      "epoch: 16, source_val_acc_label: 0.7124, target_val_acc_label: 0.9797, source_val_label_loss: 0.9490, target_val_label_loss: 0.3343, \n",
      "=============================================================\n"
     ]
    },
    {
     "name": "stdout",
     "output_type": "stream",
     "text": [
      "epoch: 17, [batch: 1 / 33600], examples_per_second: 0.6484, train_label_loss: 0.5072, \n"
     ]
    },
    {
     "name": "stdout",
     "output_type": "stream",
     "text": [
      "epoch: 17, [batch: 3360 / 33600], examples_per_second: 2472.9226, train_label_loss: 0.1256, \n"
     ]
    },
    {
     "name": "stdout",
     "output_type": "stream",
     "text": [
      "epoch: 17, [batch: 6720 / 33600], examples_per_second: 2437.9324, train_label_loss: 0.1233, \n"
     ]
    },
    {
     "name": "stdout",
     "output_type": "stream",
     "text": [
      "epoch: 17, [batch: 10080 / 33600], examples_per_second: 2494.8611, train_label_loss: 0.2046, \n"
     ]
    },
    {
     "name": "stdout",
     "output_type": "stream",
     "text": [
      "epoch: 17, [batch: 13440 / 33600], examples_per_second: 2489.4394, train_label_loss: 0.0808, \n"
     ]
    },
    {
     "name": "stdout",
     "output_type": "stream",
     "text": [
      "epoch: 17, [batch: 16800 / 33600], examples_per_second: 2768.6619, train_label_loss: 0.1795, \n"
     ]
    },
    {
     "name": "stdout",
     "output_type": "stream",
     "text": [
      "epoch: 17, [batch: 20160 / 33600], examples_per_second: 2711.0569, train_label_loss: 0.2077, \n"
     ]
    },
    {
     "name": "stdout",
     "output_type": "stream",
     "text": [
      "epoch: 17, [batch: 23520 / 33600], examples_per_second: 2963.6157, train_label_loss: 0.2549, \n"
     ]
    },
    {
     "name": "stdout",
     "output_type": "stream",
     "text": [
      "epoch: 17, [batch: 26880 / 33600], examples_per_second: 3153.2830, train_label_loss: 0.1979, \n"
     ]
    },
    {
     "name": "stdout",
     "output_type": "stream",
     "text": [
      "epoch: 17, [batch: 30240 / 33600], examples_per_second: 2600.6509, train_label_loss: 0.0658, \n"
     ]
    },
    {
     "name": "stdout",
     "output_type": "stream",
     "text": [
      "=============================================================\n",
      "epoch: 17, source_val_acc_label: 0.7227, target_val_acc_label: 0.9815, source_val_label_loss: 0.9605, target_val_label_loss: 0.3281, \n",
      "=============================================================\n"
     ]
    },
    {
     "name": "stdout",
     "output_type": "stream",
     "text": [
      "epoch: 18, [batch: 1 / 33600], examples_per_second: 0.6513, train_label_loss: 0.0831, \n"
     ]
    },
    {
     "name": "stdout",
     "output_type": "stream",
     "text": [
      "epoch: 18, [batch: 3360 / 33600], examples_per_second: 3406.6649, train_label_loss: 0.1747, \n"
     ]
    },
    {
     "name": "stdout",
     "output_type": "stream",
     "text": [
      "epoch: 18, [batch: 6720 / 33600], examples_per_second: 4050.9827, train_label_loss: 0.2783, \n"
     ]
    },
    {
     "name": "stdout",
     "output_type": "stream",
     "text": [
      "epoch: 18, [batch: 10080 / 33600], examples_per_second: 3142.9740, train_label_loss: 0.2949, \n"
     ]
    },
    {
     "name": "stdout",
     "output_type": "stream",
     "text": [
      "epoch: 18, [batch: 13440 / 33600], examples_per_second: 2588.0438, train_label_loss: 0.1985, \n"
     ]
    },
    {
     "name": "stdout",
     "output_type": "stream",
     "text": [
      "epoch: 18, [batch: 16800 / 33600], examples_per_second: 2523.9401, train_label_loss: 0.0870, \n"
     ]
    },
    {
     "name": "stdout",
     "output_type": "stream",
     "text": [
      "epoch: 18, [batch: 20160 / 33600], examples_per_second: 2482.8937, train_label_loss: 0.1988, \n"
     ]
    },
    {
     "name": "stdout",
     "output_type": "stream",
     "text": [
      "epoch: 18, [batch: 23520 / 33600], examples_per_second: 2537.2496, train_label_loss: 0.2934, \n"
     ]
    },
    {
     "name": "stdout",
     "output_type": "stream",
     "text": [
      "epoch: 18, [batch: 26880 / 33600], examples_per_second: 2405.3298, train_label_loss: 0.3929, \n"
     ]
    },
    {
     "name": "stdout",
     "output_type": "stream",
     "text": [
      "epoch: 18, [batch: 30240 / 33600], examples_per_second: 2589.5362, train_label_loss: 0.2796, \n"
     ]
    },
    {
     "name": "stdout",
     "output_type": "stream",
     "text": [
      "=============================================================\n",
      "epoch: 18, source_val_acc_label: 0.7206, target_val_acc_label: 0.9810, source_val_label_loss: 0.9766, target_val_label_loss: 0.3284, \n",
      "=============================================================\n"
     ]
    },
    {
     "name": "stdout",
     "output_type": "stream",
     "text": [
      "epoch: 19, [batch: 1 / 33600], examples_per_second: 0.5972, train_label_loss: 0.2024, \n"
     ]
    },
    {
     "name": "stdout",
     "output_type": "stream",
     "text": [
      "epoch: 19, [batch: 3360 / 33600], examples_per_second: 2482.7698, train_label_loss: 0.0619, \n"
     ]
    },
    {
     "name": "stdout",
     "output_type": "stream",
     "text": [
      "epoch: 19, [batch: 6720 / 33600], examples_per_second: 2521.1448, train_label_loss: 0.2627, \n"
     ]
    },
    {
     "name": "stdout",
     "output_type": "stream",
     "text": [
      "epoch: 19, [batch: 10080 / 33600], examples_per_second: 2567.9167, train_label_loss: 0.0597, \n"
     ]
    },
    {
     "name": "stdout",
     "output_type": "stream",
     "text": [
      "epoch: 19, [batch: 13440 / 33600], examples_per_second: 2393.1356, train_label_loss: 0.1029, \n"
     ]
    },
    {
     "name": "stdout",
     "output_type": "stream",
     "text": [
      "epoch: 19, [batch: 16800 / 33600], examples_per_second: 2795.2140, train_label_loss: 0.1425, \n"
     ]
    },
    {
     "name": "stdout",
     "output_type": "stream",
     "text": [
      "epoch: 19, [batch: 20160 / 33600], examples_per_second: 2815.1851, train_label_loss: 0.2559, \n"
     ]
    },
    {
     "name": "stdout",
     "output_type": "stream",
     "text": [
      "epoch: 19, [batch: 23520 / 33600], examples_per_second: 2843.0646, train_label_loss: 0.2725, \n"
     ]
    },
    {
     "name": "stdout",
     "output_type": "stream",
     "text": [
      "epoch: 19, [batch: 26880 / 33600], examples_per_second: 3069.7393, train_label_loss: 0.1420, \n"
     ]
    },
    {
     "name": "stdout",
     "output_type": "stream",
     "text": [
      "epoch: 19, [batch: 30240 / 33600], examples_per_second: 2397.8932, train_label_loss: 0.1017, \n"
     ]
    },
    {
     "name": "stdout",
     "output_type": "stream",
     "text": [
      "=============================================================\n",
      "epoch: 19, source_val_acc_label: 0.7188, target_val_acc_label: 0.9804, source_val_label_loss: 1.0124, target_val_label_loss: 0.3702, \n",
      "=============================================================\n"
     ]
    },
    {
     "name": "stdout",
     "output_type": "stream",
     "text": [
      "Patience (3) exhausted\n"
     ]
    }
   ],
   "source": [
    "###################################\n",
    "# train\n",
    "###################################\n",
    "jig = PTN_Train_Eval_Test_Jig(model, p.BEST_MODEL_PATH, p.device)\n",
    "\n",
    "jig.train(\n",
    "    train_iterable=datasets.source.processed.train,\n",
    "    source_val_iterable=datasets.source.processed.val,\n",
    "    target_val_iterable=datasets.target.processed.val,\n",
    "    num_epochs=p.n_epoch,\n",
    "    num_logs_per_epoch=p.NUM_LOGS_PER_EPOCH,\n",
    "    patience=p.patience,\n",
    "    optimizer=optimizer,\n",
    "    criteria_for_best=p.criteria_for_best,\n",
    ")"
   ]
  },
  {
   "cell_type": "code",
   "execution_count": 23,
   "id": "31e8fabf",
   "metadata": {
    "execution": {
     "iopub.execute_input": "2022-03-21T11:30:36.060991Z",
     "iopub.status.busy": "2022-03-21T11:30:36.060182Z",
     "iopub.status.idle": "2022-03-21T11:30:36.276114Z",
     "shell.execute_reply": "2022-03-21T11:30:36.276783Z"
    },
    "papermill": {
     "duration": 0.320002,
     "end_time": "2022-03-21T11:30:36.277036",
     "exception": false,
     "start_time": "2022-03-21T11:30:35.957034",
     "status": "completed"
    },
    "tags": []
   },
   "outputs": [],
   "source": [
    "total_experiment_time_secs = time.time() - start_time_secs"
   ]
  },
  {
   "cell_type": "code",
   "execution_count": 24,
   "id": "87b9595b",
   "metadata": {
    "execution": {
     "iopub.execute_input": "2022-03-21T11:30:36.466808Z",
     "iopub.status.busy": "2022-03-21T11:30:36.465893Z",
     "iopub.status.idle": "2022-03-21T11:42:45.196364Z",
     "shell.execute_reply": "2022-03-21T11:42:45.197058Z"
    },
    "papermill": {
     "duration": 728.836892,
     "end_time": "2022-03-21T11:42:45.197295",
     "exception": false,
     "start_time": "2022-03-21T11:30:36.360403",
     "status": "completed"
    },
    "tags": []
   },
   "outputs": [],
   "source": [
    "###################################\n",
    "# Evaluate the model\n",
    "###################################\n",
    "source_test_label_accuracy, source_test_label_loss = jig.test(datasets.source.processed.test)\n",
    "target_test_label_accuracy, target_test_label_loss = jig.test(datasets.target.processed.test)\n",
    "\n",
    "source_val_label_accuracy, source_val_label_loss = jig.test(datasets.source.processed.val)\n",
    "target_val_label_accuracy, target_val_label_loss = jig.test(datasets.target.processed.val)\n",
    "\n",
    "history = jig.get_history()\n",
    "\n",
    "total_epochs_trained = len(history[\"epoch_indices\"])\n",
    "\n",
    "val_dl = Iterable_Aggregator((datasets.source.original.val,datasets.target.original.val))\n",
    "\n",
    "confusion = ptn_confusion_by_domain_over_dataloader(model, p.device, val_dl)\n",
    "per_domain_accuracy = per_domain_accuracy_from_confusion(confusion)\n",
    "\n",
    "# Add a key to per_domain_accuracy for if it was a source domain\n",
    "for domain, accuracy in per_domain_accuracy.items():\n",
    "    per_domain_accuracy[domain] = {\n",
    "        \"accuracy\": accuracy,\n",
    "        \"source?\": domain in p.domains_source\n",
    "    }\n",
    "\n",
    "# Do an independent accuracy assesment JUST TO BE SURE!\n",
    "# _source_test_label_accuracy = independent_accuracy_assesment(model, datasets.source.processed.test, p.device)\n",
    "# _target_test_label_accuracy = independent_accuracy_assesment(model, datasets.target.processed.test, p.device)\n",
    "# _source_val_label_accuracy = independent_accuracy_assesment(model, datasets.source.processed.val, p.device)\n",
    "# _target_val_label_accuracy = independent_accuracy_assesment(model, datasets.target.processed.val, p.device)\n",
    "\n",
    "# assert(_source_test_label_accuracy == source_test_label_accuracy)\n",
    "# assert(_target_test_label_accuracy == target_test_label_accuracy)\n",
    "# assert(_source_val_label_accuracy == source_val_label_accuracy)\n",
    "# assert(_target_val_label_accuracy == target_val_label_accuracy)\n",
    "\n",
    "experiment = {\n",
    "    \"experiment_name\": p.experiment_name,\n",
    "    \"parameters\": dict(p),\n",
    "    \"results\": {\n",
    "        \"source_test_label_accuracy\": source_test_label_accuracy,\n",
    "        \"source_test_label_loss\": source_test_label_loss,\n",
    "        \"target_test_label_accuracy\": target_test_label_accuracy,\n",
    "        \"target_test_label_loss\": target_test_label_loss,\n",
    "        \"source_val_label_accuracy\": source_val_label_accuracy,\n",
    "        \"source_val_label_loss\": source_val_label_loss,\n",
    "        \"target_val_label_accuracy\": target_val_label_accuracy,\n",
    "        \"target_val_label_loss\": target_val_label_loss,\n",
    "        \"total_epochs_trained\": total_epochs_trained,\n",
    "        \"total_experiment_time_secs\": total_experiment_time_secs,\n",
    "        \"confusion\": confusion,\n",
    "        \"per_domain_accuracy\": per_domain_accuracy,\n",
    "    },\n",
    "    \"history\": history,\n",
    "    \"dataset_metrics\": get_dataset_metrics(datasets, \"ptn\"),\n",
    "}"
   ]
  },
  {
   "cell_type": "code",
   "execution_count": 25,
   "id": "54a21829",
   "metadata": {
    "execution": {
     "iopub.execute_input": "2022-03-21T11:42:45.366252Z",
     "iopub.status.busy": "2022-03-21T11:42:45.365691Z",
     "iopub.status.idle": "2022-03-21T11:42:45.909047Z",
     "shell.execute_reply": "2022-03-21T11:42:45.909733Z"
    },
    "papermill": {
     "duration": 0.628096,
     "end_time": "2022-03-21T11:42:45.909919",
     "exception": false,
     "start_time": "2022-03-21T11:42:45.281823",
     "status": "completed"
    },
    "tags": []
   },
   "outputs": [
    {
     "data": {
      "image/png": "[encoded data removed]",
      "text/plain": [
       "<Figure size 1080x504 with 1 Axes>"
      ]
     },
     "metadata": {
      "needs_background": "light"
     },
     "output_type": "display_data"
    }
   ],
   "source": [
    "ax = get_loss_curve(experiment)\n",
    "plt.show()"
   ]
  },
  {
   "cell_type": "code",
   "execution_count": 26,
   "id": "fd8a0f60",
   "metadata": {
    "execution": {
     "iopub.execute_input": "2022-03-21T11:42:46.092307Z",
     "iopub.status.busy": "2022-03-21T11:42:46.091922Z",
     "iopub.status.idle": "2022-03-21T11:42:46.491894Z",
     "shell.execute_reply": "2022-03-21T11:42:46.492577Z"
    },
    "papermill": {
     "duration": 0.495666,
     "end_time": "2022-03-21T11:42:46.492775",
     "exception": false,
     "start_time": "2022-03-21T11:42:45.997109",
     "status": "completed"
    },
    "tags": []
   },
   "outputs": [
    {
     "data": {
      "text/plain": [
       "<AxesSubplot:title={'center':'Results'}>"
      ]
     },
     "execution_count": 26,
     "metadata": {},
     "output_type": "execute_result"
    },
    {
     "data": {
      "image/png": "[encoded data removed]",
      "text/plain": [
       "<Figure size 1080x504 with 1 Axes>"
      ]
     },
     "metadata": {
      "needs_background": "light"
     },
     "output_type": "display_data"
    }
   ],
   "source": [
    "get_results_table(experiment)"
   ]
  },
  {
   "cell_type": "code",
   "execution_count": 27,
   "id": "cf8dc689",
   "metadata": {
    "execution": {
     "iopub.execute_input": "2022-03-21T11:42:46.672523Z",
     "iopub.status.busy": "2022-03-21T11:42:46.671981Z",
     "iopub.status.idle": "2022-03-21T11:42:47.035756Z",
     "shell.execute_reply": "2022-03-21T11:42:47.036446Z"
    },
    "papermill": {
     "duration": 0.453363,
     "end_time": "2022-03-21T11:42:47.036658",
     "exception": false,
     "start_time": "2022-03-21T11:42:46.583295",
     "status": "completed"
    },
    "tags": []
   },
   "outputs": [
    {
     "data": {
      "text/plain": [
       "<AxesSubplot:title={'center':'Per Domain Validation Accuracy'}, xlabel='domain'>"
      ]
     },
     "execution_count": 27,
     "metadata": {},
     "output_type": "execute_result"
    },
    {
     "data": {
      "image/png": "[encoded data removed]",
      "text/plain": [
       "<Figure size 1080x504 with 1 Axes>"
      ]
     },
     "metadata": {
      "needs_background": "light"
     },
     "output_type": "display_data"
    }
   ],
   "source": [
    "get_domain_accuracies(experiment)"
   ]
  },
  {
   "cell_type": "code",
   "execution_count": 28,
   "id": "a74ae082",
   "metadata": {
    "execution": {
     "iopub.execute_input": "2022-03-21T11:42:47.224548Z",
     "iopub.status.busy": "2022-03-21T11:42:47.223977Z",
     "iopub.status.idle": "2022-03-21T11:42:47.247640Z",
     "shell.execute_reply": "2022-03-21T11:42:47.246794Z"
    },
    "papermill": {
     "duration": 0.116303,
     "end_time": "2022-03-21T11:42:47.247806",
     "exception": false,
     "start_time": "2022-03-21T11:42:47.131503",
     "status": "completed"
    },
    "tags": []
   },
   "outputs": [
    {
     "name": "stdout",
     "output_type": "stream",
     "text": [
      "Source Test Label Accuracy: 0.7251302083333333 Target Test Label Accuracy: 0.9834806397306397\n",
      "Source Val Label Accuracy: 0.72486328125 Target Val Label Accuracy: 0.9815924657534246\n"
     ]
    }
   ],
   "source": [
    "print(\"Source Test Label Accuracy:\", experiment[\"results\"][\"source_test_label_accuracy\"], \"Target Test Label Accuracy:\", experiment[\"results\"][\"target_test_label_accuracy\"])\n",
    "print(\"Source Val Label Accuracy:\", experiment[\"results\"][\"source_val_label_accuracy\"], \"Target Val Label Accuracy:\", experiment[\"results\"][\"target_val_label_accuracy\"])"
   ]
  },
  {
   "cell_type": "code",
   "execution_count": 29,
   "id": "dacca602",
   "metadata": {
    "execution": {
     "iopub.execute_input": "2022-03-21T11:42:47.430455Z",
     "iopub.status.busy": "2022-03-21T11:42:47.430086Z",
     "iopub.status.idle": "2022-03-21T11:42:47.456977Z",
     "shell.execute_reply": "2022-03-21T11:42:47.457652Z"
    },
    "papermill": {
     "duration": 0.117553,
     "end_time": "2022-03-21T11:42:47.457857",
     "exception": false,
     "start_time": "2022-03-21T11:42:47.340304",
     "status": "completed"
    },
    "tags": [
     "experiment_json"
    ]
   },
   "outputs": [
    {
     "data": {
      "text/plain": [
       "'{\"experiment_name\": \"tl_1v2:cores-oracle.run1\", \"parameters\": {\"experiment_name\": \"tl_1v2:cores-oracle.run1\", \"device\": \"cuda\", \"lr\": 0.0001, \"n_shot\": 3, \"n_query\": 2, \"train_k_factor\": 3, \"val_k_factor\": 2, \"test_k_factor\": 2, \"torch_default_dtype\": \"torch.float32\", \"n_epoch\": 50, \"patience\": 3, \"criteria_for_best\": \"target_accuracy\", \"x_net\": [{\"class\": \"nnReshape\", \"kargs\": {\"shape\": [-1, 1, 2, 256]}}, {\"class\": \"Conv2d\", \"kargs\": {\"in_channels\": 1, \"out_channels\": 256, \"kernel_size\": [1, 7], \"bias\": false, \"padding\": [0, 3]}}, {\"class\": \"ReLU\", \"kargs\": {\"inplace\": true}}, {\"class\": \"BatchNorm2d\", \"kargs\": {\"num_features\": 256}}, {\"class\": \"Conv2d\", \"kargs\": {\"in_channels\": 256, \"out_channels\": 80, \"kernel_size\": [2, 7], \"bias\": true, \"padding\": [0, 3]}}, {\"class\": \"ReLU\", \"kargs\": {\"inplace\": true}}, {\"class\": \"BatchNorm2d\", \"kargs\": {\"num_features\": 80}}, {\"class\": \"Flatten\", \"kargs\": {}}, {\"class\": \"Linear\", \"kargs\": {\"in_features\": 20480, \"out_features\": 256}}, {\"class\": \"ReLU\", \"kargs\": {\"inplace\": true}}, {\"class\": \"BatchNorm1d\", \"kargs\": {\"num_features\": 256}}, {\"class\": \"Linear\", \"kargs\": {\"in_features\": 256, \"out_features\": 256}}], \"NUM_LOGS_PER_EPOCH\": 10, \"BEST_MODEL_PATH\": \"./best_model.pth\", \"n_way\": 16, \"datasets\": [{\"labels\": [\"1-10.\", \"1-11.\", \"1-15.\", \"1-16.\", \"1-17.\", \"1-18.\", \"1-19.\", \"10-4.\", \"10-7.\", \"11-1.\", \"11-14.\", \"11-17.\", \"11-20.\", \"11-7.\", \"13-20.\", \"13-8.\", \"14-10.\", \"14-11.\", \"14-14.\", \"14-7.\", \"15-1.\", \"15-20.\", \"16-1.\", \"16-16.\", \"17-10.\", \"17-11.\", \"17-2.\", \"19-1.\", \"19-16.\", \"19-19.\", \"19-20.\", \"19-3.\", \"2-10.\", \"2-11.\", \"2-17.\", \"2-18.\", \"2-20.\", \"2-3.\", \"2-4.\", \"2-5.\", \"2-6.\", \"2-7.\", \"2-8.\", \"3-13.\", \"3-18.\", \"3-3.\", \"4-1.\", \"4-10.\", \"4-11.\", \"4-19.\", \"5-5.\", \"6-15.\", \"7-10.\", \"7-14.\", \"8-18.\", \"8-20.\", \"8-3.\", \"8-8.\"], \"domains\": [1, 2, 3, 4, 5], \"num_examples_per_domain_per_label\": -1, \"pickle_path\": \"/root/csc500-main/datasets/cores.stratified_ds.2022A.pkl\", \"source_or_target_dataset\": \"target\", \"x_transforms\": [\"unit_power\"], \"episode_transforms\": [], \"domain_prefix\": \"CORES_\"}, {\"labels\": [\"3123D52\", \"3123D65\", \"3123D79\", \"3123D80\", \"3123D54\", \"3123D70\", \"3123D7B\", \"3123D89\", \"3123D58\", \"3123D76\", \"3123D7D\", \"3123EFE\", \"3123D64\", \"3123D78\", \"3123D7E\", \"3124E4A\"], \"domains\": [32, 38, 8, 44, 14, 50, 20, 26], \"num_examples_per_domain_per_label\": 10000, \"pickle_path\": \"/root/csc500-main/datasets/oracle.Run1_10kExamples_stratified_ds.2022A.pkl\", \"source_or_target_dataset\": \"source\", \"x_transforms\": [\"unit_power\"], \"episode_transforms\": [], \"domain_prefix\": \"ORACLE.run1_\"}], \"dataset_seed\": 1337, \"seed\": 1337, \"x_shape\": [2, 256], \"domains_source\": [\"ORACLE.run1_32\", \"ORACLE.run1_38\", \"ORACLE.run1_8\", \"ORACLE.run1_44\", \"ORACLE.run1_14\", \"ORACLE.run1_50\", \"ORACLE.run1_20\", \"ORACLE.run1_26\"], \"domains_target\": [\"CORES_1\", \"CORES_2\", \"CORES_3\", \"CORES_4\", \"CORES_5\"]}, \"results\": {\"source_test_label_accuracy\": 0.7251302083333333, \"source_test_label_loss\": 0.8989735245704651, \"target_test_label_accuracy\": 0.9834806397306397, \"target_test_label_loss\": 0.22461767494678497, \"source_val_label_accuracy\": 0.72486328125, \"source_val_label_loss\": 0.8991920351982117, \"target_val_label_accuracy\": 0.9815924657534246, \"target_val_label_loss\": 0.29845544695854187, \"total_epochs_trained\": 19, \"total_experiment_time_secs\": 22089.27040362358, \"confusion\": {\"ORACLE.run1_14\": {\"15\": {\"15\": 1167, \"7\": 25, \"5\": 5, \"2\": 2, \"13\": 1}, \"3\": {\"3\": 1014, \"4\": 112, \"14\": 28, \"0\": 7, \"13\": 1, \"2\": 24, \"5\": 9, \"10\": 2, \"6\": 1, \"1\": 2}, \"6\": {\"13\": 455, \"6\": 664, \"14\": 47, \"2\": 34}, \"1\": {\"1\": 1083, \"5\": 104, \"4\": 8, \"7\": 5}, \"8\": {\"8\": 1200}, \"10\": {\"10\": 1175, \"0\": 24, \"13\": 1}, \"9\": {\"9\": 1193, \"12\": 3, \"11\": 4}, \"13\": {\"13\": 425, \"2\": 108, \"6\": 487, \"14\": 159, \"5\": 15, \"4\": 4, \"10\": 1, \"3\": 1}, \"12\": {\"12\": 1197, \"9\": 3}, \"5\": {\"5\": 777, \"2\": 64, \"4\": 199, \"1\": 129, \"3\": 18, \"7\": 10, \"15\": 3}, \"0\": {\"10\": 63, \"0\": 1098, \"11\": 18, \"3\": 21}, \"2\": {\"3\": 53, \"13\": 77, \"2\": 608, \"14\": 162, \"4\": 87, \"5\": 116, \"6\": 79, \"15\": 18}, \"11\": {\"11\": 1110, \"9\": 45, \"0\": 41, \"10\": 4}, \"14\": {\"14\": 966, \"6\": 40, \"13\": 96, \"3\": 20, \"2\": 76, \"4\": 2}, \"7\": {\"7\": 1172, \"15\": 15, \"1\": 8, \"5\": 5}, \"4\": {\"4\": 850, \"5\": 162, \"2\": 62, \"3\": 107, \"14\": 1, \"1\": 16, \"13\": 2}}, \"ORACLE.run1_20\": {\"3\": {\"4\": 82, \"12\": 247, \"9\": 210, \"1\": 27, \"3\": 469, \"8\": 13, \"7\": 47, \"5\": 31, \"2\": 68, \"15\": 2, \"10\": 1, \"0\": 3}, \"15\": {\"15\": 741, \"0\": 78, \"5\": 100, \"1\": 206, \"13\": 43, \"2\": 6, \"9\": 2, \"3\": 5, \"12\": 19}, \"8\": {\"4\": 154, \"8\": 877, \"7\": 80, \"14\": 47, \"3\": 16, \"6\": 11, \"10\": 13, \"0\": 1, \"12\": 1}, \"4\": {\"4\": 953, \"8\": 133, \"10\": 31, \"3\": 57, \"7\": 6, \"12\": 8, \"14\": 2, \"5\": 4, \"9\": 2, \"2\": 1, \"0\": 3}, \"14\": {\"14\": 914, \"6\": 158, \"8\": 30, \"10\": 96, \"4\": 2}, \"0\": {\"0\": 728, \"5\": 279, \"12\": 20, \"1\": 28, \"15\": 100, \"3\": 19, \"4\": 4, \"2\": 7, \"8\": 3, \"13\": 7, \"9\": 2, \"7\": 3}, \"7\": {\"7\": 871, \"2\": 163, \"8\": 56, \"6\": 23, \"9\": 43, \"3\": 34, \"4\": 4, \"12\": 5, \"13\": 1}, \"6\": {\"6\": 1039, \"14\": 132, \"7\": 17, \"8\": 10, \"10\": 2}, \"10\": {\"4\": 27, \"14\": 87, \"10\": 1071, \"8\": 10, \"6\": 1, \"3\": 4}, \"5\": {\"5\": 530, \"15\": 110, \"12\": 119, \"0\": 218, \"1\": 168, \"3\": 37, \"4\": 5, \"13\": 4, \"7\": 2, \"2\": 5, \"9\": 2}, \"2\": {\"7\": 168, \"2\": 559, \"9\": 284, \"12\": 63, \"3\": 66, \"13\": 43, \"1\": 10, \"5\": 2, \"15\": 4, \"0\": 1}, \"12\": {\"3\": 218, \"12\": 437, \"9\": 132, \"1\": 215, \"4\": 6, \"5\": 115, \"2\": 46, \"0\": 11, \"15\": 19, \"7\": 1}, \"9\": {\"9\": 506, \"7\": 63, \"3\": 199, \"2\": 280, \"12\": 115, \"1\": 15, \"13\": 11, \"4\": 5, \"5\": 2, \"15\": 3, \"8\": 1}, \"1\": {\"12\": 206, \"15\": 199, \"1\": 550, \"5\": 181, \"3\": 29, \"9\": 12, \"13\": 2, \"0\": 16, \"2\": 5}, \"11\": {\"11\": 1198, \"7\": 1, \"6\": 1}, \"13\": {\"13\": 1100, \"15\": 27, \"2\": 57, \"9\": 6, \"0\": 2, \"5\": 2, \"7\": 1, \"1\": 3, \"12\": 1, \"3\": 1}}, \"ORACLE.run1_38\": {\"5\": {\"5\": 544, \"8\": 319, \"0\": 62, \"9\": 40, \"6\": 46, \"7\": 120, \"3\": 7, \"15\": 48, \"10\": 4, \"1\": 7, \"13\": 2, \"12\": 1}, \"8\": {\"8\": 733, \"5\": 251, \"0\": 119, \"15\": 18, \"10\": 18, \"7\": 53, \"13\": 8}, \"11\": {\"11\": 1052, \"14\": 122, \"10\": 15, \"13\": 5, \"2\": 5, \"12\": 1}, \"1\": {\"1\": 1150, \"15\": 43, \"6\": 2, \"8\": 1, \"5\": 4}, \"10\": {\"10\": 938, \"13\": 131, \"15\": 8, \"0\": 30, \"8\": 41, \"7\": 10, \"5\": 6, \"14\": 14, \"12\": 13, \"2\": 1, \"4\": 4, \"11\": 4}, \"15\": {\"15\": 963, \"13\": 92, \"5\": 18, \"0\": 3, \"1\": 81, \"8\": 38, \"10\": 4, \"2\": 1}, \"3\": {\"3\": 1129, \"0\": 25, \"9\": 28, \"7\": 15, \"5\": 2, \"6\": 1}, \"7\": {\"7\": 978, \"5\": 60, \"10\": 2, \"8\": 48, \"0\": 109, \"9\": 3}, \"4\": {\"4\": 1140, \"12\": 51, \"10\": 7, \"7\": 1, \"0\": 1}, \"14\": {\"14\": 1063, \"10\": 15, \"2\": 71, \"11\": 45, \"13\": 5, \"12\": 1}, \"9\": {\"9\": 864, \"6\": 284, \"5\": 19, \"3\": 30, \"0\": 1, \"7\": 2}, \"12\": {\"12\": 1168, \"4\": 29, \"10\": 3}, \"6\": {\"6\": 1059, \"9\": 131, \"5\": 9, \"8\": 1}, \"2\": {\"2\": 1110, \"13\": 18, \"14\": 70, \"10\": 2}, \"0\": {\"5\": 101, \"0\": 608, \"8\": 211, \"3\": 66, \"7\": 187, \"10\": 23, \"9\": 2, \"4\": 1, \"12\": 1}, \"13\": {\"13\": 874, \"15\": 173, \"8\": 15, \"10\": 102, \"2\": 26, \"0\": 4, \"5\": 4, \"14\": 1, \"1\": 1}}, \"ORACLE.run1_8\": {\"9\": {\"9\": 1200}, \"10\": {\"10\": 803, \"5\": 27, \"13\": 126, \"14\": 200, \"4\": 40, \"1\": 4}, \"13\": {\"0\": 313, \"13\": 418, \"14\": 86, \"10\": 117, \"4\": 204, \"7\": 11, \"6\": 50, \"1\": 1}, \"0\": {\"0\": 744, \"13\": 239, \"4\": 50, \"6\": 74, \"7\": 82, \"10\": 11}, \"1\": {\"1\": 883, \"11\": 258, \"14\": 36, \"5\": 17, \"4\": 3, \"10\": 3}, \"15\": {\"15\": 866, \"12\": 267, \"8\": 43, \"2\": 13, \"3\": 8, \"7\": 3}, \"5\": {\"5\": 1073, \"1\": 38, \"10\": 68, \"14\": 18, \"11\": 3}, \"3\": {\"3\": 1024, \"2\": 114, \"12\": 60, \"15\": 2}, \"6\": {\"6\": 673, \"7\": 287, \"13\": 33, \"0\": 77, \"4\": 122, \"8\": 6, \"14\": 2}, \"11\": {\"11\": 838, \"1\": 327, \"14\": 14, \"5\": 17, \"8\": 3, \"4\": 1}, \"8\": {\"8\": 1118, \"15\": 64, \"6\": 9, \"7\": 5, \"12\": 4}, \"4\": {\"4\": 566, \"6\": 123, \"10\": 34, \"13\": 235, \"14\": 184, \"0\": 50, \"7\": 7, \"1\": 1}, \"12\": {\"12\": 627, \"15\": 393, \"3\": 141, \"8\": 28, \"7\": 1, \"2\": 10}, \"14\": {\"4\": 182, \"14\": 676, \"1\": 50, \"10\": 192, \"13\": 78, \"6\": 7, \"11\": 7, \"5\": 6, \"0\": 2}, \"2\": {\"3\": 148, \"2\": 983, \"15\": 43, \"7\": 13, \"12\": 11, \"6\": 2}, \"7\": {\"6\": 276, \"7\": 855, \"0\": 53, \"8\": 3, \"4\": 6, \"2\": 2, \"13\": 3, \"14\": 1, \"15\": 1}}, \"ORACLE.run1_50\": {\"7\": {\"7\": 782, \"5\": 156, \"13\": 222, \"6\": 15, \"4\": 7, \"10\": 18}, \"3\": {\"3\": 1180, \"8\": 20}, \"8\": {\"8\": 1168, \"10\": 23, \"3\": 9}, \"2\": {\"2\": 1094, \"0\": 106}, \"14\": {\"14\": 1185, \"12\": 10, \"11\": 5}, \"4\": {\"4\": 575, \"5\": 137, \"1\": 145, \"15\": 192, \"6\": 98, \"13\": 19, \"7\": 31, \"11\": 3}, \"6\": {\"13\": 73, \"6\": 894, \"5\": 40, \"1\": 73, \"4\": 96, \"15\": 17, \"7\": 6, \"0\": 1}, \"15\": {\"15\": 888, \"1\": 185, \"4\": 91, \"11\": 18, \"6\": 18}, \"10\": {\"10\": 1116, \"0\": 29, \"7\": 20, \"8\": 17, \"13\": 17, \"5\": 1}, \"11\": {\"11\": 1070, \"15\": 22, \"1\": 5, \"9\": 94, \"14\": 7, \"12\": 2}, \"13\": {\"7\": 182, \"13\": 766, \"0\": 2, \"5\": 154, \"6\": 66, \"10\": 20, \"4\": 9, \"1\": 1}, \"9\": {\"9\": 972, \"11\": 152, \"12\": 73, \"14\": 2, \"15\": 1}, \"0\": {\"0\": 1027, \"2\": 107, \"10\": 63, \"13\": 1, \"5\": 1, \"7\": 1}, \"1\": {\"15\": 183, \"1\": 825, \"4\": 95, \"6\": 81, \"5\": 11, \"11\": 2, \"13\": 3}, \"12\": {\"12\": 1081, \"9\": 89, \"14\": 25, \"11\": 5}, \"5\": {\"1\": 60, \"4\": 155, \"13\": 176, \"7\": 238, \"5\": 494, \"6\": 63, \"10\": 11, \"15\": 3}}, \"ORACLE.run1_32\": {\"8\": {\"13\": 89, \"8\": 891, \"5\": 81, \"0\": 122, \"4\": 3, \"7\": 3, \"3\": 8, \"14\": 3}, \"14\": {\"14\": 609, \"7\": 178, \"11\": 287, \"13\": 30, \"3\": 7, \"5\": 27, \"0\": 42, \"8\": 9, \"4\": 7, \"2\": 4}, \"2\": {\"4\": 212, \"2\": 946, \"0\": 20, \"7\": 16, \"14\": 2, \"5\": 4}, \"0\": {\"0\": 866, \"5\": 34, \"8\": 120, \"2\": 47, \"7\": 36, \"4\": 59, \"13\": 20, \"14\": 18}, \"1\": {\"1\": 1189, \"10\": 11}, \"10\": {\"10\": 1197, \"1\": 3}, \"11\": {\"11\": 946, \"14\": 198, \"7\": 13, \"3\": 17, \"13\": 26}, \"5\": {\"5\": 475, \"7\": 160, \"13\": 255, \"4\": 131, \"3\": 33, \"14\": 22, \"0\": 42, \"8\": 62, \"2\": 14, \"11\": 6}, \"15\": {\"15\": 1193, \"8\": 7}, \"3\": {\"3\": 1099, \"13\": 60, \"11\": 15, \"7\": 1, \"8\": 13, \"5\": 12}, \"12\": {\"12\": 1200}, \"7\": {\"14\": 149, \"4\": 146, \"7\": 569, \"13\": 74, \"5\": 174, \"2\": 36, \"11\": 27, \"0\": 19, \"8\": 5, \"3\": 1}, \"13\": {\"13\": 569, \"4\": 80, \"5\": 239, \"3\": 104, \"11\": 22, \"0\": 19, \"8\": 61, \"7\": 80, \"14\": 24, \"2\": 2}, \"6\": {\"6\": 1200}, \"4\": {\"4\": 714, \"2\": 179, \"7\": 110, \"5\": 99, \"13\": 52, \"0\": 37, \"8\": 3, \"14\": 6}, \"9\": {\"9\": 1197, \"12\": 3}}, \"ORACLE.run1_26\": {\"4\": {\"8\": 115, \"7\": 81, \"4\": 454, \"10\": 59, \"14\": 229, \"1\": 116, \"0\": 142, \"3\": 3, \"15\": 1}, \"12\": {\"12\": 1199, \"11\": 1}, \"10\": {\"0\": 263, \"10\": 491, \"15\": 8, \"9\": 15, \"6\": 51, \"8\": 168, \"4\": 71, \"14\": 110, \"5\": 2, \"1\": 16, \"7\": 4, \"2\": 1}, \"0\": {\"10\": 317, \"0\": 357, \"14\": 171, \"1\": 23, \"7\": 19, \"8\": 106, \"4\": 167, \"9\": 17, \"15\": 5, \"6\": 17, \"3\": 1}, \"13\": {\"13\": 866, \"5\": 210, \"9\": 26, \"15\": 65, \"2\": 23, \"6\": 7, \"3\": 2, \"10\": 1}, \"9\": {\"9\": 496, \"15\": 339, \"6\": 171, \"13\": 25, \"0\": 10, \"5\": 33, \"8\": 91, \"10\": 22, \"3\": 1, \"2\": 7, \"7\": 5}, \"3\": {\"3\": 725, \"7\": 182, \"2\": 279, \"5\": 4, \"15\": 1, \"4\": 7, \"8\": 2}, \"2\": {\"5\": 124, \"7\": 141, \"2\": 463, \"3\": 353, \"9\": 22, \"4\": 6, \"15\": 58, \"8\": 23, \"13\": 9, \"1\": 1}, \"5\": {\"5\": 786, \"2\": 65, \"15\": 139, \"13\": 141, \"9\": 33, \"7\": 5, \"8\": 27, \"10\": 1, \"4\": 1, \"3\": 1, \"6\": 1}, \"14\": {\"4\": 244, \"14\": 424, \"0\": 162, \"1\": 219, \"8\": 38, \"10\": 98, \"7\": 15}, \"8\": {\"8\": 451, \"4\": 97, \"15\": 79, \"9\": 111, \"0\": 122, \"14\": 30, \"10\": 170, \"6\": 23, \"7\": 84, \"2\": 15, \"1\": 2, \"5\": 10, \"3\": 6}, \"7\": {\"7\": 616, \"2\": 130, \"4\": 107, \"8\": 77, \"14\": 17, \"0\": 26, \"3\": 197, \"5\": 4, \"10\": 3, \"9\": 3, \"15\": 12, \"1\": 8}, \"6\": {\"6\": 868, \"15\": 28, \"9\": 168, \"14\": 1, \"0\": 23, \"8\": 33, \"10\": 70, \"13\": 6, \"5\": 3}, \"11\": {\"11\": 1198, \"12\": 2}, \"15\": {\"8\": 98, \"9\": 338, \"5\": 133, \"15\": 478, \"13\": 68, \"6\": 24, \"2\": 33, \"4\": 2, \"10\": 7, \"0\": 4, \"7\": 15}, \"1\": {\"14\": 218, \"1\": 756, \"10\": 29, \"4\": 141, \"3\": 3, \"0\": 32, \"8\": 7, \"7\": 14}}, \"ORACLE.run1_44\": {\"12\": {\"12\": 934, \"10\": 53, \"1\": 197, \"2\": 1, \"3\": 15}, \"7\": {\"7\": 758, \"2\": 176, \"9\": 218, \"3\": 5, \"6\": 35, \"13\": 6, \"1\": 2}, \"5\": {\"5\": 1029, \"14\": 29, \"0\": 90, \"15\": 34, \"8\": 14, \"4\": 4}, \"15\": {\"15\": 981, \"5\": 33, \"0\": 75, \"14\": 77, \"8\": 22, \"4\": 12}, \"8\": {\"8\": 725, \"0\": 420, \"15\": 38, \"5\": 17}, \"2\": {\"2\": 880, \"10\": 91, \"7\": 177, \"1\": 40, \"12\": 2, \"3\": 6, \"9\": 4}, \"13\": {\"13\": 793, \"6\": 234, \"9\": 119, \"11\": 35, \"4\": 8, \"7\": 9, \"2\": 1, \"14\": 1}, \"4\": {\"4\": 893, \"14\": 294, \"5\": 2, \"15\": 7, \"13\": 4}, \"0\": {\"8\": 310, \"0\": 763, \"5\": 70, \"15\": 57}, \"6\": {\"6\": 822, \"13\": 218, \"9\": 116, \"7\": 30, \"11\": 12, \"2\": 2}, \"9\": {\"13\": 138, \"9\": 667, \"7\": 272, \"6\": 114, \"2\": 9}, \"11\": {\"11\": 1111, \"13\": 73, \"6\": 15, \"9\": 1}, \"10\": {\"10\": 905, \"2\": 103, \"12\": 81, \"1\": 108, \"7\": 1, \"3\": 2}, \"14\": {\"14\": 755, \"4\": 337, \"5\": 31, \"15\": 77}, \"1\": {\"10\": 95, \"12\": 205, \"1\": 694, \"2\": 55, \"3\": 148, \"7\": 3}, \"3\": {\"3\": 1062, \"12\": 13, \"1\": 119, \"7\": 1, \"2\": 5}}, \"CORES_3\": {\"43\": {\"43\": 128}, \"9\": {\"9\": 150}, \"6\": {\"6\": 78, \"26\": 1, \"36\": 1, \"20\": 1, \"30\": 4, \"18\": 1, \"8\": 2}, \"3\": {\"3\": 143, \"52\": 1}, \"16\": {\"16\": 134}, \"51\": {\"51\": 128}, \"31\": {\"31\": 28}, \"46\": {\"46\": 129, \"6\": 2, \"25\": 2, \"20\": 1}, \"19\": {\"19\": 124}, \"8\": {\"8\": 149, \"38\": 3}, \"18\": {\"18\": 84}, \"37\": {\"37\": 28}, \"24\": {\"24\": 104}, \"10\": {\"10\": 64}, \"44\": {\"44\": 88}, \"14\": {\"14\": 21, \"22\": 4, \"42\": 1, \"57\": 3, \"34\": 6, \"1\": 2, \"35\": 1, \"47\": 1, \"0\": 1}, \"38\": {\"38\": 28}, \"53\": {\"53\": 140}, \"20\": {\"20\": 132}, \"32\": {\"32\": 28}, \"36\": {\"36\": 100}, \"33\": {\"33\": 28}, \"56\": {\"56\": 136}, \"23\": {\"23\": 130}, \"54\": {\"54\": 100}, \"21\": {\"21\": 126}, \"28\": {\"28\": 28}, \"26\": {\"26\": 24}, \"48\": {\"48\": 116}, \"52\": {\"52\": 118}, \"39\": {\"39\": 16}, \"22\": {\"22\": 140}, \"13\": {\"13\": 128}, \"2\": {\"2\": 32}, \"34\": {\"34\": 32}, \"27\": {\"27\": 132}, \"45\": {\"45\": 58, \"9\": 1, \"4\": 1}, \"35\": {\"35\": 28}, \"29\": {\"29\": 120, \"1\": 3, \"9\": 2, \"19\": 1, \"14\": 2}, \"25\": {\"25\": 144}, \"0\": {\"0\": 124}, \"41\": {\"41\": 28}, \"11\": {\"11\": 142}, \"5\": {\"5\": 103, \"39\": 2, \"47\": 1, \"55\": 2}, \"1\": {\"1\": 92, \"57\": 8}, \"57\": {\"57\": 108, \"1\": 8}, \"17\": {\"17\": 106, \"10\": 1, \"24\": 1}, \"7\": {\"7\": 36}, \"12\": {\"12\": 92}, \"47\": {\"47\": 90, \"5\": 2}, \"40\": {\"40\": 136}, \"15\": {\"15\": 142}, \"42\": {\"42\": 28}, \"55\": {\"55\": 150}, \"49\": {\"49\": 20}, \"30\": {\"30\": 118, \"2\": 1, \"17\": 1}, \"50\": {\"50\": 128, \"25\": 3, \"8\": 1, \"53\": 2}, \"4\": {\"4\": 136}}, \"CORES_4\": {\"35\": {\"35\": 40}, \"25\": {\"25\": 134}, \"24\": {\"24\": 56}, \"48\": {\"48\": 138}, \"51\": {\"51\": 144}, \"13\": {\"13\": 120}, \"14\": {\"35\": 5, \"1\": 1, \"14\": 7, \"57\": 2, \"0\": 1}, \"32\": {\"32\": 24}, \"30\": {\"30\": 44}, \"34\": {\"34\": 24}, \"9\": {\"9\": 136}, \"1\": {\"1\": 40}, \"0\": {\"32\": 6, \"0\": 57, \"2\": 1, \"22\": 1, \"20\": 1, \"46\": 8, \"47\": 2, \"8\": 1, \"54\": 1, \"56\": 2}, \"38\": {\"38\": 40}, \"22\": {\"22\": 126, \"43\": 2}, \"40\": {\"40\": 119, \"4\": 1}, \"6\": {\"6\": 108, \"53\": 1, \"50\": 2, \"3\": 1}, \"16\": {\"16\": 96}, \"11\": {\"11\": 104}, \"20\": {\"20\": 122}, \"17\": {\"17\": 80}, \"26\": {\"26\": 24}, \"54\": {\"54\": 108}, \"55\": {\"55\": 154}, \"50\": {\"50\": 118, \"53\": 5, \"25\": 3, \"21\": 2, \"55\": 1, \"6\": 3}, \"19\": {\"19\": 142}, \"44\": {\"44\": 122}, \"47\": {\"47\": 120}, \"33\": {\"33\": 36}, \"5\": {\"5\": 107, \"47\": 1}, \"18\": {\"18\": 108}, \"21\": {\"21\": 122, \"20\": 1, \"50\": 1}, \"41\": {\"41\": 36}, \"23\": {\"23\": 128}, \"39\": {\"39\": 20}, \"37\": {\"37\": 24}, \"8\": {\"8\": 144}, \"49\": {\"49\": 20}, \"53\": {\"53\": 140}, \"31\": {\"31\": 28}, \"28\": {\"28\": 32}, \"3\": {\"3\": 109, \"50\": 3, \"25\": 7, \"20\": 2, \"8\": 2, \"53\": 1}, \"27\": {\"27\": 136, \"48\": 2}, \"46\": {\"46\": 117, \"32\": 3, \"5\": 3, \"47\": 4, \"22\": 1}, \"12\": {\"12\": 92}, \"7\": {\"7\": 24}, \"4\": {\"4\": 132}, \"42\": {\"42\": 32}, \"43\": {\"43\": 130}, \"29\": {\"29\": 118, \"45\": 1, \"9\": 1}, \"57\": {\"57\": 100}, \"52\": {\"52\": 104}, \"45\": {\"45\": 96}, \"36\": {\"36\": 92}, \"10\": {\"10\": 126}, \"15\": {\"15\": 134}, \"56\": {\"56\": 123, \"28\": 1}, \"2\": {\"2\": 36}}, \"CORES_5\": {\"47\": {\"47\": 100}, \"53\": {\"53\": 150}, \"29\": {\"29\": 124, \"34\": 1, \"5\": 1}, \"52\": {\"52\": 130}, \"55\": {\"55\": 144}, \"17\": {\"17\": 116}, \"42\": {\"42\": 40}, \"33\": {\"33\": 32}, \"11\": {\"11\": 148}, \"19\": {\"19\": 118}, \"1\": {\"1\": 144}, \"44\": {\"44\": 139, \"19\": 3}, \"49\": {\"49\": 36}, \"4\": {\"4\": 100}, \"6\": {\"6\": 115, \"1\": 1}, \"39\": {\"39\": 20}, \"50\": {\"50\": 130, \"25\": 4, \"53\": 8, \"20\": 1, \"21\": 3, \"23\": 1, \"51\": 1}, \"56\": {\"56\": 130}, \"25\": {\"25\": 144}, \"28\": {\"28\": 32}, \"35\": {\"35\": 36}, \"24\": {\"24\": 80}, \"21\": {\"21\": 131, \"50\": 1}, \"45\": {\"45\": 108, \"4\": 4, \"9\": 3, \"17\": 2, \"27\": 4, \"48\": 3}, \"16\": {\"16\": 144}, \"37\": {\"37\": 24}, \"57\": {\"57\": 132}, \"34\": {\"34\": 36}, \"38\": {\"38\": 32}, \"48\": {\"48\": 123, \"9\": 7}, \"26\": {\"26\": 24}, \"9\": {\"9\": 143, \"48\": 9}, \"18\": {\"18\": 64}, \"3\": {\"3\": 83, \"42\": 2, \"41\": 2, \"49\": 3, \"18\": 1, \"46\": 6, \"47\": 2, \"31\": 1}, \"23\": {\"23\": 124}, \"15\": {\"15\": 154}, \"10\": {\"10\": 68}, \"46\": {\"46\": 144, \"3\": 1, \"42\": 1, \"39\": 1, \"47\": 1}, \"22\": {\"22\": 25, \"36\": 2, \"34\": 1}, \"54\": {\"54\": 112}, \"27\": {\"27\": 159, \"32\": 1}, \"41\": {\"41\": 24, \"3\": 2, \"49\": 1, \"47\": 1}, \"31\": {\"31\": 36}, \"0\": {\"0\": 124}, \"7\": {\"7\": 32}, \"2\": {\"2\": 25, \"49\": 2, \"47\": 1}, \"14\": {\"14\": 24, \"46\": 5, \"28\": 4, \"36\": 4, \"31\": 3, \"57\": 4}, \"40\": {\"40\": 114, \"9\": 2, \"29\": 3, \"34\": 5}, \"5\": {\"5\": 126, \"19\": 2}, \"12\": {\"12\": 96}, \"43\": {\"43\": 136, \"15\": 6}, \"13\": {\"13\": 148}, \"36\": {\"36\": 92}, \"8\": {\"8\": 150}, \"32\": {\"32\": 31, \"27\": 1}, \"30\": {\"30\": 128}, \"51\": {\"51\": 138}, \"20\": {\"20\": 138}}, \"CORES_1\": {\"46\": {\"46\": 140}, \"16\": {\"16\": 134}, \"26\": {\"26\": 24}, \"10\": {\"10\": 96}, \"9\": {\"9\": 156}, \"28\": {\"28\": 28}, \"51\": {\"51\": 156}, \"1\": {\"1\": 92, \"57\": 8}, \"55\": {\"55\": 148}, \"27\": {\"27\": 124}, \"22\": {\"22\": 93, \"24\": 12, \"21\": 6, \"52\": 7, \"10\": 5, \"23\": 1}, \"52\": {\"22\": 4, \"52\": 117, \"10\": 2, \"11\": 3}, \"3\": {\"3\": 140}, \"33\": {\"33\": 32}, \"47\": {\"47\": 120}, \"42\": {\"42\": 40}, \"12\": {\"12\": 107, \"51\": 6, \"53\": 3}, \"23\": {\"23\": 131, \"21\": 1}, \"49\": {\"49\": 32}, \"7\": {\"7\": 28}, \"4\": {\"4\": 132}, \"50\": {\"50\": 134}, \"19\": {\"19\": 153, \"57\": 1}, \"11\": {\"11\": 140}, \"31\": {\"31\": 28}, \"41\": {\"41\": 24}, \"56\": {\"19\": 12, \"56\": 108, \"57\": 12, \"29\": 1, \"44\": 2, \"1\": 3}, \"0\": {\"0\": 148}, \"57\": {\"57\": 122, \"1\": 5, \"56\": 1}, \"53\": {\"53\": 140}, \"43\": {\"43\": 144}, \"37\": {\"37\": 32}, \"2\": {\"2\": 36}, \"6\": {\"6\": 92, \"5\": 1, \"48\": 3}, \"13\": {\"13\": 150}, \"18\": {\"18\": 72}, \"36\": {\"36\": 64}, \"29\": {\"29\": 140}, \"39\": {\"39\": 28}, \"17\": {\"17\": 64}, \"21\": {\"21\": 108, \"24\": 1, \"23\": 3, \"22\": 9, \"52\": 3}, \"25\": {\"25\": 132}, \"45\": {\"45\": 137, \"42\": 2, \"55\": 3}, \"38\": {\"38\": 24}, \"30\": {\"30\": 115, \"9\": 5}, \"24\": {\"24\": 101, \"11\": 2, \"22\": 4, \"10\": 1}, \"20\": {\"20\": 140}, \"8\": {\"8\": 140}, \"35\": {\"35\": 36}, \"54\": {\"54\": 104}, \"5\": {\"5\": 147, \"6\": 1}, \"48\": {\"48\": 144}, \"15\": {\"15\": 142}, \"34\": {\"34\": 24}, \"14\": {\"54\": 3, \"14\": 10, \"26\": 1, \"25\": 1, \"7\": 1, \"8\": 2, \"51\": 1, \"53\": 1, \"30\": 1, \"20\": 1, \"5\": 1, \"9\": 1}, \"32\": {\"32\": 32}, \"40\": {\"40\": 148}, \"44\": {\"44\": 114, \"29\": 8, \"56\": 4, \"57\": 8, \"19\": 2}}, \"CORES_2\": {\"36\": {\"36\": 116}, \"5\": {\"5\": 117, \"47\": 3}, \"45\": {\"4\": 5, \"45\": 123}, \"49\": {\"49\": 24}, \"50\": {\"50\": 133, \"25\": 3}, \"4\": {\"4\": 138}, \"43\": {\"43\": 148}, \"41\": {\"41\": 20}, \"37\": {\"37\": 36}, \"12\": {\"12\": 92}, \"33\": {\"33\": 28}, \"7\": {\"7\": 36}, \"56\": {\"56\": 140}, \"14\": {\"14\": 19, \"1\": 2, \"57\": 2, \"29\": 1}, \"52\": {\"52\": 124}, \"44\": {\"44\": 95, \"40\": 1}, \"48\": {\"48\": 144}, \"20\": {\"20\": 128}, \"55\": {\"55\": 144}, \"32\": {\"32\": 28}, \"40\": {\"40\": 127, \"9\": 7, \"4\": 1, \"35\": 1}, \"54\": {\"54\": 108}, \"17\": {\"17\": 104}, \"38\": {\"38\": 20}, \"24\": {\"24\": 96}, \"1\": {\"1\": 112}, \"6\": {\"6\": 122, \"8\": 2}, \"34\": {\"34\": 28}, \"11\": {\"11\": 136}, \"9\": {\"9\": 150}, \"8\": {\"8\": 152}, \"22\": {\"22\": 136}, \"26\": {\"26\": 24}, \"23\": {\"23\": 146}, \"10\": {\"10\": 112}, \"18\": {\"18\": 48}, \"13\": {\"13\": 116}, \"30\": {\"30\": 119, \"23\": 3, \"8\": 1, \"18\": 1, \"6\": 1, \"12\": 1, \"15\": 2}, \"42\": {\"57\": 1, \"42\": 35}, \"31\": {\"31\": 28}, \"46\": {\"46\": 124, \"6\": 2, \"15\": 1, \"12\": 1}, \"57\": {\"57\": 142}, \"47\": {\"47\": 136, \"5\": 2}, \"35\": {\"35\": 32}, \"15\": {\"15\": 132}, \"25\": {\"25\": 136}, \"19\": {\"19\": 136}, \"51\": {\"51\": 128}, \"53\": {\"53\": 134}, \"21\": {\"21\": 120}, \"39\": {\"39\": 28}, \"2\": {\"2\": 32}, \"16\": {\"16\": 150}, \"0\": {\"0\": 48}, \"3\": {\"3\": 85, \"53\": 6, \"21\": 1}, \"27\": {\"27\": 142}, \"28\": {\"28\": 28}, \"29\": {\"29\": 128}}}, \"per_domain_accuracy\": {\"ORACLE.run1_14\": {\"accuracy\": 0.81765625, \"source?\": true}, \"ORACLE.run1_20\": {\"accuracy\": 0.65328125, \"source?\": true}, \"ORACLE.run1_38\": {\"accuracy\": 0.8006770833333333, \"source?\": true}, \"ORACLE.run1_8\": {\"accuracy\": 0.69515625, \"source?\": true}, \"ORACLE.run1_50\": {\"accuracy\": 0.78734375, \"source?\": true}, \"ORACLE.run1_32\": {\"accuracy\": 0.7739583333333333, \"source?\": true}, \"ORACLE.run1_26\": {\"accuracy\": 0.5535416666666667, \"source?\": true}, \"ORACLE.run1_44\": {\"accuracy\": 0.7172916666666667, \"source?\": true}, \"CORES_3\": {\"accuracy\": 0.9852834302325582, \"source?\": false}, \"CORES_4\": {\"accuracy\": 0.9835227272727273, \"source?\": false}, \"CORES_5\": {\"accuracy\": 0.9776536312849162, \"source?\": false}, \"CORES_1\": {\"accuracy\": 0.9711407103825137, \"source?\": false}, \"CORES_2\": {\"accuracy\": 0.9909957627118644, \"source?\": false}}}, \"history\": {\"epoch_indices\": [1, 2, 3, 4, 5, 6, 7, 8, 9, 10, 11, 12, 13, 14, 15, 16, 17, 18, 19], \"train_label_loss\": [1.0628690755110057, 0.8326013437893597, 0.7428952826442019, 0.6600320532696233, 0.5958642289173302, 0.540886569748677, 0.493377784344789, 0.45377964379532, 0.42059879161356506, 0.3898295173753563, 0.36174112295676464, 0.33612404176555133, 0.31202129031099113, 0.29177426612279045, 0.27296049787574916, 0.2540009068688267, 0.23705740452441249, 0.2230639531645907, 0.20843711710754653], \"source_val_label_loss\": [0.9279135465621948, 0.8613050580024719, 0.8027997016906738, 0.7607382535934448, 0.7508572340011597, 0.7451121807098389, 0.7481340169906616, 0.753551721572876, 0.7618874907493591, 0.7869568467140198, 0.8087682127952576, 0.8390280604362488, 0.8566269874572754, 0.8762677311897278, 0.8991920351982117, 0.9489555954933167, 0.9604978561401367, 0.9766000509262085, 1.0124046802520752], \"target_val_label_loss\": [0.17275743186473846, 0.18264390528202057, 0.21078865230083466, 0.21120506525039673, 0.2112572342157364, 0.2206798791885376, 0.2318609356880188, 0.22743351757526398, 0.24255767464637756, 0.25755539536476135, 0.26899832487106323, 0.26715797185897827, 0.2890816330909729, 0.29764747619628906, 0.29845544695854187, 0.3342648148536682, 0.32814377546310425, 0.3284439146518707, 0.3702070116996765], \"source_val_acc_label\": [0.65236328125, 0.67255859375, 0.7028841145833333, 0.7206315104166666, 0.7279361979166666, 0.72978515625, 0.73134765625, 0.73294921875, 0.7313216145833333, 0.73072265625, 0.72619140625, 0.7308463541666667, 0.7255338541666667, 0.7282096354166666, 0.72486328125, 0.7123828125, 0.722734375, 0.7206119791666666, 0.7187565104166667], \"target_val_acc_label\": [0.9633276255707762, 0.9709974315068494, 0.9769192351598174, 0.9794877283105022, 0.9798087899543378, 0.98087899543379, 0.9804865867579908, 0.9813070776255708, 0.9801655251141552, 0.9807006278538812, 0.9807006278538812, 0.981556792237443, 0.9806292808219178, 0.9806292808219178, 0.9815924657534246, 0.9797017694063926, 0.9814854452054794, 0.9810216894977168, 0.9803795662100456]}, \"dataset_metrics\": {\"source\": {\"train\": {\"n_unique_x\": 896000, \"n_unique_y\": 16, \"n_batch/episode\": 33600}, \"val\": {\"n_unique_x\": 192000, \"n_unique_y\": 16, \"n_batch/episode\": 4800}, \"test\": {\"n_unique_x\": 192000, \"n_unique_y\": 16, \"n_batch/episode\": 4800}}, \"target\": {\"train\": {\"n_unique_x\": 175212, \"n_unique_y\": 58, \"n_batch/episode\": 6322}, \"val\": {\"n_unique_x\": 37196, \"n_unique_y\": 58, \"n_batch/episode\": 876}, \"test\": {\"n_unique_x\": 37634, \"n_unique_y\": 58, \"n_batch/episode\": 891}}}}'"
      ]
     },
     "execution_count": 29,
     "metadata": {},
     "output_type": "execute_result"
    }
   ],
   "source": [
    "json.dumps(experiment)"
   ]
  }
 ],
 "metadata": {
  "celltoolbar": "Tags",
  "kernelspec": {
   "display_name": "Python 3 (ipykernel)",
   "language": "python",
   "name": "python3"
  },
  "language_info": {
   "codemirror_mode": {
    "name": "ipython",
    "version": 3
   },
   "file_extension": ".py",
   "mimetype": "text/x-python",
   "name": "python",
   "nbconvert_exporter": "python",
   "pygments_lexer": "ipython3",
   "version": "3.8.12"
  },
  "papermill": {
   "default_parameters": {},
   "duration": 22827.731103,
   "end_time": "2022-03-21T11:42:51.115602",
   "environment_variables": {},
   "exception": null,
   "input_path": "/root/csc500-main/csc500-notebooks/templates/tl_ptn_template.ipynb",
   "output_path": "trial.ipynb",
   "parameters": {
    "parameters": {
     "BEST_MODEL_PATH": "./best_model.pth",
     "NUM_LOGS_PER_EPOCH": 10,
     "criteria_for_best": "target_accuracy",
     "dataset_seed": 1337,
     "datasets": [
      {
       "domain_prefix": "CORES_",
       "domains": [
        1,
        2,
        3,
        4,
        5
       ],
       "episode_transforms": [],
       "labels": [
        "1-10.",
        "1-11.",
        "1-15.",
        "1-16.",
        "1-17.",
        "1-18.",
        "1-19.",
        "10-4.",
        "10-7.",
        "11-1.",
        "11-14.",
        "11-17.",
        "11-20.",
        "11-7.",
        "13-20.",
        "13-8.",
        "14-10.",
        "14-11.",
        "14-14.",
        "14-7.",
        "15-1.",
        "15-20.",
        "16-1.",
        "16-16.",
        "17-10.",
        "17-11.",
        "17-2.",
        "19-1.",
        "19-16.",
        "19-19.",
        "19-20.",
        "19-3.",
        "2-10.",
        "2-11.",
        "2-17.",
        "2-18.",
        "2-20.",
        "2-3.",
        "2-4.",
        "2-5.",
        "2-6.",
        "2-7.",
        "2-8.",
        "3-13.",
        "3-18.",
        "3-3.",
        "4-1.",
        "4-10.",
        "4-11.",
        "4-19.",
        "5-5.",
        "6-15.",
        "7-10.",
        "7-14.",
        "8-18.",
        "8-20.",
        "8-3.",
        "8-8."
       ],
       "num_examples_per_domain_per_label": -1,
       "pickle_path": "/root/csc500-main/datasets/cores.stratified_ds.2022A.pkl",
       "source_or_target_dataset": "target",
       "x_transforms": [
        "unit_power"
       ]
      },
      {
       "domain_prefix": "ORACLE.run1_",
       "domains": [
        32,
        38,
        8,
        44,
        14,
        50,
        20,
        26
       ],
       "episode_transforms": [],
       "labels": [
        "3123D52",
        "3123D65",
        "3123D79",
        "3123D80",
        "3123D54",
        "3123D70",
        "3123D7B",
        "3123D89",
        "3123D58",
        "3123D76",
        "3123D7D",
        "3123EFE",
        "3123D64",
        "3123D78",
        "3123D7E",
        "3124E4A"
       ],
       "num_examples_per_domain_per_label": 10000,
       "pickle_path": "/root/csc500-main/datasets/oracle.Run1_10kExamples_stratified_ds.2022A.pkl",
       "source_or_target_dataset": "source",
       "x_transforms": [
        "unit_power"
       ]
      }
     ],
     "device": "cuda",
     "experiment_name": "tl_1v2:cores-oracle.run1",
     "lr": 0.0001,
     "n_epoch": 50,
     "n_query": 2,
     "n_shot": 3,
     "n_way": 16,
     "patience": 3,
     "seed": 1337,
     "test_k_factor": 2,
     "torch_default_dtype": "torch.float32",
     "train_k_factor": 3,
     "val_k_factor": 2,
     "x_net": [
      {
       "class": "nnReshape",
       "kargs": {
        "shape": [
         -1,
         1,
         2,
         256
        ]
       }
      },
      {
       "class": "Conv2d",
       "kargs": {
        "bias": false,
        "in_channels": 1,
        "kernel_size": [
         1,
         7
        ],
        "out_channels": 256,
        "padding": [
         0,
         3
        ]
       }
      },
      {
       "class": "ReLU",
       "kargs": {
        "inplace": true
       }
      },
      {
       "class": "BatchNorm2d",
       "kargs": {
        "num_features": 256
       }
      },
      {
       "class": "Conv2d",
       "kargs": {
        "bias": true,
        "in_channels": 256,
        "kernel_size": [
         2,
         7
        ],
        "out_channels": 80,
        "padding": [
         0,
         3
        ]
       }
      },
      {
       "class": "ReLU",
       "kargs": {
        "inplace": true
       }
      },
      {
       "class": "BatchNorm2d",
       "kargs": {
        "num_features": 80
       }
      },
      {
       "class": "Flatten",
       "kargs": {}
      },
      {
       "class": "Linear",
       "kargs": {
        "in_features": 20480,
        "out_features": 256
       }
      },
      {
       "class": "ReLU",
       "kargs": {
        "inplace": true
       }
      },
      {
       "class": "BatchNorm1d",
       "kargs": {
        "num_features": 256
       }
      },
      {
       "class": "Linear",
       "kargs": {
        "in_features": 256,
        "out_features": 256
       }
      }
     ]
    }
   },
   "start_time": "2022-03-21T05:22:23.384499",
   "version": "2.3.4"
  }
 },
 "nbformat": 4,
 "nbformat_minor": 5
}