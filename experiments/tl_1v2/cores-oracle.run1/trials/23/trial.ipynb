{
 "cells": [
  {
   "cell_type": "markdown",
   "id": "9fea5f46",
   "metadata": {
    "papermill": {
     "duration": 0.026256,
     "end_time": "2022-03-23T05:04:11.084418",
     "exception": false,
     "start_time": "2022-03-23T05:04:11.058162",
     "status": "completed"
    },
    "tags": []
   },
   "source": [
    "# Transfer Learning Template"
   ]
  },
  {
   "cell_type": "code",
   "execution_count": 1,
   "id": "0902182a",
   "metadata": {
    "execution": {
     "iopub.execute_input": "2022-03-23T05:04:11.144439Z",
     "iopub.status.busy": "2022-03-23T05:04:11.131573Z",
     "iopub.status.idle": "2022-03-23T05:04:13.016431Z",
     "shell.execute_reply": "2022-03-23T05:04:13.015577Z"
    },
    "papermill": {
     "duration": 1.91233,
     "end_time": "2022-03-23T05:04:13.016622",
     "exception": false,
     "start_time": "2022-03-23T05:04:11.104292",
     "status": "completed"
    },
    "tags": []
   },
   "outputs": [],
   "source": [
    "%load_ext autoreload\n",
    "%autoreload 2\n",
    "%matplotlib inline\n",
    "\n",
    "    \n",
    "import os, json, sys, time, random\n",
    "import numpy as np\n",
    "import torch\n",
    "from torch.optim import Adam\n",
    "from  easydict import EasyDict\n",
    "import matplotlib.pyplot as plt\n",
    "\n",
    "from steves_models.steves_ptn import Steves_Prototypical_Network\n",
    "\n",
    "from steves_utils.lazy_iterable_wrapper import Lazy_Iterable_Wrapper\n",
    "from steves_utils.iterable_aggregator import Iterable_Aggregator\n",
    "from steves_utils.ptn_train_eval_test_jig import  PTN_Train_Eval_Test_Jig\n",
    "from steves_utils.torch_sequential_builder import build_sequential\n",
    "from steves_utils.torch_utils import get_dataset_metrics, ptn_confusion_by_domain_over_dataloader\n",
    "from steves_utils.utils_v2 import (per_domain_accuracy_from_confusion, get_datasets_base_path)\n",
    "from steves_utils.PTN.utils import independent_accuracy_assesment\n",
    "\n",
    "from torch.utils.data import DataLoader\n",
    "\n",
    "from steves_utils.stratified_dataset.episodic_accessor import Episodic_Accessor_Factory\n",
    "\n",
    "from steves_utils.ptn_do_report import (\n",
    "    get_loss_curve,\n",
    "    get_results_table,\n",
    "    get_parameters_table,\n",
    "    get_domain_accuracies,\n",
    ")\n",
    "\n",
    "from steves_utils.transforms import get_chained_transform"
   ]
  },
  {
   "cell_type": "markdown",
   "id": "41c840b4",
   "metadata": {
    "papermill": {
     "duration": 0.019469,
     "end_time": "2022-03-23T05:04:13.058173",
     "exception": false,
     "start_time": "2022-03-23T05:04:13.038704",
     "status": "completed"
    },
    "tags": []
   },
   "source": [
    "# Allowed Parameters\n",
    "These are allowed parameters, not defaults\n",
    "Each of these values need to be present in the injected parameters (the notebook will raise an exception if they are not present)\n",
    "\n",
    "Papermill uses the cell tag \"parameters\" to inject the real parameters below this cell.\n",
    "Enable tags to see what I mean"
   ]
  },
  {
   "cell_type": "code",
   "execution_count": 2,
   "id": "fd44eb83",
   "metadata": {
    "execution": {
     "iopub.execute_input": "2022-03-23T05:04:13.102676Z",
     "iopub.status.busy": "2022-03-23T05:04:13.102290Z",
     "iopub.status.idle": "2022-03-23T05:04:13.123948Z",
     "shell.execute_reply": "2022-03-23T05:04:13.123569Z"
    },
    "papermill": {
     "duration": 0.046446,
     "end_time": "2022-03-23T05:04:13.124023",
     "exception": false,
     "start_time": "2022-03-23T05:04:13.077577",
     "status": "completed"
    },
    "tags": []
   },
   "outputs": [],
   "source": [
    "required_parameters = {\n",
    "    \"experiment_name\",\n",
    "    \"lr\",\n",
    "    \"device\",\n",
    "    \"seed\",\n",
    "    \"dataset_seed\",\n",
    "    \"n_shot\",\n",
    "    \"n_query\",\n",
    "    \"n_way\",\n",
    "    \"train_k_factor\",\n",
    "    \"val_k_factor\",\n",
    "    \"test_k_factor\",\n",
    "    \"n_epoch\",\n",
    "    \"patience\",\n",
    "    \"criteria_for_best\",\n",
    "    \"x_net\",\n",
    "    \"datasets\",\n",
    "    \"torch_default_dtype\",\n",
    "    \"NUM_LOGS_PER_EPOCH\",\n",
    "    \"BEST_MODEL_PATH\",\n",
    "    \"x_shape\",\n",
    "}"
   ]
  },
  {
   "cell_type": "code",
   "execution_count": 3,
   "id": "fa3f0049",
   "metadata": {
    "execution": {
     "iopub.execute_input": "2022-03-23T05:04:13.178482Z",
     "iopub.status.busy": "2022-03-23T05:04:13.176134Z",
     "iopub.status.idle": "2022-03-23T05:04:13.197723Z",
     "shell.execute_reply": "2022-03-23T05:04:13.197355Z"
    },
    "papermill": {
     "duration": 0.054035,
     "end_time": "2022-03-23T05:04:13.197792",
     "exception": false,
     "start_time": "2022-03-23T05:04:13.143757",
     "status": "completed"
    },
    "tags": [
     "parameters"
    ]
   },
   "outputs": [],
   "source": [
    "from steves_utils.CORES.utils import (\n",
    "    ALL_NODES,\n",
    "    ALL_NODES_MINIMUM_1000_EXAMPLES,\n",
    "    ALL_DAYS\n",
    ")\n",
    "\n",
    "from steves_utils.ORACLE.utils_v2 import (\n",
    "    ALL_DISTANCES_FEET_NARROWED,\n",
    "    ALL_RUNS,\n",
    "    ALL_SERIAL_NUMBERS,\n",
    ")\n",
    "\n",
    "standalone_parameters = {}\n",
    "standalone_parameters[\"experiment_name\"] = \"STANDALONE PTN\"\n",
    "standalone_parameters[\"lr\"] = 0.001\n",
    "standalone_parameters[\"device\"] = \"cuda\"\n",
    "\n",
    "standalone_parameters[\"seed\"] = 1337\n",
    "standalone_parameters[\"dataset_seed\"] = 1337\n",
    "\n",
    "standalone_parameters[\"n_way\"] = 8\n",
    "standalone_parameters[\"n_shot\"] = 3\n",
    "standalone_parameters[\"n_query\"]  = 2\n",
    "standalone_parameters[\"train_k_factor\"] = 1\n",
    "standalone_parameters[\"val_k_factor\"] = 2\n",
    "standalone_parameters[\"test_k_factor\"] = 2\n",
    "\n",
    "\n",
    "standalone_parameters[\"n_epoch\"] = 50\n",
    "\n",
    "standalone_parameters[\"patience\"] = 10\n",
    "standalone_parameters[\"criteria_for_best\"] = \"source_loss\"\n",
    "\n",
    "standalone_parameters[\"datasets\"] = [\n",
    "    {\n",
    "        \"labels\": ALL_SERIAL_NUMBERS,\n",
    "        \"domains\": ALL_DISTANCES_FEET_NARROWED,\n",
    "        \"num_examples_per_domain_per_label\": 100,\n",
    "        \"pickle_path\": os.path.join(get_datasets_base_path(), \"oracle.Run1_framed_2000Examples_stratified_ds.2022A.pkl\"),\n",
    "        \"source_or_target_dataset\": \"source\",\n",
    "        \"x_transforms\": [\"unit_mag\", \"minus_two\"],\n",
    "        \"episode_transforms\": [],\n",
    "        \"domain_prefix\": \"ORACLE_\"\n",
    "    },\n",
    "    {\n",
    "        \"labels\": ALL_NODES,\n",
    "        \"domains\": ALL_DAYS,\n",
    "        \"num_examples_per_domain_per_label\": 100,\n",
    "        \"pickle_path\": os.path.join(get_datasets_base_path(), \"cores.stratified_ds.2022A.pkl\"),\n",
    "        \"source_or_target_dataset\": \"target\",\n",
    "        \"x_transforms\": [\"unit_power\", \"times_zero\"],\n",
    "        \"episode_transforms\": [],\n",
    "        \"domain_prefix\": \"CORES_\"\n",
    "    }   \n",
    "]\n",
    "\n",
    "standalone_parameters[\"torch_default_dtype\"] = \"torch.float32\" \n",
    "\n",
    "\n",
    "\n",
    "standalone_parameters[\"x_net\"] =     [\n",
    "    {\"class\": \"nnReshape\", \"kargs\": {\"shape\":[-1, 1, 2, 256]}},\n",
    "    {\"class\": \"Conv2d\", \"kargs\": { \"in_channels\":1, \"out_channels\":256, \"kernel_size\":(1,7), \"bias\":False, \"padding\":(0,3), },},\n",
    "    {\"class\": \"ReLU\", \"kargs\": {\"inplace\": True}},\n",
    "    {\"class\": \"BatchNorm2d\", \"kargs\": {\"num_features\":256}},\n",
    "\n",
    "    {\"class\": \"Conv2d\", \"kargs\": { \"in_channels\":256, \"out_channels\":80, \"kernel_size\":(2,7), \"bias\":True, \"padding\":(0,3), },},\n",
    "    {\"class\": \"ReLU\", \"kargs\": {\"inplace\": True}},\n",
    "    {\"class\": \"BatchNorm2d\", \"kargs\": {\"num_features\":80}},\n",
    "    {\"class\": \"Flatten\", \"kargs\": {}},\n",
    "\n",
    "    {\"class\": \"Linear\", \"kargs\": {\"in_features\": 80*256, \"out_features\": 256}}, # 80 units per IQ pair\n",
    "    {\"class\": \"ReLU\", \"kargs\": {\"inplace\": True}},\n",
    "    {\"class\": \"BatchNorm1d\", \"kargs\": {\"num_features\":256}},\n",
    "\n",
    "    {\"class\": \"Linear\", \"kargs\": {\"in_features\": 256, \"out_features\": 256}},\n",
    "]\n",
    "\n",
    "# Parameters relevant to results\n",
    "# These parameters will basically never need to change\n",
    "standalone_parameters[\"NUM_LOGS_PER_EPOCH\"] = 10\n",
    "standalone_parameters[\"BEST_MODEL_PATH\"] = \"./best_model.pth\"\n",
    "\n",
    "\n",
    "\n",
    "\n"
   ]
  },
  {
   "cell_type": "code",
   "execution_count": 4,
   "id": "c8dab591",
   "metadata": {
    "execution": {
     "iopub.execute_input": "2022-03-23T05:04:13.252332Z",
     "iopub.status.busy": "2022-03-23T05:04:13.251901Z",
     "iopub.status.idle": "2022-03-23T05:04:13.270466Z",
     "shell.execute_reply": "2022-03-23T05:04:13.270770Z"
    },
    "papermill": {
     "duration": 0.05344,
     "end_time": "2022-03-23T05:04:13.270850",
     "exception": false,
     "start_time": "2022-03-23T05:04:13.217410",
     "status": "completed"
    },
    "tags": [
     "injected-parameters"
    ]
   },
   "outputs": [],
   "source": [
    "# Parameters\n",
    "parameters = {\n",
    "    \"experiment_name\": \"tl_1v2:cores-oracle.run1\",\n",
    "    \"device\": \"cuda\",\n",
    "    \"lr\": 0.0001,\n",
    "    \"n_shot\": 3,\n",
    "    \"n_query\": 2,\n",
    "    \"train_k_factor\": 3,\n",
    "    \"val_k_factor\": 2,\n",
    "    \"test_k_factor\": 2,\n",
    "    \"torch_default_dtype\": \"torch.float32\",\n",
    "    \"n_epoch\": 50,\n",
    "    \"patience\": 3,\n",
    "    \"criteria_for_best\": \"target_accuracy\",\n",
    "    \"x_net\": [\n",
    "        {\"class\": \"nnReshape\", \"kargs\": {\"shape\": [-1, 1, 2, 256]}},\n",
    "        {\n",
    "            \"class\": \"Conv2d\",\n",
    "            \"kargs\": {\n",
    "                \"in_channels\": 1,\n",
    "                \"out_channels\": 256,\n",
    "                \"kernel_size\": [1, 7],\n",
    "                \"bias\": False,\n",
    "                \"padding\": [0, 3],\n",
    "            },\n",
    "        },\n",
    "        {\"class\": \"ReLU\", \"kargs\": {\"inplace\": True}},\n",
    "        {\"class\": \"BatchNorm2d\", \"kargs\": {\"num_features\": 256}},\n",
    "        {\n",
    "            \"class\": \"Conv2d\",\n",
    "            \"kargs\": {\n",
    "                \"in_channels\": 256,\n",
    "                \"out_channels\": 80,\n",
    "                \"kernel_size\": [2, 7],\n",
    "                \"bias\": True,\n",
    "                \"padding\": [0, 3],\n",
    "            },\n",
    "        },\n",
    "        {\"class\": \"ReLU\", \"kargs\": {\"inplace\": True}},\n",
    "        {\"class\": \"BatchNorm2d\", \"kargs\": {\"num_features\": 80}},\n",
    "        {\"class\": \"Flatten\", \"kargs\": {}},\n",
    "        {\"class\": \"Linear\", \"kargs\": {\"in_features\": 20480, \"out_features\": 256}},\n",
    "        {\"class\": \"ReLU\", \"kargs\": {\"inplace\": True}},\n",
    "        {\"class\": \"BatchNorm1d\", \"kargs\": {\"num_features\": 256}},\n",
    "        {\"class\": \"Linear\", \"kargs\": {\"in_features\": 256, \"out_features\": 256}},\n",
    "    ],\n",
    "    \"NUM_LOGS_PER_EPOCH\": 10,\n",
    "    \"BEST_MODEL_PATH\": \"./best_model.pth\",\n",
    "    \"n_way\": 16,\n",
    "    \"datasets\": [\n",
    "        {\n",
    "            \"labels\": [\n",
    "                \"1-10.\",\n",
    "                \"1-11.\",\n",
    "                \"1-15.\",\n",
    "                \"1-16.\",\n",
    "                \"1-17.\",\n",
    "                \"1-18.\",\n",
    "                \"1-19.\",\n",
    "                \"10-4.\",\n",
    "                \"10-7.\",\n",
    "                \"11-1.\",\n",
    "                \"11-14.\",\n",
    "                \"11-17.\",\n",
    "                \"11-20.\",\n",
    "                \"11-7.\",\n",
    "                \"13-20.\",\n",
    "                \"13-8.\",\n",
    "                \"14-10.\",\n",
    "                \"14-11.\",\n",
    "                \"14-14.\",\n",
    "                \"14-7.\",\n",
    "                \"15-1.\",\n",
    "                \"15-20.\",\n",
    "                \"16-1.\",\n",
    "                \"16-16.\",\n",
    "                \"17-10.\",\n",
    "                \"17-11.\",\n",
    "                \"17-2.\",\n",
    "                \"19-1.\",\n",
    "                \"19-16.\",\n",
    "                \"19-19.\",\n",
    "                \"19-20.\",\n",
    "                \"19-3.\",\n",
    "                \"2-10.\",\n",
    "                \"2-11.\",\n",
    "                \"2-17.\",\n",
    "                \"2-18.\",\n",
    "                \"2-20.\",\n",
    "                \"2-3.\",\n",
    "                \"2-4.\",\n",
    "                \"2-5.\",\n",
    "                \"2-6.\",\n",
    "                \"2-7.\",\n",
    "                \"2-8.\",\n",
    "                \"3-13.\",\n",
    "                \"3-18.\",\n",
    "                \"3-3.\",\n",
    "                \"4-1.\",\n",
    "                \"4-10.\",\n",
    "                \"4-11.\",\n",
    "                \"4-19.\",\n",
    "                \"5-5.\",\n",
    "                \"6-15.\",\n",
    "                \"7-10.\",\n",
    "                \"7-14.\",\n",
    "                \"8-18.\",\n",
    "                \"8-20.\",\n",
    "                \"8-3.\",\n",
    "                \"8-8.\",\n",
    "            ],\n",
    "            \"domains\": [1, 2, 3, 4, 5],\n",
    "            \"num_examples_per_domain_per_label\": -1,\n",
    "            \"pickle_path\": \"/root/csc500-main/datasets/cores.stratified_ds.2022A.pkl\",\n",
    "            \"source_or_target_dataset\": \"target\",\n",
    "            \"x_transforms\": [],\n",
    "            \"episode_transforms\": [],\n",
    "            \"domain_prefix\": \"CORES_\",\n",
    "        },\n",
    "        {\n",
    "            \"labels\": [\n",
    "                \"3123D52\",\n",
    "                \"3123D65\",\n",
    "                \"3123D79\",\n",
    "                \"3123D80\",\n",
    "                \"3123D54\",\n",
    "                \"3123D70\",\n",
    "                \"3123D7B\",\n",
    "                \"3123D89\",\n",
    "                \"3123D58\",\n",
    "                \"3123D76\",\n",
    "                \"3123D7D\",\n",
    "                \"3123EFE\",\n",
    "                \"3123D64\",\n",
    "                \"3123D78\",\n",
    "                \"3123D7E\",\n",
    "                \"3124E4A\",\n",
    "            ],\n",
    "            \"domains\": [32, 38, 8, 44, 14, 50, 20, 26],\n",
    "            \"num_examples_per_domain_per_label\": 10000,\n",
    "            \"pickle_path\": \"/root/csc500-main/datasets/oracle.Run1_10kExamples_stratified_ds.2022A.pkl\",\n",
    "            \"source_or_target_dataset\": \"source\",\n",
    "            \"x_transforms\": [],\n",
    "            \"episode_transforms\": [],\n",
    "            \"domain_prefix\": \"ORACLE.run1_\",\n",
    "        },\n",
    "    ],\n",
    "    \"dataset_seed\": 7,\n",
    "    \"seed\": 7,\n",
    "}\n"
   ]
  },
  {
   "cell_type": "code",
   "execution_count": 5,
   "id": "8fa1cc33",
   "metadata": {
    "execution": {
     "iopub.execute_input": "2022-03-23T05:04:13.319840Z",
     "iopub.status.busy": "2022-03-23T05:04:13.319454Z",
     "iopub.status.idle": "2022-03-23T05:04:13.339441Z",
     "shell.execute_reply": "2022-03-23T05:04:13.339072Z"
    },
    "papermill": {
     "duration": 0.046993,
     "end_time": "2022-03-23T05:04:13.339512",
     "exception": false,
     "start_time": "2022-03-23T05:04:13.292519",
     "status": "completed"
    },
    "tags": []
   },
   "outputs": [],
   "source": [
    "# Set this to True if you want to run this template directly\n",
    "STANDALONE = False\n",
    "if STANDALONE:\n",
    "    print(\"parameters not injected, running with standalone_parameters\")\n",
    "    parameters = standalone_parameters\n",
    "\n",
    "if not 'parameters' in locals() and not 'parameters' in globals():\n",
    "    raise Exception(\"Parameter injection failed\")\n",
    "\n",
    "#Use an easy dict for all the parameters\n",
    "p = EasyDict(parameters)\n",
    "\n",
    "if \"x_shape\" not in p:\n",
    "    p.x_shape = [2,256] # Default to this if we dont supply x_shape\n",
    "\n",
    "\n",
    "supplied_keys = set(p.keys())\n",
    "\n",
    "if  supplied_keys != required_parameters:\n",
    "    print(\"Parameters are incorrect\")\n",
    "    if len(supplied_keys - required_parameters)>0: print(\"Shouldn't have:\", str(supplied_keys - required_parameters))\n",
    "    if len(required_parameters - supplied_keys)>0: print(\"Need to have:\", str(required_parameters - supplied_keys))\n",
    "    raise RuntimeError(\"Parameters are incorrect\")"
   ]
  },
  {
   "cell_type": "code",
   "execution_count": 6,
   "id": "3a028d58",
   "metadata": {
    "execution": {
     "iopub.execute_input": "2022-03-23T05:04:13.384628Z",
     "iopub.status.busy": "2022-03-23T05:04:13.383704Z",
     "iopub.status.idle": "2022-03-23T05:04:13.403433Z",
     "shell.execute_reply": "2022-03-23T05:04:13.403068Z"
    },
    "papermill": {
     "duration": 0.044353,
     "end_time": "2022-03-23T05:04:13.403502",
     "exception": false,
     "start_time": "2022-03-23T05:04:13.359149",
     "status": "completed"
    },
    "tags": []
   },
   "outputs": [],
   "source": [
    "###################################\n",
    "# Set the RNGs and make it all deterministic\n",
    "###################################\n",
    "np.random.seed(p.seed)\n",
    "random.seed(p.seed)\n",
    "torch.manual_seed(p.seed)\n",
    "\n",
    "torch.use_deterministic_algorithms(True) "
   ]
  },
  {
   "cell_type": "code",
   "execution_count": 7,
   "id": "b691acf6",
   "metadata": {
    "execution": {
     "iopub.execute_input": "2022-03-23T05:04:13.447200Z",
     "iopub.status.busy": "2022-03-23T05:04:13.446658Z",
     "iopub.status.idle": "2022-03-23T05:04:13.469357Z",
     "shell.execute_reply": "2022-03-23T05:04:13.468992Z"
    },
    "papermill": {
     "duration": 0.045842,
     "end_time": "2022-03-23T05:04:13.469425",
     "exception": false,
     "start_time": "2022-03-23T05:04:13.423583",
     "status": "completed"
    },
    "tags": []
   },
   "outputs": [],
   "source": [
    "###########################################\n",
    "# The stratified datasets honor this\n",
    "###########################################\n",
    "torch.set_default_dtype(eval(p.torch_default_dtype))"
   ]
  },
  {
   "cell_type": "code",
   "execution_count": 8,
   "id": "b5fba671",
   "metadata": {
    "execution": {
     "iopub.execute_input": "2022-03-23T05:04:13.513032Z",
     "iopub.status.busy": "2022-03-23T05:04:13.512577Z",
     "iopub.status.idle": "2022-03-23T05:04:13.568750Z",
     "shell.execute_reply": "2022-03-23T05:04:13.569054Z"
    },
    "papermill": {
     "duration": 0.079697,
     "end_time": "2022-03-23T05:04:13.569135",
     "exception": false,
     "start_time": "2022-03-23T05:04:13.489438",
     "status": "completed"
    },
    "tags": []
   },
   "outputs": [],
   "source": [
    "###################################\n",
    "# Build the network(s)\n",
    "# Note: It's critical to do this AFTER setting the RNG\n",
    "###################################\n",
    "x_net = build_sequential(p.x_net)"
   ]
  },
  {
   "cell_type": "code",
   "execution_count": 9,
   "id": "5d7e61cc",
   "metadata": {
    "execution": {
     "iopub.execute_input": "2022-03-23T05:04:13.615055Z",
     "iopub.status.busy": "2022-03-23T05:04:13.614689Z",
     "iopub.status.idle": "2022-03-23T05:04:13.639734Z",
     "shell.execute_reply": "2022-03-23T05:04:13.638849Z"
    },
    "papermill": {
     "duration": 0.050378,
     "end_time": "2022-03-23T05:04:13.639904",
     "exception": false,
     "start_time": "2022-03-23T05:04:13.589526",
     "status": "completed"
    },
    "tags": []
   },
   "outputs": [],
   "source": [
    "start_time_secs = time.time()"
   ]
  },
  {
   "cell_type": "code",
   "execution_count": 10,
   "id": "c6b67dfd",
   "metadata": {
    "execution": {
     "iopub.execute_input": "2022-03-23T05:04:13.689973Z",
     "iopub.status.busy": "2022-03-23T05:04:13.689602Z",
     "iopub.status.idle": "2022-03-23T05:04:13.710875Z",
     "shell.execute_reply": "2022-03-23T05:04:13.710050Z"
    },
    "papermill": {
     "duration": 0.045352,
     "end_time": "2022-03-23T05:04:13.711042",
     "exception": false,
     "start_time": "2022-03-23T05:04:13.665690",
     "status": "completed"
    },
    "tags": []
   },
   "outputs": [],
   "source": [
    "p.domains_source = []\n",
    "p.domains_target = []\n",
    "\n",
    "\n",
    "train_original_source = []\n",
    "val_original_source   = []\n",
    "test_original_source  = []\n",
    "\n",
    "train_original_target = []\n",
    "val_original_target   = []\n",
    "test_original_target  = []"
   ]
  },
  {
   "cell_type": "code",
   "execution_count": 11,
   "id": "e3d9c3d3",
   "metadata": {
    "execution": {
     "iopub.execute_input": "2022-03-23T05:04:13.763259Z",
     "iopub.status.busy": "2022-03-23T05:04:13.762885Z",
     "iopub.status.idle": "2022-03-23T05:04:13.783850Z",
     "shell.execute_reply": "2022-03-23T05:04:13.783017Z"
    },
    "papermill": {
     "duration": 0.043964,
     "end_time": "2022-03-23T05:04:13.784018",
     "exception": false,
     "start_time": "2022-03-23T05:04:13.740054",
     "status": "completed"
    },
    "tags": []
   },
   "outputs": [],
   "source": [
    "# global_x_transform_func = lambda x: normalize(x.to(torch.get_default_dtype()), \"unit_power\") # unit_power, unit_mag\n",
    "# global_x_transform_func = lambda x: normalize(x, \"unit_power\") # unit_power, unit_mag"
   ]
  },
  {
   "cell_type": "code",
   "execution_count": 12,
   "id": "acb78fd2",
   "metadata": {
    "execution": {
     "iopub.execute_input": "2022-03-23T05:04:13.842930Z",
     "iopub.status.busy": "2022-03-23T05:04:13.842271Z",
     "iopub.status.idle": "2022-03-23T05:04:13.864007Z",
     "shell.execute_reply": "2022-03-23T05:04:13.863174Z"
    },
    "papermill": {
     "duration": 0.04926,
     "end_time": "2022-03-23T05:04:13.864176",
     "exception": false,
     "start_time": "2022-03-23T05:04:13.814916",
     "status": "completed"
    },
    "tags": []
   },
   "outputs": [],
   "source": [
    "def add_dataset(\n",
    "    labels,\n",
    "    domains,\n",
    "    pickle_path,\n",
    "    x_transforms,\n",
    "    episode_transforms,\n",
    "    domain_prefix,\n",
    "    num_examples_per_domain_per_label,\n",
    "    source_or_target_dataset:str,\n",
    "    iterator_seed=p.seed,\n",
    "    dataset_seed=p.dataset_seed,\n",
    "    n_shot=p.n_shot,\n",
    "    n_way=p.n_way,\n",
    "    n_query=p.n_query,\n",
    "    train_val_test_k_factors=(p.train_k_factor,p.val_k_factor,p.test_k_factor),\n",
    "):\n",
    "   \n",
    "    if x_transforms == []: x_transform = None\n",
    "    else: x_transform = get_chained_transform(x_transforms)\n",
    "    \n",
    "    if episode_transforms == []: episode_transform = None\n",
    "    else: raise Exception(\"episode_transforms not implemented\")\n",
    "    \n",
    "    episode_transform = lambda tup, _prefix=domain_prefix: (_prefix + str(tup[0]), tup[1])\n",
    "\n",
    "\n",
    "    eaf = Episodic_Accessor_Factory(\n",
    "        labels=labels,\n",
    "        domains=domains,\n",
    "        num_examples_per_domain_per_label=num_examples_per_domain_per_label,\n",
    "        iterator_seed=iterator_seed,\n",
    "        dataset_seed=dataset_seed,\n",
    "        n_shot=n_shot,\n",
    "        n_way=n_way,\n",
    "        n_query=n_query,\n",
    "        train_val_test_k_factors=train_val_test_k_factors,\n",
    "        pickle_path=pickle_path,\n",
    "        x_transform_func=x_transform,\n",
    "    )\n",
    "\n",
    "    train, val, test = eaf.get_train(), eaf.get_val(), eaf.get_test()\n",
    "    train = Lazy_Iterable_Wrapper(train, episode_transform)\n",
    "    val = Lazy_Iterable_Wrapper(val, episode_transform)\n",
    "    test = Lazy_Iterable_Wrapper(test, episode_transform)\n",
    "\n",
    "    if source_or_target_dataset==\"source\":\n",
    "        train_original_source.append(train)\n",
    "        val_original_source.append(val)\n",
    "        test_original_source.append(test)\n",
    "\n",
    "        p.domains_source.extend(\n",
    "            [domain_prefix + str(u) for u in domains]\n",
    "        )\n",
    "    elif source_or_target_dataset==\"target\":\n",
    "        train_original_target.append(train)\n",
    "        val_original_target.append(val)\n",
    "        test_original_target.append(test)\n",
    "        p.domains_target.extend(\n",
    "            [domain_prefix + str(u) for u in domains]\n",
    "        )\n",
    "    else:\n",
    "        raise Exception(f\"invalid source_or_target_dataset: {source_or_target_dataset}\")\n",
    "    "
   ]
  },
  {
   "cell_type": "code",
   "execution_count": 13,
   "id": "fe266617",
   "metadata": {
    "execution": {
     "iopub.execute_input": "2022-03-23T05:04:13.918276Z",
     "iopub.status.busy": "2022-03-23T05:04:13.917906Z",
     "iopub.status.idle": "2022-03-23T05:04:24.668882Z",
     "shell.execute_reply": "2022-03-23T05:04:24.668140Z"
    },
    "papermill": {
     "duration": 10.774104,
     "end_time": "2022-03-23T05:04:24.669067",
     "exception": false,
     "start_time": "2022-03-23T05:04:13.894963",
     "status": "completed"
    },
    "tags": []
   },
   "outputs": [],
   "source": [
    "for ds in p.datasets:\n",
    "    add_dataset(**ds)"
   ]
  },
  {
   "cell_type": "code",
   "execution_count": 14,
   "id": "b90d65ac",
   "metadata": {
    "execution": {
     "iopub.execute_input": "2022-03-23T05:04:24.718963Z",
     "iopub.status.busy": "2022-03-23T05:04:24.718509Z",
     "iopub.status.idle": "2022-03-23T05:04:24.743187Z",
     "shell.execute_reply": "2022-03-23T05:04:24.742347Z"
    },
    "papermill": {
     "duration": 0.049255,
     "end_time": "2022-03-23T05:04:24.743340",
     "exception": false,
     "start_time": "2022-03-23T05:04:24.694085",
     "status": "completed"
    },
    "tags": []
   },
   "outputs": [],
   "source": [
    "# from steves_utils.CORES.utils import (\n",
    "#     ALL_NODES,\n",
    "#     ALL_NODES_MINIMUM_1000_EXAMPLES,\n",
    "#     ALL_DAYS\n",
    "# )\n",
    "\n",
    "# add_dataset(\n",
    "#     labels=ALL_NODES,\n",
    "#     domains = ALL_DAYS,\n",
    "#     num_examples_per_domain_per_label=100,\n",
    "#     pickle_path=os.path.join(get_datasets_base_path(), \"cores.stratified_ds.2022A.pkl\"),\n",
    "#     source_or_target_dataset=\"target\",\n",
    "#     x_transform_func=global_x_transform_func,\n",
    "#     domain_modifier=lambda u: f\"cores_{u}\"\n",
    "# )"
   ]
  },
  {
   "cell_type": "code",
   "execution_count": 15,
   "id": "76db484d",
   "metadata": {
    "execution": {
     "iopub.execute_input": "2022-03-23T05:04:24.800247Z",
     "iopub.status.busy": "2022-03-23T05:04:24.797685Z",
     "iopub.status.idle": "2022-03-23T05:04:24.818915Z",
     "shell.execute_reply": "2022-03-23T05:04:24.818088Z"
    },
    "papermill": {
     "duration": 0.045791,
     "end_time": "2022-03-23T05:04:24.819072",
     "exception": false,
     "start_time": "2022-03-23T05:04:24.773281",
     "status": "completed"
    },
    "tags": []
   },
   "outputs": [],
   "source": [
    "# from steves_utils.ORACLE.utils_v2 import (\n",
    "#     ALL_DISTANCES_FEET,\n",
    "#     ALL_RUNS,\n",
    "#     ALL_SERIAL_NUMBERS,\n",
    "# )\n",
    "\n",
    "\n",
    "# add_dataset(\n",
    "#     labels=ALL_SERIAL_NUMBERS,\n",
    "#     domains = list(set(ALL_DISTANCES_FEET) - {2,62}),\n",
    "#     num_examples_per_domain_per_label=100,\n",
    "#     pickle_path=os.path.join(get_datasets_base_path(), \"oracle.Run2_framed_2000Examples_stratified_ds.2022A.pkl\"),\n",
    "#     source_or_target_dataset=\"source\",\n",
    "#     x_transform_func=global_x_transform_func,\n",
    "#     domain_modifier=lambda u: f\"oracle1_{u}\"\n",
    "# )\n"
   ]
  },
  {
   "cell_type": "code",
   "execution_count": 16,
   "id": "97dea9d2",
   "metadata": {
    "execution": {
     "iopub.execute_input": "2022-03-23T05:04:24.871627Z",
     "iopub.status.busy": "2022-03-23T05:04:24.870646Z",
     "iopub.status.idle": "2022-03-23T05:04:24.890989Z",
     "shell.execute_reply": "2022-03-23T05:04:24.890170Z"
    },
    "papermill": {
     "duration": 0.046279,
     "end_time": "2022-03-23T05:04:24.891141",
     "exception": false,
     "start_time": "2022-03-23T05:04:24.844862",
     "status": "completed"
    },
    "tags": []
   },
   "outputs": [],
   "source": [
    "# from steves_utils.ORACLE.utils_v2 import (\n",
    "#     ALL_DISTANCES_FEET,\n",
    "#     ALL_RUNS,\n",
    "#     ALL_SERIAL_NUMBERS,\n",
    "# )\n",
    "\n",
    "\n",
    "# add_dataset(\n",
    "#     labels=ALL_SERIAL_NUMBERS,\n",
    "#     domains = list(set(ALL_DISTANCES_FEET) - {2,62,56}),\n",
    "#     num_examples_per_domain_per_label=100,\n",
    "#     pickle_path=os.path.join(get_datasets_base_path(), \"oracle.Run2_framed_2000Examples_stratified_ds.2022A.pkl\"),\n",
    "#     source_or_target_dataset=\"source\",\n",
    "#     x_transform_func=global_x_transform_func,\n",
    "#     domain_modifier=lambda u: f\"oracle2_{u}\"\n",
    "# )"
   ]
  },
  {
   "cell_type": "code",
   "execution_count": 17,
   "id": "6f289866",
   "metadata": {
    "execution": {
     "iopub.execute_input": "2022-03-23T05:04:24.945079Z",
     "iopub.status.busy": "2022-03-23T05:04:24.944034Z",
     "iopub.status.idle": "2022-03-23T05:04:24.966223Z",
     "shell.execute_reply": "2022-03-23T05:04:24.965506Z"
    },
    "papermill": {
     "duration": 0.046766,
     "end_time": "2022-03-23T05:04:24.966375",
     "exception": false,
     "start_time": "2022-03-23T05:04:24.919609",
     "status": "completed"
    },
    "tags": []
   },
   "outputs": [],
   "source": [
    "# add_dataset(\n",
    "#     labels=list(range(19)),\n",
    "#     domains = [0,1,2],\n",
    "#     num_examples_per_domain_per_label=100,\n",
    "#     pickle_path=os.path.join(get_datasets_base_path(), \"metehan.stratified_ds.2022A.pkl\"),\n",
    "#     source_or_target_dataset=\"target\",\n",
    "#     x_transform_func=global_x_transform_func,\n",
    "#     domain_modifier=lambda u: f\"met_{u}\"\n",
    "# )"
   ]
  },
  {
   "cell_type": "code",
   "execution_count": 18,
   "id": "86a863c3",
   "metadata": {
    "execution": {
     "iopub.execute_input": "2022-03-23T05:04:25.017656Z",
     "iopub.status.busy": "2022-03-23T05:04:25.017285Z",
     "iopub.status.idle": "2022-03-23T05:04:25.033332Z",
     "shell.execute_reply": "2022-03-23T05:04:25.034010Z"
    },
    "papermill": {
     "duration": 0.041296,
     "end_time": "2022-03-23T05:04:25.034187",
     "exception": false,
     "start_time": "2022-03-23T05:04:24.992891",
     "status": "completed"
    },
    "tags": []
   },
   "outputs": [],
   "source": [
    "# # from steves_utils.wisig.utils import (\n",
    "# #     ALL_NODES_MINIMUM_100_EXAMPLES,\n",
    "# #     ALL_NODES_MINIMUM_500_EXAMPLES,\n",
    "# #     ALL_NODES_MINIMUM_1000_EXAMPLES,\n",
    "# #     ALL_DAYS\n",
    "# # )\n",
    "\n",
    "# import steves_utils.wisig.utils as wisig\n",
    "\n",
    "\n",
    "# add_dataset(\n",
    "#     labels=wisig.ALL_NODES_MINIMUM_100_EXAMPLES,\n",
    "#     domains = wisig.ALL_DAYS,\n",
    "#     num_examples_per_domain_per_label=100,\n",
    "#     pickle_path=os.path.join(get_datasets_base_path(), \"wisig.node3-19.stratified_ds.2022A.pkl\"),\n",
    "#     source_or_target_dataset=\"target\",\n",
    "#     x_transform_func=global_x_transform_func,\n",
    "#     domain_modifier=lambda u: f\"wisig_{u}\"\n",
    "# )"
   ]
  },
  {
   "cell_type": "code",
   "execution_count": 19,
   "id": "fd5442bc",
   "metadata": {
    "execution": {
     "iopub.execute_input": "2022-03-23T05:04:25.091819Z",
     "iopub.status.busy": "2022-03-23T05:04:25.090943Z",
     "iopub.status.idle": "2022-03-23T05:04:25.109071Z",
     "shell.execute_reply": "2022-03-23T05:04:25.108369Z"
    },
    "papermill": {
     "duration": 0.049106,
     "end_time": "2022-03-23T05:04:25.109223",
     "exception": false,
     "start_time": "2022-03-23T05:04:25.060117",
     "status": "completed"
    },
    "tags": []
   },
   "outputs": [],
   "source": [
    "###################################\n",
    "# Build the dataset\n",
    "###################################\n",
    "train_original_source = Iterable_Aggregator(train_original_source, p.seed)\n",
    "val_original_source = Iterable_Aggregator(val_original_source, p.seed)\n",
    "test_original_source = Iterable_Aggregator(test_original_source, p.seed)\n",
    "\n",
    "\n",
    "train_original_target = Iterable_Aggregator(train_original_target, p.seed)\n",
    "val_original_target = Iterable_Aggregator(val_original_target, p.seed)\n",
    "test_original_target = Iterable_Aggregator(test_original_target, p.seed)\n",
    "\n",
    "# For CNN We only use X and Y. And we only train on the source.\n",
    "# Properly form the data using a transform lambda and Lazy_Iterable_Wrapper. Finally wrap them in a dataloader\n",
    "\n",
    "transform_lambda = lambda ex: ex[1] # Original is (<domain>, <episode>) so we strip down to episode only\n",
    "\n",
    "train_processed_source = Lazy_Iterable_Wrapper(train_original_source, transform_lambda)\n",
    "val_processed_source   = Lazy_Iterable_Wrapper(val_original_source, transform_lambda)\n",
    "test_processed_source  = Lazy_Iterable_Wrapper(test_original_source, transform_lambda)\n",
    "\n",
    "train_processed_target = Lazy_Iterable_Wrapper(train_original_target, transform_lambda)\n",
    "val_processed_target   = Lazy_Iterable_Wrapper(val_original_target, transform_lambda)\n",
    "test_processed_target  = Lazy_Iterable_Wrapper(test_original_target, transform_lambda)\n",
    "\n",
    "datasets = EasyDict({\n",
    "    \"source\": {\n",
    "        \"original\": {\"train\":train_original_source, \"val\":val_original_source, \"test\":test_original_source},\n",
    "        \"processed\": {\"train\":train_processed_source, \"val\":val_processed_source, \"test\":test_processed_source}\n",
    "    },\n",
    "    \"target\": {\n",
    "        \"original\": {\"train\":train_original_target, \"val\":val_original_target, \"test\":test_original_target},\n",
    "        \"processed\": {\"train\":train_processed_target, \"val\":val_processed_target, \"test\":test_processed_target}\n",
    "    },\n",
    "})"
   ]
  },
  {
   "cell_type": "code",
   "execution_count": 20,
   "id": "5b3c01fc",
   "metadata": {
    "execution": {
     "iopub.execute_input": "2022-03-23T05:04:25.165450Z",
     "iopub.status.busy": "2022-03-23T05:04:25.164745Z",
     "iopub.status.idle": "2022-03-23T05:04:57.412634Z",
     "shell.execute_reply": "2022-03-23T05:04:57.413500Z"
    },
    "papermill": {
     "duration": 32.275329,
     "end_time": "2022-03-23T05:04:57.413743",
     "exception": false,
     "start_time": "2022-03-23T05:04:25.138414",
     "status": "completed"
    },
    "tags": []
   },
   "outputs": [
    {
     "name": "stdout",
     "output_type": "stream",
     "text": [
      "{'ORACLE.run1_20', 'ORACLE.run1_8', 'ORACLE.run1_14', 'ORACLE.run1_26', 'ORACLE.run1_32', 'ORACLE.run1_44', 'ORACLE.run1_38', 'ORACLE.run1_50'}\n"
     ]
    },
    {
     "name": "stdout",
     "output_type": "stream",
     "text": [
      "{'CORES_5', 'CORES_4', 'CORES_3', 'CORES_2', 'CORES_1'}\n"
     ]
    },
    {
     "name": "stdout",
     "output_type": "stream",
     "text": [
      "tensor([[[ 0.0042,  0.0008,  0.0031,  ..., -0.0009, -0.0029, -0.0009],\n",
      "         [ 0.0010,  0.0014, -0.0001,  ...,  0.0039,  0.0008, -0.0040]],\n",
      "\n",
      "        [[ 0.0021,  0.0033, -0.0046,  ..., -0.0056, -0.0017,  0.0032],\n",
      "         [ 0.0019,  0.0017, -0.0005,  ..., -0.0037, -0.0013, -0.0007]],\n",
      "\n",
      "        [[-0.0027, -0.0006,  0.0025,  ...,  0.0006, -0.0009, -0.0006],\n",
      "         [ 0.0017,  0.0021,  0.0028,  ..., -0.0008,  0.0028, -0.0041]],\n",
      "\n",
      "        ...,\n",
      "\n",
      "        [[ 0.0019, -0.0008, -0.0034,  ..., -0.0004, -0.0025, -0.0050],\n",
      "         [ 0.0002,  0.0006,  0.0029,  ...,  0.0028, -0.0004,  0.0043]],\n",
      "\n",
      "        [[ 0.0011,  0.0021, -0.0023,  ...,  0.0069,  0.0043,  0.0015],\n",
      "         [ 0.0024,  0.0007, -0.0010,  ...,  0.0034,  0.0016,  0.0020]],\n",
      "\n",
      "        [[ 0.0007, -0.0019, -0.0043,  ..., -0.0012,  0.0024,  0.0037],\n",
      "         [ 0.0015, -0.0026, -0.0049,  ...,  0.0013, -0.0026,  0.0054]]])\n"
     ]
    }
   ],
   "source": [
    "from steves_utils.transforms import get_average_magnitude, get_average_power\n",
    "\n",
    "print(set([u for u,_ in val_original_source]))\n",
    "print(set([u for u,_ in val_original_target]))\n",
    "\n",
    "s_x, s_y, q_x, q_y, _ = next(iter(train_processed_source))\n",
    "print(s_x)\n",
    "\n",
    "# for ds in [\n",
    "#     train_processed_source,\n",
    "#     val_processed_source,\n",
    "#     test_processed_source,\n",
    "#     train_processed_target,\n",
    "#     val_processed_target,\n",
    "#     test_processed_target\n",
    "# ]:\n",
    "#     for s_x, s_y, q_x, q_y, _ in ds:\n",
    "#         for X in (s_x, q_x):\n",
    "#             for x in X:\n",
    "#                 assert np.isclose(get_average_magnitude(x.numpy()), 1.0)\n",
    "#                 assert np.isclose(get_average_power(x.numpy()), 1.0)\n",
    "                "
   ]
  },
  {
   "cell_type": "code",
   "execution_count": 21,
   "id": "bbdacba1",
   "metadata": {
    "execution": {
     "iopub.execute_input": "2022-03-23T05:04:57.469949Z",
     "iopub.status.busy": "2022-03-23T05:04:57.469569Z",
     "iopub.status.idle": "2022-03-23T05:04:57.676324Z",
     "shell.execute_reply": "2022-03-23T05:04:57.676630Z"
    },
    "papermill": {
     "duration": 0.23485,
     "end_time": "2022-03-23T05:04:57.676740",
     "exception": false,
     "start_time": "2022-03-23T05:04:57.441890",
     "status": "completed"
    },
    "tags": []
   },
   "outputs": [
    {
     "name": "stdout",
     "output_type": "stream",
     "text": [
      "(2, 256)\n"
     ]
    }
   ],
   "source": [
    "###################################\n",
    "# Build the model\n",
    "###################################\n",
    "# easfsl only wants a tuple for the shape\n",
    "model = Steves_Prototypical_Network(x_net, device=p.device, x_shape=tuple(p.x_shape))\n",
    "optimizer = Adam(params=model.parameters(), lr=p.lr)"
   ]
  },
  {
   "cell_type": "code",
   "execution_count": 22,
   "id": "22b39ac5",
   "metadata": {
    "execution": {
     "iopub.execute_input": "2022-03-23T05:04:57.726191Z",
     "iopub.status.busy": "2022-03-23T05:04:57.725823Z",
     "iopub.status.idle": "2022-03-23T06:39:52.977365Z",
     "shell.execute_reply": "2022-03-23T06:39:52.976778Z"
    },
    "papermill": {
     "duration": 5695.277922,
     "end_time": "2022-03-23T06:39:52.977506",
     "exception": false,
     "start_time": "2022-03-23T05:04:57.699584",
     "status": "completed"
    },
    "tags": []
   },
   "outputs": [
    {
     "name": "stdout",
     "output_type": "stream",
     "text": [
      "epoch: 1, [batch: 1 / 33600], examples_per_second: 6.6148, train_label_loss: 2.7185, \n"
     ]
    },
    {
     "name": "stdout",
     "output_type": "stream",
     "text": [
      "epoch: 1, [batch: 3360 / 33600], examples_per_second: 2916.0842, train_label_loss: 1.3135, \n"
     ]
    },
    {
     "name": "stdout",
     "output_type": "stream",
     "text": [
      "epoch: 1, [batch: 6720 / 33600], examples_per_second: 3156.6375, train_label_loss: 0.4022, \n"
     ]
    },
    {
     "name": "stdout",
     "output_type": "stream",
     "text": [
      "epoch: 1, [batch: 10080 / 33600], examples_per_second: 2913.4378, train_label_loss: 0.5090, \n"
     ]
    },
    {
     "name": "stdout",
     "output_type": "stream",
     "text": [
      "epoch: 1, [batch: 13440 / 33600], examples_per_second: 3026.6255, train_label_loss: 0.5892, \n"
     ]
    },
    {
     "name": "stdout",
     "output_type": "stream",
     "text": [
      "epoch: 1, [batch: 16800 / 33600], examples_per_second: 3018.4762, train_label_loss: 0.5547, \n"
     ]
    },
    {
     "name": "stdout",
     "output_type": "stream",
     "text": [
      "epoch: 1, [batch: 20160 / 33600], examples_per_second: 2933.1770, train_label_loss: 0.4511, \n"
     ]
    },
    {
     "name": "stdout",
     "output_type": "stream",
     "text": [
      "epoch: 1, [batch: 23520 / 33600], examples_per_second: 3256.5162, train_label_loss: 0.2630, \n"
     ]
    },
    {
     "name": "stdout",
     "output_type": "stream",
     "text": [
      "epoch: 1, [batch: 26880 / 33600], examples_per_second: 3416.0481, train_label_loss: 0.2564, \n"
     ]
    },
    {
     "name": "stdout",
     "output_type": "stream",
     "text": [
      "epoch: 1, [batch: 30240 / 33600], examples_per_second: 3480.6267, train_label_loss: 0.5967, \n"
     ]
    },
    {
     "name": "stdout",
     "output_type": "stream",
     "text": [
      "=============================================================\n",
      "epoch: 1, source_val_acc_label: 0.7171, target_val_acc_label: 0.9300, source_val_label_loss: 2.0353, target_val_label_loss: 23.0933, \n",
      "=============================================================\n"
     ]
    },
    {
     "name": "stdout",
     "output_type": "stream",
     "text": [
      "New best\n"
     ]
    },
    {
     "name": "stdout",
     "output_type": "stream",
     "text": [
      "epoch: 2, [batch: 1 / 33600], examples_per_second: 0.7580, train_label_loss: 0.3317, \n"
     ]
    },
    {
     "name": "stdout",
     "output_type": "stream",
     "text": [
      "epoch: 2, [batch: 3360 / 33600], examples_per_second: 3009.7182, train_label_loss: 0.3214, \n"
     ]
    },
    {
     "name": "stdout",
     "output_type": "stream",
     "text": [
      "epoch: 2, [batch: 6720 / 33600], examples_per_second: 2979.6997, train_label_loss: 0.8362, \n"
     ]
    },
    {
     "name": "stdout",
     "output_type": "stream",
     "text": [
      "epoch: 2, [batch: 10080 / 33600], examples_per_second: 3216.3840, train_label_loss: 0.7096, \n"
     ]
    },
    {
     "name": "stdout",
     "output_type": "stream",
     "text": [
      "epoch: 2, [batch: 13440 / 33600], examples_per_second: 2981.9349, train_label_loss: 0.1542, \n"
     ]
    },
    {
     "name": "stdout",
     "output_type": "stream",
     "text": [
      "epoch: 2, [batch: 16800 / 33600], examples_per_second: 3190.2095, train_label_loss: 0.2830, \n"
     ]
    },
    {
     "name": "stdout",
     "output_type": "stream",
     "text": [
      "epoch: 2, [batch: 20160 / 33600], examples_per_second: 3019.9516, train_label_loss: 0.5186, \n"
     ]
    },
    {
     "name": "stdout",
     "output_type": "stream",
     "text": [
      "epoch: 2, [batch: 23520 / 33600], examples_per_second: 3057.4651, train_label_loss: 0.4952, \n"
     ]
    },
    {
     "name": "stdout",
     "output_type": "stream",
     "text": [
      "epoch: 2, [batch: 26880 / 33600], examples_per_second: 3614.8807, train_label_loss: 0.3385, \n"
     ]
    },
    {
     "name": "stdout",
     "output_type": "stream",
     "text": [
      "epoch: 2, [batch: 30240 / 33600], examples_per_second: 3315.3563, train_label_loss: 0.6268, \n"
     ]
    },
    {
     "name": "stdout",
     "output_type": "stream",
     "text": [
      "=============================================================\n",
      "epoch: 2, source_val_acc_label: 0.8584, target_val_acc_label: 0.9839, source_val_label_loss: 0.3978, target_val_label_loss: 1.6491, \n",
      "=============================================================\n"
     ]
    },
    {
     "name": "stdout",
     "output_type": "stream",
     "text": [
      "New best\n"
     ]
    },
    {
     "name": "stdout",
     "output_type": "stream",
     "text": [
      "epoch: 3, [batch: 1 / 33600], examples_per_second: 0.7698, train_label_loss: 0.2994, \n"
     ]
    },
    {
     "name": "stdout",
     "output_type": "stream",
     "text": [
      "epoch: 3, [batch: 3360 / 33600], examples_per_second: 3223.6458, train_label_loss: 0.6997, \n"
     ]
    },
    {
     "name": "stdout",
     "output_type": "stream",
     "text": [
      "epoch: 3, [batch: 6720 / 33600], examples_per_second: 2972.7291, train_label_loss: 0.5863, \n"
     ]
    },
    {
     "name": "stdout",
     "output_type": "stream",
     "text": [
      "epoch: 3, [batch: 10080 / 33600], examples_per_second: 3050.5842, train_label_loss: 0.2364, \n"
     ]
    },
    {
     "name": "stdout",
     "output_type": "stream",
     "text": [
      "epoch: 3, [batch: 13440 / 33600], examples_per_second: 3169.0868, train_label_loss: 0.5570, \n"
     ]
    },
    {
     "name": "stdout",
     "output_type": "stream",
     "text": [
      "epoch: 3, [batch: 16800 / 33600], examples_per_second: 2958.6145, train_label_loss: 0.4239, \n"
     ]
    },
    {
     "name": "stdout",
     "output_type": "stream",
     "text": [
      "epoch: 3, [batch: 20160 / 33600], examples_per_second: 3250.9702, train_label_loss: 0.4492, \n"
     ]
    },
    {
     "name": "stdout",
     "output_type": "stream",
     "text": [
      "epoch: 3, [batch: 23520 / 33600], examples_per_second: 3469.6855, train_label_loss: 0.1724, \n"
     ]
    },
    {
     "name": "stdout",
     "output_type": "stream",
     "text": [
      "epoch: 3, [batch: 26880 / 33600], examples_per_second: 4037.2501, train_label_loss: 0.3216, \n"
     ]
    },
    {
     "name": "stdout",
     "output_type": "stream",
     "text": [
      "epoch: 3, [batch: 30240 / 33600], examples_per_second: 4348.5615, train_label_loss: 0.3068, \n"
     ]
    },
    {
     "name": "stdout",
     "output_type": "stream",
     "text": [
      "=============================================================\n",
      "epoch: 3, source_val_acc_label: 0.8687, target_val_acc_label: 0.9827, source_val_label_loss: 0.3675, target_val_label_loss: 2.6470, \n",
      "=============================================================\n"
     ]
    },
    {
     "name": "stdout",
     "output_type": "stream",
     "text": [
      "epoch: 4, [batch: 1 / 33600], examples_per_second: 0.8220, train_label_loss: 0.3704, \n"
     ]
    },
    {
     "name": "stdout",
     "output_type": "stream",
     "text": [
      "epoch: 4, [batch: 3360 / 33600], examples_per_second: 3192.2708, train_label_loss: 0.1965, \n"
     ]
    },
    {
     "name": "stdout",
     "output_type": "stream",
     "text": [
      "epoch: 4, [batch: 6720 / 33600], examples_per_second: 3030.4091, train_label_loss: 0.4890, \n"
     ]
    },
    {
     "name": "stdout",
     "output_type": "stream",
     "text": [
      "epoch: 4, [batch: 10080 / 33600], examples_per_second: 2992.4805, train_label_loss: 0.4848, \n"
     ]
    },
    {
     "name": "stdout",
     "output_type": "stream",
     "text": [
      "epoch: 4, [batch: 13440 / 33600], examples_per_second: 3215.7982, train_label_loss: 0.2051, \n"
     ]
    },
    {
     "name": "stdout",
     "output_type": "stream",
     "text": [
      "epoch: 4, [batch: 16800 / 33600], examples_per_second: 3031.1348, train_label_loss: 0.4560, \n"
     ]
    },
    {
     "name": "stdout",
     "output_type": "stream",
     "text": [
      "epoch: 4, [batch: 20160 / 33600], examples_per_second: 3162.8456, train_label_loss: 0.2188, \n"
     ]
    },
    {
     "name": "stdout",
     "output_type": "stream",
     "text": [
      "epoch: 4, [batch: 23520 / 33600], examples_per_second: 3086.6987, train_label_loss: 0.3482, \n"
     ]
    },
    {
     "name": "stdout",
     "output_type": "stream",
     "text": [
      "epoch: 4, [batch: 26880 / 33600], examples_per_second: 3438.6328, train_label_loss: 0.2362, \n"
     ]
    },
    {
     "name": "stdout",
     "output_type": "stream",
     "text": [
      "epoch: 4, [batch: 30240 / 33600], examples_per_second: 3671.6408, train_label_loss: 0.1991, \n"
     ]
    },
    {
     "name": "stdout",
     "output_type": "stream",
     "text": [
      "=============================================================\n",
      "epoch: 4, source_val_acc_label: 0.8746, target_val_acc_label: 0.9828, source_val_label_loss: 0.3458, target_val_label_loss: 3.0641, \n",
      "=============================================================\n"
     ]
    },
    {
     "name": "stdout",
     "output_type": "stream",
     "text": [
      "epoch: 5, [batch: 1 / 33600], examples_per_second: 0.7702, train_label_loss: 0.2516, \n"
     ]
    },
    {
     "name": "stdout",
     "output_type": "stream",
     "text": [
      "epoch: 5, [batch: 3360 / 33600], examples_per_second: 3368.0636, train_label_loss: 0.4583, \n"
     ]
    },
    {
     "name": "stdout",
     "output_type": "stream",
     "text": [
      "epoch: 5, [batch: 6720 / 33600], examples_per_second: 3799.4777, train_label_loss: 0.1349, \n"
     ]
    },
    {
     "name": "stdout",
     "output_type": "stream",
     "text": [
      "epoch: 5, [batch: 10080 / 33600], examples_per_second: 3928.3029, train_label_loss: 0.2622, \n"
     ]
    },
    {
     "name": "stdout",
     "output_type": "stream",
     "text": [
      "epoch: 5, [batch: 13440 / 33600], examples_per_second: 3403.2853, train_label_loss: 0.1467, \n"
     ]
    },
    {
     "name": "stdout",
     "output_type": "stream",
     "text": [
      "epoch: 5, [batch: 16800 / 33600], examples_per_second: 2982.0054, train_label_loss: 0.3555, \n"
     ]
    },
    {
     "name": "stdout",
     "output_type": "stream",
     "text": [
      "epoch: 5, [batch: 20160 / 33600], examples_per_second: 3188.1424, train_label_loss: 0.1877, \n"
     ]
    },
    {
     "name": "stdout",
     "output_type": "stream",
     "text": [
      "epoch: 5, [batch: 23520 / 33600], examples_per_second: 3055.8380, train_label_loss: 0.0758, \n"
     ]
    },
    {
     "name": "stdout",
     "output_type": "stream",
     "text": [
      "epoch: 5, [batch: 26880 / 33600], examples_per_second: 3420.7652, train_label_loss: 0.2253, \n"
     ]
    },
    {
     "name": "stdout",
     "output_type": "stream",
     "text": [
      "epoch: 5, [batch: 30240 / 33600], examples_per_second: 3644.6497, train_label_loss: 0.1465, \n"
     ]
    },
    {
     "name": "stdout",
     "output_type": "stream",
     "text": [
      "=============================================================\n",
      "epoch: 5, source_val_acc_label: 0.8780, target_val_acc_label: 0.9819, source_val_label_loss: 0.3435, target_val_label_loss: 3.9708, \n",
      "=============================================================\n"
     ]
    },
    {
     "name": "stdout",
     "output_type": "stream",
     "text": [
      "epoch: 6, [batch: 1 / 33600], examples_per_second: 0.7688, train_label_loss: 0.2645, \n"
     ]
    },
    {
     "name": "stdout",
     "output_type": "stream",
     "text": [
      "epoch: 6, [batch: 3360 / 33600], examples_per_second: 3011.2480, train_label_loss: 0.6283, \n"
     ]
    },
    {
     "name": "stdout",
     "output_type": "stream",
     "text": [
      "epoch: 6, [batch: 6720 / 33600], examples_per_second: 3177.3960, train_label_loss: 0.4492, \n"
     ]
    },
    {
     "name": "stdout",
     "output_type": "stream",
     "text": [
      "epoch: 6, [batch: 10080 / 33600], examples_per_second: 3035.3946, train_label_loss: 0.2072, \n"
     ]
    },
    {
     "name": "stdout",
     "output_type": "stream",
     "text": [
      "epoch: 6, [batch: 13440 / 33600], examples_per_second: 2987.5885, train_label_loss: 0.1311, \n"
     ]
    },
    {
     "name": "stdout",
     "output_type": "stream",
     "text": [
      "epoch: 6, [batch: 16800 / 33600], examples_per_second: 3222.0171, train_label_loss: 0.2847, \n"
     ]
    },
    {
     "name": "stdout",
     "output_type": "stream",
     "text": [
      "epoch: 6, [batch: 20160 / 33600], examples_per_second: 2985.4243, train_label_loss: 0.2340, \n"
     ]
    },
    {
     "name": "stdout",
     "output_type": "stream",
     "text": [
      "epoch: 6, [batch: 23520 / 33600], examples_per_second: 3105.8672, train_label_loss: 0.3040, \n"
     ]
    },
    {
     "name": "stdout",
     "output_type": "stream",
     "text": [
      "epoch: 6, [batch: 26880 / 33600], examples_per_second: 3765.4907, train_label_loss: 0.2378, \n"
     ]
    },
    {
     "name": "stdout",
     "output_type": "stream",
     "text": [
      "epoch: 6, [batch: 30240 / 33600], examples_per_second: 4124.6910, train_label_loss: 0.1182, \n"
     ]
    },
    {
     "name": "stdout",
     "output_type": "stream",
     "text": [
      "=============================================================\n",
      "epoch: 6, source_val_acc_label: 0.8839, target_val_acc_label: 0.9825, source_val_label_loss: 0.3270, target_val_label_loss: 4.5298, \n",
      "=============================================================\n"
     ]
    },
    {
     "name": "stdout",
     "output_type": "stream",
     "text": [
      "Patience (3) exhausted\n"
     ]
    }
   ],
   "source": [
    "###################################\n",
    "# train\n",
    "###################################\n",
    "jig = PTN_Train_Eval_Test_Jig(model, p.BEST_MODEL_PATH, p.device)\n",
    "\n",
    "jig.train(\n",
    "    train_iterable=datasets.source.processed.train,\n",
    "    source_val_iterable=datasets.source.processed.val,\n",
    "    target_val_iterable=datasets.target.processed.val,\n",
    "    num_epochs=p.n_epoch,\n",
    "    num_logs_per_epoch=p.NUM_LOGS_PER_EPOCH,\n",
    "    patience=p.patience,\n",
    "    optimizer=optimizer,\n",
    "    criteria_for_best=p.criteria_for_best,\n",
    ")"
   ]
  },
  {
   "cell_type": "code",
   "execution_count": 23,
   "id": "31e8fabf",
   "metadata": {
    "execution": {
     "iopub.execute_input": "2022-03-23T06:39:53.065616Z",
     "iopub.status.busy": "2022-03-23T06:39:53.064974Z",
     "iopub.status.idle": "2022-03-23T06:39:53.094380Z",
     "shell.execute_reply": "2022-03-23T06:39:53.093670Z"
    },
    "papermill": {
     "duration": 0.074656,
     "end_time": "2022-03-23T06:39:53.094535",
     "exception": false,
     "start_time": "2022-03-23T06:39:53.019879",
     "status": "completed"
    },
    "tags": []
   },
   "outputs": [],
   "source": [
    "total_experiment_time_secs = time.time() - start_time_secs"
   ]
  },
  {
   "cell_type": "code",
   "execution_count": 24,
   "id": "87b9595b",
   "metadata": {
    "execution": {
     "iopub.execute_input": "2022-03-23T06:39:53.187593Z",
     "iopub.status.busy": "2022-03-23T06:39:53.187180Z",
     "iopub.status.idle": "2022-03-23T06:50:25.647986Z",
     "shell.execute_reply": "2022-03-23T06:50:25.647175Z"
    },
    "papermill": {
     "duration": 632.507731,
     "end_time": "2022-03-23T06:50:25.648180",
     "exception": false,
     "start_time": "2022-03-23T06:39:53.140449",
     "status": "completed"
    },
    "tags": []
   },
   "outputs": [],
   "source": [
    "###################################\n",
    "# Evaluate the model\n",
    "###################################\n",
    "source_test_label_accuracy, source_test_label_loss = jig.test(datasets.source.processed.test)\n",
    "target_test_label_accuracy, target_test_label_loss = jig.test(datasets.target.processed.test)\n",
    "\n",
    "source_val_label_accuracy, source_val_label_loss = jig.test(datasets.source.processed.val)\n",
    "target_val_label_accuracy, target_val_label_loss = jig.test(datasets.target.processed.val)\n",
    "\n",
    "history = jig.get_history()\n",
    "\n",
    "total_epochs_trained = len(history[\"epoch_indices\"])\n",
    "\n",
    "val_dl = Iterable_Aggregator((datasets.source.original.val,datasets.target.original.val))\n",
    "\n",
    "confusion = ptn_confusion_by_domain_over_dataloader(model, p.device, val_dl)\n",
    "per_domain_accuracy = per_domain_accuracy_from_confusion(confusion)\n",
    "\n",
    "# Add a key to per_domain_accuracy for if it was a source domain\n",
    "for domain, accuracy in per_domain_accuracy.items():\n",
    "    per_domain_accuracy[domain] = {\n",
    "        \"accuracy\": accuracy,\n",
    "        \"source?\": domain in p.domains_source\n",
    "    }\n",
    "\n",
    "# Do an independent accuracy assesment JUST TO BE SURE!\n",
    "# _source_test_label_accuracy = independent_accuracy_assesment(model, datasets.source.processed.test, p.device)\n",
    "# _target_test_label_accuracy = independent_accuracy_assesment(model, datasets.target.processed.test, p.device)\n",
    "# _source_val_label_accuracy = independent_accuracy_assesment(model, datasets.source.processed.val, p.device)\n",
    "# _target_val_label_accuracy = independent_accuracy_assesment(model, datasets.target.processed.val, p.device)\n",
    "\n",
    "# assert(_source_test_label_accuracy == source_test_label_accuracy)\n",
    "# assert(_target_test_label_accuracy == target_test_label_accuracy)\n",
    "# assert(_source_val_label_accuracy == source_val_label_accuracy)\n",
    "# assert(_target_val_label_accuracy == target_val_label_accuracy)\n",
    "\n",
    "experiment = {\n",
    "    \"experiment_name\": p.experiment_name,\n",
    "    \"parameters\": dict(p),\n",
    "    \"results\": {\n",
    "        \"source_test_label_accuracy\": source_test_label_accuracy,\n",
    "        \"source_test_label_loss\": source_test_label_loss,\n",
    "        \"target_test_label_accuracy\": target_test_label_accuracy,\n",
    "        \"target_test_label_loss\": target_test_label_loss,\n",
    "        \"source_val_label_accuracy\": source_val_label_accuracy,\n",
    "        \"source_val_label_loss\": source_val_label_loss,\n",
    "        \"target_val_label_accuracy\": target_val_label_accuracy,\n",
    "        \"target_val_label_loss\": target_val_label_loss,\n",
    "        \"total_epochs_trained\": total_epochs_trained,\n",
    "        \"total_experiment_time_secs\": total_experiment_time_secs,\n",
    "        \"confusion\": confusion,\n",
    "        \"per_domain_accuracy\": per_domain_accuracy,\n",
    "    },\n",
    "    \"history\": history,\n",
    "    \"dataset_metrics\": get_dataset_metrics(datasets, \"ptn\"),\n",
    "}"
   ]
  },
  {
   "cell_type": "code",
   "execution_count": 25,
   "id": "54a21829",
   "metadata": {
    "execution": {
     "iopub.execute_input": "2022-03-23T06:50:25.745144Z",
     "iopub.status.busy": "2022-03-23T06:50:25.744764Z",
     "iopub.status.idle": "2022-03-23T06:50:25.981727Z",
     "shell.execute_reply": "2022-03-23T06:50:25.981001Z"
    },
    "papermill": {
     "duration": 0.284552,
     "end_time": "2022-03-23T06:50:25.981886",
     "exception": false,
     "start_time": "2022-03-23T06:50:25.697334",
     "status": "completed"
    },
    "tags": []
   },
   "outputs": [
    {
     "data": {
      "image/png": "[encoded data removed]",
      "text/plain": [
       "<Figure size 1080x504 with 1 Axes>"
      ]
     },
     "metadata": {
      "needs_background": "light"
     },
     "output_type": "display_data"
    }
   ],
   "source": [
    "ax = get_loss_curve(experiment)\n",
    "plt.show()"
   ]
  },
  {
   "cell_type": "code",
   "execution_count": 26,
   "id": "fd8a0f60",
   "metadata": {
    "execution": {
     "iopub.execute_input": "2022-03-23T06:50:26.072834Z",
     "iopub.status.busy": "2022-03-23T06:50:26.072401Z",
     "iopub.status.idle": "2022-03-23T06:50:26.384564Z",
     "shell.execute_reply": "2022-03-23T06:50:26.384213Z"
    },
    "papermill": {
     "duration": 0.356495,
     "end_time": "2022-03-23T06:50:26.384655",
     "exception": false,
     "start_time": "2022-03-23T06:50:26.028160",
     "status": "completed"
    },
    "tags": []
   },
   "outputs": [
    {
     "data": {
      "text/plain": [
       "<AxesSubplot:title={'center':'Results'}>"
      ]
     },
     "execution_count": 26,
     "metadata": {},
     "output_type": "execute_result"
    },
    {
     "data": {
      "image/png": "[encoded data removed]",
      "text/plain": [
       "<Figure size 1080x504 with 1 Axes>"
      ]
     },
     "metadata": {
      "needs_background": "light"
     },
     "output_type": "display_data"
    }
   ],
   "source": [
    "get_results_table(experiment)"
   ]
  },
  {
   "cell_type": "code",
   "execution_count": 27,
   "id": "cf8dc689",
   "metadata": {
    "execution": {
     "iopub.execute_input": "2022-03-23T06:50:26.478958Z",
     "iopub.status.busy": "2022-03-23T06:50:26.478587Z",
     "iopub.status.idle": "2022-03-23T06:50:26.740827Z",
     "shell.execute_reply": "2022-03-23T06:50:26.739714Z"
    },
    "papermill": {
     "duration": 0.310905,
     "end_time": "2022-03-23T06:50:26.741017",
     "exception": false,
     "start_time": "2022-03-23T06:50:26.430112",
     "status": "completed"
    },
    "tags": []
   },
   "outputs": [
    {
     "data": {
      "text/plain": [
       "<AxesSubplot:title={'center':'Per Domain Validation Accuracy'}, xlabel='domain'>"
      ]
     },
     "execution_count": 27,
     "metadata": {},
     "output_type": "execute_result"
    },
    {
     "data": {
      "image/png": "[encoded data removed]",
      "text/plain": [
       "<Figure size 1080x504 with 1 Axes>"
      ]
     },
     "metadata": {
      "needs_background": "light"
     },
     "output_type": "display_data"
    }
   ],
   "source": [
    "get_domain_accuracies(experiment)"
   ]
  },
  {
   "cell_type": "code",
   "execution_count": 28,
   "id": "a74ae082",
   "metadata": {
    "execution": {
     "iopub.execute_input": "2022-03-23T06:50:26.845285Z",
     "iopub.status.busy": "2022-03-23T06:50:26.844444Z",
     "iopub.status.idle": "2022-03-23T06:50:26.866994Z",
     "shell.execute_reply": "2022-03-23T06:50:26.866155Z"
    },
    "papermill": {
     "duration": 0.074175,
     "end_time": "2022-03-23T06:50:26.867162",
     "exception": false,
     "start_time": "2022-03-23T06:50:26.792987",
     "status": "completed"
    },
    "tags": []
   },
   "outputs": [
    {
     "name": "stdout",
     "output_type": "stream",
     "text": [
      "Source Test Label Accuracy: 0.8580143229166667 Target Test Label Accuracy: 0.9841101694915254\n",
      "Source Val Label Accuracy: 0.8584309895833333 Target Val Label Accuracy: 0.9838571428571429\n"
     ]
    }
   ],
   "source": [
    "print(\"Source Test Label Accuracy:\", experiment[\"results\"][\"source_test_label_accuracy\"], \"Target Test Label Accuracy:\", experiment[\"results\"][\"target_test_label_accuracy\"])\n",
    "print(\"Source Val Label Accuracy:\", experiment[\"results\"][\"source_val_label_accuracy\"], \"Target Val Label Accuracy:\", experiment[\"results\"][\"target_val_label_accuracy\"])"
   ]
  },
  {
   "cell_type": "code",
   "execution_count": 29,
   "id": "dacca602",
   "metadata": {
    "execution": {
     "iopub.execute_input": "2022-03-23T06:50:26.968076Z",
     "iopub.status.busy": "2022-03-23T06:50:26.967701Z",
     "iopub.status.idle": "2022-03-23T06:50:26.988342Z",
     "shell.execute_reply": "2022-03-23T06:50:26.989034Z"
    },
    "papermill": {
     "duration": 0.070408,
     "end_time": "2022-03-23T06:50:26.989228",
     "exception": false,
     "start_time": "2022-03-23T06:50:26.918820",
     "status": "completed"
    },
    "tags": [
     "experiment_json"
    ]
   },
   "outputs": [
    {
     "data": {
      "text/plain": [
       "'{\"experiment_name\": \"tl_1v2:cores-oracle.run1\", \"parameters\": {\"experiment_name\": \"tl_1v2:cores-oracle.run1\", \"device\": \"cuda\", \"lr\": 0.0001, \"n_shot\": 3, \"n_query\": 2, \"train_k_factor\": 3, \"val_k_factor\": 2, \"test_k_factor\": 2, \"torch_default_dtype\": \"torch.float32\", \"n_epoch\": 50, \"patience\": 3, \"criteria_for_best\": \"target_accuracy\", \"x_net\": [{\"class\": \"nnReshape\", \"kargs\": {\"shape\": [-1, 1, 2, 256]}}, {\"class\": \"Conv2d\", \"kargs\": {\"in_channels\": 1, \"out_channels\": 256, \"kernel_size\": [1, 7], \"bias\": false, \"padding\": [0, 3]}}, {\"class\": \"ReLU\", \"kargs\": {\"inplace\": true}}, {\"class\": \"BatchNorm2d\", \"kargs\": {\"num_features\": 256}}, {\"class\": \"Conv2d\", \"kargs\": {\"in_channels\": 256, \"out_channels\": 80, \"kernel_size\": [2, 7], \"bias\": true, \"padding\": [0, 3]}}, {\"class\": \"ReLU\", \"kargs\": {\"inplace\": true}}, {\"class\": \"BatchNorm2d\", \"kargs\": {\"num_features\": 80}}, {\"class\": \"Flatten\", \"kargs\": {}}, {\"class\": \"Linear\", \"kargs\": {\"in_features\": 20480, \"out_features\": 256}}, {\"class\": \"ReLU\", \"kargs\": {\"inplace\": true}}, {\"class\": \"BatchNorm1d\", \"kargs\": {\"num_features\": 256}}, {\"class\": \"Linear\", \"kargs\": {\"in_features\": 256, \"out_features\": 256}}], \"NUM_LOGS_PER_EPOCH\": 10, \"BEST_MODEL_PATH\": \"./best_model.pth\", \"n_way\": 16, \"datasets\": [{\"labels\": [\"1-10.\", \"1-11.\", \"1-15.\", \"1-16.\", \"1-17.\", \"1-18.\", \"1-19.\", \"10-4.\", \"10-7.\", \"11-1.\", \"11-14.\", \"11-17.\", \"11-20.\", \"11-7.\", \"13-20.\", \"13-8.\", \"14-10.\", \"14-11.\", \"14-14.\", \"14-7.\", \"15-1.\", \"15-20.\", \"16-1.\", \"16-16.\", \"17-10.\", \"17-11.\", \"17-2.\", \"19-1.\", \"19-16.\", \"19-19.\", \"19-20.\", \"19-3.\", \"2-10.\", \"2-11.\", \"2-17.\", \"2-18.\", \"2-20.\", \"2-3.\", \"2-4.\", \"2-5.\", \"2-6.\", \"2-7.\", \"2-8.\", \"3-13.\", \"3-18.\", \"3-3.\", \"4-1.\", \"4-10.\", \"4-11.\", \"4-19.\", \"5-5.\", \"6-15.\", \"7-10.\", \"7-14.\", \"8-18.\", \"8-20.\", \"8-3.\", \"8-8.\"], \"domains\": [1, 2, 3, 4, 5], \"num_examples_per_domain_per_label\": -1, \"pickle_path\": \"/root/csc500-main/datasets/cores.stratified_ds.2022A.pkl\", \"source_or_target_dataset\": \"target\", \"x_transforms\": [], \"episode_transforms\": [], \"domain_prefix\": \"CORES_\"}, {\"labels\": [\"3123D52\", \"3123D65\", \"3123D79\", \"3123D80\", \"3123D54\", \"3123D70\", \"3123D7B\", \"3123D89\", \"3123D58\", \"3123D76\", \"3123D7D\", \"3123EFE\", \"3123D64\", \"3123D78\", \"3123D7E\", \"3124E4A\"], \"domains\": [32, 38, 8, 44, 14, 50, 20, 26], \"num_examples_per_domain_per_label\": 10000, \"pickle_path\": \"/root/csc500-main/datasets/oracle.Run1_10kExamples_stratified_ds.2022A.pkl\", \"source_or_target_dataset\": \"source\", \"x_transforms\": [], \"episode_transforms\": [], \"domain_prefix\": \"ORACLE.run1_\"}], \"dataset_seed\": 7, \"seed\": 7, \"x_shape\": [2, 256], \"domains_source\": [\"ORACLE.run1_32\", \"ORACLE.run1_38\", \"ORACLE.run1_8\", \"ORACLE.run1_44\", \"ORACLE.run1_14\", \"ORACLE.run1_50\", \"ORACLE.run1_20\", \"ORACLE.run1_26\"], \"domains_target\": [\"CORES_1\", \"CORES_2\", \"CORES_3\", \"CORES_4\", \"CORES_5\"]}, \"results\": {\"source_test_label_accuracy\": 0.8580143229166667, \"source_test_label_loss\": 0.3992941379547119, \"target_test_label_accuracy\": 0.9841101694915254, \"target_test_label_loss\": 1.7028048038482666, \"source_val_label_accuracy\": 0.8584309895833333, \"source_val_label_loss\": 0.3978451192378998, \"target_val_label_accuracy\": 0.9838571428571429, \"target_val_label_loss\": 1.649127721786499, \"total_epochs_trained\": 6, \"total_experiment_time_secs\": 5739.454922914505, \"confusion\": {\"ORACLE.run1_26\": {\"0\": {\"10\": 175, \"0\": 876, \"14\": 98, \"9\": 1, \"2\": 5, \"8\": 32, \"7\": 1, \"1\": 4, \"15\": 4, \"6\": 4}, \"4\": {\"4\": 1195, \"3\": 5}, \"14\": {\"14\": 830, \"10\": 221, \"0\": 67, \"1\": 67, \"6\": 5, \"15\": 10}, \"12\": {\"12\": 1200}, \"8\": {\"8\": 814, \"2\": 25, \"9\": 186, \"3\": 3, \"7\": 168, \"0\": 4}, \"7\": {\"7\": 913, \"2\": 84, \"3\": 63, \"8\": 123, \"9\": 17}, \"13\": {\"13\": 1047, \"9\": 87, \"3\": 11, \"2\": 49, \"7\": 2, \"8\": 4}, \"5\": {\"5\": 954, \"6\": 50, \"15\": 196}, \"15\": {\"5\": 263, \"15\": 741, \"6\": 130, \"10\": 49, \"14\": 4, \"0\": 8, \"2\": 2, \"1\": 3}, \"10\": {\"0\": 106, \"14\": 194, \"10\": 813, \"6\": 37, \"15\": 49, \"1\": 1}, \"3\": {\"3\": 1108, \"2\": 11, \"7\": 81}, \"9\": {\"9\": 803, \"8\": 261, \"13\": 74, \"7\": 22, \"2\": 38, \"3\": 1, \"0\": 1}, \"6\": {\"6\": 1039, \"5\": 51, \"15\": 69, \"10\": 30, \"1\": 7, \"14\": 4}, \"1\": {\"1\": 1003, \"14\": 131, \"0\": 1, \"10\": 19, \"6\": 37, \"15\": 7, \"5\": 2}, \"11\": {\"11\": 1200}, \"2\": {\"2\": 730, \"9\": 71, \"8\": 59, \"7\": 183, \"3\": 123, \"0\": 23, \"13\": 9, \"15\": 1, \"10\": 1}}, \"ORACLE.run1_44\": {\"1\": {\"1\": 1145, \"2\": 54, \"10\": 1}, \"11\": {\"11\": 1200}, \"3\": {\"3\": 1173, \"12\": 27}, \"6\": {\"6\": 1029, \"13\": 131, \"9\": 40}, \"7\": {\"9\": 133, \"7\": 1056, \"10\": 10, \"6\": 1}, \"5\": {\"8\": 15, \"5\": 1069, \"15\": 68, \"14\": 43, \"0\": 3, \"4\": 2}, \"2\": {\"2\": 1154, \"1\": 42, \"10\": 4}, \"15\": {\"8\": 36, \"15\": 1052, \"14\": 66, \"5\": 39, \"0\": 4, \"4\": 3}, \"10\": {\"10\": 1137, \"1\": 30, \"2\": 19, \"7\": 14}, \"13\": {\"13\": 998, \"6\": 180, \"9\": 19, \"11\": 3}, \"8\": {\"8\": 892, \"0\": 238, \"5\": 32, \"15\": 38}, \"4\": {\"4\": 795, \"14\": 394, \"5\": 2, \"15\": 6, \"13\": 2, \"9\": 1}, \"9\": {\"9\": 570, \"7\": 343, \"2\": 4, \"6\": 182, \"13\": 97, \"4\": 4}, \"14\": {\"14\": 914, \"4\": 221, \"5\": 37, \"15\": 28}, \"0\": {\"0\": 1057, \"8\": 138, \"15\": 5}, \"12\": {\"12\": 1168, \"3\": 32}}, \"ORACLE.run1_50\": {\"15\": {\"15\": 1149, \"6\": 40, \"9\": 2, \"11\": 8, \"4\": 1}, \"4\": {\"4\": 1011, \"7\": 100, \"5\": 45, \"15\": 34, \"6\": 10}, \"6\": {\"6\": 1015, \"5\": 122, \"15\": 63}, \"2\": {\"2\": 1165, \"0\": 33, \"14\": 2}, \"5\": {\"5\": 489, \"7\": 325, \"6\": 266, \"4\": 74, \"13\": 32, \"15\": 7, \"1\": 7}, \"9\": {\"9\": 1054, \"11\": 55, \"12\": 89, \"15\": 2}, \"8\": {\"8\": 1197, \"10\": 3}, \"12\": {\"12\": 1138, \"9\": 50, \"11\": 12}, \"10\": {\"10\": 1190, \"8\": 8, \"0\": 2}, \"1\": {\"1\": 1169, \"10\": 7, \"13\": 21, \"0\": 2, \"6\": 1}, \"0\": {\"0\": 1146, \"2\": 47, \"10\": 7}, \"3\": {\"3\": 1200}, \"13\": {\"13\": 1194, \"1\": 6}, \"11\": {\"11\": 1167, \"15\": 10, \"9\": 12, \"12\": 11}, \"7\": {\"7\": 1111, \"5\": 67, \"4\": 22}, \"14\": {\"14\": 1200}}, \"ORACLE.run1_38\": {\"15\": {\"15\": 1126, \"1\": 23, \"5\": 18, \"8\": 33}, \"11\": {\"11\": 1200}, \"10\": {\"10\": 1120, \"0\": 36, \"13\": 40, \"4\": 4}, \"14\": {\"14\": 1093, \"2\": 102, \"13\": 5}, \"6\": {\"6\": 1200}, \"4\": {\"4\": 1199, \"10\": 1}, \"13\": {\"13\": 1143, \"10\": 50, \"0\": 5, \"2\": 1, \"14\": 1}, \"3\": {\"3\": 1200}, \"7\": {\"7\": 1189, \"8\": 2, \"0\": 5, \"5\": 4}, \"8\": {\"5\": 386, \"8\": 645, \"12\": 5, \"7\": 111, \"15\": 21, \"13\": 21, \"0\": 7, \"9\": 4}, \"1\": {\"1\": 1200}, \"5\": {\"5\": 555, \"8\": 428, \"9\": 73, \"7\": 91, \"15\": 48, \"13\": 3, \"0\": 2}, \"0\": {\"10\": 113, \"0\": 830, \"3\": 74, \"13\": 40, \"7\": 137, \"4\": 1, \"8\": 5}, \"2\": {\"2\": 1130, \"14\": 70}, \"12\": {\"12\": 1196, \"8\": 3, \"15\": 1}, \"9\": {\"9\": 1168, \"7\": 4, \"8\": 4, \"5\": 24}}, \"ORACLE.run1_20\": {\"10\": {\"10\": 1175, \"4\": 24, \"2\": 1}, \"7\": {\"7\": 943, \"4\": 15, \"2\": 117, \"9\": 98, \"6\": 14, \"8\": 2, \"3\": 4, \"12\": 7}, \"4\": {\"4\": 1086, \"12\": 55, \"7\": 21, \"10\": 30, \"2\": 5, \"5\": 1, \"3\": 1, \"9\": 1}, \"13\": {\"13\": 1098, \"2\": 54, \"15\": 25, \"12\": 23}, \"1\": {\"1\": 721, \"5\": 340, \"15\": 60, \"3\": 19, \"9\": 50, \"12\": 8, \"2\": 2}, \"0\": {\"0\": 1139, \"8\": 9, \"3\": 22, \"5\": 24, \"1\": 5, \"9\": 1}, \"12\": {\"12\": 856, \"2\": 153, \"15\": 104, \"1\": 22, \"4\": 16, \"5\": 2, \"7\": 14, \"13\": 20, \"9\": 12, \"3\": 1}, \"5\": {\"5\": 685, \"3\": 111, \"1\": 355, \"9\": 43, \"0\": 1, \"2\": 1, \"15\": 3, \"12\": 1}, \"6\": {\"6\": 1169, \"8\": 2, \"10\": 2, \"7\": 16, \"14\": 11}, \"2\": {\"2\": 785, \"7\": 142, \"12\": 133, \"9\": 58, \"13\": 54, \"15\": 16, \"4\": 6, \"1\": 6}, \"8\": {\"8\": 1057, \"3\": 67, \"14\": 69, \"7\": 3, \"9\": 4}, \"11\": {\"11\": 1200}, \"9\": {\"9\": 768, \"3\": 147, \"2\": 53, \"5\": 43, \"7\": 101, \"4\": 2, \"1\": 61, \"12\": 18, \"13\": 2, \"8\": 4, \"15\": 1}, \"14\": {\"14\": 1127, \"8\": 65, \"6\": 8}, \"15\": {\"15\": 938, \"1\": 121, \"12\": 91, \"9\": 7, \"13\": 25, \"2\": 16, \"5\": 2}, \"3\": {\"5\": 122, \"3\": 762, \"9\": 192, \"0\": 21, \"8\": 66, \"7\": 10, \"1\": 24, \"2\": 2, \"4\": 1}}, \"ORACLE.run1_14\": {\"14\": {\"14\": 988, \"6\": 28, \"2\": 53, \"13\": 101, \"3\": 29, \"4\": 1}, \"0\": {\"0\": 1138, \"10\": 25, \"3\": 33, \"14\": 1, \"4\": 1, \"8\": 2}, \"4\": {\"4\": 1173, \"5\": 15, \"2\": 12}, \"11\": {\"11\": 1200}, \"13\": {\"6\": 460, \"13\": 334, \"14\": 315, \"2\": 48, \"15\": 39, \"3\": 2, \"4\": 2}, \"9\": {\"9\": 1200}, \"3\": {\"3\": 1158, \"2\": 4, \"6\": 2, \"14\": 32, \"0\": 4}, \"6\": {\"6\": 811, \"13\": 301, \"14\": 66, \"3\": 1, \"2\": 21}, \"1\": {\"1\": 1200}, \"5\": {\"5\": 1066, \"2\": 89, \"4\": 14, \"3\": 11, \"7\": 17, \"14\": 2, \"6\": 1}, \"12\": {\"12\": 1200}, \"10\": {\"10\": 1200}, \"8\": {\"8\": 1200}, \"7\": {\"7\": 1197, \"2\": 1, \"5\": 2}, \"15\": {\"15\": 1200}, \"2\": {\"2\": 560, \"14\": 182, \"5\": 181, \"13\": 57, \"4\": 84, \"6\": 81, \"3\": 42, \"7\": 13}}, \"ORACLE.run1_32\": {\"11\": {\"11\": 1198, \"13\": 2}, \"1\": {\"1\": 1200}, \"2\": {\"2\": 1085, \"4\": 115}, \"0\": {\"0\": 938, \"8\": 88, \"5\": 60, \"7\": 99, \"2\": 1, \"14\": 14}, \"3\": {\"3\": 1176, \"13\": 24}, \"8\": {\"8\": 974, \"0\": 97, \"5\": 85, \"7\": 19, \"4\": 12, \"14\": 11, \"2\": 1, \"15\": 1}, \"12\": {\"12\": 1200}, \"5\": {\"7\": 237, \"5\": 693, \"8\": 138, \"0\": 94, \"15\": 2, \"14\": 36}, \"15\": {\"15\": 1195, \"8\": 5}, \"7\": {\"5\": 168, \"7\": 790, \"14\": 132, \"0\": 98, \"8\": 12}, \"4\": {\"4\": 1031, \"2\": 136, \"13\": 30, \"3\": 2, \"14\": 1}, \"14\": {\"14\": 743, \"4\": 5, \"5\": 58, \"7\": 289, \"2\": 35, \"8\": 30, \"0\": 40}, \"10\": {\"10\": 1200}, \"6\": {\"6\": 1200}, \"13\": {\"13\": 936, \"4\": 125, \"3\": 115, \"11\": 23, \"14\": 1}, \"9\": {\"9\": 1185, \"12\": 14, \"2\": 1}}, \"ORACLE.run1_8\": {\"9\": {\"9\": 1200}, \"11\": {\"11\": 672, \"14\": 57, \"1\": 422, \"10\": 2, \"6\": 8, \"5\": 11, \"4\": 11, \"8\": 16, \"13\": 1}, \"8\": {\"8\": 1182, \"6\": 12, \"11\": 3, \"4\": 3}, \"4\": {\"4\": 1159, \"8\": 1, \"6\": 18, \"14\": 12, \"11\": 7, \"10\": 1, \"1\": 2}, \"13\": {\"13\": 1006, \"10\": 129, \"7\": 50, \"6\": 15}, \"14\": {\"14\": 1107, \"4\": 83, \"11\": 10}, \"2\": {\"12\": 53, \"2\": 933, \"3\": 156, \"15\": 58}, \"3\": {\"3\": 1199, \"2\": 1}, \"1\": {\"11\": 196, \"1\": 923, \"10\": 41, \"5\": 31, \"4\": 4, \"13\": 3, \"6\": 2}, \"0\": {\"0\": 1200}, \"5\": {\"1\": 92, \"10\": 123, \"5\": 947, \"11\": 20, \"4\": 2, \"13\": 5, \"14\": 11}, \"15\": {\"15\": 987, \"12\": 201, \"2\": 12}, \"10\": {\"10\": 928, \"13\": 162, \"5\": 52, \"6\": 7, \"1\": 44, \"4\": 4, \"11\": 3}, \"12\": {\"12\": 867, \"15\": 323, \"2\": 10}, \"6\": {\"6\": 997, \"7\": 178, \"13\": 14, \"10\": 6, \"4\": 4, \"8\": 1}, \"7\": {\"7\": 1006, \"6\": 169, \"13\": 25}}, \"CORES_5\": {\"26\": {\"26\": 22, \"54\": 1, \"55\": 1}, \"7\": {\"7\": 32}, \"56\": {\"56\": 142}, \"36\": {\"36\": 92}, \"47\": {\"47\": 100}, \"2\": {\"2\": 27, \"14\": 1}, \"15\": {\"15\": 149, \"11\": 3}, \"14\": {\"27\": 4, \"14\": 21, \"2\": 3, \"8\": 5, \"32\": 1, \"29\": 3, \"13\": 1, \"39\": 5, \"36\": 1}, \"27\": {\"27\": 146}, \"40\": {\"40\": 124}, \"49\": {\"49\": 36}, \"45\": {\"45\": 124}, \"46\": {\"46\": 136}, \"11\": {\"15\": 2, \"11\": 120, \"16\": 8}, \"30\": {\"30\": 112}, \"0\": {\"0\": 124}, \"10\": {\"10\": 68}, \"1\": {\"1\": 148}, \"42\": {\"42\": 38, \"2\": 1, \"29\": 1}, \"54\": {\"54\": 111, \"23\": 1}, \"55\": {\"55\": 152}, \"23\": {\"23\": 123, \"54\": 1}, \"25\": {\"25\": 152}, \"28\": {\"28\": 32}, \"32\": {\"32\": 32}, \"9\": {\"9\": 142}, \"39\": {\"39\": 20}, \"3\": {\"3\": 100}, \"29\": {\"29\": 118}, \"17\": {\"17\": 116}, \"35\": {\"34\": 1, \"35\": 31, \"49\": 1, \"36\": 3}, \"44\": {\"44\": 149, \"5\": 3}, \"5\": {\"5\": 122, \"44\": 6}, \"33\": {\"33\": 30, \"36\": 2}, \"34\": {\"33\": 4, \"34\": 32}, \"13\": {\"13\": 138}, \"41\": {\"41\": 18, \"2\": 1, \"49\": 5, \"35\": 2, \"57\": 1, \"48\": 1}, \"6\": {\"6\": 127, \"50\": 1}, \"51\": {\"51\": 138}, \"50\": {\"50\": 144}, \"37\": {\"37\": 21, \"13\": 1, \"8\": 1, \"20\": 1}, \"19\": {\"19\": 144}, \"57\": {\"57\": 132}, \"21\": {\"21\": 144}, \"24\": {\"24\": 80}, \"8\": {\"8\": 130}, \"12\": {\"12\": 96}, \"48\": {\"48\": 132}, \"43\": {\"43\": 148, \"53\": 1, \"24\": 1}, \"53\": {\"53\": 147, \"15\": 1}, \"38\": {\"38\": 26, \"7\": 6}, \"16\": {\"16\": 133, \"11\": 9}, \"22\": {\"22\": 28}, \"4\": {\"4\": 100}, \"18\": {\"18\": 64}, \"20\": {\"20\": 144}, \"52\": {\"52\": 140}, \"31\": {\"31\": 36}}, \"CORES_1\": {\"41\": {\"41\": 22, \"13\": 1, \"36\": 1}, \"40\": {\"40\": 110}, \"45\": {\"45\": 138}, \"51\": {\"51\": 148}, \"5\": {\"5\": 154}, \"30\": {\"30\": 120}, \"42\": {\"42\": 38, \"54\": 1, \"55\": 1}, \"46\": {\"46\": 136}, \"48\": {\"48\": 134}, \"53\": {\"53\": 144}, \"47\": {\"47\": 152}, \"49\": {\"49\": 30, \"39\": 1, \"32\": 1}, \"36\": {\"36\": 64}, \"32\": {\"32\": 32}, \"34\": {\"34\": 21, \"19\": 1, \"55\": 2}, \"29\": {\"29\": 140}, \"35\": {\"35\": 36}, \"3\": {\"3\": 133, \"20\": 1}, \"16\": {\"16\": 140}, \"26\": {\"26\": 21, \"54\": 3}, \"57\": {\"57\": 144}, \"44\": {\"44\": 127, \"56\": 1}, \"0\": {\"0\": 152}, \"4\": {\"4\": 132}, \"31\": {\"31\": 28}, \"11\": {\"11\": 140}, \"6\": {\"6\": 95, \"50\": 1}, \"54\": {\"54\": 104}, \"17\": {\"17\": 64}, \"20\": {\"20\": 124, \"3\": 3, \"12\": 1}, \"13\": {\"13\": 150}, \"33\": {\"33\": 32}, \"24\": {\"24\": 104, \"31\": 4}, \"52\": {\"52\": 128, \"22\": 3, \"21\": 1}, \"2\": {\"2\": 36}, \"19\": {\"19\": 156}, \"39\": {\"52\": 1, \"39\": 18, \"36\": 2, \"49\": 2, \"38\": 2, \"31\": 3}, \"8\": {\"8\": 140}, \"21\": {\"21\": 124}, \"10\": {\"10\": 84, \"28\": 1, \"15\": 10, \"16\": 1}, \"37\": {\"37\": 29, \"7\": 1, \"36\": 2}, \"25\": {\"25\": 142, \"18\": 2}, \"27\": {\"27\": 130}, \"23\": {\"23\": 133, \"28\": 1, \"15\": 2}, \"1\": {\"1\": 100}, \"50\": {\"50\": 152}, \"12\": {\"12\": 112, \"13\": 3, \"20\": 1}, \"18\": {\"18\": 72}, \"38\": {\"38\": 19, \"49\": 2, \"36\": 2, \"9\": 1}, \"14\": {\"13\": 2, \"30\": 2, \"14\": 16, \"0\": 3, \"21\": 1}, \"56\": {\"56\": 141, \"44\": 1}, \"55\": {\"55\": 160}, \"9\": {\"9\": 138}, \"15\": {\"15\": 145, \"10\": 1}, \"28\": {\"28\": 28}, \"7\": {\"7\": 28}, \"43\": {\"43\": 136}, \"22\": {\"22\": 127, \"52\": 7, \"0\": 2}}, \"CORES_3\": {\"1\": {\"1\": 100}, \"9\": {\"9\": 122, \"27\": 2}, \"22\": {\"22\": 136}, \"43\": {\"43\": 136}, \"49\": {\"49\": 17, \"43\": 1, \"24\": 2}, \"50\": {\"50\": 132, \"21\": 1, \"46\": 3, \"3\": 2}, \"53\": {\"53\": 136}, \"10\": {\"10\": 62, \"11\": 1, \"15\": 1}, \"48\": {\"48\": 116}, \"8\": {\"8\": 137, \"20\": 1}, \"31\": {\"31\": 28}, \"56\": {\"56\": 131, \"22\": 3}, \"25\": {\"25\": 141, \"15\": 1}, \"28\": {\"28\": 28}, \"38\": {\"38\": 28}, \"5\": {\"5\": 116}, \"12\": {\"12\": 92}, \"6\": {\"6\": 87, \"3\": 1}, \"19\": {\"19\": 152}, \"26\": {\"26\": 24}, \"32\": {\"32\": 28}, \"33\": {\"33\": 28}, \"3\": {\"3\": 118}, \"51\": {\"51\": 128}, \"16\": {\"16\": 136, \"25\": 1, \"11\": 1}, \"46\": {\"46\": 139, \"50\": 1}, \"7\": {\"7\": 32, \"48\": 1, \"13\": 1, \"41\": 1, \"49\": 1}, \"47\": {\"47\": 92}, \"39\": {\"39\": 16}, \"40\": {\"40\": 135, \"44\": 1}, \"14\": {\"14\": 37, \"39\": 2, \"57\": 1}, \"37\": {\"37\": 27, \"13\": 1}, \"2\": {\"2\": 32}, \"21\": {\"21\": 120}, \"35\": {\"35\": 27, \"42\": 1}, \"54\": {\"54\": 100}, \"52\": {\"52\": 116}, \"29\": {\"29\": 116, \"4\": 1, \"9\": 1}, \"20\": {\"20\": 131, \"8\": 1}, \"18\": {\"18\": 84}, \"11\": {\"11\": 134, \"16\": 6, \"15\": 2}, \"0\": {\"0\": 124}, \"36\": {\"36\": 100}, \"17\": {\"17\": 108}, \"30\": {\"30\": 114}, \"42\": {\"42\": 28}, \"45\": {\"45\": 60}, \"4\": {\"4\": 148}, \"23\": {\"23\": 134}, \"13\": {\"13\": 128}, \"15\": {\"15\": 126, \"10\": 1, \"16\": 1}, \"57\": {\"57\": 122, \"29\": 2}, \"27\": {\"9\": 6, \"27\": 126, \"57\": 2}, \"44\": {\"44\": 88}, \"34\": {\"34\": 27, \"55\": 5}, \"41\": {\"41\": 24, \"30\": 3, \"52\": 1}, \"24\": {\"24\": 103, \"43\": 1}, \"55\": {\"55\": 118}}, \"CORES_4\": {\"52\": {\"52\": 116}, \"6\": {\"6\": 106, \"3\": 2, \"50\": 4}, \"14\": {\"14\": 14, \"33\": 1, \"9\": 1}, \"49\": {\"14\": 2, \"49\": 14, \"2\": 2, \"4\": 1, \"38\": 1}, \"0\": {\"0\": 79, \"46\": 1}, \"46\": {\"46\": 156}, \"41\": {\"41\": 32, \"7\": 1, \"54\": 1, \"32\": 1, \"38\": 1}, \"24\": {\"24\": 55, \"43\": 1}, \"25\": {\"25\": 151, \"11\": 1}, \"40\": {\"40\": 137, \"44\": 1}, \"38\": {\"49\": 4, \"38\": 34, \"13\": 1, \"39\": 1}, \"13\": {\"13\": 152}, \"9\": {\"9\": 106, \"4\": 2}, \"45\": {\"45\": 96}, \"43\": {\"43\": 144}, \"10\": {\"10\": 122, \"11\": 1, \"15\": 7}, \"15\": {\"15\": 119, \"16\": 4, \"18\": 1, \"11\": 2, \"10\": 2}, \"39\": {\"39\": 20}, \"4\": {\"4\": 132}, \"53\": {\"53\": 132}, \"1\": {\"1\": 39, \"56\": 1}, \"28\": {\"28\": 31, \"26\": 1}, \"54\": {\"54\": 107, \"32\": 1}, \"21\": {\"21\": 132}, \"7\": {\"7\": 21, \"54\": 1, \"2\": 1, \"13\": 1}, \"8\": {\"8\": 136}, \"42\": {\"42\": 31, \"34\": 1}, \"11\": {\"11\": 88, \"10\": 1, \"16\": 8, \"15\": 7}, \"33\": {\"33\": 35, \"14\": 1}, \"27\": {\"27\": 142}, \"19\": {\"19\": 144}, \"2\": {\"2\": 35, \"49\": 1}, \"3\": {\"3\": 119, \"6\": 1}, \"57\": {\"57\": 99, \"29\": 1}, \"20\": {\"20\": 112}, \"23\": {\"23\": 122, \"43\": 5, \"54\": 1}, \"22\": {\"22\": 127, \"46\": 1}, \"29\": {\"29\": 121, \"57\": 2, \"4\": 1}, \"36\": {\"36\": 92}, \"51\": {\"51\": 132}, \"31\": {\"31\": 24, \"36\": 1, \"24\": 1, \"37\": 2}, \"12\": {\"12\": 92}, \"56\": {\"56\": 138}, \"5\": {\"5\": 108}, \"35\": {\"33\": 8, \"35\": 23, \"19\": 3, \"55\": 4, \"42\": 2}, \"17\": {\"17\": 80}, \"32\": {\"32\": 16, \"14\": 1, \"7\": 2, \"41\": 2, \"49\": 1, \"54\": 2}, \"47\": {\"47\": 120}, \"18\": {\"18\": 103, \"11\": 1, \"29\": 1, \"16\": 1, \"25\": 2}, \"26\": {\"26\": 19, \"34\": 2, \"42\": 1, \"28\": 2}, \"50\": {\"50\": 109, \"6\": 8, \"3\": 5}, \"55\": {\"55\": 124}, \"34\": {\"26\": 1, \"34\": 18, \"28\": 4, \"55\": 1}, \"30\": {\"30\": 44}, \"37\": {\"37\": 21, \"21\": 1, \"36\": 1, \"13\": 1}, \"44\": {\"44\": 132}, \"48\": {\"48\": 118}, \"16\": {\"16\": 92, \"11\": 4}}, \"CORES_2\": {\"11\": {\"11\": 121, \"15\": 6, \"16\": 1, \"10\": 2}, \"21\": {\"21\": 120}, \"19\": {\"19\": 140}, \"20\": {\"20\": 128}, \"9\": {\"9\": 140}, \"10\": {\"10\": 110, \"11\": 2}, \"37\": {\"37\": 33, \"36\": 2, \"38\": 1}, \"32\": {\"32\": 28}, \"3\": {\"3\": 91, \"6\": 1}, \"39\": {\"39\": 20, \"38\": 1, \"41\": 2, \"23\": 2, \"2\": 1, \"32\": 1, \"31\": 1}, \"45\": {\"45\": 128}, \"50\": {\"50\": 133, \"46\": 3}, \"40\": {\"40\": 136, \"4\": 1, \"1\": 1, \"44\": 1, \"9\": 1}, \"46\": {\"46\": 127, \"50\": 1}, \"12\": {\"12\": 92}, \"13\": {\"13\": 116}, \"47\": {\"47\": 132}, \"15\": {\"15\": 140, \"16\": 2}, \"54\": {\"54\": 108}, \"48\": {\"48\": 148}, \"23\": {\"23\": 142}, \"29\": {\"29\": 128}, \"38\": {\"38\": 20}, \"53\": {\"53\": 136}, \"27\": {\"27\": 150}, \"43\": {\"43\": 143, \"15\": 1}, \"35\": {\"35\": 31, \"33\": 1}, \"0\": {\"0\": 48}, \"52\": {\"52\": 124}, \"8\": {\"8\": 128}, \"24\": {\"24\": 95, \"43\": 1}, \"18\": {\"18\": 47, \"25\": 1}, \"25\": {\"25\": 148}, \"57\": {\"57\": 136}, \"55\": {\"55\": 134}, \"36\": {\"36\": 116}, \"17\": {\"17\": 104}, \"2\": {\"2\": 32}, \"34\": {\"34\": 24, \"49\": 4}, \"1\": {\"1\": 112}, \"51\": {\"51\": 136}, \"31\": {\"31\": 28}, \"49\": {\"49\": 23, \"17\": 1}, \"14\": {\"33\": 1, \"14\": 21, \"29\": 2}, \"33\": {\"55\": 1, \"33\": 23, \"42\": 1, \"14\": 2, \"57\": 1}, \"41\": {\"41\": 17, \"30\": 1, \"48\": 1, \"47\": 1}, \"28\": {\"28\": 28}, \"5\": {\"5\": 120}, \"16\": {\"16\": 150}, \"4\": {\"4\": 128}, \"22\": {\"22\": 136}, \"6\": {\"6\": 118}, \"30\": {\"30\": 124}, \"26\": {\"26\": 22, \"54\": 2}, \"56\": {\"56\": 142}, \"42\": {\"42\": 36}, \"44\": {\"44\": 100}, \"7\": {\"7\": 33, \"37\": 2, \"36\": 1}}}, \"per_domain_accuracy\": {\"ORACLE.run1_26\": {\"accuracy\": 0.7951041666666666, \"source?\": true}, \"ORACLE.run1_44\": {\"accuracy\": 0.8546354166666666, \"source?\": true}, \"ORACLE.run1_50\": {\"accuracy\": 0.91640625, \"source?\": true}, \"ORACLE.run1_38\": {\"accuracy\": 0.8955208333333333, \"source?\": true}, \"ORACLE.run1_20\": {\"accuracy\": 0.8077604166666666, \"source?\": true}, \"ORACLE.run1_14\": {\"accuracy\": 0.8763020833333334, \"source?\": true}, \"ORACLE.run1_32\": {\"accuracy\": 0.8720833333333333, \"source?\": true}, \"ORACLE.run1_8\": {\"accuracy\": 0.8496354166666666, \"source?\": true}, \"CORES_5\": {\"accuracy\": 0.9834148044692738, \"source?\": false}, \"CORES_1\": {\"accuracy\": 0.9855638586956522, \"source?\": false}, \"CORES_3\": {\"accuracy\": 0.9880514705882353, \"source?\": false}, \"CORES_4\": {\"accuracy\": 0.9719503012048193, \"source?\": false}, \"CORES_2\": {\"accuracy\": 0.9897017045454546, \"source?\": false}}}, \"history\": {\"epoch_indices\": [1, 2, 3, 4, 5, 6], \"train_label_loss\": [0.6898989716133413, 0.4192328221242254, 0.3403716976661789, 0.3019034665906137, 0.2719320615359937, 0.24720369544362517], \"source_val_label_loss\": [2.0352563858032227, 0.3978451192378998, 0.36750999093055725, 0.3458299934864044, 0.34351059794425964, 0.32704710960388184], \"target_val_label_loss\": [23.093345642089844, 1.649127721786499, 2.6470372676849365, 3.0640640258789062, 3.9708003997802734, 4.529815673828125], \"source_val_acc_label\": [0.7170833333333333, 0.8584309895833333, 0.8687434895833334, 0.8746354166666667, 0.8780403645833333, 0.8838736979166667], \"target_val_acc_label\": [0.93, 0.9838571428571429, 0.9827142857142858, 0.98275, 0.9819285714285715, 0.9825357142857143]}, \"dataset_metrics\": {\"source\": {\"train\": {\"n_unique_x\": 896000, \"n_unique_y\": 16, \"n_batch/episode\": 33600}, \"val\": {\"n_unique_x\": 192000, \"n_unique_y\": 16, \"n_batch/episode\": 4800}, \"test\": {\"n_unique_x\": 192000, \"n_unique_y\": 16, \"n_batch/episode\": 4800}}, \"target\": {\"train\": {\"n_unique_x\": 175203, \"n_unique_y\": 58, \"n_batch/episode\": 6321}, \"val\": {\"n_unique_x\": 37151, \"n_unique_y\": 58, \"n_batch/episode\": 875}, \"test\": {\"n_unique_x\": 37548, \"n_unique_y\": 58, \"n_batch/episode\": 885}}}}'"
      ]
     },
     "execution_count": 29,
     "metadata": {},
     "output_type": "execute_result"
    }
   ],
   "source": [
    "json.dumps(experiment)"
   ]
  }
 ],
 "metadata": {
  "celltoolbar": "Tags",
  "kernelspec": {
   "display_name": "Python 3 (ipykernel)",
   "language": "python",
   "name": "python3"
  },
  "language_info": {
   "codemirror_mode": {
    "name": "ipython",
    "version": 3
   },
   "file_extension": ".py",
   "mimetype": "text/x-python",
   "name": "python",
   "nbconvert_exporter": "python",
   "pygments_lexer": "ipython3",
   "version": "3.8.12"
  },
  "papermill": {
   "default_parameters": {},
   "duration": 6380.790046,
   "end_time": "2022-03-23T06:50:31.032934",
   "environment_variables": {},
   "exception": null,
   "input_path": "/root/csc500-main/csc500-notebooks/templates/tl_ptn_template.ipynb",
   "output_path": "trial.ipynb",
   "parameters": {
    "parameters": {
     "BEST_MODEL_PATH": "./best_model.pth",
     "NUM_LOGS_PER_EPOCH": 10,
     "criteria_for_best": "target_accuracy",
     "dataset_seed": 7,
     "datasets": [
      {
       "domain_prefix": "CORES_",
       "domains": [
        1,
        2,
        3,
        4,
        5
       ],
       "episode_transforms": [],
       "labels": [
        "1-10.",
        "1-11.",
        "1-15.",
        "1-16.",
        "1-17.",
        "1-18.",
        "1-19.",
        "10-4.",
        "10-7.",
        "11-1.",
        "11-14.",
        "11-17.",
        "11-20.",
        "11-7.",
        "13-20.",
        "13-8.",
        "14-10.",
        "14-11.",
        "14-14.",
        "14-7.",
        "15-1.",
        "15-20.",
        "16-1.",
        "16-16.",
        "17-10.",
        "17-11.",
        "17-2.",
        "19-1.",
        "19-16.",
        "19-19.",
        "19-20.",
        "19-3.",
        "2-10.",
        "2-11.",
        "2-17.",
        "2-18.",
        "2-20.",
        "2-3.",
        "2-4.",
        "2-5.",
        "2-6.",
        "2-7.",
        "2-8.",
        "3-13.",
        "3-18.",
        "3-3.",
        "4-1.",
        "4-10.",
        "4-11.",
        "4-19.",
        "5-5.",
        "6-15.",
        "7-10.",
        "7-14.",
        "8-18.",
        "8-20.",
        "8-3.",
        "8-8."
       ],
       "num_examples_per_domain_per_label": -1,
       "pickle_path": "/root/csc500-main/datasets/cores.stratified_ds.2022A.pkl",
       "source_or_target_dataset": "target",
       "x_transforms": []
      },
      {
       "domain_prefix": "ORACLE.run1_",
       "domains": [
        32,
        38,
        8,
        44,
        14,
        50,
        20,
        26
       ],
       "episode_transforms": [],
       "labels": [
        "3123D52",
        "3123D65",
        "3123D79",
        "3123D80",
        "3123D54",
        "3123D70",
        "3123D7B",
        "3123D89",
        "3123D58",
        "3123D76",
        "3123D7D",
        "3123EFE",
        "3123D64",
        "3123D78",
        "3123D7E",
        "3124E4A"
       ],
       "num_examples_per_domain_per_label": 10000,
       "pickle_path": "/root/csc500-main/datasets/oracle.Run1_10kExamples_stratified_ds.2022A.pkl",
       "source_or_target_dataset": "source",
       "x_transforms": []
      }
     ],
     "device": "cuda",
     "experiment_name": "tl_1v2:cores-oracle.run1",
     "lr": 0.0001,
     "n_epoch": 50,
     "n_query": 2,
     "n_shot": 3,
     "n_way": 16,
     "patience": 3,
     "seed": 7,
     "test_k_factor": 2,
     "torch_default_dtype": "torch.float32",
     "train_k_factor": 3,
     "val_k_factor": 2,
     "x_net": [
      {
       "class": "nnReshape",
       "kargs": {
        "shape": [
         -1,
         1,
         2,
         256
        ]
       }
      },
      {
       "class": "Conv2d",
       "kargs": {
        "bias": false,
        "in_channels": 1,
        "kernel_size": [
         1,
         7
        ],
        "out_channels": 256,
        "padding": [
         0,
         3
        ]
       }
      },
      {
       "class": "ReLU",
       "kargs": {
        "inplace": true
       }
      },
      {
       "class": "BatchNorm2d",
       "kargs": {
        "num_features": 256
       }
      },
      {
       "class": "Conv2d",
       "kargs": {
        "bias": true,
        "in_channels": 256,
        "kernel_size": [
         2,
         7
        ],
        "out_channels": 80,
        "padding": [
         0,
         3
        ]
       }
      },
      {
       "class": "ReLU",
       "kargs": {
        "inplace": true
       }
      },
      {
       "class": "BatchNorm2d",
       "kargs": {
        "num_features": 80
       }
      },
      {
       "class": "Flatten",
       "kargs": {}
      },
      {
       "class": "Linear",
       "kargs": {
        "in_features": 20480,
        "out_features": 256
       }
      },
      {
       "class": "ReLU",
       "kargs": {
        "inplace": true
       }
      },
      {
       "class": "BatchNorm1d",
       "kargs": {
        "num_features": 256
       }
      },
      {
       "class": "Linear",
       "kargs": {
        "in_features": 256,
        "out_features": 256
       }
      }
     ]
    }
   },
   "start_time": "2022-03-23T05:04:10.242888",
   "version": "2.3.4"
  }
 },
 "nbformat": 4,
 "nbformat_minor": 5
}