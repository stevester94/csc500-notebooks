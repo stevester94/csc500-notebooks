{
 "cells": [
  {
   "cell_type": "markdown",
   "id": "9fea5f46",
   "metadata": {
    "papermill": {
     "duration": 0.025067,
     "end_time": "2022-03-21T04:21:18.840672",
     "exception": false,
     "start_time": "2022-03-21T04:21:18.815605",
     "status": "completed"
    },
    "tags": []
   },
   "source": [
    "# Transfer Learning Template"
   ]
  },
  {
   "cell_type": "code",
   "execution_count": 1,
   "id": "0902182a",
   "metadata": {
    "execution": {
     "iopub.execute_input": "2022-03-21T04:21:18.899779Z",
     "iopub.status.busy": "2022-03-21T04:21:18.898025Z",
     "iopub.status.idle": "2022-03-21T04:21:20.729666Z",
     "shell.execute_reply": "2022-03-21T04:21:20.728797Z"
    },
    "papermill": {
     "duration": 1.86966,
     "end_time": "2022-03-21T04:21:20.729852",
     "exception": false,
     "start_time": "2022-03-21T04:21:18.860192",
     "status": "completed"
    },
    "tags": []
   },
   "outputs": [],
   "source": [
    "%load_ext autoreload\n",
    "%autoreload 2\n",
    "%matplotlib inline\n",
    "\n",
    "    \n",
    "import os, json, sys, time, random\n",
    "import numpy as np\n",
    "import torch\n",
    "from torch.optim import Adam\n",
    "from  easydict import EasyDict\n",
    "import matplotlib.pyplot as plt\n",
    "\n",
    "from steves_models.steves_ptn import Steves_Prototypical_Network\n",
    "\n",
    "from steves_utils.lazy_iterable_wrapper import Lazy_Iterable_Wrapper\n",
    "from steves_utils.iterable_aggregator import Iterable_Aggregator\n",
    "from steves_utils.ptn_train_eval_test_jig import  PTN_Train_Eval_Test_Jig\n",
    "from steves_utils.torch_sequential_builder import build_sequential\n",
    "from steves_utils.torch_utils import get_dataset_metrics, ptn_confusion_by_domain_over_dataloader\n",
    "from steves_utils.utils_v2 import (per_domain_accuracy_from_confusion, get_datasets_base_path)\n",
    "from steves_utils.PTN.utils import independent_accuracy_assesment\n",
    "\n",
    "from torch.utils.data import DataLoader\n",
    "\n",
    "from steves_utils.stratified_dataset.episodic_accessor import Episodic_Accessor_Factory\n",
    "\n",
    "from steves_utils.ptn_do_report import (\n",
    "    get_loss_curve,\n",
    "    get_results_table,\n",
    "    get_parameters_table,\n",
    "    get_domain_accuracies,\n",
    ")\n",
    "\n",
    "from steves_utils.transforms import get_chained_transform"
   ]
  },
  {
   "cell_type": "markdown",
   "id": "41c840b4",
   "metadata": {
    "papermill": {
     "duration": 0.019719,
     "end_time": "2022-03-21T04:21:20.773072",
     "exception": false,
     "start_time": "2022-03-21T04:21:20.753353",
     "status": "completed"
    },
    "tags": []
   },
   "source": [
    "# Allowed Parameters\n",
    "These are allowed parameters, not defaults\n",
    "Each of these values need to be present in the injected parameters (the notebook will raise an exception if they are not present)\n",
    "\n",
    "Papermill uses the cell tag \"parameters\" to inject the real parameters below this cell.\n",
    "Enable tags to see what I mean"
   ]
  },
  {
   "cell_type": "code",
   "execution_count": 2,
   "id": "fd44eb83",
   "metadata": {
    "execution": {
     "iopub.execute_input": "2022-03-21T04:21:20.817955Z",
     "iopub.status.busy": "2022-03-21T04:21:20.817556Z",
     "iopub.status.idle": "2022-03-21T04:21:20.842705Z",
     "shell.execute_reply": "2022-03-21T04:21:20.841949Z"
    },
    "papermill": {
     "duration": 0.050216,
     "end_time": "2022-03-21T04:21:20.842883",
     "exception": false,
     "start_time": "2022-03-21T04:21:20.792667",
     "status": "completed"
    },
    "tags": []
   },
   "outputs": [],
   "source": [
    "required_parameters = {\n",
    "    \"experiment_name\",\n",
    "    \"lr\",\n",
    "    \"device\",\n",
    "    \"seed\",\n",
    "    \"dataset_seed\",\n",
    "    \"n_shot\",\n",
    "    \"n_query\",\n",
    "    \"n_way\",\n",
    "    \"train_k_factor\",\n",
    "    \"val_k_factor\",\n",
    "    \"test_k_factor\",\n",
    "    \"n_epoch\",\n",
    "    \"patience\",\n",
    "    \"criteria_for_best\",\n",
    "    \"x_net\",\n",
    "    \"datasets\",\n",
    "    \"torch_default_dtype\",\n",
    "    \"NUM_LOGS_PER_EPOCH\",\n",
    "    \"BEST_MODEL_PATH\",\n",
    "    \"x_shape\",\n",
    "}"
   ]
  },
  {
   "cell_type": "code",
   "execution_count": 3,
   "id": "fa3f0049",
   "metadata": {
    "execution": {
     "iopub.execute_input": "2022-03-21T04:21:20.902369Z",
     "iopub.status.busy": "2022-03-21T04:21:20.901493Z",
     "iopub.status.idle": "2022-03-21T04:21:20.925228Z",
     "shell.execute_reply": "2022-03-21T04:21:20.924440Z"
    },
    "papermill": {
     "duration": 0.056588,
     "end_time": "2022-03-21T04:21:20.925386",
     "exception": false,
     "start_time": "2022-03-21T04:21:20.868798",
     "status": "completed"
    },
    "tags": [
     "parameters"
    ]
   },
   "outputs": [],
   "source": [
    "from steves_utils.CORES.utils import (\n",
    "    ALL_NODES,\n",
    "    ALL_NODES_MINIMUM_1000_EXAMPLES,\n",
    "    ALL_DAYS\n",
    ")\n",
    "\n",
    "from steves_utils.ORACLE.utils_v2 import (\n",
    "    ALL_DISTANCES_FEET_NARROWED,\n",
    "    ALL_RUNS,\n",
    "    ALL_SERIAL_NUMBERS,\n",
    ")\n",
    "\n",
    "standalone_parameters = {}\n",
    "standalone_parameters[\"experiment_name\"] = \"STANDALONE PTN\"\n",
    "standalone_parameters[\"lr\"] = 0.001\n",
    "standalone_parameters[\"device\"] = \"cuda\"\n",
    "\n",
    "standalone_parameters[\"seed\"] = 1337\n",
    "standalone_parameters[\"dataset_seed\"] = 1337\n",
    "\n",
    "standalone_parameters[\"n_way\"] = 8\n",
    "standalone_parameters[\"n_shot\"] = 3\n",
    "standalone_parameters[\"n_query\"]  = 2\n",
    "standalone_parameters[\"train_k_factor\"] = 1\n",
    "standalone_parameters[\"val_k_factor\"] = 2\n",
    "standalone_parameters[\"test_k_factor\"] = 2\n",
    "\n",
    "\n",
    "standalone_parameters[\"n_epoch\"] = 50\n",
    "\n",
    "standalone_parameters[\"patience\"] = 10\n",
    "standalone_parameters[\"criteria_for_best\"] = \"source_loss\"\n",
    "\n",
    "standalone_parameters[\"datasets\"] = [\n",
    "    {\n",
    "        \"labels\": ALL_SERIAL_NUMBERS,\n",
    "        \"domains\": ALL_DISTANCES_FEET_NARROWED,\n",
    "        \"num_examples_per_domain_per_label\": 100,\n",
    "        \"pickle_path\": os.path.join(get_datasets_base_path(), \"oracle.Run1_framed_2000Examples_stratified_ds.2022A.pkl\"),\n",
    "        \"source_or_target_dataset\": \"source\",\n",
    "        \"x_transforms\": [\"unit_mag\", \"minus_two\"],\n",
    "        \"episode_transforms\": [],\n",
    "        \"domain_prefix\": \"ORACLE_\"\n",
    "    },\n",
    "    {\n",
    "        \"labels\": ALL_NODES,\n",
    "        \"domains\": ALL_DAYS,\n",
    "        \"num_examples_per_domain_per_label\": 100,\n",
    "        \"pickle_path\": os.path.join(get_datasets_base_path(), \"cores.stratified_ds.2022A.pkl\"),\n",
    "        \"source_or_target_dataset\": \"target\",\n",
    "        \"x_transforms\": [\"unit_power\", \"times_zero\"],\n",
    "        \"episode_transforms\": [],\n",
    "        \"domain_prefix\": \"CORES_\"\n",
    "    }   \n",
    "]\n",
    "\n",
    "standalone_parameters[\"torch_default_dtype\"] = \"torch.float32\" \n",
    "\n",
    "\n",
    "\n",
    "standalone_parameters[\"x_net\"] =     [\n",
    "    {\"class\": \"nnReshape\", \"kargs\": {\"shape\":[-1, 1, 2, 256]}},\n",
    "    {\"class\": \"Conv2d\", \"kargs\": { \"in_channels\":1, \"out_channels\":256, \"kernel_size\":(1,7), \"bias\":False, \"padding\":(0,3), },},\n",
    "    {\"class\": \"ReLU\", \"kargs\": {\"inplace\": True}},\n",
    "    {\"class\": \"BatchNorm2d\", \"kargs\": {\"num_features\":256}},\n",
    "\n",
    "    {\"class\": \"Conv2d\", \"kargs\": { \"in_channels\":256, \"out_channels\":80, \"kernel_size\":(2,7), \"bias\":True, \"padding\":(0,3), },},\n",
    "    {\"class\": \"ReLU\", \"kargs\": {\"inplace\": True}},\n",
    "    {\"class\": \"BatchNorm2d\", \"kargs\": {\"num_features\":80}},\n",
    "    {\"class\": \"Flatten\", \"kargs\": {}},\n",
    "\n",
    "    {\"class\": \"Linear\", \"kargs\": {\"in_features\": 80*256, \"out_features\": 256}}, # 80 units per IQ pair\n",
    "    {\"class\": \"ReLU\", \"kargs\": {\"inplace\": True}},\n",
    "    {\"class\": \"BatchNorm1d\", \"kargs\": {\"num_features\":256}},\n",
    "\n",
    "    {\"class\": \"Linear\", \"kargs\": {\"in_features\": 256, \"out_features\": 256}},\n",
    "]\n",
    "\n",
    "# Parameters relevant to results\n",
    "# These parameters will basically never need to change\n",
    "standalone_parameters[\"NUM_LOGS_PER_EPOCH\"] = 10\n",
    "standalone_parameters[\"BEST_MODEL_PATH\"] = \"./best_model.pth\"\n",
    "\n",
    "\n",
    "\n",
    "\n"
   ]
  },
  {
   "cell_type": "code",
   "execution_count": 4,
   "id": "8548cd57",
   "metadata": {
    "execution": {
     "iopub.execute_input": "2022-03-21T04:21:20.985677Z",
     "iopub.status.busy": "2022-03-21T04:21:20.984738Z",
     "iopub.status.idle": "2022-03-21T04:21:21.007711Z",
     "shell.execute_reply": "2022-03-21T04:21:21.006902Z"
    },
    "papermill": {
     "duration": 0.057091,
     "end_time": "2022-03-21T04:21:21.007860",
     "exception": false,
     "start_time": "2022-03-21T04:21:20.950769",
     "status": "completed"
    },
    "tags": [
     "injected-parameters"
    ]
   },
   "outputs": [],
   "source": [
    "# Parameters\n",
    "parameters = {\n",
    "    \"experiment_name\": \"tl_1v2:cores-oracle.run1\",\n",
    "    \"device\": \"cuda\",\n",
    "    \"lr\": 0.0001,\n",
    "    \"n_shot\": 3,\n",
    "    \"n_query\": 2,\n",
    "    \"train_k_factor\": 3,\n",
    "    \"val_k_factor\": 2,\n",
    "    \"test_k_factor\": 2,\n",
    "    \"torch_default_dtype\": \"torch.float32\",\n",
    "    \"n_epoch\": 50,\n",
    "    \"patience\": 3,\n",
    "    \"criteria_for_best\": \"target_accuracy\",\n",
    "    \"x_net\": [\n",
    "        {\"class\": \"nnReshape\", \"kargs\": {\"shape\": [-1, 1, 2, 256]}},\n",
    "        {\n",
    "            \"class\": \"Conv2d\",\n",
    "            \"kargs\": {\n",
    "                \"in_channels\": 1,\n",
    "                \"out_channels\": 256,\n",
    "                \"kernel_size\": [1, 7],\n",
    "                \"bias\": False,\n",
    "                \"padding\": [0, 3],\n",
    "            },\n",
    "        },\n",
    "        {\"class\": \"ReLU\", \"kargs\": {\"inplace\": True}},\n",
    "        {\"class\": \"BatchNorm2d\", \"kargs\": {\"num_features\": 256}},\n",
    "        {\n",
    "            \"class\": \"Conv2d\",\n",
    "            \"kargs\": {\n",
    "                \"in_channels\": 256,\n",
    "                \"out_channels\": 80,\n",
    "                \"kernel_size\": [2, 7],\n",
    "                \"bias\": True,\n",
    "                \"padding\": [0, 3],\n",
    "            },\n",
    "        },\n",
    "        {\"class\": \"ReLU\", \"kargs\": {\"inplace\": True}},\n",
    "        {\"class\": \"BatchNorm2d\", \"kargs\": {\"num_features\": 80}},\n",
    "        {\"class\": \"Flatten\", \"kargs\": {}},\n",
    "        {\"class\": \"Linear\", \"kargs\": {\"in_features\": 20480, \"out_features\": 256}},\n",
    "        {\"class\": \"ReLU\", \"kargs\": {\"inplace\": True}},\n",
    "        {\"class\": \"BatchNorm1d\", \"kargs\": {\"num_features\": 256}},\n",
    "        {\"class\": \"Linear\", \"kargs\": {\"in_features\": 256, \"out_features\": 256}},\n",
    "    ],\n",
    "    \"NUM_LOGS_PER_EPOCH\": 10,\n",
    "    \"BEST_MODEL_PATH\": \"./best_model.pth\",\n",
    "    \"n_way\": 16,\n",
    "    \"datasets\": [\n",
    "        {\n",
    "            \"labels\": [\n",
    "                \"1-10.\",\n",
    "                \"1-11.\",\n",
    "                \"1-15.\",\n",
    "                \"1-16.\",\n",
    "                \"1-17.\",\n",
    "                \"1-18.\",\n",
    "                \"1-19.\",\n",
    "                \"10-4.\",\n",
    "                \"10-7.\",\n",
    "                \"11-1.\",\n",
    "                \"11-14.\",\n",
    "                \"11-17.\",\n",
    "                \"11-20.\",\n",
    "                \"11-7.\",\n",
    "                \"13-20.\",\n",
    "                \"13-8.\",\n",
    "                \"14-10.\",\n",
    "                \"14-11.\",\n",
    "                \"14-14.\",\n",
    "                \"14-7.\",\n",
    "                \"15-1.\",\n",
    "                \"15-20.\",\n",
    "                \"16-1.\",\n",
    "                \"16-16.\",\n",
    "                \"17-10.\",\n",
    "                \"17-11.\",\n",
    "                \"17-2.\",\n",
    "                \"19-1.\",\n",
    "                \"19-16.\",\n",
    "                \"19-19.\",\n",
    "                \"19-20.\",\n",
    "                \"19-3.\",\n",
    "                \"2-10.\",\n",
    "                \"2-11.\",\n",
    "                \"2-17.\",\n",
    "                \"2-18.\",\n",
    "                \"2-20.\",\n",
    "                \"2-3.\",\n",
    "                \"2-4.\",\n",
    "                \"2-5.\",\n",
    "                \"2-6.\",\n",
    "                \"2-7.\",\n",
    "                \"2-8.\",\n",
    "                \"3-13.\",\n",
    "                \"3-18.\",\n",
    "                \"3-3.\",\n",
    "                \"4-1.\",\n",
    "                \"4-10.\",\n",
    "                \"4-11.\",\n",
    "                \"4-19.\",\n",
    "                \"5-5.\",\n",
    "                \"6-15.\",\n",
    "                \"7-10.\",\n",
    "                \"7-14.\",\n",
    "                \"8-18.\",\n",
    "                \"8-20.\",\n",
    "                \"8-3.\",\n",
    "                \"8-8.\",\n",
    "            ],\n",
    "            \"domains\": [1, 2, 3, 4, 5],\n",
    "            \"num_examples_per_domain_per_label\": -1,\n",
    "            \"pickle_path\": \"/root/csc500-main/datasets/cores.stratified_ds.2022A.pkl\",\n",
    "            \"source_or_target_dataset\": \"source\",\n",
    "            \"x_transforms\": [],\n",
    "            \"episode_transforms\": [],\n",
    "            \"domain_prefix\": \"CORES_\",\n",
    "        },\n",
    "        {\n",
    "            \"labels\": [\n",
    "                \"3123D52\",\n",
    "                \"3123D65\",\n",
    "                \"3123D79\",\n",
    "                \"3123D80\",\n",
    "                \"3123D54\",\n",
    "                \"3123D70\",\n",
    "                \"3123D7B\",\n",
    "                \"3123D89\",\n",
    "                \"3123D58\",\n",
    "                \"3123D76\",\n",
    "                \"3123D7D\",\n",
    "                \"3123EFE\",\n",
    "                \"3123D64\",\n",
    "                \"3123D78\",\n",
    "                \"3123D7E\",\n",
    "                \"3124E4A\",\n",
    "            ],\n",
    "            \"domains\": [32, 38, 8, 44, 14, 50, 20, 26],\n",
    "            \"num_examples_per_domain_per_label\": 10000,\n",
    "            \"pickle_path\": \"/root/csc500-main/datasets/oracle.Run1_10kExamples_stratified_ds.2022A.pkl\",\n",
    "            \"source_or_target_dataset\": \"target\",\n",
    "            \"x_transforms\": [],\n",
    "            \"episode_transforms\": [],\n",
    "            \"domain_prefix\": \"ORACLE.run1_\",\n",
    "        },\n",
    "    ],\n",
    "    \"dataset_seed\": 1337,\n",
    "    \"seed\": 1337,\n",
    "}\n"
   ]
  },
  {
   "cell_type": "code",
   "execution_count": 5,
   "id": "8fa1cc33",
   "metadata": {
    "execution": {
     "iopub.execute_input": "2022-03-21T04:21:21.058071Z",
     "iopub.status.busy": "2022-03-21T04:21:21.056970Z",
     "iopub.status.idle": "2022-03-21T04:21:21.080146Z",
     "shell.execute_reply": "2022-03-21T04:21:21.079351Z"
    },
    "papermill": {
     "duration": 0.048228,
     "end_time": "2022-03-21T04:21:21.080295",
     "exception": false,
     "start_time": "2022-03-21T04:21:21.032067",
     "status": "completed"
    },
    "tags": []
   },
   "outputs": [],
   "source": [
    "# Set this to True if you want to run this template directly\n",
    "STANDALONE = False\n",
    "if STANDALONE:\n",
    "    print(\"parameters not injected, running with standalone_parameters\")\n",
    "    parameters = standalone_parameters\n",
    "\n",
    "if not 'parameters' in locals() and not 'parameters' in globals():\n",
    "    raise Exception(\"Parameter injection failed\")\n",
    "\n",
    "#Use an easy dict for all the parameters\n",
    "p = EasyDict(parameters)\n",
    "\n",
    "if \"x_shape\" not in p:\n",
    "    p.x_shape = [2,256] # Default to this if we dont supply x_shape\n",
    "\n",
    "\n",
    "supplied_keys = set(p.keys())\n",
    "\n",
    "if  supplied_keys != required_parameters:\n",
    "    print(\"Parameters are incorrect\")\n",
    "    if len(supplied_keys - required_parameters)>0: print(\"Shouldn't have:\", str(supplied_keys - required_parameters))\n",
    "    if len(required_parameters - supplied_keys)>0: print(\"Need to have:\", str(required_parameters - supplied_keys))\n",
    "    raise RuntimeError(\"Parameters are incorrect\")"
   ]
  },
  {
   "cell_type": "code",
   "execution_count": 6,
   "id": "3a028d58",
   "metadata": {
    "execution": {
     "iopub.execute_input": "2022-03-21T04:21:21.126628Z",
     "iopub.status.busy": "2022-03-21T04:21:21.126260Z",
     "iopub.status.idle": "2022-03-21T04:21:21.147963Z",
     "shell.execute_reply": "2022-03-21T04:21:21.147153Z"
    },
    "papermill": {
     "duration": 0.044049,
     "end_time": "2022-03-21T04:21:21.148112",
     "exception": false,
     "start_time": "2022-03-21T04:21:21.104063",
     "status": "completed"
    },
    "tags": []
   },
   "outputs": [],
   "source": [
    "###################################\n",
    "# Set the RNGs and make it all deterministic\n",
    "###################################\n",
    "np.random.seed(p.seed)\n",
    "random.seed(p.seed)\n",
    "torch.manual_seed(p.seed)\n",
    "\n",
    "torch.use_deterministic_algorithms(True) "
   ]
  },
  {
   "cell_type": "code",
   "execution_count": 7,
   "id": "b691acf6",
   "metadata": {
    "execution": {
     "iopub.execute_input": "2022-03-21T04:21:21.199947Z",
     "iopub.status.busy": "2022-03-21T04:21:21.199479Z",
     "iopub.status.idle": "2022-03-21T04:21:21.224617Z",
     "shell.execute_reply": "2022-03-21T04:21:21.223823Z"
    },
    "papermill": {
     "duration": 0.048259,
     "end_time": "2022-03-21T04:21:21.224764",
     "exception": false,
     "start_time": "2022-03-21T04:21:21.176505",
     "status": "completed"
    },
    "tags": []
   },
   "outputs": [],
   "source": [
    "###########################################\n",
    "# The stratified datasets honor this\n",
    "###########################################\n",
    "torch.set_default_dtype(eval(p.torch_default_dtype))"
   ]
  },
  {
   "cell_type": "code",
   "execution_count": 8,
   "id": "b5fba671",
   "metadata": {
    "execution": {
     "iopub.execute_input": "2022-03-21T04:21:21.276381Z",
     "iopub.status.busy": "2022-03-21T04:21:21.276019Z",
     "iopub.status.idle": "2022-03-21T04:21:21.334004Z",
     "shell.execute_reply": "2022-03-21T04:21:21.333318Z"
    },
    "papermill": {
     "duration": 0.08131,
     "end_time": "2022-03-21T04:21:21.334150",
     "exception": false,
     "start_time": "2022-03-21T04:21:21.252840",
     "status": "completed"
    },
    "tags": []
   },
   "outputs": [],
   "source": [
    "###################################\n",
    "# Build the network(s)\n",
    "# Note: It's critical to do this AFTER setting the RNG\n",
    "###################################\n",
    "x_net = build_sequential(p.x_net)"
   ]
  },
  {
   "cell_type": "code",
   "execution_count": 9,
   "id": "5d7e61cc",
   "metadata": {
    "execution": {
     "iopub.execute_input": "2022-03-21T04:21:21.383859Z",
     "iopub.status.busy": "2022-03-21T04:21:21.383283Z",
     "iopub.status.idle": "2022-03-21T04:21:21.409425Z",
     "shell.execute_reply": "2022-03-21T04:21:21.408631Z"
    },
    "papermill": {
     "duration": 0.049668,
     "end_time": "2022-03-21T04:21:21.409572",
     "exception": false,
     "start_time": "2022-03-21T04:21:21.359904",
     "status": "completed"
    },
    "tags": []
   },
   "outputs": [],
   "source": [
    "start_time_secs = time.time()"
   ]
  },
  {
   "cell_type": "code",
   "execution_count": 10,
   "id": "c6b67dfd",
   "metadata": {
    "execution": {
     "iopub.execute_input": "2022-03-21T04:21:21.459577Z",
     "iopub.status.busy": "2022-03-21T04:21:21.459208Z",
     "iopub.status.idle": "2022-03-21T04:21:21.482769Z",
     "shell.execute_reply": "2022-03-21T04:21:21.481981Z"
    },
    "papermill": {
     "duration": 0.047835,
     "end_time": "2022-03-21T04:21:21.482914",
     "exception": false,
     "start_time": "2022-03-21T04:21:21.435079",
     "status": "completed"
    },
    "tags": []
   },
   "outputs": [],
   "source": [
    "p.domains_source = []\n",
    "p.domains_target = []\n",
    "\n",
    "\n",
    "train_original_source = []\n",
    "val_original_source   = []\n",
    "test_original_source  = []\n",
    "\n",
    "train_original_target = []\n",
    "val_original_target   = []\n",
    "test_original_target  = []"
   ]
  },
  {
   "cell_type": "code",
   "execution_count": 11,
   "id": "e3d9c3d3",
   "metadata": {
    "execution": {
     "iopub.execute_input": "2022-03-21T04:21:21.532662Z",
     "iopub.status.busy": "2022-03-21T04:21:21.531995Z",
     "iopub.status.idle": "2022-03-21T04:21:21.556938Z",
     "shell.execute_reply": "2022-03-21T04:21:21.556135Z"
    },
    "papermill": {
     "duration": 0.048716,
     "end_time": "2022-03-21T04:21:21.557085",
     "exception": false,
     "start_time": "2022-03-21T04:21:21.508369",
     "status": "completed"
    },
    "tags": []
   },
   "outputs": [],
   "source": [
    "# global_x_transform_func = lambda x: normalize(x.to(torch.get_default_dtype()), \"unit_power\") # unit_power, unit_mag\n",
    "# global_x_transform_func = lambda x: normalize(x, \"unit_power\") # unit_power, unit_mag"
   ]
  },
  {
   "cell_type": "code",
   "execution_count": 12,
   "id": "acb78fd2",
   "metadata": {
    "execution": {
     "iopub.execute_input": "2022-03-21T04:21:21.618735Z",
     "iopub.status.busy": "2022-03-21T04:21:21.617897Z",
     "iopub.status.idle": "2022-03-21T04:21:21.640430Z",
     "shell.execute_reply": "2022-03-21T04:21:21.639652Z"
    },
    "papermill": {
     "duration": 0.055561,
     "end_time": "2022-03-21T04:21:21.640579",
     "exception": false,
     "start_time": "2022-03-21T04:21:21.585018",
     "status": "completed"
    },
    "tags": []
   },
   "outputs": [],
   "source": [
    "def add_dataset(\n",
    "    labels,\n",
    "    domains,\n",
    "    pickle_path,\n",
    "    x_transforms,\n",
    "    episode_transforms,\n",
    "    domain_prefix,\n",
    "    num_examples_per_domain_per_label,\n",
    "    source_or_target_dataset:str,\n",
    "    iterator_seed=p.seed,\n",
    "    dataset_seed=p.dataset_seed,\n",
    "    n_shot=p.n_shot,\n",
    "    n_way=p.n_way,\n",
    "    n_query=p.n_query,\n",
    "    train_val_test_k_factors=(p.train_k_factor,p.val_k_factor,p.test_k_factor),\n",
    "):\n",
    "   \n",
    "    if x_transforms == []: x_transform = None\n",
    "    else: x_transform = get_chained_transform(x_transforms)\n",
    "    \n",
    "    if episode_transforms == []: episode_transform = None\n",
    "    else: raise Exception(\"episode_transforms not implemented\")\n",
    "    \n",
    "    episode_transform = lambda tup, _prefix=domain_prefix: (_prefix + str(tup[0]), tup[1])\n",
    "\n",
    "\n",
    "    eaf = Episodic_Accessor_Factory(\n",
    "        labels=labels,\n",
    "        domains=domains,\n",
    "        num_examples_per_domain_per_label=num_examples_per_domain_per_label,\n",
    "        iterator_seed=iterator_seed,\n",
    "        dataset_seed=dataset_seed,\n",
    "        n_shot=n_shot,\n",
    "        n_way=n_way,\n",
    "        n_query=n_query,\n",
    "        train_val_test_k_factors=train_val_test_k_factors,\n",
    "        pickle_path=pickle_path,\n",
    "        x_transform_func=x_transform,\n",
    "    )\n",
    "\n",
    "    train, val, test = eaf.get_train(), eaf.get_val(), eaf.get_test()\n",
    "    train = Lazy_Iterable_Wrapper(train, episode_transform)\n",
    "    val = Lazy_Iterable_Wrapper(val, episode_transform)\n",
    "    test = Lazy_Iterable_Wrapper(test, episode_transform)\n",
    "\n",
    "    if source_or_target_dataset==\"source\":\n",
    "        train_original_source.append(train)\n",
    "        val_original_source.append(val)\n",
    "        test_original_source.append(test)\n",
    "\n",
    "        p.domains_source.extend(\n",
    "            [domain_prefix + str(u) for u in domains]\n",
    "        )\n",
    "    elif source_or_target_dataset==\"target\":\n",
    "        train_original_target.append(train)\n",
    "        val_original_target.append(val)\n",
    "        test_original_target.append(test)\n",
    "        p.domains_target.extend(\n",
    "            [domain_prefix + str(u) for u in domains]\n",
    "        )\n",
    "    else:\n",
    "        raise Exception(f\"invalid source_or_target_dataset: {source_or_target_dataset}\")\n",
    "    "
   ]
  },
  {
   "cell_type": "code",
   "execution_count": 13,
   "id": "fe266617",
   "metadata": {
    "execution": {
     "iopub.execute_input": "2022-03-21T04:21:21.689662Z",
     "iopub.status.busy": "2022-03-21T04:21:21.688983Z",
     "iopub.status.idle": "2022-03-21T04:21:33.854299Z",
     "shell.execute_reply": "2022-03-21T04:21:33.853561Z"
    },
    "papermill": {
     "duration": 12.189198,
     "end_time": "2022-03-21T04:21:33.854477",
     "exception": false,
     "start_time": "2022-03-21T04:21:21.665279",
     "status": "completed"
    },
    "tags": []
   },
   "outputs": [],
   "source": [
    "for ds in p.datasets:\n",
    "    add_dataset(**ds)"
   ]
  },
  {
   "cell_type": "code",
   "execution_count": 14,
   "id": "b90d65ac",
   "metadata": {
    "execution": {
     "iopub.execute_input": "2022-03-21T04:21:33.905483Z",
     "iopub.status.busy": "2022-03-21T04:21:33.904912Z",
     "iopub.status.idle": "2022-03-21T04:21:33.931081Z",
     "shell.execute_reply": "2022-03-21T04:21:33.930270Z"
    },
    "papermill": {
     "duration": 0.050783,
     "end_time": "2022-03-21T04:21:33.931231",
     "exception": false,
     "start_time": "2022-03-21T04:21:33.880448",
     "status": "completed"
    },
    "tags": []
   },
   "outputs": [],
   "source": [
    "# from steves_utils.CORES.utils import (\n",
    "#     ALL_NODES,\n",
    "#     ALL_NODES_MINIMUM_1000_EXAMPLES,\n",
    "#     ALL_DAYS\n",
    "# )\n",
    "\n",
    "# add_dataset(\n",
    "#     labels=ALL_NODES,\n",
    "#     domains = ALL_DAYS,\n",
    "#     num_examples_per_domain_per_label=100,\n",
    "#     pickle_path=os.path.join(get_datasets_base_path(), \"cores.stratified_ds.2022A.pkl\"),\n",
    "#     source_or_target_dataset=\"target\",\n",
    "#     x_transform_func=global_x_transform_func,\n",
    "#     domain_modifier=lambda u: f\"cores_{u}\"\n",
    "# )"
   ]
  },
  {
   "cell_type": "code",
   "execution_count": 15,
   "id": "76db484d",
   "metadata": {
    "execution": {
     "iopub.execute_input": "2022-03-21T04:21:33.982940Z",
     "iopub.status.busy": "2022-03-21T04:21:33.982238Z",
     "iopub.status.idle": "2022-03-21T04:21:34.002162Z",
     "shell.execute_reply": "2022-03-21T04:21:34.001794Z"
    },
    "papermill": {
     "duration": 0.045285,
     "end_time": "2022-03-21T04:21:34.002232",
     "exception": false,
     "start_time": "2022-03-21T04:21:33.956947",
     "status": "completed"
    },
    "tags": []
   },
   "outputs": [],
   "source": [
    "# from steves_utils.ORACLE.utils_v2 import (\n",
    "#     ALL_DISTANCES_FEET,\n",
    "#     ALL_RUNS,\n",
    "#     ALL_SERIAL_NUMBERS,\n",
    "# )\n",
    "\n",
    "\n",
    "# add_dataset(\n",
    "#     labels=ALL_SERIAL_NUMBERS,\n",
    "#     domains = list(set(ALL_DISTANCES_FEET) - {2,62}),\n",
    "#     num_examples_per_domain_per_label=100,\n",
    "#     pickle_path=os.path.join(get_datasets_base_path(), \"oracle.Run2_framed_2000Examples_stratified_ds.2022A.pkl\"),\n",
    "#     source_or_target_dataset=\"source\",\n",
    "#     x_transform_func=global_x_transform_func,\n",
    "#     domain_modifier=lambda u: f\"oracle1_{u}\"\n",
    "# )\n"
   ]
  },
  {
   "cell_type": "code",
   "execution_count": 16,
   "id": "97dea9d2",
   "metadata": {
    "execution": {
     "iopub.execute_input": "2022-03-21T04:21:34.048484Z",
     "iopub.status.busy": "2022-03-21T04:21:34.048109Z",
     "iopub.status.idle": "2022-03-21T04:21:34.068940Z",
     "shell.execute_reply": "2022-03-21T04:21:34.068574Z"
    },
    "papermill": {
     "duration": 0.04584,
     "end_time": "2022-03-21T04:21:34.069009",
     "exception": false,
     "start_time": "2022-03-21T04:21:34.023169",
     "status": "completed"
    },
    "tags": []
   },
   "outputs": [],
   "source": [
    "# from steves_utils.ORACLE.utils_v2 import (\n",
    "#     ALL_DISTANCES_FEET,\n",
    "#     ALL_RUNS,\n",
    "#     ALL_SERIAL_NUMBERS,\n",
    "# )\n",
    "\n",
    "\n",
    "# add_dataset(\n",
    "#     labels=ALL_SERIAL_NUMBERS,\n",
    "#     domains = list(set(ALL_DISTANCES_FEET) - {2,62,56}),\n",
    "#     num_examples_per_domain_per_label=100,\n",
    "#     pickle_path=os.path.join(get_datasets_base_path(), \"oracle.Run2_framed_2000Examples_stratified_ds.2022A.pkl\"),\n",
    "#     source_or_target_dataset=\"source\",\n",
    "#     x_transform_func=global_x_transform_func,\n",
    "#     domain_modifier=lambda u: f\"oracle2_{u}\"\n",
    "# )"
   ]
  },
  {
   "cell_type": "code",
   "execution_count": 17,
   "id": "6f289866",
   "metadata": {
    "execution": {
     "iopub.execute_input": "2022-03-21T04:21:34.115926Z",
     "iopub.status.busy": "2022-03-21T04:21:34.114829Z",
     "iopub.status.idle": "2022-03-21T04:21:34.133558Z",
     "shell.execute_reply": "2022-03-21T04:21:34.133191Z"
    },
    "papermill": {
     "duration": 0.043486,
     "end_time": "2022-03-21T04:21:34.133627",
     "exception": false,
     "start_time": "2022-03-21T04:21:34.090141",
     "status": "completed"
    },
    "tags": []
   },
   "outputs": [],
   "source": [
    "# add_dataset(\n",
    "#     labels=list(range(19)),\n",
    "#     domains = [0,1,2],\n",
    "#     num_examples_per_domain_per_label=100,\n",
    "#     pickle_path=os.path.join(get_datasets_base_path(), \"metehan.stratified_ds.2022A.pkl\"),\n",
    "#     source_or_target_dataset=\"target\",\n",
    "#     x_transform_func=global_x_transform_func,\n",
    "#     domain_modifier=lambda u: f\"met_{u}\"\n",
    "# )"
   ]
  },
  {
   "cell_type": "code",
   "execution_count": 18,
   "id": "86a863c3",
   "metadata": {
    "execution": {
     "iopub.execute_input": "2022-03-21T04:21:34.179707Z",
     "iopub.status.busy": "2022-03-21T04:21:34.179326Z",
     "iopub.status.idle": "2022-03-21T04:21:34.197580Z",
     "shell.execute_reply": "2022-03-21T04:21:34.197212Z"
    },
    "papermill": {
     "duration": 0.043088,
     "end_time": "2022-03-21T04:21:34.197648",
     "exception": false,
     "start_time": "2022-03-21T04:21:34.154560",
     "status": "completed"
    },
    "tags": []
   },
   "outputs": [],
   "source": [
    "# # from steves_utils.wisig.utils import (\n",
    "# #     ALL_NODES_MINIMUM_100_EXAMPLES,\n",
    "# #     ALL_NODES_MINIMUM_500_EXAMPLES,\n",
    "# #     ALL_NODES_MINIMUM_1000_EXAMPLES,\n",
    "# #     ALL_DAYS\n",
    "# # )\n",
    "\n",
    "# import steves_utils.wisig.utils as wisig\n",
    "\n",
    "\n",
    "# add_dataset(\n",
    "#     labels=wisig.ALL_NODES_MINIMUM_100_EXAMPLES,\n",
    "#     domains = wisig.ALL_DAYS,\n",
    "#     num_examples_per_domain_per_label=100,\n",
    "#     pickle_path=os.path.join(get_datasets_base_path(), \"wisig.node3-19.stratified_ds.2022A.pkl\"),\n",
    "#     source_or_target_dataset=\"target\",\n",
    "#     x_transform_func=global_x_transform_func,\n",
    "#     domain_modifier=lambda u: f\"wisig_{u}\"\n",
    "# )"
   ]
  },
  {
   "cell_type": "code",
   "execution_count": 19,
   "id": "fd5442bc",
   "metadata": {
    "execution": {
     "iopub.execute_input": "2022-03-21T04:21:34.250546Z",
     "iopub.status.busy": "2022-03-21T04:21:34.249105Z",
     "iopub.status.idle": "2022-03-21T04:21:34.267896Z",
     "shell.execute_reply": "2022-03-21T04:21:34.267189Z"
    },
    "papermill": {
     "duration": 0.04907,
     "end_time": "2022-03-21T04:21:34.268005",
     "exception": false,
     "start_time": "2022-03-21T04:21:34.218935",
     "status": "completed"
    },
    "tags": []
   },
   "outputs": [],
   "source": [
    "###################################\n",
    "# Build the dataset\n",
    "###################################\n",
    "train_original_source = Iterable_Aggregator(train_original_source, p.seed)\n",
    "val_original_source = Iterable_Aggregator(val_original_source, p.seed)\n",
    "test_original_source = Iterable_Aggregator(test_original_source, p.seed)\n",
    "\n",
    "\n",
    "train_original_target = Iterable_Aggregator(train_original_target, p.seed)\n",
    "val_original_target = Iterable_Aggregator(val_original_target, p.seed)\n",
    "test_original_target = Iterable_Aggregator(test_original_target, p.seed)\n",
    "\n",
    "# For CNN We only use X and Y. And we only train on the source.\n",
    "# Properly form the data using a transform lambda and Lazy_Iterable_Wrapper. Finally wrap them in a dataloader\n",
    "\n",
    "transform_lambda = lambda ex: ex[1] # Original is (<domain>, <episode>) so we strip down to episode only\n",
    "\n",
    "train_processed_source = Lazy_Iterable_Wrapper(train_original_source, transform_lambda)\n",
    "val_processed_source   = Lazy_Iterable_Wrapper(val_original_source, transform_lambda)\n",
    "test_processed_source  = Lazy_Iterable_Wrapper(test_original_source, transform_lambda)\n",
    "\n",
    "train_processed_target = Lazy_Iterable_Wrapper(train_original_target, transform_lambda)\n",
    "val_processed_target   = Lazy_Iterable_Wrapper(val_original_target, transform_lambda)\n",
    "test_processed_target  = Lazy_Iterable_Wrapper(test_original_target, transform_lambda)\n",
    "\n",
    "datasets = EasyDict({\n",
    "    \"source\": {\n",
    "        \"original\": {\"train\":train_original_source, \"val\":val_original_source, \"test\":test_original_source},\n",
    "        \"processed\": {\"train\":train_processed_source, \"val\":val_processed_source, \"test\":test_processed_source}\n",
    "    },\n",
    "    \"target\": {\n",
    "        \"original\": {\"train\":train_original_target, \"val\":val_original_target, \"test\":test_original_target},\n",
    "        \"processed\": {\"train\":train_processed_target, \"val\":val_processed_target, \"test\":test_processed_target}\n",
    "    },\n",
    "})"
   ]
  },
  {
   "cell_type": "code",
   "execution_count": 20,
   "id": "5b3c01fc",
   "metadata": {
    "execution": {
     "iopub.execute_input": "2022-03-21T04:21:34.317757Z",
     "iopub.status.busy": "2022-03-21T04:21:34.316230Z",
     "iopub.status.idle": "2022-03-21T04:22:07.134248Z",
     "shell.execute_reply": "2022-03-21T04:22:07.133395Z"
    },
    "papermill": {
     "duration": 32.845192,
     "end_time": "2022-03-21T04:22:07.134416",
     "exception": false,
     "start_time": "2022-03-21T04:21:34.289224",
     "status": "completed"
    },
    "tags": []
   },
   "outputs": [
    {
     "name": "stdout",
     "output_type": "stream",
     "text": [
      "{'CORES_4', 'CORES_3', 'CORES_1', 'CORES_2', 'CORES_5'}\n"
     ]
    },
    {
     "name": "stdout",
     "output_type": "stream",
     "text": [
      "{'ORACLE.run1_44', 'ORACLE.run1_38', 'ORACLE.run1_50', 'ORACLE.run1_14', 'ORACLE.run1_32', 'ORACLE.run1_8', 'ORACLE.run1_26', 'ORACLE.run1_20'}\n"
     ]
    },
    {
     "name": "stdout",
     "output_type": "stream",
     "text": [
      "tensor([[[-0.0121, -0.0224,  0.0159,  ..., -0.0352, -0.0222,  0.0113],\n",
      "         [ 0.0038, -0.0289, -0.0221,  ..., -0.0021, -0.0031, -0.0208]],\n",
      "\n",
      "        [[-0.0181, -0.0190,  0.0288,  ..., -0.0351, -0.0131,  0.0183],\n",
      "         [-0.0034, -0.0319, -0.0134,  ...,  0.0073, -0.0101, -0.0180]],\n",
      "\n",
      "        [[-0.0086, -0.0130,  0.0125,  ..., -0.0206, -0.0297,  0.0082],\n",
      "         [ 0.0052, -0.0263, -0.0293,  ..., -0.0250, -0.0107, -0.0186]],\n",
      "\n",
      "        ...,\n",
      "\n",
      "        [[ 0.0120,  0.0160,  0.0172,  ..., -0.0204, -0.0425, -0.0207],\n",
      "         [ 0.0090,  0.0168, -0.0022,  ..., -0.0309, -0.0055,  0.0151]],\n",
      "\n",
      "        [[ 0.0084,  0.0084, -0.0037,  ..., -0.0018, -0.0091, -0.0008],\n",
      "         [ 0.0032,  0.0011, -0.0067,  ..., -0.0024,  0.0017, -0.0132]],\n",
      "\n",
      "        [[ 0.0069,  0.0125,  0.0156,  ..., -0.0217, -0.0362, -0.0112],\n",
      "         [ 0.0204,  0.0175, -0.0085,  ..., -0.0360, -0.0096,  0.0061]]])\n"
     ]
    }
   ],
   "source": [
    "from steves_utils.transforms import get_average_magnitude, get_average_power\n",
    "\n",
    "print(set([u for u,_ in val_original_source]))\n",
    "print(set([u for u,_ in val_original_target]))\n",
    "\n",
    "s_x, s_y, q_x, q_y, _ = next(iter(train_processed_source))\n",
    "print(s_x)\n",
    "\n",
    "# for ds in [\n",
    "#     train_processed_source,\n",
    "#     val_processed_source,\n",
    "#     test_processed_source,\n",
    "#     train_processed_target,\n",
    "#     val_processed_target,\n",
    "#     test_processed_target\n",
    "# ]:\n",
    "#     for s_x, s_y, q_x, q_y, _ in ds:\n",
    "#         for X in (s_x, q_x):\n",
    "#             for x in X:\n",
    "#                 assert np.isclose(get_average_magnitude(x.numpy()), 1.0)\n",
    "#                 assert np.isclose(get_average_power(x.numpy()), 1.0)\n",
    "                "
   ]
  },
  {
   "cell_type": "code",
   "execution_count": 21,
   "id": "bbdacba1",
   "metadata": {
    "execution": {
     "iopub.execute_input": "2022-03-21T04:22:07.200223Z",
     "iopub.status.busy": "2022-03-21T04:22:07.199639Z",
     "iopub.status.idle": "2022-03-21T04:22:07.468318Z",
     "shell.execute_reply": "2022-03-21T04:22:07.468952Z"
    },
    "papermill": {
     "duration": 0.30369,
     "end_time": "2022-03-21T04:22:07.469160",
     "exception": false,
     "start_time": "2022-03-21T04:22:07.165470",
     "status": "completed"
    },
    "tags": []
   },
   "outputs": [
    {
     "name": "stdout",
     "output_type": "stream",
     "text": [
      "(2, 256)\n"
     ]
    }
   ],
   "source": [
    "###################################\n",
    "# Build the model\n",
    "###################################\n",
    "# easfsl only wants a tuple for the shape\n",
    "model = Steves_Prototypical_Network(x_net, device=p.device, x_shape=tuple(p.x_shape))\n",
    "optimizer = Adam(params=model.parameters(), lr=p.lr)"
   ]
  },
  {
   "cell_type": "code",
   "execution_count": 22,
   "id": "22b39ac5",
   "metadata": {
    "execution": {
     "iopub.execute_input": "2022-03-21T04:22:07.525846Z",
     "iopub.status.busy": "2022-03-21T04:22:07.525213Z",
     "iopub.status.idle": "2022-03-21T05:09:38.030179Z",
     "shell.execute_reply": "2022-03-21T05:09:38.029835Z"
    },
    "papermill": {
     "duration": 2850.53481,
     "end_time": "2022-03-21T05:09:38.030263",
     "exception": false,
     "start_time": "2022-03-21T04:22:07.495453",
     "status": "completed"
    },
    "tags": []
   },
   "outputs": [
    {
     "name": "stdout",
     "output_type": "stream",
     "text": [
      "epoch: 1, [batch: 1 / 6320], examples_per_second: 34.3113, train_label_loss: 2.1864, \n"
     ]
    },
    {
     "name": "stdout",
     "output_type": "stream",
     "text": [
      "epoch: 1, [batch: 632 / 6320], examples_per_second: 2789.5236, train_label_loss: 0.0336, \n"
     ]
    },
    {
     "name": "stdout",
     "output_type": "stream",
     "text": [
      "epoch: 1, [batch: 1264 / 6320], examples_per_second: 2540.5370, train_label_loss: 0.0027, \n"
     ]
    },
    {
     "name": "stdout",
     "output_type": "stream",
     "text": [
      "epoch: 1, [batch: 1896 / 6320], examples_per_second: 2873.0361, train_label_loss: 0.0013, \n"
     ]
    },
    {
     "name": "stdout",
     "output_type": "stream",
     "text": [
      "epoch: 1, [batch: 2528 / 6320], examples_per_second: 2881.9877, train_label_loss: 0.0058, \n"
     ]
    },
    {
     "name": "stdout",
     "output_type": "stream",
     "text": [
      "epoch: 1, [batch: 3160 / 6320], examples_per_second: 2671.6373, train_label_loss: 0.0003, \n"
     ]
    },
    {
     "name": "stdout",
     "output_type": "stream",
     "text": [
      "epoch: 1, [batch: 3792 / 6320], examples_per_second: 2309.3943, train_label_loss: 0.0001, \n"
     ]
    },
    {
     "name": "stdout",
     "output_type": "stream",
     "text": [
      "epoch: 1, [batch: 4424 / 6320], examples_per_second: 2415.3103, train_label_loss: 0.0023, \n"
     ]
    },
    {
     "name": "stdout",
     "output_type": "stream",
     "text": [
      "epoch: 1, [batch: 5056 / 6320], examples_per_second: 2570.3122, train_label_loss: 0.0005, \n"
     ]
    },
    {
     "name": "stdout",
     "output_type": "stream",
     "text": [
      "epoch: 1, [batch: 5688 / 6320], examples_per_second: 2688.3518, train_label_loss: 0.0006, \n"
     ]
    },
    {
     "name": "stdout",
     "output_type": "stream",
     "text": [
      "=============================================================\n",
      "epoch: 1, source_val_acc_label: 0.9985, target_val_acc_label: 0.3874, source_val_label_loss: 0.0095, target_val_label_loss: 2.1518, \n",
      "=============================================================\n"
     ]
    },
    {
     "name": "stdout",
     "output_type": "stream",
     "text": [
      "New best\n"
     ]
    },
    {
     "name": "stdout",
     "output_type": "stream",
     "text": [
      "epoch: 2, [batch: 1 / 6305], examples_per_second: 0.9923, train_label_loss: 0.0146, \n"
     ]
    },
    {
     "name": "stdout",
     "output_type": "stream",
     "text": [
      "epoch: 2, [batch: 631 / 6305], examples_per_second: 2563.0637, train_label_loss: 0.0004, \n"
     ]
    },
    {
     "name": "stdout",
     "output_type": "stream",
     "text": [
      "epoch: 2, [batch: 1261 / 6305], examples_per_second: 2623.8602, train_label_loss: 0.0004, \n"
     ]
    },
    {
     "name": "stdout",
     "output_type": "stream",
     "text": [
      "epoch: 2, [batch: 1892 / 6305], examples_per_second: 2887.9087, train_label_loss: 0.0000, \n"
     ]
    },
    {
     "name": "stdout",
     "output_type": "stream",
     "text": [
      "epoch: 2, [batch: 2522 / 6305], examples_per_second: 2979.5133, train_label_loss: 0.0435, \n"
     ]
    },
    {
     "name": "stdout",
     "output_type": "stream",
     "text": [
      "epoch: 2, [batch: 3153 / 6305], examples_per_second: 3467.2472, train_label_loss: 0.0033, \n"
     ]
    },
    {
     "name": "stdout",
     "output_type": "stream",
     "text": [
      "epoch: 2, [batch: 3783 / 6305], examples_per_second: 3193.7080, train_label_loss: 0.0000, \n"
     ]
    },
    {
     "name": "stdout",
     "output_type": "stream",
     "text": [
      "epoch: 2, [batch: 4413 / 6305], examples_per_second: 3603.6074, train_label_loss: 0.0000, \n"
     ]
    },
    {
     "name": "stdout",
     "output_type": "stream",
     "text": [
      "epoch: 2, [batch: 5044 / 6305], examples_per_second: 3936.2401, train_label_loss: 0.0001, \n"
     ]
    },
    {
     "name": "stdout",
     "output_type": "stream",
     "text": [
      "epoch: 2, [batch: 5674 / 6305], examples_per_second: 3780.4759, train_label_loss: 0.0001, \n"
     ]
    },
    {
     "name": "stdout",
     "output_type": "stream",
     "text": [
      "=============================================================\n",
      "epoch: 2, source_val_acc_label: 0.9989, target_val_acc_label: 0.3635, source_val_label_loss: 0.0137, target_val_label_loss: 1.9288, \n",
      "=============================================================\n"
     ]
    },
    {
     "name": "stdout",
     "output_type": "stream",
     "text": [
      "epoch: 3, [batch: 1 / 6307], examples_per_second: 1.1959, train_label_loss: 0.0000, \n"
     ]
    },
    {
     "name": "stdout",
     "output_type": "stream",
     "text": [
      "epoch: 3, [batch: 631 / 6307], examples_per_second: 3007.1931, train_label_loss: 0.0000, \n"
     ]
    },
    {
     "name": "stdout",
     "output_type": "stream",
     "text": [
      "epoch: 3, [batch: 1262 / 6307], examples_per_second: 2998.8794, train_label_loss: 0.0004, \n"
     ]
    },
    {
     "name": "stdout",
     "output_type": "stream",
     "text": [
      "epoch: 3, [batch: 1892 / 6307], examples_per_second: 3247.6539, train_label_loss: 0.0015, \n"
     ]
    },
    {
     "name": "stdout",
     "output_type": "stream",
     "text": [
      "epoch: 3, [batch: 2523 / 6307], examples_per_second: 3413.7496, train_label_loss: 0.0001, \n"
     ]
    },
    {
     "name": "stdout",
     "output_type": "stream",
     "text": [
      "epoch: 3, [batch: 3154 / 6307], examples_per_second: 3350.7359, train_label_loss: 0.0001, \n"
     ]
    },
    {
     "name": "stdout",
     "output_type": "stream",
     "text": [
      "epoch: 3, [batch: 3784 / 6307], examples_per_second: 2588.1029, train_label_loss: 0.0023, \n"
     ]
    },
    {
     "name": "stdout",
     "output_type": "stream",
     "text": [
      "epoch: 3, [batch: 4415 / 6307], examples_per_second: 2570.1002, train_label_loss: 0.2019, \n"
     ]
    },
    {
     "name": "stdout",
     "output_type": "stream",
     "text": [
      "epoch: 3, [batch: 5045 / 6307], examples_per_second: 2293.3487, train_label_loss: 0.0000, \n"
     ]
    },
    {
     "name": "stdout",
     "output_type": "stream",
     "text": [
      "epoch: 3, [batch: 5676 / 6307], examples_per_second: 2300.1054, train_label_loss: 0.0000, \n"
     ]
    },
    {
     "name": "stdout",
     "output_type": "stream",
     "text": [
      "=============================================================\n",
      "epoch: 3, source_val_acc_label: 0.9989, target_val_acc_label: 0.3569, source_val_label_loss: 0.0098, target_val_label_loss: 1.9909, \n",
      "=============================================================\n"
     ]
    },
    {
     "name": "stdout",
     "output_type": "stream",
     "text": [
      "epoch: 4, [batch: 1 / 6315], examples_per_second: 0.9636, train_label_loss: 0.0000, \n"
     ]
    },
    {
     "name": "stdout",
     "output_type": "stream",
     "text": [
      "epoch: 4, [batch: 632 / 6315], examples_per_second: 2647.4671, train_label_loss: 0.0000, \n"
     ]
    },
    {
     "name": "stdout",
     "output_type": "stream",
     "text": [
      "epoch: 4, [batch: 1263 / 6315], examples_per_second: 2696.8310, train_label_loss: 0.0001, \n"
     ]
    },
    {
     "name": "stdout",
     "output_type": "stream",
     "text": [
      "epoch: 4, [batch: 1895 / 6315], examples_per_second: 2331.4126, train_label_loss: 0.0005, \n"
     ]
    },
    {
     "name": "stdout",
     "output_type": "stream",
     "text": [
      "epoch: 4, [batch: 2526 / 6315], examples_per_second: 2316.3224, train_label_loss: 0.0000, \n"
     ]
    },
    {
     "name": "stdout",
     "output_type": "stream",
     "text": [
      "epoch: 4, [batch: 3158 / 6315], examples_per_second: 2336.3428, train_label_loss: 0.0006, \n"
     ]
    },
    {
     "name": "stdout",
     "output_type": "stream",
     "text": [
      "epoch: 4, [batch: 3789 / 6315], examples_per_second: 2320.4801, train_label_loss: 0.0000, \n"
     ]
    },
    {
     "name": "stdout",
     "output_type": "stream",
     "text": [
      "epoch: 4, [batch: 4420 / 6315], examples_per_second: 2333.2328, train_label_loss: 0.0000, \n"
     ]
    },
    {
     "name": "stdout",
     "output_type": "stream",
     "text": [
      "epoch: 4, [batch: 5052 / 6315], examples_per_second: 2320.4373, train_label_loss: 0.0001, \n"
     ]
    },
    {
     "name": "stdout",
     "output_type": "stream",
     "text": [
      "epoch: 4, [batch: 5683 / 6315], examples_per_second: 2322.3193, train_label_loss: 0.0000, \n"
     ]
    },
    {
     "name": "stdout",
     "output_type": "stream",
     "text": [
      "=============================================================\n",
      "epoch: 4, source_val_acc_label: 0.9982, target_val_acc_label: 0.3596, source_val_label_loss: 0.0206, target_val_label_loss: 1.8918, \n",
      "=============================================================\n"
     ]
    },
    {
     "name": "stdout",
     "output_type": "stream",
     "text": [
      "epoch: 5, [batch: 1 / 6313], examples_per_second: 1.1561, train_label_loss: 0.0033, \n"
     ]
    },
    {
     "name": "stdout",
     "output_type": "stream",
     "text": [
      "epoch: 5, [batch: 632 / 6313], examples_per_second: 2620.9816, train_label_loss: 0.0000, \n"
     ]
    },
    {
     "name": "stdout",
     "output_type": "stream",
     "text": [
      "epoch: 5, [batch: 1263 / 6313], examples_per_second: 2589.3249, train_label_loss: 0.0013, \n"
     ]
    },
    {
     "name": "stdout",
     "output_type": "stream",
     "text": [
      "epoch: 5, [batch: 1894 / 6313], examples_per_second: 2630.3748, train_label_loss: 0.0000, \n"
     ]
    },
    {
     "name": "stdout",
     "output_type": "stream",
     "text": [
      "epoch: 5, [batch: 2525 / 6313], examples_per_second: 2550.4722, train_label_loss: 0.0000, \n"
     ]
    },
    {
     "name": "stdout",
     "output_type": "stream",
     "text": [
      "epoch: 5, [batch: 3157 / 6313], examples_per_second: 2547.7807, train_label_loss: 0.0001, \n"
     ]
    },
    {
     "name": "stdout",
     "output_type": "stream",
     "text": [
      "epoch: 5, [batch: 3788 / 6313], examples_per_second: 2925.6737, train_label_loss: 0.0003, \n"
     ]
    },
    {
     "name": "stdout",
     "output_type": "stream",
     "text": [
      "epoch: 5, [batch: 4419 / 6313], examples_per_second: 3204.1152, train_label_loss: 0.0002, \n"
     ]
    },
    {
     "name": "stdout",
     "output_type": "stream",
     "text": [
      "epoch: 5, [batch: 5050 / 6313], examples_per_second: 3461.3943, train_label_loss: 0.0000, \n"
     ]
    },
    {
     "name": "stdout",
     "output_type": "stream",
     "text": [
      "epoch: 5, [batch: 5681 / 6313], examples_per_second: 3463.0865, train_label_loss: 0.0011, \n"
     ]
    },
    {
     "name": "stdout",
     "output_type": "stream",
     "text": [
      "=============================================================\n",
      "epoch: 5, source_val_acc_label: 0.9990, target_val_acc_label: 0.4003, source_val_label_loss: 0.0118, target_val_label_loss: 1.7749, \n",
      "=============================================================\n"
     ]
    },
    {
     "name": "stdout",
     "output_type": "stream",
     "text": [
      "New best\n"
     ]
    },
    {
     "name": "stdout",
     "output_type": "stream",
     "text": [
      "epoch: 6, [batch: 1 / 6317], examples_per_second: 1.3116, train_label_loss: 0.0000, \n"
     ]
    },
    {
     "name": "stdout",
     "output_type": "stream",
     "text": [
      "epoch: 6, [batch: 632 / 6317], examples_per_second: 2309.4013, train_label_loss: 0.0000, \n"
     ]
    },
    {
     "name": "stdout",
     "output_type": "stream",
     "text": [
      "epoch: 6, [batch: 1264 / 6317], examples_per_second: 2312.4787, train_label_loss: 0.0001, \n"
     ]
    },
    {
     "name": "stdout",
     "output_type": "stream",
     "text": [
      "epoch: 6, [batch: 1895 / 6317], examples_per_second: 2450.7266, train_label_loss: 0.0000, \n"
     ]
    },
    {
     "name": "stdout",
     "output_type": "stream",
     "text": [
      "epoch: 6, [batch: 2527 / 6317], examples_per_second: 2591.4551, train_label_loss: 0.0000, \n"
     ]
    },
    {
     "name": "stdout",
     "output_type": "stream",
     "text": [
      "epoch: 6, [batch: 3159 / 6317], examples_per_second: 2590.8318, train_label_loss: 0.0000, \n"
     ]
    },
    {
     "name": "stdout",
     "output_type": "stream",
     "text": [
      "epoch: 6, [batch: 3790 / 6317], examples_per_second: 2699.7634, train_label_loss: 0.0000, \n"
     ]
    },
    {
     "name": "stdout",
     "output_type": "stream",
     "text": [
      "epoch: 6, [batch: 4422 / 6317], examples_per_second: 2576.5111, train_label_loss: 0.0000, \n"
     ]
    },
    {
     "name": "stdout",
     "output_type": "stream",
     "text": [
      "epoch: 6, [batch: 5053 / 6317], examples_per_second: 2578.9787, train_label_loss: 0.0000, \n"
     ]
    },
    {
     "name": "stdout",
     "output_type": "stream",
     "text": [
      "epoch: 6, [batch: 5685 / 6317], examples_per_second: 2613.2617, train_label_loss: 0.0000, \n"
     ]
    },
    {
     "name": "stdout",
     "output_type": "stream",
     "text": [
      "=============================================================\n",
      "epoch: 6, source_val_acc_label: 0.9979, target_val_acc_label: 0.3156, source_val_label_loss: 0.0269, target_val_label_loss: 2.0730, \n",
      "=============================================================\n"
     ]
    },
    {
     "name": "stdout",
     "output_type": "stream",
     "text": [
      "epoch: 7, [batch: 1 / 6322], examples_per_second: 1.1194, train_label_loss: 0.0000, \n"
     ]
    },
    {
     "name": "stdout",
     "output_type": "stream",
     "text": [
      "epoch: 7, [batch: 633 / 6322], examples_per_second: 3433.0777, train_label_loss: 0.0000, \n"
     ]
    },
    {
     "name": "stdout",
     "output_type": "stream",
     "text": [
      "epoch: 7, [batch: 1265 / 6322], examples_per_second: 3006.0491, train_label_loss: 0.0000, \n"
     ]
    },
    {
     "name": "stdout",
     "output_type": "stream",
     "text": [
      "epoch: 7, [batch: 1897 / 6322], examples_per_second: 3014.0719, train_label_loss: 0.0000, \n"
     ]
    },
    {
     "name": "stdout",
     "output_type": "stream",
     "text": [
      "epoch: 7, [batch: 2529 / 6322], examples_per_second: 2988.6626, train_label_loss: 0.0000, \n"
     ]
    },
    {
     "name": "stdout",
     "output_type": "stream",
     "text": [
      "epoch: 7, [batch: 3161 / 6322], examples_per_second: 3016.6992, train_label_loss: 0.0000, \n"
     ]
    },
    {
     "name": "stdout",
     "output_type": "stream",
     "text": [
      "epoch: 7, [batch: 3793 / 6322], examples_per_second: 3392.0579, train_label_loss: 0.0000, \n"
     ]
    },
    {
     "name": "stdout",
     "output_type": "stream",
     "text": [
      "epoch: 7, [batch: 4425 / 6322], examples_per_second: 3405.0525, train_label_loss: 0.0000, \n"
     ]
    },
    {
     "name": "stdout",
     "output_type": "stream",
     "text": [
      "epoch: 7, [batch: 5057 / 6322], examples_per_second: 3561.6732, train_label_loss: 0.0000, \n"
     ]
    },
    {
     "name": "stdout",
     "output_type": "stream",
     "text": [
      "epoch: 7, [batch: 5689 / 6322], examples_per_second: 3007.0061, train_label_loss: 0.0000, \n"
     ]
    },
    {
     "name": "stdout",
     "output_type": "stream",
     "text": [
      "=============================================================\n",
      "epoch: 7, source_val_acc_label: 0.9990, target_val_acc_label: 0.3735, source_val_label_loss: 0.0166, target_val_label_loss: 1.9273, \n",
      "=============================================================\n"
     ]
    },
    {
     "name": "stdout",
     "output_type": "stream",
     "text": [
      "epoch: 8, [batch: 1 / 6297], examples_per_second: 1.0180, train_label_loss: 0.0000, \n"
     ]
    },
    {
     "name": "stdout",
     "output_type": "stream",
     "text": [
      "epoch: 8, [batch: 630 / 6297], examples_per_second: 2428.9458, train_label_loss: 0.0000, \n"
     ]
    },
    {
     "name": "stdout",
     "output_type": "stream",
     "text": [
      "epoch: 8, [batch: 1260 / 6297], examples_per_second: 2589.9787, train_label_loss: 0.0000, \n"
     ]
    },
    {
     "name": "stdout",
     "output_type": "stream",
     "text": [
      "epoch: 8, [batch: 1889 / 6297], examples_per_second: 2612.9224, train_label_loss: 0.0001, \n"
     ]
    },
    {
     "name": "stdout",
     "output_type": "stream",
     "text": [
      "epoch: 8, [batch: 2519 / 6297], examples_per_second: 2563.4089, train_label_loss: 0.0000, \n"
     ]
    },
    {
     "name": "stdout",
     "output_type": "stream",
     "text": [
      "epoch: 8, [batch: 3149 / 6297], examples_per_second: 2620.8749, train_label_loss: 0.0001, \n"
     ]
    },
    {
     "name": "stdout",
     "output_type": "stream",
     "text": [
      "epoch: 8, [batch: 3778 / 6297], examples_per_second: 2588.3306, train_label_loss: 0.0000, \n"
     ]
    },
    {
     "name": "stdout",
     "output_type": "stream",
     "text": [
      "epoch: 8, [batch: 4408 / 6297], examples_per_second: 2676.6541, train_label_loss: 0.0000, \n"
     ]
    },
    {
     "name": "stdout",
     "output_type": "stream",
     "text": [
      "epoch: 8, [batch: 5037 / 6297], examples_per_second: 2442.8088, train_label_loss: 0.0000, \n"
     ]
    },
    {
     "name": "stdout",
     "output_type": "stream",
     "text": [
      "epoch: 8, [batch: 5667 / 6297], examples_per_second: 2573.3388, train_label_loss: 0.0000, \n"
     ]
    },
    {
     "name": "stdout",
     "output_type": "stream",
     "text": [
      "=============================================================\n",
      "epoch: 8, source_val_acc_label: 0.9994, target_val_acc_label: 0.3733, source_val_label_loss: 0.0125, target_val_label_loss: 1.8961, \n",
      "=============================================================\n"
     ]
    },
    {
     "name": "stdout",
     "output_type": "stream",
     "text": [
      "epoch: 9, [batch: 1 / 6315], examples_per_second: 0.9829, train_label_loss: 0.0000, \n"
     ]
    },
    {
     "name": "stdout",
     "output_type": "stream",
     "text": [
      "epoch: 9, [batch: 632 / 6315], examples_per_second: 2619.5194, train_label_loss: 0.0514, \n"
     ]
    },
    {
     "name": "stdout",
     "output_type": "stream",
     "text": [
      "epoch: 9, [batch: 1263 / 6315], examples_per_second: 2650.3956, train_label_loss: 0.0000, \n"
     ]
    },
    {
     "name": "stdout",
     "output_type": "stream",
     "text": [
      "epoch: 9, [batch: 1895 / 6315], examples_per_second: 2603.0072, train_label_loss: 0.0000, \n"
     ]
    },
    {
     "name": "stdout",
     "output_type": "stream",
     "text": [
      "epoch: 9, [batch: 2526 / 6315], examples_per_second: 2526.2140, train_label_loss: 0.0000, \n"
     ]
    },
    {
     "name": "stdout",
     "output_type": "stream",
     "text": [
      "epoch: 9, [batch: 3158 / 6315], examples_per_second: 2632.7438, train_label_loss: 0.0000, \n"
     ]
    },
    {
     "name": "stdout",
     "output_type": "stream",
     "text": [
      "epoch: 9, [batch: 3789 / 6315], examples_per_second: 2658.8378, train_label_loss: 0.0000, \n"
     ]
    },
    {
     "name": "stdout",
     "output_type": "stream",
     "text": [
      "epoch: 9, [batch: 4420 / 6315], examples_per_second: 2427.5063, train_label_loss: 0.0000, \n"
     ]
    },
    {
     "name": "stdout",
     "output_type": "stream",
     "text": [
      "epoch: 9, [batch: 5052 / 6315], examples_per_second: 2333.8285, train_label_loss: 0.0000, \n"
     ]
    },
    {
     "name": "stdout",
     "output_type": "stream",
     "text": [
      "epoch: 9, [batch: 5683 / 6315], examples_per_second: 2323.0267, train_label_loss: 0.0000, \n"
     ]
    },
    {
     "name": "stdout",
     "output_type": "stream",
     "text": [
      "=============================================================\n",
      "epoch: 9, source_val_acc_label: 0.9994, target_val_acc_label: 0.3776, source_val_label_loss: 0.0130, target_val_label_loss: 1.8643, \n",
      "=============================================================\n"
     ]
    },
    {
     "name": "stdout",
     "output_type": "stream",
     "text": [
      "Patience (3) exhausted\n"
     ]
    }
   ],
   "source": [
    "###################################\n",
    "# train\n",
    "###################################\n",
    "jig = PTN_Train_Eval_Test_Jig(model, p.BEST_MODEL_PATH, p.device)\n",
    "\n",
    "jig.train(\n",
    "    train_iterable=datasets.source.processed.train,\n",
    "    source_val_iterable=datasets.source.processed.val,\n",
    "    target_val_iterable=datasets.target.processed.val,\n",
    "    num_epochs=p.n_epoch,\n",
    "    num_logs_per_epoch=p.NUM_LOGS_PER_EPOCH,\n",
    "    patience=p.patience,\n",
    "    optimizer=optimizer,\n",
    "    criteria_for_best=p.criteria_for_best,\n",
    ")"
   ]
  },
  {
   "cell_type": "code",
   "execution_count": 23,
   "id": "31e8fabf",
   "metadata": {
    "execution": {
     "iopub.execute_input": "2022-03-21T05:09:38.135898Z",
     "iopub.status.busy": "2022-03-21T05:09:38.135322Z",
     "iopub.status.idle": "2022-03-21T05:09:38.167727Z",
     "shell.execute_reply": "2022-03-21T05:09:38.166913Z"
    },
    "papermill": {
     "duration": 0.088549,
     "end_time": "2022-03-21T05:09:38.167891",
     "exception": false,
     "start_time": "2022-03-21T05:09:38.079342",
     "status": "completed"
    },
    "tags": []
   },
   "outputs": [],
   "source": [
    "total_experiment_time_secs = time.time() - start_time_secs"
   ]
  },
  {
   "cell_type": "code",
   "execution_count": 24,
   "id": "87b9595b",
   "metadata": {
    "execution": {
     "iopub.execute_input": "2022-03-21T05:09:38.282992Z",
     "iopub.status.busy": "2022-03-21T05:09:38.282128Z",
     "iopub.status.idle": "2022-03-21T05:22:18.956303Z",
     "shell.execute_reply": "2022-03-21T05:22:18.955503Z"
    },
    "papermill": {
     "duration": 760.733825,
     "end_time": "2022-03-21T05:22:18.956498",
     "exception": false,
     "start_time": "2022-03-21T05:09:38.222673",
     "status": "completed"
    },
    "tags": []
   },
   "outputs": [],
   "source": [
    "###################################\n",
    "# Evaluate the model\n",
    "###################################\n",
    "source_test_label_accuracy, source_test_label_loss = jig.test(datasets.source.processed.test)\n",
    "target_test_label_accuracy, target_test_label_loss = jig.test(datasets.target.processed.test)\n",
    "\n",
    "source_val_label_accuracy, source_val_label_loss = jig.test(datasets.source.processed.val)\n",
    "target_val_label_accuracy, target_val_label_loss = jig.test(datasets.target.processed.val)\n",
    "\n",
    "history = jig.get_history()\n",
    "\n",
    "total_epochs_trained = len(history[\"epoch_indices\"])\n",
    "\n",
    "val_dl = Iterable_Aggregator((datasets.source.original.val,datasets.target.original.val))\n",
    "\n",
    "confusion = ptn_confusion_by_domain_over_dataloader(model, p.device, val_dl)\n",
    "per_domain_accuracy = per_domain_accuracy_from_confusion(confusion)\n",
    "\n",
    "# Add a key to per_domain_accuracy for if it was a source domain\n",
    "for domain, accuracy in per_domain_accuracy.items():\n",
    "    per_domain_accuracy[domain] = {\n",
    "        \"accuracy\": accuracy,\n",
    "        \"source?\": domain in p.domains_source\n",
    "    }\n",
    "\n",
    "# Do an independent accuracy assesment JUST TO BE SURE!\n",
    "# _source_test_label_accuracy = independent_accuracy_assesment(model, datasets.source.processed.test, p.device)\n",
    "# _target_test_label_accuracy = independent_accuracy_assesment(model, datasets.target.processed.test, p.device)\n",
    "# _source_val_label_accuracy = independent_accuracy_assesment(model, datasets.source.processed.val, p.device)\n",
    "# _target_val_label_accuracy = independent_accuracy_assesment(model, datasets.target.processed.val, p.device)\n",
    "\n",
    "# assert(_source_test_label_accuracy == source_test_label_accuracy)\n",
    "# assert(_target_test_label_accuracy == target_test_label_accuracy)\n",
    "# assert(_source_val_label_accuracy == source_val_label_accuracy)\n",
    "# assert(_target_val_label_accuracy == target_val_label_accuracy)\n",
    "\n",
    "experiment = {\n",
    "    \"experiment_name\": p.experiment_name,\n",
    "    \"parameters\": dict(p),\n",
    "    \"results\": {\n",
    "        \"source_test_label_accuracy\": source_test_label_accuracy,\n",
    "        \"source_test_label_loss\": source_test_label_loss,\n",
    "        \"target_test_label_accuracy\": target_test_label_accuracy,\n",
    "        \"target_test_label_loss\": target_test_label_loss,\n",
    "        \"source_val_label_accuracy\": source_val_label_accuracy,\n",
    "        \"source_val_label_loss\": source_val_label_loss,\n",
    "        \"target_val_label_accuracy\": target_val_label_accuracy,\n",
    "        \"target_val_label_loss\": target_val_label_loss,\n",
    "        \"total_epochs_trained\": total_epochs_trained,\n",
    "        \"total_experiment_time_secs\": total_experiment_time_secs,\n",
    "        \"confusion\": confusion,\n",
    "        \"per_domain_accuracy\": per_domain_accuracy,\n",
    "    },\n",
    "    \"history\": history,\n",
    "    \"dataset_metrics\": get_dataset_metrics(datasets, \"ptn\"),\n",
    "}"
   ]
  },
  {
   "cell_type": "code",
   "execution_count": 25,
   "id": "54a21829",
   "metadata": {
    "execution": {
     "iopub.execute_input": "2022-03-21T05:22:19.070436Z",
     "iopub.status.busy": "2022-03-21T05:22:19.070051Z",
     "iopub.status.idle": "2022-03-21T05:22:19.298047Z",
     "shell.execute_reply": "2022-03-21T05:22:19.298732Z"
    },
    "papermill": {
     "duration": 0.285974,
     "end_time": "2022-03-21T05:22:19.298968",
     "exception": false,
     "start_time": "2022-03-21T05:22:19.012994",
     "status": "completed"
    },
    "tags": []
   },
   "outputs": [
    {
     "data": {
      "image/png": "[encoded data removed]",
      "text/plain": [
       "<Figure size 1080x504 with 1 Axes>"
      ]
     },
     "metadata": {
      "needs_background": "light"
     },
     "output_type": "display_data"
    }
   ],
   "source": [
    "ax = get_loss_curve(experiment)\n",
    "plt.show()"
   ]
  },
  {
   "cell_type": "code",
   "execution_count": 26,
   "id": "fd8a0f60",
   "metadata": {
    "execution": {
     "iopub.execute_input": "2022-03-21T05:22:19.407355Z",
     "iopub.status.busy": "2022-03-21T05:22:19.406983Z",
     "iopub.status.idle": "2022-03-21T05:22:19.773373Z",
     "shell.execute_reply": "2022-03-21T05:22:19.773680Z"
    },
    "papermill": {
     "duration": 0.421762,
     "end_time": "2022-03-21T05:22:19.773808",
     "exception": false,
     "start_time": "2022-03-21T05:22:19.352046",
     "status": "completed"
    },
    "tags": []
   },
   "outputs": [
    {
     "data": {
      "text/plain": [
       "<AxesSubplot:title={'center':'Results'}>"
      ]
     },
     "execution_count": 26,
     "metadata": {},
     "output_type": "execute_result"
    },
    {
     "data": {
      "image/png": "[encoded data removed]",
      "text/plain": [
       "<Figure size 1080x504 with 1 Axes>"
      ]
     },
     "metadata": {
      "needs_background": "light"
     },
     "output_type": "display_data"
    }
   ],
   "source": [
    "get_results_table(experiment)"
   ]
  },
  {
   "cell_type": "code",
   "execution_count": 27,
   "id": "cf8dc689",
   "metadata": {
    "execution": {
     "iopub.execute_input": "2022-03-21T05:22:19.885626Z",
     "iopub.status.busy": "2022-03-21T05:22:19.885249Z",
     "iopub.status.idle": "2022-03-21T05:22:20.140303Z",
     "shell.execute_reply": "2022-03-21T05:22:20.140993Z"
    },
    "papermill": {
     "duration": 0.313132,
     "end_time": "2022-03-21T05:22:20.141208",
     "exception": false,
     "start_time": "2022-03-21T05:22:19.828076",
     "status": "completed"
    },
    "tags": []
   },
   "outputs": [
    {
     "data": {
      "text/plain": [
       "<AxesSubplot:title={'center':'Per Domain Validation Accuracy'}, xlabel='domain'>"
      ]
     },
     "execution_count": 27,
     "metadata": {},
     "output_type": "execute_result"
    },
    {
     "data": {
      "image/png": "[encoded data removed]",
      "text/plain": [
       "<Figure size 1080x504 with 1 Axes>"
      ]
     },
     "metadata": {
      "needs_background": "light"
     },
     "output_type": "display_data"
    }
   ],
   "source": [
    "get_domain_accuracies(experiment)"
   ]
  },
  {
   "cell_type": "code",
   "execution_count": 28,
   "id": "a74ae082",
   "metadata": {
    "execution": {
     "iopub.execute_input": "2022-03-21T05:22:20.259515Z",
     "iopub.status.busy": "2022-03-21T05:22:20.259133Z",
     "iopub.status.idle": "2022-03-21T05:22:20.287474Z",
     "shell.execute_reply": "2022-03-21T05:22:20.286756Z"
    },
    "papermill": {
     "duration": 0.086781,
     "end_time": "2022-03-21T05:22:20.287651",
     "exception": false,
     "start_time": "2022-03-21T05:22:20.200870",
     "status": "completed"
    },
    "tags": []
   },
   "outputs": [
    {
     "name": "stdout",
     "output_type": "stream",
     "text": [
      "Source Test Label Accuracy: 0.9989478114478114 Target Test Label Accuracy: 0.40161458333333333\n",
      "Source Val Label Accuracy: 0.9989654680365296 Target Val Label Accuracy: 0.40032552083333334\n"
     ]
    }
   ],
   "source": [
    "print(\"Source Test Label Accuracy:\", experiment[\"results\"][\"source_test_label_accuracy\"], \"Target Test Label Accuracy:\", experiment[\"results\"][\"target_test_label_accuracy\"])\n",
    "print(\"Source Val Label Accuracy:\", experiment[\"results\"][\"source_val_label_accuracy\"], \"Target Val Label Accuracy:\", experiment[\"results\"][\"target_val_label_accuracy\"])"
   ]
  },
  {
   "cell_type": "code",
   "execution_count": 29,
   "id": "dacca602",
   "metadata": {
    "execution": {
     "iopub.execute_input": "2022-03-21T05:22:20.407892Z",
     "iopub.status.busy": "2022-03-21T05:22:20.407486Z",
     "iopub.status.idle": "2022-03-21T05:22:20.436229Z",
     "shell.execute_reply": "2022-03-21T05:22:20.436836Z"
    },
    "papermill": {
     "duration": 0.088407,
     "end_time": "2022-03-21T05:22:20.436987",
     "exception": false,
     "start_time": "2022-03-21T05:22:20.348580",
     "status": "completed"
    },
    "tags": [
     "experiment_json"
    ]
   },
   "outputs": [
    {
     "data": {
      "text/plain": [
       "'{\"experiment_name\": \"tl_1v2:cores-oracle.run1\", \"parameters\": {\"experiment_name\": \"tl_1v2:cores-oracle.run1\", \"device\": \"cuda\", \"lr\": 0.0001, \"n_shot\": 3, \"n_query\": 2, \"train_k_factor\": 3, \"val_k_factor\": 2, \"test_k_factor\": 2, \"torch_default_dtype\": \"torch.float32\", \"n_epoch\": 50, \"patience\": 3, \"criteria_for_best\": \"target_accuracy\", \"x_net\": [{\"class\": \"nnReshape\", \"kargs\": {\"shape\": [-1, 1, 2, 256]}}, {\"class\": \"Conv2d\", \"kargs\": {\"in_channels\": 1, \"out_channels\": 256, \"kernel_size\": [1, 7], \"bias\": false, \"padding\": [0, 3]}}, {\"class\": \"ReLU\", \"kargs\": {\"inplace\": true}}, {\"class\": \"BatchNorm2d\", \"kargs\": {\"num_features\": 256}}, {\"class\": \"Conv2d\", \"kargs\": {\"in_channels\": 256, \"out_channels\": 80, \"kernel_size\": [2, 7], \"bias\": true, \"padding\": [0, 3]}}, {\"class\": \"ReLU\", \"kargs\": {\"inplace\": true}}, {\"class\": \"BatchNorm2d\", \"kargs\": {\"num_features\": 80}}, {\"class\": \"Flatten\", \"kargs\": {}}, {\"class\": \"Linear\", \"kargs\": {\"in_features\": 20480, \"out_features\": 256}}, {\"class\": \"ReLU\", \"kargs\": {\"inplace\": true}}, {\"class\": \"BatchNorm1d\", \"kargs\": {\"num_features\": 256}}, {\"class\": \"Linear\", \"kargs\": {\"in_features\": 256, \"out_features\": 256}}], \"NUM_LOGS_PER_EPOCH\": 10, \"BEST_MODEL_PATH\": \"./best_model.pth\", \"n_way\": 16, \"datasets\": [{\"labels\": [\"1-10.\", \"1-11.\", \"1-15.\", \"1-16.\", \"1-17.\", \"1-18.\", \"1-19.\", \"10-4.\", \"10-7.\", \"11-1.\", \"11-14.\", \"11-17.\", \"11-20.\", \"11-7.\", \"13-20.\", \"13-8.\", \"14-10.\", \"14-11.\", \"14-14.\", \"14-7.\", \"15-1.\", \"15-20.\", \"16-1.\", \"16-16.\", \"17-10.\", \"17-11.\", \"17-2.\", \"19-1.\", \"19-16.\", \"19-19.\", \"19-20.\", \"19-3.\", \"2-10.\", \"2-11.\", \"2-17.\", \"2-18.\", \"2-20.\", \"2-3.\", \"2-4.\", \"2-5.\", \"2-6.\", \"2-7.\", \"2-8.\", \"3-13.\", \"3-18.\", \"3-3.\", \"4-1.\", \"4-10.\", \"4-11.\", \"4-19.\", \"5-5.\", \"6-15.\", \"7-10.\", \"7-14.\", \"8-18.\", \"8-20.\", \"8-3.\", \"8-8.\"], \"domains\": [1, 2, 3, 4, 5], \"num_examples_per_domain_per_label\": -1, \"pickle_path\": \"/root/csc500-main/datasets/cores.stratified_ds.2022A.pkl\", \"source_or_target_dataset\": \"source\", \"x_transforms\": [], \"episode_transforms\": [], \"domain_prefix\": \"CORES_\"}, {\"labels\": [\"3123D52\", \"3123D65\", \"3123D79\", \"3123D80\", \"3123D54\", \"3123D70\", \"3123D7B\", \"3123D89\", \"3123D58\", \"3123D76\", \"3123D7D\", \"3123EFE\", \"3123D64\", \"3123D78\", \"3123D7E\", \"3124E4A\"], \"domains\": [32, 38, 8, 44, 14, 50, 20, 26], \"num_examples_per_domain_per_label\": 10000, \"pickle_path\": \"/root/csc500-main/datasets/oracle.Run1_10kExamples_stratified_ds.2022A.pkl\", \"source_or_target_dataset\": \"target\", \"x_transforms\": [], \"episode_transforms\": [], \"domain_prefix\": \"ORACLE.run1_\"}], \"dataset_seed\": 1337, \"seed\": 1337, \"x_shape\": [2, 256], \"domains_source\": [\"CORES_1\", \"CORES_2\", \"CORES_3\", \"CORES_4\", \"CORES_5\"], \"domains_target\": [\"ORACLE.run1_32\", \"ORACLE.run1_38\", \"ORACLE.run1_8\", \"ORACLE.run1_44\", \"ORACLE.run1_14\", \"ORACLE.run1_50\", \"ORACLE.run1_20\", \"ORACLE.run1_26\"]}, \"results\": {\"source_test_label_accuracy\": 0.9989478114478114, \"source_test_label_loss\": 0.012804347090423107, \"target_test_label_accuracy\": 0.40161458333333333, \"target_test_label_loss\": 1.7752649784088135, \"source_val_label_accuracy\": 0.9989654680365296, \"source_val_label_loss\": 0.01179687213152647, \"target_val_label_accuracy\": 0.40032552083333334, \"target_val_label_loss\": 1.7749483585357666, \"total_epochs_trained\": 9, \"total_experiment_time_secs\": 2896.757653236389, \"confusion\": {\"CORES_3\": {\"43\": {\"43\": 128}, \"9\": {\"9\": 150}, \"6\": {\"6\": 88}, \"3\": {\"3\": 144}, \"16\": {\"16\": 134}, \"51\": {\"51\": 128}, \"31\": {\"31\": 28}, \"46\": {\"46\": 134}, \"19\": {\"19\": 124}, \"8\": {\"8\": 152}, \"18\": {\"18\": 84}, \"37\": {\"37\": 28}, \"24\": {\"24\": 104}, \"10\": {\"10\": 64}, \"44\": {\"44\": 88}, \"14\": {\"14\": 40}, \"38\": {\"38\": 28}, \"53\": {\"53\": 138, \"18\": 1, \"17\": 1}, \"20\": {\"20\": 132}, \"32\": {\"32\": 28}, \"36\": {\"36\": 100}, \"33\": {\"33\": 28}, \"56\": {\"56\": 136}, \"23\": {\"23\": 130}, \"54\": {\"54\": 100}, \"21\": {\"21\": 125, \"3\": 1}, \"28\": {\"28\": 28}, \"26\": {\"26\": 24}, \"48\": {\"48\": 116}, \"52\": {\"52\": 118}, \"39\": {\"39\": 16}, \"22\": {\"22\": 140}, \"13\": {\"13\": 128}, \"2\": {\"2\": 32}, \"34\": {\"34\": 32}, \"27\": {\"27\": 132}, \"45\": {\"45\": 60}, \"35\": {\"35\": 28}, \"29\": {\"29\": 128}, \"25\": {\"25\": 144}, \"0\": {\"0\": 124}, \"41\": {\"41\": 28}, \"11\": {\"11\": 142}, \"5\": {\"5\": 108}, \"1\": {\"1\": 100}, \"57\": {\"57\": 116}, \"17\": {\"17\": 106, \"16\": 1, \"56\": 1}, \"7\": {\"7\": 36}, \"12\": {\"12\": 92}, \"47\": {\"47\": 92}, \"40\": {\"40\": 136}, \"15\": {\"15\": 142}, \"42\": {\"42\": 28}, \"55\": {\"55\": 150}, \"49\": {\"49\": 20}, \"30\": {\"30\": 119, \"52\": 1}, \"50\": {\"50\": 134}, \"4\": {\"4\": 136}}, \"CORES_4\": {\"35\": {\"35\": 40}, \"25\": {\"25\": 134}, \"24\": {\"24\": 56}, \"48\": {\"48\": 138}, \"51\": {\"51\": 144}, \"13\": {\"13\": 120}, \"14\": {\"14\": 15, \"46\": 1}, \"32\": {\"32\": 24}, \"30\": {\"30\": 43, \"21\": 1}, \"34\": {\"34\": 24}, \"9\": {\"9\": 136}, \"1\": {\"1\": 40}, \"0\": {\"0\": 80}, \"38\": {\"38\": 40}, \"22\": {\"22\": 128}, \"40\": {\"40\": 119, \"44\": 1}, \"6\": {\"6\": 112}, \"16\": {\"16\": 96}, \"11\": {\"11\": 104}, \"20\": {\"20\": 122}, \"17\": {\"17\": 80}, \"26\": {\"26\": 24}, \"54\": {\"54\": 108}, \"55\": {\"55\": 154}, \"50\": {\"50\": 128, \"13\": 1, \"3\": 3}, \"19\": {\"19\": 142}, \"44\": {\"44\": 122}, \"47\": {\"47\": 120}, \"33\": {\"33\": 36}, \"5\": {\"5\": 108}, \"18\": {\"18\": 108}, \"21\": {\"21\": 124}, \"41\": {\"41\": 36}, \"23\": {\"23\": 128}, \"39\": {\"39\": 20}, \"37\": {\"37\": 24}, \"8\": {\"8\": 144}, \"49\": {\"49\": 20}, \"53\": {\"53\": 140}, \"31\": {\"31\": 28}, \"28\": {\"28\": 32}, \"3\": {\"3\": 124}, \"27\": {\"27\": 138}, \"46\": {\"46\": 127, \"22\": 1}, \"12\": {\"12\": 92}, \"7\": {\"7\": 24}, \"4\": {\"4\": 130, \"9\": 2}, \"42\": {\"42\": 32}, \"43\": {\"43\": 130}, \"29\": {\"29\": 120}, \"57\": {\"57\": 100}, \"52\": {\"52\": 104}, \"45\": {\"45\": 96}, \"36\": {\"36\": 92}, \"10\": {\"10\": 126}, \"15\": {\"15\": 134}, \"56\": {\"56\": 124}, \"2\": {\"2\": 36}}, \"CORES_5\": {\"47\": {\"47\": 100}, \"53\": {\"53\": 150}, \"29\": {\"29\": 126}, \"52\": {\"52\": 130}, \"55\": {\"55\": 144}, \"17\": {\"17\": 116}, \"42\": {\"42\": 40}, \"33\": {\"33\": 32}, \"11\": {\"11\": 148}, \"19\": {\"19\": 118}, \"1\": {\"1\": 144}, \"44\": {\"44\": 142}, \"49\": {\"49\": 36}, \"4\": {\"4\": 100}, \"6\": {\"6\": 116}, \"39\": {\"39\": 20}, \"50\": {\"50\": 148}, \"56\": {\"56\": 130}, \"25\": {\"25\": 144}, \"28\": {\"28\": 32}, \"35\": {\"35\": 36}, \"24\": {\"24\": 80}, \"21\": {\"21\": 132}, \"45\": {\"45\": 124}, \"16\": {\"16\": 143, \"11\": 1}, \"37\": {\"37\": 24}, \"57\": {\"57\": 132}, \"34\": {\"34\": 36}, \"38\": {\"38\": 32}, \"48\": {\"48\": 130}, \"26\": {\"26\": 24}, \"9\": {\"9\": 152}, \"18\": {\"18\": 64}, \"3\": {\"3\": 100}, \"23\": {\"23\": 124}, \"15\": {\"15\": 153, \"11\": 1}, \"10\": {\"10\": 68}, \"46\": {\"46\": 148}, \"22\": {\"22\": 27, \"56\": 1}, \"54\": {\"54\": 112}, \"27\": {\"27\": 160}, \"41\": {\"41\": 28}, \"31\": {\"31\": 36}, \"0\": {\"0\": 124}, \"7\": {\"7\": 32}, \"2\": {\"2\": 28}, \"14\": {\"14\": 44}, \"40\": {\"40\": 123, \"44\": 1}, \"5\": {\"5\": 128}, \"12\": {\"12\": 96}, \"43\": {\"43\": 142}, \"13\": {\"13\": 148}, \"36\": {\"36\": 92}, \"8\": {\"8\": 150}, \"32\": {\"32\": 32}, \"30\": {\"30\": 128}, \"51\": {\"51\": 138}, \"20\": {\"20\": 138}}, \"CORES_1\": {\"46\": {\"46\": 140}, \"16\": {\"16\": 134}, \"26\": {\"26\": 24}, \"10\": {\"10\": 96}, \"9\": {\"9\": 155, \"53\": 1}, \"28\": {\"28\": 28}, \"51\": {\"51\": 156}, \"1\": {\"1\": 100}, \"55\": {\"55\": 148}, \"27\": {\"27\": 124}, \"22\": {\"22\": 124}, \"52\": {\"52\": 126}, \"3\": {\"3\": 140}, \"33\": {\"33\": 32}, \"47\": {\"47\": 120}, \"42\": {\"42\": 40}, \"12\": {\"12\": 116}, \"23\": {\"23\": 132}, \"49\": {\"49\": 32}, \"7\": {\"7\": 28}, \"4\": {\"4\": 132}, \"50\": {\"50\": 134}, \"19\": {\"19\": 154}, \"11\": {\"11\": 140}, \"31\": {\"31\": 28}, \"41\": {\"41\": 24}, \"56\": {\"56\": 138}, \"0\": {\"0\": 148}, \"57\": {\"57\": 128}, \"53\": {\"53\": 140}, \"43\": {\"43\": 144}, \"37\": {\"37\": 32}, \"2\": {\"2\": 36}, \"6\": {\"6\": 96}, \"13\": {\"13\": 150}, \"18\": {\"18\": 72}, \"36\": {\"36\": 64}, \"29\": {\"29\": 140}, \"39\": {\"39\": 28}, \"17\": {\"17\": 64}, \"21\": {\"21\": 124}, \"25\": {\"25\": 132}, \"45\": {\"45\": 142}, \"38\": {\"38\": 21, \"36\": 2, \"55\": 1}, \"30\": {\"30\": 120}, \"24\": {\"24\": 108}, \"20\": {\"20\": 138, \"12\": 2}, \"8\": {\"8\": 140}, \"35\": {\"35\": 36}, \"54\": {\"54\": 104}, \"5\": {\"5\": 148}, \"48\": {\"48\": 144}, \"15\": {\"15\": 142}, \"34\": {\"34\": 24}, \"14\": {\"14\": 24}, \"32\": {\"32\": 32}, \"40\": {\"40\": 148}, \"44\": {\"44\": 136}}, \"CORES_2\": {\"36\": {\"36\": 116}, \"5\": {\"5\": 120}, \"45\": {\"45\": 128}, \"49\": {\"49\": 24}, \"50\": {\"50\": 136}, \"4\": {\"4\": 138}, \"43\": {\"43\": 148}, \"41\": {\"41\": 19, \"52\": 1}, \"37\": {\"37\": 36}, \"12\": {\"12\": 92}, \"33\": {\"33\": 28}, \"7\": {\"7\": 36}, \"56\": {\"56\": 140}, \"14\": {\"14\": 24}, \"52\": {\"52\": 124}, \"44\": {\"44\": 96}, \"48\": {\"48\": 144}, \"20\": {\"20\": 128}, \"55\": {\"55\": 144}, \"32\": {\"32\": 28}, \"40\": {\"40\": 136}, \"54\": {\"54\": 108}, \"17\": {\"17\": 104}, \"38\": {\"38\": 20}, \"24\": {\"24\": 96}, \"1\": {\"1\": 112}, \"6\": {\"6\": 124}, \"34\": {\"34\": 28}, \"11\": {\"11\": 136}, \"9\": {\"9\": 150}, \"8\": {\"8\": 152}, \"22\": {\"22\": 136}, \"26\": {\"26\": 24}, \"23\": {\"23\": 146}, \"10\": {\"10\": 112}, \"18\": {\"18\": 48}, \"13\": {\"13\": 115, \"10\": 1}, \"30\": {\"30\": 128}, \"42\": {\"42\": 36}, \"31\": {\"31\": 28}, \"46\": {\"46\": 128}, \"57\": {\"57\": 142}, \"47\": {\"47\": 138}, \"35\": {\"35\": 32}, \"15\": {\"15\": 132}, \"25\": {\"25\": 136}, \"19\": {\"19\": 136}, \"51\": {\"51\": 128}, \"53\": {\"53\": 134}, \"21\": {\"21\": 120}, \"39\": {\"39\": 28}, \"2\": {\"2\": 32}, \"16\": {\"16\": 150}, \"0\": {\"0\": 48}, \"3\": {\"3\": 92}, \"27\": {\"27\": 142}, \"28\": {\"28\": 27, \"18\": 1}, \"29\": {\"29\": 128}}, \"ORACLE.run1_14\": {\"15\": {\"15\": 1199, \"13\": 1}, \"3\": {\"6\": 260, \"13\": 154, \"3\": 314, \"14\": 118, \"0\": 120, \"7\": 107, \"8\": 28, \"5\": 23, \"2\": 76}, \"6\": {\"0\": 68, \"6\": 364, \"3\": 254, \"13\": 227, \"7\": 76, \"14\": 112, \"2\": 75, \"5\": 14, \"8\": 6, \"4\": 1, \"15\": 3}, \"1\": {\"9\": 216, \"10\": 114, \"1\": 819, \"4\": 49, \"5\": 1, \"12\": 1}, \"8\": {\"8\": 453, \"5\": 201, \"0\": 120, \"3\": 21, \"12\": 93, \"14\": 52, \"2\": 94, \"7\": 62, \"13\": 26, \"4\": 70, \"10\": 5, \"6\": 3}, \"10\": {\"10\": 560, \"1\": 118, \"9\": 170, \"12\": 110, \"4\": 212, \"8\": 8, \"2\": 12, \"5\": 6, \"0\": 4}, \"9\": {\"9\": 723, \"1\": 262, \"10\": 178, \"12\": 19, \"4\": 18}, \"13\": {\"8\": 38, \"6\": 259, \"15\": 103, \"0\": 67, \"14\": 124, \"3\": 151, \"4\": 41, \"7\": 58, \"5\": 82, \"13\": 157, \"2\": 95, \"12\": 18, \"10\": 7}, \"12\": {\"12\": 754, \"0\": 92, \"8\": 118, \"10\": 71, \"5\": 32, \"4\": 79, \"3\": 3, \"2\": 22, \"14\": 16, \"9\": 9, \"13\": 4}, \"5\": {\"14\": 91, \"8\": 173, \"13\": 40, \"5\": 334, \"4\": 105, \"2\": 172, \"12\": 21, \"7\": 117, \"3\": 17, \"0\": 110, \"6\": 14, \"10\": 5, \"1\": 1}, \"0\": {\"2\": 105, \"8\": 115, \"5\": 89, \"13\": 64, \"4\": 46, \"3\": 148, \"0\": 237, \"14\": 162, \"7\": 42, \"12\": 82, \"6\": 107, \"1\": 1, \"10\": 2}, \"2\": {\"8\": 74, \"2\": 189, \"0\": 100, \"6\": 94, \"4\": 138, \"7\": 98, \"13\": 83, \"5\": 157, \"14\": 130, \"3\": 79, \"12\": 42, \"10\": 15, \"1\": 1}, \"11\": {\"11\": 1178, \"9\": 12, \"1\": 10}, \"14\": {\"14\": 266, \"8\": 49, \"3\": 125, \"6\": 106, \"0\": 173, \"13\": 110, \"5\": 95, \"2\": 151, \"7\": 112, \"12\": 12, \"4\": 1}, \"7\": {\"2\": 98, \"7\": 536, \"0\": 41, \"5\": 133, \"14\": 71, \"3\": 89, \"8\": 81, \"6\": 85, \"13\": 61, \"4\": 4, \"12\": 1}, \"4\": {\"10\": 202, \"4\": 556, \"0\": 19, \"5\": 110, \"8\": 73, \"1\": 43, \"12\": 82, \"2\": 81, \"9\": 13, \"14\": 9, \"13\": 6, \"7\": 6}}, \"ORACLE.run1_20\": {\"3\": {\"5\": 164, \"8\": 154, \"1\": 119, \"15\": 49, \"14\": 145, \"6\": 68, \"7\": 62, \"9\": 116, \"3\": 165, \"2\": 30, \"0\": 49, \"11\": 9, \"13\": 10, \"12\": 31, \"10\": 3, \"4\": 26}, \"15\": {\"6\": 58, \"9\": 82, \"12\": 164, \"2\": 124, \"15\": 155, \"1\": 87, \"13\": 144, \"4\": 102, \"5\": 68, \"8\": 20, \"10\": 54, \"7\": 92, \"3\": 33, \"14\": 17}, \"8\": {\"14\": 244, \"5\": 122, \"8\": 286, \"3\": 148, \"6\": 42, \"1\": 65, \"0\": 133, \"7\": 33, \"11\": 27, \"9\": 70, \"4\": 6, \"13\": 1, \"12\": 6, \"2\": 11, \"15\": 6}, \"4\": {\"7\": 80, \"12\": 136, \"10\": 151, \"13\": 133, \"4\": 158, \"15\": 109, \"9\": 55, \"6\": 109, \"1\": 53, \"3\": 24, \"5\": 47, \"2\": 120, \"14\": 17, \"8\": 7, \"0\": 1}, \"14\": {\"11\": 17, \"8\": 251, \"14\": 287, \"5\": 82, \"1\": 68, \"3\": 151, \"9\": 65, \"6\": 89, \"7\": 50, \"0\": 90, \"13\": 2, \"10\": 1, \"12\": 11, \"2\": 14, \"15\": 12, \"4\": 10}, \"0\": {\"0\": 576, \"8\": 163, \"5\": 40, \"11\": 237, \"3\": 75, \"14\": 85, \"1\": 10, \"9\": 8, \"2\": 2, \"7\": 3, \"15\": 1}, \"7\": {\"3\": 84, \"4\": 92, \"1\": 98, \"13\": 46, \"5\": 84, \"12\": 86, \"15\": 106, \"9\": 122, \"7\": 122, \"2\": 97, \"6\": 158, \"8\": 35, \"14\": 50, \"10\": 19, \"0\": 1}, \"6\": {\"6\": 198, \"13\": 66, \"1\": 66, \"4\": 96, \"2\": 111, \"10\": 43, \"7\": 135, \"3\": 73, \"14\": 67, \"15\": 63, \"5\": 55, \"9\": 90, \"8\": 56, \"12\": 81}, \"10\": {\"12\": 91, \"13\": 221, \"4\": 191, \"10\": 456, \"2\": 75, \"5\": 6, \"7\": 33, \"9\": 7, \"15\": 62, \"6\": 47, \"14\": 2, \"3\": 1, \"1\": 8}, \"5\": {\"8\": 132, \"2\": 43, \"5\": 165, \"14\": 105, \"1\": 141, \"3\": 154, \"15\": 64, \"12\": 51, \"13\": 9, \"7\": 90, \"9\": 105, \"0\": 27, \"4\": 40, \"6\": 74}, \"2\": {\"14\": 27, \"13\": 114, \"5\": 52, \"15\": 129, \"2\": 124, \"10\": 65, \"4\": 89, \"9\": 89, \"7\": 123, \"12\": 138, \"1\": 74, \"6\": 113, \"3\": 46, \"8\": 16, \"0\": 1}, \"12\": {\"6\": 87, \"4\": 124, \"3\": 29, \"13\": 149, \"15\": 134, \"12\": 155, \"9\": 67, \"7\": 97, \"1\": 78, \"5\": 46, \"10\": 81, \"2\": 129, \"14\": 15, \"8\": 9}, \"9\": {\"15\": 91, \"3\": 137, \"5\": 108, \"12\": 71, \"8\": 57, \"14\": 81, \"7\": 116, \"6\": 105, \"2\": 74, \"1\": 144, \"4\": 50, \"9\": 115, \"13\": 39, \"10\": 4, \"0\": 7, \"11\": 1}, \"1\": {\"2\": 80, \"9\": 124, \"10\": 6, \"15\": 104, \"1\": 131, \"6\": 95, \"7\": 107, \"3\": 126, \"12\": 78, \"5\": 135, \"8\": 71, \"0\": 11, \"4\": 42, \"13\": 33, \"14\": 56, \"11\": 1}, \"11\": {\"11\": 814, \"0\": 312, \"8\": 48, \"14\": 16, \"3\": 8, \"9\": 1, \"5\": 1}, \"13\": {\"9\": 44, \"12\": 151, \"2\": 139, \"10\": 165, \"13\": 283, \"4\": 111, \"1\": 36, \"15\": 136, \"7\": 58, \"6\": 48, \"5\": 16, \"14\": 2, \"3\": 10, \"8\": 1}}, \"ORACLE.run1_38\": {\"5\": {\"8\": 274, \"5\": 307, \"14\": 28, \"15\": 150, \"2\": 63, \"9\": 187, \"12\": 112, \"7\": 77, \"13\": 2}, \"8\": {\"2\": 122, \"5\": 253, \"8\": 239, \"12\": 155, \"15\": 130, \"9\": 134, \"14\": 56, \"7\": 102, \"0\": 2, \"13\": 7}, \"11\": {\"11\": 1176, \"3\": 24}, \"1\": {\"6\": 501, \"1\": 675, \"15\": 24}, \"10\": {\"10\": 663, \"0\": 276, \"4\": 132, \"13\": 80, \"3\": 46, \"7\": 2, \"14\": 1}, \"15\": {\"15\": 783, \"8\": 71, \"12\": 78, \"5\": 132, \"1\": 79, \"6\": 49, \"9\": 7, \"2\": 1}, \"3\": {\"3\": 1167, \"0\": 1, \"10\": 8, \"11\": 24}, \"7\": {\"2\": 197, \"13\": 64, \"7\": 525, \"5\": 25, \"0\": 28, \"14\": 194, \"9\": 92, \"8\": 59, \"12\": 1, \"4\": 15}, \"4\": {\"14\": 16, \"4\": 766, \"10\": 158, \"13\": 84, \"0\": 167, \"7\": 9}, \"14\": {\"14\": 496, \"13\": 93, \"4\": 51, \"2\": 249, \"9\": 7, \"7\": 233, \"12\": 1, \"0\": 34, \"8\": 22, \"5\": 8, \"10\": 5, \"15\": 1}, \"9\": {\"8\": 159, \"7\": 113, \"5\": 215, \"9\": 594, \"2\": 98, \"14\": 15, \"15\": 5, \"12\": 1}, \"12\": {\"12\": 798, \"8\": 172, \"15\": 45, \"5\": 146, \"14\": 12, \"2\": 17, \"9\": 6, \"7\": 4}, \"6\": {\"6\": 679, \"1\": 503, \"15\": 18}, \"2\": {\"8\": 77, \"2\": 438, \"14\": 261, \"7\": 254, \"9\": 89, \"5\": 38, \"13\": 30, \"12\": 2, \"0\": 10, \"10\": 1}, \"0\": {\"13\": 278, \"14\": 48, \"0\": 281, \"10\": 315, \"7\": 86, \"3\": 65, \"2\": 35, \"4\": 77, \"9\": 11, \"8\": 3, \"5\": 1}, \"13\": {\"0\": 276, \"8\": 2, \"10\": 107, \"13\": 560, \"7\": 84, \"14\": 58, \"4\": 76, \"2\": 35, \"5\": 1, \"9\": 1}}, \"ORACLE.run1_8\": {\"9\": {\"9\": 1011, \"3\": 180, \"2\": 8, \"15\": 1}, \"10\": {\"10\": 191, \"5\": 201, \"4\": 43, \"6\": 140, \"13\": 202, \"1\": 149, \"7\": 161, \"11\": 75, \"14\": 4, \"8\": 34}, \"13\": {\"13\": 316, \"6\": 122, \"1\": 87, \"7\": 210, \"5\": 202, \"10\": 200, \"11\": 34, \"8\": 9, \"12\": 6, \"4\": 11, \"15\": 3}, \"0\": {\"0\": 1181, \"14\": 19}, \"1\": {\"11\": 163, \"6\": 149, \"5\": 140, \"1\": 181, \"10\": 134, \"7\": 135, \"13\": 103, \"8\": 105, \"4\": 77, \"14\": 13}, \"15\": {\"15\": 502, \"12\": 416, \"2\": 268, \"3\": 12, \"9\": 2}, \"5\": {\"5\": 258, \"6\": 94, \"4\": 47, \"10\": 187, \"7\": 105, \"13\": 241, \"11\": 87, \"12\": 9, \"1\": 133, \"8\": 26, \"14\": 7, \"15\": 6}, \"3\": {\"3\": 993, \"2\": 95, \"9\": 111, \"15\": 1}, \"6\": {\"5\": 95, \"8\": 118, \"10\": 139, \"4\": 95, \"13\": 103, \"11\": 116, \"1\": 124, \"6\": 205, \"7\": 201, \"14\": 4}, \"11\": {\"4\": 152, \"11\": 208, \"5\": 86, \"13\": 53, \"6\": 135, \"8\": 171, \"7\": 70, \"10\": 83, \"1\": 164, \"14\": 78}, \"8\": {\"6\": 109, \"14\": 155, \"11\": 183, \"4\": 228, \"1\": 95, \"8\": 303, \"7\": 53, \"10\": 28, \"13\": 17, \"5\": 29}, \"4\": {\"8\": 230, \"14\": 171, \"5\": 26, \"4\": 322, \"6\": 88, \"13\": 9, \"1\": 88, \"11\": 190, \"10\": 42, \"7\": 34}, \"12\": {\"15\": 451, \"12\": 566, \"2\": 181, \"13\": 2}, \"14\": {\"8\": 132, \"4\": 234, \"14\": 684, \"6\": 12, \"11\": 97, \"1\": 20, \"0\": 10, \"13\": 2, \"7\": 3, \"10\": 2, \"5\": 4}, \"2\": {\"12\": 179, \"2\": 498, \"15\": 301, \"3\": 201, \"9\": 19, \"13\": 1, \"10\": 1}, \"7\": {\"11\": 63, \"6\": 184, \"5\": 134, \"7\": 267, \"10\": 168, \"1\": 124, \"13\": 194, \"8\": 39, \"4\": 27}}, \"ORACLE.run1_50\": {\"7\": {\"7\": 552, \"4\": 456, \"5\": 131, \"6\": 15, \"9\": 17, \"15\": 24, \"12\": 3, \"3\": 2}, \"3\": {\"3\": 653, \"6\": 141, \"15\": 70, \"11\": 79, \"5\": 116, \"9\": 27, \"13\": 67, \"12\": 33, \"7\": 10, \"1\": 3, \"4\": 1}, \"8\": {\"10\": 207, \"8\": 666, \"1\": 214, \"3\": 1, \"13\": 97, \"0\": 11, \"14\": 1, \"2\": 2, \"11\": 1}, \"2\": {\"0\": 317, \"14\": 377, \"2\": 463, \"10\": 40, \"8\": 3}, \"14\": {\"0\": 213, \"14\": 567, \"2\": 375, \"10\": 43, \"1\": 1, \"8\": 1}, \"4\": {\"4\": 496, \"7\": 474, \"6\": 20, \"5\": 136, \"9\": 29, \"15\": 44, \"12\": 1}, \"6\": {\"6\": 270, \"9\": 161, \"12\": 84, \"5\": 185, \"11\": 97, \"15\": 243, \"7\": 21, \"3\": 123, \"4\": 12, \"13\": 3, \"1\": 1}, \"15\": {\"6\": 273, \"5\": 187, \"9\": 182, \"3\": 67, \"15\": 278, \"11\": 78, \"12\": 88, \"4\": 21, \"7\": 24, \"13\": 2}, \"10\": {\"10\": 597, \"0\": 210, \"1\": 58, \"8\": 272, \"2\": 28, \"14\": 33, \"13\": 2}, \"11\": {\"11\": 448, \"13\": 81, \"9\": 107, \"6\": 111, \"15\": 79, \"5\": 28, \"12\": 249, \"3\": 75, \"1\": 22}, \"13\": {\"13\": 668, \"11\": 106, \"1\": 268, \"8\": 48, \"12\": 21, \"3\": 67, \"15\": 4, \"6\": 7, \"5\": 8, \"9\": 2, \"10\": 1}, \"9\": {\"11\": 110, \"9\": 337, \"7\": 21, \"15\": 211, \"12\": 224, \"6\": 168, \"5\": 83, \"3\": 15, \"4\": 30, \"1\": 1}, \"0\": {\"0\": 465, \"10\": 239, \"2\": 274, \"14\": 201, \"8\": 19, \"1\": 2}, \"1\": {\"1\": 566, \"13\": 329, \"8\": 187, \"11\": 24, \"10\": 68, \"0\": 16, \"3\": 3, \"12\": 4, \"2\": 1, \"14\": 1, \"15\": 1}, \"12\": {\"6\": 88, \"13\": 11, \"9\": 199, \"5\": 20, \"12\": 523, \"11\": 257, \"15\": 76, \"3\": 25, \"1\": 1}, \"5\": {\"15\": 131, \"6\": 132, \"7\": 250, \"4\": 171, \"5\": 272, \"13\": 35, \"1\": 3, \"3\": 59, \"11\": 66, \"9\": 53, \"12\": 28}}, \"ORACLE.run1_32\": {\"8\": {\"14\": 205, \"5\": 130, \"0\": 236, \"7\": 149, \"8\": 286, \"3\": 17, \"2\": 69, \"15\": 77, \"4\": 29, \"13\": 2}, \"14\": {\"7\": 188, \"14\": 327, \"2\": 116, \"8\": 171, \"5\": 97, \"0\": 217, \"15\": 20, \"4\": 45, \"13\": 2, \"3\": 16, \"1\": 1}, \"2\": {\"13\": 72, \"2\": 474, \"8\": 55, \"4\": 348, \"3\": 110, \"14\": 82, \"1\": 11, \"9\": 6, \"0\": 32, \"7\": 7, \"5\": 2, \"15\": 1}, \"0\": {\"5\": 188, \"8\": 194, \"0\": 271, \"7\": 245, \"15\": 65, \"14\": 198, \"2\": 24, \"4\": 11, \"13\": 1, \"1\": 2, \"3\": 1}, \"1\": {\"9\": 30, \"1\": 1103, \"4\": 17, \"2\": 32, \"8\": 2, \"14\": 7, \"13\": 3, \"0\": 3, \"5\": 1, \"15\": 1, \"7\": 1}, \"10\": {\"10\": 932, \"12\": 181, \"6\": 87}, \"11\": {\"3\": 31, \"11\": 950, \"9\": 118, \"13\": 83, \"4\": 7, \"12\": 11}, \"5\": {\"15\": 195, \"5\": 329, \"0\": 173, \"7\": 260, \"14\": 113, \"8\": 123, \"2\": 6, \"1\": 1}, \"15\": {\"15\": 805, \"0\": 57, \"5\": 197, \"7\": 71, \"8\": 59, \"14\": 11}, \"3\": {\"3\": 481, \"13\": 312, \"4\": 230, \"2\": 131, \"14\": 11, \"9\": 8, \"8\": 12, \"0\": 2, \"11\": 13}, \"12\": {\"12\": 868, \"10\": 106, \"9\": 177, \"1\": 3, \"11\": 40, \"13\": 2, \"6\": 4}, \"7\": {\"8\": 149, \"5\": 248, \"7\": 317, \"0\": 243, \"14\": 163, \"15\": 70, \"2\": 9, \"4\": 1}, \"13\": {\"9\": 74, \"13\": 406, \"4\": 193, \"2\": 87, \"11\": 115, \"3\": 315, \"8\": 5, \"1\": 3, \"14\": 1, \"7\": 1}, \"6\": {\"6\": 1088, \"10\": 110, \"12\": 2}, \"4\": {\"3\": 226, \"13\": 172, \"2\": 321, \"14\": 30, \"4\": 385, \"0\": 10, \"8\": 24, \"9\": 15, \"7\": 1, \"1\": 11, \"11\": 4, \"15\": 1}, \"9\": {\"9\": 563, \"4\": 91, \"11\": 91, \"12\": 198, \"13\": 119, \"1\": 48, \"3\": 42, \"2\": 39, \"6\": 1, \"10\": 8}}, \"ORACLE.run1_26\": {\"4\": {\"4\": 810, \"3\": 116, \"13\": 192, \"12\": 48, \"8\": 2, \"7\": 14, \"9\": 18}, \"12\": {\"12\": 438, \"3\": 115, \"9\": 161, \"7\": 127, \"2\": 58, \"8\": 120, \"0\": 19, \"13\": 140, \"4\": 20, \"10\": 2}, \"10\": {\"14\": 206, \"2\": 36, \"11\": 44, \"1\": 86, \"5\": 80, \"10\": 217, \"6\": 143, \"15\": 148, \"0\": 217, \"7\": 6, \"8\": 16, \"9\": 1}, \"0\": {\"14\": 176, \"15\": 75, \"0\": 327, \"2\": 109, \"5\": 40, \"10\": 231, \"9\": 25, \"1\": 27, \"8\": 66, \"6\": 60, \"7\": 43, \"12\": 7, \"3\": 4, \"11\": 8, \"13\": 2}, \"13\": {\"4\": 167, \"12\": 142, \"13\": 372, \"9\": 119, \"7\": 73, \"3\": 227, \"8\": 50, \"2\": 40, \"15\": 1, \"0\": 6, \"10\": 1, \"14\": 2}, \"9\": {\"3\": 164, \"7\": 161, \"12\": 117, \"9\": 177, \"14\": 9, \"13\": 146, \"0\": 48, \"8\": 174, \"2\": 165, \"4\": 24, \"10\": 11, \"15\": 3, \"6\": 1}, \"3\": {\"2\": 79, \"3\": 334, \"9\": 174, \"13\": 193, \"7\": 180, \"12\": 99, \"4\": 58, \"8\": 80, \"0\": 3}, \"2\": {\"2\": 261, \"14\": 35, \"0\": 124, \"9\": 161, \"3\": 84, \"8\": 184, \"10\": 43, \"12\": 49, \"7\": 190, \"13\": 39, \"15\": 16, \"5\": 6, \"6\": 5, \"1\": 2, \"11\": 1}, \"5\": {\"5\": 279, \"15\": 188, \"6\": 181, \"1\": 167, \"14\": 112, \"10\": 82, \"11\": 146, \"0\": 38, \"8\": 1, \"2\": 6}, \"14\": {\"6\": 161, \"14\": 236, \"1\": 115, \"0\": 154, \"10\": 220, \"11\": 36, \"15\": 161, \"5\": 91, \"2\": 20, \"8\": 4, \"3\": 1, \"9\": 1}, \"8\": {\"8\": 257, \"7\": 198, \"10\": 32, \"9\": 136, \"14\": 21, \"3\": 78, \"2\": 221, \"0\": 89, \"12\": 111, \"13\": 46, \"4\": 4, \"15\": 4, \"11\": 1, \"1\": 1, \"6\": 1}, \"7\": {\"4\": 7, \"13\": 51, \"9\": 186, \"8\": 222, \"12\": 104, \"7\": 239, \"3\": 160, \"2\": 168, \"0\": 49, \"10\": 8, \"14\": 4, \"15\": 2}, \"6\": {\"6\": 202, \"0\": 52, \"11\": 129, \"15\": 195, \"14\": 130, \"10\": 109, \"1\": 193, \"5\": 184, \"2\": 4, \"7\": 1, \"8\": 1}, \"11\": {\"6\": 145, \"11\": 565, \"1\": 157, \"0\": 7, \"15\": 102, \"5\": 154, \"10\": 40, \"14\": 29, \"2\": 1}, \"15\": {\"5\": 178, \"14\": 153, \"15\": 205, \"11\": 87, \"6\": 174, \"10\": 163, \"1\": 128, \"0\": 91, \"8\": 5, \"12\": 1, \"2\": 12, \"9\": 2, \"7\": 1}, \"1\": {\"1\": 379, \"6\": 189, \"5\": 165, \"14\": 109, \"10\": 75, \"15\": 131, \"11\": 112, \"0\": 38, \"2\": 2}}, \"ORACLE.run1_44\": {\"12\": {\"3\": 542, \"12\": 644, \"1\": 4, \"0\": 10}, \"7\": {\"10\": 293, \"7\": 336, \"6\": 45, \"4\": 153, \"2\": 14, \"5\": 49, \"9\": 227, \"14\": 69, \"15\": 6, \"13\": 7, \"1\": 1}, \"5\": {\"14\": 270, \"5\": 332, \"9\": 51, \"2\": 48, \"4\": 175, \"10\": 37, \"15\": 161, \"8\": 48, \"0\": 4, \"7\": 66, \"1\": 6, \"6\": 2}, \"15\": {\"2\": 97, \"8\": 195, \"5\": 158, \"4\": 78, \"15\": 360, \"14\": 139, \"1\": 83, \"0\": 56, \"10\": 20, \"9\": 5, \"7\": 9}, \"8\": {\"1\": 90, \"12\": 5, \"15\": 220, \"8\": 430, \"0\": 329, \"4\": 15, \"5\": 45, \"14\": 37, \"2\": 24, \"3\": 3, \"10\": 1, \"9\": 1}, \"2\": {\"2\": 531, \"15\": 124, \"4\": 37, \"10\": 68, \"14\": 75, \"1\": 263, \"5\": 45, \"0\": 5, \"8\": 28, \"7\": 15, \"9\": 8, \"12\": 1}, \"13\": {\"13\": 668, \"6\": 407, \"9\": 77, \"11\": 29, \"7\": 12, \"10\": 4, \"4\": 3}, \"4\": {\"4\": 194, \"7\": 167, \"8\": 26, \"10\": 92, \"9\": 180, \"14\": 132, \"2\": 76, \"6\": 64, \"15\": 87, \"1\": 28, \"5\": 136, \"13\": 15, \"0\": 3}, \"0\": {\"0\": 675, \"12\": 13, \"2\": 14, \"15\": 51, \"8\": 329, \"1\": 88, \"5\": 4, \"3\": 26}, \"6\": {\"6\": 553, \"9\": 145, \"13\": 433, \"4\": 21, \"10\": 12, \"7\": 34, \"11\": 2}, \"9\": {\"9\": 220, \"7\": 202, \"10\": 130, \"4\": 116, \"6\": 193, \"14\": 76, \"5\": 37, \"2\": 49, \"8\": 2, \"13\": 154, \"15\": 16, \"1\": 3, \"11\": 2}, \"11\": {\"11\": 1183, \"13\": 17}, \"10\": {\"7\": 291, \"10\": 389, \"2\": 102, \"9\": 158, \"1\": 27, \"14\": 59, \"5\": 27, \"4\": 108, \"15\": 16, \"6\": 20, \"13\": 2, \"8\": 1}, \"14\": {\"4\": 178, \"7\": 73, \"14\": 315, \"5\": 279, \"15\": 140, \"10\": 88, \"2\": 51, \"9\": 53, \"8\": 12, \"1\": 8, \"6\": 3}, \"1\": {\"2\": 287, \"1\": 648, \"15\": 79, \"8\": 74, \"5\": 9, \"0\": 64, \"12\": 6, \"14\": 15, \"10\": 5, \"4\": 8, \"9\": 1, \"3\": 4}, \"3\": {\"12\": 495, \"3\": 646, \"1\": 14, \"0\": 41, \"8\": 4}}}, \"per_domain_accuracy\": {\"CORES_3\": {\"accuracy\": 0.9989098837209303, \"source?\": true}, \"CORES_4\": {\"accuracy\": 0.9981060606060606, \"source?\": true}, \"CORES_5\": {\"accuracy\": 0.9993016759776536, \"source?\": true}, \"CORES_1\": {\"accuracy\": 0.9989754098360656, \"source?\": true}, \"CORES_2\": {\"accuracy\": 0.9994703389830508, \"source?\": true}, \"ORACLE.run1_14\": {\"accuracy\": 0.44994791666666667, \"source?\": false}, \"ORACLE.run1_20\": {\"accuracy\": 0.21822916666666667, \"source?\": false}, \"ORACLE.run1_38\": {\"accuracy\": 0.5284895833333333, \"source?\": false}, \"ORACLE.run1_8\": {\"accuracy\": 0.4003125, \"source?\": false}, \"ORACLE.run1_50\": {\"accuracy\": 0.40734375, \"source?\": false}, \"ORACLE.run1_32\": {\"accuracy\": 0.49921875, \"source?\": false}, \"ORACLE.run1_26\": {\"accuracy\": 0.2759375, \"source?\": false}, \"ORACLE.run1_44\": {\"accuracy\": 0.423125, \"source?\": false}}}, \"history\": {\"epoch_indices\": [1, 2, 3, 4, 5, 6, 7, 8, 9], \"train_label_loss\": [0.02659311498251922, 0.0098881125781286, 0.009656956511947918, 0.006373295630378031, 0.0056957230815432155, 0.004399128911940066, 0.00482076902297772, 0.0046372748663824365, 0.003008986284617537], \"source_val_label_loss\": [0.009453337639570236, 0.013736075721681118, 0.009818015620112419, 0.020573437213897705, 0.01179687213152647, 0.02687886357307434, 0.016574913635849953, 0.012496398761868477, 0.013006973080337048], \"target_val_label_loss\": [2.1518332958221436, 1.9287610054016113, 1.9909448623657227, 1.8918159008026123, 1.7749483585357666, 2.0729782581329346, 1.9273145198822021, 1.896146297454834, 1.8643461465835571], \"source_val_acc_label\": [0.9985373858447488, 0.998929794520548, 0.9988941210045662, 0.9981806506849316, 0.9989654680365296, 0.9978595890410958, 0.9990368150684932, 0.9994292237442922, 0.9993935502283106], \"target_val_acc_label\": [0.38739583333333333, 0.3635026041666667, 0.35694010416666666, 0.35960286458333335, 0.40032552083333334, 0.31559895833333335, 0.37349609375, 0.3733138020833333, 0.37763020833333333]}, \"dataset_metrics\": {\"source\": {\"train\": {\"n_unique_x\": 175135, \"n_unique_y\": 58, \"n_batch/episode\": 6284}, \"val\": {\"n_unique_x\": 37196, \"n_unique_y\": 58, \"n_batch/episode\": 876}, \"test\": {\"n_unique_x\": 37634, \"n_unique_y\": 58, \"n_batch/episode\": 891}}, \"target\": {\"train\": {\"n_unique_x\": 896000, \"n_unique_y\": 16, \"n_batch/episode\": 33600}, \"val\": {\"n_unique_x\": 192000, \"n_unique_y\": 16, \"n_batch/episode\": 4800}, \"test\": {\"n_unique_x\": 192000, \"n_unique_y\": 16, \"n_batch/episode\": 4800}}}}'"
      ]
     },
     "execution_count": 29,
     "metadata": {},
     "output_type": "execute_result"
    }
   ],
   "source": [
    "json.dumps(experiment)"
   ]
  }
 ],
 "metadata": {
  "celltoolbar": "Tags",
  "kernelspec": {
   "display_name": "Python 3 (ipykernel)",
   "language": "python",
   "name": "python3"
  },
  "language_info": {
   "codemirror_mode": {
    "name": "ipython",
    "version": 3
   },
   "file_extension": ".py",
   "mimetype": "text/x-python",
   "name": "python",
   "nbconvert_exporter": "python",
   "pygments_lexer": "ipython3",
   "version": "3.8.12"
  },
  "papermill": {
   "default_parameters": {},
   "duration": 3665.331384,
   "end_time": "2022-03-21T05:22:23.214734",
   "environment_variables": {},
   "exception": null,
   "input_path": "/root/csc500-main/csc500-notebooks/templates/tl_ptn_template.ipynb",
   "output_path": "trial.ipynb",
   "parameters": {
    "parameters": {
     "BEST_MODEL_PATH": "./best_model.pth",
     "NUM_LOGS_PER_EPOCH": 10,
     "criteria_for_best": "target_accuracy",
     "dataset_seed": 1337,
     "datasets": [
      {
       "domain_prefix": "CORES_",
       "domains": [
        1,
        2,
        3,
        4,
        5
       ],
       "episode_transforms": [],
       "labels": [
        "1-10.",
        "1-11.",
        "1-15.",
        "1-16.",
        "1-17.",
        "1-18.",
        "1-19.",
        "10-4.",
        "10-7.",
        "11-1.",
        "11-14.",
        "11-17.",
        "11-20.",
        "11-7.",
        "13-20.",
        "13-8.",
        "14-10.",
        "14-11.",
        "14-14.",
        "14-7.",
        "15-1.",
        "15-20.",
        "16-1.",
        "16-16.",
        "17-10.",
        "17-11.",
        "17-2.",
        "19-1.",
        "19-16.",
        "19-19.",
        "19-20.",
        "19-3.",
        "2-10.",
        "2-11.",
        "2-17.",
        "2-18.",
        "2-20.",
        "2-3.",
        "2-4.",
        "2-5.",
        "2-6.",
        "2-7.",
        "2-8.",
        "3-13.",
        "3-18.",
        "3-3.",
        "4-1.",
        "4-10.",
        "4-11.",
        "4-19.",
        "5-5.",
        "6-15.",
        "7-10.",
        "7-14.",
        "8-18.",
        "8-20.",
        "8-3.",
        "8-8."
       ],
       "num_examples_per_domain_per_label": -1,
       "pickle_path": "/root/csc500-main/datasets/cores.stratified_ds.2022A.pkl",
       "source_or_target_dataset": "source",
       "x_transforms": []
      },
      {
       "domain_prefix": "ORACLE.run1_",
       "domains": [
        32,
        38,
        8,
        44,
        14,
        50,
        20,
        26
       ],
       "episode_transforms": [],
       "labels": [
        "3123D52",
        "3123D65",
        "3123D79",
        "3123D80",
        "3123D54",
        "3123D70",
        "3123D7B",
        "3123D89",
        "3123D58",
        "3123D76",
        "3123D7D",
        "3123EFE",
        "3123D64",
        "3123D78",
        "3123D7E",
        "3124E4A"
       ],
       "num_examples_per_domain_per_label": 10000,
       "pickle_path": "/root/csc500-main/datasets/oracle.Run1_10kExamples_stratified_ds.2022A.pkl",
       "source_or_target_dataset": "target",
       "x_transforms": []
      }
     ],
     "device": "cuda",
     "experiment_name": "tl_1v2:cores-oracle.run1",
     "lr": 0.0001,
     "n_epoch": 50,
     "n_query": 2,
     "n_shot": 3,
     "n_way": 16,
     "patience": 3,
     "seed": 1337,
     "test_k_factor": 2,
     "torch_default_dtype": "torch.float32",
     "train_k_factor": 3,
     "val_k_factor": 2,
     "x_net": [
      {
       "class": "nnReshape",
       "kargs": {
        "shape": [
         -1,
         1,
         2,
         256
        ]
       }
      },
      {
       "class": "Conv2d",
       "kargs": {
        "bias": false,
        "in_channels": 1,
        "kernel_size": [
         1,
         7
        ],
        "out_channels": 256,
        "padding": [
         0,
         3
        ]
       }
      },
      {
       "class": "ReLU",
       "kargs": {
        "inplace": true
       }
      },
      {
       "class": "BatchNorm2d",
       "kargs": {
        "num_features": 256
       }
      },
      {
       "class": "Conv2d",
       "kargs": {
        "bias": true,
        "in_channels": 256,
        "kernel_size": [
         2,
         7
        ],
        "out_channels": 80,
        "padding": [
         0,
         3
        ]
       }
      },
      {
       "class": "ReLU",
       "kargs": {
        "inplace": true
       }
      },
      {
       "class": "BatchNorm2d",
       "kargs": {
        "num_features": 80
       }
      },
      {
       "class": "Flatten",
       "kargs": {}
      },
      {
       "class": "Linear",
       "kargs": {
        "in_features": 20480,
        "out_features": 256
       }
      },
      {
       "class": "ReLU",
       "kargs": {
        "inplace": true
       }
      },
      {
       "class": "BatchNorm1d",
       "kargs": {
        "num_features": 256
       }
      },
      {
       "class": "Linear",
       "kargs": {
        "in_features": 256,
        "out_features": 256
       }
      }
     ]
    }
   },
   "start_time": "2022-03-21T04:21:17.883350",
   "version": "2.3.4"
  }
 },
 "nbformat": 4,
 "nbformat_minor": 5
}