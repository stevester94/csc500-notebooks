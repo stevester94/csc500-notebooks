{
 "cells": [
  {
   "cell_type": "markdown",
   "id": "9fea5f46",
   "metadata": {
    "papermill": {
     "duration": 0.029336,
     "end_time": "2022-03-21T01:59:55.323573",
     "exception": false,
     "start_time": "2022-03-21T01:59:55.294237",
     "status": "completed"
    },
    "tags": []
   },
   "source": [
    "# Transfer Learning Template"
   ]
  },
  {
   "cell_type": "code",
   "execution_count": 1,
   "id": "0902182a",
   "metadata": {
    "execution": {
     "iopub.execute_input": "2022-03-21T01:59:55.386752Z",
     "iopub.status.busy": "2022-03-21T01:59:55.385881Z",
     "iopub.status.idle": "2022-03-21T01:59:57.127059Z",
     "shell.execute_reply": "2022-03-21T01:59:57.126012Z"
    },
    "papermill": {
     "duration": 1.779853,
     "end_time": "2022-03-21T01:59:57.127260",
     "exception": false,
     "start_time": "2022-03-21T01:59:55.347407",
     "status": "completed"
    },
    "tags": []
   },
   "outputs": [],
   "source": [
    "%load_ext autoreload\n",
    "%autoreload 2\n",
    "%matplotlib inline\n",
    "\n",
    "    \n",
    "import os, json, sys, time, random\n",
    "import numpy as np\n",
    "import torch\n",
    "from torch.optim import Adam\n",
    "from  easydict import EasyDict\n",
    "import matplotlib.pyplot as plt\n",
    "\n",
    "from steves_models.steves_ptn import Steves_Prototypical_Network\n",
    "\n",
    "from steves_utils.lazy_iterable_wrapper import Lazy_Iterable_Wrapper\n",
    "from steves_utils.iterable_aggregator import Iterable_Aggregator\n",
    "from steves_utils.ptn_train_eval_test_jig import  PTN_Train_Eval_Test_Jig\n",
    "from steves_utils.torch_sequential_builder import build_sequential\n",
    "from steves_utils.torch_utils import get_dataset_metrics, ptn_confusion_by_domain_over_dataloader\n",
    "from steves_utils.utils_v2 import (per_domain_accuracy_from_confusion, get_datasets_base_path)\n",
    "from steves_utils.PTN.utils import independent_accuracy_assesment\n",
    "\n",
    "from torch.utils.data import DataLoader\n",
    "\n",
    "from steves_utils.stratified_dataset.episodic_accessor import Episodic_Accessor_Factory\n",
    "\n",
    "from steves_utils.ptn_do_report import (\n",
    "    get_loss_curve,\n",
    "    get_results_table,\n",
    "    get_parameters_table,\n",
    "    get_domain_accuracies,\n",
    ")\n",
    "\n",
    "from steves_utils.transforms import get_chained_transform"
   ]
  },
  {
   "cell_type": "markdown",
   "id": "41c840b4",
   "metadata": {
    "papermill": {
     "duration": 0.019941,
     "end_time": "2022-03-21T01:59:57.172621",
     "exception": false,
     "start_time": "2022-03-21T01:59:57.152680",
     "status": "completed"
    },
    "tags": []
   },
   "source": [
    "# Allowed Parameters\n",
    "These are allowed parameters, not defaults\n",
    "Each of these values need to be present in the injected parameters (the notebook will raise an exception if they are not present)\n",
    "\n",
    "Papermill uses the cell tag \"parameters\" to inject the real parameters below this cell.\n",
    "Enable tags to see what I mean"
   ]
  },
  {
   "cell_type": "code",
   "execution_count": 2,
   "id": "fd44eb83",
   "metadata": {
    "execution": {
     "iopub.execute_input": "2022-03-21T01:59:57.217529Z",
     "iopub.status.busy": "2022-03-21T01:59:57.217139Z",
     "iopub.status.idle": "2022-03-21T01:59:57.240520Z",
     "shell.execute_reply": "2022-03-21T01:59:57.239795Z"
    },
    "papermill": {
     "duration": 0.048292,
     "end_time": "2022-03-21T01:59:57.240673",
     "exception": false,
     "start_time": "2022-03-21T01:59:57.192381",
     "status": "completed"
    },
    "tags": []
   },
   "outputs": [],
   "source": [
    "required_parameters = {\n",
    "    \"experiment_name\",\n",
    "    \"lr\",\n",
    "    \"device\",\n",
    "    \"seed\",\n",
    "    \"dataset_seed\",\n",
    "    \"n_shot\",\n",
    "    \"n_query\",\n",
    "    \"n_way\",\n",
    "    \"train_k_factor\",\n",
    "    \"val_k_factor\",\n",
    "    \"test_k_factor\",\n",
    "    \"n_epoch\",\n",
    "    \"patience\",\n",
    "    \"criteria_for_best\",\n",
    "    \"x_net\",\n",
    "    \"datasets\",\n",
    "    \"torch_default_dtype\",\n",
    "    \"NUM_LOGS_PER_EPOCH\",\n",
    "    \"BEST_MODEL_PATH\",\n",
    "    \"x_shape\",\n",
    "}"
   ]
  },
  {
   "cell_type": "code",
   "execution_count": 3,
   "id": "fa3f0049",
   "metadata": {
    "execution": {
     "iopub.execute_input": "2022-03-21T01:59:57.301181Z",
     "iopub.status.busy": "2022-03-21T01:59:57.294253Z",
     "iopub.status.idle": "2022-03-21T01:59:57.321072Z",
     "shell.execute_reply": "2022-03-21T01:59:57.320368Z"
    },
    "papermill": {
     "duration": 0.054589,
     "end_time": "2022-03-21T01:59:57.321238",
     "exception": false,
     "start_time": "2022-03-21T01:59:57.266649",
     "status": "completed"
    },
    "tags": [
     "parameters"
    ]
   },
   "outputs": [],
   "source": [
    "from steves_utils.CORES.utils import (\n",
    "    ALL_NODES,\n",
    "    ALL_NODES_MINIMUM_1000_EXAMPLES,\n",
    "    ALL_DAYS\n",
    ")\n",
    "\n",
    "from steves_utils.ORACLE.utils_v2 import (\n",
    "    ALL_DISTANCES_FEET_NARROWED,\n",
    "    ALL_RUNS,\n",
    "    ALL_SERIAL_NUMBERS,\n",
    ")\n",
    "\n",
    "standalone_parameters = {}\n",
    "standalone_parameters[\"experiment_name\"] = \"STANDALONE PTN\"\n",
    "standalone_parameters[\"lr\"] = 0.001\n",
    "standalone_parameters[\"device\"] = \"cuda\"\n",
    "\n",
    "standalone_parameters[\"seed\"] = 1337\n",
    "standalone_parameters[\"dataset_seed\"] = 1337\n",
    "\n",
    "standalone_parameters[\"n_way\"] = 8\n",
    "standalone_parameters[\"n_shot\"] = 3\n",
    "standalone_parameters[\"n_query\"]  = 2\n",
    "standalone_parameters[\"train_k_factor\"] = 1\n",
    "standalone_parameters[\"val_k_factor\"] = 2\n",
    "standalone_parameters[\"test_k_factor\"] = 2\n",
    "\n",
    "\n",
    "standalone_parameters[\"n_epoch\"] = 50\n",
    "\n",
    "standalone_parameters[\"patience\"] = 10\n",
    "standalone_parameters[\"criteria_for_best\"] = \"source_loss\"\n",
    "\n",
    "standalone_parameters[\"datasets\"] = [\n",
    "    {\n",
    "        \"labels\": ALL_SERIAL_NUMBERS,\n",
    "        \"domains\": ALL_DISTANCES_FEET_NARROWED,\n",
    "        \"num_examples_per_domain_per_label\": 100,\n",
    "        \"pickle_path\": os.path.join(get_datasets_base_path(), \"oracle.Run1_framed_2000Examples_stratified_ds.2022A.pkl\"),\n",
    "        \"source_or_target_dataset\": \"source\",\n",
    "        \"x_transforms\": [\"unit_mag\", \"minus_two\"],\n",
    "        \"episode_transforms\": [],\n",
    "        \"domain_prefix\": \"ORACLE_\"\n",
    "    },\n",
    "    {\n",
    "        \"labels\": ALL_NODES,\n",
    "        \"domains\": ALL_DAYS,\n",
    "        \"num_examples_per_domain_per_label\": 100,\n",
    "        \"pickle_path\": os.path.join(get_datasets_base_path(), \"cores.stratified_ds.2022A.pkl\"),\n",
    "        \"source_or_target_dataset\": \"target\",\n",
    "        \"x_transforms\": [\"unit_power\", \"times_zero\"],\n",
    "        \"episode_transforms\": [],\n",
    "        \"domain_prefix\": \"CORES_\"\n",
    "    }   \n",
    "]\n",
    "\n",
    "standalone_parameters[\"torch_default_dtype\"] = \"torch.float32\" \n",
    "\n",
    "\n",
    "\n",
    "standalone_parameters[\"x_net\"] =     [\n",
    "    {\"class\": \"nnReshape\", \"kargs\": {\"shape\":[-1, 1, 2, 256]}},\n",
    "    {\"class\": \"Conv2d\", \"kargs\": { \"in_channels\":1, \"out_channels\":256, \"kernel_size\":(1,7), \"bias\":False, \"padding\":(0,3), },},\n",
    "    {\"class\": \"ReLU\", \"kargs\": {\"inplace\": True}},\n",
    "    {\"class\": \"BatchNorm2d\", \"kargs\": {\"num_features\":256}},\n",
    "\n",
    "    {\"class\": \"Conv2d\", \"kargs\": { \"in_channels\":256, \"out_channels\":80, \"kernel_size\":(2,7), \"bias\":True, \"padding\":(0,3), },},\n",
    "    {\"class\": \"ReLU\", \"kargs\": {\"inplace\": True}},\n",
    "    {\"class\": \"BatchNorm2d\", \"kargs\": {\"num_features\":80}},\n",
    "    {\"class\": \"Flatten\", \"kargs\": {}},\n",
    "\n",
    "    {\"class\": \"Linear\", \"kargs\": {\"in_features\": 80*256, \"out_features\": 256}}, # 80 units per IQ pair\n",
    "    {\"class\": \"ReLU\", \"kargs\": {\"inplace\": True}},\n",
    "    {\"class\": \"BatchNorm1d\", \"kargs\": {\"num_features\":256}},\n",
    "\n",
    "    {\"class\": \"Linear\", \"kargs\": {\"in_features\": 256, \"out_features\": 256}},\n",
    "]\n",
    "\n",
    "# Parameters relevant to results\n",
    "# These parameters will basically never need to change\n",
    "standalone_parameters[\"NUM_LOGS_PER_EPOCH\"] = 10\n",
    "standalone_parameters[\"BEST_MODEL_PATH\"] = \"./best_model.pth\"\n",
    "\n",
    "\n",
    "\n",
    "\n"
   ]
  },
  {
   "cell_type": "code",
   "execution_count": 4,
   "id": "985bccdf",
   "metadata": {
    "execution": {
     "iopub.execute_input": "2022-03-21T01:59:57.380432Z",
     "iopub.status.busy": "2022-03-21T01:59:57.379680Z",
     "iopub.status.idle": "2022-03-21T01:59:57.399490Z",
     "shell.execute_reply": "2022-03-21T01:59:57.398665Z"
    },
    "papermill": {
     "duration": 0.054446,
     "end_time": "2022-03-21T01:59:57.399656",
     "exception": false,
     "start_time": "2022-03-21T01:59:57.345210",
     "status": "completed"
    },
    "tags": [
     "injected-parameters"
    ]
   },
   "outputs": [],
   "source": [
    "# Parameters\n",
    "parameters = {\n",
    "    \"experiment_name\": \"tl_1v2:cores-oracle.run1\",\n",
    "    \"device\": \"cuda\",\n",
    "    \"lr\": 0.0001,\n",
    "    \"n_shot\": 3,\n",
    "    \"n_query\": 2,\n",
    "    \"train_k_factor\": 3,\n",
    "    \"val_k_factor\": 2,\n",
    "    \"test_k_factor\": 2,\n",
    "    \"torch_default_dtype\": \"torch.float32\",\n",
    "    \"n_epoch\": 50,\n",
    "    \"patience\": 3,\n",
    "    \"criteria_for_best\": \"target_accuracy\",\n",
    "    \"x_net\": [\n",
    "        {\"class\": \"nnReshape\", \"kargs\": {\"shape\": [-1, 1, 2, 256]}},\n",
    "        {\n",
    "            \"class\": \"Conv2d\",\n",
    "            \"kargs\": {\n",
    "                \"in_channels\": 1,\n",
    "                \"out_channels\": 256,\n",
    "                \"kernel_size\": [1, 7],\n",
    "                \"bias\": False,\n",
    "                \"padding\": [0, 3],\n",
    "            },\n",
    "        },\n",
    "        {\"class\": \"ReLU\", \"kargs\": {\"inplace\": True}},\n",
    "        {\"class\": \"BatchNorm2d\", \"kargs\": {\"num_features\": 256}},\n",
    "        {\n",
    "            \"class\": \"Conv2d\",\n",
    "            \"kargs\": {\n",
    "                \"in_channels\": 256,\n",
    "                \"out_channels\": 80,\n",
    "                \"kernel_size\": [2, 7],\n",
    "                \"bias\": True,\n",
    "                \"padding\": [0, 3],\n",
    "            },\n",
    "        },\n",
    "        {\"class\": \"ReLU\", \"kargs\": {\"inplace\": True}},\n",
    "        {\"class\": \"BatchNorm2d\", \"kargs\": {\"num_features\": 80}},\n",
    "        {\"class\": \"Flatten\", \"kargs\": {}},\n",
    "        {\"class\": \"Linear\", \"kargs\": {\"in_features\": 20480, \"out_features\": 256}},\n",
    "        {\"class\": \"ReLU\", \"kargs\": {\"inplace\": True}},\n",
    "        {\"class\": \"BatchNorm1d\", \"kargs\": {\"num_features\": 256}},\n",
    "        {\"class\": \"Linear\", \"kargs\": {\"in_features\": 256, \"out_features\": 256}},\n",
    "    ],\n",
    "    \"NUM_LOGS_PER_EPOCH\": 10,\n",
    "    \"BEST_MODEL_PATH\": \"./best_model.pth\",\n",
    "    \"n_way\": 16,\n",
    "    \"datasets\": [\n",
    "        {\n",
    "            \"labels\": [\n",
    "                \"1-10.\",\n",
    "                \"1-11.\",\n",
    "                \"1-15.\",\n",
    "                \"1-16.\",\n",
    "                \"1-17.\",\n",
    "                \"1-18.\",\n",
    "                \"1-19.\",\n",
    "                \"10-4.\",\n",
    "                \"10-7.\",\n",
    "                \"11-1.\",\n",
    "                \"11-14.\",\n",
    "                \"11-17.\",\n",
    "                \"11-20.\",\n",
    "                \"11-7.\",\n",
    "                \"13-20.\",\n",
    "                \"13-8.\",\n",
    "                \"14-10.\",\n",
    "                \"14-11.\",\n",
    "                \"14-14.\",\n",
    "                \"14-7.\",\n",
    "                \"15-1.\",\n",
    "                \"15-20.\",\n",
    "                \"16-1.\",\n",
    "                \"16-16.\",\n",
    "                \"17-10.\",\n",
    "                \"17-11.\",\n",
    "                \"17-2.\",\n",
    "                \"19-1.\",\n",
    "                \"19-16.\",\n",
    "                \"19-19.\",\n",
    "                \"19-20.\",\n",
    "                \"19-3.\",\n",
    "                \"2-10.\",\n",
    "                \"2-11.\",\n",
    "                \"2-17.\",\n",
    "                \"2-18.\",\n",
    "                \"2-20.\",\n",
    "                \"2-3.\",\n",
    "                \"2-4.\",\n",
    "                \"2-5.\",\n",
    "                \"2-6.\",\n",
    "                \"2-7.\",\n",
    "                \"2-8.\",\n",
    "                \"3-13.\",\n",
    "                \"3-18.\",\n",
    "                \"3-3.\",\n",
    "                \"4-1.\",\n",
    "                \"4-10.\",\n",
    "                \"4-11.\",\n",
    "                \"4-19.\",\n",
    "                \"5-5.\",\n",
    "                \"6-15.\",\n",
    "                \"7-10.\",\n",
    "                \"7-14.\",\n",
    "                \"8-18.\",\n",
    "                \"8-20.\",\n",
    "                \"8-3.\",\n",
    "                \"8-8.\",\n",
    "            ],\n",
    "            \"domains\": [1, 2, 3, 4, 5],\n",
    "            \"num_examples_per_domain_per_label\": -1,\n",
    "            \"pickle_path\": \"/root/csc500-main/datasets/cores.stratified_ds.2022A.pkl\",\n",
    "            \"source_or_target_dataset\": \"source\",\n",
    "            \"x_transforms\": [\"unit_power\"],\n",
    "            \"episode_transforms\": [],\n",
    "            \"domain_prefix\": \"CORES_\",\n",
    "        },\n",
    "        {\n",
    "            \"labels\": [\n",
    "                \"3123D52\",\n",
    "                \"3123D65\",\n",
    "                \"3123D79\",\n",
    "                \"3123D80\",\n",
    "                \"3123D54\",\n",
    "                \"3123D70\",\n",
    "                \"3123D7B\",\n",
    "                \"3123D89\",\n",
    "                \"3123D58\",\n",
    "                \"3123D76\",\n",
    "                \"3123D7D\",\n",
    "                \"3123EFE\",\n",
    "                \"3123D64\",\n",
    "                \"3123D78\",\n",
    "                \"3123D7E\",\n",
    "                \"3124E4A\",\n",
    "            ],\n",
    "            \"domains\": [32, 38, 8, 44, 14, 50, 20, 26],\n",
    "            \"num_examples_per_domain_per_label\": 10000,\n",
    "            \"pickle_path\": \"/root/csc500-main/datasets/oracle.Run1_10kExamples_stratified_ds.2022A.pkl\",\n",
    "            \"source_or_target_dataset\": \"target\",\n",
    "            \"x_transforms\": [\"unit_power\"],\n",
    "            \"episode_transforms\": [],\n",
    "            \"domain_prefix\": \"ORACLE.run1_\",\n",
    "        },\n",
    "    ],\n",
    "    \"dataset_seed\": 1337,\n",
    "    \"seed\": 1337,\n",
    "}\n"
   ]
  },
  {
   "cell_type": "code",
   "execution_count": 5,
   "id": "8fa1cc33",
   "metadata": {
    "execution": {
     "iopub.execute_input": "2022-03-21T01:59:57.451876Z",
     "iopub.status.busy": "2022-03-21T01:59:57.451200Z",
     "iopub.status.idle": "2022-03-21T01:59:57.471947Z",
     "shell.execute_reply": "2022-03-21T01:59:57.471115Z"
    },
    "papermill": {
     "duration": 0.04773,
     "end_time": "2022-03-21T01:59:57.472098",
     "exception": false,
     "start_time": "2022-03-21T01:59:57.424368",
     "status": "completed"
    },
    "tags": []
   },
   "outputs": [],
   "source": [
    "# Set this to True if you want to run this template directly\n",
    "STANDALONE = False\n",
    "if STANDALONE:\n",
    "    print(\"parameters not injected, running with standalone_parameters\")\n",
    "    parameters = standalone_parameters\n",
    "\n",
    "if not 'parameters' in locals() and not 'parameters' in globals():\n",
    "    raise Exception(\"Parameter injection failed\")\n",
    "\n",
    "#Use an easy dict for all the parameters\n",
    "p = EasyDict(parameters)\n",
    "\n",
    "if \"x_shape\" not in p:\n",
    "    p.x_shape = [2,256] # Default to this if we dont supply x_shape\n",
    "\n",
    "\n",
    "supplied_keys = set(p.keys())\n",
    "\n",
    "if  supplied_keys != required_parameters:\n",
    "    print(\"Parameters are incorrect\")\n",
    "    if len(supplied_keys - required_parameters)>0: print(\"Shouldn't have:\", str(supplied_keys - required_parameters))\n",
    "    if len(required_parameters - supplied_keys)>0: print(\"Need to have:\", str(required_parameters - supplied_keys))\n",
    "    raise RuntimeError(\"Parameters are incorrect\")"
   ]
  },
  {
   "cell_type": "code",
   "execution_count": 6,
   "id": "3a028d58",
   "metadata": {
    "execution": {
     "iopub.execute_input": "2022-03-21T01:59:57.526634Z",
     "iopub.status.busy": "2022-03-21T01:59:57.526057Z",
     "iopub.status.idle": "2022-03-21T01:59:57.547242Z",
     "shell.execute_reply": "2022-03-21T01:59:57.546416Z"
    },
    "papermill": {
     "duration": 0.045975,
     "end_time": "2022-03-21T01:59:57.547394",
     "exception": false,
     "start_time": "2022-03-21T01:59:57.501419",
     "status": "completed"
    },
    "tags": []
   },
   "outputs": [],
   "source": [
    "###################################\n",
    "# Set the RNGs and make it all deterministic\n",
    "###################################\n",
    "np.random.seed(p.seed)\n",
    "random.seed(p.seed)\n",
    "torch.manual_seed(p.seed)\n",
    "\n",
    "torch.use_deterministic_algorithms(True) "
   ]
  },
  {
   "cell_type": "code",
   "execution_count": 7,
   "id": "b691acf6",
   "metadata": {
    "execution": {
     "iopub.execute_input": "2022-03-21T01:59:57.597881Z",
     "iopub.status.busy": "2022-03-21T01:59:57.597236Z",
     "iopub.status.idle": "2022-03-21T01:59:57.618152Z",
     "shell.execute_reply": "2022-03-21T01:59:57.617429Z"
    },
    "papermill": {
     "duration": 0.045577,
     "end_time": "2022-03-21T01:59:57.618313",
     "exception": false,
     "start_time": "2022-03-21T01:59:57.572736",
     "status": "completed"
    },
    "tags": []
   },
   "outputs": [],
   "source": [
    "###########################################\n",
    "# The stratified datasets honor this\n",
    "###########################################\n",
    "torch.set_default_dtype(eval(p.torch_default_dtype))"
   ]
  },
  {
   "cell_type": "code",
   "execution_count": 8,
   "id": "b5fba671",
   "metadata": {
    "execution": {
     "iopub.execute_input": "2022-03-21T01:59:57.666253Z",
     "iopub.status.busy": "2022-03-21T01:59:57.665873Z",
     "iopub.status.idle": "2022-03-21T01:59:57.716646Z",
     "shell.execute_reply": "2022-03-21T01:59:57.715925Z"
    },
    "papermill": {
     "duration": 0.073339,
     "end_time": "2022-03-21T01:59:57.716795",
     "exception": false,
     "start_time": "2022-03-21T01:59:57.643456",
     "status": "completed"
    },
    "tags": []
   },
   "outputs": [],
   "source": [
    "###################################\n",
    "# Build the network(s)\n",
    "# Note: It's critical to do this AFTER setting the RNG\n",
    "###################################\n",
    "x_net = build_sequential(p.x_net)"
   ]
  },
  {
   "cell_type": "code",
   "execution_count": 9,
   "id": "5d7e61cc",
   "metadata": {
    "execution": {
     "iopub.execute_input": "2022-03-21T01:59:57.765398Z",
     "iopub.status.busy": "2022-03-21T01:59:57.764835Z",
     "iopub.status.idle": "2022-03-21T01:59:57.786247Z",
     "shell.execute_reply": "2022-03-21T01:59:57.785405Z"
    },
    "papermill": {
     "duration": 0.045017,
     "end_time": "2022-03-21T01:59:57.786402",
     "exception": false,
     "start_time": "2022-03-21T01:59:57.741385",
     "status": "completed"
    },
    "tags": []
   },
   "outputs": [],
   "source": [
    "start_time_secs = time.time()"
   ]
  },
  {
   "cell_type": "code",
   "execution_count": 10,
   "id": "c6b67dfd",
   "metadata": {
    "execution": {
     "iopub.execute_input": "2022-03-21T01:59:57.835490Z",
     "iopub.status.busy": "2022-03-21T01:59:57.835117Z",
     "iopub.status.idle": "2022-03-21T01:59:57.852687Z",
     "shell.execute_reply": "2022-03-21T01:59:57.851971Z"
    },
    "papermill": {
     "duration": 0.04074,
     "end_time": "2022-03-21T01:59:57.852838",
     "exception": false,
     "start_time": "2022-03-21T01:59:57.812098",
     "status": "completed"
    },
    "tags": []
   },
   "outputs": [],
   "source": [
    "p.domains_source = []\n",
    "p.domains_target = []\n",
    "\n",
    "\n",
    "train_original_source = []\n",
    "val_original_source   = []\n",
    "test_original_source  = []\n",
    "\n",
    "train_original_target = []\n",
    "val_original_target   = []\n",
    "test_original_target  = []"
   ]
  },
  {
   "cell_type": "code",
   "execution_count": 11,
   "id": "e3d9c3d3",
   "metadata": {
    "execution": {
     "iopub.execute_input": "2022-03-21T01:59:57.902416Z",
     "iopub.status.busy": "2022-03-21T01:59:57.902039Z",
     "iopub.status.idle": "2022-03-21T01:59:57.922479Z",
     "shell.execute_reply": "2022-03-21T01:59:57.921755Z"
    },
    "papermill": {
     "duration": 0.043447,
     "end_time": "2022-03-21T01:59:57.922631",
     "exception": false,
     "start_time": "2022-03-21T01:59:57.879184",
     "status": "completed"
    },
    "tags": []
   },
   "outputs": [],
   "source": [
    "# global_x_transform_func = lambda x: normalize(x.to(torch.get_default_dtype()), \"unit_power\") # unit_power, unit_mag\n",
    "# global_x_transform_func = lambda x: normalize(x, \"unit_power\") # unit_power, unit_mag"
   ]
  },
  {
   "cell_type": "code",
   "execution_count": 12,
   "id": "acb78fd2",
   "metadata": {
    "execution": {
     "iopub.execute_input": "2022-03-21T01:59:57.976531Z",
     "iopub.status.busy": "2022-03-21T01:59:57.975857Z",
     "iopub.status.idle": "2022-03-21T01:59:57.994238Z",
     "shell.execute_reply": "2022-03-21T01:59:57.993521Z"
    },
    "papermill": {
     "duration": 0.046042,
     "end_time": "2022-03-21T01:59:57.994388",
     "exception": false,
     "start_time": "2022-03-21T01:59:57.948346",
     "status": "completed"
    },
    "tags": []
   },
   "outputs": [],
   "source": [
    "def add_dataset(\n",
    "    labels,\n",
    "    domains,\n",
    "    pickle_path,\n",
    "    x_transforms,\n",
    "    episode_transforms,\n",
    "    domain_prefix,\n",
    "    num_examples_per_domain_per_label,\n",
    "    source_or_target_dataset:str,\n",
    "    iterator_seed=p.seed,\n",
    "    dataset_seed=p.dataset_seed,\n",
    "    n_shot=p.n_shot,\n",
    "    n_way=p.n_way,\n",
    "    n_query=p.n_query,\n",
    "    train_val_test_k_factors=(p.train_k_factor,p.val_k_factor,p.test_k_factor),\n",
    "):\n",
    "   \n",
    "    if x_transforms == []: x_transform = None\n",
    "    else: x_transform = get_chained_transform(x_transforms)\n",
    "    \n",
    "    if episode_transforms == []: episode_transform = None\n",
    "    else: raise Exception(\"episode_transforms not implemented\")\n",
    "    \n",
    "    episode_transform = lambda tup, _prefix=domain_prefix: (_prefix + str(tup[0]), tup[1])\n",
    "\n",
    "\n",
    "    eaf = Episodic_Accessor_Factory(\n",
    "        labels=labels,\n",
    "        domains=domains,\n",
    "        num_examples_per_domain_per_label=num_examples_per_domain_per_label,\n",
    "        iterator_seed=iterator_seed,\n",
    "        dataset_seed=dataset_seed,\n",
    "        n_shot=n_shot,\n",
    "        n_way=n_way,\n",
    "        n_query=n_query,\n",
    "        train_val_test_k_factors=train_val_test_k_factors,\n",
    "        pickle_path=pickle_path,\n",
    "        x_transform_func=x_transform,\n",
    "    )\n",
    "\n",
    "    train, val, test = eaf.get_train(), eaf.get_val(), eaf.get_test()\n",
    "    train = Lazy_Iterable_Wrapper(train, episode_transform)\n",
    "    val = Lazy_Iterable_Wrapper(val, episode_transform)\n",
    "    test = Lazy_Iterable_Wrapper(test, episode_transform)\n",
    "\n",
    "    if source_or_target_dataset==\"source\":\n",
    "        train_original_source.append(train)\n",
    "        val_original_source.append(val)\n",
    "        test_original_source.append(test)\n",
    "\n",
    "        p.domains_source.extend(\n",
    "            [domain_prefix + str(u) for u in domains]\n",
    "        )\n",
    "    elif source_or_target_dataset==\"target\":\n",
    "        train_original_target.append(train)\n",
    "        val_original_target.append(val)\n",
    "        test_original_target.append(test)\n",
    "        p.domains_target.extend(\n",
    "            [domain_prefix + str(u) for u in domains]\n",
    "        )\n",
    "    else:\n",
    "        raise Exception(f\"invalid source_or_target_dataset: {source_or_target_dataset}\")\n",
    "    "
   ]
  },
  {
   "cell_type": "code",
   "execution_count": 13,
   "id": "fe266617",
   "metadata": {
    "execution": {
     "iopub.execute_input": "2022-03-21T01:59:58.044928Z",
     "iopub.status.busy": "2022-03-21T01:59:58.044556Z",
     "iopub.status.idle": "2022-03-21T02:02:09.936450Z",
     "shell.execute_reply": "2022-03-21T02:02:09.935639Z"
    },
    "papermill": {
     "duration": 131.916006,
     "end_time": "2022-03-21T02:02:09.936634",
     "exception": false,
     "start_time": "2022-03-21T01:59:58.020628",
     "status": "completed"
    },
    "tags": []
   },
   "outputs": [],
   "source": [
    "for ds in p.datasets:\n",
    "    add_dataset(**ds)"
   ]
  },
  {
   "cell_type": "code",
   "execution_count": 14,
   "id": "b90d65ac",
   "metadata": {
    "execution": {
     "iopub.execute_input": "2022-03-21T02:02:09.987909Z",
     "iopub.status.busy": "2022-03-21T02:02:09.987238Z",
     "iopub.status.idle": "2022-03-21T02:02:10.017645Z",
     "shell.execute_reply": "2022-03-21T02:02:10.016923Z"
    },
    "papermill": {
     "duration": 0.055485,
     "end_time": "2022-03-21T02:02:10.017803",
     "exception": false,
     "start_time": "2022-03-21T02:02:09.962318",
     "status": "completed"
    },
    "tags": []
   },
   "outputs": [],
   "source": [
    "# from steves_utils.CORES.utils import (\n",
    "#     ALL_NODES,\n",
    "#     ALL_NODES_MINIMUM_1000_EXAMPLES,\n",
    "#     ALL_DAYS\n",
    "# )\n",
    "\n",
    "# add_dataset(\n",
    "#     labels=ALL_NODES,\n",
    "#     domains = ALL_DAYS,\n",
    "#     num_examples_per_domain_per_label=100,\n",
    "#     pickle_path=os.path.join(get_datasets_base_path(), \"cores.stratified_ds.2022A.pkl\"),\n",
    "#     source_or_target_dataset=\"target\",\n",
    "#     x_transform_func=global_x_transform_func,\n",
    "#     domain_modifier=lambda u: f\"cores_{u}\"\n",
    "# )"
   ]
  },
  {
   "cell_type": "code",
   "execution_count": 15,
   "id": "76db484d",
   "metadata": {
    "execution": {
     "iopub.execute_input": "2022-03-21T02:02:10.069293Z",
     "iopub.status.busy": "2022-03-21T02:02:10.068911Z",
     "iopub.status.idle": "2022-03-21T02:02:10.091266Z",
     "shell.execute_reply": "2022-03-21T02:02:10.090554Z"
    },
    "papermill": {
     "duration": 0.046549,
     "end_time": "2022-03-21T02:02:10.091420",
     "exception": false,
     "start_time": "2022-03-21T02:02:10.044871",
     "status": "completed"
    },
    "tags": []
   },
   "outputs": [],
   "source": [
    "# from steves_utils.ORACLE.utils_v2 import (\n",
    "#     ALL_DISTANCES_FEET,\n",
    "#     ALL_RUNS,\n",
    "#     ALL_SERIAL_NUMBERS,\n",
    "# )\n",
    "\n",
    "\n",
    "# add_dataset(\n",
    "#     labels=ALL_SERIAL_NUMBERS,\n",
    "#     domains = list(set(ALL_DISTANCES_FEET) - {2,62}),\n",
    "#     num_examples_per_domain_per_label=100,\n",
    "#     pickle_path=os.path.join(get_datasets_base_path(), \"oracle.Run2_framed_2000Examples_stratified_ds.2022A.pkl\"),\n",
    "#     source_or_target_dataset=\"source\",\n",
    "#     x_transform_func=global_x_transform_func,\n",
    "#     domain_modifier=lambda u: f\"oracle1_{u}\"\n",
    "# )\n"
   ]
  },
  {
   "cell_type": "code",
   "execution_count": 16,
   "id": "97dea9d2",
   "metadata": {
    "execution": {
     "iopub.execute_input": "2022-03-21T02:02:10.141819Z",
     "iopub.status.busy": "2022-03-21T02:02:10.141437Z",
     "iopub.status.idle": "2022-03-21T02:02:10.162272Z",
     "shell.execute_reply": "2022-03-21T02:02:10.161453Z"
    },
    "papermill": {
     "duration": 0.044728,
     "end_time": "2022-03-21T02:02:10.162428",
     "exception": false,
     "start_time": "2022-03-21T02:02:10.117700",
     "status": "completed"
    },
    "tags": []
   },
   "outputs": [],
   "source": [
    "# from steves_utils.ORACLE.utils_v2 import (\n",
    "#     ALL_DISTANCES_FEET,\n",
    "#     ALL_RUNS,\n",
    "#     ALL_SERIAL_NUMBERS,\n",
    "# )\n",
    "\n",
    "\n",
    "# add_dataset(\n",
    "#     labels=ALL_SERIAL_NUMBERS,\n",
    "#     domains = list(set(ALL_DISTANCES_FEET) - {2,62,56}),\n",
    "#     num_examples_per_domain_per_label=100,\n",
    "#     pickle_path=os.path.join(get_datasets_base_path(), \"oracle.Run2_framed_2000Examples_stratified_ds.2022A.pkl\"),\n",
    "#     source_or_target_dataset=\"source\",\n",
    "#     x_transform_func=global_x_transform_func,\n",
    "#     domain_modifier=lambda u: f\"oracle2_{u}\"\n",
    "# )"
   ]
  },
  {
   "cell_type": "code",
   "execution_count": 17,
   "id": "6f289866",
   "metadata": {
    "execution": {
     "iopub.execute_input": "2022-03-21T02:02:10.213937Z",
     "iopub.status.busy": "2022-03-21T02:02:10.213559Z",
     "iopub.status.idle": "2022-03-21T02:02:10.234334Z",
     "shell.execute_reply": "2022-03-21T02:02:10.233626Z"
    },
    "papermill": {
     "duration": 0.044617,
     "end_time": "2022-03-21T02:02:10.234484",
     "exception": false,
     "start_time": "2022-03-21T02:02:10.189867",
     "status": "completed"
    },
    "tags": []
   },
   "outputs": [],
   "source": [
    "# add_dataset(\n",
    "#     labels=list(range(19)),\n",
    "#     domains = [0,1,2],\n",
    "#     num_examples_per_domain_per_label=100,\n",
    "#     pickle_path=os.path.join(get_datasets_base_path(), \"metehan.stratified_ds.2022A.pkl\"),\n",
    "#     source_or_target_dataset=\"target\",\n",
    "#     x_transform_func=global_x_transform_func,\n",
    "#     domain_modifier=lambda u: f\"met_{u}\"\n",
    "# )"
   ]
  },
  {
   "cell_type": "code",
   "execution_count": 18,
   "id": "86a863c3",
   "metadata": {
    "execution": {
     "iopub.execute_input": "2022-03-21T02:02:10.292725Z",
     "iopub.status.busy": "2022-03-21T02:02:10.292331Z",
     "iopub.status.idle": "2022-03-21T02:02:10.315341Z",
     "shell.execute_reply": "2022-03-21T02:02:10.314647Z"
    },
    "papermill": {
     "duration": 0.048023,
     "end_time": "2022-03-21T02:02:10.315513",
     "exception": false,
     "start_time": "2022-03-21T02:02:10.267490",
     "status": "completed"
    },
    "tags": []
   },
   "outputs": [],
   "source": [
    "# # from steves_utils.wisig.utils import (\n",
    "# #     ALL_NODES_MINIMUM_100_EXAMPLES,\n",
    "# #     ALL_NODES_MINIMUM_500_EXAMPLES,\n",
    "# #     ALL_NODES_MINIMUM_1000_EXAMPLES,\n",
    "# #     ALL_DAYS\n",
    "# # )\n",
    "\n",
    "# import steves_utils.wisig.utils as wisig\n",
    "\n",
    "\n",
    "# add_dataset(\n",
    "#     labels=wisig.ALL_NODES_MINIMUM_100_EXAMPLES,\n",
    "#     domains = wisig.ALL_DAYS,\n",
    "#     num_examples_per_domain_per_label=100,\n",
    "#     pickle_path=os.path.join(get_datasets_base_path(), \"wisig.node3-19.stratified_ds.2022A.pkl\"),\n",
    "#     source_or_target_dataset=\"target\",\n",
    "#     x_transform_func=global_x_transform_func,\n",
    "#     domain_modifier=lambda u: f\"wisig_{u}\"\n",
    "# )"
   ]
  },
  {
   "cell_type": "code",
   "execution_count": 19,
   "id": "fd5442bc",
   "metadata": {
    "execution": {
     "iopub.execute_input": "2022-03-21T02:02:10.366538Z",
     "iopub.status.busy": "2022-03-21T02:02:10.366125Z",
     "iopub.status.idle": "2022-03-21T02:02:10.390000Z",
     "shell.execute_reply": "2022-03-21T02:02:10.389277Z"
    },
    "papermill": {
     "duration": 0.049188,
     "end_time": "2022-03-21T02:02:10.390179",
     "exception": false,
     "start_time": "2022-03-21T02:02:10.340991",
     "status": "completed"
    },
    "tags": []
   },
   "outputs": [],
   "source": [
    "###################################\n",
    "# Build the dataset\n",
    "###################################\n",
    "train_original_source = Iterable_Aggregator(train_original_source, p.seed)\n",
    "val_original_source = Iterable_Aggregator(val_original_source, p.seed)\n",
    "test_original_source = Iterable_Aggregator(test_original_source, p.seed)\n",
    "\n",
    "\n",
    "train_original_target = Iterable_Aggregator(train_original_target, p.seed)\n",
    "val_original_target = Iterable_Aggregator(val_original_target, p.seed)\n",
    "test_original_target = Iterable_Aggregator(test_original_target, p.seed)\n",
    "\n",
    "# For CNN We only use X and Y. And we only train on the source.\n",
    "# Properly form the data using a transform lambda and Lazy_Iterable_Wrapper. Finally wrap them in a dataloader\n",
    "\n",
    "transform_lambda = lambda ex: ex[1] # Original is (<domain>, <episode>) so we strip down to episode only\n",
    "\n",
    "train_processed_source = Lazy_Iterable_Wrapper(train_original_source, transform_lambda)\n",
    "val_processed_source   = Lazy_Iterable_Wrapper(val_original_source, transform_lambda)\n",
    "test_processed_source  = Lazy_Iterable_Wrapper(test_original_source, transform_lambda)\n",
    "\n",
    "train_processed_target = Lazy_Iterable_Wrapper(train_original_target, transform_lambda)\n",
    "val_processed_target   = Lazy_Iterable_Wrapper(val_original_target, transform_lambda)\n",
    "test_processed_target  = Lazy_Iterable_Wrapper(test_original_target, transform_lambda)\n",
    "\n",
    "datasets = EasyDict({\n",
    "    \"source\": {\n",
    "        \"original\": {\"train\":train_original_source, \"val\":val_original_source, \"test\":test_original_source},\n",
    "        \"processed\": {\"train\":train_processed_source, \"val\":val_processed_source, \"test\":test_processed_source}\n",
    "    },\n",
    "    \"target\": {\n",
    "        \"original\": {\"train\":train_original_target, \"val\":val_original_target, \"test\":test_original_target},\n",
    "        \"processed\": {\"train\":train_processed_target, \"val\":val_processed_target, \"test\":test_processed_target}\n",
    "    },\n",
    "})"
   ]
  },
  {
   "cell_type": "code",
   "execution_count": 20,
   "id": "5b3c01fc",
   "metadata": {
    "execution": {
     "iopub.execute_input": "2022-03-21T02:02:10.442718Z",
     "iopub.status.busy": "2022-03-21T02:02:10.442326Z",
     "iopub.status.idle": "2022-03-21T02:02:42.919723Z",
     "shell.execute_reply": "2022-03-21T02:02:42.918840Z"
    },
    "papermill": {
     "duration": 32.503081,
     "end_time": "2022-03-21T02:02:42.919907",
     "exception": false,
     "start_time": "2022-03-21T02:02:10.416826",
     "status": "completed"
    },
    "tags": []
   },
   "outputs": [
    {
     "name": "stdout",
     "output_type": "stream",
     "text": [
      "{'CORES_3', 'CORES_1', 'CORES_5', 'CORES_2', 'CORES_4'}\n",
      "{'ORACLE.run1_26', 'ORACLE.run1_14', 'ORACLE.run1_20', 'ORACLE.run1_32', 'ORACLE.run1_50', 'ORACLE.run1_38', 'ORACLE.run1_44', 'ORACLE.run1_8'}\n",
      "tensor([[[-0.3169, -0.5881,  0.4177,  ..., -0.9234, -0.5833,  0.2969],\n",
      "         [ 0.0984, -0.7569, -0.5785,  ..., -0.0560, -0.0816, -0.5465]],\n",
      "\n",
      "        [[-0.4746, -0.4962,  0.7551,  ..., -0.9197, -0.3428,  0.4786],\n",
      "         [-0.0895, -0.8350, -0.3516,  ...,  0.1902, -0.2645, -0.4706]],\n",
      "\n",
      "        [[-0.2252, -0.3390,  0.3262,  ..., -0.5363, -0.7750,  0.2133],\n",
      "         [ 0.1369, -0.6859, -0.7639,  ..., -0.6525, -0.2801, -0.4862]],\n",
      "\n",
      "        ...,\n",
      "\n",
      "        [[ 0.5430,  0.7236,  0.7746,  ..., -0.9221, -1.9213, -0.9331],\n",
      "         [ 0.4052,  0.7567, -0.1006,  ..., -1.3962, -0.2495,  0.6836]],\n",
      "\n",
      "        [[ 0.3537,  0.3550, -0.1556,  ..., -0.0746, -0.3846, -0.0334],\n",
      "         [ 0.1351,  0.0476, -0.2843,  ..., -0.1016,  0.0733, -0.5583]],\n",
      "\n",
      "        [[ 0.2991,  0.5389,  0.6746,  ..., -0.9381, -1.5614, -0.4849],\n",
      "         [ 0.8788,  0.7550, -0.3689,  ..., -1.5561, -0.4150,  0.2635]]])\n"
     ]
    }
   ],
   "source": [
    "from steves_utils.transforms import get_average_magnitude, get_average_power\n",
    "\n",
    "print(set([u for u,_ in val_original_source]))\n",
    "print(set([u for u,_ in val_original_target]))\n",
    "\n",
    "s_x, s_y, q_x, q_y, _ = next(iter(train_processed_source))\n",
    "print(s_x)\n",
    "\n",
    "# for ds in [\n",
    "#     train_processed_source,\n",
    "#     val_processed_source,\n",
    "#     test_processed_source,\n",
    "#     train_processed_target,\n",
    "#     val_processed_target,\n",
    "#     test_processed_target\n",
    "# ]:\n",
    "#     for s_x, s_y, q_x, q_y, _ in ds:\n",
    "#         for X in (s_x, q_x):\n",
    "#             for x in X:\n",
    "#                 assert np.isclose(get_average_magnitude(x.numpy()), 1.0)\n",
    "#                 assert np.isclose(get_average_power(x.numpy()), 1.0)\n",
    "                "
   ]
  },
  {
   "cell_type": "code",
   "execution_count": 21,
   "id": "bbdacba1",
   "metadata": {
    "execution": {
     "iopub.execute_input": "2022-03-21T02:02:42.974503Z",
     "iopub.status.busy": "2022-03-21T02:02:42.974114Z",
     "iopub.status.idle": "2022-03-21T02:02:43.180818Z",
     "shell.execute_reply": "2022-03-21T02:02:43.181462Z"
    },
    "papermill": {
     "duration": 0.234472,
     "end_time": "2022-03-21T02:02:43.181676",
     "exception": false,
     "start_time": "2022-03-21T02:02:42.947204",
     "status": "completed"
    },
    "tags": []
   },
   "outputs": [
    {
     "name": "stdout",
     "output_type": "stream",
     "text": [
      "(2, 256)\n"
     ]
    }
   ],
   "source": [
    "###################################\n",
    "# Build the model\n",
    "###################################\n",
    "# easfsl only wants a tuple for the shape\n",
    "model = Steves_Prototypical_Network(x_net, device=p.device, x_shape=tuple(p.x_shape))\n",
    "optimizer = Adam(params=model.parameters(), lr=p.lr)"
   ]
  },
  {
   "cell_type": "code",
   "execution_count": 22,
   "id": "22b39ac5",
   "metadata": {
    "execution": {
     "iopub.execute_input": "2022-03-21T02:02:43.260828Z",
     "iopub.status.busy": "2022-03-21T02:02:43.260430Z",
     "iopub.status.idle": "2022-03-21T03:08:31.794457Z",
     "shell.execute_reply": "2022-03-21T03:08:31.794092Z"
    },
    "papermill": {
     "duration": 3948.566015,
     "end_time": "2022-03-21T03:08:31.794547",
     "exception": false,
     "start_time": "2022-03-21T02:02:43.228532",
     "status": "completed"
    },
    "tags": []
   },
   "outputs": [
    {
     "name": "stdout",
     "output_type": "stream",
     "text": [
      "epoch: 1, [batch: 1 / 6320], examples_per_second: 33.5520, train_label_loss: 2.6620, \n",
      "epoch: 1, [batch: 632 / 6320], examples_per_second: 3582.2216, train_label_loss: 0.0069, \n",
      "epoch: 1, [batch: 1264 / 6320], examples_per_second: 3701.7242, train_label_loss: 0.0004, \n",
      "epoch: 1, [batch: 1896 / 6320], examples_per_second: 3846.1394, train_label_loss: 0.0030, \n",
      "epoch: 1, [batch: 2528 / 6320], examples_per_second: 3861.8044, train_label_loss: 0.0014, \n",
      "epoch: 1, [batch: 3160 / 6320], examples_per_second: 3920.1587, train_label_loss: 0.0013, \n",
      "epoch: 1, [batch: 3792 / 6320], examples_per_second: 3875.4959, train_label_loss: 0.0001, \n",
      "epoch: 1, [batch: 4424 / 6320], examples_per_second: 3889.3439, train_label_loss: 0.0024, \n",
      "epoch: 1, [batch: 5056 / 6320], examples_per_second: 3849.4761, train_label_loss: 0.0009, \n",
      "epoch: 1, [batch: 5688 / 6320], examples_per_second: 2898.3384, train_label_loss: 0.0006, \n",
      "=============================================================\n",
      "epoch: 1, source_val_acc_label: 0.9987, target_val_acc_label: 0.1667, source_val_label_loss: 0.0070, target_val_label_loss: 2.5568, \n",
      "=============================================================\n",
      "New best\n",
      "epoch: 2, [batch: 1 / 6305], examples_per_second: 1.5005, train_label_loss: 0.0002, \n",
      "epoch: 2, [batch: 631 / 6305], examples_per_second: 3620.2781, train_label_loss: 0.0000, \n",
      "epoch: 2, [batch: 1261 / 6305], examples_per_second: 2907.3915, train_label_loss: 0.0003, \n",
      "epoch: 2, [batch: 1892 / 6305], examples_per_second: 2434.5958, train_label_loss: 0.0000, \n",
      "epoch: 2, [batch: 2522 / 6305], examples_per_second: 2332.5949, train_label_loss: 0.0001, \n",
      "epoch: 2, [batch: 3153 / 6305], examples_per_second: 2484.1771, train_label_loss: 0.0001, \n",
      "epoch: 2, [batch: 3783 / 6305], examples_per_second: 2350.2974, train_label_loss: 0.0000, \n",
      "epoch: 2, [batch: 4413 / 6305], examples_per_second: 2626.2863, train_label_loss: 0.0000, \n",
      "epoch: 2, [batch: 5044 / 6305], examples_per_second: 2569.8340, train_label_loss: 0.0002, \n",
      "epoch: 2, [batch: 5674 / 6305], examples_per_second: 2778.5156, train_label_loss: 0.0001, \n",
      "=============================================================\n",
      "epoch: 2, source_val_acc_label: 0.9983, target_val_acc_label: 0.1704, source_val_label_loss: 0.0111, target_val_label_loss: 3.0675, \n",
      "=============================================================\n",
      "New best\n",
      "epoch: 3, [batch: 1 / 6307], examples_per_second: 1.2189, train_label_loss: 0.0000, \n",
      "epoch: 3, [batch: 631 / 6307], examples_per_second: 2281.7802, train_label_loss: 0.0000, \n",
      "epoch: 3, [batch: 1262 / 6307], examples_per_second: 2281.9517, train_label_loss: 0.0001, \n",
      "epoch: 3, [batch: 1892 / 6307], examples_per_second: 2432.4695, train_label_loss: 0.0023, \n",
      "epoch: 3, [batch: 2523 / 6307], examples_per_second: 2695.8022, train_label_loss: 0.0000, \n",
      "epoch: 3, [batch: 3154 / 6307], examples_per_second: 2863.7803, train_label_loss: 0.0000, \n",
      "epoch: 3, [batch: 3784 / 6307], examples_per_second: 2482.8496, train_label_loss: 0.0000, \n",
      "epoch: 3, [batch: 4415 / 6307], examples_per_second: 2306.5411, train_label_loss: 0.0000, \n",
      "epoch: 3, [batch: 5045 / 6307], examples_per_second: 2305.6375, train_label_loss: 0.0000, \n",
      "epoch: 3, [batch: 5676 / 6307], examples_per_second: 2486.5473, train_label_loss: 0.0000, \n",
      "=============================================================\n",
      "epoch: 3, source_val_acc_label: 0.9994, target_val_acc_label: 0.1647, source_val_label_loss: 0.0070, target_val_label_loss: 3.0629, \n",
      "=============================================================\n",
      "epoch: 4, [batch: 1 / 6315], examples_per_second: 0.9128, train_label_loss: 0.0000, \n",
      "epoch: 4, [batch: 632 / 6315], examples_per_second: 3063.9680, train_label_loss: 0.0034, \n",
      "epoch: 4, [batch: 1263 / 6315], examples_per_second: 2957.9291, train_label_loss: 0.0000, \n",
      "epoch: 4, [batch: 1895 / 6315], examples_per_second: 3011.7231, train_label_loss: 0.0001, \n",
      "epoch: 4, [batch: 2526 / 6315], examples_per_second: 2938.3742, train_label_loss: 0.0000, \n",
      "epoch: 4, [batch: 3158 / 6315], examples_per_second: 2411.0517, train_label_loss: 0.0000, \n",
      "epoch: 4, [batch: 3789 / 6315], examples_per_second: 2310.6927, train_label_loss: 0.1033, \n",
      "epoch: 4, [batch: 4420 / 6315], examples_per_second: 2332.7588, train_label_loss: 0.0000, \n",
      "epoch: 4, [batch: 5052 / 6315], examples_per_second: 2310.7174, train_label_loss: 0.0000, \n",
      "epoch: 4, [batch: 5683 / 6315], examples_per_second: 2657.2317, train_label_loss: 0.0000, \n",
      "=============================================================\n",
      "epoch: 4, source_val_acc_label: 0.9993, target_val_acc_label: 0.1674, source_val_label_loss: 0.0083, target_val_label_loss: 3.5086, \n",
      "=============================================================\n",
      "epoch: 5, [batch: 1 / 6313], examples_per_second: 1.0283, train_label_loss: 0.0000, \n",
      "epoch: 5, [batch: 632 / 6313], examples_per_second: 2592.4638, train_label_loss: 0.0000, \n",
      "epoch: 5, [batch: 1263 / 6313], examples_per_second: 2623.9590, train_label_loss: 0.0001, \n",
      "epoch: 5, [batch: 1894 / 6313], examples_per_second: 2621.0590, train_label_loss: 0.0000, \n",
      "epoch: 5, [batch: 2525 / 6313], examples_per_second: 2998.5161, train_label_loss: 0.0000, \n",
      "epoch: 5, [batch: 3157 / 6313], examples_per_second: 2906.7953, train_label_loss: 0.0000, \n",
      "epoch: 5, [batch: 3788 / 6313], examples_per_second: 2749.8703, train_label_loss: 0.0000, \n",
      "epoch: 5, [batch: 4419 / 6313], examples_per_second: 2758.6437, train_label_loss: 0.0000, \n",
      "epoch: 5, [batch: 5050 / 6313], examples_per_second: 2839.5002, train_label_loss: 0.0000, \n",
      "epoch: 5, [batch: 5681 / 6313], examples_per_second: 2887.8173, train_label_loss: 0.0000, \n",
      "=============================================================\n",
      "epoch: 5, source_val_acc_label: 0.9992, target_val_acc_label: 0.1779, source_val_label_loss: 0.0080, target_val_label_loss: 3.6882, \n",
      "=============================================================\n",
      "New best\n",
      "epoch: 6, [batch: 1 / 6317], examples_per_second: 1.0703, train_label_loss: 0.0000, \n",
      "epoch: 6, [batch: 632 / 6317], examples_per_second: 3033.1423, train_label_loss: 0.0000, \n",
      "epoch: 6, [batch: 1264 / 6317], examples_per_second: 3328.4217, train_label_loss: 0.0000, \n",
      "epoch: 6, [batch: 1895 / 6317], examples_per_second: 3751.7648, train_label_loss: 0.0000, \n",
      "epoch: 6, [batch: 2527 / 6317], examples_per_second: 4205.9503, train_label_loss: 0.0000, \n",
      "epoch: 6, [batch: 3159 / 6317], examples_per_second: 4269.0075, train_label_loss: 0.0000, \n",
      "epoch: 6, [batch: 3790 / 6317], examples_per_second: 3798.9115, train_label_loss: 0.0000, \n",
      "epoch: 6, [batch: 4422 / 6317], examples_per_second: 3912.6182, train_label_loss: 0.0000, \n",
      "epoch: 6, [batch: 5053 / 6317], examples_per_second: 4014.3090, train_label_loss: 0.0000, \n",
      "epoch: 6, [batch: 5685 / 6317], examples_per_second: 3898.8995, train_label_loss: 0.0000, \n",
      "=============================================================\n",
      "epoch: 6, source_val_acc_label: 0.9984, target_val_acc_label: 0.1767, source_val_label_loss: 0.0112, target_val_label_loss: 3.3680, \n",
      "=============================================================\n",
      "epoch: 7, [batch: 1 / 6322], examples_per_second: 1.0768, train_label_loss: 0.0000, \n",
      "epoch: 7, [batch: 633 / 6322], examples_per_second: 2525.9004, train_label_loss: 0.0000, \n",
      "epoch: 7, [batch: 1265 / 6322], examples_per_second: 2906.5941, train_label_loss: 0.0000, \n",
      "epoch: 7, [batch: 1897 / 6322], examples_per_second: 2945.9554, train_label_loss: 0.0000, \n",
      "epoch: 7, [batch: 2529 / 6322], examples_per_second: 3424.7389, train_label_loss: 0.0000, \n",
      "epoch: 7, [batch: 3161 / 6322], examples_per_second: 3504.1249, train_label_loss: 0.0000, \n",
      "epoch: 7, [batch: 3793 / 6322], examples_per_second: 3384.4875, train_label_loss: 0.0035, \n",
      "epoch: 7, [batch: 4425 / 6322], examples_per_second: 2447.8118, train_label_loss: 0.0000, \n",
      "epoch: 7, [batch: 5057 / 6322], examples_per_second: 2379.1303, train_label_loss: 0.0000, \n",
      "epoch: 7, [batch: 5689 / 6322], examples_per_second: 2549.6358, train_label_loss: 0.0000, \n",
      "=============================================================\n",
      "epoch: 7, source_val_acc_label: 0.9995, target_val_acc_label: 0.1723, source_val_label_loss: 0.0101, target_val_label_loss: 3.8898, \n",
      "=============================================================\n",
      "epoch: 8, [batch: 1 / 6297], examples_per_second: 1.1276, train_label_loss: 0.0000, \n"
     ]
    },
    {
     "name": "stdout",
     "output_type": "stream",
     "text": [
      "epoch: 8, [batch: 630 / 6297], examples_per_second: 3109.9001, train_label_loss: 0.0000, \n",
      "epoch: 8, [batch: 1260 / 6297], examples_per_second: 2432.6356, train_label_loss: 0.0000, \n",
      "epoch: 8, [batch: 1889 / 6297], examples_per_second: 2381.9326, train_label_loss: 0.0000, \n",
      "epoch: 8, [batch: 2519 / 6297], examples_per_second: 2470.9232, train_label_loss: 0.0000, \n",
      "epoch: 8, [batch: 3149 / 6297], examples_per_second: 2328.8613, train_label_loss: 0.0000, \n",
      "epoch: 8, [batch: 3778 / 6297], examples_per_second: 2567.3271, train_label_loss: 0.0000, \n",
      "epoch: 8, [batch: 4408 / 6297], examples_per_second: 2430.5541, train_label_loss: 0.0000, \n",
      "epoch: 8, [batch: 5037 / 6297], examples_per_second: 2811.4119, train_label_loss: 0.0000, \n",
      "epoch: 8, [batch: 5667 / 6297], examples_per_second: 2927.5742, train_label_loss: 0.0000, \n",
      "=============================================================\n",
      "epoch: 8, source_val_acc_label: 0.9991, target_val_acc_label: 0.1685, source_val_label_loss: 0.0145, target_val_label_loss: 4.6819, \n",
      "=============================================================\n",
      "epoch: 9, [batch: 1 / 6315], examples_per_second: 1.3289, train_label_loss: 0.0000, \n",
      "epoch: 9, [batch: 632 / 6315], examples_per_second: 2239.9559, train_label_loss: 0.0000, \n",
      "epoch: 9, [batch: 1263 / 6315], examples_per_second: 2293.8195, train_label_loss: 0.0000, \n",
      "epoch: 9, [batch: 1895 / 6315], examples_per_second: 2322.8368, train_label_loss: 0.0000, \n",
      "epoch: 9, [batch: 2526 / 6315], examples_per_second: 2744.4826, train_label_loss: 0.0000, \n",
      "epoch: 9, [batch: 3158 / 6315], examples_per_second: 2752.0015, train_label_loss: 0.0000, \n",
      "epoch: 9, [batch: 3789 / 6315], examples_per_second: 2724.5734, train_label_loss: 0.0000, \n",
      "epoch: 9, [batch: 4420 / 6315], examples_per_second: 2607.3190, train_label_loss: 0.0000, \n",
      "epoch: 9, [batch: 5052 / 6315], examples_per_second: 2580.2521, train_label_loss: 0.0000, \n",
      "epoch: 9, [batch: 5683 / 6315], examples_per_second: 2848.1739, train_label_loss: 0.0000, \n",
      "=============================================================\n",
      "epoch: 9, source_val_acc_label: 0.9992, target_val_acc_label: 0.1837, source_val_label_loss: 0.0135, target_val_label_loss: 5.0777, \n",
      "=============================================================\n",
      "New best\n",
      "epoch: 10, [batch: 1 / 6284], examples_per_second: 1.0131, train_label_loss: 0.0000, \n",
      "epoch: 10, [batch: 629 / 6284], examples_per_second: 3409.4794, train_label_loss: 0.0000, \n",
      "epoch: 10, [batch: 1257 / 6284], examples_per_second: 3666.8151, train_label_loss: 0.0000, \n",
      "epoch: 10, [batch: 1885 / 6284], examples_per_second: 3627.9413, train_label_loss: 0.0000, \n",
      "epoch: 10, [batch: 2514 / 6284], examples_per_second: 2917.9387, train_label_loss: 0.0001, \n",
      "epoch: 10, [batch: 3142 / 6284], examples_per_second: 2354.0582, train_label_loss: 0.0000, \n",
      "epoch: 10, [batch: 3770 / 6284], examples_per_second: 2326.2213, train_label_loss: 0.0000, \n",
      "epoch: 10, [batch: 4399 / 6284], examples_per_second: 2299.0052, train_label_loss: 0.0000, \n",
      "epoch: 10, [batch: 5027 / 6284], examples_per_second: 2304.8224, train_label_loss: 0.0000, \n",
      "epoch: 10, [batch: 5655 / 6284], examples_per_second: 2612.7536, train_label_loss: 0.0000, \n",
      "=============================================================\n",
      "epoch: 10, source_val_acc_label: 0.9995, target_val_acc_label: 0.1833, source_val_label_loss: 0.0113, target_val_label_loss: 5.0652, \n",
      "=============================================================\n",
      "epoch: 11, [batch: 1 / 6335], examples_per_second: 1.0231, train_label_loss: 0.0000, \n",
      "epoch: 11, [batch: 634 / 6335], examples_per_second: 2555.3498, train_label_loss: 0.0000, \n",
      "epoch: 11, [batch: 1267 / 6335], examples_per_second: 2628.3307, train_label_loss: 0.0000, \n",
      "epoch: 11, [batch: 1901 / 6335], examples_per_second: 2613.8046, train_label_loss: 0.0000, \n",
      "epoch: 11, [batch: 2534 / 6335], examples_per_second: 2926.8828, train_label_loss: 0.0000, \n",
      "epoch: 11, [batch: 3168 / 6335], examples_per_second: 2936.1089, train_label_loss: 0.0000, \n",
      "epoch: 11, [batch: 3801 / 6335], examples_per_second: 2681.2788, train_label_loss: 0.0000, \n",
      "epoch: 11, [batch: 4434 / 6335], examples_per_second: 2309.0465, train_label_loss: 0.0000, \n",
      "epoch: 11, [batch: 5068 / 6335], examples_per_second: 2459.3519, train_label_loss: 0.0000, \n",
      "epoch: 11, [batch: 5701 / 6335], examples_per_second: 2870.5121, train_label_loss: 0.0000, \n",
      "=============================================================\n",
      "epoch: 11, source_val_acc_label: 0.9997, target_val_acc_label: 0.1598, source_val_label_loss: 0.0116, target_val_label_loss: 4.5031, \n",
      "=============================================================\n",
      "epoch: 12, [batch: 1 / 6325], examples_per_second: 1.0038, train_label_loss: 0.0000, \n",
      "epoch: 12, [batch: 633 / 6325], examples_per_second: 2259.3261, train_label_loss: 0.0000, \n",
      "epoch: 12, [batch: 1265 / 6325], examples_per_second: 2531.7526, train_label_loss: 0.0000, \n",
      "epoch: 12, [batch: 1898 / 6325], examples_per_second: 2692.7679, train_label_loss: 0.0000, \n",
      "epoch: 12, [batch: 2530 / 6325], examples_per_second: 3049.1643, train_label_loss: 0.0000, \n",
      "epoch: 12, [batch: 3163 / 6325], examples_per_second: 3433.5791, train_label_loss: 0.0000, \n",
      "epoch: 12, [batch: 3795 / 6325], examples_per_second: 3743.1105, train_label_loss: 0.0000, \n",
      "epoch: 12, [batch: 4427 / 6325], examples_per_second: 3102.9712, train_label_loss: 0.0000, \n",
      "epoch: 12, [batch: 5060 / 6325], examples_per_second: 3020.5068, train_label_loss: 0.0000, \n",
      "epoch: 12, [batch: 5692 / 6325], examples_per_second: 3010.3340, train_label_loss: 0.0000, \n",
      "=============================================================\n",
      "epoch: 12, source_val_acc_label: 0.9995, target_val_acc_label: 0.1735, source_val_label_loss: 0.0161, target_val_label_loss: 5.1548, \n",
      "=============================================================\n",
      "epoch: 13, [batch: 1 / 6326], examples_per_second: 1.0208, train_label_loss: 0.0000, \n",
      "epoch: 13, [batch: 633 / 6326], examples_per_second: 3188.1454, train_label_loss: 0.0000, \n",
      "epoch: 13, [batch: 1266 / 6326], examples_per_second: 3877.6243, train_label_loss: 0.0000, \n",
      "epoch: 13, [batch: 1898 / 6326], examples_per_second: 3327.0417, train_label_loss: 0.0000, \n",
      "epoch: 13, [batch: 2531 / 6326], examples_per_second: 3424.3722, train_label_loss: 0.0000, \n",
      "epoch: 13, [batch: 3163 / 6326], examples_per_second: 3328.9228, train_label_loss: 0.0000, \n",
      "epoch: 13, [batch: 3796 / 6326], examples_per_second: 3372.2474, train_label_loss: 0.0000, \n",
      "epoch: 13, [batch: 4428 / 6326], examples_per_second: 2793.2698, train_label_loss: 0.0000, \n",
      "epoch: 13, [batch: 5061 / 6326], examples_per_second: 2591.7700, train_label_loss: 0.0000, \n",
      "epoch: 13, [batch: 5693 / 6326], examples_per_second: 3122.7410, train_label_loss: 0.0000, \n",
      "=============================================================\n",
      "epoch: 13, source_val_acc_label: 0.9995, target_val_acc_label: 0.1674, source_val_label_loss: 0.0135, target_val_label_loss: 5.7929, \n",
      "=============================================================\n",
      "Patience (3) exhausted\n"
     ]
    }
   ],
   "source": [
    "###################################\n",
    "# train\n",
    "###################################\n",
    "jig = PTN_Train_Eval_Test_Jig(model, p.BEST_MODEL_PATH, p.device)\n",
    "\n",
    "jig.train(\n",
    "    train_iterable=datasets.source.processed.train,\n",
    "    source_val_iterable=datasets.source.processed.val,\n",
    "    target_val_iterable=datasets.target.processed.val,\n",
    "    num_epochs=p.n_epoch,\n",
    "    num_logs_per_epoch=p.NUM_LOGS_PER_EPOCH,\n",
    "    patience=p.patience,\n",
    "    optimizer=optimizer,\n",
    "    criteria_for_best=p.criteria_for_best,\n",
    ")"
   ]
  },
  {
   "cell_type": "code",
   "execution_count": 23,
   "id": "31e8fabf",
   "metadata": {
    "execution": {
     "iopub.execute_input": "2022-03-21T03:08:31.927880Z",
     "iopub.status.busy": "2022-03-21T03:08:31.927262Z",
     "iopub.status.idle": "2022-03-21T03:08:32.037473Z",
     "shell.execute_reply": "2022-03-21T03:08:32.038228Z"
    },
    "papermill": {
     "duration": 0.181111,
     "end_time": "2022-03-21T03:08:32.038465",
     "exception": false,
     "start_time": "2022-03-21T03:08:31.857354",
     "status": "completed"
    },
    "tags": []
   },
   "outputs": [],
   "source": [
    "total_experiment_time_secs = time.time() - start_time_secs"
   ]
  },
  {
   "cell_type": "code",
   "execution_count": 24,
   "id": "87b9595b",
   "metadata": {
    "execution": {
     "iopub.execute_input": "2022-03-21T03:08:32.182280Z",
     "iopub.status.busy": "2022-03-21T03:08:32.177650Z",
     "iopub.status.idle": "2022-03-21T03:20:35.497657Z",
     "shell.execute_reply": "2022-03-21T03:20:35.498223Z"
    },
    "papermill": {
     "duration": 723.392933,
     "end_time": "2022-03-21T03:20:35.498421",
     "exception": false,
     "start_time": "2022-03-21T03:08:32.105488",
     "status": "completed"
    },
    "tags": []
   },
   "outputs": [],
   "source": [
    "###################################\n",
    "# Evaluate the model\n",
    "###################################\n",
    "source_test_label_accuracy, source_test_label_loss = jig.test(datasets.source.processed.test)\n",
    "target_test_label_accuracy, target_test_label_loss = jig.test(datasets.target.processed.test)\n",
    "\n",
    "source_val_label_accuracy, source_val_label_loss = jig.test(datasets.source.processed.val)\n",
    "target_val_label_accuracy, target_val_label_loss = jig.test(datasets.target.processed.val)\n",
    "\n",
    "history = jig.get_history()\n",
    "\n",
    "total_epochs_trained = len(history[\"epoch_indices\"])\n",
    "\n",
    "val_dl = Iterable_Aggregator((datasets.source.original.val,datasets.target.original.val))\n",
    "\n",
    "confusion = ptn_confusion_by_domain_over_dataloader(model, p.device, val_dl)\n",
    "per_domain_accuracy = per_domain_accuracy_from_confusion(confusion)\n",
    "\n",
    "# Add a key to per_domain_accuracy for if it was a source domain\n",
    "for domain, accuracy in per_domain_accuracy.items():\n",
    "    per_domain_accuracy[domain] = {\n",
    "        \"accuracy\": accuracy,\n",
    "        \"source?\": domain in p.domains_source\n",
    "    }\n",
    "\n",
    "# Do an independent accuracy assesment JUST TO BE SURE!\n",
    "# _source_test_label_accuracy = independent_accuracy_assesment(model, datasets.source.processed.test, p.device)\n",
    "# _target_test_label_accuracy = independent_accuracy_assesment(model, datasets.target.processed.test, p.device)\n",
    "# _source_val_label_accuracy = independent_accuracy_assesment(model, datasets.source.processed.val, p.device)\n",
    "# _target_val_label_accuracy = independent_accuracy_assesment(model, datasets.target.processed.val, p.device)\n",
    "\n",
    "# assert(_source_test_label_accuracy == source_test_label_accuracy)\n",
    "# assert(_target_test_label_accuracy == target_test_label_accuracy)\n",
    "# assert(_source_val_label_accuracy == source_val_label_accuracy)\n",
    "# assert(_target_val_label_accuracy == target_val_label_accuracy)\n",
    "\n",
    "experiment = {\n",
    "    \"experiment_name\": p.experiment_name,\n",
    "    \"parameters\": dict(p),\n",
    "    \"results\": {\n",
    "        \"source_test_label_accuracy\": source_test_label_accuracy,\n",
    "        \"source_test_label_loss\": source_test_label_loss,\n",
    "        \"target_test_label_accuracy\": target_test_label_accuracy,\n",
    "        \"target_test_label_loss\": target_test_label_loss,\n",
    "        \"source_val_label_accuracy\": source_val_label_accuracy,\n",
    "        \"source_val_label_loss\": source_val_label_loss,\n",
    "        \"target_val_label_accuracy\": target_val_label_accuracy,\n",
    "        \"target_val_label_loss\": target_val_label_loss,\n",
    "        \"total_epochs_trained\": total_epochs_trained,\n",
    "        \"total_experiment_time_secs\": total_experiment_time_secs,\n",
    "        \"confusion\": confusion,\n",
    "        \"per_domain_accuracy\": per_domain_accuracy,\n",
    "    },\n",
    "    \"history\": history,\n",
    "    \"dataset_metrics\": get_dataset_metrics(datasets, \"ptn\"),\n",
    "}"
   ]
  },
  {
   "cell_type": "code",
   "execution_count": 25,
   "id": "54a21829",
   "metadata": {
    "execution": {
     "iopub.execute_input": "2022-03-21T03:20:35.630812Z",
     "iopub.status.busy": "2022-03-21T03:20:35.630163Z",
     "iopub.status.idle": "2022-03-21T03:20:35.923151Z",
     "shell.execute_reply": "2022-03-21T03:20:35.923864Z"
    },
    "papermill": {
     "duration": 0.361113,
     "end_time": "2022-03-21T03:20:35.924104",
     "exception": false,
     "start_time": "2022-03-21T03:20:35.562991",
     "status": "completed"
    },
    "tags": []
   },
   "outputs": [
    {
     "data": {
      "image/png": "[encoded data removed]",
      "text/plain": [
       "<Figure size 1080x504 with 1 Axes>"
      ]
     },
     "metadata": {
      "needs_background": "light"
     },
     "output_type": "display_data"
    }
   ],
   "source": [
    "ax = get_loss_curve(experiment)\n",
    "plt.show()"
   ]
  },
  {
   "cell_type": "code",
   "execution_count": 26,
   "id": "fd8a0f60",
   "metadata": {
    "execution": {
     "iopub.execute_input": "2022-03-21T03:20:36.068986Z",
     "iopub.status.busy": "2022-03-21T03:20:36.068602Z",
     "iopub.status.idle": "2022-03-21T03:20:36.383494Z",
     "shell.execute_reply": "2022-03-21T03:20:36.384219Z"
    },
    "papermill": {
     "duration": 0.392838,
     "end_time": "2022-03-21T03:20:36.384423",
     "exception": false,
     "start_time": "2022-03-21T03:20:35.991585",
     "status": "completed"
    },
    "tags": []
   },
   "outputs": [
    {
     "data": {
      "text/plain": [
       "<AxesSubplot:title={'center':'Results'}>"
      ]
     },
     "execution_count": 26,
     "metadata": {},
     "output_type": "execute_result"
    },
    {
     "data": {
      "image/png": "[encoded data removed]",
      "text/plain": [
       "<Figure size 1080x504 with 1 Axes>"
      ]
     },
     "metadata": {
      "needs_background": "light"
     },
     "output_type": "display_data"
    }
   ],
   "source": [
    "get_results_table(experiment)"
   ]
  },
  {
   "cell_type": "code",
   "execution_count": 27,
   "id": "cf8dc689",
   "metadata": {
    "execution": {
     "iopub.execute_input": "2022-03-21T03:20:36.523232Z",
     "iopub.status.busy": "2022-03-21T03:20:36.522856Z",
     "iopub.status.idle": "2022-03-21T03:20:36.852032Z",
     "shell.execute_reply": "2022-03-21T03:20:36.851498Z"
    },
    "papermill": {
     "duration": 0.39719,
     "end_time": "2022-03-21T03:20:36.852157",
     "exception": false,
     "start_time": "2022-03-21T03:20:36.454967",
     "status": "completed"
    },
    "tags": []
   },
   "outputs": [
    {
     "data": {
      "text/plain": [
       "<AxesSubplot:title={'center':'Per Domain Validation Accuracy'}, xlabel='domain'>"
      ]
     },
     "execution_count": 27,
     "metadata": {},
     "output_type": "execute_result"
    },
    {
     "data": {
      "image/png": "[encoded data removed]",
      "text/plain": [
       "<Figure size 1080x504 with 1 Axes>"
      ]
     },
     "metadata": {
      "needs_background": "light"
     },
     "output_type": "display_data"
    }
   ],
   "source": [
    "get_domain_accuracies(experiment)"
   ]
  },
  {
   "cell_type": "code",
   "execution_count": 28,
   "id": "a74ae082",
   "metadata": {
    "execution": {
     "iopub.execute_input": "2022-03-21T03:20:36.994563Z",
     "iopub.status.busy": "2022-03-21T03:20:36.994179Z",
     "iopub.status.idle": "2022-03-21T03:20:37.020518Z",
     "shell.execute_reply": "2022-03-21T03:20:37.019670Z"
    },
    "papermill": {
     "duration": 0.09876,
     "end_time": "2022-03-21T03:20:37.020683",
     "exception": false,
     "start_time": "2022-03-21T03:20:36.921923",
     "status": "completed"
    },
    "tags": []
   },
   "outputs": [
    {
     "name": "stdout",
     "output_type": "stream",
     "text": [
      "Source Test Label Accuracy: 0.9990179573512907 Target Test Label Accuracy: 0.18247395833333332\n",
      "Source Val Label Accuracy: 0.9992151826484018 Target Val Label Accuracy: 0.18369791666666666\n"
     ]
    }
   ],
   "source": [
    "print(\"Source Test Label Accuracy:\", experiment[\"results\"][\"source_test_label_accuracy\"], \"Target Test Label Accuracy:\", experiment[\"results\"][\"target_test_label_accuracy\"])\n",
    "print(\"Source Val Label Accuracy:\", experiment[\"results\"][\"source_val_label_accuracy\"], \"Target Val Label Accuracy:\", experiment[\"results\"][\"target_val_label_accuracy\"])"
   ]
  },
  {
   "cell_type": "code",
   "execution_count": 29,
   "id": "dacca602",
   "metadata": {
    "execution": {
     "iopub.execute_input": "2022-03-21T03:20:37.756601Z",
     "iopub.status.busy": "2022-03-21T03:20:37.756064Z",
     "iopub.status.idle": "2022-03-21T03:20:37.783554Z",
     "shell.execute_reply": "2022-03-21T03:20:37.784244Z"
    },
    "papermill": {
     "duration": 0.099608,
     "end_time": "2022-03-21T03:20:37.784439",
     "exception": false,
     "start_time": "2022-03-21T03:20:37.684831",
     "status": "completed"
    },
    "tags": [
     "experiment_json"
    ]
   },
   "outputs": [
    {
     "data": {
      "text/plain": [
       "'{\"experiment_name\": \"tl_1v2:cores-oracle.run1\", \"parameters\": {\"experiment_name\": \"tl_1v2:cores-oracle.run1\", \"device\": \"cuda\", \"lr\": 0.0001, \"n_shot\": 3, \"n_query\": 2, \"train_k_factor\": 3, \"val_k_factor\": 2, \"test_k_factor\": 2, \"torch_default_dtype\": \"torch.float32\", \"n_epoch\": 50, \"patience\": 3, \"criteria_for_best\": \"target_accuracy\", \"x_net\": [{\"class\": \"nnReshape\", \"kargs\": {\"shape\": [-1, 1, 2, 256]}}, {\"class\": \"Conv2d\", \"kargs\": {\"in_channels\": 1, \"out_channels\": 256, \"kernel_size\": [1, 7], \"bias\": false, \"padding\": [0, 3]}}, {\"class\": \"ReLU\", \"kargs\": {\"inplace\": true}}, {\"class\": \"BatchNorm2d\", \"kargs\": {\"num_features\": 256}}, {\"class\": \"Conv2d\", \"kargs\": {\"in_channels\": 256, \"out_channels\": 80, \"kernel_size\": [2, 7], \"bias\": true, \"padding\": [0, 3]}}, {\"class\": \"ReLU\", \"kargs\": {\"inplace\": true}}, {\"class\": \"BatchNorm2d\", \"kargs\": {\"num_features\": 80}}, {\"class\": \"Flatten\", \"kargs\": {}}, {\"class\": \"Linear\", \"kargs\": {\"in_features\": 20480, \"out_features\": 256}}, {\"class\": \"ReLU\", \"kargs\": {\"inplace\": true}}, {\"class\": \"BatchNorm1d\", \"kargs\": {\"num_features\": 256}}, {\"class\": \"Linear\", \"kargs\": {\"in_features\": 256, \"out_features\": 256}}], \"NUM_LOGS_PER_EPOCH\": 10, \"BEST_MODEL_PATH\": \"./best_model.pth\", \"n_way\": 16, \"datasets\": [{\"labels\": [\"1-10.\", \"1-11.\", \"1-15.\", \"1-16.\", \"1-17.\", \"1-18.\", \"1-19.\", \"10-4.\", \"10-7.\", \"11-1.\", \"11-14.\", \"11-17.\", \"11-20.\", \"11-7.\", \"13-20.\", \"13-8.\", \"14-10.\", \"14-11.\", \"14-14.\", \"14-7.\", \"15-1.\", \"15-20.\", \"16-1.\", \"16-16.\", \"17-10.\", \"17-11.\", \"17-2.\", \"19-1.\", \"19-16.\", \"19-19.\", \"19-20.\", \"19-3.\", \"2-10.\", \"2-11.\", \"2-17.\", \"2-18.\", \"2-20.\", \"2-3.\", \"2-4.\", \"2-5.\", \"2-6.\", \"2-7.\", \"2-8.\", \"3-13.\", \"3-18.\", \"3-3.\", \"4-1.\", \"4-10.\", \"4-11.\", \"4-19.\", \"5-5.\", \"6-15.\", \"7-10.\", \"7-14.\", \"8-18.\", \"8-20.\", \"8-3.\", \"8-8.\"], \"domains\": [1, 2, 3, 4, 5], \"num_examples_per_domain_per_label\": -1, \"pickle_path\": \"/root/csc500-main/datasets/cores.stratified_ds.2022A.pkl\", \"source_or_target_dataset\": \"source\", \"x_transforms\": [\"unit_power\"], \"episode_transforms\": [], \"domain_prefix\": \"CORES_\"}, {\"labels\": [\"3123D52\", \"3123D65\", \"3123D79\", \"3123D80\", \"3123D54\", \"3123D70\", \"3123D7B\", \"3123D89\", \"3123D58\", \"3123D76\", \"3123D7D\", \"3123EFE\", \"3123D64\", \"3123D78\", \"3123D7E\", \"3124E4A\"], \"domains\": [32, 38, 8, 44, 14, 50, 20, 26], \"num_examples_per_domain_per_label\": 10000, \"pickle_path\": \"/root/csc500-main/datasets/oracle.Run1_10kExamples_stratified_ds.2022A.pkl\", \"source_or_target_dataset\": \"target\", \"x_transforms\": [\"unit_power\"], \"episode_transforms\": [], \"domain_prefix\": \"ORACLE.run1_\"}], \"dataset_seed\": 1337, \"seed\": 1337, \"x_shape\": [2, 256], \"domains_source\": [\"CORES_1\", \"CORES_2\", \"CORES_3\", \"CORES_4\", \"CORES_5\"], \"domains_target\": [\"ORACLE.run1_32\", \"ORACLE.run1_38\", \"ORACLE.run1_8\", \"ORACLE.run1_44\", \"ORACLE.run1_14\", \"ORACLE.run1_50\", \"ORACLE.run1_20\", \"ORACLE.run1_26\"]}, \"results\": {\"source_test_label_accuracy\": 0.9990179573512907, \"source_test_label_loss\": 0.013518141582608223, \"target_test_label_accuracy\": 0.18247395833333332, \"target_test_label_loss\": 5.096358776092529, \"source_val_label_accuracy\": 0.9992151826484018, \"source_val_label_loss\": 0.013533681631088257, \"target_val_label_accuracy\": 0.18369791666666666, \"target_val_label_loss\": 5.077727317810059, \"total_epochs_trained\": 13, \"total_experiment_time_secs\": 4114.25076341629, \"confusion\": {\"CORES_3\": {\"43\": {\"43\": 128}, \"9\": {\"9\": 150}, \"6\": {\"6\": 88}, \"3\": {\"3\": 143, \"26\": 1}, \"16\": {\"16\": 134}, \"51\": {\"51\": 128}, \"31\": {\"31\": 28}, \"46\": {\"46\": 134}, \"19\": {\"19\": 124}, \"8\": {\"8\": 152}, \"18\": {\"18\": 84}, \"37\": {\"37\": 28}, \"24\": {\"24\": 104}, \"10\": {\"10\": 64}, \"44\": {\"44\": 88}, \"14\": {\"14\": 39, \"0\": 1}, \"38\": {\"38\": 28}, \"53\": {\"53\": 140}, \"20\": {\"20\": 132}, \"32\": {\"32\": 28}, \"36\": {\"36\": 100}, \"33\": {\"33\": 28}, \"56\": {\"56\": 136}, \"23\": {\"23\": 130}, \"54\": {\"54\": 100}, \"21\": {\"21\": 126}, \"28\": {\"28\": 28}, \"26\": {\"26\": 24}, \"48\": {\"48\": 116}, \"52\": {\"52\": 118}, \"39\": {\"39\": 16}, \"22\": {\"22\": 140}, \"13\": {\"13\": 128}, \"2\": {\"2\": 32}, \"34\": {\"34\": 32}, \"27\": {\"27\": 132}, \"45\": {\"45\": 60}, \"35\": {\"35\": 28}, \"29\": {\"29\": 128}, \"25\": {\"25\": 144}, \"0\": {\"0\": 124}, \"41\": {\"41\": 28}, \"11\": {\"11\": 142}, \"5\": {\"5\": 108}, \"1\": {\"1\": 100}, \"57\": {\"57\": 114, \"0\": 2}, \"17\": {\"17\": 106, \"10\": 1, \"24\": 1}, \"7\": {\"7\": 36}, \"12\": {\"12\": 92}, \"47\": {\"47\": 92}, \"40\": {\"40\": 136}, \"15\": {\"15\": 142}, \"42\": {\"42\": 28}, \"55\": {\"55\": 150}, \"49\": {\"49\": 20}, \"30\": {\"30\": 119, \"57\": 1}, \"50\": {\"50\": 134}, \"4\": {\"4\": 136}}, \"CORES_4\": {\"35\": {\"35\": 40}, \"25\": {\"25\": 134}, \"24\": {\"24\": 56}, \"48\": {\"48\": 138}, \"51\": {\"51\": 144}, \"13\": {\"13\": 120}, \"14\": {\"14\": 16}, \"32\": {\"32\": 24}, \"30\": {\"30\": 44}, \"34\": {\"34\": 24}, \"9\": {\"9\": 136}, \"1\": {\"1\": 40}, \"0\": {\"0\": 80}, \"38\": {\"38\": 40}, \"22\": {\"22\": 128}, \"40\": {\"40\": 120}, \"6\": {\"6\": 110, \"16\": 1, \"11\": 1}, \"16\": {\"16\": 96}, \"11\": {\"11\": 104}, \"20\": {\"20\": 122}, \"17\": {\"17\": 80}, \"26\": {\"26\": 24}, \"54\": {\"54\": 108}, \"55\": {\"55\": 154}, \"50\": {\"50\": 129, \"57\": 1, \"3\": 2}, \"19\": {\"19\": 142}, \"44\": {\"44\": 122}, \"47\": {\"47\": 120}, \"33\": {\"33\": 36}, \"5\": {\"5\": 108}, \"18\": {\"18\": 108}, \"21\": {\"21\": 124}, \"41\": {\"41\": 36}, \"23\": {\"23\": 128}, \"39\": {\"39\": 20}, \"37\": {\"37\": 24}, \"8\": {\"8\": 144}, \"49\": {\"49\": 20}, \"53\": {\"53\": 140}, \"31\": {\"31\": 28}, \"28\": {\"28\": 32}, \"3\": {\"3\": 124}, \"27\": {\"27\": 138}, \"46\": {\"46\": 128}, \"12\": {\"12\": 92}, \"7\": {\"7\": 24}, \"4\": {\"4\": 132}, \"42\": {\"42\": 32}, \"43\": {\"43\": 130}, \"29\": {\"29\": 120}, \"57\": {\"57\": 100}, \"52\": {\"52\": 104}, \"45\": {\"45\": 96}, \"36\": {\"36\": 92}, \"10\": {\"10\": 126}, \"15\": {\"15\": 134}, \"56\": {\"56\": 124}, \"2\": {\"2\": 36}}, \"CORES_5\": {\"47\": {\"47\": 100}, \"53\": {\"53\": 150}, \"29\": {\"29\": 126}, \"52\": {\"52\": 130}, \"55\": {\"55\": 144}, \"17\": {\"17\": 116}, \"42\": {\"42\": 40}, \"33\": {\"33\": 32}, \"11\": {\"11\": 148}, \"19\": {\"19\": 118}, \"1\": {\"1\": 144}, \"44\": {\"44\": 142}, \"49\": {\"49\": 36}, \"4\": {\"4\": 100}, \"6\": {\"6\": 116}, \"39\": {\"39\": 20}, \"50\": {\"50\": 148}, \"56\": {\"56\": 130}, \"25\": {\"25\": 144}, \"28\": {\"28\": 32}, \"35\": {\"35\": 36}, \"24\": {\"24\": 80}, \"21\": {\"21\": 132}, \"45\": {\"45\": 123, \"55\": 1}, \"16\": {\"16\": 144}, \"37\": {\"37\": 24}, \"57\": {\"57\": 132}, \"34\": {\"34\": 36}, \"38\": {\"38\": 32}, \"48\": {\"48\": 130}, \"26\": {\"26\": 24}, \"9\": {\"9\": 152}, \"18\": {\"18\": 64}, \"3\": {\"3\": 99, \"46\": 1}, \"23\": {\"23\": 124}, \"15\": {\"15\": 154}, \"10\": {\"10\": 67, \"13\": 1}, \"46\": {\"46\": 148}, \"22\": {\"22\": 28}, \"54\": {\"54\": 112}, \"27\": {\"27\": 160}, \"41\": {\"41\": 28}, \"31\": {\"31\": 36}, \"0\": {\"0\": 124}, \"7\": {\"7\": 32}, \"2\": {\"2\": 28}, \"14\": {\"14\": 43, \"57\": 1}, \"40\": {\"40\": 124}, \"5\": {\"5\": 128}, \"12\": {\"12\": 96}, \"43\": {\"43\": 142}, \"13\": {\"13\": 148}, \"36\": {\"36\": 92}, \"8\": {\"8\": 150}, \"32\": {\"32\": 32}, \"30\": {\"30\": 128}, \"51\": {\"51\": 138}, \"20\": {\"20\": 138}}, \"CORES_1\": {\"46\": {\"46\": 140}, \"16\": {\"16\": 134}, \"26\": {\"26\": 24}, \"10\": {\"10\": 96}, \"9\": {\"9\": 156}, \"28\": {\"28\": 28}, \"51\": {\"51\": 156}, \"1\": {\"1\": 100}, \"55\": {\"55\": 148}, \"27\": {\"27\": 124}, \"22\": {\"22\": 123, \"24\": 1}, \"52\": {\"52\": 126}, \"3\": {\"3\": 140}, \"33\": {\"33\": 32}, \"47\": {\"47\": 120}, \"42\": {\"42\": 40}, \"12\": {\"12\": 116}, \"23\": {\"23\": 132}, \"49\": {\"49\": 32}, \"7\": {\"7\": 28}, \"4\": {\"4\": 132}, \"50\": {\"50\": 134}, \"19\": {\"19\": 154}, \"11\": {\"11\": 140}, \"31\": {\"31\": 28}, \"41\": {\"41\": 24}, \"56\": {\"56\": 138}, \"0\": {\"0\": 148}, \"57\": {\"57\": 128}, \"53\": {\"53\": 140}, \"43\": {\"43\": 144}, \"37\": {\"37\": 32}, \"2\": {\"2\": 36}, \"6\": {\"6\": 96}, \"13\": {\"13\": 150}, \"18\": {\"18\": 72}, \"36\": {\"36\": 64}, \"29\": {\"29\": 140}, \"39\": {\"39\": 28}, \"17\": {\"17\": 64}, \"21\": {\"21\": 124}, \"25\": {\"25\": 132}, \"45\": {\"45\": 142}, \"38\": {\"38\": 24}, \"30\": {\"30\": 120}, \"24\": {\"24\": 108}, \"20\": {\"20\": 140}, \"8\": {\"8\": 140}, \"35\": {\"35\": 36}, \"54\": {\"54\": 104}, \"5\": {\"5\": 148}, \"48\": {\"48\": 144}, \"15\": {\"15\": 142}, \"34\": {\"34\": 24}, \"14\": {\"14\": 23, \"54\": 1}, \"32\": {\"32\": 32}, \"40\": {\"40\": 148}, \"44\": {\"44\": 136}}, \"CORES_2\": {\"36\": {\"36\": 116}, \"5\": {\"5\": 120}, \"45\": {\"45\": 128}, \"49\": {\"49\": 24}, \"50\": {\"50\": 136}, \"4\": {\"4\": 138}, \"43\": {\"43\": 148}, \"41\": {\"41\": 20}, \"37\": {\"37\": 36}, \"12\": {\"12\": 92}, \"33\": {\"33\": 28}, \"7\": {\"7\": 36}, \"56\": {\"56\": 140}, \"14\": {\"14\": 24}, \"52\": {\"52\": 124}, \"44\": {\"44\": 96}, \"48\": {\"48\": 144}, \"20\": {\"20\": 128}, \"55\": {\"55\": 144}, \"32\": {\"32\": 28}, \"40\": {\"40\": 136}, \"54\": {\"54\": 108}, \"17\": {\"17\": 104}, \"38\": {\"38\": 20}, \"24\": {\"24\": 96}, \"1\": {\"1\": 112}, \"6\": {\"6\": 124}, \"34\": {\"34\": 28}, \"11\": {\"11\": 136}, \"9\": {\"9\": 150}, \"8\": {\"8\": 152}, \"22\": {\"22\": 136}, \"26\": {\"26\": 24}, \"23\": {\"23\": 146}, \"10\": {\"10\": 112}, \"18\": {\"18\": 48}, \"13\": {\"13\": 116}, \"30\": {\"30\": 128}, \"42\": {\"42\": 36}, \"31\": {\"31\": 28}, \"46\": {\"46\": 128}, \"57\": {\"57\": 141, \"0\": 1}, \"47\": {\"47\": 138}, \"35\": {\"35\": 32}, \"15\": {\"15\": 132}, \"25\": {\"25\": 136}, \"19\": {\"19\": 136}, \"51\": {\"51\": 128}, \"53\": {\"53\": 134}, \"21\": {\"21\": 120}, \"39\": {\"39\": 28}, \"2\": {\"2\": 32}, \"16\": {\"16\": 150}, \"0\": {\"0\": 45, \"57\": 3}, \"3\": {\"3\": 92}, \"27\": {\"27\": 142}, \"28\": {\"28\": 28}, \"29\": {\"29\": 128}}, \"ORACLE.run1_14\": {\"15\": {\"13\": 88, \"5\": 83, \"2\": 97, \"1\": 87, \"4\": 70, \"15\": 351, \"7\": 264, \"6\": 85, \"14\": 26, \"3\": 24, \"10\": 5, \"8\": 14, \"0\": 5, \"9\": 1}, \"3\": {\"3\": 121, \"9\": 39, \"4\": 93, \"14\": 99, \"13\": 82, \"6\": 71, \"5\": 111, \"0\": 102, \"10\": 93, \"2\": 96, \"8\": 58, \"11\": 56, \"7\": 46, \"1\": 93, \"15\": 35, \"12\": 5}, \"6\": {\"3\": 72, \"7\": 76, \"2\": 128, \"4\": 90, \"14\": 138, \"13\": 173, \"6\": 153, \"1\": 75, \"15\": 76, \"0\": 34, \"8\": 13, \"5\": 83, \"11\": 20, \"10\": 68, \"9\": 1}, \"1\": {\"0\": 47, \"13\": 75, \"4\": 100, \"14\": 86, \"2\": 82, \"6\": 72, \"15\": 85, \"1\": 146, \"7\": 109, \"8\": 78, \"5\": 126, \"12\": 7, \"11\": 24, \"3\": 100, \"10\": 49, \"9\": 14}, \"8\": {\"12\": 61, \"11\": 89, \"6\": 9, \"0\": 101, \"9\": 156, \"8\": 327, \"3\": 74, \"7\": 27, \"13\": 14, \"4\": 69, \"10\": 82, \"1\": 94, \"14\": 19, \"5\": 44, \"15\": 10, \"2\": 24}, \"10\": {\"3\": 121, \"14\": 83, \"6\": 58, \"2\": 62, \"11\": 119, \"9\": 68, \"10\": 189, \"0\": 151, \"8\": 85, \"13\": 61, \"12\": 21, \"4\": 76, \"5\": 36, \"1\": 54, \"7\": 9, \"15\": 7}, \"9\": {\"12\": 311, \"0\": 92, \"11\": 187, \"9\": 324, \"8\": 144, \"10\": 69, \"14\": 8, \"5\": 10, \"1\": 13, \"3\": 28, \"4\": 8, \"2\": 1, \"13\": 2, \"15\": 1, \"6\": 2}, \"13\": {\"3\": 67, \"7\": 82, \"11\": 27, \"13\": 162, \"4\": 77, \"0\": 43, \"6\": 158, \"8\": 10, \"5\": 92, \"1\": 63, \"14\": 142, \"15\": 87, \"2\": 129, \"10\": 54, \"9\": 7}, \"12\": {\"9\": 341, \"12\": 592, \"8\": 76, \"11\": 112, \"10\": 32, \"0\": 36, \"3\": 5, \"1\": 2, \"4\": 3, \"14\": 1}, \"5\": {\"8\": 49, \"6\": 83, \"14\": 96, \"7\": 109, \"1\": 131, \"3\": 80, \"9\": 10, \"4\": 113, \"2\": 103, \"5\": 120, \"13\": 85, \"15\": 99, \"0\": 41, \"10\": 55, \"11\": 25, \"12\": 1}, \"0\": {\"8\": 97, \"15\": 10, \"0\": 145, \"4\": 62, \"13\": 47, \"11\": 185, \"5\": 41, \"10\": 142, \"1\": 60, \"14\": 92, \"2\": 41, \"12\": 44, \"3\": 85, \"7\": 16, \"9\": 90, \"6\": 43}, \"2\": {\"14\": 123, \"2\": 126, \"6\": 134, \"10\": 59, \"4\": 89, \"13\": 121, \"8\": 15, \"5\": 89, \"1\": 75, \"3\": 89, \"0\": 54, \"7\": 87, \"12\": 3, \"15\": 101, \"11\": 29, \"9\": 6}, \"11\": {\"12\": 102, \"9\": 188, \"10\": 124, \"11\": 247, \"1\": 31, \"4\": 42, \"8\": 87, \"3\": 54, \"0\": 167, \"14\": 55, \"2\": 30, \"13\": 24, \"5\": 24, \"6\": 20, \"7\": 5}, \"14\": {\"6\": 145, \"0\": 70, \"14\": 161, \"4\": 87, \"2\": 124, \"3\": 97, \"10\": 76, \"1\": 79, \"7\": 44, \"13\": 155, \"11\": 35, \"5\": 62, \"12\": 2, \"15\": 36, \"9\": 15, \"8\": 12}, \"7\": {\"13\": 63, \"5\": 124, \"15\": 274, \"7\": 287, \"4\": 71, \"6\": 70, \"1\": 96, \"14\": 42, \"3\": 36, \"8\": 20, \"2\": 97, \"0\": 11, \"10\": 9}, \"4\": {\"14\": 95, \"3\": 123, \"6\": 67, \"13\": 87, \"4\": 111, \"1\": 112, \"0\": 77, \"15\": 65, \"5\": 111, \"11\": 32, \"2\": 82, \"8\": 62, \"10\": 78, \"7\": 83, \"12\": 5, \"9\": 10}}, \"ORACLE.run1_20\": {\"3\": {\"9\": 75, \"8\": 75, \"15\": 90, \"3\": 92, \"2\": 78, \"12\": 87, \"14\": 55, \"6\": 64, \"1\": 102, \"13\": 70, \"4\": 64, \"10\": 74, \"0\": 82, \"5\": 71, \"11\": 59, \"7\": 62}, \"15\": {\"1\": 108, \"4\": 57, \"12\": 96, \"5\": 110, \"8\": 50, \"6\": 25, \"0\": 104, \"15\": 143, \"2\": 75, \"9\": 84, \"3\": 71, \"14\": 22, \"7\": 75, \"13\": 109, \"11\": 42, \"10\": 29}, \"8\": {\"9\": 47, \"8\": 116, \"10\": 109, \"6\": 114, \"1\": 54, \"2\": 63, \"3\": 66, \"5\": 57, \"4\": 98, \"14\": 105, \"11\": 69, \"12\": 64, \"7\": 83, \"13\": 48, \"0\": 61, \"15\": 46}, \"4\": {\"8\": 99, \"11\": 54, \"14\": 112, \"5\": 72, \"3\": 80, \"6\": 76, \"12\": 61, \"9\": 68, \"2\": 60, \"10\": 100, \"0\": 86, \"7\": 75, \"1\": 57, \"4\": 94, \"15\": 55, \"13\": 51}, \"14\": {\"6\": 155, \"12\": 39, \"14\": 203, \"10\": 146, \"2\": 51, \"3\": 45, \"13\": 35, \"7\": 83, \"8\": 110, \"4\": 111, \"5\": 30, \"1\": 30, \"11\": 68, \"0\": 27, \"9\": 44, \"15\": 23}, \"0\": {\"5\": 108, \"2\": 68, \"6\": 31, \"4\": 74, \"1\": 94, \"0\": 100, \"12\": 85, \"13\": 92, \"3\": 74, \"7\": 67, \"9\": 81, \"10\": 51, \"15\": 118, \"11\": 48, \"8\": 81, \"14\": 28}, \"7\": {\"12\": 66, \"2\": 85, \"7\": 77, \"15\": 66, \"9\": 80, \"0\": 70, \"14\": 66, \"6\": 86, \"13\": 77, \"10\": 82, \"1\": 62, \"5\": 64, \"8\": 96, \"11\": 95, \"3\": 67, \"4\": 61}, \"6\": {\"11\": 91, \"6\": 150, \"8\": 103, \"4\": 95, \"10\": 127, \"12\": 43, \"3\": 55, \"14\": 188, \"13\": 32, \"9\": 64, \"1\": 38, \"7\": 71, \"0\": 37, \"5\": 31, \"2\": 48, \"15\": 27}, \"10\": {\"6\": 128, \"5\": 41, \"15\": 25, \"7\": 61, \"8\": 116, \"14\": 147, \"10\": 147, \"4\": 87, \"9\": 74, \"12\": 45, \"13\": 35, \"1\": 41, \"3\": 75, \"11\": 79, \"0\": 37, \"2\": 62}, \"5\": {\"0\": 109, \"13\": 89, \"3\": 66, \"12\": 98, \"7\": 65, \"11\": 29, \"15\": 106, \"1\": 97, \"5\": 117, \"6\": 35, \"9\": 72, \"8\": 76, \"4\": 73, \"2\": 74, \"10\": 56, \"14\": 38}, \"2\": {\"8\": 63, \"3\": 74, \"1\": 82, \"0\": 80, \"7\": 76, \"10\": 49, \"9\": 83, \"6\": 48, \"2\": 82, \"11\": 78, \"15\": 79, \"5\": 91, \"13\": 88, \"14\": 60, \"4\": 70, \"12\": 97}, \"12\": {\"11\": 67, \"2\": 74, \"15\": 104, \"0\": 95, \"1\": 84, \"6\": 50, \"13\": 90, \"3\": 76, \"8\": 58, \"7\": 80, \"4\": 74, \"5\": 92, \"9\": 81, \"14\": 54, \"12\": 76, \"10\": 45}, \"9\": {\"15\": 85, \"6\": 45, \"12\": 97, \"11\": 68, \"4\": 81, \"3\": 84, \"10\": 62, \"7\": 78, \"0\": 72, \"2\": 93, \"9\": 77, \"1\": 87, \"5\": 70, \"8\": 64, \"13\": 87, \"14\": 50}, \"1\": {\"3\": 100, \"0\": 107, \"10\": 47, \"2\": 93, \"13\": 94, \"1\": 113, \"8\": 40, \"11\": 43, \"7\": 56, \"9\": 70, \"14\": 35, \"5\": 95, \"15\": 105, \"12\": 94, \"4\": 67, \"6\": 41}, \"11\": {\"12\": 50, \"11\": 197, \"1\": 48, \"7\": 109, \"2\": 85, \"8\": 60, \"14\": 84, \"15\": 42, \"6\": 96, \"9\": 84, \"4\": 55, \"13\": 79, \"3\": 62, \"5\": 34, \"10\": 74, \"0\": 41}, \"13\": {\"4\": 57, \"5\": 91, \"2\": 95, \"11\": 77, \"15\": 102, \"0\": 87, \"3\": 87, \"12\": 94, \"13\": 104, \"1\": 97, \"7\": 81, \"10\": 37, \"9\": 83, \"8\": 52, \"14\": 29, \"6\": 27}}, \"ORACLE.run1_38\": {\"5\": {\"5\": 128, \"2\": 23, \"7\": 124, \"8\": 112, \"1\": 74, \"9\": 118, \"10\": 78, \"13\": 64, \"11\": 17, \"6\": 122, \"0\": 113, \"4\": 25, \"12\": 32, \"3\": 69, \"15\": 82, \"14\": 19}, \"8\": {\"5\": 124, \"10\": 114, \"9\": 62, \"7\": 103, \"1\": 75, \"6\": 87, \"12\": 73, \"15\": 82, \"8\": 130, \"0\": 120, \"4\": 48, \"13\": 63, \"3\": 38, \"14\": 35, \"2\": 24, \"11\": 22}, \"11\": {\"14\": 257, \"2\": 154, \"11\": 330, \"10\": 101, \"1\": 35, \"13\": 82, \"5\": 15, \"15\": 68, \"12\": 80, \"8\": 34, \"4\": 22, \"0\": 12, \"7\": 8, \"9\": 1, \"3\": 1}, \"1\": {\"8\": 83, \"1\": 226, \"5\": 68, \"2\": 108, \"15\": 180, \"10\": 61, \"13\": 181, \"6\": 83, \"14\": 55, \"9\": 53, \"3\": 14, \"0\": 37, \"4\": 3, \"11\": 25, \"12\": 16, \"7\": 7}, \"10\": {\"11\": 85, \"2\": 45, \"10\": 152, \"12\": 114, \"8\": 117, \"14\": 106, \"5\": 72, \"15\": 98, \"1\": 71, \"6\": 42, \"9\": 17, \"7\": 61, \"13\": 88, \"4\": 48, \"0\": 78, \"3\": 6}, \"15\": {\"9\": 31, \"15\": 144, \"14\": 91, \"2\": 104, \"8\": 81, \"10\": 96, \"13\": 163, \"5\": 70, \"6\": 65, \"1\": 165, \"11\": 64, \"7\": 25, \"12\": 40, \"4\": 9, \"0\": 47, \"3\": 5}, \"3\": {\"3\": 472, \"4\": 18, \"6\": 123, \"0\": 115, \"8\": 39, \"15\": 5, \"9\": 217, \"5\": 67, \"7\": 115, \"10\": 8, \"13\": 4, \"12\": 9, \"14\": 1, \"1\": 6, \"2\": 1}, \"7\": {\"15\": 25, \"4\": 125, \"0\": 164, \"5\": 98, \"3\": 115, \"10\": 61, \"8\": 90, \"12\": 74, \"6\": 78, \"9\": 94, \"7\": 215, \"1\": 20, \"2\": 3, \"11\": 10, \"13\": 23, \"14\": 5}, \"4\": {\"12\": 268, \"7\": 144, \"4\": 533, \"10\": 49, \"0\": 65, \"14\": 15, \"9\": 8, \"5\": 26, \"3\": 14, \"8\": 40, \"1\": 2, \"15\": 6, \"11\": 19, \"13\": 4, \"6\": 7}, \"14\": {\"13\": 87, \"10\": 95, \"11\": 256, \"2\": 189, \"12\": 65, \"14\": 286, \"0\": 20, \"6\": 6, \"15\": 79, \"5\": 18, \"1\": 43, \"8\": 29, \"7\": 8, \"4\": 17, \"9\": 2}, \"9\": {\"15\": 41, \"6\": 213, \"3\": 201, \"13\": 17, \"9\": 265, \"8\": 75, \"0\": 97, \"5\": 114, \"7\": 81, \"10\": 24, \"1\": 49, \"4\": 8, \"12\": 9, \"11\": 3, \"2\": 3}, \"12\": {\"8\": 49, \"14\": 83, \"7\": 57, \"12\": 402, \"11\": 66, \"5\": 42, \"4\": 261, \"10\": 75, \"1\": 15, \"15\": 26, \"6\": 6, \"0\": 80, \"13\": 14, \"9\": 4, \"3\": 5, \"2\": 15}, \"6\": {\"15\": 61, \"0\": 79, \"9\": 190, \"7\": 81, \"8\": 79, \"6\": 205, \"13\": 54, \"1\": 89, \"2\": 17, \"3\": 132, \"5\": 150, \"10\": 28, \"14\": 4, \"11\": 3, \"12\": 22, \"4\": 6}, \"2\": {\"14\": 184, \"1\": 117, \"2\": 331, \"6\": 8, \"13\": 150, \"7\": 6, \"11\": 152, \"15\": 111, \"8\": 20, \"10\": 66, \"12\": 17, \"5\": 17, \"9\": 8, \"0\": 10, \"4\": 2, \"3\": 1}, \"0\": {\"2\": 7, \"4\": 91, \"6\": 91, \"7\": 152, \"5\": 109, \"12\": 78, \"9\": 72, \"0\": 147, \"8\": 121, \"3\": 102, \"13\": 31, \"11\": 19, \"10\": 76, \"15\": 43, \"1\": 47, \"14\": 14}, \"13\": {\"3\": 12, \"2\": 139, \"14\": 100, \"11\": 92, \"1\": 163, \"10\": 83, \"13\": 175, \"9\": 26, \"5\": 68, \"15\": 157, \"8\": 63, \"12\": 15, \"0\": 40, \"6\": 45, \"7\": 19, \"4\": 3}}, \"ORACLE.run1_8\": {\"9\": {\"9\": 807, \"13\": 57, \"4\": 25, \"11\": 18, \"14\": 44, \"1\": 24, \"5\": 102, \"7\": 7, \"0\": 29, \"10\": 69, \"6\": 14, \"8\": 3, \"2\": 1}, \"10\": {\"2\": 34, \"13\": 100, \"0\": 112, \"1\": 107, \"7\": 80, \"10\": 128, \"4\": 93, \"14\": 102, \"5\": 104, \"8\": 49, \"11\": 92, \"3\": 21, \"6\": 82, \"15\": 33, \"9\": 51, \"12\": 12}, \"13\": {\"2\": 64, \"10\": 96, \"0\": 103, \"1\": 79, \"14\": 114, \"13\": 117, \"4\": 90, \"8\": 48, \"6\": 96, \"5\": 102, \"7\": 97, \"15\": 34, \"11\": 56, \"3\": 32, \"12\": 38, \"9\": 34}, \"0\": {\"0\": 97, \"1\": 61, \"14\": 98, \"11\": 78, \"8\": 55, \"13\": 99, \"4\": 84, \"10\": 119, \"6\": 92, \"7\": 101, \"5\": 96, \"2\": 70, \"15\": 48, \"3\": 40, \"9\": 25, \"12\": 37}, \"1\": {\"10\": 92, \"2\": 33, \"1\": 131, \"14\": 94, \"6\": 76, \"11\": 120, \"3\": 40, \"8\": 86, \"5\": 112, \"13\": 79, \"0\": 79, \"9\": 21, \"15\": 36, \"7\": 76, \"4\": 96, \"12\": 29}, \"15\": {\"6\": 74, \"7\": 67, \"5\": 15, \"8\": 136, \"2\": 124, \"12\": 172, \"0\": 52, \"15\": 154, \"14\": 39, \"3\": 148, \"10\": 25, \"13\": 45, \"1\": 49, \"4\": 49, \"11\": 51}, \"5\": {\"4\": 68, \"10\": 128, \"1\": 137, \"13\": 82, \"5\": 194, \"14\": 120, \"0\": 67, \"11\": 112, \"6\": 67, \"3\": 12, \"7\": 56, \"12\": 9, \"9\": 77, \"8\": 37, \"2\": 18, \"15\": 16}, \"3\": {\"1\": 20, \"14\": 22, \"15\": 153, \"8\": 94, \"12\": 185, \"6\": 58, \"7\": 68, \"3\": 214, \"4\": 39, \"2\": 216, \"0\": 34, \"11\": 33, \"13\": 33, \"5\": 12, \"10\": 19}, \"6\": {\"1\": 95, \"6\": 94, \"4\": 78, \"13\": 81, \"2\": 73, \"11\": 73, \"0\": 90, \"10\": 84, \"8\": 79, \"7\": 82, \"3\": 68, \"14\": 73, \"5\": 65, \"12\": 72, \"15\": 83, \"9\": 10}, \"11\": {\"10\": 95, \"4\": 70, \"1\": 121, \"9\": 26, \"2\": 38, \"11\": 154, \"3\": 33, \"0\": 67, \"6\": 75, \"13\": 79, \"5\": 102, \"7\": 58, \"15\": 52, \"12\": 48, \"14\": 95, \"8\": 87}, \"8\": {\"14\": 45, \"12\": 118, \"8\": 150, \"6\": 88, \"4\": 70, \"15\": 123, \"0\": 59, \"2\": 89, \"11\": 73, \"7\": 95, \"3\": 98, \"1\": 68, \"13\": 52, \"10\": 39, \"5\": 33}, \"4\": {\"10\": 115, \"15\": 49, \"2\": 41, \"6\": 86, \"11\": 94, \"14\": 106, \"12\": 48, \"7\": 76, \"5\": 95, \"13\": 115, \"8\": 74, \"1\": 90, \"0\": 88, \"4\": 67, \"9\": 22, \"3\": 34}, \"12\": {\"3\": 212, \"6\": 53, \"12\": 205, \"15\": 174, \"11\": 35, \"13\": 30, \"1\": 30, \"8\": 130, \"2\": 157, \"7\": 64, \"14\": 26, \"5\": 6, \"10\": 17, \"0\": 28, \"4\": 32, \"9\": 1}, \"14\": {\"13\": 108, \"7\": 84, \"1\": 98, \"0\": 112, \"14\": 99, \"5\": 95, \"2\": 32, \"4\": 90, \"8\": 56, \"15\": 41, \"6\": 101, \"3\": 38, \"10\": 97, \"11\": 94, \"9\": 26, \"12\": 29}, \"2\": {\"10\": 46, \"3\": 168, \"4\": 49, \"1\": 24, \"6\": 63, \"15\": 123, \"2\": 170, \"11\": 30, \"12\": 157, \"14\": 48, \"13\": 54, \"7\": 78, \"8\": 93, \"0\": 64, \"5\": 31, \"9\": 2}, \"7\": {\"5\": 60, \"4\": 94, \"12\": 59, \"1\": 70, \"10\": 70, \"14\": 59, \"8\": 85, \"11\": 62, \"7\": 86, \"2\": 90, \"0\": 89, \"3\": 84, \"15\": 76, \"13\": 93, \"6\": 119, \"9\": 4}}, \"ORACLE.run1_50\": {\"7\": {\"13\": 173, \"7\": 168, \"5\": 134, \"12\": 9, \"10\": 123, \"1\": 55, \"4\": 65, \"8\": 71, \"2\": 65, \"14\": 23, \"0\": 88, \"3\": 47, \"15\": 48, \"6\": 118, \"9\": 8, \"11\": 5}, \"3\": {\"3\": 476, \"8\": 373, \"0\": 58, \"4\": 4, \"2\": 32, \"5\": 21, \"10\": 135, \"1\": 3, \"7\": 61, \"13\": 27, \"6\": 6, \"14\": 2, \"15\": 1, \"11\": 1}, \"8\": {\"10\": 182, \"8\": 326, \"3\": 305, \"5\": 30, \"0\": 132, \"2\": 74, \"13\": 45, \"4\": 8, \"7\": 71, \"14\": 6, \"6\": 15, \"1\": 4, \"15\": 1, \"12\": 1}, \"2\": {\"2\": 280, \"13\": 81, \"12\": 43, \"7\": 60, \"0\": 188, \"10\": 115, \"4\": 41, \"1\": 45, \"14\": 75, \"6\": 63, \"5\": 61, \"8\": 93, \"3\": 20, \"11\": 14, \"9\": 9, \"15\": 12}, \"14\": {\"1\": 95, \"15\": 88, \"6\": 68, \"10\": 19, \"9\": 104, \"14\": 192, \"2\": 102, \"0\": 48, \"12\": 169, \"11\": 115, \"5\": 48, \"13\": 51, \"4\": 69, \"7\": 23, \"8\": 8, \"3\": 1}, \"4\": {\"11\": 100, \"1\": 154, \"2\": 35, \"10\": 37, \"5\": 121, \"4\": 131, \"15\": 148, \"6\": 107, \"13\": 78, \"12\": 50, \"9\": 44, \"7\": 79, \"0\": 32, \"14\": 75, \"8\": 7, \"3\": 2}, \"6\": {\"7\": 124, \"1\": 117, \"12\": 23, \"2\": 60, \"0\": 53, \"14\": 66, \"15\": 110, \"13\": 114, \"4\": 130, \"5\": 100, \"11\": 57, \"8\": 11, \"6\": 157, \"10\": 57, \"3\": 3, \"9\": 18}, \"15\": {\"2\": 25, \"1\": 113, \"15\": 211, \"11\": 150, \"5\": 74, \"9\": 89, \"7\": 50, \"4\": 151, \"6\": 92, \"14\": 84, \"12\": 59, \"10\": 13, \"13\": 66, \"0\": 20, \"8\": 1, \"3\": 2}, \"10\": {\"0\": 160, \"3\": 112, \"14\": 17, \"7\": 112, \"10\": 187, \"11\": 5, \"8\": 165, \"5\": 72, \"1\": 42, \"4\": 23, \"2\": 115, \"13\": 114, \"12\": 4, \"6\": 61, \"15\": 10, \"9\": 1}, \"11\": {\"12\": 166, \"11\": 234, \"6\": 45, \"1\": 93, \"14\": 117, \"13\": 21, \"9\": 212, \"4\": 93, \"15\": 149, \"2\": 15, \"7\": 12, \"8\": 1, \"5\": 37, \"0\": 5}, \"13\": {\"14\": 42, \"2\": 76, \"7\": 149, \"10\": 113, \"0\": 99, \"3\": 24, \"6\": 116, \"11\": 22, \"1\": 78, \"13\": 149, \"5\": 137, \"15\": 49, \"4\": 94, \"8\": 39, \"12\": 8, \"9\": 5}, \"9\": {\"15\": 93, \"9\": 367, \"12\": 232, \"11\": 251, \"1\": 46, \"6\": 14, \"14\": 111, \"5\": 11, \"4\": 52, \"13\": 5, \"7\": 7, \"10\": 1, \"2\": 6, \"0\": 3, \"8\": 1}, \"0\": {\"10\": 178, \"0\": 195, \"8\": 125, \"2\": 203, \"13\": 91, \"7\": 75, \"14\": 46, \"6\": 42, \"4\": 28, \"1\": 48, \"5\": 72, \"11\": 9, \"3\": 59, \"15\": 14, \"9\": 3, \"12\": 12}, \"1\": {\"14\": 101, \"1\": 149, \"10\": 37, \"4\": 134, \"5\": 94, \"11\": 96, \"15\": 134, \"9\": 39, \"13\": 91, \"0\": 42, \"6\": 117, \"7\": 69, \"2\": 41, \"12\": 51, \"8\": 3, \"3\": 2}, \"12\": {\"2\": 51, \"12\": 335, \"11\": 150, \"4\": 44, \"14\": 191, \"9\": 241, \"15\": 53, \"1\": 46, \"5\": 17, \"13\": 15, \"6\": 32, \"0\": 16, \"7\": 4, \"10\": 5}, \"5\": {\"1\": 91, \"4\": 141, \"0\": 51, \"7\": 135, \"8\": 33, \"5\": 145, \"10\": 94, \"15\": 81, \"6\": 110, \"13\": 139, \"2\": 54, \"9\": 10, \"14\": 43, \"11\": 36, \"3\": 22, \"12\": 15}}, \"ORACLE.run1_32\": {\"8\": {\"14\": 74, \"15\": 129, \"7\": 96, \"5\": 127, \"11\": 85, \"0\": 116, \"8\": 163, \"4\": 92, \"3\": 117, \"2\": 54, \"13\": 143, \"9\": 3, \"12\": 1}, \"14\": {\"3\": 116, \"4\": 99, \"2\": 99, \"14\": 187, \"13\": 86, \"11\": 154, \"8\": 86, \"15\": 26, \"0\": 83, \"5\": 116, \"7\": 138, \"9\": 9, \"12\": 1}, \"2\": {\"13\": 84, \"2\": 256, \"14\": 71, \"3\": 19, \"5\": 85, \"11\": 41, \"8\": 75, \"9\": 91, \"4\": 186, \"7\": 113, \"12\": 9, \"0\": 163, \"15\": 7}, \"0\": {\"8\": 115, \"4\": 136, \"0\": 170, \"14\": 90, \"15\": 39, \"9\": 32, \"11\": 89, \"3\": 53, \"13\": 89, \"7\": 108, \"5\": 117, \"2\": 159, \"12\": 3}, \"1\": {\"10\": 351, \"1\": 622, \"6\": 203, \"12\": 22, \"9\": 2}, \"10\": {\"10\": 498, \"6\": 225, \"1\": 306, \"12\": 151, \"9\": 20}, \"11\": {\"8\": 101, \"11\": 202, \"3\": 159, \"7\": 124, \"2\": 55, \"14\": 178, \"13\": 108, \"4\": 53, \"5\": 108, \"15\": 32, \"0\": 77, \"9\": 3}, \"5\": {\"2\": 98, \"15\": 57, \"13\": 120, \"0\": 110, \"3\": 125, \"11\": 109, \"14\": 89, \"8\": 130, \"4\": 110, \"7\": 110, \"5\": 132, \"9\": 10}, \"15\": {\"15\": 554, \"8\": 122, \"3\": 199, \"11\": 51, \"13\": 84, \"14\": 33, \"5\": 66, \"0\": 35, \"7\": 23, \"4\": 27, \"2\": 6}, \"3\": {\"3\": 310, \"8\": 115, \"13\": 116, \"11\": 130, \"14\": 92, \"9\": 1, \"5\": 114, \"7\": 49, \"15\": 188, \"0\": 31, \"4\": 38, \"2\": 16}, \"12\": {\"10\": 136, \"12\": 549, \"1\": 11, \"9\": 364, \"6\": 120, \"2\": 11, \"0\": 5, \"5\": 1, \"4\": 2, \"7\": 1}, \"7\": {\"11\": 128, \"2\": 108, \"14\": 133, \"8\": 95, \"7\": 121, \"3\": 81, \"13\": 104, \"4\": 131, \"5\": 130, \"0\": 128, \"15\": 30, \"9\": 11}, \"13\": {\"4\": 115, \"3\": 136, \"0\": 85, \"11\": 99, \"5\": 118, \"13\": 152, \"7\": 102, \"14\": 91, \"8\": 143, \"2\": 75, \"15\": 80, \"9\": 4}, \"6\": {\"6\": 559, \"12\": 135, \"10\": 243, \"1\": 214, \"9\": 49}, \"4\": {\"0\": 154, \"13\": 130, \"14\": 89, \"4\": 146, \"7\": 134, \"9\": 30, \"5\": 128, \"2\": 168, \"11\": 75, \"15\": 22, \"8\": 84, \"3\": 34, \"12\": 6}, \"9\": {\"12\": 319, \"9\": 601, \"14\": 2, \"6\": 37, \"2\": 106, \"10\": 13, \"0\": 53, \"4\": 38, \"7\": 14, \"8\": 4, \"1\": 5, \"13\": 4, \"11\": 1, \"5\": 3}}, \"ORACLE.run1_26\": {\"4\": {\"7\": 103, \"15\": 69, \"0\": 127, \"14\": 93, \"4\": 105, \"8\": 82, \"9\": 61, \"2\": 85, \"13\": 45, \"1\": 126, \"6\": 62, \"10\": 94, \"3\": 65, \"12\": 28, \"5\": 50, \"11\": 5}, \"12\": {\"12\": 389, \"11\": 255, \"9\": 78, \"15\": 55, \"6\": 97, \"8\": 39, \"10\": 51, \"0\": 31, \"5\": 30, \"14\": 24, \"13\": 77, \"7\": 18, \"4\": 17, \"2\": 15, \"1\": 15, \"3\": 9}, \"10\": {\"14\": 95, \"6\": 110, \"5\": 53, \"3\": 60, \"0\": 101, \"7\": 81, \"15\": 80, \"4\": 86, \"2\": 61, \"8\": 89, \"11\": 19, \"1\": 78, \"12\": 44, \"9\": 78, \"10\": 98, \"13\": 67}, \"0\": {\"8\": 84, \"2\": 74, \"13\": 50, \"4\": 113, \"3\": 88, \"0\": 110, \"12\": 34, \"5\": 55, \"15\": 56, \"1\": 117, \"14\": 98, \"10\": 83, \"7\": 92, \"9\": 53, \"11\": 13, \"6\": 80}, \"13\": {\"6\": 97, \"12\": 93, \"13\": 166, \"0\": 57, \"4\": 30, \"10\": 51, \"2\": 74, \"5\": 132, \"15\": 91, \"11\": 77, \"7\": 55, \"14\": 45, \"3\": 58, \"8\": 54, \"9\": 91, \"1\": 29}, \"9\": {\"13\": 100, \"2\": 66, \"14\": 66, \"1\": 76, \"15\": 86, \"6\": 84, \"0\": 55, \"4\": 61, \"8\": 90, \"7\": 80, \"5\": 88, \"3\": 72, \"10\": 79, \"11\": 30, \"12\": 69, \"9\": 98}, \"3\": {\"15\": 61, \"9\": 60, \"14\": 81, \"10\": 58, \"7\": 120, \"3\": 152, \"2\": 128, \"8\": 80, \"4\": 91, \"0\": 71, \"5\": 77, \"6\": 54, \"1\": 91, \"13\": 59, \"12\": 8, \"11\": 9}, \"2\": {\"15\": 76, \"7\": 93, \"0\": 78, \"6\": 62, \"14\": 94, \"12\": 13, \"4\": 75, \"1\": 95, \"9\": 72, \"8\": 77, \"2\": 106, \"13\": 70, \"10\": 61, \"5\": 100, \"11\": 12, \"3\": 116}, \"5\": {\"13\": 141, \"15\": 95, \"2\": 102, \"5\": 122, \"3\": 81, \"6\": 66, \"4\": 64, \"9\": 69, \"8\": 77, \"14\": 60, \"7\": 94, \"1\": 47, \"11\": 46, \"0\": 51, \"10\": 53, \"12\": 32}, \"14\": {\"5\": 66, \"1\": 120, \"0\": 105, \"3\": 95, \"7\": 78, \"2\": 81, \"10\": 94, \"8\": 94, \"9\": 63, \"14\": 104, \"6\": 67, \"12\": 24, \"15\": 69, \"4\": 99, \"13\": 34, \"11\": 7}, \"8\": {\"6\": 91, \"15\": 99, \"13\": 56, \"12\": 38, \"9\": 68, \"3\": 81, \"8\": 103, \"0\": 89, \"7\": 87, \"1\": 90, \"14\": 78, \"4\": 80, \"10\": 80, \"11\": 21, \"5\": 67, \"2\": 72}, \"7\": {\"2\": 97, \"6\": 51, \"13\": 72, \"10\": 70, \"1\": 95, \"14\": 88, \"5\": 74, \"4\": 91, \"3\": 114, \"0\": 87, \"9\": 62, \"15\": 80, \"8\": 71, \"7\": 125, \"12\": 19, \"11\": 4}, \"6\": {\"5\": 74, \"9\": 83, \"11\": 45, \"12\": 104, \"3\": 38, \"10\": 87, \"15\": 113, \"6\": 95, \"4\": 62, \"0\": 77, \"1\": 63, \"2\": 61, \"7\": 62, \"13\": 93, \"14\": 65, \"8\": 78}, \"11\": {\"12\": 275, \"11\": 596, \"5\": 41, \"6\": 62, \"9\": 31, \"10\": 24, \"13\": 79, \"15\": 33, \"7\": 6, \"2\": 10, \"0\": 10, \"8\": 17, \"4\": 2, \"1\": 3, \"14\": 7, \"3\": 4}, \"15\": {\"14\": 71, \"5\": 111, \"13\": 105, \"7\": 81, \"15\": 93, \"6\": 87, \"4\": 68, \"3\": 55, \"12\": 45, \"9\": 98, \"10\": 71, \"11\": 32, \"1\": 63, \"0\": 63, \"8\": 80, \"2\": 77}, \"1\": {\"0\": 108, \"15\": 67, \"7\": 105, \"6\": 52, \"9\": 55, \"1\": 124, \"2\": 96, \"14\": 109, \"4\": 113, \"10\": 80, \"5\": 61, \"11\": 5, \"3\": 83, \"8\": 91, \"12\": 10, \"13\": 41}}, \"ORACLE.run1_44\": {\"12\": {\"3\": 137, \"1\": 233, \"2\": 130, \"7\": 73, \"13\": 19, \"10\": 247, \"12\": 274, \"6\": 39, \"9\": 36, \"11\": 10, \"14\": 2}, \"7\": {\"12\": 69, \"0\": 2, \"2\": 131, \"7\": 172, \"10\": 86, \"6\": 140, \"11\": 101, \"1\": 106, \"3\": 107, \"13\": 122, \"9\": 143, \"5\": 1, \"14\": 8, \"4\": 12}, \"5\": {\"8\": 171, \"14\": 156, \"0\": 223, \"15\": 183, \"5\": 315, \"13\": 8, \"4\": 133, \"3\": 2, \"7\": 2, \"9\": 4, \"11\": 2, \"1\": 1}, \"15\": {\"14\": 199, \"5\": 193, \"15\": 237, \"0\": 211, \"4\": 145, \"13\": 9, \"8\": 178, \"7\": 1, \"9\": 9, \"11\": 5, \"1\": 2, \"2\": 2, \"3\": 6, \"6\": 3}, \"8\": {\"0\": 353, \"8\": 373, \"15\": 186, \"5\": 180, \"4\": 35, \"14\": 73}, \"2\": {\"6\": 110, \"2\": 165, \"11\": 66, \"10\": 155, \"9\": 101, \"12\": 136, \"3\": 107, \"7\": 132, \"13\": 59, \"1\": 151, \"4\": 11, \"14\": 5, \"5\": 1, \"15\": 1}, \"13\": {\"12\": 10, \"0\": 1, \"2\": 48, \"9\": 178, \"7\": 116, \"13\": 242, \"11\": 209, \"6\": 175, \"1\": 25, \"10\": 28, \"4\": 69, \"14\": 33, \"3\": 57, \"15\": 6, \"5\": 3}, \"4\": {\"14\": 264, \"4\": 315, \"8\": 41, \"15\": 146, \"3\": 17, \"5\": 96, \"6\": 26, \"9\": 62, \"13\": 100, \"0\": 59, \"11\": 40, \"7\": 25, \"2\": 7, \"1\": 1, \"12\": 1}, \"0\": {\"15\": 213, \"8\": 285, \"5\": 234, \"14\": 92, \"0\": 304, \"4\": 66, \"6\": 2, \"13\": 3, \"9\": 1}, \"6\": {\"6\": 192, \"9\": 183, \"13\": 173, \"11\": 180, \"10\": 59, \"3\": 46, \"7\": 144, \"4\": 20, \"12\": 39, \"1\": 50, \"2\": 104, \"5\": 2, \"15\": 2, \"14\": 6}, \"9\": {\"4\": 46, \"6\": 182, \"2\": 80, \"3\": 82, \"14\": 39, \"8\": 1, \"13\": 177, \"11\": 123, \"9\": 192, \"12\": 33, \"15\": 7, \"7\": 137, \"10\": 45, \"1\": 53, \"5\": 2, \"0\": 1}, \"11\": {\"11\": 406, \"2\": 46, \"6\": 177, \"9\": 118, \"10\": 23, \"13\": 237, \"3\": 29, \"7\": 96, \"1\": 18, \"14\": 16, \"4\": 23, \"5\": 2, \"12\": 6, \"15\": 3}, \"10\": {\"12\": 226, \"10\": 294, \"6\": 54, \"2\": 170, \"1\": 199, \"7\": 90, \"11\": 24, \"3\": 88, \"9\": 41, \"13\": 13, \"14\": 1}, \"14\": {\"14\": 286, \"9\": 25, \"8\": 62, \"4\": 306, \"0\": 89, \"15\": 176, \"13\": 58, \"3\": 12, \"5\": 143, \"6\": 15, \"7\": 9, \"11\": 16, \"10\": 1, \"2\": 1, \"1\": 1}, \"1\": {\"12\": 216, \"3\": 157, \"1\": 222, \"10\": 185, \"7\": 101, \"11\": 34, \"2\": 133, \"6\": 60, \"13\": 34, \"9\": 50, \"4\": 4, \"14\": 3, \"15\": 1}, \"3\": {\"1\": 185, \"3\": 259, \"10\": 103, \"2\": 140, \"7\": 96, \"11\": 37, \"12\": 150, \"13\": 48, \"9\": 80, \"6\": 60, \"14\": 14, \"4\": 20, \"5\": 2, \"15\": 6}}}, \"per_domain_accuracy\": {\"CORES_3\": {\"accuracy\": 0.9987281976744186, \"source?\": true}, \"CORES_4\": {\"accuracy\": 0.9990530303030303, \"source?\": true}, \"CORES_5\": {\"accuracy\": 0.9993016759776536, \"source?\": true}, \"CORES_1\": {\"accuracy\": 0.9996584699453552, \"source?\": true}, \"CORES_2\": {\"accuracy\": 0.9992937853107344, \"source?\": true}, \"ORACLE.run1_14\": {\"accuracy\": 0.18552083333333333, \"source?\": false}, \"ORACLE.run1_20\": {\"accuracy\": 0.09833333333333333, \"source?\": false}, \"ORACLE.run1_38\": {\"accuracy\": 0.21567708333333332, \"source?\": false}, \"ORACLE.run1_8\": {\"accuracy\": 0.14932291666666667, \"source?\": false}, \"ORACLE.run1_50\": {\"accuracy\": 0.1928125, \"source?\": false}, \"ORACLE.run1_32\": {\"accuracy\": 0.27197916666666666, \"source?\": false}, \"ORACLE.run1_26\": {\"accuracy\": 0.1346875, \"source?\": false}, \"ORACLE.run1_44\": {\"accuracy\": 0.22125, \"source?\": false}}}, \"history\": {\"epoch_indices\": [1, 2, 3, 4, 5, 6, 7, 8, 9, 10, 11, 12, 13], \"train_label_loss\": [0.02559095578199164, 0.006417774689195713, 0.004846815507938344, 0.0035865399089902205, 0.0028442352351425062, 0.0027064897714500313, 0.002668954528084105, 0.0017239582516871495, 0.0017897242074639058, 0.0025876142836672926, 0.0013921307599143937, 0.0017355729521530468, 0.001273238520359693], \"source_val_label_loss\": [0.006956225726753473, 0.011059298180043697, 0.0070231095887720585, 0.008283102884888649, 0.007959779351949692, 0.011171955615282059, 0.010106070898473263, 0.014500162564218044, 0.013533681631088257, 0.01126908790320158, 0.011557663790881634, 0.016148053109645844, 0.013521034270524979], \"target_val_label_loss\": [2.5567731857299805, 3.0674660205841064, 3.0629379749298096, 3.5086445808410645, 3.6882197856903076, 3.367952823638916, 3.8898463249206543, 4.681860446929932, 5.077727317810059, 5.065243244171143, 4.503059387207031, 5.1547980308532715, 5.792858600616455], \"source_val_acc_label\": [0.9987157534246576, 0.9983233447488584, 0.9993578767123288, 0.9992865296803652, 0.9992151826484018, 0.9983590182648402, 0.9995005707762558, 0.9990724885844748, 0.9992151826484018, 0.9995362442922374, 0.9996789383561644, 0.999464897260274, 0.999464897260274], \"target_val_acc_label\": [0.16665364583333334, 0.17039713541666668, 0.16465494791666666, 0.16744791666666667, 0.17787109375, 0.1766796875, 0.17227864583333333, 0.168515625, 0.18369791666666666, 0.18328776041666667, 0.15975911458333333, 0.17349609375, 0.16744791666666667]}, \"dataset_metrics\": {\"source\": {\"train\": {\"n_unique_x\": 175240, \"n_unique_y\": 58, \"n_batch/episode\": 6331}, \"val\": {\"n_unique_x\": 37196, \"n_unique_y\": 58, \"n_batch/episode\": 876}, \"test\": {\"n_unique_x\": 37634, \"n_unique_y\": 58, \"n_batch/episode\": 891}}, \"target\": {\"train\": {\"n_unique_x\": 896000, \"n_unique_y\": 16, \"n_batch/episode\": 33600}, \"val\": {\"n_unique_x\": 192000, \"n_unique_y\": 16, \"n_batch/episode\": 4800}, \"test\": {\"n_unique_x\": 192000, \"n_unique_y\": 16, \"n_batch/episode\": 4800}}}}'"
      ]
     },
     "execution_count": 29,
     "metadata": {},
     "output_type": "execute_result"
    }
   ],
   "source": [
    "json.dumps(experiment)"
   ]
  }
 ],
 "metadata": {
  "celltoolbar": "Tags",
  "kernelspec": {
   "display_name": "Python 3 (ipykernel)",
   "language": "python",
   "name": "python3"
  },
  "language_info": {
   "codemirror_mode": {
    "name": "ipython",
    "version": 3
   },
   "file_extension": ".py",
   "mimetype": "text/x-python",
   "name": "python",
   "nbconvert_exporter": "python",
   "pygments_lexer": "ipython3",
   "version": "3.8.10"
  },
  "papermill": {
   "default_parameters": {},
   "duration": 4847.305469,
   "end_time": "2022-03-21T03:20:41.386321",
   "environment_variables": {},
   "exception": null,
   "input_path": "/root/csc500-main/csc500-notebooks/templates/tl_ptn_template.ipynb",
   "output_path": "trial.ipynb",
   "parameters": {
    "parameters": {
     "BEST_MODEL_PATH": "./best_model.pth",
     "NUM_LOGS_PER_EPOCH": 10,
     "criteria_for_best": "target_accuracy",
     "dataset_seed": 1337,
     "datasets": [
      {
       "domain_prefix": "CORES_",
       "domains": [
        1,
        2,
        3,
        4,
        5
       ],
       "episode_transforms": [],
       "labels": [
        "1-10.",
        "1-11.",
        "1-15.",
        "1-16.",
        "1-17.",
        "1-18.",
        "1-19.",
        "10-4.",
        "10-7.",
        "11-1.",
        "11-14.",
        "11-17.",
        "11-20.",
        "11-7.",
        "13-20.",
        "13-8.",
        "14-10.",
        "14-11.",
        "14-14.",
        "14-7.",
        "15-1.",
        "15-20.",
        "16-1.",
        "16-16.",
        "17-10.",
        "17-11.",
        "17-2.",
        "19-1.",
        "19-16.",
        "19-19.",
        "19-20.",
        "19-3.",
        "2-10.",
        "2-11.",
        "2-17.",
        "2-18.",
        "2-20.",
        "2-3.",
        "2-4.",
        "2-5.",
        "2-6.",
        "2-7.",
        "2-8.",
        "3-13.",
        "3-18.",
        "3-3.",
        "4-1.",
        "4-10.",
        "4-11.",
        "4-19.",
        "5-5.",
        "6-15.",
        "7-10.",
        "7-14.",
        "8-18.",
        "8-20.",
        "8-3.",
        "8-8."
       ],
       "num_examples_per_domain_per_label": -1,
       "pickle_path": "/root/csc500-main/datasets/cores.stratified_ds.2022A.pkl",
       "source_or_target_dataset": "source",
       "x_transforms": [
        "unit_power"
       ]
      },
      {
       "domain_prefix": "ORACLE.run1_",
       "domains": [
        32,
        38,
        8,
        44,
        14,
        50,
        20,
        26
       ],
       "episode_transforms": [],
       "labels": [
        "3123D52",
        "3123D65",
        "3123D79",
        "3123D80",
        "3123D54",
        "3123D70",
        "3123D7B",
        "3123D89",
        "3123D58",
        "3123D76",
        "3123D7D",
        "3123EFE",
        "3123D64",
        "3123D78",
        "3123D7E",
        "3124E4A"
       ],
       "num_examples_per_domain_per_label": 10000,
       "pickle_path": "/root/csc500-main/datasets/oracle.Run1_10kExamples_stratified_ds.2022A.pkl",
       "source_or_target_dataset": "target",
       "x_transforms": [
        "unit_power"
       ]
      }
     ],
     "device": "cuda",
     "experiment_name": "tl_1v2:cores-oracle.run1",
     "lr": 0.0001,
     "n_epoch": 50,
     "n_query": 2,
     "n_shot": 3,
     "n_way": 16,
     "patience": 3,
     "seed": 1337,
     "test_k_factor": 2,
     "torch_default_dtype": "torch.float32",
     "train_k_factor": 3,
     "val_k_factor": 2,
     "x_net": [
      {
       "class": "nnReshape",
       "kargs": {
        "shape": [
         -1,
         1,
         2,
         256
        ]
       }
      },
      {
       "class": "Conv2d",
       "kargs": {
        "bias": false,
        "in_channels": 1,
        "kernel_size": [
         1,
         7
        ],
        "out_channels": 256,
        "padding": [
         0,
         3
        ]
       }
      },
      {
       "class": "ReLU",
       "kargs": {
        "inplace": true
       }
      },
      {
       "class": "BatchNorm2d",
       "kargs": {
        "num_features": 256
       }
      },
      {
       "class": "Conv2d",
       "kargs": {
        "bias": true,
        "in_channels": 256,
        "kernel_size": [
         2,
         7
        ],
        "out_channels": 80,
        "padding": [
         0,
         3
        ]
       }
      },
      {
       "class": "ReLU",
       "kargs": {
        "inplace": true
       }
      },
      {
       "class": "BatchNorm2d",
       "kargs": {
        "num_features": 80
       }
      },
      {
       "class": "Flatten",
       "kargs": {}
      },
      {
       "class": "Linear",
       "kargs": {
        "in_features": 20480,
        "out_features": 256
       }
      },
      {
       "class": "ReLU",
       "kargs": {
        "inplace": true
       }
      },
      {
       "class": "BatchNorm1d",
       "kargs": {
        "num_features": 256
       }
      },
      {
       "class": "Linear",
       "kargs": {
        "in_features": 256,
        "out_features": 256
       }
      }
     ]
    }
   },
   "start_time": "2022-03-21T01:59:54.080852",
   "version": "2.3.4"
  }
 },
 "nbformat": 4,
 "nbformat_minor": 5
}
