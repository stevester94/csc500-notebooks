{
 "cells": [
  {
   "cell_type": "markdown",
   "id": "9fea5f46",
   "metadata": {
    "papermill": {
     "duration": 0.028904,
     "end_time": "2022-03-21T22:59:05.620814",
     "exception": false,
     "start_time": "2022-03-21T22:59:05.591910",
     "status": "completed"
    },
    "tags": []
   },
   "source": [
    "# Transfer Learning Template"
   ]
  },
  {
   "cell_type": "code",
   "execution_count": 1,
   "id": "0902182a",
   "metadata": {
    "execution": {
     "iopub.execute_input": "2022-03-21T22:59:05.682451Z",
     "iopub.status.busy": "2022-03-21T22:59:05.681593Z",
     "iopub.status.idle": "2022-03-21T22:59:07.511978Z",
     "shell.execute_reply": "2022-03-21T22:59:07.511132Z"
    },
    "papermill": {
     "duration": 1.869116,
     "end_time": "2022-03-21T22:59:07.512162",
     "exception": false,
     "start_time": "2022-03-21T22:59:05.643046",
     "status": "completed"
    },
    "tags": []
   },
   "outputs": [],
   "source": [
    "%load_ext autoreload\n",
    "%autoreload 2\n",
    "%matplotlib inline\n",
    "\n",
    "    \n",
    "import os, json, sys, time, random\n",
    "import numpy as np\n",
    "import torch\n",
    "from torch.optim import Adam\n",
    "from  easydict import EasyDict\n",
    "import matplotlib.pyplot as plt\n",
    "\n",
    "from steves_models.steves_ptn import Steves_Prototypical_Network\n",
    "\n",
    "from steves_utils.lazy_iterable_wrapper import Lazy_Iterable_Wrapper\n",
    "from steves_utils.iterable_aggregator import Iterable_Aggregator\n",
    "from steves_utils.ptn_train_eval_test_jig import  PTN_Train_Eval_Test_Jig\n",
    "from steves_utils.torch_sequential_builder import build_sequential\n",
    "from steves_utils.torch_utils import get_dataset_metrics, ptn_confusion_by_domain_over_dataloader\n",
    "from steves_utils.utils_v2 import (per_domain_accuracy_from_confusion, get_datasets_base_path)\n",
    "from steves_utils.PTN.utils import independent_accuracy_assesment\n",
    "\n",
    "from torch.utils.data import DataLoader\n",
    "\n",
    "from steves_utils.stratified_dataset.episodic_accessor import Episodic_Accessor_Factory\n",
    "\n",
    "from steves_utils.ptn_do_report import (\n",
    "    get_loss_curve,\n",
    "    get_results_table,\n",
    "    get_parameters_table,\n",
    "    get_domain_accuracies,\n",
    ")\n",
    "\n",
    "from steves_utils.transforms import get_chained_transform"
   ]
  },
  {
   "cell_type": "markdown",
   "id": "41c840b4",
   "metadata": {
    "papermill": {
     "duration": 0.019367,
     "end_time": "2022-03-21T22:59:07.555944",
     "exception": false,
     "start_time": "2022-03-21T22:59:07.536577",
     "status": "completed"
    },
    "tags": []
   },
   "source": [
    "# Allowed Parameters\n",
    "These are allowed parameters, not defaults\n",
    "Each of these values need to be present in the injected parameters (the notebook will raise an exception if they are not present)\n",
    "\n",
    "Papermill uses the cell tag \"parameters\" to inject the real parameters below this cell.\n",
    "Enable tags to see what I mean"
   ]
  },
  {
   "cell_type": "code",
   "execution_count": 2,
   "id": "fd44eb83",
   "metadata": {
    "execution": {
     "iopub.execute_input": "2022-03-21T22:59:07.599638Z",
     "iopub.status.busy": "2022-03-21T22:59:07.599245Z",
     "iopub.status.idle": "2022-03-21T22:59:07.625689Z",
     "shell.execute_reply": "2022-03-21T22:59:07.624986Z"
    },
    "papermill": {
     "duration": 0.050726,
     "end_time": "2022-03-21T22:59:07.625840",
     "exception": false,
     "start_time": "2022-03-21T22:59:07.575114",
     "status": "completed"
    },
    "tags": []
   },
   "outputs": [],
   "source": [
    "required_parameters = {\n",
    "    \"experiment_name\",\n",
    "    \"lr\",\n",
    "    \"device\",\n",
    "    \"seed\",\n",
    "    \"dataset_seed\",\n",
    "    \"n_shot\",\n",
    "    \"n_query\",\n",
    "    \"n_way\",\n",
    "    \"train_k_factor\",\n",
    "    \"val_k_factor\",\n",
    "    \"test_k_factor\",\n",
    "    \"n_epoch\",\n",
    "    \"patience\",\n",
    "    \"criteria_for_best\",\n",
    "    \"x_net\",\n",
    "    \"datasets\",\n",
    "    \"torch_default_dtype\",\n",
    "    \"NUM_LOGS_PER_EPOCH\",\n",
    "    \"BEST_MODEL_PATH\",\n",
    "    \"x_shape\",\n",
    "}"
   ]
  },
  {
   "cell_type": "code",
   "execution_count": 3,
   "id": "fa3f0049",
   "metadata": {
    "execution": {
     "iopub.execute_input": "2022-03-21T22:59:07.685026Z",
     "iopub.status.busy": "2022-03-21T22:59:07.674093Z",
     "iopub.status.idle": "2022-03-21T22:59:07.711285Z",
     "shell.execute_reply": "2022-03-21T22:59:07.710472Z"
    },
    "papermill": {
     "duration": 0.060267,
     "end_time": "2022-03-21T22:59:07.711440",
     "exception": false,
     "start_time": "2022-03-21T22:59:07.651173",
     "status": "completed"
    },
    "tags": [
     "parameters"
    ]
   },
   "outputs": [],
   "source": [
    "from steves_utils.CORES.utils import (\n",
    "    ALL_NODES,\n",
    "    ALL_NODES_MINIMUM_1000_EXAMPLES,\n",
    "    ALL_DAYS\n",
    ")\n",
    "\n",
    "from steves_utils.ORACLE.utils_v2 import (\n",
    "    ALL_DISTANCES_FEET_NARROWED,\n",
    "    ALL_RUNS,\n",
    "    ALL_SERIAL_NUMBERS,\n",
    ")\n",
    "\n",
    "standalone_parameters = {}\n",
    "standalone_parameters[\"experiment_name\"] = \"STANDALONE PTN\"\n",
    "standalone_parameters[\"lr\"] = 0.001\n",
    "standalone_parameters[\"device\"] = \"cuda\"\n",
    "\n",
    "standalone_parameters[\"seed\"] = 1337\n",
    "standalone_parameters[\"dataset_seed\"] = 1337\n",
    "\n",
    "standalone_parameters[\"n_way\"] = 8\n",
    "standalone_parameters[\"n_shot\"] = 3\n",
    "standalone_parameters[\"n_query\"]  = 2\n",
    "standalone_parameters[\"train_k_factor\"] = 1\n",
    "standalone_parameters[\"val_k_factor\"] = 2\n",
    "standalone_parameters[\"test_k_factor\"] = 2\n",
    "\n",
    "\n",
    "standalone_parameters[\"n_epoch\"] = 50\n",
    "\n",
    "standalone_parameters[\"patience\"] = 10\n",
    "standalone_parameters[\"criteria_for_best\"] = \"source_loss\"\n",
    "\n",
    "standalone_parameters[\"datasets\"] = [\n",
    "    {\n",
    "        \"labels\": ALL_SERIAL_NUMBERS,\n",
    "        \"domains\": ALL_DISTANCES_FEET_NARROWED,\n",
    "        \"num_examples_per_domain_per_label\": 100,\n",
    "        \"pickle_path\": os.path.join(get_datasets_base_path(), \"oracle.Run1_framed_2000Examples_stratified_ds.2022A.pkl\"),\n",
    "        \"source_or_target_dataset\": \"source\",\n",
    "        \"x_transforms\": [\"unit_mag\", \"minus_two\"],\n",
    "        \"episode_transforms\": [],\n",
    "        \"domain_prefix\": \"ORACLE_\"\n",
    "    },\n",
    "    {\n",
    "        \"labels\": ALL_NODES,\n",
    "        \"domains\": ALL_DAYS,\n",
    "        \"num_examples_per_domain_per_label\": 100,\n",
    "        \"pickle_path\": os.path.join(get_datasets_base_path(), \"cores.stratified_ds.2022A.pkl\"),\n",
    "        \"source_or_target_dataset\": \"target\",\n",
    "        \"x_transforms\": [\"unit_power\", \"times_zero\"],\n",
    "        \"episode_transforms\": [],\n",
    "        \"domain_prefix\": \"CORES_\"\n",
    "    }   \n",
    "]\n",
    "\n",
    "standalone_parameters[\"torch_default_dtype\"] = \"torch.float32\" \n",
    "\n",
    "\n",
    "\n",
    "standalone_parameters[\"x_net\"] =     [\n",
    "    {\"class\": \"nnReshape\", \"kargs\": {\"shape\":[-1, 1, 2, 256]}},\n",
    "    {\"class\": \"Conv2d\", \"kargs\": { \"in_channels\":1, \"out_channels\":256, \"kernel_size\":(1,7), \"bias\":False, \"padding\":(0,3), },},\n",
    "    {\"class\": \"ReLU\", \"kargs\": {\"inplace\": True}},\n",
    "    {\"class\": \"BatchNorm2d\", \"kargs\": {\"num_features\":256}},\n",
    "\n",
    "    {\"class\": \"Conv2d\", \"kargs\": { \"in_channels\":256, \"out_channels\":80, \"kernel_size\":(2,7), \"bias\":True, \"padding\":(0,3), },},\n",
    "    {\"class\": \"ReLU\", \"kargs\": {\"inplace\": True}},\n",
    "    {\"class\": \"BatchNorm2d\", \"kargs\": {\"num_features\":80}},\n",
    "    {\"class\": \"Flatten\", \"kargs\": {}},\n",
    "\n",
    "    {\"class\": \"Linear\", \"kargs\": {\"in_features\": 80*256, \"out_features\": 256}}, # 80 units per IQ pair\n",
    "    {\"class\": \"ReLU\", \"kargs\": {\"inplace\": True}},\n",
    "    {\"class\": \"BatchNorm1d\", \"kargs\": {\"num_features\":256}},\n",
    "\n",
    "    {\"class\": \"Linear\", \"kargs\": {\"in_features\": 256, \"out_features\": 256}},\n",
    "]\n",
    "\n",
    "# Parameters relevant to results\n",
    "# These parameters will basically never need to change\n",
    "standalone_parameters[\"NUM_LOGS_PER_EPOCH\"] = 10\n",
    "standalone_parameters[\"BEST_MODEL_PATH\"] = \"./best_model.pth\"\n",
    "\n",
    "\n",
    "\n",
    "\n"
   ]
  },
  {
   "cell_type": "code",
   "execution_count": 4,
   "id": "2233eedf",
   "metadata": {
    "execution": {
     "iopub.execute_input": "2022-03-21T22:59:07.773670Z",
     "iopub.status.busy": "2022-03-21T22:59:07.772726Z",
     "iopub.status.idle": "2022-03-21T22:59:07.798891Z",
     "shell.execute_reply": "2022-03-21T22:59:07.798226Z"
    },
    "papermill": {
     "duration": 0.062952,
     "end_time": "2022-03-21T22:59:07.799048",
     "exception": false,
     "start_time": "2022-03-21T22:59:07.736096",
     "status": "completed"
    },
    "tags": [
     "injected-parameters"
    ]
   },
   "outputs": [],
   "source": [
    "# Parameters\n",
    "parameters = {\n",
    "    \"experiment_name\": \"tl_1v2:cores-oracle.run1\",\n",
    "    \"device\": \"cuda\",\n",
    "    \"lr\": 0.0001,\n",
    "    \"n_shot\": 3,\n",
    "    \"n_query\": 2,\n",
    "    \"train_k_factor\": 3,\n",
    "    \"val_k_factor\": 2,\n",
    "    \"test_k_factor\": 2,\n",
    "    \"torch_default_dtype\": \"torch.float32\",\n",
    "    \"n_epoch\": 50,\n",
    "    \"patience\": 3,\n",
    "    \"criteria_for_best\": \"target_accuracy\",\n",
    "    \"x_net\": [\n",
    "        {\"class\": \"nnReshape\", \"kargs\": {\"shape\": [-1, 1, 2, 256]}},\n",
    "        {\n",
    "            \"class\": \"Conv2d\",\n",
    "            \"kargs\": {\n",
    "                \"in_channels\": 1,\n",
    "                \"out_channels\": 256,\n",
    "                \"kernel_size\": [1, 7],\n",
    "                \"bias\": False,\n",
    "                \"padding\": [0, 3],\n",
    "            },\n",
    "        },\n",
    "        {\"class\": \"ReLU\", \"kargs\": {\"inplace\": True}},\n",
    "        {\"class\": \"BatchNorm2d\", \"kargs\": {\"num_features\": 256}},\n",
    "        {\n",
    "            \"class\": \"Conv2d\",\n",
    "            \"kargs\": {\n",
    "                \"in_channels\": 256,\n",
    "                \"out_channels\": 80,\n",
    "                \"kernel_size\": [2, 7],\n",
    "                \"bias\": True,\n",
    "                \"padding\": [0, 3],\n",
    "            },\n",
    "        },\n",
    "        {\"class\": \"ReLU\", \"kargs\": {\"inplace\": True}},\n",
    "        {\"class\": \"BatchNorm2d\", \"kargs\": {\"num_features\": 80}},\n",
    "        {\"class\": \"Flatten\", \"kargs\": {}},\n",
    "        {\"class\": \"Linear\", \"kargs\": {\"in_features\": 20480, \"out_features\": 256}},\n",
    "        {\"class\": \"ReLU\", \"kargs\": {\"inplace\": True}},\n",
    "        {\"class\": \"BatchNorm1d\", \"kargs\": {\"num_features\": 256}},\n",
    "        {\"class\": \"Linear\", \"kargs\": {\"in_features\": 256, \"out_features\": 256}},\n",
    "    ],\n",
    "    \"NUM_LOGS_PER_EPOCH\": 10,\n",
    "    \"BEST_MODEL_PATH\": \"./best_model.pth\",\n",
    "    \"n_way\": 16,\n",
    "    \"datasets\": [\n",
    "        {\n",
    "            \"labels\": [\n",
    "                \"1-10.\",\n",
    "                \"1-11.\",\n",
    "                \"1-15.\",\n",
    "                \"1-16.\",\n",
    "                \"1-17.\",\n",
    "                \"1-18.\",\n",
    "                \"1-19.\",\n",
    "                \"10-4.\",\n",
    "                \"10-7.\",\n",
    "                \"11-1.\",\n",
    "                \"11-14.\",\n",
    "                \"11-17.\",\n",
    "                \"11-20.\",\n",
    "                \"11-7.\",\n",
    "                \"13-20.\",\n",
    "                \"13-8.\",\n",
    "                \"14-10.\",\n",
    "                \"14-11.\",\n",
    "                \"14-14.\",\n",
    "                \"14-7.\",\n",
    "                \"15-1.\",\n",
    "                \"15-20.\",\n",
    "                \"16-1.\",\n",
    "                \"16-16.\",\n",
    "                \"17-10.\",\n",
    "                \"17-11.\",\n",
    "                \"17-2.\",\n",
    "                \"19-1.\",\n",
    "                \"19-16.\",\n",
    "                \"19-19.\",\n",
    "                \"19-20.\",\n",
    "                \"19-3.\",\n",
    "                \"2-10.\",\n",
    "                \"2-11.\",\n",
    "                \"2-17.\",\n",
    "                \"2-18.\",\n",
    "                \"2-20.\",\n",
    "                \"2-3.\",\n",
    "                \"2-4.\",\n",
    "                \"2-5.\",\n",
    "                \"2-6.\",\n",
    "                \"2-7.\",\n",
    "                \"2-8.\",\n",
    "                \"3-13.\",\n",
    "                \"3-18.\",\n",
    "                \"3-3.\",\n",
    "                \"4-1.\",\n",
    "                \"4-10.\",\n",
    "                \"4-11.\",\n",
    "                \"4-19.\",\n",
    "                \"5-5.\",\n",
    "                \"6-15.\",\n",
    "                \"7-10.\",\n",
    "                \"7-14.\",\n",
    "                \"8-18.\",\n",
    "                \"8-20.\",\n",
    "                \"8-3.\",\n",
    "                \"8-8.\",\n",
    "            ],\n",
    "            \"domains\": [1, 2, 3, 4, 5],\n",
    "            \"num_examples_per_domain_per_label\": -1,\n",
    "            \"pickle_path\": \"/root/csc500-main/datasets/cores.stratified_ds.2022A.pkl\",\n",
    "            \"source_or_target_dataset\": \"source\",\n",
    "            \"x_transforms\": [\"unit_mag\"],\n",
    "            \"episode_transforms\": [],\n",
    "            \"domain_prefix\": \"CORES_\",\n",
    "        },\n",
    "        {\n",
    "            \"labels\": [\n",
    "                \"3123D52\",\n",
    "                \"3123D65\",\n",
    "                \"3123D79\",\n",
    "                \"3123D80\",\n",
    "                \"3123D54\",\n",
    "                \"3123D70\",\n",
    "                \"3123D7B\",\n",
    "                \"3123D89\",\n",
    "                \"3123D58\",\n",
    "                \"3123D76\",\n",
    "                \"3123D7D\",\n",
    "                \"3123EFE\",\n",
    "                \"3123D64\",\n",
    "                \"3123D78\",\n",
    "                \"3123D7E\",\n",
    "                \"3124E4A\",\n",
    "            ],\n",
    "            \"domains\": [32, 38, 8, 44, 14, 50, 20, 26],\n",
    "            \"num_examples_per_domain_per_label\": 10000,\n",
    "            \"pickle_path\": \"/root/csc500-main/datasets/oracle.Run1_10kExamples_stratified_ds.2022A.pkl\",\n",
    "            \"source_or_target_dataset\": \"target\",\n",
    "            \"x_transforms\": [\"unit_mag\"],\n",
    "            \"episode_transforms\": [],\n",
    "            \"domain_prefix\": \"ORACLE.run1_\",\n",
    "        },\n",
    "    ],\n",
    "    \"dataset_seed\": 420,\n",
    "    \"seed\": 420,\n",
    "}\n"
   ]
  },
  {
   "cell_type": "code",
   "execution_count": 5,
   "id": "8fa1cc33",
   "metadata": {
    "execution": {
     "iopub.execute_input": "2022-03-21T22:59:07.851675Z",
     "iopub.status.busy": "2022-03-21T22:59:07.851097Z",
     "iopub.status.idle": "2022-03-21T22:59:07.877757Z",
     "shell.execute_reply": "2022-03-21T22:59:07.877023Z"
    },
    "papermill": {
     "duration": 0.053424,
     "end_time": "2022-03-21T22:59:07.877909",
     "exception": false,
     "start_time": "2022-03-21T22:59:07.824485",
     "status": "completed"
    },
    "tags": []
   },
   "outputs": [],
   "source": [
    "# Set this to True if you want to run this template directly\n",
    "STANDALONE = False\n",
    "if STANDALONE:\n",
    "    print(\"parameters not injected, running with standalone_parameters\")\n",
    "    parameters = standalone_parameters\n",
    "\n",
    "if not 'parameters' in locals() and not 'parameters' in globals():\n",
    "    raise Exception(\"Parameter injection failed\")\n",
    "\n",
    "#Use an easy dict for all the parameters\n",
    "p = EasyDict(parameters)\n",
    "\n",
    "if \"x_shape\" not in p:\n",
    "    p.x_shape = [2,256] # Default to this if we dont supply x_shape\n",
    "\n",
    "\n",
    "supplied_keys = set(p.keys())\n",
    "\n",
    "if  supplied_keys != required_parameters:\n",
    "    print(\"Parameters are incorrect\")\n",
    "    if len(supplied_keys - required_parameters)>0: print(\"Shouldn't have:\", str(supplied_keys - required_parameters))\n",
    "    if len(required_parameters - supplied_keys)>0: print(\"Need to have:\", str(required_parameters - supplied_keys))\n",
    "    raise RuntimeError(\"Parameters are incorrect\")"
   ]
  },
  {
   "cell_type": "code",
   "execution_count": 6,
   "id": "3a028d58",
   "metadata": {
    "execution": {
     "iopub.execute_input": "2022-03-21T22:59:07.929103Z",
     "iopub.status.busy": "2022-03-21T22:59:07.928546Z",
     "iopub.status.idle": "2022-03-21T22:59:07.956817Z",
     "shell.execute_reply": "2022-03-21T22:59:07.956117Z"
    },
    "papermill": {
     "duration": 0.053285,
     "end_time": "2022-03-21T22:59:07.956967",
     "exception": false,
     "start_time": "2022-03-21T22:59:07.903682",
     "status": "completed"
    },
    "tags": []
   },
   "outputs": [],
   "source": [
    "###################################\n",
    "# Set the RNGs and make it all deterministic\n",
    "###################################\n",
    "np.random.seed(p.seed)\n",
    "random.seed(p.seed)\n",
    "torch.manual_seed(p.seed)\n",
    "\n",
    "torch.use_deterministic_algorithms(True) "
   ]
  },
  {
   "cell_type": "code",
   "execution_count": 7,
   "id": "b691acf6",
   "metadata": {
    "execution": {
     "iopub.execute_input": "2022-03-21T22:59:08.007565Z",
     "iopub.status.busy": "2022-03-21T22:59:08.007162Z",
     "iopub.status.idle": "2022-03-21T22:59:08.033733Z",
     "shell.execute_reply": "2022-03-21T22:59:08.033019Z"
    },
    "papermill": {
     "duration": 0.050586,
     "end_time": "2022-03-21T22:59:08.033885",
     "exception": false,
     "start_time": "2022-03-21T22:59:07.983299",
     "status": "completed"
    },
    "tags": []
   },
   "outputs": [],
   "source": [
    "###########################################\n",
    "# The stratified datasets honor this\n",
    "###########################################\n",
    "torch.set_default_dtype(eval(p.torch_default_dtype))"
   ]
  },
  {
   "cell_type": "code",
   "execution_count": 8,
   "id": "b5fba671",
   "metadata": {
    "execution": {
     "iopub.execute_input": "2022-03-21T22:59:08.083476Z",
     "iopub.status.busy": "2022-03-21T22:59:08.083111Z",
     "iopub.status.idle": "2022-03-21T22:59:08.140245Z",
     "shell.execute_reply": "2022-03-21T22:59:08.139518Z"
    },
    "papermill": {
     "duration": 0.080508,
     "end_time": "2022-03-21T22:59:08.140397",
     "exception": false,
     "start_time": "2022-03-21T22:59:08.059889",
     "status": "completed"
    },
    "tags": []
   },
   "outputs": [],
   "source": [
    "###################################\n",
    "# Build the network(s)\n",
    "# Note: It's critical to do this AFTER setting the RNG\n",
    "###################################\n",
    "x_net = build_sequential(p.x_net)"
   ]
  },
  {
   "cell_type": "code",
   "execution_count": 9,
   "id": "5d7e61cc",
   "metadata": {
    "execution": {
     "iopub.execute_input": "2022-03-21T22:59:08.189015Z",
     "iopub.status.busy": "2022-03-21T22:59:08.188186Z",
     "iopub.status.idle": "2022-03-21T22:59:08.211761Z",
     "shell.execute_reply": "2022-03-21T22:59:08.210919Z"
    },
    "papermill": {
     "duration": 0.046877,
     "end_time": "2022-03-21T22:59:08.211913",
     "exception": false,
     "start_time": "2022-03-21T22:59:08.165036",
     "status": "completed"
    },
    "tags": []
   },
   "outputs": [],
   "source": [
    "start_time_secs = time.time()"
   ]
  },
  {
   "cell_type": "code",
   "execution_count": 10,
   "id": "c6b67dfd",
   "metadata": {
    "execution": {
     "iopub.execute_input": "2022-03-21T22:59:08.266921Z",
     "iopub.status.busy": "2022-03-21T22:59:08.266366Z",
     "iopub.status.idle": "2022-03-21T22:59:08.292693Z",
     "shell.execute_reply": "2022-03-21T22:59:08.291963Z"
    },
    "papermill": {
     "duration": 0.051666,
     "end_time": "2022-03-21T22:59:08.292844",
     "exception": false,
     "start_time": "2022-03-21T22:59:08.241178",
     "status": "completed"
    },
    "tags": []
   },
   "outputs": [],
   "source": [
    "p.domains_source = []\n",
    "p.domains_target = []\n",
    "\n",
    "\n",
    "train_original_source = []\n",
    "val_original_source   = []\n",
    "test_original_source  = []\n",
    "\n",
    "train_original_target = []\n",
    "val_original_target   = []\n",
    "test_original_target  = []"
   ]
  },
  {
   "cell_type": "code",
   "execution_count": 11,
   "id": "e3d9c3d3",
   "metadata": {
    "execution": {
     "iopub.execute_input": "2022-03-21T22:59:08.345776Z",
     "iopub.status.busy": "2022-03-21T22:59:08.345225Z",
     "iopub.status.idle": "2022-03-21T22:59:08.370398Z",
     "shell.execute_reply": "2022-03-21T22:59:08.369600Z"
    },
    "papermill": {
     "duration": 0.048828,
     "end_time": "2022-03-21T22:59:08.370548",
     "exception": false,
     "start_time": "2022-03-21T22:59:08.321720",
     "status": "completed"
    },
    "tags": []
   },
   "outputs": [],
   "source": [
    "# global_x_transform_func = lambda x: normalize(x.to(torch.get_default_dtype()), \"unit_power\") # unit_power, unit_mag\n",
    "# global_x_transform_func = lambda x: normalize(x, \"unit_power\") # unit_power, unit_mag"
   ]
  },
  {
   "cell_type": "code",
   "execution_count": 12,
   "id": "acb78fd2",
   "metadata": {
    "execution": {
     "iopub.execute_input": "2022-03-21T22:59:08.430474Z",
     "iopub.status.busy": "2022-03-21T22:59:08.429893Z",
     "iopub.status.idle": "2022-03-21T22:59:08.461372Z",
     "shell.execute_reply": "2022-03-21T22:59:08.460678Z"
    },
    "papermill": {
     "duration": 0.062889,
     "end_time": "2022-03-21T22:59:08.461529",
     "exception": false,
     "start_time": "2022-03-21T22:59:08.398640",
     "status": "completed"
    },
    "tags": []
   },
   "outputs": [],
   "source": [
    "def add_dataset(\n",
    "    labels,\n",
    "    domains,\n",
    "    pickle_path,\n",
    "    x_transforms,\n",
    "    episode_transforms,\n",
    "    domain_prefix,\n",
    "    num_examples_per_domain_per_label,\n",
    "    source_or_target_dataset:str,\n",
    "    iterator_seed=p.seed,\n",
    "    dataset_seed=p.dataset_seed,\n",
    "    n_shot=p.n_shot,\n",
    "    n_way=p.n_way,\n",
    "    n_query=p.n_query,\n",
    "    train_val_test_k_factors=(p.train_k_factor,p.val_k_factor,p.test_k_factor),\n",
    "):\n",
    "   \n",
    "    if x_transforms == []: x_transform = None\n",
    "    else: x_transform = get_chained_transform(x_transforms)\n",
    "    \n",
    "    if episode_transforms == []: episode_transform = None\n",
    "    else: raise Exception(\"episode_transforms not implemented\")\n",
    "    \n",
    "    episode_transform = lambda tup, _prefix=domain_prefix: (_prefix + str(tup[0]), tup[1])\n",
    "\n",
    "\n",
    "    eaf = Episodic_Accessor_Factory(\n",
    "        labels=labels,\n",
    "        domains=domains,\n",
    "        num_examples_per_domain_per_label=num_examples_per_domain_per_label,\n",
    "        iterator_seed=iterator_seed,\n",
    "        dataset_seed=dataset_seed,\n",
    "        n_shot=n_shot,\n",
    "        n_way=n_way,\n",
    "        n_query=n_query,\n",
    "        train_val_test_k_factors=train_val_test_k_factors,\n",
    "        pickle_path=pickle_path,\n",
    "        x_transform_func=x_transform,\n",
    "    )\n",
    "\n",
    "    train, val, test = eaf.get_train(), eaf.get_val(), eaf.get_test()\n",
    "    train = Lazy_Iterable_Wrapper(train, episode_transform)\n",
    "    val = Lazy_Iterable_Wrapper(val, episode_transform)\n",
    "    test = Lazy_Iterable_Wrapper(test, episode_transform)\n",
    "\n",
    "    if source_or_target_dataset==\"source\":\n",
    "        train_original_source.append(train)\n",
    "        val_original_source.append(val)\n",
    "        test_original_source.append(test)\n",
    "\n",
    "        p.domains_source.extend(\n",
    "            [domain_prefix + str(u) for u in domains]\n",
    "        )\n",
    "    elif source_or_target_dataset==\"target\":\n",
    "        train_original_target.append(train)\n",
    "        val_original_target.append(val)\n",
    "        test_original_target.append(test)\n",
    "        p.domains_target.extend(\n",
    "            [domain_prefix + str(u) for u in domains]\n",
    "        )\n",
    "    else:\n",
    "        raise Exception(f\"invalid source_or_target_dataset: {source_or_target_dataset}\")\n",
    "    "
   ]
  },
  {
   "cell_type": "code",
   "execution_count": 13,
   "id": "fe266617",
   "metadata": {
    "execution": {
     "iopub.execute_input": "2022-03-21T22:59:08.511668Z",
     "iopub.status.busy": "2022-03-21T22:59:08.511013Z",
     "iopub.status.idle": "2022-03-21T23:01:15.515001Z",
     "shell.execute_reply": "2022-03-21T23:01:15.514215Z"
    },
    "papermill": {
     "duration": 127.027118,
     "end_time": "2022-03-21T23:01:15.515202",
     "exception": false,
     "start_time": "2022-03-21T22:59:08.488084",
     "status": "completed"
    },
    "tags": []
   },
   "outputs": [],
   "source": [
    "for ds in p.datasets:\n",
    "    add_dataset(**ds)"
   ]
  },
  {
   "cell_type": "code",
   "execution_count": 14,
   "id": "b90d65ac",
   "metadata": {
    "execution": {
     "iopub.execute_input": "2022-03-21T23:01:15.565674Z",
     "iopub.status.busy": "2022-03-21T23:01:15.565023Z",
     "iopub.status.idle": "2022-03-21T23:01:15.589961Z",
     "shell.execute_reply": "2022-03-21T23:01:15.589151Z"
    },
    "papermill": {
     "duration": 0.049077,
     "end_time": "2022-03-21T23:01:15.590117",
     "exception": false,
     "start_time": "2022-03-21T23:01:15.541040",
     "status": "completed"
    },
    "tags": []
   },
   "outputs": [],
   "source": [
    "# from steves_utils.CORES.utils import (\n",
    "#     ALL_NODES,\n",
    "#     ALL_NODES_MINIMUM_1000_EXAMPLES,\n",
    "#     ALL_DAYS\n",
    "# )\n",
    "\n",
    "# add_dataset(\n",
    "#     labels=ALL_NODES,\n",
    "#     domains = ALL_DAYS,\n",
    "#     num_examples_per_domain_per_label=100,\n",
    "#     pickle_path=os.path.join(get_datasets_base_path(), \"cores.stratified_ds.2022A.pkl\"),\n",
    "#     source_or_target_dataset=\"target\",\n",
    "#     x_transform_func=global_x_transform_func,\n",
    "#     domain_modifier=lambda u: f\"cores_{u}\"\n",
    "# )"
   ]
  },
  {
   "cell_type": "code",
   "execution_count": 15,
   "id": "76db484d",
   "metadata": {
    "execution": {
     "iopub.execute_input": "2022-03-21T23:01:15.640904Z",
     "iopub.status.busy": "2022-03-21T23:01:15.640529Z",
     "iopub.status.idle": "2022-03-21T23:01:15.662514Z",
     "shell.execute_reply": "2022-03-21T23:01:15.661713Z"
    },
    "papermill": {
     "duration": 0.04628,
     "end_time": "2022-03-21T23:01:15.662666",
     "exception": false,
     "start_time": "2022-03-21T23:01:15.616386",
     "status": "completed"
    },
    "tags": []
   },
   "outputs": [],
   "source": [
    "# from steves_utils.ORACLE.utils_v2 import (\n",
    "#     ALL_DISTANCES_FEET,\n",
    "#     ALL_RUNS,\n",
    "#     ALL_SERIAL_NUMBERS,\n",
    "# )\n",
    "\n",
    "\n",
    "# add_dataset(\n",
    "#     labels=ALL_SERIAL_NUMBERS,\n",
    "#     domains = list(set(ALL_DISTANCES_FEET) - {2,62}),\n",
    "#     num_examples_per_domain_per_label=100,\n",
    "#     pickle_path=os.path.join(get_datasets_base_path(), \"oracle.Run2_framed_2000Examples_stratified_ds.2022A.pkl\"),\n",
    "#     source_or_target_dataset=\"source\",\n",
    "#     x_transform_func=global_x_transform_func,\n",
    "#     domain_modifier=lambda u: f\"oracle1_{u}\"\n",
    "# )\n"
   ]
  },
  {
   "cell_type": "code",
   "execution_count": 16,
   "id": "97dea9d2",
   "metadata": {
    "execution": {
     "iopub.execute_input": "2022-03-21T23:01:15.715731Z",
     "iopub.status.busy": "2022-03-21T23:01:15.715339Z",
     "iopub.status.idle": "2022-03-21T23:01:15.738771Z",
     "shell.execute_reply": "2022-03-21T23:01:15.737964Z"
    },
    "papermill": {
     "duration": 0.048091,
     "end_time": "2022-03-21T23:01:15.738926",
     "exception": false,
     "start_time": "2022-03-21T23:01:15.690835",
     "status": "completed"
    },
    "tags": []
   },
   "outputs": [],
   "source": [
    "# from steves_utils.ORACLE.utils_v2 import (\n",
    "#     ALL_DISTANCES_FEET,\n",
    "#     ALL_RUNS,\n",
    "#     ALL_SERIAL_NUMBERS,\n",
    "# )\n",
    "\n",
    "\n",
    "# add_dataset(\n",
    "#     labels=ALL_SERIAL_NUMBERS,\n",
    "#     domains = list(set(ALL_DISTANCES_FEET) - {2,62,56}),\n",
    "#     num_examples_per_domain_per_label=100,\n",
    "#     pickle_path=os.path.join(get_datasets_base_path(), \"oracle.Run2_framed_2000Examples_stratified_ds.2022A.pkl\"),\n",
    "#     source_or_target_dataset=\"source\",\n",
    "#     x_transform_func=global_x_transform_func,\n",
    "#     domain_modifier=lambda u: f\"oracle2_{u}\"\n",
    "# )"
   ]
  },
  {
   "cell_type": "code",
   "execution_count": 17,
   "id": "6f289866",
   "metadata": {
    "execution": {
     "iopub.execute_input": "2022-03-21T23:01:15.794242Z",
     "iopub.status.busy": "2022-03-21T23:01:15.793277Z",
     "iopub.status.idle": "2022-03-21T23:01:15.815904Z",
     "shell.execute_reply": "2022-03-21T23:01:15.815060Z"
    },
    "papermill": {
     "duration": 0.046721,
     "end_time": "2022-03-21T23:01:15.816064",
     "exception": false,
     "start_time": "2022-03-21T23:01:15.769343",
     "status": "completed"
    },
    "tags": []
   },
   "outputs": [],
   "source": [
    "# add_dataset(\n",
    "#     labels=list(range(19)),\n",
    "#     domains = [0,1,2],\n",
    "#     num_examples_per_domain_per_label=100,\n",
    "#     pickle_path=os.path.join(get_datasets_base_path(), \"metehan.stratified_ds.2022A.pkl\"),\n",
    "#     source_or_target_dataset=\"target\",\n",
    "#     x_transform_func=global_x_transform_func,\n",
    "#     domain_modifier=lambda u: f\"met_{u}\"\n",
    "# )"
   ]
  },
  {
   "cell_type": "code",
   "execution_count": 18,
   "id": "86a863c3",
   "metadata": {
    "execution": {
     "iopub.execute_input": "2022-03-21T23:01:15.869259Z",
     "iopub.status.busy": "2022-03-21T23:01:15.868688Z",
     "iopub.status.idle": "2022-03-21T23:01:15.890523Z",
     "shell.execute_reply": "2022-03-21T23:01:15.889819Z"
    },
    "papermill": {
     "duration": 0.046965,
     "end_time": "2022-03-21T23:01:15.890675",
     "exception": false,
     "start_time": "2022-03-21T23:01:15.843710",
     "status": "completed"
    },
    "tags": []
   },
   "outputs": [],
   "source": [
    "# # from steves_utils.wisig.utils import (\n",
    "# #     ALL_NODES_MINIMUM_100_EXAMPLES,\n",
    "# #     ALL_NODES_MINIMUM_500_EXAMPLES,\n",
    "# #     ALL_NODES_MINIMUM_1000_EXAMPLES,\n",
    "# #     ALL_DAYS\n",
    "# # )\n",
    "\n",
    "# import steves_utils.wisig.utils as wisig\n",
    "\n",
    "\n",
    "# add_dataset(\n",
    "#     labels=wisig.ALL_NODES_MINIMUM_100_EXAMPLES,\n",
    "#     domains = wisig.ALL_DAYS,\n",
    "#     num_examples_per_domain_per_label=100,\n",
    "#     pickle_path=os.path.join(get_datasets_base_path(), \"wisig.node3-19.stratified_ds.2022A.pkl\"),\n",
    "#     source_or_target_dataset=\"target\",\n",
    "#     x_transform_func=global_x_transform_func,\n",
    "#     domain_modifier=lambda u: f\"wisig_{u}\"\n",
    "# )"
   ]
  },
  {
   "cell_type": "code",
   "execution_count": 19,
   "id": "fd5442bc",
   "metadata": {
    "execution": {
     "iopub.execute_input": "2022-03-21T23:01:15.948515Z",
     "iopub.status.busy": "2022-03-21T23:01:15.947859Z",
     "iopub.status.idle": "2022-03-21T23:01:15.967849Z",
     "shell.execute_reply": "2022-03-21T23:01:15.967027Z"
    },
    "papermill": {
     "duration": 0.049303,
     "end_time": "2022-03-21T23:01:15.968012",
     "exception": false,
     "start_time": "2022-03-21T23:01:15.918709",
     "status": "completed"
    },
    "tags": []
   },
   "outputs": [],
   "source": [
    "###################################\n",
    "# Build the dataset\n",
    "###################################\n",
    "train_original_source = Iterable_Aggregator(train_original_source, p.seed)\n",
    "val_original_source = Iterable_Aggregator(val_original_source, p.seed)\n",
    "test_original_source = Iterable_Aggregator(test_original_source, p.seed)\n",
    "\n",
    "\n",
    "train_original_target = Iterable_Aggregator(train_original_target, p.seed)\n",
    "val_original_target = Iterable_Aggregator(val_original_target, p.seed)\n",
    "test_original_target = Iterable_Aggregator(test_original_target, p.seed)\n",
    "\n",
    "# For CNN We only use X and Y. And we only train on the source.\n",
    "# Properly form the data using a transform lambda and Lazy_Iterable_Wrapper. Finally wrap them in a dataloader\n",
    "\n",
    "transform_lambda = lambda ex: ex[1] # Original is (<domain>, <episode>) so we strip down to episode only\n",
    "\n",
    "train_processed_source = Lazy_Iterable_Wrapper(train_original_source, transform_lambda)\n",
    "val_processed_source   = Lazy_Iterable_Wrapper(val_original_source, transform_lambda)\n",
    "test_processed_source  = Lazy_Iterable_Wrapper(test_original_source, transform_lambda)\n",
    "\n",
    "train_processed_target = Lazy_Iterable_Wrapper(train_original_target, transform_lambda)\n",
    "val_processed_target   = Lazy_Iterable_Wrapper(val_original_target, transform_lambda)\n",
    "test_processed_target  = Lazy_Iterable_Wrapper(test_original_target, transform_lambda)\n",
    "\n",
    "datasets = EasyDict({\n",
    "    \"source\": {\n",
    "        \"original\": {\"train\":train_original_source, \"val\":val_original_source, \"test\":test_original_source},\n",
    "        \"processed\": {\"train\":train_processed_source, \"val\":val_processed_source, \"test\":test_processed_source}\n",
    "    },\n",
    "    \"target\": {\n",
    "        \"original\": {\"train\":train_original_target, \"val\":val_original_target, \"test\":test_original_target},\n",
    "        \"processed\": {\"train\":train_processed_target, \"val\":val_processed_target, \"test\":test_processed_target}\n",
    "    },\n",
    "})"
   ]
  },
  {
   "cell_type": "code",
   "execution_count": 20,
   "id": "5b3c01fc",
   "metadata": {
    "execution": {
     "iopub.execute_input": "2022-03-21T23:01:16.021273Z",
     "iopub.status.busy": "2022-03-21T23:01:16.020792Z",
     "iopub.status.idle": "2022-03-21T23:01:48.946835Z",
     "shell.execute_reply": "2022-03-21T23:01:48.945967Z"
    },
    "papermill": {
     "duration": 32.951552,
     "end_time": "2022-03-21T23:01:48.947008",
     "exception": false,
     "start_time": "2022-03-21T23:01:15.995456",
     "status": "completed"
    },
    "tags": []
   },
   "outputs": [
    {
     "name": "stdout",
     "output_type": "stream",
     "text": [
      "{'CORES_2', 'CORES_4', 'CORES_3', 'CORES_1', 'CORES_5'}\n"
     ]
    },
    {
     "name": "stdout",
     "output_type": "stream",
     "text": [
      "{'ORACLE.run1_20', 'ORACLE.run1_14', 'ORACLE.run1_26', 'ORACLE.run1_8', 'ORACLE.run1_38', 'ORACLE.run1_44', 'ORACLE.run1_50', 'ORACLE.run1_32'}\n"
     ]
    },
    {
     "name": "stdout",
     "output_type": "stream",
     "text": [
      "tensor([[[ 0.2207, -0.8955, -1.4148,  ...,  0.8358,  0.5855, -0.6649],\n",
      "         [ 0.5143,  0.5559, -0.0257,  ...,  0.7904,  0.6348,  0.2624]],\n",
      "\n",
      "        [[ 0.3813,  0.0901, -1.0879,  ...,  0.6459,  1.1710,  0.1941],\n",
      "         [ 0.1369,  0.6194,  0.7569,  ...,  0.3198,  0.4811,  0.3219]],\n",
      "\n",
      "        [[-0.5253, -0.1609,  0.6507,  ..., -1.0444, -1.0304,  0.0376],\n",
      "         [-0.0125, -0.7998, -1.2360,  ...,  0.1756,  0.2041, -0.5121]],\n",
      "\n",
      "        ...,\n",
      "\n",
      "        [[ 0.0857,  0.1039,  0.2637,  ...,  0.6418,  0.1429,  0.4326],\n",
      "         [-0.0091, -0.0221,  0.6678,  ...,  0.5924,  0.2858, -0.1494]],\n",
      "\n",
      "        [[-0.4718, -0.7281,  1.0813,  ..., -0.1224,  0.3392,  1.0660],\n",
      "         [ 0.1734, -0.9487, -0.8237,  ...,  0.4182, -0.0587, -0.7013]],\n",
      "\n",
      "        [[-0.8310,  0.1315,  1.4780,  ...,  0.0039,  0.8284,  0.9665],\n",
      "         [-0.2932, -1.2663,  0.2682,  ...,  0.3997, -0.6364, -0.0868]]])\n"
     ]
    }
   ],
   "source": [
    "from steves_utils.transforms import get_average_magnitude, get_average_power\n",
    "\n",
    "print(set([u for u,_ in val_original_source]))\n",
    "print(set([u for u,_ in val_original_target]))\n",
    "\n",
    "s_x, s_y, q_x, q_y, _ = next(iter(train_processed_source))\n",
    "print(s_x)\n",
    "\n",
    "# for ds in [\n",
    "#     train_processed_source,\n",
    "#     val_processed_source,\n",
    "#     test_processed_source,\n",
    "#     train_processed_target,\n",
    "#     val_processed_target,\n",
    "#     test_processed_target\n",
    "# ]:\n",
    "#     for s_x, s_y, q_x, q_y, _ in ds:\n",
    "#         for X in (s_x, q_x):\n",
    "#             for x in X:\n",
    "#                 assert np.isclose(get_average_magnitude(x.numpy()), 1.0)\n",
    "#                 assert np.isclose(get_average_power(x.numpy()), 1.0)\n",
    "                "
   ]
  },
  {
   "cell_type": "code",
   "execution_count": 21,
   "id": "bbdacba1",
   "metadata": {
    "execution": {
     "iopub.execute_input": "2022-03-21T23:01:49.001219Z",
     "iopub.status.busy": "2022-03-21T23:01:49.000793Z",
     "iopub.status.idle": "2022-03-21T23:01:49.185312Z",
     "shell.execute_reply": "2022-03-21T23:01:49.185619Z"
    },
    "papermill": {
     "duration": 0.213382,
     "end_time": "2022-03-21T23:01:49.185723",
     "exception": false,
     "start_time": "2022-03-21T23:01:48.972341",
     "status": "completed"
    },
    "tags": []
   },
   "outputs": [
    {
     "name": "stdout",
     "output_type": "stream",
     "text": [
      "(2, 256)\n"
     ]
    }
   ],
   "source": [
    "###################################\n",
    "# Build the model\n",
    "###################################\n",
    "# easfsl only wants a tuple for the shape\n",
    "model = Steves_Prototypical_Network(x_net, device=p.device, x_shape=tuple(p.x_shape))\n",
    "optimizer = Adam(params=model.parameters(), lr=p.lr)"
   ]
  },
  {
   "cell_type": "code",
   "execution_count": 22,
   "id": "22b39ac5",
   "metadata": {
    "execution": {
     "iopub.execute_input": "2022-03-21T23:01:49.249435Z",
     "iopub.status.busy": "2022-03-21T23:01:49.249062Z",
     "iopub.status.idle": "2022-03-21T23:57:00.758924Z",
     "shell.execute_reply": "2022-03-21T23:57:00.758570Z"
    },
    "papermill": {
     "duration": 3311.551345,
     "end_time": "2022-03-21T23:57:00.759013",
     "exception": false,
     "start_time": "2022-03-21T23:01:49.207668",
     "status": "completed"
    },
    "tags": []
   },
   "outputs": [
    {
     "name": "stdout",
     "output_type": "stream",
     "text": [
      "epoch: 1, [batch: 1 / 6315], examples_per_second: 31.5021, train_label_loss: 2.6447, \n"
     ]
    },
    {
     "name": "stdout",
     "output_type": "stream",
     "text": [
      "epoch: 1, [batch: 632 / 6315], examples_per_second: 2940.8390, train_label_loss: 0.0050, \n"
     ]
    },
    {
     "name": "stdout",
     "output_type": "stream",
     "text": [
      "epoch: 1, [batch: 1263 / 6315], examples_per_second: 3014.6088, train_label_loss: 0.0266, \n"
     ]
    },
    {
     "name": "stdout",
     "output_type": "stream",
     "text": [
      "epoch: 1, [batch: 1895 / 6315], examples_per_second: 2975.3835, train_label_loss: 0.0018, \n"
     ]
    },
    {
     "name": "stdout",
     "output_type": "stream",
     "text": [
      "epoch: 1, [batch: 2526 / 6315], examples_per_second: 2919.5297, train_label_loss: 0.0007, \n"
     ]
    },
    {
     "name": "stdout",
     "output_type": "stream",
     "text": [
      "epoch: 1, [batch: 3158 / 6315], examples_per_second: 2949.0703, train_label_loss: 0.0003, \n"
     ]
    },
    {
     "name": "stdout",
     "output_type": "stream",
     "text": [
      "epoch: 1, [batch: 3789 / 6315], examples_per_second: 2949.3158, train_label_loss: 0.0081, \n"
     ]
    },
    {
     "name": "stdout",
     "output_type": "stream",
     "text": [
      "epoch: 1, [batch: 4420 / 6315], examples_per_second: 2945.9372, train_label_loss: 0.0016, \n"
     ]
    },
    {
     "name": "stdout",
     "output_type": "stream",
     "text": [
      "epoch: 1, [batch: 5052 / 6315], examples_per_second: 3231.3168, train_label_loss: 0.0011, \n"
     ]
    },
    {
     "name": "stdout",
     "output_type": "stream",
     "text": [
      "epoch: 1, [batch: 5683 / 6315], examples_per_second: 3809.5643, train_label_loss: 0.0001, \n"
     ]
    },
    {
     "name": "stdout",
     "output_type": "stream",
     "text": [
      "=============================================================\n",
      "epoch: 1, source_val_acc_label: 0.9968, target_val_acc_label: 0.1455, source_val_label_loss: 0.0128, target_val_label_loss: 2.6686, \n",
      "=============================================================\n"
     ]
    },
    {
     "name": "stdout",
     "output_type": "stream",
     "text": [
      "New best\n"
     ]
    },
    {
     "name": "stdout",
     "output_type": "stream",
     "text": [
      "epoch: 2, [batch: 1 / 6307], examples_per_second: 1.7226, train_label_loss: 0.0010, \n"
     ]
    },
    {
     "name": "stdout",
     "output_type": "stream",
     "text": [
      "epoch: 2, [batch: 631 / 6307], examples_per_second: 2962.9473, train_label_loss: 0.0007, \n"
     ]
    },
    {
     "name": "stdout",
     "output_type": "stream",
     "text": [
      "epoch: 2, [batch: 1262 / 6307], examples_per_second: 2975.2192, train_label_loss: 0.0000, \n"
     ]
    },
    {
     "name": "stdout",
     "output_type": "stream",
     "text": [
      "epoch: 2, [batch: 1892 / 6307], examples_per_second: 2989.5933, train_label_loss: 0.0000, \n"
     ]
    },
    {
     "name": "stdout",
     "output_type": "stream",
     "text": [
      "epoch: 2, [batch: 2523 / 6307], examples_per_second: 2992.3327, train_label_loss: 0.0003, \n"
     ]
    },
    {
     "name": "stdout",
     "output_type": "stream",
     "text": [
      "epoch: 2, [batch: 3154 / 6307], examples_per_second: 2978.6165, train_label_loss: 0.0000, \n"
     ]
    },
    {
     "name": "stdout",
     "output_type": "stream",
     "text": [
      "epoch: 2, [batch: 3784 / 6307], examples_per_second: 3305.4824, train_label_loss: 0.0036, \n"
     ]
    },
    {
     "name": "stdout",
     "output_type": "stream",
     "text": [
      "epoch: 2, [batch: 4415 / 6307], examples_per_second: 3413.4834, train_label_loss: 0.0000, \n"
     ]
    },
    {
     "name": "stdout",
     "output_type": "stream",
     "text": [
      "epoch: 2, [batch: 5045 / 6307], examples_per_second: 3589.3371, train_label_loss: 0.0000, \n"
     ]
    },
    {
     "name": "stdout",
     "output_type": "stream",
     "text": [
      "epoch: 2, [batch: 5676 / 6307], examples_per_second: 3035.0069, train_label_loss: 0.0000, \n"
     ]
    },
    {
     "name": "stdout",
     "output_type": "stream",
     "text": [
      "=============================================================\n",
      "epoch: 2, source_val_acc_label: 0.9989, target_val_acc_label: 0.1506, source_val_label_loss: 0.0094, target_val_label_loss: 3.1326, \n",
      "=============================================================\n"
     ]
    },
    {
     "name": "stdout",
     "output_type": "stream",
     "text": [
      "New best\n"
     ]
    },
    {
     "name": "stdout",
     "output_type": "stream",
     "text": [
      "epoch: 3, [batch: 1 / 6326], examples_per_second: 1.2914, train_label_loss: 0.0000, \n"
     ]
    },
    {
     "name": "stdout",
     "output_type": "stream",
     "text": [
      "epoch: 3, [batch: 633 / 6326], examples_per_second: 2998.6202, train_label_loss: 0.0000, \n"
     ]
    },
    {
     "name": "stdout",
     "output_type": "stream",
     "text": [
      "epoch: 3, [batch: 1266 / 6326], examples_per_second: 3247.3851, train_label_loss: 0.0000, \n"
     ]
    },
    {
     "name": "stdout",
     "output_type": "stream",
     "text": [
      "epoch: 3, [batch: 1898 / 6326], examples_per_second: 3353.8903, train_label_loss: 0.0002, \n"
     ]
    },
    {
     "name": "stdout",
     "output_type": "stream",
     "text": [
      "epoch: 3, [batch: 2531 / 6326], examples_per_second: 3599.5262, train_label_loss: 0.0000, \n"
     ]
    },
    {
     "name": "stdout",
     "output_type": "stream",
     "text": [
      "epoch: 3, [batch: 3163 / 6326], examples_per_second: 3060.2482, train_label_loss: 0.0000, \n"
     ]
    },
    {
     "name": "stdout",
     "output_type": "stream",
     "text": [
      "epoch: 3, [batch: 3796 / 6326], examples_per_second: 3012.5780, train_label_loss: 0.0000, \n"
     ]
    },
    {
     "name": "stdout",
     "output_type": "stream",
     "text": [
      "epoch: 3, [batch: 4428 / 6326], examples_per_second: 3006.3442, train_label_loss: 0.0000, \n"
     ]
    },
    {
     "name": "stdout",
     "output_type": "stream",
     "text": [
      "epoch: 3, [batch: 5061 / 6326], examples_per_second: 3001.0235, train_label_loss: 0.0000, \n"
     ]
    },
    {
     "name": "stdout",
     "output_type": "stream",
     "text": [
      "epoch: 3, [batch: 5693 / 6326], examples_per_second: 3006.9394, train_label_loss: 0.0000, \n"
     ]
    },
    {
     "name": "stdout",
     "output_type": "stream",
     "text": [
      "=============================================================\n",
      "epoch: 3, source_val_acc_label: 0.9987, target_val_acc_label: 0.1622, source_val_label_loss: 0.0100, target_val_label_loss: 3.4811, \n",
      "=============================================================\n"
     ]
    },
    {
     "name": "stdout",
     "output_type": "stream",
     "text": [
      "New best\n"
     ]
    },
    {
     "name": "stdout",
     "output_type": "stream",
     "text": [
      "epoch: 4, [batch: 1 / 6302], examples_per_second: 1.3290, train_label_loss: 0.0000, \n"
     ]
    },
    {
     "name": "stdout",
     "output_type": "stream",
     "text": [
      "epoch: 4, [batch: 631 / 6302], examples_per_second: 3056.0582, train_label_loss: 0.0000, \n"
     ]
    },
    {
     "name": "stdout",
     "output_type": "stream",
     "text": [
      "epoch: 4, [batch: 1261 / 6302], examples_per_second: 2928.4244, train_label_loss: 0.0001, \n"
     ]
    },
    {
     "name": "stdout",
     "output_type": "stream",
     "text": [
      "epoch: 4, [batch: 1891 / 6302], examples_per_second: 2969.9929, train_label_loss: 0.0000, \n"
     ]
    },
    {
     "name": "stdout",
     "output_type": "stream",
     "text": [
      "epoch: 4, [batch: 2521 / 6302], examples_per_second: 3009.8929, train_label_loss: 0.0000, \n"
     ]
    },
    {
     "name": "stdout",
     "output_type": "stream",
     "text": [
      "epoch: 4, [batch: 3151 / 6302], examples_per_second: 3046.6423, train_label_loss: 0.0000, \n"
     ]
    },
    {
     "name": "stdout",
     "output_type": "stream",
     "text": [
      "epoch: 4, [batch: 3781 / 6302], examples_per_second: 3010.2483, train_label_loss: 0.0000, \n"
     ]
    },
    {
     "name": "stdout",
     "output_type": "stream",
     "text": [
      "epoch: 4, [batch: 4411 / 6302], examples_per_second: 3029.9498, train_label_loss: 0.0000, \n"
     ]
    },
    {
     "name": "stdout",
     "output_type": "stream",
     "text": [
      "epoch: 4, [batch: 5041 / 6302], examples_per_second: 3041.6894, train_label_loss: 0.0000, \n"
     ]
    },
    {
     "name": "stdout",
     "output_type": "stream",
     "text": [
      "epoch: 4, [batch: 5671 / 6302], examples_per_second: 3020.6705, train_label_loss: 0.0000, \n"
     ]
    },
    {
     "name": "stdout",
     "output_type": "stream",
     "text": [
      "=============================================================\n",
      "epoch: 4, source_val_acc_label: 0.9986, target_val_acc_label: 0.1608, source_val_label_loss: 0.0118, target_val_label_loss: 3.2880, \n",
      "=============================================================\n"
     ]
    },
    {
     "name": "stdout",
     "output_type": "stream",
     "text": [
      "epoch: 5, [batch: 1 / 6324], examples_per_second: 1.3889, train_label_loss: 0.0000, \n"
     ]
    },
    {
     "name": "stdout",
     "output_type": "stream",
     "text": [
      "epoch: 5, [batch: 633 / 6324], examples_per_second: 3017.9253, train_label_loss: 0.0000, \n"
     ]
    },
    {
     "name": "stdout",
     "output_type": "stream",
     "text": [
      "epoch: 5, [batch: 1265 / 6324], examples_per_second: 3335.5666, train_label_loss: 0.0002, \n"
     ]
    },
    {
     "name": "stdout",
     "output_type": "stream",
     "text": [
      "epoch: 5, [batch: 1897 / 6324], examples_per_second: 3393.3371, train_label_loss: 0.0000, \n"
     ]
    },
    {
     "name": "stdout",
     "output_type": "stream",
     "text": [
      "epoch: 5, [batch: 2530 / 6324], examples_per_second: 3419.9838, train_label_loss: 0.0041, \n"
     ]
    },
    {
     "name": "stdout",
     "output_type": "stream",
     "text": [
      "epoch: 5, [batch: 3162 / 6324], examples_per_second: 3425.7413, train_label_loss: 0.0000, \n"
     ]
    },
    {
     "name": "stdout",
     "output_type": "stream",
     "text": [
      "epoch: 5, [batch: 3794 / 6324], examples_per_second: 3373.7645, train_label_loss: 0.0000, \n"
     ]
    },
    {
     "name": "stdout",
     "output_type": "stream",
     "text": [
      "epoch: 5, [batch: 4427 / 6324], examples_per_second: 3495.4109, train_label_loss: 0.0000, \n"
     ]
    },
    {
     "name": "stdout",
     "output_type": "stream",
     "text": [
      "epoch: 5, [batch: 5059 / 6324], examples_per_second: 3813.0380, train_label_loss: 0.0000, \n"
     ]
    },
    {
     "name": "stdout",
     "output_type": "stream",
     "text": [
      "epoch: 5, [batch: 5691 / 6324], examples_per_second: 4234.9860, train_label_loss: 0.0000, \n"
     ]
    },
    {
     "name": "stdout",
     "output_type": "stream",
     "text": [
      "=============================================================\n",
      "epoch: 5, source_val_acc_label: 0.9993, target_val_acc_label: 0.1661, source_val_label_loss: 0.0090, target_val_label_loss: 3.8396, \n",
      "=============================================================\n"
     ]
    },
    {
     "name": "stdout",
     "output_type": "stream",
     "text": [
      "New best\n"
     ]
    },
    {
     "name": "stdout",
     "output_type": "stream",
     "text": [
      "epoch: 6, [batch: 1 / 6313], examples_per_second: 1.3996, train_label_loss: 0.0000, \n"
     ]
    },
    {
     "name": "stdout",
     "output_type": "stream",
     "text": [
      "epoch: 6, [batch: 632 / 6313], examples_per_second: 2972.9080, train_label_loss: 0.0000, \n"
     ]
    },
    {
     "name": "stdout",
     "output_type": "stream",
     "text": [
      "epoch: 6, [batch: 1263 / 6313], examples_per_second: 2998.0837, train_label_loss: 0.0000, \n"
     ]
    },
    {
     "name": "stdout",
     "output_type": "stream",
     "text": [
      "epoch: 6, [batch: 1894 / 6313], examples_per_second: 2982.2101, train_label_loss: 0.0000, \n"
     ]
    },
    {
     "name": "stdout",
     "output_type": "stream",
     "text": [
      "epoch: 6, [batch: 2525 / 6313], examples_per_second: 3197.2854, train_label_loss: 0.0000, \n"
     ]
    },
    {
     "name": "stdout",
     "output_type": "stream",
     "text": [
      "epoch: 6, [batch: 3157 / 6313], examples_per_second: 3426.6337, train_label_loss: 0.0000, \n"
     ]
    },
    {
     "name": "stdout",
     "output_type": "stream",
     "text": [
      "epoch: 6, [batch: 3788 / 6313], examples_per_second: 3507.9994, train_label_loss: 0.0000, \n"
     ]
    },
    {
     "name": "stdout",
     "output_type": "stream",
     "text": [
      "epoch: 6, [batch: 4419 / 6313], examples_per_second: 3453.5646, train_label_loss: 0.0000, \n"
     ]
    },
    {
     "name": "stdout",
     "output_type": "stream",
     "text": [
      "epoch: 6, [batch: 5050 / 6313], examples_per_second: 3405.2716, train_label_loss: 0.0000, \n"
     ]
    },
    {
     "name": "stdout",
     "output_type": "stream",
     "text": [
      "epoch: 6, [batch: 5681 / 6313], examples_per_second: 3482.5713, train_label_loss: 0.0000, \n"
     ]
    },
    {
     "name": "stdout",
     "output_type": "stream",
     "text": [
      "=============================================================\n",
      "epoch: 6, source_val_acc_label: 0.9995, target_val_acc_label: 0.1679, source_val_label_loss: 0.0100, target_val_label_loss: 3.9640, \n",
      "=============================================================\n"
     ]
    },
    {
     "name": "stdout",
     "output_type": "stream",
     "text": [
      "New best\n"
     ]
    },
    {
     "name": "stdout",
     "output_type": "stream",
     "text": [
      "epoch: 7, [batch: 1 / 6295], examples_per_second: 1.5848, train_label_loss: 0.0000, \n"
     ]
    },
    {
     "name": "stdout",
     "output_type": "stream",
     "text": [
      "epoch: 7, [batch: 630 / 6295], examples_per_second: 3962.2238, train_label_loss: 0.0000, \n"
     ]
    },
    {
     "name": "stdout",
     "output_type": "stream",
     "text": [
      "epoch: 7, [batch: 1259 / 6295], examples_per_second: 3922.5863, train_label_loss: 0.0000, \n"
     ]
    },
    {
     "name": "stdout",
     "output_type": "stream",
     "text": [
      "epoch: 7, [batch: 1889 / 6295], examples_per_second: 3909.0732, train_label_loss: 0.0000, \n"
     ]
    },
    {
     "name": "stdout",
     "output_type": "stream",
     "text": [
      "epoch: 7, [batch: 2518 / 6295], examples_per_second: 3808.0905, train_label_loss: 0.0000, \n"
     ]
    },
    {
     "name": "stdout",
     "output_type": "stream",
     "text": [
      "epoch: 7, [batch: 3148 / 6295], examples_per_second: 3957.3352, train_label_loss: 0.0001, \n"
     ]
    },
    {
     "name": "stdout",
     "output_type": "stream",
     "text": [
      "epoch: 7, [batch: 3777 / 6295], examples_per_second: 3848.9640, train_label_loss: 0.0000, \n"
     ]
    },
    {
     "name": "stdout",
     "output_type": "stream",
     "text": [
      "epoch: 7, [batch: 4406 / 6295], examples_per_second: 3949.6930, train_label_loss: 0.0000, \n"
     ]
    },
    {
     "name": "stdout",
     "output_type": "stream",
     "text": [
      "epoch: 7, [batch: 5036 / 6295], examples_per_second: 3986.5838, train_label_loss: 0.0000, \n"
     ]
    },
    {
     "name": "stdout",
     "output_type": "stream",
     "text": [
      "epoch: 7, [batch: 5665 / 6295], examples_per_second: 4112.9695, train_label_loss: 0.0000, \n"
     ]
    },
    {
     "name": "stdout",
     "output_type": "stream",
     "text": [
      "=============================================================\n",
      "epoch: 7, source_val_acc_label: 0.9996, target_val_acc_label: 0.1707, source_val_label_loss: 0.0103, target_val_label_loss: 4.4654, \n",
      "=============================================================\n"
     ]
    },
    {
     "name": "stdout",
     "output_type": "stream",
     "text": [
      "New best\n"
     ]
    },
    {
     "name": "stdout",
     "output_type": "stream",
     "text": [
      "epoch: 8, [batch: 1 / 6293], examples_per_second: 1.3760, train_label_loss: 0.0000, \n"
     ]
    },
    {
     "name": "stdout",
     "output_type": "stream",
     "text": [
      "epoch: 8, [batch: 630 / 6293], examples_per_second: 2964.8193, train_label_loss: 0.0000, \n"
     ]
    },
    {
     "name": "stdout",
     "output_type": "stream",
     "text": [
      "epoch: 8, [batch: 1259 / 6293], examples_per_second: 2974.5395, train_label_loss: 0.0000, \n"
     ]
    },
    {
     "name": "stdout",
     "output_type": "stream",
     "text": [
      "epoch: 8, [batch: 1888 / 6293], examples_per_second: 2974.6603, train_label_loss: 0.0000, \n"
     ]
    },
    {
     "name": "stdout",
     "output_type": "stream",
     "text": [
      "epoch: 8, [batch: 2517 / 6293], examples_per_second: 2950.7196, train_label_loss: 0.0000, \n"
     ]
    },
    {
     "name": "stdout",
     "output_type": "stream",
     "text": [
      "epoch: 8, [batch: 3147 / 6293], examples_per_second: 3302.0699, train_label_loss: 0.0000, \n"
     ]
    },
    {
     "name": "stdout",
     "output_type": "stream",
     "text": [
      "epoch: 8, [batch: 3776 / 6293], examples_per_second: 3427.3445, train_label_loss: 0.0000, \n"
     ]
    },
    {
     "name": "stdout",
     "output_type": "stream",
     "text": [
      "epoch: 8, [batch: 4405 / 6293], examples_per_second: 3514.1784, train_label_loss: 0.0000, \n"
     ]
    },
    {
     "name": "stdout",
     "output_type": "stream",
     "text": [
      "epoch: 8, [batch: 5034 / 6293], examples_per_second: 2989.3105, train_label_loss: 0.0000, \n"
     ]
    },
    {
     "name": "stdout",
     "output_type": "stream",
     "text": [
      "epoch: 8, [batch: 5663 / 6293], examples_per_second: 2985.3041, train_label_loss: 0.0000, \n"
     ]
    },
    {
     "name": "stdout",
     "output_type": "stream",
     "text": [
      "=============================================================\n",
      "epoch: 8, source_val_acc_label: 0.9996, target_val_acc_label: 0.1687, source_val_label_loss: 0.0135, target_val_label_loss: 4.8787, \n",
      "=============================================================\n"
     ]
    },
    {
     "name": "stdout",
     "output_type": "stream",
     "text": [
      "epoch: 9, [batch: 1 / 6315], examples_per_second: 1.3680, train_label_loss: 0.0000, \n"
     ]
    },
    {
     "name": "stdout",
     "output_type": "stream",
     "text": [
      "epoch: 9, [batch: 632 / 6315], examples_per_second: 3595.5715, train_label_loss: 0.0000, \n"
     ]
    },
    {
     "name": "stdout",
     "output_type": "stream",
     "text": [
      "epoch: 9, [batch: 1263 / 6315], examples_per_second: 3758.8790, train_label_loss: 0.0000, \n"
     ]
    },
    {
     "name": "stdout",
     "output_type": "stream",
     "text": [
      "epoch: 9, [batch: 1895 / 6315], examples_per_second: 4542.1524, train_label_loss: 0.0000, \n"
     ]
    },
    {
     "name": "stdout",
     "output_type": "stream",
     "text": [
      "epoch: 9, [batch: 2526 / 6315], examples_per_second: 3879.7369, train_label_loss: 0.0000, \n"
     ]
    },
    {
     "name": "stdout",
     "output_type": "stream",
     "text": [
      "epoch: 9, [batch: 3158 / 6315], examples_per_second: 3145.4024, train_label_loss: 0.0000, \n"
     ]
    },
    {
     "name": "stdout",
     "output_type": "stream",
     "text": [
      "epoch: 9, [batch: 3789 / 6315], examples_per_second: 3021.0569, train_label_loss: 0.0000, \n"
     ]
    },
    {
     "name": "stdout",
     "output_type": "stream",
     "text": [
      "epoch: 9, [batch: 4420 / 6315], examples_per_second: 3072.3595, train_label_loss: 0.0000, \n"
     ]
    },
    {
     "name": "stdout",
     "output_type": "stream",
     "text": [
      "epoch: 9, [batch: 5052 / 6315], examples_per_second: 3031.8046, train_label_loss: 0.0000, \n"
     ]
    },
    {
     "name": "stdout",
     "output_type": "stream",
     "text": [
      "epoch: 9, [batch: 5683 / 6315], examples_per_second: 3011.9149, train_label_loss: 0.0000, \n"
     ]
    },
    {
     "name": "stdout",
     "output_type": "stream",
     "text": [
      "=============================================================\n",
      "epoch: 9, source_val_acc_label: 0.9991, target_val_acc_label: 0.1713, source_val_label_loss: 0.0176, target_val_label_loss: 4.7321, \n",
      "=============================================================\n"
     ]
    },
    {
     "name": "stdout",
     "output_type": "stream",
     "text": [
      "New best\n"
     ]
    },
    {
     "name": "stdout",
     "output_type": "stream",
     "text": [
      "epoch: 10, [batch: 1 / 6306], examples_per_second: 1.3850, train_label_loss: 0.0000, \n"
     ]
    },
    {
     "name": "stdout",
     "output_type": "stream",
     "text": [
      "epoch: 10, [batch: 631 / 6306], examples_per_second: 2984.0234, train_label_loss: 0.0000, \n"
     ]
    },
    {
     "name": "stdout",
     "output_type": "stream",
     "text": [
      "epoch: 10, [batch: 1262 / 6306], examples_per_second: 3044.2803, train_label_loss: 0.0000, \n"
     ]
    },
    {
     "name": "stdout",
     "output_type": "stream",
     "text": [
      "epoch: 10, [batch: 1892 / 6306], examples_per_second: 3084.8702, train_label_loss: 0.0000, \n"
     ]
    },
    {
     "name": "stdout",
     "output_type": "stream",
     "text": [
      "epoch: 10, [batch: 2523 / 6306], examples_per_second: 2984.2935, train_label_loss: 0.0000, \n"
     ]
    },
    {
     "name": "stdout",
     "output_type": "stream",
     "text": [
      "epoch: 10, [batch: 3153 / 6306], examples_per_second: 3008.0166, train_label_loss: 0.0000, \n"
     ]
    },
    {
     "name": "stdout",
     "output_type": "stream",
     "text": [
      "epoch: 10, [batch: 3784 / 6306], examples_per_second: 3010.3080, train_label_loss: 0.0000, \n"
     ]
    },
    {
     "name": "stdout",
     "output_type": "stream",
     "text": [
      "epoch: 10, [batch: 4414 / 6306], examples_per_second: 3037.9353, train_label_loss: 0.0000, \n"
     ]
    },
    {
     "name": "stdout",
     "output_type": "stream",
     "text": [
      "epoch: 10, [batch: 5045 / 6306], examples_per_second: 2981.1787, train_label_loss: 0.0000, \n"
     ]
    },
    {
     "name": "stdout",
     "output_type": "stream",
     "text": [
      "epoch: 10, [batch: 5675 / 6306], examples_per_second: 2972.2211, train_label_loss: 0.0000, \n"
     ]
    },
    {
     "name": "stdout",
     "output_type": "stream",
     "text": [
      "=============================================================\n",
      "epoch: 10, source_val_acc_label: 0.9996, target_val_acc_label: 0.1638, source_val_label_loss: 0.0107, target_val_label_loss: 5.4127, \n",
      "=============================================================\n"
     ]
    },
    {
     "name": "stdout",
     "output_type": "stream",
     "text": [
      "epoch: 11, [batch: 1 / 6303], examples_per_second: 1.3842, train_label_loss: 0.0000, \n"
     ]
    },
    {
     "name": "stdout",
     "output_type": "stream",
     "text": [
      "epoch: 11, [batch: 631 / 6303], examples_per_second: 2982.8718, train_label_loss: 0.0000, \n"
     ]
    },
    {
     "name": "stdout",
     "output_type": "stream",
     "text": [
      "epoch: 11, [batch: 1261 / 6303], examples_per_second: 2911.0349, train_label_loss: 0.0000, \n"
     ]
    },
    {
     "name": "stdout",
     "output_type": "stream",
     "text": [
      "epoch: 11, [batch: 1891 / 6303], examples_per_second: 2975.4144, train_label_loss: 0.0000, \n"
     ]
    },
    {
     "name": "stdout",
     "output_type": "stream",
     "text": [
      "epoch: 11, [batch: 2521 / 6303], examples_per_second: 3023.4168, train_label_loss: 0.0000, \n"
     ]
    },
    {
     "name": "stdout",
     "output_type": "stream",
     "text": [
      "epoch: 11, [batch: 3152 / 6303], examples_per_second: 3008.8225, train_label_loss: 0.0000, \n"
     ]
    },
    {
     "name": "stdout",
     "output_type": "stream",
     "text": [
      "epoch: 11, [batch: 3782 / 6303], examples_per_second: 3028.5360, train_label_loss: 0.0000, \n"
     ]
    },
    {
     "name": "stdout",
     "output_type": "stream",
     "text": [
      "epoch: 11, [batch: 4412 / 6303], examples_per_second: 3248.8420, train_label_loss: 0.5923, \n"
     ]
    },
    {
     "name": "stdout",
     "output_type": "stream",
     "text": [
      "epoch: 11, [batch: 5042 / 6303], examples_per_second: 3472.3391, train_label_loss: 0.0000, \n"
     ]
    },
    {
     "name": "stdout",
     "output_type": "stream",
     "text": [
      "epoch: 11, [batch: 5672 / 6303], examples_per_second: 3556.2480, train_label_loss: 0.0000, \n"
     ]
    },
    {
     "name": "stdout",
     "output_type": "stream",
     "text": [
      "=============================================================\n",
      "epoch: 11, source_val_acc_label: 0.9994, target_val_acc_label: 0.1574, source_val_label_loss: 0.0202, target_val_label_loss: 6.2576, \n",
      "=============================================================\n"
     ]
    },
    {
     "name": "stdout",
     "output_type": "stream",
     "text": [
      "epoch: 12, [batch: 1 / 6313], examples_per_second: 1.2884, train_label_loss: 0.0000, \n"
     ]
    },
    {
     "name": "stdout",
     "output_type": "stream",
     "text": [
      "epoch: 12, [batch: 632 / 6313], examples_per_second: 2969.1323, train_label_loss: 0.0000, \n"
     ]
    },
    {
     "name": "stdout",
     "output_type": "stream",
     "text": [
      "epoch: 12, [batch: 1263 / 6313], examples_per_second: 2951.8173, train_label_loss: 0.0000, \n"
     ]
    },
    {
     "name": "stdout",
     "output_type": "stream",
     "text": [
      "epoch: 12, [batch: 1894 / 6313], examples_per_second: 3271.8425, train_label_loss: 0.0000, \n"
     ]
    },
    {
     "name": "stdout",
     "output_type": "stream",
     "text": [
      "epoch: 12, [batch: 2525 / 6313], examples_per_second: 3450.5003, train_label_loss: 0.0000, \n"
     ]
    },
    {
     "name": "stdout",
     "output_type": "stream",
     "text": [
      "epoch: 12, [batch: 3157 / 6313], examples_per_second: 3526.4105, train_label_loss: 0.0000, \n"
     ]
    },
    {
     "name": "stdout",
     "output_type": "stream",
     "text": [
      "epoch: 12, [batch: 3788 / 6313], examples_per_second: 3133.5838, train_label_loss: 0.0000, \n"
     ]
    },
    {
     "name": "stdout",
     "output_type": "stream",
     "text": [
      "epoch: 12, [batch: 4419 / 6313], examples_per_second: 3331.4680, train_label_loss: 0.0000, \n"
     ]
    },
    {
     "name": "stdout",
     "output_type": "stream",
     "text": [
      "epoch: 12, [batch: 5050 / 6313], examples_per_second: 3426.4699, train_label_loss: 0.0000, \n"
     ]
    },
    {
     "name": "stdout",
     "output_type": "stream",
     "text": [
      "epoch: 12, [batch: 5681 / 6313], examples_per_second: 3476.1474, train_label_loss: 0.0000, \n"
     ]
    },
    {
     "name": "stdout",
     "output_type": "stream",
     "text": [
      "=============================================================\n",
      "epoch: 12, source_val_acc_label: 0.9993, target_val_acc_label: 0.1582, source_val_label_loss: 0.0208, target_val_label_loss: 6.6287, \n",
      "=============================================================\n"
     ]
    },
    {
     "name": "stdout",
     "output_type": "stream",
     "text": [
      "epoch: 13, [batch: 1 / 6317], examples_per_second: 1.5997, train_label_loss: 0.0000, \n"
     ]
    },
    {
     "name": "stdout",
     "output_type": "stream",
     "text": [
      "epoch: 13, [batch: 632 / 6317], examples_per_second: 3383.6405, train_label_loss: 0.0000, \n"
     ]
    },
    {
     "name": "stdout",
     "output_type": "stream",
     "text": [
      "epoch: 13, [batch: 1264 / 6317], examples_per_second: 3349.2197, train_label_loss: 0.0000, \n"
     ]
    },
    {
     "name": "stdout",
     "output_type": "stream",
     "text": [
      "epoch: 13, [batch: 1895 / 6317], examples_per_second: 2986.8104, train_label_loss: 0.0000, \n"
     ]
    },
    {
     "name": "stdout",
     "output_type": "stream",
     "text": [
      "epoch: 13, [batch: 2527 / 6317], examples_per_second: 2949.4679, train_label_loss: 0.0000, \n"
     ]
    },
    {
     "name": "stdout",
     "output_type": "stream",
     "text": [
      "epoch: 13, [batch: 3159 / 6317], examples_per_second: 2998.6354, train_label_loss: 0.0000, \n"
     ]
    },
    {
     "name": "stdout",
     "output_type": "stream",
     "text": [
      "epoch: 13, [batch: 3790 / 6317], examples_per_second: 3031.5721, train_label_loss: 0.0000, \n"
     ]
    },
    {
     "name": "stdout",
     "output_type": "stream",
     "text": [
      "epoch: 13, [batch: 4422 / 6317], examples_per_second: 3029.5479, train_label_loss: 0.0000, \n"
     ]
    },
    {
     "name": "stdout",
     "output_type": "stream",
     "text": [
      "epoch: 13, [batch: 5053 / 6317], examples_per_second: 2968.5316, train_label_loss: 0.0004, \n"
     ]
    },
    {
     "name": "stdout",
     "output_type": "stream",
     "text": [
      "epoch: 13, [batch: 5685 / 6317], examples_per_second: 2983.6956, train_label_loss: 0.0006, \n"
     ]
    },
    {
     "name": "stdout",
     "output_type": "stream",
     "text": [
      "=============================================================\n",
      "epoch: 13, source_val_acc_label: 0.9991, target_val_acc_label: 0.1625, source_val_label_loss: 0.0250, target_val_label_loss: 7.2214, \n",
      "=============================================================\n"
     ]
    },
    {
     "name": "stdout",
     "output_type": "stream",
     "text": [
      "Patience (3) exhausted\n"
     ]
    }
   ],
   "source": [
    "###################################\n",
    "# train\n",
    "###################################\n",
    "jig = PTN_Train_Eval_Test_Jig(model, p.BEST_MODEL_PATH, p.device)\n",
    "\n",
    "jig.train(\n",
    "    train_iterable=datasets.source.processed.train,\n",
    "    source_val_iterable=datasets.source.processed.val,\n",
    "    target_val_iterable=datasets.target.processed.val,\n",
    "    num_epochs=p.n_epoch,\n",
    "    num_logs_per_epoch=p.NUM_LOGS_PER_EPOCH,\n",
    "    patience=p.patience,\n",
    "    optimizer=optimizer,\n",
    "    criteria_for_best=p.criteria_for_best,\n",
    ")"
   ]
  },
  {
   "cell_type": "code",
   "execution_count": 23,
   "id": "31e8fabf",
   "metadata": {
    "execution": {
     "iopub.execute_input": "2022-03-21T23:57:00.891356Z",
     "iopub.status.busy": "2022-03-21T23:57:00.890973Z",
     "iopub.status.idle": "2022-03-21T23:57:00.923597Z",
     "shell.execute_reply": "2022-03-21T23:57:00.922737Z"
    },
    "papermill": {
     "duration": 0.099682,
     "end_time": "2022-03-21T23:57:00.923779",
     "exception": false,
     "start_time": "2022-03-21T23:57:00.824097",
     "status": "completed"
    },
    "tags": []
   },
   "outputs": [],
   "source": [
    "total_experiment_time_secs = time.time() - start_time_secs"
   ]
  },
  {
   "cell_type": "code",
   "execution_count": 24,
   "id": "87b9595b",
   "metadata": {
    "execution": {
     "iopub.execute_input": "2022-03-21T23:57:01.065893Z",
     "iopub.status.busy": "2022-03-21T23:57:01.060505Z",
     "iopub.status.idle": "2022-03-22T00:07:37.046380Z",
     "shell.execute_reply": "2022-03-22T00:07:37.045172Z"
    },
    "papermill": {
     "duration": 636.050276,
     "end_time": "2022-03-22T00:07:37.046806",
     "exception": false,
     "start_time": "2022-03-21T23:57:00.996530",
     "status": "completed"
    },
    "tags": []
   },
   "outputs": [],
   "source": [
    "###################################\n",
    "# Evaluate the model\n",
    "###################################\n",
    "source_test_label_accuracy, source_test_label_loss = jig.test(datasets.source.processed.test)\n",
    "target_test_label_accuracy, target_test_label_loss = jig.test(datasets.target.processed.test)\n",
    "\n",
    "source_val_label_accuracy, source_val_label_loss = jig.test(datasets.source.processed.val)\n",
    "target_val_label_accuracy, target_val_label_loss = jig.test(datasets.target.processed.val)\n",
    "\n",
    "history = jig.get_history()\n",
    "\n",
    "total_epochs_trained = len(history[\"epoch_indices\"])\n",
    "\n",
    "val_dl = Iterable_Aggregator((datasets.source.original.val,datasets.target.original.val))\n",
    "\n",
    "confusion = ptn_confusion_by_domain_over_dataloader(model, p.device, val_dl)\n",
    "per_domain_accuracy = per_domain_accuracy_from_confusion(confusion)\n",
    "\n",
    "# Add a key to per_domain_accuracy for if it was a source domain\n",
    "for domain, accuracy in per_domain_accuracy.items():\n",
    "    per_domain_accuracy[domain] = {\n",
    "        \"accuracy\": accuracy,\n",
    "        \"source?\": domain in p.domains_source\n",
    "    }\n",
    "\n",
    "# Do an independent accuracy assesment JUST TO BE SURE!\n",
    "# _source_test_label_accuracy = independent_accuracy_assesment(model, datasets.source.processed.test, p.device)\n",
    "# _target_test_label_accuracy = independent_accuracy_assesment(model, datasets.target.processed.test, p.device)\n",
    "# _source_val_label_accuracy = independent_accuracy_assesment(model, datasets.source.processed.val, p.device)\n",
    "# _target_val_label_accuracy = independent_accuracy_assesment(model, datasets.target.processed.val, p.device)\n",
    "\n",
    "# assert(_source_test_label_accuracy == source_test_label_accuracy)\n",
    "# assert(_target_test_label_accuracy == target_test_label_accuracy)\n",
    "# assert(_source_val_label_accuracy == source_val_label_accuracy)\n",
    "# assert(_target_val_label_accuracy == target_val_label_accuracy)\n",
    "\n",
    "experiment = {\n",
    "    \"experiment_name\": p.experiment_name,\n",
    "    \"parameters\": dict(p),\n",
    "    \"results\": {\n",
    "        \"source_test_label_accuracy\": source_test_label_accuracy,\n",
    "        \"source_test_label_loss\": source_test_label_loss,\n",
    "        \"target_test_label_accuracy\": target_test_label_accuracy,\n",
    "        \"target_test_label_loss\": target_test_label_loss,\n",
    "        \"source_val_label_accuracy\": source_val_label_accuracy,\n",
    "        \"source_val_label_loss\": source_val_label_loss,\n",
    "        \"target_val_label_accuracy\": target_val_label_accuracy,\n",
    "        \"target_val_label_loss\": target_val_label_loss,\n",
    "        \"total_epochs_trained\": total_epochs_trained,\n",
    "        \"total_experiment_time_secs\": total_experiment_time_secs,\n",
    "        \"confusion\": confusion,\n",
    "        \"per_domain_accuracy\": per_domain_accuracy,\n",
    "    },\n",
    "    \"history\": history,\n",
    "    \"dataset_metrics\": get_dataset_metrics(datasets, \"ptn\"),\n",
    "}"
   ]
  },
  {
   "cell_type": "code",
   "execution_count": 25,
   "id": "54a21829",
   "metadata": {
    "execution": {
     "iopub.execute_input": "2022-03-22T00:07:37.194860Z",
     "iopub.status.busy": "2022-03-22T00:07:37.194484Z",
     "iopub.status.idle": "2022-03-22T00:07:37.431763Z",
     "shell.execute_reply": "2022-03-22T00:07:37.430952Z"
    },
    "papermill": {
     "duration": 0.309446,
     "end_time": "2022-03-22T00:07:37.431927",
     "exception": false,
     "start_time": "2022-03-22T00:07:37.122481",
     "status": "completed"
    },
    "tags": []
   },
   "outputs": [
    {
     "data": {
      "image/png": "[encoded data removed]",
      "text/plain": [
       "<Figure size 1080x504 with 1 Axes>"
      ]
     },
     "metadata": {
      "needs_background": "light"
     },
     "output_type": "display_data"
    }
   ],
   "source": [
    "ax = get_loss_curve(experiment)\n",
    "plt.show()"
   ]
  },
  {
   "cell_type": "code",
   "execution_count": 26,
   "id": "fd8a0f60",
   "metadata": {
    "execution": {
     "iopub.execute_input": "2022-03-22T00:07:37.570745Z",
     "iopub.status.busy": "2022-03-22T00:07:37.570195Z",
     "iopub.status.idle": "2022-03-22T00:07:37.876299Z",
     "shell.execute_reply": "2022-03-22T00:07:37.875946Z"
    },
    "papermill": {
     "duration": 0.374378,
     "end_time": "2022-03-22T00:07:37.876377",
     "exception": false,
     "start_time": "2022-03-22T00:07:37.501999",
     "status": "completed"
    },
    "tags": []
   },
   "outputs": [
    {
     "data": {
      "text/plain": [
       "<AxesSubplot:title={'center':'Results'}>"
      ]
     },
     "execution_count": 26,
     "metadata": {},
     "output_type": "execute_result"
    },
    {
     "data": {
      "image/png": "[encoded data removed]",
      "text/plain": [
       "<Figure size 1080x504 with 1 Axes>"
      ]
     },
     "metadata": {
      "needs_background": "light"
     },
     "output_type": "display_data"
    }
   ],
   "source": [
    "get_results_table(experiment)"
   ]
  },
  {
   "cell_type": "code",
   "execution_count": 27,
   "id": "cf8dc689",
   "metadata": {
    "execution": {
     "iopub.execute_input": "2022-03-22T00:07:38.015973Z",
     "iopub.status.busy": "2022-03-22T00:07:38.015604Z",
     "iopub.status.idle": "2022-03-22T00:07:38.278116Z",
     "shell.execute_reply": "2022-03-22T00:07:38.277296Z"
    },
    "papermill": {
     "duration": 0.333704,
     "end_time": "2022-03-22T00:07:38.278275",
     "exception": false,
     "start_time": "2022-03-22T00:07:37.944571",
     "status": "completed"
    },
    "tags": []
   },
   "outputs": [
    {
     "data": {
      "text/plain": [
       "<AxesSubplot:title={'center':'Per Domain Validation Accuracy'}, xlabel='domain'>"
      ]
     },
     "execution_count": 27,
     "metadata": {},
     "output_type": "execute_result"
    },
    {
     "data": {
      "image/png": "[encoded data removed]",
      "text/plain": [
       "<Figure size 1080x504 with 1 Axes>"
      ]
     },
     "metadata": {
      "needs_background": "light"
     },
     "output_type": "display_data"
    }
   ],
   "source": [
    "get_domain_accuracies(experiment)"
   ]
  },
  {
   "cell_type": "code",
   "execution_count": 28,
   "id": "a74ae082",
   "metadata": {
    "execution": {
     "iopub.execute_input": "2022-03-22T00:07:38.422712Z",
     "iopub.status.busy": "2022-03-22T00:07:38.422136Z",
     "iopub.status.idle": "2022-03-22T00:07:38.450329Z",
     "shell.execute_reply": "2022-03-22T00:07:38.449620Z"
    },
    "papermill": {
     "duration": 0.100106,
     "end_time": "2022-03-22T00:07:38.450482",
     "exception": false,
     "start_time": "2022-03-22T00:07:38.350376",
     "status": "completed"
    },
    "tags": []
   },
   "outputs": [
    {
     "name": "stdout",
     "output_type": "stream",
     "text": [
      "Source Test Label Accuracy: 0.9991534988713319 Target Test Label Accuracy: 0.16874348958333332\n",
      "Source Val Label Accuracy: 0.9991428571428571 Target Val Label Accuracy: 0.17133463541666666\n"
     ]
    }
   ],
   "source": [
    "print(\"Source Test Label Accuracy:\", experiment[\"results\"][\"source_test_label_accuracy\"], \"Target Test Label Accuracy:\", experiment[\"results\"][\"target_test_label_accuracy\"])\n",
    "print(\"Source Val Label Accuracy:\", experiment[\"results\"][\"source_val_label_accuracy\"], \"Target Val Label Accuracy:\", experiment[\"results\"][\"target_val_label_accuracy\"])"
   ]
  },
  {
   "cell_type": "code",
   "execution_count": 29,
   "id": "dacca602",
   "metadata": {
    "execution": {
     "iopub.execute_input": "2022-03-22T00:07:38.594991Z",
     "iopub.status.busy": "2022-03-22T00:07:38.594583Z",
     "iopub.status.idle": "2022-03-22T00:07:38.623652Z",
     "shell.execute_reply": "2022-03-22T00:07:38.624326Z"
    },
    "papermill": {
     "duration": 0.101282,
     "end_time": "2022-03-22T00:07:38.624510",
     "exception": false,
     "start_time": "2022-03-22T00:07:38.523228",
     "status": "completed"
    },
    "tags": [
     "experiment_json"
    ]
   },
   "outputs": [
    {
     "data": {
      "text/plain": [
       "'{\"experiment_name\": \"tl_1v2:cores-oracle.run1\", \"parameters\": {\"experiment_name\": \"tl_1v2:cores-oracle.run1\", \"device\": \"cuda\", \"lr\": 0.0001, \"n_shot\": 3, \"n_query\": 2, \"train_k_factor\": 3, \"val_k_factor\": 2, \"test_k_factor\": 2, \"torch_default_dtype\": \"torch.float32\", \"n_epoch\": 50, \"patience\": 3, \"criteria_for_best\": \"target_accuracy\", \"x_net\": [{\"class\": \"nnReshape\", \"kargs\": {\"shape\": [-1, 1, 2, 256]}}, {\"class\": \"Conv2d\", \"kargs\": {\"in_channels\": 1, \"out_channels\": 256, \"kernel_size\": [1, 7], \"bias\": false, \"padding\": [0, 3]}}, {\"class\": \"ReLU\", \"kargs\": {\"inplace\": true}}, {\"class\": \"BatchNorm2d\", \"kargs\": {\"num_features\": 256}}, {\"class\": \"Conv2d\", \"kargs\": {\"in_channels\": 256, \"out_channels\": 80, \"kernel_size\": [2, 7], \"bias\": true, \"padding\": [0, 3]}}, {\"class\": \"ReLU\", \"kargs\": {\"inplace\": true}}, {\"class\": \"BatchNorm2d\", \"kargs\": {\"num_features\": 80}}, {\"class\": \"Flatten\", \"kargs\": {}}, {\"class\": \"Linear\", \"kargs\": {\"in_features\": 20480, \"out_features\": 256}}, {\"class\": \"ReLU\", \"kargs\": {\"inplace\": true}}, {\"class\": \"BatchNorm1d\", \"kargs\": {\"num_features\": 256}}, {\"class\": \"Linear\", \"kargs\": {\"in_features\": 256, \"out_features\": 256}}], \"NUM_LOGS_PER_EPOCH\": 10, \"BEST_MODEL_PATH\": \"./best_model.pth\", \"n_way\": 16, \"datasets\": [{\"labels\": [\"1-10.\", \"1-11.\", \"1-15.\", \"1-16.\", \"1-17.\", \"1-18.\", \"1-19.\", \"10-4.\", \"10-7.\", \"11-1.\", \"11-14.\", \"11-17.\", \"11-20.\", \"11-7.\", \"13-20.\", \"13-8.\", \"14-10.\", \"14-11.\", \"14-14.\", \"14-7.\", \"15-1.\", \"15-20.\", \"16-1.\", \"16-16.\", \"17-10.\", \"17-11.\", \"17-2.\", \"19-1.\", \"19-16.\", \"19-19.\", \"19-20.\", \"19-3.\", \"2-10.\", \"2-11.\", \"2-17.\", \"2-18.\", \"2-20.\", \"2-3.\", \"2-4.\", \"2-5.\", \"2-6.\", \"2-7.\", \"2-8.\", \"3-13.\", \"3-18.\", \"3-3.\", \"4-1.\", \"4-10.\", \"4-11.\", \"4-19.\", \"5-5.\", \"6-15.\", \"7-10.\", \"7-14.\", \"8-18.\", \"8-20.\", \"8-3.\", \"8-8.\"], \"domains\": [1, 2, 3, 4, 5], \"num_examples_per_domain_per_label\": -1, \"pickle_path\": \"/root/csc500-main/datasets/cores.stratified_ds.2022A.pkl\", \"source_or_target_dataset\": \"source\", \"x_transforms\": [\"unit_mag\"], \"episode_transforms\": [], \"domain_prefix\": \"CORES_\"}, {\"labels\": [\"3123D52\", \"3123D65\", \"3123D79\", \"3123D80\", \"3123D54\", \"3123D70\", \"3123D7B\", \"3123D89\", \"3123D58\", \"3123D76\", \"3123D7D\", \"3123EFE\", \"3123D64\", \"3123D78\", \"3123D7E\", \"3124E4A\"], \"domains\": [32, 38, 8, 44, 14, 50, 20, 26], \"num_examples_per_domain_per_label\": 10000, \"pickle_path\": \"/root/csc500-main/datasets/oracle.Run1_10kExamples_stratified_ds.2022A.pkl\", \"source_or_target_dataset\": \"target\", \"x_transforms\": [\"unit_mag\"], \"episode_transforms\": [], \"domain_prefix\": \"ORACLE.run1_\"}], \"dataset_seed\": 420, \"seed\": 420, \"x_shape\": [2, 256], \"domains_source\": [\"CORES_1\", \"CORES_2\", \"CORES_3\", \"CORES_4\", \"CORES_5\"], \"domains_target\": [\"ORACLE.run1_32\", \"ORACLE.run1_38\", \"ORACLE.run1_8\", \"ORACLE.run1_44\", \"ORACLE.run1_14\", \"ORACLE.run1_50\", \"ORACLE.run1_20\", \"ORACLE.run1_26\"]}, \"results\": {\"source_test_label_accuracy\": 0.9991534988713319, \"source_test_label_loss\": 0.019276974722743034, \"target_test_label_accuracy\": 0.16874348958333332, \"target_test_label_loss\": 4.739520072937012, \"source_val_label_accuracy\": 0.9991428571428571, \"source_val_label_loss\": 0.01761232130229473, \"target_val_label_accuracy\": 0.17133463541666666, \"target_val_label_loss\": 4.732124328613281, \"total_epochs_trained\": 13, \"total_experiment_time_secs\": 3472.711565256119, \"confusion\": {\"CORES_4\": {\"42\": {\"42\": 32}, \"0\": {\"0\": 80}, \"1\": {\"1\": 40}, \"39\": {\"39\": 20}, \"28\": {\"28\": 32}, \"53\": {\"53\": 123, \"50\": 1}, \"19\": {\"19\": 144}, \"34\": {\"34\": 24}, \"33\": {\"33\": 36}, \"32\": {\"32\": 24}, \"10\": {\"10\": 136}, \"46\": {\"46\": 134}, \"20\": {\"20\": 122}, \"5\": {\"5\": 108}, \"40\": {\"40\": 124}, \"51\": {\"51\": 144}, \"37\": {\"37\": 24}, \"17\": {\"17\": 80}, \"45\": {\"45\": 96}, \"13\": {\"13\": 142}, \"27\": {\"27\": 144}, \"24\": {\"24\": 56}, \"30\": {\"30\": 44}, \"31\": {\"31\": 28}, \"41\": {\"41\": 34, \"10\": 1, \"49\": 1}, \"36\": {\"36\": 92}, \"16\": {\"16\": 96}, \"22\": {\"22\": 128}, \"44\": {\"44\": 132}, \"9\": {\"9\": 140}, \"57\": {\"57\": 100}, \"8\": {\"8\": 138}, \"23\": {\"23\": 132}, \"47\": {\"47\": 120}, \"43\": {\"43\": 138}, \"49\": {\"49\": 20}, \"3\": {\"3\": 124}, \"12\": {\"12\": 92}, \"38\": {\"38\": 40}, \"7\": {\"7\": 24}, \"14\": {\"14\": 15, \"38\": 1}, \"15\": {\"15\": 146}, \"25\": {\"25\": 128}, \"26\": {\"26\": 24}, \"21\": {\"21\": 132}, \"48\": {\"48\": 144}, \"56\": {\"56\": 134}, \"11\": {\"11\": 104}, \"2\": {\"2\": 36}, \"6\": {\"6\": 111, \"3\": 1}, \"55\": {\"55\": 140}, \"54\": {\"54\": 108}, \"29\": {\"29\": 124}, \"50\": {\"50\": 122}, \"52\": {\"52\": 116}, \"35\": {\"35\": 40}, \"4\": {\"4\": 120}, \"18\": {\"18\": 108}}, \"CORES_5\": {\"43\": {\"43\": 152}, \"35\": {\"35\": 36}, \"54\": {\"54\": 112}, \"22\": {\"22\": 28}, \"16\": {\"16\": 146}, \"5\": {\"5\": 128}, \"28\": {\"28\": 32}, \"14\": {\"14\": 34, \"0\": 2, \"43\": 1, \"29\": 2, \"46\": 3, \"5\": 2}, \"51\": {\"51\": 128}, \"19\": {\"19\": 140}, \"31\": {\"31\": 36}, \"10\": {\"10\": 68}, \"21\": {\"21\": 136}, \"3\": {\"3\": 100}, \"57\": {\"57\": 132}, \"9\": {\"9\": 146}, \"8\": {\"8\": 132}, \"46\": {\"46\": 140}, \"23\": {\"23\": 124}, \"37\": {\"37\": 24}, \"34\": {\"34\": 36}, \"4\": {\"4\": 100}, \"6\": {\"6\": 127, \"20\": 1}, \"48\": {\"48\": 136}, \"44\": {\"44\": 138}, \"40\": {\"40\": 124}, \"12\": {\"12\": 96}, \"30\": {\"30\": 128}, \"39\": {\"39\": 20}, \"45\": {\"45\": 123, \"53\": 1}, \"36\": {\"36\": 92}, \"27\": {\"27\": 140}, \"32\": {\"32\": 32}, \"52\": {\"52\": 130}, \"0\": {\"0\": 124}, \"26\": {\"26\": 24}, \"1\": {\"1\": 147, \"48\": 1}, \"53\": {\"53\": 146}, \"25\": {\"25\": 144}, \"24\": {\"24\": 80}, \"7\": {\"7\": 32}, \"18\": {\"18\": 64}, \"20\": {\"20\": 144}, \"33\": {\"33\": 32}, \"55\": {\"55\": 140}, \"41\": {\"41\": 28}, \"42\": {\"42\": 39, \"11\": 1}, \"49\": {\"49\": 36}, \"13\": {\"13\": 148}, \"38\": {\"38\": 32}, \"2\": {\"2\": 28}, \"47\": {\"47\": 100}, \"17\": {\"17\": 116}, \"11\": {\"11\": 154}, \"29\": {\"29\": 132}, \"50\": {\"50\": 138}, \"56\": {\"56\": 148}, \"15\": {\"15\": 141, \"11\": 1}}, \"CORES_2\": {\"49\": {\"49\": 24}, \"13\": {\"13\": 116}, \"37\": {\"37\": 36}, \"41\": {\"41\": 20}, \"15\": {\"15\": 142}, \"56\": {\"56\": 141, \"11\": 1}, \"14\": {\"14\": 24}, \"3\": {\"3\": 92}, \"38\": {\"38\": 20}, \"43\": {\"43\": 138}, \"33\": {\"33\": 28}, \"47\": {\"47\": 138}, \"30\": {\"30\": 144}, \"39\": {\"39\": 28}, \"12\": {\"12\": 92}, \"6\": {\"6\": 124}, \"51\": {\"51\": 134}, \"5\": {\"5\": 120}, \"34\": {\"34\": 28}, \"35\": {\"35\": 32}, \"0\": {\"0\": 48}, \"7\": {\"7\": 36}, \"24\": {\"24\": 96}, \"8\": {\"8\": 136}, \"20\": {\"20\": 124}, \"36\": {\"36\": 116}, \"42\": {\"42\": 36}, \"1\": {\"1\": 112}, \"4\": {\"4\": 148}, \"28\": {\"28\": 28}, \"50\": {\"50\": 136}, \"45\": {\"45\": 128}, \"18\": {\"18\": 48}, \"57\": {\"57\": 120}, \"46\": {\"46\": 128}, \"23\": {\"23\": 148}, \"27\": {\"27\": 138}, \"19\": {\"19\": 134}, \"22\": {\"22\": 136}, \"17\": {\"17\": 104}, \"55\": {\"55\": 136}, \"44\": {\"44\": 100}, \"26\": {\"26\": 24}, \"31\": {\"31\": 28}, \"16\": {\"16\": 130}, \"11\": {\"11\": 128}, \"25\": {\"25\": 126}, \"54\": {\"54\": 108}, \"32\": {\"32\": 28}, \"52\": {\"52\": 124}, \"40\": {\"40\": 132}, \"2\": {\"2\": 32}, \"10\": {\"10\": 110}, \"53\": {\"53\": 136}, \"9\": {\"9\": 150}, \"21\": {\"21\": 120}, \"48\": {\"48\": 138}, \"29\": {\"29\": 128}}, \"CORES_1\": {\"9\": {\"9\": 142}, \"25\": {\"25\": 128}, \"41\": {\"41\": 24}, \"29\": {\"29\": 140}, \"46\": {\"46\": 128}, \"4\": {\"4\": 132}, \"31\": {\"31\": 28}, \"36\": {\"36\": 64}, \"20\": {\"20\": 128}, \"7\": {\"7\": 28}, \"6\": {\"6\": 95, \"46\": 1}, \"16\": {\"16\": 138}, \"17\": {\"17\": 64}, \"50\": {\"50\": 148}, \"57\": {\"57\": 144}, \"23\": {\"23\": 136}, \"3\": {\"3\": 126}, \"53\": {\"53\": 140}, \"49\": {\"49\": 32}, \"56\": {\"56\": 152}, \"51\": {\"51\": 142}, \"26\": {\"26\": 24}, \"43\": {\"43\": 144}, \"22\": {\"22\": 136}, \"45\": {\"45\": 146}, \"13\": {\"13\": 152}, \"12\": {\"12\": 116}, \"54\": {\"54\": 104}, \"24\": {\"24\": 108}, \"44\": {\"44\": 136}, \"28\": {\"28\": 28}, \"33\": {\"33\": 32}, \"38\": {\"38\": 24}, \"0\": {\"0\": 144}, \"47\": {\"47\": 154}, \"42\": {\"42\": 40}, \"34\": {\"34\": 24}, \"48\": {\"48\": 142}, \"35\": {\"35\": 36}, \"2\": {\"2\": 36}, \"30\": {\"30\": 120}, \"18\": {\"18\": 72}, \"37\": {\"37\": 32}, \"1\": {\"1\": 100}, \"11\": {\"11\": 138}, \"55\": {\"55\": 130}, \"15\": {\"15\": 150}, \"10\": {\"10\": 96}, \"27\": {\"27\": 160}, \"19\": {\"19\": 146}, \"14\": {\"14\": 24}, \"8\": {\"8\": 140}, \"5\": {\"5\": 136}, \"39\": {\"39\": 28}, \"52\": {\"52\": 122}, \"21\": {\"21\": 124}, \"40\": {\"40\": 152}, \"32\": {\"32\": 32}}, \"CORES_3\": {\"56\": {\"56\": 120}, \"4\": {\"4\": 146}, \"34\": {\"34\": 32}, \"52\": {\"52\": 136}, \"32\": {\"32\": 28}, \"46\": {\"46\": 136}, \"12\": {\"12\": 92}, \"20\": {\"20\": 132}, \"54\": {\"54\": 100}, \"22\": {\"22\": 140}, \"26\": {\"26\": 24}, \"31\": {\"31\": 28}, \"10\": {\"10\": 64}, \"27\": {\"27\": 144}, \"40\": {\"40\": 136}, \"28\": {\"28\": 28}, \"5\": {\"5\": 116}, \"30\": {\"30\": 120}, \"7\": {\"7\": 36}, \"18\": {\"18\": 84}, \"39\": {\"39\": 16}, \"50\": {\"50\": 136}, \"49\": {\"49\": 20}, \"43\": {\"43\": 122}, \"29\": {\"29\": 114}, \"35\": {\"35\": 28}, \"13\": {\"13\": 124}, \"36\": {\"36\": 100}, \"11\": {\"11\": 146}, \"57\": {\"57\": 124}, \"9\": {\"9\": 130}, \"25\": {\"25\": 130}, \"16\": {\"16\": 126}, \"53\": {\"53\": 118}, \"33\": {\"33\": 28}, \"51\": {\"51\": 128}, \"44\": {\"44\": 88}, \"48\": {\"48\": 114}, \"6\": {\"6\": 88}, \"23\": {\"23\": 144}, \"1\": {\"1\": 100}, \"17\": {\"38\": 2, \"17\": 106}, \"21\": {\"21\": 122}, \"14\": {\"14\": 40}, \"55\": {\"55\": 144}, \"41\": {\"41\": 28}, \"3\": {\"3\": 138}, \"38\": {\"38\": 28}, \"2\": {\"2\": 32}, \"8\": {\"8\": 142}, \"37\": {\"37\": 28}, \"45\": {\"45\": 60}, \"42\": {\"42\": 28}, \"24\": {\"24\": 104}, \"15\": {\"15\": 136}, \"0\": {\"0\": 124}, \"47\": {\"47\": 92}, \"19\": {\"19\": 120}}, \"ORACLE.run1_14\": {\"15\": {\"1\": 93, \"4\": 70, \"6\": 45, \"7\": 263, \"14\": 41, \"0\": 13, \"2\": 83, \"13\": 57, \"15\": 360, \"3\": 27, \"5\": 114, \"8\": 19, \"10\": 11, \"11\": 3, \"9\": 1}, \"5\": {\"15\": 111, \"5\": 123, \"3\": 95, \"8\": 50, \"0\": 68, \"1\": 126, \"10\": 62, \"2\": 99, \"6\": 92, \"4\": 102, \"14\": 61, \"13\": 80, \"7\": 96, \"11\": 21, \"9\": 13, \"12\": 1}, \"7\": {\"1\": 113, \"5\": 129, \"15\": 269, \"13\": 66, \"2\": 84, \"0\": 22, \"7\": 243, \"11\": 4, \"4\": 71, \"6\": 66, \"3\": 44, \"8\": 31, \"10\": 22, \"14\": 31, \"9\": 5}, \"4\": {\"6\": 96, \"2\": 81, \"3\": 90, \"9\": 31, \"10\": 73, \"7\": 92, \"0\": 71, \"1\": 117, \"4\": 107, \"5\": 103, \"8\": 70, \"13\": 87, \"15\": 69, \"14\": 65, \"11\": 41, \"12\": 7}, \"10\": {\"4\": 68, \"12\": 41, \"11\": 134, \"5\": 49, \"10\": 180, \"6\": 76, \"8\": 57, \"3\": 102, \"0\": 126, \"2\": 57, \"7\": 16, \"9\": 105, \"14\": 81, \"1\": 40, \"13\": 60, \"15\": 8}, \"11\": {\"12\": 135, \"10\": 140, \"14\": 59, \"11\": 254, \"3\": 66, \"9\": 175, \"6\": 28, \"4\": 32, \"2\": 29, \"0\": 128, \"5\": 37, \"1\": 20, \"13\": 30, \"8\": 61, \"7\": 6}, \"12\": {\"11\": 149, \"12\": 526, \"8\": 62, \"10\": 54, \"9\": 316, \"0\": 55, \"3\": 15, \"2\": 2, \"4\": 9, \"14\": 4, \"5\": 3, \"13\": 1, \"1\": 3, \"7\": 1}, \"0\": {\"8\": 66, \"15\": 7, \"0\": 166, \"10\": 140, \"14\": 74, \"5\": 56, \"11\": 171, \"9\": 79, \"2\": 58, \"12\": 46, \"3\": 104, \"4\": 66, \"13\": 52, \"1\": 53, \"6\": 45, \"7\": 17}, \"14\": {\"1\": 48, \"14\": 147, \"15\": 36, \"6\": 138, \"10\": 99, \"4\": 79, \"13\": 135, \"11\": 74, \"2\": 122, \"3\": 95, \"0\": 83, \"12\": 6, \"5\": 68, \"9\": 16, \"7\": 37, \"8\": 17}, \"8\": {\"9\": 125, \"8\": 314, \"3\": 85, \"12\": 56, \"11\": 83, \"4\": 72, \"5\": 61, \"14\": 34, \"15\": 22, \"10\": 74, \"1\": 86, \"6\": 12, \"0\": 73, \"7\": 57, \"2\": 20, \"13\": 26}, \"13\": {\"10\": 68, \"11\": 46, \"14\": 138, \"4\": 87, \"15\": 75, \"2\": 126, \"1\": 68, \"3\": 84, \"13\": 141, \"6\": 137, \"12\": 4, \"0\": 56, \"5\": 86, \"7\": 57, \"9\": 10, \"8\": 17}, \"6\": {\"14\": 121, \"0\": 58, \"4\": 81, \"15\": 69, \"5\": 93, \"6\": 190, \"9\": 10, \"13\": 136, \"2\": 127, \"1\": 81, \"3\": 72, \"7\": 62, \"11\": 26, \"10\": 65, \"8\": 9}, \"1\": {\"8\": 82, \"1\": 150, \"10\": 53, \"4\": 113, \"0\": 63, \"14\": 52, \"3\": 84, \"2\": 102, \"7\": 123, \"11\": 15, \"5\": 123, \"6\": 67, \"15\": 96, \"9\": 23, \"13\": 52, \"12\": 2}, \"3\": {\"5\": 86, \"9\": 39, \"0\": 117, \"3\": 120, \"7\": 32, \"2\": 85, \"11\": 67, \"14\": 93, \"8\": 67, \"4\": 88, \"6\": 83, \"13\": 87, \"1\": 92, \"10\": 99, \"15\": 37, \"12\": 8}, \"9\": {\"9\": 250, \"11\": 202, \"12\": 266, \"14\": 22, \"2\": 8, \"10\": 91, \"3\": 39, \"8\": 145, \"0\": 108, \"4\": 25, \"5\": 12, \"1\": 17, \"13\": 6, \"6\": 5, \"7\": 4}, \"2\": {\"13\": 129, \"10\": 51, \"14\": 111, \"6\": 122, \"5\": 102, \"15\": 81, \"2\": 138, \"7\": 88, \"4\": 85, \"1\": 79, \"3\": 94, \"0\": 54, \"11\": 30, \"8\": 24, \"9\": 10, \"12\": 2}}, \"ORACLE.run1_20\": {\"4\": {\"12\": 47, \"4\": 80, \"2\": 66, \"0\": 81, \"13\": 64, \"11\": 59, \"5\": 77, \"14\": 103, \"10\": 97, \"6\": 75, \"9\": 76, \"1\": 51, \"8\": 101, \"3\": 87, \"15\": 62, \"7\": 74}, \"10\": {\"3\": 66, \"1\": 42, \"10\": 139, \"5\": 57, \"12\": 59, \"7\": 74, \"8\": 97, \"0\": 50, \"4\": 95, \"11\": 48, \"13\": 55, \"6\": 120, \"15\": 39, \"14\": 141, \"2\": 57, \"9\": 61}, \"15\": {\"5\": 114, \"8\": 64, \"10\": 45, \"13\": 89, \"0\": 122, \"3\": 66, \"6\": 37, \"2\": 79, \"1\": 100, \"9\": 77, \"15\": 123, \"12\": 85, \"11\": 40, \"7\": 67, \"14\": 35, \"4\": 57}, \"0\": {\"2\": 84, \"0\": 132, \"8\": 61, \"5\": 99, \"7\": 78, \"4\": 79, \"11\": 48, \"13\": 75, \"15\": 119, \"9\": 66, \"1\": 91, \"10\": 37, \"12\": 87, \"3\": 78, \"6\": 28, \"14\": 38}, \"6\": {\"7\": 80, \"11\": 93, \"3\": 58, \"6\": 148, \"8\": 91, \"14\": 126, \"10\": 120, \"1\": 40, \"12\": 60, \"2\": 60, \"4\": 82, \"15\": 35, \"9\": 69, \"0\": 34, \"13\": 50, \"5\": 54}, \"3\": {\"2\": 72, \"1\": 73, \"0\": 71, \"3\": 91, \"4\": 76, \"5\": 94, \"14\": 61, \"13\": 95, \"12\": 70, \"6\": 53, \"7\": 73, \"10\": 75, \"11\": 69, \"9\": 73, \"8\": 85, \"15\": 69}, \"7\": {\"13\": 80, \"10\": 87, \"1\": 67, \"12\": 60, \"8\": 75, \"14\": 78, \"2\": 80, \"6\": 91, \"4\": 72, \"11\": 84, \"3\": 71, \"7\": 80, \"0\": 79, \"5\": 78, \"9\": 58, \"15\": 60}, \"2\": {\"10\": 54, \"3\": 68, \"13\": 89, \"6\": 71, \"11\": 78, \"4\": 67, \"12\": 77, \"9\": 70, \"0\": 84, \"1\": 85, \"14\": 61, \"8\": 59, \"7\": 77, \"15\": 85, \"5\": 97, \"2\": 78}, \"8\": {\"6\": 88, \"14\": 121, \"7\": 74, \"4\": 95, \"3\": 73, \"9\": 57, \"0\": 68, \"5\": 76, \"15\": 49, \"12\": 63, \"1\": 55, \"8\": 88, \"13\": 66, \"10\": 112, \"11\": 56, \"2\": 59}, \"11\": {\"6\": 76, \"7\": 101, \"10\": 56, \"0\": 52, \"8\": 55, \"13\": 85, \"11\": 208, \"15\": 53, \"3\": 56, \"1\": 56, \"2\": 81, \"9\": 97, \"14\": 79, \"12\": 67, \"5\": 34, \"4\": 44}, \"14\": {\"14\": 144, \"6\": 157, \"4\": 88, \"1\": 32, \"7\": 74, \"13\": 40, \"3\": 69, \"8\": 120, \"5\": 45, \"9\": 51, \"12\": 36, \"10\": 127, \"11\": 82, \"0\": 45, \"2\": 58, \"15\": 32}, \"12\": {\"9\": 73, \"1\": 91, \"5\": 96, \"7\": 77, \"3\": 83, \"8\": 67, \"11\": 66, \"2\": 71, \"12\": 81, \"15\": 94, \"4\": 72, \"13\": 76, \"6\": 55, \"0\": 101, \"14\": 52, \"10\": 45}, \"13\": {\"5\": 80, \"13\": 104, \"0\": 66, \"10\": 48, \"3\": 59, \"12\": 96, \"6\": 58, \"9\": 96, \"8\": 59, \"15\": 93, \"7\": 75, \"4\": 56, \"2\": 80, \"11\": 96, \"14\": 43, \"1\": 91}, \"9\": {\"3\": 77, \"9\": 82, \"12\": 82, \"11\": 88, \"0\": 76, \"5\": 86, \"10\": 62, \"8\": 61, \"1\": 90, \"2\": 84, \"7\": 88, \"4\": 56, \"14\": 49, \"15\": 85, \"13\": 77, \"6\": 57}, \"5\": {\"12\": 92, \"3\": 86, \"1\": 92, \"10\": 59, \"2\": 79, \"14\": 37, \"11\": 43, \"0\": 109, \"5\": 98, \"6\": 46, \"7\": 71, \"4\": 80, \"9\": 63, \"15\": 94, \"13\": 81, \"8\": 70}, \"1\": {\"5\": 89, \"6\": 51, \"13\": 97, \"9\": 74, \"12\": 95, \"2\": 88, \"15\": 93, \"1\": 121, \"3\": 79, \"10\": 49, \"0\": 91, \"4\": 70, \"7\": 61, \"8\": 66, \"11\": 53, \"14\": 23}}, \"ORACLE.run1_50\": {\"5\": {\"11\": 43, \"2\": 43, \"5\": 154, \"7\": 127, \"0\": 51, \"4\": 118, \"6\": 115, \"1\": 101, \"9\": 16, \"13\": 125, \"10\": 84, \"14\": 38, \"8\": 46, \"3\": 41, \"12\": 13, \"15\": 85}, \"12\": {\"11\": 164, \"4\": 40, \"12\": 348, \"9\": 261, \"15\": 48, \"14\": 184, \"2\": 49, \"6\": 11, \"5\": 10, \"1\": 51, \"7\": 2, \"0\": 16, \"13\": 7, \"10\": 6, \"8\": 2, \"3\": 1}, \"14\": {\"12\": 190, \"11\": 139, \"14\": 188, \"1\": 91, \"4\": 62, \"9\": 143, \"15\": 58, \"0\": 58, \"2\": 82, \"13\": 40, \"6\": 61, \"8\": 12, \"7\": 17, \"5\": 34, \"3\": 2, \"10\": 23}, \"4\": {\"6\": 127, \"15\": 126, \"1\": 139, \"13\": 101, \"7\": 83, \"5\": 92, \"4\": 126, \"11\": 108, \"2\": 38, \"9\": 52, \"12\": 35, \"0\": 46, \"3\": 15, \"10\": 34, \"8\": 18, \"14\": 60}, \"13\": {\"14\": 30, \"3\": 47, \"7\": 159, \"5\": 142, \"13\": 149, \"6\": 125, \"15\": 62, \"10\": 104, \"12\": 10, \"0\": 77, \"11\": 22, \"8\": 65, \"1\": 85, \"4\": 86, \"9\": 5, \"2\": 32}, \"10\": {\"3\": 129, \"2\": 92, \"10\": 155, \"1\": 45, \"7\": 119, \"5\": 93, \"6\": 62, \"0\": 154, \"4\": 32, \"13\": 109, \"8\": 150, \"14\": 30, \"11\": 8, \"12\": 7, \"15\": 15}, \"9\": {\"9\": 360, \"12\": 255, \"10\": 4, \"14\": 121, \"15\": 76, \"1\": 54, \"11\": 227, \"5\": 8, \"13\": 13, \"2\": 20, \"4\": 43, \"0\": 3, \"6\": 14, \"7\": 2}, \"15\": {\"9\": 72, \"13\": 75, \"6\": 127, \"5\": 88, \"1\": 128, \"4\": 152, \"15\": 178, \"11\": 133, \"14\": 76, \"2\": 22, \"7\": 52, \"0\": 28, \"12\": 42, \"10\": 23, \"3\": 3, \"8\": 1}, \"6\": {\"1\": 92, \"14\": 63, \"15\": 113, \"10\": 65, \"6\": 149, \"7\": 107, \"13\": 111, \"2\": 44, \"11\": 44, \"0\": 70, \"4\": 131, \"3\": 16, \"5\": 124, \"9\": 18, \"12\": 27, \"8\": 26}, \"2\": {\"0\": 212, \"1\": 45, \"2\": 250, \"13\": 60, \"14\": 112, \"10\": 111, \"7\": 61, \"9\": 17, \"12\": 56, \"8\": 65, \"11\": 38, \"5\": 48, \"3\": 18, \"6\": 50, \"15\": 21, \"4\": 36}, \"0\": {\"3\": 55, \"2\": 183, \"0\": 207, \"5\": 71, \"6\": 55, \"8\": 106, \"10\": 141, \"1\": 56, \"9\": 15, \"14\": 55, \"12\": 28, \"13\": 72, \"15\": 27, \"11\": 16, \"7\": 62, \"4\": 51}, \"11\": {\"12\": 169, \"14\": 106, \"11\": 231, \"9\": 234, \"1\": 95, \"13\": 17, \"15\": 138, \"2\": 25, \"4\": 72, \"6\": 55, \"5\": 30, \"7\": 16, \"10\": 3, \"0\": 8, \"8\": 1}, \"3\": {\"8\": 282, \"5\": 41, \"7\": 91, \"10\": 134, \"3\": 498, \"13\": 46, \"0\": 56, \"4\": 5, \"2\": 28, \"14\": 1, \"6\": 15, \"1\": 3}, \"8\": {\"3\": 273, \"0\": 138, \"8\": 306, \"2\": 78, \"1\": 17, \"4\": 13, \"5\": 47, \"7\": 80, \"13\": 61, \"10\": 148, \"6\": 25, \"14\": 5, \"15\": 7, \"12\": 2}, \"7\": {\"10\": 136, \"11\": 11, \"5\": 131, \"0\": 69, \"15\": 48, \"13\": 156, \"4\": 71, \"7\": 173, \"8\": 93, \"14\": 22, \"1\": 62, \"6\": 111, \"3\": 68, \"2\": 43, \"12\": 5, \"9\": 1}, \"1\": {\"11\": 103, \"14\": 115, \"10\": 46, \"1\": 138, \"6\": 107, \"5\": 93, \"7\": 75, \"9\": 55, \"15\": 119, \"2\": 51, \"4\": 126, \"13\": 71, \"0\": 42, \"12\": 49, \"3\": 3, \"8\": 7}}, \"ORACLE.run1_26\": {\"7\": {\"10\": 84, \"5\": 71, \"3\": 124, \"2\": 106, \"1\": 73, \"15\": 67, \"0\": 89, \"13\": 64, \"4\": 106, \"9\": 63, \"8\": 86, \"7\": 96, \"14\": 70, \"6\": 67, \"12\": 26, \"11\": 8}, \"6\": {\"7\": 63, \"12\": 90, \"0\": 83, \"8\": 95, \"13\": 98, \"14\": 51, \"2\": 57, \"9\": 83, \"6\": 92, \"15\": 83, \"1\": 70, \"11\": 52, \"3\": 67, \"4\": 68, \"5\": 62, \"10\": 86}, \"14\": {\"7\": 93, \"8\": 87, \"14\": 106, \"1\": 107, \"10\": 114, \"9\": 61, \"11\": 18, \"15\": 52, \"0\": 100, \"6\": 76, \"3\": 80, \"5\": 49, \"12\": 52, \"13\": 42, \"4\": 91, \"2\": 72}, \"15\": {\"4\": 66, \"1\": 58, \"3\": 78, \"10\": 76, \"5\": 90, \"2\": 83, \"7\": 90, \"8\": 95, \"9\": 99, \"13\": 99, \"0\": 66, \"12\": 56, \"15\": 86, \"14\": 59, \"6\": 66, \"11\": 33}, \"5\": {\"6\": 63, \"9\": 102, \"11\": 44, \"1\": 41, \"2\": 98, \"14\": 53, \"13\": 118, \"3\": 110, \"5\": 119, \"0\": 44, \"7\": 77, \"15\": 109, \"10\": 68, \"4\": 49, \"8\": 65, \"12\": 40}, \"10\": {\"10\": 90, \"4\": 115, \"9\": 75, \"15\": 64, \"0\": 115, \"1\": 106, \"7\": 89, \"12\": 56, \"14\": 102, \"6\": 82, \"13\": 32, \"2\": 58, \"8\": 81, \"5\": 61, \"3\": 53, \"11\": 21}, \"4\": {\"2\": 90, \"13\": 50, \"7\": 92, \"3\": 75, \"5\": 49, \"15\": 65, \"9\": 63, \"10\": 98, \"4\": 103, \"1\": 96, \"6\": 76, \"14\": 96, \"12\": 30, \"0\": 109, \"8\": 95, \"11\": 13}, \"11\": {\"4\": 15, \"6\": 65, \"5\": 38, \"12\": 271, \"11\": 490, \"8\": 28, \"13\": 95, \"0\": 8, \"9\": 45, \"15\": 56, \"14\": 17, \"2\": 12, \"10\": 33, \"1\": 11, \"3\": 6, \"7\": 10}, \"13\": {\"13\": 139, \"5\": 122, \"3\": 84, \"14\": 44, \"8\": 64, \"2\": 84, \"12\": 71, \"0\": 51, \"9\": 70, \"4\": 50, \"7\": 58, \"6\": 76, \"15\": 87, \"1\": 44, \"11\": 105, \"10\": 51}, \"2\": {\"2\": 109, \"13\": 75, \"7\": 109, \"14\": 77, \"8\": 82, \"3\": 139, \"1\": 76, \"5\": 84, \"0\": 84, \"15\": 78, \"6\": 47, \"10\": 70, \"12\": 14, \"9\": 75, \"4\": 68, \"11\": 13}, \"0\": {\"13\": 42, \"11\": 9, \"3\": 62, \"9\": 61, \"14\": 90, \"1\": 119, \"0\": 123, \"2\": 80, \"4\": 115, \"8\": 92, \"7\": 80, \"10\": 93, \"6\": 76, \"12\": 50, \"5\": 45, \"15\": 63}, \"12\": {\"4\": 37, \"12\": 383, \"15\": 57, \"6\": 84, \"11\": 216, \"9\": 64, \"3\": 11, \"5\": 35, \"14\": 35, \"10\": 66, \"1\": 19, \"13\": 56, \"8\": 49, \"7\": 29, \"0\": 48, \"2\": 11}, \"3\": {\"2\": 134, \"5\": 76, \"14\": 70, \"7\": 97, \"6\": 42, \"10\": 83, \"15\": 82, \"8\": 79, \"13\": 74, \"3\": 127, \"9\": 88, \"1\": 81, \"4\": 76, \"11\": 7, \"0\": 68, \"12\": 16}, \"9\": {\"7\": 63, \"4\": 75, \"9\": 106, \"14\": 73, \"2\": 92, \"13\": 94, \"5\": 90, \"10\": 69, \"8\": 76, \"15\": 80, \"6\": 76, \"3\": 72, \"1\": 58, \"0\": 72, \"11\": 41, \"12\": 63}, \"8\": {\"2\": 68, \"8\": 106, \"9\": 68, \"10\": 97, \"15\": 89, \"0\": 81, \"14\": 87, \"12\": 53, \"1\": 91, \"5\": 68, \"13\": 54, \"7\": 82, \"6\": 63, \"3\": 72, \"4\": 98, \"11\": 23}, \"1\": {\"4\": 104, \"5\": 36, \"14\": 103, \"10\": 100, \"2\": 72, \"3\": 93, \"15\": 72, \"6\": 69, \"1\": 131, \"13\": 44, \"7\": 88, \"8\": 78, \"0\": 98, \"12\": 45, \"9\": 58, \"11\": 9}}, \"ORACLE.run1_32\": {\"7\": {\"8\": 111, \"3\": 74, \"5\": 112, \"13\": 106, \"4\": 115, \"2\": 121, \"0\": 128, \"14\": 140, \"7\": 144, \"11\": 111, \"15\": 18, \"9\": 18, \"12\": 1, \"6\": 1}, \"2\": {\"4\": 150, \"5\": 111, \"13\": 77, \"0\": 147, \"2\": 202, \"11\": 59, \"14\": 81, \"9\": 102, \"7\": 126, \"8\": 70, \"12\": 22, \"15\": 18, \"3\": 33, \"10\": 1, \"6\": 1}, \"5\": {\"15\": 58, \"14\": 94, \"0\": 97, \"2\": 113, \"7\": 125, \"5\": 117, \"3\": 102, \"11\": 115, \"13\": 129, \"4\": 129, \"8\": 107, \"9\": 13, \"12\": 1}, \"6\": {\"6\": 554, \"12\": 195, \"10\": 188, \"1\": 158, \"9\": 103, \"2\": 1, \"4\": 1}, \"13\": {\"14\": 85, \"13\": 144, \"3\": 132, \"15\": 88, \"7\": 89, \"0\": 90, \"2\": 83, \"8\": 141, \"5\": 138, \"11\": 89, \"4\": 106, \"9\": 14, \"12\": 1}, \"4\": {\"8\": 103, \"4\": 163, \"5\": 130, \"14\": 80, \"0\": 140, \"7\": 133, \"13\": 90, \"11\": 81, \"2\": 139, \"3\": 53, \"12\": 7, \"15\": 26, \"9\": 55}, \"3\": {\"0\": 52, \"5\": 105, \"11\": 115, \"3\": 261, \"7\": 64, \"14\": 102, \"8\": 128, \"13\": 134, \"15\": 165, \"4\": 49, \"2\": 24, \"9\": 1}, \"0\": {\"2\": 148, \"8\": 115, \"13\": 95, \"5\": 113, \"4\": 124, \"3\": 61, \"9\": 55, \"0\": 150, \"7\": 119, \"14\": 84, \"15\": 42, \"11\": 88, \"12\": 6}, \"9\": {\"9\": 483, \"12\": 328, \"4\": 61, \"2\": 102, \"8\": 10, \"13\": 16, \"6\": 82, \"0\": 55, \"10\": 20, \"7\": 20, \"5\": 10, \"14\": 9, \"15\": 1, \"3\": 1, \"1\": 1, \"11\": 1}, \"12\": {\"12\": 476, \"1\": 44, \"9\": 305, \"10\": 174, \"6\": 161, \"2\": 16, \"4\": 9, \"8\": 1, \"0\": 12, \"13\": 1, \"15\": 1}, \"8\": {\"8\": 140, \"7\": 105, \"3\": 114, \"2\": 87, \"13\": 157, \"0\": 129, \"11\": 79, \"4\": 95, \"15\": 109, \"14\": 62, \"5\": 109, \"9\": 12, \"12\": 2}, \"14\": {\"0\": 80, \"5\": 125, \"15\": 23, \"14\": 167, \"4\": 112, \"3\": 92, \"11\": 174, \"8\": 106, \"7\": 141, \"13\": 85, \"2\": 86, \"9\": 9}, \"15\": {\"15\": 487, \"8\": 129, \"13\": 96, \"0\": 59, \"3\": 197, \"4\": 33, \"2\": 22, \"5\": 78, \"14\": 30, \"11\": 40, \"7\": 24, \"9\": 5}, \"11\": {\"8\": 84, \"5\": 99, \"13\": 98, \"11\": 211, \"2\": 66, \"7\": 128, \"14\": 188, \"15\": 40, \"3\": 134, \"0\": 79, \"4\": 73}, \"10\": {\"1\": 345, \"10\": 492, \"12\": 171, \"6\": 166, \"9\": 26}, \"1\": {\"1\": 554, \"6\": 211, \"12\": 48, \"10\": 383, \"9\": 4}}, \"ORACLE.run1_44\": {\"11\": {\"13\": 195, \"11\": 312, \"9\": 127, \"7\": 110, \"6\": 185, \"10\": 20, \"3\": 28, \"4\": 71, \"14\": 39, \"1\": 22, \"2\": 60, \"15\": 5, \"12\": 17, \"0\": 3, \"5\": 6}, \"7\": {\"13\": 101, \"9\": 152, \"7\": 167, \"2\": 140, \"11\": 78, \"1\": 89, \"12\": 94, \"10\": 99, \"6\": 143, \"14\": 18, \"4\": 32, \"5\": 1, \"3\": 78, \"15\": 6, \"0\": 2}, \"6\": {\"11\": 188, \"10\": 49, \"7\": 137, \"9\": 146, \"6\": 233, \"12\": 28, \"3\": 39, \"13\": 163, \"0\": 1, \"5\": 4, \"2\": 104, \"4\": 45, \"14\": 22, \"1\": 34, \"15\": 6, \"8\": 1}, \"12\": {\"1\": 221, \"3\": 153, \"10\": 239, \"7\": 67, \"12\": 281, \"2\": 127, \"6\": 23, \"9\": 50, \"11\": 19, \"13\": 15, \"4\": 2, \"15\": 1, \"14\": 2}, \"4\": {\"14\": 247, \"9\": 65, \"7\": 35, \"4\": 264, \"5\": 138, \"8\": 34, \"11\": 40, \"0\": 73, \"6\": 37, \"15\": 143, \"13\": 88, \"3\": 16, \"2\": 15, \"1\": 3, \"10\": 2}, \"13\": {\"11\": 180, \"6\": 170, \"4\": 112, \"13\": 189, \"10\": 28, \"2\": 58, \"9\": 159, \"3\": 29, \"7\": 127, \"14\": 64, \"5\": 18, \"1\": 40, \"12\": 13, \"15\": 12, \"0\": 1}, \"8\": {\"0\": 282, \"15\": 225, \"8\": 352, \"5\": 175, \"14\": 92, \"3\": 3, \"13\": 5, \"4\": 60, \"6\": 3, \"9\": 1, \"11\": 2}, \"5\": {\"14\": 188, \"15\": 147, \"0\": 212, \"5\": 289, \"8\": 178, \"9\": 8, \"13\": 21, \"4\": 136, \"11\": 11, \"7\": 3, \"6\": 5, \"3\": 1, \"1\": 1}, \"14\": {\"14\": 232, \"11\": 36, \"5\": 189, \"15\": 130, \"7\": 29, \"0\": 132, \"9\": 52, \"4\": 236, \"8\": 59, \"3\": 11, \"13\": 57, \"2\": 6, \"6\": 22, \"1\": 6, \"10\": 2, \"12\": 1}, \"3\": {\"9\": 98, \"1\": 206, \"3\": 253, \"12\": 177, \"2\": 110, \"15\": 9, \"7\": 88, \"10\": 122, \"14\": 17, \"13\": 37, \"6\": 39, \"4\": 21, \"11\": 21, \"5\": 1, \"8\": 1}, \"10\": {\"10\": 271, \"2\": 186, \"1\": 167, \"12\": 243, \"7\": 77, \"3\": 102, \"6\": 42, \"11\": 24, \"13\": 23, \"9\": 61, \"4\": 3, \"14\": 1}, \"1\": {\"1\": 212, \"2\": 149, \"12\": 231, \"7\": 86, \"9\": 68, \"6\": 31, \"10\": 193, \"3\": 176, \"11\": 20, \"15\": 1, \"4\": 9, \"13\": 20, \"14\": 3, \"5\": 1}, \"2\": {\"13\": 70, \"1\": 136, \"3\": 121, \"9\": 107, \"2\": 168, \"12\": 146, \"7\": 125, \"10\": 169, \"6\": 90, \"14\": 5, \"4\": 7, \"11\": 54, \"5\": 2}, \"15\": {\"15\": 232, \"8\": 207, \"4\": 135, \"5\": 172, \"14\": 166, \"0\": 213, \"13\": 17, \"11\": 9, \"3\": 12, \"9\": 17, \"12\": 3, \"2\": 4, \"6\": 7, \"7\": 5, \"1\": 1}, \"9\": {\"9\": 179, \"11\": 117, \"7\": 124, \"6\": 134, \"2\": 103, \"10\": 61, \"13\": 146, \"1\": 65, \"12\": 51, \"3\": 79, \"14\": 57, \"4\": 63, \"5\": 13, \"0\": 4, \"15\": 4}, \"0\": {\"5\": 217, \"4\": 65, \"15\": 235, \"14\": 136, \"8\": 266, \"0\": 266, \"11\": 4, \"13\": 6, \"9\": 3, \"3\": 2}}, \"ORACLE.run1_8\": {\"10\": {\"6\": 98, \"5\": 113, \"14\": 97, \"7\": 67, \"11\": 83, \"13\": 90, \"10\": 99, \"8\": 54, \"9\": 50, \"2\": 48, \"0\": 110, \"1\": 107, \"4\": 79, \"12\": 39, \"15\": 31, \"3\": 35}, \"6\": {\"6\": 93, \"7\": 88, \"4\": 93, \"0\": 85, \"2\": 80, \"13\": 90, \"11\": 62, \"8\": 88, \"5\": 85, \"12\": 72, \"3\": 68, \"15\": 67, \"1\": 64, \"10\": 61, \"14\": 93, \"9\": 11}, \"13\": {\"0\": 92, \"14\": 87, \"13\": 85, \"4\": 98, \"2\": 71, \"8\": 60, \"1\": 88, \"5\": 95, \"6\": 97, \"9\": 30, \"3\": 50, \"7\": 81, \"10\": 99, \"11\": 76, \"15\": 46, \"12\": 45}, \"3\": {\"2\": 178, \"14\": 33, \"15\": 143, \"7\": 77, \"0\": 57, \"8\": 91, \"4\": 61, \"12\": 173, \"3\": 205, \"5\": 22, \"1\": 22, \"6\": 55, \"10\": 28, \"13\": 36, \"11\": 19}, \"9\": {\"9\": 632, \"10\": 82, \"5\": 100, \"11\": 31, \"6\": 26, \"14\": 75, \"13\": 56, \"4\": 54, \"7\": 24, \"0\": 63, \"1\": 36, \"2\": 7, \"3\": 5, \"8\": 4, \"12\": 4, \"15\": 1}, \"1\": {\"12\": 37, \"4\": 87, \"2\": 34, \"8\": 76, \"6\": 89, \"5\": 119, \"11\": 130, \"9\": 19, \"1\": 152, \"14\": 101, \"13\": 77, \"15\": 50, \"10\": 91, \"7\": 62, \"0\": 51, \"3\": 25}, \"5\": {\"4\": 106, \"10\": 116, \"8\": 46, \"11\": 128, \"7\": 46, \"6\": 78, \"1\": 110, \"5\": 158, \"0\": 76, \"13\": 91, \"9\": 55, \"14\": 107, \"15\": 28, \"2\": 25, \"12\": 14, \"3\": 16}, \"11\": {\"5\": 114, \"11\": 169, \"2\": 21, \"13\": 67, \"8\": 98, \"15\": 63, \"6\": 73, \"1\": 123, \"10\": 83, \"4\": 95, \"14\": 100, \"7\": 47, \"12\": 41, \"3\": 30, \"0\": 58, \"9\": 18}, \"4\": {\"13\": 80, \"1\": 100, \"5\": 88, \"2\": 57, \"15\": 55, \"6\": 84, \"0\": 101, \"4\": 82, \"7\": 81, \"10\": 94, \"11\": 104, \"8\": 70, \"14\": 90, \"12\": 46, \"3\": 44, \"9\": 24}, \"14\": {\"8\": 48, \"1\": 106, \"11\": 106, \"15\": 35, \"10\": 100, \"4\": 94, \"9\": 31, \"6\": 100, \"12\": 43, \"7\": 72, \"0\": 79, \"14\": 100, \"13\": 96, \"5\": 103, \"3\": 40, \"2\": 47}, \"12\": {\"3\": 186, \"2\": 129, \"8\": 115, \"6\": 50, \"11\": 53, \"12\": 186, \"4\": 51, \"14\": 35, \"15\": 175, \"0\": 32, \"7\": 79, \"1\": 30, \"13\": 33, \"10\": 35, \"5\": 10, \"9\": 1}, \"7\": {\"5\": 63, \"14\": 52, \"3\": 109, \"7\": 84, \"4\": 108, \"13\": 68, \"2\": 118, \"6\": 93, \"0\": 99, \"12\": 52, \"8\": 71, \"1\": 50, \"15\": 87, \"11\": 65, \"10\": 72, \"9\": 9}, \"0\": {\"0\": 114, \"12\": 27, \"13\": 95, \"4\": 120, \"14\": 86, \"7\": 83, \"6\": 98, \"11\": 76, \"1\": 67, \"2\": 81, \"3\": 60, \"8\": 60, \"5\": 64, \"10\": 79, \"15\": 60, \"9\": 30}, \"15\": {\"6\": 74, \"4\": 70, \"7\": 84, \"12\": 145, \"1\": 58, \"8\": 112, \"15\": 121, \"3\": 126, \"0\": 56, \"2\": 131, \"5\": 27, \"14\": 49, \"11\": 52, \"10\": 42, \"13\": 51, \"9\": 2}, \"2\": {\"11\": 27, \"13\": 74, \"12\": 128, \"15\": 89, \"14\": 58, \"2\": 171, \"3\": 169, \"0\": 88, \"1\": 27, \"10\": 43, \"8\": 83, \"7\": 94, \"6\": 75, \"4\": 46, \"5\": 24, \"9\": 4}, \"8\": {\"8\": 111, \"11\": 103, \"6\": 74, \"2\": 72, \"7\": 70, \"0\": 72, \"14\": 61, \"15\": 105, \"12\": 122, \"13\": 61, \"1\": 77, \"3\": 98, \"10\": 44, \"5\": 66, \"4\": 61, \"9\": 3}}, \"ORACLE.run1_38\": {\"4\": {\"10\": 81, \"12\": 290, \"4\": 471, \"11\": 55, \"0\": 59, \"14\": 40, \"8\": 42, \"7\": 80, \"5\": 34, \"3\": 24, \"6\": 5, \"15\": 8, \"1\": 3, \"13\": 3, \"9\": 2, \"2\": 3}, \"7\": {\"7\": 211, \"9\": 71, \"12\": 37, \"0\": 153, \"3\": 145, \"10\": 70, \"4\": 70, \"5\": 138, \"13\": 24, \"6\": 74, \"1\": 28, \"8\": 118, \"15\": 38, \"14\": 6, \"11\": 13, \"2\": 4}, \"12\": {\"10\": 86, \"4\": 263, \"12\": 378, \"8\": 56, \"11\": 124, \"14\": 116, \"7\": 39, \"2\": 21, \"0\": 42, \"5\": 20, \"3\": 4, \"15\": 32, \"1\": 9, \"13\": 8, \"9\": 2}, \"10\": {\"13\": 70, \"12\": 83, \"14\": 91, \"11\": 96, \"10\": 135, \"7\": 71, \"1\": 68, \"0\": 99, \"4\": 75, \"8\": 101, \"3\": 11, \"9\": 14, \"2\": 72, \"15\": 103, \"6\": 25, \"5\": 86}, \"0\": {\"0\": 151, \"10\": 76, \"6\": 85, \"5\": 130, \"3\": 97, \"13\": 53, \"8\": 126, \"1\": 57, \"2\": 16, \"15\": 58, \"7\": 161, \"12\": 41, \"4\": 50, \"9\": 70, \"11\": 11, \"14\": 18}, \"1\": {\"2\": 96, \"13\": 165, \"1\": 201, \"15\": 135, \"14\": 37, \"6\": 96, \"9\": 76, \"8\": 95, \"7\": 37, \"3\": 23, \"12\": 2, \"11\": 22, \"0\": 52, \"5\": 95, \"4\": 4, \"10\": 64}, \"5\": {\"10\": 81, \"9\": 90, \"1\": 85, \"3\": 89, \"13\": 70, \"11\": 26, \"0\": 118, \"5\": 118, \"7\": 100, \"15\": 81, \"8\": 113, \"6\": 124, \"4\": 39, \"14\": 28, \"12\": 17, \"2\": 21}, \"15\": {\"5\": 92, \"13\": 142, \"11\": 47, \"14\": 70, \"6\": 45, \"1\": 152, \"8\": 90, \"2\": 101, \"15\": 149, \"10\": 110, \"7\": 55, \"0\": 65, \"9\": 36, \"4\": 11, \"3\": 13, \"12\": 22}, \"9\": {\"9\": 284, \"5\": 102, \"7\": 78, \"15\": 39, \"6\": 235, \"3\": 196, \"1\": 62, \"10\": 20, \"8\": 67, \"0\": 71, \"2\": 6, \"13\": 31, \"4\": 5, \"12\": 3, \"14\": 1}, \"11\": {\"11\": 351, \"2\": 132, \"14\": 294, \"15\": 60, \"8\": 25, \"1\": 19, \"7\": 7, \"10\": 94, \"13\": 43, \"4\": 44, \"12\": 106, \"5\": 10, \"3\": 1, \"6\": 3, \"0\": 9, \"9\": 2}, \"14\": {\"1\": 35, \"11\": 260, \"12\": 103, \"14\": 283, \"4\": 34, \"13\": 55, \"2\": 195, \"15\": 73, \"5\": 19, \"10\": 83, \"7\": 12, \"8\": 24, \"0\": 17, \"9\": 2, \"6\": 5}, \"6\": {\"7\": 88, \"5\": 107, \"6\": 200, \"9\": 221, \"3\": 126, \"8\": 102, \"1\": 88, \"0\": 89, \"15\": 55, \"13\": 60, \"10\": 39, \"4\": 7, \"14\": 3, \"2\": 10, \"12\": 3, \"11\": 2}, \"8\": {\"5\": 126, \"9\": 64, \"3\": 51, \"7\": 113, \"2\": 31, \"14\": 32, \"6\": 104, \"10\": 102, \"4\": 40, \"1\": 91, \"0\": 121, \"8\": 105, \"15\": 92, \"13\": 66, \"11\": 18, \"12\": 44}, \"3\": {\"3\": 401, \"6\": 142, \"9\": 219, \"0\": 111, \"5\": 83, \"7\": 112, \"10\": 16, \"8\": 53, \"15\": 13, \"4\": 13, \"1\": 20, \"13\": 12, \"12\": 4, \"14\": 1}, \"2\": {\"2\": 283, \"11\": 135, \"15\": 114, \"10\": 86, \"13\": 148, \"5\": 28, \"8\": 24, \"14\": 188, \"0\": 19, \"1\": 122, \"12\": 25, \"9\": 4, \"6\": 9, \"4\": 10, \"7\": 4, \"3\": 1}, \"13\": {\"13\": 167, \"2\": 124, \"14\": 61, \"7\": 33, \"5\": 95, \"15\": 142, \"6\": 58, \"10\": 93, \"1\": 173, \"0\": 48, \"3\": 16, \"11\": 47, \"8\": 85, \"4\": 11, \"9\": 31, \"12\": 16}}}, \"per_domain_accuracy\": {\"CORES_4\": {\"accuracy\": 0.999064371257485, \"source?\": true}, \"CORES_5\": {\"accuracy\": 0.9973812849162011, \"source?\": true}, \"CORES_2\": {\"accuracy\": 0.9998214285714285, \"source?\": true}, \"CORES_1\": {\"accuracy\": 0.9998301630434783, \"source?\": true}, \"CORES_3\": {\"accuracy\": 0.9996323529411765, \"source?\": true}, \"ORACLE.run1_14\": {\"accuracy\": 0.17755208333333333, \"source?\": false}, \"ORACLE.run1_20\": {\"accuracy\": 0.09359375, \"source?\": false}, \"ORACLE.run1_50\": {\"accuracy\": 0.18802083333333333, \"source?\": false}, \"ORACLE.run1_26\": {\"accuracy\": 0.1253125, \"source?\": false}, \"ORACLE.run1_32\": {\"accuracy\": 0.24713541666666666, \"source?\": false}, \"ORACLE.run1_44\": {\"accuracy\": 0.203125, \"source?\": false}, \"ORACLE.run1_8\": {\"accuracy\": 0.1334375, \"source?\": false}, \"ORACLE.run1_38\": {\"accuracy\": 0.2025, \"source?\": false}}}, \"history\": {\"epoch_indices\": [1, 2, 3, 4, 5, 6, 7, 8, 9, 10, 11, 12, 13], \"train_label_loss\": [0.02491357015407087, 0.007669503319320386, 0.004054192582338426, 0.004350410219132038, 0.003105884445241124, 0.0021752740576839354, 0.0023801519717465865, 0.002260863544522499, 0.0027780374333124017, 0.001934583133974915, 0.0020920927459579038, 0.002038845830076527, 0.0019781946853405174], \"source_val_label_loss\": [0.012751626782119274, 0.009407732635736465, 0.009976303204894066, 0.011819490231573582, 0.008970960043370724, 0.009976373054087162, 0.010304952040314674, 0.013511615805327892, 0.01761232130229473, 0.010667718015611172, 0.02015681006014347, 0.020814303308725357, 0.024954386055469513], \"target_val_label_loss\": [2.668595314025879, 3.132641077041626, 3.481088876724243, 3.287975788116455, 3.839589834213257, 3.9639832973480225, 4.465430736541748, 4.878692150115967, 4.732124328613281, 5.412740230560303, 6.257611274719238, 6.62871789932251, 7.221391201019287], \"source_val_acc_label\": [0.99675, 0.9988928571428571, 0.9987142857142857, 0.9986071428571428, 0.9993214285714286, 0.9995357142857143, 0.9996071428571428, 0.9996071428571428, 0.9991428571428571, 0.9996071428571428, 0.9993928571428572, 0.9992857142857143, 0.9991428571428571], \"target_val_acc_label\": [0.14547526041666667, 0.15057942708333333, 0.16216796875, 0.16076822916666667, 0.16614583333333333, 0.16794921875, 0.17067708333333334, 0.16869791666666667, 0.17133463541666666, 0.16384114583333334, 0.15740885416666667, 0.15820963541666666, 0.16245442708333332]}, \"dataset_metrics\": {\"source\": {\"train\": {\"n_unique_x\": 175167, \"n_unique_y\": 58, \"n_batch/episode\": 6301}, \"val\": {\"n_unique_x\": 37216, \"n_unique_y\": 58, \"n_batch/episode\": 875}, \"test\": {\"n_unique_x\": 37596, \"n_unique_y\": 58, \"n_batch/episode\": 886}}, \"target\": {\"train\": {\"n_unique_x\": 896000, \"n_unique_y\": 16, \"n_batch/episode\": 33600}, \"val\": {\"n_unique_x\": 192000, \"n_unique_y\": 16, \"n_batch/episode\": 4800}, \"test\": {\"n_unique_x\": 192000, \"n_unique_y\": 16, \"n_batch/episode\": 4800}}}}'"
      ]
     },
     "execution_count": 29,
     "metadata": {},
     "output_type": "execute_result"
    }
   ],
   "source": [
    "json.dumps(experiment)"
   ]
  }
 ],
 "metadata": {
  "celltoolbar": "Tags",
  "kernelspec": {
   "display_name": "Python 3 (ipykernel)",
   "language": "python",
   "name": "python3"
  },
  "language_info": {
   "codemirror_mode": {
    "name": "ipython",
    "version": 3
   },
   "file_extension": ".py",
   "mimetype": "text/x-python",
   "name": "python",
   "nbconvert_exporter": "python",
   "pygments_lexer": "ipython3",
   "version": "3.8.12"
  },
  "papermill": {
   "default_parameters": {},
   "duration": 4118.625161,
   "end_time": "2022-03-22T00:07:43.269464",
   "environment_variables": {},
   "exception": null,
   "input_path": "/root/csc500-main/csc500-notebooks/templates/tl_ptn_template.ipynb",
   "output_path": "trial.ipynb",
   "parameters": {
    "parameters": {
     "BEST_MODEL_PATH": "./best_model.pth",
     "NUM_LOGS_PER_EPOCH": 10,
     "criteria_for_best": "target_accuracy",
     "dataset_seed": 420,
     "datasets": [
      {
       "domain_prefix": "CORES_",
       "domains": [
        1,
        2,
        3,
        4,
        5
       ],
       "episode_transforms": [],
       "labels": [
        "1-10.",
        "1-11.",
        "1-15.",
        "1-16.",
        "1-17.",
        "1-18.",
        "1-19.",
        "10-4.",
        "10-7.",
        "11-1.",
        "11-14.",
        "11-17.",
        "11-20.",
        "11-7.",
        "13-20.",
        "13-8.",
        "14-10.",
        "14-11.",
        "14-14.",
        "14-7.",
        "15-1.",
        "15-20.",
        "16-1.",
        "16-16.",
        "17-10.",
        "17-11.",
        "17-2.",
        "19-1.",
        "19-16.",
        "19-19.",
        "19-20.",
        "19-3.",
        "2-10.",
        "2-11.",
        "2-17.",
        "2-18.",
        "2-20.",
        "2-3.",
        "2-4.",
        "2-5.",
        "2-6.",
        "2-7.",
        "2-8.",
        "3-13.",
        "3-18.",
        "3-3.",
        "4-1.",
        "4-10.",
        "4-11.",
        "4-19.",
        "5-5.",
        "6-15.",
        "7-10.",
        "7-14.",
        "8-18.",
        "8-20.",
        "8-3.",
        "8-8."
       ],
       "num_examples_per_domain_per_label": -1,
       "pickle_path": "/root/csc500-main/datasets/cores.stratified_ds.2022A.pkl",
       "source_or_target_dataset": "source",
       "x_transforms": [
        "unit_mag"
       ]
      },
      {
       "domain_prefix": "ORACLE.run1_",
       "domains": [
        32,
        38,
        8,
        44,
        14,
        50,
        20,
        26
       ],
       "episode_transforms": [],
       "labels": [
        "3123D52",
        "3123D65",
        "3123D79",
        "3123D80",
        "3123D54",
        "3123D70",
        "3123D7B",
        "3123D89",
        "3123D58",
        "3123D76",
        "3123D7D",
        "3123EFE",
        "3123D64",
        "3123D78",
        "3123D7E",
        "3124E4A"
       ],
       "num_examples_per_domain_per_label": 10000,
       "pickle_path": "/root/csc500-main/datasets/oracle.Run1_10kExamples_stratified_ds.2022A.pkl",
       "source_or_target_dataset": "target",
       "x_transforms": [
        "unit_mag"
       ]
      }
     ],
     "device": "cuda",
     "experiment_name": "tl_1v2:cores-oracle.run1",
     "lr": 0.0001,
     "n_epoch": 50,
     "n_query": 2,
     "n_shot": 3,
     "n_way": 16,
     "patience": 3,
     "seed": 420,
     "test_k_factor": 2,
     "torch_default_dtype": "torch.float32",
     "train_k_factor": 3,
     "val_k_factor": 2,
     "x_net": [
      {
       "class": "nnReshape",
       "kargs": {
        "shape": [
         -1,
         1,
         2,
         256
        ]
       }
      },
      {
       "class": "Conv2d",
       "kargs": {
        "bias": false,
        "in_channels": 1,
        "kernel_size": [
         1,
         7
        ],
        "out_channels": 256,
        "padding": [
         0,
         3
        ]
       }
      },
      {
       "class": "ReLU",
       "kargs": {
        "inplace": true
       }
      },
      {
       "class": "BatchNorm2d",
       "kargs": {
        "num_features": 256
       }
      },
      {
       "class": "Conv2d",
       "kargs": {
        "bias": true,
        "in_channels": 256,
        "kernel_size": [
         2,
         7
        ],
        "out_channels": 80,
        "padding": [
         0,
         3
        ]
       }
      },
      {
       "class": "ReLU",
       "kargs": {
        "inplace": true
       }
      },
      {
       "class": "BatchNorm2d",
       "kargs": {
        "num_features": 80
       }
      },
      {
       "class": "Flatten",
       "kargs": {}
      },
      {
       "class": "Linear",
       "kargs": {
        "in_features": 20480,
        "out_features": 256
       }
      },
      {
       "class": "ReLU",
       "kargs": {
        "inplace": true
       }
      },
      {
       "class": "BatchNorm1d",
       "kargs": {
        "num_features": 256
       }
      },
      {
       "class": "Linear",
       "kargs": {
        "in_features": 256,
        "out_features": 256
       }
      }
     ]
    }
   },
   "start_time": "2022-03-21T22:59:04.644303",
   "version": "2.3.4"
  }
 },
 "nbformat": 4,
 "nbformat_minor": 5
}