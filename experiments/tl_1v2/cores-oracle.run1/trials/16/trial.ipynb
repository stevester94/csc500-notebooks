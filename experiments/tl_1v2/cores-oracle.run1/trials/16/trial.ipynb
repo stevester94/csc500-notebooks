{
 "cells": [
  {
   "cell_type": "markdown",
   "id": "9fea5f46",
   "metadata": {
    "papermill": {
     "duration": 0.03156,
     "end_time": "2022-03-22T15:24:04.692580",
     "exception": false,
     "start_time": "2022-03-22T15:24:04.661020",
     "status": "completed"
    },
    "tags": []
   },
   "source": [
    "# Transfer Learning Template"
   ]
  },
  {
   "cell_type": "code",
   "execution_count": 1,
   "id": "0902182a",
   "metadata": {
    "execution": {
     "iopub.execute_input": "2022-03-22T15:24:04.753982Z",
     "iopub.status.busy": "2022-03-22T15:24:04.753116Z",
     "iopub.status.idle": "2022-03-22T15:24:06.618977Z",
     "shell.execute_reply": "2022-03-22T15:24:06.618582Z"
    },
    "papermill": {
     "duration": 1.903963,
     "end_time": "2022-03-22T15:24:06.619144",
     "exception": false,
     "start_time": "2022-03-22T15:24:04.715181",
     "status": "completed"
    },
    "tags": []
   },
   "outputs": [],
   "source": [
    "%load_ext autoreload\n",
    "%autoreload 2\n",
    "%matplotlib inline\n",
    "\n",
    "    \n",
    "import os, json, sys, time, random\n",
    "import numpy as np\n",
    "import torch\n",
    "from torch.optim import Adam\n",
    "from  easydict import EasyDict\n",
    "import matplotlib.pyplot as plt\n",
    "\n",
    "from steves_models.steves_ptn import Steves_Prototypical_Network\n",
    "\n",
    "from steves_utils.lazy_iterable_wrapper import Lazy_Iterable_Wrapper\n",
    "from steves_utils.iterable_aggregator import Iterable_Aggregator\n",
    "from steves_utils.ptn_train_eval_test_jig import  PTN_Train_Eval_Test_Jig\n",
    "from steves_utils.torch_sequential_builder import build_sequential\n",
    "from steves_utils.torch_utils import get_dataset_metrics, ptn_confusion_by_domain_over_dataloader\n",
    "from steves_utils.utils_v2 import (per_domain_accuracy_from_confusion, get_datasets_base_path)\n",
    "from steves_utils.PTN.utils import independent_accuracy_assesment\n",
    "\n",
    "from torch.utils.data import DataLoader\n",
    "\n",
    "from steves_utils.stratified_dataset.episodic_accessor import Episodic_Accessor_Factory\n",
    "\n",
    "from steves_utils.ptn_do_report import (\n",
    "    get_loss_curve,\n",
    "    get_results_table,\n",
    "    get_parameters_table,\n",
    "    get_domain_accuracies,\n",
    ")\n",
    "\n",
    "from steves_utils.transforms import get_chained_transform"
   ]
  },
  {
   "cell_type": "markdown",
   "id": "41c840b4",
   "metadata": {
    "papermill": {
     "duration": 0.019272,
     "end_time": "2022-03-22T15:24:06.663122",
     "exception": false,
     "start_time": "2022-03-22T15:24:06.643850",
     "status": "completed"
    },
    "tags": []
   },
   "source": [
    "# Allowed Parameters\n",
    "These are allowed parameters, not defaults\n",
    "Each of these values need to be present in the injected parameters (the notebook will raise an exception if they are not present)\n",
    "\n",
    "Papermill uses the cell tag \"parameters\" to inject the real parameters below this cell.\n",
    "Enable tags to see what I mean"
   ]
  },
  {
   "cell_type": "code",
   "execution_count": 2,
   "id": "fd44eb83",
   "metadata": {
    "execution": {
     "iopub.execute_input": "2022-03-22T15:24:06.706408Z",
     "iopub.status.busy": "2022-03-22T15:24:06.705755Z",
     "iopub.status.idle": "2022-03-22T15:24:06.726697Z",
     "shell.execute_reply": "2022-03-22T15:24:06.725893Z"
    },
    "papermill": {
     "duration": 0.04446,
     "end_time": "2022-03-22T15:24:06.726846",
     "exception": false,
     "start_time": "2022-03-22T15:24:06.682386",
     "status": "completed"
    },
    "tags": []
   },
   "outputs": [],
   "source": [
    "required_parameters = {\n",
    "    \"experiment_name\",\n",
    "    \"lr\",\n",
    "    \"device\",\n",
    "    \"seed\",\n",
    "    \"dataset_seed\",\n",
    "    \"n_shot\",\n",
    "    \"n_query\",\n",
    "    \"n_way\",\n",
    "    \"train_k_factor\",\n",
    "    \"val_k_factor\",\n",
    "    \"test_k_factor\",\n",
    "    \"n_epoch\",\n",
    "    \"patience\",\n",
    "    \"criteria_for_best\",\n",
    "    \"x_net\",\n",
    "    \"datasets\",\n",
    "    \"torch_default_dtype\",\n",
    "    \"NUM_LOGS_PER_EPOCH\",\n",
    "    \"BEST_MODEL_PATH\",\n",
    "    \"x_shape\",\n",
    "}"
   ]
  },
  {
   "cell_type": "code",
   "execution_count": 3,
   "id": "fa3f0049",
   "metadata": {
    "execution": {
     "iopub.execute_input": "2022-03-22T15:24:06.785391Z",
     "iopub.status.busy": "2022-03-22T15:24:06.784494Z",
     "iopub.status.idle": "2022-03-22T15:24:06.803967Z",
     "shell.execute_reply": "2022-03-22T15:24:06.803248Z"
    },
    "papermill": {
     "duration": 0.052622,
     "end_time": "2022-03-22T15:24:06.804118",
     "exception": false,
     "start_time": "2022-03-22T15:24:06.751496",
     "status": "completed"
    },
    "tags": [
     "parameters"
    ]
   },
   "outputs": [],
   "source": [
    "from steves_utils.CORES.utils import (\n",
    "    ALL_NODES,\n",
    "    ALL_NODES_MINIMUM_1000_EXAMPLES,\n",
    "    ALL_DAYS\n",
    ")\n",
    "\n",
    "from steves_utils.ORACLE.utils_v2 import (\n",
    "    ALL_DISTANCES_FEET_NARROWED,\n",
    "    ALL_RUNS,\n",
    "    ALL_SERIAL_NUMBERS,\n",
    ")\n",
    "\n",
    "standalone_parameters = {}\n",
    "standalone_parameters[\"experiment_name\"] = \"STANDALONE PTN\"\n",
    "standalone_parameters[\"lr\"] = 0.001\n",
    "standalone_parameters[\"device\"] = \"cuda\"\n",
    "\n",
    "standalone_parameters[\"seed\"] = 1337\n",
    "standalone_parameters[\"dataset_seed\"] = 1337\n",
    "\n",
    "standalone_parameters[\"n_way\"] = 8\n",
    "standalone_parameters[\"n_shot\"] = 3\n",
    "standalone_parameters[\"n_query\"]  = 2\n",
    "standalone_parameters[\"train_k_factor\"] = 1\n",
    "standalone_parameters[\"val_k_factor\"] = 2\n",
    "standalone_parameters[\"test_k_factor\"] = 2\n",
    "\n",
    "\n",
    "standalone_parameters[\"n_epoch\"] = 50\n",
    "\n",
    "standalone_parameters[\"patience\"] = 10\n",
    "standalone_parameters[\"criteria_for_best\"] = \"source_loss\"\n",
    "\n",
    "standalone_parameters[\"datasets\"] = [\n",
    "    {\n",
    "        \"labels\": ALL_SERIAL_NUMBERS,\n",
    "        \"domains\": ALL_DISTANCES_FEET_NARROWED,\n",
    "        \"num_examples_per_domain_per_label\": 100,\n",
    "        \"pickle_path\": os.path.join(get_datasets_base_path(), \"oracle.Run1_framed_2000Examples_stratified_ds.2022A.pkl\"),\n",
    "        \"source_or_target_dataset\": \"source\",\n",
    "        \"x_transforms\": [\"unit_mag\", \"minus_two\"],\n",
    "        \"episode_transforms\": [],\n",
    "        \"domain_prefix\": \"ORACLE_\"\n",
    "    },\n",
    "    {\n",
    "        \"labels\": ALL_NODES,\n",
    "        \"domains\": ALL_DAYS,\n",
    "        \"num_examples_per_domain_per_label\": 100,\n",
    "        \"pickle_path\": os.path.join(get_datasets_base_path(), \"cores.stratified_ds.2022A.pkl\"),\n",
    "        \"source_or_target_dataset\": \"target\",\n",
    "        \"x_transforms\": [\"unit_power\", \"times_zero\"],\n",
    "        \"episode_transforms\": [],\n",
    "        \"domain_prefix\": \"CORES_\"\n",
    "    }   \n",
    "]\n",
    "\n",
    "standalone_parameters[\"torch_default_dtype\"] = \"torch.float32\" \n",
    "\n",
    "\n",
    "\n",
    "standalone_parameters[\"x_net\"] =     [\n",
    "    {\"class\": \"nnReshape\", \"kargs\": {\"shape\":[-1, 1, 2, 256]}},\n",
    "    {\"class\": \"Conv2d\", \"kargs\": { \"in_channels\":1, \"out_channels\":256, \"kernel_size\":(1,7), \"bias\":False, \"padding\":(0,3), },},\n",
    "    {\"class\": \"ReLU\", \"kargs\": {\"inplace\": True}},\n",
    "    {\"class\": \"BatchNorm2d\", \"kargs\": {\"num_features\":256}},\n",
    "\n",
    "    {\"class\": \"Conv2d\", \"kargs\": { \"in_channels\":256, \"out_channels\":80, \"kernel_size\":(2,7), \"bias\":True, \"padding\":(0,3), },},\n",
    "    {\"class\": \"ReLU\", \"kargs\": {\"inplace\": True}},\n",
    "    {\"class\": \"BatchNorm2d\", \"kargs\": {\"num_features\":80}},\n",
    "    {\"class\": \"Flatten\", \"kargs\": {}},\n",
    "\n",
    "    {\"class\": \"Linear\", \"kargs\": {\"in_features\": 80*256, \"out_features\": 256}}, # 80 units per IQ pair\n",
    "    {\"class\": \"ReLU\", \"kargs\": {\"inplace\": True}},\n",
    "    {\"class\": \"BatchNorm1d\", \"kargs\": {\"num_features\":256}},\n",
    "\n",
    "    {\"class\": \"Linear\", \"kargs\": {\"in_features\": 256, \"out_features\": 256}},\n",
    "]\n",
    "\n",
    "# Parameters relevant to results\n",
    "# These parameters will basically never need to change\n",
    "standalone_parameters[\"NUM_LOGS_PER_EPOCH\"] = 10\n",
    "standalone_parameters[\"BEST_MODEL_PATH\"] = \"./best_model.pth\"\n",
    "\n",
    "\n",
    "\n",
    "\n"
   ]
  },
  {
   "cell_type": "code",
   "execution_count": 4,
   "id": "5de455f5",
   "metadata": {
    "execution": {
     "iopub.execute_input": "2022-03-22T15:24:06.861827Z",
     "iopub.status.busy": "2022-03-22T15:24:06.860881Z",
     "iopub.status.idle": "2022-03-22T15:24:06.878590Z",
     "shell.execute_reply": "2022-03-22T15:24:06.879250Z"
    },
    "papermill": {
     "duration": 0.051285,
     "end_time": "2022-03-22T15:24:06.879425",
     "exception": false,
     "start_time": "2022-03-22T15:24:06.828140",
     "status": "completed"
    },
    "tags": [
     "injected-parameters"
    ]
   },
   "outputs": [],
   "source": [
    "# Parameters\n",
    "parameters = {\n",
    "    \"experiment_name\": \"tl_1v2:cores-oracle.run1\",\n",
    "    \"device\": \"cuda\",\n",
    "    \"lr\": 0.0001,\n",
    "    \"n_shot\": 3,\n",
    "    \"n_query\": 2,\n",
    "    \"train_k_factor\": 3,\n",
    "    \"val_k_factor\": 2,\n",
    "    \"test_k_factor\": 2,\n",
    "    \"torch_default_dtype\": \"torch.float32\",\n",
    "    \"n_epoch\": 50,\n",
    "    \"patience\": 3,\n",
    "    \"criteria_for_best\": \"target_accuracy\",\n",
    "    \"x_net\": [\n",
    "        {\"class\": \"nnReshape\", \"kargs\": {\"shape\": [-1, 1, 2, 256]}},\n",
    "        {\n",
    "            \"class\": \"Conv2d\",\n",
    "            \"kargs\": {\n",
    "                \"in_channels\": 1,\n",
    "                \"out_channels\": 256,\n",
    "                \"kernel_size\": [1, 7],\n",
    "                \"bias\": False,\n",
    "                \"padding\": [0, 3],\n",
    "            },\n",
    "        },\n",
    "        {\"class\": \"ReLU\", \"kargs\": {\"inplace\": True}},\n",
    "        {\"class\": \"BatchNorm2d\", \"kargs\": {\"num_features\": 256}},\n",
    "        {\n",
    "            \"class\": \"Conv2d\",\n",
    "            \"kargs\": {\n",
    "                \"in_channels\": 256,\n",
    "                \"out_channels\": 80,\n",
    "                \"kernel_size\": [2, 7],\n",
    "                \"bias\": True,\n",
    "                \"padding\": [0, 3],\n",
    "            },\n",
    "        },\n",
    "        {\"class\": \"ReLU\", \"kargs\": {\"inplace\": True}},\n",
    "        {\"class\": \"BatchNorm2d\", \"kargs\": {\"num_features\": 80}},\n",
    "        {\"class\": \"Flatten\", \"kargs\": {}},\n",
    "        {\"class\": \"Linear\", \"kargs\": {\"in_features\": 20480, \"out_features\": 256}},\n",
    "        {\"class\": \"ReLU\", \"kargs\": {\"inplace\": True}},\n",
    "        {\"class\": \"BatchNorm1d\", \"kargs\": {\"num_features\": 256}},\n",
    "        {\"class\": \"Linear\", \"kargs\": {\"in_features\": 256, \"out_features\": 256}},\n",
    "    ],\n",
    "    \"NUM_LOGS_PER_EPOCH\": 10,\n",
    "    \"BEST_MODEL_PATH\": \"./best_model.pth\",\n",
    "    \"n_way\": 16,\n",
    "    \"datasets\": [\n",
    "        {\n",
    "            \"labels\": [\n",
    "                \"1-10.\",\n",
    "                \"1-11.\",\n",
    "                \"1-15.\",\n",
    "                \"1-16.\",\n",
    "                \"1-17.\",\n",
    "                \"1-18.\",\n",
    "                \"1-19.\",\n",
    "                \"10-4.\",\n",
    "                \"10-7.\",\n",
    "                \"11-1.\",\n",
    "                \"11-14.\",\n",
    "                \"11-17.\",\n",
    "                \"11-20.\",\n",
    "                \"11-7.\",\n",
    "                \"13-20.\",\n",
    "                \"13-8.\",\n",
    "                \"14-10.\",\n",
    "                \"14-11.\",\n",
    "                \"14-14.\",\n",
    "                \"14-7.\",\n",
    "                \"15-1.\",\n",
    "                \"15-20.\",\n",
    "                \"16-1.\",\n",
    "                \"16-16.\",\n",
    "                \"17-10.\",\n",
    "                \"17-11.\",\n",
    "                \"17-2.\",\n",
    "                \"19-1.\",\n",
    "                \"19-16.\",\n",
    "                \"19-19.\",\n",
    "                \"19-20.\",\n",
    "                \"19-3.\",\n",
    "                \"2-10.\",\n",
    "                \"2-11.\",\n",
    "                \"2-17.\",\n",
    "                \"2-18.\",\n",
    "                \"2-20.\",\n",
    "                \"2-3.\",\n",
    "                \"2-4.\",\n",
    "                \"2-5.\",\n",
    "                \"2-6.\",\n",
    "                \"2-7.\",\n",
    "                \"2-8.\",\n",
    "                \"3-13.\",\n",
    "                \"3-18.\",\n",
    "                \"3-3.\",\n",
    "                \"4-1.\",\n",
    "                \"4-10.\",\n",
    "                \"4-11.\",\n",
    "                \"4-19.\",\n",
    "                \"5-5.\",\n",
    "                \"6-15.\",\n",
    "                \"7-10.\",\n",
    "                \"7-14.\",\n",
    "                \"8-18.\",\n",
    "                \"8-20.\",\n",
    "                \"8-3.\",\n",
    "                \"8-8.\",\n",
    "            ],\n",
    "            \"domains\": [1, 2, 3, 4, 5],\n",
    "            \"num_examples_per_domain_per_label\": -1,\n",
    "            \"pickle_path\": \"/root/csc500-main/datasets/cores.stratified_ds.2022A.pkl\",\n",
    "            \"source_or_target_dataset\": \"target\",\n",
    "            \"x_transforms\": [\"unit_mag\"],\n",
    "            \"episode_transforms\": [],\n",
    "            \"domain_prefix\": \"CORES_\",\n",
    "        },\n",
    "        {\n",
    "            \"labels\": [\n",
    "                \"3123D52\",\n",
    "                \"3123D65\",\n",
    "                \"3123D79\",\n",
    "                \"3123D80\",\n",
    "                \"3123D54\",\n",
    "                \"3123D70\",\n",
    "                \"3123D7B\",\n",
    "                \"3123D89\",\n",
    "                \"3123D58\",\n",
    "                \"3123D76\",\n",
    "                \"3123D7D\",\n",
    "                \"3123EFE\",\n",
    "                \"3123D64\",\n",
    "                \"3123D78\",\n",
    "                \"3123D7E\",\n",
    "                \"3124E4A\",\n",
    "            ],\n",
    "            \"domains\": [32, 38, 8, 44, 14, 50, 20, 26],\n",
    "            \"num_examples_per_domain_per_label\": 10000,\n",
    "            \"pickle_path\": \"/root/csc500-main/datasets/oracle.Run1_10kExamples_stratified_ds.2022A.pkl\",\n",
    "            \"source_or_target_dataset\": \"source\",\n",
    "            \"x_transforms\": [\"unit_mag\"],\n",
    "            \"episode_transforms\": [],\n",
    "            \"domain_prefix\": \"ORACLE.run1_\",\n",
    "        },\n",
    "    ],\n",
    "    \"dataset_seed\": 154325,\n",
    "    \"seed\": 154325,\n",
    "}\n"
   ]
  },
  {
   "cell_type": "code",
   "execution_count": 5,
   "id": "8fa1cc33",
   "metadata": {
    "execution": {
     "iopub.execute_input": "2022-03-22T15:24:06.979002Z",
     "iopub.status.busy": "2022-03-22T15:24:06.978621Z",
     "iopub.status.idle": "2022-03-22T15:24:07.001763Z",
     "shell.execute_reply": "2022-03-22T15:24:07.001010Z"
    },
    "papermill": {
     "duration": 0.04971,
     "end_time": "2022-03-22T15:24:07.001922",
     "exception": false,
     "start_time": "2022-03-22T15:24:06.952212",
     "status": "completed"
    },
    "tags": []
   },
   "outputs": [],
   "source": [
    "# Set this to True if you want to run this template directly\n",
    "STANDALONE = False\n",
    "if STANDALONE:\n",
    "    print(\"parameters not injected, running with standalone_parameters\")\n",
    "    parameters = standalone_parameters\n",
    "\n",
    "if not 'parameters' in locals() and not 'parameters' in globals():\n",
    "    raise Exception(\"Parameter injection failed\")\n",
    "\n",
    "#Use an easy dict for all the parameters\n",
    "p = EasyDict(parameters)\n",
    "\n",
    "if \"x_shape\" not in p:\n",
    "    p.x_shape = [2,256] # Default to this if we dont supply x_shape\n",
    "\n",
    "\n",
    "supplied_keys = set(p.keys())\n",
    "\n",
    "if  supplied_keys != required_parameters:\n",
    "    print(\"Parameters are incorrect\")\n",
    "    if len(supplied_keys - required_parameters)>0: print(\"Shouldn't have:\", str(supplied_keys - required_parameters))\n",
    "    if len(required_parameters - supplied_keys)>0: print(\"Need to have:\", str(required_parameters - supplied_keys))\n",
    "    raise RuntimeError(\"Parameters are incorrect\")"
   ]
  },
  {
   "cell_type": "code",
   "execution_count": 6,
   "id": "3a028d58",
   "metadata": {
    "execution": {
     "iopub.execute_input": "2022-03-22T15:24:07.050861Z",
     "iopub.status.busy": "2022-03-22T15:24:07.050497Z",
     "iopub.status.idle": "2022-03-22T15:24:07.070407Z",
     "shell.execute_reply": "2022-03-22T15:24:07.071076Z"
    },
    "papermill": {
     "duration": 0.044169,
     "end_time": "2022-03-22T15:24:07.071250",
     "exception": false,
     "start_time": "2022-03-22T15:24:07.027081",
     "status": "completed"
    },
    "tags": []
   },
   "outputs": [],
   "source": [
    "###################################\n",
    "# Set the RNGs and make it all deterministic\n",
    "###################################\n",
    "np.random.seed(p.seed)\n",
    "random.seed(p.seed)\n",
    "torch.manual_seed(p.seed)\n",
    "\n",
    "torch.use_deterministic_algorithms(True) "
   ]
  },
  {
   "cell_type": "code",
   "execution_count": 7,
   "id": "b691acf6",
   "metadata": {
    "execution": {
     "iopub.execute_input": "2022-03-22T15:24:07.121970Z",
     "iopub.status.busy": "2022-03-22T15:24:07.121265Z",
     "iopub.status.idle": "2022-03-22T15:24:07.143653Z",
     "shell.execute_reply": "2022-03-22T15:24:07.142922Z"
    },
    "papermill": {
     "duration": 0.045729,
     "end_time": "2022-03-22T15:24:07.143803",
     "exception": false,
     "start_time": "2022-03-22T15:24:07.098074",
     "status": "completed"
    },
    "tags": []
   },
   "outputs": [],
   "source": [
    "###########################################\n",
    "# The stratified datasets honor this\n",
    "###########################################\n",
    "torch.set_default_dtype(eval(p.torch_default_dtype))"
   ]
  },
  {
   "cell_type": "code",
   "execution_count": 8,
   "id": "b5fba671",
   "metadata": {
    "execution": {
     "iopub.execute_input": "2022-03-22T15:24:07.193880Z",
     "iopub.status.busy": "2022-03-22T15:24:07.193425Z",
     "iopub.status.idle": "2022-03-22T15:24:07.247521Z",
     "shell.execute_reply": "2022-03-22T15:24:07.246835Z"
    },
    "papermill": {
     "duration": 0.077564,
     "end_time": "2022-03-22T15:24:07.247701",
     "exception": false,
     "start_time": "2022-03-22T15:24:07.170137",
     "status": "completed"
    },
    "tags": []
   },
   "outputs": [],
   "source": [
    "###################################\n",
    "# Build the network(s)\n",
    "# Note: It's critical to do this AFTER setting the RNG\n",
    "###################################\n",
    "x_net = build_sequential(p.x_net)"
   ]
  },
  {
   "cell_type": "code",
   "execution_count": 9,
   "id": "5d7e61cc",
   "metadata": {
    "execution": {
     "iopub.execute_input": "2022-03-22T15:24:07.297923Z",
     "iopub.status.busy": "2022-03-22T15:24:07.297563Z",
     "iopub.status.idle": "2022-03-22T15:24:07.323193Z",
     "shell.execute_reply": "2022-03-22T15:24:07.322504Z"
    },
    "papermill": {
     "duration": 0.049087,
     "end_time": "2022-03-22T15:24:07.323340",
     "exception": false,
     "start_time": "2022-03-22T15:24:07.274253",
     "status": "completed"
    },
    "tags": []
   },
   "outputs": [],
   "source": [
    "start_time_secs = time.time()"
   ]
  },
  {
   "cell_type": "code",
   "execution_count": 10,
   "id": "c6b67dfd",
   "metadata": {
    "execution": {
     "iopub.execute_input": "2022-03-22T15:24:07.371177Z",
     "iopub.status.busy": "2022-03-22T15:24:07.370816Z",
     "iopub.status.idle": "2022-03-22T15:24:07.391165Z",
     "shell.execute_reply": "2022-03-22T15:24:07.390407Z"
    },
    "papermill": {
     "duration": 0.043184,
     "end_time": "2022-03-22T15:24:07.391314",
     "exception": false,
     "start_time": "2022-03-22T15:24:07.348130",
     "status": "completed"
    },
    "tags": []
   },
   "outputs": [],
   "source": [
    "p.domains_source = []\n",
    "p.domains_target = []\n",
    "\n",
    "\n",
    "train_original_source = []\n",
    "val_original_source   = []\n",
    "test_original_source  = []\n",
    "\n",
    "train_original_target = []\n",
    "val_original_target   = []\n",
    "test_original_target  = []"
   ]
  },
  {
   "cell_type": "code",
   "execution_count": 11,
   "id": "e3d9c3d3",
   "metadata": {
    "execution": {
     "iopub.execute_input": "2022-03-22T15:24:07.439120Z",
     "iopub.status.busy": "2022-03-22T15:24:07.438760Z",
     "iopub.status.idle": "2022-03-22T15:24:07.460425Z",
     "shell.execute_reply": "2022-03-22T15:24:07.459636Z"
    },
    "papermill": {
     "duration": 0.044447,
     "end_time": "2022-03-22T15:24:07.460571",
     "exception": false,
     "start_time": "2022-03-22T15:24:07.416124",
     "status": "completed"
    },
    "tags": []
   },
   "outputs": [],
   "source": [
    "# global_x_transform_func = lambda x: normalize(x.to(torch.get_default_dtype()), \"unit_power\") # unit_power, unit_mag\n",
    "# global_x_transform_func = lambda x: normalize(x, \"unit_power\") # unit_power, unit_mag"
   ]
  },
  {
   "cell_type": "code",
   "execution_count": 12,
   "id": "acb78fd2",
   "metadata": {
    "execution": {
     "iopub.execute_input": "2022-03-22T15:24:07.519139Z",
     "iopub.status.busy": "2022-03-22T15:24:07.518311Z",
     "iopub.status.idle": "2022-03-22T15:24:07.536559Z",
     "shell.execute_reply": "2022-03-22T15:24:07.535736Z"
    },
    "papermill": {
     "duration": 0.049865,
     "end_time": "2022-03-22T15:24:07.536706",
     "exception": false,
     "start_time": "2022-03-22T15:24:07.486841",
     "status": "completed"
    },
    "tags": []
   },
   "outputs": [],
   "source": [
    "def add_dataset(\n",
    "    labels,\n",
    "    domains,\n",
    "    pickle_path,\n",
    "    x_transforms,\n",
    "    episode_transforms,\n",
    "    domain_prefix,\n",
    "    num_examples_per_domain_per_label,\n",
    "    source_or_target_dataset:str,\n",
    "    iterator_seed=p.seed,\n",
    "    dataset_seed=p.dataset_seed,\n",
    "    n_shot=p.n_shot,\n",
    "    n_way=p.n_way,\n",
    "    n_query=p.n_query,\n",
    "    train_val_test_k_factors=(p.train_k_factor,p.val_k_factor,p.test_k_factor),\n",
    "):\n",
    "   \n",
    "    if x_transforms == []: x_transform = None\n",
    "    else: x_transform = get_chained_transform(x_transforms)\n",
    "    \n",
    "    if episode_transforms == []: episode_transform = None\n",
    "    else: raise Exception(\"episode_transforms not implemented\")\n",
    "    \n",
    "    episode_transform = lambda tup, _prefix=domain_prefix: (_prefix + str(tup[0]), tup[1])\n",
    "\n",
    "\n",
    "    eaf = Episodic_Accessor_Factory(\n",
    "        labels=labels,\n",
    "        domains=domains,\n",
    "        num_examples_per_domain_per_label=num_examples_per_domain_per_label,\n",
    "        iterator_seed=iterator_seed,\n",
    "        dataset_seed=dataset_seed,\n",
    "        n_shot=n_shot,\n",
    "        n_way=n_way,\n",
    "        n_query=n_query,\n",
    "        train_val_test_k_factors=train_val_test_k_factors,\n",
    "        pickle_path=pickle_path,\n",
    "        x_transform_func=x_transform,\n",
    "    )\n",
    "\n",
    "    train, val, test = eaf.get_train(), eaf.get_val(), eaf.get_test()\n",
    "    train = Lazy_Iterable_Wrapper(train, episode_transform)\n",
    "    val = Lazy_Iterable_Wrapper(val, episode_transform)\n",
    "    test = Lazy_Iterable_Wrapper(test, episode_transform)\n",
    "\n",
    "    if source_or_target_dataset==\"source\":\n",
    "        train_original_source.append(train)\n",
    "        val_original_source.append(val)\n",
    "        test_original_source.append(test)\n",
    "\n",
    "        p.domains_source.extend(\n",
    "            [domain_prefix + str(u) for u in domains]\n",
    "        )\n",
    "    elif source_or_target_dataset==\"target\":\n",
    "        train_original_target.append(train)\n",
    "        val_original_target.append(val)\n",
    "        test_original_target.append(test)\n",
    "        p.domains_target.extend(\n",
    "            [domain_prefix + str(u) for u in domains]\n",
    "        )\n",
    "    else:\n",
    "        raise Exception(f\"invalid source_or_target_dataset: {source_or_target_dataset}\")\n",
    "    "
   ]
  },
  {
   "cell_type": "code",
   "execution_count": 13,
   "id": "fe266617",
   "metadata": {
    "execution": {
     "iopub.execute_input": "2022-03-22T15:24:07.588117Z",
     "iopub.status.busy": "2022-03-22T15:24:07.586835Z",
     "iopub.status.idle": "2022-03-22T15:26:15.874058Z",
     "shell.execute_reply": "2022-03-22T15:26:15.873676Z"
    },
    "papermill": {
     "duration": 128.310475,
     "end_time": "2022-03-22T15:26:15.874173",
     "exception": false,
     "start_time": "2022-03-22T15:24:07.563698",
     "status": "completed"
    },
    "tags": []
   },
   "outputs": [],
   "source": [
    "for ds in p.datasets:\n",
    "    add_dataset(**ds)"
   ]
  },
  {
   "cell_type": "code",
   "execution_count": 14,
   "id": "b90d65ac",
   "metadata": {
    "execution": {
     "iopub.execute_input": "2022-03-22T15:26:15.918980Z",
     "iopub.status.busy": "2022-03-22T15:26:15.918428Z",
     "iopub.status.idle": "2022-03-22T15:26:15.939269Z",
     "shell.execute_reply": "2022-03-22T15:26:15.938933Z"
    },
    "papermill": {
     "duration": 0.043926,
     "end_time": "2022-03-22T15:26:15.939346",
     "exception": false,
     "start_time": "2022-03-22T15:26:15.895420",
     "status": "completed"
    },
    "tags": []
   },
   "outputs": [],
   "source": [
    "# from steves_utils.CORES.utils import (\n",
    "#     ALL_NODES,\n",
    "#     ALL_NODES_MINIMUM_1000_EXAMPLES,\n",
    "#     ALL_DAYS\n",
    "# )\n",
    "\n",
    "# add_dataset(\n",
    "#     labels=ALL_NODES,\n",
    "#     domains = ALL_DAYS,\n",
    "#     num_examples_per_domain_per_label=100,\n",
    "#     pickle_path=os.path.join(get_datasets_base_path(), \"cores.stratified_ds.2022A.pkl\"),\n",
    "#     source_or_target_dataset=\"target\",\n",
    "#     x_transform_func=global_x_transform_func,\n",
    "#     domain_modifier=lambda u: f\"cores_{u}\"\n",
    "# )"
   ]
  },
  {
   "cell_type": "code",
   "execution_count": 15,
   "id": "76db484d",
   "metadata": {
    "execution": {
     "iopub.execute_input": "2022-03-22T15:26:15.983368Z",
     "iopub.status.busy": "2022-03-22T15:26:15.982814Z",
     "iopub.status.idle": "2022-03-22T15:26:16.000966Z",
     "shell.execute_reply": "2022-03-22T15:26:16.000640Z"
    },
    "papermill": {
     "duration": 0.041115,
     "end_time": "2022-03-22T15:26:16.001049",
     "exception": false,
     "start_time": "2022-03-22T15:26:15.959934",
     "status": "completed"
    },
    "tags": []
   },
   "outputs": [],
   "source": [
    "# from steves_utils.ORACLE.utils_v2 import (\n",
    "#     ALL_DISTANCES_FEET,\n",
    "#     ALL_RUNS,\n",
    "#     ALL_SERIAL_NUMBERS,\n",
    "# )\n",
    "\n",
    "\n",
    "# add_dataset(\n",
    "#     labels=ALL_SERIAL_NUMBERS,\n",
    "#     domains = list(set(ALL_DISTANCES_FEET) - {2,62}),\n",
    "#     num_examples_per_domain_per_label=100,\n",
    "#     pickle_path=os.path.join(get_datasets_base_path(), \"oracle.Run2_framed_2000Examples_stratified_ds.2022A.pkl\"),\n",
    "#     source_or_target_dataset=\"source\",\n",
    "#     x_transform_func=global_x_transform_func,\n",
    "#     domain_modifier=lambda u: f\"oracle1_{u}\"\n",
    "# )\n"
   ]
  },
  {
   "cell_type": "code",
   "execution_count": 16,
   "id": "97dea9d2",
   "metadata": {
    "execution": {
     "iopub.execute_input": "2022-03-22T15:26:16.045559Z",
     "iopub.status.busy": "2022-03-22T15:26:16.045007Z",
     "iopub.status.idle": "2022-03-22T15:26:16.062645Z",
     "shell.execute_reply": "2022-03-22T15:26:16.062309Z"
    },
    "papermill": {
     "duration": 0.040711,
     "end_time": "2022-03-22T15:26:16.062721",
     "exception": false,
     "start_time": "2022-03-22T15:26:16.022010",
     "status": "completed"
    },
    "tags": []
   },
   "outputs": [],
   "source": [
    "# from steves_utils.ORACLE.utils_v2 import (\n",
    "#     ALL_DISTANCES_FEET,\n",
    "#     ALL_RUNS,\n",
    "#     ALL_SERIAL_NUMBERS,\n",
    "# )\n",
    "\n",
    "\n",
    "# add_dataset(\n",
    "#     labels=ALL_SERIAL_NUMBERS,\n",
    "#     domains = list(set(ALL_DISTANCES_FEET) - {2,62,56}),\n",
    "#     num_examples_per_domain_per_label=100,\n",
    "#     pickle_path=os.path.join(get_datasets_base_path(), \"oracle.Run2_framed_2000Examples_stratified_ds.2022A.pkl\"),\n",
    "#     source_or_target_dataset=\"source\",\n",
    "#     x_transform_func=global_x_transform_func,\n",
    "#     domain_modifier=lambda u: f\"oracle2_{u}\"\n",
    "# )"
   ]
  },
  {
   "cell_type": "code",
   "execution_count": 17,
   "id": "6f289866",
   "metadata": {
    "execution": {
     "iopub.execute_input": "2022-03-22T15:26:16.106668Z",
     "iopub.status.busy": "2022-03-22T15:26:16.106118Z",
     "iopub.status.idle": "2022-03-22T15:26:16.123316Z",
     "shell.execute_reply": "2022-03-22T15:26:16.122994Z"
    },
    "papermill": {
     "duration": 0.040026,
     "end_time": "2022-03-22T15:26:16.123395",
     "exception": false,
     "start_time": "2022-03-22T15:26:16.083369",
     "status": "completed"
    },
    "tags": []
   },
   "outputs": [],
   "source": [
    "# add_dataset(\n",
    "#     labels=list(range(19)),\n",
    "#     domains = [0,1,2],\n",
    "#     num_examples_per_domain_per_label=100,\n",
    "#     pickle_path=os.path.join(get_datasets_base_path(), \"metehan.stratified_ds.2022A.pkl\"),\n",
    "#     source_or_target_dataset=\"target\",\n",
    "#     x_transform_func=global_x_transform_func,\n",
    "#     domain_modifier=lambda u: f\"met_{u}\"\n",
    "# )"
   ]
  },
  {
   "cell_type": "code",
   "execution_count": 18,
   "id": "86a863c3",
   "metadata": {
    "execution": {
     "iopub.execute_input": "2022-03-22T15:26:16.170414Z",
     "iopub.status.busy": "2022-03-22T15:26:16.169864Z",
     "iopub.status.idle": "2022-03-22T15:26:16.188703Z",
     "shell.execute_reply": "2022-03-22T15:26:16.188316Z"
    },
    "papermill": {
     "duration": 0.041801,
     "end_time": "2022-03-22T15:26:16.188780",
     "exception": false,
     "start_time": "2022-03-22T15:26:16.146979",
     "status": "completed"
    },
    "tags": []
   },
   "outputs": [],
   "source": [
    "# # from steves_utils.wisig.utils import (\n",
    "# #     ALL_NODES_MINIMUM_100_EXAMPLES,\n",
    "# #     ALL_NODES_MINIMUM_500_EXAMPLES,\n",
    "# #     ALL_NODES_MINIMUM_1000_EXAMPLES,\n",
    "# #     ALL_DAYS\n",
    "# # )\n",
    "\n",
    "# import steves_utils.wisig.utils as wisig\n",
    "\n",
    "\n",
    "# add_dataset(\n",
    "#     labels=wisig.ALL_NODES_MINIMUM_100_EXAMPLES,\n",
    "#     domains = wisig.ALL_DAYS,\n",
    "#     num_examples_per_domain_per_label=100,\n",
    "#     pickle_path=os.path.join(get_datasets_base_path(), \"wisig.node3-19.stratified_ds.2022A.pkl\"),\n",
    "#     source_or_target_dataset=\"target\",\n",
    "#     x_transform_func=global_x_transform_func,\n",
    "#     domain_modifier=lambda u: f\"wisig_{u}\"\n",
    "# )"
   ]
  },
  {
   "cell_type": "code",
   "execution_count": 19,
   "id": "fd5442bc",
   "metadata": {
    "execution": {
     "iopub.execute_input": "2022-03-22T15:26:16.235822Z",
     "iopub.status.busy": "2022-03-22T15:26:16.235240Z",
     "iopub.status.idle": "2022-03-22T15:26:16.254534Z",
     "shell.execute_reply": "2022-03-22T15:26:16.254194Z"
    },
    "papermill": {
     "duration": 0.044998,
     "end_time": "2022-03-22T15:26:16.254612",
     "exception": false,
     "start_time": "2022-03-22T15:26:16.209614",
     "status": "completed"
    },
    "tags": []
   },
   "outputs": [],
   "source": [
    "###################################\n",
    "# Build the dataset\n",
    "###################################\n",
    "train_original_source = Iterable_Aggregator(train_original_source, p.seed)\n",
    "val_original_source = Iterable_Aggregator(val_original_source, p.seed)\n",
    "test_original_source = Iterable_Aggregator(test_original_source, p.seed)\n",
    "\n",
    "\n",
    "train_original_target = Iterable_Aggregator(train_original_target, p.seed)\n",
    "val_original_target = Iterable_Aggregator(val_original_target, p.seed)\n",
    "test_original_target = Iterable_Aggregator(test_original_target, p.seed)\n",
    "\n",
    "# For CNN We only use X and Y. And we only train on the source.\n",
    "# Properly form the data using a transform lambda and Lazy_Iterable_Wrapper. Finally wrap them in a dataloader\n",
    "\n",
    "transform_lambda = lambda ex: ex[1] # Original is (<domain>, <episode>) so we strip down to episode only\n",
    "\n",
    "train_processed_source = Lazy_Iterable_Wrapper(train_original_source, transform_lambda)\n",
    "val_processed_source   = Lazy_Iterable_Wrapper(val_original_source, transform_lambda)\n",
    "test_processed_source  = Lazy_Iterable_Wrapper(test_original_source, transform_lambda)\n",
    "\n",
    "train_processed_target = Lazy_Iterable_Wrapper(train_original_target, transform_lambda)\n",
    "val_processed_target   = Lazy_Iterable_Wrapper(val_original_target, transform_lambda)\n",
    "test_processed_target  = Lazy_Iterable_Wrapper(test_original_target, transform_lambda)\n",
    "\n",
    "datasets = EasyDict({\n",
    "    \"source\": {\n",
    "        \"original\": {\"train\":train_original_source, \"val\":val_original_source, \"test\":test_original_source},\n",
    "        \"processed\": {\"train\":train_processed_source, \"val\":val_processed_source, \"test\":test_processed_source}\n",
    "    },\n",
    "    \"target\": {\n",
    "        \"original\": {\"train\":train_original_target, \"val\":val_original_target, \"test\":test_original_target},\n",
    "        \"processed\": {\"train\":train_processed_target, \"val\":val_processed_target, \"test\":test_processed_target}\n",
    "    },\n",
    "})"
   ]
  },
  {
   "cell_type": "code",
   "execution_count": 20,
   "id": "5b3c01fc",
   "metadata": {
    "execution": {
     "iopub.execute_input": "2022-03-22T15:26:16.300449Z",
     "iopub.status.busy": "2022-03-22T15:26:16.299897Z",
     "iopub.status.idle": "2022-03-22T15:26:49.458597Z",
     "shell.execute_reply": "2022-03-22T15:26:49.459301Z"
    },
    "papermill": {
     "duration": 33.183681,
     "end_time": "2022-03-22T15:26:49.459511",
     "exception": false,
     "start_time": "2022-03-22T15:26:16.275830",
     "status": "completed"
    },
    "tags": []
   },
   "outputs": [
    {
     "name": "stdout",
     "output_type": "stream",
     "text": [
      "{'ORACLE.run1_8', 'ORACLE.run1_20', 'ORACLE.run1_44', 'ORACLE.run1_50', 'ORACLE.run1_14', 'ORACLE.run1_26', 'ORACLE.run1_38', 'ORACLE.run1_32'}\n"
     ]
    },
    {
     "name": "stdout",
     "output_type": "stream",
     "text": [
      "{'CORES_1', 'CORES_3', 'CORES_4', 'CORES_5', 'CORES_2'}\n"
     ]
    },
    {
     "name": "stdout",
     "output_type": "stream",
     "text": [
      "tensor([[[ 0.6692, -0.3973, -0.7006,  ..., -0.0784,  0.4915, -1.2966],\n",
      "         [ 0.7267,  0.2039,  0.3764,  ...,  0.8470, -0.0157, -1.4691]],\n",
      "\n",
      "        [[ 1.2593,  1.0722, -0.8598,  ...,  0.3742,  0.0455, -1.1480],\n",
      "         [ 0.1720, -0.1720,  1.0722,  ...,  0.1416, -0.5917, -0.6018]],\n",
      "\n",
      "        [[-0.4634, -0.3004, -0.5347,  ..., -0.3208,  0.3310,  0.8911],\n",
      "         [ 1.0897, -0.2190, -0.6671,  ...,  1.0184, -0.1018, -0.5550]],\n",
      "\n",
      "        ...,\n",
      "\n",
      "        [[ 0.7662, -0.5005, -2.0328,  ..., -0.2595,  0.7353,  0.6426],\n",
      "         [-0.8094, -0.1298,  0.9330,  ...,  1.1492,  1.0071, -1.6868]],\n",
      "\n",
      "        [[-0.4735,  0.1686, -0.1492,  ..., -0.9923, -0.7848, -0.8042],\n",
      "         [-0.9729,  0.1751,  2.4711,  ...,  0.0389,  0.0973,  0.2270]],\n",
      "\n",
      "        [[ 0.4190,  0.3635, -0.5977,  ..., -1.1830, -0.7702,  1.5095],\n",
      "         [ 0.9119, -0.7763, -1.9470,  ..., -0.5853,  0.5360,  1.1029]]])\n"
     ]
    }
   ],
   "source": [
    "from steves_utils.transforms import get_average_magnitude, get_average_power\n",
    "\n",
    "print(set([u for u,_ in val_original_source]))\n",
    "print(set([u for u,_ in val_original_target]))\n",
    "\n",
    "s_x, s_y, q_x, q_y, _ = next(iter(train_processed_source))\n",
    "print(s_x)\n",
    "\n",
    "# for ds in [\n",
    "#     train_processed_source,\n",
    "#     val_processed_source,\n",
    "#     test_processed_source,\n",
    "#     train_processed_target,\n",
    "#     val_processed_target,\n",
    "#     test_processed_target\n",
    "# ]:\n",
    "#     for s_x, s_y, q_x, q_y, _ in ds:\n",
    "#         for X in (s_x, q_x):\n",
    "#             for x in X:\n",
    "#                 assert np.isclose(get_average_magnitude(x.numpy()), 1.0)\n",
    "#                 assert np.isclose(get_average_power(x.numpy()), 1.0)\n",
    "                "
   ]
  },
  {
   "cell_type": "code",
   "execution_count": 21,
   "id": "bbdacba1",
   "metadata": {
    "execution": {
     "iopub.execute_input": "2022-03-22T15:26:49.517254Z",
     "iopub.status.busy": "2022-03-22T15:26:49.516676Z",
     "iopub.status.idle": "2022-03-22T15:26:49.611976Z",
     "shell.execute_reply": "2022-03-22T15:26:49.612287Z"
    },
    "papermill": {
     "duration": 0.122831,
     "end_time": "2022-03-22T15:26:49.612390",
     "exception": false,
     "start_time": "2022-03-22T15:26:49.489559",
     "status": "completed"
    },
    "tags": []
   },
   "outputs": [
    {
     "name": "stdout",
     "output_type": "stream",
     "text": [
      "(2, 256)\n"
     ]
    }
   ],
   "source": [
    "###################################\n",
    "# Build the model\n",
    "###################################\n",
    "# easfsl only wants a tuple for the shape\n",
    "model = Steves_Prototypical_Network(x_net, device=p.device, x_shape=tuple(p.x_shape))\n",
    "optimizer = Adam(params=model.parameters(), lr=p.lr)"
   ]
  },
  {
   "cell_type": "code",
   "execution_count": 22,
   "id": "22b39ac5",
   "metadata": {
    "execution": {
     "iopub.execute_input": "2022-03-22T15:26:49.661695Z",
     "iopub.status.busy": "2022-03-22T15:26:49.661311Z",
     "iopub.status.idle": "2022-03-22T18:14:41.381213Z",
     "shell.execute_reply": "2022-03-22T18:14:41.380872Z"
    },
    "papermill": {
     "duration": 10071.746337,
     "end_time": "2022-03-22T18:14:41.381295",
     "exception": false,
     "start_time": "2022-03-22T15:26:49.634958",
     "status": "completed"
    },
    "tags": []
   },
   "outputs": [
    {
     "name": "stdout",
     "output_type": "stream",
     "text": [
      "epoch: 1, [batch: 1 / 33600], examples_per_second: 6.4012, train_label_loss: 2.7701, \n"
     ]
    },
    {
     "name": "stdout",
     "output_type": "stream",
     "text": [
      "epoch: 1, [batch: 3360 / 33600], examples_per_second: 4257.6152, train_label_loss: 1.3567, \n"
     ]
    },
    {
     "name": "stdout",
     "output_type": "stream",
     "text": [
      "epoch: 1, [batch: 6720 / 33600], examples_per_second: 4611.6589, train_label_loss: 0.7451, \n"
     ]
    },
    {
     "name": "stdout",
     "output_type": "stream",
     "text": [
      "epoch: 1, [batch: 10080 / 33600], examples_per_second: 5030.0931, train_label_loss: 1.3156, \n"
     ]
    },
    {
     "name": "stdout",
     "output_type": "stream",
     "text": [
      "epoch: 1, [batch: 13440 / 33600], examples_per_second: 4631.1629, train_label_loss: 0.7322, \n"
     ]
    },
    {
     "name": "stdout",
     "output_type": "stream",
     "text": [
      "epoch: 1, [batch: 16800 / 33600], examples_per_second: 3384.5084, train_label_loss: 0.9403, \n"
     ]
    },
    {
     "name": "stdout",
     "output_type": "stream",
     "text": [
      "epoch: 1, [batch: 20160 / 33600], examples_per_second: 3087.0287, train_label_loss: 0.6185, \n"
     ]
    },
    {
     "name": "stdout",
     "output_type": "stream",
     "text": [
      "epoch: 1, [batch: 23520 / 33600], examples_per_second: 3313.5661, train_label_loss: 0.4745, \n"
     ]
    },
    {
     "name": "stdout",
     "output_type": "stream",
     "text": [
      "epoch: 1, [batch: 26880 / 33600], examples_per_second: 2984.5038, train_label_loss: 0.5216, \n"
     ]
    },
    {
     "name": "stdout",
     "output_type": "stream",
     "text": [
      "epoch: 1, [batch: 30240 / 33600], examples_per_second: 3220.7311, train_label_loss: 1.1695, \n"
     ]
    },
    {
     "name": "stdout",
     "output_type": "stream",
     "text": [
      "=============================================================\n",
      "epoch: 1, source_val_acc_label: 0.6560, target_val_acc_label: 0.9657, source_val_label_loss: 0.9977, target_val_label_loss: 0.2771, \n",
      "=============================================================\n"
     ]
    },
    {
     "name": "stdout",
     "output_type": "stream",
     "text": [
      "New best\n"
     ]
    },
    {
     "name": "stdout",
     "output_type": "stream",
     "text": [
      "epoch: 2, [batch: 1 / 33600], examples_per_second: 0.7766, train_label_loss: 0.5371, \n"
     ]
    },
    {
     "name": "stdout",
     "output_type": "stream",
     "text": [
      "epoch: 2, [batch: 3360 / 33600], examples_per_second: 3135.9209, train_label_loss: 0.6407, \n"
     ]
    },
    {
     "name": "stdout",
     "output_type": "stream",
     "text": [
      "epoch: 2, [batch: 6720 / 33600], examples_per_second: 3119.9156, train_label_loss: 0.7006, \n"
     ]
    },
    {
     "name": "stdout",
     "output_type": "stream",
     "text": [
      "epoch: 2, [batch: 10080 / 33600], examples_per_second: 3366.4452, train_label_loss: 0.6429, \n"
     ]
    },
    {
     "name": "stdout",
     "output_type": "stream",
     "text": [
      "epoch: 2, [batch: 13440 / 33600], examples_per_second: 2984.2712, train_label_loss: 0.7273, \n"
     ]
    },
    {
     "name": "stdout",
     "output_type": "stream",
     "text": [
      "epoch: 2, [batch: 16800 / 33600], examples_per_second: 3335.9287, train_label_loss: 0.9292, \n"
     ]
    },
    {
     "name": "stdout",
     "output_type": "stream",
     "text": [
      "epoch: 2, [batch: 20160 / 33600], examples_per_second: 3130.6719, train_label_loss: 0.4843, \n"
     ]
    },
    {
     "name": "stdout",
     "output_type": "stream",
     "text": [
      "epoch: 2, [batch: 23520 / 33600], examples_per_second: 3062.0112, train_label_loss: 0.8385, \n"
     ]
    },
    {
     "name": "stdout",
     "output_type": "stream",
     "text": [
      "epoch: 2, [batch: 26880 / 33600], examples_per_second: 3731.6917, train_label_loss: 0.4784, \n"
     ]
    },
    {
     "name": "stdout",
     "output_type": "stream",
     "text": [
      "epoch: 2, [batch: 30240 / 33600], examples_per_second: 3411.9367, train_label_loss: 0.6585, \n"
     ]
    },
    {
     "name": "stdout",
     "output_type": "stream",
     "text": [
      "=============================================================\n",
      "epoch: 2, source_val_acc_label: 0.6737, target_val_acc_label: 0.9674, source_val_label_loss: 0.8563, target_val_label_loss: 0.2505, \n",
      "=============================================================\n"
     ]
    },
    {
     "name": "stdout",
     "output_type": "stream",
     "text": [
      "New best\n"
     ]
    },
    {
     "name": "stdout",
     "output_type": "stream",
     "text": [
      "epoch: 3, [batch: 1 / 33600], examples_per_second: 1.0480, train_label_loss: 1.2718, \n"
     ]
    },
    {
     "name": "stdout",
     "output_type": "stream",
     "text": [
      "epoch: 3, [batch: 3360 / 33600], examples_per_second: 3271.4559, train_label_loss: 0.7458, \n"
     ]
    },
    {
     "name": "stdout",
     "output_type": "stream",
     "text": [
      "epoch: 3, [batch: 6720 / 33600], examples_per_second: 3107.1267, train_label_loss: 0.9989, \n"
     ]
    },
    {
     "name": "stdout",
     "output_type": "stream",
     "text": [
      "epoch: 3, [batch: 10080 / 33600], examples_per_second: 3195.8763, train_label_loss: 1.2537, \n"
     ]
    },
    {
     "name": "stdout",
     "output_type": "stream",
     "text": [
      "epoch: 3, [batch: 13440 / 33600], examples_per_second: 3236.6191, train_label_loss: 0.4935, \n"
     ]
    },
    {
     "name": "stdout",
     "output_type": "stream",
     "text": [
      "epoch: 3, [batch: 16800 / 33600], examples_per_second: 3101.6072, train_label_loss: 0.5944, \n"
     ]
    },
    {
     "name": "stdout",
     "output_type": "stream",
     "text": [
      "epoch: 3, [batch: 20160 / 33600], examples_per_second: 3222.9823, train_label_loss: 0.7815, \n"
     ]
    },
    {
     "name": "stdout",
     "output_type": "stream",
     "text": [
      "epoch: 3, [batch: 23520 / 33600], examples_per_second: 3109.2806, train_label_loss: 1.0556, \n"
     ]
    },
    {
     "name": "stdout",
     "output_type": "stream",
     "text": [
      "epoch: 3, [batch: 26880 / 33600], examples_per_second: 3244.9933, train_label_loss: 0.8201, \n"
     ]
    },
    {
     "name": "stdout",
     "output_type": "stream",
     "text": [
      "epoch: 3, [batch: 30240 / 33600], examples_per_second: 3324.9929, train_label_loss: 0.5962, \n"
     ]
    },
    {
     "name": "stdout",
     "output_type": "stream",
     "text": [
      "=============================================================\n",
      "epoch: 3, source_val_acc_label: 0.7026, target_val_acc_label: 0.9729, source_val_label_loss: 0.8108, target_val_label_loss: 0.2644, \n",
      "=============================================================\n"
     ]
    },
    {
     "name": "stdout",
     "output_type": "stream",
     "text": [
      "New best\n"
     ]
    },
    {
     "name": "stdout",
     "output_type": "stream",
     "text": [
      "epoch: 4, [batch: 1 / 33600], examples_per_second: 0.9706, train_label_loss: 0.3628, \n"
     ]
    },
    {
     "name": "stdout",
     "output_type": "stream",
     "text": [
      "epoch: 4, [batch: 3360 / 33600], examples_per_second: 3616.4791, train_label_loss: 1.2887, \n"
     ]
    },
    {
     "name": "stdout",
     "output_type": "stream",
     "text": [
      "epoch: 4, [batch: 6720 / 33600], examples_per_second: 3459.6432, train_label_loss: 0.5265, \n"
     ]
    },
    {
     "name": "stdout",
     "output_type": "stream",
     "text": [
      "epoch: 4, [batch: 10080 / 33600], examples_per_second: 3487.3700, train_label_loss: 0.4481, \n"
     ]
    },
    {
     "name": "stdout",
     "output_type": "stream",
     "text": [
      "epoch: 4, [batch: 13440 / 33600], examples_per_second: 4054.6738, train_label_loss: 0.8365, \n"
     ]
    },
    {
     "name": "stdout",
     "output_type": "stream",
     "text": [
      "epoch: 4, [batch: 16800 / 33600], examples_per_second: 3794.8463, train_label_loss: 0.4416, \n"
     ]
    },
    {
     "name": "stdout",
     "output_type": "stream",
     "text": [
      "epoch: 4, [batch: 20160 / 33600], examples_per_second: 3251.1095, train_label_loss: 0.9686, \n"
     ]
    },
    {
     "name": "stdout",
     "output_type": "stream",
     "text": [
      "epoch: 4, [batch: 23520 / 33600], examples_per_second: 2994.2473, train_label_loss: 0.7156, \n"
     ]
    },
    {
     "name": "stdout",
     "output_type": "stream",
     "text": [
      "epoch: 4, [batch: 26880 / 33600], examples_per_second: 3328.1338, train_label_loss: 0.5305, \n"
     ]
    },
    {
     "name": "stdout",
     "output_type": "stream",
     "text": [
      "epoch: 4, [batch: 30240 / 33600], examples_per_second: 3132.2523, train_label_loss: 0.7455, \n"
     ]
    },
    {
     "name": "stdout",
     "output_type": "stream",
     "text": [
      "=============================================================\n",
      "epoch: 4, source_val_acc_label: 0.7248, target_val_acc_label: 0.9773, source_val_label_loss: 0.7553, target_val_label_loss: 0.2546, \n",
      "=============================================================\n"
     ]
    },
    {
     "name": "stdout",
     "output_type": "stream",
     "text": [
      "New best\n"
     ]
    },
    {
     "name": "stdout",
     "output_type": "stream",
     "text": [
      "epoch: 5, [batch: 1 / 33600], examples_per_second: 0.7973, train_label_loss: 0.8193, \n"
     ]
    },
    {
     "name": "stdout",
     "output_type": "stream",
     "text": [
      "epoch: 5, [batch: 3360 / 33600], examples_per_second: 3273.6932, train_label_loss: 0.4684, \n"
     ]
    },
    {
     "name": "stdout",
     "output_type": "stream",
     "text": [
      "epoch: 5, [batch: 6720 / 33600], examples_per_second: 3280.9851, train_label_loss: 0.6311, \n"
     ]
    },
    {
     "name": "stdout",
     "output_type": "stream",
     "text": [
      "epoch: 5, [batch: 10080 / 33600], examples_per_second: 3024.4251, train_label_loss: 0.8954, \n"
     ]
    },
    {
     "name": "stdout",
     "output_type": "stream",
     "text": [
      "epoch: 5, [batch: 13440 / 33600], examples_per_second: 3353.8305, train_label_loss: 0.6556, \n"
     ]
    },
    {
     "name": "stdout",
     "output_type": "stream",
     "text": [
      "epoch: 5, [batch: 16800 / 33600], examples_per_second: 3078.1949, train_label_loss: 0.2832, \n"
     ]
    },
    {
     "name": "stdout",
     "output_type": "stream",
     "text": [
      "epoch: 5, [batch: 20160 / 33600], examples_per_second: 3228.0938, train_label_loss: 0.5059, \n"
     ]
    },
    {
     "name": "stdout",
     "output_type": "stream",
     "text": [
      "epoch: 5, [batch: 23520 / 33600], examples_per_second: 3224.5732, train_label_loss: 0.5768, \n"
     ]
    },
    {
     "name": "stdout",
     "output_type": "stream",
     "text": [
      "epoch: 5, [batch: 26880 / 33600], examples_per_second: 3003.1929, train_label_loss: 0.2601, \n"
     ]
    },
    {
     "name": "stdout",
     "output_type": "stream",
     "text": [
      "epoch: 5, [batch: 30240 / 33600], examples_per_second: 3571.6898, train_label_loss: 0.5387, \n"
     ]
    },
    {
     "name": "stdout",
     "output_type": "stream",
     "text": [
      "=============================================================\n",
      "epoch: 5, source_val_acc_label: 0.7354, target_val_acc_label: 0.9781, source_val_label_loss: 0.7347, target_val_label_loss: 0.2539, \n",
      "=============================================================\n"
     ]
    },
    {
     "name": "stdout",
     "output_type": "stream",
     "text": [
      "New best\n"
     ]
    },
    {
     "name": "stdout",
     "output_type": "stream",
     "text": [
      "epoch: 6, [batch: 1 / 33600], examples_per_second: 0.9463, train_label_loss: 1.0489, \n"
     ]
    },
    {
     "name": "stdout",
     "output_type": "stream",
     "text": [
      "epoch: 6, [batch: 3360 / 33600], examples_per_second: 3991.6707, train_label_loss: 0.2993, \n"
     ]
    },
    {
     "name": "stdout",
     "output_type": "stream",
     "text": [
      "epoch: 6, [batch: 6720 / 33600], examples_per_second: 3223.4586, train_label_loss: 0.5711, \n"
     ]
    },
    {
     "name": "stdout",
     "output_type": "stream",
     "text": [
      "epoch: 6, [batch: 10080 / 33600], examples_per_second: 3237.2501, train_label_loss: 0.8070, \n"
     ]
    },
    {
     "name": "stdout",
     "output_type": "stream",
     "text": [
      "epoch: 6, [batch: 13440 / 33600], examples_per_second: 3202.4611, train_label_loss: 0.4307, \n"
     ]
    },
    {
     "name": "stdout",
     "output_type": "stream",
     "text": [
      "epoch: 6, [batch: 16800 / 33600], examples_per_second: 3233.8039, train_label_loss: 0.5333, \n"
     ]
    },
    {
     "name": "stdout",
     "output_type": "stream",
     "text": [
      "epoch: 6, [batch: 20160 / 33600], examples_per_second: 3071.8212, train_label_loss: 0.5441, \n"
     ]
    },
    {
     "name": "stdout",
     "output_type": "stream",
     "text": [
      "epoch: 6, [batch: 23520 / 33600], examples_per_second: 3170.1532, train_label_loss: 0.2919, \n"
     ]
    },
    {
     "name": "stdout",
     "output_type": "stream",
     "text": [
      "epoch: 6, [batch: 26880 / 33600], examples_per_second: 3247.4314, train_label_loss: 0.7663, \n"
     ]
    },
    {
     "name": "stdout",
     "output_type": "stream",
     "text": [
      "epoch: 6, [batch: 30240 / 33600], examples_per_second: 3237.0940, train_label_loss: 0.5172, \n"
     ]
    },
    {
     "name": "stdout",
     "output_type": "stream",
     "text": [
      "=============================================================\n",
      "epoch: 6, source_val_acc_label: 0.7274, target_val_acc_label: 0.9809, source_val_label_loss: 0.7346, target_val_label_loss: 0.2231, \n",
      "=============================================================\n"
     ]
    },
    {
     "name": "stdout",
     "output_type": "stream",
     "text": [
      "New best\n"
     ]
    },
    {
     "name": "stdout",
     "output_type": "stream",
     "text": [
      "epoch: 7, [batch: 1 / 33600], examples_per_second: 0.8346, train_label_loss: 0.7888, \n"
     ]
    },
    {
     "name": "stdout",
     "output_type": "stream",
     "text": [
      "epoch: 7, [batch: 3360 / 33600], examples_per_second: 3969.1552, train_label_loss: 0.3899, \n"
     ]
    },
    {
     "name": "stdout",
     "output_type": "stream",
     "text": [
      "epoch: 7, [batch: 6720 / 33600], examples_per_second: 4082.4426, train_label_loss: 0.5176, \n"
     ]
    },
    {
     "name": "stdout",
     "output_type": "stream",
     "text": [
      "epoch: 7, [batch: 10080 / 33600], examples_per_second: 3157.1781, train_label_loss: 0.3982, \n"
     ]
    },
    {
     "name": "stdout",
     "output_type": "stream",
     "text": [
      "epoch: 7, [batch: 13440 / 33600], examples_per_second: 3006.7815, train_label_loss: 0.2798, \n"
     ]
    },
    {
     "name": "stdout",
     "output_type": "stream",
     "text": [
      "epoch: 7, [batch: 16800 / 33600], examples_per_second: 3523.7684, train_label_loss: 0.2372, \n"
     ]
    },
    {
     "name": "stdout",
     "output_type": "stream",
     "text": [
      "epoch: 7, [batch: 20160 / 33600], examples_per_second: 2992.8798, train_label_loss: 0.3959, \n"
     ]
    },
    {
     "name": "stdout",
     "output_type": "stream",
     "text": [
      "epoch: 7, [batch: 23520 / 33600], examples_per_second: 3370.1109, train_label_loss: 0.5668, \n"
     ]
    },
    {
     "name": "stdout",
     "output_type": "stream",
     "text": [
      "epoch: 7, [batch: 26880 / 33600], examples_per_second: 3112.3752, train_label_loss: 0.5110, \n"
     ]
    },
    {
     "name": "stdout",
     "output_type": "stream",
     "text": [
      "epoch: 7, [batch: 30240 / 33600], examples_per_second: 3054.6922, train_label_loss: 0.2742, \n"
     ]
    },
    {
     "name": "stdout",
     "output_type": "stream",
     "text": [
      "=============================================================\n",
      "epoch: 7, source_val_acc_label: 0.7386, target_val_acc_label: 0.9830, source_val_label_loss: 0.7435, target_val_label_loss: 0.2303, \n",
      "=============================================================\n"
     ]
    },
    {
     "name": "stdout",
     "output_type": "stream",
     "text": [
      "New best\n"
     ]
    },
    {
     "name": "stdout",
     "output_type": "stream",
     "text": [
      "epoch: 8, [batch: 1 / 33600], examples_per_second: 0.7834, train_label_loss: 0.3218, \n"
     ]
    },
    {
     "name": "stdout",
     "output_type": "stream",
     "text": [
      "epoch: 8, [batch: 3360 / 33600], examples_per_second: 3273.6652, train_label_loss: 0.1406, \n"
     ]
    },
    {
     "name": "stdout",
     "output_type": "stream",
     "text": [
      "epoch: 8, [batch: 6720 / 33600], examples_per_second: 3038.2081, train_label_loss: 0.1975, \n"
     ]
    },
    {
     "name": "stdout",
     "output_type": "stream",
     "text": [
      "epoch: 8, [batch: 10080 / 33600], examples_per_second: 3390.9852, train_label_loss: 0.5794, \n"
     ]
    },
    {
     "name": "stdout",
     "output_type": "stream",
     "text": [
      "epoch: 8, [batch: 13440 / 33600], examples_per_second: 3063.2883, train_label_loss: 0.2096, \n"
     ]
    },
    {
     "name": "stdout",
     "output_type": "stream",
     "text": [
      "epoch: 8, [batch: 16800 / 33600], examples_per_second: 3213.7027, train_label_loss: 0.2547, \n"
     ]
    },
    {
     "name": "stdout",
     "output_type": "stream",
     "text": [
      "epoch: 8, [batch: 20160 / 33600], examples_per_second: 3247.1411, train_label_loss: 0.3640, \n"
     ]
    },
    {
     "name": "stdout",
     "output_type": "stream",
     "text": [
      "epoch: 8, [batch: 23520 / 33600], examples_per_second: 3142.0406, train_label_loss: 0.8978, \n"
     ]
    },
    {
     "name": "stdout",
     "output_type": "stream",
     "text": [
      "epoch: 8, [batch: 26880 / 33600], examples_per_second: 3262.9430, train_label_loss: 0.5216, \n"
     ]
    },
    {
     "name": "stdout",
     "output_type": "stream",
     "text": [
      "epoch: 8, [batch: 30240 / 33600], examples_per_second: 3105.5740, train_label_loss: 0.6421, \n"
     ]
    },
    {
     "name": "stdout",
     "output_type": "stream",
     "text": [
      "=============================================================\n",
      "epoch: 8, source_val_acc_label: 0.7308, target_val_acc_label: 0.9822, source_val_label_loss: 0.7511, target_val_label_loss: 0.2212, \n",
      "=============================================================\n"
     ]
    },
    {
     "name": "stdout",
     "output_type": "stream",
     "text": [
      "epoch: 9, [batch: 1 / 33600], examples_per_second: 0.7990, train_label_loss: 0.4422, \n"
     ]
    },
    {
     "name": "stdout",
     "output_type": "stream",
     "text": [
      "epoch: 9, [batch: 3360 / 33600], examples_per_second: 3140.0536, train_label_loss: 0.0891, \n"
     ]
    },
    {
     "name": "stdout",
     "output_type": "stream",
     "text": [
      "epoch: 9, [batch: 6720 / 33600], examples_per_second: 3248.3380, train_label_loss: 0.4975, \n"
     ]
    },
    {
     "name": "stdout",
     "output_type": "stream",
     "text": [
      "epoch: 9, [batch: 10080 / 33600], examples_per_second: 3270.6280, train_label_loss: 0.5234, \n"
     ]
    },
    {
     "name": "stdout",
     "output_type": "stream",
     "text": [
      "epoch: 9, [batch: 13440 / 33600], examples_per_second: 3137.5656, train_label_loss: 0.2888, \n"
     ]
    },
    {
     "name": "stdout",
     "output_type": "stream",
     "text": [
      "epoch: 9, [batch: 16800 / 33600], examples_per_second: 3630.5847, train_label_loss: 0.4511, \n"
     ]
    },
    {
     "name": "stdout",
     "output_type": "stream",
     "text": [
      "epoch: 9, [batch: 20160 / 33600], examples_per_second: 3684.3630, train_label_loss: 0.1847, \n"
     ]
    },
    {
     "name": "stdout",
     "output_type": "stream",
     "text": [
      "epoch: 9, [batch: 23520 / 33600], examples_per_second: 3888.7104, train_label_loss: 0.2966, \n"
     ]
    },
    {
     "name": "stdout",
     "output_type": "stream",
     "text": [
      "epoch: 9, [batch: 26880 / 33600], examples_per_second: 4241.4956, train_label_loss: 0.8102, \n"
     ]
    },
    {
     "name": "stdout",
     "output_type": "stream",
     "text": [
      "epoch: 9, [batch: 30240 / 33600], examples_per_second: 3200.0678, train_label_loss: 0.7062, \n"
     ]
    },
    {
     "name": "stdout",
     "output_type": "stream",
     "text": [
      "=============================================================\n",
      "epoch: 9, source_val_acc_label: 0.7326, target_val_acc_label: 0.9809, source_val_label_loss: 0.7584, target_val_label_loss: 0.2582, \n",
      "=============================================================\n"
     ]
    },
    {
     "name": "stdout",
     "output_type": "stream",
     "text": [
      "epoch: 10, [batch: 1 / 33600], examples_per_second: 0.8550, train_label_loss: 0.4978, \n"
     ]
    },
    {
     "name": "stdout",
     "output_type": "stream",
     "text": [
      "epoch: 10, [batch: 3360 / 33600], examples_per_second: 3935.0150, train_label_loss: 0.3940, \n"
     ]
    },
    {
     "name": "stdout",
     "output_type": "stream",
     "text": [
      "epoch: 10, [batch: 6720 / 33600], examples_per_second: 4146.6608, train_label_loss: 0.4961, \n"
     ]
    },
    {
     "name": "stdout",
     "output_type": "stream",
     "text": [
      "epoch: 10, [batch: 10080 / 33600], examples_per_second: 3096.5437, train_label_loss: 0.3012, \n"
     ]
    },
    {
     "name": "stdout",
     "output_type": "stream",
     "text": [
      "epoch: 10, [batch: 13440 / 33600], examples_per_second: 3165.7718, train_label_loss: 0.3575, \n"
     ]
    },
    {
     "name": "stdout",
     "output_type": "stream",
     "text": [
      "epoch: 10, [batch: 16800 / 33600], examples_per_second: 3268.3395, train_label_loss: 0.6060, \n"
     ]
    },
    {
     "name": "stdout",
     "output_type": "stream",
     "text": [
      "epoch: 10, [batch: 20160 / 33600], examples_per_second: 2991.6282, train_label_loss: 0.4493, \n"
     ]
    },
    {
     "name": "stdout",
     "output_type": "stream",
     "text": [
      "epoch: 10, [batch: 23520 / 33600], examples_per_second: 3478.0766, train_label_loss: 0.5689, \n"
     ]
    },
    {
     "name": "stdout",
     "output_type": "stream",
     "text": [
      "epoch: 10, [batch: 26880 / 33600], examples_per_second: 3014.2652, train_label_loss: 0.1926, \n"
     ]
    },
    {
     "name": "stdout",
     "output_type": "stream",
     "text": [
      "epoch: 10, [batch: 30240 / 33600], examples_per_second: 3239.1927, train_label_loss: 0.5537, \n"
     ]
    },
    {
     "name": "stdout",
     "output_type": "stream",
     "text": [
      "=============================================================\n",
      "epoch: 10, source_val_acc_label: 0.7337, target_val_acc_label: 0.9808, source_val_label_loss: 0.7842, target_val_label_loss: 0.2758, \n",
      "=============================================================\n"
     ]
    },
    {
     "name": "stdout",
     "output_type": "stream",
     "text": [
      "epoch: 11, [batch: 1 / 33600], examples_per_second: 0.7695, train_label_loss: 0.3441, \n"
     ]
    },
    {
     "name": "stdout",
     "output_type": "stream",
     "text": [
      "epoch: 11, [batch: 3360 / 33600], examples_per_second: 3005.9001, train_label_loss: 0.5371, \n"
     ]
    },
    {
     "name": "stdout",
     "output_type": "stream",
     "text": [
      "epoch: 11, [batch: 6720 / 33600], examples_per_second: 3175.7961, train_label_loss: 0.2572, \n"
     ]
    },
    {
     "name": "stdout",
     "output_type": "stream",
     "text": [
      "epoch: 11, [batch: 10080 / 33600], examples_per_second: 3267.3655, train_label_loss: 0.3239, \n"
     ]
    },
    {
     "name": "stdout",
     "output_type": "stream",
     "text": [
      "epoch: 11, [batch: 13440 / 33600], examples_per_second: 2998.8672, train_label_loss: 0.5897, \n"
     ]
    },
    {
     "name": "stdout",
     "output_type": "stream",
     "text": [
      "epoch: 11, [batch: 16800 / 33600], examples_per_second: 3443.1287, train_label_loss: 0.2652, \n"
     ]
    },
    {
     "name": "stdout",
     "output_type": "stream",
     "text": [
      "epoch: 11, [batch: 20160 / 33600], examples_per_second: 2978.5988, train_label_loss: 0.2147, \n"
     ]
    },
    {
     "name": "stdout",
     "output_type": "stream",
     "text": [
      "epoch: 11, [batch: 23520 / 33600], examples_per_second: 3269.4447, train_label_loss: 0.2772, \n"
     ]
    },
    {
     "name": "stdout",
     "output_type": "stream",
     "text": [
      "epoch: 11, [batch: 26880 / 33600], examples_per_second: 3608.5837, train_label_loss: 0.3073, \n"
     ]
    },
    {
     "name": "stdout",
     "output_type": "stream",
     "text": [
      "epoch: 11, [batch: 30240 / 33600], examples_per_second: 3725.5813, train_label_loss: 0.2109, \n"
     ]
    },
    {
     "name": "stdout",
     "output_type": "stream",
     "text": [
      "=============================================================\n",
      "epoch: 11, source_val_acc_label: 0.7344, target_val_acc_label: 0.9826, source_val_label_loss: 0.8111, target_val_label_loss: 0.2653, \n",
      "=============================================================\n"
     ]
    },
    {
     "name": "stdout",
     "output_type": "stream",
     "text": [
      "Patience (3) exhausted\n"
     ]
    }
   ],
   "source": [
    "###################################\n",
    "# train\n",
    "###################################\n",
    "jig = PTN_Train_Eval_Test_Jig(model, p.BEST_MODEL_PATH, p.device)\n",
    "\n",
    "jig.train(\n",
    "    train_iterable=datasets.source.processed.train,\n",
    "    source_val_iterable=datasets.source.processed.val,\n",
    "    target_val_iterable=datasets.target.processed.val,\n",
    "    num_epochs=p.n_epoch,\n",
    "    num_logs_per_epoch=p.NUM_LOGS_PER_EPOCH,\n",
    "    patience=p.patience,\n",
    "    optimizer=optimizer,\n",
    "    criteria_for_best=p.criteria_for_best,\n",
    ")"
   ]
  },
  {
   "cell_type": "code",
   "execution_count": 23,
   "id": "31e8fabf",
   "metadata": {
    "execution": {
     "iopub.execute_input": "2022-03-22T18:14:41.501135Z",
     "iopub.status.busy": "2022-03-22T18:14:41.500491Z",
     "iopub.status.idle": "2022-03-22T18:14:41.534627Z",
     "shell.execute_reply": "2022-03-22T18:14:41.533927Z"
    },
    "papermill": {
     "duration": 0.097017,
     "end_time": "2022-03-22T18:14:41.534778",
     "exception": false,
     "start_time": "2022-03-22T18:14:41.437761",
     "status": "completed"
    },
    "tags": []
   },
   "outputs": [],
   "source": [
    "total_experiment_time_secs = time.time() - start_time_secs"
   ]
  },
  {
   "cell_type": "code",
   "execution_count": 24,
   "id": "87b9595b",
   "metadata": {
    "execution": {
     "iopub.execute_input": "2022-03-22T18:14:41.661248Z",
     "iopub.status.busy": "2022-03-22T18:14:41.660863Z",
     "iopub.status.idle": "2022-03-22T18:25:07.547437Z",
     "shell.execute_reply": "2022-03-22T18:25:07.546679Z"
    },
    "papermill": {
     "duration": 625.948725,
     "end_time": "2022-03-22T18:25:07.547680",
     "exception": false,
     "start_time": "2022-03-22T18:14:41.598955",
     "status": "completed"
    },
    "tags": []
   },
   "outputs": [],
   "source": [
    "###################################\n",
    "# Evaluate the model\n",
    "###################################\n",
    "source_test_label_accuracy, source_test_label_loss = jig.test(datasets.source.processed.test)\n",
    "target_test_label_accuracy, target_test_label_loss = jig.test(datasets.target.processed.test)\n",
    "\n",
    "source_val_label_accuracy, source_val_label_loss = jig.test(datasets.source.processed.val)\n",
    "target_val_label_accuracy, target_val_label_loss = jig.test(datasets.target.processed.val)\n",
    "\n",
    "history = jig.get_history()\n",
    "\n",
    "total_epochs_trained = len(history[\"epoch_indices\"])\n",
    "\n",
    "val_dl = Iterable_Aggregator((datasets.source.original.val,datasets.target.original.val))\n",
    "\n",
    "confusion = ptn_confusion_by_domain_over_dataloader(model, p.device, val_dl)\n",
    "per_domain_accuracy = per_domain_accuracy_from_confusion(confusion)\n",
    "\n",
    "# Add a key to per_domain_accuracy for if it was a source domain\n",
    "for domain, accuracy in per_domain_accuracy.items():\n",
    "    per_domain_accuracy[domain] = {\n",
    "        \"accuracy\": accuracy,\n",
    "        \"source?\": domain in p.domains_source\n",
    "    }\n",
    "\n",
    "# Do an independent accuracy assesment JUST TO BE SURE!\n",
    "# _source_test_label_accuracy = independent_accuracy_assesment(model, datasets.source.processed.test, p.device)\n",
    "# _target_test_label_accuracy = independent_accuracy_assesment(model, datasets.target.processed.test, p.device)\n",
    "# _source_val_label_accuracy = independent_accuracy_assesment(model, datasets.source.processed.val, p.device)\n",
    "# _target_val_label_accuracy = independent_accuracy_assesment(model, datasets.target.processed.val, p.device)\n",
    "\n",
    "# assert(_source_test_label_accuracy == source_test_label_accuracy)\n",
    "# assert(_target_test_label_accuracy == target_test_label_accuracy)\n",
    "# assert(_source_val_label_accuracy == source_val_label_accuracy)\n",
    "# assert(_target_val_label_accuracy == target_val_label_accuracy)\n",
    "\n",
    "experiment = {\n",
    "    \"experiment_name\": p.experiment_name,\n",
    "    \"parameters\": dict(p),\n",
    "    \"results\": {\n",
    "        \"source_test_label_accuracy\": source_test_label_accuracy,\n",
    "        \"source_test_label_loss\": source_test_label_loss,\n",
    "        \"target_test_label_accuracy\": target_test_label_accuracy,\n",
    "        \"target_test_label_loss\": target_test_label_loss,\n",
    "        \"source_val_label_accuracy\": source_val_label_accuracy,\n",
    "        \"source_val_label_loss\": source_val_label_loss,\n",
    "        \"target_val_label_accuracy\": target_val_label_accuracy,\n",
    "        \"target_val_label_loss\": target_val_label_loss,\n",
    "        \"total_epochs_trained\": total_epochs_trained,\n",
    "        \"total_experiment_time_secs\": total_experiment_time_secs,\n",
    "        \"confusion\": confusion,\n",
    "        \"per_domain_accuracy\": per_domain_accuracy,\n",
    "    },\n",
    "    \"history\": history,\n",
    "    \"dataset_metrics\": get_dataset_metrics(datasets, \"ptn\"),\n",
    "}"
   ]
  },
  {
   "cell_type": "code",
   "execution_count": 25,
   "id": "54a21829",
   "metadata": {
    "execution": {
     "iopub.execute_input": "2022-03-22T18:25:07.671796Z",
     "iopub.status.busy": "2022-03-22T18:25:07.671400Z",
     "iopub.status.idle": "2022-03-22T18:25:07.894462Z",
     "shell.execute_reply": "2022-03-22T18:25:07.895148Z"
    },
    "papermill": {
     "duration": 0.284656,
     "end_time": "2022-03-22T18:25:07.895373",
     "exception": false,
     "start_time": "2022-03-22T18:25:07.610717",
     "status": "completed"
    },
    "tags": []
   },
   "outputs": [
    {
     "data": {
      "image/png": "[encoded data removed]",
      "text/plain": [
       "<Figure size 1080x504 with 1 Axes>"
      ]
     },
     "metadata": {
      "needs_background": "light"
     },
     "output_type": "display_data"
    }
   ],
   "source": [
    "ax = get_loss_curve(experiment)\n",
    "plt.show()"
   ]
  },
  {
   "cell_type": "code",
   "execution_count": 26,
   "id": "fd8a0f60",
   "metadata": {
    "execution": {
     "iopub.execute_input": "2022-03-22T18:25:08.018841Z",
     "iopub.status.busy": "2022-03-22T18:25:08.018285Z",
     "iopub.status.idle": "2022-03-22T18:25:08.380751Z",
     "shell.execute_reply": "2022-03-22T18:25:08.381427Z"
    },
    "papermill": {
     "duration": 0.425213,
     "end_time": "2022-03-22T18:25:08.381653",
     "exception": false,
     "start_time": "2022-03-22T18:25:07.956440",
     "status": "completed"
    },
    "tags": []
   },
   "outputs": [
    {
     "data": {
      "text/plain": [
       "<AxesSubplot:title={'center':'Results'}>"
      ]
     },
     "execution_count": 26,
     "metadata": {},
     "output_type": "execute_result"
    },
    {
     "data": {
      "image/png": "[encoded data removed]",
      "text/plain": [
       "<Figure size 1080x504 with 1 Axes>"
      ]
     },
     "metadata": {
      "needs_background": "light"
     },
     "output_type": "display_data"
    }
   ],
   "source": [
    "get_results_table(experiment)"
   ]
  },
  {
   "cell_type": "code",
   "execution_count": 27,
   "id": "cf8dc689",
   "metadata": {
    "execution": {
     "iopub.execute_input": "2022-03-22T18:25:08.518321Z",
     "iopub.status.busy": "2022-03-22T18:25:08.517945Z",
     "iopub.status.idle": "2022-03-22T18:25:08.787412Z",
     "shell.execute_reply": "2022-03-22T18:25:08.786585Z"
    },
    "papermill": {
     "duration": 0.333442,
     "end_time": "2022-03-22T18:25:08.787601",
     "exception": false,
     "start_time": "2022-03-22T18:25:08.454159",
     "status": "completed"
    },
    "tags": []
   },
   "outputs": [
    {
     "data": {
      "text/plain": [
       "<AxesSubplot:title={'center':'Per Domain Validation Accuracy'}, xlabel='domain'>"
      ]
     },
     "execution_count": 27,
     "metadata": {},
     "output_type": "execute_result"
    },
    {
     "data": {
      "image/png": "[encoded data removed]",
      "text/plain": [
       "<Figure size 1080x504 with 1 Axes>"
      ]
     },
     "metadata": {
      "needs_background": "light"
     },
     "output_type": "display_data"
    }
   ],
   "source": [
    "get_domain_accuracies(experiment)"
   ]
  },
  {
   "cell_type": "code",
   "execution_count": 28,
   "id": "a74ae082",
   "metadata": {
    "execution": {
     "iopub.execute_input": "2022-03-22T18:25:08.919494Z",
     "iopub.status.busy": "2022-03-22T18:25:08.919117Z",
     "iopub.status.idle": "2022-03-22T18:25:08.945841Z",
     "shell.execute_reply": "2022-03-22T18:25:08.945037Z"
    },
    "papermill": {
     "duration": 0.092072,
     "end_time": "2022-03-22T18:25:08.945998",
     "exception": false,
     "start_time": "2022-03-22T18:25:08.853926",
     "status": "completed"
    },
    "tags": []
   },
   "outputs": [
    {
     "name": "stdout",
     "output_type": "stream",
     "text": [
      "Source Test Label Accuracy: 0.7373177083333333 Target Test Label Accuracy: 0.9833076707726763\n",
      "Source Val Label Accuracy: 0.7386002604166667 Target Val Label Accuracy: 0.9829805491990846\n"
     ]
    }
   ],
   "source": [
    "print(\"Source Test Label Accuracy:\", experiment[\"results\"][\"source_test_label_accuracy\"], \"Target Test Label Accuracy:\", experiment[\"results\"][\"target_test_label_accuracy\"])\n",
    "print(\"Source Val Label Accuracy:\", experiment[\"results\"][\"source_val_label_accuracy\"], \"Target Val Label Accuracy:\", experiment[\"results\"][\"target_val_label_accuracy\"])"
   ]
  },
  {
   "cell_type": "code",
   "execution_count": 29,
   "id": "dacca602",
   "metadata": {
    "execution": {
     "iopub.execute_input": "2022-03-22T18:25:09.079051Z",
     "iopub.status.busy": "2022-03-22T18:25:09.078673Z",
     "iopub.status.idle": "2022-03-22T18:25:09.105697Z",
     "shell.execute_reply": "2022-03-22T18:25:09.106364Z"
    },
    "papermill": {
     "duration": 0.092791,
     "end_time": "2022-03-22T18:25:09.106555",
     "exception": false,
     "start_time": "2022-03-22T18:25:09.013764",
     "status": "completed"
    },
    "tags": [
     "experiment_json"
    ]
   },
   "outputs": [
    {
     "data": {
      "text/plain": [
       "'{\"experiment_name\": \"tl_1v2:cores-oracle.run1\", \"parameters\": {\"experiment_name\": \"tl_1v2:cores-oracle.run1\", \"device\": \"cuda\", \"lr\": 0.0001, \"n_shot\": 3, \"n_query\": 2, \"train_k_factor\": 3, \"val_k_factor\": 2, \"test_k_factor\": 2, \"torch_default_dtype\": \"torch.float32\", \"n_epoch\": 50, \"patience\": 3, \"criteria_for_best\": \"target_accuracy\", \"x_net\": [{\"class\": \"nnReshape\", \"kargs\": {\"shape\": [-1, 1, 2, 256]}}, {\"class\": \"Conv2d\", \"kargs\": {\"in_channels\": 1, \"out_channels\": 256, \"kernel_size\": [1, 7], \"bias\": false, \"padding\": [0, 3]}}, {\"class\": \"ReLU\", \"kargs\": {\"inplace\": true}}, {\"class\": \"BatchNorm2d\", \"kargs\": {\"num_features\": 256}}, {\"class\": \"Conv2d\", \"kargs\": {\"in_channels\": 256, \"out_channels\": 80, \"kernel_size\": [2, 7], \"bias\": true, \"padding\": [0, 3]}}, {\"class\": \"ReLU\", \"kargs\": {\"inplace\": true}}, {\"class\": \"BatchNorm2d\", \"kargs\": {\"num_features\": 80}}, {\"class\": \"Flatten\", \"kargs\": {}}, {\"class\": \"Linear\", \"kargs\": {\"in_features\": 20480, \"out_features\": 256}}, {\"class\": \"ReLU\", \"kargs\": {\"inplace\": true}}, {\"class\": \"BatchNorm1d\", \"kargs\": {\"num_features\": 256}}, {\"class\": \"Linear\", \"kargs\": {\"in_features\": 256, \"out_features\": 256}}], \"NUM_LOGS_PER_EPOCH\": 10, \"BEST_MODEL_PATH\": \"./best_model.pth\", \"n_way\": 16, \"datasets\": [{\"labels\": [\"1-10.\", \"1-11.\", \"1-15.\", \"1-16.\", \"1-17.\", \"1-18.\", \"1-19.\", \"10-4.\", \"10-7.\", \"11-1.\", \"11-14.\", \"11-17.\", \"11-20.\", \"11-7.\", \"13-20.\", \"13-8.\", \"14-10.\", \"14-11.\", \"14-14.\", \"14-7.\", \"15-1.\", \"15-20.\", \"16-1.\", \"16-16.\", \"17-10.\", \"17-11.\", \"17-2.\", \"19-1.\", \"19-16.\", \"19-19.\", \"19-20.\", \"19-3.\", \"2-10.\", \"2-11.\", \"2-17.\", \"2-18.\", \"2-20.\", \"2-3.\", \"2-4.\", \"2-5.\", \"2-6.\", \"2-7.\", \"2-8.\", \"3-13.\", \"3-18.\", \"3-3.\", \"4-1.\", \"4-10.\", \"4-11.\", \"4-19.\", \"5-5.\", \"6-15.\", \"7-10.\", \"7-14.\", \"8-18.\", \"8-20.\", \"8-3.\", \"8-8.\"], \"domains\": [1, 2, 3, 4, 5], \"num_examples_per_domain_per_label\": -1, \"pickle_path\": \"/root/csc500-main/datasets/cores.stratified_ds.2022A.pkl\", \"source_or_target_dataset\": \"target\", \"x_transforms\": [\"unit_mag\"], \"episode_transforms\": [], \"domain_prefix\": \"CORES_\"}, {\"labels\": [\"3123D52\", \"3123D65\", \"3123D79\", \"3123D80\", \"3123D54\", \"3123D70\", \"3123D7B\", \"3123D89\", \"3123D58\", \"3123D76\", \"3123D7D\", \"3123EFE\", \"3123D64\", \"3123D78\", \"3123D7E\", \"3124E4A\"], \"domains\": [32, 38, 8, 44, 14, 50, 20, 26], \"num_examples_per_domain_per_label\": 10000, \"pickle_path\": \"/root/csc500-main/datasets/oracle.Run1_10kExamples_stratified_ds.2022A.pkl\", \"source_or_target_dataset\": \"source\", \"x_transforms\": [\"unit_mag\"], \"episode_transforms\": [], \"domain_prefix\": \"ORACLE.run1_\"}], \"dataset_seed\": 154325, \"seed\": 154325, \"x_shape\": [2, 256], \"domains_source\": [\"ORACLE.run1_32\", \"ORACLE.run1_38\", \"ORACLE.run1_8\", \"ORACLE.run1_44\", \"ORACLE.run1_14\", \"ORACLE.run1_50\", \"ORACLE.run1_20\", \"ORACLE.run1_26\"], \"domains_target\": [\"CORES_1\", \"CORES_2\", \"CORES_3\", \"CORES_4\", \"CORES_5\"]}, \"results\": {\"source_test_label_accuracy\": 0.7373177083333333, \"source_test_label_loss\": 0.744129478931427, \"target_test_label_accuracy\": 0.9833076707726763, \"target_test_label_loss\": 0.1827041059732437, \"source_val_label_accuracy\": 0.7386002604166667, \"source_val_label_loss\": 0.7435122728347778, \"target_val_label_accuracy\": 0.9829805491990846, \"target_val_label_loss\": 0.2303375005722046, \"total_epochs_trained\": 11, \"total_experiment_time_secs\": 10234.21120429039, \"confusion\": {\"ORACLE.run1_8\": {\"13\": {\"0\": 308, \"14\": 121, \"13\": 440, \"6\": 49, \"4\": 154, \"10\": 122, \"7\": 4, \"1\": 1, \"5\": 1}, \"9\": {\"9\": 1200}, \"15\": {\"15\": 891, \"8\": 46, \"12\": 247, \"2\": 11, \"3\": 5}, \"2\": {\"2\": 970, \"3\": 157, \"7\": 19, \"15\": 39, \"12\": 10, \"8\": 5}, \"3\": {\"3\": 1064, \"2\": 79, \"15\": 3, \"12\": 54}, \"8\": {\"8\": 1155, \"15\": 39, \"7\": 4, \"6\": 1, \"12\": 1}, \"5\": {\"5\": 1050, \"10\": 90, \"1\": 44, \"14\": 14, \"11\": 2}, \"14\": {\"14\": 700, \"10\": 188, \"4\": 176, \"13\": 78, \"1\": 44, \"6\": 5, \"11\": 3, \"0\": 3, \"5\": 3}, \"1\": {\"1\": 916, \"11\": 241, \"14\": 29, \"10\": 4, \"5\": 9, \"4\": 1}, \"0\": {\"6\": 82, \"0\": 737, \"13\": 258, \"7\": 76, \"10\": 4, \"4\": 42, \"14\": 1}, \"10\": {\"10\": 792, \"14\": 251, \"13\": 91, \"4\": 31, \"0\": 2, \"1\": 5, \"5\": 27, \"11\": 1}, \"6\": {\"6\": 757, \"7\": 225, \"4\": 118, \"0\": 66, \"13\": 23, \"8\": 7, \"14\": 4}, \"11\": {\"1\": 376, \"11\": 795, \"8\": 10, \"4\": 1, \"5\": 10, \"14\": 7, \"10\": 1}, \"7\": {\"6\": 271, \"7\": 868, \"0\": 47, \"15\": 2, \"13\": 1, \"8\": 4, \"4\": 7}, \"4\": {\"13\": 193, \"6\": 119, \"14\": 175, \"4\": 641, \"7\": 5, \"10\": 21, \"0\": 42, \"11\": 2, \"1\": 2}, \"12\": {\"8\": 12, \"12\": 672, \"3\": 148, \"15\": 357, \"2\": 11}}, \"ORACLE.run1_38\": {\"13\": {\"13\": 885, \"10\": 98, \"15\": 177, \"1\": 7, \"2\": 14, \"8\": 11, \"5\": 7, \"0\": 1}, \"12\": {\"12\": 1174, \"4\": 21, \"10\": 5}, \"2\": {\"2\": 1117, \"14\": 60, \"13\": 21, \"11\": 1, \"10\": 1}, \"9\": {\"9\": 854, \"5\": 20, \"6\": 304, \"3\": 19, \"7\": 3}, \"15\": {\"15\": 922, \"13\": 131, \"5\": 17, \"8\": 37, \"1\": 88, \"2\": 2, \"10\": 2, \"0\": 1}, \"5\": {\"5\": 542, \"0\": 70, \"8\": 340, \"7\": 91, \"13\": 6, \"9\": 28, \"15\": 52, \"6\": 45, \"1\": 10, \"10\": 5, \"3\": 11}, \"14\": {\"14\": 1102, \"13\": 2, \"2\": 57, \"11\": 34, \"10\": 5}, \"0\": {\"0\": 564, \"8\": 251, \"7\": 193, \"5\": 87, \"3\": 80, \"10\": 19, \"9\": 2, \"13\": 2, \"15\": 1, \"12\": 1}, \"3\": {\"3\": 1125, \"7\": 13, \"9\": 33, \"0\": 25, \"5\": 3, \"6\": 1}, \"1\": {\"1\": 1150, \"15\": 47, \"5\": 3}, \"11\": {\"11\": 1078, \"13\": 2, \"10\": 11, \"14\": 100, \"2\": 8, \"12\": 1}, \"7\": {\"8\": 43, \"7\": 987, \"0\": 113, \"5\": 55, \"3\": 1, \"4\": 1}, \"8\": {\"8\": 760, \"15\": 34, \"5\": 237, \"0\": 105, \"7\": 50, \"10\": 10, \"1\": 1, \"13\": 3}, \"4\": {\"4\": 1149, \"12\": 46, \"10\": 3, \"7\": 2}, \"10\": {\"10\": 949, \"7\": 9, \"8\": 62, \"15\": 7, \"13\": 114, \"2\": 5, \"12\": 12, \"14\": 13, \"5\": 7, \"0\": 18, \"4\": 1, \"11\": 3}, \"6\": {\"6\": 1043, \"9\": 151, \"5\": 6}}, \"ORACLE.run1_26\": {\"10\": {\"10\": 535, \"14\": 127, \"4\": 54, \"0\": 254, \"9\": 20, \"1\": 22, \"8\": 136, \"6\": 44, \"5\": 1, \"15\": 3, \"7\": 3, \"2\": 1}, \"12\": {\"12\": 1199, \"11\": 1}, \"1\": {\"1\": 743, \"0\": 34, \"14\": 239, \"4\": 138, \"7\": 11, \"10\": 29, \"8\": 6}, \"0\": {\"10\": 270, \"14\": 192, \"0\": 382, \"4\": 159, \"8\": 113, \"7\": 9, \"5\": 1, \"1\": 34, \"6\": 23, \"9\": 14, \"15\": 3}, \"15\": {\"13\": 45, \"10\": 7, \"8\": 92, \"15\": 495, \"9\": 368, \"14\": 2, \"5\": 122, \"6\": 21, \"7\": 14, \"2\": 23, \"0\": 8, \"4\": 3}, \"13\": {\"5\": 190, \"13\": 901, \"15\": 59, \"9\": 22, \"2\": 16, \"6\": 9, \"3\": 1, \"7\": 1, \"8\": 1}, \"8\": {\"1\": 4, \"8\": 489, \"4\": 86, \"7\": 112, \"10\": 147, \"0\": 106, \"6\": 28, \"9\": 104, \"15\": 75, \"14\": 20, \"2\": 14, \"5\": 13, \"13\": 1, \"3\": 1}, \"3\": {\"3\": 742, \"7\": 181, \"2\": 272, \"4\": 2, \"5\": 2, \"0\": 1}, \"11\": {\"11\": 1198, \"12\": 2}, \"4\": {\"14\": 207, \"0\": 155, \"4\": 504, \"7\": 86, \"8\": 93, \"1\": 99, \"10\": 55, \"9\": 1}, \"6\": {\"6\": 853, \"10\": 87, \"9\": 165, \"8\": 31, \"15\": 38, \"0\": 19, \"13\": 7}, \"7\": {\"3\": 177, \"4\": 115, \"7\": 658, \"2\": 124, \"14\": 6, \"8\": 82, \"1\": 9, \"15\": 10, \"9\": 4, \"0\": 10, \"5\": 4, \"10\": 1}, \"14\": {\"0\": 188, \"1\": 220, \"10\": 100, \"14\": 432, \"4\": 209, \"8\": 34, \"7\": 17}, \"2\": {\"2\": 485, \"3\": 360, \"5\": 109, \"7\": 127, \"4\": 7, \"0\": 1, \"8\": 34, \"15\": 52, \"9\": 19, \"14\": 1, \"13\": 5}, \"5\": {\"5\": 765, \"13\": 158, \"15\": 129, \"9\": 52, \"8\": 27, \"2\": 57, \"7\": 7, \"6\": 3, \"0\": 2}, \"9\": {\"9\": 512, \"5\": 28, \"6\": 152, \"15\": 341, \"10\": 25, \"2\": 6, \"0\": 12, \"8\": 93, \"7\": 10, \"13\": 20, \"4\": 1}}, \"ORACLE.run1_20\": {\"5\": {\"1\": 201, \"5\": 558, \"0\": 188, \"4\": 8, \"12\": 117, \"15\": 91, \"3\": 34, \"2\": 2, \"13\": 1}, \"15\": {\"0\": 69, \"15\": 776, \"5\": 86, \"9\": 6, \"1\": 205, \"2\": 4, \"12\": 18, \"13\": 32, \"3\": 4}, \"9\": {\"13\": 14, \"9\": 526, \"2\": 298, \"12\": 97, \"3\": 208, \"7\": 40, \"1\": 10, \"8\": 2, \"5\": 1, \"4\": 3, \"15\": 1}, \"7\": {\"7\": 938, \"13\": 3, \"2\": 133, \"8\": 68, \"6\": 6, \"3\": 17, \"4\": 6, \"9\": 27, \"10\": 1, \"12\": 1}, \"3\": {\"3\": 545, \"1\": 14, \"5\": 34, \"12\": 232, \"4\": 58, \"9\": 204, \"2\": 71, \"8\": 7, \"7\": 27, \"0\": 6, \"10\": 2}, \"8\": {\"8\": 946, \"7\": 84, \"6\": 8, \"14\": 19, \"4\": 125, \"10\": 16, \"3\": 1, \"2\": 1}, \"4\": {\"4\": 996, \"8\": 106, \"12\": 7, \"10\": 28, \"7\": 4, \"3\": 55, \"5\": 2, \"0\": 1, \"9\": 1}, \"6\": {\"6\": 1066, \"14\": 120, \"7\": 10, \"8\": 3, \"10\": 1}, \"2\": {\"13\": 43, \"9\": 311, \"7\": 131, \"12\": 47, \"1\": 13, \"2\": 596, \"3\": 51, \"5\": 6, \"8\": 1, \"15\": 1}, \"12\": {\"12\": 497, \"9\": 103, \"3\": 221, \"5\": 136, \"1\": 171, \"7\": 2, \"15\": 21, \"2\": 34, \"4\": 6, \"0\": 8, \"13\": 1}, \"0\": {\"0\": 737, \"5\": 273, \"15\": 120, \"3\": 15, \"1\": 25, \"12\": 14, \"7\": 2, \"8\": 3, \"2\": 2, \"4\": 4, \"13\": 5}, \"13\": {\"13\": 1116, \"15\": 18, \"9\": 5, \"12\": 3, \"2\": 53, \"5\": 1, \"1\": 1, \"0\": 1, \"3\": 2}, \"10\": {\"14\": 69, \"10\": 1095, \"3\": 1, \"4\": 17, \"8\": 18}, \"11\": {\"11\": 1200}, \"14\": {\"14\": 1013, \"10\": 64, \"8\": 12, \"6\": 108, \"7\": 2, \"4\": 1}, \"1\": {\"12\": 173, \"1\": 607, \"15\": 199, \"9\": 5, \"5\": 167, \"13\": 6, \"2\": 6, \"3\": 21, \"0\": 16}}, \"ORACLE.run1_50\": {\"1\": {\"1\": 789, \"15\": 210, \"4\": 99, \"6\": 82, \"5\": 14, \"14\": 2, \"2\": 2, \"13\": 1, \"11\": 1}, \"2\": {\"2\": 1127, \"0\": 73}, \"8\": {\"8\": 1169, \"10\": 21, \"3\": 10}, \"7\": {\"7\": 789, \"5\": 137, \"13\": 241, \"4\": 6, \"10\": 21, \"6\": 6}, \"14\": {\"14\": 1188, \"12\": 9, \"11\": 3}, \"6\": {\"6\": 887, \"1\": 80, \"5\": 47, \"15\": 20, \"4\": 86, \"13\": 72, \"7\": 5, \"0\": 3}, \"3\": {\"3\": 1176, \"8\": 24}, \"4\": {\"4\": 609, \"1\": 163, \"6\": 99, \"5\": 118, \"7\": 30, \"15\": 162, \"13\": 18, \"11\": 1}, \"12\": {\"12\": 1102, \"14\": 32, \"9\": 62, \"11\": 4}, \"15\": {\"15\": 908, \"4\": 72, \"1\": 182, \"11\": 19, \"6\": 19}, \"11\": {\"11\": 1069, \"15\": 26, \"9\": 92, \"14\": 8, \"12\": 3, \"1\": 2}, \"0\": {\"2\": 114, \"0\": 1046, \"10\": 40}, \"9\": {\"12\": 73, \"11\": 157, \"9\": 967, \"14\": 2, \"15\": 1}, \"10\": {\"10\": 1117, \"0\": 35, \"7\": 15, \"5\": 4, \"8\": 15, \"13\": 14}, \"5\": {\"7\": 233, \"6\": 69, \"5\": 497, \"4\": 148, \"13\": 189, \"1\": 52, \"10\": 11, \"0\": 1}, \"13\": {\"6\": 59, \"13\": 816, \"0\": 2, \"7\": 166, \"5\": 147, \"10\": 7, \"4\": 3}}, \"ORACLE.run1_32\": {\"2\": {\"2\": 1022, \"5\": 3, \"4\": 156, \"7\": 5, \"0\": 13, \"14\": 1}, \"6\": {\"6\": 1200}, \"5\": {\"8\": 84, \"7\": 143, \"5\": 470, \"13\": 270, \"4\": 119, \"3\": 35, \"0\": 40, \"2\": 9, \"14\": 23, \"11\": 7}, \"12\": {\"12\": 1200}, \"13\": {\"7\": 85, \"13\": 575, \"11\": 22, \"5\": 242, \"4\": 70, \"3\": 116, \"0\": 13, \"8\": 50, \"2\": 2, \"14\": 25}, \"9\": {\"9\": 1197, \"12\": 3}, \"11\": {\"11\": 1006, \"14\": 151, \"3\": 11, \"5\": 3, \"7\": 16, \"13\": 13}, \"1\": {\"1\": 1191, \"10\": 9}, \"3\": {\"3\": 1117, \"13\": 41, \"14\": 4, \"11\": 21, \"8\": 6, \"5\": 8, \"7\": 3}, \"7\": {\"7\": 563, \"4\": 135, \"5\": 179, \"14\": 145, \"13\": 90, \"2\": 30, \"11\": 29, \"0\": 23, \"8\": 6}, \"14\": {\"14\": 550, \"11\": 275, \"7\": 221, \"5\": 30, \"13\": 37, \"0\": 50, \"8\": 5, \"3\": 9, \"2\": 14, \"4\": 9}, \"8\": {\"8\": 956, \"4\": 6, \"13\": 76, \"5\": 69, \"0\": 87, \"3\": 3, \"14\": 1, \"7\": 2}, \"4\": {\"4\": 737, \"5\": 88, \"2\": 176, \"7\": 118, \"13\": 35, \"0\": 36, \"8\": 6, \"14\": 4}, \"0\": {\"0\": 908, \"8\": 83, \"7\": 36, \"5\": 41, \"2\": 35, \"14\": 18, \"4\": 63, \"13\": 16}, \"10\": {\"10\": 1196, \"1\": 4}, \"15\": {\"15\": 1190, \"3\": 4, \"8\": 6}}, \"ORACLE.run1_44\": {\"13\": {\"13\": 804, \"11\": 34, \"6\": 227, \"9\": 121, \"7\": 8, \"4\": 6}, \"4\": {\"4\": 863, \"14\": 325, \"15\": 9, \"13\": 3}, \"6\": {\"6\": 847, \"9\": 100, \"13\": 228, \"7\": 19, \"2\": 2, \"11\": 4}, \"0\": {\"0\": 752, \"5\": 80, \"8\": 325, \"15\": 43}, \"10\": {\"10\": 878, \"12\": 113, \"1\": 112, \"2\": 96, \"3\": 1}, \"7\": {\"7\": 807, \"6\": 26, \"9\": 216, \"2\": 145, \"3\": 2, \"1\": 1, \"10\": 2, \"13\": 1}, \"14\": {\"14\": 817, \"4\": 310, \"5\": 16, \"15\": 56, \"0\": 1}, \"15\": {\"15\": 972, \"0\": 77, \"14\": 85, \"5\": 41, \"8\": 18, \"4\": 7}, \"5\": {\"5\": 1047, \"0\": 80, \"8\": 6, \"14\": 35, \"15\": 32}, \"2\": {\"2\": 901, \"7\": 157, \"3\": 7, \"1\": 51, \"10\": 82, \"12\": 1, \"9\": 1}, \"9\": {\"13\": 110, \"9\": 720, \"7\": 262, \"6\": 101, \"2\": 7}, \"12\": {\"12\": 995, \"3\": 9, \"1\": 161, \"10\": 35}, \"8\": {\"8\": 746, \"0\": 408, \"15\": 33, \"5\": 13}, \"3\": {\"1\": 133, \"3\": 1047, \"2\": 7, \"12\": 12, \"7\": 1}, \"1\": {\"1\": 759, \"3\": 120, \"2\": 42, \"12\": 184, \"10\": 93, \"7\": 2}, \"11\": {\"11\": 1137, \"13\": 51, \"6\": 12}}, \"ORACLE.run1_14\": {\"1\": {\"1\": 1090, \"5\": 102, \"4\": 7, \"7\": 1}, \"15\": {\"15\": 1169, \"7\": 30, \"2\": 1}, \"10\": {\"10\": 1159, \"0\": 39, \"14\": 1, \"3\": 1}, \"2\": {\"2\": 595, \"5\": 132, \"13\": 64, \"4\": 86, \"6\": 72, \"3\": 56, \"14\": 174, \"15\": 20, \"1\": 1}, \"9\": {\"9\": 1196, \"11\": 2, \"12\": 2}, \"5\": {\"5\": 832, \"4\": 177, \"3\": 15, \"1\": 126, \"7\": 5, \"2\": 44, \"15\": 1}, \"7\": {\"7\": 1185, \"15\": 12, \"5\": 2, \"1\": 1}, \"13\": {\"14\": 177, \"6\": 494, \"13\": 407, \"2\": 108, \"10\": 1, \"5\": 9, \"3\": 1, \"4\": 3}, \"8\": {\"8\": 1200}, \"6\": {\"6\": 719, \"13\": 388, \"14\": 46, \"2\": 46, \"4\": 1}, \"3\": {\"3\": 1067, \"4\": 96, \"14\": 17, \"2\": 11, \"5\": 4, \"0\": 3, \"13\": 1, \"10\": 1}, \"12\": {\"12\": 1198, \"9\": 2}, \"0\": {\"0\": 1105, \"10\": 54, \"3\": 19, \"11\": 20, \"14\": 2}, \"4\": {\"4\": 892, \"2\": 53, \"3\": 92, \"5\": 143, \"1\": 14, \"13\": 4, \"14\": 1, \"6\": 1}, \"14\": {\"14\": 978, \"13\": 96, \"2\": 56, \"6\": 40, \"3\": 30}, \"11\": {\"11\": 1077, \"10\": 1, \"0\": 60, \"9\": 62}}, \"CORES_2\": {\"21\": {\"21\": 120}, \"4\": {\"4\": 130}, \"6\": {\"6\": 123, \"30\": 1}, \"10\": {\"10\": 112}, \"33\": {\"33\": 28}, \"56\": {\"56\": 122}, \"20\": {\"20\": 132}, \"24\": {\"24\": 96}, \"45\": {\"45\": 120, \"4\": 6, \"35\": 1, \"9\": 1}, \"32\": {\"32\": 28}, \"27\": {\"27\": 148}, \"53\": {\"53\": 136}, \"8\": {\"8\": 160}, \"54\": {\"54\": 108}, \"50\": {\"50\": 134}, \"44\": {\"44\": 96, \"35\": 4}, \"5\": {\"5\": 115, \"47\": 3, \"57\": 1, \"1\": 1}, \"38\": {\"38\": 20}, \"19\": {\"19\": 132}, \"1\": {\"1\": 108, \"57\": 3, \"48\": 1}, \"30\": {\"30\": 135, \"26\": 2, \"36\": 1, \"15\": 2, \"18\": 3, \"27\": 1}, \"15\": {\"15\": 144}, \"23\": {\"23\": 146}, \"35\": {\"35\": 32}, \"22\": {\"22\": 128}, \"40\": {\"40\": 136, \"44\": 1, \"9\": 3}, \"46\": {\"46\": 118, \"16\": 4, \"6\": 3, \"11\": 1}, \"3\": {\"3\": 89, \"21\": 3}, \"48\": {\"48\": 148}, \"52\": {\"52\": 124}, \"2\": {\"2\": 32}, \"26\": {\"26\": 24}, \"17\": {\"17\": 104}, \"55\": {\"55\": 144}, \"51\": {\"51\": 122}, \"42\": {\"42\": 36}, \"41\": {\"41\": 19, \"30\": 1}, \"31\": {\"31\": 28}, \"16\": {\"16\": 138}, \"36\": {\"36\": 116}, \"49\": {\"49\": 24}, \"0\": {\"0\": 48}, \"18\": {\"18\": 48}, \"25\": {\"25\": 146}, \"9\": {\"9\": 122}, \"47\": {\"47\": 128, \"5\": 4}, \"7\": {\"7\": 36}, \"37\": {\"37\": 36}, \"13\": {\"13\": 116}, \"14\": {\"31\": 2, \"14\": 16, \"56\": 2, \"1\": 1, \"55\": 1, \"0\": 2}, \"34\": {\"34\": 28}, \"57\": {\"57\": 139, \"1\": 1}, \"11\": {\"11\": 138}, \"39\": {\"39\": 28}, \"12\": {\"12\": 92}, \"28\": {\"28\": 28}, \"29\": {\"29\": 126, \"17\": 1, \"27\": 1}, \"43\": {\"43\": 140}}, \"CORES_5\": {\"12\": {\"12\": 96}, \"8\": {\"8\": 142}, \"29\": {\"29\": 132}, \"57\": {\"57\": 119, \"47\": 1, \"36\": 2, \"9\": 1, \"17\": 1, \"54\": 2}, \"38\": {\"38\": 32}, \"23\": {\"23\": 124}, \"56\": {\"56\": 138}, \"49\": {\"49\": 36}, \"4\": {\"4\": 100}, \"48\": {\"48\": 131, \"9\": 5}, \"21\": {\"21\": 142, \"50\": 2}, \"30\": {\"30\": 128}, \"1\": {\"1\": 148}, \"34\": {\"34\": 36}, \"35\": {\"35\": 36}, \"55\": {\"55\": 152}, \"5\": {\"5\": 120, \"19\": 2}, \"52\": {\"52\": 126}, \"6\": {\"6\": 124, \"8\": 4}, \"36\": {\"36\": 92}, \"41\": {\"41\": 28}, \"3\": {\"3\": 89, \"49\": 3, \"46\": 1, \"18\": 1, \"47\": 6}, \"28\": {\"28\": 32}, \"18\": {\"18\": 64}, \"25\": {\"25\": 136}, \"47\": {\"47\": 100}, \"13\": {\"13\": 160}, \"11\": {\"11\": 144}, \"53\": {\"53\": 144}, \"33\": {\"33\": 32}, \"46\": {\"46\": 141, \"17\": 1, \"3\": 4, \"47\": 2}, \"50\": {\"50\": 125, \"21\": 19, \"53\": 3, \"51\": 1}, \"10\": {\"10\": 68}, \"15\": {\"15\": 138}, \"44\": {\"44\": 133, \"5\": 2, \"19\": 4, \"40\": 1}, \"2\": {\"2\": 28}, \"7\": {\"7\": 32}, \"43\": {\"43\": 136, \"15\": 2}, \"32\": {\"32\": 31, \"27\": 1}, \"0\": {\"0\": 124}, \"39\": {\"39\": 20}, \"26\": {\"26\": 24}, \"27\": {\"27\": 112}, \"54\": {\"54\": 112}, \"17\": {\"17\": 116}, \"14\": {\"47\": 2, \"14\": 24, \"0\": 3, \"28\": 2, \"31\": 4, \"34\": 1, \"54\": 2, \"57\": 1, \"36\": 4, \"39\": 1}, \"16\": {\"16\": 148}, \"9\": {\"9\": 145, \"27\": 2, \"48\": 1}, \"19\": {\"19\": 152}, \"20\": {\"20\": 138}, \"37\": {\"37\": 24}, \"24\": {\"24\": 80}, \"40\": {\"40\": 118, \"5\": 2, \"34\": 1, \"19\": 1}, \"45\": {\"32\": 1, \"45\": 112, \"9\": 4, \"4\": 2, \"27\": 5}, \"22\": {\"22\": 28}, \"42\": {\"42\": 38, \"56\": 2}, \"51\": {\"51\": 118}, \"31\": {\"31\": 36}}, \"CORES_1\": {\"27\": {\"27\": 142}, \"2\": {\"2\": 36}, \"33\": {\"33\": 32}, \"45\": {\"45\": 154, \"42\": 2}, \"38\": {\"38\": 24}, \"4\": {\"4\": 132}, \"31\": {\"31\": 28}, \"55\": {\"55\": 140}, \"32\": {\"32\": 32}, \"57\": {\"57\": 139, \"44\": 1}, \"14\": {\"14\": 9, \"30\": 1, \"8\": 4, \"18\": 2, \"9\": 4, \"51\": 2, \"7\": 1, \"53\": 1}, \"16\": {\"16\": 140}, \"34\": {\"34\": 24}, \"56\": {\"56\": 111, \"1\": 1, \"19\": 7, \"57\": 6, \"44\": 1}, \"24\": {\"24\": 103, \"37\": 1, \"22\": 3, \"52\": 1}, \"30\": {\"30\": 110, \"9\": 2}, \"17\": {\"17\": 64}, \"13\": {\"13\": 138}, \"39\": {\"39\": 28}, \"50\": {\"50\": 146}, \"20\": {\"20\": 140}, \"41\": {\"41\": 24}, \"53\": {\"53\": 126}, \"48\": {\"48\": 142}, \"36\": {\"36\": 64}, \"8\": {\"8\": 140}, \"15\": {\"15\": 132}, \"40\": {\"40\": 156}, \"37\": {\"37\": 32}, \"21\": {\"21\": 115, \"22\": 4, \"52\": 1}, \"35\": {\"35\": 36}, \"49\": {\"49\": 32}, \"26\": {\"26\": 24}, \"28\": {\"28\": 28}, \"12\": {\"12\": 114, \"51\": 2}, \"5\": {\"5\": 145, \"6\": 4, \"50\": 2, \"8\": 1}, \"29\": {\"29\": 138, \"4\": 1, \"40\": 1}, \"47\": {\"47\": 140}, \"10\": {\"10\": 95, \"22\": 1}, \"18\": {\"18\": 69, \"40\": 1, \"8\": 1, \"20\": 1}, \"9\": {\"9\": 126}, \"3\": {\"3\": 138, \"13\": 2}, \"52\": {\"52\": 124, \"10\": 8}, \"25\": {\"25\": 136}, \"19\": {\"19\": 155, \"56\": 1}, \"11\": {\"11\": 132, \"23\": 2, \"21\": 2}, \"7\": {\"7\": 28}, \"23\": {\"23\": 136}, \"44\": {\"44\": 105, \"1\": 5, \"57\": 9, \"56\": 8, \"29\": 5}, \"42\": {\"42\": 39, \"45\": 1}, \"54\": {\"54\": 104}, \"1\": {\"1\": 98, \"57\": 1, \"56\": 1}, \"46\": {\"46\": 128}, \"6\": {\"6\": 96}, \"43\": {\"43\": 144}, \"51\": {\"51\": 142}, \"22\": {\"22\": 108, \"10\": 6, \"11\": 4, \"21\": 5, \"52\": 8, \"24\": 5}, \"0\": {\"0\": 128}}, \"CORES_4\": {\"32\": {\"32\": 24}, \"2\": {\"2\": 32, \"0\": 1, \"56\": 1, \"27\": 1, \"42\": 1}, \"41\": {\"41\": 36}, \"11\": {\"11\": 101, \"15\": 1}, \"57\": {\"57\": 99, \"35\": 1}, \"6\": {\"6\": 104, \"52\": 1, \"3\": 1, \"51\": 2, \"53\": 2, \"25\": 2}, \"23\": {\"23\": 136}, \"52\": {\"52\": 116}, \"38\": {\"38\": 40}, \"50\": {\"50\": 124, \"53\": 5, \"21\": 1, \"25\": 1, \"3\": 1}, \"55\": {\"55\": 152}, \"46\": {\"32\": 5, \"46\": 141, \"47\": 5, \"0\": 1, \"5\": 1, \"18\": 1}, \"37\": {\"37\": 24}, \"20\": {\"20\": 118}, \"49\": {\"49\": 20}, \"45\": {\"45\": 96}, \"54\": {\"54\": 108}, \"3\": {\"3\": 111, \"50\": 5, \"21\": 1, \"25\": 5, \"53\": 1, \"6\": 1}, \"13\": {\"13\": 152}, \"18\": {\"18\": 108}, \"21\": {\"21\": 126}, \"43\": {\"43\": 144}, \"47\": {\"47\": 118, \"46\": 1, \"5\": 1}, \"4\": {\"4\": 132}, \"12\": {\"12\": 92}, \"9\": {\"9\": 128}, \"7\": {\"7\": 24}, \"56\": {\"56\": 112}, \"28\": {\"28\": 32}, \"44\": {\"44\": 132}, \"24\": {\"24\": 56}, \"33\": {\"33\": 36}, \"35\": {\"35\": 40}, \"51\": {\"51\": 138}, \"39\": {\"39\": 20}, \"36\": {\"36\": 92}, \"19\": {\"19\": 140}, \"0\": {\"47\": 5, \"0\": 49, \"46\": 8, \"56\": 3, \"17\": 2, \"27\": 1, \"38\": 2, \"32\": 1, \"12\": 1, \"54\": 1, \"7\": 2, \"22\": 2, \"48\": 2, \"21\": 1}, \"15\": {\"15\": 135, \"11\": 1}, \"29\": {\"29\": 121, \"9\": 1, \"35\": 1, \"17\": 1}, \"30\": {\"30\": 44}, \"1\": {\"1\": 40}, \"22\": {\"22\": 128}, \"40\": {\"40\": 146}, \"8\": {\"8\": 128}, \"53\": {\"53\": 138}, \"34\": {\"34\": 24}, \"10\": {\"10\": 122}, \"31\": {\"31\": 28}, \"17\": {\"17\": 80}, \"16\": {\"16\": 96}, \"42\": {\"42\": 32}, \"27\": {\"27\": 142}, \"14\": {\"14\": 13, \"57\": 1, \"0\": 1, \"29\": 1}, \"25\": {\"25\": 122}, \"48\": {\"48\": 132}, \"26\": {\"26\": 24}, \"5\": {\"5\": 101, \"47\": 3, \"46\": 4}}, \"CORES_3\": {\"14\": {\"29\": 3, \"14\": 27, \"55\": 2, \"47\": 1, \"22\": 1, \"1\": 1, \"56\": 2, \"57\": 2, \"34\": 1}, \"18\": {\"18\": 84}, \"30\": {\"30\": 120}, \"16\": {\"16\": 155, \"11\": 1}, \"1\": {\"1\": 81, \"57\": 19}, \"20\": {\"20\": 132}, \"7\": {\"7\": 36}, \"52\": {\"52\": 129, \"25\": 1}, \"9\": {\"9\": 140}, \"23\": {\"23\": 144}, \"55\": {\"55\": 164}, \"29\": {\"29\": 126}, \"56\": {\"56\": 134}, \"3\": {\"3\": 124}, \"42\": {\"42\": 28}, \"6\": {\"6\": 77, \"30\": 6, \"8\": 1, \"38\": 1, \"15\": 1, \"36\": 1, \"18\": 1}, \"5\": {\"5\": 114, \"42\": 1, \"47\": 1}, \"27\": {\"27\": 144}, \"47\": {\"47\": 91, \"5\": 1}, \"39\": {\"39\": 16}, \"34\": {\"34\": 32}, \"4\": {\"4\": 126}, \"24\": {\"24\": 104}, \"46\": {\"46\": 114, \"20\": 1, \"16\": 1, \"11\": 2}, \"50\": {\"50\": 121, \"25\": 3, \"3\": 2}, \"38\": {\"38\": 28}, \"54\": {\"54\": 100}, \"35\": {\"35\": 28}, \"2\": {\"2\": 32}, \"41\": {\"41\": 28}, \"57\": {\"57\": 108, \"1\": 10}, \"25\": {\"25\": 148, \"52\": 2}, \"48\": {\"48\": 116}, \"33\": {\"33\": 28}, \"45\": {\"45\": 58, \"4\": 1, \"29\": 1}, \"13\": {\"13\": 126}, \"36\": {\"36\": 100}, \"43\": {\"43\": 132}, \"28\": {\"28\": 26, \"1\": 1, \"57\": 1}, \"0\": {\"0\": 124}, \"12\": {\"12\": 92}, \"31\": {\"31\": 28}, \"40\": {\"40\": 116}, \"44\": {\"44\": 88}, \"32\": {\"32\": 28}, \"26\": {\"26\": 24}, \"8\": {\"8\": 116}, \"10\": {\"10\": 64}, \"15\": {\"15\": 142}, \"21\": {\"21\": 128}, \"37\": {\"37\": 28}, \"17\": {\"17\": 108}, \"51\": {\"51\": 124}, \"53\": {\"53\": 144}, \"19\": {\"19\": 136}, \"49\": {\"49\": 20}, \"11\": {\"11\": 138}, \"22\": {\"22\": 129, \"55\": 1}}}, \"per_domain_accuracy\": {\"ORACLE.run1_8\": {\"accuracy\": 0.7108333333333333, \"source?\": true}, \"ORACLE.run1_38\": {\"accuracy\": 0.8021354166666667, \"source?\": true}, \"ORACLE.run1_26\": {\"accuracy\": 0.56734375, \"source?\": true}, \"ORACLE.run1_20\": {\"accuracy\": 0.688125, \"source?\": true}, \"ORACLE.run1_50\": {\"accuracy\": 0.7945833333333333, \"source?\": true}, \"ORACLE.run1_32\": {\"accuracy\": 0.7853125, \"source?\": true}, \"ORACLE.run1_44\": {\"accuracy\": 0.7339583333333334, \"source?\": true}, \"ORACLE.run1_14\": {\"accuracy\": 0.8265104166666667, \"source?\": true}, \"CORES_2\": {\"accuracy\": 0.9889914772727273, \"source?\": false}, \"CORES_5\": {\"accuracy\": 0.9803370786516854, \"source?\": false}, \"CORES_1\": {\"accuracy\": 0.9771634615384616, \"source?\": false}, \"CORES_4\": {\"accuracy\": 0.9822230538922155, \"source?\": false}, \"CORES_3\": {\"accuracy\": 0.9864766081871345, \"source?\": false}}}, \"history\": {\"epoch_indices\": [1, 2, 3, 4, 5, 6, 7, 8, 9, 10, 11], \"train_label_loss\": [1.0680949219520248, 0.8384694518911696, 0.741243776472374, 0.6539984997714471, 0.5821335416256139, 0.5255388996161388, 0.48013089450929936, 0.4415428046847228, 0.40870004896506934, 0.37757014237563236, 0.3498266328703972], \"source_val_label_loss\": [0.99774569272995, 0.8563377261161804, 0.8108125925064087, 0.7553268074989319, 0.7346622347831726, 0.7346220016479492, 0.7435122728347778, 0.7510638236999512, 0.7583587765693665, 0.784243106842041, 0.8111015558242798], \"target_val_label_loss\": [0.27706894278526306, 0.2505030930042267, 0.26442480087280273, 0.2545619606971741, 0.25387561321258545, 0.2231317013502121, 0.2303375005722046, 0.22123154997825623, 0.2581919729709625, 0.2757994532585144, 0.26532432436943054], \"source_val_acc_label\": [0.656015625, 0.67373046875, 0.70255859375, 0.7248111979166667, 0.73541015625, 0.7273893229166667, 0.7386002604166667, 0.7307942708333334, 0.7326432291666667, 0.7337109375, 0.7344270833333333], \"target_val_acc_label\": [0.9657108123569794, 0.9674270594965675, 0.9728618421052632, 0.9772954805491991, 0.9781178489702517, 0.9809425057208238, 0.9829805491990846, 0.9821581807780321, 0.980870995423341, 0.9807637299771167, 0.9825514874141876]}, \"dataset_metrics\": {\"source\": {\"train\": {\"n_unique_x\": 896000, \"n_unique_y\": 16, \"n_batch/episode\": 33600}, \"val\": {\"n_unique_x\": 192000, \"n_unique_y\": 16, \"n_batch/episode\": 4800}, \"test\": {\"n_unique_x\": 192000, \"n_unique_y\": 16, \"n_batch/episode\": 4800}}, \"target\": {\"train\": {\"n_unique_x\": 175127, \"n_unique_y\": 58, \"n_batch/episode\": 6303}, \"val\": {\"n_unique_x\": 37135, \"n_unique_y\": 58, \"n_batch/episode\": 874}, \"test\": {\"n_unique_x\": 37673, \"n_unique_y\": 58, \"n_batch/episode\": 893}}}}'"
      ]
     },
     "execution_count": 29,
     "metadata": {},
     "output_type": "execute_result"
    }
   ],
   "source": [
    "json.dumps(experiment)"
   ]
  }
 ],
 "metadata": {
  "celltoolbar": "Tags",
  "kernelspec": {
   "display_name": "Python 3 (ipykernel)",
   "language": "python",
   "name": "python3"
  },
  "language_info": {
   "codemirror_mode": {
    "name": "ipython",
    "version": 3
   },
   "file_extension": ".py",
   "mimetype": "text/x-python",
   "name": "python",
   "nbconvert_exporter": "python",
   "pygments_lexer": "ipython3",
   "version": "3.8.12"
  },
  "papermill": {
   "default_parameters": {},
   "duration": 10868.913442,
   "end_time": "2022-03-22T18:25:12.808304",
   "environment_variables": {},
   "exception": null,
   "input_path": "/root/csc500-main/csc500-notebooks/templates/tl_ptn_template.ipynb",
   "output_path": "trial.ipynb",
   "parameters": {
    "parameters": {
     "BEST_MODEL_PATH": "./best_model.pth",
     "NUM_LOGS_PER_EPOCH": 10,
     "criteria_for_best": "target_accuracy",
     "dataset_seed": 154325,
     "datasets": [
      {
       "domain_prefix": "CORES_",
       "domains": [
        1,
        2,
        3,
        4,
        5
       ],
       "episode_transforms": [],
       "labels": [
        "1-10.",
        "1-11.",
        "1-15.",
        "1-16.",
        "1-17.",
        "1-18.",
        "1-19.",
        "10-4.",
        "10-7.",
        "11-1.",
        "11-14.",
        "11-17.",
        "11-20.",
        "11-7.",
        "13-20.",
        "13-8.",
        "14-10.",
        "14-11.",
        "14-14.",
        "14-7.",
        "15-1.",
        "15-20.",
        "16-1.",
        "16-16.",
        "17-10.",
        "17-11.",
        "17-2.",
        "19-1.",
        "19-16.",
        "19-19.",
        "19-20.",
        "19-3.",
        "2-10.",
        "2-11.",
        "2-17.",
        "2-18.",
        "2-20.",
        "2-3.",
        "2-4.",
        "2-5.",
        "2-6.",
        "2-7.",
        "2-8.",
        "3-13.",
        "3-18.",
        "3-3.",
        "4-1.",
        "4-10.",
        "4-11.",
        "4-19.",
        "5-5.",
        "6-15.",
        "7-10.",
        "7-14.",
        "8-18.",
        "8-20.",
        "8-3.",
        "8-8."
       ],
       "num_examples_per_domain_per_label": -1,
       "pickle_path": "/root/csc500-main/datasets/cores.stratified_ds.2022A.pkl",
       "source_or_target_dataset": "target",
       "x_transforms": [
        "unit_mag"
       ]
      },
      {
       "domain_prefix": "ORACLE.run1_",
       "domains": [
        32,
        38,
        8,
        44,
        14,
        50,
        20,
        26
       ],
       "episode_transforms": [],
       "labels": [
        "3123D52",
        "3123D65",
        "3123D79",
        "3123D80",
        "3123D54",
        "3123D70",
        "3123D7B",
        "3123D89",
        "3123D58",
        "3123D76",
        "3123D7D",
        "3123EFE",
        "3123D64",
        "3123D78",
        "3123D7E",
        "3124E4A"
       ],
       "num_examples_per_domain_per_label": 10000,
       "pickle_path": "/root/csc500-main/datasets/oracle.Run1_10kExamples_stratified_ds.2022A.pkl",
       "source_or_target_dataset": "source",
       "x_transforms": [
        "unit_mag"
       ]
      }
     ],
     "device": "cuda",
     "experiment_name": "tl_1v2:cores-oracle.run1",
     "lr": 0.0001,
     "n_epoch": 50,
     "n_query": 2,
     "n_shot": 3,
     "n_way": 16,
     "patience": 3,
     "seed": 154325,
     "test_k_factor": 2,
     "torch_default_dtype": "torch.float32",
     "train_k_factor": 3,
     "val_k_factor": 2,
     "x_net": [
      {
       "class": "nnReshape",
       "kargs": {
        "shape": [
         -1,
         1,
         2,
         256
        ]
       }
      },
      {
       "class": "Conv2d",
       "kargs": {
        "bias": false,
        "in_channels": 1,
        "kernel_size": [
         1,
         7
        ],
        "out_channels": 256,
        "padding": [
         0,
         3
        ]
       }
      },
      {
       "class": "ReLU",
       "kargs": {
        "inplace": true
       }
      },
      {
       "class": "BatchNorm2d",
       "kargs": {
        "num_features": 256
       }
      },
      {
       "class": "Conv2d",
       "kargs": {
        "bias": true,
        "in_channels": 256,
        "kernel_size": [
         2,
         7
        ],
        "out_channels": 80,
        "padding": [
         0,
         3
        ]
       }
      },
      {
       "class": "ReLU",
       "kargs": {
        "inplace": true
       }
      },
      {
       "class": "BatchNorm2d",
       "kargs": {
        "num_features": 80
       }
      },
      {
       "class": "Flatten",
       "kargs": {}
      },
      {
       "class": "Linear",
       "kargs": {
        "in_features": 20480,
        "out_features": 256
       }
      },
      {
       "class": "ReLU",
       "kargs": {
        "inplace": true
       }
      },
      {
       "class": "BatchNorm1d",
       "kargs": {
        "num_features": 256
       }
      },
      {
       "class": "Linear",
       "kargs": {
        "in_features": 256,
        "out_features": 256
       }
      }
     ]
    }
   },
   "start_time": "2022-03-22T15:24:03.894862",
   "version": "2.3.4"
  }
 },
 "nbformat": 4,
 "nbformat_minor": 5
}