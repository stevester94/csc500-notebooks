{
 "cells": [
  {
   "cell_type": "markdown",
   "id": "9fea5f46",
   "metadata": {
    "papermill": {
     "duration": 0.028528,
     "end_time": "2022-03-22T20:47:38.083130",
     "exception": false,
     "start_time": "2022-03-22T20:47:38.054602",
     "status": "completed"
    },
    "tags": []
   },
   "source": [
    "# Transfer Learning Template"
   ]
  },
  {
   "cell_type": "code",
   "execution_count": 1,
   "id": "0902182a",
   "metadata": {
    "execution": {
     "iopub.execute_input": "2022-03-22T20:47:38.147829Z",
     "iopub.status.busy": "2022-03-22T20:47:38.140990Z",
     "iopub.status.idle": "2022-03-22T20:47:40.013136Z",
     "shell.execute_reply": "2022-03-22T20:47:40.013815Z"
    },
    "papermill": {
     "duration": 1.906128,
     "end_time": "2022-03-22T20:47:40.014141",
     "exception": false,
     "start_time": "2022-03-22T20:47:38.108013",
     "status": "completed"
    },
    "tags": []
   },
   "outputs": [],
   "source": [
    "%load_ext autoreload\n",
    "%autoreload 2\n",
    "%matplotlib inline\n",
    "\n",
    "    \n",
    "import os, json, sys, time, random\n",
    "import numpy as np\n",
    "import torch\n",
    "from torch.optim import Adam\n",
    "from  easydict import EasyDict\n",
    "import matplotlib.pyplot as plt\n",
    "\n",
    "from steves_models.steves_ptn import Steves_Prototypical_Network\n",
    "\n",
    "from steves_utils.lazy_iterable_wrapper import Lazy_Iterable_Wrapper\n",
    "from steves_utils.iterable_aggregator import Iterable_Aggregator\n",
    "from steves_utils.ptn_train_eval_test_jig import  PTN_Train_Eval_Test_Jig\n",
    "from steves_utils.torch_sequential_builder import build_sequential\n",
    "from steves_utils.torch_utils import get_dataset_metrics, ptn_confusion_by_domain_over_dataloader\n",
    "from steves_utils.utils_v2 import (per_domain_accuracy_from_confusion, get_datasets_base_path)\n",
    "from steves_utils.PTN.utils import independent_accuracy_assesment\n",
    "\n",
    "from torch.utils.data import DataLoader\n",
    "\n",
    "from steves_utils.stratified_dataset.episodic_accessor import Episodic_Accessor_Factory\n",
    "\n",
    "from steves_utils.ptn_do_report import (\n",
    "    get_loss_curve,\n",
    "    get_results_table,\n",
    "    get_parameters_table,\n",
    "    get_domain_accuracies,\n",
    ")\n",
    "\n",
    "from steves_utils.transforms import get_chained_transform"
   ]
  },
  {
   "cell_type": "markdown",
   "id": "41c840b4",
   "metadata": {
    "papermill": {
     "duration": 0.019613,
     "end_time": "2022-03-22T20:47:40.059136",
     "exception": false,
     "start_time": "2022-03-22T20:47:40.039523",
     "status": "completed"
    },
    "tags": []
   },
   "source": [
    "# Allowed Parameters\n",
    "These are allowed parameters, not defaults\n",
    "Each of these values need to be present in the injected parameters (the notebook will raise an exception if they are not present)\n",
    "\n",
    "Papermill uses the cell tag \"parameters\" to inject the real parameters below this cell.\n",
    "Enable tags to see what I mean"
   ]
  },
  {
   "cell_type": "code",
   "execution_count": 2,
   "id": "fd44eb83",
   "metadata": {
    "execution": {
     "iopub.execute_input": "2022-03-22T20:47:40.104523Z",
     "iopub.status.busy": "2022-03-22T20:47:40.104137Z",
     "iopub.status.idle": "2022-03-22T20:47:40.125920Z",
     "shell.execute_reply": "2022-03-22T20:47:40.125114Z"
    },
    "papermill": {
     "duration": 0.047326,
     "end_time": "2022-03-22T20:47:40.126079",
     "exception": false,
     "start_time": "2022-03-22T20:47:40.078753",
     "status": "completed"
    },
    "tags": []
   },
   "outputs": [],
   "source": [
    "required_parameters = {\n",
    "    \"experiment_name\",\n",
    "    \"lr\",\n",
    "    \"device\",\n",
    "    \"seed\",\n",
    "    \"dataset_seed\",\n",
    "    \"n_shot\",\n",
    "    \"n_query\",\n",
    "    \"n_way\",\n",
    "    \"train_k_factor\",\n",
    "    \"val_k_factor\",\n",
    "    \"test_k_factor\",\n",
    "    \"n_epoch\",\n",
    "    \"patience\",\n",
    "    \"criteria_for_best\",\n",
    "    \"x_net\",\n",
    "    \"datasets\",\n",
    "    \"torch_default_dtype\",\n",
    "    \"NUM_LOGS_PER_EPOCH\",\n",
    "    \"BEST_MODEL_PATH\",\n",
    "    \"x_shape\",\n",
    "}"
   ]
  },
  {
   "cell_type": "code",
   "execution_count": 3,
   "id": "fa3f0049",
   "metadata": {
    "execution": {
     "iopub.execute_input": "2022-03-22T20:47:40.185426Z",
     "iopub.status.busy": "2022-03-22T20:47:40.179625Z",
     "iopub.status.idle": "2022-03-22T20:47:40.205595Z",
     "shell.execute_reply": "2022-03-22T20:47:40.204886Z"
    },
    "papermill": {
     "duration": 0.053583,
     "end_time": "2022-03-22T20:47:40.205759",
     "exception": false,
     "start_time": "2022-03-22T20:47:40.152176",
     "status": "completed"
    },
    "tags": [
     "parameters"
    ]
   },
   "outputs": [],
   "source": [
    "from steves_utils.CORES.utils import (\n",
    "    ALL_NODES,\n",
    "    ALL_NODES_MINIMUM_1000_EXAMPLES,\n",
    "    ALL_DAYS\n",
    ")\n",
    "\n",
    "from steves_utils.ORACLE.utils_v2 import (\n",
    "    ALL_DISTANCES_FEET_NARROWED,\n",
    "    ALL_RUNS,\n",
    "    ALL_SERIAL_NUMBERS,\n",
    ")\n",
    "\n",
    "standalone_parameters = {}\n",
    "standalone_parameters[\"experiment_name\"] = \"STANDALONE PTN\"\n",
    "standalone_parameters[\"lr\"] = 0.001\n",
    "standalone_parameters[\"device\"] = \"cuda\"\n",
    "\n",
    "standalone_parameters[\"seed\"] = 1337\n",
    "standalone_parameters[\"dataset_seed\"] = 1337\n",
    "\n",
    "standalone_parameters[\"n_way\"] = 8\n",
    "standalone_parameters[\"n_shot\"] = 3\n",
    "standalone_parameters[\"n_query\"]  = 2\n",
    "standalone_parameters[\"train_k_factor\"] = 1\n",
    "standalone_parameters[\"val_k_factor\"] = 2\n",
    "standalone_parameters[\"test_k_factor\"] = 2\n",
    "\n",
    "\n",
    "standalone_parameters[\"n_epoch\"] = 50\n",
    "\n",
    "standalone_parameters[\"patience\"] = 10\n",
    "standalone_parameters[\"criteria_for_best\"] = \"source_loss\"\n",
    "\n",
    "standalone_parameters[\"datasets\"] = [\n",
    "    {\n",
    "        \"labels\": ALL_SERIAL_NUMBERS,\n",
    "        \"domains\": ALL_DISTANCES_FEET_NARROWED,\n",
    "        \"num_examples_per_domain_per_label\": 100,\n",
    "        \"pickle_path\": os.path.join(get_datasets_base_path(), \"oracle.Run1_framed_2000Examples_stratified_ds.2022A.pkl\"),\n",
    "        \"source_or_target_dataset\": \"source\",\n",
    "        \"x_transforms\": [\"unit_mag\", \"minus_two\"],\n",
    "        \"episode_transforms\": [],\n",
    "        \"domain_prefix\": \"ORACLE_\"\n",
    "    },\n",
    "    {\n",
    "        \"labels\": ALL_NODES,\n",
    "        \"domains\": ALL_DAYS,\n",
    "        \"num_examples_per_domain_per_label\": 100,\n",
    "        \"pickle_path\": os.path.join(get_datasets_base_path(), \"cores.stratified_ds.2022A.pkl\"),\n",
    "        \"source_or_target_dataset\": \"target\",\n",
    "        \"x_transforms\": [\"unit_power\", \"times_zero\"],\n",
    "        \"episode_transforms\": [],\n",
    "        \"domain_prefix\": \"CORES_\"\n",
    "    }   \n",
    "]\n",
    "\n",
    "standalone_parameters[\"torch_default_dtype\"] = \"torch.float32\" \n",
    "\n",
    "\n",
    "\n",
    "standalone_parameters[\"x_net\"] =     [\n",
    "    {\"class\": \"nnReshape\", \"kargs\": {\"shape\":[-1, 1, 2, 256]}},\n",
    "    {\"class\": \"Conv2d\", \"kargs\": { \"in_channels\":1, \"out_channels\":256, \"kernel_size\":(1,7), \"bias\":False, \"padding\":(0,3), },},\n",
    "    {\"class\": \"ReLU\", \"kargs\": {\"inplace\": True}},\n",
    "    {\"class\": \"BatchNorm2d\", \"kargs\": {\"num_features\":256}},\n",
    "\n",
    "    {\"class\": \"Conv2d\", \"kargs\": { \"in_channels\":256, \"out_channels\":80, \"kernel_size\":(2,7), \"bias\":True, \"padding\":(0,3), },},\n",
    "    {\"class\": \"ReLU\", \"kargs\": {\"inplace\": True}},\n",
    "    {\"class\": \"BatchNorm2d\", \"kargs\": {\"num_features\":80}},\n",
    "    {\"class\": \"Flatten\", \"kargs\": {}},\n",
    "\n",
    "    {\"class\": \"Linear\", \"kargs\": {\"in_features\": 80*256, \"out_features\": 256}}, # 80 units per IQ pair\n",
    "    {\"class\": \"ReLU\", \"kargs\": {\"inplace\": True}},\n",
    "    {\"class\": \"BatchNorm1d\", \"kargs\": {\"num_features\":256}},\n",
    "\n",
    "    {\"class\": \"Linear\", \"kargs\": {\"in_features\": 256, \"out_features\": 256}},\n",
    "]\n",
    "\n",
    "# Parameters relevant to results\n",
    "# These parameters will basically never need to change\n",
    "standalone_parameters[\"NUM_LOGS_PER_EPOCH\"] = 10\n",
    "standalone_parameters[\"BEST_MODEL_PATH\"] = \"./best_model.pth\"\n",
    "\n",
    "\n",
    "\n",
    "\n"
   ]
  },
  {
   "cell_type": "code",
   "execution_count": 4,
   "id": "458418d9",
   "metadata": {
    "execution": {
     "iopub.execute_input": "2022-03-22T20:47:40.272916Z",
     "iopub.status.busy": "2022-03-22T20:47:40.271944Z",
     "iopub.status.idle": "2022-03-22T20:47:40.291169Z",
     "shell.execute_reply": "2022-03-22T20:47:40.290353Z"
    },
    "papermill": {
     "duration": 0.053795,
     "end_time": "2022-03-22T20:47:40.291329",
     "exception": false,
     "start_time": "2022-03-22T20:47:40.237534",
     "status": "completed"
    },
    "tags": [
     "injected-parameters"
    ]
   },
   "outputs": [],
   "source": [
    "# Parameters\n",
    "parameters = {\n",
    "    \"experiment_name\": \"tl_1v2:cores-oracle.run1\",\n",
    "    \"device\": \"cuda\",\n",
    "    \"lr\": 0.0001,\n",
    "    \"n_shot\": 3,\n",
    "    \"n_query\": 2,\n",
    "    \"train_k_factor\": 3,\n",
    "    \"val_k_factor\": 2,\n",
    "    \"test_k_factor\": 2,\n",
    "    \"torch_default_dtype\": \"torch.float32\",\n",
    "    \"n_epoch\": 50,\n",
    "    \"patience\": 3,\n",
    "    \"criteria_for_best\": \"target_accuracy\",\n",
    "    \"x_net\": [\n",
    "        {\"class\": \"nnReshape\", \"kargs\": {\"shape\": [-1, 1, 2, 256]}},\n",
    "        {\n",
    "            \"class\": \"Conv2d\",\n",
    "            \"kargs\": {\n",
    "                \"in_channels\": 1,\n",
    "                \"out_channels\": 256,\n",
    "                \"kernel_size\": [1, 7],\n",
    "                \"bias\": False,\n",
    "                \"padding\": [0, 3],\n",
    "            },\n",
    "        },\n",
    "        {\"class\": \"ReLU\", \"kargs\": {\"inplace\": True}},\n",
    "        {\"class\": \"BatchNorm2d\", \"kargs\": {\"num_features\": 256}},\n",
    "        {\n",
    "            \"class\": \"Conv2d\",\n",
    "            \"kargs\": {\n",
    "                \"in_channels\": 256,\n",
    "                \"out_channels\": 80,\n",
    "                \"kernel_size\": [2, 7],\n",
    "                \"bias\": True,\n",
    "                \"padding\": [0, 3],\n",
    "            },\n",
    "        },\n",
    "        {\"class\": \"ReLU\", \"kargs\": {\"inplace\": True}},\n",
    "        {\"class\": \"BatchNorm2d\", \"kargs\": {\"num_features\": 80}},\n",
    "        {\"class\": \"Flatten\", \"kargs\": {}},\n",
    "        {\"class\": \"Linear\", \"kargs\": {\"in_features\": 20480, \"out_features\": 256}},\n",
    "        {\"class\": \"ReLU\", \"kargs\": {\"inplace\": True}},\n",
    "        {\"class\": \"BatchNorm1d\", \"kargs\": {\"num_features\": 256}},\n",
    "        {\"class\": \"Linear\", \"kargs\": {\"in_features\": 256, \"out_features\": 256}},\n",
    "    ],\n",
    "    \"NUM_LOGS_PER_EPOCH\": 10,\n",
    "    \"BEST_MODEL_PATH\": \"./best_model.pth\",\n",
    "    \"n_way\": 16,\n",
    "    \"datasets\": [\n",
    "        {\n",
    "            \"labels\": [\n",
    "                \"1-10.\",\n",
    "                \"1-11.\",\n",
    "                \"1-15.\",\n",
    "                \"1-16.\",\n",
    "                \"1-17.\",\n",
    "                \"1-18.\",\n",
    "                \"1-19.\",\n",
    "                \"10-4.\",\n",
    "                \"10-7.\",\n",
    "                \"11-1.\",\n",
    "                \"11-14.\",\n",
    "                \"11-17.\",\n",
    "                \"11-20.\",\n",
    "                \"11-7.\",\n",
    "                \"13-20.\",\n",
    "                \"13-8.\",\n",
    "                \"14-10.\",\n",
    "                \"14-11.\",\n",
    "                \"14-14.\",\n",
    "                \"14-7.\",\n",
    "                \"15-1.\",\n",
    "                \"15-20.\",\n",
    "                \"16-1.\",\n",
    "                \"16-16.\",\n",
    "                \"17-10.\",\n",
    "                \"17-11.\",\n",
    "                \"17-2.\",\n",
    "                \"19-1.\",\n",
    "                \"19-16.\",\n",
    "                \"19-19.\",\n",
    "                \"19-20.\",\n",
    "                \"19-3.\",\n",
    "                \"2-10.\",\n",
    "                \"2-11.\",\n",
    "                \"2-17.\",\n",
    "                \"2-18.\",\n",
    "                \"2-20.\",\n",
    "                \"2-3.\",\n",
    "                \"2-4.\",\n",
    "                \"2-5.\",\n",
    "                \"2-6.\",\n",
    "                \"2-7.\",\n",
    "                \"2-8.\",\n",
    "                \"3-13.\",\n",
    "                \"3-18.\",\n",
    "                \"3-3.\",\n",
    "                \"4-1.\",\n",
    "                \"4-10.\",\n",
    "                \"4-11.\",\n",
    "                \"4-19.\",\n",
    "                \"5-5.\",\n",
    "                \"6-15.\",\n",
    "                \"7-10.\",\n",
    "                \"7-14.\",\n",
    "                \"8-18.\",\n",
    "                \"8-20.\",\n",
    "                \"8-3.\",\n",
    "                \"8-8.\",\n",
    "            ],\n",
    "            \"domains\": [1, 2, 3, 4, 5],\n",
    "            \"num_examples_per_domain_per_label\": -1,\n",
    "            \"pickle_path\": \"/root/csc500-main/datasets/cores.stratified_ds.2022A.pkl\",\n",
    "            \"source_or_target_dataset\": \"source\",\n",
    "            \"x_transforms\": [\"unit_mag\"],\n",
    "            \"episode_transforms\": [],\n",
    "            \"domain_prefix\": \"CORES_\",\n",
    "        },\n",
    "        {\n",
    "            \"labels\": [\n",
    "                \"3123D52\",\n",
    "                \"3123D65\",\n",
    "                \"3123D79\",\n",
    "                \"3123D80\",\n",
    "                \"3123D54\",\n",
    "                \"3123D70\",\n",
    "                \"3123D7B\",\n",
    "                \"3123D89\",\n",
    "                \"3123D58\",\n",
    "                \"3123D76\",\n",
    "                \"3123D7D\",\n",
    "                \"3123EFE\",\n",
    "                \"3123D64\",\n",
    "                \"3123D78\",\n",
    "                \"3123D7E\",\n",
    "                \"3124E4A\",\n",
    "            ],\n",
    "            \"domains\": [32, 38, 8, 44, 14, 50, 20, 26],\n",
    "            \"num_examples_per_domain_per_label\": 10000,\n",
    "            \"pickle_path\": \"/root/csc500-main/datasets/oracle.Run1_10kExamples_stratified_ds.2022A.pkl\",\n",
    "            \"source_or_target_dataset\": \"target\",\n",
    "            \"x_transforms\": [\"unit_mag\"],\n",
    "            \"episode_transforms\": [],\n",
    "            \"domain_prefix\": \"ORACLE.run1_\",\n",
    "        },\n",
    "    ],\n",
    "    \"dataset_seed\": 7,\n",
    "    \"seed\": 7,\n",
    "}\n"
   ]
  },
  {
   "cell_type": "code",
   "execution_count": 5,
   "id": "8fa1cc33",
   "metadata": {
    "execution": {
     "iopub.execute_input": "2022-03-22T20:47:40.347612Z",
     "iopub.status.busy": "2022-03-22T20:47:40.347031Z",
     "iopub.status.idle": "2022-03-22T20:47:40.367984Z",
     "shell.execute_reply": "2022-03-22T20:47:40.367160Z"
    },
    "papermill": {
     "duration": 0.047756,
     "end_time": "2022-03-22T20:47:40.368136",
     "exception": false,
     "start_time": "2022-03-22T20:47:40.320380",
     "status": "completed"
    },
    "tags": []
   },
   "outputs": [],
   "source": [
    "# Set this to True if you want to run this template directly\n",
    "STANDALONE = False\n",
    "if STANDALONE:\n",
    "    print(\"parameters not injected, running with standalone_parameters\")\n",
    "    parameters = standalone_parameters\n",
    "\n",
    "if not 'parameters' in locals() and not 'parameters' in globals():\n",
    "    raise Exception(\"Parameter injection failed\")\n",
    "\n",
    "#Use an easy dict for all the parameters\n",
    "p = EasyDict(parameters)\n",
    "\n",
    "if \"x_shape\" not in p:\n",
    "    p.x_shape = [2,256] # Default to this if we dont supply x_shape\n",
    "\n",
    "\n",
    "supplied_keys = set(p.keys())\n",
    "\n",
    "if  supplied_keys != required_parameters:\n",
    "    print(\"Parameters are incorrect\")\n",
    "    if len(supplied_keys - required_parameters)>0: print(\"Shouldn't have:\", str(supplied_keys - required_parameters))\n",
    "    if len(required_parameters - supplied_keys)>0: print(\"Need to have:\", str(required_parameters - supplied_keys))\n",
    "    raise RuntimeError(\"Parameters are incorrect\")"
   ]
  },
  {
   "cell_type": "code",
   "execution_count": 6,
   "id": "3a028d58",
   "metadata": {
    "execution": {
     "iopub.execute_input": "2022-03-22T20:47:40.417570Z",
     "iopub.status.busy": "2022-03-22T20:47:40.417008Z",
     "iopub.status.idle": "2022-03-22T20:47:40.438262Z",
     "shell.execute_reply": "2022-03-22T20:47:40.437561Z"
    },
    "papermill": {
     "duration": 0.046179,
     "end_time": "2022-03-22T20:47:40.438413",
     "exception": false,
     "start_time": "2022-03-22T20:47:40.392234",
     "status": "completed"
    },
    "tags": []
   },
   "outputs": [],
   "source": [
    "###################################\n",
    "# Set the RNGs and make it all deterministic\n",
    "###################################\n",
    "np.random.seed(p.seed)\n",
    "random.seed(p.seed)\n",
    "torch.manual_seed(p.seed)\n",
    "\n",
    "torch.use_deterministic_algorithms(True) "
   ]
  },
  {
   "cell_type": "code",
   "execution_count": 7,
   "id": "b691acf6",
   "metadata": {
    "execution": {
     "iopub.execute_input": "2022-03-22T20:47:40.487792Z",
     "iopub.status.busy": "2022-03-22T20:47:40.487403Z",
     "iopub.status.idle": "2022-03-22T20:47:40.509348Z",
     "shell.execute_reply": "2022-03-22T20:47:40.508546Z"
    },
    "papermill": {
     "duration": 0.04557,
     "end_time": "2022-03-22T20:47:40.509499",
     "exception": false,
     "start_time": "2022-03-22T20:47:40.463929",
     "status": "completed"
    },
    "tags": []
   },
   "outputs": [],
   "source": [
    "###########################################\n",
    "# The stratified datasets honor this\n",
    "###########################################\n",
    "torch.set_default_dtype(eval(p.torch_default_dtype))"
   ]
  },
  {
   "cell_type": "code",
   "execution_count": 8,
   "id": "b5fba671",
   "metadata": {
    "execution": {
     "iopub.execute_input": "2022-03-22T20:47:40.559862Z",
     "iopub.status.busy": "2022-03-22T20:47:40.559039Z",
     "iopub.status.idle": "2022-03-22T20:47:40.614637Z",
     "shell.execute_reply": "2022-03-22T20:47:40.613940Z"
    },
    "papermill": {
     "duration": 0.079287,
     "end_time": "2022-03-22T20:47:40.614787",
     "exception": false,
     "start_time": "2022-03-22T20:47:40.535500",
     "status": "completed"
    },
    "tags": []
   },
   "outputs": [],
   "source": [
    "###################################\n",
    "# Build the network(s)\n",
    "# Note: It's critical to do this AFTER setting the RNG\n",
    "###################################\n",
    "x_net = build_sequential(p.x_net)"
   ]
  },
  {
   "cell_type": "code",
   "execution_count": 9,
   "id": "5d7e61cc",
   "metadata": {
    "execution": {
     "iopub.execute_input": "2022-03-22T20:47:40.664922Z",
     "iopub.status.busy": "2022-03-22T20:47:40.664368Z",
     "iopub.status.idle": "2022-03-22T20:47:40.686489Z",
     "shell.execute_reply": "2022-03-22T20:47:40.685689Z"
    },
    "papermill": {
     "duration": 0.04626,
     "end_time": "2022-03-22T20:47:40.686640",
     "exception": false,
     "start_time": "2022-03-22T20:47:40.640380",
     "status": "completed"
    },
    "tags": []
   },
   "outputs": [],
   "source": [
    "start_time_secs = time.time()"
   ]
  },
  {
   "cell_type": "code",
   "execution_count": 10,
   "id": "c6b67dfd",
   "metadata": {
    "execution": {
     "iopub.execute_input": "2022-03-22T20:47:40.735920Z",
     "iopub.status.busy": "2022-03-22T20:47:40.735547Z",
     "iopub.status.idle": "2022-03-22T20:47:40.753074Z",
     "shell.execute_reply": "2022-03-22T20:47:40.752271Z"
    },
    "papermill": {
     "duration": 0.041016,
     "end_time": "2022-03-22T20:47:40.753225",
     "exception": false,
     "start_time": "2022-03-22T20:47:40.712209",
     "status": "completed"
    },
    "tags": []
   },
   "outputs": [],
   "source": [
    "p.domains_source = []\n",
    "p.domains_target = []\n",
    "\n",
    "\n",
    "train_original_source = []\n",
    "val_original_source   = []\n",
    "test_original_source  = []\n",
    "\n",
    "train_original_target = []\n",
    "val_original_target   = []\n",
    "test_original_target  = []"
   ]
  },
  {
   "cell_type": "code",
   "execution_count": 11,
   "id": "e3d9c3d3",
   "metadata": {
    "execution": {
     "iopub.execute_input": "2022-03-22T20:47:40.804878Z",
     "iopub.status.busy": "2022-03-22T20:47:40.804277Z",
     "iopub.status.idle": "2022-03-22T20:47:40.825362Z",
     "shell.execute_reply": "2022-03-22T20:47:40.824562Z"
    },
    "papermill": {
     "duration": 0.045201,
     "end_time": "2022-03-22T20:47:40.825516",
     "exception": false,
     "start_time": "2022-03-22T20:47:40.780315",
     "status": "completed"
    },
    "tags": []
   },
   "outputs": [],
   "source": [
    "# global_x_transform_func = lambda x: normalize(x.to(torch.get_default_dtype()), \"unit_power\") # unit_power, unit_mag\n",
    "# global_x_transform_func = lambda x: normalize(x, \"unit_power\") # unit_power, unit_mag"
   ]
  },
  {
   "cell_type": "code",
   "execution_count": 12,
   "id": "acb78fd2",
   "metadata": {
    "execution": {
     "iopub.execute_input": "2022-03-22T20:47:40.885345Z",
     "iopub.status.busy": "2022-03-22T20:47:40.884443Z",
     "iopub.status.idle": "2022-03-22T20:47:40.903102Z",
     "shell.execute_reply": "2022-03-22T20:47:40.902299Z"
    },
    "papermill": {
     "duration": 0.051551,
     "end_time": "2022-03-22T20:47:40.903252",
     "exception": false,
     "start_time": "2022-03-22T20:47:40.851701",
     "status": "completed"
    },
    "tags": []
   },
   "outputs": [],
   "source": [
    "def add_dataset(\n",
    "    labels,\n",
    "    domains,\n",
    "    pickle_path,\n",
    "    x_transforms,\n",
    "    episode_transforms,\n",
    "    domain_prefix,\n",
    "    num_examples_per_domain_per_label,\n",
    "    source_or_target_dataset:str,\n",
    "    iterator_seed=p.seed,\n",
    "    dataset_seed=p.dataset_seed,\n",
    "    n_shot=p.n_shot,\n",
    "    n_way=p.n_way,\n",
    "    n_query=p.n_query,\n",
    "    train_val_test_k_factors=(p.train_k_factor,p.val_k_factor,p.test_k_factor),\n",
    "):\n",
    "   \n",
    "    if x_transforms == []: x_transform = None\n",
    "    else: x_transform = get_chained_transform(x_transforms)\n",
    "    \n",
    "    if episode_transforms == []: episode_transform = None\n",
    "    else: raise Exception(\"episode_transforms not implemented\")\n",
    "    \n",
    "    episode_transform = lambda tup, _prefix=domain_prefix: (_prefix + str(tup[0]), tup[1])\n",
    "\n",
    "\n",
    "    eaf = Episodic_Accessor_Factory(\n",
    "        labels=labels,\n",
    "        domains=domains,\n",
    "        num_examples_per_domain_per_label=num_examples_per_domain_per_label,\n",
    "        iterator_seed=iterator_seed,\n",
    "        dataset_seed=dataset_seed,\n",
    "        n_shot=n_shot,\n",
    "        n_way=n_way,\n",
    "        n_query=n_query,\n",
    "        train_val_test_k_factors=train_val_test_k_factors,\n",
    "        pickle_path=pickle_path,\n",
    "        x_transform_func=x_transform,\n",
    "    )\n",
    "\n",
    "    train, val, test = eaf.get_train(), eaf.get_val(), eaf.get_test()\n",
    "    train = Lazy_Iterable_Wrapper(train, episode_transform)\n",
    "    val = Lazy_Iterable_Wrapper(val, episode_transform)\n",
    "    test = Lazy_Iterable_Wrapper(test, episode_transform)\n",
    "\n",
    "    if source_or_target_dataset==\"source\":\n",
    "        train_original_source.append(train)\n",
    "        val_original_source.append(val)\n",
    "        test_original_source.append(test)\n",
    "\n",
    "        p.domains_source.extend(\n",
    "            [domain_prefix + str(u) for u in domains]\n",
    "        )\n",
    "    elif source_or_target_dataset==\"target\":\n",
    "        train_original_target.append(train)\n",
    "        val_original_target.append(val)\n",
    "        test_original_target.append(test)\n",
    "        p.domains_target.extend(\n",
    "            [domain_prefix + str(u) for u in domains]\n",
    "        )\n",
    "    else:\n",
    "        raise Exception(f\"invalid source_or_target_dataset: {source_or_target_dataset}\")\n",
    "    "
   ]
  },
  {
   "cell_type": "code",
   "execution_count": 13,
   "id": "fe266617",
   "metadata": {
    "execution": {
     "iopub.execute_input": "2022-03-22T20:47:40.963945Z",
     "iopub.status.busy": "2022-03-22T20:47:40.963120Z",
     "iopub.status.idle": "2022-03-22T20:49:51.110713Z",
     "shell.execute_reply": "2022-03-22T20:49:51.109976Z"
    },
    "papermill": {
     "duration": 130.179632,
     "end_time": "2022-03-22T20:49:51.110897",
     "exception": false,
     "start_time": "2022-03-22T20:47:40.931265",
     "status": "completed"
    },
    "tags": []
   },
   "outputs": [],
   "source": [
    "for ds in p.datasets:\n",
    "    add_dataset(**ds)"
   ]
  },
  {
   "cell_type": "code",
   "execution_count": 14,
   "id": "b90d65ac",
   "metadata": {
    "execution": {
     "iopub.execute_input": "2022-03-22T20:49:51.163638Z",
     "iopub.status.busy": "2022-03-22T20:49:51.163126Z",
     "iopub.status.idle": "2022-03-22T20:49:51.188421Z",
     "shell.execute_reply": "2022-03-22T20:49:51.187696Z"
    },
    "papermill": {
     "duration": 0.050813,
     "end_time": "2022-03-22T20:49:51.188591",
     "exception": false,
     "start_time": "2022-03-22T20:49:51.137778",
     "status": "completed"
    },
    "tags": []
   },
   "outputs": [],
   "source": [
    "# from steves_utils.CORES.utils import (\n",
    "#     ALL_NODES,\n",
    "#     ALL_NODES_MINIMUM_1000_EXAMPLES,\n",
    "#     ALL_DAYS\n",
    "# )\n",
    "\n",
    "# add_dataset(\n",
    "#     labels=ALL_NODES,\n",
    "#     domains = ALL_DAYS,\n",
    "#     num_examples_per_domain_per_label=100,\n",
    "#     pickle_path=os.path.join(get_datasets_base_path(), \"cores.stratified_ds.2022A.pkl\"),\n",
    "#     source_or_target_dataset=\"target\",\n",
    "#     x_transform_func=global_x_transform_func,\n",
    "#     domain_modifier=lambda u: f\"cores_{u}\"\n",
    "# )"
   ]
  },
  {
   "cell_type": "code",
   "execution_count": 15,
   "id": "76db484d",
   "metadata": {
    "execution": {
     "iopub.execute_input": "2022-03-22T20:49:51.243803Z",
     "iopub.status.busy": "2022-03-22T20:49:51.242973Z",
     "iopub.status.idle": "2022-03-22T20:49:51.262968Z",
     "shell.execute_reply": "2022-03-22T20:49:51.262212Z"
    },
    "papermill": {
     "duration": 0.046089,
     "end_time": "2022-03-22T20:49:51.263140",
     "exception": false,
     "start_time": "2022-03-22T20:49:51.217051",
     "status": "completed"
    },
    "tags": []
   },
   "outputs": [],
   "source": [
    "# from steves_utils.ORACLE.utils_v2 import (\n",
    "#     ALL_DISTANCES_FEET,\n",
    "#     ALL_RUNS,\n",
    "#     ALL_SERIAL_NUMBERS,\n",
    "# )\n",
    "\n",
    "\n",
    "# add_dataset(\n",
    "#     labels=ALL_SERIAL_NUMBERS,\n",
    "#     domains = list(set(ALL_DISTANCES_FEET) - {2,62}),\n",
    "#     num_examples_per_domain_per_label=100,\n",
    "#     pickle_path=os.path.join(get_datasets_base_path(), \"oracle.Run2_framed_2000Examples_stratified_ds.2022A.pkl\"),\n",
    "#     source_or_target_dataset=\"source\",\n",
    "#     x_transform_func=global_x_transform_func,\n",
    "#     domain_modifier=lambda u: f\"oracle1_{u}\"\n",
    "# )\n"
   ]
  },
  {
   "cell_type": "code",
   "execution_count": 16,
   "id": "97dea9d2",
   "metadata": {
    "execution": {
     "iopub.execute_input": "2022-03-22T20:49:51.320451Z",
     "iopub.status.busy": "2022-03-22T20:49:51.316269Z",
     "iopub.status.idle": "2022-03-22T20:49:51.337914Z",
     "shell.execute_reply": "2022-03-22T20:49:51.337196Z"
    },
    "papermill": {
     "duration": 0.047411,
     "end_time": "2022-03-22T20:49:51.338085",
     "exception": false,
     "start_time": "2022-03-22T20:49:51.290674",
     "status": "completed"
    },
    "tags": []
   },
   "outputs": [],
   "source": [
    "# from steves_utils.ORACLE.utils_v2 import (\n",
    "#     ALL_DISTANCES_FEET,\n",
    "#     ALL_RUNS,\n",
    "#     ALL_SERIAL_NUMBERS,\n",
    "# )\n",
    "\n",
    "\n",
    "# add_dataset(\n",
    "#     labels=ALL_SERIAL_NUMBERS,\n",
    "#     domains = list(set(ALL_DISTANCES_FEET) - {2,62,56}),\n",
    "#     num_examples_per_domain_per_label=100,\n",
    "#     pickle_path=os.path.join(get_datasets_base_path(), \"oracle.Run2_framed_2000Examples_stratified_ds.2022A.pkl\"),\n",
    "#     source_or_target_dataset=\"source\",\n",
    "#     x_transform_func=global_x_transform_func,\n",
    "#     domain_modifier=lambda u: f\"oracle2_{u}\"\n",
    "# )"
   ]
  },
  {
   "cell_type": "code",
   "execution_count": 17,
   "id": "6f289866",
   "metadata": {
    "execution": {
     "iopub.execute_input": "2022-03-22T20:49:51.399824Z",
     "iopub.status.busy": "2022-03-22T20:49:51.399418Z",
     "iopub.status.idle": "2022-03-22T20:49:51.421182Z",
     "shell.execute_reply": "2022-03-22T20:49:51.420466Z"
    },
    "papermill": {
     "duration": 0.051621,
     "end_time": "2022-03-22T20:49:51.421344",
     "exception": false,
     "start_time": "2022-03-22T20:49:51.369723",
     "status": "completed"
    },
    "tags": []
   },
   "outputs": [],
   "source": [
    "# add_dataset(\n",
    "#     labels=list(range(19)),\n",
    "#     domains = [0,1,2],\n",
    "#     num_examples_per_domain_per_label=100,\n",
    "#     pickle_path=os.path.join(get_datasets_base_path(), \"metehan.stratified_ds.2022A.pkl\"),\n",
    "#     source_or_target_dataset=\"target\",\n",
    "#     x_transform_func=global_x_transform_func,\n",
    "#     domain_modifier=lambda u: f\"met_{u}\"\n",
    "# )"
   ]
  },
  {
   "cell_type": "code",
   "execution_count": 18,
   "id": "86a863c3",
   "metadata": {
    "execution": {
     "iopub.execute_input": "2022-03-22T20:49:51.475047Z",
     "iopub.status.busy": "2022-03-22T20:49:51.474672Z",
     "iopub.status.idle": "2022-03-22T20:49:51.494596Z",
     "shell.execute_reply": "2022-03-22T20:49:51.493886Z"
    },
    "papermill": {
     "duration": 0.045898,
     "end_time": "2022-03-22T20:49:51.494750",
     "exception": false,
     "start_time": "2022-03-22T20:49:51.448852",
     "status": "completed"
    },
    "tags": []
   },
   "outputs": [],
   "source": [
    "# # from steves_utils.wisig.utils import (\n",
    "# #     ALL_NODES_MINIMUM_100_EXAMPLES,\n",
    "# #     ALL_NODES_MINIMUM_500_EXAMPLES,\n",
    "# #     ALL_NODES_MINIMUM_1000_EXAMPLES,\n",
    "# #     ALL_DAYS\n",
    "# # )\n",
    "\n",
    "# import steves_utils.wisig.utils as wisig\n",
    "\n",
    "\n",
    "# add_dataset(\n",
    "#     labels=wisig.ALL_NODES_MINIMUM_100_EXAMPLES,\n",
    "#     domains = wisig.ALL_DAYS,\n",
    "#     num_examples_per_domain_per_label=100,\n",
    "#     pickle_path=os.path.join(get_datasets_base_path(), \"wisig.node3-19.stratified_ds.2022A.pkl\"),\n",
    "#     source_or_target_dataset=\"target\",\n",
    "#     x_transform_func=global_x_transform_func,\n",
    "#     domain_modifier=lambda u: f\"wisig_{u}\"\n",
    "# )"
   ]
  },
  {
   "cell_type": "code",
   "execution_count": 19,
   "id": "fd5442bc",
   "metadata": {
    "execution": {
     "iopub.execute_input": "2022-03-22T20:49:51.553577Z",
     "iopub.status.busy": "2022-03-22T20:49:51.552990Z",
     "iopub.status.idle": "2022-03-22T20:49:51.579956Z",
     "shell.execute_reply": "2022-03-22T20:49:51.580604Z"
    },
    "papermill": {
     "duration": 0.059238,
     "end_time": "2022-03-22T20:49:51.580789",
     "exception": false,
     "start_time": "2022-03-22T20:49:51.521551",
     "status": "completed"
    },
    "tags": []
   },
   "outputs": [],
   "source": [
    "###################################\n",
    "# Build the dataset\n",
    "###################################\n",
    "train_original_source = Iterable_Aggregator(train_original_source, p.seed)\n",
    "val_original_source = Iterable_Aggregator(val_original_source, p.seed)\n",
    "test_original_source = Iterable_Aggregator(test_original_source, p.seed)\n",
    "\n",
    "\n",
    "train_original_target = Iterable_Aggregator(train_original_target, p.seed)\n",
    "val_original_target = Iterable_Aggregator(val_original_target, p.seed)\n",
    "test_original_target = Iterable_Aggregator(test_original_target, p.seed)\n",
    "\n",
    "# For CNN We only use X and Y. And we only train on the source.\n",
    "# Properly form the data using a transform lambda and Lazy_Iterable_Wrapper. Finally wrap them in a dataloader\n",
    "\n",
    "transform_lambda = lambda ex: ex[1] # Original is (<domain>, <episode>) so we strip down to episode only\n",
    "\n",
    "train_processed_source = Lazy_Iterable_Wrapper(train_original_source, transform_lambda)\n",
    "val_processed_source   = Lazy_Iterable_Wrapper(val_original_source, transform_lambda)\n",
    "test_processed_source  = Lazy_Iterable_Wrapper(test_original_source, transform_lambda)\n",
    "\n",
    "train_processed_target = Lazy_Iterable_Wrapper(train_original_target, transform_lambda)\n",
    "val_processed_target   = Lazy_Iterable_Wrapper(val_original_target, transform_lambda)\n",
    "test_processed_target  = Lazy_Iterable_Wrapper(test_original_target, transform_lambda)\n",
    "\n",
    "datasets = EasyDict({\n",
    "    \"source\": {\n",
    "        \"original\": {\"train\":train_original_source, \"val\":val_original_source, \"test\":test_original_source},\n",
    "        \"processed\": {\"train\":train_processed_source, \"val\":val_processed_source, \"test\":test_processed_source}\n",
    "    },\n",
    "    \"target\": {\n",
    "        \"original\": {\"train\":train_original_target, \"val\":val_original_target, \"test\":test_original_target},\n",
    "        \"processed\": {\"train\":train_processed_target, \"val\":val_processed_target, \"test\":test_processed_target}\n",
    "    },\n",
    "})"
   ]
  },
  {
   "cell_type": "code",
   "execution_count": 20,
   "id": "5b3c01fc",
   "metadata": {
    "execution": {
     "iopub.execute_input": "2022-03-22T20:49:51.636656Z",
     "iopub.status.busy": "2022-03-22T20:49:51.635835Z",
     "iopub.status.idle": "2022-03-22T20:50:24.421199Z",
     "shell.execute_reply": "2022-03-22T20:50:24.422021Z"
    },
    "papermill": {
     "duration": 32.815633,
     "end_time": "2022-03-22T20:50:24.422271",
     "exception": false,
     "start_time": "2022-03-22T20:49:51.606638",
     "status": "completed"
    },
    "tags": []
   },
   "outputs": [
    {
     "name": "stdout",
     "output_type": "stream",
     "text": [
      "{'CORES_5', 'CORES_4', 'CORES_2', 'CORES_3', 'CORES_1'}\n"
     ]
    },
    {
     "name": "stdout",
     "output_type": "stream",
     "text": [
      "{'ORACLE.run1_44', 'ORACLE.run1_8', 'ORACLE.run1_50', 'ORACLE.run1_32', 'ORACLE.run1_38', 'ORACLE.run1_14', 'ORACLE.run1_20', 'ORACLE.run1_26'}\n"
     ]
    },
    {
     "name": "stdout",
     "output_type": "stream",
     "text": [
      "tensor([[[ 0.0577, -0.0212,  0.2682,  ..., -0.4326, -1.5763, -0.2134],\n",
      "         [ 0.4027, -0.5839, -1.2833,  ..., -0.9347,  1.4002,  0.8214]],\n",
      "\n",
      "        [[ 0.0627, -0.0242, -0.8194,  ..., -1.1404,  1.1646,  1.8945],\n",
      "         [-0.3787, -0.0393,  0.7533,  ...,  0.7174,  0.6672, -0.5970]],\n",
      "\n",
      "        [[-0.1546, -0.3833,  0.6880,  ...,  1.0854,  0.6560, -1.8245],\n",
      "         [ 0.2057,  0.1984, -0.0770,  ...,  0.4761, -0.7510, -1.1489]],\n",
      "\n",
      "        ...,\n",
      "\n",
      "        [[-0.3369, -0.1395,  0.8608,  ...,  0.8976,  0.7976, -0.0579],\n",
      "         [-0.0053, -0.7397, -0.1500,  ..., -0.7028, -1.5820, -0.4817]],\n",
      "\n",
      "        [[ 0.3192,  0.4827, -0.6150,  ..., -0.0753,  0.4801,  0.3244],\n",
      "         [-0.2284,  0.5839,  0.6954,  ...,  1.1833,  1.6270,  0.1246]],\n",
      "\n",
      "        [[-0.1375, -0.1428,  0.7377,  ...,  0.5896,  1.3220,  1.5282],\n",
      "         [ 0.0502, -0.4336, -0.2776,  ...,  0.4257,  0.0185, -0.4019]]])\n"
     ]
    }
   ],
   "source": [
    "from steves_utils.transforms import get_average_magnitude, get_average_power\n",
    "\n",
    "print(set([u for u,_ in val_original_source]))\n",
    "print(set([u for u,_ in val_original_target]))\n",
    "\n",
    "s_x, s_y, q_x, q_y, _ = next(iter(train_processed_source))\n",
    "print(s_x)\n",
    "\n",
    "# for ds in [\n",
    "#     train_processed_source,\n",
    "#     val_processed_source,\n",
    "#     test_processed_source,\n",
    "#     train_processed_target,\n",
    "#     val_processed_target,\n",
    "#     test_processed_target\n",
    "# ]:\n",
    "#     for s_x, s_y, q_x, q_y, _ in ds:\n",
    "#         for X in (s_x, q_x):\n",
    "#             for x in X:\n",
    "#                 assert np.isclose(get_average_magnitude(x.numpy()), 1.0)\n",
    "#                 assert np.isclose(get_average_power(x.numpy()), 1.0)\n",
    "                "
   ]
  },
  {
   "cell_type": "code",
   "execution_count": 21,
   "id": "bbdacba1",
   "metadata": {
    "execution": {
     "iopub.execute_input": "2022-03-22T20:50:24.478886Z",
     "iopub.status.busy": "2022-03-22T20:50:24.478301Z",
     "iopub.status.idle": "2022-03-22T20:50:24.575697Z",
     "shell.execute_reply": "2022-03-22T20:50:24.576225Z"
    },
    "papermill": {
     "duration": 0.125235,
     "end_time": "2022-03-22T20:50:24.576407",
     "exception": false,
     "start_time": "2022-03-22T20:50:24.451172",
     "status": "completed"
    },
    "tags": []
   },
   "outputs": [
    {
     "name": "stdout",
     "output_type": "stream",
     "text": [
      "(2, 256)\n"
     ]
    }
   ],
   "source": [
    "###################################\n",
    "# Build the model\n",
    "###################################\n",
    "# easfsl only wants a tuple for the shape\n",
    "model = Steves_Prototypical_Network(x_net, device=p.device, x_shape=tuple(p.x_shape))\n",
    "optimizer = Adam(params=model.parameters(), lr=p.lr)"
   ]
  },
  {
   "cell_type": "code",
   "execution_count": 22,
   "id": "22b39ac5",
   "metadata": {
    "execution": {
     "iopub.execute_input": "2022-03-22T20:50:24.635013Z",
     "iopub.status.busy": "2022-03-22T20:50:24.634377Z",
     "iopub.status.idle": "2022-03-22T21:15:15.000029Z",
     "shell.execute_reply": "2022-03-22T21:15:14.999680Z"
    },
    "papermill": {
     "duration": 1490.393522,
     "end_time": "2022-03-22T21:15:15.000114",
     "exception": false,
     "start_time": "2022-03-22T20:50:24.606592",
     "status": "completed"
    },
    "tags": []
   },
   "outputs": [
    {
     "name": "stdout",
     "output_type": "stream",
     "text": [
      "epoch: 1, [batch: 1 / 6316], examples_per_second: 31.9305, train_label_loss: 2.5490, \n"
     ]
    },
    {
     "name": "stdout",
     "output_type": "stream",
     "text": [
      "epoch: 1, [batch: 632 / 6316], examples_per_second: 3810.3633, train_label_loss: 0.0117, \n"
     ]
    },
    {
     "name": "stdout",
     "output_type": "stream",
     "text": [
      "epoch: 1, [batch: 1264 / 6316], examples_per_second: 3883.6007, train_label_loss: 0.0073, \n"
     ]
    },
    {
     "name": "stdout",
     "output_type": "stream",
     "text": [
      "epoch: 1, [batch: 1895 / 6316], examples_per_second: 3817.3176, train_label_loss: 0.0011, \n"
     ]
    },
    {
     "name": "stdout",
     "output_type": "stream",
     "text": [
      "epoch: 1, [batch: 2527 / 6316], examples_per_second: 3863.1413, train_label_loss: 0.0645, \n"
     ]
    },
    {
     "name": "stdout",
     "output_type": "stream",
     "text": [
      "epoch: 1, [batch: 3158 / 6316], examples_per_second: 3884.5067, train_label_loss: 0.0004, \n"
     ]
    },
    {
     "name": "stdout",
     "output_type": "stream",
     "text": [
      "epoch: 1, [batch: 3790 / 6316], examples_per_second: 3911.9598, train_label_loss: 0.0000, \n"
     ]
    },
    {
     "name": "stdout",
     "output_type": "stream",
     "text": [
      "epoch: 1, [batch: 4421 / 6316], examples_per_second: 3830.1277, train_label_loss: 0.0005, \n"
     ]
    },
    {
     "name": "stdout",
     "output_type": "stream",
     "text": [
      "epoch: 1, [batch: 5053 / 6316], examples_per_second: 3829.0763, train_label_loss: 0.0093, \n"
     ]
    },
    {
     "name": "stdout",
     "output_type": "stream",
     "text": [
      "epoch: 1, [batch: 5684 / 6316], examples_per_second: 3838.7145, train_label_loss: 0.0006, \n"
     ]
    },
    {
     "name": "stdout",
     "output_type": "stream",
     "text": [
      "=============================================================\n",
      "epoch: 1, source_val_acc_label: 0.9986, target_val_acc_label: 0.1499, source_val_label_loss: 0.0075, target_val_label_loss: 2.6670, \n",
      "=============================================================\n"
     ]
    },
    {
     "name": "stdout",
     "output_type": "stream",
     "text": [
      "New best\n"
     ]
    },
    {
     "name": "stdout",
     "output_type": "stream",
     "text": [
      "epoch: 2, [batch: 1 / 6296], examples_per_second: 2.1560, train_label_loss: 0.0008, \n"
     ]
    },
    {
     "name": "stdout",
     "output_type": "stream",
     "text": [
      "epoch: 2, [batch: 630 / 6296], examples_per_second: 4159.3177, train_label_loss: 0.0001, \n"
     ]
    },
    {
     "name": "stdout",
     "output_type": "stream",
     "text": [
      "epoch: 2, [batch: 1260 / 6296], examples_per_second: 4259.1010, train_label_loss: 0.0000, \n"
     ]
    },
    {
     "name": "stdout",
     "output_type": "stream",
     "text": [
      "epoch: 2, [batch: 1889 / 6296], examples_per_second: 4737.2738, train_label_loss: 0.0000, \n"
     ]
    },
    {
     "name": "stdout",
     "output_type": "stream",
     "text": [
      "epoch: 2, [batch: 2519 / 6296], examples_per_second: 4851.8878, train_label_loss: 0.0011, \n"
     ]
    },
    {
     "name": "stdout",
     "output_type": "stream",
     "text": [
      "epoch: 2, [batch: 3148 / 6296], examples_per_second: 5102.5918, train_label_loss: 0.0000, \n"
     ]
    },
    {
     "name": "stdout",
     "output_type": "stream",
     "text": [
      "epoch: 2, [batch: 3778 / 6296], examples_per_second: 5003.0356, train_label_loss: 0.0000, \n"
     ]
    },
    {
     "name": "stdout",
     "output_type": "stream",
     "text": [
      "epoch: 2, [batch: 4407 / 6296], examples_per_second: 4983.0191, train_label_loss: 0.0000, \n"
     ]
    },
    {
     "name": "stdout",
     "output_type": "stream",
     "text": [
      "epoch: 2, [batch: 5037 / 6296], examples_per_second: 5055.9066, train_label_loss: 0.0000, \n"
     ]
    },
    {
     "name": "stdout",
     "output_type": "stream",
     "text": [
      "epoch: 2, [batch: 5666 / 6296], examples_per_second: 5187.5651, train_label_loss: 0.0003, \n"
     ]
    },
    {
     "name": "stdout",
     "output_type": "stream",
     "text": [
      "=============================================================\n",
      "epoch: 2, source_val_acc_label: 0.9991, target_val_acc_label: 0.1581, source_val_label_loss: 0.0089, target_val_label_loss: 3.3090, \n",
      "=============================================================\n"
     ]
    },
    {
     "name": "stdout",
     "output_type": "stream",
     "text": [
      "New best\n"
     ]
    },
    {
     "name": "stdout",
     "output_type": "stream",
     "text": [
      "epoch: 3, [batch: 1 / 6299], examples_per_second: 2.7167, train_label_loss: 0.0010, \n"
     ]
    },
    {
     "name": "stdout",
     "output_type": "stream",
     "text": [
      "epoch: 3, [batch: 630 / 6299], examples_per_second: 5321.8127, train_label_loss: 0.0001, \n"
     ]
    },
    {
     "name": "stdout",
     "output_type": "stream",
     "text": [
      "epoch: 3, [batch: 1260 / 6299], examples_per_second: 5487.9215, train_label_loss: 0.0000, \n"
     ]
    },
    {
     "name": "stdout",
     "output_type": "stream",
     "text": [
      "epoch: 3, [batch: 1890 / 6299], examples_per_second: 5341.8857, train_label_loss: 0.0000, \n"
     ]
    },
    {
     "name": "stdout",
     "output_type": "stream",
     "text": [
      "epoch: 3, [batch: 2520 / 6299], examples_per_second: 4978.5960, train_label_loss: 0.0000, \n"
     ]
    },
    {
     "name": "stdout",
     "output_type": "stream",
     "text": [
      "epoch: 3, [batch: 3150 / 6299], examples_per_second: 4606.0751, train_label_loss: 0.0000, \n"
     ]
    },
    {
     "name": "stdout",
     "output_type": "stream",
     "text": [
      "epoch: 3, [batch: 3779 / 6299], examples_per_second: 3884.7259, train_label_loss: 0.0000, \n"
     ]
    },
    {
     "name": "stdout",
     "output_type": "stream",
     "text": [
      "epoch: 3, [batch: 4409 / 6299], examples_per_second: 4016.9160, train_label_loss: 0.0000, \n"
     ]
    },
    {
     "name": "stdout",
     "output_type": "stream",
     "text": [
      "epoch: 3, [batch: 5039 / 6299], examples_per_second: 3960.8697, train_label_loss: 0.0000, \n"
     ]
    },
    {
     "name": "stdout",
     "output_type": "stream",
     "text": [
      "epoch: 3, [batch: 5669 / 6299], examples_per_second: 3881.6614, train_label_loss: 0.0223, \n"
     ]
    },
    {
     "name": "stdout",
     "output_type": "stream",
     "text": [
      "=============================================================\n",
      "epoch: 3, source_val_acc_label: 0.9991, target_val_acc_label: 0.1466, source_val_label_loss: 0.0100, target_val_label_loss: 3.4602, \n",
      "=============================================================\n"
     ]
    },
    {
     "name": "stdout",
     "output_type": "stream",
     "text": [
      "epoch: 4, [batch: 1 / 6316], examples_per_second: 1.9387, train_label_loss: 0.0000, \n"
     ]
    },
    {
     "name": "stdout",
     "output_type": "stream",
     "text": [
      "epoch: 4, [batch: 632 / 6316], examples_per_second: 4313.8507, train_label_loss: 0.0000, \n"
     ]
    },
    {
     "name": "stdout",
     "output_type": "stream",
     "text": [
      "epoch: 4, [batch: 1264 / 6316], examples_per_second: 4185.7696, train_label_loss: 0.0000, \n"
     ]
    },
    {
     "name": "stdout",
     "output_type": "stream",
     "text": [
      "epoch: 4, [batch: 1895 / 6316], examples_per_second: 3960.5525, train_label_loss: 0.0003, \n"
     ]
    },
    {
     "name": "stdout",
     "output_type": "stream",
     "text": [
      "epoch: 4, [batch: 2527 / 6316], examples_per_second: 3920.4609, train_label_loss: 0.0003, \n"
     ]
    },
    {
     "name": "stdout",
     "output_type": "stream",
     "text": [
      "epoch: 4, [batch: 3158 / 6316], examples_per_second: 4031.6664, train_label_loss: 0.0000, \n"
     ]
    },
    {
     "name": "stdout",
     "output_type": "stream",
     "text": [
      "epoch: 4, [batch: 3790 / 6316], examples_per_second: 3910.9756, train_label_loss: 0.0000, \n"
     ]
    },
    {
     "name": "stdout",
     "output_type": "stream",
     "text": [
      "epoch: 4, [batch: 4421 / 6316], examples_per_second: 3885.6960, train_label_loss: 0.0000, \n"
     ]
    },
    {
     "name": "stdout",
     "output_type": "stream",
     "text": [
      "epoch: 4, [batch: 5053 / 6316], examples_per_second: 3925.3644, train_label_loss: 0.0000, \n"
     ]
    },
    {
     "name": "stdout",
     "output_type": "stream",
     "text": [
      "epoch: 4, [batch: 5684 / 6316], examples_per_second: 3971.5299, train_label_loss: 0.0000, \n"
     ]
    },
    {
     "name": "stdout",
     "output_type": "stream",
     "text": [
      "=============================================================\n",
      "epoch: 4, source_val_acc_label: 0.9989, target_val_acc_label: 0.1809, source_val_label_loss: 0.0097, target_val_label_loss: 3.7352, \n",
      "=============================================================\n"
     ]
    },
    {
     "name": "stdout",
     "output_type": "stream",
     "text": [
      "New best\n"
     ]
    },
    {
     "name": "stdout",
     "output_type": "stream",
     "text": [
      "epoch: 5, [batch: 1 / 6313], examples_per_second: 2.0952, train_label_loss: 0.0025, \n"
     ]
    },
    {
     "name": "stdout",
     "output_type": "stream",
     "text": [
      "epoch: 5, [batch: 632 / 6313], examples_per_second: 3931.0160, train_label_loss: 0.0000, \n"
     ]
    },
    {
     "name": "stdout",
     "output_type": "stream",
     "text": [
      "epoch: 5, [batch: 1263 / 6313], examples_per_second: 4021.6102, train_label_loss: 0.0000, \n"
     ]
    },
    {
     "name": "stdout",
     "output_type": "stream",
     "text": [
      "epoch: 5, [batch: 1894 / 6313], examples_per_second: 3960.0674, train_label_loss: 0.0000, \n"
     ]
    },
    {
     "name": "stdout",
     "output_type": "stream",
     "text": [
      "epoch: 5, [batch: 2525 / 6313], examples_per_second: 3970.8475, train_label_loss: 0.0000, \n"
     ]
    },
    {
     "name": "stdout",
     "output_type": "stream",
     "text": [
      "epoch: 5, [batch: 3157 / 6313], examples_per_second: 4051.2401, train_label_loss: 0.0000, \n"
     ]
    },
    {
     "name": "stdout",
     "output_type": "stream",
     "text": [
      "epoch: 5, [batch: 3788 / 6313], examples_per_second: 4066.0930, train_label_loss: 0.0000, \n"
     ]
    },
    {
     "name": "stdout",
     "output_type": "stream",
     "text": [
      "epoch: 5, [batch: 4419 / 6313], examples_per_second: 3926.8696, train_label_loss: 0.0000, \n"
     ]
    },
    {
     "name": "stdout",
     "output_type": "stream",
     "text": [
      "epoch: 5, [batch: 5050 / 6313], examples_per_second: 3948.5174, train_label_loss: 0.0000, \n"
     ]
    },
    {
     "name": "stdout",
     "output_type": "stream",
     "text": [
      "epoch: 5, [batch: 5681 / 6313], examples_per_second: 3992.8101, train_label_loss: 0.0000, \n"
     ]
    },
    {
     "name": "stdout",
     "output_type": "stream",
     "text": [
      "=============================================================\n",
      "epoch: 5, source_val_acc_label: 0.9992, target_val_acc_label: 0.1761, source_val_label_loss: 0.0097, target_val_label_loss: 3.6266, \n",
      "=============================================================\n"
     ]
    },
    {
     "name": "stdout",
     "output_type": "stream",
     "text": [
      "epoch: 6, [batch: 1 / 6307], examples_per_second: 2.0742, train_label_loss: 0.0000, \n"
     ]
    },
    {
     "name": "stdout",
     "output_type": "stream",
     "text": [
      "epoch: 6, [batch: 631 / 6307], examples_per_second: 3922.1590, train_label_loss: 0.0000, \n"
     ]
    },
    {
     "name": "stdout",
     "output_type": "stream",
     "text": [
      "epoch: 6, [batch: 1262 / 6307], examples_per_second: 4000.2068, train_label_loss: 0.0000, \n"
     ]
    },
    {
     "name": "stdout",
     "output_type": "stream",
     "text": [
      "epoch: 6, [batch: 1892 / 6307], examples_per_second: 3830.6258, train_label_loss: 0.0000, \n"
     ]
    },
    {
     "name": "stdout",
     "output_type": "stream",
     "text": [
      "epoch: 6, [batch: 2523 / 6307], examples_per_second: 3771.6033, train_label_loss: 0.0000, \n"
     ]
    },
    {
     "name": "stdout",
     "output_type": "stream",
     "text": [
      "epoch: 6, [batch: 3154 / 6307], examples_per_second: 3779.6145, train_label_loss: 0.0000, \n"
     ]
    },
    {
     "name": "stdout",
     "output_type": "stream",
     "text": [
      "epoch: 6, [batch: 3784 / 6307], examples_per_second: 3922.3077, train_label_loss: 0.0000, \n"
     ]
    },
    {
     "name": "stdout",
     "output_type": "stream",
     "text": [
      "epoch: 6, [batch: 4415 / 6307], examples_per_second: 4291.8858, train_label_loss: 0.0000, \n"
     ]
    },
    {
     "name": "stdout",
     "output_type": "stream",
     "text": [
      "epoch: 6, [batch: 5045 / 6307], examples_per_second: 4572.1681, train_label_loss: 0.0000, \n"
     ]
    },
    {
     "name": "stdout",
     "output_type": "stream",
     "text": [
      "epoch: 6, [batch: 5676 / 6307], examples_per_second: 4694.7129, train_label_loss: 0.0032, \n"
     ]
    },
    {
     "name": "stdout",
     "output_type": "stream",
     "text": [
      "=============================================================\n",
      "epoch: 6, source_val_acc_label: 0.9994, target_val_acc_label: 0.1738, source_val_label_loss: 0.0063, target_val_label_loss: 3.6595, \n",
      "=============================================================\n"
     ]
    },
    {
     "name": "stdout",
     "output_type": "stream",
     "text": [
      "epoch: 7, [batch: 1 / 6303], examples_per_second: 1.9331, train_label_loss: 0.0001, \n"
     ]
    },
    {
     "name": "stdout",
     "output_type": "stream",
     "text": [
      "epoch: 7, [batch: 631 / 6303], examples_per_second: 3815.7314, train_label_loss: 0.0000, \n"
     ]
    },
    {
     "name": "stdout",
     "output_type": "stream",
     "text": [
      "epoch: 7, [batch: 1261 / 6303], examples_per_second: 3857.3418, train_label_loss: 0.0001, \n"
     ]
    },
    {
     "name": "stdout",
     "output_type": "stream",
     "text": [
      "epoch: 7, [batch: 1891 / 6303], examples_per_second: 3886.0566, train_label_loss: 0.0000, \n"
     ]
    },
    {
     "name": "stdout",
     "output_type": "stream",
     "text": [
      "epoch: 7, [batch: 2521 / 6303], examples_per_second: 4026.2561, train_label_loss: 0.0000, \n"
     ]
    },
    {
     "name": "stdout",
     "output_type": "stream",
     "text": [
      "epoch: 7, [batch: 3152 / 6303], examples_per_second: 4391.9163, train_label_loss: 0.0000, \n"
     ]
    },
    {
     "name": "stdout",
     "output_type": "stream",
     "text": [
      "epoch: 7, [batch: 3782 / 6303], examples_per_second: 4573.5095, train_label_loss: 0.0000, \n"
     ]
    },
    {
     "name": "stdout",
     "output_type": "stream",
     "text": [
      "epoch: 7, [batch: 4412 / 6303], examples_per_second: 3836.4276, train_label_loss: 0.0000, \n"
     ]
    },
    {
     "name": "stdout",
     "output_type": "stream",
     "text": [
      "epoch: 7, [batch: 5042 / 6303], examples_per_second: 3904.3826, train_label_loss: 0.0000, \n"
     ]
    },
    {
     "name": "stdout",
     "output_type": "stream",
     "text": [
      "epoch: 7, [batch: 5672 / 6303], examples_per_second: 3856.9565, train_label_loss: 0.0000, \n"
     ]
    },
    {
     "name": "stdout",
     "output_type": "stream",
     "text": [
      "=============================================================\n",
      "epoch: 7, source_val_acc_label: 0.9994, target_val_acc_label: 0.1573, source_val_label_loss: 0.0086, target_val_label_loss: 3.7000, \n",
      "=============================================================\n"
     ]
    },
    {
     "name": "stdout",
     "output_type": "stream",
     "text": [
      "epoch: 8, [batch: 1 / 6292], examples_per_second: 1.9169, train_label_loss: 0.0000, \n"
     ]
    },
    {
     "name": "stdout",
     "output_type": "stream",
     "text": [
      "epoch: 8, [batch: 630 / 6292], examples_per_second: 4167.0567, train_label_loss: 0.0000, \n"
     ]
    },
    {
     "name": "stdout",
     "output_type": "stream",
     "text": [
      "epoch: 8, [batch: 1259 / 6292], examples_per_second: 4399.6603, train_label_loss: 0.0000, \n"
     ]
    },
    {
     "name": "stdout",
     "output_type": "stream",
     "text": [
      "epoch: 8, [batch: 1888 / 6292], examples_per_second: 4693.6678, train_label_loss: 0.0000, \n"
     ]
    },
    {
     "name": "stdout",
     "output_type": "stream",
     "text": [
      "epoch: 8, [batch: 2517 / 6292], examples_per_second: 3923.0873, train_label_loss: 0.0000, \n"
     ]
    },
    {
     "name": "stdout",
     "output_type": "stream",
     "text": [
      "epoch: 8, [batch: 3146 / 6292], examples_per_second: 4035.0212, train_label_loss: 0.0000, \n"
     ]
    },
    {
     "name": "stdout",
     "output_type": "stream",
     "text": [
      "epoch: 8, [batch: 3775 / 6292], examples_per_second: 3960.2920, train_label_loss: 0.0000, \n"
     ]
    },
    {
     "name": "stdout",
     "output_type": "stream",
     "text": [
      "epoch: 8, [batch: 4404 / 6292], examples_per_second: 4010.0918, train_label_loss: 0.0000, \n"
     ]
    },
    {
     "name": "stdout",
     "output_type": "stream",
     "text": [
      "epoch: 8, [batch: 5033 / 6292], examples_per_second: 4005.8174, train_label_loss: 0.0000, \n"
     ]
    },
    {
     "name": "stdout",
     "output_type": "stream",
     "text": [
      "epoch: 8, [batch: 5662 / 6292], examples_per_second: 4043.1164, train_label_loss: 0.0000, \n"
     ]
    },
    {
     "name": "stdout",
     "output_type": "stream",
     "text": [
      "=============================================================\n",
      "epoch: 8, source_val_acc_label: 0.9994, target_val_acc_label: 0.1538, source_val_label_loss: 0.0103, target_val_label_loss: 4.3361, \n",
      "=============================================================\n"
     ]
    },
    {
     "name": "stdout",
     "output_type": "stream",
     "text": [
      "Patience (3) exhausted\n"
     ]
    }
   ],
   "source": [
    "###################################\n",
    "# train\n",
    "###################################\n",
    "jig = PTN_Train_Eval_Test_Jig(model, p.BEST_MODEL_PATH, p.device)\n",
    "\n",
    "jig.train(\n",
    "    train_iterable=datasets.source.processed.train,\n",
    "    source_val_iterable=datasets.source.processed.val,\n",
    "    target_val_iterable=datasets.target.processed.val,\n",
    "    num_epochs=p.n_epoch,\n",
    "    num_logs_per_epoch=p.NUM_LOGS_PER_EPOCH,\n",
    "    patience=p.patience,\n",
    "    optimizer=optimizer,\n",
    "    criteria_for_best=p.criteria_for_best,\n",
    ")"
   ]
  },
  {
   "cell_type": "code",
   "execution_count": 23,
   "id": "31e8fabf",
   "metadata": {
    "execution": {
     "iopub.execute_input": "2022-03-22T21:15:15.110881Z",
     "iopub.status.busy": "2022-03-22T21:15:15.110312Z",
     "iopub.status.idle": "2022-03-22T21:15:15.141889Z",
     "shell.execute_reply": "2022-03-22T21:15:15.141201Z"
    },
    "papermill": {
     "duration": 0.094811,
     "end_time": "2022-03-22T21:15:15.142066",
     "exception": false,
     "start_time": "2022-03-22T21:15:15.047255",
     "status": "completed"
    },
    "tags": []
   },
   "outputs": [],
   "source": [
    "total_experiment_time_secs = time.time() - start_time_secs"
   ]
  },
  {
   "cell_type": "code",
   "execution_count": 24,
   "id": "87b9595b",
   "metadata": {
    "execution": {
     "iopub.execute_input": "2022-03-22T21:15:15.250644Z",
     "iopub.status.busy": "2022-03-22T21:15:15.249772Z",
     "iopub.status.idle": "2022-03-22T21:23:26.032510Z",
     "shell.execute_reply": "2022-03-22T21:23:26.031712Z"
    },
    "papermill": {
     "duration": 490.838055,
     "end_time": "2022-03-22T21:23:26.032695",
     "exception": false,
     "start_time": "2022-03-22T21:15:15.194640",
     "status": "completed"
    },
    "tags": []
   },
   "outputs": [],
   "source": [
    "###################################\n",
    "# Evaluate the model\n",
    "###################################\n",
    "source_test_label_accuracy, source_test_label_loss = jig.test(datasets.source.processed.test)\n",
    "target_test_label_accuracy, target_test_label_loss = jig.test(datasets.target.processed.test)\n",
    "\n",
    "source_val_label_accuracy, source_val_label_loss = jig.test(datasets.source.processed.val)\n",
    "target_val_label_accuracy, target_val_label_loss = jig.test(datasets.target.processed.val)\n",
    "\n",
    "history = jig.get_history()\n",
    "\n",
    "total_epochs_trained = len(history[\"epoch_indices\"])\n",
    "\n",
    "val_dl = Iterable_Aggregator((datasets.source.original.val,datasets.target.original.val))\n",
    "\n",
    "confusion = ptn_confusion_by_domain_over_dataloader(model, p.device, val_dl)\n",
    "per_domain_accuracy = per_domain_accuracy_from_confusion(confusion)\n",
    "\n",
    "# Add a key to per_domain_accuracy for if it was a source domain\n",
    "for domain, accuracy in per_domain_accuracy.items():\n",
    "    per_domain_accuracy[domain] = {\n",
    "        \"accuracy\": accuracy,\n",
    "        \"source?\": domain in p.domains_source\n",
    "    }\n",
    "\n",
    "# Do an independent accuracy assesment JUST TO BE SURE!\n",
    "# _source_test_label_accuracy = independent_accuracy_assesment(model, datasets.source.processed.test, p.device)\n",
    "# _target_test_label_accuracy = independent_accuracy_assesment(model, datasets.target.processed.test, p.device)\n",
    "# _source_val_label_accuracy = independent_accuracy_assesment(model, datasets.source.processed.val, p.device)\n",
    "# _target_val_label_accuracy = independent_accuracy_assesment(model, datasets.target.processed.val, p.device)\n",
    "\n",
    "# assert(_source_test_label_accuracy == source_test_label_accuracy)\n",
    "# assert(_target_test_label_accuracy == target_test_label_accuracy)\n",
    "# assert(_source_val_label_accuracy == source_val_label_accuracy)\n",
    "# assert(_target_val_label_accuracy == target_val_label_accuracy)\n",
    "\n",
    "experiment = {\n",
    "    \"experiment_name\": p.experiment_name,\n",
    "    \"parameters\": dict(p),\n",
    "    \"results\": {\n",
    "        \"source_test_label_accuracy\": source_test_label_accuracy,\n",
    "        \"source_test_label_loss\": source_test_label_loss,\n",
    "        \"target_test_label_accuracy\": target_test_label_accuracy,\n",
    "        \"target_test_label_loss\": target_test_label_loss,\n",
    "        \"source_val_label_accuracy\": source_val_label_accuracy,\n",
    "        \"source_val_label_loss\": source_val_label_loss,\n",
    "        \"target_val_label_accuracy\": target_val_label_accuracy,\n",
    "        \"target_val_label_loss\": target_val_label_loss,\n",
    "        \"total_epochs_trained\": total_epochs_trained,\n",
    "        \"total_experiment_time_secs\": total_experiment_time_secs,\n",
    "        \"confusion\": confusion,\n",
    "        \"per_domain_accuracy\": per_domain_accuracy,\n",
    "    },\n",
    "    \"history\": history,\n",
    "    \"dataset_metrics\": get_dataset_metrics(datasets, \"ptn\"),\n",
    "}"
   ]
  },
  {
   "cell_type": "code",
   "execution_count": 25,
   "id": "54a21829",
   "metadata": {
    "execution": {
     "iopub.execute_input": "2022-03-22T21:23:26.142018Z",
     "iopub.status.busy": "2022-03-22T21:23:26.141634Z",
     "iopub.status.idle": "2022-03-22T21:23:26.353486Z",
     "shell.execute_reply": "2022-03-22T21:23:26.354184Z"
    },
    "papermill": {
     "duration": 0.2657,
     "end_time": "2022-03-22T21:23:26.354401",
     "exception": false,
     "start_time": "2022-03-22T21:23:26.088701",
     "status": "completed"
    },
    "tags": []
   },
   "outputs": [
    {
     "data": {
      "image/png": "[encoded data removed]",
      "text/plain": [
       "<Figure size 1080x504 with 1 Axes>"
      ]
     },
     "metadata": {
      "needs_background": "light"
     },
     "output_type": "display_data"
    }
   ],
   "source": [
    "ax = get_loss_curve(experiment)\n",
    "plt.show()"
   ]
  },
  {
   "cell_type": "code",
   "execution_count": 26,
   "id": "fd8a0f60",
   "metadata": {
    "execution": {
     "iopub.execute_input": "2022-03-22T21:23:26.462625Z",
     "iopub.status.busy": "2022-03-22T21:23:26.462243Z",
     "iopub.status.idle": "2022-03-22T21:23:26.776773Z",
     "shell.execute_reply": "2022-03-22T21:23:26.777455Z"
    },
    "papermill": {
     "duration": 0.368205,
     "end_time": "2022-03-22T21:23:26.777667",
     "exception": false,
     "start_time": "2022-03-22T21:23:26.409462",
     "status": "completed"
    },
    "tags": []
   },
   "outputs": [
    {
     "data": {
      "text/plain": [
       "<AxesSubplot:title={'center':'Results'}>"
      ]
     },
     "execution_count": 26,
     "metadata": {},
     "output_type": "execute_result"
    },
    {
     "data": {
      "image/png": "[encoded data removed]",
      "text/plain": [
       "<Figure size 1080x504 with 1 Axes>"
      ]
     },
     "metadata": {
      "needs_background": "light"
     },
     "output_type": "display_data"
    }
   ],
   "source": [
    "get_results_table(experiment)"
   ]
  },
  {
   "cell_type": "code",
   "execution_count": 27,
   "id": "cf8dc689",
   "metadata": {
    "execution": {
     "iopub.execute_input": "2022-03-22T21:23:26.892123Z",
     "iopub.status.busy": "2022-03-22T21:23:26.891742Z",
     "iopub.status.idle": "2022-03-22T21:23:27.150632Z",
     "shell.execute_reply": "2022-03-22T21:23:27.151330Z"
    },
    "papermill": {
     "duration": 0.315596,
     "end_time": "2022-03-22T21:23:27.151584",
     "exception": false,
     "start_time": "2022-03-22T21:23:26.835988",
     "status": "completed"
    },
    "tags": []
   },
   "outputs": [
    {
     "data": {
      "text/plain": [
       "<AxesSubplot:title={'center':'Per Domain Validation Accuracy'}, xlabel='domain'>"
      ]
     },
     "execution_count": 27,
     "metadata": {},
     "output_type": "execute_result"
    },
    {
     "data": {
      "image/png": "[encoded data removed]",
      "text/plain": [
       "<Figure size 1080x504 with 1 Axes>"
      ]
     },
     "metadata": {
      "needs_background": "light"
     },
     "output_type": "display_data"
    }
   ],
   "source": [
    "get_domain_accuracies(experiment)"
   ]
  },
  {
   "cell_type": "code",
   "execution_count": 28,
   "id": "a74ae082",
   "metadata": {
    "execution": {
     "iopub.execute_input": "2022-03-22T21:23:27.267650Z",
     "iopub.status.busy": "2022-03-22T21:23:27.267240Z",
     "iopub.status.idle": "2022-03-22T21:23:27.293927Z",
     "shell.execute_reply": "2022-03-22T21:23:27.293106Z"
    },
    "papermill": {
     "duration": 0.08494,
     "end_time": "2022-03-22T21:23:27.294096",
     "exception": false,
     "start_time": "2022-03-22T21:23:27.209156",
     "status": "completed"
    },
    "tags": []
   },
   "outputs": [
    {
     "name": "stdout",
     "output_type": "stream",
     "text": [
      "Source Test Label Accuracy: 0.9987288135593221 Target Test Label Accuracy: 0.1807421875\n",
      "Source Val Label Accuracy: 0.9988571428571429 Target Val Label Accuracy: 0.18094401041666666\n"
     ]
    }
   ],
   "source": [
    "print(\"Source Test Label Accuracy:\", experiment[\"results\"][\"source_test_label_accuracy\"], \"Target Test Label Accuracy:\", experiment[\"results\"][\"target_test_label_accuracy\"])\n",
    "print(\"Source Val Label Accuracy:\", experiment[\"results\"][\"source_val_label_accuracy\"], \"Target Val Label Accuracy:\", experiment[\"results\"][\"target_val_label_accuracy\"])"
   ]
  },
  {
   "cell_type": "code",
   "execution_count": 29,
   "id": "dacca602",
   "metadata": {
    "execution": {
     "iopub.execute_input": "2022-03-22T21:23:27.411250Z",
     "iopub.status.busy": "2022-03-22T21:23:27.410707Z",
     "iopub.status.idle": "2022-03-22T21:23:27.434566Z",
     "shell.execute_reply": "2022-03-22T21:23:27.435244Z"
    },
    "papermill": {
     "duration": 0.082346,
     "end_time": "2022-03-22T21:23:27.435449",
     "exception": false,
     "start_time": "2022-03-22T21:23:27.353103",
     "status": "completed"
    },
    "tags": [
     "experiment_json"
    ]
   },
   "outputs": [
    {
     "data": {
      "text/plain": [
       "'{\"experiment_name\": \"tl_1v2:cores-oracle.run1\", \"parameters\": {\"experiment_name\": \"tl_1v2:cores-oracle.run1\", \"device\": \"cuda\", \"lr\": 0.0001, \"n_shot\": 3, \"n_query\": 2, \"train_k_factor\": 3, \"val_k_factor\": 2, \"test_k_factor\": 2, \"torch_default_dtype\": \"torch.float32\", \"n_epoch\": 50, \"patience\": 3, \"criteria_for_best\": \"target_accuracy\", \"x_net\": [{\"class\": \"nnReshape\", \"kargs\": {\"shape\": [-1, 1, 2, 256]}}, {\"class\": \"Conv2d\", \"kargs\": {\"in_channels\": 1, \"out_channels\": 256, \"kernel_size\": [1, 7], \"bias\": false, \"padding\": [0, 3]}}, {\"class\": \"ReLU\", \"kargs\": {\"inplace\": true}}, {\"class\": \"BatchNorm2d\", \"kargs\": {\"num_features\": 256}}, {\"class\": \"Conv2d\", \"kargs\": {\"in_channels\": 256, \"out_channels\": 80, \"kernel_size\": [2, 7], \"bias\": true, \"padding\": [0, 3]}}, {\"class\": \"ReLU\", \"kargs\": {\"inplace\": true}}, {\"class\": \"BatchNorm2d\", \"kargs\": {\"num_features\": 80}}, {\"class\": \"Flatten\", \"kargs\": {}}, {\"class\": \"Linear\", \"kargs\": {\"in_features\": 20480, \"out_features\": 256}}, {\"class\": \"ReLU\", \"kargs\": {\"inplace\": true}}, {\"class\": \"BatchNorm1d\", \"kargs\": {\"num_features\": 256}}, {\"class\": \"Linear\", \"kargs\": {\"in_features\": 256, \"out_features\": 256}}], \"NUM_LOGS_PER_EPOCH\": 10, \"BEST_MODEL_PATH\": \"./best_model.pth\", \"n_way\": 16, \"datasets\": [{\"labels\": [\"1-10.\", \"1-11.\", \"1-15.\", \"1-16.\", \"1-17.\", \"1-18.\", \"1-19.\", \"10-4.\", \"10-7.\", \"11-1.\", \"11-14.\", \"11-17.\", \"11-20.\", \"11-7.\", \"13-20.\", \"13-8.\", \"14-10.\", \"14-11.\", \"14-14.\", \"14-7.\", \"15-1.\", \"15-20.\", \"16-1.\", \"16-16.\", \"17-10.\", \"17-11.\", \"17-2.\", \"19-1.\", \"19-16.\", \"19-19.\", \"19-20.\", \"19-3.\", \"2-10.\", \"2-11.\", \"2-17.\", \"2-18.\", \"2-20.\", \"2-3.\", \"2-4.\", \"2-5.\", \"2-6.\", \"2-7.\", \"2-8.\", \"3-13.\", \"3-18.\", \"3-3.\", \"4-1.\", \"4-10.\", \"4-11.\", \"4-19.\", \"5-5.\", \"6-15.\", \"7-10.\", \"7-14.\", \"8-18.\", \"8-20.\", \"8-3.\", \"8-8.\"], \"domains\": [1, 2, 3, 4, 5], \"num_examples_per_domain_per_label\": -1, \"pickle_path\": \"/root/csc500-main/datasets/cores.stratified_ds.2022A.pkl\", \"source_or_target_dataset\": \"source\", \"x_transforms\": [\"unit_mag\"], \"episode_transforms\": [], \"domain_prefix\": \"CORES_\"}, {\"labels\": [\"3123D52\", \"3123D65\", \"3123D79\", \"3123D80\", \"3123D54\", \"3123D70\", \"3123D7B\", \"3123D89\", \"3123D58\", \"3123D76\", \"3123D7D\", \"3123EFE\", \"3123D64\", \"3123D78\", \"3123D7E\", \"3124E4A\"], \"domains\": [32, 38, 8, 44, 14, 50, 20, 26], \"num_examples_per_domain_per_label\": 10000, \"pickle_path\": \"/root/csc500-main/datasets/oracle.Run1_10kExamples_stratified_ds.2022A.pkl\", \"source_or_target_dataset\": \"target\", \"x_transforms\": [\"unit_mag\"], \"episode_transforms\": [], \"domain_prefix\": \"ORACLE.run1_\"}], \"dataset_seed\": 7, \"seed\": 7, \"x_shape\": [2, 256], \"domains_source\": [\"CORES_1\", \"CORES_2\", \"CORES_3\", \"CORES_4\", \"CORES_5\"], \"domains_target\": [\"ORACLE.run1_32\", \"ORACLE.run1_38\", \"ORACLE.run1_8\", \"ORACLE.run1_44\", \"ORACLE.run1_14\", \"ORACLE.run1_50\", \"ORACLE.run1_20\", \"ORACLE.run1_26\"]}, \"results\": {\"source_test_label_accuracy\": 0.9987288135593221, \"source_test_label_loss\": 0.009825323708355427, \"target_test_label_accuracy\": 0.1807421875, \"target_test_label_loss\": 3.7260031700134277, \"source_val_label_accuracy\": 0.9988571428571429, \"source_val_label_loss\": 0.00968735571950674, \"target_val_label_accuracy\": 0.18094401041666666, \"target_val_label_loss\": 3.735187292098999, \"total_epochs_trained\": 8, \"total_experiment_time_secs\": 1654.455684185028, \"confusion\": {\"CORES_5\": {\"26\": {\"26\": 24}, \"7\": {\"7\": 32}, \"56\": {\"56\": 142}, \"36\": {\"36\": 92}, \"47\": {\"47\": 100}, \"2\": {\"2\": 28}, \"15\": {\"15\": 152}, \"14\": {\"14\": 43, \"29\": 1}, \"27\": {\"27\": 146}, \"40\": {\"40\": 124}, \"49\": {\"49\": 36}, \"45\": {\"45\": 124}, \"46\": {\"46\": 136}, \"11\": {\"11\": 129, \"15\": 1}, \"30\": {\"30\": 112}, \"0\": {\"0\": 123, \"31\": 1}, \"10\": {\"10\": 68}, \"1\": {\"1\": 148}, \"42\": {\"42\": 38, \"2\": 1, \"52\": 1}, \"54\": {\"54\": 112}, \"55\": {\"55\": 152}, \"23\": {\"23\": 124}, \"25\": {\"25\": 151, \"41\": 1}, \"28\": {\"28\": 32}, \"32\": {\"32\": 32}, \"9\": {\"9\": 140, \"27\": 1, \"48\": 1}, \"39\": {\"39\": 20}, \"3\": {\"3\": 100}, \"29\": {\"29\": 118}, \"17\": {\"17\": 116}, \"35\": {\"35\": 36}, \"44\": {\"44\": 152}, \"5\": {\"5\": 128}, \"33\": {\"33\": 32}, \"34\": {\"34\": 36}, \"13\": {\"13\": 138}, \"41\": {\"41\": 28}, \"6\": {\"6\": 128}, \"51\": {\"51\": 138}, \"50\": {\"50\": 144}, \"37\": {\"37\": 24}, \"19\": {\"19\": 144}, \"57\": {\"57\": 132}, \"21\": {\"21\": 144}, \"24\": {\"24\": 80}, \"8\": {\"8\": 130}, \"12\": {\"12\": 96}, \"48\": {\"48\": 132}, \"43\": {\"43\": 150}, \"53\": {\"53\": 148}, \"38\": {\"38\": 32}, \"16\": {\"16\": 142}, \"22\": {\"22\": 27, \"3\": 1}, \"4\": {\"4\": 100}, \"18\": {\"18\": 64}, \"20\": {\"20\": 144}, \"52\": {\"52\": 140}, \"31\": {\"31\": 36}}, \"CORES_1\": {\"41\": {\"41\": 24}, \"40\": {\"40\": 110}, \"45\": {\"45\": 138}, \"51\": {\"51\": 146, \"12\": 2}, \"5\": {\"5\": 154}, \"30\": {\"30\": 120}, \"42\": {\"42\": 40}, \"46\": {\"46\": 136}, \"48\": {\"48\": 134}, \"53\": {\"53\": 144}, \"47\": {\"47\": 152}, \"49\": {\"49\": 32}, \"36\": {\"36\": 64}, \"32\": {\"32\": 32}, \"34\": {\"34\": 24}, \"29\": {\"29\": 140}, \"35\": {\"35\": 36}, \"3\": {\"3\": 134}, \"16\": {\"16\": 139, \"36\": 1}, \"26\": {\"26\": 24}, \"57\": {\"57\": 144}, \"44\": {\"44\": 128}, \"0\": {\"0\": 152}, \"4\": {\"4\": 132}, \"31\": {\"31\": 28}, \"11\": {\"11\": 140}, \"6\": {\"6\": 96}, \"54\": {\"54\": 104}, \"17\": {\"17\": 64}, \"20\": {\"20\": 128}, \"13\": {\"13\": 150}, \"33\": {\"33\": 32}, \"24\": {\"24\": 107, \"22\": 1}, \"52\": {\"52\": 132}, \"2\": {\"2\": 36}, \"19\": {\"19\": 156}, \"39\": {\"39\": 28}, \"8\": {\"8\": 140}, \"21\": {\"21\": 124}, \"10\": {\"10\": 96}, \"37\": {\"37\": 32}, \"25\": {\"25\": 144}, \"27\": {\"27\": 130}, \"23\": {\"23\": 136}, \"1\": {\"1\": 100}, \"50\": {\"50\": 152}, \"12\": {\"12\": 116}, \"18\": {\"18\": 72}, \"38\": {\"38\": 24}, \"14\": {\"14\": 24}, \"56\": {\"56\": 142}, \"55\": {\"55\": 160}, \"9\": {\"9\": 138}, \"15\": {\"15\": 146}, \"28\": {\"28\": 28}, \"7\": {\"7\": 28}, \"43\": {\"43\": 136}, \"22\": {\"22\": 135, \"24\": 1}}, \"CORES_3\": {\"1\": {\"1\": 100}, \"9\": {\"9\": 124}, \"22\": {\"22\": 136}, \"43\": {\"43\": 136}, \"49\": {\"49\": 20}, \"50\": {\"50\": 138}, \"53\": {\"53\": 136}, \"10\": {\"10\": 64}, \"48\": {\"48\": 116}, \"8\": {\"8\": 138}, \"31\": {\"31\": 28}, \"56\": {\"56\": 134}, \"25\": {\"25\": 142}, \"28\": {\"28\": 28}, \"38\": {\"38\": 28}, \"5\": {\"5\": 116}, \"12\": {\"12\": 92}, \"6\": {\"6\": 88}, \"19\": {\"19\": 152}, \"26\": {\"26\": 24}, \"32\": {\"32\": 28}, \"33\": {\"33\": 28}, \"3\": {\"3\": 118}, \"51\": {\"51\": 128}, \"16\": {\"16\": 138}, \"46\": {\"46\": 140}, \"7\": {\"7\": 36}, \"47\": {\"47\": 92}, \"39\": {\"39\": 16}, \"40\": {\"40\": 136}, \"14\": {\"14\": 39, \"29\": 1}, \"37\": {\"37\": 28}, \"2\": {\"2\": 32}, \"21\": {\"21\": 120}, \"35\": {\"35\": 28}, \"54\": {\"54\": 100}, \"52\": {\"52\": 115, \"50\": 1}, \"29\": {\"29\": 118}, \"20\": {\"20\": 132}, \"18\": {\"18\": 84}, \"11\": {\"11\": 142}, \"0\": {\"0\": 124}, \"36\": {\"36\": 100}, \"17\": {\"17\": 108}, \"30\": {\"30\": 114}, \"42\": {\"42\": 28}, \"45\": {\"45\": 60}, \"4\": {\"4\": 148}, \"23\": {\"23\": 134}, \"13\": {\"13\": 128}, \"15\": {\"15\": 125, \"11\": 3}, \"57\": {\"57\": 122, \"0\": 2}, \"27\": {\"27\": 134}, \"44\": {\"44\": 88}, \"34\": {\"34\": 32}, \"41\": {\"41\": 28}, \"24\": {\"24\": 104}, \"55\": {\"55\": 118}}, \"CORES_4\": {\"52\": {\"52\": 116}, \"6\": {\"6\": 111, \"3\": 1}, \"14\": {\"14\": 16}, \"49\": {\"49\": 20}, \"0\": {\"0\": 80}, \"46\": {\"46\": 155, \"32\": 1}, \"41\": {\"41\": 36}, \"24\": {\"24\": 56}, \"25\": {\"25\": 152}, \"40\": {\"40\": 138}, \"38\": {\"38\": 40}, \"13\": {\"13\": 152}, \"9\": {\"9\": 108}, \"45\": {\"45\": 96}, \"43\": {\"43\": 144}, \"10\": {\"10\": 130}, \"15\": {\"15\": 128}, \"39\": {\"39\": 20}, \"4\": {\"4\": 132}, \"53\": {\"53\": 132}, \"1\": {\"1\": 39, \"29\": 1}, \"28\": {\"28\": 32}, \"54\": {\"54\": 108}, \"21\": {\"21\": 132}, \"7\": {\"7\": 23, \"10\": 1}, \"8\": {\"8\": 136}, \"42\": {\"42\": 32}, \"11\": {\"11\": 103, \"15\": 1}, \"33\": {\"33\": 36}, \"27\": {\"27\": 142}, \"19\": {\"19\": 144}, \"2\": {\"2\": 36}, \"3\": {\"3\": 118, \"50\": 2}, \"57\": {\"57\": 100}, \"20\": {\"20\": 112}, \"23\": {\"23\": 128}, \"22\": {\"22\": 128}, \"29\": {\"29\": 124}, \"36\": {\"36\": 92}, \"51\": {\"51\": 132}, \"31\": {\"31\": 28}, \"12\": {\"12\": 92}, \"56\": {\"56\": 138}, \"5\": {\"5\": 108}, \"35\": {\"35\": 40}, \"17\": {\"17\": 80}, \"32\": {\"32\": 24}, \"47\": {\"47\": 120}, \"18\": {\"18\": 107, \"3\": 1}, \"26\": {\"26\": 24}, \"50\": {\"50\": 122}, \"55\": {\"55\": 124}, \"34\": {\"34\": 24}, \"30\": {\"30\": 44}, \"37\": {\"37\": 24}, \"44\": {\"44\": 132}, \"48\": {\"48\": 118}, \"16\": {\"16\": 95, \"5\": 1}}, \"CORES_2\": {\"11\": {\"11\": 130}, \"21\": {\"21\": 120}, \"19\": {\"19\": 140}, \"20\": {\"20\": 128}, \"9\": {\"9\": 140}, \"10\": {\"10\": 112}, \"37\": {\"37\": 36}, \"32\": {\"32\": 28}, \"3\": {\"3\": 92}, \"39\": {\"39\": 28}, \"45\": {\"45\": 128}, \"50\": {\"50\": 136}, \"40\": {\"40\": 140}, \"46\": {\"46\": 128}, \"12\": {\"12\": 92}, \"13\": {\"13\": 116}, \"47\": {\"47\": 132}, \"15\": {\"15\": 142}, \"54\": {\"54\": 108}, \"48\": {\"48\": 148}, \"23\": {\"23\": 142}, \"29\": {\"29\": 128}, \"38\": {\"38\": 20}, \"53\": {\"53\": 136}, \"27\": {\"27\": 150}, \"43\": {\"43\": 143, \"37\": 1}, \"35\": {\"35\": 32}, \"0\": {\"0\": 47, \"57\": 1}, \"52\": {\"52\": 124}, \"8\": {\"8\": 128}, \"24\": {\"24\": 96}, \"18\": {\"18\": 48}, \"25\": {\"25\": 148}, \"57\": {\"57\": 136}, \"55\": {\"55\": 134}, \"36\": {\"36\": 116}, \"17\": {\"17\": 104}, \"2\": {\"2\": 32}, \"34\": {\"34\": 28}, \"1\": {\"1\": 112}, \"51\": {\"51\": 136}, \"31\": {\"31\": 28}, \"49\": {\"49\": 24}, \"14\": {\"14\": 24}, \"33\": {\"33\": 28}, \"41\": {\"41\": 20}, \"28\": {\"28\": 28}, \"5\": {\"5\": 120}, \"16\": {\"16\": 150}, \"4\": {\"4\": 128}, \"22\": {\"22\": 136}, \"6\": {\"6\": 118}, \"30\": {\"30\": 124}, \"26\": {\"26\": 24}, \"56\": {\"56\": 142}, \"42\": {\"42\": 36}, \"44\": {\"44\": 100}, \"7\": {\"7\": 36}}, \"ORACLE.run1_26\": {\"0\": {\"14\": 101, \"15\": 68, \"7\": 91, \"1\": 111, \"9\": 70, \"5\": 54, \"8\": 83, \"10\": 77, \"2\": 68, \"6\": 86, \"0\": 96, \"3\": 75, \"4\": 117, \"12\": 46, \"13\": 49, \"11\": 8}, \"4\": {\"7\": 92, \"2\": 88, \"6\": 70, \"9\": 80, \"1\": 103, \"3\": 84, \"15\": 75, \"8\": 82, \"0\": 101, \"4\": 105, \"14\": 108, \"5\": 52, \"11\": 13, \"12\": 37, \"13\": 36, \"10\": 74}, \"14\": {\"14\": 110, \"0\": 112, \"7\": 79, \"12\": 44, \"2\": 80, \"6\": 78, \"10\": 97, \"9\": 47, \"15\": 71, \"8\": 71, \"5\": 46, \"4\": 110, \"1\": 118, \"11\": 19, \"13\": 46, \"3\": 72}, \"12\": {\"12\": 379, \"4\": 27, \"11\": 223, \"7\": 16, \"13\": 47, \"6\": 102, \"10\": 53, \"15\": 47, \"8\": 51, \"2\": 18, \"5\": 31, \"14\": 55, \"9\": 55, \"0\": 51, \"1\": 31, \"3\": 14}, \"8\": {\"2\": 69, \"1\": 102, \"14\": 89, \"15\": 74, \"5\": 58, \"0\": 84, \"13\": 68, \"3\": 86, \"9\": 74, \"8\": 80, \"7\": 85, \"6\": 85, \"10\": 89, \"4\": 91, \"11\": 23, \"12\": 43}, \"7\": {\"0\": 83, \"13\": 54, \"15\": 85, \"8\": 70, \"5\": 71, \"2\": 93, \"3\": 121, \"14\": 86, \"7\": 112, \"1\": 92, \"4\": 104, \"10\": 81, \"12\": 16, \"9\": 60, \"6\": 64, \"11\": 8}, \"13\": {\"15\": 94, \"2\": 80, \"13\": 148, \"6\": 89, \"11\": 107, \"12\": 70, \"10\": 63, \"4\": 37, \"5\": 125, \"9\": 91, \"3\": 69, \"8\": 65, \"14\": 40, \"7\": 52, \"0\": 36, \"1\": 34}, \"5\": {\"13\": 127, \"7\": 69, \"5\": 104, \"8\": 84, \"0\": 60, \"14\": 42, \"2\": 84, \"1\": 59, \"12\": 39, \"15\": 99, \"3\": 82, \"9\": 87, \"6\": 88, \"4\": 48, \"10\": 72, \"11\": 56}, \"15\": {\"4\": 75, \"2\": 94, \"7\": 76, \"3\": 78, \"10\": 66, \"6\": 79, \"8\": 61, \"13\": 112, \"9\": 86, \"11\": 37, \"5\": 73, \"0\": 73, \"15\": 102, \"14\": 63, \"1\": 70, \"12\": 55}, \"10\": {\"10\": 95, \"14\": 76, \"6\": 74, \"9\": 68, \"7\": 78, \"2\": 67, \"4\": 81, \"5\": 76, \"8\": 87, \"12\": 53, \"0\": 86, \"15\": 88, \"1\": 107, \"13\": 54, \"3\": 82, \"11\": 28}, \"3\": {\"7\": 117, \"5\": 79, \"0\": 68, \"3\": 116, \"2\": 114, \"14\": 85, \"6\": 48, \"8\": 69, \"10\": 78, \"4\": 102, \"12\": 16, \"1\": 88, \"13\": 75, \"9\": 51, \"11\": 15, \"15\": 79}, \"9\": {\"14\": 68, \"2\": 86, \"13\": 90, \"7\": 85, \"15\": 70, \"6\": 97, \"9\": 89, \"12\": 62, \"5\": 92, \"8\": 68, \"3\": 63, \"11\": 47, \"0\": 62, \"4\": 76, \"1\": 71, \"10\": 74}, \"6\": {\"15\": 87, \"10\": 83, \"14\": 76, \"1\": 65, \"12\": 104, \"6\": 111, \"9\": 85, \"11\": 60, \"5\": 63, \"2\": 55, \"8\": 92, \"4\": 79, \"3\": 41, \"0\": 78, \"13\": 62, \"7\": 59}, \"1\": {\"7\": 97, \"15\": 66, \"2\": 54, \"0\": 106, \"3\": 87, \"8\": 92, \"4\": 113, \"9\": 71, \"1\": 129, \"5\": 44, \"14\": 111, \"10\": 88, \"6\": 70, \"11\": 14, \"12\": 20, \"13\": 38}, \"11\": {\"13\": 87, \"11\": 575, \"2\": 16, \"6\": 59, \"12\": 243, \"15\": 43, \"3\": 5, \"8\": 21, \"0\": 13, \"5\": 49, \"10\": 22, \"9\": 34, \"7\": 8, \"1\": 7, \"4\": 10, \"14\": 8}, \"2\": {\"2\": 113, \"15\": 75, \"7\": 109, \"3\": 134, \"13\": 83, \"8\": 83, \"6\": 59, \"0\": 74, \"9\": 91, \"5\": 95, \"4\": 73, \"14\": 49, \"1\": 65, \"10\": 64, \"11\": 21, \"12\": 12}}, \"ORACLE.run1_44\": {\"1\": {\"9\": 60, \"2\": 132, \"10\": 203, \"3\": 193, \"1\": 217, \"12\": 241, \"15\": 5, \"14\": 4, \"13\": 24, \"7\": 75, \"4\": 8, \"11\": 14, \"6\": 23, \"8\": 1}, \"11\": {\"9\": 114, \"13\": 211, \"4\": 62, \"6\": 200, \"10\": 12, \"2\": 45, \"5\": 12, \"11\": 357, \"14\": 40, \"7\": 102, \"1\": 8, \"3\": 19, \"15\": 12, \"0\": 2, \"12\": 4}, \"3\": {\"12\": 211, \"10\": 94, \"0\": 1, \"3\": 299, \"2\": 113, \"7\": 103, \"15\": 14, \"1\": 204, \"9\": 63, \"6\": 26, \"4\": 20, \"11\": 14, \"13\": 21, \"14\": 13, \"5\": 3, \"8\": 1}, \"6\": {\"9\": 145, \"12\": 16, \"7\": 144, \"6\": 265, \"5\": 11, \"13\": 212, \"11\": 162, \"4\": 36, \"10\": 55, \"2\": 94, \"3\": 18, \"14\": 10, \"1\": 30, \"15\": 2}, \"7\": {\"13\": 123, \"7\": 159, \"2\": 169, \"10\": 96, \"9\": 129, \"3\": 110, \"1\": 96, \"4\": 37, \"15\": 5, \"12\": 57, \"11\": 77, \"6\": 124, \"14\": 15, \"5\": 1, \"0\": 2}, \"5\": {\"0\": 209, \"4\": 168, \"8\": 181, \"14\": 180, \"11\": 13, \"5\": 268, \"15\": 144, \"9\": 9, \"13\": 21, \"6\": 5, \"2\": 1, \"3\": 1}, \"2\": {\"11\": 46, \"6\": 97, \"12\": 114, \"3\": 110, \"2\": 202, \"4\": 10, \"9\": 106, \"7\": 138, \"1\": 121, \"10\": 195, \"13\": 56, \"14\": 2, \"15\": 1, \"5\": 2}, \"15\": {\"14\": 175, \"0\": 209, \"8\": 186, \"4\": 150, \"15\": 256, \"5\": 152, \"11\": 13, \"9\": 18, \"13\": 10, \"1\": 4, \"12\": 1, \"3\": 14, \"7\": 9, \"2\": 1, \"6\": 2}, \"10\": {\"10\": 281, \"12\": 223, \"2\": 186, \"9\": 44, \"1\": 182, \"3\": 115, \"7\": 95, \"13\": 20, \"6\": 40, \"14\": 1, \"11\": 10, \"4\": 3}, \"13\": {\"6\": 176, \"3\": 30, \"11\": 238, \"13\": 207, \"4\": 112, \"9\": 145, \"7\": 111, \"14\": 43, \"2\": 62, \"10\": 22, \"5\": 14, \"12\": 6, \"15\": 13, \"1\": 18, \"0\": 3}, \"8\": {\"15\": 210, \"5\": 190, \"14\": 77, \"0\": 274, \"8\": 394, \"4\": 51, \"13\": 2, \"9\": 1, \"7\": 1}, \"4\": {\"14\": 222, \"13\": 96, \"8\": 35, \"3\": 16, \"5\": 110, \"9\": 82, \"15\": 117, \"4\": 299, \"1\": 7, \"0\": 69, \"2\": 16, \"6\": 43, \"11\": 50, \"7\": 36, \"12\": 1, \"10\": 1}, \"9\": {\"3\": 83, \"7\": 140, \"10\": 58, \"2\": 95, \"15\": 14, \"9\": 186, \"13\": 158, \"14\": 48, \"6\": 147, \"4\": 51, \"1\": 56, \"11\": 119, \"12\": 38, \"5\": 4, \"8\": 2, \"0\": 1}, \"14\": {\"0\": 130, \"14\": 218, \"6\": 20, \"4\": 252, \"15\": 180, \"5\": 160, \"8\": 81, \"11\": 35, \"3\": 9, \"9\": 51, \"13\": 47, \"7\": 11, \"12\": 1, \"10\": 1, \"2\": 4}, \"0\": {\"8\": 296, \"5\": 223, \"4\": 74, \"0\": 262, \"14\": 120, \"15\": 214, \"7\": 2, \"9\": 3, \"6\": 2, \"13\": 3, \"2\": 1}, \"12\": {\"1\": 232, \"10\": 218, \"7\": 74, \"6\": 18, \"2\": 133, \"12\": 271, \"3\": 188, \"9\": 44, \"14\": 1, \"13\": 14, \"11\": 4, \"4\": 2, \"15\": 1}}, \"ORACLE.run1_50\": {\"15\": {\"14\": 86, \"0\": 28, \"15\": 218, \"13\": 61, \"9\": 75, \"4\": 151, \"11\": 143, \"7\": 43, \"5\": 82, \"1\": 128, \"6\": 101, \"2\": 21, \"12\": 41, \"10\": 18, \"8\": 4}, \"4\": {\"5\": 112, \"7\": 86, \"1\": 112, \"6\": 126, \"2\": 52, \"4\": 156, \"8\": 21, \"12\": 28, \"10\": 42, \"11\": 95, \"9\": 33, \"15\": 143, \"0\": 49, \"14\": 57, \"13\": 78, \"3\": 10}, \"6\": {\"0\": 75, \"11\": 45, \"15\": 134, \"2\": 51, \"13\": 111, \"7\": 123, \"6\": 132, \"5\": 113, \"10\": 59, \"1\": 112, \"4\": 125, \"8\": 24, \"14\": 54, \"12\": 14, \"9\": 16, \"3\": 12}, \"2\": {\"2\": 322, \"0\": 182, \"8\": 75, \"14\": 107, \"1\": 67, \"3\": 34, \"7\": 38, \"5\": 47, \"4\": 52, \"10\": 99, \"12\": 32, \"13\": 50, \"15\": 20, \"6\": 43, \"11\": 16, \"9\": 16}, \"5\": {\"10\": 97, \"6\": 122, \"2\": 43, \"7\": 126, \"1\": 88, \"13\": 139, \"0\": 74, \"15\": 102, \"4\": 107, \"8\": 47, \"11\": 32, \"9\": 12, \"5\": 143, \"14\": 28, \"3\": 35, \"12\": 5}, \"9\": {\"12\": 236, \"11\": 237, \"7\": 3, \"2\": 27, \"9\": 338, \"1\": 65, \"14\": 140, \"15\": 71, \"4\": 42, \"6\": 16, \"5\": 7, \"0\": 11, \"13\": 5, \"10\": 2}, \"8\": {\"3\": 289, \"8\": 306, \"0\": 122, \"2\": 51, \"5\": 48, \"4\": 16, \"13\": 66, \"7\": 90, \"10\": 174, \"6\": 23, \"15\": 3, \"1\": 9, \"14\": 3}, \"12\": {\"9\": 248, \"14\": 205, \"12\": 367, \"11\": 163, \"7\": 1, \"1\": 41, \"2\": 58, \"6\": 20, \"0\": 16, \"15\": 43, \"13\": 5, \"5\": 5, \"4\": 27, \"10\": 1}, \"10\": {\"7\": 129, \"13\": 120, \"12\": 2, \"10\": 159, \"3\": 123, \"0\": 134, \"4\": 45, \"1\": 39, \"6\": 63, \"8\": 148, \"5\": 99, \"15\": 29, \"14\": 16, \"11\": 10, \"2\": 84}, \"1\": {\"7\": 59, \"6\": 117, \"13\": 83, \"2\": 65, \"5\": 73, \"11\": 103, \"4\": 137, \"10\": 40, \"0\": 55, \"15\": 145, \"14\": 86, \"8\": 11, \"9\": 61, \"3\": 6, \"1\": 128, \"12\": 31}, \"0\": {\"0\": 192, \"8\": 140, \"12\": 15, \"3\": 42, \"14\": 47, \"1\": 53, \"10\": 133, \"15\": 21, \"4\": 52, \"2\": 191, \"13\": 84, \"5\": 68, \"7\": 75, \"6\": 58, \"9\": 8, \"11\": 21}, \"3\": {\"3\": 517, \"8\": 310, \"5\": 35, \"10\": 132, \"0\": 51, \"7\": 77, \"4\": 7, \"13\": 40, \"2\": 11, \"6\": 15, \"15\": 1, \"1\": 4}, \"13\": {\"1\": 74, \"2\": 44, \"4\": 97, \"8\": 55, \"5\": 157, \"7\": 161, \"0\": 87, \"13\": 154, \"15\": 70, \"6\": 104, \"10\": 102, \"14\": 21, \"3\": 47, \"9\": 7, \"11\": 16, \"12\": 4}, \"11\": {\"9\": 236, \"14\": 124, \"12\": 141, \"11\": 249, \"1\": 98, \"7\": 7, \"15\": 113, \"4\": 84, \"6\": 52, \"5\": 26, \"0\": 20, \"10\": 5, \"13\": 16, \"2\": 29}, \"7\": {\"8\": 79, \"10\": 126, \"3\": 74, \"7\": 163, \"5\": 143, \"0\": 73, \"6\": 121, \"1\": 50, \"13\": 171, \"15\": 48, \"14\": 22, \"4\": 80, \"11\": 14, \"2\": 31, \"9\": 3, \"12\": 2}, \"14\": {\"11\": 145, \"9\": 144, \"12\": 181, \"0\": 50, \"14\": 208, \"10\": 16, \"15\": 70, \"1\": 110, \"7\": 13, \"2\": 102, \"13\": 27, \"4\": 55, \"6\": 49, \"5\": 27, \"8\": 3}}, \"ORACLE.run1_38\": {\"15\": {\"2\": 103, \"10\": 107, \"1\": 161, \"7\": 40, \"8\": 109, \"15\": 157, \"6\": 50, \"0\": 66, \"9\": 40, \"14\": 65, \"11\": 43, \"13\": 141, \"5\": 82, \"12\": 16, \"4\": 10, \"3\": 10}, \"11\": {\"1\": 12, \"14\": 307, \"4\": 49, \"10\": 113, \"11\": 306, \"13\": 54, \"2\": 158, \"12\": 105, \"15\": 40, \"8\": 20, \"0\": 17, \"7\": 9, \"6\": 3, \"5\": 7}, \"10\": {\"4\": 80, \"7\": 53, \"15\": 116, \"13\": 87, \"12\": 76, \"8\": 119, \"1\": 51, \"10\": 171, \"5\": 67, \"11\": 93, \"0\": 82, \"2\": 76, \"14\": 85, \"6\": 22, \"9\": 16, \"3\": 6}, \"14\": {\"11\": 256, \"10\": 110, \"14\": 307, \"12\": 110, \"15\": 63, \"13\": 58, \"2\": 169, \"7\": 13, \"1\": 26, \"4\": 33, \"8\": 28, \"0\": 14, \"6\": 2, \"5\": 11}, \"6\": {\"9\": 220, \"5\": 120, \"1\": 87, \"6\": 225, \"15\": 57, \"8\": 80, \"3\": 181, \"7\": 64, \"2\": 8, \"13\": 42, \"0\": 93, \"10\": 20, \"12\": 2, \"11\": 1}, \"4\": {\"0\": 64, \"4\": 533, \"12\": 321, \"11\": 46, \"7\": 72, \"8\": 45, \"10\": 49, \"2\": 8, \"3\": 7, \"14\": 24, \"5\": 16, \"1\": 1, \"15\": 8, \"6\": 3, \"13\": 2, \"9\": 1}, \"13\": {\"7\": 27, \"5\": 61, \"6\": 48, \"14\": 71, \"9\": 28, \"1\": 178, \"10\": 108, \"15\": 156, \"0\": 53, \"8\": 84, \"13\": 180, \"2\": 128, \"11\": 49, \"3\": 9, \"12\": 13, \"4\": 7}, \"3\": {\"9\": 207, \"3\": 427, \"6\": 183, \"5\": 73, \"7\": 107, \"8\": 45, \"1\": 28, \"0\": 89, \"13\": 3, \"4\": 6, \"2\": 1, \"10\": 13, \"11\": 1, \"15\": 14, \"12\": 2, \"14\": 1}, \"7\": {\"3\": 94, \"9\": 45, \"13\": 40, \"7\": 228, \"0\": 160, \"5\": 135, \"4\": 75, \"8\": 119, \"14\": 8, \"15\": 48, \"2\": 12, \"6\": 84, \"10\": 59, \"12\": 47, \"1\": 40, \"11\": 6}, \"8\": {\"10\": 108, \"8\": 136, \"4\": 30, \"5\": 117, \"1\": 92, \"15\": 90, \"13\": 76, \"9\": 46, \"11\": 22, \"12\": 52, \"3\": 47, \"0\": 142, \"7\": 121, \"2\": 32, \"14\": 24, \"6\": 65}, \"1\": {\"8\": 79, \"1\": 227, \"6\": 98, \"2\": 92, \"11\": 9, \"13\": 145, \"7\": 39, \"3\": 27, \"5\": 92, \"15\": 152, \"9\": 83, \"10\": 64, \"0\": 59, \"12\": 13, \"14\": 19, \"4\": 2}, \"5\": {\"10\": 72, \"3\": 87, \"15\": 78, \"9\": 100, \"0\": 139, \"8\": 124, \"1\": 75, \"6\": 117, \"5\": 124, \"7\": 117, \"13\": 71, \"2\": 25, \"14\": 18, \"4\": 15, \"12\": 20, \"11\": 18}, \"0\": {\"6\": 96, \"5\": 100, \"7\": 159, \"13\": 44, \"0\": 179, \"15\": 75, \"1\": 38, \"12\": 58, \"8\": 136, \"4\": 39, \"9\": 46, \"10\": 86, \"3\": 103, \"14\": 9, \"2\": 16, \"11\": 16}, \"2\": {\"13\": 141, \"14\": 191, \"2\": 324, \"10\": 98, \"8\": 43, \"4\": 5, \"0\": 22, \"1\": 77, \"15\": 104, \"11\": 135, \"5\": 19, \"12\": 18, \"7\": 14, \"6\": 6, \"9\": 1, \"3\": 2}, \"12\": {\"1\": 4, \"4\": 298, \"12\": 434, \"14\": 104, \"11\": 74, \"0\": 60, \"10\": 85, \"8\": 43, \"15\": 9, \"2\": 14, \"5\": 17, \"7\": 43, \"13\": 11, \"6\": 1, \"9\": 1, \"3\": 2}, \"9\": {\"9\": 262, \"13\": 23, \"5\": 109, \"2\": 8, \"6\": 239, \"7\": 68, \"1\": 75, \"3\": 248, \"15\": 30, \"0\": 75, \"8\": 45, \"10\": 10, \"12\": 2, \"11\": 1, \"4\": 3, \"14\": 2}}, \"ORACLE.run1_20\": {\"10\": {\"4\": 110, \"9\": 62, \"5\": 62, \"8\": 103, \"7\": 78, \"2\": 60, \"10\": 112, \"14\": 151, \"1\": 39, \"0\": 38, \"6\": 120, \"13\": 28, \"3\": 79, \"15\": 42, \"11\": 63, \"12\": 53}, \"7\": {\"14\": 89, \"9\": 81, \"11\": 89, \"13\": 77, \"8\": 78, \"10\": 74, \"1\": 68, \"12\": 69, \"5\": 78, \"2\": 81, \"3\": 79, \"6\": 81, \"4\": 69, \"7\": 73, \"0\": 55, \"15\": 59}, \"4\": {\"10\": 96, \"8\": 94, \"7\": 82, \"1\": 62, \"5\": 78, \"0\": 68, \"3\": 82, \"12\": 76, \"9\": 61, \"15\": 61, \"4\": 95, \"13\": 51, \"14\": 100, \"6\": 86, \"2\": 70, \"11\": 38}, \"13\": {\"11\": 85, \"13\": 109, \"12\": 83, \"2\": 86, \"5\": 89, \"1\": 82, \"15\": 92, \"0\": 94, \"3\": 76, \"7\": 74, \"9\": 76, \"4\": 52, \"6\": 57, \"8\": 54, \"14\": 45, \"10\": 46}, \"1\": {\"3\": 87, \"0\": 93, \"7\": 70, \"11\": 48, \"13\": 86, \"2\": 81, \"8\": 62, \"9\": 86, \"6\": 38, \"1\": 98, \"12\": 80, \"5\": 87, \"10\": 54, \"4\": 86, \"15\": 108, \"14\": 36}, \"0\": {\"7\": 74, \"11\": 34, \"8\": 79, \"1\": 93, \"13\": 94, \"4\": 76, \"9\": 72, \"3\": 92, \"6\": 40, \"12\": 69, \"10\": 67, \"2\": 61, \"14\": 45, \"5\": 84, \"0\": 114, \"15\": 106}, \"12\": {\"5\": 78, \"10\": 50, \"4\": 87, \"1\": 90, \"12\": 88, \"6\": 64, \"11\": 57, \"15\": 98, \"8\": 71, \"9\": 73, \"2\": 75, \"7\": 75, \"13\": 69, \"3\": 77, \"14\": 56, \"0\": 92}, \"5\": {\"7\": 63, \"4\": 72, \"9\": 71, \"11\": 40, \"1\": 87, \"5\": 101, \"6\": 49, \"10\": 59, \"0\": 100, \"15\": 91, \"14\": 54, \"8\": 71, \"2\": 80, \"12\": 97, \"3\": 102, \"13\": 63}, \"6\": {\"3\": 79, \"6\": 136, \"7\": 86, \"2\": 73, \"8\": 97, \"14\": 156, \"13\": 47, \"0\": 40, \"10\": 99, \"11\": 101, \"4\": 68, \"5\": 47, \"15\": 32, \"1\": 51, \"9\": 50, \"12\": 38}, \"2\": {\"11\": 87, \"6\": 73, \"9\": 90, \"12\": 89, \"7\": 86, \"10\": 53, \"8\": 52, \"15\": 84, \"1\": 71, \"13\": 106, \"4\": 61, \"2\": 85, \"0\": 68, \"14\": 53, \"3\": 68, \"5\": 74}, \"8\": {\"2\": 70, \"11\": 63, \"15\": 52, \"7\": 90, \"9\": 56, \"8\": 122, \"14\": 118, \"4\": 94, \"10\": 92, \"3\": 78, \"5\": 55, \"6\": 90, \"1\": 54, \"12\": 56, \"13\": 49, \"0\": 61}, \"11\": {\"11\": 235, \"6\": 84, \"3\": 51, \"2\": 100, \"13\": 109, \"8\": 59, \"15\": 59, \"0\": 47, \"10\": 45, \"5\": 39, \"4\": 33, \"14\": 71, \"12\": 52, \"9\": 77, \"1\": 57, \"7\": 82}, \"9\": {\"4\": 70, \"11\": 76, \"0\": 85, \"15\": 77, \"9\": 93, \"12\": 81, \"3\": 98, \"2\": 73, \"5\": 72, \"14\": 56, \"1\": 98, \"7\": 75, \"6\": 50, \"10\": 60, \"8\": 65, \"13\": 71}, \"14\": {\"8\": 103, \"4\": 79, \"14\": 164, \"11\": 47, \"6\": 141, \"12\": 50, \"5\": 57, \"2\": 57, \"13\": 44, \"7\": 88, \"10\": 141, \"0\": 41, \"15\": 35, \"9\": 46, \"3\": 66, \"1\": 41}, \"15\": {\"5\": 108, \"11\": 41, \"15\": 111, \"1\": 124, \"8\": 54, \"0\": 106, \"3\": 91, \"10\": 42, \"13\": 96, \"14\": 29, \"12\": 94, \"9\": 85, \"7\": 66, \"2\": 61, \"6\": 36, \"4\": 56}, \"3\": {\"1\": 77, \"3\": 90, \"13\": 70, \"0\": 86, \"14\": 72, \"11\": 66, \"6\": 73, \"5\": 83, \"10\": 60, \"9\": 90, \"8\": 69, \"2\": 76, \"4\": 63, \"7\": 81, \"15\": 73, \"12\": 71}}, \"ORACLE.run1_14\": {\"14\": {\"15\": 33, \"6\": 111, \"13\": 139, \"2\": 139, \"7\": 47, \"14\": 136, \"9\": 21, \"11\": 68, \"10\": 89, \"4\": 85, \"1\": 57, \"3\": 79, \"5\": 64, \"0\": 100, \"8\": 28, \"12\": 4}, \"0\": {\"8\": 99, \"3\": 95, \"0\": 141, \"9\": 107, \"11\": 143, \"14\": 102, \"13\": 69, \"12\": 55, \"4\": 74, \"10\": 133, \"2\": 36, \"6\": 45, \"1\": 34, \"7\": 19, \"15\": 10, \"5\": 38}, \"4\": {\"4\": 112, \"5\": 90, \"7\": 76, \"12\": 9, \"2\": 90, \"10\": 74, \"6\": 102, \"14\": 78, \"0\": 70, \"15\": 63, \"11\": 43, \"9\": 36, \"8\": 80, \"13\": 84, \"1\": 113, \"3\": 80}, \"11\": {\"9\": 171, \"11\": 257, \"3\": 54, \"12\": 152, \"10\": 133, \"14\": 77, \"0\": 159, \"2\": 26, \"8\": 47, \"13\": 30, \"5\": 15, \"1\": 16, \"15\": 1, \"4\": 33, \"6\": 29}, \"13\": {\"4\": 69, \"14\": 126, \"15\": 59, \"3\": 71, \"2\": 132, \"13\": 146, \"0\": 76, \"11\": 43, \"10\": 73, \"6\": 151, \"5\": 98, \"1\": 68, \"7\": 55, \"8\": 24, \"9\": 6, \"12\": 3}, \"9\": {\"3\": 46, \"4\": 18, \"10\": 80, \"12\": 261, \"0\": 115, \"11\": 180, \"9\": 291, \"8\": 136, \"14\": 19, \"6\": 9, \"13\": 12, \"5\": 7, \"7\": 3, \"2\": 13, \"1\": 10}, \"3\": {\"9\": 43, \"2\": 95, \"13\": 94, \"11\": 59, \"3\": 116, \"1\": 72, \"0\": 97, \"14\": 95, \"6\": 83, \"5\": 88, \"7\": 39, \"15\": 48, \"10\": 86, \"4\": 97, \"8\": 70, \"12\": 18}, \"6\": {\"0\": 45, \"8\": 17, \"13\": 146, \"6\": 165, \"14\": 141, \"4\": 78, \"1\": 61, \"10\": 69, \"2\": 153, \"7\": 51, \"11\": 30, \"15\": 64, \"5\": 82, \"3\": 89, \"9\": 6, \"12\": 3}, \"1\": {\"8\": 90, \"5\": 125, \"2\": 77, \"6\": 73, \"15\": 114, \"3\": 93, \"1\": 150, \"10\": 32, \"4\": 117, \"14\": 58, \"0\": 47, \"7\": 138, \"11\": 12, \"13\": 50, \"12\": 6, \"9\": 18}, \"5\": {\"5\": 116, \"1\": 118, \"0\": 48, \"2\": 103, \"6\": 73, \"14\": 79, \"15\": 129, \"7\": 109, \"3\": 89, \"11\": 25, \"8\": 74, \"13\": 70, \"4\": 103, \"10\": 46, \"12\": 3, \"9\": 15}, \"12\": {\"12\": 544, \"9\": 293, \"0\": 63, \"8\": 75, \"11\": 131, \"10\": 53, \"3\": 15, \"1\": 2, \"13\": 3, \"4\": 6, \"5\": 6, \"14\": 4, \"2\": 3, \"6\": 2}, \"10\": {\"11\": 134, \"2\": 66, \"0\": 144, \"14\": 86, \"10\": 161, \"3\": 110, \"4\": 67, \"12\": 47, \"1\": 39, \"13\": 68, \"9\": 82, \"6\": 68, \"8\": 54, \"15\": 10, \"5\": 53, \"7\": 11}, \"8\": {\"0\": 81, \"11\": 48, \"3\": 68, \"8\": 355, \"1\": 88, \"9\": 149, \"15\": 15, \"5\": 60, \"6\": 27, \"13\": 22, \"10\": 52, \"14\": 23, \"7\": 25, \"2\": 37, \"12\": 62, \"4\": 88}, \"7\": {\"5\": 111, \"15\": 280, \"2\": 79, \"7\": 268, \"1\": 154, \"13\": 49, \"4\": 76, \"6\": 43, \"3\": 36, \"0\": 17, \"8\": 44, \"11\": 1, \"14\": 29, \"10\": 10, \"9\": 2, \"12\": 1}, \"15\": {\"15\": 335, \"5\": 118, \"8\": 25, \"14\": 34, \"7\": 255, \"2\": 75, \"6\": 63, \"10\": 9, \"4\": 71, \"9\": 1, \"1\": 111, \"13\": 60, \"3\": 35, \"0\": 7, \"11\": 1}, \"2\": {\"15\": 76, \"13\": 126, \"11\": 31, \"4\": 84, \"2\": 135, \"14\": 127, \"6\": 144, \"1\": 70, \"10\": 58, \"7\": 63, \"5\": 84, \"12\": 5, \"3\": 90, \"8\": 41, \"0\": 53, \"9\": 13}}, \"ORACLE.run1_32\": {\"11\": {\"14\": 207, \"11\": 252, \"0\": 72, \"5\": 91, \"13\": 95, \"8\": 65, \"4\": 63, \"15\": 13, \"7\": 133, \"2\": 57, \"3\": 148, \"9\": 4}, \"1\": {\"10\": 372, \"6\": 141, \"1\": 640, \"12\": 47}, \"2\": {\"0\": 139, \"4\": 145, \"3\": 27, \"11\": 69, \"5\": 96, \"14\": 90, \"2\": 218, \"8\": 88, \"9\": 102, \"7\": 127, \"13\": 66, \"15\": 14, \"12\": 17, \"10\": 1, \"6\": 1}, \"0\": {\"4\": 144, \"13\": 121, \"14\": 92, \"8\": 123, \"0\": 143, \"5\": 107, \"7\": 100, \"3\": 68, \"2\": 143, \"11\": 58, \"9\": 55, \"15\": 39, \"12\": 7}, \"3\": {\"15\": 127, \"5\": 103, \"3\": 292, \"7\": 75, \"4\": 82, \"11\": 110, \"13\": 133, \"14\": 86, \"8\": 126, \"0\": 43, \"2\": 22, \"9\": 1}, \"8\": {\"15\": 119, \"5\": 115, \"8\": 177, \"14\": 84, \"0\": 111, \"11\": 68, \"2\": 78, \"13\": 124, \"3\": 130, \"4\": 91, \"7\": 83, \"9\": 18, \"12\": 2}, \"12\": {\"6\": 161, \"12\": 556, \"9\": 296, \"10\": 134, \"7\": 1, \"1\": 29, \"2\": 12, \"4\": 5, \"0\": 4, \"8\": 2}, \"5\": {\"14\": 109, \"15\": 64, \"5\": 150, \"8\": 120, \"7\": 107, \"4\": 101, \"0\": 105, \"11\": 84, \"3\": 148, \"12\": 2, \"2\": 89, \"13\": 110, \"9\": 11}, \"15\": {\"15\": 564, \"5\": 64, \"7\": 20, \"13\": 116, \"3\": 170, \"2\": 21, \"9\": 4, \"8\": 134, \"0\": 46, \"4\": 37, \"11\": 14, \"14\": 10}, \"7\": {\"4\": 106, \"13\": 110, \"5\": 102, \"3\": 97, \"2\": 118, \"7\": 138, \"11\": 135, \"0\": 109, \"8\": 109, \"15\": 21, \"14\": 135, \"9\": 20}, \"4\": {\"7\": 116, \"0\": 140, \"8\": 122, \"14\": 92, \"13\": 101, \"2\": 140, \"9\": 35, \"4\": 179, \"5\": 133, \"3\": 54, \"11\": 54, \"12\": 5, \"15\": 29}, \"14\": {\"11\": 171, \"14\": 185, \"8\": 68, \"13\": 105, \"0\": 89, \"7\": 156, \"2\": 104, \"3\": 110, \"5\": 100, \"4\": 86, \"15\": 19, \"9\": 6, \"6\": 1}, \"10\": {\"10\": 495, \"1\": 352, \"6\": 157, \"12\": 176, \"9\": 20}, \"6\": {\"12\": 184, \"6\": 607, \"1\": 174, \"10\": 170, \"9\": 64, \"2\": 1}, \"13\": {\"4\": 107, \"5\": 147, \"0\": 109, \"8\": 143, \"13\": 127, \"9\": 18, \"3\": 126, \"7\": 99, \"15\": 80, \"11\": 87, \"2\": 77, \"14\": 78, \"12\": 2}, \"9\": {\"12\": 279, \"9\": 527, \"13\": 16, \"8\": 31, \"10\": 10, \"6\": 74, \"0\": 71, \"2\": 108, \"11\": 3, \"4\": 39, \"14\": 4, \"5\": 20, \"1\": 5, \"7\": 10, \"15\": 3}}, \"ORACLE.run1_8\": {\"9\": {\"14\": 47, \"5\": 125, \"1\": 40, \"9\": 714, \"0\": 45, \"10\": 70, \"6\": 12, \"11\": 25, \"13\": 49, \"4\": 41, \"7\": 23, \"15\": 1, \"8\": 2, \"2\": 5, \"12\": 1}, \"11\": {\"10\": 74, \"4\": 84, \"14\": 86, \"11\": 170, \"5\": 107, \"15\": 72, \"8\": 108, \"12\": 55, \"7\": 54, \"3\": 27, \"1\": 139, \"6\": 73, \"13\": 56, \"9\": 25, \"0\": 40, \"2\": 30}, \"8\": {\"13\": 61, \"0\": 54, \"2\": 66, \"4\": 70, \"1\": 91, \"7\": 73, \"14\": 43, \"10\": 42, \"15\": 111, \"8\": 125, \"11\": 93, \"12\": 140, \"5\": 44, \"3\": 99, \"6\": 84, \"9\": 4}, \"4\": {\"1\": 88, \"0\": 89, \"7\": 75, \"4\": 75, \"6\": 89, \"14\": 77, \"13\": 86, \"10\": 84, \"8\": 93, \"15\": 64, \"3\": 47, \"12\": 50, \"11\": 87, \"2\": 60, \"5\": 94, \"9\": 42}, \"13\": {\"3\": 44, \"13\": 81, \"0\": 112, \"1\": 77, \"12\": 54, \"2\": 58, \"4\": 88, \"8\": 63, \"10\": 91, \"5\": 97, \"11\": 61, \"7\": 86, \"14\": 95, \"6\": 85, \"15\": 56, \"9\": 52}, \"14\": {\"11\": 82, \"1\": 77, \"4\": 96, \"8\": 69, \"6\": 78, \"10\": 93, \"7\": 87, \"2\": 45, \"15\": 48, \"5\": 104, \"9\": 62, \"13\": 108, \"14\": 93, \"12\": 43, \"0\": 85, \"3\": 30}, \"2\": {\"2\": 159, \"3\": 186, \"12\": 118, \"4\": 58, \"8\": 88, \"15\": 106, \"14\": 43, \"6\": 66, \"0\": 85, \"11\": 29, \"7\": 95, \"13\": 65, \"5\": 29, \"10\": 35, \"1\": 28, \"9\": 10}, \"3\": {\"12\": 165, \"0\": 54, \"3\": 242, \"2\": 190, \"15\": 126, \"11\": 20, \"1\": 24, \"7\": 68, \"10\": 29, \"6\": 69, \"8\": 74, \"13\": 52, \"14\": 42, \"5\": 11, \"4\": 31, \"9\": 3}, \"1\": {\"11\": 159, \"3\": 26, \"15\": 63, \"1\": 141, \"6\": 60, \"5\": 123, \"13\": 77, \"2\": 32, \"8\": 85, \"10\": 82, \"9\": 35, \"0\": 57, \"14\": 90, \"4\": 88, \"7\": 45, \"12\": 37}, \"0\": {\"6\": 71, \"12\": 39, \"4\": 93, \"0\": 106, \"2\": 71, \"10\": 109, \"13\": 99, \"11\": 48, \"8\": 63, \"5\": 89, \"1\": 75, \"7\": 88, \"3\": 54, \"14\": 102, \"9\": 50, \"15\": 43}, \"5\": {\"11\": 123, \"10\": 119, \"4\": 75, \"5\": 171, \"7\": 51, \"14\": 111, \"6\": 42, \"1\": 132, \"9\": 101, \"0\": 69, \"15\": 30, \"13\": 67, \"8\": 51, \"12\": 27, \"2\": 16, \"3\": 15}, \"15\": {\"7\": 82, \"15\": 133, \"2\": 121, \"10\": 32, \"3\": 127, \"12\": 173, \"11\": 54, \"8\": 135, \"4\": 61, \"1\": 63, \"5\": 31, \"13\": 43, \"6\": 74, \"14\": 30, \"0\": 37, \"9\": 4}, \"10\": {\"4\": 88, \"13\": 91, \"0\": 93, \"1\": 84, \"9\": 84, \"6\": 65, \"14\": 102, \"2\": 38, \"8\": 48, \"12\": 28, \"15\": 42, \"11\": 78, \"3\": 23, \"10\": 105, \"7\": 88, \"5\": 143}, \"12\": {\"12\": 224, \"3\": 156, \"15\": 166, \"7\": 76, \"6\": 63, \"2\": 122, \"0\": 33, \"13\": 43, \"14\": 40, \"8\": 127, \"1\": 35, \"11\": 38, \"5\": 15, \"10\": 21, \"4\": 39, \"9\": 2}, \"6\": {\"13\": 89, \"0\": 89, \"5\": 55, \"6\": 104, \"14\": 84, \"3\": 62, \"4\": 73, \"12\": 57, \"11\": 83, \"7\": 66, \"8\": 102, \"15\": 86, \"2\": 78, \"10\": 73, \"1\": 73, \"9\": 26}, \"7\": {\"6\": 83, \"13\": 90, \"12\": 94, \"5\": 62, \"1\": 56, \"0\": 86, \"3\": 90, \"8\": 81, \"15\": 68, \"14\": 81, \"2\": 98, \"11\": 61, \"7\": 69, \"4\": 82, \"10\": 69, \"9\": 30}}}, \"per_domain_accuracy\": {\"CORES_5\": {\"accuracy\": 0.9984287709497207, \"source?\": true}, \"CORES_1\": {\"accuracy\": 0.9991508152173914, \"source?\": true}, \"CORES_3\": {\"accuracy\": 0.9987132352941176, \"source?\": true}, \"CORES_4\": {\"accuracy\": 0.9983057228915663, \"source?\": true}, \"CORES_2\": {\"accuracy\": 0.9996448863636364, \"source?\": true}, \"ORACLE.run1_26\": {\"accuracy\": 0.12833333333333333, \"source?\": false}, \"ORACLE.run1_44\": {\"accuracy\": 0.21567708333333332, \"source?\": false}, \"ORACLE.run1_50\": {\"accuracy\": 0.19541666666666666, \"source?\": false}, \"ORACLE.run1_38\": {\"accuracy\": 0.21979166666666666, \"source?\": false}, \"ORACLE.run1_20\": {\"accuracy\": 0.09510416666666667, \"source?\": false}, \"ORACLE.run1_14\": {\"accuracy\": 0.17854166666666665, \"source?\": false}, \"ORACLE.run1_32\": {\"accuracy\": 0.2734375, \"source?\": false}, \"ORACLE.run1_8\": {\"accuracy\": 0.14125, \"source?\": false}}}, \"history\": {\"epoch_indices\": [1, 2, 3, 4, 5, 6, 7, 8], \"train_label_loss\": [0.024766858419568865, 0.0063082994033803845, 0.005273283309540617, 0.0036354897613011567, 0.003495575537972407, 0.0036362576239992853, 0.0028350606538877546, 0.0026670312862296214], \"source_val_label_loss\": [0.007475129794329405, 0.008860417641699314, 0.010009093210101128, 0.00968735571950674, 0.009668055921792984, 0.006336130201816559, 0.008612452074885368, 0.010270399041473866], \"target_val_label_loss\": [2.6669862270355225, 3.3089969158172607, 3.4602291584014893, 3.735187292098999, 3.626596450805664, 3.6595261096954346, 3.700002431869507, 4.336082458496094], \"source_val_acc_label\": [0.9986428571428572, 0.9990714285714286, 0.9991071428571429, 0.9988571428571429, 0.99925, 0.9993928571428572, 0.9994285714285714, 0.9994285714285714], \"target_val_acc_label\": [0.14989583333333334, 0.15809895833333334, 0.1466015625, 0.18094401041666666, 0.17611979166666666, 0.17383463541666666, 0.157265625, 0.15383463541666667]}, \"dataset_metrics\": {\"source\": {\"train\": {\"n_unique_x\": 175161, \"n_unique_y\": 58, \"n_batch/episode\": 6305}, \"val\": {\"n_unique_x\": 37151, \"n_unique_y\": 58, \"n_batch/episode\": 875}, \"test\": {\"n_unique_x\": 37548, \"n_unique_y\": 58, \"n_batch/episode\": 885}}, \"target\": {\"train\": {\"n_unique_x\": 896000, \"n_unique_y\": 16, \"n_batch/episode\": 33600}, \"val\": {\"n_unique_x\": 192000, \"n_unique_y\": 16, \"n_batch/episode\": 4800}, \"test\": {\"n_unique_x\": 192000, \"n_unique_y\": 16, \"n_batch/episode\": 4800}}}}'"
      ]
     },
     "execution_count": 29,
     "metadata": {},
     "output_type": "execute_result"
    }
   ],
   "source": [
    "json.dumps(experiment)"
   ]
  }
 ],
 "metadata": {
  "celltoolbar": "Tags",
  "kernelspec": {
   "display_name": "Python 3 (ipykernel)",
   "language": "python",
   "name": "python3"
  },
  "language_info": {
   "codemirror_mode": {
    "name": "ipython",
    "version": 3
   },
   "file_extension": ".py",
   "mimetype": "text/x-python",
   "name": "python",
   "nbconvert_exporter": "python",
   "pygments_lexer": "ipython3",
   "version": "3.8.12"
  },
  "papermill": {
   "default_parameters": {},
   "duration": 2154.130458,
   "end_time": "2022-03-22T21:23:31.215042",
   "environment_variables": {},
   "exception": null,
   "input_path": "/root/csc500-main/csc500-notebooks/templates/tl_ptn_template.ipynb",
   "output_path": "trial.ipynb",
   "parameters": {
    "parameters": {
     "BEST_MODEL_PATH": "./best_model.pth",
     "NUM_LOGS_PER_EPOCH": 10,
     "criteria_for_best": "target_accuracy",
     "dataset_seed": 7,
     "datasets": [
      {
       "domain_prefix": "CORES_",
       "domains": [
        1,
        2,
        3,
        4,
        5
       ],
       "episode_transforms": [],
       "labels": [
        "1-10.",
        "1-11.",
        "1-15.",
        "1-16.",
        "1-17.",
        "1-18.",
        "1-19.",
        "10-4.",
        "10-7.",
        "11-1.",
        "11-14.",
        "11-17.",
        "11-20.",
        "11-7.",
        "13-20.",
        "13-8.",
        "14-10.",
        "14-11.",
        "14-14.",
        "14-7.",
        "15-1.",
        "15-20.",
        "16-1.",
        "16-16.",
        "17-10.",
        "17-11.",
        "17-2.",
        "19-1.",
        "19-16.",
        "19-19.",
        "19-20.",
        "19-3.",
        "2-10.",
        "2-11.",
        "2-17.",
        "2-18.",
        "2-20.",
        "2-3.",
        "2-4.",
        "2-5.",
        "2-6.",
        "2-7.",
        "2-8.",
        "3-13.",
        "3-18.",
        "3-3.",
        "4-1.",
        "4-10.",
        "4-11.",
        "4-19.",
        "5-5.",
        "6-15.",
        "7-10.",
        "7-14.",
        "8-18.",
        "8-20.",
        "8-3.",
        "8-8."
       ],
       "num_examples_per_domain_per_label": -1,
       "pickle_path": "/root/csc500-main/datasets/cores.stratified_ds.2022A.pkl",
       "source_or_target_dataset": "source",
       "x_transforms": [
        "unit_mag"
       ]
      },
      {
       "domain_prefix": "ORACLE.run1_",
       "domains": [
        32,
        38,
        8,
        44,
        14,
        50,
        20,
        26
       ],
       "episode_transforms": [],
       "labels": [
        "3123D52",
        "3123D65",
        "3123D79",
        "3123D80",
        "3123D54",
        "3123D70",
        "3123D7B",
        "3123D89",
        "3123D58",
        "3123D76",
        "3123D7D",
        "3123EFE",
        "3123D64",
        "3123D78",
        "3123D7E",
        "3124E4A"
       ],
       "num_examples_per_domain_per_label": 10000,
       "pickle_path": "/root/csc500-main/datasets/oracle.Run1_10kExamples_stratified_ds.2022A.pkl",
       "source_or_target_dataset": "target",
       "x_transforms": [
        "unit_mag"
       ]
      }
     ],
     "device": "cuda",
     "experiment_name": "tl_1v2:cores-oracle.run1",
     "lr": 0.0001,
     "n_epoch": 50,
     "n_query": 2,
     "n_shot": 3,
     "n_way": 16,
     "patience": 3,
     "seed": 7,
     "test_k_factor": 2,
     "torch_default_dtype": "torch.float32",
     "train_k_factor": 3,
     "val_k_factor": 2,
     "x_net": [
      {
       "class": "nnReshape",
       "kargs": {
        "shape": [
         -1,
         1,
         2,
         256
        ]
       }
      },
      {
       "class": "Conv2d",
       "kargs": {
        "bias": false,
        "in_channels": 1,
        "kernel_size": [
         1,
         7
        ],
        "out_channels": 256,
        "padding": [
         0,
         3
        ]
       }
      },
      {
       "class": "ReLU",
       "kargs": {
        "inplace": true
       }
      },
      {
       "class": "BatchNorm2d",
       "kargs": {
        "num_features": 256
       }
      },
      {
       "class": "Conv2d",
       "kargs": {
        "bias": true,
        "in_channels": 256,
        "kernel_size": [
         2,
         7
        ],
        "out_channels": 80,
        "padding": [
         0,
         3
        ]
       }
      },
      {
       "class": "ReLU",
       "kargs": {
        "inplace": true
       }
      },
      {
       "class": "BatchNorm2d",
       "kargs": {
        "num_features": 80
       }
      },
      {
       "class": "Flatten",
       "kargs": {}
      },
      {
       "class": "Linear",
       "kargs": {
        "in_features": 20480,
        "out_features": 256
       }
      },
      {
       "class": "ReLU",
       "kargs": {
        "inplace": true
       }
      },
      {
       "class": "BatchNorm1d",
       "kargs": {
        "num_features": 256
       }
      },
      {
       "class": "Linear",
       "kargs": {
        "in_features": 256,
        "out_features": 256
       }
      }
     ]
    }
   },
   "start_time": "2022-03-22T20:47:37.084584",
   "version": "2.3.4"
  }
 },
 "nbformat": 4,
 "nbformat_minor": 5
}