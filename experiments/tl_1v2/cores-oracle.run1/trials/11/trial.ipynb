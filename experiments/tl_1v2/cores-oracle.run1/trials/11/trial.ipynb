{
 "cells": [
  {
   "cell_type": "markdown",
   "id": "9fea5f46",
   "metadata": {
    "papermill": {
     "duration": 0.031938,
     "end_time": "2022-03-22T07:48:41.027913",
     "exception": false,
     "start_time": "2022-03-22T07:48:40.995975",
     "status": "completed"
    },
    "tags": []
   },
   "source": [
    "# Transfer Learning Template"
   ]
  },
  {
   "cell_type": "code",
   "execution_count": 1,
   "id": "0902182a",
   "metadata": {
    "execution": {
     "iopub.execute_input": "2022-03-22T07:48:41.088130Z",
     "iopub.status.busy": "2022-03-22T07:48:41.081456Z",
     "iopub.status.idle": "2022-03-22T07:48:42.923169Z",
     "shell.execute_reply": "2022-03-22T07:48:42.922710Z"
    },
    "papermill": {
     "duration": 1.87373,
     "end_time": "2022-03-22T07:48:42.923285",
     "exception": false,
     "start_time": "2022-03-22T07:48:41.049555",
     "status": "completed"
    },
    "tags": []
   },
   "outputs": [],
   "source": [
    "%load_ext autoreload\n",
    "%autoreload 2\n",
    "%matplotlib inline\n",
    "\n",
    "    \n",
    "import os, json, sys, time, random\n",
    "import numpy as np\n",
    "import torch\n",
    "from torch.optim import Adam\n",
    "from  easydict import EasyDict\n",
    "import matplotlib.pyplot as plt\n",
    "\n",
    "from steves_models.steves_ptn import Steves_Prototypical_Network\n",
    "\n",
    "from steves_utils.lazy_iterable_wrapper import Lazy_Iterable_Wrapper\n",
    "from steves_utils.iterable_aggregator import Iterable_Aggregator\n",
    "from steves_utils.ptn_train_eval_test_jig import  PTN_Train_Eval_Test_Jig\n",
    "from steves_utils.torch_sequential_builder import build_sequential\n",
    "from steves_utils.torch_utils import get_dataset_metrics, ptn_confusion_by_domain_over_dataloader\n",
    "from steves_utils.utils_v2 import (per_domain_accuracy_from_confusion, get_datasets_base_path)\n",
    "from steves_utils.PTN.utils import independent_accuracy_assesment\n",
    "\n",
    "from torch.utils.data import DataLoader\n",
    "\n",
    "from steves_utils.stratified_dataset.episodic_accessor import Episodic_Accessor_Factory\n",
    "\n",
    "from steves_utils.ptn_do_report import (\n",
    "    get_loss_curve,\n",
    "    get_results_table,\n",
    "    get_parameters_table,\n",
    "    get_domain_accuracies,\n",
    ")\n",
    "\n",
    "from steves_utils.transforms import get_chained_transform"
   ]
  },
  {
   "cell_type": "markdown",
   "id": "41c840b4",
   "metadata": {
    "papermill": {
     "duration": 0.018975,
     "end_time": "2022-03-22T07:48:42.962093",
     "exception": false,
     "start_time": "2022-03-22T07:48:42.943118",
     "status": "completed"
    },
    "tags": []
   },
   "source": [
    "# Allowed Parameters\n",
    "These are allowed parameters, not defaults\n",
    "Each of these values need to be present in the injected parameters (the notebook will raise an exception if they are not present)\n",
    "\n",
    "Papermill uses the cell tag \"parameters\" to inject the real parameters below this cell.\n",
    "Enable tags to see what I mean"
   ]
  },
  {
   "cell_type": "code",
   "execution_count": 2,
   "id": "fd44eb83",
   "metadata": {
    "execution": {
     "iopub.execute_input": "2022-03-22T07:48:43.003922Z",
     "iopub.status.busy": "2022-03-22T07:48:43.003546Z",
     "iopub.status.idle": "2022-03-22T07:48:43.025816Z",
     "shell.execute_reply": "2022-03-22T07:48:43.026116Z"
    },
    "papermill": {
     "duration": 0.045742,
     "end_time": "2022-03-22T07:48:43.026197",
     "exception": false,
     "start_time": "2022-03-22T07:48:42.980455",
     "status": "completed"
    },
    "tags": []
   },
   "outputs": [],
   "source": [
    "required_parameters = {\n",
    "    \"experiment_name\",\n",
    "    \"lr\",\n",
    "    \"device\",\n",
    "    \"seed\",\n",
    "    \"dataset_seed\",\n",
    "    \"n_shot\",\n",
    "    \"n_query\",\n",
    "    \"n_way\",\n",
    "    \"train_k_factor\",\n",
    "    \"val_k_factor\",\n",
    "    \"test_k_factor\",\n",
    "    \"n_epoch\",\n",
    "    \"patience\",\n",
    "    \"criteria_for_best\",\n",
    "    \"x_net\",\n",
    "    \"datasets\",\n",
    "    \"torch_default_dtype\",\n",
    "    \"NUM_LOGS_PER_EPOCH\",\n",
    "    \"BEST_MODEL_PATH\",\n",
    "    \"x_shape\",\n",
    "}"
   ]
  },
  {
   "cell_type": "code",
   "execution_count": 3,
   "id": "fa3f0049",
   "metadata": {
    "execution": {
     "iopub.execute_input": "2022-03-22T07:48:43.079485Z",
     "iopub.status.busy": "2022-03-22T07:48:43.071900Z",
     "iopub.status.idle": "2022-03-22T07:48:43.098940Z",
     "shell.execute_reply": "2022-03-22T07:48:43.098251Z"
    },
    "papermill": {
     "duration": 0.05386,
     "end_time": "2022-03-22T07:48:43.099087",
     "exception": false,
     "start_time": "2022-03-22T07:48:43.045227",
     "status": "completed"
    },
    "tags": [
     "parameters"
    ]
   },
   "outputs": [],
   "source": [
    "from steves_utils.CORES.utils import (\n",
    "    ALL_NODES,\n",
    "    ALL_NODES_MINIMUM_1000_EXAMPLES,\n",
    "    ALL_DAYS\n",
    ")\n",
    "\n",
    "from steves_utils.ORACLE.utils_v2 import (\n",
    "    ALL_DISTANCES_FEET_NARROWED,\n",
    "    ALL_RUNS,\n",
    "    ALL_SERIAL_NUMBERS,\n",
    ")\n",
    "\n",
    "standalone_parameters = {}\n",
    "standalone_parameters[\"experiment_name\"] = \"STANDALONE PTN\"\n",
    "standalone_parameters[\"lr\"] = 0.001\n",
    "standalone_parameters[\"device\"] = \"cuda\"\n",
    "\n",
    "standalone_parameters[\"seed\"] = 1337\n",
    "standalone_parameters[\"dataset_seed\"] = 1337\n",
    "\n",
    "standalone_parameters[\"n_way\"] = 8\n",
    "standalone_parameters[\"n_shot\"] = 3\n",
    "standalone_parameters[\"n_query\"]  = 2\n",
    "standalone_parameters[\"train_k_factor\"] = 1\n",
    "standalone_parameters[\"val_k_factor\"] = 2\n",
    "standalone_parameters[\"test_k_factor\"] = 2\n",
    "\n",
    "\n",
    "standalone_parameters[\"n_epoch\"] = 50\n",
    "\n",
    "standalone_parameters[\"patience\"] = 10\n",
    "standalone_parameters[\"criteria_for_best\"] = \"source_loss\"\n",
    "\n",
    "standalone_parameters[\"datasets\"] = [\n",
    "    {\n",
    "        \"labels\": ALL_SERIAL_NUMBERS,\n",
    "        \"domains\": ALL_DISTANCES_FEET_NARROWED,\n",
    "        \"num_examples_per_domain_per_label\": 100,\n",
    "        \"pickle_path\": os.path.join(get_datasets_base_path(), \"oracle.Run1_framed_2000Examples_stratified_ds.2022A.pkl\"),\n",
    "        \"source_or_target_dataset\": \"source\",\n",
    "        \"x_transforms\": [\"unit_mag\", \"minus_two\"],\n",
    "        \"episode_transforms\": [],\n",
    "        \"domain_prefix\": \"ORACLE_\"\n",
    "    },\n",
    "    {\n",
    "        \"labels\": ALL_NODES,\n",
    "        \"domains\": ALL_DAYS,\n",
    "        \"num_examples_per_domain_per_label\": 100,\n",
    "        \"pickle_path\": os.path.join(get_datasets_base_path(), \"cores.stratified_ds.2022A.pkl\"),\n",
    "        \"source_or_target_dataset\": \"target\",\n",
    "        \"x_transforms\": [\"unit_power\", \"times_zero\"],\n",
    "        \"episode_transforms\": [],\n",
    "        \"domain_prefix\": \"CORES_\"\n",
    "    }   \n",
    "]\n",
    "\n",
    "standalone_parameters[\"torch_default_dtype\"] = \"torch.float32\" \n",
    "\n",
    "\n",
    "\n",
    "standalone_parameters[\"x_net\"] =     [\n",
    "    {\"class\": \"nnReshape\", \"kargs\": {\"shape\":[-1, 1, 2, 256]}},\n",
    "    {\"class\": \"Conv2d\", \"kargs\": { \"in_channels\":1, \"out_channels\":256, \"kernel_size\":(1,7), \"bias\":False, \"padding\":(0,3), },},\n",
    "    {\"class\": \"ReLU\", \"kargs\": {\"inplace\": True}},\n",
    "    {\"class\": \"BatchNorm2d\", \"kargs\": {\"num_features\":256}},\n",
    "\n",
    "    {\"class\": \"Conv2d\", \"kargs\": { \"in_channels\":256, \"out_channels\":80, \"kernel_size\":(2,7), \"bias\":True, \"padding\":(0,3), },},\n",
    "    {\"class\": \"ReLU\", \"kargs\": {\"inplace\": True}},\n",
    "    {\"class\": \"BatchNorm2d\", \"kargs\": {\"num_features\":80}},\n",
    "    {\"class\": \"Flatten\", \"kargs\": {}},\n",
    "\n",
    "    {\"class\": \"Linear\", \"kargs\": {\"in_features\": 80*256, \"out_features\": 256}}, # 80 units per IQ pair\n",
    "    {\"class\": \"ReLU\", \"kargs\": {\"inplace\": True}},\n",
    "    {\"class\": \"BatchNorm1d\", \"kargs\": {\"num_features\":256}},\n",
    "\n",
    "    {\"class\": \"Linear\", \"kargs\": {\"in_features\": 256, \"out_features\": 256}},\n",
    "]\n",
    "\n",
    "# Parameters relevant to results\n",
    "# These parameters will basically never need to change\n",
    "standalone_parameters[\"NUM_LOGS_PER_EPOCH\"] = 10\n",
    "standalone_parameters[\"BEST_MODEL_PATH\"] = \"./best_model.pth\"\n",
    "\n",
    "\n",
    "\n",
    "\n"
   ]
  },
  {
   "cell_type": "code",
   "execution_count": 4,
   "id": "4cb7e638",
   "metadata": {
    "execution": {
     "iopub.execute_input": "2022-03-22T07:48:43.165307Z",
     "iopub.status.busy": "2022-03-22T07:48:43.152577Z",
     "iopub.status.idle": "2022-03-22T07:48:43.179682Z",
     "shell.execute_reply": "2022-03-22T07:48:43.178952Z"
    },
    "papermill": {
     "duration": 0.05439,
     "end_time": "2022-03-22T07:48:43.179831",
     "exception": false,
     "start_time": "2022-03-22T07:48:43.125441",
     "status": "completed"
    },
    "tags": [
     "injected-parameters"
    ]
   },
   "outputs": [],
   "source": [
    "# Parameters\n",
    "parameters = {\n",
    "    \"experiment_name\": \"tl_1v2:cores-oracle.run1\",\n",
    "    \"device\": \"cuda\",\n",
    "    \"lr\": 0.0001,\n",
    "    \"n_shot\": 3,\n",
    "    \"n_query\": 2,\n",
    "    \"train_k_factor\": 3,\n",
    "    \"val_k_factor\": 2,\n",
    "    \"test_k_factor\": 2,\n",
    "    \"torch_default_dtype\": \"torch.float32\",\n",
    "    \"n_epoch\": 50,\n",
    "    \"patience\": 3,\n",
    "    \"criteria_for_best\": \"target_accuracy\",\n",
    "    \"x_net\": [\n",
    "        {\"class\": \"nnReshape\", \"kargs\": {\"shape\": [-1, 1, 2, 256]}},\n",
    "        {\n",
    "            \"class\": \"Conv2d\",\n",
    "            \"kargs\": {\n",
    "                \"in_channels\": 1,\n",
    "                \"out_channels\": 256,\n",
    "                \"kernel_size\": [1, 7],\n",
    "                \"bias\": False,\n",
    "                \"padding\": [0, 3],\n",
    "            },\n",
    "        },\n",
    "        {\"class\": \"ReLU\", \"kargs\": {\"inplace\": True}},\n",
    "        {\"class\": \"BatchNorm2d\", \"kargs\": {\"num_features\": 256}},\n",
    "        {\n",
    "            \"class\": \"Conv2d\",\n",
    "            \"kargs\": {\n",
    "                \"in_channels\": 256,\n",
    "                \"out_channels\": 80,\n",
    "                \"kernel_size\": [2, 7],\n",
    "                \"bias\": True,\n",
    "                \"padding\": [0, 3],\n",
    "            },\n",
    "        },\n",
    "        {\"class\": \"ReLU\", \"kargs\": {\"inplace\": True}},\n",
    "        {\"class\": \"BatchNorm2d\", \"kargs\": {\"num_features\": 80}},\n",
    "        {\"class\": \"Flatten\", \"kargs\": {}},\n",
    "        {\"class\": \"Linear\", \"kargs\": {\"in_features\": 20480, \"out_features\": 256}},\n",
    "        {\"class\": \"ReLU\", \"kargs\": {\"inplace\": True}},\n",
    "        {\"class\": \"BatchNorm1d\", \"kargs\": {\"num_features\": 256}},\n",
    "        {\"class\": \"Linear\", \"kargs\": {\"in_features\": 256, \"out_features\": 256}},\n",
    "    ],\n",
    "    \"NUM_LOGS_PER_EPOCH\": 10,\n",
    "    \"BEST_MODEL_PATH\": \"./best_model.pth\",\n",
    "    \"n_way\": 16,\n",
    "    \"datasets\": [\n",
    "        {\n",
    "            \"labels\": [\n",
    "                \"1-10.\",\n",
    "                \"1-11.\",\n",
    "                \"1-15.\",\n",
    "                \"1-16.\",\n",
    "                \"1-17.\",\n",
    "                \"1-18.\",\n",
    "                \"1-19.\",\n",
    "                \"10-4.\",\n",
    "                \"10-7.\",\n",
    "                \"11-1.\",\n",
    "                \"11-14.\",\n",
    "                \"11-17.\",\n",
    "                \"11-20.\",\n",
    "                \"11-7.\",\n",
    "                \"13-20.\",\n",
    "                \"13-8.\",\n",
    "                \"14-10.\",\n",
    "                \"14-11.\",\n",
    "                \"14-14.\",\n",
    "                \"14-7.\",\n",
    "                \"15-1.\",\n",
    "                \"15-20.\",\n",
    "                \"16-1.\",\n",
    "                \"16-16.\",\n",
    "                \"17-10.\",\n",
    "                \"17-11.\",\n",
    "                \"17-2.\",\n",
    "                \"19-1.\",\n",
    "                \"19-16.\",\n",
    "                \"19-19.\",\n",
    "                \"19-20.\",\n",
    "                \"19-3.\",\n",
    "                \"2-10.\",\n",
    "                \"2-11.\",\n",
    "                \"2-17.\",\n",
    "                \"2-18.\",\n",
    "                \"2-20.\",\n",
    "                \"2-3.\",\n",
    "                \"2-4.\",\n",
    "                \"2-5.\",\n",
    "                \"2-6.\",\n",
    "                \"2-7.\",\n",
    "                \"2-8.\",\n",
    "                \"3-13.\",\n",
    "                \"3-18.\",\n",
    "                \"3-3.\",\n",
    "                \"4-1.\",\n",
    "                \"4-10.\",\n",
    "                \"4-11.\",\n",
    "                \"4-19.\",\n",
    "                \"5-5.\",\n",
    "                \"6-15.\",\n",
    "                \"7-10.\",\n",
    "                \"7-14.\",\n",
    "                \"8-18.\",\n",
    "                \"8-20.\",\n",
    "                \"8-3.\",\n",
    "                \"8-8.\",\n",
    "            ],\n",
    "            \"domains\": [1, 2, 3, 4, 5],\n",
    "            \"num_examples_per_domain_per_label\": -1,\n",
    "            \"pickle_path\": \"/root/csc500-main/datasets/cores.stratified_ds.2022A.pkl\",\n",
    "            \"source_or_target_dataset\": \"target\",\n",
    "            \"x_transforms\": [],\n",
    "            \"episode_transforms\": [],\n",
    "            \"domain_prefix\": \"CORES_\",\n",
    "        },\n",
    "        {\n",
    "            \"labels\": [\n",
    "                \"3123D52\",\n",
    "                \"3123D65\",\n",
    "                \"3123D79\",\n",
    "                \"3123D80\",\n",
    "                \"3123D54\",\n",
    "                \"3123D70\",\n",
    "                \"3123D7B\",\n",
    "                \"3123D89\",\n",
    "                \"3123D58\",\n",
    "                \"3123D76\",\n",
    "                \"3123D7D\",\n",
    "                \"3123EFE\",\n",
    "                \"3123D64\",\n",
    "                \"3123D78\",\n",
    "                \"3123D7E\",\n",
    "                \"3124E4A\",\n",
    "            ],\n",
    "            \"domains\": [32, 38, 8, 44, 14, 50, 20, 26],\n",
    "            \"num_examples_per_domain_per_label\": 10000,\n",
    "            \"pickle_path\": \"/root/csc500-main/datasets/oracle.Run1_10kExamples_stratified_ds.2022A.pkl\",\n",
    "            \"source_or_target_dataset\": \"source\",\n",
    "            \"x_transforms\": [],\n",
    "            \"episode_transforms\": [],\n",
    "            \"domain_prefix\": \"ORACLE.run1_\",\n",
    "        },\n",
    "    ],\n",
    "    \"dataset_seed\": 420,\n",
    "    \"seed\": 420,\n",
    "}\n"
   ]
  },
  {
   "cell_type": "code",
   "execution_count": 5,
   "id": "8fa1cc33",
   "metadata": {
    "execution": {
     "iopub.execute_input": "2022-03-22T07:48:43.232294Z",
     "iopub.status.busy": "2022-03-22T07:48:43.231854Z",
     "iopub.status.idle": "2022-03-22T07:48:43.253027Z",
     "shell.execute_reply": "2022-03-22T07:48:43.252237Z"
    },
    "papermill": {
     "duration": 0.047182,
     "end_time": "2022-03-22T07:48:43.253175",
     "exception": false,
     "start_time": "2022-03-22T07:48:43.205993",
     "status": "completed"
    },
    "tags": []
   },
   "outputs": [],
   "source": [
    "# Set this to True if you want to run this template directly\n",
    "STANDALONE = False\n",
    "if STANDALONE:\n",
    "    print(\"parameters not injected, running with standalone_parameters\")\n",
    "    parameters = standalone_parameters\n",
    "\n",
    "if not 'parameters' in locals() and not 'parameters' in globals():\n",
    "    raise Exception(\"Parameter injection failed\")\n",
    "\n",
    "#Use an easy dict for all the parameters\n",
    "p = EasyDict(parameters)\n",
    "\n",
    "if \"x_shape\" not in p:\n",
    "    p.x_shape = [2,256] # Default to this if we dont supply x_shape\n",
    "\n",
    "\n",
    "supplied_keys = set(p.keys())\n",
    "\n",
    "if  supplied_keys != required_parameters:\n",
    "    print(\"Parameters are incorrect\")\n",
    "    if len(supplied_keys - required_parameters)>0: print(\"Shouldn't have:\", str(supplied_keys - required_parameters))\n",
    "    if len(required_parameters - supplied_keys)>0: print(\"Need to have:\", str(required_parameters - supplied_keys))\n",
    "    raise RuntimeError(\"Parameters are incorrect\")"
   ]
  },
  {
   "cell_type": "code",
   "execution_count": 6,
   "id": "3a028d58",
   "metadata": {
    "execution": {
     "iopub.execute_input": "2022-03-22T07:48:43.306949Z",
     "iopub.status.busy": "2022-03-22T07:48:43.304467Z",
     "iopub.status.idle": "2022-03-22T07:48:43.326802Z",
     "shell.execute_reply": "2022-03-22T07:48:43.325975Z"
    },
    "papermill": {
     "duration": 0.04674,
     "end_time": "2022-03-22T07:48:43.326955",
     "exception": false,
     "start_time": "2022-03-22T07:48:43.280215",
     "status": "completed"
    },
    "tags": []
   },
   "outputs": [],
   "source": [
    "###################################\n",
    "# Set the RNGs and make it all deterministic\n",
    "###################################\n",
    "np.random.seed(p.seed)\n",
    "random.seed(p.seed)\n",
    "torch.manual_seed(p.seed)\n",
    "\n",
    "torch.use_deterministic_algorithms(True) "
   ]
  },
  {
   "cell_type": "code",
   "execution_count": 7,
   "id": "b691acf6",
   "metadata": {
    "execution": {
     "iopub.execute_input": "2022-03-22T07:48:43.378771Z",
     "iopub.status.busy": "2022-03-22T07:48:43.378050Z",
     "iopub.status.idle": "2022-03-22T07:48:43.400821Z",
     "shell.execute_reply": "2022-03-22T07:48:43.400015Z"
    },
    "papermill": {
     "duration": 0.046465,
     "end_time": "2022-03-22T07:48:43.400970",
     "exception": false,
     "start_time": "2022-03-22T07:48:43.354505",
     "status": "completed"
    },
    "tags": []
   },
   "outputs": [],
   "source": [
    "###########################################\n",
    "# The stratified datasets honor this\n",
    "###########################################\n",
    "torch.set_default_dtype(eval(p.torch_default_dtype))"
   ]
  },
  {
   "cell_type": "code",
   "execution_count": 8,
   "id": "b5fba671",
   "metadata": {
    "execution": {
     "iopub.execute_input": "2022-03-22T07:48:43.451817Z",
     "iopub.status.busy": "2022-03-22T07:48:43.451421Z",
     "iopub.status.idle": "2022-03-22T07:48:43.501834Z",
     "shell.execute_reply": "2022-03-22T07:48:43.501136Z"
    },
    "papermill": {
     "duration": 0.072722,
     "end_time": "2022-03-22T07:48:43.501982",
     "exception": false,
     "start_time": "2022-03-22T07:48:43.429260",
     "status": "completed"
    },
    "tags": []
   },
   "outputs": [],
   "source": [
    "###################################\n",
    "# Build the network(s)\n",
    "# Note: It's critical to do this AFTER setting the RNG\n",
    "###################################\n",
    "x_net = build_sequential(p.x_net)"
   ]
  },
  {
   "cell_type": "code",
   "execution_count": 9,
   "id": "5d7e61cc",
   "metadata": {
    "execution": {
     "iopub.execute_input": "2022-03-22T07:48:43.551997Z",
     "iopub.status.busy": "2022-03-22T07:48:43.551636Z",
     "iopub.status.idle": "2022-03-22T07:48:43.578581Z",
     "shell.execute_reply": "2022-03-22T07:48:43.577774Z"
    },
    "papermill": {
     "duration": 0.050944,
     "end_time": "2022-03-22T07:48:43.578732",
     "exception": false,
     "start_time": "2022-03-22T07:48:43.527788",
     "status": "completed"
    },
    "tags": []
   },
   "outputs": [],
   "source": [
    "start_time_secs = time.time()"
   ]
  },
  {
   "cell_type": "code",
   "execution_count": 10,
   "id": "c6b67dfd",
   "metadata": {
    "execution": {
     "iopub.execute_input": "2022-03-22T07:48:43.630497Z",
     "iopub.status.busy": "2022-03-22T07:48:43.630131Z",
     "iopub.status.idle": "2022-03-22T07:48:43.651933Z",
     "shell.execute_reply": "2022-03-22T07:48:43.651105Z"
    },
    "papermill": {
     "duration": 0.045372,
     "end_time": "2022-03-22T07:48:43.652086",
     "exception": false,
     "start_time": "2022-03-22T07:48:43.606714",
     "status": "completed"
    },
    "tags": []
   },
   "outputs": [],
   "source": [
    "p.domains_source = []\n",
    "p.domains_target = []\n",
    "\n",
    "\n",
    "train_original_source = []\n",
    "val_original_source   = []\n",
    "test_original_source  = []\n",
    "\n",
    "train_original_target = []\n",
    "val_original_target   = []\n",
    "test_original_target  = []"
   ]
  },
  {
   "cell_type": "code",
   "execution_count": 11,
   "id": "e3d9c3d3",
   "metadata": {
    "execution": {
     "iopub.execute_input": "2022-03-22T07:48:43.704696Z",
     "iopub.status.busy": "2022-03-22T07:48:43.704142Z",
     "iopub.status.idle": "2022-03-22T07:48:43.721574Z",
     "shell.execute_reply": "2022-03-22T07:48:43.720764Z"
    },
    "papermill": {
     "duration": 0.040141,
     "end_time": "2022-03-22T07:48:43.721726",
     "exception": false,
     "start_time": "2022-03-22T07:48:43.681585",
     "status": "completed"
    },
    "tags": []
   },
   "outputs": [],
   "source": [
    "# global_x_transform_func = lambda x: normalize(x.to(torch.get_default_dtype()), \"unit_power\") # unit_power, unit_mag\n",
    "# global_x_transform_func = lambda x: normalize(x, \"unit_power\") # unit_power, unit_mag"
   ]
  },
  {
   "cell_type": "code",
   "execution_count": 12,
   "id": "acb78fd2",
   "metadata": {
    "execution": {
     "iopub.execute_input": "2022-03-22T07:48:43.781919Z",
     "iopub.status.busy": "2022-03-22T07:48:43.781060Z",
     "iopub.status.idle": "2022-03-22T07:48:43.799143Z",
     "shell.execute_reply": "2022-03-22T07:48:43.798336Z"
    },
    "papermill": {
     "duration": 0.051366,
     "end_time": "2022-03-22T07:48:43.799294",
     "exception": false,
     "start_time": "2022-03-22T07:48:43.747928",
     "status": "completed"
    },
    "tags": []
   },
   "outputs": [],
   "source": [
    "def add_dataset(\n",
    "    labels,\n",
    "    domains,\n",
    "    pickle_path,\n",
    "    x_transforms,\n",
    "    episode_transforms,\n",
    "    domain_prefix,\n",
    "    num_examples_per_domain_per_label,\n",
    "    source_or_target_dataset:str,\n",
    "    iterator_seed=p.seed,\n",
    "    dataset_seed=p.dataset_seed,\n",
    "    n_shot=p.n_shot,\n",
    "    n_way=p.n_way,\n",
    "    n_query=p.n_query,\n",
    "    train_val_test_k_factors=(p.train_k_factor,p.val_k_factor,p.test_k_factor),\n",
    "):\n",
    "   \n",
    "    if x_transforms == []: x_transform = None\n",
    "    else: x_transform = get_chained_transform(x_transforms)\n",
    "    \n",
    "    if episode_transforms == []: episode_transform = None\n",
    "    else: raise Exception(\"episode_transforms not implemented\")\n",
    "    \n",
    "    episode_transform = lambda tup, _prefix=domain_prefix: (_prefix + str(tup[0]), tup[1])\n",
    "\n",
    "\n",
    "    eaf = Episodic_Accessor_Factory(\n",
    "        labels=labels,\n",
    "        domains=domains,\n",
    "        num_examples_per_domain_per_label=num_examples_per_domain_per_label,\n",
    "        iterator_seed=iterator_seed,\n",
    "        dataset_seed=dataset_seed,\n",
    "        n_shot=n_shot,\n",
    "        n_way=n_way,\n",
    "        n_query=n_query,\n",
    "        train_val_test_k_factors=train_val_test_k_factors,\n",
    "        pickle_path=pickle_path,\n",
    "        x_transform_func=x_transform,\n",
    "    )\n",
    "\n",
    "    train, val, test = eaf.get_train(), eaf.get_val(), eaf.get_test()\n",
    "    train = Lazy_Iterable_Wrapper(train, episode_transform)\n",
    "    val = Lazy_Iterable_Wrapper(val, episode_transform)\n",
    "    test = Lazy_Iterable_Wrapper(test, episode_transform)\n",
    "\n",
    "    if source_or_target_dataset==\"source\":\n",
    "        train_original_source.append(train)\n",
    "        val_original_source.append(val)\n",
    "        test_original_source.append(test)\n",
    "\n",
    "        p.domains_source.extend(\n",
    "            [domain_prefix + str(u) for u in domains]\n",
    "        )\n",
    "    elif source_or_target_dataset==\"target\":\n",
    "        train_original_target.append(train)\n",
    "        val_original_target.append(val)\n",
    "        test_original_target.append(test)\n",
    "        p.domains_target.extend(\n",
    "            [domain_prefix + str(u) for u in domains]\n",
    "        )\n",
    "    else:\n",
    "        raise Exception(f\"invalid source_or_target_dataset: {source_or_target_dataset}\")\n",
    "    "
   ]
  },
  {
   "cell_type": "code",
   "execution_count": 13,
   "id": "fe266617",
   "metadata": {
    "execution": {
     "iopub.execute_input": "2022-03-22T07:48:43.854047Z",
     "iopub.status.busy": "2022-03-22T07:48:43.853137Z",
     "iopub.status.idle": "2022-03-22T07:48:54.945601Z",
     "shell.execute_reply": "2022-03-22T07:48:54.944861Z"
    },
    "papermill": {
     "duration": 11.11641,
     "end_time": "2022-03-22T07:48:54.945790",
     "exception": false,
     "start_time": "2022-03-22T07:48:43.829380",
     "status": "completed"
    },
    "tags": []
   },
   "outputs": [],
   "source": [
    "for ds in p.datasets:\n",
    "    add_dataset(**ds)"
   ]
  },
  {
   "cell_type": "code",
   "execution_count": 14,
   "id": "b90d65ac",
   "metadata": {
    "execution": {
     "iopub.execute_input": "2022-03-22T07:48:54.998141Z",
     "iopub.status.busy": "2022-03-22T07:48:54.997770Z",
     "iopub.status.idle": "2022-03-22T07:48:55.025965Z",
     "shell.execute_reply": "2022-03-22T07:48:55.025163Z"
    },
    "papermill": {
     "duration": 0.051237,
     "end_time": "2022-03-22T07:48:55.026116",
     "exception": false,
     "start_time": "2022-03-22T07:48:54.974879",
     "status": "completed"
    },
    "tags": []
   },
   "outputs": [],
   "source": [
    "# from steves_utils.CORES.utils import (\n",
    "#     ALL_NODES,\n",
    "#     ALL_NODES_MINIMUM_1000_EXAMPLES,\n",
    "#     ALL_DAYS\n",
    "# )\n",
    "\n",
    "# add_dataset(\n",
    "#     labels=ALL_NODES,\n",
    "#     domains = ALL_DAYS,\n",
    "#     num_examples_per_domain_per_label=100,\n",
    "#     pickle_path=os.path.join(get_datasets_base_path(), \"cores.stratified_ds.2022A.pkl\"),\n",
    "#     source_or_target_dataset=\"target\",\n",
    "#     x_transform_func=global_x_transform_func,\n",
    "#     domain_modifier=lambda u: f\"cores_{u}\"\n",
    "# )"
   ]
  },
  {
   "cell_type": "code",
   "execution_count": 15,
   "id": "76db484d",
   "metadata": {
    "execution": {
     "iopub.execute_input": "2022-03-22T07:48:55.077460Z",
     "iopub.status.busy": "2022-03-22T07:48:55.076611Z",
     "iopub.status.idle": "2022-03-22T07:48:55.103221Z",
     "shell.execute_reply": "2022-03-22T07:48:55.102402Z"
    },
    "papermill": {
     "duration": 0.050916,
     "end_time": "2022-03-22T07:48:55.103391",
     "exception": false,
     "start_time": "2022-03-22T07:48:55.052475",
     "status": "completed"
    },
    "tags": []
   },
   "outputs": [],
   "source": [
    "# from steves_utils.ORACLE.utils_v2 import (\n",
    "#     ALL_DISTANCES_FEET,\n",
    "#     ALL_RUNS,\n",
    "#     ALL_SERIAL_NUMBERS,\n",
    "# )\n",
    "\n",
    "\n",
    "# add_dataset(\n",
    "#     labels=ALL_SERIAL_NUMBERS,\n",
    "#     domains = list(set(ALL_DISTANCES_FEET) - {2,62}),\n",
    "#     num_examples_per_domain_per_label=100,\n",
    "#     pickle_path=os.path.join(get_datasets_base_path(), \"oracle.Run2_framed_2000Examples_stratified_ds.2022A.pkl\"),\n",
    "#     source_or_target_dataset=\"source\",\n",
    "#     x_transform_func=global_x_transform_func,\n",
    "#     domain_modifier=lambda u: f\"oracle1_{u}\"\n",
    "# )\n"
   ]
  },
  {
   "cell_type": "code",
   "execution_count": 16,
   "id": "97dea9d2",
   "metadata": {
    "execution": {
     "iopub.execute_input": "2022-03-22T07:48:55.153498Z",
     "iopub.status.busy": "2022-03-22T07:48:55.153124Z",
     "iopub.status.idle": "2022-03-22T07:48:55.174634Z",
     "shell.execute_reply": "2022-03-22T07:48:55.173821Z"
    },
    "papermill": {
     "duration": 0.045097,
     "end_time": "2022-03-22T07:48:55.174803",
     "exception": false,
     "start_time": "2022-03-22T07:48:55.129706",
     "status": "completed"
    },
    "tags": []
   },
   "outputs": [],
   "source": [
    "# from steves_utils.ORACLE.utils_v2 import (\n",
    "#     ALL_DISTANCES_FEET,\n",
    "#     ALL_RUNS,\n",
    "#     ALL_SERIAL_NUMBERS,\n",
    "# )\n",
    "\n",
    "\n",
    "# add_dataset(\n",
    "#     labels=ALL_SERIAL_NUMBERS,\n",
    "#     domains = list(set(ALL_DISTANCES_FEET) - {2,62,56}),\n",
    "#     num_examples_per_domain_per_label=100,\n",
    "#     pickle_path=os.path.join(get_datasets_base_path(), \"oracle.Run2_framed_2000Examples_stratified_ds.2022A.pkl\"),\n",
    "#     source_or_target_dataset=\"source\",\n",
    "#     x_transform_func=global_x_transform_func,\n",
    "#     domain_modifier=lambda u: f\"oracle2_{u}\"\n",
    "# )"
   ]
  },
  {
   "cell_type": "code",
   "execution_count": 17,
   "id": "6f289866",
   "metadata": {
    "execution": {
     "iopub.execute_input": "2022-03-22T07:48:55.227822Z",
     "iopub.status.busy": "2022-03-22T07:48:55.227341Z",
     "iopub.status.idle": "2022-03-22T07:48:55.250845Z",
     "shell.execute_reply": "2022-03-22T07:48:55.250032Z"
    },
    "papermill": {
     "duration": 0.047671,
     "end_time": "2022-03-22T07:48:55.251007",
     "exception": false,
     "start_time": "2022-03-22T07:48:55.203336",
     "status": "completed"
    },
    "tags": []
   },
   "outputs": [],
   "source": [
    "# add_dataset(\n",
    "#     labels=list(range(19)),\n",
    "#     domains = [0,1,2],\n",
    "#     num_examples_per_domain_per_label=100,\n",
    "#     pickle_path=os.path.join(get_datasets_base_path(), \"metehan.stratified_ds.2022A.pkl\"),\n",
    "#     source_or_target_dataset=\"target\",\n",
    "#     x_transform_func=global_x_transform_func,\n",
    "#     domain_modifier=lambda u: f\"met_{u}\"\n",
    "# )"
   ]
  },
  {
   "cell_type": "code",
   "execution_count": 18,
   "id": "86a863c3",
   "metadata": {
    "execution": {
     "iopub.execute_input": "2022-03-22T07:48:55.300773Z",
     "iopub.status.busy": "2022-03-22T07:48:55.300400Z",
     "iopub.status.idle": "2022-03-22T07:48:55.322191Z",
     "shell.execute_reply": "2022-03-22T07:48:55.321394Z"
    },
    "papermill": {
     "duration": 0.044926,
     "end_time": "2022-03-22T07:48:55.322342",
     "exception": false,
     "start_time": "2022-03-22T07:48:55.277416",
     "status": "completed"
    },
    "tags": []
   },
   "outputs": [],
   "source": [
    "# # from steves_utils.wisig.utils import (\n",
    "# #     ALL_NODES_MINIMUM_100_EXAMPLES,\n",
    "# #     ALL_NODES_MINIMUM_500_EXAMPLES,\n",
    "# #     ALL_NODES_MINIMUM_1000_EXAMPLES,\n",
    "# #     ALL_DAYS\n",
    "# # )\n",
    "\n",
    "# import steves_utils.wisig.utils as wisig\n",
    "\n",
    "\n",
    "# add_dataset(\n",
    "#     labels=wisig.ALL_NODES_MINIMUM_100_EXAMPLES,\n",
    "#     domains = wisig.ALL_DAYS,\n",
    "#     num_examples_per_domain_per_label=100,\n",
    "#     pickle_path=os.path.join(get_datasets_base_path(), \"wisig.node3-19.stratified_ds.2022A.pkl\"),\n",
    "#     source_or_target_dataset=\"target\",\n",
    "#     x_transform_func=global_x_transform_func,\n",
    "#     domain_modifier=lambda u: f\"wisig_{u}\"\n",
    "# )"
   ]
  },
  {
   "cell_type": "code",
   "execution_count": 19,
   "id": "fd5442bc",
   "metadata": {
    "execution": {
     "iopub.execute_input": "2022-03-22T07:48:55.374170Z",
     "iopub.status.busy": "2022-03-22T07:48:55.373784Z",
     "iopub.status.idle": "2022-03-22T07:48:55.392748Z",
     "shell.execute_reply": "2022-03-22T07:48:55.391935Z"
    },
    "papermill": {
     "duration": 0.04438,
     "end_time": "2022-03-22T07:48:55.392899",
     "exception": false,
     "start_time": "2022-03-22T07:48:55.348519",
     "status": "completed"
    },
    "tags": []
   },
   "outputs": [],
   "source": [
    "###################################\n",
    "# Build the dataset\n",
    "###################################\n",
    "train_original_source = Iterable_Aggregator(train_original_source, p.seed)\n",
    "val_original_source = Iterable_Aggregator(val_original_source, p.seed)\n",
    "test_original_source = Iterable_Aggregator(test_original_source, p.seed)\n",
    "\n",
    "\n",
    "train_original_target = Iterable_Aggregator(train_original_target, p.seed)\n",
    "val_original_target = Iterable_Aggregator(val_original_target, p.seed)\n",
    "test_original_target = Iterable_Aggregator(test_original_target, p.seed)\n",
    "\n",
    "# For CNN We only use X and Y. And we only train on the source.\n",
    "# Properly form the data using a transform lambda and Lazy_Iterable_Wrapper. Finally wrap them in a dataloader\n",
    "\n",
    "transform_lambda = lambda ex: ex[1] # Original is (<domain>, <episode>) so we strip down to episode only\n",
    "\n",
    "train_processed_source = Lazy_Iterable_Wrapper(train_original_source, transform_lambda)\n",
    "val_processed_source   = Lazy_Iterable_Wrapper(val_original_source, transform_lambda)\n",
    "test_processed_source  = Lazy_Iterable_Wrapper(test_original_source, transform_lambda)\n",
    "\n",
    "train_processed_target = Lazy_Iterable_Wrapper(train_original_target, transform_lambda)\n",
    "val_processed_target   = Lazy_Iterable_Wrapper(val_original_target, transform_lambda)\n",
    "test_processed_target  = Lazy_Iterable_Wrapper(test_original_target, transform_lambda)\n",
    "\n",
    "datasets = EasyDict({\n",
    "    \"source\": {\n",
    "        \"original\": {\"train\":train_original_source, \"val\":val_original_source, \"test\":test_original_source},\n",
    "        \"processed\": {\"train\":train_processed_source, \"val\":val_processed_source, \"test\":test_processed_source}\n",
    "    },\n",
    "    \"target\": {\n",
    "        \"original\": {\"train\":train_original_target, \"val\":val_original_target, \"test\":test_original_target},\n",
    "        \"processed\": {\"train\":train_processed_target, \"val\":val_processed_target, \"test\":test_processed_target}\n",
    "    },\n",
    "})"
   ]
  },
  {
   "cell_type": "code",
   "execution_count": 20,
   "id": "5b3c01fc",
   "metadata": {
    "execution": {
     "iopub.execute_input": "2022-03-22T07:48:55.444335Z",
     "iopub.status.busy": "2022-03-22T07:48:55.443968Z",
     "iopub.status.idle": "2022-03-22T07:49:27.629691Z",
     "shell.execute_reply": "2022-03-22T07:49:27.629316Z"
    },
    "papermill": {
     "duration": 32.209731,
     "end_time": "2022-03-22T07:49:27.629824",
     "exception": false,
     "start_time": "2022-03-22T07:48:55.420093",
     "status": "completed"
    },
    "tags": []
   },
   "outputs": [
    {
     "name": "stdout",
     "output_type": "stream",
     "text": [
      "{'ORACLE.run1_38', 'ORACLE.run1_50', 'ORACLE.run1_14', 'ORACLE.run1_32', 'ORACLE.run1_44', 'ORACLE.run1_26', 'ORACLE.run1_20', 'ORACLE.run1_8'}\n"
     ]
    },
    {
     "name": "stdout",
     "output_type": "stream",
     "text": [
      "{'CORES_5', 'CORES_4', 'CORES_3', 'CORES_1', 'CORES_2'}\n"
     ]
    },
    {
     "name": "stdout",
     "output_type": "stream",
     "text": [
      "tensor([[[ 6.7141e-04,  5.7985e-04, -4.0284e-03,  ..., -1.8311e-04,\n",
      "           3.0213e-03, -3.6622e-04],\n",
      "         [ 8.2400e-04,  1.1902e-03, -1.3428e-03,  ..., -3.4486e-03,\n",
      "          -1.8311e-03,  6.1037e-04]],\n",
      "\n",
      "        [[-3.1129e-03, -3.5096e-03,  1.3428e-03,  ..., -3.2350e-03,\n",
      "           5.1881e-04,  3.7233e-03],\n",
      "         [-3.3876e-03,  1.3428e-03, -2.4415e-03,  ..., -3.7538e-03,\n",
      "          -2.5941e-03, -1.8921e-03]],\n",
      "\n",
      "        [[ 1.2207e-04, -2.6246e-03,  1.3733e-03,  ...,  5.7985e-04,\n",
      "           1.2513e-03,  4.8830e-04],\n",
      "         [ 4.3947e-03, -1.9227e-03, -2.1363e-04,  ..., -1.5259e-04,\n",
      "          -7.3244e-04, -2.6856e-03]],\n",
      "\n",
      "        ...,\n",
      "\n",
      "        [[ 5.1576e-03, -2.8687e-03, -5.0661e-03,  ...,  3.6622e-04,\n",
      "          -4.7914e-03, -1.2818e-03],\n",
      "         [ 4.5473e-03, -1.6175e-03, -2.8382e-03,  ...,  4.6083e-03,\n",
      "           3.0213e-03,  1.0376e-03]],\n",
      "\n",
      "        [[ 3.1434e-03,  2.1363e-04, -7.0193e-04,  ..., -6.1647e-03,\n",
      "          -3.8453e-03, -2.1973e-03],\n",
      "         [-3.0519e-03,  1.4649e-03, -1.1292e-03,  ...,  1.3428e-03,\n",
      "           7.0193e-04,  2.5025e-03]],\n",
      "\n",
      "        [[ 5.4933e-04,  5.6154e-03,  2.4720e-03,  ..., -1.9837e-03,\n",
      "          -7.7822e-03, -3.1739e-03],\n",
      "         [ 1.6480e-03, -3.2960e-03, -3.0519e-03,  ..., -2.1668e-03,\n",
      "           9.1556e-05, -3.2960e-03]]])\n"
     ]
    }
   ],
   "source": [
    "from steves_utils.transforms import get_average_magnitude, get_average_power\n",
    "\n",
    "print(set([u for u,_ in val_original_source]))\n",
    "print(set([u for u,_ in val_original_target]))\n",
    "\n",
    "s_x, s_y, q_x, q_y, _ = next(iter(train_processed_source))\n",
    "print(s_x)\n",
    "\n",
    "# for ds in [\n",
    "#     train_processed_source,\n",
    "#     val_processed_source,\n",
    "#     test_processed_source,\n",
    "#     train_processed_target,\n",
    "#     val_processed_target,\n",
    "#     test_processed_target\n",
    "# ]:\n",
    "#     for s_x, s_y, q_x, q_y, _ in ds:\n",
    "#         for X in (s_x, q_x):\n",
    "#             for x in X:\n",
    "#                 assert np.isclose(get_average_magnitude(x.numpy()), 1.0)\n",
    "#                 assert np.isclose(get_average_power(x.numpy()), 1.0)\n",
    "                "
   ]
  },
  {
   "cell_type": "code",
   "execution_count": 21,
   "id": "bbdacba1",
   "metadata": {
    "execution": {
     "iopub.execute_input": "2022-03-22T07:49:27.680626Z",
     "iopub.status.busy": "2022-03-22T07:49:27.680183Z",
     "iopub.status.idle": "2022-03-22T07:49:27.882910Z",
     "shell.execute_reply": "2022-03-22T07:49:27.883239Z"
    },
    "papermill": {
     "duration": 0.230272,
     "end_time": "2022-03-22T07:49:27.883383",
     "exception": false,
     "start_time": "2022-03-22T07:49:27.653111",
     "status": "completed"
    },
    "tags": []
   },
   "outputs": [
    {
     "name": "stdout",
     "output_type": "stream",
     "text": [
      "(2, 256)\n"
     ]
    }
   ],
   "source": [
    "###################################\n",
    "# Build the model\n",
    "###################################\n",
    "# easfsl only wants a tuple for the shape\n",
    "model = Steves_Prototypical_Network(x_net, device=p.device, x_shape=tuple(p.x_shape))\n",
    "optimizer = Adam(params=model.parameters(), lr=p.lr)"
   ]
  },
  {
   "cell_type": "code",
   "execution_count": 22,
   "id": "22b39ac5",
   "metadata": {
    "execution": {
     "iopub.execute_input": "2022-03-22T07:49:27.942654Z",
     "iopub.status.busy": "2022-03-22T07:49:27.942102Z",
     "iopub.status.idle": "2022-03-22T09:38:33.973643Z",
     "shell.execute_reply": "2022-03-22T09:38:33.973301Z"
    },
    "papermill": {
     "duration": 6546.067195,
     "end_time": "2022-03-22T09:38:33.973730",
     "exception": false,
     "start_time": "2022-03-22T07:49:27.906535",
     "status": "completed"
    },
    "tags": []
   },
   "outputs": [
    {
     "name": "stdout",
     "output_type": "stream",
     "text": [
      "epoch: 1, [batch: 1 / 33600], examples_per_second: 6.6259, train_label_loss: 2.7102, \n"
     ]
    },
    {
     "name": "stdout",
     "output_type": "stream",
     "text": [
      "epoch: 1, [batch: 3360 / 33600], examples_per_second: 2961.3692, train_label_loss: 1.6411, \n"
     ]
    },
    {
     "name": "stdout",
     "output_type": "stream",
     "text": [
      "epoch: 1, [batch: 6720 / 33600], examples_per_second: 3283.3505, train_label_loss: 1.1501, \n"
     ]
    },
    {
     "name": "stdout",
     "output_type": "stream",
     "text": [
      "epoch: 1, [batch: 10080 / 33600], examples_per_second: 3103.7671, train_label_loss: 0.5994, \n"
     ]
    },
    {
     "name": "stdout",
     "output_type": "stream",
     "text": [
      "epoch: 1, [batch: 13440 / 33600], examples_per_second: 3031.5569, train_label_loss: 0.5839, \n"
     ]
    },
    {
     "name": "stdout",
     "output_type": "stream",
     "text": [
      "epoch: 1, [batch: 16800 / 33600], examples_per_second: 3353.5730, train_label_loss: 0.4204, \n"
     ]
    },
    {
     "name": "stdout",
     "output_type": "stream",
     "text": [
      "epoch: 1, [batch: 20160 / 33600], examples_per_second: 2968.3360, train_label_loss: 0.7932, \n"
     ]
    },
    {
     "name": "stdout",
     "output_type": "stream",
     "text": [
      "epoch: 1, [batch: 23520 / 33600], examples_per_second: 3330.4079, train_label_loss: 0.2815, \n"
     ]
    },
    {
     "name": "stdout",
     "output_type": "stream",
     "text": [
      "epoch: 1, [batch: 26880 / 33600], examples_per_second: 3077.1422, train_label_loss: 0.1786, \n"
     ]
    },
    {
     "name": "stdout",
     "output_type": "stream",
     "text": [
      "epoch: 1, [batch: 30240 / 33600], examples_per_second: 3138.9438, train_label_loss: 0.1142, \n"
     ]
    },
    {
     "name": "stdout",
     "output_type": "stream",
     "text": [
      "=============================================================\n",
      "epoch: 1, source_val_acc_label: 0.7421, target_val_acc_label: 0.9465, source_val_label_loss: 1.8515, target_val_label_loss: 19.7072, \n",
      "=============================================================\n"
     ]
    },
    {
     "name": "stdout",
     "output_type": "stream",
     "text": [
      "New best\n"
     ]
    },
    {
     "name": "stdout",
     "output_type": "stream",
     "text": [
      "epoch: 2, [batch: 1 / 33600], examples_per_second: 0.7796, train_label_loss: 0.3631, \n"
     ]
    },
    {
     "name": "stdout",
     "output_type": "stream",
     "text": [
      "epoch: 2, [batch: 3360 / 33600], examples_per_second: 3246.4972, train_label_loss: 0.4209, \n"
     ]
    },
    {
     "name": "stdout",
     "output_type": "stream",
     "text": [
      "epoch: 2, [batch: 6720 / 33600], examples_per_second: 3127.4682, train_label_loss: 0.5275, \n"
     ]
    },
    {
     "name": "stdout",
     "output_type": "stream",
     "text": [
      "epoch: 2, [batch: 10080 / 33600], examples_per_second: 3565.6890, train_label_loss: 0.5343, \n"
     ]
    },
    {
     "name": "stdout",
     "output_type": "stream",
     "text": [
      "epoch: 2, [batch: 13440 / 33600], examples_per_second: 3603.0527, train_label_loss: 0.4881, \n"
     ]
    },
    {
     "name": "stdout",
     "output_type": "stream",
     "text": [
      "epoch: 2, [batch: 16800 / 33600], examples_per_second: 3909.0846, train_label_loss: 0.2715, \n"
     ]
    },
    {
     "name": "stdout",
     "output_type": "stream",
     "text": [
      "epoch: 2, [batch: 20160 / 33600], examples_per_second: 3483.3089, train_label_loss: 0.3314, \n"
     ]
    },
    {
     "name": "stdout",
     "output_type": "stream",
     "text": [
      "epoch: 2, [batch: 23520 / 33600], examples_per_second: 2976.7057, train_label_loss: 0.1076, \n"
     ]
    },
    {
     "name": "stdout",
     "output_type": "stream",
     "text": [
      "epoch: 2, [batch: 26880 / 33600], examples_per_second: 3454.0915, train_label_loss: 0.1602, \n"
     ]
    },
    {
     "name": "stdout",
     "output_type": "stream",
     "text": [
      "epoch: 2, [batch: 30240 / 33600], examples_per_second: 2982.6869, train_label_loss: 0.3168, \n"
     ]
    },
    {
     "name": "stdout",
     "output_type": "stream",
     "text": [
      "=============================================================\n",
      "epoch: 2, source_val_acc_label: 0.8660, target_val_acc_label: 0.9896, source_val_label_loss: 0.3740, target_val_label_loss: 2.0834, \n",
      "=============================================================\n"
     ]
    },
    {
     "name": "stdout",
     "output_type": "stream",
     "text": [
      "New best\n"
     ]
    },
    {
     "name": "stdout",
     "output_type": "stream",
     "text": [
      "epoch: 3, [batch: 1 / 33600], examples_per_second: 0.7976, train_label_loss: 0.5059, \n"
     ]
    },
    {
     "name": "stdout",
     "output_type": "stream",
     "text": [
      "epoch: 3, [batch: 3360 / 33600], examples_per_second: 3298.2368, train_label_loss: 0.7412, \n"
     ]
    },
    {
     "name": "stdout",
     "output_type": "stream",
     "text": [
      "epoch: 3, [batch: 6720 / 33600], examples_per_second: 3149.9824, train_label_loss: 0.4553, \n"
     ]
    },
    {
     "name": "stdout",
     "output_type": "stream",
     "text": [
      "epoch: 3, [batch: 10080 / 33600], examples_per_second: 3081.6125, train_label_loss: 0.3294, \n"
     ]
    },
    {
     "name": "stdout",
     "output_type": "stream",
     "text": [
      "epoch: 3, [batch: 13440 / 33600], examples_per_second: 3398.0311, train_label_loss: 0.1406, \n"
     ]
    },
    {
     "name": "stdout",
     "output_type": "stream",
     "text": [
      "epoch: 3, [batch: 16800 / 33600], examples_per_second: 2998.5361, train_label_loss: 0.1851, \n"
     ]
    },
    {
     "name": "stdout",
     "output_type": "stream",
     "text": [
      "epoch: 3, [batch: 20160 / 33600], examples_per_second: 3429.5600, train_label_loss: 0.3458, \n"
     ]
    },
    {
     "name": "stdout",
     "output_type": "stream",
     "text": [
      "epoch: 3, [batch: 23520 / 33600], examples_per_second: 3557.2742, train_label_loss: 0.1238, \n"
     ]
    },
    {
     "name": "stdout",
     "output_type": "stream",
     "text": [
      "epoch: 3, [batch: 26880 / 33600], examples_per_second: 3798.7892, train_label_loss: 0.2634, \n"
     ]
    },
    {
     "name": "stdout",
     "output_type": "stream",
     "text": [
      "epoch: 3, [batch: 30240 / 33600], examples_per_second: 4186.8133, train_label_loss: 0.3513, \n"
     ]
    },
    {
     "name": "stdout",
     "output_type": "stream",
     "text": [
      "=============================================================\n",
      "epoch: 3, source_val_acc_label: 0.8690, target_val_acc_label: 0.9905, source_val_label_loss: 0.3565, target_val_label_loss: 1.8279, \n",
      "=============================================================\n"
     ]
    },
    {
     "name": "stdout",
     "output_type": "stream",
     "text": [
      "New best\n"
     ]
    },
    {
     "name": "stdout",
     "output_type": "stream",
     "text": [
      "epoch: 4, [batch: 1 / 33600], examples_per_second: 0.8231, train_label_loss: 0.0488, \n"
     ]
    },
    {
     "name": "stdout",
     "output_type": "stream",
     "text": [
      "epoch: 4, [batch: 3360 / 33600], examples_per_second: 3294.9079, train_label_loss: 0.2676, \n"
     ]
    },
    {
     "name": "stdout",
     "output_type": "stream",
     "text": [
      "epoch: 4, [batch: 6720 / 33600], examples_per_second: 3138.9082, train_label_loss: 0.2807, \n"
     ]
    },
    {
     "name": "stdout",
     "output_type": "stream",
     "text": [
      "epoch: 4, [batch: 10080 / 33600], examples_per_second: 3262.7200, train_label_loss: 0.2719, \n"
     ]
    },
    {
     "name": "stdout",
     "output_type": "stream",
     "text": [
      "epoch: 4, [batch: 13440 / 33600], examples_per_second: 3027.1145, train_label_loss: 0.2645, \n"
     ]
    },
    {
     "name": "stdout",
     "output_type": "stream",
     "text": [
      "epoch: 4, [batch: 16800 / 33600], examples_per_second: 3210.7898, train_label_loss: 0.2816, \n"
     ]
    },
    {
     "name": "stdout",
     "output_type": "stream",
     "text": [
      "epoch: 4, [batch: 20160 / 33600], examples_per_second: 3245.0887, train_label_loss: 0.5646, \n"
     ]
    },
    {
     "name": "stdout",
     "output_type": "stream",
     "text": [
      "epoch: 4, [batch: 23520 / 33600], examples_per_second: 3111.5606, train_label_loss: 0.2742, \n"
     ]
    },
    {
     "name": "stdout",
     "output_type": "stream",
     "text": [
      "epoch: 4, [batch: 26880 / 33600], examples_per_second: 3241.8610, train_label_loss: 0.2793, \n"
     ]
    },
    {
     "name": "stdout",
     "output_type": "stream",
     "text": [
      "epoch: 4, [batch: 30240 / 33600], examples_per_second: 3078.8673, train_label_loss: 0.0721, \n"
     ]
    },
    {
     "name": "stdout",
     "output_type": "stream",
     "text": [
      "=============================================================\n",
      "epoch: 4, source_val_acc_label: 0.8811, target_val_acc_label: 0.9883, source_val_label_loss: 0.3281, target_val_label_loss: 2.9540, \n",
      "=============================================================\n"
     ]
    },
    {
     "name": "stdout",
     "output_type": "stream",
     "text": [
      "epoch: 5, [batch: 1 / 33600], examples_per_second: 0.8049, train_label_loss: 0.1145, \n"
     ]
    },
    {
     "name": "stdout",
     "output_type": "stream",
     "text": [
      "epoch: 5, [batch: 3360 / 33600], examples_per_second: 3204.7970, train_label_loss: 0.1980, \n"
     ]
    },
    {
     "name": "stdout",
     "output_type": "stream",
     "text": [
      "epoch: 5, [batch: 6720 / 33600], examples_per_second: 3220.0179, train_label_loss: 0.1740, \n"
     ]
    },
    {
     "name": "stdout",
     "output_type": "stream",
     "text": [
      "epoch: 5, [batch: 10080 / 33600], examples_per_second: 3171.7533, train_label_loss: 0.2826, \n"
     ]
    },
    {
     "name": "stdout",
     "output_type": "stream",
     "text": [
      "epoch: 5, [batch: 13440 / 33600], examples_per_second: 3650.3638, train_label_loss: 0.1531, \n"
     ]
    },
    {
     "name": "stdout",
     "output_type": "stream",
     "text": [
      "epoch: 5, [batch: 16800 / 33600], examples_per_second: 3634.9459, train_label_loss: 0.2831, \n"
     ]
    },
    {
     "name": "stdout",
     "output_type": "stream",
     "text": [
      "epoch: 5, [batch: 20160 / 33600], examples_per_second: 3913.7326, train_label_loss: 0.2714, \n"
     ]
    },
    {
     "name": "stdout",
     "output_type": "stream",
     "text": [
      "epoch: 5, [batch: 23520 / 33600], examples_per_second: 4301.1709, train_label_loss: 0.2529, \n"
     ]
    },
    {
     "name": "stdout",
     "output_type": "stream",
     "text": [
      "epoch: 5, [batch: 26880 / 33600], examples_per_second: 3597.0061, train_label_loss: 0.2364, \n"
     ]
    },
    {
     "name": "stdout",
     "output_type": "stream",
     "text": [
      "epoch: 5, [batch: 30240 / 33600], examples_per_second: 3885.6533, train_label_loss: 0.3034, \n"
     ]
    },
    {
     "name": "stdout",
     "output_type": "stream",
     "text": [
      "=============================================================\n",
      "epoch: 5, source_val_acc_label: 0.8824, target_val_acc_label: 0.9888, source_val_label_loss: 0.3238, target_val_label_loss: 2.9474, \n",
      "=============================================================\n"
     ]
    },
    {
     "name": "stdout",
     "output_type": "stream",
     "text": [
      "epoch: 6, [batch: 1 / 33600], examples_per_second: 0.9049, train_label_loss: 0.1462, \n"
     ]
    },
    {
     "name": "stdout",
     "output_type": "stream",
     "text": [
      "epoch: 6, [batch: 3360 / 33600], examples_per_second: 3318.3214, train_label_loss: 0.2250, \n"
     ]
    },
    {
     "name": "stdout",
     "output_type": "stream",
     "text": [
      "epoch: 6, [batch: 6720 / 33600], examples_per_second: 3152.4779, train_label_loss: 0.3684, \n"
     ]
    },
    {
     "name": "stdout",
     "output_type": "stream",
     "text": [
      "epoch: 6, [batch: 10080 / 33600], examples_per_second: 3104.9305, train_label_loss: 0.5035, \n"
     ]
    },
    {
     "name": "stdout",
     "output_type": "stream",
     "text": [
      "epoch: 6, [batch: 13440 / 33600], examples_per_second: 3334.3811, train_label_loss: 0.2990, \n"
     ]
    },
    {
     "name": "stdout",
     "output_type": "stream",
     "text": [
      "epoch: 6, [batch: 16800 / 33600], examples_per_second: 2979.3559, train_label_loss: 0.1920, \n"
     ]
    },
    {
     "name": "stdout",
     "output_type": "stream",
     "text": [
      "epoch: 6, [batch: 20160 / 33600], examples_per_second: 3283.5683, train_label_loss: 0.1112, \n"
     ]
    },
    {
     "name": "stdout",
     "output_type": "stream",
     "text": [
      "epoch: 6, [batch: 23520 / 33600], examples_per_second: 3156.4540, train_label_loss: 0.1797, \n"
     ]
    },
    {
     "name": "stdout",
     "output_type": "stream",
     "text": [
      "epoch: 6, [batch: 26880 / 33600], examples_per_second: 3151.3637, train_label_loss: 0.2807, \n"
     ]
    },
    {
     "name": "stdout",
     "output_type": "stream",
     "text": [
      "epoch: 6, [batch: 30240 / 33600], examples_per_second: 3405.2129, train_label_loss: 0.1347, \n"
     ]
    },
    {
     "name": "stdout",
     "output_type": "stream",
     "text": [
      "=============================================================\n",
      "epoch: 6, source_val_acc_label: 0.8855, target_val_acc_label: 0.9902, source_val_label_loss: 0.3241, target_val_label_loss: 2.6486, \n",
      "=============================================================\n"
     ]
    },
    {
     "name": "stdout",
     "output_type": "stream",
     "text": [
      "epoch: 7, [batch: 1 / 33600], examples_per_second: 0.7874, train_label_loss: 0.2000, \n"
     ]
    },
    {
     "name": "stdout",
     "output_type": "stream",
     "text": [
      "epoch: 7, [batch: 3360 / 33600], examples_per_second: 2993.9041, train_label_loss: 0.3681, \n"
     ]
    },
    {
     "name": "stdout",
     "output_type": "stream",
     "text": [
      "epoch: 7, [batch: 6720 / 33600], examples_per_second: 3356.6175, train_label_loss: 0.2579, \n"
     ]
    },
    {
     "name": "stdout",
     "output_type": "stream",
     "text": [
      "epoch: 7, [batch: 10080 / 33600], examples_per_second: 3127.7856, train_label_loss: 0.2578, \n"
     ]
    },
    {
     "name": "stdout",
     "output_type": "stream",
     "text": [
      "epoch: 7, [batch: 13440 / 33600], examples_per_second: 3126.2698, train_label_loss: 0.2050, \n"
     ]
    },
    {
     "name": "stdout",
     "output_type": "stream",
     "text": [
      "epoch: 7, [batch: 16800 / 33600], examples_per_second: 3378.9145, train_label_loss: 0.2902, \n"
     ]
    },
    {
     "name": "stdout",
     "output_type": "stream",
     "text": [
      "epoch: 7, [batch: 20160 / 33600], examples_per_second: 2992.6858, train_label_loss: 0.0657, \n"
     ]
    },
    {
     "name": "stdout",
     "output_type": "stream",
     "text": [
      "epoch: 7, [batch: 23520 / 33600], examples_per_second: 3305.5607, train_label_loss: 0.1124, \n"
     ]
    },
    {
     "name": "stdout",
     "output_type": "stream",
     "text": [
      "epoch: 7, [batch: 26880 / 33600], examples_per_second: 3127.3710, train_label_loss: 0.2117, \n"
     ]
    },
    {
     "name": "stdout",
     "output_type": "stream",
     "text": [
      "epoch: 7, [batch: 30240 / 33600], examples_per_second: 3139.6076, train_label_loss: 0.1955, \n"
     ]
    },
    {
     "name": "stdout",
     "output_type": "stream",
     "text": [
      "=============================================================\n",
      "epoch: 7, source_val_acc_label: 0.8857, target_val_acc_label: 0.9901, source_val_label_loss: 0.3186, target_val_label_loss: 2.4371, \n",
      "=============================================================\n"
     ]
    },
    {
     "name": "stdout",
     "output_type": "stream",
     "text": [
      "Patience (3) exhausted\n"
     ]
    }
   ],
   "source": [
    "###################################\n",
    "# train\n",
    "###################################\n",
    "jig = PTN_Train_Eval_Test_Jig(model, p.BEST_MODEL_PATH, p.device)\n",
    "\n",
    "jig.train(\n",
    "    train_iterable=datasets.source.processed.train,\n",
    "    source_val_iterable=datasets.source.processed.val,\n",
    "    target_val_iterable=datasets.target.processed.val,\n",
    "    num_epochs=p.n_epoch,\n",
    "    num_logs_per_epoch=p.NUM_LOGS_PER_EPOCH,\n",
    "    patience=p.patience,\n",
    "    optimizer=optimizer,\n",
    "    criteria_for_best=p.criteria_for_best,\n",
    ")"
   ]
  },
  {
   "cell_type": "code",
   "execution_count": 23,
   "id": "31e8fabf",
   "metadata": {
    "execution": {
     "iopub.execute_input": "2022-03-22T09:38:34.065751Z",
     "iopub.status.busy": "2022-03-22T09:38:34.065380Z",
     "iopub.status.idle": "2022-03-22T09:38:34.097905Z",
     "shell.execute_reply": "2022-03-22T09:38:34.097225Z"
    },
    "papermill": {
     "duration": 0.081771,
     "end_time": "2022-03-22T09:38:34.098068",
     "exception": false,
     "start_time": "2022-03-22T09:38:34.016297",
     "status": "completed"
    },
    "tags": []
   },
   "outputs": [],
   "source": [
    "total_experiment_time_secs = time.time() - start_time_secs"
   ]
  },
  {
   "cell_type": "code",
   "execution_count": 24,
   "id": "87b9595b",
   "metadata": {
    "execution": {
     "iopub.execute_input": "2022-03-22T09:38:34.201887Z",
     "iopub.status.busy": "2022-03-22T09:38:34.201489Z",
     "iopub.status.idle": "2022-03-22T09:48:20.774544Z",
     "shell.execute_reply": "2022-03-22T09:48:20.773974Z"
    },
    "papermill": {
     "duration": 586.624257,
     "end_time": "2022-03-22T09:48:20.774692",
     "exception": false,
     "start_time": "2022-03-22T09:38:34.150435",
     "status": "completed"
    },
    "tags": []
   },
   "outputs": [],
   "source": [
    "###################################\n",
    "# Evaluate the model\n",
    "###################################\n",
    "source_test_label_accuracy, source_test_label_loss = jig.test(datasets.source.processed.test)\n",
    "target_test_label_accuracy, target_test_label_loss = jig.test(datasets.target.processed.test)\n",
    "\n",
    "source_val_label_accuracy, source_val_label_loss = jig.test(datasets.source.processed.val)\n",
    "target_val_label_accuracy, target_val_label_loss = jig.test(datasets.target.processed.val)\n",
    "\n",
    "history = jig.get_history()\n",
    "\n",
    "total_epochs_trained = len(history[\"epoch_indices\"])\n",
    "\n",
    "val_dl = Iterable_Aggregator((datasets.source.original.val,datasets.target.original.val))\n",
    "\n",
    "confusion = ptn_confusion_by_domain_over_dataloader(model, p.device, val_dl)\n",
    "per_domain_accuracy = per_domain_accuracy_from_confusion(confusion)\n",
    "\n",
    "# Add a key to per_domain_accuracy for if it was a source domain\n",
    "for domain, accuracy in per_domain_accuracy.items():\n",
    "    per_domain_accuracy[domain] = {\n",
    "        \"accuracy\": accuracy,\n",
    "        \"source?\": domain in p.domains_source\n",
    "    }\n",
    "\n",
    "# Do an independent accuracy assesment JUST TO BE SURE!\n",
    "# _source_test_label_accuracy = independent_accuracy_assesment(model, datasets.source.processed.test, p.device)\n",
    "# _target_test_label_accuracy = independent_accuracy_assesment(model, datasets.target.processed.test, p.device)\n",
    "# _source_val_label_accuracy = independent_accuracy_assesment(model, datasets.source.processed.val, p.device)\n",
    "# _target_val_label_accuracy = independent_accuracy_assesment(model, datasets.target.processed.val, p.device)\n",
    "\n",
    "# assert(_source_test_label_accuracy == source_test_label_accuracy)\n",
    "# assert(_target_test_label_accuracy == target_test_label_accuracy)\n",
    "# assert(_source_val_label_accuracy == source_val_label_accuracy)\n",
    "# assert(_target_val_label_accuracy == target_val_label_accuracy)\n",
    "\n",
    "experiment = {\n",
    "    \"experiment_name\": p.experiment_name,\n",
    "    \"parameters\": dict(p),\n",
    "    \"results\": {\n",
    "        \"source_test_label_accuracy\": source_test_label_accuracy,\n",
    "        \"source_test_label_loss\": source_test_label_loss,\n",
    "        \"target_test_label_accuracy\": target_test_label_accuracy,\n",
    "        \"target_test_label_loss\": target_test_label_loss,\n",
    "        \"source_val_label_accuracy\": source_val_label_accuracy,\n",
    "        \"source_val_label_loss\": source_val_label_loss,\n",
    "        \"target_val_label_accuracy\": target_val_label_accuracy,\n",
    "        \"target_val_label_loss\": target_val_label_loss,\n",
    "        \"total_epochs_trained\": total_epochs_trained,\n",
    "        \"total_experiment_time_secs\": total_experiment_time_secs,\n",
    "        \"confusion\": confusion,\n",
    "        \"per_domain_accuracy\": per_domain_accuracy,\n",
    "    },\n",
    "    \"history\": history,\n",
    "    \"dataset_metrics\": get_dataset_metrics(datasets, \"ptn\"),\n",
    "}"
   ]
  },
  {
   "cell_type": "code",
   "execution_count": 25,
   "id": "54a21829",
   "metadata": {
    "execution": {
     "iopub.execute_input": "2022-03-22T09:48:20.875246Z",
     "iopub.status.busy": "2022-03-22T09:48:20.874675Z",
     "iopub.status.idle": "2022-03-22T09:48:21.104162Z",
     "shell.execute_reply": "2022-03-22T09:48:21.104861Z"
    },
    "papermill": {
     "duration": 0.280122,
     "end_time": "2022-03-22T09:48:21.105095",
     "exception": false,
     "start_time": "2022-03-22T09:48:20.824973",
     "status": "completed"
    },
    "tags": []
   },
   "outputs": [
    {
     "data": {
      "image/png": "[encoded data removed]",
      "text/plain": [
       "<Figure size 1080x504 with 1 Axes>"
      ]
     },
     "metadata": {
      "needs_background": "light"
     },
     "output_type": "display_data"
    }
   ],
   "source": [
    "ax = get_loss_curve(experiment)\n",
    "plt.show()"
   ]
  },
  {
   "cell_type": "code",
   "execution_count": 26,
   "id": "fd8a0f60",
   "metadata": {
    "execution": {
     "iopub.execute_input": "2022-03-22T09:48:21.214093Z",
     "iopub.status.busy": "2022-03-22T09:48:21.213720Z",
     "iopub.status.idle": "2022-03-22T09:48:21.578165Z",
     "shell.execute_reply": "2022-03-22T09:48:21.578858Z"
    },
    "papermill": {
     "duration": 0.415215,
     "end_time": "2022-03-22T09:48:21.579076",
     "exception": false,
     "start_time": "2022-03-22T09:48:21.163861",
     "status": "completed"
    },
    "tags": []
   },
   "outputs": [
    {
     "data": {
      "text/plain": [
       "<AxesSubplot:title={'center':'Results'}>"
      ]
     },
     "execution_count": 26,
     "metadata": {},
     "output_type": "execute_result"
    },
    {
     "data": {
      "image/png": "[encoded data removed]",
      "text/plain": [
       "<Figure size 1080x504 with 1 Axes>"
      ]
     },
     "metadata": {
      "needs_background": "light"
     },
     "output_type": "display_data"
    }
   ],
   "source": [
    "get_results_table(experiment)"
   ]
  },
  {
   "cell_type": "code",
   "execution_count": 27,
   "id": "cf8dc689",
   "metadata": {
    "execution": {
     "iopub.execute_input": "2022-03-22T09:48:21.685252Z",
     "iopub.status.busy": "2022-03-22T09:48:21.684866Z",
     "iopub.status.idle": "2022-03-22T09:48:21.964757Z",
     "shell.execute_reply": "2022-03-22T09:48:21.965439Z"
    },
    "papermill": {
     "duration": 0.333657,
     "end_time": "2022-03-22T09:48:21.965649",
     "exception": false,
     "start_time": "2022-03-22T09:48:21.631992",
     "status": "completed"
    },
    "tags": []
   },
   "outputs": [
    {
     "data": {
      "text/plain": [
       "<AxesSubplot:title={'center':'Per Domain Validation Accuracy'}, xlabel='domain'>"
      ]
     },
     "execution_count": 27,
     "metadata": {},
     "output_type": "execute_result"
    },
    {
     "data": {
      "image/png": "[encoded data removed]",
      "text/plain": [
       "<Figure size 1080x504 with 1 Axes>"
      ]
     },
     "metadata": {
      "needs_background": "light"
     },
     "output_type": "display_data"
    }
   ],
   "source": [
    "get_domain_accuracies(experiment)"
   ]
  },
  {
   "cell_type": "code",
   "execution_count": 28,
   "id": "a74ae082",
   "metadata": {
    "execution": {
     "iopub.execute_input": "2022-03-22T09:48:22.075921Z",
     "iopub.status.busy": "2022-03-22T09:48:22.075505Z",
     "iopub.status.idle": "2022-03-22T09:48:22.100146Z",
     "shell.execute_reply": "2022-03-22T09:48:22.099288Z"
    },
    "papermill": {
     "duration": 0.081405,
     "end_time": "2022-03-22T09:48:22.100312",
     "exception": false,
     "start_time": "2022-03-22T09:48:22.018907",
     "status": "completed"
    },
    "tags": []
   },
   "outputs": [
    {
     "name": "stdout",
     "output_type": "stream",
     "text": [
      "Source Test Label Accuracy: 0.8701627604166666 Target Test Label Accuracy: 0.9887133182844243\n",
      "Source Val Label Accuracy: 0.8690169270833333 Target Val Label Accuracy: 0.9905\n"
     ]
    }
   ],
   "source": [
    "print(\"Source Test Label Accuracy:\", experiment[\"results\"][\"source_test_label_accuracy\"], \"Target Test Label Accuracy:\", experiment[\"results\"][\"target_test_label_accuracy\"])\n",
    "print(\"Source Val Label Accuracy:\", experiment[\"results\"][\"source_val_label_accuracy\"], \"Target Val Label Accuracy:\", experiment[\"results\"][\"target_val_label_accuracy\"])"
   ]
  },
  {
   "cell_type": "code",
   "execution_count": 29,
   "id": "dacca602",
   "metadata": {
    "execution": {
     "iopub.execute_input": "2022-03-22T09:48:22.208224Z",
     "iopub.status.busy": "2022-03-22T09:48:22.207847Z",
     "iopub.status.idle": "2022-03-22T09:48:22.234872Z",
     "shell.execute_reply": "2022-03-22T09:48:22.234456Z"
    },
    "papermill": {
     "duration": 0.079744,
     "end_time": "2022-03-22T09:48:22.234970",
     "exception": false,
     "start_time": "2022-03-22T09:48:22.155226",
     "status": "completed"
    },
    "tags": [
     "experiment_json"
    ]
   },
   "outputs": [
    {
     "data": {
      "text/plain": [
       "'{\"experiment_name\": \"tl_1v2:cores-oracle.run1\", \"parameters\": {\"experiment_name\": \"tl_1v2:cores-oracle.run1\", \"device\": \"cuda\", \"lr\": 0.0001, \"n_shot\": 3, \"n_query\": 2, \"train_k_factor\": 3, \"val_k_factor\": 2, \"test_k_factor\": 2, \"torch_default_dtype\": \"torch.float32\", \"n_epoch\": 50, \"patience\": 3, \"criteria_for_best\": \"target_accuracy\", \"x_net\": [{\"class\": \"nnReshape\", \"kargs\": {\"shape\": [-1, 1, 2, 256]}}, {\"class\": \"Conv2d\", \"kargs\": {\"in_channels\": 1, \"out_channels\": 256, \"kernel_size\": [1, 7], \"bias\": false, \"padding\": [0, 3]}}, {\"class\": \"ReLU\", \"kargs\": {\"inplace\": true}}, {\"class\": \"BatchNorm2d\", \"kargs\": {\"num_features\": 256}}, {\"class\": \"Conv2d\", \"kargs\": {\"in_channels\": 256, \"out_channels\": 80, \"kernel_size\": [2, 7], \"bias\": true, \"padding\": [0, 3]}}, {\"class\": \"ReLU\", \"kargs\": {\"inplace\": true}}, {\"class\": \"BatchNorm2d\", \"kargs\": {\"num_features\": 80}}, {\"class\": \"Flatten\", \"kargs\": {}}, {\"class\": \"Linear\", \"kargs\": {\"in_features\": 20480, \"out_features\": 256}}, {\"class\": \"ReLU\", \"kargs\": {\"inplace\": true}}, {\"class\": \"BatchNorm1d\", \"kargs\": {\"num_features\": 256}}, {\"class\": \"Linear\", \"kargs\": {\"in_features\": 256, \"out_features\": 256}}], \"NUM_LOGS_PER_EPOCH\": 10, \"BEST_MODEL_PATH\": \"./best_model.pth\", \"n_way\": 16, \"datasets\": [{\"labels\": [\"1-10.\", \"1-11.\", \"1-15.\", \"1-16.\", \"1-17.\", \"1-18.\", \"1-19.\", \"10-4.\", \"10-7.\", \"11-1.\", \"11-14.\", \"11-17.\", \"11-20.\", \"11-7.\", \"13-20.\", \"13-8.\", \"14-10.\", \"14-11.\", \"14-14.\", \"14-7.\", \"15-1.\", \"15-20.\", \"16-1.\", \"16-16.\", \"17-10.\", \"17-11.\", \"17-2.\", \"19-1.\", \"19-16.\", \"19-19.\", \"19-20.\", \"19-3.\", \"2-10.\", \"2-11.\", \"2-17.\", \"2-18.\", \"2-20.\", \"2-3.\", \"2-4.\", \"2-5.\", \"2-6.\", \"2-7.\", \"2-8.\", \"3-13.\", \"3-18.\", \"3-3.\", \"4-1.\", \"4-10.\", \"4-11.\", \"4-19.\", \"5-5.\", \"6-15.\", \"7-10.\", \"7-14.\", \"8-18.\", \"8-20.\", \"8-3.\", \"8-8.\"], \"domains\": [1, 2, 3, 4, 5], \"num_examples_per_domain_per_label\": -1, \"pickle_path\": \"/root/csc500-main/datasets/cores.stratified_ds.2022A.pkl\", \"source_or_target_dataset\": \"target\", \"x_transforms\": [], \"episode_transforms\": [], \"domain_prefix\": \"CORES_\"}, {\"labels\": [\"3123D52\", \"3123D65\", \"3123D79\", \"3123D80\", \"3123D54\", \"3123D70\", \"3123D7B\", \"3123D89\", \"3123D58\", \"3123D76\", \"3123D7D\", \"3123EFE\", \"3123D64\", \"3123D78\", \"3123D7E\", \"3124E4A\"], \"domains\": [32, 38, 8, 44, 14, 50, 20, 26], \"num_examples_per_domain_per_label\": 10000, \"pickle_path\": \"/root/csc500-main/datasets/oracle.Run1_10kExamples_stratified_ds.2022A.pkl\", \"source_or_target_dataset\": \"source\", \"x_transforms\": [], \"episode_transforms\": [], \"domain_prefix\": \"ORACLE.run1_\"}], \"dataset_seed\": 420, \"seed\": 420, \"x_shape\": [2, 256], \"domains_source\": [\"ORACLE.run1_32\", \"ORACLE.run1_38\", \"ORACLE.run1_8\", \"ORACLE.run1_44\", \"ORACLE.run1_14\", \"ORACLE.run1_50\", \"ORACLE.run1_20\", \"ORACLE.run1_26\"], \"domains_target\": [\"CORES_1\", \"CORES_2\", \"CORES_3\", \"CORES_4\", \"CORES_5\"]}, \"results\": {\"source_test_label_accuracy\": 0.8701627604166666, \"source_test_label_loss\": 0.35572054982185364, \"target_test_label_accuracy\": 0.9887133182844243, \"target_test_label_loss\": 1.7747796773910522, \"source_val_label_accuracy\": 0.8690169270833333, \"source_val_label_loss\": 0.3565414547920227, \"target_val_label_accuracy\": 0.9905, \"target_val_label_loss\": 1.8278876543045044, \"total_epochs_trained\": 7, \"total_experiment_time_secs\": 6590.519430875778, \"confusion\": {\"ORACLE.run1_14\": {\"15\": {\"15\": 1200}, \"5\": {\"5\": 1091, \"7\": 21, \"2\": 56, \"4\": 20, \"3\": 11, \"14\": 1}, \"7\": {\"7\": 1194, \"5\": 6}, \"4\": {\"4\": 1150, \"2\": 21, \"5\": 29}, \"10\": {\"10\": 1200}, \"11\": {\"11\": 1200}, \"12\": {\"12\": 1200}, \"0\": {\"0\": 1165, \"3\": 27, \"14\": 2, \"10\": 5, \"8\": 1}, \"14\": {\"14\": 1022, \"13\": 81, \"6\": 39, \"2\": 48, \"3\": 9, \"0\": 1}, \"8\": {\"8\": 1200}, \"13\": {\"14\": 302, \"2\": 68, \"6\": 471, \"13\": 344, \"15\": 12, \"4\": 3}, \"6\": {\"13\": 226, \"6\": 846, \"14\": 92, \"2\": 36}, \"1\": {\"1\": 1200}, \"3\": {\"3\": 1176, \"14\": 14, \"0\": 6, \"5\": 1, \"2\": 1, \"6\": 1, \"13\": 1}, \"9\": {\"9\": 1200}, \"2\": {\"2\": 787, \"14\": 131, \"5\": 134, \"4\": 38, \"3\": 33, \"13\": 36, \"6\": 41}}, \"ORACLE.run1_20\": {\"4\": {\"4\": 1151, \"12\": 30, \"10\": 11, \"2\": 1, \"7\": 7}, \"10\": {\"10\": 1189, \"4\": 10, \"6\": 1}, \"15\": {\"15\": 974, \"1\": 94, \"5\": 7, \"9\": 14, \"12\": 95, \"2\": 11, \"13\": 5}, \"0\": {\"0\": 1102, \"3\": 39, \"5\": 43, \"1\": 11, \"8\": 5}, \"6\": {\"6\": 1176, \"14\": 8, \"7\": 16}, \"3\": {\"3\": 793, \"5\": 141, \"8\": 73, \"9\": 162, \"0\": 11, \"1\": 19, \"7\": 1}, \"7\": {\"5\": 1, \"2\": 125, \"7\": 964, \"4\": 12, \"6\": 12, \"9\": 75, \"8\": 3, \"12\": 3, \"3\": 5}, \"2\": {\"2\": 833, \"13\": 30, \"7\": 136, \"12\": 148, \"9\": 39, \"15\": 11, \"4\": 2, \"1\": 1}, \"8\": {\"8\": 1097, \"3\": 43, \"14\": 57, \"9\": 2, \"6\": 1}, \"11\": {\"11\": 1200}, \"14\": {\"14\": 1162, \"8\": 38}, \"12\": {\"2\": 128, \"12\": 909, \"15\": 108, \"4\": 26, \"9\": 8, \"7\": 7, \"13\": 3, \"1\": 10, \"5\": 1}, \"13\": {\"13\": 1143, \"2\": 40, \"12\": 11, \"15\": 6}, \"9\": {\"9\": 841, \"5\": 28, \"12\": 16, \"3\": 144, \"1\": 49, \"15\": 7, \"7\": 78, \"2\": 35, \"8\": 2}, \"5\": {\"1\": 320, \"5\": 743, \"15\": 2, \"9\": 16, \"3\": 115, \"0\": 3, \"8\": 1}, \"1\": {\"5\": 311, \"1\": 763, \"15\": 42, \"3\": 28, \"9\": 49, \"12\": 7}}, \"ORACLE.run1_50\": {\"5\": {\"5\": 516, \"6\": 231, \"7\": 316, \"13\": 54, \"4\": 68, \"15\": 9, \"1\": 6}, \"12\": {\"12\": 1146, \"9\": 49, \"11\": 5}, \"14\": {\"14\": 1200}, \"4\": {\"7\": 87, \"4\": 999, \"15\": 43, \"5\": 50, \"6\": 21}, \"13\": {\"13\": 1199, \"1\": 1}, \"10\": {\"10\": 1193, \"8\": 5, \"0\": 2}, \"9\": {\"9\": 1014, \"12\": 82, \"11\": 103, \"15\": 1}, \"15\": {\"15\": 1137, \"6\": 46, \"11\": 13, \"9\": 2, \"4\": 1, \"5\": 1}, \"6\": {\"5\": 112, \"6\": 1029, \"15\": 57, \"7\": 1, \"4\": 1}, \"2\": {\"2\": 1162, \"0\": 38}, \"0\": {\"0\": 1144, \"2\": 51, \"10\": 5}, \"11\": {\"9\": 44, \"11\": 1123, \"12\": 20, \"15\": 13}, \"3\": {\"3\": 1200}, \"8\": {\"8\": 1198, \"10\": 2}, \"7\": {\"7\": 1089, \"5\": 102, \"4\": 8, \"6\": 1}, \"1\": {\"1\": 1185, \"13\": 14, \"10\": 1}}, \"ORACLE.run1_26\": {\"7\": {\"7\": 920, \"8\": 111, \"2\": 90, \"9\": 19, \"3\": 60}, \"6\": {\"6\": 1050, \"15\": 85, \"10\": 26, \"1\": 15, \"5\": 23, \"14\": 1}, \"14\": {\"14\": 822, \"0\": 99, \"10\": 221, \"1\": 50, \"6\": 5, \"15\": 3}, \"15\": {\"15\": 776, \"6\": 109, \"5\": 265, \"14\": 2, \"10\": 39, \"1\": 6, \"0\": 3}, \"5\": {\"5\": 1017, \"15\": 147, \"6\": 35, \"1\": 1}, \"10\": {\"14\": 197, \"0\": 114, \"10\": 816, \"1\": 5, \"6\": 36, \"15\": 32}, \"4\": {\"4\": 1199, \"3\": 1}, \"11\": {\"11\": 1200}, \"13\": {\"13\": 1074, \"2\": 40, \"9\": 76, \"3\": 8, \"7\": 2}, \"2\": {\"2\": 769, \"9\": 66, \"3\": 112, \"7\": 164, \"8\": 55, \"0\": 25, \"13\": 6, \"14\": 1, \"10\": 1, \"15\": 1}, \"0\": {\"0\": 880, \"8\": 35, \"14\": 98, \"10\": 173, \"2\": 5, \"1\": 1, \"9\": 1, \"15\": 5, \"6\": 2}, \"12\": {\"12\": 1200}, \"3\": {\"7\": 76, \"3\": 1108, \"2\": 15, \"4\": 1}, \"9\": {\"9\": 846, \"8\": 233, \"2\": 49, \"13\": 48, \"7\": 24}, \"8\": {\"8\": 850, \"7\": 167, \"9\": 155, \"2\": 21, \"0\": 6, \"13\": 1}, \"1\": {\"1\": 1005, \"14\": 144, \"6\": 19, \"10\": 29, \"15\": 3}}, \"ORACLE.run1_32\": {\"7\": {\"7\": 848, \"5\": 161, \"14\": 114, \"8\": 5, \"0\": 72}, \"2\": {\"2\": 1117, \"4\": 82, \"14\": 1}, \"5\": {\"7\": 253, \"5\": 661, \"8\": 126, \"0\": 114, \"14\": 46}, \"6\": {\"6\": 1200}, \"13\": {\"13\": 978, \"3\": 105, \"4\": 110, \"11\": 7}, \"4\": {\"4\": 1060, \"2\": 109, \"13\": 31}, \"3\": {\"3\": 1168, \"13\": 32}, \"0\": {\"0\": 929, \"5\": 66, \"14\": 13, \"8\": 90, \"7\": 102}, \"9\": {\"9\": 1195, \"12\": 4, \"2\": 1}, \"12\": {\"12\": 1200}, \"8\": {\"8\": 1006, \"7\": 10, \"5\": 68, \"0\": 94, \"14\": 15, \"15\": 1, \"4\": 5, \"3\": 1}, \"14\": {\"7\": 333, \"14\": 740, \"0\": 44, \"5\": 31, \"2\": 27, \"8\": 22, \"4\": 3}, \"15\": {\"15\": 1185, \"8\": 14, \"5\": 1}, \"11\": {\"11\": 1196, \"13\": 4}, \"10\": {\"10\": 1200}, \"1\": {\"1\": 1200}}, \"ORACLE.run1_44\": {\"11\": {\"11\": 1200}, \"7\": {\"9\": 162, \"7\": 1027, \"6\": 3, \"2\": 2, \"10\": 6}, \"6\": {\"6\": 1030, \"9\": 44, \"13\": 125, \"7\": 1}, \"12\": {\"12\": 1180, \"3\": 20}, \"4\": {\"14\": 392, \"4\": 800, \"15\": 8}, \"13\": {\"13\": 1007, \"6\": 170, \"9\": 18, \"4\": 1, \"11\": 4}, \"8\": {\"0\": 253, \"8\": 881, \"15\": 38, \"5\": 28}, \"5\": {\"5\": 1105, \"15\": 54, \"14\": 29, \"8\": 9, \"0\": 3}, \"14\": {\"14\": 864, \"15\": 40, \"4\": 254, \"5\": 42}, \"3\": {\"3\": 1183, \"12\": 17}, \"10\": {\"10\": 1113, \"1\": 35, \"7\": 18, \"2\": 34}, \"1\": {\"1\": 1145, \"2\": 52, \"10\": 3}, \"2\": {\"2\": 1142, \"1\": 42, \"7\": 4, \"10\": 12}, \"15\": {\"5\": 54, \"15\": 1052, \"8\": 32, \"14\": 51, \"0\": 7, \"4\": 4}, \"9\": {\"7\": 304, \"6\": 169, \"9\": 646, \"13\": 80, \"4\": 1}, \"0\": {\"0\": 1057, \"8\": 141, \"5\": 1, \"15\": 1}}, \"ORACLE.run1_8\": {\"10\": {\"10\": 992, \"4\": 10, \"1\": 16, \"13\": 145, \"5\": 31, \"6\": 6}, \"6\": {\"6\": 959, \"7\": 209, \"13\": 18, \"8\": 6, \"10\": 2, \"4\": 6}, \"13\": {\"13\": 963, \"10\": 148, \"7\": 48, \"6\": 40, \"5\": 1}, \"3\": {\"3\": 1198, \"2\": 2}, \"9\": {\"9\": 1200}, \"1\": {\"11\": 240, \"1\": 923, \"5\": 17, \"4\": 7, \"10\": 12, \"8\": 1}, \"5\": {\"5\": 1014, \"10\": 109, \"11\": 11, \"13\": 3, \"1\": 56, \"14\": 7}, \"11\": {\"8\": 12, \"1\": 432, \"11\": 721, \"10\": 2, \"14\": 21, \"6\": 2, \"5\": 8, \"4\": 2}, \"4\": {\"4\": 1125, \"6\": 31, \"14\": 26, \"11\": 4, \"1\": 6, \"10\": 7, \"8\": 1}, \"14\": {\"14\": 1111, \"4\": 74, \"11\": 13, \"5\": 1, \"1\": 1}, \"12\": {\"12\": 833, \"15\": 357, \"2\": 10}, \"7\": {\"7\": 1013, \"6\": 170, \"13\": 17}, \"0\": {\"0\": 1200}, \"15\": {\"15\": 1027, \"12\": 163, \"2\": 10}, \"2\": {\"2\": 979, \"3\": 179, \"15\": 19, \"12\": 23}, \"8\": {\"8\": 1192, \"6\": 6, \"11\": 2}}, \"ORACLE.run1_38\": {\"4\": {\"4\": 1198, \"10\": 2}, \"7\": {\"7\": 1187, \"0\": 11, \"5\": 1, \"4\": 1}, \"12\": {\"12\": 1198, \"14\": 2}, \"10\": {\"10\": 1105, \"13\": 51, \"0\": 39, \"4\": 5}, \"0\": {\"0\": 872, \"7\": 128, \"3\": 53, \"10\": 111, \"13\": 29, \"9\": 1, \"8\": 4, \"5\": 1, \"4\": 1}, \"1\": {\"1\": 1200}, \"5\": {\"8\": 394, \"9\": 59, \"5\": 603, \"15\": 47, \"7\": 85, \"0\": 6, \"2\": 3, \"13\": 3}, \"15\": {\"15\": 1163, \"1\": 2, \"8\": 12, \"5\": 22, \"2\": 1}, \"9\": {\"9\": 1183, \"5\": 15, \"7\": 1, \"8\": 1}, \"11\": {\"11\": 1200}, \"14\": {\"14\": 1119, \"2\": 77, \"13\": 4}, \"6\": {\"6\": 1198, \"1\": 2}, \"8\": {\"8\": 737, \"5\": 367, \"7\": 68, \"15\": 13, \"0\": 6, \"13\": 7, \"12\": 1, \"9\": 1}, \"3\": {\"3\": 1200}, \"2\": {\"2\": 1134, \"14\": 64, \"13\": 2}, \"13\": {\"13\": 1138, \"10\": 50, \"0\": 9, \"2\": 2, \"14\": 1}}, \"CORES_4\": {\"42\": {\"42\": 27, \"26\": 2, \"34\": 1, \"28\": 1, \"54\": 1}, \"0\": {\"0\": 76, \"52\": 2, \"47\": 1, \"5\": 1}, \"1\": {\"1\": 40}, \"39\": {\"39\": 20}, \"28\": {\"28\": 28, \"26\": 2, \"34\": 2}, \"53\": {\"53\": 124}, \"19\": {\"19\": 144}, \"34\": {\"34\": 18, \"26\": 5, \"28\": 1}, \"33\": {\"33\": 36}, \"32\": {\"32\": 19, \"39\": 2, \"57\": 1, \"7\": 1, \"41\": 1}, \"10\": {\"10\": 136}, \"46\": {\"46\": 133, \"22\": 1}, \"20\": {\"20\": 122}, \"5\": {\"5\": 108}, \"40\": {\"40\": 124}, \"51\": {\"51\": 144}, \"37\": {\"37\": 22, \"13\": 1, \"52\": 1}, \"17\": {\"17\": 80}, \"45\": {\"45\": 96}, \"13\": {\"13\": 142}, \"27\": {\"27\": 144}, \"24\": {\"24\": 56}, \"30\": {\"30\": 44}, \"31\": {\"31\": 27, \"53\": 1}, \"41\": {\"41\": 34, \"32\": 1, \"38\": 1}, \"36\": {\"36\": 92}, \"16\": {\"16\": 93, \"15\": 2, \"11\": 1}, \"22\": {\"22\": 128}, \"44\": {\"44\": 132}, \"9\": {\"9\": 140}, \"57\": {\"57\": 99, \"1\": 1}, \"8\": {\"8\": 138}, \"23\": {\"23\": 127, \"54\": 4, \"41\": 1}, \"47\": {\"47\": 119, \"0\": 1}, \"43\": {\"43\": 138}, \"49\": {\"49\": 14, \"7\": 1, \"38\": 2, \"14\": 2, \"41\": 1}, \"3\": {\"3\": 117, \"50\": 4, \"6\": 3}, \"12\": {\"12\": 92}, \"38\": {\"38\": 36, \"2\": 2, \"14\": 1, \"49\": 1}, \"7\": {\"49\": 2, \"7\": 19, \"36\": 2, \"39\": 1}, \"14\": {\"14\": 13, \"29\": 1, \"57\": 1, \"55\": 1}, \"15\": {\"15\": 142, \"16\": 2, \"10\": 1, \"18\": 1}, \"25\": {\"25\": 127, \"18\": 1}, \"26\": {\"26\": 18, \"49\": 1, \"42\": 1, \"17\": 2, \"54\": 1, \"35\": 1}, \"21\": {\"21\": 132}, \"48\": {\"48\": 144}, \"56\": {\"56\": 134}, \"11\": {\"11\": 104}, \"2\": {\"2\": 36}, \"6\": {\"6\": 110, \"3\": 1, \"50\": 1}, \"55\": {\"55\": 140}, \"54\": {\"54\": 105, \"32\": 2, \"42\": 1}, \"29\": {\"29\": 124}, \"50\": {\"50\": 116, \"6\": 1, \"3\": 5}, \"52\": {\"52\": 116}, \"35\": {\"55\": 6, \"35\": 34}, \"4\": {\"4\": 120}, \"18\": {\"18\": 108}}, \"CORES_5\": {\"43\": {\"43\": 150, \"24\": 1, \"53\": 1}, \"35\": {\"35\": 36}, \"54\": {\"54\": 108, \"31\": 2, \"23\": 2}, \"22\": {\"22\": 28}, \"16\": {\"16\": 146}, \"5\": {\"5\": 128}, \"28\": {\"28\": 32}, \"14\": {\"14\": 36, \"39\": 1, \"27\": 1, \"29\": 4, \"56\": 2}, \"51\": {\"51\": 127, \"53\": 1}, \"19\": {\"19\": 140}, \"31\": {\"31\": 36}, \"10\": {\"10\": 68}, \"21\": {\"21\": 136}, \"3\": {\"3\": 96, \"6\": 1, \"46\": 2, \"9\": 1}, \"57\": {\"57\": 131, \"48\": 1}, \"9\": {\"9\": 146}, \"8\": {\"8\": 132}, \"46\": {\"46\": 140}, \"23\": {\"23\": 123, \"53\": 1}, \"37\": {\"37\": 24}, \"34\": {\"34\": 36}, \"4\": {\"4\": 100}, \"6\": {\"6\": 128}, \"48\": {\"48\": 135, \"9\": 1}, \"44\": {\"44\": 138}, \"40\": {\"40\": 124}, \"12\": {\"12\": 96}, \"30\": {\"30\": 128}, \"39\": {\"39\": 18, \"14\": 2}, \"45\": {\"45\": 124}, \"36\": {\"36\": 92}, \"27\": {\"27\": 140}, \"32\": {\"32\": 32}, \"52\": {\"52\": 130}, \"0\": {\"0\": 124}, \"26\": {\"26\": 20, \"38\": 2, \"17\": 2}, \"1\": {\"1\": 148}, \"53\": {\"53\": 146}, \"25\": {\"25\": 144}, \"24\": {\"24\": 80}, \"7\": {\"7\": 32}, \"18\": {\"18\": 64}, \"20\": {\"20\": 142, \"21\": 2}, \"33\": {\"33\": 32}, \"55\": {\"55\": 140}, \"41\": {\"41\": 24, \"27\": 1, \"14\": 1, \"57\": 1, \"32\": 1}, \"42\": {\"42\": 38, \"43\": 1, \"23\": 1}, \"49\": {\"49\": 36}, \"13\": {\"13\": 148}, \"38\": {\"38\": 30, \"8\": 2}, \"2\": {\"2\": 28}, \"47\": {\"47\": 100}, \"17\": {\"17\": 116}, \"11\": {\"11\": 154}, \"29\": {\"29\": 132}, \"50\": {\"50\": 138}, \"56\": {\"56\": 148}, \"15\": {\"15\": 142}}, \"CORES_2\": {\"49\": {\"49\": 19, \"39\": 1, \"36\": 1, \"23\": 3}, \"13\": {\"13\": 116}, \"37\": {\"37\": 36}, \"41\": {\"41\": 17, \"50\": 1, \"48\": 2}, \"15\": {\"15\": 142}, \"56\": {\"56\": 139, \"11\": 1, \"0\": 2}, \"14\": {\"14\": 23, \"29\": 1}, \"3\": {\"3\": 91, \"6\": 1}, \"38\": {\"38\": 20}, \"43\": {\"43\": 137, \"37\": 1}, \"33\": {\"33\": 24, \"29\": 1, \"1\": 2, \"32\": 1}, \"47\": {\"47\": 138}, \"30\": {\"30\": 144}, \"39\": {\"39\": 24, \"7\": 1, \"32\": 1, \"36\": 2}, \"12\": {\"12\": 92}, \"6\": {\"6\": 122, \"50\": 2}, \"51\": {\"51\": 134}, \"5\": {\"5\": 120}, \"34\": {\"34\": 28}, \"35\": {\"35\": 31, \"33\": 1}, \"0\": {\"0\": 48}, \"7\": {\"7\": 36}, \"24\": {\"24\": 96}, \"8\": {\"8\": 135, \"20\": 1}, \"20\": {\"20\": 124}, \"36\": {\"36\": 116}, \"42\": {\"42\": 36}, \"1\": {\"1\": 112}, \"4\": {\"4\": 148}, \"28\": {\"28\": 28}, \"50\": {\"50\": 134, \"6\": 2}, \"45\": {\"45\": 128}, \"18\": {\"18\": 48}, \"57\": {\"57\": 120}, \"46\": {\"46\": 128}, \"23\": {\"23\": 147, \"49\": 1}, \"27\": {\"27\": 138}, \"19\": {\"19\": 134}, \"22\": {\"22\": 136}, \"17\": {\"17\": 104}, \"55\": {\"55\": 136}, \"44\": {\"44\": 100}, \"26\": {\"17\": 1, \"26\": 19, \"39\": 2, \"54\": 2}, \"31\": {\"31\": 28}, \"16\": {\"16\": 130}, \"11\": {\"11\": 128}, \"25\": {\"25\": 125, \"15\": 1}, \"54\": {\"54\": 108}, \"32\": {\"32\": 28}, \"52\": {\"52\": 124}, \"40\": {\"40\": 128, \"29\": 1, \"9\": 1, \"44\": 2}, \"2\": {\"2\": 32}, \"10\": {\"10\": 110}, \"53\": {\"53\": 136}, \"9\": {\"9\": 150}, \"21\": {\"21\": 120}, \"48\": {\"48\": 138}, \"29\": {\"29\": 128}}, \"CORES_1\": {\"9\": {\"9\": 142}, \"25\": {\"25\": 125, \"16\": 2, \"18\": 1}, \"41\": {\"41\": 24}, \"29\": {\"29\": 140}, \"46\": {\"46\": 128}, \"4\": {\"4\": 132}, \"31\": {\"31\": 28}, \"36\": {\"36\": 64}, \"20\": {\"20\": 128}, \"7\": {\"7\": 28}, \"6\": {\"6\": 95, \"50\": 1}, \"16\": {\"16\": 138}, \"17\": {\"17\": 64}, \"50\": {\"50\": 148}, \"57\": {\"57\": 144}, \"23\": {\"23\": 134, \"15\": 2}, \"3\": {\"12\": 1, \"3\": 125}, \"53\": {\"53\": 140}, \"49\": {\"49\": 32}, \"56\": {\"56\": 152}, \"51\": {\"51\": 142}, \"26\": {\"26\": 23, \"25\": 1}, \"43\": {\"43\": 144}, \"22\": {\"22\": 135, \"52\": 1}, \"45\": {\"45\": 146}, \"13\": {\"13\": 152}, \"12\": {\"12\": 114, \"13\": 1, \"20\": 1}, \"54\": {\"54\": 103, \"33\": 1}, \"24\": {\"24\": 108}, \"44\": {\"44\": 136}, \"28\": {\"28\": 28}, \"33\": {\"33\": 32}, \"38\": {\"38\": 16, \"36\": 2, \"37\": 1, \"39\": 2, \"52\": 1, \"49\": 2}, \"0\": {\"0\": 144}, \"47\": {\"47\": 154}, \"42\": {\"42\": 36, \"54\": 1, \"32\": 1, \"33\": 2}, \"34\": {\"34\": 22, \"55\": 1, \"19\": 1}, \"48\": {\"48\": 140, \"2\": 1, \"9\": 1}, \"35\": {\"35\": 33, \"19\": 3}, \"2\": {\"2\": 36}, \"30\": {\"30\": 120}, \"18\": {\"18\": 72}, \"37\": {\"36\": 2, \"37\": 29, \"14\": 1}, \"1\": {\"1\": 100}, \"11\": {\"11\": 138}, \"55\": {\"55\": 130}, \"15\": {\"15\": 150}, \"10\": {\"10\": 96}, \"27\": {\"27\": 160}, \"19\": {\"19\": 146}, \"14\": {\"30\": 7, \"14\": 13, \"45\": 1, \"12\": 1, \"8\": 2}, \"8\": {\"8\": 140}, \"5\": {\"5\": 136}, \"39\": {\"39\": 22, \"32\": 2, \"31\": 1, \"38\": 2, \"22\": 1}, \"52\": {\"52\": 122}, \"21\": {\"21\": 124}, \"40\": {\"40\": 152}, \"32\": {\"32\": 32}}, \"CORES_3\": {\"56\": {\"56\": 120}, \"4\": {\"4\": 146}, \"34\": {\"34\": 30, \"35\": 1, \"19\": 1}, \"52\": {\"52\": 136}, \"32\": {\"32\": 28}, \"46\": {\"46\": 135, \"50\": 1}, \"12\": {\"12\": 88, \"50\": 2, \"46\": 2}, \"20\": {\"20\": 131, \"8\": 1}, \"54\": {\"54\": 100}, \"22\": {\"22\": 140}, \"26\": {\"26\": 24}, \"31\": {\"31\": 28}, \"10\": {\"10\": 64}, \"27\": {\"27\": 137, \"9\": 7}, \"40\": {\"40\": 136}, \"28\": {\"28\": 28}, \"5\": {\"5\": 116}, \"30\": {\"30\": 120}, \"7\": {\"7\": 36}, \"18\": {\"18\": 84}, \"39\": {\"35\": 1, \"39\": 15}, \"50\": {\"50\": 129, \"3\": 7}, \"49\": {\"7\": 1, \"49\": 18, \"12\": 1}, \"43\": {\"43\": 122}, \"29\": {\"29\": 114}, \"35\": {\"35\": 27, \"34\": 1}, \"13\": {\"13\": 124}, \"36\": {\"36\": 100}, \"11\": {\"11\": 146}, \"57\": {\"57\": 123, \"1\": 1}, \"9\": {\"9\": 126, \"27\": 4}, \"25\": {\"25\": 130}, \"16\": {\"16\": 125, \"15\": 1}, \"53\": {\"53\": 117, \"15\": 1}, \"33\": {\"33\": 28}, \"51\": {\"51\": 128}, \"44\": {\"44\": 88}, \"48\": {\"48\": 114}, \"6\": {\"6\": 87, \"50\": 1}, \"23\": {\"23\": 144}, \"1\": {\"1\": 100}, \"17\": {\"39\": 2, \"17\": 104, \"36\": 2}, \"21\": {\"21\": 122}, \"14\": {\"14\": 39, \"55\": 1}, \"55\": {\"55\": 144}, \"41\": {\"41\": 28}, \"3\": {\"3\": 136, \"50\": 2}, \"38\": {\"38\": 28}, \"2\": {\"2\": 30, \"36\": 2}, \"8\": {\"8\": 142}, \"37\": {\"37\": 28}, \"45\": {\"45\": 60}, \"42\": {\"42\": 26, \"35\": 2}, \"24\": {\"24\": 104}, \"15\": {\"15\": 136}, \"0\": {\"0\": 124}, \"47\": {\"47\": 92}, \"19\": {\"19\": 120}}}, \"per_domain_accuracy\": {\"ORACLE.run1_14\": {\"accuracy\": 0.89453125, \"source?\": true}, \"ORACLE.run1_20\": {\"accuracy\": 0.8354166666666667, \"source?\": true}, \"ORACLE.run1_50\": {\"accuracy\": 0.9132291666666666, \"source?\": true}, \"ORACLE.run1_26\": {\"accuracy\": 0.8089583333333333, \"source?\": true}, \"ORACLE.run1_32\": {\"accuracy\": 0.8793229166666666, \"source?\": true}, \"ORACLE.run1_44\": {\"accuracy\": 0.8558333333333333, \"source?\": true}, \"ORACLE.run1_8\": {\"accuracy\": 0.8567708333333334, \"source?\": true}, \"ORACLE.run1_38\": {\"accuracy\": 0.9080729166666667, \"source?\": true}, \"CORES_4\": {\"accuracy\": 0.9825973053892215, \"source?\": false}, \"CORES_5\": {\"accuracy\": 0.9933659217877095, \"source?\": false}, \"CORES_2\": {\"accuracy\": 0.9930357142857142, \"source?\": false}, \"CORES_1\": {\"accuracy\": 0.9913383152173914, \"source?\": false}, \"CORES_3\": {\"accuracy\": 0.9917279411764706, \"source?\": false}}}, \"history\": {\"epoch_indices\": [1, 2, 3, 4, 5, 6, 7], \"train_label_loss\": [0.6308479313311788, 0.4018328600056425, 0.32712683845699453, 0.2829937283795083, 0.24870784011309124, 0.22161846916413022, 0.1993573621970912], \"source_val_label_loss\": [1.8514702320098877, 0.3739958703517914, 0.3565414547920227, 0.32810086011886597, 0.32375484704971313, 0.32410237193107605, 0.31861233711242676], \"target_val_label_loss\": [19.707195281982422, 2.0833640098571777, 1.8278876543045044, 2.9540061950683594, 2.94736385345459, 2.6486175060272217, 2.4371278285980225], \"source_val_acc_label\": [0.7420833333333333, 0.8660091145833333, 0.8690169270833333, 0.8811393229166666, 0.882421875, 0.8855208333333333, 0.8857161458333334], \"target_val_acc_label\": [0.9464642857142858, 0.9895714285714285, 0.9905, 0.9882857142857143, 0.9887857142857143, 0.9902142857142857, 0.9900714285714286]}, \"dataset_metrics\": {\"source\": {\"train\": {\"n_unique_x\": 896000, \"n_unique_y\": 16, \"n_batch/episode\": 33600}, \"val\": {\"n_unique_x\": 192000, \"n_unique_y\": 16, \"n_batch/episode\": 4800}, \"test\": {\"n_unique_x\": 192000, \"n_unique_y\": 16, \"n_batch/episode\": 4800}}, \"target\": {\"train\": {\"n_unique_x\": 175158, \"n_unique_y\": 58, \"n_batch/episode\": 6317}, \"val\": {\"n_unique_x\": 37216, \"n_unique_y\": 58, \"n_batch/episode\": 875}, \"test\": {\"n_unique_x\": 37596, \"n_unique_y\": 58, \"n_batch/episode\": 886}}}}'"
      ]
     },
     "execution_count": 29,
     "metadata": {},
     "output_type": "execute_result"
    }
   ],
   "source": [
    "json.dumps(experiment)"
   ]
  }
 ],
 "metadata": {
  "celltoolbar": "Tags",
  "kernelspec": {
   "display_name": "Python 3 (ipykernel)",
   "language": "python",
   "name": "python3"
  },
  "language_info": {
   "codemirror_mode": {
    "name": "ipython",
    "version": 3
   },
   "file_extension": ".py",
   "mimetype": "text/x-python",
   "name": "python",
   "nbconvert_exporter": "python",
   "pygments_lexer": "ipython3",
   "version": "3.8.12"
  },
  "papermill": {
   "default_parameters": {},
   "duration": 7186.000999,
   "end_time": "2022-03-22T09:48:26.205952",
   "environment_variables": {},
   "exception": null,
   "input_path": "/root/csc500-main/csc500-notebooks/templates/tl_ptn_template.ipynb",
   "output_path": "trial.ipynb",
   "parameters": {
    "parameters": {
     "BEST_MODEL_PATH": "./best_model.pth",
     "NUM_LOGS_PER_EPOCH": 10,
     "criteria_for_best": "target_accuracy",
     "dataset_seed": 420,
     "datasets": [
      {
       "domain_prefix": "CORES_",
       "domains": [
        1,
        2,
        3,
        4,
        5
       ],
       "episode_transforms": [],
       "labels": [
        "1-10.",
        "1-11.",
        "1-15.",
        "1-16.",
        "1-17.",
        "1-18.",
        "1-19.",
        "10-4.",
        "10-7.",
        "11-1.",
        "11-14.",
        "11-17.",
        "11-20.",
        "11-7.",
        "13-20.",
        "13-8.",
        "14-10.",
        "14-11.",
        "14-14.",
        "14-7.",
        "15-1.",
        "15-20.",
        "16-1.",
        "16-16.",
        "17-10.",
        "17-11.",
        "17-2.",
        "19-1.",
        "19-16.",
        "19-19.",
        "19-20.",
        "19-3.",
        "2-10.",
        "2-11.",
        "2-17.",
        "2-18.",
        "2-20.",
        "2-3.",
        "2-4.",
        "2-5.",
        "2-6.",
        "2-7.",
        "2-8.",
        "3-13.",
        "3-18.",
        "3-3.",
        "4-1.",
        "4-10.",
        "4-11.",
        "4-19.",
        "5-5.",
        "6-15.",
        "7-10.",
        "7-14.",
        "8-18.",
        "8-20.",
        "8-3.",
        "8-8."
       ],
       "num_examples_per_domain_per_label": -1,
       "pickle_path": "/root/csc500-main/datasets/cores.stratified_ds.2022A.pkl",
       "source_or_target_dataset": "target",
       "x_transforms": []
      },
      {
       "domain_prefix": "ORACLE.run1_",
       "domains": [
        32,
        38,
        8,
        44,
        14,
        50,
        20,
        26
       ],
       "episode_transforms": [],
       "labels": [
        "3123D52",
        "3123D65",
        "3123D79",
        "3123D80",
        "3123D54",
        "3123D70",
        "3123D7B",
        "3123D89",
        "3123D58",
        "3123D76",
        "3123D7D",
        "3123EFE",
        "3123D64",
        "3123D78",
        "3123D7E",
        "3124E4A"
       ],
       "num_examples_per_domain_per_label": 10000,
       "pickle_path": "/root/csc500-main/datasets/oracle.Run1_10kExamples_stratified_ds.2022A.pkl",
       "source_or_target_dataset": "source",
       "x_transforms": []
      }
     ],
     "device": "cuda",
     "experiment_name": "tl_1v2:cores-oracle.run1",
     "lr": 0.0001,
     "n_epoch": 50,
     "n_query": 2,
     "n_shot": 3,
     "n_way": 16,
     "patience": 3,
     "seed": 420,
     "test_k_factor": 2,
     "torch_default_dtype": "torch.float32",
     "train_k_factor": 3,
     "val_k_factor": 2,
     "x_net": [
      {
       "class": "nnReshape",
       "kargs": {
        "shape": [
         -1,
         1,
         2,
         256
        ]
       }
      },
      {
       "class": "Conv2d",
       "kargs": {
        "bias": false,
        "in_channels": 1,
        "kernel_size": [
         1,
         7
        ],
        "out_channels": 256,
        "padding": [
         0,
         3
        ]
       }
      },
      {
       "class": "ReLU",
       "kargs": {
        "inplace": true
       }
      },
      {
       "class": "BatchNorm2d",
       "kargs": {
        "num_features": 256
       }
      },
      {
       "class": "Conv2d",
       "kargs": {
        "bias": true,
        "in_channels": 256,
        "kernel_size": [
         2,
         7
        ],
        "out_channels": 80,
        "padding": [
         0,
         3
        ]
       }
      },
      {
       "class": "ReLU",
       "kargs": {
        "inplace": true
       }
      },
      {
       "class": "BatchNorm2d",
       "kargs": {
        "num_features": 80
       }
      },
      {
       "class": "Flatten",
       "kargs": {}
      },
      {
       "class": "Linear",
       "kargs": {
        "in_features": 20480,
        "out_features": 256
       }
      },
      {
       "class": "ReLU",
       "kargs": {
        "inplace": true
       }
      },
      {
       "class": "BatchNorm1d",
       "kargs": {
        "num_features": 256
       }
      },
      {
       "class": "Linear",
       "kargs": {
        "in_features": 256,
        "out_features": 256
       }
      }
     ]
    }
   },
   "start_time": "2022-03-22T07:48:40.204953",
   "version": "2.3.4"
  }
 },
 "nbformat": 4,
 "nbformat_minor": 5
}