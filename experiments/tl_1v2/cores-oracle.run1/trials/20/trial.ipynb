{
 "cells": [
  {
   "cell_type": "markdown",
   "id": "9fea5f46",
   "metadata": {
    "papermill": {
     "duration": 0.032036,
     "end_time": "2022-03-22T21:23:32.348043",
     "exception": false,
     "start_time": "2022-03-22T21:23:32.316007",
     "status": "completed"
    },
    "tags": []
   },
   "source": [
    "# Transfer Learning Template"
   ]
  },
  {
   "cell_type": "code",
   "execution_count": 1,
   "id": "0902182a",
   "metadata": {
    "execution": {
     "iopub.execute_input": "2022-03-22T21:23:32.409301Z",
     "iopub.status.busy": "2022-03-22T21:23:32.397756Z",
     "iopub.status.idle": "2022-03-22T21:23:34.325133Z",
     "shell.execute_reply": "2022-03-22T21:23:34.324257Z"
    },
    "papermill": {
     "duration": 1.953819,
     "end_time": "2022-03-22T21:23:34.325329",
     "exception": false,
     "start_time": "2022-03-22T21:23:32.371510",
     "status": "completed"
    },
    "tags": []
   },
   "outputs": [],
   "source": [
    "%load_ext autoreload\n",
    "%autoreload 2\n",
    "%matplotlib inline\n",
    "\n",
    "    \n",
    "import os, json, sys, time, random\n",
    "import numpy as np\n",
    "import torch\n",
    "from torch.optim import Adam\n",
    "from  easydict import EasyDict\n",
    "import matplotlib.pyplot as plt\n",
    "\n",
    "from steves_models.steves_ptn import Steves_Prototypical_Network\n",
    "\n",
    "from steves_utils.lazy_iterable_wrapper import Lazy_Iterable_Wrapper\n",
    "from steves_utils.iterable_aggregator import Iterable_Aggregator\n",
    "from steves_utils.ptn_train_eval_test_jig import  PTN_Train_Eval_Test_Jig\n",
    "from steves_utils.torch_sequential_builder import build_sequential\n",
    "from steves_utils.torch_utils import get_dataset_metrics, ptn_confusion_by_domain_over_dataloader\n",
    "from steves_utils.utils_v2 import (per_domain_accuracy_from_confusion, get_datasets_base_path)\n",
    "from steves_utils.PTN.utils import independent_accuracy_assesment\n",
    "\n",
    "from torch.utils.data import DataLoader\n",
    "\n",
    "from steves_utils.stratified_dataset.episodic_accessor import Episodic_Accessor_Factory\n",
    "\n",
    "from steves_utils.ptn_do_report import (\n",
    "    get_loss_curve,\n",
    "    get_results_table,\n",
    "    get_parameters_table,\n",
    "    get_domain_accuracies,\n",
    ")\n",
    "\n",
    "from steves_utils.transforms import get_chained_transform"
   ]
  },
  {
   "cell_type": "markdown",
   "id": "41c840b4",
   "metadata": {
    "papermill": {
     "duration": 0.020628,
     "end_time": "2022-03-22T21:23:34.370815",
     "exception": false,
     "start_time": "2022-03-22T21:23:34.350187",
     "status": "completed"
    },
    "tags": []
   },
   "source": [
    "# Allowed Parameters\n",
    "These are allowed parameters, not defaults\n",
    "Each of these values need to be present in the injected parameters (the notebook will raise an exception if they are not present)\n",
    "\n",
    "Papermill uses the cell tag \"parameters\" to inject the real parameters below this cell.\n",
    "Enable tags to see what I mean"
   ]
  },
  {
   "cell_type": "code",
   "execution_count": 2,
   "id": "fd44eb83",
   "metadata": {
    "execution": {
     "iopub.execute_input": "2022-03-22T21:23:34.417748Z",
     "iopub.status.busy": "2022-03-22T21:23:34.417077Z",
     "iopub.status.idle": "2022-03-22T21:23:34.440455Z",
     "shell.execute_reply": "2022-03-22T21:23:34.439489Z"
    },
    "papermill": {
     "duration": 0.049347,
     "end_time": "2022-03-22T21:23:34.440691",
     "exception": false,
     "start_time": "2022-03-22T21:23:34.391344",
     "status": "completed"
    },
    "tags": []
   },
   "outputs": [],
   "source": [
    "required_parameters = {\n",
    "    \"experiment_name\",\n",
    "    \"lr\",\n",
    "    \"device\",\n",
    "    \"seed\",\n",
    "    \"dataset_seed\",\n",
    "    \"n_shot\",\n",
    "    \"n_query\",\n",
    "    \"n_way\",\n",
    "    \"train_k_factor\",\n",
    "    \"val_k_factor\",\n",
    "    \"test_k_factor\",\n",
    "    \"n_epoch\",\n",
    "    \"patience\",\n",
    "    \"criteria_for_best\",\n",
    "    \"x_net\",\n",
    "    \"datasets\",\n",
    "    \"torch_default_dtype\",\n",
    "    \"NUM_LOGS_PER_EPOCH\",\n",
    "    \"BEST_MODEL_PATH\",\n",
    "    \"x_shape\",\n",
    "}"
   ]
  },
  {
   "cell_type": "code",
   "execution_count": 3,
   "id": "fa3f0049",
   "metadata": {
    "execution": {
     "iopub.execute_input": "2022-03-22T21:23:34.503451Z",
     "iopub.status.busy": "2022-03-22T21:23:34.502506Z",
     "iopub.status.idle": "2022-03-22T21:23:34.523153Z",
     "shell.execute_reply": "2022-03-22T21:23:34.522382Z"
    },
    "papermill": {
     "duration": 0.058058,
     "end_time": "2022-03-22T21:23:34.523311",
     "exception": false,
     "start_time": "2022-03-22T21:23:34.465253",
     "status": "completed"
    },
    "tags": [
     "parameters"
    ]
   },
   "outputs": [],
   "source": [
    "from steves_utils.CORES.utils import (\n",
    "    ALL_NODES,\n",
    "    ALL_NODES_MINIMUM_1000_EXAMPLES,\n",
    "    ALL_DAYS\n",
    ")\n",
    "\n",
    "from steves_utils.ORACLE.utils_v2 import (\n",
    "    ALL_DISTANCES_FEET_NARROWED,\n",
    "    ALL_RUNS,\n",
    "    ALL_SERIAL_NUMBERS,\n",
    ")\n",
    "\n",
    "standalone_parameters = {}\n",
    "standalone_parameters[\"experiment_name\"] = \"STANDALONE PTN\"\n",
    "standalone_parameters[\"lr\"] = 0.001\n",
    "standalone_parameters[\"device\"] = \"cuda\"\n",
    "\n",
    "standalone_parameters[\"seed\"] = 1337\n",
    "standalone_parameters[\"dataset_seed\"] = 1337\n",
    "\n",
    "standalone_parameters[\"n_way\"] = 8\n",
    "standalone_parameters[\"n_shot\"] = 3\n",
    "standalone_parameters[\"n_query\"]  = 2\n",
    "standalone_parameters[\"train_k_factor\"] = 1\n",
    "standalone_parameters[\"val_k_factor\"] = 2\n",
    "standalone_parameters[\"test_k_factor\"] = 2\n",
    "\n",
    "\n",
    "standalone_parameters[\"n_epoch\"] = 50\n",
    "\n",
    "standalone_parameters[\"patience\"] = 10\n",
    "standalone_parameters[\"criteria_for_best\"] = \"source_loss\"\n",
    "\n",
    "standalone_parameters[\"datasets\"] = [\n",
    "    {\n",
    "        \"labels\": ALL_SERIAL_NUMBERS,\n",
    "        \"domains\": ALL_DISTANCES_FEET_NARROWED,\n",
    "        \"num_examples_per_domain_per_label\": 100,\n",
    "        \"pickle_path\": os.path.join(get_datasets_base_path(), \"oracle.Run1_framed_2000Examples_stratified_ds.2022A.pkl\"),\n",
    "        \"source_or_target_dataset\": \"source\",\n",
    "        \"x_transforms\": [\"unit_mag\", \"minus_two\"],\n",
    "        \"episode_transforms\": [],\n",
    "        \"domain_prefix\": \"ORACLE_\"\n",
    "    },\n",
    "    {\n",
    "        \"labels\": ALL_NODES,\n",
    "        \"domains\": ALL_DAYS,\n",
    "        \"num_examples_per_domain_per_label\": 100,\n",
    "        \"pickle_path\": os.path.join(get_datasets_base_path(), \"cores.stratified_ds.2022A.pkl\"),\n",
    "        \"source_or_target_dataset\": \"target\",\n",
    "        \"x_transforms\": [\"unit_power\", \"times_zero\"],\n",
    "        \"episode_transforms\": [],\n",
    "        \"domain_prefix\": \"CORES_\"\n",
    "    }   \n",
    "]\n",
    "\n",
    "standalone_parameters[\"torch_default_dtype\"] = \"torch.float32\" \n",
    "\n",
    "\n",
    "\n",
    "standalone_parameters[\"x_net\"] =     [\n",
    "    {\"class\": \"nnReshape\", \"kargs\": {\"shape\":[-1, 1, 2, 256]}},\n",
    "    {\"class\": \"Conv2d\", \"kargs\": { \"in_channels\":1, \"out_channels\":256, \"kernel_size\":(1,7), \"bias\":False, \"padding\":(0,3), },},\n",
    "    {\"class\": \"ReLU\", \"kargs\": {\"inplace\": True}},\n",
    "    {\"class\": \"BatchNorm2d\", \"kargs\": {\"num_features\":256}},\n",
    "\n",
    "    {\"class\": \"Conv2d\", \"kargs\": { \"in_channels\":256, \"out_channels\":80, \"kernel_size\":(2,7), \"bias\":True, \"padding\":(0,3), },},\n",
    "    {\"class\": \"ReLU\", \"kargs\": {\"inplace\": True}},\n",
    "    {\"class\": \"BatchNorm2d\", \"kargs\": {\"num_features\":80}},\n",
    "    {\"class\": \"Flatten\", \"kargs\": {}},\n",
    "\n",
    "    {\"class\": \"Linear\", \"kargs\": {\"in_features\": 80*256, \"out_features\": 256}}, # 80 units per IQ pair\n",
    "    {\"class\": \"ReLU\", \"kargs\": {\"inplace\": True}},\n",
    "    {\"class\": \"BatchNorm1d\", \"kargs\": {\"num_features\":256}},\n",
    "\n",
    "    {\"class\": \"Linear\", \"kargs\": {\"in_features\": 256, \"out_features\": 256}},\n",
    "]\n",
    "\n",
    "# Parameters relevant to results\n",
    "# These parameters will basically never need to change\n",
    "standalone_parameters[\"NUM_LOGS_PER_EPOCH\"] = 10\n",
    "standalone_parameters[\"BEST_MODEL_PATH\"] = \"./best_model.pth\"\n",
    "\n",
    "\n",
    "\n",
    "\n"
   ]
  },
  {
   "cell_type": "code",
   "execution_count": 4,
   "id": "f35c7d47",
   "metadata": {
    "execution": {
     "iopub.execute_input": "2022-03-22T21:23:34.586155Z",
     "iopub.status.busy": "2022-03-22T21:23:34.585149Z",
     "iopub.status.idle": "2022-03-22T21:23:34.605461Z",
     "shell.execute_reply": "2022-03-22T21:23:34.604774Z"
    },
    "papermill": {
     "duration": 0.054871,
     "end_time": "2022-03-22T21:23:34.605638",
     "exception": false,
     "start_time": "2022-03-22T21:23:34.550767",
     "status": "completed"
    },
    "tags": [
     "injected-parameters"
    ]
   },
   "outputs": [],
   "source": [
    "# Parameters\n",
    "parameters = {\n",
    "    \"experiment_name\": \"tl_1v2:cores-oracle.run1\",\n",
    "    \"device\": \"cuda\",\n",
    "    \"lr\": 0.0001,\n",
    "    \"n_shot\": 3,\n",
    "    \"n_query\": 2,\n",
    "    \"train_k_factor\": 3,\n",
    "    \"val_k_factor\": 2,\n",
    "    \"test_k_factor\": 2,\n",
    "    \"torch_default_dtype\": \"torch.float32\",\n",
    "    \"n_epoch\": 50,\n",
    "    \"patience\": 3,\n",
    "    \"criteria_for_best\": \"target_accuracy\",\n",
    "    \"x_net\": [\n",
    "        {\"class\": \"nnReshape\", \"kargs\": {\"shape\": [-1, 1, 2, 256]}},\n",
    "        {\n",
    "            \"class\": \"Conv2d\",\n",
    "            \"kargs\": {\n",
    "                \"in_channels\": 1,\n",
    "                \"out_channels\": 256,\n",
    "                \"kernel_size\": [1, 7],\n",
    "                \"bias\": False,\n",
    "                \"padding\": [0, 3],\n",
    "            },\n",
    "        },\n",
    "        {\"class\": \"ReLU\", \"kargs\": {\"inplace\": True}},\n",
    "        {\"class\": \"BatchNorm2d\", \"kargs\": {\"num_features\": 256}},\n",
    "        {\n",
    "            \"class\": \"Conv2d\",\n",
    "            \"kargs\": {\n",
    "                \"in_channels\": 256,\n",
    "                \"out_channels\": 80,\n",
    "                \"kernel_size\": [2, 7],\n",
    "                \"bias\": True,\n",
    "                \"padding\": [0, 3],\n",
    "            },\n",
    "        },\n",
    "        {\"class\": \"ReLU\", \"kargs\": {\"inplace\": True}},\n",
    "        {\"class\": \"BatchNorm2d\", \"kargs\": {\"num_features\": 80}},\n",
    "        {\"class\": \"Flatten\", \"kargs\": {}},\n",
    "        {\"class\": \"Linear\", \"kargs\": {\"in_features\": 20480, \"out_features\": 256}},\n",
    "        {\"class\": \"ReLU\", \"kargs\": {\"inplace\": True}},\n",
    "        {\"class\": \"BatchNorm1d\", \"kargs\": {\"num_features\": 256}},\n",
    "        {\"class\": \"Linear\", \"kargs\": {\"in_features\": 256, \"out_features\": 256}},\n",
    "    ],\n",
    "    \"NUM_LOGS_PER_EPOCH\": 10,\n",
    "    \"BEST_MODEL_PATH\": \"./best_model.pth\",\n",
    "    \"n_way\": 16,\n",
    "    \"datasets\": [\n",
    "        {\n",
    "            \"labels\": [\n",
    "                \"1-10.\",\n",
    "                \"1-11.\",\n",
    "                \"1-15.\",\n",
    "                \"1-16.\",\n",
    "                \"1-17.\",\n",
    "                \"1-18.\",\n",
    "                \"1-19.\",\n",
    "                \"10-4.\",\n",
    "                \"10-7.\",\n",
    "                \"11-1.\",\n",
    "                \"11-14.\",\n",
    "                \"11-17.\",\n",
    "                \"11-20.\",\n",
    "                \"11-7.\",\n",
    "                \"13-20.\",\n",
    "                \"13-8.\",\n",
    "                \"14-10.\",\n",
    "                \"14-11.\",\n",
    "                \"14-14.\",\n",
    "                \"14-7.\",\n",
    "                \"15-1.\",\n",
    "                \"15-20.\",\n",
    "                \"16-1.\",\n",
    "                \"16-16.\",\n",
    "                \"17-10.\",\n",
    "                \"17-11.\",\n",
    "                \"17-2.\",\n",
    "                \"19-1.\",\n",
    "                \"19-16.\",\n",
    "                \"19-19.\",\n",
    "                \"19-20.\",\n",
    "                \"19-3.\",\n",
    "                \"2-10.\",\n",
    "                \"2-11.\",\n",
    "                \"2-17.\",\n",
    "                \"2-18.\",\n",
    "                \"2-20.\",\n",
    "                \"2-3.\",\n",
    "                \"2-4.\",\n",
    "                \"2-5.\",\n",
    "                \"2-6.\",\n",
    "                \"2-7.\",\n",
    "                \"2-8.\",\n",
    "                \"3-13.\",\n",
    "                \"3-18.\",\n",
    "                \"3-3.\",\n",
    "                \"4-1.\",\n",
    "                \"4-10.\",\n",
    "                \"4-11.\",\n",
    "                \"4-19.\",\n",
    "                \"5-5.\",\n",
    "                \"6-15.\",\n",
    "                \"7-10.\",\n",
    "                \"7-14.\",\n",
    "                \"8-18.\",\n",
    "                \"8-20.\",\n",
    "                \"8-3.\",\n",
    "                \"8-8.\",\n",
    "            ],\n",
    "            \"domains\": [1, 2, 3, 4, 5],\n",
    "            \"num_examples_per_domain_per_label\": -1,\n",
    "            \"pickle_path\": \"/root/csc500-main/datasets/cores.stratified_ds.2022A.pkl\",\n",
    "            \"source_or_target_dataset\": \"source\",\n",
    "            \"x_transforms\": [],\n",
    "            \"episode_transforms\": [],\n",
    "            \"domain_prefix\": \"CORES_\",\n",
    "        },\n",
    "        {\n",
    "            \"labels\": [\n",
    "                \"3123D52\",\n",
    "                \"3123D65\",\n",
    "                \"3123D79\",\n",
    "                \"3123D80\",\n",
    "                \"3123D54\",\n",
    "                \"3123D70\",\n",
    "                \"3123D7B\",\n",
    "                \"3123D89\",\n",
    "                \"3123D58\",\n",
    "                \"3123D76\",\n",
    "                \"3123D7D\",\n",
    "                \"3123EFE\",\n",
    "                \"3123D64\",\n",
    "                \"3123D78\",\n",
    "                \"3123D7E\",\n",
    "                \"3124E4A\",\n",
    "            ],\n",
    "            \"domains\": [32, 38, 8, 44, 14, 50, 20, 26],\n",
    "            \"num_examples_per_domain_per_label\": 10000,\n",
    "            \"pickle_path\": \"/root/csc500-main/datasets/oracle.Run1_10kExamples_stratified_ds.2022A.pkl\",\n",
    "            \"source_or_target_dataset\": \"target\",\n",
    "            \"x_transforms\": [],\n",
    "            \"episode_transforms\": [],\n",
    "            \"domain_prefix\": \"ORACLE.run1_\",\n",
    "        },\n",
    "    ],\n",
    "    \"dataset_seed\": 7,\n",
    "    \"seed\": 7,\n",
    "}\n"
   ]
  },
  {
   "cell_type": "code",
   "execution_count": 5,
   "id": "8fa1cc33",
   "metadata": {
    "execution": {
     "iopub.execute_input": "2022-03-22T21:23:34.662359Z",
     "iopub.status.busy": "2022-03-22T21:23:34.661497Z",
     "iopub.status.idle": "2022-03-22T21:23:34.681717Z",
     "shell.execute_reply": "2022-03-22T21:23:34.680980Z"
    },
    "papermill": {
     "duration": 0.048464,
     "end_time": "2022-03-22T21:23:34.681940",
     "exception": false,
     "start_time": "2022-03-22T21:23:34.633476",
     "status": "completed"
    },
    "tags": []
   },
   "outputs": [],
   "source": [
    "# Set this to True if you want to run this template directly\n",
    "STANDALONE = False\n",
    "if STANDALONE:\n",
    "    print(\"parameters not injected, running with standalone_parameters\")\n",
    "    parameters = standalone_parameters\n",
    "\n",
    "if not 'parameters' in locals() and not 'parameters' in globals():\n",
    "    raise Exception(\"Parameter injection failed\")\n",
    "\n",
    "#Use an easy dict for all the parameters\n",
    "p = EasyDict(parameters)\n",
    "\n",
    "if \"x_shape\" not in p:\n",
    "    p.x_shape = [2,256] # Default to this if we dont supply x_shape\n",
    "\n",
    "\n",
    "supplied_keys = set(p.keys())\n",
    "\n",
    "if  supplied_keys != required_parameters:\n",
    "    print(\"Parameters are incorrect\")\n",
    "    if len(supplied_keys - required_parameters)>0: print(\"Shouldn't have:\", str(supplied_keys - required_parameters))\n",
    "    if len(required_parameters - supplied_keys)>0: print(\"Need to have:\", str(required_parameters - supplied_keys))\n",
    "    raise RuntimeError(\"Parameters are incorrect\")"
   ]
  },
  {
   "cell_type": "code",
   "execution_count": 6,
   "id": "3a028d58",
   "metadata": {
    "execution": {
     "iopub.execute_input": "2022-03-22T21:23:34.732879Z",
     "iopub.status.busy": "2022-03-22T21:23:34.732189Z",
     "iopub.status.idle": "2022-03-22T21:23:34.752615Z",
     "shell.execute_reply": "2022-03-22T21:23:34.751851Z"
    },
    "papermill": {
     "duration": 0.045584,
     "end_time": "2022-03-22T21:23:34.752774",
     "exception": false,
     "start_time": "2022-03-22T21:23:34.707190",
     "status": "completed"
    },
    "tags": []
   },
   "outputs": [],
   "source": [
    "###################################\n",
    "# Set the RNGs and make it all deterministic\n",
    "###################################\n",
    "np.random.seed(p.seed)\n",
    "random.seed(p.seed)\n",
    "torch.manual_seed(p.seed)\n",
    "\n",
    "torch.use_deterministic_algorithms(True) "
   ]
  },
  {
   "cell_type": "code",
   "execution_count": 7,
   "id": "b691acf6",
   "metadata": {
    "execution": {
     "iopub.execute_input": "2022-03-22T21:23:34.810024Z",
     "iopub.status.busy": "2022-03-22T21:23:34.807226Z",
     "iopub.status.idle": "2022-03-22T21:23:34.827666Z",
     "shell.execute_reply": "2022-03-22T21:23:34.826687Z"
    },
    "papermill": {
     "duration": 0.046388,
     "end_time": "2022-03-22T21:23:34.827917",
     "exception": false,
     "start_time": "2022-03-22T21:23:34.781529",
     "status": "completed"
    },
    "tags": []
   },
   "outputs": [],
   "source": [
    "###########################################\n",
    "# The stratified datasets honor this\n",
    "###########################################\n",
    "torch.set_default_dtype(eval(p.torch_default_dtype))"
   ]
  },
  {
   "cell_type": "code",
   "execution_count": 8,
   "id": "b5fba671",
   "metadata": {
    "execution": {
     "iopub.execute_input": "2022-03-22T21:23:34.875294Z",
     "iopub.status.busy": "2022-03-22T21:23:34.874373Z",
     "iopub.status.idle": "2022-03-22T21:23:34.932384Z",
     "shell.execute_reply": "2022-03-22T21:23:34.929910Z"
    },
    "papermill": {
     "duration": 0.080876,
     "end_time": "2022-03-22T21:23:34.932576",
     "exception": false,
     "start_time": "2022-03-22T21:23:34.851700",
     "status": "completed"
    },
    "tags": []
   },
   "outputs": [],
   "source": [
    "###################################\n",
    "# Build the network(s)\n",
    "# Note: It's critical to do this AFTER setting the RNG\n",
    "###################################\n",
    "x_net = build_sequential(p.x_net)"
   ]
  },
  {
   "cell_type": "code",
   "execution_count": 9,
   "id": "5d7e61cc",
   "metadata": {
    "execution": {
     "iopub.execute_input": "2022-03-22T21:23:34.981677Z",
     "iopub.status.busy": "2022-03-22T21:23:34.981286Z",
     "iopub.status.idle": "2022-03-22T21:23:35.005705Z",
     "shell.execute_reply": "2022-03-22T21:23:35.004882Z"
    },
    "papermill": {
     "duration": 0.048533,
     "end_time": "2022-03-22T21:23:35.005873",
     "exception": false,
     "start_time": "2022-03-22T21:23:34.957340",
     "status": "completed"
    },
    "tags": []
   },
   "outputs": [],
   "source": [
    "start_time_secs = time.time()"
   ]
  },
  {
   "cell_type": "code",
   "execution_count": 10,
   "id": "c6b67dfd",
   "metadata": {
    "execution": {
     "iopub.execute_input": "2022-03-22T21:23:35.056345Z",
     "iopub.status.busy": "2022-03-22T21:23:35.055881Z",
     "iopub.status.idle": "2022-03-22T21:23:35.075982Z",
     "shell.execute_reply": "2022-03-22T21:23:35.075113Z"
    },
    "papermill": {
     "duration": 0.044912,
     "end_time": "2022-03-22T21:23:35.076151",
     "exception": false,
     "start_time": "2022-03-22T21:23:35.031239",
     "status": "completed"
    },
    "tags": []
   },
   "outputs": [],
   "source": [
    "p.domains_source = []\n",
    "p.domains_target = []\n",
    "\n",
    "\n",
    "train_original_source = []\n",
    "val_original_source   = []\n",
    "test_original_source  = []\n",
    "\n",
    "train_original_target = []\n",
    "val_original_target   = []\n",
    "test_original_target  = []"
   ]
  },
  {
   "cell_type": "code",
   "execution_count": 11,
   "id": "e3d9c3d3",
   "metadata": {
    "execution": {
     "iopub.execute_input": "2022-03-22T21:23:35.127125Z",
     "iopub.status.busy": "2022-03-22T21:23:35.126753Z",
     "iopub.status.idle": "2022-03-22T21:23:35.146518Z",
     "shell.execute_reply": "2022-03-22T21:23:35.145712Z"
    },
    "papermill": {
     "duration": 0.043317,
     "end_time": "2022-03-22T21:23:35.146683",
     "exception": false,
     "start_time": "2022-03-22T21:23:35.103366",
     "status": "completed"
    },
    "tags": []
   },
   "outputs": [],
   "source": [
    "# global_x_transform_func = lambda x: normalize(x.to(torch.get_default_dtype()), \"unit_power\") # unit_power, unit_mag\n",
    "# global_x_transform_func = lambda x: normalize(x, \"unit_power\") # unit_power, unit_mag"
   ]
  },
  {
   "cell_type": "code",
   "execution_count": 12,
   "id": "acb78fd2",
   "metadata": {
    "execution": {
     "iopub.execute_input": "2022-03-22T21:23:35.205697Z",
     "iopub.status.busy": "2022-03-22T21:23:35.204840Z",
     "iopub.status.idle": "2022-03-22T21:23:35.223011Z",
     "shell.execute_reply": "2022-03-22T21:23:35.222189Z"
    },
    "papermill": {
     "duration": 0.051337,
     "end_time": "2022-03-22T21:23:35.223176",
     "exception": false,
     "start_time": "2022-03-22T21:23:35.171839",
     "status": "completed"
    },
    "tags": []
   },
   "outputs": [],
   "source": [
    "def add_dataset(\n",
    "    labels,\n",
    "    domains,\n",
    "    pickle_path,\n",
    "    x_transforms,\n",
    "    episode_transforms,\n",
    "    domain_prefix,\n",
    "    num_examples_per_domain_per_label,\n",
    "    source_or_target_dataset:str,\n",
    "    iterator_seed=p.seed,\n",
    "    dataset_seed=p.dataset_seed,\n",
    "    n_shot=p.n_shot,\n",
    "    n_way=p.n_way,\n",
    "    n_query=p.n_query,\n",
    "    train_val_test_k_factors=(p.train_k_factor,p.val_k_factor,p.test_k_factor),\n",
    "):\n",
    "   \n",
    "    if x_transforms == []: x_transform = None\n",
    "    else: x_transform = get_chained_transform(x_transforms)\n",
    "    \n",
    "    if episode_transforms == []: episode_transform = None\n",
    "    else: raise Exception(\"episode_transforms not implemented\")\n",
    "    \n",
    "    episode_transform = lambda tup, _prefix=domain_prefix: (_prefix + str(tup[0]), tup[1])\n",
    "\n",
    "\n",
    "    eaf = Episodic_Accessor_Factory(\n",
    "        labels=labels,\n",
    "        domains=domains,\n",
    "        num_examples_per_domain_per_label=num_examples_per_domain_per_label,\n",
    "        iterator_seed=iterator_seed,\n",
    "        dataset_seed=dataset_seed,\n",
    "        n_shot=n_shot,\n",
    "        n_way=n_way,\n",
    "        n_query=n_query,\n",
    "        train_val_test_k_factors=train_val_test_k_factors,\n",
    "        pickle_path=pickle_path,\n",
    "        x_transform_func=x_transform,\n",
    "    )\n",
    "\n",
    "    train, val, test = eaf.get_train(), eaf.get_val(), eaf.get_test()\n",
    "    train = Lazy_Iterable_Wrapper(train, episode_transform)\n",
    "    val = Lazy_Iterable_Wrapper(val, episode_transform)\n",
    "    test = Lazy_Iterable_Wrapper(test, episode_transform)\n",
    "\n",
    "    if source_or_target_dataset==\"source\":\n",
    "        train_original_source.append(train)\n",
    "        val_original_source.append(val)\n",
    "        test_original_source.append(test)\n",
    "\n",
    "        p.domains_source.extend(\n",
    "            [domain_prefix + str(u) for u in domains]\n",
    "        )\n",
    "    elif source_or_target_dataset==\"target\":\n",
    "        train_original_target.append(train)\n",
    "        val_original_target.append(val)\n",
    "        test_original_target.append(test)\n",
    "        p.domains_target.extend(\n",
    "            [domain_prefix + str(u) for u in domains]\n",
    "        )\n",
    "    else:\n",
    "        raise Exception(f\"invalid source_or_target_dataset: {source_or_target_dataset}\")\n",
    "    "
   ]
  },
  {
   "cell_type": "code",
   "execution_count": 13,
   "id": "fe266617",
   "metadata": {
    "execution": {
     "iopub.execute_input": "2022-03-22T21:23:35.276093Z",
     "iopub.status.busy": "2022-03-22T21:23:35.273899Z",
     "iopub.status.idle": "2022-03-22T21:23:45.734011Z",
     "shell.execute_reply": "2022-03-22T21:23:45.733235Z"
    },
    "papermill": {
     "duration": 10.483422,
     "end_time": "2022-03-22T21:23:45.734188",
     "exception": false,
     "start_time": "2022-03-22T21:23:35.250766",
     "status": "completed"
    },
    "tags": []
   },
   "outputs": [],
   "source": [
    "for ds in p.datasets:\n",
    "    add_dataset(**ds)"
   ]
  },
  {
   "cell_type": "code",
   "execution_count": 14,
   "id": "b90d65ac",
   "metadata": {
    "execution": {
     "iopub.execute_input": "2022-03-22T21:23:45.787505Z",
     "iopub.status.busy": "2022-03-22T21:23:45.787049Z",
     "iopub.status.idle": "2022-03-22T21:23:45.814597Z",
     "shell.execute_reply": "2022-03-22T21:23:45.813827Z"
    },
    "papermill": {
     "duration": 0.051823,
     "end_time": "2022-03-22T21:23:45.814759",
     "exception": false,
     "start_time": "2022-03-22T21:23:45.762936",
     "status": "completed"
    },
    "tags": []
   },
   "outputs": [],
   "source": [
    "# from steves_utils.CORES.utils import (\n",
    "#     ALL_NODES,\n",
    "#     ALL_NODES_MINIMUM_1000_EXAMPLES,\n",
    "#     ALL_DAYS\n",
    "# )\n",
    "\n",
    "# add_dataset(\n",
    "#     labels=ALL_NODES,\n",
    "#     domains = ALL_DAYS,\n",
    "#     num_examples_per_domain_per_label=100,\n",
    "#     pickle_path=os.path.join(get_datasets_base_path(), \"cores.stratified_ds.2022A.pkl\"),\n",
    "#     source_or_target_dataset=\"target\",\n",
    "#     x_transform_func=global_x_transform_func,\n",
    "#     domain_modifier=lambda u: f\"cores_{u}\"\n",
    "# )"
   ]
  },
  {
   "cell_type": "code",
   "execution_count": 15,
   "id": "76db484d",
   "metadata": {
    "execution": {
     "iopub.execute_input": "2022-03-22T21:23:45.870411Z",
     "iopub.status.busy": "2022-03-22T21:23:45.862975Z",
     "iopub.status.idle": "2022-03-22T21:23:45.883710Z",
     "shell.execute_reply": "2022-03-22T21:23:45.882922Z"
    },
    "papermill": {
     "duration": 0.043192,
     "end_time": "2022-03-22T21:23:45.883864",
     "exception": false,
     "start_time": "2022-03-22T21:23:45.840672",
     "status": "completed"
    },
    "tags": []
   },
   "outputs": [],
   "source": [
    "# from steves_utils.ORACLE.utils_v2 import (\n",
    "#     ALL_DISTANCES_FEET,\n",
    "#     ALL_RUNS,\n",
    "#     ALL_SERIAL_NUMBERS,\n",
    "# )\n",
    "\n",
    "\n",
    "# add_dataset(\n",
    "#     labels=ALL_SERIAL_NUMBERS,\n",
    "#     domains = list(set(ALL_DISTANCES_FEET) - {2,62}),\n",
    "#     num_examples_per_domain_per_label=100,\n",
    "#     pickle_path=os.path.join(get_datasets_base_path(), \"oracle.Run2_framed_2000Examples_stratified_ds.2022A.pkl\"),\n",
    "#     source_or_target_dataset=\"source\",\n",
    "#     x_transform_func=global_x_transform_func,\n",
    "#     domain_modifier=lambda u: f\"oracle1_{u}\"\n",
    "# )\n"
   ]
  },
  {
   "cell_type": "code",
   "execution_count": 16,
   "id": "97dea9d2",
   "metadata": {
    "execution": {
     "iopub.execute_input": "2022-03-22T21:23:45.933582Z",
     "iopub.status.busy": "2022-03-22T21:23:45.933127Z",
     "iopub.status.idle": "2022-03-22T21:23:45.950181Z",
     "shell.execute_reply": "2022-03-22T21:23:45.949383Z"
    },
    "papermill": {
     "duration": 0.03938,
     "end_time": "2022-03-22T21:23:45.950333",
     "exception": false,
     "start_time": "2022-03-22T21:23:45.910953",
     "status": "completed"
    },
    "tags": []
   },
   "outputs": [],
   "source": [
    "# from steves_utils.ORACLE.utils_v2 import (\n",
    "#     ALL_DISTANCES_FEET,\n",
    "#     ALL_RUNS,\n",
    "#     ALL_SERIAL_NUMBERS,\n",
    "# )\n",
    "\n",
    "\n",
    "# add_dataset(\n",
    "#     labels=ALL_SERIAL_NUMBERS,\n",
    "#     domains = list(set(ALL_DISTANCES_FEET) - {2,62,56}),\n",
    "#     num_examples_per_domain_per_label=100,\n",
    "#     pickle_path=os.path.join(get_datasets_base_path(), \"oracle.Run2_framed_2000Examples_stratified_ds.2022A.pkl\"),\n",
    "#     source_or_target_dataset=\"source\",\n",
    "#     x_transform_func=global_x_transform_func,\n",
    "#     domain_modifier=lambda u: f\"oracle2_{u}\"\n",
    "# )"
   ]
  },
  {
   "cell_type": "code",
   "execution_count": 17,
   "id": "6f289866",
   "metadata": {
    "execution": {
     "iopub.execute_input": "2022-03-22T21:23:46.003698Z",
     "iopub.status.busy": "2022-03-22T21:23:46.003108Z",
     "iopub.status.idle": "2022-03-22T21:23:46.016122Z",
     "shell.execute_reply": "2022-03-22T21:23:46.015370Z"
    },
    "papermill": {
     "duration": 0.039885,
     "end_time": "2022-03-22T21:23:46.016277",
     "exception": false,
     "start_time": "2022-03-22T21:23:45.976392",
     "status": "completed"
    },
    "tags": []
   },
   "outputs": [],
   "source": [
    "# add_dataset(\n",
    "#     labels=list(range(19)),\n",
    "#     domains = [0,1,2],\n",
    "#     num_examples_per_domain_per_label=100,\n",
    "#     pickle_path=os.path.join(get_datasets_base_path(), \"metehan.stratified_ds.2022A.pkl\"),\n",
    "#     source_or_target_dataset=\"target\",\n",
    "#     x_transform_func=global_x_transform_func,\n",
    "#     domain_modifier=lambda u: f\"met_{u}\"\n",
    "# )"
   ]
  },
  {
   "cell_type": "code",
   "execution_count": 18,
   "id": "86a863c3",
   "metadata": {
    "execution": {
     "iopub.execute_input": "2022-03-22T21:23:46.067522Z",
     "iopub.status.busy": "2022-03-22T21:23:46.067148Z",
     "iopub.status.idle": "2022-03-22T21:23:46.089148Z",
     "shell.execute_reply": "2022-03-22T21:23:46.088441Z"
    },
    "papermill": {
     "duration": 0.045669,
     "end_time": "2022-03-22T21:23:46.089303",
     "exception": false,
     "start_time": "2022-03-22T21:23:46.043634",
     "status": "completed"
    },
    "tags": []
   },
   "outputs": [],
   "source": [
    "# # from steves_utils.wisig.utils import (\n",
    "# #     ALL_NODES_MINIMUM_100_EXAMPLES,\n",
    "# #     ALL_NODES_MINIMUM_500_EXAMPLES,\n",
    "# #     ALL_NODES_MINIMUM_1000_EXAMPLES,\n",
    "# #     ALL_DAYS\n",
    "# # )\n",
    "\n",
    "# import steves_utils.wisig.utils as wisig\n",
    "\n",
    "\n",
    "# add_dataset(\n",
    "#     labels=wisig.ALL_NODES_MINIMUM_100_EXAMPLES,\n",
    "#     domains = wisig.ALL_DAYS,\n",
    "#     num_examples_per_domain_per_label=100,\n",
    "#     pickle_path=os.path.join(get_datasets_base_path(), \"wisig.node3-19.stratified_ds.2022A.pkl\"),\n",
    "#     source_or_target_dataset=\"target\",\n",
    "#     x_transform_func=global_x_transform_func,\n",
    "#     domain_modifier=lambda u: f\"wisig_{u}\"\n",
    "# )"
   ]
  },
  {
   "cell_type": "code",
   "execution_count": 19,
   "id": "fd5442bc",
   "metadata": {
    "execution": {
     "iopub.execute_input": "2022-03-22T21:23:46.147414Z",
     "iopub.status.busy": "2022-03-22T21:23:46.147019Z",
     "iopub.status.idle": "2022-03-22T21:23:46.166208Z",
     "shell.execute_reply": "2022-03-22T21:23:46.165500Z"
    },
    "papermill": {
     "duration": 0.047956,
     "end_time": "2022-03-22T21:23:46.166368",
     "exception": false,
     "start_time": "2022-03-22T21:23:46.118412",
     "status": "completed"
    },
    "tags": []
   },
   "outputs": [],
   "source": [
    "###################################\n",
    "# Build the dataset\n",
    "###################################\n",
    "train_original_source = Iterable_Aggregator(train_original_source, p.seed)\n",
    "val_original_source = Iterable_Aggregator(val_original_source, p.seed)\n",
    "test_original_source = Iterable_Aggregator(test_original_source, p.seed)\n",
    "\n",
    "\n",
    "train_original_target = Iterable_Aggregator(train_original_target, p.seed)\n",
    "val_original_target = Iterable_Aggregator(val_original_target, p.seed)\n",
    "test_original_target = Iterable_Aggregator(test_original_target, p.seed)\n",
    "\n",
    "# For CNN We only use X and Y. And we only train on the source.\n",
    "# Properly form the data using a transform lambda and Lazy_Iterable_Wrapper. Finally wrap them in a dataloader\n",
    "\n",
    "transform_lambda = lambda ex: ex[1] # Original is (<domain>, <episode>) so we strip down to episode only\n",
    "\n",
    "train_processed_source = Lazy_Iterable_Wrapper(train_original_source, transform_lambda)\n",
    "val_processed_source   = Lazy_Iterable_Wrapper(val_original_source, transform_lambda)\n",
    "test_processed_source  = Lazy_Iterable_Wrapper(test_original_source, transform_lambda)\n",
    "\n",
    "train_processed_target = Lazy_Iterable_Wrapper(train_original_target, transform_lambda)\n",
    "val_processed_target   = Lazy_Iterable_Wrapper(val_original_target, transform_lambda)\n",
    "test_processed_target  = Lazy_Iterable_Wrapper(test_original_target, transform_lambda)\n",
    "\n",
    "datasets = EasyDict({\n",
    "    \"source\": {\n",
    "        \"original\": {\"train\":train_original_source, \"val\":val_original_source, \"test\":test_original_source},\n",
    "        \"processed\": {\"train\":train_processed_source, \"val\":val_processed_source, \"test\":test_processed_source}\n",
    "    },\n",
    "    \"target\": {\n",
    "        \"original\": {\"train\":train_original_target, \"val\":val_original_target, \"test\":test_original_target},\n",
    "        \"processed\": {\"train\":train_processed_target, \"val\":val_processed_target, \"test\":test_processed_target}\n",
    "    },\n",
    "})"
   ]
  },
  {
   "cell_type": "code",
   "execution_count": 20,
   "id": "5b3c01fc",
   "metadata": {
    "execution": {
     "iopub.execute_input": "2022-03-22T21:23:46.220487Z",
     "iopub.status.busy": "2022-03-22T21:23:46.219869Z",
     "iopub.status.idle": "2022-03-22T21:24:17.764237Z",
     "shell.execute_reply": "2022-03-22T21:24:17.764941Z"
    },
    "papermill": {
     "duration": 31.572334,
     "end_time": "2022-03-22T21:24:17.765179",
     "exception": false,
     "start_time": "2022-03-22T21:23:46.192845",
     "status": "completed"
    },
    "tags": []
   },
   "outputs": [
    {
     "name": "stdout",
     "output_type": "stream",
     "text": [
      "{'CORES_1', 'CORES_3', 'CORES_4', 'CORES_2', 'CORES_5'}\n"
     ]
    },
    {
     "name": "stdout",
     "output_type": "stream",
     "text": [
      "{'ORACLE.run1_44', 'ORACLE.run1_26', 'ORACLE.run1_32', 'ORACLE.run1_8', 'ORACLE.run1_50', 'ORACLE.run1_14', 'ORACLE.run1_38', 'ORACLE.run1_20'}\n"
     ]
    },
    {
     "name": "stdout",
     "output_type": "stream",
     "text": [
      "tensor([[[ 2.4109e-03, -8.8503e-04,  1.1200e-02,  ..., -1.8067e-02,\n",
      "          -6.5828e-02, -8.9114e-03],\n",
      "         [ 1.6816e-02, -2.4384e-02, -5.3590e-02,  ..., -3.9033e-02,\n",
      "           5.8473e-02,  3.4303e-02]],\n",
      "\n",
      "        [[ 2.2889e-03, -8.8503e-04, -2.9908e-02,  ..., -4.1627e-02,\n",
      "           4.2512e-02,  6.9155e-02],\n",
      "         [-1.3825e-02, -1.4344e-03,  2.7497e-02,  ...,  2.6185e-02,\n",
      "           2.4354e-02, -2.1790e-02]],\n",
      "\n",
      "        [[-8.3925e-03, -2.0814e-02,  3.7354e-02,  ...,  5.8931e-02,\n",
      "           3.5615e-02, -9.9063e-02],\n",
      "         [ 1.1170e-02,  1.0773e-02, -4.1810e-03,  ...,  2.5849e-02,\n",
      "          -4.0773e-02, -6.2379e-02]],\n",
      "\n",
      "        ...,\n",
      "\n",
      "        [[-3.9063e-03, -1.6175e-03,  9.9795e-03,  ...,  1.0407e-02,\n",
      "           9.2471e-03, -6.7140e-04],\n",
      "         [-6.1037e-05, -8.5757e-03, -1.7395e-03,  ..., -8.1484e-03,\n",
      "          -1.8342e-02, -5.5849e-03]],\n",
      "\n",
      "        [[ 3.7538e-03,  5.6764e-03, -7.2328e-03,  ..., -8.8503e-04,\n",
      "           5.6459e-03,  3.8148e-03],\n",
      "         [-2.6856e-03,  6.8666e-03,  8.1789e-03,  ...,  1.3916e-02,\n",
      "           1.9135e-02,  1.4649e-03]],\n",
      "\n",
      "        [[-1.5870e-03, -1.6480e-03,  8.5146e-03,  ...,  6.8056e-03,\n",
      "           1.5259e-02,  1.7640e-02],\n",
      "         [ 5.7985e-04, -5.0050e-03, -3.2044e-03,  ...,  4.9135e-03,\n",
      "           2.1363e-04, -4.6388e-03]]])\n"
     ]
    }
   ],
   "source": [
    "from steves_utils.transforms import get_average_magnitude, get_average_power\n",
    "\n",
    "print(set([u for u,_ in val_original_source]))\n",
    "print(set([u for u,_ in val_original_target]))\n",
    "\n",
    "s_x, s_y, q_x, q_y, _ = next(iter(train_processed_source))\n",
    "print(s_x)\n",
    "\n",
    "# for ds in [\n",
    "#     train_processed_source,\n",
    "#     val_processed_source,\n",
    "#     test_processed_source,\n",
    "#     train_processed_target,\n",
    "#     val_processed_target,\n",
    "#     test_processed_target\n",
    "# ]:\n",
    "#     for s_x, s_y, q_x, q_y, _ in ds:\n",
    "#         for X in (s_x, q_x):\n",
    "#             for x in X:\n",
    "#                 assert np.isclose(get_average_magnitude(x.numpy()), 1.0)\n",
    "#                 assert np.isclose(get_average_power(x.numpy()), 1.0)\n",
    "                "
   ]
  },
  {
   "cell_type": "code",
   "execution_count": 21,
   "id": "bbdacba1",
   "metadata": {
    "execution": {
     "iopub.execute_input": "2022-03-22T21:24:17.823432Z",
     "iopub.status.busy": "2022-03-22T21:24:17.822866Z",
     "iopub.status.idle": "2022-03-22T21:24:17.987794Z",
     "shell.execute_reply": "2022-03-22T21:24:17.988284Z"
    },
    "papermill": {
     "duration": 0.19382,
     "end_time": "2022-03-22T21:24:17.988442",
     "exception": false,
     "start_time": "2022-03-22T21:24:17.794622",
     "status": "completed"
    },
    "tags": []
   },
   "outputs": [
    {
     "name": "stdout",
     "output_type": "stream",
     "text": [
      "(2, 256)\n"
     ]
    }
   ],
   "source": [
    "###################################\n",
    "# Build the model\n",
    "###################################\n",
    "# easfsl only wants a tuple for the shape\n",
    "model = Steves_Prototypical_Network(x_net, device=p.device, x_shape=tuple(p.x_shape))\n",
    "optimizer = Adam(params=model.parameters(), lr=p.lr)"
   ]
  },
  {
   "cell_type": "code",
   "execution_count": 22,
   "id": "22b39ac5",
   "metadata": {
    "execution": {
     "iopub.execute_input": "2022-03-22T21:24:18.069611Z",
     "iopub.status.busy": "2022-03-22T21:24:18.069249Z",
     "iopub.status.idle": "2022-03-22T21:42:21.880635Z",
     "shell.execute_reply": "2022-03-22T21:42:21.880295Z"
    },
    "papermill": {
     "duration": 1083.83851,
     "end_time": "2022-03-22T21:42:21.880715",
     "exception": false,
     "start_time": "2022-03-22T21:24:18.042205",
     "status": "completed"
    },
    "tags": []
   },
   "outputs": [
    {
     "name": "stdout",
     "output_type": "stream",
     "text": [
      "epoch: 1, [batch: 1 / 6316], examples_per_second: 35.0695, train_label_loss: 2.0591, \n"
     ]
    },
    {
     "name": "stdout",
     "output_type": "stream",
     "text": [
      "epoch: 1, [batch: 632 / 6316], examples_per_second: 4233.1448, train_label_loss: 0.0408, \n"
     ]
    },
    {
     "name": "stdout",
     "output_type": "stream",
     "text": [
      "epoch: 1, [batch: 1264 / 6316], examples_per_second: 3956.7873, train_label_loss: 0.0142, \n"
     ]
    },
    {
     "name": "stdout",
     "output_type": "stream",
     "text": [
      "epoch: 1, [batch: 1895 / 6316], examples_per_second: 3928.8104, train_label_loss: 0.0007, \n"
     ]
    },
    {
     "name": "stdout",
     "output_type": "stream",
     "text": [
      "epoch: 1, [batch: 2527 / 6316], examples_per_second: 3821.0665, train_label_loss: 0.0341, \n"
     ]
    },
    {
     "name": "stdout",
     "output_type": "stream",
     "text": [
      "epoch: 1, [batch: 3158 / 6316], examples_per_second: 3944.5350, train_label_loss: 0.0063, \n"
     ]
    },
    {
     "name": "stdout",
     "output_type": "stream",
     "text": [
      "epoch: 1, [batch: 3790 / 6316], examples_per_second: 3789.4062, train_label_loss: 0.0001, \n"
     ]
    },
    {
     "name": "stdout",
     "output_type": "stream",
     "text": [
      "epoch: 1, [batch: 4421 / 6316], examples_per_second: 3906.4352, train_label_loss: 0.0233, \n"
     ]
    },
    {
     "name": "stdout",
     "output_type": "stream",
     "text": [
      "epoch: 1, [batch: 5053 / 6316], examples_per_second: 4020.8837, train_label_loss: 0.0224, \n"
     ]
    },
    {
     "name": "stdout",
     "output_type": "stream",
     "text": [
      "epoch: 1, [batch: 5684 / 6316], examples_per_second: 4011.5691, train_label_loss: 0.0018, \n"
     ]
    },
    {
     "name": "stdout",
     "output_type": "stream",
     "text": [
      "=============================================================\n",
      "epoch: 1, source_val_acc_label: 0.9971, target_val_acc_label: 0.3323, source_val_label_loss: 0.0130, target_val_label_loss: 2.1025, \n",
      "=============================================================\n"
     ]
    },
    {
     "name": "stdout",
     "output_type": "stream",
     "text": [
      "New best\n"
     ]
    },
    {
     "name": "stdout",
     "output_type": "stream",
     "text": [
      "epoch: 2, [batch: 1 / 6296], examples_per_second: 2.1451, train_label_loss: 0.0195, \n"
     ]
    },
    {
     "name": "stdout",
     "output_type": "stream",
     "text": [
      "epoch: 2, [batch: 630 / 6296], examples_per_second: 3982.5434, train_label_loss: 0.0010, \n"
     ]
    },
    {
     "name": "stdout",
     "output_type": "stream",
     "text": [
      "epoch: 2, [batch: 1260 / 6296], examples_per_second: 3986.5989, train_label_loss: 0.0004, \n"
     ]
    },
    {
     "name": "stdout",
     "output_type": "stream",
     "text": [
      "epoch: 2, [batch: 1889 / 6296], examples_per_second: 3941.2515, train_label_loss: 0.0548, \n"
     ]
    },
    {
     "name": "stdout",
     "output_type": "stream",
     "text": [
      "epoch: 2, [batch: 2519 / 6296], examples_per_second: 3950.8595, train_label_loss: 0.0002, \n"
     ]
    },
    {
     "name": "stdout",
     "output_type": "stream",
     "text": [
      "epoch: 2, [batch: 3148 / 6296], examples_per_second: 4001.5052, train_label_loss: 0.0006, \n"
     ]
    },
    {
     "name": "stdout",
     "output_type": "stream",
     "text": [
      "epoch: 2, [batch: 3778 / 6296], examples_per_second: 4008.4726, train_label_loss: 0.0000, \n"
     ]
    },
    {
     "name": "stdout",
     "output_type": "stream",
     "text": [
      "epoch: 2, [batch: 4407 / 6296], examples_per_second: 3962.5882, train_label_loss: 0.0000, \n"
     ]
    },
    {
     "name": "stdout",
     "output_type": "stream",
     "text": [
      "epoch: 2, [batch: 5037 / 6296], examples_per_second: 4047.4751, train_label_loss: 0.0064, \n"
     ]
    },
    {
     "name": "stdout",
     "output_type": "stream",
     "text": [
      "epoch: 2, [batch: 5666 / 6296], examples_per_second: 4255.2003, train_label_loss: 0.0000, \n"
     ]
    },
    {
     "name": "stdout",
     "output_type": "stream",
     "text": [
      "=============================================================\n",
      "epoch: 2, source_val_acc_label: 0.9966, target_val_acc_label: 0.3998, source_val_label_loss: 0.0251, target_val_label_loss: 1.7565, \n",
      "=============================================================\n"
     ]
    },
    {
     "name": "stdout",
     "output_type": "stream",
     "text": [
      "New best\n"
     ]
    },
    {
     "name": "stdout",
     "output_type": "stream",
     "text": [
      "epoch: 3, [batch: 1 / 6299], examples_per_second: 2.0845, train_label_loss: 2.5181, \n"
     ]
    },
    {
     "name": "stdout",
     "output_type": "stream",
     "text": [
      "epoch: 3, [batch: 630 / 6299], examples_per_second: 3889.5844, train_label_loss: 0.0051, \n"
     ]
    },
    {
     "name": "stdout",
     "output_type": "stream",
     "text": [
      "epoch: 3, [batch: 1260 / 6299], examples_per_second: 3935.9580, train_label_loss: 0.0000, \n"
     ]
    },
    {
     "name": "stdout",
     "output_type": "stream",
     "text": [
      "epoch: 3, [batch: 1890 / 6299], examples_per_second: 3843.6247, train_label_loss: 0.0000, \n"
     ]
    },
    {
     "name": "stdout",
     "output_type": "stream",
     "text": [
      "epoch: 3, [batch: 2520 / 6299], examples_per_second: 3925.8774, train_label_loss: 0.0000, \n"
     ]
    },
    {
     "name": "stdout",
     "output_type": "stream",
     "text": [
      "epoch: 3, [batch: 3150 / 6299], examples_per_second: 3984.3921, train_label_loss: 0.0000, \n"
     ]
    },
    {
     "name": "stdout",
     "output_type": "stream",
     "text": [
      "epoch: 3, [batch: 3779 / 6299], examples_per_second: 4045.2236, train_label_loss: 0.0001, \n"
     ]
    },
    {
     "name": "stdout",
     "output_type": "stream",
     "text": [
      "epoch: 3, [batch: 4409 / 6299], examples_per_second: 4220.9485, train_label_loss: 0.0000, \n"
     ]
    },
    {
     "name": "stdout",
     "output_type": "stream",
     "text": [
      "epoch: 3, [batch: 5039 / 6299], examples_per_second: 4382.6614, train_label_loss: 0.0000, \n"
     ]
    },
    {
     "name": "stdout",
     "output_type": "stream",
     "text": [
      "epoch: 3, [batch: 5669 / 6299], examples_per_second: 4015.7296, train_label_loss: 0.0013, \n"
     ]
    },
    {
     "name": "stdout",
     "output_type": "stream",
     "text": [
      "=============================================================\n",
      "epoch: 3, source_val_acc_label: 0.9987, target_val_acc_label: 0.3937, source_val_label_loss: 0.0103, target_val_label_loss: 1.8570, \n",
      "=============================================================\n"
     ]
    },
    {
     "name": "stdout",
     "output_type": "stream",
     "text": [
      "epoch: 4, [batch: 1 / 6316], examples_per_second: 1.9828, train_label_loss: 0.0005, \n"
     ]
    },
    {
     "name": "stdout",
     "output_type": "stream",
     "text": [
      "epoch: 4, [batch: 632 / 6316], examples_per_second: 3844.3190, train_label_loss: 0.0000, \n"
     ]
    },
    {
     "name": "stdout",
     "output_type": "stream",
     "text": [
      "epoch: 4, [batch: 1264 / 6316], examples_per_second: 3848.4710, train_label_loss: 0.0000, \n"
     ]
    },
    {
     "name": "stdout",
     "output_type": "stream",
     "text": [
      "epoch: 4, [batch: 1895 / 6316], examples_per_second: 3969.2849, train_label_loss: 0.0017, \n"
     ]
    },
    {
     "name": "stdout",
     "output_type": "stream",
     "text": [
      "epoch: 4, [batch: 2527 / 6316], examples_per_second: 4321.0883, train_label_loss: 0.0000, \n"
     ]
    },
    {
     "name": "stdout",
     "output_type": "stream",
     "text": [
      "epoch: 4, [batch: 3158 / 6316], examples_per_second: 4476.4480, train_label_loss: 0.0000, \n"
     ]
    },
    {
     "name": "stdout",
     "output_type": "stream",
     "text": [
      "epoch: 4, [batch: 3790 / 6316], examples_per_second: 4411.3282, train_label_loss: 0.0000, \n"
     ]
    },
    {
     "name": "stdout",
     "output_type": "stream",
     "text": [
      "epoch: 4, [batch: 4421 / 6316], examples_per_second: 4455.2407, train_label_loss: 0.0000, \n"
     ]
    },
    {
     "name": "stdout",
     "output_type": "stream",
     "text": [
      "epoch: 4, [batch: 5053 / 6316], examples_per_second: 4401.3125, train_label_loss: 0.0000, \n"
     ]
    },
    {
     "name": "stdout",
     "output_type": "stream",
     "text": [
      "epoch: 4, [batch: 5684 / 6316], examples_per_second: 4361.7387, train_label_loss: 0.0001, \n"
     ]
    },
    {
     "name": "stdout",
     "output_type": "stream",
     "text": [
      "=============================================================\n",
      "epoch: 4, source_val_acc_label: 0.9987, target_val_acc_label: 0.3891, source_val_label_loss: 0.0187, target_val_label_loss: 1.8765, \n",
      "=============================================================\n"
     ]
    },
    {
     "name": "stdout",
     "output_type": "stream",
     "text": [
      "epoch: 5, [batch: 1 / 6313], examples_per_second: 2.4435, train_label_loss: 0.0000, \n"
     ]
    },
    {
     "name": "stdout",
     "output_type": "stream",
     "text": [
      "epoch: 5, [batch: 632 / 6313], examples_per_second: 5031.1642, train_label_loss: 0.0012, \n"
     ]
    },
    {
     "name": "stdout",
     "output_type": "stream",
     "text": [
      "epoch: 5, [batch: 1263 / 6313], examples_per_second: 5490.1187, train_label_loss: 0.0000, \n"
     ]
    },
    {
     "name": "stdout",
     "output_type": "stream",
     "text": [
      "epoch: 5, [batch: 1894 / 6313], examples_per_second: 5412.7772, train_label_loss: 0.0000, \n"
     ]
    },
    {
     "name": "stdout",
     "output_type": "stream",
     "text": [
      "epoch: 5, [batch: 2525 / 6313], examples_per_second: 5462.3936, train_label_loss: 0.0000, \n"
     ]
    },
    {
     "name": "stdout",
     "output_type": "stream",
     "text": [
      "epoch: 5, [batch: 3157 / 6313], examples_per_second: 5584.7918, train_label_loss: 0.0000, \n"
     ]
    },
    {
     "name": "stdout",
     "output_type": "stream",
     "text": [
      "epoch: 5, [batch: 3788 / 6313], examples_per_second: 5386.1306, train_label_loss: 0.0007, \n"
     ]
    },
    {
     "name": "stdout",
     "output_type": "stream",
     "text": [
      "epoch: 5, [batch: 4419 / 6313], examples_per_second: 4870.1900, train_label_loss: 0.0000, \n"
     ]
    },
    {
     "name": "stdout",
     "output_type": "stream",
     "text": [
      "epoch: 5, [batch: 5050 / 6313], examples_per_second: 4967.7519, train_label_loss: 0.0000, \n"
     ]
    },
    {
     "name": "stdout",
     "output_type": "stream",
     "text": [
      "epoch: 5, [batch: 5681 / 6313], examples_per_second: 4994.5568, train_label_loss: 0.0002, \n"
     ]
    },
    {
     "name": "stdout",
     "output_type": "stream",
     "text": [
      "=============================================================\n",
      "epoch: 5, source_val_acc_label: 0.9995, target_val_acc_label: 0.3598, source_val_label_loss: 0.0078, target_val_label_loss: 1.9308, \n",
      "=============================================================\n"
     ]
    },
    {
     "name": "stdout",
     "output_type": "stream",
     "text": [
      "epoch: 6, [batch: 1 / 6307], examples_per_second: 2.7449, train_label_loss: 0.0000, \n"
     ]
    },
    {
     "name": "stdout",
     "output_type": "stream",
     "text": [
      "epoch: 6, [batch: 631 / 6307], examples_per_second: 3827.7327, train_label_loss: 0.0000, \n"
     ]
    },
    {
     "name": "stdout",
     "output_type": "stream",
     "text": [
      "epoch: 6, [batch: 1262 / 6307], examples_per_second: 3787.3838, train_label_loss: 0.0000, \n"
     ]
    },
    {
     "name": "stdout",
     "output_type": "stream",
     "text": [
      "epoch: 6, [batch: 1892 / 6307], examples_per_second: 3885.3518, train_label_loss: 0.0000, \n"
     ]
    },
    {
     "name": "stdout",
     "output_type": "stream",
     "text": [
      "epoch: 6, [batch: 2523 / 6307], examples_per_second: 4011.8572, train_label_loss: 0.0000, \n"
     ]
    },
    {
     "name": "stdout",
     "output_type": "stream",
     "text": [
      "epoch: 6, [batch: 3154 / 6307], examples_per_second: 3921.9992, train_label_loss: 0.0000, \n"
     ]
    },
    {
     "name": "stdout",
     "output_type": "stream",
     "text": [
      "epoch: 6, [batch: 3784 / 6307], examples_per_second: 3983.8475, train_label_loss: 0.0000, \n"
     ]
    },
    {
     "name": "stdout",
     "output_type": "stream",
     "text": [
      "epoch: 6, [batch: 4415 / 6307], examples_per_second: 3878.2952, train_label_loss: 0.0000, \n"
     ]
    },
    {
     "name": "stdout",
     "output_type": "stream",
     "text": [
      "epoch: 6, [batch: 5045 / 6307], examples_per_second: 3863.8499, train_label_loss: 0.0000, \n"
     ]
    },
    {
     "name": "stdout",
     "output_type": "stream",
     "text": [
      "epoch: 6, [batch: 5676 / 6307], examples_per_second: 3926.1064, train_label_loss: 0.0001, \n"
     ]
    },
    {
     "name": "stdout",
     "output_type": "stream",
     "text": [
      "=============================================================\n",
      "epoch: 6, source_val_acc_label: 0.9993, target_val_acc_label: 0.3581, source_val_label_loss: 0.0079, target_val_label_loss: 1.9830, \n",
      "=============================================================\n"
     ]
    },
    {
     "name": "stdout",
     "output_type": "stream",
     "text": [
      "Patience (3) exhausted\n"
     ]
    }
   ],
   "source": [
    "###################################\n",
    "# train\n",
    "###################################\n",
    "jig = PTN_Train_Eval_Test_Jig(model, p.BEST_MODEL_PATH, p.device)\n",
    "\n",
    "jig.train(\n",
    "    train_iterable=datasets.source.processed.train,\n",
    "    source_val_iterable=datasets.source.processed.val,\n",
    "    target_val_iterable=datasets.target.processed.val,\n",
    "    num_epochs=p.n_epoch,\n",
    "    num_logs_per_epoch=p.NUM_LOGS_PER_EPOCH,\n",
    "    patience=p.patience,\n",
    "    optimizer=optimizer,\n",
    "    criteria_for_best=p.criteria_for_best,\n",
    ")"
   ]
  },
  {
   "cell_type": "code",
   "execution_count": 23,
   "id": "31e8fabf",
   "metadata": {
    "execution": {
     "iopub.execute_input": "2022-03-22T21:42:21.969688Z",
     "iopub.status.busy": "2022-03-22T21:42:21.969132Z",
     "iopub.status.idle": "2022-03-22T21:42:22.002367Z",
     "shell.execute_reply": "2022-03-22T21:42:22.001660Z"
    },
    "papermill": {
     "duration": 0.079647,
     "end_time": "2022-03-22T21:42:22.002519",
     "exception": false,
     "start_time": "2022-03-22T21:42:21.922872",
     "status": "completed"
    },
    "tags": []
   },
   "outputs": [],
   "source": [
    "total_experiment_time_secs = time.time() - start_time_secs"
   ]
  },
  {
   "cell_type": "code",
   "execution_count": 24,
   "id": "87b9595b",
   "metadata": {
    "execution": {
     "iopub.execute_input": "2022-03-22T21:42:22.103049Z",
     "iopub.status.busy": "2022-03-22T21:42:22.102161Z",
     "iopub.status.idle": "2022-03-22T21:50:32.265714Z",
     "shell.execute_reply": "2022-03-22T21:50:32.266439Z"
    },
    "papermill": {
     "duration": 490.215699,
     "end_time": "2022-03-22T21:50:32.266665",
     "exception": false,
     "start_time": "2022-03-22T21:42:22.050966",
     "status": "completed"
    },
    "tags": []
   },
   "outputs": [],
   "source": [
    "###################################\n",
    "# Evaluate the model\n",
    "###################################\n",
    "source_test_label_accuracy, source_test_label_loss = jig.test(datasets.source.processed.test)\n",
    "target_test_label_accuracy, target_test_label_loss = jig.test(datasets.target.processed.test)\n",
    "\n",
    "source_val_label_accuracy, source_val_label_loss = jig.test(datasets.source.processed.val)\n",
    "target_val_label_accuracy, target_val_label_loss = jig.test(datasets.target.processed.val)\n",
    "\n",
    "history = jig.get_history()\n",
    "\n",
    "total_epochs_trained = len(history[\"epoch_indices\"])\n",
    "\n",
    "val_dl = Iterable_Aggregator((datasets.source.original.val,datasets.target.original.val))\n",
    "\n",
    "confusion = ptn_confusion_by_domain_over_dataloader(model, p.device, val_dl)\n",
    "per_domain_accuracy = per_domain_accuracy_from_confusion(confusion)\n",
    "\n",
    "# Add a key to per_domain_accuracy for if it was a source domain\n",
    "for domain, accuracy in per_domain_accuracy.items():\n",
    "    per_domain_accuracy[domain] = {\n",
    "        \"accuracy\": accuracy,\n",
    "        \"source?\": domain in p.domains_source\n",
    "    }\n",
    "\n",
    "# Do an independent accuracy assesment JUST TO BE SURE!\n",
    "# _source_test_label_accuracy = independent_accuracy_assesment(model, datasets.source.processed.test, p.device)\n",
    "# _target_test_label_accuracy = independent_accuracy_assesment(model, datasets.target.processed.test, p.device)\n",
    "# _source_val_label_accuracy = independent_accuracy_assesment(model, datasets.source.processed.val, p.device)\n",
    "# _target_val_label_accuracy = independent_accuracy_assesment(model, datasets.target.processed.val, p.device)\n",
    "\n",
    "# assert(_source_test_label_accuracy == source_test_label_accuracy)\n",
    "# assert(_target_test_label_accuracy == target_test_label_accuracy)\n",
    "# assert(_source_val_label_accuracy == source_val_label_accuracy)\n",
    "# assert(_target_val_label_accuracy == target_val_label_accuracy)\n",
    "\n",
    "experiment = {\n",
    "    \"experiment_name\": p.experiment_name,\n",
    "    \"parameters\": dict(p),\n",
    "    \"results\": {\n",
    "        \"source_test_label_accuracy\": source_test_label_accuracy,\n",
    "        \"source_test_label_loss\": source_test_label_loss,\n",
    "        \"target_test_label_accuracy\": target_test_label_accuracy,\n",
    "        \"target_test_label_loss\": target_test_label_loss,\n",
    "        \"source_val_label_accuracy\": source_val_label_accuracy,\n",
    "        \"source_val_label_loss\": source_val_label_loss,\n",
    "        \"target_val_label_accuracy\": target_val_label_accuracy,\n",
    "        \"target_val_label_loss\": target_val_label_loss,\n",
    "        \"total_epochs_trained\": total_epochs_trained,\n",
    "        \"total_experiment_time_secs\": total_experiment_time_secs,\n",
    "        \"confusion\": confusion,\n",
    "        \"per_domain_accuracy\": per_domain_accuracy,\n",
    "    },\n",
    "    \"history\": history,\n",
    "    \"dataset_metrics\": get_dataset_metrics(datasets, \"ptn\"),\n",
    "}"
   ]
  },
  {
   "cell_type": "code",
   "execution_count": 25,
   "id": "54a21829",
   "metadata": {
    "execution": {
     "iopub.execute_input": "2022-03-22T21:50:32.361377Z",
     "iopub.status.busy": "2022-03-22T21:50:32.360786Z",
     "iopub.status.idle": "2022-03-22T21:50:32.580774Z",
     "shell.execute_reply": "2022-03-22T21:50:32.581102Z"
    },
    "papermill": {
     "duration": 0.265455,
     "end_time": "2022-03-22T21:50:32.581246",
     "exception": false,
     "start_time": "2022-03-22T21:50:32.315791",
     "status": "completed"
    },
    "tags": []
   },
   "outputs": [
    {
     "data": {
      "image/png": "[encoded data removed]",
      "text/plain": [
       "<Figure size 1080x504 with 1 Axes>"
      ]
     },
     "metadata": {
      "needs_background": "light"
     },
     "output_type": "display_data"
    }
   ],
   "source": [
    "ax = get_loss_curve(experiment)\n",
    "plt.show()"
   ]
  },
  {
   "cell_type": "code",
   "execution_count": 26,
   "id": "fd8a0f60",
   "metadata": {
    "execution": {
     "iopub.execute_input": "2022-03-22T21:50:32.678239Z",
     "iopub.status.busy": "2022-03-22T21:50:32.677856Z",
     "iopub.status.idle": "2022-03-22T21:50:32.993664Z",
     "shell.execute_reply": "2022-03-22T21:50:32.994362Z"
    },
    "papermill": {
     "duration": 0.363771,
     "end_time": "2022-03-22T21:50:32.994597",
     "exception": false,
     "start_time": "2022-03-22T21:50:32.630826",
     "status": "completed"
    },
    "tags": []
   },
   "outputs": [
    {
     "data": {
      "text/plain": [
       "<AxesSubplot:title={'center':'Results'}>"
      ]
     },
     "execution_count": 26,
     "metadata": {},
     "output_type": "execute_result"
    },
    {
     "data": {
      "image/png": "[encoded data removed]",
      "text/plain": [
       "<Figure size 1080x504 with 1 Axes>"
      ]
     },
     "metadata": {
      "needs_background": "light"
     },
     "output_type": "display_data"
    }
   ],
   "source": [
    "get_results_table(experiment)"
   ]
  },
  {
   "cell_type": "code",
   "execution_count": 27,
   "id": "cf8dc689",
   "metadata": {
    "execution": {
     "iopub.execute_input": "2022-03-22T21:50:33.096222Z",
     "iopub.status.busy": "2022-03-22T21:50:33.095697Z",
     "iopub.status.idle": "2022-03-22T21:50:33.357152Z",
     "shell.execute_reply": "2022-03-22T21:50:33.357848Z"
    },
    "papermill": {
     "duration": 0.31077,
     "end_time": "2022-03-22T21:50:33.358088",
     "exception": false,
     "start_time": "2022-03-22T21:50:33.047318",
     "status": "completed"
    },
    "tags": []
   },
   "outputs": [
    {
     "data": {
      "text/plain": [
       "<AxesSubplot:title={'center':'Per Domain Validation Accuracy'}, xlabel='domain'>"
      ]
     },
     "execution_count": 27,
     "metadata": {},
     "output_type": "execute_result"
    },
    {
     "data": {
      "image/png": "[encoded data removed]",
      "text/plain": [
       "<Figure size 1080x504 with 1 Axes>"
      ]
     },
     "metadata": {
      "needs_background": "light"
     },
     "output_type": "display_data"
    }
   ],
   "source": [
    "get_domain_accuracies(experiment)"
   ]
  },
  {
   "cell_type": "code",
   "execution_count": 28,
   "id": "a74ae082",
   "metadata": {
    "execution": {
     "iopub.execute_input": "2022-03-22T21:50:33.460810Z",
     "iopub.status.busy": "2022-03-22T21:50:33.460429Z",
     "iopub.status.idle": "2022-03-22T21:50:33.486242Z",
     "shell.execute_reply": "2022-03-22T21:50:33.486932Z"
    },
    "papermill": {
     "duration": 0.077517,
     "end_time": "2022-03-22T21:50:33.487139",
     "exception": false,
     "start_time": "2022-03-22T21:50:33.409622",
     "status": "completed"
    },
    "tags": []
   },
   "outputs": [
    {
     "name": "stdout",
     "output_type": "stream",
     "text": [
      "Source Test Label Accuracy: 0.9965748587570622 Target Test Label Accuracy: 0.4014453125\n",
      "Source Val Label Accuracy: 0.9966428571428572 Target Val Label Accuracy: 0.39982421875\n"
     ]
    }
   ],
   "source": [
    "print(\"Source Test Label Accuracy:\", experiment[\"results\"][\"source_test_label_accuracy\"], \"Target Test Label Accuracy:\", experiment[\"results\"][\"target_test_label_accuracy\"])\n",
    "print(\"Source Val Label Accuracy:\", experiment[\"results\"][\"source_val_label_accuracy\"], \"Target Val Label Accuracy:\", experiment[\"results\"][\"target_val_label_accuracy\"])"
   ]
  },
  {
   "cell_type": "code",
   "execution_count": 29,
   "id": "dacca602",
   "metadata": {
    "execution": {
     "iopub.execute_input": "2022-03-22T21:50:33.587057Z",
     "iopub.status.busy": "2022-03-22T21:50:33.586688Z",
     "iopub.status.idle": "2022-03-22T21:50:33.609958Z",
     "shell.execute_reply": "2022-03-22T21:50:33.610636Z"
    },
    "papermill": {
     "duration": 0.072772,
     "end_time": "2022-03-22T21:50:33.610834",
     "exception": false,
     "start_time": "2022-03-22T21:50:33.538062",
     "status": "completed"
    },
    "tags": [
     "experiment_json"
    ]
   },
   "outputs": [
    {
     "data": {
      "text/plain": [
       "'{\"experiment_name\": \"tl_1v2:cores-oracle.run1\", \"parameters\": {\"experiment_name\": \"tl_1v2:cores-oracle.run1\", \"device\": \"cuda\", \"lr\": 0.0001, \"n_shot\": 3, \"n_query\": 2, \"train_k_factor\": 3, \"val_k_factor\": 2, \"test_k_factor\": 2, \"torch_default_dtype\": \"torch.float32\", \"n_epoch\": 50, \"patience\": 3, \"criteria_for_best\": \"target_accuracy\", \"x_net\": [{\"class\": \"nnReshape\", \"kargs\": {\"shape\": [-1, 1, 2, 256]}}, {\"class\": \"Conv2d\", \"kargs\": {\"in_channels\": 1, \"out_channels\": 256, \"kernel_size\": [1, 7], \"bias\": false, \"padding\": [0, 3]}}, {\"class\": \"ReLU\", \"kargs\": {\"inplace\": true}}, {\"class\": \"BatchNorm2d\", \"kargs\": {\"num_features\": 256}}, {\"class\": \"Conv2d\", \"kargs\": {\"in_channels\": 256, \"out_channels\": 80, \"kernel_size\": [2, 7], \"bias\": true, \"padding\": [0, 3]}}, {\"class\": \"ReLU\", \"kargs\": {\"inplace\": true}}, {\"class\": \"BatchNorm2d\", \"kargs\": {\"num_features\": 80}}, {\"class\": \"Flatten\", \"kargs\": {}}, {\"class\": \"Linear\", \"kargs\": {\"in_features\": 20480, \"out_features\": 256}}, {\"class\": \"ReLU\", \"kargs\": {\"inplace\": true}}, {\"class\": \"BatchNorm1d\", \"kargs\": {\"num_features\": 256}}, {\"class\": \"Linear\", \"kargs\": {\"in_features\": 256, \"out_features\": 256}}], \"NUM_LOGS_PER_EPOCH\": 10, \"BEST_MODEL_PATH\": \"./best_model.pth\", \"n_way\": 16, \"datasets\": [{\"labels\": [\"1-10.\", \"1-11.\", \"1-15.\", \"1-16.\", \"1-17.\", \"1-18.\", \"1-19.\", \"10-4.\", \"10-7.\", \"11-1.\", \"11-14.\", \"11-17.\", \"11-20.\", \"11-7.\", \"13-20.\", \"13-8.\", \"14-10.\", \"14-11.\", \"14-14.\", \"14-7.\", \"15-1.\", \"15-20.\", \"16-1.\", \"16-16.\", \"17-10.\", \"17-11.\", \"17-2.\", \"19-1.\", \"19-16.\", \"19-19.\", \"19-20.\", \"19-3.\", \"2-10.\", \"2-11.\", \"2-17.\", \"2-18.\", \"2-20.\", \"2-3.\", \"2-4.\", \"2-5.\", \"2-6.\", \"2-7.\", \"2-8.\", \"3-13.\", \"3-18.\", \"3-3.\", \"4-1.\", \"4-10.\", \"4-11.\", \"4-19.\", \"5-5.\", \"6-15.\", \"7-10.\", \"7-14.\", \"8-18.\", \"8-20.\", \"8-3.\", \"8-8.\"], \"domains\": [1, 2, 3, 4, 5], \"num_examples_per_domain_per_label\": -1, \"pickle_path\": \"/root/csc500-main/datasets/cores.stratified_ds.2022A.pkl\", \"source_or_target_dataset\": \"source\", \"x_transforms\": [], \"episode_transforms\": [], \"domain_prefix\": \"CORES_\"}, {\"labels\": [\"3123D52\", \"3123D65\", \"3123D79\", \"3123D80\", \"3123D54\", \"3123D70\", \"3123D7B\", \"3123D89\", \"3123D58\", \"3123D76\", \"3123D7D\", \"3123EFE\", \"3123D64\", \"3123D78\", \"3123D7E\", \"3124E4A\"], \"domains\": [32, 38, 8, 44, 14, 50, 20, 26], \"num_examples_per_domain_per_label\": 10000, \"pickle_path\": \"/root/csc500-main/datasets/oracle.Run1_10kExamples_stratified_ds.2022A.pkl\", \"source_or_target_dataset\": \"target\", \"x_transforms\": [], \"episode_transforms\": [], \"domain_prefix\": \"ORACLE.run1_\"}], \"dataset_seed\": 7, \"seed\": 7, \"x_shape\": [2, 256], \"domains_source\": [\"CORES_1\", \"CORES_2\", \"CORES_3\", \"CORES_4\", \"CORES_5\"], \"domains_target\": [\"ORACLE.run1_32\", \"ORACLE.run1_38\", \"ORACLE.run1_8\", \"ORACLE.run1_44\", \"ORACLE.run1_14\", \"ORACLE.run1_50\", \"ORACLE.run1_20\", \"ORACLE.run1_26\"]}, \"results\": {\"source_test_label_accuracy\": 0.9965748587570622, \"source_test_label_loss\": 0.031953364610672, \"target_test_label_accuracy\": 0.4014453125, \"target_test_label_loss\": 1.7528573274612427, \"source_val_label_accuracy\": 0.9966428571428572, \"source_val_label_loss\": 0.025092022493481636, \"target_val_label_accuracy\": 0.39982421875, \"target_val_label_loss\": 1.7564553022384644, \"total_epochs_trained\": 6, \"total_experiment_time_secs\": 1126.9965691566467, \"confusion\": {\"CORES_5\": {\"26\": {\"26\": 24}, \"7\": {\"7\": 32}, \"56\": {\"56\": 142}, \"36\": {\"36\": 92}, \"47\": {\"47\": 100}, \"2\": {\"2\": 28}, \"15\": {\"15\": 151, \"11\": 1}, \"14\": {\"14\": 44}, \"27\": {\"27\": 146}, \"40\": {\"40\": 124}, \"49\": {\"49\": 36}, \"45\": {\"45\": 124}, \"46\": {\"46\": 135, \"56\": 1}, \"11\": {\"11\": 130}, \"30\": {\"30\": 112}, \"0\": {\"0\": 124}, \"10\": {\"10\": 68}, \"1\": {\"1\": 148}, \"42\": {\"42\": 38, \"15\": 1, \"16\": 1}, \"54\": {\"54\": 112}, \"55\": {\"55\": 152}, \"23\": {\"23\": 124}, \"25\": {\"25\": 152}, \"28\": {\"28\": 32}, \"32\": {\"32\": 32}, \"9\": {\"9\": 142}, \"39\": {\"39\": 20}, \"3\": {\"3\": 100}, \"29\": {\"29\": 118}, \"17\": {\"17\": 116}, \"35\": {\"35\": 36}, \"44\": {\"44\": 152}, \"5\": {\"5\": 128}, \"33\": {\"33\": 30, \"36\": 2}, \"34\": {\"49\": 1, \"34\": 35}, \"13\": {\"13\": 138}, \"41\": {\"41\": 23, \"39\": 1, \"42\": 2, \"33\": 2}, \"6\": {\"6\": 127, \"50\": 1}, \"51\": {\"51\": 138}, \"50\": {\"50\": 144}, \"37\": {\"37\": 24}, \"19\": {\"19\": 143, \"55\": 1}, \"57\": {\"57\": 132}, \"21\": {\"21\": 144}, \"24\": {\"24\": 80}, \"8\": {\"8\": 130}, \"12\": {\"12\": 96}, \"48\": {\"48\": 132}, \"43\": {\"43\": 150}, \"53\": {\"53\": 148}, \"38\": {\"38\": 26, \"7\": 6}, \"16\": {\"16\": 142}, \"22\": {\"22\": 28}, \"4\": {\"4\": 100}, \"18\": {\"18\": 64}, \"20\": {\"20\": 144}, \"52\": {\"52\": 140}, \"31\": {\"31\": 36}}, \"CORES_1\": {\"41\": {\"41\": 23, \"8\": 1}, \"40\": {\"40\": 110}, \"45\": {\"45\": 138}, \"51\": {\"51\": 148}, \"5\": {\"5\": 154}, \"30\": {\"30\": 120}, \"42\": {\"42\": 39, \"19\": 1}, \"46\": {\"46\": 136}, \"48\": {\"48\": 134}, \"53\": {\"53\": 144}, \"47\": {\"47\": 152}, \"49\": {\"49\": 32}, \"36\": {\"36\": 64}, \"32\": {\"32\": 32}, \"34\": {\"34\": 24}, \"29\": {\"29\": 140}, \"35\": {\"35\": 36}, \"3\": {\"3\": 134}, \"16\": {\"16\": 140}, \"26\": {\"26\": 24}, \"57\": {\"57\": 144}, \"44\": {\"44\": 128}, \"0\": {\"0\": 152}, \"4\": {\"4\": 132}, \"31\": {\"31\": 28}, \"11\": {\"11\": 140}, \"6\": {\"6\": 96}, \"54\": {\"54\": 104}, \"17\": {\"17\": 64}, \"20\": {\"20\": 126, \"12\": 2}, \"13\": {\"13\": 150}, \"33\": {\"33\": 32}, \"24\": {\"24\": 108}, \"52\": {\"52\": 132}, \"2\": {\"2\": 36}, \"19\": {\"19\": 156}, \"39\": {\"19\": 2, \"39\": 25, \"49\": 1}, \"8\": {\"8\": 140}, \"21\": {\"21\": 124}, \"10\": {\"10\": 96}, \"37\": {\"37\": 30, \"36\": 2}, \"25\": {\"25\": 144}, \"27\": {\"27\": 130}, \"23\": {\"23\": 136}, \"1\": {\"1\": 100}, \"50\": {\"50\": 152}, \"12\": {\"12\": 114, \"20\": 1, \"13\": 1}, \"18\": {\"18\": 72}, \"38\": {\"38\": 18, \"36\": 2, \"27\": 1, \"42\": 2, \"49\": 1}, \"14\": {\"14\": 24}, \"56\": {\"56\": 141, \"45\": 1}, \"55\": {\"55\": 160}, \"9\": {\"9\": 138}, \"15\": {\"15\": 146}, \"28\": {\"28\": 28}, \"7\": {\"7\": 28}, \"43\": {\"43\": 136}, \"22\": {\"22\": 134, \"21\": 1, \"0\": 1}}, \"CORES_3\": {\"1\": {\"1\": 99, \"47\": 1}, \"9\": {\"9\": 124}, \"22\": {\"22\": 136}, \"43\": {\"43\": 136}, \"49\": {\"49\": 20}, \"50\": {\"50\": 136, \"21\": 2}, \"53\": {\"53\": 136}, \"10\": {\"10\": 64}, \"48\": {\"48\": 115, \"41\": 1}, \"8\": {\"8\": 138}, \"31\": {\"31\": 28}, \"56\": {\"56\": 133, \"22\": 1}, \"25\": {\"25\": 142}, \"28\": {\"28\": 28}, \"38\": {\"38\": 28}, \"5\": {\"5\": 116}, \"12\": {\"12\": 92}, \"6\": {\"6\": 88}, \"19\": {\"19\": 152}, \"26\": {\"26\": 24}, \"32\": {\"32\": 28}, \"33\": {\"33\": 28}, \"3\": {\"3\": 118}, \"51\": {\"51\": 128}, \"16\": {\"16\": 138}, \"46\": {\"46\": 139, \"21\": 1}, \"7\": {\"7\": 32, \"11\": 2, \"15\": 2}, \"47\": {\"47\": 90, \"1\": 1, \"52\": 1}, \"39\": {\"39\": 16}, \"40\": {\"40\": 136}, \"14\": {\"14\": 40}, \"37\": {\"37\": 28}, \"2\": {\"2\": 31, \"53\": 1}, \"21\": {\"21\": 120}, \"35\": {\"35\": 28}, \"54\": {\"54\": 100}, \"52\": {\"52\": 116}, \"29\": {\"29\": 116, \"9\": 1, \"57\": 1}, \"20\": {\"20\": 132}, \"18\": {\"18\": 84}, \"11\": {\"11\": 142}, \"0\": {\"0\": 124}, \"36\": {\"36\": 100}, \"17\": {\"17\": 108}, \"30\": {\"30\": 114}, \"42\": {\"42\": 28}, \"45\": {\"45\": 60}, \"4\": {\"4\": 148}, \"23\": {\"23\": 132, \"55\": 1, \"18\": 1}, \"13\": {\"13\": 128}, \"15\": {\"15\": 128}, \"57\": {\"57\": 122, \"29\": 2}, \"27\": {\"27\": 131, \"9\": 3}, \"44\": {\"44\": 88}, \"34\": {\"34\": 32}, \"41\": {\"41\": 22, \"48\": 6}, \"24\": {\"24\": 104}, \"55\": {\"55\": 118}}, \"CORES_4\": {\"52\": {\"52\": 116}, \"6\": {\"6\": 109, \"50\": 2, \"3\": 1}, \"14\": {\"14\": 15, \"38\": 1}, \"49\": {\"49\": 20}, \"0\": {\"0\": 80}, \"46\": {\"46\": 156}, \"41\": {\"41\": 36}, \"24\": {\"24\": 56}, \"25\": {\"25\": 152}, \"40\": {\"40\": 137, \"44\": 1}, \"38\": {\"38\": 40}, \"13\": {\"13\": 152}, \"9\": {\"9\": 107, \"4\": 1}, \"45\": {\"45\": 96}, \"43\": {\"43\": 144}, \"10\": {\"10\": 130}, \"15\": {\"15\": 128}, \"39\": {\"39\": 20}, \"4\": {\"4\": 132}, \"53\": {\"53\": 132}, \"1\": {\"1\": 39, \"56\": 1}, \"28\": {\"28\": 32}, \"54\": {\"54\": 108}, \"21\": {\"21\": 132}, \"7\": {\"7\": 23, \"16\": 1}, \"8\": {\"8\": 136}, \"42\": {\"42\": 32}, \"11\": {\"11\": 104}, \"33\": {\"33\": 36}, \"27\": {\"27\": 142}, \"19\": {\"19\": 143, \"28\": 1}, \"2\": {\"2\": 36}, \"3\": {\"3\": 118, \"50\": 2}, \"57\": {\"57\": 100}, \"20\": {\"20\": 112}, \"23\": {\"23\": 128}, \"22\": {\"22\": 128}, \"29\": {\"29\": 124}, \"36\": {\"36\": 90, \"51\": 2}, \"51\": {\"51\": 132}, \"31\": {\"31\": 28}, \"12\": {\"12\": 92}, \"56\": {\"56\": 138}, \"5\": {\"5\": 108}, \"35\": {\"35\": 40}, \"17\": {\"17\": 80}, \"32\": {\"32\": 24}, \"47\": {\"47\": 119, \"1\": 1}, \"18\": {\"18\": 105, \"47\": 1, \"53\": 2}, \"26\": {\"26\": 24}, \"50\": {\"50\": 122}, \"55\": {\"55\": 124}, \"34\": {\"34\": 24}, \"30\": {\"30\": 44}, \"37\": {\"37\": 24}, \"44\": {\"44\": 132}, \"48\": {\"48\": 118}, \"16\": {\"16\": 96}}, \"CORES_2\": {\"11\": {\"11\": 130}, \"21\": {\"21\": 120}, \"19\": {\"19\": 140}, \"20\": {\"20\": 128}, \"9\": {\"9\": 140}, \"10\": {\"10\": 112}, \"37\": {\"37\": 36}, \"32\": {\"32\": 28}, \"3\": {\"3\": 92}, \"39\": {\"39\": 28}, \"45\": {\"45\": 128}, \"50\": {\"50\": 136}, \"40\": {\"40\": 139, \"9\": 1}, \"46\": {\"46\": 127, \"21\": 1}, \"12\": {\"12\": 92}, \"13\": {\"13\": 116}, \"47\": {\"47\": 132}, \"15\": {\"15\": 142}, \"54\": {\"54\": 108}, \"48\": {\"48\": 148}, \"23\": {\"23\": 142}, \"29\": {\"29\": 126, \"23\": 1, \"19\": 1}, \"38\": {\"38\": 20}, \"53\": {\"53\": 136}, \"27\": {\"27\": 150}, \"43\": {\"43\": 144}, \"35\": {\"35\": 32}, \"0\": {\"0\": 48}, \"52\": {\"52\": 124}, \"8\": {\"8\": 128}, \"24\": {\"24\": 96}, \"18\": {\"18\": 48}, \"25\": {\"25\": 148}, \"57\": {\"57\": 136}, \"55\": {\"55\": 134}, \"36\": {\"36\": 116}, \"17\": {\"17\": 104}, \"2\": {\"2\": 32}, \"34\": {\"34\": 28}, \"1\": {\"1\": 112}, \"51\": {\"51\": 136}, \"31\": {\"31\": 28}, \"49\": {\"49\": 24}, \"14\": {\"14\": 24}, \"33\": {\"33\": 27, \"57\": 1}, \"41\": {\"41\": 17, \"9\": 1, \"4\": 1, \"52\": 1}, \"28\": {\"28\": 27, \"42\": 1}, \"5\": {\"5\": 120}, \"16\": {\"16\": 150}, \"4\": {\"4\": 128}, \"22\": {\"22\": 136}, \"6\": {\"6\": 118}, \"30\": {\"30\": 124}, \"26\": {\"26\": 24}, \"56\": {\"56\": 142}, \"42\": {\"42\": 36}, \"44\": {\"44\": 100}, \"7\": {\"7\": 36}}, \"ORACLE.run1_26\": {\"0\": {\"10\": 201, \"15\": 115, \"0\": 341, \"5\": 40, \"11\": 6, \"14\": 177, \"6\": 55, \"2\": 110, \"8\": 64, \"12\": 5, \"9\": 22, \"7\": 26, \"1\": 38}, \"4\": {\"7\": 7, \"4\": 846, \"13\": 218, \"12\": 19, \"3\": 96, \"8\": 2, \"9\": 10, \"2\": 2}, \"14\": {\"14\": 228, \"15\": 188, \"10\": 263, \"6\": 128, \"5\": 89, \"2\": 12, \"0\": 152, \"1\": 111, \"8\": 5, \"11\": 23, \"7\": 1}, \"12\": {\"9\": 184, \"8\": 163, \"12\": 369, \"7\": 128, \"13\": 122, \"3\": 127, \"2\": 80, \"15\": 1, \"0\": 12, \"4\": 10, \"10\": 3, \"14\": 1}, \"8\": {\"2\": 233, \"9\": 175, \"12\": 98, \"7\": 194, \"0\": 92, \"3\": 92, \"8\": 256, \"13\": 32, \"14\": 8, \"10\": 16, \"15\": 4}, \"7\": {\"2\": 195, \"8\": 209, \"12\": 114, \"13\": 66, \"9\": 187, \"7\": 225, \"3\": 157, \"0\": 34, \"10\": 7, \"15\": 1, \"4\": 5}, \"13\": {\"4\": 240, \"2\": 43, \"3\": 223, \"9\": 90, \"13\": 391, \"12\": 110, \"7\": 65, \"8\": 37, \"0\": 1}, \"5\": {\"5\": 240, \"14\": 104, \"15\": 235, \"6\": 207, \"11\": 112, \"1\": 148, \"10\": 102, \"0\": 47, \"2\": 2, \"9\": 1, \"8\": 2}, \"15\": {\"11\": 66, \"15\": 222, \"1\": 138, \"6\": 170, \"5\": 173, \"14\": 146, \"10\": 143, \"0\": 106, \"2\": 21, \"9\": 5, \"7\": 2, \"8\": 8}, \"10\": {\"14\": 210, \"1\": 96, \"11\": 29, \"15\": 198, \"0\": 213, \"5\": 89, \"6\": 98, \"10\": 227, \"9\": 1, \"2\": 25, \"8\": 10, \"7\": 4}, \"3\": {\"9\": 167, \"3\": 322, \"13\": 236, \"12\": 97, \"7\": 156, \"8\": 88, \"0\": 4, \"2\": 54, \"4\": 76}, \"9\": {\"9\": 193, \"12\": 134, \"7\": 171, \"3\": 173, \"2\": 148, \"8\": 157, \"13\": 138, \"0\": 46, \"4\": 24, \"10\": 8, \"15\": 5, \"14\": 1, \"6\": 1, \"1\": 1}, \"6\": {\"1\": 212, \"11\": 111, \"15\": 184, \"5\": 179, \"10\": 113, \"6\": 232, \"0\": 45, \"14\": 123, \"9\": 1}, \"1\": {\"1\": 407, \"6\": 183, \"14\": 91, \"5\": 120, \"11\": 177, \"10\": 79, \"15\": 112, \"0\": 30, \"2\": 1}, \"11\": {\"1\": 232, \"14\": 36, \"11\": 465, \"6\": 169, \"0\": 15, \"10\": 36, \"15\": 97, \"5\": 149, \"2\": 1}, \"2\": {\"9\": 148, \"2\": 284, \"8\": 215, \"3\": 75, \"12\": 43, \"7\": 188, \"13\": 28, \"15\": 14, \"5\": 2, \"0\": 137, \"10\": 39, \"6\": 2, \"14\": 22, \"1\": 1, \"4\": 2}}, \"ORACLE.run1_44\": {\"1\": {\"15\": 67, \"10\": 9, \"2\": 227, \"1\": 633, \"8\": 127, \"0\": 118, \"9\": 1, \"5\": 5, \"4\": 8, \"14\": 2, \"3\": 2, \"7\": 1}, \"11\": {\"11\": 1193, \"13\": 7}, \"3\": {\"12\": 557, \"3\": 609, \"0\": 31, \"8\": 1, \"1\": 2}, \"6\": {\"13\": 382, \"6\": 618, \"9\": 152, \"7\": 19, \"4\": 19, \"11\": 1, \"10\": 9}, \"7\": {\"4\": 186, \"10\": 255, \"7\": 367, \"6\": 41, \"9\": 238, \"14\": 63, \"5\": 42, \"15\": 5, \"2\": 2, \"13\": 1}, \"5\": {\"5\": 300, \"14\": 292, \"15\": 151, \"10\": 49, \"7\": 83, \"4\": 174, \"9\": 54, \"2\": 64, \"1\": 10, \"6\": 2, \"8\": 19, \"0\": 2}, \"2\": {\"2\": 525, \"14\": 85, \"1\": 220, \"5\": 64, \"4\": 47, \"15\": 143, \"10\": 56, \"8\": 39, \"9\": 7, \"7\": 7, \"0\": 7}, \"15\": {\"2\": 139, \"14\": 152, \"15\": 375, \"0\": 39, \"8\": 193, \"1\": 90, \"5\": 134, \"4\": 52, \"10\": 19, \"9\": 3, \"7\": 3, \"3\": 1}, \"10\": {\"10\": 365, \"6\": 10, \"4\": 112, \"5\": 43, \"7\": 297, \"14\": 102, \"9\": 158, \"1\": 20, \"15\": 26, \"2\": 67}, \"13\": {\"6\": 371, \"13\": 733, \"9\": 68, \"11\": 23, \"4\": 3, \"7\": 2}, \"8\": {\"15\": 213, \"0\": 306, \"2\": 62, \"8\": 416, \"1\": 110, \"5\": 40, \"14\": 28, \"4\": 8, \"9\": 1, \"12\": 4, \"3\": 9, \"10\": 3}, \"4\": {\"4\": 202, \"6\": 48, \"7\": 191, \"2\": 88, \"5\": 118, \"14\": 131, \"9\": 205, \"15\": 87, \"10\": 89, \"8\": 25, \"1\": 15, \"0\": 1}, \"9\": {\"9\": 213, \"2\": 28, \"14\": 71, \"4\": 120, \"7\": 213, \"6\": 212, \"13\": 133, \"10\": 134, \"5\": 48, \"15\": 24, \"1\": 3, \"8\": 1}, \"14\": {\"2\": 58, \"5\": 270, \"10\": 89, \"4\": 171, \"14\": 333, \"15\": 135, \"7\": 84, \"9\": 44, \"8\": 10, \"1\": 5, \"6\": 1}, \"0\": {\"1\": 111, \"0\": 747, \"8\": 274, \"15\": 26, \"2\": 19, \"3\": 15, \"12\": 6, \"5\": 2}, \"12\": {\"3\": 544, \"12\": 644, \"8\": 1, \"0\": 9, \"1\": 2}}, \"ORACLE.run1_50\": {\"15\": {\"5\": 179, \"11\": 58, \"6\": 301, \"12\": 38, \"15\": 322, \"9\": 201, \"3\": 70, \"4\": 18, \"7\": 12, \"13\": 1}, \"4\": {\"4\": 509, \"7\": 501, \"6\": 16, \"15\": 26, \"5\": 140, \"9\": 8}, \"6\": {\"12\": 80, \"6\": 293, \"4\": 8, \"15\": 270, \"9\": 186, \"11\": 55, \"5\": 181, \"3\": 118, \"13\": 3, \"7\": 6}, \"2\": {\"14\": 417, \"2\": 480, \"0\": 276, \"10\": 27}, \"5\": {\"15\": 145, \"3\": 55, \"6\": 136, \"7\": 236, \"9\": 50, \"4\": 151, \"13\": 34, \"5\": 307, \"11\": 55, \"1\": 4, \"12\": 27}, \"9\": {\"12\": 216, \"15\": 193, \"9\": 369, \"6\": 199, \"5\": 72, \"11\": 113, \"1\": 2, \"3\": 22, \"7\": 4, \"13\": 4, \"4\": 6}, \"8\": {\"10\": 237, \"8\": 654, \"1\": 238, \"13\": 65, \"0\": 6}, \"12\": {\"11\": 307, \"12\": 516, \"15\": 59, \"9\": 165, \"6\": 64, \"13\": 39, \"1\": 9, \"3\": 27, \"5\": 14}, \"10\": {\"8\": 213, \"0\": 194, \"10\": 714, \"1\": 46, \"14\": 13, \"2\": 19, \"13\": 1}, \"1\": {\"13\": 291, \"1\": 532, \"8\": 255, \"10\": 91, \"11\": 19, \"0\": 6, \"12\": 3, \"3\": 2, \"14\": 1}, \"0\": {\"0\": 518, \"2\": 283, \"10\": 212, \"14\": 178, \"8\": 9}, \"3\": {\"3\": 533, \"5\": 104, \"11\": 115, \"6\": 206, \"12\": 48, \"15\": 98, \"9\": 42, \"13\": 48, \"7\": 6}, \"13\": {\"13\": 732, \"1\": 218, \"11\": 118, \"12\": 30, \"8\": 44, \"3\": 49, \"6\": 4, \"15\": 5}, \"11\": {\"13\": 97, \"12\": 315, \"11\": 490, \"15\": 56, \"9\": 79, \"6\": 69, \"3\": 72, \"5\": 18, \"1\": 4}, \"7\": {\"4\": 467, \"7\": 590, \"5\": 116, \"6\": 11, \"9\": 3, \"15\": 13}, \"14\": {\"2\": 446, \"0\": 200, \"14\": 530, \"10\": 24}}, \"ORACLE.run1_38\": {\"15\": {\"15\": 903, \"6\": 35, \"1\": 54, \"12\": 33, \"8\": 74, \"5\": 97, \"9\": 4}, \"11\": {\"11\": 1191, \"3\": 9}, \"10\": {\"3\": 56, \"10\": 667, \"13\": 79, \"0\": 235, \"4\": 162, \"14\": 1}, \"14\": {\"14\": 547, \"2\": 224, \"7\": 181, \"4\": 49, \"13\": 128, \"0\": 45, \"8\": 13, \"5\": 5, \"9\": 7, \"10\": 1}, \"6\": {\"6\": 638, \"1\": 551, \"15\": 11}, \"4\": {\"13\": 82, \"4\": 786, \"10\": 181, \"0\": 130, \"14\": 17, \"7\": 4}, \"13\": {\"13\": 579, \"14\": 102, \"0\": 258, \"4\": 79, \"7\": 76, \"10\": 72, \"2\": 33, \"8\": 1}, \"3\": {\"3\": 1171, \"11\": 19, \"10\": 10}, \"7\": {\"8\": 50, \"7\": 475, \"14\": 272, \"2\": 254, \"13\": 43, \"5\": 20, \"9\": 66, \"0\": 18, \"4\": 2}, \"8\": {\"12\": 145, \"2\": 131, \"9\": 177, \"15\": 136, \"5\": 236, \"8\": 225, \"14\": 39, \"7\": 106, \"13\": 5}, \"1\": {\"1\": 619, \"6\": 565, \"15\": 16}, \"5\": {\"15\": 170, \"5\": 303, \"12\": 118, \"8\": 248, \"14\": 18, \"2\": 72, \"9\": 209, \"7\": 60, \"13\": 2}, \"0\": {\"14\": 64, \"0\": 251, \"10\": 351, \"13\": 281, \"3\": 62, \"4\": 91, \"7\": 72, \"2\": 24, \"9\": 4}, \"2\": {\"8\": 62, \"14\": 246, \"7\": 268, \"9\": 82, \"2\": 477, \"5\": 41, \"0\": 4, \"13\": 18, \"12\": 2}, \"12\": {\"9\": 27, \"12\": 787, \"5\": 161, \"8\": 173, \"15\": 27, \"2\": 16, \"7\": 5, \"14\": 4}, \"9\": {\"9\": 567, \"8\": 198, \"5\": 240, \"2\": 88, \"7\": 71, \"12\": 24, \"14\": 9, \"15\": 3}}, \"ORACLE.run1_20\": {\"10\": {\"3\": 1, \"1\": 9, \"10\": 450, \"13\": 237, \"4\": 172, \"15\": 52, \"12\": 103, \"6\": 52, \"7\": 30, \"2\": 86, \"14\": 2, \"5\": 3, \"9\": 3}, \"7\": {\"13\": 55, \"9\": 126, \"6\": 141, \"4\": 95, \"2\": 107, \"1\": 112, \"5\": 86, \"3\": 73, \"15\": 76, \"7\": 134, \"14\": 46, \"12\": 88, \"10\": 24, \"8\": 36, \"0\": 1}, \"4\": {\"10\": 141, \"15\": 124, \"7\": 92, \"4\": 162, \"6\": 106, \"13\": 133, \"12\": 135, \"1\": 52, \"2\": 122, \"9\": 60, \"3\": 17, \"14\": 13, \"5\": 39, \"8\": 4}, \"13\": {\"12\": 133, \"13\": 336, \"2\": 116, \"10\": 233, \"15\": 103, \"9\": 19, \"7\": 54, \"6\": 59, \"4\": 119, \"14\": 1, \"3\": 6, \"5\": 6, \"1\": 14, \"8\": 1}, \"1\": {\"1\": 161, \"9\": 116, \"6\": 87, \"13\": 41, \"3\": 115, \"2\": 81, \"15\": 106, \"8\": 68, \"12\": 64, \"5\": 143, \"7\": 103, \"14\": 64, \"4\": 43, \"0\": 5, \"10\": 3}, \"0\": {\"0\": 556, \"11\": 350, \"8\": 130, \"14\": 64, \"3\": 59, \"1\": 6, \"6\": 3, \"5\": 22, \"9\": 5, \"7\": 5}, \"12\": {\"9\": 60, \"15\": 142, \"2\": 130, \"12\": 150, \"13\": 165, \"10\": 87, \"5\": 43, \"1\": 66, \"7\": 94, \"4\": 139, \"6\": 83, \"3\": 24, \"14\": 7, \"8\": 10}, \"5\": {\"14\": 124, \"1\": 152, \"8\": 153, \"6\": 59, \"7\": 87, \"5\": 170, \"3\": 158, \"9\": 122, \"2\": 36, \"12\": 35, \"15\": 45, \"0\": 27, \"4\": 24, \"10\": 3, \"13\": 3, \"11\": 2}, \"6\": {\"10\": 39, \"13\": 78, \"12\": 92, \"7\": 129, \"2\": 112, \"4\": 93, \"8\": 34, \"5\": 73, \"14\": 53, \"3\": 68, \"15\": 86, \"1\": 78, \"6\": 167, \"9\": 98}, \"2\": {\"7\": 97, \"12\": 145, \"1\": 84, \"4\": 112, \"15\": 137, \"8\": 15, \"9\": 64, \"2\": 149, \"5\": 41, \"10\": 76, \"6\": 99, \"14\": 17, \"13\": 136, \"3\": 28}, \"8\": {\"5\": 118, \"3\": 170, \"14\": 241, \"8\": 312, \"0\": 152, \"9\": 47, \"6\": 25, \"4\": 4, \"7\": 19, \"1\": 57, \"11\": 34, \"2\": 10, \"12\": 5, \"15\": 6}, \"11\": {\"0\": 343, \"11\": 774, \"14\": 25, \"8\": 32, \"3\": 16, \"5\": 8, \"9\": 2}, \"9\": {\"5\": 126, \"8\": 73, \"7\": 132, \"6\": 96, \"2\": 66, \"4\": 47, \"12\": 68, \"1\": 147, \"9\": 115, \"3\": 115, \"13\": 44, \"14\": 75, \"15\": 90, \"10\": 5, \"0\": 1}, \"14\": {\"8\": 263, \"5\": 123, \"14\": 279, \"3\": 173, \"0\": 96, \"6\": 53, \"7\": 39, \"15\": 13, \"9\": 64, \"12\": 8, \"1\": 53, \"11\": 13, \"2\": 15, \"4\": 8}, \"15\": {\"4\": 108, \"15\": 130, \"5\": 46, \"6\": 89, \"13\": 152, \"7\": 97, \"1\": 102, \"9\": 83, \"8\": 10, \"12\": 131, \"14\": 9, \"10\": 80, \"3\": 36, \"2\": 126, \"0\": 1}, \"3\": {\"8\": 218, \"1\": 110, \"7\": 56, \"2\": 33, \"9\": 125, \"3\": 165, \"6\": 51, \"5\": 143, \"0\": 56, \"14\": 162, \"4\": 14, \"12\": 26, \"15\": 26, \"13\": 6, \"11\": 9}}, \"ORACLE.run1_14\": {\"14\": {\"6\": 109, \"7\": 106, \"14\": 282, \"0\": 178, \"13\": 117, \"2\": 144, \"5\": 57, \"8\": 47, \"3\": 152, \"12\": 7, \"4\": 1}, \"0\": {\"3\": 135, \"4\": 37, \"7\": 80, \"0\": 181, \"5\": 101, \"14\": 184, \"8\": 98, \"13\": 92, \"6\": 114, \"2\": 113, \"10\": 9, \"12\": 56}, \"4\": {\"4\": 547, \"14\": 5, \"2\": 66, \"10\": 255, \"8\": 64, \"0\": 13, \"12\": 115, \"1\": 22, \"5\": 86, \"9\": 21, \"13\": 4, \"7\": 2}, \"11\": {\"11\": 1181, \"1\": 15, \"9\": 4}, \"13\": {\"0\": 93, \"3\": 132, \"6\": 314, \"15\": 109, \"14\": 106, \"5\": 68, \"7\": 43, \"2\": 79, \"12\": 32, \"13\": 163, \"8\": 32, \"4\": 25, \"10\": 4}, \"9\": {\"9\": 707, \"1\": 305, \"10\": 171, \"4\": 14, \"12\": 3}, \"3\": {\"7\": 110, \"6\": 266, \"3\": 320, \"14\": 144, \"0\": 125, \"2\": 55, \"5\": 11, \"13\": 162, \"8\": 7}, \"6\": {\"13\": 249, \"14\": 102, \"6\": 466, \"3\": 228, \"7\": 45, \"5\": 7, \"0\": 45, \"2\": 48, \"15\": 5, \"8\": 5}, \"1\": {\"1\": 777, \"9\": 318, \"10\": 91, \"4\": 14}, \"5\": {\"14\": 93, \"8\": 217, \"5\": 308, \"2\": 183, \"7\": 118, \"4\": 81, \"12\": 67, \"6\": 9, \"3\": 10, \"0\": 77, \"13\": 34, \"10\": 3}, \"12\": {\"2\": 53, \"5\": 92, \"12\": 577, \"4\": 114, \"10\": 69, \"0\": 75, \"8\": 177, \"14\": 21, \"13\": 14, \"7\": 3, \"6\": 1, \"9\": 3, \"3\": 1}, \"10\": {\"10\": 564, \"9\": 139, \"1\": 79, \"12\": 104, \"4\": 280, \"5\": 12, \"2\": 13, \"8\": 6, \"0\": 1, \"13\": 2}, \"8\": {\"14\": 62, \"8\": 400, \"2\": 110, \"13\": 16, \"4\": 87, \"7\": 65, \"5\": 207, \"12\": 134, \"3\": 14, \"0\": 98, \"6\": 4, \"10\": 3}, \"7\": {\"8\": 116, \"6\": 57, \"3\": 112, \"5\": 128, \"7\": 433, \"0\": 68, \"2\": 121, \"13\": 61, \"14\": 101, \"4\": 2, \"12\": 1}, \"15\": {\"15\": 1200}, \"2\": {\"8\": 106, \"4\": 86, \"5\": 189, \"10\": 10, \"2\": 191, \"0\": 107, \"7\": 75, \"12\": 50, \"14\": 130, \"6\": 89, \"13\": 77, \"3\": 90}}, \"ORACLE.run1_32\": {\"11\": {\"11\": 918, \"3\": 8, \"9\": 151, \"13\": 66, \"12\": 53, \"4\": 3, \"10\": 1}, \"1\": {\"1\": 989, \"0\": 24, \"4\": 59, \"2\": 54, \"13\": 11, \"8\": 23, \"9\": 10, \"14\": 17, \"3\": 9, \"7\": 3, \"5\": 1}, \"2\": {\"2\": 451, \"14\": 79, \"4\": 358, \"3\": 135, \"13\": 72, \"1\": 19, \"5\": 5, \"8\": 56, \"0\": 17, \"9\": 6, \"7\": 2}, \"0\": {\"2\": 20, \"5\": 160, \"7\": 242, \"8\": 244, \"14\": 239, \"0\": 250, \"15\": 40, \"4\": 4, \"1\": 1}, \"3\": {\"1\": 4, \"9\": 27, \"2\": 112, \"3\": 439, \"4\": 255, \"13\": 336, \"11\": 12, \"8\": 8, \"14\": 7}, \"8\": {\"5\": 140, \"8\": 286, \"14\": 225, \"7\": 147, \"4\": 20, \"0\": 269, \"2\": 63, \"15\": 34, \"1\": 5, \"3\": 10, \"13\": 1}, \"12\": {\"12\": 819, \"9\": 142, \"11\": 83, \"10\": 149, \"1\": 1, \"13\": 6}, \"5\": {\"14\": 99, \"0\": 149, \"5\": 353, \"7\": 228, \"15\": 248, \"8\": 117, \"1\": 1, \"2\": 4, \"13\": 1}, \"15\": {\"15\": 918, \"5\": 177, \"0\": 32, \"7\": 32, \"8\": 35, \"14\": 6}, \"7\": {\"14\": 189, \"0\": 249, \"7\": 312, \"5\": 247, \"8\": 141, \"2\": 6, \"15\": 56}, \"4\": {\"3\": 224, \"4\": 398, \"2\": 308, \"13\": 180, \"1\": 21, \"14\": 32, \"5\": 1, \"0\": 6, \"8\": 15, \"7\": 1, \"11\": 3, \"9\": 11}, \"14\": {\"14\": 331, \"8\": 215, \"4\": 49, \"0\": 195, \"7\": 174, \"5\": 77, \"2\": 129, \"3\": 7, \"15\": 18, \"13\": 3, \"1\": 2}, \"10\": {\"10\": 969, \"6\": 37, \"12\": 190, \"9\": 4}, \"6\": {\"6\": 1129, \"10\": 71}, \"13\": {\"13\": 412, \"3\": 303, \"2\": 97, \"9\": 127, \"11\": 61, \"4\": 183, \"1\": 6, \"14\": 8, \"8\": 2, \"0\": 1}, \"9\": {\"9\": 447, \"13\": 225, \"11\": 133, \"10\": 17, \"3\": 90, \"12\": 172, \"4\": 66, \"2\": 31, \"1\": 18, \"6\": 1}}, \"ORACLE.run1_8\": {\"9\": {\"9\": 946, \"3\": 238, \"2\": 16}, \"11\": {\"6\": 150, \"4\": 157, \"1\": 166, \"14\": 82, \"8\": 147, \"5\": 93, \"13\": 42, \"11\": 189, \"10\": 92, \"7\": 82}, \"8\": {\"6\": 103, \"8\": 297, \"11\": 206, \"5\": 22, \"10\": 34, \"4\": 264, \"1\": 81, \"14\": 125, \"7\": 55, \"13\": 13}, \"4\": {\"7\": 33, \"1\": 54, \"4\": 390, \"8\": 250, \"14\": 217, \"6\": 75, \"11\": 150, \"5\": 12, \"10\": 12, \"13\": 7}, \"13\": {\"13\": 335, \"5\": 265, \"6\": 97, \"10\": 199, \"11\": 22, \"7\": 169, \"4\": 4, \"1\": 91, \"15\": 1, \"8\": 11, \"12\": 6}, \"14\": {\"14\": 773, \"4\": 247, \"8\": 115, \"1\": 7, \"6\": 5, \"11\": 44, \"0\": 6, \"7\": 1, \"10\": 2}, \"2\": {\"2\": 453, \"15\": 336, \"12\": 199, \"3\": 188, \"5\": 3, \"13\": 4, \"9\": 16, \"10\": 1}, \"3\": {\"9\": 163, \"3\": 953, \"2\": 81, \"15\": 3}, \"1\": {\"7\": 116, \"6\": 158, \"4\": 48, \"10\": 147, \"11\": 160, \"5\": 147, \"13\": 118, \"1\": 199, \"8\": 101, \"14\": 6}, \"0\": {\"0\": 1185, \"14\": 15}, \"5\": {\"6\": 89, \"13\": 235, \"7\": 130, \"10\": 176, \"11\": 80, \"5\": 256, \"12\": 16, \"4\": 51, \"1\": 118, \"8\": 44, \"15\": 3, \"14\": 2}, \"15\": {\"15\": 480, \"12\": 395, \"2\": 317, \"3\": 8}, \"10\": {\"14\": 5, \"7\": 160, \"5\": 196, \"6\": 149, \"4\": 36, \"11\": 93, \"10\": 183, \"1\": 148, \"13\": 184, \"8\": 41, \"15\": 3, \"12\": 2}, \"12\": {\"12\": 633, \"15\": 411, \"2\": 152, \"5\": 1, \"9\": 1, \"10\": 1, \"3\": 1}, \"6\": {\"6\": 199, \"1\": 151, \"8\": 93, \"10\": 139, \"13\": 96, \"4\": 94, \"5\": 103, \"11\": 120, \"7\": 197, \"14\": 8}, \"7\": {\"5\": 135, \"6\": 207, \"7\": 218, \"10\": 175, \"13\": 182, \"1\": 125, \"11\": 83, \"4\": 35, \"8\": 40}}}, \"per_domain_accuracy\": {\"CORES_5\": {\"accuracy\": 0.9965083798882681, \"source?\": true}, \"CORES_1\": {\"accuracy\": 0.9966032608695652, \"source?\": true}, \"CORES_3\": {\"accuracy\": 0.9948529411764706, \"source?\": true}, \"CORES_4\": {\"accuracy\": 0.9967996987951807, \"source?\": true}, \"CORES_2\": {\"accuracy\": 0.9984019886363636, \"source?\": true}, \"ORACLE.run1_26\": {\"accuracy\": 0.2733333333333333, \"source?\": false}, \"ORACLE.run1_44\": {\"accuracy\": 0.4308854166666667, \"source?\": false}, \"ORACLE.run1_50\": {\"accuracy\": 0.42130208333333335, \"source?\": false}, \"ORACLE.run1_38\": {\"accuracy\": 0.5305208333333333, \"source?\": false}, \"ORACLE.run1_20\": {\"accuracy\": 0.21927083333333333, \"source?\": false}, \"ORACLE.run1_14\": {\"accuracy\": 0.43213541666666666, \"source?\": false}, \"ORACLE.run1_32\": {\"accuracy\": 0.4906770833333333, \"source?\": false}, \"ORACLE.run1_8\": {\"accuracy\": 0.40046875, \"source?\": false}}}, \"history\": {\"epoch_indices\": [1, 2, 3, 4, 5, 6], \"train_label_loss\": [0.025944210091891535, 0.00881474921862693, 0.006650601914348102, 0.005666992928121838, 0.004636210754664318, 0.004628838315590751], \"source_val_label_loss\": [0.012977441772818565, 0.025092022493481636, 0.010341690853238106, 0.018650008365511894, 0.007808109745383263, 0.007888241671025753], \"target_val_label_loss\": [2.1024770736694336, 1.7564553022384644, 1.8569645881652832, 1.876503586769104, 1.9308041334152222, 1.9830114841461182], \"source_val_acc_label\": [0.9971071428571429, 0.9966428571428572, 0.9987142857142857, 0.9987142857142857, 0.9995, 0.9992857142857143], \"target_val_acc_label\": [0.33227864583333333, 0.39982421875, 0.39373046875, 0.38912109375, 0.35982421875, 0.35807942708333335]}, \"dataset_metrics\": {\"source\": {\"train\": {\"n_unique_x\": 175142, \"n_unique_y\": 58, \"n_batch/episode\": 6303}, \"val\": {\"n_unique_x\": 37151, \"n_unique_y\": 58, \"n_batch/episode\": 875}, \"test\": {\"n_unique_x\": 37548, \"n_unique_y\": 58, \"n_batch/episode\": 885}}, \"target\": {\"train\": {\"n_unique_x\": 896000, \"n_unique_y\": 16, \"n_batch/episode\": 33600}, \"val\": {\"n_unique_x\": 192000, \"n_unique_y\": 16, \"n_batch/episode\": 4800}, \"test\": {\"n_unique_x\": 192000, \"n_unique_y\": 16, \"n_batch/episode\": 4800}}}}'"
      ]
     },
     "execution_count": 29,
     "metadata": {},
     "output_type": "execute_result"
    }
   ],
   "source": [
    "json.dumps(experiment)"
   ]
  }
 ],
 "metadata": {
  "celltoolbar": "Tags",
  "kernelspec": {
   "display_name": "Python 3 (ipykernel)",
   "language": "python",
   "name": "python3"
  },
  "language_info": {
   "codemirror_mode": {
    "name": "ipython",
    "version": 3
   },
   "file_extension": ".py",
   "mimetype": "text/x-python",
   "name": "python",
   "nbconvert_exporter": "python",
   "pygments_lexer": "ipython3",
   "version": "3.8.12"
  },
  "papermill": {
   "default_parameters": {},
   "duration": 1625.391574,
   "end_time": "2022-03-22T21:50:36.777130",
   "environment_variables": {},
   "exception": null,
   "input_path": "/root/csc500-main/csc500-notebooks/templates/tl_ptn_template.ipynb",
   "output_path": "trial.ipynb",
   "parameters": {
    "parameters": {
     "BEST_MODEL_PATH": "./best_model.pth",
     "NUM_LOGS_PER_EPOCH": 10,
     "criteria_for_best": "target_accuracy",
     "dataset_seed": 7,
     "datasets": [
      {
       "domain_prefix": "CORES_",
       "domains": [
        1,
        2,
        3,
        4,
        5
       ],
       "episode_transforms": [],
       "labels": [
        "1-10.",
        "1-11.",
        "1-15.",
        "1-16.",
        "1-17.",
        "1-18.",
        "1-19.",
        "10-4.",
        "10-7.",
        "11-1.",
        "11-14.",
        "11-17.",
        "11-20.",
        "11-7.",
        "13-20.",
        "13-8.",
        "14-10.",
        "14-11.",
        "14-14.",
        "14-7.",
        "15-1.",
        "15-20.",
        "16-1.",
        "16-16.",
        "17-10.",
        "17-11.",
        "17-2.",
        "19-1.",
        "19-16.",
        "19-19.",
        "19-20.",
        "19-3.",
        "2-10.",
        "2-11.",
        "2-17.",
        "2-18.",
        "2-20.",
        "2-3.",
        "2-4.",
        "2-5.",
        "2-6.",
        "2-7.",
        "2-8.",
        "3-13.",
        "3-18.",
        "3-3.",
        "4-1.",
        "4-10.",
        "4-11.",
        "4-19.",
        "5-5.",
        "6-15.",
        "7-10.",
        "7-14.",
        "8-18.",
        "8-20.",
        "8-3.",
        "8-8."
       ],
       "num_examples_per_domain_per_label": -1,
       "pickle_path": "/root/csc500-main/datasets/cores.stratified_ds.2022A.pkl",
       "source_or_target_dataset": "source",
       "x_transforms": []
      },
      {
       "domain_prefix": "ORACLE.run1_",
       "domains": [
        32,
        38,
        8,
        44,
        14,
        50,
        20,
        26
       ],
       "episode_transforms": [],
       "labels": [
        "3123D52",
        "3123D65",
        "3123D79",
        "3123D80",
        "3123D54",
        "3123D70",
        "3123D7B",
        "3123D89",
        "3123D58",
        "3123D76",
        "3123D7D",
        "3123EFE",
        "3123D64",
        "3123D78",
        "3123D7E",
        "3124E4A"
       ],
       "num_examples_per_domain_per_label": 10000,
       "pickle_path": "/root/csc500-main/datasets/oracle.Run1_10kExamples_stratified_ds.2022A.pkl",
       "source_or_target_dataset": "target",
       "x_transforms": []
      }
     ],
     "device": "cuda",
     "experiment_name": "tl_1v2:cores-oracle.run1",
     "lr": 0.0001,
     "n_epoch": 50,
     "n_query": 2,
     "n_shot": 3,
     "n_way": 16,
     "patience": 3,
     "seed": 7,
     "test_k_factor": 2,
     "torch_default_dtype": "torch.float32",
     "train_k_factor": 3,
     "val_k_factor": 2,
     "x_net": [
      {
       "class": "nnReshape",
       "kargs": {
        "shape": [
         -1,
         1,
         2,
         256
        ]
       }
      },
      {
       "class": "Conv2d",
       "kargs": {
        "bias": false,
        "in_channels": 1,
        "kernel_size": [
         1,
         7
        ],
        "out_channels": 256,
        "padding": [
         0,
         3
        ]
       }
      },
      {
       "class": "ReLU",
       "kargs": {
        "inplace": true
       }
      },
      {
       "class": "BatchNorm2d",
       "kargs": {
        "num_features": 256
       }
      },
      {
       "class": "Conv2d",
       "kargs": {
        "bias": true,
        "in_channels": 256,
        "kernel_size": [
         2,
         7
        ],
        "out_channels": 80,
        "padding": [
         0,
         3
        ]
       }
      },
      {
       "class": "ReLU",
       "kargs": {
        "inplace": true
       }
      },
      {
       "class": "BatchNorm2d",
       "kargs": {
        "num_features": 80
       }
      },
      {
       "class": "Flatten",
       "kargs": {}
      },
      {
       "class": "Linear",
       "kargs": {
        "in_features": 20480,
        "out_features": 256
       }
      },
      {
       "class": "ReLU",
       "kargs": {
        "inplace": true
       }
      },
      {
       "class": "BatchNorm1d",
       "kargs": {
        "num_features": 256
       }
      },
      {
       "class": "Linear",
       "kargs": {
        "in_features": 256,
        "out_features": 256
       }
      }
     ]
    }
   },
   "start_time": "2022-03-22T21:23:31.385556",
   "version": "2.3.4"
  }
 },
 "nbformat": 4,
 "nbformat_minor": 5
}