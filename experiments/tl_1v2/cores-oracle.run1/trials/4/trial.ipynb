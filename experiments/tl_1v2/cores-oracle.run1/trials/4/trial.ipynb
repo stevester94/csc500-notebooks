{
 "cells": [
  {
   "cell_type": "markdown",
   "id": "9fea5f46",
   "metadata": {
    "papermill": {
     "duration": 0.030338,
     "end_time": "2022-03-21T11:42:52.306781",
     "exception": false,
     "start_time": "2022-03-21T11:42:52.276443",
     "status": "completed"
    },
    "tags": []
   },
   "source": [
    "# Transfer Learning Template"
   ]
  },
  {
   "cell_type": "code",
   "execution_count": 1,
   "id": "0902182a",
   "metadata": {
    "execution": {
     "iopub.execute_input": "2022-03-21T11:42:52.371303Z",
     "iopub.status.busy": "2022-03-21T11:42:52.370451Z",
     "iopub.status.idle": "2022-03-21T11:42:54.235368Z",
     "shell.execute_reply": "2022-03-21T11:42:54.234450Z"
    },
    "papermill": {
     "duration": 1.905117,
     "end_time": "2022-03-21T11:42:54.235608",
     "exception": false,
     "start_time": "2022-03-21T11:42:52.330491",
     "status": "completed"
    },
    "tags": []
   },
   "outputs": [],
   "source": [
    "%load_ext autoreload\n",
    "%autoreload 2\n",
    "%matplotlib inline\n",
    "\n",
    "    \n",
    "import os, json, sys, time, random\n",
    "import numpy as np\n",
    "import torch\n",
    "from torch.optim import Adam\n",
    "from  easydict import EasyDict\n",
    "import matplotlib.pyplot as plt\n",
    "\n",
    "from steves_models.steves_ptn import Steves_Prototypical_Network\n",
    "\n",
    "from steves_utils.lazy_iterable_wrapper import Lazy_Iterable_Wrapper\n",
    "from steves_utils.iterable_aggregator import Iterable_Aggregator\n",
    "from steves_utils.ptn_train_eval_test_jig import  PTN_Train_Eval_Test_Jig\n",
    "from steves_utils.torch_sequential_builder import build_sequential\n",
    "from steves_utils.torch_utils import get_dataset_metrics, ptn_confusion_by_domain_over_dataloader\n",
    "from steves_utils.utils_v2 import (per_domain_accuracy_from_confusion, get_datasets_base_path)\n",
    "from steves_utils.PTN.utils import independent_accuracy_assesment\n",
    "\n",
    "from torch.utils.data import DataLoader\n",
    "\n",
    "from steves_utils.stratified_dataset.episodic_accessor import Episodic_Accessor_Factory\n",
    "\n",
    "from steves_utils.ptn_do_report import (\n",
    "    get_loss_curve,\n",
    "    get_results_table,\n",
    "    get_parameters_table,\n",
    "    get_domain_accuracies,\n",
    ")\n",
    "\n",
    "from steves_utils.transforms import get_chained_transform"
   ]
  },
  {
   "cell_type": "markdown",
   "id": "41c840b4",
   "metadata": {
    "papermill": {
     "duration": 0.018889,
     "end_time": "2022-03-21T11:42:54.279251",
     "exception": false,
     "start_time": "2022-03-21T11:42:54.260362",
     "status": "completed"
    },
    "tags": []
   },
   "source": [
    "# Allowed Parameters\n",
    "These are allowed parameters, not defaults\n",
    "Each of these values need to be present in the injected parameters (the notebook will raise an exception if they are not present)\n",
    "\n",
    "Papermill uses the cell tag \"parameters\" to inject the real parameters below this cell.\n",
    "Enable tags to see what I mean"
   ]
  },
  {
   "cell_type": "code",
   "execution_count": 2,
   "id": "fd44eb83",
   "metadata": {
    "execution": {
     "iopub.execute_input": "2022-03-21T11:42:54.323013Z",
     "iopub.status.busy": "2022-03-21T11:42:54.322438Z",
     "iopub.status.idle": "2022-03-21T11:42:54.344793Z",
     "shell.execute_reply": "2022-03-21T11:42:54.344087Z"
    },
    "papermill": {
     "duration": 0.046884,
     "end_time": "2022-03-21T11:42:54.344943",
     "exception": false,
     "start_time": "2022-03-21T11:42:54.298059",
     "status": "completed"
    },
    "tags": []
   },
   "outputs": [],
   "source": [
    "required_parameters = {\n",
    "    \"experiment_name\",\n",
    "    \"lr\",\n",
    "    \"device\",\n",
    "    \"seed\",\n",
    "    \"dataset_seed\",\n",
    "    \"n_shot\",\n",
    "    \"n_query\",\n",
    "    \"n_way\",\n",
    "    \"train_k_factor\",\n",
    "    \"val_k_factor\",\n",
    "    \"test_k_factor\",\n",
    "    \"n_epoch\",\n",
    "    \"patience\",\n",
    "    \"criteria_for_best\",\n",
    "    \"x_net\",\n",
    "    \"datasets\",\n",
    "    \"torch_default_dtype\",\n",
    "    \"NUM_LOGS_PER_EPOCH\",\n",
    "    \"BEST_MODEL_PATH\",\n",
    "    \"x_shape\",\n",
    "}"
   ]
  },
  {
   "cell_type": "code",
   "execution_count": 3,
   "id": "fa3f0049",
   "metadata": {
    "execution": {
     "iopub.execute_input": "2022-03-21T11:42:54.408274Z",
     "iopub.status.busy": "2022-03-21T11:42:54.407376Z",
     "iopub.status.idle": "2022-03-21T11:42:54.427330Z",
     "shell.execute_reply": "2022-03-21T11:42:54.426544Z"
    },
    "papermill": {
     "duration": 0.055124,
     "end_time": "2022-03-21T11:42:54.427480",
     "exception": false,
     "start_time": "2022-03-21T11:42:54.372356",
     "status": "completed"
    },
    "tags": [
     "parameters"
    ]
   },
   "outputs": [],
   "source": [
    "from steves_utils.CORES.utils import (\n",
    "    ALL_NODES,\n",
    "    ALL_NODES_MINIMUM_1000_EXAMPLES,\n",
    "    ALL_DAYS\n",
    ")\n",
    "\n",
    "from steves_utils.ORACLE.utils_v2 import (\n",
    "    ALL_DISTANCES_FEET_NARROWED,\n",
    "    ALL_RUNS,\n",
    "    ALL_SERIAL_NUMBERS,\n",
    ")\n",
    "\n",
    "standalone_parameters = {}\n",
    "standalone_parameters[\"experiment_name\"] = \"STANDALONE PTN\"\n",
    "standalone_parameters[\"lr\"] = 0.001\n",
    "standalone_parameters[\"device\"] = \"cuda\"\n",
    "\n",
    "standalone_parameters[\"seed\"] = 1337\n",
    "standalone_parameters[\"dataset_seed\"] = 1337\n",
    "\n",
    "standalone_parameters[\"n_way\"] = 8\n",
    "standalone_parameters[\"n_shot\"] = 3\n",
    "standalone_parameters[\"n_query\"]  = 2\n",
    "standalone_parameters[\"train_k_factor\"] = 1\n",
    "standalone_parameters[\"val_k_factor\"] = 2\n",
    "standalone_parameters[\"test_k_factor\"] = 2\n",
    "\n",
    "\n",
    "standalone_parameters[\"n_epoch\"] = 50\n",
    "\n",
    "standalone_parameters[\"patience\"] = 10\n",
    "standalone_parameters[\"criteria_for_best\"] = \"source_loss\"\n",
    "\n",
    "standalone_parameters[\"datasets\"] = [\n",
    "    {\n",
    "        \"labels\": ALL_SERIAL_NUMBERS,\n",
    "        \"domains\": ALL_DISTANCES_FEET_NARROWED,\n",
    "        \"num_examples_per_domain_per_label\": 100,\n",
    "        \"pickle_path\": os.path.join(get_datasets_base_path(), \"oracle.Run1_framed_2000Examples_stratified_ds.2022A.pkl\"),\n",
    "        \"source_or_target_dataset\": \"source\",\n",
    "        \"x_transforms\": [\"unit_mag\", \"minus_two\"],\n",
    "        \"episode_transforms\": [],\n",
    "        \"domain_prefix\": \"ORACLE_\"\n",
    "    },\n",
    "    {\n",
    "        \"labels\": ALL_NODES,\n",
    "        \"domains\": ALL_DAYS,\n",
    "        \"num_examples_per_domain_per_label\": 100,\n",
    "        \"pickle_path\": os.path.join(get_datasets_base_path(), \"cores.stratified_ds.2022A.pkl\"),\n",
    "        \"source_or_target_dataset\": \"target\",\n",
    "        \"x_transforms\": [\"unit_power\", \"times_zero\"],\n",
    "        \"episode_transforms\": [],\n",
    "        \"domain_prefix\": \"CORES_\"\n",
    "    }   \n",
    "]\n",
    "\n",
    "standalone_parameters[\"torch_default_dtype\"] = \"torch.float32\" \n",
    "\n",
    "\n",
    "\n",
    "standalone_parameters[\"x_net\"] =     [\n",
    "    {\"class\": \"nnReshape\", \"kargs\": {\"shape\":[-1, 1, 2, 256]}},\n",
    "    {\"class\": \"Conv2d\", \"kargs\": { \"in_channels\":1, \"out_channels\":256, \"kernel_size\":(1,7), \"bias\":False, \"padding\":(0,3), },},\n",
    "    {\"class\": \"ReLU\", \"kargs\": {\"inplace\": True}},\n",
    "    {\"class\": \"BatchNorm2d\", \"kargs\": {\"num_features\":256}},\n",
    "\n",
    "    {\"class\": \"Conv2d\", \"kargs\": { \"in_channels\":256, \"out_channels\":80, \"kernel_size\":(2,7), \"bias\":True, \"padding\":(0,3), },},\n",
    "    {\"class\": \"ReLU\", \"kargs\": {\"inplace\": True}},\n",
    "    {\"class\": \"BatchNorm2d\", \"kargs\": {\"num_features\":80}},\n",
    "    {\"class\": \"Flatten\", \"kargs\": {}},\n",
    "\n",
    "    {\"class\": \"Linear\", \"kargs\": {\"in_features\": 80*256, \"out_features\": 256}}, # 80 units per IQ pair\n",
    "    {\"class\": \"ReLU\", \"kargs\": {\"inplace\": True}},\n",
    "    {\"class\": \"BatchNorm1d\", \"kargs\": {\"num_features\":256}},\n",
    "\n",
    "    {\"class\": \"Linear\", \"kargs\": {\"in_features\": 256, \"out_features\": 256}},\n",
    "]\n",
    "\n",
    "# Parameters relevant to results\n",
    "# These parameters will basically never need to change\n",
    "standalone_parameters[\"NUM_LOGS_PER_EPOCH\"] = 10\n",
    "standalone_parameters[\"BEST_MODEL_PATH\"] = \"./best_model.pth\"\n",
    "\n",
    "\n",
    "\n",
    "\n"
   ]
  },
  {
   "cell_type": "code",
   "execution_count": 4,
   "id": "5f18ad14",
   "metadata": {
    "execution": {
     "iopub.execute_input": "2022-03-21T11:42:54.485681Z",
     "iopub.status.busy": "2022-03-21T11:42:54.484728Z",
     "iopub.status.idle": "2022-03-21T11:42:54.503933Z",
     "shell.execute_reply": "2022-03-21T11:42:54.503094Z"
    },
    "papermill": {
     "duration": 0.052499,
     "end_time": "2022-03-21T11:42:54.504084",
     "exception": false,
     "start_time": "2022-03-21T11:42:54.451585",
     "status": "completed"
    },
    "tags": [
     "injected-parameters"
    ]
   },
   "outputs": [],
   "source": [
    "# Parameters\n",
    "parameters = {\n",
    "    \"experiment_name\": \"tl_1v2:cores-oracle.run1\",\n",
    "    \"device\": \"cuda\",\n",
    "    \"lr\": 0.0001,\n",
    "    \"n_shot\": 3,\n",
    "    \"n_query\": 2,\n",
    "    \"train_k_factor\": 3,\n",
    "    \"val_k_factor\": 2,\n",
    "    \"test_k_factor\": 2,\n",
    "    \"torch_default_dtype\": \"torch.float32\",\n",
    "    \"n_epoch\": 50,\n",
    "    \"patience\": 3,\n",
    "    \"criteria_for_best\": \"target_accuracy\",\n",
    "    \"x_net\": [\n",
    "        {\"class\": \"nnReshape\", \"kargs\": {\"shape\": [-1, 1, 2, 256]}},\n",
    "        {\n",
    "            \"class\": \"Conv2d\",\n",
    "            \"kargs\": {\n",
    "                \"in_channels\": 1,\n",
    "                \"out_channels\": 256,\n",
    "                \"kernel_size\": [1, 7],\n",
    "                \"bias\": False,\n",
    "                \"padding\": [0, 3],\n",
    "            },\n",
    "        },\n",
    "        {\"class\": \"ReLU\", \"kargs\": {\"inplace\": True}},\n",
    "        {\"class\": \"BatchNorm2d\", \"kargs\": {\"num_features\": 256}},\n",
    "        {\n",
    "            \"class\": \"Conv2d\",\n",
    "            \"kargs\": {\n",
    "                \"in_channels\": 256,\n",
    "                \"out_channels\": 80,\n",
    "                \"kernel_size\": [2, 7],\n",
    "                \"bias\": True,\n",
    "                \"padding\": [0, 3],\n",
    "            },\n",
    "        },\n",
    "        {\"class\": \"ReLU\", \"kargs\": {\"inplace\": True}},\n",
    "        {\"class\": \"BatchNorm2d\", \"kargs\": {\"num_features\": 80}},\n",
    "        {\"class\": \"Flatten\", \"kargs\": {}},\n",
    "        {\"class\": \"Linear\", \"kargs\": {\"in_features\": 20480, \"out_features\": 256}},\n",
    "        {\"class\": \"ReLU\", \"kargs\": {\"inplace\": True}},\n",
    "        {\"class\": \"BatchNorm1d\", \"kargs\": {\"num_features\": 256}},\n",
    "        {\"class\": \"Linear\", \"kargs\": {\"in_features\": 256, \"out_features\": 256}},\n",
    "    ],\n",
    "    \"NUM_LOGS_PER_EPOCH\": 10,\n",
    "    \"BEST_MODEL_PATH\": \"./best_model.pth\",\n",
    "    \"n_way\": 16,\n",
    "    \"datasets\": [\n",
    "        {\n",
    "            \"labels\": [\n",
    "                \"1-10.\",\n",
    "                \"1-11.\",\n",
    "                \"1-15.\",\n",
    "                \"1-16.\",\n",
    "                \"1-17.\",\n",
    "                \"1-18.\",\n",
    "                \"1-19.\",\n",
    "                \"10-4.\",\n",
    "                \"10-7.\",\n",
    "                \"11-1.\",\n",
    "                \"11-14.\",\n",
    "                \"11-17.\",\n",
    "                \"11-20.\",\n",
    "                \"11-7.\",\n",
    "                \"13-20.\",\n",
    "                \"13-8.\",\n",
    "                \"14-10.\",\n",
    "                \"14-11.\",\n",
    "                \"14-14.\",\n",
    "                \"14-7.\",\n",
    "                \"15-1.\",\n",
    "                \"15-20.\",\n",
    "                \"16-1.\",\n",
    "                \"16-16.\",\n",
    "                \"17-10.\",\n",
    "                \"17-11.\",\n",
    "                \"17-2.\",\n",
    "                \"19-1.\",\n",
    "                \"19-16.\",\n",
    "                \"19-19.\",\n",
    "                \"19-20.\",\n",
    "                \"19-3.\",\n",
    "                \"2-10.\",\n",
    "                \"2-11.\",\n",
    "                \"2-17.\",\n",
    "                \"2-18.\",\n",
    "                \"2-20.\",\n",
    "                \"2-3.\",\n",
    "                \"2-4.\",\n",
    "                \"2-5.\",\n",
    "                \"2-6.\",\n",
    "                \"2-7.\",\n",
    "                \"2-8.\",\n",
    "                \"3-13.\",\n",
    "                \"3-18.\",\n",
    "                \"3-3.\",\n",
    "                \"4-1.\",\n",
    "                \"4-10.\",\n",
    "                \"4-11.\",\n",
    "                \"4-19.\",\n",
    "                \"5-5.\",\n",
    "                \"6-15.\",\n",
    "                \"7-10.\",\n",
    "                \"7-14.\",\n",
    "                \"8-18.\",\n",
    "                \"8-20.\",\n",
    "                \"8-3.\",\n",
    "                \"8-8.\",\n",
    "            ],\n",
    "            \"domains\": [1, 2, 3, 4, 5],\n",
    "            \"num_examples_per_domain_per_label\": -1,\n",
    "            \"pickle_path\": \"/root/csc500-main/datasets/cores.stratified_ds.2022A.pkl\",\n",
    "            \"source_or_target_dataset\": \"target\",\n",
    "            \"x_transforms\": [\"unit_mag\"],\n",
    "            \"episode_transforms\": [],\n",
    "            \"domain_prefix\": \"CORES_\",\n",
    "        },\n",
    "        {\n",
    "            \"labels\": [\n",
    "                \"3123D52\",\n",
    "                \"3123D65\",\n",
    "                \"3123D79\",\n",
    "                \"3123D80\",\n",
    "                \"3123D54\",\n",
    "                \"3123D70\",\n",
    "                \"3123D7B\",\n",
    "                \"3123D89\",\n",
    "                \"3123D58\",\n",
    "                \"3123D76\",\n",
    "                \"3123D7D\",\n",
    "                \"3123EFE\",\n",
    "                \"3123D64\",\n",
    "                \"3123D78\",\n",
    "                \"3123D7E\",\n",
    "                \"3124E4A\",\n",
    "            ],\n",
    "            \"domains\": [32, 38, 8, 44, 14, 50, 20, 26],\n",
    "            \"num_examples_per_domain_per_label\": 10000,\n",
    "            \"pickle_path\": \"/root/csc500-main/datasets/oracle.Run1_10kExamples_stratified_ds.2022A.pkl\",\n",
    "            \"source_or_target_dataset\": \"source\",\n",
    "            \"x_transforms\": [\"unit_mag\"],\n",
    "            \"episode_transforms\": [],\n",
    "            \"domain_prefix\": \"ORACLE.run1_\",\n",
    "        },\n",
    "    ],\n",
    "    \"dataset_seed\": 1337,\n",
    "    \"seed\": 1337,\n",
    "}\n"
   ]
  },
  {
   "cell_type": "code",
   "execution_count": 5,
   "id": "8fa1cc33",
   "metadata": {
    "execution": {
     "iopub.execute_input": "2022-03-21T11:42:54.557276Z",
     "iopub.status.busy": "2022-03-21T11:42:54.556760Z",
     "iopub.status.idle": "2022-03-21T11:42:54.576533Z",
     "shell.execute_reply": "2022-03-21T11:42:54.575735Z"
    },
    "papermill": {
     "duration": 0.046382,
     "end_time": "2022-03-21T11:42:54.576683",
     "exception": false,
     "start_time": "2022-03-21T11:42:54.530301",
     "status": "completed"
    },
    "tags": []
   },
   "outputs": [],
   "source": [
    "# Set this to True if you want to run this template directly\n",
    "STANDALONE = False\n",
    "if STANDALONE:\n",
    "    print(\"parameters not injected, running with standalone_parameters\")\n",
    "    parameters = standalone_parameters\n",
    "\n",
    "if not 'parameters' in locals() and not 'parameters' in globals():\n",
    "    raise Exception(\"Parameter injection failed\")\n",
    "\n",
    "#Use an easy dict for all the parameters\n",
    "p = EasyDict(parameters)\n",
    "\n",
    "if \"x_shape\" not in p:\n",
    "    p.x_shape = [2,256] # Default to this if we dont supply x_shape\n",
    "\n",
    "\n",
    "supplied_keys = set(p.keys())\n",
    "\n",
    "if  supplied_keys != required_parameters:\n",
    "    print(\"Parameters are incorrect\")\n",
    "    if len(supplied_keys - required_parameters)>0: print(\"Shouldn't have:\", str(supplied_keys - required_parameters))\n",
    "    if len(required_parameters - supplied_keys)>0: print(\"Need to have:\", str(required_parameters - supplied_keys))\n",
    "    raise RuntimeError(\"Parameters are incorrect\")"
   ]
  },
  {
   "cell_type": "code",
   "execution_count": 6,
   "id": "3a028d58",
   "metadata": {
    "execution": {
     "iopub.execute_input": "2022-03-21T11:42:54.627462Z",
     "iopub.status.busy": "2022-03-21T11:42:54.626907Z",
     "iopub.status.idle": "2022-03-21T11:42:54.647644Z",
     "shell.execute_reply": "2022-03-21T11:42:54.646826Z"
    },
    "papermill": {
     "duration": 0.044857,
     "end_time": "2022-03-21T11:42:54.647798",
     "exception": false,
     "start_time": "2022-03-21T11:42:54.602941",
     "status": "completed"
    },
    "tags": []
   },
   "outputs": [],
   "source": [
    "###################################\n",
    "# Set the RNGs and make it all deterministic\n",
    "###################################\n",
    "np.random.seed(p.seed)\n",
    "random.seed(p.seed)\n",
    "torch.manual_seed(p.seed)\n",
    "\n",
    "torch.use_deterministic_algorithms(True) "
   ]
  },
  {
   "cell_type": "code",
   "execution_count": 7,
   "id": "b691acf6",
   "metadata": {
    "execution": {
     "iopub.execute_input": "2022-03-21T11:42:54.699932Z",
     "iopub.status.busy": "2022-03-21T11:42:54.698076Z",
     "iopub.status.idle": "2022-03-21T11:42:54.721749Z",
     "shell.execute_reply": "2022-03-21T11:42:54.720952Z"
    },
    "papermill": {
     "duration": 0.045471,
     "end_time": "2022-03-21T11:42:54.721899",
     "exception": false,
     "start_time": "2022-03-21T11:42:54.676428",
     "status": "completed"
    },
    "tags": []
   },
   "outputs": [],
   "source": [
    "###########################################\n",
    "# The stratified datasets honor this\n",
    "###########################################\n",
    "torch.set_default_dtype(eval(p.torch_default_dtype))"
   ]
  },
  {
   "cell_type": "code",
   "execution_count": 8,
   "id": "b5fba671",
   "metadata": {
    "execution": {
     "iopub.execute_input": "2022-03-21T11:42:54.770862Z",
     "iopub.status.busy": "2022-03-21T11:42:54.769770Z",
     "iopub.status.idle": "2022-03-21T11:42:54.825051Z",
     "shell.execute_reply": "2022-03-21T11:42:54.824351Z"
    },
    "papermill": {
     "duration": 0.07802,
     "end_time": "2022-03-21T11:42:54.825199",
     "exception": false,
     "start_time": "2022-03-21T11:42:54.747179",
     "status": "completed"
    },
    "tags": []
   },
   "outputs": [],
   "source": [
    "###################################\n",
    "# Build the network(s)\n",
    "# Note: It's critical to do this AFTER setting the RNG\n",
    "###################################\n",
    "x_net = build_sequential(p.x_net)"
   ]
  },
  {
   "cell_type": "code",
   "execution_count": 9,
   "id": "5d7e61cc",
   "metadata": {
    "execution": {
     "iopub.execute_input": "2022-03-21T11:42:54.873405Z",
     "iopub.status.busy": "2022-03-21T11:42:54.872860Z",
     "iopub.status.idle": "2022-03-21T11:42:54.899281Z",
     "shell.execute_reply": "2022-03-21T11:42:54.898483Z"
    },
    "papermill": {
     "duration": 0.05036,
     "end_time": "2022-03-21T11:42:54.899429",
     "exception": false,
     "start_time": "2022-03-21T11:42:54.849069",
     "status": "completed"
    },
    "tags": []
   },
   "outputs": [],
   "source": [
    "start_time_secs = time.time()"
   ]
  },
  {
   "cell_type": "code",
   "execution_count": 10,
   "id": "c6b67dfd",
   "metadata": {
    "execution": {
     "iopub.execute_input": "2022-03-21T11:42:54.948506Z",
     "iopub.status.busy": "2022-03-21T11:42:54.946619Z",
     "iopub.status.idle": "2022-03-21T11:42:54.967387Z",
     "shell.execute_reply": "2022-03-21T11:42:54.966587Z"
    },
    "papermill": {
     "duration": 0.043329,
     "end_time": "2022-03-21T11:42:54.967549",
     "exception": false,
     "start_time": "2022-03-21T11:42:54.924220",
     "status": "completed"
    },
    "tags": []
   },
   "outputs": [],
   "source": [
    "p.domains_source = []\n",
    "p.domains_target = []\n",
    "\n",
    "\n",
    "train_original_source = []\n",
    "val_original_source   = []\n",
    "test_original_source  = []\n",
    "\n",
    "train_original_target = []\n",
    "val_original_target   = []\n",
    "test_original_target  = []"
   ]
  },
  {
   "cell_type": "code",
   "execution_count": 11,
   "id": "e3d9c3d3",
   "metadata": {
    "execution": {
     "iopub.execute_input": "2022-03-21T11:42:55.018691Z",
     "iopub.status.busy": "2022-03-21T11:42:55.018273Z",
     "iopub.status.idle": "2022-03-21T11:42:55.035267Z",
     "shell.execute_reply": "2022-03-21T11:42:55.034473Z"
    },
    "papermill": {
     "duration": 0.038776,
     "end_time": "2022-03-21T11:42:55.035416",
     "exception": false,
     "start_time": "2022-03-21T11:42:54.996640",
     "status": "completed"
    },
    "tags": []
   },
   "outputs": [],
   "source": [
    "# global_x_transform_func = lambda x: normalize(x.to(torch.get_default_dtype()), \"unit_power\") # unit_power, unit_mag\n",
    "# global_x_transform_func = lambda x: normalize(x, \"unit_power\") # unit_power, unit_mag"
   ]
  },
  {
   "cell_type": "code",
   "execution_count": 12,
   "id": "acb78fd2",
   "metadata": {
    "execution": {
     "iopub.execute_input": "2022-03-21T11:42:55.094478Z",
     "iopub.status.busy": "2022-03-21T11:42:55.090125Z",
     "iopub.status.idle": "2022-03-21T11:42:55.111801Z",
     "shell.execute_reply": "2022-03-21T11:42:55.110981Z"
    },
    "papermill": {
     "duration": 0.049388,
     "end_time": "2022-03-21T11:42:55.111952",
     "exception": false,
     "start_time": "2022-03-21T11:42:55.062564",
     "status": "completed"
    },
    "tags": []
   },
   "outputs": [],
   "source": [
    "def add_dataset(\n",
    "    labels,\n",
    "    domains,\n",
    "    pickle_path,\n",
    "    x_transforms,\n",
    "    episode_transforms,\n",
    "    domain_prefix,\n",
    "    num_examples_per_domain_per_label,\n",
    "    source_or_target_dataset:str,\n",
    "    iterator_seed=p.seed,\n",
    "    dataset_seed=p.dataset_seed,\n",
    "    n_shot=p.n_shot,\n",
    "    n_way=p.n_way,\n",
    "    n_query=p.n_query,\n",
    "    train_val_test_k_factors=(p.train_k_factor,p.val_k_factor,p.test_k_factor),\n",
    "):\n",
    "   \n",
    "    if x_transforms == []: x_transform = None\n",
    "    else: x_transform = get_chained_transform(x_transforms)\n",
    "    \n",
    "    if episode_transforms == []: episode_transform = None\n",
    "    else: raise Exception(\"episode_transforms not implemented\")\n",
    "    \n",
    "    episode_transform = lambda tup, _prefix=domain_prefix: (_prefix + str(tup[0]), tup[1])\n",
    "\n",
    "\n",
    "    eaf = Episodic_Accessor_Factory(\n",
    "        labels=labels,\n",
    "        domains=domains,\n",
    "        num_examples_per_domain_per_label=num_examples_per_domain_per_label,\n",
    "        iterator_seed=iterator_seed,\n",
    "        dataset_seed=dataset_seed,\n",
    "        n_shot=n_shot,\n",
    "        n_way=n_way,\n",
    "        n_query=n_query,\n",
    "        train_val_test_k_factors=train_val_test_k_factors,\n",
    "        pickle_path=pickle_path,\n",
    "        x_transform_func=x_transform,\n",
    "    )\n",
    "\n",
    "    train, val, test = eaf.get_train(), eaf.get_val(), eaf.get_test()\n",
    "    train = Lazy_Iterable_Wrapper(train, episode_transform)\n",
    "    val = Lazy_Iterable_Wrapper(val, episode_transform)\n",
    "    test = Lazy_Iterable_Wrapper(test, episode_transform)\n",
    "\n",
    "    if source_or_target_dataset==\"source\":\n",
    "        train_original_source.append(train)\n",
    "        val_original_source.append(val)\n",
    "        test_original_source.append(test)\n",
    "\n",
    "        p.domains_source.extend(\n",
    "            [domain_prefix + str(u) for u in domains]\n",
    "        )\n",
    "    elif source_or_target_dataset==\"target\":\n",
    "        train_original_target.append(train)\n",
    "        val_original_target.append(val)\n",
    "        test_original_target.append(test)\n",
    "        p.domains_target.extend(\n",
    "            [domain_prefix + str(u) for u in domains]\n",
    "        )\n",
    "    else:\n",
    "        raise Exception(f\"invalid source_or_target_dataset: {source_or_target_dataset}\")\n",
    "    "
   ]
  },
  {
   "cell_type": "code",
   "execution_count": 13,
   "id": "fe266617",
   "metadata": {
    "execution": {
     "iopub.execute_input": "2022-03-21T11:42:55.167718Z",
     "iopub.status.busy": "2022-03-21T11:42:55.160575Z",
     "iopub.status.idle": "2022-03-21T11:45:04.498405Z",
     "shell.execute_reply": "2022-03-21T11:45:04.497611Z"
    },
    "papermill": {
     "duration": 129.36166,
     "end_time": "2022-03-21T11:45:04.498597",
     "exception": false,
     "start_time": "2022-03-21T11:42:55.136937",
     "status": "completed"
    },
    "tags": []
   },
   "outputs": [],
   "source": [
    "for ds in p.datasets:\n",
    "    add_dataset(**ds)"
   ]
  },
  {
   "cell_type": "code",
   "execution_count": 14,
   "id": "b90d65ac",
   "metadata": {
    "execution": {
     "iopub.execute_input": "2022-03-21T11:45:04.549589Z",
     "iopub.status.busy": "2022-03-21T11:45:04.549078Z",
     "iopub.status.idle": "2022-03-21T11:45:04.572849Z",
     "shell.execute_reply": "2022-03-21T11:45:04.571822Z"
    },
    "papermill": {
     "duration": 0.047394,
     "end_time": "2022-03-21T11:45:04.573023",
     "exception": false,
     "start_time": "2022-03-21T11:45:04.525629",
     "status": "completed"
    },
    "tags": []
   },
   "outputs": [],
   "source": [
    "# from steves_utils.CORES.utils import (\n",
    "#     ALL_NODES,\n",
    "#     ALL_NODES_MINIMUM_1000_EXAMPLES,\n",
    "#     ALL_DAYS\n",
    "# )\n",
    "\n",
    "# add_dataset(\n",
    "#     labels=ALL_NODES,\n",
    "#     domains = ALL_DAYS,\n",
    "#     num_examples_per_domain_per_label=100,\n",
    "#     pickle_path=os.path.join(get_datasets_base_path(), \"cores.stratified_ds.2022A.pkl\"),\n",
    "#     source_or_target_dataset=\"target\",\n",
    "#     x_transform_func=global_x_transform_func,\n",
    "#     domain_modifier=lambda u: f\"cores_{u}\"\n",
    "# )"
   ]
  },
  {
   "cell_type": "code",
   "execution_count": 15,
   "id": "76db484d",
   "metadata": {
    "execution": {
     "iopub.execute_input": "2022-03-21T11:45:04.624415Z",
     "iopub.status.busy": "2022-03-21T11:45:04.624035Z",
     "iopub.status.idle": "2022-03-21T11:45:04.640944Z",
     "shell.execute_reply": "2022-03-21T11:45:04.640179Z"
    },
    "papermill": {
     "duration": 0.040242,
     "end_time": "2022-03-21T11:45:04.641109",
     "exception": false,
     "start_time": "2022-03-21T11:45:04.600867",
     "status": "completed"
    },
    "tags": []
   },
   "outputs": [],
   "source": [
    "# from steves_utils.ORACLE.utils_v2 import (\n",
    "#     ALL_DISTANCES_FEET,\n",
    "#     ALL_RUNS,\n",
    "#     ALL_SERIAL_NUMBERS,\n",
    "# )\n",
    "\n",
    "\n",
    "# add_dataset(\n",
    "#     labels=ALL_SERIAL_NUMBERS,\n",
    "#     domains = list(set(ALL_DISTANCES_FEET) - {2,62}),\n",
    "#     num_examples_per_domain_per_label=100,\n",
    "#     pickle_path=os.path.join(get_datasets_base_path(), \"oracle.Run2_framed_2000Examples_stratified_ds.2022A.pkl\"),\n",
    "#     source_or_target_dataset=\"source\",\n",
    "#     x_transform_func=global_x_transform_func,\n",
    "#     domain_modifier=lambda u: f\"oracle1_{u}\"\n",
    "# )\n"
   ]
  },
  {
   "cell_type": "code",
   "execution_count": 16,
   "id": "97dea9d2",
   "metadata": {
    "execution": {
     "iopub.execute_input": "2022-03-21T11:45:04.693178Z",
     "iopub.status.busy": "2022-03-21T11:45:04.692535Z",
     "iopub.status.idle": "2022-03-21T11:45:04.712873Z",
     "shell.execute_reply": "2022-03-21T11:45:04.711977Z"
    },
    "papermill": {
     "duration": 0.044499,
     "end_time": "2022-03-21T11:45:04.713114",
     "exception": false,
     "start_time": "2022-03-21T11:45:04.668615",
     "status": "completed"
    },
    "tags": []
   },
   "outputs": [],
   "source": [
    "# from steves_utils.ORACLE.utils_v2 import (\n",
    "#     ALL_DISTANCES_FEET,\n",
    "#     ALL_RUNS,\n",
    "#     ALL_SERIAL_NUMBERS,\n",
    "# )\n",
    "\n",
    "\n",
    "# add_dataset(\n",
    "#     labels=ALL_SERIAL_NUMBERS,\n",
    "#     domains = list(set(ALL_DISTANCES_FEET) - {2,62,56}),\n",
    "#     num_examples_per_domain_per_label=100,\n",
    "#     pickle_path=os.path.join(get_datasets_base_path(), \"oracle.Run2_framed_2000Examples_stratified_ds.2022A.pkl\"),\n",
    "#     source_or_target_dataset=\"source\",\n",
    "#     x_transform_func=global_x_transform_func,\n",
    "#     domain_modifier=lambda u: f\"oracle2_{u}\"\n",
    "# )"
   ]
  },
  {
   "cell_type": "code",
   "execution_count": 17,
   "id": "6f289866",
   "metadata": {
    "execution": {
     "iopub.execute_input": "2022-03-21T11:45:04.765618Z",
     "iopub.status.busy": "2022-03-21T11:45:04.765238Z",
     "iopub.status.idle": "2022-03-21T11:45:04.789301Z",
     "shell.execute_reply": "2022-03-21T11:45:04.788556Z"
    },
    "papermill": {
     "duration": 0.048821,
     "end_time": "2022-03-21T11:45:04.789474",
     "exception": false,
     "start_time": "2022-03-21T11:45:04.740653",
     "status": "completed"
    },
    "tags": []
   },
   "outputs": [],
   "source": [
    "# add_dataset(\n",
    "#     labels=list(range(19)),\n",
    "#     domains = [0,1,2],\n",
    "#     num_examples_per_domain_per_label=100,\n",
    "#     pickle_path=os.path.join(get_datasets_base_path(), \"metehan.stratified_ds.2022A.pkl\"),\n",
    "#     source_or_target_dataset=\"target\",\n",
    "#     x_transform_func=global_x_transform_func,\n",
    "#     domain_modifier=lambda u: f\"met_{u}\"\n",
    "# )"
   ]
  },
  {
   "cell_type": "code",
   "execution_count": 18,
   "id": "86a863c3",
   "metadata": {
    "execution": {
     "iopub.execute_input": "2022-03-21T11:45:04.841352Z",
     "iopub.status.busy": "2022-03-21T11:45:04.840975Z",
     "iopub.status.idle": "2022-03-21T11:45:04.858022Z",
     "shell.execute_reply": "2022-03-21T11:45:04.857297Z"
    },
    "papermill": {
     "duration": 0.040769,
     "end_time": "2022-03-21T11:45:04.858191",
     "exception": false,
     "start_time": "2022-03-21T11:45:04.817422",
     "status": "completed"
    },
    "tags": []
   },
   "outputs": [],
   "source": [
    "# # from steves_utils.wisig.utils import (\n",
    "# #     ALL_NODES_MINIMUM_100_EXAMPLES,\n",
    "# #     ALL_NODES_MINIMUM_500_EXAMPLES,\n",
    "# #     ALL_NODES_MINIMUM_1000_EXAMPLES,\n",
    "# #     ALL_DAYS\n",
    "# # )\n",
    "\n",
    "# import steves_utils.wisig.utils as wisig\n",
    "\n",
    "\n",
    "# add_dataset(\n",
    "#     labels=wisig.ALL_NODES_MINIMUM_100_EXAMPLES,\n",
    "#     domains = wisig.ALL_DAYS,\n",
    "#     num_examples_per_domain_per_label=100,\n",
    "#     pickle_path=os.path.join(get_datasets_base_path(), \"wisig.node3-19.stratified_ds.2022A.pkl\"),\n",
    "#     source_or_target_dataset=\"target\",\n",
    "#     x_transform_func=global_x_transform_func,\n",
    "#     domain_modifier=lambda u: f\"wisig_{u}\"\n",
    "# )"
   ]
  },
  {
   "cell_type": "code",
   "execution_count": 19,
   "id": "fd5442bc",
   "metadata": {
    "execution": {
     "iopub.execute_input": "2022-03-21T11:45:04.912824Z",
     "iopub.status.busy": "2022-03-21T11:45:04.912300Z",
     "iopub.status.idle": "2022-03-21T11:45:04.932520Z",
     "shell.execute_reply": "2022-03-21T11:45:04.933420Z"
    },
    "papermill": {
     "duration": 0.048191,
     "end_time": "2022-03-21T11:45:04.933720",
     "exception": false,
     "start_time": "2022-03-21T11:45:04.885529",
     "status": "completed"
    },
    "tags": []
   },
   "outputs": [],
   "source": [
    "###################################\n",
    "# Build the dataset\n",
    "###################################\n",
    "train_original_source = Iterable_Aggregator(train_original_source, p.seed)\n",
    "val_original_source = Iterable_Aggregator(val_original_source, p.seed)\n",
    "test_original_source = Iterable_Aggregator(test_original_source, p.seed)\n",
    "\n",
    "\n",
    "train_original_target = Iterable_Aggregator(train_original_target, p.seed)\n",
    "val_original_target = Iterable_Aggregator(val_original_target, p.seed)\n",
    "test_original_target = Iterable_Aggregator(test_original_target, p.seed)\n",
    "\n",
    "# For CNN We only use X and Y. And we only train on the source.\n",
    "# Properly form the data using a transform lambda and Lazy_Iterable_Wrapper. Finally wrap them in a dataloader\n",
    "\n",
    "transform_lambda = lambda ex: ex[1] # Original is (<domain>, <episode>) so we strip down to episode only\n",
    "\n",
    "train_processed_source = Lazy_Iterable_Wrapper(train_original_source, transform_lambda)\n",
    "val_processed_source   = Lazy_Iterable_Wrapper(val_original_source, transform_lambda)\n",
    "test_processed_source  = Lazy_Iterable_Wrapper(test_original_source, transform_lambda)\n",
    "\n",
    "train_processed_target = Lazy_Iterable_Wrapper(train_original_target, transform_lambda)\n",
    "val_processed_target   = Lazy_Iterable_Wrapper(val_original_target, transform_lambda)\n",
    "test_processed_target  = Lazy_Iterable_Wrapper(test_original_target, transform_lambda)\n",
    "\n",
    "datasets = EasyDict({\n",
    "    \"source\": {\n",
    "        \"original\": {\"train\":train_original_source, \"val\":val_original_source, \"test\":test_original_source},\n",
    "        \"processed\": {\"train\":train_processed_source, \"val\":val_processed_source, \"test\":test_processed_source}\n",
    "    },\n",
    "    \"target\": {\n",
    "        \"original\": {\"train\":train_original_target, \"val\":val_original_target, \"test\":test_original_target},\n",
    "        \"processed\": {\"train\":train_processed_target, \"val\":val_processed_target, \"test\":test_processed_target}\n",
    "    },\n",
    "})"
   ]
  },
  {
   "cell_type": "code",
   "execution_count": 20,
   "id": "5b3c01fc",
   "metadata": {
    "execution": {
     "iopub.execute_input": "2022-03-21T11:45:04.989836Z",
     "iopub.status.busy": "2022-03-21T11:45:04.989442Z",
     "iopub.status.idle": "2022-03-21T11:45:39.157127Z",
     "shell.execute_reply": "2022-03-21T11:45:39.157955Z"
    },
    "papermill": {
     "duration": 34.196192,
     "end_time": "2022-03-21T11:45:39.158166",
     "exception": false,
     "start_time": "2022-03-21T11:45:04.961974",
     "status": "completed"
    },
    "tags": []
   },
   "outputs": [
    {
     "name": "stdout",
     "output_type": "stream",
     "text": [
      "{'ORACLE.run1_8', 'ORACLE.run1_20', 'ORACLE.run1_26', 'ORACLE.run1_32', 'ORACLE.run1_44', 'ORACLE.run1_50', 'ORACLE.run1_38', 'ORACLE.run1_14'}\n"
     ]
    },
    {
     "name": "stdout",
     "output_type": "stream",
     "text": [
      "{'CORES_4', 'CORES_2', 'CORES_3', 'CORES_1', 'CORES_5'}\n"
     ]
    },
    {
     "name": "stdout",
     "output_type": "stream",
     "text": [
      "tensor([[[-0.0219, -0.3946,  0.4055,  ..., -0.3726, -0.3178,  0.6357],\n",
      "         [-0.6685,  0.2630, -0.1425,  ...,  0.0767, -1.0960,  0.1534]],\n",
      "\n",
      "        [[ 0.4965, -0.7904, -1.5302,  ...,  0.4864,  0.0608, -0.3445],\n",
      "         [-0.1520, -0.4459, -1.5808,  ..., -0.5168,  0.3344, -0.5675]],\n",
      "\n",
      "        [[-0.9659, -0.5089,  0.1142,  ...,  0.1350,  1.5786,  1.2151],\n",
      "         [-0.2181,  0.3739, -0.4154,  ..., -1.6721,  0.0000, -0.0312]],\n",
      "\n",
      "        ...,\n",
      "\n",
      "        [[-0.0140,  0.7067, -0.0840,  ..., -0.9517, -1.5324,  0.9866],\n",
      "         [ 1.3435, -0.9656, -0.5948,  ..., -0.1539,  0.2309, -1.0426]],\n",
      "\n",
      "        [[-0.9809, -1.5211, -1.8267,  ..., -0.9454,  0.6113,  0.2203],\n",
      "         [ 1.2581,  0.0355,  1.2581,  ..., -0.3554,  0.8174, -0.2132]],\n",
      "\n",
      "        [[ 1.4691, -0.7845, -0.6632,  ..., -0.8915, -0.4422, -0.0071],\n",
      "         [-0.5206,  1.0983,  0.0071,  ...,  1.6973,  0.2496,  1.1839]]])\n"
     ]
    }
   ],
   "source": [
    "from steves_utils.transforms import get_average_magnitude, get_average_power\n",
    "\n",
    "print(set([u for u,_ in val_original_source]))\n",
    "print(set([u for u,_ in val_original_target]))\n",
    "\n",
    "s_x, s_y, q_x, q_y, _ = next(iter(train_processed_source))\n",
    "print(s_x)\n",
    "\n",
    "# for ds in [\n",
    "#     train_processed_source,\n",
    "#     val_processed_source,\n",
    "#     test_processed_source,\n",
    "#     train_processed_target,\n",
    "#     val_processed_target,\n",
    "#     test_processed_target\n",
    "# ]:\n",
    "#     for s_x, s_y, q_x, q_y, _ in ds:\n",
    "#         for X in (s_x, q_x):\n",
    "#             for x in X:\n",
    "#                 assert np.isclose(get_average_magnitude(x.numpy()), 1.0)\n",
    "#                 assert np.isclose(get_average_power(x.numpy()), 1.0)\n",
    "                "
   ]
  },
  {
   "cell_type": "code",
   "execution_count": 21,
   "id": "bbdacba1",
   "metadata": {
    "execution": {
     "iopub.execute_input": "2022-03-21T11:45:39.216403Z",
     "iopub.status.busy": "2022-03-21T11:45:39.216028Z",
     "iopub.status.idle": "2022-03-21T11:45:39.466899Z",
     "shell.execute_reply": "2022-03-21T11:45:39.466195Z"
    },
    "papermill": {
     "duration": 0.278249,
     "end_time": "2022-03-21T11:45:39.467054",
     "exception": false,
     "start_time": "2022-03-21T11:45:39.188805",
     "status": "completed"
    },
    "tags": []
   },
   "outputs": [
    {
     "name": "stdout",
     "output_type": "stream",
     "text": [
      "(2, 256)\n"
     ]
    }
   ],
   "source": [
    "###################################\n",
    "# Build the model\n",
    "###################################\n",
    "# easfsl only wants a tuple for the shape\n",
    "model = Steves_Prototypical_Network(x_net, device=p.device, x_shape=tuple(p.x_shape))\n",
    "optimizer = Adam(params=model.parameters(), lr=p.lr)"
   ]
  },
  {
   "cell_type": "code",
   "execution_count": 22,
   "id": "22b39ac5",
   "metadata": {
    "execution": {
     "iopub.execute_input": "2022-03-21T11:45:39.523037Z",
     "iopub.status.busy": "2022-03-21T11:45:39.522668Z",
     "iopub.status.idle": "2022-03-21T18:28:21.261026Z",
     "shell.execute_reply": "2022-03-21T18:28:21.260373Z"
    },
    "papermill": {
     "duration": 24161.766099,
     "end_time": "2022-03-21T18:28:21.261188",
     "exception": false,
     "start_time": "2022-03-21T11:45:39.495089",
     "status": "completed"
    },
    "tags": []
   },
   "outputs": [
    {
     "name": "stdout",
     "output_type": "stream",
     "text": [
      "epoch: 1, [batch: 1 / 33600], examples_per_second: 6.4961, train_label_loss: 2.8103, \n"
     ]
    },
    {
     "name": "stdout",
     "output_type": "stream",
     "text": [
      "epoch: 1, [batch: 3360 / 33600], examples_per_second: 2617.4169, train_label_loss: 1.2438, \n"
     ]
    },
    {
     "name": "stdout",
     "output_type": "stream",
     "text": [
      "epoch: 1, [batch: 6720 / 33600], examples_per_second: 2475.1372, train_label_loss: 2.0213, \n"
     ]
    },
    {
     "name": "stdout",
     "output_type": "stream",
     "text": [
      "epoch: 1, [batch: 10080 / 33600], examples_per_second: 2316.4524, train_label_loss: 0.8041, \n"
     ]
    },
    {
     "name": "stdout",
     "output_type": "stream",
     "text": [
      "epoch: 1, [batch: 13440 / 33600], examples_per_second: 3030.9879, train_label_loss: 0.9733, \n"
     ]
    },
    {
     "name": "stdout",
     "output_type": "stream",
     "text": [
      "epoch: 1, [batch: 16800 / 33600], examples_per_second: 2929.3800, train_label_loss: 0.7672, \n"
     ]
    },
    {
     "name": "stdout",
     "output_type": "stream",
     "text": [
      "epoch: 1, [batch: 20160 / 33600], examples_per_second: 3645.5700, train_label_loss: 0.6667, \n"
     ]
    },
    {
     "name": "stdout",
     "output_type": "stream",
     "text": [
      "epoch: 1, [batch: 23520 / 33600], examples_per_second: 4059.3493, train_label_loss: 0.6469, \n"
     ]
    },
    {
     "name": "stdout",
     "output_type": "stream",
     "text": [
      "epoch: 1, [batch: 26880 / 33600], examples_per_second: 2636.7960, train_label_loss: 0.7418, \n"
     ]
    },
    {
     "name": "stdout",
     "output_type": "stream",
     "text": [
      "epoch: 1, [batch: 30240 / 33600], examples_per_second: 2439.7062, train_label_loss: 1.2319, \n"
     ]
    },
    {
     "name": "stdout",
     "output_type": "stream",
     "text": [
      "=============================================================\n",
      "epoch: 1, source_val_acc_label: 0.6512, target_val_acc_label: 0.9669, source_val_label_loss: 0.9300, target_val_label_loss: 0.1639, \n",
      "=============================================================\n"
     ]
    },
    {
     "name": "stdout",
     "output_type": "stream",
     "text": [
      "New best\n"
     ]
    },
    {
     "name": "stdout",
     "output_type": "stream",
     "text": [
      "epoch: 2, [batch: 1 / 33600], examples_per_second: 0.5985, train_label_loss: 1.0694, \n"
     ]
    },
    {
     "name": "stdout",
     "output_type": "stream",
     "text": [
      "epoch: 2, [batch: 3360 / 33600], examples_per_second: 2691.9051, train_label_loss: 0.7497, \n"
     ]
    },
    {
     "name": "stdout",
     "output_type": "stream",
     "text": [
      "epoch: 2, [batch: 6720 / 33600], examples_per_second: 2389.6904, train_label_loss: 0.9700, \n"
     ]
    },
    {
     "name": "stdout",
     "output_type": "stream",
     "text": [
      "epoch: 2, [batch: 10080 / 33600], examples_per_second: 2555.5018, train_label_loss: 0.5703, \n"
     ]
    },
    {
     "name": "stdout",
     "output_type": "stream",
     "text": [
      "epoch: 2, [batch: 13440 / 33600], examples_per_second: 2478.9870, train_label_loss: 0.5381, \n"
     ]
    },
    {
     "name": "stdout",
     "output_type": "stream",
     "text": [
      "epoch: 2, [batch: 16800 / 33600], examples_per_second: 2530.6788, train_label_loss: 1.2178, \n"
     ]
    },
    {
     "name": "stdout",
     "output_type": "stream",
     "text": [
      "epoch: 2, [batch: 20160 / 33600], examples_per_second: 3047.4370, train_label_loss: 1.2827, \n"
     ]
    },
    {
     "name": "stdout",
     "output_type": "stream",
     "text": [
      "epoch: 2, [batch: 23520 / 33600], examples_per_second: 2764.4846, train_label_loss: 0.4718, \n"
     ]
    },
    {
     "name": "stdout",
     "output_type": "stream",
     "text": [
      "epoch: 2, [batch: 26880 / 33600], examples_per_second: 3036.7107, train_label_loss: 0.3521, \n"
     ]
    },
    {
     "name": "stdout",
     "output_type": "stream",
     "text": [
      "epoch: 2, [batch: 30240 / 33600], examples_per_second: 2524.8267, train_label_loss: 1.0859, \n"
     ]
    },
    {
     "name": "stdout",
     "output_type": "stream",
     "text": [
      "=============================================================\n",
      "epoch: 2, source_val_acc_label: 0.6711, target_val_acc_label: 0.9672, source_val_label_loss: 0.8647, target_val_label_loss: 0.1898, \n",
      "=============================================================\n"
     ]
    },
    {
     "name": "stdout",
     "output_type": "stream",
     "text": [
      "New best\n"
     ]
    },
    {
     "name": "stdout",
     "output_type": "stream",
     "text": [
      "epoch: 3, [batch: 1 / 33600], examples_per_second: 0.6077, train_label_loss: 0.5696, \n"
     ]
    },
    {
     "name": "stdout",
     "output_type": "stream",
     "text": [
      "epoch: 3, [batch: 3360 / 33600], examples_per_second: 2367.7514, train_label_loss: 0.8402, \n"
     ]
    },
    {
     "name": "stdout",
     "output_type": "stream",
     "text": [
      "epoch: 3, [batch: 6720 / 33600], examples_per_second: 2803.4374, train_label_loss: 0.7737, \n"
     ]
    },
    {
     "name": "stdout",
     "output_type": "stream",
     "text": [
      "epoch: 3, [batch: 10080 / 33600], examples_per_second: 2304.0300, train_label_loss: 0.6172, \n"
     ]
    },
    {
     "name": "stdout",
     "output_type": "stream",
     "text": [
      "epoch: 3, [batch: 13440 / 33600], examples_per_second: 2594.6868, train_label_loss: 0.5487, \n"
     ]
    },
    {
     "name": "stdout",
     "output_type": "stream",
     "text": [
      "epoch: 3, [batch: 16800 / 33600], examples_per_second: 2515.7372, train_label_loss: 0.9106, \n"
     ]
    },
    {
     "name": "stdout",
     "output_type": "stream",
     "text": [
      "epoch: 3, [batch: 20160 / 33600], examples_per_second: 2343.4011, train_label_loss: 1.3099, \n"
     ]
    },
    {
     "name": "stdout",
     "output_type": "stream",
     "text": [
      "epoch: 3, [batch: 23520 / 33600], examples_per_second: 2895.5901, train_label_loss: 0.9481, \n"
     ]
    },
    {
     "name": "stdout",
     "output_type": "stream",
     "text": [
      "epoch: 3, [batch: 26880 / 33600], examples_per_second: 2605.7757, train_label_loss: 0.4718, \n"
     ]
    },
    {
     "name": "stdout",
     "output_type": "stream",
     "text": [
      "epoch: 3, [batch: 30240 / 33600], examples_per_second: 3008.8520, train_label_loss: 0.7954, \n"
     ]
    },
    {
     "name": "stdout",
     "output_type": "stream",
     "text": [
      "=============================================================\n",
      "epoch: 3, source_val_acc_label: 0.7027, target_val_acc_label: 0.9664, source_val_label_loss: 0.8022, target_val_label_loss: 0.2284, \n",
      "=============================================================\n"
     ]
    },
    {
     "name": "stdout",
     "output_type": "stream",
     "text": [
      "epoch: 4, [batch: 1 / 33600], examples_per_second: 0.8719, train_label_loss: 0.3698, \n"
     ]
    },
    {
     "name": "stdout",
     "output_type": "stream",
     "text": [
      "epoch: 4, [batch: 3360 / 33600], examples_per_second: 3347.0556, train_label_loss: 0.5861, \n"
     ]
    },
    {
     "name": "stdout",
     "output_type": "stream",
     "text": [
      "epoch: 4, [batch: 6720 / 33600], examples_per_second: 2774.8267, train_label_loss: 1.1731, \n"
     ]
    },
    {
     "name": "stdout",
     "output_type": "stream",
     "text": [
      "epoch: 4, [batch: 10080 / 33600], examples_per_second: 2949.2347, train_label_loss: 0.4417, \n"
     ]
    },
    {
     "name": "stdout",
     "output_type": "stream",
     "text": [
      "epoch: 4, [batch: 13440 / 33600], examples_per_second: 3258.6290, train_label_loss: 0.4272, \n"
     ]
    },
    {
     "name": "stdout",
     "output_type": "stream",
     "text": [
      "epoch: 4, [batch: 16800 / 33600], examples_per_second: 2463.3999, train_label_loss: 0.6903, \n"
     ]
    },
    {
     "name": "stdout",
     "output_type": "stream",
     "text": [
      "epoch: 4, [batch: 20160 / 33600], examples_per_second: 2468.0183, train_label_loss: 0.5159, \n"
     ]
    },
    {
     "name": "stdout",
     "output_type": "stream",
     "text": [
      "epoch: 4, [batch: 23520 / 33600], examples_per_second: 2643.5600, train_label_loss: 0.3396, \n"
     ]
    },
    {
     "name": "stdout",
     "output_type": "stream",
     "text": [
      "epoch: 4, [batch: 26880 / 33600], examples_per_second: 2410.5052, train_label_loss: 0.7340, \n"
     ]
    },
    {
     "name": "stdout",
     "output_type": "stream",
     "text": [
      "epoch: 4, [batch: 30240 / 33600], examples_per_second: 2530.9850, train_label_loss: 0.3397, \n"
     ]
    },
    {
     "name": "stdout",
     "output_type": "stream",
     "text": [
      "=============================================================\n",
      "epoch: 4, source_val_acc_label: 0.7218, target_val_acc_label: 0.9743, source_val_label_loss: 0.7596, target_val_label_loss: 0.2126, \n",
      "=============================================================\n"
     ]
    },
    {
     "name": "stdout",
     "output_type": "stream",
     "text": [
      "New best\n"
     ]
    },
    {
     "name": "stdout",
     "output_type": "stream",
     "text": [
      "epoch: 5, [batch: 1 / 33600], examples_per_second: 0.5926, train_label_loss: 1.0105, \n"
     ]
    },
    {
     "name": "stdout",
     "output_type": "stream",
     "text": [
      "epoch: 5, [batch: 3360 / 33600], examples_per_second: 2417.3023, train_label_loss: 0.4777, \n"
     ]
    },
    {
     "name": "stdout",
     "output_type": "stream",
     "text": [
      "epoch: 5, [batch: 6720 / 33600], examples_per_second: 2396.1206, train_label_loss: 0.3167, \n"
     ]
    },
    {
     "name": "stdout",
     "output_type": "stream",
     "text": [
      "epoch: 5, [batch: 10080 / 33600], examples_per_second: 2655.3561, train_label_loss: 0.5368, \n"
     ]
    },
    {
     "name": "stdout",
     "output_type": "stream",
     "text": [
      "epoch: 5, [batch: 13440 / 33600], examples_per_second: 2470.0085, train_label_loss: 0.8071, \n"
     ]
    },
    {
     "name": "stdout",
     "output_type": "stream",
     "text": [
      "epoch: 5, [batch: 16800 / 33600], examples_per_second: 2558.7564, train_label_loss: 0.7366, \n"
     ]
    },
    {
     "name": "stdout",
     "output_type": "stream",
     "text": [
      "epoch: 5, [batch: 20160 / 33600], examples_per_second: 2564.7297, train_label_loss: 0.7516, \n"
     ]
    },
    {
     "name": "stdout",
     "output_type": "stream",
     "text": [
      "epoch: 5, [batch: 23520 / 33600], examples_per_second: 2310.7223, train_label_loss: 0.4857, \n"
     ]
    },
    {
     "name": "stdout",
     "output_type": "stream",
     "text": [
      "epoch: 5, [batch: 26880 / 33600], examples_per_second: 2851.5585, train_label_loss: 0.2433, \n"
     ]
    },
    {
     "name": "stdout",
     "output_type": "stream",
     "text": [
      "epoch: 5, [batch: 30240 / 33600], examples_per_second: 2726.1060, train_label_loss: 0.7171, \n"
     ]
    },
    {
     "name": "stdout",
     "output_type": "stream",
     "text": [
      "=============================================================\n",
      "epoch: 5, source_val_acc_label: 0.7260, target_val_acc_label: 0.9780, source_val_label_loss: 0.7536, target_val_label_loss: 0.2066, \n",
      "=============================================================\n"
     ]
    },
    {
     "name": "stdout",
     "output_type": "stream",
     "text": [
      "New best\n"
     ]
    },
    {
     "name": "stdout",
     "output_type": "stream",
     "text": [
      "epoch: 6, [batch: 1 / 33600], examples_per_second: 0.7728, train_label_loss: 0.3931, \n"
     ]
    },
    {
     "name": "stdout",
     "output_type": "stream",
     "text": [
      "epoch: 6, [batch: 3360 / 33600], examples_per_second: 2750.5113, train_label_loss: 0.7927, \n"
     ]
    },
    {
     "name": "stdout",
     "output_type": "stream",
     "text": [
      "epoch: 6, [batch: 6720 / 33600], examples_per_second: 3248.9424, train_label_loss: 0.5254, \n"
     ]
    },
    {
     "name": "stdout",
     "output_type": "stream",
     "text": [
      "epoch: 6, [batch: 10080 / 33600], examples_per_second: 2769.4583, train_label_loss: 0.4685, \n"
     ]
    },
    {
     "name": "stdout",
     "output_type": "stream",
     "text": [
      "epoch: 6, [batch: 13440 / 33600], examples_per_second: 2456.1741, train_label_loss: 0.3591, \n"
     ]
    },
    {
     "name": "stdout",
     "output_type": "stream",
     "text": [
      "epoch: 6, [batch: 16800 / 33600], examples_per_second: 2569.8338, train_label_loss: 0.5016, \n"
     ]
    },
    {
     "name": "stdout",
     "output_type": "stream",
     "text": [
      "epoch: 6, [batch: 20160 / 33600], examples_per_second: 2453.0904, train_label_loss: 0.5948, \n"
     ]
    },
    {
     "name": "stdout",
     "output_type": "stream",
     "text": [
      "epoch: 6, [batch: 23520 / 33600], examples_per_second: 2510.9992, train_label_loss: 0.5858, \n"
     ]
    },
    {
     "name": "stdout",
     "output_type": "stream",
     "text": [
      "epoch: 6, [batch: 26880 / 33600], examples_per_second: 2511.6767, train_label_loss: 0.5016, \n"
     ]
    },
    {
     "name": "stdout",
     "output_type": "stream",
     "text": [
      "epoch: 6, [batch: 30240 / 33600], examples_per_second: 2482.7070, train_label_loss: 0.5005, \n"
     ]
    },
    {
     "name": "stdout",
     "output_type": "stream",
     "text": [
      "=============================================================\n",
      "epoch: 6, source_val_acc_label: 0.7277, target_val_acc_label: 0.9778, source_val_label_loss: 0.7546, target_val_label_loss: 0.2269, \n",
      "=============================================================\n"
     ]
    },
    {
     "name": "stdout",
     "output_type": "stream",
     "text": [
      "epoch: 7, [batch: 1 / 33600], examples_per_second: 0.5970, train_label_loss: 0.5129, \n"
     ]
    },
    {
     "name": "stdout",
     "output_type": "stream",
     "text": [
      "epoch: 7, [batch: 3360 / 33600], examples_per_second: 2775.9783, train_label_loss: 1.0550, \n"
     ]
    },
    {
     "name": "stdout",
     "output_type": "stream",
     "text": [
      "epoch: 7, [batch: 6720 / 33600], examples_per_second: 2713.4093, train_label_loss: 0.2707, \n"
     ]
    },
    {
     "name": "stdout",
     "output_type": "stream",
     "text": [
      "epoch: 7, [batch: 10080 / 33600], examples_per_second: 3516.1608, train_label_loss: 0.3171, \n"
     ]
    },
    {
     "name": "stdout",
     "output_type": "stream",
     "text": [
      "epoch: 7, [batch: 13440 / 33600], examples_per_second: 3454.7743, train_label_loss: 0.2872, \n"
     ]
    },
    {
     "name": "stdout",
     "output_type": "stream",
     "text": [
      "epoch: 7, [batch: 16800 / 33600], examples_per_second: 3437.2289, train_label_loss: 0.5922, \n"
     ]
    },
    {
     "name": "stdout",
     "output_type": "stream",
     "text": [
      "epoch: 7, [batch: 20160 / 33600], examples_per_second: 2925.9476, train_label_loss: 0.3715, \n"
     ]
    },
    {
     "name": "stdout",
     "output_type": "stream",
     "text": [
      "epoch: 7, [batch: 23520 / 33600], examples_per_second: 2411.9319, train_label_loss: 0.3979, \n"
     ]
    },
    {
     "name": "stdout",
     "output_type": "stream",
     "text": [
      "epoch: 7, [batch: 26880 / 33600], examples_per_second: 2588.1571, train_label_loss: 0.3365, \n"
     ]
    },
    {
     "name": "stdout",
     "output_type": "stream",
     "text": [
      "epoch: 7, [batch: 30240 / 33600], examples_per_second: 2446.8952, train_label_loss: 0.5576, \n"
     ]
    },
    {
     "name": "stdout",
     "output_type": "stream",
     "text": [
      "=============================================================\n",
      "epoch: 7, source_val_acc_label: 0.7332, target_val_acc_label: 0.9807, source_val_label_loss: 0.7521, target_val_label_loss: 0.2194, \n",
      "=============================================================\n"
     ]
    },
    {
     "name": "stdout",
     "output_type": "stream",
     "text": [
      "New best\n"
     ]
    },
    {
     "name": "stdout",
     "output_type": "stream",
     "text": [
      "epoch: 8, [batch: 1 / 33600], examples_per_second: 0.6027, train_label_loss: 0.4787, \n"
     ]
    },
    {
     "name": "stdout",
     "output_type": "stream",
     "text": [
      "epoch: 8, [batch: 3360 / 33600], examples_per_second: 2719.2384, train_label_loss: 0.2987, \n"
     ]
    },
    {
     "name": "stdout",
     "output_type": "stream",
     "text": [
      "epoch: 8, [batch: 6720 / 33600], examples_per_second: 2788.8467, train_label_loss: 0.5223, \n"
     ]
    },
    {
     "name": "stdout",
     "output_type": "stream",
     "text": [
      "epoch: 8, [batch: 10080 / 33600], examples_per_second: 2843.0091, train_label_loss: 0.2347, \n"
     ]
    },
    {
     "name": "stdout",
     "output_type": "stream",
     "text": [
      "epoch: 8, [batch: 13440 / 33600], examples_per_second: 3171.0327, train_label_loss: 0.4452, \n"
     ]
    },
    {
     "name": "stdout",
     "output_type": "stream",
     "text": [
      "epoch: 8, [batch: 16800 / 33600], examples_per_second: 2386.3977, train_label_loss: 0.1533, \n"
     ]
    },
    {
     "name": "stdout",
     "output_type": "stream",
     "text": [
      "epoch: 8, [batch: 20160 / 33600], examples_per_second: 2565.1263, train_label_loss: 0.1694, \n"
     ]
    },
    {
     "name": "stdout",
     "output_type": "stream",
     "text": [
      "epoch: 8, [batch: 23520 / 33600], examples_per_second: 2953.3579, train_label_loss: 0.9044, \n"
     ]
    },
    {
     "name": "stdout",
     "output_type": "stream",
     "text": [
      "epoch: 8, [batch: 26880 / 33600], examples_per_second: 2754.2106, train_label_loss: 0.4844, \n"
     ]
    },
    {
     "name": "stdout",
     "output_type": "stream",
     "text": [
      "epoch: 8, [batch: 30240 / 33600], examples_per_second: 3316.3535, train_label_loss: 0.6778, \n"
     ]
    },
    {
     "name": "stdout",
     "output_type": "stream",
     "text": [
      "=============================================================\n",
      "epoch: 8, source_val_acc_label: 0.7322, target_val_acc_label: 0.9808, source_val_label_loss: 0.7578, target_val_label_loss: 0.2174, \n",
      "=============================================================\n"
     ]
    },
    {
     "name": "stdout",
     "output_type": "stream",
     "text": [
      "New best\n"
     ]
    },
    {
     "name": "stdout",
     "output_type": "stream",
     "text": [
      "epoch: 9, [batch: 1 / 33600], examples_per_second: 0.6073, train_label_loss: 0.6574, \n"
     ]
    },
    {
     "name": "stdout",
     "output_type": "stream",
     "text": [
      "epoch: 9, [batch: 3360 / 33600], examples_per_second: 2431.9284, train_label_loss: 0.1212, \n"
     ]
    },
    {
     "name": "stdout",
     "output_type": "stream",
     "text": [
      "epoch: 9, [batch: 6720 / 33600], examples_per_second: 2474.8774, train_label_loss: 0.4918, \n"
     ]
    },
    {
     "name": "stdout",
     "output_type": "stream",
     "text": [
      "epoch: 9, [batch: 10080 / 33600], examples_per_second: 2643.5411, train_label_loss: 0.2970, \n"
     ]
    },
    {
     "name": "stdout",
     "output_type": "stream",
     "text": [
      "epoch: 9, [batch: 13440 / 33600], examples_per_second: 2397.3066, train_label_loss: 0.4480, \n"
     ]
    },
    {
     "name": "stdout",
     "output_type": "stream",
     "text": [
      "epoch: 9, [batch: 16800 / 33600], examples_per_second: 2545.6250, train_label_loss: 0.6659, \n"
     ]
    },
    {
     "name": "stdout",
     "output_type": "stream",
     "text": [
      "epoch: 9, [batch: 20160 / 33600], examples_per_second: 2488.4807, train_label_loss: 0.2924, \n"
     ]
    },
    {
     "name": "stdout",
     "output_type": "stream",
     "text": [
      "epoch: 9, [batch: 23520 / 33600], examples_per_second: 2464.6879, train_label_loss: 0.5465, \n"
     ]
    },
    {
     "name": "stdout",
     "output_type": "stream",
     "text": [
      "epoch: 9, [batch: 26880 / 33600], examples_per_second: 2625.7401, train_label_loss: 0.2779, \n"
     ]
    },
    {
     "name": "stdout",
     "output_type": "stream",
     "text": [
      "epoch: 9, [batch: 30240 / 33600], examples_per_second: 2510.4655, train_label_loss: 0.2478, \n"
     ]
    },
    {
     "name": "stdout",
     "output_type": "stream",
     "text": [
      "=============================================================\n",
      "epoch: 9, source_val_acc_label: 0.7338, target_val_acc_label: 0.9808, source_val_label_loss: 0.7644, target_val_label_loss: 0.2319, \n",
      "=============================================================\n"
     ]
    },
    {
     "name": "stdout",
     "output_type": "stream",
     "text": [
      "New best\n"
     ]
    },
    {
     "name": "stdout",
     "output_type": "stream",
     "text": [
      "epoch: 10, [batch: 1 / 33600], examples_per_second: 0.6021, train_label_loss: 0.4397, \n"
     ]
    },
    {
     "name": "stdout",
     "output_type": "stream",
     "text": [
      "epoch: 10, [batch: 3360 / 33600], examples_per_second: 2430.7330, train_label_loss: 0.2294, \n"
     ]
    },
    {
     "name": "stdout",
     "output_type": "stream",
     "text": [
      "epoch: 10, [batch: 6720 / 33600], examples_per_second: 2845.2480, train_label_loss: 0.3516, \n"
     ]
    },
    {
     "name": "stdout",
     "output_type": "stream",
     "text": [
      "epoch: 10, [batch: 10080 / 33600], examples_per_second: 2952.7271, train_label_loss: 0.5094, \n"
     ]
    },
    {
     "name": "stdout",
     "output_type": "stream",
     "text": [
      "epoch: 10, [batch: 13440 / 33600], examples_per_second: 3527.8744, train_label_loss: 0.5532, \n"
     ]
    },
    {
     "name": "stdout",
     "output_type": "stream",
     "text": [
      "epoch: 10, [batch: 16800 / 33600], examples_per_second: 3849.4904, train_label_loss: 0.4050, \n"
     ]
    },
    {
     "name": "stdout",
     "output_type": "stream",
     "text": [
      "epoch: 10, [batch: 20160 / 33600], examples_per_second: 3042.3925, train_label_loss: 0.8584, \n"
     ]
    },
    {
     "name": "stdout",
     "output_type": "stream",
     "text": [
      "epoch: 10, [batch: 23520 / 33600], examples_per_second: 2325.9701, train_label_loss: 0.2587, \n"
     ]
    },
    {
     "name": "stdout",
     "output_type": "stream",
     "text": [
      "epoch: 10, [batch: 26880 / 33600], examples_per_second: 2536.0408, train_label_loss: 0.3124, \n"
     ]
    },
    {
     "name": "stdout",
     "output_type": "stream",
     "text": [
      "epoch: 10, [batch: 30240 / 33600], examples_per_second: 2627.5267, train_label_loss: 0.4052, \n"
     ]
    },
    {
     "name": "stdout",
     "output_type": "stream",
     "text": [
      "=============================================================\n",
      "epoch: 10, source_val_acc_label: 0.7317, target_val_acc_label: 0.9812, source_val_label_loss: 0.7837, target_val_label_loss: 0.2476, \n",
      "=============================================================\n"
     ]
    },
    {
     "name": "stdout",
     "output_type": "stream",
     "text": [
      "New best\n"
     ]
    },
    {
     "name": "stdout",
     "output_type": "stream",
     "text": [
      "epoch: 11, [batch: 1 / 33600], examples_per_second: 0.6071, train_label_loss: 0.2525, \n"
     ]
    },
    {
     "name": "stdout",
     "output_type": "stream",
     "text": [
      "epoch: 11, [batch: 3360 / 33600], examples_per_second: 2406.0241, train_label_loss: 0.2952, \n"
     ]
    },
    {
     "name": "stdout",
     "output_type": "stream",
     "text": [
      "epoch: 11, [batch: 6720 / 33600], examples_per_second: 2719.0209, train_label_loss: 0.3394, \n"
     ]
    },
    {
     "name": "stdout",
     "output_type": "stream",
     "text": [
      "epoch: 11, [batch: 10080 / 33600], examples_per_second: 2351.9074, train_label_loss: 0.3640, \n"
     ]
    },
    {
     "name": "stdout",
     "output_type": "stream",
     "text": [
      "epoch: 11, [batch: 13440 / 33600], examples_per_second: 2532.9107, train_label_loss: 0.2301, \n"
     ]
    },
    {
     "name": "stdout",
     "output_type": "stream",
     "text": [
      "epoch: 11, [batch: 16800 / 33600], examples_per_second: 2700.8261, train_label_loss: 0.1279, \n"
     ]
    },
    {
     "name": "stdout",
     "output_type": "stream",
     "text": [
      "epoch: 11, [batch: 20160 / 33600], examples_per_second: 2654.4608, train_label_loss: 0.3902, \n"
     ]
    },
    {
     "name": "stdout",
     "output_type": "stream",
     "text": [
      "epoch: 11, [batch: 23520 / 33600], examples_per_second: 3416.2996, train_label_loss: 0.6347, \n"
     ]
    },
    {
     "name": "stdout",
     "output_type": "stream",
     "text": [
      "epoch: 11, [batch: 26880 / 33600], examples_per_second: 3409.0749, train_label_loss: 0.3922, \n"
     ]
    },
    {
     "name": "stdout",
     "output_type": "stream",
     "text": [
      "epoch: 11, [batch: 30240 / 33600], examples_per_second: 3114.3184, train_label_loss: 0.4256, \n"
     ]
    },
    {
     "name": "stdout",
     "output_type": "stream",
     "text": [
      "=============================================================\n",
      "epoch: 11, source_val_acc_label: 0.7280, target_val_acc_label: 0.9812, source_val_label_loss: 0.8100, target_val_label_loss: 0.2536, \n",
      "=============================================================\n"
     ]
    },
    {
     "name": "stdout",
     "output_type": "stream",
     "text": [
      "epoch: 12, [batch: 1 / 33600], examples_per_second: 0.6288, train_label_loss: 0.3098, \n"
     ]
    },
    {
     "name": "stdout",
     "output_type": "stream",
     "text": [
      "epoch: 12, [batch: 3360 / 33600], examples_per_second: 2527.3298, train_label_loss: 0.2983, \n"
     ]
    },
    {
     "name": "stdout",
     "output_type": "stream",
     "text": [
      "epoch: 12, [batch: 6720 / 33600], examples_per_second: 2457.8060, train_label_loss: 0.4344, \n"
     ]
    },
    {
     "name": "stdout",
     "output_type": "stream",
     "text": [
      "epoch: 12, [batch: 10080 / 33600], examples_per_second: 2564.2287, train_label_loss: 0.3960, \n"
     ]
    },
    {
     "name": "stdout",
     "output_type": "stream",
     "text": [
      "epoch: 12, [batch: 13440 / 33600], examples_per_second: 2577.4812, train_label_loss: 0.2212, \n"
     ]
    },
    {
     "name": "stdout",
     "output_type": "stream",
     "text": [
      "epoch: 12, [batch: 16800 / 33600], examples_per_second: 2428.3800, train_label_loss: 0.5657, \n"
     ]
    },
    {
     "name": "stdout",
     "output_type": "stream",
     "text": [
      "epoch: 12, [batch: 20160 / 33600], examples_per_second: 2527.3240, train_label_loss: 0.2167, \n"
     ]
    },
    {
     "name": "stdout",
     "output_type": "stream",
     "text": [
      "epoch: 12, [batch: 23520 / 33600], examples_per_second: 2464.4843, train_label_loss: 0.4217, \n"
     ]
    },
    {
     "name": "stdout",
     "output_type": "stream",
     "text": [
      "epoch: 12, [batch: 26880 / 33600], examples_per_second: 2543.8299, train_label_loss: 0.3412, \n"
     ]
    },
    {
     "name": "stdout",
     "output_type": "stream",
     "text": [
      "epoch: 12, [batch: 30240 / 33600], examples_per_second: 2566.0340, train_label_loss: 0.6348, \n"
     ]
    },
    {
     "name": "stdout",
     "output_type": "stream",
     "text": [
      "=============================================================\n",
      "epoch: 12, source_val_acc_label: 0.7303, target_val_acc_label: 0.9815, source_val_label_loss: 0.8377, target_val_label_loss: 0.2496, \n",
      "=============================================================\n"
     ]
    },
    {
     "name": "stdout",
     "output_type": "stream",
     "text": [
      "New best\n"
     ]
    },
    {
     "name": "stdout",
     "output_type": "stream",
     "text": [
      "epoch: 13, [batch: 1 / 33600], examples_per_second: 0.6488, train_label_loss: 0.4040, \n"
     ]
    },
    {
     "name": "stdout",
     "output_type": "stream",
     "text": [
      "epoch: 13, [batch: 3360 / 33600], examples_per_second: 3553.3629, train_label_loss: 0.2962, \n"
     ]
    },
    {
     "name": "stdout",
     "output_type": "stream",
     "text": [
      "epoch: 13, [batch: 6720 / 33600], examples_per_second: 3983.4250, train_label_loss: 0.3226, \n"
     ]
    },
    {
     "name": "stdout",
     "output_type": "stream",
     "text": [
      "epoch: 13, [batch: 10080 / 33600], examples_per_second: 3234.1944, train_label_loss: 0.3615, \n"
     ]
    },
    {
     "name": "stdout",
     "output_type": "stream",
     "text": [
      "epoch: 13, [batch: 13440 / 33600], examples_per_second: 2282.8387, train_label_loss: 0.4636, \n"
     ]
    },
    {
     "name": "stdout",
     "output_type": "stream",
     "text": [
      "epoch: 13, [batch: 16800 / 33600], examples_per_second: 2657.3275, train_label_loss: 0.3794, \n"
     ]
    },
    {
     "name": "stdout",
     "output_type": "stream",
     "text": [
      "epoch: 13, [batch: 20160 / 33600], examples_per_second: 2492.3004, train_label_loss: 0.6637, \n"
     ]
    },
    {
     "name": "stdout",
     "output_type": "stream",
     "text": [
      "epoch: 13, [batch: 23520 / 33600], examples_per_second: 2413.2885, train_label_loss: 0.3592, \n"
     ]
    },
    {
     "name": "stdout",
     "output_type": "stream",
     "text": [
      "epoch: 13, [batch: 26880 / 33600], examples_per_second: 2658.8731, train_label_loss: 0.1784, \n"
     ]
    },
    {
     "name": "stdout",
     "output_type": "stream",
     "text": [
      "epoch: 13, [batch: 30240 / 33600], examples_per_second: 2332.9863, train_label_loss: 0.0252, \n"
     ]
    },
    {
     "name": "stdout",
     "output_type": "stream",
     "text": [
      "=============================================================\n",
      "epoch: 13, source_val_acc_label: 0.7259, target_val_acc_label: 0.9810, source_val_label_loss: 0.8554, target_val_label_loss: 0.2735, \n",
      "=============================================================\n"
     ]
    },
    {
     "name": "stdout",
     "output_type": "stream",
     "text": [
      "epoch: 14, [batch: 1 / 33600], examples_per_second: 0.5942, train_label_loss: 0.3444, \n"
     ]
    },
    {
     "name": "stdout",
     "output_type": "stream",
     "text": [
      "epoch: 14, [batch: 3360 / 33600], examples_per_second: 2706.5567, train_label_loss: 0.2374, \n"
     ]
    },
    {
     "name": "stdout",
     "output_type": "stream",
     "text": [
      "epoch: 14, [batch: 6720 / 33600], examples_per_second: 2452.6452, train_label_loss: 0.6206, \n"
     ]
    },
    {
     "name": "stdout",
     "output_type": "stream",
     "text": [
      "epoch: 14, [batch: 10080 / 33600], examples_per_second: 2517.9566, train_label_loss: 0.2720, \n"
     ]
    },
    {
     "name": "stdout",
     "output_type": "stream",
     "text": [
      "epoch: 14, [batch: 13440 / 33600], examples_per_second: 2644.2261, train_label_loss: 0.3169, \n"
     ]
    },
    {
     "name": "stdout",
     "output_type": "stream",
     "text": [
      "epoch: 14, [batch: 16800 / 33600], examples_per_second: 2311.6275, train_label_loss: 0.0576, \n"
     ]
    },
    {
     "name": "stdout",
     "output_type": "stream",
     "text": [
      "epoch: 14, [batch: 20160 / 33600], examples_per_second: 2669.1047, train_label_loss: 0.1573, \n"
     ]
    },
    {
     "name": "stdout",
     "output_type": "stream",
     "text": [
      "epoch: 14, [batch: 23520 / 33600], examples_per_second: 2452.6547, train_label_loss: 0.3363, \n"
     ]
    },
    {
     "name": "stdout",
     "output_type": "stream",
     "text": [
      "epoch: 14, [batch: 26880 / 33600], examples_per_second: 2460.6215, train_label_loss: 0.1209, \n"
     ]
    },
    {
     "name": "stdout",
     "output_type": "stream",
     "text": [
      "epoch: 14, [batch: 30240 / 33600], examples_per_second: 2844.0242, train_label_loss: 0.4193, \n"
     ]
    },
    {
     "name": "stdout",
     "output_type": "stream",
     "text": [
      "=============================================================\n",
      "epoch: 14, source_val_acc_label: 0.7290, target_val_acc_label: 0.9820, source_val_label_loss: 0.8764, target_val_label_loss: 0.2735, \n",
      "=============================================================\n"
     ]
    },
    {
     "name": "stdout",
     "output_type": "stream",
     "text": [
      "New best\n"
     ]
    },
    {
     "name": "stdout",
     "output_type": "stream",
     "text": [
      "epoch: 15, [batch: 1 / 33600], examples_per_second: 0.8484, train_label_loss: 0.3851, \n"
     ]
    },
    {
     "name": "stdout",
     "output_type": "stream",
     "text": [
      "epoch: 15, [batch: 3360 / 33600], examples_per_second: 3848.8250, train_label_loss: 0.0443, \n"
     ]
    },
    {
     "name": "stdout",
     "output_type": "stream",
     "text": [
      "epoch: 15, [batch: 6720 / 33600], examples_per_second: 2523.9688, train_label_loss: 0.2034, \n"
     ]
    },
    {
     "name": "stdout",
     "output_type": "stream",
     "text": [
      "epoch: 15, [batch: 10080 / 33600], examples_per_second: 2321.1844, train_label_loss: 0.2365, \n"
     ]
    },
    {
     "name": "stdout",
     "output_type": "stream",
     "text": [
      "epoch: 15, [batch: 13440 / 33600], examples_per_second: 2787.6024, train_label_loss: 0.4024, \n"
     ]
    },
    {
     "name": "stdout",
     "output_type": "stream",
     "text": [
      "epoch: 15, [batch: 16800 / 33600], examples_per_second: 2584.9957, train_label_loss: 0.2095, \n"
     ]
    },
    {
     "name": "stdout",
     "output_type": "stream",
     "text": [
      "epoch: 15, [batch: 20160 / 33600], examples_per_second: 2845.6331, train_label_loss: 0.1453, \n"
     ]
    },
    {
     "name": "stdout",
     "output_type": "stream",
     "text": [
      "epoch: 15, [batch: 23520 / 33600], examples_per_second: 3084.9897, train_label_loss: 0.3571, \n"
     ]
    },
    {
     "name": "stdout",
     "output_type": "stream",
     "text": [
      "epoch: 15, [batch: 26880 / 33600], examples_per_second: 2425.9926, train_label_loss: 0.3546, \n"
     ]
    },
    {
     "name": "stdout",
     "output_type": "stream",
     "text": [
      "epoch: 15, [batch: 30240 / 33600], examples_per_second: 2648.8156, train_label_loss: 0.3203, \n"
     ]
    },
    {
     "name": "stdout",
     "output_type": "stream",
     "text": [
      "=============================================================\n",
      "epoch: 15, source_val_acc_label: 0.7238, target_val_acc_label: 0.9825, source_val_label_loss: 0.8974, target_val_label_loss: 0.2771, \n",
      "=============================================================\n"
     ]
    },
    {
     "name": "stdout",
     "output_type": "stream",
     "text": [
      "New best\n"
     ]
    },
    {
     "name": "stdout",
     "output_type": "stream",
     "text": [
      "epoch: 16, [batch: 1 / 33600], examples_per_second: 0.5991, train_label_loss: 0.3074, \n"
     ]
    },
    {
     "name": "stdout",
     "output_type": "stream",
     "text": [
      "epoch: 16, [batch: 3360 / 33600], examples_per_second: 2464.0010, train_label_loss: 0.1150, \n"
     ]
    },
    {
     "name": "stdout",
     "output_type": "stream",
     "text": [
      "epoch: 16, [batch: 6720 / 33600], examples_per_second: 2607.2561, train_label_loss: 0.3403, \n"
     ]
    },
    {
     "name": "stdout",
     "output_type": "stream",
     "text": [
      "epoch: 16, [batch: 10080 / 33600], examples_per_second: 2479.0062, train_label_loss: 0.2467, \n"
     ]
    },
    {
     "name": "stdout",
     "output_type": "stream",
     "text": [
      "epoch: 16, [batch: 13440 / 33600], examples_per_second: 2355.0590, train_label_loss: 0.0808, \n"
     ]
    },
    {
     "name": "stdout",
     "output_type": "stream",
     "text": [
      "epoch: 16, [batch: 16800 / 33600], examples_per_second: 2694.8023, train_label_loss: 0.4986, \n"
     ]
    },
    {
     "name": "stdout",
     "output_type": "stream",
     "text": [
      "epoch: 16, [batch: 20160 / 33600], examples_per_second: 2461.3888, train_label_loss: 0.7300, \n"
     ]
    },
    {
     "name": "stdout",
     "output_type": "stream",
     "text": [
      "epoch: 16, [batch: 23520 / 33600], examples_per_second: 2536.1948, train_label_loss: 0.2490, \n"
     ]
    },
    {
     "name": "stdout",
     "output_type": "stream",
     "text": [
      "epoch: 16, [batch: 26880 / 33600], examples_per_second: 2808.9112, train_label_loss: 0.1232, \n"
     ]
    },
    {
     "name": "stdout",
     "output_type": "stream",
     "text": [
      "epoch: 16, [batch: 30240 / 33600], examples_per_second: 2681.8148, train_label_loss: 0.1963, \n"
     ]
    },
    {
     "name": "stdout",
     "output_type": "stream",
     "text": [
      "=============================================================\n",
      "epoch: 16, source_val_acc_label: 0.7194, target_val_acc_label: 0.9813, source_val_label_loss: 0.9285, target_val_label_loss: 0.2941, \n",
      "=============================================================\n"
     ]
    },
    {
     "name": "stdout",
     "output_type": "stream",
     "text": [
      "epoch: 17, [batch: 1 / 33600], examples_per_second: 0.7621, train_label_loss: 0.4009, \n"
     ]
    },
    {
     "name": "stdout",
     "output_type": "stream",
     "text": [
      "epoch: 17, [batch: 3360 / 33600], examples_per_second: 2460.6259, train_label_loss: 0.1308, \n"
     ]
    },
    {
     "name": "stdout",
     "output_type": "stream",
     "text": [
      "epoch: 17, [batch: 6720 / 33600], examples_per_second: 2751.4221, train_label_loss: 0.1423, \n"
     ]
    },
    {
     "name": "stdout",
     "output_type": "stream",
     "text": [
      "epoch: 17, [batch: 10080 / 33600], examples_per_second: 2760.7268, train_label_loss: 0.2428, \n"
     ]
    },
    {
     "name": "stdout",
     "output_type": "stream",
     "text": [
      "epoch: 17, [batch: 13440 / 33600], examples_per_second: 3208.5278, train_label_loss: 0.1508, \n"
     ]
    },
    {
     "name": "stdout",
     "output_type": "stream",
     "text": [
      "epoch: 17, [batch: 16800 / 33600], examples_per_second: 3707.1520, train_label_loss: 0.1151, \n"
     ]
    },
    {
     "name": "stdout",
     "output_type": "stream",
     "text": [
      "epoch: 17, [batch: 20160 / 33600], examples_per_second: 3357.4256, train_label_loss: 0.1137, \n"
     ]
    },
    {
     "name": "stdout",
     "output_type": "stream",
     "text": [
      "epoch: 17, [batch: 23520 / 33600], examples_per_second: 2876.7661, train_label_loss: 0.2837, \n"
     ]
    },
    {
     "name": "stdout",
     "output_type": "stream",
     "text": [
      "epoch: 17, [batch: 26880 / 33600], examples_per_second: 2547.2771, train_label_loss: 0.2543, \n"
     ]
    },
    {
     "name": "stdout",
     "output_type": "stream",
     "text": [
      "epoch: 17, [batch: 30240 / 33600], examples_per_second: 2371.0272, train_label_loss: 0.0472, \n"
     ]
    },
    {
     "name": "stdout",
     "output_type": "stream",
     "text": [
      "=============================================================\n",
      "epoch: 17, source_val_acc_label: 0.7239, target_val_acc_label: 0.9826, source_val_label_loss: 0.9506, target_val_label_loss: 0.3017, \n",
      "=============================================================\n"
     ]
    },
    {
     "name": "stdout",
     "output_type": "stream",
     "text": [
      "New best\n"
     ]
    },
    {
     "name": "stdout",
     "output_type": "stream",
     "text": [
      "epoch: 18, [batch: 1 / 33600], examples_per_second: 0.5938, train_label_loss: 0.0369, \n"
     ]
    },
    {
     "name": "stdout",
     "output_type": "stream",
     "text": [
      "epoch: 18, [batch: 3360 / 33600], examples_per_second: 2853.2807, train_label_loss: 0.0705, \n"
     ]
    },
    {
     "name": "stdout",
     "output_type": "stream",
     "text": [
      "epoch: 18, [batch: 6720 / 33600], examples_per_second: 2598.0171, train_label_loss: 0.4673, \n"
     ]
    },
    {
     "name": "stdout",
     "output_type": "stream",
     "text": [
      "epoch: 18, [batch: 10080 / 33600], examples_per_second: 3081.8511, train_label_loss: 0.2898, \n"
     ]
    },
    {
     "name": "stdout",
     "output_type": "stream",
     "text": [
      "epoch: 18, [batch: 13440 / 33600], examples_per_second: 3152.1482, train_label_loss: 0.3850, \n"
     ]
    },
    {
     "name": "stdout",
     "output_type": "stream",
     "text": [
      "epoch: 18, [batch: 16800 / 33600], examples_per_second: 2646.9911, train_label_loss: 0.2103, \n"
     ]
    },
    {
     "name": "stdout",
     "output_type": "stream",
     "text": [
      "epoch: 18, [batch: 20160 / 33600], examples_per_second: 2608.0810, train_label_loss: 0.1631, \n"
     ]
    },
    {
     "name": "stdout",
     "output_type": "stream",
     "text": [
      "epoch: 18, [batch: 23520 / 33600], examples_per_second: 2790.1962, train_label_loss: 0.1846, \n"
     ]
    },
    {
     "name": "stdout",
     "output_type": "stream",
     "text": [
      "epoch: 18, [batch: 26880 / 33600], examples_per_second: 3015.4617, train_label_loss: 0.3608, \n"
     ]
    },
    {
     "name": "stdout",
     "output_type": "stream",
     "text": [
      "epoch: 18, [batch: 30240 / 33600], examples_per_second: 2969.3688, train_label_loss: 0.2562, \n"
     ]
    },
    {
     "name": "stdout",
     "output_type": "stream",
     "text": [
      "=============================================================\n",
      "epoch: 18, source_val_acc_label: 0.7218, target_val_acc_label: 0.9817, source_val_label_loss: 0.9810, target_val_label_loss: 0.3077, \n",
      "=============================================================\n"
     ]
    },
    {
     "name": "stdout",
     "output_type": "stream",
     "text": [
      "epoch: 19, [batch: 1 / 33600], examples_per_second: 0.6040, train_label_loss: 0.3125, \n"
     ]
    },
    {
     "name": "stdout",
     "output_type": "stream",
     "text": [
      "epoch: 19, [batch: 3360 / 33600], examples_per_second: 2576.6315, train_label_loss: 0.2400, \n"
     ]
    },
    {
     "name": "stdout",
     "output_type": "stream",
     "text": [
      "epoch: 19, [batch: 6720 / 33600], examples_per_second: 2359.0406, train_label_loss: 0.3037, \n"
     ]
    },
    {
     "name": "stdout",
     "output_type": "stream",
     "text": [
      "epoch: 19, [batch: 10080 / 33600], examples_per_second: 2655.9282, train_label_loss: 0.0222, \n"
     ]
    },
    {
     "name": "stdout",
     "output_type": "stream",
     "text": [
      "epoch: 19, [batch: 13440 / 33600], examples_per_second: 2498.4381, train_label_loss: 0.1448, \n"
     ]
    },
    {
     "name": "stdout",
     "output_type": "stream",
     "text": [
      "epoch: 19, [batch: 16800 / 33600], examples_per_second: 2519.2393, train_label_loss: 0.1096, \n"
     ]
    },
    {
     "name": "stdout",
     "output_type": "stream",
     "text": [
      "epoch: 19, [batch: 20160 / 33600], examples_per_second: 2748.7825, train_label_loss: 0.2102, \n"
     ]
    },
    {
     "name": "stdout",
     "output_type": "stream",
     "text": [
      "epoch: 19, [batch: 23520 / 33600], examples_per_second: 2768.9969, train_label_loss: 0.2855, \n"
     ]
    },
    {
     "name": "stdout",
     "output_type": "stream",
     "text": [
      "epoch: 19, [batch: 26880 / 33600], examples_per_second: 2947.1565, train_label_loss: 0.1659, \n"
     ]
    },
    {
     "name": "stdout",
     "output_type": "stream",
     "text": [
      "epoch: 19, [batch: 30240 / 33600], examples_per_second: 2973.2470, train_label_loss: 0.0962, \n"
     ]
    },
    {
     "name": "stdout",
     "output_type": "stream",
     "text": [
      "=============================================================\n",
      "epoch: 19, source_val_acc_label: 0.7207, target_val_acc_label: 0.9817, source_val_label_loss: 1.0193, target_val_label_loss: 0.3170, \n",
      "=============================================================\n"
     ]
    },
    {
     "name": "stdout",
     "output_type": "stream",
     "text": [
      "epoch: 20, [batch: 1 / 33600], examples_per_second: 0.6022, train_label_loss: 0.2015, \n"
     ]
    },
    {
     "name": "stdout",
     "output_type": "stream",
     "text": [
      "epoch: 20, [batch: 3360 / 33600], examples_per_second: 2392.2819, train_label_loss: 0.1234, \n"
     ]
    },
    {
     "name": "stdout",
     "output_type": "stream",
     "text": [
      "epoch: 20, [batch: 6720 / 33600], examples_per_second: 2580.3425, train_label_loss: 0.2035, \n"
     ]
    },
    {
     "name": "stdout",
     "output_type": "stream",
     "text": [
      "epoch: 20, [batch: 10080 / 33600], examples_per_second: 2547.1633, train_label_loss: 0.1135, \n"
     ]
    },
    {
     "name": "stdout",
     "output_type": "stream",
     "text": [
      "epoch: 20, [batch: 13440 / 33600], examples_per_second: 2310.1657, train_label_loss: 0.2965, \n"
     ]
    },
    {
     "name": "stdout",
     "output_type": "stream",
     "text": [
      "epoch: 20, [batch: 16800 / 33600], examples_per_second: 2811.7712, train_label_loss: 0.2049, \n"
     ]
    },
    {
     "name": "stdout",
     "output_type": "stream",
     "text": [
      "epoch: 20, [batch: 20160 / 33600], examples_per_second: 2333.2002, train_label_loss: 0.0855, \n"
     ]
    },
    {
     "name": "stdout",
     "output_type": "stream",
     "text": [
      "epoch: 20, [batch: 23520 / 33600], examples_per_second: 2489.9710, train_label_loss: 0.3710, \n"
     ]
    },
    {
     "name": "stdout",
     "output_type": "stream",
     "text": [
      "epoch: 20, [batch: 26880 / 33600], examples_per_second: 2802.7836, train_label_loss: 0.0802, \n"
     ]
    },
    {
     "name": "stdout",
     "output_type": "stream",
     "text": [
      "epoch: 20, [batch: 30240 / 33600], examples_per_second: 2612.1918, train_label_loss: 0.3007, \n"
     ]
    },
    {
     "name": "stdout",
     "output_type": "stream",
     "text": [
      "=============================================================\n",
      "epoch: 20, source_val_acc_label: 0.7196, target_val_acc_label: 0.9822, source_val_label_loss: 1.0349, target_val_label_loss: 0.3247, \n",
      "=============================================================\n"
     ]
    },
    {
     "name": "stdout",
     "output_type": "stream",
     "text": [
      "epoch: 21, [batch: 1 / 33600], examples_per_second: 0.7053, train_label_loss: 0.0909, \n"
     ]
    },
    {
     "name": "stdout",
     "output_type": "stream",
     "text": [
      "epoch: 21, [batch: 3360 / 33600], examples_per_second: 2699.8467, train_label_loss: 0.3026, \n"
     ]
    },
    {
     "name": "stdout",
     "output_type": "stream",
     "text": [
      "epoch: 21, [batch: 6720 / 33600], examples_per_second: 2479.1746, train_label_loss: 0.0633, \n"
     ]
    },
    {
     "name": "stdout",
     "output_type": "stream",
     "text": [
      "epoch: 21, [batch: 10080 / 33600], examples_per_second: 2456.7298, train_label_loss: 0.1132, \n"
     ]
    },
    {
     "name": "stdout",
     "output_type": "stream",
     "text": [
      "epoch: 21, [batch: 13440 / 33600], examples_per_second: 3127.4573, train_label_loss: 0.1369, \n"
     ]
    },
    {
     "name": "stdout",
     "output_type": "stream",
     "text": [
      "epoch: 21, [batch: 16800 / 33600], examples_per_second: 2978.7573, train_label_loss: 0.1465, \n"
     ]
    },
    {
     "name": "stdout",
     "output_type": "stream",
     "text": [
      "epoch: 21, [batch: 20160 / 33600], examples_per_second: 3820.0441, train_label_loss: 0.2320, \n"
     ]
    },
    {
     "name": "stdout",
     "output_type": "stream",
     "text": [
      "epoch: 21, [batch: 23520 / 33600], examples_per_second: 3682.7640, train_label_loss: 0.1006, \n"
     ]
    },
    {
     "name": "stdout",
     "output_type": "stream",
     "text": [
      "epoch: 21, [batch: 26880 / 33600], examples_per_second: 2537.5962, train_label_loss: 0.2510, \n"
     ]
    },
    {
     "name": "stdout",
     "output_type": "stream",
     "text": [
      "epoch: 21, [batch: 30240 / 33600], examples_per_second: 2543.9208, train_label_loss: 0.1176, \n"
     ]
    },
    {
     "name": "stdout",
     "output_type": "stream",
     "text": [
      "=============================================================\n",
      "epoch: 21, source_val_acc_label: 0.7176, target_val_acc_label: 0.9816, source_val_label_loss: 1.0652, target_val_label_loss: 0.3465, \n",
      "=============================================================\n"
     ]
    },
    {
     "name": "stdout",
     "output_type": "stream",
     "text": [
      "Patience (3) exhausted\n"
     ]
    }
   ],
   "source": [
    "###################################\n",
    "# train\n",
    "###################################\n",
    "jig = PTN_Train_Eval_Test_Jig(model, p.BEST_MODEL_PATH, p.device)\n",
    "\n",
    "jig.train(\n",
    "    train_iterable=datasets.source.processed.train,\n",
    "    source_val_iterable=datasets.source.processed.val,\n",
    "    target_val_iterable=datasets.target.processed.val,\n",
    "    num_epochs=p.n_epoch,\n",
    "    num_logs_per_epoch=p.NUM_LOGS_PER_EPOCH,\n",
    "    patience=p.patience,\n",
    "    optimizer=optimizer,\n",
    "    criteria_for_best=p.criteria_for_best,\n",
    ")"
   ]
  },
  {
   "cell_type": "code",
   "execution_count": 23,
   "id": "31e8fabf",
   "metadata": {
    "execution": {
     "iopub.execute_input": "2022-03-21T18:28:21.449388Z",
     "iopub.status.busy": "2022-03-21T18:28:21.448842Z",
     "iopub.status.idle": "2022-03-21T18:28:21.482023Z",
     "shell.execute_reply": "2022-03-21T18:28:21.481245Z"
    },
    "papermill": {
     "duration": 0.129667,
     "end_time": "2022-03-21T18:28:21.482224",
     "exception": false,
     "start_time": "2022-03-21T18:28:21.352557",
     "status": "completed"
    },
    "tags": []
   },
   "outputs": [],
   "source": [
    "total_experiment_time_secs = time.time() - start_time_secs"
   ]
  },
  {
   "cell_type": "code",
   "execution_count": 24,
   "id": "87b9595b",
   "metadata": {
    "execution": {
     "iopub.execute_input": "2022-03-21T18:28:21.678895Z",
     "iopub.status.busy": "2022-03-21T18:28:21.678029Z",
     "iopub.status.idle": "2022-03-21T18:40:11.593753Z",
     "shell.execute_reply": "2022-03-21T18:40:11.594444Z"
    },
    "papermill": {
     "duration": 710.014524,
     "end_time": "2022-03-21T18:40:11.594690",
     "exception": false,
     "start_time": "2022-03-21T18:28:21.580166",
     "status": "completed"
    },
    "tags": []
   },
   "outputs": [],
   "source": [
    "###################################\n",
    "# Evaluate the model\n",
    "###################################\n",
    "source_test_label_accuracy, source_test_label_loss = jig.test(datasets.source.processed.test)\n",
    "target_test_label_accuracy, target_test_label_loss = jig.test(datasets.target.processed.test)\n",
    "\n",
    "source_val_label_accuracy, source_val_label_loss = jig.test(datasets.source.processed.val)\n",
    "target_val_label_accuracy, target_val_label_loss = jig.test(datasets.target.processed.val)\n",
    "\n",
    "history = jig.get_history()\n",
    "\n",
    "total_epochs_trained = len(history[\"epoch_indices\"])\n",
    "\n",
    "val_dl = Iterable_Aggregator((datasets.source.original.val,datasets.target.original.val))\n",
    "\n",
    "confusion = ptn_confusion_by_domain_over_dataloader(model, p.device, val_dl)\n",
    "per_domain_accuracy = per_domain_accuracy_from_confusion(confusion)\n",
    "\n",
    "# Add a key to per_domain_accuracy for if it was a source domain\n",
    "for domain, accuracy in per_domain_accuracy.items():\n",
    "    per_domain_accuracy[domain] = {\n",
    "        \"accuracy\": accuracy,\n",
    "        \"source?\": domain in p.domains_source\n",
    "    }\n",
    "\n",
    "# Do an independent accuracy assesment JUST TO BE SURE!\n",
    "# _source_test_label_accuracy = independent_accuracy_assesment(model, datasets.source.processed.test, p.device)\n",
    "# _target_test_label_accuracy = independent_accuracy_assesment(model, datasets.target.processed.test, p.device)\n",
    "# _source_val_label_accuracy = independent_accuracy_assesment(model, datasets.source.processed.val, p.device)\n",
    "# _target_val_label_accuracy = independent_accuracy_assesment(model, datasets.target.processed.val, p.device)\n",
    "\n",
    "# assert(_source_test_label_accuracy == source_test_label_accuracy)\n",
    "# assert(_target_test_label_accuracy == target_test_label_accuracy)\n",
    "# assert(_source_val_label_accuracy == source_val_label_accuracy)\n",
    "# assert(_target_val_label_accuracy == target_val_label_accuracy)\n",
    "\n",
    "experiment = {\n",
    "    \"experiment_name\": p.experiment_name,\n",
    "    \"parameters\": dict(p),\n",
    "    \"results\": {\n",
    "        \"source_test_label_accuracy\": source_test_label_accuracy,\n",
    "        \"source_test_label_loss\": source_test_label_loss,\n",
    "        \"target_test_label_accuracy\": target_test_label_accuracy,\n",
    "        \"target_test_label_loss\": target_test_label_loss,\n",
    "        \"source_val_label_accuracy\": source_val_label_accuracy,\n",
    "        \"source_val_label_loss\": source_val_label_loss,\n",
    "        \"target_val_label_accuracy\": target_val_label_accuracy,\n",
    "        \"target_val_label_loss\": target_val_label_loss,\n",
    "        \"total_epochs_trained\": total_epochs_trained,\n",
    "        \"total_experiment_time_secs\": total_experiment_time_secs,\n",
    "        \"confusion\": confusion,\n",
    "        \"per_domain_accuracy\": per_domain_accuracy,\n",
    "    },\n",
    "    \"history\": history,\n",
    "    \"dataset_metrics\": get_dataset_metrics(datasets, \"ptn\"),\n",
    "}"
   ]
  },
  {
   "cell_type": "code",
   "execution_count": 25,
   "id": "54a21829",
   "metadata": {
    "execution": {
     "iopub.execute_input": "2022-03-21T18:40:11.778480Z",
     "iopub.status.busy": "2022-03-21T18:40:11.778011Z",
     "iopub.status.idle": "2022-03-21T18:40:12.015050Z",
     "shell.execute_reply": "2022-03-21T18:40:12.014454Z"
    },
    "papermill": {
     "duration": 0.327097,
     "end_time": "2022-03-21T18:40:12.015195",
     "exception": false,
     "start_time": "2022-03-21T18:40:11.688098",
     "status": "completed"
    },
    "tags": []
   },
   "outputs": [
    {
     "data": {
      "image/png": "[encoded data removed]",
      "text/plain": [
       "<Figure size 1080x504 with 1 Axes>"
      ]
     },
     "metadata": {
      "needs_background": "light"
     },
     "output_type": "display_data"
    }
   ],
   "source": [
    "ax = get_loss_curve(experiment)\n",
    "plt.show()"
   ]
  },
  {
   "cell_type": "code",
   "execution_count": 26,
   "id": "fd8a0f60",
   "metadata": {
    "execution": {
     "iopub.execute_input": "2022-03-21T18:40:12.207241Z",
     "iopub.status.busy": "2022-03-21T18:40:12.206858Z",
     "iopub.status.idle": "2022-03-21T18:40:12.580087Z",
     "shell.execute_reply": "2022-03-21T18:40:12.580817Z"
    },
    "papermill": {
     "duration": 0.472326,
     "end_time": "2022-03-21T18:40:12.581071",
     "exception": false,
     "start_time": "2022-03-21T18:40:12.108745",
     "status": "completed"
    },
    "tags": []
   },
   "outputs": [
    {
     "data": {
      "text/plain": [
       "<AxesSubplot:title={'center':'Results'}>"
      ]
     },
     "execution_count": 26,
     "metadata": {},
     "output_type": "execute_result"
    },
    {
     "data": {
      "image/png": "[encoded data removed]",
      "text/plain": [
       "<Figure size 1080x504 with 1 Axes>"
      ]
     },
     "metadata": {
      "needs_background": "light"
     },
     "output_type": "display_data"
    }
   ],
   "source": [
    "get_results_table(experiment)"
   ]
  },
  {
   "cell_type": "code",
   "execution_count": 27,
   "id": "cf8dc689",
   "metadata": {
    "execution": {
     "iopub.execute_input": "2022-03-21T18:40:12.819595Z",
     "iopub.status.busy": "2022-03-21T18:40:12.819019Z",
     "iopub.status.idle": "2022-03-21T18:40:13.085328Z",
     "shell.execute_reply": "2022-03-21T18:40:13.084832Z"
    },
    "papermill": {
     "duration": 0.38542,
     "end_time": "2022-03-21T18:40:13.085455",
     "exception": false,
     "start_time": "2022-03-21T18:40:12.700035",
     "status": "completed"
    },
    "tags": []
   },
   "outputs": [
    {
     "data": {
      "text/plain": [
       "<AxesSubplot:title={'center':'Per Domain Validation Accuracy'}, xlabel='domain'>"
      ]
     },
     "execution_count": 27,
     "metadata": {},
     "output_type": "execute_result"
    },
    {
     "data": {
      "image/png": "[encoded data removed]",
      "text/plain": [
       "<Figure size 1080x504 with 1 Axes>"
      ]
     },
     "metadata": {
      "needs_background": "light"
     },
     "output_type": "display_data"
    }
   ],
   "source": [
    "get_domain_accuracies(experiment)"
   ]
  },
  {
   "cell_type": "code",
   "execution_count": 28,
   "id": "a74ae082",
   "metadata": {
    "execution": {
     "iopub.execute_input": "2022-03-21T18:40:13.275558Z",
     "iopub.status.busy": "2022-03-21T18:40:13.275145Z",
     "iopub.status.idle": "2022-03-21T18:40:13.299882Z",
     "shell.execute_reply": "2022-03-21T18:40:13.300573Z"
    },
    "papermill": {
     "duration": 0.11978,
     "end_time": "2022-03-21T18:40:13.300785",
     "exception": false,
     "start_time": "2022-03-21T18:40:13.181005",
     "status": "completed"
    },
    "tags": []
   },
   "outputs": [
    {
     "name": "stdout",
     "output_type": "stream",
     "text": [
      "Source Test Label Accuracy: 0.7238541666666667 Target Test Label Accuracy: 0.9839365881032548\n",
      "Source Val Label Accuracy: 0.7239322916666666 Target Val Label Accuracy: 0.9825913242009132\n"
     ]
    }
   ],
   "source": [
    "print(\"Source Test Label Accuracy:\", experiment[\"results\"][\"source_test_label_accuracy\"], \"Target Test Label Accuracy:\", experiment[\"results\"][\"target_test_label_accuracy\"])\n",
    "print(\"Source Val Label Accuracy:\", experiment[\"results\"][\"source_val_label_accuracy\"], \"Target Val Label Accuracy:\", experiment[\"results\"][\"target_val_label_accuracy\"])"
   ]
  },
  {
   "cell_type": "code",
   "execution_count": 29,
   "id": "dacca602",
   "metadata": {
    "execution": {
     "iopub.execute_input": "2022-03-21T18:40:13.492657Z",
     "iopub.status.busy": "2022-03-21T18:40:13.492055Z",
     "iopub.status.idle": "2022-03-21T18:40:13.517815Z",
     "shell.execute_reply": "2022-03-21T18:40:13.518504Z"
    },
    "papermill": {
     "duration": 0.121673,
     "end_time": "2022-03-21T18:40:13.518712",
     "exception": false,
     "start_time": "2022-03-21T18:40:13.397039",
     "status": "completed"
    },
    "tags": [
     "experiment_json"
    ]
   },
   "outputs": [
    {
     "data": {
      "text/plain": [
       "'{\"experiment_name\": \"tl_1v2:cores-oracle.run1\", \"parameters\": {\"experiment_name\": \"tl_1v2:cores-oracle.run1\", \"device\": \"cuda\", \"lr\": 0.0001, \"n_shot\": 3, \"n_query\": 2, \"train_k_factor\": 3, \"val_k_factor\": 2, \"test_k_factor\": 2, \"torch_default_dtype\": \"torch.float32\", \"n_epoch\": 50, \"patience\": 3, \"criteria_for_best\": \"target_accuracy\", \"x_net\": [{\"class\": \"nnReshape\", \"kargs\": {\"shape\": [-1, 1, 2, 256]}}, {\"class\": \"Conv2d\", \"kargs\": {\"in_channels\": 1, \"out_channels\": 256, \"kernel_size\": [1, 7], \"bias\": false, \"padding\": [0, 3]}}, {\"class\": \"ReLU\", \"kargs\": {\"inplace\": true}}, {\"class\": \"BatchNorm2d\", \"kargs\": {\"num_features\": 256}}, {\"class\": \"Conv2d\", \"kargs\": {\"in_channels\": 256, \"out_channels\": 80, \"kernel_size\": [2, 7], \"bias\": true, \"padding\": [0, 3]}}, {\"class\": \"ReLU\", \"kargs\": {\"inplace\": true}}, {\"class\": \"BatchNorm2d\", \"kargs\": {\"num_features\": 80}}, {\"class\": \"Flatten\", \"kargs\": {}}, {\"class\": \"Linear\", \"kargs\": {\"in_features\": 20480, \"out_features\": 256}}, {\"class\": \"ReLU\", \"kargs\": {\"inplace\": true}}, {\"class\": \"BatchNorm1d\", \"kargs\": {\"num_features\": 256}}, {\"class\": \"Linear\", \"kargs\": {\"in_features\": 256, \"out_features\": 256}}], \"NUM_LOGS_PER_EPOCH\": 10, \"BEST_MODEL_PATH\": \"./best_model.pth\", \"n_way\": 16, \"datasets\": [{\"labels\": [\"1-10.\", \"1-11.\", \"1-15.\", \"1-16.\", \"1-17.\", \"1-18.\", \"1-19.\", \"10-4.\", \"10-7.\", \"11-1.\", \"11-14.\", \"11-17.\", \"11-20.\", \"11-7.\", \"13-20.\", \"13-8.\", \"14-10.\", \"14-11.\", \"14-14.\", \"14-7.\", \"15-1.\", \"15-20.\", \"16-1.\", \"16-16.\", \"17-10.\", \"17-11.\", \"17-2.\", \"19-1.\", \"19-16.\", \"19-19.\", \"19-20.\", \"19-3.\", \"2-10.\", \"2-11.\", \"2-17.\", \"2-18.\", \"2-20.\", \"2-3.\", \"2-4.\", \"2-5.\", \"2-6.\", \"2-7.\", \"2-8.\", \"3-13.\", \"3-18.\", \"3-3.\", \"4-1.\", \"4-10.\", \"4-11.\", \"4-19.\", \"5-5.\", \"6-15.\", \"7-10.\", \"7-14.\", \"8-18.\", \"8-20.\", \"8-3.\", \"8-8.\"], \"domains\": [1, 2, 3, 4, 5], \"num_examples_per_domain_per_label\": -1, \"pickle_path\": \"/root/csc500-main/datasets/cores.stratified_ds.2022A.pkl\", \"source_or_target_dataset\": \"target\", \"x_transforms\": [\"unit_mag\"], \"episode_transforms\": [], \"domain_prefix\": \"CORES_\"}, {\"labels\": [\"3123D52\", \"3123D65\", \"3123D79\", \"3123D80\", \"3123D54\", \"3123D70\", \"3123D7B\", \"3123D89\", \"3123D58\", \"3123D76\", \"3123D7D\", \"3123EFE\", \"3123D64\", \"3123D78\", \"3123D7E\", \"3124E4A\"], \"domains\": [32, 38, 8, 44, 14, 50, 20, 26], \"num_examples_per_domain_per_label\": 10000, \"pickle_path\": \"/root/csc500-main/datasets/oracle.Run1_10kExamples_stratified_ds.2022A.pkl\", \"source_or_target_dataset\": \"source\", \"x_transforms\": [\"unit_mag\"], \"episode_transforms\": [], \"domain_prefix\": \"ORACLE.run1_\"}], \"dataset_seed\": 1337, \"seed\": 1337, \"x_shape\": [2, 256], \"domains_source\": [\"ORACLE.run1_32\", \"ORACLE.run1_38\", \"ORACLE.run1_8\", \"ORACLE.run1_44\", \"ORACLE.run1_14\", \"ORACLE.run1_50\", \"ORACLE.run1_20\", \"ORACLE.run1_26\"], \"domains_target\": [\"CORES_1\", \"CORES_2\", \"CORES_3\", \"CORES_4\", \"CORES_5\"]}, \"results\": {\"source_test_label_accuracy\": 0.7238541666666667, \"source_test_label_loss\": 0.9461496472358704, \"target_test_label_accuracy\": 0.9839365881032548, \"target_test_label_loss\": 0.23172405362129211, \"source_val_label_accuracy\": 0.7239322916666666, \"source_val_label_loss\": 0.9506164789199829, \"target_val_label_accuracy\": 0.9825913242009132, \"target_val_label_loss\": 0.301741361618042, \"total_epochs_trained\": 21, \"total_experiment_time_secs\": 24326.58144259453, \"confusion\": {\"ORACLE.run1_14\": {\"15\": {\"15\": 1157, \"7\": 37, \"2\": 2, \"5\": 3, \"13\": 1}, \"3\": {\"3\": 994, \"4\": 115, \"2\": 34, \"14\": 34, \"13\": 1, \"0\": 13, \"5\": 7, \"10\": 1, \"1\": 1}, \"6\": {\"6\": 678, \"13\": 436, \"2\": 36, \"14\": 47, \"3\": 1, \"15\": 1, \"4\": 1}, \"1\": {\"4\": 11, \"1\": 1070, \"5\": 114, \"7\": 5}, \"8\": {\"8\": 1200}, \"10\": {\"10\": 1156, \"0\": 41, \"3\": 2, \"4\": 1}, \"9\": {\"9\": 1194, \"12\": 1, \"11\": 5}, \"13\": {\"6\": 488, \"13\": 415, \"2\": 105, \"14\": 168, \"5\": 14, \"4\": 6, \"3\": 1, \"10\": 2, \"15\": 1}, \"12\": {\"12\": 1192, \"9\": 8}, \"5\": {\"4\": 183, \"5\": 787, \"2\": 61, \"1\": 140, \"3\": 20, \"15\": 4, \"7\": 5}, \"0\": {\"3\": 29, \"0\": 1095, \"11\": 20, \"10\": 54, \"14\": 2}, \"2\": {\"3\": 55, \"6\": 63, \"2\": 584, \"14\": 176, \"4\": 98, \"13\": 80, \"7\": 2, \"15\": 19, \"5\": 121, \"1\": 2}, \"11\": {\"11\": 1103, \"0\": 45, \"9\": 48, \"10\": 4}, \"14\": {\"14\": 987, \"13\": 88, \"3\": 25, \"6\": 29, \"2\": 69, \"4\": 1, \"10\": 1}, \"7\": {\"15\": 9, \"7\": 1171, \"1\": 13, \"5\": 7}, \"4\": {\"4\": 832, \"5\": 166, \"1\": 21, \"3\": 115, \"6\": 2, \"2\": 63, \"14\": 1}}, \"ORACLE.run1_20\": {\"3\": {\"4\": 76, \"12\": 253, \"2\": 59, \"9\": 229, \"3\": 452, \"1\": 27, \"5\": 42, \"7\": 42, \"8\": 13, \"0\": 4, \"10\": 2, \"15\": 1}, \"15\": {\"15\": 714, \"12\": 22, \"0\": 65, \"5\": 114, \"1\": 236, \"13\": 38, \"2\": 4, \"9\": 6, \"3\": 1}, \"8\": {\"4\": 145, \"8\": 880, \"14\": 40, \"3\": 11, \"6\": 17, \"7\": 89, \"10\": 13, \"12\": 3, \"0\": 2}, \"4\": {\"4\": 960, \"8\": 125, \"10\": 28, \"3\": 66, \"7\": 3, \"5\": 2, \"9\": 1, \"12\": 10, \"14\": 2, \"0\": 3}, \"14\": {\"14\": 963, \"6\": 130, \"10\": 77, \"8\": 30}, \"0\": {\"0\": 733, \"5\": 268, \"15\": 109, \"1\": 23, \"4\": 6, \"3\": 19, \"12\": 14, \"8\": 8, \"13\": 4, \"7\": 10, \"2\": 5, \"9\": 1}, \"7\": {\"7\": 864, \"3\": 45, \"8\": 81, \"6\": 13, \"2\": 136, \"15\": 1, \"9\": 39, \"12\": 5, \"4\": 11, \"13\": 2, \"14\": 1, \"10\": 1, \"0\": 1}, \"6\": {\"6\": 1031, \"14\": 140, \"7\": 17, \"8\": 8, \"10\": 4}, \"10\": {\"10\": 1067, \"4\": 36, \"14\": 81, \"8\": 15, \"7\": 1}, \"5\": {\"0\": 214, \"12\": 116, \"15\": 119, \"5\": 543, \"1\": 157, \"3\": 29, \"4\": 9, \"13\": 3, \"9\": 6, \"2\": 3, \"8\": 1}, \"2\": {\"9\": 270, \"2\": 567, \"7\": 170, \"3\": 90, \"12\": 50, \"5\": 5, \"13\": 38, \"1\": 7, \"8\": 2, \"15\": 1}, \"12\": {\"9\": 110, \"5\": 104, \"3\": 249, \"12\": 428, \"1\": 211, \"0\": 5, \"15\": 25, \"2\": 51, \"7\": 4, \"4\": 7, \"13\": 6}, \"9\": {\"9\": 495, \"3\": 201, \"7\": 65, \"1\": 20, \"2\": 287, \"12\": 105, \"5\": 3, \"13\": 16, \"8\": 2, \"4\": 4, \"15\": 2}, \"1\": {\"1\": 544, \"5\": 175, \"12\": 199, \"0\": 28, \"15\": 190, \"3\": 32, \"9\": 18, \"13\": 4, \"2\": 9, \"4\": 1}, \"11\": {\"11\": 1198, \"7\": 1, \"6\": 1}, \"13\": {\"13\": 1110, \"9\": 6, \"15\": 20, \"2\": 52, \"12\": 2, \"1\": 5, \"5\": 3, \"7\": 2}}, \"ORACLE.run1_38\": {\"5\": {\"5\": 541, \"8\": 314, \"0\": 68, \"6\": 45, \"10\": 7, \"7\": 124, \"9\": 39, \"1\": 8, \"15\": 54}, \"8\": {\"8\": 736, \"0\": 125, \"15\": 21, \"5\": 248, \"10\": 22, \"7\": 43, \"1\": 1, \"13\": 4}, \"11\": {\"11\": 1063, \"14\": 107, \"10\": 17, \"2\": 11, \"12\": 1, \"13\": 1}, \"1\": {\"1\": 1153, \"15\": 44, \"5\": 2, \"8\": 1}, \"10\": {\"10\": 950, \"13\": 131, \"8\": 52, \"0\": 21, \"12\": 10, \"15\": 6, \"7\": 11, \"2\": 3, \"14\": 10, \"11\": 3, \"4\": 2, \"5\": 1}, \"15\": {\"15\": 963, \"13\": 92, \"8\": 42, \"1\": 68, \"5\": 21, \"10\": 9, \"2\": 3, \"14\": 1, \"0\": 1}, \"3\": {\"3\": 1116, \"0\": 29, \"9\": 40, \"7\": 10, \"5\": 4, \"6\": 1}, \"7\": {\"7\": 958, \"5\": 60, \"3\": 2, \"8\": 40, \"0\": 135, \"10\": 1, \"9\": 3, \"6\": 1}, \"4\": {\"4\": 1137, \"12\": 58, \"0\": 2, \"10\": 2, \"7\": 1}, \"14\": {\"14\": 1094, \"2\": 68, \"10\": 9, \"12\": 2, \"11\": 26, \"13\": 1}, \"9\": {\"6\": 233, \"9\": 923, \"3\": 23, \"5\": 17, \"0\": 2, \"7\": 2}, \"12\": {\"12\": 1152, \"10\": 3, \"4\": 45}, \"6\": {\"6\": 1061, \"9\": 127, \"8\": 3, \"5\": 9}, \"2\": {\"2\": 1100, \"13\": 27, \"14\": 71, \"15\": 2}, \"0\": {\"8\": 208, \"0\": 630, \"3\": 66, \"7\": 184, \"5\": 86, \"10\": 22, \"15\": 1, \"9\": 2, \"4\": 1}, \"13\": {\"13\": 888, \"15\": 161, \"10\": 106, \"2\": 21, \"8\": 16, \"1\": 4, \"14\": 1, \"0\": 1, \"5\": 2}}, \"ORACLE.run1_8\": {\"9\": {\"9\": 1200}, \"10\": {\"10\": 813, \"14\": 214, \"13\": 99, \"4\": 42, \"5\": 25, \"1\": 4, \"0\": 3}, \"13\": {\"6\": 56, \"0\": 290, \"10\": 123, \"13\": 425, \"4\": 202, \"14\": 87, \"7\": 14, \"1\": 3}, \"0\": {\"0\": 706, \"13\": 257, \"7\": 107, \"6\": 76, \"4\": 41, \"14\": 2, \"10\": 11}, \"1\": {\"1\": 873, \"11\": 258, \"14\": 49, \"5\": 12, \"10\": 6, \"4\": 2}, \"15\": {\"15\": 869, \"12\": 253, \"8\": 57, \"2\": 9, \"3\": 10, \"7\": 2}, \"5\": {\"5\": 1078, \"1\": 47, \"10\": 55, \"11\": 7, \"14\": 13}, \"3\": {\"3\": 1039, \"2\": 99, \"12\": 61, \"15\": 1}, \"6\": {\"8\": 6, \"0\": 77, \"7\": 284, \"6\": 682, \"4\": 115, \"13\": 33, \"14\": 3}, \"11\": {\"1\": 340, \"11\": 833, \"4\": 2, \"10\": 2, \"8\": 8, \"5\": 8, \"14\": 7}, \"8\": {\"8\": 1114, \"15\": 70, \"6\": 8, \"7\": 6, \"12\": 2}, \"4\": {\"4\": 560, \"14\": 182, \"10\": 31, \"6\": 147, \"13\": 220, \"7\": 8, \"0\": 48, \"11\": 1, \"1\": 3}, \"12\": {\"12\": 668, \"15\": 365, \"3\": 130, \"7\": 2, \"2\": 14, \"8\": 21}, \"14\": {\"4\": 190, \"10\": 191, \"13\": 79, \"14\": 663, \"1\": 55, \"6\": 7, \"11\": 11, \"5\": 2, \"0\": 2}, \"2\": {\"2\": 987, \"3\": 147, \"15\": 31, \"7\": 18, \"12\": 13, \"8\": 3, \"6\": 1}, \"7\": {\"6\": 280, \"0\": 60, \"7\": 842, \"8\": 5, \"4\": 4, \"15\": 3, \"13\": 4, \"2\": 2}}, \"ORACLE.run1_50\": {\"7\": {\"7\": 764, \"13\": 242, \"5\": 164, \"6\": 10, \"10\": 12, \"4\": 8}, \"3\": {\"3\": 1178, \"8\": 22}, \"8\": {\"8\": 1161, \"10\": 26, \"3\": 13}, \"2\": {\"2\": 1109, \"0\": 91}, \"14\": {\"14\": 1184, \"12\": 11, \"11\": 5}, \"4\": {\"4\": 583, \"5\": 130, \"15\": 177, \"6\": 102, \"1\": 159, \"13\": 18, \"7\": 30, \"11\": 1}, \"6\": {\"13\": 85, \"6\": 863, \"1\": 66, \"5\": 36, \"7\": 11, \"4\": 110, \"0\": 5, \"15\": 24}, \"15\": {\"15\": 889, \"1\": 190, \"11\": 21, \"4\": 78, \"6\": 20, \"5\": 2}, \"10\": {\"10\": 1123, \"7\": 19, \"0\": 22, \"8\": 13, \"13\": 22, \"5\": 1}, \"11\": {\"11\": 1074, \"9\": 79, \"15\": 26, \"14\": 14, \"1\": 3, \"12\": 4}, \"13\": {\"5\": 171, \"13\": 745, \"7\": 188, \"0\": 1, \"6\": 68, \"10\": 13, \"4\": 13, \"1\": 1}, \"9\": {\"9\": 959, \"12\": 85, \"11\": 153, \"14\": 2, \"15\": 1}, \"0\": {\"0\": 1036, \"10\": 57, \"2\": 102, \"13\": 3, \"5\": 1, \"1\": 1}, \"1\": {\"15\": 205, \"13\": 1, \"1\": 799, \"4\": 96, \"6\": 86, \"11\": 3, \"5\": 10}, \"12\": {\"12\": 1075, \"9\": 95, \"14\": 25, \"11\": 5}, \"5\": {\"1\": 47, \"6\": 85, \"13\": 194, \"7\": 220, \"10\": 10, \"5\": 495, \"4\": 147, \"15\": 1, \"0\": 1}}, \"ORACLE.run1_32\": {\"8\": {\"13\": 96, \"8\": 875, \"5\": 87, \"0\": 117, \"14\": 4, \"11\": 2, \"4\": 5, \"3\": 8, \"7\": 5, \"15\": 1}, \"14\": {\"14\": 616, \"11\": 271, \"7\": 178, \"0\": 46, \"4\": 9, \"3\": 8, \"5\": 29, \"13\": 34, \"2\": 5, \"8\": 4}, \"2\": {\"4\": 209, \"2\": 932, \"7\": 26, \"0\": 27, \"14\": 1, \"5\": 4, \"13\": 1}, \"0\": {\"14\": 26, \"0\": 868, \"8\": 113, \"5\": 26, \"7\": 47, \"4\": 55, \"2\": 47, \"13\": 18}, \"1\": {\"1\": 1189, \"10\": 11}, \"10\": {\"10\": 1194, \"1\": 6}, \"11\": {\"11\": 941, \"14\": 192, \"13\": 25, \"7\": 26, \"5\": 1, \"3\": 14, \"4\": 1}, \"5\": {\"7\": 139, \"5\": 487, \"13\": 262, \"8\": 65, \"4\": 114, \"3\": 51, \"14\": 20, \"0\": 43, \"11\": 5, \"2\": 14}, \"15\": {\"15\": 1192, \"8\": 8}, \"3\": {\"3\": 1088, \"13\": 61, \"5\": 20, \"11\": 16, \"14\": 6, \"8\": 9}, \"12\": {\"12\": 1200}, \"7\": {\"7\": 558, \"5\": 168, \"13\": 84, \"4\": 156, \"14\": 151, \"2\": 20, \"0\": 33, \"3\": 5, \"11\": 22, \"8\": 3}, \"13\": {\"8\": 70, \"13\": 607, \"0\": 25, \"4\": 94, \"5\": 201, \"14\": 26, \"3\": 97, \"11\": 17, \"7\": 63}, \"6\": {\"6\": 1200}, \"4\": {\"4\": 700, \"13\": 65, \"7\": 111, \"2\": 199, \"5\": 80, \"0\": 37, \"8\": 6, \"14\": 2}, \"9\": {\"9\": 1193, \"12\": 7}}, \"ORACLE.run1_26\": {\"4\": {\"8\": 109, \"4\": 493, \"0\": 169, \"10\": 63, \"1\": 90, \"14\": 196, \"7\": 77, \"15\": 1, \"9\": 1, \"2\": 1}, \"12\": {\"12\": 1199, \"11\": 1}, \"10\": {\"0\": 252, \"10\": 494, \"8\": 174, \"6\": 54, \"9\": 18, \"1\": 26, \"14\": 100, \"4\": 65, \"15\": 8, \"7\": 7, \"2\": 1, \"5\": 1}, \"0\": {\"8\": 124, \"0\": 347, \"10\": 303, \"1\": 26, \"14\": 180, \"4\": 169, \"9\": 16, \"7\": 18, \"6\": 12, \"15\": 5}, \"13\": {\"5\": 217, \"13\": 855, \"15\": 67, \"6\": 15, \"9\": 25, \"2\": 20, \"7\": 1}, \"9\": {\"9\": 500, \"15\": 334, \"6\": 151, \"0\": 11, \"10\": 23, \"5\": 37, \"8\": 103, \"2\": 8, \"13\": 25, \"3\": 1, \"7\": 5, \"4\": 1, \"14\": 1}, \"3\": {\"3\": 743, \"2\": 267, \"7\": 180, \"15\": 2, \"4\": 3, \"5\": 3, \"1\": 1, \"8\": 1}, \"2\": {\"2\": 487, \"7\": 107, \"3\": 358, \"5\": 114, \"4\": 5, \"15\": 61, \"8\": 42, \"13\": 11, \"9\": 14, \"0\": 1}, \"5\": {\"5\": 760, \"13\": 148, \"2\": 72, \"8\": 32, \"15\": 137, \"9\": 43, \"7\": 4, \"6\": 2, \"3\": 1, \"10\": 1}, \"14\": {\"0\": 188, \"14\": 411, \"1\": 215, \"4\": 208, \"10\": 125, \"7\": 18, \"8\": 35}, \"8\": {\"10\": 152, \"8\": 466, \"4\": 111, \"6\": 35, \"7\": 80, \"14\": 33, \"9\": 113, \"0\": 110, \"5\": 11, \"3\": 8, \"15\": 56, \"2\": 21, \"1\": 4}, \"7\": {\"7\": 592, \"2\": 129, \"4\": 98, \"0\": 20, \"8\": 85, \"3\": 224, \"14\": 18, \"5\": 3, \"15\": 21, \"1\": 5, \"10\": 4, \"9\": 1}, \"6\": {\"6\": 903, \"8\": 32, \"9\": 148, \"15\": 32, \"10\": 56, \"13\": 4, \"0\": 25}, \"11\": {\"11\": 1196, \"12\": 4}, \"15\": {\"7\": 31, \"15\": 465, \"8\": 93, \"6\": 43, \"5\": 140, \"13\": 53, \"10\": 12, \"9\": 314, \"2\": 39, \"0\": 5, \"4\": 3, \"3\": 2}, \"1\": {\"14\": 223, \"1\": 758, \"3\": 3, \"4\": 130, \"0\": 25, \"7\": 13, \"10\": 39, \"8\": 9}}, \"ORACLE.run1_44\": {\"12\": {\"10\": 49, \"12\": 905, \"1\": 235, \"3\": 11}, \"7\": {\"7\": 752, \"2\": 173, \"1\": 4, \"9\": 232, \"6\": 34, \"13\": 3, \"3\": 2}, \"5\": {\"5\": 1035, \"14\": 46, \"0\": 77, \"15\": 28, \"8\": 11, \"4\": 3}, \"15\": {\"15\": 959, \"5\": 41, \"0\": 73, \"14\": 92, \"4\": 14, \"8\": 21}, \"8\": {\"8\": 743, \"0\": 400, \"15\": 35, \"5\": 22}, \"2\": {\"2\": 890, \"7\": 175, \"10\": 79, \"1\": 49, \"3\": 4, \"9\": 3}, \"13\": {\"13\": 795, \"6\": 216, \"9\": 134, \"7\": 9, \"11\": 42, \"4\": 4}, \"4\": {\"4\": 888, \"14\": 296, \"5\": 2, \"15\": 12, \"9\": 1, \"13\": 1}, \"0\": {\"0\": 738, \"5\": 80, \"8\": 313, \"15\": 69}, \"6\": {\"9\": 114, \"13\": 235, \"6\": 796, \"7\": 41, \"11\": 12, \"2\": 2}, \"9\": {\"13\": 140, \"9\": 657, \"7\": 279, \"6\": 113, \"2\": 8, \"11\": 1, \"4\": 2}, \"11\": {\"11\": 1103, \"13\": 79, \"6\": 18}, \"10\": {\"10\": 883, \"2\": 114, \"1\": 114, \"12\": 86, \"3\": 2, \"7\": 1}, \"14\": {\"14\": 765, \"5\": 29, \"4\": 330, \"15\": 74, \"0\": 2}, \"1\": {\"10\": 75, \"1\": 722, \"12\": 188, \"3\": 156, \"2\": 58, \"7\": 1}, \"3\": {\"3\": 1038, \"12\": 17, \"1\": 144, \"2\": 1}}, \"CORES_3\": {\"43\": {\"43\": 128}, \"9\": {\"9\": 150}, \"6\": {\"6\": 71, \"15\": 2, \"36\": 1, \"8\": 4, \"46\": 1, \"18\": 4, \"20\": 1, \"30\": 4}, \"3\": {\"3\": 141, \"50\": 1, \"52\": 2}, \"16\": {\"16\": 134}, \"51\": {\"51\": 128}, \"31\": {\"31\": 28}, \"46\": {\"46\": 128, \"15\": 1, \"6\": 1, \"16\": 3, \"20\": 1}, \"19\": {\"19\": 124}, \"8\": {\"8\": 149, \"38\": 3}, \"18\": {\"18\": 84}, \"37\": {\"37\": 28}, \"24\": {\"24\": 101, \"10\": 3}, \"10\": {\"10\": 64}, \"44\": {\"44\": 88}, \"14\": {\"14\": 24, \"22\": 7, \"42\": 1, \"29\": 2, \"1\": 1, \"34\": 4, \"47\": 1}, \"38\": {\"38\": 28}, \"53\": {\"53\": 140}, \"20\": {\"20\": 132}, \"32\": {\"32\": 28}, \"36\": {\"36\": 100}, \"33\": {\"33\": 28}, \"56\": {\"56\": 136}, \"23\": {\"23\": 130}, \"54\": {\"54\": 100}, \"21\": {\"21\": 126}, \"28\": {\"28\": 27, \"42\": 1}, \"26\": {\"26\": 24}, \"48\": {\"48\": 116}, \"52\": {\"52\": 117, \"25\": 1}, \"39\": {\"39\": 16}, \"22\": {\"22\": 140}, \"13\": {\"13\": 128}, \"2\": {\"2\": 32}, \"34\": {\"34\": 32}, \"27\": {\"27\": 132}, \"45\": {\"45\": 59, \"4\": 1}, \"35\": {\"35\": 26, \"1\": 2}, \"29\": {\"29\": 121, \"1\": 4, \"19\": 1, \"9\": 1, \"14\": 1}, \"25\": {\"25\": 143, \"52\": 1}, \"0\": {\"0\": 124}, \"41\": {\"41\": 28}, \"11\": {\"11\": 142}, \"5\": {\"5\": 103, \"39\": 2, \"47\": 1, \"23\": 2}, \"1\": {\"1\": 99, \"35\": 1}, \"57\": {\"57\": 116}, \"17\": {\"17\": 106, \"10\": 1, \"24\": 1}, \"7\": {\"7\": 36}, \"12\": {\"12\": 92}, \"47\": {\"47\": 91, \"5\": 1}, \"40\": {\"40\": 136}, \"15\": {\"15\": 142}, \"42\": {\"42\": 28}, \"55\": {\"55\": 150}, \"49\": {\"49\": 20}, \"30\": {\"30\": 116, \"2\": 1, \"6\": 2, \"38\": 1}, \"50\": {\"50\": 131, \"25\": 1, \"53\": 2}, \"4\": {\"4\": 136}}, \"CORES_4\": {\"35\": {\"35\": 40}, \"25\": {\"25\": 133, \"3\": 1}, \"24\": {\"24\": 56}, \"48\": {\"48\": 138}, \"51\": {\"51\": 144}, \"13\": {\"13\": 120}, \"14\": {\"35\": 3, \"14\": 8, \"1\": 1, \"57\": 1, \"56\": 3}, \"32\": {\"32\": 24}, \"30\": {\"30\": 44}, \"34\": {\"34\": 24}, \"9\": {\"9\": 136}, \"1\": {\"1\": 40}, \"0\": {\"32\": 6, \"0\": 58, \"2\": 2, \"22\": 1, \"21\": 1, \"46\": 6, \"47\": 2, \"8\": 1, \"54\": 1, \"56\": 2}, \"38\": {\"38\": 40}, \"22\": {\"22\": 128}, \"40\": {\"40\": 120}, \"6\": {\"6\": 108, \"50\": 2, \"51\": 1, \"3\": 1}, \"16\": {\"16\": 95, \"15\": 1}, \"11\": {\"11\": 102, \"15\": 2}, \"20\": {\"20\": 122}, \"17\": {\"17\": 80}, \"26\": {\"26\": 24}, \"54\": {\"54\": 108}, \"55\": {\"55\": 154}, \"50\": {\"50\": 109, \"53\": 9, \"25\": 5, \"21\": 2, \"55\": 1, \"3\": 3, \"6\": 3}, \"19\": {\"19\": 142}, \"44\": {\"44\": 122}, \"47\": {\"47\": 119, \"5\": 1}, \"33\": {\"33\": 36}, \"5\": {\"5\": 107, \"47\": 1}, \"18\": {\"18\": 108}, \"21\": {\"21\": 121, \"20\": 2, \"50\": 1}, \"41\": {\"41\": 36}, \"23\": {\"23\": 128}, \"39\": {\"39\": 20}, \"37\": {\"37\": 24}, \"8\": {\"8\": 144}, \"49\": {\"49\": 20}, \"53\": {\"53\": 140}, \"31\": {\"31\": 28}, \"28\": {\"28\": 32}, \"3\": {\"3\": 106, \"50\": 3, \"21\": 2, \"25\": 12, \"20\": 1}, \"27\": {\"27\": 136, \"48\": 2}, \"46\": {\"46\": 123, \"32\": 2, \"47\": 2, \"22\": 1}, \"12\": {\"12\": 92}, \"7\": {\"7\": 24}, \"4\": {\"4\": 132}, \"42\": {\"42\": 32}, \"43\": {\"43\": 130}, \"29\": {\"29\": 118, \"45\": 1, \"9\": 1}, \"57\": {\"57\": 100}, \"52\": {\"52\": 104}, \"45\": {\"45\": 96}, \"36\": {\"36\": 92}, \"10\": {\"10\": 126}, \"15\": {\"15\": 131, \"11\": 3}, \"56\": {\"56\": 122, \"28\": 1, \"55\": 1}, \"2\": {\"2\": 36}}, \"CORES_5\": {\"47\": {\"47\": 100}, \"53\": {\"53\": 150}, \"29\": {\"29\": 126}, \"52\": {\"52\": 130}, \"55\": {\"55\": 144}, \"17\": {\"17\": 116}, \"42\": {\"42\": 40}, \"33\": {\"33\": 32}, \"11\": {\"11\": 148}, \"19\": {\"19\": 118}, \"1\": {\"1\": 143, \"30\": 1}, \"44\": {\"44\": 138, \"5\": 1, \"19\": 3}, \"49\": {\"49\": 36}, \"4\": {\"4\": 98, \"45\": 2}, \"6\": {\"6\": 114, \"8\": 1, \"17\": 1}, \"39\": {\"39\": 20}, \"50\": {\"50\": 127, \"21\": 8, \"25\": 5, \"53\": 6, \"23\": 1, \"51\": 1}, \"56\": {\"56\": 130}, \"25\": {\"25\": 144}, \"28\": {\"28\": 32}, \"35\": {\"35\": 36}, \"24\": {\"24\": 79, \"43\": 1}, \"21\": {\"21\": 132}, \"45\": {\"45\": 115, \"9\": 4, \"17\": 1, \"4\": 3, \"48\": 1}, \"16\": {\"16\": 141, \"15\": 1, \"11\": 2}, \"37\": {\"37\": 24}, \"57\": {\"57\": 132}, \"34\": {\"34\": 36}, \"38\": {\"38\": 32}, \"48\": {\"48\": 127, \"9\": 3}, \"26\": {\"26\": 24}, \"9\": {\"9\": 147, \"17\": 1, \"48\": 4}, \"18\": {\"18\": 64}, \"3\": {\"3\": 87, \"46\": 7, \"11\": 1, \"49\": 1, \"47\": 2, \"31\": 2}, \"23\": {\"23\": 124}, \"15\": {\"15\": 153, \"43\": 1}, \"10\": {\"10\": 68}, \"46\": {\"46\": 147, \"3\": 1}, \"22\": {\"22\": 25, \"36\": 2, \"19\": 1}, \"54\": {\"54\": 112}, \"27\": {\"27\": 157, \"32\": 3}, \"41\": {\"41\": 24, \"3\": 2, \"47\": 2}, \"31\": {\"31\": 36}, \"0\": {\"0\": 124}, \"7\": {\"7\": 32}, \"2\": {\"2\": 25, \"49\": 2, \"47\": 1}, \"14\": {\"14\": 23, \"47\": 1, \"28\": 4, \"36\": 4, \"46\": 4, \"31\": 3, \"34\": 1, \"57\": 3, \"40\": 1}, \"40\": {\"40\": 119, \"9\": 2, \"19\": 1, \"29\": 1, \"34\": 1}, \"5\": {\"5\": 125, \"19\": 2, \"44\": 1}, \"12\": {\"12\": 96}, \"43\": {\"43\": 140, \"15\": 2}, \"13\": {\"13\": 148}, \"36\": {\"36\": 92}, \"8\": {\"8\": 150}, \"32\": {\"32\": 32}, \"30\": {\"30\": 128}, \"51\": {\"51\": 138}, \"20\": {\"20\": 138}}, \"CORES_1\": {\"46\": {\"46\": 140}, \"16\": {\"16\": 134}, \"26\": {\"26\": 24}, \"10\": {\"10\": 96}, \"9\": {\"9\": 156}, \"28\": {\"28\": 28}, \"51\": {\"51\": 152, \"41\": 4}, \"1\": {\"1\": 99, \"57\": 1}, \"55\": {\"55\": 148}, \"27\": {\"27\": 124}, \"22\": {\"22\": 102, \"10\": 7, \"24\": 11, \"23\": 1, \"11\": 2, \"52\": 1}, \"52\": {\"52\": 126}, \"3\": {\"3\": 138, \"13\": 2}, \"33\": {\"33\": 32}, \"47\": {\"47\": 120}, \"42\": {\"42\": 40}, \"12\": {\"12\": 103, \"51\": 7, \"3\": 1, \"53\": 3, \"13\": 1, \"46\": 1}, \"23\": {\"23\": 130, \"21\": 2}, \"49\": {\"49\": 32}, \"7\": {\"7\": 28}, \"4\": {\"4\": 132}, \"50\": {\"50\": 134}, \"19\": {\"19\": 154}, \"11\": {\"11\": 140}, \"31\": {\"31\": 28}, \"41\": {\"41\": 22, \"51\": 2}, \"56\": {\"19\": 6, \"56\": 120, \"44\": 3, \"57\": 7, \"1\": 2}, \"0\": {\"0\": 148}, \"57\": {\"57\": 122, \"35\": 1, \"1\": 2, \"19\": 2, \"56\": 1}, \"53\": {\"53\": 140}, \"43\": {\"43\": 144}, \"37\": {\"37\": 32}, \"2\": {\"2\": 36}, \"6\": {\"6\": 91, \"48\": 4, \"5\": 1}, \"13\": {\"13\": 150}, \"18\": {\"18\": 72}, \"36\": {\"36\": 64}, \"29\": {\"29\": 140}, \"39\": {\"39\": 28}, \"17\": {\"17\": 64}, \"21\": {\"21\": 120, \"11\": 2, \"23\": 2}, \"25\": {\"25\": 132}, \"45\": {\"45\": 136, \"17\": 1, \"42\": 2, \"55\": 3}, \"38\": {\"38\": 24}, \"30\": {\"30\": 116, \"9\": 4}, \"24\": {\"24\": 94, \"10\": 1, \"11\": 3, \"22\": 9, \"21\": 1}, \"20\": {\"20\": 140}, \"8\": {\"8\": 140}, \"35\": {\"35\": 36}, \"54\": {\"54\": 104}, \"5\": {\"5\": 146, \"6\": 2}, \"48\": {\"48\": 144}, \"15\": {\"15\": 142}, \"34\": {\"34\": 24}, \"14\": {\"54\": 3, \"14\": 10, \"5\": 1, \"25\": 2, \"7\": 1, \"8\": 3, \"51\": 1, \"53\": 1, \"30\": 1, \"20\": 1}, \"32\": {\"32\": 32}, \"40\": {\"40\": 147, \"4\": 1}, \"44\": {\"44\": 107, \"29\": 7, \"56\": 4, \"57\": 13, \"1\": 3, \"19\": 2}}, \"CORES_2\": {\"36\": {\"36\": 116}, \"5\": {\"5\": 115, \"47\": 5}, \"45\": {\"4\": 2, \"45\": 126}, \"49\": {\"49\": 24}, \"50\": {\"50\": 136}, \"4\": {\"4\": 138}, \"43\": {\"43\": 148}, \"41\": {\"41\": 20}, \"37\": {\"37\": 36}, \"12\": {\"12\": 92}, \"33\": {\"33\": 28}, \"7\": {\"7\": 34, \"15\": 2}, \"56\": {\"56\": 140}, \"14\": {\"14\": 16, \"22\": 2, \"42\": 2, \"29\": 1, \"55\": 2, \"1\": 1}, \"52\": {\"52\": 124}, \"44\": {\"44\": 94, \"40\": 2}, \"48\": {\"48\": 144}, \"20\": {\"20\": 128}, \"55\": {\"55\": 144}, \"32\": {\"32\": 28}, \"40\": {\"40\": 131, \"4\": 1, \"29\": 2, \"35\": 1, \"9\": 1}, \"54\": {\"54\": 108}, \"17\": {\"17\": 104}, \"38\": {\"38\": 20}, \"24\": {\"24\": 96}, \"1\": {\"1\": 112}, \"6\": {\"6\": 123, \"8\": 1}, \"34\": {\"34\": 28}, \"11\": {\"11\": 134, \"16\": 2}, \"9\": {\"9\": 150}, \"8\": {\"8\": 152}, \"22\": {\"22\": 135, \"55\": 1}, \"26\": {\"26\": 24}, \"23\": {\"23\": 146}, \"10\": {\"10\": 112}, \"18\": {\"18\": 48}, \"13\": {\"13\": 116}, \"30\": {\"30\": 119, \"23\": 4, \"8\": 1, \"27\": 1, \"12\": 1, \"15\": 2}, \"42\": {\"42\": 36}, \"31\": {\"31\": 28}, \"46\": {\"46\": 119, \"6\": 3, \"15\": 1, \"16\": 4, \"12\": 1}, \"57\": {\"57\": 142}, \"47\": {\"47\": 137, \"39\": 1}, \"35\": {\"35\": 32}, \"15\": {\"15\": 132}, \"25\": {\"25\": 136}, \"19\": {\"19\": 136}, \"51\": {\"51\": 128}, \"53\": {\"53\": 133, \"51\": 1}, \"21\": {\"21\": 120}, \"39\": {\"39\": 28}, \"2\": {\"2\": 32}, \"16\": {\"16\": 150}, \"0\": {\"0\": 48}, \"3\": {\"3\": 86, \"53\": 6}, \"27\": {\"27\": 142}, \"28\": {\"28\": 28}, \"29\": {\"29\": 128}}}, \"per_domain_accuracy\": {\"ORACLE.run1_14\": {\"accuracy\": 0.81328125, \"source?\": true}, \"ORACLE.run1_20\": {\"accuracy\": 0.65359375, \"source?\": true}, \"ORACLE.run1_38\": {\"accuracy\": 0.80546875, \"source?\": true}, \"ORACLE.run1_8\": {\"accuracy\": 0.6954166666666667, \"source?\": true}, \"ORACLE.run1_50\": {\"accuracy\": 0.7831770833333334, \"source?\": true}, \"ORACLE.run1_32\": {\"accuracy\": 0.7729166666666667, \"source?\": true}, \"ORACLE.run1_26\": {\"accuracy\": 0.5556770833333333, \"source?\": true}, \"ORACLE.run1_44\": {\"accuracy\": 0.7119270833333333, \"source?\": true}, \"CORES_3\": {\"accuracy\": 0.9860101744186046, \"source?\": false}, \"CORES_4\": {\"accuracy\": 0.981439393939394, \"source?\": false}, \"CORES_5\": {\"accuracy\": 0.9807960893854749, \"source?\": false}, \"CORES_1\": {\"accuracy\": 0.9745560109289617, \"source?\": false}, \"CORES_2\": {\"accuracy\": 0.9904661016949152, \"source?\": false}}}, \"history\": {\"epoch_indices\": [1, 2, 3, 4, 5, 6, 7, 8, 9, 10, 11, 12, 13, 14, 15, 16, 17, 18, 19, 20, 21], \"train_label_loss\": [1.0881568495264011, 0.836507260268554, 0.7488346497949567, 0.6663349441833617, 0.6031668750496049, 0.5504404137241432, 0.5030147590044709, 0.4615316226171507, 0.42507125645526683, 0.3930638100019479, 0.36506199704181025, 0.33866372871154454, 0.31414519364691973, 0.2927861466256824, 0.27332043391297617, 0.2552209539855609, 0.23697004156993423, 0.22259897592669795, 0.20800827379544248, 0.19572782941927602, 0.18416354810971824], \"source_val_label_loss\": [0.9300221800804138, 0.8646792769432068, 0.802205502986908, 0.7595951557159424, 0.7536260485649109, 0.7546022534370422, 0.7521455883979797, 0.7577707171440125, 0.7644143104553223, 0.7837474346160889, 0.8099909424781799, 0.8376718759536743, 0.8553931713104248, 0.8764462471008301, 0.8974096775054932, 0.9285404682159424, 0.9506164789199829, 0.9810400605201721, 1.0192726850509644, 1.034878134727478, 1.0651756525039673], \"target_val_label_loss\": [0.16391398012638092, 0.18981586396694183, 0.22837112843990326, 0.21264128386974335, 0.20656684041023254, 0.22693495452404022, 0.21938154101371765, 0.21740522980690002, 0.2318720817565918, 0.24758762121200562, 0.2535768747329712, 0.24957016110420227, 0.2734955847263336, 0.27354273200035095, 0.27713581919670105, 0.2941158413887024, 0.301741361618042, 0.30774545669555664, 0.3170340061187744, 0.32472312450408936, 0.34653234481811523], \"source_val_acc_label\": [0.651171875, 0.6711197916666667, 0.70271484375, 0.7217903645833333, 0.7260221354166667, 0.7276888020833333, 0.7331901041666666, 0.7321809895833333, 0.7337760416666667, 0.7317252604166666, 0.7280403645833333, 0.7302864583333334, 0.7258658854166666, 0.7289908854166667, 0.72380859375, 0.7193684895833333, 0.7239322916666666, 0.7217643229166667, 0.7206510416666667, 0.7196419270833333, 0.7176041666666667], \"target_val_acc_label\": [0.966859303652968, 0.9672160388127854, 0.9663598744292238, 0.974279394977169, 0.9779894406392694, 0.9778110730593608, 0.9806649543378996, 0.9808076484018264, 0.9808433219178082, 0.9811643835616438, 0.9811643835616438, 0.9815211187214612, 0.9809503424657534, 0.9819848744292238, 0.982484303652968, 0.9813070776255708, 0.9825913242009132, 0.9816994863013698, 0.9817351598173516, 0.9822345890410958, 0.9815924657534246]}, \"dataset_metrics\": {\"source\": {\"train\": {\"n_unique_x\": 896000, \"n_unique_y\": 16, \"n_batch/episode\": 33600}, \"val\": {\"n_unique_x\": 192000, \"n_unique_y\": 16, \"n_batch/episode\": 4800}, \"test\": {\"n_unique_x\": 192000, \"n_unique_y\": 16, \"n_batch/episode\": 4800}}, \"target\": {\"train\": {\"n_unique_x\": 175212, \"n_unique_y\": 58, \"n_batch/episode\": 6322}, \"val\": {\"n_unique_x\": 37196, \"n_unique_y\": 58, \"n_batch/episode\": 876}, \"test\": {\"n_unique_x\": 37634, \"n_unique_y\": 58, \"n_batch/episode\": 891}}}}'"
      ]
     },
     "execution_count": 29,
     "metadata": {},
     "output_type": "execute_result"
    }
   ],
   "source": [
    "json.dumps(experiment)"
   ]
  }
 ],
 "metadata": {
  "celltoolbar": "Tags",
  "kernelspec": {
   "display_name": "Python 3 (ipykernel)",
   "language": "python",
   "name": "python3"
  },
  "language_info": {
   "codemirror_mode": {
    "name": "ipython",
    "version": 3
   },
   "file_extension": ".py",
   "mimetype": "text/x-python",
   "name": "python",
   "nbconvert_exporter": "python",
   "pygments_lexer": "ipython3",
   "version": "3.8.12"
  },
  "papermill": {
   "default_parameters": {},
   "duration": 25046.054098,
   "end_time": "2022-03-21T18:40:17.396194",
   "environment_variables": {},
   "exception": null,
   "input_path": "/root/csc500-main/csc500-notebooks/templates/tl_ptn_template.ipynb",
   "output_path": "trial.ipynb",
   "parameters": {
    "parameters": {
     "BEST_MODEL_PATH": "./best_model.pth",
     "NUM_LOGS_PER_EPOCH": 10,
     "criteria_for_best": "target_accuracy",
     "dataset_seed": 1337,
     "datasets": [
      {
       "domain_prefix": "CORES_",
       "domains": [
        1,
        2,
        3,
        4,
        5
       ],
       "episode_transforms": [],
       "labels": [
        "1-10.",
        "1-11.",
        "1-15.",
        "1-16.",
        "1-17.",
        "1-18.",
        "1-19.",
        "10-4.",
        "10-7.",
        "11-1.",
        "11-14.",
        "11-17.",
        "11-20.",
        "11-7.",
        "13-20.",
        "13-8.",
        "14-10.",
        "14-11.",
        "14-14.",
        "14-7.",
        "15-1.",
        "15-20.",
        "16-1.",
        "16-16.",
        "17-10.",
        "17-11.",
        "17-2.",
        "19-1.",
        "19-16.",
        "19-19.",
        "19-20.",
        "19-3.",
        "2-10.",
        "2-11.",
        "2-17.",
        "2-18.",
        "2-20.",
        "2-3.",
        "2-4.",
        "2-5.",
        "2-6.",
        "2-7.",
        "2-8.",
        "3-13.",
        "3-18.",
        "3-3.",
        "4-1.",
        "4-10.",
        "4-11.",
        "4-19.",
        "5-5.",
        "6-15.",
        "7-10.",
        "7-14.",
        "8-18.",
        "8-20.",
        "8-3.",
        "8-8."
       ],
       "num_examples_per_domain_per_label": -1,
       "pickle_path": "/root/csc500-main/datasets/cores.stratified_ds.2022A.pkl",
       "source_or_target_dataset": "target",
       "x_transforms": [
        "unit_mag"
       ]
      },
      {
       "domain_prefix": "ORACLE.run1_",
       "domains": [
        32,
        38,
        8,
        44,
        14,
        50,
        20,
        26
       ],
       "episode_transforms": [],
       "labels": [
        "3123D52",
        "3123D65",
        "3123D79",
        "3123D80",
        "3123D54",
        "3123D70",
        "3123D7B",
        "3123D89",
        "3123D58",
        "3123D76",
        "3123D7D",
        "3123EFE",
        "3123D64",
        "3123D78",
        "3123D7E",
        "3124E4A"
       ],
       "num_examples_per_domain_per_label": 10000,
       "pickle_path": "/root/csc500-main/datasets/oracle.Run1_10kExamples_stratified_ds.2022A.pkl",
       "source_or_target_dataset": "source",
       "x_transforms": [
        "unit_mag"
       ]
      }
     ],
     "device": "cuda",
     "experiment_name": "tl_1v2:cores-oracle.run1",
     "lr": 0.0001,
     "n_epoch": 50,
     "n_query": 2,
     "n_shot": 3,
     "n_way": 16,
     "patience": 3,
     "seed": 1337,
     "test_k_factor": 2,
     "torch_default_dtype": "torch.float32",
     "train_k_factor": 3,
     "val_k_factor": 2,
     "x_net": [
      {
       "class": "nnReshape",
       "kargs": {
        "shape": [
         -1,
         1,
         2,
         256
        ]
       }
      },
      {
       "class": "Conv2d",
       "kargs": {
        "bias": false,
        "in_channels": 1,
        "kernel_size": [
         1,
         7
        ],
        "out_channels": 256,
        "padding": [
         0,
         3
        ]
       }
      },
      {
       "class": "ReLU",
       "kargs": {
        "inplace": true
       }
      },
      {
       "class": "BatchNorm2d",
       "kargs": {
        "num_features": 256
       }
      },
      {
       "class": "Conv2d",
       "kargs": {
        "bias": true,
        "in_channels": 256,
        "kernel_size": [
         2,
         7
        ],
        "out_channels": 80,
        "padding": [
         0,
         3
        ]
       }
      },
      {
       "class": "ReLU",
       "kargs": {
        "inplace": true
       }
      },
      {
       "class": "BatchNorm2d",
       "kargs": {
        "num_features": 80
       }
      },
      {
       "class": "Flatten",
       "kargs": {}
      },
      {
       "class": "Linear",
       "kargs": {
        "in_features": 20480,
        "out_features": 256
       }
      },
      {
       "class": "ReLU",
       "kargs": {
        "inplace": true
       }
      },
      {
       "class": "BatchNorm1d",
       "kargs": {
        "num_features": 256
       }
      },
      {
       "class": "Linear",
       "kargs": {
        "in_features": 256,
        "out_features": 256
       }
      }
     ]
    }
   },
   "start_time": "2022-03-21T11:42:51.342096",
   "version": "2.3.4"
  }
 },
 "nbformat": 4,
 "nbformat_minor": 5
}