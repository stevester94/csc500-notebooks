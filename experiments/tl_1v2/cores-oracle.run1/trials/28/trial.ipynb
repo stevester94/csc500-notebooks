{
 "cells": [
  {
   "cell_type": "markdown",
   "id": "9fea5f46",
   "metadata": {
    "papermill": {
     "duration": 0.029279,
     "end_time": "2022-03-23T13:30:53.031708",
     "exception": false,
     "start_time": "2022-03-23T13:30:53.002429",
     "status": "completed"
    },
    "tags": []
   },
   "source": [
    "# Transfer Learning Template"
   ]
  },
  {
   "cell_type": "code",
   "execution_count": 1,
   "id": "0902182a",
   "metadata": {
    "execution": {
     "iopub.execute_input": "2022-03-23T13:30:53.096738Z",
     "iopub.status.busy": "2022-03-23T13:30:53.095886Z",
     "iopub.status.idle": "2022-03-23T13:30:54.926935Z",
     "shell.execute_reply": "2022-03-23T13:30:54.926459Z"
    },
    "papermill": {
     "duration": 1.871163,
     "end_time": "2022-03-23T13:30:54.927037",
     "exception": false,
     "start_time": "2022-03-23T13:30:53.055874",
     "status": "completed"
    },
    "tags": []
   },
   "outputs": [],
   "source": [
    "%load_ext autoreload\n",
    "%autoreload 2\n",
    "%matplotlib inline\n",
    "\n",
    "    \n",
    "import os, json, sys, time, random\n",
    "import numpy as np\n",
    "import torch\n",
    "from torch.optim import Adam\n",
    "from  easydict import EasyDict\n",
    "import matplotlib.pyplot as plt\n",
    "\n",
    "from steves_models.steves_ptn import Steves_Prototypical_Network\n",
    "\n",
    "from steves_utils.lazy_iterable_wrapper import Lazy_Iterable_Wrapper\n",
    "from steves_utils.iterable_aggregator import Iterable_Aggregator\n",
    "from steves_utils.ptn_train_eval_test_jig import  PTN_Train_Eval_Test_Jig\n",
    "from steves_utils.torch_sequential_builder import build_sequential\n",
    "from steves_utils.torch_utils import get_dataset_metrics, ptn_confusion_by_domain_over_dataloader\n",
    "from steves_utils.utils_v2 import (per_domain_accuracy_from_confusion, get_datasets_base_path)\n",
    "from steves_utils.PTN.utils import independent_accuracy_assesment\n",
    "\n",
    "from torch.utils.data import DataLoader\n",
    "\n",
    "from steves_utils.stratified_dataset.episodic_accessor import Episodic_Accessor_Factory\n",
    "\n",
    "from steves_utils.ptn_do_report import (\n",
    "    get_loss_curve,\n",
    "    get_results_table,\n",
    "    get_parameters_table,\n",
    "    get_domain_accuracies,\n",
    ")\n",
    "\n",
    "from steves_utils.transforms import get_chained_transform"
   ]
  },
  {
   "cell_type": "markdown",
   "id": "41c840b4",
   "metadata": {
    "papermill": {
     "duration": 0.019555,
     "end_time": "2022-03-23T13:30:54.966840",
     "exception": false,
     "start_time": "2022-03-23T13:30:54.947285",
     "status": "completed"
    },
    "tags": []
   },
   "source": [
    "# Allowed Parameters\n",
    "These are allowed parameters, not defaults\n",
    "Each of these values need to be present in the injected parameters (the notebook will raise an exception if they are not present)\n",
    "\n",
    "Papermill uses the cell tag \"parameters\" to inject the real parameters below this cell.\n",
    "Enable tags to see what I mean"
   ]
  },
  {
   "cell_type": "code",
   "execution_count": 2,
   "id": "fd44eb83",
   "metadata": {
    "execution": {
     "iopub.execute_input": "2022-03-23T13:30:55.013658Z",
     "iopub.status.busy": "2022-03-23T13:30:55.011908Z",
     "iopub.status.idle": "2022-03-23T13:30:55.035652Z",
     "shell.execute_reply": "2022-03-23T13:30:55.034834Z"
    },
    "papermill": {
     "duration": 0.049497,
     "end_time": "2022-03-23T13:30:55.035804",
     "exception": false,
     "start_time": "2022-03-23T13:30:54.986307",
     "status": "completed"
    },
    "tags": []
   },
   "outputs": [],
   "source": [
    "required_parameters = {\n",
    "    \"experiment_name\",\n",
    "    \"lr\",\n",
    "    \"device\",\n",
    "    \"seed\",\n",
    "    \"dataset_seed\",\n",
    "    \"n_shot\",\n",
    "    \"n_query\",\n",
    "    \"n_way\",\n",
    "    \"train_k_factor\",\n",
    "    \"val_k_factor\",\n",
    "    \"test_k_factor\",\n",
    "    \"n_epoch\",\n",
    "    \"patience\",\n",
    "    \"criteria_for_best\",\n",
    "    \"x_net\",\n",
    "    \"datasets\",\n",
    "    \"torch_default_dtype\",\n",
    "    \"NUM_LOGS_PER_EPOCH\",\n",
    "    \"BEST_MODEL_PATH\",\n",
    "    \"x_shape\",\n",
    "}"
   ]
  },
  {
   "cell_type": "code",
   "execution_count": 3,
   "id": "fa3f0049",
   "metadata": {
    "execution": {
     "iopub.execute_input": "2022-03-23T13:30:55.097544Z",
     "iopub.status.busy": "2022-03-23T13:30:55.096832Z",
     "iopub.status.idle": "2022-03-23T13:30:55.121559Z",
     "shell.execute_reply": "2022-03-23T13:30:55.120755Z"
    },
    "papermill": {
     "duration": 0.057261,
     "end_time": "2022-03-23T13:30:55.121710",
     "exception": false,
     "start_time": "2022-03-23T13:30:55.064449",
     "status": "completed"
    },
    "tags": [
     "parameters"
    ]
   },
   "outputs": [],
   "source": [
    "from steves_utils.CORES.utils import (\n",
    "    ALL_NODES,\n",
    "    ALL_NODES_MINIMUM_1000_EXAMPLES,\n",
    "    ALL_DAYS\n",
    ")\n",
    "\n",
    "from steves_utils.ORACLE.utils_v2 import (\n",
    "    ALL_DISTANCES_FEET_NARROWED,\n",
    "    ALL_RUNS,\n",
    "    ALL_SERIAL_NUMBERS,\n",
    ")\n",
    "\n",
    "standalone_parameters = {}\n",
    "standalone_parameters[\"experiment_name\"] = \"STANDALONE PTN\"\n",
    "standalone_parameters[\"lr\"] = 0.001\n",
    "standalone_parameters[\"device\"] = \"cuda\"\n",
    "\n",
    "standalone_parameters[\"seed\"] = 1337\n",
    "standalone_parameters[\"dataset_seed\"] = 1337\n",
    "\n",
    "standalone_parameters[\"n_way\"] = 8\n",
    "standalone_parameters[\"n_shot\"] = 3\n",
    "standalone_parameters[\"n_query\"]  = 2\n",
    "standalone_parameters[\"train_k_factor\"] = 1\n",
    "standalone_parameters[\"val_k_factor\"] = 2\n",
    "standalone_parameters[\"test_k_factor\"] = 2\n",
    "\n",
    "\n",
    "standalone_parameters[\"n_epoch\"] = 50\n",
    "\n",
    "standalone_parameters[\"patience\"] = 10\n",
    "standalone_parameters[\"criteria_for_best\"] = \"source_loss\"\n",
    "\n",
    "standalone_parameters[\"datasets\"] = [\n",
    "    {\n",
    "        \"labels\": ALL_SERIAL_NUMBERS,\n",
    "        \"domains\": ALL_DISTANCES_FEET_NARROWED,\n",
    "        \"num_examples_per_domain_per_label\": 100,\n",
    "        \"pickle_path\": os.path.join(get_datasets_base_path(), \"oracle.Run1_framed_2000Examples_stratified_ds.2022A.pkl\"),\n",
    "        \"source_or_target_dataset\": \"source\",\n",
    "        \"x_transforms\": [\"unit_mag\", \"minus_two\"],\n",
    "        \"episode_transforms\": [],\n",
    "        \"domain_prefix\": \"ORACLE_\"\n",
    "    },\n",
    "    {\n",
    "        \"labels\": ALL_NODES,\n",
    "        \"domains\": ALL_DAYS,\n",
    "        \"num_examples_per_domain_per_label\": 100,\n",
    "        \"pickle_path\": os.path.join(get_datasets_base_path(), \"cores.stratified_ds.2022A.pkl\"),\n",
    "        \"source_or_target_dataset\": \"target\",\n",
    "        \"x_transforms\": [\"unit_power\", \"times_zero\"],\n",
    "        \"episode_transforms\": [],\n",
    "        \"domain_prefix\": \"CORES_\"\n",
    "    }   \n",
    "]\n",
    "\n",
    "standalone_parameters[\"torch_default_dtype\"] = \"torch.float32\" \n",
    "\n",
    "\n",
    "\n",
    "standalone_parameters[\"x_net\"] =     [\n",
    "    {\"class\": \"nnReshape\", \"kargs\": {\"shape\":[-1, 1, 2, 256]}},\n",
    "    {\"class\": \"Conv2d\", \"kargs\": { \"in_channels\":1, \"out_channels\":256, \"kernel_size\":(1,7), \"bias\":False, \"padding\":(0,3), },},\n",
    "    {\"class\": \"ReLU\", \"kargs\": {\"inplace\": True}},\n",
    "    {\"class\": \"BatchNorm2d\", \"kargs\": {\"num_features\":256}},\n",
    "\n",
    "    {\"class\": \"Conv2d\", \"kargs\": { \"in_channels\":256, \"out_channels\":80, \"kernel_size\":(2,7), \"bias\":True, \"padding\":(0,3), },},\n",
    "    {\"class\": \"ReLU\", \"kargs\": {\"inplace\": True}},\n",
    "    {\"class\": \"BatchNorm2d\", \"kargs\": {\"num_features\":80}},\n",
    "    {\"class\": \"Flatten\", \"kargs\": {}},\n",
    "\n",
    "    {\"class\": \"Linear\", \"kargs\": {\"in_features\": 80*256, \"out_features\": 256}}, # 80 units per IQ pair\n",
    "    {\"class\": \"ReLU\", \"kargs\": {\"inplace\": True}},\n",
    "    {\"class\": \"BatchNorm1d\", \"kargs\": {\"num_features\":256}},\n",
    "\n",
    "    {\"class\": \"Linear\", \"kargs\": {\"in_features\": 256, \"out_features\": 256}},\n",
    "]\n",
    "\n",
    "# Parameters relevant to results\n",
    "# These parameters will basically never need to change\n",
    "standalone_parameters[\"NUM_LOGS_PER_EPOCH\"] = 10\n",
    "standalone_parameters[\"BEST_MODEL_PATH\"] = \"./best_model.pth\"\n",
    "\n",
    "\n",
    "\n",
    "\n"
   ]
  },
  {
   "cell_type": "code",
   "execution_count": 4,
   "id": "23e6ba34",
   "metadata": {
    "execution": {
     "iopub.execute_input": "2022-03-23T13:30:55.182297Z",
     "iopub.status.busy": "2022-03-23T13:30:55.181327Z",
     "iopub.status.idle": "2022-03-23T13:30:55.204743Z",
     "shell.execute_reply": "2022-03-23T13:30:55.203933Z"
    },
    "papermill": {
     "duration": 0.057533,
     "end_time": "2022-03-23T13:30:55.204894",
     "exception": false,
     "start_time": "2022-03-23T13:30:55.147361",
     "status": "completed"
    },
    "tags": [
     "injected-parameters"
    ]
   },
   "outputs": [],
   "source": [
    "# Parameters\n",
    "parameters = {\n",
    "    \"experiment_name\": \"tl_1v2:cores-oracle.run1\",\n",
    "    \"device\": \"cuda\",\n",
    "    \"lr\": 0.0001,\n",
    "    \"n_shot\": 3,\n",
    "    \"n_query\": 2,\n",
    "    \"train_k_factor\": 3,\n",
    "    \"val_k_factor\": 2,\n",
    "    \"test_k_factor\": 2,\n",
    "    \"torch_default_dtype\": \"torch.float32\",\n",
    "    \"n_epoch\": 50,\n",
    "    \"patience\": 3,\n",
    "    \"criteria_for_best\": \"target_accuracy\",\n",
    "    \"x_net\": [\n",
    "        {\"class\": \"nnReshape\", \"kargs\": {\"shape\": [-1, 1, 2, 256]}},\n",
    "        {\n",
    "            \"class\": \"Conv2d\",\n",
    "            \"kargs\": {\n",
    "                \"in_channels\": 1,\n",
    "                \"out_channels\": 256,\n",
    "                \"kernel_size\": [1, 7],\n",
    "                \"bias\": False,\n",
    "                \"padding\": [0, 3],\n",
    "            },\n",
    "        },\n",
    "        {\"class\": \"ReLU\", \"kargs\": {\"inplace\": True}},\n",
    "        {\"class\": \"BatchNorm2d\", \"kargs\": {\"num_features\": 256}},\n",
    "        {\n",
    "            \"class\": \"Conv2d\",\n",
    "            \"kargs\": {\n",
    "                \"in_channels\": 256,\n",
    "                \"out_channels\": 80,\n",
    "                \"kernel_size\": [2, 7],\n",
    "                \"bias\": True,\n",
    "                \"padding\": [0, 3],\n",
    "            },\n",
    "        },\n",
    "        {\"class\": \"ReLU\", \"kargs\": {\"inplace\": True}},\n",
    "        {\"class\": \"BatchNorm2d\", \"kargs\": {\"num_features\": 80}},\n",
    "        {\"class\": \"Flatten\", \"kargs\": {}},\n",
    "        {\"class\": \"Linear\", \"kargs\": {\"in_features\": 20480, \"out_features\": 256}},\n",
    "        {\"class\": \"ReLU\", \"kargs\": {\"inplace\": True}},\n",
    "        {\"class\": \"BatchNorm1d\", \"kargs\": {\"num_features\": 256}},\n",
    "        {\"class\": \"Linear\", \"kargs\": {\"in_features\": 256, \"out_features\": 256}},\n",
    "    ],\n",
    "    \"NUM_LOGS_PER_EPOCH\": 10,\n",
    "    \"BEST_MODEL_PATH\": \"./best_model.pth\",\n",
    "    \"n_way\": 16,\n",
    "    \"datasets\": [\n",
    "        {\n",
    "            \"labels\": [\n",
    "                \"1-10.\",\n",
    "                \"1-11.\",\n",
    "                \"1-15.\",\n",
    "                \"1-16.\",\n",
    "                \"1-17.\",\n",
    "                \"1-18.\",\n",
    "                \"1-19.\",\n",
    "                \"10-4.\",\n",
    "                \"10-7.\",\n",
    "                \"11-1.\",\n",
    "                \"11-14.\",\n",
    "                \"11-17.\",\n",
    "                \"11-20.\",\n",
    "                \"11-7.\",\n",
    "                \"13-20.\",\n",
    "                \"13-8.\",\n",
    "                \"14-10.\",\n",
    "                \"14-11.\",\n",
    "                \"14-14.\",\n",
    "                \"14-7.\",\n",
    "                \"15-1.\",\n",
    "                \"15-20.\",\n",
    "                \"16-1.\",\n",
    "                \"16-16.\",\n",
    "                \"17-10.\",\n",
    "                \"17-11.\",\n",
    "                \"17-2.\",\n",
    "                \"19-1.\",\n",
    "                \"19-16.\",\n",
    "                \"19-19.\",\n",
    "                \"19-20.\",\n",
    "                \"19-3.\",\n",
    "                \"2-10.\",\n",
    "                \"2-11.\",\n",
    "                \"2-17.\",\n",
    "                \"2-18.\",\n",
    "                \"2-20.\",\n",
    "                \"2-3.\",\n",
    "                \"2-4.\",\n",
    "                \"2-5.\",\n",
    "                \"2-6.\",\n",
    "                \"2-7.\",\n",
    "                \"2-8.\",\n",
    "                \"3-13.\",\n",
    "                \"3-18.\",\n",
    "                \"3-3.\",\n",
    "                \"4-1.\",\n",
    "                \"4-10.\",\n",
    "                \"4-11.\",\n",
    "                \"4-19.\",\n",
    "                \"5-5.\",\n",
    "                \"6-15.\",\n",
    "                \"7-10.\",\n",
    "                \"7-14.\",\n",
    "                \"8-18.\",\n",
    "                \"8-20.\",\n",
    "                \"8-3.\",\n",
    "                \"8-8.\",\n",
    "            ],\n",
    "            \"domains\": [1, 2, 3, 4, 5],\n",
    "            \"num_examples_per_domain_per_label\": -1,\n",
    "            \"pickle_path\": \"/root/csc500-main/datasets/cores.stratified_ds.2022A.pkl\",\n",
    "            \"source_or_target_dataset\": \"target\",\n",
    "            \"x_transforms\": [\"unit_mag\"],\n",
    "            \"episode_transforms\": [],\n",
    "            \"domain_prefix\": \"CORES_\",\n",
    "        },\n",
    "        {\n",
    "            \"labels\": [\n",
    "                \"3123D52\",\n",
    "                \"3123D65\",\n",
    "                \"3123D79\",\n",
    "                \"3123D80\",\n",
    "                \"3123D54\",\n",
    "                \"3123D70\",\n",
    "                \"3123D7B\",\n",
    "                \"3123D89\",\n",
    "                \"3123D58\",\n",
    "                \"3123D76\",\n",
    "                \"3123D7D\",\n",
    "                \"3123EFE\",\n",
    "                \"3123D64\",\n",
    "                \"3123D78\",\n",
    "                \"3123D7E\",\n",
    "                \"3124E4A\",\n",
    "            ],\n",
    "            \"domains\": [32, 38, 8, 44, 14, 50, 20, 26],\n",
    "            \"num_examples_per_domain_per_label\": 10000,\n",
    "            \"pickle_path\": \"/root/csc500-main/datasets/oracle.Run1_10kExamples_stratified_ds.2022A.pkl\",\n",
    "            \"source_or_target_dataset\": \"source\",\n",
    "            \"x_transforms\": [\"unit_mag\"],\n",
    "            \"episode_transforms\": [],\n",
    "            \"domain_prefix\": \"ORACLE.run1_\",\n",
    "        },\n",
    "    ],\n",
    "    \"dataset_seed\": 500,\n",
    "    \"seed\": 500,\n",
    "}\n"
   ]
  },
  {
   "cell_type": "code",
   "execution_count": 5,
   "id": "8fa1cc33",
   "metadata": {
    "execution": {
     "iopub.execute_input": "2022-03-23T13:30:55.256630Z",
     "iopub.status.busy": "2022-03-23T13:30:55.256050Z",
     "iopub.status.idle": "2022-03-23T13:30:55.278638Z",
     "shell.execute_reply": "2022-03-23T13:30:55.277929Z"
    },
    "papermill": {
     "duration": 0.049248,
     "end_time": "2022-03-23T13:30:55.278788",
     "exception": false,
     "start_time": "2022-03-23T13:30:55.229540",
     "status": "completed"
    },
    "tags": []
   },
   "outputs": [],
   "source": [
    "# Set this to True if you want to run this template directly\n",
    "STANDALONE = False\n",
    "if STANDALONE:\n",
    "    print(\"parameters not injected, running with standalone_parameters\")\n",
    "    parameters = standalone_parameters\n",
    "\n",
    "if not 'parameters' in locals() and not 'parameters' in globals():\n",
    "    raise Exception(\"Parameter injection failed\")\n",
    "\n",
    "#Use an easy dict for all the parameters\n",
    "p = EasyDict(parameters)\n",
    "\n",
    "if \"x_shape\" not in p:\n",
    "    p.x_shape = [2,256] # Default to this if we dont supply x_shape\n",
    "\n",
    "\n",
    "supplied_keys = set(p.keys())\n",
    "\n",
    "if  supplied_keys != required_parameters:\n",
    "    print(\"Parameters are incorrect\")\n",
    "    if len(supplied_keys - required_parameters)>0: print(\"Shouldn't have:\", str(supplied_keys - required_parameters))\n",
    "    if len(required_parameters - supplied_keys)>0: print(\"Need to have:\", str(required_parameters - supplied_keys))\n",
    "    raise RuntimeError(\"Parameters are incorrect\")"
   ]
  },
  {
   "cell_type": "code",
   "execution_count": 6,
   "id": "3a028d58",
   "metadata": {
    "execution": {
     "iopub.execute_input": "2022-03-23T13:30:55.327225Z",
     "iopub.status.busy": "2022-03-23T13:30:55.326480Z",
     "iopub.status.idle": "2022-03-23T13:30:55.349254Z",
     "shell.execute_reply": "2022-03-23T13:30:55.348556Z"
    },
    "papermill": {
     "duration": 0.045483,
     "end_time": "2022-03-23T13:30:55.349434",
     "exception": false,
     "start_time": "2022-03-23T13:30:55.303951",
     "status": "completed"
    },
    "tags": []
   },
   "outputs": [],
   "source": [
    "###################################\n",
    "# Set the RNGs and make it all deterministic\n",
    "###################################\n",
    "np.random.seed(p.seed)\n",
    "random.seed(p.seed)\n",
    "torch.manual_seed(p.seed)\n",
    "\n",
    "torch.use_deterministic_algorithms(True) "
   ]
  },
  {
   "cell_type": "code",
   "execution_count": 7,
   "id": "b691acf6",
   "metadata": {
    "execution": {
     "iopub.execute_input": "2022-03-23T13:30:55.398920Z",
     "iopub.status.busy": "2022-03-23T13:30:55.397698Z",
     "iopub.status.idle": "2022-03-23T13:30:55.422056Z",
     "shell.execute_reply": "2022-03-23T13:30:55.422727Z"
    },
    "papermill": {
     "duration": 0.047381,
     "end_time": "2022-03-23T13:30:55.422906",
     "exception": false,
     "start_time": "2022-03-23T13:30:55.375525",
     "status": "completed"
    },
    "tags": []
   },
   "outputs": [],
   "source": [
    "###########################################\n",
    "# The stratified datasets honor this\n",
    "###########################################\n",
    "torch.set_default_dtype(eval(p.torch_default_dtype))"
   ]
  },
  {
   "cell_type": "code",
   "execution_count": 8,
   "id": "b5fba671",
   "metadata": {
    "execution": {
     "iopub.execute_input": "2022-03-23T13:30:55.471915Z",
     "iopub.status.busy": "2022-03-23T13:30:55.471290Z",
     "iopub.status.idle": "2022-03-23T13:30:55.527710Z",
     "shell.execute_reply": "2022-03-23T13:30:55.526970Z"
    },
    "papermill": {
     "duration": 0.079741,
     "end_time": "2022-03-23T13:30:55.527864",
     "exception": false,
     "start_time": "2022-03-23T13:30:55.448123",
     "status": "completed"
    },
    "tags": []
   },
   "outputs": [],
   "source": [
    "###################################\n",
    "# Build the network(s)\n",
    "# Note: It's critical to do this AFTER setting the RNG\n",
    "###################################\n",
    "x_net = build_sequential(p.x_net)"
   ]
  },
  {
   "cell_type": "code",
   "execution_count": 9,
   "id": "5d7e61cc",
   "metadata": {
    "execution": {
     "iopub.execute_input": "2022-03-23T13:30:55.577712Z",
     "iopub.status.busy": "2022-03-23T13:30:55.577152Z",
     "iopub.status.idle": "2022-03-23T13:30:55.601897Z",
     "shell.execute_reply": "2022-03-23T13:30:55.601179Z"
    },
    "papermill": {
     "duration": 0.048963,
     "end_time": "2022-03-23T13:30:55.602050",
     "exception": false,
     "start_time": "2022-03-23T13:30:55.553087",
     "status": "completed"
    },
    "tags": []
   },
   "outputs": [],
   "source": [
    "start_time_secs = time.time()"
   ]
  },
  {
   "cell_type": "code",
   "execution_count": 10,
   "id": "c6b67dfd",
   "metadata": {
    "execution": {
     "iopub.execute_input": "2022-03-23T13:30:55.653139Z",
     "iopub.status.busy": "2022-03-23T13:30:55.652771Z",
     "iopub.status.idle": "2022-03-23T13:30:55.673785Z",
     "shell.execute_reply": "2022-03-23T13:30:55.672968Z"
    },
    "papermill": {
     "duration": 0.04556,
     "end_time": "2022-03-23T13:30:55.673937",
     "exception": false,
     "start_time": "2022-03-23T13:30:55.628377",
     "status": "completed"
    },
    "tags": []
   },
   "outputs": [],
   "source": [
    "p.domains_source = []\n",
    "p.domains_target = []\n",
    "\n",
    "\n",
    "train_original_source = []\n",
    "val_original_source   = []\n",
    "test_original_source  = []\n",
    "\n",
    "train_original_target = []\n",
    "val_original_target   = []\n",
    "test_original_target  = []"
   ]
  },
  {
   "cell_type": "code",
   "execution_count": 11,
   "id": "e3d9c3d3",
   "metadata": {
    "execution": {
     "iopub.execute_input": "2022-03-23T13:30:55.724730Z",
     "iopub.status.busy": "2022-03-23T13:30:55.724335Z",
     "iopub.status.idle": "2022-03-23T13:30:55.748564Z",
     "shell.execute_reply": "2022-03-23T13:30:55.749244Z"
    },
    "papermill": {
     "duration": 0.049235,
     "end_time": "2022-03-23T13:30:55.749424",
     "exception": false,
     "start_time": "2022-03-23T13:30:55.700189",
     "status": "completed"
    },
    "tags": []
   },
   "outputs": [],
   "source": [
    "# global_x_transform_func = lambda x: normalize(x.to(torch.get_default_dtype()), \"unit_power\") # unit_power, unit_mag\n",
    "# global_x_transform_func = lambda x: normalize(x, \"unit_power\") # unit_power, unit_mag"
   ]
  },
  {
   "cell_type": "code",
   "execution_count": 12,
   "id": "acb78fd2",
   "metadata": {
    "execution": {
     "iopub.execute_input": "2022-03-23T13:30:55.812598Z",
     "iopub.status.busy": "2022-03-23T13:30:55.811734Z",
     "iopub.status.idle": "2022-03-23T13:30:55.834075Z",
     "shell.execute_reply": "2022-03-23T13:30:55.833263Z"
    },
    "papermill": {
     "duration": 0.055924,
     "end_time": "2022-03-23T13:30:55.834228",
     "exception": false,
     "start_time": "2022-03-23T13:30:55.778304",
     "status": "completed"
    },
    "tags": []
   },
   "outputs": [],
   "source": [
    "def add_dataset(\n",
    "    labels,\n",
    "    domains,\n",
    "    pickle_path,\n",
    "    x_transforms,\n",
    "    episode_transforms,\n",
    "    domain_prefix,\n",
    "    num_examples_per_domain_per_label,\n",
    "    source_or_target_dataset:str,\n",
    "    iterator_seed=p.seed,\n",
    "    dataset_seed=p.dataset_seed,\n",
    "    n_shot=p.n_shot,\n",
    "    n_way=p.n_way,\n",
    "    n_query=p.n_query,\n",
    "    train_val_test_k_factors=(p.train_k_factor,p.val_k_factor,p.test_k_factor),\n",
    "):\n",
    "   \n",
    "    if x_transforms == []: x_transform = None\n",
    "    else: x_transform = get_chained_transform(x_transforms)\n",
    "    \n",
    "    if episode_transforms == []: episode_transform = None\n",
    "    else: raise Exception(\"episode_transforms not implemented\")\n",
    "    \n",
    "    episode_transform = lambda tup, _prefix=domain_prefix: (_prefix + str(tup[0]), tup[1])\n",
    "\n",
    "\n",
    "    eaf = Episodic_Accessor_Factory(\n",
    "        labels=labels,\n",
    "        domains=domains,\n",
    "        num_examples_per_domain_per_label=num_examples_per_domain_per_label,\n",
    "        iterator_seed=iterator_seed,\n",
    "        dataset_seed=dataset_seed,\n",
    "        n_shot=n_shot,\n",
    "        n_way=n_way,\n",
    "        n_query=n_query,\n",
    "        train_val_test_k_factors=train_val_test_k_factors,\n",
    "        pickle_path=pickle_path,\n",
    "        x_transform_func=x_transform,\n",
    "    )\n",
    "\n",
    "    train, val, test = eaf.get_train(), eaf.get_val(), eaf.get_test()\n",
    "    train = Lazy_Iterable_Wrapper(train, episode_transform)\n",
    "    val = Lazy_Iterable_Wrapper(val, episode_transform)\n",
    "    test = Lazy_Iterable_Wrapper(test, episode_transform)\n",
    "\n",
    "    if source_or_target_dataset==\"source\":\n",
    "        train_original_source.append(train)\n",
    "        val_original_source.append(val)\n",
    "        test_original_source.append(test)\n",
    "\n",
    "        p.domains_source.extend(\n",
    "            [domain_prefix + str(u) for u in domains]\n",
    "        )\n",
    "    elif source_or_target_dataset==\"target\":\n",
    "        train_original_target.append(train)\n",
    "        val_original_target.append(val)\n",
    "        test_original_target.append(test)\n",
    "        p.domains_target.extend(\n",
    "            [domain_prefix + str(u) for u in domains]\n",
    "        )\n",
    "    else:\n",
    "        raise Exception(f\"invalid source_or_target_dataset: {source_or_target_dataset}\")\n",
    "    "
   ]
  },
  {
   "cell_type": "code",
   "execution_count": 13,
   "id": "fe266617",
   "metadata": {
    "execution": {
     "iopub.execute_input": "2022-03-23T13:30:55.884805Z",
     "iopub.status.busy": "2022-03-23T13:30:55.884439Z",
     "iopub.status.idle": "2022-03-23T13:33:03.310613Z",
     "shell.execute_reply": "2022-03-23T13:33:03.311315Z"
    },
    "papermill": {
     "duration": 127.451327,
     "end_time": "2022-03-23T13:33:03.311583",
     "exception": false,
     "start_time": "2022-03-23T13:30:55.860256",
     "status": "completed"
    },
    "tags": []
   },
   "outputs": [],
   "source": [
    "for ds in p.datasets:\n",
    "    add_dataset(**ds)"
   ]
  },
  {
   "cell_type": "code",
   "execution_count": 14,
   "id": "b90d65ac",
   "metadata": {
    "execution": {
     "iopub.execute_input": "2022-03-23T13:33:03.364130Z",
     "iopub.status.busy": "2022-03-23T13:33:03.363372Z",
     "iopub.status.idle": "2022-03-23T13:33:03.386250Z",
     "shell.execute_reply": "2022-03-23T13:33:03.385410Z"
    },
    "papermill": {
     "duration": 0.047518,
     "end_time": "2022-03-23T13:33:03.386421",
     "exception": false,
     "start_time": "2022-03-23T13:33:03.338903",
     "status": "completed"
    },
    "tags": []
   },
   "outputs": [],
   "source": [
    "# from steves_utils.CORES.utils import (\n",
    "#     ALL_NODES,\n",
    "#     ALL_NODES_MINIMUM_1000_EXAMPLES,\n",
    "#     ALL_DAYS\n",
    "# )\n",
    "\n",
    "# add_dataset(\n",
    "#     labels=ALL_NODES,\n",
    "#     domains = ALL_DAYS,\n",
    "#     num_examples_per_domain_per_label=100,\n",
    "#     pickle_path=os.path.join(get_datasets_base_path(), \"cores.stratified_ds.2022A.pkl\"),\n",
    "#     source_or_target_dataset=\"target\",\n",
    "#     x_transform_func=global_x_transform_func,\n",
    "#     domain_modifier=lambda u: f\"cores_{u}\"\n",
    "# )"
   ]
  },
  {
   "cell_type": "code",
   "execution_count": 15,
   "id": "76db484d",
   "metadata": {
    "execution": {
     "iopub.execute_input": "2022-03-23T13:33:03.441335Z",
     "iopub.status.busy": "2022-03-23T13:33:03.440522Z",
     "iopub.status.idle": "2022-03-23T13:33:03.461517Z",
     "shell.execute_reply": "2022-03-23T13:33:03.460663Z"
    },
    "papermill": {
     "duration": 0.047479,
     "end_time": "2022-03-23T13:33:03.461691",
     "exception": false,
     "start_time": "2022-03-23T13:33:03.414212",
     "status": "completed"
    },
    "tags": []
   },
   "outputs": [],
   "source": [
    "# from steves_utils.ORACLE.utils_v2 import (\n",
    "#     ALL_DISTANCES_FEET,\n",
    "#     ALL_RUNS,\n",
    "#     ALL_SERIAL_NUMBERS,\n",
    "# )\n",
    "\n",
    "\n",
    "# add_dataset(\n",
    "#     labels=ALL_SERIAL_NUMBERS,\n",
    "#     domains = list(set(ALL_DISTANCES_FEET) - {2,62}),\n",
    "#     num_examples_per_domain_per_label=100,\n",
    "#     pickle_path=os.path.join(get_datasets_base_path(), \"oracle.Run2_framed_2000Examples_stratified_ds.2022A.pkl\"),\n",
    "#     source_or_target_dataset=\"source\",\n",
    "#     x_transform_func=global_x_transform_func,\n",
    "#     domain_modifier=lambda u: f\"oracle1_{u}\"\n",
    "# )\n"
   ]
  },
  {
   "cell_type": "code",
   "execution_count": 16,
   "id": "97dea9d2",
   "metadata": {
    "execution": {
     "iopub.execute_input": "2022-03-23T13:33:03.517862Z",
     "iopub.status.busy": "2022-03-23T13:33:03.517277Z",
     "iopub.status.idle": "2022-03-23T13:33:03.537400Z",
     "shell.execute_reply": "2022-03-23T13:33:03.536552Z"
    },
    "papermill": {
     "duration": 0.047466,
     "end_time": "2022-03-23T13:33:03.537568",
     "exception": false,
     "start_time": "2022-03-23T13:33:03.490102",
     "status": "completed"
    },
    "tags": []
   },
   "outputs": [],
   "source": [
    "# from steves_utils.ORACLE.utils_v2 import (\n",
    "#     ALL_DISTANCES_FEET,\n",
    "#     ALL_RUNS,\n",
    "#     ALL_SERIAL_NUMBERS,\n",
    "# )\n",
    "\n",
    "\n",
    "# add_dataset(\n",
    "#     labels=ALL_SERIAL_NUMBERS,\n",
    "#     domains = list(set(ALL_DISTANCES_FEET) - {2,62,56}),\n",
    "#     num_examples_per_domain_per_label=100,\n",
    "#     pickle_path=os.path.join(get_datasets_base_path(), \"oracle.Run2_framed_2000Examples_stratified_ds.2022A.pkl\"),\n",
    "#     source_or_target_dataset=\"source\",\n",
    "#     x_transform_func=global_x_transform_func,\n",
    "#     domain_modifier=lambda u: f\"oracle2_{u}\"\n",
    "# )"
   ]
  },
  {
   "cell_type": "code",
   "execution_count": 17,
   "id": "6f289866",
   "metadata": {
    "execution": {
     "iopub.execute_input": "2022-03-23T13:33:03.589386Z",
     "iopub.status.busy": "2022-03-23T13:33:03.589001Z",
     "iopub.status.idle": "2022-03-23T13:33:03.608252Z",
     "shell.execute_reply": "2022-03-23T13:33:03.607400Z"
    },
    "papermill": {
     "duration": 0.043507,
     "end_time": "2022-03-23T13:33:03.608413",
     "exception": false,
     "start_time": "2022-03-23T13:33:03.564906",
     "status": "completed"
    },
    "tags": []
   },
   "outputs": [],
   "source": [
    "# add_dataset(\n",
    "#     labels=list(range(19)),\n",
    "#     domains = [0,1,2],\n",
    "#     num_examples_per_domain_per_label=100,\n",
    "#     pickle_path=os.path.join(get_datasets_base_path(), \"metehan.stratified_ds.2022A.pkl\"),\n",
    "#     source_or_target_dataset=\"target\",\n",
    "#     x_transform_func=global_x_transform_func,\n",
    "#     domain_modifier=lambda u: f\"met_{u}\"\n",
    "# )"
   ]
  },
  {
   "cell_type": "code",
   "execution_count": 18,
   "id": "86a863c3",
   "metadata": {
    "execution": {
     "iopub.execute_input": "2022-03-23T13:33:03.664238Z",
     "iopub.status.busy": "2022-03-23T13:33:03.663728Z",
     "iopub.status.idle": "2022-03-23T13:33:03.686887Z",
     "shell.execute_reply": "2022-03-23T13:33:03.687601Z"
    },
    "papermill": {
     "duration": 0.049267,
     "end_time": "2022-03-23T13:33:03.687830",
     "exception": false,
     "start_time": "2022-03-23T13:33:03.638563",
     "status": "completed"
    },
    "tags": []
   },
   "outputs": [],
   "source": [
    "# # from steves_utils.wisig.utils import (\n",
    "# #     ALL_NODES_MINIMUM_100_EXAMPLES,\n",
    "# #     ALL_NODES_MINIMUM_500_EXAMPLES,\n",
    "# #     ALL_NODES_MINIMUM_1000_EXAMPLES,\n",
    "# #     ALL_DAYS\n",
    "# # )\n",
    "\n",
    "# import steves_utils.wisig.utils as wisig\n",
    "\n",
    "\n",
    "# add_dataset(\n",
    "#     labels=wisig.ALL_NODES_MINIMUM_100_EXAMPLES,\n",
    "#     domains = wisig.ALL_DAYS,\n",
    "#     num_examples_per_domain_per_label=100,\n",
    "#     pickle_path=os.path.join(get_datasets_base_path(), \"wisig.node3-19.stratified_ds.2022A.pkl\"),\n",
    "#     source_or_target_dataset=\"target\",\n",
    "#     x_transform_func=global_x_transform_func,\n",
    "#     domain_modifier=lambda u: f\"wisig_{u}\"\n",
    "# )"
   ]
  },
  {
   "cell_type": "code",
   "execution_count": 19,
   "id": "fd5442bc",
   "metadata": {
    "execution": {
     "iopub.execute_input": "2022-03-23T13:33:03.750167Z",
     "iopub.status.busy": "2022-03-23T13:33:03.748071Z",
     "iopub.status.idle": "2022-03-23T13:33:03.774633Z",
     "shell.execute_reply": "2022-03-23T13:33:03.773778Z"
    },
    "papermill": {
     "duration": 0.057592,
     "end_time": "2022-03-23T13:33:03.774803",
     "exception": false,
     "start_time": "2022-03-23T13:33:03.717211",
     "status": "completed"
    },
    "tags": []
   },
   "outputs": [],
   "source": [
    "###################################\n",
    "# Build the dataset\n",
    "###################################\n",
    "train_original_source = Iterable_Aggregator(train_original_source, p.seed)\n",
    "val_original_source = Iterable_Aggregator(val_original_source, p.seed)\n",
    "test_original_source = Iterable_Aggregator(test_original_source, p.seed)\n",
    "\n",
    "\n",
    "train_original_target = Iterable_Aggregator(train_original_target, p.seed)\n",
    "val_original_target = Iterable_Aggregator(val_original_target, p.seed)\n",
    "test_original_target = Iterable_Aggregator(test_original_target, p.seed)\n",
    "\n",
    "# For CNN We only use X and Y. And we only train on the source.\n",
    "# Properly form the data using a transform lambda and Lazy_Iterable_Wrapper. Finally wrap them in a dataloader\n",
    "\n",
    "transform_lambda = lambda ex: ex[1] # Original is (<domain>, <episode>) so we strip down to episode only\n",
    "\n",
    "train_processed_source = Lazy_Iterable_Wrapper(train_original_source, transform_lambda)\n",
    "val_processed_source   = Lazy_Iterable_Wrapper(val_original_source, transform_lambda)\n",
    "test_processed_source  = Lazy_Iterable_Wrapper(test_original_source, transform_lambda)\n",
    "\n",
    "train_processed_target = Lazy_Iterable_Wrapper(train_original_target, transform_lambda)\n",
    "val_processed_target   = Lazy_Iterable_Wrapper(val_original_target, transform_lambda)\n",
    "test_processed_target  = Lazy_Iterable_Wrapper(test_original_target, transform_lambda)\n",
    "\n",
    "datasets = EasyDict({\n",
    "    \"source\": {\n",
    "        \"original\": {\"train\":train_original_source, \"val\":val_original_source, \"test\":test_original_source},\n",
    "        \"processed\": {\"train\":train_processed_source, \"val\":val_processed_source, \"test\":test_processed_source}\n",
    "    },\n",
    "    \"target\": {\n",
    "        \"original\": {\"train\":train_original_target, \"val\":val_original_target, \"test\":test_original_target},\n",
    "        \"processed\": {\"train\":train_processed_target, \"val\":val_processed_target, \"test\":test_processed_target}\n",
    "    },\n",
    "})"
   ]
  },
  {
   "cell_type": "code",
   "execution_count": 20,
   "id": "5b3c01fc",
   "metadata": {
    "execution": {
     "iopub.execute_input": "2022-03-23T13:33:03.830621Z",
     "iopub.status.busy": "2022-03-23T13:33:03.830237Z",
     "iopub.status.idle": "2022-03-23T13:33:37.527173Z",
     "shell.execute_reply": "2022-03-23T13:33:37.526307Z"
    },
    "papermill": {
     "duration": 33.724295,
     "end_time": "2022-03-23T13:33:37.527348",
     "exception": false,
     "start_time": "2022-03-23T13:33:03.803053",
     "status": "completed"
    },
    "tags": []
   },
   "outputs": [
    {
     "name": "stdout",
     "output_type": "stream",
     "text": [
      "{'ORACLE.run1_38', 'ORACLE.run1_14', 'ORACLE.run1_20', 'ORACLE.run1_26', 'ORACLE.run1_32', 'ORACLE.run1_50', 'ORACLE.run1_44', 'ORACLE.run1_8'}\n"
     ]
    },
    {
     "name": "stdout",
     "output_type": "stream",
     "text": [
      "{'CORES_3', 'CORES_2', 'CORES_1', 'CORES_4', 'CORES_5'}\n"
     ]
    },
    {
     "name": "stdout",
     "output_type": "stream",
     "text": [
      "tensor([[[-1.5184,  0.4536, -0.1972,  ...,  1.0057, -0.0789, -0.4141],\n",
      "         [-0.4141,  0.8085,  0.0592,  ...,  1.8931,  0.3352,  1.4395]],\n",
      "\n",
      "        [[-0.0573,  1.6054, -0.1720,  ..., -0.9174, -0.4969,  0.7071],\n",
      "         [ 0.4396, -2.2552, -1.3570,  ...,  0.1147, -1.2232,  0.9174]],\n",
      "\n",
      "        [[ 0.3796,  0.2797, -0.2198,  ...,  0.3196,  0.1998, -0.2397],\n",
      "         [-1.2985, -1.3585,  0.6792,  ...,  0.0599,  0.2597,  0.1398]],\n",
      "\n",
      "        ...,\n",
      "\n",
      "        [[ 1.4444, -0.2015,  0.4703,  ..., -1.1085, -0.1344,  1.3772],\n",
      "         [ 0.2351,  1.9315,  0.1680,  ...,  0.3863, -0.5543, -1.2429]],\n",
      "\n",
      "        [[ 0.7070, -0.8080, -0.2357,  ...,  0.3367,  0.3872,  0.1178],\n",
      "         [ 0.4882, -1.1447,  0.7407,  ..., -1.8517, -0.9763,  0.1178]],\n",
      "\n",
      "        [[ 0.9297,  0.7776, -0.7099,  ...,  0.5747,  0.5747,  1.0818],\n",
      "         [-0.1014, -0.5578, -0.3381,  ...,  0.1521, -0.0169, -0.4733]]])\n"
     ]
    }
   ],
   "source": [
    "from steves_utils.transforms import get_average_magnitude, get_average_power\n",
    "\n",
    "print(set([u for u,_ in val_original_source]))\n",
    "print(set([u for u,_ in val_original_target]))\n",
    "\n",
    "s_x, s_y, q_x, q_y, _ = next(iter(train_processed_source))\n",
    "print(s_x)\n",
    "\n",
    "# for ds in [\n",
    "#     train_processed_source,\n",
    "#     val_processed_source,\n",
    "#     test_processed_source,\n",
    "#     train_processed_target,\n",
    "#     val_processed_target,\n",
    "#     test_processed_target\n",
    "# ]:\n",
    "#     for s_x, s_y, q_x, q_y, _ in ds:\n",
    "#         for X in (s_x, q_x):\n",
    "#             for x in X:\n",
    "#                 assert np.isclose(get_average_magnitude(x.numpy()), 1.0)\n",
    "#                 assert np.isclose(get_average_power(x.numpy()), 1.0)\n",
    "                "
   ]
  },
  {
   "cell_type": "code",
   "execution_count": 21,
   "id": "bbdacba1",
   "metadata": {
    "execution": {
     "iopub.execute_input": "2022-03-23T13:33:37.584736Z",
     "iopub.status.busy": "2022-03-23T13:33:37.584183Z",
     "iopub.status.idle": "2022-03-23T13:33:37.788613Z",
     "shell.execute_reply": "2022-03-23T13:33:37.789280Z"
    },
    "papermill": {
     "duration": 0.233727,
     "end_time": "2022-03-23T13:33:37.789474",
     "exception": false,
     "start_time": "2022-03-23T13:33:37.555747",
     "status": "completed"
    },
    "tags": []
   },
   "outputs": [
    {
     "name": "stdout",
     "output_type": "stream",
     "text": [
      "(2, 256)\n"
     ]
    }
   ],
   "source": [
    "###################################\n",
    "# Build the model\n",
    "###################################\n",
    "# easfsl only wants a tuple for the shape\n",
    "model = Steves_Prototypical_Network(x_net, device=p.device, x_shape=tuple(p.x_shape))\n",
    "optimizer = Adam(params=model.parameters(), lr=p.lr)"
   ]
  },
  {
   "cell_type": "code",
   "execution_count": 22,
   "id": "22b39ac5",
   "metadata": {
    "execution": {
     "iopub.execute_input": "2022-03-23T13:33:37.861774Z",
     "iopub.status.busy": "2022-03-23T13:33:37.861143Z",
     "iopub.status.idle": "2022-03-23T16:54:52.798533Z",
     "shell.execute_reply": "2022-03-23T16:54:52.796120Z"
    },
    "papermill": {
     "duration": 12074.97137,
     "end_time": "2022-03-23T16:54:52.800407",
     "exception": false,
     "start_time": "2022-03-23T13:33:37.829037",
     "status": "completed"
    },
    "tags": []
   },
   "outputs": [
    {
     "name": "stdout",
     "output_type": "stream",
     "text": [
      "epoch: 1, [batch: 1 / 33600], examples_per_second: 6.6342, train_label_loss: 2.8092, \n"
     ]
    },
    {
     "name": "stdout",
     "output_type": "stream",
     "text": [
      "epoch: 1, [batch: 3360 / 33600], examples_per_second: 3854.4340, train_label_loss: 1.3686, \n"
     ]
    },
    {
     "name": "stdout",
     "output_type": "stream",
     "text": [
      "epoch: 1, [batch: 6720 / 33600], examples_per_second: 3930.4081, train_label_loss: 0.6404, \n"
     ]
    },
    {
     "name": "stdout",
     "output_type": "stream",
     "text": [
      "epoch: 1, [batch: 10080 / 33600], examples_per_second: 3925.9361, train_label_loss: 1.6940, \n"
     ]
    },
    {
     "name": "stdout",
     "output_type": "stream",
     "text": [
      "epoch: 1, [batch: 13440 / 33600], examples_per_second: 4182.0137, train_label_loss: 0.9117, \n"
     ]
    },
    {
     "name": "stdout",
     "output_type": "stream",
     "text": [
      "epoch: 1, [batch: 16800 / 33600], examples_per_second: 4370.1436, train_label_loss: 0.6367, \n"
     ]
    },
    {
     "name": "stdout",
     "output_type": "stream",
     "text": [
      "epoch: 1, [batch: 20160 / 33600], examples_per_second: 3926.7362, train_label_loss: 0.9154, \n"
     ]
    },
    {
     "name": "stdout",
     "output_type": "stream",
     "text": [
      "epoch: 1, [batch: 23520 / 33600], examples_per_second: 3935.5507, train_label_loss: 1.1267, \n"
     ]
    },
    {
     "name": "stdout",
     "output_type": "stream",
     "text": [
      "epoch: 1, [batch: 26880 / 33600], examples_per_second: 3934.7876, train_label_loss: 0.4916, \n"
     ]
    },
    {
     "name": "stdout",
     "output_type": "stream",
     "text": [
      "epoch: 1, [batch: 30240 / 33600], examples_per_second: 3966.1033, train_label_loss: 0.6608, \n"
     ]
    },
    {
     "name": "stdout",
     "output_type": "stream",
     "text": [
      "=============================================================\n",
      "epoch: 1, source_val_acc_label: 0.6495, target_val_acc_label: 0.9654, source_val_label_loss: 0.9389, target_val_label_loss: 0.1514, \n",
      "=============================================================\n"
     ]
    },
    {
     "name": "stdout",
     "output_type": "stream",
     "text": [
      "New best\n"
     ]
    },
    {
     "name": "stdout",
     "output_type": "stream",
     "text": [
      "epoch: 2, [batch: 1 / 33600], examples_per_second: 1.0186, train_label_loss: 1.2452, \n"
     ]
    },
    {
     "name": "stdout",
     "output_type": "stream",
     "text": [
      "epoch: 2, [batch: 3360 / 33600], examples_per_second: 3909.4472, train_label_loss: 0.5191, \n"
     ]
    },
    {
     "name": "stdout",
     "output_type": "stream",
     "text": [
      "epoch: 2, [batch: 6720 / 33600], examples_per_second: 3913.7481, train_label_loss: 0.8456, \n"
     ]
    },
    {
     "name": "stdout",
     "output_type": "stream",
     "text": [
      "epoch: 2, [batch: 10080 / 33600], examples_per_second: 3912.6532, train_label_loss: 0.7038, \n"
     ]
    },
    {
     "name": "stdout",
     "output_type": "stream",
     "text": [
      "epoch: 2, [batch: 13440 / 33600], examples_per_second: 4320.8106, train_label_loss: 0.5900, \n"
     ]
    },
    {
     "name": "stdout",
     "output_type": "stream",
     "text": [
      "epoch: 2, [batch: 16800 / 33600], examples_per_second: 4492.0694, train_label_loss: 0.7379, \n"
     ]
    },
    {
     "name": "stdout",
     "output_type": "stream",
     "text": [
      "epoch: 2, [batch: 20160 / 33600], examples_per_second: 3849.3447, train_label_loss: 0.6102, \n"
     ]
    },
    {
     "name": "stdout",
     "output_type": "stream",
     "text": [
      "epoch: 2, [batch: 23520 / 33600], examples_per_second: 3850.3383, train_label_loss: 0.5039, \n"
     ]
    },
    {
     "name": "stdout",
     "output_type": "stream",
     "text": [
      "epoch: 2, [batch: 26880 / 33600], examples_per_second: 3956.1671, train_label_loss: 1.3458, \n"
     ]
    },
    {
     "name": "stdout",
     "output_type": "stream",
     "text": [
      "epoch: 2, [batch: 30240 / 33600], examples_per_second: 3920.1253, train_label_loss: 0.4769, \n"
     ]
    },
    {
     "name": "stdout",
     "output_type": "stream",
     "text": [
      "=============================================================\n",
      "epoch: 2, source_val_acc_label: 0.6722, target_val_acc_label: 0.9657, source_val_label_loss: 0.8637, target_val_label_loss: 0.2013, \n",
      "=============================================================\n"
     ]
    },
    {
     "name": "stdout",
     "output_type": "stream",
     "text": [
      "New best\n"
     ]
    },
    {
     "name": "stdout",
     "output_type": "stream",
     "text": [
      "epoch: 3, [batch: 1 / 33600], examples_per_second: 1.0092, train_label_loss: 0.4955, \n"
     ]
    },
    {
     "name": "stdout",
     "output_type": "stream",
     "text": [
      "epoch: 3, [batch: 3360 / 33600], examples_per_second: 3893.2071, train_label_loss: 0.5842, \n"
     ]
    },
    {
     "name": "stdout",
     "output_type": "stream",
     "text": [
      "epoch: 3, [batch: 6720 / 33600], examples_per_second: 3923.9341, train_label_loss: 1.3805, \n"
     ]
    },
    {
     "name": "stdout",
     "output_type": "stream",
     "text": [
      "epoch: 3, [batch: 10080 / 33600], examples_per_second: 3971.2789, train_label_loss: 0.5974, \n"
     ]
    },
    {
     "name": "stdout",
     "output_type": "stream",
     "text": [
      "epoch: 3, [batch: 13440 / 33600], examples_per_second: 4127.0715, train_label_loss: 0.6755, \n"
     ]
    },
    {
     "name": "stdout",
     "output_type": "stream",
     "text": [
      "epoch: 3, [batch: 16800 / 33600], examples_per_second: 4595.4136, train_label_loss: 0.7334, \n"
     ]
    },
    {
     "name": "stdout",
     "output_type": "stream",
     "text": [
      "epoch: 3, [batch: 20160 / 33600], examples_per_second: 4026.9143, train_label_loss: 0.5339, \n"
     ]
    },
    {
     "name": "stdout",
     "output_type": "stream",
     "text": [
      "epoch: 3, [batch: 23520 / 33600], examples_per_second: 3924.0142, train_label_loss: 0.9714, \n"
     ]
    },
    {
     "name": "stdout",
     "output_type": "stream",
     "text": [
      "epoch: 3, [batch: 26880 / 33600], examples_per_second: 3949.8557, train_label_loss: 0.6144, \n"
     ]
    },
    {
     "name": "stdout",
     "output_type": "stream",
     "text": [
      "epoch: 3, [batch: 30240 / 33600], examples_per_second: 3942.4293, train_label_loss: 0.9871, \n"
     ]
    },
    {
     "name": "stdout",
     "output_type": "stream",
     "text": [
      "=============================================================\n",
      "epoch: 3, source_val_acc_label: 0.6993, target_val_acc_label: 0.9681, source_val_label_loss: 0.8040, target_val_label_loss: 0.2068, \n",
      "=============================================================\n"
     ]
    },
    {
     "name": "stdout",
     "output_type": "stream",
     "text": [
      "New best\n"
     ]
    },
    {
     "name": "stdout",
     "output_type": "stream",
     "text": [
      "epoch: 4, [batch: 1 / 33600], examples_per_second: 1.0094, train_label_loss: 0.9691, \n"
     ]
    },
    {
     "name": "stdout",
     "output_type": "stream",
     "text": [
      "epoch: 4, [batch: 3360 / 33600], examples_per_second: 3891.4118, train_label_loss: 0.4637, \n"
     ]
    },
    {
     "name": "stdout",
     "output_type": "stream",
     "text": [
      "epoch: 4, [batch: 6720 / 33600], examples_per_second: 3964.4675, train_label_loss: 0.9969, \n"
     ]
    },
    {
     "name": "stdout",
     "output_type": "stream",
     "text": [
      "epoch: 4, [batch: 10080 / 33600], examples_per_second: 3981.8177, train_label_loss: 0.3755, \n"
     ]
    },
    {
     "name": "stdout",
     "output_type": "stream",
     "text": [
      "epoch: 4, [batch: 13440 / 33600], examples_per_second: 4229.4466, train_label_loss: 0.6141, \n"
     ]
    },
    {
     "name": "stdout",
     "output_type": "stream",
     "text": [
      "epoch: 4, [batch: 16800 / 33600], examples_per_second: 4663.5241, train_label_loss: 0.6888, \n"
     ]
    },
    {
     "name": "stdout",
     "output_type": "stream",
     "text": [
      "epoch: 4, [batch: 20160 / 33600], examples_per_second: 3959.7242, train_label_loss: 0.6870, \n"
     ]
    },
    {
     "name": "stdout",
     "output_type": "stream",
     "text": [
      "epoch: 4, [batch: 23520 / 33600], examples_per_second: 3878.1779, train_label_loss: 0.8040, \n"
     ]
    },
    {
     "name": "stdout",
     "output_type": "stream",
     "text": [
      "epoch: 4, [batch: 26880 / 33600], examples_per_second: 3982.4400, train_label_loss: 0.2745, \n"
     ]
    },
    {
     "name": "stdout",
     "output_type": "stream",
     "text": [
      "epoch: 4, [batch: 30240 / 33600], examples_per_second: 3974.5122, train_label_loss: 0.5731, \n"
     ]
    },
    {
     "name": "stdout",
     "output_type": "stream",
     "text": [
      "=============================================================\n",
      "epoch: 4, source_val_acc_label: 0.7168, target_val_acc_label: 0.9774, source_val_label_loss: 0.7742, target_val_label_loss: 0.2111, \n",
      "=============================================================\n"
     ]
    },
    {
     "name": "stdout",
     "output_type": "stream",
     "text": [
      "New best\n"
     ]
    },
    {
     "name": "stdout",
     "output_type": "stream",
     "text": [
      "epoch: 5, [batch: 1 / 33600], examples_per_second: 1.0080, train_label_loss: 0.5738, \n"
     ]
    },
    {
     "name": "stdout",
     "output_type": "stream",
     "text": [
      "epoch: 5, [batch: 3360 / 33600], examples_per_second: 3892.9981, train_label_loss: 0.5233, \n"
     ]
    },
    {
     "name": "stdout",
     "output_type": "stream",
     "text": [
      "epoch: 5, [batch: 6720 / 33600], examples_per_second: 3915.7648, train_label_loss: 0.4340, \n"
     ]
    },
    {
     "name": "stdout",
     "output_type": "stream",
     "text": [
      "epoch: 5, [batch: 10080 / 33600], examples_per_second: 3875.2931, train_label_loss: 0.7980, \n"
     ]
    },
    {
     "name": "stdout",
     "output_type": "stream",
     "text": [
      "epoch: 5, [batch: 13440 / 33600], examples_per_second: 4160.1331, train_label_loss: 0.5025, \n"
     ]
    },
    {
     "name": "stdout",
     "output_type": "stream",
     "text": [
      "epoch: 5, [batch: 16800 / 33600], examples_per_second: 4358.1212, train_label_loss: 0.8668, \n"
     ]
    },
    {
     "name": "stdout",
     "output_type": "stream",
     "text": [
      "epoch: 5, [batch: 20160 / 33600], examples_per_second: 3931.8314, train_label_loss: 0.6637, \n"
     ]
    },
    {
     "name": "stdout",
     "output_type": "stream",
     "text": [
      "epoch: 5, [batch: 23520 / 33600], examples_per_second: 3905.9331, train_label_loss: 0.5921, \n"
     ]
    },
    {
     "name": "stdout",
     "output_type": "stream",
     "text": [
      "epoch: 5, [batch: 26880 / 33600], examples_per_second: 3881.2985, train_label_loss: 0.7068, \n"
     ]
    },
    {
     "name": "stdout",
     "output_type": "stream",
     "text": [
      "epoch: 5, [batch: 30240 / 33600], examples_per_second: 4030.3999, train_label_loss: 0.2674, \n"
     ]
    },
    {
     "name": "stdout",
     "output_type": "stream",
     "text": [
      "=============================================================\n",
      "epoch: 5, source_val_acc_label: 0.7169, target_val_acc_label: 0.9775, source_val_label_loss: 0.7701, target_val_label_loss: 0.2354, \n",
      "=============================================================\n"
     ]
    },
    {
     "name": "stdout",
     "output_type": "stream",
     "text": [
      "New best\n"
     ]
    },
    {
     "name": "stdout",
     "output_type": "stream",
     "text": [
      "epoch: 6, [batch: 1 / 33600], examples_per_second: 1.0278, train_label_loss: 0.3960, \n"
     ]
    },
    {
     "name": "stdout",
     "output_type": "stream",
     "text": [
      "epoch: 6, [batch: 3360 / 33600], examples_per_second: 3862.9204, train_label_loss: 0.9769, \n"
     ]
    },
    {
     "name": "stdout",
     "output_type": "stream",
     "text": [
      "epoch: 6, [batch: 6720 / 33600], examples_per_second: 3894.7237, train_label_loss: 0.6890, \n"
     ]
    },
    {
     "name": "stdout",
     "output_type": "stream",
     "text": [
      "epoch: 6, [batch: 10080 / 33600], examples_per_second: 3854.1041, train_label_loss: 0.5120, \n"
     ]
    },
    {
     "name": "stdout",
     "output_type": "stream",
     "text": [
      "epoch: 6, [batch: 13440 / 33600], examples_per_second: 4173.8285, train_label_loss: 0.4980, \n"
     ]
    },
    {
     "name": "stdout",
     "output_type": "stream",
     "text": [
      "epoch: 6, [batch: 16800 / 33600], examples_per_second: 4567.8596, train_label_loss: 0.3607, \n"
     ]
    },
    {
     "name": "stdout",
     "output_type": "stream",
     "text": [
      "epoch: 6, [batch: 20160 / 33600], examples_per_second: 3983.0365, train_label_loss: 0.5851, \n"
     ]
    },
    {
     "name": "stdout",
     "output_type": "stream",
     "text": [
      "epoch: 6, [batch: 23520 / 33600], examples_per_second: 3997.0122, train_label_loss: 0.2965, \n"
     ]
    },
    {
     "name": "stdout",
     "output_type": "stream",
     "text": [
      "epoch: 6, [batch: 26880 / 33600], examples_per_second: 4006.0164, train_label_loss: 0.8905, \n"
     ]
    },
    {
     "name": "stdout",
     "output_type": "stream",
     "text": [
      "epoch: 6, [batch: 30240 / 33600], examples_per_second: 3906.3910, train_label_loss: 0.6342, \n"
     ]
    },
    {
     "name": "stdout",
     "output_type": "stream",
     "text": [
      "=============================================================\n",
      "epoch: 6, source_val_acc_label: 0.7249, target_val_acc_label: 0.9788, source_val_label_loss: 0.7591, target_val_label_loss: 0.2277, \n",
      "=============================================================\n"
     ]
    },
    {
     "name": "stdout",
     "output_type": "stream",
     "text": [
      "New best\n"
     ]
    },
    {
     "name": "stdout",
     "output_type": "stream",
     "text": [
      "epoch: 7, [batch: 1 / 33600], examples_per_second: 1.0124, train_label_loss: 0.4266, \n"
     ]
    },
    {
     "name": "stdout",
     "output_type": "stream",
     "text": [
      "epoch: 7, [batch: 3360 / 33600], examples_per_second: 3874.9518, train_label_loss: 0.4066, \n"
     ]
    },
    {
     "name": "stdout",
     "output_type": "stream",
     "text": [
      "epoch: 7, [batch: 6720 / 33600], examples_per_second: 4005.4974, train_label_loss: 0.4632, \n"
     ]
    },
    {
     "name": "stdout",
     "output_type": "stream",
     "text": [
      "epoch: 7, [batch: 10080 / 33600], examples_per_second: 4009.2660, train_label_loss: 0.6882, \n"
     ]
    },
    {
     "name": "stdout",
     "output_type": "stream",
     "text": [
      "epoch: 7, [batch: 13440 / 33600], examples_per_second: 4256.4453, train_label_loss: 0.2274, \n"
     ]
    },
    {
     "name": "stdout",
     "output_type": "stream",
     "text": [
      "epoch: 7, [batch: 16800 / 33600], examples_per_second: 4417.9294, train_label_loss: 0.4347, \n"
     ]
    },
    {
     "name": "stdout",
     "output_type": "stream",
     "text": [
      "epoch: 7, [batch: 20160 / 33600], examples_per_second: 3980.7485, train_label_loss: 0.3463, \n"
     ]
    },
    {
     "name": "stdout",
     "output_type": "stream",
     "text": [
      "epoch: 7, [batch: 23520 / 33600], examples_per_second: 3879.1983, train_label_loss: 0.7823, \n"
     ]
    },
    {
     "name": "stdout",
     "output_type": "stream",
     "text": [
      "epoch: 7, [batch: 26880 / 33600], examples_per_second: 3916.7512, train_label_loss: 0.4591, \n"
     ]
    },
    {
     "name": "stdout",
     "output_type": "stream",
     "text": [
      "epoch: 7, [batch: 30240 / 33600], examples_per_second: 3968.3546, train_label_loss: 0.4728, \n"
     ]
    },
    {
     "name": "stdout",
     "output_type": "stream",
     "text": [
      "=============================================================\n",
      "epoch: 7, source_val_acc_label: 0.7339, target_val_acc_label: 0.9804, source_val_label_loss: 0.7519, target_val_label_loss: 0.2182, \n",
      "=============================================================\n"
     ]
    },
    {
     "name": "stdout",
     "output_type": "stream",
     "text": [
      "New best\n"
     ]
    },
    {
     "name": "stdout",
     "output_type": "stream",
     "text": [
      "epoch: 8, [batch: 1 / 33600], examples_per_second: 1.0214, train_label_loss: 0.3286, \n"
     ]
    },
    {
     "name": "stdout",
     "output_type": "stream",
     "text": [
      "epoch: 8, [batch: 3360 / 33600], examples_per_second: 3961.7664, train_label_loss: 0.3370, \n"
     ]
    },
    {
     "name": "stdout",
     "output_type": "stream",
     "text": [
      "epoch: 8, [batch: 6720 / 33600], examples_per_second: 4004.3313, train_label_loss: 0.1197, \n"
     ]
    },
    {
     "name": "stdout",
     "output_type": "stream",
     "text": [
      "epoch: 8, [batch: 10080 / 33600], examples_per_second: 3933.4092, train_label_loss: 0.3306, \n"
     ]
    },
    {
     "name": "stdout",
     "output_type": "stream",
     "text": [
      "epoch: 8, [batch: 13440 / 33600], examples_per_second: 4309.8071, train_label_loss: 0.4368, \n"
     ]
    },
    {
     "name": "stdout",
     "output_type": "stream",
     "text": [
      "epoch: 8, [batch: 16800 / 33600], examples_per_second: 4367.9357, train_label_loss: 0.5625, \n"
     ]
    },
    {
     "name": "stdout",
     "output_type": "stream",
     "text": [
      "epoch: 8, [batch: 20160 / 33600], examples_per_second: 4339.9905, train_label_loss: 0.3761, \n"
     ]
    },
    {
     "name": "stdout",
     "output_type": "stream",
     "text": [
      "epoch: 8, [batch: 23520 / 33600], examples_per_second: 4240.3736, train_label_loss: 0.2612, \n"
     ]
    },
    {
     "name": "stdout",
     "output_type": "stream",
     "text": [
      "epoch: 8, [batch: 26880 / 33600], examples_per_second: 4293.5648, train_label_loss: 0.3889, \n"
     ]
    },
    {
     "name": "stdout",
     "output_type": "stream",
     "text": [
      "epoch: 8, [batch: 30240 / 33600], examples_per_second: 4948.5418, train_label_loss: 0.1602, \n"
     ]
    },
    {
     "name": "stdout",
     "output_type": "stream",
     "text": [
      "=============================================================\n",
      "epoch: 8, source_val_acc_label: 0.7341, target_val_acc_label: 0.9795, source_val_label_loss: 0.7540, target_val_label_loss: 0.2395, \n",
      "=============================================================\n"
     ]
    },
    {
     "name": "stdout",
     "output_type": "stream",
     "text": [
      "epoch: 9, [batch: 1 / 33600], examples_per_second: 1.3046, train_label_loss: 0.3946, \n"
     ]
    },
    {
     "name": "stdout",
     "output_type": "stream",
     "text": [
      "epoch: 9, [batch: 3360 / 33600], examples_per_second: 5117.8758, train_label_loss: 0.3649, \n"
     ]
    },
    {
     "name": "stdout",
     "output_type": "stream",
     "text": [
      "epoch: 9, [batch: 6720 / 33600], examples_per_second: 5126.5975, train_label_loss: 0.3943, \n"
     ]
    },
    {
     "name": "stdout",
     "output_type": "stream",
     "text": [
      "epoch: 9, [batch: 10080 / 33600], examples_per_second: 5178.0495, train_label_loss: 0.4119, \n"
     ]
    },
    {
     "name": "stdout",
     "output_type": "stream",
     "text": [
      "epoch: 9, [batch: 13440 / 33600], examples_per_second: 4947.8894, train_label_loss: 0.5345, \n"
     ]
    },
    {
     "name": "stdout",
     "output_type": "stream",
     "text": [
      "epoch: 9, [batch: 16800 / 33600], examples_per_second: 4997.6154, train_label_loss: 0.3800, \n"
     ]
    },
    {
     "name": "stdout",
     "output_type": "stream",
     "text": [
      "epoch: 9, [batch: 20160 / 33600], examples_per_second: 3989.3769, train_label_loss: 0.2465, \n"
     ]
    },
    {
     "name": "stdout",
     "output_type": "stream",
     "text": [
      "epoch: 9, [batch: 23520 / 33600], examples_per_second: 3859.9058, train_label_loss: 0.2746, \n"
     ]
    },
    {
     "name": "stdout",
     "output_type": "stream",
     "text": [
      "epoch: 9, [batch: 26880 / 33600], examples_per_second: 4240.9612, train_label_loss: 0.7453, \n"
     ]
    },
    {
     "name": "stdout",
     "output_type": "stream",
     "text": [
      "epoch: 9, [batch: 30240 / 33600], examples_per_second: 4105.4484, train_label_loss: 0.5338, \n"
     ]
    },
    {
     "name": "stdout",
     "output_type": "stream",
     "text": [
      "=============================================================\n",
      "epoch: 9, source_val_acc_label: 0.7316, target_val_acc_label: 0.9810, source_val_label_loss: 0.7758, target_val_label_loss: 0.2375, \n",
      "=============================================================\n"
     ]
    },
    {
     "name": "stdout",
     "output_type": "stream",
     "text": [
      "New best\n"
     ]
    },
    {
     "name": "stdout",
     "output_type": "stream",
     "text": [
      "epoch: 10, [batch: 1 / 33600], examples_per_second: 1.0490, train_label_loss: 0.4366, \n"
     ]
    },
    {
     "name": "stdout",
     "output_type": "stream",
     "text": [
      "epoch: 10, [batch: 3360 / 33600], examples_per_second: 3922.0794, train_label_loss: 0.3120, \n"
     ]
    },
    {
     "name": "stdout",
     "output_type": "stream",
     "text": [
      "epoch: 10, [batch: 6720 / 33600], examples_per_second: 3618.5820, train_label_loss: 0.4929, \n"
     ]
    },
    {
     "name": "stdout",
     "output_type": "stream",
     "text": [
      "epoch: 10, [batch: 10080 / 33600], examples_per_second: 3856.7898, train_label_loss: 0.2752, \n"
     ]
    },
    {
     "name": "stdout",
     "output_type": "stream",
     "text": [
      "epoch: 10, [batch: 13440 / 33600], examples_per_second: 3881.1934, train_label_loss: 0.1848, \n"
     ]
    },
    {
     "name": "stdout",
     "output_type": "stream",
     "text": [
      "epoch: 10, [batch: 16800 / 33600], examples_per_second: 3700.4030, train_label_loss: 0.3106, \n"
     ]
    },
    {
     "name": "stdout",
     "output_type": "stream",
     "text": [
      "epoch: 10, [batch: 20160 / 33600], examples_per_second: 3011.8991, train_label_loss: 0.5829, \n"
     ]
    },
    {
     "name": "stdout",
     "output_type": "stream",
     "text": [
      "epoch: 10, [batch: 23520 / 33600], examples_per_second: 2944.7986, train_label_loss: 0.4314, \n"
     ]
    },
    {
     "name": "stdout",
     "output_type": "stream",
     "text": [
      "epoch: 10, [batch: 26880 / 33600], examples_per_second: 3726.8991, train_label_loss: 0.2929, \n"
     ]
    },
    {
     "name": "stdout",
     "output_type": "stream",
     "text": [
      "epoch: 10, [batch: 30240 / 33600], examples_per_second: 3933.5015, train_label_loss: 0.4836, \n"
     ]
    },
    {
     "name": "stdout",
     "output_type": "stream",
     "text": [
      "=============================================================\n",
      "epoch: 10, source_val_acc_label: 0.7328, target_val_acc_label: 0.9818, source_val_label_loss: 0.7790, target_val_label_loss: 0.2324, \n",
      "=============================================================\n"
     ]
    },
    {
     "name": "stdout",
     "output_type": "stream",
     "text": [
      "New best\n"
     ]
    },
    {
     "name": "stdout",
     "output_type": "stream",
     "text": [
      "epoch: 11, [batch: 1 / 33600], examples_per_second: 0.7883, train_label_loss: 0.2937, \n"
     ]
    },
    {
     "name": "stdout",
     "output_type": "stream",
     "text": [
      "epoch: 11, [batch: 3360 / 33600], examples_per_second: 3712.9585, train_label_loss: 0.5711, \n"
     ]
    },
    {
     "name": "stdout",
     "output_type": "stream",
     "text": [
      "epoch: 11, [batch: 6720 / 33600], examples_per_second: 3504.5607, train_label_loss: 0.2292, \n"
     ]
    },
    {
     "name": "stdout",
     "output_type": "stream",
     "text": [
      "epoch: 11, [batch: 10080 / 33600], examples_per_second: 3016.1648, train_label_loss: 0.3533, \n"
     ]
    },
    {
     "name": "stdout",
     "output_type": "stream",
     "text": [
      "epoch: 11, [batch: 13440 / 33600], examples_per_second: 3218.6352, train_label_loss: 0.2007, \n"
     ]
    },
    {
     "name": "stdout",
     "output_type": "stream",
     "text": [
      "epoch: 11, [batch: 16800 / 33600], examples_per_second: 3404.1943, train_label_loss: 0.4863, \n"
     ]
    },
    {
     "name": "stdout",
     "output_type": "stream",
     "text": [
      "epoch: 11, [batch: 20160 / 33600], examples_per_second: 2981.8777, train_label_loss: 0.2878, \n"
     ]
    },
    {
     "name": "stdout",
     "output_type": "stream",
     "text": [
      "epoch: 11, [batch: 23520 / 33600], examples_per_second: 3029.0391, train_label_loss: 0.4684, \n"
     ]
    },
    {
     "name": "stdout",
     "output_type": "stream",
     "text": [
      "epoch: 11, [batch: 26880 / 33600], examples_per_second: 3456.3224, train_label_loss: 0.4780, \n"
     ]
    },
    {
     "name": "stdout",
     "output_type": "stream",
     "text": [
      "epoch: 11, [batch: 30240 / 33600], examples_per_second: 3171.1901, train_label_loss: 0.5124, \n"
     ]
    },
    {
     "name": "stdout",
     "output_type": "stream",
     "text": [
      "=============================================================\n",
      "epoch: 11, source_val_acc_label: 0.7298, target_val_acc_label: 0.9822, source_val_label_loss: 0.8116, target_val_label_loss: 0.2418, \n",
      "=============================================================\n"
     ]
    },
    {
     "name": "stdout",
     "output_type": "stream",
     "text": [
      "New best\n"
     ]
    },
    {
     "name": "stdout",
     "output_type": "stream",
     "text": [
      "epoch: 12, [batch: 1 / 33600], examples_per_second: 0.7763, train_label_loss: 0.4504, \n"
     ]
    },
    {
     "name": "stdout",
     "output_type": "stream",
     "text": [
      "epoch: 12, [batch: 3360 / 33600], examples_per_second: 3544.8767, train_label_loss: 0.1320, \n"
     ]
    },
    {
     "name": "stdout",
     "output_type": "stream",
     "text": [
      "epoch: 12, [batch: 6720 / 33600], examples_per_second: 3140.7542, train_label_loss: 0.3912, \n"
     ]
    },
    {
     "name": "stdout",
     "output_type": "stream",
     "text": [
      "epoch: 12, [batch: 10080 / 33600], examples_per_second: 3393.9654, train_label_loss: 0.2469, \n"
     ]
    },
    {
     "name": "stdout",
     "output_type": "stream",
     "text": [
      "epoch: 12, [batch: 13440 / 33600], examples_per_second: 3435.5067, train_label_loss: 0.2647, \n"
     ]
    },
    {
     "name": "stdout",
     "output_type": "stream",
     "text": [
      "epoch: 12, [batch: 16800 / 33600], examples_per_second: 3487.0380, train_label_loss: 0.2194, \n"
     ]
    },
    {
     "name": "stdout",
     "output_type": "stream",
     "text": [
      "epoch: 12, [batch: 20160 / 33600], examples_per_second: 3429.4814, train_label_loss: 0.4298, \n"
     ]
    },
    {
     "name": "stdout",
     "output_type": "stream",
     "text": [
      "epoch: 12, [batch: 23520 / 33600], examples_per_second: 3444.5644, train_label_loss: 0.0718, \n"
     ]
    },
    {
     "name": "stdout",
     "output_type": "stream",
     "text": [
      "epoch: 12, [batch: 26880 / 33600], examples_per_second: 3449.7235, train_label_loss: 0.4000, \n"
     ]
    },
    {
     "name": "stdout",
     "output_type": "stream",
     "text": [
      "epoch: 12, [batch: 30240 / 33600], examples_per_second: 3648.2423, train_label_loss: 0.5784, \n"
     ]
    },
    {
     "name": "stdout",
     "output_type": "stream",
     "text": [
      "=============================================================\n",
      "epoch: 12, source_val_acc_label: 0.7279, target_val_acc_label: 0.9811, source_val_label_loss: 0.8233, target_val_label_loss: 0.2563, \n",
      "=============================================================\n"
     ]
    },
    {
     "name": "stdout",
     "output_type": "stream",
     "text": [
      "epoch: 13, [batch: 1 / 33600], examples_per_second: 1.0107, train_label_loss: 0.2941, \n"
     ]
    },
    {
     "name": "stdout",
     "output_type": "stream",
     "text": [
      "epoch: 13, [batch: 3360 / 33600], examples_per_second: 4633.6894, train_label_loss: 0.5273, \n"
     ]
    },
    {
     "name": "stdout",
     "output_type": "stream",
     "text": [
      "epoch: 13, [batch: 6720 / 33600], examples_per_second: 4069.5491, train_label_loss: 0.2456, \n"
     ]
    },
    {
     "name": "stdout",
     "output_type": "stream",
     "text": [
      "epoch: 13, [batch: 10080 / 33600], examples_per_second: 3931.8355, train_label_loss: 0.2272, \n"
     ]
    },
    {
     "name": "stdout",
     "output_type": "stream",
     "text": [
      "epoch: 13, [batch: 13440 / 33600], examples_per_second: 3754.4511, train_label_loss: 0.3757, \n"
     ]
    },
    {
     "name": "stdout",
     "output_type": "stream",
     "text": [
      "epoch: 13, [batch: 16800 / 33600], examples_per_second: 2992.5959, train_label_loss: 0.2085, \n"
     ]
    },
    {
     "name": "stdout",
     "output_type": "stream",
     "text": [
      "epoch: 13, [batch: 20160 / 33600], examples_per_second: 3016.1732, train_label_loss: 0.7592, \n"
     ]
    },
    {
     "name": "stdout",
     "output_type": "stream",
     "text": [
      "epoch: 13, [batch: 23520 / 33600], examples_per_second: 3425.6696, train_label_loss: 0.2037, \n"
     ]
    },
    {
     "name": "stdout",
     "output_type": "stream",
     "text": [
      "epoch: 13, [batch: 26880 / 33600], examples_per_second: 3228.6435, train_label_loss: 0.1758, \n"
     ]
    },
    {
     "name": "stdout",
     "output_type": "stream",
     "text": [
      "epoch: 13, [batch: 30240 / 33600], examples_per_second: 2995.5722, train_label_loss: 0.2222, \n"
     ]
    },
    {
     "name": "stdout",
     "output_type": "stream",
     "text": [
      "=============================================================\n",
      "epoch: 13, source_val_acc_label: 0.7233, target_val_acc_label: 0.9818, source_val_label_loss: 0.8562, target_val_label_loss: 0.2562, \n",
      "=============================================================\n"
     ]
    },
    {
     "name": "stdout",
     "output_type": "stream",
     "text": [
      "epoch: 14, [batch: 1 / 33600], examples_per_second: 0.8125, train_label_loss: 0.3979, \n"
     ]
    },
    {
     "name": "stdout",
     "output_type": "stream",
     "text": [
      "epoch: 14, [batch: 3360 / 33600], examples_per_second: 3559.8867, train_label_loss: 0.2672, \n"
     ]
    },
    {
     "name": "stdout",
     "output_type": "stream",
     "text": [
      "epoch: 14, [batch: 6720 / 33600], examples_per_second: 3396.9073, train_label_loss: 0.3193, \n"
     ]
    },
    {
     "name": "stdout",
     "output_type": "stream",
     "text": [
      "epoch: 14, [batch: 10080 / 33600], examples_per_second: 3332.8515, train_label_loss: 0.1662, \n"
     ]
    },
    {
     "name": "stdout",
     "output_type": "stream",
     "text": [
      "epoch: 14, [batch: 13440 / 33600], examples_per_second: 2995.5444, train_label_loss: 0.5498, \n"
     ]
    },
    {
     "name": "stdout",
     "output_type": "stream",
     "text": [
      "epoch: 14, [batch: 16800 / 33600], examples_per_second: 3151.4308, train_label_loss: 0.4481, \n"
     ]
    },
    {
     "name": "stdout",
     "output_type": "stream",
     "text": [
      "epoch: 14, [batch: 20160 / 33600], examples_per_second: 3420.7002, train_label_loss: 0.1264, \n"
     ]
    },
    {
     "name": "stdout",
     "output_type": "stream",
     "text": [
      "epoch: 14, [batch: 23520 / 33600], examples_per_second: 3079.6521, train_label_loss: 0.2804, \n"
     ]
    },
    {
     "name": "stdout",
     "output_type": "stream",
     "text": [
      "epoch: 14, [batch: 26880 / 33600], examples_per_second: 3019.2772, train_label_loss: 0.2344, \n"
     ]
    },
    {
     "name": "stdout",
     "output_type": "stream",
     "text": [
      "epoch: 14, [batch: 30240 / 33600], examples_per_second: 3330.2471, train_label_loss: 0.3704, \n"
     ]
    },
    {
     "name": "stdout",
     "output_type": "stream",
     "text": [
      "=============================================================\n",
      "epoch: 14, source_val_acc_label: 0.7244, target_val_acc_label: 0.9809, source_val_label_loss: 0.8676, target_val_label_loss: 0.2755, \n",
      "=============================================================\n"
     ]
    },
    {
     "name": "stdout",
     "output_type": "stream",
     "text": [
      "epoch: 15, [batch: 1 / 33600], examples_per_second: 0.8521, train_label_loss: 0.2788, \n"
     ]
    },
    {
     "name": "stdout",
     "output_type": "stream",
     "text": [
      "epoch: 15, [batch: 3360 / 33600], examples_per_second: 3837.0150, train_label_loss: 0.2766, \n"
     ]
    },
    {
     "name": "stdout",
     "output_type": "stream",
     "text": [
      "epoch: 15, [batch: 6720 / 33600], examples_per_second: 3394.4100, train_label_loss: 0.2060, \n"
     ]
    },
    {
     "name": "stdout",
     "output_type": "stream",
     "text": [
      "epoch: 15, [batch: 10080 / 33600], examples_per_second: 3749.0625, train_label_loss: 0.3269, \n"
     ]
    },
    {
     "name": "stdout",
     "output_type": "stream",
     "text": [
      "epoch: 15, [batch: 13440 / 33600], examples_per_second: 3908.2206, train_label_loss: 0.0564, \n"
     ]
    },
    {
     "name": "stdout",
     "output_type": "stream",
     "text": [
      "epoch: 15, [batch: 16800 / 33600], examples_per_second: 3918.3448, train_label_loss: 0.0324, \n"
     ]
    },
    {
     "name": "stdout",
     "output_type": "stream",
     "text": [
      "epoch: 15, [batch: 20160 / 33600], examples_per_second: 3905.4360, train_label_loss: 0.2945, \n"
     ]
    },
    {
     "name": "stdout",
     "output_type": "stream",
     "text": [
      "epoch: 15, [batch: 23520 / 33600], examples_per_second: 3946.5661, train_label_loss: 0.2574, \n"
     ]
    },
    {
     "name": "stdout",
     "output_type": "stream",
     "text": [
      "epoch: 15, [batch: 26880 / 33600], examples_per_second: 3164.5839, train_label_loss: 0.4222, \n"
     ]
    },
    {
     "name": "stdout",
     "output_type": "stream",
     "text": [
      "epoch: 15, [batch: 30240 / 33600], examples_per_second: 2977.9981, train_label_loss: 0.2263, \n"
     ]
    },
    {
     "name": "stdout",
     "output_type": "stream",
     "text": [
      "=============================================================\n",
      "epoch: 15, source_val_acc_label: 0.7274, target_val_acc_label: 0.9815, source_val_label_loss: 0.9066, target_val_label_loss: 0.2841, \n",
      "=============================================================\n"
     ]
    },
    {
     "name": "stdout",
     "output_type": "stream",
     "text": [
      "Patience (3) exhausted\n"
     ]
    }
   ],
   "source": [
    "###################################\n",
    "# train\n",
    "###################################\n",
    "jig = PTN_Train_Eval_Test_Jig(model, p.BEST_MODEL_PATH, p.device)\n",
    "\n",
    "jig.train(\n",
    "    train_iterable=datasets.source.processed.train,\n",
    "    source_val_iterable=datasets.source.processed.val,\n",
    "    target_val_iterable=datasets.target.processed.val,\n",
    "    num_epochs=p.n_epoch,\n",
    "    num_logs_per_epoch=p.NUM_LOGS_PER_EPOCH,\n",
    "    patience=p.patience,\n",
    "    optimizer=optimizer,\n",
    "    criteria_for_best=p.criteria_for_best,\n",
    ")"
   ]
  },
  {
   "cell_type": "code",
   "execution_count": 23,
   "id": "31e8fabf",
   "metadata": {
    "execution": {
     "iopub.execute_input": "2022-03-23T16:54:52.981478Z",
     "iopub.status.busy": "2022-03-23T16:54:52.980548Z",
     "iopub.status.idle": "2022-03-23T16:54:53.167663Z",
     "shell.execute_reply": "2022-03-23T16:54:53.166884Z"
    },
    "papermill": {
     "duration": 0.284299,
     "end_time": "2022-03-23T16:54:53.167852",
     "exception": false,
     "start_time": "2022-03-23T16:54:52.883553",
     "status": "completed"
    },
    "tags": []
   },
   "outputs": [],
   "source": [
    "total_experiment_time_secs = time.time() - start_time_secs"
   ]
  },
  {
   "cell_type": "code",
   "execution_count": 24,
   "id": "87b9595b",
   "metadata": {
    "execution": {
     "iopub.execute_input": "2022-03-23T16:54:53.326240Z",
     "iopub.status.busy": "2022-03-23T16:54:53.325492Z",
     "iopub.status.idle": "2022-03-23T17:05:13.702145Z",
     "shell.execute_reply": "2022-03-23T17:05:13.701388Z"
    },
    "papermill": {
     "duration": 620.46023,
     "end_time": "2022-03-23T17:05:13.702333",
     "exception": false,
     "start_time": "2022-03-23T16:54:53.242103",
     "status": "completed"
    },
    "tags": []
   },
   "outputs": [],
   "source": [
    "###################################\n",
    "# Evaluate the model\n",
    "###################################\n",
    "source_test_label_accuracy, source_test_label_loss = jig.test(datasets.source.processed.test)\n",
    "target_test_label_accuracy, target_test_label_loss = jig.test(datasets.target.processed.test)\n",
    "\n",
    "source_val_label_accuracy, source_val_label_loss = jig.test(datasets.source.processed.val)\n",
    "target_val_label_accuracy, target_val_label_loss = jig.test(datasets.target.processed.val)\n",
    "\n",
    "history = jig.get_history()\n",
    "\n",
    "total_epochs_trained = len(history[\"epoch_indices\"])\n",
    "\n",
    "val_dl = Iterable_Aggregator((datasets.source.original.val,datasets.target.original.val))\n",
    "\n",
    "confusion = ptn_confusion_by_domain_over_dataloader(model, p.device, val_dl)\n",
    "per_domain_accuracy = per_domain_accuracy_from_confusion(confusion)\n",
    "\n",
    "# Add a key to per_domain_accuracy for if it was a source domain\n",
    "for domain, accuracy in per_domain_accuracy.items():\n",
    "    per_domain_accuracy[domain] = {\n",
    "        \"accuracy\": accuracy,\n",
    "        \"source?\": domain in p.domains_source\n",
    "    }\n",
    "\n",
    "# Do an independent accuracy assesment JUST TO BE SURE!\n",
    "# _source_test_label_accuracy = independent_accuracy_assesment(model, datasets.source.processed.test, p.device)\n",
    "# _target_test_label_accuracy = independent_accuracy_assesment(model, datasets.target.processed.test, p.device)\n",
    "# _source_val_label_accuracy = independent_accuracy_assesment(model, datasets.source.processed.val, p.device)\n",
    "# _target_val_label_accuracy = independent_accuracy_assesment(model, datasets.target.processed.val, p.device)\n",
    "\n",
    "# assert(_source_test_label_accuracy == source_test_label_accuracy)\n",
    "# assert(_target_test_label_accuracy == target_test_label_accuracy)\n",
    "# assert(_source_val_label_accuracy == source_val_label_accuracy)\n",
    "# assert(_target_val_label_accuracy == target_val_label_accuracy)\n",
    "\n",
    "experiment = {\n",
    "    \"experiment_name\": p.experiment_name,\n",
    "    \"parameters\": dict(p),\n",
    "    \"results\": {\n",
    "        \"source_test_label_accuracy\": source_test_label_accuracy,\n",
    "        \"source_test_label_loss\": source_test_label_loss,\n",
    "        \"target_test_label_accuracy\": target_test_label_accuracy,\n",
    "        \"target_test_label_loss\": target_test_label_loss,\n",
    "        \"source_val_label_accuracy\": source_val_label_accuracy,\n",
    "        \"source_val_label_loss\": source_val_label_loss,\n",
    "        \"target_val_label_accuracy\": target_val_label_accuracy,\n",
    "        \"target_val_label_loss\": target_val_label_loss,\n",
    "        \"total_epochs_trained\": total_epochs_trained,\n",
    "        \"total_experiment_time_secs\": total_experiment_time_secs,\n",
    "        \"confusion\": confusion,\n",
    "        \"per_domain_accuracy\": per_domain_accuracy,\n",
    "    },\n",
    "    \"history\": history,\n",
    "    \"dataset_metrics\": get_dataset_metrics(datasets, \"ptn\"),\n",
    "}"
   ]
  },
  {
   "cell_type": "code",
   "execution_count": 25,
   "id": "54a21829",
   "metadata": {
    "execution": {
     "iopub.execute_input": "2022-03-23T17:05:13.866174Z",
     "iopub.status.busy": "2022-03-23T17:05:13.865617Z",
     "iopub.status.idle": "2022-03-23T17:05:14.320554Z",
     "shell.execute_reply": "2022-03-23T17:05:14.321248Z"
    },
    "papermill": {
     "duration": 0.534827,
     "end_time": "2022-03-23T17:05:14.321434",
     "exception": false,
     "start_time": "2022-03-23T17:05:13.786607",
     "status": "completed"
    },
    "tags": []
   },
   "outputs": [
    {
     "data": {
      "image/png": "[encoded data removed]",
      "text/plain": [
       "<Figure size 1080x504 with 1 Axes>"
      ]
     },
     "metadata": {
      "needs_background": "light"
     },
     "output_type": "display_data"
    }
   ],
   "source": [
    "ax = get_loss_curve(experiment)\n",
    "plt.show()"
   ]
  },
  {
   "cell_type": "code",
   "execution_count": 26,
   "id": "fd8a0f60",
   "metadata": {
    "execution": {
     "iopub.execute_input": "2022-03-23T17:05:14.481530Z",
     "iopub.status.busy": "2022-03-23T17:05:14.481012Z",
     "iopub.status.idle": "2022-03-23T17:05:14.880607Z",
     "shell.execute_reply": "2022-03-23T17:05:14.880920Z"
    },
    "papermill": {
     "duration": 0.480537,
     "end_time": "2022-03-23T17:05:14.881008",
     "exception": false,
     "start_time": "2022-03-23T17:05:14.400471",
     "status": "completed"
    },
    "tags": []
   },
   "outputs": [
    {
     "data": {
      "text/plain": [
       "<AxesSubplot:title={'center':'Results'}>"
      ]
     },
     "execution_count": 26,
     "metadata": {},
     "output_type": "execute_result"
    },
    {
     "data": {
      "image/png": "[encoded data removed]",
      "text/plain": [
       "<Figure size 1080x504 with 1 Axes>"
      ]
     },
     "metadata": {
      "needs_background": "light"
     },
     "output_type": "display_data"
    }
   ],
   "source": [
    "get_results_table(experiment)"
   ]
  },
  {
   "cell_type": "code",
   "execution_count": 27,
   "id": "cf8dc689",
   "metadata": {
    "execution": {
     "iopub.execute_input": "2022-03-23T17:05:15.033146Z",
     "iopub.status.busy": "2022-03-23T17:05:15.032774Z",
     "iopub.status.idle": "2022-03-23T17:05:15.358281Z",
     "shell.execute_reply": "2022-03-23T17:05:15.357906Z"
    },
    "papermill": {
     "duration": 0.403189,
     "end_time": "2022-03-23T17:05:15.358357",
     "exception": false,
     "start_time": "2022-03-23T17:05:14.955168",
     "status": "completed"
    },
    "tags": []
   },
   "outputs": [
    {
     "data": {
      "text/plain": [
       "<AxesSubplot:title={'center':'Per Domain Validation Accuracy'}, xlabel='domain'>"
      ]
     },
     "execution_count": 27,
     "metadata": {},
     "output_type": "execute_result"
    },
    {
     "data": {
      "image/png": "[encoded data removed]",
      "text/plain": [
       "<Figure size 1080x504 with 1 Axes>"
      ]
     },
     "metadata": {
      "needs_background": "light"
     },
     "output_type": "display_data"
    }
   ],
   "source": [
    "get_domain_accuracies(experiment)"
   ]
  },
  {
   "cell_type": "code",
   "execution_count": 28,
   "id": "a74ae082",
   "metadata": {
    "execution": {
     "iopub.execute_input": "2022-03-23T17:05:15.517911Z",
     "iopub.status.busy": "2022-03-23T17:05:15.517532Z",
     "iopub.status.idle": "2022-03-23T17:05:15.540917Z",
     "shell.execute_reply": "2022-03-23T17:05:15.540546Z"
    },
    "papermill": {
     "duration": 0.102966,
     "end_time": "2022-03-23T17:05:15.540989",
     "exception": false,
     "start_time": "2022-03-23T17:05:15.438023",
     "status": "completed"
    },
    "tags": []
   },
   "outputs": [
    {
     "name": "stdout",
     "output_type": "stream",
     "text": [
      "Source Test Label Accuracy: 0.72978515625 Target Test Label Accuracy: 0.9827949438202247\n",
      "Source Val Label Accuracy: 0.7297526041666667 Target Val Label Accuracy: 0.9821785714285715\n"
     ]
    }
   ],
   "source": [
    "print(\"Source Test Label Accuracy:\", experiment[\"results\"][\"source_test_label_accuracy\"], \"Target Test Label Accuracy:\", experiment[\"results\"][\"target_test_label_accuracy\"])\n",
    "print(\"Source Val Label Accuracy:\", experiment[\"results\"][\"source_val_label_accuracy\"], \"Target Val Label Accuracy:\", experiment[\"results\"][\"target_val_label_accuracy\"])"
   ]
  },
  {
   "cell_type": "code",
   "execution_count": 29,
   "id": "dacca602",
   "metadata": {
    "execution": {
     "iopub.execute_input": "2022-03-23T17:05:15.695861Z",
     "iopub.status.busy": "2022-03-23T17:05:15.695480Z",
     "iopub.status.idle": "2022-03-23T17:05:15.716065Z",
     "shell.execute_reply": "2022-03-23T17:05:15.715693Z"
    },
    "papermill": {
     "duration": 0.099795,
     "end_time": "2022-03-23T17:05:15.716136",
     "exception": false,
     "start_time": "2022-03-23T17:05:15.616341",
     "status": "completed"
    },
    "tags": [
     "experiment_json"
    ]
   },
   "outputs": [
    {
     "data": {
      "text/plain": [
       "'{\"experiment_name\": \"tl_1v2:cores-oracle.run1\", \"parameters\": {\"experiment_name\": \"tl_1v2:cores-oracle.run1\", \"device\": \"cuda\", \"lr\": 0.0001, \"n_shot\": 3, \"n_query\": 2, \"train_k_factor\": 3, \"val_k_factor\": 2, \"test_k_factor\": 2, \"torch_default_dtype\": \"torch.float32\", \"n_epoch\": 50, \"patience\": 3, \"criteria_for_best\": \"target_accuracy\", \"x_net\": [{\"class\": \"nnReshape\", \"kargs\": {\"shape\": [-1, 1, 2, 256]}}, {\"class\": \"Conv2d\", \"kargs\": {\"in_channels\": 1, \"out_channels\": 256, \"kernel_size\": [1, 7], \"bias\": false, \"padding\": [0, 3]}}, {\"class\": \"ReLU\", \"kargs\": {\"inplace\": true}}, {\"class\": \"BatchNorm2d\", \"kargs\": {\"num_features\": 256}}, {\"class\": \"Conv2d\", \"kargs\": {\"in_channels\": 256, \"out_channels\": 80, \"kernel_size\": [2, 7], \"bias\": true, \"padding\": [0, 3]}}, {\"class\": \"ReLU\", \"kargs\": {\"inplace\": true}}, {\"class\": \"BatchNorm2d\", \"kargs\": {\"num_features\": 80}}, {\"class\": \"Flatten\", \"kargs\": {}}, {\"class\": \"Linear\", \"kargs\": {\"in_features\": 20480, \"out_features\": 256}}, {\"class\": \"ReLU\", \"kargs\": {\"inplace\": true}}, {\"class\": \"BatchNorm1d\", \"kargs\": {\"num_features\": 256}}, {\"class\": \"Linear\", \"kargs\": {\"in_features\": 256, \"out_features\": 256}}], \"NUM_LOGS_PER_EPOCH\": 10, \"BEST_MODEL_PATH\": \"./best_model.pth\", \"n_way\": 16, \"datasets\": [{\"labels\": [\"1-10.\", \"1-11.\", \"1-15.\", \"1-16.\", \"1-17.\", \"1-18.\", \"1-19.\", \"10-4.\", \"10-7.\", \"11-1.\", \"11-14.\", \"11-17.\", \"11-20.\", \"11-7.\", \"13-20.\", \"13-8.\", \"14-10.\", \"14-11.\", \"14-14.\", \"14-7.\", \"15-1.\", \"15-20.\", \"16-1.\", \"16-16.\", \"17-10.\", \"17-11.\", \"17-2.\", \"19-1.\", \"19-16.\", \"19-19.\", \"19-20.\", \"19-3.\", \"2-10.\", \"2-11.\", \"2-17.\", \"2-18.\", \"2-20.\", \"2-3.\", \"2-4.\", \"2-5.\", \"2-6.\", \"2-7.\", \"2-8.\", \"3-13.\", \"3-18.\", \"3-3.\", \"4-1.\", \"4-10.\", \"4-11.\", \"4-19.\", \"5-5.\", \"6-15.\", \"7-10.\", \"7-14.\", \"8-18.\", \"8-20.\", \"8-3.\", \"8-8.\"], \"domains\": [1, 2, 3, 4, 5], \"num_examples_per_domain_per_label\": -1, \"pickle_path\": \"/root/csc500-main/datasets/cores.stratified_ds.2022A.pkl\", \"source_or_target_dataset\": \"target\", \"x_transforms\": [\"unit_mag\"], \"episode_transforms\": [], \"domain_prefix\": \"CORES_\"}, {\"labels\": [\"3123D52\", \"3123D65\", \"3123D79\", \"3123D80\", \"3123D54\", \"3123D70\", \"3123D7B\", \"3123D89\", \"3123D58\", \"3123D76\", \"3123D7D\", \"3123EFE\", \"3123D64\", \"3123D78\", \"3123D7E\", \"3124E4A\"], \"domains\": [32, 38, 8, 44, 14, 50, 20, 26], \"num_examples_per_domain_per_label\": 10000, \"pickle_path\": \"/root/csc500-main/datasets/oracle.Run1_10kExamples_stratified_ds.2022A.pkl\", \"source_or_target_dataset\": \"source\", \"x_transforms\": [\"unit_mag\"], \"episode_transforms\": [], \"domain_prefix\": \"ORACLE.run1_\"}], \"dataset_seed\": 500, \"seed\": 500, \"x_shape\": [2, 256], \"domains_source\": [\"ORACLE.run1_32\", \"ORACLE.run1_38\", \"ORACLE.run1_8\", \"ORACLE.run1_44\", \"ORACLE.run1_14\", \"ORACLE.run1_50\", \"ORACLE.run1_20\", \"ORACLE.run1_26\"], \"domains_target\": [\"CORES_1\", \"CORES_2\", \"CORES_3\", \"CORES_4\", \"CORES_5\"]}, \"results\": {\"source_test_label_accuracy\": 0.72978515625, \"source_test_label_loss\": 0.8097118735313416, \"target_test_label_accuracy\": 0.9827949438202247, \"target_test_label_loss\": 0.24904084205627441, \"source_val_label_accuracy\": 0.7297526041666667, \"source_val_label_loss\": 0.8115675449371338, \"target_val_label_accuracy\": 0.9821785714285715, \"target_val_label_loss\": 0.24176934361457825, \"total_epochs_trained\": 15, \"total_experiment_time_secs\": 12237.564627170563, \"confusion\": {\"ORACLE.run1_50\": {\"7\": {\"7\": 782, \"10\": 24, \"13\": 241, \"5\": 139, \"6\": 8, \"4\": 6}, \"10\": {\"10\": 1125, \"8\": 12, \"7\": 13, \"0\": 32, \"13\": 17, \"5\": 1}, \"0\": {\"0\": 1053, \"10\": 50, \"2\": 92, \"13\": 5}, \"11\": {\"11\": 1072, \"9\": 84, \"15\": 28, \"12\": 6, \"14\": 9, \"1\": 1}, \"2\": {\"0\": 67, \"2\": 1133}, \"14\": {\"14\": 1176, \"12\": 15, \"11\": 9}, \"9\": {\"9\": 938, \"11\": 177, \"12\": 80, \"14\": 5}, \"13\": {\"13\": 769, \"7\": 191, \"5\": 158, \"6\": 56, \"10\": 10, \"0\": 5, \"4\": 10, \"1\": 1}, \"8\": {\"8\": 1165, \"10\": 25, \"3\": 10}, \"15\": {\"15\": 926, \"1\": 166, \"4\": 72, \"6\": 15, \"11\": 21}, \"4\": {\"4\": 622, \"1\": 163, \"6\": 98, \"13\": 17, \"5\": 108, \"15\": 163, \"11\": 1, \"7\": 28}, \"5\": {\"6\": 75, \"5\": 474, \"13\": 171, \"7\": 250, \"1\": 44, \"4\": 173, \"10\": 11, \"0\": 2}, \"3\": {\"3\": 1168, \"8\": 32}, \"1\": {\"6\": 110, \"1\": 763, \"15\": 221, \"4\": 81, \"13\": 4, \"11\": 7, \"5\": 10, \"2\": 2, \"14\": 1, \"0\": 1}, \"6\": {\"13\": 69, \"6\": 885, \"4\": 123, \"1\": 59, \"15\": 14, \"5\": 44, \"7\": 6}, \"12\": {\"12\": 1108, \"9\": 63, \"14\": 24, \"11\": 5}}, \"ORACLE.run1_14\": {\"14\": {\"14\": 990, \"2\": 81, \"3\": 27, \"13\": 66, \"6\": 35, \"4\": 1}, \"6\": {\"6\": 692, \"14\": 46, \"13\": 419, \"2\": 43}, \"5\": {\"5\": 826, \"4\": 185, \"1\": 124, \"3\": 13, \"2\": 45, \"7\": 6, \"15\": 1}, \"15\": {\"15\": 1175, \"7\": 18, \"2\": 3, \"5\": 4}, \"11\": {\"11\": 1093, \"0\": 45, \"9\": 60, \"10\": 2}, \"8\": {\"8\": 1200}, \"12\": {\"12\": 1198, \"9\": 2}, \"1\": {\"1\": 1100, \"5\": 87, \"4\": 10, \"7\": 3}, \"2\": {\"2\": 576, \"14\": 194, \"6\": 77, \"5\": 139, \"3\": 56, \"4\": 81, \"13\": 58, \"15\": 18, \"7\": 1}, \"13\": {\"13\": 426, \"14\": 166, \"6\": 491, \"2\": 101, \"5\": 12, \"3\": 1, \"4\": 3}, \"3\": {\"3\": 1048, \"4\": 97, \"5\": 4, \"14\": 24, \"2\": 23, \"0\": 3, \"1\": 1}, \"0\": {\"0\": 1094, \"10\": 63, \"3\": 20, \"11\": 21, \"14\": 2}, \"9\": {\"9\": 1195, \"11\": 2, \"12\": 3}, \"4\": {\"4\": 854, \"3\": 121, \"5\": 133, \"2\": 69, \"1\": 17, \"14\": 2, \"13\": 3, \"6\": 1}, \"7\": {\"7\": 1186, \"15\": 9, \"5\": 3, \"1\": 2}, \"10\": {\"10\": 1165, \"0\": 35}}, \"ORACLE.run1_32\": {\"4\": {\"8\": 10, \"4\": 705, \"2\": 209, \"7\": 113, \"5\": 85, \"13\": 48, \"0\": 26, \"14\": 4}, \"14\": {\"11\": 264, \"14\": 588, \"7\": 179, \"5\": 37, \"2\": 8, \"13\": 51, \"0\": 38, \"8\": 12, \"4\": 13, \"3\": 10}, \"5\": {\"13\": 265, \"4\": 127, \"8\": 90, \"5\": 455, \"7\": 136, \"2\": 9, \"14\": 23, \"0\": 39, \"11\": 7, \"3\": 49}, \"10\": {\"10\": 1194, \"1\": 6}, \"13\": {\"5\": 236, \"13\": 613, \"7\": 86, \"14\": 19, \"8\": 71, \"3\": 65, \"4\": 80, \"0\": 15, \"11\": 13, \"2\": 2}, \"9\": {\"9\": 1198, \"12\": 2}, \"6\": {\"6\": 1200}, \"3\": {\"3\": 1102, \"5\": 20, \"13\": 48, \"8\": 4, \"11\": 21, \"14\": 4, \"7\": 1}, \"15\": {\"15\": 1192, \"8\": 8}, \"7\": {\"0\": 35, \"7\": 576, \"13\": 105, \"14\": 152, \"5\": 156, \"4\": 117, \"11\": 28, \"2\": 26, \"8\": 5}, \"12\": {\"12\": 1200}, \"8\": {\"8\": 933, \"0\": 100, \"5\": 65, \"3\": 18, \"13\": 78, \"14\": 2, \"7\": 2, \"4\": 2}, \"11\": {\"11\": 946, \"14\": 195, \"13\": 14, \"7\": 23, \"3\": 16, \"5\": 5, \"8\": 1}, \"2\": {\"2\": 940, \"4\": 200, \"0\": 35, \"7\": 22, \"5\": 3}, \"1\": {\"1\": 1191, \"10\": 9}, \"0\": {\"0\": 878, \"14\": 20, \"4\": 57, \"5\": 34, \"13\": 31, \"8\": 120, \"2\": 31, \"7\": 29}}, \"ORACLE.run1_44\": {\"8\": {\"0\": 406, \"8\": 746, \"15\": 37, \"5\": 11}, \"11\": {\"11\": 1113, \"6\": 14, \"13\": 72, \"7\": 1}, \"14\": {\"14\": 766, \"4\": 335, \"15\": 69, \"5\": 30}, \"10\": {\"10\": 919, \"1\": 118, \"12\": 61, \"2\": 99, \"3\": 2, \"7\": 1}, \"3\": {\"3\": 1069, \"1\": 106, \"12\": 16, \"2\": 8, \"10\": 1}, \"15\": {\"15\": 977, \"0\": 89, \"8\": 15, \"14\": 87, \"4\": 10, \"5\": 22}, \"2\": {\"7\": 165, \"2\": 888, \"1\": 52, \"10\": 86, \"12\": 1, \"3\": 5, \"9\": 3}, \"12\": {\"12\": 953, \"1\": 184, \"10\": 49, \"3\": 13, \"2\": 1}, \"4\": {\"4\": 881, \"14\": 308, \"15\": 8, \"13\": 3}, \"1\": {\"12\": 221, \"1\": 724, \"3\": 128, \"10\": 93, \"2\": 33, \"7\": 1}, \"0\": {\"15\": 45, \"8\": 320, \"0\": 746, \"5\": 89}, \"9\": {\"9\": 686, \"7\": 248, \"6\": 120, \"13\": 135, \"2\": 9, \"4\": 2}, \"5\": {\"5\": 1009, \"8\": 6, \"0\": 92, \"14\": 41, \"15\": 44, \"4\": 8}, \"6\": {\"6\": 830, \"13\": 200, \"7\": 22, \"9\": 138, \"11\": 10}, \"7\": {\"7\": 763, \"9\": 208, \"2\": 189, \"13\": 2, \"6\": 36, \"1\": 2}, \"13\": {\"7\": 6, \"13\": 784, \"6\": 201, \"9\": 148, \"11\": 56, \"4\": 4, \"14\": 1}}, \"ORACLE.run1_8\": {\"13\": {\"4\": 179, \"13\": 457, \"6\": 38, \"0\": 296, \"10\": 145, \"14\": 73, \"7\": 9, \"1\": 2, \"5\": 1}, \"3\": {\"3\": 1036, \"12\": 50, \"2\": 113, \"15\": 1}, \"15\": {\"15\": 900, \"12\": 234, \"8\": 49, \"2\": 6, \"3\": 10, \"7\": 1}, \"4\": {\"6\": 141, \"4\": 579, \"14\": 185, \"13\": 213, \"10\": 29, \"0\": 49, \"7\": 4}, \"7\": {\"7\": 858, \"6\": 277, \"4\": 5, \"0\": 51, \"13\": 4, \"8\": 4, \"2\": 1}, \"2\": {\"2\": 980, \"15\": 41, \"3\": 155, \"7\": 12, \"12\": 10, \"8\": 2}, \"1\": {\"1\": 869, \"11\": 254, \"10\": 10, \"14\": 54, \"5\": 10, \"4\": 2, \"13\": 1}, \"0\": {\"0\": 751, \"13\": 241, \"6\": 69, \"4\": 43, \"7\": 83, \"10\": 10, \"14\": 3}, \"12\": {\"12\": 621, \"15\": 389, \"3\": 158, \"8\": 15, \"2\": 17}, \"6\": {\"6\": 715, \"0\": 67, \"13\": 30, \"4\": 114, \"7\": 259, \"8\": 12, \"10\": 1, \"14\": 2}, \"11\": {\"11\": 828, \"1\": 343, \"5\": 12, \"14\": 8, \"8\": 8, \"10\": 1}, \"9\": {\"9\": 1200}, \"5\": {\"5\": 1067, \"10\": 69, \"1\": 48, \"14\": 12, \"11\": 4}, \"10\": {\"10\": 780, \"13\": 112, \"14\": 234, \"4\": 41, \"0\": 8, \"1\": 4, \"11\": 1, \"5\": 20}, \"14\": {\"14\": 671, \"10\": 185, \"4\": 188, \"13\": 77, \"1\": 65, \"5\": 2, \"11\": 4, \"0\": 2, \"6\": 6}, \"8\": {\"8\": 1138, \"15\": 51, \"4\": 1, \"12\": 3, \"6\": 3, \"7\": 4}}, \"ORACLE.run1_20\": {\"6\": {\"6\": 1078, \"14\": 104, \"7\": 11, \"8\": 5, \"10\": 1, \"2\": 1}, \"11\": {\"11\": 1200}, \"5\": {\"5\": 558, \"0\": 211, \"12\": 121, \"1\": 166, \"3\": 32, \"15\": 102, \"2\": 4, \"13\": 3, \"4\": 2, \"9\": 1}, \"14\": {\"14\": 968, \"6\": 119, \"10\": 89, \"8\": 23, \"7\": 1}, \"2\": {\"9\": 285, \"2\": 572, \"7\": 151, \"12\": 44, \"13\": 62, \"3\": 65, \"1\": 7, \"4\": 2, \"5\": 5, \"15\": 6, \"8\": 1}, \"7\": {\"7\": 908, \"2\": 140, \"3\": 32, \"9\": 35, \"8\": 64, \"6\": 15, \"4\": 3, \"13\": 3}, \"3\": {\"7\": 40, \"3\": 457, \"9\": 191, \"12\": 244, \"2\": 80, \"5\": 49, \"4\": 83, \"0\": 4, \"1\": 33, \"8\": 15, \"10\": 3, \"13\": 1}, \"4\": {\"4\": 985, \"8\": 133, \"3\": 39, \"7\": 5, \"12\": 7, \"10\": 21, \"2\": 1, \"9\": 4, \"0\": 2, \"5\": 2, \"14\": 1}, \"9\": {\"9\": 509, \"3\": 194, \"2\": 306, \"12\": 111, \"7\": 52, \"15\": 2, \"13\": 10, \"4\": 3, \"1\": 11, \"5\": 2}, \"12\": {\"12\": 449, \"1\": 162, \"3\": 252, \"5\": 121, \"2\": 47, \"4\": 12, \"9\": 125, \"15\": 24, \"0\": 5, \"13\": 3}, \"0\": {\"0\": 713, \"12\": 22, \"5\": 306, \"15\": 109, \"1\": 16, \"2\": 7, \"3\": 12, \"8\": 3, \"7\": 6, \"13\": 3, \"4\": 2, \"9\": 1}, \"10\": {\"10\": 1103, \"8\": 13, \"4\": 19, \"14\": 61, \"9\": 1, \"6\": 2, \"3\": 1}, \"8\": {\"6\": 7, \"8\": 920, \"7\": 78, \"14\": 35, \"3\": 12, \"4\": 133, \"10\": 14, \"2\": 1}, \"13\": {\"2\": 34, \"13\": 1122, \"5\": 1, \"15\": 28, \"7\": 2, \"0\": 3, \"1\": 2, \"9\": 4, \"12\": 3, \"3\": 1}, \"1\": {\"15\": 195, \"1\": 552, \"5\": 186, \"3\": 32, \"12\": 190, \"0\": 12, \"2\": 7, \"13\": 5, \"9\": 19, \"4\": 2}, \"15\": {\"15\": 732, \"1\": 198, \"0\": 91, \"5\": 119, \"12\": 15, \"13\": 37, \"2\": 4, \"3\": 2, \"9\": 2}}, \"ORACLE.run1_38\": {\"3\": {\"3\": 1124, \"0\": 18, \"9\": 40, \"6\": 4, \"7\": 9, \"5\": 5}, \"8\": {\"8\": 779, \"10\": 22, \"5\": 229, \"0\": 116, \"15\": 22, \"7\": 27, \"13\": 5}, \"0\": {\"3\": 60, \"0\": 597, \"7\": 192, \"5\": 60, \"8\": 256, \"10\": 27, \"9\": 3, \"6\": 1, \"13\": 2, \"15\": 1, \"12\": 1}, \"2\": {\"2\": 1081, \"14\": 88, \"13\": 29, \"15\": 2}, \"4\": {\"4\": 1143, \"12\": 55, \"7\": 1, \"0\": 1}, \"7\": {\"5\": 66, \"7\": 956, \"0\": 140, \"8\": 35, \"3\": 3}, \"12\": {\"4\": 27, \"12\": 1164, \"10\": 8, \"0\": 1}, \"6\": {\"5\": 11, \"6\": 1042, \"9\": 147}, \"15\": {\"15\": 901, \"1\": 104, \"13\": 121, \"8\": 42, \"5\": 26, \"10\": 4, \"2\": 2}, \"11\": {\"11\": 1064, \"14\": 118, \"2\": 4, \"10\": 6, \"12\": 4, \"13\": 3, \"4\": 1}, \"9\": {\"9\": 886, \"6\": 286, \"3\": 15, \"0\": 3, \"7\": 1, \"5\": 9}, \"14\": {\"14\": 1101, \"2\": 51, \"11\": 30, \"10\": 9, \"12\": 7, \"13\": 2}, \"10\": {\"10\": 952, \"2\": 5, \"13\": 130, \"8\": 41, \"11\": 9, \"14\": 12, \"7\": 8, \"12\": 10, \"15\": 5, \"4\": 2, \"0\": 21, \"5\": 5}, \"5\": {\"5\": 568, \"8\": 317, \"9\": 38, \"15\": 42, \"0\": 61, \"3\": 4, \"6\": 53, \"7\": 94, \"1\": 6, \"13\": 12, \"10\": 5}, \"1\": {\"1\": 1132, \"15\": 63, \"13\": 1, \"5\": 2, \"6\": 2}, \"13\": {\"13\": 832, \"15\": 196, \"10\": 123, \"2\": 24, \"5\": 7, \"1\": 4, \"8\": 8, \"14\": 2, \"0\": 4}}, \"ORACLE.run1_26\": {\"5\": {\"5\": 780, \"2\": 50, \"13\": 149, \"15\": 134, \"8\": 31, \"7\": 7, \"9\": 42, \"3\": 3, \"6\": 2, \"10\": 2}, \"8\": {\"2\": 17, \"15\": 75, \"4\": 96, \"6\": 37, \"0\": 93, \"7\": 101, \"8\": 485, \"10\": 149, \"9\": 94, \"14\": 30, \"5\": 18, \"3\": 3, \"1\": 2}, \"4\": {\"1\": 116, \"4\": 491, \"10\": 65, \"14\": 211, \"0\": 122, \"8\": 90, \"7\": 100, \"9\": 1, \"15\": 3, \"3\": 1}, \"12\": {\"12\": 1197, \"11\": 3}, \"6\": {\"15\": 44, \"9\": 171, \"6\": 835, \"8\": 38, \"10\": 73, \"0\": 27, \"5\": 2, \"13\": 9, \"4\": 1}, \"7\": {\"7\": 646, \"4\": 120, \"8\": 68, \"2\": 126, \"3\": 187, \"0\": 18, \"10\": 2, \"5\": 5, \"14\": 10, \"9\": 5, \"1\": 4, \"15\": 9}, \"10\": {\"14\": 108, \"8\": 150, \"10\": 508, \"0\": 264, \"6\": 51, \"4\": 67, \"9\": 16, \"1\": 25, \"15\": 6, \"2\": 1, \"7\": 3, \"5\": 1}, \"0\": {\"6\": 26, \"0\": 386, \"15\": 3, \"10\": 259, \"7\": 20, \"14\": 202, \"8\": 133, \"1\": 18, \"4\": 146, \"9\": 7}, \"15\": {\"5\": 137, \"15\": 478, \"9\": 335, \"6\": 31, \"2\": 40, \"7\": 10, \"8\": 92, \"13\": 56, \"10\": 10, \"0\": 3, \"4\": 5, \"3\": 3}, \"9\": {\"15\": 351, \"9\": 510, \"6\": 144, \"13\": 28, \"8\": 98, \"10\": 13, \"7\": 4, \"5\": 42, \"2\": 4, \"0\": 4, \"4\": 2}, \"11\": {\"11\": 1194, \"12\": 6}, \"14\": {\"1\": 230, \"14\": 413, \"0\": 180, \"4\": 229, \"10\": 109, \"7\": 15, \"8\": 22, \"6\": 2}, \"2\": {\"3\": 377, \"2\": 466, \"8\": 21, \"5\": 129, \"15\": 54, \"7\": 124, \"13\": 6, \"10\": 3, \"9\": 15, \"4\": 4, \"1\": 1}, \"13\": {\"13\": 879, \"5\": 203, \"2\": 18, \"3\": 2, \"15\": 57, \"9\": 29, \"6\": 12}, \"3\": {\"2\": 276, \"3\": 731, \"7\": 188, \"4\": 3, \"8\": 1, \"0\": 1}, \"1\": {\"1\": 751, \"14\": 230, \"4\": 136, \"8\": 14, \"7\": 14, \"10\": 37, \"0\": 18}}, \"CORES_4\": {\"38\": {\"38\": 40}, \"3\": {\"3\": 110, \"52\": 1, \"50\": 3, \"25\": 9, \"21\": 1}, \"24\": {\"24\": 56}, \"49\": {\"49\": 20}, \"7\": {\"7\": 24}, \"17\": {\"17\": 80}, \"43\": {\"43\": 148}, \"30\": {\"30\": 44}, \"44\": {\"44\": 131, \"45\": 1}, \"23\": {\"23\": 144}, \"37\": {\"37\": 24}, \"4\": {\"4\": 132}, \"57\": {\"57\": 98, \"1\": 2}, \"16\": {\"16\": 96}, \"18\": {\"18\": 106, \"36\": 1, \"27\": 1}, \"20\": {\"20\": 124}, \"45\": {\"45\": 96}, \"15\": {\"15\": 129, \"11\": 3}, \"52\": {\"52\": 116}, \"19\": {\"19\": 140}, \"54\": {\"54\": 108}, \"56\": {\"56\": 130}, \"40\": {\"40\": 132, \"4\": 2}, \"28\": {\"28\": 32}, \"2\": {\"2\": 36}, \"9\": {\"9\": 120}, \"0\": {\"0\": 53, \"2\": 4, \"46\": 8, \"12\": 1, \"8\": 1, \"47\": 7, \"56\": 1, \"32\": 5}, \"36\": {\"36\": 92}, \"55\": {\"55\": 130}, \"35\": {\"35\": 40}, \"39\": {\"39\": 20}, \"31\": {\"31\": 28}, \"14\": {\"0\": 1, \"14\": 12, \"1\": 3}, \"12\": {\"12\": 92}, \"6\": {\"6\": 102, \"50\": 1, \"53\": 6, \"3\": 2, \"51\": 1}, \"26\": {\"26\": 24}, \"50\": {\"50\": 113, \"53\": 10, \"21\": 5, \"6\": 2, \"3\": 1, \"51\": 1}, \"21\": {\"21\": 122}, \"46\": {\"46\": 136, \"5\": 1, \"47\": 3}, \"51\": {\"51\": 140}, \"41\": {\"41\": 36}, \"34\": {\"34\": 24}, \"47\": {\"47\": 119, \"5\": 1}, \"5\": {\"5\": 102, \"3\": 1, \"47\": 2, \"0\": 1, \"49\": 1, \"46\": 1}, \"1\": {\"1\": 39, \"57\": 1}, \"48\": {\"48\": 133, \"27\": 1}, \"29\": {\"29\": 117, \"27\": 1}, \"22\": {\"22\": 128}, \"10\": {\"10\": 131, \"24\": 1}, \"32\": {\"32\": 24}, \"13\": {\"13\": 112}, \"42\": {\"42\": 32}, \"27\": {\"27\": 138}, \"8\": {\"8\": 142}, \"33\": {\"33\": 36}, \"25\": {\"25\": 132}, \"11\": {\"11\": 101, \"15\": 3}, \"53\": {\"53\": 112}}, \"CORES_2\": {\"32\": {\"32\": 28}, \"17\": {\"17\": 104}, \"38\": {\"38\": 20}, \"2\": {\"2\": 32}, \"43\": {\"43\": 144}, \"56\": {\"56\": 144}, \"37\": {\"37\": 36}, \"49\": {\"49\": 24}, \"0\": {\"0\": 48}, \"29\": {\"29\": 122, \"40\": 3, \"45\": 1, \"19\": 2}, \"35\": {\"35\": 32}, \"18\": {\"18\": 48}, \"25\": {\"25\": 136}, \"23\": {\"23\": 124}, \"15\": {\"15\": 145, \"7\": 1}, \"21\": {\"21\": 120}, \"51\": {\"51\": 128}, \"20\": {\"20\": 138}, \"7\": {\"7\": 36}, \"50\": {\"50\": 135, \"52\": 1}, \"31\": {\"31\": 28}, \"30\": {\"30\": 137, \"36\": 1, \"8\": 2}, \"19\": {\"19\": 155, \"44\": 1}, \"9\": {\"9\": 144}, \"52\": {\"52\": 124}, \"45\": {\"45\": 125, \"4\": 3}, \"8\": {\"8\": 154}, \"55\": {\"55\": 160}, \"12\": {\"12\": 92}, \"40\": {\"40\": 138, \"9\": 2}, \"28\": {\"28\": 28}, \"36\": {\"36\": 116}, \"39\": {\"39\": 28}, \"46\": {\"46\": 114, \"15\": 3, \"6\": 3, \"16\": 2}, \"14\": {\"14\": 15, \"55\": 2, \"22\": 1, \"1\": 2, \"0\": 1, \"57\": 1, \"29\": 2}, \"57\": {\"57\": 140, \"1\": 2}, \"34\": {\"34\": 28}, \"1\": {\"1\": 109, \"54\": 1, \"57\": 1, \"17\": 1}, \"53\": {\"53\": 136}, \"48\": {\"48\": 130}, \"3\": {\"3\": 85, \"21\": 3, \"53\": 4}, \"16\": {\"16\": 151, \"11\": 1}, \"6\": {\"6\": 122, \"8\": 1, \"52\": 1}, \"10\": {\"10\": 112}, \"13\": {\"13\": 116}, \"26\": {\"26\": 24}, \"24\": {\"24\": 95, \"10\": 1}, \"44\": {\"44\": 100}, \"27\": {\"27\": 150}, \"22\": {\"22\": 127, \"55\": 1}, \"33\": {\"33\": 28}, \"47\": {\"47\": 118}, \"5\": {\"5\": 115, \"47\": 5}, \"4\": {\"4\": 138}, \"41\": {\"41\": 20}, \"11\": {\"11\": 150}, \"54\": {\"54\": 108}, \"42\": {\"42\": 36}}, \"CORES_3\": {\"5\": {\"47\": 2, \"5\": 114}, \"32\": {\"32\": 28}, \"33\": {\"33\": 28}, \"49\": {\"49\": 20}, \"39\": {\"39\": 15, \"23\": 1}, \"11\": {\"11\": 141, \"16\": 1}, \"8\": {\"8\": 116}, \"26\": {\"26\": 24}, \"51\": {\"51\": 122}, \"4\": {\"4\": 146}, \"52\": {\"52\": 118}, \"47\": {\"47\": 88, \"39\": 1, \"0\": 3}, \"17\": {\"17\": 105, \"27\": 2, \"24\": 1}, \"53\": {\"53\": 136}, \"2\": {\"2\": 32}, \"12\": {\"12\": 92}, \"37\": {\"37\": 28}, \"9\": {\"9\": 148}, \"13\": {\"13\": 128}, \"54\": {\"54\": 100}, \"31\": {\"31\": 28}, \"34\": {\"34\": 32}, \"24\": {\"24\": 104}, \"7\": {\"7\": 36}, \"50\": {\"50\": 115, \"11\": 1, \"52\": 2}, \"46\": {\"46\": 127, \"11\": 1}, \"44\": {\"44\": 88}, \"40\": {\"40\": 116}, \"21\": {\"21\": 128}, \"45\": {\"45\": 59, \"4\": 1}, \"16\": {\"16\": 126}, \"14\": {\"14\": 28, \"35\": 1, \"22\": 4, \"28\": 1, \"55\": 1, \"34\": 1, \"57\": 1, \"1\": 1, \"31\": 1, \"0\": 1}, \"36\": {\"36\": 100}, \"56\": {\"56\": 114}, \"10\": {\"10\": 64}, \"18\": {\"18\": 84}, \"48\": {\"48\": 116}, \"38\": {\"38\": 28}, \"27\": {\"27\": 130}, \"42\": {\"42\": 28}, \"15\": {\"15\": 134}, \"1\": {\"1\": 93, \"57\": 7}, \"28\": {\"28\": 28}, \"43\": {\"43\": 136}, \"0\": {\"0\": 124}, \"57\": {\"1\": 7, \"57\": 117}, \"3\": {\"3\": 145, \"52\": 2, \"50\": 1}, \"29\": {\"29\": 123, \"9\": 1}, \"41\": {\"41\": 28}, \"25\": {\"25\": 146}, \"6\": {\"18\": 5, \"20\": 2, \"6\": 73, \"8\": 2, \"30\": 4, \"53\": 1, \"25\": 1}, \"35\": {\"35\": 28}, \"20\": {\"20\": 126}, \"23\": {\"23\": 134}, \"22\": {\"22\": 140}, \"19\": {\"19\": 116}, \"55\": {\"55\": 124}, \"30\": {\"30\": 120}}, \"CORES_1\": {\"24\": {\"24\": 101, \"22\": 7}, \"25\": {\"25\": 140}, \"45\": {\"45\": 137, \"42\": 5, \"9\": 2}, \"42\": {\"42\": 40}, \"2\": {\"2\": 36}, \"9\": {\"9\": 150}, \"21\": {\"24\": 1, \"21\": 120, \"22\": 2, \"15\": 1}, \"26\": {\"26\": 24}, \"49\": {\"49\": 32}, \"39\": {\"39\": 28}, \"46\": {\"46\": 136}, \"17\": {\"17\": 64}, \"19\": {\"19\": 156}, \"23\": {\"23\": 132}, \"1\": {\"1\": 98, \"56\": 1, \"29\": 1}, \"29\": {\"29\": 140}, \"56\": {\"56\": 123, \"1\": 3, \"57\": 16, \"19\": 8}, \"37\": {\"37\": 32}, \"33\": {\"33\": 32}, \"55\": {\"55\": 142}, \"30\": {\"30\": 118, \"9\": 2}, \"0\": {\"0\": 152}, \"36\": {\"36\": 64}, \"32\": {\"32\": 32}, \"31\": {\"31\": 28}, \"15\": {\"15\": 138}, \"12\": {\"12\": 104, \"53\": 1, \"20\": 2, \"51\": 5, \"13\": 2, \"46\": 2}, \"38\": {\"38\": 24}, \"40\": {\"40\": 145, \"4\": 1}, \"14\": {\"14\": 18, \"7\": 1, \"26\": 1, \"30\": 2, \"17\": 1, \"8\": 1}, \"13\": {\"13\": 150}, \"48\": {\"48\": 148}, \"34\": {\"34\": 24}, \"44\": {\"44\": 111, \"35\": 4, \"1\": 3, \"57\": 8, \"56\": 1, \"29\": 2, \"19\": 1}, \"5\": {\"5\": 152}, \"11\": {\"11\": 140}, \"7\": {\"7\": 28}, \"18\": {\"18\": 72}, \"52\": {\"52\": 128, \"22\": 2, \"36\": 1, \"10\": 1}, \"51\": {\"51\": 140, \"41\": 2}, \"41\": {\"41\": 24}, \"16\": {\"16\": 140}, \"22\": {\"22\": 113, \"24\": 13, \"10\": 4, \"21\": 2, \"23\": 1, \"11\": 1}, \"3\": {\"3\": 138, \"13\": 2}, \"54\": {\"54\": 104}, \"27\": {\"27\": 144}, \"20\": {\"20\": 140}, \"8\": {\"8\": 138}, \"50\": {\"50\": 144}, \"57\": {\"57\": 126, \"56\": 7, \"1\": 6, \"19\": 1}, \"4\": {\"4\": 132}, \"47\": {\"47\": 146}, \"10\": {\"10\": 96}, \"35\": {\"35\": 36}, \"53\": {\"53\": 126}, \"6\": {\"6\": 91, \"48\": 3, \"8\": 1, \"2\": 1}, \"43\": {\"43\": 140}, \"28\": {\"28\": 28}}, \"CORES_5\": {\"35\": {\"35\": 36}, \"57\": {\"57\": 127, \"47\": 1, \"1\": 1, \"48\": 1, \"14\": 2}, \"20\": {\"20\": 144}, \"12\": {\"12\": 96}, \"32\": {\"32\": 28, \"27\": 4}, \"25\": {\"25\": 138}, \"44\": {\"5\": 6, \"44\": 138, \"19\": 3, \"27\": 1}, \"31\": {\"31\": 36}, \"11\": {\"11\": 149, \"15\": 1}, \"47\": {\"47\": 99, \"3\": 1}, \"23\": {\"23\": 124}, \"43\": {\"43\": 133, \"15\": 11}, \"37\": {\"37\": 24}, \"5\": {\"5\": 126, \"19\": 1, \"44\": 1}, \"45\": {\"45\": 117, \"27\": 3, \"48\": 1, \"9\": 3}, \"7\": {\"7\": 32}, \"13\": {\"13\": 136}, \"49\": {\"49\": 36}, \"46\": {\"46\": 148}, \"16\": {\"16\": 136}, \"54\": {\"54\": 112}, \"19\": {\"19\": 152}, \"55\": {\"55\": 150}, \"30\": {\"30\": 127, \"17\": 1}, \"34\": {\"34\": 34, \"44\": 1, \"40\": 1}, \"50\": {\"50\": 115, \"21\": 16, \"51\": 1, \"53\": 2}, \"3\": {\"3\": 87, \"46\": 11, \"47\": 2}, \"10\": {\"10\": 68}, \"27\": {\"32\": 2, \"27\": 140}, \"33\": {\"33\": 32}, \"56\": {\"56\": 142}, \"9\": {\"9\": 141, \"48\": 9}, \"14\": {\"31\": 7, \"14\": 16, \"35\": 1, \"40\": 5, \"36\": 3, \"34\": 3, \"29\": 2, \"47\": 4, \"0\": 1, \"33\": 1, \"46\": 1}, \"4\": {\"4\": 100}, \"42\": {\"42\": 40}, \"24\": {\"24\": 80}, \"39\": {\"39\": 20}, \"52\": {\"52\": 130}, \"2\": {\"2\": 28}, \"28\": {\"28\": 32}, \"53\": {\"53\": 122}, \"17\": {\"17\": 116}, \"29\": {\"29\": 131, \"40\": 1}, \"38\": {\"38\": 32}, \"15\": {\"15\": 142, \"43\": 2}, \"26\": {\"26\": 24}, \"21\": {\"21\": 142, \"50\": 2}, \"41\": {\"41\": 28}, \"48\": {\"48\": 132, \"9\": 4}, \"22\": {\"22\": 26, \"28\": 1, \"33\": 1}, \"8\": {\"8\": 148}, \"18\": {\"18\": 64}, \"0\": {\"0\": 122}, \"1\": {\"1\": 138}, \"40\": {\"40\": 114, \"34\": 5, \"19\": 3, \"32\": 1, \"29\": 1}, \"6\": {\"6\": 119, \"17\": 2, \"8\": 4, \"26\": 2, \"1\": 1}, \"51\": {\"51\": 142}, \"36\": {\"36\": 92}}}, \"per_domain_accuracy\": {\"ORACLE.run1_50\": {\"accuracy\": 0.78953125, \"source?\": true}, \"ORACLE.run1_14\": {\"accuracy\": 0.8238541666666667, \"source?\": true}, \"ORACLE.run1_32\": {\"accuracy\": 0.7766145833333333, \"source?\": true}, \"ORACLE.run1_44\": {\"accuracy\": 0.7215625, \"source?\": true}, \"ORACLE.run1_8\": {\"accuracy\": 0.7005208333333334, \"source?\": true}, \"ORACLE.run1_20\": {\"accuracy\": 0.6680208333333333, \"source?\": true}, \"ORACLE.run1_38\": {\"accuracy\": 0.7980208333333333, \"source?\": true}, \"ORACLE.run1_26\": {\"accuracy\": 0.5598958333333334, \"source?\": true}, \"CORES_4\": {\"accuracy\": 0.9806818181818182, \"source?\": false}, \"CORES_2\": {\"accuracy\": 0.9901685393258427, \"source?\": false}, \"CORES_3\": {\"accuracy\": 0.9886532738095238, \"source?\": false}, \"CORES_1\": {\"accuracy\": 0.9771959459459459, \"source?\": false}, \"CORES_5\": {\"accuracy\": 0.9746857541899442, \"source?\": false}}}, \"history\": {\"epoch_indices\": [1, 2, 3, 4, 5, 6, 7, 8, 9, 10, 11, 12, 13, 14, 15], \"train_label_loss\": [1.0646398013266956, 0.8320889508626645, 0.7471519920212172, 0.6652263376644502, 0.6015250508904102, 0.5511697432852262, 0.5046380848212478, 0.4630167883195515, 0.4271071922037351, 0.39663281252130955, 0.3681391169060676, 0.3425393731429497, 0.31935321525175825, 0.2970676650663899, 0.2787210731686112], \"source_val_label_loss\": [0.9388975501060486, 0.863720715045929, 0.8040153384208679, 0.7741559743881226, 0.7701466083526611, 0.759059488773346, 0.7518810629844666, 0.7540168166160583, 0.775776207447052, 0.7789822816848755, 0.8115675449371338, 0.8233396410942078, 0.8562068939208984, 0.8676495552062988, 0.9065971970558167], \"target_val_label_loss\": [0.1513984203338623, 0.20125868916511536, 0.20679213106632233, 0.2110905945301056, 0.23537278175354004, 0.22767725586891174, 0.2181517481803894, 0.23948805034160614, 0.23746469616889954, 0.23241864144802094, 0.24176934361457825, 0.2563101649284363, 0.2562258541584015, 0.2755185067653656, 0.2841132581233978], \"source_val_acc_label\": [0.6495377604166667, 0.67220703125, 0.6992513020833333, 0.7167838541666667, 0.7168880208333334, 0.7248958333333333, 0.7338606770833334, 0.73408203125, 0.7316341145833334, 0.73279296875, 0.7297526041666667, 0.7278580729166667, 0.72333984375, 0.7244401041666667, 0.7274348958333333], \"target_val_acc_label\": [0.9653571428571428, 0.9657142857142857, 0.9681428571428572, 0.9774285714285714, 0.9774642857142857, 0.9788214285714286, 0.9804285714285714, 0.9794642857142857, 0.9810357142857142, 0.98175, 0.9821785714285715, 0.9811071428571428, 0.98175, 0.9808571428571429, 0.9815357142857143]}, \"dataset_metrics\": {\"source\": {\"train\": {\"n_unique_x\": 896000, \"n_unique_y\": 16, \"n_batch/episode\": 33600}, \"val\": {\"n_unique_x\": 192000, \"n_unique_y\": 16, \"n_batch/episode\": 4800}, \"test\": {\"n_unique_x\": 192000, \"n_unique_y\": 16, \"n_batch/episode\": 4800}}, \"target\": {\"train\": {\"n_unique_x\": 175197, \"n_unique_y\": 58, \"n_batch/episode\": 6309}, \"val\": {\"n_unique_x\": 37166, \"n_unique_y\": 58, \"n_batch/episode\": 875}, \"test\": {\"n_unique_x\": 37642, \"n_unique_y\": 58, \"n_batch/episode\": 890}}}}'"
      ]
     },
     "execution_count": 29,
     "metadata": {},
     "output_type": "execute_result"
    }
   ],
   "source": [
    "json.dumps(experiment)"
   ]
  }
 ],
 "metadata": {
  "celltoolbar": "Tags",
  "kernelspec": {
   "display_name": "Python 3 (ipykernel)",
   "language": "python",
   "name": "python3"
  },
  "language_info": {
   "codemirror_mode": {
    "name": "ipython",
    "version": 3
   },
   "file_extension": ".py",
   "mimetype": "text/x-python",
   "name": "python",
   "nbconvert_exporter": "python",
   "pygments_lexer": "ipython3",
   "version": "3.8.12"
  },
  "papermill": {
   "default_parameters": {},
   "duration": 12867.354712,
   "end_time": "2022-03-23T17:05:19.531311",
   "environment_variables": {},
   "exception": null,
   "input_path": "/root/csc500-main/csc500-notebooks/templates/tl_ptn_template.ipynb",
   "output_path": "trial.ipynb",
   "parameters": {
    "parameters": {
     "BEST_MODEL_PATH": "./best_model.pth",
     "NUM_LOGS_PER_EPOCH": 10,
     "criteria_for_best": "target_accuracy",
     "dataset_seed": 500,
     "datasets": [
      {
       "domain_prefix": "CORES_",
       "domains": [
        1,
        2,
        3,
        4,
        5
       ],
       "episode_transforms": [],
       "labels": [
        "1-10.",
        "1-11.",
        "1-15.",
        "1-16.",
        "1-17.",
        "1-18.",
        "1-19.",
        "10-4.",
        "10-7.",
        "11-1.",
        "11-14.",
        "11-17.",
        "11-20.",
        "11-7.",
        "13-20.",
        "13-8.",
        "14-10.",
        "14-11.",
        "14-14.",
        "14-7.",
        "15-1.",
        "15-20.",
        "16-1.",
        "16-16.",
        "17-10.",
        "17-11.",
        "17-2.",
        "19-1.",
        "19-16.",
        "19-19.",
        "19-20.",
        "19-3.",
        "2-10.",
        "2-11.",
        "2-17.",
        "2-18.",
        "2-20.",
        "2-3.",
        "2-4.",
        "2-5.",
        "2-6.",
        "2-7.",
        "2-8.",
        "3-13.",
        "3-18.",
        "3-3.",
        "4-1.",
        "4-10.",
        "4-11.",
        "4-19.",
        "5-5.",
        "6-15.",
        "7-10.",
        "7-14.",
        "8-18.",
        "8-20.",
        "8-3.",
        "8-8."
       ],
       "num_examples_per_domain_per_label": -1,
       "pickle_path": "/root/csc500-main/datasets/cores.stratified_ds.2022A.pkl",
       "source_or_target_dataset": "target",
       "x_transforms": [
        "unit_mag"
       ]
      },
      {
       "domain_prefix": "ORACLE.run1_",
       "domains": [
        32,
        38,
        8,
        44,
        14,
        50,
        20,
        26
       ],
       "episode_transforms": [],
       "labels": [
        "3123D52",
        "3123D65",
        "3123D79",
        "3123D80",
        "3123D54",
        "3123D70",
        "3123D7B",
        "3123D89",
        "3123D58",
        "3123D76",
        "3123D7D",
        "3123EFE",
        "3123D64",
        "3123D78",
        "3123D7E",
        "3124E4A"
       ],
       "num_examples_per_domain_per_label": 10000,
       "pickle_path": "/root/csc500-main/datasets/oracle.Run1_10kExamples_stratified_ds.2022A.pkl",
       "source_or_target_dataset": "source",
       "x_transforms": [
        "unit_mag"
       ]
      }
     ],
     "device": "cuda",
     "experiment_name": "tl_1v2:cores-oracle.run1",
     "lr": 0.0001,
     "n_epoch": 50,
     "n_query": 2,
     "n_shot": 3,
     "n_way": 16,
     "patience": 3,
     "seed": 500,
     "test_k_factor": 2,
     "torch_default_dtype": "torch.float32",
     "train_k_factor": 3,
     "val_k_factor": 2,
     "x_net": [
      {
       "class": "nnReshape",
       "kargs": {
        "shape": [
         -1,
         1,
         2,
         256
        ]
       }
      },
      {
       "class": "Conv2d",
       "kargs": {
        "bias": false,
        "in_channels": 1,
        "kernel_size": [
         1,
         7
        ],
        "out_channels": 256,
        "padding": [
         0,
         3
        ]
       }
      },
      {
       "class": "ReLU",
       "kargs": {
        "inplace": true
       }
      },
      {
       "class": "BatchNorm2d",
       "kargs": {
        "num_features": 256
       }
      },
      {
       "class": "Conv2d",
       "kargs": {
        "bias": true,
        "in_channels": 256,
        "kernel_size": [
         2,
         7
        ],
        "out_channels": 80,
        "padding": [
         0,
         3
        ]
       }
      },
      {
       "class": "ReLU",
       "kargs": {
        "inplace": true
       }
      },
      {
       "class": "BatchNorm2d",
       "kargs": {
        "num_features": 80
       }
      },
      {
       "class": "Flatten",
       "kargs": {}
      },
      {
       "class": "Linear",
       "kargs": {
        "in_features": 20480,
        "out_features": 256
       }
      },
      {
       "class": "ReLU",
       "kargs": {
        "inplace": true
       }
      },
      {
       "class": "BatchNorm1d",
       "kargs": {
        "num_features": 256
       }
      },
      {
       "class": "Linear",
       "kargs": {
        "in_features": 256,
        "out_features": 256
       }
      }
     ]
    }
   },
   "start_time": "2022-03-23T13:30:52.176599",
   "version": "2.3.4"
  }
 },
 "nbformat": 4,
 "nbformat_minor": 5
}