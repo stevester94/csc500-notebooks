{
 "cells": [
  {
   "cell_type": "markdown",
   "id": "9fea5f46",
   "metadata": {
    "papermill": {
     "duration": 0.028511,
     "end_time": "2022-03-21T03:20:42.583817",
     "exception": false,
     "start_time": "2022-03-21T03:20:42.555306",
     "status": "completed"
    },
    "tags": []
   },
   "source": [
    "# Transfer Learning Template"
   ]
  },
  {
   "cell_type": "code",
   "execution_count": 1,
   "id": "0902182a",
   "metadata": {
    "execution": {
     "iopub.execute_input": "2022-03-21T03:20:42.646264Z",
     "iopub.status.busy": "2022-03-21T03:20:42.645395Z",
     "iopub.status.idle": "2022-03-21T03:20:44.531706Z",
     "shell.execute_reply": "2022-03-21T03:20:44.531295Z"
    },
    "papermill": {
     "duration": 1.924436,
     "end_time": "2022-03-21T03:20:44.531801",
     "exception": false,
     "start_time": "2022-03-21T03:20:42.607365",
     "status": "completed"
    },
    "tags": []
   },
   "outputs": [],
   "source": [
    "%load_ext autoreload\n",
    "%autoreload 2\n",
    "%matplotlib inline\n",
    "\n",
    "    \n",
    "import os, json, sys, time, random\n",
    "import numpy as np\n",
    "import torch\n",
    "from torch.optim import Adam\n",
    "from  easydict import EasyDict\n",
    "import matplotlib.pyplot as plt\n",
    "\n",
    "from steves_models.steves_ptn import Steves_Prototypical_Network\n",
    "\n",
    "from steves_utils.lazy_iterable_wrapper import Lazy_Iterable_Wrapper\n",
    "from steves_utils.iterable_aggregator import Iterable_Aggregator\n",
    "from steves_utils.ptn_train_eval_test_jig import  PTN_Train_Eval_Test_Jig\n",
    "from steves_utils.torch_sequential_builder import build_sequential\n",
    "from steves_utils.torch_utils import get_dataset_metrics, ptn_confusion_by_domain_over_dataloader\n",
    "from steves_utils.utils_v2 import (per_domain_accuracy_from_confusion, get_datasets_base_path)\n",
    "from steves_utils.PTN.utils import independent_accuracy_assesment\n",
    "\n",
    "from torch.utils.data import DataLoader\n",
    "\n",
    "from steves_utils.stratified_dataset.episodic_accessor import Episodic_Accessor_Factory\n",
    "\n",
    "from steves_utils.ptn_do_report import (\n",
    "    get_loss_curve,\n",
    "    get_results_table,\n",
    "    get_parameters_table,\n",
    "    get_domain_accuracies,\n",
    ")\n",
    "\n",
    "from steves_utils.transforms import get_chained_transform"
   ]
  },
  {
   "cell_type": "markdown",
   "id": "41c840b4",
   "metadata": {
    "papermill": {
     "duration": 0.01939,
     "end_time": "2022-03-21T03:20:44.570984",
     "exception": false,
     "start_time": "2022-03-21T03:20:44.551594",
     "status": "completed"
    },
    "tags": []
   },
   "source": [
    "# Allowed Parameters\n",
    "These are allowed parameters, not defaults\n",
    "Each of these values need to be present in the injected parameters (the notebook will raise an exception if they are not present)\n",
    "\n",
    "Papermill uses the cell tag \"parameters\" to inject the real parameters below this cell.\n",
    "Enable tags to see what I mean"
   ]
  },
  {
   "cell_type": "code",
   "execution_count": 2,
   "id": "fd44eb83",
   "metadata": {
    "execution": {
     "iopub.execute_input": "2022-03-21T03:20:44.617367Z",
     "iopub.status.busy": "2022-03-21T03:20:44.616520Z",
     "iopub.status.idle": "2022-03-21T03:20:44.641575Z",
     "shell.execute_reply": "2022-03-21T03:20:44.640829Z"
    },
    "papermill": {
     "duration": 0.051331,
     "end_time": "2022-03-21T03:20:44.641733",
     "exception": false,
     "start_time": "2022-03-21T03:20:44.590402",
     "status": "completed"
    },
    "tags": []
   },
   "outputs": [],
   "source": [
    "required_parameters = {\n",
    "    \"experiment_name\",\n",
    "    \"lr\",\n",
    "    \"device\",\n",
    "    \"seed\",\n",
    "    \"dataset_seed\",\n",
    "    \"n_shot\",\n",
    "    \"n_query\",\n",
    "    \"n_way\",\n",
    "    \"train_k_factor\",\n",
    "    \"val_k_factor\",\n",
    "    \"test_k_factor\",\n",
    "    \"n_epoch\",\n",
    "    \"patience\",\n",
    "    \"criteria_for_best\",\n",
    "    \"x_net\",\n",
    "    \"datasets\",\n",
    "    \"torch_default_dtype\",\n",
    "    \"NUM_LOGS_PER_EPOCH\",\n",
    "    \"BEST_MODEL_PATH\",\n",
    "    \"x_shape\",\n",
    "}"
   ]
  },
  {
   "cell_type": "code",
   "execution_count": 3,
   "id": "fa3f0049",
   "metadata": {
    "execution": {
     "iopub.execute_input": "2022-03-21T03:20:44.698536Z",
     "iopub.status.busy": "2022-03-21T03:20:44.697601Z",
     "iopub.status.idle": "2022-03-21T03:20:44.722258Z",
     "shell.execute_reply": "2022-03-21T03:20:44.721537Z"
    },
    "papermill": {
     "duration": 0.05483,
     "end_time": "2022-03-21T03:20:44.722414",
     "exception": false,
     "start_time": "2022-03-21T03:20:44.667584",
     "status": "completed"
    },
    "tags": [
     "parameters"
    ]
   },
   "outputs": [],
   "source": [
    "from steves_utils.CORES.utils import (\n",
    "    ALL_NODES,\n",
    "    ALL_NODES_MINIMUM_1000_EXAMPLES,\n",
    "    ALL_DAYS\n",
    ")\n",
    "\n",
    "from steves_utils.ORACLE.utils_v2 import (\n",
    "    ALL_DISTANCES_FEET_NARROWED,\n",
    "    ALL_RUNS,\n",
    "    ALL_SERIAL_NUMBERS,\n",
    ")\n",
    "\n",
    "standalone_parameters = {}\n",
    "standalone_parameters[\"experiment_name\"] = \"STANDALONE PTN\"\n",
    "standalone_parameters[\"lr\"] = 0.001\n",
    "standalone_parameters[\"device\"] = \"cuda\"\n",
    "\n",
    "standalone_parameters[\"seed\"] = 1337\n",
    "standalone_parameters[\"dataset_seed\"] = 1337\n",
    "\n",
    "standalone_parameters[\"n_way\"] = 8\n",
    "standalone_parameters[\"n_shot\"] = 3\n",
    "standalone_parameters[\"n_query\"]  = 2\n",
    "standalone_parameters[\"train_k_factor\"] = 1\n",
    "standalone_parameters[\"val_k_factor\"] = 2\n",
    "standalone_parameters[\"test_k_factor\"] = 2\n",
    "\n",
    "\n",
    "standalone_parameters[\"n_epoch\"] = 50\n",
    "\n",
    "standalone_parameters[\"patience\"] = 10\n",
    "standalone_parameters[\"criteria_for_best\"] = \"source_loss\"\n",
    "\n",
    "standalone_parameters[\"datasets\"] = [\n",
    "    {\n",
    "        \"labels\": ALL_SERIAL_NUMBERS,\n",
    "        \"domains\": ALL_DISTANCES_FEET_NARROWED,\n",
    "        \"num_examples_per_domain_per_label\": 100,\n",
    "        \"pickle_path\": os.path.join(get_datasets_base_path(), \"oracle.Run1_framed_2000Examples_stratified_ds.2022A.pkl\"),\n",
    "        \"source_or_target_dataset\": \"source\",\n",
    "        \"x_transforms\": [\"unit_mag\", \"minus_two\"],\n",
    "        \"episode_transforms\": [],\n",
    "        \"domain_prefix\": \"ORACLE_\"\n",
    "    },\n",
    "    {\n",
    "        \"labels\": ALL_NODES,\n",
    "        \"domains\": ALL_DAYS,\n",
    "        \"num_examples_per_domain_per_label\": 100,\n",
    "        \"pickle_path\": os.path.join(get_datasets_base_path(), \"cores.stratified_ds.2022A.pkl\"),\n",
    "        \"source_or_target_dataset\": \"target\",\n",
    "        \"x_transforms\": [\"unit_power\", \"times_zero\"],\n",
    "        \"episode_transforms\": [],\n",
    "        \"domain_prefix\": \"CORES_\"\n",
    "    }   \n",
    "]\n",
    "\n",
    "standalone_parameters[\"torch_default_dtype\"] = \"torch.float32\" \n",
    "\n",
    "\n",
    "\n",
    "standalone_parameters[\"x_net\"] =     [\n",
    "    {\"class\": \"nnReshape\", \"kargs\": {\"shape\":[-1, 1, 2, 256]}},\n",
    "    {\"class\": \"Conv2d\", \"kargs\": { \"in_channels\":1, \"out_channels\":256, \"kernel_size\":(1,7), \"bias\":False, \"padding\":(0,3), },},\n",
    "    {\"class\": \"ReLU\", \"kargs\": {\"inplace\": True}},\n",
    "    {\"class\": \"BatchNorm2d\", \"kargs\": {\"num_features\":256}},\n",
    "\n",
    "    {\"class\": \"Conv2d\", \"kargs\": { \"in_channels\":256, \"out_channels\":80, \"kernel_size\":(2,7), \"bias\":True, \"padding\":(0,3), },},\n",
    "    {\"class\": \"ReLU\", \"kargs\": {\"inplace\": True}},\n",
    "    {\"class\": \"BatchNorm2d\", \"kargs\": {\"num_features\":80}},\n",
    "    {\"class\": \"Flatten\", \"kargs\": {}},\n",
    "\n",
    "    {\"class\": \"Linear\", \"kargs\": {\"in_features\": 80*256, \"out_features\": 256}}, # 80 units per IQ pair\n",
    "    {\"class\": \"ReLU\", \"kargs\": {\"inplace\": True}},\n",
    "    {\"class\": \"BatchNorm1d\", \"kargs\": {\"num_features\":256}},\n",
    "\n",
    "    {\"class\": \"Linear\", \"kargs\": {\"in_features\": 256, \"out_features\": 256}},\n",
    "]\n",
    "\n",
    "# Parameters relevant to results\n",
    "# These parameters will basically never need to change\n",
    "standalone_parameters[\"NUM_LOGS_PER_EPOCH\"] = 10\n",
    "standalone_parameters[\"BEST_MODEL_PATH\"] = \"./best_model.pth\"\n",
    "\n",
    "\n",
    "\n",
    "\n"
   ]
  },
  {
   "cell_type": "code",
   "execution_count": 4,
   "id": "a7258cd8",
   "metadata": {
    "execution": {
     "iopub.execute_input": "2022-03-21T03:20:44.784413Z",
     "iopub.status.busy": "2022-03-21T03:20:44.777051Z",
     "iopub.status.idle": "2022-03-21T03:20:44.808072Z",
     "shell.execute_reply": "2022-03-21T03:20:44.807225Z"
    },
    "papermill": {
     "duration": 0.060086,
     "end_time": "2022-03-21T03:20:44.808227",
     "exception": false,
     "start_time": "2022-03-21T03:20:44.748141",
     "status": "completed"
    },
    "tags": [
     "injected-parameters"
    ]
   },
   "outputs": [],
   "source": [
    "# Parameters\n",
    "parameters = {\n",
    "    \"experiment_name\": \"tl_1v2:cores-oracle.run1\",\n",
    "    \"device\": \"cuda\",\n",
    "    \"lr\": 0.0001,\n",
    "    \"n_shot\": 3,\n",
    "    \"n_query\": 2,\n",
    "    \"train_k_factor\": 3,\n",
    "    \"val_k_factor\": 2,\n",
    "    \"test_k_factor\": 2,\n",
    "    \"torch_default_dtype\": \"torch.float32\",\n",
    "    \"n_epoch\": 50,\n",
    "    \"patience\": 3,\n",
    "    \"criteria_for_best\": \"target_accuracy\",\n",
    "    \"x_net\": [\n",
    "        {\"class\": \"nnReshape\", \"kargs\": {\"shape\": [-1, 1, 2, 256]}},\n",
    "        {\n",
    "            \"class\": \"Conv2d\",\n",
    "            \"kargs\": {\n",
    "                \"in_channels\": 1,\n",
    "                \"out_channels\": 256,\n",
    "                \"kernel_size\": [1, 7],\n",
    "                \"bias\": False,\n",
    "                \"padding\": [0, 3],\n",
    "            },\n",
    "        },\n",
    "        {\"class\": \"ReLU\", \"kargs\": {\"inplace\": True}},\n",
    "        {\"class\": \"BatchNorm2d\", \"kargs\": {\"num_features\": 256}},\n",
    "        {\n",
    "            \"class\": \"Conv2d\",\n",
    "            \"kargs\": {\n",
    "                \"in_channels\": 256,\n",
    "                \"out_channels\": 80,\n",
    "                \"kernel_size\": [2, 7],\n",
    "                \"bias\": True,\n",
    "                \"padding\": [0, 3],\n",
    "            },\n",
    "        },\n",
    "        {\"class\": \"ReLU\", \"kargs\": {\"inplace\": True}},\n",
    "        {\"class\": \"BatchNorm2d\", \"kargs\": {\"num_features\": 80}},\n",
    "        {\"class\": \"Flatten\", \"kargs\": {}},\n",
    "        {\"class\": \"Linear\", \"kargs\": {\"in_features\": 20480, \"out_features\": 256}},\n",
    "        {\"class\": \"ReLU\", \"kargs\": {\"inplace\": True}},\n",
    "        {\"class\": \"BatchNorm1d\", \"kargs\": {\"num_features\": 256}},\n",
    "        {\"class\": \"Linear\", \"kargs\": {\"in_features\": 256, \"out_features\": 256}},\n",
    "    ],\n",
    "    \"NUM_LOGS_PER_EPOCH\": 10,\n",
    "    \"BEST_MODEL_PATH\": \"./best_model.pth\",\n",
    "    \"n_way\": 16,\n",
    "    \"datasets\": [\n",
    "        {\n",
    "            \"labels\": [\n",
    "                \"1-10.\",\n",
    "                \"1-11.\",\n",
    "                \"1-15.\",\n",
    "                \"1-16.\",\n",
    "                \"1-17.\",\n",
    "                \"1-18.\",\n",
    "                \"1-19.\",\n",
    "                \"10-4.\",\n",
    "                \"10-7.\",\n",
    "                \"11-1.\",\n",
    "                \"11-14.\",\n",
    "                \"11-17.\",\n",
    "                \"11-20.\",\n",
    "                \"11-7.\",\n",
    "                \"13-20.\",\n",
    "                \"13-8.\",\n",
    "                \"14-10.\",\n",
    "                \"14-11.\",\n",
    "                \"14-14.\",\n",
    "                \"14-7.\",\n",
    "                \"15-1.\",\n",
    "                \"15-20.\",\n",
    "                \"16-1.\",\n",
    "                \"16-16.\",\n",
    "                \"17-10.\",\n",
    "                \"17-11.\",\n",
    "                \"17-2.\",\n",
    "                \"19-1.\",\n",
    "                \"19-16.\",\n",
    "                \"19-19.\",\n",
    "                \"19-20.\",\n",
    "                \"19-3.\",\n",
    "                \"2-10.\",\n",
    "                \"2-11.\",\n",
    "                \"2-17.\",\n",
    "                \"2-18.\",\n",
    "                \"2-20.\",\n",
    "                \"2-3.\",\n",
    "                \"2-4.\",\n",
    "                \"2-5.\",\n",
    "                \"2-6.\",\n",
    "                \"2-7.\",\n",
    "                \"2-8.\",\n",
    "                \"3-13.\",\n",
    "                \"3-18.\",\n",
    "                \"3-3.\",\n",
    "                \"4-1.\",\n",
    "                \"4-10.\",\n",
    "                \"4-11.\",\n",
    "                \"4-19.\",\n",
    "                \"5-5.\",\n",
    "                \"6-15.\",\n",
    "                \"7-10.\",\n",
    "                \"7-14.\",\n",
    "                \"8-18.\",\n",
    "                \"8-20.\",\n",
    "                \"8-3.\",\n",
    "                \"8-8.\",\n",
    "            ],\n",
    "            \"domains\": [1, 2, 3, 4, 5],\n",
    "            \"num_examples_per_domain_per_label\": -1,\n",
    "            \"pickle_path\": \"/root/csc500-main/datasets/cores.stratified_ds.2022A.pkl\",\n",
    "            \"source_or_target_dataset\": \"source\",\n",
    "            \"x_transforms\": [\"unit_mag\"],\n",
    "            \"episode_transforms\": [],\n",
    "            \"domain_prefix\": \"CORES_\",\n",
    "        },\n",
    "        {\n",
    "            \"labels\": [\n",
    "                \"3123D52\",\n",
    "                \"3123D65\",\n",
    "                \"3123D79\",\n",
    "                \"3123D80\",\n",
    "                \"3123D54\",\n",
    "                \"3123D70\",\n",
    "                \"3123D7B\",\n",
    "                \"3123D89\",\n",
    "                \"3123D58\",\n",
    "                \"3123D76\",\n",
    "                \"3123D7D\",\n",
    "                \"3123EFE\",\n",
    "                \"3123D64\",\n",
    "                \"3123D78\",\n",
    "                \"3123D7E\",\n",
    "                \"3124E4A\",\n",
    "            ],\n",
    "            \"domains\": [32, 38, 8, 44, 14, 50, 20, 26],\n",
    "            \"num_examples_per_domain_per_label\": 10000,\n",
    "            \"pickle_path\": \"/root/csc500-main/datasets/oracle.Run1_10kExamples_stratified_ds.2022A.pkl\",\n",
    "            \"source_or_target_dataset\": \"target\",\n",
    "            \"x_transforms\": [\"unit_mag\"],\n",
    "            \"episode_transforms\": [],\n",
    "            \"domain_prefix\": \"ORACLE.run1_\",\n",
    "        },\n",
    "    ],\n",
    "    \"dataset_seed\": 1337,\n",
    "    \"seed\": 1337,\n",
    "}\n"
   ]
  },
  {
   "cell_type": "code",
   "execution_count": 5,
   "id": "8fa1cc33",
   "metadata": {
    "execution": {
     "iopub.execute_input": "2022-03-21T03:20:44.858889Z",
     "iopub.status.busy": "2022-03-21T03:20:44.858509Z",
     "iopub.status.idle": "2022-03-21T03:20:44.881135Z",
     "shell.execute_reply": "2022-03-21T03:20:44.880412Z"
    },
    "papermill": {
     "duration": 0.046348,
     "end_time": "2022-03-21T03:20:44.881289",
     "exception": false,
     "start_time": "2022-03-21T03:20:44.834941",
     "status": "completed"
    },
    "tags": []
   },
   "outputs": [],
   "source": [
    "# Set this to True if you want to run this template directly\n",
    "STANDALONE = False\n",
    "if STANDALONE:\n",
    "    print(\"parameters not injected, running with standalone_parameters\")\n",
    "    parameters = standalone_parameters\n",
    "\n",
    "if not 'parameters' in locals() and not 'parameters' in globals():\n",
    "    raise Exception(\"Parameter injection failed\")\n",
    "\n",
    "#Use an easy dict for all the parameters\n",
    "p = EasyDict(parameters)\n",
    "\n",
    "if \"x_shape\" not in p:\n",
    "    p.x_shape = [2,256] # Default to this if we dont supply x_shape\n",
    "\n",
    "\n",
    "supplied_keys = set(p.keys())\n",
    "\n",
    "if  supplied_keys != required_parameters:\n",
    "    print(\"Parameters are incorrect\")\n",
    "    if len(supplied_keys - required_parameters)>0: print(\"Shouldn't have:\", str(supplied_keys - required_parameters))\n",
    "    if len(required_parameters - supplied_keys)>0: print(\"Need to have:\", str(required_parameters - supplied_keys))\n",
    "    raise RuntimeError(\"Parameters are incorrect\")"
   ]
  },
  {
   "cell_type": "code",
   "execution_count": 6,
   "id": "3a028d58",
   "metadata": {
    "execution": {
     "iopub.execute_input": "2022-03-21T03:20:44.933831Z",
     "iopub.status.busy": "2022-03-21T03:20:44.933460Z",
     "iopub.status.idle": "2022-03-21T03:20:44.958454Z",
     "shell.execute_reply": "2022-03-21T03:20:44.957735Z"
    },
    "papermill": {
     "duration": 0.04914,
     "end_time": "2022-03-21T03:20:44.958606",
     "exception": false,
     "start_time": "2022-03-21T03:20:44.909466",
     "status": "completed"
    },
    "tags": []
   },
   "outputs": [],
   "source": [
    "###################################\n",
    "# Set the RNGs and make it all deterministic\n",
    "###################################\n",
    "np.random.seed(p.seed)\n",
    "random.seed(p.seed)\n",
    "torch.manual_seed(p.seed)\n",
    "\n",
    "torch.use_deterministic_algorithms(True) "
   ]
  },
  {
   "cell_type": "code",
   "execution_count": 7,
   "id": "b691acf6",
   "metadata": {
    "execution": {
     "iopub.execute_input": "2022-03-21T03:20:45.008034Z",
     "iopub.status.busy": "2022-03-21T03:20:45.007663Z",
     "iopub.status.idle": "2022-03-21T03:20:45.033316Z",
     "shell.execute_reply": "2022-03-21T03:20:45.032612Z"
    },
    "papermill": {
     "duration": 0.049332,
     "end_time": "2022-03-21T03:20:45.033477",
     "exception": false,
     "start_time": "2022-03-21T03:20:44.984145",
     "status": "completed"
    },
    "tags": []
   },
   "outputs": [],
   "source": [
    "###########################################\n",
    "# The stratified datasets honor this\n",
    "###########################################\n",
    "torch.set_default_dtype(eval(p.torch_default_dtype))"
   ]
  },
  {
   "cell_type": "code",
   "execution_count": 8,
   "id": "b5fba671",
   "metadata": {
    "execution": {
     "iopub.execute_input": "2022-03-21T03:20:45.081611Z",
     "iopub.status.busy": "2022-03-21T03:20:45.081236Z",
     "iopub.status.idle": "2022-03-21T03:20:45.136759Z",
     "shell.execute_reply": "2022-03-21T03:20:45.136035Z"
    },
    "papermill": {
     "duration": 0.07809,
     "end_time": "2022-03-21T03:20:45.136913",
     "exception": false,
     "start_time": "2022-03-21T03:20:45.058823",
     "status": "completed"
    },
    "tags": []
   },
   "outputs": [],
   "source": [
    "###################################\n",
    "# Build the network(s)\n",
    "# Note: It's critical to do this AFTER setting the RNG\n",
    "###################################\n",
    "x_net = build_sequential(p.x_net)"
   ]
  },
  {
   "cell_type": "code",
   "execution_count": 9,
   "id": "5d7e61cc",
   "metadata": {
    "execution": {
     "iopub.execute_input": "2022-03-21T03:20:45.187570Z",
     "iopub.status.busy": "2022-03-21T03:20:45.187191Z",
     "iopub.status.idle": "2022-03-21T03:20:45.212069Z",
     "shell.execute_reply": "2022-03-21T03:20:45.212754Z"
    },
    "papermill": {
     "duration": 0.049778,
     "end_time": "2022-03-21T03:20:45.212938",
     "exception": false,
     "start_time": "2022-03-21T03:20:45.163160",
     "status": "completed"
    },
    "tags": []
   },
   "outputs": [],
   "source": [
    "start_time_secs = time.time()"
   ]
  },
  {
   "cell_type": "code",
   "execution_count": 10,
   "id": "c6b67dfd",
   "metadata": {
    "execution": {
     "iopub.execute_input": "2022-03-21T03:20:45.263264Z",
     "iopub.status.busy": "2022-03-21T03:20:45.261459Z",
     "iopub.status.idle": "2022-03-21T03:20:45.286942Z",
     "shell.execute_reply": "2022-03-21T03:20:45.286225Z"
    },
    "papermill": {
     "duration": 0.047977,
     "end_time": "2022-03-21T03:20:45.287095",
     "exception": false,
     "start_time": "2022-03-21T03:20:45.239118",
     "status": "completed"
    },
    "tags": []
   },
   "outputs": [],
   "source": [
    "p.domains_source = []\n",
    "p.domains_target = []\n",
    "\n",
    "\n",
    "train_original_source = []\n",
    "val_original_source   = []\n",
    "test_original_source  = []\n",
    "\n",
    "train_original_target = []\n",
    "val_original_target   = []\n",
    "test_original_target  = []"
   ]
  },
  {
   "cell_type": "code",
   "execution_count": 11,
   "id": "e3d9c3d3",
   "metadata": {
    "execution": {
     "iopub.execute_input": "2022-03-21T03:20:45.337766Z",
     "iopub.status.busy": "2022-03-21T03:20:45.337395Z",
     "iopub.status.idle": "2022-03-21T03:20:45.360572Z",
     "shell.execute_reply": "2022-03-21T03:20:45.359851Z"
    },
    "papermill": {
     "duration": 0.046217,
     "end_time": "2022-03-21T03:20:45.360728",
     "exception": false,
     "start_time": "2022-03-21T03:20:45.314511",
     "status": "completed"
    },
    "tags": []
   },
   "outputs": [],
   "source": [
    "# global_x_transform_func = lambda x: normalize(x.to(torch.get_default_dtype()), \"unit_power\") # unit_power, unit_mag\n",
    "# global_x_transform_func = lambda x: normalize(x, \"unit_power\") # unit_power, unit_mag"
   ]
  },
  {
   "cell_type": "code",
   "execution_count": 12,
   "id": "acb78fd2",
   "metadata": {
    "execution": {
     "iopub.execute_input": "2022-03-21T03:20:45.423285Z",
     "iopub.status.busy": "2022-03-21T03:20:45.421982Z",
     "iopub.status.idle": "2022-03-21T03:20:45.444775Z",
     "shell.execute_reply": "2022-03-21T03:20:45.444033Z"
    },
    "papermill": {
     "duration": 0.057317,
     "end_time": "2022-03-21T03:20:45.444952",
     "exception": false,
     "start_time": "2022-03-21T03:20:45.387635",
     "status": "completed"
    },
    "tags": []
   },
   "outputs": [],
   "source": [
    "def add_dataset(\n",
    "    labels,\n",
    "    domains,\n",
    "    pickle_path,\n",
    "    x_transforms,\n",
    "    episode_transforms,\n",
    "    domain_prefix,\n",
    "    num_examples_per_domain_per_label,\n",
    "    source_or_target_dataset:str,\n",
    "    iterator_seed=p.seed,\n",
    "    dataset_seed=p.dataset_seed,\n",
    "    n_shot=p.n_shot,\n",
    "    n_way=p.n_way,\n",
    "    n_query=p.n_query,\n",
    "    train_val_test_k_factors=(p.train_k_factor,p.val_k_factor,p.test_k_factor),\n",
    "):\n",
    "   \n",
    "    if x_transforms == []: x_transform = None\n",
    "    else: x_transform = get_chained_transform(x_transforms)\n",
    "    \n",
    "    if episode_transforms == []: episode_transform = None\n",
    "    else: raise Exception(\"episode_transforms not implemented\")\n",
    "    \n",
    "    episode_transform = lambda tup, _prefix=domain_prefix: (_prefix + str(tup[0]), tup[1])\n",
    "\n",
    "\n",
    "    eaf = Episodic_Accessor_Factory(\n",
    "        labels=labels,\n",
    "        domains=domains,\n",
    "        num_examples_per_domain_per_label=num_examples_per_domain_per_label,\n",
    "        iterator_seed=iterator_seed,\n",
    "        dataset_seed=dataset_seed,\n",
    "        n_shot=n_shot,\n",
    "        n_way=n_way,\n",
    "        n_query=n_query,\n",
    "        train_val_test_k_factors=train_val_test_k_factors,\n",
    "        pickle_path=pickle_path,\n",
    "        x_transform_func=x_transform,\n",
    "    )\n",
    "\n",
    "    train, val, test = eaf.get_train(), eaf.get_val(), eaf.get_test()\n",
    "    train = Lazy_Iterable_Wrapper(train, episode_transform)\n",
    "    val = Lazy_Iterable_Wrapper(val, episode_transform)\n",
    "    test = Lazy_Iterable_Wrapper(test, episode_transform)\n",
    "\n",
    "    if source_or_target_dataset==\"source\":\n",
    "        train_original_source.append(train)\n",
    "        val_original_source.append(val)\n",
    "        test_original_source.append(test)\n",
    "\n",
    "        p.domains_source.extend(\n",
    "            [domain_prefix + str(u) for u in domains]\n",
    "        )\n",
    "    elif source_or_target_dataset==\"target\":\n",
    "        train_original_target.append(train)\n",
    "        val_original_target.append(val)\n",
    "        test_original_target.append(test)\n",
    "        p.domains_target.extend(\n",
    "            [domain_prefix + str(u) for u in domains]\n",
    "        )\n",
    "    else:\n",
    "        raise Exception(f\"invalid source_or_target_dataset: {source_or_target_dataset}\")\n",
    "    "
   ]
  },
  {
   "cell_type": "code",
   "execution_count": 13,
   "id": "fe266617",
   "metadata": {
    "execution": {
     "iopub.execute_input": "2022-03-21T03:20:45.495173Z",
     "iopub.status.busy": "2022-03-21T03:20:45.494797Z",
     "iopub.status.idle": "2022-03-21T03:22:59.107863Z",
     "shell.execute_reply": "2022-03-21T03:22:59.107046Z"
    },
    "papermill": {
     "duration": 133.637184,
     "end_time": "2022-03-21T03:22:59.108046",
     "exception": false,
     "start_time": "2022-03-21T03:20:45.470862",
     "status": "completed"
    },
    "tags": []
   },
   "outputs": [],
   "source": [
    "for ds in p.datasets:\n",
    "    add_dataset(**ds)"
   ]
  },
  {
   "cell_type": "code",
   "execution_count": 14,
   "id": "b90d65ac",
   "metadata": {
    "execution": {
     "iopub.execute_input": "2022-03-21T03:22:59.160852Z",
     "iopub.status.busy": "2022-03-21T03:22:59.159779Z",
     "iopub.status.idle": "2022-03-21T03:22:59.181166Z",
     "shell.execute_reply": "2022-03-21T03:22:59.180337Z"
    },
    "papermill": {
     "duration": 0.045404,
     "end_time": "2022-03-21T03:22:59.181338",
     "exception": false,
     "start_time": "2022-03-21T03:22:59.135934",
     "status": "completed"
    },
    "tags": []
   },
   "outputs": [],
   "source": [
    "# from steves_utils.CORES.utils import (\n",
    "#     ALL_NODES,\n",
    "#     ALL_NODES_MINIMUM_1000_EXAMPLES,\n",
    "#     ALL_DAYS\n",
    "# )\n",
    "\n",
    "# add_dataset(\n",
    "#     labels=ALL_NODES,\n",
    "#     domains = ALL_DAYS,\n",
    "#     num_examples_per_domain_per_label=100,\n",
    "#     pickle_path=os.path.join(get_datasets_base_path(), \"cores.stratified_ds.2022A.pkl\"),\n",
    "#     source_or_target_dataset=\"target\",\n",
    "#     x_transform_func=global_x_transform_func,\n",
    "#     domain_modifier=lambda u: f\"cores_{u}\"\n",
    "# )"
   ]
  },
  {
   "cell_type": "code",
   "execution_count": 15,
   "id": "76db484d",
   "metadata": {
    "execution": {
     "iopub.execute_input": "2022-03-21T03:22:59.233709Z",
     "iopub.status.busy": "2022-03-21T03:22:59.233065Z",
     "iopub.status.idle": "2022-03-21T03:22:59.253808Z",
     "shell.execute_reply": "2022-03-21T03:22:59.252994Z"
    },
    "papermill": {
     "duration": 0.045852,
     "end_time": "2022-03-21T03:22:59.253975",
     "exception": false,
     "start_time": "2022-03-21T03:22:59.208123",
     "status": "completed"
    },
    "tags": []
   },
   "outputs": [],
   "source": [
    "# from steves_utils.ORACLE.utils_v2 import (\n",
    "#     ALL_DISTANCES_FEET,\n",
    "#     ALL_RUNS,\n",
    "#     ALL_SERIAL_NUMBERS,\n",
    "# )\n",
    "\n",
    "\n",
    "# add_dataset(\n",
    "#     labels=ALL_SERIAL_NUMBERS,\n",
    "#     domains = list(set(ALL_DISTANCES_FEET) - {2,62}),\n",
    "#     num_examples_per_domain_per_label=100,\n",
    "#     pickle_path=os.path.join(get_datasets_base_path(), \"oracle.Run2_framed_2000Examples_stratified_ds.2022A.pkl\"),\n",
    "#     source_or_target_dataset=\"source\",\n",
    "#     x_transform_func=global_x_transform_func,\n",
    "#     domain_modifier=lambda u: f\"oracle1_{u}\"\n",
    "# )\n"
   ]
  },
  {
   "cell_type": "code",
   "execution_count": 16,
   "id": "97dea9d2",
   "metadata": {
    "execution": {
     "iopub.execute_input": "2022-03-21T03:22:59.304459Z",
     "iopub.status.busy": "2022-03-21T03:22:59.304079Z",
     "iopub.status.idle": "2022-03-21T03:22:59.326366Z",
     "shell.execute_reply": "2022-03-21T03:22:59.325546Z"
    },
    "papermill": {
     "duration": 0.046391,
     "end_time": "2022-03-21T03:22:59.326532",
     "exception": false,
     "start_time": "2022-03-21T03:22:59.280141",
     "status": "completed"
    },
    "tags": []
   },
   "outputs": [],
   "source": [
    "# from steves_utils.ORACLE.utils_v2 import (\n",
    "#     ALL_DISTANCES_FEET,\n",
    "#     ALL_RUNS,\n",
    "#     ALL_SERIAL_NUMBERS,\n",
    "# )\n",
    "\n",
    "\n",
    "# add_dataset(\n",
    "#     labels=ALL_SERIAL_NUMBERS,\n",
    "#     domains = list(set(ALL_DISTANCES_FEET) - {2,62,56}),\n",
    "#     num_examples_per_domain_per_label=100,\n",
    "#     pickle_path=os.path.join(get_datasets_base_path(), \"oracle.Run2_framed_2000Examples_stratified_ds.2022A.pkl\"),\n",
    "#     source_or_target_dataset=\"source\",\n",
    "#     x_transform_func=global_x_transform_func,\n",
    "#     domain_modifier=lambda u: f\"oracle2_{u}\"\n",
    "# )"
   ]
  },
  {
   "cell_type": "code",
   "execution_count": 17,
   "id": "6f289866",
   "metadata": {
    "execution": {
     "iopub.execute_input": "2022-03-21T03:22:59.377649Z",
     "iopub.status.busy": "2022-03-21T03:22:59.377273Z",
     "iopub.status.idle": "2022-03-21T03:22:59.406388Z",
     "shell.execute_reply": "2022-03-21T03:22:59.405393Z"
    },
    "papermill": {
     "duration": 0.053629,
     "end_time": "2022-03-21T03:22:59.406563",
     "exception": false,
     "start_time": "2022-03-21T03:22:59.352934",
     "status": "completed"
    },
    "tags": []
   },
   "outputs": [],
   "source": [
    "# add_dataset(\n",
    "#     labels=list(range(19)),\n",
    "#     domains = [0,1,2],\n",
    "#     num_examples_per_domain_per_label=100,\n",
    "#     pickle_path=os.path.join(get_datasets_base_path(), \"metehan.stratified_ds.2022A.pkl\"),\n",
    "#     source_or_target_dataset=\"target\",\n",
    "#     x_transform_func=global_x_transform_func,\n",
    "#     domain_modifier=lambda u: f\"met_{u}\"\n",
    "# )"
   ]
  },
  {
   "cell_type": "code",
   "execution_count": 18,
   "id": "86a863c3",
   "metadata": {
    "execution": {
     "iopub.execute_input": "2022-03-21T03:22:59.459015Z",
     "iopub.status.busy": "2022-03-21T03:22:59.458633Z",
     "iopub.status.idle": "2022-03-21T03:22:59.486110Z",
     "shell.execute_reply": "2022-03-21T03:22:59.485367Z"
    },
    "papermill": {
     "duration": 0.052792,
     "end_time": "2022-03-21T03:22:59.486276",
     "exception": false,
     "start_time": "2022-03-21T03:22:59.433484",
     "status": "completed"
    },
    "tags": []
   },
   "outputs": [],
   "source": [
    "# # from steves_utils.wisig.utils import (\n",
    "# #     ALL_NODES_MINIMUM_100_EXAMPLES,\n",
    "# #     ALL_NODES_MINIMUM_500_EXAMPLES,\n",
    "# #     ALL_NODES_MINIMUM_1000_EXAMPLES,\n",
    "# #     ALL_DAYS\n",
    "# # )\n",
    "\n",
    "# import steves_utils.wisig.utils as wisig\n",
    "\n",
    "\n",
    "# add_dataset(\n",
    "#     labels=wisig.ALL_NODES_MINIMUM_100_EXAMPLES,\n",
    "#     domains = wisig.ALL_DAYS,\n",
    "#     num_examples_per_domain_per_label=100,\n",
    "#     pickle_path=os.path.join(get_datasets_base_path(), \"wisig.node3-19.stratified_ds.2022A.pkl\"),\n",
    "#     source_or_target_dataset=\"target\",\n",
    "#     x_transform_func=global_x_transform_func,\n",
    "#     domain_modifier=lambda u: f\"wisig_{u}\"\n",
    "# )"
   ]
  },
  {
   "cell_type": "code",
   "execution_count": 19,
   "id": "fd5442bc",
   "metadata": {
    "execution": {
     "iopub.execute_input": "2022-03-21T03:22:59.546865Z",
     "iopub.status.busy": "2022-03-21T03:22:59.546278Z",
     "iopub.status.idle": "2022-03-21T03:22:59.571144Z",
     "shell.execute_reply": "2022-03-21T03:22:59.570299Z"
    },
    "papermill": {
     "duration": 0.055721,
     "end_time": "2022-03-21T03:22:59.571317",
     "exception": false,
     "start_time": "2022-03-21T03:22:59.515596",
     "status": "completed"
    },
    "tags": []
   },
   "outputs": [],
   "source": [
    "###################################\n",
    "# Build the dataset\n",
    "###################################\n",
    "train_original_source = Iterable_Aggregator(train_original_source, p.seed)\n",
    "val_original_source = Iterable_Aggregator(val_original_source, p.seed)\n",
    "test_original_source = Iterable_Aggregator(test_original_source, p.seed)\n",
    "\n",
    "\n",
    "train_original_target = Iterable_Aggregator(train_original_target, p.seed)\n",
    "val_original_target = Iterable_Aggregator(val_original_target, p.seed)\n",
    "test_original_target = Iterable_Aggregator(test_original_target, p.seed)\n",
    "\n",
    "# For CNN We only use X and Y. And we only train on the source.\n",
    "# Properly form the data using a transform lambda and Lazy_Iterable_Wrapper. Finally wrap them in a dataloader\n",
    "\n",
    "transform_lambda = lambda ex: ex[1] # Original is (<domain>, <episode>) so we strip down to episode only\n",
    "\n",
    "train_processed_source = Lazy_Iterable_Wrapper(train_original_source, transform_lambda)\n",
    "val_processed_source   = Lazy_Iterable_Wrapper(val_original_source, transform_lambda)\n",
    "test_processed_source  = Lazy_Iterable_Wrapper(test_original_source, transform_lambda)\n",
    "\n",
    "train_processed_target = Lazy_Iterable_Wrapper(train_original_target, transform_lambda)\n",
    "val_processed_target   = Lazy_Iterable_Wrapper(val_original_target, transform_lambda)\n",
    "test_processed_target  = Lazy_Iterable_Wrapper(test_original_target, transform_lambda)\n",
    "\n",
    "datasets = EasyDict({\n",
    "    \"source\": {\n",
    "        \"original\": {\"train\":train_original_source, \"val\":val_original_source, \"test\":test_original_source},\n",
    "        \"processed\": {\"train\":train_processed_source, \"val\":val_processed_source, \"test\":test_processed_source}\n",
    "    },\n",
    "    \"target\": {\n",
    "        \"original\": {\"train\":train_original_target, \"val\":val_original_target, \"test\":test_original_target},\n",
    "        \"processed\": {\"train\":train_processed_target, \"val\":val_processed_target, \"test\":test_processed_target}\n",
    "    },\n",
    "})"
   ]
  },
  {
   "cell_type": "code",
   "execution_count": 20,
   "id": "5b3c01fc",
   "metadata": {
    "execution": {
     "iopub.execute_input": "2022-03-21T03:22:59.625402Z",
     "iopub.status.busy": "2022-03-21T03:22:59.624856Z",
     "iopub.status.idle": "2022-03-21T03:23:33.025786Z",
     "shell.execute_reply": "2022-03-21T03:23:33.024713Z"
    },
    "papermill": {
     "duration": 33.42832,
     "end_time": "2022-03-21T03:23:33.026043",
     "exception": false,
     "start_time": "2022-03-21T03:22:59.597723",
     "status": "completed"
    },
    "tags": []
   },
   "outputs": [
    {
     "name": "stdout",
     "output_type": "stream",
     "text": [
      "{'CORES_3', 'CORES_1', 'CORES_2', 'CORES_4', 'CORES_5'}\n"
     ]
    },
    {
     "name": "stdout",
     "output_type": "stream",
     "text": [
      "{'ORACLE.run1_32', 'ORACLE.run1_38', 'ORACLE.run1_20', 'ORACLE.run1_26', 'ORACLE.run1_14', 'ORACLE.run1_44', 'ORACLE.run1_8', 'ORACLE.run1_50'}\n"
     ]
    },
    {
     "name": "stdout",
     "output_type": "stream",
     "text": [
      "tensor([[[-0.3482, -0.6463,  0.4590,  ..., -1.0148, -0.6411,  0.3263],\n",
      "         [ 0.1082, -0.8319, -0.6358,  ..., -0.0616, -0.0897, -0.6006]],\n",
      "\n",
      "        [[-0.5158, -0.5393,  0.8207,  ..., -0.9996, -0.3726,  0.5202],\n",
      "         [-0.0973, -0.9075, -0.3821,  ...,  0.2067, -0.2874, -0.5115]],\n",
      "\n",
      "        [[-0.2471, -0.3720,  0.3580,  ..., -0.5886, -0.8505,  0.2340],\n",
      "         [ 0.1502, -0.7527, -0.8383,  ..., -0.7161, -0.3074, -0.5336]],\n",
      "\n",
      "        ...,\n",
      "\n",
      "        [[ 0.5919,  0.7887,  0.8443,  ..., -1.0050, -2.0942, -1.0170],\n",
      "         [ 0.4417,  0.8248, -0.1097,  ..., -1.5218, -0.2719,  0.7451]],\n",
      "\n",
      "        [[ 0.4220,  0.4236, -0.1857,  ..., -0.0890, -0.4589, -0.0399],\n",
      "         [ 0.1611,  0.0568, -0.3392,  ..., -0.1212,  0.0875, -0.6661]],\n",
      "\n",
      "        [[ 0.3242,  0.5841,  0.7312,  ..., -1.0168, -1.6923, -0.5255],\n",
      "         [ 0.9525,  0.8183, -0.3999,  ..., -1.6866, -0.4498,  0.2856]]])\n"
     ]
    }
   ],
   "source": [
    "from steves_utils.transforms import get_average_magnitude, get_average_power\n",
    "\n",
    "print(set([u for u,_ in val_original_source]))\n",
    "print(set([u for u,_ in val_original_target]))\n",
    "\n",
    "s_x, s_y, q_x, q_y, _ = next(iter(train_processed_source))\n",
    "print(s_x)\n",
    "\n",
    "# for ds in [\n",
    "#     train_processed_source,\n",
    "#     val_processed_source,\n",
    "#     test_processed_source,\n",
    "#     train_processed_target,\n",
    "#     val_processed_target,\n",
    "#     test_processed_target\n",
    "# ]:\n",
    "#     for s_x, s_y, q_x, q_y, _ in ds:\n",
    "#         for X in (s_x, q_x):\n",
    "#             for x in X:\n",
    "#                 assert np.isclose(get_average_magnitude(x.numpy()), 1.0)\n",
    "#                 assert np.isclose(get_average_power(x.numpy()), 1.0)\n",
    "                "
   ]
  },
  {
   "cell_type": "code",
   "execution_count": 21,
   "id": "bbdacba1",
   "metadata": {
    "execution": {
     "iopub.execute_input": "2022-03-21T03:23:33.092730Z",
     "iopub.status.busy": "2022-03-21T03:23:33.092101Z",
     "iopub.status.idle": "2022-03-21T03:23:33.339386Z",
     "shell.execute_reply": "2022-03-21T03:23:33.339706Z"
    },
    "papermill": {
     "duration": 0.281408,
     "end_time": "2022-03-21T03:23:33.339846",
     "exception": false,
     "start_time": "2022-03-21T03:23:33.058438",
     "status": "completed"
    },
    "tags": []
   },
   "outputs": [
    {
     "name": "stdout",
     "output_type": "stream",
     "text": [
      "(2, 256)\n"
     ]
    }
   ],
   "source": [
    "###################################\n",
    "# Build the model\n",
    "###################################\n",
    "# easfsl only wants a tuple for the shape\n",
    "model = Steves_Prototypical_Network(x_net, device=p.device, x_shape=tuple(p.x_shape))\n",
    "optimizer = Adam(params=model.parameters(), lr=p.lr)"
   ]
  },
  {
   "cell_type": "code",
   "execution_count": 22,
   "id": "22b39ac5",
   "metadata": {
    "execution": {
     "iopub.execute_input": "2022-03-21T03:23:33.389649Z",
     "iopub.status.busy": "2022-03-21T03:23:33.389272Z",
     "iopub.status.idle": "2022-03-21T04:08:48.384479Z",
     "shell.execute_reply": "2022-03-21T04:08:48.384129Z"
    },
    "papermill": {
     "duration": 2715.021416,
     "end_time": "2022-03-21T04:08:48.384566",
     "exception": false,
     "start_time": "2022-03-21T03:23:33.363150",
     "status": "completed"
    },
    "tags": []
   },
   "outputs": [
    {
     "name": "stdout",
     "output_type": "stream",
     "text": [
      "epoch: 1, [batch: 1 / 6320], examples_per_second: 32.5054, train_label_loss: 2.6575, \n"
     ]
    },
    {
     "name": "stdout",
     "output_type": "stream",
     "text": [
      "epoch: 1, [batch: 632 / 6320], examples_per_second: 2568.5250, train_label_loss: 0.0061, \n"
     ]
    },
    {
     "name": "stdout",
     "output_type": "stream",
     "text": [
      "epoch: 1, [batch: 1264 / 6320], examples_per_second: 2349.1862, train_label_loss: 0.0006, \n"
     ]
    },
    {
     "name": "stdout",
     "output_type": "stream",
     "text": [
      "epoch: 1, [batch: 1896 / 6320], examples_per_second: 2333.5301, train_label_loss: 0.0015, \n"
     ]
    },
    {
     "name": "stdout",
     "output_type": "stream",
     "text": [
      "epoch: 1, [batch: 2528 / 6320], examples_per_second: 2591.5529, train_label_loss: 0.0041, \n"
     ]
    },
    {
     "name": "stdout",
     "output_type": "stream",
     "text": [
      "epoch: 1, [batch: 3160 / 6320], examples_per_second: 2799.8523, train_label_loss: 0.0030, \n"
     ]
    },
    {
     "name": "stdout",
     "output_type": "stream",
     "text": [
      "epoch: 1, [batch: 3792 / 6320], examples_per_second: 3121.0504, train_label_loss: 0.0005, \n"
     ]
    },
    {
     "name": "stdout",
     "output_type": "stream",
     "text": [
      "epoch: 1, [batch: 4424 / 6320], examples_per_second: 2601.3290, train_label_loss: 0.0034, \n"
     ]
    },
    {
     "name": "stdout",
     "output_type": "stream",
     "text": [
      "epoch: 1, [batch: 5056 / 6320], examples_per_second: 2611.2329, train_label_loss: 0.0007, \n"
     ]
    },
    {
     "name": "stdout",
     "output_type": "stream",
     "text": [
      "epoch: 1, [batch: 5688 / 6320], examples_per_second: 2611.2876, train_label_loss: 0.0000, \n"
     ]
    },
    {
     "name": "stdout",
     "output_type": "stream",
     "text": [
      "=============================================================\n",
      "epoch: 1, source_val_acc_label: 0.9980, target_val_acc_label: 0.1579, source_val_label_loss: 0.0098, target_val_label_loss: 2.6631, \n",
      "=============================================================\n"
     ]
    },
    {
     "name": "stdout",
     "output_type": "stream",
     "text": [
      "New best\n"
     ]
    },
    {
     "name": "stdout",
     "output_type": "stream",
     "text": [
      "epoch: 2, [batch: 1 / 6305], examples_per_second: 1.1484, train_label_loss: 0.0005, \n"
     ]
    },
    {
     "name": "stdout",
     "output_type": "stream",
     "text": [
      "epoch: 2, [batch: 631 / 6305], examples_per_second: 4317.2368, train_label_loss: 0.0000, \n"
     ]
    },
    {
     "name": "stdout",
     "output_type": "stream",
     "text": [
      "epoch: 2, [batch: 1261 / 6305], examples_per_second: 3869.7315, train_label_loss: 0.0005, \n"
     ]
    },
    {
     "name": "stdout",
     "output_type": "stream",
     "text": [
      "epoch: 2, [batch: 1892 / 6305], examples_per_second: 3977.2588, train_label_loss: 0.0000, \n"
     ]
    },
    {
     "name": "stdout",
     "output_type": "stream",
     "text": [
      "epoch: 2, [batch: 2522 / 6305], examples_per_second: 3913.1260, train_label_loss: 0.0000, \n"
     ]
    },
    {
     "name": "stdout",
     "output_type": "stream",
     "text": [
      "epoch: 2, [batch: 3153 / 6305], examples_per_second: 3953.2815, train_label_loss: 0.0026, \n"
     ]
    },
    {
     "name": "stdout",
     "output_type": "stream",
     "text": [
      "epoch: 2, [batch: 3783 / 6305], examples_per_second: 3637.6967, train_label_loss: 0.0744, \n"
     ]
    },
    {
     "name": "stdout",
     "output_type": "stream",
     "text": [
      "epoch: 2, [batch: 4413 / 6305], examples_per_second: 2799.4163, train_label_loss: 0.0001, \n"
     ]
    },
    {
     "name": "stdout",
     "output_type": "stream",
     "text": [
      "epoch: 2, [batch: 5044 / 6305], examples_per_second: 3349.1737, train_label_loss: 0.0005, \n"
     ]
    },
    {
     "name": "stdout",
     "output_type": "stream",
     "text": [
      "epoch: 2, [batch: 5674 / 6305], examples_per_second: 2914.3367, train_label_loss: 0.0000, \n"
     ]
    },
    {
     "name": "stdout",
     "output_type": "stream",
     "text": [
      "=============================================================\n",
      "epoch: 2, source_val_acc_label: 0.9988, target_val_acc_label: 0.1577, source_val_label_loss: 0.0084, target_val_label_loss: 3.1084, \n",
      "=============================================================\n"
     ]
    },
    {
     "name": "stdout",
     "output_type": "stream",
     "text": [
      "epoch: 3, [batch: 1 / 6307], examples_per_second: 1.2129, train_label_loss: 0.0000, \n"
     ]
    },
    {
     "name": "stdout",
     "output_type": "stream",
     "text": [
      "epoch: 3, [batch: 631 / 6307], examples_per_second: 2979.6446, train_label_loss: 0.0004, \n"
     ]
    },
    {
     "name": "stdout",
     "output_type": "stream",
     "text": [
      "epoch: 3, [batch: 1262 / 6307], examples_per_second: 2970.9811, train_label_loss: 0.0002, \n"
     ]
    },
    {
     "name": "stdout",
     "output_type": "stream",
     "text": [
      "epoch: 3, [batch: 1892 / 6307], examples_per_second: 2579.9516, train_label_loss: 0.0887, \n"
     ]
    },
    {
     "name": "stdout",
     "output_type": "stream",
     "text": [
      "epoch: 3, [batch: 2523 / 6307], examples_per_second: 2331.4265, train_label_loss: 0.0000, \n"
     ]
    },
    {
     "name": "stdout",
     "output_type": "stream",
     "text": [
      "epoch: 3, [batch: 3154 / 6307], examples_per_second: 2916.1434, train_label_loss: 0.0001, \n"
     ]
    },
    {
     "name": "stdout",
     "output_type": "stream",
     "text": [
      "epoch: 3, [batch: 3784 / 6307], examples_per_second: 2718.3351, train_label_loss: 0.0000, \n"
     ]
    },
    {
     "name": "stdout",
     "output_type": "stream",
     "text": [
      "epoch: 3, [batch: 4415 / 6307], examples_per_second: 3282.3381, train_label_loss: 0.0000, \n"
     ]
    },
    {
     "name": "stdout",
     "output_type": "stream",
     "text": [
      "epoch: 3, [batch: 5045 / 6307], examples_per_second: 2565.2377, train_label_loss: 0.0000, \n"
     ]
    },
    {
     "name": "stdout",
     "output_type": "stream",
     "text": [
      "epoch: 3, [batch: 5676 / 6307], examples_per_second: 2610.7308, train_label_loss: 0.0044, \n"
     ]
    },
    {
     "name": "stdout",
     "output_type": "stream",
     "text": [
      "=============================================================\n",
      "epoch: 3, source_val_acc_label: 0.9990, target_val_acc_label: 0.1637, source_val_label_loss: 0.0097, target_val_label_loss: 3.1449, \n",
      "=============================================================\n"
     ]
    },
    {
     "name": "stdout",
     "output_type": "stream",
     "text": [
      "New best\n"
     ]
    },
    {
     "name": "stdout",
     "output_type": "stream",
     "text": [
      "epoch: 4, [batch: 1 / 6315], examples_per_second: 1.0776, train_label_loss: 0.0000, \n"
     ]
    },
    {
     "name": "stdout",
     "output_type": "stream",
     "text": [
      "epoch: 4, [batch: 632 / 6315], examples_per_second: 2700.7519, train_label_loss: 0.0000, \n"
     ]
    },
    {
     "name": "stdout",
     "output_type": "stream",
     "text": [
      "epoch: 4, [batch: 1263 / 6315], examples_per_second: 3051.1168, train_label_loss: 0.0000, \n"
     ]
    },
    {
     "name": "stdout",
     "output_type": "stream",
     "text": [
      "epoch: 4, [batch: 1895 / 6315], examples_per_second: 2842.5511, train_label_loss: 0.0001, \n"
     ]
    },
    {
     "name": "stdout",
     "output_type": "stream",
     "text": [
      "epoch: 4, [batch: 2526 / 6315], examples_per_second: 2943.4465, train_label_loss: 0.0000, \n"
     ]
    },
    {
     "name": "stdout",
     "output_type": "stream",
     "text": [
      "epoch: 4, [batch: 3158 / 6315], examples_per_second: 2960.7266, train_label_loss: 0.0008, \n"
     ]
    },
    {
     "name": "stdout",
     "output_type": "stream",
     "text": [
      "epoch: 4, [batch: 3789 / 6315], examples_per_second: 2932.3887, train_label_loss: 0.0002, \n"
     ]
    },
    {
     "name": "stdout",
     "output_type": "stream",
     "text": [
      "epoch: 4, [batch: 4420 / 6315], examples_per_second: 3098.7346, train_label_loss: 0.0000, \n"
     ]
    },
    {
     "name": "stdout",
     "output_type": "stream",
     "text": [
      "epoch: 4, [batch: 5052 / 6315], examples_per_second: 3381.0561, train_label_loss: 0.0000, \n"
     ]
    },
    {
     "name": "stdout",
     "output_type": "stream",
     "text": [
      "epoch: 4, [batch: 5683 / 6315], examples_per_second: 3343.6752, train_label_loss: 0.0000, \n"
     ]
    },
    {
     "name": "stdout",
     "output_type": "stream",
     "text": [
      "=============================================================\n",
      "epoch: 4, source_val_acc_label: 0.9992, target_val_acc_label: 0.1780, source_val_label_loss: 0.0104, target_val_label_loss: 3.5143, \n",
      "=============================================================\n"
     ]
    },
    {
     "name": "stdout",
     "output_type": "stream",
     "text": [
      "New best\n"
     ]
    },
    {
     "name": "stdout",
     "output_type": "stream",
     "text": [
      "epoch: 5, [batch: 1 / 6313], examples_per_second: 1.4817, train_label_loss: 0.0000, \n"
     ]
    },
    {
     "name": "stdout",
     "output_type": "stream",
     "text": [
      "epoch: 5, [batch: 632 / 6313], examples_per_second: 2815.5307, train_label_loss: 0.0000, \n"
     ]
    },
    {
     "name": "stdout",
     "output_type": "stream",
     "text": [
      "epoch: 5, [batch: 1263 / 6313], examples_per_second: 2881.2518, train_label_loss: 0.0000, \n"
     ]
    },
    {
     "name": "stdout",
     "output_type": "stream",
     "text": [
      "epoch: 5, [batch: 1894 / 6313], examples_per_second: 2862.4672, train_label_loss: 0.0000, \n"
     ]
    },
    {
     "name": "stdout",
     "output_type": "stream",
     "text": [
      "epoch: 5, [batch: 2525 / 6313], examples_per_second: 3264.4675, train_label_loss: 0.0000, \n"
     ]
    },
    {
     "name": "stdout",
     "output_type": "stream",
     "text": [
      "epoch: 5, [batch: 3157 / 6313], examples_per_second: 2837.6438, train_label_loss: 0.0000, \n"
     ]
    },
    {
     "name": "stdout",
     "output_type": "stream",
     "text": [
      "epoch: 5, [batch: 3788 / 6313], examples_per_second: 2319.9757, train_label_loss: 0.0000, \n"
     ]
    },
    {
     "name": "stdout",
     "output_type": "stream",
     "text": [
      "epoch: 5, [batch: 4419 / 6313], examples_per_second: 2344.8943, train_label_loss: 0.0000, \n"
     ]
    },
    {
     "name": "stdout",
     "output_type": "stream",
     "text": [
      "epoch: 5, [batch: 5050 / 6313], examples_per_second: 2390.2560, train_label_loss: 0.0000, \n"
     ]
    },
    {
     "name": "stdout",
     "output_type": "stream",
     "text": [
      "epoch: 5, [batch: 5681 / 6313], examples_per_second: 2620.6123, train_label_loss: 0.0000, \n"
     ]
    },
    {
     "name": "stdout",
     "output_type": "stream",
     "text": [
      "=============================================================\n",
      "epoch: 5, source_val_acc_label: 0.9993, target_val_acc_label: 0.1848, source_val_label_loss: 0.0105, target_val_label_loss: 3.8383, \n",
      "=============================================================\n"
     ]
    },
    {
     "name": "stdout",
     "output_type": "stream",
     "text": [
      "New best\n"
     ]
    },
    {
     "name": "stdout",
     "output_type": "stream",
     "text": [
      "epoch: 6, [batch: 1 / 6317], examples_per_second: 1.3181, train_label_loss: 0.0000, \n"
     ]
    },
    {
     "name": "stdout",
     "output_type": "stream",
     "text": [
      "epoch: 6, [batch: 632 / 6317], examples_per_second: 2589.0888, train_label_loss: 0.0000, \n"
     ]
    },
    {
     "name": "stdout",
     "output_type": "stream",
     "text": [
      "epoch: 6, [batch: 1264 / 6317], examples_per_second: 2401.5912, train_label_loss: 0.0000, \n"
     ]
    },
    {
     "name": "stdout",
     "output_type": "stream",
     "text": [
      "epoch: 6, [batch: 1895 / 6317], examples_per_second: 2314.2428, train_label_loss: 0.0010, \n"
     ]
    },
    {
     "name": "stdout",
     "output_type": "stream",
     "text": [
      "epoch: 6, [batch: 2527 / 6317], examples_per_second: 2339.6875, train_label_loss: 0.0000, \n"
     ]
    },
    {
     "name": "stdout",
     "output_type": "stream",
     "text": [
      "epoch: 6, [batch: 3159 / 6317], examples_per_second: 2507.4804, train_label_loss: 0.0000, \n"
     ]
    },
    {
     "name": "stdout",
     "output_type": "stream",
     "text": [
      "epoch: 6, [batch: 3790 / 6317], examples_per_second: 2343.8631, train_label_loss: 0.0000, \n"
     ]
    },
    {
     "name": "stdout",
     "output_type": "stream",
     "text": [
      "epoch: 6, [batch: 4422 / 6317], examples_per_second: 2571.6376, train_label_loss: 0.0000, \n"
     ]
    },
    {
     "name": "stdout",
     "output_type": "stream",
     "text": [
      "epoch: 6, [batch: 5053 / 6317], examples_per_second: 2609.4679, train_label_loss: 0.0000, \n"
     ]
    },
    {
     "name": "stdout",
     "output_type": "stream",
     "text": [
      "epoch: 6, [batch: 5685 / 6317], examples_per_second: 2826.4510, train_label_loss: 0.0000, \n"
     ]
    },
    {
     "name": "stdout",
     "output_type": "stream",
     "text": [
      "=============================================================\n",
      "epoch: 6, source_val_acc_label: 0.9991, target_val_acc_label: 0.1585, source_val_label_loss: 0.0063, target_val_label_loss: 3.9003, \n",
      "=============================================================\n"
     ]
    },
    {
     "name": "stdout",
     "output_type": "stream",
     "text": [
      "epoch: 7, [batch: 1 / 6322], examples_per_second: 1.0503, train_label_loss: 0.0000, \n"
     ]
    },
    {
     "name": "stdout",
     "output_type": "stream",
     "text": [
      "epoch: 7, [batch: 633 / 6322], examples_per_second: 2875.6065, train_label_loss: 0.0000, \n"
     ]
    },
    {
     "name": "stdout",
     "output_type": "stream",
     "text": [
      "epoch: 7, [batch: 1265 / 6322], examples_per_second: 2631.6354, train_label_loss: 0.0000, \n"
     ]
    },
    {
     "name": "stdout",
     "output_type": "stream",
     "text": [
      "epoch: 7, [batch: 1897 / 6322], examples_per_second: 2557.3230, train_label_loss: 0.0000, \n"
     ]
    },
    {
     "name": "stdout",
     "output_type": "stream",
     "text": [
      "epoch: 7, [batch: 2529 / 6322], examples_per_second: 2568.6050, train_label_loss: 0.0000, \n"
     ]
    },
    {
     "name": "stdout",
     "output_type": "stream",
     "text": [
      "epoch: 7, [batch: 3161 / 6322], examples_per_second: 2541.4056, train_label_loss: 0.0000, \n"
     ]
    },
    {
     "name": "stdout",
     "output_type": "stream",
     "text": [
      "epoch: 7, [batch: 3793 / 6322], examples_per_second: 2502.7200, train_label_loss: 0.0000, \n"
     ]
    },
    {
     "name": "stdout",
     "output_type": "stream",
     "text": [
      "epoch: 7, [batch: 4425 / 6322], examples_per_second: 2432.7944, train_label_loss: 0.0000, \n"
     ]
    },
    {
     "name": "stdout",
     "output_type": "stream",
     "text": [
      "epoch: 7, [batch: 5057 / 6322], examples_per_second: 2428.5068, train_label_loss: 0.0000, \n"
     ]
    },
    {
     "name": "stdout",
     "output_type": "stream",
     "text": [
      "epoch: 7, [batch: 5689 / 6322], examples_per_second: 2591.6239, train_label_loss: 0.0000, \n"
     ]
    },
    {
     "name": "stdout",
     "output_type": "stream",
     "text": [
      "=============================================================\n",
      "epoch: 7, source_val_acc_label: 0.9994, target_val_acc_label: 0.1715, source_val_label_loss: 0.0094, target_val_label_loss: 4.1514, \n",
      "=============================================================\n"
     ]
    },
    {
     "name": "stdout",
     "output_type": "stream",
     "text": [
      "epoch: 8, [batch: 1 / 6297], examples_per_second: 1.0197, train_label_loss: 0.0000, \n"
     ]
    },
    {
     "name": "stdout",
     "output_type": "stream",
     "text": [
      "epoch: 8, [batch: 630 / 6297], examples_per_second: 2902.6427, train_label_loss: 0.0000, \n"
     ]
    },
    {
     "name": "stdout",
     "output_type": "stream",
     "text": [
      "epoch: 8, [batch: 1260 / 6297], examples_per_second: 2898.4654, train_label_loss: 0.0000, \n"
     ]
    },
    {
     "name": "stdout",
     "output_type": "stream",
     "text": [
      "epoch: 8, [batch: 1889 / 6297], examples_per_second: 2982.7574, train_label_loss: 0.0000, \n"
     ]
    },
    {
     "name": "stdout",
     "output_type": "stream",
     "text": [
      "epoch: 8, [batch: 2519 / 6297], examples_per_second: 3314.5422, train_label_loss: 0.0000, \n"
     ]
    },
    {
     "name": "stdout",
     "output_type": "stream",
     "text": [
      "epoch: 8, [batch: 3149 / 6297], examples_per_second: 3418.4918, train_label_loss: 0.0000, \n"
     ]
    },
    {
     "name": "stdout",
     "output_type": "stream",
     "text": [
      "epoch: 8, [batch: 3778 / 6297], examples_per_second: 2818.2628, train_label_loss: 0.0000, \n"
     ]
    },
    {
     "name": "stdout",
     "output_type": "stream",
     "text": [
      "epoch: 8, [batch: 4408 / 6297], examples_per_second: 2378.9221, train_label_loss: 0.0000, \n"
     ]
    },
    {
     "name": "stdout",
     "output_type": "stream",
     "text": [
      "epoch: 8, [batch: 5037 / 6297], examples_per_second: 2478.8724, train_label_loss: 0.0000, \n"
     ]
    },
    {
     "name": "stdout",
     "output_type": "stream",
     "text": [
      "epoch: 8, [batch: 5667 / 6297], examples_per_second: 2321.9818, train_label_loss: 0.0000, \n"
     ]
    },
    {
     "name": "stdout",
     "output_type": "stream",
     "text": [
      "=============================================================\n",
      "epoch: 8, source_val_acc_label: 0.9996, target_val_acc_label: 0.1764, source_val_label_loss: 0.0091, target_val_label_loss: 4.4985, \n",
      "=============================================================\n"
     ]
    },
    {
     "name": "stdout",
     "output_type": "stream",
     "text": [
      "epoch: 9, [batch: 1 / 6315], examples_per_second: 1.1455, train_label_loss: 0.0000, \n"
     ]
    },
    {
     "name": "stdout",
     "output_type": "stream",
     "text": [
      "epoch: 9, [batch: 632 / 6315], examples_per_second: 3424.6350, train_label_loss: 0.0000, \n"
     ]
    },
    {
     "name": "stdout",
     "output_type": "stream",
     "text": [
      "epoch: 9, [batch: 1263 / 6315], examples_per_second: 3174.0239, train_label_loss: 0.0000, \n"
     ]
    },
    {
     "name": "stdout",
     "output_type": "stream",
     "text": [
      "epoch: 9, [batch: 1895 / 6315], examples_per_second: 2646.9883, train_label_loss: 0.0000, \n"
     ]
    },
    {
     "name": "stdout",
     "output_type": "stream",
     "text": [
      "epoch: 9, [batch: 2526 / 6315], examples_per_second: 2312.9111, train_label_loss: 0.0000, \n"
     ]
    },
    {
     "name": "stdout",
     "output_type": "stream",
     "text": [
      "epoch: 9, [batch: 3158 / 6315], examples_per_second: 2541.2624, train_label_loss: 0.0000, \n"
     ]
    },
    {
     "name": "stdout",
     "output_type": "stream",
     "text": [
      "epoch: 9, [batch: 3789 / 6315], examples_per_second: 2313.2311, train_label_loss: 0.0000, \n"
     ]
    },
    {
     "name": "stdout",
     "output_type": "stream",
     "text": [
      "epoch: 9, [batch: 4420 / 6315], examples_per_second: 2584.0965, train_label_loss: 0.0000, \n"
     ]
    },
    {
     "name": "stdout",
     "output_type": "stream",
     "text": [
      "epoch: 9, [batch: 5052 / 6315], examples_per_second: 2741.6760, train_label_loss: 0.0000, \n"
     ]
    },
    {
     "name": "stdout",
     "output_type": "stream",
     "text": [
      "epoch: 9, [batch: 5683 / 6315], examples_per_second: 2634.2749, train_label_loss: 0.0000, \n"
     ]
    },
    {
     "name": "stdout",
     "output_type": "stream",
     "text": [
      "=============================================================\n",
      "epoch: 9, source_val_acc_label: 0.9988, target_val_acc_label: 0.1676, source_val_label_loss: 0.0155, target_val_label_loss: 5.0454, \n",
      "=============================================================\n"
     ]
    },
    {
     "name": "stdout",
     "output_type": "stream",
     "text": [
      "Patience (3) exhausted\n"
     ]
    }
   ],
   "source": [
    "###################################\n",
    "# train\n",
    "###################################\n",
    "jig = PTN_Train_Eval_Test_Jig(model, p.BEST_MODEL_PATH, p.device)\n",
    "\n",
    "jig.train(\n",
    "    train_iterable=datasets.source.processed.train,\n",
    "    source_val_iterable=datasets.source.processed.val,\n",
    "    target_val_iterable=datasets.target.processed.val,\n",
    "    num_epochs=p.n_epoch,\n",
    "    num_logs_per_epoch=p.NUM_LOGS_PER_EPOCH,\n",
    "    patience=p.patience,\n",
    "    optimizer=optimizer,\n",
    "    criteria_for_best=p.criteria_for_best,\n",
    ")"
   ]
  },
  {
   "cell_type": "code",
   "execution_count": 23,
   "id": "31e8fabf",
   "metadata": {
    "execution": {
     "iopub.execute_input": "2022-03-21T04:08:48.492100Z",
     "iopub.status.busy": "2022-03-21T04:08:48.491726Z",
     "iopub.status.idle": "2022-03-21T04:08:48.524497Z",
     "shell.execute_reply": "2022-03-21T04:08:48.523742Z"
    },
    "papermill": {
     "duration": 0.088995,
     "end_time": "2022-03-21T04:08:48.524685",
     "exception": false,
     "start_time": "2022-03-21T04:08:48.435690",
     "status": "completed"
    },
    "tags": []
   },
   "outputs": [],
   "source": [
    "total_experiment_time_secs = time.time() - start_time_secs"
   ]
  },
  {
   "cell_type": "code",
   "execution_count": 24,
   "id": "87b9595b",
   "metadata": {
    "execution": {
     "iopub.execute_input": "2022-03-21T04:08:48.638877Z",
     "iopub.status.busy": "2022-03-21T04:08:48.636513Z",
     "iopub.status.idle": "2022-03-21T04:21:12.636877Z",
     "shell.execute_reply": "2022-03-21T04:21:12.636080Z"
    },
    "papermill": {
     "duration": 744.057541,
     "end_time": "2022-03-21T04:21:12.637065",
     "exception": false,
     "start_time": "2022-03-21T04:08:48.579524",
     "status": "completed"
    },
    "tags": []
   },
   "outputs": [],
   "source": [
    "###################################\n",
    "# Evaluate the model\n",
    "###################################\n",
    "source_test_label_accuracy, source_test_label_loss = jig.test(datasets.source.processed.test)\n",
    "target_test_label_accuracy, target_test_label_loss = jig.test(datasets.target.processed.test)\n",
    "\n",
    "source_val_label_accuracy, source_val_label_loss = jig.test(datasets.source.processed.val)\n",
    "target_val_label_accuracy, target_val_label_loss = jig.test(datasets.target.processed.val)\n",
    "\n",
    "history = jig.get_history()\n",
    "\n",
    "total_epochs_trained = len(history[\"epoch_indices\"])\n",
    "\n",
    "val_dl = Iterable_Aggregator((datasets.source.original.val,datasets.target.original.val))\n",
    "\n",
    "confusion = ptn_confusion_by_domain_over_dataloader(model, p.device, val_dl)\n",
    "per_domain_accuracy = per_domain_accuracy_from_confusion(confusion)\n",
    "\n",
    "# Add a key to per_domain_accuracy for if it was a source domain\n",
    "for domain, accuracy in per_domain_accuracy.items():\n",
    "    per_domain_accuracy[domain] = {\n",
    "        \"accuracy\": accuracy,\n",
    "        \"source?\": domain in p.domains_source\n",
    "    }\n",
    "\n",
    "# Do an independent accuracy assesment JUST TO BE SURE!\n",
    "# _source_test_label_accuracy = independent_accuracy_assesment(model, datasets.source.processed.test, p.device)\n",
    "# _target_test_label_accuracy = independent_accuracy_assesment(model, datasets.target.processed.test, p.device)\n",
    "# _source_val_label_accuracy = independent_accuracy_assesment(model, datasets.source.processed.val, p.device)\n",
    "# _target_val_label_accuracy = independent_accuracy_assesment(model, datasets.target.processed.val, p.device)\n",
    "\n",
    "# assert(_source_test_label_accuracy == source_test_label_accuracy)\n",
    "# assert(_target_test_label_accuracy == target_test_label_accuracy)\n",
    "# assert(_source_val_label_accuracy == source_val_label_accuracy)\n",
    "# assert(_target_val_label_accuracy == target_val_label_accuracy)\n",
    "\n",
    "experiment = {\n",
    "    \"experiment_name\": p.experiment_name,\n",
    "    \"parameters\": dict(p),\n",
    "    \"results\": {\n",
    "        \"source_test_label_accuracy\": source_test_label_accuracy,\n",
    "        \"source_test_label_loss\": source_test_label_loss,\n",
    "        \"target_test_label_accuracy\": target_test_label_accuracy,\n",
    "        \"target_test_label_loss\": target_test_label_loss,\n",
    "        \"source_val_label_accuracy\": source_val_label_accuracy,\n",
    "        \"source_val_label_loss\": source_val_label_loss,\n",
    "        \"target_val_label_accuracy\": target_val_label_accuracy,\n",
    "        \"target_val_label_loss\": target_val_label_loss,\n",
    "        \"total_epochs_trained\": total_epochs_trained,\n",
    "        \"total_experiment_time_secs\": total_experiment_time_secs,\n",
    "        \"confusion\": confusion,\n",
    "        \"per_domain_accuracy\": per_domain_accuracy,\n",
    "    },\n",
    "    \"history\": history,\n",
    "    \"dataset_metrics\": get_dataset_metrics(datasets, \"ptn\"),\n",
    "}"
   ]
  },
  {
   "cell_type": "code",
   "execution_count": 25,
   "id": "54a21829",
   "metadata": {
    "execution": {
     "iopub.execute_input": "2022-03-21T04:21:12.766595Z",
     "iopub.status.busy": "2022-03-21T04:21:12.766202Z",
     "iopub.status.idle": "2022-03-21T04:21:12.986056Z",
     "shell.execute_reply": "2022-03-21T04:21:12.986759Z"
    },
    "papermill": {
     "duration": 0.275955,
     "end_time": "2022-03-21T04:21:12.987003",
     "exception": false,
     "start_time": "2022-03-21T04:21:12.711048",
     "status": "completed"
    },
    "tags": []
   },
   "outputs": [
    {
     "data": {
      "image/png": "[encoded data removed]",
      "text/plain": [
       "<Figure size 1080x504 with 1 Axes>"
      ]
     },
     "metadata": {
      "needs_background": "light"
     },
     "output_type": "display_data"
    }
   ],
   "source": [
    "ax = get_loss_curve(experiment)\n",
    "plt.show()"
   ]
  },
  {
   "cell_type": "code",
   "execution_count": 26,
   "id": "fd8a0f60",
   "metadata": {
    "execution": {
     "iopub.execute_input": "2022-03-21T04:21:13.097185Z",
     "iopub.status.busy": "2022-03-21T04:21:13.096607Z",
     "iopub.status.idle": "2022-03-21T04:21:13.470393Z",
     "shell.execute_reply": "2022-03-21T04:21:13.471080Z"
    },
    "papermill": {
     "duration": 0.430201,
     "end_time": "2022-03-21T04:21:13.471305",
     "exception": false,
     "start_time": "2022-03-21T04:21:13.041104",
     "status": "completed"
    },
    "tags": []
   },
   "outputs": [
    {
     "data": {
      "text/plain": [
       "<AxesSubplot:title={'center':'Results'}>"
      ]
     },
     "execution_count": 26,
     "metadata": {},
     "output_type": "execute_result"
    },
    {
     "data": {
      "image/png": "[encoded data removed]",
      "text/plain": [
       "<Figure size 1080x504 with 1 Axes>"
      ]
     },
     "metadata": {
      "needs_background": "light"
     },
     "output_type": "display_data"
    }
   ],
   "source": [
    "get_results_table(experiment)"
   ]
  },
  {
   "cell_type": "code",
   "execution_count": 27,
   "id": "cf8dc689",
   "metadata": {
    "execution": {
     "iopub.execute_input": "2022-03-21T04:21:13.586906Z",
     "iopub.status.busy": "2022-03-21T04:21:13.586524Z",
     "iopub.status.idle": "2022-03-21T04:21:13.844644Z",
     "shell.execute_reply": "2022-03-21T04:21:13.843802Z"
    },
    "papermill": {
     "duration": 0.31559,
     "end_time": "2022-03-21T04:21:13.844823",
     "exception": false,
     "start_time": "2022-03-21T04:21:13.529233",
     "status": "completed"
    },
    "tags": []
   },
   "outputs": [
    {
     "data": {
      "text/plain": [
       "<AxesSubplot:title={'center':'Per Domain Validation Accuracy'}, xlabel='domain'>"
      ]
     },
     "execution_count": 27,
     "metadata": {},
     "output_type": "execute_result"
    },
    {
     "data": {
      "image/png": "[encoded data removed]",
      "text/plain": [
       "<Figure size 1080x504 with 1 Axes>"
      ]
     },
     "metadata": {
      "needs_background": "light"
     },
     "output_type": "display_data"
    }
   ],
   "source": [
    "get_domain_accuracies(experiment)"
   ]
  },
  {
   "cell_type": "code",
   "execution_count": 28,
   "id": "a74ae082",
   "metadata": {
    "execution": {
     "iopub.execute_input": "2022-03-21T04:21:13.960579Z",
     "iopub.status.busy": "2022-03-21T04:21:13.960196Z",
     "iopub.status.idle": "2022-03-21T04:21:13.984108Z",
     "shell.execute_reply": "2022-03-21T04:21:13.983260Z"
    },
    "papermill": {
     "duration": 0.08106,
     "end_time": "2022-03-21T04:21:13.984261",
     "exception": false,
     "start_time": "2022-03-21T04:21:13.903201",
     "status": "completed"
    },
    "tags": []
   },
   "outputs": [
    {
     "name": "stdout",
     "output_type": "stream",
     "text": [
      "Source Test Label Accuracy: 0.999263468013468 Target Test Label Accuracy: 0.18454427083333333\n",
      "Source Val Label Accuracy: 0.9992865296803652 Target Val Label Accuracy: 0.18482421875\n"
     ]
    }
   ],
   "source": [
    "print(\"Source Test Label Accuracy:\", experiment[\"results\"][\"source_test_label_accuracy\"], \"Target Test Label Accuracy:\", experiment[\"results\"][\"target_test_label_accuracy\"])\n",
    "print(\"Source Val Label Accuracy:\", experiment[\"results\"][\"source_val_label_accuracy\"], \"Target Val Label Accuracy:\", experiment[\"results\"][\"target_val_label_accuracy\"])"
   ]
  },
  {
   "cell_type": "code",
   "execution_count": 29,
   "id": "dacca602",
   "metadata": {
    "execution": {
     "iopub.execute_input": "2022-03-21T04:21:14.100682Z",
     "iopub.status.busy": "2022-03-21T04:21:14.100202Z",
     "iopub.status.idle": "2022-03-21T04:21:14.124097Z",
     "shell.execute_reply": "2022-03-21T04:21:14.124773Z"
    },
    "papermill": {
     "duration": 0.080313,
     "end_time": "2022-03-21T04:21:14.124951",
     "exception": false,
     "start_time": "2022-03-21T04:21:14.044638",
     "status": "completed"
    },
    "tags": [
     "experiment_json"
    ]
   },
   "outputs": [
    {
     "data": {
      "text/plain": [
       "'{\"experiment_name\": \"tl_1v2:cores-oracle.run1\", \"parameters\": {\"experiment_name\": \"tl_1v2:cores-oracle.run1\", \"device\": \"cuda\", \"lr\": 0.0001, \"n_shot\": 3, \"n_query\": 2, \"train_k_factor\": 3, \"val_k_factor\": 2, \"test_k_factor\": 2, \"torch_default_dtype\": \"torch.float32\", \"n_epoch\": 50, \"patience\": 3, \"criteria_for_best\": \"target_accuracy\", \"x_net\": [{\"class\": \"nnReshape\", \"kargs\": {\"shape\": [-1, 1, 2, 256]}}, {\"class\": \"Conv2d\", \"kargs\": {\"in_channels\": 1, \"out_channels\": 256, \"kernel_size\": [1, 7], \"bias\": false, \"padding\": [0, 3]}}, {\"class\": \"ReLU\", \"kargs\": {\"inplace\": true}}, {\"class\": \"BatchNorm2d\", \"kargs\": {\"num_features\": 256}}, {\"class\": \"Conv2d\", \"kargs\": {\"in_channels\": 256, \"out_channels\": 80, \"kernel_size\": [2, 7], \"bias\": true, \"padding\": [0, 3]}}, {\"class\": \"ReLU\", \"kargs\": {\"inplace\": true}}, {\"class\": \"BatchNorm2d\", \"kargs\": {\"num_features\": 80}}, {\"class\": \"Flatten\", \"kargs\": {}}, {\"class\": \"Linear\", \"kargs\": {\"in_features\": 20480, \"out_features\": 256}}, {\"class\": \"ReLU\", \"kargs\": {\"inplace\": true}}, {\"class\": \"BatchNorm1d\", \"kargs\": {\"num_features\": 256}}, {\"class\": \"Linear\", \"kargs\": {\"in_features\": 256, \"out_features\": 256}}], \"NUM_LOGS_PER_EPOCH\": 10, \"BEST_MODEL_PATH\": \"./best_model.pth\", \"n_way\": 16, \"datasets\": [{\"labels\": [\"1-10.\", \"1-11.\", \"1-15.\", \"1-16.\", \"1-17.\", \"1-18.\", \"1-19.\", \"10-4.\", \"10-7.\", \"11-1.\", \"11-14.\", \"11-17.\", \"11-20.\", \"11-7.\", \"13-20.\", \"13-8.\", \"14-10.\", \"14-11.\", \"14-14.\", \"14-7.\", \"15-1.\", \"15-20.\", \"16-1.\", \"16-16.\", \"17-10.\", \"17-11.\", \"17-2.\", \"19-1.\", \"19-16.\", \"19-19.\", \"19-20.\", \"19-3.\", \"2-10.\", \"2-11.\", \"2-17.\", \"2-18.\", \"2-20.\", \"2-3.\", \"2-4.\", \"2-5.\", \"2-6.\", \"2-7.\", \"2-8.\", \"3-13.\", \"3-18.\", \"3-3.\", \"4-1.\", \"4-10.\", \"4-11.\", \"4-19.\", \"5-5.\", \"6-15.\", \"7-10.\", \"7-14.\", \"8-18.\", \"8-20.\", \"8-3.\", \"8-8.\"], \"domains\": [1, 2, 3, 4, 5], \"num_examples_per_domain_per_label\": -1, \"pickle_path\": \"/root/csc500-main/datasets/cores.stratified_ds.2022A.pkl\", \"source_or_target_dataset\": \"source\", \"x_transforms\": [\"unit_mag\"], \"episode_transforms\": [], \"domain_prefix\": \"CORES_\"}, {\"labels\": [\"3123D52\", \"3123D65\", \"3123D79\", \"3123D80\", \"3123D54\", \"3123D70\", \"3123D7B\", \"3123D89\", \"3123D58\", \"3123D76\", \"3123D7D\", \"3123EFE\", \"3123D64\", \"3123D78\", \"3123D7E\", \"3124E4A\"], \"domains\": [32, 38, 8, 44, 14, 50, 20, 26], \"num_examples_per_domain_per_label\": 10000, \"pickle_path\": \"/root/csc500-main/datasets/oracle.Run1_10kExamples_stratified_ds.2022A.pkl\", \"source_or_target_dataset\": \"target\", \"x_transforms\": [\"unit_mag\"], \"episode_transforms\": [], \"domain_prefix\": \"ORACLE.run1_\"}], \"dataset_seed\": 1337, \"seed\": 1337, \"x_shape\": [2, 256], \"domains_source\": [\"CORES_1\", \"CORES_2\", \"CORES_3\", \"CORES_4\", \"CORES_5\"], \"domains_target\": [\"ORACLE.run1_32\", \"ORACLE.run1_38\", \"ORACLE.run1_8\", \"ORACLE.run1_44\", \"ORACLE.run1_14\", \"ORACLE.run1_50\", \"ORACLE.run1_20\", \"ORACLE.run1_26\"]}, \"results\": {\"source_test_label_accuracy\": 0.999263468013468, \"source_test_label_loss\": 0.008133837953209877, \"target_test_label_accuracy\": 0.18454427083333333, \"target_test_label_loss\": 3.837846040725708, \"source_val_label_accuracy\": 0.9992865296803652, \"source_val_label_loss\": 0.010474846698343754, \"target_val_label_accuracy\": 0.18482421875, \"target_val_label_loss\": 3.838322401046753, \"total_epochs_trained\": 9, \"total_experiment_time_secs\": 2883.3110468387604, \"confusion\": {\"CORES_3\": {\"43\": {\"43\": 128}, \"9\": {\"9\": 150}, \"6\": {\"6\": 87, \"38\": 1}, \"3\": {\"3\": 144}, \"16\": {\"16\": 134}, \"51\": {\"51\": 128}, \"31\": {\"31\": 28}, \"46\": {\"46\": 134}, \"19\": {\"19\": 124}, \"8\": {\"8\": 152}, \"18\": {\"18\": 84}, \"37\": {\"37\": 28}, \"24\": {\"24\": 104}, \"10\": {\"10\": 64}, \"44\": {\"44\": 88}, \"14\": {\"14\": 40}, \"38\": {\"38\": 28}, \"53\": {\"53\": 140}, \"20\": {\"20\": 132}, \"32\": {\"32\": 28}, \"36\": {\"36\": 100}, \"33\": {\"33\": 28}, \"56\": {\"56\": 136}, \"23\": {\"23\": 130}, \"54\": {\"54\": 100}, \"21\": {\"21\": 126}, \"28\": {\"28\": 27, \"5\": 1}, \"26\": {\"26\": 24}, \"48\": {\"48\": 116}, \"52\": {\"52\": 118}, \"39\": {\"39\": 16}, \"22\": {\"22\": 140}, \"13\": {\"13\": 128}, \"2\": {\"2\": 32}, \"34\": {\"34\": 32}, \"27\": {\"27\": 132}, \"45\": {\"45\": 60}, \"35\": {\"35\": 28}, \"29\": {\"29\": 128}, \"25\": {\"25\": 144}, \"0\": {\"0\": 124}, \"41\": {\"41\": 28}, \"11\": {\"11\": 142}, \"5\": {\"5\": 108}, \"1\": {\"1\": 100}, \"57\": {\"57\": 116}, \"17\": {\"17\": 106, \"10\": 1, \"24\": 1}, \"7\": {\"7\": 36}, \"12\": {\"12\": 92}, \"47\": {\"47\": 92}, \"40\": {\"40\": 136}, \"15\": {\"15\": 142}, \"42\": {\"42\": 28}, \"55\": {\"55\": 150}, \"49\": {\"49\": 20}, \"30\": {\"30\": 120}, \"50\": {\"50\": 134}, \"4\": {\"4\": 136}}, \"CORES_4\": {\"35\": {\"35\": 40}, \"25\": {\"25\": 134}, \"24\": {\"24\": 56}, \"48\": {\"48\": 138}, \"51\": {\"51\": 144}, \"13\": {\"13\": 120}, \"14\": {\"14\": 16}, \"32\": {\"32\": 24}, \"30\": {\"30\": 44}, \"34\": {\"34\": 24}, \"9\": {\"9\": 135, \"4\": 1}, \"1\": {\"1\": 40}, \"0\": {\"0\": 80}, \"38\": {\"38\": 40}, \"22\": {\"22\": 128}, \"40\": {\"40\": 120}, \"6\": {\"6\": 112}, \"16\": {\"16\": 96}, \"11\": {\"11\": 104}, \"20\": {\"20\": 122}, \"17\": {\"17\": 80}, \"26\": {\"26\": 24}, \"54\": {\"54\": 108}, \"55\": {\"55\": 154}, \"50\": {\"50\": 130, \"57\": 1, \"3\": 1}, \"19\": {\"19\": 142}, \"44\": {\"44\": 122}, \"47\": {\"47\": 120}, \"33\": {\"33\": 36}, \"5\": {\"5\": 108}, \"18\": {\"18\": 108}, \"21\": {\"21\": 124}, \"41\": {\"41\": 36}, \"23\": {\"23\": 128}, \"39\": {\"39\": 20}, \"37\": {\"37\": 24}, \"8\": {\"8\": 144}, \"49\": {\"49\": 20}, \"53\": {\"53\": 140}, \"31\": {\"31\": 28}, \"28\": {\"28\": 32}, \"3\": {\"3\": 124}, \"27\": {\"27\": 137, \"4\": 1}, \"46\": {\"46\": 126, \"22\": 1, \"47\": 1}, \"12\": {\"12\": 92}, \"7\": {\"7\": 24}, \"4\": {\"4\": 132}, \"42\": {\"42\": 32}, \"43\": {\"43\": 130}, \"29\": {\"29\": 120}, \"57\": {\"57\": 100}, \"52\": {\"52\": 104}, \"45\": {\"45\": 96}, \"36\": {\"36\": 92}, \"10\": {\"10\": 126}, \"15\": {\"15\": 134}, \"56\": {\"56\": 124}, \"2\": {\"2\": 36}}, \"CORES_5\": {\"47\": {\"47\": 100}, \"53\": {\"53\": 150}, \"29\": {\"29\": 126}, \"52\": {\"52\": 130}, \"55\": {\"55\": 144}, \"17\": {\"17\": 116}, \"42\": {\"42\": 40}, \"33\": {\"33\": 32}, \"11\": {\"11\": 148}, \"19\": {\"19\": 118}, \"1\": {\"1\": 144}, \"44\": {\"44\": 142}, \"49\": {\"49\": 36}, \"4\": {\"4\": 100}, \"6\": {\"6\": 116}, \"39\": {\"39\": 20}, \"50\": {\"50\": 147, \"8\": 1}, \"56\": {\"56\": 130}, \"25\": {\"25\": 144}, \"28\": {\"28\": 32}, \"35\": {\"35\": 36}, \"24\": {\"24\": 80}, \"21\": {\"21\": 132}, \"45\": {\"45\": 123, \"6\": 1}, \"16\": {\"16\": 144}, \"37\": {\"37\": 24}, \"57\": {\"57\": 132}, \"34\": {\"34\": 36}, \"38\": {\"38\": 32}, \"48\": {\"48\": 130}, \"26\": {\"26\": 24}, \"9\": {\"9\": 152}, \"18\": {\"18\": 64}, \"3\": {\"3\": 100}, \"23\": {\"23\": 124}, \"15\": {\"15\": 154}, \"10\": {\"10\": 68}, \"46\": {\"46\": 148}, \"22\": {\"22\": 28}, \"54\": {\"54\": 112}, \"27\": {\"27\": 160}, \"41\": {\"41\": 28}, \"31\": {\"31\": 36}, \"0\": {\"0\": 124}, \"7\": {\"7\": 32}, \"2\": {\"2\": 28}, \"14\": {\"14\": 44}, \"40\": {\"40\": 124}, \"5\": {\"5\": 128}, \"12\": {\"12\": 96}, \"43\": {\"43\": 142}, \"13\": {\"13\": 148}, \"36\": {\"36\": 92}, \"8\": {\"8\": 150}, \"32\": {\"32\": 32}, \"30\": {\"30\": 128}, \"51\": {\"51\": 138}, \"20\": {\"20\": 138}}, \"CORES_1\": {\"46\": {\"46\": 140}, \"16\": {\"16\": 134}, \"26\": {\"26\": 24}, \"10\": {\"10\": 95, \"21\": 1}, \"9\": {\"9\": 156}, \"28\": {\"28\": 28}, \"51\": {\"51\": 156}, \"1\": {\"1\": 100}, \"55\": {\"55\": 148}, \"27\": {\"27\": 124}, \"22\": {\"22\": 123, \"24\": 1}, \"52\": {\"52\": 126}, \"3\": {\"3\": 140}, \"33\": {\"33\": 32}, \"47\": {\"47\": 120}, \"42\": {\"42\": 40}, \"12\": {\"12\": 116}, \"23\": {\"23\": 132}, \"49\": {\"49\": 32}, \"7\": {\"7\": 28}, \"4\": {\"4\": 132}, \"50\": {\"50\": 134}, \"19\": {\"19\": 154}, \"11\": {\"11\": 140}, \"31\": {\"31\": 28}, \"41\": {\"41\": 24}, \"56\": {\"56\": 138}, \"0\": {\"0\": 148}, \"57\": {\"57\": 128}, \"53\": {\"53\": 140}, \"43\": {\"43\": 144}, \"37\": {\"37\": 32}, \"2\": {\"2\": 36}, \"6\": {\"6\": 95, \"8\": 1}, \"13\": {\"13\": 150}, \"18\": {\"18\": 72}, \"36\": {\"36\": 62, \"21\": 1, \"16\": 1}, \"29\": {\"29\": 140}, \"39\": {\"39\": 28}, \"17\": {\"17\": 64}, \"21\": {\"21\": 124}, \"25\": {\"25\": 132}, \"45\": {\"45\": 142}, \"38\": {\"38\": 24}, \"30\": {\"30\": 120}, \"24\": {\"24\": 107, \"22\": 1}, \"20\": {\"20\": 140}, \"8\": {\"8\": 140}, \"35\": {\"35\": 36}, \"54\": {\"54\": 104}, \"5\": {\"5\": 148}, \"48\": {\"48\": 144}, \"15\": {\"15\": 142}, \"34\": {\"34\": 24}, \"14\": {\"14\": 24}, \"32\": {\"32\": 32}, \"40\": {\"40\": 148}, \"44\": {\"44\": 136}}, \"CORES_2\": {\"36\": {\"36\": 116}, \"5\": {\"5\": 120}, \"45\": {\"45\": 128}, \"49\": {\"49\": 24}, \"50\": {\"50\": 136}, \"4\": {\"4\": 138}, \"43\": {\"43\": 148}, \"41\": {\"41\": 20}, \"37\": {\"37\": 36}, \"12\": {\"12\": 92}, \"33\": {\"33\": 28}, \"7\": {\"7\": 36}, \"56\": {\"56\": 140}, \"14\": {\"14\": 24}, \"52\": {\"52\": 124}, \"44\": {\"44\": 96}, \"48\": {\"48\": 144}, \"20\": {\"20\": 128}, \"55\": {\"55\": 144}, \"32\": {\"32\": 28}, \"40\": {\"40\": 136}, \"54\": {\"54\": 108}, \"17\": {\"17\": 104}, \"38\": {\"38\": 20}, \"24\": {\"24\": 96}, \"1\": {\"1\": 112}, \"6\": {\"6\": 124}, \"34\": {\"34\": 28}, \"11\": {\"11\": 136}, \"9\": {\"9\": 150}, \"8\": {\"8\": 152}, \"22\": {\"22\": 136}, \"26\": {\"26\": 24}, \"23\": {\"23\": 146}, \"10\": {\"10\": 111, \"11\": 1}, \"18\": {\"18\": 48}, \"13\": {\"13\": 115, \"24\": 1}, \"30\": {\"30\": 128}, \"42\": {\"42\": 36}, \"31\": {\"31\": 28}, \"46\": {\"46\": 128}, \"57\": {\"57\": 142}, \"47\": {\"47\": 138}, \"35\": {\"35\": 32}, \"15\": {\"15\": 132}, \"25\": {\"25\": 136}, \"19\": {\"19\": 136}, \"51\": {\"51\": 128}, \"53\": {\"53\": 134}, \"21\": {\"21\": 120}, \"39\": {\"39\": 28}, \"2\": {\"2\": 32}, \"16\": {\"16\": 150}, \"0\": {\"0\": 48}, \"3\": {\"3\": 92}, \"27\": {\"27\": 142}, \"28\": {\"28\": 28}, \"29\": {\"29\": 128}}, \"ORACLE.run1_14\": {\"15\": {\"13\": 68, \"15\": 375, \"6\": 58, \"7\": 311, \"4\": 63, \"5\": 109, \"14\": 27, \"1\": 66, \"2\": 91, \"3\": 16, \"0\": 4, \"10\": 7, \"8\": 3, \"11\": 2}, \"3\": {\"14\": 100, \"8\": 60, \"2\": 76, \"11\": 69, \"6\": 72, \"3\": 109, \"10\": 109, \"0\": 117, \"13\": 85, \"5\": 92, \"4\": 92, \"15\": 36, \"1\": 91, \"9\": 46, \"7\": 40, \"12\": 6}, \"6\": {\"7\": 62, \"15\": 90, \"1\": 55, \"5\": 89, \"13\": 163, \"4\": 92, \"11\": 29, \"6\": 155, \"14\": 122, \"2\": 138, \"10\": 68, \"0\": 41, \"3\": 78, \"8\": 12, \"9\": 5, \"12\": 1}, \"1\": {\"10\": 50, \"1\": 147, \"15\": 95, \"2\": 87, \"5\": 124, \"13\": 67, \"0\": 68, \"4\": 108, \"8\": 92, \"14\": 64, \"6\": 68, \"7\": 129, \"11\": 18, \"3\": 64, \"9\": 14, \"12\": 5}, \"8\": {\"8\": 328, \"9\": 136, \"11\": 86, \"0\": 94, \"1\": 105, \"4\": 72, \"12\": 39, \"10\": 71, \"15\": 22, \"5\": 49, \"3\": 83, \"14\": 24, \"2\": 34, \"7\": 32, \"6\": 12, \"13\": 13}, \"10\": {\"9\": 91, \"6\": 52, \"10\": 168, \"11\": 144, \"0\": 152, \"1\": 54, \"3\": 116, \"5\": 43, \"4\": 65, \"14\": 104, \"13\": 33, \"8\": 74, \"12\": 32, \"2\": 57, \"15\": 8, \"7\": 7}, \"9\": {\"9\": 300, \"1\": 11, \"12\": 301, \"11\": 235, \"8\": 114, \"0\": 95, \"3\": 35, \"14\": 14, \"10\": 56, \"4\": 19, \"5\": 8, \"13\": 7, \"2\": 3, \"6\": 2}, \"13\": {\"3\": 80, \"7\": 68, \"0\": 45, \"15\": 95, \"5\": 91, \"13\": 127, \"4\": 83, \"6\": 152, \"12\": 1, \"1\": 61, \"2\": 131, \"10\": 77, \"8\": 18, \"14\": 130, \"11\": 33, \"9\": 8}, \"12\": {\"12\": 592, \"11\": 146, \"9\": 315, \"0\": 49, \"8\": 56, \"10\": 30, \"14\": 2, \"4\": 4, \"3\": 2, \"1\": 1, \"2\": 1, \"5\": 2}, \"5\": {\"14\": 71, \"8\": 46, \"0\": 61, \"6\": 105, \"7\": 137, \"10\": 58, \"5\": 123, \"15\": 96, \"3\": 82, \"11\": 14, \"4\": 121, \"13\": 77, \"2\": 103, \"1\": 95, \"9\": 8, \"12\": 3}, \"0\": {\"8\": 82, \"7\": 9, \"3\": 109, \"12\": 50, \"14\": 74, \"0\": 153, \"10\": 151, \"11\": 171, \"1\": 72, \"13\": 44, \"9\": 102, \"6\": 43, \"2\": 42, \"4\": 54, \"5\": 41, \"15\": 3}, \"2\": {\"2\": 108, \"13\": 136, \"6\": 133, \"3\": 77, \"14\": 132, \"10\": 74, \"7\": 86, \"15\": 83, \"1\": 86, \"8\": 24, \"4\": 91, \"0\": 44, \"5\": 87, \"11\": 29, \"9\": 8, \"12\": 2}, \"11\": {\"11\": 276, \"9\": 181, \"0\": 158, \"10\": 153, \"14\": 54, \"12\": 119, \"8\": 59, \"2\": 25, \"6\": 24, \"3\": 70, \"4\": 26, \"1\": 20, \"5\": 9, \"13\": 23, \"7\": 3}, \"14\": {\"0\": 79, \"1\": 55, \"11\": 58, \"2\": 119, \"14\": 164, \"3\": 98, \"10\": 88, \"13\": 142, \"6\": 138, \"5\": 65, \"15\": 39, \"8\": 25, \"9\": 14, \"4\": 86, \"7\": 28, \"12\": 2}, \"7\": {\"15\": 304, \"4\": 77, \"7\": 276, \"5\": 116, \"2\": 65, \"1\": 105, \"13\": 64, \"14\": 28, \"6\": 60, \"8\": 34, \"3\": 40, \"10\": 12, \"0\": 14, \"11\": 5}, \"4\": {\"1\": 102, \"14\": 75, \"2\": 89, \"6\": 73, \"15\": 63, \"7\": 92, \"4\": 117, \"5\": 119, \"3\": 107, \"13\": 90, \"10\": 91, \"8\": 66, \"11\": 24, \"0\": 75, \"9\": 14, \"12\": 3}}, \"ORACLE.run1_20\": {\"3\": {\"9\": 83, \"15\": 79, \"4\": 73, \"5\": 86, \"10\": 61, \"3\": 82, \"7\": 81, \"2\": 78, \"12\": 79, \"1\": 95, \"8\": 70, \"13\": 78, \"6\": 51, \"0\": 73, \"14\": 59, \"11\": 72}, \"15\": {\"12\": 104, \"4\": 58, \"2\": 74, \"8\": 46, \"1\": 95, \"7\": 63, \"5\": 118, \"13\": 112, \"9\": 76, \"14\": 22, \"0\": 105, \"11\": 43, \"15\": 138, \"3\": 88, \"6\": 28, \"10\": 30}, \"8\": {\"9\": 64, \"8\": 110, \"10\": 113, \"7\": 67, \"5\": 71, \"14\": 98, \"6\": 100, \"2\": 59, \"1\": 48, \"3\": 90, \"13\": 66, \"12\": 65, \"0\": 51, \"4\": 90, \"15\": 40, \"11\": 68}, \"4\": {\"8\": 87, \"7\": 70, \"12\": 81, \"3\": 80, \"10\": 95, \"13\": 66, \"14\": 98, \"9\": 62, \"15\": 64, \"1\": 68, \"0\": 79, \"4\": 99, \"6\": 70, \"5\": 79, \"11\": 41, \"2\": 61}, \"14\": {\"14\": 162, \"11\": 78, \"6\": 159, \"1\": 34, \"7\": 66, \"9\": 53, \"4\": 106, \"10\": 155, \"0\": 34, \"3\": 53, \"13\": 30, \"8\": 116, \"5\": 32, \"2\": 52, \"12\": 43, \"15\": 27}, \"0\": {\"4\": 101, \"3\": 78, \"10\": 38, \"1\": 111, \"7\": 63, \"2\": 77, \"11\": 40, \"5\": 118, \"15\": 109, \"14\": 30, \"8\": 65, \"6\": 37, \"9\": 70, \"12\": 95, \"13\": 80, \"0\": 88}, \"7\": {\"13\": 64, \"4\": 74, \"7\": 69, \"15\": 39, \"14\": 89, \"11\": 101, \"0\": 52, \"6\": 96, \"5\": 77, \"12\": 77, \"9\": 91, \"1\": 68, \"10\": 70, \"2\": 75, \"3\": 73, \"8\": 85}, \"6\": {\"8\": 87, \"4\": 82, \"2\": 53, \"7\": 71, \"10\": 112, \"6\": 161, \"3\": 68, \"14\": 156, \"9\": 68, \"12\": 50, \"13\": 46, \"1\": 34, \"11\": 86, \"5\": 56, \"0\": 50, \"15\": 20}, \"10\": {\"7\": 79, \"5\": 52, \"4\": 87, \"3\": 64, \"8\": 98, \"6\": 130, \"12\": 54, \"15\": 36, \"0\": 48, \"10\": 136, \"14\": 166, \"9\": 50, \"13\": 49, \"2\": 49, \"11\": 59, \"1\": 43}, \"5\": {\"12\": 99, \"11\": 38, \"3\": 63, \"5\": 109, \"0\": 123, \"9\": 74, \"1\": 101, \"2\": 73, \"6\": 42, \"8\": 61, \"15\": 112, \"4\": 82, \"10\": 59, \"13\": 75, \"14\": 29, \"7\": 60}, \"2\": {\"9\": 92, \"3\": 78, \"1\": 92, \"11\": 86, \"0\": 61, \"4\": 53, \"2\": 79, \"5\": 93, \"7\": 80, \"8\": 64, \"6\": 61, \"13\": 84, \"15\": 85, \"14\": 52, \"10\": 63, \"12\": 77}, \"12\": {\"11\": 56, \"7\": 61, \"15\": 91, \"0\": 95, \"5\": 100, \"6\": 47, \"2\": 81, \"13\": 95, \"1\": 87, \"12\": 97, \"9\": 98, \"8\": 48, \"3\": 76, \"10\": 59, \"4\": 68, \"14\": 41}, \"9\": {\"0\": 73, \"11\": 72, \"15\": 68, \"12\": 78, \"9\": 96, \"5\": 93, \"7\": 83, \"10\": 59, \"4\": 75, \"6\": 56, \"14\": 57, \"13\": 88, \"1\": 85, \"2\": 73, \"8\": 67, \"3\": 77}, \"1\": {\"7\": 70, \"4\": 81, \"10\": 37, \"5\": 108, \"3\": 91, \"15\": 94, \"1\": 90, \"9\": 91, \"2\": 87, \"14\": 34, \"8\": 53, \"11\": 48, \"13\": 93, \"12\": 95, \"0\": 93, \"6\": 35}, \"11\": {\"11\": 253, \"4\": 46, \"1\": 52, \"7\": 101, \"9\": 61, \"13\": 90, \"6\": 118, \"3\": 52, \"8\": 60, \"2\": 65, \"12\": 54, \"14\": 78, \"15\": 47, \"10\": 56, \"0\": 28, \"5\": 39}, \"13\": {\"8\": 50, \"11\": 102, \"9\": 68, \"13\": 112, \"3\": 71, \"15\": 117, \"5\": 90, \"2\": 94, \"7\": 65, \"4\": 52, \"1\": 80, \"10\": 42, \"12\": 82, \"0\": 91, \"14\": 38, \"6\": 46}}, \"ORACLE.run1_38\": {\"5\": {\"13\": 71, \"5\": 130, \"8\": 113, \"1\": 82, \"11\": 18, \"15\": 83, \"14\": 22, \"9\": 120, \"4\": 15, \"12\": 31, \"10\": 82, \"7\": 117, \"6\": 112, \"0\": 121, \"3\": 68, \"2\": 15}, \"8\": {\"8\": 145, \"7\": 100, \"9\": 64, \"11\": 23, \"0\": 125, \"5\": 153, \"3\": 35, \"10\": 106, \"15\": 85, \"1\": 80, \"13\": 57, \"6\": 91, \"4\": 27, \"12\": 62, \"14\": 27, \"2\": 20}, \"11\": {\"13\": 53, \"14\": 323, \"11\": 374, \"10\": 87, \"0\": 7, \"15\": 41, \"12\": 94, \"2\": 140, \"1\": 15, \"8\": 23, \"5\": 7, \"4\": 28, \"7\": 7, \"6\": 1}, \"1\": {\"5\": 88, \"2\": 107, \"8\": 80, \"13\": 164, \"15\": 155, \"1\": 241, \"10\": 64, \"9\": 69, \"6\": 95, \"0\": 50, \"14\": 29, \"3\": 17, \"12\": 13, \"4\": 1, \"11\": 18, \"7\": 9}, \"10\": {\"15\": 124, \"2\": 67, \"13\": 96, \"11\": 96, \"8\": 92, \"14\": 97, \"5\": 74, \"0\": 78, \"10\": 150, \"7\": 66, \"12\": 103, \"9\": 11, \"4\": 51, \"6\": 28, \"1\": 59, \"3\": 8}, \"15\": {\"2\": 100, \"7\": 28, \"11\": 49, \"1\": 177, \"5\": 86, \"15\": 152, \"10\": 85, \"14\": 83, \"8\": 91, \"13\": 169, \"6\": 62, \"9\": 25, \"0\": 60, \"3\": 4, \"12\": 24, \"4\": 5}, \"3\": {\"3\": 448, \"5\": 72, \"9\": 271, \"6\": 143, \"1\": 11, \"0\": 91, \"7\": 112, \"8\": 26, \"10\": 9, \"4\": 6, \"13\": 5, \"12\": 2, \"14\": 1, \"15\": 3}, \"7\": {\"4\": 68, \"3\": 126, \"0\": 171, \"8\": 89, \"7\": 239, \"10\": 68, \"12\": 50, \"6\": 86, \"5\": 107, \"9\": 107, \"13\": 18, \"1\": 18, \"15\": 32, \"11\": 8, \"14\": 7, \"2\": 6}, \"4\": {\"5\": 26, \"4\": 521, \"12\": 279, \"10\": 65, \"11\": 35, \"14\": 26, \"7\": 117, \"8\": 41, \"3\": 8, \"0\": 60, \"9\": 4, \"15\": 6, \"13\": 5, \"1\": 2, \"2\": 2, \"6\": 3}, \"14\": {\"14\": 297, \"10\": 76, \"11\": 315, \"12\": 76, \"9\": 2, \"8\": 24, \"2\": 198, \"0\": 10, \"15\": 60, \"13\": 74, \"5\": 17, \"7\": 7, \"1\": 28, \"6\": 3, \"4\": 13}, \"9\": {\"15\": 28, \"0\": 73, \"3\": 245, \"13\": 22, \"9\": 285, \"5\": 88, \"6\": 233, \"10\": 17, \"7\": 87, \"8\": 70, \"1\": 40, \"14\": 1, \"4\": 5, \"2\": 4, \"12\": 1, \"11\": 1}, \"12\": {\"4\": 246, \"12\": 381, \"7\": 57, \"11\": 100, \"0\": 63, \"10\": 97, \"14\": 94, \"5\": 29, \"8\": 55, \"13\": 18, \"15\": 26, \"1\": 7, \"2\": 19, \"3\": 5, \"6\": 2, \"9\": 1}, \"6\": {\"9\": 210, \"5\": 117, \"3\": 154, \"6\": 221, \"7\": 91, \"1\": 80, \"0\": 79, \"10\": 32, \"11\": 1, \"15\": 57, \"8\": 93, \"13\": 42, \"2\": 10, \"4\": 3, \"12\": 8, \"14\": 2}, \"2\": {\"2\": 341, \"10\": 64, \"11\": 152, \"14\": 185, \"15\": 137, \"8\": 22, \"1\": 80, \"13\": 152, \"0\": 9, \"12\": 16, \"5\": 21, \"9\": 4, \"3\": 1, \"6\": 11, \"4\": 2, \"7\": 3}, \"0\": {\"1\": 35, \"7\": 168, \"8\": 129, \"0\": 142, \"10\": 68, \"9\": 84, \"4\": 61, \"3\": 97, \"6\": 98, \"12\": 55, \"2\": 13, \"5\": 111, \"11\": 16, \"14\": 24, \"15\": 61, \"13\": 38}, \"13\": {\"9\": 31, \"5\": 64, \"10\": 77, \"2\": 142, \"13\": 190, \"15\": 162, \"8\": 79, \"1\": 184, \"6\": 51, \"7\": 27, \"14\": 80, \"12\": 20, \"0\": 37, \"11\": 43, \"3\": 5, \"4\": 8}}, \"ORACLE.run1_8\": {\"9\": {\"9\": 680, \"1\": 37, \"0\": 49, \"5\": 117, \"13\": 54, \"6\": 22, \"3\": 3, \"10\": 85, \"4\": 41, \"14\": 59, \"11\": 26, \"7\": 19, \"8\": 4, \"2\": 3, \"15\": 1}, \"10\": {\"0\": 75, \"5\": 128, \"13\": 102, \"11\": 93, \"7\": 80, \"10\": 111, \"4\": 105, \"14\": 93, \"6\": 85, \"9\": 52, \"8\": 53, \"1\": 108, \"15\": 41, \"3\": 19, \"2\": 40, \"12\": 15}, \"13\": {\"15\": 33, \"0\": 113, \"8\": 57, \"1\": 78, \"7\": 97, \"4\": 99, \"12\": 38, \"14\": 122, \"3\": 34, \"6\": 92, \"13\": 108, \"5\": 90, \"2\": 67, \"9\": 29, \"11\": 70, \"10\": 73}, \"0\": {\"3\": 53, \"2\": 71, \"7\": 110, \"10\": 96, \"14\": 94, \"6\": 91, \"5\": 87, \"12\": 51, \"1\": 79, \"13\": 87, \"0\": 124, \"11\": 56, \"4\": 84, \"8\": 54, \"15\": 44, \"9\": 19}, \"1\": {\"12\": 31, \"0\": 55, \"1\": 135, \"4\": 87, \"6\": 74, \"9\": 16, \"5\": 114, \"11\": 153, \"2\": 21, \"3\": 23, \"8\": 87, \"14\": 98, \"15\": 55, \"7\": 60, \"10\": 117, \"13\": 74}, \"15\": {\"12\": 167, \"7\": 86, \"5\": 28, \"11\": 51, \"15\": 129, \"2\": 144, \"8\": 111, \"10\": 30, \"0\": 50, \"3\": 129, \"6\": 77, \"14\": 51, \"1\": 53, \"4\": 50, \"13\": 44}, \"5\": {\"1\": 145, \"8\": 48, \"10\": 128, \"13\": 85, \"6\": 46, \"5\": 183, \"11\": 112, \"0\": 73, \"9\": 72, \"2\": 11, \"14\": 122, \"4\": 88, \"7\": 51, \"3\": 6, \"15\": 19, \"12\": 11}, \"3\": {\"3\": 233, \"14\": 27, \"12\": 169, \"6\": 52, \"15\": 148, \"0\": 51, \"13\": 32, \"2\": 207, \"7\": 77, \"10\": 19, \"1\": 19, \"4\": 35, \"8\": 96, \"11\": 25, \"5\": 10}, \"6\": {\"1\": 82, \"11\": 88, \"15\": 72, \"14\": 87, \"10\": 83, \"4\": 68, \"7\": 92, \"12\": 72, \"2\": 79, \"5\": 63, \"6\": 94, \"8\": 76, \"0\": 93, \"3\": 63, \"9\": 12, \"13\": 76}, \"11\": {\"5\": 117, \"14\": 94, \"6\": 69, \"13\": 76, \"11\": 164, \"4\": 97, \"7\": 55, \"1\": 147, \"15\": 58, \"10\": 103, \"8\": 84, \"0\": 55, \"3\": 16, \"12\": 31, \"9\": 13, \"2\": 21}, \"8\": {\"14\": 60, \"12\": 107, \"11\": 74, \"8\": 140, \"13\": 59, \"5\": 38, \"10\": 54, \"4\": 65, \"1\": 73, \"6\": 89, \"3\": 88, \"2\": 95, \"15\": 119, \"0\": 67, \"7\": 71, \"9\": 1}, \"4\": {\"5\": 87, \"4\": 98, \"8\": 86, \"0\": 89, \"11\": 98, \"9\": 18, \"13\": 84, \"7\": 75, \"14\": 106, \"2\": 58, \"1\": 79, \"10\": 112, \"12\": 40, \"6\": 88, \"3\": 40, \"15\": 42}, \"12\": {\"3\": 183, \"0\": 42, \"2\": 147, \"15\": 140, \"4\": 33, \"13\": 30, \"12\": 219, \"5\": 15, \"8\": 120, \"6\": 69, \"7\": 69, \"10\": 17, \"11\": 41, \"1\": 37, \"14\": 38}, \"14\": {\"10\": 97, \"9\": 26, \"1\": 110, \"7\": 87, \"13\": 99, \"11\": 91, \"4\": 102, \"8\": 65, \"2\": 42, \"15\": 49, \"5\": 106, \"14\": 99, \"0\": 80, \"12\": 27, \"6\": 88, \"3\": 32}, \"2\": {\"6\": 81, \"15\": 129, \"10\": 34, \"1\": 38, \"2\": 211, \"3\": 174, \"0\": 64, \"12\": 131, \"13\": 59, \"4\": 44, \"11\": 32, \"5\": 12, \"7\": 92, \"8\": 64, \"14\": 34, \"9\": 1}, \"7\": {\"14\": 66, \"15\": 74, \"2\": 120, \"7\": 95, \"1\": 59, \"8\": 90, \"5\": 55, \"11\": 69, \"13\": 84, \"3\": 70, \"12\": 92, \"0\": 84, \"4\": 89, \"6\": 79, \"10\": 69, \"9\": 5}}, \"ORACLE.run1_50\": {\"7\": {\"5\": 132, \"13\": 166, \"7\": 178, \"6\": 109, \"0\": 88, \"12\": 8, \"15\": 41, \"1\": 62, \"8\": 58, \"3\": 60, \"4\": 67, \"10\": 138, \"11\": 13, \"2\": 57, \"14\": 22, \"9\": 1}, \"3\": {\"3\": 543, \"10\": 118, \"0\": 52, \"8\": 354, \"13\": 33, \"5\": 16, \"2\": 16, \"6\": 10, \"7\": 54, \"4\": 1, \"14\": 1, \"1\": 2}, \"8\": {\"3\": 286, \"10\": 208, \"8\": 318, \"2\": 68, \"0\": 126, \"13\": 54, \"7\": 79, \"5\": 35, \"6\": 11, \"1\": 6, \"12\": 2, \"4\": 5, \"15\": 2}, \"2\": {\"0\": 180, \"9\": 14, \"7\": 60, \"13\": 77, \"15\": 22, \"2\": 287, \"1\": 56, \"6\": 61, \"10\": 105, \"14\": 99, \"8\": 76, \"12\": 44, \"5\": 54, \"4\": 27, \"3\": 15, \"11\": 23}, \"14\": {\"2\": 83, \"11\": 118, \"1\": 122, \"12\": 161, \"9\": 124, \"14\": 215, \"15\": 90, \"4\": 70, \"0\": 52, \"10\": 22, \"7\": 21, \"6\": 52, \"8\": 4, \"5\": 29, \"13\": 36, \"3\": 1}, \"4\": {\"1\": 140, \"14\": 89, \"2\": 41, \"8\": 9, \"5\": 95, \"6\": 112, \"13\": 72, \"7\": 74, \"4\": 156, \"15\": 147, \"9\": 50, \"12\": 40, \"11\": 98, \"10\": 33, \"0\": 31, \"3\": 13}, \"6\": {\"5\": 126, \"12\": 13, \"3\": 10, \"2\": 33, \"6\": 136, \"1\": 125, \"7\": 140, \"13\": 152, \"15\": 109, \"4\": 125, \"8\": 20, \"11\": 51, \"10\": 57, \"9\": 17, \"14\": 50, \"0\": 36}, \"15\": {\"4\": 144, \"6\": 111, \"11\": 165, \"15\": 195, \"9\": 67, \"13\": 57, \"7\": 49, \"14\": 85, \"12\": 62, \"0\": 17, \"1\": 135, \"10\": 11, \"5\": 80, \"2\": 19, \"3\": 2, \"8\": 1}, \"10\": {\"0\": 177, \"3\": 126, \"14\": 22, \"7\": 117, \"10\": 158, \"6\": 64, \"8\": 152, \"13\": 107, \"1\": 36, \"15\": 15, \"12\": 5, \"4\": 34, \"5\": 82, \"2\": 99, \"11\": 4, \"9\": 2}, \"11\": {\"11\": 230, \"6\": 53, \"4\": 97, \"9\": 232, \"14\": 132, \"12\": 155, \"15\": 124, \"5\": 32, \"1\": 95, \"13\": 18, \"7\": 6, \"0\": 9, \"2\": 13, \"3\": 1, \"10\": 3}, \"13\": {\"6\": 112, \"0\": 74, \"3\": 31, \"9\": 9, \"8\": 41, \"15\": 50, \"12\": 7, \"5\": 138, \"13\": 165, \"14\": 27, \"2\": 64, \"7\": 159, \"10\": 119, \"4\": 104, \"1\": 79, \"11\": 21}, \"9\": {\"11\": 249, \"6\": 16, \"14\": 93, \"1\": 63, \"9\": 376, \"12\": 248, \"15\": 81, \"4\": 50, \"2\": 9, \"5\": 6, \"10\": 2, \"0\": 2, \"7\": 3, \"13\": 2}, \"0\": {\"13\": 83, \"7\": 92, \"2\": 213, \"10\": 151, \"15\": 23, \"14\": 59, \"8\": 118, \"4\": 34, \"5\": 71, \"0\": 208, \"6\": 51, \"12\": 15, \"1\": 35, \"3\": 40, \"11\": 6, \"9\": 1}, \"1\": {\"14\": 100, \"4\": 142, \"10\": 30, \"1\": 131, \"11\": 96, \"12\": 44, \"7\": 61, \"5\": 92, \"13\": 86, \"9\": 43, \"6\": 114, \"15\": 135, \"0\": 62, \"2\": 51, \"8\": 11, \"3\": 2}, \"12\": {\"14\": 185, \"12\": 369, \"9\": 261, \"11\": 168, \"1\": 50, \"15\": 57, \"4\": 27, \"5\": 11, \"6\": 22, \"13\": 8, \"10\": 3, \"0\": 6, \"2\": 32, \"7\": 1}, \"5\": {\"15\": 71, \"5\": 162, \"6\": 112, \"7\": 144, \"8\": 36, \"10\": 89, \"4\": 115, \"0\": 61, \"1\": 94, \"11\": 34, \"3\": 34, \"13\": 124, \"14\": 45, \"9\": 14, \"2\": 53, \"12\": 12}}, \"ORACLE.run1_32\": {\"8\": {\"3\": 127, \"13\": 140, \"8\": 158, \"0\": 111, \"5\": 134, \"14\": 70, \"11\": 88, \"15\": 87, \"4\": 103, \"7\": 93, \"2\": 70, \"9\": 17, \"12\": 2}, \"14\": {\"14\": 192, \"11\": 225, \"7\": 144, \"8\": 71, \"0\": 88, \"4\": 81, \"15\": 22, \"5\": 95, \"3\": 110, \"13\": 84, \"9\": 3, \"2\": 85}, \"2\": {\"9\": 94, \"2\": 250, \"14\": 62, \"0\": 157, \"8\": 83, \"11\": 43, \"7\": 118, \"4\": 193, \"3\": 22, \"13\": 73, \"5\": 92, \"15\": 4, \"12\": 9}, \"0\": {\"9\": 38, \"2\": 169, \"11\": 65, \"0\": 167, \"8\": 108, \"13\": 104, \"4\": 140, \"3\": 52, \"7\": 113, \"15\": 28, \"5\": 111, \"14\": 101, \"12\": 4}, \"1\": {\"10\": 393, \"1\": 595, \"6\": 187, \"12\": 23, \"9\": 2}, \"10\": {\"1\": 337, \"6\": 183, \"10\": 536, \"12\": 129, \"9\": 15}, \"11\": {\"7\": 131, \"14\": 201, \"0\": 82, \"11\": 250, \"2\": 56, \"5\": 93, \"13\": 101, \"3\": 133, \"4\": 62, \"8\": 72, \"15\": 17, \"9\": 2}, \"5\": {\"4\": 133, \"13\": 113, \"2\": 118, \"3\": 101, \"7\": 105, \"14\": 107, \"0\": 107, \"15\": 44, \"11\": 98, \"5\": 141, \"8\": 124, \"9\": 8, \"12\": 1}, \"15\": {\"15\": 556, \"13\": 91, \"2\": 9, \"14\": 24, \"8\": 133, \"3\": 210, \"5\": 66, \"0\": 35, \"4\": 22, \"7\": 26, \"11\": 27, \"9\": 1}, \"3\": {\"3\": 287, \"14\": 94, \"11\": 144, \"5\": 111, \"15\": 172, \"7\": 57, \"4\": 47, \"8\": 103, \"13\": 125, \"0\": 44, \"2\": 15, \"9\": 1}, \"12\": {\"12\": 545, \"9\": 297, \"10\": 162, \"6\": 141, \"2\": 13, \"1\": 27, \"4\": 6, \"0\": 6, \"7\": 2, \"8\": 1}, \"7\": {\"2\": 101, \"4\": 116, \"14\": 137, \"15\": 26, \"11\": 139, \"3\": 66, \"0\": 120, \"5\": 116, \"7\": 147, \"13\": 107, \"8\": 116, \"9\": 5, \"12\": 4}, \"13\": {\"7\": 90, \"15\": 67, \"8\": 129, \"13\": 146, \"4\": 113, \"5\": 133, \"14\": 84, \"3\": 129, \"11\": 114, \"2\": 80, \"0\": 103, \"9\": 9, \"12\": 3}, \"6\": {\"12\": 179, \"6\": 600, \"10\": 196, \"9\": 75, \"1\": 147, \"2\": 2, \"4\": 1}, \"4\": {\"0\": 144, \"2\": 183, \"8\": 90, \"9\": 64, \"7\": 131, \"13\": 103, \"3\": 34, \"4\": 171, \"5\": 118, \"14\": 92, \"11\": 49, \"15\": 15, \"12\": 6}, \"9\": {\"12\": 299, \"9\": 598, \"14\": 6, \"2\": 117, \"6\": 52, \"13\": 8, \"4\": 38, \"0\": 32, \"10\": 14, \"11\": 1, \"8\": 11, \"5\": 9, \"7\": 13, \"1\": 2}}, \"ORACLE.run1_26\": {\"4\": {\"4\": 97, \"7\": 93, \"0\": 85, \"2\": 93, \"10\": 93, \"9\": 59, \"13\": 42, \"3\": 85, \"15\": 59, \"1\": 107, \"8\": 99, \"14\": 123, \"6\": 67, \"12\": 34, \"11\": 11, \"5\": 53}, \"12\": {\"12\": 407, \"11\": 228, \"2\": 12, \"5\": 29, \"6\": 117, \"0\": 39, \"13\": 67, \"10\": 51, \"15\": 63, \"8\": 42, \"1\": 22, \"4\": 20, \"14\": 36, \"9\": 47, \"3\": 9, \"7\": 11}, \"10\": {\"7\": 81, \"15\": 72, \"6\": 98, \"3\": 68, \"2\": 56, \"14\": 91, \"4\": 88, \"13\": 55, \"12\": 61, \"5\": 57, \"1\": 80, \"8\": 92, \"11\": 23, \"0\": 101, \"9\": 68, \"10\": 109}, \"0\": {\"10\": 84, \"2\": 64, \"6\": 109, \"7\": 90, \"0\": 88, \"5\": 49, \"8\": 84, \"1\": 111, \"4\": 95, \"3\": 83, \"14\": 92, \"12\": 53, \"9\": 75, \"15\": 63, \"11\": 19, \"13\": 41}, \"13\": {\"8\": 60, \"12\": 93, \"5\": 128, \"10\": 77, \"4\": 35, \"11\": 65, \"2\": 85, \"9\": 100, \"13\": 143, \"7\": 56, \"3\": 63, \"15\": 93, \"0\": 38, \"14\": 45, \"6\": 83, \"1\": 36}, \"9\": {\"7\": 68, \"15\": 86, \"1\": 55, \"4\": 60, \"11\": 25, \"2\": 77, \"0\": 72, \"9\": 122, \"5\": 89, \"14\": 66, \"8\": 93, \"6\": 99, \"3\": 69, \"13\": 88, \"12\": 67, \"10\": 64}, \"3\": {\"7\": 116, \"0\": 63, \"9\": 78, \"5\": 80, \"3\": 144, \"2\": 131, \"15\": 61, \"4\": 79, \"10\": 56, \"6\": 53, \"1\": 79, \"8\": 79, \"14\": 91, \"12\": 16, \"13\": 71, \"11\": 3}, \"2\": {\"13\": 73, \"3\": 149, \"2\": 130, \"5\": 98, \"0\": 61, \"12\": 27, \"4\": 73, \"14\": 86, \"6\": 53, \"9\": 77, \"7\": 86, \"1\": 66, \"15\": 81, \"8\": 79, \"10\": 50, \"11\": 11}, \"5\": {\"13\": 124, \"2\": 108, \"5\": 142, \"3\": 85, \"15\": 93, \"0\": 53, \"7\": 80, \"6\": 69, \"14\": 43, \"9\": 82, \"10\": 54, \"1\": 53, \"12\": 44, \"8\": 83, \"11\": 34, \"4\": 53}, \"14\": {\"15\": 63, \"0\": 97, \"9\": 60, \"8\": 90, \"10\": 106, \"4\": 113, \"2\": 60, \"3\": 74, \"6\": 76, \"7\": 89, \"14\": 121, \"13\": 35, \"1\": 121, \"12\": 35, \"5\": 48, \"11\": 12}, \"8\": {\"0\": 79, \"15\": 82, \"9\": 93, \"12\": 47, \"5\": 94, \"14\": 103, \"7\": 73, \"4\": 75, \"8\": 86, \"3\": 71, \"2\": 85, \"13\": 69, \"6\": 75, \"1\": 75, \"10\": 76, \"11\": 17}, \"7\": {\"7\": 121, \"5\": 71, \"13\": 66, \"3\": 120, \"14\": 86, \"10\": 71, \"6\": 50, \"8\": 88, \"2\": 102, \"15\": 74, \"1\": 85, \"4\": 83, \"0\": 77, \"9\": 75, \"12\": 23, \"11\": 8}, \"6\": {\"12\": 119, \"15\": 96, \"5\": 75, \"2\": 58, \"3\": 41, \"6\": 102, \"8\": 85, \"4\": 61, \"14\": 83, \"13\": 90, \"11\": 53, \"1\": 62, \"9\": 83, \"10\": 83, \"7\": 39, \"0\": 70}, \"11\": {\"0\": 19, \"12\": 302, \"13\": 97, \"11\": 494, \"15\": 42, \"14\": 11, \"6\": 61, \"5\": 32, \"10\": 27, \"8\": 22, \"9\": 45, \"1\": 10, \"2\": 12, \"4\": 8, \"7\": 12, \"3\": 6}, \"15\": {\"14\": 71, \"12\": 56, \"6\": 90, \"13\": 92, \"10\": 79, \"9\": 97, \"4\": 64, \"15\": 89, \"3\": 65, \"2\": 89, \"5\": 77, \"8\": 70, \"7\": 81, \"1\": 79, \"11\": 35, \"0\": 66}, \"1\": {\"0\": 89, \"6\": 71, \"7\": 88, \"4\": 127, \"13\": 50, \"15\": 51, \"10\": 94, \"3\": 103, \"14\": 106, \"1\": 119, \"2\": 88, \"5\": 52, \"8\": 88, \"9\": 53, \"11\": 5, \"12\": 16}}, \"ORACLE.run1_44\": {\"12\": {\"3\": 141, \"10\": 246, \"12\": 317, \"2\": 111, \"1\": 234, \"9\": 34, \"7\": 69, \"6\": 32, \"4\": 2, \"11\": 4, \"14\": 1, \"13\": 9}, \"7\": {\"2\": 142, \"3\": 111, \"13\": 123, \"9\": 155, \"1\": 82, \"6\": 135, \"11\": 88, \"7\": 155, \"10\": 90, \"12\": 79, \"14\": 11, \"4\": 23, \"15\": 3, \"5\": 3}, \"5\": {\"13\": 7, \"0\": 221, \"4\": 140, \"14\": 151, \"15\": 170, \"5\": 329, \"8\": 168, \"11\": 2, \"7\": 1, \"3\": 3, \"6\": 1, \"9\": 7}, \"15\": {\"14\": 170, \"15\": 268, \"8\": 182, \"5\": 199, \"9\": 8, \"4\": 159, \"3\": 8, \"0\": 188, \"1\": 1, \"12\": 5, \"2\": 1, \"13\": 5, \"11\": 2, \"7\": 1, \"6\": 3}, \"8\": {\"15\": 215, \"0\": 310, \"8\": 341, \"5\": 195, \"4\": 45, \"14\": 92, \"13\": 2}, \"2\": {\"2\": 200, \"1\": 135, \"11\": 63, \"9\": 73, \"6\": 114, \"12\": 116, \"3\": 113, \"10\": 152, \"13\": 66, \"7\": 160, \"14\": 3, \"4\": 5}, \"13\": {\"7\": 114, \"13\": 211, \"6\": 175, \"9\": 200, \"4\": 98, \"11\": 184, \"2\": 50, \"10\": 20, \"14\": 45, \"3\": 39, \"1\": 22, \"5\": 14, \"12\": 15, \"15\": 7, \"0\": 6}, \"4\": {\"14\": 265, \"13\": 87, \"8\": 34, \"15\": 138, \"5\": 136, \"1\": 1, \"4\": 297, \"6\": 23, \"0\": 62, \"9\": 73, \"3\": 15, \"12\": 2, \"11\": 36, \"2\": 5, \"7\": 25, \"10\": 1}, \"0\": {\"5\": 230, \"15\": 222, \"0\": 294, \"8\": 271, \"4\": 73, \"14\": 108, \"11\": 1, \"9\": 1}, \"6\": {\"6\": 215, \"7\": 164, \"11\": 172, \"13\": 184, \"2\": 111, \"10\": 45, \"4\": 38, \"3\": 47, \"1\": 23, \"9\": 163, \"14\": 13, \"0\": 1, \"12\": 22, \"15\": 1, \"5\": 1}, \"9\": {\"11\": 120, \"7\": 160, \"3\": 83, \"4\": 75, \"6\": 148, \"9\": 194, \"14\": 30, \"1\": 62, \"10\": 32, \"13\": 144, \"2\": 112, \"12\": 31, \"5\": 2, \"15\": 7}, \"11\": {\"11\": 356, \"6\": 208, \"10\": 29, \"9\": 135, \"14\": 22, \"13\": 187, \"3\": 26, \"7\": 102, \"2\": 54, \"4\": 48, \"5\": 5, \"1\": 16, \"12\": 8, \"15\": 4}, \"10\": {\"12\": 238, \"13\": 11, \"2\": 176, \"10\": 311, \"9\": 35, \"11\": 21, \"3\": 83, \"1\": 187, \"7\": 94, \"6\": 44}, \"14\": {\"14\": 263, \"13\": 46, \"0\": 102, \"5\": 176, \"15\": 186, \"7\": 11, \"4\": 276, \"9\": 34, \"8\": 70, \"1\": 3, \"2\": 3, \"11\": 11, \"3\": 11, \"10\": 1, \"6\": 6, \"12\": 1}, \"1\": {\"12\": 235, \"3\": 188, \"2\": 119, \"1\": 235, \"7\": 97, \"10\": 188, \"11\": 18, \"13\": 28, \"9\": 57, \"4\": 4, \"6\": 30, \"14\": 1}, \"3\": {\"3\": 244, \"12\": 171, \"10\": 101, \"6\": 43, \"13\": 52, \"2\": 117, \"1\": 186, \"9\": 99, \"7\": 124, \"4\": 23, \"11\": 27, \"14\": 7, \"15\": 4, \"5\": 2}}}, \"per_domain_accuracy\": {\"CORES_3\": {\"accuracy\": 0.9992732558139535, \"source?\": true}, \"CORES_4\": {\"accuracy\": 0.9988636363636364, \"source?\": true}, \"CORES_5\": {\"accuracy\": 0.9996508379888268, \"source?\": true}, \"CORES_1\": {\"accuracy\": 0.9989754098360656, \"source?\": true}, \"CORES_2\": {\"accuracy\": 0.9996468926553672, \"source?\": true}, \"ORACLE.run1_14\": {\"accuracy\": 0.18322916666666667, \"source?\": false}, \"ORACLE.run1_20\": {\"accuracy\": 0.09796875, \"source?\": false}, \"ORACLE.run1_38\": {\"accuracy\": 0.22171875, \"source?\": false}, \"ORACLE.run1_8\": {\"accuracy\": 0.14703125, \"source?\": false}, \"ORACLE.run1_50\": {\"accuracy\": 0.19932291666666666, \"source?\": false}, \"ORACLE.run1_32\": {\"accuracy\": 0.27807291666666667, \"source?\": false}, \"ORACLE.run1_26\": {\"accuracy\": 0.1309375, \"source?\": false}, \"ORACLE.run1_44\": {\"accuracy\": 0.2203125, \"source?\": false}}}, \"history\": {\"epoch_indices\": [1, 2, 3, 4, 5, 6, 7, 8, 9], \"train_label_loss\": [0.02565224348880996, 0.007236700330528824, 0.004858522295074901, 0.0034224971418825474, 0.0030399865229465916, 0.0028112224654399877, 0.0027608301067110494, 0.002285951076800246, 0.0019033543907429524], \"source_val_label_loss\": [0.009831502102315426, 0.008433091454207897, 0.009725785814225674, 0.010364096611738205, 0.010474846698343754, 0.0063441041857004166, 0.009391079656779766, 0.009129653684794903, 0.015526586212217808], \"target_val_label_loss\": [2.6630783081054688, 3.108397960662842, 3.1448700428009033, 3.5142815113067627, 3.838322401046753, 3.9003403186798096, 4.151394367218018, 4.498476028442383, 5.04540491104126], \"source_val_acc_label\": [0.9980379566210046, 0.9988227739726028, 0.9989654680365296, 0.9992151826484018, 0.9992865296803652, 0.9991081621004566, 0.9994292237442922, 0.999607591324201, 0.998787100456621], \"target_val_acc_label\": [0.15787760416666666, 0.15767578125, 0.16366536458333333, 0.17801432291666666, 0.18482421875, 0.15849609375, 0.17150390625, 0.17638020833333334, 0.16755859375]}, \"dataset_metrics\": {\"source\": {\"train\": {\"n_unique_x\": 175135, \"n_unique_y\": 58, \"n_batch/episode\": 6284}, \"val\": {\"n_unique_x\": 37196, \"n_unique_y\": 58, \"n_batch/episode\": 876}, \"test\": {\"n_unique_x\": 37634, \"n_unique_y\": 58, \"n_batch/episode\": 891}}, \"target\": {\"train\": {\"n_unique_x\": 896000, \"n_unique_y\": 16, \"n_batch/episode\": 33600}, \"val\": {\"n_unique_x\": 192000, \"n_unique_y\": 16, \"n_batch/episode\": 4800}, \"test\": {\"n_unique_x\": 192000, \"n_unique_y\": 16, \"n_batch/episode\": 4800}}}}'"
      ]
     },
     "execution_count": 29,
     "metadata": {},
     "output_type": "execute_result"
    }
   ],
   "source": [
    "json.dumps(experiment)"
   ]
  }
 ],
 "metadata": {
  "celltoolbar": "Tags",
  "kernelspec": {
   "display_name": "Python 3 (ipykernel)",
   "language": "python",
   "name": "python3"
  },
  "language_info": {
   "codemirror_mode": {
    "name": "ipython",
    "version": 3
   },
   "file_extension": ".py",
   "mimetype": "text/x-python",
   "name": "python",
   "nbconvert_exporter": "python",
   "pygments_lexer": "ipython3",
   "version": "3.8.12"
  },
  "papermill": {
   "default_parameters": {},
   "duration": 3636.123169,
   "end_time": "2022-03-21T04:21:17.709752",
   "environment_variables": {},
   "exception": null,
   "input_path": "/root/csc500-main/csc500-notebooks/templates/tl_ptn_template.ipynb",
   "output_path": "trial.ipynb",
   "parameters": {
    "parameters": {
     "BEST_MODEL_PATH": "./best_model.pth",
     "NUM_LOGS_PER_EPOCH": 10,
     "criteria_for_best": "target_accuracy",
     "dataset_seed": 1337,
     "datasets": [
      {
       "domain_prefix": "CORES_",
       "domains": [
        1,
        2,
        3,
        4,
        5
       ],
       "episode_transforms": [],
       "labels": [
        "1-10.",
        "1-11.",
        "1-15.",
        "1-16.",
        "1-17.",
        "1-18.",
        "1-19.",
        "10-4.",
        "10-7.",
        "11-1.",
        "11-14.",
        "11-17.",
        "11-20.",
        "11-7.",
        "13-20.",
        "13-8.",
        "14-10.",
        "14-11.",
        "14-14.",
        "14-7.",
        "15-1.",
        "15-20.",
        "16-1.",
        "16-16.",
        "17-10.",
        "17-11.",
        "17-2.",
        "19-1.",
        "19-16.",
        "19-19.",
        "19-20.",
        "19-3.",
        "2-10.",
        "2-11.",
        "2-17.",
        "2-18.",
        "2-20.",
        "2-3.",
        "2-4.",
        "2-5.",
        "2-6.",
        "2-7.",
        "2-8.",
        "3-13.",
        "3-18.",
        "3-3.",
        "4-1.",
        "4-10.",
        "4-11.",
        "4-19.",
        "5-5.",
        "6-15.",
        "7-10.",
        "7-14.",
        "8-18.",
        "8-20.",
        "8-3.",
        "8-8."
       ],
       "num_examples_per_domain_per_label": -1,
       "pickle_path": "/root/csc500-main/datasets/cores.stratified_ds.2022A.pkl",
       "source_or_target_dataset": "source",
       "x_transforms": [
        "unit_mag"
       ]
      },
      {
       "domain_prefix": "ORACLE.run1_",
       "domains": [
        32,
        38,
        8,
        44,
        14,
        50,
        20,
        26
       ],
       "episode_transforms": [],
       "labels": [
        "3123D52",
        "3123D65",
        "3123D79",
        "3123D80",
        "3123D54",
        "3123D70",
        "3123D7B",
        "3123D89",
        "3123D58",
        "3123D76",
        "3123D7D",
        "3123EFE",
        "3123D64",
        "3123D78",
        "3123D7E",
        "3124E4A"
       ],
       "num_examples_per_domain_per_label": 10000,
       "pickle_path": "/root/csc500-main/datasets/oracle.Run1_10kExamples_stratified_ds.2022A.pkl",
       "source_or_target_dataset": "target",
       "x_transforms": [
        "unit_mag"
       ]
      }
     ],
     "device": "cuda",
     "experiment_name": "tl_1v2:cores-oracle.run1",
     "lr": 0.0001,
     "n_epoch": 50,
     "n_query": 2,
     "n_shot": 3,
     "n_way": 16,
     "patience": 3,
     "seed": 1337,
     "test_k_factor": 2,
     "torch_default_dtype": "torch.float32",
     "train_k_factor": 3,
     "val_k_factor": 2,
     "x_net": [
      {
       "class": "nnReshape",
       "kargs": {
        "shape": [
         -1,
         1,
         2,
         256
        ]
       }
      },
      {
       "class": "Conv2d",
       "kargs": {
        "bias": false,
        "in_channels": 1,
        "kernel_size": [
         1,
         7
        ],
        "out_channels": 256,
        "padding": [
         0,
         3
        ]
       }
      },
      {
       "class": "ReLU",
       "kargs": {
        "inplace": true
       }
      },
      {
       "class": "BatchNorm2d",
       "kargs": {
        "num_features": 256
       }
      },
      {
       "class": "Conv2d",
       "kargs": {
        "bias": true,
        "in_channels": 256,
        "kernel_size": [
         2,
         7
        ],
        "out_channels": 80,
        "padding": [
         0,
         3
        ]
       }
      },
      {
       "class": "ReLU",
       "kargs": {
        "inplace": true
       }
      },
      {
       "class": "BatchNorm2d",
       "kargs": {
        "num_features": 80
       }
      },
      {
       "class": "Flatten",
       "kargs": {}
      },
      {
       "class": "Linear",
       "kargs": {
        "in_features": 20480,
        "out_features": 256
       }
      },
      {
       "class": "ReLU",
       "kargs": {
        "inplace": true
       }
      },
      {
       "class": "BatchNorm1d",
       "kargs": {
        "num_features": 256
       }
      },
      {
       "class": "Linear",
       "kargs": {
        "in_features": 256,
        "out_features": 256
       }
      }
     ]
    }
   },
   "start_time": "2022-03-21T03:20:41.586583",
   "version": "2.3.4"
  }
 },
 "nbformat": 4,
 "nbformat_minor": 5
}