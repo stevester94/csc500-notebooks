{
 "cells": [
  {
   "cell_type": "markdown",
   "id": "9fea5f46",
   "metadata": {
    "papermill": {
     "duration": 0.028499,
     "end_time": "2022-03-21T22:15:35.743184",
     "exception": false,
     "start_time": "2022-03-21T22:15:35.714685",
     "status": "completed"
    },
    "tags": []
   },
   "source": [
    "# Transfer Learning Template"
   ]
  },
  {
   "cell_type": "code",
   "execution_count": 1,
   "id": "0902182a",
   "metadata": {
    "execution": {
     "iopub.execute_input": "2022-03-21T22:15:35.806446Z",
     "iopub.status.busy": "2022-03-21T22:15:35.805589Z",
     "iopub.status.idle": "2022-03-21T22:15:37.709386Z",
     "shell.execute_reply": "2022-03-21T22:15:37.708938Z"
    },
    "papermill": {
     "duration": 1.94387,
     "end_time": "2022-03-21T22:15:37.709496",
     "exception": false,
     "start_time": "2022-03-21T22:15:35.765626",
     "status": "completed"
    },
    "tags": []
   },
   "outputs": [],
   "source": [
    "%load_ext autoreload\n",
    "%autoreload 2\n",
    "%matplotlib inline\n",
    "\n",
    "    \n",
    "import os, json, sys, time, random\n",
    "import numpy as np\n",
    "import torch\n",
    "from torch.optim import Adam\n",
    "from  easydict import EasyDict\n",
    "import matplotlib.pyplot as plt\n",
    "\n",
    "from steves_models.steves_ptn import Steves_Prototypical_Network\n",
    "\n",
    "from steves_utils.lazy_iterable_wrapper import Lazy_Iterable_Wrapper\n",
    "from steves_utils.iterable_aggregator import Iterable_Aggregator\n",
    "from steves_utils.ptn_train_eval_test_jig import  PTN_Train_Eval_Test_Jig\n",
    "from steves_utils.torch_sequential_builder import build_sequential\n",
    "from steves_utils.torch_utils import get_dataset_metrics, ptn_confusion_by_domain_over_dataloader\n",
    "from steves_utils.utils_v2 import (per_domain_accuracy_from_confusion, get_datasets_base_path)\n",
    "from steves_utils.PTN.utils import independent_accuracy_assesment\n",
    "\n",
    "from torch.utils.data import DataLoader\n",
    "\n",
    "from steves_utils.stratified_dataset.episodic_accessor import Episodic_Accessor_Factory\n",
    "\n",
    "from steves_utils.ptn_do_report import (\n",
    "    get_loss_curve,\n",
    "    get_results_table,\n",
    "    get_parameters_table,\n",
    "    get_domain_accuracies,\n",
    ")\n",
    "\n",
    "from steves_utils.transforms import get_chained_transform"
   ]
  },
  {
   "cell_type": "markdown",
   "id": "41c840b4",
   "metadata": {
    "papermill": {
     "duration": 0.018855,
     "end_time": "2022-03-21T22:15:37.752779",
     "exception": false,
     "start_time": "2022-03-21T22:15:37.733924",
     "status": "completed"
    },
    "tags": []
   },
   "source": [
    "# Allowed Parameters\n",
    "These are allowed parameters, not defaults\n",
    "Each of these values need to be present in the injected parameters (the notebook will raise an exception if they are not present)\n",
    "\n",
    "Papermill uses the cell tag \"parameters\" to inject the real parameters below this cell.\n",
    "Enable tags to see what I mean"
   ]
  },
  {
   "cell_type": "code",
   "execution_count": 2,
   "id": "fd44eb83",
   "metadata": {
    "execution": {
     "iopub.execute_input": "2022-03-21T22:15:37.795478Z",
     "iopub.status.busy": "2022-03-21T22:15:37.795099Z",
     "iopub.status.idle": "2022-03-21T22:15:37.818404Z",
     "shell.execute_reply": "2022-03-21T22:15:37.817596Z"
    },
    "papermill": {
     "duration": 0.047034,
     "end_time": "2022-03-21T22:15:37.818556",
     "exception": false,
     "start_time": "2022-03-21T22:15:37.771522",
     "status": "completed"
    },
    "tags": []
   },
   "outputs": [],
   "source": [
    "required_parameters = {\n",
    "    \"experiment_name\",\n",
    "    \"lr\",\n",
    "    \"device\",\n",
    "    \"seed\",\n",
    "    \"dataset_seed\",\n",
    "    \"n_shot\",\n",
    "    \"n_query\",\n",
    "    \"n_way\",\n",
    "    \"train_k_factor\",\n",
    "    \"val_k_factor\",\n",
    "    \"test_k_factor\",\n",
    "    \"n_epoch\",\n",
    "    \"patience\",\n",
    "    \"criteria_for_best\",\n",
    "    \"x_net\",\n",
    "    \"datasets\",\n",
    "    \"torch_default_dtype\",\n",
    "    \"NUM_LOGS_PER_EPOCH\",\n",
    "    \"BEST_MODEL_PATH\",\n",
    "    \"x_shape\",\n",
    "}"
   ]
  },
  {
   "cell_type": "code",
   "execution_count": 3,
   "id": "fa3f0049",
   "metadata": {
    "execution": {
     "iopub.execute_input": "2022-03-21T22:15:37.874656Z",
     "iopub.status.busy": "2022-03-21T22:15:37.868797Z",
     "iopub.status.idle": "2022-03-21T22:15:37.896562Z",
     "shell.execute_reply": "2022-03-21T22:15:37.895758Z"
    },
    "papermill": {
     "duration": 0.054292,
     "end_time": "2022-03-21T22:15:37.896713",
     "exception": false,
     "start_time": "2022-03-21T22:15:37.842421",
     "status": "completed"
    },
    "tags": [
     "parameters"
    ]
   },
   "outputs": [],
   "source": [
    "from steves_utils.CORES.utils import (\n",
    "    ALL_NODES,\n",
    "    ALL_NODES_MINIMUM_1000_EXAMPLES,\n",
    "    ALL_DAYS\n",
    ")\n",
    "\n",
    "from steves_utils.ORACLE.utils_v2 import (\n",
    "    ALL_DISTANCES_FEET_NARROWED,\n",
    "    ALL_RUNS,\n",
    "    ALL_SERIAL_NUMBERS,\n",
    ")\n",
    "\n",
    "standalone_parameters = {}\n",
    "standalone_parameters[\"experiment_name\"] = \"STANDALONE PTN\"\n",
    "standalone_parameters[\"lr\"] = 0.001\n",
    "standalone_parameters[\"device\"] = \"cuda\"\n",
    "\n",
    "standalone_parameters[\"seed\"] = 1337\n",
    "standalone_parameters[\"dataset_seed\"] = 1337\n",
    "\n",
    "standalone_parameters[\"n_way\"] = 8\n",
    "standalone_parameters[\"n_shot\"] = 3\n",
    "standalone_parameters[\"n_query\"]  = 2\n",
    "standalone_parameters[\"train_k_factor\"] = 1\n",
    "standalone_parameters[\"val_k_factor\"] = 2\n",
    "standalone_parameters[\"test_k_factor\"] = 2\n",
    "\n",
    "\n",
    "standalone_parameters[\"n_epoch\"] = 50\n",
    "\n",
    "standalone_parameters[\"patience\"] = 10\n",
    "standalone_parameters[\"criteria_for_best\"] = \"source_loss\"\n",
    "\n",
    "standalone_parameters[\"datasets\"] = [\n",
    "    {\n",
    "        \"labels\": ALL_SERIAL_NUMBERS,\n",
    "        \"domains\": ALL_DISTANCES_FEET_NARROWED,\n",
    "        \"num_examples_per_domain_per_label\": 100,\n",
    "        \"pickle_path\": os.path.join(get_datasets_base_path(), \"oracle.Run1_framed_2000Examples_stratified_ds.2022A.pkl\"),\n",
    "        \"source_or_target_dataset\": \"source\",\n",
    "        \"x_transforms\": [\"unit_mag\", \"minus_two\"],\n",
    "        \"episode_transforms\": [],\n",
    "        \"domain_prefix\": \"ORACLE_\"\n",
    "    },\n",
    "    {\n",
    "        \"labels\": ALL_NODES,\n",
    "        \"domains\": ALL_DAYS,\n",
    "        \"num_examples_per_domain_per_label\": 100,\n",
    "        \"pickle_path\": os.path.join(get_datasets_base_path(), \"cores.stratified_ds.2022A.pkl\"),\n",
    "        \"source_or_target_dataset\": \"target\",\n",
    "        \"x_transforms\": [\"unit_power\", \"times_zero\"],\n",
    "        \"episode_transforms\": [],\n",
    "        \"domain_prefix\": \"CORES_\"\n",
    "    }   \n",
    "]\n",
    "\n",
    "standalone_parameters[\"torch_default_dtype\"] = \"torch.float32\" \n",
    "\n",
    "\n",
    "\n",
    "standalone_parameters[\"x_net\"] =     [\n",
    "    {\"class\": \"nnReshape\", \"kargs\": {\"shape\":[-1, 1, 2, 256]}},\n",
    "    {\"class\": \"Conv2d\", \"kargs\": { \"in_channels\":1, \"out_channels\":256, \"kernel_size\":(1,7), \"bias\":False, \"padding\":(0,3), },},\n",
    "    {\"class\": \"ReLU\", \"kargs\": {\"inplace\": True}},\n",
    "    {\"class\": \"BatchNorm2d\", \"kargs\": {\"num_features\":256}},\n",
    "\n",
    "    {\"class\": \"Conv2d\", \"kargs\": { \"in_channels\":256, \"out_channels\":80, \"kernel_size\":(2,7), \"bias\":True, \"padding\":(0,3), },},\n",
    "    {\"class\": \"ReLU\", \"kargs\": {\"inplace\": True}},\n",
    "    {\"class\": \"BatchNorm2d\", \"kargs\": {\"num_features\":80}},\n",
    "    {\"class\": \"Flatten\", \"kargs\": {}},\n",
    "\n",
    "    {\"class\": \"Linear\", \"kargs\": {\"in_features\": 80*256, \"out_features\": 256}}, # 80 units per IQ pair\n",
    "    {\"class\": \"ReLU\", \"kargs\": {\"inplace\": True}},\n",
    "    {\"class\": \"BatchNorm1d\", \"kargs\": {\"num_features\":256}},\n",
    "\n",
    "    {\"class\": \"Linear\", \"kargs\": {\"in_features\": 256, \"out_features\": 256}},\n",
    "]\n",
    "\n",
    "# Parameters relevant to results\n",
    "# These parameters will basically never need to change\n",
    "standalone_parameters[\"NUM_LOGS_PER_EPOCH\"] = 10\n",
    "standalone_parameters[\"BEST_MODEL_PATH\"] = \"./best_model.pth\"\n",
    "\n",
    "\n",
    "\n",
    "\n"
   ]
  },
  {
   "cell_type": "code",
   "execution_count": 4,
   "id": "e411f329",
   "metadata": {
    "execution": {
     "iopub.execute_input": "2022-03-21T22:15:37.955374Z",
     "iopub.status.busy": "2022-03-21T22:15:37.947144Z",
     "iopub.status.idle": "2022-03-21T22:15:37.976070Z",
     "shell.execute_reply": "2022-03-21T22:15:37.975255Z"
    },
    "papermill": {
     "duration": 0.056158,
     "end_time": "2022-03-21T22:15:37.976220",
     "exception": false,
     "start_time": "2022-03-21T22:15:37.920062",
     "status": "completed"
    },
    "tags": [
     "injected-parameters"
    ]
   },
   "outputs": [],
   "source": [
    "# Parameters\n",
    "parameters = {\n",
    "    \"experiment_name\": \"tl_1v2:cores-oracle.run1\",\n",
    "    \"device\": \"cuda\",\n",
    "    \"lr\": 0.0001,\n",
    "    \"n_shot\": 3,\n",
    "    \"n_query\": 2,\n",
    "    \"train_k_factor\": 3,\n",
    "    \"val_k_factor\": 2,\n",
    "    \"test_k_factor\": 2,\n",
    "    \"torch_default_dtype\": \"torch.float32\",\n",
    "    \"n_epoch\": 50,\n",
    "    \"patience\": 3,\n",
    "    \"criteria_for_best\": \"target_accuracy\",\n",
    "    \"x_net\": [\n",
    "        {\"class\": \"nnReshape\", \"kargs\": {\"shape\": [-1, 1, 2, 256]}},\n",
    "        {\n",
    "            \"class\": \"Conv2d\",\n",
    "            \"kargs\": {\n",
    "                \"in_channels\": 1,\n",
    "                \"out_channels\": 256,\n",
    "                \"kernel_size\": [1, 7],\n",
    "                \"bias\": False,\n",
    "                \"padding\": [0, 3],\n",
    "            },\n",
    "        },\n",
    "        {\"class\": \"ReLU\", \"kargs\": {\"inplace\": True}},\n",
    "        {\"class\": \"BatchNorm2d\", \"kargs\": {\"num_features\": 256}},\n",
    "        {\n",
    "            \"class\": \"Conv2d\",\n",
    "            \"kargs\": {\n",
    "                \"in_channels\": 256,\n",
    "                \"out_channels\": 80,\n",
    "                \"kernel_size\": [2, 7],\n",
    "                \"bias\": True,\n",
    "                \"padding\": [0, 3],\n",
    "            },\n",
    "        },\n",
    "        {\"class\": \"ReLU\", \"kargs\": {\"inplace\": True}},\n",
    "        {\"class\": \"BatchNorm2d\", \"kargs\": {\"num_features\": 80}},\n",
    "        {\"class\": \"Flatten\", \"kargs\": {}},\n",
    "        {\"class\": \"Linear\", \"kargs\": {\"in_features\": 20480, \"out_features\": 256}},\n",
    "        {\"class\": \"ReLU\", \"kargs\": {\"inplace\": True}},\n",
    "        {\"class\": \"BatchNorm1d\", \"kargs\": {\"num_features\": 256}},\n",
    "        {\"class\": \"Linear\", \"kargs\": {\"in_features\": 256, \"out_features\": 256}},\n",
    "    ],\n",
    "    \"NUM_LOGS_PER_EPOCH\": 10,\n",
    "    \"BEST_MODEL_PATH\": \"./best_model.pth\",\n",
    "    \"n_way\": 16,\n",
    "    \"datasets\": [\n",
    "        {\n",
    "            \"labels\": [\n",
    "                \"1-10.\",\n",
    "                \"1-11.\",\n",
    "                \"1-15.\",\n",
    "                \"1-16.\",\n",
    "                \"1-17.\",\n",
    "                \"1-18.\",\n",
    "                \"1-19.\",\n",
    "                \"10-4.\",\n",
    "                \"10-7.\",\n",
    "                \"11-1.\",\n",
    "                \"11-14.\",\n",
    "                \"11-17.\",\n",
    "                \"11-20.\",\n",
    "                \"11-7.\",\n",
    "                \"13-20.\",\n",
    "                \"13-8.\",\n",
    "                \"14-10.\",\n",
    "                \"14-11.\",\n",
    "                \"14-14.\",\n",
    "                \"14-7.\",\n",
    "                \"15-1.\",\n",
    "                \"15-20.\",\n",
    "                \"16-1.\",\n",
    "                \"16-16.\",\n",
    "                \"17-10.\",\n",
    "                \"17-11.\",\n",
    "                \"17-2.\",\n",
    "                \"19-1.\",\n",
    "                \"19-16.\",\n",
    "                \"19-19.\",\n",
    "                \"19-20.\",\n",
    "                \"19-3.\",\n",
    "                \"2-10.\",\n",
    "                \"2-11.\",\n",
    "                \"2-17.\",\n",
    "                \"2-18.\",\n",
    "                \"2-20.\",\n",
    "                \"2-3.\",\n",
    "                \"2-4.\",\n",
    "                \"2-5.\",\n",
    "                \"2-6.\",\n",
    "                \"2-7.\",\n",
    "                \"2-8.\",\n",
    "                \"3-13.\",\n",
    "                \"3-18.\",\n",
    "                \"3-3.\",\n",
    "                \"4-1.\",\n",
    "                \"4-10.\",\n",
    "                \"4-11.\",\n",
    "                \"4-19.\",\n",
    "                \"5-5.\",\n",
    "                \"6-15.\",\n",
    "                \"7-10.\",\n",
    "                \"7-14.\",\n",
    "                \"8-18.\",\n",
    "                \"8-20.\",\n",
    "                \"8-3.\",\n",
    "                \"8-8.\",\n",
    "            ],\n",
    "            \"domains\": [1, 2, 3, 4, 5],\n",
    "            \"num_examples_per_domain_per_label\": -1,\n",
    "            \"pickle_path\": \"/root/csc500-main/datasets/cores.stratified_ds.2022A.pkl\",\n",
    "            \"source_or_target_dataset\": \"source\",\n",
    "            \"x_transforms\": [\"unit_power\"],\n",
    "            \"episode_transforms\": [],\n",
    "            \"domain_prefix\": \"CORES_\",\n",
    "        },\n",
    "        {\n",
    "            \"labels\": [\n",
    "                \"3123D52\",\n",
    "                \"3123D65\",\n",
    "                \"3123D79\",\n",
    "                \"3123D80\",\n",
    "                \"3123D54\",\n",
    "                \"3123D70\",\n",
    "                \"3123D7B\",\n",
    "                \"3123D89\",\n",
    "                \"3123D58\",\n",
    "                \"3123D76\",\n",
    "                \"3123D7D\",\n",
    "                \"3123EFE\",\n",
    "                \"3123D64\",\n",
    "                \"3123D78\",\n",
    "                \"3123D7E\",\n",
    "                \"3124E4A\",\n",
    "            ],\n",
    "            \"domains\": [32, 38, 8, 44, 14, 50, 20, 26],\n",
    "            \"num_examples_per_domain_per_label\": 10000,\n",
    "            \"pickle_path\": \"/root/csc500-main/datasets/oracle.Run1_10kExamples_stratified_ds.2022A.pkl\",\n",
    "            \"source_or_target_dataset\": \"target\",\n",
    "            \"x_transforms\": [\"unit_power\"],\n",
    "            \"episode_transforms\": [],\n",
    "            \"domain_prefix\": \"ORACLE.run1_\",\n",
    "        },\n",
    "    ],\n",
    "    \"dataset_seed\": 420,\n",
    "    \"seed\": 420,\n",
    "}\n"
   ]
  },
  {
   "cell_type": "code",
   "execution_count": 5,
   "id": "8fa1cc33",
   "metadata": {
    "execution": {
     "iopub.execute_input": "2022-03-21T22:15:38.023890Z",
     "iopub.status.busy": "2022-03-21T22:15:38.023494Z",
     "iopub.status.idle": "2022-03-21T22:15:38.043344Z",
     "shell.execute_reply": "2022-03-21T22:15:38.042544Z"
    },
    "papermill": {
     "duration": 0.043114,
     "end_time": "2022-03-21T22:15:38.043494",
     "exception": false,
     "start_time": "2022-03-21T22:15:38.000380",
     "status": "completed"
    },
    "tags": []
   },
   "outputs": [],
   "source": [
    "# Set this to True if you want to run this template directly\n",
    "STANDALONE = False\n",
    "if STANDALONE:\n",
    "    print(\"parameters not injected, running with standalone_parameters\")\n",
    "    parameters = standalone_parameters\n",
    "\n",
    "if not 'parameters' in locals() and not 'parameters' in globals():\n",
    "    raise Exception(\"Parameter injection failed\")\n",
    "\n",
    "#Use an easy dict for all the parameters\n",
    "p = EasyDict(parameters)\n",
    "\n",
    "if \"x_shape\" not in p:\n",
    "    p.x_shape = [2,256] # Default to this if we dont supply x_shape\n",
    "\n",
    "\n",
    "supplied_keys = set(p.keys())\n",
    "\n",
    "if  supplied_keys != required_parameters:\n",
    "    print(\"Parameters are incorrect\")\n",
    "    if len(supplied_keys - required_parameters)>0: print(\"Shouldn't have:\", str(supplied_keys - required_parameters))\n",
    "    if len(required_parameters - supplied_keys)>0: print(\"Need to have:\", str(required_parameters - supplied_keys))\n",
    "    raise RuntimeError(\"Parameters are incorrect\")"
   ]
  },
  {
   "cell_type": "code",
   "execution_count": 6,
   "id": "3a028d58",
   "metadata": {
    "execution": {
     "iopub.execute_input": "2022-03-21T22:15:38.094060Z",
     "iopub.status.busy": "2022-03-21T22:15:38.093698Z",
     "iopub.status.idle": "2022-03-21T22:15:38.116787Z",
     "shell.execute_reply": "2022-03-21T22:15:38.115994Z"
    },
    "papermill": {
     "duration": 0.046884,
     "end_time": "2022-03-21T22:15:38.116937",
     "exception": false,
     "start_time": "2022-03-21T22:15:38.070053",
     "status": "completed"
    },
    "tags": []
   },
   "outputs": [],
   "source": [
    "###################################\n",
    "# Set the RNGs and make it all deterministic\n",
    "###################################\n",
    "np.random.seed(p.seed)\n",
    "random.seed(p.seed)\n",
    "torch.manual_seed(p.seed)\n",
    "\n",
    "torch.use_deterministic_algorithms(True) "
   ]
  },
  {
   "cell_type": "code",
   "execution_count": 7,
   "id": "b691acf6",
   "metadata": {
    "execution": {
     "iopub.execute_input": "2022-03-21T22:15:38.163660Z",
     "iopub.status.busy": "2022-03-21T22:15:38.163122Z",
     "iopub.status.idle": "2022-03-21T22:15:38.186940Z",
     "shell.execute_reply": "2022-03-21T22:15:38.186141Z"
    },
    "papermill": {
     "duration": 0.046344,
     "end_time": "2022-03-21T22:15:38.187089",
     "exception": false,
     "start_time": "2022-03-21T22:15:38.140745",
     "status": "completed"
    },
    "tags": []
   },
   "outputs": [],
   "source": [
    "###########################################\n",
    "# The stratified datasets honor this\n",
    "###########################################\n",
    "torch.set_default_dtype(eval(p.torch_default_dtype))"
   ]
  },
  {
   "cell_type": "code",
   "execution_count": 8,
   "id": "b5fba671",
   "metadata": {
    "execution": {
     "iopub.execute_input": "2022-03-21T22:15:38.236367Z",
     "iopub.status.busy": "2022-03-21T22:15:38.236006Z",
     "iopub.status.idle": "2022-03-21T22:15:38.287926Z",
     "shell.execute_reply": "2022-03-21T22:15:38.287204Z"
    },
    "papermill": {
     "duration": 0.074033,
     "end_time": "2022-03-21T22:15:38.288076",
     "exception": false,
     "start_time": "2022-03-21T22:15:38.214043",
     "status": "completed"
    },
    "tags": []
   },
   "outputs": [],
   "source": [
    "###################################\n",
    "# Build the network(s)\n",
    "# Note: It's critical to do this AFTER setting the RNG\n",
    "###################################\n",
    "x_net = build_sequential(p.x_net)"
   ]
  },
  {
   "cell_type": "code",
   "execution_count": 9,
   "id": "5d7e61cc",
   "metadata": {
    "execution": {
     "iopub.execute_input": "2022-03-21T22:15:38.335763Z",
     "iopub.status.busy": "2022-03-21T22:15:38.335106Z",
     "iopub.status.idle": "2022-03-21T22:15:38.361004Z",
     "shell.execute_reply": "2022-03-21T22:15:38.360221Z"
    },
    "papermill": {
     "duration": 0.04862,
     "end_time": "2022-03-21T22:15:38.361151",
     "exception": false,
     "start_time": "2022-03-21T22:15:38.312531",
     "status": "completed"
    },
    "tags": []
   },
   "outputs": [],
   "source": [
    "start_time_secs = time.time()"
   ]
  },
  {
   "cell_type": "code",
   "execution_count": 10,
   "id": "c6b67dfd",
   "metadata": {
    "execution": {
     "iopub.execute_input": "2022-03-21T22:15:38.409147Z",
     "iopub.status.busy": "2022-03-21T22:15:38.408445Z",
     "iopub.status.idle": "2022-03-21T22:15:38.431485Z",
     "shell.execute_reply": "2022-03-21T22:15:38.430782Z"
    },
    "papermill": {
     "duration": 0.046635,
     "end_time": "2022-03-21T22:15:38.431652",
     "exception": false,
     "start_time": "2022-03-21T22:15:38.385017",
     "status": "completed"
    },
    "tags": []
   },
   "outputs": [],
   "source": [
    "p.domains_source = []\n",
    "p.domains_target = []\n",
    "\n",
    "\n",
    "train_original_source = []\n",
    "val_original_source   = []\n",
    "test_original_source  = []\n",
    "\n",
    "train_original_target = []\n",
    "val_original_target   = []\n",
    "test_original_target  = []"
   ]
  },
  {
   "cell_type": "code",
   "execution_count": 11,
   "id": "e3d9c3d3",
   "metadata": {
    "execution": {
     "iopub.execute_input": "2022-03-21T22:15:38.484445Z",
     "iopub.status.busy": "2022-03-21T22:15:38.483373Z",
     "iopub.status.idle": "2022-03-21T22:15:38.506885Z",
     "shell.execute_reply": "2022-03-21T22:15:38.506086Z"
    },
    "papermill": {
     "duration": 0.046136,
     "end_time": "2022-03-21T22:15:38.507034",
     "exception": false,
     "start_time": "2022-03-21T22:15:38.460898",
     "status": "completed"
    },
    "tags": []
   },
   "outputs": [],
   "source": [
    "# global_x_transform_func = lambda x: normalize(x.to(torch.get_default_dtype()), \"unit_power\") # unit_power, unit_mag\n",
    "# global_x_transform_func = lambda x: normalize(x, \"unit_power\") # unit_power, unit_mag"
   ]
  },
  {
   "cell_type": "code",
   "execution_count": 12,
   "id": "acb78fd2",
   "metadata": {
    "execution": {
     "iopub.execute_input": "2022-03-21T22:15:38.561477Z",
     "iopub.status.busy": "2022-03-21T22:15:38.561098Z",
     "iopub.status.idle": "2022-03-21T22:15:38.580968Z",
     "shell.execute_reply": "2022-03-21T22:15:38.580163Z"
    },
    "papermill": {
     "duration": 0.046654,
     "end_time": "2022-03-21T22:15:38.581117",
     "exception": false,
     "start_time": "2022-03-21T22:15:38.534463",
     "status": "completed"
    },
    "tags": []
   },
   "outputs": [],
   "source": [
    "def add_dataset(\n",
    "    labels,\n",
    "    domains,\n",
    "    pickle_path,\n",
    "    x_transforms,\n",
    "    episode_transforms,\n",
    "    domain_prefix,\n",
    "    num_examples_per_domain_per_label,\n",
    "    source_or_target_dataset:str,\n",
    "    iterator_seed=p.seed,\n",
    "    dataset_seed=p.dataset_seed,\n",
    "    n_shot=p.n_shot,\n",
    "    n_way=p.n_way,\n",
    "    n_query=p.n_query,\n",
    "    train_val_test_k_factors=(p.train_k_factor,p.val_k_factor,p.test_k_factor),\n",
    "):\n",
    "   \n",
    "    if x_transforms == []: x_transform = None\n",
    "    else: x_transform = get_chained_transform(x_transforms)\n",
    "    \n",
    "    if episode_transforms == []: episode_transform = None\n",
    "    else: raise Exception(\"episode_transforms not implemented\")\n",
    "    \n",
    "    episode_transform = lambda tup, _prefix=domain_prefix: (_prefix + str(tup[0]), tup[1])\n",
    "\n",
    "\n",
    "    eaf = Episodic_Accessor_Factory(\n",
    "        labels=labels,\n",
    "        domains=domains,\n",
    "        num_examples_per_domain_per_label=num_examples_per_domain_per_label,\n",
    "        iterator_seed=iterator_seed,\n",
    "        dataset_seed=dataset_seed,\n",
    "        n_shot=n_shot,\n",
    "        n_way=n_way,\n",
    "        n_query=n_query,\n",
    "        train_val_test_k_factors=train_val_test_k_factors,\n",
    "        pickle_path=pickle_path,\n",
    "        x_transform_func=x_transform,\n",
    "    )\n",
    "\n",
    "    train, val, test = eaf.get_train(), eaf.get_val(), eaf.get_test()\n",
    "    train = Lazy_Iterable_Wrapper(train, episode_transform)\n",
    "    val = Lazy_Iterable_Wrapper(val, episode_transform)\n",
    "    test = Lazy_Iterable_Wrapper(test, episode_transform)\n",
    "\n",
    "    if source_or_target_dataset==\"source\":\n",
    "        train_original_source.append(train)\n",
    "        val_original_source.append(val)\n",
    "        test_original_source.append(test)\n",
    "\n",
    "        p.domains_source.extend(\n",
    "            [domain_prefix + str(u) for u in domains]\n",
    "        )\n",
    "    elif source_or_target_dataset==\"target\":\n",
    "        train_original_target.append(train)\n",
    "        val_original_target.append(val)\n",
    "        test_original_target.append(test)\n",
    "        p.domains_target.extend(\n",
    "            [domain_prefix + str(u) for u in domains]\n",
    "        )\n",
    "    else:\n",
    "        raise Exception(f\"invalid source_or_target_dataset: {source_or_target_dataset}\")\n",
    "    "
   ]
  },
  {
   "cell_type": "code",
   "execution_count": 13,
   "id": "fe266617",
   "metadata": {
    "execution": {
     "iopub.execute_input": "2022-03-21T22:15:38.632601Z",
     "iopub.status.busy": "2022-03-21T22:15:38.632240Z",
     "iopub.status.idle": "2022-03-21T22:17:51.758317Z",
     "shell.execute_reply": "2022-03-21T22:17:51.757468Z"
    },
    "papermill": {
     "duration": 133.148665,
     "end_time": "2022-03-21T22:17:51.758511",
     "exception": false,
     "start_time": "2022-03-21T22:15:38.609846",
     "status": "completed"
    },
    "tags": []
   },
   "outputs": [],
   "source": [
    "for ds in p.datasets:\n",
    "    add_dataset(**ds)"
   ]
  },
  {
   "cell_type": "code",
   "execution_count": 14,
   "id": "b90d65ac",
   "metadata": {
    "execution": {
     "iopub.execute_input": "2022-03-21T22:17:51.812221Z",
     "iopub.status.busy": "2022-03-21T22:17:51.811841Z",
     "iopub.status.idle": "2022-03-21T22:17:51.836853Z",
     "shell.execute_reply": "2022-03-21T22:17:51.836034Z"
    },
    "papermill": {
     "duration": 0.049406,
     "end_time": "2022-03-21T22:17:51.837005",
     "exception": false,
     "start_time": "2022-03-21T22:17:51.787599",
     "status": "completed"
    },
    "tags": []
   },
   "outputs": [],
   "source": [
    "# from steves_utils.CORES.utils import (\n",
    "#     ALL_NODES,\n",
    "#     ALL_NODES_MINIMUM_1000_EXAMPLES,\n",
    "#     ALL_DAYS\n",
    "# )\n",
    "\n",
    "# add_dataset(\n",
    "#     labels=ALL_NODES,\n",
    "#     domains = ALL_DAYS,\n",
    "#     num_examples_per_domain_per_label=100,\n",
    "#     pickle_path=os.path.join(get_datasets_base_path(), \"cores.stratified_ds.2022A.pkl\"),\n",
    "#     source_or_target_dataset=\"target\",\n",
    "#     x_transform_func=global_x_transform_func,\n",
    "#     domain_modifier=lambda u: f\"cores_{u}\"\n",
    "# )"
   ]
  },
  {
   "cell_type": "code",
   "execution_count": 15,
   "id": "76db484d",
   "metadata": {
    "execution": {
     "iopub.execute_input": "2022-03-21T22:17:51.889313Z",
     "iopub.status.busy": "2022-03-21T22:17:51.888338Z",
     "iopub.status.idle": "2022-03-21T22:17:51.910133Z",
     "shell.execute_reply": "2022-03-21T22:17:51.909385Z"
    },
    "papermill": {
     "duration": 0.046415,
     "end_time": "2022-03-21T22:17:51.910286",
     "exception": false,
     "start_time": "2022-03-21T22:17:51.863871",
     "status": "completed"
    },
    "tags": []
   },
   "outputs": [],
   "source": [
    "# from steves_utils.ORACLE.utils_v2 import (\n",
    "#     ALL_DISTANCES_FEET,\n",
    "#     ALL_RUNS,\n",
    "#     ALL_SERIAL_NUMBERS,\n",
    "# )\n",
    "\n",
    "\n",
    "# add_dataset(\n",
    "#     labels=ALL_SERIAL_NUMBERS,\n",
    "#     domains = list(set(ALL_DISTANCES_FEET) - {2,62}),\n",
    "#     num_examples_per_domain_per_label=100,\n",
    "#     pickle_path=os.path.join(get_datasets_base_path(), \"oracle.Run2_framed_2000Examples_stratified_ds.2022A.pkl\"),\n",
    "#     source_or_target_dataset=\"source\",\n",
    "#     x_transform_func=global_x_transform_func,\n",
    "#     domain_modifier=lambda u: f\"oracle1_{u}\"\n",
    "# )\n"
   ]
  },
  {
   "cell_type": "code",
   "execution_count": 16,
   "id": "97dea9d2",
   "metadata": {
    "execution": {
     "iopub.execute_input": "2022-03-21T22:17:51.962880Z",
     "iopub.status.busy": "2022-03-21T22:17:51.962340Z",
     "iopub.status.idle": "2022-03-21T22:17:51.982275Z",
     "shell.execute_reply": "2022-03-21T22:17:51.981465Z"
    },
    "papermill": {
     "duration": 0.04615,
     "end_time": "2022-03-21T22:17:51.982427",
     "exception": false,
     "start_time": "2022-03-21T22:17:51.936277",
     "status": "completed"
    },
    "tags": []
   },
   "outputs": [],
   "source": [
    "# from steves_utils.ORACLE.utils_v2 import (\n",
    "#     ALL_DISTANCES_FEET,\n",
    "#     ALL_RUNS,\n",
    "#     ALL_SERIAL_NUMBERS,\n",
    "# )\n",
    "\n",
    "\n",
    "# add_dataset(\n",
    "#     labels=ALL_SERIAL_NUMBERS,\n",
    "#     domains = list(set(ALL_DISTANCES_FEET) - {2,62,56}),\n",
    "#     num_examples_per_domain_per_label=100,\n",
    "#     pickle_path=os.path.join(get_datasets_base_path(), \"oracle.Run2_framed_2000Examples_stratified_ds.2022A.pkl\"),\n",
    "#     source_or_target_dataset=\"source\",\n",
    "#     x_transform_func=global_x_transform_func,\n",
    "#     domain_modifier=lambda u: f\"oracle2_{u}\"\n",
    "# )"
   ]
  },
  {
   "cell_type": "code",
   "execution_count": 17,
   "id": "6f289866",
   "metadata": {
    "execution": {
     "iopub.execute_input": "2022-03-21T22:17:52.031937Z",
     "iopub.status.busy": "2022-03-21T22:17:52.031571Z",
     "iopub.status.idle": "2022-03-21T22:17:52.048554Z",
     "shell.execute_reply": "2022-03-21T22:17:52.047751Z"
    },
    "papermill": {
     "duration": 0.040289,
     "end_time": "2022-03-21T22:17:52.048705",
     "exception": false,
     "start_time": "2022-03-21T22:17:52.008416",
     "status": "completed"
    },
    "tags": []
   },
   "outputs": [],
   "source": [
    "# add_dataset(\n",
    "#     labels=list(range(19)),\n",
    "#     domains = [0,1,2],\n",
    "#     num_examples_per_domain_per_label=100,\n",
    "#     pickle_path=os.path.join(get_datasets_base_path(), \"metehan.stratified_ds.2022A.pkl\"),\n",
    "#     source_or_target_dataset=\"target\",\n",
    "#     x_transform_func=global_x_transform_func,\n",
    "#     domain_modifier=lambda u: f\"met_{u}\"\n",
    "# )"
   ]
  },
  {
   "cell_type": "code",
   "execution_count": 18,
   "id": "86a863c3",
   "metadata": {
    "execution": {
     "iopub.execute_input": "2022-03-21T22:17:52.106392Z",
     "iopub.status.busy": "2022-03-21T22:17:52.105834Z",
     "iopub.status.idle": "2022-03-21T22:17:52.119488Z",
     "shell.execute_reply": "2022-03-21T22:17:52.118687Z"
    },
    "papermill": {
     "duration": 0.043632,
     "end_time": "2022-03-21T22:17:52.119670",
     "exception": false,
     "start_time": "2022-03-21T22:17:52.076038",
     "status": "completed"
    },
    "tags": []
   },
   "outputs": [],
   "source": [
    "# # from steves_utils.wisig.utils import (\n",
    "# #     ALL_NODES_MINIMUM_100_EXAMPLES,\n",
    "# #     ALL_NODES_MINIMUM_500_EXAMPLES,\n",
    "# #     ALL_NODES_MINIMUM_1000_EXAMPLES,\n",
    "# #     ALL_DAYS\n",
    "# # )\n",
    "\n",
    "# import steves_utils.wisig.utils as wisig\n",
    "\n",
    "\n",
    "# add_dataset(\n",
    "#     labels=wisig.ALL_NODES_MINIMUM_100_EXAMPLES,\n",
    "#     domains = wisig.ALL_DAYS,\n",
    "#     num_examples_per_domain_per_label=100,\n",
    "#     pickle_path=os.path.join(get_datasets_base_path(), \"wisig.node3-19.stratified_ds.2022A.pkl\"),\n",
    "#     source_or_target_dataset=\"target\",\n",
    "#     x_transform_func=global_x_transform_func,\n",
    "#     domain_modifier=lambda u: f\"wisig_{u}\"\n",
    "# )"
   ]
  },
  {
   "cell_type": "code",
   "execution_count": 19,
   "id": "fd5442bc",
   "metadata": {
    "execution": {
     "iopub.execute_input": "2022-03-21T22:17:52.178433Z",
     "iopub.status.busy": "2022-03-21T22:17:52.177591Z",
     "iopub.status.idle": "2022-03-21T22:17:52.196760Z",
     "shell.execute_reply": "2022-03-21T22:17:52.195955Z"
    },
    "papermill": {
     "duration": 0.049487,
     "end_time": "2022-03-21T22:17:52.196911",
     "exception": false,
     "start_time": "2022-03-21T22:17:52.147424",
     "status": "completed"
    },
    "tags": []
   },
   "outputs": [],
   "source": [
    "###################################\n",
    "# Build the dataset\n",
    "###################################\n",
    "train_original_source = Iterable_Aggregator(train_original_source, p.seed)\n",
    "val_original_source = Iterable_Aggregator(val_original_source, p.seed)\n",
    "test_original_source = Iterable_Aggregator(test_original_source, p.seed)\n",
    "\n",
    "\n",
    "train_original_target = Iterable_Aggregator(train_original_target, p.seed)\n",
    "val_original_target = Iterable_Aggregator(val_original_target, p.seed)\n",
    "test_original_target = Iterable_Aggregator(test_original_target, p.seed)\n",
    "\n",
    "# For CNN We only use X and Y. And we only train on the source.\n",
    "# Properly form the data using a transform lambda and Lazy_Iterable_Wrapper. Finally wrap them in a dataloader\n",
    "\n",
    "transform_lambda = lambda ex: ex[1] # Original is (<domain>, <episode>) so we strip down to episode only\n",
    "\n",
    "train_processed_source = Lazy_Iterable_Wrapper(train_original_source, transform_lambda)\n",
    "val_processed_source   = Lazy_Iterable_Wrapper(val_original_source, transform_lambda)\n",
    "test_processed_source  = Lazy_Iterable_Wrapper(test_original_source, transform_lambda)\n",
    "\n",
    "train_processed_target = Lazy_Iterable_Wrapper(train_original_target, transform_lambda)\n",
    "val_processed_target   = Lazy_Iterable_Wrapper(val_original_target, transform_lambda)\n",
    "test_processed_target  = Lazy_Iterable_Wrapper(test_original_target, transform_lambda)\n",
    "\n",
    "datasets = EasyDict({\n",
    "    \"source\": {\n",
    "        \"original\": {\"train\":train_original_source, \"val\":val_original_source, \"test\":test_original_source},\n",
    "        \"processed\": {\"train\":train_processed_source, \"val\":val_processed_source, \"test\":test_processed_source}\n",
    "    },\n",
    "    \"target\": {\n",
    "        \"original\": {\"train\":train_original_target, \"val\":val_original_target, \"test\":test_original_target},\n",
    "        \"processed\": {\"train\":train_processed_target, \"val\":val_processed_target, \"test\":test_processed_target}\n",
    "    },\n",
    "})"
   ]
  },
  {
   "cell_type": "code",
   "execution_count": 20,
   "id": "5b3c01fc",
   "metadata": {
    "execution": {
     "iopub.execute_input": "2022-03-21T22:17:52.246639Z",
     "iopub.status.busy": "2022-03-21T22:17:52.246267Z",
     "iopub.status.idle": "2022-03-21T22:18:24.658842Z",
     "shell.execute_reply": "2022-03-21T22:18:24.657984Z"
    },
    "papermill": {
     "duration": 32.436839,
     "end_time": "2022-03-21T22:18:24.659015",
     "exception": false,
     "start_time": "2022-03-21T22:17:52.222176",
     "status": "completed"
    },
    "tags": []
   },
   "outputs": [
    {
     "name": "stdout",
     "output_type": "stream",
     "text": [
      "{'CORES_5', 'CORES_1', 'CORES_4', 'CORES_2', 'CORES_3'}\n"
     ]
    },
    {
     "name": "stdout",
     "output_type": "stream",
     "text": [
      "{'ORACLE.run1_14', 'ORACLE.run1_50', 'ORACLE.run1_44', 'ORACLE.run1_38', 'ORACLE.run1_32', 'ORACLE.run1_8', 'ORACLE.run1_26', 'ORACLE.run1_20'}\n"
     ]
    },
    {
     "name": "stdout",
     "output_type": "stream",
     "text": [
      "tensor([[[ 0.2082, -0.8446, -1.3343,  ...,  0.7883,  0.5522, -0.6271],\n",
      "         [ 0.4851,  0.5243, -0.0243,  ...,  0.7454,  0.5987,  0.2474]],\n",
      "\n",
      "        [[ 0.3609,  0.0853, -1.0298,  ...,  0.6114,  1.1085,  0.1838],\n",
      "         [ 0.1296,  0.5863,  0.7165,  ...,  0.3027,  0.4554,  0.3047]],\n",
      "\n",
      "        [[-0.4983, -0.1526,  0.6172,  ..., -0.9906, -0.9773,  0.0357],\n",
      "         [-0.0119, -0.7586, -1.1723,  ...,  0.1665,  0.1936, -0.4857]],\n",
      "\n",
      "        ...,\n",
      "\n",
      "        [[ 0.0802,  0.0972,  0.2467,  ...,  0.6003,  0.1337,  0.4047],\n",
      "         [-0.0085, -0.0207,  0.6246,  ...,  0.5541,  0.2674, -0.1398]],\n",
      "\n",
      "        [[-0.4455, -0.6875,  1.0210,  ..., -0.1156,  0.3203,  1.0065],\n",
      "         [ 0.1637, -0.8958, -0.7778,  ...,  0.3949, -0.0554, -0.6622]],\n",
      "\n",
      "        [[-0.7660,  0.1212,  1.3623,  ...,  0.0036,  0.7636,  0.8908],\n",
      "         [-0.2703, -1.1672,  0.2472,  ...,  0.3684, -0.5866, -0.0800]]])\n"
     ]
    }
   ],
   "source": [
    "from steves_utils.transforms import get_average_magnitude, get_average_power\n",
    "\n",
    "print(set([u for u,_ in val_original_source]))\n",
    "print(set([u for u,_ in val_original_target]))\n",
    "\n",
    "s_x, s_y, q_x, q_y, _ = next(iter(train_processed_source))\n",
    "print(s_x)\n",
    "\n",
    "# for ds in [\n",
    "#     train_processed_source,\n",
    "#     val_processed_source,\n",
    "#     test_processed_source,\n",
    "#     train_processed_target,\n",
    "#     val_processed_target,\n",
    "#     test_processed_target\n",
    "# ]:\n",
    "#     for s_x, s_y, q_x, q_y, _ in ds:\n",
    "#         for X in (s_x, q_x):\n",
    "#             for x in X:\n",
    "#                 assert np.isclose(get_average_magnitude(x.numpy()), 1.0)\n",
    "#                 assert np.isclose(get_average_power(x.numpy()), 1.0)\n",
    "                "
   ]
  },
  {
   "cell_type": "code",
   "execution_count": 21,
   "id": "bbdacba1",
   "metadata": {
    "execution": {
     "iopub.execute_input": "2022-03-21T22:18:24.716889Z",
     "iopub.status.busy": "2022-03-21T22:18:24.716417Z",
     "iopub.status.idle": "2022-03-21T22:18:24.826440Z",
     "shell.execute_reply": "2022-03-21T22:18:24.826751Z"
    },
    "papermill": {
     "duration": 0.137907,
     "end_time": "2022-03-21T22:18:24.826848",
     "exception": false,
     "start_time": "2022-03-21T22:18:24.688941",
     "status": "completed"
    },
    "tags": []
   },
   "outputs": [
    {
     "name": "stdout",
     "output_type": "stream",
     "text": [
      "(2, 256)\n"
     ]
    }
   ],
   "source": [
    "###################################\n",
    "# Build the model\n",
    "###################################\n",
    "# easfsl only wants a tuple for the shape\n",
    "model = Steves_Prototypical_Network(x_net, device=p.device, x_shape=tuple(p.x_shape))\n",
    "optimizer = Adam(params=model.parameters(), lr=p.lr)"
   ]
  },
  {
   "cell_type": "code",
   "execution_count": 22,
   "id": "22b39ac5",
   "metadata": {
    "execution": {
     "iopub.execute_input": "2022-03-21T22:18:24.878535Z",
     "iopub.status.busy": "2022-03-21T22:18:24.878167Z",
     "iopub.status.idle": "2022-03-21T22:48:50.067515Z",
     "shell.execute_reply": "2022-03-21T22:48:50.067173Z"
    },
    "papermill": {
     "duration": 1825.217254,
     "end_time": "2022-03-21T22:48:50.067606",
     "exception": false,
     "start_time": "2022-03-21T22:18:24.850352",
     "status": "completed"
    },
    "tags": []
   },
   "outputs": [
    {
     "name": "stdout",
     "output_type": "stream",
     "text": [
      "epoch: 1, [batch: 1 / 6315], examples_per_second: 32.4265, train_label_loss: 2.6458, \n"
     ]
    },
    {
     "name": "stdout",
     "output_type": "stream",
     "text": [
      "epoch: 1, [batch: 632 / 6315], examples_per_second: 3725.7955, train_label_loss: 0.0081, \n"
     ]
    },
    {
     "name": "stdout",
     "output_type": "stream",
     "text": [
      "epoch: 1, [batch: 1263 / 6315], examples_per_second: 3858.6676, train_label_loss: 0.0298, \n"
     ]
    },
    {
     "name": "stdout",
     "output_type": "stream",
     "text": [
      "epoch: 1, [batch: 1895 / 6315], examples_per_second: 4444.0526, train_label_loss: 0.0002, \n"
     ]
    },
    {
     "name": "stdout",
     "output_type": "stream",
     "text": [
      "epoch: 1, [batch: 2526 / 6315], examples_per_second: 4411.5488, train_label_loss: 0.0006, \n"
     ]
    },
    {
     "name": "stdout",
     "output_type": "stream",
     "text": [
      "epoch: 1, [batch: 3158 / 6315], examples_per_second: 4419.8933, train_label_loss: 0.0002, \n"
     ]
    },
    {
     "name": "stdout",
     "output_type": "stream",
     "text": [
      "epoch: 1, [batch: 3789 / 6315], examples_per_second: 3803.4142, train_label_loss: 0.0017, \n"
     ]
    },
    {
     "name": "stdout",
     "output_type": "stream",
     "text": [
      "epoch: 1, [batch: 4420 / 6315], examples_per_second: 3827.2321, train_label_loss: 0.0103, \n"
     ]
    },
    {
     "name": "stdout",
     "output_type": "stream",
     "text": [
      "epoch: 1, [batch: 5052 / 6315], examples_per_second: 3948.8827, train_label_loss: 0.0000, \n"
     ]
    },
    {
     "name": "stdout",
     "output_type": "stream",
     "text": [
      "epoch: 1, [batch: 5683 / 6315], examples_per_second: 3963.3597, train_label_loss: 0.0004, \n"
     ]
    },
    {
     "name": "stdout",
     "output_type": "stream",
     "text": [
      "=============================================================\n",
      "epoch: 1, source_val_acc_label: 0.9982, target_val_acc_label: 0.1330, source_val_label_loss: 0.0082, target_val_label_loss: 2.7254, \n",
      "=============================================================\n"
     ]
    },
    {
     "name": "stdout",
     "output_type": "stream",
     "text": [
      "New best\n"
     ]
    },
    {
     "name": "stdout",
     "output_type": "stream",
     "text": [
      "epoch: 2, [batch: 1 / 6307], examples_per_second: 1.3251, train_label_loss: 0.0020, \n"
     ]
    },
    {
     "name": "stdout",
     "output_type": "stream",
     "text": [
      "epoch: 2, [batch: 631 / 6307], examples_per_second: 3101.9681, train_label_loss: 0.0001, \n"
     ]
    },
    {
     "name": "stdout",
     "output_type": "stream",
     "text": [
      "epoch: 2, [batch: 1262 / 6307], examples_per_second: 2900.8275, train_label_loss: 0.0000, \n"
     ]
    },
    {
     "name": "stdout",
     "output_type": "stream",
     "text": [
      "epoch: 2, [batch: 1892 / 6307], examples_per_second: 2924.7534, train_label_loss: 0.0000, \n"
     ]
    },
    {
     "name": "stdout",
     "output_type": "stream",
     "text": [
      "epoch: 2, [batch: 2523 / 6307], examples_per_second: 2922.1914, train_label_loss: 0.0005, \n"
     ]
    },
    {
     "name": "stdout",
     "output_type": "stream",
     "text": [
      "epoch: 2, [batch: 3154 / 6307], examples_per_second: 2956.7040, train_label_loss: 0.0000, \n"
     ]
    },
    {
     "name": "stdout",
     "output_type": "stream",
     "text": [
      "epoch: 2, [batch: 3784 / 6307], examples_per_second: 3015.3303, train_label_loss: 0.0000, \n"
     ]
    },
    {
     "name": "stdout",
     "output_type": "stream",
     "text": [
      "epoch: 2, [batch: 4415 / 6307], examples_per_second: 3014.1897, train_label_loss: 0.0000, \n"
     ]
    },
    {
     "name": "stdout",
     "output_type": "stream",
     "text": [
      "epoch: 2, [batch: 5045 / 6307], examples_per_second: 3010.3882, train_label_loss: 0.0002, \n"
     ]
    },
    {
     "name": "stdout",
     "output_type": "stream",
     "text": [
      "epoch: 2, [batch: 5676 / 6307], examples_per_second: 2972.6219, train_label_loss: 0.0000, \n"
     ]
    },
    {
     "name": "stdout",
     "output_type": "stream",
     "text": [
      "=============================================================\n",
      "epoch: 2, source_val_acc_label: 0.9986, target_val_acc_label: 0.1440, source_val_label_loss: 0.0115, target_val_label_loss: 3.0300, \n",
      "=============================================================\n"
     ]
    },
    {
     "name": "stdout",
     "output_type": "stream",
     "text": [
      "New best\n"
     ]
    },
    {
     "name": "stdout",
     "output_type": "stream",
     "text": [
      "epoch: 3, [batch: 1 / 6326], examples_per_second: 1.3881, train_label_loss: 0.0000, \n"
     ]
    },
    {
     "name": "stdout",
     "output_type": "stream",
     "text": [
      "epoch: 3, [batch: 633 / 6326], examples_per_second: 2886.8304, train_label_loss: 0.0000, \n"
     ]
    },
    {
     "name": "stdout",
     "output_type": "stream",
     "text": [
      "epoch: 3, [batch: 1266 / 6326], examples_per_second: 2951.9709, train_label_loss: 0.0000, \n"
     ]
    },
    {
     "name": "stdout",
     "output_type": "stream",
     "text": [
      "epoch: 3, [batch: 1898 / 6326], examples_per_second: 3032.0945, train_label_loss: 0.0001, \n"
     ]
    },
    {
     "name": "stdout",
     "output_type": "stream",
     "text": [
      "epoch: 3, [batch: 2531 / 6326], examples_per_second: 2967.6070, train_label_loss: 0.0000, \n"
     ]
    },
    {
     "name": "stdout",
     "output_type": "stream",
     "text": [
      "epoch: 3, [batch: 3163 / 6326], examples_per_second: 3064.0205, train_label_loss: 0.0000, \n"
     ]
    },
    {
     "name": "stdout",
     "output_type": "stream",
     "text": [
      "epoch: 3, [batch: 3796 / 6326], examples_per_second: 2986.6771, train_label_loss: 0.0000, \n"
     ]
    },
    {
     "name": "stdout",
     "output_type": "stream",
     "text": [
      "epoch: 3, [batch: 4428 / 6326], examples_per_second: 2958.6599, train_label_loss: 0.0000, \n"
     ]
    },
    {
     "name": "stdout",
     "output_type": "stream",
     "text": [
      "epoch: 3, [batch: 5061 / 6326], examples_per_second: 3259.8999, train_label_loss: 0.0008, \n"
     ]
    },
    {
     "name": "stdout",
     "output_type": "stream",
     "text": [
      "epoch: 3, [batch: 5693 / 6326], examples_per_second: 3405.2102, train_label_loss: 0.0000, \n"
     ]
    },
    {
     "name": "stdout",
     "output_type": "stream",
     "text": [
      "=============================================================\n",
      "epoch: 3, source_val_acc_label: 0.9994, target_val_acc_label: 0.1683, source_val_label_loss: 0.0090, target_val_label_loss: 3.3540, \n",
      "=============================================================\n"
     ]
    },
    {
     "name": "stdout",
     "output_type": "stream",
     "text": [
      "New best\n"
     ]
    },
    {
     "name": "stdout",
     "output_type": "stream",
     "text": [
      "epoch: 4, [batch: 1 / 6302], examples_per_second: 1.3310, train_label_loss: 0.0002, \n"
     ]
    },
    {
     "name": "stdout",
     "output_type": "stream",
     "text": [
      "epoch: 4, [batch: 631 / 6302], examples_per_second: 2877.0922, train_label_loss: 0.0000, \n"
     ]
    },
    {
     "name": "stdout",
     "output_type": "stream",
     "text": [
      "epoch: 4, [batch: 1261 / 6302], examples_per_second: 2938.0328, train_label_loss: 0.1168, \n"
     ]
    },
    {
     "name": "stdout",
     "output_type": "stream",
     "text": [
      "epoch: 4, [batch: 1891 / 6302], examples_per_second: 2969.5360, train_label_loss: 0.0036, \n"
     ]
    },
    {
     "name": "stdout",
     "output_type": "stream",
     "text": [
      "epoch: 4, [batch: 2521 / 6302], examples_per_second: 3103.2294, train_label_loss: 0.0000, \n"
     ]
    },
    {
     "name": "stdout",
     "output_type": "stream",
     "text": [
      "epoch: 4, [batch: 3151 / 6302], examples_per_second: 3417.2388, train_label_loss: 0.0000, \n"
     ]
    },
    {
     "name": "stdout",
     "output_type": "stream",
     "text": [
      "epoch: 4, [batch: 3781 / 6302], examples_per_second: 3514.1024, train_label_loss: 0.0000, \n"
     ]
    },
    {
     "name": "stdout",
     "output_type": "stream",
     "text": [
      "epoch: 4, [batch: 4411 / 6302], examples_per_second: 3252.8535, train_label_loss: 0.0000, \n"
     ]
    },
    {
     "name": "stdout",
     "output_type": "stream",
     "text": [
      "epoch: 4, [batch: 5041 / 6302], examples_per_second: 2986.8209, train_label_loss: 0.0000, \n"
     ]
    },
    {
     "name": "stdout",
     "output_type": "stream",
     "text": [
      "epoch: 4, [batch: 5671 / 6302], examples_per_second: 3004.1919, train_label_loss: 0.0000, \n"
     ]
    },
    {
     "name": "stdout",
     "output_type": "stream",
     "text": [
      "=============================================================\n",
      "epoch: 4, source_val_acc_label: 0.9988, target_val_acc_label: 0.1600, source_val_label_loss: 0.0124, target_val_label_loss: 3.4576, \n",
      "=============================================================\n"
     ]
    },
    {
     "name": "stdout",
     "output_type": "stream",
     "text": [
      "epoch: 5, [batch: 1 / 6324], examples_per_second: 1.4088, train_label_loss: 0.0000, \n"
     ]
    },
    {
     "name": "stdout",
     "output_type": "stream",
     "text": [
      "epoch: 5, [batch: 633 / 6324], examples_per_second: 3673.0889, train_label_loss: 0.0000, \n"
     ]
    },
    {
     "name": "stdout",
     "output_type": "stream",
     "text": [
      "epoch: 5, [batch: 1265 / 6324], examples_per_second: 4262.5028, train_label_loss: 0.0076, \n"
     ]
    },
    {
     "name": "stdout",
     "output_type": "stream",
     "text": [
      "epoch: 5, [batch: 1897 / 6324], examples_per_second: 4009.0882, train_label_loss: 0.0000, \n"
     ]
    },
    {
     "name": "stdout",
     "output_type": "stream",
     "text": [
      "epoch: 5, [batch: 2530 / 6324], examples_per_second: 2923.0850, train_label_loss: 0.0000, \n"
     ]
    },
    {
     "name": "stdout",
     "output_type": "stream",
     "text": [
      "epoch: 5, [batch: 3162 / 6324], examples_per_second: 2963.4208, train_label_loss: 0.0043, \n"
     ]
    },
    {
     "name": "stdout",
     "output_type": "stream",
     "text": [
      "epoch: 5, [batch: 3794 / 6324], examples_per_second: 2986.1877, train_label_loss: 0.0000, \n"
     ]
    },
    {
     "name": "stdout",
     "output_type": "stream",
     "text": [
      "epoch: 5, [batch: 4427 / 6324], examples_per_second: 2988.7567, train_label_loss: 0.0000, \n"
     ]
    },
    {
     "name": "stdout",
     "output_type": "stream",
     "text": [
      "epoch: 5, [batch: 5059 / 6324], examples_per_second: 2958.5710, train_label_loss: 0.0000, \n"
     ]
    },
    {
     "name": "stdout",
     "output_type": "stream",
     "text": [
      "epoch: 5, [batch: 5691 / 6324], examples_per_second: 2968.6324, train_label_loss: 0.0000, \n"
     ]
    },
    {
     "name": "stdout",
     "output_type": "stream",
     "text": [
      "=============================================================\n",
      "epoch: 5, source_val_acc_label: 0.9991, target_val_acc_label: 0.1675, source_val_label_loss: 0.0114, target_val_label_loss: 3.7519, \n",
      "=============================================================\n"
     ]
    },
    {
     "name": "stdout",
     "output_type": "stream",
     "text": [
      "epoch: 6, [batch: 1 / 6313], examples_per_second: 1.3925, train_label_loss: 0.0000, \n"
     ]
    },
    {
     "name": "stdout",
     "output_type": "stream",
     "text": [
      "epoch: 6, [batch: 632 / 6313], examples_per_second: 2901.1218, train_label_loss: 0.0000, \n"
     ]
    },
    {
     "name": "stdout",
     "output_type": "stream",
     "text": [
      "epoch: 6, [batch: 1263 / 6313], examples_per_second: 2990.8241, train_label_loss: 0.0000, \n"
     ]
    },
    {
     "name": "stdout",
     "output_type": "stream",
     "text": [
      "epoch: 6, [batch: 1894 / 6313], examples_per_second: 2988.3597, train_label_loss: 0.0000, \n"
     ]
    },
    {
     "name": "stdout",
     "output_type": "stream",
     "text": [
      "epoch: 6, [batch: 2525 / 6313], examples_per_second: 3011.7954, train_label_loss: 0.0000, \n"
     ]
    },
    {
     "name": "stdout",
     "output_type": "stream",
     "text": [
      "epoch: 6, [batch: 3157 / 6313], examples_per_second: 3040.3493, train_label_loss: 0.0000, \n"
     ]
    },
    {
     "name": "stdout",
     "output_type": "stream",
     "text": [
      "epoch: 6, [batch: 3788 / 6313], examples_per_second: 3056.6714, train_label_loss: 0.0000, \n"
     ]
    },
    {
     "name": "stdout",
     "output_type": "stream",
     "text": [
      "epoch: 6, [batch: 4419 / 6313], examples_per_second: 3010.5757, train_label_loss: 0.0000, \n"
     ]
    },
    {
     "name": "stdout",
     "output_type": "stream",
     "text": [
      "epoch: 6, [batch: 5050 / 6313], examples_per_second: 2956.7199, train_label_loss: 0.0000, \n"
     ]
    },
    {
     "name": "stdout",
     "output_type": "stream",
     "text": [
      "epoch: 6, [batch: 5681 / 6313], examples_per_second: 2957.5867, train_label_loss: 0.0000, \n"
     ]
    },
    {
     "name": "stdout",
     "output_type": "stream",
     "text": [
      "=============================================================\n",
      "epoch: 6, source_val_acc_label: 0.9994, target_val_acc_label: 0.1490, source_val_label_loss: 0.0080, target_val_label_loss: 3.9569, \n",
      "=============================================================\n"
     ]
    },
    {
     "name": "stdout",
     "output_type": "stream",
     "text": [
      "epoch: 7, [batch: 1 / 6295], examples_per_second: 1.3679, train_label_loss: 0.0000, \n"
     ]
    },
    {
     "name": "stdout",
     "output_type": "stream",
     "text": [
      "epoch: 7, [batch: 630 / 6295], examples_per_second: 2885.2373, train_label_loss: 0.0000, \n"
     ]
    },
    {
     "name": "stdout",
     "output_type": "stream",
     "text": [
      "epoch: 7, [batch: 1259 / 6295], examples_per_second: 2965.3347, train_label_loss: 0.0000, \n"
     ]
    },
    {
     "name": "stdout",
     "output_type": "stream",
     "text": [
      "epoch: 7, [batch: 1889 / 6295], examples_per_second: 2968.0961, train_label_loss: 0.0000, \n"
     ]
    },
    {
     "name": "stdout",
     "output_type": "stream",
     "text": [
      "epoch: 7, [batch: 2518 / 6295], examples_per_second: 2946.4526, train_label_loss: 0.0000, \n"
     ]
    },
    {
     "name": "stdout",
     "output_type": "stream",
     "text": [
      "epoch: 7, [batch: 3148 / 6295], examples_per_second: 3061.4418, train_label_loss: 0.0000, \n"
     ]
    },
    {
     "name": "stdout",
     "output_type": "stream",
     "text": [
      "epoch: 7, [batch: 3777 / 6295], examples_per_second: 3206.7287, train_label_loss: 0.0000, \n"
     ]
    },
    {
     "name": "stdout",
     "output_type": "stream",
     "text": [
      "epoch: 7, [batch: 4406 / 6295], examples_per_second: 3404.5141, train_label_loss: 0.0000, \n"
     ]
    },
    {
     "name": "stdout",
     "output_type": "stream",
     "text": [
      "epoch: 7, [batch: 5036 / 6295], examples_per_second: 3489.8006, train_label_loss: 0.0000, \n"
     ]
    },
    {
     "name": "stdout",
     "output_type": "stream",
     "text": [
      "epoch: 7, [batch: 5665 / 6295], examples_per_second: 3215.3373, train_label_loss: 0.0000, \n"
     ]
    },
    {
     "name": "stdout",
     "output_type": "stream",
     "text": [
      "=============================================================\n",
      "epoch: 7, source_val_acc_label: 0.9994, target_val_acc_label: 0.1574, source_val_label_loss: 0.0087, target_val_label_loss: 3.9313, \n",
      "=============================================================\n"
     ]
    },
    {
     "name": "stdout",
     "output_type": "stream",
     "text": [
      "Patience (3) exhausted\n"
     ]
    }
   ],
   "source": [
    "###################################\n",
    "# train\n",
    "###################################\n",
    "jig = PTN_Train_Eval_Test_Jig(model, p.BEST_MODEL_PATH, p.device)\n",
    "\n",
    "jig.train(\n",
    "    train_iterable=datasets.source.processed.train,\n",
    "    source_val_iterable=datasets.source.processed.val,\n",
    "    target_val_iterable=datasets.target.processed.val,\n",
    "    num_epochs=p.n_epoch,\n",
    "    num_logs_per_epoch=p.NUM_LOGS_PER_EPOCH,\n",
    "    patience=p.patience,\n",
    "    optimizer=optimizer,\n",
    "    criteria_for_best=p.criteria_for_best,\n",
    ")"
   ]
  },
  {
   "cell_type": "code",
   "execution_count": 23,
   "id": "31e8fabf",
   "metadata": {
    "execution": {
     "iopub.execute_input": "2022-03-21T22:48:50.162061Z",
     "iopub.status.busy": "2022-03-21T22:48:50.161695Z",
     "iopub.status.idle": "2022-03-21T22:48:50.193120Z",
     "shell.execute_reply": "2022-03-21T22:48:50.193792Z"
    },
    "papermill": {
     "duration": 0.081816,
     "end_time": "2022-03-21T22:48:50.193984",
     "exception": false,
     "start_time": "2022-03-21T22:48:50.112168",
     "status": "completed"
    },
    "tags": []
   },
   "outputs": [],
   "source": [
    "total_experiment_time_secs = time.time() - start_time_secs"
   ]
  },
  {
   "cell_type": "code",
   "execution_count": 24,
   "id": "87b9595b",
   "metadata": {
    "execution": {
     "iopub.execute_input": "2022-03-21T22:48:50.295674Z",
     "iopub.status.busy": "2022-03-21T22:48:50.295027Z",
     "iopub.status.idle": "2022-03-21T22:58:59.281684Z",
     "shell.execute_reply": "2022-03-21T22:58:59.280916Z"
    },
    "papermill": {
     "duration": 609.039291,
     "end_time": "2022-03-21T22:58:59.281873",
     "exception": false,
     "start_time": "2022-03-21T22:48:50.242582",
     "status": "completed"
    },
    "tags": []
   },
   "outputs": [],
   "source": [
    "###################################\n",
    "# Evaluate the model\n",
    "###################################\n",
    "source_test_label_accuracy, source_test_label_loss = jig.test(datasets.source.processed.test)\n",
    "target_test_label_accuracy, target_test_label_loss = jig.test(datasets.target.processed.test)\n",
    "\n",
    "source_val_label_accuracy, source_val_label_loss = jig.test(datasets.source.processed.val)\n",
    "target_val_label_accuracy, target_val_label_loss = jig.test(datasets.target.processed.val)\n",
    "\n",
    "history = jig.get_history()\n",
    "\n",
    "total_epochs_trained = len(history[\"epoch_indices\"])\n",
    "\n",
    "val_dl = Iterable_Aggregator((datasets.source.original.val,datasets.target.original.val))\n",
    "\n",
    "confusion = ptn_confusion_by_domain_over_dataloader(model, p.device, val_dl)\n",
    "per_domain_accuracy = per_domain_accuracy_from_confusion(confusion)\n",
    "\n",
    "# Add a key to per_domain_accuracy for if it was a source domain\n",
    "for domain, accuracy in per_domain_accuracy.items():\n",
    "    per_domain_accuracy[domain] = {\n",
    "        \"accuracy\": accuracy,\n",
    "        \"source?\": domain in p.domains_source\n",
    "    }\n",
    "\n",
    "# Do an independent accuracy assesment JUST TO BE SURE!\n",
    "# _source_test_label_accuracy = independent_accuracy_assesment(model, datasets.source.processed.test, p.device)\n",
    "# _target_test_label_accuracy = independent_accuracy_assesment(model, datasets.target.processed.test, p.device)\n",
    "# _source_val_label_accuracy = independent_accuracy_assesment(model, datasets.source.processed.val, p.device)\n",
    "# _target_val_label_accuracy = independent_accuracy_assesment(model, datasets.target.processed.val, p.device)\n",
    "\n",
    "# assert(_source_test_label_accuracy == source_test_label_accuracy)\n",
    "# assert(_target_test_label_accuracy == target_test_label_accuracy)\n",
    "# assert(_source_val_label_accuracy == source_val_label_accuracy)\n",
    "# assert(_target_val_label_accuracy == target_val_label_accuracy)\n",
    "\n",
    "experiment = {\n",
    "    \"experiment_name\": p.experiment_name,\n",
    "    \"parameters\": dict(p),\n",
    "    \"results\": {\n",
    "        \"source_test_label_accuracy\": source_test_label_accuracy,\n",
    "        \"source_test_label_loss\": source_test_label_loss,\n",
    "        \"target_test_label_accuracy\": target_test_label_accuracy,\n",
    "        \"target_test_label_loss\": target_test_label_loss,\n",
    "        \"source_val_label_accuracy\": source_val_label_accuracy,\n",
    "        \"source_val_label_loss\": source_val_label_loss,\n",
    "        \"target_val_label_accuracy\": target_val_label_accuracy,\n",
    "        \"target_val_label_loss\": target_val_label_loss,\n",
    "        \"total_epochs_trained\": total_epochs_trained,\n",
    "        \"total_experiment_time_secs\": total_experiment_time_secs,\n",
    "        \"confusion\": confusion,\n",
    "        \"per_domain_accuracy\": per_domain_accuracy,\n",
    "    },\n",
    "    \"history\": history,\n",
    "    \"dataset_metrics\": get_dataset_metrics(datasets, \"ptn\"),\n",
    "}"
   ]
  },
  {
   "cell_type": "code",
   "execution_count": 25,
   "id": "54a21829",
   "metadata": {
    "execution": {
     "iopub.execute_input": "2022-03-21T22:58:59.382302Z",
     "iopub.status.busy": "2022-03-21T22:58:59.381930Z",
     "iopub.status.idle": "2022-03-21T22:58:59.618229Z",
     "shell.execute_reply": "2022-03-21T22:58:59.617450Z"
    },
    "papermill": {
     "duration": 0.28541,
     "end_time": "2022-03-21T22:58:59.618387",
     "exception": false,
     "start_time": "2022-03-21T22:58:59.332977",
     "status": "completed"
    },
    "tags": []
   },
   "outputs": [
    {
     "data": {
      "image/png": "[encoded data removed]",
      "text/plain": [
       "<Figure size 1080x504 with 1 Axes>"
      ]
     },
     "metadata": {
      "needs_background": "light"
     },
     "output_type": "display_data"
    }
   ],
   "source": [
    "ax = get_loss_curve(experiment)\n",
    "plt.show()"
   ]
  },
  {
   "cell_type": "code",
   "execution_count": 26,
   "id": "fd8a0f60",
   "metadata": {
    "execution": {
     "iopub.execute_input": "2022-03-21T22:58:59.718272Z",
     "iopub.status.busy": "2022-03-21T22:58:59.717897Z",
     "iopub.status.idle": "2022-03-21T22:59:00.088657Z",
     "shell.execute_reply": "2022-03-21T22:59:00.088057Z"
    },
    "papermill": {
     "duration": 0.420935,
     "end_time": "2022-03-21T22:59:00.088781",
     "exception": false,
     "start_time": "2022-03-21T22:58:59.667846",
     "status": "completed"
    },
    "tags": []
   },
   "outputs": [
    {
     "data": {
      "text/plain": [
       "<AxesSubplot:title={'center':'Results'}>"
      ]
     },
     "execution_count": 26,
     "metadata": {},
     "output_type": "execute_result"
    },
    {
     "data": {
      "image/png": "[encoded data removed]",
      "text/plain": [
       "<Figure size 1080x504 with 1 Axes>"
      ]
     },
     "metadata": {
      "needs_background": "light"
     },
     "output_type": "display_data"
    }
   ],
   "source": [
    "get_results_table(experiment)"
   ]
  },
  {
   "cell_type": "code",
   "execution_count": 27,
   "id": "cf8dc689",
   "metadata": {
    "execution": {
     "iopub.execute_input": "2022-03-21T22:59:00.192115Z",
     "iopub.status.busy": "2022-03-21T22:59:00.191742Z",
     "iopub.status.idle": "2022-03-21T22:59:00.453086Z",
     "shell.execute_reply": "2022-03-21T22:59:00.452458Z"
    },
    "papermill": {
     "duration": 0.313321,
     "end_time": "2022-03-21T22:59:00.453213",
     "exception": false,
     "start_time": "2022-03-21T22:59:00.139892",
     "status": "completed"
    },
    "tags": []
   },
   "outputs": [
    {
     "data": {
      "text/plain": [
       "<AxesSubplot:title={'center':'Per Domain Validation Accuracy'}, xlabel='domain'>"
      ]
     },
     "execution_count": 27,
     "metadata": {},
     "output_type": "execute_result"
    },
    {
     "data": {
      "image/png": "[encoded data removed]",
      "text/plain": [
       "<Figure size 1080x504 with 1 Axes>"
      ]
     },
     "metadata": {
      "needs_background": "light"
     },
     "output_type": "display_data"
    }
   ],
   "source": [
    "get_domain_accuracies(experiment)"
   ]
  },
  {
   "cell_type": "code",
   "execution_count": 28,
   "id": "a74ae082",
   "metadata": {
    "execution": {
     "iopub.execute_input": "2022-03-21T22:59:00.555911Z",
     "iopub.status.busy": "2022-03-21T22:59:00.555527Z",
     "iopub.status.idle": "2022-03-21T22:59:00.581716Z",
     "shell.execute_reply": "2022-03-21T22:59:00.581148Z"
    },
    "papermill": {
     "duration": 0.077968,
     "end_time": "2022-03-21T22:59:00.581821",
     "exception": false,
     "start_time": "2022-03-21T22:59:00.503853",
     "status": "completed"
    },
    "tags": []
   },
   "outputs": [
    {
     "name": "stdout",
     "output_type": "stream",
     "text": [
      "Source Test Label Accuracy: 0.9991534988713319 Target Test Label Accuracy: 0.16649088541666668\n",
      "Source Val Label Accuracy: 0.9993928571428572 Target Val Label Accuracy: 0.1683203125\n"
     ]
    }
   ],
   "source": [
    "print(\"Source Test Label Accuracy:\", experiment[\"results\"][\"source_test_label_accuracy\"], \"Target Test Label Accuracy:\", experiment[\"results\"][\"target_test_label_accuracy\"])\n",
    "print(\"Source Val Label Accuracy:\", experiment[\"results\"][\"source_val_label_accuracy\"], \"Target Val Label Accuracy:\", experiment[\"results\"][\"target_val_label_accuracy\"])"
   ]
  },
  {
   "cell_type": "code",
   "execution_count": 29,
   "id": "dacca602",
   "metadata": {
    "execution": {
     "iopub.execute_input": "2022-03-21T22:59:00.686432Z",
     "iopub.status.busy": "2022-03-21T22:59:00.686068Z",
     "iopub.status.idle": "2022-03-21T22:59:00.710299Z",
     "shell.execute_reply": "2022-03-21T22:59:00.709816Z"
    },
    "papermill": {
     "duration": 0.075483,
     "end_time": "2022-03-21T22:59:00.710403",
     "exception": false,
     "start_time": "2022-03-21T22:59:00.634920",
     "status": "completed"
    },
    "tags": [
     "experiment_json"
    ]
   },
   "outputs": [
    {
     "data": {
      "text/plain": [
       "'{\"experiment_name\": \"tl_1v2:cores-oracle.run1\", \"parameters\": {\"experiment_name\": \"tl_1v2:cores-oracle.run1\", \"device\": \"cuda\", \"lr\": 0.0001, \"n_shot\": 3, \"n_query\": 2, \"train_k_factor\": 3, \"val_k_factor\": 2, \"test_k_factor\": 2, \"torch_default_dtype\": \"torch.float32\", \"n_epoch\": 50, \"patience\": 3, \"criteria_for_best\": \"target_accuracy\", \"x_net\": [{\"class\": \"nnReshape\", \"kargs\": {\"shape\": [-1, 1, 2, 256]}}, {\"class\": \"Conv2d\", \"kargs\": {\"in_channels\": 1, \"out_channels\": 256, \"kernel_size\": [1, 7], \"bias\": false, \"padding\": [0, 3]}}, {\"class\": \"ReLU\", \"kargs\": {\"inplace\": true}}, {\"class\": \"BatchNorm2d\", \"kargs\": {\"num_features\": 256}}, {\"class\": \"Conv2d\", \"kargs\": {\"in_channels\": 256, \"out_channels\": 80, \"kernel_size\": [2, 7], \"bias\": true, \"padding\": [0, 3]}}, {\"class\": \"ReLU\", \"kargs\": {\"inplace\": true}}, {\"class\": \"BatchNorm2d\", \"kargs\": {\"num_features\": 80}}, {\"class\": \"Flatten\", \"kargs\": {}}, {\"class\": \"Linear\", \"kargs\": {\"in_features\": 20480, \"out_features\": 256}}, {\"class\": \"ReLU\", \"kargs\": {\"inplace\": true}}, {\"class\": \"BatchNorm1d\", \"kargs\": {\"num_features\": 256}}, {\"class\": \"Linear\", \"kargs\": {\"in_features\": 256, \"out_features\": 256}}], \"NUM_LOGS_PER_EPOCH\": 10, \"BEST_MODEL_PATH\": \"./best_model.pth\", \"n_way\": 16, \"datasets\": [{\"labels\": [\"1-10.\", \"1-11.\", \"1-15.\", \"1-16.\", \"1-17.\", \"1-18.\", \"1-19.\", \"10-4.\", \"10-7.\", \"11-1.\", \"11-14.\", \"11-17.\", \"11-20.\", \"11-7.\", \"13-20.\", \"13-8.\", \"14-10.\", \"14-11.\", \"14-14.\", \"14-7.\", \"15-1.\", \"15-20.\", \"16-1.\", \"16-16.\", \"17-10.\", \"17-11.\", \"17-2.\", \"19-1.\", \"19-16.\", \"19-19.\", \"19-20.\", \"19-3.\", \"2-10.\", \"2-11.\", \"2-17.\", \"2-18.\", \"2-20.\", \"2-3.\", \"2-4.\", \"2-5.\", \"2-6.\", \"2-7.\", \"2-8.\", \"3-13.\", \"3-18.\", \"3-3.\", \"4-1.\", \"4-10.\", \"4-11.\", \"4-19.\", \"5-5.\", \"6-15.\", \"7-10.\", \"7-14.\", \"8-18.\", \"8-20.\", \"8-3.\", \"8-8.\"], \"domains\": [1, 2, 3, 4, 5], \"num_examples_per_domain_per_label\": -1, \"pickle_path\": \"/root/csc500-main/datasets/cores.stratified_ds.2022A.pkl\", \"source_or_target_dataset\": \"source\", \"x_transforms\": [\"unit_power\"], \"episode_transforms\": [], \"domain_prefix\": \"CORES_\"}, {\"labels\": [\"3123D52\", \"3123D65\", \"3123D79\", \"3123D80\", \"3123D54\", \"3123D70\", \"3123D7B\", \"3123D89\", \"3123D58\", \"3123D76\", \"3123D7D\", \"3123EFE\", \"3123D64\", \"3123D78\", \"3123D7E\", \"3124E4A\"], \"domains\": [32, 38, 8, 44, 14, 50, 20, 26], \"num_examples_per_domain_per_label\": 10000, \"pickle_path\": \"/root/csc500-main/datasets/oracle.Run1_10kExamples_stratified_ds.2022A.pkl\", \"source_or_target_dataset\": \"target\", \"x_transforms\": [\"unit_power\"], \"episode_transforms\": [], \"domain_prefix\": \"ORACLE.run1_\"}], \"dataset_seed\": 420, \"seed\": 420, \"x_shape\": [2, 256], \"domains_source\": [\"CORES_1\", \"CORES_2\", \"CORES_3\", \"CORES_4\", \"CORES_5\"], \"domains_target\": [\"ORACLE.run1_32\", \"ORACLE.run1_38\", \"ORACLE.run1_8\", \"ORACLE.run1_44\", \"ORACLE.run1_14\", \"ORACLE.run1_50\", \"ORACLE.run1_20\", \"ORACLE.run1_26\"]}, \"results\": {\"source_test_label_accuracy\": 0.9991534988713319, \"source_test_label_loss\": 0.008050937205553055, \"target_test_label_accuracy\": 0.16649088541666668, \"target_test_label_loss\": 3.3591268062591553, \"source_val_label_accuracy\": 0.9993928571428572, \"source_val_label_loss\": 0.009031277149915695, \"target_val_label_accuracy\": 0.1683203125, \"target_val_label_loss\": 3.3539865016937256, \"total_epochs_trained\": 7, \"total_experiment_time_secs\": 1991.8330764770508, \"confusion\": {\"CORES_4\": {\"42\": {\"42\": 32}, \"0\": {\"0\": 80}, \"1\": {\"1\": 40}, \"39\": {\"39\": 20}, \"28\": {\"28\": 32}, \"53\": {\"53\": 124}, \"19\": {\"19\": 144}, \"34\": {\"34\": 24}, \"33\": {\"33\": 36}, \"32\": {\"32\": 24}, \"10\": {\"10\": 136}, \"46\": {\"46\": 133, \"15\": 1}, \"20\": {\"20\": 122}, \"5\": {\"5\": 108}, \"40\": {\"40\": 124}, \"51\": {\"51\": 144}, \"37\": {\"37\": 24}, \"17\": {\"17\": 80}, \"45\": {\"45\": 96}, \"13\": {\"13\": 142}, \"27\": {\"27\": 144}, \"24\": {\"24\": 56}, \"30\": {\"30\": 44}, \"31\": {\"31\": 28}, \"41\": {\"41\": 34, \"10\": 1, \"13\": 1}, \"36\": {\"36\": 92}, \"16\": {\"16\": 96}, \"22\": {\"22\": 128}, \"44\": {\"44\": 132}, \"9\": {\"9\": 140}, \"57\": {\"57\": 100}, \"8\": {\"8\": 138}, \"23\": {\"23\": 132}, \"47\": {\"47\": 120}, \"43\": {\"43\": 138}, \"49\": {\"49\": 20}, \"3\": {\"3\": 122, \"50\": 2}, \"12\": {\"12\": 92}, \"38\": {\"38\": 40}, \"7\": {\"7\": 24}, \"14\": {\"14\": 16}, \"15\": {\"15\": 146}, \"25\": {\"25\": 128}, \"26\": {\"26\": 24}, \"21\": {\"21\": 132}, \"48\": {\"48\": 144}, \"56\": {\"56\": 134}, \"11\": {\"11\": 104}, \"2\": {\"2\": 36}, \"6\": {\"6\": 111, \"3\": 1}, \"55\": {\"55\": 140}, \"54\": {\"54\": 108}, \"29\": {\"29\": 124}, \"50\": {\"50\": 122}, \"52\": {\"52\": 116}, \"35\": {\"35\": 40}, \"4\": {\"4\": 119, \"27\": 1}, \"18\": {\"18\": 108}}, \"CORES_5\": {\"43\": {\"43\": 152}, \"35\": {\"35\": 36}, \"54\": {\"54\": 112}, \"22\": {\"22\": 28}, \"16\": {\"16\": 146}, \"5\": {\"5\": 128}, \"28\": {\"28\": 32}, \"14\": {\"14\": 44}, \"51\": {\"51\": 128}, \"19\": {\"19\": 140}, \"31\": {\"31\": 36}, \"10\": {\"10\": 68}, \"21\": {\"21\": 136}, \"3\": {\"3\": 100}, \"57\": {\"57\": 131, \"14\": 1}, \"9\": {\"9\": 146}, \"8\": {\"8\": 132}, \"46\": {\"46\": 140}, \"23\": {\"23\": 124}, \"37\": {\"37\": 24}, \"34\": {\"34\": 36}, \"4\": {\"4\": 100}, \"6\": {\"6\": 128}, \"48\": {\"48\": 136}, \"44\": {\"44\": 138}, \"40\": {\"40\": 124}, \"12\": {\"12\": 96}, \"30\": {\"30\": 128}, \"39\": {\"39\": 20}, \"45\": {\"45\": 124}, \"36\": {\"36\": 92}, \"27\": {\"27\": 140}, \"32\": {\"32\": 32}, \"52\": {\"52\": 130}, \"0\": {\"0\": 124}, \"26\": {\"26\": 24}, \"1\": {\"1\": 148}, \"53\": {\"53\": 146}, \"25\": {\"25\": 144}, \"24\": {\"24\": 80}, \"7\": {\"7\": 32}, \"18\": {\"18\": 64}, \"20\": {\"20\": 144}, \"33\": {\"33\": 32}, \"55\": {\"55\": 140}, \"41\": {\"41\": 28}, \"42\": {\"42\": 39, \"11\": 1}, \"49\": {\"49\": 36}, \"13\": {\"13\": 148}, \"38\": {\"38\": 32}, \"2\": {\"2\": 28}, \"47\": {\"47\": 100}, \"17\": {\"17\": 116}, \"11\": {\"11\": 154}, \"29\": {\"29\": 132}, \"50\": {\"50\": 138}, \"56\": {\"56\": 148}, \"15\": {\"15\": 142}}, \"CORES_2\": {\"49\": {\"49\": 24}, \"13\": {\"13\": 116}, \"37\": {\"37\": 36}, \"41\": {\"41\": 20}, \"15\": {\"15\": 142}, \"56\": {\"56\": 142}, \"14\": {\"14\": 24}, \"3\": {\"3\": 92}, \"38\": {\"38\": 20}, \"43\": {\"43\": 138}, \"33\": {\"33\": 27, \"49\": 1}, \"47\": {\"47\": 138}, \"30\": {\"30\": 144}, \"39\": {\"39\": 28}, \"12\": {\"12\": 92}, \"6\": {\"6\": 124}, \"51\": {\"51\": 134}, \"5\": {\"5\": 120}, \"34\": {\"34\": 28}, \"35\": {\"35\": 32}, \"0\": {\"0\": 48}, \"7\": {\"7\": 36}, \"24\": {\"24\": 96}, \"8\": {\"8\": 136}, \"20\": {\"20\": 124}, \"36\": {\"36\": 116}, \"42\": {\"42\": 36}, \"1\": {\"1\": 112}, \"4\": {\"4\": 148}, \"28\": {\"28\": 28}, \"50\": {\"50\": 136}, \"45\": {\"45\": 128}, \"18\": {\"18\": 48}, \"57\": {\"57\": 120}, \"46\": {\"46\": 128}, \"23\": {\"23\": 148}, \"27\": {\"27\": 138}, \"19\": {\"19\": 134}, \"22\": {\"22\": 136}, \"17\": {\"17\": 104}, \"55\": {\"55\": 136}, \"44\": {\"44\": 99, \"29\": 1}, \"26\": {\"26\": 24}, \"31\": {\"31\": 28}, \"16\": {\"16\": 130}, \"11\": {\"11\": 128}, \"25\": {\"25\": 126}, \"54\": {\"54\": 108}, \"32\": {\"32\": 28}, \"52\": {\"52\": 124}, \"40\": {\"40\": 132}, \"2\": {\"2\": 32}, \"10\": {\"10\": 110}, \"53\": {\"53\": 136}, \"9\": {\"9\": 150}, \"21\": {\"21\": 120}, \"48\": {\"48\": 138}, \"29\": {\"29\": 128}}, \"CORES_1\": {\"9\": {\"9\": 142}, \"25\": {\"25\": 128}, \"41\": {\"41\": 24}, \"29\": {\"29\": 140}, \"46\": {\"46\": 128}, \"4\": {\"4\": 132}, \"31\": {\"31\": 28}, \"36\": {\"36\": 64}, \"20\": {\"20\": 128}, \"7\": {\"7\": 28}, \"6\": {\"6\": 96}, \"16\": {\"16\": 138}, \"17\": {\"17\": 64}, \"50\": {\"50\": 148}, \"57\": {\"57\": 144}, \"23\": {\"23\": 136}, \"3\": {\"3\": 126}, \"53\": {\"53\": 140}, \"49\": {\"49\": 32}, \"56\": {\"56\": 152}, \"51\": {\"51\": 142}, \"26\": {\"26\": 24}, \"43\": {\"43\": 144}, \"22\": {\"22\": 136}, \"45\": {\"45\": 146}, \"13\": {\"13\": 152}, \"12\": {\"12\": 116}, \"54\": {\"54\": 104}, \"24\": {\"24\": 108}, \"44\": {\"44\": 136}, \"28\": {\"28\": 28}, \"33\": {\"33\": 32}, \"38\": {\"38\": 24}, \"0\": {\"0\": 144}, \"47\": {\"47\": 154}, \"42\": {\"42\": 40}, \"34\": {\"34\": 24}, \"48\": {\"48\": 142}, \"35\": {\"35\": 36}, \"2\": {\"2\": 36}, \"30\": {\"30\": 120}, \"18\": {\"18\": 72}, \"37\": {\"37\": 32}, \"1\": {\"1\": 100}, \"11\": {\"11\": 138}, \"55\": {\"55\": 130}, \"15\": {\"15\": 150}, \"10\": {\"10\": 96}, \"27\": {\"27\": 160}, \"19\": {\"19\": 146}, \"14\": {\"14\": 24}, \"8\": {\"8\": 140}, \"5\": {\"5\": 136}, \"39\": {\"39\": 28}, \"52\": {\"52\": 122}, \"21\": {\"21\": 124}, \"40\": {\"40\": 152}, \"32\": {\"32\": 32}}, \"CORES_3\": {\"56\": {\"56\": 120}, \"4\": {\"4\": 146}, \"34\": {\"34\": 32}, \"52\": {\"52\": 136}, \"32\": {\"32\": 28}, \"46\": {\"46\": 136}, \"12\": {\"12\": 91, \"51\": 1}, \"20\": {\"20\": 132}, \"54\": {\"54\": 100}, \"22\": {\"22\": 140}, \"26\": {\"26\": 24}, \"31\": {\"31\": 28}, \"10\": {\"10\": 64}, \"27\": {\"27\": 144}, \"40\": {\"40\": 136}, \"28\": {\"28\": 28}, \"5\": {\"5\": 116}, \"30\": {\"30\": 120}, \"7\": {\"7\": 36}, \"18\": {\"18\": 84}, \"39\": {\"39\": 16}, \"50\": {\"50\": 136}, \"49\": {\"49\": 20}, \"43\": {\"43\": 122}, \"29\": {\"29\": 114}, \"35\": {\"35\": 28}, \"13\": {\"13\": 124}, \"36\": {\"36\": 100}, \"11\": {\"11\": 146}, \"57\": {\"57\": 124}, \"9\": {\"9\": 130}, \"25\": {\"25\": 130}, \"16\": {\"16\": 126}, \"53\": {\"53\": 118}, \"33\": {\"33\": 28}, \"51\": {\"51\": 128}, \"44\": {\"44\": 88}, \"48\": {\"48\": 114}, \"6\": {\"6\": 88}, \"23\": {\"23\": 144}, \"1\": {\"1\": 100}, \"17\": {\"38\": 2, \"17\": 106}, \"21\": {\"21\": 122}, \"14\": {\"14\": 40}, \"55\": {\"55\": 144}, \"41\": {\"41\": 28}, \"3\": {\"3\": 137, \"50\": 1}, \"38\": {\"38\": 28}, \"2\": {\"2\": 32}, \"8\": {\"8\": 142}, \"37\": {\"37\": 28}, \"45\": {\"45\": 60}, \"42\": {\"42\": 28}, \"24\": {\"24\": 104}, \"15\": {\"15\": 136}, \"0\": {\"0\": 122, \"57\": 2}, \"47\": {\"47\": 92}, \"19\": {\"19\": 120}}, \"ORACLE.run1_14\": {\"15\": {\"2\": 103, \"15\": 249, \"10\": 12, \"7\": 253, \"5\": 131, \"4\": 77, \"13\": 58, \"6\": 75, \"1\": 99, \"8\": 23, \"14\": 55, \"3\": 41, \"0\": 19, \"9\": 3, \"11\": 2}, \"5\": {\"2\": 100, \"1\": 128, \"0\": 62, \"5\": 127, \"9\": 18, \"15\": 110, \"3\": 83, \"8\": 57, \"7\": 116, \"4\": 107, \"13\": 78, \"11\": 22, \"6\": 83, \"14\": 60, \"10\": 44, \"12\": 5}, \"7\": {\"5\": 121, \"15\": 229, \"4\": 101, \"3\": 66, \"2\": 75, \"8\": 48, \"13\": 69, \"7\": 238, \"1\": 111, \"11\": 4, \"0\": 23, \"6\": 47, \"10\": 19, \"14\": 42, \"12\": 3, \"9\": 4}, \"4\": {\"6\": 78, \"5\": 114, \"3\": 80, \"12\": 13, \"14\": 86, \"8\": 63, \"1\": 100, \"15\": 85, \"13\": 73, \"4\": 130, \"2\": 79, \"0\": 71, \"9\": 27, \"10\": 64, \"11\": 56, \"7\": 81}, \"10\": {\"1\": 59, \"11\": 157, \"12\": 45, \"6\": 87, \"3\": 87, \"9\": 87, \"14\": 85, \"5\": 47, \"8\": 61, \"0\": 122, \"10\": 159, \"13\": 78, \"2\": 45, \"4\": 48, \"7\": 17, \"15\": 16}, \"11\": {\"11\": 240, \"5\": 27, \"9\": 121, \"10\": 158, \"12\": 108, \"8\": 45, \"6\": 42, \"0\": 140, \"14\": 73, \"2\": 35, \"3\": 72, \"4\": 42, \"7\": 8, \"13\": 61, \"1\": 24, \"15\": 4}, \"12\": {\"9\": 314, \"12\": 483, \"11\": 122, \"8\": 124, \"3\": 13, \"0\": 59, \"10\": 49, \"1\": 6, \"14\": 3, \"4\": 13, \"2\": 4, \"7\": 2, \"5\": 4, \"6\": 1, \"13\": 3}, \"0\": {\"1\": 52, \"5\": 52, \"12\": 43, \"11\": 146, \"8\": 65, \"6\": 58, \"0\": 146, \"9\": 97, \"4\": 79, \"10\": 143, \"13\": 68, \"14\": 72, \"3\": 77, \"2\": 59, \"7\": 29, \"15\": 14}, \"14\": {\"1\": 42, \"10\": 100, \"2\": 136, \"13\": 136, \"6\": 145, \"14\": 169, \"4\": 62, \"5\": 64, \"11\": 65, \"15\": 44, \"8\": 12, \"3\": 93, \"0\": 81, \"9\": 17, \"7\": 29, \"12\": 5}, \"8\": {\"8\": 341, \"9\": 148, \"3\": 58, \"11\": 62, \"4\": 71, \"1\": 100, \"12\": 101, \"0\": 86, \"14\": 16, \"2\": 12, \"7\": 49, \"13\": 15, \"10\": 50, \"15\": 29, \"5\": 53, \"6\": 9}, \"13\": {\"10\": 69, \"4\": 72, \"8\": 9, \"3\": 97, \"13\": 183, \"6\": 156, \"1\": 40, \"2\": 111, \"7\": 70, \"0\": 55, \"12\": 4, \"14\": 141, \"5\": 76, \"11\": 38, \"15\": 69, \"9\": 10}, \"6\": {\"14\": 149, \"13\": 162, \"6\": 177, \"15\": 60, \"5\": 85, \"3\": 87, \"9\": 7, \"2\": 118, \"7\": 59, \"1\": 55, \"10\": 75, \"0\": 46, \"4\": 73, \"11\": 40, \"8\": 7}, \"1\": {\"8\": 102, \"5\": 123, \"11\": 31, \"15\": 110, \"7\": 95, \"10\": 52, \"1\": 154, \"2\": 78, \"13\": 55, \"14\": 57, \"0\": 54, \"3\": 90, \"4\": 107, \"6\": 58, \"9\": 26, \"12\": 8}, \"3\": {\"5\": 69, \"11\": 73, \"9\": 49, \"10\": 93, \"3\": 107, \"7\": 55, \"15\": 57, \"2\": 79, \"13\": 84, \"1\": 77, \"8\": 65, \"14\": 104, \"0\": 108, \"6\": 75, \"4\": 88, \"12\": 17}, \"9\": {\"9\": 244, \"12\": 272, \"6\": 9, \"1\": 32, \"11\": 157, \"10\": 92, \"0\": 98, \"8\": 147, \"4\": 36, \"3\": 43, \"7\": 7, \"13\": 10, \"14\": 17, \"15\": 5, \"2\": 12, \"5\": 19}, \"2\": {\"13\": 122, \"6\": 128, \"8\": 25, \"4\": 75, \"14\": 128, \"2\": 152, \"5\": 88, \"7\": 74, \"1\": 67, \"3\": 82, \"15\": 89, \"10\": 61, \"0\": 59, \"11\": 40, \"12\": 2, \"9\": 8}}, \"ORACLE.run1_20\": {\"4\": {\"3\": 76, \"4\": 97, \"15\": 53, \"6\": 96, \"9\": 68, \"1\": 49, \"13\": 53, \"2\": 61, \"10\": 95, \"14\": 119, \"8\": 115, \"7\": 94, \"12\": 58, \"5\": 76, \"11\": 35, \"0\": 55}, \"10\": {\"5\": 47, \"10\": 139, \"6\": 135, \"12\": 60, \"3\": 66, \"1\": 40, \"9\": 50, \"14\": 141, \"8\": 99, \"4\": 110, \"2\": 63, \"11\": 51, \"0\": 43, \"7\": 66, \"15\": 36, \"13\": 54}, \"15\": {\"3\": 77, \"12\": 86, \"14\": 38, \"2\": 65, \"15\": 138, \"6\": 34, \"7\": 63, \"0\": 124, \"1\": 101, \"5\": 97, \"8\": 48, \"13\": 97, \"11\": 55, \"9\": 79, \"10\": 40, \"4\": 58}, \"0\": {\"3\": 80, \"13\": 77, \"7\": 79, \"1\": 91, \"12\": 97, \"4\": 75, \"0\": 106, \"15\": 85, \"10\": 50, \"5\": 94, \"8\": 59, \"14\": 55, \"11\": 50, \"9\": 81, \"6\": 51, \"2\": 70}, \"6\": {\"7\": 102, \"3\": 60, \"5\": 41, \"11\": 74, \"8\": 95, \"6\": 159, \"10\": 116, \"13\": 44, \"14\": 144, \"2\": 52, \"9\": 47, \"15\": 44, \"1\": 41, \"0\": 35, \"4\": 97, \"12\": 49}, \"3\": {\"0\": 79, \"8\": 74, \"9\": 79, \"2\": 69, \"1\": 94, \"10\": 72, \"6\": 76, \"13\": 81, \"7\": 71, \"3\": 79, \"4\": 72, \"5\": 73, \"11\": 72, \"12\": 64, \"14\": 63, \"15\": 82}, \"7\": {\"13\": 82, \"2\": 84, \"12\": 61, \"1\": 87, \"0\": 63, \"10\": 83, \"6\": 89, \"8\": 78, \"14\": 107, \"11\": 80, \"15\": 68, \"5\": 57, \"4\": 74, \"7\": 62, \"3\": 59, \"9\": 66}, \"2\": {\"5\": 82, \"11\": 75, \"1\": 86, \"15\": 94, \"6\": 46, \"7\": 70, \"0\": 79, \"12\": 80, \"3\": 82, \"13\": 96, \"14\": 57, \"2\": 77, \"8\": 75, \"10\": 53, \"9\": 81, \"4\": 67}, \"8\": {\"10\": 97, \"6\": 96, \"7\": 68, \"4\": 120, \"3\": 62, \"9\": 76, \"2\": 70, \"15\": 62, \"0\": 63, \"8\": 119, \"12\": 58, \"11\": 45, \"14\": 113, \"13\": 34, \"5\": 67, \"1\": 50}, \"11\": {\"2\": 80, \"9\": 94, \"10\": 58, \"14\": 66, \"1\": 66, \"13\": 116, \"8\": 52, \"3\": 62, \"6\": 81, \"12\": 63, \"11\": 176, \"7\": 98, \"15\": 53, \"0\": 38, \"4\": 52, \"5\": 45}, \"14\": {\"10\": 136, \"14\": 183, \"6\": 170, \"4\": 98, \"7\": 79, \"9\": 45, \"8\": 121, \"12\": 43, \"0\": 40, \"1\": 39, \"15\": 26, \"3\": 53, \"11\": 56, \"13\": 29, \"5\": 34, \"2\": 48}, \"12\": {\"0\": 97, \"2\": 70, \"15\": 109, \"14\": 58, \"5\": 77, \"9\": 88, \"4\": 81, \"3\": 80, \"6\": 53, \"13\": 86, \"8\": 61, \"10\": 52, \"7\": 72, \"1\": 91, \"11\": 40, \"12\": 85}, \"13\": {\"0\": 78, \"13\": 116, \"7\": 62, \"15\": 112, \"11\": 97, \"3\": 60, \"4\": 47, \"10\": 43, \"1\": 87, \"5\": 81, \"6\": 45, \"2\": 85, \"12\": 90, \"14\": 43, \"9\": 93, \"8\": 61}, \"9\": {\"3\": 73, \"9\": 72, \"2\": 89, \"13\": 92, \"1\": 89, \"5\": 68, \"6\": 65, \"8\": 72, \"4\": 54, \"11\": 90, \"14\": 53, \"12\": 85, \"7\": 72, \"0\": 67, \"15\": 91, \"10\": 68}, \"5\": {\"8\": 72, \"4\": 75, \"13\": 71, \"1\": 94, \"10\": 72, \"3\": 99, \"14\": 55, \"11\": 49, \"9\": 72, \"6\": 49, \"12\": 77, \"7\": 78, \"5\": 82, \"15\": 86, \"2\": 83, \"0\": 86}, \"1\": {\"5\": 99, \"1\": 106, \"13\": 92, \"6\": 33, \"3\": 85, \"11\": 61, \"15\": 96, \"12\": 96, \"10\": 49, \"0\": 99, \"4\": 63, \"9\": 88, \"14\": 38, \"7\": 55, \"2\": 91, \"8\": 49}}, \"ORACLE.run1_50\": {\"5\": {\"0\": 55, \"12\": 16, \"1\": 96, \"4\": 113, \"7\": 139, \"2\": 43, \"6\": 115, \"14\": 45, \"9\": 21, \"10\": 71, \"13\": 150, \"11\": 47, \"5\": 146, \"15\": 87, \"3\": 25, \"8\": 31}, \"12\": {\"2\": 78, \"7\": 8, \"9\": 236, \"1\": 64, \"12\": 326, \"11\": 128, \"14\": 169, \"15\": 60, \"4\": 33, \"6\": 25, \"0\": 35, \"13\": 16, \"10\": 6, \"8\": 1, \"5\": 15}, \"14\": {\"2\": 109, \"13\": 34, \"10\": 25, \"4\": 81, \"14\": 174, \"9\": 125, \"6\": 66, \"12\": 182, \"1\": 91, \"11\": 98, \"15\": 63, \"0\": 86, \"5\": 35, \"7\": 23, \"8\": 6, \"3\": 2}, \"4\": {\"15\": 141, \"6\": 121, \"5\": 110, \"12\": 34, \"4\": 126, \"9\": 50, \"2\": 36, \"13\": 103, \"14\": 61, \"7\": 78, \"11\": 109, \"8\": 11, \"1\": 130, \"10\": 41, \"3\": 17, \"0\": 32}, \"13\": {\"7\": 160, \"14\": 45, \"6\": 119, \"5\": 120, \"4\": 107, \"11\": 23, \"3\": 44, \"13\": 157, \"2\": 39, \"10\": 88, \"9\": 22, \"8\": 67, \"15\": 74, \"1\": 75, \"12\": 6, \"0\": 54}, \"10\": {\"8\": 141, \"0\": 147, \"6\": 53, \"7\": 99, \"11\": 13, \"9\": 5, \"10\": 173, \"3\": 129, \"1\": 42, \"14\": 43, \"13\": 107, \"2\": 111, \"4\": 27, \"5\": 88, \"15\": 14, \"12\": 8}, \"9\": {\"12\": 236, \"11\": 229, \"9\": 277, \"4\": 58, \"15\": 84, \"14\": 128, \"1\": 70, \"5\": 10, \"2\": 26, \"6\": 40, \"10\": 5, \"0\": 13, \"13\": 16, \"7\": 8}, \"15\": {\"14\": 70, \"9\": 101, \"13\": 67, \"6\": 108, \"1\": 136, \"15\": 172, \"4\": 135, \"11\": 153, \"5\": 96, \"12\": 45, \"7\": 59, \"2\": 14, \"0\": 24, \"10\": 16, \"3\": 4}, \"6\": {\"14\": 71, \"13\": 121, \"7\": 111, \"6\": 135, \"1\": 105, \"9\": 36, \"5\": 98, \"10\": 66, \"11\": 72, \"4\": 133, \"15\": 122, \"2\": 36, \"12\": 20, \"8\": 19, \"0\": 40, \"3\": 15}, \"2\": {\"8\": 107, \"1\": 49, \"2\": 268, \"13\": 43, \"14\": 104, \"11\": 31, \"0\": 222, \"9\": 20, \"3\": 37, \"15\": 8, \"10\": 98, \"5\": 33, \"12\": 57, \"7\": 56, \"6\": 41, \"4\": 26}, \"0\": {\"1\": 44, \"7\": 73, \"8\": 140, \"0\": 189, \"3\": 70, \"2\": 206, \"10\": 144, \"13\": 57, \"14\": 66, \"9\": 18, \"5\": 51, \"12\": 24, \"4\": 37, \"11\": 18, \"15\": 23, \"6\": 40}, \"11\": {\"11\": 208, \"4\": 89, \"5\": 45, \"13\": 25, \"1\": 106, \"9\": 207, \"15\": 142, \"14\": 98, \"2\": 19, \"12\": 155, \"7\": 19, \"6\": 68, \"0\": 14, \"8\": 1, \"10\": 4}, \"3\": {\"5\": 49, \"8\": 297, \"0\": 82, \"3\": 425, \"4\": 6, \"10\": 148, \"7\": 80, \"6\": 22, \"2\": 37, \"13\": 43, \"14\": 2, \"1\": 6, \"15\": 3}, \"8\": {\"3\": 270, \"0\": 144, \"8\": 305, \"2\": 111, \"10\": 149, \"13\": 50, \"15\": 8, \"6\": 28, \"4\": 12, \"1\": 15, \"7\": 62, \"5\": 38, \"12\": 2, \"14\": 4, \"11\": 2}, \"7\": {\"0\": 63, \"10\": 101, \"14\": 27, \"7\": 150, \"4\": 99, \"1\": 73, \"6\": 139, \"13\": 135, \"11\": 27, \"9\": 11, \"5\": 138, \"3\": 66, \"8\": 73, \"15\": 59, \"2\": 36, \"12\": 3}, \"1\": {\"11\": 117, \"13\": 99, \"4\": 104, \"5\": 92, \"9\": 65, \"12\": 44, \"6\": 101, \"1\": 143, \"7\": 69, \"14\": 88, \"10\": 36, \"15\": 132, \"8\": 15, \"2\": 43, \"0\": 47, \"3\": 5}}, \"ORACLE.run1_26\": {\"7\": {\"14\": 89, \"2\": 97, \"3\": 97, \"15\": 65, \"13\": 44, \"10\": 69, \"4\": 103, \"9\": 75, \"1\": 91, \"7\": 115, \"5\": 62, \"12\": 39, \"0\": 100, \"8\": 86, \"11\": 10, \"6\": 58}, \"6\": {\"10\": 91, \"11\": 44, \"3\": 65, \"14\": 56, \"7\": 77, \"9\": 79, \"13\": 91, \"15\": 97, \"8\": 76, \"0\": 68, \"5\": 70, \"12\": 93, \"1\": 75, \"4\": 63, \"6\": 87, \"2\": 68}, \"14\": {\"7\": 87, \"4\": 105, \"14\": 131, \"3\": 84, \"8\": 98, \"15\": 55, \"9\": 52, \"0\": 118, \"6\": 64, \"13\": 35, \"10\": 93, \"11\": 6, \"1\": 118, \"5\": 43, \"12\": 36, \"2\": 75}, \"15\": {\"1\": 62, \"14\": 64, \"2\": 79, \"7\": 77, \"13\": 103, \"4\": 68, \"6\": 75, \"5\": 100, \"0\": 71, \"8\": 69, \"3\": 90, \"10\": 69, \"9\": 83, \"12\": 55, \"11\": 50, \"15\": 85}, \"5\": {\"6\": 63, \"2\": 87, \"15\": 90, \"0\": 50, \"13\": 130, \"12\": 57, \"10\": 51, \"5\": 108, \"9\": 119, \"1\": 46, \"7\": 83, \"8\": 88, \"11\": 59, \"14\": 44, \"3\": 83, \"4\": 42}, \"10\": {\"4\": 103, \"6\": 94, \"3\": 65, \"15\": 75, \"0\": 86, \"7\": 92, \"9\": 71, \"10\": 97, \"14\": 89, \"1\": 93, \"13\": 56, \"5\": 58, \"12\": 56, \"2\": 69, \"8\": 69, \"11\": 27}, \"4\": {\"2\": 72, \"5\": 51, \"10\": 111, \"3\": 81, \"8\": 98, \"4\": 108, \"1\": 120, \"6\": 71, \"15\": 75, \"13\": 41, \"14\": 101, \"7\": 97, \"9\": 52, \"0\": 81, \"12\": 35, \"11\": 6}, \"11\": {\"11\": 486, \"5\": 54, \"15\": 63, \"6\": 54, \"10\": 26, \"12\": 232, \"13\": 126, \"9\": 55, \"8\": 20, \"2\": 17, \"14\": 16, \"3\": 11, \"7\": 14, \"4\": 8, \"0\": 10, \"1\": 8}, \"13\": {\"5\": 128, \"10\": 48, \"0\": 39, \"15\": 79, \"4\": 38, \"13\": 163, \"8\": 64, \"14\": 36, \"11\": 120, \"9\": 88, \"3\": 59, \"12\": 74, \"6\": 92, \"1\": 38, \"2\": 79, \"7\": 55}, \"2\": {\"2\": 96, \"3\": 119, \"7\": 109, \"14\": 69, \"0\": 77, \"5\": 77, \"8\": 81, \"13\": 79, \"6\": 70, \"9\": 71, \"1\": 100, \"15\": 80, \"4\": 77, \"10\": 60, \"11\": 15, \"12\": 20}, \"0\": {\"3\": 75, \"15\": 100, \"7\": 96, \"5\": 39, \"0\": 90, \"12\": 50, \"9\": 67, \"2\": 83, \"4\": 114, \"8\": 86, \"14\": 88, \"6\": 71, \"10\": 94, \"1\": 99, \"13\": 38, \"11\": 10}, \"12\": {\"10\": 62, \"15\": 72, \"6\": 107, \"12\": 305, \"11\": 186, \"8\": 49, \"0\": 51, \"4\": 48, \"13\": 67, \"14\": 40, \"9\": 79, \"2\": 20, \"7\": 27, \"5\": 41, \"3\": 12, \"1\": 34}, \"3\": {\"6\": 48, \"13\": 56, \"0\": 83, \"7\": 113, \"15\": 85, \"10\": 78, \"1\": 73, \"5\": 89, \"11\": 10, \"14\": 79, \"9\": 64, \"8\": 90, \"3\": 120, \"2\": 99, \"12\": 23, \"4\": 90}, \"9\": {\"10\": 69, \"0\": 63, \"9\": 104, \"2\": 79, \"4\": 55, \"13\": 98, \"14\": 64, \"6\": 90, \"5\": 90, \"1\": 76, \"12\": 57, \"15\": 82, \"11\": 41, \"7\": 65, \"3\": 79, \"8\": 88}, \"8\": {\"10\": 94, \"3\": 69, \"4\": 88, \"6\": 78, \"15\": 75, \"8\": 91, \"14\": 69, \"5\": 84, \"12\": 50, \"0\": 82, \"7\": 97, \"1\": 83, \"13\": 69, \"9\": 67, \"2\": 73, \"11\": 31}, \"1\": {\"7\": 93, \"2\": 74, \"14\": 95, \"4\": 118, \"10\": 100, \"13\": 38, \"1\": 145, \"3\": 81, \"12\": 41, \"0\": 90, \"15\": 68, \"5\": 50, \"8\": 75, \"9\": 50, \"6\": 73, \"11\": 9}}, \"ORACLE.run1_32\": {\"7\": {\"7\": 157, \"11\": 128, \"0\": 115, \"13\": 112, \"4\": 128, \"8\": 80, \"2\": 121, \"9\": 24, \"14\": 140, \"5\": 87, \"3\": 76, \"15\": 23, \"12\": 8, \"6\": 1}, \"2\": {\"7\": 126, \"11\": 100, \"0\": 149, \"5\": 90, \"2\": 188, \"8\": 82, \"4\": 133, \"13\": 74, \"9\": 83, \"15\": 17, \"3\": 34, \"14\": 93, \"12\": 29, \"6\": 2}, \"5\": {\"15\": 68, \"11\": 100, \"0\": 91, \"5\": 129, \"2\": 102, \"7\": 108, \"4\": 114, \"3\": 115, \"14\": 84, \"8\": 121, \"13\": 140, \"9\": 25, \"12\": 3}, \"6\": {\"6\": 538, \"1\": 223, \"10\": 203, \"12\": 158, \"9\": 73, \"2\": 2, \"4\": 1, \"0\": 2}, \"13\": {\"13\": 167, \"11\": 88, \"3\": 161, \"7\": 86, \"15\": 95, \"14\": 87, \"0\": 85, \"5\": 106, \"2\": 87, \"4\": 106, \"8\": 119, \"9\": 8, \"12\": 5}, \"4\": {\"8\": 124, \"5\": 100, \"15\": 44, \"11\": 83, \"0\": 135, \"4\": 124, \"2\": 140, \"7\": 121, \"13\": 97, \"14\": 99, \"12\": 5, \"9\": 51, \"3\": 76, \"6\": 1}, \"3\": {\"13\": 160, \"11\": 90, \"3\": 281, \"5\": 104, \"7\": 60, \"8\": 118, \"14\": 62, \"15\": 178, \"4\": 59, \"0\": 60, \"2\": 26, \"9\": 2}, \"0\": {\"8\": 119, \"7\": 114, \"13\": 110, \"9\": 44, \"2\": 144, \"3\": 49, \"0\": 156, \"5\": 111, \"4\": 115, \"14\": 100, \"15\": 41, \"11\": 88, \"12\": 7, \"6\": 2}, \"9\": {\"2\": 104, \"12\": 320, \"9\": 417, \"6\": 71, \"7\": 25, \"0\": 64, \"13\": 23, \"4\": 65, \"8\": 14, \"10\": 36, \"15\": 2, \"14\": 21, \"5\": 22, \"11\": 12, \"3\": 1, \"1\": 3}, \"12\": {\"10\": 152, \"12\": 477, \"9\": 301, \"2\": 29, \"0\": 22, \"4\": 20, \"6\": 133, \"1\": 41, \"7\": 5, \"13\": 6, \"5\": 4, \"8\": 7, \"15\": 1, \"3\": 1, \"14\": 1}, \"8\": {\"14\": 62, \"0\": 118, \"3\": 138, \"4\": 88, \"7\": 91, \"13\": 145, \"8\": 163, \"2\": 69, \"11\": 65, \"5\": 117, \"15\": 129, \"9\": 13, \"12\": 2}, \"14\": {\"13\": 104, \"0\": 96, \"15\": 22, \"7\": 143, \"4\": 104, \"5\": 118, \"3\": 84, \"14\": 168, \"8\": 88, \"2\": 108, \"11\": 154, \"9\": 10, \"12\": 1}, \"15\": {\"15\": 551, \"5\": 86, \"3\": 193, \"8\": 137, \"0\": 41, \"11\": 22, \"14\": 15, \"4\": 36, \"7\": 19, \"13\": 87, \"12\": 1, \"9\": 3, \"2\": 9}, \"11\": {\"11\": 193, \"7\": 139, \"14\": 174, \"3\": 117, \"15\": 35, \"13\": 100, \"4\": 82, \"5\": 96, \"0\": 107, \"8\": 76, \"9\": 9, \"2\": 71, \"6\": 1}, \"10\": {\"1\": 284, \"10\": 474, \"6\": 186, \"12\": 206, \"9\": 50}, \"1\": {\"1\": 530, \"12\": 60, \"10\": 377, \"6\": 224, \"9\": 7, \"2\": 2}}, \"ORACLE.run1_44\": {\"11\": {\"11\": 288, \"9\": 134, \"7\": 98, \"4\": 51, \"2\": 58, \"12\": 21, \"6\": 214, \"13\": 236, \"10\": 18, \"1\": 18, \"3\": 22, \"14\": 31, \"5\": 3, \"8\": 1, \"15\": 5, \"0\": 2}, \"7\": {\"7\": 167, \"13\": 116, \"9\": 134, \"14\": 23, \"11\": 103, \"1\": 78, \"3\": 89, \"12\": 81, \"10\": 103, \"2\": 138, \"6\": 131, \"4\": 28, \"15\": 5, \"8\": 1, \"5\": 3}, \"6\": {\"6\": 249, \"11\": 191, \"2\": 131, \"7\": 152, \"9\": 128, \"13\": 162, \"12\": 28, \"10\": 56, \"1\": 31, \"4\": 28, \"3\": 29, \"14\": 11, \"15\": 2, \"5\": 1, \"0\": 1}, \"12\": {\"1\": 222, \"12\": 278, \"3\": 164, \"2\": 118, \"10\": 208, \"7\": 83, \"6\": 35, \"9\": 44, \"13\": 14, \"11\": 14, \"4\": 10, \"14\": 7, \"0\": 1, \"15\": 2}, \"4\": {\"13\": 88, \"15\": 123, \"4\": 250, \"12\": 8, \"14\": 227, \"8\": 42, \"3\": 31, \"0\": 82, \"5\": 139, \"7\": 29, \"11\": 59, \"9\": 66, \"6\": 29, \"2\": 8, \"1\": 18, \"10\": 1}, \"13\": {\"14\": 47, \"6\": 177, \"12\": 16, \"7\": 123, \"11\": 189, \"9\": 148, \"13\": 208, \"1\": 20, \"15\": 7, \"4\": 91, \"5\": 19, \"2\": 86, \"10\": 35, \"3\": 33, \"0\": 1}, \"8\": {\"0\": 320, \"8\": 363, \"5\": 158, \"15\": 227, \"14\": 79, \"3\": 7, \"4\": 41, \"9\": 1, \"11\": 2, \"7\": 1, \"13\": 1}, \"5\": {\"5\": 263, \"15\": 188, \"0\": 186, \"8\": 162, \"14\": 196, \"6\": 5, \"4\": 144, \"11\": 10, \"13\": 22, \"9\": 17, \"3\": 2, \"7\": 4, \"2\": 1}, \"14\": {\"14\": 229, \"4\": 228, \"8\": 67, \"0\": 109, \"13\": 56, \"15\": 162, \"9\": 51, \"5\": 179, \"3\": 29, \"6\": 20, \"2\": 8, \"11\": 37, \"7\": 13, \"1\": 6, \"10\": 2, \"12\": 4}, \"3\": {\"4\": 39, \"9\": 74, \"12\": 192, \"3\": 258, \"10\": 114, \"2\": 102, \"1\": 201, \"7\": 84, \"13\": 33, \"5\": 4, \"0\": 4, \"11\": 17, \"14\": 36, \"6\": 25, \"15\": 16, \"8\": 1}, \"10\": {\"10\": 258, \"11\": 27, \"1\": 173, \"12\": 213, \"2\": 178, \"3\": 94, \"6\": 67, \"13\": 22, \"15\": 1, \"7\": 93, \"9\": 70, \"4\": 3, \"14\": 1}, \"1\": {\"10\": 174, \"2\": 147, \"12\": 225, \"9\": 61, \"1\": 193, \"7\": 101, \"6\": 40, \"3\": 183, \"13\": 26, \"11\": 21, \"5\": 2, \"14\": 11, \"4\": 15, \"15\": 1}, \"2\": {\"6\": 112, \"2\": 184, \"12\": 139, \"7\": 142, \"1\": 105, \"10\": 182, \"13\": 67, \"11\": 61, \"9\": 97, \"4\": 13, \"14\": 6, \"3\": 91, \"0\": 1}, \"15\": {\"8\": 201, \"15\": 241, \"14\": 170, \"4\": 124, \"5\": 185, \"0\": 232, \"7\": 4, \"3\": 8, \"6\": 4, \"13\": 6, \"9\": 13, \"11\": 5, \"1\": 4, \"2\": 1, \"12\": 2}, \"9\": {\"7\": 135, \"6\": 128, \"9\": 153, \"2\": 124, \"4\": 69, \"10\": 59, \"1\": 69, \"11\": 129, \"12\": 40, \"14\": 33, \"3\": 92, \"13\": 151, \"0\": 3, \"5\": 8, \"15\": 7}, \"0\": {\"15\": 231, \"4\": 75, \"8\": 317, \"0\": 264, \"14\": 103, \"5\": 200, \"13\": 4, \"11\": 1, \"1\": 1, \"3\": 1, \"7\": 1, \"9\": 2}}, \"ORACLE.run1_8\": {\"10\": {\"11\": 75, \"5\": 105, \"13\": 111, \"0\": 96, \"9\": 53, \"14\": 99, \"8\": 40, \"4\": 93, \"12\": 30, \"10\": 100, \"6\": 86, \"1\": 83, \"7\": 93, \"2\": 53, \"15\": 50, \"3\": 33}, \"6\": {\"12\": 71, \"10\": 95, \"3\": 62, \"14\": 63, \"8\": 69, \"13\": 90, \"4\": 97, \"15\": 65, \"2\": 83, \"0\": 93, \"7\": 81, \"6\": 99, \"11\": 61, \"1\": 72, \"5\": 82, \"9\": 17}, \"13\": {\"5\": 97, \"14\": 92, \"6\": 85, \"15\": 44, \"9\": 30, \"7\": 91, \"11\": 71, \"12\": 42, \"13\": 98, \"10\": 99, \"2\": 63, \"0\": 91, \"4\": 96, \"1\": 90, \"8\": 55, \"3\": 56}, \"3\": {\"8\": 112, \"14\": 37, \"15\": 135, \"7\": 77, \"2\": 177, \"13\": 54, \"12\": 141, \"0\": 43, \"11\": 33, \"3\": 183, \"6\": 68, \"10\": 26, \"5\": 22, \"4\": 59, \"1\": 31, \"9\": 2}, \"9\": {\"9\": 741, \"14\": 66, \"10\": 72, \"5\": 84, \"13\": 56, \"11\": 16, \"4\": 28, \"15\": 3, \"7\": 26, \"0\": 57, \"6\": 24, \"1\": 18, \"2\": 6, \"8\": 2, \"3\": 1}, \"1\": {\"3\": 39, \"8\": 82, \"2\": 31, \"10\": 90, \"4\": 80, \"11\": 124, \"12\": 54, \"15\": 65, \"0\": 59, \"5\": 113, \"14\": 82, \"13\": 81, \"9\": 13, \"1\": 136, \"7\": 74, \"6\": 77}, \"5\": {\"1\": 102, \"5\": 141, \"11\": 105, \"0\": 74, \"9\": 61, \"13\": 92, \"12\": 26, \"4\": 92, \"2\": 41, \"6\": 71, \"7\": 66, \"8\": 51, \"10\": 124, \"15\": 35, \"14\": 104, \"3\": 15}, \"11\": {\"6\": 85, \"11\": 178, \"2\": 32, \"8\": 93, \"12\": 64, \"1\": 118, \"4\": 76, \"3\": 38, \"13\": 65, \"14\": 88, \"5\": 85, \"15\": 74, \"10\": 74, \"0\": 55, \"7\": 61, \"9\": 14}, \"4\": {\"3\": 49, \"10\": 85, \"8\": 68, \"0\": 82, \"15\": 57, \"11\": 74, \"4\": 94, \"13\": 95, \"7\": 97, \"12\": 47, \"6\": 86, \"1\": 82, \"14\": 81, \"2\": 83, \"9\": 39, \"5\": 81}, \"14\": {\"8\": 70, \"7\": 77, \"11\": 99, \"6\": 83, \"13\": 103, \"3\": 41, \"4\": 90, \"14\": 87, \"0\": 94, \"9\": 38, \"2\": 35, \"10\": 92, \"1\": 97, \"5\": 108, \"15\": 46, \"12\": 40}, \"12\": {\"13\": 47, \"15\": 167, \"7\": 66, \"3\": 178, \"4\": 38, \"8\": 128, \"11\": 53, \"2\": 122, \"10\": 25, \"12\": 212, \"6\": 64, \"0\": 29, \"1\": 33, \"5\": 13, \"14\": 25}, \"7\": {\"6\": 85, \"7\": 94, \"14\": 62, \"5\": 59, \"10\": 62, \"1\": 72, \"13\": 89, \"8\": 63, \"15\": 86, \"2\": 96, \"11\": 69, \"0\": 91, \"3\": 93, \"12\": 72, \"4\": 91, \"9\": 16}, \"0\": {\"5\": 83, \"7\": 85, \"13\": 109, \"2\": 69, \"12\": 32, \"3\": 57, \"8\": 68, \"11\": 62, \"4\": 109, \"0\": 107, \"14\": 109, \"1\": 55, \"10\": 79, \"6\": 83, \"9\": 42, \"15\": 51}, \"15\": {\"3\": 129, \"2\": 116, \"12\": 145, \"1\": 49, \"6\": 80, \"15\": 159, \"13\": 45, \"0\": 51, \"14\": 42, \"8\": 109, \"7\": 76, \"11\": 64, \"10\": 51, \"4\": 50, \"5\": 34}, \"2\": {\"2\": 155, \"6\": 84, \"3\": 136, \"12\": 126, \"15\": 112, \"14\": 56, \"7\": 91, \"11\": 44, \"1\": 43, \"4\": 64, \"13\": 57, \"8\": 83, \"0\": 80, \"5\": 24, \"10\": 38, \"9\": 7}, \"8\": {\"8\": 125, \"6\": 86, \"4\": 71, \"14\": 69, \"1\": 73, \"3\": 92, \"13\": 46, \"7\": 61, \"12\": 136, \"2\": 82, \"15\": 126, \"0\": 46, \"10\": 45, \"11\": 89, \"5\": 49, \"9\": 4}}, \"ORACLE.run1_38\": {\"4\": {\"4\": 537, \"7\": 88, \"12\": 311, \"11\": 31, \"8\": 39, \"0\": 64, \"10\": 46, \"5\": 33, \"13\": 2, \"3\": 20, \"14\": 19, \"6\": 2, \"15\": 3, \"2\": 2, \"1\": 1, \"9\": 2}, \"7\": {\"6\": 60, \"3\": 132, \"7\": 223, \"0\": 154, \"10\": 67, \"4\": 98, \"12\": 59, \"9\": 57, \"15\": 39, \"5\": 110, \"13\": 21, \"11\": 17, \"8\": 112, \"14\": 16, \"1\": 23, \"2\": 12}, \"12\": {\"12\": 344, \"8\": 47, \"10\": 90, \"4\": 334, \"11\": 85, \"13\": 5, \"5\": 26, \"0\": 47, \"2\": 13, \"14\": 104, \"7\": 64, \"15\": 15, \"3\": 13, \"1\": 8, \"6\": 3, \"9\": 2}, \"10\": {\"5\": 77, \"10\": 117, \"14\": 100, \"9\": 29, \"4\": 55, \"13\": 81, \"7\": 103, \"8\": 112, \"1\": 42, \"12\": 84, \"15\": 86, \"11\": 107, \"6\": 26, \"0\": 82, \"2\": 77, \"3\": 22}, \"0\": {\"10\": 99, \"4\": 61, \"0\": 145, \"3\": 104, \"15\": 56, \"14\": 31, \"13\": 29, \"7\": 166, \"6\": 63, \"5\": 100, \"9\": 68, \"1\": 41, \"8\": 126, \"11\": 33, \"12\": 64, \"2\": 14}, \"1\": {\"5\": 79, \"15\": 157, \"2\": 100, \"7\": 21, \"14\": 32, \"1\": 237, \"9\": 102, \"10\": 56, \"3\": 20, \"11\": 26, \"6\": 100, \"13\": 170, \"0\": 42, \"12\": 3, \"8\": 54, \"4\": 1}, \"5\": {\"4\": 27, \"9\": 94, \"6\": 100, \"8\": 121, \"10\": 76, \"15\": 83, \"3\": 82, \"0\": 117, \"7\": 99, \"13\": 72, \"5\": 110, \"1\": 89, \"2\": 32, \"12\": 34, \"14\": 33, \"11\": 31}, \"15\": {\"5\": 99, \"15\": 140, \"11\": 62, \"9\": 43, \"10\": 105, \"8\": 90, \"0\": 73, \"1\": 132, \"13\": 129, \"12\": 17, \"2\": 108, \"14\": 62, \"7\": 48, \"6\": 76, \"3\": 14, \"4\": 2}, \"9\": {\"1\": 75, \"9\": 261, \"3\": 184, \"5\": 105, \"6\": 215, \"13\": 47, \"8\": 66, \"15\": 50, \"7\": 79, \"10\": 31, \"0\": 64, \"2\": 12, \"4\": 3, \"11\": 1, \"14\": 3, \"12\": 4}, \"11\": {\"11\": 271, \"1\": 34, \"8\": 48, \"4\": 40, \"10\": 107, \"14\": 258, \"12\": 109, \"6\": 8, \"13\": 62, \"15\": 53, \"2\": 124, \"0\": 30, \"5\": 33, \"7\": 18, \"9\": 5}, \"14\": {\"3\": 1, \"13\": 73, \"10\": 123, \"11\": 203, \"14\": 256, \"4\": 29, \"15\": 77, \"1\": 37, \"2\": 161, \"12\": 85, \"5\": 41, \"8\": 38, \"9\": 3, \"7\": 35, \"0\": 32, \"6\": 6}, \"6\": {\"6\": 199, \"3\": 113, \"9\": 220, \"1\": 126, \"13\": 69, \"7\": 81, \"5\": 96, \"15\": 72, \"0\": 76, \"10\": 35, \"8\": 76, \"2\": 19, \"11\": 9, \"12\": 3, \"14\": 4, \"4\": 2}, \"8\": {\"5\": 119, \"3\": 58, \"0\": 130, \"8\": 131, \"1\": 74, \"14\": 37, \"7\": 113, \"13\": 60, \"12\": 51, \"9\": 58, \"10\": 104, \"2\": 39, \"15\": 98, \"6\": 68, \"4\": 30, \"11\": 30}, \"3\": {\"3\": 348, \"8\": 71, \"9\": 177, \"7\": 137, \"5\": 95, \"0\": 116, \"6\": 129, \"13\": 11, \"14\": 3, \"4\": 31, \"1\": 25, \"10\": 23, \"15\": 18, \"12\": 13, \"11\": 2, \"2\": 1}, \"2\": {\"5\": 31, \"13\": 153, \"2\": 308, \"10\": 76, \"6\": 17, \"14\": 160, \"1\": 129, \"8\": 35, \"15\": 115, \"11\": 119, \"4\": 3, \"12\": 9, \"0\": 12, \"9\": 15, \"7\": 17, \"3\": 1}, \"13\": {\"13\": 159, \"5\": 100, \"8\": 82, \"2\": 137, \"15\": 140, \"3\": 12, \"14\": 77, \"7\": 30, \"9\": 46, \"1\": 160, \"0\": 45, \"6\": 55, \"10\": 78, \"11\": 58, \"12\": 15, \"4\": 6}}}, \"per_domain_accuracy\": {\"CORES_4\": {\"accuracy\": 0.9986901197604791, \"source?\": true}, \"CORES_5\": {\"accuracy\": 0.9996508379888268, \"source?\": true}, \"CORES_2\": {\"accuracy\": 0.9996428571428572, \"source?\": true}, \"CORES_1\": {\"accuracy\": 1.0, \"source?\": true}, \"CORES_3\": {\"accuracy\": 0.9988970588235294, \"source?\": true}, \"ORACLE.run1_14\": {\"accuracy\": 0.17182291666666666, \"source?\": false}, \"ORACLE.run1_20\": {\"accuracy\": 0.09354166666666666, \"source?\": false}, \"ORACLE.run1_50\": {\"accuracy\": 0.17572916666666666, \"source?\": false}, \"ORACLE.run1_26\": {\"accuracy\": 0.12140625, \"source?\": false}, \"ORACLE.run1_32\": {\"accuracy\": 0.24546875, \"source?\": false}, \"ORACLE.run1_44\": {\"accuracy\": 0.2003125, \"source?\": false}, \"ORACLE.run1_8\": {\"accuracy\": 0.14109375, \"source?\": false}, \"ORACLE.run1_38\": {\"accuracy\": 0.1971875, \"source?\": false}}}, \"history\": {\"epoch_indices\": [1, 2, 3, 4, 5, 6, 7], \"train_label_loss\": [0.02499479584335536, 0.006677153839069744, 0.004666039392861062, 0.0036045054396734865, 0.0027973093977138605, 0.0028781815182938064, 0.002218368338017866], \"source_val_label_loss\": [0.008161576464772224, 0.011500314809381962, 0.009031277149915695, 0.012437914498150349, 0.011420952156186104, 0.007976316846907139, 0.008680688217282295], \"target_val_label_loss\": [2.7254302501678467, 3.029991865158081, 3.3539865016937256, 3.457608222961426, 3.751879930496216, 3.9569356441497803, 3.931307077407837], \"source_val_acc_label\": [0.9982142857142857, 0.9985714285714286, 0.9993928571428572, 0.9988214285714285, 0.9991428571428571, 0.9993928571428572, 0.9993571428571428], \"target_val_acc_label\": [0.13302734375, 0.143984375, 0.1683203125, 0.16, 0.1674609375, 0.14896484375, 0.157421875]}, \"dataset_metrics\": {\"source\": {\"train\": {\"n_unique_x\": 175174, \"n_unique_y\": 58, \"n_batch/episode\": 6293}, \"val\": {\"n_unique_x\": 37216, \"n_unique_y\": 58, \"n_batch/episode\": 875}, \"test\": {\"n_unique_x\": 37596, \"n_unique_y\": 58, \"n_batch/episode\": 886}}, \"target\": {\"train\": {\"n_unique_x\": 896000, \"n_unique_y\": 16, \"n_batch/episode\": 33600}, \"val\": {\"n_unique_x\": 192000, \"n_unique_y\": 16, \"n_batch/episode\": 4800}, \"test\": {\"n_unique_x\": 192000, \"n_unique_y\": 16, \"n_batch/episode\": 4800}}}}'"
      ]
     },
     "execution_count": 29,
     "metadata": {},
     "output_type": "execute_result"
    }
   ],
   "source": [
    "json.dumps(experiment)"
   ]
  }
 ],
 "metadata": {
  "celltoolbar": "Tags",
  "kernelspec": {
   "display_name": "Python 3 (ipykernel)",
   "language": "python",
   "name": "python3"
  },
  "language_info": {
   "codemirror_mode": {
    "name": "ipython",
    "version": 3
   },
   "file_extension": ".py",
   "mimetype": "text/x-python",
   "name": "python",
   "nbconvert_exporter": "python",
   "pygments_lexer": "ipython3",
   "version": "3.8.12"
  },
  "papermill": {
   "default_parameters": {},
   "duration": 2609.710522,
   "end_time": "2022-03-21T22:59:04.486270",
   "environment_variables": {},
   "exception": null,
   "input_path": "/root/csc500-main/csc500-notebooks/templates/tl_ptn_template.ipynb",
   "output_path": "trial.ipynb",
   "parameters": {
    "parameters": {
     "BEST_MODEL_PATH": "./best_model.pth",
     "NUM_LOGS_PER_EPOCH": 10,
     "criteria_for_best": "target_accuracy",
     "dataset_seed": 420,
     "datasets": [
      {
       "domain_prefix": "CORES_",
       "domains": [
        1,
        2,
        3,
        4,
        5
       ],
       "episode_transforms": [],
       "labels": [
        "1-10.",
        "1-11.",
        "1-15.",
        "1-16.",
        "1-17.",
        "1-18.",
        "1-19.",
        "10-4.",
        "10-7.",
        "11-1.",
        "11-14.",
        "11-17.",
        "11-20.",
        "11-7.",
        "13-20.",
        "13-8.",
        "14-10.",
        "14-11.",
        "14-14.",
        "14-7.",
        "15-1.",
        "15-20.",
        "16-1.",
        "16-16.",
        "17-10.",
        "17-11.",
        "17-2.",
        "19-1.",
        "19-16.",
        "19-19.",
        "19-20.",
        "19-3.",
        "2-10.",
        "2-11.",
        "2-17.",
        "2-18.",
        "2-20.",
        "2-3.",
        "2-4.",
        "2-5.",
        "2-6.",
        "2-7.",
        "2-8.",
        "3-13.",
        "3-18.",
        "3-3.",
        "4-1.",
        "4-10.",
        "4-11.",
        "4-19.",
        "5-5.",
        "6-15.",
        "7-10.",
        "7-14.",
        "8-18.",
        "8-20.",
        "8-3.",
        "8-8."
       ],
       "num_examples_per_domain_per_label": -1,
       "pickle_path": "/root/csc500-main/datasets/cores.stratified_ds.2022A.pkl",
       "source_or_target_dataset": "source",
       "x_transforms": [
        "unit_power"
       ]
      },
      {
       "domain_prefix": "ORACLE.run1_",
       "domains": [
        32,
        38,
        8,
        44,
        14,
        50,
        20,
        26
       ],
       "episode_transforms": [],
       "labels": [
        "3123D52",
        "3123D65",
        "3123D79",
        "3123D80",
        "3123D54",
        "3123D70",
        "3123D7B",
        "3123D89",
        "3123D58",
        "3123D76",
        "3123D7D",
        "3123EFE",
        "3123D64",
        "3123D78",
        "3123D7E",
        "3124E4A"
       ],
       "num_examples_per_domain_per_label": 10000,
       "pickle_path": "/root/csc500-main/datasets/oracle.Run1_10kExamples_stratified_ds.2022A.pkl",
       "source_or_target_dataset": "target",
       "x_transforms": [
        "unit_power"
       ]
      }
     ],
     "device": "cuda",
     "experiment_name": "tl_1v2:cores-oracle.run1",
     "lr": 0.0001,
     "n_epoch": 50,
     "n_query": 2,
     "n_shot": 3,
     "n_way": 16,
     "patience": 3,
     "seed": 420,
     "test_k_factor": 2,
     "torch_default_dtype": "torch.float32",
     "train_k_factor": 3,
     "val_k_factor": 2,
     "x_net": [
      {
       "class": "nnReshape",
       "kargs": {
        "shape": [
         -1,
         1,
         2,
         256
        ]
       }
      },
      {
       "class": "Conv2d",
       "kargs": {
        "bias": false,
        "in_channels": 1,
        "kernel_size": [
         1,
         7
        ],
        "out_channels": 256,
        "padding": [
         0,
         3
        ]
       }
      },
      {
       "class": "ReLU",
       "kargs": {
        "inplace": true
       }
      },
      {
       "class": "BatchNorm2d",
       "kargs": {
        "num_features": 256
       }
      },
      {
       "class": "Conv2d",
       "kargs": {
        "bias": true,
        "in_channels": 256,
        "kernel_size": [
         2,
         7
        ],
        "out_channels": 80,
        "padding": [
         0,
         3
        ]
       }
      },
      {
       "class": "ReLU",
       "kargs": {
        "inplace": true
       }
      },
      {
       "class": "BatchNorm2d",
       "kargs": {
        "num_features": 80
       }
      },
      {
       "class": "Flatten",
       "kargs": {}
      },
      {
       "class": "Linear",
       "kargs": {
        "in_features": 20480,
        "out_features": 256
       }
      },
      {
       "class": "ReLU",
       "kargs": {
        "inplace": true
       }
      },
      {
       "class": "BatchNorm1d",
       "kargs": {
        "num_features": 256
       }
      },
      {
       "class": "Linear",
       "kargs": {
        "in_features": 256,
        "out_features": 256
       }
      }
     ]
    }
   },
   "start_time": "2022-03-21T22:15:34.775748",
   "version": "2.3.4"
  }
 },
 "nbformat": 4,
 "nbformat_minor": 5
}