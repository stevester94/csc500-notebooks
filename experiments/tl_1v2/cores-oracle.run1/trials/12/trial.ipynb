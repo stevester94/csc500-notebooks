{
 "cells": [
  {
   "cell_type": "markdown",
   "id": "9fea5f46",
   "metadata": {
    "papermill": {
     "duration": 0.028758,
     "end_time": "2022-03-22T09:48:27.352405",
     "exception": false,
     "start_time": "2022-03-22T09:48:27.323647",
     "status": "completed"
    },
    "tags": []
   },
   "source": [
    "# Transfer Learning Template"
   ]
  },
  {
   "cell_type": "code",
   "execution_count": 1,
   "id": "0902182a",
   "metadata": {
    "execution": {
     "iopub.execute_input": "2022-03-22T09:48:27.411250Z",
     "iopub.status.busy": "2022-03-22T09:48:27.405466Z",
     "iopub.status.idle": "2022-03-22T09:48:29.321372Z",
     "shell.execute_reply": "2022-03-22T09:48:29.322051Z"
    },
    "papermill": {
     "duration": 1.943728,
     "end_time": "2022-03-22T09:48:29.322372",
     "exception": false,
     "start_time": "2022-03-22T09:48:27.378644",
     "status": "completed"
    },
    "tags": []
   },
   "outputs": [],
   "source": [
    "%load_ext autoreload\n",
    "%autoreload 2\n",
    "%matplotlib inline\n",
    "\n",
    "    \n",
    "import os, json, sys, time, random\n",
    "import numpy as np\n",
    "import torch\n",
    "from torch.optim import Adam\n",
    "from  easydict import EasyDict\n",
    "import matplotlib.pyplot as plt\n",
    "\n",
    "from steves_models.steves_ptn import Steves_Prototypical_Network\n",
    "\n",
    "from steves_utils.lazy_iterable_wrapper import Lazy_Iterable_Wrapper\n",
    "from steves_utils.iterable_aggregator import Iterable_Aggregator\n",
    "from steves_utils.ptn_train_eval_test_jig import  PTN_Train_Eval_Test_Jig\n",
    "from steves_utils.torch_sequential_builder import build_sequential\n",
    "from steves_utils.torch_utils import get_dataset_metrics, ptn_confusion_by_domain_over_dataloader\n",
    "from steves_utils.utils_v2 import (per_domain_accuracy_from_confusion, get_datasets_base_path)\n",
    "from steves_utils.PTN.utils import independent_accuracy_assesment\n",
    "\n",
    "from torch.utils.data import DataLoader\n",
    "\n",
    "from steves_utils.stratified_dataset.episodic_accessor import Episodic_Accessor_Factory\n",
    "\n",
    "from steves_utils.ptn_do_report import (\n",
    "    get_loss_curve,\n",
    "    get_results_table,\n",
    "    get_parameters_table,\n",
    "    get_domain_accuracies,\n",
    ")\n",
    "\n",
    "from steves_utils.transforms import get_chained_transform"
   ]
  },
  {
   "cell_type": "markdown",
   "id": "41c840b4",
   "metadata": {
    "papermill": {
     "duration": 0.020386,
     "end_time": "2022-03-22T09:48:29.371815",
     "exception": false,
     "start_time": "2022-03-22T09:48:29.351429",
     "status": "completed"
    },
    "tags": []
   },
   "source": [
    "# Allowed Parameters\n",
    "These are allowed parameters, not defaults\n",
    "Each of these values need to be present in the injected parameters (the notebook will raise an exception if they are not present)\n",
    "\n",
    "Papermill uses the cell tag \"parameters\" to inject the real parameters below this cell.\n",
    "Enable tags to see what I mean"
   ]
  },
  {
   "cell_type": "code",
   "execution_count": 2,
   "id": "fd44eb83",
   "metadata": {
    "execution": {
     "iopub.execute_input": "2022-03-22T09:48:29.417595Z",
     "iopub.status.busy": "2022-03-22T09:48:29.417200Z",
     "iopub.status.idle": "2022-03-22T09:48:29.439163Z",
     "shell.execute_reply": "2022-03-22T09:48:29.439855Z"
    },
    "papermill": {
     "duration": 0.048345,
     "end_time": "2022-03-22T09:48:29.440052",
     "exception": false,
     "start_time": "2022-03-22T09:48:29.391707",
     "status": "completed"
    },
    "tags": []
   },
   "outputs": [],
   "source": [
    "required_parameters = {\n",
    "    \"experiment_name\",\n",
    "    \"lr\",\n",
    "    \"device\",\n",
    "    \"seed\",\n",
    "    \"dataset_seed\",\n",
    "    \"n_shot\",\n",
    "    \"n_query\",\n",
    "    \"n_way\",\n",
    "    \"train_k_factor\",\n",
    "    \"val_k_factor\",\n",
    "    \"test_k_factor\",\n",
    "    \"n_epoch\",\n",
    "    \"patience\",\n",
    "    \"criteria_for_best\",\n",
    "    \"x_net\",\n",
    "    \"datasets\",\n",
    "    \"torch_default_dtype\",\n",
    "    \"NUM_LOGS_PER_EPOCH\",\n",
    "    \"BEST_MODEL_PATH\",\n",
    "    \"x_shape\",\n",
    "}"
   ]
  },
  {
   "cell_type": "code",
   "execution_count": 3,
   "id": "fa3f0049",
   "metadata": {
    "execution": {
     "iopub.execute_input": "2022-03-22T09:48:29.504110Z",
     "iopub.status.busy": "2022-03-22T09:48:29.503171Z",
     "iopub.status.idle": "2022-03-22T09:48:29.520272Z",
     "shell.execute_reply": "2022-03-22T09:48:29.520941Z"
    },
    "papermill": {
     "duration": 0.053973,
     "end_time": "2022-03-22T09:48:29.521139",
     "exception": false,
     "start_time": "2022-03-22T09:48:29.467166",
     "status": "completed"
    },
    "tags": [
     "parameters"
    ]
   },
   "outputs": [],
   "source": [
    "from steves_utils.CORES.utils import (\n",
    "    ALL_NODES,\n",
    "    ALL_NODES_MINIMUM_1000_EXAMPLES,\n",
    "    ALL_DAYS\n",
    ")\n",
    "\n",
    "from steves_utils.ORACLE.utils_v2 import (\n",
    "    ALL_DISTANCES_FEET_NARROWED,\n",
    "    ALL_RUNS,\n",
    "    ALL_SERIAL_NUMBERS,\n",
    ")\n",
    "\n",
    "standalone_parameters = {}\n",
    "standalone_parameters[\"experiment_name\"] = \"STANDALONE PTN\"\n",
    "standalone_parameters[\"lr\"] = 0.001\n",
    "standalone_parameters[\"device\"] = \"cuda\"\n",
    "\n",
    "standalone_parameters[\"seed\"] = 1337\n",
    "standalone_parameters[\"dataset_seed\"] = 1337\n",
    "\n",
    "standalone_parameters[\"n_way\"] = 8\n",
    "standalone_parameters[\"n_shot\"] = 3\n",
    "standalone_parameters[\"n_query\"]  = 2\n",
    "standalone_parameters[\"train_k_factor\"] = 1\n",
    "standalone_parameters[\"val_k_factor\"] = 2\n",
    "standalone_parameters[\"test_k_factor\"] = 2\n",
    "\n",
    "\n",
    "standalone_parameters[\"n_epoch\"] = 50\n",
    "\n",
    "standalone_parameters[\"patience\"] = 10\n",
    "standalone_parameters[\"criteria_for_best\"] = \"source_loss\"\n",
    "\n",
    "standalone_parameters[\"datasets\"] = [\n",
    "    {\n",
    "        \"labels\": ALL_SERIAL_NUMBERS,\n",
    "        \"domains\": ALL_DISTANCES_FEET_NARROWED,\n",
    "        \"num_examples_per_domain_per_label\": 100,\n",
    "        \"pickle_path\": os.path.join(get_datasets_base_path(), \"oracle.Run1_framed_2000Examples_stratified_ds.2022A.pkl\"),\n",
    "        \"source_or_target_dataset\": \"source\",\n",
    "        \"x_transforms\": [\"unit_mag\", \"minus_two\"],\n",
    "        \"episode_transforms\": [],\n",
    "        \"domain_prefix\": \"ORACLE_\"\n",
    "    },\n",
    "    {\n",
    "        \"labels\": ALL_NODES,\n",
    "        \"domains\": ALL_DAYS,\n",
    "        \"num_examples_per_domain_per_label\": 100,\n",
    "        \"pickle_path\": os.path.join(get_datasets_base_path(), \"cores.stratified_ds.2022A.pkl\"),\n",
    "        \"source_or_target_dataset\": \"target\",\n",
    "        \"x_transforms\": [\"unit_power\", \"times_zero\"],\n",
    "        \"episode_transforms\": [],\n",
    "        \"domain_prefix\": \"CORES_\"\n",
    "    }   \n",
    "]\n",
    "\n",
    "standalone_parameters[\"torch_default_dtype\"] = \"torch.float32\" \n",
    "\n",
    "\n",
    "\n",
    "standalone_parameters[\"x_net\"] =     [\n",
    "    {\"class\": \"nnReshape\", \"kargs\": {\"shape\":[-1, 1, 2, 256]}},\n",
    "    {\"class\": \"Conv2d\", \"kargs\": { \"in_channels\":1, \"out_channels\":256, \"kernel_size\":(1,7), \"bias\":False, \"padding\":(0,3), },},\n",
    "    {\"class\": \"ReLU\", \"kargs\": {\"inplace\": True}},\n",
    "    {\"class\": \"BatchNorm2d\", \"kargs\": {\"num_features\":256}},\n",
    "\n",
    "    {\"class\": \"Conv2d\", \"kargs\": { \"in_channels\":256, \"out_channels\":80, \"kernel_size\":(2,7), \"bias\":True, \"padding\":(0,3), },},\n",
    "    {\"class\": \"ReLU\", \"kargs\": {\"inplace\": True}},\n",
    "    {\"class\": \"BatchNorm2d\", \"kargs\": {\"num_features\":80}},\n",
    "    {\"class\": \"Flatten\", \"kargs\": {}},\n",
    "\n",
    "    {\"class\": \"Linear\", \"kargs\": {\"in_features\": 80*256, \"out_features\": 256}}, # 80 units per IQ pair\n",
    "    {\"class\": \"ReLU\", \"kargs\": {\"inplace\": True}},\n",
    "    {\"class\": \"BatchNorm1d\", \"kargs\": {\"num_features\":256}},\n",
    "\n",
    "    {\"class\": \"Linear\", \"kargs\": {\"in_features\": 256, \"out_features\": 256}},\n",
    "]\n",
    "\n",
    "# Parameters relevant to results\n",
    "# These parameters will basically never need to change\n",
    "standalone_parameters[\"NUM_LOGS_PER_EPOCH\"] = 10\n",
    "standalone_parameters[\"BEST_MODEL_PATH\"] = \"./best_model.pth\"\n",
    "\n",
    "\n",
    "\n",
    "\n"
   ]
  },
  {
   "cell_type": "code",
   "execution_count": 4,
   "id": "f424c472",
   "metadata": {
    "execution": {
     "iopub.execute_input": "2022-03-22T09:48:29.579501Z",
     "iopub.status.busy": "2022-03-22T09:48:29.568726Z",
     "iopub.status.idle": "2022-03-22T09:48:29.599601Z",
     "shell.execute_reply": "2022-03-22T09:48:29.598754Z"
    },
    "papermill": {
     "duration": 0.05408,
     "end_time": "2022-03-22T09:48:29.599767",
     "exception": false,
     "start_time": "2022-03-22T09:48:29.545687",
     "status": "completed"
    },
    "tags": [
     "injected-parameters"
    ]
   },
   "outputs": [],
   "source": [
    "# Parameters\n",
    "parameters = {\n",
    "    \"experiment_name\": \"tl_1v2:cores-oracle.run1\",\n",
    "    \"device\": \"cuda\",\n",
    "    \"lr\": 0.0001,\n",
    "    \"n_shot\": 3,\n",
    "    \"n_query\": 2,\n",
    "    \"train_k_factor\": 3,\n",
    "    \"val_k_factor\": 2,\n",
    "    \"test_k_factor\": 2,\n",
    "    \"torch_default_dtype\": \"torch.float32\",\n",
    "    \"n_epoch\": 50,\n",
    "    \"patience\": 3,\n",
    "    \"criteria_for_best\": \"target_accuracy\",\n",
    "    \"x_net\": [\n",
    "        {\"class\": \"nnReshape\", \"kargs\": {\"shape\": [-1, 1, 2, 256]}},\n",
    "        {\n",
    "            \"class\": \"Conv2d\",\n",
    "            \"kargs\": {\n",
    "                \"in_channels\": 1,\n",
    "                \"out_channels\": 256,\n",
    "                \"kernel_size\": [1, 7],\n",
    "                \"bias\": False,\n",
    "                \"padding\": [0, 3],\n",
    "            },\n",
    "        },\n",
    "        {\"class\": \"ReLU\", \"kargs\": {\"inplace\": True}},\n",
    "        {\"class\": \"BatchNorm2d\", \"kargs\": {\"num_features\": 256}},\n",
    "        {\n",
    "            \"class\": \"Conv2d\",\n",
    "            \"kargs\": {\n",
    "                \"in_channels\": 256,\n",
    "                \"out_channels\": 80,\n",
    "                \"kernel_size\": [2, 7],\n",
    "                \"bias\": True,\n",
    "                \"padding\": [0, 3],\n",
    "            },\n",
    "        },\n",
    "        {\"class\": \"ReLU\", \"kargs\": {\"inplace\": True}},\n",
    "        {\"class\": \"BatchNorm2d\", \"kargs\": {\"num_features\": 80}},\n",
    "        {\"class\": \"Flatten\", \"kargs\": {}},\n",
    "        {\"class\": \"Linear\", \"kargs\": {\"in_features\": 20480, \"out_features\": 256}},\n",
    "        {\"class\": \"ReLU\", \"kargs\": {\"inplace\": True}},\n",
    "        {\"class\": \"BatchNorm1d\", \"kargs\": {\"num_features\": 256}},\n",
    "        {\"class\": \"Linear\", \"kargs\": {\"in_features\": 256, \"out_features\": 256}},\n",
    "    ],\n",
    "    \"NUM_LOGS_PER_EPOCH\": 10,\n",
    "    \"BEST_MODEL_PATH\": \"./best_model.pth\",\n",
    "    \"n_way\": 16,\n",
    "    \"datasets\": [\n",
    "        {\n",
    "            \"labels\": [\n",
    "                \"1-10.\",\n",
    "                \"1-11.\",\n",
    "                \"1-15.\",\n",
    "                \"1-16.\",\n",
    "                \"1-17.\",\n",
    "                \"1-18.\",\n",
    "                \"1-19.\",\n",
    "                \"10-4.\",\n",
    "                \"10-7.\",\n",
    "                \"11-1.\",\n",
    "                \"11-14.\",\n",
    "                \"11-17.\",\n",
    "                \"11-20.\",\n",
    "                \"11-7.\",\n",
    "                \"13-20.\",\n",
    "                \"13-8.\",\n",
    "                \"14-10.\",\n",
    "                \"14-11.\",\n",
    "                \"14-14.\",\n",
    "                \"14-7.\",\n",
    "                \"15-1.\",\n",
    "                \"15-20.\",\n",
    "                \"16-1.\",\n",
    "                \"16-16.\",\n",
    "                \"17-10.\",\n",
    "                \"17-11.\",\n",
    "                \"17-2.\",\n",
    "                \"19-1.\",\n",
    "                \"19-16.\",\n",
    "                \"19-19.\",\n",
    "                \"19-20.\",\n",
    "                \"19-3.\",\n",
    "                \"2-10.\",\n",
    "                \"2-11.\",\n",
    "                \"2-17.\",\n",
    "                \"2-18.\",\n",
    "                \"2-20.\",\n",
    "                \"2-3.\",\n",
    "                \"2-4.\",\n",
    "                \"2-5.\",\n",
    "                \"2-6.\",\n",
    "                \"2-7.\",\n",
    "                \"2-8.\",\n",
    "                \"3-13.\",\n",
    "                \"3-18.\",\n",
    "                \"3-3.\",\n",
    "                \"4-1.\",\n",
    "                \"4-10.\",\n",
    "                \"4-11.\",\n",
    "                \"4-19.\",\n",
    "                \"5-5.\",\n",
    "                \"6-15.\",\n",
    "                \"7-10.\",\n",
    "                \"7-14.\",\n",
    "                \"8-18.\",\n",
    "                \"8-20.\",\n",
    "                \"8-3.\",\n",
    "                \"8-8.\",\n",
    "            ],\n",
    "            \"domains\": [1, 2, 3, 4, 5],\n",
    "            \"num_examples_per_domain_per_label\": -1,\n",
    "            \"pickle_path\": \"/root/csc500-main/datasets/cores.stratified_ds.2022A.pkl\",\n",
    "            \"source_or_target_dataset\": \"source\",\n",
    "            \"x_transforms\": [\"unit_power\"],\n",
    "            \"episode_transforms\": [],\n",
    "            \"domain_prefix\": \"CORES_\",\n",
    "        },\n",
    "        {\n",
    "            \"labels\": [\n",
    "                \"3123D52\",\n",
    "                \"3123D65\",\n",
    "                \"3123D79\",\n",
    "                \"3123D80\",\n",
    "                \"3123D54\",\n",
    "                \"3123D70\",\n",
    "                \"3123D7B\",\n",
    "                \"3123D89\",\n",
    "                \"3123D58\",\n",
    "                \"3123D76\",\n",
    "                \"3123D7D\",\n",
    "                \"3123EFE\",\n",
    "                \"3123D64\",\n",
    "                \"3123D78\",\n",
    "                \"3123D7E\",\n",
    "                \"3124E4A\",\n",
    "            ],\n",
    "            \"domains\": [32, 38, 8, 44, 14, 50, 20, 26],\n",
    "            \"num_examples_per_domain_per_label\": 10000,\n",
    "            \"pickle_path\": \"/root/csc500-main/datasets/oracle.Run1_10kExamples_stratified_ds.2022A.pkl\",\n",
    "            \"source_or_target_dataset\": \"target\",\n",
    "            \"x_transforms\": [\"unit_power\"],\n",
    "            \"episode_transforms\": [],\n",
    "            \"domain_prefix\": \"ORACLE.run1_\",\n",
    "        },\n",
    "    ],\n",
    "    \"dataset_seed\": 154325,\n",
    "    \"seed\": 154325,\n",
    "}\n"
   ]
  },
  {
   "cell_type": "code",
   "execution_count": 5,
   "id": "8fa1cc33",
   "metadata": {
    "execution": {
     "iopub.execute_input": "2022-03-22T09:48:29.653524Z",
     "iopub.status.busy": "2022-03-22T09:48:29.652779Z",
     "iopub.status.idle": "2022-03-22T09:48:29.673615Z",
     "shell.execute_reply": "2022-03-22T09:48:29.672811Z"
    },
    "papermill": {
     "duration": 0.048316,
     "end_time": "2022-03-22T09:48:29.673793",
     "exception": false,
     "start_time": "2022-03-22T09:48:29.625477",
     "status": "completed"
    },
    "tags": []
   },
   "outputs": [],
   "source": [
    "# Set this to True if you want to run this template directly\n",
    "STANDALONE = False\n",
    "if STANDALONE:\n",
    "    print(\"parameters not injected, running with standalone_parameters\")\n",
    "    parameters = standalone_parameters\n",
    "\n",
    "if not 'parameters' in locals() and not 'parameters' in globals():\n",
    "    raise Exception(\"Parameter injection failed\")\n",
    "\n",
    "#Use an easy dict for all the parameters\n",
    "p = EasyDict(parameters)\n",
    "\n",
    "if \"x_shape\" not in p:\n",
    "    p.x_shape = [2,256] # Default to this if we dont supply x_shape\n",
    "\n",
    "\n",
    "supplied_keys = set(p.keys())\n",
    "\n",
    "if  supplied_keys != required_parameters:\n",
    "    print(\"Parameters are incorrect\")\n",
    "    if len(supplied_keys - required_parameters)>0: print(\"Shouldn't have:\", str(supplied_keys - required_parameters))\n",
    "    if len(required_parameters - supplied_keys)>0: print(\"Need to have:\", str(required_parameters - supplied_keys))\n",
    "    raise RuntimeError(\"Parameters are incorrect\")"
   ]
  },
  {
   "cell_type": "code",
   "execution_count": 6,
   "id": "3a028d58",
   "metadata": {
    "execution": {
     "iopub.execute_input": "2022-03-22T09:48:29.725540Z",
     "iopub.status.busy": "2022-03-22T09:48:29.724969Z",
     "iopub.status.idle": "2022-03-22T09:48:29.746862Z",
     "shell.execute_reply": "2022-03-22T09:48:29.746157Z"
    },
    "papermill": {
     "duration": 0.045961,
     "end_time": "2022-03-22T09:48:29.747022",
     "exception": false,
     "start_time": "2022-03-22T09:48:29.701061",
     "status": "completed"
    },
    "tags": []
   },
   "outputs": [],
   "source": [
    "###################################\n",
    "# Set the RNGs and make it all deterministic\n",
    "###################################\n",
    "np.random.seed(p.seed)\n",
    "random.seed(p.seed)\n",
    "torch.manual_seed(p.seed)\n",
    "\n",
    "torch.use_deterministic_algorithms(True) "
   ]
  },
  {
   "cell_type": "code",
   "execution_count": 7,
   "id": "b691acf6",
   "metadata": {
    "execution": {
     "iopub.execute_input": "2022-03-22T09:48:29.799672Z",
     "iopub.status.busy": "2022-03-22T09:48:29.798770Z",
     "iopub.status.idle": "2022-03-22T09:48:29.821696Z",
     "shell.execute_reply": "2022-03-22T09:48:29.820888Z"
    },
    "papermill": {
     "duration": 0.046749,
     "end_time": "2022-03-22T09:48:29.821859",
     "exception": false,
     "start_time": "2022-03-22T09:48:29.775110",
     "status": "completed"
    },
    "tags": []
   },
   "outputs": [],
   "source": [
    "###########################################\n",
    "# The stratified datasets honor this\n",
    "###########################################\n",
    "torch.set_default_dtype(eval(p.torch_default_dtype))"
   ]
  },
  {
   "cell_type": "code",
   "execution_count": 8,
   "id": "b5fba671",
   "metadata": {
    "execution": {
     "iopub.execute_input": "2022-03-22T09:48:29.870264Z",
     "iopub.status.busy": "2022-03-22T09:48:29.869568Z",
     "iopub.status.idle": "2022-03-22T09:48:29.920682Z",
     "shell.execute_reply": "2022-03-22T09:48:29.919959Z"
    },
    "papermill": {
     "duration": 0.07277,
     "end_time": "2022-03-22T09:48:29.920851",
     "exception": false,
     "start_time": "2022-03-22T09:48:29.848081",
     "status": "completed"
    },
    "tags": []
   },
   "outputs": [],
   "source": [
    "###################################\n",
    "# Build the network(s)\n",
    "# Note: It's critical to do this AFTER setting the RNG\n",
    "###################################\n",
    "x_net = build_sequential(p.x_net)"
   ]
  },
  {
   "cell_type": "code",
   "execution_count": 9,
   "id": "5d7e61cc",
   "metadata": {
    "execution": {
     "iopub.execute_input": "2022-03-22T09:48:29.970510Z",
     "iopub.status.busy": "2022-03-22T09:48:29.969717Z",
     "iopub.status.idle": "2022-03-22T09:48:29.992165Z",
     "shell.execute_reply": "2022-03-22T09:48:29.991339Z"
    },
    "papermill": {
     "duration": 0.046049,
     "end_time": "2022-03-22T09:48:29.992325",
     "exception": false,
     "start_time": "2022-03-22T09:48:29.946276",
     "status": "completed"
    },
    "tags": []
   },
   "outputs": [],
   "source": [
    "start_time_secs = time.time()"
   ]
  },
  {
   "cell_type": "code",
   "execution_count": 10,
   "id": "c6b67dfd",
   "metadata": {
    "execution": {
     "iopub.execute_input": "2022-03-22T09:48:30.046326Z",
     "iopub.status.busy": "2022-03-22T09:48:30.045950Z",
     "iopub.status.idle": "2022-03-22T09:48:30.063173Z",
     "shell.execute_reply": "2022-03-22T09:48:30.062471Z"
    },
    "papermill": {
     "duration": 0.040208,
     "end_time": "2022-03-22T09:48:30.063336",
     "exception": false,
     "start_time": "2022-03-22T09:48:30.023128",
     "status": "completed"
    },
    "tags": []
   },
   "outputs": [],
   "source": [
    "p.domains_source = []\n",
    "p.domains_target = []\n",
    "\n",
    "\n",
    "train_original_source = []\n",
    "val_original_source   = []\n",
    "test_original_source  = []\n",
    "\n",
    "train_original_target = []\n",
    "val_original_target   = []\n",
    "test_original_target  = []"
   ]
  },
  {
   "cell_type": "code",
   "execution_count": 11,
   "id": "e3d9c3d3",
   "metadata": {
    "execution": {
     "iopub.execute_input": "2022-03-22T09:48:30.115061Z",
     "iopub.status.busy": "2022-03-22T09:48:30.114688Z",
     "iopub.status.idle": "2022-03-22T09:48:30.134857Z",
     "shell.execute_reply": "2022-03-22T09:48:30.134064Z"
    },
    "papermill": {
     "duration": 0.04358,
     "end_time": "2022-03-22T09:48:30.135020",
     "exception": false,
     "start_time": "2022-03-22T09:48:30.091440",
     "status": "completed"
    },
    "tags": []
   },
   "outputs": [],
   "source": [
    "# global_x_transform_func = lambda x: normalize(x.to(torch.get_default_dtype()), \"unit_power\") # unit_power, unit_mag\n",
    "# global_x_transform_func = lambda x: normalize(x, \"unit_power\") # unit_power, unit_mag"
   ]
  },
  {
   "cell_type": "code",
   "execution_count": 12,
   "id": "acb78fd2",
   "metadata": {
    "execution": {
     "iopub.execute_input": "2022-03-22T09:48:30.194730Z",
     "iopub.status.busy": "2022-03-22T09:48:30.184721Z",
     "iopub.status.idle": "2022-03-22T09:48:30.215023Z",
     "shell.execute_reply": "2022-03-22T09:48:30.214176Z"
    },
    "papermill": {
     "duration": 0.052698,
     "end_time": "2022-03-22T09:48:30.215208",
     "exception": false,
     "start_time": "2022-03-22T09:48:30.162510",
     "status": "completed"
    },
    "tags": []
   },
   "outputs": [],
   "source": [
    "def add_dataset(\n",
    "    labels,\n",
    "    domains,\n",
    "    pickle_path,\n",
    "    x_transforms,\n",
    "    episode_transforms,\n",
    "    domain_prefix,\n",
    "    num_examples_per_domain_per_label,\n",
    "    source_or_target_dataset:str,\n",
    "    iterator_seed=p.seed,\n",
    "    dataset_seed=p.dataset_seed,\n",
    "    n_shot=p.n_shot,\n",
    "    n_way=p.n_way,\n",
    "    n_query=p.n_query,\n",
    "    train_val_test_k_factors=(p.train_k_factor,p.val_k_factor,p.test_k_factor),\n",
    "):\n",
    "   \n",
    "    if x_transforms == []: x_transform = None\n",
    "    else: x_transform = get_chained_transform(x_transforms)\n",
    "    \n",
    "    if episode_transforms == []: episode_transform = None\n",
    "    else: raise Exception(\"episode_transforms not implemented\")\n",
    "    \n",
    "    episode_transform = lambda tup, _prefix=domain_prefix: (_prefix + str(tup[0]), tup[1])\n",
    "\n",
    "\n",
    "    eaf = Episodic_Accessor_Factory(\n",
    "        labels=labels,\n",
    "        domains=domains,\n",
    "        num_examples_per_domain_per_label=num_examples_per_domain_per_label,\n",
    "        iterator_seed=iterator_seed,\n",
    "        dataset_seed=dataset_seed,\n",
    "        n_shot=n_shot,\n",
    "        n_way=n_way,\n",
    "        n_query=n_query,\n",
    "        train_val_test_k_factors=train_val_test_k_factors,\n",
    "        pickle_path=pickle_path,\n",
    "        x_transform_func=x_transform,\n",
    "    )\n",
    "\n",
    "    train, val, test = eaf.get_train(), eaf.get_val(), eaf.get_test()\n",
    "    train = Lazy_Iterable_Wrapper(train, episode_transform)\n",
    "    val = Lazy_Iterable_Wrapper(val, episode_transform)\n",
    "    test = Lazy_Iterable_Wrapper(test, episode_transform)\n",
    "\n",
    "    if source_or_target_dataset==\"source\":\n",
    "        train_original_source.append(train)\n",
    "        val_original_source.append(val)\n",
    "        test_original_source.append(test)\n",
    "\n",
    "        p.domains_source.extend(\n",
    "            [domain_prefix + str(u) for u in domains]\n",
    "        )\n",
    "    elif source_or_target_dataset==\"target\":\n",
    "        train_original_target.append(train)\n",
    "        val_original_target.append(val)\n",
    "        test_original_target.append(test)\n",
    "        p.domains_target.extend(\n",
    "            [domain_prefix + str(u) for u in domains]\n",
    "        )\n",
    "    else:\n",
    "        raise Exception(f\"invalid source_or_target_dataset: {source_or_target_dataset}\")\n",
    "    "
   ]
  },
  {
   "cell_type": "code",
   "execution_count": 13,
   "id": "fe266617",
   "metadata": {
    "execution": {
     "iopub.execute_input": "2022-03-22T09:48:30.264796Z",
     "iopub.status.busy": "2022-03-22T09:48:30.264365Z",
     "iopub.status.idle": "2022-03-22T09:50:39.388482Z",
     "shell.execute_reply": "2022-03-22T09:50:39.387717Z"
    },
    "papermill": {
     "duration": 129.147304,
     "end_time": "2022-03-22T09:50:39.388658",
     "exception": false,
     "start_time": "2022-03-22T09:48:30.241354",
     "status": "completed"
    },
    "tags": []
   },
   "outputs": [],
   "source": [
    "for ds in p.datasets:\n",
    "    add_dataset(**ds)"
   ]
  },
  {
   "cell_type": "code",
   "execution_count": 14,
   "id": "b90d65ac",
   "metadata": {
    "execution": {
     "iopub.execute_input": "2022-03-22T09:50:39.439369Z",
     "iopub.status.busy": "2022-03-22T09:50:39.438985Z",
     "iopub.status.idle": "2022-03-22T09:50:39.463097Z",
     "shell.execute_reply": "2022-03-22T09:50:39.462273Z"
    },
    "papermill": {
     "duration": 0.048965,
     "end_time": "2022-03-22T09:50:39.463264",
     "exception": false,
     "start_time": "2022-03-22T09:50:39.414299",
     "status": "completed"
    },
    "tags": []
   },
   "outputs": [],
   "source": [
    "# from steves_utils.CORES.utils import (\n",
    "#     ALL_NODES,\n",
    "#     ALL_NODES_MINIMUM_1000_EXAMPLES,\n",
    "#     ALL_DAYS\n",
    "# )\n",
    "\n",
    "# add_dataset(\n",
    "#     labels=ALL_NODES,\n",
    "#     domains = ALL_DAYS,\n",
    "#     num_examples_per_domain_per_label=100,\n",
    "#     pickle_path=os.path.join(get_datasets_base_path(), \"cores.stratified_ds.2022A.pkl\"),\n",
    "#     source_or_target_dataset=\"target\",\n",
    "#     x_transform_func=global_x_transform_func,\n",
    "#     domain_modifier=lambda u: f\"cores_{u}\"\n",
    "# )"
   ]
  },
  {
   "cell_type": "code",
   "execution_count": 15,
   "id": "76db484d",
   "metadata": {
    "execution": {
     "iopub.execute_input": "2022-03-22T09:50:39.517036Z",
     "iopub.status.busy": "2022-03-22T09:50:39.516375Z",
     "iopub.status.idle": "2022-03-22T09:50:39.539110Z",
     "shell.execute_reply": "2022-03-22T09:50:39.538294Z"
    },
    "papermill": {
     "duration": 0.047334,
     "end_time": "2022-03-22T09:50:39.539271",
     "exception": false,
     "start_time": "2022-03-22T09:50:39.491937",
     "status": "completed"
    },
    "tags": []
   },
   "outputs": [],
   "source": [
    "# from steves_utils.ORACLE.utils_v2 import (\n",
    "#     ALL_DISTANCES_FEET,\n",
    "#     ALL_RUNS,\n",
    "#     ALL_SERIAL_NUMBERS,\n",
    "# )\n",
    "\n",
    "\n",
    "# add_dataset(\n",
    "#     labels=ALL_SERIAL_NUMBERS,\n",
    "#     domains = list(set(ALL_DISTANCES_FEET) - {2,62}),\n",
    "#     num_examples_per_domain_per_label=100,\n",
    "#     pickle_path=os.path.join(get_datasets_base_path(), \"oracle.Run2_framed_2000Examples_stratified_ds.2022A.pkl\"),\n",
    "#     source_or_target_dataset=\"source\",\n",
    "#     x_transform_func=global_x_transform_func,\n",
    "#     domain_modifier=lambda u: f\"oracle1_{u}\"\n",
    "# )\n"
   ]
  },
  {
   "cell_type": "code",
   "execution_count": 16,
   "id": "97dea9d2",
   "metadata": {
    "execution": {
     "iopub.execute_input": "2022-03-22T09:50:39.594998Z",
     "iopub.status.busy": "2022-03-22T09:50:39.594623Z",
     "iopub.status.idle": "2022-03-22T09:50:39.619721Z",
     "shell.execute_reply": "2022-03-22T09:50:39.618846Z"
    },
    "papermill": {
     "duration": 0.049355,
     "end_time": "2022-03-22T09:50:39.619887",
     "exception": false,
     "start_time": "2022-03-22T09:50:39.570532",
     "status": "completed"
    },
    "tags": []
   },
   "outputs": [],
   "source": [
    "# from steves_utils.ORACLE.utils_v2 import (\n",
    "#     ALL_DISTANCES_FEET,\n",
    "#     ALL_RUNS,\n",
    "#     ALL_SERIAL_NUMBERS,\n",
    "# )\n",
    "\n",
    "\n",
    "# add_dataset(\n",
    "#     labels=ALL_SERIAL_NUMBERS,\n",
    "#     domains = list(set(ALL_DISTANCES_FEET) - {2,62,56}),\n",
    "#     num_examples_per_domain_per_label=100,\n",
    "#     pickle_path=os.path.join(get_datasets_base_path(), \"oracle.Run2_framed_2000Examples_stratified_ds.2022A.pkl\"),\n",
    "#     source_or_target_dataset=\"source\",\n",
    "#     x_transform_func=global_x_transform_func,\n",
    "#     domain_modifier=lambda u: f\"oracle2_{u}\"\n",
    "# )"
   ]
  },
  {
   "cell_type": "code",
   "execution_count": 17,
   "id": "6f289866",
   "metadata": {
    "execution": {
     "iopub.execute_input": "2022-03-22T09:50:39.672215Z",
     "iopub.status.busy": "2022-03-22T09:50:39.671838Z",
     "iopub.status.idle": "2022-03-22T09:50:39.696432Z",
     "shell.execute_reply": "2022-03-22T09:50:39.695626Z"
    },
    "papermill": {
     "duration": 0.04856,
     "end_time": "2022-03-22T09:50:39.696594",
     "exception": false,
     "start_time": "2022-03-22T09:50:39.648034",
     "status": "completed"
    },
    "tags": []
   },
   "outputs": [],
   "source": [
    "# add_dataset(\n",
    "#     labels=list(range(19)),\n",
    "#     domains = [0,1,2],\n",
    "#     num_examples_per_domain_per_label=100,\n",
    "#     pickle_path=os.path.join(get_datasets_base_path(), \"metehan.stratified_ds.2022A.pkl\"),\n",
    "#     source_or_target_dataset=\"target\",\n",
    "#     x_transform_func=global_x_transform_func,\n",
    "#     domain_modifier=lambda u: f\"met_{u}\"\n",
    "# )"
   ]
  },
  {
   "cell_type": "code",
   "execution_count": 18,
   "id": "86a863c3",
   "metadata": {
    "execution": {
     "iopub.execute_input": "2022-03-22T09:50:39.747078Z",
     "iopub.status.busy": "2022-03-22T09:50:39.746514Z",
     "iopub.status.idle": "2022-03-22T09:50:39.771912Z",
     "shell.execute_reply": "2022-03-22T09:50:39.771089Z"
    },
    "papermill": {
     "duration": 0.049912,
     "end_time": "2022-03-22T09:50:39.772076",
     "exception": false,
     "start_time": "2022-03-22T09:50:39.722164",
     "status": "completed"
    },
    "tags": []
   },
   "outputs": [],
   "source": [
    "# # from steves_utils.wisig.utils import (\n",
    "# #     ALL_NODES_MINIMUM_100_EXAMPLES,\n",
    "# #     ALL_NODES_MINIMUM_500_EXAMPLES,\n",
    "# #     ALL_NODES_MINIMUM_1000_EXAMPLES,\n",
    "# #     ALL_DAYS\n",
    "# # )\n",
    "\n",
    "# import steves_utils.wisig.utils as wisig\n",
    "\n",
    "\n",
    "# add_dataset(\n",
    "#     labels=wisig.ALL_NODES_MINIMUM_100_EXAMPLES,\n",
    "#     domains = wisig.ALL_DAYS,\n",
    "#     num_examples_per_domain_per_label=100,\n",
    "#     pickle_path=os.path.join(get_datasets_base_path(), \"wisig.node3-19.stratified_ds.2022A.pkl\"),\n",
    "#     source_or_target_dataset=\"target\",\n",
    "#     x_transform_func=global_x_transform_func,\n",
    "#     domain_modifier=lambda u: f\"wisig_{u}\"\n",
    "# )"
   ]
  },
  {
   "cell_type": "code",
   "execution_count": 19,
   "id": "fd5442bc",
   "metadata": {
    "execution": {
     "iopub.execute_input": "2022-03-22T09:50:39.831757Z",
     "iopub.status.busy": "2022-03-22T09:50:39.831332Z",
     "iopub.status.idle": "2022-03-22T09:50:39.853851Z",
     "shell.execute_reply": "2022-03-22T09:50:39.853125Z"
    },
    "papermill": {
     "duration": 0.05213,
     "end_time": "2022-03-22T09:50:39.854015",
     "exception": false,
     "start_time": "2022-03-22T09:50:39.801885",
     "status": "completed"
    },
    "tags": []
   },
   "outputs": [],
   "source": [
    "###################################\n",
    "# Build the dataset\n",
    "###################################\n",
    "train_original_source = Iterable_Aggregator(train_original_source, p.seed)\n",
    "val_original_source = Iterable_Aggregator(val_original_source, p.seed)\n",
    "test_original_source = Iterable_Aggregator(test_original_source, p.seed)\n",
    "\n",
    "\n",
    "train_original_target = Iterable_Aggregator(train_original_target, p.seed)\n",
    "val_original_target = Iterable_Aggregator(val_original_target, p.seed)\n",
    "test_original_target = Iterable_Aggregator(test_original_target, p.seed)\n",
    "\n",
    "# For CNN We only use X and Y. And we only train on the source.\n",
    "# Properly form the data using a transform lambda and Lazy_Iterable_Wrapper. Finally wrap them in a dataloader\n",
    "\n",
    "transform_lambda = lambda ex: ex[1] # Original is (<domain>, <episode>) so we strip down to episode only\n",
    "\n",
    "train_processed_source = Lazy_Iterable_Wrapper(train_original_source, transform_lambda)\n",
    "val_processed_source   = Lazy_Iterable_Wrapper(val_original_source, transform_lambda)\n",
    "test_processed_source  = Lazy_Iterable_Wrapper(test_original_source, transform_lambda)\n",
    "\n",
    "train_processed_target = Lazy_Iterable_Wrapper(train_original_target, transform_lambda)\n",
    "val_processed_target   = Lazy_Iterable_Wrapper(val_original_target, transform_lambda)\n",
    "test_processed_target  = Lazy_Iterable_Wrapper(test_original_target, transform_lambda)\n",
    "\n",
    "datasets = EasyDict({\n",
    "    \"source\": {\n",
    "        \"original\": {\"train\":train_original_source, \"val\":val_original_source, \"test\":test_original_source},\n",
    "        \"processed\": {\"train\":train_processed_source, \"val\":val_processed_source, \"test\":test_processed_source}\n",
    "    },\n",
    "    \"target\": {\n",
    "        \"original\": {\"train\":train_original_target, \"val\":val_original_target, \"test\":test_original_target},\n",
    "        \"processed\": {\"train\":train_processed_target, \"val\":val_processed_target, \"test\":test_processed_target}\n",
    "    },\n",
    "})"
   ]
  },
  {
   "cell_type": "code",
   "execution_count": 20,
   "id": "5b3c01fc",
   "metadata": {
    "execution": {
     "iopub.execute_input": "2022-03-22T09:50:39.908264Z",
     "iopub.status.busy": "2022-03-22T09:50:39.907893Z",
     "iopub.status.idle": "2022-03-22T09:51:12.718626Z",
     "shell.execute_reply": "2022-03-22T09:51:12.717753Z"
    },
    "papermill": {
     "duration": 32.8372,
     "end_time": "2022-03-22T09:51:12.718802",
     "exception": false,
     "start_time": "2022-03-22T09:50:39.881602",
     "status": "completed"
    },
    "tags": []
   },
   "outputs": [
    {
     "name": "stdout",
     "output_type": "stream",
     "text": [
      "{'CORES_2', 'CORES_5', 'CORES_3', 'CORES_1', 'CORES_4'}\n"
     ]
    },
    {
     "name": "stdout",
     "output_type": "stream",
     "text": [
      "{'ORACLE.run1_26', 'ORACLE.run1_44', 'ORACLE.run1_14', 'ORACLE.run1_38', 'ORACLE.run1_50', 'ORACLE.run1_32', 'ORACLE.run1_8', 'ORACLE.run1_20'}\n"
     ]
    },
    {
     "name": "stdout",
     "output_type": "stream",
     "text": [
      "tensor([[[-0.5519, -0.3236,  1.1819,  ..., -0.0289, -0.3930,  0.3207],\n",
      "         [ 0.2543, -0.9565, -0.5432,  ...,  0.2369,  0.1734, -1.2830]],\n",
      "\n",
      "        [[-0.2484,  0.1704,  1.2448,  ...,  0.1762, -0.3697,  0.2426],\n",
      "         [ 0.0144, -0.7250,  0.2917,  ...,  0.0866, -0.1733, -0.2137]],\n",
      "\n",
      "        [[ 0.3357, -1.1851, -0.7326,  ...,  0.7793,  0.5021, -0.7589],\n",
      "         [ 1.2639,  0.2481, -0.6918,  ...,  0.4991,  1.3602,  0.2335]],\n",
      "\n",
      "        ...,\n",
      "\n",
      "        [[-0.1845,  0.2060,  0.4858,  ...,  0.2613, -0.3136,  1.0115],\n",
      "         [ 0.5042,  0.5349, -0.1199,  ...,  0.0400,  0.2613,  0.2552]],\n",
      "\n",
      "        [[-0.0033,  0.2911, -0.1701,  ..., -0.6410, -0.5560,  0.3336],\n",
      "         [-0.0425, -0.4775, -0.5331,  ..., -0.8634,  0.1014, -0.2289]],\n",
      "\n",
      "        [[-0.1189,  0.1189,  0.1940,  ...,  0.1784, -0.8732, -0.8137],\n",
      "         [-0.0438,  0.0282,  0.0156,  ..., -1.2143, -0.9890,  0.7355]]])\n"
     ]
    }
   ],
   "source": [
    "from steves_utils.transforms import get_average_magnitude, get_average_power\n",
    "\n",
    "print(set([u for u,_ in val_original_source]))\n",
    "print(set([u for u,_ in val_original_target]))\n",
    "\n",
    "s_x, s_y, q_x, q_y, _ = next(iter(train_processed_source))\n",
    "print(s_x)\n",
    "\n",
    "# for ds in [\n",
    "#     train_processed_source,\n",
    "#     val_processed_source,\n",
    "#     test_processed_source,\n",
    "#     train_processed_target,\n",
    "#     val_processed_target,\n",
    "#     test_processed_target\n",
    "# ]:\n",
    "#     for s_x, s_y, q_x, q_y, _ in ds:\n",
    "#         for X in (s_x, q_x):\n",
    "#             for x in X:\n",
    "#                 assert np.isclose(get_average_magnitude(x.numpy()), 1.0)\n",
    "#                 assert np.isclose(get_average_power(x.numpy()), 1.0)\n",
    "                "
   ]
  },
  {
   "cell_type": "code",
   "execution_count": 21,
   "id": "bbdacba1",
   "metadata": {
    "execution": {
     "iopub.execute_input": "2022-03-22T09:51:12.777386Z",
     "iopub.status.busy": "2022-03-22T09:51:12.776812Z",
     "iopub.status.idle": "2022-03-22T09:51:12.984433Z",
     "shell.execute_reply": "2022-03-22T09:51:12.984069Z"
    },
    "papermill": {
     "duration": 0.235775,
     "end_time": "2022-03-22T09:51:12.984533",
     "exception": false,
     "start_time": "2022-03-22T09:51:12.748758",
     "status": "completed"
    },
    "tags": []
   },
   "outputs": [
    {
     "name": "stdout",
     "output_type": "stream",
     "text": [
      "(2, 256)\n"
     ]
    }
   ],
   "source": [
    "###################################\n",
    "# Build the model\n",
    "###################################\n",
    "# easfsl only wants a tuple for the shape\n",
    "model = Steves_Prototypical_Network(x_net, device=p.device, x_shape=tuple(p.x_shape))\n",
    "optimizer = Adam(params=model.parameters(), lr=p.lr)"
   ]
  },
  {
   "cell_type": "code",
   "execution_count": 22,
   "id": "22b39ac5",
   "metadata": {
    "execution": {
     "iopub.execute_input": "2022-03-22T09:51:13.055550Z",
     "iopub.status.busy": "2022-03-22T09:51:13.055168Z",
     "iopub.status.idle": "2022-03-22T10:33:31.348700Z",
     "shell.execute_reply": "2022-03-22T10:33:31.348363Z"
    },
    "papermill": {
     "duration": 2538.32108,
     "end_time": "2022-03-22T10:33:31.348782",
     "exception": false,
     "start_time": "2022-03-22T09:51:13.027702",
     "status": "completed"
    },
    "tags": []
   },
   "outputs": [
    {
     "name": "stdout",
     "output_type": "stream",
     "text": [
      "epoch: 1, [batch: 1 / 6297], examples_per_second: 32.1540, train_label_loss: 2.4858, \n"
     ]
    },
    {
     "name": "stdout",
     "output_type": "stream",
     "text": [
      "epoch: 1, [batch: 630 / 6297], examples_per_second: 3420.4869, train_label_loss: 0.0828, \n"
     ]
    },
    {
     "name": "stdout",
     "output_type": "stream",
     "text": [
      "epoch: 1, [batch: 1260 / 6297], examples_per_second: 3399.6866, train_label_loss: 0.0061, \n"
     ]
    },
    {
     "name": "stdout",
     "output_type": "stream",
     "text": [
      "epoch: 1, [batch: 1889 / 6297], examples_per_second: 3419.6981, train_label_loss: 0.0044, \n"
     ]
    },
    {
     "name": "stdout",
     "output_type": "stream",
     "text": [
      "epoch: 1, [batch: 2519 / 6297], examples_per_second: 3264.4866, train_label_loss: 0.0088, \n"
     ]
    },
    {
     "name": "stdout",
     "output_type": "stream",
     "text": [
      "epoch: 1, [batch: 3149 / 6297], examples_per_second: 2969.3199, train_label_loss: 0.0317, \n"
     ]
    },
    {
     "name": "stdout",
     "output_type": "stream",
     "text": [
      "epoch: 1, [batch: 3778 / 6297], examples_per_second: 2986.3138, train_label_loss: 0.0003, \n"
     ]
    },
    {
     "name": "stdout",
     "output_type": "stream",
     "text": [
      "epoch: 1, [batch: 4408 / 6297], examples_per_second: 2930.7032, train_label_loss: 0.0002, \n"
     ]
    },
    {
     "name": "stdout",
     "output_type": "stream",
     "text": [
      "epoch: 1, [batch: 5037 / 6297], examples_per_second: 2971.7932, train_label_loss: 0.0002, \n"
     ]
    },
    {
     "name": "stdout",
     "output_type": "stream",
     "text": [
      "epoch: 1, [batch: 5667 / 6297], examples_per_second: 2963.4971, train_label_loss: 0.0004, \n"
     ]
    },
    {
     "name": "stdout",
     "output_type": "stream",
     "text": [
      "=============================================================\n",
      "epoch: 1, source_val_acc_label: 0.9982, target_val_acc_label: 0.1421, source_val_label_loss: 0.0100, target_val_label_loss: 2.7545, \n",
      "=============================================================\n"
     ]
    },
    {
     "name": "stdout",
     "output_type": "stream",
     "text": [
      "New best\n"
     ]
    },
    {
     "name": "stdout",
     "output_type": "stream",
     "text": [
      "epoch: 2, [batch: 1 / 6333], examples_per_second: 1.4350, train_label_loss: 0.0001, \n"
     ]
    },
    {
     "name": "stdout",
     "output_type": "stream",
     "text": [
      "epoch: 2, [batch: 634 / 6333], examples_per_second: 2926.4367, train_label_loss: 0.0001, \n"
     ]
    },
    {
     "name": "stdout",
     "output_type": "stream",
     "text": [
      "epoch: 2, [batch: 1267 / 6333], examples_per_second: 2990.6475, train_label_loss: 0.0006, \n"
     ]
    },
    {
     "name": "stdout",
     "output_type": "stream",
     "text": [
      "epoch: 2, [batch: 1900 / 6333], examples_per_second: 3015.7429, train_label_loss: 0.1799, \n"
     ]
    },
    {
     "name": "stdout",
     "output_type": "stream",
     "text": [
      "epoch: 2, [batch: 2533 / 6333], examples_per_second: 3000.9422, train_label_loss: 0.0002, \n"
     ]
    },
    {
     "name": "stdout",
     "output_type": "stream",
     "text": [
      "epoch: 2, [batch: 3167 / 6333], examples_per_second: 3029.3585, train_label_loss: 0.0000, \n"
     ]
    },
    {
     "name": "stdout",
     "output_type": "stream",
     "text": [
      "epoch: 2, [batch: 3800 / 6333], examples_per_second: 2983.5361, train_label_loss: 0.0000, \n"
     ]
    },
    {
     "name": "stdout",
     "output_type": "stream",
     "text": [
      "epoch: 2, [batch: 4433 / 6333], examples_per_second: 2949.0579, train_label_loss: 0.0000, \n"
     ]
    },
    {
     "name": "stdout",
     "output_type": "stream",
     "text": [
      "epoch: 2, [batch: 5066 / 6333], examples_per_second: 3377.4644, train_label_loss: 0.0011, \n"
     ]
    },
    {
     "name": "stdout",
     "output_type": "stream",
     "text": [
      "epoch: 2, [batch: 5699 / 6333], examples_per_second: 3528.4916, train_label_loss: 0.0000, \n"
     ]
    },
    {
     "name": "stdout",
     "output_type": "stream",
     "text": [
      "=============================================================\n",
      "epoch: 2, source_val_acc_label: 0.9979, target_val_acc_label: 0.1434, source_val_label_loss: 0.0131, target_val_label_loss: 3.2613, \n",
      "=============================================================\n"
     ]
    },
    {
     "name": "stdout",
     "output_type": "stream",
     "text": [
      "New best\n"
     ]
    },
    {
     "name": "stdout",
     "output_type": "stream",
     "text": [
      "epoch: 3, [batch: 1 / 6305], examples_per_second: 1.4076, train_label_loss: 0.0000, \n"
     ]
    },
    {
     "name": "stdout",
     "output_type": "stream",
     "text": [
      "epoch: 3, [batch: 631 / 6305], examples_per_second: 2885.8681, train_label_loss: 0.0000, \n"
     ]
    },
    {
     "name": "stdout",
     "output_type": "stream",
     "text": [
      "epoch: 3, [batch: 1261 / 6305], examples_per_second: 3010.3516, train_label_loss: 0.0000, \n"
     ]
    },
    {
     "name": "stdout",
     "output_type": "stream",
     "text": [
      "epoch: 3, [batch: 1892 / 6305], examples_per_second: 3026.4690, train_label_loss: 0.0000, \n"
     ]
    },
    {
     "name": "stdout",
     "output_type": "stream",
     "text": [
      "epoch: 3, [batch: 2522 / 6305], examples_per_second: 3227.7325, train_label_loss: 0.2001, \n"
     ]
    },
    {
     "name": "stdout",
     "output_type": "stream",
     "text": [
      "epoch: 3, [batch: 3153 / 6305], examples_per_second: 3463.8958, train_label_loss: 0.0000, \n"
     ]
    },
    {
     "name": "stdout",
     "output_type": "stream",
     "text": [
      "epoch: 3, [batch: 3783 / 6305], examples_per_second: 3567.7694, train_label_loss: 0.0000, \n"
     ]
    },
    {
     "name": "stdout",
     "output_type": "stream",
     "text": [
      "epoch: 3, [batch: 4413 / 6305], examples_per_second: 3445.4794, train_label_loss: 0.0000, \n"
     ]
    },
    {
     "name": "stdout",
     "output_type": "stream",
     "text": [
      "epoch: 3, [batch: 5044 / 6305], examples_per_second: 3520.7492, train_label_loss: 0.0000, \n"
     ]
    },
    {
     "name": "stdout",
     "output_type": "stream",
     "text": [
      "epoch: 3, [batch: 5674 / 6305], examples_per_second: 3484.6652, train_label_loss: 0.0000, \n"
     ]
    },
    {
     "name": "stdout",
     "output_type": "stream",
     "text": [
      "=============================================================\n",
      "epoch: 3, source_val_acc_label: 0.9991, target_val_acc_label: 0.1543, source_val_label_loss: 0.0109, target_val_label_loss: 3.3199, \n",
      "=============================================================\n"
     ]
    },
    {
     "name": "stdout",
     "output_type": "stream",
     "text": [
      "New best\n"
     ]
    },
    {
     "name": "stdout",
     "output_type": "stream",
     "text": [
      "epoch: 4, [batch: 1 / 6323], examples_per_second: 1.2735, train_label_loss: 0.0000, \n"
     ]
    },
    {
     "name": "stdout",
     "output_type": "stream",
     "text": [
      "epoch: 4, [batch: 633 / 6323], examples_per_second: 3336.2630, train_label_loss: 0.0000, \n"
     ]
    },
    {
     "name": "stdout",
     "output_type": "stream",
     "text": [
      "epoch: 4, [batch: 1265 / 6323], examples_per_second: 3419.2135, train_label_loss: 0.0000, \n"
     ]
    },
    {
     "name": "stdout",
     "output_type": "stream",
     "text": [
      "epoch: 4, [batch: 1897 / 6323], examples_per_second: 3262.5504, train_label_loss: 0.0000, \n"
     ]
    },
    {
     "name": "stdout",
     "output_type": "stream",
     "text": [
      "epoch: 4, [batch: 2529 / 6323], examples_per_second: 3451.6376, train_label_loss: 0.0000, \n"
     ]
    },
    {
     "name": "stdout",
     "output_type": "stream",
     "text": [
      "epoch: 4, [batch: 3162 / 6323], examples_per_second: 3621.5075, train_label_loss: 0.0000, \n"
     ]
    },
    {
     "name": "stdout",
     "output_type": "stream",
     "text": [
      "epoch: 4, [batch: 3794 / 6323], examples_per_second: 3071.7579, train_label_loss: 0.0000, \n"
     ]
    },
    {
     "name": "stdout",
     "output_type": "stream",
     "text": [
      "epoch: 4, [batch: 4426 / 6323], examples_per_second: 2955.5681, train_label_loss: 0.0000, \n"
     ]
    },
    {
     "name": "stdout",
     "output_type": "stream",
     "text": [
      "epoch: 4, [batch: 5058 / 6323], examples_per_second: 2935.6535, train_label_loss: 0.0000, \n"
     ]
    },
    {
     "name": "stdout",
     "output_type": "stream",
     "text": [
      "epoch: 4, [batch: 5690 / 6323], examples_per_second: 3014.6878, train_label_loss: 0.0000, \n"
     ]
    },
    {
     "name": "stdout",
     "output_type": "stream",
     "text": [
      "=============================================================\n",
      "epoch: 4, source_val_acc_label: 0.9991, target_val_acc_label: 0.1601, source_val_label_loss: 0.0113, target_val_label_loss: 3.4242, \n",
      "=============================================================\n"
     ]
    },
    {
     "name": "stdout",
     "output_type": "stream",
     "text": [
      "New best\n"
     ]
    },
    {
     "name": "stdout",
     "output_type": "stream",
     "text": [
      "epoch: 5, [batch: 1 / 6317], examples_per_second: 1.3917, train_label_loss: 0.0000, \n"
     ]
    },
    {
     "name": "stdout",
     "output_type": "stream",
     "text": [
      "epoch: 5, [batch: 632 / 6317], examples_per_second: 3397.4751, train_label_loss: 0.0000, \n"
     ]
    },
    {
     "name": "stdout",
     "output_type": "stream",
     "text": [
      "epoch: 5, [batch: 1264 / 6317], examples_per_second: 3035.5229, train_label_loss: 0.0000, \n"
     ]
    },
    {
     "name": "stdout",
     "output_type": "stream",
     "text": [
      "epoch: 5, [batch: 1895 / 6317], examples_per_second: 3041.3529, train_label_loss: 0.0002, \n"
     ]
    },
    {
     "name": "stdout",
     "output_type": "stream",
     "text": [
      "epoch: 5, [batch: 2527 / 6317], examples_per_second: 3080.8781, train_label_loss: 0.0000, \n"
     ]
    },
    {
     "name": "stdout",
     "output_type": "stream",
     "text": [
      "epoch: 5, [batch: 3159 / 6317], examples_per_second: 2954.3732, train_label_loss: 0.0181, \n"
     ]
    },
    {
     "name": "stdout",
     "output_type": "stream",
     "text": [
      "epoch: 5, [batch: 3790 / 6317], examples_per_second: 2962.9029, train_label_loss: 0.0000, \n"
     ]
    },
    {
     "name": "stdout",
     "output_type": "stream",
     "text": [
      "epoch: 5, [batch: 4422 / 6317], examples_per_second: 2985.4266, train_label_loss: 0.0000, \n"
     ]
    },
    {
     "name": "stdout",
     "output_type": "stream",
     "text": [
      "epoch: 5, [batch: 5053 / 6317], examples_per_second: 3008.8616, train_label_loss: 0.0001, \n"
     ]
    },
    {
     "name": "stdout",
     "output_type": "stream",
     "text": [
      "epoch: 5, [batch: 5685 / 6317], examples_per_second: 3340.7635, train_label_loss: 0.1023, \n"
     ]
    },
    {
     "name": "stdout",
     "output_type": "stream",
     "text": [
      "=============================================================\n",
      "epoch: 5, source_val_acc_label: 0.9992, target_val_acc_label: 0.1490, source_val_label_loss: 0.0133, target_val_label_loss: 3.6675, \n",
      "=============================================================\n"
     ]
    },
    {
     "name": "stdout",
     "output_type": "stream",
     "text": [
      "epoch: 6, [batch: 1 / 6329], examples_per_second: 1.4635, train_label_loss: 0.0001, \n"
     ]
    },
    {
     "name": "stdout",
     "output_type": "stream",
     "text": [
      "epoch: 6, [batch: 633 / 6329], examples_per_second: 2890.4746, train_label_loss: 0.0000, \n"
     ]
    },
    {
     "name": "stdout",
     "output_type": "stream",
     "text": [
      "epoch: 6, [batch: 1266 / 6329], examples_per_second: 3026.7563, train_label_loss: 0.0000, \n"
     ]
    },
    {
     "name": "stdout",
     "output_type": "stream",
     "text": [
      "epoch: 6, [batch: 1899 / 6329], examples_per_second: 2973.0293, train_label_loss: 0.0000, \n"
     ]
    },
    {
     "name": "stdout",
     "output_type": "stream",
     "text": [
      "epoch: 6, [batch: 2532 / 6329], examples_per_second: 2914.0609, train_label_loss: 0.0000, \n"
     ]
    },
    {
     "name": "stdout",
     "output_type": "stream",
     "text": [
      "epoch: 6, [batch: 3165 / 6329], examples_per_second: 3186.7174, train_label_loss: 0.0000, \n"
     ]
    },
    {
     "name": "stdout",
     "output_type": "stream",
     "text": [
      "epoch: 6, [batch: 3797 / 6329], examples_per_second: 3482.4146, train_label_loss: 0.0000, \n"
     ]
    },
    {
     "name": "stdout",
     "output_type": "stream",
     "text": [
      "epoch: 6, [batch: 4430 / 6329], examples_per_second: 3421.7147, train_label_loss: 0.0000, \n"
     ]
    },
    {
     "name": "stdout",
     "output_type": "stream",
     "text": [
      "epoch: 6, [batch: 5063 / 6329], examples_per_second: 3177.3739, train_label_loss: 0.0000, \n"
     ]
    },
    {
     "name": "stdout",
     "output_type": "stream",
     "text": [
      "epoch: 6, [batch: 5696 / 6329], examples_per_second: 3281.4375, train_label_loss: 0.0000, \n"
     ]
    },
    {
     "name": "stdout",
     "output_type": "stream",
     "text": [
      "=============================================================\n",
      "epoch: 6, source_val_acc_label: 0.9994, target_val_acc_label: 0.1755, source_val_label_loss: 0.0121, target_val_label_loss: 3.8440, \n",
      "=============================================================\n"
     ]
    },
    {
     "name": "stdout",
     "output_type": "stream",
     "text": [
      "New best\n"
     ]
    },
    {
     "name": "stdout",
     "output_type": "stream",
     "text": [
      "epoch: 7, [batch: 1 / 6316], examples_per_second: 1.3414, train_label_loss: 0.0000, \n"
     ]
    },
    {
     "name": "stdout",
     "output_type": "stream",
     "text": [
      "epoch: 7, [batch: 632 / 6316], examples_per_second: 3041.6091, train_label_loss: 0.0001, \n"
     ]
    },
    {
     "name": "stdout",
     "output_type": "stream",
     "text": [
      "epoch: 7, [batch: 1264 / 6316], examples_per_second: 3423.3032, train_label_loss: 0.0000, \n"
     ]
    },
    {
     "name": "stdout",
     "output_type": "stream",
     "text": [
      "epoch: 7, [batch: 1895 / 6316], examples_per_second: 3538.6111, train_label_loss: 0.0000, \n"
     ]
    },
    {
     "name": "stdout",
     "output_type": "stream",
     "text": [
      "epoch: 7, [batch: 2527 / 6316], examples_per_second: 3122.2716, train_label_loss: 0.0000, \n"
     ]
    },
    {
     "name": "stdout",
     "output_type": "stream",
     "text": [
      "epoch: 7, [batch: 3158 / 6316], examples_per_second: 3290.1359, train_label_loss: 0.0000, \n"
     ]
    },
    {
     "name": "stdout",
     "output_type": "stream",
     "text": [
      "epoch: 7, [batch: 3790 / 6316], examples_per_second: 3432.3622, train_label_loss: 0.4204, \n"
     ]
    },
    {
     "name": "stdout",
     "output_type": "stream",
     "text": [
      "epoch: 7, [batch: 4421 / 6316], examples_per_second: 3561.9179, train_label_loss: 0.0000, \n"
     ]
    },
    {
     "name": "stdout",
     "output_type": "stream",
     "text": [
      "epoch: 7, [batch: 5053 / 6316], examples_per_second: 3002.5828, train_label_loss: 0.0000, \n"
     ]
    },
    {
     "name": "stdout",
     "output_type": "stream",
     "text": [
      "epoch: 7, [batch: 5684 / 6316], examples_per_second: 2985.1752, train_label_loss: 0.0008, \n"
     ]
    },
    {
     "name": "stdout",
     "output_type": "stream",
     "text": [
      "=============================================================\n",
      "epoch: 7, source_val_acc_label: 0.9992, target_val_acc_label: 0.1573, source_val_label_loss: 0.0139, target_val_label_loss: 3.6069, \n",
      "=============================================================\n"
     ]
    },
    {
     "name": "stdout",
     "output_type": "stream",
     "text": [
      "epoch: 8, [batch: 1 / 6315], examples_per_second: 1.3715, train_label_loss: 0.0000, \n"
     ]
    },
    {
     "name": "stdout",
     "output_type": "stream",
     "text": [
      "epoch: 8, [batch: 632 / 6315], examples_per_second: 3070.9792, train_label_loss: 0.0000, \n"
     ]
    },
    {
     "name": "stdout",
     "output_type": "stream",
     "text": [
      "epoch: 8, [batch: 1263 / 6315], examples_per_second: 3361.8767, train_label_loss: 0.0000, \n"
     ]
    },
    {
     "name": "stdout",
     "output_type": "stream",
     "text": [
      "epoch: 8, [batch: 1895 / 6315], examples_per_second: 3517.5072, train_label_loss: 0.0001, \n"
     ]
    },
    {
     "name": "stdout",
     "output_type": "stream",
     "text": [
      "epoch: 8, [batch: 2526 / 6315], examples_per_second: 3056.9425, train_label_loss: 0.0000, \n"
     ]
    },
    {
     "name": "stdout",
     "output_type": "stream",
     "text": [
      "epoch: 8, [batch: 3158 / 6315], examples_per_second: 3026.0101, train_label_loss: 0.0000, \n"
     ]
    },
    {
     "name": "stdout",
     "output_type": "stream",
     "text": [
      "epoch: 8, [batch: 3789 / 6315], examples_per_second: 3007.1368, train_label_loss: 0.0000, \n"
     ]
    },
    {
     "name": "stdout",
     "output_type": "stream",
     "text": [
      "epoch: 8, [batch: 4420 / 6315], examples_per_second: 2963.5623, train_label_loss: 0.0000, \n"
     ]
    },
    {
     "name": "stdout",
     "output_type": "stream",
     "text": [
      "epoch: 8, [batch: 5052 / 6315], examples_per_second: 2964.2827, train_label_loss: 0.0000, \n"
     ]
    },
    {
     "name": "stdout",
     "output_type": "stream",
     "text": [
      "epoch: 8, [batch: 5683 / 6315], examples_per_second: 3010.8249, train_label_loss: 0.0000, \n"
     ]
    },
    {
     "name": "stdout",
     "output_type": "stream",
     "text": [
      "=============================================================\n",
      "epoch: 8, source_val_acc_label: 0.9994, target_val_acc_label: 0.1384, source_val_label_loss: 0.0148, target_val_label_loss: 4.0011, \n",
      "=============================================================\n"
     ]
    },
    {
     "name": "stdout",
     "output_type": "stream",
     "text": [
      "epoch: 9, [batch: 1 / 6317], examples_per_second: 1.4481, train_label_loss: 0.0000, \n"
     ]
    },
    {
     "name": "stdout",
     "output_type": "stream",
     "text": [
      "epoch: 9, [batch: 632 / 6317], examples_per_second: 3295.2777, train_label_loss: 0.0000, \n"
     ]
    },
    {
     "name": "stdout",
     "output_type": "stream",
     "text": [
      "epoch: 9, [batch: 1264 / 6317], examples_per_second: 3360.8738, train_label_loss: 0.0000, \n"
     ]
    },
    {
     "name": "stdout",
     "output_type": "stream",
     "text": [
      "epoch: 9, [batch: 1895 / 6317], examples_per_second: 3478.2989, train_label_loss: 0.0000, \n"
     ]
    },
    {
     "name": "stdout",
     "output_type": "stream",
     "text": [
      "epoch: 9, [batch: 2527 / 6317], examples_per_second: 3446.5031, train_label_loss: 0.0000, \n"
     ]
    },
    {
     "name": "stdout",
     "output_type": "stream",
     "text": [
      "epoch: 9, [batch: 3159 / 6317], examples_per_second: 3390.1067, train_label_loss: 0.0000, \n"
     ]
    },
    {
     "name": "stdout",
     "output_type": "stream",
     "text": [
      "epoch: 9, [batch: 3790 / 6317], examples_per_second: 3407.9930, train_label_loss: 0.0000, \n"
     ]
    },
    {
     "name": "stdout",
     "output_type": "stream",
     "text": [
      "epoch: 9, [batch: 4422 / 6317], examples_per_second: 3667.5240, train_label_loss: 0.0000, \n"
     ]
    },
    {
     "name": "stdout",
     "output_type": "stream",
     "text": [
      "epoch: 9, [batch: 5053 / 6317], examples_per_second: 4144.0283, train_label_loss: 0.0000, \n"
     ]
    },
    {
     "name": "stdout",
     "output_type": "stream",
     "text": [
      "epoch: 9, [batch: 5685 / 6317], examples_per_second: 4756.1903, train_label_loss: 0.0004, \n"
     ]
    },
    {
     "name": "stdout",
     "output_type": "stream",
     "text": [
      "=============================================================\n",
      "epoch: 9, source_val_acc_label: 0.9992, target_val_acc_label: 0.1571, source_val_label_loss: 0.0177, target_val_label_loss: 4.9465, \n",
      "=============================================================\n"
     ]
    },
    {
     "name": "stdout",
     "output_type": "stream",
     "text": [
      "epoch: 10, [batch: 1 / 6296], examples_per_second: 1.9362, train_label_loss: 0.0000, \n"
     ]
    },
    {
     "name": "stdout",
     "output_type": "stream",
     "text": [
      "epoch: 10, [batch: 630 / 6296], examples_per_second: 3761.0360, train_label_loss: 0.0000, \n"
     ]
    },
    {
     "name": "stdout",
     "output_type": "stream",
     "text": [
      "epoch: 10, [batch: 1260 / 6296], examples_per_second: 3688.3270, train_label_loss: 0.0000, \n"
     ]
    },
    {
     "name": "stdout",
     "output_type": "stream",
     "text": [
      "epoch: 10, [batch: 1889 / 6296], examples_per_second: 3044.6602, train_label_loss: 0.0000, \n"
     ]
    },
    {
     "name": "stdout",
     "output_type": "stream",
     "text": [
      "epoch: 10, [batch: 2519 / 6296], examples_per_second: 3283.3129, train_label_loss: 0.0000, \n"
     ]
    },
    {
     "name": "stdout",
     "output_type": "stream",
     "text": [
      "epoch: 10, [batch: 3148 / 6296], examples_per_second: 3432.5615, train_label_loss: 0.0000, \n"
     ]
    },
    {
     "name": "stdout",
     "output_type": "stream",
     "text": [
      "epoch: 10, [batch: 3778 / 6296], examples_per_second: 3520.0573, train_label_loss: 0.0000, \n"
     ]
    },
    {
     "name": "stdout",
     "output_type": "stream",
     "text": [
      "epoch: 10, [batch: 4407 / 6296], examples_per_second: 2957.0449, train_label_loss: 0.0000, \n"
     ]
    },
    {
     "name": "stdout",
     "output_type": "stream",
     "text": [
      "epoch: 10, [batch: 5037 / 6296], examples_per_second: 2978.9466, train_label_loss: 0.0000, \n"
     ]
    },
    {
     "name": "stdout",
     "output_type": "stream",
     "text": [
      "epoch: 10, [batch: 5666 / 6296], examples_per_second: 2987.7126, train_label_loss: 0.0000, \n"
     ]
    },
    {
     "name": "stdout",
     "output_type": "stream",
     "text": [
      "=============================================================\n",
      "epoch: 10, source_val_acc_label: 0.9996, target_val_acc_label: 0.1724, source_val_label_loss: 0.0158, target_val_label_loss: 4.7505, \n",
      "=============================================================\n"
     ]
    },
    {
     "name": "stdout",
     "output_type": "stream",
     "text": [
      "Patience (3) exhausted\n"
     ]
    }
   ],
   "source": [
    "###################################\n",
    "# train\n",
    "###################################\n",
    "jig = PTN_Train_Eval_Test_Jig(model, p.BEST_MODEL_PATH, p.device)\n",
    "\n",
    "jig.train(\n",
    "    train_iterable=datasets.source.processed.train,\n",
    "    source_val_iterable=datasets.source.processed.val,\n",
    "    target_val_iterable=datasets.target.processed.val,\n",
    "    num_epochs=p.n_epoch,\n",
    "    num_logs_per_epoch=p.NUM_LOGS_PER_EPOCH,\n",
    "    patience=p.patience,\n",
    "    optimizer=optimizer,\n",
    "    criteria_for_best=p.criteria_for_best,\n",
    ")"
   ]
  },
  {
   "cell_type": "code",
   "execution_count": 23,
   "id": "31e8fabf",
   "metadata": {
    "execution": {
     "iopub.execute_input": "2022-03-22T10:33:31.458564Z",
     "iopub.status.busy": "2022-03-22T10:33:31.457740Z",
     "iopub.status.idle": "2022-03-22T10:33:31.490067Z",
     "shell.execute_reply": "2022-03-22T10:33:31.489223Z"
    },
    "papermill": {
     "duration": 0.087837,
     "end_time": "2022-03-22T10:33:31.490251",
     "exception": false,
     "start_time": "2022-03-22T10:33:31.402414",
     "status": "completed"
    },
    "tags": []
   },
   "outputs": [],
   "source": [
    "total_experiment_time_secs = time.time() - start_time_secs"
   ]
  },
  {
   "cell_type": "code",
   "execution_count": 24,
   "id": "87b9595b",
   "metadata": {
    "execution": {
     "iopub.execute_input": "2022-03-22T10:33:31.608016Z",
     "iopub.status.busy": "2022-03-22T10:33:31.607228Z",
     "iopub.status.idle": "2022-03-22T10:43:55.056923Z",
     "shell.execute_reply": "2022-03-22T10:43:55.056193Z"
    },
    "papermill": {
     "duration": 623.508024,
     "end_time": "2022-03-22T10:43:55.057106",
     "exception": false,
     "start_time": "2022-03-22T10:33:31.549082",
     "status": "completed"
    },
    "tags": []
   },
   "outputs": [],
   "source": [
    "###################################\n",
    "# Evaluate the model\n",
    "###################################\n",
    "source_test_label_accuracy, source_test_label_loss = jig.test(datasets.source.processed.test)\n",
    "target_test_label_accuracy, target_test_label_loss = jig.test(datasets.target.processed.test)\n",
    "\n",
    "source_val_label_accuracy, source_val_label_loss = jig.test(datasets.source.processed.val)\n",
    "target_val_label_accuracy, target_val_label_loss = jig.test(datasets.target.processed.val)\n",
    "\n",
    "history = jig.get_history()\n",
    "\n",
    "total_epochs_trained = len(history[\"epoch_indices\"])\n",
    "\n",
    "val_dl = Iterable_Aggregator((datasets.source.original.val,datasets.target.original.val))\n",
    "\n",
    "confusion = ptn_confusion_by_domain_over_dataloader(model, p.device, val_dl)\n",
    "per_domain_accuracy = per_domain_accuracy_from_confusion(confusion)\n",
    "\n",
    "# Add a key to per_domain_accuracy for if it was a source domain\n",
    "for domain, accuracy in per_domain_accuracy.items():\n",
    "    per_domain_accuracy[domain] = {\n",
    "        \"accuracy\": accuracy,\n",
    "        \"source?\": domain in p.domains_source\n",
    "    }\n",
    "\n",
    "# Do an independent accuracy assesment JUST TO BE SURE!\n",
    "# _source_test_label_accuracy = independent_accuracy_assesment(model, datasets.source.processed.test, p.device)\n",
    "# _target_test_label_accuracy = independent_accuracy_assesment(model, datasets.target.processed.test, p.device)\n",
    "# _source_val_label_accuracy = independent_accuracy_assesment(model, datasets.source.processed.val, p.device)\n",
    "# _target_val_label_accuracy = independent_accuracy_assesment(model, datasets.target.processed.val, p.device)\n",
    "\n",
    "# assert(_source_test_label_accuracy == source_test_label_accuracy)\n",
    "# assert(_target_test_label_accuracy == target_test_label_accuracy)\n",
    "# assert(_source_val_label_accuracy == source_val_label_accuracy)\n",
    "# assert(_target_val_label_accuracy == target_val_label_accuracy)\n",
    "\n",
    "experiment = {\n",
    "    \"experiment_name\": p.experiment_name,\n",
    "    \"parameters\": dict(p),\n",
    "    \"results\": {\n",
    "        \"source_test_label_accuracy\": source_test_label_accuracy,\n",
    "        \"source_test_label_loss\": source_test_label_loss,\n",
    "        \"target_test_label_accuracy\": target_test_label_accuracy,\n",
    "        \"target_test_label_loss\": target_test_label_loss,\n",
    "        \"source_val_label_accuracy\": source_val_label_accuracy,\n",
    "        \"source_val_label_loss\": source_val_label_loss,\n",
    "        \"target_val_label_accuracy\": target_val_label_accuracy,\n",
    "        \"target_val_label_loss\": target_val_label_loss,\n",
    "        \"total_epochs_trained\": total_epochs_trained,\n",
    "        \"total_experiment_time_secs\": total_experiment_time_secs,\n",
    "        \"confusion\": confusion,\n",
    "        \"per_domain_accuracy\": per_domain_accuracy,\n",
    "    },\n",
    "    \"history\": history,\n",
    "    \"dataset_metrics\": get_dataset_metrics(datasets, \"ptn\"),\n",
    "}"
   ]
  },
  {
   "cell_type": "code",
   "execution_count": 25,
   "id": "54a21829",
   "metadata": {
    "execution": {
     "iopub.execute_input": "2022-03-22T10:43:55.182382Z",
     "iopub.status.busy": "2022-03-22T10:43:55.182003Z",
     "iopub.status.idle": "2022-03-22T10:43:55.389708Z",
     "shell.execute_reply": "2022-03-22T10:43:55.390396Z"
    },
    "papermill": {
     "duration": 0.266411,
     "end_time": "2022-03-22T10:43:55.390594",
     "exception": false,
     "start_time": "2022-03-22T10:43:55.124183",
     "status": "completed"
    },
    "tags": []
   },
   "outputs": [
    {
     "data": {
      "image/png": "[encoded data removed]",
      "text/plain": [
       "<Figure size 1080x504 with 1 Axes>"
      ]
     },
     "metadata": {
      "needs_background": "light"
     },
     "output_type": "display_data"
    }
   ],
   "source": [
    "ax = get_loss_curve(experiment)\n",
    "plt.show()"
   ]
  },
  {
   "cell_type": "code",
   "execution_count": 26,
   "id": "fd8a0f60",
   "metadata": {
    "execution": {
     "iopub.execute_input": "2022-03-22T10:43:55.551882Z",
     "iopub.status.busy": "2022-03-22T10:43:55.551495Z",
     "iopub.status.idle": "2022-03-22T10:43:55.878980Z",
     "shell.execute_reply": "2022-03-22T10:43:55.878623Z"
    },
    "papermill": {
     "duration": 0.386699,
     "end_time": "2022-03-22T10:43:55.879059",
     "exception": false,
     "start_time": "2022-03-22T10:43:55.492360",
     "status": "completed"
    },
    "tags": []
   },
   "outputs": [
    {
     "data": {
      "text/plain": [
       "<AxesSubplot:title={'center':'Results'}>"
      ]
     },
     "execution_count": 26,
     "metadata": {},
     "output_type": "execute_result"
    },
    {
     "data": {
      "image/png": "[encoded data removed]",
      "text/plain": [
       "<Figure size 1080x504 with 1 Axes>"
      ]
     },
     "metadata": {
      "needs_background": "light"
     },
     "output_type": "display_data"
    }
   ],
   "source": [
    "get_results_table(experiment)"
   ]
  },
  {
   "cell_type": "code",
   "execution_count": 27,
   "id": "cf8dc689",
   "metadata": {
    "execution": {
     "iopub.execute_input": "2022-03-22T10:43:55.997564Z",
     "iopub.status.busy": "2022-03-22T10:43:55.997189Z",
     "iopub.status.idle": "2022-03-22T10:43:56.256328Z",
     "shell.execute_reply": "2022-03-22T10:43:56.255545Z"
    },
    "papermill": {
     "duration": 0.319664,
     "end_time": "2022-03-22T10:43:56.256486",
     "exception": false,
     "start_time": "2022-03-22T10:43:55.936822",
     "status": "completed"
    },
    "tags": []
   },
   "outputs": [
    {
     "data": {
      "text/plain": [
       "<AxesSubplot:title={'center':'Per Domain Validation Accuracy'}, xlabel='domain'>"
      ]
     },
     "execution_count": 27,
     "metadata": {},
     "output_type": "execute_result"
    },
    {
     "data": {
      "image/png": "[encoded data removed]",
      "text/plain": [
       "<Figure size 1080x504 with 1 Axes>"
      ]
     },
     "metadata": {
      "needs_background": "light"
     },
     "output_type": "display_data"
    }
   ],
   "source": [
    "get_domain_accuracies(experiment)"
   ]
  },
  {
   "cell_type": "code",
   "execution_count": 28,
   "id": "a74ae082",
   "metadata": {
    "execution": {
     "iopub.execute_input": "2022-03-22T10:43:56.383771Z",
     "iopub.status.busy": "2022-03-22T10:43:56.383283Z",
     "iopub.status.idle": "2022-03-22T10:43:56.407856Z",
     "shell.execute_reply": "2022-03-22T10:43:56.408539Z"
    },
    "papermill": {
     "duration": 0.089109,
     "end_time": "2022-03-22T10:43:56.408720",
     "exception": false,
     "start_time": "2022-03-22T10:43:56.319611",
     "status": "completed"
    },
    "tags": []
   },
   "outputs": [
    {
     "name": "stdout",
     "output_type": "stream",
     "text": [
      "Source Test Label Accuracy: 0.9992301231802911 Target Test Label Accuracy: 0.17718098958333334\n",
      "Source Val Label Accuracy: 0.9994279176201373 Target Val Label Accuracy: 0.17551432291666666\n"
     ]
    }
   ],
   "source": [
    "print(\"Source Test Label Accuracy:\", experiment[\"results\"][\"source_test_label_accuracy\"], \"Target Test Label Accuracy:\", experiment[\"results\"][\"target_test_label_accuracy\"])\n",
    "print(\"Source Val Label Accuracy:\", experiment[\"results\"][\"source_val_label_accuracy\"], \"Target Val Label Accuracy:\", experiment[\"results\"][\"target_val_label_accuracy\"])"
   ]
  },
  {
   "cell_type": "code",
   "execution_count": 29,
   "id": "dacca602",
   "metadata": {
    "execution": {
     "iopub.execute_input": "2022-03-22T10:43:56.537930Z",
     "iopub.status.busy": "2022-03-22T10:43:56.537562Z",
     "iopub.status.idle": "2022-03-22T10:43:56.562722Z",
     "shell.execute_reply": "2022-03-22T10:43:56.563403Z"
    },
    "papermill": {
     "duration": 0.088703,
     "end_time": "2022-03-22T10:43:56.563600",
     "exception": false,
     "start_time": "2022-03-22T10:43:56.474897",
     "status": "completed"
    },
    "tags": [
     "experiment_json"
    ]
   },
   "outputs": [
    {
     "data": {
      "text/plain": [
       "'{\"experiment_name\": \"tl_1v2:cores-oracle.run1\", \"parameters\": {\"experiment_name\": \"tl_1v2:cores-oracle.run1\", \"device\": \"cuda\", \"lr\": 0.0001, \"n_shot\": 3, \"n_query\": 2, \"train_k_factor\": 3, \"val_k_factor\": 2, \"test_k_factor\": 2, \"torch_default_dtype\": \"torch.float32\", \"n_epoch\": 50, \"patience\": 3, \"criteria_for_best\": \"target_accuracy\", \"x_net\": [{\"class\": \"nnReshape\", \"kargs\": {\"shape\": [-1, 1, 2, 256]}}, {\"class\": \"Conv2d\", \"kargs\": {\"in_channels\": 1, \"out_channels\": 256, \"kernel_size\": [1, 7], \"bias\": false, \"padding\": [0, 3]}}, {\"class\": \"ReLU\", \"kargs\": {\"inplace\": true}}, {\"class\": \"BatchNorm2d\", \"kargs\": {\"num_features\": 256}}, {\"class\": \"Conv2d\", \"kargs\": {\"in_channels\": 256, \"out_channels\": 80, \"kernel_size\": [2, 7], \"bias\": true, \"padding\": [0, 3]}}, {\"class\": \"ReLU\", \"kargs\": {\"inplace\": true}}, {\"class\": \"BatchNorm2d\", \"kargs\": {\"num_features\": 80}}, {\"class\": \"Flatten\", \"kargs\": {}}, {\"class\": \"Linear\", \"kargs\": {\"in_features\": 20480, \"out_features\": 256}}, {\"class\": \"ReLU\", \"kargs\": {\"inplace\": true}}, {\"class\": \"BatchNorm1d\", \"kargs\": {\"num_features\": 256}}, {\"class\": \"Linear\", \"kargs\": {\"in_features\": 256, \"out_features\": 256}}], \"NUM_LOGS_PER_EPOCH\": 10, \"BEST_MODEL_PATH\": \"./best_model.pth\", \"n_way\": 16, \"datasets\": [{\"labels\": [\"1-10.\", \"1-11.\", \"1-15.\", \"1-16.\", \"1-17.\", \"1-18.\", \"1-19.\", \"10-4.\", \"10-7.\", \"11-1.\", \"11-14.\", \"11-17.\", \"11-20.\", \"11-7.\", \"13-20.\", \"13-8.\", \"14-10.\", \"14-11.\", \"14-14.\", \"14-7.\", \"15-1.\", \"15-20.\", \"16-1.\", \"16-16.\", \"17-10.\", \"17-11.\", \"17-2.\", \"19-1.\", \"19-16.\", \"19-19.\", \"19-20.\", \"19-3.\", \"2-10.\", \"2-11.\", \"2-17.\", \"2-18.\", \"2-20.\", \"2-3.\", \"2-4.\", \"2-5.\", \"2-6.\", \"2-7.\", \"2-8.\", \"3-13.\", \"3-18.\", \"3-3.\", \"4-1.\", \"4-10.\", \"4-11.\", \"4-19.\", \"5-5.\", \"6-15.\", \"7-10.\", \"7-14.\", \"8-18.\", \"8-20.\", \"8-3.\", \"8-8.\"], \"domains\": [1, 2, 3, 4, 5], \"num_examples_per_domain_per_label\": -1, \"pickle_path\": \"/root/csc500-main/datasets/cores.stratified_ds.2022A.pkl\", \"source_or_target_dataset\": \"source\", \"x_transforms\": [\"unit_power\"], \"episode_transforms\": [], \"domain_prefix\": \"CORES_\"}, {\"labels\": [\"3123D52\", \"3123D65\", \"3123D79\", \"3123D80\", \"3123D54\", \"3123D70\", \"3123D7B\", \"3123D89\", \"3123D58\", \"3123D76\", \"3123D7D\", \"3123EFE\", \"3123D64\", \"3123D78\", \"3123D7E\", \"3124E4A\"], \"domains\": [32, 38, 8, 44, 14, 50, 20, 26], \"num_examples_per_domain_per_label\": 10000, \"pickle_path\": \"/root/csc500-main/datasets/oracle.Run1_10kExamples_stratified_ds.2022A.pkl\", \"source_or_target_dataset\": \"target\", \"x_transforms\": [\"unit_power\"], \"episode_transforms\": [], \"domain_prefix\": \"ORACLE.run1_\"}], \"dataset_seed\": 154325, \"seed\": 154325, \"x_shape\": [2, 256], \"domains_source\": [\"CORES_1\", \"CORES_2\", \"CORES_3\", \"CORES_4\", \"CORES_5\"], \"domains_target\": [\"ORACLE.run1_32\", \"ORACLE.run1_38\", \"ORACLE.run1_8\", \"ORACLE.run1_44\", \"ORACLE.run1_14\", \"ORACLE.run1_50\", \"ORACLE.run1_20\", \"ORACLE.run1_26\"]}, \"results\": {\"source_test_label_accuracy\": 0.9992301231802911, \"source_test_label_loss\": 0.007237886544317007, \"target_test_label_accuracy\": 0.17718098958333334, \"target_test_label_loss\": 3.8217966556549072, \"source_val_label_accuracy\": 0.9994279176201373, \"source_val_label_loss\": 0.01209146436303854, \"target_val_label_accuracy\": 0.17551432291666666, \"target_val_label_loss\": 3.8440093994140625, \"total_epochs_trained\": 10, \"total_experiment_time_secs\": 2701.497275829315, \"confusion\": {\"CORES_2\": {\"21\": {\"21\": 120}, \"4\": {\"4\": 130}, \"6\": {\"6\": 124}, \"10\": {\"10\": 112}, \"33\": {\"33\": 28}, \"56\": {\"56\": 122}, \"20\": {\"20\": 132}, \"24\": {\"24\": 96}, \"45\": {\"45\": 128}, \"32\": {\"32\": 28}, \"27\": {\"27\": 148}, \"53\": {\"53\": 136}, \"8\": {\"8\": 160}, \"54\": {\"54\": 108}, \"50\": {\"50\": 134}, \"44\": {\"44\": 100}, \"5\": {\"5\": 120}, \"38\": {\"38\": 20}, \"19\": {\"19\": 132}, \"1\": {\"1\": 112}, \"30\": {\"30\": 144}, \"15\": {\"15\": 144}, \"23\": {\"23\": 146}, \"35\": {\"35\": 32}, \"22\": {\"22\": 128}, \"40\": {\"40\": 140}, \"46\": {\"46\": 126}, \"3\": {\"3\": 92}, \"48\": {\"48\": 148}, \"52\": {\"52\": 124}, \"2\": {\"2\": 32}, \"26\": {\"26\": 24}, \"17\": {\"17\": 104}, \"55\": {\"55\": 144}, \"51\": {\"51\": 122}, \"42\": {\"42\": 36}, \"41\": {\"41\": 20}, \"31\": {\"31\": 28}, \"16\": {\"16\": 138}, \"36\": {\"36\": 116}, \"49\": {\"49\": 24}, \"0\": {\"0\": 48}, \"18\": {\"18\": 48}, \"25\": {\"25\": 146}, \"9\": {\"9\": 122}, \"47\": {\"47\": 132}, \"7\": {\"7\": 36}, \"37\": {\"37\": 36}, \"13\": {\"13\": 116}, \"14\": {\"14\": 24}, \"34\": {\"34\": 28}, \"57\": {\"57\": 140}, \"11\": {\"11\": 138}, \"39\": {\"39\": 28}, \"12\": {\"12\": 92}, \"28\": {\"28\": 28}, \"29\": {\"29\": 128}, \"43\": {\"43\": 140}}, \"CORES_5\": {\"12\": {\"12\": 96}, \"8\": {\"8\": 142}, \"29\": {\"29\": 132}, \"57\": {\"57\": 126}, \"38\": {\"38\": 32}, \"23\": {\"23\": 124}, \"56\": {\"56\": 138}, \"49\": {\"49\": 36}, \"4\": {\"4\": 100}, \"48\": {\"48\": 136}, \"21\": {\"21\": 144}, \"30\": {\"30\": 128}, \"1\": {\"1\": 148}, \"34\": {\"34\": 36}, \"35\": {\"35\": 36}, \"55\": {\"55\": 152}, \"5\": {\"5\": 122}, \"52\": {\"52\": 126}, \"6\": {\"6\": 127, \"50\": 1}, \"36\": {\"36\": 92}, \"41\": {\"41\": 28}, \"3\": {\"3\": 100}, \"28\": {\"28\": 32}, \"18\": {\"18\": 64}, \"25\": {\"25\": 136}, \"47\": {\"47\": 100}, \"13\": {\"13\": 160}, \"11\": {\"11\": 144}, \"53\": {\"53\": 143, \"6\": 1}, \"33\": {\"33\": 32}, \"46\": {\"46\": 148}, \"50\": {\"50\": 148}, \"10\": {\"10\": 68}, \"15\": {\"15\": 138}, \"44\": {\"44\": 140}, \"2\": {\"2\": 28}, \"7\": {\"7\": 32}, \"43\": {\"43\": 138}, \"32\": {\"32\": 31, \"27\": 1}, \"0\": {\"0\": 124}, \"39\": {\"39\": 20}, \"26\": {\"26\": 24}, \"27\": {\"27\": 112}, \"54\": {\"54\": 112}, \"17\": {\"17\": 116}, \"14\": {\"14\": 44}, \"16\": {\"16\": 148}, \"9\": {\"9\": 148}, \"19\": {\"19\": 152}, \"20\": {\"20\": 138}, \"37\": {\"37\": 24}, \"24\": {\"24\": 80}, \"40\": {\"40\": 122}, \"45\": {\"45\": 123, \"50\": 1}, \"22\": {\"22\": 28}, \"42\": {\"42\": 38, \"56\": 2}, \"51\": {\"51\": 118}, \"31\": {\"31\": 36}}, \"CORES_1\": {\"27\": {\"27\": 142}, \"2\": {\"2\": 36}, \"33\": {\"33\": 32}, \"45\": {\"45\": 156}, \"38\": {\"38\": 24}, \"4\": {\"4\": 132}, \"31\": {\"31\": 28}, \"55\": {\"55\": 140}, \"32\": {\"32\": 32}, \"57\": {\"57\": 140}, \"14\": {\"14\": 24}, \"16\": {\"16\": 140}, \"34\": {\"34\": 24}, \"56\": {\"56\": 126}, \"24\": {\"24\": 108}, \"30\": {\"30\": 112}, \"17\": {\"17\": 64}, \"13\": {\"13\": 138}, \"39\": {\"39\": 28}, \"50\": {\"50\": 146}, \"20\": {\"20\": 140}, \"41\": {\"41\": 24}, \"53\": {\"53\": 126}, \"48\": {\"48\": 142}, \"36\": {\"36\": 64}, \"8\": {\"8\": 140}, \"15\": {\"15\": 132}, \"40\": {\"40\": 156}, \"37\": {\"37\": 32}, \"21\": {\"21\": 120}, \"35\": {\"35\": 36}, \"49\": {\"49\": 32}, \"26\": {\"26\": 24}, \"28\": {\"28\": 28}, \"12\": {\"12\": 116}, \"5\": {\"5\": 152}, \"29\": {\"29\": 140}, \"47\": {\"47\": 140}, \"10\": {\"10\": 96}, \"18\": {\"18\": 71, \"50\": 1}, \"9\": {\"9\": 126}, \"3\": {\"3\": 140}, \"52\": {\"52\": 132}, \"25\": {\"25\": 136}, \"19\": {\"19\": 156}, \"11\": {\"11\": 136}, \"7\": {\"7\": 28}, \"23\": {\"23\": 136}, \"44\": {\"44\": 132}, \"42\": {\"42\": 40}, \"54\": {\"54\": 104}, \"1\": {\"1\": 99, \"57\": 1}, \"46\": {\"46\": 128}, \"6\": {\"6\": 96}, \"43\": {\"43\": 144}, \"51\": {\"51\": 142}, \"22\": {\"22\": 136}, \"0\": {\"0\": 128}}, \"CORES_4\": {\"32\": {\"32\": 24}, \"2\": {\"2\": 36}, \"41\": {\"41\": 36}, \"11\": {\"11\": 102}, \"57\": {\"57\": 100}, \"6\": {\"6\": 112}, \"23\": {\"23\": 136}, \"52\": {\"52\": 116}, \"38\": {\"38\": 40}, \"50\": {\"50\": 132}, \"55\": {\"55\": 152}, \"46\": {\"46\": 154}, \"37\": {\"37\": 24}, \"20\": {\"20\": 118}, \"49\": {\"49\": 20}, \"45\": {\"45\": 96}, \"54\": {\"54\": 108}, \"3\": {\"3\": 124}, \"13\": {\"13\": 152}, \"18\": {\"18\": 108}, \"21\": {\"21\": 125, \"50\": 1}, \"43\": {\"43\": 144}, \"47\": {\"47\": 120}, \"4\": {\"4\": 132}, \"12\": {\"12\": 92}, \"9\": {\"9\": 128}, \"7\": {\"7\": 24}, \"56\": {\"56\": 112}, \"28\": {\"28\": 32}, \"44\": {\"44\": 132}, \"24\": {\"24\": 56}, \"33\": {\"33\": 36}, \"35\": {\"35\": 40}, \"51\": {\"51\": 138}, \"39\": {\"39\": 20}, \"36\": {\"36\": 92}, \"19\": {\"19\": 140}, \"0\": {\"0\": 79, \"46\": 1}, \"15\": {\"15\": 136}, \"29\": {\"29\": 124}, \"30\": {\"30\": 44}, \"1\": {\"1\": 40}, \"22\": {\"22\": 128}, \"40\": {\"40\": 146}, \"8\": {\"8\": 128}, \"53\": {\"53\": 138}, \"34\": {\"34\": 24}, \"10\": {\"10\": 121, \"15\": 1}, \"31\": {\"31\": 28}, \"17\": {\"17\": 80}, \"16\": {\"16\": 96}, \"42\": {\"42\": 32}, \"27\": {\"27\": 142}, \"14\": {\"14\": 16}, \"25\": {\"25\": 122}, \"48\": {\"48\": 132}, \"26\": {\"26\": 24}, \"5\": {\"5\": 108}}, \"CORES_3\": {\"14\": {\"14\": 37, \"0\": 3}, \"18\": {\"18\": 84}, \"30\": {\"30\": 120}, \"16\": {\"16\": 156}, \"1\": {\"1\": 100}, \"20\": {\"20\": 132}, \"7\": {\"7\": 36}, \"52\": {\"52\": 130}, \"9\": {\"9\": 140}, \"23\": {\"23\": 144}, \"55\": {\"55\": 164}, \"29\": {\"29\": 126}, \"56\": {\"56\": 134}, \"3\": {\"3\": 124}, \"42\": {\"42\": 28}, \"6\": {\"6\": 88}, \"5\": {\"5\": 116}, \"27\": {\"27\": 144}, \"47\": {\"47\": 92}, \"39\": {\"39\": 16}, \"34\": {\"34\": 32}, \"4\": {\"4\": 126}, \"24\": {\"24\": 104}, \"46\": {\"46\": 118}, \"50\": {\"50\": 126}, \"38\": {\"38\": 28}, \"54\": {\"54\": 100}, \"35\": {\"35\": 28}, \"2\": {\"2\": 32}, \"41\": {\"41\": 28}, \"57\": {\"57\": 118}, \"25\": {\"25\": 150}, \"48\": {\"48\": 116}, \"33\": {\"33\": 28}, \"45\": {\"45\": 60}, \"13\": {\"13\": 126}, \"36\": {\"36\": 100}, \"43\": {\"43\": 132}, \"28\": {\"28\": 28}, \"0\": {\"0\": 124}, \"12\": {\"12\": 92}, \"31\": {\"31\": 28}, \"40\": {\"40\": 116}, \"44\": {\"44\": 87, \"40\": 1}, \"32\": {\"32\": 28}, \"26\": {\"26\": 24}, \"8\": {\"8\": 116}, \"10\": {\"10\": 64}, \"15\": {\"15\": 142}, \"21\": {\"21\": 127, \"50\": 1}, \"37\": {\"37\": 28}, \"17\": {\"17\": 108}, \"51\": {\"51\": 124}, \"53\": {\"53\": 144}, \"19\": {\"19\": 136}, \"49\": {\"49\": 20}, \"11\": {\"11\": 138}, \"22\": {\"22\": 130}}, \"ORACLE.run1_8\": {\"13\": {\"5\": 80, \"13\": 95, \"0\": 114, \"8\": 49, \"7\": 73, \"9\": 45, \"14\": 91, \"4\": 113, \"12\": 35, \"10\": 101, \"2\": 76, \"11\": 84, \"6\": 58, \"3\": 56, \"1\": 86, \"15\": 44}, \"9\": {\"5\": 109, \"9\": 718, \"10\": 79, \"7\": 15, \"11\": 17, \"13\": 47, \"6\": 21, \"1\": 39, \"0\": 43, \"14\": 58, \"15\": 3, \"4\": 41, \"8\": 1, \"3\": 5, \"2\": 3, \"12\": 1}, \"15\": {\"0\": 44, \"15\": 144, \"12\": 164, \"6\": 71, \"8\": 134, \"11\": 56, \"10\": 26, \"3\": 152, \"2\": 94, \"5\": 26, \"1\": 63, \"7\": 69, \"4\": 53, \"13\": 56, \"14\": 44, \"9\": 4}, \"2\": {\"3\": 186, \"6\": 74, \"15\": 115, \"0\": 66, \"12\": 143, \"2\": 161, \"10\": 40, \"1\": 37, \"13\": 59, \"7\": 87, \"14\": 41, \"11\": 31, \"4\": 52, \"9\": 5, \"8\": 81, \"5\": 22}, \"3\": {\"14\": 35, \"12\": 170, \"15\": 129, \"8\": 99, \"2\": 166, \"1\": 24, \"3\": 200, \"0\": 51, \"6\": 78, \"13\": 39, \"11\": 37, \"5\": 16, \"4\": 54, \"10\": 25, \"7\": 75, \"9\": 2}, \"8\": {\"7\": 79, \"12\": 109, \"1\": 84, \"3\": 94, \"6\": 83, \"15\": 126, \"2\": 90, \"0\": 55, \"14\": 75, \"8\": 118, \"5\": 43, \"10\": 44, \"13\": 53, \"11\": 93, \"4\": 48, \"9\": 6}, \"5\": {\"4\": 83, \"2\": 27, \"1\": 126, \"9\": 80, \"7\": 51, \"5\": 177, \"11\": 86, \"10\": 122, \"0\": 84, \"8\": 48, \"14\": 110, \"13\": 90, \"6\": 60, \"3\": 16, \"15\": 25, \"12\": 15}, \"14\": {\"1\": 99, \"10\": 98, \"12\": 52, \"4\": 95, \"11\": 106, \"0\": 95, \"3\": 34, \"8\": 63, \"14\": 88, \"7\": 83, \"6\": 73, \"13\": 82, \"15\": 43, \"5\": 91, \"2\": 62, \"9\": 36}, \"1\": {\"8\": 72, \"5\": 122, \"4\": 90, \"10\": 99, \"6\": 89, \"15\": 53, \"0\": 75, \"13\": 75, \"12\": 42, \"1\": 132, \"3\": 33, \"14\": 89, \"11\": 107, \"9\": 27, \"7\": 61, \"2\": 34}, \"0\": {\"2\": 70, \"12\": 35, \"14\": 82, \"9\": 40, \"10\": 106, \"1\": 71, \"0\": 104, \"5\": 93, \"13\": 89, \"7\": 99, \"3\": 61, \"8\": 57, \"6\": 93, \"15\": 60, \"11\": 58, \"4\": 82}, \"10\": {\"15\": 32, \"0\": 110, \"4\": 92, \"1\": 84, \"7\": 84, \"5\": 111, \"13\": 84, \"6\": 78, \"8\": 52, \"12\": 31, \"11\": 95, \"14\": 104, \"10\": 113, \"3\": 29, \"9\": 59, \"2\": 42}, \"6\": {\"10\": 79, \"8\": 69, \"6\": 80, \"5\": 73, \"0\": 84, \"2\": 72, \"14\": 78, \"7\": 114, \"15\": 81, \"12\": 58, \"4\": 87, \"13\": 89, \"3\": 62, \"11\": 75, \"1\": 80, \"9\": 19}, \"11\": {\"10\": 92, \"4\": 112, \"11\": 153, \"1\": 130, \"3\": 27, \"6\": 63, \"8\": 80, \"0\": 60, \"7\": 66, \"5\": 108, \"14\": 90, \"12\": 41, \"2\": 39, \"15\": 58, \"9\": 16, \"13\": 65}, \"7\": {\"14\": 72, \"4\": 75, \"1\": 77, \"8\": 76, \"12\": 74, \"5\": 63, \"6\": 83, \"0\": 92, \"7\": 105, \"3\": 91, \"2\": 109, \"15\": 85, \"13\": 76, \"10\": 51, \"11\": 59, \"9\": 12}, \"4\": {\"10\": 113, \"7\": 76, \"3\": 60, \"6\": 80, \"14\": 97, \"13\": 85, \"2\": 68, \"8\": 64, \"15\": 59, \"12\": 43, \"5\": 84, \"1\": 93, \"11\": 80, \"4\": 85, \"0\": 92, \"9\": 21}, \"12\": {\"14\": 40, \"0\": 39, \"10\": 25, \"8\": 103, \"11\": 52, \"15\": 158, \"2\": 134, \"3\": 184, \"6\": 51, \"12\": 208, \"1\": 43, \"13\": 31, \"5\": 19, \"7\": 80, \"4\": 33}}, \"ORACLE.run1_38\": {\"13\": {\"9\": 39, \"2\": 166, \"15\": 142, \"10\": 99, \"14\": 92, \"1\": 145, \"11\": 73, \"13\": 171, \"12\": 20, \"6\": 53, \"7\": 24, \"8\": 60, \"5\": 59, \"3\": 8, \"0\": 42, \"4\": 7}, \"12\": {\"12\": 346, \"4\": 280, \"11\": 65, \"10\": 78, \"7\": 71, \"8\": 81, \"13\": 18, \"0\": 80, \"14\": 71, \"5\": 32, \"15\": 32, \"9\": 3, \"2\": 10, \"6\": 7, \"1\": 20, \"3\": 6}, \"2\": {\"15\": 100, \"14\": 195, \"11\": 163, \"13\": 171, \"2\": 311, \"8\": 33, \"5\": 21, \"1\": 70, \"10\": 73, \"6\": 13, \"4\": 5, \"12\": 22, \"7\": 6, \"0\": 12, \"9\": 3, \"3\": 2}, \"9\": {\"6\": 235, \"5\": 81, \"13\": 36, \"8\": 55, \"3\": 232, \"0\": 97, \"9\": 249, \"1\": 74, \"7\": 72, \"15\": 27, \"14\": 2, \"10\": 15, \"12\": 13, \"4\": 8, \"2\": 3, \"11\": 1}, \"15\": {\"2\": 107, \"1\": 156, \"4\": 17, \"10\": 94, \"13\": 137, \"5\": 85, \"9\": 45, \"8\": 82, \"15\": 129, \"6\": 66, \"14\": 65, \"12\": 34, \"7\": 38, \"11\": 60, \"0\": 72, \"3\": 13}, \"5\": {\"3\": 85, \"0\": 130, \"13\": 71, \"7\": 115, \"6\": 135, \"5\": 112, \"9\": 114, \"4\": 30, \"10\": 58, \"15\": 76, \"8\": 101, \"12\": 28, \"2\": 22, \"1\": 90, \"14\": 20, \"11\": 13}, \"14\": {\"15\": 62, \"11\": 283, \"14\": 275, \"2\": 171, \"12\": 74, \"7\": 21, \"10\": 99, \"1\": 36, \"5\": 16, \"4\": 19, \"13\": 87, \"6\": 5, \"0\": 20, \"8\": 29, \"9\": 3}, \"0\": {\"4\": 71, \"3\": 125, \"12\": 70, \"0\": 153, \"7\": 139, \"1\": 44, \"6\": 95, \"15\": 63, \"8\": 101, \"5\": 112, \"9\": 108, \"13\": 25, \"11\": 13, \"10\": 48, \"14\": 21, \"2\": 12}, \"3\": {\"3\": 491, \"8\": 44, \"7\": 87, \"9\": 235, \"1\": 16, \"6\": 128, \"0\": 108, \"13\": 7, \"4\": 16, \"5\": 49, \"12\": 7, \"10\": 4, \"15\": 8}, \"1\": {\"2\": 95, \"5\": 77, \"3\": 13, \"9\": 82, \"1\": 204, \"6\": 114, \"13\": 162, \"0\": 58, \"7\": 27, \"15\": 156, \"8\": 75, \"12\": 14, \"10\": 52, \"14\": 35, \"11\": 33, \"4\": 3}, \"11\": {\"14\": 241, \"2\": 166, \"11\": 371, \"8\": 28, \"10\": 96, \"1\": 28, \"5\": 21, \"13\": 63, \"12\": 81, \"4\": 31, \"6\": 5, \"7\": 12, \"15\": 44, \"9\": 2, \"0\": 10, \"3\": 1}, \"7\": {\"12\": 58, \"0\": 153, \"4\": 106, \"6\": 90, \"1\": 41, \"5\": 103, \"10\": 55, \"3\": 110, \"9\": 77, \"7\": 198, \"15\": 43, \"14\": 14, \"8\": 122, \"13\": 18, \"11\": 7, \"2\": 5}, \"8\": {\"4\": 49, \"6\": 108, \"15\": 89, \"12\": 78, \"7\": 125, \"11\": 20, \"5\": 113, \"8\": 116, \"10\": 84, \"9\": 76, \"0\": 114, \"1\": 70, \"13\": 67, \"3\": 35, \"14\": 29, \"2\": 27}, \"4\": {\"12\": 307, \"8\": 61, \"4\": 401, \"11\": 50, \"10\": 61, \"13\": 9, \"7\": 120, \"0\": 77, \"5\": 41, \"14\": 27, \"3\": 8, \"6\": 10, \"15\": 14, \"1\": 6, \"9\": 4, \"2\": 4}, \"10\": {\"10\": 138, \"14\": 104, \"0\": 70, \"12\": 95, \"13\": 102, \"11\": 103, \"1\": 59, \"8\": 85, \"4\": 52, \"5\": 70, \"2\": 78, \"7\": 78, \"9\": 14, \"15\": 105, \"3\": 15, \"6\": 32}, \"6\": {\"2\": 15, \"3\": 121, \"9\": 192, \"1\": 94, \"0\": 98, \"5\": 108, \"7\": 94, \"6\": 226, \"10\": 41, \"8\": 84, \"13\": 30, \"15\": 68, \"4\": 14, \"12\": 11, \"14\": 2, \"11\": 2}}, \"ORACLE.run1_26\": {\"10\": {\"7\": 74, \"4\": 79, \"2\": 80, \"14\": 108, \"0\": 109, \"3\": 60, \"1\": 79, \"5\": 70, \"6\": 91, \"12\": 55, \"10\": 71, \"11\": 35, \"8\": 92, \"15\": 65, \"9\": 75, \"13\": 57}, \"12\": {\"12\": 355, \"5\": 67, \"11\": 205, \"14\": 43, \"10\": 52, \"1\": 35, \"9\": 68, \"13\": 75, \"15\": 48, \"4\": 27, \"6\": 85, \"8\": 47, \"7\": 18, \"0\": 42, \"3\": 19, \"2\": 14}, \"1\": {\"6\": 70, \"7\": 109, \"15\": 64, \"10\": 89, \"4\": 87, \"2\": 67, \"1\": 135, \"0\": 104, \"3\": 79, \"9\": 65, \"14\": 133, \"8\": 85, \"11\": 12, \"12\": 27, \"13\": 35, \"5\": 39}, \"0\": {\"9\": 80, \"10\": 91, \"0\": 95, \"15\": 73, \"6\": 80, \"2\": 78, \"3\": 73, \"14\": 103, \"4\": 111, \"13\": 55, \"1\": 92, \"12\": 41, \"7\": 84, \"8\": 80, \"5\": 50, \"11\": 14}, \"15\": {\"2\": 91, \"13\": 102, \"9\": 69, \"7\": 84, \"8\": 82, \"4\": 79, \"12\": 47, \"5\": 103, \"1\": 62, \"11\": 26, \"0\": 68, \"15\": 87, \"3\": 88, \"10\": 70, \"6\": 83, \"14\": 59}, \"13\": {\"14\": 32, \"15\": 84, \"5\": 113, \"8\": 59, \"11\": 90, \"6\": 78, \"10\": 60, \"0\": 66, \"13\": 146, \"9\": 110, \"2\": 81, \"3\": 56, \"7\": 60, \"12\": 78, \"1\": 44, \"4\": 43}, \"8\": {\"2\": 79, \"7\": 78, \"14\": 101, \"15\": 75, \"8\": 83, \"3\": 88, \"6\": 93, \"0\": 91, \"5\": 60, \"4\": 106, \"13\": 55, \"12\": 34, \"9\": 72, \"10\": 77, \"1\": 90, \"11\": 18}, \"3\": {\"2\": 128, \"8\": 83, \"4\": 81, \"7\": 113, \"3\": 155, \"0\": 64, \"13\": 55, \"5\": 74, \"14\": 71, \"15\": 70, \"1\": 88, \"6\": 59, \"10\": 66, \"9\": 76, \"11\": 3, \"12\": 14}, \"11\": {\"11\": 570, \"12\": 248, \"8\": 18, \"1\": 8, \"13\": 94, \"14\": 14, \"6\": 46, \"4\": 11, \"3\": 8, \"15\": 37, \"5\": 62, \"10\": 20, \"2\": 10, \"0\": 15, \"7\": 5, \"9\": 34}, \"4\": {\"2\": 81, \"15\": 66, \"14\": 119, \"1\": 109, \"10\": 101, \"7\": 94, \"9\": 67, \"0\": 100, \"4\": 96, \"12\": 30, \"5\": 49, \"3\": 94, \"6\": 64, \"8\": 82, \"11\": 4, \"13\": 44}, \"6\": {\"8\": 79, \"1\": 68, \"6\": 95, \"3\": 64, \"4\": 63, \"14\": 85, \"11\": 57, \"2\": 73, \"13\": 84, \"9\": 75, \"7\": 59, \"15\": 89, \"12\": 82, \"10\": 77, \"5\": 75, \"0\": 75}, \"7\": {\"4\": 90, \"10\": 79, \"15\": 64, \"14\": 90, \"5\": 61, \"2\": 88, \"6\": 63, \"0\": 92, \"3\": 109, \"7\": 113, \"1\": 109, \"13\": 62, \"9\": 66, \"12\": 21, \"8\": 83, \"11\": 10}, \"14\": {\"13\": 32, \"8\": 95, \"14\": 112, \"15\": 62, \"7\": 85, \"6\": 85, \"2\": 80, \"3\": 83, \"1\": 113, \"4\": 109, \"0\": 95, \"12\": 39, \"9\": 66, \"5\": 43, \"10\": 94, \"11\": 7}, \"2\": {\"5\": 94, \"8\": 72, \"15\": 81, \"1\": 74, \"2\": 117, \"7\": 93, \"0\": 74, \"12\": 26, \"10\": 56, \"14\": 69, \"13\": 83, \"4\": 76, \"9\": 79, \"3\": 123, \"6\": 72, \"11\": 11}, \"5\": {\"14\": 55, \"13\": 142, \"12\": 42, \"7\": 85, \"8\": 66, \"6\": 70, \"5\": 120, \"3\": 72, \"2\": 107, \"4\": 64, \"15\": 73, \"1\": 57, \"11\": 37, \"9\": 93, \"10\": 64, \"0\": 53}, \"9\": {\"14\": 63, \"1\": 68, \"9\": 100, \"8\": 69, \"15\": 70, \"10\": 67, \"2\": 80, \"13\": 81, \"3\": 80, \"6\": 97, \"12\": 65, \"11\": 36, \"5\": 101, \"7\": 83, \"4\": 68, \"0\": 72}}, \"ORACLE.run1_20\": {\"5\": {\"2\": 67, \"12\": 87, \"1\": 100, \"6\": 37, \"4\": 81, \"13\": 89, \"0\": 85, \"15\": 109, \"11\": 48, \"3\": 82, \"9\": 92, \"8\": 61, \"10\": 47, \"14\": 45, \"5\": 93, \"7\": 77}, \"15\": {\"0\": 108, \"2\": 77, \"14\": 16, \"9\": 87, \"5\": 101, \"7\": 67, \"13\": 101, \"12\": 103, \"1\": 109, \"10\": 35, \"4\": 77, \"3\": 72, \"11\": 55, \"15\": 117, \"6\": 26, \"8\": 49}, \"9\": {\"8\": 64, \"13\": 92, \"7\": 88, \"3\": 79, \"9\": 79, \"1\": 80, \"12\": 92, \"4\": 72, \"6\": 59, \"2\": 90, \"10\": 64, \"15\": 72, \"5\": 68, \"14\": 53, \"11\": 77, \"0\": 71}, \"7\": {\"11\": 87, \"13\": 64, \"10\": 90, \"14\": 94, \"15\": 62, \"8\": 91, \"9\": 69, \"6\": 90, \"3\": 76, \"2\": 66, \"7\": 72, \"5\": 64, \"4\": 66, \"0\": 75, \"1\": 61, \"12\": 73}, \"3\": {\"1\": 89, \"14\": 51, \"12\": 93, \"3\": 77, \"9\": 85, \"8\": 74, \"0\": 87, \"5\": 83, \"2\": 57, \"7\": 81, \"10\": 63, \"11\": 78, \"13\": 67, \"15\": 85, \"4\": 77, \"6\": 53}, \"8\": {\"11\": 82, \"6\": 107, \"2\": 63, \"14\": 115, \"1\": 53, \"13\": 60, \"0\": 71, \"5\": 56, \"7\": 76, \"8\": 103, \"10\": 97, \"9\": 55, \"4\": 93, \"3\": 63, \"15\": 44, \"12\": 62}, \"4\": {\"1\": 55, \"6\": 95, \"2\": 62, \"11\": 55, \"4\": 108, \"10\": 89, \"14\": 83, \"15\": 66, \"5\": 70, \"7\": 74, \"8\": 91, \"9\": 71, \"13\": 67, \"0\": 86, \"3\": 69, \"12\": 59}, \"6\": {\"4\": 87, \"7\": 90, \"6\": 151, \"0\": 41, \"12\": 38, \"2\": 57, \"14\": 136, \"5\": 36, \"10\": 131, \"1\": 31, \"11\": 117, \"3\": 52, \"8\": 113, \"15\": 28, \"9\": 53, \"13\": 39}, \"2\": {\"0\": 69, \"2\": 84, \"8\": 72, \"5\": 71, \"9\": 82, \"11\": 98, \"13\": 98, \"4\": 77, \"12\": 86, \"14\": 60, \"1\": 72, \"15\": 82, \"10\": 48, \"7\": 73, \"3\": 81, \"6\": 47}, \"12\": {\"1\": 87, \"12\": 89, \"11\": 52, \"2\": 85, \"7\": 74, \"0\": 79, \"4\": 67, \"5\": 104, \"3\": 77, \"9\": 98, \"13\": 97, \"15\": 96, \"6\": 48, \"14\": 43, \"10\": 44, \"8\": 60}, \"0\": {\"12\": 87, \"4\": 70, \"8\": 73, \"6\": 34, \"14\": 32, \"9\": 78, \"15\": 124, \"5\": 93, \"3\": 87, \"13\": 73, \"10\": 49, \"2\": 82, \"11\": 57, \"1\": 89, \"7\": 74, \"0\": 98}, \"13\": {\"15\": 83, \"0\": 83, \"14\": 44, \"9\": 86, \"6\": 42, \"1\": 100, \"8\": 68, \"2\": 82, \"10\": 48, \"4\": 56, \"11\": 93, \"3\": 69, \"13\": 118, \"7\": 69, \"12\": 79, \"5\": 80}, \"10\": {\"6\": 110, \"1\": 44, \"10\": 127, \"15\": 36, \"9\": 56, \"0\": 58, \"12\": 61, \"7\": 69, \"8\": 116, \"2\": 57, \"11\": 63, \"4\": 101, \"3\": 92, \"5\": 40, \"14\": 124, \"13\": 46}, \"11\": {\"3\": 58, \"0\": 44, \"9\": 83, \"7\": 87, \"14\": 67, \"11\": 234, \"1\": 46, \"2\": 80, \"10\": 48, \"6\": 113, \"4\": 57, \"15\": 44, \"8\": 76, \"13\": 74, \"5\": 36, \"12\": 53}, \"14\": {\"7\": 76, \"11\": 77, \"6\": 162, \"14\": 186, \"10\": 142, \"13\": 35, \"3\": 47, \"15\": 33, \"2\": 44, \"4\": 78, \"9\": 44, \"12\": 40, \"0\": 56, \"5\": 35, \"8\": 120, \"1\": 25}, \"1\": {\"9\": 92, \"4\": 76, \"12\": 122, \"2\": 90, \"11\": 42, \"13\": 92, \"8\": 62, \"5\": 90, \"10\": 44, \"14\": 34, \"0\": 83, \"15\": 112, \"1\": 91, \"3\": 71, \"7\": 72, \"6\": 27}}, \"ORACLE.run1_50\": {\"1\": {\"5\": 66, \"6\": 120, \"11\": 119, \"14\": 92, \"2\": 51, \"4\": 151, \"10\": 33, \"15\": 139, \"1\": 136, \"0\": 50, \"9\": 49, \"13\": 77, \"12\": 51, \"7\": 59, \"3\": 3, \"8\": 4}, \"2\": {\"12\": 55, \"5\": 57, \"0\": 198, \"8\": 84, \"13\": 64, \"2\": 257, \"7\": 62, \"4\": 41, \"6\": 50, \"10\": 92, \"3\": 46, \"1\": 51, \"9\": 19, \"14\": 82, \"11\": 26, \"15\": 16}, \"8\": {\"3\": 311, \"8\": 310, \"13\": 52, \"7\": 69, \"10\": 160, \"0\": 121, \"5\": 42, \"2\": 97, \"12\": 1, \"1\": 9, \"4\": 8, \"6\": 16, \"15\": 3, \"9\": 1}, \"7\": {\"5\": 126, \"8\": 68, \"6\": 91, \"2\": 51, \"4\": 105, \"13\": 156, \"10\": 111, \"0\": 84, \"7\": 165, \"14\": 26, \"1\": 86, \"3\": 48, \"15\": 49, \"11\": 18, \"9\": 10, \"12\": 6}, \"14\": {\"12\": 202, \"11\": 133, \"9\": 146, \"6\": 54, \"2\": 78, \"15\": 106, \"14\": 170, \"0\": 35, \"13\": 45, \"4\": 60, \"7\": 17, \"10\": 23, \"1\": 95, \"5\": 35, \"8\": 1}, \"6\": {\"0\": 71, \"11\": 64, \"1\": 118, \"7\": 95, \"13\": 102, \"10\": 57, \"4\": 101, \"15\": 144, \"14\": 58, \"6\": 152, \"9\": 26, \"5\": 105, \"12\": 22, \"2\": 56, \"8\": 20, \"3\": 9}, \"3\": {\"3\": 529, \"2\": 31, \"10\": 125, \"7\": 66, \"8\": 297, \"13\": 27, \"5\": 37, \"0\": 73, \"4\": 2, \"6\": 10, \"14\": 2, \"1\": 1}, \"4\": {\"4\": 137, \"0\": 42, \"10\": 59, \"2\": 37, \"1\": 111, \"13\": 106, \"5\": 97, \"9\": 42, \"7\": 94, \"12\": 48, \"11\": 77, \"15\": 149, \"14\": 55, \"6\": 124, \"8\": 12, \"3\": 10}, \"12\": {\"9\": 258, \"12\": 345, \"11\": 139, \"0\": 20, \"14\": 195, \"2\": 48, \"15\": 55, \"6\": 26, \"4\": 26, \"1\": 56, \"7\": 8, \"13\": 13, \"10\": 4, \"5\": 7}, \"15\": {\"14\": 87, \"15\": 209, \"11\": 151, \"0\": 16, \"1\": 148, \"4\": 127, \"5\": 52, \"2\": 25, \"12\": 58, \"13\": 55, \"9\": 87, \"6\": 123, \"7\": 44, \"10\": 15, \"3\": 1, \"8\": 2}, \"11\": {\"11\": 206, \"13\": 17, \"4\": 88, \"9\": 228, \"12\": 168, \"15\": 163, \"7\": 8, \"14\": 104, \"1\": 95, \"2\": 23, \"6\": 62, \"0\": 13, \"5\": 20, \"8\": 1, \"10\": 4}, \"0\": {\"12\": 13, \"7\": 86, \"3\": 56, \"1\": 47, \"14\": 44, \"8\": 110, \"0\": 185, \"13\": 88, \"2\": 194, \"5\": 74, \"4\": 54, \"10\": 130, \"6\": 67, \"15\": 30, \"11\": 16, \"9\": 6}, \"9\": {\"12\": 229, \"11\": 229, \"14\": 137, \"9\": 322, \"5\": 16, \"15\": 103, \"1\": 54, \"2\": 12, \"4\": 55, \"6\": 25, \"13\": 6, \"7\": 1, \"0\": 10, \"10\": 1}, \"10\": {\"4\": 34, \"13\": 98, \"6\": 62, \"5\": 88, \"2\": 119, \"10\": 185, \"1\": 34, \"3\": 126, \"8\": 156, \"0\": 138, \"7\": 111, \"12\": 7, \"11\": 9, \"15\": 14, \"9\": 4, \"14\": 15}, \"5\": {\"7\": 154, \"9\": 20, \"5\": 134, \"13\": 143, \"4\": 98, \"0\": 86, \"2\": 49, \"10\": 90, \"14\": 31, \"6\": 101, \"8\": 45, \"11\": 25, \"15\": 74, \"3\": 37, \"1\": 87, \"12\": 26}, \"13\": {\"14\": 38, \"6\": 118, \"11\": 23, \"3\": 36, \"2\": 52, \"5\": 145, \"10\": 125, \"1\": 69, \"13\": 142, \"7\": 152, \"4\": 76, \"15\": 65, \"0\": 86, \"12\": 10, \"8\": 52, \"9\": 11}}, \"ORACLE.run1_32\": {\"2\": {\"0\": 160, \"13\": 81, \"7\": 129, \"5\": 91, \"8\": 75, \"14\": 77, \"4\": 154, \"2\": 234, \"9\": 89, \"3\": 20, \"15\": 19, \"11\": 60, \"12\": 11}, \"6\": {\"10\": 188, \"6\": 596, \"1\": 166, \"12\": 162, \"9\": 84, \"2\": 2, \"0\": 1, \"8\": 1}, \"5\": {\"7\": 117, \"11\": 100, \"4\": 106, \"5\": 136, \"13\": 129, \"0\": 88, \"3\": 128, \"14\": 119, \"8\": 103, \"2\": 86, \"15\": 79, \"12\": 1, \"9\": 8}, \"12\": {\"10\": 145, \"12\": 525, \"9\": 340, \"2\": 13, \"6\": 122, \"1\": 34, \"0\": 11, \"4\": 4, \"13\": 1, \"8\": 2, \"7\": 2, \"15\": 1}, \"13\": {\"14\": 92, \"2\": 78, \"3\": 131, \"13\": 139, \"8\": 118, \"15\": 91, \"7\": 108, \"11\": 107, \"5\": 134, \"0\": 93, \"4\": 101, \"9\": 8}, \"9\": {\"9\": 577, \"12\": 293, \"5\": 13, \"2\": 93, \"15\": 3, \"6\": 51, \"7\": 10, \"0\": 61, \"4\": 49, \"10\": 19, \"13\": 8, \"8\": 14, \"1\": 2, \"14\": 5, \"11\": 2}, \"11\": {\"7\": 139, \"14\": 177, \"13\": 104, \"8\": 76, \"2\": 71, \"11\": 203, \"15\": 37, \"5\": 108, \"4\": 78, \"3\": 137, \"0\": 67, \"9\": 3}, \"1\": {\"10\": 361, \"1\": 621, \"6\": 179, \"12\": 37, \"9\": 2}, \"3\": {\"3\": 307, \"0\": 28, \"11\": 141, \"13\": 150, \"14\": 96, \"7\": 71, \"5\": 116, \"2\": 24, \"8\": 101, \"15\": 113, \"4\": 53}, \"7\": {\"14\": 140, \"8\": 82, \"0\": 88, \"13\": 96, \"2\": 100, \"11\": 137, \"7\": 134, \"5\": 135, \"3\": 110, \"4\": 121, \"15\": 44, \"9\": 12, \"12\": 1}, \"14\": {\"0\": 90, \"9\": 9, \"4\": 88, \"2\": 92, \"14\": 191, \"7\": 132, \"5\": 124, \"11\": 166, \"3\": 100, \"13\": 94, \"15\": 28, \"8\": 86}, \"8\": {\"11\": 74, \"3\": 103, \"14\": 91, \"13\": 117, \"5\": 129, \"7\": 103, \"8\": 151, \"4\": 117, \"0\": 115, \"2\": 75, \"15\": 115, \"9\": 9, \"12\": 1}, \"4\": {\"4\": 166, \"7\": 135, \"13\": 112, \"14\": 78, \"3\": 50, \"0\": 122, \"11\": 62, \"15\": 47, \"2\": 160, \"5\": 124, \"8\": 109, \"9\": 34, \"12\": 1}, \"0\": {\"11\": 73, \"7\": 100, \"5\": 101, \"14\": 93, \"4\": 137, \"8\": 125, \"15\": 65, \"9\": 58, \"2\": 151, \"13\": 82, \"3\": 41, \"0\": 170, \"12\": 4}, \"10\": {\"6\": 190, \"12\": 158, \"10\": 473, \"1\": 354, \"9\": 25}, \"15\": {\"15\": 457, \"8\": 172, \"3\": 135, \"14\": 34, \"9\": 8, \"0\": 67, \"11\": 38, \"13\": 113, \"5\": 78, \"4\": 45, \"7\": 35, \"2\": 18}}, \"ORACLE.run1_44\": {\"13\": {\"11\": 213, \"3\": 42, \"7\": 107, \"4\": 106, \"9\": 158, \"13\": 214, \"6\": 159, \"2\": 63, \"0\": 7, \"1\": 20, \"14\": 61, \"5\": 12, \"12\": 10, \"10\": 14, \"15\": 13, \"8\": 1}, \"4\": {\"15\": 107, \"5\": 113, \"14\": 232, \"13\": 124, \"0\": 66, \"4\": 289, \"9\": 67, \"6\": 35, \"3\": 26, \"11\": 61, \"7\": 27, \"8\": 32, \"1\": 7, \"2\": 9, \"12\": 4, \"10\": 1}, \"6\": {\"13\": 176, \"6\": 221, \"2\": 120, \"11\": 143, \"9\": 150, \"10\": 42, \"7\": 144, \"4\": 39, \"1\": 56, \"3\": 55, \"5\": 3, \"12\": 31, \"14\": 19, \"15\": 1}, \"0\": {\"8\": 270, \"15\": 214, \"5\": 223, \"14\": 127, \"0\": 288, \"4\": 63, \"13\": 6, \"11\": 6, \"6\": 1, \"7\": 1, \"3\": 1}, \"10\": {\"2\": 169, \"12\": 278, \"10\": 288, \"3\": 108, \"1\": 192, \"7\": 69, \"9\": 23, \"6\": 52, \"13\": 13, \"11\": 8}, \"7\": {\"3\": 104, \"10\": 70, \"13\": 112, \"2\": 133, \"12\": 79, \"6\": 159, \"9\": 165, \"1\": 86, \"7\": 169, \"11\": 88, \"4\": 15, \"0\": 2, \"14\": 12, \"15\": 6}, \"14\": {\"14\": 244, \"5\": 175, \"4\": 242, \"13\": 70, \"0\": 108, \"9\": 39, \"11\": 36, \"15\": 166, \"8\": 77, \"6\": 15, \"3\": 12, \"7\": 11, \"1\": 3, \"2\": 2}, \"15\": {\"0\": 205, \"5\": 190, \"8\": 175, \"14\": 179, \"4\": 154, \"15\": 238, \"13\": 19, \"11\": 11, \"9\": 11, \"3\": 7, \"1\": 3, \"2\": 1, \"6\": 3, \"7\": 3, \"12\": 1}, \"5\": {\"14\": 168, \"4\": 131, \"5\": 289, \"15\": 191, \"0\": 210, \"8\": 176, \"6\": 4, \"13\": 12, \"11\": 11, \"9\": 6, \"7\": 1, \"3\": 1}, \"2\": {\"1\": 139, \"7\": 138, \"4\": 7, \"2\": 186, \"6\": 121, \"13\": 73, \"10\": 160, \"9\": 88, \"5\": 1, \"12\": 137, \"3\": 116, \"11\": 29, \"14\": 5}, \"9\": {\"7\": 148, \"1\": 54, \"11\": 127, \"12\": 31, \"6\": 166, \"4\": 62, \"9\": 188, \"15\": 7, \"14\": 26, \"2\": 107, \"3\": 78, \"13\": 161, \"10\": 39, \"0\": 4, \"5\": 2}, \"12\": {\"12\": 323, \"2\": 125, \"1\": 227, \"6\": 27, \"3\": 144, \"10\": 230, \"7\": 72, \"13\": 16, \"9\": 30, \"11\": 6}, \"8\": {\"0\": 322, \"5\": 222, \"8\": 318, \"14\": 87, \"15\": 202, \"4\": 42, \"9\": 2, \"11\": 2, \"13\": 1, \"3\": 2}, \"3\": {\"3\": 249, \"1\": 214, \"4\": 10, \"13\": 45, \"9\": 94, \"12\": 148, \"2\": 129, \"15\": 4, \"10\": 98, \"7\": 123, \"14\": 8, \"11\": 14, \"6\": 63, \"0\": 1}, \"1\": {\"2\": 159, \"12\": 246, \"10\": 188, \"9\": 62, \"3\": 175, \"7\": 97, \"1\": 190, \"11\": 11, \"6\": 50, \"13\": 16, \"15\": 1, \"14\": 3, \"4\": 2}, \"11\": {\"11\": 359, \"6\": 174, \"13\": 211, \"1\": 11, \"9\": 116, \"7\": 114, \"4\": 72, \"3\": 21, \"12\": 4, \"2\": 29, \"14\": 55, \"5\": 14, \"10\": 8, \"0\": 6, \"15\": 5, \"8\": 1}}, \"ORACLE.run1_14\": {\"1\": {\"15\": 88, \"2\": 83, \"7\": 124, \"1\": 137, \"0\": 52, \"13\": 63, \"3\": 87, \"14\": 60, \"5\": 138, \"6\": 57, \"9\": 18, \"10\": 47, \"8\": 93, \"4\": 123, \"11\": 28, \"12\": 2}, \"15\": {\"1\": 93, \"6\": 69, \"15\": 312, \"5\": 102, \"7\": 312, \"13\": 67, \"4\": 69, \"3\": 28, \"14\": 36, \"10\": 11, \"0\": 9, \"2\": 75, \"8\": 15, \"11\": 2}, \"10\": {\"11\": 154, \"10\": 197, \"8\": 83, \"0\": 135, \"14\": 87, \"2\": 54, \"6\": 48, \"15\": 6, \"13\": 70, \"3\": 80, \"9\": 96, \"5\": 29, \"12\": 49, \"4\": 65, \"1\": 40, \"7\": 7}, \"2\": {\"6\": 111, \"3\": 86, \"13\": 138, \"7\": 88, \"8\": 29, \"14\": 107, \"5\": 103, \"2\": 124, \"0\": 44, \"1\": 91, \"15\": 83, \"10\": 51, \"4\": 97, \"11\": 39, \"9\": 7, \"12\": 2}, \"9\": {\"12\": 280, \"8\": 140, \"11\": 161, \"0\": 112, \"10\": 100, \"2\": 9, \"9\": 279, \"4\": 22, \"1\": 13, \"3\": 37, \"14\": 24, \"5\": 9, \"6\": 5, \"13\": 6, \"7\": 3}, \"5\": {\"1\": 131, \"5\": 146, \"4\": 106, \"3\": 80, \"0\": 47, \"7\": 112, \"13\": 92, \"6\": 82, \"14\": 77, \"2\": 97, \"15\": 107, \"10\": 43, \"11\": 25, \"8\": 46, \"12\": 2, \"9\": 7}, \"7\": {\"7\": 320, \"15\": 291, \"14\": 28, \"1\": 117, \"4\": 65, \"6\": 50, \"3\": 30, \"5\": 128, \"10\": 9, \"13\": 62, \"2\": 64, \"8\": 25, \"0\": 9, \"11\": 2}, \"13\": {\"14\": 129, \"5\": 76, \"13\": 173, \"3\": 96, \"7\": 63, \"4\": 96, \"2\": 119, \"11\": 42, \"6\": 144, \"1\": 55, \"15\": 83, \"10\": 60, \"0\": 45, \"9\": 6, \"8\": 10, \"12\": 3}, \"8\": {\"1\": 97, \"10\": 77, \"0\": 110, \"12\": 70, \"8\": 307, \"3\": 65, \"15\": 16, \"4\": 65, \"7\": 28, \"11\": 93, \"9\": 128, \"6\": 15, \"5\": 59, \"14\": 25, \"13\": 20, \"2\": 25}, \"6\": {\"6\": 160, \"13\": 169, \"1\": 67, \"10\": 64, \"14\": 153, \"2\": 128, \"11\": 33, \"5\": 88, \"3\": 88, \"0\": 46, \"15\": 73, \"4\": 71, \"9\": 11, \"7\": 37, \"8\": 11, \"12\": 1}, \"3\": {\"2\": 70, \"8\": 71, \"4\": 107, \"9\": 28, \"14\": 124, \"6\": 80, \"0\": 89, \"7\": 46, \"3\": 110, \"1\": 78, \"11\": 83, \"5\": 94, \"13\": 92, \"10\": 89, \"15\": 30, \"12\": 9}, \"12\": {\"12\": 525, \"9\": 311, \"0\": 56, \"4\": 11, \"11\": 143, \"8\": 81, \"10\": 48, \"6\": 1, \"5\": 5, \"14\": 5, \"1\": 3, \"3\": 7, \"13\": 3, \"2\": 1}, \"0\": {\"0\": 138, \"2\": 58, \"10\": 134, \"8\": 98, \"12\": 48, \"3\": 96, \"14\": 79, \"11\": 156, \"6\": 55, \"5\": 57, \"13\": 54, \"1\": 41, \"4\": 72, \"9\": 89, \"15\": 12, \"7\": 13}, \"4\": {\"5\": 97, \"13\": 81, \"10\": 81, \"3\": 108, \"1\": 103, \"0\": 88, \"11\": 49, \"8\": 71, \"2\": 81, \"7\": 76, \"9\": 22, \"4\": 105, \"14\": 78, \"12\": 8, \"6\": 84, \"15\": 68}, \"14\": {\"10\": 74, \"2\": 139, \"3\": 96, \"0\": 64, \"4\": 77, \"1\": 65, \"6\": 120, \"5\": 71, \"14\": 146, \"11\": 59, \"15\": 42, \"13\": 158, \"7\": 42, \"9\": 22, \"8\": 18, \"12\": 7}, \"11\": {\"8\": 72, \"9\": 155, \"11\": 214, \"12\": 110, \"4\": 47, \"10\": 170, \"2\": 29, \"3\": 60, \"14\": 70, \"1\": 25, \"6\": 32, \"0\": 171, \"13\": 26, \"5\": 13, \"7\": 3, \"15\": 3}}}, \"per_domain_accuracy\": {\"CORES_2\": {\"accuracy\": 1.0, \"source?\": true}, \"CORES_5\": {\"accuracy\": 0.9989466292134831, \"source?\": true}, \"CORES_1\": {\"accuracy\": 0.9996565934065934, \"source?\": true}, \"CORES_4\": {\"accuracy\": 0.999438622754491, \"source?\": true}, \"CORES_3\": {\"accuracy\": 0.9990862573099415, \"source?\": true}, \"ORACLE.run1_8\": {\"accuracy\": 0.13963541666666668, \"source?\": false}, \"ORACLE.run1_38\": {\"accuracy\": 0.20265625, \"source?\": false}, \"ORACLE.run1_26\": {\"accuracy\": 0.12760416666666666, \"source?\": false}, \"ORACLE.run1_20\": {\"accuracy\": 0.09515625, \"source?\": false}, \"ORACLE.run1_50\": {\"accuracy\": 0.18666666666666668, \"source?\": false}, \"ORACLE.run1_32\": {\"accuracy\": 0.26458333333333334, \"source?\": false}, \"ORACLE.run1_44\": {\"accuracy\": 0.21109375, \"source?\": false}, \"ORACLE.run1_14\": {\"accuracy\": 0.17671875, \"source?\": false}}}, \"history\": {\"epoch_indices\": [1, 2, 3, 4, 5, 6, 7, 8, 9, 10], \"train_label_loss\": [0.026940410567237682, 0.006680854209894517, 0.004217530230256683, 0.0037777626363175395, 0.003889920594193552, 0.002655222566324109, 0.002658728704840062, 0.0018641209667109757, 0.003009372739872, 0.0016412121017781005], \"source_val_label_loss\": [0.010011262260377407, 0.01309138722717762, 0.010913897305727005, 0.01132106315344572, 0.013330314308404922, 0.01209146436303854, 0.013883762061595917, 0.014821321703493595, 0.017711682245135307, 0.01580457016825676], \"target_val_label_loss\": [2.754523992538452, 3.2613131999969482, 3.3198792934417725, 3.4242334365844727, 3.6674585342407227, 3.8440093994140625, 3.6069226264953613, 4.001070022583008, 4.94651460647583, 4.750502586364746], \"source_val_acc_label\": [0.9982122425629291, 0.9979262013729977, 0.9991061212814645, 0.9991061212814645, 0.9991776315789473, 0.9994279176201373, 0.9992491418764302, 0.9994279176201373, 0.9991776315789473, 0.9996424485125858], \"target_val_acc_label\": [0.14213541666666665, 0.14341145833333332, 0.154296875, 0.16014973958333334, 0.14904296875, 0.17551432291666666, 0.15732421875, 0.13844401041666668, 0.15707682291666666, 0.17241536458333334]}, \"dataset_metrics\": {\"source\": {\"train\": {\"n_unique_x\": 175222, \"n_unique_y\": 58, \"n_batch/episode\": 6312}, \"val\": {\"n_unique_x\": 37135, \"n_unique_y\": 58, \"n_batch/episode\": 874}, \"test\": {\"n_unique_x\": 37673, \"n_unique_y\": 58, \"n_batch/episode\": 893}}, \"target\": {\"train\": {\"n_unique_x\": 896000, \"n_unique_y\": 16, \"n_batch/episode\": 33600}, \"val\": {\"n_unique_x\": 192000, \"n_unique_y\": 16, \"n_batch/episode\": 4800}, \"test\": {\"n_unique_x\": 192000, \"n_unique_y\": 16, \"n_batch/episode\": 4800}}}}'"
      ]
     },
     "execution_count": 29,
     "metadata": {},
     "output_type": "execute_result"
    }
   ],
   "source": [
    "json.dumps(experiment)"
   ]
  }
 ],
 "metadata": {
  "celltoolbar": "Tags",
  "kernelspec": {
   "display_name": "Python 3 (ipykernel)",
   "language": "python",
   "name": "python3"
  },
  "language_info": {
   "codemirror_mode": {
    "name": "ipython",
    "version": 3
   },
   "file_extension": ".py",
   "mimetype": "text/x-python",
   "name": "python",
   "nbconvert_exporter": "python",
   "pygments_lexer": "ipython3",
   "version": "3.8.12"
  },
  "papermill": {
   "default_parameters": {},
   "duration": 3333.886949,
   "end_time": "2022-03-22T10:44:00.249879",
   "environment_variables": {},
   "exception": null,
   "input_path": "/root/csc500-main/csc500-notebooks/templates/tl_ptn_template.ipynb",
   "output_path": "trial.ipynb",
   "parameters": {
    "parameters": {
     "BEST_MODEL_PATH": "./best_model.pth",
     "NUM_LOGS_PER_EPOCH": 10,
     "criteria_for_best": "target_accuracy",
     "dataset_seed": 154325,
     "datasets": [
      {
       "domain_prefix": "CORES_",
       "domains": [
        1,
        2,
        3,
        4,
        5
       ],
       "episode_transforms": [],
       "labels": [
        "1-10.",
        "1-11.",
        "1-15.",
        "1-16.",
        "1-17.",
        "1-18.",
        "1-19.",
        "10-4.",
        "10-7.",
        "11-1.",
        "11-14.",
        "11-17.",
        "11-20.",
        "11-7.",
        "13-20.",
        "13-8.",
        "14-10.",
        "14-11.",
        "14-14.",
        "14-7.",
        "15-1.",
        "15-20.",
        "16-1.",
        "16-16.",
        "17-10.",
        "17-11.",
        "17-2.",
        "19-1.",
        "19-16.",
        "19-19.",
        "19-20.",
        "19-3.",
        "2-10.",
        "2-11.",
        "2-17.",
        "2-18.",
        "2-20.",
        "2-3.",
        "2-4.",
        "2-5.",
        "2-6.",
        "2-7.",
        "2-8.",
        "3-13.",
        "3-18.",
        "3-3.",
        "4-1.",
        "4-10.",
        "4-11.",
        "4-19.",
        "5-5.",
        "6-15.",
        "7-10.",
        "7-14.",
        "8-18.",
        "8-20.",
        "8-3.",
        "8-8."
       ],
       "num_examples_per_domain_per_label": -1,
       "pickle_path": "/root/csc500-main/datasets/cores.stratified_ds.2022A.pkl",
       "source_or_target_dataset": "source",
       "x_transforms": [
        "unit_power"
       ]
      },
      {
       "domain_prefix": "ORACLE.run1_",
       "domains": [
        32,
        38,
        8,
        44,
        14,
        50,
        20,
        26
       ],
       "episode_transforms": [],
       "labels": [
        "3123D52",
        "3123D65",
        "3123D79",
        "3123D80",
        "3123D54",
        "3123D70",
        "3123D7B",
        "3123D89",
        "3123D58",
        "3123D76",
        "3123D7D",
        "3123EFE",
        "3123D64",
        "3123D78",
        "3123D7E",
        "3124E4A"
       ],
       "num_examples_per_domain_per_label": 10000,
       "pickle_path": "/root/csc500-main/datasets/oracle.Run1_10kExamples_stratified_ds.2022A.pkl",
       "source_or_target_dataset": "target",
       "x_transforms": [
        "unit_power"
       ]
      }
     ],
     "device": "cuda",
     "experiment_name": "tl_1v2:cores-oracle.run1",
     "lr": 0.0001,
     "n_epoch": 50,
     "n_query": 2,
     "n_shot": 3,
     "n_way": 16,
     "patience": 3,
     "seed": 154325,
     "test_k_factor": 2,
     "torch_default_dtype": "torch.float32",
     "train_k_factor": 3,
     "val_k_factor": 2,
     "x_net": [
      {
       "class": "nnReshape",
       "kargs": {
        "shape": [
         -1,
         1,
         2,
         256
        ]
       }
      },
      {
       "class": "Conv2d",
       "kargs": {
        "bias": false,
        "in_channels": 1,
        "kernel_size": [
         1,
         7
        ],
        "out_channels": 256,
        "padding": [
         0,
         3
        ]
       }
      },
      {
       "class": "ReLU",
       "kargs": {
        "inplace": true
       }
      },
      {
       "class": "BatchNorm2d",
       "kargs": {
        "num_features": 256
       }
      },
      {
       "class": "Conv2d",
       "kargs": {
        "bias": true,
        "in_channels": 256,
        "kernel_size": [
         2,
         7
        ],
        "out_channels": 80,
        "padding": [
         0,
         3
        ]
       }
      },
      {
       "class": "ReLU",
       "kargs": {
        "inplace": true
       }
      },
      {
       "class": "BatchNorm2d",
       "kargs": {
        "num_features": 80
       }
      },
      {
       "class": "Flatten",
       "kargs": {}
      },
      {
       "class": "Linear",
       "kargs": {
        "in_features": 20480,
        "out_features": 256
       }
      },
      {
       "class": "ReLU",
       "kargs": {
        "inplace": true
       }
      },
      {
       "class": "BatchNorm1d",
       "kargs": {
        "num_features": 256
       }
      },
      {
       "class": "Linear",
       "kargs": {
        "in_features": 256,
        "out_features": 256
       }
      }
     ]
    }
   },
   "start_time": "2022-03-22T09:48:26.362930",
   "version": "2.3.4"
  }
 },
 "nbformat": 4,
 "nbformat_minor": 5
}