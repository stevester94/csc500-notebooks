{
 "cells": [
  {
   "cell_type": "markdown",
   "id": "9fea5f46",
   "metadata": {
    "papermill": {
     "duration": 0.033209,
     "end_time": "2022-03-22T04:21:44.283337",
     "exception": false,
     "start_time": "2022-03-22T04:21:44.250128",
     "status": "completed"
    },
    "tags": []
   },
   "source": [
    "# Transfer Learning Template"
   ]
  },
  {
   "cell_type": "code",
   "execution_count": 1,
   "id": "0902182a",
   "metadata": {
    "execution": {
     "iopub.execute_input": "2022-03-22T04:21:44.348475Z",
     "iopub.status.busy": "2022-03-22T04:21:44.346301Z",
     "iopub.status.idle": "2022-03-22T04:21:46.723888Z",
     "shell.execute_reply": "2022-03-22T04:21:46.723384Z"
    },
    "papermill": {
     "duration": 2.414957,
     "end_time": "2022-03-22T04:21:46.723983",
     "exception": false,
     "start_time": "2022-03-22T04:21:44.309026",
     "status": "completed"
    },
    "tags": []
   },
   "outputs": [],
   "source": [
    "%load_ext autoreload\n",
    "%autoreload 2\n",
    "%matplotlib inline\n",
    "\n",
    "    \n",
    "import os, json, sys, time, random\n",
    "import numpy as np\n",
    "import torch\n",
    "from torch.optim import Adam\n",
    "from  easydict import EasyDict\n",
    "import matplotlib.pyplot as plt\n",
    "\n",
    "from steves_models.steves_ptn import Steves_Prototypical_Network\n",
    "\n",
    "from steves_utils.lazy_iterable_wrapper import Lazy_Iterable_Wrapper\n",
    "from steves_utils.iterable_aggregator import Iterable_Aggregator\n",
    "from steves_utils.ptn_train_eval_test_jig import  PTN_Train_Eval_Test_Jig\n",
    "from steves_utils.torch_sequential_builder import build_sequential\n",
    "from steves_utils.torch_utils import get_dataset_metrics, ptn_confusion_by_domain_over_dataloader\n",
    "from steves_utils.utils_v2 import (per_domain_accuracy_from_confusion, get_datasets_base_path)\n",
    "from steves_utils.PTN.utils import independent_accuracy_assesment\n",
    "\n",
    "from torch.utils.data import DataLoader\n",
    "\n",
    "from steves_utils.stratified_dataset.episodic_accessor import Episodic_Accessor_Factory\n",
    "\n",
    "from steves_utils.ptn_do_report import (\n",
    "    get_loss_curve,\n",
    "    get_results_table,\n",
    "    get_parameters_table,\n",
    "    get_domain_accuracies,\n",
    ")\n",
    "\n",
    "from steves_utils.transforms import get_chained_transform"
   ]
  },
  {
   "cell_type": "markdown",
   "id": "41c840b4",
   "metadata": {
    "papermill": {
     "duration": 0.018868,
     "end_time": "2022-03-22T04:21:46.762679",
     "exception": false,
     "start_time": "2022-03-22T04:21:46.743811",
     "status": "completed"
    },
    "tags": []
   },
   "source": [
    "# Allowed Parameters\n",
    "These are allowed parameters, not defaults\n",
    "Each of these values need to be present in the injected parameters (the notebook will raise an exception if they are not present)\n",
    "\n",
    "Papermill uses the cell tag \"parameters\" to inject the real parameters below this cell.\n",
    "Enable tags to see what I mean"
   ]
  },
  {
   "cell_type": "code",
   "execution_count": 2,
   "id": "fd44eb83",
   "metadata": {
    "execution": {
     "iopub.execute_input": "2022-03-22T04:21:46.806379Z",
     "iopub.status.busy": "2022-03-22T04:21:46.805999Z",
     "iopub.status.idle": "2022-03-22T04:21:46.827986Z",
     "shell.execute_reply": "2022-03-22T04:21:46.827621Z"
    },
    "papermill": {
     "duration": 0.046523,
     "end_time": "2022-03-22T04:21:46.828053",
     "exception": false,
     "start_time": "2022-03-22T04:21:46.781530",
     "status": "completed"
    },
    "tags": []
   },
   "outputs": [],
   "source": [
    "required_parameters = {\n",
    "    \"experiment_name\",\n",
    "    \"lr\",\n",
    "    \"device\",\n",
    "    \"seed\",\n",
    "    \"dataset_seed\",\n",
    "    \"n_shot\",\n",
    "    \"n_query\",\n",
    "    \"n_way\",\n",
    "    \"train_k_factor\",\n",
    "    \"val_k_factor\",\n",
    "    \"test_k_factor\",\n",
    "    \"n_epoch\",\n",
    "    \"patience\",\n",
    "    \"criteria_for_best\",\n",
    "    \"x_net\",\n",
    "    \"datasets\",\n",
    "    \"torch_default_dtype\",\n",
    "    \"NUM_LOGS_PER_EPOCH\",\n",
    "    \"BEST_MODEL_PATH\",\n",
    "    \"x_shape\",\n",
    "}"
   ]
  },
  {
   "cell_type": "code",
   "execution_count": 3,
   "id": "fa3f0049",
   "metadata": {
    "execution": {
     "iopub.execute_input": "2022-03-22T04:21:46.875868Z",
     "iopub.status.busy": "2022-03-22T04:21:46.875233Z",
     "iopub.status.idle": "2022-03-22T04:21:46.896683Z",
     "shell.execute_reply": "2022-03-22T04:21:46.896319Z"
    },
    "papermill": {
     "duration": 0.049582,
     "end_time": "2022-03-22T04:21:46.896750",
     "exception": false,
     "start_time": "2022-03-22T04:21:46.847168",
     "status": "completed"
    },
    "tags": [
     "parameters"
    ]
   },
   "outputs": [],
   "source": [
    "from steves_utils.CORES.utils import (\n",
    "    ALL_NODES,\n",
    "    ALL_NODES_MINIMUM_1000_EXAMPLES,\n",
    "    ALL_DAYS\n",
    ")\n",
    "\n",
    "from steves_utils.ORACLE.utils_v2 import (\n",
    "    ALL_DISTANCES_FEET_NARROWED,\n",
    "    ALL_RUNS,\n",
    "    ALL_SERIAL_NUMBERS,\n",
    ")\n",
    "\n",
    "standalone_parameters = {}\n",
    "standalone_parameters[\"experiment_name\"] = \"STANDALONE PTN\"\n",
    "standalone_parameters[\"lr\"] = 0.001\n",
    "standalone_parameters[\"device\"] = \"cuda\"\n",
    "\n",
    "standalone_parameters[\"seed\"] = 1337\n",
    "standalone_parameters[\"dataset_seed\"] = 1337\n",
    "\n",
    "standalone_parameters[\"n_way\"] = 8\n",
    "standalone_parameters[\"n_shot\"] = 3\n",
    "standalone_parameters[\"n_query\"]  = 2\n",
    "standalone_parameters[\"train_k_factor\"] = 1\n",
    "standalone_parameters[\"val_k_factor\"] = 2\n",
    "standalone_parameters[\"test_k_factor\"] = 2\n",
    "\n",
    "\n",
    "standalone_parameters[\"n_epoch\"] = 50\n",
    "\n",
    "standalone_parameters[\"patience\"] = 10\n",
    "standalone_parameters[\"criteria_for_best\"] = \"source_loss\"\n",
    "\n",
    "standalone_parameters[\"datasets\"] = [\n",
    "    {\n",
    "        \"labels\": ALL_SERIAL_NUMBERS,\n",
    "        \"domains\": ALL_DISTANCES_FEET_NARROWED,\n",
    "        \"num_examples_per_domain_per_label\": 100,\n",
    "        \"pickle_path\": os.path.join(get_datasets_base_path(), \"oracle.Run1_framed_2000Examples_stratified_ds.2022A.pkl\"),\n",
    "        \"source_or_target_dataset\": \"source\",\n",
    "        \"x_transforms\": [\"unit_mag\", \"minus_two\"],\n",
    "        \"episode_transforms\": [],\n",
    "        \"domain_prefix\": \"ORACLE_\"\n",
    "    },\n",
    "    {\n",
    "        \"labels\": ALL_NODES,\n",
    "        \"domains\": ALL_DAYS,\n",
    "        \"num_examples_per_domain_per_label\": 100,\n",
    "        \"pickle_path\": os.path.join(get_datasets_base_path(), \"cores.stratified_ds.2022A.pkl\"),\n",
    "        \"source_or_target_dataset\": \"target\",\n",
    "        \"x_transforms\": [\"unit_power\", \"times_zero\"],\n",
    "        \"episode_transforms\": [],\n",
    "        \"domain_prefix\": \"CORES_\"\n",
    "    }   \n",
    "]\n",
    "\n",
    "standalone_parameters[\"torch_default_dtype\"] = \"torch.float32\" \n",
    "\n",
    "\n",
    "\n",
    "standalone_parameters[\"x_net\"] =     [\n",
    "    {\"class\": \"nnReshape\", \"kargs\": {\"shape\":[-1, 1, 2, 256]}},\n",
    "    {\"class\": \"Conv2d\", \"kargs\": { \"in_channels\":1, \"out_channels\":256, \"kernel_size\":(1,7), \"bias\":False, \"padding\":(0,3), },},\n",
    "    {\"class\": \"ReLU\", \"kargs\": {\"inplace\": True}},\n",
    "    {\"class\": \"BatchNorm2d\", \"kargs\": {\"num_features\":256}},\n",
    "\n",
    "    {\"class\": \"Conv2d\", \"kargs\": { \"in_channels\":256, \"out_channels\":80, \"kernel_size\":(2,7), \"bias\":True, \"padding\":(0,3), },},\n",
    "    {\"class\": \"ReLU\", \"kargs\": {\"inplace\": True}},\n",
    "    {\"class\": \"BatchNorm2d\", \"kargs\": {\"num_features\":80}},\n",
    "    {\"class\": \"Flatten\", \"kargs\": {}},\n",
    "\n",
    "    {\"class\": \"Linear\", \"kargs\": {\"in_features\": 80*256, \"out_features\": 256}}, # 80 units per IQ pair\n",
    "    {\"class\": \"ReLU\", \"kargs\": {\"inplace\": True}},\n",
    "    {\"class\": \"BatchNorm1d\", \"kargs\": {\"num_features\":256}},\n",
    "\n",
    "    {\"class\": \"Linear\", \"kargs\": {\"in_features\": 256, \"out_features\": 256}},\n",
    "]\n",
    "\n",
    "# Parameters relevant to results\n",
    "# These parameters will basically never need to change\n",
    "standalone_parameters[\"NUM_LOGS_PER_EPOCH\"] = 10\n",
    "standalone_parameters[\"BEST_MODEL_PATH\"] = \"./best_model.pth\"\n",
    "\n",
    "\n",
    "\n",
    "\n"
   ]
  },
  {
   "cell_type": "code",
   "execution_count": 4,
   "id": "65aa9f36",
   "metadata": {
    "execution": {
     "iopub.execute_input": "2022-03-22T04:21:46.953418Z",
     "iopub.status.busy": "2022-03-22T04:21:46.947905Z",
     "iopub.status.idle": "2022-03-22T04:21:46.975547Z",
     "shell.execute_reply": "2022-03-22T04:21:46.975174Z"
    },
    "papermill": {
     "duration": 0.059878,
     "end_time": "2022-03-22T04:21:46.975615",
     "exception": false,
     "start_time": "2022-03-22T04:21:46.915737",
     "status": "completed"
    },
    "tags": [
     "injected-parameters"
    ]
   },
   "outputs": [],
   "source": [
    "# Parameters\n",
    "parameters = {\n",
    "    \"experiment_name\": \"tl_1v2:cores-oracle.run1\",\n",
    "    \"device\": \"cuda\",\n",
    "    \"lr\": 0.0001,\n",
    "    \"n_shot\": 3,\n",
    "    \"n_query\": 2,\n",
    "    \"train_k_factor\": 3,\n",
    "    \"val_k_factor\": 2,\n",
    "    \"test_k_factor\": 2,\n",
    "    \"torch_default_dtype\": \"torch.float32\",\n",
    "    \"n_epoch\": 50,\n",
    "    \"patience\": 3,\n",
    "    \"criteria_for_best\": \"target_accuracy\",\n",
    "    \"x_net\": [\n",
    "        {\"class\": \"nnReshape\", \"kargs\": {\"shape\": [-1, 1, 2, 256]}},\n",
    "        {\n",
    "            \"class\": \"Conv2d\",\n",
    "            \"kargs\": {\n",
    "                \"in_channels\": 1,\n",
    "                \"out_channels\": 256,\n",
    "                \"kernel_size\": [1, 7],\n",
    "                \"bias\": False,\n",
    "                \"padding\": [0, 3],\n",
    "            },\n",
    "        },\n",
    "        {\"class\": \"ReLU\", \"kargs\": {\"inplace\": True}},\n",
    "        {\"class\": \"BatchNorm2d\", \"kargs\": {\"num_features\": 256}},\n",
    "        {\n",
    "            \"class\": \"Conv2d\",\n",
    "            \"kargs\": {\n",
    "                \"in_channels\": 256,\n",
    "                \"out_channels\": 80,\n",
    "                \"kernel_size\": [2, 7],\n",
    "                \"bias\": True,\n",
    "                \"padding\": [0, 3],\n",
    "            },\n",
    "        },\n",
    "        {\"class\": \"ReLU\", \"kargs\": {\"inplace\": True}},\n",
    "        {\"class\": \"BatchNorm2d\", \"kargs\": {\"num_features\": 80}},\n",
    "        {\"class\": \"Flatten\", \"kargs\": {}},\n",
    "        {\"class\": \"Linear\", \"kargs\": {\"in_features\": 20480, \"out_features\": 256}},\n",
    "        {\"class\": \"ReLU\", \"kargs\": {\"inplace\": True}},\n",
    "        {\"class\": \"BatchNorm1d\", \"kargs\": {\"num_features\": 256}},\n",
    "        {\"class\": \"Linear\", \"kargs\": {\"in_features\": 256, \"out_features\": 256}},\n",
    "    ],\n",
    "    \"NUM_LOGS_PER_EPOCH\": 10,\n",
    "    \"BEST_MODEL_PATH\": \"./best_model.pth\",\n",
    "    \"n_way\": 16,\n",
    "    \"datasets\": [\n",
    "        {\n",
    "            \"labels\": [\n",
    "                \"1-10.\",\n",
    "                \"1-11.\",\n",
    "                \"1-15.\",\n",
    "                \"1-16.\",\n",
    "                \"1-17.\",\n",
    "                \"1-18.\",\n",
    "                \"1-19.\",\n",
    "                \"10-4.\",\n",
    "                \"10-7.\",\n",
    "                \"11-1.\",\n",
    "                \"11-14.\",\n",
    "                \"11-17.\",\n",
    "                \"11-20.\",\n",
    "                \"11-7.\",\n",
    "                \"13-20.\",\n",
    "                \"13-8.\",\n",
    "                \"14-10.\",\n",
    "                \"14-11.\",\n",
    "                \"14-14.\",\n",
    "                \"14-7.\",\n",
    "                \"15-1.\",\n",
    "                \"15-20.\",\n",
    "                \"16-1.\",\n",
    "                \"16-16.\",\n",
    "                \"17-10.\",\n",
    "                \"17-11.\",\n",
    "                \"17-2.\",\n",
    "                \"19-1.\",\n",
    "                \"19-16.\",\n",
    "                \"19-19.\",\n",
    "                \"19-20.\",\n",
    "                \"19-3.\",\n",
    "                \"2-10.\",\n",
    "                \"2-11.\",\n",
    "                \"2-17.\",\n",
    "                \"2-18.\",\n",
    "                \"2-20.\",\n",
    "                \"2-3.\",\n",
    "                \"2-4.\",\n",
    "                \"2-5.\",\n",
    "                \"2-6.\",\n",
    "                \"2-7.\",\n",
    "                \"2-8.\",\n",
    "                \"3-13.\",\n",
    "                \"3-18.\",\n",
    "                \"3-3.\",\n",
    "                \"4-1.\",\n",
    "                \"4-10.\",\n",
    "                \"4-11.\",\n",
    "                \"4-19.\",\n",
    "                \"5-5.\",\n",
    "                \"6-15.\",\n",
    "                \"7-10.\",\n",
    "                \"7-14.\",\n",
    "                \"8-18.\",\n",
    "                \"8-20.\",\n",
    "                \"8-3.\",\n",
    "                \"8-8.\",\n",
    "            ],\n",
    "            \"domains\": [1, 2, 3, 4, 5],\n",
    "            \"num_examples_per_domain_per_label\": -1,\n",
    "            \"pickle_path\": \"/root/csc500-main/datasets/cores.stratified_ds.2022A.pkl\",\n",
    "            \"source_or_target_dataset\": \"target\",\n",
    "            \"x_transforms\": [\"unit_mag\"],\n",
    "            \"episode_transforms\": [],\n",
    "            \"domain_prefix\": \"CORES_\",\n",
    "        },\n",
    "        {\n",
    "            \"labels\": [\n",
    "                \"3123D52\",\n",
    "                \"3123D65\",\n",
    "                \"3123D79\",\n",
    "                \"3123D80\",\n",
    "                \"3123D54\",\n",
    "                \"3123D70\",\n",
    "                \"3123D7B\",\n",
    "                \"3123D89\",\n",
    "                \"3123D58\",\n",
    "                \"3123D76\",\n",
    "                \"3123D7D\",\n",
    "                \"3123EFE\",\n",
    "                \"3123D64\",\n",
    "                \"3123D78\",\n",
    "                \"3123D7E\",\n",
    "                \"3124E4A\",\n",
    "            ],\n",
    "            \"domains\": [32, 38, 8, 44, 14, 50, 20, 26],\n",
    "            \"num_examples_per_domain_per_label\": 10000,\n",
    "            \"pickle_path\": \"/root/csc500-main/datasets/oracle.Run1_10kExamples_stratified_ds.2022A.pkl\",\n",
    "            \"source_or_target_dataset\": \"source\",\n",
    "            \"x_transforms\": [\"unit_mag\"],\n",
    "            \"episode_transforms\": [],\n",
    "            \"domain_prefix\": \"ORACLE.run1_\",\n",
    "        },\n",
    "    ],\n",
    "    \"dataset_seed\": 420,\n",
    "    \"seed\": 420,\n",
    "}\n"
   ]
  },
  {
   "cell_type": "code",
   "execution_count": 5,
   "id": "8fa1cc33",
   "metadata": {
    "execution": {
     "iopub.execute_input": "2022-03-22T04:21:47.020793Z",
     "iopub.status.busy": "2022-03-22T04:21:47.020412Z",
     "iopub.status.idle": "2022-03-22T04:21:47.040530Z",
     "shell.execute_reply": "2022-03-22T04:21:47.040153Z"
    },
    "papermill": {
     "duration": 0.045595,
     "end_time": "2022-03-22T04:21:47.040617",
     "exception": false,
     "start_time": "2022-03-22T04:21:46.995022",
     "status": "completed"
    },
    "tags": []
   },
   "outputs": [],
   "source": [
    "# Set this to True if you want to run this template directly\n",
    "STANDALONE = False\n",
    "if STANDALONE:\n",
    "    print(\"parameters not injected, running with standalone_parameters\")\n",
    "    parameters = standalone_parameters\n",
    "\n",
    "if not 'parameters' in locals() and not 'parameters' in globals():\n",
    "    raise Exception(\"Parameter injection failed\")\n",
    "\n",
    "#Use an easy dict for all the parameters\n",
    "p = EasyDict(parameters)\n",
    "\n",
    "if \"x_shape\" not in p:\n",
    "    p.x_shape = [2,256] # Default to this if we dont supply x_shape\n",
    "\n",
    "\n",
    "supplied_keys = set(p.keys())\n",
    "\n",
    "if  supplied_keys != required_parameters:\n",
    "    print(\"Parameters are incorrect\")\n",
    "    if len(supplied_keys - required_parameters)>0: print(\"Shouldn't have:\", str(supplied_keys - required_parameters))\n",
    "    if len(required_parameters - supplied_keys)>0: print(\"Need to have:\", str(required_parameters - supplied_keys))\n",
    "    raise RuntimeError(\"Parameters are incorrect\")"
   ]
  },
  {
   "cell_type": "code",
   "execution_count": 6,
   "id": "3a028d58",
   "metadata": {
    "execution": {
     "iopub.execute_input": "2022-03-22T04:21:47.084332Z",
     "iopub.status.busy": "2022-03-22T04:21:47.083968Z",
     "iopub.status.idle": "2022-03-22T04:21:47.106335Z",
     "shell.execute_reply": "2022-03-22T04:21:47.105972Z"
    },
    "papermill": {
     "duration": 0.046176,
     "end_time": "2022-03-22T04:21:47.106401",
     "exception": false,
     "start_time": "2022-03-22T04:21:47.060225",
     "status": "completed"
    },
    "tags": []
   },
   "outputs": [],
   "source": [
    "###################################\n",
    "# Set the RNGs and make it all deterministic\n",
    "###################################\n",
    "np.random.seed(p.seed)\n",
    "random.seed(p.seed)\n",
    "torch.manual_seed(p.seed)\n",
    "\n",
    "torch.use_deterministic_algorithms(True) "
   ]
  },
  {
   "cell_type": "code",
   "execution_count": 7,
   "id": "b691acf6",
   "metadata": {
    "execution": {
     "iopub.execute_input": "2022-03-22T04:21:47.149074Z",
     "iopub.status.busy": "2022-03-22T04:21:47.148710Z",
     "iopub.status.idle": "2022-03-22T04:21:47.171078Z",
     "shell.execute_reply": "2022-03-22T04:21:47.170719Z"
    },
    "papermill": {
     "duration": 0.045309,
     "end_time": "2022-03-22T04:21:47.171145",
     "exception": false,
     "start_time": "2022-03-22T04:21:47.125836",
     "status": "completed"
    },
    "tags": []
   },
   "outputs": [],
   "source": [
    "###########################################\n",
    "# The stratified datasets honor this\n",
    "###########################################\n",
    "torch.set_default_dtype(eval(p.torch_default_dtype))"
   ]
  },
  {
   "cell_type": "code",
   "execution_count": 8,
   "id": "b5fba671",
   "metadata": {
    "execution": {
     "iopub.execute_input": "2022-03-22T04:21:47.220441Z",
     "iopub.status.busy": "2022-03-22T04:21:47.219519Z",
     "iopub.status.idle": "2022-03-22T04:21:47.276129Z",
     "shell.execute_reply": "2022-03-22T04:21:47.275308Z"
    },
    "papermill": {
     "duration": 0.079498,
     "end_time": "2022-03-22T04:21:47.276281",
     "exception": false,
     "start_time": "2022-03-22T04:21:47.196783",
     "status": "completed"
    },
    "tags": []
   },
   "outputs": [],
   "source": [
    "###################################\n",
    "# Build the network(s)\n",
    "# Note: It's critical to do this AFTER setting the RNG\n",
    "###################################\n",
    "x_net = build_sequential(p.x_net)"
   ]
  },
  {
   "cell_type": "code",
   "execution_count": 9,
   "id": "5d7e61cc",
   "metadata": {
    "execution": {
     "iopub.execute_input": "2022-03-22T04:21:47.324654Z",
     "iopub.status.busy": "2022-03-22T04:21:47.324282Z",
     "iopub.status.idle": "2022-03-22T04:21:47.351680Z",
     "shell.execute_reply": "2022-03-22T04:21:47.350865Z"
    },
    "papermill": {
     "duration": 0.050528,
     "end_time": "2022-03-22T04:21:47.351830",
     "exception": false,
     "start_time": "2022-03-22T04:21:47.301302",
     "status": "completed"
    },
    "tags": []
   },
   "outputs": [],
   "source": [
    "start_time_secs = time.time()"
   ]
  },
  {
   "cell_type": "code",
   "execution_count": 10,
   "id": "c6b67dfd",
   "metadata": {
    "execution": {
     "iopub.execute_input": "2022-03-22T04:21:47.405780Z",
     "iopub.status.busy": "2022-03-22T04:21:47.405411Z",
     "iopub.status.idle": "2022-03-22T04:21:47.424441Z",
     "shell.execute_reply": "2022-03-22T04:21:47.423632Z"
    },
    "papermill": {
     "duration": 0.042782,
     "end_time": "2022-03-22T04:21:47.424603",
     "exception": false,
     "start_time": "2022-03-22T04:21:47.381821",
     "status": "completed"
    },
    "tags": []
   },
   "outputs": [],
   "source": [
    "p.domains_source = []\n",
    "p.domains_target = []\n",
    "\n",
    "\n",
    "train_original_source = []\n",
    "val_original_source   = []\n",
    "test_original_source  = []\n",
    "\n",
    "train_original_target = []\n",
    "val_original_target   = []\n",
    "test_original_target  = []"
   ]
  },
  {
   "cell_type": "code",
   "execution_count": 11,
   "id": "e3d9c3d3",
   "metadata": {
    "execution": {
     "iopub.execute_input": "2022-03-22T04:21:47.474461Z",
     "iopub.status.busy": "2022-03-22T04:21:47.474092Z",
     "iopub.status.idle": "2022-03-22T04:21:47.492818Z",
     "shell.execute_reply": "2022-03-22T04:21:47.492075Z"
    },
    "papermill": {
     "duration": 0.040916,
     "end_time": "2022-03-22T04:21:47.492969",
     "exception": false,
     "start_time": "2022-03-22T04:21:47.452053",
     "status": "completed"
    },
    "tags": []
   },
   "outputs": [],
   "source": [
    "# global_x_transform_func = lambda x: normalize(x.to(torch.get_default_dtype()), \"unit_power\") # unit_power, unit_mag\n",
    "# global_x_transform_func = lambda x: normalize(x, \"unit_power\") # unit_power, unit_mag"
   ]
  },
  {
   "cell_type": "code",
   "execution_count": 12,
   "id": "acb78fd2",
   "metadata": {
    "execution": {
     "iopub.execute_input": "2022-03-22T04:21:47.547844Z",
     "iopub.status.busy": "2022-03-22T04:21:47.547191Z",
     "iopub.status.idle": "2022-03-22T04:21:47.567141Z",
     "shell.execute_reply": "2022-03-22T04:21:47.566332Z"
    },
    "papermill": {
     "duration": 0.049571,
     "end_time": "2022-03-22T04:21:47.567293",
     "exception": false,
     "start_time": "2022-03-22T04:21:47.517722",
     "status": "completed"
    },
    "tags": []
   },
   "outputs": [],
   "source": [
    "def add_dataset(\n",
    "    labels,\n",
    "    domains,\n",
    "    pickle_path,\n",
    "    x_transforms,\n",
    "    episode_transforms,\n",
    "    domain_prefix,\n",
    "    num_examples_per_domain_per_label,\n",
    "    source_or_target_dataset:str,\n",
    "    iterator_seed=p.seed,\n",
    "    dataset_seed=p.dataset_seed,\n",
    "    n_shot=p.n_shot,\n",
    "    n_way=p.n_way,\n",
    "    n_query=p.n_query,\n",
    "    train_val_test_k_factors=(p.train_k_factor,p.val_k_factor,p.test_k_factor),\n",
    "):\n",
    "   \n",
    "    if x_transforms == []: x_transform = None\n",
    "    else: x_transform = get_chained_transform(x_transforms)\n",
    "    \n",
    "    if episode_transforms == []: episode_transform = None\n",
    "    else: raise Exception(\"episode_transforms not implemented\")\n",
    "    \n",
    "    episode_transform = lambda tup, _prefix=domain_prefix: (_prefix + str(tup[0]), tup[1])\n",
    "\n",
    "\n",
    "    eaf = Episodic_Accessor_Factory(\n",
    "        labels=labels,\n",
    "        domains=domains,\n",
    "        num_examples_per_domain_per_label=num_examples_per_domain_per_label,\n",
    "        iterator_seed=iterator_seed,\n",
    "        dataset_seed=dataset_seed,\n",
    "        n_shot=n_shot,\n",
    "        n_way=n_way,\n",
    "        n_query=n_query,\n",
    "        train_val_test_k_factors=train_val_test_k_factors,\n",
    "        pickle_path=pickle_path,\n",
    "        x_transform_func=x_transform,\n",
    "    )\n",
    "\n",
    "    train, val, test = eaf.get_train(), eaf.get_val(), eaf.get_test()\n",
    "    train = Lazy_Iterable_Wrapper(train, episode_transform)\n",
    "    val = Lazy_Iterable_Wrapper(val, episode_transform)\n",
    "    test = Lazy_Iterable_Wrapper(test, episode_transform)\n",
    "\n",
    "    if source_or_target_dataset==\"source\":\n",
    "        train_original_source.append(train)\n",
    "        val_original_source.append(val)\n",
    "        test_original_source.append(test)\n",
    "\n",
    "        p.domains_source.extend(\n",
    "            [domain_prefix + str(u) for u in domains]\n",
    "        )\n",
    "    elif source_or_target_dataset==\"target\":\n",
    "        train_original_target.append(train)\n",
    "        val_original_target.append(val)\n",
    "        test_original_target.append(test)\n",
    "        p.domains_target.extend(\n",
    "            [domain_prefix + str(u) for u in domains]\n",
    "        )\n",
    "    else:\n",
    "        raise Exception(f\"invalid source_or_target_dataset: {source_or_target_dataset}\")\n",
    "    "
   ]
  },
  {
   "cell_type": "code",
   "execution_count": 13,
   "id": "fe266617",
   "metadata": {
    "execution": {
     "iopub.execute_input": "2022-03-22T04:21:47.619402Z",
     "iopub.status.busy": "2022-03-22T04:21:47.618735Z",
     "iopub.status.idle": "2022-03-22T04:24:02.419750Z",
     "shell.execute_reply": "2022-03-22T04:24:02.418955Z"
    },
    "papermill": {
     "duration": 134.825065,
     "end_time": "2022-03-22T04:24:02.419944",
     "exception": false,
     "start_time": "2022-03-22T04:21:47.594879",
     "status": "completed"
    },
    "tags": []
   },
   "outputs": [],
   "source": [
    "for ds in p.datasets:\n",
    "    add_dataset(**ds)"
   ]
  },
  {
   "cell_type": "code",
   "execution_count": 14,
   "id": "b90d65ac",
   "metadata": {
    "execution": {
     "iopub.execute_input": "2022-03-22T04:24:02.470640Z",
     "iopub.status.busy": "2022-03-22T04:24:02.470258Z",
     "iopub.status.idle": "2022-03-22T04:24:02.493339Z",
     "shell.execute_reply": "2022-03-22T04:24:02.492621Z"
    },
    "papermill": {
     "duration": 0.047274,
     "end_time": "2022-03-22T04:24:02.493497",
     "exception": false,
     "start_time": "2022-03-22T04:24:02.446223",
     "status": "completed"
    },
    "tags": []
   },
   "outputs": [],
   "source": [
    "# from steves_utils.CORES.utils import (\n",
    "#     ALL_NODES,\n",
    "#     ALL_NODES_MINIMUM_1000_EXAMPLES,\n",
    "#     ALL_DAYS\n",
    "# )\n",
    "\n",
    "# add_dataset(\n",
    "#     labels=ALL_NODES,\n",
    "#     domains = ALL_DAYS,\n",
    "#     num_examples_per_domain_per_label=100,\n",
    "#     pickle_path=os.path.join(get_datasets_base_path(), \"cores.stratified_ds.2022A.pkl\"),\n",
    "#     source_or_target_dataset=\"target\",\n",
    "#     x_transform_func=global_x_transform_func,\n",
    "#     domain_modifier=lambda u: f\"cores_{u}\"\n",
    "# )"
   ]
  },
  {
   "cell_type": "code",
   "execution_count": 15,
   "id": "76db484d",
   "metadata": {
    "execution": {
     "iopub.execute_input": "2022-03-22T04:24:02.545355Z",
     "iopub.status.busy": "2022-03-22T04:24:02.544506Z",
     "iopub.status.idle": "2022-03-22T04:24:02.560428Z",
     "shell.execute_reply": "2022-03-22T04:24:02.561089Z"
    },
    "papermill": {
     "duration": 0.040619,
     "end_time": "2022-03-22T04:24:02.561281",
     "exception": false,
     "start_time": "2022-03-22T04:24:02.520662",
     "status": "completed"
    },
    "tags": []
   },
   "outputs": [],
   "source": [
    "# from steves_utils.ORACLE.utils_v2 import (\n",
    "#     ALL_DISTANCES_FEET,\n",
    "#     ALL_RUNS,\n",
    "#     ALL_SERIAL_NUMBERS,\n",
    "# )\n",
    "\n",
    "\n",
    "# add_dataset(\n",
    "#     labels=ALL_SERIAL_NUMBERS,\n",
    "#     domains = list(set(ALL_DISTANCES_FEET) - {2,62}),\n",
    "#     num_examples_per_domain_per_label=100,\n",
    "#     pickle_path=os.path.join(get_datasets_base_path(), \"oracle.Run2_framed_2000Examples_stratified_ds.2022A.pkl\"),\n",
    "#     source_or_target_dataset=\"source\",\n",
    "#     x_transform_func=global_x_transform_func,\n",
    "#     domain_modifier=lambda u: f\"oracle1_{u}\"\n",
    "# )\n"
   ]
  },
  {
   "cell_type": "code",
   "execution_count": 16,
   "id": "97dea9d2",
   "metadata": {
    "execution": {
     "iopub.execute_input": "2022-03-22T04:24:02.611133Z",
     "iopub.status.busy": "2022-03-22T04:24:02.610183Z",
     "iopub.status.idle": "2022-03-22T04:24:02.631099Z",
     "shell.execute_reply": "2022-03-22T04:24:02.630276Z"
    },
    "papermill": {
     "duration": 0.044799,
     "end_time": "2022-03-22T04:24:02.631253",
     "exception": false,
     "start_time": "2022-03-22T04:24:02.586454",
     "status": "completed"
    },
    "tags": []
   },
   "outputs": [],
   "source": [
    "# from steves_utils.ORACLE.utils_v2 import (\n",
    "#     ALL_DISTANCES_FEET,\n",
    "#     ALL_RUNS,\n",
    "#     ALL_SERIAL_NUMBERS,\n",
    "# )\n",
    "\n",
    "\n",
    "# add_dataset(\n",
    "#     labels=ALL_SERIAL_NUMBERS,\n",
    "#     domains = list(set(ALL_DISTANCES_FEET) - {2,62,56}),\n",
    "#     num_examples_per_domain_per_label=100,\n",
    "#     pickle_path=os.path.join(get_datasets_base_path(), \"oracle.Run2_framed_2000Examples_stratified_ds.2022A.pkl\"),\n",
    "#     source_or_target_dataset=\"source\",\n",
    "#     x_transform_func=global_x_transform_func,\n",
    "#     domain_modifier=lambda u: f\"oracle2_{u}\"\n",
    "# )"
   ]
  },
  {
   "cell_type": "code",
   "execution_count": 17,
   "id": "6f289866",
   "metadata": {
    "execution": {
     "iopub.execute_input": "2022-03-22T04:24:02.685831Z",
     "iopub.status.busy": "2022-03-22T04:24:02.685450Z",
     "iopub.status.idle": "2022-03-22T04:24:02.702404Z",
     "shell.execute_reply": "2022-03-22T04:24:02.701649Z"
    },
    "papermill": {
     "duration": 0.040812,
     "end_time": "2022-03-22T04:24:02.702558",
     "exception": false,
     "start_time": "2022-03-22T04:24:02.661746",
     "status": "completed"
    },
    "tags": []
   },
   "outputs": [],
   "source": [
    "# add_dataset(\n",
    "#     labels=list(range(19)),\n",
    "#     domains = [0,1,2],\n",
    "#     num_examples_per_domain_per_label=100,\n",
    "#     pickle_path=os.path.join(get_datasets_base_path(), \"metehan.stratified_ds.2022A.pkl\"),\n",
    "#     source_or_target_dataset=\"target\",\n",
    "#     x_transform_func=global_x_transform_func,\n",
    "#     domain_modifier=lambda u: f\"met_{u}\"\n",
    "# )"
   ]
  },
  {
   "cell_type": "code",
   "execution_count": 18,
   "id": "86a863c3",
   "metadata": {
    "execution": {
     "iopub.execute_input": "2022-03-22T04:24:02.755573Z",
     "iopub.status.busy": "2022-03-22T04:24:02.755182Z",
     "iopub.status.idle": "2022-03-22T04:24:02.772058Z",
     "shell.execute_reply": "2022-03-22T04:24:02.771327Z"
    },
    "papermill": {
     "duration": 0.040553,
     "end_time": "2022-03-22T04:24:02.772213",
     "exception": false,
     "start_time": "2022-03-22T04:24:02.731660",
     "status": "completed"
    },
    "tags": []
   },
   "outputs": [],
   "source": [
    "# # from steves_utils.wisig.utils import (\n",
    "# #     ALL_NODES_MINIMUM_100_EXAMPLES,\n",
    "# #     ALL_NODES_MINIMUM_500_EXAMPLES,\n",
    "# #     ALL_NODES_MINIMUM_1000_EXAMPLES,\n",
    "# #     ALL_DAYS\n",
    "# # )\n",
    "\n",
    "# import steves_utils.wisig.utils as wisig\n",
    "\n",
    "\n",
    "# add_dataset(\n",
    "#     labels=wisig.ALL_NODES_MINIMUM_100_EXAMPLES,\n",
    "#     domains = wisig.ALL_DAYS,\n",
    "#     num_examples_per_domain_per_label=100,\n",
    "#     pickle_path=os.path.join(get_datasets_base_path(), \"wisig.node3-19.stratified_ds.2022A.pkl\"),\n",
    "#     source_or_target_dataset=\"target\",\n",
    "#     x_transform_func=global_x_transform_func,\n",
    "#     domain_modifier=lambda u: f\"wisig_{u}\"\n",
    "# )"
   ]
  },
  {
   "cell_type": "code",
   "execution_count": 19,
   "id": "fd5442bc",
   "metadata": {
    "execution": {
     "iopub.execute_input": "2022-03-22T04:24:02.830468Z",
     "iopub.status.busy": "2022-03-22T04:24:02.829766Z",
     "iopub.status.idle": "2022-03-22T04:24:02.850885Z",
     "shell.execute_reply": "2022-03-22T04:24:02.850127Z"
    },
    "papermill": {
     "duration": 0.048667,
     "end_time": "2022-03-22T04:24:02.851040",
     "exception": false,
     "start_time": "2022-03-22T04:24:02.802373",
     "status": "completed"
    },
    "tags": []
   },
   "outputs": [],
   "source": [
    "###################################\n",
    "# Build the dataset\n",
    "###################################\n",
    "train_original_source = Iterable_Aggregator(train_original_source, p.seed)\n",
    "val_original_source = Iterable_Aggregator(val_original_source, p.seed)\n",
    "test_original_source = Iterable_Aggregator(test_original_source, p.seed)\n",
    "\n",
    "\n",
    "train_original_target = Iterable_Aggregator(train_original_target, p.seed)\n",
    "val_original_target = Iterable_Aggregator(val_original_target, p.seed)\n",
    "test_original_target = Iterable_Aggregator(test_original_target, p.seed)\n",
    "\n",
    "# For CNN We only use X and Y. And we only train on the source.\n",
    "# Properly form the data using a transform lambda and Lazy_Iterable_Wrapper. Finally wrap them in a dataloader\n",
    "\n",
    "transform_lambda = lambda ex: ex[1] # Original is (<domain>, <episode>) so we strip down to episode only\n",
    "\n",
    "train_processed_source = Lazy_Iterable_Wrapper(train_original_source, transform_lambda)\n",
    "val_processed_source   = Lazy_Iterable_Wrapper(val_original_source, transform_lambda)\n",
    "test_processed_source  = Lazy_Iterable_Wrapper(test_original_source, transform_lambda)\n",
    "\n",
    "train_processed_target = Lazy_Iterable_Wrapper(train_original_target, transform_lambda)\n",
    "val_processed_target   = Lazy_Iterable_Wrapper(val_original_target, transform_lambda)\n",
    "test_processed_target  = Lazy_Iterable_Wrapper(test_original_target, transform_lambda)\n",
    "\n",
    "datasets = EasyDict({\n",
    "    \"source\": {\n",
    "        \"original\": {\"train\":train_original_source, \"val\":val_original_source, \"test\":test_original_source},\n",
    "        \"processed\": {\"train\":train_processed_source, \"val\":val_processed_source, \"test\":test_processed_source}\n",
    "    },\n",
    "    \"target\": {\n",
    "        \"original\": {\"train\":train_original_target, \"val\":val_original_target, \"test\":test_original_target},\n",
    "        \"processed\": {\"train\":train_processed_target, \"val\":val_processed_target, \"test\":test_processed_target}\n",
    "    },\n",
    "})"
   ]
  },
  {
   "cell_type": "code",
   "execution_count": 20,
   "id": "5b3c01fc",
   "metadata": {
    "execution": {
     "iopub.execute_input": "2022-03-22T04:24:02.908166Z",
     "iopub.status.busy": "2022-03-22T04:24:02.907385Z",
     "iopub.status.idle": "2022-03-22T04:24:37.400748Z",
     "shell.execute_reply": "2022-03-22T04:24:37.401552Z"
    },
    "papermill": {
     "duration": 34.521675,
     "end_time": "2022-03-22T04:24:37.401774",
     "exception": false,
     "start_time": "2022-03-22T04:24:02.880099",
     "status": "completed"
    },
    "tags": []
   },
   "outputs": [
    {
     "name": "stdout",
     "output_type": "stream",
     "text": [
      "{'ORACLE.run1_38', 'ORACLE.run1_26', 'ORACLE.run1_50', 'ORACLE.run1_14', 'ORACLE.run1_20', 'ORACLE.run1_32', 'ORACLE.run1_8', 'ORACLE.run1_44'}\n"
     ]
    },
    {
     "name": "stdout",
     "output_type": "stream",
     "text": [
      "{'CORES_5', 'CORES_3', 'CORES_4', 'CORES_1', 'CORES_2'}\n"
     ]
    },
    {
     "name": "stdout",
     "output_type": "stream",
     "text": [
      "tensor([[[ 0.2251,  0.1944, -1.3508,  ..., -0.0614,  1.0131, -0.1228],\n",
      "         [ 0.2763,  0.3991, -0.4503,  ..., -1.1563, -0.6140,  0.2047]],\n",
      "\n",
      "        [[-1.0401, -1.1726,  0.4486,  ..., -1.0808,  0.1733,  1.2440],\n",
      "         [-1.1318,  0.4486, -0.8157,  ..., -1.2542, -0.8667, -0.6322]],\n",
      "\n",
      "        [[ 0.0426, -0.9148,  0.4787,  ...,  0.2021,  0.4361,  0.1702],\n",
      "         [ 1.5318, -0.6702, -0.0745,  ..., -0.0532, -0.2553, -0.9361]],\n",
      "\n",
      "        ...,\n",
      "\n",
      "        [[ 1.2497, -0.6951, -1.2275,  ...,  0.0887, -1.1609, -0.3106],\n",
      "         [ 1.1018, -0.3919, -0.6877,  ...,  1.1166,  0.7321,  0.2514]],\n",
      "\n",
      "        [[ 0.8424,  0.0572, -0.1881,  ..., -1.6520, -1.0305, -0.5888],\n",
      "         [-0.8178,  0.3926, -0.3026,  ...,  0.3599,  0.1881,  0.6706]],\n",
      "\n",
      "        [[ 0.1290,  1.3188,  0.5806,  ..., -0.4659, -1.8277, -0.7454],\n",
      "         [ 0.3870, -0.7741, -0.7167,  ..., -0.5089,  0.0215, -0.7741]]])\n"
     ]
    }
   ],
   "source": [
    "from steves_utils.transforms import get_average_magnitude, get_average_power\n",
    "\n",
    "print(set([u for u,_ in val_original_source]))\n",
    "print(set([u for u,_ in val_original_target]))\n",
    "\n",
    "s_x, s_y, q_x, q_y, _ = next(iter(train_processed_source))\n",
    "print(s_x)\n",
    "\n",
    "# for ds in [\n",
    "#     train_processed_source,\n",
    "#     val_processed_source,\n",
    "#     test_processed_source,\n",
    "#     train_processed_target,\n",
    "#     val_processed_target,\n",
    "#     test_processed_target\n",
    "# ]:\n",
    "#     for s_x, s_y, q_x, q_y, _ in ds:\n",
    "#         for X in (s_x, q_x):\n",
    "#             for x in X:\n",
    "#                 assert np.isclose(get_average_magnitude(x.numpy()), 1.0)\n",
    "#                 assert np.isclose(get_average_power(x.numpy()), 1.0)\n",
    "                "
   ]
  },
  {
   "cell_type": "code",
   "execution_count": 21,
   "id": "bbdacba1",
   "metadata": {
    "execution": {
     "iopub.execute_input": "2022-03-22T04:24:37.501266Z",
     "iopub.status.busy": "2022-03-22T04:24:37.500881Z",
     "iopub.status.idle": "2022-03-22T04:24:37.781670Z",
     "shell.execute_reply": "2022-03-22T04:24:37.781288Z"
    },
    "papermill": {
     "duration": 0.353218,
     "end_time": "2022-03-22T04:24:37.781780",
     "exception": false,
     "start_time": "2022-03-22T04:24:37.428562",
     "status": "completed"
    },
    "tags": []
   },
   "outputs": [
    {
     "name": "stdout",
     "output_type": "stream",
     "text": [
      "(2, 256)\n"
     ]
    }
   ],
   "source": [
    "###################################\n",
    "# Build the model\n",
    "###################################\n",
    "# easfsl only wants a tuple for the shape\n",
    "model = Steves_Prototypical_Network(x_net, device=p.device, x_shape=tuple(p.x_shape))\n",
    "optimizer = Adam(params=model.parameters(), lr=p.lr)"
   ]
  },
  {
   "cell_type": "code",
   "execution_count": 22,
   "id": "22b39ac5",
   "metadata": {
    "execution": {
     "iopub.execute_input": "2022-03-22T04:24:37.833509Z",
     "iopub.status.busy": "2022-03-22T04:24:37.833132Z",
     "iopub.status.idle": "2022-03-22T07:39:35.801094Z",
     "shell.execute_reply": "2022-03-22T07:39:35.800751Z"
    },
    "papermill": {
     "duration": 11697.995895,
     "end_time": "2022-03-22T07:39:35.801179",
     "exception": false,
     "start_time": "2022-03-22T04:24:37.805284",
     "status": "completed"
    },
    "tags": []
   },
   "outputs": [
    {
     "name": "stdout",
     "output_type": "stream",
     "text": [
      "epoch: 1, [batch: 1 / 33600], examples_per_second: 6.6333, train_label_loss: 2.7701, \n"
     ]
    },
    {
     "name": "stdout",
     "output_type": "stream",
     "text": [
      "epoch: 1, [batch: 3360 / 33600], examples_per_second: 2437.8320, train_label_loss: 1.3225, \n"
     ]
    },
    {
     "name": "stdout",
     "output_type": "stream",
     "text": [
      "epoch: 1, [batch: 6720 / 33600], examples_per_second: 2579.9883, train_label_loss: 1.1483, \n"
     ]
    },
    {
     "name": "stdout",
     "output_type": "stream",
     "text": [
      "epoch: 1, [batch: 10080 / 33600], examples_per_second: 2570.1608, train_label_loss: 0.7877, \n"
     ]
    },
    {
     "name": "stdout",
     "output_type": "stream",
     "text": [
      "epoch: 1, [batch: 13440 / 33600], examples_per_second: 3035.5824, train_label_loss: 0.9848, \n"
     ]
    },
    {
     "name": "stdout",
     "output_type": "stream",
     "text": [
      "epoch: 1, [batch: 16800 / 33600], examples_per_second: 3301.8941, train_label_loss: 0.8238, \n"
     ]
    },
    {
     "name": "stdout",
     "output_type": "stream",
     "text": [
      "epoch: 1, [batch: 20160 / 33600], examples_per_second: 3034.3764, train_label_loss: 1.2669, \n"
     ]
    },
    {
     "name": "stdout",
     "output_type": "stream",
     "text": [
      "epoch: 1, [batch: 23520 / 33600], examples_per_second: 2325.5355, train_label_loss: 0.6811, \n"
     ]
    },
    {
     "name": "stdout",
     "output_type": "stream",
     "text": [
      "epoch: 1, [batch: 26880 / 33600], examples_per_second: 2459.3433, train_label_loss: 0.7727, \n"
     ]
    },
    {
     "name": "stdout",
     "output_type": "stream",
     "text": [
      "epoch: 1, [batch: 30240 / 33600], examples_per_second: 2453.9686, train_label_loss: 0.7135, \n"
     ]
    },
    {
     "name": "stdout",
     "output_type": "stream",
     "text": [
      "=============================================================\n",
      "epoch: 1, source_val_acc_label: 0.6457, target_val_acc_label: 0.9613, source_val_label_loss: 0.9488, target_val_label_loss: 0.1709, \n",
      "=============================================================\n"
     ]
    },
    {
     "name": "stdout",
     "output_type": "stream",
     "text": [
      "New best\n"
     ]
    },
    {
     "name": "stdout",
     "output_type": "stream",
     "text": [
      "epoch: 2, [batch: 1 / 33600], examples_per_second: 0.5865, train_label_loss: 0.8694, \n"
     ]
    },
    {
     "name": "stdout",
     "output_type": "stream",
     "text": [
      "epoch: 2, [batch: 3360 / 33600], examples_per_second: 2359.4472, train_label_loss: 0.6303, \n"
     ]
    },
    {
     "name": "stdout",
     "output_type": "stream",
     "text": [
      "epoch: 2, [batch: 6720 / 33600], examples_per_second: 2629.1444, train_label_loss: 1.0824, \n"
     ]
    },
    {
     "name": "stdout",
     "output_type": "stream",
     "text": [
      "epoch: 2, [batch: 10080 / 33600], examples_per_second: 2335.8854, train_label_loss: 1.0886, \n"
     ]
    },
    {
     "name": "stdout",
     "output_type": "stream",
     "text": [
      "epoch: 2, [batch: 13440 / 33600], examples_per_second: 2463.6343, train_label_loss: 0.6902, \n"
     ]
    },
    {
     "name": "stdout",
     "output_type": "stream",
     "text": [
      "epoch: 2, [batch: 16800 / 33600], examples_per_second: 2782.1726, train_label_loss: 0.7800, \n"
     ]
    },
    {
     "name": "stdout",
     "output_type": "stream",
     "text": [
      "epoch: 2, [batch: 20160 / 33600], examples_per_second: 2721.2821, train_label_loss: 0.6611, \n"
     ]
    },
    {
     "name": "stdout",
     "output_type": "stream",
     "text": [
      "epoch: 2, [batch: 23520 / 33600], examples_per_second: 2536.5790, train_label_loss: 0.4432, \n"
     ]
    },
    {
     "name": "stdout",
     "output_type": "stream",
     "text": [
      "epoch: 2, [batch: 26880 / 33600], examples_per_second: 2351.8761, train_label_loss: 0.4485, \n"
     ]
    },
    {
     "name": "stdout",
     "output_type": "stream",
     "text": [
      "epoch: 2, [batch: 30240 / 33600], examples_per_second: 2483.1947, train_label_loss: 0.5865, \n"
     ]
    },
    {
     "name": "stdout",
     "output_type": "stream",
     "text": [
      "=============================================================\n",
      "epoch: 2, source_val_acc_label: 0.6810, target_val_acc_label: 0.9676, source_val_label_loss: 0.8464, target_val_label_loss: 0.2034, \n",
      "=============================================================\n"
     ]
    },
    {
     "name": "stdout",
     "output_type": "stream",
     "text": [
      "New best\n"
     ]
    },
    {
     "name": "stdout",
     "output_type": "stream",
     "text": [
      "epoch: 3, [batch: 1 / 33600], examples_per_second: 0.6729, train_label_loss: 0.5230, \n"
     ]
    },
    {
     "name": "stdout",
     "output_type": "stream",
     "text": [
      "epoch: 3, [batch: 3360 / 33600], examples_per_second: 2760.7149, train_label_loss: 1.3281, \n"
     ]
    },
    {
     "name": "stdout",
     "output_type": "stream",
     "text": [
      "epoch: 3, [batch: 6720 / 33600], examples_per_second: 2304.9902, train_label_loss: 0.5841, \n"
     ]
    },
    {
     "name": "stdout",
     "output_type": "stream",
     "text": [
      "epoch: 3, [batch: 10080 / 33600], examples_per_second: 2629.8973, train_label_loss: 1.0036, \n"
     ]
    },
    {
     "name": "stdout",
     "output_type": "stream",
     "text": [
      "epoch: 3, [batch: 13440 / 33600], examples_per_second: 2338.3525, train_label_loss: 0.3975, \n"
     ]
    },
    {
     "name": "stdout",
     "output_type": "stream",
     "text": [
      "epoch: 3, [batch: 16800 / 33600], examples_per_second: 2615.5235, train_label_loss: 0.8489, \n"
     ]
    },
    {
     "name": "stdout",
     "output_type": "stream",
     "text": [
      "epoch: 3, [batch: 20160 / 33600], examples_per_second: 3268.9122, train_label_loss: 1.0391, \n"
     ]
    },
    {
     "name": "stdout",
     "output_type": "stream",
     "text": [
      "epoch: 3, [batch: 23520 / 33600], examples_per_second: 2581.7504, train_label_loss: 0.8301, \n"
     ]
    },
    {
     "name": "stdout",
     "output_type": "stream",
     "text": [
      "epoch: 3, [batch: 26880 / 33600], examples_per_second: 3036.4300, train_label_loss: 0.5120, \n"
     ]
    },
    {
     "name": "stdout",
     "output_type": "stream",
     "text": [
      "epoch: 3, [batch: 30240 / 33600], examples_per_second: 3038.3749, train_label_loss: 0.5773, \n"
     ]
    },
    {
     "name": "stdout",
     "output_type": "stream",
     "text": [
      "=============================================================\n",
      "epoch: 3, source_val_acc_label: 0.7073, target_val_acc_label: 0.9719, source_val_label_loss: 0.7865, target_val_label_loss: 0.2135, \n",
      "=============================================================\n"
     ]
    },
    {
     "name": "stdout",
     "output_type": "stream",
     "text": [
      "New best\n"
     ]
    },
    {
     "name": "stdout",
     "output_type": "stream",
     "text": [
      "epoch: 4, [batch: 1 / 33600], examples_per_second: 0.5798, train_label_loss: 0.5489, \n"
     ]
    },
    {
     "name": "stdout",
     "output_type": "stream",
     "text": [
      "epoch: 4, [batch: 3360 / 33600], examples_per_second: 2348.3383, train_label_loss: 0.7411, \n"
     ]
    },
    {
     "name": "stdout",
     "output_type": "stream",
     "text": [
      "epoch: 4, [batch: 6720 / 33600], examples_per_second: 2453.5483, train_label_loss: 0.6080, \n"
     ]
    },
    {
     "name": "stdout",
     "output_type": "stream",
     "text": [
      "epoch: 4, [batch: 10080 / 33600], examples_per_second: 2460.6718, train_label_loss: 1.0899, \n"
     ]
    },
    {
     "name": "stdout",
     "output_type": "stream",
     "text": [
      "epoch: 4, [batch: 13440 / 33600], examples_per_second: 2450.1850, train_label_loss: 0.8283, \n"
     ]
    },
    {
     "name": "stdout",
     "output_type": "stream",
     "text": [
      "epoch: 4, [batch: 16800 / 33600], examples_per_second: 2768.3459, train_label_loss: 0.7187, \n"
     ]
    },
    {
     "name": "stdout",
     "output_type": "stream",
     "text": [
      "epoch: 4, [batch: 20160 / 33600], examples_per_second: 2673.8950, train_label_loss: 0.2962, \n"
     ]
    },
    {
     "name": "stdout",
     "output_type": "stream",
     "text": [
      "epoch: 4, [batch: 23520 / 33600], examples_per_second: 2447.8277, train_label_loss: 0.7847, \n"
     ]
    },
    {
     "name": "stdout",
     "output_type": "stream",
     "text": [
      "epoch: 4, [batch: 26880 / 33600], examples_per_second: 2485.9689, train_label_loss: 0.8486, \n"
     ]
    },
    {
     "name": "stdout",
     "output_type": "stream",
     "text": [
      "epoch: 4, [batch: 30240 / 33600], examples_per_second: 2459.3386, train_label_loss: 0.6011, \n"
     ]
    },
    {
     "name": "stdout",
     "output_type": "stream",
     "text": [
      "=============================================================\n",
      "epoch: 4, source_val_acc_label: 0.7200, target_val_acc_label: 0.9771, source_val_label_loss: 0.7568, target_val_label_loss: 0.2027, \n",
      "=============================================================\n"
     ]
    },
    {
     "name": "stdout",
     "output_type": "stream",
     "text": [
      "New best\n"
     ]
    },
    {
     "name": "stdout",
     "output_type": "stream",
     "text": [
      "epoch: 5, [batch: 1 / 33600], examples_per_second: 0.5795, train_label_loss: 0.7008, \n"
     ]
    },
    {
     "name": "stdout",
     "output_type": "stream",
     "text": [
      "epoch: 5, [batch: 3360 / 33600], examples_per_second: 2488.5559, train_label_loss: 0.3452, \n"
     ]
    },
    {
     "name": "stdout",
     "output_type": "stream",
     "text": [
      "epoch: 5, [batch: 6720 / 33600], examples_per_second: 2377.4753, train_label_loss: 0.5399, \n"
     ]
    },
    {
     "name": "stdout",
     "output_type": "stream",
     "text": [
      "epoch: 5, [batch: 10080 / 33600], examples_per_second: 2418.9093, train_label_loss: 0.8634, \n"
     ]
    },
    {
     "name": "stdout",
     "output_type": "stream",
     "text": [
      "epoch: 5, [batch: 13440 / 33600], examples_per_second: 2440.6235, train_label_loss: 0.9193, \n"
     ]
    },
    {
     "name": "stdout",
     "output_type": "stream",
     "text": [
      "epoch: 5, [batch: 16800 / 33600], examples_per_second: 2778.1114, train_label_loss: 0.8010, \n"
     ]
    },
    {
     "name": "stdout",
     "output_type": "stream",
     "text": [
      "epoch: 5, [batch: 20160 / 33600], examples_per_second: 2862.1799, train_label_loss: 0.7030, \n"
     ]
    },
    {
     "name": "stdout",
     "output_type": "stream",
     "text": [
      "epoch: 5, [batch: 23520 / 33600], examples_per_second: 2381.8423, train_label_loss: 0.5468, \n"
     ]
    },
    {
     "name": "stdout",
     "output_type": "stream",
     "text": [
      "epoch: 5, [batch: 26880 / 33600], examples_per_second: 2413.5492, train_label_loss: 0.5617, \n"
     ]
    },
    {
     "name": "stdout",
     "output_type": "stream",
     "text": [
      "epoch: 5, [batch: 30240 / 33600], examples_per_second: 2448.9775, train_label_loss: 0.8268, \n"
     ]
    },
    {
     "name": "stdout",
     "output_type": "stream",
     "text": [
      "=============================================================\n",
      "epoch: 5, source_val_acc_label: 0.7282, target_val_acc_label: 0.9766, source_val_label_loss: 0.7432, target_val_label_loss: 0.2300, \n",
      "=============================================================\n"
     ]
    },
    {
     "name": "stdout",
     "output_type": "stream",
     "text": [
      "epoch: 6, [batch: 1 / 33600], examples_per_second: 0.5831, train_label_loss: 0.4747, \n"
     ]
    },
    {
     "name": "stdout",
     "output_type": "stream",
     "text": [
      "epoch: 6, [batch: 3360 / 33600], examples_per_second: 2493.7783, train_label_loss: 0.3218, \n"
     ]
    },
    {
     "name": "stdout",
     "output_type": "stream",
     "text": [
      "epoch: 6, [batch: 6720 / 33600], examples_per_second: 2492.1909, train_label_loss: 0.8327, \n"
     ]
    },
    {
     "name": "stdout",
     "output_type": "stream",
     "text": [
      "epoch: 6, [batch: 10080 / 33600], examples_per_second: 2410.9499, train_label_loss: 1.0159, \n"
     ]
    },
    {
     "name": "stdout",
     "output_type": "stream",
     "text": [
      "epoch: 6, [batch: 13440 / 33600], examples_per_second: 2388.3347, train_label_loss: 0.7903, \n"
     ]
    },
    {
     "name": "stdout",
     "output_type": "stream",
     "text": [
      "epoch: 6, [batch: 16800 / 33600], examples_per_second: 2732.1525, train_label_loss: 0.5357, \n"
     ]
    },
    {
     "name": "stdout",
     "output_type": "stream",
     "text": [
      "epoch: 6, [batch: 20160 / 33600], examples_per_second: 2902.5874, train_label_loss: 0.5750, \n"
     ]
    },
    {
     "name": "stdout",
     "output_type": "stream",
     "text": [
      "epoch: 6, [batch: 23520 / 33600], examples_per_second: 2411.7379, train_label_loss: 0.4028, \n"
     ]
    },
    {
     "name": "stdout",
     "output_type": "stream",
     "text": [
      "epoch: 6, [batch: 26880 / 33600], examples_per_second: 2422.7802, train_label_loss: 0.6268, \n"
     ]
    },
    {
     "name": "stdout",
     "output_type": "stream",
     "text": [
      "epoch: 6, [batch: 30240 / 33600], examples_per_second: 2405.7559, train_label_loss: 0.1503, \n"
     ]
    },
    {
     "name": "stdout",
     "output_type": "stream",
     "text": [
      "=============================================================\n",
      "epoch: 6, source_val_acc_label: 0.7343, target_val_acc_label: 0.9817, source_val_label_loss: 0.7412, target_val_label_loss: 0.2091, \n",
      "=============================================================\n"
     ]
    },
    {
     "name": "stdout",
     "output_type": "stream",
     "text": [
      "New best\n"
     ]
    },
    {
     "name": "stdout",
     "output_type": "stream",
     "text": [
      "epoch: 7, [batch: 1 / 33600], examples_per_second: 0.5846, train_label_loss: 0.3600, \n"
     ]
    },
    {
     "name": "stdout",
     "output_type": "stream",
     "text": [
      "epoch: 7, [batch: 3360 / 33600], examples_per_second: 2455.9926, train_label_loss: 0.4629, \n"
     ]
    },
    {
     "name": "stdout",
     "output_type": "stream",
     "text": [
      "epoch: 7, [batch: 6720 / 33600], examples_per_second: 2509.2778, train_label_loss: 0.9868, \n"
     ]
    },
    {
     "name": "stdout",
     "output_type": "stream",
     "text": [
      "epoch: 7, [batch: 10080 / 33600], examples_per_second: 2444.5995, train_label_loss: 0.5573, \n"
     ]
    },
    {
     "name": "stdout",
     "output_type": "stream",
     "text": [
      "epoch: 7, [batch: 13440 / 33600], examples_per_second: 2717.2777, train_label_loss: 0.6559, \n"
     ]
    },
    {
     "name": "stdout",
     "output_type": "stream",
     "text": [
      "epoch: 7, [batch: 16800 / 33600], examples_per_second: 3012.3209, train_label_loss: 0.7452, \n"
     ]
    },
    {
     "name": "stdout",
     "output_type": "stream",
     "text": [
      "epoch: 7, [batch: 20160 / 33600], examples_per_second: 3518.5686, train_label_loss: 0.3943, \n"
     ]
    },
    {
     "name": "stdout",
     "output_type": "stream",
     "text": [
      "epoch: 7, [batch: 23520 / 33600], examples_per_second: 3152.4538, train_label_loss: 0.5263, \n"
     ]
    },
    {
     "name": "stdout",
     "output_type": "stream",
     "text": [
      "epoch: 7, [batch: 26880 / 33600], examples_per_second: 2306.1060, train_label_loss: 0.5167, \n"
     ]
    },
    {
     "name": "stdout",
     "output_type": "stream",
     "text": [
      "epoch: 7, [batch: 30240 / 33600], examples_per_second: 2414.3322, train_label_loss: 0.8114, \n"
     ]
    },
    {
     "name": "stdout",
     "output_type": "stream",
     "text": [
      "=============================================================\n",
      "epoch: 7, source_val_acc_label: 0.7361, target_val_acc_label: 0.9801, source_val_label_loss: 0.7414, target_val_label_loss: 0.2153, \n",
      "=============================================================\n"
     ]
    },
    {
     "name": "stdout",
     "output_type": "stream",
     "text": [
      "epoch: 8, [batch: 1 / 33600], examples_per_second: 0.5767, train_label_loss: 0.6302, \n"
     ]
    },
    {
     "name": "stdout",
     "output_type": "stream",
     "text": [
      "epoch: 8, [batch: 3360 / 33600], examples_per_second: 2378.8376, train_label_loss: 0.5059, \n"
     ]
    },
    {
     "name": "stdout",
     "output_type": "stream",
     "text": [
      "epoch: 8, [batch: 6720 / 33600], examples_per_second: 2347.1702, train_label_loss: 0.1955, \n"
     ]
    },
    {
     "name": "stdout",
     "output_type": "stream",
     "text": [
      "epoch: 8, [batch: 10080 / 33600], examples_per_second: 2818.1727, train_label_loss: 0.6842, \n"
     ]
    },
    {
     "name": "stdout",
     "output_type": "stream",
     "text": [
      "epoch: 8, [batch: 13440 / 33600], examples_per_second: 2592.5984, train_label_loss: 0.5535, \n"
     ]
    },
    {
     "name": "stdout",
     "output_type": "stream",
     "text": [
      "epoch: 8, [batch: 16800 / 33600], examples_per_second: 3325.0928, train_label_loss: 0.2425, \n"
     ]
    },
    {
     "name": "stdout",
     "output_type": "stream",
     "text": [
      "epoch: 8, [batch: 20160 / 33600], examples_per_second: 3679.7951, train_label_loss: 0.1815, \n"
     ]
    },
    {
     "name": "stdout",
     "output_type": "stream",
     "text": [
      "epoch: 8, [batch: 23520 / 33600], examples_per_second: 2516.4708, train_label_loss: 0.1939, \n"
     ]
    },
    {
     "name": "stdout",
     "output_type": "stream",
     "text": [
      "epoch: 8, [batch: 26880 / 33600], examples_per_second: 2474.1087, train_label_loss: 0.5198, \n"
     ]
    },
    {
     "name": "stdout",
     "output_type": "stream",
     "text": [
      "epoch: 8, [batch: 30240 / 33600], examples_per_second: 2490.2959, train_label_loss: 0.5175, \n"
     ]
    },
    {
     "name": "stdout",
     "output_type": "stream",
     "text": [
      "=============================================================\n",
      "epoch: 8, source_val_acc_label: 0.7356, target_val_acc_label: 0.9806, source_val_label_loss: 0.7566, target_val_label_loss: 0.2211, \n",
      "=============================================================\n"
     ]
    },
    {
     "name": "stdout",
     "output_type": "stream",
     "text": [
      "epoch: 9, [batch: 1 / 33600], examples_per_second: 0.3570, train_label_loss: 0.3432, \n"
     ]
    },
    {
     "name": "stdout",
     "output_type": "stream",
     "text": [
      "epoch: 9, [batch: 3360 / 33600], examples_per_second: 3100.9617, train_label_loss: 0.5347, \n"
     ]
    },
    {
     "name": "stdout",
     "output_type": "stream",
     "text": [
      "epoch: 9, [batch: 6720 / 33600], examples_per_second: 3356.5145, train_label_loss: 0.3715, \n"
     ]
    },
    {
     "name": "stdout",
     "output_type": "stream",
     "text": [
      "epoch: 9, [batch: 10080 / 33600], examples_per_second: 2972.2877, train_label_loss: 0.3644, \n"
     ]
    },
    {
     "name": "stdout",
     "output_type": "stream",
     "text": [
      "epoch: 9, [batch: 13440 / 33600], examples_per_second: 3263.6814, train_label_loss: 0.4346, \n"
     ]
    },
    {
     "name": "stdout",
     "output_type": "stream",
     "text": [
      "epoch: 9, [batch: 16800 / 33600], examples_per_second: 3205.4904, train_label_loss: 0.3056, \n"
     ]
    },
    {
     "name": "stdout",
     "output_type": "stream",
     "text": [
      "epoch: 9, [batch: 20160 / 33600], examples_per_second: 3114.2637, train_label_loss: 0.2608, \n"
     ]
    },
    {
     "name": "stdout",
     "output_type": "stream",
     "text": [
      "epoch: 9, [batch: 23520 / 33600], examples_per_second: 3376.3206, train_label_loss: 0.3043, \n"
     ]
    },
    {
     "name": "stdout",
     "output_type": "stream",
     "text": [
      "epoch: 9, [batch: 26880 / 33600], examples_per_second: 3004.8988, train_label_loss: 0.3956, \n"
     ]
    },
    {
     "name": "stdout",
     "output_type": "stream",
     "text": [
      "epoch: 9, [batch: 30240 / 33600], examples_per_second: 3345.9828, train_label_loss: 0.3400, \n"
     ]
    },
    {
     "name": "stdout",
     "output_type": "stream",
     "text": [
      "=============================================================\n",
      "epoch: 9, source_val_acc_label: 0.7347, target_val_acc_label: 0.9805, source_val_label_loss: 0.7594, target_val_label_loss: 0.2467, \n",
      "=============================================================\n"
     ]
    },
    {
     "name": "stdout",
     "output_type": "stream",
     "text": [
      "epoch: 10, [batch: 1 / 33600], examples_per_second: 0.7843, train_label_loss: 0.2774, \n"
     ]
    },
    {
     "name": "stdout",
     "output_type": "stream",
     "text": [
      "epoch: 10, [batch: 3360 / 33600], examples_per_second: 2960.0536, train_label_loss: 0.4394, \n"
     ]
    },
    {
     "name": "stdout",
     "output_type": "stream",
     "text": [
      "epoch: 10, [batch: 6720 / 33600], examples_per_second: 3243.3618, train_label_loss: 0.5915, \n"
     ]
    },
    {
     "name": "stdout",
     "output_type": "stream",
     "text": [
      "epoch: 10, [batch: 10080 / 33600], examples_per_second: 3154.9847, train_label_loss: 0.7373, \n"
     ]
    },
    {
     "name": "stdout",
     "output_type": "stream",
     "text": [
      "epoch: 10, [batch: 13440 / 33600], examples_per_second: 2983.7434, train_label_loss: 0.5143, \n"
     ]
    },
    {
     "name": "stdout",
     "output_type": "stream",
     "text": [
      "epoch: 10, [batch: 16800 / 33600], examples_per_second: 3621.7312, train_label_loss: 0.2638, \n"
     ]
    },
    {
     "name": "stdout",
     "output_type": "stream",
     "text": [
      "epoch: 10, [batch: 20160 / 33600], examples_per_second: 3472.6367, train_label_loss: 0.1992, \n"
     ]
    },
    {
     "name": "stdout",
     "output_type": "stream",
     "text": [
      "epoch: 10, [batch: 23520 / 33600], examples_per_second: 4065.1203, train_label_loss: 0.1731, \n"
     ]
    },
    {
     "name": "stdout",
     "output_type": "stream",
     "text": [
      "epoch: 10, [batch: 26880 / 33600], examples_per_second: 3884.9068, train_label_loss: 0.6306, \n"
     ]
    },
    {
     "name": "stdout",
     "output_type": "stream",
     "text": [
      "epoch: 10, [batch: 30240 / 33600], examples_per_second: 3379.5480, train_label_loss: 0.3265, \n"
     ]
    },
    {
     "name": "stdout",
     "output_type": "stream",
     "text": [
      "=============================================================\n",
      "epoch: 10, source_val_acc_label: 0.7290, target_val_acc_label: 0.9786, source_val_label_loss: 0.7870, target_val_label_loss: 0.2717, \n",
      "=============================================================\n"
     ]
    },
    {
     "name": "stdout",
     "output_type": "stream",
     "text": [
      "Patience (3) exhausted\n"
     ]
    }
   ],
   "source": [
    "###################################\n",
    "# train\n",
    "###################################\n",
    "jig = PTN_Train_Eval_Test_Jig(model, p.BEST_MODEL_PATH, p.device)\n",
    "\n",
    "jig.train(\n",
    "    train_iterable=datasets.source.processed.train,\n",
    "    source_val_iterable=datasets.source.processed.val,\n",
    "    target_val_iterable=datasets.target.processed.val,\n",
    "    num_epochs=p.n_epoch,\n",
    "    num_logs_per_epoch=p.NUM_LOGS_PER_EPOCH,\n",
    "    patience=p.patience,\n",
    "    optimizer=optimizer,\n",
    "    criteria_for_best=p.criteria_for_best,\n",
    ")"
   ]
  },
  {
   "cell_type": "code",
   "execution_count": 23,
   "id": "31e8fabf",
   "metadata": {
    "execution": {
     "iopub.execute_input": "2022-03-22T07:39:35.914040Z",
     "iopub.status.busy": "2022-03-22T07:39:35.913668Z",
     "iopub.status.idle": "2022-03-22T07:39:35.946402Z",
     "shell.execute_reply": "2022-03-22T07:39:35.945672Z"
    },
    "papermill": {
     "duration": 0.092663,
     "end_time": "2022-03-22T07:39:35.946575",
     "exception": false,
     "start_time": "2022-03-22T07:39:35.853912",
     "status": "completed"
    },
    "tags": []
   },
   "outputs": [],
   "source": [
    "total_experiment_time_secs = time.time() - start_time_secs"
   ]
  },
  {
   "cell_type": "code",
   "execution_count": 24,
   "id": "87b9595b",
   "metadata": {
    "execution": {
     "iopub.execute_input": "2022-03-22T07:39:36.070521Z",
     "iopub.status.busy": "2022-03-22T07:39:36.069619Z",
     "iopub.status.idle": "2022-03-22T07:48:34.737174Z",
     "shell.execute_reply": "2022-03-22T07:48:34.736387Z"
    },
    "papermill": {
     "duration": 538.731817,
     "end_time": "2022-03-22T07:48:34.737362",
     "exception": false,
     "start_time": "2022-03-22T07:39:36.005545",
     "status": "completed"
    },
    "tags": []
   },
   "outputs": [],
   "source": [
    "###################################\n",
    "# Evaluate the model\n",
    "###################################\n",
    "source_test_label_accuracy, source_test_label_loss = jig.test(datasets.source.processed.test)\n",
    "target_test_label_accuracy, target_test_label_loss = jig.test(datasets.target.processed.test)\n",
    "\n",
    "source_val_label_accuracy, source_val_label_loss = jig.test(datasets.source.processed.val)\n",
    "target_val_label_accuracy, target_val_label_loss = jig.test(datasets.target.processed.val)\n",
    "\n",
    "history = jig.get_history()\n",
    "\n",
    "total_epochs_trained = len(history[\"epoch_indices\"])\n",
    "\n",
    "val_dl = Iterable_Aggregator((datasets.source.original.val,datasets.target.original.val))\n",
    "\n",
    "confusion = ptn_confusion_by_domain_over_dataloader(model, p.device, val_dl)\n",
    "per_domain_accuracy = per_domain_accuracy_from_confusion(confusion)\n",
    "\n",
    "# Add a key to per_domain_accuracy for if it was a source domain\n",
    "for domain, accuracy in per_domain_accuracy.items():\n",
    "    per_domain_accuracy[domain] = {\n",
    "        \"accuracy\": accuracy,\n",
    "        \"source?\": domain in p.domains_source\n",
    "    }\n",
    "\n",
    "# Do an independent accuracy assesment JUST TO BE SURE!\n",
    "# _source_test_label_accuracy = independent_accuracy_assesment(model, datasets.source.processed.test, p.device)\n",
    "# _target_test_label_accuracy = independent_accuracy_assesment(model, datasets.target.processed.test, p.device)\n",
    "# _source_val_label_accuracy = independent_accuracy_assesment(model, datasets.source.processed.val, p.device)\n",
    "# _target_val_label_accuracy = independent_accuracy_assesment(model, datasets.target.processed.val, p.device)\n",
    "\n",
    "# assert(_source_test_label_accuracy == source_test_label_accuracy)\n",
    "# assert(_target_test_label_accuracy == target_test_label_accuracy)\n",
    "# assert(_source_val_label_accuracy == source_val_label_accuracy)\n",
    "# assert(_target_val_label_accuracy == target_val_label_accuracy)\n",
    "\n",
    "experiment = {\n",
    "    \"experiment_name\": p.experiment_name,\n",
    "    \"parameters\": dict(p),\n",
    "    \"results\": {\n",
    "        \"source_test_label_accuracy\": source_test_label_accuracy,\n",
    "        \"source_test_label_loss\": source_test_label_loss,\n",
    "        \"target_test_label_accuracy\": target_test_label_accuracy,\n",
    "        \"target_test_label_loss\": target_test_label_loss,\n",
    "        \"source_val_label_accuracy\": source_val_label_accuracy,\n",
    "        \"source_val_label_loss\": source_val_label_loss,\n",
    "        \"target_val_label_accuracy\": target_val_label_accuracy,\n",
    "        \"target_val_label_loss\": target_val_label_loss,\n",
    "        \"total_epochs_trained\": total_epochs_trained,\n",
    "        \"total_experiment_time_secs\": total_experiment_time_secs,\n",
    "        \"confusion\": confusion,\n",
    "        \"per_domain_accuracy\": per_domain_accuracy,\n",
    "    },\n",
    "    \"history\": history,\n",
    "    \"dataset_metrics\": get_dataset_metrics(datasets, \"ptn\"),\n",
    "}"
   ]
  },
  {
   "cell_type": "code",
   "execution_count": 25,
   "id": "54a21829",
   "metadata": {
    "execution": {
     "iopub.execute_input": "2022-03-22T07:48:34.856109Z",
     "iopub.status.busy": "2022-03-22T07:48:34.855628Z",
     "iopub.status.idle": "2022-03-22T07:48:35.091893Z",
     "shell.execute_reply": "2022-03-22T07:48:35.091093Z"
    },
    "papermill": {
     "duration": 0.29489,
     "end_time": "2022-03-22T07:48:35.092103",
     "exception": false,
     "start_time": "2022-03-22T07:48:34.797213",
     "status": "completed"
    },
    "tags": []
   },
   "outputs": [
    {
     "data": {
      "image/png": "[encoded data removed]",
      "text/plain": [
       "<Figure size 1080x504 with 1 Axes>"
      ]
     },
     "metadata": {
      "needs_background": "light"
     },
     "output_type": "display_data"
    }
   ],
   "source": [
    "ax = get_loss_curve(experiment)\n",
    "plt.show()"
   ]
  },
  {
   "cell_type": "code",
   "execution_count": 26,
   "id": "fd8a0f60",
   "metadata": {
    "execution": {
     "iopub.execute_input": "2022-03-22T07:48:35.213450Z",
     "iopub.status.busy": "2022-03-22T07:48:35.213064Z",
     "iopub.status.idle": "2022-03-22T07:48:35.579468Z",
     "shell.execute_reply": "2022-03-22T07:48:35.580182Z"
    },
    "papermill": {
     "duration": 0.426767,
     "end_time": "2022-03-22T07:48:35.580389",
     "exception": false,
     "start_time": "2022-03-22T07:48:35.153622",
     "status": "completed"
    },
    "tags": []
   },
   "outputs": [
    {
     "data": {
      "text/plain": [
       "<AxesSubplot:title={'center':'Results'}>"
      ]
     },
     "execution_count": 26,
     "metadata": {},
     "output_type": "execute_result"
    },
    {
     "data": {
      "image/png": "[encoded data removed]",
      "text/plain": [
       "<Figure size 1080x504 with 1 Axes>"
      ]
     },
     "metadata": {
      "needs_background": "light"
     },
     "output_type": "display_data"
    }
   ],
   "source": [
    "get_results_table(experiment)"
   ]
  },
  {
   "cell_type": "code",
   "execution_count": 27,
   "id": "cf8dc689",
   "metadata": {
    "execution": {
     "iopub.execute_input": "2022-03-22T07:48:35.711259Z",
     "iopub.status.busy": "2022-03-22T07:48:35.710614Z",
     "iopub.status.idle": "2022-03-22T07:48:35.971948Z",
     "shell.execute_reply": "2022-03-22T07:48:35.972435Z"
    },
    "papermill": {
     "duration": 0.329186,
     "end_time": "2022-03-22T07:48:35.972621",
     "exception": false,
     "start_time": "2022-03-22T07:48:35.643435",
     "status": "completed"
    },
    "tags": []
   },
   "outputs": [
    {
     "data": {
      "text/plain": [
       "<AxesSubplot:title={'center':'Per Domain Validation Accuracy'}, xlabel='domain'>"
      ]
     },
     "execution_count": 27,
     "metadata": {},
     "output_type": "execute_result"
    },
    {
     "data": {
      "image/png": "[encoded data removed]",
      "text/plain": [
       "<Figure size 1080x504 with 1 Axes>"
      ]
     },
     "metadata": {
      "needs_background": "light"
     },
     "output_type": "display_data"
    }
   ],
   "source": [
    "get_domain_accuracies(experiment)"
   ]
  },
  {
   "cell_type": "code",
   "execution_count": 28,
   "id": "a74ae082",
   "metadata": {
    "execution": {
     "iopub.execute_input": "2022-03-22T07:48:36.112351Z",
     "iopub.status.busy": "2022-03-22T07:48:36.111806Z",
     "iopub.status.idle": "2022-03-22T07:48:36.139817Z",
     "shell.execute_reply": "2022-03-22T07:48:36.138960Z"
    },
    "papermill": {
     "duration": 0.098459,
     "end_time": "2022-03-22T07:48:36.139989",
     "exception": false,
     "start_time": "2022-03-22T07:48:36.041530",
     "status": "completed"
    },
    "tags": []
   },
   "outputs": [
    {
     "name": "stdout",
     "output_type": "stream",
     "text": [
      "Source Test Label Accuracy: 0.7361328125 Target Test Label Accuracy: 0.9802130361173815\n",
      "Source Val Label Accuracy: 0.7342903645833333 Target Val Label Accuracy: 0.9817142857142858\n"
     ]
    }
   ],
   "source": [
    "print(\"Source Test Label Accuracy:\", experiment[\"results\"][\"source_test_label_accuracy\"], \"Target Test Label Accuracy:\", experiment[\"results\"][\"target_test_label_accuracy\"])\n",
    "print(\"Source Val Label Accuracy:\", experiment[\"results\"][\"source_val_label_accuracy\"], \"Target Val Label Accuracy:\", experiment[\"results\"][\"target_val_label_accuracy\"])"
   ]
  },
  {
   "cell_type": "code",
   "execution_count": 29,
   "id": "dacca602",
   "metadata": {
    "execution": {
     "iopub.execute_input": "2022-03-22T07:48:36.275090Z",
     "iopub.status.busy": "2022-03-22T07:48:36.274518Z",
     "iopub.status.idle": "2022-03-22T07:48:36.297573Z",
     "shell.execute_reply": "2022-03-22T07:48:36.298264Z"
    },
    "papermill": {
     "duration": 0.091704,
     "end_time": "2022-03-22T07:48:36.298472",
     "exception": false,
     "start_time": "2022-03-22T07:48:36.206768",
     "status": "completed"
    },
    "tags": [
     "experiment_json"
    ]
   },
   "outputs": [
    {
     "data": {
      "text/plain": [
       "'{\"experiment_name\": \"tl_1v2:cores-oracle.run1\", \"parameters\": {\"experiment_name\": \"tl_1v2:cores-oracle.run1\", \"device\": \"cuda\", \"lr\": 0.0001, \"n_shot\": 3, \"n_query\": 2, \"train_k_factor\": 3, \"val_k_factor\": 2, \"test_k_factor\": 2, \"torch_default_dtype\": \"torch.float32\", \"n_epoch\": 50, \"patience\": 3, \"criteria_for_best\": \"target_accuracy\", \"x_net\": [{\"class\": \"nnReshape\", \"kargs\": {\"shape\": [-1, 1, 2, 256]}}, {\"class\": \"Conv2d\", \"kargs\": {\"in_channels\": 1, \"out_channels\": 256, \"kernel_size\": [1, 7], \"bias\": false, \"padding\": [0, 3]}}, {\"class\": \"ReLU\", \"kargs\": {\"inplace\": true}}, {\"class\": \"BatchNorm2d\", \"kargs\": {\"num_features\": 256}}, {\"class\": \"Conv2d\", \"kargs\": {\"in_channels\": 256, \"out_channels\": 80, \"kernel_size\": [2, 7], \"bias\": true, \"padding\": [0, 3]}}, {\"class\": \"ReLU\", \"kargs\": {\"inplace\": true}}, {\"class\": \"BatchNorm2d\", \"kargs\": {\"num_features\": 80}}, {\"class\": \"Flatten\", \"kargs\": {}}, {\"class\": \"Linear\", \"kargs\": {\"in_features\": 20480, \"out_features\": 256}}, {\"class\": \"ReLU\", \"kargs\": {\"inplace\": true}}, {\"class\": \"BatchNorm1d\", \"kargs\": {\"num_features\": 256}}, {\"class\": \"Linear\", \"kargs\": {\"in_features\": 256, \"out_features\": 256}}], \"NUM_LOGS_PER_EPOCH\": 10, \"BEST_MODEL_PATH\": \"./best_model.pth\", \"n_way\": 16, \"datasets\": [{\"labels\": [\"1-10.\", \"1-11.\", \"1-15.\", \"1-16.\", \"1-17.\", \"1-18.\", \"1-19.\", \"10-4.\", \"10-7.\", \"11-1.\", \"11-14.\", \"11-17.\", \"11-20.\", \"11-7.\", \"13-20.\", \"13-8.\", \"14-10.\", \"14-11.\", \"14-14.\", \"14-7.\", \"15-1.\", \"15-20.\", \"16-1.\", \"16-16.\", \"17-10.\", \"17-11.\", \"17-2.\", \"19-1.\", \"19-16.\", \"19-19.\", \"19-20.\", \"19-3.\", \"2-10.\", \"2-11.\", \"2-17.\", \"2-18.\", \"2-20.\", \"2-3.\", \"2-4.\", \"2-5.\", \"2-6.\", \"2-7.\", \"2-8.\", \"3-13.\", \"3-18.\", \"3-3.\", \"4-1.\", \"4-10.\", \"4-11.\", \"4-19.\", \"5-5.\", \"6-15.\", \"7-10.\", \"7-14.\", \"8-18.\", \"8-20.\", \"8-3.\", \"8-8.\"], \"domains\": [1, 2, 3, 4, 5], \"num_examples_per_domain_per_label\": -1, \"pickle_path\": \"/root/csc500-main/datasets/cores.stratified_ds.2022A.pkl\", \"source_or_target_dataset\": \"target\", \"x_transforms\": [\"unit_mag\"], \"episode_transforms\": [], \"domain_prefix\": \"CORES_\"}, {\"labels\": [\"3123D52\", \"3123D65\", \"3123D79\", \"3123D80\", \"3123D54\", \"3123D70\", \"3123D7B\", \"3123D89\", \"3123D58\", \"3123D76\", \"3123D7D\", \"3123EFE\", \"3123D64\", \"3123D78\", \"3123D7E\", \"3124E4A\"], \"domains\": [32, 38, 8, 44, 14, 50, 20, 26], \"num_examples_per_domain_per_label\": 10000, \"pickle_path\": \"/root/csc500-main/datasets/oracle.Run1_10kExamples_stratified_ds.2022A.pkl\", \"source_or_target_dataset\": \"source\", \"x_transforms\": [\"unit_mag\"], \"episode_transforms\": [], \"domain_prefix\": \"ORACLE.run1_\"}], \"dataset_seed\": 420, \"seed\": 420, \"x_shape\": [2, 256], \"domains_source\": [\"ORACLE.run1_32\", \"ORACLE.run1_38\", \"ORACLE.run1_8\", \"ORACLE.run1_44\", \"ORACLE.run1_14\", \"ORACLE.run1_50\", \"ORACLE.run1_20\", \"ORACLE.run1_26\"], \"domains_target\": [\"CORES_1\", \"CORES_2\", \"CORES_3\", \"CORES_4\", \"CORES_5\"]}, \"results\": {\"source_test_label_accuracy\": 0.7361328125, \"source_test_label_loss\": 0.7359000444412231, \"target_test_label_accuracy\": 0.9802130361173815, \"target_test_label_loss\": 0.2312561273574829, \"source_val_label_accuracy\": 0.7342903645833333, \"source_val_label_loss\": 0.7412319183349609, \"target_val_label_accuracy\": 0.9817142857142858, \"target_val_label_loss\": 0.20907504856586456, \"total_epochs_trained\": 10, \"total_experiment_time_secs\": 11868.594495296478, \"confusion\": {\"ORACLE.run1_14\": {\"15\": {\"15\": 1179, \"7\": 21}, \"5\": {\"5\": 845, \"4\": 196, \"2\": 36, \"13\": 1, \"1\": 97, \"7\": 6, \"3\": 18, \"15\": 1}, \"7\": {\"7\": 1185, \"15\": 10, \"1\": 4, \"5\": 1}, \"4\": {\"2\": 50, \"4\": 901, \"3\": 95, \"5\": 144, \"1\": 9, \"14\": 1}, \"10\": {\"10\": 1154, \"0\": 45, \"14\": 1}, \"11\": {\"11\": 1095, \"0\": 53, \"9\": 51, \"10\": 1}, \"12\": {\"12\": 1194, \"9\": 6}, \"0\": {\"0\": 1091, \"10\": 71, \"11\": 19, \"3\": 19}, \"14\": {\"14\": 1026, \"13\": 59, \"6\": 29, \"2\": 65, \"3\": 20, \"4\": 1}, \"8\": {\"8\": 1200}, \"13\": {\"14\": 167, \"6\": 509, \"2\": 94, \"13\": 417, \"5\": 6, \"4\": 3, \"10\": 2, \"15\": 2}, \"6\": {\"6\": 707, \"13\": 421, \"2\": 36, \"14\": 35, \"4\": 1}, \"1\": {\"1\": 1084, \"5\": 109, \"4\": 7}, \"3\": {\"3\": 1059, \"5\": 2, \"2\": 9, \"4\": 104, \"14\": 18, \"0\": 7, \"13\": 1}, \"9\": {\"9\": 1196, \"12\": 3, \"11\": 1}, \"2\": {\"2\": 650, \"5\": 100, \"13\": 73, \"3\": 58, \"4\": 84, \"15\": 22, \"14\": 156, \"6\": 57}}, \"ORACLE.run1_20\": {\"4\": {\"4\": 976, \"3\": 63, \"8\": 127, \"0\": 3, \"10\": 20, \"5\": 3, \"12\": 6, \"7\": 1, \"9\": 1}, \"10\": {\"10\": 1094, \"4\": 17, \"8\": 16, \"14\": 71, \"6\": 2}, \"15\": {\"15\": 742, \"5\": 103, \"12\": 20, \"0\": 92, \"1\": 200, \"13\": 41, \"2\": 1, \"9\": 1}, \"0\": {\"15\": 106, \"0\": 692, \"5\": 313, \"4\": 5, \"3\": 23, \"1\": 27, \"2\": 6, \"12\": 16, \"13\": 5, \"8\": 5, \"7\": 2}, \"6\": {\"6\": 1074, \"14\": 116, \"7\": 4, \"8\": 4, \"10\": 2}, \"3\": {\"3\": 551, \"1\": 19, \"5\": 40, \"7\": 35, \"12\": 248, \"9\": 174, \"2\": 76, \"8\": 3, \"4\": 48, \"0\": 3, \"15\": 2, \"13\": 1}, \"7\": {\"2\": 140, \"7\": 914, \"3\": 35, \"9\": 36, \"8\": 59, \"4\": 3, \"13\": 3, \"6\": 5, \"12\": 3, \"14\": 1, \"10\": 1}, \"2\": {\"3\": 93, \"9\": 269, \"2\": 583, \"12\": 55, \"7\": 132, \"13\": 52, \"8\": 3, \"5\": 4, \"1\": 7, \"4\": 1, \"15\": 1}, \"8\": {\"8\": 972, \"4\": 115, \"7\": 56, \"14\": 29, \"3\": 8, \"10\": 14, \"0\": 1, \"9\": 1, \"6\": 4}, \"11\": {\"11\": 1200}, \"14\": {\"14\": 999, \"6\": 112, \"10\": 71, \"8\": 17, \"4\": 1}, \"12\": {\"9\": 104, \"1\": 174, \"2\": 44, \"3\": 221, \"12\": 514, \"15\": 20, \"5\": 109, \"4\": 6, \"7\": 2, \"0\": 6}, \"13\": {\"13\": 1114, \"9\": 6, \"1\": 8, \"2\": 54, \"15\": 14, \"12\": 2, \"5\": 1, \"7\": 1}, \"9\": {\"3\": 174, \"9\": 549, \"12\": 109, \"2\": 299, \"1\": 13, \"13\": 7, \"7\": 45, \"5\": 2, \"15\": 2}, \"5\": {\"15\": 90, \"1\": 188, \"5\": 516, \"0\": 234, \"12\": 124, \"3\": 38, \"2\": 4, \"4\": 3, \"13\": 2, \"9\": 1}, \"1\": {\"15\": 196, \"1\": 545, \"5\": 191, \"12\": 188, \"0\": 29, \"9\": 16, \"3\": 25, \"2\": 5, \"13\": 5}}, \"ORACLE.run1_50\": {\"5\": {\"4\": 161, \"5\": 478, \"13\": 172, \"7\": 240, \"6\": 88, \"1\": 57, \"10\": 4}, \"12\": {\"12\": 1087, \"9\": 68, \"14\": 40, \"11\": 5}, \"14\": {\"14\": 1176, \"12\": 18, \"11\": 6}, \"4\": {\"7\": 27, \"4\": 618, \"15\": 163, \"6\": 72, \"1\": 162, \"5\": 139, \"13\": 19}, \"13\": {\"13\": 777, \"7\": 193, \"5\": 140, \"6\": 68, \"10\": 12, \"4\": 6, \"0\": 2, \"1\": 2}, \"10\": {\"10\": 1109, \"13\": 18, \"0\": 38, \"7\": 19, \"8\": 15, \"5\": 1}, \"9\": {\"9\": 970, \"11\": 150, \"12\": 79, \"14\": 1}, \"15\": {\"15\": 911, \"1\": 183, \"4\": 65, \"6\": 17, \"11\": 24}, \"6\": {\"6\": 917, \"4\": 67, \"13\": 75, \"1\": 80, \"5\": 32, \"15\": 20, \"0\": 1, \"7\": 8}, \"2\": {\"2\": 1100, \"0\": 100}, \"0\": {\"0\": 1068, \"2\": 94, \"10\": 33, \"13\": 5}, \"11\": {\"9\": 94, \"11\": 1061, \"15\": 19, \"12\": 9, \"14\": 15, \"1\": 2}, \"3\": {\"3\": 1185, \"8\": 15}, \"8\": {\"8\": 1175, \"10\": 18, \"3\": 6, \"0\": 1}, \"7\": {\"7\": 761, \"13\": 256, \"10\": 23, \"5\": 152, \"6\": 7, \"4\": 1}, \"1\": {\"4\": 109, \"1\": 750, \"15\": 231, \"6\": 86, \"13\": 2, \"11\": 8, \"2\": 1, \"5\": 9, \"14\": 3, \"0\": 1}}, \"ORACLE.run1_26\": {\"7\": {\"7\": 653, \"4\": 115, \"2\": 126, \"8\": 76, \"3\": 176, \"14\": 11, \"0\": 22, \"1\": 4, \"15\": 6, \"9\": 2, \"5\": 8, \"10\": 1}, \"6\": {\"6\": 872, \"9\": 168, \"10\": 63, \"15\": 37, \"8\": 27, \"0\": 22, \"13\": 10, \"5\": 1}, \"14\": {\"14\": 462, \"10\": 85, \"0\": 160, \"1\": 210, \"4\": 257, \"7\": 9, \"8\": 16, \"15\": 1}, \"15\": {\"8\": 79, \"9\": 304, \"5\": 127, \"15\": 521, \"13\": 73, \"6\": 31, \"2\": 38, \"7\": 14, \"10\": 7, \"4\": 2, \"0\": 4}, \"5\": {\"5\": 779, \"8\": 21, \"9\": 43, \"2\": 54, \"13\": 146, \"15\": 147, \"4\": 1, \"3\": 3, \"7\": 5, \"10\": 1}, \"10\": {\"0\": 279, \"10\": 492, \"1\": 23, \"14\": 101, \"4\": 56, \"8\": 165, \"6\": 59, \"9\": 13, \"15\": 7, \"5\": 3, \"7\": 2}, \"4\": {\"4\": 483, \"1\": 84, \"8\": 106, \"14\": 234, \"0\": 146, \"10\": 54, \"7\": 90, \"2\": 1, \"15\": 1, \"3\": 1}, \"11\": {\"11\": 1194, \"12\": 6}, \"13\": {\"13\": 899, \"5\": 185, \"15\": 69, \"6\": 8, \"9\": 23, \"2\": 15, \"3\": 1}, \"2\": {\"3\": 385, \"5\": 96, \"8\": 39, \"2\": 448, \"7\": 152, \"13\": 3, \"15\": 60, \"4\": 9, \"9\": 8}, \"0\": {\"8\": 121, \"14\": 200, \"6\": 17, \"4\": 179, \"0\": 373, \"10\": 259, \"1\": 23, \"7\": 17, \"15\": 6, \"9\": 5}, \"12\": {\"12\": 1198, \"11\": 2}, \"3\": {\"7\": 183, \"3\": 737, \"2\": 277, \"4\": 2, \"15\": 1}, \"9\": {\"15\": 362, \"8\": 92, \"9\": 507, \"10\": 20, \"6\": 135, \"5\": 30, \"2\": 7, \"7\": 6, \"13\": 34, \"3\": 2, \"0\": 5}, \"8\": {\"15\": 81, \"10\": 133, \"8\": 527, \"6\": 33, \"4\": 89, \"0\": 106, \"7\": 86, \"9\": 91, \"2\": 15, \"14\": 15, \"5\": 18, \"3\": 4, \"1\": 2}, \"1\": {\"14\": 230, \"1\": 780, \"4\": 119, \"10\": 38, \"8\": 5, \"0\": 13, \"7\": 14, \"3\": 1}}, \"ORACLE.run1_32\": {\"7\": {\"13\": 99, \"5\": 142, \"4\": 147, \"14\": 143, \"7\": 570, \"11\": 33, \"0\": 23, \"2\": 38, \"3\": 1, \"8\": 4}, \"2\": {\"4\": 190, \"2\": 968, \"7\": 15, \"0\": 22, \"14\": 2, \"5\": 1, \"13\": 1, \"8\": 1}, \"5\": {\"5\": 405, \"13\": 333, \"4\": 105, \"7\": 140, \"0\": 37, \"2\": 16, \"3\": 53, \"8\": 76, \"11\": 10, \"14\": 25}, \"6\": {\"6\": 1200}, \"13\": {\"13\": 563, \"5\": 271, \"4\": 74, \"7\": 97, \"3\": 95, \"8\": 55, \"0\": 16, \"14\": 21, \"11\": 8}, \"4\": {\"4\": 712, \"2\": 180, \"7\": 127, \"5\": 81, \"13\": 42, \"0\": 54, \"8\": 2, \"14\": 2}, \"3\": {\"3\": 1119, \"13\": 47, \"11\": 11, \"7\": 1, \"5\": 15, \"8\": 5, \"14\": 2}, \"0\": {\"4\": 60, \"0\": 884, \"8\": 128, \"14\": 27, \"13\": 16, \"2\": 21, \"5\": 36, \"7\": 28}, \"9\": {\"9\": 1198, \"12\": 2}, \"12\": {\"12\": 1200}, \"8\": {\"0\": 87, \"8\": 960, \"5\": 65, \"13\": 69, \"4\": 4, \"3\": 10, \"7\": 2, \"14\": 3}, \"14\": {\"11\": 333, \"14\": 509, \"7\": 199, \"0\": 41, \"13\": 42, \"2\": 7, \"5\": 36, \"4\": 11, \"8\": 17, \"3\": 5}, \"15\": {\"15\": 1193, \"8\": 7}, \"11\": {\"14\": 183, \"11\": 978, \"3\": 10, \"7\": 17, \"13\": 10, \"5\": 2}, \"10\": {\"10\": 1198, \"1\": 2}, \"1\": {\"1\": 1190, \"10\": 10}}, \"ORACLE.run1_44\": {\"11\": {\"11\": 1128, \"9\": 1, \"13\": 60, \"6\": 11}, \"7\": {\"7\": 773, \"9\": 218, \"6\": 33, \"2\": 166, \"13\": 3, \"3\": 4, \"10\": 3}, \"6\": {\"6\": 866, \"7\": 26, \"9\": 104, \"13\": 192, \"11\": 12}, \"12\": {\"12\": 941, \"1\": 208, \"3\": 14, \"10\": 36, \"2\": 1}, \"4\": {\"14\": 315, \"4\": 876, \"15\": 6, \"9\": 1, \"13\": 2}, \"13\": {\"6\": 228, \"13\": 797, \"9\": 124, \"11\": 40, \"4\": 8, \"7\": 3}, \"8\": {\"0\": 395, \"8\": 764, \"15\": 26, \"5\": 15}, \"5\": {\"5\": 1045, \"0\": 82, \"15\": 31, \"8\": 5, \"14\": 34, \"4\": 3}, \"14\": {\"4\": 341, \"15\": 61, \"14\": 772, \"5\": 26}, \"3\": {\"3\": 1080, \"1\": 109, \"2\": 2, \"12\": 9}, \"10\": {\"10\": 897, \"12\": 86, \"2\": 103, \"1\": 113, \"3\": 1}, \"1\": {\"1\": 763, \"12\": 207, \"3\": 129, \"2\": 29, \"10\": 71, \"7\": 1}, \"2\": {\"2\": 870, \"10\": 103, \"7\": 166, \"1\": 51, \"3\": 4, \"9\": 6}, \"15\": {\"15\": 988, \"0\": 87, \"8\": 14, \"14\": 68, \"4\": 11, \"5\": 32}, \"9\": {\"7\": 260, \"6\": 112, \"9\": 697, \"13\": 118, \"2\": 11, \"3\": 2}, \"0\": {\"0\": 745, \"8\": 341, \"15\": 49, \"5\": 65}}, \"ORACLE.run1_8\": {\"10\": {\"10\": 820, \"14\": 213, \"13\": 111, \"1\": 7, \"4\": 30, \"5\": 18, \"0\": 1}, \"6\": {\"6\": 719, \"0\": 58, \"4\": 130, \"7\": 262, \"13\": 30, \"8\": 1}, \"13\": {\"4\": 191, \"13\": 430, \"10\": 139, \"14\": 109, \"0\": 284, \"6\": 34, \"7\": 11, \"5\": 1, \"1\": 1}, \"3\": {\"2\": 81, \"3\": 1073, \"12\": 42, \"15\": 4}, \"9\": {\"9\": 1200}, \"1\": {\"1\": 900, \"11\": 241, \"14\": 38, \"5\": 14, \"8\": 1, \"10\": 5, \"13\": 1}, \"5\": {\"5\": 1087, \"10\": 57, \"14\": 8, \"1\": 43, \"11\": 5}, \"11\": {\"1\": 389, \"11\": 784, \"8\": 9, \"14\": 4, \"5\": 13, \"4\": 1}, \"4\": {\"14\": 162, \"4\": 671, \"6\": 125, \"13\": 178, \"10\": 23, \"0\": 39, \"7\": 2}, \"14\": {\"14\": 653, \"4\": 181, \"10\": 212, \"13\": 74, \"1\": 63, \"6\": 8, \"5\": 7, \"11\": 2}, \"12\": {\"12\": 671, \"15\": 363, \"3\": 138, \"2\": 9, \"8\": 19}, \"7\": {\"7\": 904, \"6\": 240, \"0\": 45, \"4\": 4, \"13\": 5, \"8\": 2}, \"0\": {\"0\": 760, \"13\": 242, \"7\": 84, \"10\": 10, \"6\": 54, \"4\": 48, \"14\": 2}, \"15\": {\"12\": 225, \"15\": 921, \"8\": 43, \"2\": 4, \"3\": 6, \"7\": 1}, \"2\": {\"2\": 987, \"3\": 149, \"15\": 27, \"7\": 25, \"12\": 11, \"8\": 1}, \"8\": {\"8\": 1150, \"15\": 44, \"6\": 3, \"12\": 3}}, \"ORACLE.run1_38\": {\"4\": {\"4\": 1141, \"12\": 55, \"10\": 2, \"7\": 2}, \"7\": {\"7\": 979, \"0\": 155, \"5\": 37, \"8\": 25, \"3\": 4}, \"12\": {\"12\": 1168, \"4\": 32}, \"10\": {\"13\": 96, \"10\": 970, \"14\": 23, \"7\": 11, \"8\": 43, \"4\": 5, \"11\": 6, \"5\": 6, \"12\": 7, \"0\": 24, \"15\": 6, \"2\": 3}, \"0\": {\"7\": 182, \"8\": 271, \"0\": 546, \"3\": 67, \"5\": 99, \"10\": 26, \"15\": 2, \"4\": 3, \"9\": 2, \"13\": 1, \"6\": 1}, \"1\": {\"1\": 1150, \"15\": 48, \"5\": 1, \"6\": 1}, \"5\": {\"5\": 533, \"9\": 40, \"8\": 320, \"7\": 104, \"15\": 56, \"0\": 74, \"6\": 51, \"1\": 6, \"13\": 7, \"3\": 5, \"10\": 4}, \"15\": {\"15\": 904, \"1\": 69, \"13\": 166, \"8\": 32, \"5\": 21, \"2\": 4, \"10\": 4}, \"9\": {\"9\": 778, \"6\": 382, \"5\": 15, \"3\": 25}, \"11\": {\"11\": 1049, \"14\": 123, \"10\": 19, \"12\": 5, \"13\": 2, \"2\": 2}, \"14\": {\"14\": 1068, \"11\": 43, \"2\": 72, \"13\": 4, \"12\": 6, \"10\": 7}, \"6\": {\"6\": 1024, \"9\": 171, \"5\": 5}, \"8\": {\"8\": 737, \"5\": 255, \"13\": 6, \"7\": 40, \"0\": 118, \"15\": 26, \"10\": 18}, \"3\": {\"3\": 1126, \"6\": 2, \"7\": 16, \"9\": 41, \"5\": 2, \"0\": 13}, \"2\": {\"2\": 1105, \"13\": 20, \"14\": 72, \"15\": 2, \"11\": 1}, \"13\": {\"13\": 844, \"15\": 203, \"8\": 21, \"10\": 97, \"2\": 24, \"1\": 7, \"5\": 3, \"14\": 1}}, \"CORES_4\": {\"42\": {\"42\": 32}, \"0\": {\"0\": 63, \"8\": 2, \"32\": 4, \"23\": 1, \"46\": 3, \"56\": 2, \"27\": 1, \"5\": 1, \"36\": 1, \"54\": 1, \"12\": 1}, \"1\": {\"1\": 40}, \"39\": {\"39\": 20}, \"28\": {\"28\": 32}, \"53\": {\"53\": 124}, \"19\": {\"19\": 144}, \"34\": {\"34\": 24}, \"33\": {\"33\": 36}, \"32\": {\"32\": 24}, \"10\": {\"10\": 136}, \"46\": {\"46\": 131, \"47\": 1, \"5\": 1, \"23\": 1}, \"20\": {\"20\": 122}, \"5\": {\"5\": 102, \"47\": 4, \"23\": 2}, \"40\": {\"40\": 124}, \"51\": {\"51\": 144}, \"37\": {\"37\": 24}, \"17\": {\"17\": 80}, \"45\": {\"45\": 96}, \"13\": {\"13\": 142}, \"27\": {\"27\": 144}, \"24\": {\"24\": 56}, \"30\": {\"30\": 44}, \"31\": {\"31\": 28}, \"41\": {\"41\": 34, \"10\": 1, \"13\": 1}, \"36\": {\"36\": 92}, \"16\": {\"16\": 95, \"11\": 1}, \"22\": {\"22\": 128}, \"44\": {\"44\": 132}, \"9\": {\"9\": 139, \"45\": 1}, \"57\": {\"57\": 99, \"1\": 1}, \"8\": {\"8\": 138}, \"23\": {\"23\": 132}, \"47\": {\"47\": 115, \"46\": 2, \"5\": 3}, \"43\": {\"43\": 138}, \"49\": {\"49\": 20}, \"3\": {\"3\": 98, \"20\": 3, \"25\": 19, \"50\": 2, \"6\": 2}, \"12\": {\"12\": 92}, \"38\": {\"38\": 40}, \"7\": {\"7\": 24}, \"14\": {\"14\": 10, \"57\": 1, \"29\": 2, \"56\": 1, \"35\": 2}, \"15\": {\"15\": 146}, \"25\": {\"25\": 128}, \"26\": {\"26\": 24}, \"21\": {\"21\": 132}, \"48\": {\"48\": 144}, \"56\": {\"56\": 133, \"54\": 1}, \"11\": {\"11\": 104}, \"2\": {\"2\": 34, \"22\": 2}, \"6\": {\"6\": 106, \"51\": 4, \"53\": 2}, \"55\": {\"55\": 140}, \"54\": {\"54\": 108}, \"29\": {\"29\": 124}, \"50\": {\"50\": 103, \"25\": 4, \"53\": 14, \"3\": 1}, \"52\": {\"52\": 116}, \"35\": {\"35\": 40}, \"4\": {\"4\": 120}, \"18\": {\"18\": 108}}, \"CORES_5\": {\"43\": {\"43\": 150, \"15\": 2}, \"35\": {\"35\": 36}, \"54\": {\"54\": 112}, \"22\": {\"22\": 28}, \"16\": {\"16\": 146}, \"5\": {\"5\": 128}, \"28\": {\"28\": 32}, \"14\": {\"31\": 1, \"28\": 3, \"0\": 2, \"14\": 17, \"36\": 4, \"33\": 2, \"40\": 3, \"34\": 4, \"46\": 5, \"2\": 1, \"47\": 2}, \"51\": {\"51\": 128}, \"19\": {\"19\": 140}, \"31\": {\"31\": 36}, \"10\": {\"10\": 68}, \"21\": {\"21\": 133, \"50\": 3}, \"3\": {\"3\": 86, \"46\": 5, \"49\": 1, \"38\": 1, \"18\": 1, \"47\": 5, \"9\": 1}, \"57\": {\"57\": 127, \"45\": 1, \"14\": 2, \"54\": 1, \"6\": 1}, \"9\": {\"9\": 139, \"27\": 2, \"48\": 5}, \"8\": {\"8\": 132}, \"46\": {\"46\": 136, \"47\": 2, \"6\": 1, \"3\": 1}, \"23\": {\"23\": 124}, \"37\": {\"37\": 24}, \"34\": {\"34\": 35, \"40\": 1}, \"4\": {\"4\": 99, \"32\": 1}, \"6\": {\"6\": 126, \"1\": 2}, \"48\": {\"48\": 133, \"27\": 1, \"9\": 2}, \"44\": {\"44\": 135, \"5\": 3}, \"40\": {\"40\": 108, \"34\": 11, \"29\": 5}, \"12\": {\"12\": 96}, \"30\": {\"30\": 127, \"17\": 1}, \"39\": {\"39\": 20}, \"45\": {\"27\": 9, \"45\": 105, \"4\": 2, \"9\": 4, \"32\": 2, \"48\": 2}, \"36\": {\"36\": 92}, \"27\": {\"27\": 140}, \"32\": {\"32\": 32}, \"52\": {\"52\": 130}, \"0\": {\"0\": 122, \"47\": 1, \"35\": 1}, \"26\": {\"26\": 24}, \"1\": {\"1\": 147, \"30\": 1}, \"53\": {\"53\": 146}, \"25\": {\"25\": 144}, \"24\": {\"24\": 80}, \"7\": {\"7\": 32}, \"18\": {\"18\": 64}, \"20\": {\"20\": 144}, \"33\": {\"33\": 32}, \"55\": {\"55\": 140}, \"41\": {\"41\": 25, \"53\": 1, \"42\": 2}, \"42\": {\"42\": 37, \"14\": 1, \"18\": 2}, \"49\": {\"49\": 36}, \"13\": {\"13\": 148}, \"38\": {\"38\": 32}, \"2\": {\"2\": 26, \"56\": 2}, \"47\": {\"47\": 99, \"41\": 1}, \"17\": {\"17\": 116}, \"11\": {\"11\": 154}, \"29\": {\"29\": 132}, \"50\": {\"50\": 116, \"53\": 4, \"16\": 1, \"51\": 2, \"21\": 15}, \"56\": {\"56\": 148}, \"15\": {\"15\": 141, \"43\": 1}}, \"CORES_2\": {\"49\": {\"49\": 24}, \"13\": {\"13\": 116}, \"37\": {\"37\": 36}, \"41\": {\"41\": 20}, \"15\": {\"15\": 140, \"7\": 2}, \"56\": {\"56\": 142}, \"14\": {\"14\": 14, \"1\": 2, \"22\": 2, \"31\": 2, \"42\": 2, \"56\": 2}, \"3\": {\"3\": 88, \"21\": 3, \"52\": 1}, \"38\": {\"38\": 20}, \"43\": {\"43\": 138}, \"33\": {\"33\": 25, \"57\": 2, \"32\": 1}, \"47\": {\"47\": 130, \"5\": 8}, \"30\": {\"30\": 139, \"2\": 1, \"18\": 2, \"36\": 1, \"8\": 1}, \"39\": {\"39\": 28}, \"12\": {\"12\": 92}, \"6\": {\"6\": 120, \"30\": 1, \"25\": 1, \"8\": 1, \"18\": 1}, \"51\": {\"51\": 134}, \"5\": {\"5\": 113, \"47\": 7}, \"34\": {\"34\": 28}, \"35\": {\"35\": 32}, \"0\": {\"0\": 48}, \"7\": {\"7\": 36}, \"24\": {\"24\": 96}, \"8\": {\"8\": 136}, \"20\": {\"20\": 124}, \"36\": {\"36\": 116}, \"42\": {\"42\": 36}, \"1\": {\"1\": 112}, \"4\": {\"4\": 148}, \"28\": {\"28\": 28}, \"50\": {\"50\": 134, \"25\": 2}, \"45\": {\"45\": 122, \"35\": 1, \"4\": 3, \"17\": 1, \"9\": 1}, \"18\": {\"18\": 48}, \"57\": {\"57\": 120}, \"46\": {\"46\": 123, \"53\": 1, \"16\": 1, \"6\": 2, \"15\": 1}, \"23\": {\"23\": 148}, \"27\": {\"27\": 138}, \"19\": {\"19\": 134}, \"22\": {\"22\": 136}, \"17\": {\"17\": 104}, \"55\": {\"55\": 136}, \"44\": {\"44\": 98, \"40\": 1, \"35\": 1}, \"26\": {\"26\": 24}, \"31\": {\"31\": 28}, \"16\": {\"16\": 130}, \"11\": {\"11\": 128}, \"25\": {\"25\": 126}, \"54\": {\"54\": 108}, \"32\": {\"32\": 28}, \"52\": {\"52\": 124}, \"40\": {\"40\": 128, \"19\": 3, \"9\": 1}, \"2\": {\"2\": 32}, \"10\": {\"10\": 110}, \"53\": {\"53\": 136}, \"9\": {\"9\": 150}, \"21\": {\"21\": 120}, \"48\": {\"48\": 138}, \"29\": {\"29\": 128}}, \"CORES_1\": {\"9\": {\"9\": 142}, \"25\": {\"25\": 128}, \"41\": {\"41\": 24}, \"29\": {\"29\": 140}, \"46\": {\"46\": 128}, \"4\": {\"4\": 132}, \"31\": {\"31\": 28}, \"36\": {\"36\": 64}, \"20\": {\"20\": 128}, \"7\": {\"7\": 28}, \"6\": {\"6\": 92, \"48\": 3, \"5\": 1}, \"16\": {\"16\": 138}, \"17\": {\"17\": 64}, \"50\": {\"50\": 148}, \"57\": {\"57\": 137, \"56\": 3, \"1\": 4}, \"23\": {\"23\": 131, \"21\": 5}, \"3\": {\"3\": 125, \"13\": 1}, \"53\": {\"53\": 140}, \"49\": {\"49\": 32}, \"56\": {\"56\": 120, \"57\": 10, \"1\": 17, \"19\": 5}, \"51\": {\"51\": 142}, \"26\": {\"26\": 24}, \"43\": {\"43\": 144}, \"22\": {\"22\": 118, \"21\": 5, \"10\": 2, \"11\": 5, \"23\": 2, \"24\": 4}, \"45\": {\"45\": 139, \"42\": 4, \"30\": 3}, \"13\": {\"13\": 152}, \"12\": {\"12\": 108, \"51\": 7, \"53\": 1}, \"54\": {\"54\": 104}, \"24\": {\"24\": 105, \"10\": 1, \"16\": 1, \"20\": 1}, \"44\": {\"44\": 106, \"34\": 1, \"35\": 5, \"1\": 8, \"56\": 3, \"29\": 2, \"57\": 9, \"19\": 2}, \"28\": {\"28\": 28}, \"33\": {\"33\": 32}, \"38\": {\"38\": 24}, \"0\": {\"0\": 144}, \"47\": {\"47\": 154}, \"42\": {\"42\": 40}, \"34\": {\"34\": 24}, \"48\": {\"48\": 142}, \"35\": {\"35\": 36}, \"2\": {\"2\": 36}, \"30\": {\"30\": 120}, \"18\": {\"18\": 72}, \"37\": {\"37\": 32}, \"1\": {\"1\": 99, \"57\": 1}, \"11\": {\"11\": 138}, \"55\": {\"55\": 130}, \"15\": {\"15\": 150}, \"10\": {\"10\": 96}, \"27\": {\"27\": 160}, \"19\": {\"19\": 146}, \"14\": {\"30\": 4, \"14\": 11, \"45\": 1, \"16\": 1, \"20\": 1, \"8\": 2, \"25\": 1, \"7\": 3}, \"8\": {\"9\": 4, \"8\": 136}, \"5\": {\"5\": 133, \"50\": 1, \"6\": 2}, \"39\": {\"39\": 28}, \"52\": {\"52\": 120, \"10\": 2}, \"21\": {\"21\": 114, \"23\": 10}, \"40\": {\"40\": 152}, \"32\": {\"32\": 32}}, \"CORES_3\": {\"56\": {\"56\": 120}, \"4\": {\"4\": 146}, \"34\": {\"34\": 31, \"1\": 1}, \"52\": {\"52\": 132, \"25\": 4}, \"32\": {\"32\": 28}, \"46\": {\"46\": 131, \"8\": 1, \"20\": 2, \"3\": 2}, \"12\": {\"12\": 88, \"8\": 4}, \"20\": {\"20\": 132}, \"54\": {\"54\": 100}, \"22\": {\"22\": 137, \"55\": 3}, \"26\": {\"26\": 24}, \"31\": {\"31\": 28}, \"10\": {\"10\": 64}, \"27\": {\"27\": 144}, \"40\": {\"40\": 136}, \"28\": {\"28\": 28}, \"5\": {\"5\": 114, \"47\": 2}, \"30\": {\"30\": 120}, \"7\": {\"7\": 36}, \"18\": {\"18\": 83, \"6\": 1}, \"39\": {\"39\": 16}, \"50\": {\"50\": 134, \"52\": 2}, \"49\": {\"49\": 20}, \"43\": {\"43\": 122}, \"29\": {\"29\": 114}, \"35\": {\"35\": 28}, \"13\": {\"13\": 124}, \"36\": {\"36\": 100}, \"11\": {\"11\": 146}, \"57\": {\"57\": 124}, \"9\": {\"9\": 130}, \"25\": {\"25\": 126, \"52\": 4}, \"16\": {\"16\": 126}, \"53\": {\"53\": 118}, \"33\": {\"33\": 28}, \"51\": {\"51\": 128}, \"44\": {\"44\": 88}, \"48\": {\"48\": 114}, \"6\": {\"6\": 81, \"16\": 1, \"30\": 4, \"20\": 1, \"18\": 1}, \"23\": {\"23\": 144}, \"1\": {\"1\": 96, \"57\": 3, \"34\": 1}, \"17\": {\"17\": 106, \"27\": 2}, \"21\": {\"21\": 122}, \"14\": {\"34\": 4, \"22\": 5, \"14\": 20, \"42\": 2, \"29\": 1, \"35\": 1, \"1\": 2, \"55\": 1, \"47\": 1, \"56\": 1, \"57\": 2}, \"55\": {\"55\": 144}, \"41\": {\"41\": 28}, \"3\": {\"3\": 138}, \"38\": {\"38\": 28}, \"2\": {\"2\": 32}, \"8\": {\"8\": 142}, \"37\": {\"37\": 28}, \"45\": {\"17\": 1, \"45\": 56, \"4\": 2, \"19\": 1}, \"42\": {\"42\": 28}, \"24\": {\"24\": 104}, \"15\": {\"15\": 136}, \"0\": {\"0\": 124}, \"47\": {\"47\": 92}, \"19\": {\"19\": 120}}}, \"per_domain_accuracy\": {\"ORACLE.run1_14\": {\"accuracy\": 0.8324479166666666, \"source?\": true}, \"ORACLE.run1_20\": {\"accuracy\": 0.67890625, \"source?\": true}, \"ORACLE.run1_50\": {\"accuracy\": 0.7886979166666667, \"source?\": true}, \"ORACLE.run1_26\": {\"accuracy\": 0.5690104166666666, \"source?\": true}, \"ORACLE.run1_32\": {\"accuracy\": 0.77328125, \"source?\": true}, \"ORACLE.run1_44\": {\"accuracy\": 0.7292708333333333, \"source?\": true}, \"ORACLE.run1_8\": {\"accuracy\": 0.7151041666666667, \"source?\": true}, \"ORACLE.run1_38\": {\"accuracy\": 0.7876041666666667, \"source?\": true}, \"CORES_4\": {\"accuracy\": 0.9820359281437125, \"source?\": false}, \"CORES_5\": {\"accuracy\": 0.9750349162011173, \"source?\": false}, \"CORES_2\": {\"accuracy\": 0.9889285714285714, \"source?\": false}, \"CORES_1\": {\"accuracy\": 0.9748641304347826, \"source?\": false}, \"CORES_3\": {\"accuracy\": 0.9884191176470588, \"source?\": false}}}, \"history\": {\"epoch_indices\": [1, 2, 3, 4, 5, 6, 7, 8, 9, 10], \"train_label_loss\": [1.0741697057757882, 0.8319504134263843, 0.7293395631106215, 0.6494383849101585, 0.5872375450116981, 0.5324591816509409, 0.4885321166034832, 0.4502821595464013, 0.416238089031623, 0.38759721847367473], \"source_val_label_loss\": [0.9488106369972229, 0.8464224338531494, 0.7865166664123535, 0.7567952871322632, 0.7432254552841187, 0.7412319183349609, 0.7414491176605225, 0.7565763592720032, 0.7593691349029541, 0.7870186567306519], \"target_val_label_loss\": [0.17087988555431366, 0.2034340649843216, 0.2135244458913803, 0.20267179608345032, 0.23000596463680267, 0.20907504856586456, 0.2153281718492508, 0.22107164561748505, 0.2467261403799057, 0.27172958850860596], \"source_val_acc_label\": [0.6456901041666666, 0.6809635416666666, 0.7072916666666667, 0.7199609375, 0.72822265625, 0.7342903645833333, 0.7361197916666666, 0.7356184895833333, 0.73474609375, 0.7289908854166667], \"target_val_acc_label\": [0.96125, 0.9676428571428571, 0.9719285714285715, 0.9770714285714286, 0.9766071428571429, 0.9817142857142858, 0.9800714285714286, 0.9806428571428571, 0.9804642857142857, 0.9786428571428571]}, \"dataset_metrics\": {\"source\": {\"train\": {\"n_unique_x\": 896000, \"n_unique_y\": 16, \"n_batch/episode\": 33600}, \"val\": {\"n_unique_x\": 192000, \"n_unique_y\": 16, \"n_batch/episode\": 4800}, \"test\": {\"n_unique_x\": 192000, \"n_unique_y\": 16, \"n_batch/episode\": 4800}}, \"target\": {\"train\": {\"n_unique_x\": 175158, \"n_unique_y\": 58, \"n_batch/episode\": 6317}, \"val\": {\"n_unique_x\": 37216, \"n_unique_y\": 58, \"n_batch/episode\": 875}, \"test\": {\"n_unique_x\": 37596, \"n_unique_y\": 58, \"n_batch/episode\": 886}}}}'"
      ]
     },
     "execution_count": 29,
     "metadata": {},
     "output_type": "execute_result"
    }
   ],
   "source": [
    "json.dumps(experiment)"
   ]
  }
 ],
 "metadata": {
  "celltoolbar": "Tags",
  "kernelspec": {
   "display_name": "Python 3 (ipykernel)",
   "language": "python",
   "name": "python3"
  },
  "language_info": {
   "codemirror_mode": {
    "name": "ipython",
    "version": 3
   },
   "file_extension": ".py",
   "mimetype": "text/x-python",
   "name": "python",
   "nbconvert_exporter": "python",
   "pygments_lexer": "ipython3",
   "version": "3.8.12"
  },
  "papermill": {
   "default_parameters": {},
   "duration": 12416.876095,
   "end_time": "2022-03-22T07:48:40.005674",
   "environment_variables": {},
   "exception": null,
   "input_path": "/root/csc500-main/csc500-notebooks/templates/tl_ptn_template.ipynb",
   "output_path": "trial.ipynb",
   "parameters": {
    "parameters": {
     "BEST_MODEL_PATH": "./best_model.pth",
     "NUM_LOGS_PER_EPOCH": 10,
     "criteria_for_best": "target_accuracy",
     "dataset_seed": 420,
     "datasets": [
      {
       "domain_prefix": "CORES_",
       "domains": [
        1,
        2,
        3,
        4,
        5
       ],
       "episode_transforms": [],
       "labels": [
        "1-10.",
        "1-11.",
        "1-15.",
        "1-16.",
        "1-17.",
        "1-18.",
        "1-19.",
        "10-4.",
        "10-7.",
        "11-1.",
        "11-14.",
        "11-17.",
        "11-20.",
        "11-7.",
        "13-20.",
        "13-8.",
        "14-10.",
        "14-11.",
        "14-14.",
        "14-7.",
        "15-1.",
        "15-20.",
        "16-1.",
        "16-16.",
        "17-10.",
        "17-11.",
        "17-2.",
        "19-1.",
        "19-16.",
        "19-19.",
        "19-20.",
        "19-3.",
        "2-10.",
        "2-11.",
        "2-17.",
        "2-18.",
        "2-20.",
        "2-3.",
        "2-4.",
        "2-5.",
        "2-6.",
        "2-7.",
        "2-8.",
        "3-13.",
        "3-18.",
        "3-3.",
        "4-1.",
        "4-10.",
        "4-11.",
        "4-19.",
        "5-5.",
        "6-15.",
        "7-10.",
        "7-14.",
        "8-18.",
        "8-20.",
        "8-3.",
        "8-8."
       ],
       "num_examples_per_domain_per_label": -1,
       "pickle_path": "/root/csc500-main/datasets/cores.stratified_ds.2022A.pkl",
       "source_or_target_dataset": "target",
       "x_transforms": [
        "unit_mag"
       ]
      },
      {
       "domain_prefix": "ORACLE.run1_",
       "domains": [
        32,
        38,
        8,
        44,
        14,
        50,
        20,
        26
       ],
       "episode_transforms": [],
       "labels": [
        "3123D52",
        "3123D65",
        "3123D79",
        "3123D80",
        "3123D54",
        "3123D70",
        "3123D7B",
        "3123D89",
        "3123D58",
        "3123D76",
        "3123D7D",
        "3123EFE",
        "3123D64",
        "3123D78",
        "3123D7E",
        "3124E4A"
       ],
       "num_examples_per_domain_per_label": 10000,
       "pickle_path": "/root/csc500-main/datasets/oracle.Run1_10kExamples_stratified_ds.2022A.pkl",
       "source_or_target_dataset": "source",
       "x_transforms": [
        "unit_mag"
       ]
      }
     ],
     "device": "cuda",
     "experiment_name": "tl_1v2:cores-oracle.run1",
     "lr": 0.0001,
     "n_epoch": 50,
     "n_query": 2,
     "n_shot": 3,
     "n_way": 16,
     "patience": 3,
     "seed": 420,
     "test_k_factor": 2,
     "torch_default_dtype": "torch.float32",
     "train_k_factor": 3,
     "val_k_factor": 2,
     "x_net": [
      {
       "class": "nnReshape",
       "kargs": {
        "shape": [
         -1,
         1,
         2,
         256
        ]
       }
      },
      {
       "class": "Conv2d",
       "kargs": {
        "bias": false,
        "in_channels": 1,
        "kernel_size": [
         1,
         7
        ],
        "out_channels": 256,
        "padding": [
         0,
         3
        ]
       }
      },
      {
       "class": "ReLU",
       "kargs": {
        "inplace": true
       }
      },
      {
       "class": "BatchNorm2d",
       "kargs": {
        "num_features": 256
       }
      },
      {
       "class": "Conv2d",
       "kargs": {
        "bias": true,
        "in_channels": 256,
        "kernel_size": [
         2,
         7
        ],
        "out_channels": 80,
        "padding": [
         0,
         3
        ]
       }
      },
      {
       "class": "ReLU",
       "kargs": {
        "inplace": true
       }
      },
      {
       "class": "BatchNorm2d",
       "kargs": {
        "num_features": 80
       }
      },
      {
       "class": "Flatten",
       "kargs": {}
      },
      {
       "class": "Linear",
       "kargs": {
        "in_features": 20480,
        "out_features": 256
       }
      },
      {
       "class": "ReLU",
       "kargs": {
        "inplace": true
       }
      },
      {
       "class": "BatchNorm1d",
       "kargs": {
        "num_features": 256
       }
      },
      {
       "class": "Linear",
       "kargs": {
        "in_features": 256,
        "out_features": 256
       }
      }
     ]
    }
   },
   "start_time": "2022-03-22T04:21:43.129579",
   "version": "2.3.4"
  }
 },
 "nbformat": 4,
 "nbformat_minor": 5
}