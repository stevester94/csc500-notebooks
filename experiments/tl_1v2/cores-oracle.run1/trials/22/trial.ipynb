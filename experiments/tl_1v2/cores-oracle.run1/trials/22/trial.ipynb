{
 "cells": [
  {
   "cell_type": "markdown",
   "id": "9fea5f46",
   "metadata": {
    "papermill": {
     "duration": 0.030748,
     "end_time": "2022-03-23T01:19:14.010054",
     "exception": false,
     "start_time": "2022-03-23T01:19:13.979306",
     "status": "completed"
    },
    "tags": []
   },
   "source": [
    "# Transfer Learning Template"
   ]
  },
  {
   "cell_type": "code",
   "execution_count": 1,
   "id": "0902182a",
   "metadata": {
    "execution": {
     "iopub.execute_input": "2022-03-23T01:19:14.072357Z",
     "iopub.status.busy": "2022-03-23T01:19:14.070595Z",
     "iopub.status.idle": "2022-03-23T01:19:15.930327Z",
     "shell.execute_reply": "2022-03-23T01:19:15.929502Z"
    },
    "papermill": {
     "duration": 1.897888,
     "end_time": "2022-03-23T01:19:15.930514",
     "exception": false,
     "start_time": "2022-03-23T01:19:14.032626",
     "status": "completed"
    },
    "tags": []
   },
   "outputs": [],
   "source": [
    "%load_ext autoreload\n",
    "%autoreload 2\n",
    "%matplotlib inline\n",
    "\n",
    "    \n",
    "import os, json, sys, time, random\n",
    "import numpy as np\n",
    "import torch\n",
    "from torch.optim import Adam\n",
    "from  easydict import EasyDict\n",
    "import matplotlib.pyplot as plt\n",
    "\n",
    "from steves_models.steves_ptn import Steves_Prototypical_Network\n",
    "\n",
    "from steves_utils.lazy_iterable_wrapper import Lazy_Iterable_Wrapper\n",
    "from steves_utils.iterable_aggregator import Iterable_Aggregator\n",
    "from steves_utils.ptn_train_eval_test_jig import  PTN_Train_Eval_Test_Jig\n",
    "from steves_utils.torch_sequential_builder import build_sequential\n",
    "from steves_utils.torch_utils import get_dataset_metrics, ptn_confusion_by_domain_over_dataloader\n",
    "from steves_utils.utils_v2 import (per_domain_accuracy_from_confusion, get_datasets_base_path)\n",
    "from steves_utils.PTN.utils import independent_accuracy_assesment\n",
    "\n",
    "from torch.utils.data import DataLoader\n",
    "\n",
    "from steves_utils.stratified_dataset.episodic_accessor import Episodic_Accessor_Factory\n",
    "\n",
    "from steves_utils.ptn_do_report import (\n",
    "    get_loss_curve,\n",
    "    get_results_table,\n",
    "    get_parameters_table,\n",
    "    get_domain_accuracies,\n",
    ")\n",
    "\n",
    "from steves_utils.transforms import get_chained_transform"
   ]
  },
  {
   "cell_type": "markdown",
   "id": "41c840b4",
   "metadata": {
    "papermill": {
     "duration": 0.019504,
     "end_time": "2022-03-23T01:19:15.975680",
     "exception": false,
     "start_time": "2022-03-23T01:19:15.956176",
     "status": "completed"
    },
    "tags": []
   },
   "source": [
    "# Allowed Parameters\n",
    "These are allowed parameters, not defaults\n",
    "Each of these values need to be present in the injected parameters (the notebook will raise an exception if they are not present)\n",
    "\n",
    "Papermill uses the cell tag \"parameters\" to inject the real parameters below this cell.\n",
    "Enable tags to see what I mean"
   ]
  },
  {
   "cell_type": "code",
   "execution_count": 2,
   "id": "fd44eb83",
   "metadata": {
    "execution": {
     "iopub.execute_input": "2022-03-23T01:19:16.019887Z",
     "iopub.status.busy": "2022-03-23T01:19:16.019402Z",
     "iopub.status.idle": "2022-03-23T01:19:16.043501Z",
     "shell.execute_reply": "2022-03-23T01:19:16.042835Z"
    },
    "papermill": {
     "duration": 0.048603,
     "end_time": "2022-03-23T01:19:16.043707",
     "exception": false,
     "start_time": "2022-03-23T01:19:15.995104",
     "status": "completed"
    },
    "tags": []
   },
   "outputs": [],
   "source": [
    "required_parameters = {\n",
    "    \"experiment_name\",\n",
    "    \"lr\",\n",
    "    \"device\",\n",
    "    \"seed\",\n",
    "    \"dataset_seed\",\n",
    "    \"n_shot\",\n",
    "    \"n_query\",\n",
    "    \"n_way\",\n",
    "    \"train_k_factor\",\n",
    "    \"val_k_factor\",\n",
    "    \"test_k_factor\",\n",
    "    \"n_epoch\",\n",
    "    \"patience\",\n",
    "    \"criteria_for_best\",\n",
    "    \"x_net\",\n",
    "    \"datasets\",\n",
    "    \"torch_default_dtype\",\n",
    "    \"NUM_LOGS_PER_EPOCH\",\n",
    "    \"BEST_MODEL_PATH\",\n",
    "    \"x_shape\",\n",
    "}"
   ]
  },
  {
   "cell_type": "code",
   "execution_count": 3,
   "id": "fa3f0049",
   "metadata": {
    "execution": {
     "iopub.execute_input": "2022-03-23T01:19:16.104346Z",
     "iopub.status.busy": "2022-03-23T01:19:16.103442Z",
     "iopub.status.idle": "2022-03-23T01:19:16.123351Z",
     "shell.execute_reply": "2022-03-23T01:19:16.122547Z"
    },
    "papermill": {
     "duration": 0.055189,
     "end_time": "2022-03-23T01:19:16.123500",
     "exception": false,
     "start_time": "2022-03-23T01:19:16.068311",
     "status": "completed"
    },
    "tags": [
     "parameters"
    ]
   },
   "outputs": [],
   "source": [
    "from steves_utils.CORES.utils import (\n",
    "    ALL_NODES,\n",
    "    ALL_NODES_MINIMUM_1000_EXAMPLES,\n",
    "    ALL_DAYS\n",
    ")\n",
    "\n",
    "from steves_utils.ORACLE.utils_v2 import (\n",
    "    ALL_DISTANCES_FEET_NARROWED,\n",
    "    ALL_RUNS,\n",
    "    ALL_SERIAL_NUMBERS,\n",
    ")\n",
    "\n",
    "standalone_parameters = {}\n",
    "standalone_parameters[\"experiment_name\"] = \"STANDALONE PTN\"\n",
    "standalone_parameters[\"lr\"] = 0.001\n",
    "standalone_parameters[\"device\"] = \"cuda\"\n",
    "\n",
    "standalone_parameters[\"seed\"] = 1337\n",
    "standalone_parameters[\"dataset_seed\"] = 1337\n",
    "\n",
    "standalone_parameters[\"n_way\"] = 8\n",
    "standalone_parameters[\"n_shot\"] = 3\n",
    "standalone_parameters[\"n_query\"]  = 2\n",
    "standalone_parameters[\"train_k_factor\"] = 1\n",
    "standalone_parameters[\"val_k_factor\"] = 2\n",
    "standalone_parameters[\"test_k_factor\"] = 2\n",
    "\n",
    "\n",
    "standalone_parameters[\"n_epoch\"] = 50\n",
    "\n",
    "standalone_parameters[\"patience\"] = 10\n",
    "standalone_parameters[\"criteria_for_best\"] = \"source_loss\"\n",
    "\n",
    "standalone_parameters[\"datasets\"] = [\n",
    "    {\n",
    "        \"labels\": ALL_SERIAL_NUMBERS,\n",
    "        \"domains\": ALL_DISTANCES_FEET_NARROWED,\n",
    "        \"num_examples_per_domain_per_label\": 100,\n",
    "        \"pickle_path\": os.path.join(get_datasets_base_path(), \"oracle.Run1_framed_2000Examples_stratified_ds.2022A.pkl\"),\n",
    "        \"source_or_target_dataset\": \"source\",\n",
    "        \"x_transforms\": [\"unit_mag\", \"minus_two\"],\n",
    "        \"episode_transforms\": [],\n",
    "        \"domain_prefix\": \"ORACLE_\"\n",
    "    },\n",
    "    {\n",
    "        \"labels\": ALL_NODES,\n",
    "        \"domains\": ALL_DAYS,\n",
    "        \"num_examples_per_domain_per_label\": 100,\n",
    "        \"pickle_path\": os.path.join(get_datasets_base_path(), \"cores.stratified_ds.2022A.pkl\"),\n",
    "        \"source_or_target_dataset\": \"target\",\n",
    "        \"x_transforms\": [\"unit_power\", \"times_zero\"],\n",
    "        \"episode_transforms\": [],\n",
    "        \"domain_prefix\": \"CORES_\"\n",
    "    }   \n",
    "]\n",
    "\n",
    "standalone_parameters[\"torch_default_dtype\"] = \"torch.float32\" \n",
    "\n",
    "\n",
    "\n",
    "standalone_parameters[\"x_net\"] =     [\n",
    "    {\"class\": \"nnReshape\", \"kargs\": {\"shape\":[-1, 1, 2, 256]}},\n",
    "    {\"class\": \"Conv2d\", \"kargs\": { \"in_channels\":1, \"out_channels\":256, \"kernel_size\":(1,7), \"bias\":False, \"padding\":(0,3), },},\n",
    "    {\"class\": \"ReLU\", \"kargs\": {\"inplace\": True}},\n",
    "    {\"class\": \"BatchNorm2d\", \"kargs\": {\"num_features\":256}},\n",
    "\n",
    "    {\"class\": \"Conv2d\", \"kargs\": { \"in_channels\":256, \"out_channels\":80, \"kernel_size\":(2,7), \"bias\":True, \"padding\":(0,3), },},\n",
    "    {\"class\": \"ReLU\", \"kargs\": {\"inplace\": True}},\n",
    "    {\"class\": \"BatchNorm2d\", \"kargs\": {\"num_features\":80}},\n",
    "    {\"class\": \"Flatten\", \"kargs\": {}},\n",
    "\n",
    "    {\"class\": \"Linear\", \"kargs\": {\"in_features\": 80*256, \"out_features\": 256}}, # 80 units per IQ pair\n",
    "    {\"class\": \"ReLU\", \"kargs\": {\"inplace\": True}},\n",
    "    {\"class\": \"BatchNorm1d\", \"kargs\": {\"num_features\":256}},\n",
    "\n",
    "    {\"class\": \"Linear\", \"kargs\": {\"in_features\": 256, \"out_features\": 256}},\n",
    "]\n",
    "\n",
    "# Parameters relevant to results\n",
    "# These parameters will basically never need to change\n",
    "standalone_parameters[\"NUM_LOGS_PER_EPOCH\"] = 10\n",
    "standalone_parameters[\"BEST_MODEL_PATH\"] = \"./best_model.pth\"\n",
    "\n",
    "\n",
    "\n",
    "\n"
   ]
  },
  {
   "cell_type": "code",
   "execution_count": 4,
   "id": "60be77e0",
   "metadata": {
    "execution": {
     "iopub.execute_input": "2022-03-23T01:19:16.183760Z",
     "iopub.status.busy": "2022-03-23T01:19:16.170424Z",
     "iopub.status.idle": "2022-03-23T01:19:16.202582Z",
     "shell.execute_reply": "2022-03-23T01:19:16.201782Z"
    },
    "papermill": {
     "duration": 0.054657,
     "end_time": "2022-03-23T01:19:16.202731",
     "exception": false,
     "start_time": "2022-03-23T01:19:16.148074",
     "status": "completed"
    },
    "tags": [
     "injected-parameters"
    ]
   },
   "outputs": [],
   "source": [
    "# Parameters\n",
    "parameters = {\n",
    "    \"experiment_name\": \"tl_1v2:cores-oracle.run1\",\n",
    "    \"device\": \"cuda\",\n",
    "    \"lr\": 0.0001,\n",
    "    \"n_shot\": 3,\n",
    "    \"n_query\": 2,\n",
    "    \"train_k_factor\": 3,\n",
    "    \"val_k_factor\": 2,\n",
    "    \"test_k_factor\": 2,\n",
    "    \"torch_default_dtype\": \"torch.float32\",\n",
    "    \"n_epoch\": 50,\n",
    "    \"patience\": 3,\n",
    "    \"criteria_for_best\": \"target_accuracy\",\n",
    "    \"x_net\": [\n",
    "        {\"class\": \"nnReshape\", \"kargs\": {\"shape\": [-1, 1, 2, 256]}},\n",
    "        {\n",
    "            \"class\": \"Conv2d\",\n",
    "            \"kargs\": {\n",
    "                \"in_channels\": 1,\n",
    "                \"out_channels\": 256,\n",
    "                \"kernel_size\": [1, 7],\n",
    "                \"bias\": False,\n",
    "                \"padding\": [0, 3],\n",
    "            },\n",
    "        },\n",
    "        {\"class\": \"ReLU\", \"kargs\": {\"inplace\": True}},\n",
    "        {\"class\": \"BatchNorm2d\", \"kargs\": {\"num_features\": 256}},\n",
    "        {\n",
    "            \"class\": \"Conv2d\",\n",
    "            \"kargs\": {\n",
    "                \"in_channels\": 256,\n",
    "                \"out_channels\": 80,\n",
    "                \"kernel_size\": [2, 7],\n",
    "                \"bias\": True,\n",
    "                \"padding\": [0, 3],\n",
    "            },\n",
    "        },\n",
    "        {\"class\": \"ReLU\", \"kargs\": {\"inplace\": True}},\n",
    "        {\"class\": \"BatchNorm2d\", \"kargs\": {\"num_features\": 80}},\n",
    "        {\"class\": \"Flatten\", \"kargs\": {}},\n",
    "        {\"class\": \"Linear\", \"kargs\": {\"in_features\": 20480, \"out_features\": 256}},\n",
    "        {\"class\": \"ReLU\", \"kargs\": {\"inplace\": True}},\n",
    "        {\"class\": \"BatchNorm1d\", \"kargs\": {\"num_features\": 256}},\n",
    "        {\"class\": \"Linear\", \"kargs\": {\"in_features\": 256, \"out_features\": 256}},\n",
    "    ],\n",
    "    \"NUM_LOGS_PER_EPOCH\": 10,\n",
    "    \"BEST_MODEL_PATH\": \"./best_model.pth\",\n",
    "    \"n_way\": 16,\n",
    "    \"datasets\": [\n",
    "        {\n",
    "            \"labels\": [\n",
    "                \"1-10.\",\n",
    "                \"1-11.\",\n",
    "                \"1-15.\",\n",
    "                \"1-16.\",\n",
    "                \"1-17.\",\n",
    "                \"1-18.\",\n",
    "                \"1-19.\",\n",
    "                \"10-4.\",\n",
    "                \"10-7.\",\n",
    "                \"11-1.\",\n",
    "                \"11-14.\",\n",
    "                \"11-17.\",\n",
    "                \"11-20.\",\n",
    "                \"11-7.\",\n",
    "                \"13-20.\",\n",
    "                \"13-8.\",\n",
    "                \"14-10.\",\n",
    "                \"14-11.\",\n",
    "                \"14-14.\",\n",
    "                \"14-7.\",\n",
    "                \"15-1.\",\n",
    "                \"15-20.\",\n",
    "                \"16-1.\",\n",
    "                \"16-16.\",\n",
    "                \"17-10.\",\n",
    "                \"17-11.\",\n",
    "                \"17-2.\",\n",
    "                \"19-1.\",\n",
    "                \"19-16.\",\n",
    "                \"19-19.\",\n",
    "                \"19-20.\",\n",
    "                \"19-3.\",\n",
    "                \"2-10.\",\n",
    "                \"2-11.\",\n",
    "                \"2-17.\",\n",
    "                \"2-18.\",\n",
    "                \"2-20.\",\n",
    "                \"2-3.\",\n",
    "                \"2-4.\",\n",
    "                \"2-5.\",\n",
    "                \"2-6.\",\n",
    "                \"2-7.\",\n",
    "                \"2-8.\",\n",
    "                \"3-13.\",\n",
    "                \"3-18.\",\n",
    "                \"3-3.\",\n",
    "                \"4-1.\",\n",
    "                \"4-10.\",\n",
    "                \"4-11.\",\n",
    "                \"4-19.\",\n",
    "                \"5-5.\",\n",
    "                \"6-15.\",\n",
    "                \"7-10.\",\n",
    "                \"7-14.\",\n",
    "                \"8-18.\",\n",
    "                \"8-20.\",\n",
    "                \"8-3.\",\n",
    "                \"8-8.\",\n",
    "            ],\n",
    "            \"domains\": [1, 2, 3, 4, 5],\n",
    "            \"num_examples_per_domain_per_label\": -1,\n",
    "            \"pickle_path\": \"/root/csc500-main/datasets/cores.stratified_ds.2022A.pkl\",\n",
    "            \"source_or_target_dataset\": \"target\",\n",
    "            \"x_transforms\": [\"unit_mag\"],\n",
    "            \"episode_transforms\": [],\n",
    "            \"domain_prefix\": \"CORES_\",\n",
    "        },\n",
    "        {\n",
    "            \"labels\": [\n",
    "                \"3123D52\",\n",
    "                \"3123D65\",\n",
    "                \"3123D79\",\n",
    "                \"3123D80\",\n",
    "                \"3123D54\",\n",
    "                \"3123D70\",\n",
    "                \"3123D7B\",\n",
    "                \"3123D89\",\n",
    "                \"3123D58\",\n",
    "                \"3123D76\",\n",
    "                \"3123D7D\",\n",
    "                \"3123EFE\",\n",
    "                \"3123D64\",\n",
    "                \"3123D78\",\n",
    "                \"3123D7E\",\n",
    "                \"3124E4A\",\n",
    "            ],\n",
    "            \"domains\": [32, 38, 8, 44, 14, 50, 20, 26],\n",
    "            \"num_examples_per_domain_per_label\": 10000,\n",
    "            \"pickle_path\": \"/root/csc500-main/datasets/oracle.Run1_10kExamples_stratified_ds.2022A.pkl\",\n",
    "            \"source_or_target_dataset\": \"source\",\n",
    "            \"x_transforms\": [\"unit_mag\"],\n",
    "            \"episode_transforms\": [],\n",
    "            \"domain_prefix\": \"ORACLE.run1_\",\n",
    "        },\n",
    "    ],\n",
    "    \"dataset_seed\": 7,\n",
    "    \"seed\": 7,\n",
    "}\n"
   ]
  },
  {
   "cell_type": "code",
   "execution_count": 5,
   "id": "8fa1cc33",
   "metadata": {
    "execution": {
     "iopub.execute_input": "2022-03-23T01:19:16.256005Z",
     "iopub.status.busy": "2022-03-23T01:19:16.255347Z",
     "iopub.status.idle": "2022-03-23T01:19:16.278259Z",
     "shell.execute_reply": "2022-03-23T01:19:16.277452Z"
    },
    "papermill": {
     "duration": 0.050175,
     "end_time": "2022-03-23T01:19:16.278408",
     "exception": false,
     "start_time": "2022-03-23T01:19:16.228233",
     "status": "completed"
    },
    "tags": []
   },
   "outputs": [],
   "source": [
    "# Set this to True if you want to run this template directly\n",
    "STANDALONE = False\n",
    "if STANDALONE:\n",
    "    print(\"parameters not injected, running with standalone_parameters\")\n",
    "    parameters = standalone_parameters\n",
    "\n",
    "if not 'parameters' in locals() and not 'parameters' in globals():\n",
    "    raise Exception(\"Parameter injection failed\")\n",
    "\n",
    "#Use an easy dict for all the parameters\n",
    "p = EasyDict(parameters)\n",
    "\n",
    "if \"x_shape\" not in p:\n",
    "    p.x_shape = [2,256] # Default to this if we dont supply x_shape\n",
    "\n",
    "\n",
    "supplied_keys = set(p.keys())\n",
    "\n",
    "if  supplied_keys != required_parameters:\n",
    "    print(\"Parameters are incorrect\")\n",
    "    if len(supplied_keys - required_parameters)>0: print(\"Shouldn't have:\", str(supplied_keys - required_parameters))\n",
    "    if len(required_parameters - supplied_keys)>0: print(\"Need to have:\", str(required_parameters - supplied_keys))\n",
    "    raise RuntimeError(\"Parameters are incorrect\")"
   ]
  },
  {
   "cell_type": "code",
   "execution_count": 6,
   "id": "3a028d58",
   "metadata": {
    "execution": {
     "iopub.execute_input": "2022-03-23T01:19:16.328952Z",
     "iopub.status.busy": "2022-03-23T01:19:16.328583Z",
     "iopub.status.idle": "2022-03-23T01:19:16.346272Z",
     "shell.execute_reply": "2022-03-23T01:19:16.345476Z"
    },
    "papermill": {
     "duration": 0.040253,
     "end_time": "2022-03-23T01:19:16.346421",
     "exception": false,
     "start_time": "2022-03-23T01:19:16.306168",
     "status": "completed"
    },
    "tags": []
   },
   "outputs": [],
   "source": [
    "###################################\n",
    "# Set the RNGs and make it all deterministic\n",
    "###################################\n",
    "np.random.seed(p.seed)\n",
    "random.seed(p.seed)\n",
    "torch.manual_seed(p.seed)\n",
    "\n",
    "torch.use_deterministic_algorithms(True) "
   ]
  },
  {
   "cell_type": "code",
   "execution_count": 7,
   "id": "b691acf6",
   "metadata": {
    "execution": {
     "iopub.execute_input": "2022-03-23T01:19:16.396996Z",
     "iopub.status.busy": "2022-03-23T01:19:16.396628Z",
     "iopub.status.idle": "2022-03-23T01:19:16.418326Z",
     "shell.execute_reply": "2022-03-23T01:19:16.417530Z"
    },
    "papermill": {
     "duration": 0.046224,
     "end_time": "2022-03-23T01:19:16.418472",
     "exception": false,
     "start_time": "2022-03-23T01:19:16.372248",
     "status": "completed"
    },
    "tags": []
   },
   "outputs": [],
   "source": [
    "###########################################\n",
    "# The stratified datasets honor this\n",
    "###########################################\n",
    "torch.set_default_dtype(eval(p.torch_default_dtype))"
   ]
  },
  {
   "cell_type": "code",
   "execution_count": 8,
   "id": "b5fba671",
   "metadata": {
    "execution": {
     "iopub.execute_input": "2022-03-23T01:19:16.468445Z",
     "iopub.status.busy": "2022-03-23T01:19:16.468031Z",
     "iopub.status.idle": "2022-03-23T01:19:16.530331Z",
     "shell.execute_reply": "2022-03-23T01:19:16.529626Z"
    },
    "papermill": {
     "duration": 0.086654,
     "end_time": "2022-03-23T01:19:16.530481",
     "exception": false,
     "start_time": "2022-03-23T01:19:16.443827",
     "status": "completed"
    },
    "tags": []
   },
   "outputs": [],
   "source": [
    "###################################\n",
    "# Build the network(s)\n",
    "# Note: It's critical to do this AFTER setting the RNG\n",
    "###################################\n",
    "x_net = build_sequential(p.x_net)"
   ]
  },
  {
   "cell_type": "code",
   "execution_count": 9,
   "id": "5d7e61cc",
   "metadata": {
    "execution": {
     "iopub.execute_input": "2022-03-23T01:19:16.580536Z",
     "iopub.status.busy": "2022-03-23T01:19:16.580103Z",
     "iopub.status.idle": "2022-03-23T01:19:16.603188Z",
     "shell.execute_reply": "2022-03-23T01:19:16.602352Z"
    },
    "papermill": {
     "duration": 0.046676,
     "end_time": "2022-03-23T01:19:16.603337",
     "exception": false,
     "start_time": "2022-03-23T01:19:16.556661",
     "status": "completed"
    },
    "tags": []
   },
   "outputs": [],
   "source": [
    "start_time_secs = time.time()"
   ]
  },
  {
   "cell_type": "code",
   "execution_count": 10,
   "id": "c6b67dfd",
   "metadata": {
    "execution": {
     "iopub.execute_input": "2022-03-23T01:19:16.654738Z",
     "iopub.status.busy": "2022-03-23T01:19:16.654370Z",
     "iopub.status.idle": "2022-03-23T01:19:16.671892Z",
     "shell.execute_reply": "2022-03-23T01:19:16.671070Z"
    },
    "papermill": {
     "duration": 0.040941,
     "end_time": "2022-03-23T01:19:16.672041",
     "exception": false,
     "start_time": "2022-03-23T01:19:16.631100",
     "status": "completed"
    },
    "tags": []
   },
   "outputs": [],
   "source": [
    "p.domains_source = []\n",
    "p.domains_target = []\n",
    "\n",
    "\n",
    "train_original_source = []\n",
    "val_original_source   = []\n",
    "test_original_source  = []\n",
    "\n",
    "train_original_target = []\n",
    "val_original_target   = []\n",
    "test_original_target  = []"
   ]
  },
  {
   "cell_type": "code",
   "execution_count": 11,
   "id": "e3d9c3d3",
   "metadata": {
    "execution": {
     "iopub.execute_input": "2022-03-23T01:19:16.730003Z",
     "iopub.status.busy": "2022-03-23T01:19:16.726967Z",
     "iopub.status.idle": "2022-03-23T01:19:16.750043Z",
     "shell.execute_reply": "2022-03-23T01:19:16.749338Z"
    },
    "papermill": {
     "duration": 0.047177,
     "end_time": "2022-03-23T01:19:16.750192",
     "exception": false,
     "start_time": "2022-03-23T01:19:16.703015",
     "status": "completed"
    },
    "tags": []
   },
   "outputs": [],
   "source": [
    "# global_x_transform_func = lambda x: normalize(x.to(torch.get_default_dtype()), \"unit_power\") # unit_power, unit_mag\n",
    "# global_x_transform_func = lambda x: normalize(x, \"unit_power\") # unit_power, unit_mag"
   ]
  },
  {
   "cell_type": "code",
   "execution_count": 12,
   "id": "acb78fd2",
   "metadata": {
    "execution": {
     "iopub.execute_input": "2022-03-23T01:19:16.810048Z",
     "iopub.status.busy": "2022-03-23T01:19:16.804889Z",
     "iopub.status.idle": "2022-03-23T01:19:16.827962Z",
     "shell.execute_reply": "2022-03-23T01:19:16.827130Z"
    },
    "papermill": {
     "duration": 0.051677,
     "end_time": "2022-03-23T01:19:16.828113",
     "exception": false,
     "start_time": "2022-03-23T01:19:16.776436",
     "status": "completed"
    },
    "tags": []
   },
   "outputs": [],
   "source": [
    "def add_dataset(\n",
    "    labels,\n",
    "    domains,\n",
    "    pickle_path,\n",
    "    x_transforms,\n",
    "    episode_transforms,\n",
    "    domain_prefix,\n",
    "    num_examples_per_domain_per_label,\n",
    "    source_or_target_dataset:str,\n",
    "    iterator_seed=p.seed,\n",
    "    dataset_seed=p.dataset_seed,\n",
    "    n_shot=p.n_shot,\n",
    "    n_way=p.n_way,\n",
    "    n_query=p.n_query,\n",
    "    train_val_test_k_factors=(p.train_k_factor,p.val_k_factor,p.test_k_factor),\n",
    "):\n",
    "   \n",
    "    if x_transforms == []: x_transform = None\n",
    "    else: x_transform = get_chained_transform(x_transforms)\n",
    "    \n",
    "    if episode_transforms == []: episode_transform = None\n",
    "    else: raise Exception(\"episode_transforms not implemented\")\n",
    "    \n",
    "    episode_transform = lambda tup, _prefix=domain_prefix: (_prefix + str(tup[0]), tup[1])\n",
    "\n",
    "\n",
    "    eaf = Episodic_Accessor_Factory(\n",
    "        labels=labels,\n",
    "        domains=domains,\n",
    "        num_examples_per_domain_per_label=num_examples_per_domain_per_label,\n",
    "        iterator_seed=iterator_seed,\n",
    "        dataset_seed=dataset_seed,\n",
    "        n_shot=n_shot,\n",
    "        n_way=n_way,\n",
    "        n_query=n_query,\n",
    "        train_val_test_k_factors=train_val_test_k_factors,\n",
    "        pickle_path=pickle_path,\n",
    "        x_transform_func=x_transform,\n",
    "    )\n",
    "\n",
    "    train, val, test = eaf.get_train(), eaf.get_val(), eaf.get_test()\n",
    "    train = Lazy_Iterable_Wrapper(train, episode_transform)\n",
    "    val = Lazy_Iterable_Wrapper(val, episode_transform)\n",
    "    test = Lazy_Iterable_Wrapper(test, episode_transform)\n",
    "\n",
    "    if source_or_target_dataset==\"source\":\n",
    "        train_original_source.append(train)\n",
    "        val_original_source.append(val)\n",
    "        test_original_source.append(test)\n",
    "\n",
    "        p.domains_source.extend(\n",
    "            [domain_prefix + str(u) for u in domains]\n",
    "        )\n",
    "    elif source_or_target_dataset==\"target\":\n",
    "        train_original_target.append(train)\n",
    "        val_original_target.append(val)\n",
    "        test_original_target.append(test)\n",
    "        p.domains_target.extend(\n",
    "            [domain_prefix + str(u) for u in domains]\n",
    "        )\n",
    "    else:\n",
    "        raise Exception(f\"invalid source_or_target_dataset: {source_or_target_dataset}\")\n",
    "    "
   ]
  },
  {
   "cell_type": "code",
   "execution_count": 13,
   "id": "fe266617",
   "metadata": {
    "execution": {
     "iopub.execute_input": "2022-03-23T01:19:16.883827Z",
     "iopub.status.busy": "2022-03-23T01:19:16.883438Z",
     "iopub.status.idle": "2022-03-23T01:21:23.785166Z",
     "shell.execute_reply": "2022-03-23T01:21:23.784410Z"
    },
    "papermill": {
     "duration": 126.929496,
     "end_time": "2022-03-23T01:21:23.785357",
     "exception": false,
     "start_time": "2022-03-23T01:19:16.855861",
     "status": "completed"
    },
    "tags": []
   },
   "outputs": [],
   "source": [
    "for ds in p.datasets:\n",
    "    add_dataset(**ds)"
   ]
  },
  {
   "cell_type": "code",
   "execution_count": 14,
   "id": "b90d65ac",
   "metadata": {
    "execution": {
     "iopub.execute_input": "2022-03-23T01:21:23.834752Z",
     "iopub.status.busy": "2022-03-23T01:21:23.834380Z",
     "iopub.status.idle": "2022-03-23T01:21:23.859414Z",
     "shell.execute_reply": "2022-03-23T01:21:23.858605Z"
    },
    "papermill": {
     "duration": 0.049367,
     "end_time": "2022-03-23T01:21:23.859597",
     "exception": false,
     "start_time": "2022-03-23T01:21:23.810230",
     "status": "completed"
    },
    "tags": []
   },
   "outputs": [],
   "source": [
    "# from steves_utils.CORES.utils import (\n",
    "#     ALL_NODES,\n",
    "#     ALL_NODES_MINIMUM_1000_EXAMPLES,\n",
    "#     ALL_DAYS\n",
    "# )\n",
    "\n",
    "# add_dataset(\n",
    "#     labels=ALL_NODES,\n",
    "#     domains = ALL_DAYS,\n",
    "#     num_examples_per_domain_per_label=100,\n",
    "#     pickle_path=os.path.join(get_datasets_base_path(), \"cores.stratified_ds.2022A.pkl\"),\n",
    "#     source_or_target_dataset=\"target\",\n",
    "#     x_transform_func=global_x_transform_func,\n",
    "#     domain_modifier=lambda u: f\"cores_{u}\"\n",
    "# )"
   ]
  },
  {
   "cell_type": "code",
   "execution_count": 15,
   "id": "76db484d",
   "metadata": {
    "execution": {
     "iopub.execute_input": "2022-03-23T01:21:23.916133Z",
     "iopub.status.busy": "2022-03-23T01:21:23.910035Z",
     "iopub.status.idle": "2022-03-23T01:21:23.931099Z",
     "shell.execute_reply": "2022-03-23T01:21:23.930295Z"
    },
    "papermill": {
     "duration": 0.044272,
     "end_time": "2022-03-23T01:21:23.931250",
     "exception": false,
     "start_time": "2022-03-23T01:21:23.886978",
     "status": "completed"
    },
    "tags": []
   },
   "outputs": [],
   "source": [
    "# from steves_utils.ORACLE.utils_v2 import (\n",
    "#     ALL_DISTANCES_FEET,\n",
    "#     ALL_RUNS,\n",
    "#     ALL_SERIAL_NUMBERS,\n",
    "# )\n",
    "\n",
    "\n",
    "# add_dataset(\n",
    "#     labels=ALL_SERIAL_NUMBERS,\n",
    "#     domains = list(set(ALL_DISTANCES_FEET) - {2,62}),\n",
    "#     num_examples_per_domain_per_label=100,\n",
    "#     pickle_path=os.path.join(get_datasets_base_path(), \"oracle.Run2_framed_2000Examples_stratified_ds.2022A.pkl\"),\n",
    "#     source_or_target_dataset=\"source\",\n",
    "#     x_transform_func=global_x_transform_func,\n",
    "#     domain_modifier=lambda u: f\"oracle1_{u}\"\n",
    "# )\n"
   ]
  },
  {
   "cell_type": "code",
   "execution_count": 16,
   "id": "97dea9d2",
   "metadata": {
    "execution": {
     "iopub.execute_input": "2022-03-23T01:21:23.981997Z",
     "iopub.status.busy": "2022-03-23T01:21:23.981631Z",
     "iopub.status.idle": "2022-03-23T01:21:23.999098Z",
     "shell.execute_reply": "2022-03-23T01:21:23.998294Z"
    },
    "papermill": {
     "duration": 0.040359,
     "end_time": "2022-03-23T01:21:23.999250",
     "exception": false,
     "start_time": "2022-03-23T01:21:23.958891",
     "status": "completed"
    },
    "tags": []
   },
   "outputs": [],
   "source": [
    "# from steves_utils.ORACLE.utils_v2 import (\n",
    "#     ALL_DISTANCES_FEET,\n",
    "#     ALL_RUNS,\n",
    "#     ALL_SERIAL_NUMBERS,\n",
    "# )\n",
    "\n",
    "\n",
    "# add_dataset(\n",
    "#     labels=ALL_SERIAL_NUMBERS,\n",
    "#     domains = list(set(ALL_DISTANCES_FEET) - {2,62,56}),\n",
    "#     num_examples_per_domain_per_label=100,\n",
    "#     pickle_path=os.path.join(get_datasets_base_path(), \"oracle.Run2_framed_2000Examples_stratified_ds.2022A.pkl\"),\n",
    "#     source_or_target_dataset=\"source\",\n",
    "#     x_transform_func=global_x_transform_func,\n",
    "#     domain_modifier=lambda u: f\"oracle2_{u}\"\n",
    "# )"
   ]
  },
  {
   "cell_type": "code",
   "execution_count": 17,
   "id": "6f289866",
   "metadata": {
    "execution": {
     "iopub.execute_input": "2022-03-23T01:21:24.057910Z",
     "iopub.status.busy": "2022-03-23T01:21:24.057098Z",
     "iopub.status.idle": "2022-03-23T01:21:24.070387Z",
     "shell.execute_reply": "2022-03-23T01:21:24.069584Z"
    },
    "papermill": {
     "duration": 0.043708,
     "end_time": "2022-03-23T01:21:24.070539",
     "exception": false,
     "start_time": "2022-03-23T01:21:24.026831",
     "status": "completed"
    },
    "tags": []
   },
   "outputs": [],
   "source": [
    "# add_dataset(\n",
    "#     labels=list(range(19)),\n",
    "#     domains = [0,1,2],\n",
    "#     num_examples_per_domain_per_label=100,\n",
    "#     pickle_path=os.path.join(get_datasets_base_path(), \"metehan.stratified_ds.2022A.pkl\"),\n",
    "#     source_or_target_dataset=\"target\",\n",
    "#     x_transform_func=global_x_transform_func,\n",
    "#     domain_modifier=lambda u: f\"met_{u}\"\n",
    "# )"
   ]
  },
  {
   "cell_type": "code",
   "execution_count": 18,
   "id": "86a863c3",
   "metadata": {
    "execution": {
     "iopub.execute_input": "2022-03-23T01:21:24.119380Z",
     "iopub.status.busy": "2022-03-23T01:21:24.119013Z",
     "iopub.status.idle": "2022-03-23T01:21:24.136183Z",
     "shell.execute_reply": "2022-03-23T01:21:24.135354Z"
    },
    "papermill": {
     "duration": 0.040028,
     "end_time": "2022-03-23T01:21:24.136335",
     "exception": false,
     "start_time": "2022-03-23T01:21:24.096307",
     "status": "completed"
    },
    "tags": []
   },
   "outputs": [],
   "source": [
    "# # from steves_utils.wisig.utils import (\n",
    "# #     ALL_NODES_MINIMUM_100_EXAMPLES,\n",
    "# #     ALL_NODES_MINIMUM_500_EXAMPLES,\n",
    "# #     ALL_NODES_MINIMUM_1000_EXAMPLES,\n",
    "# #     ALL_DAYS\n",
    "# # )\n",
    "\n",
    "# import steves_utils.wisig.utils as wisig\n",
    "\n",
    "\n",
    "# add_dataset(\n",
    "#     labels=wisig.ALL_NODES_MINIMUM_100_EXAMPLES,\n",
    "#     domains = wisig.ALL_DAYS,\n",
    "#     num_examples_per_domain_per_label=100,\n",
    "#     pickle_path=os.path.join(get_datasets_base_path(), \"wisig.node3-19.stratified_ds.2022A.pkl\"),\n",
    "#     source_or_target_dataset=\"target\",\n",
    "#     x_transform_func=global_x_transform_func,\n",
    "#     domain_modifier=lambda u: f\"wisig_{u}\"\n",
    "# )"
   ]
  },
  {
   "cell_type": "code",
   "execution_count": 19,
   "id": "fd5442bc",
   "metadata": {
    "execution": {
     "iopub.execute_input": "2022-03-23T01:21:24.197667Z",
     "iopub.status.busy": "2022-03-23T01:21:24.189668Z",
     "iopub.status.idle": "2022-03-23T01:21:24.211848Z",
     "shell.execute_reply": "2022-03-23T01:21:24.211125Z"
    },
    "papermill": {
     "duration": 0.048793,
     "end_time": "2022-03-23T01:21:24.211998",
     "exception": false,
     "start_time": "2022-03-23T01:21:24.163205",
     "status": "completed"
    },
    "tags": []
   },
   "outputs": [],
   "source": [
    "###################################\n",
    "# Build the dataset\n",
    "###################################\n",
    "train_original_source = Iterable_Aggregator(train_original_source, p.seed)\n",
    "val_original_source = Iterable_Aggregator(val_original_source, p.seed)\n",
    "test_original_source = Iterable_Aggregator(test_original_source, p.seed)\n",
    "\n",
    "\n",
    "train_original_target = Iterable_Aggregator(train_original_target, p.seed)\n",
    "val_original_target = Iterable_Aggregator(val_original_target, p.seed)\n",
    "test_original_target = Iterable_Aggregator(test_original_target, p.seed)\n",
    "\n",
    "# For CNN We only use X and Y. And we only train on the source.\n",
    "# Properly form the data using a transform lambda and Lazy_Iterable_Wrapper. Finally wrap them in a dataloader\n",
    "\n",
    "transform_lambda = lambda ex: ex[1] # Original is (<domain>, <episode>) so we strip down to episode only\n",
    "\n",
    "train_processed_source = Lazy_Iterable_Wrapper(train_original_source, transform_lambda)\n",
    "val_processed_source   = Lazy_Iterable_Wrapper(val_original_source, transform_lambda)\n",
    "test_processed_source  = Lazy_Iterable_Wrapper(test_original_source, transform_lambda)\n",
    "\n",
    "train_processed_target = Lazy_Iterable_Wrapper(train_original_target, transform_lambda)\n",
    "val_processed_target   = Lazy_Iterable_Wrapper(val_original_target, transform_lambda)\n",
    "test_processed_target  = Lazy_Iterable_Wrapper(test_original_target, transform_lambda)\n",
    "\n",
    "datasets = EasyDict({\n",
    "    \"source\": {\n",
    "        \"original\": {\"train\":train_original_source, \"val\":val_original_source, \"test\":test_original_source},\n",
    "        \"processed\": {\"train\":train_processed_source, \"val\":val_processed_source, \"test\":test_processed_source}\n",
    "    },\n",
    "    \"target\": {\n",
    "        \"original\": {\"train\":train_original_target, \"val\":val_original_target, \"test\":test_original_target},\n",
    "        \"processed\": {\"train\":train_processed_target, \"val\":val_processed_target, \"test\":test_processed_target}\n",
    "    },\n",
    "})"
   ]
  },
  {
   "cell_type": "code",
   "execution_count": 20,
   "id": "5b3c01fc",
   "metadata": {
    "execution": {
     "iopub.execute_input": "2022-03-23T01:21:24.268012Z",
     "iopub.status.busy": "2022-03-23T01:21:24.267643Z",
     "iopub.status.idle": "2022-03-23T01:21:57.617738Z",
     "shell.execute_reply": "2022-03-23T01:21:57.618412Z"
    },
    "papermill": {
     "duration": 33.377095,
     "end_time": "2022-03-23T01:21:57.618638",
     "exception": false,
     "start_time": "2022-03-23T01:21:24.241543",
     "status": "completed"
    },
    "tags": []
   },
   "outputs": [
    {
     "name": "stdout",
     "output_type": "stream",
     "text": [
      "{'ORACLE.run1_44', 'ORACLE.run1_38', 'ORACLE.run1_26', 'ORACLE.run1_32', 'ORACLE.run1_8', 'ORACLE.run1_14', 'ORACLE.run1_50', 'ORACLE.run1_20'}\n"
     ]
    },
    {
     "name": "stdout",
     "output_type": "stream",
     "text": [
      "{'CORES_3', 'CORES_2', 'CORES_5', 'CORES_1', 'CORES_4'}\n"
     ]
    },
    {
     "name": "stdout",
     "output_type": "stream",
     "text": [
      "tensor([[[ 1.3646,  0.2454,  1.0112,  ..., -0.3043, -0.9228, -0.2945],\n",
      "         [ 0.3142,  0.4614, -0.0393,  ...,  1.2566,  0.2552, -1.2762]],\n",
      "\n",
      "        [[ 0.6683,  1.0614, -1.4840,  ..., -1.8182, -0.5602,  1.0319],\n",
      "         [ 0.5995,  0.5504, -0.1671,  ..., -1.1990, -0.4226, -0.2260]],\n",
      "\n",
      "        [[-0.8064, -0.1854,  0.7508,  ...,  0.1761, -0.2781, -0.1946],\n",
      "         [ 0.5098,  0.6488,  0.8527,  ..., -0.2410,  0.8620, -1.2513]],\n",
      "\n",
      "        ...,\n",
      "\n",
      "        [[ 0.5589, -0.2290, -1.0078,  ..., -0.1191, -0.7604, -1.4933],\n",
      "         [ 0.0550,  0.1741,  0.8795,  ...,  0.8429, -0.1283,  1.2826]],\n",
      "\n",
      "        [[ 0.3345,  0.6504, -0.6875,  ...,  2.0905,  1.3101,  0.4460],\n",
      "         [ 0.7433,  0.2137, -0.3066,  ...,  1.0313,  0.4738,  0.6132]],\n",
      "\n",
      "        [[ 0.2057, -0.5544, -1.2518,  ..., -0.3577,  0.7153,  1.0730],\n",
      "         [ 0.4381, -0.7600, -1.4396,  ...,  0.3666, -0.7690,  1.5826]]])\n"
     ]
    }
   ],
   "source": [
    "from steves_utils.transforms import get_average_magnitude, get_average_power\n",
    "\n",
    "print(set([u for u,_ in val_original_source]))\n",
    "print(set([u for u,_ in val_original_target]))\n",
    "\n",
    "s_x, s_y, q_x, q_y, _ = next(iter(train_processed_source))\n",
    "print(s_x)\n",
    "\n",
    "# for ds in [\n",
    "#     train_processed_source,\n",
    "#     val_processed_source,\n",
    "#     test_processed_source,\n",
    "#     train_processed_target,\n",
    "#     val_processed_target,\n",
    "#     test_processed_target\n",
    "# ]:\n",
    "#     for s_x, s_y, q_x, q_y, _ in ds:\n",
    "#         for X in (s_x, q_x):\n",
    "#             for x in X:\n",
    "#                 assert np.isclose(get_average_magnitude(x.numpy()), 1.0)\n",
    "#                 assert np.isclose(get_average_power(x.numpy()), 1.0)\n",
    "                "
   ]
  },
  {
   "cell_type": "code",
   "execution_count": 21,
   "id": "bbdacba1",
   "metadata": {
    "execution": {
     "iopub.execute_input": "2022-03-23T01:21:57.673499Z",
     "iopub.status.busy": "2022-03-23T01:21:57.672850Z",
     "iopub.status.idle": "2022-03-23T01:21:57.878085Z",
     "shell.execute_reply": "2022-03-23T01:21:57.878401Z"
    },
    "papermill": {
     "duration": 0.233756,
     "end_time": "2022-03-23T01:21:57.878524",
     "exception": false,
     "start_time": "2022-03-23T01:21:57.644768",
     "status": "completed"
    },
    "tags": []
   },
   "outputs": [
    {
     "name": "stdout",
     "output_type": "stream",
     "text": [
      "(2, 256)\n"
     ]
    }
   ],
   "source": [
    "###################################\n",
    "# Build the model\n",
    "###################################\n",
    "# easfsl only wants a tuple for the shape\n",
    "model = Steves_Prototypical_Network(x_net, device=p.device, x_shape=tuple(p.x_shape))\n",
    "optimizer = Adam(params=model.parameters(), lr=p.lr)"
   ]
  },
  {
   "cell_type": "code",
   "execution_count": 22,
   "id": "22b39ac5",
   "metadata": {
    "execution": {
     "iopub.execute_input": "2022-03-23T01:21:57.930463Z",
     "iopub.status.busy": "2022-03-23T01:21:57.929822Z",
     "iopub.status.idle": "2022-03-23T04:56:50.190785Z",
     "shell.execute_reply": "2022-03-23T04:56:50.190277Z"
    },
    "papermill": {
     "duration": 12892.289226,
     "end_time": "2022-03-23T04:56:50.190874",
     "exception": false,
     "start_time": "2022-03-23T01:21:57.901648",
     "status": "completed"
    },
    "tags": []
   },
   "outputs": [
    {
     "name": "stdout",
     "output_type": "stream",
     "text": [
      "epoch: 1, [batch: 1 / 33600], examples_per_second: 6.5662, train_label_loss: 2.7620, \n"
     ]
    },
    {
     "name": "stdout",
     "output_type": "stream",
     "text": [
      "epoch: 1, [batch: 3360 / 33600], examples_per_second: 3841.1638, train_label_loss: 2.0336, \n"
     ]
    },
    {
     "name": "stdout",
     "output_type": "stream",
     "text": [
      "epoch: 1, [batch: 6720 / 33600], examples_per_second: 4210.4836, train_label_loss: 0.8808, \n"
     ]
    },
    {
     "name": "stdout",
     "output_type": "stream",
     "text": [
      "epoch: 1, [batch: 10080 / 33600], examples_per_second: 3921.6984, train_label_loss: 0.6683, \n"
     ]
    },
    {
     "name": "stdout",
     "output_type": "stream",
     "text": [
      "epoch: 1, [batch: 13440 / 33600], examples_per_second: 3995.6604, train_label_loss: 1.2099, \n"
     ]
    },
    {
     "name": "stdout",
     "output_type": "stream",
     "text": [
      "epoch: 1, [batch: 16800 / 33600], examples_per_second: 4061.5704, train_label_loss: 0.9112, \n"
     ]
    },
    {
     "name": "stdout",
     "output_type": "stream",
     "text": [
      "epoch: 1, [batch: 20160 / 33600], examples_per_second: 3880.0766, train_label_loss: 0.5078, \n"
     ]
    },
    {
     "name": "stdout",
     "output_type": "stream",
     "text": [
      "epoch: 1, [batch: 23520 / 33600], examples_per_second: 4121.1568, train_label_loss: 0.4631, \n"
     ]
    },
    {
     "name": "stdout",
     "output_type": "stream",
     "text": [
      "epoch: 1, [batch: 26880 / 33600], examples_per_second: 3981.4448, train_label_loss: 0.6169, \n"
     ]
    },
    {
     "name": "stdout",
     "output_type": "stream",
     "text": [
      "epoch: 1, [batch: 30240 / 33600], examples_per_second: 4099.6558, train_label_loss: 1.4571, \n"
     ]
    },
    {
     "name": "stdout",
     "output_type": "stream",
     "text": [
      "=============================================================\n",
      "epoch: 1, source_val_acc_label: 0.6357, target_val_acc_label: 0.9646, source_val_label_loss: 1.0081, target_val_label_loss: 0.1372, \n",
      "=============================================================\n"
     ]
    },
    {
     "name": "stdout",
     "output_type": "stream",
     "text": [
      "New best\n"
     ]
    },
    {
     "name": "stdout",
     "output_type": "stream",
     "text": [
      "epoch: 2, [batch: 1 / 33600], examples_per_second: 1.0229, train_label_loss: 0.7598, \n"
     ]
    },
    {
     "name": "stdout",
     "output_type": "stream",
     "text": [
      "epoch: 2, [batch: 3360 / 33600], examples_per_second: 3961.5304, train_label_loss: 0.5723, \n"
     ]
    },
    {
     "name": "stdout",
     "output_type": "stream",
     "text": [
      "epoch: 2, [batch: 6720 / 33600], examples_per_second: 3953.9784, train_label_loss: 1.3428, \n"
     ]
    },
    {
     "name": "stdout",
     "output_type": "stream",
     "text": [
      "epoch: 2, [batch: 10080 / 33600], examples_per_second: 4134.1832, train_label_loss: 0.6241, \n"
     ]
    },
    {
     "name": "stdout",
     "output_type": "stream",
     "text": [
      "epoch: 2, [batch: 13440 / 33600], examples_per_second: 3884.3816, train_label_loss: 0.4782, \n"
     ]
    },
    {
     "name": "stdout",
     "output_type": "stream",
     "text": [
      "epoch: 2, [batch: 16800 / 33600], examples_per_second: 4249.8555, train_label_loss: 0.7703, \n"
     ]
    },
    {
     "name": "stdout",
     "output_type": "stream",
     "text": [
      "epoch: 2, [batch: 20160 / 33600], examples_per_second: 3984.8414, train_label_loss: 1.0998, \n"
     ]
    },
    {
     "name": "stdout",
     "output_type": "stream",
     "text": [
      "epoch: 2, [batch: 23520 / 33600], examples_per_second: 4008.8830, train_label_loss: 1.1130, \n"
     ]
    },
    {
     "name": "stdout",
     "output_type": "stream",
     "text": [
      "epoch: 2, [batch: 26880 / 33600], examples_per_second: 4163.8965, train_label_loss: 1.1018, \n"
     ]
    },
    {
     "name": "stdout",
     "output_type": "stream",
     "text": [
      "epoch: 2, [batch: 30240 / 33600], examples_per_second: 4043.6336, train_label_loss: 1.1910, \n"
     ]
    },
    {
     "name": "stdout",
     "output_type": "stream",
     "text": [
      "=============================================================\n",
      "epoch: 2, source_val_acc_label: 0.6771, target_val_acc_label: 0.9650, source_val_label_loss: 0.8555, target_val_label_loss: 0.1745, \n",
      "=============================================================\n"
     ]
    },
    {
     "name": "stdout",
     "output_type": "stream",
     "text": [
      "New best\n"
     ]
    },
    {
     "name": "stdout",
     "output_type": "stream",
     "text": [
      "epoch: 3, [batch: 1 / 33600], examples_per_second: 1.0433, train_label_loss: 0.5992, \n"
     ]
    },
    {
     "name": "stdout",
     "output_type": "stream",
     "text": [
      "epoch: 3, [batch: 3360 / 33600], examples_per_second: 4321.1472, train_label_loss: 1.1362, \n"
     ]
    },
    {
     "name": "stdout",
     "output_type": "stream",
     "text": [
      "epoch: 3, [batch: 6720 / 33600], examples_per_second: 4007.8065, train_label_loss: 1.0752, \n"
     ]
    },
    {
     "name": "stdout",
     "output_type": "stream",
     "text": [
      "epoch: 3, [batch: 10080 / 33600], examples_per_second: 3964.3666, train_label_loss: 0.6152, \n"
     ]
    },
    {
     "name": "stdout",
     "output_type": "stream",
     "text": [
      "epoch: 3, [batch: 13440 / 33600], examples_per_second: 4090.6858, train_label_loss: 0.5232, \n"
     ]
    },
    {
     "name": "stdout",
     "output_type": "stream",
     "text": [
      "epoch: 3, [batch: 16800 / 33600], examples_per_second: 3917.1725, train_label_loss: 0.7069, \n"
     ]
    },
    {
     "name": "stdout",
     "output_type": "stream",
     "text": [
      "epoch: 3, [batch: 20160 / 33600], examples_per_second: 4236.9215, train_label_loss: 0.9676, \n"
     ]
    },
    {
     "name": "stdout",
     "output_type": "stream",
     "text": [
      "epoch: 3, [batch: 23520 / 33600], examples_per_second: 3844.7535, train_label_loss: 0.9414, \n"
     ]
    },
    {
     "name": "stdout",
     "output_type": "stream",
     "text": [
      "epoch: 3, [batch: 26880 / 33600], examples_per_second: 4036.7072, train_label_loss: 0.9451, \n"
     ]
    },
    {
     "name": "stdout",
     "output_type": "stream",
     "text": [
      "epoch: 3, [batch: 30240 / 33600], examples_per_second: 4055.4941, train_label_loss: 0.5931, \n"
     ]
    },
    {
     "name": "stdout",
     "output_type": "stream",
     "text": [
      "=============================================================\n",
      "epoch: 3, source_val_acc_label: 0.7061, target_val_acc_label: 0.9730, source_val_label_loss: 0.7965, target_val_label_loss: 0.1910, \n",
      "=============================================================\n"
     ]
    },
    {
     "name": "stdout",
     "output_type": "stream",
     "text": [
      "New best\n"
     ]
    },
    {
     "name": "stdout",
     "output_type": "stream",
     "text": [
      "epoch: 4, [batch: 1 / 33600], examples_per_second: 1.0660, train_label_loss: 0.3726, \n"
     ]
    },
    {
     "name": "stdout",
     "output_type": "stream",
     "text": [
      "epoch: 4, [batch: 3360 / 33600], examples_per_second: 3934.4697, train_label_loss: 0.5024, \n"
     ]
    },
    {
     "name": "stdout",
     "output_type": "stream",
     "text": [
      "epoch: 4, [batch: 6720 / 33600], examples_per_second: 4424.4752, train_label_loss: 1.1172, \n"
     ]
    },
    {
     "name": "stdout",
     "output_type": "stream",
     "text": [
      "epoch: 4, [batch: 10080 / 33600], examples_per_second: 4505.9895, train_label_loss: 0.8416, \n"
     ]
    },
    {
     "name": "stdout",
     "output_type": "stream",
     "text": [
      "epoch: 4, [batch: 13440 / 33600], examples_per_second: 5060.7871, train_label_loss: 0.5112, \n"
     ]
    },
    {
     "name": "stdout",
     "output_type": "stream",
     "text": [
      "epoch: 4, [batch: 16800 / 33600], examples_per_second: 5230.6364, train_label_loss: 1.2326, \n"
     ]
    },
    {
     "name": "stdout",
     "output_type": "stream",
     "text": [
      "epoch: 4, [batch: 20160 / 33600], examples_per_second: 4321.3372, train_label_loss: 1.1392, \n"
     ]
    },
    {
     "name": "stdout",
     "output_type": "stream",
     "text": [
      "epoch: 4, [batch: 23520 / 33600], examples_per_second: 3892.7669, train_label_loss: 0.4427, \n"
     ]
    },
    {
     "name": "stdout",
     "output_type": "stream",
     "text": [
      "epoch: 4, [batch: 26880 / 33600], examples_per_second: 4298.8225, train_label_loss: 0.6367, \n"
     ]
    },
    {
     "name": "stdout",
     "output_type": "stream",
     "text": [
      "epoch: 4, [batch: 30240 / 33600], examples_per_second: 3905.8302, train_label_loss: 0.6533, \n"
     ]
    },
    {
     "name": "stdout",
     "output_type": "stream",
     "text": [
      "=============================================================\n",
      "epoch: 4, source_val_acc_label: 0.7148, target_val_acc_label: 0.9765, source_val_label_loss: 0.7721, target_val_label_loss: 0.1752, \n",
      "=============================================================\n"
     ]
    },
    {
     "name": "stdout",
     "output_type": "stream",
     "text": [
      "New best\n"
     ]
    },
    {
     "name": "stdout",
     "output_type": "stream",
     "text": [
      "epoch: 5, [batch: 1 / 33600], examples_per_second: 1.0499, train_label_loss: 0.5075, \n"
     ]
    },
    {
     "name": "stdout",
     "output_type": "stream",
     "text": [
      "epoch: 5, [batch: 3360 / 33600], examples_per_second: 4028.8644, train_label_loss: 0.7758, \n"
     ]
    },
    {
     "name": "stdout",
     "output_type": "stream",
     "text": [
      "epoch: 5, [batch: 6720 / 33600], examples_per_second: 4090.6568, train_label_loss: 0.6491, \n"
     ]
    },
    {
     "name": "stdout",
     "output_type": "stream",
     "text": [
      "epoch: 5, [batch: 10080 / 33600], examples_per_second: 3938.7441, train_label_loss: 0.4668, \n"
     ]
    },
    {
     "name": "stdout",
     "output_type": "stream",
     "text": [
      "epoch: 5, [batch: 13440 / 33600], examples_per_second: 4152.1539, train_label_loss: 0.6072, \n"
     ]
    },
    {
     "name": "stdout",
     "output_type": "stream",
     "text": [
      "epoch: 5, [batch: 16800 / 33600], examples_per_second: 4005.6477, train_label_loss: 0.8717, \n"
     ]
    },
    {
     "name": "stdout",
     "output_type": "stream",
     "text": [
      "epoch: 5, [batch: 20160 / 33600], examples_per_second: 4067.6539, train_label_loss: 0.6495, \n"
     ]
    },
    {
     "name": "stdout",
     "output_type": "stream",
     "text": [
      "epoch: 5, [batch: 23520 / 33600], examples_per_second: 4143.1026, train_label_loss: 0.3684, \n"
     ]
    },
    {
     "name": "stdout",
     "output_type": "stream",
     "text": [
      "epoch: 5, [batch: 26880 / 33600], examples_per_second: 3915.9165, train_label_loss: 0.6973, \n"
     ]
    },
    {
     "name": "stdout",
     "output_type": "stream",
     "text": [
      "epoch: 5, [batch: 30240 / 33600], examples_per_second: 4160.2285, train_label_loss: 0.5935, \n"
     ]
    },
    {
     "name": "stdout",
     "output_type": "stream",
     "text": [
      "=============================================================\n",
      "epoch: 5, source_val_acc_label: 0.7219, target_val_acc_label: 0.9782, source_val_label_loss: 0.7642, target_val_label_loss: 0.1722, \n",
      "=============================================================\n"
     ]
    },
    {
     "name": "stdout",
     "output_type": "stream",
     "text": [
      "New best\n"
     ]
    },
    {
     "name": "stdout",
     "output_type": "stream",
     "text": [
      "epoch: 6, [batch: 1 / 33600], examples_per_second: 1.0355, train_label_loss: 0.3960, \n"
     ]
    },
    {
     "name": "stdout",
     "output_type": "stream",
     "text": [
      "epoch: 6, [batch: 3360 / 33600], examples_per_second: 3939.9600, train_label_loss: 0.6520, \n"
     ]
    },
    {
     "name": "stdout",
     "output_type": "stream",
     "text": [
      "epoch: 6, [batch: 6720 / 33600], examples_per_second: 4091.6998, train_label_loss: 0.7552, \n"
     ]
    },
    {
     "name": "stdout",
     "output_type": "stream",
     "text": [
      "epoch: 6, [batch: 10080 / 33600], examples_per_second: 4394.9374, train_label_loss: 1.0837, \n"
     ]
    },
    {
     "name": "stdout",
     "output_type": "stream",
     "text": [
      "epoch: 6, [batch: 13440 / 33600], examples_per_second: 4619.2755, train_label_loss: 0.6116, \n"
     ]
    },
    {
     "name": "stdout",
     "output_type": "stream",
     "text": [
      "epoch: 6, [batch: 16800 / 33600], examples_per_second: 4972.4087, train_label_loss: 0.7277, \n"
     ]
    },
    {
     "name": "stdout",
     "output_type": "stream",
     "text": [
      "epoch: 6, [batch: 20160 / 33600], examples_per_second: 5289.7588, train_label_loss: 0.6334, \n"
     ]
    },
    {
     "name": "stdout",
     "output_type": "stream",
     "text": [
      "epoch: 6, [batch: 23520 / 33600], examples_per_second: 4627.8931, train_label_loss: 0.3959, \n"
     ]
    },
    {
     "name": "stdout",
     "output_type": "stream",
     "text": [
      "epoch: 6, [batch: 26880 / 33600], examples_per_second: 4004.8326, train_label_loss: 0.5836, \n"
     ]
    },
    {
     "name": "stdout",
     "output_type": "stream",
     "text": [
      "epoch: 6, [batch: 30240 / 33600], examples_per_second: 4111.7499, train_label_loss: 0.5489, \n"
     ]
    },
    {
     "name": "stdout",
     "output_type": "stream",
     "text": [
      "=============================================================\n",
      "epoch: 6, source_val_acc_label: 0.7263, target_val_acc_label: 0.9808, source_val_label_loss: 0.7647, target_val_label_loss: 0.1693, \n",
      "=============================================================\n"
     ]
    },
    {
     "name": "stdout",
     "output_type": "stream",
     "text": [
      "New best\n"
     ]
    },
    {
     "name": "stdout",
     "output_type": "stream",
     "text": [
      "epoch: 7, [batch: 1 / 33600], examples_per_second: 1.0283, train_label_loss: 0.9812, \n"
     ]
    },
    {
     "name": "stdout",
     "output_type": "stream",
     "text": [
      "epoch: 7, [batch: 3360 / 33600], examples_per_second: 3967.6842, train_label_loss: 0.4911, \n"
     ]
    },
    {
     "name": "stdout",
     "output_type": "stream",
     "text": [
      "epoch: 7, [batch: 6720 / 33600], examples_per_second: 3915.5642, train_label_loss: 0.3928, \n"
     ]
    },
    {
     "name": "stdout",
     "output_type": "stream",
     "text": [
      "epoch: 7, [batch: 10080 / 33600], examples_per_second: 4169.3123, train_label_loss: 0.4478, \n"
     ]
    },
    {
     "name": "stdout",
     "output_type": "stream",
     "text": [
      "epoch: 7, [batch: 13440 / 33600], examples_per_second: 3948.7722, train_label_loss: 0.2845, \n"
     ]
    },
    {
     "name": "stdout",
     "output_type": "stream",
     "text": [
      "epoch: 7, [batch: 16800 / 33600], examples_per_second: 4240.2004, train_label_loss: 0.6246, \n"
     ]
    },
    {
     "name": "stdout",
     "output_type": "stream",
     "text": [
      "epoch: 7, [batch: 20160 / 33600], examples_per_second: 4015.1633, train_label_loss: 0.3510, \n"
     ]
    },
    {
     "name": "stdout",
     "output_type": "stream",
     "text": [
      "epoch: 7, [batch: 23520 / 33600], examples_per_second: 3901.6530, train_label_loss: 0.3014, \n"
     ]
    },
    {
     "name": "stdout",
     "output_type": "stream",
     "text": [
      "epoch: 7, [batch: 26880 / 33600], examples_per_second: 4326.4192, train_label_loss: 0.5810, \n"
     ]
    },
    {
     "name": "stdout",
     "output_type": "stream",
     "text": [
      "epoch: 7, [batch: 30240 / 33600], examples_per_second: 4427.4828, train_label_loss: 0.5326, \n"
     ]
    },
    {
     "name": "stdout",
     "output_type": "stream",
     "text": [
      "=============================================================\n",
      "epoch: 7, source_val_acc_label: 0.7264, target_val_acc_label: 0.9806, source_val_label_loss: 0.7513, target_val_label_loss: 0.1665, \n",
      "=============================================================\n"
     ]
    },
    {
     "name": "stdout",
     "output_type": "stream",
     "text": [
      "epoch: 8, [batch: 1 / 33600], examples_per_second: 1.3231, train_label_loss: 0.2341, \n"
     ]
    },
    {
     "name": "stdout",
     "output_type": "stream",
     "text": [
      "epoch: 8, [batch: 3360 / 33600], examples_per_second: 4582.5581, train_label_loss: 0.4630, \n"
     ]
    },
    {
     "name": "stdout",
     "output_type": "stream",
     "text": [
      "epoch: 8, [batch: 6720 / 33600], examples_per_second: 4020.5663, train_label_loss: 0.3781, \n"
     ]
    },
    {
     "name": "stdout",
     "output_type": "stream",
     "text": [
      "epoch: 8, [batch: 10080 / 33600], examples_per_second: 4087.9345, train_label_loss: 0.8440, \n"
     ]
    },
    {
     "name": "stdout",
     "output_type": "stream",
     "text": [
      "epoch: 8, [batch: 13440 / 33600], examples_per_second: 4060.2998, train_label_loss: 0.6660, \n"
     ]
    },
    {
     "name": "stdout",
     "output_type": "stream",
     "text": [
      "epoch: 8, [batch: 16800 / 33600], examples_per_second: 3941.9030, train_label_loss: 0.4194, \n"
     ]
    },
    {
     "name": "stdout",
     "output_type": "stream",
     "text": [
      "epoch: 8, [batch: 20160 / 33600], examples_per_second: 4137.7333, train_label_loss: 0.7646, \n"
     ]
    },
    {
     "name": "stdout",
     "output_type": "stream",
     "text": [
      "epoch: 8, [batch: 23520 / 33600], examples_per_second: 3857.1864, train_label_loss: 0.3897, \n"
     ]
    },
    {
     "name": "stdout",
     "output_type": "stream",
     "text": [
      "epoch: 8, [batch: 26880 / 33600], examples_per_second: 4041.6955, train_label_loss: 0.6363, \n"
     ]
    },
    {
     "name": "stdout",
     "output_type": "stream",
     "text": [
      "epoch: 8, [batch: 30240 / 33600], examples_per_second: 4087.5710, train_label_loss: 0.3024, \n"
     ]
    },
    {
     "name": "stdout",
     "output_type": "stream",
     "text": [
      "=============================================================\n",
      "epoch: 8, source_val_acc_label: 0.7302, target_val_acc_label: 0.9806, source_val_label_loss: 0.7569, target_val_label_loss: 0.1746, \n",
      "=============================================================\n"
     ]
    },
    {
     "name": "stdout",
     "output_type": "stream",
     "text": [
      "epoch: 9, [batch: 1 / 33600], examples_per_second: 1.0435, train_label_loss: 0.3206, \n"
     ]
    },
    {
     "name": "stdout",
     "output_type": "stream",
     "text": [
      "epoch: 9, [batch: 3360 / 33600], examples_per_second: 3946.6526, train_label_loss: 0.3503, \n"
     ]
    },
    {
     "name": "stdout",
     "output_type": "stream",
     "text": [
      "epoch: 9, [batch: 6720 / 33600], examples_per_second: 4232.9578, train_label_loss: 0.3290, \n"
     ]
    },
    {
     "name": "stdout",
     "output_type": "stream",
     "text": [
      "epoch: 9, [batch: 10080 / 33600], examples_per_second: 4386.7929, train_label_loss: 0.7160, \n"
     ]
    },
    {
     "name": "stdout",
     "output_type": "stream",
     "text": [
      "epoch: 9, [batch: 13440 / 33600], examples_per_second: 3039.1232, train_label_loss: 0.4793, \n"
     ]
    },
    {
     "name": "stdout",
     "output_type": "stream",
     "text": [
      "epoch: 9, [batch: 16800 / 33600], examples_per_second: 5045.6869, train_label_loss: 0.3713, \n"
     ]
    },
    {
     "name": "stdout",
     "output_type": "stream",
     "text": [
      "epoch: 9, [batch: 20160 / 33600], examples_per_second: 3219.1551, train_label_loss: 0.3835, \n"
     ]
    },
    {
     "name": "stdout",
     "output_type": "stream",
     "text": [
      "epoch: 9, [batch: 23520 / 33600], examples_per_second: 2974.1840, train_label_loss: 0.4019, \n"
     ]
    },
    {
     "name": "stdout",
     "output_type": "stream",
     "text": [
      "epoch: 9, [batch: 26880 / 33600], examples_per_second: 3530.1770, train_label_loss: 0.4042, \n"
     ]
    },
    {
     "name": "stdout",
     "output_type": "stream",
     "text": [
      "epoch: 9, [batch: 30240 / 33600], examples_per_second: 3232.1951, train_label_loss: 0.4803, \n"
     ]
    },
    {
     "name": "stdout",
     "output_type": "stream",
     "text": [
      "=============================================================\n",
      "epoch: 9, source_val_acc_label: 0.7283, target_val_acc_label: 0.9808, source_val_label_loss: 0.7754, target_val_label_loss: 0.1750, \n",
      "=============================================================\n"
     ]
    },
    {
     "name": "stdout",
     "output_type": "stream",
     "text": [
      "epoch: 10, [batch: 1 / 33600], examples_per_second: 0.8025, train_label_loss: 0.5416, \n"
     ]
    },
    {
     "name": "stdout",
     "output_type": "stream",
     "text": [
      "epoch: 10, [batch: 3360 / 33600], examples_per_second: 3174.7012, train_label_loss: 0.3729, \n"
     ]
    },
    {
     "name": "stdout",
     "output_type": "stream",
     "text": [
      "epoch: 10, [batch: 6720 / 33600], examples_per_second: 3159.1728, train_label_loss: 0.2245, \n"
     ]
    },
    {
     "name": "stdout",
     "output_type": "stream",
     "text": [
      "epoch: 10, [batch: 10080 / 33600], examples_per_second: 3328.5267, train_label_loss: 0.8177, \n"
     ]
    },
    {
     "name": "stdout",
     "output_type": "stream",
     "text": [
      "epoch: 10, [batch: 13440 / 33600], examples_per_second: 3471.9670, train_label_loss: 0.2709, \n"
     ]
    },
    {
     "name": "stdout",
     "output_type": "stream",
     "text": [
      "epoch: 10, [batch: 16800 / 33600], examples_per_second: 3012.8403, train_label_loss: 0.4593, \n"
     ]
    },
    {
     "name": "stdout",
     "output_type": "stream",
     "text": [
      "epoch: 10, [batch: 20160 / 33600], examples_per_second: 3188.8863, train_label_loss: 0.2012, \n"
     ]
    },
    {
     "name": "stdout",
     "output_type": "stream",
     "text": [
      "epoch: 10, [batch: 23520 / 33600], examples_per_second: 3622.4668, train_label_loss: 0.2304, \n"
     ]
    },
    {
     "name": "stdout",
     "output_type": "stream",
     "text": [
      "epoch: 10, [batch: 26880 / 33600], examples_per_second: 3027.4018, train_label_loss: 0.2351, \n"
     ]
    },
    {
     "name": "stdout",
     "output_type": "stream",
     "text": [
      "epoch: 10, [batch: 30240 / 33600], examples_per_second: 3212.0216, train_label_loss: 0.4816, \n"
     ]
    },
    {
     "name": "stdout",
     "output_type": "stream",
     "text": [
      "=============================================================\n",
      "epoch: 10, source_val_acc_label: 0.7296, target_val_acc_label: 0.9823, source_val_label_loss: 0.7892, target_val_label_loss: 0.1727, \n",
      "=============================================================\n"
     ]
    },
    {
     "name": "stdout",
     "output_type": "stream",
     "text": [
      "New best\n"
     ]
    },
    {
     "name": "stdout",
     "output_type": "stream",
     "text": [
      "epoch: 11, [batch: 1 / 33600], examples_per_second: 0.9879, train_label_loss: 0.4035, \n"
     ]
    },
    {
     "name": "stdout",
     "output_type": "stream",
     "text": [
      "epoch: 11, [batch: 3360 / 33600], examples_per_second: 3980.6948, train_label_loss: 0.3967, \n"
     ]
    },
    {
     "name": "stdout",
     "output_type": "stream",
     "text": [
      "epoch: 11, [batch: 6720 / 33600], examples_per_second: 3910.9286, train_label_loss: 0.1708, \n"
     ]
    },
    {
     "name": "stdout",
     "output_type": "stream",
     "text": [
      "epoch: 11, [batch: 10080 / 33600], examples_per_second: 3458.0623, train_label_loss: 0.4674, \n"
     ]
    },
    {
     "name": "stdout",
     "output_type": "stream",
     "text": [
      "epoch: 11, [batch: 13440 / 33600], examples_per_second: 3488.7611, train_label_loss: 0.1532, \n"
     ]
    },
    {
     "name": "stdout",
     "output_type": "stream",
     "text": [
      "epoch: 11, [batch: 16800 / 33600], examples_per_second: 3498.1875, train_label_loss: 0.3596, \n"
     ]
    },
    {
     "name": "stdout",
     "output_type": "stream",
     "text": [
      "epoch: 11, [batch: 20160 / 33600], examples_per_second: 3402.8901, train_label_loss: 0.2548, \n"
     ]
    },
    {
     "name": "stdout",
     "output_type": "stream",
     "text": [
      "epoch: 11, [batch: 23520 / 33600], examples_per_second: 3607.7194, train_label_loss: 0.3261, \n"
     ]
    },
    {
     "name": "stdout",
     "output_type": "stream",
     "text": [
      "epoch: 11, [batch: 26880 / 33600], examples_per_second: 3953.1335, train_label_loss: 0.3673, \n"
     ]
    },
    {
     "name": "stdout",
     "output_type": "stream",
     "text": [
      "epoch: 11, [batch: 30240 / 33600], examples_per_second: 4081.7920, train_label_loss: 0.6248, \n"
     ]
    },
    {
     "name": "stdout",
     "output_type": "stream",
     "text": [
      "=============================================================\n",
      "epoch: 11, source_val_acc_label: 0.7269, target_val_acc_label: 0.9812, source_val_label_loss: 0.7981, target_val_label_loss: 0.1861, \n",
      "=============================================================\n"
     ]
    },
    {
     "name": "stdout",
     "output_type": "stream",
     "text": [
      "epoch: 12, [batch: 1 / 33600], examples_per_second: 1.0281, train_label_loss: 0.3944, \n"
     ]
    },
    {
     "name": "stdout",
     "output_type": "stream",
     "text": [
      "epoch: 12, [batch: 3360 / 33600], examples_per_second: 3896.0601, train_label_loss: 0.3803, \n"
     ]
    },
    {
     "name": "stdout",
     "output_type": "stream",
     "text": [
      "epoch: 12, [batch: 6720 / 33600], examples_per_second: 4031.5430, train_label_loss: 0.4701, \n"
     ]
    },
    {
     "name": "stdout",
     "output_type": "stream",
     "text": [
      "epoch: 12, [batch: 10080 / 33600], examples_per_second: 3381.6816, train_label_loss: 0.3543, \n"
     ]
    },
    {
     "name": "stdout",
     "output_type": "stream",
     "text": [
      "epoch: 12, [batch: 13440 / 33600], examples_per_second: 2947.2402, train_label_loss: 0.3315, \n"
     ]
    },
    {
     "name": "stdout",
     "output_type": "stream",
     "text": [
      "epoch: 12, [batch: 16800 / 33600], examples_per_second: 3511.3250, train_label_loss: 0.6873, \n"
     ]
    },
    {
     "name": "stdout",
     "output_type": "stream",
     "text": [
      "epoch: 12, [batch: 20160 / 33600], examples_per_second: 3380.6803, train_label_loss: 0.1015, \n"
     ]
    },
    {
     "name": "stdout",
     "output_type": "stream",
     "text": [
      "epoch: 12, [batch: 23520 / 33600], examples_per_second: 2999.9126, train_label_loss: 0.0953, \n"
     ]
    },
    {
     "name": "stdout",
     "output_type": "stream",
     "text": [
      "epoch: 12, [batch: 26880 / 33600], examples_per_second: 3310.4877, train_label_loss: 0.4367, \n"
     ]
    },
    {
     "name": "stdout",
     "output_type": "stream",
     "text": [
      "epoch: 12, [batch: 30240 / 33600], examples_per_second: 3403.4704, train_label_loss: 0.3864, \n"
     ]
    },
    {
     "name": "stdout",
     "output_type": "stream",
     "text": [
      "=============================================================\n",
      "epoch: 12, source_val_acc_label: 0.7284, target_val_acc_label: 0.9828, source_val_label_loss: 0.8204, target_val_label_loss: 0.1859, \n",
      "=============================================================\n"
     ]
    },
    {
     "name": "stdout",
     "output_type": "stream",
     "text": [
      "New best\n"
     ]
    },
    {
     "name": "stdout",
     "output_type": "stream",
     "text": [
      "epoch: 13, [batch: 1 / 33600], examples_per_second: 0.7785, train_label_loss: 0.3404, \n"
     ]
    },
    {
     "name": "stdout",
     "output_type": "stream",
     "text": [
      "epoch: 13, [batch: 3360 / 33600], examples_per_second: 3634.3154, train_label_loss: 0.5471, \n"
     ]
    },
    {
     "name": "stdout",
     "output_type": "stream",
     "text": [
      "epoch: 13, [batch: 6720 / 33600], examples_per_second: 2972.9960, train_label_loss: 0.3564, \n"
     ]
    },
    {
     "name": "stdout",
     "output_type": "stream",
     "text": [
      "epoch: 13, [batch: 10080 / 33600], examples_per_second: 3085.8816, train_label_loss: 0.6278, \n"
     ]
    },
    {
     "name": "stdout",
     "output_type": "stream",
     "text": [
      "epoch: 13, [batch: 13440 / 33600], examples_per_second: 3560.8511, train_label_loss: 0.4632, \n"
     ]
    },
    {
     "name": "stdout",
     "output_type": "stream",
     "text": [
      "epoch: 13, [batch: 16800 / 33600], examples_per_second: 3174.4283, train_label_loss: 0.0720, \n"
     ]
    },
    {
     "name": "stdout",
     "output_type": "stream",
     "text": [
      "epoch: 13, [batch: 20160 / 33600], examples_per_second: 3217.8909, train_label_loss: 0.2808, \n"
     ]
    },
    {
     "name": "stdout",
     "output_type": "stream",
     "text": [
      "epoch: 13, [batch: 23520 / 33600], examples_per_second: 3257.3999, train_label_loss: 0.4707, \n"
     ]
    },
    {
     "name": "stdout",
     "output_type": "stream",
     "text": [
      "epoch: 13, [batch: 26880 / 33600], examples_per_second: 3441.3730, train_label_loss: 0.4296, \n"
     ]
    },
    {
     "name": "stdout",
     "output_type": "stream",
     "text": [
      "epoch: 13, [batch: 30240 / 33600], examples_per_second: 3663.2154, train_label_loss: 0.2643, \n"
     ]
    },
    {
     "name": "stdout",
     "output_type": "stream",
     "text": [
      "=============================================================\n",
      "epoch: 13, source_val_acc_label: 0.7243, target_val_acc_label: 0.9812, source_val_label_loss: 0.8476, target_val_label_loss: 0.1955, \n",
      "=============================================================\n"
     ]
    },
    {
     "name": "stdout",
     "output_type": "stream",
     "text": [
      "epoch: 14, [batch: 1 / 33600], examples_per_second: 0.8809, train_label_loss: 0.2317, \n"
     ]
    },
    {
     "name": "stdout",
     "output_type": "stream",
     "text": [
      "epoch: 14, [batch: 3360 / 33600], examples_per_second: 3497.4765, train_label_loss: 0.1284, \n"
     ]
    },
    {
     "name": "stdout",
     "output_type": "stream",
     "text": [
      "epoch: 14, [batch: 6720 / 33600], examples_per_second: 4090.7343, train_label_loss: 0.1250, \n"
     ]
    },
    {
     "name": "stdout",
     "output_type": "stream",
     "text": [
      "epoch: 14, [batch: 10080 / 33600], examples_per_second: 4349.7900, train_label_loss: 0.5937, \n"
     ]
    },
    {
     "name": "stdout",
     "output_type": "stream",
     "text": [
      "epoch: 14, [batch: 13440 / 33600], examples_per_second: 4897.4850, train_label_loss: 0.1871, \n"
     ]
    },
    {
     "name": "stdout",
     "output_type": "stream",
     "text": [
      "epoch: 14, [batch: 16800 / 33600], examples_per_second: 5197.3651, train_label_loss: 0.1146, \n"
     ]
    },
    {
     "name": "stdout",
     "output_type": "stream",
     "text": [
      "epoch: 14, [batch: 20160 / 33600], examples_per_second: 5102.4275, train_label_loss: 0.2966, \n"
     ]
    },
    {
     "name": "stdout",
     "output_type": "stream",
     "text": [
      "epoch: 14, [batch: 23520 / 33600], examples_per_second: 3348.4135, train_label_loss: 0.4558, \n"
     ]
    },
    {
     "name": "stdout",
     "output_type": "stream",
     "text": [
      "epoch: 14, [batch: 26880 / 33600], examples_per_second: 2987.4770, train_label_loss: 0.1101, \n"
     ]
    },
    {
     "name": "stdout",
     "output_type": "stream",
     "text": [
      "epoch: 14, [batch: 30240 / 33600], examples_per_second: 3513.2960, train_label_loss: 0.6533, \n"
     ]
    },
    {
     "name": "stdout",
     "output_type": "stream",
     "text": [
      "=============================================================\n",
      "epoch: 14, source_val_acc_label: 0.7252, target_val_acc_label: 0.9820, source_val_label_loss: 0.8593, target_val_label_loss: 0.1926, \n",
      "=============================================================\n"
     ]
    },
    {
     "name": "stdout",
     "output_type": "stream",
     "text": [
      "epoch: 15, [batch: 1 / 33600], examples_per_second: 0.8048, train_label_loss: 0.2969, \n"
     ]
    },
    {
     "name": "stdout",
     "output_type": "stream",
     "text": [
      "epoch: 15, [batch: 3360 / 33600], examples_per_second: 3336.6610, train_label_loss: 0.5659, \n"
     ]
    },
    {
     "name": "stdout",
     "output_type": "stream",
     "text": [
      "epoch: 15, [batch: 6720 / 33600], examples_per_second: 3501.0535, train_label_loss: 0.4970, \n"
     ]
    },
    {
     "name": "stdout",
     "output_type": "stream",
     "text": [
      "epoch: 15, [batch: 10080 / 33600], examples_per_second: 3106.8294, train_label_loss: 0.1035, \n"
     ]
    },
    {
     "name": "stdout",
     "output_type": "stream",
     "text": [
      "epoch: 15, [batch: 13440 / 33600], examples_per_second: 3116.6325, train_label_loss: 0.1090, \n"
     ]
    },
    {
     "name": "stdout",
     "output_type": "stream",
     "text": [
      "epoch: 15, [batch: 16800 / 33600], examples_per_second: 3636.3830, train_label_loss: 0.1950, \n"
     ]
    },
    {
     "name": "stdout",
     "output_type": "stream",
     "text": [
      "epoch: 15, [batch: 20160 / 33600], examples_per_second: 3029.0144, train_label_loss: 0.2525, \n"
     ]
    },
    {
     "name": "stdout",
     "output_type": "stream",
     "text": [
      "epoch: 15, [batch: 23520 / 33600], examples_per_second: 3157.0570, train_label_loss: 0.2412, \n"
     ]
    },
    {
     "name": "stdout",
     "output_type": "stream",
     "text": [
      "epoch: 15, [batch: 26880 / 33600], examples_per_second: 3563.0391, train_label_loss: 0.0884, \n"
     ]
    },
    {
     "name": "stdout",
     "output_type": "stream",
     "text": [
      "epoch: 15, [batch: 30240 / 33600], examples_per_second: 3241.6570, train_label_loss: 0.3339, \n"
     ]
    },
    {
     "name": "stdout",
     "output_type": "stream",
     "text": [
      "=============================================================\n",
      "epoch: 15, source_val_acc_label: 0.7205, target_val_acc_label: 0.9820, source_val_label_loss: 0.8922, target_val_label_loss: 0.2046, \n",
      "=============================================================\n"
     ]
    },
    {
     "name": "stdout",
     "output_type": "stream",
     "text": [
      "epoch: 16, [batch: 1 / 33600], examples_per_second: 0.7936, train_label_loss: 0.2278, \n"
     ]
    },
    {
     "name": "stdout",
     "output_type": "stream",
     "text": [
      "epoch: 16, [batch: 3360 / 33600], examples_per_second: 3240.8794, train_label_loss: 0.4807, \n"
     ]
    },
    {
     "name": "stdout",
     "output_type": "stream",
     "text": [
      "epoch: 16, [batch: 6720 / 33600], examples_per_second: 2986.8931, train_label_loss: 0.1035, \n"
     ]
    },
    {
     "name": "stdout",
     "output_type": "stream",
     "text": [
      "epoch: 16, [batch: 10080 / 33600], examples_per_second: 3552.2586, train_label_loss: 0.4476, \n"
     ]
    },
    {
     "name": "stdout",
     "output_type": "stream",
     "text": [
      "epoch: 16, [batch: 13440 / 33600], examples_per_second: 3440.5798, train_label_loss: 0.1181, \n"
     ]
    },
    {
     "name": "stdout",
     "output_type": "stream",
     "text": [
      "epoch: 16, [batch: 16800 / 33600], examples_per_second: 3468.4768, train_label_loss: 0.2182, \n"
     ]
    },
    {
     "name": "stdout",
     "output_type": "stream",
     "text": [
      "epoch: 16, [batch: 20160 / 33600], examples_per_second: 3742.3203, train_label_loss: 0.0343, \n"
     ]
    },
    {
     "name": "stdout",
     "output_type": "stream",
     "text": [
      "epoch: 16, [batch: 23520 / 33600], examples_per_second: 3421.1114, train_label_loss: 0.5275, \n"
     ]
    },
    {
     "name": "stdout",
     "output_type": "stream",
     "text": [
      "epoch: 16, [batch: 26880 / 33600], examples_per_second: 3598.2087, train_label_loss: 0.1529, \n"
     ]
    },
    {
     "name": "stdout",
     "output_type": "stream",
     "text": [
      "epoch: 16, [batch: 30240 / 33600], examples_per_second: 3814.9124, train_label_loss: 0.1161, \n"
     ]
    },
    {
     "name": "stdout",
     "output_type": "stream",
     "text": [
      "=============================================================\n",
      "epoch: 16, source_val_acc_label: 0.7219, target_val_acc_label: 0.9810, source_val_label_loss: 0.9052, target_val_label_loss: 0.2142, \n",
      "=============================================================\n"
     ]
    },
    {
     "name": "stdout",
     "output_type": "stream",
     "text": [
      "Patience (3) exhausted\n"
     ]
    }
   ],
   "source": [
    "###################################\n",
    "# train\n",
    "###################################\n",
    "jig = PTN_Train_Eval_Test_Jig(model, p.BEST_MODEL_PATH, p.device)\n",
    "\n",
    "jig.train(\n",
    "    train_iterable=datasets.source.processed.train,\n",
    "    source_val_iterable=datasets.source.processed.val,\n",
    "    target_val_iterable=datasets.target.processed.val,\n",
    "    num_epochs=p.n_epoch,\n",
    "    num_logs_per_epoch=p.NUM_LOGS_PER_EPOCH,\n",
    "    patience=p.patience,\n",
    "    optimizer=optimizer,\n",
    "    criteria_for_best=p.criteria_for_best,\n",
    ")"
   ]
  },
  {
   "cell_type": "code",
   "execution_count": 23,
   "id": "31e8fabf",
   "metadata": {
    "execution": {
     "iopub.execute_input": "2022-03-23T04:56:50.355583Z",
     "iopub.status.busy": "2022-03-23T04:56:50.354759Z",
     "iopub.status.idle": "2022-03-23T04:56:50.523287Z",
     "shell.execute_reply": "2022-03-23T04:56:50.522612Z"
    },
    "papermill": {
     "duration": 0.258109,
     "end_time": "2022-03-23T04:56:50.523447",
     "exception": false,
     "start_time": "2022-03-23T04:56:50.265338",
     "status": "completed"
    },
    "tags": []
   },
   "outputs": [],
   "source": [
    "total_experiment_time_secs = time.time() - start_time_secs"
   ]
  },
  {
   "cell_type": "code",
   "execution_count": 24,
   "id": "87b9595b",
   "metadata": {
    "execution": {
     "iopub.execute_input": "2022-03-23T04:56:50.689223Z",
     "iopub.status.busy": "2022-03-23T04:56:50.688351Z",
     "iopub.status.idle": "2022-03-23T05:04:04.195277Z",
     "shell.execute_reply": "2022-03-23T05:04:04.196077Z"
    },
    "papermill": {
     "duration": 433.596332,
     "end_time": "2022-03-23T05:04:04.196326",
     "exception": false,
     "start_time": "2022-03-23T04:56:50.599994",
     "status": "completed"
    },
    "tags": []
   },
   "outputs": [],
   "source": [
    "###################################\n",
    "# Evaluate the model\n",
    "###################################\n",
    "source_test_label_accuracy, source_test_label_loss = jig.test(datasets.source.processed.test)\n",
    "target_test_label_accuracy, target_test_label_loss = jig.test(datasets.target.processed.test)\n",
    "\n",
    "source_val_label_accuracy, source_val_label_loss = jig.test(datasets.source.processed.val)\n",
    "target_val_label_accuracy, target_val_label_loss = jig.test(datasets.target.processed.val)\n",
    "\n",
    "history = jig.get_history()\n",
    "\n",
    "total_epochs_trained = len(history[\"epoch_indices\"])\n",
    "\n",
    "val_dl = Iterable_Aggregator((datasets.source.original.val,datasets.target.original.val))\n",
    "\n",
    "confusion = ptn_confusion_by_domain_over_dataloader(model, p.device, val_dl)\n",
    "per_domain_accuracy = per_domain_accuracy_from_confusion(confusion)\n",
    "\n",
    "# Add a key to per_domain_accuracy for if it was a source domain\n",
    "for domain, accuracy in per_domain_accuracy.items():\n",
    "    per_domain_accuracy[domain] = {\n",
    "        \"accuracy\": accuracy,\n",
    "        \"source?\": domain in p.domains_source\n",
    "    }\n",
    "\n",
    "# Do an independent accuracy assesment JUST TO BE SURE!\n",
    "# _source_test_label_accuracy = independent_accuracy_assesment(model, datasets.source.processed.test, p.device)\n",
    "# _target_test_label_accuracy = independent_accuracy_assesment(model, datasets.target.processed.test, p.device)\n",
    "# _source_val_label_accuracy = independent_accuracy_assesment(model, datasets.source.processed.val, p.device)\n",
    "# _target_val_label_accuracy = independent_accuracy_assesment(model, datasets.target.processed.val, p.device)\n",
    "\n",
    "# assert(_source_test_label_accuracy == source_test_label_accuracy)\n",
    "# assert(_target_test_label_accuracy == target_test_label_accuracy)\n",
    "# assert(_source_val_label_accuracy == source_val_label_accuracy)\n",
    "# assert(_target_val_label_accuracy == target_val_label_accuracy)\n",
    "\n",
    "experiment = {\n",
    "    \"experiment_name\": p.experiment_name,\n",
    "    \"parameters\": dict(p),\n",
    "    \"results\": {\n",
    "        \"source_test_label_accuracy\": source_test_label_accuracy,\n",
    "        \"source_test_label_loss\": source_test_label_loss,\n",
    "        \"target_test_label_accuracy\": target_test_label_accuracy,\n",
    "        \"target_test_label_loss\": target_test_label_loss,\n",
    "        \"source_val_label_accuracy\": source_val_label_accuracy,\n",
    "        \"source_val_label_loss\": source_val_label_loss,\n",
    "        \"target_val_label_accuracy\": target_val_label_accuracy,\n",
    "        \"target_val_label_loss\": target_val_label_loss,\n",
    "        \"total_epochs_trained\": total_epochs_trained,\n",
    "        \"total_experiment_time_secs\": total_experiment_time_secs,\n",
    "        \"confusion\": confusion,\n",
    "        \"per_domain_accuracy\": per_domain_accuracy,\n",
    "    },\n",
    "    \"history\": history,\n",
    "    \"dataset_metrics\": get_dataset_metrics(datasets, \"ptn\"),\n",
    "}"
   ]
  },
  {
   "cell_type": "code",
   "execution_count": 25,
   "id": "54a21829",
   "metadata": {
    "execution": {
     "iopub.execute_input": "2022-03-23T05:04:04.359794Z",
     "iopub.status.busy": "2022-03-23T05:04:04.359195Z",
     "iopub.status.idle": "2022-03-23T05:04:04.821442Z",
     "shell.execute_reply": "2022-03-23T05:04:04.822158Z"
    },
    "papermill": {
     "duration": 0.543413,
     "end_time": "2022-03-23T05:04:04.822399",
     "exception": false,
     "start_time": "2022-03-23T05:04:04.278986",
     "status": "completed"
    },
    "tags": []
   },
   "outputs": [
    {
     "data": {
      "image/png": "[encoded data removed]",
      "text/plain": [
       "<Figure size 1080x504 with 1 Axes>"
      ]
     },
     "metadata": {
      "needs_background": "light"
     },
     "output_type": "display_data"
    }
   ],
   "source": [
    "ax = get_loss_curve(experiment)\n",
    "plt.show()"
   ]
  },
  {
   "cell_type": "code",
   "execution_count": 26,
   "id": "fd8a0f60",
   "metadata": {
    "execution": {
     "iopub.execute_input": "2022-03-23T05:04:04.990182Z",
     "iopub.status.busy": "2022-03-23T05:04:04.989808Z",
     "iopub.status.idle": "2022-03-23T05:04:05.391984Z",
     "shell.execute_reply": "2022-03-23T05:04:05.392306Z"
    },
    "papermill": {
     "duration": 0.483412,
     "end_time": "2022-03-23T05:04:05.392453",
     "exception": false,
     "start_time": "2022-03-23T05:04:04.909041",
     "status": "completed"
    },
    "tags": []
   },
   "outputs": [
    {
     "data": {
      "text/plain": [
       "<AxesSubplot:title={'center':'Results'}>"
      ]
     },
     "execution_count": 26,
     "metadata": {},
     "output_type": "execute_result"
    },
    {
     "data": {
      "image/png": "[encoded data removed]",
      "text/plain": [
       "<Figure size 1080x504 with 1 Axes>"
      ]
     },
     "metadata": {
      "needs_background": "light"
     },
     "output_type": "display_data"
    }
   ],
   "source": [
    "get_results_table(experiment)"
   ]
  },
  {
   "cell_type": "code",
   "execution_count": 27,
   "id": "cf8dc689",
   "metadata": {
    "execution": {
     "iopub.execute_input": "2022-03-23T05:04:05.551792Z",
     "iopub.status.busy": "2022-03-23T05:04:05.551223Z",
     "iopub.status.idle": "2022-03-23T05:04:05.902122Z",
     "shell.execute_reply": "2022-03-23T05:04:05.902801Z"
    },
    "papermill": {
     "duration": 0.431314,
     "end_time": "2022-03-23T05:04:05.902989",
     "exception": false,
     "start_time": "2022-03-23T05:04:05.471675",
     "status": "completed"
    },
    "tags": []
   },
   "outputs": [
    {
     "data": {
      "text/plain": [
       "<AxesSubplot:title={'center':'Per Domain Validation Accuracy'}, xlabel='domain'>"
      ]
     },
     "execution_count": 27,
     "metadata": {},
     "output_type": "execute_result"
    },
    {
     "data": {
      "image/png": "[encoded data removed]",
      "text/plain": [
       "<Figure size 1080x504 with 1 Axes>"
      ]
     },
     "metadata": {
      "needs_background": "light"
     },
     "output_type": "display_data"
    }
   ],
   "source": [
    "get_domain_accuracies(experiment)"
   ]
  },
  {
   "cell_type": "code",
   "execution_count": 28,
   "id": "a74ae082",
   "metadata": {
    "execution": {
     "iopub.execute_input": "2022-03-23T05:04:06.074736Z",
     "iopub.status.busy": "2022-03-23T05:04:06.074157Z",
     "iopub.status.idle": "2022-03-23T05:04:06.101187Z",
     "shell.execute_reply": "2022-03-23T05:04:06.101868Z"
    },
    "papermill": {
     "duration": 0.114363,
     "end_time": "2022-03-23T05:04:06.102050",
     "exception": false,
     "start_time": "2022-03-23T05:04:05.987687",
     "status": "completed"
    },
    "tags": []
   },
   "outputs": [
    {
     "name": "stdout",
     "output_type": "stream",
     "text": [
      "Source Test Label Accuracy: 0.7300455729166667 Target Test Label Accuracy: 0.9818149717514124\n",
      "Source Val Label Accuracy: 0.7284114583333333 Target Val Label Accuracy: 0.9827857142857143\n"
     ]
    }
   ],
   "source": [
    "print(\"Source Test Label Accuracy:\", experiment[\"results\"][\"source_test_label_accuracy\"], \"Target Test Label Accuracy:\", experiment[\"results\"][\"target_test_label_accuracy\"])\n",
    "print(\"Source Val Label Accuracy:\", experiment[\"results\"][\"source_val_label_accuracy\"], \"Target Val Label Accuracy:\", experiment[\"results\"][\"target_val_label_accuracy\"])"
   ]
  },
  {
   "cell_type": "code",
   "execution_count": 29,
   "id": "dacca602",
   "metadata": {
    "execution": {
     "iopub.execute_input": "2022-03-23T05:04:06.269276Z",
     "iopub.status.busy": "2022-03-23T05:04:06.268712Z",
     "iopub.status.idle": "2022-03-23T05:04:06.293642Z",
     "shell.execute_reply": "2022-03-23T05:04:06.294322Z"
    },
    "papermill": {
     "duration": 0.108703,
     "end_time": "2022-03-23T05:04:06.294504",
     "exception": false,
     "start_time": "2022-03-23T05:04:06.185801",
     "status": "completed"
    },
    "tags": [
     "experiment_json"
    ]
   },
   "outputs": [
    {
     "data": {
      "text/plain": [
       "'{\"experiment_name\": \"tl_1v2:cores-oracle.run1\", \"parameters\": {\"experiment_name\": \"tl_1v2:cores-oracle.run1\", \"device\": \"cuda\", \"lr\": 0.0001, \"n_shot\": 3, \"n_query\": 2, \"train_k_factor\": 3, \"val_k_factor\": 2, \"test_k_factor\": 2, \"torch_default_dtype\": \"torch.float32\", \"n_epoch\": 50, \"patience\": 3, \"criteria_for_best\": \"target_accuracy\", \"x_net\": [{\"class\": \"nnReshape\", \"kargs\": {\"shape\": [-1, 1, 2, 256]}}, {\"class\": \"Conv2d\", \"kargs\": {\"in_channels\": 1, \"out_channels\": 256, \"kernel_size\": [1, 7], \"bias\": false, \"padding\": [0, 3]}}, {\"class\": \"ReLU\", \"kargs\": {\"inplace\": true}}, {\"class\": \"BatchNorm2d\", \"kargs\": {\"num_features\": 256}}, {\"class\": \"Conv2d\", \"kargs\": {\"in_channels\": 256, \"out_channels\": 80, \"kernel_size\": [2, 7], \"bias\": true, \"padding\": [0, 3]}}, {\"class\": \"ReLU\", \"kargs\": {\"inplace\": true}}, {\"class\": \"BatchNorm2d\", \"kargs\": {\"num_features\": 80}}, {\"class\": \"Flatten\", \"kargs\": {}}, {\"class\": \"Linear\", \"kargs\": {\"in_features\": 20480, \"out_features\": 256}}, {\"class\": \"ReLU\", \"kargs\": {\"inplace\": true}}, {\"class\": \"BatchNorm1d\", \"kargs\": {\"num_features\": 256}}, {\"class\": \"Linear\", \"kargs\": {\"in_features\": 256, \"out_features\": 256}}], \"NUM_LOGS_PER_EPOCH\": 10, \"BEST_MODEL_PATH\": \"./best_model.pth\", \"n_way\": 16, \"datasets\": [{\"labels\": [\"1-10.\", \"1-11.\", \"1-15.\", \"1-16.\", \"1-17.\", \"1-18.\", \"1-19.\", \"10-4.\", \"10-7.\", \"11-1.\", \"11-14.\", \"11-17.\", \"11-20.\", \"11-7.\", \"13-20.\", \"13-8.\", \"14-10.\", \"14-11.\", \"14-14.\", \"14-7.\", \"15-1.\", \"15-20.\", \"16-1.\", \"16-16.\", \"17-10.\", \"17-11.\", \"17-2.\", \"19-1.\", \"19-16.\", \"19-19.\", \"19-20.\", \"19-3.\", \"2-10.\", \"2-11.\", \"2-17.\", \"2-18.\", \"2-20.\", \"2-3.\", \"2-4.\", \"2-5.\", \"2-6.\", \"2-7.\", \"2-8.\", \"3-13.\", \"3-18.\", \"3-3.\", \"4-1.\", \"4-10.\", \"4-11.\", \"4-19.\", \"5-5.\", \"6-15.\", \"7-10.\", \"7-14.\", \"8-18.\", \"8-20.\", \"8-3.\", \"8-8.\"], \"domains\": [1, 2, 3, 4, 5], \"num_examples_per_domain_per_label\": -1, \"pickle_path\": \"/root/csc500-main/datasets/cores.stratified_ds.2022A.pkl\", \"source_or_target_dataset\": \"target\", \"x_transforms\": [\"unit_mag\"], \"episode_transforms\": [], \"domain_prefix\": \"CORES_\"}, {\"labels\": [\"3123D52\", \"3123D65\", \"3123D79\", \"3123D80\", \"3123D54\", \"3123D70\", \"3123D7B\", \"3123D89\", \"3123D58\", \"3123D76\", \"3123D7D\", \"3123EFE\", \"3123D64\", \"3123D78\", \"3123D7E\", \"3124E4A\"], \"domains\": [32, 38, 8, 44, 14, 50, 20, 26], \"num_examples_per_domain_per_label\": 10000, \"pickle_path\": \"/root/csc500-main/datasets/oracle.Run1_10kExamples_stratified_ds.2022A.pkl\", \"source_or_target_dataset\": \"source\", \"x_transforms\": [\"unit_mag\"], \"episode_transforms\": [], \"domain_prefix\": \"ORACLE.run1_\"}], \"dataset_seed\": 7, \"seed\": 7, \"x_shape\": [2, 256], \"domains_source\": [\"ORACLE.run1_32\", \"ORACLE.run1_38\", \"ORACLE.run1_8\", \"ORACLE.run1_44\", \"ORACLE.run1_14\", \"ORACLE.run1_50\", \"ORACLE.run1_20\", \"ORACLE.run1_26\"], \"domains_target\": [\"CORES_1\", \"CORES_2\", \"CORES_3\", \"CORES_4\", \"CORES_5\"]}, \"results\": {\"source_test_label_accuracy\": 0.7300455729166667, \"source_test_label_loss\": 0.8168951272964478, \"target_test_label_accuracy\": 0.9818149717514124, \"target_test_label_loss\": 0.2339477241039276, \"source_val_label_accuracy\": 0.7284114583333333, \"source_val_label_loss\": 0.8203585743904114, \"target_val_label_accuracy\": 0.9827857142857143, \"target_val_label_loss\": 0.18587960302829742, \"total_epochs_trained\": 16, \"total_experiment_time_secs\": 13053.91937828064, \"confusion\": {\"ORACLE.run1_26\": {\"0\": {\"4\": 162, \"0\": 355, \"8\": 106, \"14\": 216, \"10\": 278, \"1\": 22, \"15\": 3, \"7\": 16, \"6\": 31, \"9\": 11}, \"4\": {\"4\": 480, \"1\": 103, \"8\": 97, \"10\": 67, \"0\": 135, \"7\": 90, \"14\": 222, \"3\": 3, \"9\": 1, \"2\": 1, \"15\": 1}, \"14\": {\"14\": 424, \"1\": 221, \"8\": 36, \"10\": 126, \"0\": 185, \"4\": 194, \"7\": 13, \"15\": 1}, \"12\": {\"12\": 1198, \"11\": 2}, \"8\": {\"7\": 96, \"0\": 116, \"8\": 458, \"4\": 105, \"2\": 25, \"10\": 162, \"9\": 92, \"15\": 71, \"14\": 24, \"6\": 33, \"5\": 11, \"3\": 4, \"1\": 3}, \"7\": {\"3\": 183, \"5\": 3, \"7\": 650, \"2\": 131, \"1\": 6, \"4\": 107, \"15\": 6, \"8\": 83, \"0\": 15, \"9\": 5, \"10\": 3, \"14\": 7, \"13\": 1}, \"13\": {\"13\": 869, \"5\": 210, \"2\": 23, \"6\": 10, \"15\": 65, \"9\": 21, \"7\": 1, \"8\": 1}, \"5\": {\"5\": 743, \"13\": 151, \"8\": 27, \"2\": 59, \"15\": 164, \"7\": 11, \"9\": 40, \"4\": 2, \"10\": 2, \"3\": 1}, \"15\": {\"15\": 491, \"2\": 31, \"9\": 337, \"8\": 103, \"5\": 124, \"6\": 33, \"13\": 49, \"10\": 6, \"7\": 18, \"0\": 5, \"4\": 1, \"3\": 2}, \"10\": {\"0\": 255, \"4\": 75, \"14\": 126, \"10\": 478, \"8\": 159, \"6\": 58, \"5\": 4, \"9\": 20, \"15\": 8, \"1\": 14, \"7\": 3}, \"3\": {\"3\": 718, \"7\": 193, \"2\": 279, \"15\": 1, \"5\": 2, \"14\": 2, \"4\": 4, \"8\": 1}, \"9\": {\"15\": 337, \"9\": 515, \"8\": 107, \"6\": 146, \"0\": 14, \"10\": 13, \"13\": 28, \"2\": 3, \"5\": 26, \"7\": 9, \"4\": 2}, \"6\": {\"6\": 869, \"10\": 67, \"15\": 33, \"9\": 176, \"8\": 24, \"13\": 6, \"0\": 24, \"5\": 1}, \"1\": {\"14\": 236, \"1\": 743, \"0\": 29, \"10\": 38, \"4\": 131, \"7\": 13, \"8\": 7, \"3\": 3}, \"11\": {\"11\": 1191, \"12\": 9}, \"2\": {\"2\": 449, \"7\": 144, \"3\": 373, \"5\": 121, \"15\": 58, \"8\": 30, \"1\": 2, \"4\": 6, \"9\": 11, \"0\": 1, \"13\": 5}}, \"ORACLE.run1_44\": {\"1\": {\"10\": 97, \"1\": 705, \"2\": 42, \"12\": 179, \"3\": 176, \"7\": 1}, \"11\": {\"11\": 1111, \"13\": 70, \"6\": 19}, \"3\": {\"3\": 1061, \"1\": 117, \"10\": 1, \"12\": 18, \"2\": 2, \"7\": 1}, \"6\": {\"6\": 821, \"13\": 221, \"9\": 115, \"2\": 1, \"7\": 26, \"11\": 16}, \"7\": {\"7\": 780, \"9\": 229, \"2\": 146, \"6\": 38, \"13\": 3, \"3\": 2, \"10\": 1, \"1\": 1}, \"5\": {\"8\": 17, \"5\": 1028, \"0\": 89, \"14\": 32, \"15\": 33, \"4\": 1}, \"2\": {\"2\": 901, \"1\": 38, \"10\": 79, \"7\": 166, \"9\": 5, \"3\": 7, \"6\": 2, \"12\": 2}, \"15\": {\"0\": 71, \"5\": 29, \"15\": 985, \"14\": 85, \"8\": 18, \"4\": 12}, \"10\": {\"10\": 871, \"12\": 97, \"2\": 105, \"1\": 126, \"7\": 1}, \"13\": {\"7\": 6, \"13\": 793, \"6\": 210, \"9\": 161, \"11\": 24, \"4\": 5, \"14\": 1}, \"8\": {\"8\": 722, \"0\": 430, \"5\": 14, \"15\": 34}, \"4\": {\"4\": 865, \"14\": 318, \"15\": 11, \"9\": 2, \"5\": 1, \"13\": 3}, \"9\": {\"7\": 253, \"13\": 127, \"9\": 690, \"6\": 117, \"4\": 2, \"1\": 1, \"2\": 10}, \"14\": {\"4\": 341, \"14\": 767, \"5\": 30, \"15\": 62}, \"0\": {\"8\": 326, \"0\": 748, \"5\": 60, \"15\": 66}, \"12\": {\"12\": 933, \"1\": 207, \"10\": 44, \"3\": 16}}, \"ORACLE.run1_50\": {\"15\": {\"1\": 183, \"15\": 886, \"4\": 77, \"11\": 28, \"6\": 26}, \"4\": {\"6\": 103, \"7\": 32, \"4\": 586, \"1\": 163, \"15\": 159, \"5\": 134, \"13\": 22, \"11\": 1}, \"6\": {\"6\": 895, \"13\": 73, \"1\": 89, \"4\": 72, \"7\": 10, \"5\": 31, \"15\": 30}, \"2\": {\"2\": 1114, \"0\": 86}, \"5\": {\"7\": 208, \"5\": 516, \"13\": 155, \"4\": 172, \"1\": 60, \"6\": 80, \"10\": 7, \"15\": 1, \"0\": 1}, \"9\": {\"9\": 951, \"11\": 155, \"12\": 91, \"14\": 3}, \"8\": {\"8\": 1166, \"3\": 15, \"10\": 19}, \"12\": {\"12\": 1096, \"9\": 74, \"14\": 25, \"11\": 5}, \"10\": {\"10\": 1111, \"13\": 23, \"0\": 41, \"8\": 14, \"7\": 11}, \"1\": {\"1\": 800, \"4\": 93, \"15\": 200, \"6\": 87, \"5\": 10, \"11\": 4, \"2\": 2, \"14\": 2, \"13\": 2}, \"0\": {\"0\": 1045, \"10\": 41, \"2\": 107, \"13\": 7}, \"3\": {\"3\": 1180, \"8\": 20}, \"13\": {\"13\": 812, \"5\": 127, \"7\": 174, \"6\": 64, \"4\": 7, \"1\": 2, \"10\": 11, \"0\": 3}, \"11\": {\"11\": 1044, \"9\": 109, \"15\": 35, \"12\": 4, \"14\": 7, \"4\": 1}, \"7\": {\"13\": 226, \"7\": 785, \"5\": 156, \"4\": 4, \"10\": 19, \"6\": 10}, \"14\": {\"14\": 1183, \"12\": 9, \"11\": 7, \"9\": 1}}, \"ORACLE.run1_38\": {\"15\": {\"15\": 951, \"1\": 77, \"13\": 111, \"10\": 4, \"8\": 37, \"5\": 15, \"2\": 3, \"0\": 2}, \"11\": {\"11\": 1066, \"2\": 4, \"14\": 114, \"10\": 12, \"13\": 3, \"4\": 1}, \"10\": {\"10\": 964, \"13\": 116, \"8\": 41, \"0\": 24, \"4\": 6, \"7\": 14, \"11\": 7, \"2\": 1, \"12\": 11, \"14\": 8, \"15\": 5, \"5\": 3}, \"14\": {\"14\": 1101, \"11\": 27, \"2\": 54, \"10\": 9, \"13\": 4, \"12\": 4, \"15\": 1}, \"6\": {\"6\": 1032, \"9\": 158, \"5\": 8, \"0\": 1, \"8\": 1}, \"4\": {\"4\": 1145, \"12\": 48, \"10\": 3, \"7\": 2, \"0\": 2}, \"13\": {\"13\": 899, \"15\": 163, \"1\": 6, \"10\": 96, \"2\": 26, \"5\": 3, \"8\": 6, \"0\": 1}, \"3\": {\"3\": 1133, \"9\": 42, \"0\": 16, \"5\": 1, \"7\": 7, \"6\": 1}, \"7\": {\"7\": 984, \"0\": 122, \"5\": 51, \"8\": 42, \"10\": 1}, \"8\": {\"8\": 730, \"5\": 233, \"0\": 136, \"15\": 28, \"7\": 54, \"10\": 10, \"1\": 2, \"13\": 6, \"6\": 1}, \"1\": {\"1\": 1141, \"15\": 58, \"5\": 1}, \"5\": {\"5\": 571, \"7\": 100, \"9\": 32, \"8\": 323, \"3\": 5, \"6\": 35, \"13\": 10, \"10\": 5, \"0\": 67, \"15\": 43, \"1\": 9}, \"0\": {\"0\": 617, \"10\": 25, \"7\": 187, \"8\": 221, \"3\": 59, \"9\": 2, \"5\": 82, \"4\": 4, \"12\": 3}, \"2\": {\"2\": 1113, \"14\": 65, \"13\": 19, \"15\": 1, \"10\": 2}, \"12\": {\"12\": 1163, \"10\": 5, \"0\": 3, \"4\": 29}, \"9\": {\"9\": 880, \"6\": 269, \"5\": 28, \"3\": 17, \"7\": 3, \"8\": 2, \"0\": 1}}, \"ORACLE.run1_20\": {\"10\": {\"10\": 1084, \"14\": 85, \"4\": 13, \"8\": 7, \"6\": 8, \"7\": 2, \"3\": 1}, \"7\": {\"7\": 864, \"8\": 62, \"9\": 41, \"2\": 160, \"6\": 19, \"3\": 42, \"11\": 1, \"13\": 3, \"4\": 3, \"14\": 1, \"10\": 2, \"12\": 2}, \"4\": {\"12\": 14, \"4\": 925, \"3\": 69, \"10\": 30, \"8\": 156, \"9\": 1, \"7\": 4, \"14\": 1}, \"13\": {\"13\": 1079, \"2\": 69, \"15\": 23, \"12\": 7, \"9\": 9, \"1\": 5, \"0\": 1, \"7\": 7}, \"1\": {\"15\": 184, \"12\": 212, \"0\": 27, \"5\": 165, \"1\": 551, \"3\": 34, \"2\": 8, \"9\": 16, \"13\": 3}, \"0\": {\"0\": 731, \"5\": 289, \"8\": 8, \"3\": 14, \"15\": 116, \"1\": 13, \"7\": 3, \"4\": 7, \"12\": 7, \"13\": 6, \"2\": 5, \"9\": 1}, \"12\": {\"12\": 498, \"5\": 123, \"2\": 42, \"9\": 101, \"3\": 229, \"1\": 175, \"15\": 14, \"4\": 4, \"7\": 3, \"0\": 8, \"13\": 3}, \"5\": {\"12\": 136, \"0\": 221, \"5\": 504, \"15\": 98, \"1\": 195, \"3\": 39, \"9\": 2, \"13\": 2, \"4\": 2, \"2\": 1}, \"6\": {\"6\": 1035, \"14\": 146, \"8\": 8, \"7\": 8, \"10\": 2, \"11\": 1}, \"2\": {\"2\": 546, \"9\": 309, \"12\": 68, \"3\": 67, \"7\": 127, \"5\": 4, \"13\": 56, \"15\": 8, \"1\": 13, \"0\": 1, \"8\": 1}, \"8\": {\"7\": 63, \"8\": 918, \"4\": 136, \"10\": 10, \"14\": 38, \"3\": 17, \"6\": 11, \"5\": 1, \"2\": 1, \"9\": 2, \"0\": 1, \"12\": 2}, \"11\": {\"11\": 1199, \"6\": 1}, \"9\": {\"9\": 534, \"2\": 288, \"3\": 196, \"12\": 107, \"13\": 8, \"7\": 41, \"1\": 22, \"8\": 1, \"5\": 2, \"4\": 1}, \"14\": {\"14\": 965, \"8\": 11, \"6\": 142, \"10\": 76, \"4\": 3, \"7\": 3}, \"15\": {\"15\": 765, \"1\": 187, \"0\": 77, \"5\": 115, \"13\": 26, \"12\": 19, \"2\": 5, \"3\": 3, \"9\": 3}, \"3\": {\"8\": 16, \"7\": 37, \"9\": 203, \"3\": 465, \"12\": 255, \"2\": 92, \"5\": 33, \"4\": 66, \"1\": 22, \"10\": 4, \"15\": 3, \"13\": 1, \"0\": 3}}, \"ORACLE.run1_14\": {\"14\": {\"14\": 1005, \"13\": 63, \"3\": 37, \"6\": 24, \"2\": 70, \"4\": 1}, \"0\": {\"0\": 1097, \"10\": 54, \"11\": 25, \"3\": 24}, \"4\": {\"3\": 97, \"4\": 902, \"2\": 55, \"5\": 126, \"14\": 2, \"1\": 17, \"6\": 1}, \"11\": {\"11\": 1084, \"9\": 67, \"0\": 47, \"10\": 2}, \"13\": {\"6\": 466, \"13\": 454, \"2\": 115, \"14\": 141, \"5\": 12, \"15\": 4, \"4\": 5, \"3\": 1, \"10\": 2}, \"9\": {\"9\": 1195, \"11\": 3, \"12\": 2}, \"3\": {\"3\": 1017, \"14\": 33, \"4\": 114, \"5\": 9, \"2\": 19, \"0\": 6, \"13\": 2}, \"6\": {\"13\": 441, \"6\": 667, \"14\": 40, \"5\": 1, \"2\": 50, \"4\": 1}, \"1\": {\"1\": 1114, \"5\": 80, \"4\": 4, \"3\": 1, \"7\": 1}, \"5\": {\"5\": 797, \"2\": 61, \"1\": 131, \"4\": 185, \"3\": 15, \"7\": 8, \"13\": 2, \"15\": 1}, \"12\": {\"12\": 1196, \"9\": 4}, \"10\": {\"10\": 1166, \"0\": 34}, \"8\": {\"8\": 1200}, \"7\": {\"7\": 1179, \"15\": 13, \"1\": 5, \"5\": 3}, \"15\": {\"15\": 1179, \"7\": 21}, \"2\": {\"5\": 113, \"2\": 627, \"3\": 49, \"6\": 69, \"4\": 94, \"14\": 162, \"15\": 23, \"13\": 61, \"7\": 2}}, \"ORACLE.run1_32\": {\"11\": {\"14\": 177, \"11\": 977, \"13\": 13, \"7\": 19, \"5\": 3, \"3\": 11}, \"1\": {\"1\": 1185, \"10\": 15}, \"2\": {\"2\": 964, \"4\": 194, \"7\": 17, \"0\": 22, \"5\": 2, \"13\": 1}, \"0\": {\"0\": 857, \"8\": 135, \"13\": 18, \"4\": 65, \"5\": 30, \"14\": 34, \"7\": 29, \"2\": 31, \"11\": 1}, \"3\": {\"3\": 1110, \"11\": 20, \"14\": 4, \"13\": 43, \"5\": 15, \"8\": 8}, \"8\": {\"8\": 916, \"3\": 13, \"0\": 111, \"5\": 70, \"13\": 75, \"14\": 7, \"4\": 3, \"7\": 5}, \"12\": {\"12\": 1200}, \"5\": {\"7\": 152, \"3\": 36, \"5\": 465, \"13\": 272, \"4\": 123, \"14\": 24, \"8\": 79, \"11\": 6, \"0\": 36, \"2\": 7}, \"15\": {\"15\": 1193, \"3\": 2, \"8\": 5}, \"7\": {\"7\": 562, \"11\": 23, \"14\": 159, \"13\": 89, \"5\": 168, \"2\": 27, \"4\": 144, \"0\": 23, \"8\": 4, \"3\": 1}, \"4\": {\"4\": 720, \"13\": 65, \"7\": 92, \"14\": 3, \"5\": 82, \"2\": 204, \"0\": 32, \"8\": 2}, \"14\": {\"14\": 575, \"4\": 13, \"11\": 281, \"13\": 51, \"7\": 184, \"5\": 34, \"0\": 39, \"3\": 10, \"8\": 7, \"2\": 6}, \"10\": {\"10\": 1197, \"1\": 3}, \"6\": {\"6\": 1200}, \"13\": {\"8\": 59, \"7\": 95, \"5\": 253, \"13\": 558, \"4\": 81, \"14\": 27, \"3\": 89, \"11\": 15, \"0\": 21, \"2\": 2}, \"9\": {\"9\": 1197, \"12\": 3}}, \"ORACLE.run1_8\": {\"9\": {\"9\": 1200}, \"11\": {\"11\": 807, \"1\": 361, \"13\": 1, \"5\": 12, \"14\": 8, \"8\": 11}, \"8\": {\"8\": 1135, \"15\": 52, \"6\": 9, \"11\": 2, \"12\": 1, \"7\": 1}, \"4\": {\"4\": 613, \"6\": 112, \"0\": 55, \"13\": 200, \"10\": 34, \"14\": 178, \"7\": 4, \"1\": 3, \"11\": 1}, \"13\": {\"13\": 392, \"10\": 127, \"4\": 194, \"0\": 330, \"14\": 107, \"6\": 37, \"7\": 11, \"1\": 2}, \"14\": {\"14\": 668, \"10\": 192, \"4\": 175, \"13\": 85, \"5\": 3, \"1\": 56, \"11\": 11, \"6\": 7, \"0\": 3}, \"2\": {\"2\": 985, \"3\": 142, \"7\": 20, \"12\": 15, \"15\": 37, \"6\": 1}, \"3\": {\"3\": 1032, \"2\": 107, \"12\": 56, \"15\": 5}, \"1\": {\"1\": 870, \"11\": 243, \"14\": 58, \"5\": 18, \"10\": 9, \"4\": 2}, \"0\": {\"13\": 256, \"0\": 748, \"4\": 46, \"7\": 77, \"6\": 65, \"14\": 2, \"10\": 6}, \"5\": {\"5\": 1056, \"1\": 53, \"10\": 80, \"14\": 8, \"13\": 1, \"11\": 2}, \"15\": {\"8\": 61, \"15\": 830, \"12\": 294, \"3\": 10, \"2\": 5}, \"10\": {\"10\": 772, \"13\": 107, \"0\": 6, \"14\": 249, \"4\": 34, \"5\": 24, \"1\": 8}, \"12\": {\"3\": 153, \"15\": 353, \"12\": 663, \"8\": 19, \"2\": 11, \"7\": 1}, \"6\": {\"6\": 736, \"4\": 110, \"7\": 277, \"13\": 29, \"14\": 3, \"0\": 39, \"8\": 6}, \"7\": {\"7\": 887, \"6\": 245, \"0\": 51, \"13\": 9, \"4\": 3, \"8\": 4, \"2\": 1}}, \"CORES_5\": {\"26\": {\"26\": 24}, \"7\": {\"7\": 32}, \"56\": {\"56\": 141, \"49\": 1}, \"36\": {\"36\": 91, \"40\": 1}, \"47\": {\"47\": 100}, \"2\": {\"2\": 28}, \"15\": {\"15\": 151, \"43\": 1}, \"14\": {\"36\": 3, \"14\": 15, \"40\": 2, \"35\": 2, \"28\": 5, \"57\": 1, \"33\": 1, \"22\": 1, \"47\": 6, \"46\": 3, \"31\": 2, \"29\": 1, \"0\": 2}, \"27\": {\"27\": 145, \"32\": 1}, \"40\": {\"40\": 118, \"33\": 1, \"29\": 1, \"19\": 1, \"34\": 3}, \"49\": {\"49\": 36}, \"45\": {\"27\": 8, \"45\": 108, \"33\": 1, \"32\": 1, \"9\": 3, \"48\": 2, \"4\": 1}, \"46\": {\"47\": 1, \"46\": 135}, \"11\": {\"11\": 130}, \"30\": {\"30\": 112}, \"0\": {\"0\": 124}, \"10\": {\"10\": 68}, \"1\": {\"1\": 148}, \"42\": {\"42\": 38, \"2\": 1, \"0\": 1}, \"54\": {\"54\": 112}, \"55\": {\"55\": 152}, \"23\": {\"23\": 124}, \"25\": {\"25\": 152}, \"28\": {\"28\": 32}, \"32\": {\"32\": 30, \"27\": 2}, \"9\": {\"9\": 138, \"48\": 4}, \"39\": {\"39\": 20}, \"3\": {\"3\": 90, \"42\": 3, \"47\": 5, \"46\": 2}, \"29\": {\"29\": 117, \"40\": 1}, \"17\": {\"17\": 116}, \"35\": {\"35\": 36}, \"44\": {\"44\": 144, \"5\": 4, \"19\": 3, \"34\": 1}, \"5\": {\"5\": 127, \"19\": 1}, \"33\": {\"33\": 32}, \"34\": {\"44\": 1, \"34\": 35}, \"13\": {\"13\": 138}, \"41\": {\"41\": 28}, \"6\": {\"6\": 124, \"8\": 2, \"1\": 1, \"17\": 1}, \"51\": {\"51\": 138}, \"50\": {\"50\": 123, \"53\": 5, \"25\": 3, \"21\": 13}, \"37\": {\"37\": 24}, \"19\": {\"19\": 144}, \"57\": {\"57\": 132}, \"21\": {\"21\": 144}, \"24\": {\"24\": 80}, \"8\": {\"8\": 130}, \"12\": {\"12\": 96}, \"48\": {\"48\": 129, \"9\": 3}, \"43\": {\"43\": 140, \"15\": 10}, \"53\": {\"53\": 148}, \"38\": {\"38\": 32}, \"16\": {\"16\": 142}, \"22\": {\"22\": 27, \"28\": 1}, \"4\": {\"4\": 100}, \"18\": {\"18\": 64}, \"20\": {\"20\": 144}, \"52\": {\"52\": 140}, \"31\": {\"31\": 36}}, \"CORES_1\": {\"41\": {\"41\": 24}, \"40\": {\"40\": 109, \"4\": 1}, \"45\": {\"45\": 129, \"42\": 8, \"30\": 1}, \"51\": {\"51\": 148}, \"5\": {\"5\": 149, \"50\": 2, \"48\": 2, \"6\": 1}, \"30\": {\"30\": 120}, \"42\": {\"42\": 40}, \"46\": {\"46\": 136}, \"48\": {\"48\": 134}, \"53\": {\"53\": 144}, \"47\": {\"47\": 152}, \"49\": {\"49\": 32}, \"36\": {\"36\": 64}, \"32\": {\"32\": 32}, \"34\": {\"34\": 24}, \"29\": {\"29\": 138, \"35\": 2}, \"35\": {\"35\": 36}, \"3\": {\"3\": 134}, \"16\": {\"16\": 140}, \"26\": {\"26\": 24}, \"57\": {\"57\": 135, \"56\": 8, \"44\": 1}, \"44\": {\"44\": 95, \"57\": 11, \"19\": 6, \"1\": 7, \"35\": 4, \"29\": 3, \"56\": 2}, \"0\": {\"0\": 152}, \"4\": {\"4\": 132}, \"31\": {\"31\": 28}, \"11\": {\"11\": 140}, \"6\": {\"6\": 93, \"2\": 1, \"5\": 1, \"48\": 1}, \"54\": {\"54\": 104}, \"17\": {\"17\": 64}, \"20\": {\"20\": 128}, \"13\": {\"13\": 150}, \"33\": {\"33\": 32}, \"24\": {\"24\": 96, \"22\": 10, \"23\": 1, \"37\": 1}, \"52\": {\"52\": 128, \"10\": 2, \"22\": 1, \"21\": 1}, \"2\": {\"2\": 36}, \"19\": {\"19\": 156}, \"39\": {\"39\": 28}, \"8\": {\"8\": 139, \"14\": 1}, \"21\": {\"21\": 115, \"23\": 8, \"22\": 1}, \"10\": {\"10\": 96}, \"37\": {\"37\": 32}, \"25\": {\"25\": 144}, \"27\": {\"27\": 130}, \"23\": {\"23\": 135, \"21\": 1}, \"1\": {\"1\": 100}, \"50\": {\"50\": 152}, \"12\": {\"12\": 116}, \"18\": {\"18\": 72}, \"38\": {\"38\": 23, \"15\": 1}, \"14\": {\"20\": 2, \"30\": 1, \"25\": 1, \"7\": 4, \"54\": 2, \"14\": 10, \"6\": 1, \"9\": 1, \"5\": 1, \"8\": 1}, \"56\": {\"56\": 128, \"57\": 8, \"1\": 3, \"19\": 3}, \"55\": {\"55\": 159, \"47\": 1}, \"9\": {\"9\": 138}, \"15\": {\"15\": 146}, \"28\": {\"28\": 28}, \"7\": {\"7\": 28}, \"43\": {\"43\": 136}, \"22\": {\"22\": 105, \"10\": 3, \"24\": 18, \"52\": 6, \"11\": 2, \"21\": 2}}, \"CORES_3\": {\"1\": {\"1\": 96, \"57\": 4}, \"9\": {\"9\": 124}, \"22\": {\"22\": 135, \"55\": 1}, \"43\": {\"43\": 136}, \"49\": {\"49\": 20}, \"50\": {\"50\": 134, \"52\": 4}, \"53\": {\"53\": 136}, \"10\": {\"10\": 64}, \"48\": {\"48\": 116}, \"8\": {\"8\": 138}, \"31\": {\"31\": 28}, \"56\": {\"56\": 134}, \"25\": {\"25\": 136, \"52\": 6}, \"28\": {\"28\": 28}, \"38\": {\"38\": 28}, \"5\": {\"5\": 103, \"47\": 11, \"20\": 1, \"36\": 1}, \"12\": {\"12\": 92}, \"6\": {\"6\": 77, \"18\": 8, \"30\": 1, \"8\": 1, \"23\": 1}, \"19\": {\"19\": 152}, \"26\": {\"26\": 24}, \"32\": {\"32\": 28}, \"33\": {\"33\": 28}, \"3\": {\"3\": 115, \"50\": 2, \"52\": 1}, \"51\": {\"51\": 128}, \"16\": {\"16\": 137, \"11\": 1}, \"46\": {\"46\": 139, \"20\": 1}, \"7\": {\"7\": 36}, \"47\": {\"47\": 88, \"5\": 4}, \"39\": {\"39\": 14, \"30\": 1, \"33\": 1}, \"40\": {\"40\": 136}, \"14\": {\"14\": 32, \"39\": 1, \"28\": 1, \"22\": 4, \"56\": 1, \"55\": 1}, \"37\": {\"37\": 28}, \"2\": {\"2\": 32}, \"21\": {\"21\": 120}, \"35\": {\"35\": 28}, \"54\": {\"54\": 100}, \"52\": {\"52\": 116}, \"29\": {\"29\": 118}, \"20\": {\"20\": 132}, \"18\": {\"18\": 84}, \"11\": {\"11\": 142}, \"0\": {\"0\": 124}, \"36\": {\"36\": 100}, \"17\": {\"17\": 108}, \"30\": {\"30\": 114}, \"42\": {\"42\": 28}, \"45\": {\"45\": 59, \"27\": 1}, \"4\": {\"4\": 148}, \"23\": {\"23\": 134}, \"13\": {\"13\": 128}, \"15\": {\"15\": 128}, \"57\": {\"57\": 118, \"1\": 6}, \"27\": {\"27\": 134}, \"44\": {\"44\": 88}, \"34\": {\"34\": 32}, \"41\": {\"41\": 28}, \"24\": {\"24\": 104}, \"55\": {\"55\": 118}}, \"CORES_4\": {\"52\": {\"52\": 116}, \"6\": {\"6\": 105, \"25\": 2, \"31\": 1, \"53\": 1, \"51\": 2, \"50\": 1}, \"14\": {\"14\": 15, \"35\": 1}, \"49\": {\"49\": 20}, \"0\": {\"46\": 7, \"0\": 65, \"5\": 1, \"2\": 1, \"47\": 3, \"32\": 2, \"23\": 1}, \"46\": {\"46\": 148, \"32\": 1, \"0\": 1, \"47\": 6}, \"41\": {\"41\": 36}, \"24\": {\"24\": 56}, \"25\": {\"25\": 152}, \"40\": {\"40\": 137, \"29\": 1}, \"38\": {\"38\": 40}, \"13\": {\"13\": 152}, \"9\": {\"9\": 108}, \"45\": {\"45\": 96}, \"43\": {\"43\": 144}, \"10\": {\"10\": 130}, \"15\": {\"15\": 126, \"11\": 2}, \"39\": {\"39\": 20}, \"4\": {\"4\": 132}, \"53\": {\"53\": 132}, \"1\": {\"1\": 38, \"57\": 2}, \"28\": {\"28\": 32}, \"54\": {\"54\": 108}, \"21\": {\"21\": 132}, \"7\": {\"7\": 24}, \"8\": {\"8\": 136}, \"42\": {\"42\": 32}, \"11\": {\"11\": 103, \"15\": 1}, \"33\": {\"33\": 36}, \"27\": {\"27\": 142}, \"19\": {\"19\": 144}, \"2\": {\"2\": 35, \"47\": 1}, \"3\": {\"3\": 105, \"50\": 1, \"25\": 10, \"20\": 2, \"8\": 1, \"6\": 1}, \"57\": {\"57\": 100}, \"20\": {\"20\": 112}, \"23\": {\"23\": 128}, \"22\": {\"22\": 128}, \"29\": {\"29\": 121, \"57\": 2, \"17\": 1}, \"36\": {\"36\": 91, \"8\": 1}, \"51\": {\"51\": 132}, \"31\": {\"31\": 28}, \"12\": {\"12\": 92}, \"56\": {\"56\": 138}, \"5\": {\"5\": 105, \"23\": 1, \"47\": 2}, \"35\": {\"35\": 40}, \"17\": {\"17\": 80}, \"32\": {\"32\": 24}, \"47\": {\"47\": 118, \"5\": 1, \"46\": 1}, \"18\": {\"18\": 108}, \"26\": {\"26\": 24}, \"50\": {\"50\": 105, \"3\": 2, \"53\": 12, \"21\": 2, \"6\": 1}, \"55\": {\"55\": 124}, \"34\": {\"34\": 24}, \"30\": {\"30\": 44}, \"37\": {\"37\": 24}, \"44\": {\"44\": 131, \"19\": 1}, \"48\": {\"48\": 118}, \"16\": {\"16\": 96}}, \"CORES_2\": {\"11\": {\"11\": 130}, \"21\": {\"21\": 120}, \"19\": {\"19\": 140}, \"20\": {\"20\": 128}, \"9\": {\"9\": 140}, \"10\": {\"10\": 112}, \"37\": {\"37\": 36}, \"32\": {\"32\": 28}, \"3\": {\"3\": 85, \"21\": 5, \"53\": 1, \"50\": 1}, \"39\": {\"39\": 28}, \"45\": {\"45\": 127, \"4\": 1}, \"50\": {\"50\": 136}, \"40\": {\"40\": 135, \"29\": 2, \"9\": 2, \"45\": 1}, \"46\": {\"46\": 122, \"11\": 2, \"15\": 2, \"8\": 1, \"6\": 1}, \"12\": {\"12\": 91, \"20\": 1}, \"13\": {\"13\": 116}, \"47\": {\"47\": 127, \"5\": 5}, \"15\": {\"15\": 140, \"7\": 2}, \"54\": {\"54\": 108}, \"48\": {\"48\": 148}, \"23\": {\"23\": 142}, \"29\": {\"29\": 128}, \"38\": {\"38\": 20}, \"53\": {\"53\": 136}, \"27\": {\"27\": 150}, \"43\": {\"43\": 144}, \"35\": {\"35\": 31, \"9\": 1}, \"0\": {\"0\": 47, \"47\": 1}, \"52\": {\"52\": 124}, \"8\": {\"8\": 128}, \"24\": {\"10\": 3, \"24\": 93}, \"18\": {\"18\": 48}, \"25\": {\"25\": 148}, \"57\": {\"57\": 136}, \"55\": {\"55\": 134}, \"36\": {\"36\": 116}, \"17\": {\"17\": 104}, \"2\": {\"2\": 32}, \"34\": {\"34\": 28}, \"1\": {\"1\": 106, \"9\": 1, \"17\": 1, \"57\": 2, \"42\": 1, \"48\": 1}, \"51\": {\"51\": 136}, \"31\": {\"31\": 28}, \"49\": {\"49\": 24}, \"14\": {\"55\": 2, \"14\": 20, \"22\": 2}, \"33\": {\"33\": 28}, \"41\": {\"41\": 20}, \"28\": {\"28\": 28}, \"5\": {\"5\": 109, \"47\": 11}, \"16\": {\"16\": 150}, \"4\": {\"4\": 128}, \"22\": {\"22\": 136}, \"6\": {\"6\": 115, \"25\": 2, \"50\": 1}, \"30\": {\"30\": 120, \"15\": 3, \"23\": 1}, \"26\": {\"26\": 24}, \"56\": {\"56\": 142}, \"42\": {\"42\": 36}, \"44\": {\"44\": 98, \"35\": 1, \"45\": 1}, \"7\": {\"7\": 35, \"15\": 1}}}, \"per_domain_accuracy\": {\"ORACLE.run1_26\": {\"accuracy\": 0.5536979166666667, \"source?\": true}, \"ORACLE.run1_44\": {\"accuracy\": 0.7177604166666667, \"source?\": true}, \"ORACLE.run1_50\": {\"accuracy\": 0.7901041666666667, \"source?\": true}, \"ORACLE.run1_38\": {\"accuracy\": 0.8067708333333333, \"source?\": true}, \"ORACLE.run1_20\": {\"accuracy\": 0.65953125, \"source?\": true}, \"ORACLE.run1_14\": {\"accuracy\": 0.82703125, \"source?\": true}, \"ORACLE.run1_32\": {\"accuracy\": 0.7747916666666667, \"source?\": true}, \"ORACLE.run1_8\": {\"accuracy\": 0.6976041666666667, \"source?\": true}, \"CORES_5\": {\"accuracy\": 0.9783519553072626, \"source?\": false}, \"CORES_1\": {\"accuracy\": 0.9745244565217391, \"source?\": false}, \"CORES_3\": {\"accuracy\": 0.9880514705882353, \"source?\": false}, \"CORES_4\": {\"accuracy\": 0.9849397590361446, \"source?\": false}, \"CORES_2\": {\"accuracy\": 0.9888139204545454, \"source?\": false}}}, \"history\": {\"epoch_indices\": [1, 2, 3, 4, 5, 6, 7, 8, 9, 10, 11, 12, 13, 14, 15, 16], \"train_label_loss\": [1.0655772541259372, 0.8288381838847306, 0.7375623604092038, 0.6544173227412449, 0.5964163407140101, 0.5501551417763612, 0.5079983331417177, 0.4673254588177605, 0.4319059270289394, 0.39979087757905724, 0.37136770722589324, 0.3467522978524877, 0.32284108050951976, 0.30167474454762194, 0.28177729077944863, 0.26444325303758626], \"source_val_label_loss\": [1.0080902576446533, 0.8555025458335876, 0.796485185623169, 0.7721186280250549, 0.7642115950584412, 0.7647282481193542, 0.7512723803520203, 0.7568864822387695, 0.7754439115524292, 0.7892210483551025, 0.7980592846870422, 0.8203585743904114, 0.8475703597068787, 0.8592837452888489, 0.8921652436256409, 0.9051510691642761], \"target_val_label_loss\": [0.13715003430843353, 0.1744842231273651, 0.19095271825790405, 0.17524516582489014, 0.17221897840499878, 0.16927996277809143, 0.1664862334728241, 0.17463141679763794, 0.17502617835998535, 0.17270438373088837, 0.1860690414905548, 0.18587960302829742, 0.19552038609981537, 0.1925506442785263, 0.20461955666542053, 0.2141956090927124], \"source_val_acc_label\": [0.6357421875, 0.6771158854166667, 0.7061197916666667, 0.7147786458333333, 0.72193359375, 0.7263151041666667, 0.72638671875, 0.7301692708333334, 0.7282682291666667, 0.72955078125, 0.7269270833333333, 0.7284114583333333, 0.72431640625, 0.7251953125, 0.7204557291666667, 0.72193359375], \"target_val_acc_label\": [0.9645714285714285, 0.9649642857142857, 0.9729642857142857, 0.9764642857142857, 0.9781785714285715, 0.98075, 0.9806428571428571, 0.9806071428571429, 0.98075, 0.9823214285714286, 0.9811785714285715, 0.9827857142857143, 0.98125, 0.982, 0.982, 0.9809642857142857]}, \"dataset_metrics\": {\"source\": {\"train\": {\"n_unique_x\": 896000, \"n_unique_y\": 16, \"n_batch/episode\": 33600}, \"val\": {\"n_unique_x\": 192000, \"n_unique_y\": 16, \"n_batch/episode\": 4800}, \"test\": {\"n_unique_x\": 192000, \"n_unique_y\": 16, \"n_batch/episode\": 4800}}, \"target\": {\"train\": {\"n_unique_x\": 175203, \"n_unique_y\": 58, \"n_batch/episode\": 6321}, \"val\": {\"n_unique_x\": 37151, \"n_unique_y\": 58, \"n_batch/episode\": 875}, \"test\": {\"n_unique_x\": 37548, \"n_unique_y\": 58, \"n_batch/episode\": 885}}}}'"
      ]
     },
     "execution_count": 29,
     "metadata": {},
     "output_type": "execute_result"
    }
   ],
   "source": [
    "json.dumps(experiment)"
   ]
  }
 ],
 "metadata": {
  "celltoolbar": "Tags",
  "kernelspec": {
   "display_name": "Python 3 (ipykernel)",
   "language": "python",
   "name": "python3"
  },
  "language_info": {
   "codemirror_mode": {
    "name": "ipython",
    "version": 3
   },
   "file_extension": ".py",
   "mimetype": "text/x-python",
   "name": "python",
   "nbconvert_exporter": "python",
   "pygments_lexer": "ipython3",
   "version": "3.8.12"
  },
  "papermill": {
   "default_parameters": {},
   "duration": 13496.788886,
   "end_time": "2022-03-23T05:04:10.022722",
   "environment_variables": {},
   "exception": null,
   "input_path": "/root/csc500-main/csc500-notebooks/templates/tl_ptn_template.ipynb",
   "output_path": "trial.ipynb",
   "parameters": {
    "parameters": {
     "BEST_MODEL_PATH": "./best_model.pth",
     "NUM_LOGS_PER_EPOCH": 10,
     "criteria_for_best": "target_accuracy",
     "dataset_seed": 7,
     "datasets": [
      {
       "domain_prefix": "CORES_",
       "domains": [
        1,
        2,
        3,
        4,
        5
       ],
       "episode_transforms": [],
       "labels": [
        "1-10.",
        "1-11.",
        "1-15.",
        "1-16.",
        "1-17.",
        "1-18.",
        "1-19.",
        "10-4.",
        "10-7.",
        "11-1.",
        "11-14.",
        "11-17.",
        "11-20.",
        "11-7.",
        "13-20.",
        "13-8.",
        "14-10.",
        "14-11.",
        "14-14.",
        "14-7.",
        "15-1.",
        "15-20.",
        "16-1.",
        "16-16.",
        "17-10.",
        "17-11.",
        "17-2.",
        "19-1.",
        "19-16.",
        "19-19.",
        "19-20.",
        "19-3.",
        "2-10.",
        "2-11.",
        "2-17.",
        "2-18.",
        "2-20.",
        "2-3.",
        "2-4.",
        "2-5.",
        "2-6.",
        "2-7.",
        "2-8.",
        "3-13.",
        "3-18.",
        "3-3.",
        "4-1.",
        "4-10.",
        "4-11.",
        "4-19.",
        "5-5.",
        "6-15.",
        "7-10.",
        "7-14.",
        "8-18.",
        "8-20.",
        "8-3.",
        "8-8."
       ],
       "num_examples_per_domain_per_label": -1,
       "pickle_path": "/root/csc500-main/datasets/cores.stratified_ds.2022A.pkl",
       "source_or_target_dataset": "target",
       "x_transforms": [
        "unit_mag"
       ]
      },
      {
       "domain_prefix": "ORACLE.run1_",
       "domains": [
        32,
        38,
        8,
        44,
        14,
        50,
        20,
        26
       ],
       "episode_transforms": [],
       "labels": [
        "3123D52",
        "3123D65",
        "3123D79",
        "3123D80",
        "3123D54",
        "3123D70",
        "3123D7B",
        "3123D89",
        "3123D58",
        "3123D76",
        "3123D7D",
        "3123EFE",
        "3123D64",
        "3123D78",
        "3123D7E",
        "3124E4A"
       ],
       "num_examples_per_domain_per_label": 10000,
       "pickle_path": "/root/csc500-main/datasets/oracle.Run1_10kExamples_stratified_ds.2022A.pkl",
       "source_or_target_dataset": "source",
       "x_transforms": [
        "unit_mag"
       ]
      }
     ],
     "device": "cuda",
     "experiment_name": "tl_1v2:cores-oracle.run1",
     "lr": 0.0001,
     "n_epoch": 50,
     "n_query": 2,
     "n_shot": 3,
     "n_way": 16,
     "patience": 3,
     "seed": 7,
     "test_k_factor": 2,
     "torch_default_dtype": "torch.float32",
     "train_k_factor": 3,
     "val_k_factor": 2,
     "x_net": [
      {
       "class": "nnReshape",
       "kargs": {
        "shape": [
         -1,
         1,
         2,
         256
        ]
       }
      },
      {
       "class": "Conv2d",
       "kargs": {
        "bias": false,
        "in_channels": 1,
        "kernel_size": [
         1,
         7
        ],
        "out_channels": 256,
        "padding": [
         0,
         3
        ]
       }
      },
      {
       "class": "ReLU",
       "kargs": {
        "inplace": true
       }
      },
      {
       "class": "BatchNorm2d",
       "kargs": {
        "num_features": 256
       }
      },
      {
       "class": "Conv2d",
       "kargs": {
        "bias": true,
        "in_channels": 256,
        "kernel_size": [
         2,
         7
        ],
        "out_channels": 80,
        "padding": [
         0,
         3
        ]
       }
      },
      {
       "class": "ReLU",
       "kargs": {
        "inplace": true
       }
      },
      {
       "class": "BatchNorm2d",
       "kargs": {
        "num_features": 80
       }
      },
      {
       "class": "Flatten",
       "kargs": {}
      },
      {
       "class": "Linear",
       "kargs": {
        "in_features": 20480,
        "out_features": 256
       }
      },
      {
       "class": "ReLU",
       "kargs": {
        "inplace": true
       }
      },
      {
       "class": "BatchNorm1d",
       "kargs": {
        "num_features": 256
       }
      },
      {
       "class": "Linear",
       "kargs": {
        "in_features": 256,
        "out_features": 256
       }
      }
     ]
    }
   },
   "start_time": "2022-03-23T01:19:13.233836",
   "version": "2.3.4"
  }
 },
 "nbformat": 4,
 "nbformat_minor": 5
}