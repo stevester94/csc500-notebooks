{
 "cells": [
  {
   "cell_type": "markdown",
   "id": "9fea5f46",
   "metadata": {
    "papermill": {
     "duration": 0.029096,
     "end_time": "2022-03-23T15:26:04.634823",
     "exception": false,
     "start_time": "2022-03-23T15:26:04.605727",
     "status": "completed"
    },
    "tags": []
   },
   "source": [
    "# Transfer Learning Template"
   ]
  },
  {
   "cell_type": "code",
   "execution_count": 1,
   "id": "0902182a",
   "metadata": {
    "execution": {
     "iopub.execute_input": "2022-03-23T15:26:04.695979Z",
     "iopub.status.busy": "2022-03-23T15:26:04.683670Z",
     "iopub.status.idle": "2022-03-23T15:26:06.527994Z",
     "shell.execute_reply": "2022-03-23T15:26:06.527066Z"
    },
    "papermill": {
     "duration": 1.871389,
     "end_time": "2022-03-23T15:26:06.528200",
     "exception": false,
     "start_time": "2022-03-23T15:26:04.656811",
     "status": "completed"
    },
    "tags": []
   },
   "outputs": [],
   "source": [
    "%load_ext autoreload\n",
    "%autoreload 2\n",
    "%matplotlib inline\n",
    "\n",
    "    \n",
    "import os, json, sys, time, random\n",
    "import numpy as np\n",
    "import torch\n",
    "from torch.optim import Adam\n",
    "from  easydict import EasyDict\n",
    "import matplotlib.pyplot as plt\n",
    "\n",
    "from steves_models.steves_ptn import Steves_Prototypical_Network\n",
    "\n",
    "from steves_utils.lazy_iterable_wrapper import Lazy_Iterable_Wrapper\n",
    "from steves_utils.iterable_aggregator import Iterable_Aggregator\n",
    "from steves_utils.ptn_train_eval_test_jig import  PTN_Train_Eval_Test_Jig\n",
    "from steves_utils.torch_sequential_builder import build_sequential\n",
    "from steves_utils.torch_utils import get_dataset_metrics, ptn_confusion_by_domain_over_dataloader\n",
    "from steves_utils.utils_v2 import (per_domain_accuracy_from_confusion, get_datasets_base_path)\n",
    "from steves_utils.PTN.utils import independent_accuracy_assesment\n",
    "\n",
    "from torch.utils.data import DataLoader\n",
    "\n",
    "from steves_utils.stratified_dataset.episodic_accessor import Episodic_Accessor_Factory\n",
    "\n",
    "from steves_utils.ptn_do_report import (\n",
    "    get_loss_curve,\n",
    "    get_results_table,\n",
    "    get_parameters_table,\n",
    "    get_domain_accuracies,\n",
    ")\n",
    "\n",
    "from steves_utils.transforms import get_chained_transform"
   ]
  },
  {
   "cell_type": "markdown",
   "id": "41c840b4",
   "metadata": {
    "papermill": {
     "duration": 0.019623,
     "end_time": "2022-03-23T15:26:06.572137",
     "exception": false,
     "start_time": "2022-03-23T15:26:06.552514",
     "status": "completed"
    },
    "tags": []
   },
   "source": [
    "# Allowed Parameters\n",
    "These are allowed parameters, not defaults\n",
    "Each of these values need to be present in the injected parameters (the notebook will raise an exception if they are not present)\n",
    "\n",
    "Papermill uses the cell tag \"parameters\" to inject the real parameters below this cell.\n",
    "Enable tags to see what I mean"
   ]
  },
  {
   "cell_type": "code",
   "execution_count": 2,
   "id": "fd44eb83",
   "metadata": {
    "execution": {
     "iopub.execute_input": "2022-03-23T15:26:06.616432Z",
     "iopub.status.busy": "2022-03-23T15:26:06.616032Z",
     "iopub.status.idle": "2022-03-23T15:26:06.638590Z",
     "shell.execute_reply": "2022-03-23T15:26:06.637761Z"
    },
    "papermill": {
     "duration": 0.047401,
     "end_time": "2022-03-23T15:26:06.638767",
     "exception": false,
     "start_time": "2022-03-23T15:26:06.591366",
     "status": "completed"
    },
    "tags": []
   },
   "outputs": [],
   "source": [
    "required_parameters = {\n",
    "    \"experiment_name\",\n",
    "    \"lr\",\n",
    "    \"device\",\n",
    "    \"seed\",\n",
    "    \"dataset_seed\",\n",
    "    \"n_shot\",\n",
    "    \"n_query\",\n",
    "    \"n_way\",\n",
    "    \"train_k_factor\",\n",
    "    \"val_k_factor\",\n",
    "    \"test_k_factor\",\n",
    "    \"n_epoch\",\n",
    "    \"patience\",\n",
    "    \"criteria_for_best\",\n",
    "    \"x_net\",\n",
    "    \"datasets\",\n",
    "    \"torch_default_dtype\",\n",
    "    \"NUM_LOGS_PER_EPOCH\",\n",
    "    \"BEST_MODEL_PATH\",\n",
    "    \"x_shape\",\n",
    "}"
   ]
  },
  {
   "cell_type": "code",
   "execution_count": 3,
   "id": "fa3f0049",
   "metadata": {
    "execution": {
     "iopub.execute_input": "2022-03-23T15:26:06.698513Z",
     "iopub.status.busy": "2022-03-23T15:26:06.697549Z",
     "iopub.status.idle": "2022-03-23T15:26:06.719588Z",
     "shell.execute_reply": "2022-03-23T15:26:06.718788Z"
    },
    "papermill": {
     "duration": 0.055565,
     "end_time": "2022-03-23T15:26:06.719765",
     "exception": false,
     "start_time": "2022-03-23T15:26:06.664200",
     "status": "completed"
    },
    "tags": [
     "parameters"
    ]
   },
   "outputs": [],
   "source": [
    "from steves_utils.CORES.utils import (\n",
    "    ALL_NODES,\n",
    "    ALL_NODES_MINIMUM_1000_EXAMPLES,\n",
    "    ALL_DAYS\n",
    ")\n",
    "\n",
    "from steves_utils.ORACLE.utils_v2 import (\n",
    "    ALL_DISTANCES_FEET_NARROWED,\n",
    "    ALL_RUNS,\n",
    "    ALL_SERIAL_NUMBERS,\n",
    ")\n",
    "\n",
    "standalone_parameters = {}\n",
    "standalone_parameters[\"experiment_name\"] = \"STANDALONE PTN\"\n",
    "standalone_parameters[\"lr\"] = 0.001\n",
    "standalone_parameters[\"device\"] = \"cuda\"\n",
    "\n",
    "standalone_parameters[\"seed\"] = 1337\n",
    "standalone_parameters[\"dataset_seed\"] = 1337\n",
    "\n",
    "standalone_parameters[\"n_way\"] = 8\n",
    "standalone_parameters[\"n_shot\"] = 3\n",
    "standalone_parameters[\"n_query\"]  = 2\n",
    "standalone_parameters[\"train_k_factor\"] = 1\n",
    "standalone_parameters[\"val_k_factor\"] = 2\n",
    "standalone_parameters[\"test_k_factor\"] = 2\n",
    "\n",
    "\n",
    "standalone_parameters[\"n_epoch\"] = 50\n",
    "\n",
    "standalone_parameters[\"patience\"] = 10\n",
    "standalone_parameters[\"criteria_for_best\"] = \"source_loss\"\n",
    "\n",
    "standalone_parameters[\"datasets\"] = [\n",
    "    {\n",
    "        \"labels\": ALL_SERIAL_NUMBERS,\n",
    "        \"domains\": ALL_DISTANCES_FEET_NARROWED,\n",
    "        \"num_examples_per_domain_per_label\": 100,\n",
    "        \"pickle_path\": os.path.join(get_datasets_base_path(), \"oracle.Run1_framed_2000Examples_stratified_ds.2022A.pkl\"),\n",
    "        \"source_or_target_dataset\": \"source\",\n",
    "        \"x_transforms\": [\"unit_mag\", \"minus_two\"],\n",
    "        \"episode_transforms\": [],\n",
    "        \"domain_prefix\": \"ORACLE_\"\n",
    "    },\n",
    "    {\n",
    "        \"labels\": ALL_NODES,\n",
    "        \"domains\": ALL_DAYS,\n",
    "        \"num_examples_per_domain_per_label\": 100,\n",
    "        \"pickle_path\": os.path.join(get_datasets_base_path(), \"cores.stratified_ds.2022A.pkl\"),\n",
    "        \"source_or_target_dataset\": \"target\",\n",
    "        \"x_transforms\": [\"unit_power\", \"times_zero\"],\n",
    "        \"episode_transforms\": [],\n",
    "        \"domain_prefix\": \"CORES_\"\n",
    "    }   \n",
    "]\n",
    "\n",
    "standalone_parameters[\"torch_default_dtype\"] = \"torch.float32\" \n",
    "\n",
    "\n",
    "\n",
    "standalone_parameters[\"x_net\"] =     [\n",
    "    {\"class\": \"nnReshape\", \"kargs\": {\"shape\":[-1, 1, 2, 256]}},\n",
    "    {\"class\": \"Conv2d\", \"kargs\": { \"in_channels\":1, \"out_channels\":256, \"kernel_size\":(1,7), \"bias\":False, \"padding\":(0,3), },},\n",
    "    {\"class\": \"ReLU\", \"kargs\": {\"inplace\": True}},\n",
    "    {\"class\": \"BatchNorm2d\", \"kargs\": {\"num_features\":256}},\n",
    "\n",
    "    {\"class\": \"Conv2d\", \"kargs\": { \"in_channels\":256, \"out_channels\":80, \"kernel_size\":(2,7), \"bias\":True, \"padding\":(0,3), },},\n",
    "    {\"class\": \"ReLU\", \"kargs\": {\"inplace\": True}},\n",
    "    {\"class\": \"BatchNorm2d\", \"kargs\": {\"num_features\":80}},\n",
    "    {\"class\": \"Flatten\", \"kargs\": {}},\n",
    "\n",
    "    {\"class\": \"Linear\", \"kargs\": {\"in_features\": 80*256, \"out_features\": 256}}, # 80 units per IQ pair\n",
    "    {\"class\": \"ReLU\", \"kargs\": {\"inplace\": True}},\n",
    "    {\"class\": \"BatchNorm1d\", \"kargs\": {\"num_features\":256}},\n",
    "\n",
    "    {\"class\": \"Linear\", \"kargs\": {\"in_features\": 256, \"out_features\": 256}},\n",
    "]\n",
    "\n",
    "# Parameters relevant to results\n",
    "# These parameters will basically never need to change\n",
    "standalone_parameters[\"NUM_LOGS_PER_EPOCH\"] = 10\n",
    "standalone_parameters[\"BEST_MODEL_PATH\"] = \"./best_model.pth\"\n",
    "\n",
    "\n",
    "\n",
    "\n"
   ]
  },
  {
   "cell_type": "code",
   "execution_count": 4,
   "id": "f076b8ae",
   "metadata": {
    "execution": {
     "iopub.execute_input": "2022-03-23T15:26:06.780383Z",
     "iopub.status.busy": "2022-03-23T15:26:06.768362Z",
     "iopub.status.idle": "2022-03-23T15:26:06.801545Z",
     "shell.execute_reply": "2022-03-23T15:26:06.800730Z"
    },
    "papermill": {
     "duration": 0.054901,
     "end_time": "2022-03-23T15:26:06.801713",
     "exception": false,
     "start_time": "2022-03-23T15:26:06.746812",
     "status": "completed"
    },
    "tags": [
     "injected-parameters"
    ]
   },
   "outputs": [],
   "source": [
    "# Parameters\n",
    "parameters = {\n",
    "    \"experiment_name\": \"tl_1v2:cores-oracle.run1\",\n",
    "    \"device\": \"cuda\",\n",
    "    \"lr\": 0.0001,\n",
    "    \"n_shot\": 3,\n",
    "    \"n_query\": 2,\n",
    "    \"train_k_factor\": 3,\n",
    "    \"val_k_factor\": 2,\n",
    "    \"test_k_factor\": 2,\n",
    "    \"torch_default_dtype\": \"torch.float32\",\n",
    "    \"n_epoch\": 50,\n",
    "    \"patience\": 3,\n",
    "    \"criteria_for_best\": \"target_accuracy\",\n",
    "    \"x_net\": [\n",
    "        {\"class\": \"nnReshape\", \"kargs\": {\"shape\": [-1, 1, 2, 256]}},\n",
    "        {\n",
    "            \"class\": \"Conv2d\",\n",
    "            \"kargs\": {\n",
    "                \"in_channels\": 1,\n",
    "                \"out_channels\": 256,\n",
    "                \"kernel_size\": [1, 7],\n",
    "                \"bias\": False,\n",
    "                \"padding\": [0, 3],\n",
    "            },\n",
    "        },\n",
    "        {\"class\": \"ReLU\", \"kargs\": {\"inplace\": True}},\n",
    "        {\"class\": \"BatchNorm2d\", \"kargs\": {\"num_features\": 256}},\n",
    "        {\n",
    "            \"class\": \"Conv2d\",\n",
    "            \"kargs\": {\n",
    "                \"in_channels\": 256,\n",
    "                \"out_channels\": 80,\n",
    "                \"kernel_size\": [2, 7],\n",
    "                \"bias\": True,\n",
    "                \"padding\": [0, 3],\n",
    "            },\n",
    "        },\n",
    "        {\"class\": \"ReLU\", \"kargs\": {\"inplace\": True}},\n",
    "        {\"class\": \"BatchNorm2d\", \"kargs\": {\"num_features\": 80}},\n",
    "        {\"class\": \"Flatten\", \"kargs\": {}},\n",
    "        {\"class\": \"Linear\", \"kargs\": {\"in_features\": 20480, \"out_features\": 256}},\n",
    "        {\"class\": \"ReLU\", \"kargs\": {\"inplace\": True}},\n",
    "        {\"class\": \"BatchNorm1d\", \"kargs\": {\"num_features\": 256}},\n",
    "        {\"class\": \"Linear\", \"kargs\": {\"in_features\": 256, \"out_features\": 256}},\n",
    "    ],\n",
    "    \"NUM_LOGS_PER_EPOCH\": 10,\n",
    "    \"BEST_MODEL_PATH\": \"./best_model.pth\",\n",
    "    \"n_way\": 16,\n",
    "    \"datasets\": [\n",
    "        {\n",
    "            \"labels\": [\n",
    "                \"1-10.\",\n",
    "                \"1-11.\",\n",
    "                \"1-15.\",\n",
    "                \"1-16.\",\n",
    "                \"1-17.\",\n",
    "                \"1-18.\",\n",
    "                \"1-19.\",\n",
    "                \"10-4.\",\n",
    "                \"10-7.\",\n",
    "                \"11-1.\",\n",
    "                \"11-14.\",\n",
    "                \"11-17.\",\n",
    "                \"11-20.\",\n",
    "                \"11-7.\",\n",
    "                \"13-20.\",\n",
    "                \"13-8.\",\n",
    "                \"14-10.\",\n",
    "                \"14-11.\",\n",
    "                \"14-14.\",\n",
    "                \"14-7.\",\n",
    "                \"15-1.\",\n",
    "                \"15-20.\",\n",
    "                \"16-1.\",\n",
    "                \"16-16.\",\n",
    "                \"17-10.\",\n",
    "                \"17-11.\",\n",
    "                \"17-2.\",\n",
    "                \"19-1.\",\n",
    "                \"19-16.\",\n",
    "                \"19-19.\",\n",
    "                \"19-20.\",\n",
    "                \"19-3.\",\n",
    "                \"2-10.\",\n",
    "                \"2-11.\",\n",
    "                \"2-17.\",\n",
    "                \"2-18.\",\n",
    "                \"2-20.\",\n",
    "                \"2-3.\",\n",
    "                \"2-4.\",\n",
    "                \"2-5.\",\n",
    "                \"2-6.\",\n",
    "                \"2-7.\",\n",
    "                \"2-8.\",\n",
    "                \"3-13.\",\n",
    "                \"3-18.\",\n",
    "                \"3-3.\",\n",
    "                \"4-1.\",\n",
    "                \"4-10.\",\n",
    "                \"4-11.\",\n",
    "                \"4-19.\",\n",
    "                \"5-5.\",\n",
    "                \"6-15.\",\n",
    "                \"7-10.\",\n",
    "                \"7-14.\",\n",
    "                \"8-18.\",\n",
    "                \"8-20.\",\n",
    "                \"8-3.\",\n",
    "                \"8-8.\",\n",
    "            ],\n",
    "            \"domains\": [1, 2, 3, 4, 5],\n",
    "            \"num_examples_per_domain_per_label\": -1,\n",
    "            \"pickle_path\": \"/root/csc500-main/datasets/cores.stratified_ds.2022A.pkl\",\n",
    "            \"source_or_target_dataset\": \"target\",\n",
    "            \"x_transforms\": [],\n",
    "            \"episode_transforms\": [],\n",
    "            \"domain_prefix\": \"CORES_\",\n",
    "        },\n",
    "        {\n",
    "            \"labels\": [\n",
    "                \"3123D52\",\n",
    "                \"3123D65\",\n",
    "                \"3123D79\",\n",
    "                \"3123D80\",\n",
    "                \"3123D54\",\n",
    "                \"3123D70\",\n",
    "                \"3123D7B\",\n",
    "                \"3123D89\",\n",
    "                \"3123D58\",\n",
    "                \"3123D76\",\n",
    "                \"3123D7D\",\n",
    "                \"3123EFE\",\n",
    "                \"3123D64\",\n",
    "                \"3123D78\",\n",
    "                \"3123D7E\",\n",
    "                \"3124E4A\",\n",
    "            ],\n",
    "            \"domains\": [32, 38, 8, 44, 14, 50, 20, 26],\n",
    "            \"num_examples_per_domain_per_label\": 10000,\n",
    "            \"pickle_path\": \"/root/csc500-main/datasets/oracle.Run1_10kExamples_stratified_ds.2022A.pkl\",\n",
    "            \"source_or_target_dataset\": \"source\",\n",
    "            \"x_transforms\": [],\n",
    "            \"episode_transforms\": [],\n",
    "            \"domain_prefix\": \"ORACLE.run1_\",\n",
    "        },\n",
    "    ],\n",
    "    \"dataset_seed\": 500,\n",
    "    \"seed\": 500,\n",
    "}\n"
   ]
  },
  {
   "cell_type": "code",
   "execution_count": 5,
   "id": "8fa1cc33",
   "metadata": {
    "execution": {
     "iopub.execute_input": "2022-03-23T15:26:06.857288Z",
     "iopub.status.busy": "2022-03-23T15:26:06.850514Z",
     "iopub.status.idle": "2022-03-23T15:26:06.872841Z",
     "shell.execute_reply": "2022-03-23T15:26:06.872040Z"
    },
    "papermill": {
     "duration": 0.04673,
     "end_time": "2022-03-23T15:26:06.872992",
     "exception": false,
     "start_time": "2022-03-23T15:26:06.826262",
     "status": "completed"
    },
    "tags": []
   },
   "outputs": [],
   "source": [
    "# Set this to True if you want to run this template directly\n",
    "STANDALONE = False\n",
    "if STANDALONE:\n",
    "    print(\"parameters not injected, running with standalone_parameters\")\n",
    "    parameters = standalone_parameters\n",
    "\n",
    "if not 'parameters' in locals() and not 'parameters' in globals():\n",
    "    raise Exception(\"Parameter injection failed\")\n",
    "\n",
    "#Use an easy dict for all the parameters\n",
    "p = EasyDict(parameters)\n",
    "\n",
    "if \"x_shape\" not in p:\n",
    "    p.x_shape = [2,256] # Default to this if we dont supply x_shape\n",
    "\n",
    "\n",
    "supplied_keys = set(p.keys())\n",
    "\n",
    "if  supplied_keys != required_parameters:\n",
    "    print(\"Parameters are incorrect\")\n",
    "    if len(supplied_keys - required_parameters)>0: print(\"Shouldn't have:\", str(supplied_keys - required_parameters))\n",
    "    if len(required_parameters - supplied_keys)>0: print(\"Need to have:\", str(required_parameters - supplied_keys))\n",
    "    raise RuntimeError(\"Parameters are incorrect\")"
   ]
  },
  {
   "cell_type": "code",
   "execution_count": 6,
   "id": "3a028d58",
   "metadata": {
    "execution": {
     "iopub.execute_input": "2022-03-23T15:26:06.924635Z",
     "iopub.status.busy": "2022-03-23T15:26:06.923756Z",
     "iopub.status.idle": "2022-03-23T15:26:06.947890Z",
     "shell.execute_reply": "2022-03-23T15:26:06.947050Z"
    },
    "papermill": {
     "duration": 0.047156,
     "end_time": "2022-03-23T15:26:06.948044",
     "exception": false,
     "start_time": "2022-03-23T15:26:06.900888",
     "status": "completed"
    },
    "tags": []
   },
   "outputs": [],
   "source": [
    "###################################\n",
    "# Set the RNGs and make it all deterministic\n",
    "###################################\n",
    "np.random.seed(p.seed)\n",
    "random.seed(p.seed)\n",
    "torch.manual_seed(p.seed)\n",
    "\n",
    "torch.use_deterministic_algorithms(True) "
   ]
  },
  {
   "cell_type": "code",
   "execution_count": 7,
   "id": "b691acf6",
   "metadata": {
    "execution": {
     "iopub.execute_input": "2022-03-23T15:26:06.997515Z",
     "iopub.status.busy": "2022-03-23T15:26:06.995408Z",
     "iopub.status.idle": "2022-03-23T15:26:07.021348Z",
     "shell.execute_reply": "2022-03-23T15:26:07.020534Z"
    },
    "papermill": {
     "duration": 0.047573,
     "end_time": "2022-03-23T15:26:07.021502",
     "exception": false,
     "start_time": "2022-03-23T15:26:06.973929",
     "status": "completed"
    },
    "tags": []
   },
   "outputs": [],
   "source": [
    "###########################################\n",
    "# The stratified datasets honor this\n",
    "###########################################\n",
    "torch.set_default_dtype(eval(p.torch_default_dtype))"
   ]
  },
  {
   "cell_type": "code",
   "execution_count": 8,
   "id": "b5fba671",
   "metadata": {
    "execution": {
     "iopub.execute_input": "2022-03-23T15:26:07.072155Z",
     "iopub.status.busy": "2022-03-23T15:26:07.071782Z",
     "iopub.status.idle": "2022-03-23T15:26:07.151218Z",
     "shell.execute_reply": "2022-03-23T15:26:07.150386Z"
    },
    "papermill": {
     "duration": 0.102839,
     "end_time": "2022-03-23T15:26:07.151416",
     "exception": false,
     "start_time": "2022-03-23T15:26:07.048577",
     "status": "completed"
    },
    "tags": []
   },
   "outputs": [],
   "source": [
    "###################################\n",
    "# Build the network(s)\n",
    "# Note: It's critical to do this AFTER setting the RNG\n",
    "###################################\n",
    "x_net = build_sequential(p.x_net)"
   ]
  },
  {
   "cell_type": "code",
   "execution_count": 9,
   "id": "5d7e61cc",
   "metadata": {
    "execution": {
     "iopub.execute_input": "2022-03-23T15:26:07.199577Z",
     "iopub.status.busy": "2022-03-23T15:26:07.199034Z",
     "iopub.status.idle": "2022-03-23T15:26:07.221047Z",
     "shell.execute_reply": "2022-03-23T15:26:07.220236Z"
    },
    "papermill": {
     "duration": 0.044905,
     "end_time": "2022-03-23T15:26:07.221203",
     "exception": false,
     "start_time": "2022-03-23T15:26:07.176298",
     "status": "completed"
    },
    "tags": []
   },
   "outputs": [],
   "source": [
    "start_time_secs = time.time()"
   ]
  },
  {
   "cell_type": "code",
   "execution_count": 10,
   "id": "c6b67dfd",
   "metadata": {
    "execution": {
     "iopub.execute_input": "2022-03-23T15:26:07.274886Z",
     "iopub.status.busy": "2022-03-23T15:26:07.273614Z",
     "iopub.status.idle": "2022-03-23T15:26:07.298485Z",
     "shell.execute_reply": "2022-03-23T15:26:07.299158Z"
    },
    "papermill": {
     "duration": 0.050586,
     "end_time": "2022-03-23T15:26:07.299336",
     "exception": false,
     "start_time": "2022-03-23T15:26:07.248750",
     "status": "completed"
    },
    "tags": []
   },
   "outputs": [],
   "source": [
    "p.domains_source = []\n",
    "p.domains_target = []\n",
    "\n",
    "\n",
    "train_original_source = []\n",
    "val_original_source   = []\n",
    "test_original_source  = []\n",
    "\n",
    "train_original_target = []\n",
    "val_original_target   = []\n",
    "test_original_target  = []"
   ]
  },
  {
   "cell_type": "code",
   "execution_count": 11,
   "id": "e3d9c3d3",
   "metadata": {
    "execution": {
     "iopub.execute_input": "2022-03-23T15:26:07.347183Z",
     "iopub.status.busy": "2022-03-23T15:26:07.346090Z",
     "iopub.status.idle": "2022-03-23T15:26:07.370393Z",
     "shell.execute_reply": "2022-03-23T15:26:07.369588Z"
    },
    "papermill": {
     "duration": 0.046753,
     "end_time": "2022-03-23T15:26:07.370545",
     "exception": false,
     "start_time": "2022-03-23T15:26:07.323792",
     "status": "completed"
    },
    "tags": []
   },
   "outputs": [],
   "source": [
    "# global_x_transform_func = lambda x: normalize(x.to(torch.get_default_dtype()), \"unit_power\") # unit_power, unit_mag\n",
    "# global_x_transform_func = lambda x: normalize(x, \"unit_power\") # unit_power, unit_mag"
   ]
  },
  {
   "cell_type": "code",
   "execution_count": 12,
   "id": "acb78fd2",
   "metadata": {
    "execution": {
     "iopub.execute_input": "2022-03-23T15:26:07.424562Z",
     "iopub.status.busy": "2022-03-23T15:26:07.422451Z",
     "iopub.status.idle": "2022-03-23T15:26:07.447224Z",
     "shell.execute_reply": "2022-03-23T15:26:07.446384Z"
    },
    "papermill": {
     "duration": 0.052028,
     "end_time": "2022-03-23T15:26:07.447386",
     "exception": false,
     "start_time": "2022-03-23T15:26:07.395358",
     "status": "completed"
    },
    "tags": []
   },
   "outputs": [],
   "source": [
    "def add_dataset(\n",
    "    labels,\n",
    "    domains,\n",
    "    pickle_path,\n",
    "    x_transforms,\n",
    "    episode_transforms,\n",
    "    domain_prefix,\n",
    "    num_examples_per_domain_per_label,\n",
    "    source_or_target_dataset:str,\n",
    "    iterator_seed=p.seed,\n",
    "    dataset_seed=p.dataset_seed,\n",
    "    n_shot=p.n_shot,\n",
    "    n_way=p.n_way,\n",
    "    n_query=p.n_query,\n",
    "    train_val_test_k_factors=(p.train_k_factor,p.val_k_factor,p.test_k_factor),\n",
    "):\n",
    "   \n",
    "    if x_transforms == []: x_transform = None\n",
    "    else: x_transform = get_chained_transform(x_transforms)\n",
    "    \n",
    "    if episode_transforms == []: episode_transform = None\n",
    "    else: raise Exception(\"episode_transforms not implemented\")\n",
    "    \n",
    "    episode_transform = lambda tup, _prefix=domain_prefix: (_prefix + str(tup[0]), tup[1])\n",
    "\n",
    "\n",
    "    eaf = Episodic_Accessor_Factory(\n",
    "        labels=labels,\n",
    "        domains=domains,\n",
    "        num_examples_per_domain_per_label=num_examples_per_domain_per_label,\n",
    "        iterator_seed=iterator_seed,\n",
    "        dataset_seed=dataset_seed,\n",
    "        n_shot=n_shot,\n",
    "        n_way=n_way,\n",
    "        n_query=n_query,\n",
    "        train_val_test_k_factors=train_val_test_k_factors,\n",
    "        pickle_path=pickle_path,\n",
    "        x_transform_func=x_transform,\n",
    "    )\n",
    "\n",
    "    train, val, test = eaf.get_train(), eaf.get_val(), eaf.get_test()\n",
    "    train = Lazy_Iterable_Wrapper(train, episode_transform)\n",
    "    val = Lazy_Iterable_Wrapper(val, episode_transform)\n",
    "    test = Lazy_Iterable_Wrapper(test, episode_transform)\n",
    "\n",
    "    if source_or_target_dataset==\"source\":\n",
    "        train_original_source.append(train)\n",
    "        val_original_source.append(val)\n",
    "        test_original_source.append(test)\n",
    "\n",
    "        p.domains_source.extend(\n",
    "            [domain_prefix + str(u) for u in domains]\n",
    "        )\n",
    "    elif source_or_target_dataset==\"target\":\n",
    "        train_original_target.append(train)\n",
    "        val_original_target.append(val)\n",
    "        test_original_target.append(test)\n",
    "        p.domains_target.extend(\n",
    "            [domain_prefix + str(u) for u in domains]\n",
    "        )\n",
    "    else:\n",
    "        raise Exception(f\"invalid source_or_target_dataset: {source_or_target_dataset}\")\n",
    "    "
   ]
  },
  {
   "cell_type": "code",
   "execution_count": 13,
   "id": "fe266617",
   "metadata": {
    "execution": {
     "iopub.execute_input": "2022-03-23T15:26:07.497475Z",
     "iopub.status.busy": "2022-03-23T15:26:07.496897Z",
     "iopub.status.idle": "2022-03-23T15:26:17.628371Z",
     "shell.execute_reply": "2022-03-23T15:26:17.627579Z"
    },
    "papermill": {
     "duration": 10.155806,
     "end_time": "2022-03-23T15:26:17.628557",
     "exception": false,
     "start_time": "2022-03-23T15:26:07.472751",
     "status": "completed"
    },
    "tags": []
   },
   "outputs": [],
   "source": [
    "for ds in p.datasets:\n",
    "    add_dataset(**ds)"
   ]
  },
  {
   "cell_type": "code",
   "execution_count": 14,
   "id": "b90d65ac",
   "metadata": {
    "execution": {
     "iopub.execute_input": "2022-03-23T15:26:17.677870Z",
     "iopub.status.busy": "2022-03-23T15:26:17.677489Z",
     "iopub.status.idle": "2022-03-23T15:26:17.699738Z",
     "shell.execute_reply": "2022-03-23T15:26:17.698985Z"
    },
    "papermill": {
     "duration": 0.044457,
     "end_time": "2022-03-23T15:26:17.699895",
     "exception": false,
     "start_time": "2022-03-23T15:26:17.655438",
     "status": "completed"
    },
    "tags": []
   },
   "outputs": [],
   "source": [
    "# from steves_utils.CORES.utils import (\n",
    "#     ALL_NODES,\n",
    "#     ALL_NODES_MINIMUM_1000_EXAMPLES,\n",
    "#     ALL_DAYS\n",
    "# )\n",
    "\n",
    "# add_dataset(\n",
    "#     labels=ALL_NODES,\n",
    "#     domains = ALL_DAYS,\n",
    "#     num_examples_per_domain_per_label=100,\n",
    "#     pickle_path=os.path.join(get_datasets_base_path(), \"cores.stratified_ds.2022A.pkl\"),\n",
    "#     source_or_target_dataset=\"target\",\n",
    "#     x_transform_func=global_x_transform_func,\n",
    "#     domain_modifier=lambda u: f\"cores_{u}\"\n",
    "# )"
   ]
  },
  {
   "cell_type": "code",
   "execution_count": 15,
   "id": "76db484d",
   "metadata": {
    "execution": {
     "iopub.execute_input": "2022-03-23T15:26:17.749245Z",
     "iopub.status.busy": "2022-03-23T15:26:17.748868Z",
     "iopub.status.idle": "2022-03-23T15:26:17.769977Z",
     "shell.execute_reply": "2022-03-23T15:26:17.769261Z"
    },
    "papermill": {
     "duration": 0.043056,
     "end_time": "2022-03-23T15:26:17.770136",
     "exception": false,
     "start_time": "2022-03-23T15:26:17.727080",
     "status": "completed"
    },
    "tags": []
   },
   "outputs": [],
   "source": [
    "# from steves_utils.ORACLE.utils_v2 import (\n",
    "#     ALL_DISTANCES_FEET,\n",
    "#     ALL_RUNS,\n",
    "#     ALL_SERIAL_NUMBERS,\n",
    "# )\n",
    "\n",
    "\n",
    "# add_dataset(\n",
    "#     labels=ALL_SERIAL_NUMBERS,\n",
    "#     domains = list(set(ALL_DISTANCES_FEET) - {2,62}),\n",
    "#     num_examples_per_domain_per_label=100,\n",
    "#     pickle_path=os.path.join(get_datasets_base_path(), \"oracle.Run2_framed_2000Examples_stratified_ds.2022A.pkl\"),\n",
    "#     source_or_target_dataset=\"source\",\n",
    "#     x_transform_func=global_x_transform_func,\n",
    "#     domain_modifier=lambda u: f\"oracle1_{u}\"\n",
    "# )\n"
   ]
  },
  {
   "cell_type": "code",
   "execution_count": 16,
   "id": "97dea9d2",
   "metadata": {
    "execution": {
     "iopub.execute_input": "2022-03-23T15:26:17.817730Z",
     "iopub.status.busy": "2022-03-23T15:26:17.817359Z",
     "iopub.status.idle": "2022-03-23T15:26:17.834010Z",
     "shell.execute_reply": "2022-03-23T15:26:17.833302Z"
    },
    "papermill": {
     "duration": 0.038752,
     "end_time": "2022-03-23T15:26:17.834164",
     "exception": false,
     "start_time": "2022-03-23T15:26:17.795412",
     "status": "completed"
    },
    "tags": []
   },
   "outputs": [],
   "source": [
    "# from steves_utils.ORACLE.utils_v2 import (\n",
    "#     ALL_DISTANCES_FEET,\n",
    "#     ALL_RUNS,\n",
    "#     ALL_SERIAL_NUMBERS,\n",
    "# )\n",
    "\n",
    "\n",
    "# add_dataset(\n",
    "#     labels=ALL_SERIAL_NUMBERS,\n",
    "#     domains = list(set(ALL_DISTANCES_FEET) - {2,62,56}),\n",
    "#     num_examples_per_domain_per_label=100,\n",
    "#     pickle_path=os.path.join(get_datasets_base_path(), \"oracle.Run2_framed_2000Examples_stratified_ds.2022A.pkl\"),\n",
    "#     source_or_target_dataset=\"source\",\n",
    "#     x_transform_func=global_x_transform_func,\n",
    "#     domain_modifier=lambda u: f\"oracle2_{u}\"\n",
    "# )"
   ]
  },
  {
   "cell_type": "code",
   "execution_count": 17,
   "id": "6f289866",
   "metadata": {
    "execution": {
     "iopub.execute_input": "2022-03-23T15:26:17.882575Z",
     "iopub.status.busy": "2022-03-23T15:26:17.882205Z",
     "iopub.status.idle": "2022-03-23T15:26:17.903710Z",
     "shell.execute_reply": "2022-03-23T15:26:17.902929Z"
    },
    "papermill": {
     "duration": 0.043912,
     "end_time": "2022-03-23T15:26:17.903864",
     "exception": false,
     "start_time": "2022-03-23T15:26:17.859952",
     "status": "completed"
    },
    "tags": []
   },
   "outputs": [],
   "source": [
    "# add_dataset(\n",
    "#     labels=list(range(19)),\n",
    "#     domains = [0,1,2],\n",
    "#     num_examples_per_domain_per_label=100,\n",
    "#     pickle_path=os.path.join(get_datasets_base_path(), \"metehan.stratified_ds.2022A.pkl\"),\n",
    "#     source_or_target_dataset=\"target\",\n",
    "#     x_transform_func=global_x_transform_func,\n",
    "#     domain_modifier=lambda u: f\"met_{u}\"\n",
    "# )"
   ]
  },
  {
   "cell_type": "code",
   "execution_count": 18,
   "id": "86a863c3",
   "metadata": {
    "execution": {
     "iopub.execute_input": "2022-03-23T15:26:17.953464Z",
     "iopub.status.busy": "2022-03-23T15:26:17.953095Z",
     "iopub.status.idle": "2022-03-23T15:26:17.972927Z",
     "shell.execute_reply": "2022-03-23T15:26:17.972223Z"
    },
    "papermill": {
     "duration": 0.042191,
     "end_time": "2022-03-23T15:26:17.973078",
     "exception": false,
     "start_time": "2022-03-23T15:26:17.930887",
     "status": "completed"
    },
    "tags": []
   },
   "outputs": [],
   "source": [
    "# # from steves_utils.wisig.utils import (\n",
    "# #     ALL_NODES_MINIMUM_100_EXAMPLES,\n",
    "# #     ALL_NODES_MINIMUM_500_EXAMPLES,\n",
    "# #     ALL_NODES_MINIMUM_1000_EXAMPLES,\n",
    "# #     ALL_DAYS\n",
    "# # )\n",
    "\n",
    "# import steves_utils.wisig.utils as wisig\n",
    "\n",
    "\n",
    "# add_dataset(\n",
    "#     labels=wisig.ALL_NODES_MINIMUM_100_EXAMPLES,\n",
    "#     domains = wisig.ALL_DAYS,\n",
    "#     num_examples_per_domain_per_label=100,\n",
    "#     pickle_path=os.path.join(get_datasets_base_path(), \"wisig.node3-19.stratified_ds.2022A.pkl\"),\n",
    "#     source_or_target_dataset=\"target\",\n",
    "#     x_transform_func=global_x_transform_func,\n",
    "#     domain_modifier=lambda u: f\"wisig_{u}\"\n",
    "# )"
   ]
  },
  {
   "cell_type": "code",
   "execution_count": 19,
   "id": "fd5442bc",
   "metadata": {
    "execution": {
     "iopub.execute_input": "2022-03-23T15:26:18.037083Z",
     "iopub.status.busy": "2022-03-23T15:26:18.036584Z",
     "iopub.status.idle": "2022-03-23T15:26:18.138315Z",
     "shell.execute_reply": "2022-03-23T15:26:18.138984Z"
    },
    "papermill": {
     "duration": 0.139809,
     "end_time": "2022-03-23T15:26:18.139161",
     "exception": false,
     "start_time": "2022-03-23T15:26:17.999352",
     "status": "completed"
    },
    "tags": []
   },
   "outputs": [],
   "source": [
    "###################################\n",
    "# Build the dataset\n",
    "###################################\n",
    "train_original_source = Iterable_Aggregator(train_original_source, p.seed)\n",
    "val_original_source = Iterable_Aggregator(val_original_source, p.seed)\n",
    "test_original_source = Iterable_Aggregator(test_original_source, p.seed)\n",
    "\n",
    "\n",
    "train_original_target = Iterable_Aggregator(train_original_target, p.seed)\n",
    "val_original_target = Iterable_Aggregator(val_original_target, p.seed)\n",
    "test_original_target = Iterable_Aggregator(test_original_target, p.seed)\n",
    "\n",
    "# For CNN We only use X and Y. And we only train on the source.\n",
    "# Properly form the data using a transform lambda and Lazy_Iterable_Wrapper. Finally wrap them in a dataloader\n",
    "\n",
    "transform_lambda = lambda ex: ex[1] # Original is (<domain>, <episode>) so we strip down to episode only\n",
    "\n",
    "train_processed_source = Lazy_Iterable_Wrapper(train_original_source, transform_lambda)\n",
    "val_processed_source   = Lazy_Iterable_Wrapper(val_original_source, transform_lambda)\n",
    "test_processed_source  = Lazy_Iterable_Wrapper(test_original_source, transform_lambda)\n",
    "\n",
    "train_processed_target = Lazy_Iterable_Wrapper(train_original_target, transform_lambda)\n",
    "val_processed_target   = Lazy_Iterable_Wrapper(val_original_target, transform_lambda)\n",
    "test_processed_target  = Lazy_Iterable_Wrapper(test_original_target, transform_lambda)\n",
    "\n",
    "datasets = EasyDict({\n",
    "    \"source\": {\n",
    "        \"original\": {\"train\":train_original_source, \"val\":val_original_source, \"test\":test_original_source},\n",
    "        \"processed\": {\"train\":train_processed_source, \"val\":val_processed_source, \"test\":test_processed_source}\n",
    "    },\n",
    "    \"target\": {\n",
    "        \"original\": {\"train\":train_original_target, \"val\":val_original_target, \"test\":test_original_target},\n",
    "        \"processed\": {\"train\":train_processed_target, \"val\":val_processed_target, \"test\":test_processed_target}\n",
    "    },\n",
    "})"
   ]
  },
  {
   "cell_type": "code",
   "execution_count": 20,
   "id": "5b3c01fc",
   "metadata": {
    "execution": {
     "iopub.execute_input": "2022-03-23T15:26:18.189268Z",
     "iopub.status.busy": "2022-03-23T15:26:18.188697Z",
     "iopub.status.idle": "2022-03-23T15:26:51.708078Z",
     "shell.execute_reply": "2022-03-23T15:26:51.708918Z"
    },
    "papermill": {
     "duration": 33.54413,
     "end_time": "2022-03-23T15:26:51.709128",
     "exception": false,
     "start_time": "2022-03-23T15:26:18.164998",
     "status": "completed"
    },
    "tags": []
   },
   "outputs": [
    {
     "name": "stdout",
     "output_type": "stream",
     "text": [
      "{'ORACLE.run1_38', 'ORACLE.run1_44', 'ORACLE.run1_14', 'ORACLE.run1_50', 'ORACLE.run1_20', 'ORACLE.run1_32', 'ORACLE.run1_26', 'ORACLE.run1_8'}\n"
     ]
    },
    {
     "name": "stdout",
     "output_type": "stream",
     "text": [
      "{'CORES_3', 'CORES_4', 'CORES_1', 'CORES_5', 'CORES_2'}\n"
     ]
    },
    {
     "name": "stdout",
     "output_type": "stream",
     "text": [
      "tensor([[[-2.3499e-03,  7.0193e-04, -3.0519e-04,  ...,  1.5564e-03,\n",
      "          -1.2207e-04, -6.4089e-04],\n",
      "         [-6.4089e-04,  1.2513e-03,  9.1556e-05,  ...,  2.9298e-03,\n",
      "           5.1881e-04,  2.2279e-03]],\n",
      "\n",
      "        [[-9.1556e-05,  2.5636e-03, -2.7467e-04,  ..., -1.4649e-03,\n",
      "          -7.9348e-04,  1.1292e-03],\n",
      "         [ 7.0193e-04, -3.6012e-03, -2.1668e-03,  ...,  1.8311e-04,\n",
      "          -1.9532e-03,  1.4649e-03]],\n",
      "\n",
      "        [[ 5.7985e-04,  4.2726e-04, -3.3570e-04,  ...,  4.8830e-04,\n",
      "           3.0519e-04, -3.6622e-04],\n",
      "         [-1.9837e-03, -2.0753e-03,  1.0376e-03,  ...,  9.1556e-05,\n",
      "           3.9674e-04,  2.1363e-04]],\n",
      "\n",
      "        ...,\n",
      "\n",
      "        [[ 2.6246e-03, -3.6622e-04,  8.5452e-04,  ..., -2.0142e-03,\n",
      "          -2.4415e-04,  2.5025e-03],\n",
      "         [ 4.2726e-04,  3.5096e-03,  3.0519e-04,  ...,  7.0193e-04,\n",
      "          -1.0071e-03, -2.2584e-03]],\n",
      "\n",
      "        [[ 1.2818e-03, -1.4649e-03, -4.2726e-04,  ...,  6.1037e-04,\n",
      "           7.0193e-04,  2.1363e-04],\n",
      "         [ 8.8504e-04, -2.0753e-03,  1.3428e-03,  ..., -3.3570e-03,\n",
      "          -1.7701e-03,  2.1363e-04]],\n",
      "\n",
      "        [[ 1.6785e-03,  1.4039e-03, -1.2818e-03,  ...,  1.0376e-03,\n",
      "           1.0376e-03,  1.9532e-03],\n",
      "         [-1.8311e-04, -1.0071e-03, -6.1037e-04,  ...,  2.7467e-04,\n",
      "          -3.0519e-05, -8.5452e-04]]])\n"
     ]
    }
   ],
   "source": [
    "from steves_utils.transforms import get_average_magnitude, get_average_power\n",
    "\n",
    "print(set([u for u,_ in val_original_source]))\n",
    "print(set([u for u,_ in val_original_target]))\n",
    "\n",
    "s_x, s_y, q_x, q_y, _ = next(iter(train_processed_source))\n",
    "print(s_x)\n",
    "\n",
    "# for ds in [\n",
    "#     train_processed_source,\n",
    "#     val_processed_source,\n",
    "#     test_processed_source,\n",
    "#     train_processed_target,\n",
    "#     val_processed_target,\n",
    "#     test_processed_target\n",
    "# ]:\n",
    "#     for s_x, s_y, q_x, q_y, _ in ds:\n",
    "#         for X in (s_x, q_x):\n",
    "#             for x in X:\n",
    "#                 assert np.isclose(get_average_magnitude(x.numpy()), 1.0)\n",
    "#                 assert np.isclose(get_average_power(x.numpy()), 1.0)\n",
    "                "
   ]
  },
  {
   "cell_type": "code",
   "execution_count": 21,
   "id": "bbdacba1",
   "metadata": {
    "execution": {
     "iopub.execute_input": "2022-03-23T15:26:51.767840Z",
     "iopub.status.busy": "2022-03-23T15:26:51.767444Z",
     "iopub.status.idle": "2022-03-23T15:26:51.986200Z",
     "shell.execute_reply": "2022-03-23T15:26:51.986895Z"
    },
    "papermill": {
     "duration": 0.247585,
     "end_time": "2022-03-23T15:26:51.987130",
     "exception": false,
     "start_time": "2022-03-23T15:26:51.739545",
     "status": "completed"
    },
    "tags": []
   },
   "outputs": [
    {
     "name": "stdout",
     "output_type": "stream",
     "text": [
      "(2, 256)\n"
     ]
    }
   ],
   "source": [
    "###################################\n",
    "# Build the model\n",
    "###################################\n",
    "# easfsl only wants a tuple for the shape\n",
    "model = Steves_Prototypical_Network(x_net, device=p.device, x_shape=tuple(p.x_shape))\n",
    "optimizer = Adam(params=model.parameters(), lr=p.lr)"
   ]
  },
  {
   "cell_type": "code",
   "execution_count": 22,
   "id": "22b39ac5",
   "metadata": {
    "execution": {
     "iopub.execute_input": "2022-03-23T15:26:52.078556Z",
     "iopub.status.busy": "2022-03-23T15:26:52.078183Z",
     "iopub.status.idle": "2022-03-23T17:08:45.446252Z",
     "shell.execute_reply": "2022-03-23T17:08:45.445893Z"
    },
    "papermill": {
     "duration": 6113.39339,
     "end_time": "2022-03-23T17:08:45.446357",
     "exception": false,
     "start_time": "2022-03-23T15:26:52.052967",
     "status": "completed"
    },
    "tags": []
   },
   "outputs": [
    {
     "name": "stdout",
     "output_type": "stream",
     "text": [
      "epoch: 1, [batch: 1 / 33600], examples_per_second: 6.6707, train_label_loss: 2.7637, \n"
     ]
    },
    {
     "name": "stdout",
     "output_type": "stream",
     "text": [
      "epoch: 1, [batch: 3360 / 33600], examples_per_second: 3619.7926, train_label_loss: 1.2223, \n"
     ]
    },
    {
     "name": "stdout",
     "output_type": "stream",
     "text": [
      "epoch: 1, [batch: 6720 / 33600], examples_per_second: 3920.3474, train_label_loss: 0.7388, \n"
     ]
    },
    {
     "name": "stdout",
     "output_type": "stream",
     "text": [
      "epoch: 1, [batch: 10080 / 33600], examples_per_second: 3881.0146, train_label_loss: 0.9048, \n"
     ]
    },
    {
     "name": "stdout",
     "output_type": "stream",
     "text": [
      "epoch: 1, [batch: 13440 / 33600], examples_per_second: 3231.7496, train_label_loss: 0.6018, \n"
     ]
    },
    {
     "name": "stdout",
     "output_type": "stream",
     "text": [
      "epoch: 1, [batch: 16800 / 33600], examples_per_second: 2957.2472, train_label_loss: 0.3943, \n"
     ]
    },
    {
     "name": "stdout",
     "output_type": "stream",
     "text": [
      "epoch: 1, [batch: 20160 / 33600], examples_per_second: 3204.3594, train_label_loss: 0.5299, \n"
     ]
    },
    {
     "name": "stdout",
     "output_type": "stream",
     "text": [
      "epoch: 1, [batch: 23520 / 33600], examples_per_second: 3896.9064, train_label_loss: 0.5633, \n"
     ]
    },
    {
     "name": "stdout",
     "output_type": "stream",
     "text": [
      "epoch: 1, [batch: 26880 / 33600], examples_per_second: 3871.8703, train_label_loss: 0.4007, \n"
     ]
    },
    {
     "name": "stdout",
     "output_type": "stream",
     "text": [
      "epoch: 1, [batch: 30240 / 33600], examples_per_second: 3317.7412, train_label_loss: 0.2601, \n"
     ]
    },
    {
     "name": "stdout",
     "output_type": "stream",
     "text": [
      "=============================================================\n",
      "epoch: 1, source_val_acc_label: 0.7453, target_val_acc_label: 0.9550, source_val_label_loss: 1.4637, target_val_label_loss: 10.7813, \n",
      "=============================================================\n"
     ]
    },
    {
     "name": "stdout",
     "output_type": "stream",
     "text": [
      "New best\n"
     ]
    },
    {
     "name": "stdout",
     "output_type": "stream",
     "text": [
      "epoch: 2, [batch: 1 / 33600], examples_per_second: 0.8623, train_label_loss: 2.2524, \n"
     ]
    },
    {
     "name": "stdout",
     "output_type": "stream",
     "text": [
      "epoch: 2, [batch: 3360 / 33600], examples_per_second: 2979.2650, train_label_loss: 0.2933, \n"
     ]
    },
    {
     "name": "stdout",
     "output_type": "stream",
     "text": [
      "epoch: 2, [batch: 6720 / 33600], examples_per_second: 3005.1330, train_label_loss: 0.3323, \n"
     ]
    },
    {
     "name": "stdout",
     "output_type": "stream",
     "text": [
      "epoch: 2, [batch: 10080 / 33600], examples_per_second: 3417.4307, train_label_loss: 0.3229, \n"
     ]
    },
    {
     "name": "stdout",
     "output_type": "stream",
     "text": [
      "epoch: 2, [batch: 13440 / 33600], examples_per_second: 3215.9683, train_label_loss: 0.3633, \n"
     ]
    },
    {
     "name": "stdout",
     "output_type": "stream",
     "text": [
      "epoch: 2, [batch: 16800 / 33600], examples_per_second: 3014.1580, train_label_loss: 0.4331, \n"
     ]
    },
    {
     "name": "stdout",
     "output_type": "stream",
     "text": [
      "epoch: 2, [batch: 20160 / 33600], examples_per_second: 3210.2175, train_label_loss: 0.3014, \n"
     ]
    },
    {
     "name": "stdout",
     "output_type": "stream",
     "text": [
      "epoch: 2, [batch: 23520 / 33600], examples_per_second: 3446.4584, train_label_loss: 0.2271, \n"
     ]
    },
    {
     "name": "stdout",
     "output_type": "stream",
     "text": [
      "epoch: 2, [batch: 26880 / 33600], examples_per_second: 2999.9870, train_label_loss: 0.4247, \n"
     ]
    },
    {
     "name": "stdout",
     "output_type": "stream",
     "text": [
      "epoch: 2, [batch: 30240 / 33600], examples_per_second: 3156.0703, train_label_loss: 0.2568, \n"
     ]
    },
    {
     "name": "stdout",
     "output_type": "stream",
     "text": [
      "=============================================================\n",
      "epoch: 2, source_val_acc_label: 0.8551, target_val_acc_label: 0.9768, source_val_label_loss: 0.4031, target_val_label_loss: 1.8416, \n",
      "=============================================================\n"
     ]
    },
    {
     "name": "stdout",
     "output_type": "stream",
     "text": [
      "New best\n"
     ]
    },
    {
     "name": "stdout",
     "output_type": "stream",
     "text": [
      "epoch: 3, [batch: 1 / 33600], examples_per_second: 0.9055, train_label_loss: 0.2335, \n"
     ]
    },
    {
     "name": "stdout",
     "output_type": "stream",
     "text": [
      "epoch: 3, [batch: 3360 / 33600], examples_per_second: 3065.5174, train_label_loss: 0.4600, \n"
     ]
    },
    {
     "name": "stdout",
     "output_type": "stream",
     "text": [
      "epoch: 3, [batch: 6720 / 33600], examples_per_second: 3437.2248, train_label_loss: 0.6189, \n"
     ]
    },
    {
     "name": "stdout",
     "output_type": "stream",
     "text": [
      "epoch: 3, [batch: 10080 / 33600], examples_per_second: 3452.3082, train_label_loss: 0.3120, \n"
     ]
    },
    {
     "name": "stdout",
     "output_type": "stream",
     "text": [
      "epoch: 3, [batch: 13440 / 33600], examples_per_second: 3406.7378, train_label_loss: 0.3362, \n"
     ]
    },
    {
     "name": "stdout",
     "output_type": "stream",
     "text": [
      "epoch: 3, [batch: 16800 / 33600], examples_per_second: 3419.6670, train_label_loss: 0.4074, \n"
     ]
    },
    {
     "name": "stdout",
     "output_type": "stream",
     "text": [
      "epoch: 3, [batch: 20160 / 33600], examples_per_second: 3425.7028, train_label_loss: 0.2370, \n"
     ]
    },
    {
     "name": "stdout",
     "output_type": "stream",
     "text": [
      "epoch: 3, [batch: 23520 / 33600], examples_per_second: 3375.8089, train_label_loss: 0.3822, \n"
     ]
    },
    {
     "name": "stdout",
     "output_type": "stream",
     "text": [
      "epoch: 3, [batch: 26880 / 33600], examples_per_second: 3781.6021, train_label_loss: 0.4658, \n"
     ]
    },
    {
     "name": "stdout",
     "output_type": "stream",
     "text": [
      "epoch: 3, [batch: 30240 / 33600], examples_per_second: 4058.6600, train_label_loss: 0.5209, \n"
     ]
    },
    {
     "name": "stdout",
     "output_type": "stream",
     "text": [
      "=============================================================\n",
      "epoch: 3, source_val_acc_label: 0.8650, target_val_acc_label: 0.9820, source_val_label_loss: 0.3789, target_val_label_loss: 1.1684, \n",
      "=============================================================\n"
     ]
    },
    {
     "name": "stdout",
     "output_type": "stream",
     "text": [
      "New best\n"
     ]
    },
    {
     "name": "stdout",
     "output_type": "stream",
     "text": [
      "epoch: 4, [batch: 1 / 33600], examples_per_second: 1.1472, train_label_loss: 0.3204, \n"
     ]
    },
    {
     "name": "stdout",
     "output_type": "stream",
     "text": [
      "epoch: 4, [batch: 3360 / 33600], examples_per_second: 3922.6352, train_label_loss: 0.4918, \n"
     ]
    },
    {
     "name": "stdout",
     "output_type": "stream",
     "text": [
      "epoch: 4, [batch: 6720 / 33600], examples_per_second: 3911.1734, train_label_loss: 0.3114, \n"
     ]
    },
    {
     "name": "stdout",
     "output_type": "stream",
     "text": [
      "epoch: 4, [batch: 10080 / 33600], examples_per_second: 3630.0858, train_label_loss: 0.1404, \n"
     ]
    },
    {
     "name": "stdout",
     "output_type": "stream",
     "text": [
      "epoch: 4, [batch: 13440 / 33600], examples_per_second: 2977.0139, train_label_loss: 0.1705, \n"
     ]
    },
    {
     "name": "stdout",
     "output_type": "stream",
     "text": [
      "epoch: 4, [batch: 16800 / 33600], examples_per_second: 3059.3811, train_label_loss: 0.2920, \n"
     ]
    },
    {
     "name": "stdout",
     "output_type": "stream",
     "text": [
      "epoch: 4, [batch: 20160 / 33600], examples_per_second: 3436.9861, train_label_loss: 0.3901, \n"
     ]
    },
    {
     "name": "stdout",
     "output_type": "stream",
     "text": [
      "epoch: 4, [batch: 23520 / 33600], examples_per_second: 3093.3342, train_label_loss: 0.3565, \n"
     ]
    },
    {
     "name": "stdout",
     "output_type": "stream",
     "text": [
      "epoch: 4, [batch: 26880 / 33600], examples_per_second: 3006.8974, train_label_loss: 0.3078, \n"
     ]
    },
    {
     "name": "stdout",
     "output_type": "stream",
     "text": [
      "epoch: 4, [batch: 30240 / 33600], examples_per_second: 3343.6035, train_label_loss: 0.2470, \n"
     ]
    },
    {
     "name": "stdout",
     "output_type": "stream",
     "text": [
      "=============================================================\n",
      "epoch: 4, source_val_acc_label: 0.8746, target_val_acc_label: 0.9808, source_val_label_loss: 0.3536, target_val_label_loss: 2.4329, \n",
      "=============================================================\n"
     ]
    },
    {
     "name": "stdout",
     "output_type": "stream",
     "text": [
      "epoch: 5, [batch: 1 / 33600], examples_per_second: 0.8852, train_label_loss: 0.3449, \n"
     ]
    },
    {
     "name": "stdout",
     "output_type": "stream",
     "text": [
      "epoch: 5, [batch: 3360 / 33600], examples_per_second: 3369.9285, train_label_loss: 0.1317, \n"
     ]
    },
    {
     "name": "stdout",
     "output_type": "stream",
     "text": [
      "epoch: 5, [batch: 6720 / 33600], examples_per_second: 3259.3972, train_label_loss: 0.1792, \n"
     ]
    },
    {
     "name": "stdout",
     "output_type": "stream",
     "text": [
      "epoch: 5, [batch: 10080 / 33600], examples_per_second: 3032.8803, train_label_loss: 0.5321, \n"
     ]
    },
    {
     "name": "stdout",
     "output_type": "stream",
     "text": [
      "epoch: 5, [batch: 13440 / 33600], examples_per_second: 3137.1185, train_label_loss: 0.2094, \n"
     ]
    },
    {
     "name": "stdout",
     "output_type": "stream",
     "text": [
      "epoch: 5, [batch: 16800 / 33600], examples_per_second: 3468.0694, train_label_loss: 0.3892, \n"
     ]
    },
    {
     "name": "stdout",
     "output_type": "stream",
     "text": [
      "epoch: 5, [batch: 20160 / 33600], examples_per_second: 3029.6830, train_label_loss: 0.3051, \n"
     ]
    },
    {
     "name": "stdout",
     "output_type": "stream",
     "text": [
      "epoch: 5, [batch: 23520 / 33600], examples_per_second: 2968.5815, train_label_loss: 0.2402, \n"
     ]
    },
    {
     "name": "stdout",
     "output_type": "stream",
     "text": [
      "epoch: 5, [batch: 26880 / 33600], examples_per_second: 3367.1299, train_label_loss: 0.1687, \n"
     ]
    },
    {
     "name": "stdout",
     "output_type": "stream",
     "text": [
      "epoch: 5, [batch: 30240 / 33600], examples_per_second: 3497.8211, train_label_loss: 0.0721, \n"
     ]
    },
    {
     "name": "stdout",
     "output_type": "stream",
     "text": [
      "=============================================================\n",
      "epoch: 5, source_val_acc_label: 0.8773, target_val_acc_label: 0.9739, source_val_label_loss: 0.3435, target_val_label_loss: 5.3631, \n",
      "=============================================================\n"
     ]
    },
    {
     "name": "stdout",
     "output_type": "stream",
     "text": [
      "epoch: 6, [batch: 1 / 33600], examples_per_second: 0.9820, train_label_loss: 0.1462, \n"
     ]
    },
    {
     "name": "stdout",
     "output_type": "stream",
     "text": [
      "epoch: 6, [batch: 3360 / 33600], examples_per_second: 3397.3528, train_label_loss: 0.2482, \n"
     ]
    },
    {
     "name": "stdout",
     "output_type": "stream",
     "text": [
      "epoch: 6, [batch: 6720 / 33600], examples_per_second: 3670.5801, train_label_loss: 0.4048, \n"
     ]
    },
    {
     "name": "stdout",
     "output_type": "stream",
     "text": [
      "epoch: 6, [batch: 10080 / 33600], examples_per_second: 3939.9019, train_label_loss: 0.2460, \n"
     ]
    },
    {
     "name": "stdout",
     "output_type": "stream",
     "text": [
      "epoch: 6, [batch: 13440 / 33600], examples_per_second: 3860.7820, train_label_loss: 0.2872, \n"
     ]
    },
    {
     "name": "stdout",
     "output_type": "stream",
     "text": [
      "epoch: 6, [batch: 16800 / 33600], examples_per_second: 3911.0675, train_label_loss: 0.3558, \n"
     ]
    },
    {
     "name": "stdout",
     "output_type": "stream",
     "text": [
      "epoch: 6, [batch: 20160 / 33600], examples_per_second: 3960.5927, train_label_loss: 0.2084, \n"
     ]
    },
    {
     "name": "stdout",
     "output_type": "stream",
     "text": [
      "epoch: 6, [batch: 23520 / 33600], examples_per_second: 3271.8943, train_label_loss: 0.0693, \n"
     ]
    },
    {
     "name": "stdout",
     "output_type": "stream",
     "text": [
      "epoch: 6, [batch: 26880 / 33600], examples_per_second: 3004.0648, train_label_loss: 0.3782, \n"
     ]
    },
    {
     "name": "stdout",
     "output_type": "stream",
     "text": [
      "epoch: 6, [batch: 30240 / 33600], examples_per_second: 3250.5703, train_label_loss: 0.3638, \n"
     ]
    },
    {
     "name": "stdout",
     "output_type": "stream",
     "text": [
      "=============================================================\n",
      "epoch: 6, source_val_acc_label: 0.8806, target_val_acc_label: 0.9673, source_val_label_loss: 0.3324, target_val_label_loss: 11.5732, \n",
      "=============================================================\n"
     ]
    },
    {
     "name": "stdout",
     "output_type": "stream",
     "text": [
      "epoch: 7, [batch: 1 / 33600], examples_per_second: 0.8739, train_label_loss: 0.1745, \n"
     ]
    },
    {
     "name": "stdout",
     "output_type": "stream",
     "text": [
      "epoch: 7, [batch: 3360 / 33600], examples_per_second: 3728.7778, train_label_loss: 0.1964, \n"
     ]
    },
    {
     "name": "stdout",
     "output_type": "stream",
     "text": [
      "epoch: 7, [batch: 6720 / 33600], examples_per_second: 3588.6268, train_label_loss: 0.1596, \n"
     ]
    },
    {
     "name": "stdout",
     "output_type": "stream",
     "text": [
      "epoch: 7, [batch: 10080 / 33600], examples_per_second: 3400.7030, train_label_loss: 0.1680, \n"
     ]
    },
    {
     "name": "stdout",
     "output_type": "stream",
     "text": [
      "epoch: 7, [batch: 13440 / 33600], examples_per_second: 3764.5664, train_label_loss: 0.2125, \n"
     ]
    },
    {
     "name": "stdout",
     "output_type": "stream",
     "text": [
      "epoch: 7, [batch: 16800 / 33600], examples_per_second: 4316.7217, train_label_loss: 0.4227, \n"
     ]
    },
    {
     "name": "stdout",
     "output_type": "stream",
     "text": [
      "epoch: 7, [batch: 20160 / 33600], examples_per_second: 3955.2068, train_label_loss: 0.3917, \n"
     ]
    },
    {
     "name": "stdout",
     "output_type": "stream",
     "text": [
      "epoch: 7, [batch: 23520 / 33600], examples_per_second: 4058.1266, train_label_loss: 0.2061, \n"
     ]
    },
    {
     "name": "stdout",
     "output_type": "stream",
     "text": [
      "epoch: 7, [batch: 26880 / 33600], examples_per_second: 4253.4871, train_label_loss: 0.2736, \n"
     ]
    },
    {
     "name": "stdout",
     "output_type": "stream",
     "text": [
      "epoch: 7, [batch: 30240 / 33600], examples_per_second: 3918.9385, train_label_loss: 0.2781, \n"
     ]
    },
    {
     "name": "stdout",
     "output_type": "stream",
     "text": [
      "=============================================================\n",
      "epoch: 7, source_val_acc_label: 0.8814, target_val_acc_label: 0.9756, source_val_label_loss: 0.3301, target_val_label_loss: 8.7612, \n",
      "=============================================================\n"
     ]
    },
    {
     "name": "stdout",
     "output_type": "stream",
     "text": [
      "Patience (3) exhausted\n"
     ]
    }
   ],
   "source": [
    "###################################\n",
    "# train\n",
    "###################################\n",
    "jig = PTN_Train_Eval_Test_Jig(model, p.BEST_MODEL_PATH, p.device)\n",
    "\n",
    "jig.train(\n",
    "    train_iterable=datasets.source.processed.train,\n",
    "    source_val_iterable=datasets.source.processed.val,\n",
    "    target_val_iterable=datasets.target.processed.val,\n",
    "    num_epochs=p.n_epoch,\n",
    "    num_logs_per_epoch=p.NUM_LOGS_PER_EPOCH,\n",
    "    patience=p.patience,\n",
    "    optimizer=optimizer,\n",
    "    criteria_for_best=p.criteria_for_best,\n",
    ")"
   ]
  },
  {
   "cell_type": "code",
   "execution_count": 23,
   "id": "31e8fabf",
   "metadata": {
    "execution": {
     "iopub.execute_input": "2022-03-23T17:08:45.537550Z",
     "iopub.status.busy": "2022-03-23T17:08:45.537175Z",
     "iopub.status.idle": "2022-03-23T17:08:45.569955Z",
     "shell.execute_reply": "2022-03-23T17:08:45.569227Z"
    },
    "papermill": {
     "duration": 0.081091,
     "end_time": "2022-03-23T17:08:45.570131",
     "exception": false,
     "start_time": "2022-03-23T17:08:45.489040",
     "status": "completed"
    },
    "tags": []
   },
   "outputs": [],
   "source": [
    "total_experiment_time_secs = time.time() - start_time_secs"
   ]
  },
  {
   "cell_type": "code",
   "execution_count": 24,
   "id": "87b9595b",
   "metadata": {
    "execution": {
     "iopub.execute_input": "2022-03-23T17:08:45.669511Z",
     "iopub.status.busy": "2022-03-23T17:08:45.669111Z",
     "iopub.status.idle": "2022-03-23T17:18:44.186586Z",
     "shell.execute_reply": "2022-03-23T17:18:44.187269Z"
    },
    "papermill": {
     "duration": 598.568425,
     "end_time": "2022-03-23T17:18:44.187510",
     "exception": false,
     "start_time": "2022-03-23T17:08:45.619085",
     "status": "completed"
    },
    "tags": []
   },
   "outputs": [],
   "source": [
    "###################################\n",
    "# Evaluate the model\n",
    "###################################\n",
    "source_test_label_accuracy, source_test_label_loss = jig.test(datasets.source.processed.test)\n",
    "target_test_label_accuracy, target_test_label_loss = jig.test(datasets.target.processed.test)\n",
    "\n",
    "source_val_label_accuracy, source_val_label_loss = jig.test(datasets.source.processed.val)\n",
    "target_val_label_accuracy, target_val_label_loss = jig.test(datasets.target.processed.val)\n",
    "\n",
    "history = jig.get_history()\n",
    "\n",
    "total_epochs_trained = len(history[\"epoch_indices\"])\n",
    "\n",
    "val_dl = Iterable_Aggregator((datasets.source.original.val,datasets.target.original.val))\n",
    "\n",
    "confusion = ptn_confusion_by_domain_over_dataloader(model, p.device, val_dl)\n",
    "per_domain_accuracy = per_domain_accuracy_from_confusion(confusion)\n",
    "\n",
    "# Add a key to per_domain_accuracy for if it was a source domain\n",
    "for domain, accuracy in per_domain_accuracy.items():\n",
    "    per_domain_accuracy[domain] = {\n",
    "        \"accuracy\": accuracy,\n",
    "        \"source?\": domain in p.domains_source\n",
    "    }\n",
    "\n",
    "# Do an independent accuracy assesment JUST TO BE SURE!\n",
    "# _source_test_label_accuracy = independent_accuracy_assesment(model, datasets.source.processed.test, p.device)\n",
    "# _target_test_label_accuracy = independent_accuracy_assesment(model, datasets.target.processed.test, p.device)\n",
    "# _source_val_label_accuracy = independent_accuracy_assesment(model, datasets.source.processed.val, p.device)\n",
    "# _target_val_label_accuracy = independent_accuracy_assesment(model, datasets.target.processed.val, p.device)\n",
    "\n",
    "# assert(_source_test_label_accuracy == source_test_label_accuracy)\n",
    "# assert(_target_test_label_accuracy == target_test_label_accuracy)\n",
    "# assert(_source_val_label_accuracy == source_val_label_accuracy)\n",
    "# assert(_target_val_label_accuracy == target_val_label_accuracy)\n",
    "\n",
    "experiment = {\n",
    "    \"experiment_name\": p.experiment_name,\n",
    "    \"parameters\": dict(p),\n",
    "    \"results\": {\n",
    "        \"source_test_label_accuracy\": source_test_label_accuracy,\n",
    "        \"source_test_label_loss\": source_test_label_loss,\n",
    "        \"target_test_label_accuracy\": target_test_label_accuracy,\n",
    "        \"target_test_label_loss\": target_test_label_loss,\n",
    "        \"source_val_label_accuracy\": source_val_label_accuracy,\n",
    "        \"source_val_label_loss\": source_val_label_loss,\n",
    "        \"target_val_label_accuracy\": target_val_label_accuracy,\n",
    "        \"target_val_label_loss\": target_val_label_loss,\n",
    "        \"total_epochs_trained\": total_epochs_trained,\n",
    "        \"total_experiment_time_secs\": total_experiment_time_secs,\n",
    "        \"confusion\": confusion,\n",
    "        \"per_domain_accuracy\": per_domain_accuracy,\n",
    "    },\n",
    "    \"history\": history,\n",
    "    \"dataset_metrics\": get_dataset_metrics(datasets, \"ptn\"),\n",
    "}"
   ]
  },
  {
   "cell_type": "code",
   "execution_count": 25,
   "id": "54a21829",
   "metadata": {
    "execution": {
     "iopub.execute_input": "2022-03-23T17:18:44.283405Z",
     "iopub.status.busy": "2022-03-23T17:18:44.282984Z",
     "iopub.status.idle": "2022-03-23T17:18:44.508933Z",
     "shell.execute_reply": "2022-03-23T17:18:44.509627Z"
    },
    "papermill": {
     "duration": 0.273718,
     "end_time": "2022-03-23T17:18:44.509812",
     "exception": false,
     "start_time": "2022-03-23T17:18:44.236094",
     "status": "completed"
    },
    "tags": []
   },
   "outputs": [
    {
     "data": {
      "image/png": "[encoded data removed]",
      "text/plain": [
       "<Figure size 1080x504 with 1 Axes>"
      ]
     },
     "metadata": {
      "needs_background": "light"
     },
     "output_type": "display_data"
    }
   ],
   "source": [
    "ax = get_loss_curve(experiment)\n",
    "plt.show()"
   ]
  },
  {
   "cell_type": "code",
   "execution_count": 26,
   "id": "fd8a0f60",
   "metadata": {
    "execution": {
     "iopub.execute_input": "2022-03-23T17:18:44.611085Z",
     "iopub.status.busy": "2022-03-23T17:18:44.610710Z",
     "iopub.status.idle": "2022-03-23T17:18:44.983592Z",
     "shell.execute_reply": "2022-03-23T17:18:44.984284Z"
    },
    "papermill": {
     "duration": 0.423347,
     "end_time": "2022-03-23T17:18:44.984511",
     "exception": false,
     "start_time": "2022-03-23T17:18:44.561164",
     "status": "completed"
    },
    "tags": []
   },
   "outputs": [
    {
     "data": {
      "text/plain": [
       "<AxesSubplot:title={'center':'Results'}>"
      ]
     },
     "execution_count": 26,
     "metadata": {},
     "output_type": "execute_result"
    },
    {
     "data": {
      "image/png": "[encoded data removed]",
      "text/plain": [
       "<Figure size 1080x504 with 1 Axes>"
      ]
     },
     "metadata": {
      "needs_background": "light"
     },
     "output_type": "display_data"
    }
   ],
   "source": [
    "get_results_table(experiment)"
   ]
  },
  {
   "cell_type": "code",
   "execution_count": 27,
   "id": "cf8dc689",
   "metadata": {
    "execution": {
     "iopub.execute_input": "2022-03-23T17:18:45.083708Z",
     "iopub.status.busy": "2022-03-23T17:18:45.083304Z",
     "iopub.status.idle": "2022-03-23T17:18:45.346556Z",
     "shell.execute_reply": "2022-03-23T17:18:45.345725Z"
    },
    "papermill": {
     "duration": 0.313094,
     "end_time": "2022-03-23T17:18:45.346728",
     "exception": false,
     "start_time": "2022-03-23T17:18:45.033634",
     "status": "completed"
    },
    "tags": []
   },
   "outputs": [
    {
     "data": {
      "text/plain": [
       "<AxesSubplot:title={'center':'Per Domain Validation Accuracy'}, xlabel='domain'>"
      ]
     },
     "execution_count": 27,
     "metadata": {},
     "output_type": "execute_result"
    },
    {
     "data": {
      "image/png": "[encoded data removed]",
      "text/plain": [
       "<Figure size 1080x504 with 1 Axes>"
      ]
     },
     "metadata": {
      "needs_background": "light"
     },
     "output_type": "display_data"
    }
   ],
   "source": [
    "get_domain_accuracies(experiment)"
   ]
  },
  {
   "cell_type": "code",
   "execution_count": 28,
   "id": "a74ae082",
   "metadata": {
    "execution": {
     "iopub.execute_input": "2022-03-23T17:18:45.450908Z",
     "iopub.status.busy": "2022-03-23T17:18:45.450529Z",
     "iopub.status.idle": "2022-03-23T17:18:45.474061Z",
     "shell.execute_reply": "2022-03-23T17:18:45.473350Z"
    },
    "papermill": {
     "duration": 0.075268,
     "end_time": "2022-03-23T17:18:45.474217",
     "exception": false,
     "start_time": "2022-03-23T17:18:45.398949",
     "status": "completed"
    },
    "tags": []
   },
   "outputs": [
    {
     "name": "stdout",
     "output_type": "stream",
     "text": [
      "Source Test Label Accuracy: 0.8651692708333333 Target Test Label Accuracy: 0.98125\n",
      "Source Val Label Accuracy: 0.8649609375 Target Val Label Accuracy: 0.982\n"
     ]
    }
   ],
   "source": [
    "print(\"Source Test Label Accuracy:\", experiment[\"results\"][\"source_test_label_accuracy\"], \"Target Test Label Accuracy:\", experiment[\"results\"][\"target_test_label_accuracy\"])\n",
    "print(\"Source Val Label Accuracy:\", experiment[\"results\"][\"source_val_label_accuracy\"], \"Target Val Label Accuracy:\", experiment[\"results\"][\"target_val_label_accuracy\"])"
   ]
  },
  {
   "cell_type": "code",
   "execution_count": 29,
   "id": "dacca602",
   "metadata": {
    "execution": {
     "iopub.execute_input": "2022-03-23T17:18:45.637694Z",
     "iopub.status.busy": "2022-03-23T17:18:45.637318Z",
     "iopub.status.idle": "2022-03-23T17:18:45.661978Z",
     "shell.execute_reply": "2022-03-23T17:18:45.662653Z"
    },
    "papermill": {
     "duration": 0.13367,
     "end_time": "2022-03-23T17:18:45.662848",
     "exception": false,
     "start_time": "2022-03-23T17:18:45.529178",
     "status": "completed"
    },
    "tags": [
     "experiment_json"
    ]
   },
   "outputs": [
    {
     "data": {
      "text/plain": [
       "'{\"experiment_name\": \"tl_1v2:cores-oracle.run1\", \"parameters\": {\"experiment_name\": \"tl_1v2:cores-oracle.run1\", \"device\": \"cuda\", \"lr\": 0.0001, \"n_shot\": 3, \"n_query\": 2, \"train_k_factor\": 3, \"val_k_factor\": 2, \"test_k_factor\": 2, \"torch_default_dtype\": \"torch.float32\", \"n_epoch\": 50, \"patience\": 3, \"criteria_for_best\": \"target_accuracy\", \"x_net\": [{\"class\": \"nnReshape\", \"kargs\": {\"shape\": [-1, 1, 2, 256]}}, {\"class\": \"Conv2d\", \"kargs\": {\"in_channels\": 1, \"out_channels\": 256, \"kernel_size\": [1, 7], \"bias\": false, \"padding\": [0, 3]}}, {\"class\": \"ReLU\", \"kargs\": {\"inplace\": true}}, {\"class\": \"BatchNorm2d\", \"kargs\": {\"num_features\": 256}}, {\"class\": \"Conv2d\", \"kargs\": {\"in_channels\": 256, \"out_channels\": 80, \"kernel_size\": [2, 7], \"bias\": true, \"padding\": [0, 3]}}, {\"class\": \"ReLU\", \"kargs\": {\"inplace\": true}}, {\"class\": \"BatchNorm2d\", \"kargs\": {\"num_features\": 80}}, {\"class\": \"Flatten\", \"kargs\": {}}, {\"class\": \"Linear\", \"kargs\": {\"in_features\": 20480, \"out_features\": 256}}, {\"class\": \"ReLU\", \"kargs\": {\"inplace\": true}}, {\"class\": \"BatchNorm1d\", \"kargs\": {\"num_features\": 256}}, {\"class\": \"Linear\", \"kargs\": {\"in_features\": 256, \"out_features\": 256}}], \"NUM_LOGS_PER_EPOCH\": 10, \"BEST_MODEL_PATH\": \"./best_model.pth\", \"n_way\": 16, \"datasets\": [{\"labels\": [\"1-10.\", \"1-11.\", \"1-15.\", \"1-16.\", \"1-17.\", \"1-18.\", \"1-19.\", \"10-4.\", \"10-7.\", \"11-1.\", \"11-14.\", \"11-17.\", \"11-20.\", \"11-7.\", \"13-20.\", \"13-8.\", \"14-10.\", \"14-11.\", \"14-14.\", \"14-7.\", \"15-1.\", \"15-20.\", \"16-1.\", \"16-16.\", \"17-10.\", \"17-11.\", \"17-2.\", \"19-1.\", \"19-16.\", \"19-19.\", \"19-20.\", \"19-3.\", \"2-10.\", \"2-11.\", \"2-17.\", \"2-18.\", \"2-20.\", \"2-3.\", \"2-4.\", \"2-5.\", \"2-6.\", \"2-7.\", \"2-8.\", \"3-13.\", \"3-18.\", \"3-3.\", \"4-1.\", \"4-10.\", \"4-11.\", \"4-19.\", \"5-5.\", \"6-15.\", \"7-10.\", \"7-14.\", \"8-18.\", \"8-20.\", \"8-3.\", \"8-8.\"], \"domains\": [1, 2, 3, 4, 5], \"num_examples_per_domain_per_label\": -1, \"pickle_path\": \"/root/csc500-main/datasets/cores.stratified_ds.2022A.pkl\", \"source_or_target_dataset\": \"target\", \"x_transforms\": [], \"episode_transforms\": [], \"domain_prefix\": \"CORES_\"}, {\"labels\": [\"3123D52\", \"3123D65\", \"3123D79\", \"3123D80\", \"3123D54\", \"3123D70\", \"3123D7B\", \"3123D89\", \"3123D58\", \"3123D76\", \"3123D7D\", \"3123EFE\", \"3123D64\", \"3123D78\", \"3123D7E\", \"3124E4A\"], \"domains\": [32, 38, 8, 44, 14, 50, 20, 26], \"num_examples_per_domain_per_label\": 10000, \"pickle_path\": \"/root/csc500-main/datasets/oracle.Run1_10kExamples_stratified_ds.2022A.pkl\", \"source_or_target_dataset\": \"source\", \"x_transforms\": [], \"episode_transforms\": [], \"domain_prefix\": \"ORACLE.run1_\"}], \"dataset_seed\": 500, \"seed\": 500, \"x_shape\": [2, 256], \"domains_source\": [\"ORACLE.run1_32\", \"ORACLE.run1_38\", \"ORACLE.run1_8\", \"ORACLE.run1_44\", \"ORACLE.run1_14\", \"ORACLE.run1_50\", \"ORACLE.run1_20\", \"ORACLE.run1_26\"], \"domains_target\": [\"CORES_1\", \"CORES_2\", \"CORES_3\", \"CORES_4\", \"CORES_5\"]}, \"results\": {\"source_test_label_accuracy\": 0.8651692708333333, \"source_test_label_loss\": 0.3744714558124542, \"target_test_label_accuracy\": 0.98125, \"target_test_label_loss\": 1.4432255029678345, \"source_val_label_accuracy\": 0.8649609375, \"source_val_label_loss\": 0.3789067268371582, \"target_val_label_accuracy\": 0.982, \"target_val_label_loss\": 1.1683566570281982, \"total_epochs_trained\": 7, \"total_experiment_time_secs\": 6158.348582744598, \"confusion\": {\"ORACLE.run1_50\": {\"7\": {\"7\": 1140, \"5\": 48, \"4\": 12}, \"10\": {\"10\": 1190, \"8\": 7, \"0\": 3}, \"0\": {\"0\": 1153, \"2\": 45, \"10\": 2}, \"11\": {\"11\": 1156, \"9\": 24, \"12\": 15, \"15\": 5}, \"2\": {\"2\": 1167, \"0\": 33}, \"14\": {\"14\": 1200}, \"9\": {\"9\": 1022, \"11\": 101, \"12\": 76, \"15\": 1}, \"13\": {\"13\": 1199, \"1\": 1}, \"8\": {\"8\": 1197, \"10\": 3}, \"15\": {\"11\": 8, \"15\": 1142, \"6\": 47, \"4\": 1, \"9\": 1, \"5\": 1}, \"4\": {\"4\": 1029, \"15\": 34, \"5\": 35, \"7\": 90, \"6\": 12}, \"5\": {\"6\": 246, \"7\": 354, \"4\": 68, \"5\": 490, \"13\": 32, \"1\": 4, \"15\": 6}, \"3\": {\"3\": 1200}, \"1\": {\"1\": 1176, \"13\": 20, \"6\": 1, \"0\": 1, \"11\": 2}, \"6\": {\"6\": 1025, \"5\": 129, \"15\": 46}, \"12\": {\"12\": 1145, \"9\": 43, \"11\": 12}}, \"ORACLE.run1_14\": {\"14\": {\"14\": 925, \"13\": 131, \"2\": 68, \"6\": 50, \"3\": 26}, \"6\": {\"13\": 318, \"14\": 80, \"6\": 783, \"2\": 17, \"3\": 2}, \"5\": {\"5\": 1117, \"7\": 19, \"3\": 5, \"2\": 39, \"4\": 20}, \"15\": {\"15\": 1200}, \"11\": {\"11\": 1200}, \"8\": {\"8\": 1200}, \"12\": {\"12\": 1200}, \"1\": {\"1\": 1200}, \"2\": {\"2\": 673, \"14\": 174, \"6\": 73, \"5\": 138, \"4\": 47, \"13\": 50, \"3\": 44, \"7\": 1}, \"13\": {\"13\": 331, \"14\": 299, \"6\": 518, \"15\": 16, \"2\": 32, \"4\": 2, \"3\": 2}, \"3\": {\"3\": 1154, \"0\": 6, \"6\": 1, \"14\": 29, \"5\": 7, \"2\": 3}, \"0\": {\"0\": 1133, \"10\": 39, \"3\": 27, \"4\": 1}, \"9\": {\"9\": 1200}, \"4\": {\"4\": 1164, \"5\": 21, \"2\": 14, \"14\": 1}, \"7\": {\"7\": 1194, \"5\": 5, \"2\": 1}, \"10\": {\"10\": 1200}}, \"ORACLE.run1_32\": {\"4\": {\"4\": 1077, \"13\": 21, \"2\": 102}, \"14\": {\"14\": 764, \"7\": 272, \"5\": 43, \"2\": 29, \"0\": 55, \"8\": 29, \"4\": 8}, \"5\": {\"5\": 695, \"7\": 233, \"14\": 56, \"0\": 97, \"8\": 118, \"15\": 1}, \"10\": {\"10\": 1200}, \"13\": {\"13\": 1053, \"4\": 72, \"11\": 14, \"3\": 61}, \"9\": {\"9\": 1193, \"12\": 7}, \"6\": {\"6\": 1200}, \"3\": {\"3\": 1165, \"13\": 35}, \"15\": {\"15\": 1190, \"8\": 10}, \"7\": {\"7\": 858, \"5\": 160, \"14\": 101, \"0\": 70, \"8\": 11}, \"12\": {\"12\": 1200}, \"8\": {\"8\": 955, \"0\": 107, \"5\": 97, \"4\": 18, \"7\": 11, \"14\": 11, \"3\": 1}, \"11\": {\"11\": 1198, \"13\": 2}, \"2\": {\"2\": 1124, \"4\": 76}, \"1\": {\"1\": 1200}, \"0\": {\"0\": 976, \"7\": 103, \"8\": 71, \"5\": 38, \"14\": 11, \"2\": 1}}, \"ORACLE.run1_44\": {\"8\": {\"8\": 902, \"0\": 233, \"5\": 26, \"15\": 39}, \"11\": {\"11\": 1198, \"13\": 2}, \"14\": {\"14\": 914, \"4\": 224, \"15\": 26, \"5\": 36}, \"10\": {\"10\": 1118, \"2\": 28, \"1\": 34, \"7\": 20}, \"3\": {\"3\": 1165, \"12\": 35}, \"15\": {\"15\": 1049, \"5\": 44, \"14\": 64, \"8\": 34, \"0\": 3, \"4\": 6}, \"2\": {\"2\": 1162, \"1\": 31, \"10\": 6, \"7\": 1}, \"12\": {\"12\": 1178, \"3\": 22}, \"4\": {\"4\": 779, \"14\": 412, \"9\": 3, \"15\": 5, \"13\": 1}, \"1\": {\"1\": 1154, \"2\": 43, \"10\": 3}, \"0\": {\"0\": 1076, \"8\": 121, \"15\": 3}, \"9\": {\"9\": 572, \"13\": 99, \"7\": 326, \"6\": 200, \"4\": 2, \"10\": 1}, \"5\": {\"5\": 1090, \"14\": 39, \"15\": 63, \"8\": 7, \"4\": 1}, \"6\": {\"7\": 1, \"9\": 49, \"6\": 1030, \"13\": 120}, \"7\": {\"7\": 1037, \"9\": 154, \"10\": 9}, \"13\": {\"6\": 182, \"13\": 988, \"11\": 12, \"9\": 18}}, \"ORACLE.run1_8\": {\"13\": {\"13\": 1002, \"7\": 53, \"10\": 122, \"6\": 20, \"5\": 3}, \"3\": {\"3\": 1197, \"2\": 3}, \"15\": {\"15\": 1000, \"12\": 195, \"2\": 5}, \"4\": {\"4\": 1140, \"6\": 24, \"11\": 10, \"14\": 20, \"1\": 3, \"10\": 3}, \"7\": {\"7\": 1049, \"6\": 139, \"13\": 12}, \"2\": {\"2\": 939, \"3\": 179, \"12\": 44, \"15\": 38}, \"1\": {\"1\": 938, \"11\": 205, \"10\": 25, \"5\": 25, \"13\": 1, \"4\": 3, \"6\": 3}, \"0\": {\"0\": 1200}, \"12\": {\"12\": 809, \"15\": 384, \"2\": 7}, \"6\": {\"6\": 999, \"7\": 173, \"10\": 3, \"13\": 18, \"4\": 4, \"8\": 2, \"1\": 1}, \"11\": {\"11\": 708, \"1\": 419, \"5\": 9, \"14\": 37, \"8\": 18, \"6\": 3, \"4\": 5, \"10\": 1}, \"9\": {\"9\": 1200}, \"5\": {\"5\": 991, \"10\": 126, \"1\": 57, \"11\": 16, \"14\": 6, \"13\": 3, \"4\": 1}, \"10\": {\"10\": 995, \"5\": 49, \"4\": 9, \"13\": 128, \"1\": 18, \"6\": 1}, \"14\": {\"14\": 1153, \"4\": 36, \"11\": 11}, \"8\": {\"8\": 1188, \"6\": 10, \"4\": 2}}, \"ORACLE.run1_20\": {\"6\": {\"6\": 1170, \"14\": 20, \"7\": 9, \"10\": 1}, \"11\": {\"11\": 1200}, \"5\": {\"5\": 712, \"3\": 97, \"1\": 344, \"9\": 33, \"15\": 7, \"12\": 5, \"4\": 2}, \"14\": {\"14\": 1147, \"8\": 40, \"6\": 13}, \"2\": {\"2\": 763, \"12\": 127, \"9\": 90, \"7\": 144, \"13\": 54, \"1\": 7, \"4\": 2, \"15\": 11, \"3\": 2}, \"7\": {\"7\": 992, \"9\": 80, \"2\": 98, \"4\": 12, \"3\": 4, \"6\": 5, \"12\": 3, \"8\": 6}, \"3\": {\"9\": 198, \"3\": 779, \"7\": 18, \"5\": 114, \"12\": 3, \"8\": 56, \"1\": 19, \"4\": 4, \"0\": 9}, \"4\": {\"4\": 1119, \"12\": 33, \"7\": 12, \"10\": 32, \"2\": 2, \"9\": 2}, \"9\": {\"9\": 751, \"7\": 94, \"5\": 42, \"2\": 101, \"3\": 164, \"12\": 13, \"1\": 35}, \"12\": {\"12\": 867, \"15\": 75, \"13\": 9, \"1\": 49, \"5\": 4, \"4\": 25, \"9\": 27, \"2\": 138, \"7\": 4, \"3\": 2}, \"0\": {\"3\": 28, \"0\": 1104, \"8\": 9, \"5\": 42, \"1\": 16, \"9\": 1}, \"10\": {\"10\": 1169, \"7\": 1, \"4\": 25, \"6\": 5}, \"8\": {\"8\": 1086, \"14\": 53, \"3\": 60, \"4\": 1}, \"13\": {\"13\": 1116, \"2\": 49, \"15\": 19, \"9\": 1, \"12\": 15}, \"1\": {\"9\": 31, \"12\": 23, \"1\": 741, \"5\": 302, \"15\": 87, \"3\": 14, \"2\": 2}, \"15\": {\"15\": 946, \"1\": 104, \"13\": 23, \"12\": 112, \"2\": 10, \"9\": 3, \"5\": 2}}, \"ORACLE.run1_38\": {\"3\": {\"3\": 1200}, \"8\": {\"7\": 94, \"8\": 669, \"5\": 383, \"13\": 12, \"15\": 22, \"0\": 18, \"12\": 2}, \"0\": {\"3\": 58, \"0\": 822, \"7\": 136, \"10\": 142, \"8\": 8, \"13\": 29, \"5\": 3, \"9\": 1, \"4\": 1}, \"2\": {\"14\": 65, \"2\": 1133, \"13\": 2}, \"4\": {\"4\": 1198, \"10\": 2}, \"7\": {\"7\": 1179, \"5\": 2, \"0\": 8, \"9\": 4, \"8\": 7}, \"12\": {\"12\": 1200}, \"6\": {\"6\": 1199, \"1\": 1}, \"15\": {\"15\": 1150, \"5\": 25, \"1\": 9, \"8\": 16}, \"11\": {\"11\": 1200}, \"9\": {\"9\": 1183, \"5\": 12, \"8\": 4, \"7\": 1}, \"14\": {\"14\": 1128, \"2\": 65, \"13\": 5, \"10\": 2}, \"10\": {\"10\": 1125, \"13\": 43, \"4\": 4, \"0\": 28}, \"5\": {\"5\": 598, \"8\": 407, \"7\": 85, \"15\": 39, \"9\": 63, \"0\": 5, \"12\": 2, \"13\": 1}, \"1\": {\"1\": 1200}, \"13\": {\"13\": 1132, \"10\": 52, \"0\": 11, \"2\": 4, \"7\": 1}}, \"ORACLE.run1_26\": {\"5\": {\"5\": 999, \"15\": 170, \"6\": 27, \"1\": 3, \"10\": 1}, \"8\": {\"7\": 159, \"8\": 838, \"9\": 166, \"2\": 31, \"0\": 6}, \"4\": {\"4\": 1196, \"3\": 3, \"13\": 1}, \"12\": {\"12\": 1200}, \"6\": {\"6\": 1017, \"10\": 60, \"15\": 83, \"5\": 35, \"14\": 2, \"0\": 1, \"1\": 2}, \"7\": {\"7\": 884, \"8\": 115, \"2\": 101, \"3\": 84, \"9\": 15, \"4\": 1}, \"10\": {\"0\": 117, \"10\": 768, \"15\": 40, \"14\": 212, \"6\": 55, \"1\": 8}, \"0\": {\"0\": 858, \"14\": 113, \"10\": 157, \"8\": 55, \"2\": 4, \"7\": 5, \"15\": 4, \"1\": 2, \"9\": 1, \"6\": 1}, \"15\": {\"5\": 232, \"15\": 797, \"6\": 119, \"10\": 42, \"14\": 4, \"0\": 3, \"2\": 2, \"1\": 1}, \"9\": {\"7\": 17, \"9\": 871, \"8\": 232, \"13\": 46, \"2\": 30, \"0\": 1, \"3\": 2, \"4\": 1}, \"11\": {\"11\": 1200}, \"14\": {\"14\": 885, \"10\": 186, \"0\": 75, \"1\": 47, \"15\": 6, \"6\": 1}, \"2\": {\"7\": 149, \"2\": 734, \"3\": 121, \"8\": 94, \"9\": 75, \"0\": 16, \"13\": 7, \"15\": 3, \"10\": 1}, \"13\": {\"13\": 1074, \"3\": 9, \"2\": 44, \"9\": 72, \"4\": 1}, \"3\": {\"2\": 24, \"3\": 1079, \"7\": 92, \"4\": 4, \"8\": 1}, \"1\": {\"1\": 1007, \"14\": 140, \"6\": 15, \"10\": 28, \"5\": 2, \"15\": 7, \"0\": 1}}, \"CORES_4\": {\"38\": {\"49\": 1, \"38\": 36, \"14\": 1, \"2\": 2}, \"3\": {\"3\": 120, \"50\": 3, \"6\": 1}, \"24\": {\"24\": 56}, \"49\": {\"49\": 13, \"7\": 1, \"54\": 3, \"43\": 2, \"32\": 1}, \"7\": {\"7\": 17, \"36\": 1, \"41\": 2, \"39\": 1, \"54\": 2, \"57\": 1}, \"17\": {\"17\": 80}, \"43\": {\"43\": 145, \"24\": 1, \"32\": 2}, \"30\": {\"30\": 43, \"21\": 1}, \"44\": {\"44\": 131, \"40\": 1}, \"23\": {\"23\": 130, \"54\": 2, \"43\": 10, \"24\": 1, \"41\": 1}, \"37\": {\"37\": 23, \"51\": 1}, \"4\": {\"4\": 132}, \"57\": {\"57\": 99, \"4\": 1}, \"16\": {\"16\": 92, \"15\": 2, \"11\": 2}, \"18\": {\"18\": 107, \"27\": 1}, \"20\": {\"20\": 124}, \"45\": {\"45\": 96}, \"15\": {\"15\": 127, \"10\": 1, \"16\": 3, \"11\": 1}, \"52\": {\"52\": 116}, \"19\": {\"19\": 140}, \"54\": {\"54\": 106, \"32\": 1, \"43\": 1}, \"56\": {\"56\": 130}, \"40\": {\"40\": 133, \"44\": 1}, \"28\": {\"28\": 26, \"26\": 3, \"34\": 3}, \"2\": {\"2\": 35, \"33\": 1}, \"9\": {\"9\": 120}, \"0\": {\"0\": 78, \"52\": 1, \"46\": 1}, \"36\": {\"36\": 89, \"54\": 1, \"51\": 1, \"23\": 1}, \"55\": {\"55\": 130}, \"35\": {\"55\": 8, \"35\": 26, \"33\": 1, \"19\": 3, \"42\": 2}, \"39\": {\"39\": 20}, \"31\": {\"31\": 27, \"41\": 1}, \"14\": {\"14\": 13, \"38\": 1, \"1\": 1, \"2\": 1}, \"12\": {\"12\": 92}, \"6\": {\"6\": 110, \"50\": 2}, \"26\": {\"41\": 2, \"26\": 14, \"54\": 1, \"33\": 2, \"28\": 2, \"42\": 2, \"35\": 1}, \"50\": {\"50\": 116, \"6\": 9, \"3\": 7}, \"21\": {\"21\": 122}, \"46\": {\"46\": 134, \"0\": 1, \"22\": 5}, \"51\": {\"51\": 140}, \"41\": {\"41\": 33, \"32\": 1, \"29\": 1, \"1\": 1}, \"34\": {\"34\": 20, \"28\": 4}, \"47\": {\"47\": 120}, \"5\": {\"5\": 108}, \"1\": {\"1\": 40}, \"48\": {\"48\": 134}, \"29\": {\"29\": 118}, \"22\": {\"22\": 126, \"46\": 2}, \"10\": {\"10\": 131, \"11\": 1}, \"32\": {\"41\": 4, \"43\": 2, \"32\": 14, \"27\": 1, \"49\": 1, \"29\": 1, \"2\": 1}, \"13\": {\"13\": 112}, \"42\": {\"42\": 30, \"28\": 1, \"26\": 1}, \"27\": {\"27\": 138}, \"8\": {\"8\": 142}, \"33\": {\"33\": 36}, \"25\": {\"25\": 130, \"15\": 1, \"18\": 1}, \"11\": {\"11\": 96, \"16\": 3, \"15\": 5}, \"53\": {\"53\": 112}}, \"CORES_2\": {\"32\": {\"32\": 28}, \"17\": {\"17\": 104}, \"38\": {\"38\": 20}, \"2\": {\"2\": 32}, \"43\": {\"43\": 144}, \"56\": {\"56\": 141, \"22\": 3}, \"37\": {\"37\": 35, \"36\": 1}, \"49\": {\"49\": 22, \"39\": 1, \"28\": 1}, \"0\": {\"0\": 48}, \"29\": {\"29\": 123, \"57\": 1, \"9\": 4}, \"35\": {\"35\": 32}, \"18\": {\"18\": 48}, \"25\": {\"25\": 136}, \"23\": {\"49\": 3, \"23\": 121}, \"15\": {\"15\": 142, \"11\": 4}, \"21\": {\"21\": 120}, \"51\": {\"51\": 128}, \"20\": {\"20\": 137, \"8\": 1}, \"7\": {\"7\": 35, \"54\": 1}, \"50\": {\"50\": 136}, \"31\": {\"31\": 28}, \"30\": {\"30\": 140}, \"19\": {\"19\": 156}, \"9\": {\"9\": 142, \"4\": 2}, \"52\": {\"52\": 124}, \"45\": {\"45\": 128}, \"8\": {\"8\": 154}, \"55\": {\"55\": 160}, \"12\": {\"12\": 92}, \"40\": {\"40\": 130, \"44\": 6, \"1\": 1, \"22\": 1, \"4\": 1, \"29\": 1}, \"28\": {\"28\": 28}, \"36\": {\"36\": 116}, \"39\": {\"39\": 25, \"2\": 1, \"27\": 1, \"57\": 1}, \"46\": {\"46\": 120, \"50\": 2}, \"14\": {\"14\": 19, \"9\": 1, \"33\": 1, \"29\": 3}, \"57\": {\"57\": 141, \"29\": 1}, \"34\": {\"34\": 25, \"28\": 2, \"49\": 1}, \"1\": {\"1\": 111, \"0\": 1}, \"53\": {\"53\": 136}, \"48\": {\"48\": 127, \"47\": 3}, \"3\": {\"3\": 86, \"50\": 2, \"6\": 4}, \"16\": {\"16\": 150, \"15\": 1, \"11\": 1}, \"6\": {\"6\": 124}, \"10\": {\"10\": 112}, \"13\": {\"13\": 116}, \"26\": {\"26\": 24}, \"24\": {\"24\": 96}, \"44\": {\"44\": 100}, \"27\": {\"27\": 150}, \"22\": {\"22\": 128}, \"33\": {\"14\": 7, \"33\": 19, \"29\": 2}, \"47\": {\"47\": 118}, \"5\": {\"5\": 120}, \"4\": {\"4\": 136, \"9\": 2}, \"41\": {\"41\": 20}, \"11\": {\"11\": 141, \"15\": 8, \"16\": 1}, \"54\": {\"54\": 108}, \"42\": {\"42\": 36}}, \"CORES_3\": {\"5\": {\"5\": 116}, \"32\": {\"32\": 28}, \"33\": {\"33\": 28}, \"49\": {\"26\": 3, \"49\": 10, \"43\": 2, \"39\": 2, \"2\": 1, \"13\": 2}, \"39\": {\"39\": 15, \"42\": 1}, \"11\": {\"11\": 127, \"15\": 4, \"16\": 11}, \"8\": {\"8\": 116}, \"26\": {\"26\": 24}, \"51\": {\"51\": 122}, \"4\": {\"4\": 146}, \"52\": {\"52\": 118}, \"47\": {\"47\": 92}, \"17\": {\"17\": 105, \"27\": 2, \"23\": 1}, \"53\": {\"53\": 136}, \"2\": {\"2\": 32}, \"12\": {\"12\": 92}, \"37\": {\"37\": 28}, \"9\": {\"9\": 148}, \"13\": {\"13\": 127, \"7\": 1}, \"54\": {\"54\": 100}, \"31\": {\"31\": 28}, \"34\": {\"34\": 27, \"55\": 4, \"19\": 1}, \"24\": {\"24\": 104}, \"7\": {\"7\": 26, \"33\": 2, \"13\": 5, \"2\": 3}, \"50\": {\"50\": 114, \"3\": 4}, \"46\": {\"46\": 127, \"21\": 1}, \"44\": {\"44\": 88}, \"40\": {\"40\": 116}, \"21\": {\"21\": 127, \"50\": 1}, \"45\": {\"45\": 60}, \"16\": {\"16\": 119, \"15\": 4, \"11\": 3}, \"14\": {\"14\": 40}, \"36\": {\"36\": 100}, \"56\": {\"56\": 114}, \"10\": {\"10\": 64}, \"18\": {\"18\": 84}, \"48\": {\"48\": 112, \"47\": 4}, \"38\": {\"38\": 28}, \"27\": {\"27\": 122, \"9\": 7, \"57\": 1}, \"42\": {\"42\": 28}, \"15\": {\"15\": 125, \"11\": 3, \"16\": 5, \"18\": 1}, \"1\": {\"1\": 99, \"9\": 1}, \"28\": {\"28\": 28}, \"43\": {\"43\": 136}, \"0\": {\"0\": 124}, \"57\": {\"57\": 122, \"27\": 1, \"29\": 1}, \"3\": {\"3\": 140, \"50\": 7, \"21\": 1}, \"29\": {\"29\": 124}, \"41\": {\"41\": 28}, \"25\": {\"25\": 146}, \"6\": {\"6\": 85, \"3\": 3}, \"35\": {\"35\": 25, \"55\": 3}, \"20\": {\"20\": 126}, \"23\": {\"23\": 133, \"43\": 1}, \"22\": {\"22\": 136, \"0\": 4}, \"19\": {\"19\": 116}, \"55\": {\"55\": 124}, \"30\": {\"30\": 120}}, \"CORES_1\": {\"24\": {\"24\": 108}, \"25\": {\"25\": 132, \"11\": 4, \"16\": 3, \"18\": 1}, \"45\": {\"45\": 143, \"56\": 1}, \"42\": {\"42\": 33, \"32\": 3, \"33\": 2, \"55\": 1, \"43\": 1}, \"2\": {\"2\": 36}, \"9\": {\"9\": 147, \"36\": 2, \"51\": 1}, \"21\": {\"21\": 124}, \"26\": {\"26\": 24}, \"49\": {\"49\": 30, \"38\": 2}, \"39\": {\"39\": 22, \"31\": 2, \"38\": 2, \"37\": 2}, \"46\": {\"46\": 136}, \"17\": {\"17\": 64}, \"19\": {\"19\": 156}, \"23\": {\"23\": 128, \"15\": 2, \"26\": 1, \"10\": 1}, \"1\": {\"1\": 100}, \"29\": {\"29\": 140}, \"56\": {\"56\": 150}, \"37\": {\"37\": 31, \"8\": 1}, \"33\": {\"33\": 32}, \"55\": {\"55\": 142}, \"30\": {\"30\": 120}, \"0\": {\"0\": 152}, \"36\": {\"36\": 64}, \"32\": {\"32\": 30, \"42\": 1, \"33\": 1}, \"31\": {\"31\": 28}, \"15\": {\"15\": 137, \"10\": 1}, \"12\": {\"12\": 112, \"20\": 4}, \"38\": {\"9\": 2, \"49\": 4, \"38\": 15, \"39\": 2, \"27\": 1}, \"40\": {\"40\": 146}, \"14\": {\"14\": 22, \"30\": 2}, \"13\": {\"13\": 150}, \"48\": {\"48\": 148}, \"34\": {\"34\": 21, \"19\": 1, \"54\": 1, \"33\": 1}, \"44\": {\"44\": 130}, \"5\": {\"5\": 152}, \"11\": {\"11\": 140}, \"7\": {\"7\": 28}, \"18\": {\"18\": 72}, \"52\": {\"52\": 132}, \"51\": {\"51\": 141, \"41\": 1}, \"41\": {\"41\": 20, \"51\": 2, \"36\": 1, \"9\": 1}, \"16\": {\"16\": 140}, \"22\": {\"22\": 133, \"52\": 1}, \"3\": {\"3\": 140}, \"54\": {\"54\": 104}, \"27\": {\"27\": 144}, \"20\": {\"20\": 119, \"13\": 1, \"12\": 13, \"3\": 7}, \"8\": {\"8\": 138}, \"50\": {\"50\": 144}, \"57\": {\"57\": 140}, \"4\": {\"4\": 132}, \"47\": {\"47\": 146}, \"10\": {\"10\": 92, \"15\": 4}, \"35\": {\"35\": 36}, \"53\": {\"53\": 126}, \"6\": {\"6\": 96}, \"43\": {\"43\": 140}, \"28\": {\"28\": 28}}, \"CORES_5\": {\"35\": {\"35\": 30, \"55\": 1, \"54\": 1, \"2\": 1, \"31\": 1, \"36\": 2}, \"57\": {\"57\": 132}, \"20\": {\"20\": 144}, \"12\": {\"12\": 96}, \"32\": {\"32\": 32}, \"25\": {\"25\": 137, \"16\": 1}, \"44\": {\"44\": 147, \"40\": 1}, \"31\": {\"31\": 34, \"49\": 1, \"42\": 1}, \"11\": {\"11\": 134, \"16\": 15, \"15\": 1}, \"47\": {\"47\": 100}, \"23\": {\"23\": 121, \"54\": 2, \"43\": 1}, \"43\": {\"43\": 144}, \"37\": {\"37\": 23, \"7\": 1}, \"5\": {\"5\": 126, \"40\": 1, \"44\": 1}, \"45\": {\"45\": 124}, \"7\": {\"7\": 32}, \"13\": {\"13\": 136}, \"49\": {\"49\": 36}, \"46\": {\"46\": 148}, \"16\": {\"16\": 127, \"11\": 9}, \"54\": {\"54\": 110, \"31\": 1, \"55\": 1}, \"19\": {\"19\": 152}, \"55\": {\"55\": 150}, \"30\": {\"30\": 128}, \"34\": {\"34\": 31, \"19\": 5}, \"50\": {\"50\": 134}, \"3\": {\"3\": 100}, \"10\": {\"10\": 68}, \"27\": {\"27\": 142}, \"33\": {\"33\": 31, \"36\": 1}, \"56\": {\"56\": 142}, \"9\": {\"9\": 150}, \"14\": {\"14\": 29, \"29\": 7, \"2\": 2, \"39\": 1, \"43\": 2, \"8\": 1, \"27\": 1, \"13\": 1}, \"4\": {\"4\": 100}, \"42\": {\"42\": 40}, \"24\": {\"24\": 80}, \"39\": {\"39\": 20}, \"52\": {\"52\": 130}, \"2\": {\"2\": 28}, \"28\": {\"28\": 32}, \"53\": {\"53\": 122}, \"17\": {\"17\": 116}, \"29\": {\"29\": 132}, \"38\": {\"38\": 27, \"51\": 3, \"7\": 2}, \"15\": {\"15\": 137, \"16\": 3, \"11\": 4}, \"26\": {\"26\": 21, \"17\": 2, \"51\": 1}, \"21\": {\"21\": 144}, \"41\": {\"41\": 24, \"14\": 2, \"27\": 1, \"56\": 1}, \"48\": {\"48\": 136}, \"22\": {\"22\": 27, \"40\": 1}, \"8\": {\"8\": 148}, \"18\": {\"18\": 64}, \"0\": {\"0\": 122}, \"1\": {\"1\": 138}, \"40\": {\"40\": 123, \"22\": 1}, \"6\": {\"6\": 124, \"50\": 4}, \"51\": {\"51\": 142}, \"36\": {\"36\": 92}}}, \"per_domain_accuracy\": {\"ORACLE.run1_50\": {\"accuracy\": 0.91828125, \"source?\": true}, \"ORACLE.run1_14\": {\"accuracy\": 0.8788541666666667, \"source?\": true}, \"ORACLE.run1_32\": {\"accuracy\": 0.8879166666666667, \"source?\": true}, \"ORACLE.run1_44\": {\"accuracy\": 0.8547916666666666, \"source?\": true}, \"ORACLE.run1_8\": {\"accuracy\": 0.8597916666666666, \"source?\": true}, \"ORACLE.run1_20\": {\"accuracy\": 0.8157291666666666, \"source?\": true}, \"ORACLE.run1_38\": {\"accuracy\": 0.901875, \"source?\": true}, \"ORACLE.run1_26\": {\"accuracy\": 0.8024479166666667, \"source?\": true}, \"CORES_4\": {\"accuracy\": 0.9712121212121212, \"source?\": false}, \"CORES_2\": {\"accuracy\": 0.9863061797752809, \"source?\": false}, \"CORES_3\": {\"accuracy\": 0.9812127976190477, \"source?\": false}, \"CORES_1\": {\"accuracy\": 0.9858108108108108, \"source?\": false}, \"CORES_5\": {\"accuracy\": 0.9844622905027933, \"source?\": false}}}, \"history\": {\"epoch_indices\": [1, 2, 3, 4, 5, 6, 7], \"train_label_loss\": [0.7090541927643963, 0.4238375838900295, 0.34841813472443306, 0.30894304879697126, 0.2750642972683445, 0.24599944262765347, 0.2221012772922404], \"source_val_label_loss\": [1.463696837425232, 0.4030756652355194, 0.3789067268371582, 0.35359710454940796, 0.34354367852211, 0.33241787552833557, 0.33013567328453064], \"target_val_label_loss\": [10.781339645385742, 1.8416470289230347, 1.1683566570281982, 2.4329075813293457, 5.363123416900635, 11.573248863220215, 8.761205673217773], \"source_val_acc_label\": [0.7453450520833333, 0.8551432291666666, 0.8649609375, 0.8745768229166667, 0.8773046875, 0.8806315104166667, 0.8814192708333334], \"target_val_acc_label\": [0.9550357142857143, 0.97675, 0.982, 0.9808214285714286, 0.9738928571428571, 0.9672857142857143, 0.9755714285714285]}, \"dataset_metrics\": {\"source\": {\"train\": {\"n_unique_x\": 896000, \"n_unique_y\": 16, \"n_batch/episode\": 33600}, \"val\": {\"n_unique_x\": 192000, \"n_unique_y\": 16, \"n_batch/episode\": 4800}, \"test\": {\"n_unique_x\": 192000, \"n_unique_y\": 16, \"n_batch/episode\": 4800}}, \"target\": {\"train\": {\"n_unique_x\": 175197, \"n_unique_y\": 58, \"n_batch/episode\": 6309}, \"val\": {\"n_unique_x\": 37166, \"n_unique_y\": 58, \"n_batch/episode\": 875}, \"test\": {\"n_unique_x\": 37642, \"n_unique_y\": 58, \"n_batch/episode\": 890}}}}'"
      ]
     },
     "execution_count": 29,
     "metadata": {},
     "output_type": "execute_result"
    }
   ],
   "source": [
    "json.dumps(experiment)"
   ]
  }
 ],
 "metadata": {
  "celltoolbar": "Tags",
  "kernelspec": {
   "display_name": "Python 3 (ipykernel)",
   "language": "python",
   "name": "python3"
  },
  "language_info": {
   "codemirror_mode": {
    "name": "ipython",
    "version": 3
   },
   "file_extension": ".py",
   "mimetype": "text/x-python",
   "name": "python",
   "nbconvert_exporter": "python",
   "pygments_lexer": "ipython3",
   "version": "3.8.12"
  },
  "papermill": {
   "default_parameters": {},
   "duration": 6765.656979,
   "end_time": "2022-03-23T17:18:48.939617",
   "environment_variables": {},
   "exception": null,
   "input_path": "/root/csc500-main/csc500-notebooks/templates/tl_ptn_template.ipynb",
   "output_path": "trial.ipynb",
   "parameters": {
    "parameters": {
     "BEST_MODEL_PATH": "./best_model.pth",
     "NUM_LOGS_PER_EPOCH": 10,
     "criteria_for_best": "target_accuracy",
     "dataset_seed": 500,
     "datasets": [
      {
       "domain_prefix": "CORES_",
       "domains": [
        1,
        2,
        3,
        4,
        5
       ],
       "episode_transforms": [],
       "labels": [
        "1-10.",
        "1-11.",
        "1-15.",
        "1-16.",
        "1-17.",
        "1-18.",
        "1-19.",
        "10-4.",
        "10-7.",
        "11-1.",
        "11-14.",
        "11-17.",
        "11-20.",
        "11-7.",
        "13-20.",
        "13-8.",
        "14-10.",
        "14-11.",
        "14-14.",
        "14-7.",
        "15-1.",
        "15-20.",
        "16-1.",
        "16-16.",
        "17-10.",
        "17-11.",
        "17-2.",
        "19-1.",
        "19-16.",
        "19-19.",
        "19-20.",
        "19-3.",
        "2-10.",
        "2-11.",
        "2-17.",
        "2-18.",
        "2-20.",
        "2-3.",
        "2-4.",
        "2-5.",
        "2-6.",
        "2-7.",
        "2-8.",
        "3-13.",
        "3-18.",
        "3-3.",
        "4-1.",
        "4-10.",
        "4-11.",
        "4-19.",
        "5-5.",
        "6-15.",
        "7-10.",
        "7-14.",
        "8-18.",
        "8-20.",
        "8-3.",
        "8-8."
       ],
       "num_examples_per_domain_per_label": -1,
       "pickle_path": "/root/csc500-main/datasets/cores.stratified_ds.2022A.pkl",
       "source_or_target_dataset": "target",
       "x_transforms": []
      },
      {
       "domain_prefix": "ORACLE.run1_",
       "domains": [
        32,
        38,
        8,
        44,
        14,
        50,
        20,
        26
       ],
       "episode_transforms": [],
       "labels": [
        "3123D52",
        "3123D65",
        "3123D79",
        "3123D80",
        "3123D54",
        "3123D70",
        "3123D7B",
        "3123D89",
        "3123D58",
        "3123D76",
        "3123D7D",
        "3123EFE",
        "3123D64",
        "3123D78",
        "3123D7E",
        "3124E4A"
       ],
       "num_examples_per_domain_per_label": 10000,
       "pickle_path": "/root/csc500-main/datasets/oracle.Run1_10kExamples_stratified_ds.2022A.pkl",
       "source_or_target_dataset": "source",
       "x_transforms": []
      }
     ],
     "device": "cuda",
     "experiment_name": "tl_1v2:cores-oracle.run1",
     "lr": 0.0001,
     "n_epoch": 50,
     "n_query": 2,
     "n_shot": 3,
     "n_way": 16,
     "patience": 3,
     "seed": 500,
     "test_k_factor": 2,
     "torch_default_dtype": "torch.float32",
     "train_k_factor": 3,
     "val_k_factor": 2,
     "x_net": [
      {
       "class": "nnReshape",
       "kargs": {
        "shape": [
         -1,
         1,
         2,
         256
        ]
       }
      },
      {
       "class": "Conv2d",
       "kargs": {
        "bias": false,
        "in_channels": 1,
        "kernel_size": [
         1,
         7
        ],
        "out_channels": 256,
        "padding": [
         0,
         3
        ]
       }
      },
      {
       "class": "ReLU",
       "kargs": {
        "inplace": true
       }
      },
      {
       "class": "BatchNorm2d",
       "kargs": {
        "num_features": 256
       }
      },
      {
       "class": "Conv2d",
       "kargs": {
        "bias": true,
        "in_channels": 256,
        "kernel_size": [
         2,
         7
        ],
        "out_channels": 80,
        "padding": [
         0,
         3
        ]
       }
      },
      {
       "class": "ReLU",
       "kargs": {
        "inplace": true
       }
      },
      {
       "class": "BatchNorm2d",
       "kargs": {
        "num_features": 80
       }
      },
      {
       "class": "Flatten",
       "kargs": {}
      },
      {
       "class": "Linear",
       "kargs": {
        "in_features": 20480,
        "out_features": 256
       }
      },
      {
       "class": "ReLU",
       "kargs": {
        "inplace": true
       }
      },
      {
       "class": "BatchNorm1d",
       "kargs": {
        "num_features": 256
       }
      },
      {
       "class": "Linear",
       "kargs": {
        "in_features": 256,
        "out_features": 256
       }
      }
     ]
    }
   },
   "start_time": "2022-03-23T15:26:03.282638",
   "version": "2.3.4"
  }
 },
 "nbformat": 4,
 "nbformat_minor": 5
}