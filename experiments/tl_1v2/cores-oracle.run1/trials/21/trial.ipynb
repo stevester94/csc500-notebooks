{
 "cells": [
  {
   "cell_type": "markdown",
   "id": "9fea5f46",
   "metadata": {
    "papermill": {
     "duration": 0.028615,
     "end_time": "2022-03-22T21:50:37.747937",
     "exception": false,
     "start_time": "2022-03-22T21:50:37.719322",
     "status": "completed"
    },
    "tags": []
   },
   "source": [
    "# Transfer Learning Template"
   ]
  },
  {
   "cell_type": "code",
   "execution_count": 1,
   "id": "0902182a",
   "metadata": {
    "execution": {
     "iopub.execute_input": "2022-03-22T21:50:37.815332Z",
     "iopub.status.busy": "2022-03-22T21:50:37.813193Z",
     "iopub.status.idle": "2022-03-22T21:50:39.705828Z",
     "shell.execute_reply": "2022-03-22T21:50:39.704986Z"
    },
    "papermill": {
     "duration": 1.935565,
     "end_time": "2022-03-22T21:50:39.706042",
     "exception": false,
     "start_time": "2022-03-22T21:50:37.770477",
     "status": "completed"
    },
    "tags": []
   },
   "outputs": [],
   "source": [
    "%load_ext autoreload\n",
    "%autoreload 2\n",
    "%matplotlib inline\n",
    "\n",
    "    \n",
    "import os, json, sys, time, random\n",
    "import numpy as np\n",
    "import torch\n",
    "from torch.optim import Adam\n",
    "from  easydict import EasyDict\n",
    "import matplotlib.pyplot as plt\n",
    "\n",
    "from steves_models.steves_ptn import Steves_Prototypical_Network\n",
    "\n",
    "from steves_utils.lazy_iterable_wrapper import Lazy_Iterable_Wrapper\n",
    "from steves_utils.iterable_aggregator import Iterable_Aggregator\n",
    "from steves_utils.ptn_train_eval_test_jig import  PTN_Train_Eval_Test_Jig\n",
    "from steves_utils.torch_sequential_builder import build_sequential\n",
    "from steves_utils.torch_utils import get_dataset_metrics, ptn_confusion_by_domain_over_dataloader\n",
    "from steves_utils.utils_v2 import (per_domain_accuracy_from_confusion, get_datasets_base_path)\n",
    "from steves_utils.PTN.utils import independent_accuracy_assesment\n",
    "\n",
    "from torch.utils.data import DataLoader\n",
    "\n",
    "from steves_utils.stratified_dataset.episodic_accessor import Episodic_Accessor_Factory\n",
    "\n",
    "from steves_utils.ptn_do_report import (\n",
    "    get_loss_curve,\n",
    "    get_results_table,\n",
    "    get_parameters_table,\n",
    "    get_domain_accuracies,\n",
    ")\n",
    "\n",
    "from steves_utils.transforms import get_chained_transform"
   ]
  },
  {
   "cell_type": "markdown",
   "id": "41c840b4",
   "metadata": {
    "papermill": {
     "duration": 0.019507,
     "end_time": "2022-03-22T21:50:39.751222",
     "exception": false,
     "start_time": "2022-03-22T21:50:39.731715",
     "status": "completed"
    },
    "tags": []
   },
   "source": [
    "# Allowed Parameters\n",
    "These are allowed parameters, not defaults\n",
    "Each of these values need to be present in the injected parameters (the notebook will raise an exception if they are not present)\n",
    "\n",
    "Papermill uses the cell tag \"parameters\" to inject the real parameters below this cell.\n",
    "Enable tags to see what I mean"
   ]
  },
  {
   "cell_type": "code",
   "execution_count": 2,
   "id": "fd44eb83",
   "metadata": {
    "execution": {
     "iopub.execute_input": "2022-03-22T21:50:39.795198Z",
     "iopub.status.busy": "2022-03-22T21:50:39.794808Z",
     "iopub.status.idle": "2022-03-22T21:50:39.818316Z",
     "shell.execute_reply": "2022-03-22T21:50:39.818979Z"
    },
    "papermill": {
     "duration": 0.04846,
     "end_time": "2022-03-22T21:50:39.819182",
     "exception": false,
     "start_time": "2022-03-22T21:50:39.770722",
     "status": "completed"
    },
    "tags": []
   },
   "outputs": [],
   "source": [
    "required_parameters = {\n",
    "    \"experiment_name\",\n",
    "    \"lr\",\n",
    "    \"device\",\n",
    "    \"seed\",\n",
    "    \"dataset_seed\",\n",
    "    \"n_shot\",\n",
    "    \"n_query\",\n",
    "    \"n_way\",\n",
    "    \"train_k_factor\",\n",
    "    \"val_k_factor\",\n",
    "    \"test_k_factor\",\n",
    "    \"n_epoch\",\n",
    "    \"patience\",\n",
    "    \"criteria_for_best\",\n",
    "    \"x_net\",\n",
    "    \"datasets\",\n",
    "    \"torch_default_dtype\",\n",
    "    \"NUM_LOGS_PER_EPOCH\",\n",
    "    \"BEST_MODEL_PATH\",\n",
    "    \"x_shape\",\n",
    "}"
   ]
  },
  {
   "cell_type": "code",
   "execution_count": 3,
   "id": "fa3f0049",
   "metadata": {
    "execution": {
     "iopub.execute_input": "2022-03-22T21:50:39.881994Z",
     "iopub.status.busy": "2022-03-22T21:50:39.881096Z",
     "iopub.status.idle": "2022-03-22T21:50:39.903135Z",
     "shell.execute_reply": "2022-03-22T21:50:39.902428Z"
    },
    "papermill": {
     "duration": 0.056565,
     "end_time": "2022-03-22T21:50:39.903291",
     "exception": false,
     "start_time": "2022-03-22T21:50:39.846726",
     "status": "completed"
    },
    "tags": [
     "parameters"
    ]
   },
   "outputs": [],
   "source": [
    "from steves_utils.CORES.utils import (\n",
    "    ALL_NODES,\n",
    "    ALL_NODES_MINIMUM_1000_EXAMPLES,\n",
    "    ALL_DAYS\n",
    ")\n",
    "\n",
    "from steves_utils.ORACLE.utils_v2 import (\n",
    "    ALL_DISTANCES_FEET_NARROWED,\n",
    "    ALL_RUNS,\n",
    "    ALL_SERIAL_NUMBERS,\n",
    ")\n",
    "\n",
    "standalone_parameters = {}\n",
    "standalone_parameters[\"experiment_name\"] = \"STANDALONE PTN\"\n",
    "standalone_parameters[\"lr\"] = 0.001\n",
    "standalone_parameters[\"device\"] = \"cuda\"\n",
    "\n",
    "standalone_parameters[\"seed\"] = 1337\n",
    "standalone_parameters[\"dataset_seed\"] = 1337\n",
    "\n",
    "standalone_parameters[\"n_way\"] = 8\n",
    "standalone_parameters[\"n_shot\"] = 3\n",
    "standalone_parameters[\"n_query\"]  = 2\n",
    "standalone_parameters[\"train_k_factor\"] = 1\n",
    "standalone_parameters[\"val_k_factor\"] = 2\n",
    "standalone_parameters[\"test_k_factor\"] = 2\n",
    "\n",
    "\n",
    "standalone_parameters[\"n_epoch\"] = 50\n",
    "\n",
    "standalone_parameters[\"patience\"] = 10\n",
    "standalone_parameters[\"criteria_for_best\"] = \"source_loss\"\n",
    "\n",
    "standalone_parameters[\"datasets\"] = [\n",
    "    {\n",
    "        \"labels\": ALL_SERIAL_NUMBERS,\n",
    "        \"domains\": ALL_DISTANCES_FEET_NARROWED,\n",
    "        \"num_examples_per_domain_per_label\": 100,\n",
    "        \"pickle_path\": os.path.join(get_datasets_base_path(), \"oracle.Run1_framed_2000Examples_stratified_ds.2022A.pkl\"),\n",
    "        \"source_or_target_dataset\": \"source\",\n",
    "        \"x_transforms\": [\"unit_mag\", \"minus_two\"],\n",
    "        \"episode_transforms\": [],\n",
    "        \"domain_prefix\": \"ORACLE_\"\n",
    "    },\n",
    "    {\n",
    "        \"labels\": ALL_NODES,\n",
    "        \"domains\": ALL_DAYS,\n",
    "        \"num_examples_per_domain_per_label\": 100,\n",
    "        \"pickle_path\": os.path.join(get_datasets_base_path(), \"cores.stratified_ds.2022A.pkl\"),\n",
    "        \"source_or_target_dataset\": \"target\",\n",
    "        \"x_transforms\": [\"unit_power\", \"times_zero\"],\n",
    "        \"episode_transforms\": [],\n",
    "        \"domain_prefix\": \"CORES_\"\n",
    "    }   \n",
    "]\n",
    "\n",
    "standalone_parameters[\"torch_default_dtype\"] = \"torch.float32\" \n",
    "\n",
    "\n",
    "\n",
    "standalone_parameters[\"x_net\"] =     [\n",
    "    {\"class\": \"nnReshape\", \"kargs\": {\"shape\":[-1, 1, 2, 256]}},\n",
    "    {\"class\": \"Conv2d\", \"kargs\": { \"in_channels\":1, \"out_channels\":256, \"kernel_size\":(1,7), \"bias\":False, \"padding\":(0,3), },},\n",
    "    {\"class\": \"ReLU\", \"kargs\": {\"inplace\": True}},\n",
    "    {\"class\": \"BatchNorm2d\", \"kargs\": {\"num_features\":256}},\n",
    "\n",
    "    {\"class\": \"Conv2d\", \"kargs\": { \"in_channels\":256, \"out_channels\":80, \"kernel_size\":(2,7), \"bias\":True, \"padding\":(0,3), },},\n",
    "    {\"class\": \"ReLU\", \"kargs\": {\"inplace\": True}},\n",
    "    {\"class\": \"BatchNorm2d\", \"kargs\": {\"num_features\":80}},\n",
    "    {\"class\": \"Flatten\", \"kargs\": {}},\n",
    "\n",
    "    {\"class\": \"Linear\", \"kargs\": {\"in_features\": 80*256, \"out_features\": 256}}, # 80 units per IQ pair\n",
    "    {\"class\": \"ReLU\", \"kargs\": {\"inplace\": True}},\n",
    "    {\"class\": \"BatchNorm1d\", \"kargs\": {\"num_features\":256}},\n",
    "\n",
    "    {\"class\": \"Linear\", \"kargs\": {\"in_features\": 256, \"out_features\": 256}},\n",
    "]\n",
    "\n",
    "# Parameters relevant to results\n",
    "# These parameters will basically never need to change\n",
    "standalone_parameters[\"NUM_LOGS_PER_EPOCH\"] = 10\n",
    "standalone_parameters[\"BEST_MODEL_PATH\"] = \"./best_model.pth\"\n",
    "\n",
    "\n",
    "\n",
    "\n"
   ]
  },
  {
   "cell_type": "code",
   "execution_count": 4,
   "id": "afd412eb",
   "metadata": {
    "execution": {
     "iopub.execute_input": "2022-03-22T21:50:39.965748Z",
     "iopub.status.busy": "2022-03-22T21:50:39.964685Z",
     "iopub.status.idle": "2022-03-22T21:50:39.985237Z",
     "shell.execute_reply": "2022-03-22T21:50:39.985907Z"
    },
    "papermill": {
     "duration": 0.055642,
     "end_time": "2022-03-22T21:50:39.986096",
     "exception": false,
     "start_time": "2022-03-22T21:50:39.930454",
     "status": "completed"
    },
    "tags": [
     "injected-parameters"
    ]
   },
   "outputs": [],
   "source": [
    "# Parameters\n",
    "parameters = {\n",
    "    \"experiment_name\": \"tl_1v2:cores-oracle.run1\",\n",
    "    \"device\": \"cuda\",\n",
    "    \"lr\": 0.0001,\n",
    "    \"n_shot\": 3,\n",
    "    \"n_query\": 2,\n",
    "    \"train_k_factor\": 3,\n",
    "    \"val_k_factor\": 2,\n",
    "    \"test_k_factor\": 2,\n",
    "    \"torch_default_dtype\": \"torch.float32\",\n",
    "    \"n_epoch\": 50,\n",
    "    \"patience\": 3,\n",
    "    \"criteria_for_best\": \"target_accuracy\",\n",
    "    \"x_net\": [\n",
    "        {\"class\": \"nnReshape\", \"kargs\": {\"shape\": [-1, 1, 2, 256]}},\n",
    "        {\n",
    "            \"class\": \"Conv2d\",\n",
    "            \"kargs\": {\n",
    "                \"in_channels\": 1,\n",
    "                \"out_channels\": 256,\n",
    "                \"kernel_size\": [1, 7],\n",
    "                \"bias\": False,\n",
    "                \"padding\": [0, 3],\n",
    "            },\n",
    "        },\n",
    "        {\"class\": \"ReLU\", \"kargs\": {\"inplace\": True}},\n",
    "        {\"class\": \"BatchNorm2d\", \"kargs\": {\"num_features\": 256}},\n",
    "        {\n",
    "            \"class\": \"Conv2d\",\n",
    "            \"kargs\": {\n",
    "                \"in_channels\": 256,\n",
    "                \"out_channels\": 80,\n",
    "                \"kernel_size\": [2, 7],\n",
    "                \"bias\": True,\n",
    "                \"padding\": [0, 3],\n",
    "            },\n",
    "        },\n",
    "        {\"class\": \"ReLU\", \"kargs\": {\"inplace\": True}},\n",
    "        {\"class\": \"BatchNorm2d\", \"kargs\": {\"num_features\": 80}},\n",
    "        {\"class\": \"Flatten\", \"kargs\": {}},\n",
    "        {\"class\": \"Linear\", \"kargs\": {\"in_features\": 20480, \"out_features\": 256}},\n",
    "        {\"class\": \"ReLU\", \"kargs\": {\"inplace\": True}},\n",
    "        {\"class\": \"BatchNorm1d\", \"kargs\": {\"num_features\": 256}},\n",
    "        {\"class\": \"Linear\", \"kargs\": {\"in_features\": 256, \"out_features\": 256}},\n",
    "    ],\n",
    "    \"NUM_LOGS_PER_EPOCH\": 10,\n",
    "    \"BEST_MODEL_PATH\": \"./best_model.pth\",\n",
    "    \"n_way\": 16,\n",
    "    \"datasets\": [\n",
    "        {\n",
    "            \"labels\": [\n",
    "                \"1-10.\",\n",
    "                \"1-11.\",\n",
    "                \"1-15.\",\n",
    "                \"1-16.\",\n",
    "                \"1-17.\",\n",
    "                \"1-18.\",\n",
    "                \"1-19.\",\n",
    "                \"10-4.\",\n",
    "                \"10-7.\",\n",
    "                \"11-1.\",\n",
    "                \"11-14.\",\n",
    "                \"11-17.\",\n",
    "                \"11-20.\",\n",
    "                \"11-7.\",\n",
    "                \"13-20.\",\n",
    "                \"13-8.\",\n",
    "                \"14-10.\",\n",
    "                \"14-11.\",\n",
    "                \"14-14.\",\n",
    "                \"14-7.\",\n",
    "                \"15-1.\",\n",
    "                \"15-20.\",\n",
    "                \"16-1.\",\n",
    "                \"16-16.\",\n",
    "                \"17-10.\",\n",
    "                \"17-11.\",\n",
    "                \"17-2.\",\n",
    "                \"19-1.\",\n",
    "                \"19-16.\",\n",
    "                \"19-19.\",\n",
    "                \"19-20.\",\n",
    "                \"19-3.\",\n",
    "                \"2-10.\",\n",
    "                \"2-11.\",\n",
    "                \"2-17.\",\n",
    "                \"2-18.\",\n",
    "                \"2-20.\",\n",
    "                \"2-3.\",\n",
    "                \"2-4.\",\n",
    "                \"2-5.\",\n",
    "                \"2-6.\",\n",
    "                \"2-7.\",\n",
    "                \"2-8.\",\n",
    "                \"3-13.\",\n",
    "                \"3-18.\",\n",
    "                \"3-3.\",\n",
    "                \"4-1.\",\n",
    "                \"4-10.\",\n",
    "                \"4-11.\",\n",
    "                \"4-19.\",\n",
    "                \"5-5.\",\n",
    "                \"6-15.\",\n",
    "                \"7-10.\",\n",
    "                \"7-14.\",\n",
    "                \"8-18.\",\n",
    "                \"8-20.\",\n",
    "                \"8-3.\",\n",
    "                \"8-8.\",\n",
    "            ],\n",
    "            \"domains\": [1, 2, 3, 4, 5],\n",
    "            \"num_examples_per_domain_per_label\": -1,\n",
    "            \"pickle_path\": \"/root/csc500-main/datasets/cores.stratified_ds.2022A.pkl\",\n",
    "            \"source_or_target_dataset\": \"target\",\n",
    "            \"x_transforms\": [\"unit_power\"],\n",
    "            \"episode_transforms\": [],\n",
    "            \"domain_prefix\": \"CORES_\",\n",
    "        },\n",
    "        {\n",
    "            \"labels\": [\n",
    "                \"3123D52\",\n",
    "                \"3123D65\",\n",
    "                \"3123D79\",\n",
    "                \"3123D80\",\n",
    "                \"3123D54\",\n",
    "                \"3123D70\",\n",
    "                \"3123D7B\",\n",
    "                \"3123D89\",\n",
    "                \"3123D58\",\n",
    "                \"3123D76\",\n",
    "                \"3123D7D\",\n",
    "                \"3123EFE\",\n",
    "                \"3123D64\",\n",
    "                \"3123D78\",\n",
    "                \"3123D7E\",\n",
    "                \"3124E4A\",\n",
    "            ],\n",
    "            \"domains\": [32, 38, 8, 44, 14, 50, 20, 26],\n",
    "            \"num_examples_per_domain_per_label\": 10000,\n",
    "            \"pickle_path\": \"/root/csc500-main/datasets/oracle.Run1_10kExamples_stratified_ds.2022A.pkl\",\n",
    "            \"source_or_target_dataset\": \"source\",\n",
    "            \"x_transforms\": [\"unit_power\"],\n",
    "            \"episode_transforms\": [],\n",
    "            \"domain_prefix\": \"ORACLE.run1_\",\n",
    "        },\n",
    "    ],\n",
    "    \"dataset_seed\": 7,\n",
    "    \"seed\": 7,\n",
    "}\n"
   ]
  },
  {
   "cell_type": "code",
   "execution_count": 5,
   "id": "8fa1cc33",
   "metadata": {
    "execution": {
     "iopub.execute_input": "2022-03-22T21:50:40.038759Z",
     "iopub.status.busy": "2022-03-22T21:50:40.038186Z",
     "iopub.status.idle": "2022-03-22T21:50:40.060224Z",
     "shell.execute_reply": "2022-03-22T21:50:40.059469Z"
    },
    "papermill": {
     "duration": 0.048409,
     "end_time": "2022-03-22T21:50:40.060390",
     "exception": false,
     "start_time": "2022-03-22T21:50:40.011981",
     "status": "completed"
    },
    "tags": []
   },
   "outputs": [],
   "source": [
    "# Set this to True if you want to run this template directly\n",
    "STANDALONE = False\n",
    "if STANDALONE:\n",
    "    print(\"parameters not injected, running with standalone_parameters\")\n",
    "    parameters = standalone_parameters\n",
    "\n",
    "if not 'parameters' in locals() and not 'parameters' in globals():\n",
    "    raise Exception(\"Parameter injection failed\")\n",
    "\n",
    "#Use an easy dict for all the parameters\n",
    "p = EasyDict(parameters)\n",
    "\n",
    "if \"x_shape\" not in p:\n",
    "    p.x_shape = [2,256] # Default to this if we dont supply x_shape\n",
    "\n",
    "\n",
    "supplied_keys = set(p.keys())\n",
    "\n",
    "if  supplied_keys != required_parameters:\n",
    "    print(\"Parameters are incorrect\")\n",
    "    if len(supplied_keys - required_parameters)>0: print(\"Shouldn't have:\", str(supplied_keys - required_parameters))\n",
    "    if len(required_parameters - supplied_keys)>0: print(\"Need to have:\", str(required_parameters - supplied_keys))\n",
    "    raise RuntimeError(\"Parameters are incorrect\")"
   ]
  },
  {
   "cell_type": "code",
   "execution_count": 6,
   "id": "3a028d58",
   "metadata": {
    "execution": {
     "iopub.execute_input": "2022-03-22T21:50:40.111267Z",
     "iopub.status.busy": "2022-03-22T21:50:40.110896Z",
     "iopub.status.idle": "2022-03-22T21:50:40.134979Z",
     "shell.execute_reply": "2022-03-22T21:50:40.135675Z"
    },
    "papermill": {
     "duration": 0.048415,
     "end_time": "2022-03-22T21:50:40.135859",
     "exception": false,
     "start_time": "2022-03-22T21:50:40.087444",
     "status": "completed"
    },
    "tags": []
   },
   "outputs": [],
   "source": [
    "###################################\n",
    "# Set the RNGs and make it all deterministic\n",
    "###################################\n",
    "np.random.seed(p.seed)\n",
    "random.seed(p.seed)\n",
    "torch.manual_seed(p.seed)\n",
    "\n",
    "torch.use_deterministic_algorithms(True) "
   ]
  },
  {
   "cell_type": "code",
   "execution_count": 7,
   "id": "b691acf6",
   "metadata": {
    "execution": {
     "iopub.execute_input": "2022-03-22T21:50:40.186277Z",
     "iopub.status.busy": "2022-03-22T21:50:40.185904Z",
     "iopub.status.idle": "2022-03-22T21:50:40.208710Z",
     "shell.execute_reply": "2022-03-22T21:50:40.207900Z"
    },
    "papermill": {
     "duration": 0.046096,
     "end_time": "2022-03-22T21:50:40.208866",
     "exception": false,
     "start_time": "2022-03-22T21:50:40.162770",
     "status": "completed"
    },
    "tags": []
   },
   "outputs": [],
   "source": [
    "###########################################\n",
    "# The stratified datasets honor this\n",
    "###########################################\n",
    "torch.set_default_dtype(eval(p.torch_default_dtype))"
   ]
  },
  {
   "cell_type": "code",
   "execution_count": 8,
   "id": "b5fba671",
   "metadata": {
    "execution": {
     "iopub.execute_input": "2022-03-22T21:50:40.257285Z",
     "iopub.status.busy": "2022-03-22T21:50:40.256720Z",
     "iopub.status.idle": "2022-03-22T21:50:40.315907Z",
     "shell.execute_reply": "2022-03-22T21:50:40.315124Z"
    },
    "papermill": {
     "duration": 0.08276,
     "end_time": "2022-03-22T21:50:40.316091",
     "exception": false,
     "start_time": "2022-03-22T21:50:40.233331",
     "status": "completed"
    },
    "tags": []
   },
   "outputs": [],
   "source": [
    "###################################\n",
    "# Build the network(s)\n",
    "# Note: It's critical to do this AFTER setting the RNG\n",
    "###################################\n",
    "x_net = build_sequential(p.x_net)"
   ]
  },
  {
   "cell_type": "code",
   "execution_count": 9,
   "id": "5d7e61cc",
   "metadata": {
    "execution": {
     "iopub.execute_input": "2022-03-22T21:50:40.368860Z",
     "iopub.status.busy": "2022-03-22T21:50:40.368492Z",
     "iopub.status.idle": "2022-03-22T21:50:40.395377Z",
     "shell.execute_reply": "2022-03-22T21:50:40.394562Z"
    },
    "papermill": {
     "duration": 0.051494,
     "end_time": "2022-03-22T21:50:40.395544",
     "exception": false,
     "start_time": "2022-03-22T21:50:40.344050",
     "status": "completed"
    },
    "tags": []
   },
   "outputs": [],
   "source": [
    "start_time_secs = time.time()"
   ]
  },
  {
   "cell_type": "code",
   "execution_count": 10,
   "id": "c6b67dfd",
   "metadata": {
    "execution": {
     "iopub.execute_input": "2022-03-22T21:50:40.447711Z",
     "iopub.status.busy": "2022-03-22T21:50:40.447067Z",
     "iopub.status.idle": "2022-03-22T21:50:40.473590Z",
     "shell.execute_reply": "2022-03-22T21:50:40.474270Z"
    },
    "papermill": {
     "duration": 0.05131,
     "end_time": "2022-03-22T21:50:40.474456",
     "exception": false,
     "start_time": "2022-03-22T21:50:40.423146",
     "status": "completed"
    },
    "tags": []
   },
   "outputs": [],
   "source": [
    "p.domains_source = []\n",
    "p.domains_target = []\n",
    "\n",
    "\n",
    "train_original_source = []\n",
    "val_original_source   = []\n",
    "test_original_source  = []\n",
    "\n",
    "train_original_target = []\n",
    "val_original_target   = []\n",
    "test_original_target  = []"
   ]
  },
  {
   "cell_type": "code",
   "execution_count": 11,
   "id": "e3d9c3d3",
   "metadata": {
    "execution": {
     "iopub.execute_input": "2022-03-22T21:50:40.525512Z",
     "iopub.status.busy": "2022-03-22T21:50:40.525129Z",
     "iopub.status.idle": "2022-03-22T21:50:40.548590Z",
     "shell.execute_reply": "2022-03-22T21:50:40.547791Z"
    },
    "papermill": {
     "duration": 0.047435,
     "end_time": "2022-03-22T21:50:40.548742",
     "exception": false,
     "start_time": "2022-03-22T21:50:40.501307",
     "status": "completed"
    },
    "tags": []
   },
   "outputs": [],
   "source": [
    "# global_x_transform_func = lambda x: normalize(x.to(torch.get_default_dtype()), \"unit_power\") # unit_power, unit_mag\n",
    "# global_x_transform_func = lambda x: normalize(x, \"unit_power\") # unit_power, unit_mag"
   ]
  },
  {
   "cell_type": "code",
   "execution_count": 12,
   "id": "acb78fd2",
   "metadata": {
    "execution": {
     "iopub.execute_input": "2022-03-22T21:50:40.610813Z",
     "iopub.status.busy": "2022-03-22T21:50:40.609693Z",
     "iopub.status.idle": "2022-03-22T21:50:40.630645Z",
     "shell.execute_reply": "2022-03-22T21:50:40.629845Z"
    },
    "papermill": {
     "duration": 0.054341,
     "end_time": "2022-03-22T21:50:40.630799",
     "exception": false,
     "start_time": "2022-03-22T21:50:40.576458",
     "status": "completed"
    },
    "tags": []
   },
   "outputs": [],
   "source": [
    "def add_dataset(\n",
    "    labels,\n",
    "    domains,\n",
    "    pickle_path,\n",
    "    x_transforms,\n",
    "    episode_transforms,\n",
    "    domain_prefix,\n",
    "    num_examples_per_domain_per_label,\n",
    "    source_or_target_dataset:str,\n",
    "    iterator_seed=p.seed,\n",
    "    dataset_seed=p.dataset_seed,\n",
    "    n_shot=p.n_shot,\n",
    "    n_way=p.n_way,\n",
    "    n_query=p.n_query,\n",
    "    train_val_test_k_factors=(p.train_k_factor,p.val_k_factor,p.test_k_factor),\n",
    "):\n",
    "   \n",
    "    if x_transforms == []: x_transform = None\n",
    "    else: x_transform = get_chained_transform(x_transforms)\n",
    "    \n",
    "    if episode_transforms == []: episode_transform = None\n",
    "    else: raise Exception(\"episode_transforms not implemented\")\n",
    "    \n",
    "    episode_transform = lambda tup, _prefix=domain_prefix: (_prefix + str(tup[0]), tup[1])\n",
    "\n",
    "\n",
    "    eaf = Episodic_Accessor_Factory(\n",
    "        labels=labels,\n",
    "        domains=domains,\n",
    "        num_examples_per_domain_per_label=num_examples_per_domain_per_label,\n",
    "        iterator_seed=iterator_seed,\n",
    "        dataset_seed=dataset_seed,\n",
    "        n_shot=n_shot,\n",
    "        n_way=n_way,\n",
    "        n_query=n_query,\n",
    "        train_val_test_k_factors=train_val_test_k_factors,\n",
    "        pickle_path=pickle_path,\n",
    "        x_transform_func=x_transform,\n",
    "    )\n",
    "\n",
    "    train, val, test = eaf.get_train(), eaf.get_val(), eaf.get_test()\n",
    "    train = Lazy_Iterable_Wrapper(train, episode_transform)\n",
    "    val = Lazy_Iterable_Wrapper(val, episode_transform)\n",
    "    test = Lazy_Iterable_Wrapper(test, episode_transform)\n",
    "\n",
    "    if source_or_target_dataset==\"source\":\n",
    "        train_original_source.append(train)\n",
    "        val_original_source.append(val)\n",
    "        test_original_source.append(test)\n",
    "\n",
    "        p.domains_source.extend(\n",
    "            [domain_prefix + str(u) for u in domains]\n",
    "        )\n",
    "    elif source_or_target_dataset==\"target\":\n",
    "        train_original_target.append(train)\n",
    "        val_original_target.append(val)\n",
    "        test_original_target.append(test)\n",
    "        p.domains_target.extend(\n",
    "            [domain_prefix + str(u) for u in domains]\n",
    "        )\n",
    "    else:\n",
    "        raise Exception(f\"invalid source_or_target_dataset: {source_or_target_dataset}\")\n",
    "    "
   ]
  },
  {
   "cell_type": "code",
   "execution_count": 13,
   "id": "fe266617",
   "metadata": {
    "execution": {
     "iopub.execute_input": "2022-03-22T21:50:40.685155Z",
     "iopub.status.busy": "2022-03-22T21:50:40.684595Z",
     "iopub.status.idle": "2022-03-22T21:52:49.456915Z",
     "shell.execute_reply": "2022-03-22T21:52:49.457638Z"
    },
    "papermill": {
     "duration": 128.798329,
     "end_time": "2022-03-22T21:52:49.457868",
     "exception": false,
     "start_time": "2022-03-22T21:50:40.659539",
     "status": "completed"
    },
    "tags": []
   },
   "outputs": [],
   "source": [
    "for ds in p.datasets:\n",
    "    add_dataset(**ds)"
   ]
  },
  {
   "cell_type": "code",
   "execution_count": 14,
   "id": "b90d65ac",
   "metadata": {
    "execution": {
     "iopub.execute_input": "2022-03-22T21:52:49.512540Z",
     "iopub.status.busy": "2022-03-22T21:52:49.512133Z",
     "iopub.status.idle": "2022-03-22T21:52:49.540353Z",
     "shell.execute_reply": "2022-03-22T21:52:49.539311Z"
    },
    "papermill": {
     "duration": 0.054829,
     "end_time": "2022-03-22T21:52:49.540611",
     "exception": false,
     "start_time": "2022-03-22T21:52:49.485782",
     "status": "completed"
    },
    "tags": []
   },
   "outputs": [],
   "source": [
    "# from steves_utils.CORES.utils import (\n",
    "#     ALL_NODES,\n",
    "#     ALL_NODES_MINIMUM_1000_EXAMPLES,\n",
    "#     ALL_DAYS\n",
    "# )\n",
    "\n",
    "# add_dataset(\n",
    "#     labels=ALL_NODES,\n",
    "#     domains = ALL_DAYS,\n",
    "#     num_examples_per_domain_per_label=100,\n",
    "#     pickle_path=os.path.join(get_datasets_base_path(), \"cores.stratified_ds.2022A.pkl\"),\n",
    "#     source_or_target_dataset=\"target\",\n",
    "#     x_transform_func=global_x_transform_func,\n",
    "#     domain_modifier=lambda u: f\"cores_{u}\"\n",
    "# )"
   ]
  },
  {
   "cell_type": "code",
   "execution_count": 15,
   "id": "76db484d",
   "metadata": {
    "execution": {
     "iopub.execute_input": "2022-03-22T21:52:49.593733Z",
     "iopub.status.busy": "2022-03-22T21:52:49.592850Z",
     "iopub.status.idle": "2022-03-22T21:52:49.616553Z",
     "shell.execute_reply": "2022-03-22T21:52:49.615626Z"
    },
    "papermill": {
     "duration": 0.04947,
     "end_time": "2022-03-22T21:52:49.616795",
     "exception": false,
     "start_time": "2022-03-22T21:52:49.567325",
     "status": "completed"
    },
    "tags": []
   },
   "outputs": [],
   "source": [
    "# from steves_utils.ORACLE.utils_v2 import (\n",
    "#     ALL_DISTANCES_FEET,\n",
    "#     ALL_RUNS,\n",
    "#     ALL_SERIAL_NUMBERS,\n",
    "# )\n",
    "\n",
    "\n",
    "# add_dataset(\n",
    "#     labels=ALL_SERIAL_NUMBERS,\n",
    "#     domains = list(set(ALL_DISTANCES_FEET) - {2,62}),\n",
    "#     num_examples_per_domain_per_label=100,\n",
    "#     pickle_path=os.path.join(get_datasets_base_path(), \"oracle.Run2_framed_2000Examples_stratified_ds.2022A.pkl\"),\n",
    "#     source_or_target_dataset=\"source\",\n",
    "#     x_transform_func=global_x_transform_func,\n",
    "#     domain_modifier=lambda u: f\"oracle1_{u}\"\n",
    "# )\n"
   ]
  },
  {
   "cell_type": "code",
   "execution_count": 16,
   "id": "97dea9d2",
   "metadata": {
    "execution": {
     "iopub.execute_input": "2022-03-22T21:52:49.673995Z",
     "iopub.status.busy": "2022-03-22T21:52:49.673169Z",
     "iopub.status.idle": "2022-03-22T21:52:49.694191Z",
     "shell.execute_reply": "2022-03-22T21:52:49.693403Z"
    },
    "papermill": {
     "duration": 0.04831,
     "end_time": "2022-03-22T21:52:49.694367",
     "exception": false,
     "start_time": "2022-03-22T21:52:49.646057",
     "status": "completed"
    },
    "tags": []
   },
   "outputs": [],
   "source": [
    "# from steves_utils.ORACLE.utils_v2 import (\n",
    "#     ALL_DISTANCES_FEET,\n",
    "#     ALL_RUNS,\n",
    "#     ALL_SERIAL_NUMBERS,\n",
    "# )\n",
    "\n",
    "\n",
    "# add_dataset(\n",
    "#     labels=ALL_SERIAL_NUMBERS,\n",
    "#     domains = list(set(ALL_DISTANCES_FEET) - {2,62,56}),\n",
    "#     num_examples_per_domain_per_label=100,\n",
    "#     pickle_path=os.path.join(get_datasets_base_path(), \"oracle.Run2_framed_2000Examples_stratified_ds.2022A.pkl\"),\n",
    "#     source_or_target_dataset=\"source\",\n",
    "#     x_transform_func=global_x_transform_func,\n",
    "#     domain_modifier=lambda u: f\"oracle2_{u}\"\n",
    "# )"
   ]
  },
  {
   "cell_type": "code",
   "execution_count": 17,
   "id": "6f289866",
   "metadata": {
    "execution": {
     "iopub.execute_input": "2022-03-22T21:52:49.748694Z",
     "iopub.status.busy": "2022-03-22T21:52:49.748313Z",
     "iopub.status.idle": "2022-03-22T21:52:49.773980Z",
     "shell.execute_reply": "2022-03-22T21:52:49.773180Z"
    },
    "papermill": {
     "duration": 0.051512,
     "end_time": "2022-03-22T21:52:49.774156",
     "exception": false,
     "start_time": "2022-03-22T21:52:49.722644",
     "status": "completed"
    },
    "tags": []
   },
   "outputs": [],
   "source": [
    "# add_dataset(\n",
    "#     labels=list(range(19)),\n",
    "#     domains = [0,1,2],\n",
    "#     num_examples_per_domain_per_label=100,\n",
    "#     pickle_path=os.path.join(get_datasets_base_path(), \"metehan.stratified_ds.2022A.pkl\"),\n",
    "#     source_or_target_dataset=\"target\",\n",
    "#     x_transform_func=global_x_transform_func,\n",
    "#     domain_modifier=lambda u: f\"met_{u}\"\n",
    "# )"
   ]
  },
  {
   "cell_type": "code",
   "execution_count": 18,
   "id": "86a863c3",
   "metadata": {
    "execution": {
     "iopub.execute_input": "2022-03-22T21:52:49.828995Z",
     "iopub.status.busy": "2022-03-22T21:52:49.828430Z",
     "iopub.status.idle": "2022-03-22T21:52:49.850117Z",
     "shell.execute_reply": "2022-03-22T21:52:49.849276Z"
    },
    "papermill": {
     "duration": 0.047563,
     "end_time": "2022-03-22T21:52:49.850298",
     "exception": false,
     "start_time": "2022-03-22T21:52:49.802735",
     "status": "completed"
    },
    "tags": []
   },
   "outputs": [],
   "source": [
    "# # from steves_utils.wisig.utils import (\n",
    "# #     ALL_NODES_MINIMUM_100_EXAMPLES,\n",
    "# #     ALL_NODES_MINIMUM_500_EXAMPLES,\n",
    "# #     ALL_NODES_MINIMUM_1000_EXAMPLES,\n",
    "# #     ALL_DAYS\n",
    "# # )\n",
    "\n",
    "# import steves_utils.wisig.utils as wisig\n",
    "\n",
    "\n",
    "# add_dataset(\n",
    "#     labels=wisig.ALL_NODES_MINIMUM_100_EXAMPLES,\n",
    "#     domains = wisig.ALL_DAYS,\n",
    "#     num_examples_per_domain_per_label=100,\n",
    "#     pickle_path=os.path.join(get_datasets_base_path(), \"wisig.node3-19.stratified_ds.2022A.pkl\"),\n",
    "#     source_or_target_dataset=\"target\",\n",
    "#     x_transform_func=global_x_transform_func,\n",
    "#     domain_modifier=lambda u: f\"wisig_{u}\"\n",
    "# )"
   ]
  },
  {
   "cell_type": "code",
   "execution_count": 19,
   "id": "fd5442bc",
   "metadata": {
    "execution": {
     "iopub.execute_input": "2022-03-22T21:52:49.907144Z",
     "iopub.status.busy": "2022-03-22T21:52:49.905205Z",
     "iopub.status.idle": "2022-03-22T21:52:49.925630Z",
     "shell.execute_reply": "2022-03-22T21:52:49.924772Z"
    },
    "papermill": {
     "duration": 0.050113,
     "end_time": "2022-03-22T21:52:49.925800",
     "exception": false,
     "start_time": "2022-03-22T21:52:49.875687",
     "status": "completed"
    },
    "tags": []
   },
   "outputs": [],
   "source": [
    "###################################\n",
    "# Build the dataset\n",
    "###################################\n",
    "train_original_source = Iterable_Aggregator(train_original_source, p.seed)\n",
    "val_original_source = Iterable_Aggregator(val_original_source, p.seed)\n",
    "test_original_source = Iterable_Aggregator(test_original_source, p.seed)\n",
    "\n",
    "\n",
    "train_original_target = Iterable_Aggregator(train_original_target, p.seed)\n",
    "val_original_target = Iterable_Aggregator(val_original_target, p.seed)\n",
    "test_original_target = Iterable_Aggregator(test_original_target, p.seed)\n",
    "\n",
    "# For CNN We only use X and Y. And we only train on the source.\n",
    "# Properly form the data using a transform lambda and Lazy_Iterable_Wrapper. Finally wrap them in a dataloader\n",
    "\n",
    "transform_lambda = lambda ex: ex[1] # Original is (<domain>, <episode>) so we strip down to episode only\n",
    "\n",
    "train_processed_source = Lazy_Iterable_Wrapper(train_original_source, transform_lambda)\n",
    "val_processed_source   = Lazy_Iterable_Wrapper(val_original_source, transform_lambda)\n",
    "test_processed_source  = Lazy_Iterable_Wrapper(test_original_source, transform_lambda)\n",
    "\n",
    "train_processed_target = Lazy_Iterable_Wrapper(train_original_target, transform_lambda)\n",
    "val_processed_target   = Lazy_Iterable_Wrapper(val_original_target, transform_lambda)\n",
    "test_processed_target  = Lazy_Iterable_Wrapper(test_original_target, transform_lambda)\n",
    "\n",
    "datasets = EasyDict({\n",
    "    \"source\": {\n",
    "        \"original\": {\"train\":train_original_source, \"val\":val_original_source, \"test\":test_original_source},\n",
    "        \"processed\": {\"train\":train_processed_source, \"val\":val_processed_source, \"test\":test_processed_source}\n",
    "    },\n",
    "    \"target\": {\n",
    "        \"original\": {\"train\":train_original_target, \"val\":val_original_target, \"test\":test_original_target},\n",
    "        \"processed\": {\"train\":train_processed_target, \"val\":val_processed_target, \"test\":test_processed_target}\n",
    "    },\n",
    "})"
   ]
  },
  {
   "cell_type": "code",
   "execution_count": 20,
   "id": "5b3c01fc",
   "metadata": {
    "execution": {
     "iopub.execute_input": "2022-03-22T21:52:49.981715Z",
     "iopub.status.busy": "2022-03-22T21:52:49.980986Z",
     "iopub.status.idle": "2022-03-22T21:53:22.538390Z",
     "shell.execute_reply": "2022-03-22T21:53:22.539476Z"
    },
    "papermill": {
     "duration": 32.585929,
     "end_time": "2022-03-22T21:53:22.539812",
     "exception": false,
     "start_time": "2022-03-22T21:52:49.953883",
     "status": "completed"
    },
    "tags": []
   },
   "outputs": [
    {
     "name": "stdout",
     "output_type": "stream",
     "text": [
      "{'ORACLE.run1_38', 'ORACLE.run1_20', 'ORACLE.run1_32', 'ORACLE.run1_50', 'ORACLE.run1_14', 'ORACLE.run1_26', 'ORACLE.run1_8', 'ORACLE.run1_44'}\n"
     ]
    },
    {
     "name": "stdout",
     "output_type": "stream",
     "text": [
      "{'CORES_4', 'CORES_2', 'CORES_5', 'CORES_3', 'CORES_1'}\n"
     ]
    },
    {
     "name": "stdout",
     "output_type": "stream",
     "text": [
      "tensor([[[ 1.2104,  0.2177,  0.8969,  ..., -0.2699, -0.8185, -0.2612],\n",
      "         [ 0.2786,  0.4093, -0.0348,  ...,  1.1146,  0.2264, -1.1320]],\n",
      "\n",
      "        [[ 0.5840,  0.9276, -1.2969,  ..., -1.5889, -0.4896,  0.9018],\n",
      "         [ 0.5239,  0.4810, -0.1460,  ..., -1.0478, -0.3693, -0.1975]],\n",
      "\n",
      "        [[-0.7359, -0.1692,  0.6852,  ...,  0.1607, -0.2538, -0.1776],\n",
      "         [ 0.4653,  0.5921,  0.7782,  ..., -0.2199,  0.7867, -1.1420]],\n",
      "\n",
      "        ...,\n",
      "\n",
      "        [[ 0.4953, -0.2030, -0.8931,  ..., -0.1055, -0.6739, -1.3234],\n",
      "         [ 0.0487,  0.1543,  0.7794,  ...,  0.7470, -0.1137,  1.1367]],\n",
      "\n",
      "        [[ 0.2961,  0.5757, -0.6086,  ...,  1.8504,  1.1596,  0.3948],\n",
      "         [ 0.6579,  0.1892, -0.2714,  ...,  0.9129,  0.4194,  0.5428]],\n",
      "\n",
      "        [[ 0.1823, -0.4915, -1.1098,  ..., -0.3171,  0.6341,  0.9512],\n",
      "         [ 0.3884, -0.6738, -1.2762,  ...,  0.3250, -0.6817,  1.4031]]])\n"
     ]
    }
   ],
   "source": [
    "from steves_utils.transforms import get_average_magnitude, get_average_power\n",
    "\n",
    "print(set([u for u,_ in val_original_source]))\n",
    "print(set([u for u,_ in val_original_target]))\n",
    "\n",
    "s_x, s_y, q_x, q_y, _ = next(iter(train_processed_source))\n",
    "print(s_x)\n",
    "\n",
    "# for ds in [\n",
    "#     train_processed_source,\n",
    "#     val_processed_source,\n",
    "#     test_processed_source,\n",
    "#     train_processed_target,\n",
    "#     val_processed_target,\n",
    "#     test_processed_target\n",
    "# ]:\n",
    "#     for s_x, s_y, q_x, q_y, _ in ds:\n",
    "#         for X in (s_x, q_x):\n",
    "#             for x in X:\n",
    "#                 assert np.isclose(get_average_magnitude(x.numpy()), 1.0)\n",
    "#                 assert np.isclose(get_average_power(x.numpy()), 1.0)\n",
    "                "
   ]
  },
  {
   "cell_type": "code",
   "execution_count": 21,
   "id": "bbdacba1",
   "metadata": {
    "execution": {
     "iopub.execute_input": "2022-03-22T21:53:22.599760Z",
     "iopub.status.busy": "2022-03-22T21:53:22.599187Z",
     "iopub.status.idle": "2022-03-22T21:53:22.875978Z",
     "shell.execute_reply": "2022-03-22T21:53:22.876506Z"
    },
    "papermill": {
     "duration": 0.309832,
     "end_time": "2022-03-22T21:53:22.876718",
     "exception": false,
     "start_time": "2022-03-22T21:53:22.566886",
     "status": "completed"
    },
    "tags": []
   },
   "outputs": [
    {
     "name": "stdout",
     "output_type": "stream",
     "text": [
      "(2, 256)\n"
     ]
    }
   ],
   "source": [
    "###################################\n",
    "# Build the model\n",
    "###################################\n",
    "# easfsl only wants a tuple for the shape\n",
    "model = Steves_Prototypical_Network(x_net, device=p.device, x_shape=tuple(p.x_shape))\n",
    "optimizer = Adam(params=model.parameters(), lr=p.lr)"
   ]
  },
  {
   "cell_type": "code",
   "execution_count": 22,
   "id": "22b39ac5",
   "metadata": {
    "execution": {
     "iopub.execute_input": "2022-03-22T21:53:22.938924Z",
     "iopub.status.busy": "2022-03-22T21:53:22.938338Z",
     "iopub.status.idle": "2022-03-23T01:10:46.315600Z",
     "shell.execute_reply": "2022-03-23T01:10:46.315251Z"
    },
    "papermill": {
     "duration": 11843.409208,
     "end_time": "2022-03-23T01:10:46.315692",
     "exception": false,
     "start_time": "2022-03-22T21:53:22.906484",
     "status": "completed"
    },
    "tags": []
   },
   "outputs": [
    {
     "name": "stdout",
     "output_type": "stream",
     "text": [
      "epoch: 1, [batch: 1 / 33600], examples_per_second: 6.6408, train_label_loss: 2.7613, \n"
     ]
    },
    {
     "name": "stdout",
     "output_type": "stream",
     "text": [
      "epoch: 1, [batch: 3360 / 33600], examples_per_second: 3946.6226, train_label_loss: 2.1320, \n"
     ]
    },
    {
     "name": "stdout",
     "output_type": "stream",
     "text": [
      "epoch: 1, [batch: 6720 / 33600], examples_per_second: 4198.3215, train_label_loss: 0.9908, \n"
     ]
    },
    {
     "name": "stdout",
     "output_type": "stream",
     "text": [
      "epoch: 1, [batch: 10080 / 33600], examples_per_second: 3943.0355, train_label_loss: 0.7218, \n"
     ]
    },
    {
     "name": "stdout",
     "output_type": "stream",
     "text": [
      "epoch: 1, [batch: 13440 / 33600], examples_per_second: 4226.4129, train_label_loss: 1.1423, \n"
     ]
    },
    {
     "name": "stdout",
     "output_type": "stream",
     "text": [
      "epoch: 1, [batch: 16800 / 33600], examples_per_second: 3969.6065, train_label_loss: 0.8631, \n"
     ]
    },
    {
     "name": "stdout",
     "output_type": "stream",
     "text": [
      "epoch: 1, [batch: 20160 / 33600], examples_per_second: 3956.3955, train_label_loss: 0.5359, \n"
     ]
    },
    {
     "name": "stdout",
     "output_type": "stream",
     "text": [
      "epoch: 1, [batch: 23520 / 33600], examples_per_second: 3997.0235, train_label_loss: 0.5527, \n"
     ]
    },
    {
     "name": "stdout",
     "output_type": "stream",
     "text": [
      "epoch: 1, [batch: 26880 / 33600], examples_per_second: 3876.8796, train_label_loss: 0.5898, \n"
     ]
    },
    {
     "name": "stdout",
     "output_type": "stream",
     "text": [
      "epoch: 1, [batch: 30240 / 33600], examples_per_second: 3987.1215, train_label_loss: 1.1973, \n"
     ]
    },
    {
     "name": "stdout",
     "output_type": "stream",
     "text": [
      "=============================================================\n",
      "epoch: 1, source_val_acc_label: 0.6339, target_val_acc_label: 0.9620, source_val_label_loss: 1.0059, target_val_label_loss: 0.1408, \n",
      "=============================================================\n"
     ]
    },
    {
     "name": "stdout",
     "output_type": "stream",
     "text": [
      "New best\n"
     ]
    },
    {
     "name": "stdout",
     "output_type": "stream",
     "text": [
      "epoch: 2, [batch: 1 / 33600], examples_per_second: 1.0201, train_label_loss: 0.7720, \n"
     ]
    },
    {
     "name": "stdout",
     "output_type": "stream",
     "text": [
      "epoch: 2, [batch: 3360 / 33600], examples_per_second: 4336.2077, train_label_loss: 0.5705, \n"
     ]
    },
    {
     "name": "stdout",
     "output_type": "stream",
     "text": [
      "epoch: 2, [batch: 6720 / 33600], examples_per_second: 5095.6295, train_label_loss: 1.4233, \n"
     ]
    },
    {
     "name": "stdout",
     "output_type": "stream",
     "text": [
      "epoch: 2, [batch: 10080 / 33600], examples_per_second: 5187.3420, train_label_loss: 0.6232, \n"
     ]
    },
    {
     "name": "stdout",
     "output_type": "stream",
     "text": [
      "epoch: 2, [batch: 13440 / 33600], examples_per_second: 4120.6920, train_label_loss: 0.3940, \n"
     ]
    },
    {
     "name": "stdout",
     "output_type": "stream",
     "text": [
      "epoch: 2, [batch: 16800 / 33600], examples_per_second: 3953.8219, train_label_loss: 0.7859, \n"
     ]
    },
    {
     "name": "stdout",
     "output_type": "stream",
     "text": [
      "epoch: 2, [batch: 20160 / 33600], examples_per_second: 4161.1051, train_label_loss: 1.2219, \n"
     ]
    },
    {
     "name": "stdout",
     "output_type": "stream",
     "text": [
      "epoch: 2, [batch: 23520 / 33600], examples_per_second: 3936.6756, train_label_loss: 1.0894, \n"
     ]
    },
    {
     "name": "stdout",
     "output_type": "stream",
     "text": [
      "epoch: 2, [batch: 26880 / 33600], examples_per_second: 4080.6313, train_label_loss: 1.1593, \n"
     ]
    },
    {
     "name": "stdout",
     "output_type": "stream",
     "text": [
      "epoch: 2, [batch: 30240 / 33600], examples_per_second: 3975.6736, train_label_loss: 1.2221, \n"
     ]
    },
    {
     "name": "stdout",
     "output_type": "stream",
     "text": [
      "=============================================================\n",
      "epoch: 2, source_val_acc_label: 0.6778, target_val_acc_label: 0.9600, source_val_label_loss: 0.8534, target_val_label_loss: 0.1805, \n",
      "=============================================================\n"
     ]
    },
    {
     "name": "stdout",
     "output_type": "stream",
     "text": [
      "epoch: 3, [batch: 1 / 33600], examples_per_second: 1.0588, train_label_loss: 0.7720, \n"
     ]
    },
    {
     "name": "stdout",
     "output_type": "stream",
     "text": [
      "epoch: 3, [batch: 3360 / 33600], examples_per_second: 3827.9602, train_label_loss: 1.2191, \n"
     ]
    },
    {
     "name": "stdout",
     "output_type": "stream",
     "text": [
      "epoch: 3, [batch: 6720 / 33600], examples_per_second: 4152.5610, train_label_loss: 1.2487, \n"
     ]
    },
    {
     "name": "stdout",
     "output_type": "stream",
     "text": [
      "epoch: 3, [batch: 10080 / 33600], examples_per_second: 3910.0676, train_label_loss: 0.7126, \n"
     ]
    },
    {
     "name": "stdout",
     "output_type": "stream",
     "text": [
      "epoch: 3, [batch: 13440 / 33600], examples_per_second: 4144.0421, train_label_loss: 0.6169, \n"
     ]
    },
    {
     "name": "stdout",
     "output_type": "stream",
     "text": [
      "epoch: 3, [batch: 16800 / 33600], examples_per_second: 3938.3943, train_label_loss: 0.7192, \n"
     ]
    },
    {
     "name": "stdout",
     "output_type": "stream",
     "text": [
      "epoch: 3, [batch: 20160 / 33600], examples_per_second: 3965.8864, train_label_loss: 1.0849, \n"
     ]
    },
    {
     "name": "stdout",
     "output_type": "stream",
     "text": [
      "epoch: 3, [batch: 23520 / 33600], examples_per_second: 4160.5778, train_label_loss: 1.0106, \n"
     ]
    },
    {
     "name": "stdout",
     "output_type": "stream",
     "text": [
      "epoch: 3, [batch: 26880 / 33600], examples_per_second: 3884.0290, train_label_loss: 1.1272, \n"
     ]
    },
    {
     "name": "stdout",
     "output_type": "stream",
     "text": [
      "epoch: 3, [batch: 30240 / 33600], examples_per_second: 4211.0500, train_label_loss: 0.6369, \n"
     ]
    },
    {
     "name": "stdout",
     "output_type": "stream",
     "text": [
      "=============================================================\n",
      "epoch: 3, source_val_acc_label: 0.6932, target_val_acc_label: 0.9659, source_val_label_loss: 0.8255, target_val_label_loss: 0.2014, \n",
      "=============================================================\n"
     ]
    },
    {
     "name": "stdout",
     "output_type": "stream",
     "text": [
      "New best\n"
     ]
    },
    {
     "name": "stdout",
     "output_type": "stream",
     "text": [
      "epoch: 4, [batch: 1 / 33600], examples_per_second: 1.0260, train_label_loss: 0.4095, \n"
     ]
    },
    {
     "name": "stdout",
     "output_type": "stream",
     "text": [
      "epoch: 4, [batch: 3360 / 33600], examples_per_second: 3916.3957, train_label_loss: 0.6124, \n"
     ]
    },
    {
     "name": "stdout",
     "output_type": "stream",
     "text": [
      "epoch: 4, [batch: 6720 / 33600], examples_per_second: 4014.7444, train_label_loss: 1.1526, \n"
     ]
    },
    {
     "name": "stdout",
     "output_type": "stream",
     "text": [
      "epoch: 4, [batch: 10080 / 33600], examples_per_second: 4006.5515, train_label_loss: 0.7946, \n"
     ]
    },
    {
     "name": "stdout",
     "output_type": "stream",
     "text": [
      "epoch: 4, [batch: 13440 / 33600], examples_per_second: 3842.0087, train_label_loss: 0.5963, \n"
     ]
    },
    {
     "name": "stdout",
     "output_type": "stream",
     "text": [
      "epoch: 4, [batch: 16800 / 33600], examples_per_second: 4084.0577, train_label_loss: 1.1664, \n"
     ]
    },
    {
     "name": "stdout",
     "output_type": "stream",
     "text": [
      "epoch: 4, [batch: 20160 / 33600], examples_per_second: 3953.3676, train_label_loss: 1.1026, \n"
     ]
    },
    {
     "name": "stdout",
     "output_type": "stream",
     "text": [
      "epoch: 4, [batch: 23520 / 33600], examples_per_second: 4024.9579, train_label_loss: 0.3476, \n"
     ]
    },
    {
     "name": "stdout",
     "output_type": "stream",
     "text": [
      "epoch: 4, [batch: 26880 / 33600], examples_per_second: 3966.3726, train_label_loss: 0.5197, \n"
     ]
    },
    {
     "name": "stdout",
     "output_type": "stream",
     "text": [
      "epoch: 4, [batch: 30240 / 33600], examples_per_second: 3963.0948, train_label_loss: 0.6981, \n"
     ]
    },
    {
     "name": "stdout",
     "output_type": "stream",
     "text": [
      "=============================================================\n",
      "epoch: 4, source_val_acc_label: 0.7090, target_val_acc_label: 0.9699, source_val_label_loss: 0.7846, target_val_label_loss: 0.2004, \n",
      "=============================================================\n"
     ]
    },
    {
     "name": "stdout",
     "output_type": "stream",
     "text": [
      "New best\n"
     ]
    },
    {
     "name": "stdout",
     "output_type": "stream",
     "text": [
      "epoch: 5, [batch: 1 / 33600], examples_per_second: 1.0466, train_label_loss: 0.4831, \n"
     ]
    },
    {
     "name": "stdout",
     "output_type": "stream",
     "text": [
      "epoch: 5, [batch: 3360 / 33600], examples_per_second: 4081.9258, train_label_loss: 0.9055, \n"
     ]
    },
    {
     "name": "stdout",
     "output_type": "stream",
     "text": [
      "epoch: 5, [batch: 6720 / 33600], examples_per_second: 3974.2164, train_label_loss: 0.7045, \n"
     ]
    },
    {
     "name": "stdout",
     "output_type": "stream",
     "text": [
      "epoch: 5, [batch: 10080 / 33600], examples_per_second: 4240.6135, train_label_loss: 0.5280, \n"
     ]
    },
    {
     "name": "stdout",
     "output_type": "stream",
     "text": [
      "epoch: 5, [batch: 13440 / 33600], examples_per_second: 3960.5521, train_label_loss: 0.7341, \n"
     ]
    },
    {
     "name": "stdout",
     "output_type": "stream",
     "text": [
      "epoch: 5, [batch: 16800 / 33600], examples_per_second: 3976.3229, train_label_loss: 0.7582, \n"
     ]
    },
    {
     "name": "stdout",
     "output_type": "stream",
     "text": [
      "epoch: 5, [batch: 20160 / 33600], examples_per_second: 4111.7927, train_label_loss: 0.5008, \n"
     ]
    },
    {
     "name": "stdout",
     "output_type": "stream",
     "text": [
      "epoch: 5, [batch: 23520 / 33600], examples_per_second: 3889.8637, train_label_loss: 0.2121, \n"
     ]
    },
    {
     "name": "stdout",
     "output_type": "stream",
     "text": [
      "epoch: 5, [batch: 26880 / 33600], examples_per_second: 4171.4157, train_label_loss: 0.5751, \n"
     ]
    },
    {
     "name": "stdout",
     "output_type": "stream",
     "text": [
      "epoch: 5, [batch: 30240 / 33600], examples_per_second: 3920.9958, train_label_loss: 0.6666, \n"
     ]
    },
    {
     "name": "stdout",
     "output_type": "stream",
     "text": [
      "=============================================================\n",
      "epoch: 5, source_val_acc_label: 0.7239, target_val_acc_label: 0.9740, source_val_label_loss: 0.7525, target_val_label_loss: 0.1920, \n",
      "=============================================================\n"
     ]
    },
    {
     "name": "stdout",
     "output_type": "stream",
     "text": [
      "New best\n"
     ]
    },
    {
     "name": "stdout",
     "output_type": "stream",
     "text": [
      "epoch: 6, [batch: 1 / 33600], examples_per_second: 1.0446, train_label_loss: 0.4874, \n"
     ]
    },
    {
     "name": "stdout",
     "output_type": "stream",
     "text": [
      "epoch: 6, [batch: 3360 / 33600], examples_per_second: 4099.7687, train_label_loss: 0.4362, \n"
     ]
    },
    {
     "name": "stdout",
     "output_type": "stream",
     "text": [
      "epoch: 6, [batch: 6720 / 33600], examples_per_second: 4033.1070, train_label_loss: 0.6563, \n"
     ]
    },
    {
     "name": "stdout",
     "output_type": "stream",
     "text": [
      "epoch: 6, [batch: 10080 / 33600], examples_per_second: 3933.2430, train_label_loss: 1.0377, \n"
     ]
    },
    {
     "name": "stdout",
     "output_type": "stream",
     "text": [
      "epoch: 6, [batch: 13440 / 33600], examples_per_second: 4014.2374, train_label_loss: 0.5663, \n"
     ]
    },
    {
     "name": "stdout",
     "output_type": "stream",
     "text": [
      "epoch: 6, [batch: 16800 / 33600], examples_per_second: 3956.0274, train_label_loss: 0.6659, \n"
     ]
    },
    {
     "name": "stdout",
     "output_type": "stream",
     "text": [
      "epoch: 6, [batch: 20160 / 33600], examples_per_second: 4102.0608, train_label_loss: 0.6837, \n"
     ]
    },
    {
     "name": "stdout",
     "output_type": "stream",
     "text": [
      "epoch: 6, [batch: 23520 / 33600], examples_per_second: 3892.9652, train_label_loss: 0.4522, \n"
     ]
    },
    {
     "name": "stdout",
     "output_type": "stream",
     "text": [
      "epoch: 6, [batch: 26880 / 33600], examples_per_second: 3914.4288, train_label_loss: 0.5702, \n"
     ]
    },
    {
     "name": "stdout",
     "output_type": "stream",
     "text": [
      "epoch: 6, [batch: 30240 / 33600], examples_per_second: 4118.3684, train_label_loss: 0.6979, \n"
     ]
    },
    {
     "name": "stdout",
     "output_type": "stream",
     "text": [
      "=============================================================\n",
      "epoch: 6, source_val_acc_label: 0.7314, target_val_acc_label: 0.9760, source_val_label_loss: 0.7430, target_val_label_loss: 0.1821, \n",
      "=============================================================\n"
     ]
    },
    {
     "name": "stdout",
     "output_type": "stream",
     "text": [
      "New best\n"
     ]
    },
    {
     "name": "stdout",
     "output_type": "stream",
     "text": [
      "epoch: 7, [batch: 1 / 33600], examples_per_second: 1.0526, train_label_loss: 0.6407, \n"
     ]
    },
    {
     "name": "stdout",
     "output_type": "stream",
     "text": [
      "epoch: 7, [batch: 3360 / 33600], examples_per_second: 3977.3217, train_label_loss: 0.4597, \n"
     ]
    },
    {
     "name": "stdout",
     "output_type": "stream",
     "text": [
      "epoch: 7, [batch: 6720 / 33600], examples_per_second: 4216.1631, train_label_loss: 0.4058, \n"
     ]
    },
    {
     "name": "stdout",
     "output_type": "stream",
     "text": [
      "epoch: 7, [batch: 10080 / 33600], examples_per_second: 3927.3725, train_label_loss: 0.3578, \n"
     ]
    },
    {
     "name": "stdout",
     "output_type": "stream",
     "text": [
      "epoch: 7, [batch: 13440 / 33600], examples_per_second: 4016.8832, train_label_loss: 0.2897, \n"
     ]
    },
    {
     "name": "stdout",
     "output_type": "stream",
     "text": [
      "epoch: 7, [batch: 16800 / 33600], examples_per_second: 4442.5152, train_label_loss: 0.6570, \n"
     ]
    },
    {
     "name": "stdout",
     "output_type": "stream",
     "text": [
      "epoch: 7, [batch: 20160 / 33600], examples_per_second: 4641.7976, train_label_loss: 0.3843, \n"
     ]
    },
    {
     "name": "stdout",
     "output_type": "stream",
     "text": [
      "epoch: 7, [batch: 23520 / 33600], examples_per_second: 5318.7789, train_label_loss: 0.3675, \n"
     ]
    },
    {
     "name": "stdout",
     "output_type": "stream",
     "text": [
      "epoch: 7, [batch: 26880 / 33600], examples_per_second: 5218.5159, train_label_loss: 0.3674, \n"
     ]
    },
    {
     "name": "stdout",
     "output_type": "stream",
     "text": [
      "epoch: 7, [batch: 30240 / 33600], examples_per_second: 4672.0511, train_label_loss: 0.5324, \n"
     ]
    },
    {
     "name": "stdout",
     "output_type": "stream",
     "text": [
      "=============================================================\n",
      "epoch: 7, source_val_acc_label: 0.7304, target_val_acc_label: 0.9772, source_val_label_loss: 0.7383, target_val_label_loss: 0.1679, \n",
      "=============================================================\n"
     ]
    },
    {
     "name": "stdout",
     "output_type": "stream",
     "text": [
      "New best\n"
     ]
    },
    {
     "name": "stdout",
     "output_type": "stream",
     "text": [
      "epoch: 8, [batch: 1 / 33600], examples_per_second: 1.0334, train_label_loss: 0.2237, \n"
     ]
    },
    {
     "name": "stdout",
     "output_type": "stream",
     "text": [
      "epoch: 8, [batch: 3360 / 33600], examples_per_second: 3882.5472, train_label_loss: 0.4023, \n"
     ]
    },
    {
     "name": "stdout",
     "output_type": "stream",
     "text": [
      "epoch: 8, [batch: 6720 / 33600], examples_per_second: 4026.6056, train_label_loss: 0.3801, \n"
     ]
    },
    {
     "name": "stdout",
     "output_type": "stream",
     "text": [
      "epoch: 8, [batch: 10080 / 33600], examples_per_second: 4078.2519, train_label_loss: 0.9058, \n"
     ]
    },
    {
     "name": "stdout",
     "output_type": "stream",
     "text": [
      "epoch: 8, [batch: 13440 / 33600], examples_per_second: 3848.8449, train_label_loss: 0.7212, \n"
     ]
    },
    {
     "name": "stdout",
     "output_type": "stream",
     "text": [
      "epoch: 8, [batch: 16800 / 33600], examples_per_second: 4079.2590, train_label_loss: 0.3433, \n"
     ]
    },
    {
     "name": "stdout",
     "output_type": "stream",
     "text": [
      "epoch: 8, [batch: 20160 / 33600], examples_per_second: 3926.2222, train_label_loss: 0.5610, \n"
     ]
    },
    {
     "name": "stdout",
     "output_type": "stream",
     "text": [
      "epoch: 8, [batch: 23520 / 33600], examples_per_second: 3994.8370, train_label_loss: 0.4409, \n"
     ]
    },
    {
     "name": "stdout",
     "output_type": "stream",
     "text": [
      "epoch: 8, [batch: 26880 / 33600], examples_per_second: 3948.0531, train_label_loss: 0.5435, \n"
     ]
    },
    {
     "name": "stdout",
     "output_type": "stream",
     "text": [
      "epoch: 8, [batch: 30240 / 33600], examples_per_second: 3916.0525, train_label_loss: 0.3278, \n"
     ]
    },
    {
     "name": "stdout",
     "output_type": "stream",
     "text": [
      "=============================================================\n",
      "epoch: 8, source_val_acc_label: 0.7305, target_val_acc_label: 0.9781, source_val_label_loss: 0.7579, target_val_label_loss: 0.1876, \n",
      "=============================================================\n"
     ]
    },
    {
     "name": "stdout",
     "output_type": "stream",
     "text": [
      "New best\n"
     ]
    },
    {
     "name": "stdout",
     "output_type": "stream",
     "text": [
      "epoch: 9, [batch: 1 / 33600], examples_per_second: 1.1207, train_label_loss: 0.2651, \n"
     ]
    },
    {
     "name": "stdout",
     "output_type": "stream",
     "text": [
      "epoch: 9, [batch: 3360 / 33600], examples_per_second: 5127.0217, train_label_loss: 0.3102, \n"
     ]
    },
    {
     "name": "stdout",
     "output_type": "stream",
     "text": [
      "epoch: 9, [batch: 6720 / 33600], examples_per_second: 5053.2840, train_label_loss: 0.2932, \n"
     ]
    },
    {
     "name": "stdout",
     "output_type": "stream",
     "text": [
      "epoch: 9, [batch: 10080 / 33600], examples_per_second: 4610.5207, train_label_loss: 0.6676, \n"
     ]
    },
    {
     "name": "stdout",
     "output_type": "stream",
     "text": [
      "epoch: 9, [batch: 13440 / 33600], examples_per_second: 3906.5266, train_label_loss: 0.5930, \n"
     ]
    },
    {
     "name": "stdout",
     "output_type": "stream",
     "text": [
      "epoch: 9, [batch: 16800 / 33600], examples_per_second: 3970.6336, train_label_loss: 0.4240, \n"
     ]
    },
    {
     "name": "stdout",
     "output_type": "stream",
     "text": [
      "epoch: 9, [batch: 20160 / 33600], examples_per_second: 3985.9606, train_label_loss: 0.4313, \n"
     ]
    },
    {
     "name": "stdout",
     "output_type": "stream",
     "text": [
      "epoch: 9, [batch: 23520 / 33600], examples_per_second: 3949.0701, train_label_loss: 0.4697, \n"
     ]
    },
    {
     "name": "stdout",
     "output_type": "stream",
     "text": [
      "epoch: 9, [batch: 26880 / 33600], examples_per_second: 4169.5529, train_label_loss: 0.4465, \n"
     ]
    },
    {
     "name": "stdout",
     "output_type": "stream",
     "text": [
      "epoch: 9, [batch: 30240 / 33600], examples_per_second: 3905.1069, train_label_loss: 0.3494, \n"
     ]
    },
    {
     "name": "stdout",
     "output_type": "stream",
     "text": [
      "=============================================================\n",
      "epoch: 9, source_val_acc_label: 0.7278, target_val_acc_label: 0.9774, source_val_label_loss: 0.7762, target_val_label_loss: 0.1896, \n",
      "=============================================================\n"
     ]
    },
    {
     "name": "stdout",
     "output_type": "stream",
     "text": [
      "epoch: 10, [batch: 1 / 33600], examples_per_second: 1.0534, train_label_loss: 0.4275, \n"
     ]
    },
    {
     "name": "stdout",
     "output_type": "stream",
     "text": [
      "epoch: 10, [batch: 3360 / 33600], examples_per_second: 4052.0771, train_label_loss: 0.3918, \n"
     ]
    },
    {
     "name": "stdout",
     "output_type": "stream",
     "text": [
      "epoch: 10, [batch: 6720 / 33600], examples_per_second: 4037.4251, train_label_loss: 0.2813, \n"
     ]
    },
    {
     "name": "stdout",
     "output_type": "stream",
     "text": [
      "epoch: 10, [batch: 10080 / 33600], examples_per_second: 3936.5338, train_label_loss: 0.5856, \n"
     ]
    },
    {
     "name": "stdout",
     "output_type": "stream",
     "text": [
      "epoch: 10, [batch: 13440 / 33600], examples_per_second: 4123.5051, train_label_loss: 0.5063, \n"
     ]
    },
    {
     "name": "stdout",
     "output_type": "stream",
     "text": [
      "epoch: 10, [batch: 16800 / 33600], examples_per_second: 4366.8596, train_label_loss: 0.5076, \n"
     ]
    },
    {
     "name": "stdout",
     "output_type": "stream",
     "text": [
      "epoch: 10, [batch: 20160 / 33600], examples_per_second: 5022.6395, train_label_loss: 0.2473, \n"
     ]
    },
    {
     "name": "stdout",
     "output_type": "stream",
     "text": [
      "epoch: 10, [batch: 23520 / 33600], examples_per_second: 4983.7495, train_label_loss: 0.1554, \n"
     ]
    },
    {
     "name": "stdout",
     "output_type": "stream",
     "text": [
      "epoch: 10, [batch: 26880 / 33600], examples_per_second: 4047.7704, train_label_loss: 0.1637, \n"
     ]
    },
    {
     "name": "stdout",
     "output_type": "stream",
     "text": [
      "epoch: 10, [batch: 30240 / 33600], examples_per_second: 3867.9390, train_label_loss: 0.5676, \n"
     ]
    },
    {
     "name": "stdout",
     "output_type": "stream",
     "text": [
      "=============================================================\n",
      "epoch: 10, source_val_acc_label: 0.7290, target_val_acc_label: 0.9767, source_val_label_loss: 0.7882, target_val_label_loss: 0.2025, \n",
      "=============================================================\n"
     ]
    },
    {
     "name": "stdout",
     "output_type": "stream",
     "text": [
      "epoch: 11, [batch: 1 / 33600], examples_per_second: 1.0395, train_label_loss: 0.2644, \n"
     ]
    },
    {
     "name": "stdout",
     "output_type": "stream",
     "text": [
      "epoch: 11, [batch: 3360 / 33600], examples_per_second: 4067.1182, train_label_loss: 0.2566, \n"
     ]
    },
    {
     "name": "stdout",
     "output_type": "stream",
     "text": [
      "epoch: 11, [batch: 6720 / 33600], examples_per_second: 3984.8524, train_label_loss: 0.1723, \n"
     ]
    },
    {
     "name": "stdout",
     "output_type": "stream",
     "text": [
      "epoch: 11, [batch: 10080 / 33600], examples_per_second: 4076.9861, train_label_loss: 0.3478, \n"
     ]
    },
    {
     "name": "stdout",
     "output_type": "stream",
     "text": [
      "epoch: 11, [batch: 13440 / 33600], examples_per_second: 4013.0337, train_label_loss: 0.1927, \n"
     ]
    },
    {
     "name": "stdout",
     "output_type": "stream",
     "text": [
      "epoch: 11, [batch: 16800 / 33600], examples_per_second: 3973.2041, train_label_loss: 0.4021, \n"
     ]
    },
    {
     "name": "stdout",
     "output_type": "stream",
     "text": [
      "epoch: 11, [batch: 20160 / 33600], examples_per_second: 4065.5982, train_label_loss: 0.4815, \n"
     ]
    },
    {
     "name": "stdout",
     "output_type": "stream",
     "text": [
      "epoch: 11, [batch: 23520 / 33600], examples_per_second: 3862.2327, train_label_loss: 0.3681, \n"
     ]
    },
    {
     "name": "stdout",
     "output_type": "stream",
     "text": [
      "epoch: 11, [batch: 26880 / 33600], examples_per_second: 4089.8693, train_label_loss: 0.2516, \n"
     ]
    },
    {
     "name": "stdout",
     "output_type": "stream",
     "text": [
      "epoch: 11, [batch: 30240 / 33600], examples_per_second: 3974.9582, train_label_loss: 0.8808, \n"
     ]
    },
    {
     "name": "stdout",
     "output_type": "stream",
     "text": [
      "=============================================================\n",
      "epoch: 11, source_val_acc_label: 0.7265, target_val_acc_label: 0.9761, source_val_label_loss: 0.8028, target_val_label_loss: 0.2186, \n",
      "=============================================================\n"
     ]
    },
    {
     "name": "stdout",
     "output_type": "stream",
     "text": [
      "epoch: 12, [batch: 1 / 33600], examples_per_second: 1.0660, train_label_loss: 0.6324, \n"
     ]
    },
    {
     "name": "stdout",
     "output_type": "stream",
     "text": [
      "epoch: 12, [batch: 3360 / 33600], examples_per_second: 3950.5401, train_label_loss: 0.2866, \n"
     ]
    },
    {
     "name": "stdout",
     "output_type": "stream",
     "text": [
      "epoch: 12, [batch: 6720 / 33600], examples_per_second: 4363.2032, train_label_loss: 0.4069, \n"
     ]
    },
    {
     "name": "stdout",
     "output_type": "stream",
     "text": [
      "epoch: 12, [batch: 10080 / 33600], examples_per_second: 4417.9905, train_label_loss: 0.2494, \n"
     ]
    },
    {
     "name": "stdout",
     "output_type": "stream",
     "text": [
      "epoch: 12, [batch: 13440 / 33600], examples_per_second: 4804.7866, train_label_loss: 0.2193, \n"
     ]
    },
    {
     "name": "stdout",
     "output_type": "stream",
     "text": [
      "epoch: 12, [batch: 16800 / 33600], examples_per_second: 4972.8932, train_label_loss: 0.4138, \n"
     ]
    },
    {
     "name": "stdout",
     "output_type": "stream",
     "text": [
      "epoch: 12, [batch: 20160 / 33600], examples_per_second: 4643.0437, train_label_loss: 0.1131, \n"
     ]
    },
    {
     "name": "stdout",
     "output_type": "stream",
     "text": [
      "epoch: 12, [batch: 23520 / 33600], examples_per_second: 3815.3282, train_label_loss: 0.1956, \n"
     ]
    },
    {
     "name": "stdout",
     "output_type": "stream",
     "text": [
      "epoch: 12, [batch: 26880 / 33600], examples_per_second: 4027.0115, train_label_loss: 0.3343, \n"
     ]
    },
    {
     "name": "stdout",
     "output_type": "stream",
     "text": [
      "epoch: 12, [batch: 30240 / 33600], examples_per_second: 4068.9315, train_label_loss: 0.2791, \n"
     ]
    },
    {
     "name": "stdout",
     "output_type": "stream",
     "text": [
      "=============================================================\n",
      "epoch: 12, source_val_acc_label: 0.7286, target_val_acc_label: 0.9782, source_val_label_loss: 0.8327, target_val_label_loss: 0.2096, \n",
      "=============================================================\n"
     ]
    },
    {
     "name": "stdout",
     "output_type": "stream",
     "text": [
      "New best\n"
     ]
    },
    {
     "name": "stdout",
     "output_type": "stream",
     "text": [
      "epoch: 13, [batch: 1 / 33600], examples_per_second: 1.0438, train_label_loss: 0.3953, \n"
     ]
    },
    {
     "name": "stdout",
     "output_type": "stream",
     "text": [
      "epoch: 13, [batch: 3360 / 33600], examples_per_second: 3816.3760, train_label_loss: 0.3780, \n"
     ]
    },
    {
     "name": "stdout",
     "output_type": "stream",
     "text": [
      "epoch: 13, [batch: 6720 / 33600], examples_per_second: 4155.3112, train_label_loss: 0.3614, \n"
     ]
    },
    {
     "name": "stdout",
     "output_type": "stream",
     "text": [
      "epoch: 13, [batch: 10080 / 33600], examples_per_second: 3932.6062, train_label_loss: 0.3812, \n"
     ]
    },
    {
     "name": "stdout",
     "output_type": "stream",
     "text": [
      "epoch: 13, [batch: 13440 / 33600], examples_per_second: 4018.3590, train_label_loss: 0.3776, \n"
     ]
    },
    {
     "name": "stdout",
     "output_type": "stream",
     "text": [
      "epoch: 13, [batch: 16800 / 33600], examples_per_second: 3985.9051, train_label_loss: 0.3272, \n"
     ]
    },
    {
     "name": "stdout",
     "output_type": "stream",
     "text": [
      "epoch: 13, [batch: 20160 / 33600], examples_per_second: 4054.5997, train_label_loss: 0.3039, \n"
     ]
    },
    {
     "name": "stdout",
     "output_type": "stream",
     "text": [
      "epoch: 13, [batch: 23520 / 33600], examples_per_second: 4308.6686, train_label_loss: 0.2492, \n"
     ]
    },
    {
     "name": "stdout",
     "output_type": "stream",
     "text": [
      "epoch: 13, [batch: 26880 / 33600], examples_per_second: 3989.2726, train_label_loss: 0.5546, \n"
     ]
    },
    {
     "name": "stdout",
     "output_type": "stream",
     "text": [
      "epoch: 13, [batch: 30240 / 33600], examples_per_second: 4074.0252, train_label_loss: 0.2352, \n"
     ]
    },
    {
     "name": "stdout",
     "output_type": "stream",
     "text": [
      "=============================================================\n",
      "epoch: 13, source_val_acc_label: 0.7249, target_val_acc_label: 0.9775, source_val_label_loss: 0.8436, target_val_label_loss: 0.2268, \n",
      "=============================================================\n"
     ]
    },
    {
     "name": "stdout",
     "output_type": "stream",
     "text": [
      "epoch: 14, [batch: 1 / 33600], examples_per_second: 1.0255, train_label_loss: 0.3406, \n"
     ]
    },
    {
     "name": "stdout",
     "output_type": "stream",
     "text": [
      "epoch: 14, [batch: 3360 / 33600], examples_per_second: 3899.8180, train_label_loss: 0.0952, \n"
     ]
    },
    {
     "name": "stdout",
     "output_type": "stream",
     "text": [
      "epoch: 14, [batch: 6720 / 33600], examples_per_second: 3946.7075, train_label_loss: 0.2947, \n"
     ]
    },
    {
     "name": "stdout",
     "output_type": "stream",
     "text": [
      "epoch: 14, [batch: 10080 / 33600], examples_per_second: 4293.6006, train_label_loss: 0.5279, \n"
     ]
    },
    {
     "name": "stdout",
     "output_type": "stream",
     "text": [
      "epoch: 14, [batch: 13440 / 33600], examples_per_second: 3919.1377, train_label_loss: 0.1394, \n"
     ]
    },
    {
     "name": "stdout",
     "output_type": "stream",
     "text": [
      "epoch: 14, [batch: 16800 / 33600], examples_per_second: 4179.4989, train_label_loss: 0.0889, \n"
     ]
    },
    {
     "name": "stdout",
     "output_type": "stream",
     "text": [
      "epoch: 14, [batch: 20160 / 33600], examples_per_second: 3936.5620, train_label_loss: 0.3986, \n"
     ]
    },
    {
     "name": "stdout",
     "output_type": "stream",
     "text": [
      "epoch: 14, [batch: 23520 / 33600], examples_per_second: 3985.4763, train_label_loss: 0.1558, \n"
     ]
    },
    {
     "name": "stdout",
     "output_type": "stream",
     "text": [
      "epoch: 14, [batch: 26880 / 33600], examples_per_second: 4077.1502, train_label_loss: 0.1452, \n"
     ]
    },
    {
     "name": "stdout",
     "output_type": "stream",
     "text": [
      "epoch: 14, [batch: 30240 / 33600], examples_per_second: 3921.2807, train_label_loss: 0.5416, \n"
     ]
    },
    {
     "name": "stdout",
     "output_type": "stream",
     "text": [
      "=============================================================\n",
      "epoch: 14, source_val_acc_label: 0.7218, target_val_acc_label: 0.9767, source_val_label_loss: 0.8757, target_val_label_loss: 0.2360, \n",
      "=============================================================\n"
     ]
    },
    {
     "name": "stdout",
     "output_type": "stream",
     "text": [
      "epoch: 15, [batch: 1 / 33600], examples_per_second: 1.0604, train_label_loss: 0.2584, \n"
     ]
    },
    {
     "name": "stdout",
     "output_type": "stream",
     "text": [
      "epoch: 15, [batch: 3360 / 33600], examples_per_second: 4036.1738, train_label_loss: 0.6804, \n"
     ]
    },
    {
     "name": "stdout",
     "output_type": "stream",
     "text": [
      "epoch: 15, [batch: 6720 / 33600], examples_per_second: 3877.2465, train_label_loss: 0.3423, \n"
     ]
    },
    {
     "name": "stdout",
     "output_type": "stream",
     "text": [
      "epoch: 15, [batch: 10080 / 33600], examples_per_second: 4100.7880, train_label_loss: 0.3310, \n"
     ]
    },
    {
     "name": "stdout",
     "output_type": "stream",
     "text": [
      "epoch: 15, [batch: 13440 / 33600], examples_per_second: 4166.6445, train_label_loss: 0.2175, \n"
     ]
    },
    {
     "name": "stdout",
     "output_type": "stream",
     "text": [
      "epoch: 15, [batch: 16800 / 33600], examples_per_second: 3861.6531, train_label_loss: 0.3188, \n"
     ]
    },
    {
     "name": "stdout",
     "output_type": "stream",
     "text": [
      "epoch: 15, [batch: 20160 / 33600], examples_per_second: 4033.9707, train_label_loss: 0.2151, \n"
     ]
    },
    {
     "name": "stdout",
     "output_type": "stream",
     "text": [
      "epoch: 15, [batch: 23520 / 33600], examples_per_second: 3850.4760, train_label_loss: 0.3640, \n"
     ]
    },
    {
     "name": "stdout",
     "output_type": "stream",
     "text": [
      "epoch: 15, [batch: 26880 / 33600], examples_per_second: 4027.9451, train_label_loss: 0.2345, \n"
     ]
    },
    {
     "name": "stdout",
     "output_type": "stream",
     "text": [
      "epoch: 15, [batch: 30240 / 33600], examples_per_second: 4014.1864, train_label_loss: 0.1298, \n"
     ]
    },
    {
     "name": "stdout",
     "output_type": "stream",
     "text": [
      "=============================================================\n",
      "epoch: 15, source_val_acc_label: 0.7201, target_val_acc_label: 0.9769, source_val_label_loss: 0.8983, target_val_label_loss: 0.2523, \n",
      "=============================================================\n"
     ]
    },
    {
     "name": "stdout",
     "output_type": "stream",
     "text": [
      "epoch: 16, [batch: 1 / 33600], examples_per_second: 1.0608, train_label_loss: 0.3976, \n"
     ]
    },
    {
     "name": "stdout",
     "output_type": "stream",
     "text": [
      "epoch: 16, [batch: 3360 / 33600], examples_per_second: 3808.5086, train_label_loss: 0.4798, \n"
     ]
    },
    {
     "name": "stdout",
     "output_type": "stream",
     "text": [
      "epoch: 16, [batch: 6720 / 33600], examples_per_second: 4458.4866, train_label_loss: 0.0923, \n"
     ]
    },
    {
     "name": "stdout",
     "output_type": "stream",
     "text": [
      "epoch: 16, [batch: 10080 / 33600], examples_per_second: 4521.7145, train_label_loss: 0.4359, \n"
     ]
    },
    {
     "name": "stdout",
     "output_type": "stream",
     "text": [
      "epoch: 16, [batch: 13440 / 33600], examples_per_second: 5207.2872, train_label_loss: 0.1428, \n"
     ]
    },
    {
     "name": "stdout",
     "output_type": "stream",
     "text": [
      "epoch: 16, [batch: 16800 / 33600], examples_per_second: 5048.1022, train_label_loss: 0.4699, \n"
     ]
    },
    {
     "name": "stdout",
     "output_type": "stream",
     "text": [
      "epoch: 16, [batch: 20160 / 33600], examples_per_second: 4872.4501, train_label_loss: 0.0814, \n"
     ]
    },
    {
     "name": "stdout",
     "output_type": "stream",
     "text": [
      "epoch: 16, [batch: 23520 / 33600], examples_per_second: 3889.6826, train_label_loss: 0.3105, \n"
     ]
    },
    {
     "name": "stdout",
     "output_type": "stream",
     "text": [
      "epoch: 16, [batch: 26880 / 33600], examples_per_second: 3994.4318, train_label_loss: 0.2075, \n"
     ]
    },
    {
     "name": "stdout",
     "output_type": "stream",
     "text": [
      "epoch: 16, [batch: 30240 / 33600], examples_per_second: 4190.9572, train_label_loss: 0.2952, \n"
     ]
    },
    {
     "name": "stdout",
     "output_type": "stream",
     "text": [
      "=============================================================\n",
      "epoch: 16, source_val_acc_label: 0.7187, target_val_acc_label: 0.9754, source_val_label_loss: 0.9262, target_val_label_loss: 0.2691, \n",
      "=============================================================\n"
     ]
    },
    {
     "name": "stdout",
     "output_type": "stream",
     "text": [
      "Patience (3) exhausted\n"
     ]
    }
   ],
   "source": [
    "###################################\n",
    "# train\n",
    "###################################\n",
    "jig = PTN_Train_Eval_Test_Jig(model, p.BEST_MODEL_PATH, p.device)\n",
    "\n",
    "jig.train(\n",
    "    train_iterable=datasets.source.processed.train,\n",
    "    source_val_iterable=datasets.source.processed.val,\n",
    "    target_val_iterable=datasets.target.processed.val,\n",
    "    num_epochs=p.n_epoch,\n",
    "    num_logs_per_epoch=p.NUM_LOGS_PER_EPOCH,\n",
    "    patience=p.patience,\n",
    "    optimizer=optimizer,\n",
    "    criteria_for_best=p.criteria_for_best,\n",
    ")"
   ]
  },
  {
   "cell_type": "code",
   "execution_count": 23,
   "id": "31e8fabf",
   "metadata": {
    "execution": {
     "iopub.execute_input": "2022-03-23T01:10:46.464970Z",
     "iopub.status.busy": "2022-03-23T01:10:46.464265Z",
     "iopub.status.idle": "2022-03-23T01:10:46.498357Z",
     "shell.execute_reply": "2022-03-23T01:10:46.497610Z"
    },
    "papermill": {
     "duration": 0.110981,
     "end_time": "2022-03-23T01:10:46.498541",
     "exception": false,
     "start_time": "2022-03-23T01:10:46.387560",
     "status": "completed"
    },
    "tags": []
   },
   "outputs": [],
   "source": [
    "total_experiment_time_secs = time.time() - start_time_secs"
   ]
  },
  {
   "cell_type": "code",
   "execution_count": 24,
   "id": "87b9595b",
   "metadata": {
    "execution": {
     "iopub.execute_input": "2022-03-23T01:10:46.658829Z",
     "iopub.status.busy": "2022-03-23T01:10:46.658436Z",
     "iopub.status.idle": "2022-03-23T01:19:07.512419Z",
     "shell.execute_reply": "2022-03-23T01:19:07.513136Z"
    },
    "papermill": {
     "duration": 500.937341,
     "end_time": "2022-03-23T01:19:07.513360",
     "exception": false,
     "start_time": "2022-03-23T01:10:46.576019",
     "status": "completed"
    },
    "tags": []
   },
   "outputs": [],
   "source": [
    "###################################\n",
    "# Evaluate the model\n",
    "###################################\n",
    "source_test_label_accuracy, source_test_label_loss = jig.test(datasets.source.processed.test)\n",
    "target_test_label_accuracy, target_test_label_loss = jig.test(datasets.target.processed.test)\n",
    "\n",
    "source_val_label_accuracy, source_val_label_loss = jig.test(datasets.source.processed.val)\n",
    "target_val_label_accuracy, target_val_label_loss = jig.test(datasets.target.processed.val)\n",
    "\n",
    "history = jig.get_history()\n",
    "\n",
    "total_epochs_trained = len(history[\"epoch_indices\"])\n",
    "\n",
    "val_dl = Iterable_Aggregator((datasets.source.original.val,datasets.target.original.val))\n",
    "\n",
    "confusion = ptn_confusion_by_domain_over_dataloader(model, p.device, val_dl)\n",
    "per_domain_accuracy = per_domain_accuracy_from_confusion(confusion)\n",
    "\n",
    "# Add a key to per_domain_accuracy for if it was a source domain\n",
    "for domain, accuracy in per_domain_accuracy.items():\n",
    "    per_domain_accuracy[domain] = {\n",
    "        \"accuracy\": accuracy,\n",
    "        \"source?\": domain in p.domains_source\n",
    "    }\n",
    "\n",
    "# Do an independent accuracy assesment JUST TO BE SURE!\n",
    "# _source_test_label_accuracy = independent_accuracy_assesment(model, datasets.source.processed.test, p.device)\n",
    "# _target_test_label_accuracy = independent_accuracy_assesment(model, datasets.target.processed.test, p.device)\n",
    "# _source_val_label_accuracy = independent_accuracy_assesment(model, datasets.source.processed.val, p.device)\n",
    "# _target_val_label_accuracy = independent_accuracy_assesment(model, datasets.target.processed.val, p.device)\n",
    "\n",
    "# assert(_source_test_label_accuracy == source_test_label_accuracy)\n",
    "# assert(_target_test_label_accuracy == target_test_label_accuracy)\n",
    "# assert(_source_val_label_accuracy == source_val_label_accuracy)\n",
    "# assert(_target_val_label_accuracy == target_val_label_accuracy)\n",
    "\n",
    "experiment = {\n",
    "    \"experiment_name\": p.experiment_name,\n",
    "    \"parameters\": dict(p),\n",
    "    \"results\": {\n",
    "        \"source_test_label_accuracy\": source_test_label_accuracy,\n",
    "        \"source_test_label_loss\": source_test_label_loss,\n",
    "        \"target_test_label_accuracy\": target_test_label_accuracy,\n",
    "        \"target_test_label_loss\": target_test_label_loss,\n",
    "        \"source_val_label_accuracy\": source_val_label_accuracy,\n",
    "        \"source_val_label_loss\": source_val_label_loss,\n",
    "        \"target_val_label_accuracy\": target_val_label_accuracy,\n",
    "        \"target_val_label_loss\": target_val_label_loss,\n",
    "        \"total_epochs_trained\": total_epochs_trained,\n",
    "        \"total_experiment_time_secs\": total_experiment_time_secs,\n",
    "        \"confusion\": confusion,\n",
    "        \"per_domain_accuracy\": per_domain_accuracy,\n",
    "    },\n",
    "    \"history\": history,\n",
    "    \"dataset_metrics\": get_dataset_metrics(datasets, \"ptn\"),\n",
    "}"
   ]
  },
  {
   "cell_type": "code",
   "execution_count": 25,
   "id": "54a21829",
   "metadata": {
    "execution": {
     "iopub.execute_input": "2022-03-23T01:19:07.687403Z",
     "iopub.status.busy": "2022-03-23T01:19:07.687019Z",
     "iopub.status.idle": "2022-03-23T01:19:07.910809Z",
     "shell.execute_reply": "2022-03-23T01:19:07.911513Z"
    },
    "papermill": {
     "duration": 0.308417,
     "end_time": "2022-03-23T01:19:07.911748",
     "exception": false,
     "start_time": "2022-03-23T01:19:07.603331",
     "status": "completed"
    },
    "tags": []
   },
   "outputs": [
    {
     "data": {
      "image/png": "[encoded data removed]",
      "text/plain": [
       "<Figure size 1080x504 with 1 Axes>"
      ]
     },
     "metadata": {
      "needs_background": "light"
     },
     "output_type": "display_data"
    }
   ],
   "source": [
    "ax = get_loss_curve(experiment)\n",
    "plt.show()"
   ]
  },
  {
   "cell_type": "code",
   "execution_count": 26,
   "id": "fd8a0f60",
   "metadata": {
    "execution": {
     "iopub.execute_input": "2022-03-23T01:19:08.073916Z",
     "iopub.status.busy": "2022-03-23T01:19:08.073544Z",
     "iopub.status.idle": "2022-03-23T01:19:08.382696Z",
     "shell.execute_reply": "2022-03-23T01:19:08.382373Z"
    },
    "papermill": {
     "duration": 0.389115,
     "end_time": "2022-03-23T01:19:08.382777",
     "exception": false,
     "start_time": "2022-03-23T01:19:07.993662",
     "status": "completed"
    },
    "tags": []
   },
   "outputs": [
    {
     "data": {
      "text/plain": [
       "<AxesSubplot:title={'center':'Results'}>"
      ]
     },
     "execution_count": 26,
     "metadata": {},
     "output_type": "execute_result"
    },
    {
     "data": {
      "image/png": "[encoded data removed]",
      "text/plain": [
       "<Figure size 1080x504 with 1 Axes>"
      ]
     },
     "metadata": {
      "needs_background": "light"
     },
     "output_type": "display_data"
    }
   ],
   "source": [
    "get_results_table(experiment)"
   ]
  },
  {
   "cell_type": "code",
   "execution_count": 27,
   "id": "cf8dc689",
   "metadata": {
    "execution": {
     "iopub.execute_input": "2022-03-23T01:19:08.547960Z",
     "iopub.status.busy": "2022-03-23T01:19:08.547566Z",
     "iopub.status.idle": "2022-03-23T01:19:08.807197Z",
     "shell.execute_reply": "2022-03-23T01:19:08.807938Z"
    },
    "papermill": {
     "duration": 0.343833,
     "end_time": "2022-03-23T01:19:08.808172",
     "exception": false,
     "start_time": "2022-03-23T01:19:08.464339",
     "status": "completed"
    },
    "tags": []
   },
   "outputs": [
    {
     "data": {
      "text/plain": [
       "<AxesSubplot:title={'center':'Per Domain Validation Accuracy'}, xlabel='domain'>"
      ]
     },
     "execution_count": 27,
     "metadata": {},
     "output_type": "execute_result"
    },
    {
     "data": {
      "image/png": "[encoded data removed]",
      "text/plain": [
       "<Figure size 1080x504 with 1 Axes>"
      ]
     },
     "metadata": {
      "needs_background": "light"
     },
     "output_type": "display_data"
    }
   ],
   "source": [
    "get_domain_accuracies(experiment)"
   ]
  },
  {
   "cell_type": "code",
   "execution_count": 28,
   "id": "a74ae082",
   "metadata": {
    "execution": {
     "iopub.execute_input": "2022-03-23T01:19:08.973410Z",
     "iopub.status.busy": "2022-03-23T01:19:08.973009Z",
     "iopub.status.idle": "2022-03-23T01:19:09.001242Z",
     "shell.execute_reply": "2022-03-23T01:19:09.001919Z"
    },
    "papermill": {
     "duration": 0.109931,
     "end_time": "2022-03-23T01:19:09.002101",
     "exception": false,
     "start_time": "2022-03-23T01:19:08.892170",
     "status": "completed"
    },
    "tags": []
   },
   "outputs": [
    {
     "name": "stdout",
     "output_type": "stream",
     "text": [
      "Source Test Label Accuracy: 0.7286328125 Target Test Label Accuracy: 0.977683615819209\n",
      "Source Val Label Accuracy: 0.7285677083333333 Target Val Label Accuracy: 0.97825\n"
     ]
    }
   ],
   "source": [
    "print(\"Source Test Label Accuracy:\", experiment[\"results\"][\"source_test_label_accuracy\"], \"Target Test Label Accuracy:\", experiment[\"results\"][\"target_test_label_accuracy\"])\n",
    "print(\"Source Val Label Accuracy:\", experiment[\"results\"][\"source_val_label_accuracy\"], \"Target Val Label Accuracy:\", experiment[\"results\"][\"target_val_label_accuracy\"])"
   ]
  },
  {
   "cell_type": "code",
   "execution_count": 29,
   "id": "dacca602",
   "metadata": {
    "execution": {
     "iopub.execute_input": "2022-03-23T01:19:09.167417Z",
     "iopub.status.busy": "2022-03-23T01:19:09.166669Z",
     "iopub.status.idle": "2022-03-23T01:19:09.194866Z",
     "shell.execute_reply": "2022-03-23T01:19:09.195576Z"
    },
    "papermill": {
     "duration": 0.10908,
     "end_time": "2022-03-23T01:19:09.195763",
     "exception": false,
     "start_time": "2022-03-23T01:19:09.086683",
     "status": "completed"
    },
    "tags": [
     "experiment_json"
    ]
   },
   "outputs": [
    {
     "data": {
      "text/plain": [
       "'{\"experiment_name\": \"tl_1v2:cores-oracle.run1\", \"parameters\": {\"experiment_name\": \"tl_1v2:cores-oracle.run1\", \"device\": \"cuda\", \"lr\": 0.0001, \"n_shot\": 3, \"n_query\": 2, \"train_k_factor\": 3, \"val_k_factor\": 2, \"test_k_factor\": 2, \"torch_default_dtype\": \"torch.float32\", \"n_epoch\": 50, \"patience\": 3, \"criteria_for_best\": \"target_accuracy\", \"x_net\": [{\"class\": \"nnReshape\", \"kargs\": {\"shape\": [-1, 1, 2, 256]}}, {\"class\": \"Conv2d\", \"kargs\": {\"in_channels\": 1, \"out_channels\": 256, \"kernel_size\": [1, 7], \"bias\": false, \"padding\": [0, 3]}}, {\"class\": \"ReLU\", \"kargs\": {\"inplace\": true}}, {\"class\": \"BatchNorm2d\", \"kargs\": {\"num_features\": 256}}, {\"class\": \"Conv2d\", \"kargs\": {\"in_channels\": 256, \"out_channels\": 80, \"kernel_size\": [2, 7], \"bias\": true, \"padding\": [0, 3]}}, {\"class\": \"ReLU\", \"kargs\": {\"inplace\": true}}, {\"class\": \"BatchNorm2d\", \"kargs\": {\"num_features\": 80}}, {\"class\": \"Flatten\", \"kargs\": {}}, {\"class\": \"Linear\", \"kargs\": {\"in_features\": 20480, \"out_features\": 256}}, {\"class\": \"ReLU\", \"kargs\": {\"inplace\": true}}, {\"class\": \"BatchNorm1d\", \"kargs\": {\"num_features\": 256}}, {\"class\": \"Linear\", \"kargs\": {\"in_features\": 256, \"out_features\": 256}}], \"NUM_LOGS_PER_EPOCH\": 10, \"BEST_MODEL_PATH\": \"./best_model.pth\", \"n_way\": 16, \"datasets\": [{\"labels\": [\"1-10.\", \"1-11.\", \"1-15.\", \"1-16.\", \"1-17.\", \"1-18.\", \"1-19.\", \"10-4.\", \"10-7.\", \"11-1.\", \"11-14.\", \"11-17.\", \"11-20.\", \"11-7.\", \"13-20.\", \"13-8.\", \"14-10.\", \"14-11.\", \"14-14.\", \"14-7.\", \"15-1.\", \"15-20.\", \"16-1.\", \"16-16.\", \"17-10.\", \"17-11.\", \"17-2.\", \"19-1.\", \"19-16.\", \"19-19.\", \"19-20.\", \"19-3.\", \"2-10.\", \"2-11.\", \"2-17.\", \"2-18.\", \"2-20.\", \"2-3.\", \"2-4.\", \"2-5.\", \"2-6.\", \"2-7.\", \"2-8.\", \"3-13.\", \"3-18.\", \"3-3.\", \"4-1.\", \"4-10.\", \"4-11.\", \"4-19.\", \"5-5.\", \"6-15.\", \"7-10.\", \"7-14.\", \"8-18.\", \"8-20.\", \"8-3.\", \"8-8.\"], \"domains\": [1, 2, 3, 4, 5], \"num_examples_per_domain_per_label\": -1, \"pickle_path\": \"/root/csc500-main/datasets/cores.stratified_ds.2022A.pkl\", \"source_or_target_dataset\": \"target\", \"x_transforms\": [\"unit_power\"], \"episode_transforms\": [], \"domain_prefix\": \"CORES_\"}, {\"labels\": [\"3123D52\", \"3123D65\", \"3123D79\", \"3123D80\", \"3123D54\", \"3123D70\", \"3123D7B\", \"3123D89\", \"3123D58\", \"3123D76\", \"3123D7D\", \"3123EFE\", \"3123D64\", \"3123D78\", \"3123D7E\", \"3124E4A\"], \"domains\": [32, 38, 8, 44, 14, 50, 20, 26], \"num_examples_per_domain_per_label\": 10000, \"pickle_path\": \"/root/csc500-main/datasets/oracle.Run1_10kExamples_stratified_ds.2022A.pkl\", \"source_or_target_dataset\": \"source\", \"x_transforms\": [\"unit_power\"], \"episode_transforms\": [], \"domain_prefix\": \"ORACLE.run1_\"}], \"dataset_seed\": 7, \"seed\": 7, \"x_shape\": [2, 256], \"domains_source\": [\"ORACLE.run1_32\", \"ORACLE.run1_38\", \"ORACLE.run1_8\", \"ORACLE.run1_44\", \"ORACLE.run1_14\", \"ORACLE.run1_50\", \"ORACLE.run1_20\", \"ORACLE.run1_26\"], \"domains_target\": [\"CORES_1\", \"CORES_2\", \"CORES_3\", \"CORES_4\", \"CORES_5\"]}, \"results\": {\"source_test_label_accuracy\": 0.7286328125, \"source_test_label_loss\": 0.8239927291870117, \"target_test_label_accuracy\": 0.977683615819209, \"target_test_label_loss\": 0.2718592584133148, \"source_val_label_accuracy\": 0.7285677083333333, \"source_val_label_loss\": 0.832677960395813, \"target_val_label_accuracy\": 0.97825, \"target_val_label_loss\": 0.20960456132888794, \"total_epochs_trained\": 16, \"total_experiment_time_secs\": 12006.102649211884, \"confusion\": {\"ORACLE.run1_26\": {\"0\": {\"14\": 207, \"0\": 381, \"8\": 96, \"10\": 265, \"4\": 152, \"7\": 24, \"1\": 33, \"6\": 29, \"9\": 10, \"3\": 1, \"15\": 2}, \"4\": {\"4\": 478, \"0\": 149, \"14\": 231, \"1\": 101, \"8\": 87, \"10\": 59, \"7\": 89, \"3\": 3, \"2\": 3}, \"14\": {\"14\": 433, \"0\": 177, \"10\": 101, \"4\": 214, \"1\": 233, \"8\": 29, \"7\": 11, \"9\": 1, \"5\": 1}, \"12\": {\"12\": 1200}, \"8\": {\"7\": 92, \"0\": 88, \"8\": 463, \"4\": 124, \"15\": 84, \"10\": 161, \"9\": 98, \"1\": 2, \"2\": 19, \"6\": 39, \"3\": 4, \"5\": 11, \"14\": 15}, \"7\": {\"3\": 187, \"7\": 676, \"4\": 98, \"2\": 106, \"8\": 82, \"15\": 15, \"14\": 10, \"5\": 5, \"0\": 10, \"1\": 7, \"10\": 3, \"9\": 1}, \"13\": {\"13\": 871, \"5\": 202, \"15\": 78, \"2\": 17, \"6\": 9, \"9\": 23}, \"5\": {\"5\": 712, \"8\": 39, \"13\": 154, \"15\": 179, \"2\": 60, \"9\": 45, \"7\": 9, \"4\": 1, \"6\": 1}, \"15\": {\"15\": 479, \"2\": 33, \"9\": 340, \"13\": 61, \"5\": 124, \"8\": 102, \"6\": 30, \"7\": 14, \"0\": 6, \"10\": 7, \"14\": 1, \"3\": 2, \"4\": 1}, \"10\": {\"4\": 67, \"0\": 265, \"10\": 479, \"14\": 127, \"8\": 148, \"6\": 64, \"1\": 17, \"9\": 17, \"15\": 9, \"7\": 5, \"5\": 2}, \"3\": {\"3\": 735, \"7\": 181, \"2\": 278, \"8\": 1, \"4\": 3, \"15\": 2}, \"9\": {\"15\": 337, \"9\": 510, \"6\": 164, \"8\": 90, \"0\": 8, \"10\": 24, \"5\": 24, \"13\": 28, \"2\": 3, \"7\": 12}, \"6\": {\"9\": 179, \"6\": 858, \"10\": 65, \"15\": 34, \"13\": 10, \"0\": 26, \"8\": 27, \"14\": 1}, \"1\": {\"10\": 40, \"1\": 756, \"14\": 236, \"4\": 120, \"0\": 25, \"7\": 17, \"8\": 5, \"3\": 1}, \"11\": {\"11\": 1198, \"12\": 2}, \"2\": {\"2\": 432, \"7\": 141, \"4\": 2, \"3\": 380, \"15\": 55, \"8\": 42, \"5\": 130, \"9\": 9, \"13\": 8, \"0\": 1}}, \"ORACLE.run1_44\": {\"1\": {\"2\": 37, \"1\": 735, \"3\": 153, \"12\": 183, \"10\": 92}, \"11\": {\"11\": 1103, \"13\": 79, \"6\": 17, \"9\": 1}, \"3\": {\"3\": 1066, \"1\": 116, \"12\": 13, \"2\": 4, \"10\": 1}, \"6\": {\"9\": 117, \"6\": 813, \"13\": 220, \"7\": 33, \"11\": 16, \"2\": 1}, \"7\": {\"9\": 239, \"7\": 747, \"2\": 174, \"1\": 3, \"13\": 5, \"6\": 28, \"3\": 3, \"10\": 1}, \"5\": {\"8\": 13, \"5\": 1016, \"0\": 97, \"14\": 36, \"15\": 35, \"4\": 3}, \"2\": {\"2\": 903, \"10\": 79, \"7\": 164, \"1\": 39, \"9\": 6, \"12\": 4, \"3\": 5}, \"15\": {\"0\": 73, \"15\": 977, \"14\": 94, \"5\": 25, \"4\": 10, \"8\": 21}, \"10\": {\"10\": 874, \"12\": 83, \"1\": 151, \"2\": 90, \"7\": 2}, \"13\": {\"7\": 6, \"13\": 814, \"6\": 200, \"9\": 137, \"11\": 37, \"4\": 5, \"14\": 1}, \"8\": {\"8\": 739, \"0\": 418, \"5\": 14, \"15\": 29}, \"4\": {\"14\": 338, \"4\": 857, \"5\": 2, \"9\": 1, \"15\": 2}, \"9\": {\"9\": 692, \"7\": 270, \"13\": 116, \"6\": 108, \"2\": 12, \"4\": 1, \"11\": 1}, \"14\": {\"4\": 350, \"14\": 766, \"15\": 51, \"5\": 33}, \"0\": {\"8\": 337, \"0\": 739, \"5\": 71, \"15\": 51, \"14\": 2}, \"12\": {\"12\": 954, \"1\": 186, \"10\": 45, \"3\": 12, \"2\": 3}}, \"ORACLE.run1_50\": {\"15\": {\"1\": 180, \"15\": 884, \"4\": 94, \"6\": 21, \"11\": 21}, \"4\": {\"4\": 590, \"5\": 143, \"15\": 174, \"13\": 20, \"6\": 96, \"1\": 146, \"7\": 30, \"11\": 1}, \"6\": {\"6\": 909, \"13\": 81, \"5\": 35, \"1\": 74, \"4\": 68, \"7\": 11, \"15\": 22}, \"2\": {\"2\": 1117, \"0\": 82, \"1\": 1}, \"5\": {\"7\": 217, \"13\": 189, \"5\": 471, \"4\": 167, \"6\": 90, \"1\": 60, \"10\": 4, \"0\": 2}, \"9\": {\"9\": 979, \"11\": 143, \"12\": 74, \"14\": 4}, \"8\": {\"8\": 1156, \"10\": 30, \"3\": 14}, \"12\": {\"12\": 1095, \"9\": 63, \"14\": 36, \"11\": 6}, \"10\": {\"10\": 1102, \"7\": 15, \"0\": 40, \"8\": 19, \"13\": 24}, \"1\": {\"1\": 824, \"15\": 203, \"6\": 73, \"4\": 73, \"5\": 13, \"11\": 7, \"14\": 4, \"13\": 2, \"2\": 1}, \"0\": {\"0\": 1056, \"10\": 37, \"2\": 102, \"5\": 1, \"13\": 4}, \"3\": {\"3\": 1184, \"8\": 16}, \"13\": {\"13\": 805, \"5\": 150, \"7\": 166, \"0\": 2, \"6\": 56, \"1\": 3, \"10\": 14, \"4\": 4}, \"11\": {\"11\": 1032, \"9\": 119, \"15\": 33, \"4\": 3, \"12\": 6, \"14\": 6, \"1\": 1}, \"7\": {\"7\": 788, \"13\": 218, \"5\": 156, \"10\": 20, \"6\": 11, \"4\": 7}, \"14\": {\"14\": 1178, \"12\": 14, \"11\": 6, \"9\": 2}}, \"ORACLE.run1_38\": {\"15\": {\"15\": 899, \"1\": 89, \"13\": 137, \"8\": 45, \"10\": 7, \"5\": 18, \"0\": 2, \"2\": 3}, \"11\": {\"11\": 1055, \"14\": 119, \"2\": 12, \"10\": 11, \"13\": 2, \"12\": 1}, \"10\": {\"10\": 959, \"8\": 40, \"15\": 8, \"13\": 109, \"4\": 6, \"14\": 15, \"11\": 6, \"0\": 21, \"7\": 13, \"12\": 16, \"5\": 5, \"2\": 2}, \"14\": {\"14\": 1092, \"2\": 66, \"11\": 26, \"10\": 9, \"12\": 5, \"13\": 2}, \"6\": {\"6\": 1064, \"9\": 128, \"5\": 6, \"0\": 1, \"8\": 1}, \"4\": {\"4\": 1135, \"12\": 59, \"10\": 3, \"7\": 2, \"0\": 1}, \"13\": {\"15\": 159, \"13\": 880, \"1\": 9, \"0\": 4, \"14\": 2, \"10\": 109, \"2\": 27, \"8\": 8, \"5\": 2}, \"3\": {\"3\": 1127, \"9\": 44, \"0\": 18, \"7\": 8, \"5\": 2, \"6\": 1}, \"7\": {\"7\": 987, \"0\": 119, \"5\": 55, \"8\": 37, \"10\": 2}, \"8\": {\"8\": 732, \"5\": 227, \"0\": 148, \"15\": 25, \"7\": 53, \"10\": 7, \"13\": 5, \"1\": 2, \"6\": 1}, \"1\": {\"1\": 1153, \"15\": 45, \"5\": 1, \"13\": 1}, \"5\": {\"5\": 550, \"7\": 105, \"8\": 334, \"3\": 6, \"6\": 41, \"15\": 48, \"9\": 33, \"10\": 7, \"0\": 63, \"13\": 5, \"1\": 8}, \"0\": {\"0\": 617, \"10\": 21, \"7\": 189, \"8\": 226, \"3\": 70, \"5\": 72, \"4\": 1, \"15\": 1, \"9\": 1, \"13\": 1, \"12\": 1}, \"2\": {\"2\": 1114, \"14\": 62, \"13\": 22, \"10\": 2}, \"12\": {\"12\": 1153, \"4\": 41, \"14\": 1, \"10\": 5}, \"9\": {\"9\": 857, \"6\": 284, \"5\": 29, \"3\": 28, \"0\": 1, \"7\": 1}}, \"ORACLE.run1_20\": {\"10\": {\"10\": 1086, \"4\": 20, \"14\": 82, \"8\": 5, \"7\": 2, \"6\": 4, \"3\": 1}, \"7\": {\"7\": 869, \"8\": 68, \"9\": 39, \"6\": 13, \"3\": 44, \"2\": 152, \"13\": 5, \"12\": 3, \"4\": 5, \"10\": 1, \"14\": 1}, \"4\": {\"12\": 14, \"3\": 62, \"4\": 942, \"8\": 134, \"10\": 32, \"5\": 5, \"9\": 2, \"7\": 6, \"1\": 1, \"14\": 1, \"6\": 1}, \"13\": {\"13\": 1109, \"2\": 53, \"9\": 9, \"0\": 2, \"15\": 15, \"1\": 5, \"12\": 3, \"7\": 4}, \"1\": {\"5\": 171, \"12\": 165, \"1\": 575, \"15\": 202, \"3\": 31, \"0\": 25, \"2\": 6, \"9\": 21, \"13\": 4}, \"0\": {\"0\": 675, \"5\": 316, \"3\": 11, \"7\": 5, \"15\": 126, \"4\": 11, \"2\": 3, \"1\": 29, \"12\": 16, \"13\": 6, \"8\": 2}, \"12\": {\"1\": 181, \"3\": 233, \"12\": 437, \"5\": 129, \"2\": 58, \"0\": 8, \"15\": 24, \"9\": 115, \"4\": 8, \"7\": 1, \"13\": 6}, \"5\": {\"3\": 44, \"0\": 213, \"5\": 536, \"12\": 125, \"15\": 88, \"1\": 181, \"9\": 4, \"4\": 3, \"13\": 2, \"2\": 3, \"8\": 1}, \"6\": {\"6\": 1051, \"7\": 10, \"14\": 132, \"8\": 6, \"10\": 1}, \"2\": {\"2\": 585, \"9\": 280, \"3\": 54, \"7\": 144, \"13\": 51, \"12\": 58, \"1\": 11, \"8\": 3, \"0\": 3, \"15\": 3, \"5\": 6, \"4\": 2}, \"8\": {\"7\": 68, \"8\": 944, \"4\": 121, \"6\": 11, \"3\": 17, \"14\": 31, \"2\": 1, \"10\": 5, \"0\": 1, \"9\": 1}, \"11\": {\"11\": 1199, \"6\": 1}, \"9\": {\"2\": 295, \"9\": 514, \"3\": 194, \"12\": 122, \"4\": 6, \"7\": 44, \"1\": 18, \"13\": 2, \"8\": 2, \"0\": 1, \"5\": 1, \"15\": 1}, \"14\": {\"14\": 972, \"10\": 90, \"6\": 118, \"4\": 2, \"8\": 15, \"7\": 3}, \"15\": {\"0\": 83, \"1\": 214, \"15\": 751, \"12\": 24, \"5\": 97, \"13\": 22, \"2\": 4, \"3\": 2, \"9\": 3}, \"3\": {\"3\": 502, \"12\": 244, \"9\": 179, \"4\": 65, \"2\": 88, \"1\": 20, \"5\": 39, \"7\": 42, \"0\": 6, \"8\": 13, \"15\": 1, \"10\": 1}}, \"ORACLE.run1_14\": {\"14\": {\"14\": 1004, \"13\": 69, \"2\": 83, \"4\": 2, \"6\": 14, \"3\": 27, \"10\": 1}, \"0\": {\"0\": 1076, \"11\": 30, \"10\": 69, \"3\": 24, \"14\": 1}, \"4\": {\"4\": 888, \"2\": 57, \"1\": 21, \"3\": 88, \"5\": 142, \"14\": 3, \"13\": 1}, \"11\": {\"11\": 1088, \"9\": 64, \"0\": 48}, \"13\": {\"6\": 483, \"13\": 427, \"2\": 113, \"14\": 154, \"5\": 14, \"4\": 4, \"15\": 3, \"3\": 1, \"10\": 1}, \"9\": {\"9\": 1196, \"11\": 2, \"12\": 2}, \"3\": {\"3\": 1029, \"4\": 109, \"14\": 27, \"2\": 23, \"0\": 6, \"5\": 6}, \"6\": {\"13\": 431, \"6\": 688, \"14\": 37, \"2\": 44}, \"1\": {\"1\": 1086, \"5\": 104, \"4\": 6, \"7\": 4}, \"5\": {\"5\": 775, \"1\": 144, \"15\": 1, \"4\": 203, \"2\": 56, \"7\": 11, \"3\": 10}, \"12\": {\"12\": 1197, \"9\": 3}, \"10\": {\"10\": 1163, \"0\": 36, \"3\": 1}, \"8\": {\"8\": 1200}, \"7\": {\"7\": 1184, \"15\": 10, \"5\": 3, \"1\": 3}, \"15\": {\"15\": 1185, \"7\": 12, \"5\": 2, \"2\": 1}, \"2\": {\"5\": 113, \"2\": 618, \"14\": 146, \"6\": 66, \"3\": 61, \"4\": 102, \"13\": 68, \"15\": 25, \"1\": 1}}, \"ORACLE.run1_32\": {\"11\": {\"11\": 986, \"14\": 168, \"7\": 18, \"13\": 11, \"3\": 15, \"5\": 2}, \"1\": {\"1\": 1192, \"10\": 8}, \"2\": {\"2\": 959, \"7\": 15, \"4\": 191, \"0\": 29, \"5\": 3, \"14\": 2, \"13\": 1}, \"0\": {\"0\": 861, \"4\": 69, \"8\": 121, \"5\": 26, \"2\": 26, \"7\": 45, \"14\": 32, \"13\": 20}, \"3\": {\"3\": 1098, \"14\": 6, \"13\": 53, \"11\": 21, \"8\": 11, \"5\": 11}, \"8\": {\"8\": 931, \"3\": 11, \"0\": 104, \"13\": 73, \"5\": 67, \"14\": 8, \"4\": 3, \"7\": 3}, \"12\": {\"12\": 1200}, \"5\": {\"7\": 148, \"11\": 11, \"5\": 473, \"8\": 64, \"13\": 259, \"14\": 31, \"4\": 113, \"2\": 6, \"0\": 47, \"3\": 48}, \"15\": {\"15\": 1196, \"8\": 3, \"3\": 1}, \"7\": {\"7\": 586, \"13\": 68, \"14\": 148, \"5\": 173, \"11\": 21, \"2\": 28, \"4\": 141, \"0\": 31, \"8\": 4}, \"4\": {\"0\": 35, \"4\": 730, \"2\": 194, \"7\": 97, \"13\": 51, \"14\": 5, \"5\": 87, \"8\": 1}, \"14\": {\"2\": 9, \"14\": 543, \"11\": 289, \"7\": 199, \"5\": 35, \"13\": 52, \"8\": 9, \"0\": 42, \"3\": 11, \"4\": 11}, \"10\": {\"10\": 1197, \"1\": 3}, \"6\": {\"6\": 1200}, \"13\": {\"8\": 60, \"7\": 90, \"4\": 76, \"13\": 597, \"14\": 23, \"3\": 84, \"5\": 229, \"11\": 21, \"0\": 20}, \"9\": {\"9\": 1195, \"12\": 5}}, \"ORACLE.run1_8\": {\"9\": {\"9\": 1200}, \"11\": {\"11\": 792, \"14\": 9, \"1\": 364, \"5\": 19, \"8\": 15, \"6\": 1}, \"8\": {\"8\": 1136, \"15\": 52, \"6\": 5, \"12\": 4, \"11\": 1, \"7\": 2}, \"4\": {\"4\": 609, \"14\": 175, \"0\": 50, \"6\": 118, \"13\": 203, \"10\": 37, \"7\": 7, \"1\": 1}, \"13\": {\"0\": 351, \"13\": 388, \"10\": 126, \"14\": 90, \"4\": 191, \"6\": 34, \"1\": 5, \"5\": 6, \"7\": 8, \"11\": 1}, \"14\": {\"4\": 164, \"14\": 671, \"10\": 184, \"13\": 96, \"5\": 4, \"1\": 58, \"11\": 15, \"0\": 4, \"6\": 4}, \"2\": {\"2\": 981, \"3\": 156, \"7\": 19, \"15\": 35, \"12\": 9}, \"3\": {\"2\": 94, \"3\": 1042, \"12\": 62, \"15\": 2}, \"1\": {\"1\": 872, \"11\": 244, \"14\": 56, \"5\": 15, \"4\": 2, \"10\": 10, \"8\": 1}, \"0\": {\"13\": 237, \"0\": 776, \"7\": 69, \"6\": 69, \"4\": 40, \"14\": 5, \"10\": 4}, \"5\": {\"5\": 1059, \"10\": 76, \"14\": 12, \"1\": 49, \"11\": 4}, \"15\": {\"8\": 59, \"15\": 837, \"12\": 289, \"3\": 8, \"2\": 7}, \"10\": {\"10\": 788, \"4\": 40, \"13\": 97, \"0\": 5, \"14\": 229, \"5\": 26, \"1\": 13, \"11\": 2}, \"12\": {\"3\": 151, \"15\": 358, \"12\": 657, \"8\": 22, \"2\": 11, \"7\": 1}, \"6\": {\"13\": 30, \"7\": 282, \"4\": 120, \"6\": 716, \"0\": 42, \"14\": 3, \"8\": 7}, \"7\": {\"7\": 889, \"0\": 42, \"6\": 256, \"13\": 4, \"8\": 4, \"4\": 5}}, \"CORES_5\": {\"26\": {\"26\": 24}, \"7\": {\"7\": 32}, \"56\": {\"56\": 142}, \"36\": {\"36\": 91, \"40\": 1}, \"47\": {\"47\": 100}, \"2\": {\"2\": 28}, \"15\": {\"15\": 139, \"43\": 13}, \"14\": {\"40\": 2, \"47\": 7, \"14\": 15, \"35\": 2, \"28\": 5, \"57\": 2, \"33\": 1, \"22\": 1, \"46\": 3, \"34\": 1, \"31\": 2, \"0\": 2, \"36\": 1}, \"27\": {\"27\": 144, \"32\": 2}, \"40\": {\"40\": 114, \"34\": 9, \"28\": 1}, \"49\": {\"49\": 36}, \"45\": {\"30\": 1, \"45\": 113, \"27\": 4, \"48\": 3, \"9\": 2, \"4\": 1}, \"46\": {\"47\": 3, \"3\": 1, \"46\": 132}, \"11\": {\"11\": 130}, \"30\": {\"30\": 110, \"17\": 2}, \"0\": {\"0\": 124}, \"10\": {\"10\": 68}, \"1\": {\"1\": 148}, \"42\": {\"42\": 38, \"2\": 1, \"0\": 1}, \"54\": {\"54\": 112}, \"55\": {\"55\": 152}, \"23\": {\"23\": 124}, \"25\": {\"25\": 152}, \"28\": {\"28\": 32}, \"32\": {\"32\": 32}, \"9\": {\"9\": 127, \"48\": 15}, \"39\": {\"39\": 20}, \"3\": {\"46\": 5, \"3\": 89, \"47\": 3, \"42\": 1, \"49\": 1, \"23\": 1}, \"29\": {\"29\": 118}, \"17\": {\"17\": 116}, \"35\": {\"35\": 36}, \"44\": {\"44\": 146, \"5\": 4, \"19\": 2}, \"5\": {\"5\": 127, \"19\": 1}, \"33\": {\"33\": 32}, \"34\": {\"34\": 34, \"40\": 2}, \"13\": {\"13\": 138}, \"41\": {\"41\": 28}, \"6\": {\"6\": 123, \"17\": 2, \"8\": 1, \"1\": 1, \"30\": 1}, \"51\": {\"51\": 138}, \"50\": {\"50\": 129, \"53\": 6, \"25\": 3, \"21\": 6}, \"37\": {\"37\": 24}, \"19\": {\"19\": 144}, \"57\": {\"57\": 132}, \"21\": {\"21\": 142, \"50\": 2}, \"24\": {\"24\": 80}, \"8\": {\"8\": 130}, \"12\": {\"12\": 96}, \"48\": {\"48\": 124, \"9\": 8}, \"43\": {\"43\": 129, \"15\": 21}, \"53\": {\"53\": 148}, \"38\": {\"38\": 32}, \"16\": {\"16\": 142}, \"22\": {\"22\": 27, \"28\": 1}, \"4\": {\"4\": 100}, \"18\": {\"18\": 64}, \"20\": {\"20\": 144}, \"52\": {\"52\": 140}, \"31\": {\"31\": 36}}, \"CORES_1\": {\"41\": {\"41\": 23, \"51\": 1}, \"40\": {\"40\": 110}, \"45\": {\"45\": 130, \"42\": 7, \"55\": 1}, \"51\": {\"51\": 148}, \"5\": {\"5\": 152, \"50\": 2}, \"30\": {\"30\": 120}, \"42\": {\"42\": 40}, \"46\": {\"46\": 136}, \"48\": {\"48\": 134}, \"53\": {\"53\": 144}, \"47\": {\"47\": 152}, \"49\": {\"49\": 32}, \"36\": {\"36\": 64}, \"32\": {\"32\": 32}, \"34\": {\"34\": 24}, \"29\": {\"29\": 140}, \"35\": {\"35\": 36}, \"3\": {\"3\": 134}, \"16\": {\"16\": 140}, \"26\": {\"26\": 24}, \"57\": {\"57\": 130, \"19\": 1, \"56\": 11, \"1\": 2}, \"44\": {\"44\": 96, \"57\": 13, \"29\": 7, \"19\": 1, \"35\": 7, \"56\": 4}, \"0\": {\"0\": 152}, \"4\": {\"4\": 132}, \"31\": {\"31\": 28}, \"11\": {\"11\": 140}, \"6\": {\"6\": 94, \"5\": 1, \"48\": 1}, \"54\": {\"54\": 104}, \"17\": {\"17\": 64}, \"20\": {\"20\": 128}, \"13\": {\"13\": 150}, \"33\": {\"33\": 32}, \"24\": {\"24\": 95, \"22\": 9, \"23\": 1, \"10\": 2, \"37\": 1}, \"52\": {\"52\": 127, \"11\": 4, \"22\": 1}, \"2\": {\"2\": 36}, \"19\": {\"19\": 156}, \"39\": {\"39\": 28}, \"8\": {\"8\": 140}, \"21\": {\"21\": 105, \"23\": 7, \"52\": 1, \"22\": 7, \"24\": 4}, \"10\": {\"10\": 94, \"24\": 2}, \"37\": {\"37\": 32}, \"25\": {\"25\": 144}, \"27\": {\"27\": 130}, \"23\": {\"23\": 135, \"21\": 1}, \"1\": {\"1\": 97, \"34\": 1, \"57\": 2}, \"50\": {\"50\": 151, \"48\": 1}, \"12\": {\"12\": 114, \"51\": 2}, \"18\": {\"18\": 72}, \"38\": {\"38\": 24}, \"14\": {\"20\": 2, \"30\": 1, \"25\": 1, \"7\": 6, \"54\": 2, \"14\": 10, \"6\": 1, \"5\": 1}, \"56\": {\"57\": 17, \"56\": 116, \"29\": 2, \"1\": 5, \"19\": 2}, \"55\": {\"55\": 160}, \"9\": {\"9\": 138}, \"15\": {\"15\": 146}, \"28\": {\"28\": 28}, \"7\": {\"7\": 28}, \"43\": {\"43\": 136}, \"22\": {\"22\": 91, \"10\": 6, \"23\": 4, \"24\": 17, \"52\": 7, \"21\": 9, \"11\": 2}}, \"CORES_3\": {\"1\": {\"1\": 96, \"57\": 4}, \"9\": {\"9\": 124}, \"22\": {\"22\": 136}, \"43\": {\"43\": 136}, \"49\": {\"49\": 20}, \"50\": {\"50\": 136, \"52\": 2}, \"53\": {\"53\": 136}, \"10\": {\"10\": 64}, \"48\": {\"48\": 116}, \"8\": {\"8\": 138}, \"31\": {\"31\": 28}, \"56\": {\"56\": 134}, \"25\": {\"25\": 135, \"52\": 7}, \"28\": {\"28\": 28}, \"38\": {\"38\": 28}, \"5\": {\"5\": 105, \"47\": 9, \"27\": 1, \"54\": 1}, \"12\": {\"12\": 92}, \"6\": {\"6\": 75, \"18\": 7, \"25\": 2, \"30\": 1, \"46\": 1, \"8\": 1, \"23\": 1}, \"19\": {\"19\": 152}, \"26\": {\"26\": 24}, \"32\": {\"32\": 28}, \"33\": {\"33\": 28}, \"3\": {\"3\": 117, \"52\": 1}, \"51\": {\"51\": 128}, \"16\": {\"16\": 138}, \"46\": {\"46\": 140}, \"7\": {\"7\": 36}, \"47\": {\"47\": 86, \"5\": 6}, \"39\": {\"39\": 14, \"30\": 1, \"33\": 1}, \"40\": {\"40\": 136}, \"14\": {\"14\": 23, \"39\": 1, \"0\": 1, \"34\": 3, \"35\": 4, \"56\": 1, \"22\": 4, \"1\": 2, \"55\": 1}, \"37\": {\"37\": 28}, \"2\": {\"2\": 32}, \"21\": {\"21\": 120}, \"35\": {\"35\": 28}, \"54\": {\"54\": 100}, \"52\": {\"52\": 110, \"25\": 6}, \"29\": {\"29\": 118}, \"20\": {\"20\": 132}, \"18\": {\"18\": 84}, \"11\": {\"11\": 142}, \"0\": {\"0\": 124}, \"36\": {\"36\": 100}, \"17\": {\"17\": 108}, \"30\": {\"30\": 114}, \"42\": {\"42\": 28}, \"45\": {\"45\": 59, \"27\": 1}, \"4\": {\"4\": 148}, \"23\": {\"23\": 134}, \"13\": {\"13\": 128}, \"15\": {\"15\": 128}, \"57\": {\"57\": 115, \"1\": 9}, \"27\": {\"27\": 134}, \"44\": {\"44\": 88}, \"34\": {\"34\": 32}, \"41\": {\"41\": 28}, \"24\": {\"24\": 104}, \"55\": {\"55\": 118}}, \"CORES_4\": {\"52\": {\"52\": 116}, \"6\": {\"6\": 103, \"25\": 3, \"31\": 1, \"53\": 2, \"51\": 2, \"50\": 1}, \"14\": {\"14\": 12, \"29\": 2, \"1\": 1, \"35\": 1}, \"49\": {\"49\": 20}, \"0\": {\"46\": 4, \"38\": 3, \"0\": 65, \"5\": 1, \"2\": 1, \"47\": 1, \"32\": 2, \"25\": 1, \"56\": 2}, \"46\": {\"46\": 138, \"32\": 1, \"5\": 7, \"47\": 10}, \"41\": {\"41\": 36}, \"24\": {\"24\": 56}, \"25\": {\"25\": 151, \"3\": 1}, \"40\": {\"40\": 138}, \"38\": {\"38\": 40}, \"13\": {\"13\": 152}, \"9\": {\"9\": 108}, \"45\": {\"45\": 96}, \"43\": {\"43\": 144}, \"10\": {\"10\": 130}, \"15\": {\"15\": 126, \"11\": 2}, \"39\": {\"39\": 20}, \"4\": {\"4\": 132}, \"53\": {\"53\": 132}, \"1\": {\"1\": 39, \"57\": 1}, \"28\": {\"28\": 32}, \"54\": {\"54\": 108}, \"21\": {\"21\": 132}, \"7\": {\"7\": 24}, \"8\": {\"8\": 136}, \"42\": {\"42\": 32}, \"11\": {\"11\": 103, \"15\": 1}, \"33\": {\"33\": 36}, \"27\": {\"27\": 142}, \"19\": {\"19\": 144}, \"2\": {\"2\": 35, \"47\": 1}, \"3\": {\"3\": 94, \"25\": 20, \"50\": 1, \"20\": 3, \"8\": 1, \"6\": 1}, \"57\": {\"57\": 99, \"1\": 1}, \"20\": {\"20\": 112}, \"23\": {\"23\": 128}, \"22\": {\"22\": 127, \"43\": 1}, \"29\": {\"29\": 121, \"57\": 2, \"17\": 1}, \"36\": {\"36\": 91, \"8\": 1}, \"51\": {\"51\": 132}, \"31\": {\"31\": 28}, \"12\": {\"12\": 92}, \"56\": {\"56\": 138}, \"5\": {\"5\": 101, \"47\": 5, \"54\": 1, \"23\": 1}, \"35\": {\"35\": 39, \"57\": 1}, \"17\": {\"17\": 80}, \"32\": {\"32\": 24}, \"47\": {\"47\": 118, \"46\": 2}, \"18\": {\"18\": 108}, \"26\": {\"26\": 24}, \"50\": {\"50\": 106, \"53\": 11, \"3\": 2, \"6\": 2, \"21\": 1}, \"55\": {\"55\": 124}, \"34\": {\"34\": 24}, \"30\": {\"30\": 44}, \"37\": {\"37\": 24}, \"44\": {\"44\": 130, \"19\": 2}, \"48\": {\"48\": 118}, \"16\": {\"16\": 96}}, \"CORES_2\": {\"11\": {\"11\": 130}, \"21\": {\"21\": 120}, \"19\": {\"19\": 140}, \"20\": {\"20\": 128}, \"9\": {\"9\": 140}, \"10\": {\"10\": 112}, \"37\": {\"37\": 36}, \"32\": {\"32\": 28}, \"3\": {\"3\": 84, \"21\": 4, \"53\": 2, \"52\": 1, \"50\": 1}, \"39\": {\"39\": 28}, \"45\": {\"45\": 127, \"4\": 1}, \"50\": {\"50\": 136}, \"40\": {\"40\": 136, \"9\": 3, \"45\": 1}, \"46\": {\"46\": 118, \"11\": 2, \"25\": 1, \"16\": 2, \"15\": 1, \"6\": 2, \"18\": 1, \"8\": 1}, \"12\": {\"12\": 91, \"20\": 1}, \"13\": {\"13\": 116}, \"47\": {\"47\": 131, \"5\": 1}, \"15\": {\"15\": 142}, \"54\": {\"54\": 108}, \"48\": {\"48\": 148}, \"23\": {\"23\": 142}, \"29\": {\"29\": 128}, \"38\": {\"38\": 20}, \"53\": {\"53\": 136}, \"27\": {\"27\": 150}, \"43\": {\"43\": 144}, \"35\": {\"35\": 31, \"9\": 1}, \"0\": {\"0\": 48}, \"52\": {\"52\": 124}, \"8\": {\"8\": 128}, \"24\": {\"24\": 94, \"10\": 2}, \"18\": {\"18\": 48}, \"25\": {\"25\": 148}, \"57\": {\"57\": 135, \"1\": 1}, \"55\": {\"55\": 134}, \"36\": {\"36\": 116}, \"17\": {\"17\": 104}, \"2\": {\"2\": 32}, \"34\": {\"34\": 28}, \"1\": {\"1\": 104, \"9\": 1, \"17\": 1, \"57\": 2, \"42\": 2, \"4\": 1, \"48\": 1}, \"51\": {\"51\": 136}, \"31\": {\"31\": 28}, \"49\": {\"49\": 24}, \"14\": {\"31\": 1, \"14\": 15, \"29\": 2, \"0\": 2, \"22\": 2, \"1\": 1, \"19\": 1}, \"33\": {\"33\": 28}, \"41\": {\"41\": 20}, \"28\": {\"28\": 28}, \"5\": {\"5\": 108, \"47\": 12}, \"16\": {\"16\": 150}, \"4\": {\"4\": 128}, \"22\": {\"22\": 136}, \"6\": {\"6\": 114, \"25\": 3, \"50\": 1}, \"30\": {\"30\": 120, \"18\": 1, \"15\": 3}, \"26\": {\"26\": 24}, \"56\": {\"56\": 142}, \"42\": {\"42\": 36}, \"44\": {\"44\": 99, \"45\": 1}, \"7\": {\"7\": 36}}}, \"per_domain_accuracy\": {\"ORACLE.run1_26\": {\"accuracy\": 0.5552604166666667, \"source?\": true}, \"ORACLE.run1_44\": {\"accuracy\": 0.7184895833333333, \"source?\": true}, \"ORACLE.run1_50\": {\"accuracy\": 0.7901041666666667, \"source?\": true}, \"ORACLE.run1_38\": {\"accuracy\": 0.8007291666666667, \"source?\": true}, \"ORACLE.run1_20\": {\"accuracy\": 0.66390625, \"source?\": true}, \"ORACLE.run1_14\": {\"accuracy\": 0.823125, \"source?\": true}, \"ORACLE.run1_32\": {\"accuracy\": 0.7783333333333333, \"source?\": true}, \"ORACLE.run1_8\": {\"accuracy\": 0.69859375, \"source?\": true}, \"CORES_5\": {\"accuracy\": 0.9718924581005587, \"source?\": false}, \"CORES_1\": {\"accuracy\": 0.9677309782608695, \"source?\": false}, \"CORES_3\": {\"accuracy\": 0.9854779411764706, \"source?\": false}, \"CORES_4\": {\"accuracy\": 0.9789156626506024, \"source?\": false}, \"CORES_2\": {\"accuracy\": 0.9881036931818182, \"source?\": false}}}, \"history\": {\"epoch_indices\": [1, 2, 3, 4, 5, 6, 7, 8, 9, 10, 11, 12, 13, 14, 15, 16], \"train_label_loss\": [1.0752663637768654, 0.8320279573418555, 0.754014576700117, 0.6812288752965452, 0.6059540672402918, 0.5464474894395763, 0.501071526563305, 0.46219871456191564, 0.4292809567252906, 0.3984781763621695, 0.3715602548301796, 0.34628832487051286, 0.323006439954874, 0.3018570615277609, 0.2825717799029302, 0.26404321471383724], \"source_val_label_loss\": [1.005861520767212, 0.853448212146759, 0.8254822492599487, 0.7846266031265259, 0.7524672150611877, 0.7430363893508911, 0.7383154034614563, 0.7578807473182678, 0.7761795520782471, 0.7881796956062317, 0.8027998805046082, 0.832677960395813, 0.8435508608818054, 0.8757002949714661, 0.8982863426208496, 0.9262236952781677], \"target_val_label_loss\": [0.14079225063323975, 0.18046939373016357, 0.201448455452919, 0.20043393969535828, 0.19200380146503448, 0.18206787109375, 0.16788773238658905, 0.18764816224575043, 0.1895858347415924, 0.20250706374645233, 0.21864037215709686, 0.20960456132888794, 0.22676284611225128, 0.23598612844944, 0.2523193359375, 0.26905059814453125], \"source_val_acc_label\": [0.6339322916666666, 0.6778255208333334, 0.6931575520833333, 0.70896484375, 0.7238736979166667, 0.7314388020833333, 0.7304361979166667, 0.7305078125, 0.7278190104166666, 0.7289518229166667, 0.7265234375, 0.7285677083333333, 0.7249088541666666, 0.7217578125, 0.72013671875, 0.71865234375], \"target_val_acc_label\": [0.9619642857142857, 0.9599642857142857, 0.9658571428571429, 0.9698571428571429, 0.9740357142857143, 0.9760357142857143, 0.97725, 0.9781428571428571, 0.9773571428571428, 0.9766785714285714, 0.9761428571428571, 0.97825, 0.9775, 0.9766785714285714, 0.9768571428571429, 0.9753571428571428]}, \"dataset_metrics\": {\"source\": {\"train\": {\"n_unique_x\": 896000, \"n_unique_y\": 16, \"n_batch/episode\": 33600}, \"val\": {\"n_unique_x\": 192000, \"n_unique_y\": 16, \"n_batch/episode\": 4800}, \"test\": {\"n_unique_x\": 192000, \"n_unique_y\": 16, \"n_batch/episode\": 4800}}, \"target\": {\"train\": {\"n_unique_x\": 175203, \"n_unique_y\": 58, \"n_batch/episode\": 6321}, \"val\": {\"n_unique_x\": 37151, \"n_unique_y\": 58, \"n_batch/episode\": 875}, \"test\": {\"n_unique_x\": 37548, \"n_unique_y\": 58, \"n_batch/episode\": 885}}}}'"
      ]
     },
     "execution_count": 29,
     "metadata": {},
     "output_type": "execute_result"
    }
   ],
   "source": [
    "json.dumps(experiment)"
   ]
  }
 ],
 "metadata": {
  "celltoolbar": "Tags",
  "kernelspec": {
   "display_name": "Python 3 (ipykernel)",
   "language": "python",
   "name": "python3"
  },
  "language_info": {
   "codemirror_mode": {
    "name": "ipython",
    "version": 3
   },
   "file_extension": ".py",
   "mimetype": "text/x-python",
   "name": "python",
   "nbconvert_exporter": "python",
   "pygments_lexer": "ipython3",
   "version": "3.8.12"
  },
  "papermill": {
   "default_parameters": {},
   "duration": 12516.098357,
   "end_time": "2022-03-23T01:19:13.020742",
   "environment_variables": {},
   "exception": null,
   "input_path": "/root/csc500-main/csc500-notebooks/templates/tl_ptn_template.ipynb",
   "output_path": "trial.ipynb",
   "parameters": {
    "parameters": {
     "BEST_MODEL_PATH": "./best_model.pth",
     "NUM_LOGS_PER_EPOCH": 10,
     "criteria_for_best": "target_accuracy",
     "dataset_seed": 7,
     "datasets": [
      {
       "domain_prefix": "CORES_",
       "domains": [
        1,
        2,
        3,
        4,
        5
       ],
       "episode_transforms": [],
       "labels": [
        "1-10.",
        "1-11.",
        "1-15.",
        "1-16.",
        "1-17.",
        "1-18.",
        "1-19.",
        "10-4.",
        "10-7.",
        "11-1.",
        "11-14.",
        "11-17.",
        "11-20.",
        "11-7.",
        "13-20.",
        "13-8.",
        "14-10.",
        "14-11.",
        "14-14.",
        "14-7.",
        "15-1.",
        "15-20.",
        "16-1.",
        "16-16.",
        "17-10.",
        "17-11.",
        "17-2.",
        "19-1.",
        "19-16.",
        "19-19.",
        "19-20.",
        "19-3.",
        "2-10.",
        "2-11.",
        "2-17.",
        "2-18.",
        "2-20.",
        "2-3.",
        "2-4.",
        "2-5.",
        "2-6.",
        "2-7.",
        "2-8.",
        "3-13.",
        "3-18.",
        "3-3.",
        "4-1.",
        "4-10.",
        "4-11.",
        "4-19.",
        "5-5.",
        "6-15.",
        "7-10.",
        "7-14.",
        "8-18.",
        "8-20.",
        "8-3.",
        "8-8."
       ],
       "num_examples_per_domain_per_label": -1,
       "pickle_path": "/root/csc500-main/datasets/cores.stratified_ds.2022A.pkl",
       "source_or_target_dataset": "target",
       "x_transforms": [
        "unit_power"
       ]
      },
      {
       "domain_prefix": "ORACLE.run1_",
       "domains": [
        32,
        38,
        8,
        44,
        14,
        50,
        20,
        26
       ],
       "episode_transforms": [],
       "labels": [
        "3123D52",
        "3123D65",
        "3123D79",
        "3123D80",
        "3123D54",
        "3123D70",
        "3123D7B",
        "3123D89",
        "3123D58",
        "3123D76",
        "3123D7D",
        "3123EFE",
        "3123D64",
        "3123D78",
        "3123D7E",
        "3124E4A"
       ],
       "num_examples_per_domain_per_label": 10000,
       "pickle_path": "/root/csc500-main/datasets/oracle.Run1_10kExamples_stratified_ds.2022A.pkl",
       "source_or_target_dataset": "source",
       "x_transforms": [
        "unit_power"
       ]
      }
     ],
     "device": "cuda",
     "experiment_name": "tl_1v2:cores-oracle.run1",
     "lr": 0.0001,
     "n_epoch": 50,
     "n_query": 2,
     "n_shot": 3,
     "n_way": 16,
     "patience": 3,
     "seed": 7,
     "test_k_factor": 2,
     "torch_default_dtype": "torch.float32",
     "train_k_factor": 3,
     "val_k_factor": 2,
     "x_net": [
      {
       "class": "nnReshape",
       "kargs": {
        "shape": [
         -1,
         1,
         2,
         256
        ]
       }
      },
      {
       "class": "Conv2d",
       "kargs": {
        "bias": false,
        "in_channels": 1,
        "kernel_size": [
         1,
         7
        ],
        "out_channels": 256,
        "padding": [
         0,
         3
        ]
       }
      },
      {
       "class": "ReLU",
       "kargs": {
        "inplace": true
       }
      },
      {
       "class": "BatchNorm2d",
       "kargs": {
        "num_features": 256
       }
      },
      {
       "class": "Conv2d",
       "kargs": {
        "bias": true,
        "in_channels": 256,
        "kernel_size": [
         2,
         7
        ],
        "out_channels": 80,
        "padding": [
         0,
         3
        ]
       }
      },
      {
       "class": "ReLU",
       "kargs": {
        "inplace": true
       }
      },
      {
       "class": "BatchNorm2d",
       "kargs": {
        "num_features": 80
       }
      },
      {
       "class": "Flatten",
       "kargs": {}
      },
      {
       "class": "Linear",
       "kargs": {
        "in_features": 20480,
        "out_features": 256
       }
      },
      {
       "class": "ReLU",
       "kargs": {
        "inplace": true
       }
      },
      {
       "class": "BatchNorm1d",
       "kargs": {
        "num_features": 256
       }
      },
      {
       "class": "Linear",
       "kargs": {
        "in_features": 256,
        "out_features": 256
       }
      }
     ]
    }
   },
   "start_time": "2022-03-22T21:50:36.922385",
   "version": "2.3.4"
  }
 },
 "nbformat": 4,
 "nbformat_minor": 5
}