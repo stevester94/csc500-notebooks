{
 "cells": [
  {
   "cell_type": "markdown",
   "id": "9fea5f46",
   "metadata": {
    "papermill": {
     "duration": 0.032767,
     "end_time": "2022-03-23T08:49:37.806931",
     "exception": false,
     "start_time": "2022-03-23T08:49:37.774164",
     "status": "completed"
    },
    "tags": []
   },
   "source": [
    "# Transfer Learning Template"
   ]
  },
  {
   "cell_type": "code",
   "execution_count": 1,
   "id": "0902182a",
   "metadata": {
    "execution": {
     "iopub.execute_input": "2022-03-23T08:49:37.869228Z",
     "iopub.status.busy": "2022-03-23T08:49:37.868346Z",
     "iopub.status.idle": "2022-03-23T08:49:39.828519Z",
     "shell.execute_reply": "2022-03-23T08:49:39.829243Z"
    },
    "papermill": {
     "duration": 2.000564,
     "end_time": "2022-03-23T08:49:39.829570",
     "exception": false,
     "start_time": "2022-03-23T08:49:37.829006",
     "status": "completed"
    },
    "tags": []
   },
   "outputs": [],
   "source": [
    "%load_ext autoreload\n",
    "%autoreload 2\n",
    "%matplotlib inline\n",
    "\n",
    "    \n",
    "import os, json, sys, time, random\n",
    "import numpy as np\n",
    "import torch\n",
    "from torch.optim import Adam\n",
    "from  easydict import EasyDict\n",
    "import matplotlib.pyplot as plt\n",
    "\n",
    "from steves_models.steves_ptn import Steves_Prototypical_Network\n",
    "\n",
    "from steves_utils.lazy_iterable_wrapper import Lazy_Iterable_Wrapper\n",
    "from steves_utils.iterable_aggregator import Iterable_Aggregator\n",
    "from steves_utils.ptn_train_eval_test_jig import  PTN_Train_Eval_Test_Jig\n",
    "from steves_utils.torch_sequential_builder import build_sequential\n",
    "from steves_utils.torch_utils import get_dataset_metrics, ptn_confusion_by_domain_over_dataloader\n",
    "from steves_utils.utils_v2 import (per_domain_accuracy_from_confusion, get_datasets_base_path)\n",
    "from steves_utils.PTN.utils import independent_accuracy_assesment\n",
    "\n",
    "from torch.utils.data import DataLoader\n",
    "\n",
    "from steves_utils.stratified_dataset.episodic_accessor import Episodic_Accessor_Factory\n",
    "\n",
    "from steves_utils.ptn_do_report import (\n",
    "    get_loss_curve,\n",
    "    get_results_table,\n",
    "    get_parameters_table,\n",
    "    get_domain_accuracies,\n",
    ")\n",
    "\n",
    "from steves_utils.transforms import get_chained_transform"
   ]
  },
  {
   "cell_type": "markdown",
   "id": "41c840b4",
   "metadata": {
    "papermill": {
     "duration": 0.024736,
     "end_time": "2022-03-23T08:49:39.880128",
     "exception": false,
     "start_time": "2022-03-23T08:49:39.855392",
     "status": "completed"
    },
    "tags": []
   },
   "source": [
    "# Allowed Parameters\n",
    "These are allowed parameters, not defaults\n",
    "Each of these values need to be present in the injected parameters (the notebook will raise an exception if they are not present)\n",
    "\n",
    "Papermill uses the cell tag \"parameters\" to inject the real parameters below this cell.\n",
    "Enable tags to see what I mean"
   ]
  },
  {
   "cell_type": "code",
   "execution_count": 2,
   "id": "fd44eb83",
   "metadata": {
    "execution": {
     "iopub.execute_input": "2022-03-23T08:49:39.922946Z",
     "iopub.status.busy": "2022-03-23T08:49:39.922525Z",
     "iopub.status.idle": "2022-03-23T08:49:39.948626Z",
     "shell.execute_reply": "2022-03-23T08:49:39.947779Z"
    },
    "papermill": {
     "duration": 0.049787,
     "end_time": "2022-03-23T08:49:39.948793",
     "exception": false,
     "start_time": "2022-03-23T08:49:39.899006",
     "status": "completed"
    },
    "tags": []
   },
   "outputs": [],
   "source": [
    "required_parameters = {\n",
    "    \"experiment_name\",\n",
    "    \"lr\",\n",
    "    \"device\",\n",
    "    \"seed\",\n",
    "    \"dataset_seed\",\n",
    "    \"n_shot\",\n",
    "    \"n_query\",\n",
    "    \"n_way\",\n",
    "    \"train_k_factor\",\n",
    "    \"val_k_factor\",\n",
    "    \"test_k_factor\",\n",
    "    \"n_epoch\",\n",
    "    \"patience\",\n",
    "    \"criteria_for_best\",\n",
    "    \"x_net\",\n",
    "    \"datasets\",\n",
    "    \"torch_default_dtype\",\n",
    "    \"NUM_LOGS_PER_EPOCH\",\n",
    "    \"BEST_MODEL_PATH\",\n",
    "    \"x_shape\",\n",
    "}"
   ]
  },
  {
   "cell_type": "code",
   "execution_count": 3,
   "id": "fa3f0049",
   "metadata": {
    "execution": {
     "iopub.execute_input": "2022-03-23T08:49:40.010306Z",
     "iopub.status.busy": "2022-03-23T08:49:40.009398Z",
     "iopub.status.idle": "2022-03-23T08:49:40.032886Z",
     "shell.execute_reply": "2022-03-23T08:49:40.032068Z"
    },
    "papermill": {
     "duration": 0.0567,
     "end_time": "2022-03-23T08:49:40.033046",
     "exception": false,
     "start_time": "2022-03-23T08:49:39.976346",
     "status": "completed"
    },
    "tags": [
     "parameters"
    ]
   },
   "outputs": [],
   "source": [
    "from steves_utils.CORES.utils import (\n",
    "    ALL_NODES,\n",
    "    ALL_NODES_MINIMUM_1000_EXAMPLES,\n",
    "    ALL_DAYS\n",
    ")\n",
    "\n",
    "from steves_utils.ORACLE.utils_v2 import (\n",
    "    ALL_DISTANCES_FEET_NARROWED,\n",
    "    ALL_RUNS,\n",
    "    ALL_SERIAL_NUMBERS,\n",
    ")\n",
    "\n",
    "standalone_parameters = {}\n",
    "standalone_parameters[\"experiment_name\"] = \"STANDALONE PTN\"\n",
    "standalone_parameters[\"lr\"] = 0.001\n",
    "standalone_parameters[\"device\"] = \"cuda\"\n",
    "\n",
    "standalone_parameters[\"seed\"] = 1337\n",
    "standalone_parameters[\"dataset_seed\"] = 1337\n",
    "\n",
    "standalone_parameters[\"n_way\"] = 8\n",
    "standalone_parameters[\"n_shot\"] = 3\n",
    "standalone_parameters[\"n_query\"]  = 2\n",
    "standalone_parameters[\"train_k_factor\"] = 1\n",
    "standalone_parameters[\"val_k_factor\"] = 2\n",
    "standalone_parameters[\"test_k_factor\"] = 2\n",
    "\n",
    "\n",
    "standalone_parameters[\"n_epoch\"] = 50\n",
    "\n",
    "standalone_parameters[\"patience\"] = 10\n",
    "standalone_parameters[\"criteria_for_best\"] = \"source_loss\"\n",
    "\n",
    "standalone_parameters[\"datasets\"] = [\n",
    "    {\n",
    "        \"labels\": ALL_SERIAL_NUMBERS,\n",
    "        \"domains\": ALL_DISTANCES_FEET_NARROWED,\n",
    "        \"num_examples_per_domain_per_label\": 100,\n",
    "        \"pickle_path\": os.path.join(get_datasets_base_path(), \"oracle.Run1_framed_2000Examples_stratified_ds.2022A.pkl\"),\n",
    "        \"source_or_target_dataset\": \"source\",\n",
    "        \"x_transforms\": [\"unit_mag\", \"minus_two\"],\n",
    "        \"episode_transforms\": [],\n",
    "        \"domain_prefix\": \"ORACLE_\"\n",
    "    },\n",
    "    {\n",
    "        \"labels\": ALL_NODES,\n",
    "        \"domains\": ALL_DAYS,\n",
    "        \"num_examples_per_domain_per_label\": 100,\n",
    "        \"pickle_path\": os.path.join(get_datasets_base_path(), \"cores.stratified_ds.2022A.pkl\"),\n",
    "        \"source_or_target_dataset\": \"target\",\n",
    "        \"x_transforms\": [\"unit_power\", \"times_zero\"],\n",
    "        \"episode_transforms\": [],\n",
    "        \"domain_prefix\": \"CORES_\"\n",
    "    }   \n",
    "]\n",
    "\n",
    "standalone_parameters[\"torch_default_dtype\"] = \"torch.float32\" \n",
    "\n",
    "\n",
    "\n",
    "standalone_parameters[\"x_net\"] =     [\n",
    "    {\"class\": \"nnReshape\", \"kargs\": {\"shape\":[-1, 1, 2, 256]}},\n",
    "    {\"class\": \"Conv2d\", \"kargs\": { \"in_channels\":1, \"out_channels\":256, \"kernel_size\":(1,7), \"bias\":False, \"padding\":(0,3), },},\n",
    "    {\"class\": \"ReLU\", \"kargs\": {\"inplace\": True}},\n",
    "    {\"class\": \"BatchNorm2d\", \"kargs\": {\"num_features\":256}},\n",
    "\n",
    "    {\"class\": \"Conv2d\", \"kargs\": { \"in_channels\":256, \"out_channels\":80, \"kernel_size\":(2,7), \"bias\":True, \"padding\":(0,3), },},\n",
    "    {\"class\": \"ReLU\", \"kargs\": {\"inplace\": True}},\n",
    "    {\"class\": \"BatchNorm2d\", \"kargs\": {\"num_features\":80}},\n",
    "    {\"class\": \"Flatten\", \"kargs\": {}},\n",
    "\n",
    "    {\"class\": \"Linear\", \"kargs\": {\"in_features\": 80*256, \"out_features\": 256}}, # 80 units per IQ pair\n",
    "    {\"class\": \"ReLU\", \"kargs\": {\"inplace\": True}},\n",
    "    {\"class\": \"BatchNorm1d\", \"kargs\": {\"num_features\":256}},\n",
    "\n",
    "    {\"class\": \"Linear\", \"kargs\": {\"in_features\": 256, \"out_features\": 256}},\n",
    "]\n",
    "\n",
    "# Parameters relevant to results\n",
    "# These parameters will basically never need to change\n",
    "standalone_parameters[\"NUM_LOGS_PER_EPOCH\"] = 10\n",
    "standalone_parameters[\"BEST_MODEL_PATH\"] = \"./best_model.pth\"\n",
    "\n",
    "\n",
    "\n",
    "\n"
   ]
  },
  {
   "cell_type": "code",
   "execution_count": 4,
   "id": "ffb80240",
   "metadata": {
    "execution": {
     "iopub.execute_input": "2022-03-23T08:49:40.096364Z",
     "iopub.status.busy": "2022-03-23T08:49:40.095545Z",
     "iopub.status.idle": "2022-03-23T08:49:40.117799Z",
     "shell.execute_reply": "2022-03-23T08:49:40.117085Z"
    },
    "papermill": {
     "duration": 0.05731,
     "end_time": "2022-03-23T08:49:40.117955",
     "exception": false,
     "start_time": "2022-03-23T08:49:40.060645",
     "status": "completed"
    },
    "tags": [
     "injected-parameters"
    ]
   },
   "outputs": [],
   "source": [
    "# Parameters\n",
    "parameters = {\n",
    "    \"experiment_name\": \"tl_1v2:cores-oracle.run1\",\n",
    "    \"device\": \"cuda\",\n",
    "    \"lr\": 0.0001,\n",
    "    \"n_shot\": 3,\n",
    "    \"n_query\": 2,\n",
    "    \"train_k_factor\": 3,\n",
    "    \"val_k_factor\": 2,\n",
    "    \"test_k_factor\": 2,\n",
    "    \"torch_default_dtype\": \"torch.float32\",\n",
    "    \"n_epoch\": 50,\n",
    "    \"patience\": 3,\n",
    "    \"criteria_for_best\": \"target_accuracy\",\n",
    "    \"x_net\": [\n",
    "        {\"class\": \"nnReshape\", \"kargs\": {\"shape\": [-1, 1, 2, 256]}},\n",
    "        {\n",
    "            \"class\": \"Conv2d\",\n",
    "            \"kargs\": {\n",
    "                \"in_channels\": 1,\n",
    "                \"out_channels\": 256,\n",
    "                \"kernel_size\": [1, 7],\n",
    "                \"bias\": False,\n",
    "                \"padding\": [0, 3],\n",
    "            },\n",
    "        },\n",
    "        {\"class\": \"ReLU\", \"kargs\": {\"inplace\": True}},\n",
    "        {\"class\": \"BatchNorm2d\", \"kargs\": {\"num_features\": 256}},\n",
    "        {\n",
    "            \"class\": \"Conv2d\",\n",
    "            \"kargs\": {\n",
    "                \"in_channels\": 256,\n",
    "                \"out_channels\": 80,\n",
    "                \"kernel_size\": [2, 7],\n",
    "                \"bias\": True,\n",
    "                \"padding\": [0, 3],\n",
    "            },\n",
    "        },\n",
    "        {\"class\": \"ReLU\", \"kargs\": {\"inplace\": True}},\n",
    "        {\"class\": \"BatchNorm2d\", \"kargs\": {\"num_features\": 80}},\n",
    "        {\"class\": \"Flatten\", \"kargs\": {}},\n",
    "        {\"class\": \"Linear\", \"kargs\": {\"in_features\": 20480, \"out_features\": 256}},\n",
    "        {\"class\": \"ReLU\", \"kargs\": {\"inplace\": True}},\n",
    "        {\"class\": \"BatchNorm1d\", \"kargs\": {\"num_features\": 256}},\n",
    "        {\"class\": \"Linear\", \"kargs\": {\"in_features\": 256, \"out_features\": 256}},\n",
    "    ],\n",
    "    \"NUM_LOGS_PER_EPOCH\": 10,\n",
    "    \"BEST_MODEL_PATH\": \"./best_model.pth\",\n",
    "    \"n_way\": 16,\n",
    "    \"datasets\": [\n",
    "        {\n",
    "            \"labels\": [\n",
    "                \"1-10.\",\n",
    "                \"1-11.\",\n",
    "                \"1-15.\",\n",
    "                \"1-16.\",\n",
    "                \"1-17.\",\n",
    "                \"1-18.\",\n",
    "                \"1-19.\",\n",
    "                \"10-4.\",\n",
    "                \"10-7.\",\n",
    "                \"11-1.\",\n",
    "                \"11-14.\",\n",
    "                \"11-17.\",\n",
    "                \"11-20.\",\n",
    "                \"11-7.\",\n",
    "                \"13-20.\",\n",
    "                \"13-8.\",\n",
    "                \"14-10.\",\n",
    "                \"14-11.\",\n",
    "                \"14-14.\",\n",
    "                \"14-7.\",\n",
    "                \"15-1.\",\n",
    "                \"15-20.\",\n",
    "                \"16-1.\",\n",
    "                \"16-16.\",\n",
    "                \"17-10.\",\n",
    "                \"17-11.\",\n",
    "                \"17-2.\",\n",
    "                \"19-1.\",\n",
    "                \"19-16.\",\n",
    "                \"19-19.\",\n",
    "                \"19-20.\",\n",
    "                \"19-3.\",\n",
    "                \"2-10.\",\n",
    "                \"2-11.\",\n",
    "                \"2-17.\",\n",
    "                \"2-18.\",\n",
    "                \"2-20.\",\n",
    "                \"2-3.\",\n",
    "                \"2-4.\",\n",
    "                \"2-5.\",\n",
    "                \"2-6.\",\n",
    "                \"2-7.\",\n",
    "                \"2-8.\",\n",
    "                \"3-13.\",\n",
    "                \"3-18.\",\n",
    "                \"3-3.\",\n",
    "                \"4-1.\",\n",
    "                \"4-10.\",\n",
    "                \"4-11.\",\n",
    "                \"4-19.\",\n",
    "                \"5-5.\",\n",
    "                \"6-15.\",\n",
    "                \"7-10.\",\n",
    "                \"7-14.\",\n",
    "                \"8-18.\",\n",
    "                \"8-20.\",\n",
    "                \"8-3.\",\n",
    "                \"8-8.\",\n",
    "            ],\n",
    "            \"domains\": [1, 2, 3, 4, 5],\n",
    "            \"num_examples_per_domain_per_label\": -1,\n",
    "            \"pickle_path\": \"/root/csc500-main/datasets/cores.stratified_ds.2022A.pkl\",\n",
    "            \"source_or_target_dataset\": \"source\",\n",
    "            \"x_transforms\": [],\n",
    "            \"episode_transforms\": [],\n",
    "            \"domain_prefix\": \"CORES_\",\n",
    "        },\n",
    "        {\n",
    "            \"labels\": [\n",
    "                \"3123D52\",\n",
    "                \"3123D65\",\n",
    "                \"3123D79\",\n",
    "                \"3123D80\",\n",
    "                \"3123D54\",\n",
    "                \"3123D70\",\n",
    "                \"3123D7B\",\n",
    "                \"3123D89\",\n",
    "                \"3123D58\",\n",
    "                \"3123D76\",\n",
    "                \"3123D7D\",\n",
    "                \"3123EFE\",\n",
    "                \"3123D64\",\n",
    "                \"3123D78\",\n",
    "                \"3123D7E\",\n",
    "                \"3124E4A\",\n",
    "            ],\n",
    "            \"domains\": [32, 38, 8, 44, 14, 50, 20, 26],\n",
    "            \"num_examples_per_domain_per_label\": 10000,\n",
    "            \"pickle_path\": \"/root/csc500-main/datasets/oracle.Run1_10kExamples_stratified_ds.2022A.pkl\",\n",
    "            \"source_or_target_dataset\": \"target\",\n",
    "            \"x_transforms\": [],\n",
    "            \"episode_transforms\": [],\n",
    "            \"domain_prefix\": \"ORACLE.run1_\",\n",
    "        },\n",
    "    ],\n",
    "    \"dataset_seed\": 500,\n",
    "    \"seed\": 500,\n",
    "}\n"
   ]
  },
  {
   "cell_type": "code",
   "execution_count": 5,
   "id": "8fa1cc33",
   "metadata": {
    "execution": {
     "iopub.execute_input": "2022-03-23T08:49:40.168171Z",
     "iopub.status.busy": "2022-03-23T08:49:40.164613Z",
     "iopub.status.idle": "2022-03-23T08:49:40.190004Z",
     "shell.execute_reply": "2022-03-23T08:49:40.189301Z"
    },
    "papermill": {
     "duration": 0.047231,
     "end_time": "2022-03-23T08:49:40.190160",
     "exception": false,
     "start_time": "2022-03-23T08:49:40.142929",
     "status": "completed"
    },
    "tags": []
   },
   "outputs": [],
   "source": [
    "# Set this to True if you want to run this template directly\n",
    "STANDALONE = False\n",
    "if STANDALONE:\n",
    "    print(\"parameters not injected, running with standalone_parameters\")\n",
    "    parameters = standalone_parameters\n",
    "\n",
    "if not 'parameters' in locals() and not 'parameters' in globals():\n",
    "    raise Exception(\"Parameter injection failed\")\n",
    "\n",
    "#Use an easy dict for all the parameters\n",
    "p = EasyDict(parameters)\n",
    "\n",
    "if \"x_shape\" not in p:\n",
    "    p.x_shape = [2,256] # Default to this if we dont supply x_shape\n",
    "\n",
    "\n",
    "supplied_keys = set(p.keys())\n",
    "\n",
    "if  supplied_keys != required_parameters:\n",
    "    print(\"Parameters are incorrect\")\n",
    "    if len(supplied_keys - required_parameters)>0: print(\"Shouldn't have:\", str(supplied_keys - required_parameters))\n",
    "    if len(required_parameters - supplied_keys)>0: print(\"Need to have:\", str(required_parameters - supplied_keys))\n",
    "    raise RuntimeError(\"Parameters are incorrect\")"
   ]
  },
  {
   "cell_type": "code",
   "execution_count": 6,
   "id": "3a028d58",
   "metadata": {
    "execution": {
     "iopub.execute_input": "2022-03-23T08:49:40.239100Z",
     "iopub.status.busy": "2022-03-23T08:49:40.238731Z",
     "iopub.status.idle": "2022-03-23T08:49:40.260399Z",
     "shell.execute_reply": "2022-03-23T08:49:40.259710Z"
    },
    "papermill": {
     "duration": 0.045449,
     "end_time": "2022-03-23T08:49:40.260560",
     "exception": false,
     "start_time": "2022-03-23T08:49:40.215111",
     "status": "completed"
    },
    "tags": []
   },
   "outputs": [],
   "source": [
    "###################################\n",
    "# Set the RNGs and make it all deterministic\n",
    "###################################\n",
    "np.random.seed(p.seed)\n",
    "random.seed(p.seed)\n",
    "torch.manual_seed(p.seed)\n",
    "\n",
    "torch.use_deterministic_algorithms(True) "
   ]
  },
  {
   "cell_type": "code",
   "execution_count": 7,
   "id": "b691acf6",
   "metadata": {
    "execution": {
     "iopub.execute_input": "2022-03-23T08:49:40.308073Z",
     "iopub.status.busy": "2022-03-23T08:49:40.307702Z",
     "iopub.status.idle": "2022-03-23T08:49:40.332131Z",
     "shell.execute_reply": "2022-03-23T08:49:40.331300Z"
    },
    "papermill": {
     "duration": 0.047784,
     "end_time": "2022-03-23T08:49:40.332291",
     "exception": false,
     "start_time": "2022-03-23T08:49:40.284507",
     "status": "completed"
    },
    "tags": []
   },
   "outputs": [],
   "source": [
    "###########################################\n",
    "# The stratified datasets honor this\n",
    "###########################################\n",
    "torch.set_default_dtype(eval(p.torch_default_dtype))"
   ]
  },
  {
   "cell_type": "code",
   "execution_count": 8,
   "id": "b5fba671",
   "metadata": {
    "execution": {
     "iopub.execute_input": "2022-03-23T08:49:40.380727Z",
     "iopub.status.busy": "2022-03-23T08:49:40.380361Z",
     "iopub.status.idle": "2022-03-23T08:49:40.436652Z",
     "shell.execute_reply": "2022-03-23T08:49:40.435877Z"
    },
    "papermill": {
     "duration": 0.078287,
     "end_time": "2022-03-23T08:49:40.436844",
     "exception": false,
     "start_time": "2022-03-23T08:49:40.358557",
     "status": "completed"
    },
    "tags": []
   },
   "outputs": [],
   "source": [
    "###################################\n",
    "# Build the network(s)\n",
    "# Note: It's critical to do this AFTER setting the RNG\n",
    "###################################\n",
    "x_net = build_sequential(p.x_net)"
   ]
  },
  {
   "cell_type": "code",
   "execution_count": 9,
   "id": "5d7e61cc",
   "metadata": {
    "execution": {
     "iopub.execute_input": "2022-03-23T08:49:40.484441Z",
     "iopub.status.busy": "2022-03-23T08:49:40.484075Z",
     "iopub.status.idle": "2022-03-23T08:49:40.506836Z",
     "shell.execute_reply": "2022-03-23T08:49:40.507494Z"
    },
    "papermill": {
     "duration": 0.046078,
     "end_time": "2022-03-23T08:49:40.507706",
     "exception": false,
     "start_time": "2022-03-23T08:49:40.461628",
     "status": "completed"
    },
    "tags": []
   },
   "outputs": [],
   "source": [
    "start_time_secs = time.time()"
   ]
  },
  {
   "cell_type": "code",
   "execution_count": 10,
   "id": "c6b67dfd",
   "metadata": {
    "execution": {
     "iopub.execute_input": "2022-03-23T08:49:40.558463Z",
     "iopub.status.busy": "2022-03-23T08:49:40.558091Z",
     "iopub.status.idle": "2022-03-23T08:49:40.580814Z",
     "shell.execute_reply": "2022-03-23T08:49:40.580112Z"
    },
    "papermill": {
     "duration": 0.046688,
     "end_time": "2022-03-23T08:49:40.580968",
     "exception": false,
     "start_time": "2022-03-23T08:49:40.534280",
     "status": "completed"
    },
    "tags": []
   },
   "outputs": [],
   "source": [
    "p.domains_source = []\n",
    "p.domains_target = []\n",
    "\n",
    "\n",
    "train_original_source = []\n",
    "val_original_source   = []\n",
    "test_original_source  = []\n",
    "\n",
    "train_original_target = []\n",
    "val_original_target   = []\n",
    "test_original_target  = []"
   ]
  },
  {
   "cell_type": "code",
   "execution_count": 11,
   "id": "e3d9c3d3",
   "metadata": {
    "execution": {
     "iopub.execute_input": "2022-03-23T08:49:40.629255Z",
     "iopub.status.busy": "2022-03-23T08:49:40.628883Z",
     "iopub.status.idle": "2022-03-23T08:49:40.648630Z",
     "shell.execute_reply": "2022-03-23T08:49:40.647921Z"
    },
    "papermill": {
     "duration": 0.041955,
     "end_time": "2022-03-23T08:49:40.648786",
     "exception": false,
     "start_time": "2022-03-23T08:49:40.606831",
     "status": "completed"
    },
    "tags": []
   },
   "outputs": [],
   "source": [
    "# global_x_transform_func = lambda x: normalize(x.to(torch.get_default_dtype()), \"unit_power\") # unit_power, unit_mag\n",
    "# global_x_transform_func = lambda x: normalize(x, \"unit_power\") # unit_power, unit_mag"
   ]
  },
  {
   "cell_type": "code",
   "execution_count": 12,
   "id": "acb78fd2",
   "metadata": {
    "execution": {
     "iopub.execute_input": "2022-03-23T08:49:40.704909Z",
     "iopub.status.busy": "2022-03-23T08:49:40.704522Z",
     "iopub.status.idle": "2022-03-23T08:49:40.724491Z",
     "shell.execute_reply": "2022-03-23T08:49:40.725156Z"
    },
    "papermill": {
     "duration": 0.047363,
     "end_time": "2022-03-23T08:49:40.725344",
     "exception": false,
     "start_time": "2022-03-23T08:49:40.677981",
     "status": "completed"
    },
    "tags": []
   },
   "outputs": [],
   "source": [
    "def add_dataset(\n",
    "    labels,\n",
    "    domains,\n",
    "    pickle_path,\n",
    "    x_transforms,\n",
    "    episode_transforms,\n",
    "    domain_prefix,\n",
    "    num_examples_per_domain_per_label,\n",
    "    source_or_target_dataset:str,\n",
    "    iterator_seed=p.seed,\n",
    "    dataset_seed=p.dataset_seed,\n",
    "    n_shot=p.n_shot,\n",
    "    n_way=p.n_way,\n",
    "    n_query=p.n_query,\n",
    "    train_val_test_k_factors=(p.train_k_factor,p.val_k_factor,p.test_k_factor),\n",
    "):\n",
    "   \n",
    "    if x_transforms == []: x_transform = None\n",
    "    else: x_transform = get_chained_transform(x_transforms)\n",
    "    \n",
    "    if episode_transforms == []: episode_transform = None\n",
    "    else: raise Exception(\"episode_transforms not implemented\")\n",
    "    \n",
    "    episode_transform = lambda tup, _prefix=domain_prefix: (_prefix + str(tup[0]), tup[1])\n",
    "\n",
    "\n",
    "    eaf = Episodic_Accessor_Factory(\n",
    "        labels=labels,\n",
    "        domains=domains,\n",
    "        num_examples_per_domain_per_label=num_examples_per_domain_per_label,\n",
    "        iterator_seed=iterator_seed,\n",
    "        dataset_seed=dataset_seed,\n",
    "        n_shot=n_shot,\n",
    "        n_way=n_way,\n",
    "        n_query=n_query,\n",
    "        train_val_test_k_factors=train_val_test_k_factors,\n",
    "        pickle_path=pickle_path,\n",
    "        x_transform_func=x_transform,\n",
    "    )\n",
    "\n",
    "    train, val, test = eaf.get_train(), eaf.get_val(), eaf.get_test()\n",
    "    train = Lazy_Iterable_Wrapper(train, episode_transform)\n",
    "    val = Lazy_Iterable_Wrapper(val, episode_transform)\n",
    "    test = Lazy_Iterable_Wrapper(test, episode_transform)\n",
    "\n",
    "    if source_or_target_dataset==\"source\":\n",
    "        train_original_source.append(train)\n",
    "        val_original_source.append(val)\n",
    "        test_original_source.append(test)\n",
    "\n",
    "        p.domains_source.extend(\n",
    "            [domain_prefix + str(u) for u in domains]\n",
    "        )\n",
    "    elif source_or_target_dataset==\"target\":\n",
    "        train_original_target.append(train)\n",
    "        val_original_target.append(val)\n",
    "        test_original_target.append(test)\n",
    "        p.domains_target.extend(\n",
    "            [domain_prefix + str(u) for u in domains]\n",
    "        )\n",
    "    else:\n",
    "        raise Exception(f\"invalid source_or_target_dataset: {source_or_target_dataset}\")\n",
    "    "
   ]
  },
  {
   "cell_type": "code",
   "execution_count": 13,
   "id": "fe266617",
   "metadata": {
    "execution": {
     "iopub.execute_input": "2022-03-23T08:49:40.774476Z",
     "iopub.status.busy": "2022-03-23T08:49:40.774095Z",
     "iopub.status.idle": "2022-03-23T08:49:51.552728Z",
     "shell.execute_reply": "2022-03-23T08:49:51.551937Z"
    },
    "papermill": {
     "duration": 10.801161,
     "end_time": "2022-03-23T08:49:51.552914",
     "exception": false,
     "start_time": "2022-03-23T08:49:40.751753",
     "status": "completed"
    },
    "tags": []
   },
   "outputs": [],
   "source": [
    "for ds in p.datasets:\n",
    "    add_dataset(**ds)"
   ]
  },
  {
   "cell_type": "code",
   "execution_count": 14,
   "id": "b90d65ac",
   "metadata": {
    "execution": {
     "iopub.execute_input": "2022-03-23T08:49:51.603394Z",
     "iopub.status.busy": "2022-03-23T08:49:51.602510Z",
     "iopub.status.idle": "2022-03-23T08:49:51.627902Z",
     "shell.execute_reply": "2022-03-23T08:49:51.627046Z"
    },
    "papermill": {
     "duration": 0.049711,
     "end_time": "2022-03-23T08:49:51.628056",
     "exception": false,
     "start_time": "2022-03-23T08:49:51.578345",
     "status": "completed"
    },
    "tags": []
   },
   "outputs": [],
   "source": [
    "# from steves_utils.CORES.utils import (\n",
    "#     ALL_NODES,\n",
    "#     ALL_NODES_MINIMUM_1000_EXAMPLES,\n",
    "#     ALL_DAYS\n",
    "# )\n",
    "\n",
    "# add_dataset(\n",
    "#     labels=ALL_NODES,\n",
    "#     domains = ALL_DAYS,\n",
    "#     num_examples_per_domain_per_label=100,\n",
    "#     pickle_path=os.path.join(get_datasets_base_path(), \"cores.stratified_ds.2022A.pkl\"),\n",
    "#     source_or_target_dataset=\"target\",\n",
    "#     x_transform_func=global_x_transform_func,\n",
    "#     domain_modifier=lambda u: f\"cores_{u}\"\n",
    "# )"
   ]
  },
  {
   "cell_type": "code",
   "execution_count": 15,
   "id": "76db484d",
   "metadata": {
    "execution": {
     "iopub.execute_input": "2022-03-23T08:49:51.695444Z",
     "iopub.status.busy": "2022-03-23T08:49:51.695055Z",
     "iopub.status.idle": "2022-03-23T08:49:51.712084Z",
     "shell.execute_reply": "2022-03-23T08:49:51.711225Z"
    },
    "papermill": {
     "duration": 0.05477,
     "end_time": "2022-03-23T08:49:51.712247",
     "exception": false,
     "start_time": "2022-03-23T08:49:51.657477",
     "status": "completed"
    },
    "tags": []
   },
   "outputs": [],
   "source": [
    "# from steves_utils.ORACLE.utils_v2 import (\n",
    "#     ALL_DISTANCES_FEET,\n",
    "#     ALL_RUNS,\n",
    "#     ALL_SERIAL_NUMBERS,\n",
    "# )\n",
    "\n",
    "\n",
    "# add_dataset(\n",
    "#     labels=ALL_SERIAL_NUMBERS,\n",
    "#     domains = list(set(ALL_DISTANCES_FEET) - {2,62}),\n",
    "#     num_examples_per_domain_per_label=100,\n",
    "#     pickle_path=os.path.join(get_datasets_base_path(), \"oracle.Run2_framed_2000Examples_stratified_ds.2022A.pkl\"),\n",
    "#     source_or_target_dataset=\"source\",\n",
    "#     x_transform_func=global_x_transform_func,\n",
    "#     domain_modifier=lambda u: f\"oracle1_{u}\"\n",
    "# )\n"
   ]
  },
  {
   "cell_type": "code",
   "execution_count": 16,
   "id": "97dea9d2",
   "metadata": {
    "execution": {
     "iopub.execute_input": "2022-03-23T08:49:51.773656Z",
     "iopub.status.busy": "2022-03-23T08:49:51.768443Z",
     "iopub.status.idle": "2022-03-23T08:49:51.785034Z",
     "shell.execute_reply": "2022-03-23T08:49:51.784222Z"
    },
    "papermill": {
     "duration": 0.045144,
     "end_time": "2022-03-23T08:49:51.785187",
     "exception": false,
     "start_time": "2022-03-23T08:49:51.740043",
     "status": "completed"
    },
    "tags": []
   },
   "outputs": [],
   "source": [
    "# from steves_utils.ORACLE.utils_v2 import (\n",
    "#     ALL_DISTANCES_FEET,\n",
    "#     ALL_RUNS,\n",
    "#     ALL_SERIAL_NUMBERS,\n",
    "# )\n",
    "\n",
    "\n",
    "# add_dataset(\n",
    "#     labels=ALL_SERIAL_NUMBERS,\n",
    "#     domains = list(set(ALL_DISTANCES_FEET) - {2,62,56}),\n",
    "#     num_examples_per_domain_per_label=100,\n",
    "#     pickle_path=os.path.join(get_datasets_base_path(), \"oracle.Run2_framed_2000Examples_stratified_ds.2022A.pkl\"),\n",
    "#     source_or_target_dataset=\"source\",\n",
    "#     x_transform_func=global_x_transform_func,\n",
    "#     domain_modifier=lambda u: f\"oracle2_{u}\"\n",
    "# )"
   ]
  },
  {
   "cell_type": "code",
   "execution_count": 17,
   "id": "6f289866",
   "metadata": {
    "execution": {
     "iopub.execute_input": "2022-03-23T08:49:51.834956Z",
     "iopub.status.busy": "2022-03-23T08:49:51.834087Z",
     "iopub.status.idle": "2022-03-23T08:49:51.856945Z",
     "shell.execute_reply": "2022-03-23T08:49:51.856128Z"
    },
    "papermill": {
     "duration": 0.046837,
     "end_time": "2022-03-23T08:49:51.857097",
     "exception": false,
     "start_time": "2022-03-23T08:49:51.810260",
     "status": "completed"
    },
    "tags": []
   },
   "outputs": [],
   "source": [
    "# add_dataset(\n",
    "#     labels=list(range(19)),\n",
    "#     domains = [0,1,2],\n",
    "#     num_examples_per_domain_per_label=100,\n",
    "#     pickle_path=os.path.join(get_datasets_base_path(), \"metehan.stratified_ds.2022A.pkl\"),\n",
    "#     source_or_target_dataset=\"target\",\n",
    "#     x_transform_func=global_x_transform_func,\n",
    "#     domain_modifier=lambda u: f\"met_{u}\"\n",
    "# )"
   ]
  },
  {
   "cell_type": "code",
   "execution_count": 18,
   "id": "86a863c3",
   "metadata": {
    "execution": {
     "iopub.execute_input": "2022-03-23T08:49:51.909880Z",
     "iopub.status.busy": "2022-03-23T08:49:51.909510Z",
     "iopub.status.idle": "2022-03-23T08:49:51.927101Z",
     "shell.execute_reply": "2022-03-23T08:49:51.926284Z"
    },
    "papermill": {
     "duration": 0.040683,
     "end_time": "2022-03-23T08:49:51.927255",
     "exception": false,
     "start_time": "2022-03-23T08:49:51.886572",
     "status": "completed"
    },
    "tags": []
   },
   "outputs": [],
   "source": [
    "# # from steves_utils.wisig.utils import (\n",
    "# #     ALL_NODES_MINIMUM_100_EXAMPLES,\n",
    "# #     ALL_NODES_MINIMUM_500_EXAMPLES,\n",
    "# #     ALL_NODES_MINIMUM_1000_EXAMPLES,\n",
    "# #     ALL_DAYS\n",
    "# # )\n",
    "\n",
    "# import steves_utils.wisig.utils as wisig\n",
    "\n",
    "\n",
    "# add_dataset(\n",
    "#     labels=wisig.ALL_NODES_MINIMUM_100_EXAMPLES,\n",
    "#     domains = wisig.ALL_DAYS,\n",
    "#     num_examples_per_domain_per_label=100,\n",
    "#     pickle_path=os.path.join(get_datasets_base_path(), \"wisig.node3-19.stratified_ds.2022A.pkl\"),\n",
    "#     source_or_target_dataset=\"target\",\n",
    "#     x_transform_func=global_x_transform_func,\n",
    "#     domain_modifier=lambda u: f\"wisig_{u}\"\n",
    "# )"
   ]
  },
  {
   "cell_type": "code",
   "execution_count": 19,
   "id": "fd5442bc",
   "metadata": {
    "execution": {
     "iopub.execute_input": "2022-03-23T08:49:51.990283Z",
     "iopub.status.busy": "2022-03-23T08:49:51.989427Z",
     "iopub.status.idle": "2022-03-23T08:49:52.004788Z",
     "shell.execute_reply": "2022-03-23T08:49:52.003974Z"
    },
    "papermill": {
     "duration": 0.048975,
     "end_time": "2022-03-23T08:49:52.004942",
     "exception": false,
     "start_time": "2022-03-23T08:49:51.955967",
     "status": "completed"
    },
    "tags": []
   },
   "outputs": [],
   "source": [
    "###################################\n",
    "# Build the dataset\n",
    "###################################\n",
    "train_original_source = Iterable_Aggregator(train_original_source, p.seed)\n",
    "val_original_source = Iterable_Aggregator(val_original_source, p.seed)\n",
    "test_original_source = Iterable_Aggregator(test_original_source, p.seed)\n",
    "\n",
    "\n",
    "train_original_target = Iterable_Aggregator(train_original_target, p.seed)\n",
    "val_original_target = Iterable_Aggregator(val_original_target, p.seed)\n",
    "test_original_target = Iterable_Aggregator(test_original_target, p.seed)\n",
    "\n",
    "# For CNN We only use X and Y. And we only train on the source.\n",
    "# Properly form the data using a transform lambda and Lazy_Iterable_Wrapper. Finally wrap them in a dataloader\n",
    "\n",
    "transform_lambda = lambda ex: ex[1] # Original is (<domain>, <episode>) so we strip down to episode only\n",
    "\n",
    "train_processed_source = Lazy_Iterable_Wrapper(train_original_source, transform_lambda)\n",
    "val_processed_source   = Lazy_Iterable_Wrapper(val_original_source, transform_lambda)\n",
    "test_processed_source  = Lazy_Iterable_Wrapper(test_original_source, transform_lambda)\n",
    "\n",
    "train_processed_target = Lazy_Iterable_Wrapper(train_original_target, transform_lambda)\n",
    "val_processed_target   = Lazy_Iterable_Wrapper(val_original_target, transform_lambda)\n",
    "test_processed_target  = Lazy_Iterable_Wrapper(test_original_target, transform_lambda)\n",
    "\n",
    "datasets = EasyDict({\n",
    "    \"source\": {\n",
    "        \"original\": {\"train\":train_original_source, \"val\":val_original_source, \"test\":test_original_source},\n",
    "        \"processed\": {\"train\":train_processed_source, \"val\":val_processed_source, \"test\":test_processed_source}\n",
    "    },\n",
    "    \"target\": {\n",
    "        \"original\": {\"train\":train_original_target, \"val\":val_original_target, \"test\":test_original_target},\n",
    "        \"processed\": {\"train\":train_processed_target, \"val\":val_processed_target, \"test\":test_processed_target}\n",
    "    },\n",
    "})"
   ]
  },
  {
   "cell_type": "code",
   "execution_count": 20,
   "id": "5b3c01fc",
   "metadata": {
    "execution": {
     "iopub.execute_input": "2022-03-23T08:49:52.061225Z",
     "iopub.status.busy": "2022-03-23T08:49:52.060369Z",
     "iopub.status.idle": "2022-03-23T08:50:23.588296Z",
     "shell.execute_reply": "2022-03-23T08:50:23.587480Z"
    },
    "papermill": {
     "duration": 31.553824,
     "end_time": "2022-03-23T08:50:23.588474",
     "exception": false,
     "start_time": "2022-03-23T08:49:52.034650",
     "status": "completed"
    },
    "tags": []
   },
   "outputs": [
    {
     "name": "stdout",
     "output_type": "stream",
     "text": [
      "{'CORES_5', 'CORES_2', 'CORES_3', 'CORES_1', 'CORES_4'}\n"
     ]
    },
    {
     "name": "stdout",
     "output_type": "stream",
     "text": [
      "{'ORACLE.run1_14', 'ORACLE.run1_8', 'ORACLE.run1_44', 'ORACLE.run1_26', 'ORACLE.run1_20', 'ORACLE.run1_38', 'ORACLE.run1_32', 'ORACLE.run1_50'}\n"
     ]
    },
    {
     "name": "stdout",
     "output_type": "stream",
     "text": [
      "tensor([[[-0.0060, -0.0054, -0.0223,  ..., -0.0072,  0.0068, -0.0017],\n",
      "         [-0.0035,  0.0011,  0.0172,  ...,  0.0153,  0.0391,  0.0436]],\n",
      "\n",
      "        [[-0.0096, -0.0275, -0.0174,  ..., -0.0347, -0.0401, -0.0274],\n",
      "         [-0.0048, -0.0185, -0.0293,  ...,  0.0203,  0.0138,  0.0108]],\n",
      "\n",
      "        [[-0.0062, -0.0035, -0.0104,  ...,  0.0128,  0.0288,  0.0244],\n",
      "         [-0.0004,  0.0076,  0.0295,  ...,  0.0180,  0.0265,  0.0359]],\n",
      "\n",
      "        ...,\n",
      "\n",
      "        [[-0.0025, -0.0105,  0.0131,  ..., -0.0173, -0.0065,  0.0104],\n",
      "         [ 0.0059, -0.0101, -0.0090,  ...,  0.0030,  0.0020, -0.0041]],\n",
      "\n",
      "        [[-0.0072,  0.0022,  0.0151,  ..., -0.0149, -0.0024,  0.0096],\n",
      "         [-0.0010, -0.0145,  0.0076,  ..., -0.0071, -0.0007,  0.0047]],\n",
      "\n",
      "        [[ 0.0000, -0.0004, -0.0008,  ...,  0.0188,  0.0046, -0.0041],\n",
      "         [-0.0013, -0.0006, -0.0016,  ..., -0.0109, -0.0032,  0.0070]]])\n"
     ]
    }
   ],
   "source": [
    "from steves_utils.transforms import get_average_magnitude, get_average_power\n",
    "\n",
    "print(set([u for u,_ in val_original_source]))\n",
    "print(set([u for u,_ in val_original_target]))\n",
    "\n",
    "s_x, s_y, q_x, q_y, _ = next(iter(train_processed_source))\n",
    "print(s_x)\n",
    "\n",
    "# for ds in [\n",
    "#     train_processed_source,\n",
    "#     val_processed_source,\n",
    "#     test_processed_source,\n",
    "#     train_processed_target,\n",
    "#     val_processed_target,\n",
    "#     test_processed_target\n",
    "# ]:\n",
    "#     for s_x, s_y, q_x, q_y, _ in ds:\n",
    "#         for X in (s_x, q_x):\n",
    "#             for x in X:\n",
    "#                 assert np.isclose(get_average_magnitude(x.numpy()), 1.0)\n",
    "#                 assert np.isclose(get_average_power(x.numpy()), 1.0)\n",
    "                "
   ]
  },
  {
   "cell_type": "code",
   "execution_count": 21,
   "id": "bbdacba1",
   "metadata": {
    "execution": {
     "iopub.execute_input": "2022-03-23T08:50:23.644031Z",
     "iopub.status.busy": "2022-03-23T08:50:23.643396Z",
     "iopub.status.idle": "2022-03-23T08:50:23.880393Z",
     "shell.execute_reply": "2022-03-23T08:50:23.879989Z"
    },
    "papermill": {
     "duration": 0.264516,
     "end_time": "2022-03-23T08:50:23.880493",
     "exception": false,
     "start_time": "2022-03-23T08:50:23.615977",
     "status": "completed"
    },
    "tags": []
   },
   "outputs": [
    {
     "name": "stdout",
     "output_type": "stream",
     "text": [
      "(2, 256)\n"
     ]
    }
   ],
   "source": [
    "###################################\n",
    "# Build the model\n",
    "###################################\n",
    "# easfsl only wants a tuple for the shape\n",
    "model = Steves_Prototypical_Network(x_net, device=p.device, x_shape=tuple(p.x_shape))\n",
    "optimizer = Adam(params=model.parameters(), lr=p.lr)"
   ]
  },
  {
   "cell_type": "code",
   "execution_count": 22,
   "id": "22b39ac5",
   "metadata": {
    "execution": {
     "iopub.execute_input": "2022-03-23T08:50:23.930147Z",
     "iopub.status.busy": "2022-03-23T08:50:23.929778Z",
     "iopub.status.idle": "2022-03-23T09:08:31.826257Z",
     "shell.execute_reply": "2022-03-23T09:08:31.825912Z"
    },
    "papermill": {
     "duration": 1087.922407,
     "end_time": "2022-03-23T09:08:31.826342",
     "exception": false,
     "start_time": "2022-03-23T08:50:23.903935",
     "status": "completed"
    },
    "tags": []
   },
   "outputs": [
    {
     "name": "stdout",
     "output_type": "stream",
     "text": [
      "epoch: 1, [batch: 1 / 6317], examples_per_second: 34.1682, train_label_loss: 2.1049, \n"
     ]
    },
    {
     "name": "stdout",
     "output_type": "stream",
     "text": [
      "epoch: 1, [batch: 632 / 6317], examples_per_second: 3417.5189, train_label_loss: 0.0363, \n"
     ]
    },
    {
     "name": "stdout",
     "output_type": "stream",
     "text": [
      "epoch: 1, [batch: 1264 / 6317], examples_per_second: 3386.0795, train_label_loss: 0.0003, \n"
     ]
    },
    {
     "name": "stdout",
     "output_type": "stream",
     "text": [
      "epoch: 1, [batch: 1895 / 6317], examples_per_second: 3618.2692, train_label_loss: 0.0019, \n"
     ]
    },
    {
     "name": "stdout",
     "output_type": "stream",
     "text": [
      "epoch: 1, [batch: 2527 / 6317], examples_per_second: 3957.7829, train_label_loss: 0.0073, \n"
     ]
    },
    {
     "name": "stdout",
     "output_type": "stream",
     "text": [
      "epoch: 1, [batch: 3159 / 6317], examples_per_second: 4015.0053, train_label_loss: 0.0076, \n"
     ]
    },
    {
     "name": "stdout",
     "output_type": "stream",
     "text": [
      "epoch: 1, [batch: 3790 / 6317], examples_per_second: 3699.5713, train_label_loss: 0.0004, \n"
     ]
    },
    {
     "name": "stdout",
     "output_type": "stream",
     "text": [
      "epoch: 1, [batch: 4422 / 6317], examples_per_second: 3472.1508, train_label_loss: 0.0020, \n"
     ]
    },
    {
     "name": "stdout",
     "output_type": "stream",
     "text": [
      "epoch: 1, [batch: 5053 / 6317], examples_per_second: 3423.2326, train_label_loss: 0.0006, \n"
     ]
    },
    {
     "name": "stdout",
     "output_type": "stream",
     "text": [
      "epoch: 1, [batch: 5685 / 6317], examples_per_second: 3368.4216, train_label_loss: 0.0003, \n"
     ]
    },
    {
     "name": "stdout",
     "output_type": "stream",
     "text": [
      "=============================================================\n",
      "epoch: 1, source_val_acc_label: 0.9982, target_val_acc_label: 0.3924, source_val_label_loss: 0.0096, target_val_label_loss: 2.0077, \n",
      "=============================================================\n"
     ]
    },
    {
     "name": "stdout",
     "output_type": "stream",
     "text": [
      "New best\n"
     ]
    },
    {
     "name": "stdout",
     "output_type": "stream",
     "text": [
      "epoch: 2, [batch: 1 / 6315], examples_per_second: 1.5178, train_label_loss: 0.0007, \n"
     ]
    },
    {
     "name": "stdout",
     "output_type": "stream",
     "text": [
      "epoch: 2, [batch: 632 / 6315], examples_per_second: 3702.9478, train_label_loss: 0.0001, \n"
     ]
    },
    {
     "name": "stdout",
     "output_type": "stream",
     "text": [
      "epoch: 2, [batch: 1263 / 6315], examples_per_second: 3598.6473, train_label_loss: 0.0000, \n"
     ]
    },
    {
     "name": "stdout",
     "output_type": "stream",
     "text": [
      "epoch: 2, [batch: 1895 / 6315], examples_per_second: 3387.5552, train_label_loss: 0.0001, \n"
     ]
    },
    {
     "name": "stdout",
     "output_type": "stream",
     "text": [
      "epoch: 2, [batch: 2526 / 6315], examples_per_second: 3418.9925, train_label_loss: 0.0005, \n"
     ]
    },
    {
     "name": "stdout",
     "output_type": "stream",
     "text": [
      "epoch: 2, [batch: 3158 / 6315], examples_per_second: 3464.2345, train_label_loss: 0.0000, \n"
     ]
    },
    {
     "name": "stdout",
     "output_type": "stream",
     "text": [
      "epoch: 2, [batch: 3789 / 6315], examples_per_second: 3476.9086, train_label_loss: 0.0004, \n"
     ]
    },
    {
     "name": "stdout",
     "output_type": "stream",
     "text": [
      "epoch: 2, [batch: 4420 / 6315], examples_per_second: 3654.9626, train_label_loss: 0.0002, \n"
     ]
    },
    {
     "name": "stdout",
     "output_type": "stream",
     "text": [
      "epoch: 2, [batch: 5052 / 6315], examples_per_second: 3847.2629, train_label_loss: 0.0290, \n"
     ]
    },
    {
     "name": "stdout",
     "output_type": "stream",
     "text": [
      "epoch: 2, [batch: 5683 / 6315], examples_per_second: 3836.1529, train_label_loss: 0.0004, \n"
     ]
    },
    {
     "name": "stdout",
     "output_type": "stream",
     "text": [
      "=============================================================\n",
      "epoch: 2, source_val_acc_label: 0.9978, target_val_acc_label: 0.3634, source_val_label_loss: 0.0119, target_val_label_loss: 2.0171, \n",
      "=============================================================\n"
     ]
    },
    {
     "name": "stdout",
     "output_type": "stream",
     "text": [
      "epoch: 3, [batch: 1 / 6325], examples_per_second: 2.0798, train_label_loss: 0.0001, \n"
     ]
    },
    {
     "name": "stdout",
     "output_type": "stream",
     "text": [
      "epoch: 3, [batch: 633 / 6325], examples_per_second: 3926.2448, train_label_loss: 0.0000, \n"
     ]
    },
    {
     "name": "stdout",
     "output_type": "stream",
     "text": [
      "epoch: 3, [batch: 1265 / 6325], examples_per_second: 3961.1720, train_label_loss: 0.0000, \n"
     ]
    },
    {
     "name": "stdout",
     "output_type": "stream",
     "text": [
      "epoch: 3, [batch: 1898 / 6325], examples_per_second: 4010.2841, train_label_loss: 0.0000, \n"
     ]
    },
    {
     "name": "stdout",
     "output_type": "stream",
     "text": [
      "epoch: 3, [batch: 2530 / 6325], examples_per_second: 3916.2274, train_label_loss: 0.0000, \n"
     ]
    },
    {
     "name": "stdout",
     "output_type": "stream",
     "text": [
      "epoch: 3, [batch: 3163 / 6325], examples_per_second: 4062.5109, train_label_loss: 0.0003, \n"
     ]
    },
    {
     "name": "stdout",
     "output_type": "stream",
     "text": [
      "epoch: 3, [batch: 3795 / 6325], examples_per_second: 4054.3016, train_label_loss: 0.0000, \n"
     ]
    },
    {
     "name": "stdout",
     "output_type": "stream",
     "text": [
      "epoch: 3, [batch: 4427 / 6325], examples_per_second: 3912.4072, train_label_loss: 0.0000, \n"
     ]
    },
    {
     "name": "stdout",
     "output_type": "stream",
     "text": [
      "epoch: 3, [batch: 5060 / 6325], examples_per_second: 3929.4837, train_label_loss: 0.0000, \n"
     ]
    },
    {
     "name": "stdout",
     "output_type": "stream",
     "text": [
      "epoch: 3, [batch: 5692 / 6325], examples_per_second: 4007.2147, train_label_loss: 0.0000, \n"
     ]
    },
    {
     "name": "stdout",
     "output_type": "stream",
     "text": [
      "=============================================================\n",
      "epoch: 3, source_val_acc_label: 0.9995, target_val_acc_label: 0.3833, source_val_label_loss: 0.0038, target_val_label_loss: 1.8591, \n",
      "=============================================================\n"
     ]
    },
    {
     "name": "stdout",
     "output_type": "stream",
     "text": [
      "epoch: 4, [batch: 1 / 6307], examples_per_second: 2.1066, train_label_loss: 0.0000, \n"
     ]
    },
    {
     "name": "stdout",
     "output_type": "stream",
     "text": [
      "epoch: 4, [batch: 631 / 6307], examples_per_second: 3986.2804, train_label_loss: 0.0001, \n"
     ]
    },
    {
     "name": "stdout",
     "output_type": "stream",
     "text": [
      "epoch: 4, [batch: 1262 / 6307], examples_per_second: 4057.3181, train_label_loss: 0.0000, \n"
     ]
    },
    {
     "name": "stdout",
     "output_type": "stream",
     "text": [
      "epoch: 4, [batch: 1892 / 6307], examples_per_second: 4095.3442, train_label_loss: 0.0000, \n"
     ]
    },
    {
     "name": "stdout",
     "output_type": "stream",
     "text": [
      "epoch: 4, [batch: 2523 / 6307], examples_per_second: 4035.4790, train_label_loss: 0.0000, \n"
     ]
    },
    {
     "name": "stdout",
     "output_type": "stream",
     "text": [
      "epoch: 4, [batch: 3154 / 6307], examples_per_second: 4093.5735, train_label_loss: 0.0000, \n"
     ]
    },
    {
     "name": "stdout",
     "output_type": "stream",
     "text": [
      "epoch: 4, [batch: 3784 / 6307], examples_per_second: 4020.7278, train_label_loss: 0.0001, \n"
     ]
    },
    {
     "name": "stdout",
     "output_type": "stream",
     "text": [
      "epoch: 4, [batch: 4415 / 6307], examples_per_second: 4249.5823, train_label_loss: 0.0000, \n"
     ]
    },
    {
     "name": "stdout",
     "output_type": "stream",
     "text": [
      "epoch: 4, [batch: 5045 / 6307], examples_per_second: 4459.7373, train_label_loss: 0.0000, \n"
     ]
    },
    {
     "name": "stdout",
     "output_type": "stream",
     "text": [
      "epoch: 4, [batch: 5676 / 6307], examples_per_second: 4713.1530, train_label_loss: 0.0001, \n"
     ]
    },
    {
     "name": "stdout",
     "output_type": "stream",
     "text": [
      "=============================================================\n",
      "epoch: 4, source_val_acc_label: 0.9994, target_val_acc_label: 0.3629, source_val_label_loss: 0.0055, target_val_label_loss: 1.9932, \n",
      "=============================================================\n"
     ]
    },
    {
     "name": "stdout",
     "output_type": "stream",
     "text": [
      "epoch: 5, [batch: 1 / 6302], examples_per_second: 1.8852, train_label_loss: 0.1021, \n"
     ]
    },
    {
     "name": "stdout",
     "output_type": "stream",
     "text": [
      "epoch: 5, [batch: 631 / 6302], examples_per_second: 3029.6739, train_label_loss: 0.0000, \n"
     ]
    },
    {
     "name": "stdout",
     "output_type": "stream",
     "text": [
      "epoch: 5, [batch: 1261 / 6302], examples_per_second: 3011.6989, train_label_loss: 0.0000, \n"
     ]
    },
    {
     "name": "stdout",
     "output_type": "stream",
     "text": [
      "epoch: 5, [batch: 1891 / 6302], examples_per_second: 3004.6267, train_label_loss: 0.2912, \n"
     ]
    },
    {
     "name": "stdout",
     "output_type": "stream",
     "text": [
      "epoch: 5, [batch: 2521 / 6302], examples_per_second: 3167.5606, train_label_loss: 0.0000, \n"
     ]
    },
    {
     "name": "stdout",
     "output_type": "stream",
     "text": [
      "epoch: 5, [batch: 3151 / 6302], examples_per_second: 3470.2253, train_label_loss: 0.0001, \n"
     ]
    },
    {
     "name": "stdout",
     "output_type": "stream",
     "text": [
      "epoch: 5, [batch: 3781 / 6302], examples_per_second: 3421.2391, train_label_loss: 0.0001, \n"
     ]
    },
    {
     "name": "stdout",
     "output_type": "stream",
     "text": [
      "epoch: 5, [batch: 4411 / 6302], examples_per_second: 3357.7630, train_label_loss: 0.0003, \n"
     ]
    },
    {
     "name": "stdout",
     "output_type": "stream",
     "text": [
      "epoch: 5, [batch: 5041 / 6302], examples_per_second: 3033.4146, train_label_loss: 0.0001, \n"
     ]
    },
    {
     "name": "stdout",
     "output_type": "stream",
     "text": [
      "epoch: 5, [batch: 5671 / 6302], examples_per_second: 2989.3072, train_label_loss: 0.0000, \n"
     ]
    },
    {
     "name": "stdout",
     "output_type": "stream",
     "text": [
      "=============================================================\n",
      "epoch: 5, source_val_acc_label: 0.9994, target_val_acc_label: 0.3513, source_val_label_loss: 0.0047, target_val_label_loss: 1.9768, \n",
      "=============================================================\n"
     ]
    },
    {
     "name": "stdout",
     "output_type": "stream",
     "text": [
      "Patience (3) exhausted\n"
     ]
    }
   ],
   "source": [
    "###################################\n",
    "# train\n",
    "###################################\n",
    "jig = PTN_Train_Eval_Test_Jig(model, p.BEST_MODEL_PATH, p.device)\n",
    "\n",
    "jig.train(\n",
    "    train_iterable=datasets.source.processed.train,\n",
    "    source_val_iterable=datasets.source.processed.val,\n",
    "    target_val_iterable=datasets.target.processed.val,\n",
    "    num_epochs=p.n_epoch,\n",
    "    num_logs_per_epoch=p.NUM_LOGS_PER_EPOCH,\n",
    "    patience=p.patience,\n",
    "    optimizer=optimizer,\n",
    "    criteria_for_best=p.criteria_for_best,\n",
    ")"
   ]
  },
  {
   "cell_type": "code",
   "execution_count": 23,
   "id": "31e8fabf",
   "metadata": {
    "execution": {
     "iopub.execute_input": "2022-03-23T09:08:31.912668Z",
     "iopub.status.busy": "2022-03-23T09:08:31.911853Z",
     "iopub.status.idle": "2022-03-23T09:08:31.944482Z",
     "shell.execute_reply": "2022-03-23T09:08:31.943770Z"
    },
    "papermill": {
     "duration": 0.080682,
     "end_time": "2022-03-23T09:08:31.944635",
     "exception": false,
     "start_time": "2022-03-23T09:08:31.863953",
     "status": "completed"
    },
    "tags": []
   },
   "outputs": [],
   "source": [
    "total_experiment_time_secs = time.time() - start_time_secs"
   ]
  },
  {
   "cell_type": "code",
   "execution_count": 24,
   "id": "87b9595b",
   "metadata": {
    "execution": {
     "iopub.execute_input": "2022-03-23T09:08:32.033125Z",
     "iopub.status.busy": "2022-03-23T09:08:32.032530Z",
     "iopub.status.idle": "2022-03-23T09:19:06.066855Z",
     "shell.execute_reply": "2022-03-23T09:19:06.066111Z"
    },
    "papermill": {
     "duration": 634.079683,
     "end_time": "2022-03-23T09:19:06.067044",
     "exception": false,
     "start_time": "2022-03-23T09:08:31.987361",
     "status": "completed"
    },
    "tags": []
   },
   "outputs": [],
   "source": [
    "###################################\n",
    "# Evaluate the model\n",
    "###################################\n",
    "source_test_label_accuracy, source_test_label_loss = jig.test(datasets.source.processed.test)\n",
    "target_test_label_accuracy, target_test_label_loss = jig.test(datasets.target.processed.test)\n",
    "\n",
    "source_val_label_accuracy, source_val_label_loss = jig.test(datasets.source.processed.val)\n",
    "target_val_label_accuracy, target_val_label_loss = jig.test(datasets.target.processed.val)\n",
    "\n",
    "history = jig.get_history()\n",
    "\n",
    "total_epochs_trained = len(history[\"epoch_indices\"])\n",
    "\n",
    "val_dl = Iterable_Aggregator((datasets.source.original.val,datasets.target.original.val))\n",
    "\n",
    "confusion = ptn_confusion_by_domain_over_dataloader(model, p.device, val_dl)\n",
    "per_domain_accuracy = per_domain_accuracy_from_confusion(confusion)\n",
    "\n",
    "# Add a key to per_domain_accuracy for if it was a source domain\n",
    "for domain, accuracy in per_domain_accuracy.items():\n",
    "    per_domain_accuracy[domain] = {\n",
    "        \"accuracy\": accuracy,\n",
    "        \"source?\": domain in p.domains_source\n",
    "    }\n",
    "\n",
    "# Do an independent accuracy assesment JUST TO BE SURE!\n",
    "# _source_test_label_accuracy = independent_accuracy_assesment(model, datasets.source.processed.test, p.device)\n",
    "# _target_test_label_accuracy = independent_accuracy_assesment(model, datasets.target.processed.test, p.device)\n",
    "# _source_val_label_accuracy = independent_accuracy_assesment(model, datasets.source.processed.val, p.device)\n",
    "# _target_val_label_accuracy = independent_accuracy_assesment(model, datasets.target.processed.val, p.device)\n",
    "\n",
    "# assert(_source_test_label_accuracy == source_test_label_accuracy)\n",
    "# assert(_target_test_label_accuracy == target_test_label_accuracy)\n",
    "# assert(_source_val_label_accuracy == source_val_label_accuracy)\n",
    "# assert(_target_val_label_accuracy == target_val_label_accuracy)\n",
    "\n",
    "experiment = {\n",
    "    \"experiment_name\": p.experiment_name,\n",
    "    \"parameters\": dict(p),\n",
    "    \"results\": {\n",
    "        \"source_test_label_accuracy\": source_test_label_accuracy,\n",
    "        \"source_test_label_loss\": source_test_label_loss,\n",
    "        \"target_test_label_accuracy\": target_test_label_accuracy,\n",
    "        \"target_test_label_loss\": target_test_label_loss,\n",
    "        \"source_val_label_accuracy\": source_val_label_accuracy,\n",
    "        \"source_val_label_loss\": source_val_label_loss,\n",
    "        \"target_val_label_accuracy\": target_val_label_accuracy,\n",
    "        \"target_val_label_loss\": target_val_label_loss,\n",
    "        \"total_epochs_trained\": total_epochs_trained,\n",
    "        \"total_experiment_time_secs\": total_experiment_time_secs,\n",
    "        \"confusion\": confusion,\n",
    "        \"per_domain_accuracy\": per_domain_accuracy,\n",
    "    },\n",
    "    \"history\": history,\n",
    "    \"dataset_metrics\": get_dataset_metrics(datasets, \"ptn\"),\n",
    "}"
   ]
  },
  {
   "cell_type": "code",
   "execution_count": 25,
   "id": "54a21829",
   "metadata": {
    "execution": {
     "iopub.execute_input": "2022-03-23T09:19:06.155064Z",
     "iopub.status.busy": "2022-03-23T09:19:06.154694Z",
     "iopub.status.idle": "2022-03-23T09:19:06.383064Z",
     "shell.execute_reply": "2022-03-23T09:19:06.383777Z"
    },
    "papermill": {
     "duration": 0.27076,
     "end_time": "2022-03-23T09:19:06.383992",
     "exception": false,
     "start_time": "2022-03-23T09:19:06.113232",
     "status": "completed"
    },
    "tags": []
   },
   "outputs": [
    {
     "data": {
      "image/png": "[encoded data removed]",
      "text/plain": [
       "<Figure size 1080x504 with 1 Axes>"
      ]
     },
     "metadata": {
      "needs_background": "light"
     },
     "output_type": "display_data"
    }
   ],
   "source": [
    "ax = get_loss_curve(experiment)\n",
    "plt.show()"
   ]
  },
  {
   "cell_type": "code",
   "execution_count": 26,
   "id": "fd8a0f60",
   "metadata": {
    "execution": {
     "iopub.execute_input": "2022-03-23T09:19:06.472125Z",
     "iopub.status.busy": "2022-03-23T09:19:06.471720Z",
     "iopub.status.idle": "2022-03-23T09:19:06.790679Z",
     "shell.execute_reply": "2022-03-23T09:19:06.790993Z"
    },
    "papermill": {
     "duration": 0.360881,
     "end_time": "2022-03-23T09:19:06.791115",
     "exception": false,
     "start_time": "2022-03-23T09:19:06.430234",
     "status": "completed"
    },
    "tags": []
   },
   "outputs": [
    {
     "data": {
      "text/plain": [
       "<AxesSubplot:title={'center':'Results'}>"
      ]
     },
     "execution_count": 26,
     "metadata": {},
     "output_type": "execute_result"
    },
    {
     "data": {
      "image/png": "[encoded data removed]",
      "text/plain": [
       "<Figure size 1080x504 with 1 Axes>"
      ]
     },
     "metadata": {
      "needs_background": "light"
     },
     "output_type": "display_data"
    }
   ],
   "source": [
    "get_results_table(experiment)"
   ]
  },
  {
   "cell_type": "code",
   "execution_count": 27,
   "id": "cf8dc689",
   "metadata": {
    "execution": {
     "iopub.execute_input": "2022-03-23T09:19:06.878063Z",
     "iopub.status.busy": "2022-03-23T09:19:06.877692Z",
     "iopub.status.idle": "2022-03-23T09:19:07.136035Z",
     "shell.execute_reply": "2022-03-23T09:19:07.135697Z"
    },
    "papermill": {
     "duration": 0.30322,
     "end_time": "2022-03-23T09:19:07.136128",
     "exception": false,
     "start_time": "2022-03-23T09:19:06.832908",
     "status": "completed"
    },
    "tags": []
   },
   "outputs": [
    {
     "data": {
      "text/plain": [
       "<AxesSubplot:title={'center':'Per Domain Validation Accuracy'}, xlabel='domain'>"
      ]
     },
     "execution_count": 27,
     "metadata": {},
     "output_type": "execute_result"
    },
    {
     "data": {
      "image/png": "[encoded data removed]",
      "text/plain": [
       "<Figure size 1080x504 with 1 Axes>"
      ]
     },
     "metadata": {
      "needs_background": "light"
     },
     "output_type": "display_data"
    }
   ],
   "source": [
    "get_domain_accuracies(experiment)"
   ]
  },
  {
   "cell_type": "code",
   "execution_count": 28,
   "id": "a74ae082",
   "metadata": {
    "execution": {
     "iopub.execute_input": "2022-03-23T09:19:07.225195Z",
     "iopub.status.busy": "2022-03-23T09:19:07.224822Z",
     "iopub.status.idle": "2022-03-23T09:19:07.252123Z",
     "shell.execute_reply": "2022-03-23T09:19:07.251746Z"
    },
    "papermill": {
     "duration": 0.072943,
     "end_time": "2022-03-23T09:19:07.252204",
     "exception": false,
     "start_time": "2022-03-23T09:19:07.179261",
     "status": "completed"
    },
    "tags": []
   },
   "outputs": [
    {
     "name": "stdout",
     "output_type": "stream",
     "text": [
      "Source Test Label Accuracy: 0.9983848314606741 Target Test Label Accuracy: 0.394296875\n",
      "Source Val Label Accuracy: 0.99825 Target Val Label Accuracy: 0.39240234375\n"
     ]
    }
   ],
   "source": [
    "print(\"Source Test Label Accuracy:\", experiment[\"results\"][\"source_test_label_accuracy\"], \"Target Test Label Accuracy:\", experiment[\"results\"][\"target_test_label_accuracy\"])\n",
    "print(\"Source Val Label Accuracy:\", experiment[\"results\"][\"source_val_label_accuracy\"], \"Target Val Label Accuracy:\", experiment[\"results\"][\"target_val_label_accuracy\"])"
   ]
  },
  {
   "cell_type": "code",
   "execution_count": 29,
   "id": "dacca602",
   "metadata": {
    "execution": {
     "iopub.execute_input": "2022-03-23T09:19:07.338668Z",
     "iopub.status.busy": "2022-03-23T09:19:07.338307Z",
     "iopub.status.idle": "2022-03-23T09:19:07.365111Z",
     "shell.execute_reply": "2022-03-23T09:19:07.364737Z"
    },
    "papermill": {
     "duration": 0.071309,
     "end_time": "2022-03-23T09:19:07.365191",
     "exception": false,
     "start_time": "2022-03-23T09:19:07.293882",
     "status": "completed"
    },
    "tags": [
     "experiment_json"
    ]
   },
   "outputs": [
    {
     "data": {
      "text/plain": [
       "'{\"experiment_name\": \"tl_1v2:cores-oracle.run1\", \"parameters\": {\"experiment_name\": \"tl_1v2:cores-oracle.run1\", \"device\": \"cuda\", \"lr\": 0.0001, \"n_shot\": 3, \"n_query\": 2, \"train_k_factor\": 3, \"val_k_factor\": 2, \"test_k_factor\": 2, \"torch_default_dtype\": \"torch.float32\", \"n_epoch\": 50, \"patience\": 3, \"criteria_for_best\": \"target_accuracy\", \"x_net\": [{\"class\": \"nnReshape\", \"kargs\": {\"shape\": [-1, 1, 2, 256]}}, {\"class\": \"Conv2d\", \"kargs\": {\"in_channels\": 1, \"out_channels\": 256, \"kernel_size\": [1, 7], \"bias\": false, \"padding\": [0, 3]}}, {\"class\": \"ReLU\", \"kargs\": {\"inplace\": true}}, {\"class\": \"BatchNorm2d\", \"kargs\": {\"num_features\": 256}}, {\"class\": \"Conv2d\", \"kargs\": {\"in_channels\": 256, \"out_channels\": 80, \"kernel_size\": [2, 7], \"bias\": true, \"padding\": [0, 3]}}, {\"class\": \"ReLU\", \"kargs\": {\"inplace\": true}}, {\"class\": \"BatchNorm2d\", \"kargs\": {\"num_features\": 80}}, {\"class\": \"Flatten\", \"kargs\": {}}, {\"class\": \"Linear\", \"kargs\": {\"in_features\": 20480, \"out_features\": 256}}, {\"class\": \"ReLU\", \"kargs\": {\"inplace\": true}}, {\"class\": \"BatchNorm1d\", \"kargs\": {\"num_features\": 256}}, {\"class\": \"Linear\", \"kargs\": {\"in_features\": 256, \"out_features\": 256}}], \"NUM_LOGS_PER_EPOCH\": 10, \"BEST_MODEL_PATH\": \"./best_model.pth\", \"n_way\": 16, \"datasets\": [{\"labels\": [\"1-10.\", \"1-11.\", \"1-15.\", \"1-16.\", \"1-17.\", \"1-18.\", \"1-19.\", \"10-4.\", \"10-7.\", \"11-1.\", \"11-14.\", \"11-17.\", \"11-20.\", \"11-7.\", \"13-20.\", \"13-8.\", \"14-10.\", \"14-11.\", \"14-14.\", \"14-7.\", \"15-1.\", \"15-20.\", \"16-1.\", \"16-16.\", \"17-10.\", \"17-11.\", \"17-2.\", \"19-1.\", \"19-16.\", \"19-19.\", \"19-20.\", \"19-3.\", \"2-10.\", \"2-11.\", \"2-17.\", \"2-18.\", \"2-20.\", \"2-3.\", \"2-4.\", \"2-5.\", \"2-6.\", \"2-7.\", \"2-8.\", \"3-13.\", \"3-18.\", \"3-3.\", \"4-1.\", \"4-10.\", \"4-11.\", \"4-19.\", \"5-5.\", \"6-15.\", \"7-10.\", \"7-14.\", \"8-18.\", \"8-20.\", \"8-3.\", \"8-8.\"], \"domains\": [1, 2, 3, 4, 5], \"num_examples_per_domain_per_label\": -1, \"pickle_path\": \"/root/csc500-main/datasets/cores.stratified_ds.2022A.pkl\", \"source_or_target_dataset\": \"source\", \"x_transforms\": [], \"episode_transforms\": [], \"domain_prefix\": \"CORES_\"}, {\"labels\": [\"3123D52\", \"3123D65\", \"3123D79\", \"3123D80\", \"3123D54\", \"3123D70\", \"3123D7B\", \"3123D89\", \"3123D58\", \"3123D76\", \"3123D7D\", \"3123EFE\", \"3123D64\", \"3123D78\", \"3123D7E\", \"3124E4A\"], \"domains\": [32, 38, 8, 44, 14, 50, 20, 26], \"num_examples_per_domain_per_label\": 10000, \"pickle_path\": \"/root/csc500-main/datasets/oracle.Run1_10kExamples_stratified_ds.2022A.pkl\", \"source_or_target_dataset\": \"target\", \"x_transforms\": [], \"episode_transforms\": [], \"domain_prefix\": \"ORACLE.run1_\"}], \"dataset_seed\": 500, \"seed\": 500, \"x_shape\": [2, 256], \"domains_source\": [\"CORES_1\", \"CORES_2\", \"CORES_3\", \"CORES_4\", \"CORES_5\"], \"domains_target\": [\"ORACLE.run1_32\", \"ORACLE.run1_38\", \"ORACLE.run1_8\", \"ORACLE.run1_44\", \"ORACLE.run1_14\", \"ORACLE.run1_50\", \"ORACLE.run1_20\", \"ORACLE.run1_26\"]}, \"results\": {\"source_test_label_accuracy\": 0.9983848314606741, \"source_test_label_loss\": 0.007528386078774929, \"target_test_label_accuracy\": 0.394296875, \"target_test_label_loss\": 2.0073444843292236, \"source_val_label_accuracy\": 0.99825, \"source_val_label_loss\": 0.009553978219628334, \"target_val_label_accuracy\": 0.39240234375, \"target_val_label_loss\": 2.0077385902404785, \"total_epochs_trained\": 5, \"total_experiment_time_secs\": 1131.436803817749, \"confusion\": {\"CORES_4\": {\"38\": {\"38\": 40}, \"3\": {\"3\": 124}, \"24\": {\"24\": 56}, \"49\": {\"49\": 20}, \"7\": {\"7\": 24}, \"17\": {\"17\": 80}, \"43\": {\"43\": 148}, \"30\": {\"30\": 44}, \"44\": {\"44\": 132}, \"23\": {\"23\": 144}, \"37\": {\"37\": 24}, \"4\": {\"4\": 132}, \"57\": {\"57\": 100}, \"16\": {\"16\": 96}, \"18\": {\"18\": 107, \"20\": 1}, \"20\": {\"20\": 124}, \"45\": {\"45\": 96}, \"15\": {\"15\": 132}, \"52\": {\"52\": 116}, \"19\": {\"19\": 139, \"28\": 1}, \"54\": {\"54\": 108}, \"56\": {\"56\": 130}, \"40\": {\"40\": 134}, \"28\": {\"28\": 31, \"34\": 1}, \"2\": {\"2\": 36}, \"9\": {\"9\": 120}, \"0\": {\"0\": 80}, \"36\": {\"36\": 91, \"51\": 1}, \"55\": {\"55\": 130}, \"35\": {\"35\": 40}, \"39\": {\"39\": 20}, \"31\": {\"31\": 28}, \"14\": {\"14\": 13, \"38\": 2, \"1\": 1}, \"12\": {\"12\": 92}, \"6\": {\"6\": 112}, \"26\": {\"26\": 24}, \"50\": {\"50\": 132}, \"21\": {\"21\": 122}, \"46\": {\"46\": 139, \"22\": 1}, \"51\": {\"51\": 140}, \"41\": {\"41\": 36}, \"34\": {\"34\": 23, \"28\": 1}, \"47\": {\"47\": 120}, \"5\": {\"5\": 108}, \"1\": {\"1\": 40}, \"48\": {\"48\": 134}, \"29\": {\"29\": 118}, \"22\": {\"22\": 128}, \"10\": {\"10\": 132}, \"32\": {\"32\": 24}, \"13\": {\"13\": 112}, \"42\": {\"42\": 32}, \"27\": {\"27\": 138}, \"8\": {\"8\": 142}, \"33\": {\"33\": 36}, \"25\": {\"25\": 131, \"18\": 1}, \"11\": {\"11\": 103, \"15\": 1}, \"53\": {\"53\": 112}}, \"CORES_2\": {\"32\": {\"32\": 28}, \"17\": {\"17\": 104}, \"38\": {\"38\": 20}, \"2\": {\"2\": 32}, \"43\": {\"43\": 143, \"37\": 1}, \"56\": {\"56\": 144}, \"37\": {\"37\": 36}, \"49\": {\"49\": 23, \"32\": 1}, \"0\": {\"0\": 48}, \"29\": {\"29\": 128}, \"35\": {\"35\": 32}, \"18\": {\"18\": 48}, \"25\": {\"25\": 136}, \"23\": {\"23\": 124}, \"15\": {\"15\": 146}, \"21\": {\"21\": 120}, \"51\": {\"51\": 127, \"36\": 1}, \"20\": {\"20\": 138}, \"7\": {\"7\": 36}, \"50\": {\"50\": 136}, \"31\": {\"31\": 28}, \"30\": {\"30\": 140}, \"19\": {\"19\": 156}, \"9\": {\"9\": 144}, \"52\": {\"52\": 124}, \"45\": {\"45\": 128}, \"8\": {\"8\": 154}, \"55\": {\"55\": 160}, \"12\": {\"12\": 92}, \"40\": {\"40\": 139, \"29\": 1}, \"28\": {\"28\": 28}, \"36\": {\"36\": 116}, \"39\": {\"39\": 28}, \"46\": {\"46\": 122}, \"14\": {\"14\": 24}, \"57\": {\"57\": 142}, \"34\": {\"34\": 27, \"23\": 1}, \"1\": {\"1\": 112}, \"53\": {\"53\": 136}, \"48\": {\"48\": 130}, \"3\": {\"3\": 92}, \"16\": {\"16\": 152}, \"6\": {\"6\": 124}, \"10\": {\"10\": 112}, \"13\": {\"13\": 116}, \"26\": {\"26\": 24}, \"24\": {\"24\": 94, \"13\": 2}, \"44\": {\"44\": 100}, \"27\": {\"27\": 150}, \"22\": {\"22\": 128}, \"33\": {\"33\": 28}, \"47\": {\"47\": 118}, \"5\": {\"5\": 120}, \"4\": {\"4\": 138}, \"41\": {\"41\": 20}, \"11\": {\"11\": 150}, \"54\": {\"54\": 108}, \"42\": {\"42\": 36}}, \"CORES_3\": {\"5\": {\"5\": 116}, \"32\": {\"32\": 28}, \"33\": {\"33\": 28}, \"49\": {\"49\": 20}, \"39\": {\"39\": 16}, \"11\": {\"11\": 142}, \"8\": {\"8\": 116}, \"26\": {\"26\": 24}, \"51\": {\"51\": 122}, \"4\": {\"4\": 146}, \"52\": {\"52\": 118}, \"47\": {\"47\": 92}, \"17\": {\"17\": 105, \"53\": 2, \"56\": 1}, \"53\": {\"53\": 136}, \"2\": {\"2\": 32}, \"12\": {\"12\": 92}, \"37\": {\"37\": 28}, \"9\": {\"9\": 148}, \"13\": {\"13\": 128}, \"54\": {\"54\": 100}, \"31\": {\"31\": 28}, \"34\": {\"34\": 32}, \"24\": {\"24\": 104}, \"7\": {\"7\": 36}, \"50\": {\"50\": 115, \"46\": 1, \"6\": 1, \"3\": 1}, \"46\": {\"46\": 128}, \"44\": {\"44\": 88}, \"40\": {\"40\": 116}, \"21\": {\"21\": 127, \"50\": 1}, \"45\": {\"45\": 60}, \"16\": {\"16\": 126}, \"14\": {\"14\": 39, \"31\": 1}, \"36\": {\"36\": 100}, \"56\": {\"56\": 114}, \"10\": {\"10\": 64}, \"18\": {\"18\": 84}, \"48\": {\"48\": 116}, \"38\": {\"38\": 28}, \"27\": {\"27\": 130}, \"42\": {\"42\": 28}, \"15\": {\"15\": 131, \"11\": 2, \"16\": 1}, \"1\": {\"1\": 100}, \"28\": {\"28\": 28}, \"43\": {\"43\": 136}, \"0\": {\"0\": 124}, \"57\": {\"57\": 124}, \"3\": {\"3\": 148}, \"29\": {\"29\": 124}, \"41\": {\"41\": 27, \"48\": 1}, \"25\": {\"25\": 146}, \"6\": {\"6\": 87, \"46\": 1}, \"35\": {\"35\": 28}, \"20\": {\"20\": 126}, \"23\": {\"23\": 134}, \"22\": {\"22\": 140}, \"19\": {\"19\": 116}, \"55\": {\"55\": 124}, \"30\": {\"30\": 120}}, \"CORES_1\": {\"24\": {\"24\": 108}, \"25\": {\"25\": 140}, \"45\": {\"45\": 143, \"56\": 1}, \"42\": {\"19\": 1, \"42\": 39}, \"2\": {\"2\": 36}, \"9\": {\"9\": 150}, \"21\": {\"21\": 124}, \"26\": {\"26\": 24}, \"49\": {\"49\": 32}, \"39\": {\"39\": 26, \"47\": 2}, \"46\": {\"46\": 136}, \"17\": {\"17\": 64}, \"19\": {\"19\": 156}, \"23\": {\"23\": 132}, \"1\": {\"1\": 100}, \"29\": {\"29\": 140}, \"56\": {\"56\": 150}, \"37\": {\"37\": 32}, \"33\": {\"33\": 32}, \"55\": {\"55\": 142}, \"30\": {\"30\": 120}, \"0\": {\"0\": 152}, \"36\": {\"36\": 64}, \"32\": {\"32\": 30, \"55\": 2}, \"31\": {\"31\": 28}, \"15\": {\"15\": 138}, \"12\": {\"12\": 116}, \"38\": {\"38\": 24}, \"40\": {\"40\": 146}, \"14\": {\"14\": 23, \"30\": 1}, \"13\": {\"13\": 150}, \"48\": {\"48\": 148}, \"34\": {\"34\": 24}, \"44\": {\"44\": 130}, \"5\": {\"5\": 152}, \"11\": {\"11\": 140}, \"7\": {\"7\": 28}, \"18\": {\"18\": 72}, \"52\": {\"52\": 132}, \"51\": {\"51\": 142}, \"41\": {\"41\": 24}, \"16\": {\"16\": 140}, \"22\": {\"22\": 134}, \"3\": {\"3\": 140}, \"54\": {\"54\": 104}, \"27\": {\"27\": 144}, \"20\": {\"20\": 140}, \"8\": {\"8\": 138}, \"50\": {\"50\": 144}, \"57\": {\"57\": 140}, \"4\": {\"4\": 132}, \"47\": {\"47\": 146}, \"10\": {\"10\": 95, \"28\": 1}, \"35\": {\"35\": 36}, \"53\": {\"53\": 126}, \"6\": {\"6\": 96}, \"43\": {\"43\": 140}, \"28\": {\"28\": 28}}, \"CORES_5\": {\"35\": {\"35\": 36}, \"57\": {\"57\": 132}, \"20\": {\"20\": 144}, \"12\": {\"12\": 96}, \"32\": {\"32\": 30, \"27\": 2}, \"25\": {\"25\": 138}, \"44\": {\"44\": 148}, \"31\": {\"31\": 36}, \"11\": {\"11\": 150}, \"47\": {\"47\": 100}, \"23\": {\"23\": 124}, \"43\": {\"43\": 144}, \"37\": {\"37\": 24}, \"5\": {\"5\": 128}, \"45\": {\"45\": 124}, \"7\": {\"7\": 32}, \"13\": {\"13\": 136}, \"49\": {\"49\": 36}, \"46\": {\"46\": 148}, \"16\": {\"16\": 136}, \"54\": {\"54\": 112}, \"19\": {\"19\": 152}, \"55\": {\"55\": 150}, \"30\": {\"30\": 128}, \"34\": {\"34\": 36}, \"50\": {\"50\": 134}, \"3\": {\"3\": 100}, \"10\": {\"10\": 68}, \"27\": {\"27\": 141, \"32\": 1}, \"33\": {\"33\": 31, \"36\": 1}, \"56\": {\"56\": 142}, \"9\": {\"9\": 150}, \"14\": {\"14\": 44}, \"4\": {\"4\": 100}, \"42\": {\"42\": 40}, \"24\": {\"24\": 80}, \"39\": {\"39\": 20}, \"52\": {\"52\": 130}, \"2\": {\"2\": 28}, \"28\": {\"28\": 32}, \"53\": {\"53\": 122}, \"17\": {\"17\": 116}, \"29\": {\"29\": 132}, \"38\": {\"38\": 29, \"7\": 1, \"53\": 2}, \"15\": {\"15\": 144}, \"26\": {\"26\": 22, \"55\": 2}, \"21\": {\"21\": 144}, \"41\": {\"41\": 28}, \"48\": {\"48\": 136}, \"22\": {\"22\": 28}, \"8\": {\"8\": 148}, \"18\": {\"18\": 64}, \"0\": {\"0\": 122}, \"1\": {\"1\": 138}, \"40\": {\"40\": 124}, \"6\": {\"6\": 127, \"50\": 1}, \"51\": {\"51\": 142}, \"36\": {\"36\": 92}}, \"ORACLE.run1_50\": {\"7\": {\"4\": 455, \"15\": 15, \"7\": 579, \"5\": 120, \"9\": 15, \"6\": 12, \"3\": 3, \"12\": 1}, \"10\": {\"8\": 227, \"10\": 598, \"0\": 196, \"14\": 29, \"1\": 98, \"2\": 46, \"13\": 6}, \"0\": {\"14\": 219, \"0\": 427, \"2\": 294, \"10\": 237, \"1\": 5, \"8\": 17, \"13\": 1}, \"11\": {\"11\": 455, \"12\": 202, \"5\": 37, \"9\": 88, \"6\": 97, \"15\": 82, \"13\": 96, \"1\": 10, \"3\": 133}, \"2\": {\"2\": 431, \"14\": 413, \"0\": 300, \"10\": 52, \"8\": 4}, \"14\": {\"0\": 235, \"14\": 541, \"2\": 386, \"10\": 36, \"8\": 1, \"1\": 1}, \"9\": {\"9\": 330, \"15\": 156, \"5\": 87, \"11\": 123, \"6\": 177, \"12\": 234, \"3\": 50, \"7\": 18, \"4\": 23, \"13\": 2}, \"13\": {\"1\": 276, \"13\": 634, \"11\": 144, \"8\": 66, \"9\": 4, \"3\": 48, \"12\": 19, \"6\": 3, \"5\": 3, \"15\": 2, \"10\": 1}, \"8\": {\"8\": 568, \"10\": 197, \"1\": 303, \"0\": 17, \"13\": 108, \"2\": 1, \"11\": 5, \"14\": 1}, \"15\": {\"3\": 109, \"6\": 243, \"9\": 167, \"5\": 198, \"4\": 17, \"11\": 79, \"15\": 289, \"12\": 80, \"7\": 16, \"13\": 2}, \"4\": {\"4\": 468, \"9\": 25, \"7\": 507, \"5\": 144, \"6\": 18, \"15\": 34, \"3\": 1, \"12\": 3}, \"5\": {\"15\": 169, \"4\": 174, \"9\": 81, \"7\": 204, \"11\": 74, \"5\": 248, \"3\": 69, \"6\": 127, \"13\": 32, \"12\": 17, \"1\": 5}, \"3\": {\"3\": 407, \"11\": 146, \"6\": 204, \"9\": 59, \"5\": 106, \"15\": 161, \"12\": 65, \"4\": 4, \"13\": 43, \"7\": 5}, \"1\": {\"1\": 462, \"10\": 102, \"13\": 287, \"8\": 292, \"14\": 3, \"11\": 30, \"12\": 5, \"0\": 8, \"3\": 6, \"15\": 2, \"2\": 2, \"9\": 1}, \"6\": {\"9\": 160, \"3\": 165, \"6\": 261, \"15\": 281, \"12\": 82, \"7\": 12, \"5\": 148, \"4\": 14, \"11\": 76, \"13\": 1}, \"12\": {\"12\": 587, \"9\": 230, \"6\": 82, \"4\": 3, \"11\": 180, \"15\": 53, \"3\": 46, \"5\": 16, \"1\": 1, \"13\": 2}}, \"ORACLE.run1_14\": {\"14\": {\"6\": 109, \"0\": 182, \"14\": 273, \"3\": 105, \"13\": 123, \"2\": 186, \"5\": 102, \"7\": 69, \"8\": 32, \"12\": 16, \"4\": 3}, \"6\": {\"0\": 75, \"6\": 391, \"13\": 239, \"14\": 115, \"3\": 249, \"2\": 54, \"7\": 49, \"5\": 18, \"8\": 5, \"15\": 3, \"12\": 2}, \"5\": {\"5\": 293, \"12\": 49, \"8\": 189, \"2\": 156, \"4\": 88, \"14\": 115, \"7\": 111, \"3\": 25, \"13\": 51, \"0\": 107, \"6\": 15, \"10\": 1}, \"15\": {\"15\": 1200}, \"11\": {\"11\": 1187, \"9\": 4, \"1\": 9}, \"8\": {\"5\": 161, \"8\": 484, \"4\": 43, \"0\": 101, \"14\": 31, \"2\": 63, \"7\": 152, \"3\": 40, \"6\": 6, \"12\": 104, \"13\": 15}, \"12\": {\"7\": 5, \"8\": 165, \"12\": 590, \"0\": 96, \"10\": 40, \"4\": 85, \"14\": 50, \"2\": 56, \"5\": 74, \"3\": 7, \"13\": 20, \"9\": 11, \"6\": 1}, \"1\": {\"9\": 267, \"1\": 736, \"10\": 147, \"4\": 50}, \"2\": {\"6\": 84, \"4\": 140, \"7\": 67, \"0\": 106, \"14\": 140, \"13\": 100, \"5\": 149, \"2\": 192, \"10\": 37, \"3\": 93, \"12\": 46, \"8\": 43, \"9\": 2, \"1\": 1}, \"13\": {\"13\": 201, \"0\": 64, \"14\": 127, \"6\": 241, \"10\": 13, \"5\": 71, \"2\": 104, \"7\": 42, \"3\": 153, \"8\": 30, \"4\": 32, \"15\": 105, \"12\": 17}, \"3\": {\"13\": 150, \"8\": 49, \"7\": 128, \"6\": 233, \"0\": 126, \"3\": 333, \"14\": 104, \"5\": 32, \"2\": 41, \"12\": 4}, \"0\": {\"3\": 163, \"6\": 87, \"12\": 79, \"5\": 99, \"13\": 110, \"14\": 151, \"0\": 186, \"2\": 133, \"4\": 45, \"8\": 81, \"7\": 59, \"10\": 7}, \"9\": {\"1\": 298, \"9\": 600, \"4\": 54, \"10\": 233, \"12\": 11, \"8\": 1, \"5\": 2, \"2\": 1}, \"4\": {\"4\": 541, \"12\": 79, \"10\": 219, \"5\": 113, \"2\": 81, \"8\": 54, \"1\": 40, \"0\": 22, \"9\": 24, \"7\": 7, \"14\": 10, \"13\": 9, \"6\": 1}, \"7\": {\"7\": 494, \"2\": 55, \"14\": 66, \"0\": 62, \"3\": 111, \"8\": 166, \"6\": 66, \"5\": 111, \"13\": 63, \"4\": 3, \"12\": 3}, \"10\": {\"10\": 597, \"4\": 235, \"0\": 6, \"9\": 165, \"12\": 39, \"1\": 119, \"2\": 24, \"5\": 9, \"8\": 3, \"7\": 1, \"13\": 1, \"14\": 1}}, \"ORACLE.run1_32\": {\"4\": {\"13\": 123, \"3\": 226, \"2\": 303, \"4\": 401, \"8\": 37, \"14\": 31, \"9\": 24, \"1\": 39, \"11\": 2, \"7\": 3, \"0\": 9, \"15\": 2}, \"14\": {\"14\": 326, \"5\": 122, \"7\": 195, \"8\": 163, \"2\": 127, \"0\": 210, \"4\": 33, \"1\": 4, \"15\": 16, \"3\": 3, \"13\": 1}, \"5\": {\"7\": 283, \"0\": 163, \"5\": 382, \"14\": 114, \"15\": 143, \"8\": 100, \"2\": 13, \"1\": 1, \"3\": 1}, \"10\": {\"9\": 4, \"10\": 894, \"12\": 220, \"6\": 78, \"11\": 4}, \"13\": {\"3\": 313, \"13\": 376, \"1\": 17, \"9\": 160, \"2\": 75, \"11\": 84, \"4\": 163, \"12\": 6, \"8\": 4, \"14\": 1, \"0\": 1}, \"9\": {\"12\": 178, \"9\": 408, \"3\": 106, \"13\": 188, \"4\": 83, \"11\": 182, \"2\": 23, \"10\": 9, \"1\": 22, \"14\": 1}, \"6\": {\"6\": 1063, \"11\": 1, \"10\": 126, \"12\": 10}, \"3\": {\"13\": 330, \"4\": 200, \"11\": 24, \"1\": 16, \"3\": 445, \"2\": 99, \"8\": 15, \"14\": 8, \"9\": 61, \"5\": 1, \"0\": 1}, \"15\": {\"15\": 863, \"5\": 113, \"0\": 67, \"7\": 47, \"14\": 8, \"8\": 101, \"1\": 1}, \"7\": {\"5\": 296, \"7\": 316, \"8\": 104, \"14\": 192, \"15\": 55, \"0\": 227, \"2\": 10}, \"12\": {\"9\": 109, \"12\": 789, \"10\": 180, \"11\": 103, \"6\": 4, \"13\": 14, \"3\": 1}, \"8\": {\"8\": 341, \"4\": 28, \"0\": 226, \"15\": 100, \"7\": 133, \"1\": 33, \"2\": 62, \"14\": 149, \"5\": 115, \"3\": 11, \"13\": 1, \"9\": 1}, \"11\": {\"11\": 830, \"9\": 181, \"12\": 71, \"13\": 77, \"3\": 31, \"6\": 1, \"4\": 9}, \"2\": {\"4\": 309, \"2\": 469, \"13\": 51, \"0\": 25, \"8\": 75, \"14\": 115, \"7\": 6, \"3\": 76, \"1\": 55, \"9\": 16, \"5\": 3}, \"1\": {\"1\": 943, \"2\": 77, \"5\": 3, \"9\": 15, \"4\": 66, \"14\": 11, \"13\": 12, \"8\": 35, \"3\": 9, \"0\": 21, \"7\": 6, \"15\": 2}, \"0\": {\"2\": 20, \"5\": 167, \"0\": 246, \"7\": 235, \"14\": 233, \"15\": 64, \"8\": 223, \"1\": 6, \"4\": 6}}, \"ORACLE.run1_44\": {\"8\": {\"8\": 366, \"15\": 265, \"2\": 64, \"0\": 265, \"4\": 14, \"5\": 49, \"14\": 51, \"1\": 117, \"3\": 5, \"10\": 4}, \"11\": {\"11\": 1194, \"13\": 5, \"6\": 1}, \"14\": {\"5\": 236, \"7\": 121, \"14\": 249, \"15\": 139, \"8\": 24, \"10\": 148, \"4\": 160, \"2\": 42, \"9\": 67, \"1\": 11, \"0\": 1, \"6\": 1, \"13\": 1}, \"10\": {\"10\": 259, \"7\": 248, \"4\": 155, \"14\": 128, \"6\": 16, \"8\": 6, \"5\": 89, \"2\": 54, \"9\": 170, \"15\": 41, \"13\": 6, \"0\": 5, \"1\": 23}, \"3\": {\"12\": 545, \"3\": 608, \"0\": 37, \"2\": 1, \"8\": 2, \"1\": 7}, \"15\": {\"4\": 73, \"7\": 17, \"15\": 363, \"14\": 144, \"1\": 87, \"0\": 38, \"5\": 133, \"8\": 217, \"9\": 11, \"2\": 86, \"10\": 31}, \"2\": {\"15\": 92, \"1\": 246, \"4\": 48, \"14\": 44, \"2\": 562, \"5\": 59, \"10\": 49, \"8\": 59, \"0\": 24, \"7\": 11, \"9\": 6}, \"12\": {\"12\": 659, \"3\": 533, \"0\": 5, \"1\": 3}, \"4\": {\"7\": 167, \"10\": 119, \"9\": 195, \"8\": 35, \"14\": 123, \"5\": 112, \"0\": 3, \"4\": 162, \"15\": 85, \"1\": 25, \"6\": 61, \"2\": 90, \"13\": 23}, \"1\": {\"0\": 179, \"1\": 452, \"8\": 164, \"2\": 260, \"15\": 91, \"5\": 13, \"14\": 13, \"7\": 6, \"4\": 9, \"3\": 7, \"10\": 5, \"9\": 1}, \"0\": {\"3\": 22, \"0\": 658, \"1\": 175, \"2\": 50, \"8\": 228, \"15\": 53, \"5\": 2, \"12\": 5, \"14\": 6, \"4\": 1}, \"9\": {\"9\": 187, \"6\": 181, \"13\": 187, \"7\": 203, \"10\": 114, \"4\": 117, \"5\": 50, \"8\": 5, \"14\": 80, \"2\": 50, \"1\": 6, \"15\": 18, \"11\": 2}, \"5\": {\"9\": 69, \"4\": 172, \"15\": 173, \"8\": 39, \"10\": 98, \"14\": 229, \"5\": 238, \"7\": 98, \"2\": 58, \"1\": 23, \"0\": 2, \"6\": 1}, \"6\": {\"9\": 153, \"13\": 360, \"6\": 614, \"10\": 11, \"7\": 35, \"4\": 26, \"11\": 1}, \"7\": {\"9\": 242, \"14\": 112, \"10\": 232, \"6\": 49, \"5\": 87, \"7\": 304, \"4\": 154, \"2\": 7, \"13\": 7, \"15\": 6}, \"13\": {\"6\": 389, \"13\": 704, \"9\": 63, \"11\": 28, \"7\": 9, \"4\": 5, \"5\": 1, \"10\": 1}}, \"ORACLE.run1_8\": {\"13\": {\"5\": 218, \"10\": 236, \"13\": 300, \"7\": 180, \"1\": 93, \"15\": 9, \"4\": 11, \"6\": 108, \"8\": 13, \"11\": 21, \"12\": 9, \"2\": 2}, \"3\": {\"3\": 960, \"9\": 101, \"2\": 131, \"15\": 8}, \"15\": {\"15\": 503, \"12\": 476, \"2\": 203, \"3\": 18}, \"4\": {\"1\": 67, \"14\": 210, \"4\": 302, \"6\": 112, \"11\": 179, \"8\": 205, \"13\": 13, \"7\": 51, \"5\": 16, \"10\": 45}, \"7\": {\"5\": 132, \"11\": 63, \"13\": 180, \"7\": 263, \"6\": 193, \"8\": 26, \"1\": 117, \"10\": 180, \"4\": 44, \"14\": 2}, \"2\": {\"2\": 545, \"3\": 233, \"12\": 174, \"15\": 230, \"9\": 10, \"13\": 4, \"5\": 4}, \"1\": {\"1\": 218, \"6\": 183, \"4\": 75, \"5\": 138, \"10\": 116, \"11\": 160, \"8\": 74, \"7\": 130, \"13\": 96, \"14\": 10}, \"0\": {\"0\": 1189, \"14\": 10, \"4\": 1}, \"12\": {\"12\": 616, \"15\": 435, \"2\": 143, \"3\": 2, \"5\": 2, \"13\": 2}, \"6\": {\"14\": 15, \"5\": 96, \"6\": 186, \"1\": 156, \"4\": 107, \"13\": 100, \"8\": 88, \"10\": 133, \"11\": 116, \"7\": 203}, \"11\": {\"13\": 43, \"1\": 169, \"11\": 225, \"6\": 117, \"4\": 159, \"8\": 196, \"5\": 80, \"10\": 65, \"14\": 80, \"7\": 66}, \"9\": {\"9\": 1080, \"3\": 115, \"2\": 5}, \"5\": {\"5\": 250, \"7\": 109, \"13\": 276, \"11\": 85, \"6\": 82, \"1\": 118, \"10\": 189, \"4\": 37, \"12\": 16, \"8\": 24, \"15\": 8, \"14\": 6}, \"10\": {\"11\": 61, \"5\": 196, \"13\": 251, \"1\": 135, \"4\": 41, \"10\": 204, \"7\": 159, \"6\": 128, \"8\": 24, \"14\": 1}, \"14\": {\"14\": 631, \"4\": 256, \"8\": 167, \"11\": 87, \"6\": 20, \"1\": 19, \"0\": 12, \"5\": 3, \"7\": 5}, \"8\": {\"8\": 357, \"4\": 218, \"5\": 24, \"11\": 201, \"1\": 88, \"6\": 85, \"7\": 45, \"14\": 148, \"10\": 27, \"13\": 7}}, \"ORACLE.run1_20\": {\"6\": {\"7\": 133, \"9\": 86, \"8\": 43, \"2\": 101, \"10\": 38, \"12\": 98, \"13\": 70, \"14\": 65, \"15\": 73, \"6\": 189, \"4\": 147, \"1\": 67, \"3\": 49, \"5\": 39, \"11\": 1, \"0\": 1}, \"11\": {\"11\": 821, \"0\": 322, \"8\": 26, \"5\": 4, \"1\": 5, \"3\": 7, \"14\": 11, \"9\": 1, \"2\": 2, \"7\": 1}, \"5\": {\"3\": 150, \"7\": 71, \"1\": 134, \"5\": 162, \"9\": 139, \"15\": 69, \"14\": 118, \"8\": 123, \"6\": 50, \"12\": 37, \"2\": 42, \"0\": 47, \"4\": 34, \"13\": 15, \"11\": 7, \"10\": 2}, \"14\": {\"6\": 61, \"14\": 272, \"1\": 69, \"5\": 110, \"8\": 216, \"0\": 81, \"3\": 141, \"10\": 4, \"9\": 71, \"4\": 30, \"7\": 71, \"2\": 20, \"12\": 15, \"15\": 22, \"11\": 14, \"13\": 3}, \"2\": {\"7\": 104, \"2\": 144, \"14\": 19, \"5\": 50, \"13\": 162, \"9\": 102, \"15\": 124, \"4\": 103, \"12\": 144, \"1\": 68, \"6\": 85, \"10\": 44, \"3\": 34, \"8\": 14, \"0\": 2, \"11\": 1}, \"7\": {\"9\": 107, \"0\": 7, \"15\": 108, \"12\": 111, \"8\": 39, \"2\": 111, \"1\": 93, \"6\": 127, \"14\": 60, \"4\": 88, \"5\": 77, \"13\": 70, \"7\": 113, \"10\": 23, \"3\": 65, \"11\": 1}, \"3\": {\"8\": 142, \"5\": 153, \"15\": 53, \"14\": 139, \"2\": 44, \"6\": 54, \"7\": 77, \"0\": 67, \"3\": 156, \"1\": 111, \"9\": 119, \"13\": 14, \"4\": 23, \"12\": 36, \"11\": 10, \"10\": 2}, \"4\": {\"4\": 202, \"10\": 166, \"15\": 109, \"6\": 108, \"12\": 137, \"14\": 20, \"13\": 141, \"7\": 79, \"9\": 40, \"3\": 23, \"1\": 44, \"2\": 90, \"8\": 9, \"5\": 32}, \"9\": {\"12\": 61, \"1\": 150, \"2\": 84, \"7\": 117, \"3\": 105, \"13\": 43, \"9\": 162, \"15\": 90, \"5\": 104, \"14\": 76, \"6\": 74, \"8\": 72, \"0\": 13, \"4\": 36, \"10\": 10, \"11\": 3}, \"12\": {\"9\": 87, \"4\": 134, \"15\": 131, \"10\": 59, \"1\": 75, \"2\": 135, \"7\": 89, \"13\": 154, \"12\": 129, \"6\": 83, \"5\": 48, \"8\": 14, \"3\": 35, \"14\": 24, \"0\": 2, \"11\": 1}, \"0\": {\"8\": 143, \"14\": 49, \"11\": 338, \"3\": 68, \"0\": 528, \"9\": 15, \"5\": 37, \"7\": 4, \"1\": 13, \"12\": 1, \"15\": 2, \"2\": 2}, \"10\": {\"10\": 554, \"6\": 67, \"4\": 202, \"13\": 157, \"12\": 80, \"1\": 6, \"15\": 34, \"7\": 32, \"2\": 51, \"5\": 6, \"8\": 1, \"9\": 5, \"3\": 3, \"14\": 2}, \"8\": {\"14\": 220, \"8\": 248, \"3\": 151, \"9\": 94, \"0\": 117, \"1\": 81, \"5\": 141, \"12\": 11, \"2\": 11, \"7\": 45, \"15\": 10, \"4\": 10, \"6\": 33, \"11\": 26, \"13\": 2}, \"13\": {\"10\": 116, \"4\": 109, \"6\": 81, \"13\": 271, \"7\": 78, \"15\": 118, \"5\": 19, \"9\": 41, \"1\": 49, \"12\": 135, \"2\": 156, \"3\": 18, \"14\": 7, \"8\": 2}, \"1\": {\"5\": 116, \"15\": 93, \"12\": 65, \"1\": 161, \"13\": 39, \"9\": 151, \"3\": 116, \"14\": 72, \"2\": 86, \"6\": 54, \"8\": 80, \"7\": 82, \"4\": 54, \"0\": 21, \"10\": 6, \"11\": 4}, \"15\": {\"15\": 141, \"13\": 119, \"7\": 97, \"4\": 121, \"12\": 121, \"5\": 60, \"9\": 108, \"14\": 21, \"2\": 123, \"1\": 117, \"6\": 78, \"3\": 36, \"8\": 16, \"10\": 39, \"0\": 3}}, \"ORACLE.run1_38\": {\"3\": {\"3\": 1166, \"11\": 32, \"0\": 1, \"10\": 1}, \"8\": {\"9\": 131, \"8\": 256, \"2\": 125, \"5\": 242, \"7\": 112, \"12\": 143, \"15\": 133, \"14\": 46, \"0\": 5, \"13\": 7}, \"0\": {\"10\": 343, \"13\": 297, \"0\": 264, \"2\": 42, \"7\": 63, \"4\": 72, \"14\": 56, \"3\": 49, \"9\": 6, \"8\": 7, \"5\": 1}, \"2\": {\"2\": 406, \"7\": 285, \"14\": 220, \"9\": 123, \"5\": 40, \"0\": 13, \"8\": 63, \"13\": 47, \"4\": 2, \"10\": 1}, \"4\": {\"4\": 955, \"13\": 35, \"7\": 16, \"10\": 72, \"0\": 56, \"14\": 60, \"2\": 6}, \"7\": {\"7\": 413, \"14\": 271, \"13\": 53, \"2\": 274, \"8\": 50, \"9\": 68, \"0\": 31, \"5\": 30, \"4\": 9, \"10\": 1}, \"12\": {\"15\": 48, \"12\": 935, \"5\": 79, \"8\": 125, \"9\": 1, \"2\": 5, \"14\": 5, \"7\": 2}, \"6\": {\"6\": 620, \"1\": 565, \"15\": 15}, \"15\": {\"15\": 783, \"12\": 59, \"5\": 123, \"6\": 51, \"8\": 93, \"1\": 76, \"9\": 15}, \"11\": {\"11\": 1183, \"3\": 17}, \"9\": {\"5\": 137, \"8\": 107, \"2\": 127, \"9\": 729, \"7\": 78, \"0\": 2, \"15\": 1, \"13\": 7, \"12\": 2, \"14\": 10}, \"14\": {\"4\": 79, \"14\": 528, \"2\": 189, \"7\": 288, \"8\": 33, \"0\": 16, \"12\": 6, \"13\": 41, \"5\": 14, \"9\": 6}, \"10\": {\"13\": 110, \"10\": 717, \"0\": 272, \"4\": 79, \"3\": 20, \"14\": 1, \"7\": 1}, \"5\": {\"5\": 330, \"9\": 194, \"8\": 266, \"15\": 141, \"7\": 59, \"12\": 87, \"2\": 94, \"13\": 9, \"14\": 18, \"0\": 2}, \"1\": {\"1\": 575, \"6\": 593, \"15\": 32}, \"13\": {\"0\": 298, \"13\": 606, \"10\": 116, \"14\": 51, \"7\": 41, \"4\": 50, \"2\": 31, \"9\": 7}}, \"ORACLE.run1_26\": {\"5\": {\"15\": 225, \"5\": 336, \"1\": 98, \"9\": 2, \"6\": 188, \"10\": 72, \"11\": 198, \"0\": 17, \"14\": 58, \"2\": 5, \"8\": 1}, \"8\": {\"12\": 135, \"8\": 241, \"9\": 155, \"13\": 51, \"7\": 207, \"2\": 182, \"3\": 92, \"10\": 19, \"0\": 95, \"15\": 6, \"5\": 2, \"14\": 9, \"6\": 1, \"4\": 5}, \"4\": {\"4\": 897, \"13\": 133, \"3\": 107, \"9\": 19, \"12\": 21, \"8\": 4, \"7\": 16, \"2\": 3}, \"12\": {\"12\": 340, \"9\": 168, \"8\": 135, \"2\": 78, \"3\": 113, \"13\": 158, \"10\": 6, \"7\": 168, \"4\": 7, \"15\": 4, \"0\": 18, \"14\": 3, \"5\": 1, \"6\": 1}, \"6\": {\"0\": 34, \"1\": 207, \"15\": 201, \"6\": 217, \"10\": 121, \"5\": 197, \"14\": 127, \"11\": 92, \"2\": 2, \"8\": 2}, \"7\": {\"8\": 211, \"13\": 88, \"12\": 142, \"3\": 161, \"9\": 148, \"7\": 228, \"2\": 151, \"15\": 4, \"4\": 19, \"0\": 37, \"5\": 1, \"10\": 7, \"6\": 1, \"14\": 2}, \"10\": {\"14\": 288, \"15\": 148, \"12\": 2, \"0\": 179, \"6\": 112, \"1\": 94, \"10\": 221, \"5\": 87, \"11\": 14, \"8\": 13, \"2\": 32, \"9\": 6, \"13\": 1, \"7\": 3}, \"0\": {\"10\": 191, \"14\": 209, \"7\": 39, \"9\": 31, \"0\": 319, \"8\": 81, \"5\": 29, \"2\": 126, \"1\": 36, \"15\": 70, \"6\": 49, \"11\": 2, \"12\": 14, \"3\": 3, \"13\": 1}, \"15\": {\"1\": 139, \"0\": 66, \"14\": 125, \"15\": 199, \"10\": 157, \"5\": 235, \"6\": 187, \"2\": 17, \"7\": 2, \"8\": 5, \"11\": 62, \"9\": 6}, \"9\": {\"2\": 164, \"12\": 143, \"7\": 145, \"8\": 143, \"0\": 46, \"13\": 170, \"3\": 140, \"9\": 207, \"14\": 6, \"5\": 4, \"4\": 15, \"6\": 1, \"15\": 5, \"10\": 10, \"1\": 1}, \"11\": {\"11\": 649, \"5\": 219, \"15\": 82, \"6\": 122, \"1\": 98, \"14\": 13, \"10\": 15, \"0\": 2}, \"14\": {\"15\": 124, \"0\": 178, \"10\": 258, \"1\": 122, \"14\": 275, \"6\": 110, \"5\": 73, \"7\": 2, \"11\": 17, \"8\": 17, \"2\": 23, \"9\": 1}, \"2\": {\"12\": 82, \"13\": 65, \"7\": 155, \"2\": 251, \"9\": 156, \"8\": 182, \"0\": 118, \"10\": 38, \"3\": 88, \"14\": 27, \"15\": 17, \"5\": 5, \"4\": 5, \"1\": 3, \"6\": 8}, \"13\": {\"13\": 421, \"4\": 108, \"8\": 49, \"7\": 82, \"9\": 146, \"3\": 225, \"2\": 56, \"12\": 107, \"0\": 4, \"10\": 1, \"5\": 1}, \"3\": {\"2\": 66, \"9\": 150, \"8\": 114, \"7\": 157, \"4\": 75, \"3\": 297, \"12\": 115, \"13\": 220, \"0\": 5, \"10\": 1}, \"1\": {\"5\": 141, \"14\": 140, \"1\": 373, \"6\": 191, \"15\": 123, \"10\": 93, \"11\": 96, \"0\": 42, \"8\": 1}}}, \"per_domain_accuracy\": {\"CORES_4\": {\"accuracy\": 0.9979166666666667, \"source?\": true}, \"CORES_2\": {\"accuracy\": 0.9987710674157303, \"source?\": true}, \"CORES_3\": {\"accuracy\": 0.9975818452380952, \"source?\": true}, \"CORES_1\": {\"accuracy\": 0.9986486486486487, \"source?\": true}, \"CORES_5\": {\"accuracy\": 0.9982541899441341, \"source?\": true}, \"ORACLE.run1_50\": {\"accuracy\": 0.37942708333333336, \"source?\": false}, \"ORACLE.run1_14\": {\"accuracy\": 0.4321875, \"source?\": false}, \"ORACLE.run1_32\": {\"accuracy\": 0.4735416666666667, \"source?\": false}, \"ORACLE.run1_44\": {\"accuracy\": 0.3947395833333333, \"source?\": false}, \"ORACLE.run1_8\": {\"accuracy\": 0.4077604166666667, \"source?\": false}, \"ORACLE.run1_20\": {\"accuracy\": 0.22151041666666665, \"source?\": false}, \"ORACLE.run1_38\": {\"accuracy\": 0.5451041666666666, \"source?\": false}, \"ORACLE.run1_26\": {\"accuracy\": 0.2849479166666667, \"source?\": false}}}, \"history\": {\"epoch_indices\": [1, 2, 3, 4, 5], \"train_label_loss\": [0.02701911732556408, 0.009203939275874703, 0.006932016518201318, 0.005435668096809952, 0.0063385938222409715], \"source_val_label_loss\": [0.009553978219628334, 0.011906431056559086, 0.003844622988253832, 0.005519389174878597, 0.004748813807964325], \"target_val_label_loss\": [2.0077385902404785, 2.0171256065368652, 1.8590863943099976, 1.9932174682617188, 1.976810097694397], \"source_val_acc_label\": [0.99825, 0.9977857142857143, 0.9994642857142857, 0.9993928571428572, 0.9993928571428572], \"target_val_acc_label\": [0.39240234375, 0.36342447916666665, 0.38326171875, 0.3629296875, 0.35134765625]}, \"dataset_metrics\": {\"source\": {\"train\": {\"n_unique_x\": 175169, \"n_unique_y\": 58, \"n_batch/episode\": 6311}, \"val\": {\"n_unique_x\": 37166, \"n_unique_y\": 58, \"n_batch/episode\": 875}, \"test\": {\"n_unique_x\": 37642, \"n_unique_y\": 58, \"n_batch/episode\": 890}}, \"target\": {\"train\": {\"n_unique_x\": 896000, \"n_unique_y\": 16, \"n_batch/episode\": 33600}, \"val\": {\"n_unique_x\": 192000, \"n_unique_y\": 16, \"n_batch/episode\": 4800}, \"test\": {\"n_unique_x\": 192000, \"n_unique_y\": 16, \"n_batch/episode\": 4800}}}}'"
      ]
     },
     "execution_count": 29,
     "metadata": {},
     "output_type": "execute_result"
    }
   ],
   "source": [
    "json.dumps(experiment)"
   ]
  }
 ],
 "metadata": {
  "celltoolbar": "Tags",
  "kernelspec": {
   "display_name": "Python 3 (ipykernel)",
   "language": "python",
   "name": "python3"
  },
  "language_info": {
   "codemirror_mode": {
    "name": "ipython",
    "version": 3
   },
   "file_extension": ".py",
   "mimetype": "text/x-python",
   "name": "python",
   "nbconvert_exporter": "python",
   "pygments_lexer": "ipython3",
   "version": "3.8.12"
  },
  "papermill": {
   "default_parameters": {},
   "duration": 1773.409123,
   "end_time": "2022-03-23T09:19:10.222004",
   "environment_variables": {},
   "exception": null,
   "input_path": "/root/csc500-main/csc500-notebooks/templates/tl_ptn_template.ipynb",
   "output_path": "trial.ipynb",
   "parameters": {
    "parameters": {
     "BEST_MODEL_PATH": "./best_model.pth",
     "NUM_LOGS_PER_EPOCH": 10,
     "criteria_for_best": "target_accuracy",
     "dataset_seed": 500,
     "datasets": [
      {
       "domain_prefix": "CORES_",
       "domains": [
        1,
        2,
        3,
        4,
        5
       ],
       "episode_transforms": [],
       "labels": [
        "1-10.",
        "1-11.",
        "1-15.",
        "1-16.",
        "1-17.",
        "1-18.",
        "1-19.",
        "10-4.",
        "10-7.",
        "11-1.",
        "11-14.",
        "11-17.",
        "11-20.",
        "11-7.",
        "13-20.",
        "13-8.",
        "14-10.",
        "14-11.",
        "14-14.",
        "14-7.",
        "15-1.",
        "15-20.",
        "16-1.",
        "16-16.",
        "17-10.",
        "17-11.",
        "17-2.",
        "19-1.",
        "19-16.",
        "19-19.",
        "19-20.",
        "19-3.",
        "2-10.",
        "2-11.",
        "2-17.",
        "2-18.",
        "2-20.",
        "2-3.",
        "2-4.",
        "2-5.",
        "2-6.",
        "2-7.",
        "2-8.",
        "3-13.",
        "3-18.",
        "3-3.",
        "4-1.",
        "4-10.",
        "4-11.",
        "4-19.",
        "5-5.",
        "6-15.",
        "7-10.",
        "7-14.",
        "8-18.",
        "8-20.",
        "8-3.",
        "8-8."
       ],
       "num_examples_per_domain_per_label": -1,
       "pickle_path": "/root/csc500-main/datasets/cores.stratified_ds.2022A.pkl",
       "source_or_target_dataset": "source",
       "x_transforms": []
      },
      {
       "domain_prefix": "ORACLE.run1_",
       "domains": [
        32,
        38,
        8,
        44,
        14,
        50,
        20,
        26
       ],
       "episode_transforms": [],
       "labels": [
        "3123D52",
        "3123D65",
        "3123D79",
        "3123D80",
        "3123D54",
        "3123D70",
        "3123D7B",
        "3123D89",
        "3123D58",
        "3123D76",
        "3123D7D",
        "3123EFE",
        "3123D64",
        "3123D78",
        "3123D7E",
        "3124E4A"
       ],
       "num_examples_per_domain_per_label": 10000,
       "pickle_path": "/root/csc500-main/datasets/oracle.Run1_10kExamples_stratified_ds.2022A.pkl",
       "source_or_target_dataset": "target",
       "x_transforms": []
      }
     ],
     "device": "cuda",
     "experiment_name": "tl_1v2:cores-oracle.run1",
     "lr": 0.0001,
     "n_epoch": 50,
     "n_query": 2,
     "n_shot": 3,
     "n_way": 16,
     "patience": 3,
     "seed": 500,
     "test_k_factor": 2,
     "torch_default_dtype": "torch.float32",
     "train_k_factor": 3,
     "val_k_factor": 2,
     "x_net": [
      {
       "class": "nnReshape",
       "kargs": {
        "shape": [
         -1,
         1,
         2,
         256
        ]
       }
      },
      {
       "class": "Conv2d",
       "kargs": {
        "bias": false,
        "in_channels": 1,
        "kernel_size": [
         1,
         7
        ],
        "out_channels": 256,
        "padding": [
         0,
         3
        ]
       }
      },
      {
       "class": "ReLU",
       "kargs": {
        "inplace": true
       }
      },
      {
       "class": "BatchNorm2d",
       "kargs": {
        "num_features": 256
       }
      },
      {
       "class": "Conv2d",
       "kargs": {
        "bias": true,
        "in_channels": 256,
        "kernel_size": [
         2,
         7
        ],
        "out_channels": 80,
        "padding": [
         0,
         3
        ]
       }
      },
      {
       "class": "ReLU",
       "kargs": {
        "inplace": true
       }
      },
      {
       "class": "BatchNorm2d",
       "kargs": {
        "num_features": 80
       }
      },
      {
       "class": "Flatten",
       "kargs": {}
      },
      {
       "class": "Linear",
       "kargs": {
        "in_features": 20480,
        "out_features": 256
       }
      },
      {
       "class": "ReLU",
       "kargs": {
        "inplace": true
       }
      },
      {
       "class": "BatchNorm1d",
       "kargs": {
        "num_features": 256
       }
      },
      {
       "class": "Linear",
       "kargs": {
        "in_features": 256,
        "out_features": 256
       }
      }
     ]
    }
   },
   "start_time": "2022-03-23T08:49:36.812881",
   "version": "2.3.4"
  }
 },
 "nbformat": 4,
 "nbformat_minor": 5
}