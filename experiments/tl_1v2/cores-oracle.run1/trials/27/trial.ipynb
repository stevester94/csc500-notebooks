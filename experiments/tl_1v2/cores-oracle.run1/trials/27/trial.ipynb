{
 "cells": [
  {
   "cell_type": "markdown",
   "id": "9fea5f46",
   "metadata": {
    "papermill": {
     "duration": 0.029913,
     "end_time": "2022-03-23T09:19:11.398153",
     "exception": false,
     "start_time": "2022-03-23T09:19:11.368240",
     "status": "completed"
    },
    "tags": []
   },
   "source": [
    "# Transfer Learning Template"
   ]
  },
  {
   "cell_type": "code",
   "execution_count": 1,
   "id": "0902182a",
   "metadata": {
    "execution": {
     "iopub.execute_input": "2022-03-23T09:19:11.468916Z",
     "iopub.status.busy": "2022-03-23T09:19:11.468053Z",
     "iopub.status.idle": "2022-03-23T09:19:13.330541Z",
     "shell.execute_reply": "2022-03-23T09:19:13.329652Z"
    },
    "papermill": {
     "duration": 1.902775,
     "end_time": "2022-03-23T09:19:13.330727",
     "exception": false,
     "start_time": "2022-03-23T09:19:11.427952",
     "status": "completed"
    },
    "tags": []
   },
   "outputs": [],
   "source": [
    "%load_ext autoreload\n",
    "%autoreload 2\n",
    "%matplotlib inline\n",
    "\n",
    "    \n",
    "import os, json, sys, time, random\n",
    "import numpy as np\n",
    "import torch\n",
    "from torch.optim import Adam\n",
    "from  easydict import EasyDict\n",
    "import matplotlib.pyplot as plt\n",
    "\n",
    "from steves_models.steves_ptn import Steves_Prototypical_Network\n",
    "\n",
    "from steves_utils.lazy_iterable_wrapper import Lazy_Iterable_Wrapper\n",
    "from steves_utils.iterable_aggregator import Iterable_Aggregator\n",
    "from steves_utils.ptn_train_eval_test_jig import  PTN_Train_Eval_Test_Jig\n",
    "from steves_utils.torch_sequential_builder import build_sequential\n",
    "from steves_utils.torch_utils import get_dataset_metrics, ptn_confusion_by_domain_over_dataloader\n",
    "from steves_utils.utils_v2 import (per_domain_accuracy_from_confusion, get_datasets_base_path)\n",
    "from steves_utils.PTN.utils import independent_accuracy_assesment\n",
    "\n",
    "from torch.utils.data import DataLoader\n",
    "\n",
    "from steves_utils.stratified_dataset.episodic_accessor import Episodic_Accessor_Factory\n",
    "\n",
    "from steves_utils.ptn_do_report import (\n",
    "    get_loss_curve,\n",
    "    get_results_table,\n",
    "    get_parameters_table,\n",
    "    get_domain_accuracies,\n",
    ")\n",
    "\n",
    "from steves_utils.transforms import get_chained_transform"
   ]
  },
  {
   "cell_type": "markdown",
   "id": "41c840b4",
   "metadata": {
    "papermill": {
     "duration": 0.019074,
     "end_time": "2022-03-23T09:19:13.374960",
     "exception": false,
     "start_time": "2022-03-23T09:19:13.355886",
     "status": "completed"
    },
    "tags": []
   },
   "source": [
    "# Allowed Parameters\n",
    "These are allowed parameters, not defaults\n",
    "Each of these values need to be present in the injected parameters (the notebook will raise an exception if they are not present)\n",
    "\n",
    "Papermill uses the cell tag \"parameters\" to inject the real parameters below this cell.\n",
    "Enable tags to see what I mean"
   ]
  },
  {
   "cell_type": "code",
   "execution_count": 2,
   "id": "fd44eb83",
   "metadata": {
    "execution": {
     "iopub.execute_input": "2022-03-23T09:19:13.419641Z",
     "iopub.status.busy": "2022-03-23T09:19:13.419063Z",
     "iopub.status.idle": "2022-03-23T09:19:13.441819Z",
     "shell.execute_reply": "2022-03-23T09:19:13.441029Z"
    },
    "papermill": {
     "duration": 0.047774,
     "end_time": "2022-03-23T09:19:13.441971",
     "exception": false,
     "start_time": "2022-03-23T09:19:13.394197",
     "status": "completed"
    },
    "tags": []
   },
   "outputs": [],
   "source": [
    "required_parameters = {\n",
    "    \"experiment_name\",\n",
    "    \"lr\",\n",
    "    \"device\",\n",
    "    \"seed\",\n",
    "    \"dataset_seed\",\n",
    "    \"n_shot\",\n",
    "    \"n_query\",\n",
    "    \"n_way\",\n",
    "    \"train_k_factor\",\n",
    "    \"val_k_factor\",\n",
    "    \"test_k_factor\",\n",
    "    \"n_epoch\",\n",
    "    \"patience\",\n",
    "    \"criteria_for_best\",\n",
    "    \"x_net\",\n",
    "    \"datasets\",\n",
    "    \"torch_default_dtype\",\n",
    "    \"NUM_LOGS_PER_EPOCH\",\n",
    "    \"BEST_MODEL_PATH\",\n",
    "    \"x_shape\",\n",
    "}"
   ]
  },
  {
   "cell_type": "code",
   "execution_count": 3,
   "id": "fa3f0049",
   "metadata": {
    "execution": {
     "iopub.execute_input": "2022-03-23T09:19:13.500404Z",
     "iopub.status.busy": "2022-03-23T09:19:13.499456Z",
     "iopub.status.idle": "2022-03-23T09:19:13.521417Z",
     "shell.execute_reply": "2022-03-23T09:19:13.520620Z"
    },
    "papermill": {
     "duration": 0.054539,
     "end_time": "2022-03-23T09:19:13.521567",
     "exception": false,
     "start_time": "2022-03-23T09:19:13.467028",
     "status": "completed"
    },
    "tags": [
     "parameters"
    ]
   },
   "outputs": [],
   "source": [
    "from steves_utils.CORES.utils import (\n",
    "    ALL_NODES,\n",
    "    ALL_NODES_MINIMUM_1000_EXAMPLES,\n",
    "    ALL_DAYS\n",
    ")\n",
    "\n",
    "from steves_utils.ORACLE.utils_v2 import (\n",
    "    ALL_DISTANCES_FEET_NARROWED,\n",
    "    ALL_RUNS,\n",
    "    ALL_SERIAL_NUMBERS,\n",
    ")\n",
    "\n",
    "standalone_parameters = {}\n",
    "standalone_parameters[\"experiment_name\"] = \"STANDALONE PTN\"\n",
    "standalone_parameters[\"lr\"] = 0.001\n",
    "standalone_parameters[\"device\"] = \"cuda\"\n",
    "\n",
    "standalone_parameters[\"seed\"] = 1337\n",
    "standalone_parameters[\"dataset_seed\"] = 1337\n",
    "\n",
    "standalone_parameters[\"n_way\"] = 8\n",
    "standalone_parameters[\"n_shot\"] = 3\n",
    "standalone_parameters[\"n_query\"]  = 2\n",
    "standalone_parameters[\"train_k_factor\"] = 1\n",
    "standalone_parameters[\"val_k_factor\"] = 2\n",
    "standalone_parameters[\"test_k_factor\"] = 2\n",
    "\n",
    "\n",
    "standalone_parameters[\"n_epoch\"] = 50\n",
    "\n",
    "standalone_parameters[\"patience\"] = 10\n",
    "standalone_parameters[\"criteria_for_best\"] = \"source_loss\"\n",
    "\n",
    "standalone_parameters[\"datasets\"] = [\n",
    "    {\n",
    "        \"labels\": ALL_SERIAL_NUMBERS,\n",
    "        \"domains\": ALL_DISTANCES_FEET_NARROWED,\n",
    "        \"num_examples_per_domain_per_label\": 100,\n",
    "        \"pickle_path\": os.path.join(get_datasets_base_path(), \"oracle.Run1_framed_2000Examples_stratified_ds.2022A.pkl\"),\n",
    "        \"source_or_target_dataset\": \"source\",\n",
    "        \"x_transforms\": [\"unit_mag\", \"minus_two\"],\n",
    "        \"episode_transforms\": [],\n",
    "        \"domain_prefix\": \"ORACLE_\"\n",
    "    },\n",
    "    {\n",
    "        \"labels\": ALL_NODES,\n",
    "        \"domains\": ALL_DAYS,\n",
    "        \"num_examples_per_domain_per_label\": 100,\n",
    "        \"pickle_path\": os.path.join(get_datasets_base_path(), \"cores.stratified_ds.2022A.pkl\"),\n",
    "        \"source_or_target_dataset\": \"target\",\n",
    "        \"x_transforms\": [\"unit_power\", \"times_zero\"],\n",
    "        \"episode_transforms\": [],\n",
    "        \"domain_prefix\": \"CORES_\"\n",
    "    }   \n",
    "]\n",
    "\n",
    "standalone_parameters[\"torch_default_dtype\"] = \"torch.float32\" \n",
    "\n",
    "\n",
    "\n",
    "standalone_parameters[\"x_net\"] =     [\n",
    "    {\"class\": \"nnReshape\", \"kargs\": {\"shape\":[-1, 1, 2, 256]}},\n",
    "    {\"class\": \"Conv2d\", \"kargs\": { \"in_channels\":1, \"out_channels\":256, \"kernel_size\":(1,7), \"bias\":False, \"padding\":(0,3), },},\n",
    "    {\"class\": \"ReLU\", \"kargs\": {\"inplace\": True}},\n",
    "    {\"class\": \"BatchNorm2d\", \"kargs\": {\"num_features\":256}},\n",
    "\n",
    "    {\"class\": \"Conv2d\", \"kargs\": { \"in_channels\":256, \"out_channels\":80, \"kernel_size\":(2,7), \"bias\":True, \"padding\":(0,3), },},\n",
    "    {\"class\": \"ReLU\", \"kargs\": {\"inplace\": True}},\n",
    "    {\"class\": \"BatchNorm2d\", \"kargs\": {\"num_features\":80}},\n",
    "    {\"class\": \"Flatten\", \"kargs\": {}},\n",
    "\n",
    "    {\"class\": \"Linear\", \"kargs\": {\"in_features\": 80*256, \"out_features\": 256}}, # 80 units per IQ pair\n",
    "    {\"class\": \"ReLU\", \"kargs\": {\"inplace\": True}},\n",
    "    {\"class\": \"BatchNorm1d\", \"kargs\": {\"num_features\":256}},\n",
    "\n",
    "    {\"class\": \"Linear\", \"kargs\": {\"in_features\": 256, \"out_features\": 256}},\n",
    "]\n",
    "\n",
    "# Parameters relevant to results\n",
    "# These parameters will basically never need to change\n",
    "standalone_parameters[\"NUM_LOGS_PER_EPOCH\"] = 10\n",
    "standalone_parameters[\"BEST_MODEL_PATH\"] = \"./best_model.pth\"\n",
    "\n",
    "\n",
    "\n",
    "\n"
   ]
  },
  {
   "cell_type": "code",
   "execution_count": 4,
   "id": "3d974245",
   "metadata": {
    "execution": {
     "iopub.execute_input": "2022-03-23T09:19:13.581866Z",
     "iopub.status.busy": "2022-03-23T09:19:13.580895Z",
     "iopub.status.idle": "2022-03-23T09:19:13.602632Z",
     "shell.execute_reply": "2022-03-23T09:19:13.601942Z"
    },
    "papermill": {
     "duration": 0.056296,
     "end_time": "2022-03-23T09:19:13.602779",
     "exception": false,
     "start_time": "2022-03-23T09:19:13.546483",
     "status": "completed"
    },
    "tags": [
     "injected-parameters"
    ]
   },
   "outputs": [],
   "source": [
    "# Parameters\n",
    "parameters = {\n",
    "    \"experiment_name\": \"tl_1v2:cores-oracle.run1\",\n",
    "    \"device\": \"cuda\",\n",
    "    \"lr\": 0.0001,\n",
    "    \"n_shot\": 3,\n",
    "    \"n_query\": 2,\n",
    "    \"train_k_factor\": 3,\n",
    "    \"val_k_factor\": 2,\n",
    "    \"test_k_factor\": 2,\n",
    "    \"torch_default_dtype\": \"torch.float32\",\n",
    "    \"n_epoch\": 50,\n",
    "    \"patience\": 3,\n",
    "    \"criteria_for_best\": \"target_accuracy\",\n",
    "    \"x_net\": [\n",
    "        {\"class\": \"nnReshape\", \"kargs\": {\"shape\": [-1, 1, 2, 256]}},\n",
    "        {\n",
    "            \"class\": \"Conv2d\",\n",
    "            \"kargs\": {\n",
    "                \"in_channels\": 1,\n",
    "                \"out_channels\": 256,\n",
    "                \"kernel_size\": [1, 7],\n",
    "                \"bias\": False,\n",
    "                \"padding\": [0, 3],\n",
    "            },\n",
    "        },\n",
    "        {\"class\": \"ReLU\", \"kargs\": {\"inplace\": True}},\n",
    "        {\"class\": \"BatchNorm2d\", \"kargs\": {\"num_features\": 256}},\n",
    "        {\n",
    "            \"class\": \"Conv2d\",\n",
    "            \"kargs\": {\n",
    "                \"in_channels\": 256,\n",
    "                \"out_channels\": 80,\n",
    "                \"kernel_size\": [2, 7],\n",
    "                \"bias\": True,\n",
    "                \"padding\": [0, 3],\n",
    "            },\n",
    "        },\n",
    "        {\"class\": \"ReLU\", \"kargs\": {\"inplace\": True}},\n",
    "        {\"class\": \"BatchNorm2d\", \"kargs\": {\"num_features\": 80}},\n",
    "        {\"class\": \"Flatten\", \"kargs\": {}},\n",
    "        {\"class\": \"Linear\", \"kargs\": {\"in_features\": 20480, \"out_features\": 256}},\n",
    "        {\"class\": \"ReLU\", \"kargs\": {\"inplace\": True}},\n",
    "        {\"class\": \"BatchNorm1d\", \"kargs\": {\"num_features\": 256}},\n",
    "        {\"class\": \"Linear\", \"kargs\": {\"in_features\": 256, \"out_features\": 256}},\n",
    "    ],\n",
    "    \"NUM_LOGS_PER_EPOCH\": 10,\n",
    "    \"BEST_MODEL_PATH\": \"./best_model.pth\",\n",
    "    \"n_way\": 16,\n",
    "    \"datasets\": [\n",
    "        {\n",
    "            \"labels\": [\n",
    "                \"1-10.\",\n",
    "                \"1-11.\",\n",
    "                \"1-15.\",\n",
    "                \"1-16.\",\n",
    "                \"1-17.\",\n",
    "                \"1-18.\",\n",
    "                \"1-19.\",\n",
    "                \"10-4.\",\n",
    "                \"10-7.\",\n",
    "                \"11-1.\",\n",
    "                \"11-14.\",\n",
    "                \"11-17.\",\n",
    "                \"11-20.\",\n",
    "                \"11-7.\",\n",
    "                \"13-20.\",\n",
    "                \"13-8.\",\n",
    "                \"14-10.\",\n",
    "                \"14-11.\",\n",
    "                \"14-14.\",\n",
    "                \"14-7.\",\n",
    "                \"15-1.\",\n",
    "                \"15-20.\",\n",
    "                \"16-1.\",\n",
    "                \"16-16.\",\n",
    "                \"17-10.\",\n",
    "                \"17-11.\",\n",
    "                \"17-2.\",\n",
    "                \"19-1.\",\n",
    "                \"19-16.\",\n",
    "                \"19-19.\",\n",
    "                \"19-20.\",\n",
    "                \"19-3.\",\n",
    "                \"2-10.\",\n",
    "                \"2-11.\",\n",
    "                \"2-17.\",\n",
    "                \"2-18.\",\n",
    "                \"2-20.\",\n",
    "                \"2-3.\",\n",
    "                \"2-4.\",\n",
    "                \"2-5.\",\n",
    "                \"2-6.\",\n",
    "                \"2-7.\",\n",
    "                \"2-8.\",\n",
    "                \"3-13.\",\n",
    "                \"3-18.\",\n",
    "                \"3-3.\",\n",
    "                \"4-1.\",\n",
    "                \"4-10.\",\n",
    "                \"4-11.\",\n",
    "                \"4-19.\",\n",
    "                \"5-5.\",\n",
    "                \"6-15.\",\n",
    "                \"7-10.\",\n",
    "                \"7-14.\",\n",
    "                \"8-18.\",\n",
    "                \"8-20.\",\n",
    "                \"8-3.\",\n",
    "                \"8-8.\",\n",
    "            ],\n",
    "            \"domains\": [1, 2, 3, 4, 5],\n",
    "            \"num_examples_per_domain_per_label\": -1,\n",
    "            \"pickle_path\": \"/root/csc500-main/datasets/cores.stratified_ds.2022A.pkl\",\n",
    "            \"source_or_target_dataset\": \"target\",\n",
    "            \"x_transforms\": [\"unit_power\"],\n",
    "            \"episode_transforms\": [],\n",
    "            \"domain_prefix\": \"CORES_\",\n",
    "        },\n",
    "        {\n",
    "            \"labels\": [\n",
    "                \"3123D52\",\n",
    "                \"3123D65\",\n",
    "                \"3123D79\",\n",
    "                \"3123D80\",\n",
    "                \"3123D54\",\n",
    "                \"3123D70\",\n",
    "                \"3123D7B\",\n",
    "                \"3123D89\",\n",
    "                \"3123D58\",\n",
    "                \"3123D76\",\n",
    "                \"3123D7D\",\n",
    "                \"3123EFE\",\n",
    "                \"3123D64\",\n",
    "                \"3123D78\",\n",
    "                \"3123D7E\",\n",
    "                \"3124E4A\",\n",
    "            ],\n",
    "            \"domains\": [32, 38, 8, 44, 14, 50, 20, 26],\n",
    "            \"num_examples_per_domain_per_label\": 10000,\n",
    "            \"pickle_path\": \"/root/csc500-main/datasets/oracle.Run1_10kExamples_stratified_ds.2022A.pkl\",\n",
    "            \"source_or_target_dataset\": \"source\",\n",
    "            \"x_transforms\": [\"unit_power\"],\n",
    "            \"episode_transforms\": [],\n",
    "            \"domain_prefix\": \"ORACLE.run1_\",\n",
    "        },\n",
    "    ],\n",
    "    \"dataset_seed\": 500,\n",
    "    \"seed\": 500,\n",
    "}\n"
   ]
  },
  {
   "cell_type": "code",
   "execution_count": 5,
   "id": "8fa1cc33",
   "metadata": {
    "execution": {
     "iopub.execute_input": "2022-03-23T09:19:13.656246Z",
     "iopub.status.busy": "2022-03-23T09:19:13.655113Z",
     "iopub.status.idle": "2022-03-23T09:19:13.675702Z",
     "shell.execute_reply": "2022-03-23T09:19:13.675011Z"
    },
    "papermill": {
     "duration": 0.048208,
     "end_time": "2022-03-23T09:19:13.675869",
     "exception": false,
     "start_time": "2022-03-23T09:19:13.627661",
     "status": "completed"
    },
    "tags": []
   },
   "outputs": [],
   "source": [
    "# Set this to True if you want to run this template directly\n",
    "STANDALONE = False\n",
    "if STANDALONE:\n",
    "    print(\"parameters not injected, running with standalone_parameters\")\n",
    "    parameters = standalone_parameters\n",
    "\n",
    "if not 'parameters' in locals() and not 'parameters' in globals():\n",
    "    raise Exception(\"Parameter injection failed\")\n",
    "\n",
    "#Use an easy dict for all the parameters\n",
    "p = EasyDict(parameters)\n",
    "\n",
    "if \"x_shape\" not in p:\n",
    "    p.x_shape = [2,256] # Default to this if we dont supply x_shape\n",
    "\n",
    "\n",
    "supplied_keys = set(p.keys())\n",
    "\n",
    "if  supplied_keys != required_parameters:\n",
    "    print(\"Parameters are incorrect\")\n",
    "    if len(supplied_keys - required_parameters)>0: print(\"Shouldn't have:\", str(supplied_keys - required_parameters))\n",
    "    if len(required_parameters - supplied_keys)>0: print(\"Need to have:\", str(required_parameters - supplied_keys))\n",
    "    raise RuntimeError(\"Parameters are incorrect\")"
   ]
  },
  {
   "cell_type": "code",
   "execution_count": 6,
   "id": "3a028d58",
   "metadata": {
    "execution": {
     "iopub.execute_input": "2022-03-23T09:19:13.729395Z",
     "iopub.status.busy": "2022-03-23T09:19:13.727890Z",
     "iopub.status.idle": "2022-03-23T09:19:13.750530Z",
     "shell.execute_reply": "2022-03-23T09:19:13.749726Z"
    },
    "papermill": {
     "duration": 0.046561,
     "end_time": "2022-03-23T09:19:13.750680",
     "exception": false,
     "start_time": "2022-03-23T09:19:13.704119",
     "status": "completed"
    },
    "tags": []
   },
   "outputs": [],
   "source": [
    "###################################\n",
    "# Set the RNGs and make it all deterministic\n",
    "###################################\n",
    "np.random.seed(p.seed)\n",
    "random.seed(p.seed)\n",
    "torch.manual_seed(p.seed)\n",
    "\n",
    "torch.use_deterministic_algorithms(True) "
   ]
  },
  {
   "cell_type": "code",
   "execution_count": 7,
   "id": "b691acf6",
   "metadata": {
    "execution": {
     "iopub.execute_input": "2022-03-23T09:19:13.799548Z",
     "iopub.status.busy": "2022-03-23T09:19:13.799160Z",
     "iopub.status.idle": "2022-03-23T09:19:13.822209Z",
     "shell.execute_reply": "2022-03-23T09:19:13.821383Z"
    },
    "papermill": {
     "duration": 0.046904,
     "end_time": "2022-03-23T09:19:13.822360",
     "exception": false,
     "start_time": "2022-03-23T09:19:13.775456",
     "status": "completed"
    },
    "tags": []
   },
   "outputs": [],
   "source": [
    "###########################################\n",
    "# The stratified datasets honor this\n",
    "###########################################\n",
    "torch.set_default_dtype(eval(p.torch_default_dtype))"
   ]
  },
  {
   "cell_type": "code",
   "execution_count": 8,
   "id": "b5fba671",
   "metadata": {
    "execution": {
     "iopub.execute_input": "2022-03-23T09:19:13.869013Z",
     "iopub.status.busy": "2022-03-23T09:19:13.868643Z",
     "iopub.status.idle": "2022-03-23T09:19:13.920088Z",
     "shell.execute_reply": "2022-03-23T09:19:13.920722Z"
    },
    "papermill": {
     "duration": 0.074094,
     "end_time": "2022-03-23T09:19:13.920915",
     "exception": false,
     "start_time": "2022-03-23T09:19:13.846821",
     "status": "completed"
    },
    "tags": []
   },
   "outputs": [],
   "source": [
    "###################################\n",
    "# Build the network(s)\n",
    "# Note: It's critical to do this AFTER setting the RNG\n",
    "###################################\n",
    "x_net = build_sequential(p.x_net)"
   ]
  },
  {
   "cell_type": "code",
   "execution_count": 9,
   "id": "5d7e61cc",
   "metadata": {
    "execution": {
     "iopub.execute_input": "2022-03-23T09:19:13.968443Z",
     "iopub.status.busy": "2022-03-23T09:19:13.967873Z",
     "iopub.status.idle": "2022-03-23T09:19:13.992824Z",
     "shell.execute_reply": "2022-03-23T09:19:13.992025Z"
    },
    "papermill": {
     "duration": 0.048608,
     "end_time": "2022-03-23T09:19:13.992978",
     "exception": false,
     "start_time": "2022-03-23T09:19:13.944370",
     "status": "completed"
    },
    "tags": []
   },
   "outputs": [],
   "source": [
    "start_time_secs = time.time()"
   ]
  },
  {
   "cell_type": "code",
   "execution_count": 10,
   "id": "c6b67dfd",
   "metadata": {
    "execution": {
     "iopub.execute_input": "2022-03-23T09:19:14.041744Z",
     "iopub.status.busy": "2022-03-23T09:19:14.041194Z",
     "iopub.status.idle": "2022-03-23T09:19:14.059871Z",
     "shell.execute_reply": "2022-03-23T09:19:14.058962Z"
    },
    "papermill": {
     "duration": 0.041684,
     "end_time": "2022-03-23T09:19:14.060023",
     "exception": false,
     "start_time": "2022-03-23T09:19:14.018339",
     "status": "completed"
    },
    "tags": []
   },
   "outputs": [],
   "source": [
    "p.domains_source = []\n",
    "p.domains_target = []\n",
    "\n",
    "\n",
    "train_original_source = []\n",
    "val_original_source   = []\n",
    "test_original_source  = []\n",
    "\n",
    "train_original_target = []\n",
    "val_original_target   = []\n",
    "test_original_target  = []"
   ]
  },
  {
   "cell_type": "code",
   "execution_count": 11,
   "id": "e3d9c3d3",
   "metadata": {
    "execution": {
     "iopub.execute_input": "2022-03-23T09:19:14.112172Z",
     "iopub.status.busy": "2022-03-23T09:19:14.110823Z",
     "iopub.status.idle": "2022-03-23T09:19:14.131895Z",
     "shell.execute_reply": "2022-03-23T09:19:14.131028Z"
    },
    "papermill": {
     "duration": 0.045576,
     "end_time": "2022-03-23T09:19:14.132075",
     "exception": false,
     "start_time": "2022-03-23T09:19:14.086499",
     "status": "completed"
    },
    "tags": []
   },
   "outputs": [],
   "source": [
    "# global_x_transform_func = lambda x: normalize(x.to(torch.get_default_dtype()), \"unit_power\") # unit_power, unit_mag\n",
    "# global_x_transform_func = lambda x: normalize(x, \"unit_power\") # unit_power, unit_mag"
   ]
  },
  {
   "cell_type": "code",
   "execution_count": 12,
   "id": "acb78fd2",
   "metadata": {
    "execution": {
     "iopub.execute_input": "2022-03-23T09:19:14.194853Z",
     "iopub.status.busy": "2022-03-23T09:19:14.194255Z",
     "iopub.status.idle": "2022-03-23T09:19:14.215324Z",
     "shell.execute_reply": "2022-03-23T09:19:14.214586Z"
    },
    "papermill": {
     "duration": 0.05321,
     "end_time": "2022-03-23T09:19:14.215485",
     "exception": false,
     "start_time": "2022-03-23T09:19:14.162275",
     "status": "completed"
    },
    "tags": []
   },
   "outputs": [],
   "source": [
    "def add_dataset(\n",
    "    labels,\n",
    "    domains,\n",
    "    pickle_path,\n",
    "    x_transforms,\n",
    "    episode_transforms,\n",
    "    domain_prefix,\n",
    "    num_examples_per_domain_per_label,\n",
    "    source_or_target_dataset:str,\n",
    "    iterator_seed=p.seed,\n",
    "    dataset_seed=p.dataset_seed,\n",
    "    n_shot=p.n_shot,\n",
    "    n_way=p.n_way,\n",
    "    n_query=p.n_query,\n",
    "    train_val_test_k_factors=(p.train_k_factor,p.val_k_factor,p.test_k_factor),\n",
    "):\n",
    "   \n",
    "    if x_transforms == []: x_transform = None\n",
    "    else: x_transform = get_chained_transform(x_transforms)\n",
    "    \n",
    "    if episode_transforms == []: episode_transform = None\n",
    "    else: raise Exception(\"episode_transforms not implemented\")\n",
    "    \n",
    "    episode_transform = lambda tup, _prefix=domain_prefix: (_prefix + str(tup[0]), tup[1])\n",
    "\n",
    "\n",
    "    eaf = Episodic_Accessor_Factory(\n",
    "        labels=labels,\n",
    "        domains=domains,\n",
    "        num_examples_per_domain_per_label=num_examples_per_domain_per_label,\n",
    "        iterator_seed=iterator_seed,\n",
    "        dataset_seed=dataset_seed,\n",
    "        n_shot=n_shot,\n",
    "        n_way=n_way,\n",
    "        n_query=n_query,\n",
    "        train_val_test_k_factors=train_val_test_k_factors,\n",
    "        pickle_path=pickle_path,\n",
    "        x_transform_func=x_transform,\n",
    "    )\n",
    "\n",
    "    train, val, test = eaf.get_train(), eaf.get_val(), eaf.get_test()\n",
    "    train = Lazy_Iterable_Wrapper(train, episode_transform)\n",
    "    val = Lazy_Iterable_Wrapper(val, episode_transform)\n",
    "    test = Lazy_Iterable_Wrapper(test, episode_transform)\n",
    "\n",
    "    if source_or_target_dataset==\"source\":\n",
    "        train_original_source.append(train)\n",
    "        val_original_source.append(val)\n",
    "        test_original_source.append(test)\n",
    "\n",
    "        p.domains_source.extend(\n",
    "            [domain_prefix + str(u) for u in domains]\n",
    "        )\n",
    "    elif source_or_target_dataset==\"target\":\n",
    "        train_original_target.append(train)\n",
    "        val_original_target.append(val)\n",
    "        test_original_target.append(test)\n",
    "        p.domains_target.extend(\n",
    "            [domain_prefix + str(u) for u in domains]\n",
    "        )\n",
    "    else:\n",
    "        raise Exception(f\"invalid source_or_target_dataset: {source_or_target_dataset}\")\n",
    "    "
   ]
  },
  {
   "cell_type": "code",
   "execution_count": 13,
   "id": "fe266617",
   "metadata": {
    "execution": {
     "iopub.execute_input": "2022-03-23T09:19:14.270258Z",
     "iopub.status.busy": "2022-03-23T09:19:14.269283Z",
     "iopub.status.idle": "2022-03-23T09:21:24.388697Z",
     "shell.execute_reply": "2022-03-23T09:21:24.387938Z"
    },
    "papermill": {
     "duration": 130.143361,
     "end_time": "2022-03-23T09:21:24.388883",
     "exception": false,
     "start_time": "2022-03-23T09:19:14.245522",
     "status": "completed"
    },
    "tags": []
   },
   "outputs": [],
   "source": [
    "for ds in p.datasets:\n",
    "    add_dataset(**ds)"
   ]
  },
  {
   "cell_type": "code",
   "execution_count": 14,
   "id": "b90d65ac",
   "metadata": {
    "execution": {
     "iopub.execute_input": "2022-03-23T09:21:24.440048Z",
     "iopub.status.busy": "2022-03-23T09:21:24.439421Z",
     "iopub.status.idle": "2022-03-23T09:21:24.464929Z",
     "shell.execute_reply": "2022-03-23T09:21:24.464197Z"
    },
    "papermill": {
     "duration": 0.050363,
     "end_time": "2022-03-23T09:21:24.465085",
     "exception": false,
     "start_time": "2022-03-23T09:21:24.414722",
     "status": "completed"
    },
    "tags": []
   },
   "outputs": [],
   "source": [
    "# from steves_utils.CORES.utils import (\n",
    "#     ALL_NODES,\n",
    "#     ALL_NODES_MINIMUM_1000_EXAMPLES,\n",
    "#     ALL_DAYS\n",
    "# )\n",
    "\n",
    "# add_dataset(\n",
    "#     labels=ALL_NODES,\n",
    "#     domains = ALL_DAYS,\n",
    "#     num_examples_per_domain_per_label=100,\n",
    "#     pickle_path=os.path.join(get_datasets_base_path(), \"cores.stratified_ds.2022A.pkl\"),\n",
    "#     source_or_target_dataset=\"target\",\n",
    "#     x_transform_func=global_x_transform_func,\n",
    "#     domain_modifier=lambda u: f\"cores_{u}\"\n",
    "# )"
   ]
  },
  {
   "cell_type": "code",
   "execution_count": 15,
   "id": "76db484d",
   "metadata": {
    "execution": {
     "iopub.execute_input": "2022-03-23T09:21:24.514417Z",
     "iopub.status.busy": "2022-03-23T09:21:24.514045Z",
     "iopub.status.idle": "2022-03-23T09:21:24.536434Z",
     "shell.execute_reply": "2022-03-23T09:21:24.535611Z"
    },
    "papermill": {
     "duration": 0.045143,
     "end_time": "2022-03-23T09:21:24.536588",
     "exception": false,
     "start_time": "2022-03-23T09:21:24.491445",
     "status": "completed"
    },
    "tags": []
   },
   "outputs": [],
   "source": [
    "# from steves_utils.ORACLE.utils_v2 import (\n",
    "#     ALL_DISTANCES_FEET,\n",
    "#     ALL_RUNS,\n",
    "#     ALL_SERIAL_NUMBERS,\n",
    "# )\n",
    "\n",
    "\n",
    "# add_dataset(\n",
    "#     labels=ALL_SERIAL_NUMBERS,\n",
    "#     domains = list(set(ALL_DISTANCES_FEET) - {2,62}),\n",
    "#     num_examples_per_domain_per_label=100,\n",
    "#     pickle_path=os.path.join(get_datasets_base_path(), \"oracle.Run2_framed_2000Examples_stratified_ds.2022A.pkl\"),\n",
    "#     source_or_target_dataset=\"source\",\n",
    "#     x_transform_func=global_x_transform_func,\n",
    "#     domain_modifier=lambda u: f\"oracle1_{u}\"\n",
    "# )\n"
   ]
  },
  {
   "cell_type": "code",
   "execution_count": 16,
   "id": "97dea9d2",
   "metadata": {
    "execution": {
     "iopub.execute_input": "2022-03-23T09:21:24.587336Z",
     "iopub.status.busy": "2022-03-23T09:21:24.586970Z",
     "iopub.status.idle": "2022-03-23T09:21:24.606037Z",
     "shell.execute_reply": "2022-03-23T09:21:24.605332Z"
    },
    "papermill": {
     "duration": 0.042358,
     "end_time": "2022-03-23T09:21:24.606190",
     "exception": false,
     "start_time": "2022-03-23T09:21:24.563832",
     "status": "completed"
    },
    "tags": []
   },
   "outputs": [],
   "source": [
    "# from steves_utils.ORACLE.utils_v2 import (\n",
    "#     ALL_DISTANCES_FEET,\n",
    "#     ALL_RUNS,\n",
    "#     ALL_SERIAL_NUMBERS,\n",
    "# )\n",
    "\n",
    "\n",
    "# add_dataset(\n",
    "#     labels=ALL_SERIAL_NUMBERS,\n",
    "#     domains = list(set(ALL_DISTANCES_FEET) - {2,62,56}),\n",
    "#     num_examples_per_domain_per_label=100,\n",
    "#     pickle_path=os.path.join(get_datasets_base_path(), \"oracle.Run2_framed_2000Examples_stratified_ds.2022A.pkl\"),\n",
    "#     source_or_target_dataset=\"source\",\n",
    "#     x_transform_func=global_x_transform_func,\n",
    "#     domain_modifier=lambda u: f\"oracle2_{u}\"\n",
    "# )"
   ]
  },
  {
   "cell_type": "code",
   "execution_count": 17,
   "id": "6f289866",
   "metadata": {
    "execution": {
     "iopub.execute_input": "2022-03-23T09:21:24.655706Z",
     "iopub.status.busy": "2022-03-23T09:21:24.655316Z",
     "iopub.status.idle": "2022-03-23T09:21:24.673922Z",
     "shell.execute_reply": "2022-03-23T09:21:24.673219Z"
    },
    "papermill": {
     "duration": 0.041537,
     "end_time": "2022-03-23T09:21:24.674075",
     "exception": false,
     "start_time": "2022-03-23T09:21:24.632538",
     "status": "completed"
    },
    "tags": []
   },
   "outputs": [],
   "source": [
    "# add_dataset(\n",
    "#     labels=list(range(19)),\n",
    "#     domains = [0,1,2],\n",
    "#     num_examples_per_domain_per_label=100,\n",
    "#     pickle_path=os.path.join(get_datasets_base_path(), \"metehan.stratified_ds.2022A.pkl\"),\n",
    "#     source_or_target_dataset=\"target\",\n",
    "#     x_transform_func=global_x_transform_func,\n",
    "#     domain_modifier=lambda u: f\"met_{u}\"\n",
    "# )"
   ]
  },
  {
   "cell_type": "code",
   "execution_count": 18,
   "id": "86a863c3",
   "metadata": {
    "execution": {
     "iopub.execute_input": "2022-03-23T09:21:24.724357Z",
     "iopub.status.busy": "2022-03-23T09:21:24.723988Z",
     "iopub.status.idle": "2022-03-23T09:21:24.743905Z",
     "shell.execute_reply": "2022-03-23T09:21:24.743097Z"
    },
    "papermill": {
     "duration": 0.043214,
     "end_time": "2022-03-23T09:21:24.744060",
     "exception": false,
     "start_time": "2022-03-23T09:21:24.700846",
     "status": "completed"
    },
    "tags": []
   },
   "outputs": [],
   "source": [
    "# # from steves_utils.wisig.utils import (\n",
    "# #     ALL_NODES_MINIMUM_100_EXAMPLES,\n",
    "# #     ALL_NODES_MINIMUM_500_EXAMPLES,\n",
    "# #     ALL_NODES_MINIMUM_1000_EXAMPLES,\n",
    "# #     ALL_DAYS\n",
    "# # )\n",
    "\n",
    "# import steves_utils.wisig.utils as wisig\n",
    "\n",
    "\n",
    "# add_dataset(\n",
    "#     labels=wisig.ALL_NODES_MINIMUM_100_EXAMPLES,\n",
    "#     domains = wisig.ALL_DAYS,\n",
    "#     num_examples_per_domain_per_label=100,\n",
    "#     pickle_path=os.path.join(get_datasets_base_path(), \"wisig.node3-19.stratified_ds.2022A.pkl\"),\n",
    "#     source_or_target_dataset=\"target\",\n",
    "#     x_transform_func=global_x_transform_func,\n",
    "#     domain_modifier=lambda u: f\"wisig_{u}\"\n",
    "# )"
   ]
  },
  {
   "cell_type": "code",
   "execution_count": 19,
   "id": "fd5442bc",
   "metadata": {
    "execution": {
     "iopub.execute_input": "2022-03-23T09:21:24.797359Z",
     "iopub.status.busy": "2022-03-23T09:21:24.796979Z",
     "iopub.status.idle": "2022-03-23T09:21:24.815218Z",
     "shell.execute_reply": "2022-03-23T09:21:24.814421Z"
    },
    "papermill": {
     "duration": 0.043642,
     "end_time": "2022-03-23T09:21:24.815369",
     "exception": false,
     "start_time": "2022-03-23T09:21:24.771727",
     "status": "completed"
    },
    "tags": []
   },
   "outputs": [],
   "source": [
    "###################################\n",
    "# Build the dataset\n",
    "###################################\n",
    "train_original_source = Iterable_Aggregator(train_original_source, p.seed)\n",
    "val_original_source = Iterable_Aggregator(val_original_source, p.seed)\n",
    "test_original_source = Iterable_Aggregator(test_original_source, p.seed)\n",
    "\n",
    "\n",
    "train_original_target = Iterable_Aggregator(train_original_target, p.seed)\n",
    "val_original_target = Iterable_Aggregator(val_original_target, p.seed)\n",
    "test_original_target = Iterable_Aggregator(test_original_target, p.seed)\n",
    "\n",
    "# For CNN We only use X and Y. And we only train on the source.\n",
    "# Properly form the data using a transform lambda and Lazy_Iterable_Wrapper. Finally wrap them in a dataloader\n",
    "\n",
    "transform_lambda = lambda ex: ex[1] # Original is (<domain>, <episode>) so we strip down to episode only\n",
    "\n",
    "train_processed_source = Lazy_Iterable_Wrapper(train_original_source, transform_lambda)\n",
    "val_processed_source   = Lazy_Iterable_Wrapper(val_original_source, transform_lambda)\n",
    "test_processed_source  = Lazy_Iterable_Wrapper(test_original_source, transform_lambda)\n",
    "\n",
    "train_processed_target = Lazy_Iterable_Wrapper(train_original_target, transform_lambda)\n",
    "val_processed_target   = Lazy_Iterable_Wrapper(val_original_target, transform_lambda)\n",
    "test_processed_target  = Lazy_Iterable_Wrapper(test_original_target, transform_lambda)\n",
    "\n",
    "datasets = EasyDict({\n",
    "    \"source\": {\n",
    "        \"original\": {\"train\":train_original_source, \"val\":val_original_source, \"test\":test_original_source},\n",
    "        \"processed\": {\"train\":train_processed_source, \"val\":val_processed_source, \"test\":test_processed_source}\n",
    "    },\n",
    "    \"target\": {\n",
    "        \"original\": {\"train\":train_original_target, \"val\":val_original_target, \"test\":test_original_target},\n",
    "        \"processed\": {\"train\":train_processed_target, \"val\":val_processed_target, \"test\":test_processed_target}\n",
    "    },\n",
    "})"
   ]
  },
  {
   "cell_type": "code",
   "execution_count": 20,
   "id": "5b3c01fc",
   "metadata": {
    "execution": {
     "iopub.execute_input": "2022-03-23T09:21:24.867981Z",
     "iopub.status.busy": "2022-03-23T09:21:24.867591Z",
     "iopub.status.idle": "2022-03-23T09:21:58.693598Z",
     "shell.execute_reply": "2022-03-23T09:21:58.692874Z"
    },
    "papermill": {
     "duration": 33.849866,
     "end_time": "2022-03-23T09:21:58.693785",
     "exception": false,
     "start_time": "2022-03-23T09:21:24.843919",
     "status": "completed"
    },
    "tags": []
   },
   "outputs": [
    {
     "name": "stdout",
     "output_type": "stream",
     "text": [
      "{'ORACLE.run1_38', 'ORACLE.run1_14', 'ORACLE.run1_8', 'ORACLE.run1_32', 'ORACLE.run1_44', 'ORACLE.run1_20', 'ORACLE.run1_50', 'ORACLE.run1_26'}\n"
     ]
    },
    {
     "name": "stdout",
     "output_type": "stream",
     "text": [
      "{'CORES_2', 'CORES_1', 'CORES_4', 'CORES_5', 'CORES_3'}\n"
     ]
    },
    {
     "name": "stdout",
     "output_type": "stream",
     "text": [
      "tensor([[[-1.3566,  0.4052, -0.1762,  ...,  0.8985, -0.0705, -0.3700],\n",
      "         [-0.3700,  0.7223,  0.0529,  ...,  1.6913,  0.2995,  1.2861]],\n",
      "\n",
      "        [[-0.0513,  1.4358, -0.1538,  ..., -0.8205, -0.4444,  0.6324],\n",
      "         [ 0.3931, -2.0169, -1.2136,  ...,  0.1026, -1.0939,  0.8205]],\n",
      "\n",
      "        [[ 0.3392,  0.2500, -0.1964,  ...,  0.2857,  0.1785, -0.2143],\n",
      "         [-1.1606, -1.2141,  0.6071,  ...,  0.0536,  0.2321,  0.1250]],\n",
      "\n",
      "        ...,\n",
      "\n",
      "        [[ 1.2825, -0.1789,  0.4175,  ..., -0.9842, -0.1193,  1.2228],\n",
      "         [ 0.2088,  1.7149,  0.1491,  ...,  0.3430, -0.4921, -1.1035]],\n",
      "\n",
      "        [[ 0.6304, -0.7204, -0.2101,  ...,  0.3002,  0.3452,  0.1051],\n",
      "         [ 0.4352, -1.0206,  0.6604,  ..., -1.6509, -0.8705,  0.1051]],\n",
      "\n",
      "        [[ 0.8216,  0.6872, -0.6274,  ...,  0.5079,  0.5079,  0.9560],\n",
      "         [-0.0896, -0.4930, -0.2988,  ...,  0.1344, -0.0149, -0.4183]]])\n"
     ]
    }
   ],
   "source": [
    "from steves_utils.transforms import get_average_magnitude, get_average_power\n",
    "\n",
    "print(set([u for u,_ in val_original_source]))\n",
    "print(set([u for u,_ in val_original_target]))\n",
    "\n",
    "s_x, s_y, q_x, q_y, _ = next(iter(train_processed_source))\n",
    "print(s_x)\n",
    "\n",
    "# for ds in [\n",
    "#     train_processed_source,\n",
    "#     val_processed_source,\n",
    "#     test_processed_source,\n",
    "#     train_processed_target,\n",
    "#     val_processed_target,\n",
    "#     test_processed_target\n",
    "# ]:\n",
    "#     for s_x, s_y, q_x, q_y, _ in ds:\n",
    "#         for X in (s_x, q_x):\n",
    "#             for x in X:\n",
    "#                 assert np.isclose(get_average_magnitude(x.numpy()), 1.0)\n",
    "#                 assert np.isclose(get_average_power(x.numpy()), 1.0)\n",
    "                "
   ]
  },
  {
   "cell_type": "code",
   "execution_count": 21,
   "id": "bbdacba1",
   "metadata": {
    "execution": {
     "iopub.execute_input": "2022-03-23T09:21:58.748342Z",
     "iopub.status.busy": "2022-03-23T09:21:58.747969Z",
     "iopub.status.idle": "2022-03-23T09:21:58.978752Z",
     "shell.execute_reply": "2022-03-23T09:21:58.977985Z"
    },
    "papermill": {
     "duration": 0.258159,
     "end_time": "2022-03-23T09:21:58.978948",
     "exception": false,
     "start_time": "2022-03-23T09:21:58.720789",
     "status": "completed"
    },
    "tags": []
   },
   "outputs": [
    {
     "name": "stdout",
     "output_type": "stream",
     "text": [
      "(2, 256)\n"
     ]
    }
   ],
   "source": [
    "###################################\n",
    "# Build the model\n",
    "###################################\n",
    "# easfsl only wants a tuple for the shape\n",
    "model = Steves_Prototypical_Network(x_net, device=p.device, x_shape=tuple(p.x_shape))\n",
    "optimizer = Adam(params=model.parameters(), lr=p.lr)"
   ]
  },
  {
   "cell_type": "code",
   "execution_count": 22,
   "id": "22b39ac5",
   "metadata": {
    "execution": {
     "iopub.execute_input": "2022-03-23T09:21:59.036596Z",
     "iopub.status.busy": "2022-03-23T09:21:59.036222Z",
     "iopub.status.idle": "2022-03-23T13:22:21.689041Z",
     "shell.execute_reply": "2022-03-23T13:22:21.688526Z"
    },
    "papermill": {
     "duration": 14422.679497,
     "end_time": "2022-03-23T13:22:21.689162",
     "exception": false,
     "start_time": "2022-03-23T09:21:59.009665",
     "status": "completed"
    },
    "tags": []
   },
   "outputs": [
    {
     "name": "stdout",
     "output_type": "stream",
     "text": [
      "epoch: 1, [batch: 1 / 33600], examples_per_second: 6.5037, train_label_loss: 2.8087, \n"
     ]
    },
    {
     "name": "stdout",
     "output_type": "stream",
     "text": [
      "epoch: 1, [batch: 3360 / 33600], examples_per_second: 3213.6598, train_label_loss: 1.4395, \n"
     ]
    },
    {
     "name": "stdout",
     "output_type": "stream",
     "text": [
      "epoch: 1, [batch: 6720 / 33600], examples_per_second: 3396.1435, train_label_loss: 0.5660, \n"
     ]
    },
    {
     "name": "stdout",
     "output_type": "stream",
     "text": [
      "epoch: 1, [batch: 10080 / 33600], examples_per_second: 3625.7817, train_label_loss: 1.7894, \n"
     ]
    },
    {
     "name": "stdout",
     "output_type": "stream",
     "text": [
      "epoch: 1, [batch: 13440 / 33600], examples_per_second: 3867.3210, train_label_loss: 0.9682, \n"
     ]
    },
    {
     "name": "stdout",
     "output_type": "stream",
     "text": [
      "epoch: 1, [batch: 16800 / 33600], examples_per_second: 3898.7562, train_label_loss: 0.6981, \n"
     ]
    },
    {
     "name": "stdout",
     "output_type": "stream",
     "text": [
      "epoch: 1, [batch: 20160 / 33600], examples_per_second: 3797.5734, train_label_loss: 0.9314, \n"
     ]
    },
    {
     "name": "stdout",
     "output_type": "stream",
     "text": [
      "epoch: 1, [batch: 23520 / 33600], examples_per_second: 4062.5400, train_label_loss: 1.0558, \n"
     ]
    },
    {
     "name": "stdout",
     "output_type": "stream",
     "text": [
      "epoch: 1, [batch: 26880 / 33600], examples_per_second: 4425.2819, train_label_loss: 0.4781, \n"
     ]
    },
    {
     "name": "stdout",
     "output_type": "stream",
     "text": [
      "epoch: 1, [batch: 30240 / 33600], examples_per_second: 3850.6009, train_label_loss: 0.7328, \n"
     ]
    },
    {
     "name": "stdout",
     "output_type": "stream",
     "text": [
      "=============================================================\n",
      "epoch: 1, source_val_acc_label: 0.6458, target_val_acc_label: 0.9685, source_val_label_loss: 0.9435, target_val_label_loss: 0.1504, \n",
      "=============================================================\n"
     ]
    },
    {
     "name": "stdout",
     "output_type": "stream",
     "text": [
      "New best\n"
     ]
    },
    {
     "name": "stdout",
     "output_type": "stream",
     "text": [
      "epoch: 2, [batch: 1 / 33600], examples_per_second: 1.0216, train_label_loss: 1.2200, \n"
     ]
    },
    {
     "name": "stdout",
     "output_type": "stream",
     "text": [
      "epoch: 2, [batch: 3360 / 33600], examples_per_second: 3892.1686, train_label_loss: 0.6996, \n"
     ]
    },
    {
     "name": "stdout",
     "output_type": "stream",
     "text": [
      "epoch: 2, [batch: 6720 / 33600], examples_per_second: 3971.5296, train_label_loss: 1.2158, \n"
     ]
    },
    {
     "name": "stdout",
     "output_type": "stream",
     "text": [
      "epoch: 2, [batch: 10080 / 33600], examples_per_second: 3930.9570, train_label_loss: 0.6276, \n"
     ]
    },
    {
     "name": "stdout",
     "output_type": "stream",
     "text": [
      "epoch: 2, [batch: 13440 / 33600], examples_per_second: 3873.3875, train_label_loss: 0.6078, \n"
     ]
    },
    {
     "name": "stdout",
     "output_type": "stream",
     "text": [
      "epoch: 2, [batch: 16800 / 33600], examples_per_second: 3944.9481, train_label_loss: 0.7625, \n"
     ]
    },
    {
     "name": "stdout",
     "output_type": "stream",
     "text": [
      "epoch: 2, [batch: 20160 / 33600], examples_per_second: 3906.4465, train_label_loss: 0.4574, \n"
     ]
    },
    {
     "name": "stdout",
     "output_type": "stream",
     "text": [
      "epoch: 2, [batch: 23520 / 33600], examples_per_second: 4249.2734, train_label_loss: 0.5844, \n"
     ]
    },
    {
     "name": "stdout",
     "output_type": "stream",
     "text": [
      "epoch: 2, [batch: 26880 / 33600], examples_per_second: 4612.3327, train_label_loss: 1.3569, \n"
     ]
    },
    {
     "name": "stdout",
     "output_type": "stream",
     "text": [
      "epoch: 2, [batch: 30240 / 33600], examples_per_second: 3905.2953, train_label_loss: 0.5275, \n"
     ]
    },
    {
     "name": "stdout",
     "output_type": "stream",
     "text": [
      "=============================================================\n",
      "epoch: 2, source_val_acc_label: 0.6715, target_val_acc_label: 0.9640, source_val_label_loss: 0.8646, target_val_label_loss: 0.2174, \n",
      "=============================================================\n"
     ]
    },
    {
     "name": "stdout",
     "output_type": "stream",
     "text": [
      "epoch: 3, [batch: 1 / 33600], examples_per_second: 1.0238, train_label_loss: 0.4621, \n"
     ]
    },
    {
     "name": "stdout",
     "output_type": "stream",
     "text": [
      "epoch: 3, [batch: 3360 / 33600], examples_per_second: 3821.0269, train_label_loss: 0.4929, \n"
     ]
    },
    {
     "name": "stdout",
     "output_type": "stream",
     "text": [
      "epoch: 3, [batch: 6720 / 33600], examples_per_second: 3904.7269, train_label_loss: 1.2742, \n"
     ]
    },
    {
     "name": "stdout",
     "output_type": "stream",
     "text": [
      "epoch: 3, [batch: 10080 / 33600], examples_per_second: 3903.6807, train_label_loss: 0.5605, \n"
     ]
    },
    {
     "name": "stdout",
     "output_type": "stream",
     "text": [
      "epoch: 3, [batch: 13440 / 33600], examples_per_second: 3873.1355, train_label_loss: 0.5932, \n"
     ]
    },
    {
     "name": "stdout",
     "output_type": "stream",
     "text": [
      "epoch: 3, [batch: 16800 / 33600], examples_per_second: 3979.4777, train_label_loss: 0.8248, \n"
     ]
    },
    {
     "name": "stdout",
     "output_type": "stream",
     "text": [
      "epoch: 3, [batch: 20160 / 33600], examples_per_second: 4027.8061, train_label_loss: 0.6337, \n"
     ]
    },
    {
     "name": "stdout",
     "output_type": "stream",
     "text": [
      "epoch: 3, [batch: 23520 / 33600], examples_per_second: 4229.9819, train_label_loss: 1.0564, \n"
     ]
    },
    {
     "name": "stdout",
     "output_type": "stream",
     "text": [
      "epoch: 3, [batch: 26880 / 33600], examples_per_second: 4309.1792, train_label_loss: 0.6078, \n"
     ]
    },
    {
     "name": "stdout",
     "output_type": "stream",
     "text": [
      "epoch: 3, [batch: 30240 / 33600], examples_per_second: 4007.2409, train_label_loss: 0.9463, \n"
     ]
    },
    {
     "name": "stdout",
     "output_type": "stream",
     "text": [
      "=============================================================\n",
      "epoch: 3, source_val_acc_label: 0.6992, target_val_acc_label: 0.9680, source_val_label_loss: 0.8003, target_val_label_loss: 0.2162, \n",
      "=============================================================\n"
     ]
    },
    {
     "name": "stdout",
     "output_type": "stream",
     "text": [
      "epoch: 4, [batch: 1 / 33600], examples_per_second: 1.0117, train_label_loss: 1.2660, \n"
     ]
    },
    {
     "name": "stdout",
     "output_type": "stream",
     "text": [
      "epoch: 4, [batch: 3360 / 33600], examples_per_second: 3831.4858, train_label_loss: 0.4325, \n"
     ]
    },
    {
     "name": "stdout",
     "output_type": "stream",
     "text": [
      "epoch: 4, [batch: 6720 / 33600], examples_per_second: 3885.8983, train_label_loss: 0.9819, \n"
     ]
    },
    {
     "name": "stdout",
     "output_type": "stream",
     "text": [
      "epoch: 4, [batch: 10080 / 33600], examples_per_second: 3963.9356, train_label_loss: 0.3833, \n"
     ]
    },
    {
     "name": "stdout",
     "output_type": "stream",
     "text": [
      "epoch: 4, [batch: 13440 / 33600], examples_per_second: 3977.1675, train_label_loss: 0.6510, \n"
     ]
    },
    {
     "name": "stdout",
     "output_type": "stream",
     "text": [
      "epoch: 4, [batch: 16800 / 33600], examples_per_second: 3901.7168, train_label_loss: 0.5575, \n"
     ]
    },
    {
     "name": "stdout",
     "output_type": "stream",
     "text": [
      "epoch: 4, [batch: 20160 / 33600], examples_per_second: 3925.9575, train_label_loss: 0.7139, \n"
     ]
    },
    {
     "name": "stdout",
     "output_type": "stream",
     "text": [
      "epoch: 4, [batch: 23520 / 33600], examples_per_second: 4259.6044, train_label_loss: 0.7556, \n"
     ]
    },
    {
     "name": "stdout",
     "output_type": "stream",
     "text": [
      "epoch: 4, [batch: 26880 / 33600], examples_per_second: 4308.2862, train_label_loss: 0.2810, \n"
     ]
    },
    {
     "name": "stdout",
     "output_type": "stream",
     "text": [
      "epoch: 4, [batch: 30240 / 33600], examples_per_second: 3896.6388, train_label_loss: 0.6199, \n"
     ]
    },
    {
     "name": "stdout",
     "output_type": "stream",
     "text": [
      "=============================================================\n",
      "epoch: 4, source_val_acc_label: 0.7192, target_val_acc_label: 0.9755, source_val_label_loss: 0.7603, target_val_label_loss: 0.2201, \n",
      "=============================================================\n"
     ]
    },
    {
     "name": "stdout",
     "output_type": "stream",
     "text": [
      "New best\n"
     ]
    },
    {
     "name": "stdout",
     "output_type": "stream",
     "text": [
      "epoch: 5, [batch: 1 / 33600], examples_per_second: 1.0100, train_label_loss: 0.7138, \n"
     ]
    },
    {
     "name": "stdout",
     "output_type": "stream",
     "text": [
      "epoch: 5, [batch: 3360 / 33600], examples_per_second: 3820.0263, train_label_loss: 0.5036, \n"
     ]
    },
    {
     "name": "stdout",
     "output_type": "stream",
     "text": [
      "epoch: 5, [batch: 6720 / 33600], examples_per_second: 3932.6812, train_label_loss: 0.5897, \n"
     ]
    },
    {
     "name": "stdout",
     "output_type": "stream",
     "text": [
      "epoch: 5, [batch: 10080 / 33600], examples_per_second: 3922.3925, train_label_loss: 0.7534, \n"
     ]
    },
    {
     "name": "stdout",
     "output_type": "stream",
     "text": [
      "epoch: 5, [batch: 13440 / 33600], examples_per_second: 3884.9478, train_label_loss: 0.5696, \n"
     ]
    },
    {
     "name": "stdout",
     "output_type": "stream",
     "text": [
      "epoch: 5, [batch: 16800 / 33600], examples_per_second: 3929.9576, train_label_loss: 0.8261, \n"
     ]
    },
    {
     "name": "stdout",
     "output_type": "stream",
     "text": [
      "epoch: 5, [batch: 20160 / 33600], examples_per_second: 3931.1443, train_label_loss: 0.6012, \n"
     ]
    },
    {
     "name": "stdout",
     "output_type": "stream",
     "text": [
      "epoch: 5, [batch: 23520 / 33600], examples_per_second: 4204.4456, train_label_loss: 0.4750, \n"
     ]
    },
    {
     "name": "stdout",
     "output_type": "stream",
     "text": [
      "epoch: 5, [batch: 26880 / 33600], examples_per_second: 4312.5226, train_label_loss: 0.4445, \n"
     ]
    },
    {
     "name": "stdout",
     "output_type": "stream",
     "text": [
      "epoch: 5, [batch: 30240 / 33600], examples_per_second: 3935.2879, train_label_loss: 0.1832, \n"
     ]
    },
    {
     "name": "stdout",
     "output_type": "stream",
     "text": [
      "=============================================================\n",
      "epoch: 5, source_val_acc_label: 0.7241, target_val_acc_label: 0.9766, source_val_label_loss: 0.7470, target_val_label_loss: 0.2444, \n",
      "=============================================================\n"
     ]
    },
    {
     "name": "stdout",
     "output_type": "stream",
     "text": [
      "New best\n"
     ]
    },
    {
     "name": "stdout",
     "output_type": "stream",
     "text": [
      "epoch: 6, [batch: 1 / 33600], examples_per_second: 0.9965, train_label_loss: 0.3518, \n"
     ]
    },
    {
     "name": "stdout",
     "output_type": "stream",
     "text": [
      "epoch: 6, [batch: 3360 / 33600], examples_per_second: 3953.0866, train_label_loss: 0.6565, \n"
     ]
    },
    {
     "name": "stdout",
     "output_type": "stream",
     "text": [
      "epoch: 6, [batch: 6720 / 33600], examples_per_second: 4011.8069, train_label_loss: 0.7393, \n"
     ]
    },
    {
     "name": "stdout",
     "output_type": "stream",
     "text": [
      "epoch: 6, [batch: 10080 / 33600], examples_per_second: 3957.5068, train_label_loss: 0.7706, \n"
     ]
    },
    {
     "name": "stdout",
     "output_type": "stream",
     "text": [
      "epoch: 6, [batch: 13440 / 33600], examples_per_second: 3835.5006, train_label_loss: 0.7325, \n"
     ]
    },
    {
     "name": "stdout",
     "output_type": "stream",
     "text": [
      "epoch: 6, [batch: 16800 / 33600], examples_per_second: 3949.0236, train_label_loss: 0.3984, \n"
     ]
    },
    {
     "name": "stdout",
     "output_type": "stream",
     "text": [
      "epoch: 6, [batch: 20160 / 33600], examples_per_second: 3998.2192, train_label_loss: 0.6525, \n"
     ]
    },
    {
     "name": "stdout",
     "output_type": "stream",
     "text": [
      "epoch: 6, [batch: 23520 / 33600], examples_per_second: 4314.2012, train_label_loss: 0.2610, \n"
     ]
    },
    {
     "name": "stdout",
     "output_type": "stream",
     "text": [
      "epoch: 6, [batch: 26880 / 33600], examples_per_second: 4187.4926, train_label_loss: 0.6666, \n"
     ]
    },
    {
     "name": "stdout",
     "output_type": "stream",
     "text": [
      "epoch: 6, [batch: 30240 / 33600], examples_per_second: 3927.0116, train_label_loss: 0.6205, \n"
     ]
    },
    {
     "name": "stdout",
     "output_type": "stream",
     "text": [
      "=============================================================\n",
      "epoch: 6, source_val_acc_label: 0.7332, target_val_acc_label: 0.9790, source_val_label_loss: 0.7412, target_val_label_loss: 0.2291, \n",
      "=============================================================\n"
     ]
    },
    {
     "name": "stdout",
     "output_type": "stream",
     "text": [
      "New best\n"
     ]
    },
    {
     "name": "stdout",
     "output_type": "stream",
     "text": [
      "epoch: 7, [batch: 1 / 33600], examples_per_second: 1.0112, train_label_loss: 0.2962, \n"
     ]
    },
    {
     "name": "stdout",
     "output_type": "stream",
     "text": [
      "epoch: 7, [batch: 3360 / 33600], examples_per_second: 3885.7850, train_label_loss: 0.4891, \n"
     ]
    },
    {
     "name": "stdout",
     "output_type": "stream",
     "text": [
      "epoch: 7, [batch: 6720 / 33600], examples_per_second: 4009.1981, train_label_loss: 0.3208, \n"
     ]
    },
    {
     "name": "stdout",
     "output_type": "stream",
     "text": [
      "epoch: 7, [batch: 10080 / 33600], examples_per_second: 3938.2025, train_label_loss: 0.6642, \n"
     ]
    },
    {
     "name": "stdout",
     "output_type": "stream",
     "text": [
      "epoch: 7, [batch: 13440 / 33600], examples_per_second: 3912.2287, train_label_loss: 0.1752, \n"
     ]
    },
    {
     "name": "stdout",
     "output_type": "stream",
     "text": [
      "epoch: 7, [batch: 16800 / 33600], examples_per_second: 3981.4990, train_label_loss: 0.5037, \n"
     ]
    },
    {
     "name": "stdout",
     "output_type": "stream",
     "text": [
      "epoch: 7, [batch: 20160 / 33600], examples_per_second: 3987.0044, train_label_loss: 0.4533, \n"
     ]
    },
    {
     "name": "stdout",
     "output_type": "stream",
     "text": [
      "epoch: 7, [batch: 23520 / 33600], examples_per_second: 4327.7242, train_label_loss: 0.6773, \n"
     ]
    },
    {
     "name": "stdout",
     "output_type": "stream",
     "text": [
      "epoch: 7, [batch: 26880 / 33600], examples_per_second: 4250.1401, train_label_loss: 0.4815, \n"
     ]
    },
    {
     "name": "stdout",
     "output_type": "stream",
     "text": [
      "epoch: 7, [batch: 30240 / 33600], examples_per_second: 4000.8020, train_label_loss: 0.5194, \n"
     ]
    },
    {
     "name": "stdout",
     "output_type": "stream",
     "text": [
      "=============================================================\n",
      "epoch: 7, source_val_acc_label: 0.7373, target_val_acc_label: 0.9808, source_val_label_loss: 0.7440, target_val_label_loss: 0.2187, \n",
      "=============================================================\n"
     ]
    },
    {
     "name": "stdout",
     "output_type": "stream",
     "text": [
      "New best\n"
     ]
    },
    {
     "name": "stdout",
     "output_type": "stream",
     "text": [
      "epoch: 8, [batch: 1 / 33600], examples_per_second: 1.0180, train_label_loss: 0.1456, \n"
     ]
    },
    {
     "name": "stdout",
     "output_type": "stream",
     "text": [
      "epoch: 8, [batch: 3360 / 33600], examples_per_second: 3904.7324, train_label_loss: 0.2894, \n"
     ]
    },
    {
     "name": "stdout",
     "output_type": "stream",
     "text": [
      "epoch: 8, [batch: 6720 / 33600], examples_per_second: 3931.4688, train_label_loss: 0.1190, \n"
     ]
    },
    {
     "name": "stdout",
     "output_type": "stream",
     "text": [
      "epoch: 8, [batch: 10080 / 33600], examples_per_second: 4000.1807, train_label_loss: 0.2289, \n"
     ]
    },
    {
     "name": "stdout",
     "output_type": "stream",
     "text": [
      "epoch: 8, [batch: 13440 / 33600], examples_per_second: 3883.9559, train_label_loss: 0.3907, \n"
     ]
    },
    {
     "name": "stdout",
     "output_type": "stream",
     "text": [
      "epoch: 8, [batch: 16800 / 33600], examples_per_second: 3908.1140, train_label_loss: 0.6113, \n"
     ]
    },
    {
     "name": "stdout",
     "output_type": "stream",
     "text": [
      "epoch: 8, [batch: 20160 / 33600], examples_per_second: 3896.8985, train_label_loss: 0.3675, \n"
     ]
    },
    {
     "name": "stdout",
     "output_type": "stream",
     "text": [
      "epoch: 8, [batch: 23520 / 33600], examples_per_second: 4297.9862, train_label_loss: 0.2367, \n"
     ]
    },
    {
     "name": "stdout",
     "output_type": "stream",
     "text": [
      "epoch: 8, [batch: 26880 / 33600], examples_per_second: 4276.2952, train_label_loss: 0.3026, \n"
     ]
    },
    {
     "name": "stdout",
     "output_type": "stream",
     "text": [
      "epoch: 8, [batch: 30240 / 33600], examples_per_second: 3893.5876, train_label_loss: 0.0754, \n"
     ]
    },
    {
     "name": "stdout",
     "output_type": "stream",
     "text": [
      "=============================================================\n",
      "epoch: 8, source_val_acc_label: 0.7356, target_val_acc_label: 0.9794, source_val_label_loss: 0.7503, target_val_label_loss: 0.2441, \n",
      "=============================================================\n"
     ]
    },
    {
     "name": "stdout",
     "output_type": "stream",
     "text": [
      "epoch: 9, [batch: 1 / 33600], examples_per_second: 1.0052, train_label_loss: 0.2759, \n"
     ]
    },
    {
     "name": "stdout",
     "output_type": "stream",
     "text": [
      "epoch: 9, [batch: 3360 / 33600], examples_per_second: 3857.2286, train_label_loss: 0.3902, \n"
     ]
    },
    {
     "name": "stdout",
     "output_type": "stream",
     "text": [
      "epoch: 9, [batch: 6720 / 33600], examples_per_second: 3933.7117, train_label_loss: 0.2442, \n"
     ]
    },
    {
     "name": "stdout",
     "output_type": "stream",
     "text": [
      "epoch: 9, [batch: 10080 / 33600], examples_per_second: 4026.5040, train_label_loss: 0.4311, \n"
     ]
    },
    {
     "name": "stdout",
     "output_type": "stream",
     "text": [
      "epoch: 9, [batch: 13440 / 33600], examples_per_second: 3857.9952, train_label_loss: 0.4124, \n"
     ]
    },
    {
     "name": "stdout",
     "output_type": "stream",
     "text": [
      "epoch: 9, [batch: 16800 / 33600], examples_per_second: 3821.2288, train_label_loss: 0.3864, \n"
     ]
    },
    {
     "name": "stdout",
     "output_type": "stream",
     "text": [
      "epoch: 9, [batch: 20160 / 33600], examples_per_second: 3982.5673, train_label_loss: 0.1983, \n"
     ]
    },
    {
     "name": "stdout",
     "output_type": "stream",
     "text": [
      "epoch: 9, [batch: 23520 / 33600], examples_per_second: 4426.0158, train_label_loss: 0.3863, \n"
     ]
    },
    {
     "name": "stdout",
     "output_type": "stream",
     "text": [
      "epoch: 9, [batch: 26880 / 33600], examples_per_second: 4254.3873, train_label_loss: 0.6091, \n"
     ]
    },
    {
     "name": "stdout",
     "output_type": "stream",
     "text": [
      "epoch: 9, [batch: 30240 / 33600], examples_per_second: 3903.7335, train_label_loss: 0.3956, \n"
     ]
    },
    {
     "name": "stdout",
     "output_type": "stream",
     "text": [
      "=============================================================\n",
      "epoch: 9, source_val_acc_label: 0.7353, target_val_acc_label: 0.9804, source_val_label_loss: 0.7699, target_val_label_loss: 0.2424, \n",
      "=============================================================\n"
     ]
    },
    {
     "name": "stdout",
     "output_type": "stream",
     "text": [
      "epoch: 10, [batch: 1 / 33600], examples_per_second: 1.0129, train_label_loss: 0.5530, \n"
     ]
    },
    {
     "name": "stdout",
     "output_type": "stream",
     "text": [
      "epoch: 10, [batch: 3360 / 33600], examples_per_second: 3876.0375, train_label_loss: 0.2710, \n"
     ]
    },
    {
     "name": "stdout",
     "output_type": "stream",
     "text": [
      "epoch: 10, [batch: 6720 / 33600], examples_per_second: 3971.9221, train_label_loss: 0.6449, \n"
     ]
    },
    {
     "name": "stdout",
     "output_type": "stream",
     "text": [
      "epoch: 10, [batch: 10080 / 33600], examples_per_second: 3887.1363, train_label_loss: 0.2747, \n"
     ]
    },
    {
     "name": "stdout",
     "output_type": "stream",
     "text": [
      "epoch: 10, [batch: 13440 / 33600], examples_per_second: 3884.7096, train_label_loss: 0.2972, \n"
     ]
    },
    {
     "name": "stdout",
     "output_type": "stream",
     "text": [
      "epoch: 10, [batch: 16800 / 33600], examples_per_second: 3943.8666, train_label_loss: 0.0749, \n"
     ]
    },
    {
     "name": "stdout",
     "output_type": "stream",
     "text": [
      "epoch: 10, [batch: 20160 / 33600], examples_per_second: 3992.3751, train_label_loss: 0.3536, \n"
     ]
    },
    {
     "name": "stdout",
     "output_type": "stream",
     "text": [
      "epoch: 10, [batch: 23520 / 33600], examples_per_second: 4345.9680, train_label_loss: 0.4232, \n"
     ]
    },
    {
     "name": "stdout",
     "output_type": "stream",
     "text": [
      "epoch: 10, [batch: 26880 / 33600], examples_per_second: 4197.4807, train_label_loss: 0.3938, \n"
     ]
    },
    {
     "name": "stdout",
     "output_type": "stream",
     "text": [
      "epoch: 10, [batch: 30240 / 33600], examples_per_second: 3897.5183, train_label_loss: 0.5343, \n"
     ]
    },
    {
     "name": "stdout",
     "output_type": "stream",
     "text": [
      "=============================================================\n",
      "epoch: 10, source_val_acc_label: 0.7337, target_val_acc_label: 0.9806, source_val_label_loss: 0.7866, target_val_label_loss: 0.2627, \n",
      "=============================================================\n"
     ]
    },
    {
     "name": "stdout",
     "output_type": "stream",
     "text": [
      "epoch: 11, [batch: 1 / 33600], examples_per_second: 1.0034, train_label_loss: 0.3368, \n"
     ]
    },
    {
     "name": "stdout",
     "output_type": "stream",
     "text": [
      "epoch: 11, [batch: 3360 / 33600], examples_per_second: 3854.2729, train_label_loss: 0.3595, \n"
     ]
    },
    {
     "name": "stdout",
     "output_type": "stream",
     "text": [
      "epoch: 11, [batch: 6720 / 33600], examples_per_second: 3919.6689, train_label_loss: 0.1459, \n"
     ]
    },
    {
     "name": "stdout",
     "output_type": "stream",
     "text": [
      "epoch: 11, [batch: 10080 / 33600], examples_per_second: 3851.4055, train_label_loss: 0.4592, \n"
     ]
    },
    {
     "name": "stdout",
     "output_type": "stream",
     "text": [
      "epoch: 11, [batch: 13440 / 33600], examples_per_second: 3887.9355, train_label_loss: 0.1592, \n"
     ]
    },
    {
     "name": "stdout",
     "output_type": "stream",
     "text": [
      "epoch: 11, [batch: 16800 / 33600], examples_per_second: 3962.5303, train_label_loss: 0.5440, \n"
     ]
    },
    {
     "name": "stdout",
     "output_type": "stream",
     "text": [
      "epoch: 11, [batch: 20160 / 33600], examples_per_second: 4149.6876, train_label_loss: 0.3093, \n"
     ]
    },
    {
     "name": "stdout",
     "output_type": "stream",
     "text": [
      "epoch: 11, [batch: 23520 / 33600], examples_per_second: 4424.9319, train_label_loss: 0.3927, \n"
     ]
    },
    {
     "name": "stdout",
     "output_type": "stream",
     "text": [
      "epoch: 11, [batch: 26880 / 33600], examples_per_second: 3994.8193, train_label_loss: 0.3640, \n"
     ]
    },
    {
     "name": "stdout",
     "output_type": "stream",
     "text": [
      "epoch: 11, [batch: 30240 / 33600], examples_per_second: 3882.8187, train_label_loss: 0.3072, \n"
     ]
    },
    {
     "name": "stdout",
     "output_type": "stream",
     "text": [
      "=============================================================\n",
      "epoch: 11, source_val_acc_label: 0.7287, target_val_acc_label: 0.9815, source_val_label_loss: 0.8101, target_val_label_loss: 0.2579, \n",
      "=============================================================\n"
     ]
    },
    {
     "name": "stdout",
     "output_type": "stream",
     "text": [
      "New best\n"
     ]
    },
    {
     "name": "stdout",
     "output_type": "stream",
     "text": [
      "epoch: 12, [batch: 1 / 33600], examples_per_second: 1.0138, train_label_loss: 0.5629, \n"
     ]
    },
    {
     "name": "stdout",
     "output_type": "stream",
     "text": [
      "epoch: 12, [batch: 3360 / 33600], examples_per_second: 3913.0880, train_label_loss: 0.2053, \n"
     ]
    },
    {
     "name": "stdout",
     "output_type": "stream",
     "text": [
      "epoch: 12, [batch: 6720 / 33600], examples_per_second: 4013.5518, train_label_loss: 0.3721, \n"
     ]
    },
    {
     "name": "stdout",
     "output_type": "stream",
     "text": [
      "epoch: 12, [batch: 10080 / 33600], examples_per_second: 3909.8428, train_label_loss: 0.2584, \n"
     ]
    },
    {
     "name": "stdout",
     "output_type": "stream",
     "text": [
      "epoch: 12, [batch: 13440 / 33600], examples_per_second: 3872.9579, train_label_loss: 0.1392, \n"
     ]
    },
    {
     "name": "stdout",
     "output_type": "stream",
     "text": [
      "epoch: 12, [batch: 16800 / 33600], examples_per_second: 3971.7494, train_label_loss: 0.1123, \n"
     ]
    },
    {
     "name": "stdout",
     "output_type": "stream",
     "text": [
      "epoch: 12, [batch: 20160 / 33600], examples_per_second: 4160.2532, train_label_loss: 0.1870, \n"
     ]
    },
    {
     "name": "stdout",
     "output_type": "stream",
     "text": [
      "epoch: 12, [batch: 23520 / 33600], examples_per_second: 4475.4975, train_label_loss: 0.0543, \n"
     ]
    },
    {
     "name": "stdout",
     "output_type": "stream",
     "text": [
      "epoch: 12, [batch: 26880 / 33600], examples_per_second: 4144.8859, train_label_loss: 0.5606, \n"
     ]
    },
    {
     "name": "stdout",
     "output_type": "stream",
     "text": [
      "epoch: 12, [batch: 30240 / 33600], examples_per_second: 3912.7585, train_label_loss: 0.6078, \n"
     ]
    },
    {
     "name": "stdout",
     "output_type": "stream",
     "text": [
      "=============================================================\n",
      "epoch: 12, source_val_acc_label: 0.7284, target_val_acc_label: 0.9810, source_val_label_loss: 0.8271, target_val_label_loss: 0.2823, \n",
      "=============================================================\n"
     ]
    },
    {
     "name": "stdout",
     "output_type": "stream",
     "text": [
      "epoch: 13, [batch: 1 / 33600], examples_per_second: 1.0245, train_label_loss: 0.2703, \n"
     ]
    },
    {
     "name": "stdout",
     "output_type": "stream",
     "text": [
      "epoch: 13, [batch: 3360 / 33600], examples_per_second: 3906.6164, train_label_loss: 0.6287, \n"
     ]
    },
    {
     "name": "stdout",
     "output_type": "stream",
     "text": [
      "epoch: 13, [batch: 6720 / 33600], examples_per_second: 3980.3537, train_label_loss: 0.1353, \n"
     ]
    },
    {
     "name": "stdout",
     "output_type": "stream",
     "text": [
      "epoch: 13, [batch: 10080 / 33600], examples_per_second: 3943.3662, train_label_loss: 0.1148, \n"
     ]
    },
    {
     "name": "stdout",
     "output_type": "stream",
     "text": [
      "epoch: 13, [batch: 13440 / 33600], examples_per_second: 3949.8696, train_label_loss: 0.4262, \n"
     ]
    },
    {
     "name": "stdout",
     "output_type": "stream",
     "text": [
      "epoch: 13, [batch: 16800 / 33600], examples_per_second: 3990.3020, train_label_loss: 0.1663, \n"
     ]
    },
    {
     "name": "stdout",
     "output_type": "stream",
     "text": [
      "epoch: 13, [batch: 20160 / 33600], examples_per_second: 4020.5302, train_label_loss: 0.5807, \n"
     ]
    },
    {
     "name": "stdout",
     "output_type": "stream",
     "text": [
      "epoch: 13, [batch: 23520 / 33600], examples_per_second: 4585.5650, train_label_loss: 0.0517, \n"
     ]
    },
    {
     "name": "stdout",
     "output_type": "stream",
     "text": [
      "epoch: 13, [batch: 26880 / 33600], examples_per_second: 4268.3432, train_label_loss: 0.1056, \n"
     ]
    },
    {
     "name": "stdout",
     "output_type": "stream",
     "text": [
      "epoch: 13, [batch: 30240 / 33600], examples_per_second: 3890.6010, train_label_loss: 0.0239, \n"
     ]
    },
    {
     "name": "stdout",
     "output_type": "stream",
     "text": [
      "=============================================================\n",
      "epoch: 13, source_val_acc_label: 0.7249, target_val_acc_label: 0.9810, source_val_label_loss: 0.8627, target_val_label_loss: 0.2783, \n",
      "=============================================================\n"
     ]
    },
    {
     "name": "stdout",
     "output_type": "stream",
     "text": [
      "epoch: 14, [batch: 1 / 33600], examples_per_second: 1.0175, train_label_loss: 0.3647, \n"
     ]
    },
    {
     "name": "stdout",
     "output_type": "stream",
     "text": [
      "epoch: 14, [batch: 3360 / 33600], examples_per_second: 3813.1155, train_label_loss: 0.2656, \n"
     ]
    },
    {
     "name": "stdout",
     "output_type": "stream",
     "text": [
      "epoch: 14, [batch: 6720 / 33600], examples_per_second: 3876.5904, train_label_loss: 0.2914, \n"
     ]
    },
    {
     "name": "stdout",
     "output_type": "stream",
     "text": [
      "epoch: 14, [batch: 10080 / 33600], examples_per_second: 3892.8392, train_label_loss: 0.1465, \n"
     ]
    },
    {
     "name": "stdout",
     "output_type": "stream",
     "text": [
      "epoch: 14, [batch: 13440 / 33600], examples_per_second: 3993.5564, train_label_loss: 0.5072, \n"
     ]
    },
    {
     "name": "stdout",
     "output_type": "stream",
     "text": [
      "epoch: 14, [batch: 16800 / 33600], examples_per_second: 3996.4101, train_label_loss: 0.3390, \n"
     ]
    },
    {
     "name": "stdout",
     "output_type": "stream",
     "text": [
      "epoch: 14, [batch: 20160 / 33600], examples_per_second: 4052.7397, train_label_loss: 0.1516, \n"
     ]
    },
    {
     "name": "stdout",
     "output_type": "stream",
     "text": [
      "epoch: 14, [batch: 23520 / 33600], examples_per_second: 4332.0178, train_label_loss: 0.2198, \n"
     ]
    },
    {
     "name": "stdout",
     "output_type": "stream",
     "text": [
      "epoch: 14, [batch: 26880 / 33600], examples_per_second: 4195.3804, train_label_loss: 0.1889, \n"
     ]
    },
    {
     "name": "stdout",
     "output_type": "stream",
     "text": [
      "epoch: 14, [batch: 30240 / 33600], examples_per_second: 4286.3541, train_label_loss: 0.2820, \n"
     ]
    },
    {
     "name": "stdout",
     "output_type": "stream",
     "text": [
      "=============================================================\n",
      "epoch: 14, source_val_acc_label: 0.7249, target_val_acc_label: 0.9807, source_val_label_loss: 0.8759, target_val_label_loss: 0.2932, \n",
      "=============================================================\n"
     ]
    },
    {
     "name": "stdout",
     "output_type": "stream",
     "text": [
      "epoch: 15, [batch: 1 / 33600], examples_per_second: 1.1450, train_label_loss: 0.2269, \n"
     ]
    },
    {
     "name": "stdout",
     "output_type": "stream",
     "text": [
      "epoch: 15, [batch: 3360 / 33600], examples_per_second: 4767.9383, train_label_loss: 0.1794, \n"
     ]
    },
    {
     "name": "stdout",
     "output_type": "stream",
     "text": [
      "epoch: 15, [batch: 6720 / 33600], examples_per_second: 5083.9173, train_label_loss: 0.2658, \n"
     ]
    },
    {
     "name": "stdout",
     "output_type": "stream",
     "text": [
      "epoch: 15, [batch: 10080 / 33600], examples_per_second: 5001.4760, train_label_loss: 0.2390, \n"
     ]
    },
    {
     "name": "stdout",
     "output_type": "stream",
     "text": [
      "epoch: 15, [batch: 13440 / 33600], examples_per_second: 4796.9940, train_label_loss: 0.1132, \n"
     ]
    },
    {
     "name": "stdout",
     "output_type": "stream",
     "text": [
      "epoch: 15, [batch: 16800 / 33600], examples_per_second: 5036.0963, train_label_loss: 0.0326, \n"
     ]
    },
    {
     "name": "stdout",
     "output_type": "stream",
     "text": [
      "epoch: 15, [batch: 20160 / 33600], examples_per_second: 4566.1824, train_label_loss: 0.1385, \n"
     ]
    },
    {
     "name": "stdout",
     "output_type": "stream",
     "text": [
      "epoch: 15, [batch: 23520 / 33600], examples_per_second: 3854.5303, train_label_loss: 0.3775, \n"
     ]
    },
    {
     "name": "stdout",
     "output_type": "stream",
     "text": [
      "epoch: 15, [batch: 26880 / 33600], examples_per_second: 4025.3049, train_label_loss: 0.3635, \n"
     ]
    },
    {
     "name": "stdout",
     "output_type": "stream",
     "text": [
      "epoch: 15, [batch: 30240 / 33600], examples_per_second: 3940.9446, train_label_loss: 0.0554, \n"
     ]
    },
    {
     "name": "stdout",
     "output_type": "stream",
     "text": [
      "=============================================================\n",
      "epoch: 15, source_val_acc_label: 0.7238, target_val_acc_label: 0.9816, source_val_label_loss: 0.9193, target_val_label_loss: 0.2964, \n",
      "=============================================================\n"
     ]
    },
    {
     "name": "stdout",
     "output_type": "stream",
     "text": [
      "New best\n"
     ]
    },
    {
     "name": "stdout",
     "output_type": "stream",
     "text": [
      "epoch: 16, [batch: 1 / 33600], examples_per_second: 1.0076, train_label_loss: 0.1334, \n"
     ]
    },
    {
     "name": "stdout",
     "output_type": "stream",
     "text": [
      "epoch: 16, [batch: 3360 / 33600], examples_per_second: 3856.4555, train_label_loss: 0.2076, \n"
     ]
    },
    {
     "name": "stdout",
     "output_type": "stream",
     "text": [
      "epoch: 16, [batch: 6720 / 33600], examples_per_second: 3866.6091, train_label_loss: 0.3848, \n"
     ]
    },
    {
     "name": "stdout",
     "output_type": "stream",
     "text": [
      "epoch: 16, [batch: 10080 / 33600], examples_per_second: 3897.5037, train_label_loss: 0.8033, \n"
     ]
    },
    {
     "name": "stdout",
     "output_type": "stream",
     "text": [
      "epoch: 16, [batch: 13440 / 33600], examples_per_second: 3786.5638, train_label_loss: 0.3120, \n"
     ]
    },
    {
     "name": "stdout",
     "output_type": "stream",
     "text": [
      "epoch: 16, [batch: 16800 / 33600], examples_per_second: 4291.5416, train_label_loss: 0.2732, \n"
     ]
    },
    {
     "name": "stdout",
     "output_type": "stream",
     "text": [
      "epoch: 16, [batch: 20160 / 33600], examples_per_second: 4279.8703, train_label_loss: 0.5271, \n"
     ]
    },
    {
     "name": "stdout",
     "output_type": "stream",
     "text": [
      "epoch: 16, [batch: 23520 / 33600], examples_per_second: 3872.4181, train_label_loss: 0.2398, \n"
     ]
    },
    {
     "name": "stdout",
     "output_type": "stream",
     "text": [
      "epoch: 16, [batch: 26880 / 33600], examples_per_second: 3913.2871, train_label_loss: 0.2552, \n"
     ]
    },
    {
     "name": "stdout",
     "output_type": "stream",
     "text": [
      "epoch: 16, [batch: 30240 / 33600], examples_per_second: 4043.8663, train_label_loss: 0.2581, \n"
     ]
    },
    {
     "name": "stdout",
     "output_type": "stream",
     "text": [
      "=============================================================\n",
      "epoch: 16, source_val_acc_label: 0.7193, target_val_acc_label: 0.9812, source_val_label_loss: 0.9465, target_val_label_loss: 0.3167, \n",
      "=============================================================\n"
     ]
    },
    {
     "name": "stdout",
     "output_type": "stream",
     "text": [
      "epoch: 17, [batch: 1 / 33600], examples_per_second: 1.0207, train_label_loss: 0.4648, \n"
     ]
    },
    {
     "name": "stdout",
     "output_type": "stream",
     "text": [
      "epoch: 17, [batch: 3360 / 33600], examples_per_second: 3892.0359, train_label_loss: 0.1755, \n"
     ]
    },
    {
     "name": "stdout",
     "output_type": "stream",
     "text": [
      "epoch: 17, [batch: 6720 / 33600], examples_per_second: 3997.2794, train_label_loss: 0.0968, \n"
     ]
    },
    {
     "name": "stdout",
     "output_type": "stream",
     "text": [
      "epoch: 17, [batch: 10080 / 33600], examples_per_second: 3883.0172, train_label_loss: 0.6373, \n"
     ]
    },
    {
     "name": "stdout",
     "output_type": "stream",
     "text": [
      "epoch: 17, [batch: 13440 / 33600], examples_per_second: 3858.1583, train_label_loss: 0.1939, \n"
     ]
    },
    {
     "name": "stdout",
     "output_type": "stream",
     "text": [
      "epoch: 17, [batch: 16800 / 33600], examples_per_second: 4306.6926, train_label_loss: 0.2609, \n"
     ]
    },
    {
     "name": "stdout",
     "output_type": "stream",
     "text": [
      "epoch: 17, [batch: 20160 / 33600], examples_per_second: 4336.8768, train_label_loss: 0.2824, \n"
     ]
    },
    {
     "name": "stdout",
     "output_type": "stream",
     "text": [
      "epoch: 17, [batch: 23520 / 33600], examples_per_second: 3793.3058, train_label_loss: 0.6077, \n"
     ]
    },
    {
     "name": "stdout",
     "output_type": "stream",
     "text": [
      "epoch: 17, [batch: 26880 / 33600], examples_per_second: 3870.0957, train_label_loss: 0.1626, \n"
     ]
    },
    {
     "name": "stdout",
     "output_type": "stream",
     "text": [
      "epoch: 17, [batch: 30240 / 33600], examples_per_second: 3918.0186, train_label_loss: 0.1240, \n"
     ]
    },
    {
     "name": "stdout",
     "output_type": "stream",
     "text": [
      "=============================================================\n",
      "epoch: 17, source_val_acc_label: 0.7176, target_val_acc_label: 0.9799, source_val_label_loss: 0.9536, target_val_label_loss: 0.3507, \n",
      "=============================================================\n"
     ]
    },
    {
     "name": "stdout",
     "output_type": "stream",
     "text": [
      "epoch: 18, [batch: 1 / 33600], examples_per_second: 1.0132, train_label_loss: 0.1783, \n"
     ]
    },
    {
     "name": "stdout",
     "output_type": "stream",
     "text": [
      "epoch: 18, [batch: 3360 / 33600], examples_per_second: 3861.3504, train_label_loss: 0.2559, \n"
     ]
    },
    {
     "name": "stdout",
     "output_type": "stream",
     "text": [
      "epoch: 18, [batch: 6720 / 33600], examples_per_second: 3851.9968, train_label_loss: 0.1840, \n"
     ]
    },
    {
     "name": "stdout",
     "output_type": "stream",
     "text": [
      "epoch: 18, [batch: 10080 / 33600], examples_per_second: 3870.9201, train_label_loss: 0.4211, \n"
     ]
    },
    {
     "name": "stdout",
     "output_type": "stream",
     "text": [
      "epoch: 18, [batch: 13440 / 33600], examples_per_second: 3908.3652, train_label_loss: 0.1953, \n"
     ]
    },
    {
     "name": "stdout",
     "output_type": "stream",
     "text": [
      "epoch: 18, [batch: 16800 / 33600], examples_per_second: 4493.5296, train_label_loss: 0.3190, \n"
     ]
    },
    {
     "name": "stdout",
     "output_type": "stream",
     "text": [
      "epoch: 18, [batch: 20160 / 33600], examples_per_second: 4440.5305, train_label_loss: 0.1415, \n"
     ]
    },
    {
     "name": "stdout",
     "output_type": "stream",
     "text": [
      "epoch: 18, [batch: 23520 / 33600], examples_per_second: 3913.9616, train_label_loss: 0.2933, \n"
     ]
    },
    {
     "name": "stdout",
     "output_type": "stream",
     "text": [
      "epoch: 18, [batch: 26880 / 33600], examples_per_second: 3891.8381, train_label_loss: 0.1583, \n"
     ]
    },
    {
     "name": "stdout",
     "output_type": "stream",
     "text": [
      "epoch: 18, [batch: 30240 / 33600], examples_per_second: 3861.5046, train_label_loss: 0.1362, \n"
     ]
    },
    {
     "name": "stdout",
     "output_type": "stream",
     "text": [
      "=============================================================\n",
      "epoch: 18, source_val_acc_label: 0.7222, target_val_acc_label: 0.9815, source_val_label_loss: 0.9926, target_val_label_loss: 0.3343, \n",
      "=============================================================\n"
     ]
    },
    {
     "name": "stdout",
     "output_type": "stream",
     "text": [
      "epoch: 19, [batch: 1 / 33600], examples_per_second: 1.0120, train_label_loss: 0.0930, \n"
     ]
    },
    {
     "name": "stdout",
     "output_type": "stream",
     "text": [
      "epoch: 19, [batch: 3360 / 33600], examples_per_second: 3936.6856, train_label_loss: 0.2044, \n"
     ]
    },
    {
     "name": "stdout",
     "output_type": "stream",
     "text": [
      "epoch: 19, [batch: 6720 / 33600], examples_per_second: 3951.8764, train_label_loss: 0.1991, \n"
     ]
    },
    {
     "name": "stdout",
     "output_type": "stream",
     "text": [
      "epoch: 19, [batch: 10080 / 33600], examples_per_second: 4073.4232, train_label_loss: 0.2882, \n"
     ]
    },
    {
     "name": "stdout",
     "output_type": "stream",
     "text": [
      "epoch: 19, [batch: 13440 / 33600], examples_per_second: 3990.6980, train_label_loss: 0.0360, \n"
     ]
    },
    {
     "name": "stdout",
     "output_type": "stream",
     "text": [
      "epoch: 19, [batch: 16800 / 33600], examples_per_second: 4482.8782, train_label_loss: 0.3182, \n"
     ]
    },
    {
     "name": "stdout",
     "output_type": "stream",
     "text": [
      "epoch: 19, [batch: 20160 / 33600], examples_per_second: 4456.9961, train_label_loss: 0.3602, \n"
     ]
    },
    {
     "name": "stdout",
     "output_type": "stream",
     "text": [
      "epoch: 19, [batch: 23520 / 33600], examples_per_second: 3944.0238, train_label_loss: 0.2576, \n"
     ]
    },
    {
     "name": "stdout",
     "output_type": "stream",
     "text": [
      "epoch: 19, [batch: 26880 / 33600], examples_per_second: 3929.8163, train_label_loss: 0.4776, \n"
     ]
    },
    {
     "name": "stdout",
     "output_type": "stream",
     "text": [
      "epoch: 19, [batch: 30240 / 33600], examples_per_second: 3946.4138, train_label_loss: 0.1044, \n"
     ]
    },
    {
     "name": "stdout",
     "output_type": "stream",
     "text": [
      "=============================================================\n",
      "epoch: 19, source_val_acc_label: 0.7223, target_val_acc_label: 0.9804, source_val_label_loss: 1.0046, target_val_label_loss: 0.3566, \n",
      "=============================================================\n"
     ]
    },
    {
     "name": "stdout",
     "output_type": "stream",
     "text": [
      "Patience (3) exhausted\n"
     ]
    }
   ],
   "source": [
    "###################################\n",
    "# train\n",
    "###################################\n",
    "jig = PTN_Train_Eval_Test_Jig(model, p.BEST_MODEL_PATH, p.device)\n",
    "\n",
    "jig.train(\n",
    "    train_iterable=datasets.source.processed.train,\n",
    "    source_val_iterable=datasets.source.processed.val,\n",
    "    target_val_iterable=datasets.target.processed.val,\n",
    "    num_epochs=p.n_epoch,\n",
    "    num_logs_per_epoch=p.NUM_LOGS_PER_EPOCH,\n",
    "    patience=p.patience,\n",
    "    optimizer=optimizer,\n",
    "    criteria_for_best=p.criteria_for_best,\n",
    ")"
   ]
  },
  {
   "cell_type": "code",
   "execution_count": 23,
   "id": "31e8fabf",
   "metadata": {
    "execution": {
     "iopub.execute_input": "2022-03-23T13:22:21.857428Z",
     "iopub.status.busy": "2022-03-23T13:22:21.857063Z",
     "iopub.status.idle": "2022-03-23T13:22:21.891279Z",
     "shell.execute_reply": "2022-03-23T13:22:21.890574Z"
    },
    "papermill": {
     "duration": 0.117758,
     "end_time": "2022-03-23T13:22:21.891432",
     "exception": false,
     "start_time": "2022-03-23T13:22:21.773674",
     "status": "completed"
    },
    "tags": []
   },
   "outputs": [],
   "source": [
    "total_experiment_time_secs = time.time() - start_time_secs"
   ]
  },
  {
   "cell_type": "code",
   "execution_count": 24,
   "id": "87b9595b",
   "metadata": {
    "execution": {
     "iopub.execute_input": "2022-03-23T13:22:22.070777Z",
     "iopub.status.busy": "2022-03-23T13:22:22.070388Z",
     "iopub.status.idle": "2022-03-23T13:30:46.442656Z",
     "shell.execute_reply": "2022-03-23T13:30:46.443335Z"
    },
    "papermill": {
     "duration": 504.464567,
     "end_time": "2022-03-23T13:30:46.443581",
     "exception": false,
     "start_time": "2022-03-23T13:22:21.979014",
     "status": "completed"
    },
    "tags": []
   },
   "outputs": [],
   "source": [
    "###################################\n",
    "# Evaluate the model\n",
    "###################################\n",
    "source_test_label_accuracy, source_test_label_loss = jig.test(datasets.source.processed.test)\n",
    "target_test_label_accuracy, target_test_label_loss = jig.test(datasets.target.processed.test)\n",
    "\n",
    "source_val_label_accuracy, source_val_label_loss = jig.test(datasets.source.processed.val)\n",
    "target_val_label_accuracy, target_val_label_loss = jig.test(datasets.target.processed.val)\n",
    "\n",
    "history = jig.get_history()\n",
    "\n",
    "total_epochs_trained = len(history[\"epoch_indices\"])\n",
    "\n",
    "val_dl = Iterable_Aggregator((datasets.source.original.val,datasets.target.original.val))\n",
    "\n",
    "confusion = ptn_confusion_by_domain_over_dataloader(model, p.device, val_dl)\n",
    "per_domain_accuracy = per_domain_accuracy_from_confusion(confusion)\n",
    "\n",
    "# Add a key to per_domain_accuracy for if it was a source domain\n",
    "for domain, accuracy in per_domain_accuracy.items():\n",
    "    per_domain_accuracy[domain] = {\n",
    "        \"accuracy\": accuracy,\n",
    "        \"source?\": domain in p.domains_source\n",
    "    }\n",
    "\n",
    "# Do an independent accuracy assesment JUST TO BE SURE!\n",
    "# _source_test_label_accuracy = independent_accuracy_assesment(model, datasets.source.processed.test, p.device)\n",
    "# _target_test_label_accuracy = independent_accuracy_assesment(model, datasets.target.processed.test, p.device)\n",
    "# _source_val_label_accuracy = independent_accuracy_assesment(model, datasets.source.processed.val, p.device)\n",
    "# _target_val_label_accuracy = independent_accuracy_assesment(model, datasets.target.processed.val, p.device)\n",
    "\n",
    "# assert(_source_test_label_accuracy == source_test_label_accuracy)\n",
    "# assert(_target_test_label_accuracy == target_test_label_accuracy)\n",
    "# assert(_source_val_label_accuracy == source_val_label_accuracy)\n",
    "# assert(_target_val_label_accuracy == target_val_label_accuracy)\n",
    "\n",
    "experiment = {\n",
    "    \"experiment_name\": p.experiment_name,\n",
    "    \"parameters\": dict(p),\n",
    "    \"results\": {\n",
    "        \"source_test_label_accuracy\": source_test_label_accuracy,\n",
    "        \"source_test_label_loss\": source_test_label_loss,\n",
    "        \"target_test_label_accuracy\": target_test_label_accuracy,\n",
    "        \"target_test_label_loss\": target_test_label_loss,\n",
    "        \"source_val_label_accuracy\": source_val_label_accuracy,\n",
    "        \"source_val_label_loss\": source_val_label_loss,\n",
    "        \"target_val_label_accuracy\": target_val_label_accuracy,\n",
    "        \"target_val_label_loss\": target_val_label_loss,\n",
    "        \"total_epochs_trained\": total_epochs_trained,\n",
    "        \"total_experiment_time_secs\": total_experiment_time_secs,\n",
    "        \"confusion\": confusion,\n",
    "        \"per_domain_accuracy\": per_domain_accuracy,\n",
    "    },\n",
    "    \"history\": history,\n",
    "    \"dataset_metrics\": get_dataset_metrics(datasets, \"ptn\"),\n",
    "}"
   ]
  },
  {
   "cell_type": "code",
   "execution_count": 25,
   "id": "54a21829",
   "metadata": {
    "execution": {
     "iopub.execute_input": "2022-03-23T13:30:46.623100Z",
     "iopub.status.busy": "2022-03-23T13:30:46.622726Z",
     "iopub.status.idle": "2022-03-23T13:30:46.834019Z",
     "shell.execute_reply": "2022-03-23T13:30:46.834659Z"
    },
    "papermill": {
     "duration": 0.298677,
     "end_time": "2022-03-23T13:30:46.834844",
     "exception": false,
     "start_time": "2022-03-23T13:30:46.536167",
     "status": "completed"
    },
    "tags": []
   },
   "outputs": [
    {
     "data": {
      "image/png": "[encoded data removed]",
      "text/plain": [
       "<Figure size 1080x504 with 1 Axes>"
      ]
     },
     "metadata": {
      "needs_background": "light"
     },
     "output_type": "display_data"
    }
   ],
   "source": [
    "ax = get_loss_curve(experiment)\n",
    "plt.show()"
   ]
  },
  {
   "cell_type": "code",
   "execution_count": 26,
   "id": "fd8a0f60",
   "metadata": {
    "execution": {
     "iopub.execute_input": "2022-03-23T13:30:47.005272Z",
     "iopub.status.busy": "2022-03-23T13:30:47.004911Z",
     "iopub.status.idle": "2022-03-23T13:30:47.367134Z",
     "shell.execute_reply": "2022-03-23T13:30:47.367447Z"
    },
    "papermill": {
     "duration": 0.446954,
     "end_time": "2022-03-23T13:30:47.367539",
     "exception": false,
     "start_time": "2022-03-23T13:30:46.920585",
     "status": "completed"
    },
    "tags": []
   },
   "outputs": [
    {
     "data": {
      "text/plain": [
       "<AxesSubplot:title={'center':'Results'}>"
      ]
     },
     "execution_count": 26,
     "metadata": {},
     "output_type": "execute_result"
    },
    {
     "data": {
      "image/png": "[encoded data removed]",
      "text/plain": [
       "<Figure size 1080x504 with 1 Axes>"
      ]
     },
     "metadata": {
      "needs_background": "light"
     },
     "output_type": "display_data"
    }
   ],
   "source": [
    "get_results_table(experiment)"
   ]
  },
  {
   "cell_type": "code",
   "execution_count": 27,
   "id": "cf8dc689",
   "metadata": {
    "execution": {
     "iopub.execute_input": "2022-03-23T13:30:47.536961Z",
     "iopub.status.busy": "2022-03-23T13:30:47.536596Z",
     "iopub.status.idle": "2022-03-23T13:30:47.801669Z",
     "shell.execute_reply": "2022-03-23T13:30:47.801962Z"
    },
    "papermill": {
     "duration": 0.351919,
     "end_time": "2022-03-23T13:30:47.802049",
     "exception": false,
     "start_time": "2022-03-23T13:30:47.450130",
     "status": "completed"
    },
    "tags": []
   },
   "outputs": [
    {
     "data": {
      "text/plain": [
       "<AxesSubplot:title={'center':'Per Domain Validation Accuracy'}, xlabel='domain'>"
      ]
     },
     "execution_count": 27,
     "metadata": {},
     "output_type": "execute_result"
    },
    {
     "data": {
      "image/png": "[encoded data removed]",
      "text/plain": [
       "<Figure size 1080x504 with 1 Axes>"
      ]
     },
     "metadata": {
      "needs_background": "light"
     },
     "output_type": "display_data"
    }
   ],
   "source": [
    "get_domain_accuracies(experiment)"
   ]
  },
  {
   "cell_type": "code",
   "execution_count": 28,
   "id": "a74ae082",
   "metadata": {
    "execution": {
     "iopub.execute_input": "2022-03-23T13:30:47.983442Z",
     "iopub.status.busy": "2022-03-23T13:30:47.983014Z",
     "iopub.status.idle": "2022-03-23T13:30:48.008609Z",
     "shell.execute_reply": "2022-03-23T13:30:48.008288Z"
    },
    "papermill": {
     "duration": 0.116892,
     "end_time": "2022-03-23T13:30:48.008678",
     "exception": false,
     "start_time": "2022-03-23T13:30:47.891786",
     "status": "completed"
    },
    "tags": []
   },
   "outputs": [
    {
     "name": "stdout",
     "output_type": "stream",
     "text": [
      "Source Test Label Accuracy: 0.7264973958333333 Target Test Label Accuracy: 0.9813553370786516\n",
      "Source Val Label Accuracy: 0.7237760416666666 Target Val Label Accuracy: 0.9815714285714285\n"
     ]
    }
   ],
   "source": [
    "print(\"Source Test Label Accuracy:\", experiment[\"results\"][\"source_test_label_accuracy\"], \"Target Test Label Accuracy:\", experiment[\"results\"][\"target_test_label_accuracy\"])\n",
    "print(\"Source Val Label Accuracy:\", experiment[\"results\"][\"source_val_label_accuracy\"], \"Target Val Label Accuracy:\", experiment[\"results\"][\"target_val_label_accuracy\"])"
   ]
  },
  {
   "cell_type": "code",
   "execution_count": 29,
   "id": "dacca602",
   "metadata": {
    "execution": {
     "iopub.execute_input": "2022-03-23T13:30:48.187266Z",
     "iopub.status.busy": "2022-03-23T13:30:48.186431Z",
     "iopub.status.idle": "2022-03-23T13:30:48.210144Z",
     "shell.execute_reply": "2022-03-23T13:30:48.209777Z"
    },
    "papermill": {
     "duration": 0.114842,
     "end_time": "2022-03-23T13:30:48.210214",
     "exception": false,
     "start_time": "2022-03-23T13:30:48.095372",
     "status": "completed"
    },
    "tags": [
     "experiment_json"
    ]
   },
   "outputs": [
    {
     "data": {
      "text/plain": [
       "'{\"experiment_name\": \"tl_1v2:cores-oracle.run1\", \"parameters\": {\"experiment_name\": \"tl_1v2:cores-oracle.run1\", \"device\": \"cuda\", \"lr\": 0.0001, \"n_shot\": 3, \"n_query\": 2, \"train_k_factor\": 3, \"val_k_factor\": 2, \"test_k_factor\": 2, \"torch_default_dtype\": \"torch.float32\", \"n_epoch\": 50, \"patience\": 3, \"criteria_for_best\": \"target_accuracy\", \"x_net\": [{\"class\": \"nnReshape\", \"kargs\": {\"shape\": [-1, 1, 2, 256]}}, {\"class\": \"Conv2d\", \"kargs\": {\"in_channels\": 1, \"out_channels\": 256, \"kernel_size\": [1, 7], \"bias\": false, \"padding\": [0, 3]}}, {\"class\": \"ReLU\", \"kargs\": {\"inplace\": true}}, {\"class\": \"BatchNorm2d\", \"kargs\": {\"num_features\": 256}}, {\"class\": \"Conv2d\", \"kargs\": {\"in_channels\": 256, \"out_channels\": 80, \"kernel_size\": [2, 7], \"bias\": true, \"padding\": [0, 3]}}, {\"class\": \"ReLU\", \"kargs\": {\"inplace\": true}}, {\"class\": \"BatchNorm2d\", \"kargs\": {\"num_features\": 80}}, {\"class\": \"Flatten\", \"kargs\": {}}, {\"class\": \"Linear\", \"kargs\": {\"in_features\": 20480, \"out_features\": 256}}, {\"class\": \"ReLU\", \"kargs\": {\"inplace\": true}}, {\"class\": \"BatchNorm1d\", \"kargs\": {\"num_features\": 256}}, {\"class\": \"Linear\", \"kargs\": {\"in_features\": 256, \"out_features\": 256}}], \"NUM_LOGS_PER_EPOCH\": 10, \"BEST_MODEL_PATH\": \"./best_model.pth\", \"n_way\": 16, \"datasets\": [{\"labels\": [\"1-10.\", \"1-11.\", \"1-15.\", \"1-16.\", \"1-17.\", \"1-18.\", \"1-19.\", \"10-4.\", \"10-7.\", \"11-1.\", \"11-14.\", \"11-17.\", \"11-20.\", \"11-7.\", \"13-20.\", \"13-8.\", \"14-10.\", \"14-11.\", \"14-14.\", \"14-7.\", \"15-1.\", \"15-20.\", \"16-1.\", \"16-16.\", \"17-10.\", \"17-11.\", \"17-2.\", \"19-1.\", \"19-16.\", \"19-19.\", \"19-20.\", \"19-3.\", \"2-10.\", \"2-11.\", \"2-17.\", \"2-18.\", \"2-20.\", \"2-3.\", \"2-4.\", \"2-5.\", \"2-6.\", \"2-7.\", \"2-8.\", \"3-13.\", \"3-18.\", \"3-3.\", \"4-1.\", \"4-10.\", \"4-11.\", \"4-19.\", \"5-5.\", \"6-15.\", \"7-10.\", \"7-14.\", \"8-18.\", \"8-20.\", \"8-3.\", \"8-8.\"], \"domains\": [1, 2, 3, 4, 5], \"num_examples_per_domain_per_label\": -1, \"pickle_path\": \"/root/csc500-main/datasets/cores.stratified_ds.2022A.pkl\", \"source_or_target_dataset\": \"target\", \"x_transforms\": [\"unit_power\"], \"episode_transforms\": [], \"domain_prefix\": \"CORES_\"}, {\"labels\": [\"3123D52\", \"3123D65\", \"3123D79\", \"3123D80\", \"3123D54\", \"3123D70\", \"3123D7B\", \"3123D89\", \"3123D58\", \"3123D76\", \"3123D7D\", \"3123EFE\", \"3123D64\", \"3123D78\", \"3123D7E\", \"3124E4A\"], \"domains\": [32, 38, 8, 44, 14, 50, 20, 26], \"num_examples_per_domain_per_label\": 10000, \"pickle_path\": \"/root/csc500-main/datasets/oracle.Run1_10kExamples_stratified_ds.2022A.pkl\", \"source_or_target_dataset\": \"source\", \"x_transforms\": [\"unit_power\"], \"episode_transforms\": [], \"domain_prefix\": \"ORACLE.run1_\"}], \"dataset_seed\": 500, \"seed\": 500, \"x_shape\": [2, 256], \"domains_source\": [\"ORACLE.run1_32\", \"ORACLE.run1_38\", \"ORACLE.run1_8\", \"ORACLE.run1_44\", \"ORACLE.run1_14\", \"ORACLE.run1_50\", \"ORACLE.run1_20\", \"ORACLE.run1_26\"], \"domains_target\": [\"CORES_1\", \"CORES_2\", \"CORES_3\", \"CORES_4\", \"CORES_5\"]}, \"results\": {\"source_test_label_accuracy\": 0.7264973958333333, \"source_test_label_loss\": 0.9099823236465454, \"target_test_label_accuracy\": 0.9813553370786516, \"target_test_label_loss\": 0.30383679270744324, \"source_val_label_accuracy\": 0.7237760416666666, \"source_val_label_loss\": 0.9192782640457153, \"target_val_label_accuracy\": 0.9815714285714285, \"target_val_label_loss\": 0.2963882088661194, \"total_epochs_trained\": 19, \"total_experiment_time_secs\": 14587.898216962814, \"confusion\": {\"ORACLE.run1_50\": {\"7\": {\"7\": 769, \"10\": 38, \"13\": 243, \"5\": 138, \"6\": 8, \"0\": 1, \"4\": 3}, \"10\": {\"10\": 1098, \"8\": 24, \"0\": 34, \"7\": 20, \"13\": 23, \"5\": 1}, \"0\": {\"0\": 1037, \"10\": 57, \"2\": 103, \"13\": 2, \"8\": 1}, \"11\": {\"9\": 91, \"11\": 1068, \"15\": 23, \"14\": 11, \"12\": 5, \"1\": 2}, \"2\": {\"0\": 72, \"2\": 1128}, \"14\": {\"14\": 1180, \"12\": 16, \"11\": 4}, \"9\": {\"9\": 941, \"11\": 175, \"12\": 82, \"14\": 2}, \"13\": {\"13\": 754, \"5\": 199, \"7\": 164, \"4\": 11, \"6\": 57, \"10\": 9, \"0\": 5, \"1\": 1}, \"8\": {\"8\": 1146, \"10\": 34, \"3\": 20}, \"15\": {\"11\": 23, \"1\": 187, \"15\": 893, \"4\": 87, \"6\": 9, \"5\": 1}, \"4\": {\"4\": 605, \"5\": 122, \"1\": 167, \"13\": 23, \"15\": 166, \"6\": 94, \"7\": 22, \"11\": 1}, \"5\": {\"5\": 486, \"13\": 167, \"4\": 172, \"7\": 230, \"6\": 83, \"10\": 9, \"1\": 51, \"0\": 1, \"15\": 1}, \"3\": {\"3\": 1166, \"8\": 34}, \"1\": {\"1\": 752, \"6\": 101, \"15\": 224, \"4\": 106, \"5\": 10, \"13\": 3, \"14\": 1, \"11\": 3}, \"6\": {\"6\": 867, \"4\": 117, \"13\": 56, \"1\": 90, \"5\": 42, \"15\": 19, \"7\": 9}, \"12\": {\"12\": 1093, \"14\": 33, \"9\": 64, \"11\": 10}}, \"ORACLE.run1_14\": {\"14\": {\"14\": 987, \"3\": 33, \"2\": 85, \"13\": 59, \"6\": 32, \"10\": 1, \"4\": 3}, \"6\": {\"13\": 404, \"14\": 33, \"6\": 722, \"2\": 41}, \"5\": {\"5\": 809, \"1\": 114, \"4\": 202, \"2\": 51, \"7\": 9, \"3\": 12, \"15\": 3}, \"15\": {\"7\": 36, \"15\": 1164}, \"11\": {\"11\": 1072, \"9\": 74, \"0\": 54}, \"8\": {\"8\": 1200}, \"12\": {\"12\": 1195, \"9\": 5}, \"1\": {\"1\": 1099, \"4\": 9, \"5\": 91, \"7\": 1}, \"2\": {\"2\": 595, \"14\": 168, \"4\": 92, \"3\": 64, \"5\": 132, \"6\": 70, \"13\": 60, \"15\": 18, \"7\": 1}, \"13\": {\"13\": 432, \"14\": 159, \"6\": 479, \"2\": 106, \"5\": 12, \"4\": 5, \"3\": 3, \"10\": 1, \"15\": 3}, \"3\": {\"3\": 1014, \"4\": 123, \"14\": 39, \"2\": 16, \"5\": 5, \"0\": 3}, \"0\": {\"0\": 1090, \"10\": 59, \"3\": 25, \"11\": 26}, \"9\": {\"9\": 1196, \"11\": 2, \"12\": 2}, \"4\": {\"4\": 855, \"2\": 61, \"3\": 106, \"5\": 159, \"1\": 15, \"14\": 1, \"13\": 2, \"6\": 1}, \"7\": {\"7\": 1172, \"15\": 17, \"1\": 8, \"5\": 3}, \"10\": {\"10\": 1169, \"0\": 31}}, \"ORACLE.run1_32\": {\"4\": {\"4\": 701, \"2\": 213, \"7\": 95, \"5\": 92, \"13\": 52, \"0\": 38, \"8\": 4, \"14\": 5}, \"14\": {\"11\": 264, \"14\": 564, \"7\": 188, \"13\": 50, \"2\": 4, \"3\": 9, \"4\": 20, \"5\": 43, \"8\": 9, \"0\": 49}, \"5\": {\"13\": 245, \"4\": 122, \"7\": 153, \"5\": 475, \"8\": 73, \"3\": 42, \"0\": 44, \"11\": 11, \"2\": 14, \"14\": 21}, \"10\": {\"10\": 1194, \"1\": 6}, \"13\": {\"5\": 214, \"13\": 608, \"7\": 75, \"14\": 24, \"8\": 59, \"3\": 84, \"4\": 99, \"0\": 20, \"11\": 16, \"2\": 1}, \"9\": {\"9\": 1200}, \"6\": {\"6\": 1200}, \"3\": {\"3\": 1091, \"13\": 53, \"11\": 25, \"5\": 18, \"14\": 4, \"8\": 8, \"7\": 1}, \"15\": {\"15\": 1193, \"8\": 7}, \"7\": {\"7\": 584, \"14\": 155, \"4\": 126, \"13\": 88, \"11\": 22, \"5\": 162, \"2\": 27, \"8\": 3, \"0\": 33}, \"12\": {\"12\": 1200}, \"8\": {\"13\": 92, \"8\": 893, \"0\": 121, \"3\": 16, \"5\": 70, \"7\": 1, \"15\": 2, \"14\": 3, \"4\": 2}, \"11\": {\"11\": 955, \"14\": 181, \"13\": 28, \"3\": 17, \"5\": 3, \"7\": 15, \"4\": 1}, \"2\": {\"2\": 955, \"4\": 188, \"7\": 23, \"0\": 26, \"5\": 6, \"14\": 2}, \"1\": {\"1\": 1191, \"10\": 9}, \"0\": {\"0\": 889, \"7\": 30, \"5\": 32, \"8\": 131, \"13\": 13, \"2\": 31, \"14\": 29, \"4\": 45}}, \"ORACLE.run1_44\": {\"8\": {\"8\": 745, \"0\": 396, \"5\": 12, \"15\": 47}, \"11\": {\"11\": 1095, \"13\": 85, \"6\": 19, \"9\": 1}, \"14\": {\"14\": 763, \"4\": 331, \"15\": 74, \"5\": 30, \"0\": 2}, \"10\": {\"10\": 860, \"3\": 3, \"1\": 137, \"2\": 113, \"12\": 85, \"7\": 2}, \"3\": {\"3\": 1041, \"1\": 141, \"12\": 14, \"2\": 4}, \"15\": {\"15\": 958, \"14\": 96, \"0\": 77, \"5\": 31, \"4\": 11, \"8\": 27}, \"2\": {\"2\": 905, \"7\": 157, \"1\": 56, \"10\": 74, \"9\": 2, \"3\": 5, \"6\": 1}, \"12\": {\"12\": 960, \"1\": 180, \"3\": 13, \"10\": 46, \"2\": 1}, \"4\": {\"4\": 872, \"14\": 315, \"15\": 10, \"9\": 1, \"5\": 1, \"13\": 1}, \"1\": {\"12\": 223, \"1\": 703, \"10\": 100, \"3\": 129, \"2\": 45}, \"0\": {\"8\": 325, \"0\": 725, \"5\": 97, \"15\": 52, \"14\": 1}, \"9\": {\"9\": 663, \"7\": 242, \"13\": 155, \"6\": 125, \"2\": 11, \"4\": 2, \"3\": 1, \"11\": 1}, \"5\": {\"5\": 1029, \"0\": 79, \"14\": 45, \"15\": 38, \"8\": 6, \"4\": 3}, \"6\": {\"7\": 38, \"6\": 804, \"13\": 218, \"9\": 123, \"11\": 15, \"2\": 2}, \"7\": {\"7\": 754, \"9\": 214, \"2\": 189, \"6\": 29, \"13\": 10, \"1\": 3, \"10\": 1}, \"13\": {\"9\": 146, \"13\": 813, \"11\": 34, \"6\": 198, \"7\": 6, \"14\": 1, \"4\": 2}}, \"ORACLE.run1_8\": {\"13\": {\"13\": 388, \"0\": 316, \"6\": 43, \"14\": 100, \"4\": 227, \"10\": 115, \"7\": 8, \"1\": 2, \"5\": 1}, \"3\": {\"3\": 1018, \"12\": 52, \"2\": 123, \"15\": 7}, \"15\": {\"15\": 892, \"12\": 237, \"8\": 50, \"3\": 8, \"2\": 11, \"7\": 2}, \"4\": {\"4\": 609, \"10\": 29, \"14\": 166, \"13\": 211, \"0\": 49, \"6\": 123, \"11\": 1, \"7\": 9, \"1\": 3}, \"7\": {\"7\": 848, \"6\": 296, \"0\": 43, \"15\": 2, \"4\": 5, \"8\": 2, \"2\": 2, \"13\": 2}, \"2\": {\"2\": 961, \"3\": 163, \"7\": 24, \"15\": 33, \"12\": 17, \"6\": 1, \"8\": 1}, \"1\": {\"1\": 853, \"11\": 249, \"14\": 55, \"5\": 28, \"10\": 12, \"13\": 1, \"4\": 2}, \"0\": {\"0\": 748, \"13\": 245, \"6\": 59, \"7\": 80, \"4\": 59, \"14\": 6, \"10\": 3}, \"12\": {\"3\": 164, \"15\": 362, \"12\": 640, \"8\": 20, \"2\": 14}, \"6\": {\"6\": 692, \"4\": 132, \"7\": 260, \"13\": 36, \"0\": 70, \"14\": 2, \"8\": 8}, \"11\": {\"11\": 789, \"1\": 376, \"5\": 14, \"8\": 5, \"4\": 1, \"14\": 15}, \"9\": {\"9\": 1200}, \"5\": {\"5\": 1067, \"10\": 77, \"1\": 38, \"14\": 13, \"11\": 5}, \"10\": {\"10\": 801, \"14\": 200, \"13\": 117, \"4\": 41, \"5\": 30, \"1\": 7, \"0\": 3, \"11\": 1}, \"14\": {\"14\": 669, \"10\": 193, \"13\": 78, \"4\": 172, \"1\": 75, \"11\": 8, \"6\": 3, \"5\": 1, \"0\": 1}, \"8\": {\"8\": 1144, \"15\": 41, \"6\": 8, \"12\": 4, \"7\": 3}}, \"ORACLE.run1_20\": {\"6\": {\"6\": 1061, \"14\": 111, \"8\": 5, \"7\": 17, \"10\": 6}, \"11\": {\"11\": 1199, \"13\": 1}, \"5\": {\"5\": 555, \"15\": 92, \"1\": 203, \"12\": 115, \"3\": 27, \"0\": 197, \"2\": 2, \"13\": 2, \"9\": 4, \"4\": 3}, \"14\": {\"14\": 968, \"6\": 117, \"10\": 83, \"8\": 32}, \"2\": {\"9\": 305, \"2\": 563, \"7\": 154, \"1\": 14, \"13\": 54, \"12\": 38, \"3\": 60, \"5\": 6, \"15\": 5, \"0\": 1}, \"7\": {\"7\": 883, \"8\": 69, \"2\": 147, \"11\": 1, \"9\": 40, \"4\": 5, \"13\": 3, \"6\": 15, \"3\": 36, \"12\": 1}, \"3\": {\"9\": 217, \"2\": 88, \"3\": 467, \"12\": 231, \"7\": 40, \"4\": 70, \"1\": 34, \"5\": 37, \"0\": 2, \"8\": 12, \"10\": 2}, \"4\": {\"4\": 954, \"8\": 131, \"3\": 53, \"12\": 11, \"10\": 35, \"5\": 5, \"0\": 4, \"7\": 4, \"9\": 2, \"14\": 1}, \"9\": {\"2\": 295, \"9\": 483, \"12\": 121, \"7\": 49, \"3\": 216, \"1\": 18, \"4\": 6, \"13\": 8, \"5\": 3, \"15\": 1}, \"12\": {\"1\": 198, \"12\": 419, \"3\": 263, \"9\": 136, \"2\": 40, \"5\": 105, \"4\": 14, \"7\": 5, \"15\": 11, \"0\": 8, \"13\": 1}, \"0\": {\"0\": 702, \"5\": 302, \"15\": 121, \"8\": 11, \"2\": 6, \"1\": 15, \"3\": 12, \"12\": 18, \"4\": 6, \"7\": 3, \"13\": 2, \"9\": 2}, \"10\": {\"10\": 1088, \"14\": 63, \"4\": 21, \"6\": 8, \"8\": 18, \"3\": 1, \"7\": 1}, \"8\": {\"7\": 68, \"8\": 925, \"14\": 31, \"3\": 12, \"4\": 136, \"5\": 1, \"6\": 11, \"0\": 1, \"10\": 11, \"2\": 2, \"9\": 2}, \"13\": {\"13\": 1110, \"5\": 1, \"2\": 51, \"9\": 10, \"1\": 7, \"12\": 5, \"7\": 2, \"15\": 14}, \"1\": {\"1\": 544, \"12\": 193, \"5\": 183, \"3\": 30, \"15\": 209, \"2\": 8, \"0\": 10, \"9\": 22, \"13\": 1}, \"15\": {\"15\": 742, \"1\": 193, \"0\": 72, \"5\": 118, \"13\": 40, \"2\": 7, \"12\": 22, \"9\": 4, \"3\": 2}}, \"ORACLE.run1_38\": {\"3\": {\"3\": 1135, \"9\": 34, \"0\": 17, \"6\": 2, \"5\": 2, \"7\": 10}, \"8\": {\"8\": 765, \"10\": 33, \"5\": 232, \"0\": 104, \"15\": 24, \"7\": 35, \"13\": 6, \"1\": 1}, \"0\": {\"3\": 72, \"7\": 172, \"8\": 242, \"0\": 611, \"5\": 67, \"10\": 25, \"9\": 4, \"15\": 3, \"13\": 2, \"4\": 1, \"12\": 1}, \"2\": {\"2\": 1079, \"14\": 87, \"13\": 29, \"15\": 4, \"11\": 1}, \"4\": {\"4\": 1140, \"12\": 55, \"8\": 1, \"7\": 3, \"10\": 1}, \"7\": {\"0\": 118, \"7\": 980, \"8\": 41, \"5\": 58, \"10\": 1, \"4\": 1, \"3\": 1}, \"12\": {\"12\": 1159, \"4\": 35, \"10\": 5, \"14\": 1}, \"6\": {\"5\": 11, \"6\": 1031, \"9\": 158}, \"15\": {\"15\": 883, \"1\": 111, \"8\": 36, \"13\": 140, \"5\": 25, \"10\": 5}, \"11\": {\"11\": 1050, \"14\": 121, \"10\": 14, \"13\": 5, \"2\": 6, \"12\": 4}, \"9\": {\"9\": 888, \"6\": 276, \"3\": 21, \"0\": 3, \"5\": 10, \"7\": 2}, \"14\": {\"14\": 1077, \"2\": 81, \"11\": 22, \"10\": 11, \"13\": 4, \"12\": 5}, \"10\": {\"10\": 936, \"13\": 125, \"12\": 5, \"8\": 47, \"14\": 17, \"5\": 10, \"0\": 20, \"7\": 12, \"15\": 10, \"4\": 5, \"2\": 1, \"11\": 12}, \"5\": {\"5\": 569, \"8\": 310, \"9\": 30, \"15\": 48, \"0\": 70, \"7\": 102, \"3\": 4, \"6\": 44, \"1\": 6, \"13\": 12, \"10\": 5}, \"1\": {\"1\": 1138, \"15\": 58, \"13\": 1, \"5\": 3}, \"13\": {\"13\": 851, \"15\": 165, \"10\": 121, \"2\": 30, \"5\": 9, \"8\": 15, \"1\": 7, \"0\": 2}}, \"ORACLE.run1_26\": {\"5\": {\"5\": 762, \"8\": 35, \"3\": 5, \"13\": 131, \"15\": 130, \"9\": 58, \"2\": 69, \"7\": 8, \"6\": 2}, \"8\": {\"3\": 11, \"8\": 486, \"10\": 145, \"15\": 68, \"4\": 101, \"7\": 92, \"6\": 28, \"0\": 110, \"5\": 33, \"9\": 81, \"14\": 29, \"1\": 3, \"2\": 13}, \"4\": {\"4\": 485, \"0\": 129, \"8\": 103, \"10\": 63, \"14\": 209, \"1\": 116, \"7\": 91, \"9\": 1, \"3\": 2, \"15\": 1}, \"12\": {\"12\": 1198, \"11\": 2}, \"6\": {\"9\": 181, \"6\": 825, \"15\": 44, \"0\": 35, \"10\": 70, \"8\": 37, \"5\": 3, \"13\": 5}, \"7\": {\"2\": 124, \"7\": 631, \"8\": 72, \"4\": 113, \"0\": 18, \"3\": 201, \"10\": 4, \"15\": 12, \"14\": 18, \"13\": 1, \"9\": 3, \"1\": 1, \"5\": 2}, \"10\": {\"0\": 277, \"10\": 452, \"7\": 3, \"4\": 77, \"8\": 175, \"14\": 115, \"9\": 14, \"6\": 51, \"1\": 26, \"5\": 1, \"15\": 8, \"3\": 1}, \"0\": {\"10\": 278, \"0\": 360, \"9\": 9, \"14\": 181, \"8\": 145, \"7\": 27, \"4\": 150, \"1\": 26, \"6\": 21, \"15\": 2, \"2\": 1}, \"15\": {\"5\": 154, \"15\": 465, \"13\": 77, \"9\": 312, \"6\": 26, \"8\": 113, \"0\": 5, \"2\": 25, \"10\": 7, \"4\": 4, \"7\": 9, \"3\": 2, \"14\": 1}, \"9\": {\"15\": 350, \"9\": 503, \"8\": 95, \"6\": 160, \"10\": 13, \"0\": 11, \"7\": 4, \"2\": 3, \"13\": 18, \"5\": 43}, \"11\": {\"11\": 1194, \"12\": 6}, \"14\": {\"1\": 262, \"14\": 400, \"0\": 194, \"4\": 220, \"10\": 92, \"7\": 11, \"8\": 19, \"9\": 1, \"6\": 1}, \"2\": {\"3\": 358, \"7\": 126, \"2\": 490, \"8\": 33, \"5\": 120, \"10\": 2, \"15\": 48, \"13\": 4, \"9\": 14, \"4\": 4, \"1\": 1}, \"13\": {\"13\": 863, \"5\": 210, \"3\": 1, \"15\": 58, \"9\": 38, \"2\": 15, \"6\": 15}, \"3\": {\"3\": 738, \"2\": 269, \"7\": 184, \"4\": 1, \"5\": 1, \"15\": 3, \"0\": 2, \"1\": 1, \"8\": 1}, \"1\": {\"1\": 709, \"4\": 168, \"14\": 236, \"0\": 28, \"7\": 10, \"10\": 38, \"8\": 11}}, \"CORES_4\": {\"38\": {\"38\": 40}, \"3\": {\"3\": 111, \"50\": 2, \"20\": 1, \"25\": 8, \"6\": 1, \"21\": 1}, \"24\": {\"24\": 56}, \"49\": {\"49\": 20}, \"7\": {\"7\": 24}, \"17\": {\"17\": 80}, \"43\": {\"43\": 148}, \"30\": {\"30\": 44}, \"44\": {\"44\": 129, \"4\": 1, \"45\": 1, \"19\": 1}, \"23\": {\"23\": 144}, \"37\": {\"37\": 24}, \"4\": {\"4\": 132}, \"57\": {\"57\": 97, \"35\": 1, \"1\": 2}, \"16\": {\"16\": 96}, \"18\": {\"18\": 107, \"27\": 1}, \"20\": {\"20\": 124}, \"45\": {\"45\": 96}, \"15\": {\"15\": 129, \"11\": 3}, \"52\": {\"52\": 116}, \"19\": {\"19\": 140}, \"54\": {\"54\": 108}, \"56\": {\"56\": 130}, \"40\": {\"40\": 132, \"4\": 2}, \"28\": {\"28\": 32}, \"2\": {\"2\": 36}, \"9\": {\"9\": 120}, \"0\": {\"0\": 53, \"38\": 2, \"2\": 1, \"46\": 8, \"50\": 1, \"20\": 1, \"47\": 8, \"56\": 1, \"32\": 5}, \"36\": {\"36\": 92}, \"55\": {\"55\": 130}, \"35\": {\"35\": 39, \"57\": 1}, \"39\": {\"39\": 20}, \"31\": {\"31\": 28}, \"14\": {\"14\": 11, \"0\": 1, \"33\": 1, \"1\": 2, \"57\": 1}, \"12\": {\"12\": 92}, \"6\": {\"6\": 108, \"53\": 2, \"3\": 2}, \"26\": {\"26\": 24}, \"50\": {\"50\": 118, \"53\": 6, \"21\": 5, \"6\": 2, \"51\": 1}, \"21\": {\"21\": 122}, \"46\": {\"46\": 133, \"47\": 5, \"5\": 1, \"18\": 1}, \"51\": {\"51\": 140}, \"41\": {\"41\": 36}, \"34\": {\"34\": 24}, \"47\": {\"47\": 116, \"5\": 4}, \"5\": {\"5\": 103, \"3\": 1, \"47\": 2, \"42\": 1, \"0\": 1}, \"1\": {\"57\": 1, \"1\": 39}, \"48\": {\"48\": 134}, \"29\": {\"29\": 117, \"27\": 1}, \"22\": {\"22\": 128}, \"10\": {\"10\": 131, \"24\": 1}, \"32\": {\"32\": 24}, \"13\": {\"13\": 112}, \"42\": {\"42\": 32}, \"27\": {\"27\": 138}, \"8\": {\"8\": 142}, \"33\": {\"33\": 36}, \"25\": {\"25\": 132}, \"11\": {\"11\": 101, \"15\": 3}, \"53\": {\"53\": 111, \"50\": 1}}, \"CORES_2\": {\"32\": {\"32\": 28}, \"17\": {\"17\": 104}, \"38\": {\"38\": 20}, \"2\": {\"2\": 32}, \"43\": {\"43\": 144}, \"56\": {\"56\": 144}, \"37\": {\"37\": 36}, \"49\": {\"49\": 24}, \"0\": {\"0\": 48}, \"29\": {\"29\": 123, \"40\": 2, \"45\": 1, \"19\": 2}, \"35\": {\"35\": 32}, \"18\": {\"18\": 48}, \"25\": {\"25\": 136}, \"23\": {\"23\": 124}, \"15\": {\"15\": 145, \"7\": 1}, \"21\": {\"21\": 120}, \"51\": {\"51\": 128}, \"20\": {\"20\": 138}, \"7\": {\"7\": 36}, \"50\": {\"50\": 134, \"25\": 2}, \"31\": {\"31\": 28}, \"30\": {\"30\": 137, \"18\": 1, \"36\": 1, \"46\": 1}, \"19\": {\"19\": 155, \"44\": 1}, \"9\": {\"9\": 144}, \"52\": {\"52\": 124}, \"45\": {\"45\": 125, \"4\": 3}, \"8\": {\"8\": 154}, \"55\": {\"55\": 160}, \"12\": {\"12\": 92}, \"40\": {\"40\": 139, \"9\": 1}, \"28\": {\"28\": 28}, \"36\": {\"36\": 116}, \"39\": {\"39\": 28}, \"46\": {\"46\": 116, \"6\": 4, \"16\": 2}, \"14\": {\"14\": 12, \"55\": 1, \"1\": 4, \"42\": 1, \"0\": 3, \"57\": 2, \"29\": 1}, \"57\": {\"57\": 142}, \"34\": {\"34\": 28}, \"1\": {\"1\": 110, \"27\": 1, \"17\": 1}, \"53\": {\"53\": 136}, \"48\": {\"48\": 130}, \"3\": {\"3\": 90, \"53\": 2}, \"16\": {\"16\": 151, \"11\": 1}, \"6\": {\"6\": 122, \"8\": 1, \"46\": 1}, \"10\": {\"10\": 109, \"24\": 3}, \"13\": {\"13\": 116}, \"26\": {\"26\": 24}, \"24\": {\"24\": 92, \"10\": 4}, \"44\": {\"44\": 99, \"19\": 1}, \"27\": {\"27\": 150}, \"22\": {\"22\": 128}, \"33\": {\"33\": 28}, \"47\": {\"47\": 118}, \"5\": {\"5\": 115, \"47\": 4, \"34\": 1}, \"4\": {\"4\": 138}, \"41\": {\"41\": 20}, \"11\": {\"11\": 149, \"16\": 1}, \"54\": {\"54\": 108}, \"42\": {\"42\": 36}}, \"CORES_3\": {\"5\": {\"5\": 115, \"55\": 1}, \"32\": {\"32\": 28}, \"33\": {\"33\": 28}, \"49\": {\"49\": 20}, \"39\": {\"39\": 15, \"23\": 1}, \"11\": {\"11\": 142}, \"8\": {\"8\": 116}, \"26\": {\"26\": 24}, \"51\": {\"51\": 122}, \"4\": {\"4\": 146}, \"52\": {\"52\": 118}, \"47\": {\"47\": 92}, \"17\": {\"17\": 105, \"27\": 2, \"24\": 1}, \"53\": {\"53\": 136}, \"2\": {\"2\": 32}, \"12\": {\"12\": 92}, \"37\": {\"37\": 28}, \"9\": {\"9\": 148}, \"13\": {\"13\": 128}, \"54\": {\"54\": 100}, \"31\": {\"31\": 28}, \"34\": {\"34\": 32}, \"24\": {\"24\": 103, \"10\": 1}, \"7\": {\"7\": 36}, \"50\": {\"50\": 115, \"3\": 1, \"25\": 1, \"52\": 1}, \"46\": {\"46\": 128}, \"44\": {\"44\": 88}, \"40\": {\"40\": 116}, \"21\": {\"21\": 128}, \"45\": {\"45\": 59, \"4\": 1}, \"16\": {\"16\": 126}, \"14\": {\"14\": 20, \"34\": 4, \"35\": 2, \"22\": 4, \"28\": 1, \"0\": 2, \"57\": 2, \"1\": 4, \"31\": 1}, \"36\": {\"36\": 100}, \"56\": {\"56\": 114}, \"10\": {\"10\": 61, \"24\": 3}, \"18\": {\"18\": 84}, \"48\": {\"48\": 116}, \"38\": {\"38\": 28}, \"27\": {\"27\": 130}, \"42\": {\"42\": 28}, \"15\": {\"15\": 134}, \"1\": {\"1\": 94, \"57\": 6}, \"28\": {\"28\": 28}, \"43\": {\"43\": 136}, \"0\": {\"0\": 124}, \"57\": {\"57\": 121, \"1\": 3}, \"3\": {\"3\": 146, \"52\": 2}, \"29\": {\"29\": 123, \"9\": 1}, \"41\": {\"41\": 28}, \"25\": {\"25\": 144, \"50\": 2}, \"6\": {\"18\": 6, \"20\": 3, \"6\": 73, \"8\": 2, \"30\": 3, \"53\": 1}, \"35\": {\"35\": 28}, \"20\": {\"20\": 126}, \"23\": {\"23\": 134}, \"22\": {\"22\": 140}, \"19\": {\"19\": 116}, \"55\": {\"55\": 124}, \"30\": {\"30\": 120}}, \"CORES_1\": {\"24\": {\"24\": 94, \"22\": 11, \"10\": 2, \"21\": 1}, \"25\": {\"25\": 140}, \"45\": {\"45\": 137, \"42\": 5, \"9\": 2}, \"42\": {\"42\": 40}, \"2\": {\"2\": 36}, \"9\": {\"9\": 150}, \"21\": {\"21\": 110, \"22\": 6, \"23\": 4, \"24\": 1, \"52\": 3}, \"26\": {\"26\": 24}, \"49\": {\"49\": 32}, \"39\": {\"39\": 28}, \"46\": {\"46\": 136}, \"17\": {\"17\": 64}, \"19\": {\"19\": 156}, \"23\": {\"21\": 2, \"23\": 130}, \"1\": {\"1\": 99, \"57\": 1}, \"29\": {\"29\": 139, \"57\": 1}, \"56\": {\"56\": 128, \"1\": 1, \"57\": 15, \"19\": 5, \"44\": 1}, \"37\": {\"37\": 32}, \"33\": {\"33\": 32}, \"55\": {\"55\": 142}, \"30\": {\"30\": 116, \"9\": 4}, \"0\": {\"0\": 151, \"15\": 1}, \"36\": {\"36\": 64}, \"32\": {\"32\": 32}, \"31\": {\"31\": 28}, \"15\": {\"15\": 138}, \"12\": {\"12\": 104, \"53\": 1, \"20\": 2, \"51\": 6, \"13\": 2, \"46\": 1}, \"38\": {\"38\": 24}, \"40\": {\"40\": 146}, \"14\": {\"14\": 18, \"7\": 1, \"26\": 1, \"30\": 2, \"17\": 1, \"8\": 1}, \"13\": {\"13\": 150}, \"48\": {\"48\": 148}, \"34\": {\"34\": 24}, \"44\": {\"44\": 110, \"35\": 4, \"19\": 3, \"57\": 8, \"29\": 3, \"56\": 2}, \"5\": {\"5\": 151, \"48\": 1}, \"11\": {\"11\": 140}, \"7\": {\"7\": 28}, \"18\": {\"18\": 72}, \"52\": {\"52\": 125, \"36\": 1, \"24\": 1, \"22\": 2, \"10\": 3}, \"51\": {\"51\": 142}, \"41\": {\"41\": 23, \"51\": 1}, \"16\": {\"16\": 140}, \"22\": {\"22\": 107, \"24\": 12, \"21\": 5, \"52\": 3, \"11\": 4, \"10\": 2, \"23\": 1}, \"3\": {\"3\": 137, \"13\": 3}, \"54\": {\"54\": 104}, \"27\": {\"27\": 144}, \"20\": {\"20\": 140}, \"8\": {\"8\": 138}, \"50\": {\"50\": 144}, \"57\": {\"57\": 137, \"56\": 2, \"19\": 1}, \"4\": {\"4\": 132}, \"47\": {\"47\": 146}, \"10\": {\"10\": 94, \"22\": 1, \"24\": 1}, \"35\": {\"35\": 36}, \"53\": {\"53\": 126}, \"6\": {\"6\": 94, \"48\": 2}, \"43\": {\"43\": 140}, \"28\": {\"28\": 28}}, \"CORES_5\": {\"35\": {\"35\": 36}, \"57\": {\"57\": 126, \"14\": 5, \"48\": 1}, \"20\": {\"20\": 144}, \"12\": {\"12\": 96}, \"32\": {\"32\": 30, \"27\": 2}, \"25\": {\"25\": 138}, \"44\": {\"5\": 6, \"44\": 137, \"19\": 4, \"27\": 1}, \"31\": {\"31\": 36}, \"11\": {\"11\": 150}, \"47\": {\"47\": 100}, \"23\": {\"23\": 124}, \"43\": {\"43\": 126, \"15\": 18}, \"37\": {\"37\": 24}, \"5\": {\"5\": 125, \"27\": 1, \"19\": 1, \"44\": 1}, \"45\": {\"45\": 117, \"48\": 1, \"27\": 2, \"9\": 2, \"4\": 2}, \"7\": {\"7\": 32}, \"13\": {\"13\": 136}, \"49\": {\"49\": 36}, \"46\": {\"46\": 146, \"3\": 2}, \"16\": {\"16\": 136}, \"54\": {\"54\": 112}, \"19\": {\"19\": 152}, \"55\": {\"55\": 150}, \"30\": {\"30\": 128}, \"34\": {\"34\": 36}, \"50\": {\"50\": 119, \"21\": 12, \"53\": 3}, \"3\": {\"3\": 78, \"49\": 2, \"23\": 1, \"46\": 14, \"47\": 4, \"52\": 1}, \"10\": {\"10\": 68}, \"27\": {\"27\": 141, \"32\": 1}, \"33\": {\"33\": 32}, \"56\": {\"56\": 142}, \"9\": {\"9\": 140, \"48\": 9, \"27\": 1}, \"14\": {\"31\": 7, \"14\": 16, \"35\": 1, \"40\": 7, \"36\": 3, \"34\": 2, \"29\": 1, \"47\": 5, \"57\": 1, \"46\": 1}, \"4\": {\"4\": 99, \"45\": 1}, \"42\": {\"42\": 40}, \"24\": {\"24\": 80}, \"39\": {\"39\": 20}, \"52\": {\"52\": 130}, \"2\": {\"2\": 28}, \"28\": {\"28\": 32}, \"53\": {\"53\": 122}, \"17\": {\"17\": 116}, \"29\": {\"29\": 131, \"34\": 1}, \"38\": {\"38\": 32}, \"15\": {\"15\": 135, \"43\": 9}, \"26\": {\"26\": 24}, \"21\": {\"21\": 143, \"50\": 1}, \"41\": {\"41\": 28}, \"48\": {\"48\": 132, \"9\": 4}, \"22\": {\"22\": 26, \"28\": 1, \"33\": 1}, \"8\": {\"8\": 148}, \"18\": {\"18\": 64}, \"0\": {\"0\": 122}, \"1\": {\"1\": 138}, \"40\": {\"40\": 123, \"19\": 1}, \"6\": {\"6\": 122, \"17\": 2, \"26\": 1, \"8\": 2, \"1\": 1}, \"51\": {\"51\": 142}, \"36\": {\"36\": 92}}}, \"per_domain_accuracy\": {\"ORACLE.run1_50\": {\"accuracy\": 0.7803645833333334, \"source?\": true}, \"ORACLE.run1_14\": {\"accuracy\": 0.82140625, \"source?\": true}, \"ORACLE.run1_32\": {\"accuracy\": 0.7756770833333333, \"source?\": true}, \"ORACLE.run1_44\": {\"accuracy\": 0.7130208333333333, \"source?\": true}, \"ORACLE.run1_8\": {\"accuracy\": 0.6936979166666667, \"source?\": true}, \"ORACLE.run1_20\": {\"accuracy\": 0.65953125, \"source?\": true}, \"ORACLE.run1_38\": {\"accuracy\": 0.7964583333333334, \"source?\": true}, \"ORACLE.run1_26\": {\"accuracy\": 0.5500520833333333, \"source?\": true}, \"CORES_4\": {\"accuracy\": 0.98125, \"source?\": false}, \"CORES_2\": {\"accuracy\": 0.9903441011235955, \"source?\": false}, \"CORES_3\": {\"accuracy\": 0.9884672619047619, \"source?\": false}, \"CORES_1\": {\"accuracy\": 0.9746621621621622, \"source?\": false}, \"CORES_5\": {\"accuracy\": 0.9738128491620112, \"source?\": false}}}, \"history\": {\"epoch_indices\": [1, 2, 3, 4, 5, 6, 7, 8, 9, 10, 11, 12, 13, 14, 15, 16, 17, 18, 19], \"train_label_loss\": [1.0656854045231428, 0.8329976271718208, 0.7433718123003131, 0.6531223151198633, 0.5798864324466281, 0.5256000440401424, 0.4836517934021097, 0.44627003886792366, 0.4133431336378479, 0.3837108151153717, 0.35678990972718955, 0.3315773909914562, 0.3089927428642321, 0.28720941824206553, 0.26878198687515187, 0.25198256510615463, 0.23473436324785107, 0.22009764860941122, 0.20795846004943347], \"source_val_label_loss\": [0.9434582591056824, 0.864554762840271, 0.8003427386283875, 0.7603262066841125, 0.7469552159309387, 0.7411999106407166, 0.7439761757850647, 0.7503476142883301, 0.7698932886123657, 0.7866383790969849, 0.8101381659507751, 0.8271132111549377, 0.8627301454544067, 0.8758925795555115, 0.9192782640457153, 0.9465294480323792, 0.9535987377166748, 0.9925772547721863, 1.0046008825302124], \"target_val_label_loss\": [0.1504456251859665, 0.21739093959331512, 0.21618467569351196, 0.22008870542049408, 0.2444104552268982, 0.22905637323856354, 0.21870392560958862, 0.24411021173000336, 0.2424371987581253, 0.26267093420028687, 0.2578517198562622, 0.28228065371513367, 0.2782824635505676, 0.2931521236896515, 0.2963882088661194, 0.31673023104667664, 0.3507237434387207, 0.3342651426792145, 0.35658857226371765], \"source_val_acc_label\": [0.64578125, 0.6715104166666667, 0.6992252604166667, 0.71919921875, 0.7240950520833334, 0.7331901041666666, 0.7372786458333334, 0.7355533854166667, 0.7353059895833334, 0.7336783854166666, 0.7286848958333333, 0.7283984375, 0.7249153645833334, 0.7248697916666667, 0.7237760416666666, 0.7193229166666667, 0.7176432291666667, 0.7221744791666667, 0.7222591145833334], \"target_val_acc_label\": [0.9685357142857143, 0.9640357142857143, 0.9680357142857143, 0.9754642857142857, 0.9766428571428571, 0.979, 0.98075, 0.9794285714285714, 0.9804285714285714, 0.9805714285714285, 0.9814642857142857, 0.9810357142857142, 0.981, 0.9807142857142858, 0.9815714285714285, 0.98125, 0.9798571428571429, 0.9815357142857143, 0.9803928571428572]}, \"dataset_metrics\": {\"source\": {\"train\": {\"n_unique_x\": 896000, \"n_unique_y\": 16, \"n_batch/episode\": 33600}, \"val\": {\"n_unique_x\": 192000, \"n_unique_y\": 16, \"n_batch/episode\": 4800}, \"test\": {\"n_unique_x\": 192000, \"n_unique_y\": 16, \"n_batch/episode\": 4800}}, \"target\": {\"train\": {\"n_unique_x\": 175197, \"n_unique_y\": 58, \"n_batch/episode\": 6309}, \"val\": {\"n_unique_x\": 37166, \"n_unique_y\": 58, \"n_batch/episode\": 875}, \"test\": {\"n_unique_x\": 37642, \"n_unique_y\": 58, \"n_batch/episode\": 890}}}}'"
      ]
     },
     "execution_count": 29,
     "metadata": {},
     "output_type": "execute_result"
    }
   ],
   "source": [
    "json.dumps(experiment)"
   ]
  }
 ],
 "metadata": {
  "celltoolbar": "Tags",
  "kernelspec": {
   "display_name": "Python 3 (ipykernel)",
   "language": "python",
   "name": "python3"
  },
  "language_info": {
   "codemirror_mode": {
    "name": "ipython",
    "version": 3
   },
   "file_extension": ".py",
   "mimetype": "text/x-python",
   "name": "python",
   "nbconvert_exporter": "python",
   "pygments_lexer": "ipython3",
   "version": "3.8.12"
  },
  "papermill": {
   "default_parameters": {},
   "duration": 15101.53143,
   "end_time": "2022-03-23T13:30:51.945989",
   "environment_variables": {},
   "exception": null,
   "input_path": "/root/csc500-main/csc500-notebooks/templates/tl_ptn_template.ipynb",
   "output_path": "trial.ipynb",
   "parameters": {
    "parameters": {
     "BEST_MODEL_PATH": "./best_model.pth",
     "NUM_LOGS_PER_EPOCH": 10,
     "criteria_for_best": "target_accuracy",
     "dataset_seed": 500,
     "datasets": [
      {
       "domain_prefix": "CORES_",
       "domains": [
        1,
        2,
        3,
        4,
        5
       ],
       "episode_transforms": [],
       "labels": [
        "1-10.",
        "1-11.",
        "1-15.",
        "1-16.",
        "1-17.",
        "1-18.",
        "1-19.",
        "10-4.",
        "10-7.",
        "11-1.",
        "11-14.",
        "11-17.",
        "11-20.",
        "11-7.",
        "13-20.",
        "13-8.",
        "14-10.",
        "14-11.",
        "14-14.",
        "14-7.",
        "15-1.",
        "15-20.",
        "16-1.",
        "16-16.",
        "17-10.",
        "17-11.",
        "17-2.",
        "19-1.",
        "19-16.",
        "19-19.",
        "19-20.",
        "19-3.",
        "2-10.",
        "2-11.",
        "2-17.",
        "2-18.",
        "2-20.",
        "2-3.",
        "2-4.",
        "2-5.",
        "2-6.",
        "2-7.",
        "2-8.",
        "3-13.",
        "3-18.",
        "3-3.",
        "4-1.",
        "4-10.",
        "4-11.",
        "4-19.",
        "5-5.",
        "6-15.",
        "7-10.",
        "7-14.",
        "8-18.",
        "8-20.",
        "8-3.",
        "8-8."
       ],
       "num_examples_per_domain_per_label": -1,
       "pickle_path": "/root/csc500-main/datasets/cores.stratified_ds.2022A.pkl",
       "source_or_target_dataset": "target",
       "x_transforms": [
        "unit_power"
       ]
      },
      {
       "domain_prefix": "ORACLE.run1_",
       "domains": [
        32,
        38,
        8,
        44,
        14,
        50,
        20,
        26
       ],
       "episode_transforms": [],
       "labels": [
        "3123D52",
        "3123D65",
        "3123D79",
        "3123D80",
        "3123D54",
        "3123D70",
        "3123D7B",
        "3123D89",
        "3123D58",
        "3123D76",
        "3123D7D",
        "3123EFE",
        "3123D64",
        "3123D78",
        "3123D7E",
        "3124E4A"
       ],
       "num_examples_per_domain_per_label": 10000,
       "pickle_path": "/root/csc500-main/datasets/oracle.Run1_10kExamples_stratified_ds.2022A.pkl",
       "source_or_target_dataset": "source",
       "x_transforms": [
        "unit_power"
       ]
      }
     ],
     "device": "cuda",
     "experiment_name": "tl_1v2:cores-oracle.run1",
     "lr": 0.0001,
     "n_epoch": 50,
     "n_query": 2,
     "n_shot": 3,
     "n_way": 16,
     "patience": 3,
     "seed": 500,
     "test_k_factor": 2,
     "torch_default_dtype": "torch.float32",
     "train_k_factor": 3,
     "val_k_factor": 2,
     "x_net": [
      {
       "class": "nnReshape",
       "kargs": {
        "shape": [
         -1,
         1,
         2,
         256
        ]
       }
      },
      {
       "class": "Conv2d",
       "kargs": {
        "bias": false,
        "in_channels": 1,
        "kernel_size": [
         1,
         7
        ],
        "out_channels": 256,
        "padding": [
         0,
         3
        ]
       }
      },
      {
       "class": "ReLU",
       "kargs": {
        "inplace": true
       }
      },
      {
       "class": "BatchNorm2d",
       "kargs": {
        "num_features": 256
       }
      },
      {
       "class": "Conv2d",
       "kargs": {
        "bias": true,
        "in_channels": 256,
        "kernel_size": [
         2,
         7
        ],
        "out_channels": 80,
        "padding": [
         0,
         3
        ]
       }
      },
      {
       "class": "ReLU",
       "kargs": {
        "inplace": true
       }
      },
      {
       "class": "BatchNorm2d",
       "kargs": {
        "num_features": 80
       }
      },
      {
       "class": "Flatten",
       "kargs": {}
      },
      {
       "class": "Linear",
       "kargs": {
        "in_features": 20480,
        "out_features": 256
       }
      },
      {
       "class": "ReLU",
       "kargs": {
        "inplace": true
       }
      },
      {
       "class": "BatchNorm1d",
       "kargs": {
        "num_features": 256
       }
      },
      {
       "class": "Linear",
       "kargs": {
        "in_features": 256,
        "out_features": 256
       }
      }
     ]
    }
   },
   "start_time": "2022-03-23T09:19:10.414559",
   "version": "2.3.4"
  }
 },
 "nbformat": 4,
 "nbformat_minor": 5
}