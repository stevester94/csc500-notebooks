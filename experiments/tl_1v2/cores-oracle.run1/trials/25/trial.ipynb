{
 "cells": [
  {
   "cell_type": "markdown",
   "id": "9fea5f46",
   "metadata": {
    "papermill": {
     "duration": 0.029622,
     "end_time": "2022-03-23T07:58:27.495214",
     "exception": false,
     "start_time": "2022-03-23T07:58:27.465592",
     "status": "completed"
    },
    "tags": []
   },
   "source": [
    "# Transfer Learning Template"
   ]
  },
  {
   "cell_type": "code",
   "execution_count": 1,
   "id": "0902182a",
   "metadata": {
    "execution": {
     "iopub.execute_input": "2022-03-23T07:58:27.561593Z",
     "iopub.status.busy": "2022-03-23T07:58:27.554849Z",
     "iopub.status.idle": "2022-03-23T07:58:29.430852Z",
     "shell.execute_reply": "2022-03-23T07:58:29.431547Z"
    },
    "papermill": {
     "duration": 1.910044,
     "end_time": "2022-03-23T07:58:29.431896",
     "exception": false,
     "start_time": "2022-03-23T07:58:27.521852",
     "status": "completed"
    },
    "tags": []
   },
   "outputs": [],
   "source": [
    "%load_ext autoreload\n",
    "%autoreload 2\n",
    "%matplotlib inline\n",
    "\n",
    "    \n",
    "import os, json, sys, time, random\n",
    "import numpy as np\n",
    "import torch\n",
    "from torch.optim import Adam\n",
    "from  easydict import EasyDict\n",
    "import matplotlib.pyplot as plt\n",
    "\n",
    "from steves_models.steves_ptn import Steves_Prototypical_Network\n",
    "\n",
    "from steves_utils.lazy_iterable_wrapper import Lazy_Iterable_Wrapper\n",
    "from steves_utils.iterable_aggregator import Iterable_Aggregator\n",
    "from steves_utils.ptn_train_eval_test_jig import  PTN_Train_Eval_Test_Jig\n",
    "from steves_utils.torch_sequential_builder import build_sequential\n",
    "from steves_utils.torch_utils import get_dataset_metrics, ptn_confusion_by_domain_over_dataloader\n",
    "from steves_utils.utils_v2 import (per_domain_accuracy_from_confusion, get_datasets_base_path)\n",
    "from steves_utils.PTN.utils import independent_accuracy_assesment\n",
    "\n",
    "from torch.utils.data import DataLoader\n",
    "\n",
    "from steves_utils.stratified_dataset.episodic_accessor import Episodic_Accessor_Factory\n",
    "\n",
    "from steves_utils.ptn_do_report import (\n",
    "    get_loss_curve,\n",
    "    get_results_table,\n",
    "    get_parameters_table,\n",
    "    get_domain_accuracies,\n",
    ")\n",
    "\n",
    "from steves_utils.transforms import get_chained_transform"
   ]
  },
  {
   "cell_type": "markdown",
   "id": "41c840b4",
   "metadata": {
    "papermill": {
     "duration": 0.020075,
     "end_time": "2022-03-23T07:58:29.476604",
     "exception": false,
     "start_time": "2022-03-23T07:58:29.456529",
     "status": "completed"
    },
    "tags": []
   },
   "source": [
    "# Allowed Parameters\n",
    "These are allowed parameters, not defaults\n",
    "Each of these values need to be present in the injected parameters (the notebook will raise an exception if they are not present)\n",
    "\n",
    "Papermill uses the cell tag \"parameters\" to inject the real parameters below this cell.\n",
    "Enable tags to see what I mean"
   ]
  },
  {
   "cell_type": "code",
   "execution_count": 2,
   "id": "fd44eb83",
   "metadata": {
    "execution": {
     "iopub.execute_input": "2022-03-23T07:58:29.522866Z",
     "iopub.status.busy": "2022-03-23T07:58:29.522469Z",
     "iopub.status.idle": "2022-03-23T07:58:29.545629Z",
     "shell.execute_reply": "2022-03-23T07:58:29.544796Z"
    },
    "papermill": {
     "duration": 0.048906,
     "end_time": "2022-03-23T07:58:29.545807",
     "exception": false,
     "start_time": "2022-03-23T07:58:29.496901",
     "status": "completed"
    },
    "tags": []
   },
   "outputs": [],
   "source": [
    "required_parameters = {\n",
    "    \"experiment_name\",\n",
    "    \"lr\",\n",
    "    \"device\",\n",
    "    \"seed\",\n",
    "    \"dataset_seed\",\n",
    "    \"n_shot\",\n",
    "    \"n_query\",\n",
    "    \"n_way\",\n",
    "    \"train_k_factor\",\n",
    "    \"val_k_factor\",\n",
    "    \"test_k_factor\",\n",
    "    \"n_epoch\",\n",
    "    \"patience\",\n",
    "    \"criteria_for_best\",\n",
    "    \"x_net\",\n",
    "    \"datasets\",\n",
    "    \"torch_default_dtype\",\n",
    "    \"NUM_LOGS_PER_EPOCH\",\n",
    "    \"BEST_MODEL_PATH\",\n",
    "    \"x_shape\",\n",
    "}"
   ]
  },
  {
   "cell_type": "code",
   "execution_count": 3,
   "id": "fa3f0049",
   "metadata": {
    "execution": {
     "iopub.execute_input": "2022-03-23T07:58:29.613299Z",
     "iopub.status.busy": "2022-03-23T07:58:29.612380Z",
     "iopub.status.idle": "2022-03-23T07:58:29.635105Z",
     "shell.execute_reply": "2022-03-23T07:58:29.634276Z"
    },
    "papermill": {
     "duration": 0.06284,
     "end_time": "2022-03-23T07:58:29.635281",
     "exception": false,
     "start_time": "2022-03-23T07:58:29.572441",
     "status": "completed"
    },
    "tags": [
     "parameters"
    ]
   },
   "outputs": [],
   "source": [
    "from steves_utils.CORES.utils import (\n",
    "    ALL_NODES,\n",
    "    ALL_NODES_MINIMUM_1000_EXAMPLES,\n",
    "    ALL_DAYS\n",
    ")\n",
    "\n",
    "from steves_utils.ORACLE.utils_v2 import (\n",
    "    ALL_DISTANCES_FEET_NARROWED,\n",
    "    ALL_RUNS,\n",
    "    ALL_SERIAL_NUMBERS,\n",
    ")\n",
    "\n",
    "standalone_parameters = {}\n",
    "standalone_parameters[\"experiment_name\"] = \"STANDALONE PTN\"\n",
    "standalone_parameters[\"lr\"] = 0.001\n",
    "standalone_parameters[\"device\"] = \"cuda\"\n",
    "\n",
    "standalone_parameters[\"seed\"] = 1337\n",
    "standalone_parameters[\"dataset_seed\"] = 1337\n",
    "\n",
    "standalone_parameters[\"n_way\"] = 8\n",
    "standalone_parameters[\"n_shot\"] = 3\n",
    "standalone_parameters[\"n_query\"]  = 2\n",
    "standalone_parameters[\"train_k_factor\"] = 1\n",
    "standalone_parameters[\"val_k_factor\"] = 2\n",
    "standalone_parameters[\"test_k_factor\"] = 2\n",
    "\n",
    "\n",
    "standalone_parameters[\"n_epoch\"] = 50\n",
    "\n",
    "standalone_parameters[\"patience\"] = 10\n",
    "standalone_parameters[\"criteria_for_best\"] = \"source_loss\"\n",
    "\n",
    "standalone_parameters[\"datasets\"] = [\n",
    "    {\n",
    "        \"labels\": ALL_SERIAL_NUMBERS,\n",
    "        \"domains\": ALL_DISTANCES_FEET_NARROWED,\n",
    "        \"num_examples_per_domain_per_label\": 100,\n",
    "        \"pickle_path\": os.path.join(get_datasets_base_path(), \"oracle.Run1_framed_2000Examples_stratified_ds.2022A.pkl\"),\n",
    "        \"source_or_target_dataset\": \"source\",\n",
    "        \"x_transforms\": [\"unit_mag\", \"minus_two\"],\n",
    "        \"episode_transforms\": [],\n",
    "        \"domain_prefix\": \"ORACLE_\"\n",
    "    },\n",
    "    {\n",
    "        \"labels\": ALL_NODES,\n",
    "        \"domains\": ALL_DAYS,\n",
    "        \"num_examples_per_domain_per_label\": 100,\n",
    "        \"pickle_path\": os.path.join(get_datasets_base_path(), \"cores.stratified_ds.2022A.pkl\"),\n",
    "        \"source_or_target_dataset\": \"target\",\n",
    "        \"x_transforms\": [\"unit_power\", \"times_zero\"],\n",
    "        \"episode_transforms\": [],\n",
    "        \"domain_prefix\": \"CORES_\"\n",
    "    }   \n",
    "]\n",
    "\n",
    "standalone_parameters[\"torch_default_dtype\"] = \"torch.float32\" \n",
    "\n",
    "\n",
    "\n",
    "standalone_parameters[\"x_net\"] =     [\n",
    "    {\"class\": \"nnReshape\", \"kargs\": {\"shape\":[-1, 1, 2, 256]}},\n",
    "    {\"class\": \"Conv2d\", \"kargs\": { \"in_channels\":1, \"out_channels\":256, \"kernel_size\":(1,7), \"bias\":False, \"padding\":(0,3), },},\n",
    "    {\"class\": \"ReLU\", \"kargs\": {\"inplace\": True}},\n",
    "    {\"class\": \"BatchNorm2d\", \"kargs\": {\"num_features\":256}},\n",
    "\n",
    "    {\"class\": \"Conv2d\", \"kargs\": { \"in_channels\":256, \"out_channels\":80, \"kernel_size\":(2,7), \"bias\":True, \"padding\":(0,3), },},\n",
    "    {\"class\": \"ReLU\", \"kargs\": {\"inplace\": True}},\n",
    "    {\"class\": \"BatchNorm2d\", \"kargs\": {\"num_features\":80}},\n",
    "    {\"class\": \"Flatten\", \"kargs\": {}},\n",
    "\n",
    "    {\"class\": \"Linear\", \"kargs\": {\"in_features\": 80*256, \"out_features\": 256}}, # 80 units per IQ pair\n",
    "    {\"class\": \"ReLU\", \"kargs\": {\"inplace\": True}},\n",
    "    {\"class\": \"BatchNorm1d\", \"kargs\": {\"num_features\":256}},\n",
    "\n",
    "    {\"class\": \"Linear\", \"kargs\": {\"in_features\": 256, \"out_features\": 256}},\n",
    "]\n",
    "\n",
    "# Parameters relevant to results\n",
    "# These parameters will basically never need to change\n",
    "standalone_parameters[\"NUM_LOGS_PER_EPOCH\"] = 10\n",
    "standalone_parameters[\"BEST_MODEL_PATH\"] = \"./best_model.pth\"\n",
    "\n",
    "\n",
    "\n",
    "\n"
   ]
  },
  {
   "cell_type": "code",
   "execution_count": 4,
   "id": "06036084",
   "metadata": {
    "execution": {
     "iopub.execute_input": "2022-03-23T07:58:29.696841Z",
     "iopub.status.busy": "2022-03-23T07:58:29.695886Z",
     "iopub.status.idle": "2022-03-23T07:58:29.716728Z",
     "shell.execute_reply": "2022-03-23T07:58:29.715878Z"
    },
    "papermill": {
     "duration": 0.05658,
     "end_time": "2022-03-23T07:58:29.716897",
     "exception": false,
     "start_time": "2022-03-23T07:58:29.660317",
     "status": "completed"
    },
    "tags": [
     "injected-parameters"
    ]
   },
   "outputs": [],
   "source": [
    "# Parameters\n",
    "parameters = {\n",
    "    \"experiment_name\": \"tl_1v2:cores-oracle.run1\",\n",
    "    \"device\": \"cuda\",\n",
    "    \"lr\": 0.0001,\n",
    "    \"n_shot\": 3,\n",
    "    \"n_query\": 2,\n",
    "    \"train_k_factor\": 3,\n",
    "    \"val_k_factor\": 2,\n",
    "    \"test_k_factor\": 2,\n",
    "    \"torch_default_dtype\": \"torch.float32\",\n",
    "    \"n_epoch\": 50,\n",
    "    \"patience\": 3,\n",
    "    \"criteria_for_best\": \"target_accuracy\",\n",
    "    \"x_net\": [\n",
    "        {\"class\": \"nnReshape\", \"kargs\": {\"shape\": [-1, 1, 2, 256]}},\n",
    "        {\n",
    "            \"class\": \"Conv2d\",\n",
    "            \"kargs\": {\n",
    "                \"in_channels\": 1,\n",
    "                \"out_channels\": 256,\n",
    "                \"kernel_size\": [1, 7],\n",
    "                \"bias\": False,\n",
    "                \"padding\": [0, 3],\n",
    "            },\n",
    "        },\n",
    "        {\"class\": \"ReLU\", \"kargs\": {\"inplace\": True}},\n",
    "        {\"class\": \"BatchNorm2d\", \"kargs\": {\"num_features\": 256}},\n",
    "        {\n",
    "            \"class\": \"Conv2d\",\n",
    "            \"kargs\": {\n",
    "                \"in_channels\": 256,\n",
    "                \"out_channels\": 80,\n",
    "                \"kernel_size\": [2, 7],\n",
    "                \"bias\": True,\n",
    "                \"padding\": [0, 3],\n",
    "            },\n",
    "        },\n",
    "        {\"class\": \"ReLU\", \"kargs\": {\"inplace\": True}},\n",
    "        {\"class\": \"BatchNorm2d\", \"kargs\": {\"num_features\": 80}},\n",
    "        {\"class\": \"Flatten\", \"kargs\": {}},\n",
    "        {\"class\": \"Linear\", \"kargs\": {\"in_features\": 20480, \"out_features\": 256}},\n",
    "        {\"class\": \"ReLU\", \"kargs\": {\"inplace\": True}},\n",
    "        {\"class\": \"BatchNorm1d\", \"kargs\": {\"num_features\": 256}},\n",
    "        {\"class\": \"Linear\", \"kargs\": {\"in_features\": 256, \"out_features\": 256}},\n",
    "    ],\n",
    "    \"NUM_LOGS_PER_EPOCH\": 10,\n",
    "    \"BEST_MODEL_PATH\": \"./best_model.pth\",\n",
    "    \"n_way\": 16,\n",
    "    \"datasets\": [\n",
    "        {\n",
    "            \"labels\": [\n",
    "                \"1-10.\",\n",
    "                \"1-11.\",\n",
    "                \"1-15.\",\n",
    "                \"1-16.\",\n",
    "                \"1-17.\",\n",
    "                \"1-18.\",\n",
    "                \"1-19.\",\n",
    "                \"10-4.\",\n",
    "                \"10-7.\",\n",
    "                \"11-1.\",\n",
    "                \"11-14.\",\n",
    "                \"11-17.\",\n",
    "                \"11-20.\",\n",
    "                \"11-7.\",\n",
    "                \"13-20.\",\n",
    "                \"13-8.\",\n",
    "                \"14-10.\",\n",
    "                \"14-11.\",\n",
    "                \"14-14.\",\n",
    "                \"14-7.\",\n",
    "                \"15-1.\",\n",
    "                \"15-20.\",\n",
    "                \"16-1.\",\n",
    "                \"16-16.\",\n",
    "                \"17-10.\",\n",
    "                \"17-11.\",\n",
    "                \"17-2.\",\n",
    "                \"19-1.\",\n",
    "                \"19-16.\",\n",
    "                \"19-19.\",\n",
    "                \"19-20.\",\n",
    "                \"19-3.\",\n",
    "                \"2-10.\",\n",
    "                \"2-11.\",\n",
    "                \"2-17.\",\n",
    "                \"2-18.\",\n",
    "                \"2-20.\",\n",
    "                \"2-3.\",\n",
    "                \"2-4.\",\n",
    "                \"2-5.\",\n",
    "                \"2-6.\",\n",
    "                \"2-7.\",\n",
    "                \"2-8.\",\n",
    "                \"3-13.\",\n",
    "                \"3-18.\",\n",
    "                \"3-3.\",\n",
    "                \"4-1.\",\n",
    "                \"4-10.\",\n",
    "                \"4-11.\",\n",
    "                \"4-19.\",\n",
    "                \"5-5.\",\n",
    "                \"6-15.\",\n",
    "                \"7-10.\",\n",
    "                \"7-14.\",\n",
    "                \"8-18.\",\n",
    "                \"8-20.\",\n",
    "                \"8-3.\",\n",
    "                \"8-8.\",\n",
    "            ],\n",
    "            \"domains\": [1, 2, 3, 4, 5],\n",
    "            \"num_examples_per_domain_per_label\": -1,\n",
    "            \"pickle_path\": \"/root/csc500-main/datasets/cores.stratified_ds.2022A.pkl\",\n",
    "            \"source_or_target_dataset\": \"source\",\n",
    "            \"x_transforms\": [\"unit_mag\"],\n",
    "            \"episode_transforms\": [],\n",
    "            \"domain_prefix\": \"CORES_\",\n",
    "        },\n",
    "        {\n",
    "            \"labels\": [\n",
    "                \"3123D52\",\n",
    "                \"3123D65\",\n",
    "                \"3123D79\",\n",
    "                \"3123D80\",\n",
    "                \"3123D54\",\n",
    "                \"3123D70\",\n",
    "                \"3123D7B\",\n",
    "                \"3123D89\",\n",
    "                \"3123D58\",\n",
    "                \"3123D76\",\n",
    "                \"3123D7D\",\n",
    "                \"3123EFE\",\n",
    "                \"3123D64\",\n",
    "                \"3123D78\",\n",
    "                \"3123D7E\",\n",
    "                \"3124E4A\",\n",
    "            ],\n",
    "            \"domains\": [32, 38, 8, 44, 14, 50, 20, 26],\n",
    "            \"num_examples_per_domain_per_label\": 10000,\n",
    "            \"pickle_path\": \"/root/csc500-main/datasets/oracle.Run1_10kExamples_stratified_ds.2022A.pkl\",\n",
    "            \"source_or_target_dataset\": \"target\",\n",
    "            \"x_transforms\": [\"unit_mag\"],\n",
    "            \"episode_transforms\": [],\n",
    "            \"domain_prefix\": \"ORACLE.run1_\",\n",
    "        },\n",
    "    ],\n",
    "    \"dataset_seed\": 500,\n",
    "    \"seed\": 500,\n",
    "}\n"
   ]
  },
  {
   "cell_type": "code",
   "execution_count": 5,
   "id": "8fa1cc33",
   "metadata": {
    "execution": {
     "iopub.execute_input": "2022-03-23T07:58:29.771292Z",
     "iopub.status.busy": "2022-03-23T07:58:29.770642Z",
     "iopub.status.idle": "2022-03-23T07:58:29.798879Z",
     "shell.execute_reply": "2022-03-23T07:58:29.798184Z"
    },
    "papermill": {
     "duration": 0.055641,
     "end_time": "2022-03-23T07:58:29.799052",
     "exception": false,
     "start_time": "2022-03-23T07:58:29.743411",
     "status": "completed"
    },
    "tags": []
   },
   "outputs": [],
   "source": [
    "# Set this to True if you want to run this template directly\n",
    "STANDALONE = False\n",
    "if STANDALONE:\n",
    "    print(\"parameters not injected, running with standalone_parameters\")\n",
    "    parameters = standalone_parameters\n",
    "\n",
    "if not 'parameters' in locals() and not 'parameters' in globals():\n",
    "    raise Exception(\"Parameter injection failed\")\n",
    "\n",
    "#Use an easy dict for all the parameters\n",
    "p = EasyDict(parameters)\n",
    "\n",
    "if \"x_shape\" not in p:\n",
    "    p.x_shape = [2,256] # Default to this if we dont supply x_shape\n",
    "\n",
    "\n",
    "supplied_keys = set(p.keys())\n",
    "\n",
    "if  supplied_keys != required_parameters:\n",
    "    print(\"Parameters are incorrect\")\n",
    "    if len(supplied_keys - required_parameters)>0: print(\"Shouldn't have:\", str(supplied_keys - required_parameters))\n",
    "    if len(required_parameters - supplied_keys)>0: print(\"Need to have:\", str(required_parameters - supplied_keys))\n",
    "    raise RuntimeError(\"Parameters are incorrect\")"
   ]
  },
  {
   "cell_type": "code",
   "execution_count": 6,
   "id": "3a028d58",
   "metadata": {
    "execution": {
     "iopub.execute_input": "2022-03-23T07:58:29.851360Z",
     "iopub.status.busy": "2022-03-23T07:58:29.850978Z",
     "iopub.status.idle": "2022-03-23T07:58:29.873882Z",
     "shell.execute_reply": "2022-03-23T07:58:29.873087Z"
    },
    "papermill": {
     "duration": 0.047557,
     "end_time": "2022-03-23T07:58:29.874049",
     "exception": false,
     "start_time": "2022-03-23T07:58:29.826492",
     "status": "completed"
    },
    "tags": []
   },
   "outputs": [],
   "source": [
    "###################################\n",
    "# Set the RNGs and make it all deterministic\n",
    "###################################\n",
    "np.random.seed(p.seed)\n",
    "random.seed(p.seed)\n",
    "torch.manual_seed(p.seed)\n",
    "\n",
    "torch.use_deterministic_algorithms(True) "
   ]
  },
  {
   "cell_type": "code",
   "execution_count": 7,
   "id": "b691acf6",
   "metadata": {
    "execution": {
     "iopub.execute_input": "2022-03-23T07:58:29.933918Z",
     "iopub.status.busy": "2022-03-23T07:58:29.933539Z",
     "iopub.status.idle": "2022-03-23T07:58:29.956062Z",
     "shell.execute_reply": "2022-03-23T07:58:29.955211Z"
    },
    "papermill": {
     "duration": 0.046427,
     "end_time": "2022-03-23T07:58:29.956223",
     "exception": false,
     "start_time": "2022-03-23T07:58:29.909796",
     "status": "completed"
    },
    "tags": []
   },
   "outputs": [],
   "source": [
    "###########################################\n",
    "# The stratified datasets honor this\n",
    "###########################################\n",
    "torch.set_default_dtype(eval(p.torch_default_dtype))"
   ]
  },
  {
   "cell_type": "code",
   "execution_count": 8,
   "id": "b5fba671",
   "metadata": {
    "execution": {
     "iopub.execute_input": "2022-03-23T07:58:30.005944Z",
     "iopub.status.busy": "2022-03-23T07:58:30.005580Z",
     "iopub.status.idle": "2022-03-23T07:58:30.060910Z",
     "shell.execute_reply": "2022-03-23T07:58:30.060101Z"
    },
    "papermill": {
     "duration": 0.078294,
     "end_time": "2022-03-23T07:58:30.061062",
     "exception": false,
     "start_time": "2022-03-23T07:58:29.982768",
     "status": "completed"
    },
    "tags": []
   },
   "outputs": [],
   "source": [
    "###################################\n",
    "# Build the network(s)\n",
    "# Note: It's critical to do this AFTER setting the RNG\n",
    "###################################\n",
    "x_net = build_sequential(p.x_net)"
   ]
  },
  {
   "cell_type": "code",
   "execution_count": 9,
   "id": "5d7e61cc",
   "metadata": {
    "execution": {
     "iopub.execute_input": "2022-03-23T07:58:30.107503Z",
     "iopub.status.busy": "2022-03-23T07:58:30.107139Z",
     "iopub.status.idle": "2022-03-23T07:58:30.129038Z",
     "shell.execute_reply": "2022-03-23T07:58:30.128340Z"
    },
    "papermill": {
     "duration": 0.044337,
     "end_time": "2022-03-23T07:58:30.129188",
     "exception": false,
     "start_time": "2022-03-23T07:58:30.084851",
     "status": "completed"
    },
    "tags": []
   },
   "outputs": [],
   "source": [
    "start_time_secs = time.time()"
   ]
  },
  {
   "cell_type": "code",
   "execution_count": 10,
   "id": "c6b67dfd",
   "metadata": {
    "execution": {
     "iopub.execute_input": "2022-03-23T07:58:30.179478Z",
     "iopub.status.busy": "2022-03-23T07:58:30.179114Z",
     "iopub.status.idle": "2022-03-23T07:58:30.198017Z",
     "shell.execute_reply": "2022-03-23T07:58:30.197322Z"
    },
    "papermill": {
     "duration": 0.041388,
     "end_time": "2022-03-23T07:58:30.198169",
     "exception": false,
     "start_time": "2022-03-23T07:58:30.156781",
     "status": "completed"
    },
    "tags": []
   },
   "outputs": [],
   "source": [
    "p.domains_source = []\n",
    "p.domains_target = []\n",
    "\n",
    "\n",
    "train_original_source = []\n",
    "val_original_source   = []\n",
    "test_original_source  = []\n",
    "\n",
    "train_original_target = []\n",
    "val_original_target   = []\n",
    "test_original_target  = []"
   ]
  },
  {
   "cell_type": "code",
   "execution_count": 11,
   "id": "e3d9c3d3",
   "metadata": {
    "execution": {
     "iopub.execute_input": "2022-03-23T07:58:30.247825Z",
     "iopub.status.busy": "2022-03-23T07:58:30.247455Z",
     "iopub.status.idle": "2022-03-23T07:58:30.265474Z",
     "shell.execute_reply": "2022-03-23T07:58:30.264678Z"
    },
    "papermill": {
     "duration": 0.040326,
     "end_time": "2022-03-23T07:58:30.265624",
     "exception": false,
     "start_time": "2022-03-23T07:58:30.225298",
     "status": "completed"
    },
    "tags": []
   },
   "outputs": [],
   "source": [
    "# global_x_transform_func = lambda x: normalize(x.to(torch.get_default_dtype()), \"unit_power\") # unit_power, unit_mag\n",
    "# global_x_transform_func = lambda x: normalize(x, \"unit_power\") # unit_power, unit_mag"
   ]
  },
  {
   "cell_type": "code",
   "execution_count": 12,
   "id": "acb78fd2",
   "metadata": {
    "execution": {
     "iopub.execute_input": "2022-03-23T07:58:30.323058Z",
     "iopub.status.busy": "2022-03-23T07:58:30.322216Z",
     "iopub.status.idle": "2022-03-23T07:58:30.341636Z",
     "shell.execute_reply": "2022-03-23T07:58:30.340842Z"
    },
    "papermill": {
     "duration": 0.050813,
     "end_time": "2022-03-23T07:58:30.341787",
     "exception": false,
     "start_time": "2022-03-23T07:58:30.290974",
     "status": "completed"
    },
    "tags": []
   },
   "outputs": [],
   "source": [
    "def add_dataset(\n",
    "    labels,\n",
    "    domains,\n",
    "    pickle_path,\n",
    "    x_transforms,\n",
    "    episode_transforms,\n",
    "    domain_prefix,\n",
    "    num_examples_per_domain_per_label,\n",
    "    source_or_target_dataset:str,\n",
    "    iterator_seed=p.seed,\n",
    "    dataset_seed=p.dataset_seed,\n",
    "    n_shot=p.n_shot,\n",
    "    n_way=p.n_way,\n",
    "    n_query=p.n_query,\n",
    "    train_val_test_k_factors=(p.train_k_factor,p.val_k_factor,p.test_k_factor),\n",
    "):\n",
    "   \n",
    "    if x_transforms == []: x_transform = None\n",
    "    else: x_transform = get_chained_transform(x_transforms)\n",
    "    \n",
    "    if episode_transforms == []: episode_transform = None\n",
    "    else: raise Exception(\"episode_transforms not implemented\")\n",
    "    \n",
    "    episode_transform = lambda tup, _prefix=domain_prefix: (_prefix + str(tup[0]), tup[1])\n",
    "\n",
    "\n",
    "    eaf = Episodic_Accessor_Factory(\n",
    "        labels=labels,\n",
    "        domains=domains,\n",
    "        num_examples_per_domain_per_label=num_examples_per_domain_per_label,\n",
    "        iterator_seed=iterator_seed,\n",
    "        dataset_seed=dataset_seed,\n",
    "        n_shot=n_shot,\n",
    "        n_way=n_way,\n",
    "        n_query=n_query,\n",
    "        train_val_test_k_factors=train_val_test_k_factors,\n",
    "        pickle_path=pickle_path,\n",
    "        x_transform_func=x_transform,\n",
    "    )\n",
    "\n",
    "    train, val, test = eaf.get_train(), eaf.get_val(), eaf.get_test()\n",
    "    train = Lazy_Iterable_Wrapper(train, episode_transform)\n",
    "    val = Lazy_Iterable_Wrapper(val, episode_transform)\n",
    "    test = Lazy_Iterable_Wrapper(test, episode_transform)\n",
    "\n",
    "    if source_or_target_dataset==\"source\":\n",
    "        train_original_source.append(train)\n",
    "        val_original_source.append(val)\n",
    "        test_original_source.append(test)\n",
    "\n",
    "        p.domains_source.extend(\n",
    "            [domain_prefix + str(u) for u in domains]\n",
    "        )\n",
    "    elif source_or_target_dataset==\"target\":\n",
    "        train_original_target.append(train)\n",
    "        val_original_target.append(val)\n",
    "        test_original_target.append(test)\n",
    "        p.domains_target.extend(\n",
    "            [domain_prefix + str(u) for u in domains]\n",
    "        )\n",
    "    else:\n",
    "        raise Exception(f\"invalid source_or_target_dataset: {source_or_target_dataset}\")\n",
    "    "
   ]
  },
  {
   "cell_type": "code",
   "execution_count": 13,
   "id": "fe266617",
   "metadata": {
    "execution": {
     "iopub.execute_input": "2022-03-23T07:58:30.390345Z",
     "iopub.status.busy": "2022-03-23T07:58:30.389985Z",
     "iopub.status.idle": "2022-03-23T08:00:34.760000Z",
     "shell.execute_reply": "2022-03-23T08:00:34.759229Z"
    },
    "papermill": {
     "duration": 124.392674,
     "end_time": "2022-03-23T08:00:34.760187",
     "exception": false,
     "start_time": "2022-03-23T07:58:30.367513",
     "status": "completed"
    },
    "tags": []
   },
   "outputs": [],
   "source": [
    "for ds in p.datasets:\n",
    "    add_dataset(**ds)"
   ]
  },
  {
   "cell_type": "code",
   "execution_count": 14,
   "id": "b90d65ac",
   "metadata": {
    "execution": {
     "iopub.execute_input": "2022-03-23T08:00:34.810230Z",
     "iopub.status.busy": "2022-03-23T08:00:34.809852Z",
     "iopub.status.idle": "2022-03-23T08:00:34.831585Z",
     "shell.execute_reply": "2022-03-23T08:00:34.830855Z"
    },
    "papermill": {
     "duration": 0.04545,
     "end_time": "2022-03-23T08:00:34.831739",
     "exception": false,
     "start_time": "2022-03-23T08:00:34.786289",
     "status": "completed"
    },
    "tags": []
   },
   "outputs": [],
   "source": [
    "# from steves_utils.CORES.utils import (\n",
    "#     ALL_NODES,\n",
    "#     ALL_NODES_MINIMUM_1000_EXAMPLES,\n",
    "#     ALL_DAYS\n",
    "# )\n",
    "\n",
    "# add_dataset(\n",
    "#     labels=ALL_NODES,\n",
    "#     domains = ALL_DAYS,\n",
    "#     num_examples_per_domain_per_label=100,\n",
    "#     pickle_path=os.path.join(get_datasets_base_path(), \"cores.stratified_ds.2022A.pkl\"),\n",
    "#     source_or_target_dataset=\"target\",\n",
    "#     x_transform_func=global_x_transform_func,\n",
    "#     domain_modifier=lambda u: f\"cores_{u}\"\n",
    "# )"
   ]
  },
  {
   "cell_type": "code",
   "execution_count": 15,
   "id": "76db484d",
   "metadata": {
    "execution": {
     "iopub.execute_input": "2022-03-23T08:00:34.885008Z",
     "iopub.status.busy": "2022-03-23T08:00:34.884638Z",
     "iopub.status.idle": "2022-03-23T08:00:34.900718Z",
     "shell.execute_reply": "2022-03-23T08:00:34.901396Z"
    },
    "papermill": {
     "duration": 0.03999,
     "end_time": "2022-03-23T08:00:34.901574",
     "exception": false,
     "start_time": "2022-03-23T08:00:34.861584",
     "status": "completed"
    },
    "tags": []
   },
   "outputs": [],
   "source": [
    "# from steves_utils.ORACLE.utils_v2 import (\n",
    "#     ALL_DISTANCES_FEET,\n",
    "#     ALL_RUNS,\n",
    "#     ALL_SERIAL_NUMBERS,\n",
    "# )\n",
    "\n",
    "\n",
    "# add_dataset(\n",
    "#     labels=ALL_SERIAL_NUMBERS,\n",
    "#     domains = list(set(ALL_DISTANCES_FEET) - {2,62}),\n",
    "#     num_examples_per_domain_per_label=100,\n",
    "#     pickle_path=os.path.join(get_datasets_base_path(), \"oracle.Run2_framed_2000Examples_stratified_ds.2022A.pkl\"),\n",
    "#     source_or_target_dataset=\"source\",\n",
    "#     x_transform_func=global_x_transform_func,\n",
    "#     domain_modifier=lambda u: f\"oracle1_{u}\"\n",
    "# )\n"
   ]
  },
  {
   "cell_type": "code",
   "execution_count": 16,
   "id": "97dea9d2",
   "metadata": {
    "execution": {
     "iopub.execute_input": "2022-03-23T08:00:34.952361Z",
     "iopub.status.busy": "2022-03-23T08:00:34.951990Z",
     "iopub.status.idle": "2022-03-23T08:00:34.973250Z",
     "shell.execute_reply": "2022-03-23T08:00:34.972543Z"
    },
    "papermill": {
     "duration": 0.044729,
     "end_time": "2022-03-23T08:00:34.973401",
     "exception": false,
     "start_time": "2022-03-23T08:00:34.928672",
     "status": "completed"
    },
    "tags": []
   },
   "outputs": [],
   "source": [
    "# from steves_utils.ORACLE.utils_v2 import (\n",
    "#     ALL_DISTANCES_FEET,\n",
    "#     ALL_RUNS,\n",
    "#     ALL_SERIAL_NUMBERS,\n",
    "# )\n",
    "\n",
    "\n",
    "# add_dataset(\n",
    "#     labels=ALL_SERIAL_NUMBERS,\n",
    "#     domains = list(set(ALL_DISTANCES_FEET) - {2,62,56}),\n",
    "#     num_examples_per_domain_per_label=100,\n",
    "#     pickle_path=os.path.join(get_datasets_base_path(), \"oracle.Run2_framed_2000Examples_stratified_ds.2022A.pkl\"),\n",
    "#     source_or_target_dataset=\"source\",\n",
    "#     x_transform_func=global_x_transform_func,\n",
    "#     domain_modifier=lambda u: f\"oracle2_{u}\"\n",
    "# )"
   ]
  },
  {
   "cell_type": "code",
   "execution_count": 17,
   "id": "6f289866",
   "metadata": {
    "execution": {
     "iopub.execute_input": "2022-03-23T08:00:35.024760Z",
     "iopub.status.busy": "2022-03-23T08:00:35.024391Z",
     "iopub.status.idle": "2022-03-23T08:00:35.040919Z",
     "shell.execute_reply": "2022-03-23T08:00:35.040078Z"
    },
    "papermill": {
     "duration": 0.040209,
     "end_time": "2022-03-23T08:00:35.041072",
     "exception": false,
     "start_time": "2022-03-23T08:00:35.000863",
     "status": "completed"
    },
    "tags": []
   },
   "outputs": [],
   "source": [
    "# add_dataset(\n",
    "#     labels=list(range(19)),\n",
    "#     domains = [0,1,2],\n",
    "#     num_examples_per_domain_per_label=100,\n",
    "#     pickle_path=os.path.join(get_datasets_base_path(), \"metehan.stratified_ds.2022A.pkl\"),\n",
    "#     source_or_target_dataset=\"target\",\n",
    "#     x_transform_func=global_x_transform_func,\n",
    "#     domain_modifier=lambda u: f\"met_{u}\"\n",
    "# )"
   ]
  },
  {
   "cell_type": "code",
   "execution_count": 18,
   "id": "86a863c3",
   "metadata": {
    "execution": {
     "iopub.execute_input": "2022-03-23T08:00:35.092776Z",
     "iopub.status.busy": "2022-03-23T08:00:35.092404Z",
     "iopub.status.idle": "2022-03-23T08:00:35.108928Z",
     "shell.execute_reply": "2022-03-23T08:00:35.108114Z"
    },
    "papermill": {
     "duration": 0.040347,
     "end_time": "2022-03-23T08:00:35.109082",
     "exception": false,
     "start_time": "2022-03-23T08:00:35.068735",
     "status": "completed"
    },
    "tags": []
   },
   "outputs": [],
   "source": [
    "# # from steves_utils.wisig.utils import (\n",
    "# #     ALL_NODES_MINIMUM_100_EXAMPLES,\n",
    "# #     ALL_NODES_MINIMUM_500_EXAMPLES,\n",
    "# #     ALL_NODES_MINIMUM_1000_EXAMPLES,\n",
    "# #     ALL_DAYS\n",
    "# # )\n",
    "\n",
    "# import steves_utils.wisig.utils as wisig\n",
    "\n",
    "\n",
    "# add_dataset(\n",
    "#     labels=wisig.ALL_NODES_MINIMUM_100_EXAMPLES,\n",
    "#     domains = wisig.ALL_DAYS,\n",
    "#     num_examples_per_domain_per_label=100,\n",
    "#     pickle_path=os.path.join(get_datasets_base_path(), \"wisig.node3-19.stratified_ds.2022A.pkl\"),\n",
    "#     source_or_target_dataset=\"target\",\n",
    "#     x_transform_func=global_x_transform_func,\n",
    "#     domain_modifier=lambda u: f\"wisig_{u}\"\n",
    "# )"
   ]
  },
  {
   "cell_type": "code",
   "execution_count": 19,
   "id": "fd5442bc",
   "metadata": {
    "execution": {
     "iopub.execute_input": "2022-03-23T08:00:35.164902Z",
     "iopub.status.busy": "2022-03-23T08:00:35.164370Z",
     "iopub.status.idle": "2022-03-23T08:00:35.183755Z",
     "shell.execute_reply": "2022-03-23T08:00:35.183021Z"
    },
    "papermill": {
     "duration": 0.047332,
     "end_time": "2022-03-23T08:00:35.183907",
     "exception": false,
     "start_time": "2022-03-23T08:00:35.136575",
     "status": "completed"
    },
    "tags": []
   },
   "outputs": [],
   "source": [
    "###################################\n",
    "# Build the dataset\n",
    "###################################\n",
    "train_original_source = Iterable_Aggregator(train_original_source, p.seed)\n",
    "val_original_source = Iterable_Aggregator(val_original_source, p.seed)\n",
    "test_original_source = Iterable_Aggregator(test_original_source, p.seed)\n",
    "\n",
    "\n",
    "train_original_target = Iterable_Aggregator(train_original_target, p.seed)\n",
    "val_original_target = Iterable_Aggregator(val_original_target, p.seed)\n",
    "test_original_target = Iterable_Aggregator(test_original_target, p.seed)\n",
    "\n",
    "# For CNN We only use X and Y. And we only train on the source.\n",
    "# Properly form the data using a transform lambda and Lazy_Iterable_Wrapper. Finally wrap them in a dataloader\n",
    "\n",
    "transform_lambda = lambda ex: ex[1] # Original is (<domain>, <episode>) so we strip down to episode only\n",
    "\n",
    "train_processed_source = Lazy_Iterable_Wrapper(train_original_source, transform_lambda)\n",
    "val_processed_source   = Lazy_Iterable_Wrapper(val_original_source, transform_lambda)\n",
    "test_processed_source  = Lazy_Iterable_Wrapper(test_original_source, transform_lambda)\n",
    "\n",
    "train_processed_target = Lazy_Iterable_Wrapper(train_original_target, transform_lambda)\n",
    "val_processed_target   = Lazy_Iterable_Wrapper(val_original_target, transform_lambda)\n",
    "test_processed_target  = Lazy_Iterable_Wrapper(test_original_target, transform_lambda)\n",
    "\n",
    "datasets = EasyDict({\n",
    "    \"source\": {\n",
    "        \"original\": {\"train\":train_original_source, \"val\":val_original_source, \"test\":test_original_source},\n",
    "        \"processed\": {\"train\":train_processed_source, \"val\":val_processed_source, \"test\":test_processed_source}\n",
    "    },\n",
    "    \"target\": {\n",
    "        \"original\": {\"train\":train_original_target, \"val\":val_original_target, \"test\":test_original_target},\n",
    "        \"processed\": {\"train\":train_processed_target, \"val\":val_processed_target, \"test\":test_processed_target}\n",
    "    },\n",
    "})"
   ]
  },
  {
   "cell_type": "code",
   "execution_count": 20,
   "id": "5b3c01fc",
   "metadata": {
    "execution": {
     "iopub.execute_input": "2022-03-23T08:00:35.239139Z",
     "iopub.status.busy": "2022-03-23T08:00:35.238767Z",
     "iopub.status.idle": "2022-03-23T08:01:08.412047Z",
     "shell.execute_reply": "2022-03-23T08:01:08.412805Z"
    },
    "papermill": {
     "duration": 33.19859,
     "end_time": "2022-03-23T08:01:08.413017",
     "exception": false,
     "start_time": "2022-03-23T08:00:35.214427",
     "status": "completed"
    },
    "tags": []
   },
   "outputs": [
    {
     "name": "stdout",
     "output_type": "stream",
     "text": [
      "{'CORES_1', 'CORES_2', 'CORES_3', 'CORES_5', 'CORES_4'}\n"
     ]
    },
    {
     "name": "stdout",
     "output_type": "stream",
     "text": [
      "{'ORACLE.run1_14', 'ORACLE.run1_38', 'ORACLE.run1_44', 'ORACLE.run1_32', 'ORACLE.run1_8', 'ORACLE.run1_26', 'ORACLE.run1_50', 'ORACLE.run1_20'}\n"
     ]
    },
    {
     "name": "stdout",
     "output_type": "stream",
     "text": [
      "tensor([[[-0.2025, -0.1828, -0.7562,  ..., -0.2428,  0.2293, -0.0578],\n",
      "         [-0.1188,  0.0372,  0.5826,  ...,  0.5175,  1.3233,  1.4772]],\n",
      "\n",
      "        [[-0.3487, -0.9944, -0.6302,  ..., -1.2537, -1.4513, -0.9922],\n",
      "         [-0.1744, -0.6699, -1.0584,  ...,  0.7328,  0.4999,  0.3918]],\n",
      "\n",
      "        [[-0.2253, -0.1259, -0.3755,  ...,  0.4639,  1.0415,  0.8825],\n",
      "         [-0.0144,  0.2739,  1.0692,  ...,  0.6505,  0.9587,  1.3000]],\n",
      "\n",
      "        ...,\n",
      "\n",
      "        [[-0.1854, -0.7895,  0.9817,  ..., -1.2998, -0.4897,  0.7804],\n",
      "         [ 0.4417, -0.7552, -0.6751,  ...,  0.2266,  0.1465, -0.3066]],\n",
      "\n",
      "        [[-0.5350,  0.1616,  1.1291,  ..., -1.1087, -0.1776,  0.7125],\n",
      "         [-0.0728, -1.0813,  0.5691,  ..., -0.5304, -0.0524,  0.3529]],\n",
      "\n",
      "        [[ 0.0000, -0.0376, -0.0699,  ...,  1.6531,  0.4032, -0.3602],\n",
      "         [-0.1129, -0.0564, -0.1451,  ..., -0.9623, -0.2795,  0.6128]]])\n"
     ]
    }
   ],
   "source": [
    "from steves_utils.transforms import get_average_magnitude, get_average_power\n",
    "\n",
    "print(set([u for u,_ in val_original_source]))\n",
    "print(set([u for u,_ in val_original_target]))\n",
    "\n",
    "s_x, s_y, q_x, q_y, _ = next(iter(train_processed_source))\n",
    "print(s_x)\n",
    "\n",
    "# for ds in [\n",
    "#     train_processed_source,\n",
    "#     val_processed_source,\n",
    "#     test_processed_source,\n",
    "#     train_processed_target,\n",
    "#     val_processed_target,\n",
    "#     test_processed_target\n",
    "# ]:\n",
    "#     for s_x, s_y, q_x, q_y, _ in ds:\n",
    "#         for X in (s_x, q_x):\n",
    "#             for x in X:\n",
    "#                 assert np.isclose(get_average_magnitude(x.numpy()), 1.0)\n",
    "#                 assert np.isclose(get_average_power(x.numpy()), 1.0)\n",
    "                "
   ]
  },
  {
   "cell_type": "code",
   "execution_count": 21,
   "id": "bbdacba1",
   "metadata": {
    "execution": {
     "iopub.execute_input": "2022-03-23T08:01:08.468144Z",
     "iopub.status.busy": "2022-03-23T08:01:08.467579Z",
     "iopub.status.idle": "2022-03-23T08:01:08.582988Z",
     "shell.execute_reply": "2022-03-23T08:01:08.582504Z"
    },
    "papermill": {
     "duration": 0.142876,
     "end_time": "2022-03-23T08:01:08.583099",
     "exception": false,
     "start_time": "2022-03-23T08:01:08.440223",
     "status": "completed"
    },
    "tags": []
   },
   "outputs": [
    {
     "name": "stdout",
     "output_type": "stream",
     "text": [
      "(2, 256)\n"
     ]
    }
   ],
   "source": [
    "###################################\n",
    "# Build the model\n",
    "###################################\n",
    "# easfsl only wants a tuple for the shape\n",
    "model = Steves_Prototypical_Network(x_net, device=p.device, x_shape=tuple(p.x_shape))\n",
    "optimizer = Adam(params=model.parameters(), lr=p.lr)"
   ]
  },
  {
   "cell_type": "code",
   "execution_count": 22,
   "id": "22b39ac5",
   "metadata": {
    "execution": {
     "iopub.execute_input": "2022-03-23T08:01:08.635039Z",
     "iopub.status.busy": "2022-03-23T08:01:08.634669Z",
     "iopub.status.idle": "2022-03-23T08:40:03.174066Z",
     "shell.execute_reply": "2022-03-23T08:40:03.173723Z"
    },
    "papermill": {
     "duration": 2334.565315,
     "end_time": "2022-03-23T08:40:03.174150",
     "exception": false,
     "start_time": "2022-03-23T08:01:08.608835",
     "status": "completed"
    },
    "tags": []
   },
   "outputs": [
    {
     "name": "stdout",
     "output_type": "stream",
     "text": [
      "epoch: 1, [batch: 1 / 6317], examples_per_second: 32.4292, train_label_loss: 2.6330, \n"
     ]
    },
    {
     "name": "stdout",
     "output_type": "stream",
     "text": [
      "epoch: 1, [batch: 632 / 6317], examples_per_second: 2931.2575, train_label_loss: 0.0432, \n"
     ]
    },
    {
     "name": "stdout",
     "output_type": "stream",
     "text": [
      "epoch: 1, [batch: 1264 / 6317], examples_per_second: 3210.8817, train_label_loss: 0.0042, \n"
     ]
    },
    {
     "name": "stdout",
     "output_type": "stream",
     "text": [
      "epoch: 1, [batch: 1895 / 6317], examples_per_second: 3433.9268, train_label_loss: 0.0039, \n"
     ]
    },
    {
     "name": "stdout",
     "output_type": "stream",
     "text": [
      "epoch: 1, [batch: 2527 / 6317], examples_per_second: 3512.9660, train_label_loss: 0.0127, \n"
     ]
    },
    {
     "name": "stdout",
     "output_type": "stream",
     "text": [
      "epoch: 1, [batch: 3159 / 6317], examples_per_second: 3057.3056, train_label_loss: 0.1083, \n"
     ]
    },
    {
     "name": "stdout",
     "output_type": "stream",
     "text": [
      "epoch: 1, [batch: 3790 / 6317], examples_per_second: 2946.2348, train_label_loss: 0.0105, \n"
     ]
    },
    {
     "name": "stdout",
     "output_type": "stream",
     "text": [
      "epoch: 1, [batch: 4422 / 6317], examples_per_second: 2950.1925, train_label_loss: 0.0002, \n"
     ]
    },
    {
     "name": "stdout",
     "output_type": "stream",
     "text": [
      "epoch: 1, [batch: 5053 / 6317], examples_per_second: 3006.4187, train_label_loss: 0.0021, \n"
     ]
    },
    {
     "name": "stdout",
     "output_type": "stream",
     "text": [
      "epoch: 1, [batch: 5685 / 6317], examples_per_second: 3033.1291, train_label_loss: 0.0028, \n"
     ]
    },
    {
     "name": "stdout",
     "output_type": "stream",
     "text": [
      "=============================================================\n",
      "epoch: 1, source_val_acc_label: 0.9985, target_val_acc_label: 0.1421, source_val_label_loss: 0.0066, target_val_label_loss: 2.7335, \n",
      "=============================================================\n"
     ]
    },
    {
     "name": "stdout",
     "output_type": "stream",
     "text": [
      "New best\n"
     ]
    },
    {
     "name": "stdout",
     "output_type": "stream",
     "text": [
      "epoch: 2, [batch: 1 / 6315], examples_per_second: 1.5683, train_label_loss: 0.0001, \n"
     ]
    },
    {
     "name": "stdout",
     "output_type": "stream",
     "text": [
      "epoch: 2, [batch: 632 / 6315], examples_per_second: 3959.0861, train_label_loss: 0.0001, \n"
     ]
    },
    {
     "name": "stdout",
     "output_type": "stream",
     "text": [
      "epoch: 2, [batch: 1263 / 6315], examples_per_second: 3003.7800, train_label_loss: 0.0000, \n"
     ]
    },
    {
     "name": "stdout",
     "output_type": "stream",
     "text": [
      "epoch: 2, [batch: 1895 / 6315], examples_per_second: 2964.2490, train_label_loss: 0.0000, \n"
     ]
    },
    {
     "name": "stdout",
     "output_type": "stream",
     "text": [
      "epoch: 2, [batch: 2526 / 6315], examples_per_second: 2978.0629, train_label_loss: 0.0017, \n"
     ]
    },
    {
     "name": "stdout",
     "output_type": "stream",
     "text": [
      "epoch: 2, [batch: 3158 / 6315], examples_per_second: 3028.4603, train_label_loss: 0.0000, \n"
     ]
    },
    {
     "name": "stdout",
     "output_type": "stream",
     "text": [
      "epoch: 2, [batch: 3789 / 6315], examples_per_second: 3011.8427, train_label_loss: 0.0000, \n"
     ]
    },
    {
     "name": "stdout",
     "output_type": "stream",
     "text": [
      "epoch: 2, [batch: 4420 / 6315], examples_per_second: 2969.7195, train_label_loss: 0.0000, \n"
     ]
    },
    {
     "name": "stdout",
     "output_type": "stream",
     "text": [
      "epoch: 2, [batch: 5052 / 6315], examples_per_second: 3039.1545, train_label_loss: 0.0000, \n"
     ]
    },
    {
     "name": "stdout",
     "output_type": "stream",
     "text": [
      "epoch: 2, [batch: 5683 / 6315], examples_per_second: 2948.2172, train_label_loss: 0.0000, \n"
     ]
    },
    {
     "name": "stdout",
     "output_type": "stream",
     "text": [
      "=============================================================\n",
      "epoch: 2, source_val_acc_label: 0.9993, target_val_acc_label: 0.1429, source_val_label_loss: 0.0059, target_val_label_loss: 3.1739, \n",
      "=============================================================\n"
     ]
    },
    {
     "name": "stdout",
     "output_type": "stream",
     "text": [
      "New best\n"
     ]
    },
    {
     "name": "stdout",
     "output_type": "stream",
     "text": [
      "epoch: 3, [batch: 1 / 6325], examples_per_second: 1.3755, train_label_loss: 0.0000, \n"
     ]
    },
    {
     "name": "stdout",
     "output_type": "stream",
     "text": [
      "epoch: 3, [batch: 633 / 6325], examples_per_second: 2990.9346, train_label_loss: 0.0000, \n"
     ]
    },
    {
     "name": "stdout",
     "output_type": "stream",
     "text": [
      "epoch: 3, [batch: 1265 / 6325], examples_per_second: 3018.0928, train_label_loss: 0.0000, \n"
     ]
    },
    {
     "name": "stdout",
     "output_type": "stream",
     "text": [
      "epoch: 3, [batch: 1898 / 6325], examples_per_second: 3028.4862, train_label_loss: 0.0000, \n"
     ]
    },
    {
     "name": "stdout",
     "output_type": "stream",
     "text": [
      "epoch: 3, [batch: 2530 / 6325], examples_per_second: 2990.6263, train_label_loss: 0.0000, \n"
     ]
    },
    {
     "name": "stdout",
     "output_type": "stream",
     "text": [
      "epoch: 3, [batch: 3163 / 6325], examples_per_second: 2989.4857, train_label_loss: 0.0000, \n"
     ]
    },
    {
     "name": "stdout",
     "output_type": "stream",
     "text": [
      "epoch: 3, [batch: 3795 / 6325], examples_per_second: 2989.3487, train_label_loss: 0.0000, \n"
     ]
    },
    {
     "name": "stdout",
     "output_type": "stream",
     "text": [
      "epoch: 3, [batch: 4427 / 6325], examples_per_second: 2973.8207, train_label_loss: 0.0001, \n"
     ]
    },
    {
     "name": "stdout",
     "output_type": "stream",
     "text": [
      "epoch: 3, [batch: 5060 / 6325], examples_per_second: 3365.8861, train_label_loss: 0.0003, \n"
     ]
    },
    {
     "name": "stdout",
     "output_type": "stream",
     "text": [
      "epoch: 3, [batch: 5692 / 6325], examples_per_second: 3449.4703, train_label_loss: 0.0000, \n"
     ]
    },
    {
     "name": "stdout",
     "output_type": "stream",
     "text": [
      "=============================================================\n",
      "epoch: 3, source_val_acc_label: 0.9992, target_val_acc_label: 0.1607, source_val_label_loss: 0.0064, target_val_label_loss: 3.7275, \n",
      "=============================================================\n"
     ]
    },
    {
     "name": "stdout",
     "output_type": "stream",
     "text": [
      "New best\n"
     ]
    },
    {
     "name": "stdout",
     "output_type": "stream",
     "text": [
      "epoch: 4, [batch: 1 / 6307], examples_per_second: 1.3012, train_label_loss: 0.0000, \n"
     ]
    },
    {
     "name": "stdout",
     "output_type": "stream",
     "text": [
      "epoch: 4, [batch: 631 / 6307], examples_per_second: 3016.2493, train_label_loss: 0.0000, \n"
     ]
    },
    {
     "name": "stdout",
     "output_type": "stream",
     "text": [
      "epoch: 4, [batch: 1262 / 6307], examples_per_second: 3053.6460, train_label_loss: 0.0000, \n"
     ]
    },
    {
     "name": "stdout",
     "output_type": "stream",
     "text": [
      "epoch: 4, [batch: 1892 / 6307], examples_per_second: 3009.9722, train_label_loss: 0.0000, \n"
     ]
    },
    {
     "name": "stdout",
     "output_type": "stream",
     "text": [
      "epoch: 4, [batch: 2523 / 6307], examples_per_second: 3332.3127, train_label_loss: 0.0000, \n"
     ]
    },
    {
     "name": "stdout",
     "output_type": "stream",
     "text": [
      "epoch: 4, [batch: 3154 / 6307], examples_per_second: 3457.3332, train_label_loss: 0.0000, \n"
     ]
    },
    {
     "name": "stdout",
     "output_type": "stream",
     "text": [
      "epoch: 4, [batch: 3784 / 6307], examples_per_second: 3613.6796, train_label_loss: 0.0000, \n"
     ]
    },
    {
     "name": "stdout",
     "output_type": "stream",
     "text": [
      "epoch: 4, [batch: 4415 / 6307], examples_per_second: 2985.4621, train_label_loss: 0.0000, \n"
     ]
    },
    {
     "name": "stdout",
     "output_type": "stream",
     "text": [
      "epoch: 4, [batch: 5045 / 6307], examples_per_second: 3007.9999, train_label_loss: 0.0000, \n"
     ]
    },
    {
     "name": "stdout",
     "output_type": "stream",
     "text": [
      "epoch: 4, [batch: 5676 / 6307], examples_per_second: 3021.9147, train_label_loss: 0.0001, \n"
     ]
    },
    {
     "name": "stdout",
     "output_type": "stream",
     "text": [
      "=============================================================\n",
      "epoch: 4, source_val_acc_label: 0.9990, target_val_acc_label: 0.1450, source_val_label_loss: 0.0081, target_val_label_loss: 3.9068, \n",
      "=============================================================\n"
     ]
    },
    {
     "name": "stdout",
     "output_type": "stream",
     "text": [
      "epoch: 5, [batch: 1 / 6302], examples_per_second: 1.2978, train_label_loss: 0.0000, \n"
     ]
    },
    {
     "name": "stdout",
     "output_type": "stream",
     "text": [
      "epoch: 5, [batch: 631 / 6302], examples_per_second: 3439.9741, train_label_loss: 0.0000, \n"
     ]
    },
    {
     "name": "stdout",
     "output_type": "stream",
     "text": [
      "epoch: 5, [batch: 1261 / 6302], examples_per_second: 3510.6339, train_label_loss: 0.0000, \n"
     ]
    },
    {
     "name": "stdout",
     "output_type": "stream",
     "text": [
      "epoch: 5, [batch: 1891 / 6302], examples_per_second: 3188.3244, train_label_loss: 0.0000, \n"
     ]
    },
    {
     "name": "stdout",
     "output_type": "stream",
     "text": [
      "epoch: 5, [batch: 2521 / 6302], examples_per_second: 3335.2575, train_label_loss: 0.0000, \n"
     ]
    },
    {
     "name": "stdout",
     "output_type": "stream",
     "text": [
      "epoch: 5, [batch: 3151 / 6302], examples_per_second: 3344.7942, train_label_loss: 0.0000, \n"
     ]
    },
    {
     "name": "stdout",
     "output_type": "stream",
     "text": [
      "epoch: 5, [batch: 3781 / 6302], examples_per_second: 3341.3412, train_label_loss: 0.0000, \n"
     ]
    },
    {
     "name": "stdout",
     "output_type": "stream",
     "text": [
      "epoch: 5, [batch: 4411 / 6302], examples_per_second: 3327.3437, train_label_loss: 0.0000, \n"
     ]
    },
    {
     "name": "stdout",
     "output_type": "stream",
     "text": [
      "epoch: 5, [batch: 5041 / 6302], examples_per_second: 3412.5386, train_label_loss: 0.0000, \n"
     ]
    },
    {
     "name": "stdout",
     "output_type": "stream",
     "text": [
      "epoch: 5, [batch: 5671 / 6302], examples_per_second: 3527.0034, train_label_loss: 0.0000, \n"
     ]
    },
    {
     "name": "stdout",
     "output_type": "stream",
     "text": [
      "=============================================================\n",
      "epoch: 5, source_val_acc_label: 0.9995, target_val_acc_label: 0.1613, source_val_label_loss: 0.0045, target_val_label_loss: 3.5960, \n",
      "=============================================================\n"
     ]
    },
    {
     "name": "stdout",
     "output_type": "stream",
     "text": [
      "New best\n"
     ]
    },
    {
     "name": "stdout",
     "output_type": "stream",
     "text": [
      "epoch: 6, [batch: 1 / 6311], examples_per_second: 1.5538, train_label_loss: 0.0000, \n"
     ]
    },
    {
     "name": "stdout",
     "output_type": "stream",
     "text": [
      "epoch: 6, [batch: 632 / 6311], examples_per_second: 2976.3193, train_label_loss: 0.0000, \n"
     ]
    },
    {
     "name": "stdout",
     "output_type": "stream",
     "text": [
      "epoch: 6, [batch: 1263 / 6311], examples_per_second: 2988.1300, train_label_loss: 0.0000, \n"
     ]
    },
    {
     "name": "stdout",
     "output_type": "stream",
     "text": [
      "epoch: 6, [batch: 1894 / 6311], examples_per_second: 3006.8311, train_label_loss: 0.0000, \n"
     ]
    },
    {
     "name": "stdout",
     "output_type": "stream",
     "text": [
      "epoch: 6, [batch: 2525 / 6311], examples_per_second: 2961.2923, train_label_loss: 0.0000, \n"
     ]
    },
    {
     "name": "stdout",
     "output_type": "stream",
     "text": [
      "epoch: 6, [batch: 3156 / 6311], examples_per_second: 2948.8094, train_label_loss: 0.0000, \n"
     ]
    },
    {
     "name": "stdout",
     "output_type": "stream",
     "text": [
      "epoch: 6, [batch: 3787 / 6311], examples_per_second: 3034.6847, train_label_loss: 0.0000, \n"
     ]
    },
    {
     "name": "stdout",
     "output_type": "stream",
     "text": [
      "epoch: 6, [batch: 4418 / 6311], examples_per_second: 2964.4377, train_label_loss: 0.0000, \n"
     ]
    },
    {
     "name": "stdout",
     "output_type": "stream",
     "text": [
      "epoch: 6, [batch: 5049 / 6311], examples_per_second: 3016.2679, train_label_loss: 0.0000, \n"
     ]
    },
    {
     "name": "stdout",
     "output_type": "stream",
     "text": [
      "epoch: 6, [batch: 5680 / 6311], examples_per_second: 3008.0545, train_label_loss: 0.0000, \n"
     ]
    },
    {
     "name": "stdout",
     "output_type": "stream",
     "text": [
      "=============================================================\n",
      "epoch: 6, source_val_acc_label: 0.9990, target_val_acc_label: 0.1563, source_val_label_loss: 0.0096, target_val_label_loss: 3.9220, \n",
      "=============================================================\n"
     ]
    },
    {
     "name": "stdout",
     "output_type": "stream",
     "text": [
      "epoch: 7, [batch: 1 / 6310], examples_per_second: 1.3737, train_label_loss: 0.0000, \n"
     ]
    },
    {
     "name": "stdout",
     "output_type": "stream",
     "text": [
      "epoch: 7, [batch: 631 / 6310], examples_per_second: 2955.7950, train_label_loss: 0.0000, \n"
     ]
    },
    {
     "name": "stdout",
     "output_type": "stream",
     "text": [
      "epoch: 7, [batch: 1262 / 6310], examples_per_second: 2961.9774, train_label_loss: 0.0000, \n"
     ]
    },
    {
     "name": "stdout",
     "output_type": "stream",
     "text": [
      "epoch: 7, [batch: 1893 / 6310], examples_per_second: 2950.5252, train_label_loss: 0.0000, \n"
     ]
    },
    {
     "name": "stdout",
     "output_type": "stream",
     "text": [
      "epoch: 7, [batch: 2524 / 6310], examples_per_second: 2981.1337, train_label_loss: 0.0000, \n"
     ]
    },
    {
     "name": "stdout",
     "output_type": "stream",
     "text": [
      "epoch: 7, [batch: 3155 / 6310], examples_per_second: 3083.3191, train_label_loss: 0.0000, \n"
     ]
    },
    {
     "name": "stdout",
     "output_type": "stream",
     "text": [
      "epoch: 7, [batch: 3786 / 6310], examples_per_second: 3407.3714, train_label_loss: 0.0000, \n"
     ]
    },
    {
     "name": "stdout",
     "output_type": "stream",
     "text": [
      "epoch: 7, [batch: 4417 / 6310], examples_per_second: 3465.9799, train_label_loss: 0.0000, \n"
     ]
    },
    {
     "name": "stdout",
     "output_type": "stream",
     "text": [
      "epoch: 7, [batch: 5048 / 6310], examples_per_second: 3552.5671, train_label_loss: 0.0000, \n"
     ]
    },
    {
     "name": "stdout",
     "output_type": "stream",
     "text": [
      "epoch: 7, [batch: 5679 / 6310], examples_per_second: 2973.3199, train_label_loss: 0.0000, \n"
     ]
    },
    {
     "name": "stdout",
     "output_type": "stream",
     "text": [
      "=============================================================\n",
      "epoch: 7, source_val_acc_label: 0.9996, target_val_acc_label: 0.1524, source_val_label_loss: 0.0060, target_val_label_loss: 4.0451, \n",
      "=============================================================\n"
     ]
    },
    {
     "name": "stdout",
     "output_type": "stream",
     "text": [
      "epoch: 8, [batch: 1 / 6331], examples_per_second: 1.2833, train_label_loss: 0.0000, \n"
     ]
    },
    {
     "name": "stdout",
     "output_type": "stream",
     "text": [
      "epoch: 8, [batch: 634 / 6331], examples_per_second: 2979.7884, train_label_loss: 0.0000, \n"
     ]
    },
    {
     "name": "stdout",
     "output_type": "stream",
     "text": [
      "epoch: 8, [batch: 1267 / 6331], examples_per_second: 3420.6254, train_label_loss: 0.0000, \n"
     ]
    },
    {
     "name": "stdout",
     "output_type": "stream",
     "text": [
      "epoch: 8, [batch: 1900 / 6331], examples_per_second: 3461.6079, train_label_loss: 0.0000, \n"
     ]
    },
    {
     "name": "stdout",
     "output_type": "stream",
     "text": [
      "epoch: 8, [batch: 2533 / 6331], examples_per_second: 3360.4170, train_label_loss: 0.0000, \n"
     ]
    },
    {
     "name": "stdout",
     "output_type": "stream",
     "text": [
      "epoch: 8, [batch: 3166 / 6331], examples_per_second: 2890.4013, train_label_loss: 0.0000, \n"
     ]
    },
    {
     "name": "stdout",
     "output_type": "stream",
     "text": [
      "epoch: 8, [batch: 3799 / 6331], examples_per_second: 2979.3422, train_label_loss: 0.0000, \n"
     ]
    },
    {
     "name": "stdout",
     "output_type": "stream",
     "text": [
      "epoch: 8, [batch: 4432 / 6331], examples_per_second: 2977.9711, train_label_loss: 0.0000, \n"
     ]
    },
    {
     "name": "stdout",
     "output_type": "stream",
     "text": [
      "epoch: 8, [batch: 5065 / 6331], examples_per_second: 2900.0688, train_label_loss: 0.0000, \n"
     ]
    },
    {
     "name": "stdout",
     "output_type": "stream",
     "text": [
      "epoch: 8, [batch: 5698 / 6331], examples_per_second: 3001.6405, train_label_loss: 0.0000, \n"
     ]
    },
    {
     "name": "stdout",
     "output_type": "stream",
     "text": [
      "=============================================================\n",
      "epoch: 8, source_val_acc_label: 0.9996, target_val_acc_label: 0.1459, source_val_label_loss: 0.0049, target_val_label_loss: 4.6295, \n",
      "=============================================================\n"
     ]
    },
    {
     "name": "stdout",
     "output_type": "stream",
     "text": [
      "epoch: 9, [batch: 1 / 6311], examples_per_second: 1.3984, train_label_loss: 0.0000, \n"
     ]
    },
    {
     "name": "stdout",
     "output_type": "stream",
     "text": [
      "epoch: 9, [batch: 632 / 6311], examples_per_second: 3409.5522, train_label_loss: 0.0000, \n"
     ]
    },
    {
     "name": "stdout",
     "output_type": "stream",
     "text": [
      "epoch: 9, [batch: 1263 / 6311], examples_per_second: 3539.1593, train_label_loss: 0.0000, \n"
     ]
    },
    {
     "name": "stdout",
     "output_type": "stream",
     "text": [
      "epoch: 9, [batch: 1894 / 6311], examples_per_second: 3395.4020, train_label_loss: 0.0000, \n"
     ]
    },
    {
     "name": "stdout",
     "output_type": "stream",
     "text": [
      "epoch: 9, [batch: 2525 / 6311], examples_per_second: 3961.0099, train_label_loss: 0.0000, \n"
     ]
    },
    {
     "name": "stdout",
     "output_type": "stream",
     "text": [
      "epoch: 9, [batch: 3156 / 6311], examples_per_second: 3930.1255, train_label_loss: 0.0000, \n"
     ]
    },
    {
     "name": "stdout",
     "output_type": "stream",
     "text": [
      "epoch: 9, [batch: 3787 / 6311], examples_per_second: 2960.6991, train_label_loss: 0.0000, \n"
     ]
    },
    {
     "name": "stdout",
     "output_type": "stream",
     "text": [
      "epoch: 9, [batch: 4418 / 6311], examples_per_second: 2961.9967, train_label_loss: 0.0000, \n"
     ]
    },
    {
     "name": "stdout",
     "output_type": "stream",
     "text": [
      "epoch: 9, [batch: 5049 / 6311], examples_per_second: 2997.9294, train_label_loss: 0.0000, \n"
     ]
    },
    {
     "name": "stdout",
     "output_type": "stream",
     "text": [
      "epoch: 9, [batch: 5680 / 6311], examples_per_second: 2980.0575, train_label_loss: 0.0000, \n"
     ]
    },
    {
     "name": "stdout",
     "output_type": "stream",
     "text": [
      "=============================================================\n",
      "epoch: 9, source_val_acc_label: 0.9994, target_val_acc_label: 0.1435, source_val_label_loss: 0.0085, target_val_label_loss: 4.4128, \n",
      "=============================================================\n"
     ]
    },
    {
     "name": "stdout",
     "output_type": "stream",
     "text": [
      "Patience (3) exhausted\n"
     ]
    }
   ],
   "source": [
    "###################################\n",
    "# train\n",
    "###################################\n",
    "jig = PTN_Train_Eval_Test_Jig(model, p.BEST_MODEL_PATH, p.device)\n",
    "\n",
    "jig.train(\n",
    "    train_iterable=datasets.source.processed.train,\n",
    "    source_val_iterable=datasets.source.processed.val,\n",
    "    target_val_iterable=datasets.target.processed.val,\n",
    "    num_epochs=p.n_epoch,\n",
    "    num_logs_per_epoch=p.NUM_LOGS_PER_EPOCH,\n",
    "    patience=p.patience,\n",
    "    optimizer=optimizer,\n",
    "    criteria_for_best=p.criteria_for_best,\n",
    ")"
   ]
  },
  {
   "cell_type": "code",
   "execution_count": 23,
   "id": "31e8fabf",
   "metadata": {
    "execution": {
     "iopub.execute_input": "2022-03-23T08:40:03.280254Z",
     "iopub.status.busy": "2022-03-23T08:40:03.279892Z",
     "iopub.status.idle": "2022-03-23T08:40:03.311449Z",
     "shell.execute_reply": "2022-03-23T08:40:03.310745Z"
    },
    "papermill": {
     "duration": 0.087703,
     "end_time": "2022-03-23T08:40:03.311635",
     "exception": false,
     "start_time": "2022-03-23T08:40:03.223932",
     "status": "completed"
    },
    "tags": []
   },
   "outputs": [],
   "source": [
    "total_experiment_time_secs = time.time() - start_time_secs"
   ]
  },
  {
   "cell_type": "code",
   "execution_count": 24,
   "id": "87b9595b",
   "metadata": {
    "execution": {
     "iopub.execute_input": "2022-03-23T08:40:03.423980Z",
     "iopub.status.busy": "2022-03-23T08:40:03.423592Z",
     "iopub.status.idle": "2022-03-23T08:49:31.540064Z",
     "shell.execute_reply": "2022-03-23T08:49:31.539293Z"
    },
    "papermill": {
     "duration": 568.171601,
     "end_time": "2022-03-23T08:49:31.540251",
     "exception": false,
     "start_time": "2022-03-23T08:40:03.368650",
     "status": "completed"
    },
    "tags": []
   },
   "outputs": [],
   "source": [
    "###################################\n",
    "# Evaluate the model\n",
    "###################################\n",
    "source_test_label_accuracy, source_test_label_loss = jig.test(datasets.source.processed.test)\n",
    "target_test_label_accuracy, target_test_label_loss = jig.test(datasets.target.processed.test)\n",
    "\n",
    "source_val_label_accuracy, source_val_label_loss = jig.test(datasets.source.processed.val)\n",
    "target_val_label_accuracy, target_val_label_loss = jig.test(datasets.target.processed.val)\n",
    "\n",
    "history = jig.get_history()\n",
    "\n",
    "total_epochs_trained = len(history[\"epoch_indices\"])\n",
    "\n",
    "val_dl = Iterable_Aggregator((datasets.source.original.val,datasets.target.original.val))\n",
    "\n",
    "confusion = ptn_confusion_by_domain_over_dataloader(model, p.device, val_dl)\n",
    "per_domain_accuracy = per_domain_accuracy_from_confusion(confusion)\n",
    "\n",
    "# Add a key to per_domain_accuracy for if it was a source domain\n",
    "for domain, accuracy in per_domain_accuracy.items():\n",
    "    per_domain_accuracy[domain] = {\n",
    "        \"accuracy\": accuracy,\n",
    "        \"source?\": domain in p.domains_source\n",
    "    }\n",
    "\n",
    "# Do an independent accuracy assesment JUST TO BE SURE!\n",
    "# _source_test_label_accuracy = independent_accuracy_assesment(model, datasets.source.processed.test, p.device)\n",
    "# _target_test_label_accuracy = independent_accuracy_assesment(model, datasets.target.processed.test, p.device)\n",
    "# _source_val_label_accuracy = independent_accuracy_assesment(model, datasets.source.processed.val, p.device)\n",
    "# _target_val_label_accuracy = independent_accuracy_assesment(model, datasets.target.processed.val, p.device)\n",
    "\n",
    "# assert(_source_test_label_accuracy == source_test_label_accuracy)\n",
    "# assert(_target_test_label_accuracy == target_test_label_accuracy)\n",
    "# assert(_source_val_label_accuracy == source_val_label_accuracy)\n",
    "# assert(_target_val_label_accuracy == target_val_label_accuracy)\n",
    "\n",
    "experiment = {\n",
    "    \"experiment_name\": p.experiment_name,\n",
    "    \"parameters\": dict(p),\n",
    "    \"results\": {\n",
    "        \"source_test_label_accuracy\": source_test_label_accuracy,\n",
    "        \"source_test_label_loss\": source_test_label_loss,\n",
    "        \"target_test_label_accuracy\": target_test_label_accuracy,\n",
    "        \"target_test_label_loss\": target_test_label_loss,\n",
    "        \"source_val_label_accuracy\": source_val_label_accuracy,\n",
    "        \"source_val_label_loss\": source_val_label_loss,\n",
    "        \"target_val_label_accuracy\": target_val_label_accuracy,\n",
    "        \"target_val_label_loss\": target_val_label_loss,\n",
    "        \"total_epochs_trained\": total_epochs_trained,\n",
    "        \"total_experiment_time_secs\": total_experiment_time_secs,\n",
    "        \"confusion\": confusion,\n",
    "        \"per_domain_accuracy\": per_domain_accuracy,\n",
    "    },\n",
    "    \"history\": history,\n",
    "    \"dataset_metrics\": get_dataset_metrics(datasets, \"ptn\"),\n",
    "}"
   ]
  },
  {
   "cell_type": "code",
   "execution_count": 25,
   "id": "54a21829",
   "metadata": {
    "execution": {
     "iopub.execute_input": "2022-03-23T08:49:31.651383Z",
     "iopub.status.busy": "2022-03-23T08:49:31.650608Z",
     "iopub.status.idle": "2022-03-23T08:49:31.865413Z",
     "shell.execute_reply": "2022-03-23T08:49:31.864702Z"
    },
    "papermill": {
     "duration": 0.268222,
     "end_time": "2022-03-23T08:49:31.865576",
     "exception": false,
     "start_time": "2022-03-23T08:49:31.597354",
     "status": "completed"
    },
    "tags": []
   },
   "outputs": [
    {
     "data": {
      "image/png": "[encoded data removed]",
      "text/plain": [
       "<Figure size 1080x504 with 1 Axes>"
      ]
     },
     "metadata": {
      "needs_background": "light"
     },
     "output_type": "display_data"
    }
   ],
   "source": [
    "ax = get_loss_curve(experiment)\n",
    "plt.show()"
   ]
  },
  {
   "cell_type": "code",
   "execution_count": 26,
   "id": "fd8a0f60",
   "metadata": {
    "execution": {
     "iopub.execute_input": "2022-03-23T08:49:31.977826Z",
     "iopub.status.busy": "2022-03-23T08:49:31.977199Z",
     "iopub.status.idle": "2022-03-23T08:49:32.296444Z",
     "shell.execute_reply": "2022-03-23T08:49:32.297112Z"
    },
    "papermill": {
     "duration": 0.374704,
     "end_time": "2022-03-23T08:49:32.297325",
     "exception": false,
     "start_time": "2022-03-23T08:49:31.922621",
     "status": "completed"
    },
    "tags": []
   },
   "outputs": [
    {
     "data": {
      "text/plain": [
       "<AxesSubplot:title={'center':'Results'}>"
      ]
     },
     "execution_count": 26,
     "metadata": {},
     "output_type": "execute_result"
    },
    {
     "data": {
      "image/png": "[encoded data removed]",
      "text/plain": [
       "<Figure size 1080x504 with 1 Axes>"
      ]
     },
     "metadata": {
      "needs_background": "light"
     },
     "output_type": "display_data"
    }
   ],
   "source": [
    "get_results_table(experiment)"
   ]
  },
  {
   "cell_type": "code",
   "execution_count": 27,
   "id": "cf8dc689",
   "metadata": {
    "execution": {
     "iopub.execute_input": "2022-03-23T08:49:32.415924Z",
     "iopub.status.busy": "2022-03-23T08:49:32.415542Z",
     "iopub.status.idle": "2022-03-23T08:49:32.672860Z",
     "shell.execute_reply": "2022-03-23T08:49:32.672468Z"
    },
    "papermill": {
     "duration": 0.315541,
     "end_time": "2022-03-23T08:49:32.672940",
     "exception": false,
     "start_time": "2022-03-23T08:49:32.357399",
     "status": "completed"
    },
    "tags": []
   },
   "outputs": [
    {
     "data": {
      "text/plain": [
       "<AxesSubplot:title={'center':'Per Domain Validation Accuracy'}, xlabel='domain'>"
      ]
     },
     "execution_count": 27,
     "metadata": {},
     "output_type": "execute_result"
    },
    {
     "data": {
      "image/png": "[encoded data removed]",
      "text/plain": [
       "<Figure size 1080x504 with 1 Axes>"
      ]
     },
     "metadata": {
      "needs_background": "light"
     },
     "output_type": "display_data"
    }
   ],
   "source": [
    "get_domain_accuracies(experiment)"
   ]
  },
  {
   "cell_type": "code",
   "execution_count": 28,
   "id": "a74ae082",
   "metadata": {
    "execution": {
     "iopub.execute_input": "2022-03-23T08:49:32.788429Z",
     "iopub.status.busy": "2022-03-23T08:49:32.788049Z",
     "iopub.status.idle": "2022-03-23T08:49:32.814173Z",
     "shell.execute_reply": "2022-03-23T08:49:32.813856Z"
    },
    "papermill": {
     "duration": 0.086013,
     "end_time": "2022-03-23T08:49:32.814247",
     "exception": false,
     "start_time": "2022-03-23T08:49:32.728234",
     "status": "completed"
    },
    "tags": []
   },
   "outputs": [
    {
     "name": "stdout",
     "output_type": "stream",
     "text": [
      "Source Test Label Accuracy: 0.9991573033707866 Target Test Label Accuracy: 0.16258463541666668\n",
      "Source Val Label Accuracy: 0.9995357142857143 Target Val Label Accuracy: 0.16130208333333335\n"
     ]
    }
   ],
   "source": [
    "print(\"Source Test Label Accuracy:\", experiment[\"results\"][\"source_test_label_accuracy\"], \"Target Test Label Accuracy:\", experiment[\"results\"][\"target_test_label_accuracy\"])\n",
    "print(\"Source Val Label Accuracy:\", experiment[\"results\"][\"source_val_label_accuracy\"], \"Target Val Label Accuracy:\", experiment[\"results\"][\"target_val_label_accuracy\"])"
   ]
  },
  {
   "cell_type": "code",
   "execution_count": 29,
   "id": "dacca602",
   "metadata": {
    "execution": {
     "iopub.execute_input": "2022-03-23T08:49:32.930956Z",
     "iopub.status.busy": "2022-03-23T08:49:32.930579Z",
     "iopub.status.idle": "2022-03-23T08:49:32.955270Z",
     "shell.execute_reply": "2022-03-23T08:49:32.955934Z"
    },
    "papermill": {
     "duration": 0.084615,
     "end_time": "2022-03-23T08:49:32.956060",
     "exception": false,
     "start_time": "2022-03-23T08:49:32.871445",
     "status": "completed"
    },
    "tags": [
     "experiment_json"
    ]
   },
   "outputs": [
    {
     "data": {
      "text/plain": [
       "'{\"experiment_name\": \"tl_1v2:cores-oracle.run1\", \"parameters\": {\"experiment_name\": \"tl_1v2:cores-oracle.run1\", \"device\": \"cuda\", \"lr\": 0.0001, \"n_shot\": 3, \"n_query\": 2, \"train_k_factor\": 3, \"val_k_factor\": 2, \"test_k_factor\": 2, \"torch_default_dtype\": \"torch.float32\", \"n_epoch\": 50, \"patience\": 3, \"criteria_for_best\": \"target_accuracy\", \"x_net\": [{\"class\": \"nnReshape\", \"kargs\": {\"shape\": [-1, 1, 2, 256]}}, {\"class\": \"Conv2d\", \"kargs\": {\"in_channels\": 1, \"out_channels\": 256, \"kernel_size\": [1, 7], \"bias\": false, \"padding\": [0, 3]}}, {\"class\": \"ReLU\", \"kargs\": {\"inplace\": true}}, {\"class\": \"BatchNorm2d\", \"kargs\": {\"num_features\": 256}}, {\"class\": \"Conv2d\", \"kargs\": {\"in_channels\": 256, \"out_channels\": 80, \"kernel_size\": [2, 7], \"bias\": true, \"padding\": [0, 3]}}, {\"class\": \"ReLU\", \"kargs\": {\"inplace\": true}}, {\"class\": \"BatchNorm2d\", \"kargs\": {\"num_features\": 80}}, {\"class\": \"Flatten\", \"kargs\": {}}, {\"class\": \"Linear\", \"kargs\": {\"in_features\": 20480, \"out_features\": 256}}, {\"class\": \"ReLU\", \"kargs\": {\"inplace\": true}}, {\"class\": \"BatchNorm1d\", \"kargs\": {\"num_features\": 256}}, {\"class\": \"Linear\", \"kargs\": {\"in_features\": 256, \"out_features\": 256}}], \"NUM_LOGS_PER_EPOCH\": 10, \"BEST_MODEL_PATH\": \"./best_model.pth\", \"n_way\": 16, \"datasets\": [{\"labels\": [\"1-10.\", \"1-11.\", \"1-15.\", \"1-16.\", \"1-17.\", \"1-18.\", \"1-19.\", \"10-4.\", \"10-7.\", \"11-1.\", \"11-14.\", \"11-17.\", \"11-20.\", \"11-7.\", \"13-20.\", \"13-8.\", \"14-10.\", \"14-11.\", \"14-14.\", \"14-7.\", \"15-1.\", \"15-20.\", \"16-1.\", \"16-16.\", \"17-10.\", \"17-11.\", \"17-2.\", \"19-1.\", \"19-16.\", \"19-19.\", \"19-20.\", \"19-3.\", \"2-10.\", \"2-11.\", \"2-17.\", \"2-18.\", \"2-20.\", \"2-3.\", \"2-4.\", \"2-5.\", \"2-6.\", \"2-7.\", \"2-8.\", \"3-13.\", \"3-18.\", \"3-3.\", \"4-1.\", \"4-10.\", \"4-11.\", \"4-19.\", \"5-5.\", \"6-15.\", \"7-10.\", \"7-14.\", \"8-18.\", \"8-20.\", \"8-3.\", \"8-8.\"], \"domains\": [1, 2, 3, 4, 5], \"num_examples_per_domain_per_label\": -1, \"pickle_path\": \"/root/csc500-main/datasets/cores.stratified_ds.2022A.pkl\", \"source_or_target_dataset\": \"source\", \"x_transforms\": [\"unit_mag\"], \"episode_transforms\": [], \"domain_prefix\": \"CORES_\"}, {\"labels\": [\"3123D52\", \"3123D65\", \"3123D79\", \"3123D80\", \"3123D54\", \"3123D70\", \"3123D7B\", \"3123D89\", \"3123D58\", \"3123D76\", \"3123D7D\", \"3123EFE\", \"3123D64\", \"3123D78\", \"3123D7E\", \"3124E4A\"], \"domains\": [32, 38, 8, 44, 14, 50, 20, 26], \"num_examples_per_domain_per_label\": 10000, \"pickle_path\": \"/root/csc500-main/datasets/oracle.Run1_10kExamples_stratified_ds.2022A.pkl\", \"source_or_target_dataset\": \"target\", \"x_transforms\": [\"unit_mag\"], \"episode_transforms\": [], \"domain_prefix\": \"ORACLE.run1_\"}], \"dataset_seed\": 500, \"seed\": 500, \"x_shape\": [2, 256], \"domains_source\": [\"CORES_1\", \"CORES_2\", \"CORES_3\", \"CORES_4\", \"CORES_5\"], \"domains_target\": [\"ORACLE.run1_32\", \"ORACLE.run1_38\", \"ORACLE.run1_8\", \"ORACLE.run1_44\", \"ORACLE.run1_14\", \"ORACLE.run1_50\", \"ORACLE.run1_20\", \"ORACLE.run1_26\"]}, \"results\": {\"source_test_label_accuracy\": 0.9991573033707866, \"source_test_label_loss\": 0.008402536623179913, \"target_test_label_accuracy\": 0.16258463541666668, \"target_test_label_loss\": 3.585286855697632, \"source_val_label_accuracy\": 0.9995357142857143, \"source_val_label_loss\": 0.0045052641071379185, \"target_val_label_accuracy\": 0.16130208333333335, \"target_val_label_loss\": 3.595980644226074, \"total_epochs_trained\": 9, \"total_experiment_time_secs\": 2493.1820950508118, \"confusion\": {\"CORES_4\": {\"38\": {\"38\": 40}, \"3\": {\"3\": 124}, \"24\": {\"24\": 56}, \"49\": {\"49\": 20}, \"7\": {\"7\": 24}, \"17\": {\"17\": 80}, \"43\": {\"43\": 148}, \"30\": {\"30\": 44}, \"44\": {\"44\": 132}, \"23\": {\"23\": 144}, \"37\": {\"37\": 24}, \"4\": {\"4\": 132}, \"57\": {\"57\": 100}, \"16\": {\"16\": 96}, \"18\": {\"18\": 107, \"3\": 1}, \"20\": {\"20\": 124}, \"45\": {\"45\": 96}, \"15\": {\"15\": 132}, \"52\": {\"52\": 116}, \"19\": {\"19\": 140}, \"54\": {\"54\": 108}, \"56\": {\"56\": 130}, \"40\": {\"40\": 134}, \"28\": {\"28\": 32}, \"2\": {\"2\": 36}, \"9\": {\"9\": 120}, \"0\": {\"0\": 80}, \"36\": {\"36\": 92}, \"55\": {\"55\": 130}, \"35\": {\"35\": 40}, \"39\": {\"39\": 20}, \"31\": {\"31\": 28}, \"14\": {\"14\": 16}, \"12\": {\"12\": 92}, \"6\": {\"6\": 110, \"3\": 1, \"5\": 1}, \"26\": {\"26\": 24}, \"50\": {\"50\": 132}, \"21\": {\"21\": 122}, \"46\": {\"46\": 140}, \"51\": {\"51\": 140}, \"41\": {\"41\": 36}, \"34\": {\"34\": 24}, \"47\": {\"47\": 120}, \"5\": {\"5\": 108}, \"1\": {\"1\": 40}, \"48\": {\"48\": 134}, \"29\": {\"29\": 118}, \"22\": {\"22\": 128}, \"10\": {\"10\": 132}, \"32\": {\"32\": 24}, \"13\": {\"13\": 112}, \"42\": {\"42\": 32}, \"27\": {\"27\": 138}, \"8\": {\"8\": 142}, \"33\": {\"33\": 36}, \"25\": {\"25\": 132}, \"11\": {\"11\": 104}, \"53\": {\"53\": 112}}, \"CORES_2\": {\"32\": {\"32\": 28}, \"17\": {\"17\": 104}, \"38\": {\"38\": 20}, \"2\": {\"2\": 32}, \"43\": {\"43\": 144}, \"56\": {\"56\": 144}, \"37\": {\"37\": 36}, \"49\": {\"49\": 24}, \"0\": {\"0\": 48}, \"29\": {\"29\": 128}, \"35\": {\"35\": 32}, \"18\": {\"18\": 48}, \"25\": {\"25\": 136}, \"23\": {\"23\": 124}, \"15\": {\"15\": 146}, \"21\": {\"21\": 120}, \"51\": {\"51\": 128}, \"20\": {\"20\": 138}, \"7\": {\"7\": 36}, \"50\": {\"50\": 136}, \"31\": {\"31\": 28}, \"30\": {\"30\": 140}, \"19\": {\"19\": 156}, \"9\": {\"9\": 144}, \"52\": {\"52\": 124}, \"45\": {\"45\": 128}, \"8\": {\"8\": 154}, \"55\": {\"55\": 160}, \"12\": {\"12\": 92}, \"40\": {\"40\": 140}, \"28\": {\"28\": 28}, \"36\": {\"36\": 116}, \"39\": {\"39\": 28}, \"46\": {\"46\": 122}, \"14\": {\"14\": 24}, \"57\": {\"57\": 142}, \"34\": {\"34\": 28}, \"1\": {\"1\": 112}, \"53\": {\"53\": 136}, \"48\": {\"48\": 130}, \"3\": {\"3\": 92}, \"16\": {\"16\": 152}, \"6\": {\"6\": 124}, \"10\": {\"10\": 112}, \"13\": {\"13\": 116}, \"26\": {\"26\": 24}, \"24\": {\"24\": 93, \"13\": 3}, \"44\": {\"44\": 100}, \"27\": {\"27\": 150}, \"22\": {\"22\": 128}, \"33\": {\"33\": 28}, \"47\": {\"47\": 118}, \"5\": {\"5\": 120}, \"4\": {\"4\": 138}, \"41\": {\"41\": 20}, \"11\": {\"11\": 150}, \"54\": {\"54\": 108}, \"42\": {\"42\": 36}}, \"CORES_3\": {\"5\": {\"5\": 116}, \"32\": {\"32\": 28}, \"33\": {\"33\": 28}, \"49\": {\"49\": 20}, \"39\": {\"39\": 16}, \"11\": {\"11\": 142}, \"8\": {\"8\": 116}, \"26\": {\"26\": 24}, \"51\": {\"51\": 122}, \"4\": {\"4\": 146}, \"52\": {\"52\": 118}, \"47\": {\"47\": 92}, \"17\": {\"17\": 107, \"56\": 1}, \"53\": {\"53\": 136}, \"2\": {\"2\": 32}, \"12\": {\"12\": 92}, \"37\": {\"37\": 28}, \"9\": {\"9\": 148}, \"13\": {\"13\": 128}, \"54\": {\"54\": 100}, \"31\": {\"31\": 28}, \"34\": {\"34\": 32}, \"24\": {\"24\": 104}, \"7\": {\"7\": 36}, \"50\": {\"50\": 118}, \"46\": {\"46\": 128}, \"44\": {\"44\": 88}, \"40\": {\"40\": 116}, \"21\": {\"21\": 128}, \"45\": {\"45\": 60}, \"16\": {\"16\": 126}, \"14\": {\"14\": 39, \"57\": 1}, \"36\": {\"36\": 100}, \"56\": {\"56\": 114}, \"10\": {\"10\": 64}, \"18\": {\"18\": 84}, \"48\": {\"48\": 116}, \"38\": {\"38\": 28}, \"27\": {\"27\": 130}, \"42\": {\"42\": 28}, \"15\": {\"15\": 134}, \"1\": {\"1\": 100}, \"28\": {\"28\": 28}, \"43\": {\"43\": 136}, \"0\": {\"0\": 124}, \"57\": {\"57\": 124}, \"3\": {\"3\": 148}, \"29\": {\"29\": 124}, \"41\": {\"41\": 28}, \"25\": {\"25\": 146}, \"6\": {\"6\": 87, \"11\": 1}, \"35\": {\"35\": 28}, \"20\": {\"20\": 126}, \"23\": {\"23\": 134}, \"22\": {\"22\": 140}, \"19\": {\"19\": 116}, \"55\": {\"55\": 124}, \"30\": {\"30\": 120}}, \"CORES_1\": {\"24\": {\"24\": 107, \"22\": 1}, \"25\": {\"25\": 140}, \"45\": {\"45\": 144}, \"42\": {\"42\": 39, \"45\": 1}, \"2\": {\"2\": 36}, \"9\": {\"9\": 150}, \"21\": {\"21\": 124}, \"26\": {\"26\": 24}, \"49\": {\"49\": 32}, \"39\": {\"39\": 28}, \"46\": {\"46\": 136}, \"17\": {\"17\": 64}, \"19\": {\"19\": 156}, \"23\": {\"23\": 132}, \"1\": {\"1\": 100}, \"29\": {\"29\": 140}, \"56\": {\"56\": 150}, \"37\": {\"37\": 32}, \"33\": {\"33\": 32}, \"55\": {\"55\": 142}, \"30\": {\"30\": 120}, \"0\": {\"0\": 152}, \"36\": {\"36\": 64}, \"32\": {\"32\": 32}, \"31\": {\"31\": 28}, \"15\": {\"15\": 138}, \"12\": {\"12\": 116}, \"38\": {\"38\": 24}, \"40\": {\"40\": 146}, \"14\": {\"14\": 24}, \"13\": {\"13\": 150}, \"48\": {\"48\": 148}, \"34\": {\"34\": 24}, \"44\": {\"44\": 130}, \"5\": {\"5\": 152}, \"11\": {\"11\": 140}, \"7\": {\"7\": 28}, \"18\": {\"18\": 72}, \"52\": {\"52\": 132}, \"51\": {\"51\": 142}, \"41\": {\"41\": 24}, \"16\": {\"16\": 140}, \"22\": {\"22\": 133, \"24\": 1}, \"3\": {\"3\": 140}, \"54\": {\"54\": 104}, \"27\": {\"27\": 144}, \"20\": {\"20\": 140}, \"8\": {\"8\": 138}, \"50\": {\"50\": 144}, \"57\": {\"57\": 140}, \"4\": {\"4\": 132}, \"47\": {\"47\": 146}, \"10\": {\"10\": 96}, \"35\": {\"35\": 36}, \"53\": {\"53\": 126}, \"6\": {\"6\": 96}, \"43\": {\"43\": 140}, \"28\": {\"28\": 28}}, \"CORES_5\": {\"35\": {\"35\": 36}, \"57\": {\"57\": 132}, \"20\": {\"20\": 144}, \"12\": {\"12\": 96}, \"32\": {\"32\": 32}, \"25\": {\"25\": 138}, \"44\": {\"44\": 148}, \"31\": {\"31\": 36}, \"11\": {\"11\": 150}, \"47\": {\"47\": 100}, \"23\": {\"23\": 124}, \"43\": {\"43\": 144}, \"37\": {\"37\": 24}, \"5\": {\"5\": 128}, \"45\": {\"45\": 124}, \"7\": {\"7\": 32}, \"13\": {\"13\": 136}, \"49\": {\"49\": 36}, \"46\": {\"46\": 148}, \"16\": {\"16\": 136}, \"54\": {\"54\": 112}, \"19\": {\"19\": 152}, \"55\": {\"55\": 150}, \"30\": {\"30\": 128}, \"34\": {\"34\": 36}, \"50\": {\"50\": 134}, \"3\": {\"3\": 100}, \"10\": {\"10\": 68}, \"27\": {\"27\": 142}, \"33\": {\"33\": 32}, \"56\": {\"56\": 142}, \"9\": {\"9\": 150}, \"14\": {\"14\": 44}, \"4\": {\"4\": 100}, \"42\": {\"42\": 40}, \"24\": {\"24\": 80}, \"39\": {\"39\": 20}, \"52\": {\"52\": 130}, \"2\": {\"2\": 28}, \"28\": {\"28\": 32}, \"53\": {\"53\": 122}, \"17\": {\"17\": 116}, \"29\": {\"29\": 132}, \"38\": {\"38\": 32}, \"15\": {\"15\": 144}, \"26\": {\"26\": 24}, \"21\": {\"21\": 144}, \"41\": {\"41\": 28}, \"48\": {\"48\": 136}, \"22\": {\"22\": 28}, \"8\": {\"8\": 148}, \"18\": {\"18\": 64}, \"0\": {\"0\": 122}, \"1\": {\"1\": 138}, \"40\": {\"40\": 124}, \"6\": {\"6\": 127, \"50\": 1}, \"51\": {\"51\": 142}, \"36\": {\"36\": 92}}, \"ORACLE.run1_50\": {\"7\": {\"15\": 56, \"10\": 133, \"3\": 77, \"8\": 80, \"2\": 52, \"0\": 77, \"1\": 56, \"6\": 119, \"5\": 127, \"7\": 138, \"14\": 40, \"13\": 137, \"4\": 77, \"9\": 4, \"12\": 11, \"11\": 16}, \"10\": {\"2\": 106, \"3\": 132, \"5\": 90, \"14\": 29, \"1\": 39, \"4\": 37, \"10\": 162, \"0\": 133, \"8\": 156, \"13\": 105, \"7\": 116, \"11\": 8, \"6\": 57, \"15\": 23, \"12\": 6, \"9\": 1}, \"0\": {\"5\": 73, \"6\": 54, \"1\": 54, \"0\": 150, \"13\": 93, \"10\": 145, \"12\": 19, \"2\": 176, \"7\": 91, \"8\": 119, \"14\": 61, \"11\": 21, \"3\": 73, \"4\": 37, \"9\": 10, \"15\": 24}, \"11\": {\"4\": 95, \"10\": 7, \"11\": 199, \"1\": 102, \"9\": 219, \"14\": 129, \"5\": 34, \"15\": 129, \"12\": 163, \"0\": 16, \"6\": 53, \"13\": 21, \"7\": 13, \"2\": 18, \"8\": 2}, \"2\": {\"13\": 70, \"2\": 210, \"7\": 68, \"15\": 33, \"14\": 105, \"10\": 102, \"0\": 164, \"1\": 76, \"4\": 45, \"5\": 61, \"9\": 19, \"12\": 53, \"6\": 61, \"3\": 31, \"8\": 76, \"11\": 26}, \"14\": {\"14\": 173, \"5\": 47, \"4\": 67, \"1\": 91, \"2\": 82, \"15\": 92, \"11\": 130, \"9\": 146, \"12\": 176, \"7\": 33, \"6\": 61, \"10\": 10, \"0\": 47, \"13\": 39, \"8\": 5, \"3\": 1}, \"9\": {\"9\": 338, \"1\": 54, \"11\": 212, \"14\": 134, \"15\": 81, \"5\": 7, \"12\": 260, \"6\": 19, \"4\": 56, \"2\": 16, \"10\": 2, \"13\": 13, \"0\": 4, \"7\": 3, \"3\": 1}, \"13\": {\"0\": 67, \"5\": 128, \"7\": 157, \"8\": 59, \"4\": 85, \"15\": 61, \"6\": 112, \"13\": 149, \"2\": 68, \"1\": 80, \"3\": 34, \"12\": 14, \"10\": 98, \"14\": 50, \"9\": 14, \"11\": 24}, \"8\": {\"10\": 171, \"2\": 84, \"8\": 296, \"3\": 331, \"7\": 67, \"0\": 126, \"13\": 45, \"5\": 39, \"6\": 20, \"4\": 6, \"15\": 3, \"1\": 5, \"12\": 1, \"14\": 6}, \"15\": {\"11\": 114, \"9\": 100, \"6\": 113, \"4\": 153, \"2\": 27, \"15\": 165, \"10\": 25, \"5\": 82, \"12\": 55, \"7\": 64, \"13\": 68, \"14\": 87, \"1\": 113, \"0\": 24, \"8\": 6, \"3\": 4}, \"4\": {\"1\": 110, \"10\": 50, \"6\": 135, \"9\": 73, \"11\": 87, \"13\": 92, \"2\": 41, \"7\": 90, \"15\": 114, \"8\": 16, \"0\": 37, \"4\": 122, \"12\": 43, \"5\": 106, \"14\": 81, \"3\": 3}, \"5\": {\"5\": 117, \"0\": 65, \"13\": 132, \"4\": 92, \"15\": 83, \"10\": 94, \"9\": 26, \"7\": 125, \"6\": 112, \"12\": 16, \"8\": 51, \"11\": 40, \"1\": 79, \"2\": 65, \"14\": 52, \"3\": 51}, \"3\": {\"8\": 284, \"10\": 106, \"3\": 537, \"7\": 69, \"2\": 39, \"13\": 37, \"5\": 35, \"0\": 67, \"6\": 13, \"1\": 5, \"14\": 4, \"4\": 4}, \"1\": {\"11\": 94, \"1\": 109, \"4\": 112, \"6\": 107, \"14\": 114, \"2\": 42, \"10\": 38, \"0\": 50, \"5\": 99, \"9\": 61, \"15\": 147, \"12\": 61, \"8\": 14, \"7\": 75, \"13\": 73, \"3\": 4}, \"6\": {\"6\": 131, \"5\": 124, \"11\": 61, \"12\": 30, \"15\": 124, \"13\": 108, \"4\": 104, \"2\": 47, \"0\": 59, \"1\": 100, \"8\": 35, \"14\": 59, \"7\": 111, \"10\": 63, \"9\": 31, \"3\": 13}, \"12\": {\"12\": 314, \"4\": 35, \"9\": 280, \"1\": 53, \"15\": 60, \"0\": 15, \"2\": 28, \"11\": 195, \"14\": 161, \"13\": 15, \"5\": 8, \"6\": 22, \"7\": 11, \"10\": 3}}, \"ORACLE.run1_14\": {\"14\": {\"14\": 123, \"6\": 118, \"2\": 96, \"13\": 130, \"5\": 85, \"4\": 79, \"15\": 52, \"11\": 75, \"9\": 25, \"7\": 54, \"3\": 87, \"10\": 103, \"8\": 28, \"1\": 72, \"0\": 67, \"12\": 6}, \"6\": {\"3\": 83, \"1\": 83, \"7\": 75, \"2\": 116, \"6\": 138, \"13\": 125, \"4\": 84, \"14\": 123, \"5\": 93, \"10\": 81, \"8\": 30, \"15\": 71, \"11\": 31, \"9\": 16, \"0\": 49, \"12\": 2}, \"5\": {\"1\": 115, \"4\": 111, \"11\": 29, \"10\": 48, \"6\": 102, \"2\": 100, \"5\": 102, \"8\": 51, \"7\": 132, \"3\": 89, \"15\": 124, \"14\": 57, \"0\": 45, \"13\": 83, \"9\": 9, \"12\": 3}, \"15\": {\"1\": 93, \"15\": 318, \"7\": 253, \"5\": 103, \"6\": 82, \"13\": 60, \"3\": 46, \"2\": 89, \"14\": 39, \"4\": 84, \"8\": 16, \"0\": 10, \"10\": 5, \"11\": 1, \"9\": 1}, \"11\": {\"8\": 73, \"11\": 227, \"1\": 20, \"10\": 124, \"0\": 158, \"3\": 61, \"13\": 42, \"12\": 155, \"9\": 178, \"6\": 29, \"4\": 31, \"14\": 55, \"2\": 23, \"5\": 15, \"7\": 8, \"15\": 1}, \"8\": {\"0\": 114, \"11\": 84, \"1\": 92, \"5\": 66, \"8\": 240, \"10\": 92, \"7\": 44, \"13\": 27, \"2\": 42, \"12\": 51, \"15\": 25, \"9\": 125, \"3\": 71, \"4\": 68, \"14\": 34, \"6\": 25}, \"12\": {\"9\": 302, \"12\": 565, \"11\": 138, \"6\": 2, \"10\": 43, \"0\": 63, \"3\": 19, \"14\": 8, \"8\": 47, \"4\": 3, \"5\": 1, \"2\": 1, \"1\": 7, \"13\": 1}, \"1\": {\"1\": 110, \"14\": 68, \"13\": 67, \"3\": 76, \"8\": 87, \"10\": 59, \"5\": 134, \"4\": 110, \"7\": 126, \"2\": 112, \"15\": 88, \"6\": 75, \"11\": 21, \"0\": 48, \"9\": 19}, \"2\": {\"6\": 107, \"3\": 90, \"7\": 100, \"14\": 110, \"10\": 64, \"13\": 111, \"5\": 84, \"15\": 105, \"1\": 91, \"11\": 30, \"4\": 84, \"0\": 60, \"8\": 32, \"2\": 119, \"9\": 11, \"12\": 2}, \"13\": {\"14\": 127, \"0\": 68, \"6\": 144, \"8\": 17, \"2\": 116, \"4\": 86, \"3\": 78, \"13\": 123, \"1\": 82, \"7\": 71, \"5\": 89, \"15\": 86, \"10\": 69, \"9\": 14, \"11\": 28, \"12\": 2}, \"3\": {\"11\": 77, \"10\": 94, \"4\": 97, \"2\": 79, \"3\": 82, \"1\": 83, \"8\": 74, \"14\": 79, \"6\": 92, \"15\": 37, \"9\": 49, \"5\": 90, \"13\": 83, \"7\": 65, \"0\": 105, \"12\": 14}, \"0\": {\"10\": 131, \"8\": 86, \"3\": 82, \"1\": 55, \"9\": 119, \"6\": 37, \"14\": 93, \"11\": 161, \"0\": 145, \"4\": 70, \"2\": 42, \"13\": 51, \"12\": 62, \"15\": 11, \"5\": 40, \"7\": 15}, \"9\": {\"9\": 269, \"11\": 185, \"12\": 278, \"10\": 90, \"1\": 20, \"4\": 23, \"0\": 109, \"8\": 97, \"13\": 8, \"3\": 47, \"2\": 12, \"14\": 20, \"5\": 24, \"6\": 12, \"15\": 1, \"7\": 5}, \"4\": {\"1\": 113, \"7\": 96, \"3\": 94, \"13\": 83, \"10\": 67, \"11\": 50, \"4\": 87, \"6\": 97, \"2\": 83, \"14\": 83, \"5\": 102, \"15\": 79, \"8\": 66, \"0\": 75, \"9\": 20, \"12\": 5}, \"7\": {\"7\": 243, \"5\": 132, \"0\": 10, \"4\": 86, \"2\": 67, \"1\": 120, \"15\": 247, \"3\": 51, \"6\": 76, \"14\": 44, \"13\": 72, \"8\": 38, \"10\": 12, \"11\": 1, \"9\": 1}, \"10\": {\"14\": 86, \"9\": 86, \"5\": 66, \"8\": 76, \"1\": 55, \"11\": 132, \"6\": 72, \"10\": 155, \"0\": 123, \"3\": 97, \"13\": 71, \"2\": 44, \"4\": 65, \"12\": 42, \"15\": 8, \"7\": 22}}, \"ORACLE.run1_32\": {\"4\": {\"8\": 101, \"2\": 137, \"13\": 107, \"5\": 122, \"11\": 60, \"15\": 50, \"9\": 54, \"0\": 133, \"3\": 63, \"7\": 107, \"14\": 91, \"4\": 168, \"12\": 7}, \"14\": {\"7\": 122, \"3\": 106, \"4\": 113, \"14\": 162, \"11\": 142, \"5\": 117, \"8\": 90, \"2\": 106, \"15\": 37, \"0\": 103, \"9\": 13, \"13\": 89}, \"5\": {\"7\": 125, \"14\": 105, \"3\": 96, \"0\": 119, \"15\": 84, \"5\": 107, \"11\": 99, \"4\": 114, \"13\": 119, \"2\": 99, \"8\": 109, \"12\": 5, \"9\": 19}, \"10\": {\"6\": 206, \"10\": 474, \"12\": 138, \"1\": 346, \"9\": 35, \"2\": 1}, \"13\": {\"0\": 92, \"13\": 132, \"3\": 118, \"2\": 119, \"15\": 97, \"4\": 111, \"5\": 99, \"14\": 83, \"11\": 91, \"7\": 100, \"8\": 138, \"9\": 19, \"12\": 1}, \"9\": {\"9\": 503, \"6\": 54, \"4\": 71, \"2\": 87, \"12\": 340, \"15\": 1, \"10\": 23, \"14\": 9, \"0\": 47, \"13\": 19, \"5\": 14, \"7\": 10, \"8\": 13, \"11\": 6, \"1\": 2, \"3\": 1}, \"6\": {\"6\": 516, \"12\": 206, \"10\": 211, \"1\": 183, \"9\": 81, \"2\": 2, \"14\": 1}, \"3\": {\"11\": 104, \"3\": 207, \"8\": 120, \"15\": 171, \"4\": 69, \"5\": 104, \"14\": 127, \"7\": 84, \"2\": 23, \"13\": 130, \"0\": 60, \"9\": 1}, \"15\": {\"3\": 170, \"8\": 144, \"15\": 374, \"4\": 61, \"11\": 53, \"13\": 133, \"5\": 93, \"0\": 58, \"2\": 34, \"7\": 33, \"9\": 8, \"14\": 39}, \"7\": {\"8\": 72, \"5\": 122, \"4\": 114, \"13\": 99, \"3\": 108, \"7\": 126, \"2\": 118, \"0\": 113, \"11\": 125, \"14\": 134, \"9\": 21, \"15\": 48}, \"12\": {\"9\": 330, \"6\": 138, \"10\": 159, \"12\": 515, \"2\": 19, \"4\": 6, \"1\": 18, \"8\": 2, \"0\": 6, \"11\": 1, \"5\": 3, \"14\": 1, \"7\": 1, \"13\": 1}, \"8\": {\"15\": 127, \"7\": 99, \"11\": 68, \"4\": 108, \"3\": 133, \"14\": 77, \"2\": 87, \"9\": 25, \"13\": 130, \"5\": 110, \"0\": 111, \"8\": 124, \"12\": 1}, \"11\": {\"14\": 174, \"8\": 76, \"3\": 142, \"0\": 108, \"2\": 74, \"4\": 70, \"13\": 88, \"11\": 190, \"15\": 48, \"7\": 128, \"5\": 101, \"9\": 1}, \"2\": {\"2\": 226, \"9\": 138, \"0\": 147, \"7\": 94, \"8\": 76, \"14\": 81, \"4\": 173, \"5\": 72, \"13\": 71, \"3\": 25, \"12\": 17, \"11\": 56, \"15\": 24}, \"1\": {\"1\": 644, \"10\": 350, \"6\": 171, \"12\": 30, \"9\": 5}, \"0\": {\"2\": 162, \"8\": 100, \"4\": 138, \"7\": 114, \"0\": 163, \"5\": 97, \"15\": 42, \"13\": 88, \"14\": 91, \"11\": 85, \"9\": 42, \"3\": 68, \"12\": 9, \"6\": 1}}, \"ORACLE.run1_44\": {\"8\": {\"15\": 195, \"0\": 292, \"8\": 348, \"5\": 201, \"14\": 84, \"4\": 65, \"11\": 3, \"7\": 4, \"9\": 4, \"13\": 3, \"3\": 1}, \"11\": {\"13\": 201, \"7\": 126, \"11\": 242, \"2\": 84, \"6\": 159, \"9\": 125, \"5\": 11, \"14\": 43, \"4\": 57, \"1\": 36, \"10\": 39, \"3\": 41, \"12\": 23, \"15\": 12, \"0\": 1}, \"14\": {\"14\": 240, \"15\": 178, \"13\": 58, \"4\": 216, \"8\": 80, \"11\": 43, \"0\": 125, \"7\": 22, \"3\": 14, \"5\": 146, \"9\": 47, \"6\": 20, \"12\": 3, \"1\": 6, \"10\": 1, \"2\": 1}, \"10\": {\"7\": 92, \"2\": 168, \"12\": 254, \"10\": 237, \"1\": 184, \"9\": 52, \"3\": 106, \"6\": 46, \"11\": 29, \"13\": 30, \"4\": 2}, \"3\": {\"1\": 170, \"7\": 120, \"10\": 130, \"2\": 123, \"6\": 40, \"12\": 151, \"15\": 8, \"9\": 97, \"3\": 217, \"13\": 56, \"11\": 38, \"4\": 27, \"14\": 19, \"0\": 3, \"5\": 1}, \"15\": {\"4\": 144, \"14\": 180, \"5\": 185, \"0\": 196, \"15\": 244, \"8\": 175, \"6\": 7, \"3\": 16, \"13\": 22, \"9\": 15, \"7\": 5, \"11\": 7, \"10\": 1, \"1\": 2, \"2\": 1}, \"2\": {\"9\": 105, \"6\": 101, \"3\": 108, \"1\": 133, \"2\": 139, \"11\": 61, \"10\": 161, \"7\": 154, \"12\": 132, \"13\": 81, \"4\": 11, \"14\": 11, \"8\": 1, \"15\": 2}, \"12\": {\"12\": 280, \"10\": 222, \"1\": 224, \"6\": 36, \"9\": 60, \"2\": 123, \"3\": 150, \"7\": 76, \"4\": 2, \"13\": 13, \"11\": 14}, \"4\": {\"4\": 242, \"3\": 19, \"14\": 235, \"13\": 87, \"15\": 121, \"10\": 3, \"5\": 136, \"6\": 44, \"11\": 61, \"0\": 76, \"9\": 81, \"7\": 33, \"8\": 39, \"2\": 8, \"1\": 13, \"12\": 2}, \"1\": {\"1\": 193, \"2\": 134, \"12\": 249, \"7\": 113, \"6\": 31, \"9\": 59, \"10\": 197, \"3\": 159, \"14\": 7, \"11\": 19, \"13\": 30, \"4\": 7, \"0\": 1, \"15\": 1}, \"0\": {\"0\": 258, \"15\": 190, \"14\": 128, \"8\": 278, \"5\": 247, \"4\": 86, \"11\": 4, \"3\": 2, \"6\": 1, \"7\": 2, \"9\": 3, \"13\": 1}, \"9\": {\"13\": 166, \"11\": 138, \"12\": 52, \"3\": 86, \"6\": 118, \"2\": 112, \"7\": 112, \"9\": 163, \"10\": 56, \"5\": 11, \"15\": 14, \"1\": 54, \"4\": 65, \"0\": 4, \"14\": 46, \"8\": 3}, \"5\": {\"0\": 208, \"15\": 177, \"4\": 142, \"8\": 179, \"9\": 11, \"5\": 292, \"6\": 8, \"14\": 145, \"13\": 17, \"12\": 2, \"7\": 1, \"11\": 11, \"1\": 2, \"3\": 3, \"2\": 2}, \"6\": {\"11\": 168, \"2\": 128, \"7\": 129, \"6\": 176, \"10\": 59, \"3\": 50, \"12\": 35, \"14\": 33, \"4\": 49, \"1\": 57, \"15\": 7, \"13\": 159, \"9\": 143, \"8\": 1, \"5\": 4, \"0\": 2}, \"7\": {\"2\": 150, \"11\": 106, \"12\": 76, \"6\": 113, \"10\": 103, \"13\": 96, \"9\": 132, \"1\": 107, \"4\": 34, \"7\": 146, \"14\": 20, \"3\": 108, \"8\": 2, \"5\": 1, \"15\": 6}, \"13\": {\"4\": 107, \"13\": 191, \"3\": 45, \"6\": 144, \"5\": 34, \"7\": 106, \"10\": 36, \"2\": 65, \"11\": 181, \"1\": 31, \"9\": 157, \"14\": 60, \"8\": 2, \"12\": 18, \"0\": 8, \"15\": 15}}, \"ORACLE.run1_8\": {\"13\": {\"13\": 86, \"0\": 79, \"2\": 62, \"14\": 93, \"1\": 89, \"4\": 105, \"7\": 86, \"8\": 76, \"6\": 83, \"11\": 72, \"10\": 91, \"5\": 96, \"3\": 47, \"12\": 39, \"15\": 57, \"9\": 39}, \"3\": {\"12\": 155, \"15\": 143, \"7\": 99, \"3\": 215, \"10\": 27, \"5\": 14, \"0\": 55, \"2\": 168, \"8\": 85, \"14\": 27, \"6\": 64, \"4\": 42, \"1\": 34, \"11\": 28, \"13\": 44}, \"15\": {\"8\": 109, \"10\": 45, \"15\": 142, \"13\": 57, \"12\": 148, \"7\": 78, \"2\": 124, \"0\": 54, \"11\": 52, \"1\": 69, \"6\": 77, \"5\": 21, \"3\": 143, \"14\": 36, \"4\": 45}, \"4\": {\"8\": 82, \"1\": 95, \"13\": 101, \"5\": 72, \"2\": 67, \"11\": 102, \"14\": 81, \"4\": 95, \"6\": 83, \"12\": 52, \"3\": 47, \"15\": 50, \"0\": 84, \"10\": 80, \"7\": 84, \"9\": 25}, \"7\": {\"10\": 80, \"1\": 69, \"2\": 106, \"3\": 87, \"0\": 91, \"15\": 91, \"4\": 70, \"7\": 100, \"13\": 87, \"11\": 59, \"6\": 74, \"12\": 83, \"8\": 75, \"14\": 60, \"5\": 59, \"9\": 9}, \"2\": {\"4\": 55, \"3\": 181, \"15\": 125, \"12\": 122, \"2\": 163, \"13\": 67, \"6\": 73, \"7\": 101, \"14\": 41, \"10\": 44, \"1\": 26, \"8\": 79, \"5\": 25, \"0\": 77, \"11\": 18, \"9\": 3}, \"1\": {\"10\": 104, \"14\": 84, \"4\": 81, \"5\": 123, \"0\": 69, \"2\": 38, \"12\": 31, \"6\": 79, \"1\": 127, \"3\": 30, \"11\": 137, \"15\": 50, \"13\": 75, \"7\": 77, \"8\": 63, \"9\": 32}, \"0\": {\"11\": 74, \"6\": 77, \"10\": 79, \"12\": 59, \"7\": 93, \"0\": 93, \"5\": 79, \"3\": 67, \"14\": 87, \"8\": 55, \"13\": 123, \"1\": 67, \"15\": 58, \"4\": 75, \"2\": 84, \"9\": 30}, \"12\": {\"3\": 159, \"15\": 148, \"10\": 33, \"7\": 98, \"12\": 181, \"8\": 94, \"11\": 52, \"4\": 43, \"2\": 137, \"13\": 47, \"6\": 70, \"14\": 40, \"5\": 22, \"0\": 39, \"1\": 37}, \"6\": {\"12\": 60, \"4\": 77, \"5\": 83, \"6\": 92, \"8\": 87, \"3\": 64, \"1\": 68, \"13\": 100, \"10\": 81, \"11\": 78, \"7\": 94, \"2\": 75, \"0\": 62, \"9\": 15, \"14\": 93, \"15\": 71}, \"11\": {\"13\": 63, \"14\": 98, \"10\": 78, \"15\": 68, \"12\": 48, \"5\": 98, \"7\": 65, \"0\": 61, \"8\": 102, \"11\": 124, \"6\": 79, \"1\": 153, \"4\": 91, \"3\": 31, \"9\": 16, \"2\": 25}, \"9\": {\"9\": 683, \"13\": 61, \"0\": 52, \"14\": 54, \"5\": 118, \"7\": 20, \"4\": 34, \"6\": 28, \"1\": 29, \"10\": 76, \"11\": 26, \"2\": 8, \"15\": 2, \"8\": 5, \"12\": 3, \"3\": 1}, \"5\": {\"5\": 164, \"9\": 76, \"10\": 104, \"1\": 125, \"13\": 83, \"14\": 99, \"11\": 112, \"0\": 81, \"15\": 31, \"8\": 58, \"3\": 16, \"6\": 67, \"7\": 56, \"4\": 84, \"2\": 22, \"12\": 22}, \"10\": {\"10\": 112, \"5\": 119, \"14\": 98, \"13\": 93, \"11\": 86, \"2\": 52, \"9\": 59, \"1\": 92, \"4\": 98, \"15\": 42, \"8\": 48, \"7\": 71, \"0\": 102, \"6\": 68, \"3\": 30, \"12\": 30}, \"14\": {\"13\": 79, \"1\": 101, \"12\": 43, \"6\": 77, \"5\": 122, \"14\": 94, \"2\": 58, \"4\": 94, \"8\": 66, \"3\": 43, \"7\": 66, \"11\": 112, \"10\": 91, \"0\": 88, \"9\": 35, \"15\": 31}, \"8\": {\"1\": 76, \"6\": 76, \"2\": 98, \"11\": 88, \"4\": 65, \"8\": 117, \"3\": 107, \"14\": 59, \"12\": 118, \"15\": 108, \"0\": 53, \"10\": 59, \"13\": 59, \"5\": 60, \"7\": 54, \"9\": 3}}, \"ORACLE.run1_20\": {\"6\": {\"7\": 75, \"9\": 62, \"10\": 121, \"14\": 145, \"8\": 92, \"6\": 125, \"11\": 97, \"12\": 54, \"2\": 71, \"15\": 39, \"3\": 65, \"5\": 43, \"4\": 84, \"13\": 50, \"1\": 40, \"0\": 37}, \"11\": {\"14\": 76, \"6\": 109, \"11\": 182, \"0\": 41, \"9\": 93, \"13\": 60, \"10\": 78, \"12\": 77, \"8\": 65, \"2\": 74, \"5\": 35, \"15\": 58, \"4\": 44, \"1\": 51, \"7\": 94, \"3\": 63}, \"5\": {\"5\": 101, \"0\": 90, \"11\": 46, \"15\": 91, \"7\": 61, \"1\": 108, \"13\": 92, \"4\": 77, \"3\": 74, \"8\": 62, \"2\": 75, \"9\": 72, \"14\": 54, \"10\": 61, \"12\": 81, \"6\": 55}, \"14\": {\"10\": 140, \"11\": 94, \"9\": 58, \"4\": 98, \"8\": 98, \"3\": 37, \"5\": 45, \"7\": 75, \"1\": 56, \"6\": 144, \"2\": 66, \"12\": 39, \"14\": 152, \"0\": 35, \"15\": 25, \"13\": 38}, \"2\": {\"14\": 64, \"10\": 73, \"15\": 87, \"4\": 65, \"0\": 86, \"7\": 81, \"12\": 72, \"5\": 80, \"8\": 63, \"2\": 80, \"9\": 79, \"11\": 81, \"13\": 88, \"6\": 60, \"1\": 68, \"3\": 73}, \"7\": {\"5\": 64, \"8\": 73, \"15\": 58, \"4\": 72, \"10\": 88, \"2\": 86, \"12\": 67, \"11\": 95, \"14\": 78, \"6\": 93, \"7\": 72, \"9\": 70, \"0\": 70, \"1\": 66, \"3\": 79, \"13\": 69}, \"3\": {\"3\": 73, \"13\": 86, \"11\": 62, \"1\": 74, \"5\": 75, \"9\": 80, \"8\": 82, \"10\": 60, \"0\": 81, \"4\": 80, \"7\": 77, \"6\": 64, \"2\": 82, \"15\": 72, \"14\": 65, \"12\": 87}, \"4\": {\"1\": 65, \"0\": 78, \"15\": 60, \"4\": 103, \"11\": 57, \"5\": 86, \"3\": 73, \"10\": 101, \"14\": 87, \"8\": 81, \"2\": 58, \"12\": 75, \"9\": 71, \"6\": 72, \"13\": 53, \"7\": 80}, \"9\": {\"7\": 84, \"9\": 94, \"6\": 69, \"4\": 64, \"5\": 67, \"10\": 66, \"2\": 89, \"14\": 44, \"11\": 101, \"0\": 79, \"1\": 78, \"8\": 66, \"3\": 84, \"12\": 70, \"15\": 74, \"13\": 71}, \"12\": {\"8\": 76, \"9\": 96, \"6\": 55, \"4\": 75, \"5\": 90, \"7\": 78, \"15\": 92, \"13\": 87, \"11\": 64, \"12\": 76, \"10\": 45, \"3\": 70, \"0\": 85, \"1\": 98, \"2\": 68, \"14\": 45}, \"0\": {\"1\": 91, \"10\": 52, \"12\": 93, \"13\": 75, \"8\": 61, \"3\": 77, \"0\": 114, \"4\": 75, \"15\": 98, \"14\": 43, \"7\": 67, \"11\": 43, \"9\": 85, \"5\": 113, \"2\": 65, \"6\": 48}, \"10\": {\"11\": 69, \"5\": 54, \"15\": 28, \"13\": 54, \"9\": 48, \"8\": 98, \"0\": 50, \"14\": 138, \"3\": 63, \"4\": 83, \"6\": 148, \"2\": 66, \"7\": 92, \"12\": 50, \"10\": 99, \"1\": 60}, \"8\": {\"9\": 68, \"5\": 73, \"4\": 100, \"7\": 67, \"0\": 71, \"3\": 70, \"14\": 107, \"13\": 61, \"11\": 57, \"2\": 67, \"6\": 89, \"10\": 108, \"8\": 89, \"12\": 63, \"1\": 57, \"15\": 53}, \"13\": {\"10\": 52, \"13\": 84, \"3\": 77, \"8\": 62, \"9\": 84, \"6\": 52, \"15\": 84, \"0\": 89, \"4\": 50, \"7\": 89, \"11\": 88, \"2\": 75, \"12\": 78, \"5\": 89, \"1\": 103, \"14\": 44}, \"1\": {\"13\": 81, \"10\": 42, \"1\": 103, \"15\": 119, \"5\": 86, \"12\": 102, \"7\": 83, \"4\": 73, \"14\": 56, \"11\": 56, \"2\": 81, \"3\": 62, \"0\": 105, \"9\": 63, \"8\": 57, \"6\": 31}, \"15\": {\"6\": 30, \"0\": 98, \"7\": 61, \"10\": 37, \"1\": 102, \"8\": 53, \"9\": 94, \"3\": 90, \"12\": 82, \"5\": 90, \"4\": 62, \"11\": 50, \"14\": 42, \"13\": 94, \"15\": 137, \"2\": 78}}, \"ORACLE.run1_38\": {\"3\": {\"3\": 431, \"4\": 15, \"12\": 6, \"9\": 222, \"5\": 80, \"6\": 148, \"7\": 114, \"0\": 86, \"8\": 44, \"13\": 9, \"15\": 17, \"1\": 10, \"10\": 17, \"2\": 1}, \"8\": {\"0\": 114, \"5\": 107, \"8\": 127, \"7\": 100, \"15\": 88, \"12\": 55, \"2\": 24, \"1\": 77, \"4\": 41, \"6\": 89, \"11\": 39, \"10\": 98, \"9\": 67, \"13\": 85, \"3\": 52, \"14\": 37}, \"0\": {\"3\": 113, \"5\": 114, \"9\": 100, \"8\": 102, \"7\": 157, \"0\": 130, \"6\": 96, \"2\": 19, \"13\": 34, \"4\": 65, \"12\": 58, \"10\": 81, \"11\": 22, \"14\": 22, \"1\": 36, \"15\": 51}, \"2\": {\"15\": 98, \"2\": 289, \"5\": 31, \"11\": 182, \"14\": 203, \"13\": 133, \"1\": 95, \"7\": 9, \"10\": 84, \"0\": 13, \"12\": 23, \"8\": 24, \"6\": 8, \"9\": 3, \"4\": 4, \"3\": 1}, \"4\": {\"4\": 416, \"8\": 63, \"12\": 273, \"0\": 71, \"10\": 69, \"3\": 19, \"11\": 54, \"5\": 38, \"7\": 111, \"14\": 40, \"13\": 11, \"6\": 11, \"15\": 13, \"1\": 4, \"9\": 3, \"2\": 4}, \"7\": {\"8\": 114, \"0\": 143, \"6\": 92, \"13\": 23, \"4\": 85, \"9\": 83, \"7\": 199, \"3\": 126, \"5\": 121, \"10\": 62, \"12\": 53, \"15\": 51, \"14\": 12, \"11\": 7, \"1\": 23, \"2\": 6}, \"12\": {\"4\": 246, \"12\": 322, \"11\": 111, \"10\": 93, \"3\": 15, \"14\": 101, \"5\": 34, \"8\": 64, \"7\": 58, \"1\": 10, \"0\": 57, \"2\": 26, \"13\": 19, \"15\": 33, \"9\": 7, \"6\": 4}, \"6\": {\"8\": 88, \"7\": 98, \"9\": 190, \"5\": 116, \"3\": 161, \"2\": 7, \"6\": 199, \"13\": 44, \"0\": 89, \"15\": 58, \"14\": 8, \"1\": 82, \"10\": 41, \"11\": 4, \"4\": 6, \"12\": 9}, \"15\": {\"1\": 159, \"15\": 155, \"13\": 122, \"14\": 76, \"6\": 61, \"2\": 122, \"5\": 71, \"11\": 49, \"9\": 44, \"0\": 54, \"7\": 44, \"8\": 93, \"10\": 90, \"12\": 34, \"3\": 9, \"4\": 17}, \"11\": {\"13\": 65, \"15\": 70, \"14\": 272, \"8\": 32, \"11\": 311, \"12\": 85, \"4\": 38, \"2\": 155, \"10\": 91, \"1\": 33, \"9\": 1, \"0\": 19, \"5\": 14, \"7\": 10, \"6\": 4}, \"9\": {\"10\": 28, \"8\": 57, \"6\": 183, \"9\": 286, \"5\": 92, \"7\": 103, \"3\": 249, \"0\": 71, \"1\": 53, \"13\": 35, \"15\": 23, \"4\": 6, \"12\": 3, \"11\": 2, \"14\": 3, \"2\": 6}, \"14\": {\"14\": 272, \"15\": 73, \"11\": 264, \"12\": 112, \"10\": 98, \"3\": 1, \"2\": 156, \"0\": 27, \"7\": 8, \"1\": 41, \"8\": 35, \"13\": 60, \"4\": 29, \"6\": 3, \"5\": 19, \"9\": 2}, \"10\": {\"0\": 99, \"10\": 122, \"15\": 82, \"12\": 88, \"1\": 81, \"14\": 95, \"4\": 57, \"6\": 46, \"11\": 85, \"13\": 78, \"8\": 90, \"7\": 86, \"2\": 77, \"9\": 27, \"5\": 73, \"3\": 14}, \"5\": {\"13\": 74, \"7\": 112, \"6\": 107, \"15\": 80, \"0\": 127, \"3\": 98, \"1\": 77, \"5\": 125, \"9\": 112, \"12\": 34, \"11\": 16, \"8\": 101, \"4\": 39, \"2\": 21, \"14\": 28, \"10\": 49}, \"1\": {\"7\": 25, \"1\": 195, \"15\": 149, \"6\": 75, \"2\": 106, \"5\": 83, \"9\": 66, \"10\": 82, \"8\": 83, \"12\": 19, \"11\": 38, \"13\": 156, \"0\": 62, \"14\": 34, \"4\": 4, \"3\": 23}, \"13\": {\"1\": 150, \"15\": 146, \"8\": 83, \"7\": 25, \"13\": 155, \"14\": 70, \"2\": 152, \"5\": 67, \"11\": 71, \"6\": 43, \"0\": 48, \"10\": 95, \"9\": 42, \"12\": 28, \"3\": 12, \"4\": 13}}, \"ORACLE.run1_26\": {\"5\": {\"13\": 96, \"3\": 108, \"7\": 92, \"11\": 36, \"8\": 69, \"6\": 79, \"2\": 116, \"4\": 59, \"0\": 62, \"15\": 88, \"10\": 64, \"5\": 103, \"9\": 92, \"12\": 41, \"14\": 47, \"1\": 48}, \"8\": {\"13\": 72, \"10\": 76, \"15\": 92, \"12\": 57, \"4\": 86, \"7\": 82, \"6\": 79, \"1\": 90, \"2\": 87, \"14\": 90, \"9\": 65, \"5\": 57, \"3\": 79, \"0\": 94, \"11\": 28, \"8\": 66}, \"4\": {\"3\": 92, \"1\": 98, \"15\": 81, \"5\": 55, \"6\": 64, \"2\": 90, \"13\": 59, \"9\": 76, \"12\": 55, \"14\": 99, \"8\": 73, \"7\": 92, \"0\": 96, \"10\": 72, \"4\": 85, \"11\": 13}, \"12\": {\"6\": 89, \"11\": 236, \"8\": 57, \"12\": 356, \"3\": 9, \"10\": 57, \"9\": 74, \"4\": 30, \"13\": 60, \"5\": 39, \"0\": 47, \"14\": 35, \"15\": 65, \"1\": 16, \"7\": 12, \"2\": 18}, \"6\": {\"11\": 49, \"10\": 91, \"6\": 91, \"12\": 95, \"15\": 72, \"8\": 85, \"14\": 82, \"1\": 74, \"2\": 74, \"5\": 72, \"0\": 81, \"9\": 70, \"4\": 66, \"3\": 54, \"13\": 78, \"7\": 66}, \"7\": {\"3\": 108, \"9\": 68, \"1\": 101, \"0\": 91, \"12\": 28, \"2\": 111, \"5\": 67, \"8\": 82, \"7\": 92, \"15\": 74, \"14\": 77, \"4\": 88, \"6\": 63, \"10\": 79, \"13\": 63, \"11\": 8}, \"10\": {\"4\": 90, \"6\": 92, \"10\": 87, \"0\": 105, \"11\": 39, \"15\": 70, \"2\": 73, \"5\": 45, \"13\": 57, \"1\": 96, \"7\": 64, \"3\": 76, \"14\": 85, \"12\": 63, \"8\": 91, \"9\": 67}, \"0\": {\"14\": 98, \"9\": 68, \"0\": 80, \"13\": 47, \"15\": 81, \"1\": 89, \"12\": 65, \"3\": 75, \"4\": 93, \"5\": 44, \"2\": 77, \"7\": 90, \"6\": 102, \"8\": 85, \"10\": 83, \"11\": 23}, \"15\": {\"11\": 46, \"10\": 88, \"14\": 73, \"6\": 79, \"15\": 91, \"5\": 85, \"13\": 65, \"12\": 65, \"4\": 74, \"3\": 67, \"2\": 82, \"9\": 83, \"0\": 84, \"8\": 78, \"7\": 74, \"1\": 66}, \"9\": {\"9\": 80, \"12\": 75, \"5\": 83, \"3\": 75, \"11\": 41, \"15\": 85, \"14\": 72, \"7\": 82, \"2\": 90, \"4\": 59, \"6\": 75, \"13\": 99, \"10\": 74, \"0\": 67, \"1\": 66, \"8\": 77}, \"11\": {\"11\": 464, \"12\": 274, \"6\": 71, \"0\": 13, \"15\": 53, \"13\": 98, \"3\": 5, \"5\": 38, \"10\": 35, \"9\": 56, \"1\": 13, \"4\": 11, \"8\": 23, \"7\": 13, \"14\": 21, \"2\": 12}, \"14\": {\"13\": 37, \"8\": 98, \"4\": 94, \"1\": 96, \"7\": 88, \"15\": 67, \"0\": 96, \"10\": 82, \"3\": 91, \"9\": 75, \"5\": 62, \"2\": 74, \"14\": 98, \"12\": 56, \"6\": 72, \"11\": 14}, \"2\": {\"7\": 105, \"15\": 64, \"5\": 90, \"8\": 73, \"1\": 90, \"2\": 125, \"13\": 62, \"10\": 66, \"3\": 149, \"6\": 69, \"9\": 71, \"12\": 24, \"4\": 67, \"0\": 73, \"14\": 60, \"11\": 12}, \"13\": {\"5\": 114, \"0\": 58, \"1\": 54, \"7\": 61, \"9\": 102, \"15\": 90, \"2\": 82, \"14\": 52, \"13\": 112, \"4\": 47, \"3\": 93, \"11\": 64, \"12\": 71, \"6\": 73, \"8\": 70, \"10\": 57}, \"3\": {\"6\": 66, \"7\": 98, \"13\": 51, \"1\": 81, \"5\": 89, \"0\": 72, \"3\": 154, \"4\": 98, \"2\": 110, \"15\": 72, \"14\": 92, \"12\": 20, \"8\": 66, \"10\": 61, \"11\": 9, \"9\": 61}, \"1\": {\"2\": 101, \"9\": 67, \"0\": 99, \"13\": 48, \"15\": 61, \"10\": 84, \"14\": 100, \"5\": 54, \"4\": 111, \"3\": 91, \"1\": 91, \"6\": 82, \"7\": 85, \"8\": 78, \"12\": 36, \"11\": 12}}}, \"per_domain_accuracy\": {\"CORES_4\": {\"accuracy\": 0.9994318181818181, \"source?\": true}, \"CORES_2\": {\"accuracy\": 0.9994733146067416, \"source?\": true}, \"CORES_3\": {\"accuracy\": 0.9994419642857143, \"source?\": true}, \"CORES_1\": {\"accuracy\": 0.9994932432432433, \"source?\": true}, \"CORES_5\": {\"accuracy\": 0.9998254189944135, \"source?\": true}, \"ORACLE.run1_50\": {\"accuracy\": 0.17239583333333333, \"source?\": false}, \"ORACLE.run1_14\": {\"accuracy\": 0.15864583333333335, \"source?\": false}, \"ORACLE.run1_32\": {\"accuracy\": 0.24119791666666668, \"source?\": false}, \"ORACLE.run1_44\": {\"accuracy\": 0.18791666666666668, \"source?\": false}, \"ORACLE.run1_8\": {\"accuracy\": 0.13479166666666667, \"source?\": false}, \"ORACLE.run1_20\": {\"accuracy\": 0.08770833333333333, \"source?\": false}, \"ORACLE.run1_38\": {\"accuracy\": 0.19447916666666668, \"source?\": false}, \"ORACLE.run1_26\": {\"accuracy\": 0.11328125, \"source?\": false}}}, \"history\": {\"epoch_indices\": [1, 2, 3, 4, 5, 6, 7, 8, 9], \"train_label_loss\": [0.026504711236010597, 0.007098113348027119, 0.004560621920442269, 0.003957106692929265, 0.0037943093920359957, 0.0029223428474915783, 0.002524006302431579, 0.0024185182405667967, 0.002670037769330327], \"source_val_label_loss\": [0.006579089444130659, 0.0059143793769180775, 0.006435403134673834, 0.008138833567500114, 0.0045052641071379185, 0.009600399062037468, 0.006025883834809065, 0.004850390832871199, 0.008466703817248344], \"target_val_label_loss\": [2.7334554195404053, 3.1739001274108887, 3.7274515628814697, 3.906759023666382, 3.595980644226074, 3.9219820499420166, 4.045125484466553, 4.62949800491333, 4.412772178649902], \"source_val_acc_label\": [0.9985, 0.9993214285714286, 0.9992142857142857, 0.9990357142857142, 0.9995357142857143, 0.999, 0.9995714285714286, 0.9996071428571428, 0.9993571428571428], \"target_val_acc_label\": [0.14212239583333333, 0.14293619791666667, 0.16073567708333333, 0.14498046875, 0.16130208333333335, 0.156328125, 0.15240234375, 0.14589192708333334, 0.14354817708333334]}, \"dataset_metrics\": {\"source\": {\"train\": {\"n_unique_x\": 175193, \"n_unique_y\": 58, \"n_batch/episode\": 6309}, \"val\": {\"n_unique_x\": 37166, \"n_unique_y\": 58, \"n_batch/episode\": 875}, \"test\": {\"n_unique_x\": 37642, \"n_unique_y\": 58, \"n_batch/episode\": 890}}, \"target\": {\"train\": {\"n_unique_x\": 896000, \"n_unique_y\": 16, \"n_batch/episode\": 33600}, \"val\": {\"n_unique_x\": 192000, \"n_unique_y\": 16, \"n_batch/episode\": 4800}, \"test\": {\"n_unique_x\": 192000, \"n_unique_y\": 16, \"n_batch/episode\": 4800}}}}'"
      ]
     },
     "execution_count": 29,
     "metadata": {},
     "output_type": "execute_result"
    }
   ],
   "source": [
    "json.dumps(experiment)"
   ]
  }
 ],
 "metadata": {
  "celltoolbar": "Tags",
  "kernelspec": {
   "display_name": "Python 3 (ipykernel)",
   "language": "python",
   "name": "python3"
  },
  "language_info": {
   "codemirror_mode": {
    "name": "ipython",
    "version": 3
   },
   "file_extension": ".py",
   "mimetype": "text/x-python",
   "name": "python",
   "nbconvert_exporter": "python",
   "pygments_lexer": "ipython3",
   "version": "3.8.12"
  },
  "papermill": {
   "default_parameters": {},
   "duration": 3070.159901,
   "end_time": "2022-03-23T08:49:36.643861",
   "environment_variables": {},
   "exception": null,
   "input_path": "/root/csc500-main/csc500-notebooks/templates/tl_ptn_template.ipynb",
   "output_path": "trial.ipynb",
   "parameters": {
    "parameters": {
     "BEST_MODEL_PATH": "./best_model.pth",
     "NUM_LOGS_PER_EPOCH": 10,
     "criteria_for_best": "target_accuracy",
     "dataset_seed": 500,
     "datasets": [
      {
       "domain_prefix": "CORES_",
       "domains": [
        1,
        2,
        3,
        4,
        5
       ],
       "episode_transforms": [],
       "labels": [
        "1-10.",
        "1-11.",
        "1-15.",
        "1-16.",
        "1-17.",
        "1-18.",
        "1-19.",
        "10-4.",
        "10-7.",
        "11-1.",
        "11-14.",
        "11-17.",
        "11-20.",
        "11-7.",
        "13-20.",
        "13-8.",
        "14-10.",
        "14-11.",
        "14-14.",
        "14-7.",
        "15-1.",
        "15-20.",
        "16-1.",
        "16-16.",
        "17-10.",
        "17-11.",
        "17-2.",
        "19-1.",
        "19-16.",
        "19-19.",
        "19-20.",
        "19-3.",
        "2-10.",
        "2-11.",
        "2-17.",
        "2-18.",
        "2-20.",
        "2-3.",
        "2-4.",
        "2-5.",
        "2-6.",
        "2-7.",
        "2-8.",
        "3-13.",
        "3-18.",
        "3-3.",
        "4-1.",
        "4-10.",
        "4-11.",
        "4-19.",
        "5-5.",
        "6-15.",
        "7-10.",
        "7-14.",
        "8-18.",
        "8-20.",
        "8-3.",
        "8-8."
       ],
       "num_examples_per_domain_per_label": -1,
       "pickle_path": "/root/csc500-main/datasets/cores.stratified_ds.2022A.pkl",
       "source_or_target_dataset": "source",
       "x_transforms": [
        "unit_mag"
       ]
      },
      {
       "domain_prefix": "ORACLE.run1_",
       "domains": [
        32,
        38,
        8,
        44,
        14,
        50,
        20,
        26
       ],
       "episode_transforms": [],
       "labels": [
        "3123D52",
        "3123D65",
        "3123D79",
        "3123D80",
        "3123D54",
        "3123D70",
        "3123D7B",
        "3123D89",
        "3123D58",
        "3123D76",
        "3123D7D",
        "3123EFE",
        "3123D64",
        "3123D78",
        "3123D7E",
        "3124E4A"
       ],
       "num_examples_per_domain_per_label": 10000,
       "pickle_path": "/root/csc500-main/datasets/oracle.Run1_10kExamples_stratified_ds.2022A.pkl",
       "source_or_target_dataset": "target",
       "x_transforms": [
        "unit_mag"
       ]
      }
     ],
     "device": "cuda",
     "experiment_name": "tl_1v2:cores-oracle.run1",
     "lr": 0.0001,
     "n_epoch": 50,
     "n_query": 2,
     "n_shot": 3,
     "n_way": 16,
     "patience": 3,
     "seed": 500,
     "test_k_factor": 2,
     "torch_default_dtype": "torch.float32",
     "train_k_factor": 3,
     "val_k_factor": 2,
     "x_net": [
      {
       "class": "nnReshape",
       "kargs": {
        "shape": [
         -1,
         1,
         2,
         256
        ]
       }
      },
      {
       "class": "Conv2d",
       "kargs": {
        "bias": false,
        "in_channels": 1,
        "kernel_size": [
         1,
         7
        ],
        "out_channels": 256,
        "padding": [
         0,
         3
        ]
       }
      },
      {
       "class": "ReLU",
       "kargs": {
        "inplace": true
       }
      },
      {
       "class": "BatchNorm2d",
       "kargs": {
        "num_features": 256
       }
      },
      {
       "class": "Conv2d",
       "kargs": {
        "bias": true,
        "in_channels": 256,
        "kernel_size": [
         2,
         7
        ],
        "out_channels": 80,
        "padding": [
         0,
         3
        ]
       }
      },
      {
       "class": "ReLU",
       "kargs": {
        "inplace": true
       }
      },
      {
       "class": "BatchNorm2d",
       "kargs": {
        "num_features": 80
       }
      },
      {
       "class": "Flatten",
       "kargs": {}
      },
      {
       "class": "Linear",
       "kargs": {
        "in_features": 20480,
        "out_features": 256
       }
      },
      {
       "class": "ReLU",
       "kargs": {
        "inplace": true
       }
      },
      {
       "class": "BatchNorm1d",
       "kargs": {
        "num_features": 256
       }
      },
      {
       "class": "Linear",
       "kargs": {
        "in_features": 256,
        "out_features": 256
       }
      }
     ]
    }
   },
   "start_time": "2022-03-23T07:58:26.483960",
   "version": "2.3.4"
  }
 },
 "nbformat": 4,
 "nbformat_minor": 5
}